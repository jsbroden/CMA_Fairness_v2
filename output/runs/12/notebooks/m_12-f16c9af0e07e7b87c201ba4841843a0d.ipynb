{
 "cells": [
  {
   "cell_type": "code",
   "execution_count": 1,
   "id": "f159f837-637b-42ba-96b5-ec9a68c44524",
   "metadata": {
    "execution": {
     "iopub.execute_input": "2025-07-30T13:20:04.205797Z",
     "iopub.status.busy": "2025-07-30T13:20:04.205416Z",
     "iopub.status.idle": "2025-07-30T13:20:04.218477Z",
     "shell.execute_reply": "2025-07-30T13:20:04.217525Z"
    },
    "papermill": {
     "duration": 0.03459,
     "end_time": "2025-07-30T13:20:04.220045",
     "exception": false,
     "start_time": "2025-07-30T13:20:04.185455",
     "status": "completed"
    },
    "tags": []
   },
   "outputs": [
    {
     "name": "stdout",
     "output_type": "stream",
     "text": [
      "/dss/dsshome1/0C/ra93lal2/cma/CMA_Fairness_v2\n"
     ]
    },
    {
     "name": "stderr",
     "output_type": "stream",
     "text": [
      "/dss/dsshome1/0C/ra93lal2/.local/share/virtualenvs/CMA_Fairness_v2-3j10GkSs/lib/python3.10/site-packages/IPython/core/magics/osm.py:393: UserWarning: This is now an optional IPython functionality, using bookmarks requires you to install the `pickleshare` library.\n",
      "  bkms = self.shell.db.get('bookmarks', {})\n",
      "/dss/dsshome1/0C/ra93lal2/.local/share/virtualenvs/CMA_Fairness_v2-3j10GkSs/lib/python3.10/site-packages/IPython/core/magics/osm.py:417: UserWarning: This is now an optional IPython functionality, setting dhist requires you to install the `pickleshare` library.\n",
      "  self.shell.db['dhist'] = compress_dhist(dhist)[-100:]\n"
     ]
    }
   ],
   "source": [
    "%cd ~/cma/CMA_Fairness_v2"
   ]
  },
  {
   "cell_type": "markdown",
   "id": "de2603b9",
   "metadata": {
    "papermill": {
     "duration": 0.017636,
     "end_time": "2025-07-30T13:20:04.256014",
     "exception": false,
     "start_time": "2025-07-30T13:20:04.238378",
     "status": "completed"
    },
    "tags": []
   },
   "source": [
    "The following cell holds the definition of our parameters, these values can be overriden by rendering the with e.g. the following command:\n",
    "\n",
    "papermill -p alpha 0.2 -p ratio 0.3 universe_analysis.ipynb output/test_run.ipynb"
   ]
  },
  {
   "cell_type": "code",
   "execution_count": 2,
   "id": "a80968a0-40bb-4fa9-85ef-2d5eefb01975",
   "metadata": {
    "execution": {
     "iopub.execute_input": "2025-07-30T13:20:04.293630Z",
     "iopub.status.busy": "2025-07-30T13:20:04.293005Z",
     "iopub.status.idle": "2025-07-30T13:20:04.298961Z",
     "shell.execute_reply": "2025-07-30T13:20:04.298057Z"
    },
    "papermill": {
     "duration": 0.026771,
     "end_time": "2025-07-30T13:20:04.300576",
     "exception": false,
     "start_time": "2025-07-30T13:20:04.273805",
     "status": "completed"
    },
    "tags": []
   },
   "outputs": [
    {
     "name": "stdout",
     "output_type": "stream",
     "text": [
      "Current working directory: /dss/dsshome1/0C/ra93lal2/cma/CMA_Fairness_v2\n"
     ]
    }
   ],
   "source": [
    "import os\n",
    "print(\"Current working directory:\", os.getcwd())"
   ]
  },
  {
   "cell_type": "code",
   "execution_count": 3,
   "id": "2dce4c03",
   "metadata": {
    "execution": {
     "iopub.execute_input": "2025-07-30T13:20:04.338244Z",
     "iopub.status.busy": "2025-07-30T13:20:04.337643Z",
     "iopub.status.idle": "2025-07-30T13:20:04.343757Z",
     "shell.execute_reply": "2025-07-30T13:20:04.342904Z"
    },
    "papermill": {
     "duration": 0.026212,
     "end_time": "2025-07-30T13:20:04.345255",
     "exception": false,
     "start_time": "2025-07-30T13:20:04.319043",
     "status": "completed"
    },
    "tags": [
     "parameters"
    ]
   },
   "outputs": [],
   "source": [
    "run_no = 0\n",
    "universe_id = \"test\"\n",
    "universe = {\n",
    "    \"training_size\": \"25k\", # \"25k\", \"5k\", \"1k\"\n",
    "    \"training_year\": \"2014\", # \"2014\", \"2012_14\", \"2010_14\"\n",
    "    \"scale\": \"scale\", # \"scale\", \"do-not-scale\",\n",
    "    #\"stratify_split\": \"target\", # \"none\", \"target\", \"protected-attribute\", \"both\",\n",
    "    \"model\": \"elasticnet\", # \"logreg\", \"penalized_logreg\", \"rf\", \"gbm\", \"elasticnet\"\n",
    "    \"cutoff\": [\"quantile_0.15\", \"quantile_0.30\"],\n",
    "    \"exclude_features\": \"age\", # \"none\", \"nationality\", \"sex\", \"nationality-sex\", \"age\"\n",
    "    \"exclude_subgroups\": \"keep-all\", # \"keep-all\", \"drop-non-german\"\n",
    "    \"eval_fairness_grouping\": [\"majority-minority\", \"nationality-all\"]\n",
    "}\n",
    "\n",
    "output_dir=\"./output\"\n",
    "seed=0"
   ]
  },
  {
   "cell_type": "code",
   "execution_count": 4,
   "id": "f3bfab53",
   "metadata": {
    "execution": {
     "iopub.execute_input": "2025-07-30T13:20:04.383164Z",
     "iopub.status.busy": "2025-07-30T13:20:04.382557Z",
     "iopub.status.idle": "2025-07-30T13:20:04.387661Z",
     "shell.execute_reply": "2025-07-30T13:20:04.386765Z"
    },
    "papermill": {
     "duration": 0.025629,
     "end_time": "2025-07-30T13:20:04.389118",
     "exception": false,
     "start_time": "2025-07-30T13:20:04.363489",
     "status": "completed"
    },
    "tags": [
     "injected-parameters"
    ]
   },
   "outputs": [],
   "source": [
    "# Parameters\n",
    "universe_id = \"f16c9af0e07e7b87c201ba4841843a0d\"\n",
    "run_no = \"12\"\n",
    "universe = \"{\\\"cutoff\\\": [\\\"quantile_0.1\\\", \\\"quantile_0.25\\\"], \\\"eval_fairness_grouping\\\": [\\\"majority-minority\\\", \\\"nationality-all\\\"], \\\"exclude_features\\\": \\\"age\\\", \\\"exclude_subgroups\\\": \\\"keep-all\\\", \\\"model\\\": \\\"elasticnet\\\", \\\"scale\\\": \\\"do-not-scale\\\", \\\"training_size\\\": \\\"25k\\\", \\\"training_year\\\": \\\"2012_14\\\"}\"\n",
    "output_dir = \"output\"\n",
    "seed = \"2023\"\n"
   ]
  },
  {
   "cell_type": "code",
   "execution_count": 5,
   "id": "1650acaf",
   "metadata": {
    "execution": {
     "iopub.execute_input": "2025-07-30T13:20:04.427227Z",
     "iopub.status.busy": "2025-07-30T13:20:04.426607Z",
     "iopub.status.idle": "2025-07-30T13:20:04.431716Z",
     "shell.execute_reply": "2025-07-30T13:20:04.430872Z"
    },
    "papermill": {
     "duration": 0.025756,
     "end_time": "2025-07-30T13:20:04.433231",
     "exception": false,
     "start_time": "2025-07-30T13:20:04.407475",
     "status": "completed"
    },
    "tags": []
   },
   "outputs": [],
   "source": [
    "import json\n",
    "# Parse universe into dict if it is passed as a string\n",
    "if isinstance(universe, str):\n",
    "    universe = json.loads(universe)"
   ]
  },
  {
   "cell_type": "code",
   "execution_count": 6,
   "id": "16620c48",
   "metadata": {
    "execution": {
     "iopub.execute_input": "2025-07-30T13:20:04.471249Z",
     "iopub.status.busy": "2025-07-30T13:20:04.470644Z",
     "iopub.status.idle": "2025-07-30T13:20:04.512948Z",
     "shell.execute_reply": "2025-07-30T13:20:04.512133Z"
    },
    "papermill": {
     "duration": 0.063185,
     "end_time": "2025-07-30T13:20:04.514727",
     "exception": false,
     "start_time": "2025-07-30T13:20:04.451542",
     "status": "completed"
    },
    "tags": []
   },
   "outputs": [],
   "source": [
    "# Auto-reload the custom package\n",
    "%load_ext autoreload\n",
    "%autoreload 1\n",
    "%aimport fairness_multiverse"
   ]
  },
  {
   "cell_type": "code",
   "execution_count": 7,
   "id": "01c5c9f3",
   "metadata": {
    "execution": {
     "iopub.execute_input": "2025-07-30T13:20:04.553532Z",
     "iopub.status.busy": "2025-07-30T13:20:04.552946Z",
     "iopub.status.idle": "2025-07-30T13:20:06.407162Z",
     "shell.execute_reply": "2025-07-30T13:20:06.406261Z"
    },
    "papermill": {
     "duration": 1.875164,
     "end_time": "2025-07-30T13:20:06.409054",
     "exception": false,
     "start_time": "2025-07-30T13:20:04.533890",
     "status": "completed"
    },
    "tags": []
   },
   "outputs": [],
   "source": [
    "from fairness_multiverse.universe import UniverseAnalysis\n",
    "\n",
    "universe_analysis = UniverseAnalysis(\n",
    "    run_no = run_no,\n",
    "    universe_id = universe_id,\n",
    "    universe = universe,\n",
    "    output_dir=output_dir,\n",
    ")"
   ]
  },
  {
   "cell_type": "code",
   "execution_count": 8,
   "id": "106241f5",
   "metadata": {
    "execution": {
     "iopub.execute_input": "2025-07-30T13:20:06.449173Z",
     "iopub.status.busy": "2025-07-30T13:20:06.448512Z",
     "iopub.status.idle": "2025-07-30T13:20:06.454690Z",
     "shell.execute_reply": "2025-07-30T13:20:06.453818Z"
    },
    "papermill": {
     "duration": 0.02767,
     "end_time": "2025-07-30T13:20:06.456112",
     "exception": false,
     "start_time": "2025-07-30T13:20:06.428442",
     "status": "completed"
    },
    "tags": []
   },
   "outputs": [
    {
     "name": "stdout",
     "output_type": "stream",
     "text": [
      "Using Seed: 2023\n"
     ]
    }
   ],
   "source": [
    "import numpy as np\n",
    "parsed_seed = int(seed)\n",
    "np.random.seed(parsed_seed)\n",
    "print(f\"Using Seed: {parsed_seed}\")"
   ]
  },
  {
   "cell_type": "markdown",
   "id": "e0ebdc57",
   "metadata": {
    "papermill": {
     "duration": 0.017981,
     "end_time": "2025-07-30T13:20:06.492819",
     "exception": false,
     "start_time": "2025-07-30T13:20:06.474838",
     "status": "completed"
    },
    "tags": []
   },
   "source": [
    "# Loading Data"
   ]
  },
  {
   "cell_type": "markdown",
   "id": "681925a3",
   "metadata": {
    "papermill": {
     "duration": 0.018089,
     "end_time": "2025-07-30T13:20:06.528978",
     "exception": false,
     "start_time": "2025-07-30T13:20:06.510889",
     "status": "completed"
    },
    "tags": []
   },
   "source": [
    "Load siab_train, siab_test, siab_calib and/or \n",
    "load siab_train_features, siab_train_labels"
   ]
  },
  {
   "cell_type": "code",
   "execution_count": 9,
   "id": "f0496b8a",
   "metadata": {
    "execution": {
     "iopub.execute_input": "2025-07-30T13:20:06.567219Z",
     "iopub.status.busy": "2025-07-30T13:20:06.566562Z",
     "iopub.status.idle": "2025-07-30T13:20:18.415461Z",
     "shell.execute_reply": "2025-07-30T13:20:18.414412Z"
    },
    "papermill": {
     "duration": 11.869679,
     "end_time": "2025-07-30T13:20:18.417025",
     "exception": false,
     "start_time": "2025-07-30T13:20:06.547346",
     "status": "completed"
    },
    "tags": []
   },
   "outputs": [
    {
     "name": "stdout",
     "output_type": "stream",
     "text": [
      "Loading SIAB data from cache: data/siab_cached.csv.gz\n"
     ]
    },
    {
     "name": "stdout",
     "output_type": "stream",
     "text": [
      "(643690, 164)\n"
     ]
    }
   ],
   "source": [
    "from pathlib import Path\n",
    "import pandas as pd\n",
    "\n",
    "# File paths\n",
    "raw_file = Path(\"data/raw/siab.csv\")\n",
    "cache_file = Path(\"data/siab_cached.csv.gz\")\n",
    "\n",
    "# Ensure cache directory exists\n",
    "cache_file.parent.mkdir(parents=True, exist_ok=True)\n",
    "\n",
    "# Load with simple caching\n",
    "if cache_file.exists():\n",
    "    print(f\"Loading SIAB data from cache: {cache_file}\")\n",
    "    siab = pd.read_csv(cache_file, compression='gzip')\n",
    "else:\n",
    "    print(f\"Cache not found. Reading raw SIAB data: {raw_file}\")\n",
    "    siab = pd.read_csv(raw_file)\n",
    "    siab.to_csv(cache_file, index=False, compression='gzip')\n",
    "    print(f\"Cached SIAB data to: {cache_file}\")\n",
    "\n",
    "# Now use `siab` DataFrame as needed\n",
    "print(siab.shape)"
   ]
  },
  {
   "cell_type": "code",
   "execution_count": 10,
   "id": "db0ca512-5f53-4dba-abdb-a2888bca41ba",
   "metadata": {
    "execution": {
     "iopub.execute_input": "2025-07-30T13:20:18.459506Z",
     "iopub.status.busy": "2025-07-30T13:20:18.459021Z",
     "iopub.status.idle": "2025-07-30T13:20:18.464420Z",
     "shell.execute_reply": "2025-07-30T13:20:18.463400Z"
    },
    "papermill": {
     "duration": 0.026977,
     "end_time": "2025-07-30T13:20:18.465885",
     "exception": false,
     "start_time": "2025-07-30T13:20:18.438908",
     "status": "completed"
    },
    "tags": []
   },
   "outputs": [],
   "source": [
    "#siab"
   ]
  },
  {
   "cell_type": "code",
   "execution_count": 11,
   "id": "a0edb063",
   "metadata": {
    "execution": {
     "iopub.execute_input": "2025-07-30T13:20:18.505942Z",
     "iopub.status.busy": "2025-07-30T13:20:18.505270Z",
     "iopub.status.idle": "2025-07-30T13:20:18.510096Z",
     "shell.execute_reply": "2025-07-30T13:20:18.509196Z"
    },
    "papermill": {
     "duration": 0.026299,
     "end_time": "2025-07-30T13:20:18.511641",
     "exception": false,
     "start_time": "2025-07-30T13:20:18.485342",
     "status": "completed"
    },
    "tags": []
   },
   "outputs": [],
   "source": [
    "#import pandas as pd\n",
    "#\n",
    "#X_train = pd.read_csv(\"./data/X_train.csv\")\n",
    "#y_train = pd.read_csv(\"./data/y_train.csv\")"
   ]
  },
  {
   "cell_type": "code",
   "execution_count": 12,
   "id": "63d08085",
   "metadata": {
    "execution": {
     "iopub.execute_input": "2025-07-30T13:20:18.551683Z",
     "iopub.status.busy": "2025-07-30T13:20:18.550802Z",
     "iopub.status.idle": "2025-07-30T13:20:18.555885Z",
     "shell.execute_reply": "2025-07-30T13:20:18.555013Z"
    },
    "papermill": {
     "duration": 0.02649,
     "end_time": "2025-07-30T13:20:18.557403",
     "exception": false,
     "start_time": "2025-07-30T13:20:18.530913",
     "status": "completed"
    },
    "tags": []
   },
   "outputs": [],
   "source": [
    "#X_test = pd.read_csv(\"./data/X_test.csv\")\n",
    "#y_true = pd.read_csv(\"./data/y_test.csv\")"
   ]
  },
  {
   "cell_type": "code",
   "execution_count": 13,
   "id": "98a8d0fa-1d3d-4ed8-bb2c-281470e24add",
   "metadata": {
    "execution": {
     "iopub.execute_input": "2025-07-30T13:20:18.597060Z",
     "iopub.status.busy": "2025-07-30T13:20:18.596276Z",
     "iopub.status.idle": "2025-07-30T13:20:18.601154Z",
     "shell.execute_reply": "2025-07-30T13:20:18.600268Z"
    },
    "papermill": {
     "duration": 0.026193,
     "end_time": "2025-07-30T13:20:18.602765",
     "exception": false,
     "start_time": "2025-07-30T13:20:18.576572",
     "status": "completed"
    },
    "tags": []
   },
   "outputs": [],
   "source": [
    "# Calibration data for conformal\n",
    "#X_calib = pd.read_csv(\"./data/X_calib.csv\")\n",
    "#y_calib = pd.read_csv(\"./data/y_calib.csv\")"
   ]
  },
  {
   "cell_type": "markdown",
   "id": "997051c5-15bd-4b69-9786-c3001a3ce484",
   "metadata": {
    "papermill": {
     "duration": 0.020448,
     "end_time": "2025-07-30T13:20:18.642323",
     "exception": false,
     "start_time": "2025-07-30T13:20:18.621875",
     "status": "completed"
    },
    "tags": []
   },
   "source": [
    "# Splitting Data and Setting Training Data Size"
   ]
  },
  {
   "cell_type": "code",
   "execution_count": 14,
   "id": "e993b61f-042d-41a6-8c81-f55681f86335",
   "metadata": {
    "execution": {
     "iopub.execute_input": "2025-07-30T13:20:18.681828Z",
     "iopub.status.busy": "2025-07-30T13:20:18.681380Z",
     "iopub.status.idle": "2025-07-30T13:20:18.694835Z",
     "shell.execute_reply": "2025-07-30T13:20:18.693881Z"
    },
    "papermill": {
     "duration": 0.034927,
     "end_time": "2025-07-30T13:20:18.696364",
     "exception": false,
     "start_time": "2025-07-30T13:20:18.661437",
     "status": "completed"
    },
    "tags": []
   },
   "outputs": [],
   "source": [
    "def sample_by_year_size(df,\n",
    "                        training_year: str,\n",
    "                        training_size: str,\n",
    "                        random_state: int = 42):\n",
    "    # --- parse training_year into a list of int years ---\n",
    "    if \"_\" in training_year:\n",
    "        start_str, end_str = training_year.split(\"_\", 1)\n",
    "        start = int(start_str)\n",
    "        end   = int(end_str) if len(end_str) == 4 else (int(end_str) + (start // 100)*100)\n",
    "        years = list(range(start, end + 1))\n",
    "    else:\n",
    "        years = [int(training_year)]\n",
    "\n",
    "    df = df[df[\"year\"].isin(years)].reset_index(drop=True)\n",
    "\n",
    "    # --- map training_size to total number of samples ---\n",
    "    total_map = {\"25k\": 25_000, \"5k\": 5_000, \"1k\": 1_000}\n",
    "    if training_size not in total_map:\n",
    "        return df  # e.g. \"all\"\n",
    "\n",
    "    total_samples = total_map[training_size]\n",
    "    n_years       = len(years)\n",
    "    base          = total_samples // n_years\n",
    "    remainder     = total_samples % n_years\n",
    "\n",
    "    # --- build a dict: year -> how many to sample ---\n",
    "    # give +1 to the first `remainder` years in ascending order\n",
    "    quotas = {\n",
    "        year: base + (1 if idx < remainder else 0)\n",
    "        for idx, year in enumerate(sorted(years))\n",
    "    }\n",
    "\n",
    "    # --- sample per‐year according to the quota dict ---\n",
    "    sampled = (\n",
    "        df\n",
    "        .groupby(\"year\", group_keys=False)\n",
    "        .apply(lambda grp: grp.sample(\n",
    "            n=min(len(grp), quotas[grp.name]),\n",
    "            random_state=random_state))\n",
    "        .reset_index(drop=True)\n",
    "    )\n",
    "\n",
    "    return sampled"
   ]
  },
  {
   "cell_type": "code",
   "execution_count": 15,
   "id": "c0ccd338-0e02-41f3-a09d-f56f9266e3fb",
   "metadata": {
    "execution": {
     "iopub.execute_input": "2025-07-30T13:20:18.736116Z",
     "iopub.status.busy": "2025-07-30T13:20:18.735640Z",
     "iopub.status.idle": "2025-07-30T13:20:18.746478Z",
     "shell.execute_reply": "2025-07-30T13:20:18.745523Z"
    },
    "papermill": {
     "duration": 0.031947,
     "end_time": "2025-07-30T13:20:18.747917",
     "exception": false,
     "start_time": "2025-07-30T13:20:18.715970",
     "status": "completed"
    },
    "tags": []
   },
   "outputs": [
    {
     "data": {
      "text/plain": [
       "'25k'"
      ]
     },
     "execution_count": 15,
     "metadata": {},
     "output_type": "execute_result"
    }
   ],
   "source": [
    "universe[\"training_size\"]"
   ]
  },
  {
   "cell_type": "code",
   "execution_count": 16,
   "id": "ca707fd7-8047-4acd-bfa5-66248fbbf8e6",
   "metadata": {
    "execution": {
     "iopub.execute_input": "2025-07-30T13:20:18.788905Z",
     "iopub.status.busy": "2025-07-30T13:20:18.788460Z",
     "iopub.status.idle": "2025-07-30T13:20:18.795157Z",
     "shell.execute_reply": "2025-07-30T13:20:18.794318Z"
    },
    "papermill": {
     "duration": 0.029177,
     "end_time": "2025-07-30T13:20:18.796706",
     "exception": false,
     "start_time": "2025-07-30T13:20:18.767529",
     "status": "completed"
    },
    "tags": []
   },
   "outputs": [
    {
     "data": {
      "text/plain": [
       "'2012_14'"
      ]
     },
     "execution_count": 16,
     "metadata": {},
     "output_type": "execute_result"
    }
   ],
   "source": [
    "universe[\"training_year\"]"
   ]
  },
  {
   "cell_type": "code",
   "execution_count": 17,
   "id": "aea9c6ef-6f46-42c8-85eb-5a62025c1508",
   "metadata": {
    "execution": {
     "iopub.execute_input": "2025-07-30T13:20:18.839532Z",
     "iopub.status.busy": "2025-07-30T13:20:18.839053Z",
     "iopub.status.idle": "2025-07-30T13:20:19.478231Z",
     "shell.execute_reply": "2025-07-30T13:20:19.477339Z"
    },
    "papermill": {
     "duration": 0.66175,
     "end_time": "2025-07-30T13:20:19.480060",
     "exception": false,
     "start_time": "2025-07-30T13:20:18.818310",
     "status": "completed"
    },
    "tags": []
   },
   "outputs": [],
   "source": [
    "siab_train = sample_by_year_size(siab,\n",
    "                               training_year=universe[\"training_year\"],\n",
    "                               training_size=universe[\"training_size\"])"
   ]
  },
  {
   "cell_type": "code",
   "execution_count": 18,
   "id": "8d3afb32-789d-442c-8d5d-9f5aa8dd2eed",
   "metadata": {
    "execution": {
     "iopub.execute_input": "2025-07-30T13:20:19.525977Z",
     "iopub.status.busy": "2025-07-30T13:20:19.525214Z",
     "iopub.status.idle": "2025-07-30T13:20:19.532499Z",
     "shell.execute_reply": "2025-07-30T13:20:19.531503Z"
    },
    "papermill": {
     "duration": 0.03345,
     "end_time": "2025-07-30T13:20:19.533976",
     "exception": false,
     "start_time": "2025-07-30T13:20:19.500526",
     "status": "completed"
    },
    "tags": []
   },
   "outputs": [
    {
     "data": {
      "text/plain": [
       "(25000, 164)"
      ]
     },
     "execution_count": 18,
     "metadata": {},
     "output_type": "execute_result"
    }
   ],
   "source": [
    "siab_train.shape"
   ]
  },
  {
   "cell_type": "code",
   "execution_count": 19,
   "id": "d582db68-1a4c-47fb-84fc-08518dc1975a",
   "metadata": {
    "execution": {
     "iopub.execute_input": "2025-07-30T13:20:19.575703Z",
     "iopub.status.busy": "2025-07-30T13:20:19.575085Z",
     "iopub.status.idle": "2025-07-30T13:20:19.584447Z",
     "shell.execute_reply": "2025-07-30T13:20:19.583608Z"
    },
    "papermill": {
     "duration": 0.031521,
     "end_time": "2025-07-30T13:20:19.585905",
     "exception": false,
     "start_time": "2025-07-30T13:20:19.554384",
     "status": "completed"
    },
    "tags": []
   },
   "outputs": [
    {
     "data": {
      "text/plain": [
       "year\n",
       "2012    8334\n",
       "2013    8333\n",
       "2014    8333\n",
       "dtype: int64"
      ]
     },
     "metadata": {},
     "output_type": "display_data"
    }
   ],
   "source": [
    "display(siab_train.groupby(\"year\").size())"
   ]
  },
  {
   "cell_type": "code",
   "execution_count": 20,
   "id": "a561edb4-d032-42cb-8256-22eac1111c64",
   "metadata": {
    "execution": {
     "iopub.execute_input": "2025-07-30T13:20:19.627759Z",
     "iopub.status.busy": "2025-07-30T13:20:19.627128Z",
     "iopub.status.idle": "2025-07-30T13:20:19.873508Z",
     "shell.execute_reply": "2025-07-30T13:20:19.872604Z"
    },
    "papermill": {
     "duration": 0.268977,
     "end_time": "2025-07-30T13:20:19.875424",
     "exception": false,
     "start_time": "2025-07-30T13:20:19.606447",
     "status": "completed"
    },
    "tags": []
   },
   "outputs": [],
   "source": [
    "#siab_train = siab_s[siab_s.year < 2015]\n",
    "siab_calib = siab[siab.year == 2015]\n",
    "siab_test = siab[siab.year == 2016]"
   ]
  },
  {
   "cell_type": "code",
   "execution_count": 21,
   "id": "472de16f-c3db-4916-846b-1f0de9cf1746",
   "metadata": {
    "execution": {
     "iopub.execute_input": "2025-07-30T13:20:19.917414Z",
     "iopub.status.busy": "2025-07-30T13:20:19.916784Z",
     "iopub.status.idle": "2025-07-30T13:20:19.941946Z",
     "shell.execute_reply": "2025-07-30T13:20:19.940923Z"
    },
    "papermill": {
     "duration": 0.04755,
     "end_time": "2025-07-30T13:20:19.943657",
     "exception": false,
     "start_time": "2025-07-30T13:20:19.896107",
     "status": "completed"
    },
    "tags": []
   },
   "outputs": [],
   "source": [
    "X_train = siab_train.iloc[:,4:164]\n",
    "y_train = siab_train.iloc[:, [3]]"
   ]
  },
  {
   "cell_type": "code",
   "execution_count": 22,
   "id": "828c96af-f43a-4ed6-ba47-8ac73a47d56c",
   "metadata": {
    "execution": {
     "iopub.execute_input": "2025-07-30T13:20:19.986792Z",
     "iopub.status.busy": "2025-07-30T13:20:19.986158Z",
     "iopub.status.idle": "2025-07-30T13:20:20.034554Z",
     "shell.execute_reply": "2025-07-30T13:20:20.033620Z"
    },
    "papermill": {
     "duration": 0.071014,
     "end_time": "2025-07-30T13:20:20.036224",
     "exception": false,
     "start_time": "2025-07-30T13:20:19.965210",
     "status": "completed"
    },
    "tags": []
   },
   "outputs": [],
   "source": [
    "X_calib = siab_calib.iloc[:,4:164]\n",
    "y_calib = siab_calib.iloc[:, [3]]"
   ]
  },
  {
   "cell_type": "code",
   "execution_count": 23,
   "id": "c34be9c3-6bd6-476e-acd3-845840e303be",
   "metadata": {
    "execution": {
     "iopub.execute_input": "2025-07-30T13:20:20.078537Z",
     "iopub.status.busy": "2025-07-30T13:20:20.077905Z",
     "iopub.status.idle": "2025-07-30T13:20:20.127569Z",
     "shell.execute_reply": "2025-07-30T13:20:20.126604Z"
    },
    "papermill": {
     "duration": 0.071877,
     "end_time": "2025-07-30T13:20:20.129136",
     "exception": false,
     "start_time": "2025-07-30T13:20:20.057259",
     "status": "completed"
    },
    "tags": []
   },
   "outputs": [],
   "source": [
    "X_test = siab_test.iloc[:,4:164]\n",
    "y_true = siab_test.iloc[:, [3]]"
   ]
  },
  {
   "cell_type": "markdown",
   "id": "9901737e-04df-44f0-9100-f5ad144ed040",
   "metadata": {
    "papermill": {
     "duration": 0.020751,
     "end_time": "2025-07-30T13:20:20.170492",
     "exception": false,
     "start_time": "2025-07-30T13:20:20.149741",
     "status": "completed"
    },
    "tags": []
   },
   "source": [
    "# Splitting Data and Setting Training Data Size OLD VERSION"
   ]
  },
  {
   "cell_type": "code",
   "execution_count": 24,
   "id": "acbc8f7d-8fc8-4e86-8c59-5dcb0f58384b",
   "metadata": {
    "execution": {
     "iopub.execute_input": "2025-07-30T13:20:20.213194Z",
     "iopub.status.busy": "2025-07-30T13:20:20.212215Z",
     "iopub.status.idle": "2025-07-30T13:20:20.218001Z",
     "shell.execute_reply": "2025-07-30T13:20:20.217086Z"
    },
    "papermill": {
     "duration": 0.028737,
     "end_time": "2025-07-30T13:20:20.219575",
     "exception": false,
     "start_time": "2025-07-30T13:20:20.190838",
     "status": "completed"
    },
    "tags": []
   },
   "outputs": [],
   "source": [
    "#def sample_by_year(df, training_size, random_state=42):\n",
    "#    if training_size == \"2014\":\n",
    "#        return df[df[\"year\"] == 2014].reset_index(drop=True)\n",
    "#    \n",
    "#    size_map = {\n",
    "#        \"25k\": 5000,\n",
    "#        \"5k\": 1000,\n",
    "#        \"1k\": 200\n",
    "#    }\n",
    "#\n",
    "#    if training_size not in size_map:\n",
    "#        return df.reset_index(drop=True)  # use all data\n",
    "#\n",
    "#    n_per_year = size_map[training_size]\n",
    "#    grouped = df.groupby(\"year\")\n",
    "#    sampled = grouped.apply(lambda x: x.sample(n=min(n_per_year, len(x)), random_state=random_state))\n",
    "#    return sampled.reset_index(drop=True)"
   ]
  },
  {
   "cell_type": "code",
   "execution_count": 25,
   "id": "6d931f52-beaf-43ff-9e78-9d44a448d54e",
   "metadata": {
    "execution": {
     "iopub.execute_input": "2025-07-30T13:20:20.262002Z",
     "iopub.status.busy": "2025-07-30T13:20:20.261551Z",
     "iopub.status.idle": "2025-07-30T13:20:20.266880Z",
     "shell.execute_reply": "2025-07-30T13:20:20.266082Z"
    },
    "papermill": {
     "duration": 0.028153,
     "end_time": "2025-07-30T13:20:20.268482",
     "exception": false,
     "start_time": "2025-07-30T13:20:20.240329",
     "status": "completed"
    },
    "tags": []
   },
   "outputs": [],
   "source": [
    "#siab_s = sample_by_year(siab, universe[\"training_size\"])"
   ]
  },
  {
   "cell_type": "code",
   "execution_count": 26,
   "id": "5db0a40e-a4e2-4920-be85-b12ae061d70d",
   "metadata": {
    "execution": {
     "iopub.execute_input": "2025-07-30T13:20:20.310440Z",
     "iopub.status.busy": "2025-07-30T13:20:20.309819Z",
     "iopub.status.idle": "2025-07-30T13:20:20.314932Z",
     "shell.execute_reply": "2025-07-30T13:20:20.314087Z"
    },
    "papermill": {
     "duration": 0.027783,
     "end_time": "2025-07-30T13:20:20.316540",
     "exception": false,
     "start_time": "2025-07-30T13:20:20.288757",
     "status": "completed"
    },
    "tags": []
   },
   "outputs": [],
   "source": [
    "#display(siab_s.groupby(\"year\").size())"
   ]
  },
  {
   "cell_type": "code",
   "execution_count": 27,
   "id": "e6c733c5",
   "metadata": {
    "execution": {
     "iopub.execute_input": "2025-07-30T13:20:20.359280Z",
     "iopub.status.busy": "2025-07-30T13:20:20.358806Z",
     "iopub.status.idle": "2025-07-30T13:20:20.453026Z",
     "shell.execute_reply": "2025-07-30T13:20:20.452166Z"
    },
    "papermill": {
     "duration": 0.117707,
     "end_time": "2025-07-30T13:20:20.454821",
     "exception": false,
     "start_time": "2025-07-30T13:20:20.337114",
     "status": "completed"
    },
    "tags": []
   },
   "outputs": [],
   "source": [
    "# Auxiliary data needed downstream in the pipeline\n",
    "\n",
    "org_train = X_train.copy()\n",
    "org_test = X_test.copy()\n",
    "org_calib = X_calib.copy()"
   ]
  },
  {
   "cell_type": "code",
   "execution_count": 28,
   "id": "1466abac-c6da-4492-a62f-4240ae3783af",
   "metadata": {
    "execution": {
     "iopub.execute_input": "2025-07-30T13:20:20.497889Z",
     "iopub.status.busy": "2025-07-30T13:20:20.497236Z",
     "iopub.status.idle": "2025-07-30T13:20:20.503013Z",
     "shell.execute_reply": "2025-07-30T13:20:20.502094Z"
    },
    "papermill": {
     "duration": 0.028846,
     "end_time": "2025-07-30T13:20:20.504586",
     "exception": false,
     "start_time": "2025-07-30T13:20:20.475740",
     "status": "completed"
    },
    "tags": []
   },
   "outputs": [],
   "source": [
    "# put in other script?\n",
    "# Group sizes\n",
    "\n",
    "#def calculate_percentages(df, df_name):\n",
    "#    total_entries = len(df)\n",
    "#\n",
    "#    female_pct = (df['frau1'] == 1).mean() * 100\n",
    "#    non_german_pct = ((df['maxdeutsch1'] == 0) & (df['maxdeutsch.Missing.'] == 0)).mean() * 100\n",
    "#    non_german_male_pct = ((df['frau1'] == 0) & (df['maxdeutsch1'] == 0) & (df['maxdeutsch.Missing.'] == 0)).mean() * 100\n",
    "#    non_german_female_pct = ((df['frau1'] == 1) & (df['maxdeutsch1'] == 0) & (df['maxdeutsch.Missing.'] == 0)).mean() * 100\n",
    "#\n",
    "#    print(f\"--- {df_name} ---\")\n",
    "#    print(f\"Female: {female_pct:.2f}%\")\n",
    "#    print(f\"Non-German: {non_german_pct:.2f}%\")\n",
    "#    print(f\"Non-German Male: {non_german_male_pct:.2f}%\")\n",
    "#    print(f\"Non-German Female: {non_german_female_pct:.2f}%\\n\")\n",
    "#\n",
    "## Calculate for each DataFrame\n",
    "#calculate_percentages(siab_calib, \"siab_calib\")\n",
    "#calculate_percentages(siab_test, \"siab_test\")\n",
    "#calculate_percentages(siab_train, \"siab_train\")"
   ]
  },
  {
   "cell_type": "markdown",
   "id": "0a4a1b33",
   "metadata": {
    "papermill": {
     "duration": 0.019879,
     "end_time": "2025-07-30T13:20:20.544994",
     "exception": false,
     "start_time": "2025-07-30T13:20:20.525115",
     "status": "completed"
    },
    "tags": []
   },
   "source": [
    "# Preprocessing Data"
   ]
  },
  {
   "cell_type": "code",
   "execution_count": 29,
   "id": "ca879031",
   "metadata": {
    "execution": {
     "iopub.execute_input": "2025-07-30T13:20:20.587609Z",
     "iopub.status.busy": "2025-07-30T13:20:20.586899Z",
     "iopub.status.idle": "2025-07-30T13:20:20.593067Z",
     "shell.execute_reply": "2025-07-30T13:20:20.592215Z"
    },
    "papermill": {
     "duration": 0.028893,
     "end_time": "2025-07-30T13:20:20.594589",
     "exception": false,
     "start_time": "2025-07-30T13:20:20.565696",
     "status": "completed"
    },
    "tags": []
   },
   "outputs": [],
   "source": [
    "# EXCLUDE PROTECTED FEATURES\n",
    "# ----------------------\n",
    "# \"exclude_features\": \"none\", # \"nationality\", \"sex\", \"nationality-sex\"\n",
    "\n",
    "excluded_features = universe[\"exclude_features\"].split(\"-\") # split, e.g.: \"nationality-sex\" -> [\"nationality\", \"sex\"]\n",
    "excluded_features_dictionary = {\n",
    "    \"nationality\": [\"maxdeutsch1\", \"maxdeutsch.Missing.\"],\n",
    "    \"sex\": [\"frau1\"],\n",
    "    \"age\": [\"age\"],\n",
    "}\n"
   ]
  },
  {
   "cell_type": "code",
   "execution_count": 30,
   "id": "b745ac60",
   "metadata": {
    "execution": {
     "iopub.execute_input": "2025-07-30T13:20:20.637428Z",
     "iopub.status.busy": "2025-07-30T13:20:20.636789Z",
     "iopub.status.idle": "2025-07-30T13:20:20.642234Z",
     "shell.execute_reply": "2025-07-30T13:20:20.641384Z"
    },
    "papermill": {
     "duration": 0.028428,
     "end_time": "2025-07-30T13:20:20.643817",
     "exception": false,
     "start_time": "2025-07-30T13:20:20.615389",
     "status": "completed"
    },
    "tags": []
   },
   "outputs": [],
   "source": [
    "# Code nice names to column names\n",
    "\n",
    "excluded_features_columns = [\n",
    "    excluded_features_dictionary[f] for f in excluded_features if len(f) > 0 and f != \"none\"\n",
    "]"
   ]
  },
  {
   "cell_type": "code",
   "execution_count": 31,
   "id": "f84f73a2",
   "metadata": {
    "execution": {
     "iopub.execute_input": "2025-07-30T13:20:20.687257Z",
     "iopub.status.busy": "2025-07-30T13:20:20.686613Z",
     "iopub.status.idle": "2025-07-30T13:20:20.693746Z",
     "shell.execute_reply": "2025-07-30T13:20:20.692953Z"
    },
    "papermill": {
     "duration": 0.030208,
     "end_time": "2025-07-30T13:20:20.695473",
     "exception": false,
     "start_time": "2025-07-30T13:20:20.665265",
     "status": "completed"
    },
    "tags": []
   },
   "outputs": [],
   "source": [
    "from utils import flatten_once\n",
    "\n",
    "excluded_features_columns = flatten_once(excluded_features_columns)"
   ]
  },
  {
   "cell_type": "code",
   "execution_count": 32,
   "id": "884dea22",
   "metadata": {
    "execution": {
     "iopub.execute_input": "2025-07-30T13:20:20.738271Z",
     "iopub.status.busy": "2025-07-30T13:20:20.737643Z",
     "iopub.status.idle": "2025-07-30T13:20:20.762264Z",
     "shell.execute_reply": "2025-07-30T13:20:20.761312Z"
    },
    "papermill": {
     "duration": 0.047531,
     "end_time": "2025-07-30T13:20:20.763885",
     "exception": false,
     "start_time": "2025-07-30T13:20:20.716354",
     "status": "completed"
    },
    "tags": []
   },
   "outputs": [
    {
     "name": "stdout",
     "output_type": "stream",
     "text": [
      "Dropping features: ['age']\n"
     ]
    }
   ],
   "source": [
    "if len(excluded_features_columns) > 0:\n",
    "    print(f\"Dropping features: {excluded_features_columns}\")\n",
    "    X_train.drop(excluded_features_columns, axis=1, inplace=True)"
   ]
  },
  {
   "cell_type": "code",
   "execution_count": 33,
   "id": "95ab8b16",
   "metadata": {
    "execution": {
     "iopub.execute_input": "2025-07-30T13:20:20.807607Z",
     "iopub.status.busy": "2025-07-30T13:20:20.806985Z",
     "iopub.status.idle": "2025-07-30T13:20:20.857128Z",
     "shell.execute_reply": "2025-07-30T13:20:20.856119Z"
    },
    "papermill": {
     "duration": 0.074379,
     "end_time": "2025-07-30T13:20:20.859633",
     "exception": false,
     "start_time": "2025-07-30T13:20:20.785254",
     "status": "completed"
    },
    "tags": []
   },
   "outputs": [
    {
     "name": "stdout",
     "output_type": "stream",
     "text": [
      "Dropping features: ['age']\n"
     ]
    }
   ],
   "source": [
    "if len(excluded_features_columns) > 0:\n",
    "    print(f\"Dropping features: {excluded_features_columns}\")\n",
    "    X_test.drop(excluded_features_columns, axis=1, inplace=True)"
   ]
  },
  {
   "cell_type": "code",
   "execution_count": 34,
   "id": "1853aaf5-fb9f-46cb-a2b5-8ea4ae2237e4",
   "metadata": {
    "execution": {
     "iopub.execute_input": "2025-07-30T13:20:20.904582Z",
     "iopub.status.busy": "2025-07-30T13:20:20.903930Z",
     "iopub.status.idle": "2025-07-30T13:20:20.954447Z",
     "shell.execute_reply": "2025-07-30T13:20:20.953474Z"
    },
    "papermill": {
     "duration": 0.075224,
     "end_time": "2025-07-30T13:20:20.957022",
     "exception": false,
     "start_time": "2025-07-30T13:20:20.881798",
     "status": "completed"
    },
    "tags": []
   },
   "outputs": [
    {
     "name": "stdout",
     "output_type": "stream",
     "text": [
      "Dropping features: ['age']\n"
     ]
    }
   ],
   "source": [
    "if len(excluded_features_columns) > 0:\n",
    "    print(f\"Dropping features: {excluded_features_columns}\")\n",
    "    X_calib.drop(excluded_features_columns, axis=1, inplace=True)"
   ]
  },
  {
   "cell_type": "code",
   "execution_count": 35,
   "id": "6727d079-03e5-481e-9d38-292a90b7a0a8",
   "metadata": {
    "execution": {
     "iopub.execute_input": "2025-07-30T13:20:21.002525Z",
     "iopub.status.busy": "2025-07-30T13:20:21.001855Z",
     "iopub.status.idle": "2025-07-30T13:20:21.006672Z",
     "shell.execute_reply": "2025-07-30T13:20:21.005818Z"
    },
    "papermill": {
     "duration": 0.029222,
     "end_time": "2025-07-30T13:20:21.008241",
     "exception": false,
     "start_time": "2025-07-30T13:20:20.979019",
     "status": "completed"
    },
    "tags": []
   },
   "outputs": [],
   "source": [
    "# SPLIT & STRATIFY DATA\n",
    "# ----------------------"
   ]
  },
  {
   "cell_type": "code",
   "execution_count": 36,
   "id": "76c4dc6d",
   "metadata": {
    "execution": {
     "iopub.execute_input": "2025-07-30T13:20:21.052308Z",
     "iopub.status.busy": "2025-07-30T13:20:21.051648Z",
     "iopub.status.idle": "2025-07-30T13:20:21.057281Z",
     "shell.execute_reply": "2025-07-30T13:20:21.056313Z"
    },
    "papermill": {
     "duration": 0.028791,
     "end_time": "2025-07-30T13:20:21.058681",
     "exception": false,
     "start_time": "2025-07-30T13:20:21.029890",
     "status": "completed"
    },
    "tags": []
   },
   "outputs": [],
   "source": [
    "# EXCLUDE CERTAIN SUBGROUPS\n",
    "# ----------------------\n",
    "\n",
    "mode = universe.get(\"exclude_subgroups\", \"keep-all\") \n",
    "# Fetches the exclude_subgroups setting from the universe dict.\n",
    "# Defaults to \"keep-all\" if the key is missing."
   ]
  },
  {
   "cell_type": "code",
   "execution_count": 37,
   "id": "21994072",
   "metadata": {
    "execution": {
     "iopub.execute_input": "2025-07-30T13:20:21.102508Z",
     "iopub.status.busy": "2025-07-30T13:20:21.101840Z",
     "iopub.status.idle": "2025-07-30T13:20:21.108519Z",
     "shell.execute_reply": "2025-07-30T13:20:21.107665Z"
    },
    "papermill": {
     "duration": 0.029898,
     "end_time": "2025-07-30T13:20:21.110054",
     "exception": false,
     "start_time": "2025-07-30T13:20:21.080156",
     "status": "completed"
    },
    "tags": []
   },
   "outputs": [],
   "source": [
    "if mode == \"keep-all\":\n",
    "    keep_mask = pd.Series(True, index=org_train.index)\n",
    "\n",
    "# org_train contains the original feature columns from features_org (in Simson)\n",
    "# features_org contains unprocessed features, for me X_train at beginning ???\n",
    "# For keep-all, creates a boolean Series (keep_mask) of all True, so no rows are removed.\n",
    "\n",
    "elif mode == \"drop-non-german\":\n",
    "    keep_mask = org_train[\"maxdeutsch1\"] == 1 # ??? what about missing values?\n",
    "\n",
    "else:\n",
    "    raise ValueError(f\"Unsupported mode for exclude_subgroups: {mode}\")\n"
   ]
  },
  {
   "cell_type": "code",
   "execution_count": 38,
   "id": "71651440",
   "metadata": {
    "execution": {
     "iopub.execute_input": "2025-07-30T13:20:21.153520Z",
     "iopub.status.busy": "2025-07-30T13:20:21.153031Z",
     "iopub.status.idle": "2025-07-30T13:20:21.159850Z",
     "shell.execute_reply": "2025-07-30T13:20:21.158952Z"
    },
    "papermill": {
     "duration": 0.030104,
     "end_time": "2025-07-30T13:20:21.161465",
     "exception": false,
     "start_time": "2025-07-30T13:20:21.131361",
     "status": "completed"
    },
    "tags": []
   },
   "outputs": [],
   "source": [
    "n_drop = (~keep_mask).sum() # Calculates how many rows are set to be dropped\n",
    "if n_drop > 0:\n",
    "    pct = n_drop / len(keep_mask) * 100\n",
    "    print(f\"Dropping {n_drop} rows ({pct:.2f}%) where mode='{mode}'\")"
   ]
  },
  {
   "cell_type": "code",
   "execution_count": 39,
   "id": "5fb8eee5",
   "metadata": {
    "execution": {
     "iopub.execute_input": "2025-07-30T13:20:21.206210Z",
     "iopub.status.busy": "2025-07-30T13:20:21.205587Z",
     "iopub.status.idle": "2025-07-30T13:20:21.219962Z",
     "shell.execute_reply": "2025-07-30T13:20:21.218904Z"
    },
    "papermill": {
     "duration": 0.038498,
     "end_time": "2025-07-30T13:20:21.221933",
     "exception": false,
     "start_time": "2025-07-30T13:20:21.183435",
     "status": "completed"
    },
    "tags": []
   },
   "outputs": [],
   "source": [
    "X_train = X_train[keep_mask]"
   ]
  },
  {
   "cell_type": "code",
   "execution_count": 40,
   "id": "b202bb3a",
   "metadata": {
    "execution": {
     "iopub.execute_input": "2025-07-30T13:20:21.266485Z",
     "iopub.status.busy": "2025-07-30T13:20:21.266037Z",
     "iopub.status.idle": "2025-07-30T13:20:21.272037Z",
     "shell.execute_reply": "2025-07-30T13:20:21.271162Z"
    },
    "papermill": {
     "duration": 0.029524,
     "end_time": "2025-07-30T13:20:21.273675",
     "exception": false,
     "start_time": "2025-07-30T13:20:21.244151",
     "status": "completed"
    },
    "tags": []
   },
   "outputs": [],
   "source": [
    "y_train = y_train[keep_mask]"
   ]
  },
  {
   "cell_type": "markdown",
   "id": "493e2ac3",
   "metadata": {
    "papermill": {
     "duration": 0.021326,
     "end_time": "2025-07-30T13:20:21.316595",
     "exception": false,
     "start_time": "2025-07-30T13:20:21.295269",
     "status": "completed"
    },
    "tags": []
   },
   "source": [
    "# Model Training"
   ]
  },
  {
   "cell_type": "code",
   "execution_count": 41,
   "id": "679e1268",
   "metadata": {
    "execution": {
     "iopub.execute_input": "2025-07-30T13:20:21.361077Z",
     "iopub.status.busy": "2025-07-30T13:20:21.360567Z",
     "iopub.status.idle": "2025-07-30T13:20:21.463217Z",
     "shell.execute_reply": "2025-07-30T13:20:21.462141Z"
    },
    "papermill": {
     "duration": 0.127469,
     "end_time": "2025-07-30T13:20:21.465344",
     "exception": false,
     "start_time": "2025-07-30T13:20:21.337875",
     "status": "completed"
    },
    "tags": []
   },
   "outputs": [],
   "source": [
    "from sklearn.linear_model import LogisticRegression\n",
    "from sklearn.ensemble import GradientBoostingClassifier, RandomForestClassifier\n",
    "\n",
    "if (universe[\"model\"] == \"logreg\"):\n",
    "    model = LogisticRegression() #penalty=\"none\") #, solver=\"newton-cg\", max_iter=1) # include random_state=19 ?\n",
    "elif (universe[\"model\"] == \"penalized_logreg\"):\n",
    "    model = LogisticRegression(penalty=\"l2\", C=1.0) #, solver=\"newton-cg\", max_iter=1)\n",
    "elif (universe[\"model\"] == \"rf\"):\n",
    "    model = RandomForestClassifier(n_estimators=100, n_jobs=-1)\n",
    "elif (universe[\"model\"] == \"gbm\"):\n",
    "    model = GradientBoostingClassifier()\n",
    "elif (universe[\"model\"] == \"elasticnet\"):\n",
    "    model = LogisticRegression(penalty = 'elasticnet', solver = 'saga', l1_ratio = 0.5, max_iter=5000) # which solver to use?\n",
    "else:\n",
    "    raise \"Unsupported universe.model\""
   ]
  },
  {
   "cell_type": "code",
   "execution_count": 42,
   "id": "0cc8f744",
   "metadata": {
    "execution": {
     "iopub.execute_input": "2025-07-30T13:20:21.514346Z",
     "iopub.status.busy": "2025-07-30T13:20:21.513701Z",
     "iopub.status.idle": "2025-07-30T13:20:21.519821Z",
     "shell.execute_reply": "2025-07-30T13:20:21.518960Z"
    },
    "papermill": {
     "duration": 0.030937,
     "end_time": "2025-07-30T13:20:21.521748",
     "exception": false,
     "start_time": "2025-07-30T13:20:21.490811",
     "status": "completed"
    },
    "tags": []
   },
   "outputs": [],
   "source": [
    "import numpy as np\n",
    "from sklearn.pipeline import Pipeline\n",
    "from sklearn.preprocessing import StandardScaler\n",
    "\n",
    "model = Pipeline([\n",
    "    #(\"continuous_processor\", continuous_processor),\n",
    "    #(\"categorical_preprocessor\", categorical_preprocessor),\n",
    "    (\"scale\", StandardScaler() if universe[\"scale\"] == \"scale\" else None), \n",
    "    (\"model\", model),\n",
    "])"
   ]
  },
  {
   "cell_type": "code",
   "execution_count": 43,
   "id": "9442c04d",
   "metadata": {
    "execution": {
     "iopub.execute_input": "2025-07-30T13:20:21.565990Z",
     "iopub.status.busy": "2025-07-30T13:20:21.565610Z",
     "iopub.status.idle": "2025-07-30T13:29:13.487742Z",
     "shell.execute_reply": "2025-07-30T13:29:13.486825Z"
    },
    "papermill": {
     "duration": 531.970542,
     "end_time": "2025-07-30T13:29:13.513924",
     "exception": false,
     "start_time": "2025-07-30T13:20:21.543382",
     "status": "completed"
    },
    "tags": []
   },
   "outputs": [
    {
     "name": "stderr",
     "output_type": "stream",
     "text": [
      "/dss/dsshome1/0C/ra93lal2/.local/share/virtualenvs/CMA_Fairness_v2-3j10GkSs/lib/python3.10/site-packages/sklearn/linear_model/_sag.py:350: ConvergenceWarning: The max_iter was reached which means the coef_ did not converge\n",
      "  warnings.warn(\n"
     ]
    },
    {
     "data": {
      "text/html": [
       "<style>#sk-container-id-1 {color: black;background-color: white;}#sk-container-id-1 pre{padding: 0;}#sk-container-id-1 div.sk-toggleable {background-color: white;}#sk-container-id-1 label.sk-toggleable__label {cursor: pointer;display: block;width: 100%;margin-bottom: 0;padding: 0.3em;box-sizing: border-box;text-align: center;}#sk-container-id-1 label.sk-toggleable__label-arrow:before {content: \"▸\";float: left;margin-right: 0.25em;color: #696969;}#sk-container-id-1 label.sk-toggleable__label-arrow:hover:before {color: black;}#sk-container-id-1 div.sk-estimator:hover label.sk-toggleable__label-arrow:before {color: black;}#sk-container-id-1 div.sk-toggleable__content {max-height: 0;max-width: 0;overflow: hidden;text-align: left;background-color: #f0f8ff;}#sk-container-id-1 div.sk-toggleable__content pre {margin: 0.2em;color: black;border-radius: 0.25em;background-color: #f0f8ff;}#sk-container-id-1 input.sk-toggleable__control:checked~div.sk-toggleable__content {max-height: 200px;max-width: 100%;overflow: auto;}#sk-container-id-1 input.sk-toggleable__control:checked~label.sk-toggleable__label-arrow:before {content: \"▾\";}#sk-container-id-1 div.sk-estimator input.sk-toggleable__control:checked~label.sk-toggleable__label {background-color: #d4ebff;}#sk-container-id-1 div.sk-label input.sk-toggleable__control:checked~label.sk-toggleable__label {background-color: #d4ebff;}#sk-container-id-1 input.sk-hidden--visually {border: 0;clip: rect(1px 1px 1px 1px);clip: rect(1px, 1px, 1px, 1px);height: 1px;margin: -1px;overflow: hidden;padding: 0;position: absolute;width: 1px;}#sk-container-id-1 div.sk-estimator {font-family: monospace;background-color: #f0f8ff;border: 1px dotted black;border-radius: 0.25em;box-sizing: border-box;margin-bottom: 0.5em;}#sk-container-id-1 div.sk-estimator:hover {background-color: #d4ebff;}#sk-container-id-1 div.sk-parallel-item::after {content: \"\";width: 100%;border-bottom: 1px solid gray;flex-grow: 1;}#sk-container-id-1 div.sk-label:hover label.sk-toggleable__label {background-color: #d4ebff;}#sk-container-id-1 div.sk-serial::before {content: \"\";position: absolute;border-left: 1px solid gray;box-sizing: border-box;top: 0;bottom: 0;left: 50%;z-index: 0;}#sk-container-id-1 div.sk-serial {display: flex;flex-direction: column;align-items: center;background-color: white;padding-right: 0.2em;padding-left: 0.2em;position: relative;}#sk-container-id-1 div.sk-item {position: relative;z-index: 1;}#sk-container-id-1 div.sk-parallel {display: flex;align-items: stretch;justify-content: center;background-color: white;position: relative;}#sk-container-id-1 div.sk-item::before, #sk-container-id-1 div.sk-parallel-item::before {content: \"\";position: absolute;border-left: 1px solid gray;box-sizing: border-box;top: 0;bottom: 0;left: 50%;z-index: -1;}#sk-container-id-1 div.sk-parallel-item {display: flex;flex-direction: column;z-index: 1;position: relative;background-color: white;}#sk-container-id-1 div.sk-parallel-item:first-child::after {align-self: flex-end;width: 50%;}#sk-container-id-1 div.sk-parallel-item:last-child::after {align-self: flex-start;width: 50%;}#sk-container-id-1 div.sk-parallel-item:only-child::after {width: 0;}#sk-container-id-1 div.sk-dashed-wrapped {border: 1px dashed gray;margin: 0 0.4em 0.5em 0.4em;box-sizing: border-box;padding-bottom: 0.4em;background-color: white;}#sk-container-id-1 div.sk-label label {font-family: monospace;font-weight: bold;display: inline-block;line-height: 1.2em;}#sk-container-id-1 div.sk-label-container {text-align: center;}#sk-container-id-1 div.sk-container {/* jupyter's `normalize.less` sets `[hidden] { display: none; }` but bootstrap.min.css set `[hidden] { display: none !important; }` so we also need the `!important` here to be able to override the default hidden behavior on the sphinx rendered scikit-learn.org. See: https://github.com/scikit-learn/scikit-learn/issues/21755 */display: inline-block !important;position: relative;}#sk-container-id-1 div.sk-text-repr-fallback {display: none;}</style><div id=\"sk-container-id-1\" class=\"sk-top-container\"><div class=\"sk-text-repr-fallback\"><pre>Pipeline(steps=[(&#x27;scale&#x27;, None),\n",
       "                (&#x27;model&#x27;,\n",
       "                 LogisticRegression(l1_ratio=0.5, max_iter=5000,\n",
       "                                    penalty=&#x27;elasticnet&#x27;, solver=&#x27;saga&#x27;))])</pre><b>In a Jupyter environment, please rerun this cell to show the HTML representation or trust the notebook. <br />On GitHub, the HTML representation is unable to render, please try loading this page with nbviewer.org.</b></div><div class=\"sk-container\" hidden><div class=\"sk-item sk-dashed-wrapped\"><div class=\"sk-label-container\"><div class=\"sk-label sk-toggleable\"><input class=\"sk-toggleable__control sk-hidden--visually\" id=\"sk-estimator-id-1\" type=\"checkbox\" ><label for=\"sk-estimator-id-1\" class=\"sk-toggleable__label sk-toggleable__label-arrow\">Pipeline</label><div class=\"sk-toggleable__content\"><pre>Pipeline(steps=[(&#x27;scale&#x27;, None),\n",
       "                (&#x27;model&#x27;,\n",
       "                 LogisticRegression(l1_ratio=0.5, max_iter=5000,\n",
       "                                    penalty=&#x27;elasticnet&#x27;, solver=&#x27;saga&#x27;))])</pre></div></div></div><div class=\"sk-serial\"><div class=\"sk-item\"><div class=\"sk-estimator sk-toggleable\"><input class=\"sk-toggleable__control sk-hidden--visually\" id=\"sk-estimator-id-2\" type=\"checkbox\" ><label for=\"sk-estimator-id-2\" class=\"sk-toggleable__label sk-toggleable__label-arrow\">None</label><div class=\"sk-toggleable__content\"><pre>None</pre></div></div></div><div class=\"sk-item\"><div class=\"sk-estimator sk-toggleable\"><input class=\"sk-toggleable__control sk-hidden--visually\" id=\"sk-estimator-id-3\" type=\"checkbox\" ><label for=\"sk-estimator-id-3\" class=\"sk-toggleable__label sk-toggleable__label-arrow\">LogisticRegression</label><div class=\"sk-toggleable__content\"><pre>LogisticRegression(l1_ratio=0.5, max_iter=5000, penalty=&#x27;elasticnet&#x27;,\n",
       "                   solver=&#x27;saga&#x27;)</pre></div></div></div></div></div></div></div>"
      ],
      "text/plain": [
       "Pipeline(steps=[('scale', None),\n",
       "                ('model',\n",
       "                 LogisticRegression(l1_ratio=0.5, max_iter=5000,\n",
       "                                    penalty='elasticnet', solver='saga'))])"
      ]
     },
     "execution_count": 43,
     "metadata": {},
     "output_type": "execute_result"
    }
   ],
   "source": [
    "model.fit(X_train, y_train.values.ravel())"
   ]
  },
  {
   "cell_type": "code",
   "execution_count": 44,
   "id": "af59f8c0",
   "metadata": {
    "execution": {
     "iopub.execute_input": "2025-07-30T13:29:13.561135Z",
     "iopub.status.busy": "2025-07-30T13:29:13.560576Z",
     "iopub.status.idle": "2025-07-30T13:29:13.566571Z",
     "shell.execute_reply": "2025-07-30T13:29:13.565588Z"
    },
    "papermill": {
     "duration": 0.031693,
     "end_time": "2025-07-30T13:29:13.568224",
     "exception": false,
     "start_time": "2025-07-30T13:29:13.536531",
     "status": "completed"
    },
    "tags": []
   },
   "outputs": [],
   "source": [
    "from fairness_multiverse.universe import predict_w_threshold"
   ]
  },
  {
   "cell_type": "code",
   "execution_count": 45,
   "id": "a7cf2e16",
   "metadata": {
    "execution": {
     "iopub.execute_input": "2025-07-30T13:29:13.619554Z",
     "iopub.status.busy": "2025-07-30T13:29:13.619078Z",
     "iopub.status.idle": "2025-07-30T13:29:13.725888Z",
     "shell.execute_reply": "2025-07-30T13:29:13.724906Z"
    },
    "papermill": {
     "duration": 0.134322,
     "end_time": "2025-07-30T13:29:13.727817",
     "exception": false,
     "start_time": "2025-07-30T13:29:13.593495",
     "status": "completed"
    },
    "tags": []
   },
   "outputs": [
    {
     "data": {
      "text/plain": [
       "0.8585999331178241"
      ]
     },
     "execution_count": 45,
     "metadata": {},
     "output_type": "execute_result"
    }
   ],
   "source": [
    "probs_test = model.predict_proba(X_test)\n",
    "\n",
    "'''\n",
    "Below code returns a boolean array (or binary 0/1 array depending on how it’s used) where each element \n",
    "is True if the probability of class 1 is greater than or equal to the threshold, and False otherwise.\n",
    "'''\n",
    "y_pred_default = predict_w_threshold(probs_test, 0.5)\n",
    "\n",
    "from sklearn.metrics import accuracy_score\n",
    "\n",
    "# Naive prediction\n",
    "accuracy_score(y_true = y_true, y_pred = y_pred_default)"
   ]
  },
  {
   "cell_type": "code",
   "execution_count": 46,
   "id": "081964c3",
   "metadata": {
    "execution": {
     "iopub.execute_input": "2025-07-30T13:29:13.781052Z",
     "iopub.status.busy": "2025-07-30T13:29:13.780470Z",
     "iopub.status.idle": "2025-07-30T13:29:13.862633Z",
     "shell.execute_reply": "2025-07-30T13:29:13.861528Z"
    },
    "papermill": {
     "duration": 0.111803,
     "end_time": "2025-07-30T13:29:13.864960",
     "exception": false,
     "start_time": "2025-07-30T13:29:13.753157",
     "status": "completed"
    },
    "tags": []
   },
   "outputs": [
    {
     "data": {
      "text/plain": [
       "array([0, 0, 0, ..., 0, 0, 0])"
      ]
     },
     "execution_count": 46,
     "metadata": {},
     "output_type": "execute_result"
    }
   ],
   "source": [
    "model.predict(X_test)"
   ]
  },
  {
   "cell_type": "markdown",
   "id": "56c9705b",
   "metadata": {
    "papermill": {
     "duration": 0.026149,
     "end_time": "2025-07-30T13:29:13.915359",
     "exception": false,
     "start_time": "2025-07-30T13:29:13.889210",
     "status": "completed"
    },
    "tags": []
   },
   "source": [
    "# Conformal Prediction"
   ]
  },
  {
   "cell_type": "code",
   "execution_count": 47,
   "id": "160ec6ff",
   "metadata": {
    "execution": {
     "iopub.execute_input": "2025-07-30T13:29:13.967408Z",
     "iopub.status.busy": "2025-07-30T13:29:13.966939Z",
     "iopub.status.idle": "2025-07-30T13:29:13.972655Z",
     "shell.execute_reply": "2025-07-30T13:29:13.971816Z"
    },
    "papermill": {
     "duration": 0.033803,
     "end_time": "2025-07-30T13:29:13.974046",
     "exception": false,
     "start_time": "2025-07-30T13:29:13.940243",
     "status": "completed"
    },
    "tags": []
   },
   "outputs": [],
   "source": [
    "# Miscoverage level for conformal prediction (10% allowed error rate => 90% target coverage)\n",
    "alpha = 0.1"
   ]
  },
  {
   "cell_type": "code",
   "execution_count": 48,
   "id": "eadf4555-3dd3-440e-8e35-f82a4ad9f855",
   "metadata": {
    "execution": {
     "iopub.execute_input": "2025-07-30T13:29:14.001851Z",
     "iopub.status.busy": "2025-07-30T13:29:14.001359Z",
     "iopub.status.idle": "2025-07-30T13:29:14.080624Z",
     "shell.execute_reply": "2025-07-30T13:29:14.079815Z"
    },
    "papermill": {
     "duration": 0.09434,
     "end_time": "2025-07-30T13:29:14.082142",
     "exception": false,
     "start_time": "2025-07-30T13:29:13.987802",
     "status": "completed"
    },
    "tags": []
   },
   "outputs": [],
   "source": [
    "probs_calib = model.predict_proba(X_calib)"
   ]
  },
  {
   "cell_type": "code",
   "execution_count": 49,
   "id": "2ed93547-6d5d-4983-9b36-1ecb300da49a",
   "metadata": {
    "execution": {
     "iopub.execute_input": "2025-07-30T13:29:14.109561Z",
     "iopub.status.busy": "2025-07-30T13:29:14.109100Z",
     "iopub.status.idle": "2025-07-30T13:29:14.113800Z",
     "shell.execute_reply": "2025-07-30T13:29:14.113098Z"
    },
    "papermill": {
     "duration": 0.019409,
     "end_time": "2025-07-30T13:29:14.115123",
     "exception": false,
     "start_time": "2025-07-30T13:29:14.095714",
     "status": "completed"
    },
    "tags": []
   },
   "outputs": [],
   "source": [
    "y_calib = y_calib.values.ravel().astype(int)"
   ]
  },
  {
   "cell_type": "code",
   "execution_count": 50,
   "id": "65d1320d-f588-4b38-9072-62af1ae97f7d",
   "metadata": {
    "execution": {
     "iopub.execute_input": "2025-07-30T13:29:14.143124Z",
     "iopub.status.busy": "2025-07-30T13:29:14.142612Z",
     "iopub.status.idle": "2025-07-30T13:29:14.149820Z",
     "shell.execute_reply": "2025-07-30T13:29:14.149092Z"
    },
    "papermill": {
     "duration": 0.022147,
     "end_time": "2025-07-30T13:29:14.151204",
     "exception": false,
     "start_time": "2025-07-30T13:29:14.129057",
     "status": "completed"
    },
    "tags": []
   },
   "outputs": [],
   "source": [
    "from fairness_multiverse.conformal import compute_nc_scores\n",
    "\n",
    "# Compute nonconformity scores on calibration set (1 - probability of true class)\n",
    "nc_scores = compute_nc_scores(probs_calib, y_calib)"
   ]
  },
  {
   "cell_type": "code",
   "execution_count": 51,
   "id": "df3b8ca3-53b7-43d5-9667-7c85da7aeda2",
   "metadata": {
    "execution": {
     "iopub.execute_input": "2025-07-30T13:29:14.203879Z",
     "iopub.status.busy": "2025-07-30T13:29:14.203542Z",
     "iopub.status.idle": "2025-07-30T13:29:14.208802Z",
     "shell.execute_reply": "2025-07-30T13:29:14.207958Z"
    },
    "papermill": {
     "duration": 0.033343,
     "end_time": "2025-07-30T13:29:14.210316",
     "exception": false,
     "start_time": "2025-07-30T13:29:14.176973",
     "status": "completed"
    },
    "tags": []
   },
   "outputs": [],
   "source": [
    "from fairness_multiverse.conformal import find_threshold\n",
    "\n",
    "# Find conformal threshold q_hat for the given alpha (split conformal method)\n",
    "q_hat = find_threshold(nc_scores, alpha)"
   ]
  },
  {
   "cell_type": "code",
   "execution_count": 52,
   "id": "4d29e6c1-0ef6-4aa4-b8fe-4fe79b0d033a",
   "metadata": {
    "execution": {
     "iopub.execute_input": "2025-07-30T13:29:14.238478Z",
     "iopub.status.busy": "2025-07-30T13:29:14.238156Z",
     "iopub.status.idle": "2025-07-30T13:29:14.244087Z",
     "shell.execute_reply": "2025-07-30T13:29:14.243393Z"
    },
    "papermill": {
     "duration": 0.020815,
     "end_time": "2025-07-30T13:29:14.245464",
     "exception": false,
     "start_time": "2025-07-30T13:29:14.224649",
     "status": "completed"
    },
    "tags": []
   },
   "outputs": [
    {
     "data": {
      "text/plain": [
       "0.646668031356336"
      ]
     },
     "execution_count": 52,
     "metadata": {},
     "output_type": "execute_result"
    }
   ],
   "source": [
    "q_hat"
   ]
  },
  {
   "cell_type": "code",
   "execution_count": 53,
   "id": "92460794-cdac-4be2-ba28-f28c0515a6fb",
   "metadata": {
    "execution": {
     "iopub.execute_input": "2025-07-30T13:29:14.273927Z",
     "iopub.status.busy": "2025-07-30T13:29:14.273386Z",
     "iopub.status.idle": "2025-07-30T13:29:14.983195Z",
     "shell.execute_reply": "2025-07-30T13:29:14.982250Z"
    },
    "papermill": {
     "duration": 0.725617,
     "end_time": "2025-07-30T13:29:14.985188",
     "exception": false,
     "start_time": "2025-07-30T13:29:14.259571",
     "status": "completed"
    },
    "tags": []
   },
   "outputs": [],
   "source": [
    "from fairness_multiverse.conformal import predict_conformal_sets\n",
    "\n",
    "# Generate prediction sets for each test example\n",
    "pred_sets = predict_conformal_sets(model, X_test, q_hat)"
   ]
  },
  {
   "cell_type": "code",
   "execution_count": 54,
   "id": "d90c9a65-e6db-4f5d-80cd-e68fb7e46829",
   "metadata": {
    "execution": {
     "iopub.execute_input": "2025-07-30T13:29:15.037468Z",
     "iopub.status.busy": "2025-07-30T13:29:15.037013Z",
     "iopub.status.idle": "2025-07-30T13:29:15.043118Z",
     "shell.execute_reply": "2025-07-30T13:29:15.042164Z"
    },
    "papermill": {
     "duration": 0.034142,
     "end_time": "2025-07-30T13:29:15.044899",
     "exception": false,
     "start_time": "2025-07-30T13:29:15.010757",
     "status": "completed"
    },
    "tags": []
   },
   "outputs": [],
   "source": [
    "y_true = y_true.squeeze()"
   ]
  },
  {
   "cell_type": "code",
   "execution_count": 55,
   "id": "3a58a54a-1e68-46b9-927a-df01f18aebc8",
   "metadata": {
    "execution": {
     "iopub.execute_input": "2025-07-30T13:29:15.096536Z",
     "iopub.status.busy": "2025-07-30T13:29:15.095776Z",
     "iopub.status.idle": "2025-07-30T13:29:16.057005Z",
     "shell.execute_reply": "2025-07-30T13:29:16.055687Z"
    },
    "papermill": {
     "duration": 0.988655,
     "end_time": "2025-07-30T13:29:16.058880",
     "exception": false,
     "start_time": "2025-07-30T13:29:15.070225",
     "status": "completed"
    },
    "tags": []
   },
   "outputs": [],
   "source": [
    "from fairness_multiverse.conformal import evaluate_sets\n",
    "\n",
    "# Evaluate coverage and average set size on test data\n",
    "metrics = evaluate_sets(pred_sets, y_true)"
   ]
  },
  {
   "cell_type": "markdown",
   "id": "2b569c12-9aaa-4c88-98c9-bbcd0cf3ebb8",
   "metadata": {
    "papermill": {
     "duration": 0.024637,
     "end_time": "2025-07-30T13:29:16.110775",
     "exception": false,
     "start_time": "2025-07-30T13:29:16.086138",
     "status": "completed"
    },
    "tags": []
   },
   "source": [
    "# CP Metrics"
   ]
  },
  {
   "cell_type": "code",
   "execution_count": 56,
   "id": "5ce0a5cb-201f-45a0-ade5-94c7f0bd6095",
   "metadata": {
    "execution": {
     "iopub.execute_input": "2025-07-30T13:29:16.162749Z",
     "iopub.status.busy": "2025-07-30T13:29:16.161802Z",
     "iopub.status.idle": "2025-07-30T13:29:16.170588Z",
     "shell.execute_reply": "2025-07-30T13:29:16.169624Z"
    },
    "papermill": {
     "duration": 0.037526,
     "end_time": "2025-07-30T13:29:16.172182",
     "exception": false,
     "start_time": "2025-07-30T13:29:16.134656",
     "status": "completed"
    },
    "tags": []
   },
   "outputs": [
    {
     "data": {
      "text/plain": [
       "{'coverage': 0.9131757886523242, 'avg_size': 1.237654665031769}"
      ]
     },
     "execution_count": 56,
     "metadata": {},
     "output_type": "execute_result"
    }
   ],
   "source": [
    "metrics"
   ]
  },
  {
   "cell_type": "code",
   "execution_count": 57,
   "id": "9b9a838d-31c9-430b-ae14-12baee460d17",
   "metadata": {
    "execution": {
     "iopub.execute_input": "2025-07-30T13:29:16.226077Z",
     "iopub.status.busy": "2025-07-30T13:29:16.225567Z",
     "iopub.status.idle": "2025-07-30T13:29:16.232643Z",
     "shell.execute_reply": "2025-07-30T13:29:16.231676Z"
    },
    "papermill": {
     "duration": 0.036549,
     "end_time": "2025-07-30T13:29:16.234309",
     "exception": false,
     "start_time": "2025-07-30T13:29:16.197760",
     "status": "completed"
    },
    "tags": []
   },
   "outputs": [],
   "source": [
    "example_universe = universe.copy()\n",
    "universe_training_size = example_universe.get(\"training_size\")\n",
    "universe_scale = example_universe.get(\"scale\")\n",
    "universe_model = example_universe.get(\"model\")\n",
    "universe_exclude_features = example_universe.get(\"exclude_features\")\n",
    "universe_exclude_subgroups = example_universe.get(\"exclude_subgroups\")"
   ]
  },
  {
   "cell_type": "code",
   "execution_count": 58,
   "id": "f4b6a8ac-9dc0-4245-8a91-5b3b5999c4f9",
   "metadata": {
    "execution": {
     "iopub.execute_input": "2025-07-30T13:29:16.289565Z",
     "iopub.status.busy": "2025-07-30T13:29:16.289031Z",
     "iopub.status.idle": "2025-07-30T13:29:16.295656Z",
     "shell.execute_reply": "2025-07-30T13:29:16.294692Z"
    },
    "papermill": {
     "duration": 0.035773,
     "end_time": "2025-07-30T13:29:16.297542",
     "exception": false,
     "start_time": "2025-07-30T13:29:16.261769",
     "status": "completed"
    },
    "tags": []
   },
   "outputs": [],
   "source": [
    "cp_metrics_dict = {\n",
    "    \"universe_id\": [universe_id],\n",
    "    \"universe_training_size\": [universe_training_size],\n",
    "    \"universe_scale\": [universe_scale],\n",
    "    \"universe_model\": [universe_model],\n",
    "    \"universe_exclude_features\": [universe_exclude_features],\n",
    "    \"universe_exclude_subgroups\": [universe_exclude_subgroups],\n",
    "    \"q_hat\": [q_hat],\n",
    "    \"coverage\": [metrics[\"coverage\"]],\n",
    "    \"avg_size\": [metrics[\"avg_size\"]],\n",
    "}"
   ]
  },
  {
   "cell_type": "code",
   "execution_count": 59,
   "id": "908acbb1-0371-4915-85ca-3fa520d2efe2",
   "metadata": {
    "execution": {
     "iopub.execute_input": "2025-07-30T13:29:16.352628Z",
     "iopub.status.busy": "2025-07-30T13:29:16.351901Z",
     "iopub.status.idle": "2025-07-30T13:29:16.359740Z",
     "shell.execute_reply": "2025-07-30T13:29:16.358692Z"
    },
    "papermill": {
     "duration": 0.036628,
     "end_time": "2025-07-30T13:29:16.361316",
     "exception": false,
     "start_time": "2025-07-30T13:29:16.324688",
     "status": "completed"
    },
    "tags": []
   },
   "outputs": [
    {
     "data": {
      "text/plain": [
       "{'universe_id': ['f16c9af0e07e7b87c201ba4841843a0d'],\n",
       " 'universe_training_size': ['25k'],\n",
       " 'universe_scale': ['do-not-scale'],\n",
       " 'universe_model': ['elasticnet'],\n",
       " 'universe_exclude_features': ['age'],\n",
       " 'universe_exclude_subgroups': ['keep-all'],\n",
       " 'q_hat': [0.646668031356336],\n",
       " 'coverage': [0.9131757886523242],\n",
       " 'avg_size': [1.237654665031769]}"
      ]
     },
     "execution_count": 59,
     "metadata": {},
     "output_type": "execute_result"
    }
   ],
   "source": [
    "cp_metrics_dict"
   ]
  },
  {
   "cell_type": "code",
   "execution_count": 60,
   "id": "33007efc-14e9-4ec6-97ac-56a455c82265",
   "metadata": {
    "execution": {
     "iopub.execute_input": "2025-07-30T13:29:16.420070Z",
     "iopub.status.busy": "2025-07-30T13:29:16.419136Z",
     "iopub.status.idle": "2025-07-30T13:29:16.428424Z",
     "shell.execute_reply": "2025-07-30T13:29:16.427356Z"
    },
    "papermill": {
     "duration": 0.040679,
     "end_time": "2025-07-30T13:29:16.430163",
     "exception": false,
     "start_time": "2025-07-30T13:29:16.389484",
     "status": "completed"
    },
    "tags": []
   },
   "outputs": [],
   "source": [
    "cp_metrics_df = pd.DataFrame(cp_metrics_dict)"
   ]
  },
  {
   "cell_type": "code",
   "execution_count": 61,
   "id": "db12611b-57b2-4910-b9d0-355adfd6e7bf",
   "metadata": {
    "execution": {
     "iopub.execute_input": "2025-07-30T13:29:16.486498Z",
     "iopub.status.busy": "2025-07-30T13:29:16.485786Z",
     "iopub.status.idle": "2025-07-30T13:29:16.506520Z",
     "shell.execute_reply": "2025-07-30T13:29:16.505574Z"
    },
    "papermill": {
     "duration": 0.049985,
     "end_time": "2025-07-30T13:29:16.508185",
     "exception": false,
     "start_time": "2025-07-30T13:29:16.458200",
     "status": "completed"
    },
    "tags": []
   },
   "outputs": [
    {
     "data": {
      "text/html": [
       "<div>\n",
       "<style scoped>\n",
       "    .dataframe tbody tr th:only-of-type {\n",
       "        vertical-align: middle;\n",
       "    }\n",
       "\n",
       "    .dataframe tbody tr th {\n",
       "        vertical-align: top;\n",
       "    }\n",
       "\n",
       "    .dataframe thead th {\n",
       "        text-align: right;\n",
       "    }\n",
       "</style>\n",
       "<table border=\"1\" class=\"dataframe\">\n",
       "  <thead>\n",
       "    <tr style=\"text-align: right;\">\n",
       "      <th></th>\n",
       "      <th>universe_id</th>\n",
       "      <th>universe_training_size</th>\n",
       "      <th>universe_scale</th>\n",
       "      <th>universe_model</th>\n",
       "      <th>universe_exclude_features</th>\n",
       "      <th>universe_exclude_subgroups</th>\n",
       "      <th>q_hat</th>\n",
       "      <th>coverage</th>\n",
       "      <th>avg_size</th>\n",
       "    </tr>\n",
       "  </thead>\n",
       "  <tbody>\n",
       "    <tr>\n",
       "      <th>0</th>\n",
       "      <td>f16c9af0e07e7b87c201ba4841843a0d</td>\n",
       "      <td>25k</td>\n",
       "      <td>do-not-scale</td>\n",
       "      <td>elasticnet</td>\n",
       "      <td>age</td>\n",
       "      <td>keep-all</td>\n",
       "      <td>0.646668</td>\n",
       "      <td>0.913176</td>\n",
       "      <td>1.237655</td>\n",
       "    </tr>\n",
       "  </tbody>\n",
       "</table>\n",
       "</div>"
      ],
      "text/plain": [
       "                        universe_id universe_training_size universe_scale  \\\n",
       "0  f16c9af0e07e7b87c201ba4841843a0d                    25k   do-not-scale   \n",
       "\n",
       "  universe_model universe_exclude_features universe_exclude_subgroups  \\\n",
       "0     elasticnet                       age                   keep-all   \n",
       "\n",
       "      q_hat  coverage  avg_size  \n",
       "0  0.646668  0.913176  1.237655  "
      ]
     },
     "execution_count": 61,
     "metadata": {},
     "output_type": "execute_result"
    }
   ],
   "source": [
    "cp_metrics_df"
   ]
  },
  {
   "cell_type": "code",
   "execution_count": 62,
   "id": "b7fbde55-a0a1-47e4-9af6-fe4a17fa8c61",
   "metadata": {
    "execution": {
     "iopub.execute_input": "2025-07-30T13:29:16.563921Z",
     "iopub.status.busy": "2025-07-30T13:29:16.563211Z",
     "iopub.status.idle": "2025-07-30T13:29:16.568580Z",
     "shell.execute_reply": "2025-07-30T13:29:16.567576Z"
    },
    "papermill": {
     "duration": 0.034441,
     "end_time": "2025-07-30T13:29:16.570267",
     "exception": false,
     "start_time": "2025-07-30T13:29:16.535826",
     "status": "completed"
    },
    "tags": []
   },
   "outputs": [],
   "source": [
    "# Conditional Coverage & looking at subgroups"
   ]
  },
  {
   "cell_type": "code",
   "execution_count": 63,
   "id": "027ae886-68dd-4141-96c7-805a5450e1ef",
   "metadata": {
    "execution": {
     "iopub.execute_input": "2025-07-30T13:29:16.627374Z",
     "iopub.status.busy": "2025-07-30T13:29:16.626702Z",
     "iopub.status.idle": "2025-07-30T13:29:16.925506Z",
     "shell.execute_reply": "2025-07-30T13:29:16.924511Z"
    },
    "papermill": {
     "duration": 0.32883,
     "end_time": "2025-07-30T13:29:16.927365",
     "exception": false,
     "start_time": "2025-07-30T13:29:16.598535",
     "status": "completed"
    },
    "tags": []
   },
   "outputs": [],
   "source": [
    "from fairness_multiverse.conformal import build_cp_groups\n",
    "\n",
    "cp_groups_df = build_cp_groups(pred_sets, y_true, X_test.index, org_test)\n",
    "#needs universe_id and setting"
   ]
  },
  {
   "cell_type": "code",
   "execution_count": 64,
   "id": "01d5802c-663a-4d1f-9d69-e036faaffbf7",
   "metadata": {
    "execution": {
     "iopub.execute_input": "2025-07-30T13:29:16.982717Z",
     "iopub.status.busy": "2025-07-30T13:29:16.982071Z",
     "iopub.status.idle": "2025-07-30T13:29:16.987280Z",
     "shell.execute_reply": "2025-07-30T13:29:16.986336Z"
    },
    "papermill": {
     "duration": 0.035108,
     "end_time": "2025-07-30T13:29:16.989062",
     "exception": false,
     "start_time": "2025-07-30T13:29:16.953954",
     "status": "completed"
    },
    "tags": []
   },
   "outputs": [],
   "source": [
    "#delete\n",
    "#cp_groups_df"
   ]
  },
  {
   "cell_type": "code",
   "execution_count": 65,
   "id": "fa424af1-d1eb-443d-b717-2d279ada8408",
   "metadata": {
    "execution": {
     "iopub.execute_input": "2025-07-30T13:29:17.042071Z",
     "iopub.status.busy": "2025-07-30T13:29:17.041435Z",
     "iopub.status.idle": "2025-07-30T13:29:17.047325Z",
     "shell.execute_reply": "2025-07-30T13:29:17.046339Z"
    },
    "papermill": {
     "duration": 0.03419,
     "end_time": "2025-07-30T13:29:17.048903",
     "exception": false,
     "start_time": "2025-07-30T13:29:17.014713",
     "status": "completed"
    },
    "tags": []
   },
   "outputs": [],
   "source": [
    "#delete\n",
    "#percentage = (cp_groups_df['nongerman_female'] == 1).mean() * 100\n",
    "#print(percentage)\n"
   ]
  },
  {
   "cell_type": "code",
   "execution_count": 66,
   "id": "6cbdab96-b2b2-45af-ad54-d0516db2e28d",
   "metadata": {
    "execution": {
     "iopub.execute_input": "2025-07-30T13:29:17.105375Z",
     "iopub.status.busy": "2025-07-30T13:29:17.104851Z",
     "iopub.status.idle": "2025-07-30T13:29:18.767878Z",
     "shell.execute_reply": "2025-07-30T13:29:18.766898Z"
    },
    "papermill": {
     "duration": 1.692691,
     "end_time": "2025-07-30T13:29:18.769954",
     "exception": false,
     "start_time": "2025-07-30T13:29:17.077263",
     "status": "completed"
    },
    "tags": []
   },
   "outputs": [],
   "source": [
    "# Define covered = 1 if true_label is in the predicted set\n",
    "cp_groups_df['covered'] = cp_groups_df.apply(\n",
    "    lambda r: int(r['true_label'] in r['pred_set']),\n",
    "    axis=1\n",
    ")"
   ]
  },
  {
   "cell_type": "code",
   "execution_count": 67,
   "id": "338ff529-1a6b-4b87-a931-8e4788d52aad",
   "metadata": {
    "execution": {
     "iopub.execute_input": "2025-07-30T13:29:18.829907Z",
     "iopub.status.busy": "2025-07-30T13:29:18.828944Z",
     "iopub.status.idle": "2025-07-30T13:29:18.834776Z",
     "shell.execute_reply": "2025-07-30T13:29:18.833684Z"
    },
    "papermill": {
     "duration": 0.036694,
     "end_time": "2025-07-30T13:29:18.836530",
     "exception": false,
     "start_time": "2025-07-30T13:29:18.799836",
     "status": "completed"
    },
    "tags": []
   },
   "outputs": [],
   "source": [
    "#cp_groups_df"
   ]
  },
  {
   "cell_type": "code",
   "execution_count": 68,
   "id": "90032e27-66df-4540-9169-4e89cfbaa758",
   "metadata": {
    "execution": {
     "iopub.execute_input": "2025-07-30T13:29:18.896061Z",
     "iopub.status.busy": "2025-07-30T13:29:18.895394Z",
     "iopub.status.idle": "2025-07-30T13:29:18.907659Z",
     "shell.execute_reply": "2025-07-30T13:29:18.906588Z"
    },
    "papermill": {
     "duration": 0.043838,
     "end_time": "2025-07-30T13:29:18.909443",
     "exception": false,
     "start_time": "2025-07-30T13:29:18.865605",
     "status": "completed"
    },
    "tags": []
   },
   "outputs": [],
   "source": [
    "subgroups = ['frau1','nongerman','nongerman_male','nongerman_female']\n",
    "\n",
    "# Conditional coverage for subgroup==1\n",
    "cond_coverage = {\n",
    "    g: cp_groups_df.loc[cp_groups_df[g]==1, 'covered'].mean()\n",
    "    for g in subgroups\n",
    "}"
   ]
  },
  {
   "cell_type": "code",
   "execution_count": 69,
   "id": "1e348fb1-b9c3-45bc-ba23-f016827a7e0d",
   "metadata": {
    "execution": {
     "iopub.execute_input": "2025-07-30T13:29:18.968111Z",
     "iopub.status.busy": "2025-07-30T13:29:18.967600Z",
     "iopub.status.idle": "2025-07-30T13:29:18.975494Z",
     "shell.execute_reply": "2025-07-30T13:29:18.974580Z"
    },
    "papermill": {
     "duration": 0.038805,
     "end_time": "2025-07-30T13:29:18.977224",
     "exception": false,
     "start_time": "2025-07-30T13:29:18.938419",
     "status": "completed"
    },
    "tags": []
   },
   "outputs": [
    {
     "data": {
      "text/plain": [
       "{'frau1': 0.9118479579458147,\n",
       " 'nongerman': 0.9590748329871442,\n",
       " 'nongerman_male': 0.9676663964694227,\n",
       " 'nongerman_female': 0.9448584202682563}"
      ]
     },
     "execution_count": 69,
     "metadata": {},
     "output_type": "execute_result"
    }
   ],
   "source": [
    "cond_coverage"
   ]
  },
  {
   "cell_type": "code",
   "execution_count": 70,
   "id": "f5093324-c3dd-4d63-bc4c-8d945e5c8bbb",
   "metadata": {
    "execution": {
     "iopub.execute_input": "2025-07-30T13:29:19.037471Z",
     "iopub.status.busy": "2025-07-30T13:29:19.037008Z",
     "iopub.status.idle": "2025-07-30T13:29:19.044686Z",
     "shell.execute_reply": "2025-07-30T13:29:19.043729Z"
    },
    "papermill": {
     "duration": 0.039198,
     "end_time": "2025-07-30T13:29:19.046383",
     "exception": false,
     "start_time": "2025-07-30T13:29:19.007185",
     "status": "completed"
    },
    "tags": []
   },
   "outputs": [],
   "source": [
    "for subgroup, cov in cond_coverage.items():\n",
    "    cp_metrics_df[f\"cov_{subgroup}\"] = cov"
   ]
  },
  {
   "cell_type": "code",
   "execution_count": 71,
   "id": "6e872e10-dbe5-49e8-b554-5030c98ff75d",
   "metadata": {
    "execution": {
     "iopub.execute_input": "2025-07-30T13:29:19.107114Z",
     "iopub.status.busy": "2025-07-30T13:29:19.106397Z",
     "iopub.status.idle": "2025-07-30T13:29:19.125211Z",
     "shell.execute_reply": "2025-07-30T13:29:19.124089Z"
    },
    "papermill": {
     "duration": 0.050385,
     "end_time": "2025-07-30T13:29:19.126927",
     "exception": false,
     "start_time": "2025-07-30T13:29:19.076542",
     "status": "completed"
    },
    "tags": []
   },
   "outputs": [
    {
     "data": {
      "text/html": [
       "<div>\n",
       "<style scoped>\n",
       "    .dataframe tbody tr th:only-of-type {\n",
       "        vertical-align: middle;\n",
       "    }\n",
       "\n",
       "    .dataframe tbody tr th {\n",
       "        vertical-align: top;\n",
       "    }\n",
       "\n",
       "    .dataframe thead th {\n",
       "        text-align: right;\n",
       "    }\n",
       "</style>\n",
       "<table border=\"1\" class=\"dataframe\">\n",
       "  <thead>\n",
       "    <tr style=\"text-align: right;\">\n",
       "      <th></th>\n",
       "      <th>universe_id</th>\n",
       "      <th>universe_training_size</th>\n",
       "      <th>universe_scale</th>\n",
       "      <th>universe_model</th>\n",
       "      <th>universe_exclude_features</th>\n",
       "      <th>universe_exclude_subgroups</th>\n",
       "      <th>q_hat</th>\n",
       "      <th>coverage</th>\n",
       "      <th>avg_size</th>\n",
       "      <th>cov_frau1</th>\n",
       "      <th>cov_nongerman</th>\n",
       "      <th>cov_nongerman_male</th>\n",
       "      <th>cov_nongerman_female</th>\n",
       "    </tr>\n",
       "  </thead>\n",
       "  <tbody>\n",
       "    <tr>\n",
       "      <th>0</th>\n",
       "      <td>f16c9af0e07e7b87c201ba4841843a0d</td>\n",
       "      <td>25k</td>\n",
       "      <td>do-not-scale</td>\n",
       "      <td>elasticnet</td>\n",
       "      <td>age</td>\n",
       "      <td>keep-all</td>\n",
       "      <td>0.646668</td>\n",
       "      <td>0.913176</td>\n",
       "      <td>1.237655</td>\n",
       "      <td>0.911848</td>\n",
       "      <td>0.959075</td>\n",
       "      <td>0.967666</td>\n",
       "      <td>0.944858</td>\n",
       "    </tr>\n",
       "  </tbody>\n",
       "</table>\n",
       "</div>"
      ],
      "text/plain": [
       "                        universe_id universe_training_size universe_scale  \\\n",
       "0  f16c9af0e07e7b87c201ba4841843a0d                    25k   do-not-scale   \n",
       "\n",
       "  universe_model universe_exclude_features universe_exclude_subgroups  \\\n",
       "0     elasticnet                       age                   keep-all   \n",
       "\n",
       "      q_hat  coverage  avg_size  cov_frau1  cov_nongerman  cov_nongerman_male  \\\n",
       "0  0.646668  0.913176  1.237655   0.911848       0.959075            0.967666   \n",
       "\n",
       "   cov_nongerman_female  \n",
       "0              0.944858  "
      ]
     },
     "execution_count": 71,
     "metadata": {},
     "output_type": "execute_result"
    }
   ],
   "source": [
    "cp_metrics_df"
   ]
  },
  {
   "cell_type": "markdown",
   "id": "33774451",
   "metadata": {
    "papermill": {
     "duration": 0.026752,
     "end_time": "2025-07-30T13:29:19.183909",
     "exception": false,
     "start_time": "2025-07-30T13:29:19.157157",
     "status": "completed"
    },
    "tags": []
   },
   "source": [
    "# (Fairness) Metrics"
   ]
  },
  {
   "cell_type": "code",
   "execution_count": 72,
   "id": "debc5d62",
   "metadata": {
    "execution": {
     "iopub.execute_input": "2025-07-30T13:29:19.245711Z",
     "iopub.status.busy": "2025-07-30T13:29:19.245038Z",
     "iopub.status.idle": "2025-07-30T13:29:19.266930Z",
     "shell.execute_reply": "2025-07-30T13:29:19.265981Z"
    },
    "papermill": {
     "duration": 0.054948,
     "end_time": "2025-07-30T13:29:19.268918",
     "exception": false,
     "start_time": "2025-07-30T13:29:19.213970",
     "status": "completed"
    },
    "tags": []
   },
   "outputs": [],
   "source": [
    "# do I need to include maxdeutsch1.missing?\n",
    "\n",
    "import numpy as np\n",
    "\n",
    "colname_to_bin = \"maxdeutsch1\"\n",
    "majority_value = org_train[colname_to_bin].mode()[0]\n",
    "\n",
    "org_test[\"majmin\"] = np.where(org_test[colname_to_bin] == majority_value, \"majority\", \"minority\")"
   ]
  },
  {
   "cell_type": "code",
   "execution_count": 73,
   "id": "06a50de5",
   "metadata": {
    "execution": {
     "iopub.execute_input": "2025-07-30T13:29:19.325843Z",
     "iopub.status.busy": "2025-07-30T13:29:19.325139Z",
     "iopub.status.idle": "2025-07-30T13:29:22.342725Z",
     "shell.execute_reply": "2025-07-30T13:29:22.341827Z"
    },
    "papermill": {
     "duration": 3.047576,
     "end_time": "2025-07-30T13:29:22.344619",
     "exception": false,
     "start_time": "2025-07-30T13:29:19.297043",
     "status": "completed"
    },
    "tags": []
   },
   "outputs": [],
   "source": [
    "example_universe = universe.copy()\n",
    "example_universe[\"cutoff\"] = example_universe[\"cutoff\"][0]\n",
    "example_universe[\"eval_fairness_grouping\"] = example_universe[\"eval_fairness_grouping\"][0]\n",
    "fairness_dict, metric_frame = universe_analysis.compute_metrics(\n",
    "    example_universe,\n",
    "    y_pred_prob=probs_test,\n",
    "    y_test=y_true,\n",
    "    org_test=org_test,\n",
    ")"
   ]
  },
  {
   "cell_type": "markdown",
   "id": "f95d4e02",
   "metadata": {
    "papermill": {
     "duration": 0.026539,
     "end_time": "2025-07-30T13:29:22.401141",
     "exception": false,
     "start_time": "2025-07-30T13:29:22.374602",
     "status": "completed"
    },
    "tags": []
   },
   "source": [
    "# Overall"
   ]
  },
  {
   "cell_type": "markdown",
   "id": "bdee4871",
   "metadata": {
    "papermill": {
     "duration": 0.026331,
     "end_time": "2025-07-30T13:29:22.454524",
     "exception": false,
     "start_time": "2025-07-30T13:29:22.428193",
     "status": "completed"
    },
    "tags": []
   },
   "source": [
    "Fairness\n",
    "Main fairness target: Equalized Odds. Seems to be a better fit than equal opportunity, since we're not only interested in Y = 1. Seems to be a better fit than demographic parity, since we also care about accuracy, not just equal distribution of preds.\n",
    "\n",
    "Pick column for computation of fairness metrics\n",
    "\n",
    "Performance\n",
    "Overall performance measures, most interesting in relation to the measures split by group below"
   ]
  },
  {
   "cell_type": "code",
   "execution_count": 74,
   "id": "c4e067c6",
   "metadata": {
    "execution": {
     "iopub.execute_input": "2025-07-30T13:29:22.499669Z",
     "iopub.status.busy": "2025-07-30T13:29:22.499311Z",
     "iopub.status.idle": "2025-07-30T13:29:22.506964Z",
     "shell.execute_reply": "2025-07-30T13:29:22.506144Z"
    },
    "papermill": {
     "duration": 0.027483,
     "end_time": "2025-07-30T13:29:22.508381",
     "exception": false,
     "start_time": "2025-07-30T13:29:22.480898",
     "status": "completed"
    },
    "tags": []
   },
   "outputs": [
    {
     "data": {
      "text/plain": [
       "accuracy                   0.219964\n",
       "balanced accuracy          0.538767\n",
       "f1                         0.241417\n",
       "precision                  0.137914\n",
       "false positive rate        0.890054\n",
       "false negative rate        0.032412\n",
       "selection rate             0.900000\n",
       "count                  89710.000000\n",
       "dtype: float64"
      ]
     },
     "execution_count": 74,
     "metadata": {},
     "output_type": "execute_result"
    }
   ],
   "source": [
    "metric_frame.overall"
   ]
  },
  {
   "cell_type": "markdown",
   "id": "e968fe9d",
   "metadata": {
    "papermill": {
     "duration": 0.014645,
     "end_time": "2025-07-30T13:29:22.538193",
     "exception": false,
     "start_time": "2025-07-30T13:29:22.523548",
     "status": "completed"
    },
    "tags": []
   },
   "source": [
    "By Group"
   ]
  },
  {
   "cell_type": "code",
   "execution_count": 75,
   "id": "ec325bce",
   "metadata": {
    "execution": {
     "iopub.execute_input": "2025-07-30T13:29:22.570987Z",
     "iopub.status.busy": "2025-07-30T13:29:22.569968Z",
     "iopub.status.idle": "2025-07-30T13:29:22.598258Z",
     "shell.execute_reply": "2025-07-30T13:29:22.587390Z"
    },
    "papermill": {
     "duration": 0.049135,
     "end_time": "2025-07-30T13:29:22.601379",
     "exception": false,
     "start_time": "2025-07-30T13:29:22.552244",
     "status": "completed"
    },
    "tags": []
   },
   "outputs": [
    {
     "data": {
      "text/html": [
       "<div>\n",
       "<style scoped>\n",
       "    .dataframe tbody tr th:only-of-type {\n",
       "        vertical-align: middle;\n",
       "    }\n",
       "\n",
       "    .dataframe tbody tr th {\n",
       "        vertical-align: top;\n",
       "    }\n",
       "\n",
       "    .dataframe thead th {\n",
       "        text-align: right;\n",
       "    }\n",
       "</style>\n",
       "<table border=\"1\" class=\"dataframe\">\n",
       "  <thead>\n",
       "    <tr style=\"text-align: right;\">\n",
       "      <th></th>\n",
       "      <th>accuracy</th>\n",
       "      <th>balanced accuracy</th>\n",
       "      <th>f1</th>\n",
       "      <th>precision</th>\n",
       "      <th>false positive rate</th>\n",
       "      <th>false negative rate</th>\n",
       "      <th>selection rate</th>\n",
       "      <th>count</th>\n",
       "    </tr>\n",
       "    <tr>\n",
       "      <th>majmin</th>\n",
       "      <th></th>\n",
       "      <th></th>\n",
       "      <th></th>\n",
       "      <th></th>\n",
       "      <th></th>\n",
       "      <th></th>\n",
       "      <th></th>\n",
       "      <th></th>\n",
       "    </tr>\n",
       "  </thead>\n",
       "  <tbody>\n",
       "    <tr>\n",
       "      <th>majority</th>\n",
       "      <td>0.243444</td>\n",
       "      <td>0.548173</td>\n",
       "      <td>0.251591</td>\n",
       "      <td>0.144712</td>\n",
       "      <td>0.866017</td>\n",
       "      <td>0.037637</td>\n",
       "      <td>0.878748</td>\n",
       "      <td>69170.0</td>\n",
       "    </tr>\n",
       "    <tr>\n",
       "      <th>minority</th>\n",
       "      <td>0.140896</td>\n",
       "      <td>0.509147</td>\n",
       "      <td>0.209550</td>\n",
       "      <td>0.117208</td>\n",
       "      <td>0.969459</td>\n",
       "      <td>0.012247</td>\n",
       "      <td>0.971568</td>\n",
       "      <td>20540.0</td>\n",
       "    </tr>\n",
       "  </tbody>\n",
       "</table>\n",
       "</div>"
      ],
      "text/plain": [
       "          accuracy  balanced accuracy        f1  precision  \\\n",
       "majmin                                                       \n",
       "majority  0.243444           0.548173  0.251591   0.144712   \n",
       "minority  0.140896           0.509147  0.209550   0.117208   \n",
       "\n",
       "          false positive rate  false negative rate  selection rate    count  \n",
       "majmin                                                                       \n",
       "majority             0.866017             0.037637        0.878748  69170.0  \n",
       "minority             0.969459             0.012247        0.971568  20540.0  "
      ]
     },
     "execution_count": 75,
     "metadata": {},
     "output_type": "execute_result"
    }
   ],
   "source": [
    "metric_frame.by_group"
   ]
  },
  {
   "cell_type": "code",
   "execution_count": 76,
   "id": "a9ddbe63",
   "metadata": {
    "execution": {
     "iopub.execute_input": "2025-07-30T13:29:22.665307Z",
     "iopub.status.busy": "2025-07-30T13:29:22.664754Z",
     "iopub.status.idle": "2025-07-30T13:29:24.912070Z",
     "shell.execute_reply": "2025-07-30T13:29:24.911090Z"
    },
    "papermill": {
     "duration": 2.279366,
     "end_time": "2025-07-30T13:29:24.913750",
     "exception": false,
     "start_time": "2025-07-30T13:29:22.634384",
     "status": "completed"
    },
    "tags": []
   },
   "outputs": [
    {
     "data": {
      "text/plain": [
       "array([[<Axes: title={'center': 'accuracy'}, xlabel='majmin'>,\n",
       "        <Axes: title={'center': 'balanced accuracy'}, xlabel='majmin'>,\n",
       "        <Axes: title={'center': 'f1'}, xlabel='majmin'>],\n",
       "       [<Axes: title={'center': 'precision'}, xlabel='majmin'>,\n",
       "        <Axes: title={'center': 'false positive rate'}, xlabel='majmin'>,\n",
       "        <Axes: title={'center': 'false negative rate'}, xlabel='majmin'>],\n",
       "       [<Axes: title={'center': 'selection rate'}, xlabel='majmin'>,\n",
       "        <Axes: title={'center': 'count'}, xlabel='majmin'>,\n",
       "        <Axes: xlabel='majmin'>]], dtype=object)"
      ]
     },
     "execution_count": 76,
     "metadata": {},
     "output_type": "execute_result"
    },
    {
     "data": {
      "image/png": "[encoded data removed]",
      "text/plain": [
       "<Figure size 1200x800 with 9 Axes>"
      ]
     },
     "metadata": {},
     "output_type": "display_data"
    }
   ],
   "source": [
    "# In a graphic\n",
    "metric_frame.by_group.plot.bar(\n",
    "    subplots=True,\n",
    "    layout=[3, 3],\n",
    "    legend=False,\n",
    "    figsize=[12, 8],\n",
    "    title=\"Show all metrics\",\n",
    ")"
   ]
  },
  {
   "cell_type": "markdown",
   "id": "f57a0bac",
   "metadata": {
    "papermill": {
     "duration": 0.033568,
     "end_time": "2025-07-30T13:29:24.985096",
     "exception": false,
     "start_time": "2025-07-30T13:29:24.951528",
     "status": "completed"
    },
    "tags": []
   },
   "source": [
    "# Final Output"
   ]
  },
  {
   "cell_type": "code",
   "execution_count": 77,
   "id": "96d280a3",
   "metadata": {
    "execution": {
     "iopub.execute_input": "2025-07-30T13:29:25.021333Z",
     "iopub.status.busy": "2025-07-30T13:29:25.020790Z",
     "iopub.status.idle": "2025-07-30T13:29:25.029064Z",
     "shell.execute_reply": "2025-07-30T13:29:25.028124Z"
    },
    "papermill": {
     "duration": 0.027403,
     "end_time": "2025-07-30T13:29:25.030674",
     "exception": false,
     "start_time": "2025-07-30T13:29:25.003271",
     "status": "completed"
    },
    "tags": []
   },
   "outputs": [
    {
     "data": {
      "text/plain": [
       "4"
      ]
     },
     "execution_count": 77,
     "metadata": {},
     "output_type": "execute_result"
    }
   ],
   "source": [
    "sub_universes = universe_analysis.generate_sub_universes()\n",
    "len(sub_universes)"
   ]
  },
  {
   "cell_type": "code",
   "execution_count": 78,
   "id": "92adf7ba",
   "metadata": {
    "execution": {
     "iopub.execute_input": "2025-07-30T13:29:25.096988Z",
     "iopub.status.busy": "2025-07-30T13:29:25.096554Z",
     "iopub.status.idle": "2025-07-30T13:29:25.103567Z",
     "shell.execute_reply": "2025-07-30T13:29:25.102622Z"
    },
    "papermill": {
     "duration": 0.03783,
     "end_time": "2025-07-30T13:29:25.105536",
     "exception": false,
     "start_time": "2025-07-30T13:29:25.067706",
     "status": "completed"
    },
    "tags": []
   },
   "outputs": [],
   "source": [
    "def filter_sub_universe_data(sub_universe, org_test):\n",
    "    # Keep all rows — no filtering\n",
    "    keep_rows_mask = np.ones(org_test.shape[0], dtype=bool)\n",
    "\n",
    "    print(f\"[INFO] Keeping all rows: {keep_rows_mask.sum()} rows retained.\")\n",
    "    return keep_rows_mask"
   ]
  },
  {
   "cell_type": "code",
   "execution_count": 79,
   "id": "4a759155",
   "metadata": {
    "execution": {
     "iopub.execute_input": "2025-07-30T13:29:25.170784Z",
     "iopub.status.busy": "2025-07-30T13:29:25.170298Z",
     "iopub.status.idle": "2025-07-30T13:29:35.883286Z",
     "shell.execute_reply": "2025-07-30T13:29:35.882408Z"
    },
    "papermill": {
     "duration": 10.748205,
     "end_time": "2025-07-30T13:29:35.884603",
     "exception": false,
     "start_time": "2025-07-30T13:29:25.136398",
     "status": "completed"
    },
    "tags": []
   },
   "outputs": [
    {
     "name": "stdout",
     "output_type": "stream",
     "text": [
      "Stopping execution_time clock.\n",
      "[INFO] Keeping all rows: 89710 rows retained.\n"
     ]
    },
    {
     "name": "stdout",
     "output_type": "stream",
     "text": [
      "[INFO] Keeping all rows: 89710 rows retained.\n"
     ]
    },
    {
     "name": "stdout",
     "output_type": "stream",
     "text": [
      "[INFO] Keeping all rows: 89710 rows retained.\n"
     ]
    },
    {
     "name": "stdout",
     "output_type": "stream",
     "text": [
      "[INFO] Keeping all rows: 89710 rows retained.\n"
     ]
    },
    {
     "data": {
      "text/html": [
       "<div>\n",
       "<style scoped>\n",
       "    .dataframe tbody tr th:only-of-type {\n",
       "        vertical-align: middle;\n",
       "    }\n",
       "\n",
       "    .dataframe tbody tr th {\n",
       "        vertical-align: top;\n",
       "    }\n",
       "\n",
       "    .dataframe thead th {\n",
       "        text-align: right;\n",
       "    }\n",
       "</style>\n",
       "<table border=\"1\" class=\"dataframe\">\n",
       "  <thead>\n",
       "    <tr style=\"text-align: right;\">\n",
       "      <th></th>\n",
       "      <th>run_no</th>\n",
       "      <th>universe_id</th>\n",
       "      <th>universe_settings</th>\n",
       "      <th>execution_time</th>\n",
       "      <th>test_size_n</th>\n",
       "      <th>test_size_frac</th>\n",
       "      <th>fair_main_equalized_odds_difference</th>\n",
       "      <th>fair_main_equalized_odds_ratio</th>\n",
       "      <th>fair_main_demographic_parity_difference</th>\n",
       "      <th>fair_main_demographic_parity_ratio</th>\n",
       "      <th>...</th>\n",
       "      <th>perf_grp_precision_0</th>\n",
       "      <th>perf_grp_precision_1</th>\n",
       "      <th>perf_grp_false positive rate_0</th>\n",
       "      <th>perf_grp_false positive rate_1</th>\n",
       "      <th>perf_grp_false negative rate_0</th>\n",
       "      <th>perf_grp_false negative rate_1</th>\n",
       "      <th>perf_grp_selection rate_0</th>\n",
       "      <th>perf_grp_selection rate_1</th>\n",
       "      <th>perf_grp_count_0</th>\n",
       "      <th>perf_grp_count_1</th>\n",
       "    </tr>\n",
       "  </thead>\n",
       "  <tbody>\n",
       "    <tr>\n",
       "      <th>0</th>\n",
       "      <td>12</td>\n",
       "      <td>f16c9af0e07e7b87c201ba4841843a0d</td>\n",
       "      <td>{\"cutoff\": \"quantile_0.1\", \"eval_fairness_grou...</td>\n",
       "      <td>558.821046</td>\n",
       "      <td>89710</td>\n",
       "      <td>1.0</td>\n",
       "      <td>0.103442</td>\n",
       "      <td>0.893300</td>\n",
       "      <td>0.092820</td>\n",
       "      <td>0.904464</td>\n",
       "      <td>...</td>\n",
       "      <td>NaN</td>\n",
       "      <td>NaN</td>\n",
       "      <td>NaN</td>\n",
       "      <td>NaN</td>\n",
       "      <td>NaN</td>\n",
       "      <td>NaN</td>\n",
       "      <td>NaN</td>\n",
       "      <td>NaN</td>\n",
       "      <td>NaN</td>\n",
       "      <td>NaN</td>\n",
       "    </tr>\n",
       "    <tr>\n",
       "      <th>0</th>\n",
       "      <td>12</td>\n",
       "      <td>f16c9af0e07e7b87c201ba4841843a0d</td>\n",
       "      <td>{\"cutoff\": \"quantile_0.1\", \"eval_fairness_grou...</td>\n",
       "      <td>558.821046</td>\n",
       "      <td>89710</td>\n",
       "      <td>1.0</td>\n",
       "      <td>0.103442</td>\n",
       "      <td>0.893300</td>\n",
       "      <td>0.092820</td>\n",
       "      <td>0.904464</td>\n",
       "      <td>...</td>\n",
       "      <td>0.117208</td>\n",
       "      <td>0.144712</td>\n",
       "      <td>0.969459</td>\n",
       "      <td>0.866017</td>\n",
       "      <td>0.012247</td>\n",
       "      <td>0.037637</td>\n",
       "      <td>0.971568</td>\n",
       "      <td>0.878748</td>\n",
       "      <td>20540.0</td>\n",
       "      <td>69170.0</td>\n",
       "    </tr>\n",
       "    <tr>\n",
       "      <th>0</th>\n",
       "      <td>12</td>\n",
       "      <td>f16c9af0e07e7b87c201ba4841843a0d</td>\n",
       "      <td>{\"cutoff\": \"quantile_0.25\", \"eval_fairness_gro...</td>\n",
       "      <td>558.821046</td>\n",
       "      <td>89710</td>\n",
       "      <td>1.0</td>\n",
       "      <td>0.243906</td>\n",
       "      <td>0.733719</td>\n",
       "      <td>0.221385</td>\n",
       "      <td>0.759545</td>\n",
       "      <td>...</td>\n",
       "      <td>NaN</td>\n",
       "      <td>NaN</td>\n",
       "      <td>NaN</td>\n",
       "      <td>NaN</td>\n",
       "      <td>NaN</td>\n",
       "      <td>NaN</td>\n",
       "      <td>NaN</td>\n",
       "      <td>NaN</td>\n",
       "      <td>NaN</td>\n",
       "      <td>NaN</td>\n",
       "    </tr>\n",
       "    <tr>\n",
       "      <th>0</th>\n",
       "      <td>12</td>\n",
       "      <td>f16c9af0e07e7b87c201ba4841843a0d</td>\n",
       "      <td>{\"cutoff\": \"quantile_0.25\", \"eval_fairness_gro...</td>\n",
       "      <td>558.821046</td>\n",
       "      <td>89710</td>\n",
       "      <td>1.0</td>\n",
       "      <td>0.243906</td>\n",
       "      <td>0.733719</td>\n",
       "      <td>0.221385</td>\n",
       "      <td>0.759545</td>\n",
       "      <td>...</td>\n",
       "      <td>0.119824</td>\n",
       "      <td>0.165947</td>\n",
       "      <td>0.915970</td>\n",
       "      <td>0.672064</td>\n",
       "      <td>0.043074</td>\n",
       "      <td>0.121772</td>\n",
       "      <td>0.920691</td>\n",
       "      <td>0.699306</td>\n",
       "      <td>20540.0</td>\n",
       "      <td>69170.0</td>\n",
       "    </tr>\n",
       "  </tbody>\n",
       "</table>\n",
       "<p>4 rows × 50 columns</p>\n",
       "</div>"
      ],
      "text/plain": [
       "  run_no                       universe_id  \\\n",
       "0     12  f16c9af0e07e7b87c201ba4841843a0d   \n",
       "0     12  f16c9af0e07e7b87c201ba4841843a0d   \n",
       "0     12  f16c9af0e07e7b87c201ba4841843a0d   \n",
       "0     12  f16c9af0e07e7b87c201ba4841843a0d   \n",
       "\n",
       "                                   universe_settings  execution_time  \\\n",
       "0  {\"cutoff\": \"quantile_0.1\", \"eval_fairness_grou...      558.821046   \n",
       "0  {\"cutoff\": \"quantile_0.1\", \"eval_fairness_grou...      558.821046   \n",
       "0  {\"cutoff\": \"quantile_0.25\", \"eval_fairness_gro...      558.821046   \n",
       "0  {\"cutoff\": \"quantile_0.25\", \"eval_fairness_gro...      558.821046   \n",
       "\n",
       "   test_size_n  test_size_frac  fair_main_equalized_odds_difference  \\\n",
       "0        89710             1.0                             0.103442   \n",
       "0        89710             1.0                             0.103442   \n",
       "0        89710             1.0                             0.243906   \n",
       "0        89710             1.0                             0.243906   \n",
       "\n",
       "   fair_main_equalized_odds_ratio  fair_main_demographic_parity_difference  \\\n",
       "0                        0.893300                                 0.092820   \n",
       "0                        0.893300                                 0.092820   \n",
       "0                        0.733719                                 0.221385   \n",
       "0                        0.733719                                 0.221385   \n",
       "\n",
       "   fair_main_demographic_parity_ratio  ...  perf_grp_precision_0  \\\n",
       "0                            0.904464  ...                   NaN   \n",
       "0                            0.904464  ...              0.117208   \n",
       "0                            0.759545  ...                   NaN   \n",
       "0                            0.759545  ...              0.119824   \n",
       "\n",
       "   perf_grp_precision_1  perf_grp_false positive rate_0  \\\n",
       "0                   NaN                             NaN   \n",
       "0              0.144712                        0.969459   \n",
       "0                   NaN                             NaN   \n",
       "0              0.165947                        0.915970   \n",
       "\n",
       "   perf_grp_false positive rate_1  perf_grp_false negative rate_0  \\\n",
       "0                             NaN                             NaN   \n",
       "0                        0.866017                        0.012247   \n",
       "0                             NaN                             NaN   \n",
       "0                        0.672064                        0.043074   \n",
       "\n",
       "   perf_grp_false negative rate_1  perf_grp_selection rate_0  \\\n",
       "0                             NaN                        NaN   \n",
       "0                        0.037637                   0.971568   \n",
       "0                             NaN                        NaN   \n",
       "0                        0.121772                   0.920691   \n",
       "\n",
       "   perf_grp_selection rate_1  perf_grp_count_0  perf_grp_count_1  \n",
       "0                        NaN               NaN               NaN  \n",
       "0                   0.878748           20540.0           69170.0  \n",
       "0                        NaN               NaN               NaN  \n",
       "0                   0.699306           20540.0           69170.0  \n",
       "\n",
       "[4 rows x 50 columns]"
      ]
     },
     "execution_count": 79,
     "metadata": {},
     "output_type": "execute_result"
    }
   ],
   "source": [
    "final_output = universe_analysis.generate_final_output(\n",
    "    y_pred_prob=probs_test,\n",
    "    y_test=y_true,\n",
    "    org_test=org_test,\n",
    "    filter_data=filter_sub_universe_data,\n",
    "    cp_metrics_df=cp_metrics_df,\n",
    "    save=True,\n",
    ")\n",
    "final_output"
   ]
  },
  {
   "cell_type": "code",
   "execution_count": null,
   "id": "721ff514-cb11-46f8-b6fc-50392f74b5cb",
   "metadata": {
    "papermill": {
     "duration": 0.028723,
     "end_time": "2025-07-30T13:29:35.942444",
     "exception": false,
     "start_time": "2025-07-30T13:29:35.913721",
     "status": "completed"
    },
    "tags": []
   },
   "outputs": [],
   "source": []
  }
 ],
 "metadata": {
  "celltoolbar": "Tags",
  "kernelspec": {
   "display_name": "Python (CMA Fairness)",
   "language": "python",
   "name": "cma_fair_env"
  },
  "language_info": {
   "codemirror_mode": {
    "name": "ipython",
    "version": 3
   },
   "file_extension": ".py",
   "mimetype": "text/x-python",
   "name": "python",
   "nbconvert_exporter": "python",
   "pygments_lexer": "ipython3",
   "version": "3.10.12"
  },
  "papermill": {
   "default_parameters": {},
   "duration": 574.232635,
   "end_time": "2025-07-30T13:29:36.717017",
   "environment_variables": {},
   "exception": null,
   "input_path": "universe_analysis.ipynb",
   "output_path": "output/runs/12/notebooks/m_12-f16c9af0e07e7b87c201ba4841843a0d.ipynb",
   "parameters": {
    "output_dir": "output",
    "run_no": "12",
    "seed": "2023",
    "universe": "{\"cutoff\": [\"quantile_0.1\", \"quantile_0.25\"], \"eval_fairness_grouping\": [\"majority-minority\", \"nationality-all\"], \"exclude_features\": \"age\", \"exclude_subgroups\": \"keep-all\", \"model\": \"elasticnet\", \"scale\": \"do-not-scale\", \"training_size\": \"25k\", \"training_year\": \"2012_14\"}",
    "universe_id": "f16c9af0e07e7b87c201ba4841843a0d"
   },
   "start_time": "2025-07-30T13:20:02.484382",
   "version": "2.6.0"
  }
 },
 "nbformat": 4,
 "nbformat_minor": 5
}