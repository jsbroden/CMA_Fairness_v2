{
 "cells": [
  {
   "cell_type": "code",
   "execution_count": 1,
   "id": "f159f837-637b-42ba-96b5-ec9a68c44524",
   "metadata": {
    "execution": {
     "iopub.execute_input": "2025-07-30T14:22:00.500349Z",
     "iopub.status.busy": "2025-07-30T14:22:00.499697Z",
     "iopub.status.idle": "2025-07-30T14:22:00.513489Z",
     "shell.execute_reply": "2025-07-30T14:22:00.512406Z"
    },
    "papermill": {
     "duration": 0.03695,
     "end_time": "2025-07-30T14:22:00.515867",
     "exception": false,
     "start_time": "2025-07-30T14:22:00.478917",
     "status": "completed"
    },
    "tags": []
   },
   "outputs": [
    {
     "name": "stdout",
     "output_type": "stream",
     "text": [
      "/dss/dsshome1/0C/ra93lal2/cma/CMA_Fairness_v2\n"
     ]
    },
    {
     "name": "stderr",
     "output_type": "stream",
     "text": [
      "/dss/dsshome1/0C/ra93lal2/.local/share/virtualenvs/CMA_Fairness_v2-3j10GkSs/lib/python3.10/site-packages/IPython/core/magics/osm.py:393: UserWarning: This is now an optional IPython functionality, using bookmarks requires you to install the `pickleshare` library.\n",
      "  bkms = self.shell.db.get('bookmarks', {})\n",
      "/dss/dsshome1/0C/ra93lal2/.local/share/virtualenvs/CMA_Fairness_v2-3j10GkSs/lib/python3.10/site-packages/IPython/core/magics/osm.py:417: UserWarning: This is now an optional IPython functionality, setting dhist requires you to install the `pickleshare` library.\n",
      "  self.shell.db['dhist'] = compress_dhist(dhist)[-100:]\n"
     ]
    }
   ],
   "source": [
    "%cd ~/cma/CMA_Fairness_v2"
   ]
  },
  {
   "cell_type": "markdown",
   "id": "de2603b9",
   "metadata": {
    "papermill": {
     "duration": 0.072721,
     "end_time": "2025-07-30T14:22:00.607030",
     "exception": false,
     "start_time": "2025-07-30T14:22:00.534309",
     "status": "completed"
    },
    "tags": []
   },
   "source": [
    "The following cell holds the definition of our parameters, these values can be overriden by rendering the with e.g. the following command:\n",
    "\n",
    "papermill -p alpha 0.2 -p ratio 0.3 universe_analysis.ipynb output/test_run.ipynb"
   ]
  },
  {
   "cell_type": "code",
   "execution_count": 2,
   "id": "a80968a0-40bb-4fa9-85ef-2d5eefb01975",
   "metadata": {
    "execution": {
     "iopub.execute_input": "2025-07-30T14:22:00.646824Z",
     "iopub.status.busy": "2025-07-30T14:22:00.646344Z",
     "iopub.status.idle": "2025-07-30T14:22:00.651684Z",
     "shell.execute_reply": "2025-07-30T14:22:00.650707Z"
    },
    "papermill": {
     "duration": 0.027757,
     "end_time": "2025-07-30T14:22:00.653335",
     "exception": false,
     "start_time": "2025-07-30T14:22:00.625578",
     "status": "completed"
    },
    "tags": []
   },
   "outputs": [
    {
     "name": "stdout",
     "output_type": "stream",
     "text": [
      "Current working directory: /dss/dsshome1/0C/ra93lal2/cma/CMA_Fairness_v2\n"
     ]
    }
   ],
   "source": [
    "import os\n",
    "print(\"Current working directory:\", os.getcwd())"
   ]
  },
  {
   "cell_type": "code",
   "execution_count": 3,
   "id": "2dce4c03",
   "metadata": {
    "execution": {
     "iopub.execute_input": "2025-07-30T14:22:00.693346Z",
     "iopub.status.busy": "2025-07-30T14:22:00.692893Z",
     "iopub.status.idle": "2025-07-30T14:22:00.698530Z",
     "shell.execute_reply": "2025-07-30T14:22:00.697639Z"
    },
    "papermill": {
     "duration": 0.029565,
     "end_time": "2025-07-30T14:22:00.702245",
     "exception": false,
     "start_time": "2025-07-30T14:22:00.672680",
     "status": "completed"
    },
    "tags": [
     "parameters"
    ]
   },
   "outputs": [],
   "source": [
    "run_no = 0\n",
    "universe_id = \"test\"\n",
    "universe = {\n",
    "    \"training_size\": \"25k\", # \"25k\", \"5k\", \"1k\"\n",
    "    \"training_year\": \"2014\", # \"2014\", \"2012_14\", \"2010_14\"\n",
    "    \"scale\": \"scale\", # \"scale\", \"do-not-scale\",\n",
    "    #\"stratify_split\": \"target\", # \"none\", \"target\", \"protected-attribute\", \"both\",\n",
    "    \"model\": \"elasticnet\", # \"logreg\", \"penalized_logreg\", \"rf\", \"gbm\", \"elasticnet\"\n",
    "    \"cutoff\": [\"quantile_0.15\", \"quantile_0.30\"],\n",
    "    \"exclude_features\": \"age\", # \"none\", \"nationality\", \"sex\", \"nationality-sex\", \"age\"\n",
    "    \"exclude_subgroups\": \"keep-all\", # \"keep-all\", \"drop-non-german\"\n",
    "    \"eval_fairness_grouping\": [\"majority-minority\", \"nationality-all\"]\n",
    "}\n",
    "\n",
    "output_dir=\"./output\"\n",
    "seed=0"
   ]
  },
  {
   "cell_type": "code",
   "execution_count": 4,
   "id": "0ae08a8f",
   "metadata": {
    "execution": {
     "iopub.execute_input": "2025-07-30T14:22:00.743873Z",
     "iopub.status.busy": "2025-07-30T14:22:00.743410Z",
     "iopub.status.idle": "2025-07-30T14:22:00.748553Z",
     "shell.execute_reply": "2025-07-30T14:22:00.747622Z"
    },
    "papermill": {
     "duration": 0.02754,
     "end_time": "2025-07-30T14:22:00.750174",
     "exception": false,
     "start_time": "2025-07-30T14:22:00.722634",
     "status": "completed"
    },
    "tags": [
     "injected-parameters"
    ]
   },
   "outputs": [],
   "source": [
    "# Parameters\n",
    "universe_id = \"7c8ce3b0f4107efd6c8da94e82cafd64\"\n",
    "run_no = \"12\"\n",
    "universe = \"{\\\"cutoff\\\": [\\\"quantile_0.1\\\", \\\"quantile_0.25\\\"], \\\"eval_fairness_grouping\\\": [\\\"majority-minority\\\", \\\"nationality-all\\\"], \\\"exclude_features\\\": \\\"nationality\\\", \\\"exclude_subgroups\\\": \\\"drop-non-german\\\", \\\"model\\\": \\\"gbm\\\", \\\"scale\\\": \\\"scale\\\", \\\"training_size\\\": \\\"1k\\\", \\\"training_year\\\": \\\"2014\\\"}\"\n",
    "output_dir = \"output\"\n",
    "seed = \"2023\"\n"
   ]
  },
  {
   "cell_type": "code",
   "execution_count": 5,
   "id": "1650acaf",
   "metadata": {
    "execution": {
     "iopub.execute_input": "2025-07-30T14:22:00.791515Z",
     "iopub.status.busy": "2025-07-30T14:22:00.790850Z",
     "iopub.status.idle": "2025-07-30T14:22:00.796290Z",
     "shell.execute_reply": "2025-07-30T14:22:00.795289Z"
    },
    "papermill": {
     "duration": 0.027328,
     "end_time": "2025-07-30T14:22:00.798048",
     "exception": false,
     "start_time": "2025-07-30T14:22:00.770720",
     "status": "completed"
    },
    "tags": []
   },
   "outputs": [],
   "source": [
    "import json\n",
    "# Parse universe into dict if it is passed as a string\n",
    "if isinstance(universe, str):\n",
    "    universe = json.loads(universe)"
   ]
  },
  {
   "cell_type": "code",
   "execution_count": 6,
   "id": "16620c48",
   "metadata": {
    "execution": {
     "iopub.execute_input": "2025-07-30T14:22:00.837578Z",
     "iopub.status.busy": "2025-07-30T14:22:00.837141Z",
     "iopub.status.idle": "2025-07-30T14:22:00.883252Z",
     "shell.execute_reply": "2025-07-30T14:22:00.882382Z"
    },
    "papermill": {
     "duration": 0.067898,
     "end_time": "2025-07-30T14:22:00.884998",
     "exception": false,
     "start_time": "2025-07-30T14:22:00.817100",
     "status": "completed"
    },
    "tags": []
   },
   "outputs": [],
   "source": [
    "# Auto-reload the custom package\n",
    "%load_ext autoreload\n",
    "%autoreload 1\n",
    "%aimport fairness_multiverse"
   ]
  },
  {
   "cell_type": "code",
   "execution_count": 7,
   "id": "01c5c9f3",
   "metadata": {
    "execution": {
     "iopub.execute_input": "2025-07-30T14:22:00.923851Z",
     "iopub.status.busy": "2025-07-30T14:22:00.923088Z",
     "iopub.status.idle": "2025-07-30T14:22:02.726331Z",
     "shell.execute_reply": "2025-07-30T14:22:02.725216Z"
    },
    "papermill": {
     "duration": 1.824337,
     "end_time": "2025-07-30T14:22:02.728233",
     "exception": false,
     "start_time": "2025-07-30T14:22:00.903896",
     "status": "completed"
    },
    "tags": []
   },
   "outputs": [],
   "source": [
    "from fairness_multiverse.universe import UniverseAnalysis\n",
    "\n",
    "universe_analysis = UniverseAnalysis(\n",
    "    run_no = run_no,\n",
    "    universe_id = universe_id,\n",
    "    universe = universe,\n",
    "    output_dir=output_dir,\n",
    ")"
   ]
  },
  {
   "cell_type": "code",
   "execution_count": 8,
   "id": "106241f5",
   "metadata": {
    "execution": {
     "iopub.execute_input": "2025-07-30T14:22:02.767527Z",
     "iopub.status.busy": "2025-07-30T14:22:02.766684Z",
     "iopub.status.idle": "2025-07-30T14:22:02.773500Z",
     "shell.execute_reply": "2025-07-30T14:22:02.772502Z"
    },
    "papermill": {
     "duration": 0.028292,
     "end_time": "2025-07-30T14:22:02.775367",
     "exception": false,
     "start_time": "2025-07-30T14:22:02.747075",
     "status": "completed"
    },
    "tags": []
   },
   "outputs": [
    {
     "name": "stdout",
     "output_type": "stream",
     "text": [
      "Using Seed: 2023\n"
     ]
    }
   ],
   "source": [
    "import numpy as np\n",
    "parsed_seed = int(seed)\n",
    "np.random.seed(parsed_seed)\n",
    "print(f\"Using Seed: {parsed_seed}\")"
   ]
  },
  {
   "cell_type": "markdown",
   "id": "e0ebdc57",
   "metadata": {
    "papermill": {
     "duration": 0.021513,
     "end_time": "2025-07-30T14:22:02.820054",
     "exception": false,
     "start_time": "2025-07-30T14:22:02.798541",
     "status": "completed"
    },
    "tags": []
   },
   "source": [
    "# Loading Data"
   ]
  },
  {
   "cell_type": "markdown",
   "id": "681925a3",
   "metadata": {
    "papermill": {
     "duration": 0.021976,
     "end_time": "2025-07-30T14:22:02.864062",
     "exception": false,
     "start_time": "2025-07-30T14:22:02.842086",
     "status": "completed"
    },
    "tags": []
   },
   "source": [
    "Load siab_train, siab_test, siab_calib and/or \n",
    "load siab_train_features, siab_train_labels"
   ]
  },
  {
   "cell_type": "code",
   "execution_count": 9,
   "id": "f0496b8a",
   "metadata": {
    "execution": {
     "iopub.execute_input": "2025-07-30T14:22:02.909056Z",
     "iopub.status.busy": "2025-07-30T14:22:02.908537Z",
     "iopub.status.idle": "2025-07-30T14:22:14.282052Z",
     "shell.execute_reply": "2025-07-30T14:22:14.280786Z"
    },
    "papermill": {
     "duration": 11.398052,
     "end_time": "2025-07-30T14:22:14.283841",
     "exception": false,
     "start_time": "2025-07-30T14:22:02.885789",
     "status": "completed"
    },
    "tags": []
   },
   "outputs": [
    {
     "name": "stdout",
     "output_type": "stream",
     "text": [
      "Loading SIAB data from cache: data/siab_cached.csv.gz\n"
     ]
    },
    {
     "name": "stdout",
     "output_type": "stream",
     "text": [
      "(643690, 164)\n"
     ]
    }
   ],
   "source": [
    "from pathlib import Path\n",
    "import pandas as pd\n",
    "\n",
    "# File paths\n",
    "raw_file = Path(\"data/raw/siab.csv\")\n",
    "cache_file = Path(\"data/siab_cached.csv.gz\")\n",
    "\n",
    "# Ensure cache directory exists\n",
    "cache_file.parent.mkdir(parents=True, exist_ok=True)\n",
    "\n",
    "# Load with simple caching\n",
    "if cache_file.exists():\n",
    "    print(f\"Loading SIAB data from cache: {cache_file}\")\n",
    "    siab = pd.read_csv(cache_file, compression='gzip')\n",
    "else:\n",
    "    print(f\"Cache not found. Reading raw SIAB data: {raw_file}\")\n",
    "    siab = pd.read_csv(raw_file)\n",
    "    siab.to_csv(cache_file, index=False, compression='gzip')\n",
    "    print(f\"Cached SIAB data to: {cache_file}\")\n",
    "\n",
    "# Now use `siab` DataFrame as needed\n",
    "print(siab.shape)"
   ]
  },
  {
   "cell_type": "code",
   "execution_count": 10,
   "id": "db0ca512-5f53-4dba-abdb-a2888bca41ba",
   "metadata": {
    "execution": {
     "iopub.execute_input": "2025-07-30T14:22:14.334115Z",
     "iopub.status.busy": "2025-07-30T14:22:14.333576Z",
     "iopub.status.idle": "2025-07-30T14:22:14.339276Z",
     "shell.execute_reply": "2025-07-30T14:22:14.338241Z"
    },
    "papermill": {
     "duration": 0.030658,
     "end_time": "2025-07-30T14:22:14.340997",
     "exception": false,
     "start_time": "2025-07-30T14:22:14.310339",
     "status": "completed"
    },
    "tags": []
   },
   "outputs": [],
   "source": [
    "#siab"
   ]
  },
  {
   "cell_type": "code",
   "execution_count": 11,
   "id": "a0edb063",
   "metadata": {
    "execution": {
     "iopub.execute_input": "2025-07-30T14:22:14.386396Z",
     "iopub.status.busy": "2025-07-30T14:22:14.385592Z",
     "iopub.status.idle": "2025-07-30T14:22:14.391459Z",
     "shell.execute_reply": "2025-07-30T14:22:14.390394Z"
    },
    "papermill": {
     "duration": 0.030453,
     "end_time": "2025-07-30T14:22:14.393111",
     "exception": false,
     "start_time": "2025-07-30T14:22:14.362658",
     "status": "completed"
    },
    "tags": []
   },
   "outputs": [],
   "source": [
    "#import pandas as pd\n",
    "#\n",
    "#X_train = pd.read_csv(\"./data/X_train.csv\")\n",
    "#y_train = pd.read_csv(\"./data/y_train.csv\")"
   ]
  },
  {
   "cell_type": "code",
   "execution_count": 12,
   "id": "63d08085",
   "metadata": {
    "execution": {
     "iopub.execute_input": "2025-07-30T14:22:14.440015Z",
     "iopub.status.busy": "2025-07-30T14:22:14.439163Z",
     "iopub.status.idle": "2025-07-30T14:22:14.444918Z",
     "shell.execute_reply": "2025-07-30T14:22:14.443865Z"
    },
    "papermill": {
     "duration": 0.031832,
     "end_time": "2025-07-30T14:22:14.446878",
     "exception": false,
     "start_time": "2025-07-30T14:22:14.415046",
     "status": "completed"
    },
    "tags": []
   },
   "outputs": [],
   "source": [
    "#X_test = pd.read_csv(\"./data/X_test.csv\")\n",
    "#y_true = pd.read_csv(\"./data/y_test.csv\")"
   ]
  },
  {
   "cell_type": "code",
   "execution_count": 13,
   "id": "98a8d0fa-1d3d-4ed8-bb2c-281470e24add",
   "metadata": {
    "execution": {
     "iopub.execute_input": "2025-07-30T14:22:14.492607Z",
     "iopub.status.busy": "2025-07-30T14:22:14.491842Z",
     "iopub.status.idle": "2025-07-30T14:22:14.497174Z",
     "shell.execute_reply": "2025-07-30T14:22:14.496163Z"
    },
    "papermill": {
     "duration": 0.028929,
     "end_time": "2025-07-30T14:22:14.498931",
     "exception": false,
     "start_time": "2025-07-30T14:22:14.470002",
     "status": "completed"
    },
    "tags": []
   },
   "outputs": [],
   "source": [
    "# Calibration data for conformal\n",
    "#X_calib = pd.read_csv(\"./data/X_calib.csv\")\n",
    "#y_calib = pd.read_csv(\"./data/y_calib.csv\")"
   ]
  },
  {
   "cell_type": "markdown",
   "id": "997051c5-15bd-4b69-9786-c3001a3ce484",
   "metadata": {
    "papermill": {
     "duration": 0.020826,
     "end_time": "2025-07-30T14:22:14.542161",
     "exception": false,
     "start_time": "2025-07-30T14:22:14.521335",
     "status": "completed"
    },
    "tags": []
   },
   "source": [
    "# Splitting Data and Setting Training Data Size"
   ]
  },
  {
   "cell_type": "code",
   "execution_count": 14,
   "id": "e993b61f-042d-41a6-8c81-f55681f86335",
   "metadata": {
    "execution": {
     "iopub.execute_input": "2025-07-30T14:22:14.585960Z",
     "iopub.status.busy": "2025-07-30T14:22:14.585466Z",
     "iopub.status.idle": "2025-07-30T14:22:14.600192Z",
     "shell.execute_reply": "2025-07-30T14:22:14.599090Z"
    },
    "papermill": {
     "duration": 0.039496,
     "end_time": "2025-07-30T14:22:14.601963",
     "exception": false,
     "start_time": "2025-07-30T14:22:14.562467",
     "status": "completed"
    },
    "tags": []
   },
   "outputs": [],
   "source": [
    "def sample_by_year_size(df,\n",
    "                        training_year: str,\n",
    "                        training_size: str,\n",
    "                        random_state: int = 42):\n",
    "    # --- parse training_year into a list of int years ---\n",
    "    if \"_\" in training_year:\n",
    "        start_str, end_str = training_year.split(\"_\", 1)\n",
    "        start = int(start_str)\n",
    "        end   = int(end_str) if len(end_str) == 4 else (int(end_str) + (start // 100)*100)\n",
    "        years = list(range(start, end + 1))\n",
    "    else:\n",
    "        years = [int(training_year)]\n",
    "\n",
    "    df = df[df[\"year\"].isin(years)].reset_index(drop=True)\n",
    "\n",
    "    # --- map training_size to total number of samples ---\n",
    "    total_map = {\"25k\": 25_000, \"5k\": 5_000, \"1k\": 1_000}\n",
    "    if training_size not in total_map:\n",
    "        return df  # e.g. \"all\"\n",
    "\n",
    "    total_samples = total_map[training_size]\n",
    "    n_years       = len(years)\n",
    "    base          = total_samples // n_years\n",
    "    remainder     = total_samples % n_years\n",
    "\n",
    "    # --- build a dict: year -> how many to sample ---\n",
    "    # give +1 to the first `remainder` years in ascending order\n",
    "    quotas = {\n",
    "        year: base + (1 if idx < remainder else 0)\n",
    "        for idx, year in enumerate(sorted(years))\n",
    "    }\n",
    "\n",
    "    # --- sample per‐year according to the quota dict ---\n",
    "    sampled = (\n",
    "        df\n",
    "        .groupby(\"year\", group_keys=False)\n",
    "        .apply(lambda grp: grp.sample(\n",
    "            n=min(len(grp), quotas[grp.name]),\n",
    "            random_state=random_state))\n",
    "        .reset_index(drop=True)\n",
    "    )\n",
    "\n",
    "    return sampled"
   ]
  },
  {
   "cell_type": "code",
   "execution_count": 15,
   "id": "c0ccd338-0e02-41f3-a09d-f56f9266e3fb",
   "metadata": {
    "execution": {
     "iopub.execute_input": "2025-07-30T14:22:14.653381Z",
     "iopub.status.busy": "2025-07-30T14:22:14.652847Z",
     "iopub.status.idle": "2025-07-30T14:22:14.665524Z",
     "shell.execute_reply": "2025-07-30T14:22:14.664392Z"
    },
    "papermill": {
     "duration": 0.043515,
     "end_time": "2025-07-30T14:22:14.667862",
     "exception": false,
     "start_time": "2025-07-30T14:22:14.624347",
     "status": "completed"
    },
    "tags": []
   },
   "outputs": [
    {
     "data": {
      "text/plain": [
       "'1k'"
      ]
     },
     "execution_count": 15,
     "metadata": {},
     "output_type": "execute_result"
    }
   ],
   "source": [
    "universe[\"training_size\"]"
   ]
  },
  {
   "cell_type": "code",
   "execution_count": 16,
   "id": "ca707fd7-8047-4acd-bfa5-66248fbbf8e6",
   "metadata": {
    "execution": {
     "iopub.execute_input": "2025-07-30T14:22:14.715684Z",
     "iopub.status.busy": "2025-07-30T14:22:14.714763Z",
     "iopub.status.idle": "2025-07-30T14:22:14.722642Z",
     "shell.execute_reply": "2025-07-30T14:22:14.721502Z"
    },
    "papermill": {
     "duration": 0.033092,
     "end_time": "2025-07-30T14:22:14.724482",
     "exception": false,
     "start_time": "2025-07-30T14:22:14.691390",
     "status": "completed"
    },
    "tags": []
   },
   "outputs": [
    {
     "data": {
      "text/plain": [
       "'2014'"
      ]
     },
     "execution_count": 16,
     "metadata": {},
     "output_type": "execute_result"
    }
   ],
   "source": [
    "universe[\"training_year\"]"
   ]
  },
  {
   "cell_type": "code",
   "execution_count": 17,
   "id": "aea9c6ef-6f46-42c8-85eb-5a62025c1508",
   "metadata": {
    "execution": {
     "iopub.execute_input": "2025-07-30T14:22:14.772404Z",
     "iopub.status.busy": "2025-07-30T14:22:14.771352Z",
     "iopub.status.idle": "2025-07-30T14:22:15.046001Z",
     "shell.execute_reply": "2025-07-30T14:22:15.045003Z"
    },
    "papermill": {
     "duration": 0.30074,
     "end_time": "2025-07-30T14:22:15.048060",
     "exception": false,
     "start_time": "2025-07-30T14:22:14.747320",
     "status": "completed"
    },
    "tags": []
   },
   "outputs": [],
   "source": [
    "siab_train = sample_by_year_size(siab,\n",
    "                               training_year=universe[\"training_year\"],\n",
    "                               training_size=universe[\"training_size\"])"
   ]
  },
  {
   "cell_type": "code",
   "execution_count": 18,
   "id": "8d3afb32-789d-442c-8d5d-9f5aa8dd2eed",
   "metadata": {
    "execution": {
     "iopub.execute_input": "2025-07-30T14:22:15.082142Z",
     "iopub.status.busy": "2025-07-30T14:22:15.081779Z",
     "iopub.status.idle": "2025-07-30T14:22:15.087974Z",
     "shell.execute_reply": "2025-07-30T14:22:15.086979Z"
    },
    "papermill": {
     "duration": 0.02175,
     "end_time": "2025-07-30T14:22:15.089469",
     "exception": false,
     "start_time": "2025-07-30T14:22:15.067719",
     "status": "completed"
    },
    "tags": []
   },
   "outputs": [
    {
     "data": {
      "text/plain": [
       "(1000, 164)"
      ]
     },
     "execution_count": 18,
     "metadata": {},
     "output_type": "execute_result"
    }
   ],
   "source": [
    "siab_train.shape"
   ]
  },
  {
   "cell_type": "code",
   "execution_count": 19,
   "id": "d582db68-1a4c-47fb-84fc-08518dc1975a",
   "metadata": {
    "execution": {
     "iopub.execute_input": "2025-07-30T14:22:15.115818Z",
     "iopub.status.busy": "2025-07-30T14:22:15.115247Z",
     "iopub.status.idle": "2025-07-30T14:22:15.125293Z",
     "shell.execute_reply": "2025-07-30T14:22:15.124316Z"
    },
    "papermill": {
     "duration": 0.024882,
     "end_time": "2025-07-30T14:22:15.127077",
     "exception": false,
     "start_time": "2025-07-30T14:22:15.102195",
     "status": "completed"
    },
    "tags": []
   },
   "outputs": [
    {
     "data": {
      "text/plain": [
       "year\n",
       "2014    1000\n",
       "dtype: int64"
      ]
     },
     "metadata": {},
     "output_type": "display_data"
    }
   ],
   "source": [
    "display(siab_train.groupby(\"year\").size())"
   ]
  },
  {
   "cell_type": "code",
   "execution_count": 20,
   "id": "a561edb4-d032-42cb-8256-22eac1111c64",
   "metadata": {
    "execution": {
     "iopub.execute_input": "2025-07-30T14:22:15.175258Z",
     "iopub.status.busy": "2025-07-30T14:22:15.174685Z",
     "iopub.status.idle": "2025-07-30T14:22:15.473661Z",
     "shell.execute_reply": "2025-07-30T14:22:15.472671Z"
    },
    "papermill": {
     "duration": 0.32588,
     "end_time": "2025-07-30T14:22:15.475535",
     "exception": false,
     "start_time": "2025-07-30T14:22:15.149655",
     "status": "completed"
    },
    "tags": []
   },
   "outputs": [],
   "source": [
    "#siab_train = siab_s[siab_s.year < 2015]\n",
    "siab_calib = siab[siab.year == 2015]\n",
    "siab_test = siab[siab.year == 2016]"
   ]
  },
  {
   "cell_type": "code",
   "execution_count": 21,
   "id": "472de16f-c3db-4916-846b-1f0de9cf1746",
   "metadata": {
    "execution": {
     "iopub.execute_input": "2025-07-30T14:22:15.523686Z",
     "iopub.status.busy": "2025-07-30T14:22:15.522950Z",
     "iopub.status.idle": "2025-07-30T14:22:15.533494Z",
     "shell.execute_reply": "2025-07-30T14:22:15.531273Z"
    },
    "papermill": {
     "duration": 0.036743,
     "end_time": "2025-07-30T14:22:15.535761",
     "exception": false,
     "start_time": "2025-07-30T14:22:15.499018",
     "status": "completed"
    },
    "tags": []
   },
   "outputs": [],
   "source": [
    "X_train = siab_train.iloc[:,4:164]\n",
    "y_train = siab_train.iloc[:, [3]]"
   ]
  },
  {
   "cell_type": "code",
   "execution_count": 22,
   "id": "828c96af-f43a-4ed6-ba47-8ac73a47d56c",
   "metadata": {
    "execution": {
     "iopub.execute_input": "2025-07-30T14:22:15.561482Z",
     "iopub.status.busy": "2025-07-30T14:22:15.561086Z",
     "iopub.status.idle": "2025-07-30T14:22:15.615402Z",
     "shell.execute_reply": "2025-07-30T14:22:15.614406Z"
    },
    "papermill": {
     "duration": 0.067844,
     "end_time": "2025-07-30T14:22:15.617113",
     "exception": false,
     "start_time": "2025-07-30T14:22:15.549269",
     "status": "completed"
    },
    "tags": []
   },
   "outputs": [],
   "source": [
    "X_calib = siab_calib.iloc[:,4:164]\n",
    "y_calib = siab_calib.iloc[:, [3]]"
   ]
  },
  {
   "cell_type": "code",
   "execution_count": 23,
   "id": "c34be9c3-6bd6-476e-acd3-845840e303be",
   "metadata": {
    "execution": {
     "iopub.execute_input": "2025-07-30T14:22:15.664930Z",
     "iopub.status.busy": "2025-07-30T14:22:15.664442Z",
     "iopub.status.idle": "2025-07-30T14:22:15.721023Z",
     "shell.execute_reply": "2025-07-30T14:22:15.719932Z"
    },
    "papermill": {
     "duration": 0.082073,
     "end_time": "2025-07-30T14:22:15.723010",
     "exception": false,
     "start_time": "2025-07-30T14:22:15.640937",
     "status": "completed"
    },
    "tags": []
   },
   "outputs": [],
   "source": [
    "X_test = siab_test.iloc[:,4:164]\n",
    "y_true = siab_test.iloc[:, [3]]"
   ]
  },
  {
   "cell_type": "markdown",
   "id": "9901737e-04df-44f0-9100-f5ad144ed040",
   "metadata": {
    "papermill": {
     "duration": 0.022306,
     "end_time": "2025-07-30T14:22:15.771072",
     "exception": false,
     "start_time": "2025-07-30T14:22:15.748766",
     "status": "completed"
    },
    "tags": []
   },
   "source": [
    "# Splitting Data and Setting Training Data Size OLD VERSION"
   ]
  },
  {
   "cell_type": "code",
   "execution_count": 24,
   "id": "acbc8f7d-8fc8-4e86-8c59-5dcb0f58384b",
   "metadata": {
    "execution": {
     "iopub.execute_input": "2025-07-30T14:22:15.816624Z",
     "iopub.status.busy": "2025-07-30T14:22:15.816148Z",
     "iopub.status.idle": "2025-07-30T14:22:15.822363Z",
     "shell.execute_reply": "2025-07-30T14:22:15.821373Z"
    },
    "papermill": {
     "duration": 0.031024,
     "end_time": "2025-07-30T14:22:15.824285",
     "exception": false,
     "start_time": "2025-07-30T14:22:15.793261",
     "status": "completed"
    },
    "tags": []
   },
   "outputs": [],
   "source": [
    "#def sample_by_year(df, training_size, random_state=42):\n",
    "#    if training_size == \"2014\":\n",
    "#        return df[df[\"year\"] == 2014].reset_index(drop=True)\n",
    "#    \n",
    "#    size_map = {\n",
    "#        \"25k\": 5000,\n",
    "#        \"5k\": 1000,\n",
    "#        \"1k\": 200\n",
    "#    }\n",
    "#\n",
    "#    if training_size not in size_map:\n",
    "#        return df.reset_index(drop=True)  # use all data\n",
    "#\n",
    "#    n_per_year = size_map[training_size]\n",
    "#    grouped = df.groupby(\"year\")\n",
    "#    sampled = grouped.apply(lambda x: x.sample(n=min(n_per_year, len(x)), random_state=random_state))\n",
    "#    return sampled.reset_index(drop=True)"
   ]
  },
  {
   "cell_type": "code",
   "execution_count": 25,
   "id": "6d931f52-beaf-43ff-9e78-9d44a448d54e",
   "metadata": {
    "execution": {
     "iopub.execute_input": "2025-07-30T14:22:15.871038Z",
     "iopub.status.busy": "2025-07-30T14:22:15.870620Z",
     "iopub.status.idle": "2025-07-30T14:22:15.875640Z",
     "shell.execute_reply": "2025-07-30T14:22:15.874654Z"
    },
    "papermill": {
     "duration": 0.029411,
     "end_time": "2025-07-30T14:22:15.877547",
     "exception": false,
     "start_time": "2025-07-30T14:22:15.848136",
     "status": "completed"
    },
    "tags": []
   },
   "outputs": [],
   "source": [
    "#siab_s = sample_by_year(siab, universe[\"training_size\"])"
   ]
  },
  {
   "cell_type": "code",
   "execution_count": 26,
   "id": "5db0a40e-a4e2-4920-be85-b12ae061d70d",
   "metadata": {
    "execution": {
     "iopub.execute_input": "2025-07-30T14:22:15.926077Z",
     "iopub.status.busy": "2025-07-30T14:22:15.925291Z",
     "iopub.status.idle": "2025-07-30T14:22:15.930600Z",
     "shell.execute_reply": "2025-07-30T14:22:15.929611Z"
    },
    "papermill": {
     "duration": 0.031074,
     "end_time": "2025-07-30T14:22:15.932474",
     "exception": false,
     "start_time": "2025-07-30T14:22:15.901400",
     "status": "completed"
    },
    "tags": []
   },
   "outputs": [],
   "source": [
    "#display(siab_s.groupby(\"year\").size())"
   ]
  },
  {
   "cell_type": "code",
   "execution_count": 27,
   "id": "e6c733c5",
   "metadata": {
    "execution": {
     "iopub.execute_input": "2025-07-30T14:22:15.978835Z",
     "iopub.status.busy": "2025-07-30T14:22:15.977899Z",
     "iopub.status.idle": "2025-07-30T14:22:16.082205Z",
     "shell.execute_reply": "2025-07-30T14:22:16.081236Z"
    },
    "papermill": {
     "duration": 0.127423,
     "end_time": "2025-07-30T14:22:16.084229",
     "exception": false,
     "start_time": "2025-07-30T14:22:15.956806",
     "status": "completed"
    },
    "tags": []
   },
   "outputs": [],
   "source": [
    "# Auxiliary data needed downstream in the pipeline\n",
    "\n",
    "org_train = X_train.copy()\n",
    "org_test = X_test.copy()\n",
    "org_calib = X_calib.copy()"
   ]
  },
  {
   "cell_type": "code",
   "execution_count": 28,
   "id": "1466abac-c6da-4492-a62f-4240ae3783af",
   "metadata": {
    "execution": {
     "iopub.execute_input": "2025-07-30T14:22:16.129743Z",
     "iopub.status.busy": "2025-07-30T14:22:16.129239Z",
     "iopub.status.idle": "2025-07-30T14:22:16.134947Z",
     "shell.execute_reply": "2025-07-30T14:22:16.134023Z"
    },
    "papermill": {
     "duration": 0.028025,
     "end_time": "2025-07-30T14:22:16.136647",
     "exception": false,
     "start_time": "2025-07-30T14:22:16.108622",
     "status": "completed"
    },
    "tags": []
   },
   "outputs": [],
   "source": [
    "# put in other script?\n",
    "# Group sizes\n",
    "\n",
    "#def calculate_percentages(df, df_name):\n",
    "#    total_entries = len(df)\n",
    "#\n",
    "#    female_pct = (df['frau1'] == 1).mean() * 100\n",
    "#    non_german_pct = ((df['maxdeutsch1'] == 0) & (df['maxdeutsch.Missing.'] == 0)).mean() * 100\n",
    "#    non_german_male_pct = ((df['frau1'] == 0) & (df['maxdeutsch1'] == 0) & (df['maxdeutsch.Missing.'] == 0)).mean() * 100\n",
    "#    non_german_female_pct = ((df['frau1'] == 1) & (df['maxdeutsch1'] == 0) & (df['maxdeutsch.Missing.'] == 0)).mean() * 100\n",
    "#\n",
    "#    print(f\"--- {df_name} ---\")\n",
    "#    print(f\"Female: {female_pct:.2f}%\")\n",
    "#    print(f\"Non-German: {non_german_pct:.2f}%\")\n",
    "#    print(f\"Non-German Male: {non_german_male_pct:.2f}%\")\n",
    "#    print(f\"Non-German Female: {non_german_female_pct:.2f}%\\n\")\n",
    "#\n",
    "## Calculate for each DataFrame\n",
    "#calculate_percentages(siab_calib, \"siab_calib\")\n",
    "#calculate_percentages(siab_test, \"siab_test\")\n",
    "#calculate_percentages(siab_train, \"siab_train\")"
   ]
  },
  {
   "cell_type": "markdown",
   "id": "0a4a1b33",
   "metadata": {
    "papermill": {
     "duration": 0.025651,
     "end_time": "2025-07-30T14:22:16.186292",
     "exception": false,
     "start_time": "2025-07-30T14:22:16.160641",
     "status": "completed"
    },
    "tags": []
   },
   "source": [
    "# Preprocessing Data"
   ]
  },
  {
   "cell_type": "code",
   "execution_count": 29,
   "id": "ca879031",
   "metadata": {
    "execution": {
     "iopub.execute_input": "2025-07-30T14:22:16.242078Z",
     "iopub.status.busy": "2025-07-30T14:22:16.241340Z",
     "iopub.status.idle": "2025-07-30T14:22:16.249447Z",
     "shell.execute_reply": "2025-07-30T14:22:16.247982Z"
    },
    "papermill": {
     "duration": 0.040215,
     "end_time": "2025-07-30T14:22:16.253302",
     "exception": false,
     "start_time": "2025-07-30T14:22:16.213087",
     "status": "completed"
    },
    "tags": []
   },
   "outputs": [],
   "source": [
    "# EXCLUDE PROTECTED FEATURES\n",
    "# ----------------------\n",
    "# \"exclude_features\": \"none\", # \"nationality\", \"sex\", \"nationality-sex\"\n",
    "\n",
    "excluded_features = universe[\"exclude_features\"].split(\"-\") # split, e.g.: \"nationality-sex\" -> [\"nationality\", \"sex\"]\n",
    "excluded_features_dictionary = {\n",
    "    \"nationality\": [\"maxdeutsch1\", \"maxdeutsch.Missing.\"],\n",
    "    \"sex\": [\"frau1\"],\n",
    "    \"age\": [\"age\"],\n",
    "}\n"
   ]
  },
  {
   "cell_type": "code",
   "execution_count": 30,
   "id": "b745ac60",
   "metadata": {
    "execution": {
     "iopub.execute_input": "2025-07-30T14:22:16.301873Z",
     "iopub.status.busy": "2025-07-30T14:22:16.301446Z",
     "iopub.status.idle": "2025-07-30T14:22:16.306535Z",
     "shell.execute_reply": "2025-07-30T14:22:16.305774Z"
    },
    "papermill": {
     "duration": 0.030351,
     "end_time": "2025-07-30T14:22:16.307829",
     "exception": false,
     "start_time": "2025-07-30T14:22:16.277478",
     "status": "completed"
    },
    "tags": []
   },
   "outputs": [],
   "source": [
    "# Code nice names to column names\n",
    "\n",
    "excluded_features_columns = [\n",
    "    excluded_features_dictionary[f] for f in excluded_features if len(f) > 0 and f != \"none\"\n",
    "]"
   ]
  },
  {
   "cell_type": "code",
   "execution_count": 31,
   "id": "f84f73a2",
   "metadata": {
    "execution": {
     "iopub.execute_input": "2025-07-30T14:22:16.334932Z",
     "iopub.status.busy": "2025-07-30T14:22:16.334585Z",
     "iopub.status.idle": "2025-07-30T14:22:16.351254Z",
     "shell.execute_reply": "2025-07-30T14:22:16.350249Z"
    },
    "papermill": {
     "duration": 0.035913,
     "end_time": "2025-07-30T14:22:16.357426",
     "exception": false,
     "start_time": "2025-07-30T14:22:16.321513",
     "status": "completed"
    },
    "tags": []
   },
   "outputs": [],
   "source": [
    "from utils import flatten_once\n",
    "\n",
    "excluded_features_columns = flatten_once(excluded_features_columns)"
   ]
  },
  {
   "cell_type": "code",
   "execution_count": 32,
   "id": "884dea22",
   "metadata": {
    "execution": {
     "iopub.execute_input": "2025-07-30T14:22:16.405046Z",
     "iopub.status.busy": "2025-07-30T14:22:16.404661Z",
     "iopub.status.idle": "2025-07-30T14:22:16.412969Z",
     "shell.execute_reply": "2025-07-30T14:22:16.411964Z"
    },
    "papermill": {
     "duration": 0.032783,
     "end_time": "2025-07-30T14:22:16.414703",
     "exception": false,
     "start_time": "2025-07-30T14:22:16.381920",
     "status": "completed"
    },
    "tags": []
   },
   "outputs": [
    {
     "name": "stdout",
     "output_type": "stream",
     "text": [
      "Dropping features: ['maxdeutsch1', 'maxdeutsch.Missing.']\n"
     ]
    }
   ],
   "source": [
    "if len(excluded_features_columns) > 0:\n",
    "    print(f\"Dropping features: {excluded_features_columns}\")\n",
    "    X_train.drop(excluded_features_columns, axis=1, inplace=True)"
   ]
  },
  {
   "cell_type": "code",
   "execution_count": 33,
   "id": "95ab8b16",
   "metadata": {
    "execution": {
     "iopub.execute_input": "2025-07-30T14:22:16.462788Z",
     "iopub.status.busy": "2025-07-30T14:22:16.462405Z",
     "iopub.status.idle": "2025-07-30T14:22:16.520409Z",
     "shell.execute_reply": "2025-07-30T14:22:16.519305Z"
    },
    "papermill": {
     "duration": 0.084729,
     "end_time": "2025-07-30T14:22:16.523265",
     "exception": false,
     "start_time": "2025-07-30T14:22:16.438536",
     "status": "completed"
    },
    "tags": []
   },
   "outputs": [
    {
     "name": "stdout",
     "output_type": "stream",
     "text": [
      "Dropping features: ['maxdeutsch1', 'maxdeutsch.Missing.']\n"
     ]
    }
   ],
   "source": [
    "if len(excluded_features_columns) > 0:\n",
    "    print(f\"Dropping features: {excluded_features_columns}\")\n",
    "    X_test.drop(excluded_features_columns, axis=1, inplace=True)"
   ]
  },
  {
   "cell_type": "code",
   "execution_count": 34,
   "id": "1853aaf5-fb9f-46cb-a2b5-8ea4ae2237e4",
   "metadata": {
    "execution": {
     "iopub.execute_input": "2025-07-30T14:22:16.569115Z",
     "iopub.status.busy": "2025-07-30T14:22:16.568355Z",
     "iopub.status.idle": "2025-07-30T14:22:16.619875Z",
     "shell.execute_reply": "2025-07-30T14:22:16.618997Z"
    },
    "papermill": {
     "duration": 0.076616,
     "end_time": "2025-07-30T14:22:16.622520",
     "exception": false,
     "start_time": "2025-07-30T14:22:16.545904",
     "status": "completed"
    },
    "tags": []
   },
   "outputs": [
    {
     "name": "stdout",
     "output_type": "stream",
     "text": [
      "Dropping features: ['maxdeutsch1', 'maxdeutsch.Missing.']\n"
     ]
    }
   ],
   "source": [
    "if len(excluded_features_columns) > 0:\n",
    "    print(f\"Dropping features: {excluded_features_columns}\")\n",
    "    X_calib.drop(excluded_features_columns, axis=1, inplace=True)"
   ]
  },
  {
   "cell_type": "code",
   "execution_count": 35,
   "id": "6727d079-03e5-481e-9d38-292a90b7a0a8",
   "metadata": {
    "execution": {
     "iopub.execute_input": "2025-07-30T14:22:16.668606Z",
     "iopub.status.busy": "2025-07-30T14:22:16.667752Z",
     "iopub.status.idle": "2025-07-30T14:22:16.672981Z",
     "shell.execute_reply": "2025-07-30T14:22:16.672067Z"
    },
    "papermill": {
     "duration": 0.029689,
     "end_time": "2025-07-30T14:22:16.674637",
     "exception": false,
     "start_time": "2025-07-30T14:22:16.644948",
     "status": "completed"
    },
    "tags": []
   },
   "outputs": [],
   "source": [
    "# SPLIT & STRATIFY DATA\n",
    "# ----------------------"
   ]
  },
  {
   "cell_type": "code",
   "execution_count": 36,
   "id": "76c4dc6d",
   "metadata": {
    "execution": {
     "iopub.execute_input": "2025-07-30T14:22:16.720640Z",
     "iopub.status.busy": "2025-07-30T14:22:16.719877Z",
     "iopub.status.idle": "2025-07-30T14:22:16.725449Z",
     "shell.execute_reply": "2025-07-30T14:22:16.724408Z"
    },
    "papermill": {
     "duration": 0.03123,
     "end_time": "2025-07-30T14:22:16.727047",
     "exception": false,
     "start_time": "2025-07-30T14:22:16.695817",
     "status": "completed"
    },
    "tags": []
   },
   "outputs": [],
   "source": [
    "# EXCLUDE CERTAIN SUBGROUPS\n",
    "# ----------------------\n",
    "\n",
    "mode = universe.get(\"exclude_subgroups\", \"keep-all\") \n",
    "# Fetches the exclude_subgroups setting from the universe dict.\n",
    "# Defaults to \"keep-all\" if the key is missing."
   ]
  },
  {
   "cell_type": "code",
   "execution_count": 37,
   "id": "21994072",
   "metadata": {
    "execution": {
     "iopub.execute_input": "2025-07-30T14:22:16.771425Z",
     "iopub.status.busy": "2025-07-30T14:22:16.770923Z",
     "iopub.status.idle": "2025-07-30T14:22:16.777771Z",
     "shell.execute_reply": "2025-07-30T14:22:16.776829Z"
    },
    "papermill": {
     "duration": 0.030499,
     "end_time": "2025-07-30T14:22:16.779315",
     "exception": false,
     "start_time": "2025-07-30T14:22:16.748816",
     "status": "completed"
    },
    "tags": []
   },
   "outputs": [],
   "source": [
    "if mode == \"keep-all\":\n",
    "    keep_mask = pd.Series(True, index=org_train.index)\n",
    "\n",
    "# org_train contains the original feature columns from features_org (in Simson)\n",
    "# features_org contains unprocessed features, for me X_train at beginning ???\n",
    "# For keep-all, creates a boolean Series (keep_mask) of all True, so no rows are removed.\n",
    "\n",
    "elif mode == \"drop-non-german\":\n",
    "    keep_mask = org_train[\"maxdeutsch1\"] == 1 # ??? what about missing values?\n",
    "\n",
    "else:\n",
    "    raise ValueError(f\"Unsupported mode for exclude_subgroups: {mode}\")\n"
   ]
  },
  {
   "cell_type": "code",
   "execution_count": 38,
   "id": "71651440",
   "metadata": {
    "execution": {
     "iopub.execute_input": "2025-07-30T14:22:16.829272Z",
     "iopub.status.busy": "2025-07-30T14:22:16.828781Z",
     "iopub.status.idle": "2025-07-30T14:22:16.836426Z",
     "shell.execute_reply": "2025-07-30T14:22:16.835422Z"
    },
    "papermill": {
     "duration": 0.03595,
     "end_time": "2025-07-30T14:22:16.837988",
     "exception": false,
     "start_time": "2025-07-30T14:22:16.802038",
     "status": "completed"
    },
    "tags": []
   },
   "outputs": [
    {
     "name": "stdout",
     "output_type": "stream",
     "text": [
      "Dropping 147 rows (14.70%) where mode='drop-non-german'\n"
     ]
    }
   ],
   "source": [
    "n_drop = (~keep_mask).sum() # Calculates how many rows are set to be dropped\n",
    "if n_drop > 0:\n",
    "    pct = n_drop / len(keep_mask) * 100\n",
    "    print(f\"Dropping {n_drop} rows ({pct:.2f}%) where mode='{mode}'\")"
   ]
  },
  {
   "cell_type": "code",
   "execution_count": 39,
   "id": "5fb8eee5",
   "metadata": {
    "execution": {
     "iopub.execute_input": "2025-07-30T14:22:16.883865Z",
     "iopub.status.busy": "2025-07-30T14:22:16.883378Z",
     "iopub.status.idle": "2025-07-30T14:22:16.889464Z",
     "shell.execute_reply": "2025-07-30T14:22:16.888513Z"
    },
    "papermill": {
     "duration": 0.030055,
     "end_time": "2025-07-30T14:22:16.890973",
     "exception": false,
     "start_time": "2025-07-30T14:22:16.860918",
     "status": "completed"
    },
    "tags": []
   },
   "outputs": [],
   "source": [
    "X_train = X_train[keep_mask]"
   ]
  },
  {
   "cell_type": "code",
   "execution_count": 40,
   "id": "b202bb3a",
   "metadata": {
    "execution": {
     "iopub.execute_input": "2025-07-30T14:22:16.936724Z",
     "iopub.status.busy": "2025-07-30T14:22:16.936066Z",
     "iopub.status.idle": "2025-07-30T14:22:16.942221Z",
     "shell.execute_reply": "2025-07-30T14:22:16.941316Z"
    },
    "papermill": {
     "duration": 0.030212,
     "end_time": "2025-07-30T14:22:16.943879",
     "exception": false,
     "start_time": "2025-07-30T14:22:16.913667",
     "status": "completed"
    },
    "tags": []
   },
   "outputs": [],
   "source": [
    "y_train = y_train[keep_mask]"
   ]
  },
  {
   "cell_type": "markdown",
   "id": "493e2ac3",
   "metadata": {
    "papermill": {
     "duration": 0.021342,
     "end_time": "2025-07-30T14:22:16.987721",
     "exception": false,
     "start_time": "2025-07-30T14:22:16.966379",
     "status": "completed"
    },
    "tags": []
   },
   "source": [
    "# Model Training"
   ]
  },
  {
   "cell_type": "code",
   "execution_count": 41,
   "id": "679e1268",
   "metadata": {
    "execution": {
     "iopub.execute_input": "2025-07-30T14:22:17.032912Z",
     "iopub.status.busy": "2025-07-30T14:22:17.032103Z",
     "iopub.status.idle": "2025-07-30T14:22:17.131589Z",
     "shell.execute_reply": "2025-07-30T14:22:17.130582Z"
    },
    "papermill": {
     "duration": 0.123227,
     "end_time": "2025-07-30T14:22:17.133053",
     "exception": false,
     "start_time": "2025-07-30T14:22:17.009826",
     "status": "completed"
    },
    "tags": []
   },
   "outputs": [],
   "source": [
    "from sklearn.linear_model import LogisticRegression\n",
    "from sklearn.ensemble import GradientBoostingClassifier, RandomForestClassifier\n",
    "\n",
    "if (universe[\"model\"] == \"logreg\"):\n",
    "    model = LogisticRegression() #penalty=\"none\") #, solver=\"newton-cg\", max_iter=1) # include random_state=19 ?\n",
    "elif (universe[\"model\"] == \"penalized_logreg\"):\n",
    "    model = LogisticRegression(penalty=\"l2\", C=1.0) #, solver=\"newton-cg\", max_iter=1)\n",
    "elif (universe[\"model\"] == \"rf\"):\n",
    "    model = RandomForestClassifier(n_estimators=100, n_jobs=-1)\n",
    "elif (universe[\"model\"] == \"gbm\"):\n",
    "    model = GradientBoostingClassifier()\n",
    "elif (universe[\"model\"] == \"elasticnet\"):\n",
    "    model = LogisticRegression(penalty = 'elasticnet', solver = 'saga', l1_ratio = 0.5, max_iter=5000) # which solver to use?\n",
    "else:\n",
    "    raise \"Unsupported universe.model\""
   ]
  },
  {
   "cell_type": "code",
   "execution_count": 42,
   "id": "0cc8f744",
   "metadata": {
    "execution": {
     "iopub.execute_input": "2025-07-30T14:22:17.192065Z",
     "iopub.status.busy": "2025-07-30T14:22:17.191309Z",
     "iopub.status.idle": "2025-07-30T14:22:17.197972Z",
     "shell.execute_reply": "2025-07-30T14:22:17.197025Z"
    },
    "papermill": {
     "duration": 0.041324,
     "end_time": "2025-07-30T14:22:17.199599",
     "exception": false,
     "start_time": "2025-07-30T14:22:17.158275",
     "status": "completed"
    },
    "tags": []
   },
   "outputs": [],
   "source": [
    "import numpy as np\n",
    "from sklearn.pipeline import Pipeline\n",
    "from sklearn.preprocessing import StandardScaler\n",
    "\n",
    "model = Pipeline([\n",
    "    #(\"continuous_processor\", continuous_processor),\n",
    "    #(\"categorical_preprocessor\", categorical_preprocessor),\n",
    "    (\"scale\", StandardScaler() if universe[\"scale\"] == \"scale\" else None), \n",
    "    (\"model\", model),\n",
    "])"
   ]
  },
  {
   "cell_type": "code",
   "execution_count": 43,
   "id": "9442c04d",
   "metadata": {
    "execution": {
     "iopub.execute_input": "2025-07-30T14:22:17.246722Z",
     "iopub.status.busy": "2025-07-30T14:22:17.245911Z",
     "iopub.status.idle": "2025-07-30T14:22:18.189947Z",
     "shell.execute_reply": "2025-07-30T14:22:18.188965Z"
    },
    "papermill": {
     "duration": 0.96825,
     "end_time": "2025-07-30T14:22:18.191584",
     "exception": false,
     "start_time": "2025-07-30T14:22:17.223334",
     "status": "completed"
    },
    "tags": []
   },
   "outputs": [
    {
     "data": {
      "text/html": [
       "<style>#sk-container-id-1 {color: black;background-color: white;}#sk-container-id-1 pre{padding: 0;}#sk-container-id-1 div.sk-toggleable {background-color: white;}#sk-container-id-1 label.sk-toggleable__label {cursor: pointer;display: block;width: 100%;margin-bottom: 0;padding: 0.3em;box-sizing: border-box;text-align: center;}#sk-container-id-1 label.sk-toggleable__label-arrow:before {content: \"▸\";float: left;margin-right: 0.25em;color: #696969;}#sk-container-id-1 label.sk-toggleable__label-arrow:hover:before {color: black;}#sk-container-id-1 div.sk-estimator:hover label.sk-toggleable__label-arrow:before {color: black;}#sk-container-id-1 div.sk-toggleable__content {max-height: 0;max-width: 0;overflow: hidden;text-align: left;background-color: #f0f8ff;}#sk-container-id-1 div.sk-toggleable__content pre {margin: 0.2em;color: black;border-radius: 0.25em;background-color: #f0f8ff;}#sk-container-id-1 input.sk-toggleable__control:checked~div.sk-toggleable__content {max-height: 200px;max-width: 100%;overflow: auto;}#sk-container-id-1 input.sk-toggleable__control:checked~label.sk-toggleable__label-arrow:before {content: \"▾\";}#sk-container-id-1 div.sk-estimator input.sk-toggleable__control:checked~label.sk-toggleable__label {background-color: #d4ebff;}#sk-container-id-1 div.sk-label input.sk-toggleable__control:checked~label.sk-toggleable__label {background-color: #d4ebff;}#sk-container-id-1 input.sk-hidden--visually {border: 0;clip: rect(1px 1px 1px 1px);clip: rect(1px, 1px, 1px, 1px);height: 1px;margin: -1px;overflow: hidden;padding: 0;position: absolute;width: 1px;}#sk-container-id-1 div.sk-estimator {font-family: monospace;background-color: #f0f8ff;border: 1px dotted black;border-radius: 0.25em;box-sizing: border-box;margin-bottom: 0.5em;}#sk-container-id-1 div.sk-estimator:hover {background-color: #d4ebff;}#sk-container-id-1 div.sk-parallel-item::after {content: \"\";width: 100%;border-bottom: 1px solid gray;flex-grow: 1;}#sk-container-id-1 div.sk-label:hover label.sk-toggleable__label {background-color: #d4ebff;}#sk-container-id-1 div.sk-serial::before {content: \"\";position: absolute;border-left: 1px solid gray;box-sizing: border-box;top: 0;bottom: 0;left: 50%;z-index: 0;}#sk-container-id-1 div.sk-serial {display: flex;flex-direction: column;align-items: center;background-color: white;padding-right: 0.2em;padding-left: 0.2em;position: relative;}#sk-container-id-1 div.sk-item {position: relative;z-index: 1;}#sk-container-id-1 div.sk-parallel {display: flex;align-items: stretch;justify-content: center;background-color: white;position: relative;}#sk-container-id-1 div.sk-item::before, #sk-container-id-1 div.sk-parallel-item::before {content: \"\";position: absolute;border-left: 1px solid gray;box-sizing: border-box;top: 0;bottom: 0;left: 50%;z-index: -1;}#sk-container-id-1 div.sk-parallel-item {display: flex;flex-direction: column;z-index: 1;position: relative;background-color: white;}#sk-container-id-1 div.sk-parallel-item:first-child::after {align-self: flex-end;width: 50%;}#sk-container-id-1 div.sk-parallel-item:last-child::after {align-self: flex-start;width: 50%;}#sk-container-id-1 div.sk-parallel-item:only-child::after {width: 0;}#sk-container-id-1 div.sk-dashed-wrapped {border: 1px dashed gray;margin: 0 0.4em 0.5em 0.4em;box-sizing: border-box;padding-bottom: 0.4em;background-color: white;}#sk-container-id-1 div.sk-label label {font-family: monospace;font-weight: bold;display: inline-block;line-height: 1.2em;}#sk-container-id-1 div.sk-label-container {text-align: center;}#sk-container-id-1 div.sk-container {/* jupyter's `normalize.less` sets `[hidden] { display: none; }` but bootstrap.min.css set `[hidden] { display: none !important; }` so we also need the `!important` here to be able to override the default hidden behavior on the sphinx rendered scikit-learn.org. See: https://github.com/scikit-learn/scikit-learn/issues/21755 */display: inline-block !important;position: relative;}#sk-container-id-1 div.sk-text-repr-fallback {display: none;}</style><div id=\"sk-container-id-1\" class=\"sk-top-container\"><div class=\"sk-text-repr-fallback\"><pre>Pipeline(steps=[(&#x27;scale&#x27;, StandardScaler()),\n",
       "                (&#x27;model&#x27;, GradientBoostingClassifier())])</pre><b>In a Jupyter environment, please rerun this cell to show the HTML representation or trust the notebook. <br />On GitHub, the HTML representation is unable to render, please try loading this page with nbviewer.org.</b></div><div class=\"sk-container\" hidden><div class=\"sk-item sk-dashed-wrapped\"><div class=\"sk-label-container\"><div class=\"sk-label sk-toggleable\"><input class=\"sk-toggleable__control sk-hidden--visually\" id=\"sk-estimator-id-1\" type=\"checkbox\" ><label for=\"sk-estimator-id-1\" class=\"sk-toggleable__label sk-toggleable__label-arrow\">Pipeline</label><div class=\"sk-toggleable__content\"><pre>Pipeline(steps=[(&#x27;scale&#x27;, StandardScaler()),\n",
       "                (&#x27;model&#x27;, GradientBoostingClassifier())])</pre></div></div></div><div class=\"sk-serial\"><div class=\"sk-item\"><div class=\"sk-estimator sk-toggleable\"><input class=\"sk-toggleable__control sk-hidden--visually\" id=\"sk-estimator-id-2\" type=\"checkbox\" ><label for=\"sk-estimator-id-2\" class=\"sk-toggleable__label sk-toggleable__label-arrow\">StandardScaler</label><div class=\"sk-toggleable__content\"><pre>StandardScaler()</pre></div></div></div><div class=\"sk-item\"><div class=\"sk-estimator sk-toggleable\"><input class=\"sk-toggleable__control sk-hidden--visually\" id=\"sk-estimator-id-3\" type=\"checkbox\" ><label for=\"sk-estimator-id-3\" class=\"sk-toggleable__label sk-toggleable__label-arrow\">GradientBoostingClassifier</label><div class=\"sk-toggleable__content\"><pre>GradientBoostingClassifier()</pre></div></div></div></div></div></div></div>"
      ],
      "text/plain": [
       "Pipeline(steps=[('scale', StandardScaler()),\n",
       "                ('model', GradientBoostingClassifier())])"
      ]
     },
     "execution_count": 43,
     "metadata": {},
     "output_type": "execute_result"
    }
   ],
   "source": [
    "model.fit(X_train, y_train.values.ravel())"
   ]
  },
  {
   "cell_type": "code",
   "execution_count": 44,
   "id": "af59f8c0",
   "metadata": {
    "execution": {
     "iopub.execute_input": "2025-07-30T14:22:18.241080Z",
     "iopub.status.busy": "2025-07-30T14:22:18.240375Z",
     "iopub.status.idle": "2025-07-30T14:22:18.246385Z",
     "shell.execute_reply": "2025-07-30T14:22:18.245290Z"
    },
    "papermill": {
     "duration": 0.032428,
     "end_time": "2025-07-30T14:22:18.248129",
     "exception": false,
     "start_time": "2025-07-30T14:22:18.215701",
     "status": "completed"
    },
    "tags": []
   },
   "outputs": [],
   "source": [
    "from fairness_multiverse.universe import predict_w_threshold"
   ]
  },
  {
   "cell_type": "code",
   "execution_count": 45,
   "id": "a7cf2e16",
   "metadata": {
    "execution": {
     "iopub.execute_input": "2025-07-30T14:22:18.298505Z",
     "iopub.status.busy": "2025-07-30T14:22:18.297825Z",
     "iopub.status.idle": "2025-07-30T14:22:19.172638Z",
     "shell.execute_reply": "2025-07-30T14:22:19.171595Z"
    },
    "papermill": {
     "duration": 0.901149,
     "end_time": "2025-07-30T14:22:19.174627",
     "exception": false,
     "start_time": "2025-07-30T14:22:18.273478",
     "status": "completed"
    },
    "tags": []
   },
   "outputs": [
    {
     "data": {
      "text/plain": [
       "0.8484226953516888"
      ]
     },
     "execution_count": 45,
     "metadata": {},
     "output_type": "execute_result"
    }
   ],
   "source": [
    "probs_test = model.predict_proba(X_test)\n",
    "\n",
    "'''\n",
    "Below code returns a boolean array (or binary 0/1 array depending on how it’s used) where each element \n",
    "is True if the probability of class 1 is greater than or equal to the threshold, and False otherwise.\n",
    "'''\n",
    "y_pred_default = predict_w_threshold(probs_test, 0.5)\n",
    "\n",
    "from sklearn.metrics import accuracy_score\n",
    "\n",
    "# Naive prediction\n",
    "accuracy_score(y_true = y_true, y_pred = y_pred_default)"
   ]
  },
  {
   "cell_type": "code",
   "execution_count": 46,
   "id": "081964c3",
   "metadata": {
    "execution": {
     "iopub.execute_input": "2025-07-30T14:22:19.228093Z",
     "iopub.status.busy": "2025-07-30T14:22:19.227368Z",
     "iopub.status.idle": "2025-07-30T14:22:19.953953Z",
     "shell.execute_reply": "2025-07-30T14:22:19.952706Z"
    },
    "papermill": {
     "duration": 0.755541,
     "end_time": "2025-07-30T14:22:19.955836",
     "exception": false,
     "start_time": "2025-07-30T14:22:19.200295",
     "status": "completed"
    },
    "tags": []
   },
   "outputs": [
    {
     "data": {
      "text/plain": [
       "array([0, 0, 0, ..., 0, 0, 0])"
      ]
     },
     "execution_count": 46,
     "metadata": {},
     "output_type": "execute_result"
    }
   ],
   "source": [
    "model.predict(X_test)"
   ]
  },
  {
   "cell_type": "markdown",
   "id": "56c9705b",
   "metadata": {
    "papermill": {
     "duration": 0.02623,
     "end_time": "2025-07-30T14:22:20.008317",
     "exception": false,
     "start_time": "2025-07-30T14:22:19.982087",
     "status": "completed"
    },
    "tags": []
   },
   "source": [
    "# Conformal Prediction"
   ]
  },
  {
   "cell_type": "code",
   "execution_count": 47,
   "id": "160ec6ff",
   "metadata": {
    "execution": {
     "iopub.execute_input": "2025-07-30T14:22:20.062759Z",
     "iopub.status.busy": "2025-07-30T14:22:20.062051Z",
     "iopub.status.idle": "2025-07-30T14:22:20.067915Z",
     "shell.execute_reply": "2025-07-30T14:22:20.066873Z"
    },
    "papermill": {
     "duration": 0.034663,
     "end_time": "2025-07-30T14:22:20.069509",
     "exception": false,
     "start_time": "2025-07-30T14:22:20.034846",
     "status": "completed"
    },
    "tags": []
   },
   "outputs": [],
   "source": [
    "# Miscoverage level for conformal prediction (10% allowed error rate => 90% target coverage)\n",
    "alpha = 0.1"
   ]
  },
  {
   "cell_type": "code",
   "execution_count": 48,
   "id": "eadf4555-3dd3-440e-8e35-f82a4ad9f855",
   "metadata": {
    "execution": {
     "iopub.execute_input": "2025-07-30T14:22:20.123760Z",
     "iopub.status.busy": "2025-07-30T14:22:20.123269Z",
     "iopub.status.idle": "2025-07-30T14:22:20.985234Z",
     "shell.execute_reply": "2025-07-30T14:22:20.984264Z"
    },
    "papermill": {
     "duration": 0.890387,
     "end_time": "2025-07-30T14:22:20.987200",
     "exception": false,
     "start_time": "2025-07-30T14:22:20.096813",
     "status": "completed"
    },
    "tags": []
   },
   "outputs": [],
   "source": [
    "probs_calib = model.predict_proba(X_calib)"
   ]
  },
  {
   "cell_type": "code",
   "execution_count": 49,
   "id": "2ed93547-6d5d-4983-9b36-1ecb300da49a",
   "metadata": {
    "execution": {
     "iopub.execute_input": "2025-07-30T14:22:21.041618Z",
     "iopub.status.busy": "2025-07-30T14:22:21.041151Z",
     "iopub.status.idle": "2025-07-30T14:22:21.046794Z",
     "shell.execute_reply": "2025-07-30T14:22:21.045776Z"
    },
    "papermill": {
     "duration": 0.032479,
     "end_time": "2025-07-30T14:22:21.048662",
     "exception": false,
     "start_time": "2025-07-30T14:22:21.016183",
     "status": "completed"
    },
    "tags": []
   },
   "outputs": [],
   "source": [
    "y_calib = y_calib.values.ravel().astype(int)"
   ]
  },
  {
   "cell_type": "code",
   "execution_count": 50,
   "id": "65d1320d-f588-4b38-9072-62af1ae97f7d",
   "metadata": {
    "execution": {
     "iopub.execute_input": "2025-07-30T14:22:21.099165Z",
     "iopub.status.busy": "2025-07-30T14:22:21.098638Z",
     "iopub.status.idle": "2025-07-30T14:22:21.107279Z",
     "shell.execute_reply": "2025-07-30T14:22:21.106381Z"
    },
    "papermill": {
     "duration": 0.035103,
     "end_time": "2025-07-30T14:22:21.109420",
     "exception": false,
     "start_time": "2025-07-30T14:22:21.074317",
     "status": "completed"
    },
    "tags": []
   },
   "outputs": [],
   "source": [
    "from fairness_multiverse.conformal import compute_nc_scores\n",
    "\n",
    "# Compute nonconformity scores on calibration set (1 - probability of true class)\n",
    "nc_scores = compute_nc_scores(probs_calib, y_calib)"
   ]
  },
  {
   "cell_type": "code",
   "execution_count": 51,
   "id": "df3b8ca3-53b7-43d5-9667-7c85da7aeda2",
   "metadata": {
    "execution": {
     "iopub.execute_input": "2025-07-30T14:22:21.165160Z",
     "iopub.status.busy": "2025-07-30T14:22:21.164644Z",
     "iopub.status.idle": "2025-07-30T14:22:21.171139Z",
     "shell.execute_reply": "2025-07-30T14:22:21.170074Z"
    },
    "papermill": {
     "duration": 0.037135,
     "end_time": "2025-07-30T14:22:21.172720",
     "exception": false,
     "start_time": "2025-07-30T14:22:21.135585",
     "status": "completed"
    },
    "tags": []
   },
   "outputs": [],
   "source": [
    "from fairness_multiverse.conformal import find_threshold\n",
    "\n",
    "# Find conformal threshold q_hat for the given alpha (split conformal method)\n",
    "q_hat = find_threshold(nc_scores, alpha)"
   ]
  },
  {
   "cell_type": "code",
   "execution_count": 52,
   "id": "4d29e6c1-0ef6-4aa4-b8fe-4fe79b0d033a",
   "metadata": {
    "execution": {
     "iopub.execute_input": "2025-07-30T14:22:21.223870Z",
     "iopub.status.busy": "2025-07-30T14:22:21.222977Z",
     "iopub.status.idle": "2025-07-30T14:22:21.230070Z",
     "shell.execute_reply": "2025-07-30T14:22:21.229211Z"
    },
    "papermill": {
     "duration": 0.034194,
     "end_time": "2025-07-30T14:22:21.231585",
     "exception": false,
     "start_time": "2025-07-30T14:22:21.197391",
     "status": "completed"
    },
    "tags": []
   },
   "outputs": [
    {
     "data": {
      "text/plain": [
       "0.758135720599874"
      ]
     },
     "execution_count": 52,
     "metadata": {},
     "output_type": "execute_result"
    }
   ],
   "source": [
    "q_hat"
   ]
  },
  {
   "cell_type": "code",
   "execution_count": 53,
   "id": "92460794-cdac-4be2-ba28-f28c0515a6fb",
   "metadata": {
    "execution": {
     "iopub.execute_input": "2025-07-30T14:22:21.282549Z",
     "iopub.status.busy": "2025-07-30T14:22:21.281837Z",
     "iopub.status.idle": "2025-07-30T14:22:22.694724Z",
     "shell.execute_reply": "2025-07-30T14:22:22.693732Z"
    },
    "papermill": {
     "duration": 1.440778,
     "end_time": "2025-07-30T14:22:22.696710",
     "exception": false,
     "start_time": "2025-07-30T14:22:21.255932",
     "status": "completed"
    },
    "tags": []
   },
   "outputs": [],
   "source": [
    "from fairness_multiverse.conformal import predict_conformal_sets\n",
    "\n",
    "# Generate prediction sets for each test example\n",
    "pred_sets = predict_conformal_sets(model, X_test, q_hat)"
   ]
  },
  {
   "cell_type": "code",
   "execution_count": 54,
   "id": "d90c9a65-e6db-4f5d-80cd-e68fb7e46829",
   "metadata": {
    "execution": {
     "iopub.execute_input": "2025-07-30T14:22:22.750017Z",
     "iopub.status.busy": "2025-07-30T14:22:22.749077Z",
     "iopub.status.idle": "2025-07-30T14:22:22.754905Z",
     "shell.execute_reply": "2025-07-30T14:22:22.753903Z"
    },
    "papermill": {
     "duration": 0.034067,
     "end_time": "2025-07-30T14:22:22.756586",
     "exception": false,
     "start_time": "2025-07-30T14:22:22.722519",
     "status": "completed"
    },
    "tags": []
   },
   "outputs": [],
   "source": [
    "y_true = y_true.squeeze()"
   ]
  },
  {
   "cell_type": "code",
   "execution_count": 55,
   "id": "3a58a54a-1e68-46b9-927a-df01f18aebc8",
   "metadata": {
    "execution": {
     "iopub.execute_input": "2025-07-30T14:22:22.806851Z",
     "iopub.status.busy": "2025-07-30T14:22:22.805967Z",
     "iopub.status.idle": "2025-07-30T14:22:23.612592Z",
     "shell.execute_reply": "2025-07-30T14:22:23.611629Z"
    },
    "papermill": {
     "duration": 0.831279,
     "end_time": "2025-07-30T14:22:23.614139",
     "exception": false,
     "start_time": "2025-07-30T14:22:22.782860",
     "status": "completed"
    },
    "tags": []
   },
   "outputs": [],
   "source": [
    "from fairness_multiverse.conformal import evaluate_sets\n",
    "\n",
    "# Evaluate coverage and average set size on test data\n",
    "metrics = evaluate_sets(pred_sets, y_true)"
   ]
  },
  {
   "cell_type": "markdown",
   "id": "2b569c12-9aaa-4c88-98c9-bbcd0cf3ebb8",
   "metadata": {
    "papermill": {
     "duration": 0.026027,
     "end_time": "2025-07-30T14:22:23.665360",
     "exception": false,
     "start_time": "2025-07-30T14:22:23.639333",
     "status": "completed"
    },
    "tags": []
   },
   "source": [
    "# CP Metrics"
   ]
  },
  {
   "cell_type": "code",
   "execution_count": 56,
   "id": "5ce0a5cb-201f-45a0-ade5-94c7f0bd6095",
   "metadata": {
    "execution": {
     "iopub.execute_input": "2025-07-30T14:22:23.723627Z",
     "iopub.status.busy": "2025-07-30T14:22:23.723171Z",
     "iopub.status.idle": "2025-07-30T14:22:23.730601Z",
     "shell.execute_reply": "2025-07-30T14:22:23.729613Z"
    },
    "papermill": {
     "duration": 0.037433,
     "end_time": "2025-07-30T14:22:23.732931",
     "exception": false,
     "start_time": "2025-07-30T14:22:23.695498",
     "status": "completed"
    },
    "tags": []
   },
   "outputs": [
    {
     "data": {
      "text/plain": [
       "{'coverage': 0.9088395942481329, 'avg_size': 1.1578642291829226}"
      ]
     },
     "execution_count": 56,
     "metadata": {},
     "output_type": "execute_result"
    }
   ],
   "source": [
    "metrics"
   ]
  },
  {
   "cell_type": "code",
   "execution_count": 57,
   "id": "9b9a838d-31c9-430b-ae14-12baee460d17",
   "metadata": {
    "execution": {
     "iopub.execute_input": "2025-07-30T14:22:23.787823Z",
     "iopub.status.busy": "2025-07-30T14:22:23.787181Z",
     "iopub.status.idle": "2025-07-30T14:22:23.793256Z",
     "shell.execute_reply": "2025-07-30T14:22:23.792388Z"
    },
    "papermill": {
     "duration": 0.035373,
     "end_time": "2025-07-30T14:22:23.795058",
     "exception": false,
     "start_time": "2025-07-30T14:22:23.759685",
     "status": "completed"
    },
    "tags": []
   },
   "outputs": [],
   "source": [
    "example_universe = universe.copy()\n",
    "universe_training_size = example_universe.get(\"training_size\")\n",
    "universe_scale = example_universe.get(\"scale\")\n",
    "universe_model = example_universe.get(\"model\")\n",
    "universe_exclude_features = example_universe.get(\"exclude_features\")\n",
    "universe_exclude_subgroups = example_universe.get(\"exclude_subgroups\")"
   ]
  },
  {
   "cell_type": "code",
   "execution_count": 58,
   "id": "f4b6a8ac-9dc0-4245-8a91-5b3b5999c4f9",
   "metadata": {
    "execution": {
     "iopub.execute_input": "2025-07-30T14:22:23.849513Z",
     "iopub.status.busy": "2025-07-30T14:22:23.849126Z",
     "iopub.status.idle": "2025-07-30T14:22:23.854882Z",
     "shell.execute_reply": "2025-07-30T14:22:23.854129Z"
    },
    "papermill": {
     "duration": 0.029011,
     "end_time": "2025-07-30T14:22:23.856575",
     "exception": false,
     "start_time": "2025-07-30T14:22:23.827564",
     "status": "completed"
    },
    "tags": []
   },
   "outputs": [],
   "source": [
    "cp_metrics_dict = {\n",
    "    \"universe_id\": [universe_id],\n",
    "    \"universe_training_size\": [universe_training_size],\n",
    "    \"universe_scale\": [universe_scale],\n",
    "    \"universe_model\": [universe_model],\n",
    "    \"universe_exclude_features\": [universe_exclude_features],\n",
    "    \"universe_exclude_subgroups\": [universe_exclude_subgroups],\n",
    "    \"q_hat\": [q_hat],\n",
    "    \"coverage\": [metrics[\"coverage\"]],\n",
    "    \"avg_size\": [metrics[\"avg_size\"]],\n",
    "}"
   ]
  },
  {
   "cell_type": "code",
   "execution_count": 59,
   "id": "908acbb1-0371-4915-85ca-3fa520d2efe2",
   "metadata": {
    "execution": {
     "iopub.execute_input": "2025-07-30T14:22:23.902652Z",
     "iopub.status.busy": "2025-07-30T14:22:23.902132Z",
     "iopub.status.idle": "2025-07-30T14:22:23.921145Z",
     "shell.execute_reply": "2025-07-30T14:22:23.920108Z"
    },
    "papermill": {
     "duration": 0.051333,
     "end_time": "2025-07-30T14:22:23.923325",
     "exception": false,
     "start_time": "2025-07-30T14:22:23.871992",
     "status": "completed"
    },
    "tags": []
   },
   "outputs": [
    {
     "data": {
      "text/plain": [
       "{'universe_id': ['7c8ce3b0f4107efd6c8da94e82cafd64'],\n",
       " 'universe_training_size': ['1k'],\n",
       " 'universe_scale': ['scale'],\n",
       " 'universe_model': ['gbm'],\n",
       " 'universe_exclude_features': ['nationality'],\n",
       " 'universe_exclude_subgroups': ['drop-non-german'],\n",
       " 'q_hat': [0.758135720599874],\n",
       " 'coverage': [0.9088395942481329],\n",
       " 'avg_size': [1.1578642291829226]}"
      ]
     },
     "execution_count": 59,
     "metadata": {},
     "output_type": "execute_result"
    }
   ],
   "source": [
    "cp_metrics_dict"
   ]
  },
  {
   "cell_type": "code",
   "execution_count": 60,
   "id": "33007efc-14e9-4ec6-97ac-56a455c82265",
   "metadata": {
    "execution": {
     "iopub.execute_input": "2025-07-30T14:22:23.959701Z",
     "iopub.status.busy": "2025-07-30T14:22:23.959213Z",
     "iopub.status.idle": "2025-07-30T14:22:23.965675Z",
     "shell.execute_reply": "2025-07-30T14:22:23.964696Z"
    },
    "papermill": {
     "duration": 0.02452,
     "end_time": "2025-07-30T14:22:23.967352",
     "exception": false,
     "start_time": "2025-07-30T14:22:23.942832",
     "status": "completed"
    },
    "tags": []
   },
   "outputs": [],
   "source": [
    "cp_metrics_df = pd.DataFrame(cp_metrics_dict)"
   ]
  },
  {
   "cell_type": "code",
   "execution_count": 61,
   "id": "db12611b-57b2-4910-b9d0-355adfd6e7bf",
   "metadata": {
    "execution": {
     "iopub.execute_input": "2025-07-30T14:22:24.024959Z",
     "iopub.status.busy": "2025-07-30T14:22:24.024088Z",
     "iopub.status.idle": "2025-07-30T14:22:24.046110Z",
     "shell.execute_reply": "2025-07-30T14:22:24.045048Z"
    },
    "papermill": {
     "duration": 0.052925,
     "end_time": "2025-07-30T14:22:24.048697",
     "exception": false,
     "start_time": "2025-07-30T14:22:23.995772",
     "status": "completed"
    },
    "tags": []
   },
   "outputs": [
    {
     "data": {
      "text/html": [
       "<div>\n",
       "<style scoped>\n",
       "    .dataframe tbody tr th:only-of-type {\n",
       "        vertical-align: middle;\n",
       "    }\n",
       "\n",
       "    .dataframe tbody tr th {\n",
       "        vertical-align: top;\n",
       "    }\n",
       "\n",
       "    .dataframe thead th {\n",
       "        text-align: right;\n",
       "    }\n",
       "</style>\n",
       "<table border=\"1\" class=\"dataframe\">\n",
       "  <thead>\n",
       "    <tr style=\"text-align: right;\">\n",
       "      <th></th>\n",
       "      <th>universe_id</th>\n",
       "      <th>universe_training_size</th>\n",
       "      <th>universe_scale</th>\n",
       "      <th>universe_model</th>\n",
       "      <th>universe_exclude_features</th>\n",
       "      <th>universe_exclude_subgroups</th>\n",
       "      <th>q_hat</th>\n",
       "      <th>coverage</th>\n",
       "      <th>avg_size</th>\n",
       "    </tr>\n",
       "  </thead>\n",
       "  <tbody>\n",
       "    <tr>\n",
       "      <th>0</th>\n",
       "      <td>7c8ce3b0f4107efd6c8da94e82cafd64</td>\n",
       "      <td>1k</td>\n",
       "      <td>scale</td>\n",
       "      <td>gbm</td>\n",
       "      <td>nationality</td>\n",
       "      <td>drop-non-german</td>\n",
       "      <td>0.758136</td>\n",
       "      <td>0.90884</td>\n",
       "      <td>1.157864</td>\n",
       "    </tr>\n",
       "  </tbody>\n",
       "</table>\n",
       "</div>"
      ],
      "text/plain": [
       "                        universe_id universe_training_size universe_scale  \\\n",
       "0  7c8ce3b0f4107efd6c8da94e82cafd64                     1k          scale   \n",
       "\n",
       "  universe_model universe_exclude_features universe_exclude_subgroups  \\\n",
       "0            gbm               nationality            drop-non-german   \n",
       "\n",
       "      q_hat  coverage  avg_size  \n",
       "0  0.758136   0.90884  1.157864  "
      ]
     },
     "execution_count": 61,
     "metadata": {},
     "output_type": "execute_result"
    }
   ],
   "source": [
    "cp_metrics_df"
   ]
  },
  {
   "cell_type": "code",
   "execution_count": 62,
   "id": "b7fbde55-a0a1-47e4-9af6-fe4a17fa8c61",
   "metadata": {
    "execution": {
     "iopub.execute_input": "2025-07-30T14:22:24.107522Z",
     "iopub.status.busy": "2025-07-30T14:22:24.107019Z",
     "iopub.status.idle": "2025-07-30T14:22:24.112811Z",
     "shell.execute_reply": "2025-07-30T14:22:24.111738Z"
    },
    "papermill": {
     "duration": 0.036506,
     "end_time": "2025-07-30T14:22:24.114496",
     "exception": false,
     "start_time": "2025-07-30T14:22:24.077990",
     "status": "completed"
    },
    "tags": []
   },
   "outputs": [],
   "source": [
    "# Conditional Coverage & looking at subgroups"
   ]
  },
  {
   "cell_type": "code",
   "execution_count": 63,
   "id": "027ae886-68dd-4141-96c7-805a5450e1ef",
   "metadata": {
    "execution": {
     "iopub.execute_input": "2025-07-30T14:22:24.173159Z",
     "iopub.status.busy": "2025-07-30T14:22:24.172627Z",
     "iopub.status.idle": "2025-07-30T14:22:24.452825Z",
     "shell.execute_reply": "2025-07-30T14:22:24.451706Z"
    },
    "papermill": {
     "duration": 0.311816,
     "end_time": "2025-07-30T14:22:24.455015",
     "exception": false,
     "start_time": "2025-07-30T14:22:24.143199",
     "status": "completed"
    },
    "tags": []
   },
   "outputs": [],
   "source": [
    "from fairness_multiverse.conformal import build_cp_groups\n",
    "\n",
    "cp_groups_df = build_cp_groups(pred_sets, y_true, X_test.index, org_test)\n",
    "#needs universe_id and setting"
   ]
  },
  {
   "cell_type": "code",
   "execution_count": 64,
   "id": "01d5802c-663a-4d1f-9d69-e036faaffbf7",
   "metadata": {
    "execution": {
     "iopub.execute_input": "2025-07-30T14:22:24.523235Z",
     "iopub.status.busy": "2025-07-30T14:22:24.522700Z",
     "iopub.status.idle": "2025-07-30T14:22:24.528075Z",
     "shell.execute_reply": "2025-07-30T14:22:24.527068Z"
    },
    "papermill": {
     "duration": 0.044541,
     "end_time": "2025-07-30T14:22:24.529864",
     "exception": false,
     "start_time": "2025-07-30T14:22:24.485323",
     "status": "completed"
    },
    "tags": []
   },
   "outputs": [],
   "source": [
    "#delete\n",
    "#cp_groups_df"
   ]
  },
  {
   "cell_type": "code",
   "execution_count": 65,
   "id": "fa424af1-d1eb-443d-b717-2d279ada8408",
   "metadata": {
    "execution": {
     "iopub.execute_input": "2025-07-30T14:22:24.585557Z",
     "iopub.status.busy": "2025-07-30T14:22:24.585045Z",
     "iopub.status.idle": "2025-07-30T14:22:24.590169Z",
     "shell.execute_reply": "2025-07-30T14:22:24.589230Z"
    },
    "papermill": {
     "duration": 0.034589,
     "end_time": "2025-07-30T14:22:24.591642",
     "exception": false,
     "start_time": "2025-07-30T14:22:24.557053",
     "status": "completed"
    },
    "tags": []
   },
   "outputs": [],
   "source": [
    "#delete\n",
    "#percentage = (cp_groups_df['nongerman_female'] == 1).mean() * 100\n",
    "#print(percentage)\n"
   ]
  },
  {
   "cell_type": "code",
   "execution_count": 66,
   "id": "6cbdab96-b2b2-45af-ad54-d0516db2e28d",
   "metadata": {
    "execution": {
     "iopub.execute_input": "2025-07-30T14:22:24.647330Z",
     "iopub.status.busy": "2025-07-30T14:22:24.646378Z",
     "iopub.status.idle": "2025-07-30T14:22:26.346765Z",
     "shell.execute_reply": "2025-07-30T14:22:26.345591Z"
    },
    "papermill": {
     "duration": 1.730499,
     "end_time": "2025-07-30T14:22:26.348995",
     "exception": false,
     "start_time": "2025-07-30T14:22:24.618496",
     "status": "completed"
    },
    "tags": []
   },
   "outputs": [],
   "source": [
    "# Define covered = 1 if true_label is in the predicted set\n",
    "cp_groups_df['covered'] = cp_groups_df.apply(\n",
    "    lambda r: int(r['true_label'] in r['pred_set']),\n",
    "    axis=1\n",
    ")"
   ]
  },
  {
   "cell_type": "code",
   "execution_count": 67,
   "id": "338ff529-1a6b-4b87-a931-8e4788d52aad",
   "metadata": {
    "execution": {
     "iopub.execute_input": "2025-07-30T14:22:26.419788Z",
     "iopub.status.busy": "2025-07-30T14:22:26.419242Z",
     "iopub.status.idle": "2025-07-30T14:22:26.425708Z",
     "shell.execute_reply": "2025-07-30T14:22:26.424512Z"
    },
    "papermill": {
     "duration": 0.044236,
     "end_time": "2025-07-30T14:22:26.428175",
     "exception": false,
     "start_time": "2025-07-30T14:22:26.383939",
     "status": "completed"
    },
    "tags": []
   },
   "outputs": [],
   "source": [
    "#cp_groups_df"
   ]
  },
  {
   "cell_type": "code",
   "execution_count": 68,
   "id": "90032e27-66df-4540-9169-4e89cfbaa758",
   "metadata": {
    "execution": {
     "iopub.execute_input": "2025-07-30T14:22:26.498310Z",
     "iopub.status.busy": "2025-07-30T14:22:26.497828Z",
     "iopub.status.idle": "2025-07-30T14:22:26.510904Z",
     "shell.execute_reply": "2025-07-30T14:22:26.509770Z"
    },
    "papermill": {
     "duration": 0.051268,
     "end_time": "2025-07-30T14:22:26.513649",
     "exception": false,
     "start_time": "2025-07-30T14:22:26.462381",
     "status": "completed"
    },
    "tags": []
   },
   "outputs": [],
   "source": [
    "subgroups = ['frau1','nongerman','nongerman_male','nongerman_female']\n",
    "\n",
    "# Conditional coverage for subgroup==1\n",
    "cond_coverage = {\n",
    "    g: cp_groups_df.loc[cp_groups_df[g]==1, 'covered'].mean()\n",
    "    for g in subgroups\n",
    "}"
   ]
  },
  {
   "cell_type": "code",
   "execution_count": 69,
   "id": "1e348fb1-b9c3-45bc-ba23-f016827a7e0d",
   "metadata": {
    "execution": {
     "iopub.execute_input": "2025-07-30T14:22:26.584334Z",
     "iopub.status.busy": "2025-07-30T14:22:26.583637Z",
     "iopub.status.idle": "2025-07-30T14:22:26.592702Z",
     "shell.execute_reply": "2025-07-30T14:22:26.591632Z"
    },
    "papermill": {
     "duration": 0.0463,
     "end_time": "2025-07-30T14:22:26.594469",
     "exception": false,
     "start_time": "2025-07-30T14:22:26.548169",
     "status": "completed"
    },
    "tags": []
   },
   "outputs": [
    {
     "data": {
      "text/plain": [
       "{'frau1': 0.9075077503706699,\n",
       " 'nongerman': 0.9075955762645259,\n",
       " 'nongerman_male': 0.9238043771953526,\n",
       " 'nongerman_female': 0.8807749627421758}"
      ]
     },
     "execution_count": 69,
     "metadata": {},
     "output_type": "execute_result"
    }
   ],
   "source": [
    "cond_coverage"
   ]
  },
  {
   "cell_type": "code",
   "execution_count": 70,
   "id": "f5093324-c3dd-4d63-bc4c-8d945e5c8bbb",
   "metadata": {
    "execution": {
     "iopub.execute_input": "2025-07-30T14:22:26.652110Z",
     "iopub.status.busy": "2025-07-30T14:22:26.651240Z",
     "iopub.status.idle": "2025-07-30T14:22:26.658335Z",
     "shell.execute_reply": "2025-07-30T14:22:26.657462Z"
    },
    "papermill": {
     "duration": 0.040498,
     "end_time": "2025-07-30T14:22:26.662116",
     "exception": false,
     "start_time": "2025-07-30T14:22:26.621618",
     "status": "completed"
    },
    "tags": []
   },
   "outputs": [],
   "source": [
    "for subgroup, cov in cond_coverage.items():\n",
    "    cp_metrics_df[f\"cov_{subgroup}\"] = cov"
   ]
  },
  {
   "cell_type": "code",
   "execution_count": 71,
   "id": "6e872e10-dbe5-49e8-b554-5030c98ff75d",
   "metadata": {
    "execution": {
     "iopub.execute_input": "2025-07-30T14:22:26.717752Z",
     "iopub.status.busy": "2025-07-30T14:22:26.716623Z",
     "iopub.status.idle": "2025-07-30T14:22:26.737773Z",
     "shell.execute_reply": "2025-07-30T14:22:26.736813Z"
    },
    "papermill": {
     "duration": 0.051311,
     "end_time": "2025-07-30T14:22:26.739296",
     "exception": false,
     "start_time": "2025-07-30T14:22:26.687985",
     "status": "completed"
    },
    "tags": []
   },
   "outputs": [
    {
     "data": {
      "text/html": [
       "<div>\n",
       "<style scoped>\n",
       "    .dataframe tbody tr th:only-of-type {\n",
       "        vertical-align: middle;\n",
       "    }\n",
       "\n",
       "    .dataframe tbody tr th {\n",
       "        vertical-align: top;\n",
       "    }\n",
       "\n",
       "    .dataframe thead th {\n",
       "        text-align: right;\n",
       "    }\n",
       "</style>\n",
       "<table border=\"1\" class=\"dataframe\">\n",
       "  <thead>\n",
       "    <tr style=\"text-align: right;\">\n",
       "      <th></th>\n",
       "      <th>universe_id</th>\n",
       "      <th>universe_training_size</th>\n",
       "      <th>universe_scale</th>\n",
       "      <th>universe_model</th>\n",
       "      <th>universe_exclude_features</th>\n",
       "      <th>universe_exclude_subgroups</th>\n",
       "      <th>q_hat</th>\n",
       "      <th>coverage</th>\n",
       "      <th>avg_size</th>\n",
       "      <th>cov_frau1</th>\n",
       "      <th>cov_nongerman</th>\n",
       "      <th>cov_nongerman_male</th>\n",
       "      <th>cov_nongerman_female</th>\n",
       "    </tr>\n",
       "  </thead>\n",
       "  <tbody>\n",
       "    <tr>\n",
       "      <th>0</th>\n",
       "      <td>7c8ce3b0f4107efd6c8da94e82cafd64</td>\n",
       "      <td>1k</td>\n",
       "      <td>scale</td>\n",
       "      <td>gbm</td>\n",
       "      <td>nationality</td>\n",
       "      <td>drop-non-german</td>\n",
       "      <td>0.758136</td>\n",
       "      <td>0.90884</td>\n",
       "      <td>1.157864</td>\n",
       "      <td>0.907508</td>\n",
       "      <td>0.907596</td>\n",
       "      <td>0.923804</td>\n",
       "      <td>0.880775</td>\n",
       "    </tr>\n",
       "  </tbody>\n",
       "</table>\n",
       "</div>"
      ],
      "text/plain": [
       "                        universe_id universe_training_size universe_scale  \\\n",
       "0  7c8ce3b0f4107efd6c8da94e82cafd64                     1k          scale   \n",
       "\n",
       "  universe_model universe_exclude_features universe_exclude_subgroups  \\\n",
       "0            gbm               nationality            drop-non-german   \n",
       "\n",
       "      q_hat  coverage  avg_size  cov_frau1  cov_nongerman  cov_nongerman_male  \\\n",
       "0  0.758136   0.90884  1.157864   0.907508       0.907596            0.923804   \n",
       "\n",
       "   cov_nongerman_female  \n",
       "0              0.880775  "
      ]
     },
     "execution_count": 71,
     "metadata": {},
     "output_type": "execute_result"
    }
   ],
   "source": [
    "cp_metrics_df"
   ]
  },
  {
   "cell_type": "markdown",
   "id": "33774451",
   "metadata": {
    "papermill": {
     "duration": 0.026556,
     "end_time": "2025-07-30T14:22:26.791686",
     "exception": false,
     "start_time": "2025-07-30T14:22:26.765130",
     "status": "completed"
    },
    "tags": []
   },
   "source": [
    "# (Fairness) Metrics"
   ]
  },
  {
   "cell_type": "code",
   "execution_count": 72,
   "id": "debc5d62",
   "metadata": {
    "execution": {
     "iopub.execute_input": "2025-07-30T14:22:26.837409Z",
     "iopub.status.busy": "2025-07-30T14:22:26.836826Z",
     "iopub.status.idle": "2025-07-30T14:22:26.857318Z",
     "shell.execute_reply": "2025-07-30T14:22:26.856360Z"
    },
    "papermill": {
     "duration": 0.044153,
     "end_time": "2025-07-30T14:22:26.859225",
     "exception": false,
     "start_time": "2025-07-30T14:22:26.815072",
     "status": "completed"
    },
    "tags": []
   },
   "outputs": [],
   "source": [
    "# do I need to include maxdeutsch1.missing?\n",
    "\n",
    "import numpy as np\n",
    "\n",
    "colname_to_bin = \"maxdeutsch1\"\n",
    "majority_value = org_train[colname_to_bin].mode()[0]\n",
    "\n",
    "org_test[\"majmin\"] = np.where(org_test[colname_to_bin] == majority_value, \"majority\", \"minority\")"
   ]
  },
  {
   "cell_type": "code",
   "execution_count": 73,
   "id": "06a50de5",
   "metadata": {
    "execution": {
     "iopub.execute_input": "2025-07-30T14:22:26.919595Z",
     "iopub.status.busy": "2025-07-30T14:22:26.918999Z",
     "iopub.status.idle": "2025-07-30T14:22:29.113489Z",
     "shell.execute_reply": "2025-07-30T14:22:29.112572Z"
    },
    "papermill": {
     "duration": 2.234452,
     "end_time": "2025-07-30T14:22:29.115317",
     "exception": false,
     "start_time": "2025-07-30T14:22:26.880865",
     "status": "completed"
    },
    "tags": []
   },
   "outputs": [],
   "source": [
    "example_universe = universe.copy()\n",
    "example_universe[\"cutoff\"] = example_universe[\"cutoff\"][0]\n",
    "example_universe[\"eval_fairness_grouping\"] = example_universe[\"eval_fairness_grouping\"][0]\n",
    "fairness_dict, metric_frame = universe_analysis.compute_metrics(\n",
    "    example_universe,\n",
    "    y_pred_prob=probs_test,\n",
    "    y_test=y_true,\n",
    "    org_test=org_test,\n",
    ")"
   ]
  },
  {
   "cell_type": "markdown",
   "id": "f95d4e02",
   "metadata": {
    "papermill": {
     "duration": 0.028386,
     "end_time": "2025-07-30T14:22:29.173482",
     "exception": false,
     "start_time": "2025-07-30T14:22:29.145096",
     "status": "completed"
    },
    "tags": []
   },
   "source": [
    "# Overall"
   ]
  },
  {
   "cell_type": "markdown",
   "id": "bdee4871",
   "metadata": {
    "papermill": {
     "duration": 0.027461,
     "end_time": "2025-07-30T14:22:29.228221",
     "exception": false,
     "start_time": "2025-07-30T14:22:29.200760",
     "status": "completed"
    },
    "tags": []
   },
   "source": [
    "Fairness\n",
    "Main fairness target: Equalized Odds. Seems to be a better fit than equal opportunity, since we're not only interested in Y = 1. Seems to be a better fit than demographic parity, since we also care about accuracy, not just equal distribution of preds.\n",
    "\n",
    "Pick column for computation of fairness metrics\n",
    "\n",
    "Performance\n",
    "Overall performance measures, most interesting in relation to the measures split by group below"
   ]
  },
  {
   "cell_type": "code",
   "execution_count": 74,
   "id": "c4e067c6",
   "metadata": {
    "execution": {
     "iopub.execute_input": "2025-07-30T14:22:29.289492Z",
     "iopub.status.busy": "2025-07-30T14:22:29.288980Z",
     "iopub.status.idle": "2025-07-30T14:22:29.300190Z",
     "shell.execute_reply": "2025-07-30T14:22:29.299148Z"
    },
    "papermill": {
     "duration": 0.042051,
     "end_time": "2025-07-30T14:22:29.302157",
     "exception": false,
     "start_time": "2025-07-30T14:22:29.260106",
     "status": "completed"
    },
    "tags": []
   },
   "outputs": [
    {
     "data": {
      "text/plain": [
       "accuracy                   0.219496\n",
       "balanced accuracy          0.540610\n",
       "f1                         0.242243\n",
       "precision                  0.138352\n",
       "false positive rate        0.891320\n",
       "false negative rate        0.027459\n",
       "selection rate             0.901739\n",
       "count                  89710.000000\n",
       "dtype: float64"
      ]
     },
     "execution_count": 74,
     "metadata": {},
     "output_type": "execute_result"
    }
   ],
   "source": [
    "metric_frame.overall"
   ]
  },
  {
   "cell_type": "markdown",
   "id": "e968fe9d",
   "metadata": {
    "papermill": {
     "duration": 0.026914,
     "end_time": "2025-07-30T14:22:29.357718",
     "exception": false,
     "start_time": "2025-07-30T14:22:29.330804",
     "status": "completed"
    },
    "tags": []
   },
   "source": [
    "By Group"
   ]
  },
  {
   "cell_type": "code",
   "execution_count": 75,
   "id": "ec325bce",
   "metadata": {
    "execution": {
     "iopub.execute_input": "2025-07-30T14:22:29.414616Z",
     "iopub.status.busy": "2025-07-30T14:22:29.414218Z",
     "iopub.status.idle": "2025-07-30T14:22:29.430663Z",
     "shell.execute_reply": "2025-07-30T14:22:29.429623Z"
    },
    "papermill": {
     "duration": 0.046308,
     "end_time": "2025-07-30T14:22:29.432316",
     "exception": false,
     "start_time": "2025-07-30T14:22:29.386008",
     "status": "completed"
    },
    "tags": []
   },
   "outputs": [
    {
     "data": {
      "text/html": [
       "<div>\n",
       "<style scoped>\n",
       "    .dataframe tbody tr th:only-of-type {\n",
       "        vertical-align: middle;\n",
       "    }\n",
       "\n",
       "    .dataframe tbody tr th {\n",
       "        vertical-align: top;\n",
       "    }\n",
       "\n",
       "    .dataframe thead th {\n",
       "        text-align: right;\n",
       "    }\n",
       "</style>\n",
       "<table border=\"1\" class=\"dataframe\">\n",
       "  <thead>\n",
       "    <tr style=\"text-align: right;\">\n",
       "      <th></th>\n",
       "      <th>accuracy</th>\n",
       "      <th>balanced accuracy</th>\n",
       "      <th>f1</th>\n",
       "      <th>precision</th>\n",
       "      <th>false positive rate</th>\n",
       "      <th>false negative rate</th>\n",
       "      <th>selection rate</th>\n",
       "      <th>count</th>\n",
       "    </tr>\n",
       "    <tr>\n",
       "      <th>majmin</th>\n",
       "      <th></th>\n",
       "      <th></th>\n",
       "      <th></th>\n",
       "      <th></th>\n",
       "      <th></th>\n",
       "      <th></th>\n",
       "      <th></th>\n",
       "      <th></th>\n",
       "    </tr>\n",
       "  </thead>\n",
       "  <tbody>\n",
       "    <tr>\n",
       "      <th>majority</th>\n",
       "      <td>0.238962</td>\n",
       "      <td>0.548466</td>\n",
       "      <td>0.251802</td>\n",
       "      <td>0.144698</td>\n",
       "      <td>0.872214</td>\n",
       "      <td>0.030853</td>\n",
       "      <td>0.885022</td>\n",
       "      <td>69170.0</td>\n",
       "    </tr>\n",
       "    <tr>\n",
       "      <th>minority</th>\n",
       "      <td>0.153944</td>\n",
       "      <td>0.515603</td>\n",
       "      <td>0.211739</td>\n",
       "      <td>0.118610</td>\n",
       "      <td>0.954435</td>\n",
       "      <td>0.014358</td>\n",
       "      <td>0.958033</td>\n",
       "      <td>20540.0</td>\n",
       "    </tr>\n",
       "  </tbody>\n",
       "</table>\n",
       "</div>"
      ],
      "text/plain": [
       "          accuracy  balanced accuracy        f1  precision  \\\n",
       "majmin                                                       \n",
       "majority  0.238962           0.548466  0.251802   0.144698   \n",
       "minority  0.153944           0.515603  0.211739   0.118610   \n",
       "\n",
       "          false positive rate  false negative rate  selection rate    count  \n",
       "majmin                                                                       \n",
       "majority             0.872214             0.030853        0.885022  69170.0  \n",
       "minority             0.954435             0.014358        0.958033  20540.0  "
      ]
     },
     "execution_count": 75,
     "metadata": {},
     "output_type": "execute_result"
    }
   ],
   "source": [
    "metric_frame.by_group"
   ]
  },
  {
   "cell_type": "code",
   "execution_count": 76,
   "id": "a9ddbe63",
   "metadata": {
    "execution": {
     "iopub.execute_input": "2025-07-30T14:22:29.491896Z",
     "iopub.status.busy": "2025-07-30T14:22:29.491402Z",
     "iopub.status.idle": "2025-07-30T14:22:31.838898Z",
     "shell.execute_reply": "2025-07-30T14:22:31.837909Z"
    },
    "papermill": {
     "duration": 2.379083,
     "end_time": "2025-07-30T14:22:31.840610",
     "exception": false,
     "start_time": "2025-07-30T14:22:29.461527",
     "status": "completed"
    },
    "tags": []
   },
   "outputs": [
    {
     "data": {
      "text/plain": [
       "array([[<Axes: title={'center': 'accuracy'}, xlabel='majmin'>,\n",
       "        <Axes: title={'center': 'balanced accuracy'}, xlabel='majmin'>,\n",
       "        <Axes: title={'center': 'f1'}, xlabel='majmin'>],\n",
       "       [<Axes: title={'center': 'precision'}, xlabel='majmin'>,\n",
       "        <Axes: title={'center': 'false positive rate'}, xlabel='majmin'>,\n",
       "        <Axes: title={'center': 'false negative rate'}, xlabel='majmin'>],\n",
       "       [<Axes: title={'center': 'selection rate'}, xlabel='majmin'>,\n",
       "        <Axes: title={'center': 'count'}, xlabel='majmin'>,\n",
       "        <Axes: xlabel='majmin'>]], dtype=object)"
      ]
     },
     "execution_count": 76,
     "metadata": {},
     "output_type": "execute_result"
    },
    {
     "data": {
      "image/png": "[encoded data removed]",
      "text/plain": [
       "<Figure size 1200x800 with 9 Axes>"
      ]
     },
     "metadata": {},
     "output_type": "display_data"
    }
   ],
   "source": [
    "# In a graphic\n",
    "metric_frame.by_group.plot.bar(\n",
    "    subplots=True,\n",
    "    layout=[3, 3],\n",
    "    legend=False,\n",
    "    figsize=[12, 8],\n",
    "    title=\"Show all metrics\",\n",
    ")"
   ]
  },
  {
   "cell_type": "markdown",
   "id": "f57a0bac",
   "metadata": {
    "papermill": {
     "duration": 0.026016,
     "end_time": "2025-07-30T14:22:31.898201",
     "exception": false,
     "start_time": "2025-07-30T14:22:31.872185",
     "status": "completed"
    },
    "tags": []
   },
   "source": [
    "# Final Output"
   ]
  },
  {
   "cell_type": "code",
   "execution_count": 77,
   "id": "96d280a3",
   "metadata": {
    "execution": {
     "iopub.execute_input": "2025-07-30T14:22:31.958326Z",
     "iopub.status.busy": "2025-07-30T14:22:31.957655Z",
     "iopub.status.idle": "2025-07-30T14:22:31.966269Z",
     "shell.execute_reply": "2025-07-30T14:22:31.965299Z"
    },
    "papermill": {
     "duration": 0.039043,
     "end_time": "2025-07-30T14:22:31.968247",
     "exception": false,
     "start_time": "2025-07-30T14:22:31.929204",
     "status": "completed"
    },
    "tags": []
   },
   "outputs": [
    {
     "data": {
      "text/plain": [
       "4"
      ]
     },
     "execution_count": 77,
     "metadata": {},
     "output_type": "execute_result"
    }
   ],
   "source": [
    "sub_universes = universe_analysis.generate_sub_universes()\n",
    "len(sub_universes)"
   ]
  },
  {
   "cell_type": "code",
   "execution_count": 78,
   "id": "92adf7ba",
   "metadata": {
    "execution": {
     "iopub.execute_input": "2025-07-30T14:22:32.031906Z",
     "iopub.status.busy": "2025-07-30T14:22:32.031431Z",
     "iopub.status.idle": "2025-07-30T14:22:32.037152Z",
     "shell.execute_reply": "2025-07-30T14:22:32.036241Z"
    },
    "papermill": {
     "duration": 0.038699,
     "end_time": "2025-07-30T14:22:32.038559",
     "exception": false,
     "start_time": "2025-07-30T14:22:31.999860",
     "status": "completed"
    },
    "tags": []
   },
   "outputs": [],
   "source": [
    "def filter_sub_universe_data(sub_universe, org_test):\n",
    "    # Keep all rows — no filtering\n",
    "    keep_rows_mask = np.ones(org_test.shape[0], dtype=bool)\n",
    "\n",
    "    print(f\"[INFO] Keeping all rows: {keep_rows_mask.sum()} rows retained.\")\n",
    "    return keep_rows_mask"
   ]
  },
  {
   "cell_type": "code",
   "execution_count": 79,
   "id": "4a759155",
   "metadata": {
    "execution": {
     "iopub.execute_input": "2025-07-30T14:22:32.074440Z",
     "iopub.status.busy": "2025-07-30T14:22:32.073929Z",
     "iopub.status.idle": "2025-07-30T14:22:40.462644Z",
     "shell.execute_reply": "2025-07-30T14:22:40.461624Z"
    },
    "papermill": {
     "duration": 8.408834,
     "end_time": "2025-07-30T14:22:40.464533",
     "exception": false,
     "start_time": "2025-07-30T14:22:32.055699",
     "status": "completed"
    },
    "tags": []
   },
   "outputs": [
    {
     "name": "stdout",
     "output_type": "stream",
     "text": [
      "Stopping execution_time clock.\n",
      "[INFO] Keeping all rows: 89710 rows retained.\n"
     ]
    },
    {
     "name": "stdout",
     "output_type": "stream",
     "text": [
      "[INFO] Keeping all rows: 89710 rows retained.\n"
     ]
    },
    {
     "name": "stdout",
     "output_type": "stream",
     "text": [
      "[INFO] Keeping all rows: 89710 rows retained.\n"
     ]
    },
    {
     "name": "stdout",
     "output_type": "stream",
     "text": [
      "[INFO] Keeping all rows: 89710 rows retained.\n"
     ]
    },
    {
     "data": {
      "text/html": [
       "<div>\n",
       "<style scoped>\n",
       "    .dataframe tbody tr th:only-of-type {\n",
       "        vertical-align: middle;\n",
       "    }\n",
       "\n",
       "    .dataframe tbody tr th {\n",
       "        vertical-align: top;\n",
       "    }\n",
       "\n",
       "    .dataframe thead th {\n",
       "        text-align: right;\n",
       "    }\n",
       "</style>\n",
       "<table border=\"1\" class=\"dataframe\">\n",
       "  <thead>\n",
       "    <tr style=\"text-align: right;\">\n",
       "      <th></th>\n",
       "      <th>run_no</th>\n",
       "      <th>universe_id</th>\n",
       "      <th>universe_settings</th>\n",
       "      <th>execution_time</th>\n",
       "      <th>test_size_n</th>\n",
       "      <th>test_size_frac</th>\n",
       "      <th>fair_main_equalized_odds_difference</th>\n",
       "      <th>fair_main_equalized_odds_ratio</th>\n",
       "      <th>fair_main_demographic_parity_difference</th>\n",
       "      <th>fair_main_demographic_parity_ratio</th>\n",
       "      <th>...</th>\n",
       "      <th>perf_grp_precision_0</th>\n",
       "      <th>perf_grp_precision_1</th>\n",
       "      <th>perf_grp_false positive rate_0</th>\n",
       "      <th>perf_grp_false positive rate_1</th>\n",
       "      <th>perf_grp_false negative rate_0</th>\n",
       "      <th>perf_grp_false negative rate_1</th>\n",
       "      <th>perf_grp_selection rate_0</th>\n",
       "      <th>perf_grp_selection rate_1</th>\n",
       "      <th>perf_grp_count_0</th>\n",
       "      <th>perf_grp_count_1</th>\n",
       "    </tr>\n",
       "  </thead>\n",
       "  <tbody>\n",
       "    <tr>\n",
       "      <th>0</th>\n",
       "      <td>12</td>\n",
       "      <td>7c8ce3b0f4107efd6c8da94e82cafd64</td>\n",
       "      <td>{\"cutoff\": \"quantile_0.1\", \"eval_fairness_grou...</td>\n",
       "      <td>29.412186</td>\n",
       "      <td>89710</td>\n",
       "      <td>1.0</td>\n",
       "      <td>0.082222</td>\n",
       "      <td>0.913853</td>\n",
       "      <td>0.073011</td>\n",
       "      <td>0.923791</td>\n",
       "      <td>...</td>\n",
       "      <td>NaN</td>\n",
       "      <td>NaN</td>\n",
       "      <td>NaN</td>\n",
       "      <td>NaN</td>\n",
       "      <td>NaN</td>\n",
       "      <td>NaN</td>\n",
       "      <td>NaN</td>\n",
       "      <td>NaN</td>\n",
       "      <td>NaN</td>\n",
       "      <td>NaN</td>\n",
       "    </tr>\n",
       "    <tr>\n",
       "      <th>0</th>\n",
       "      <td>12</td>\n",
       "      <td>7c8ce3b0f4107efd6c8da94e82cafd64</td>\n",
       "      <td>{\"cutoff\": \"quantile_0.1\", \"eval_fairness_grou...</td>\n",
       "      <td>29.412186</td>\n",
       "      <td>89710</td>\n",
       "      <td>1.0</td>\n",
       "      <td>0.082222</td>\n",
       "      <td>0.913853</td>\n",
       "      <td>0.073011</td>\n",
       "      <td>0.923791</td>\n",
       "      <td>...</td>\n",
       "      <td>0.118610</td>\n",
       "      <td>0.144698</td>\n",
       "      <td>0.954435</td>\n",
       "      <td>0.872214</td>\n",
       "      <td>0.014358</td>\n",
       "      <td>0.030853</td>\n",
       "      <td>0.958033</td>\n",
       "      <td>0.885022</td>\n",
       "      <td>20540.0</td>\n",
       "      <td>69170.0</td>\n",
       "    </tr>\n",
       "    <tr>\n",
       "      <th>0</th>\n",
       "      <td>12</td>\n",
       "      <td>7c8ce3b0f4107efd6c8da94e82cafd64</td>\n",
       "      <td>{\"cutoff\": \"quantile_0.25\", \"eval_fairness_gro...</td>\n",
       "      <td>29.412186</td>\n",
       "      <td>89710</td>\n",
       "      <td>1.0</td>\n",
       "      <td>0.178760</td>\n",
       "      <td>0.792922</td>\n",
       "      <td>0.159506</td>\n",
       "      <td>0.817286</td>\n",
       "      <td>...</td>\n",
       "      <td>NaN</td>\n",
       "      <td>NaN</td>\n",
       "      <td>NaN</td>\n",
       "      <td>NaN</td>\n",
       "      <td>NaN</td>\n",
       "      <td>NaN</td>\n",
       "      <td>NaN</td>\n",
       "      <td>NaN</td>\n",
       "      <td>NaN</td>\n",
       "      <td>NaN</td>\n",
       "    </tr>\n",
       "    <tr>\n",
       "      <th>0</th>\n",
       "      <td>12</td>\n",
       "      <td>7c8ce3b0f4107efd6c8da94e82cafd64</td>\n",
       "      <td>{\"cutoff\": \"quantile_0.25\", \"eval_fairness_gro...</td>\n",
       "      <td>29.412186</td>\n",
       "      <td>89710</td>\n",
       "      <td>1.0</td>\n",
       "      <td>0.178760</td>\n",
       "      <td>0.792922</td>\n",
       "      <td>0.159506</td>\n",
       "      <td>0.817286</td>\n",
       "      <td>...</td>\n",
       "      <td>0.125146</td>\n",
       "      <td>0.167393</td>\n",
       "      <td>0.863251</td>\n",
       "      <td>0.684491</td>\n",
       "      <td>0.052365</td>\n",
       "      <td>0.096171</td>\n",
       "      <td>0.872980</td>\n",
       "      <td>0.713474</td>\n",
       "      <td>20540.0</td>\n",
       "      <td>69170.0</td>\n",
       "    </tr>\n",
       "  </tbody>\n",
       "</table>\n",
       "<p>4 rows × 50 columns</p>\n",
       "</div>"
      ],
      "text/plain": [
       "  run_no                       universe_id  \\\n",
       "0     12  7c8ce3b0f4107efd6c8da94e82cafd64   \n",
       "0     12  7c8ce3b0f4107efd6c8da94e82cafd64   \n",
       "0     12  7c8ce3b0f4107efd6c8da94e82cafd64   \n",
       "0     12  7c8ce3b0f4107efd6c8da94e82cafd64   \n",
       "\n",
       "                                   universe_settings  execution_time  \\\n",
       "0  {\"cutoff\": \"quantile_0.1\", \"eval_fairness_grou...       29.412186   \n",
       "0  {\"cutoff\": \"quantile_0.1\", \"eval_fairness_grou...       29.412186   \n",
       "0  {\"cutoff\": \"quantile_0.25\", \"eval_fairness_gro...       29.412186   \n",
       "0  {\"cutoff\": \"quantile_0.25\", \"eval_fairness_gro...       29.412186   \n",
       "\n",
       "   test_size_n  test_size_frac  fair_main_equalized_odds_difference  \\\n",
       "0        89710             1.0                             0.082222   \n",
       "0        89710             1.0                             0.082222   \n",
       "0        89710             1.0                             0.178760   \n",
       "0        89710             1.0                             0.178760   \n",
       "\n",
       "   fair_main_equalized_odds_ratio  fair_main_demographic_parity_difference  \\\n",
       "0                        0.913853                                 0.073011   \n",
       "0                        0.913853                                 0.073011   \n",
       "0                        0.792922                                 0.159506   \n",
       "0                        0.792922                                 0.159506   \n",
       "\n",
       "   fair_main_demographic_parity_ratio  ...  perf_grp_precision_0  \\\n",
       "0                            0.923791  ...                   NaN   \n",
       "0                            0.923791  ...              0.118610   \n",
       "0                            0.817286  ...                   NaN   \n",
       "0                            0.817286  ...              0.125146   \n",
       "\n",
       "   perf_grp_precision_1  perf_grp_false positive rate_0  \\\n",
       "0                   NaN                             NaN   \n",
       "0              0.144698                        0.954435   \n",
       "0                   NaN                             NaN   \n",
       "0              0.167393                        0.863251   \n",
       "\n",
       "   perf_grp_false positive rate_1  perf_grp_false negative rate_0  \\\n",
       "0                             NaN                             NaN   \n",
       "0                        0.872214                        0.014358   \n",
       "0                             NaN                             NaN   \n",
       "0                        0.684491                        0.052365   \n",
       "\n",
       "   perf_grp_false negative rate_1  perf_grp_selection rate_0  \\\n",
       "0                             NaN                        NaN   \n",
       "0                        0.030853                   0.958033   \n",
       "0                             NaN                        NaN   \n",
       "0                        0.096171                   0.872980   \n",
       "\n",
       "   perf_grp_selection rate_1  perf_grp_count_0  perf_grp_count_1  \n",
       "0                        NaN               NaN               NaN  \n",
       "0                   0.885022           20540.0           69170.0  \n",
       "0                        NaN               NaN               NaN  \n",
       "0                   0.713474           20540.0           69170.0  \n",
       "\n",
       "[4 rows x 50 columns]"
      ]
     },
     "execution_count": 79,
     "metadata": {},
     "output_type": "execute_result"
    }
   ],
   "source": [
    "final_output = universe_analysis.generate_final_output(\n",
    "    y_pred_prob=probs_test,\n",
    "    y_test=y_true,\n",
    "    org_test=org_test,\n",
    "    filter_data=filter_sub_universe_data,\n",
    "    cp_metrics_df=cp_metrics_df,\n",
    "    save=True,\n",
    ")\n",
    "final_output"
   ]
  },
  {
   "cell_type": "code",
   "execution_count": null,
   "id": "721ff514-cb11-46f8-b6fc-50392f74b5cb",
   "metadata": {
    "papermill": {
     "duration": 0.040703,
     "end_time": "2025-07-30T14:22:40.542538",
     "exception": false,
     "start_time": "2025-07-30T14:22:40.501835",
     "status": "completed"
    },
    "tags": []
   },
   "outputs": [],
   "source": []
  }
 ],
 "metadata": {
  "celltoolbar": "Tags",
  "kernelspec": {
   "display_name": "Python (CMA Fairness)",
   "language": "python",
   "name": "cma_fair_env"
  },
  "language_info": {
   "codemirror_mode": {
    "name": "ipython",
    "version": 3
   },
   "file_extension": ".py",
   "mimetype": "text/x-python",
   "name": "python",
   "nbconvert_exporter": "python",
   "pygments_lexer": "ipython3",
   "version": "3.10.12"
  },
  "papermill": {
   "default_parameters": {},
   "duration": 41.930356,
   "end_time": "2025-07-30T14:22:41.393055",
   "environment_variables": {},
   "exception": null,
   "input_path": "universe_analysis.ipynb",
   "output_path": "output/runs/12/notebooks/m_12-7c8ce3b0f4107efd6c8da94e82cafd64.ipynb",
   "parameters": {
    "output_dir": "output",
    "run_no": "12",
    "seed": "2023",
    "universe": "{\"cutoff\": [\"quantile_0.1\", \"quantile_0.25\"], \"eval_fairness_grouping\": [\"majority-minority\", \"nationality-all\"], \"exclude_features\": \"nationality\", \"exclude_subgroups\": \"drop-non-german\", \"model\": \"gbm\", \"scale\": \"scale\", \"training_size\": \"1k\", \"training_year\": \"2014\"}",
    "universe_id": "7c8ce3b0f4107efd6c8da94e82cafd64"
   },
   "start_time": "2025-07-30T14:21:59.462699",
   "version": "2.6.0"
  }
 },
 "nbformat": 4,
 "nbformat_minor": 5
}