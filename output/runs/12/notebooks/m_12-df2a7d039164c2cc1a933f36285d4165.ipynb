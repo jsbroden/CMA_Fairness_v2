{
 "cells": [
  {
   "cell_type": "code",
   "execution_count": 1,
   "id": "f159f837-637b-42ba-96b5-ec9a68c44524",
   "metadata": {
    "execution": {
     "iopub.execute_input": "2025-07-30T13:19:05.933601Z",
     "iopub.status.busy": "2025-07-30T13:19:05.932972Z",
     "iopub.status.idle": "2025-07-30T13:19:05.946264Z",
     "shell.execute_reply": "2025-07-30T13:19:05.945375Z"
    },
    "papermill": {
     "duration": 0.034761,
     "end_time": "2025-07-30T13:19:05.947971",
     "exception": false,
     "start_time": "2025-07-30T13:19:05.913210",
     "status": "completed"
    },
    "tags": []
   },
   "outputs": [
    {
     "name": "stdout",
     "output_type": "stream",
     "text": [
      "/dss/dsshome1/0C/ra93lal2/cma/CMA_Fairness_v2\n"
     ]
    },
    {
     "name": "stderr",
     "output_type": "stream",
     "text": [
      "/dss/dsshome1/0C/ra93lal2/.local/share/virtualenvs/CMA_Fairness_v2-3j10GkSs/lib/python3.10/site-packages/IPython/core/magics/osm.py:393: UserWarning: This is now an optional IPython functionality, using bookmarks requires you to install the `pickleshare` library.\n",
      "  bkms = self.shell.db.get('bookmarks', {})\n",
      "/dss/dsshome1/0C/ra93lal2/.local/share/virtualenvs/CMA_Fairness_v2-3j10GkSs/lib/python3.10/site-packages/IPython/core/magics/osm.py:417: UserWarning: This is now an optional IPython functionality, setting dhist requires you to install the `pickleshare` library.\n",
      "  self.shell.db['dhist'] = compress_dhist(dhist)[-100:]\n"
     ]
    }
   ],
   "source": [
    "%cd ~/cma/CMA_Fairness_v2"
   ]
  },
  {
   "cell_type": "markdown",
   "id": "de2603b9",
   "metadata": {
    "papermill": {
     "duration": 0.017709,
     "end_time": "2025-07-30T13:19:05.984687",
     "exception": false,
     "start_time": "2025-07-30T13:19:05.966978",
     "status": "completed"
    },
    "tags": []
   },
   "source": [
    "The following cell holds the definition of our parameters, these values can be overriden by rendering the with e.g. the following command:\n",
    "\n",
    "papermill -p alpha 0.2 -p ratio 0.3 universe_analysis.ipynb output/test_run.ipynb"
   ]
  },
  {
   "cell_type": "code",
   "execution_count": 2,
   "id": "a80968a0-40bb-4fa9-85ef-2d5eefb01975",
   "metadata": {
    "execution": {
     "iopub.execute_input": "2025-07-30T13:19:06.022685Z",
     "iopub.status.busy": "2025-07-30T13:19:06.022064Z",
     "iopub.status.idle": "2025-07-30T13:19:06.027748Z",
     "shell.execute_reply": "2025-07-30T13:19:06.026929Z"
    },
    "papermill": {
     "duration": 0.026357,
     "end_time": "2025-07-30T13:19:06.029338",
     "exception": false,
     "start_time": "2025-07-30T13:19:06.002981",
     "status": "completed"
    },
    "tags": []
   },
   "outputs": [
    {
     "name": "stdout",
     "output_type": "stream",
     "text": [
      "Current working directory: /dss/dsshome1/0C/ra93lal2/cma/CMA_Fairness_v2\n"
     ]
    }
   ],
   "source": [
    "import os\n",
    "print(\"Current working directory:\", os.getcwd())"
   ]
  },
  {
   "cell_type": "code",
   "execution_count": 3,
   "id": "2dce4c03",
   "metadata": {
    "execution": {
     "iopub.execute_input": "2025-07-30T13:19:06.068008Z",
     "iopub.status.busy": "2025-07-30T13:19:06.067394Z",
     "iopub.status.idle": "2025-07-30T13:19:06.073667Z",
     "shell.execute_reply": "2025-07-30T13:19:06.072822Z"
    },
    "papermill": {
     "duration": 0.026761,
     "end_time": "2025-07-30T13:19:06.075236",
     "exception": false,
     "start_time": "2025-07-30T13:19:06.048475",
     "status": "completed"
    },
    "tags": [
     "parameters"
    ]
   },
   "outputs": [],
   "source": [
    "run_no = 0\n",
    "universe_id = \"test\"\n",
    "universe = {\n",
    "    \"training_size\": \"25k\", # \"25k\", \"5k\", \"1k\"\n",
    "    \"training_year\": \"2014\", # \"2014\", \"2012_14\", \"2010_14\"\n",
    "    \"scale\": \"scale\", # \"scale\", \"do-not-scale\",\n",
    "    #\"stratify_split\": \"target\", # \"none\", \"target\", \"protected-attribute\", \"both\",\n",
    "    \"model\": \"elasticnet\", # \"logreg\", \"penalized_logreg\", \"rf\", \"gbm\", \"elasticnet\"\n",
    "    \"cutoff\": [\"quantile_0.15\", \"quantile_0.30\"],\n",
    "    \"exclude_features\": \"age\", # \"none\", \"nationality\", \"sex\", \"nationality-sex\", \"age\"\n",
    "    \"exclude_subgroups\": \"keep-all\", # \"keep-all\", \"drop-non-german\"\n",
    "    \"eval_fairness_grouping\": [\"majority-minority\", \"nationality-all\"]\n",
    "}\n",
    "\n",
    "output_dir=\"./output\"\n",
    "seed=0"
   ]
  },
  {
   "cell_type": "code",
   "execution_count": 4,
   "id": "30664d28",
   "metadata": {
    "execution": {
     "iopub.execute_input": "2025-07-30T13:19:06.114303Z",
     "iopub.status.busy": "2025-07-30T13:19:06.113718Z",
     "iopub.status.idle": "2025-07-30T13:19:06.118703Z",
     "shell.execute_reply": "2025-07-30T13:19:06.117730Z"
    },
    "papermill": {
     "duration": 0.025633,
     "end_time": "2025-07-30T13:19:06.120221",
     "exception": false,
     "start_time": "2025-07-30T13:19:06.094588",
     "status": "completed"
    },
    "tags": [
     "injected-parameters"
    ]
   },
   "outputs": [],
   "source": [
    "# Parameters\n",
    "universe_id = \"df2a7d039164c2cc1a933f36285d4165\"\n",
    "run_no = \"12\"\n",
    "universe = \"{\\\"cutoff\\\": [\\\"quantile_0.1\\\", \\\"quantile_0.25\\\"], \\\"eval_fairness_grouping\\\": [\\\"majority-minority\\\", \\\"nationality-all\\\"], \\\"exclude_features\\\": \\\"nationality-sex\\\", \\\"exclude_subgroups\\\": \\\"drop-non-german\\\", \\\"model\\\": \\\"elasticnet\\\", \\\"scale\\\": \\\"do-not-scale\\\", \\\"training_size\\\": \\\"25k\\\", \\\"training_year\\\": \\\"2012_14\\\"}\"\n",
    "output_dir = \"output\"\n",
    "seed = \"2023\"\n"
   ]
  },
  {
   "cell_type": "code",
   "execution_count": 5,
   "id": "1650acaf",
   "metadata": {
    "execution": {
     "iopub.execute_input": "2025-07-30T13:19:06.159512Z",
     "iopub.status.busy": "2025-07-30T13:19:06.158907Z",
     "iopub.status.idle": "2025-07-30T13:19:06.163734Z",
     "shell.execute_reply": "2025-07-30T13:19:06.162807Z"
    },
    "papermill": {
     "duration": 0.025951,
     "end_time": "2025-07-30T13:19:06.165392",
     "exception": false,
     "start_time": "2025-07-30T13:19:06.139441",
     "status": "completed"
    },
    "tags": []
   },
   "outputs": [],
   "source": [
    "import json\n",
    "# Parse universe into dict if it is passed as a string\n",
    "if isinstance(universe, str):\n",
    "    universe = json.loads(universe)"
   ]
  },
  {
   "cell_type": "code",
   "execution_count": 6,
   "id": "16620c48",
   "metadata": {
    "execution": {
     "iopub.execute_input": "2025-07-30T13:19:06.204369Z",
     "iopub.status.busy": "2025-07-30T13:19:06.204000Z",
     "iopub.status.idle": "2025-07-30T13:19:06.245785Z",
     "shell.execute_reply": "2025-07-30T13:19:06.244959Z"
    },
    "papermill": {
     "duration": 0.063021,
     "end_time": "2025-07-30T13:19:06.247582",
     "exception": false,
     "start_time": "2025-07-30T13:19:06.184561",
     "status": "completed"
    },
    "tags": []
   },
   "outputs": [],
   "source": [
    "# Auto-reload the custom package\n",
    "%load_ext autoreload\n",
    "%autoreload 1\n",
    "%aimport fairness_multiverse"
   ]
  },
  {
   "cell_type": "code",
   "execution_count": 7,
   "id": "01c5c9f3",
   "metadata": {
    "execution": {
     "iopub.execute_input": "2025-07-30T13:19:06.286123Z",
     "iopub.status.busy": "2025-07-30T13:19:06.285496Z",
     "iopub.status.idle": "2025-07-30T13:19:08.148698Z",
     "shell.execute_reply": "2025-07-30T13:19:08.147788Z"
    },
    "papermill": {
     "duration": 1.883927,
     "end_time": "2025-07-30T13:19:08.150348",
     "exception": false,
     "start_time": "2025-07-30T13:19:06.266421",
     "status": "completed"
    },
    "tags": []
   },
   "outputs": [],
   "source": [
    "from fairness_multiverse.universe import UniverseAnalysis\n",
    "\n",
    "universe_analysis = UniverseAnalysis(\n",
    "    run_no = run_no,\n",
    "    universe_id = universe_id,\n",
    "    universe = universe,\n",
    "    output_dir=output_dir,\n",
    ")"
   ]
  },
  {
   "cell_type": "code",
   "execution_count": 8,
   "id": "106241f5",
   "metadata": {
    "execution": {
     "iopub.execute_input": "2025-07-30T13:19:08.190062Z",
     "iopub.status.busy": "2025-07-30T13:19:08.189412Z",
     "iopub.status.idle": "2025-07-30T13:19:08.195905Z",
     "shell.execute_reply": "2025-07-30T13:19:08.194998Z"
    },
    "papermill": {
     "duration": 0.027545,
     "end_time": "2025-07-30T13:19:08.197423",
     "exception": false,
     "start_time": "2025-07-30T13:19:08.169878",
     "status": "completed"
    },
    "tags": []
   },
   "outputs": [
    {
     "name": "stdout",
     "output_type": "stream",
     "text": [
      "Using Seed: 2023\n"
     ]
    }
   ],
   "source": [
    "import numpy as np\n",
    "parsed_seed = int(seed)\n",
    "np.random.seed(parsed_seed)\n",
    "print(f\"Using Seed: {parsed_seed}\")"
   ]
  },
  {
   "cell_type": "markdown",
   "id": "e0ebdc57",
   "metadata": {
    "papermill": {
     "duration": 0.018563,
     "end_time": "2025-07-30T13:19:08.235369",
     "exception": false,
     "start_time": "2025-07-30T13:19:08.216806",
     "status": "completed"
    },
    "tags": []
   },
   "source": [
    "# Loading Data"
   ]
  },
  {
   "cell_type": "markdown",
   "id": "681925a3",
   "metadata": {
    "papermill": {
     "duration": 0.018283,
     "end_time": "2025-07-30T13:19:08.271928",
     "exception": false,
     "start_time": "2025-07-30T13:19:08.253645",
     "status": "completed"
    },
    "tags": []
   },
   "source": [
    "Load siab_train, siab_test, siab_calib and/or \n",
    "load siab_train_features, siab_train_labels"
   ]
  },
  {
   "cell_type": "code",
   "execution_count": 9,
   "id": "f0496b8a",
   "metadata": {
    "execution": {
     "iopub.execute_input": "2025-07-30T13:19:08.310310Z",
     "iopub.status.busy": "2025-07-30T13:19:08.309652Z",
     "iopub.status.idle": "2025-07-30T13:19:20.226490Z",
     "shell.execute_reply": "2025-07-30T13:19:20.225389Z"
    },
    "papermill": {
     "duration": 11.937836,
     "end_time": "2025-07-30T13:19:20.228074",
     "exception": false,
     "start_time": "2025-07-30T13:19:08.290238",
     "status": "completed"
    },
    "tags": []
   },
   "outputs": [
    {
     "name": "stdout",
     "output_type": "stream",
     "text": [
      "Loading SIAB data from cache: data/siab_cached.csv.gz\n"
     ]
    },
    {
     "name": "stdout",
     "output_type": "stream",
     "text": [
      "(643690, 164)\n"
     ]
    }
   ],
   "source": [
    "from pathlib import Path\n",
    "import pandas as pd\n",
    "\n",
    "# File paths\n",
    "raw_file = Path(\"data/raw/siab.csv\")\n",
    "cache_file = Path(\"data/siab_cached.csv.gz\")\n",
    "\n",
    "# Ensure cache directory exists\n",
    "cache_file.parent.mkdir(parents=True, exist_ok=True)\n",
    "\n",
    "# Load with simple caching\n",
    "if cache_file.exists():\n",
    "    print(f\"Loading SIAB data from cache: {cache_file}\")\n",
    "    siab = pd.read_csv(cache_file, compression='gzip')\n",
    "else:\n",
    "    print(f\"Cache not found. Reading raw SIAB data: {raw_file}\")\n",
    "    siab = pd.read_csv(raw_file)\n",
    "    siab.to_csv(cache_file, index=False, compression='gzip')\n",
    "    print(f\"Cached SIAB data to: {cache_file}\")\n",
    "\n",
    "# Now use `siab` DataFrame as needed\n",
    "print(siab.shape)"
   ]
  },
  {
   "cell_type": "code",
   "execution_count": 10,
   "id": "db0ca512-5f53-4dba-abdb-a2888bca41ba",
   "metadata": {
    "execution": {
     "iopub.execute_input": "2025-07-30T13:19:20.270466Z",
     "iopub.status.busy": "2025-07-30T13:19:20.269778Z",
     "iopub.status.idle": "2025-07-30T13:19:20.275250Z",
     "shell.execute_reply": "2025-07-30T13:19:20.274363Z"
    },
    "papermill": {
     "duration": 0.027301,
     "end_time": "2025-07-30T13:19:20.276957",
     "exception": false,
     "start_time": "2025-07-30T13:19:20.249656",
     "status": "completed"
    },
    "tags": []
   },
   "outputs": [],
   "source": [
    "#siab"
   ]
  },
  {
   "cell_type": "code",
   "execution_count": 11,
   "id": "a0edb063",
   "metadata": {
    "execution": {
     "iopub.execute_input": "2025-07-30T13:19:20.317086Z",
     "iopub.status.busy": "2025-07-30T13:19:20.316695Z",
     "iopub.status.idle": "2025-07-30T13:19:20.321532Z",
     "shell.execute_reply": "2025-07-30T13:19:20.320542Z"
    },
    "papermill": {
     "duration": 0.026591,
     "end_time": "2025-07-30T13:19:20.323246",
     "exception": false,
     "start_time": "2025-07-30T13:19:20.296655",
     "status": "completed"
    },
    "tags": []
   },
   "outputs": [],
   "source": [
    "#import pandas as pd\n",
    "#\n",
    "#X_train = pd.read_csv(\"./data/X_train.csv\")\n",
    "#y_train = pd.read_csv(\"./data/y_train.csv\")"
   ]
  },
  {
   "cell_type": "code",
   "execution_count": 12,
   "id": "63d08085",
   "metadata": {
    "execution": {
     "iopub.execute_input": "2025-07-30T13:19:20.363610Z",
     "iopub.status.busy": "2025-07-30T13:19:20.362965Z",
     "iopub.status.idle": "2025-07-30T13:19:20.367678Z",
     "shell.execute_reply": "2025-07-30T13:19:20.366814Z"
    },
    "papermill": {
     "duration": 0.026335,
     "end_time": "2025-07-30T13:19:20.369353",
     "exception": false,
     "start_time": "2025-07-30T13:19:20.343018",
     "status": "completed"
    },
    "tags": []
   },
   "outputs": [],
   "source": [
    "#X_test = pd.read_csv(\"./data/X_test.csv\")\n",
    "#y_true = pd.read_csv(\"./data/y_test.csv\")"
   ]
  },
  {
   "cell_type": "code",
   "execution_count": 13,
   "id": "98a8d0fa-1d3d-4ed8-bb2c-281470e24add",
   "metadata": {
    "execution": {
     "iopub.execute_input": "2025-07-30T13:19:20.409574Z",
     "iopub.status.busy": "2025-07-30T13:19:20.408928Z",
     "iopub.status.idle": "2025-07-30T13:19:20.414183Z",
     "shell.execute_reply": "2025-07-30T13:19:20.413143Z"
    },
    "papermill": {
     "duration": 0.026664,
     "end_time": "2025-07-30T13:19:20.415808",
     "exception": false,
     "start_time": "2025-07-30T13:19:20.389144",
     "status": "completed"
    },
    "tags": []
   },
   "outputs": [],
   "source": [
    "# Calibration data for conformal\n",
    "#X_calib = pd.read_csv(\"./data/X_calib.csv\")\n",
    "#y_calib = pd.read_csv(\"./data/y_calib.csv\")"
   ]
  },
  {
   "cell_type": "markdown",
   "id": "997051c5-15bd-4b69-9786-c3001a3ce484",
   "metadata": {
    "papermill": {
     "duration": 0.01877,
     "end_time": "2025-07-30T13:19:20.454196",
     "exception": false,
     "start_time": "2025-07-30T13:19:20.435426",
     "status": "completed"
    },
    "tags": []
   },
   "source": [
    "# Splitting Data and Setting Training Data Size"
   ]
  },
  {
   "cell_type": "code",
   "execution_count": 14,
   "id": "e993b61f-042d-41a6-8c81-f55681f86335",
   "metadata": {
    "execution": {
     "iopub.execute_input": "2025-07-30T13:19:20.493542Z",
     "iopub.status.busy": "2025-07-30T13:19:20.492900Z",
     "iopub.status.idle": "2025-07-30T13:19:20.505919Z",
     "shell.execute_reply": "2025-07-30T13:19:20.504972Z"
    },
    "papermill": {
     "duration": 0.034556,
     "end_time": "2025-07-30T13:19:20.507500",
     "exception": false,
     "start_time": "2025-07-30T13:19:20.472944",
     "status": "completed"
    },
    "tags": []
   },
   "outputs": [],
   "source": [
    "def sample_by_year_size(df,\n",
    "                        training_year: str,\n",
    "                        training_size: str,\n",
    "                        random_state: int = 42):\n",
    "    # --- parse training_year into a list of int years ---\n",
    "    if \"_\" in training_year:\n",
    "        start_str, end_str = training_year.split(\"_\", 1)\n",
    "        start = int(start_str)\n",
    "        end   = int(end_str) if len(end_str) == 4 else (int(end_str) + (start // 100)*100)\n",
    "        years = list(range(start, end + 1))\n",
    "    else:\n",
    "        years = [int(training_year)]\n",
    "\n",
    "    df = df[df[\"year\"].isin(years)].reset_index(drop=True)\n",
    "\n",
    "    # --- map training_size to total number of samples ---\n",
    "    total_map = {\"25k\": 25_000, \"5k\": 5_000, \"1k\": 1_000}\n",
    "    if training_size not in total_map:\n",
    "        return df  # e.g. \"all\"\n",
    "\n",
    "    total_samples = total_map[training_size]\n",
    "    n_years       = len(years)\n",
    "    base          = total_samples // n_years\n",
    "    remainder     = total_samples % n_years\n",
    "\n",
    "    # --- build a dict: year -> how many to sample ---\n",
    "    # give +1 to the first `remainder` years in ascending order\n",
    "    quotas = {\n",
    "        year: base + (1 if idx < remainder else 0)\n",
    "        for idx, year in enumerate(sorted(years))\n",
    "    }\n",
    "\n",
    "    # --- sample per‐year according to the quota dict ---\n",
    "    sampled = (\n",
    "        df\n",
    "        .groupby(\"year\", group_keys=False)\n",
    "        .apply(lambda grp: grp.sample(\n",
    "            n=min(len(grp), quotas[grp.name]),\n",
    "            random_state=random_state))\n",
    "        .reset_index(drop=True)\n",
    "    )\n",
    "\n",
    "    return sampled"
   ]
  },
  {
   "cell_type": "code",
   "execution_count": 15,
   "id": "c0ccd338-0e02-41f3-a09d-f56f9266e3fb",
   "metadata": {
    "execution": {
     "iopub.execute_input": "2025-07-30T13:19:20.548146Z",
     "iopub.status.busy": "2025-07-30T13:19:20.547500Z",
     "iopub.status.idle": "2025-07-30T13:19:20.558373Z",
     "shell.execute_reply": "2025-07-30T13:19:20.557509Z"
    },
    "papermill": {
     "duration": 0.03247,
     "end_time": "2025-07-30T13:19:20.559946",
     "exception": false,
     "start_time": "2025-07-30T13:19:20.527476",
     "status": "completed"
    },
    "tags": []
   },
   "outputs": [
    {
     "data": {
      "text/plain": [
       "'25k'"
      ]
     },
     "execution_count": 15,
     "metadata": {},
     "output_type": "execute_result"
    }
   ],
   "source": [
    "universe[\"training_size\"]"
   ]
  },
  {
   "cell_type": "code",
   "execution_count": 16,
   "id": "ca707fd7-8047-4acd-bfa5-66248fbbf8e6",
   "metadata": {
    "execution": {
     "iopub.execute_input": "2025-07-30T13:19:20.600901Z",
     "iopub.status.busy": "2025-07-30T13:19:20.600263Z",
     "iopub.status.idle": "2025-07-30T13:19:20.607268Z",
     "shell.execute_reply": "2025-07-30T13:19:20.606340Z"
    },
    "papermill": {
     "duration": 0.028918,
     "end_time": "2025-07-30T13:19:20.608862",
     "exception": false,
     "start_time": "2025-07-30T13:19:20.579944",
     "status": "completed"
    },
    "tags": []
   },
   "outputs": [
    {
     "data": {
      "text/plain": [
       "'2012_14'"
      ]
     },
     "execution_count": 16,
     "metadata": {},
     "output_type": "execute_result"
    }
   ],
   "source": [
    "universe[\"training_year\"]"
   ]
  },
  {
   "cell_type": "code",
   "execution_count": 17,
   "id": "aea9c6ef-6f46-42c8-85eb-5a62025c1508",
   "metadata": {
    "execution": {
     "iopub.execute_input": "2025-07-30T13:19:20.649862Z",
     "iopub.status.busy": "2025-07-30T13:19:20.649215Z",
     "iopub.status.idle": "2025-07-30T13:19:21.279817Z",
     "shell.execute_reply": "2025-07-30T13:19:21.278953Z"
    },
    "papermill": {
     "duration": 0.652798,
     "end_time": "2025-07-30T13:19:21.281614",
     "exception": false,
     "start_time": "2025-07-30T13:19:20.628816",
     "status": "completed"
    },
    "tags": []
   },
   "outputs": [],
   "source": [
    "siab_train = sample_by_year_size(siab,\n",
    "                               training_year=universe[\"training_year\"],\n",
    "                               training_size=universe[\"training_size\"])"
   ]
  },
  {
   "cell_type": "code",
   "execution_count": 18,
   "id": "8d3afb32-789d-442c-8d5d-9f5aa8dd2eed",
   "metadata": {
    "execution": {
     "iopub.execute_input": "2025-07-30T13:19:21.323082Z",
     "iopub.status.busy": "2025-07-30T13:19:21.322445Z",
     "iopub.status.idle": "2025-07-30T13:19:21.329363Z",
     "shell.execute_reply": "2025-07-30T13:19:21.328531Z"
    },
    "papermill": {
     "duration": 0.029121,
     "end_time": "2025-07-30T13:19:21.330892",
     "exception": false,
     "start_time": "2025-07-30T13:19:21.301771",
     "status": "completed"
    },
    "tags": []
   },
   "outputs": [
    {
     "data": {
      "text/plain": [
       "(25000, 164)"
      ]
     },
     "execution_count": 18,
     "metadata": {},
     "output_type": "execute_result"
    }
   ],
   "source": [
    "siab_train.shape"
   ]
  },
  {
   "cell_type": "code",
   "execution_count": 19,
   "id": "d582db68-1a4c-47fb-84fc-08518dc1975a",
   "metadata": {
    "execution": {
     "iopub.execute_input": "2025-07-30T13:19:21.372738Z",
     "iopub.status.busy": "2025-07-30T13:19:21.372085Z",
     "iopub.status.idle": "2025-07-30T13:19:21.381981Z",
     "shell.execute_reply": "2025-07-30T13:19:21.381126Z"
    },
    "papermill": {
     "duration": 0.032287,
     "end_time": "2025-07-30T13:19:21.383525",
     "exception": false,
     "start_time": "2025-07-30T13:19:21.351238",
     "status": "completed"
    },
    "tags": []
   },
   "outputs": [
    {
     "data": {
      "text/plain": [
       "year\n",
       "2012    8334\n",
       "2013    8333\n",
       "2014    8333\n",
       "dtype: int64"
      ]
     },
     "metadata": {},
     "output_type": "display_data"
    }
   ],
   "source": [
    "display(siab_train.groupby(\"year\").size())"
   ]
  },
  {
   "cell_type": "code",
   "execution_count": 20,
   "id": "a561edb4-d032-42cb-8256-22eac1111c64",
   "metadata": {
    "execution": {
     "iopub.execute_input": "2025-07-30T13:19:21.425612Z",
     "iopub.status.busy": "2025-07-30T13:19:21.424979Z",
     "iopub.status.idle": "2025-07-30T13:19:21.667508Z",
     "shell.execute_reply": "2025-07-30T13:19:21.666641Z"
    },
    "papermill": {
     "duration": 0.265128,
     "end_time": "2025-07-30T13:19:21.669367",
     "exception": false,
     "start_time": "2025-07-30T13:19:21.404239",
     "status": "completed"
    },
    "tags": []
   },
   "outputs": [],
   "source": [
    "#siab_train = siab_s[siab_s.year < 2015]\n",
    "siab_calib = siab[siab.year == 2015]\n",
    "siab_test = siab[siab.year == 2016]"
   ]
  },
  {
   "cell_type": "code",
   "execution_count": 21,
   "id": "472de16f-c3db-4916-846b-1f0de9cf1746",
   "metadata": {
    "execution": {
     "iopub.execute_input": "2025-07-30T13:19:21.711452Z",
     "iopub.status.busy": "2025-07-30T13:19:21.710818Z",
     "iopub.status.idle": "2025-07-30T13:19:21.734552Z",
     "shell.execute_reply": "2025-07-30T13:19:21.733551Z"
    },
    "papermill": {
     "duration": 0.0466,
     "end_time": "2025-07-30T13:19:21.736442",
     "exception": false,
     "start_time": "2025-07-30T13:19:21.689842",
     "status": "completed"
    },
    "tags": []
   },
   "outputs": [],
   "source": [
    "X_train = siab_train.iloc[:,4:164]\n",
    "y_train = siab_train.iloc[:, [3]]"
   ]
  },
  {
   "cell_type": "code",
   "execution_count": 22,
   "id": "828c96af-f43a-4ed6-ba47-8ac73a47d56c",
   "metadata": {
    "execution": {
     "iopub.execute_input": "2025-07-30T13:19:21.778938Z",
     "iopub.status.busy": "2025-07-30T13:19:21.778308Z",
     "iopub.status.idle": "2025-07-30T13:19:21.831933Z",
     "shell.execute_reply": "2025-07-30T13:19:21.830694Z"
    },
    "papermill": {
     "duration": 0.076232,
     "end_time": "2025-07-30T13:19:21.833684",
     "exception": false,
     "start_time": "2025-07-30T13:19:21.757452",
     "status": "completed"
    },
    "tags": []
   },
   "outputs": [],
   "source": [
    "X_calib = siab_calib.iloc[:,4:164]\n",
    "y_calib = siab_calib.iloc[:, [3]]"
   ]
  },
  {
   "cell_type": "code",
   "execution_count": 23,
   "id": "c34be9c3-6bd6-476e-acd3-845840e303be",
   "metadata": {
    "execution": {
     "iopub.execute_input": "2025-07-30T13:19:21.876491Z",
     "iopub.status.busy": "2025-07-30T13:19:21.875847Z",
     "iopub.status.idle": "2025-07-30T13:19:21.929191Z",
     "shell.execute_reply": "2025-07-30T13:19:21.928116Z"
    },
    "papermill": {
     "duration": 0.076242,
     "end_time": "2025-07-30T13:19:21.931083",
     "exception": false,
     "start_time": "2025-07-30T13:19:21.854841",
     "status": "completed"
    },
    "tags": []
   },
   "outputs": [],
   "source": [
    "X_test = siab_test.iloc[:,4:164]\n",
    "y_true = siab_test.iloc[:, [3]]"
   ]
  },
  {
   "cell_type": "markdown",
   "id": "9901737e-04df-44f0-9100-f5ad144ed040",
   "metadata": {
    "papermill": {
     "duration": 0.020163,
     "end_time": "2025-07-30T13:19:21.972402",
     "exception": false,
     "start_time": "2025-07-30T13:19:21.952239",
     "status": "completed"
    },
    "tags": []
   },
   "source": [
    "# Splitting Data and Setting Training Data Size OLD VERSION"
   ]
  },
  {
   "cell_type": "code",
   "execution_count": 24,
   "id": "acbc8f7d-8fc8-4e86-8c59-5dcb0f58384b",
   "metadata": {
    "execution": {
     "iopub.execute_input": "2025-07-30T13:19:22.014356Z",
     "iopub.status.busy": "2025-07-30T13:19:22.013721Z",
     "iopub.status.idle": "2025-07-30T13:19:22.019208Z",
     "shell.execute_reply": "2025-07-30T13:19:22.018273Z"
    },
    "papermill": {
     "duration": 0.028526,
     "end_time": "2025-07-30T13:19:22.020879",
     "exception": false,
     "start_time": "2025-07-30T13:19:21.992353",
     "status": "completed"
    },
    "tags": []
   },
   "outputs": [],
   "source": [
    "#def sample_by_year(df, training_size, random_state=42):\n",
    "#    if training_size == \"2014\":\n",
    "#        return df[df[\"year\"] == 2014].reset_index(drop=True)\n",
    "#    \n",
    "#    size_map = {\n",
    "#        \"25k\": 5000,\n",
    "#        \"5k\": 1000,\n",
    "#        \"1k\": 200\n",
    "#    }\n",
    "#\n",
    "#    if training_size not in size_map:\n",
    "#        return df.reset_index(drop=True)  # use all data\n",
    "#\n",
    "#    n_per_year = size_map[training_size]\n",
    "#    grouped = df.groupby(\"year\")\n",
    "#    sampled = grouped.apply(lambda x: x.sample(n=min(n_per_year, len(x)), random_state=random_state))\n",
    "#    return sampled.reset_index(drop=True)"
   ]
  },
  {
   "cell_type": "code",
   "execution_count": 25,
   "id": "6d931f52-beaf-43ff-9e78-9d44a448d54e",
   "metadata": {
    "execution": {
     "iopub.execute_input": "2025-07-30T13:19:22.063582Z",
     "iopub.status.busy": "2025-07-30T13:19:22.062929Z",
     "iopub.status.idle": "2025-07-30T13:19:22.067951Z",
     "shell.execute_reply": "2025-07-30T13:19:22.067013Z"
    },
    "papermill": {
     "duration": 0.027857,
     "end_time": "2025-07-30T13:19:22.069616",
     "exception": false,
     "start_time": "2025-07-30T13:19:22.041759",
     "status": "completed"
    },
    "tags": []
   },
   "outputs": [],
   "source": [
    "#siab_s = sample_by_year(siab, universe[\"training_size\"])"
   ]
  },
  {
   "cell_type": "code",
   "execution_count": 26,
   "id": "5db0a40e-a4e2-4920-be85-b12ae061d70d",
   "metadata": {
    "execution": {
     "iopub.execute_input": "2025-07-30T13:19:22.112256Z",
     "iopub.status.busy": "2025-07-30T13:19:22.111558Z",
     "iopub.status.idle": "2025-07-30T13:19:22.116512Z",
     "shell.execute_reply": "2025-07-30T13:19:22.115589Z"
    },
    "papermill": {
     "duration": 0.02753,
     "end_time": "2025-07-30T13:19:22.118095",
     "exception": false,
     "start_time": "2025-07-30T13:19:22.090565",
     "status": "completed"
    },
    "tags": []
   },
   "outputs": [],
   "source": [
    "#display(siab_s.groupby(\"year\").size())"
   ]
  },
  {
   "cell_type": "code",
   "execution_count": 27,
   "id": "e6c733c5",
   "metadata": {
    "execution": {
     "iopub.execute_input": "2025-07-30T13:19:22.161127Z",
     "iopub.status.busy": "2025-07-30T13:19:22.160458Z",
     "iopub.status.idle": "2025-07-30T13:19:22.266655Z",
     "shell.execute_reply": "2025-07-30T13:19:22.265792Z"
    },
    "papermill": {
     "duration": 0.129563,
     "end_time": "2025-07-30T13:19:22.268581",
     "exception": false,
     "start_time": "2025-07-30T13:19:22.139018",
     "status": "completed"
    },
    "tags": []
   },
   "outputs": [],
   "source": [
    "# Auxiliary data needed downstream in the pipeline\n",
    "\n",
    "org_train = X_train.copy()\n",
    "org_test = X_test.copy()\n",
    "org_calib = X_calib.copy()"
   ]
  },
  {
   "cell_type": "code",
   "execution_count": 28,
   "id": "1466abac-c6da-4492-a62f-4240ae3783af",
   "metadata": {
    "execution": {
     "iopub.execute_input": "2025-07-30T13:19:22.311604Z",
     "iopub.status.busy": "2025-07-30T13:19:22.310952Z",
     "iopub.status.idle": "2025-07-30T13:19:22.316762Z",
     "shell.execute_reply": "2025-07-30T13:19:22.315741Z"
    },
    "papermill": {
     "duration": 0.028758,
     "end_time": "2025-07-30T13:19:22.318279",
     "exception": false,
     "start_time": "2025-07-30T13:19:22.289521",
     "status": "completed"
    },
    "tags": []
   },
   "outputs": [],
   "source": [
    "# put in other script?\n",
    "# Group sizes\n",
    "\n",
    "#def calculate_percentages(df, df_name):\n",
    "#    total_entries = len(df)\n",
    "#\n",
    "#    female_pct = (df['frau1'] == 1).mean() * 100\n",
    "#    non_german_pct = ((df['maxdeutsch1'] == 0) & (df['maxdeutsch.Missing.'] == 0)).mean() * 100\n",
    "#    non_german_male_pct = ((df['frau1'] == 0) & (df['maxdeutsch1'] == 0) & (df['maxdeutsch.Missing.'] == 0)).mean() * 100\n",
    "#    non_german_female_pct = ((df['frau1'] == 1) & (df['maxdeutsch1'] == 0) & (df['maxdeutsch.Missing.'] == 0)).mean() * 100\n",
    "#\n",
    "#    print(f\"--- {df_name} ---\")\n",
    "#    print(f\"Female: {female_pct:.2f}%\")\n",
    "#    print(f\"Non-German: {non_german_pct:.2f}%\")\n",
    "#    print(f\"Non-German Male: {non_german_male_pct:.2f}%\")\n",
    "#    print(f\"Non-German Female: {non_german_female_pct:.2f}%\\n\")\n",
    "#\n",
    "## Calculate for each DataFrame\n",
    "#calculate_percentages(siab_calib, \"siab_calib\")\n",
    "#calculate_percentages(siab_test, \"siab_test\")\n",
    "#calculate_percentages(siab_train, \"siab_train\")"
   ]
  },
  {
   "cell_type": "markdown",
   "id": "0a4a1b33",
   "metadata": {
    "papermill": {
     "duration": 0.020341,
     "end_time": "2025-07-30T13:19:22.359813",
     "exception": false,
     "start_time": "2025-07-30T13:19:22.339472",
     "status": "completed"
    },
    "tags": []
   },
   "source": [
    "# Preprocessing Data"
   ]
  },
  {
   "cell_type": "code",
   "execution_count": 29,
   "id": "ca879031",
   "metadata": {
    "execution": {
     "iopub.execute_input": "2025-07-30T13:19:22.402446Z",
     "iopub.status.busy": "2025-07-30T13:19:22.401816Z",
     "iopub.status.idle": "2025-07-30T13:19:22.407654Z",
     "shell.execute_reply": "2025-07-30T13:19:22.406732Z"
    },
    "papermill": {
     "duration": 0.028813,
     "end_time": "2025-07-30T13:19:22.409337",
     "exception": false,
     "start_time": "2025-07-30T13:19:22.380524",
     "status": "completed"
    },
    "tags": []
   },
   "outputs": [],
   "source": [
    "# EXCLUDE PROTECTED FEATURES\n",
    "# ----------------------\n",
    "# \"exclude_features\": \"none\", # \"nationality\", \"sex\", \"nationality-sex\"\n",
    "\n",
    "excluded_features = universe[\"exclude_features\"].split(\"-\") # split, e.g.: \"nationality-sex\" -> [\"nationality\", \"sex\"]\n",
    "excluded_features_dictionary = {\n",
    "    \"nationality\": [\"maxdeutsch1\", \"maxdeutsch.Missing.\"],\n",
    "    \"sex\": [\"frau1\"],\n",
    "    \"age\": [\"age\"],\n",
    "}\n"
   ]
  },
  {
   "cell_type": "code",
   "execution_count": 30,
   "id": "b745ac60",
   "metadata": {
    "execution": {
     "iopub.execute_input": "2025-07-30T13:19:22.453103Z",
     "iopub.status.busy": "2025-07-30T13:19:22.452451Z",
     "iopub.status.idle": "2025-07-30T13:19:22.458045Z",
     "shell.execute_reply": "2025-07-30T13:19:22.457078Z"
    },
    "papermill": {
     "duration": 0.028568,
     "end_time": "2025-07-30T13:19:22.459621",
     "exception": false,
     "start_time": "2025-07-30T13:19:22.431053",
     "status": "completed"
    },
    "tags": []
   },
   "outputs": [],
   "source": [
    "# Code nice names to column names\n",
    "\n",
    "excluded_features_columns = [\n",
    "    excluded_features_dictionary[f] for f in excluded_features if len(f) > 0 and f != \"none\"\n",
    "]"
   ]
  },
  {
   "cell_type": "code",
   "execution_count": 31,
   "id": "f84f73a2",
   "metadata": {
    "execution": {
     "iopub.execute_input": "2025-07-30T13:19:22.502879Z",
     "iopub.status.busy": "2025-07-30T13:19:22.502256Z",
     "iopub.status.idle": "2025-07-30T13:19:22.509082Z",
     "shell.execute_reply": "2025-07-30T13:19:22.508123Z"
    },
    "papermill": {
     "duration": 0.029612,
     "end_time": "2025-07-30T13:19:22.510618",
     "exception": false,
     "start_time": "2025-07-30T13:19:22.481006",
     "status": "completed"
    },
    "tags": []
   },
   "outputs": [],
   "source": [
    "from utils import flatten_once\n",
    "\n",
    "excluded_features_columns = flatten_once(excluded_features_columns)"
   ]
  },
  {
   "cell_type": "code",
   "execution_count": 32,
   "id": "884dea22",
   "metadata": {
    "execution": {
     "iopub.execute_input": "2025-07-30T13:19:22.554299Z",
     "iopub.status.busy": "2025-07-30T13:19:22.553614Z",
     "iopub.status.idle": "2025-07-30T13:19:22.568267Z",
     "shell.execute_reply": "2025-07-30T13:19:22.567305Z"
    },
    "papermill": {
     "duration": 0.037783,
     "end_time": "2025-07-30T13:19:22.569850",
     "exception": false,
     "start_time": "2025-07-30T13:19:22.532067",
     "status": "completed"
    },
    "tags": []
   },
   "outputs": [
    {
     "name": "stdout",
     "output_type": "stream",
     "text": [
      "Dropping features: ['maxdeutsch1', 'maxdeutsch.Missing.', 'frau1']\n"
     ]
    }
   ],
   "source": [
    "if len(excluded_features_columns) > 0:\n",
    "    print(f\"Dropping features: {excluded_features_columns}\")\n",
    "    X_train.drop(excluded_features_columns, axis=1, inplace=True)"
   ]
  },
  {
   "cell_type": "code",
   "execution_count": 33,
   "id": "95ab8b16",
   "metadata": {
    "execution": {
     "iopub.execute_input": "2025-07-30T13:19:22.614116Z",
     "iopub.status.busy": "2025-07-30T13:19:22.613486Z",
     "iopub.status.idle": "2025-07-30T13:19:22.666075Z",
     "shell.execute_reply": "2025-07-30T13:19:22.665101Z"
    },
    "papermill": {
     "duration": 0.075927,
     "end_time": "2025-07-30T13:19:22.667796",
     "exception": false,
     "start_time": "2025-07-30T13:19:22.591869",
     "status": "completed"
    },
    "tags": []
   },
   "outputs": [
    {
     "name": "stdout",
     "output_type": "stream",
     "text": [
      "Dropping features: ['maxdeutsch1', 'maxdeutsch.Missing.', 'frau1']\n"
     ]
    }
   ],
   "source": [
    "if len(excluded_features_columns) > 0:\n",
    "    print(f\"Dropping features: {excluded_features_columns}\")\n",
    "    X_test.drop(excluded_features_columns, axis=1, inplace=True)"
   ]
  },
  {
   "cell_type": "code",
   "execution_count": 34,
   "id": "1853aaf5-fb9f-46cb-a2b5-8ea4ae2237e4",
   "metadata": {
    "execution": {
     "iopub.execute_input": "2025-07-30T13:19:22.712407Z",
     "iopub.status.busy": "2025-07-30T13:19:22.711706Z",
     "iopub.status.idle": "2025-07-30T13:19:22.759871Z",
     "shell.execute_reply": "2025-07-30T13:19:22.758982Z"
    },
    "papermill": {
     "duration": 0.071867,
     "end_time": "2025-07-30T13:19:22.761678",
     "exception": false,
     "start_time": "2025-07-30T13:19:22.689811",
     "status": "completed"
    },
    "tags": []
   },
   "outputs": [
    {
     "name": "stdout",
     "output_type": "stream",
     "text": [
      "Dropping features: ['maxdeutsch1', 'maxdeutsch.Missing.', 'frau1']\n"
     ]
    }
   ],
   "source": [
    "if len(excluded_features_columns) > 0:\n",
    "    print(f\"Dropping features: {excluded_features_columns}\")\n",
    "    X_calib.drop(excluded_features_columns, axis=1, inplace=True)"
   ]
  },
  {
   "cell_type": "code",
   "execution_count": 35,
   "id": "6727d079-03e5-481e-9d38-292a90b7a0a8",
   "metadata": {
    "execution": {
     "iopub.execute_input": "2025-07-30T13:19:22.806775Z",
     "iopub.status.busy": "2025-07-30T13:19:22.806089Z",
     "iopub.status.idle": "2025-07-30T13:19:22.810841Z",
     "shell.execute_reply": "2025-07-30T13:19:22.809931Z"
    },
    "papermill": {
     "duration": 0.028563,
     "end_time": "2025-07-30T13:19:22.812534",
     "exception": false,
     "start_time": "2025-07-30T13:19:22.783971",
     "status": "completed"
    },
    "tags": []
   },
   "outputs": [],
   "source": [
    "# SPLIT & STRATIFY DATA\n",
    "# ----------------------"
   ]
  },
  {
   "cell_type": "code",
   "execution_count": 36,
   "id": "76c4dc6d",
   "metadata": {
    "execution": {
     "iopub.execute_input": "2025-07-30T13:19:22.857540Z",
     "iopub.status.busy": "2025-07-30T13:19:22.856892Z",
     "iopub.status.idle": "2025-07-30T13:19:22.862554Z",
     "shell.execute_reply": "2025-07-30T13:19:22.861597Z"
    },
    "papermill": {
     "duration": 0.029245,
     "end_time": "2025-07-30T13:19:22.864107",
     "exception": false,
     "start_time": "2025-07-30T13:19:22.834862",
     "status": "completed"
    },
    "tags": []
   },
   "outputs": [],
   "source": [
    "# EXCLUDE CERTAIN SUBGROUPS\n",
    "# ----------------------\n",
    "\n",
    "mode = universe.get(\"exclude_subgroups\", \"keep-all\") \n",
    "# Fetches the exclude_subgroups setting from the universe dict.\n",
    "# Defaults to \"keep-all\" if the key is missing."
   ]
  },
  {
   "cell_type": "code",
   "execution_count": 37,
   "id": "21994072",
   "metadata": {
    "execution": {
     "iopub.execute_input": "2025-07-30T13:19:22.908867Z",
     "iopub.status.busy": "2025-07-30T13:19:22.908233Z",
     "iopub.status.idle": "2025-07-30T13:19:22.915060Z",
     "shell.execute_reply": "2025-07-30T13:19:22.914140Z"
    },
    "papermill": {
     "duration": 0.030521,
     "end_time": "2025-07-30T13:19:22.916683",
     "exception": false,
     "start_time": "2025-07-30T13:19:22.886162",
     "status": "completed"
    },
    "tags": []
   },
   "outputs": [],
   "source": [
    "if mode == \"keep-all\":\n",
    "    keep_mask = pd.Series(True, index=org_train.index)\n",
    "\n",
    "# org_train contains the original feature columns from features_org (in Simson)\n",
    "# features_org contains unprocessed features, for me X_train at beginning ???\n",
    "# For keep-all, creates a boolean Series (keep_mask) of all True, so no rows are removed.\n",
    "\n",
    "elif mode == \"drop-non-german\":\n",
    "    keep_mask = org_train[\"maxdeutsch1\"] == 1 # ??? what about missing values?\n",
    "\n",
    "else:\n",
    "    raise ValueError(f\"Unsupported mode for exclude_subgroups: {mode}\")\n"
   ]
  },
  {
   "cell_type": "code",
   "execution_count": 38,
   "id": "71651440",
   "metadata": {
    "execution": {
     "iopub.execute_input": "2025-07-30T13:19:22.961754Z",
     "iopub.status.busy": "2025-07-30T13:19:22.961124Z",
     "iopub.status.idle": "2025-07-30T13:19:22.968181Z",
     "shell.execute_reply": "2025-07-30T13:19:22.967284Z"
    },
    "papermill": {
     "duration": 0.030852,
     "end_time": "2025-07-30T13:19:22.969833",
     "exception": false,
     "start_time": "2025-07-30T13:19:22.938981",
     "status": "completed"
    },
    "tags": []
   },
   "outputs": [
    {
     "name": "stdout",
     "output_type": "stream",
     "text": [
      "Dropping 3481 rows (13.92%) where mode='drop-non-german'\n"
     ]
    }
   ],
   "source": [
    "n_drop = (~keep_mask).sum() # Calculates how many rows are set to be dropped\n",
    "if n_drop > 0:\n",
    "    pct = n_drop / len(keep_mask) * 100\n",
    "    print(f\"Dropping {n_drop} rows ({pct:.2f}%) where mode='{mode}'\")"
   ]
  },
  {
   "cell_type": "code",
   "execution_count": 39,
   "id": "5fb8eee5",
   "metadata": {
    "execution": {
     "iopub.execute_input": "2025-07-30T13:19:23.015008Z",
     "iopub.status.busy": "2025-07-30T13:19:23.014342Z",
     "iopub.status.idle": "2025-07-30T13:19:23.029759Z",
     "shell.execute_reply": "2025-07-30T13:19:23.028744Z"
    },
    "papermill": {
     "duration": 0.039651,
     "end_time": "2025-07-30T13:19:23.031734",
     "exception": false,
     "start_time": "2025-07-30T13:19:22.992083",
     "status": "completed"
    },
    "tags": []
   },
   "outputs": [],
   "source": [
    "X_train = X_train[keep_mask]"
   ]
  },
  {
   "cell_type": "code",
   "execution_count": 40,
   "id": "b202bb3a",
   "metadata": {
    "execution": {
     "iopub.execute_input": "2025-07-30T13:19:23.077279Z",
     "iopub.status.busy": "2025-07-30T13:19:23.076641Z",
     "iopub.status.idle": "2025-07-30T13:19:23.083031Z",
     "shell.execute_reply": "2025-07-30T13:19:23.082226Z"
    },
    "papermill": {
     "duration": 0.030432,
     "end_time": "2025-07-30T13:19:23.084756",
     "exception": false,
     "start_time": "2025-07-30T13:19:23.054324",
     "status": "completed"
    },
    "tags": []
   },
   "outputs": [],
   "source": [
    "y_train = y_train[keep_mask]"
   ]
  },
  {
   "cell_type": "markdown",
   "id": "493e2ac3",
   "metadata": {
    "papermill": {
     "duration": 0.021185,
     "end_time": "2025-07-30T13:19:23.128132",
     "exception": false,
     "start_time": "2025-07-30T13:19:23.106947",
     "status": "completed"
    },
    "tags": []
   },
   "source": [
    "# Model Training"
   ]
  },
  {
   "cell_type": "code",
   "execution_count": 41,
   "id": "679e1268",
   "metadata": {
    "execution": {
     "iopub.execute_input": "2025-07-30T13:19:23.172304Z",
     "iopub.status.busy": "2025-07-30T13:19:23.171660Z",
     "iopub.status.idle": "2025-07-30T13:19:23.271664Z",
     "shell.execute_reply": "2025-07-30T13:19:23.270820Z"
    },
    "papermill": {
     "duration": 0.124237,
     "end_time": "2025-07-30T13:19:23.273448",
     "exception": false,
     "start_time": "2025-07-30T13:19:23.149211",
     "status": "completed"
    },
    "tags": []
   },
   "outputs": [],
   "source": [
    "from sklearn.linear_model import LogisticRegression\n",
    "from sklearn.ensemble import GradientBoostingClassifier, RandomForestClassifier\n",
    "\n",
    "if (universe[\"model\"] == \"logreg\"):\n",
    "    model = LogisticRegression() #penalty=\"none\") #, solver=\"newton-cg\", max_iter=1) # include random_state=19 ?\n",
    "elif (universe[\"model\"] == \"penalized_logreg\"):\n",
    "    model = LogisticRegression(penalty=\"l2\", C=1.0) #, solver=\"newton-cg\", max_iter=1)\n",
    "elif (universe[\"model\"] == \"rf\"):\n",
    "    model = RandomForestClassifier(n_estimators=100, n_jobs=-1)\n",
    "elif (universe[\"model\"] == \"gbm\"):\n",
    "    model = GradientBoostingClassifier()\n",
    "elif (universe[\"model\"] == \"elasticnet\"):\n",
    "    model = LogisticRegression(penalty = 'elasticnet', solver = 'saga', l1_ratio = 0.5, max_iter=5000) # which solver to use?\n",
    "else:\n",
    "    raise \"Unsupported universe.model\""
   ]
  },
  {
   "cell_type": "code",
   "execution_count": 42,
   "id": "0cc8f744",
   "metadata": {
    "execution": {
     "iopub.execute_input": "2025-07-30T13:19:23.318895Z",
     "iopub.status.busy": "2025-07-30T13:19:23.318259Z",
     "iopub.status.idle": "2025-07-30T13:19:23.324395Z",
     "shell.execute_reply": "2025-07-30T13:19:23.323504Z"
    },
    "papermill": {
     "duration": 0.030116,
     "end_time": "2025-07-30T13:19:23.325991",
     "exception": false,
     "start_time": "2025-07-30T13:19:23.295875",
     "status": "completed"
    },
    "tags": []
   },
   "outputs": [],
   "source": [
    "import numpy as np\n",
    "from sklearn.pipeline import Pipeline\n",
    "from sklearn.preprocessing import StandardScaler\n",
    "\n",
    "model = Pipeline([\n",
    "    #(\"continuous_processor\", continuous_processor),\n",
    "    #(\"categorical_preprocessor\", categorical_preprocessor),\n",
    "    (\"scale\", StandardScaler() if universe[\"scale\"] == \"scale\" else None), \n",
    "    (\"model\", model),\n",
    "])"
   ]
  },
  {
   "cell_type": "code",
   "execution_count": 43,
   "id": "9442c04d",
   "metadata": {
    "execution": {
     "iopub.execute_input": "2025-07-30T13:19:23.371881Z",
     "iopub.status.busy": "2025-07-30T13:19:23.371229Z",
     "iopub.status.idle": "2025-07-30T13:22:16.046187Z",
     "shell.execute_reply": "2025-07-30T13:22:16.045008Z"
    },
    "papermill": {
     "duration": 172.717145,
     "end_time": "2025-07-30T13:22:16.065654",
     "exception": false,
     "start_time": "2025-07-30T13:19:23.348509",
     "status": "completed"
    },
    "tags": []
   },
   "outputs": [
    {
     "data": {
      "text/html": [
       "<style>#sk-container-id-1 {color: black;background-color: white;}#sk-container-id-1 pre{padding: 0;}#sk-container-id-1 div.sk-toggleable {background-color: white;}#sk-container-id-1 label.sk-toggleable__label {cursor: pointer;display: block;width: 100%;margin-bottom: 0;padding: 0.3em;box-sizing: border-box;text-align: center;}#sk-container-id-1 label.sk-toggleable__label-arrow:before {content: \"▸\";float: left;margin-right: 0.25em;color: #696969;}#sk-container-id-1 label.sk-toggleable__label-arrow:hover:before {color: black;}#sk-container-id-1 div.sk-estimator:hover label.sk-toggleable__label-arrow:before {color: black;}#sk-container-id-1 div.sk-toggleable__content {max-height: 0;max-width: 0;overflow: hidden;text-align: left;background-color: #f0f8ff;}#sk-container-id-1 div.sk-toggleable__content pre {margin: 0.2em;color: black;border-radius: 0.25em;background-color: #f0f8ff;}#sk-container-id-1 input.sk-toggleable__control:checked~div.sk-toggleable__content {max-height: 200px;max-width: 100%;overflow: auto;}#sk-container-id-1 input.sk-toggleable__control:checked~label.sk-toggleable__label-arrow:before {content: \"▾\";}#sk-container-id-1 div.sk-estimator input.sk-toggleable__control:checked~label.sk-toggleable__label {background-color: #d4ebff;}#sk-container-id-1 div.sk-label input.sk-toggleable__control:checked~label.sk-toggleable__label {background-color: #d4ebff;}#sk-container-id-1 input.sk-hidden--visually {border: 0;clip: rect(1px 1px 1px 1px);clip: rect(1px, 1px, 1px, 1px);height: 1px;margin: -1px;overflow: hidden;padding: 0;position: absolute;width: 1px;}#sk-container-id-1 div.sk-estimator {font-family: monospace;background-color: #f0f8ff;border: 1px dotted black;border-radius: 0.25em;box-sizing: border-box;margin-bottom: 0.5em;}#sk-container-id-1 div.sk-estimator:hover {background-color: #d4ebff;}#sk-container-id-1 div.sk-parallel-item::after {content: \"\";width: 100%;border-bottom: 1px solid gray;flex-grow: 1;}#sk-container-id-1 div.sk-label:hover label.sk-toggleable__label {background-color: #d4ebff;}#sk-container-id-1 div.sk-serial::before {content: \"\";position: absolute;border-left: 1px solid gray;box-sizing: border-box;top: 0;bottom: 0;left: 50%;z-index: 0;}#sk-container-id-1 div.sk-serial {display: flex;flex-direction: column;align-items: center;background-color: white;padding-right: 0.2em;padding-left: 0.2em;position: relative;}#sk-container-id-1 div.sk-item {position: relative;z-index: 1;}#sk-container-id-1 div.sk-parallel {display: flex;align-items: stretch;justify-content: center;background-color: white;position: relative;}#sk-container-id-1 div.sk-item::before, #sk-container-id-1 div.sk-parallel-item::before {content: \"\";position: absolute;border-left: 1px solid gray;box-sizing: border-box;top: 0;bottom: 0;left: 50%;z-index: -1;}#sk-container-id-1 div.sk-parallel-item {display: flex;flex-direction: column;z-index: 1;position: relative;background-color: white;}#sk-container-id-1 div.sk-parallel-item:first-child::after {align-self: flex-end;width: 50%;}#sk-container-id-1 div.sk-parallel-item:last-child::after {align-self: flex-start;width: 50%;}#sk-container-id-1 div.sk-parallel-item:only-child::after {width: 0;}#sk-container-id-1 div.sk-dashed-wrapped {border: 1px dashed gray;margin: 0 0.4em 0.5em 0.4em;box-sizing: border-box;padding-bottom: 0.4em;background-color: white;}#sk-container-id-1 div.sk-label label {font-family: monospace;font-weight: bold;display: inline-block;line-height: 1.2em;}#sk-container-id-1 div.sk-label-container {text-align: center;}#sk-container-id-1 div.sk-container {/* jupyter's `normalize.less` sets `[hidden] { display: none; }` but bootstrap.min.css set `[hidden] { display: none !important; }` so we also need the `!important` here to be able to override the default hidden behavior on the sphinx rendered scikit-learn.org. See: https://github.com/scikit-learn/scikit-learn/issues/21755 */display: inline-block !important;position: relative;}#sk-container-id-1 div.sk-text-repr-fallback {display: none;}</style><div id=\"sk-container-id-1\" class=\"sk-top-container\"><div class=\"sk-text-repr-fallback\"><pre>Pipeline(steps=[(&#x27;scale&#x27;, None),\n",
       "                (&#x27;model&#x27;,\n",
       "                 LogisticRegression(l1_ratio=0.5, max_iter=5000,\n",
       "                                    penalty=&#x27;elasticnet&#x27;, solver=&#x27;saga&#x27;))])</pre><b>In a Jupyter environment, please rerun this cell to show the HTML representation or trust the notebook. <br />On GitHub, the HTML representation is unable to render, please try loading this page with nbviewer.org.</b></div><div class=\"sk-container\" hidden><div class=\"sk-item sk-dashed-wrapped\"><div class=\"sk-label-container\"><div class=\"sk-label sk-toggleable\"><input class=\"sk-toggleable__control sk-hidden--visually\" id=\"sk-estimator-id-1\" type=\"checkbox\" ><label for=\"sk-estimator-id-1\" class=\"sk-toggleable__label sk-toggleable__label-arrow\">Pipeline</label><div class=\"sk-toggleable__content\"><pre>Pipeline(steps=[(&#x27;scale&#x27;, None),\n",
       "                (&#x27;model&#x27;,\n",
       "                 LogisticRegression(l1_ratio=0.5, max_iter=5000,\n",
       "                                    penalty=&#x27;elasticnet&#x27;, solver=&#x27;saga&#x27;))])</pre></div></div></div><div class=\"sk-serial\"><div class=\"sk-item\"><div class=\"sk-estimator sk-toggleable\"><input class=\"sk-toggleable__control sk-hidden--visually\" id=\"sk-estimator-id-2\" type=\"checkbox\" ><label for=\"sk-estimator-id-2\" class=\"sk-toggleable__label sk-toggleable__label-arrow\">None</label><div class=\"sk-toggleable__content\"><pre>None</pre></div></div></div><div class=\"sk-item\"><div class=\"sk-estimator sk-toggleable\"><input class=\"sk-toggleable__control sk-hidden--visually\" id=\"sk-estimator-id-3\" type=\"checkbox\" ><label for=\"sk-estimator-id-3\" class=\"sk-toggleable__label sk-toggleable__label-arrow\">LogisticRegression</label><div class=\"sk-toggleable__content\"><pre>LogisticRegression(l1_ratio=0.5, max_iter=5000, penalty=&#x27;elasticnet&#x27;,\n",
       "                   solver=&#x27;saga&#x27;)</pre></div></div></div></div></div></div></div>"
      ],
      "text/plain": [
       "Pipeline(steps=[('scale', None),\n",
       "                ('model',\n",
       "                 LogisticRegression(l1_ratio=0.5, max_iter=5000,\n",
       "                                    penalty='elasticnet', solver='saga'))])"
      ]
     },
     "execution_count": 43,
     "metadata": {},
     "output_type": "execute_result"
    }
   ],
   "source": [
    "model.fit(X_train, y_train.values.ravel())"
   ]
  },
  {
   "cell_type": "code",
   "execution_count": 44,
   "id": "af59f8c0",
   "metadata": {
    "execution": {
     "iopub.execute_input": "2025-07-30T13:22:16.114604Z",
     "iopub.status.busy": "2025-07-30T13:22:16.113879Z",
     "iopub.status.idle": "2025-07-30T13:22:16.120362Z",
     "shell.execute_reply": "2025-07-30T13:22:16.119127Z"
    },
    "papermill": {
     "duration": 0.043746,
     "end_time": "2025-07-30T13:22:16.133329",
     "exception": false,
     "start_time": "2025-07-30T13:22:16.089583",
     "status": "completed"
    },
    "tags": []
   },
   "outputs": [],
   "source": [
    "from fairness_multiverse.universe import predict_w_threshold"
   ]
  },
  {
   "cell_type": "code",
   "execution_count": 45,
   "id": "a7cf2e16",
   "metadata": {
    "execution": {
     "iopub.execute_input": "2025-07-30T13:22:16.182435Z",
     "iopub.status.busy": "2025-07-30T13:22:16.181785Z",
     "iopub.status.idle": "2025-07-30T13:22:16.287988Z",
     "shell.execute_reply": "2025-07-30T13:22:16.287095Z"
    },
    "papermill": {
     "duration": 0.133847,
     "end_time": "2025-07-30T13:22:16.290928",
     "exception": false,
     "start_time": "2025-07-30T13:22:16.157081",
     "status": "completed"
    },
    "tags": []
   },
   "outputs": [
    {
     "data": {
      "text/plain": [
       "0.8536060639839482"
      ]
     },
     "execution_count": 45,
     "metadata": {},
     "output_type": "execute_result"
    }
   ],
   "source": [
    "probs_test = model.predict_proba(X_test)\n",
    "\n",
    "'''\n",
    "Below code returns a boolean array (or binary 0/1 array depending on how it’s used) where each element \n",
    "is True if the probability of class 1 is greater than or equal to the threshold, and False otherwise.\n",
    "'''\n",
    "y_pred_default = predict_w_threshold(probs_test, 0.5)\n",
    "\n",
    "from sklearn.metrics import accuracy_score\n",
    "\n",
    "# Naive prediction\n",
    "accuracy_score(y_true = y_true, y_pred = y_pred_default)"
   ]
  },
  {
   "cell_type": "code",
   "execution_count": 46,
   "id": "081964c3",
   "metadata": {
    "execution": {
     "iopub.execute_input": "2025-07-30T13:22:16.371550Z",
     "iopub.status.busy": "2025-07-30T13:22:16.371123Z",
     "iopub.status.idle": "2025-07-30T13:22:16.456580Z",
     "shell.execute_reply": "2025-07-30T13:22:16.455741Z"
    },
    "papermill": {
     "duration": 0.119135,
     "end_time": "2025-07-30T13:22:16.457942",
     "exception": false,
     "start_time": "2025-07-30T13:22:16.338807",
     "status": "completed"
    },
    "tags": []
   },
   "outputs": [
    {
     "data": {
      "text/plain": [
       "array([0, 0, 0, ..., 0, 0, 0])"
      ]
     },
     "execution_count": 46,
     "metadata": {},
     "output_type": "execute_result"
    }
   ],
   "source": [
    "model.predict(X_test)"
   ]
  },
  {
   "cell_type": "markdown",
   "id": "56c9705b",
   "metadata": {
    "papermill": {
     "duration": 0.012571,
     "end_time": "2025-07-30T13:22:16.484207",
     "exception": false,
     "start_time": "2025-07-30T13:22:16.471636",
     "status": "completed"
    },
    "tags": []
   },
   "source": [
    "# Conformal Prediction"
   ]
  },
  {
   "cell_type": "code",
   "execution_count": 47,
   "id": "160ec6ff",
   "metadata": {
    "execution": {
     "iopub.execute_input": "2025-07-30T13:22:16.530904Z",
     "iopub.status.busy": "2025-07-30T13:22:16.530036Z",
     "iopub.status.idle": "2025-07-30T13:22:16.535169Z",
     "shell.execute_reply": "2025-07-30T13:22:16.534201Z"
    },
    "papermill": {
     "duration": 0.034893,
     "end_time": "2025-07-30T13:22:16.536966",
     "exception": false,
     "start_time": "2025-07-30T13:22:16.502073",
     "status": "completed"
    },
    "tags": []
   },
   "outputs": [],
   "source": [
    "# Miscoverage level for conformal prediction (10% allowed error rate => 90% target coverage)\n",
    "alpha = 0.1"
   ]
  },
  {
   "cell_type": "code",
   "execution_count": 48,
   "id": "eadf4555-3dd3-440e-8e35-f82a4ad9f855",
   "metadata": {
    "execution": {
     "iopub.execute_input": "2025-07-30T13:22:16.598815Z",
     "iopub.status.busy": "2025-07-30T13:22:16.598208Z",
     "iopub.status.idle": "2025-07-30T13:22:16.716719Z",
     "shell.execute_reply": "2025-07-30T13:22:16.715439Z"
    },
    "papermill": {
     "duration": 0.157294,
     "end_time": "2025-07-30T13:22:16.719397",
     "exception": false,
     "start_time": "2025-07-30T13:22:16.562103",
     "status": "completed"
    },
    "tags": []
   },
   "outputs": [],
   "source": [
    "probs_calib = model.predict_proba(X_calib)"
   ]
  },
  {
   "cell_type": "code",
   "execution_count": 49,
   "id": "2ed93547-6d5d-4983-9b36-1ecb300da49a",
   "metadata": {
    "execution": {
     "iopub.execute_input": "2025-07-30T13:22:16.781522Z",
     "iopub.status.busy": "2025-07-30T13:22:16.780922Z",
     "iopub.status.idle": "2025-07-30T13:22:16.789605Z",
     "shell.execute_reply": "2025-07-30T13:22:16.788227Z"
    },
    "papermill": {
     "duration": 0.042612,
     "end_time": "2025-07-30T13:22:16.791573",
     "exception": false,
     "start_time": "2025-07-30T13:22:16.748961",
     "status": "completed"
    },
    "tags": []
   },
   "outputs": [],
   "source": [
    "y_calib = y_calib.values.ravel().astype(int)"
   ]
  },
  {
   "cell_type": "code",
   "execution_count": 50,
   "id": "65d1320d-f588-4b38-9072-62af1ae97f7d",
   "metadata": {
    "execution": {
     "iopub.execute_input": "2025-07-30T13:22:16.852329Z",
     "iopub.status.busy": "2025-07-30T13:22:16.851634Z",
     "iopub.status.idle": "2025-07-30T13:22:16.860982Z",
     "shell.execute_reply": "2025-07-30T13:22:16.859912Z"
    },
    "papermill": {
     "duration": 0.041205,
     "end_time": "2025-07-30T13:22:16.863022",
     "exception": false,
     "start_time": "2025-07-30T13:22:16.821817",
     "status": "completed"
    },
    "tags": []
   },
   "outputs": [],
   "source": [
    "from fairness_multiverse.conformal import compute_nc_scores\n",
    "\n",
    "# Compute nonconformity scores on calibration set (1 - probability of true class)\n",
    "nc_scores = compute_nc_scores(probs_calib, y_calib)"
   ]
  },
  {
   "cell_type": "code",
   "execution_count": 51,
   "id": "df3b8ca3-53b7-43d5-9667-7c85da7aeda2",
   "metadata": {
    "execution": {
     "iopub.execute_input": "2025-07-30T13:22:16.922961Z",
     "iopub.status.busy": "2025-07-30T13:22:16.922294Z",
     "iopub.status.idle": "2025-07-30T13:22:16.929788Z",
     "shell.execute_reply": "2025-07-30T13:22:16.928796Z"
    },
    "papermill": {
     "duration": 0.039569,
     "end_time": "2025-07-30T13:22:16.931548",
     "exception": false,
     "start_time": "2025-07-30T13:22:16.891979",
     "status": "completed"
    },
    "tags": []
   },
   "outputs": [],
   "source": [
    "from fairness_multiverse.conformal import find_threshold\n",
    "\n",
    "# Find conformal threshold q_hat for the given alpha (split conformal method)\n",
    "q_hat = find_threshold(nc_scores, alpha)"
   ]
  },
  {
   "cell_type": "code",
   "execution_count": 52,
   "id": "4d29e6c1-0ef6-4aa4-b8fe-4fe79b0d033a",
   "metadata": {
    "execution": {
     "iopub.execute_input": "2025-07-30T13:22:16.982831Z",
     "iopub.status.busy": "2025-07-30T13:22:16.981964Z",
     "iopub.status.idle": "2025-07-30T13:22:16.989409Z",
     "shell.execute_reply": "2025-07-30T13:22:16.988336Z"
    },
    "papermill": {
     "duration": 0.035218,
     "end_time": "2025-07-30T13:22:16.991512",
     "exception": false,
     "start_time": "2025-07-30T13:22:16.956294",
     "status": "completed"
    },
    "tags": []
   },
   "outputs": [
    {
     "data": {
      "text/plain": [
       "0.6840439310204429"
      ]
     },
     "execution_count": 52,
     "metadata": {},
     "output_type": "execute_result"
    }
   ],
   "source": [
    "q_hat"
   ]
  },
  {
   "cell_type": "code",
   "execution_count": 53,
   "id": "92460794-cdac-4be2-ba28-f28c0515a6fb",
   "metadata": {
    "execution": {
     "iopub.execute_input": "2025-07-30T13:22:17.052290Z",
     "iopub.status.busy": "2025-07-30T13:22:17.051257Z",
     "iopub.status.idle": "2025-07-30T13:22:17.857164Z",
     "shell.execute_reply": "2025-07-30T13:22:17.856208Z"
    },
    "papermill": {
     "duration": 0.838265,
     "end_time": "2025-07-30T13:22:17.859256",
     "exception": false,
     "start_time": "2025-07-30T13:22:17.020991",
     "status": "completed"
    },
    "tags": []
   },
   "outputs": [],
   "source": [
    "from fairness_multiverse.conformal import predict_conformal_sets\n",
    "\n",
    "# Generate prediction sets for each test example\n",
    "pred_sets = predict_conformal_sets(model, X_test, q_hat)"
   ]
  },
  {
   "cell_type": "code",
   "execution_count": 54,
   "id": "d90c9a65-e6db-4f5d-80cd-e68fb7e46829",
   "metadata": {
    "execution": {
     "iopub.execute_input": "2025-07-30T13:22:17.922221Z",
     "iopub.status.busy": "2025-07-30T13:22:17.921656Z",
     "iopub.status.idle": "2025-07-30T13:22:17.927940Z",
     "shell.execute_reply": "2025-07-30T13:22:17.926765Z"
    },
    "papermill": {
     "duration": 0.036716,
     "end_time": "2025-07-30T13:22:17.929815",
     "exception": false,
     "start_time": "2025-07-30T13:22:17.893099",
     "status": "completed"
    },
    "tags": []
   },
   "outputs": [],
   "source": [
    "y_true = y_true.squeeze()"
   ]
  },
  {
   "cell_type": "code",
   "execution_count": 55,
   "id": "3a58a54a-1e68-46b9-927a-df01f18aebc8",
   "metadata": {
    "execution": {
     "iopub.execute_input": "2025-07-30T13:22:17.998196Z",
     "iopub.status.busy": "2025-07-30T13:22:17.997642Z",
     "iopub.status.idle": "2025-07-30T13:22:18.880835Z",
     "shell.execute_reply": "2025-07-30T13:22:18.880063Z"
    },
    "papermill": {
     "duration": 0.922693,
     "end_time": "2025-07-30T13:22:18.882304",
     "exception": false,
     "start_time": "2025-07-30T13:22:17.959611",
     "status": "completed"
    },
    "tags": []
   },
   "outputs": [],
   "source": [
    "from fairness_multiverse.conformal import evaluate_sets\n",
    "\n",
    "# Evaluate coverage and average set size on test data\n",
    "metrics = evaluate_sets(pred_sets, y_true)"
   ]
  },
  {
   "cell_type": "markdown",
   "id": "2b569c12-9aaa-4c88-98c9-bbcd0cf3ebb8",
   "metadata": {
    "papermill": {
     "duration": 0.013316,
     "end_time": "2025-07-30T13:22:18.909794",
     "exception": false,
     "start_time": "2025-07-30T13:22:18.896478",
     "status": "completed"
    },
    "tags": []
   },
   "source": [
    "# CP Metrics"
   ]
  },
  {
   "cell_type": "code",
   "execution_count": 56,
   "id": "5ce0a5cb-201f-45a0-ade5-94c7f0bd6095",
   "metadata": {
    "execution": {
     "iopub.execute_input": "2025-07-30T13:22:18.938871Z",
     "iopub.status.busy": "2025-07-30T13:22:18.938432Z",
     "iopub.status.idle": "2025-07-30T13:22:18.945573Z",
     "shell.execute_reply": "2025-07-30T13:22:18.944813Z"
    },
    "papermill": {
     "duration": 0.023481,
     "end_time": "2025-07-30T13:22:18.947035",
     "exception": false,
     "start_time": "2025-07-30T13:22:18.923554",
     "status": "completed"
    },
    "tags": []
   },
   "outputs": [
    {
     "data": {
      "text/plain": [
       "{'coverage': 0.9089176234533497, 'avg_size': 1.1326273548099433}"
      ]
     },
     "execution_count": 56,
     "metadata": {},
     "output_type": "execute_result"
    }
   ],
   "source": [
    "metrics"
   ]
  },
  {
   "cell_type": "code",
   "execution_count": 57,
   "id": "9b9a838d-31c9-430b-ae14-12baee460d17",
   "metadata": {
    "execution": {
     "iopub.execute_input": "2025-07-30T13:22:18.981071Z",
     "iopub.status.busy": "2025-07-30T13:22:18.980545Z",
     "iopub.status.idle": "2025-07-30T13:22:18.986274Z",
     "shell.execute_reply": "2025-07-30T13:22:18.985373Z"
    },
    "papermill": {
     "duration": 0.025617,
     "end_time": "2025-07-30T13:22:18.987598",
     "exception": false,
     "start_time": "2025-07-30T13:22:18.961981",
     "status": "completed"
    },
    "tags": []
   },
   "outputs": [],
   "source": [
    "example_universe = universe.copy()\n",
    "universe_training_size = example_universe.get(\"training_size\")\n",
    "universe_scale = example_universe.get(\"scale\")\n",
    "universe_model = example_universe.get(\"model\")\n",
    "universe_exclude_features = example_universe.get(\"exclude_features\")\n",
    "universe_exclude_subgroups = example_universe.get(\"exclude_subgroups\")"
   ]
  },
  {
   "cell_type": "code",
   "execution_count": 58,
   "id": "f4b6a8ac-9dc0-4245-8a91-5b3b5999c4f9",
   "metadata": {
    "execution": {
     "iopub.execute_input": "2025-07-30T13:22:19.018534Z",
     "iopub.status.busy": "2025-07-30T13:22:19.018028Z",
     "iopub.status.idle": "2025-07-30T13:22:19.023894Z",
     "shell.execute_reply": "2025-07-30T13:22:19.023064Z"
    },
    "papermill": {
     "duration": 0.022091,
     "end_time": "2025-07-30T13:22:19.025246",
     "exception": false,
     "start_time": "2025-07-30T13:22:19.003155",
     "status": "completed"
    },
    "tags": []
   },
   "outputs": [],
   "source": [
    "cp_metrics_dict = {\n",
    "    \"universe_id\": [universe_id],\n",
    "    \"universe_training_size\": [universe_training_size],\n",
    "    \"universe_scale\": [universe_scale],\n",
    "    \"universe_model\": [universe_model],\n",
    "    \"universe_exclude_features\": [universe_exclude_features],\n",
    "    \"universe_exclude_subgroups\": [universe_exclude_subgroups],\n",
    "    \"q_hat\": [q_hat],\n",
    "    \"coverage\": [metrics[\"coverage\"]],\n",
    "    \"avg_size\": [metrics[\"avg_size\"]],\n",
    "}"
   ]
  },
  {
   "cell_type": "code",
   "execution_count": 59,
   "id": "908acbb1-0371-4915-85ca-3fa520d2efe2",
   "metadata": {
    "execution": {
     "iopub.execute_input": "2025-07-30T13:22:19.060150Z",
     "iopub.status.busy": "2025-07-30T13:22:19.059605Z",
     "iopub.status.idle": "2025-07-30T13:22:19.066892Z",
     "shell.execute_reply": "2025-07-30T13:22:19.065980Z"
    },
    "papermill": {
     "duration": 0.024758,
     "end_time": "2025-07-30T13:22:19.068474",
     "exception": false,
     "start_time": "2025-07-30T13:22:19.043716",
     "status": "completed"
    },
    "tags": []
   },
   "outputs": [
    {
     "data": {
      "text/plain": [
       "{'universe_id': ['df2a7d039164c2cc1a933f36285d4165'],\n",
       " 'universe_training_size': ['25k'],\n",
       " 'universe_scale': ['do-not-scale'],\n",
       " 'universe_model': ['elasticnet'],\n",
       " 'universe_exclude_features': ['nationality-sex'],\n",
       " 'universe_exclude_subgroups': ['drop-non-german'],\n",
       " 'q_hat': [0.6840439310204429],\n",
       " 'coverage': [0.9089176234533497],\n",
       " 'avg_size': [1.1326273548099433]}"
      ]
     },
     "execution_count": 59,
     "metadata": {},
     "output_type": "execute_result"
    }
   ],
   "source": [
    "cp_metrics_dict"
   ]
  },
  {
   "cell_type": "code",
   "execution_count": 60,
   "id": "33007efc-14e9-4ec6-97ac-56a455c82265",
   "metadata": {
    "execution": {
     "iopub.execute_input": "2025-07-30T13:22:19.099812Z",
     "iopub.status.busy": "2025-07-30T13:22:19.099299Z",
     "iopub.status.idle": "2025-07-30T13:22:19.105331Z",
     "shell.execute_reply": "2025-07-30T13:22:19.104568Z"
    },
    "papermill": {
     "duration": 0.023185,
     "end_time": "2025-07-30T13:22:19.106824",
     "exception": false,
     "start_time": "2025-07-30T13:22:19.083639",
     "status": "completed"
    },
    "tags": []
   },
   "outputs": [],
   "source": [
    "cp_metrics_df = pd.DataFrame(cp_metrics_dict)"
   ]
  },
  {
   "cell_type": "code",
   "execution_count": 61,
   "id": "db12611b-57b2-4910-b9d0-355adfd6e7bf",
   "metadata": {
    "execution": {
     "iopub.execute_input": "2025-07-30T13:22:19.138186Z",
     "iopub.status.busy": "2025-07-30T13:22:19.137830Z",
     "iopub.status.idle": "2025-07-30T13:22:19.153005Z",
     "shell.execute_reply": "2025-07-30T13:22:19.152090Z"
    },
    "papermill": {
     "duration": 0.032545,
     "end_time": "2025-07-30T13:22:19.154547",
     "exception": false,
     "start_time": "2025-07-30T13:22:19.122002",
     "status": "completed"
    },
    "tags": []
   },
   "outputs": [
    {
     "data": {
      "text/html": [
       "<div>\n",
       "<style scoped>\n",
       "    .dataframe tbody tr th:only-of-type {\n",
       "        vertical-align: middle;\n",
       "    }\n",
       "\n",
       "    .dataframe tbody tr th {\n",
       "        vertical-align: top;\n",
       "    }\n",
       "\n",
       "    .dataframe thead th {\n",
       "        text-align: right;\n",
       "    }\n",
       "</style>\n",
       "<table border=\"1\" class=\"dataframe\">\n",
       "  <thead>\n",
       "    <tr style=\"text-align: right;\">\n",
       "      <th></th>\n",
       "      <th>universe_id</th>\n",
       "      <th>universe_training_size</th>\n",
       "      <th>universe_scale</th>\n",
       "      <th>universe_model</th>\n",
       "      <th>universe_exclude_features</th>\n",
       "      <th>universe_exclude_subgroups</th>\n",
       "      <th>q_hat</th>\n",
       "      <th>coverage</th>\n",
       "      <th>avg_size</th>\n",
       "    </tr>\n",
       "  </thead>\n",
       "  <tbody>\n",
       "    <tr>\n",
       "      <th>0</th>\n",
       "      <td>df2a7d039164c2cc1a933f36285d4165</td>\n",
       "      <td>25k</td>\n",
       "      <td>do-not-scale</td>\n",
       "      <td>elasticnet</td>\n",
       "      <td>nationality-sex</td>\n",
       "      <td>drop-non-german</td>\n",
       "      <td>0.684044</td>\n",
       "      <td>0.908918</td>\n",
       "      <td>1.132627</td>\n",
       "    </tr>\n",
       "  </tbody>\n",
       "</table>\n",
       "</div>"
      ],
      "text/plain": [
       "                        universe_id universe_training_size universe_scale  \\\n",
       "0  df2a7d039164c2cc1a933f36285d4165                    25k   do-not-scale   \n",
       "\n",
       "  universe_model universe_exclude_features universe_exclude_subgroups  \\\n",
       "0     elasticnet           nationality-sex            drop-non-german   \n",
       "\n",
       "      q_hat  coverage  avg_size  \n",
       "0  0.684044  0.908918  1.132627  "
      ]
     },
     "execution_count": 61,
     "metadata": {},
     "output_type": "execute_result"
    }
   ],
   "source": [
    "cp_metrics_df"
   ]
  },
  {
   "cell_type": "code",
   "execution_count": 62,
   "id": "b7fbde55-a0a1-47e4-9af6-fe4a17fa8c61",
   "metadata": {
    "execution": {
     "iopub.execute_input": "2025-07-30T13:22:19.186417Z",
     "iopub.status.busy": "2025-07-30T13:22:19.185906Z",
     "iopub.status.idle": "2025-07-30T13:22:19.190554Z",
     "shell.execute_reply": "2025-07-30T13:22:19.189713Z"
    },
    "papermill": {
     "duration": 0.022058,
     "end_time": "2025-07-30T13:22:19.191950",
     "exception": false,
     "start_time": "2025-07-30T13:22:19.169892",
     "status": "completed"
    },
    "tags": []
   },
   "outputs": [],
   "source": [
    "# Conditional Coverage & looking at subgroups"
   ]
  },
  {
   "cell_type": "code",
   "execution_count": 63,
   "id": "027ae886-68dd-4141-96c7-805a5450e1ef",
   "metadata": {
    "execution": {
     "iopub.execute_input": "2025-07-30T13:22:19.232664Z",
     "iopub.status.busy": "2025-07-30T13:22:19.231712Z",
     "iopub.status.idle": "2025-07-30T13:22:19.462923Z",
     "shell.execute_reply": "2025-07-30T13:22:19.461899Z"
    },
    "papermill": {
     "duration": 0.256775,
     "end_time": "2025-07-30T13:22:19.464954",
     "exception": false,
     "start_time": "2025-07-30T13:22:19.208179",
     "status": "completed"
    },
    "tags": []
   },
   "outputs": [],
   "source": [
    "from fairness_multiverse.conformal import build_cp_groups\n",
    "\n",
    "cp_groups_df = build_cp_groups(pred_sets, y_true, X_test.index, org_test)\n",
    "#needs universe_id and setting"
   ]
  },
  {
   "cell_type": "code",
   "execution_count": 64,
   "id": "01d5802c-663a-4d1f-9d69-e036faaffbf7",
   "metadata": {
    "execution": {
     "iopub.execute_input": "2025-07-30T13:22:19.525606Z",
     "iopub.status.busy": "2025-07-30T13:22:19.524896Z",
     "iopub.status.idle": "2025-07-30T13:22:19.530078Z",
     "shell.execute_reply": "2025-07-30T13:22:19.529078Z"
    },
    "papermill": {
     "duration": 0.038002,
     "end_time": "2025-07-30T13:22:19.531929",
     "exception": false,
     "start_time": "2025-07-30T13:22:19.493927",
     "status": "completed"
    },
    "tags": []
   },
   "outputs": [],
   "source": [
    "#delete\n",
    "#cp_groups_df"
   ]
  },
  {
   "cell_type": "code",
   "execution_count": 65,
   "id": "fa424af1-d1eb-443d-b717-2d279ada8408",
   "metadata": {
    "execution": {
     "iopub.execute_input": "2025-07-30T13:22:19.594966Z",
     "iopub.status.busy": "2025-07-30T13:22:19.594295Z",
     "iopub.status.idle": "2025-07-30T13:22:19.600383Z",
     "shell.execute_reply": "2025-07-30T13:22:19.599176Z"
    },
    "papermill": {
     "duration": 0.039581,
     "end_time": "2025-07-30T13:22:19.602369",
     "exception": false,
     "start_time": "2025-07-30T13:22:19.562788",
     "status": "completed"
    },
    "tags": []
   },
   "outputs": [],
   "source": [
    "#delete\n",
    "#percentage = (cp_groups_df['nongerman_female'] == 1).mean() * 100\n",
    "#print(percentage)\n"
   ]
  },
  {
   "cell_type": "code",
   "execution_count": 66,
   "id": "6cbdab96-b2b2-45af-ad54-d0516db2e28d",
   "metadata": {
    "execution": {
     "iopub.execute_input": "2025-07-30T13:22:19.665712Z",
     "iopub.status.busy": "2025-07-30T13:22:19.664776Z",
     "iopub.status.idle": "2025-07-30T13:22:21.133318Z",
     "shell.execute_reply": "2025-07-30T13:22:21.132549Z"
    },
    "papermill": {
     "duration": 1.501786,
     "end_time": "2025-07-30T13:22:21.134778",
     "exception": false,
     "start_time": "2025-07-30T13:22:19.632992",
     "status": "completed"
    },
    "tags": []
   },
   "outputs": [],
   "source": [
    "# Define covered = 1 if true_label is in the predicted set\n",
    "cp_groups_df['covered'] = cp_groups_df.apply(\n",
    "    lambda r: int(r['true_label'] in r['pred_set']),\n",
    "    axis=1\n",
    ")"
   ]
  },
  {
   "cell_type": "code",
   "execution_count": 67,
   "id": "338ff529-1a6b-4b87-a931-8e4788d52aad",
   "metadata": {
    "execution": {
     "iopub.execute_input": "2025-07-30T13:22:21.168360Z",
     "iopub.status.busy": "2025-07-30T13:22:21.167854Z",
     "iopub.status.idle": "2025-07-30T13:22:21.172375Z",
     "shell.execute_reply": "2025-07-30T13:22:21.171617Z"
    },
    "papermill": {
     "duration": 0.024452,
     "end_time": "2025-07-30T13:22:21.173661",
     "exception": false,
     "start_time": "2025-07-30T13:22:21.149209",
     "status": "completed"
    },
    "tags": []
   },
   "outputs": [],
   "source": [
    "#cp_groups_df"
   ]
  },
  {
   "cell_type": "code",
   "execution_count": 68,
   "id": "90032e27-66df-4540-9169-4e89cfbaa758",
   "metadata": {
    "execution": {
     "iopub.execute_input": "2025-07-30T13:22:21.203393Z",
     "iopub.status.busy": "2025-07-30T13:22:21.203093Z",
     "iopub.status.idle": "2025-07-30T13:22:21.214149Z",
     "shell.execute_reply": "2025-07-30T13:22:21.213245Z"
    },
    "papermill": {
     "duration": 0.027176,
     "end_time": "2025-07-30T13:22:21.215899",
     "exception": false,
     "start_time": "2025-07-30T13:22:21.188723",
     "status": "completed"
    },
    "tags": []
   },
   "outputs": [],
   "source": [
    "subgroups = ['frau1','nongerman','nongerman_male','nongerman_female']\n",
    "\n",
    "# Conditional coverage for subgroup==1\n",
    "cond_coverage = {\n",
    "    g: cp_groups_df.loc[cp_groups_df[g]==1, 'covered'].mean()\n",
    "    for g in subgroups\n",
    "}"
   ]
  },
  {
   "cell_type": "code",
   "execution_count": 69,
   "id": "1e348fb1-b9c3-45bc-ba23-f016827a7e0d",
   "metadata": {
    "execution": {
     "iopub.execute_input": "2025-07-30T13:22:21.268732Z",
     "iopub.status.busy": "2025-07-30T13:22:21.267888Z",
     "iopub.status.idle": "2025-07-30T13:22:21.275428Z",
     "shell.execute_reply": "2025-07-30T13:22:21.274385Z"
    },
    "papermill": {
     "duration": 0.035554,
     "end_time": "2025-07-30T13:22:21.277142",
     "exception": false,
     "start_time": "2025-07-30T13:22:21.241588",
     "status": "completed"
    },
    "tags": []
   },
   "outputs": [
    {
     "data": {
      "text/plain": [
       "{'frau1': 0.9071303410163095,\n",
       " 'nongerman': 0.9071464660641105,\n",
       " 'nongerman_male': 0.9229037197153922,\n",
       " 'nongerman_female': 0.8810730253353204}"
      ]
     },
     "execution_count": 69,
     "metadata": {},
     "output_type": "execute_result"
    }
   ],
   "source": [
    "cond_coverage"
   ]
  },
  {
   "cell_type": "code",
   "execution_count": 70,
   "id": "f5093324-c3dd-4d63-bc4c-8d945e5c8bbb",
   "metadata": {
    "execution": {
     "iopub.execute_input": "2025-07-30T13:22:21.329924Z",
     "iopub.status.busy": "2025-07-30T13:22:21.329101Z",
     "iopub.status.idle": "2025-07-30T13:22:21.336945Z",
     "shell.execute_reply": "2025-07-30T13:22:21.335937Z"
    },
    "papermill": {
     "duration": 0.035937,
     "end_time": "2025-07-30T13:22:21.338795",
     "exception": false,
     "start_time": "2025-07-30T13:22:21.302858",
     "status": "completed"
    },
    "tags": []
   },
   "outputs": [],
   "source": [
    "for subgroup, cov in cond_coverage.items():\n",
    "    cp_metrics_df[f\"cov_{subgroup}\"] = cov"
   ]
  },
  {
   "cell_type": "code",
   "execution_count": 71,
   "id": "6e872e10-dbe5-49e8-b554-5030c98ff75d",
   "metadata": {
    "execution": {
     "iopub.execute_input": "2025-07-30T13:22:21.396795Z",
     "iopub.status.busy": "2025-07-30T13:22:21.396154Z",
     "iopub.status.idle": "2025-07-30T13:22:21.418749Z",
     "shell.execute_reply": "2025-07-30T13:22:21.417704Z"
    },
    "papermill": {
     "duration": 0.054301,
     "end_time": "2025-07-30T13:22:21.420504",
     "exception": false,
     "start_time": "2025-07-30T13:22:21.366203",
     "status": "completed"
    },
    "tags": []
   },
   "outputs": [
    {
     "data": {
      "text/html": [
       "<div>\n",
       "<style scoped>\n",
       "    .dataframe tbody tr th:only-of-type {\n",
       "        vertical-align: middle;\n",
       "    }\n",
       "\n",
       "    .dataframe tbody tr th {\n",
       "        vertical-align: top;\n",
       "    }\n",
       "\n",
       "    .dataframe thead th {\n",
       "        text-align: right;\n",
       "    }\n",
       "</style>\n",
       "<table border=\"1\" class=\"dataframe\">\n",
       "  <thead>\n",
       "    <tr style=\"text-align: right;\">\n",
       "      <th></th>\n",
       "      <th>universe_id</th>\n",
       "      <th>universe_training_size</th>\n",
       "      <th>universe_scale</th>\n",
       "      <th>universe_model</th>\n",
       "      <th>universe_exclude_features</th>\n",
       "      <th>universe_exclude_subgroups</th>\n",
       "      <th>q_hat</th>\n",
       "      <th>coverage</th>\n",
       "      <th>avg_size</th>\n",
       "      <th>cov_frau1</th>\n",
       "      <th>cov_nongerman</th>\n",
       "      <th>cov_nongerman_male</th>\n",
       "      <th>cov_nongerman_female</th>\n",
       "    </tr>\n",
       "  </thead>\n",
       "  <tbody>\n",
       "    <tr>\n",
       "      <th>0</th>\n",
       "      <td>df2a7d039164c2cc1a933f36285d4165</td>\n",
       "      <td>25k</td>\n",
       "      <td>do-not-scale</td>\n",
       "      <td>elasticnet</td>\n",
       "      <td>nationality-sex</td>\n",
       "      <td>drop-non-german</td>\n",
       "      <td>0.684044</td>\n",
       "      <td>0.908918</td>\n",
       "      <td>1.132627</td>\n",
       "      <td>0.90713</td>\n",
       "      <td>0.907146</td>\n",
       "      <td>0.922904</td>\n",
       "      <td>0.881073</td>\n",
       "    </tr>\n",
       "  </tbody>\n",
       "</table>\n",
       "</div>"
      ],
      "text/plain": [
       "                        universe_id universe_training_size universe_scale  \\\n",
       "0  df2a7d039164c2cc1a933f36285d4165                    25k   do-not-scale   \n",
       "\n",
       "  universe_model universe_exclude_features universe_exclude_subgroups  \\\n",
       "0     elasticnet           nationality-sex            drop-non-german   \n",
       "\n",
       "      q_hat  coverage  avg_size  cov_frau1  cov_nongerman  cov_nongerman_male  \\\n",
       "0  0.684044  0.908918  1.132627    0.90713       0.907146            0.922904   \n",
       "\n",
       "   cov_nongerman_female  \n",
       "0              0.881073  "
      ]
     },
     "execution_count": 71,
     "metadata": {},
     "output_type": "execute_result"
    }
   ],
   "source": [
    "cp_metrics_df"
   ]
  },
  {
   "cell_type": "markdown",
   "id": "33774451",
   "metadata": {
    "papermill": {
     "duration": 0.026316,
     "end_time": "2025-07-30T13:22:21.474465",
     "exception": false,
     "start_time": "2025-07-30T13:22:21.448149",
     "status": "completed"
    },
    "tags": []
   },
   "source": [
    "# (Fairness) Metrics"
   ]
  },
  {
   "cell_type": "code",
   "execution_count": 72,
   "id": "debc5d62",
   "metadata": {
    "execution": {
     "iopub.execute_input": "2025-07-30T13:22:21.529778Z",
     "iopub.status.busy": "2025-07-30T13:22:21.529122Z",
     "iopub.status.idle": "2025-07-30T13:22:21.551195Z",
     "shell.execute_reply": "2025-07-30T13:22:21.550194Z"
    },
    "papermill": {
     "duration": 0.052522,
     "end_time": "2025-07-30T13:22:21.553368",
     "exception": false,
     "start_time": "2025-07-30T13:22:21.500846",
     "status": "completed"
    },
    "tags": []
   },
   "outputs": [],
   "source": [
    "# do I need to include maxdeutsch1.missing?\n",
    "\n",
    "import numpy as np\n",
    "\n",
    "colname_to_bin = \"maxdeutsch1\"\n",
    "majority_value = org_train[colname_to_bin].mode()[0]\n",
    "\n",
    "org_test[\"majmin\"] = np.where(org_test[colname_to_bin] == majority_value, \"majority\", \"minority\")"
   ]
  },
  {
   "cell_type": "code",
   "execution_count": 73,
   "id": "06a50de5",
   "metadata": {
    "execution": {
     "iopub.execute_input": "2025-07-30T13:22:21.621079Z",
     "iopub.status.busy": "2025-07-30T13:22:21.620389Z",
     "iopub.status.idle": "2025-07-30T13:22:24.638019Z",
     "shell.execute_reply": "2025-07-30T13:22:24.637062Z"
    },
    "papermill": {
     "duration": 3.053248,
     "end_time": "2025-07-30T13:22:24.639846",
     "exception": false,
     "start_time": "2025-07-30T13:22:21.586598",
     "status": "completed"
    },
    "tags": []
   },
   "outputs": [],
   "source": [
    "example_universe = universe.copy()\n",
    "example_universe[\"cutoff\"] = example_universe[\"cutoff\"][0]\n",
    "example_universe[\"eval_fairness_grouping\"] = example_universe[\"eval_fairness_grouping\"][0]\n",
    "fairness_dict, metric_frame = universe_analysis.compute_metrics(\n",
    "    example_universe,\n",
    "    y_pred_prob=probs_test,\n",
    "    y_test=y_true,\n",
    "    org_test=org_test,\n",
    ")"
   ]
  },
  {
   "cell_type": "markdown",
   "id": "f95d4e02",
   "metadata": {
    "papermill": {
     "duration": 0.02802,
     "end_time": "2025-07-30T13:22:24.694895",
     "exception": false,
     "start_time": "2025-07-30T13:22:24.666875",
     "status": "completed"
    },
    "tags": []
   },
   "source": [
    "# Overall"
   ]
  },
  {
   "cell_type": "markdown",
   "id": "bdee4871",
   "metadata": {
    "papermill": {
     "duration": 0.027199,
     "end_time": "2025-07-30T13:22:24.748663",
     "exception": false,
     "start_time": "2025-07-30T13:22:24.721464",
     "status": "completed"
    },
    "tags": []
   },
   "source": [
    "Fairness\n",
    "Main fairness target: Equalized Odds. Seems to be a better fit than equal opportunity, since we're not only interested in Y = 1. Seems to be a better fit than demographic parity, since we also care about accuracy, not just equal distribution of preds.\n",
    "\n",
    "Pick column for computation of fairness metrics\n",
    "\n",
    "Performance\n",
    "Overall performance measures, most interesting in relation to the measures split by group below"
   ]
  },
  {
   "cell_type": "code",
   "execution_count": 74,
   "id": "c4e067c6",
   "metadata": {
    "execution": {
     "iopub.execute_input": "2025-07-30T13:22:24.804440Z",
     "iopub.status.busy": "2025-07-30T13:22:24.803733Z",
     "iopub.status.idle": "2025-07-30T13:22:24.812738Z",
     "shell.execute_reply": "2025-07-30T13:22:24.811657Z"
    },
    "papermill": {
     "duration": 0.038956,
     "end_time": "2025-07-30T13:22:24.814272",
     "exception": false,
     "start_time": "2025-07-30T13:22:24.775316",
     "status": "completed"
    },
    "tags": []
   },
   "outputs": [
    {
     "data": {
      "text/plain": [
       "accuracy                   0.220589\n",
       "balanced accuracy          0.540162\n",
       "f1                         0.242024\n",
       "precision                  0.138260\n",
       "false positive rate        0.889696\n",
       "false negative rate        0.029979\n",
       "selection rate             0.900000\n",
       "count                  89710.000000\n",
       "dtype: float64"
      ]
     },
     "execution_count": 74,
     "metadata": {},
     "output_type": "execute_result"
    }
   ],
   "source": [
    "metric_frame.overall"
   ]
  },
  {
   "cell_type": "markdown",
   "id": "e968fe9d",
   "metadata": {
    "papermill": {
     "duration": 0.02636,
     "end_time": "2025-07-30T13:22:24.868521",
     "exception": false,
     "start_time": "2025-07-30T13:22:24.842161",
     "status": "completed"
    },
    "tags": []
   },
   "source": [
    "By Group"
   ]
  },
  {
   "cell_type": "code",
   "execution_count": 75,
   "id": "ec325bce",
   "metadata": {
    "execution": {
     "iopub.execute_input": "2025-07-30T13:22:24.923862Z",
     "iopub.status.busy": "2025-07-30T13:22:24.923408Z",
     "iopub.status.idle": "2025-07-30T13:22:24.939097Z",
     "shell.execute_reply": "2025-07-30T13:22:24.938071Z"
    },
    "papermill": {
     "duration": 0.044753,
     "end_time": "2025-07-30T13:22:24.940907",
     "exception": false,
     "start_time": "2025-07-30T13:22:24.896154",
     "status": "completed"
    },
    "tags": []
   },
   "outputs": [
    {
     "data": {
      "text/html": [
       "<div>\n",
       "<style scoped>\n",
       "    .dataframe tbody tr th:only-of-type {\n",
       "        vertical-align: middle;\n",
       "    }\n",
       "\n",
       "    .dataframe tbody tr th {\n",
       "        vertical-align: top;\n",
       "    }\n",
       "\n",
       "    .dataframe thead th {\n",
       "        text-align: right;\n",
       "    }\n",
       "</style>\n",
       "<table border=\"1\" class=\"dataframe\">\n",
       "  <thead>\n",
       "    <tr style=\"text-align: right;\">\n",
       "      <th></th>\n",
       "      <th>accuracy</th>\n",
       "      <th>balanced accuracy</th>\n",
       "      <th>f1</th>\n",
       "      <th>precision</th>\n",
       "      <th>false positive rate</th>\n",
       "      <th>false negative rate</th>\n",
       "      <th>selection rate</th>\n",
       "      <th>count</th>\n",
       "    </tr>\n",
       "    <tr>\n",
       "      <th>majmin</th>\n",
       "      <th></th>\n",
       "      <th></th>\n",
       "      <th></th>\n",
       "      <th></th>\n",
       "      <th></th>\n",
       "      <th></th>\n",
       "      <th></th>\n",
       "      <th></th>\n",
       "    </tr>\n",
       "  </thead>\n",
       "  <tbody>\n",
       "    <tr>\n",
       "      <th>majority</th>\n",
       "      <td>0.242475</td>\n",
       "      <td>0.549331</td>\n",
       "      <td>0.252141</td>\n",
       "      <td>0.144984</td>\n",
       "      <td>0.867749</td>\n",
       "      <td>0.033589</td>\n",
       "      <td>0.880786</td>\n",
       "      <td>69170.0</td>\n",
       "    </tr>\n",
       "    <tr>\n",
       "      <th>minority</th>\n",
       "      <td>0.146884</td>\n",
       "      <td>0.510879</td>\n",
       "      <td>0.210071</td>\n",
       "      <td>0.117588</td>\n",
       "      <td>0.962195</td>\n",
       "      <td>0.016047</td>\n",
       "      <td>0.964703</td>\n",
       "      <td>20540.0</td>\n",
       "    </tr>\n",
       "  </tbody>\n",
       "</table>\n",
       "</div>"
      ],
      "text/plain": [
       "          accuracy  balanced accuracy        f1  precision  \\\n",
       "majmin                                                       \n",
       "majority  0.242475           0.549331  0.252141   0.144984   \n",
       "minority  0.146884           0.510879  0.210071   0.117588   \n",
       "\n",
       "          false positive rate  false negative rate  selection rate    count  \n",
       "majmin                                                                       \n",
       "majority             0.867749             0.033589        0.880786  69170.0  \n",
       "minority             0.962195             0.016047        0.964703  20540.0  "
      ]
     },
     "execution_count": 75,
     "metadata": {},
     "output_type": "execute_result"
    }
   ],
   "source": [
    "metric_frame.by_group"
   ]
  },
  {
   "cell_type": "code",
   "execution_count": 76,
   "id": "a9ddbe63",
   "metadata": {
    "execution": {
     "iopub.execute_input": "2025-07-30T13:22:24.997299Z",
     "iopub.status.busy": "2025-07-30T13:22:24.996488Z",
     "iopub.status.idle": "2025-07-30T13:22:27.313068Z",
     "shell.execute_reply": "2025-07-30T13:22:27.311743Z"
    },
    "papermill": {
     "duration": 2.346271,
     "end_time": "2025-07-30T13:22:27.314970",
     "exception": false,
     "start_time": "2025-07-30T13:22:24.968699",
     "status": "completed"
    },
    "tags": []
   },
   "outputs": [
    {
     "data": {
      "text/plain": [
       "array([[<Axes: title={'center': 'accuracy'}, xlabel='majmin'>,\n",
       "        <Axes: title={'center': 'balanced accuracy'}, xlabel='majmin'>,\n",
       "        <Axes: title={'center': 'f1'}, xlabel='majmin'>],\n",
       "       [<Axes: title={'center': 'precision'}, xlabel='majmin'>,\n",
       "        <Axes: title={'center': 'false positive rate'}, xlabel='majmin'>,\n",
       "        <Axes: title={'center': 'false negative rate'}, xlabel='majmin'>],\n",
       "       [<Axes: title={'center': 'selection rate'}, xlabel='majmin'>,\n",
       "        <Axes: title={'center': 'count'}, xlabel='majmin'>,\n",
       "        <Axes: xlabel='majmin'>]], dtype=object)"
      ]
     },
     "execution_count": 76,
     "metadata": {},
     "output_type": "execute_result"
    },
    {
     "data": {
      "image/png": "[encoded data removed]",
      "text/plain": [
       "<Figure size 1200x800 with 9 Axes>"
      ]
     },
     "metadata": {},
     "output_type": "display_data"
    }
   ],
   "source": [
    "# In a graphic\n",
    "metric_frame.by_group.plot.bar(\n",
    "    subplots=True,\n",
    "    layout=[3, 3],\n",
    "    legend=False,\n",
    "    figsize=[12, 8],\n",
    "    title=\"Show all metrics\",\n",
    ")"
   ]
  },
  {
   "cell_type": "markdown",
   "id": "f57a0bac",
   "metadata": {
    "papermill": {
     "duration": 0.028002,
     "end_time": "2025-07-30T13:22:27.371205",
     "exception": false,
     "start_time": "2025-07-30T13:22:27.343203",
     "status": "completed"
    },
    "tags": []
   },
   "source": [
    "# Final Output"
   ]
  },
  {
   "cell_type": "code",
   "execution_count": 77,
   "id": "96d280a3",
   "metadata": {
    "execution": {
     "iopub.execute_input": "2025-07-30T13:22:27.429564Z",
     "iopub.status.busy": "2025-07-30T13:22:27.428707Z",
     "iopub.status.idle": "2025-07-30T13:22:27.436960Z",
     "shell.execute_reply": "2025-07-30T13:22:27.435871Z"
    },
    "papermill": {
     "duration": 0.044033,
     "end_time": "2025-07-30T13:22:27.443232",
     "exception": false,
     "start_time": "2025-07-30T13:22:27.399199",
     "status": "completed"
    },
    "tags": []
   },
   "outputs": [
    {
     "data": {
      "text/plain": [
       "4"
      ]
     },
     "execution_count": 77,
     "metadata": {},
     "output_type": "execute_result"
    }
   ],
   "source": [
    "sub_universes = universe_analysis.generate_sub_universes()\n",
    "len(sub_universes)"
   ]
  },
  {
   "cell_type": "code",
   "execution_count": 78,
   "id": "92adf7ba",
   "metadata": {
    "execution": {
     "iopub.execute_input": "2025-07-30T13:22:27.502704Z",
     "iopub.status.busy": "2025-07-30T13:22:27.502231Z",
     "iopub.status.idle": "2025-07-30T13:22:27.508644Z",
     "shell.execute_reply": "2025-07-30T13:22:27.507509Z"
    },
    "papermill": {
     "duration": 0.03762,
     "end_time": "2025-07-30T13:22:27.510505",
     "exception": false,
     "start_time": "2025-07-30T13:22:27.472885",
     "status": "completed"
    },
    "tags": []
   },
   "outputs": [],
   "source": [
    "def filter_sub_universe_data(sub_universe, org_test):\n",
    "    # Keep all rows — no filtering\n",
    "    keep_rows_mask = np.ones(org_test.shape[0], dtype=bool)\n",
    "\n",
    "    print(f\"[INFO] Keeping all rows: {keep_rows_mask.sum()} rows retained.\")\n",
    "    return keep_rows_mask"
   ]
  },
  {
   "cell_type": "code",
   "execution_count": 79,
   "id": "4a759155",
   "metadata": {
    "execution": {
     "iopub.execute_input": "2025-07-30T13:22:27.580009Z",
     "iopub.status.busy": "2025-07-30T13:22:27.579035Z",
     "iopub.status.idle": "2025-07-30T13:22:39.076442Z",
     "shell.execute_reply": "2025-07-30T13:22:39.075501Z"
    },
    "papermill": {
     "duration": 11.540155,
     "end_time": "2025-07-30T13:22:39.085266",
     "exception": false,
     "start_time": "2025-07-30T13:22:27.545111",
     "status": "completed"
    },
    "tags": []
   },
   "outputs": [
    {
     "name": "stdout",
     "output_type": "stream",
     "text": [
      "Stopping execution_time clock.\n",
      "[INFO] Keeping all rows: 89710 rows retained.\n"
     ]
    },
    {
     "name": "stdout",
     "output_type": "stream",
     "text": [
      "[INFO] Keeping all rows: 89710 rows retained.\n"
     ]
    },
    {
     "name": "stdout",
     "output_type": "stream",
     "text": [
      "[INFO] Keeping all rows: 89710 rows retained.\n"
     ]
    },
    {
     "name": "stdout",
     "output_type": "stream",
     "text": [
      "[INFO] Keeping all rows: 89710 rows retained.\n"
     ]
    },
    {
     "data": {
      "text/html": [
       "<div>\n",
       "<style scoped>\n",
       "    .dataframe tbody tr th:only-of-type {\n",
       "        vertical-align: middle;\n",
       "    }\n",
       "\n",
       "    .dataframe tbody tr th {\n",
       "        vertical-align: top;\n",
       "    }\n",
       "\n",
       "    .dataframe thead th {\n",
       "        text-align: right;\n",
       "    }\n",
       "</style>\n",
       "<table border=\"1\" class=\"dataframe\">\n",
       "  <thead>\n",
       "    <tr style=\"text-align: right;\">\n",
       "      <th></th>\n",
       "      <th>run_no</th>\n",
       "      <th>universe_id</th>\n",
       "      <th>universe_settings</th>\n",
       "      <th>execution_time</th>\n",
       "      <th>test_size_n</th>\n",
       "      <th>test_size_frac</th>\n",
       "      <th>fair_main_equalized_odds_difference</th>\n",
       "      <th>fair_main_equalized_odds_ratio</th>\n",
       "      <th>fair_main_demographic_parity_difference</th>\n",
       "      <th>fair_main_demographic_parity_ratio</th>\n",
       "      <th>...</th>\n",
       "      <th>perf_grp_precision_0</th>\n",
       "      <th>perf_grp_precision_1</th>\n",
       "      <th>perf_grp_false positive rate_0</th>\n",
       "      <th>perf_grp_false positive rate_1</th>\n",
       "      <th>perf_grp_false negative rate_0</th>\n",
       "      <th>perf_grp_false negative rate_1</th>\n",
       "      <th>perf_grp_selection rate_0</th>\n",
       "      <th>perf_grp_selection rate_1</th>\n",
       "      <th>perf_grp_count_0</th>\n",
       "      <th>perf_grp_count_1</th>\n",
       "    </tr>\n",
       "  </thead>\n",
       "  <tbody>\n",
       "    <tr>\n",
       "      <th>0</th>\n",
       "      <td>12</td>\n",
       "      <td>df2a7d039164c2cc1a933f36285d4165</td>\n",
       "      <td>{\"cutoff\": \"quantile_0.1\", \"eval_fairness_grou...</td>\n",
       "      <td>199.488649</td>\n",
       "      <td>89710</td>\n",
       "      <td>1.0</td>\n",
       "      <td>0.094445</td>\n",
       "      <td>0.901844</td>\n",
       "      <td>0.083917</td>\n",
       "      <td>0.913013</td>\n",
       "      <td>...</td>\n",
       "      <td>NaN</td>\n",
       "      <td>NaN</td>\n",
       "      <td>NaN</td>\n",
       "      <td>NaN</td>\n",
       "      <td>NaN</td>\n",
       "      <td>NaN</td>\n",
       "      <td>NaN</td>\n",
       "      <td>NaN</td>\n",
       "      <td>NaN</td>\n",
       "      <td>NaN</td>\n",
       "    </tr>\n",
       "    <tr>\n",
       "      <th>0</th>\n",
       "      <td>12</td>\n",
       "      <td>df2a7d039164c2cc1a933f36285d4165</td>\n",
       "      <td>{\"cutoff\": \"quantile_0.1\", \"eval_fairness_grou...</td>\n",
       "      <td>199.488649</td>\n",
       "      <td>89710</td>\n",
       "      <td>1.0</td>\n",
       "      <td>0.094445</td>\n",
       "      <td>0.901844</td>\n",
       "      <td>0.083917</td>\n",
       "      <td>0.913013</td>\n",
       "      <td>...</td>\n",
       "      <td>0.117588</td>\n",
       "      <td>0.144984</td>\n",
       "      <td>0.962195</td>\n",
       "      <td>0.867749</td>\n",
       "      <td>0.016047</td>\n",
       "      <td>0.033589</td>\n",
       "      <td>0.964703</td>\n",
       "      <td>0.880786</td>\n",
       "      <td>20540.0</td>\n",
       "      <td>69170.0</td>\n",
       "    </tr>\n",
       "    <tr>\n",
       "      <th>0</th>\n",
       "      <td>12</td>\n",
       "      <td>df2a7d039164c2cc1a933f36285d4165</td>\n",
       "      <td>{\"cutoff\": \"quantile_0.25\", \"eval_fairness_gro...</td>\n",
       "      <td>199.488649</td>\n",
       "      <td>89710</td>\n",
       "      <td>1.0</td>\n",
       "      <td>0.208308</td>\n",
       "      <td>0.765146</td>\n",
       "      <td>0.185520</td>\n",
       "      <td>0.792259</td>\n",
       "      <td>...</td>\n",
       "      <td>NaN</td>\n",
       "      <td>NaN</td>\n",
       "      <td>NaN</td>\n",
       "      <td>NaN</td>\n",
       "      <td>NaN</td>\n",
       "      <td>NaN</td>\n",
       "      <td>NaN</td>\n",
       "      <td>NaN</td>\n",
       "      <td>NaN</td>\n",
       "      <td>NaN</td>\n",
       "    </tr>\n",
       "    <tr>\n",
       "      <th>0</th>\n",
       "      <td>12</td>\n",
       "      <td>df2a7d039164c2cc1a933f36285d4165</td>\n",
       "      <td>{\"cutoff\": \"quantile_0.25\", \"eval_fairness_gro...</td>\n",
       "      <td>199.488649</td>\n",
       "      <td>89710</td>\n",
       "      <td>1.0</td>\n",
       "      <td>0.208308</td>\n",
       "      <td>0.765146</td>\n",
       "      <td>0.185520</td>\n",
       "      <td>0.792259</td>\n",
       "      <td>...</td>\n",
       "      <td>0.121300</td>\n",
       "      <td>0.167535</td>\n",
       "      <td>0.886969</td>\n",
       "      <td>0.678661</td>\n",
       "      <td>0.060389</td>\n",
       "      <td>0.102954</td>\n",
       "      <td>0.893038</td>\n",
       "      <td>0.707518</td>\n",
       "      <td>20540.0</td>\n",
       "      <td>69170.0</td>\n",
       "    </tr>\n",
       "  </tbody>\n",
       "</table>\n",
       "<p>4 rows × 50 columns</p>\n",
       "</div>"
      ],
      "text/plain": [
       "  run_no                       universe_id  \\\n",
       "0     12  df2a7d039164c2cc1a933f36285d4165   \n",
       "0     12  df2a7d039164c2cc1a933f36285d4165   \n",
       "0     12  df2a7d039164c2cc1a933f36285d4165   \n",
       "0     12  df2a7d039164c2cc1a933f36285d4165   \n",
       "\n",
       "                                   universe_settings  execution_time  \\\n",
       "0  {\"cutoff\": \"quantile_0.1\", \"eval_fairness_grou...      199.488649   \n",
       "0  {\"cutoff\": \"quantile_0.1\", \"eval_fairness_grou...      199.488649   \n",
       "0  {\"cutoff\": \"quantile_0.25\", \"eval_fairness_gro...      199.488649   \n",
       "0  {\"cutoff\": \"quantile_0.25\", \"eval_fairness_gro...      199.488649   \n",
       "\n",
       "   test_size_n  test_size_frac  fair_main_equalized_odds_difference  \\\n",
       "0        89710             1.0                             0.094445   \n",
       "0        89710             1.0                             0.094445   \n",
       "0        89710             1.0                             0.208308   \n",
       "0        89710             1.0                             0.208308   \n",
       "\n",
       "   fair_main_equalized_odds_ratio  fair_main_demographic_parity_difference  \\\n",
       "0                        0.901844                                 0.083917   \n",
       "0                        0.901844                                 0.083917   \n",
       "0                        0.765146                                 0.185520   \n",
       "0                        0.765146                                 0.185520   \n",
       "\n",
       "   fair_main_demographic_parity_ratio  ...  perf_grp_precision_0  \\\n",
       "0                            0.913013  ...                   NaN   \n",
       "0                            0.913013  ...              0.117588   \n",
       "0                            0.792259  ...                   NaN   \n",
       "0                            0.792259  ...              0.121300   \n",
       "\n",
       "   perf_grp_precision_1  perf_grp_false positive rate_0  \\\n",
       "0                   NaN                             NaN   \n",
       "0              0.144984                        0.962195   \n",
       "0                   NaN                             NaN   \n",
       "0              0.167535                        0.886969   \n",
       "\n",
       "   perf_grp_false positive rate_1  perf_grp_false negative rate_0  \\\n",
       "0                             NaN                             NaN   \n",
       "0                        0.867749                        0.016047   \n",
       "0                             NaN                             NaN   \n",
       "0                        0.678661                        0.060389   \n",
       "\n",
       "   perf_grp_false negative rate_1  perf_grp_selection rate_0  \\\n",
       "0                             NaN                        NaN   \n",
       "0                        0.033589                   0.964703   \n",
       "0                             NaN                        NaN   \n",
       "0                        0.102954                   0.893038   \n",
       "\n",
       "   perf_grp_selection rate_1  perf_grp_count_0  perf_grp_count_1  \n",
       "0                        NaN               NaN               NaN  \n",
       "0                   0.880786           20540.0           69170.0  \n",
       "0                        NaN               NaN               NaN  \n",
       "0                   0.707518           20540.0           69170.0  \n",
       "\n",
       "[4 rows x 50 columns]"
      ]
     },
     "execution_count": 79,
     "metadata": {},
     "output_type": "execute_result"
    }
   ],
   "source": [
    "final_output = universe_analysis.generate_final_output(\n",
    "    y_pred_prob=probs_test,\n",
    "    y_test=y_true,\n",
    "    org_test=org_test,\n",
    "    filter_data=filter_sub_universe_data,\n",
    "    cp_metrics_df=cp_metrics_df,\n",
    "    save=True,\n",
    ")\n",
    "final_output"
   ]
  },
  {
   "cell_type": "code",
   "execution_count": null,
   "id": "721ff514-cb11-46f8-b6fc-50392f74b5cb",
   "metadata": {
    "papermill": {
     "duration": 0.027793,
     "end_time": "2025-07-30T13:22:39.143831",
     "exception": false,
     "start_time": "2025-07-30T13:22:39.116038",
     "status": "completed"
    },
    "tags": []
   },
   "outputs": [],
   "source": []
  }
 ],
 "metadata": {
  "celltoolbar": "Tags",
  "kernelspec": {
   "display_name": "Python (CMA Fairness)",
   "language": "python",
   "name": "cma_fair_env"
  },
  "language_info": {
   "codemirror_mode": {
    "name": "ipython",
    "version": 3
   },
   "file_extension": ".py",
   "mimetype": "text/x-python",
   "name": "python",
   "nbconvert_exporter": "python",
   "pygments_lexer": "ipython3",
   "version": "3.10.12"
  },
  "papermill": {
   "default_parameters": {},
   "duration": 214.903666,
   "end_time": "2025-07-30T13:22:39.990974",
   "environment_variables": {},
   "exception": null,
   "input_path": "universe_analysis.ipynb",
   "output_path": "output/runs/12/notebooks/m_12-df2a7d039164c2cc1a933f36285d4165.ipynb",
   "parameters": {
    "output_dir": "output",
    "run_no": "12",
    "seed": "2023",
    "universe": "{\"cutoff\": [\"quantile_0.1\", \"quantile_0.25\"], \"eval_fairness_grouping\": [\"majority-minority\", \"nationality-all\"], \"exclude_features\": \"nationality-sex\", \"exclude_subgroups\": \"drop-non-german\", \"model\": \"elasticnet\", \"scale\": \"do-not-scale\", \"training_size\": \"25k\", \"training_year\": \"2012_14\"}",
    "universe_id": "df2a7d039164c2cc1a933f36285d4165"
   },
   "start_time": "2025-07-30T13:19:05.087308",
   "version": "2.6.0"
  }
 },
 "nbformat": 4,
 "nbformat_minor": 5
}