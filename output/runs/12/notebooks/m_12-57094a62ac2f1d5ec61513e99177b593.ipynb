{
 "cells": [
  {
   "cell_type": "code",
   "execution_count": 1,
   "id": "f159f837-637b-42ba-96b5-ec9a68c44524",
   "metadata": {
    "execution": {
     "iopub.execute_input": "2025-07-30T13:40:49.906024Z",
     "iopub.status.busy": "2025-07-30T13:40:49.905373Z",
     "iopub.status.idle": "2025-07-30T13:40:49.918240Z",
     "shell.execute_reply": "2025-07-30T13:40:49.917200Z"
    },
    "papermill": {
     "duration": 0.034673,
     "end_time": "2025-07-30T13:40:49.919869",
     "exception": false,
     "start_time": "2025-07-30T13:40:49.885196",
     "status": "completed"
    },
    "tags": []
   },
   "outputs": [
    {
     "name": "stdout",
     "output_type": "stream",
     "text": [
      "/dss/dsshome1/0C/ra93lal2/cma/CMA_Fairness_v2\n"
     ]
    },
    {
     "name": "stderr",
     "output_type": "stream",
     "text": [
      "/dss/dsshome1/0C/ra93lal2/.local/share/virtualenvs/CMA_Fairness_v2-3j10GkSs/lib/python3.10/site-packages/IPython/core/magics/osm.py:393: UserWarning: This is now an optional IPython functionality, using bookmarks requires you to install the `pickleshare` library.\n",
      "  bkms = self.shell.db.get('bookmarks', {})\n",
      "/dss/dsshome1/0C/ra93lal2/.local/share/virtualenvs/CMA_Fairness_v2-3j10GkSs/lib/python3.10/site-packages/IPython/core/magics/osm.py:417: UserWarning: This is now an optional IPython functionality, setting dhist requires you to install the `pickleshare` library.\n",
      "  self.shell.db['dhist'] = compress_dhist(dhist)[-100:]\n"
     ]
    }
   ],
   "source": [
    "%cd ~/cma/CMA_Fairness_v2"
   ]
  },
  {
   "cell_type": "markdown",
   "id": "de2603b9",
   "metadata": {
    "papermill": {
     "duration": 0.018138,
     "end_time": "2025-07-30T13:40:49.957427",
     "exception": false,
     "start_time": "2025-07-30T13:40:49.939289",
     "status": "completed"
    },
    "tags": []
   },
   "source": [
    "The following cell holds the definition of our parameters, these values can be overriden by rendering the with e.g. the following command:\n",
    "\n",
    "papermill -p alpha 0.2 -p ratio 0.3 universe_analysis.ipynb output/test_run.ipynb"
   ]
  },
  {
   "cell_type": "code",
   "execution_count": 2,
   "id": "a80968a0-40bb-4fa9-85ef-2d5eefb01975",
   "metadata": {
    "execution": {
     "iopub.execute_input": "2025-07-30T13:40:49.994577Z",
     "iopub.status.busy": "2025-07-30T13:40:49.993922Z",
     "iopub.status.idle": "2025-07-30T13:40:50.000604Z",
     "shell.execute_reply": "2025-07-30T13:40:49.999585Z"
    },
    "papermill": {
     "duration": 0.027084,
     "end_time": "2025-07-30T13:40:50.002136",
     "exception": false,
     "start_time": "2025-07-30T13:40:49.975052",
     "status": "completed"
    },
    "tags": []
   },
   "outputs": [
    {
     "name": "stdout",
     "output_type": "stream",
     "text": [
      "Current working directory: /dss/dsshome1/0C/ra93lal2/cma/CMA_Fairness_v2\n"
     ]
    }
   ],
   "source": [
    "import os\n",
    "print(\"Current working directory:\", os.getcwd())"
   ]
  },
  {
   "cell_type": "code",
   "execution_count": 3,
   "id": "2dce4c03",
   "metadata": {
    "execution": {
     "iopub.execute_input": "2025-07-30T13:40:50.040208Z",
     "iopub.status.busy": "2025-07-30T13:40:50.039593Z",
     "iopub.status.idle": "2025-07-30T13:40:50.046211Z",
     "shell.execute_reply": "2025-07-30T13:40:50.045200Z"
    },
    "papermill": {
     "duration": 0.027221,
     "end_time": "2025-07-30T13:40:50.048101",
     "exception": false,
     "start_time": "2025-07-30T13:40:50.020880",
     "status": "completed"
    },
    "tags": [
     "parameters"
    ]
   },
   "outputs": [],
   "source": [
    "run_no = 0\n",
    "universe_id = \"test\"\n",
    "universe = {\n",
    "    \"training_size\": \"25k\", # \"25k\", \"5k\", \"1k\"\n",
    "    \"training_year\": \"2014\", # \"2014\", \"2012_14\", \"2010_14\"\n",
    "    \"scale\": \"scale\", # \"scale\", \"do-not-scale\",\n",
    "    #\"stratify_split\": \"target\", # \"none\", \"target\", \"protected-attribute\", \"both\",\n",
    "    \"model\": \"elasticnet\", # \"logreg\", \"penalized_logreg\", \"rf\", \"gbm\", \"elasticnet\"\n",
    "    \"cutoff\": [\"quantile_0.15\", \"quantile_0.30\"],\n",
    "    \"exclude_features\": \"age\", # \"none\", \"nationality\", \"sex\", \"nationality-sex\", \"age\"\n",
    "    \"exclude_subgroups\": \"keep-all\", # \"keep-all\", \"drop-non-german\"\n",
    "    \"eval_fairness_grouping\": [\"majority-minority\", \"nationality-all\"]\n",
    "}\n",
    "\n",
    "output_dir=\"./output\"\n",
    "seed=0"
   ]
  },
  {
   "cell_type": "code",
   "execution_count": 4,
   "id": "d7eb7f74",
   "metadata": {
    "execution": {
     "iopub.execute_input": "2025-07-30T13:40:50.086796Z",
     "iopub.status.busy": "2025-07-30T13:40:50.086200Z",
     "iopub.status.idle": "2025-07-30T13:40:50.091375Z",
     "shell.execute_reply": "2025-07-30T13:40:50.090499Z"
    },
    "papermill": {
     "duration": 0.025658,
     "end_time": "2025-07-30T13:40:50.092962",
     "exception": false,
     "start_time": "2025-07-30T13:40:50.067304",
     "status": "completed"
    },
    "tags": [
     "injected-parameters"
    ]
   },
   "outputs": [],
   "source": [
    "# Parameters\n",
    "universe_id = \"57094a62ac2f1d5ec61513e99177b593\"\n",
    "run_no = \"12\"\n",
    "universe = \"{\\\"cutoff\\\": [\\\"quantile_0.1\\\", \\\"quantile_0.25\\\"], \\\"eval_fairness_grouping\\\": [\\\"majority-minority\\\", \\\"nationality-all\\\"], \\\"exclude_features\\\": \\\"none\\\", \\\"exclude_subgroups\\\": \\\"keep-all\\\", \\\"model\\\": \\\"penalized_logreg\\\", \\\"scale\\\": \\\"scale\\\", \\\"training_size\\\": \\\"5k\\\", \\\"training_year\\\": \\\"2014\\\"}\"\n",
    "output_dir = \"output\"\n",
    "seed = \"2023\"\n"
   ]
  },
  {
   "cell_type": "code",
   "execution_count": 5,
   "id": "1650acaf",
   "metadata": {
    "execution": {
     "iopub.execute_input": "2025-07-30T13:40:50.131807Z",
     "iopub.status.busy": "2025-07-30T13:40:50.131212Z",
     "iopub.status.idle": "2025-07-30T13:40:50.136495Z",
     "shell.execute_reply": "2025-07-30T13:40:50.135524Z"
    },
    "papermill": {
     "duration": 0.025807,
     "end_time": "2025-07-30T13:40:50.138065",
     "exception": false,
     "start_time": "2025-07-30T13:40:50.112258",
     "status": "completed"
    },
    "tags": []
   },
   "outputs": [],
   "source": [
    "import json\n",
    "# Parse universe into dict if it is passed as a string\n",
    "if isinstance(universe, str):\n",
    "    universe = json.loads(universe)"
   ]
  },
  {
   "cell_type": "code",
   "execution_count": 6,
   "id": "16620c48",
   "metadata": {
    "execution": {
     "iopub.execute_input": "2025-07-30T13:40:50.177311Z",
     "iopub.status.busy": "2025-07-30T13:40:50.176710Z",
     "iopub.status.idle": "2025-07-30T13:40:50.219805Z",
     "shell.execute_reply": "2025-07-30T13:40:50.218967Z"
    },
    "papermill": {
     "duration": 0.063834,
     "end_time": "2025-07-30T13:40:50.221460",
     "exception": false,
     "start_time": "2025-07-30T13:40:50.157626",
     "status": "completed"
    },
    "tags": []
   },
   "outputs": [],
   "source": [
    "# Auto-reload the custom package\n",
    "%load_ext autoreload\n",
    "%autoreload 1\n",
    "%aimport fairness_multiverse"
   ]
  },
  {
   "cell_type": "code",
   "execution_count": 7,
   "id": "01c5c9f3",
   "metadata": {
    "execution": {
     "iopub.execute_input": "2025-07-30T13:40:50.260255Z",
     "iopub.status.busy": "2025-07-30T13:40:50.259648Z",
     "iopub.status.idle": "2025-07-30T13:40:52.127022Z",
     "shell.execute_reply": "2025-07-30T13:40:52.126138Z"
    },
    "papermill": {
     "duration": 1.888445,
     "end_time": "2025-07-30T13:40:52.128872",
     "exception": false,
     "start_time": "2025-07-30T13:40:50.240427",
     "status": "completed"
    },
    "tags": []
   },
   "outputs": [],
   "source": [
    "from fairness_multiverse.universe import UniverseAnalysis\n",
    "\n",
    "universe_analysis = UniverseAnalysis(\n",
    "    run_no = run_no,\n",
    "    universe_id = universe_id,\n",
    "    universe = universe,\n",
    "    output_dir=output_dir,\n",
    ")"
   ]
  },
  {
   "cell_type": "code",
   "execution_count": 8,
   "id": "106241f5",
   "metadata": {
    "execution": {
     "iopub.execute_input": "2025-07-30T13:40:52.169894Z",
     "iopub.status.busy": "2025-07-30T13:40:52.169409Z",
     "iopub.status.idle": "2025-07-30T13:40:52.175604Z",
     "shell.execute_reply": "2025-07-30T13:40:52.174767Z"
    },
    "papermill": {
     "duration": 0.027242,
     "end_time": "2025-07-30T13:40:52.177266",
     "exception": false,
     "start_time": "2025-07-30T13:40:52.150024",
     "status": "completed"
    },
    "tags": []
   },
   "outputs": [
    {
     "name": "stdout",
     "output_type": "stream",
     "text": [
      "Using Seed: 2023\n"
     ]
    }
   ],
   "source": [
    "import numpy as np\n",
    "parsed_seed = int(seed)\n",
    "np.random.seed(parsed_seed)\n",
    "print(f\"Using Seed: {parsed_seed}\")"
   ]
  },
  {
   "cell_type": "markdown",
   "id": "e0ebdc57",
   "metadata": {
    "papermill": {
     "duration": 0.017976,
     "end_time": "2025-07-30T13:40:52.214925",
     "exception": false,
     "start_time": "2025-07-30T13:40:52.196949",
     "status": "completed"
    },
    "tags": []
   },
   "source": [
    "# Loading Data"
   ]
  },
  {
   "cell_type": "markdown",
   "id": "681925a3",
   "metadata": {
    "papermill": {
     "duration": 0.018283,
     "end_time": "2025-07-30T13:40:52.251845",
     "exception": false,
     "start_time": "2025-07-30T13:40:52.233562",
     "status": "completed"
    },
    "tags": []
   },
   "source": [
    "Load siab_train, siab_test, siab_calib and/or \n",
    "load siab_train_features, siab_train_labels"
   ]
  },
  {
   "cell_type": "code",
   "execution_count": 9,
   "id": "f0496b8a",
   "metadata": {
    "execution": {
     "iopub.execute_input": "2025-07-30T13:40:52.290342Z",
     "iopub.status.busy": "2025-07-30T13:40:52.289708Z",
     "iopub.status.idle": "2025-07-30T13:41:04.327747Z",
     "shell.execute_reply": "2025-07-30T13:41:04.326576Z"
    },
    "papermill": {
     "duration": 12.059103,
     "end_time": "2025-07-30T13:41:04.329343",
     "exception": false,
     "start_time": "2025-07-30T13:40:52.270240",
     "status": "completed"
    },
    "tags": []
   },
   "outputs": [
    {
     "name": "stdout",
     "output_type": "stream",
     "text": [
      "Loading SIAB data from cache: data/siab_cached.csv.gz\n"
     ]
    },
    {
     "name": "stdout",
     "output_type": "stream",
     "text": [
      "(643690, 164)\n"
     ]
    }
   ],
   "source": [
    "from pathlib import Path\n",
    "import pandas as pd\n",
    "\n",
    "# File paths\n",
    "raw_file = Path(\"data/raw/siab.csv\")\n",
    "cache_file = Path(\"data/siab_cached.csv.gz\")\n",
    "\n",
    "# Ensure cache directory exists\n",
    "cache_file.parent.mkdir(parents=True, exist_ok=True)\n",
    "\n",
    "# Load with simple caching\n",
    "if cache_file.exists():\n",
    "    print(f\"Loading SIAB data from cache: {cache_file}\")\n",
    "    siab = pd.read_csv(cache_file, compression='gzip')\n",
    "else:\n",
    "    print(f\"Cache not found. Reading raw SIAB data: {raw_file}\")\n",
    "    siab = pd.read_csv(raw_file)\n",
    "    siab.to_csv(cache_file, index=False, compression='gzip')\n",
    "    print(f\"Cached SIAB data to: {cache_file}\")\n",
    "\n",
    "# Now use `siab` DataFrame as needed\n",
    "print(siab.shape)"
   ]
  },
  {
   "cell_type": "code",
   "execution_count": 10,
   "id": "db0ca512-5f53-4dba-abdb-a2888bca41ba",
   "metadata": {
    "execution": {
     "iopub.execute_input": "2025-07-30T13:41:04.371840Z",
     "iopub.status.busy": "2025-07-30T13:41:04.371355Z",
     "iopub.status.idle": "2025-07-30T13:41:04.390255Z",
     "shell.execute_reply": "2025-07-30T13:41:04.389117Z"
    },
    "papermill": {
     "duration": 0.040897,
     "end_time": "2025-07-30T13:41:04.392099",
     "exception": false,
     "start_time": "2025-07-30T13:41:04.351202",
     "status": "completed"
    },
    "tags": []
   },
   "outputs": [],
   "source": [
    "#siab"
   ]
  },
  {
   "cell_type": "code",
   "execution_count": 11,
   "id": "a0edb063",
   "metadata": {
    "execution": {
     "iopub.execute_input": "2025-07-30T13:41:04.434043Z",
     "iopub.status.busy": "2025-07-30T13:41:04.433546Z",
     "iopub.status.idle": "2025-07-30T13:41:04.438556Z",
     "shell.execute_reply": "2025-07-30T13:41:04.437482Z"
    },
    "papermill": {
     "duration": 0.028172,
     "end_time": "2025-07-30T13:41:04.440323",
     "exception": false,
     "start_time": "2025-07-30T13:41:04.412151",
     "status": "completed"
    },
    "tags": []
   },
   "outputs": [],
   "source": [
    "#import pandas as pd\n",
    "#\n",
    "#X_train = pd.read_csv(\"./data/X_train.csv\")\n",
    "#y_train = pd.read_csv(\"./data/y_train.csv\")"
   ]
  },
  {
   "cell_type": "code",
   "execution_count": 12,
   "id": "63d08085",
   "metadata": {
    "execution": {
     "iopub.execute_input": "2025-07-30T13:41:04.481950Z",
     "iopub.status.busy": "2025-07-30T13:41:04.481320Z",
     "iopub.status.idle": "2025-07-30T13:41:04.486382Z",
     "shell.execute_reply": "2025-07-30T13:41:04.485491Z"
    },
    "papermill": {
     "duration": 0.027315,
     "end_time": "2025-07-30T13:41:04.488140",
     "exception": false,
     "start_time": "2025-07-30T13:41:04.460825",
     "status": "completed"
    },
    "tags": []
   },
   "outputs": [],
   "source": [
    "#X_test = pd.read_csv(\"./data/X_test.csv\")\n",
    "#y_true = pd.read_csv(\"./data/y_test.csv\")"
   ]
  },
  {
   "cell_type": "code",
   "execution_count": 13,
   "id": "98a8d0fa-1d3d-4ed8-bb2c-281470e24add",
   "metadata": {
    "execution": {
     "iopub.execute_input": "2025-07-30T13:41:04.531054Z",
     "iopub.status.busy": "2025-07-30T13:41:04.530040Z",
     "iopub.status.idle": "2025-07-30T13:41:04.535568Z",
     "shell.execute_reply": "2025-07-30T13:41:04.534535Z"
    },
    "papermill": {
     "duration": 0.028863,
     "end_time": "2025-07-30T13:41:04.537519",
     "exception": false,
     "start_time": "2025-07-30T13:41:04.508656",
     "status": "completed"
    },
    "tags": []
   },
   "outputs": [],
   "source": [
    "# Calibration data for conformal\n",
    "#X_calib = pd.read_csv(\"./data/X_calib.csv\")\n",
    "#y_calib = pd.read_csv(\"./data/y_calib.csv\")"
   ]
  },
  {
   "cell_type": "markdown",
   "id": "997051c5-15bd-4b69-9786-c3001a3ce484",
   "metadata": {
    "papermill": {
     "duration": 0.019016,
     "end_time": "2025-07-30T13:41:04.577605",
     "exception": false,
     "start_time": "2025-07-30T13:41:04.558589",
     "status": "completed"
    },
    "tags": []
   },
   "source": [
    "# Splitting Data and Setting Training Data Size"
   ]
  },
  {
   "cell_type": "code",
   "execution_count": 14,
   "id": "e993b61f-042d-41a6-8c81-f55681f86335",
   "metadata": {
    "execution": {
     "iopub.execute_input": "2025-07-30T13:41:04.616793Z",
     "iopub.status.busy": "2025-07-30T13:41:04.616149Z",
     "iopub.status.idle": "2025-07-30T13:41:04.629106Z",
     "shell.execute_reply": "2025-07-30T13:41:04.628086Z"
    },
    "papermill": {
     "duration": 0.034275,
     "end_time": "2025-07-30T13:41:04.630621",
     "exception": false,
     "start_time": "2025-07-30T13:41:04.596346",
     "status": "completed"
    },
    "tags": []
   },
   "outputs": [],
   "source": [
    "def sample_by_year_size(df,\n",
    "                        training_year: str,\n",
    "                        training_size: str,\n",
    "                        random_state: int = 42):\n",
    "    # --- parse training_year into a list of int years ---\n",
    "    if \"_\" in training_year:\n",
    "        start_str, end_str = training_year.split(\"_\", 1)\n",
    "        start = int(start_str)\n",
    "        end   = int(end_str) if len(end_str) == 4 else (int(end_str) + (start // 100)*100)\n",
    "        years = list(range(start, end + 1))\n",
    "    else:\n",
    "        years = [int(training_year)]\n",
    "\n",
    "    df = df[df[\"year\"].isin(years)].reset_index(drop=True)\n",
    "\n",
    "    # --- map training_size to total number of samples ---\n",
    "    total_map = {\"25k\": 25_000, \"5k\": 5_000, \"1k\": 1_000}\n",
    "    if training_size not in total_map:\n",
    "        return df  # e.g. \"all\"\n",
    "\n",
    "    total_samples = total_map[training_size]\n",
    "    n_years       = len(years)\n",
    "    base          = total_samples // n_years\n",
    "    remainder     = total_samples % n_years\n",
    "\n",
    "    # --- build a dict: year -> how many to sample ---\n",
    "    # give +1 to the first `remainder` years in ascending order\n",
    "    quotas = {\n",
    "        year: base + (1 if idx < remainder else 0)\n",
    "        for idx, year in enumerate(sorted(years))\n",
    "    }\n",
    "\n",
    "    # --- sample per‐year according to the quota dict ---\n",
    "    sampled = (\n",
    "        df\n",
    "        .groupby(\"year\", group_keys=False)\n",
    "        .apply(lambda grp: grp.sample(\n",
    "            n=min(len(grp), quotas[grp.name]),\n",
    "            random_state=random_state))\n",
    "        .reset_index(drop=True)\n",
    "    )\n",
    "\n",
    "    return sampled"
   ]
  },
  {
   "cell_type": "code",
   "execution_count": 15,
   "id": "c0ccd338-0e02-41f3-a09d-f56f9266e3fb",
   "metadata": {
    "execution": {
     "iopub.execute_input": "2025-07-30T13:41:04.671751Z",
     "iopub.status.busy": "2025-07-30T13:41:04.671126Z",
     "iopub.status.idle": "2025-07-30T13:41:04.682288Z",
     "shell.execute_reply": "2025-07-30T13:41:04.681384Z"
    },
    "papermill": {
     "duration": 0.032677,
     "end_time": "2025-07-30T13:41:04.683823",
     "exception": false,
     "start_time": "2025-07-30T13:41:04.651146",
     "status": "completed"
    },
    "tags": []
   },
   "outputs": [
    {
     "data": {
      "text/plain": [
       "'5k'"
      ]
     },
     "execution_count": 15,
     "metadata": {},
     "output_type": "execute_result"
    }
   ],
   "source": [
    "universe[\"training_size\"]"
   ]
  },
  {
   "cell_type": "code",
   "execution_count": 16,
   "id": "ca707fd7-8047-4acd-bfa5-66248fbbf8e6",
   "metadata": {
    "execution": {
     "iopub.execute_input": "2025-07-30T13:41:04.724923Z",
     "iopub.status.busy": "2025-07-30T13:41:04.724347Z",
     "iopub.status.idle": "2025-07-30T13:41:04.731350Z",
     "shell.execute_reply": "2025-07-30T13:41:04.730478Z"
    },
    "papermill": {
     "duration": 0.028741,
     "end_time": "2025-07-30T13:41:04.732980",
     "exception": false,
     "start_time": "2025-07-30T13:41:04.704239",
     "status": "completed"
    },
    "tags": []
   },
   "outputs": [
    {
     "data": {
      "text/plain": [
       "'2014'"
      ]
     },
     "execution_count": 16,
     "metadata": {},
     "output_type": "execute_result"
    }
   ],
   "source": [
    "universe[\"training_year\"]"
   ]
  },
  {
   "cell_type": "code",
   "execution_count": 17,
   "id": "aea9c6ef-6f46-42c8-85eb-5a62025c1508",
   "metadata": {
    "execution": {
     "iopub.execute_input": "2025-07-30T13:41:04.774851Z",
     "iopub.status.busy": "2025-07-30T13:41:04.774264Z",
     "iopub.status.idle": "2025-07-30T13:41:05.031733Z",
     "shell.execute_reply": "2025-07-30T13:41:05.030838Z"
    },
    "papermill": {
     "duration": 0.280232,
     "end_time": "2025-07-30T13:41:05.033668",
     "exception": false,
     "start_time": "2025-07-30T13:41:04.753436",
     "status": "completed"
    },
    "tags": []
   },
   "outputs": [],
   "source": [
    "siab_train = sample_by_year_size(siab,\n",
    "                               training_year=universe[\"training_year\"],\n",
    "                               training_size=universe[\"training_size\"])"
   ]
  },
  {
   "cell_type": "code",
   "execution_count": 18,
   "id": "8d3afb32-789d-442c-8d5d-9f5aa8dd2eed",
   "metadata": {
    "execution": {
     "iopub.execute_input": "2025-07-30T13:41:05.074716Z",
     "iopub.status.busy": "2025-07-30T13:41:05.074084Z",
     "iopub.status.idle": "2025-07-30T13:41:05.081043Z",
     "shell.execute_reply": "2025-07-30T13:41:05.080174Z"
    },
    "papermill": {
     "duration": 0.028735,
     "end_time": "2025-07-30T13:41:05.082592",
     "exception": false,
     "start_time": "2025-07-30T13:41:05.053857",
     "status": "completed"
    },
    "tags": []
   },
   "outputs": [
    {
     "data": {
      "text/plain": [
       "(5000, 164)"
      ]
     },
     "execution_count": 18,
     "metadata": {},
     "output_type": "execute_result"
    }
   ],
   "source": [
    "siab_train.shape"
   ]
  },
  {
   "cell_type": "code",
   "execution_count": 19,
   "id": "d582db68-1a4c-47fb-84fc-08518dc1975a",
   "metadata": {
    "execution": {
     "iopub.execute_input": "2025-07-30T13:41:05.124497Z",
     "iopub.status.busy": "2025-07-30T13:41:05.124102Z",
     "iopub.status.idle": "2025-07-30T13:41:05.133589Z",
     "shell.execute_reply": "2025-07-30T13:41:05.132737Z"
    },
    "papermill": {
     "duration": 0.032125,
     "end_time": "2025-07-30T13:41:05.135300",
     "exception": false,
     "start_time": "2025-07-30T13:41:05.103175",
     "status": "completed"
    },
    "tags": []
   },
   "outputs": [
    {
     "data": {
      "text/plain": [
       "year\n",
       "2014    5000\n",
       "dtype: int64"
      ]
     },
     "metadata": {},
     "output_type": "display_data"
    }
   ],
   "source": [
    "display(siab_train.groupby(\"year\").size())"
   ]
  },
  {
   "cell_type": "code",
   "execution_count": 20,
   "id": "a561edb4-d032-42cb-8256-22eac1111c64",
   "metadata": {
    "execution": {
     "iopub.execute_input": "2025-07-30T13:41:05.177297Z",
     "iopub.status.busy": "2025-07-30T13:41:05.176658Z",
     "iopub.status.idle": "2025-07-30T13:41:05.402148Z",
     "shell.execute_reply": "2025-07-30T13:41:05.401279Z"
    },
    "papermill": {
     "duration": 0.247987,
     "end_time": "2025-07-30T13:41:05.403999",
     "exception": false,
     "start_time": "2025-07-30T13:41:05.156012",
     "status": "completed"
    },
    "tags": []
   },
   "outputs": [],
   "source": [
    "#siab_train = siab_s[siab_s.year < 2015]\n",
    "siab_calib = siab[siab.year == 2015]\n",
    "siab_test = siab[siab.year == 2016]"
   ]
  },
  {
   "cell_type": "code",
   "execution_count": 21,
   "id": "472de16f-c3db-4916-846b-1f0de9cf1746",
   "metadata": {
    "execution": {
     "iopub.execute_input": "2025-07-30T13:41:05.460929Z",
     "iopub.status.busy": "2025-07-30T13:41:05.460099Z",
     "iopub.status.idle": "2025-07-30T13:41:05.468678Z",
     "shell.execute_reply": "2025-07-30T13:41:05.467715Z"
    },
    "papermill": {
     "duration": 0.033316,
     "end_time": "2025-07-30T13:41:05.470325",
     "exception": false,
     "start_time": "2025-07-30T13:41:05.437009",
     "status": "completed"
    },
    "tags": []
   },
   "outputs": [],
   "source": [
    "X_train = siab_train.iloc[:,4:164]\n",
    "y_train = siab_train.iloc[:, [3]]"
   ]
  },
  {
   "cell_type": "code",
   "execution_count": 22,
   "id": "828c96af-f43a-4ed6-ba47-8ac73a47d56c",
   "metadata": {
    "execution": {
     "iopub.execute_input": "2025-07-30T13:41:05.514078Z",
     "iopub.status.busy": "2025-07-30T13:41:05.513418Z",
     "iopub.status.idle": "2025-07-30T13:41:05.563804Z",
     "shell.execute_reply": "2025-07-30T13:41:05.562546Z"
    },
    "papermill": {
     "duration": 0.073309,
     "end_time": "2025-07-30T13:41:05.565451",
     "exception": false,
     "start_time": "2025-07-30T13:41:05.492142",
     "status": "completed"
    },
    "tags": []
   },
   "outputs": [],
   "source": [
    "X_calib = siab_calib.iloc[:,4:164]\n",
    "y_calib = siab_calib.iloc[:, [3]]"
   ]
  },
  {
   "cell_type": "code",
   "execution_count": 23,
   "id": "c34be9c3-6bd6-476e-acd3-845840e303be",
   "metadata": {
    "execution": {
     "iopub.execute_input": "2025-07-30T13:41:05.609004Z",
     "iopub.status.busy": "2025-07-30T13:41:05.607998Z",
     "iopub.status.idle": "2025-07-30T13:41:05.660121Z",
     "shell.execute_reply": "2025-07-30T13:41:05.658999Z"
    },
    "papermill": {
     "duration": 0.07529,
     "end_time": "2025-07-30T13:41:05.662209",
     "exception": false,
     "start_time": "2025-07-30T13:41:05.586919",
     "status": "completed"
    },
    "tags": []
   },
   "outputs": [],
   "source": [
    "X_test = siab_test.iloc[:,4:164]\n",
    "y_true = siab_test.iloc[:, [3]]"
   ]
  },
  {
   "cell_type": "markdown",
   "id": "9901737e-04df-44f0-9100-f5ad144ed040",
   "metadata": {
    "papermill": {
     "duration": 0.020655,
     "end_time": "2025-07-30T13:41:05.704734",
     "exception": false,
     "start_time": "2025-07-30T13:41:05.684079",
     "status": "completed"
    },
    "tags": []
   },
   "source": [
    "# Splitting Data and Setting Training Data Size OLD VERSION"
   ]
  },
  {
   "cell_type": "code",
   "execution_count": 24,
   "id": "acbc8f7d-8fc8-4e86-8c59-5dcb0f58384b",
   "metadata": {
    "execution": {
     "iopub.execute_input": "2025-07-30T13:41:05.746967Z",
     "iopub.status.busy": "2025-07-30T13:41:05.746329Z",
     "iopub.status.idle": "2025-07-30T13:41:05.751867Z",
     "shell.execute_reply": "2025-07-30T13:41:05.750804Z"
    },
    "papermill": {
     "duration": 0.028392,
     "end_time": "2025-07-30T13:41:05.753609",
     "exception": false,
     "start_time": "2025-07-30T13:41:05.725217",
     "status": "completed"
    },
    "tags": []
   },
   "outputs": [],
   "source": [
    "#def sample_by_year(df, training_size, random_state=42):\n",
    "#    if training_size == \"2014\":\n",
    "#        return df[df[\"year\"] == 2014].reset_index(drop=True)\n",
    "#    \n",
    "#    size_map = {\n",
    "#        \"25k\": 5000,\n",
    "#        \"5k\": 1000,\n",
    "#        \"1k\": 200\n",
    "#    }\n",
    "#\n",
    "#    if training_size not in size_map:\n",
    "#        return df.reset_index(drop=True)  # use all data\n",
    "#\n",
    "#    n_per_year = size_map[training_size]\n",
    "#    grouped = df.groupby(\"year\")\n",
    "#    sampled = grouped.apply(lambda x: x.sample(n=min(n_per_year, len(x)), random_state=random_state))\n",
    "#    return sampled.reset_index(drop=True)"
   ]
  },
  {
   "cell_type": "code",
   "execution_count": 25,
   "id": "6d931f52-beaf-43ff-9e78-9d44a448d54e",
   "metadata": {
    "execution": {
     "iopub.execute_input": "2025-07-30T13:41:05.801067Z",
     "iopub.status.busy": "2025-07-30T13:41:05.800407Z",
     "iopub.status.idle": "2025-07-30T13:41:05.805657Z",
     "shell.execute_reply": "2025-07-30T13:41:05.804744Z"
    },
    "papermill": {
     "duration": 0.030122,
     "end_time": "2025-07-30T13:41:05.807365",
     "exception": false,
     "start_time": "2025-07-30T13:41:05.777243",
     "status": "completed"
    },
    "tags": []
   },
   "outputs": [],
   "source": [
    "#siab_s = sample_by_year(siab, universe[\"training_size\"])"
   ]
  },
  {
   "cell_type": "code",
   "execution_count": 26,
   "id": "5db0a40e-a4e2-4920-be85-b12ae061d70d",
   "metadata": {
    "execution": {
     "iopub.execute_input": "2025-07-30T13:41:05.853769Z",
     "iopub.status.busy": "2025-07-30T13:41:05.853122Z",
     "iopub.status.idle": "2025-07-30T13:41:05.858511Z",
     "shell.execute_reply": "2025-07-30T13:41:05.857584Z"
    },
    "papermill": {
     "duration": 0.030186,
     "end_time": "2025-07-30T13:41:05.860178",
     "exception": false,
     "start_time": "2025-07-30T13:41:05.829992",
     "status": "completed"
    },
    "tags": []
   },
   "outputs": [],
   "source": [
    "#display(siab_s.groupby(\"year\").size())"
   ]
  },
  {
   "cell_type": "code",
   "execution_count": 27,
   "id": "e6c733c5",
   "metadata": {
    "execution": {
     "iopub.execute_input": "2025-07-30T13:41:05.905838Z",
     "iopub.status.busy": "2025-07-30T13:41:05.905180Z",
     "iopub.status.idle": "2025-07-30T13:41:05.999286Z",
     "shell.execute_reply": "2025-07-30T13:41:05.998243Z"
    },
    "papermill": {
     "duration": 0.118707,
     "end_time": "2025-07-30T13:41:06.001394",
     "exception": false,
     "start_time": "2025-07-30T13:41:05.882687",
     "status": "completed"
    },
    "tags": []
   },
   "outputs": [],
   "source": [
    "# Auxiliary data needed downstream in the pipeline\n",
    "\n",
    "org_train = X_train.copy()\n",
    "org_test = X_test.copy()\n",
    "org_calib = X_calib.copy()"
   ]
  },
  {
   "cell_type": "code",
   "execution_count": 28,
   "id": "1466abac-c6da-4492-a62f-4240ae3783af",
   "metadata": {
    "execution": {
     "iopub.execute_input": "2025-07-30T13:41:06.045891Z",
     "iopub.status.busy": "2025-07-30T13:41:06.045000Z",
     "iopub.status.idle": "2025-07-30T13:41:06.051136Z",
     "shell.execute_reply": "2025-07-30T13:41:06.050233Z"
    },
    "papermill": {
     "duration": 0.029153,
     "end_time": "2025-07-30T13:41:06.052723",
     "exception": false,
     "start_time": "2025-07-30T13:41:06.023570",
     "status": "completed"
    },
    "tags": []
   },
   "outputs": [],
   "source": [
    "# put in other script?\n",
    "# Group sizes\n",
    "\n",
    "#def calculate_percentages(df, df_name):\n",
    "#    total_entries = len(df)\n",
    "#\n",
    "#    female_pct = (df['frau1'] == 1).mean() * 100\n",
    "#    non_german_pct = ((df['maxdeutsch1'] == 0) & (df['maxdeutsch.Missing.'] == 0)).mean() * 100\n",
    "#    non_german_male_pct = ((df['frau1'] == 0) & (df['maxdeutsch1'] == 0) & (df['maxdeutsch.Missing.'] == 0)).mean() * 100\n",
    "#    non_german_female_pct = ((df['frau1'] == 1) & (df['maxdeutsch1'] == 0) & (df['maxdeutsch.Missing.'] == 0)).mean() * 100\n",
    "#\n",
    "#    print(f\"--- {df_name} ---\")\n",
    "#    print(f\"Female: {female_pct:.2f}%\")\n",
    "#    print(f\"Non-German: {non_german_pct:.2f}%\")\n",
    "#    print(f\"Non-German Male: {non_german_male_pct:.2f}%\")\n",
    "#    print(f\"Non-German Female: {non_german_female_pct:.2f}%\\n\")\n",
    "#\n",
    "## Calculate for each DataFrame\n",
    "#calculate_percentages(siab_calib, \"siab_calib\")\n",
    "#calculate_percentages(siab_test, \"siab_test\")\n",
    "#calculate_percentages(siab_train, \"siab_train\")"
   ]
  },
  {
   "cell_type": "markdown",
   "id": "0a4a1b33",
   "metadata": {
    "papermill": {
     "duration": 0.021344,
     "end_time": "2025-07-30T13:41:06.097040",
     "exception": false,
     "start_time": "2025-07-30T13:41:06.075696",
     "status": "completed"
    },
    "tags": []
   },
   "source": [
    "# Preprocessing Data"
   ]
  },
  {
   "cell_type": "code",
   "execution_count": 29,
   "id": "ca879031",
   "metadata": {
    "execution": {
     "iopub.execute_input": "2025-07-30T13:41:06.143687Z",
     "iopub.status.busy": "2025-07-30T13:41:06.143022Z",
     "iopub.status.idle": "2025-07-30T13:41:06.148982Z",
     "shell.execute_reply": "2025-07-30T13:41:06.148067Z"
    },
    "papermill": {
     "duration": 0.031024,
     "end_time": "2025-07-30T13:41:06.150627",
     "exception": false,
     "start_time": "2025-07-30T13:41:06.119603",
     "status": "completed"
    },
    "tags": []
   },
   "outputs": [],
   "source": [
    "# EXCLUDE PROTECTED FEATURES\n",
    "# ----------------------\n",
    "# \"exclude_features\": \"none\", # \"nationality\", \"sex\", \"nationality-sex\"\n",
    "\n",
    "excluded_features = universe[\"exclude_features\"].split(\"-\") # split, e.g.: \"nationality-sex\" -> [\"nationality\", \"sex\"]\n",
    "excluded_features_dictionary = {\n",
    "    \"nationality\": [\"maxdeutsch1\", \"maxdeutsch.Missing.\"],\n",
    "    \"sex\": [\"frau1\"],\n",
    "    \"age\": [\"age\"],\n",
    "}\n"
   ]
  },
  {
   "cell_type": "code",
   "execution_count": 30,
   "id": "b745ac60",
   "metadata": {
    "execution": {
     "iopub.execute_input": "2025-07-30T13:41:06.198765Z",
     "iopub.status.busy": "2025-07-30T13:41:06.197948Z",
     "iopub.status.idle": "2025-07-30T13:41:06.213132Z",
     "shell.execute_reply": "2025-07-30T13:41:06.212123Z"
    },
    "papermill": {
     "duration": 0.040788,
     "end_time": "2025-07-30T13:41:06.214973",
     "exception": false,
     "start_time": "2025-07-30T13:41:06.174185",
     "status": "completed"
    },
    "tags": []
   },
   "outputs": [],
   "source": [
    "# Code nice names to column names\n",
    "\n",
    "excluded_features_columns = [\n",
    "    excluded_features_dictionary[f] for f in excluded_features if len(f) > 0 and f != \"none\"\n",
    "]"
   ]
  },
  {
   "cell_type": "code",
   "execution_count": 31,
   "id": "f84f73a2",
   "metadata": {
    "execution": {
     "iopub.execute_input": "2025-07-30T13:41:06.262715Z",
     "iopub.status.busy": "2025-07-30T13:41:06.262254Z",
     "iopub.status.idle": "2025-07-30T13:41:06.269303Z",
     "shell.execute_reply": "2025-07-30T13:41:06.268605Z"
    },
    "papermill": {
     "duration": 0.031865,
     "end_time": "2025-07-30T13:41:06.270619",
     "exception": false,
     "start_time": "2025-07-30T13:41:06.238754",
     "status": "completed"
    },
    "tags": []
   },
   "outputs": [],
   "source": [
    "from utils import flatten_once\n",
    "\n",
    "excluded_features_columns = flatten_once(excluded_features_columns)"
   ]
  },
  {
   "cell_type": "code",
   "execution_count": 32,
   "id": "884dea22",
   "metadata": {
    "execution": {
     "iopub.execute_input": "2025-07-30T13:41:06.296606Z",
     "iopub.status.busy": "2025-07-30T13:41:06.295915Z",
     "iopub.status.idle": "2025-07-30T13:41:06.300791Z",
     "shell.execute_reply": "2025-07-30T13:41:06.300103Z"
    },
    "papermill": {
     "duration": 0.018562,
     "end_time": "2025-07-30T13:41:06.302210",
     "exception": false,
     "start_time": "2025-07-30T13:41:06.283648",
     "status": "completed"
    },
    "tags": []
   },
   "outputs": [],
   "source": [
    "if len(excluded_features_columns) > 0:\n",
    "    print(f\"Dropping features: {excluded_features_columns}\")\n",
    "    X_train.drop(excluded_features_columns, axis=1, inplace=True)"
   ]
  },
  {
   "cell_type": "code",
   "execution_count": 33,
   "id": "95ab8b16",
   "metadata": {
    "execution": {
     "iopub.execute_input": "2025-07-30T13:41:06.330010Z",
     "iopub.status.busy": "2025-07-30T13:41:06.329470Z",
     "iopub.status.idle": "2025-07-30T13:41:06.334483Z",
     "shell.execute_reply": "2025-07-30T13:41:06.333796Z"
    },
    "papermill": {
     "duration": 0.019376,
     "end_time": "2025-07-30T13:41:06.335867",
     "exception": false,
     "start_time": "2025-07-30T13:41:06.316491",
     "status": "completed"
    },
    "tags": []
   },
   "outputs": [],
   "source": [
    "if len(excluded_features_columns) > 0:\n",
    "    print(f\"Dropping features: {excluded_features_columns}\")\n",
    "    X_test.drop(excluded_features_columns, axis=1, inplace=True)"
   ]
  },
  {
   "cell_type": "code",
   "execution_count": 34,
   "id": "1853aaf5-fb9f-46cb-a2b5-8ea4ae2237e4",
   "metadata": {
    "execution": {
     "iopub.execute_input": "2025-07-30T13:41:06.363552Z",
     "iopub.status.busy": "2025-07-30T13:41:06.362648Z",
     "iopub.status.idle": "2025-07-30T13:41:06.367704Z",
     "shell.execute_reply": "2025-07-30T13:41:06.367048Z"
    },
    "papermill": {
     "duration": 0.019891,
     "end_time": "2025-07-30T13:41:06.369301",
     "exception": false,
     "start_time": "2025-07-30T13:41:06.349410",
     "status": "completed"
    },
    "tags": []
   },
   "outputs": [],
   "source": [
    "if len(excluded_features_columns) > 0:\n",
    "    print(f\"Dropping features: {excluded_features_columns}\")\n",
    "    X_calib.drop(excluded_features_columns, axis=1, inplace=True)"
   ]
  },
  {
   "cell_type": "code",
   "execution_count": 35,
   "id": "6727d079-03e5-481e-9d38-292a90b7a0a8",
   "metadata": {
    "execution": {
     "iopub.execute_input": "2025-07-30T13:41:06.397244Z",
     "iopub.status.busy": "2025-07-30T13:41:06.396751Z",
     "iopub.status.idle": "2025-07-30T13:41:06.401246Z",
     "shell.execute_reply": "2025-07-30T13:41:06.400559Z"
    },
    "papermill": {
     "duration": 0.019166,
     "end_time": "2025-07-30T13:41:06.402605",
     "exception": false,
     "start_time": "2025-07-30T13:41:06.383439",
     "status": "completed"
    },
    "tags": []
   },
   "outputs": [],
   "source": [
    "# SPLIT & STRATIFY DATA\n",
    "# ----------------------"
   ]
  },
  {
   "cell_type": "code",
   "execution_count": 36,
   "id": "76c4dc6d",
   "metadata": {
    "execution": {
     "iopub.execute_input": "2025-07-30T13:41:06.430785Z",
     "iopub.status.busy": "2025-07-30T13:41:06.429649Z",
     "iopub.status.idle": "2025-07-30T13:41:06.435877Z",
     "shell.execute_reply": "2025-07-30T13:41:06.434821Z"
    },
    "papermill": {
     "duration": 0.021188,
     "end_time": "2025-07-30T13:41:06.437689",
     "exception": false,
     "start_time": "2025-07-30T13:41:06.416501",
     "status": "completed"
    },
    "tags": []
   },
   "outputs": [],
   "source": [
    "# EXCLUDE CERTAIN SUBGROUPS\n",
    "# ----------------------\n",
    "\n",
    "mode = universe.get(\"exclude_subgroups\", \"keep-all\") \n",
    "# Fetches the exclude_subgroups setting from the universe dict.\n",
    "# Defaults to \"keep-all\" if the key is missing."
   ]
  },
  {
   "cell_type": "code",
   "execution_count": 37,
   "id": "21994072",
   "metadata": {
    "execution": {
     "iopub.execute_input": "2025-07-30T13:41:06.465787Z",
     "iopub.status.busy": "2025-07-30T13:41:06.465426Z",
     "iopub.status.idle": "2025-07-30T13:41:06.470815Z",
     "shell.execute_reply": "2025-07-30T13:41:06.470076Z"
    },
    "papermill": {
     "duration": 0.021533,
     "end_time": "2025-07-30T13:41:06.472235",
     "exception": false,
     "start_time": "2025-07-30T13:41:06.450702",
     "status": "completed"
    },
    "tags": []
   },
   "outputs": [],
   "source": [
    "if mode == \"keep-all\":\n",
    "    keep_mask = pd.Series(True, index=org_train.index)\n",
    "\n",
    "# org_train contains the original feature columns from features_org (in Simson)\n",
    "# features_org contains unprocessed features, for me X_train at beginning ???\n",
    "# For keep-all, creates a boolean Series (keep_mask) of all True, so no rows are removed.\n",
    "\n",
    "elif mode == \"drop-non-german\":\n",
    "    keep_mask = org_train[\"maxdeutsch1\"] == 1 # ??? what about missing values?\n",
    "\n",
    "else:\n",
    "    raise ValueError(f\"Unsupported mode for exclude_subgroups: {mode}\")\n"
   ]
  },
  {
   "cell_type": "code",
   "execution_count": 38,
   "id": "71651440",
   "metadata": {
    "execution": {
     "iopub.execute_input": "2025-07-30T13:41:06.505232Z",
     "iopub.status.busy": "2025-07-30T13:41:06.504750Z",
     "iopub.status.idle": "2025-07-30T13:41:06.510658Z",
     "shell.execute_reply": "2025-07-30T13:41:06.509684Z"
    },
    "papermill": {
     "duration": 0.024936,
     "end_time": "2025-07-30T13:41:06.512007",
     "exception": false,
     "start_time": "2025-07-30T13:41:06.487071",
     "status": "completed"
    },
    "tags": []
   },
   "outputs": [],
   "source": [
    "n_drop = (~keep_mask).sum() # Calculates how many rows are set to be dropped\n",
    "if n_drop > 0:\n",
    "    pct = n_drop / len(keep_mask) * 100\n",
    "    print(f\"Dropping {n_drop} rows ({pct:.2f}%) where mode='{mode}'\")"
   ]
  },
  {
   "cell_type": "code",
   "execution_count": 39,
   "id": "5fb8eee5",
   "metadata": {
    "execution": {
     "iopub.execute_input": "2025-07-30T13:41:06.539314Z",
     "iopub.status.busy": "2025-07-30T13:41:06.538626Z",
     "iopub.status.idle": "2025-07-30T13:41:06.545333Z",
     "shell.execute_reply": "2025-07-30T13:41:06.544594Z"
    },
    "papermill": {
     "duration": 0.02115,
     "end_time": "2025-07-30T13:41:06.546951",
     "exception": false,
     "start_time": "2025-07-30T13:41:06.525801",
     "status": "completed"
    },
    "tags": []
   },
   "outputs": [],
   "source": [
    "X_train = X_train[keep_mask]"
   ]
  },
  {
   "cell_type": "code",
   "execution_count": 40,
   "id": "b202bb3a",
   "metadata": {
    "execution": {
     "iopub.execute_input": "2025-07-30T13:41:06.578931Z",
     "iopub.status.busy": "2025-07-30T13:41:06.578236Z",
     "iopub.status.idle": "2025-07-30T13:41:06.583548Z",
     "shell.execute_reply": "2025-07-30T13:41:06.582838Z"
    },
    "papermill": {
     "duration": 0.022887,
     "end_time": "2025-07-30T13:41:06.585086",
     "exception": false,
     "start_time": "2025-07-30T13:41:06.562199",
     "status": "completed"
    },
    "tags": []
   },
   "outputs": [],
   "source": [
    "y_train = y_train[keep_mask]"
   ]
  },
  {
   "cell_type": "markdown",
   "id": "493e2ac3",
   "metadata": {
    "papermill": {
     "duration": 0.01187,
     "end_time": "2025-07-30T13:41:06.610426",
     "exception": false,
     "start_time": "2025-07-30T13:41:06.598556",
     "status": "completed"
    },
    "tags": []
   },
   "source": [
    "# Model Training"
   ]
  },
  {
   "cell_type": "code",
   "execution_count": 41,
   "id": "679e1268",
   "metadata": {
    "execution": {
     "iopub.execute_input": "2025-07-30T13:41:06.641901Z",
     "iopub.status.busy": "2025-07-30T13:41:06.641262Z",
     "iopub.status.idle": "2025-07-30T13:41:06.718257Z",
     "shell.execute_reply": "2025-07-30T13:41:06.717525Z"
    },
    "papermill": {
     "duration": 0.097239,
     "end_time": "2025-07-30T13:41:06.719620",
     "exception": false,
     "start_time": "2025-07-30T13:41:06.622381",
     "status": "completed"
    },
    "tags": []
   },
   "outputs": [],
   "source": [
    "from sklearn.linear_model import LogisticRegression\n",
    "from sklearn.ensemble import GradientBoostingClassifier, RandomForestClassifier\n",
    "\n",
    "if (universe[\"model\"] == \"logreg\"):\n",
    "    model = LogisticRegression() #penalty=\"none\") #, solver=\"newton-cg\", max_iter=1) # include random_state=19 ?\n",
    "elif (universe[\"model\"] == \"penalized_logreg\"):\n",
    "    model = LogisticRegression(penalty=\"l2\", C=1.0) #, solver=\"newton-cg\", max_iter=1)\n",
    "elif (universe[\"model\"] == \"rf\"):\n",
    "    model = RandomForestClassifier(n_estimators=100, n_jobs=-1)\n",
    "elif (universe[\"model\"] == \"gbm\"):\n",
    "    model = GradientBoostingClassifier()\n",
    "elif (universe[\"model\"] == \"elasticnet\"):\n",
    "    model = LogisticRegression(penalty = 'elasticnet', solver = 'saga', l1_ratio = 0.5, max_iter=5000) # which solver to use?\n",
    "else:\n",
    "    raise \"Unsupported universe.model\""
   ]
  },
  {
   "cell_type": "code",
   "execution_count": 42,
   "id": "0cc8f744",
   "metadata": {
    "execution": {
     "iopub.execute_input": "2025-07-30T13:41:06.746217Z",
     "iopub.status.busy": "2025-07-30T13:41:06.745720Z",
     "iopub.status.idle": "2025-07-30T13:41:06.751034Z",
     "shell.execute_reply": "2025-07-30T13:41:06.750311Z"
    },
    "papermill": {
     "duration": 0.020496,
     "end_time": "2025-07-30T13:41:06.752820",
     "exception": false,
     "start_time": "2025-07-30T13:41:06.732324",
     "status": "completed"
    },
    "tags": []
   },
   "outputs": [],
   "source": [
    "import numpy as np\n",
    "from sklearn.pipeline import Pipeline\n",
    "from sklearn.preprocessing import StandardScaler\n",
    "\n",
    "model = Pipeline([\n",
    "    #(\"continuous_processor\", continuous_processor),\n",
    "    #(\"categorical_preprocessor\", categorical_preprocessor),\n",
    "    (\"scale\", StandardScaler() if universe[\"scale\"] == \"scale\" else None), \n",
    "    (\"model\", model),\n",
    "])"
   ]
  },
  {
   "cell_type": "code",
   "execution_count": 43,
   "id": "9442c04d",
   "metadata": {
    "execution": {
     "iopub.execute_input": "2025-07-30T13:41:06.790789Z",
     "iopub.status.busy": "2025-07-30T13:41:06.790096Z",
     "iopub.status.idle": "2025-07-30T13:41:06.897010Z",
     "shell.execute_reply": "2025-07-30T13:41:06.896004Z"
    },
    "papermill": {
     "duration": 0.121754,
     "end_time": "2025-07-30T13:41:06.898638",
     "exception": false,
     "start_time": "2025-07-30T13:41:06.776884",
     "status": "completed"
    },
    "tags": []
   },
   "outputs": [
    {
     "name": "stderr",
     "output_type": "stream",
     "text": [
      "/dss/dsshome1/0C/ra93lal2/.local/share/virtualenvs/CMA_Fairness_v2-3j10GkSs/lib/python3.10/site-packages/sklearn/linear_model/_logistic.py:444: ConvergenceWarning: lbfgs failed to converge (status=1):\n",
      "STOP: TOTAL NO. of ITERATIONS REACHED LIMIT.\n",
      "\n",
      "Increase the number of iterations (max_iter) or scale the data as shown in:\n",
      "    https://scikit-learn.org/stable/modules/preprocessing.html\n",
      "Please also refer to the documentation for alternative solver options:\n",
      "    https://scikit-learn.org/stable/modules/linear_model.html#logistic-regression\n",
      "  n_iter_i = _check_optimize_result(\n"
     ]
    },
    {
     "data": {
      "text/html": [
       "<style>#sk-container-id-1 {color: black;background-color: white;}#sk-container-id-1 pre{padding: 0;}#sk-container-id-1 div.sk-toggleable {background-color: white;}#sk-container-id-1 label.sk-toggleable__label {cursor: pointer;display: block;width: 100%;margin-bottom: 0;padding: 0.3em;box-sizing: border-box;text-align: center;}#sk-container-id-1 label.sk-toggleable__label-arrow:before {content: \"▸\";float: left;margin-right: 0.25em;color: #696969;}#sk-container-id-1 label.sk-toggleable__label-arrow:hover:before {color: black;}#sk-container-id-1 div.sk-estimator:hover label.sk-toggleable__label-arrow:before {color: black;}#sk-container-id-1 div.sk-toggleable__content {max-height: 0;max-width: 0;overflow: hidden;text-align: left;background-color: #f0f8ff;}#sk-container-id-1 div.sk-toggleable__content pre {margin: 0.2em;color: black;border-radius: 0.25em;background-color: #f0f8ff;}#sk-container-id-1 input.sk-toggleable__control:checked~div.sk-toggleable__content {max-height: 200px;max-width: 100%;overflow: auto;}#sk-container-id-1 input.sk-toggleable__control:checked~label.sk-toggleable__label-arrow:before {content: \"▾\";}#sk-container-id-1 div.sk-estimator input.sk-toggleable__control:checked~label.sk-toggleable__label {background-color: #d4ebff;}#sk-container-id-1 div.sk-label input.sk-toggleable__control:checked~label.sk-toggleable__label {background-color: #d4ebff;}#sk-container-id-1 input.sk-hidden--visually {border: 0;clip: rect(1px 1px 1px 1px);clip: rect(1px, 1px, 1px, 1px);height: 1px;margin: -1px;overflow: hidden;padding: 0;position: absolute;width: 1px;}#sk-container-id-1 div.sk-estimator {font-family: monospace;background-color: #f0f8ff;border: 1px dotted black;border-radius: 0.25em;box-sizing: border-box;margin-bottom: 0.5em;}#sk-container-id-1 div.sk-estimator:hover {background-color: #d4ebff;}#sk-container-id-1 div.sk-parallel-item::after {content: \"\";width: 100%;border-bottom: 1px solid gray;flex-grow: 1;}#sk-container-id-1 div.sk-label:hover label.sk-toggleable__label {background-color: #d4ebff;}#sk-container-id-1 div.sk-serial::before {content: \"\";position: absolute;border-left: 1px solid gray;box-sizing: border-box;top: 0;bottom: 0;left: 50%;z-index: 0;}#sk-container-id-1 div.sk-serial {display: flex;flex-direction: column;align-items: center;background-color: white;padding-right: 0.2em;padding-left: 0.2em;position: relative;}#sk-container-id-1 div.sk-item {position: relative;z-index: 1;}#sk-container-id-1 div.sk-parallel {display: flex;align-items: stretch;justify-content: center;background-color: white;position: relative;}#sk-container-id-1 div.sk-item::before, #sk-container-id-1 div.sk-parallel-item::before {content: \"\";position: absolute;border-left: 1px solid gray;box-sizing: border-box;top: 0;bottom: 0;left: 50%;z-index: -1;}#sk-container-id-1 div.sk-parallel-item {display: flex;flex-direction: column;z-index: 1;position: relative;background-color: white;}#sk-container-id-1 div.sk-parallel-item:first-child::after {align-self: flex-end;width: 50%;}#sk-container-id-1 div.sk-parallel-item:last-child::after {align-self: flex-start;width: 50%;}#sk-container-id-1 div.sk-parallel-item:only-child::after {width: 0;}#sk-container-id-1 div.sk-dashed-wrapped {border: 1px dashed gray;margin: 0 0.4em 0.5em 0.4em;box-sizing: border-box;padding-bottom: 0.4em;background-color: white;}#sk-container-id-1 div.sk-label label {font-family: monospace;font-weight: bold;display: inline-block;line-height: 1.2em;}#sk-container-id-1 div.sk-label-container {text-align: center;}#sk-container-id-1 div.sk-container {/* jupyter's `normalize.less` sets `[hidden] { display: none; }` but bootstrap.min.css set `[hidden] { display: none !important; }` so we also need the `!important` here to be able to override the default hidden behavior on the sphinx rendered scikit-learn.org. See: https://github.com/scikit-learn/scikit-learn/issues/21755 */display: inline-block !important;position: relative;}#sk-container-id-1 div.sk-text-repr-fallback {display: none;}</style><div id=\"sk-container-id-1\" class=\"sk-top-container\"><div class=\"sk-text-repr-fallback\"><pre>Pipeline(steps=[(&#x27;scale&#x27;, StandardScaler()), (&#x27;model&#x27;, LogisticRegression())])</pre><b>In a Jupyter environment, please rerun this cell to show the HTML representation or trust the notebook. <br />On GitHub, the HTML representation is unable to render, please try loading this page with nbviewer.org.</b></div><div class=\"sk-container\" hidden><div class=\"sk-item sk-dashed-wrapped\"><div class=\"sk-label-container\"><div class=\"sk-label sk-toggleable\"><input class=\"sk-toggleable__control sk-hidden--visually\" id=\"sk-estimator-id-1\" type=\"checkbox\" ><label for=\"sk-estimator-id-1\" class=\"sk-toggleable__label sk-toggleable__label-arrow\">Pipeline</label><div class=\"sk-toggleable__content\"><pre>Pipeline(steps=[(&#x27;scale&#x27;, StandardScaler()), (&#x27;model&#x27;, LogisticRegression())])</pre></div></div></div><div class=\"sk-serial\"><div class=\"sk-item\"><div class=\"sk-estimator sk-toggleable\"><input class=\"sk-toggleable__control sk-hidden--visually\" id=\"sk-estimator-id-2\" type=\"checkbox\" ><label for=\"sk-estimator-id-2\" class=\"sk-toggleable__label sk-toggleable__label-arrow\">StandardScaler</label><div class=\"sk-toggleable__content\"><pre>StandardScaler()</pre></div></div></div><div class=\"sk-item\"><div class=\"sk-estimator sk-toggleable\"><input class=\"sk-toggleable__control sk-hidden--visually\" id=\"sk-estimator-id-3\" type=\"checkbox\" ><label for=\"sk-estimator-id-3\" class=\"sk-toggleable__label sk-toggleable__label-arrow\">LogisticRegression</label><div class=\"sk-toggleable__content\"><pre>LogisticRegression()</pre></div></div></div></div></div></div></div>"
      ],
      "text/plain": [
       "Pipeline(steps=[('scale', StandardScaler()), ('model', LogisticRegression())])"
      ]
     },
     "execution_count": 43,
     "metadata": {},
     "output_type": "execute_result"
    }
   ],
   "source": [
    "model.fit(X_train, y_train.values.ravel())"
   ]
  },
  {
   "cell_type": "code",
   "execution_count": 44,
   "id": "af59f8c0",
   "metadata": {
    "execution": {
     "iopub.execute_input": "2025-07-30T13:41:06.949234Z",
     "iopub.status.busy": "2025-07-30T13:41:06.948826Z",
     "iopub.status.idle": "2025-07-30T13:41:06.953987Z",
     "shell.execute_reply": "2025-07-30T13:41:06.953004Z"
    },
    "papermill": {
     "duration": 0.03406,
     "end_time": "2025-07-30T13:41:06.955798",
     "exception": false,
     "start_time": "2025-07-30T13:41:06.921738",
     "status": "completed"
    },
    "tags": []
   },
   "outputs": [],
   "source": [
    "from fairness_multiverse.universe import predict_w_threshold"
   ]
  },
  {
   "cell_type": "code",
   "execution_count": 45,
   "id": "a7cf2e16",
   "metadata": {
    "execution": {
     "iopub.execute_input": "2025-07-30T13:41:07.007817Z",
     "iopub.status.busy": "2025-07-30T13:41:07.007330Z",
     "iopub.status.idle": "2025-07-30T13:41:07.203834Z",
     "shell.execute_reply": "2025-07-30T13:41:07.202917Z"
    },
    "papermill": {
     "duration": 0.224138,
     "end_time": "2025-07-30T13:41:07.205431",
     "exception": false,
     "start_time": "2025-07-30T13:41:06.981293",
     "status": "completed"
    },
    "tags": []
   },
   "outputs": [
    {
     "data": {
      "text/plain": [
       "0.8574072009809386"
      ]
     },
     "execution_count": 45,
     "metadata": {},
     "output_type": "execute_result"
    }
   ],
   "source": [
    "probs_test = model.predict_proba(X_test)\n",
    "\n",
    "'''\n",
    "Below code returns a boolean array (or binary 0/1 array depending on how it’s used) where each element \n",
    "is True if the probability of class 1 is greater than or equal to the threshold, and False otherwise.\n",
    "'''\n",
    "y_pred_default = predict_w_threshold(probs_test, 0.5)\n",
    "\n",
    "from sklearn.metrics import accuracy_score\n",
    "\n",
    "# Naive prediction\n",
    "accuracy_score(y_true = y_true, y_pred = y_pred_default)"
   ]
  },
  {
   "cell_type": "code",
   "execution_count": 46,
   "id": "081964c3",
   "metadata": {
    "execution": {
     "iopub.execute_input": "2025-07-30T13:41:07.262757Z",
     "iopub.status.busy": "2025-07-30T13:41:07.262067Z",
     "iopub.status.idle": "2025-07-30T13:41:07.451390Z",
     "shell.execute_reply": "2025-07-30T13:41:07.450384Z"
    },
    "papermill": {
     "duration": 0.217025,
     "end_time": "2025-07-30T13:41:07.453252",
     "exception": false,
     "start_time": "2025-07-30T13:41:07.236227",
     "status": "completed"
    },
    "tags": []
   },
   "outputs": [
    {
     "data": {
      "text/plain": [
       "array([0, 0, 0, ..., 0, 0, 0])"
      ]
     },
     "execution_count": 46,
     "metadata": {},
     "output_type": "execute_result"
    }
   ],
   "source": [
    "model.predict(X_test)"
   ]
  },
  {
   "cell_type": "markdown",
   "id": "56c9705b",
   "metadata": {
    "papermill": {
     "duration": 0.025959,
     "end_time": "2025-07-30T13:41:07.506246",
     "exception": false,
     "start_time": "2025-07-30T13:41:07.480287",
     "status": "completed"
    },
    "tags": []
   },
   "source": [
    "# Conformal Prediction"
   ]
  },
  {
   "cell_type": "code",
   "execution_count": 47,
   "id": "160ec6ff",
   "metadata": {
    "execution": {
     "iopub.execute_input": "2025-07-30T13:41:07.560198Z",
     "iopub.status.busy": "2025-07-30T13:41:07.559254Z",
     "iopub.status.idle": "2025-07-30T13:41:07.565191Z",
     "shell.execute_reply": "2025-07-30T13:41:07.563949Z"
    },
    "papermill": {
     "duration": 0.035192,
     "end_time": "2025-07-30T13:41:07.567077",
     "exception": false,
     "start_time": "2025-07-30T13:41:07.531885",
     "status": "completed"
    },
    "tags": []
   },
   "outputs": [],
   "source": [
    "# Miscoverage level for conformal prediction (10% allowed error rate => 90% target coverage)\n",
    "alpha = 0.1"
   ]
  },
  {
   "cell_type": "code",
   "execution_count": 48,
   "id": "eadf4555-3dd3-440e-8e35-f82a4ad9f855",
   "metadata": {
    "execution": {
     "iopub.execute_input": "2025-07-30T13:41:07.622369Z",
     "iopub.status.busy": "2025-07-30T13:41:07.621391Z",
     "iopub.status.idle": "2025-07-30T13:41:07.806649Z",
     "shell.execute_reply": "2025-07-30T13:41:07.805691Z"
    },
    "papermill": {
     "duration": 0.214398,
     "end_time": "2025-07-30T13:41:07.808703",
     "exception": false,
     "start_time": "2025-07-30T13:41:07.594305",
     "status": "completed"
    },
    "tags": []
   },
   "outputs": [],
   "source": [
    "probs_calib = model.predict_proba(X_calib)"
   ]
  },
  {
   "cell_type": "code",
   "execution_count": 49,
   "id": "2ed93547-6d5d-4983-9b36-1ecb300da49a",
   "metadata": {
    "execution": {
     "iopub.execute_input": "2025-07-30T13:41:07.862540Z",
     "iopub.status.busy": "2025-07-30T13:41:07.861925Z",
     "iopub.status.idle": "2025-07-30T13:41:07.868393Z",
     "shell.execute_reply": "2025-07-30T13:41:07.867314Z"
    },
    "papermill": {
     "duration": 0.035066,
     "end_time": "2025-07-30T13:41:07.869791",
     "exception": false,
     "start_time": "2025-07-30T13:41:07.834725",
     "status": "completed"
    },
    "tags": []
   },
   "outputs": [],
   "source": [
    "y_calib = y_calib.values.ravel().astype(int)"
   ]
  },
  {
   "cell_type": "code",
   "execution_count": 50,
   "id": "65d1320d-f588-4b38-9072-62af1ae97f7d",
   "metadata": {
    "execution": {
     "iopub.execute_input": "2025-07-30T13:41:07.924390Z",
     "iopub.status.busy": "2025-07-30T13:41:07.923816Z",
     "iopub.status.idle": "2025-07-30T13:41:07.933079Z",
     "shell.execute_reply": "2025-07-30T13:41:07.931996Z"
    },
    "papermill": {
     "duration": 0.0387,
     "end_time": "2025-07-30T13:41:07.934921",
     "exception": false,
     "start_time": "2025-07-30T13:41:07.896221",
     "status": "completed"
    },
    "tags": []
   },
   "outputs": [],
   "source": [
    "from fairness_multiverse.conformal import compute_nc_scores\n",
    "\n",
    "# Compute nonconformity scores on calibration set (1 - probability of true class)\n",
    "nc_scores = compute_nc_scores(probs_calib, y_calib)"
   ]
  },
  {
   "cell_type": "code",
   "execution_count": 51,
   "id": "df3b8ca3-53b7-43d5-9667-7c85da7aeda2",
   "metadata": {
    "execution": {
     "iopub.execute_input": "2025-07-30T13:41:07.980819Z",
     "iopub.status.busy": "2025-07-30T13:41:07.980334Z",
     "iopub.status.idle": "2025-07-30T13:41:07.987029Z",
     "shell.execute_reply": "2025-07-30T13:41:07.985993Z"
    },
    "papermill": {
     "duration": 0.034223,
     "end_time": "2025-07-30T13:41:07.988903",
     "exception": false,
     "start_time": "2025-07-30T13:41:07.954680",
     "status": "completed"
    },
    "tags": []
   },
   "outputs": [],
   "source": [
    "from fairness_multiverse.conformal import find_threshold\n",
    "\n",
    "# Find conformal threshold q_hat for the given alpha (split conformal method)\n",
    "q_hat = find_threshold(nc_scores, alpha)"
   ]
  },
  {
   "cell_type": "code",
   "execution_count": 52,
   "id": "4d29e6c1-0ef6-4aa4-b8fe-4fe79b0d033a",
   "metadata": {
    "execution": {
     "iopub.execute_input": "2025-07-30T13:41:08.017496Z",
     "iopub.status.busy": "2025-07-30T13:41:08.017079Z",
     "iopub.status.idle": "2025-07-30T13:41:08.023922Z",
     "shell.execute_reply": "2025-07-30T13:41:08.023086Z"
    },
    "papermill": {
     "duration": 0.021909,
     "end_time": "2025-07-30T13:41:08.025695",
     "exception": false,
     "start_time": "2025-07-30T13:41:08.003786",
     "status": "completed"
    },
    "tags": []
   },
   "outputs": [
    {
     "data": {
      "text/plain": [
       "0.6850345480166012"
      ]
     },
     "execution_count": 52,
     "metadata": {},
     "output_type": "execute_result"
    }
   ],
   "source": [
    "q_hat"
   ]
  },
  {
   "cell_type": "code",
   "execution_count": 53,
   "id": "92460794-cdac-4be2-ba28-f28c0515a6fb",
   "metadata": {
    "execution": {
     "iopub.execute_input": "2025-07-30T13:41:08.075566Z",
     "iopub.status.busy": "2025-07-30T13:41:08.075218Z",
     "iopub.status.idle": "2025-07-30T13:41:08.966903Z",
     "shell.execute_reply": "2025-07-30T13:41:08.965837Z"
    },
    "papermill": {
     "duration": 0.917783,
     "end_time": "2025-07-30T13:41:08.968903",
     "exception": false,
     "start_time": "2025-07-30T13:41:08.051120",
     "status": "completed"
    },
    "tags": []
   },
   "outputs": [],
   "source": [
    "from fairness_multiverse.conformal import predict_conformal_sets\n",
    "\n",
    "# Generate prediction sets for each test example\n",
    "pred_sets = predict_conformal_sets(model, X_test, q_hat)"
   ]
  },
  {
   "cell_type": "code",
   "execution_count": 54,
   "id": "d90c9a65-e6db-4f5d-80cd-e68fb7e46829",
   "metadata": {
    "execution": {
     "iopub.execute_input": "2025-07-30T13:41:09.024315Z",
     "iopub.status.busy": "2025-07-30T13:41:09.023620Z",
     "iopub.status.idle": "2025-07-30T13:41:09.029359Z",
     "shell.execute_reply": "2025-07-30T13:41:09.028384Z"
    },
    "papermill": {
     "duration": 0.054266,
     "end_time": "2025-07-30T13:41:09.050429",
     "exception": false,
     "start_time": "2025-07-30T13:41:08.996163",
     "status": "completed"
    },
    "tags": []
   },
   "outputs": [],
   "source": [
    "y_true = y_true.squeeze()"
   ]
  },
  {
   "cell_type": "code",
   "execution_count": 55,
   "id": "3a58a54a-1e68-46b9-927a-df01f18aebc8",
   "metadata": {
    "execution": {
     "iopub.execute_input": "2025-07-30T13:41:09.112210Z",
     "iopub.status.busy": "2025-07-30T13:41:09.111652Z",
     "iopub.status.idle": "2025-07-30T13:41:10.089917Z",
     "shell.execute_reply": "2025-07-30T13:41:10.088901Z"
    },
    "papermill": {
     "duration": 1.006545,
     "end_time": "2025-07-30T13:41:10.091402",
     "exception": false,
     "start_time": "2025-07-30T13:41:09.084857",
     "status": "completed"
    },
    "tags": []
   },
   "outputs": [],
   "source": [
    "from fairness_multiverse.conformal import evaluate_sets\n",
    "\n",
    "# Evaluate coverage and average set size on test data\n",
    "metrics = evaluate_sets(pred_sets, y_true)"
   ]
  },
  {
   "cell_type": "markdown",
   "id": "2b569c12-9aaa-4c88-98c9-bbcd0cf3ebb8",
   "metadata": {
    "papermill": {
     "duration": 0.02534,
     "end_time": "2025-07-30T13:41:10.142348",
     "exception": false,
     "start_time": "2025-07-30T13:41:10.117008",
     "status": "completed"
    },
    "tags": []
   },
   "source": [
    "# CP Metrics"
   ]
  },
  {
   "cell_type": "code",
   "execution_count": 56,
   "id": "5ce0a5cb-201f-45a0-ade5-94c7f0bd6095",
   "metadata": {
    "execution": {
     "iopub.execute_input": "2025-07-30T13:41:10.195880Z",
     "iopub.status.busy": "2025-07-30T13:41:10.195030Z",
     "iopub.status.idle": "2025-07-30T13:41:10.202219Z",
     "shell.execute_reply": "2025-07-30T13:41:10.201328Z"
    },
    "papermill": {
     "duration": 0.036655,
     "end_time": "2025-07-30T13:41:10.203987",
     "exception": false,
     "start_time": "2025-07-30T13:41:10.167332",
     "status": "completed"
    },
    "tags": []
   },
   "outputs": [
    {
     "data": {
      "text/plain": [
       "{'coverage': 0.9101995318247686, 'avg_size': 1.1343217032660795}"
      ]
     },
     "execution_count": 56,
     "metadata": {},
     "output_type": "execute_result"
    }
   ],
   "source": [
    "metrics"
   ]
  },
  {
   "cell_type": "code",
   "execution_count": 57,
   "id": "9b9a838d-31c9-430b-ae14-12baee460d17",
   "metadata": {
    "execution": {
     "iopub.execute_input": "2025-07-30T13:41:10.258440Z",
     "iopub.status.busy": "2025-07-30T13:41:10.257789Z",
     "iopub.status.idle": "2025-07-30T13:41:10.264615Z",
     "shell.execute_reply": "2025-07-30T13:41:10.263455Z"
    },
    "papermill": {
     "duration": 0.034923,
     "end_time": "2025-07-30T13:41:10.266386",
     "exception": false,
     "start_time": "2025-07-30T13:41:10.231463",
     "status": "completed"
    },
    "tags": []
   },
   "outputs": [],
   "source": [
    "example_universe = universe.copy()\n",
    "universe_training_size = example_universe.get(\"training_size\")\n",
    "universe_scale = example_universe.get(\"scale\")\n",
    "universe_model = example_universe.get(\"model\")\n",
    "universe_exclude_features = example_universe.get(\"exclude_features\")\n",
    "universe_exclude_subgroups = example_universe.get(\"exclude_subgroups\")"
   ]
  },
  {
   "cell_type": "code",
   "execution_count": 58,
   "id": "f4b6a8ac-9dc0-4245-8a91-5b3b5999c4f9",
   "metadata": {
    "execution": {
     "iopub.execute_input": "2025-07-30T13:41:10.321084Z",
     "iopub.status.busy": "2025-07-30T13:41:10.320383Z",
     "iopub.status.idle": "2025-07-30T13:41:10.328332Z",
     "shell.execute_reply": "2025-07-30T13:41:10.327342Z"
    },
    "papermill": {
     "duration": 0.036154,
     "end_time": "2025-07-30T13:41:10.330026",
     "exception": false,
     "start_time": "2025-07-30T13:41:10.293872",
     "status": "completed"
    },
    "tags": []
   },
   "outputs": [],
   "source": [
    "cp_metrics_dict = {\n",
    "    \"universe_id\": [universe_id],\n",
    "    \"universe_training_size\": [universe_training_size],\n",
    "    \"universe_scale\": [universe_scale],\n",
    "    \"universe_model\": [universe_model],\n",
    "    \"universe_exclude_features\": [universe_exclude_features],\n",
    "    \"universe_exclude_subgroups\": [universe_exclude_subgroups],\n",
    "    \"q_hat\": [q_hat],\n",
    "    \"coverage\": [metrics[\"coverage\"]],\n",
    "    \"avg_size\": [metrics[\"avg_size\"]],\n",
    "}"
   ]
  },
  {
   "cell_type": "code",
   "execution_count": 59,
   "id": "908acbb1-0371-4915-85ca-3fa520d2efe2",
   "metadata": {
    "execution": {
     "iopub.execute_input": "2025-07-30T13:41:10.387061Z",
     "iopub.status.busy": "2025-07-30T13:41:10.386418Z",
     "iopub.status.idle": "2025-07-30T13:41:10.394233Z",
     "shell.execute_reply": "2025-07-30T13:41:10.393171Z"
    },
    "papermill": {
     "duration": 0.038401,
     "end_time": "2025-07-30T13:41:10.396002",
     "exception": false,
     "start_time": "2025-07-30T13:41:10.357601",
     "status": "completed"
    },
    "tags": []
   },
   "outputs": [
    {
     "data": {
      "text/plain": [
       "{'universe_id': ['57094a62ac2f1d5ec61513e99177b593'],\n",
       " 'universe_training_size': ['5k'],\n",
       " 'universe_scale': ['scale'],\n",
       " 'universe_model': ['penalized_logreg'],\n",
       " 'universe_exclude_features': ['none'],\n",
       " 'universe_exclude_subgroups': ['keep-all'],\n",
       " 'q_hat': [0.6850345480166012],\n",
       " 'coverage': [0.9101995318247686],\n",
       " 'avg_size': [1.1343217032660795]}"
      ]
     },
     "execution_count": 59,
     "metadata": {},
     "output_type": "execute_result"
    }
   ],
   "source": [
    "cp_metrics_dict"
   ]
  },
  {
   "cell_type": "code",
   "execution_count": 60,
   "id": "33007efc-14e9-4ec6-97ac-56a455c82265",
   "metadata": {
    "execution": {
     "iopub.execute_input": "2025-07-30T13:41:10.451866Z",
     "iopub.status.busy": "2025-07-30T13:41:10.451195Z",
     "iopub.status.idle": "2025-07-30T13:41:10.457893Z",
     "shell.execute_reply": "2025-07-30T13:41:10.456812Z"
    },
    "papermill": {
     "duration": 0.035724,
     "end_time": "2025-07-30T13:41:10.459437",
     "exception": false,
     "start_time": "2025-07-30T13:41:10.423713",
     "status": "completed"
    },
    "tags": []
   },
   "outputs": [],
   "source": [
    "cp_metrics_df = pd.DataFrame(cp_metrics_dict)"
   ]
  },
  {
   "cell_type": "code",
   "execution_count": 61,
   "id": "db12611b-57b2-4910-b9d0-355adfd6e7bf",
   "metadata": {
    "execution": {
     "iopub.execute_input": "2025-07-30T13:41:10.516579Z",
     "iopub.status.busy": "2025-07-30T13:41:10.515651Z",
     "iopub.status.idle": "2025-07-30T13:41:10.540482Z",
     "shell.execute_reply": "2025-07-30T13:41:10.539375Z"
    },
    "papermill": {
     "duration": 0.054811,
     "end_time": "2025-07-30T13:41:10.542371",
     "exception": false,
     "start_time": "2025-07-30T13:41:10.487560",
     "status": "completed"
    },
    "tags": []
   },
   "outputs": [
    {
     "data": {
      "text/html": [
       "<div>\n",
       "<style scoped>\n",
       "    .dataframe tbody tr th:only-of-type {\n",
       "        vertical-align: middle;\n",
       "    }\n",
       "\n",
       "    .dataframe tbody tr th {\n",
       "        vertical-align: top;\n",
       "    }\n",
       "\n",
       "    .dataframe thead th {\n",
       "        text-align: right;\n",
       "    }\n",
       "</style>\n",
       "<table border=\"1\" class=\"dataframe\">\n",
       "  <thead>\n",
       "    <tr style=\"text-align: right;\">\n",
       "      <th></th>\n",
       "      <th>universe_id</th>\n",
       "      <th>universe_training_size</th>\n",
       "      <th>universe_scale</th>\n",
       "      <th>universe_model</th>\n",
       "      <th>universe_exclude_features</th>\n",
       "      <th>universe_exclude_subgroups</th>\n",
       "      <th>q_hat</th>\n",
       "      <th>coverage</th>\n",
       "      <th>avg_size</th>\n",
       "    </tr>\n",
       "  </thead>\n",
       "  <tbody>\n",
       "    <tr>\n",
       "      <th>0</th>\n",
       "      <td>57094a62ac2f1d5ec61513e99177b593</td>\n",
       "      <td>5k</td>\n",
       "      <td>scale</td>\n",
       "      <td>penalized_logreg</td>\n",
       "      <td>none</td>\n",
       "      <td>keep-all</td>\n",
       "      <td>0.685035</td>\n",
       "      <td>0.9102</td>\n",
       "      <td>1.134322</td>\n",
       "    </tr>\n",
       "  </tbody>\n",
       "</table>\n",
       "</div>"
      ],
      "text/plain": [
       "                        universe_id universe_training_size universe_scale  \\\n",
       "0  57094a62ac2f1d5ec61513e99177b593                     5k          scale   \n",
       "\n",
       "     universe_model universe_exclude_features universe_exclude_subgroups  \\\n",
       "0  penalized_logreg                      none                   keep-all   \n",
       "\n",
       "      q_hat  coverage  avg_size  \n",
       "0  0.685035    0.9102  1.134322  "
      ]
     },
     "execution_count": 61,
     "metadata": {},
     "output_type": "execute_result"
    }
   ],
   "source": [
    "cp_metrics_df"
   ]
  },
  {
   "cell_type": "code",
   "execution_count": 62,
   "id": "b7fbde55-a0a1-47e4-9af6-fe4a17fa8c61",
   "metadata": {
    "execution": {
     "iopub.execute_input": "2025-07-30T13:41:10.597872Z",
     "iopub.status.busy": "2025-07-30T13:41:10.597162Z",
     "iopub.status.idle": "2025-07-30T13:41:10.602521Z",
     "shell.execute_reply": "2025-07-30T13:41:10.601483Z"
    },
    "papermill": {
     "duration": 0.03583,
     "end_time": "2025-07-30T13:41:10.604254",
     "exception": false,
     "start_time": "2025-07-30T13:41:10.568424",
     "status": "completed"
    },
    "tags": []
   },
   "outputs": [],
   "source": [
    "# Conditional Coverage & looking at subgroups"
   ]
  },
  {
   "cell_type": "code",
   "execution_count": 63,
   "id": "027ae886-68dd-4141-96c7-805a5450e1ef",
   "metadata": {
    "execution": {
     "iopub.execute_input": "2025-07-30T13:41:10.660552Z",
     "iopub.status.busy": "2025-07-30T13:41:10.659857Z",
     "iopub.status.idle": "2025-07-30T13:41:10.939198Z",
     "shell.execute_reply": "2025-07-30T13:41:10.938260Z"
    },
    "papermill": {
     "duration": 0.309218,
     "end_time": "2025-07-30T13:41:10.941071",
     "exception": false,
     "start_time": "2025-07-30T13:41:10.631853",
     "status": "completed"
    },
    "tags": []
   },
   "outputs": [],
   "source": [
    "from fairness_multiverse.conformal import build_cp_groups\n",
    "\n",
    "cp_groups_df = build_cp_groups(pred_sets, y_true, X_test.index, org_test)\n",
    "#needs universe_id and setting"
   ]
  },
  {
   "cell_type": "code",
   "execution_count": 64,
   "id": "01d5802c-663a-4d1f-9d69-e036faaffbf7",
   "metadata": {
    "execution": {
     "iopub.execute_input": "2025-07-30T13:41:10.996978Z",
     "iopub.status.busy": "2025-07-30T13:41:10.995986Z",
     "iopub.status.idle": "2025-07-30T13:41:11.001269Z",
     "shell.execute_reply": "2025-07-30T13:41:11.000411Z"
    },
    "papermill": {
     "duration": 0.035505,
     "end_time": "2025-07-30T13:41:11.002800",
     "exception": false,
     "start_time": "2025-07-30T13:41:10.967295",
     "status": "completed"
    },
    "tags": []
   },
   "outputs": [],
   "source": [
    "#delete\n",
    "#cp_groups_df"
   ]
  },
  {
   "cell_type": "code",
   "execution_count": 65,
   "id": "fa424af1-d1eb-443d-b717-2d279ada8408",
   "metadata": {
    "execution": {
     "iopub.execute_input": "2025-07-30T13:41:11.059731Z",
     "iopub.status.busy": "2025-07-30T13:41:11.059097Z",
     "iopub.status.idle": "2025-07-30T13:41:11.064081Z",
     "shell.execute_reply": "2025-07-30T13:41:11.063101Z"
    },
    "papermill": {
     "duration": 0.03541,
     "end_time": "2025-07-30T13:41:11.065934",
     "exception": false,
     "start_time": "2025-07-30T13:41:11.030524",
     "status": "completed"
    },
    "tags": []
   },
   "outputs": [],
   "source": [
    "#delete\n",
    "#percentage = (cp_groups_df['nongerman_female'] == 1).mean() * 100\n",
    "#print(percentage)\n"
   ]
  },
  {
   "cell_type": "code",
   "execution_count": 66,
   "id": "6cbdab96-b2b2-45af-ad54-d0516db2e28d",
   "metadata": {
    "execution": {
     "iopub.execute_input": "2025-07-30T13:41:11.122227Z",
     "iopub.status.busy": "2025-07-30T13:41:11.121408Z",
     "iopub.status.idle": "2025-07-30T13:41:12.811106Z",
     "shell.execute_reply": "2025-07-30T13:41:12.810154Z"
    },
    "papermill": {
     "duration": 1.720368,
     "end_time": "2025-07-30T13:41:12.813482",
     "exception": false,
     "start_time": "2025-07-30T13:41:11.093114",
     "status": "completed"
    },
    "tags": []
   },
   "outputs": [],
   "source": [
    "# Define covered = 1 if true_label is in the predicted set\n",
    "cp_groups_df['covered'] = cp_groups_df.apply(\n",
    "    lambda r: int(r['true_label'] in r['pred_set']),\n",
    "    axis=1\n",
    ")"
   ]
  },
  {
   "cell_type": "code",
   "execution_count": 67,
   "id": "338ff529-1a6b-4b87-a931-8e4788d52aad",
   "metadata": {
    "execution": {
     "iopub.execute_input": "2025-07-30T13:41:12.872788Z",
     "iopub.status.busy": "2025-07-30T13:41:12.872318Z",
     "iopub.status.idle": "2025-07-30T13:41:12.877946Z",
     "shell.execute_reply": "2025-07-30T13:41:12.876971Z"
    },
    "papermill": {
     "duration": 0.036785,
     "end_time": "2025-07-30T13:41:12.879681",
     "exception": false,
     "start_time": "2025-07-30T13:41:12.842896",
     "status": "completed"
    },
    "tags": []
   },
   "outputs": [],
   "source": [
    "#cp_groups_df"
   ]
  },
  {
   "cell_type": "code",
   "execution_count": 68,
   "id": "90032e27-66df-4540-9169-4e89cfbaa758",
   "metadata": {
    "execution": {
     "iopub.execute_input": "2025-07-30T13:41:12.935988Z",
     "iopub.status.busy": "2025-07-30T13:41:12.934832Z",
     "iopub.status.idle": "2025-07-30T13:41:12.947054Z",
     "shell.execute_reply": "2025-07-30T13:41:12.946144Z"
    },
    "papermill": {
     "duration": 0.041628,
     "end_time": "2025-07-30T13:41:12.948732",
     "exception": false,
     "start_time": "2025-07-30T13:41:12.907104",
     "status": "completed"
    },
    "tags": []
   },
   "outputs": [],
   "source": [
    "subgroups = ['frau1','nongerman','nongerman_male','nongerman_female']\n",
    "\n",
    "# Conditional coverage for subgroup==1\n",
    "cond_coverage = {\n",
    "    g: cp_groups_df.loc[cp_groups_df[g]==1, 'covered'].mean()\n",
    "    for g in subgroups\n",
    "}"
   ]
  },
  {
   "cell_type": "code",
   "execution_count": 69,
   "id": "1e348fb1-b9c3-45bc-ba23-f016827a7e0d",
   "metadata": {
    "execution": {
     "iopub.execute_input": "2025-07-30T13:41:13.013647Z",
     "iopub.status.busy": "2025-07-30T13:41:13.012737Z",
     "iopub.status.idle": "2025-07-30T13:41:13.021275Z",
     "shell.execute_reply": "2025-07-30T13:41:13.019308Z"
    },
    "papermill": {
     "duration": 0.039698,
     "end_time": "2025-07-30T13:41:13.023041",
     "exception": false,
     "start_time": "2025-07-30T13:41:12.983343",
     "status": "completed"
    },
    "tags": []
   },
   "outputs": [
    {
     "data": {
      "text/plain": [
       "{'frau1': 0.9078042862919531,\n",
       " 'nongerman': 0.9096727109414473,\n",
       " 'nongerman_male': 0.9284877960911465,\n",
       " 'nongerman_female': 0.8785394932935916}"
      ]
     },
     "execution_count": 69,
     "metadata": {},
     "output_type": "execute_result"
    }
   ],
   "source": [
    "cond_coverage"
   ]
  },
  {
   "cell_type": "code",
   "execution_count": 70,
   "id": "f5093324-c3dd-4d63-bc4c-8d945e5c8bbb",
   "metadata": {
    "execution": {
     "iopub.execute_input": "2025-07-30T13:41:13.079606Z",
     "iopub.status.busy": "2025-07-30T13:41:13.078597Z",
     "iopub.status.idle": "2025-07-30T13:41:13.086526Z",
     "shell.execute_reply": "2025-07-30T13:41:13.085511Z"
    },
    "papermill": {
     "duration": 0.036535,
     "end_time": "2025-07-30T13:41:13.088377",
     "exception": false,
     "start_time": "2025-07-30T13:41:13.051842",
     "status": "completed"
    },
    "tags": []
   },
   "outputs": [],
   "source": [
    "for subgroup, cov in cond_coverage.items():\n",
    "    cp_metrics_df[f\"cov_{subgroup}\"] = cov"
   ]
  },
  {
   "cell_type": "code",
   "execution_count": 71,
   "id": "6e872e10-dbe5-49e8-b554-5030c98ff75d",
   "metadata": {
    "execution": {
     "iopub.execute_input": "2025-07-30T13:41:13.191590Z",
     "iopub.status.busy": "2025-07-30T13:41:13.191177Z",
     "iopub.status.idle": "2025-07-30T13:41:13.210100Z",
     "shell.execute_reply": "2025-07-30T13:41:13.209187Z"
    },
    "papermill": {
     "duration": 0.094934,
     "end_time": "2025-07-30T13:41:13.211894",
     "exception": false,
     "start_time": "2025-07-30T13:41:13.116960",
     "status": "completed"
    },
    "tags": []
   },
   "outputs": [
    {
     "data": {
      "text/html": [
       "<div>\n",
       "<style scoped>\n",
       "    .dataframe tbody tr th:only-of-type {\n",
       "        vertical-align: middle;\n",
       "    }\n",
       "\n",
       "    .dataframe tbody tr th {\n",
       "        vertical-align: top;\n",
       "    }\n",
       "\n",
       "    .dataframe thead th {\n",
       "        text-align: right;\n",
       "    }\n",
       "</style>\n",
       "<table border=\"1\" class=\"dataframe\">\n",
       "  <thead>\n",
       "    <tr style=\"text-align: right;\">\n",
       "      <th></th>\n",
       "      <th>universe_id</th>\n",
       "      <th>universe_training_size</th>\n",
       "      <th>universe_scale</th>\n",
       "      <th>universe_model</th>\n",
       "      <th>universe_exclude_features</th>\n",
       "      <th>universe_exclude_subgroups</th>\n",
       "      <th>q_hat</th>\n",
       "      <th>coverage</th>\n",
       "      <th>avg_size</th>\n",
       "      <th>cov_frau1</th>\n",
       "      <th>cov_nongerman</th>\n",
       "      <th>cov_nongerman_male</th>\n",
       "      <th>cov_nongerman_female</th>\n",
       "    </tr>\n",
       "  </thead>\n",
       "  <tbody>\n",
       "    <tr>\n",
       "      <th>0</th>\n",
       "      <td>57094a62ac2f1d5ec61513e99177b593</td>\n",
       "      <td>5k</td>\n",
       "      <td>scale</td>\n",
       "      <td>penalized_logreg</td>\n",
       "      <td>none</td>\n",
       "      <td>keep-all</td>\n",
       "      <td>0.685035</td>\n",
       "      <td>0.9102</td>\n",
       "      <td>1.134322</td>\n",
       "      <td>0.907804</td>\n",
       "      <td>0.909673</td>\n",
       "      <td>0.928488</td>\n",
       "      <td>0.878539</td>\n",
       "    </tr>\n",
       "  </tbody>\n",
       "</table>\n",
       "</div>"
      ],
      "text/plain": [
       "                        universe_id universe_training_size universe_scale  \\\n",
       "0  57094a62ac2f1d5ec61513e99177b593                     5k          scale   \n",
       "\n",
       "     universe_model universe_exclude_features universe_exclude_subgroups  \\\n",
       "0  penalized_logreg                      none                   keep-all   \n",
       "\n",
       "      q_hat  coverage  avg_size  cov_frau1  cov_nongerman  cov_nongerman_male  \\\n",
       "0  0.685035    0.9102  1.134322   0.907804       0.909673            0.928488   \n",
       "\n",
       "   cov_nongerman_female  \n",
       "0              0.878539  "
      ]
     },
     "execution_count": 71,
     "metadata": {},
     "output_type": "execute_result"
    }
   ],
   "source": [
    "cp_metrics_df"
   ]
  },
  {
   "cell_type": "markdown",
   "id": "33774451",
   "metadata": {
    "papermill": {
     "duration": 0.027757,
     "end_time": "2025-07-30T13:41:13.269046",
     "exception": false,
     "start_time": "2025-07-30T13:41:13.241289",
     "status": "completed"
    },
    "tags": []
   },
   "source": [
    "# (Fairness) Metrics"
   ]
  },
  {
   "cell_type": "code",
   "execution_count": 72,
   "id": "debc5d62",
   "metadata": {
    "execution": {
     "iopub.execute_input": "2025-07-30T13:41:13.324220Z",
     "iopub.status.busy": "2025-07-30T13:41:13.323167Z",
     "iopub.status.idle": "2025-07-30T13:41:13.348662Z",
     "shell.execute_reply": "2025-07-30T13:41:13.347490Z"
    },
    "papermill": {
     "duration": 0.05484,
     "end_time": "2025-07-30T13:41:13.350630",
     "exception": false,
     "start_time": "2025-07-30T13:41:13.295790",
     "status": "completed"
    },
    "tags": []
   },
   "outputs": [],
   "source": [
    "# do I need to include maxdeutsch1.missing?\n",
    "\n",
    "import numpy as np\n",
    "\n",
    "colname_to_bin = \"maxdeutsch1\"\n",
    "majority_value = org_train[colname_to_bin].mode()[0]\n",
    "\n",
    "org_test[\"majmin\"] = np.where(org_test[colname_to_bin] == majority_value, \"majority\", \"minority\")"
   ]
  },
  {
   "cell_type": "code",
   "execution_count": 73,
   "id": "06a50de5",
   "metadata": {
    "execution": {
     "iopub.execute_input": "2025-07-30T13:41:13.414677Z",
     "iopub.status.busy": "2025-07-30T13:41:13.413890Z",
     "iopub.status.idle": "2025-07-30T13:41:15.797789Z",
     "shell.execute_reply": "2025-07-30T13:41:15.796761Z"
    },
    "papermill": {
     "duration": 2.415215,
     "end_time": "2025-07-30T13:41:15.799754",
     "exception": false,
     "start_time": "2025-07-30T13:41:13.384539",
     "status": "completed"
    },
    "tags": []
   },
   "outputs": [],
   "source": [
    "example_universe = universe.copy()\n",
    "example_universe[\"cutoff\"] = example_universe[\"cutoff\"][0]\n",
    "example_universe[\"eval_fairness_grouping\"] = example_universe[\"eval_fairness_grouping\"][0]\n",
    "fairness_dict, metric_frame = universe_analysis.compute_metrics(\n",
    "    example_universe,\n",
    "    y_pred_prob=probs_test,\n",
    "    y_test=y_true,\n",
    "    org_test=org_test,\n",
    ")"
   ]
  },
  {
   "cell_type": "markdown",
   "id": "f95d4e02",
   "metadata": {
    "papermill": {
     "duration": 0.027314,
     "end_time": "2025-07-30T13:41:15.859604",
     "exception": false,
     "start_time": "2025-07-30T13:41:15.832290",
     "status": "completed"
    },
    "tags": []
   },
   "source": [
    "# Overall"
   ]
  },
  {
   "cell_type": "markdown",
   "id": "bdee4871",
   "metadata": {
    "papermill": {
     "duration": 0.027557,
     "end_time": "2025-07-30T13:41:15.915892",
     "exception": false,
     "start_time": "2025-07-30T13:41:15.888335",
     "status": "completed"
    },
    "tags": []
   },
   "source": [
    "Fairness\n",
    "Main fairness target: Equalized Odds. Seems to be a better fit than equal opportunity, since we're not only interested in Y = 1. Seems to be a better fit than demographic parity, since we also care about accuracy, not just equal distribution of preds.\n",
    "\n",
    "Pick column for computation of fairness metrics\n",
    "\n",
    "Performance\n",
    "Overall performance measures, most interesting in relation to the measures split by group below"
   ]
  },
  {
   "cell_type": "code",
   "execution_count": 74,
   "id": "c4e067c6",
   "metadata": {
    "execution": {
     "iopub.execute_input": "2025-07-30T13:41:15.976429Z",
     "iopub.status.busy": "2025-07-30T13:41:15.975755Z",
     "iopub.status.idle": "2025-07-30T13:41:15.985179Z",
     "shell.execute_reply": "2025-07-30T13:41:15.984279Z"
    },
    "papermill": {
     "duration": 0.042002,
     "end_time": "2025-07-30T13:41:15.986727",
     "exception": false,
     "start_time": "2025-07-30T13:41:15.944725",
     "status": "completed"
    },
    "tags": []
   },
   "outputs": [
    {
     "data": {
      "text/plain": [
       "accuracy                   0.224289\n",
       "balanced accuracy          0.548436\n",
       "f1                         0.245623\n",
       "precision                  0.140316\n",
       "false positive rate        0.887573\n",
       "false negative rate        0.015554\n",
       "selection rate             0.900000\n",
       "count                  89710.000000\n",
       "dtype: float64"
      ]
     },
     "execution_count": 74,
     "metadata": {},
     "output_type": "execute_result"
    }
   ],
   "source": [
    "metric_frame.overall"
   ]
  },
  {
   "cell_type": "markdown",
   "id": "e968fe9d",
   "metadata": {
    "papermill": {
     "duration": 0.028997,
     "end_time": "2025-07-30T13:41:16.045106",
     "exception": false,
     "start_time": "2025-07-30T13:41:16.016109",
     "status": "completed"
    },
    "tags": []
   },
   "source": [
    "By Group"
   ]
  },
  {
   "cell_type": "code",
   "execution_count": 75,
   "id": "ec325bce",
   "metadata": {
    "execution": {
     "iopub.execute_input": "2025-07-30T13:41:16.105265Z",
     "iopub.status.busy": "2025-07-30T13:41:16.104335Z",
     "iopub.status.idle": "2025-07-30T13:41:16.121701Z",
     "shell.execute_reply": "2025-07-30T13:41:16.120758Z"
    },
    "papermill": {
     "duration": 0.050044,
     "end_time": "2025-07-30T13:41:16.123587",
     "exception": false,
     "start_time": "2025-07-30T13:41:16.073543",
     "status": "completed"
    },
    "tags": []
   },
   "outputs": [
    {
     "data": {
      "text/html": [
       "<div>\n",
       "<style scoped>\n",
       "    .dataframe tbody tr th:only-of-type {\n",
       "        vertical-align: middle;\n",
       "    }\n",
       "\n",
       "    .dataframe tbody tr th {\n",
       "        vertical-align: top;\n",
       "    }\n",
       "\n",
       "    .dataframe thead th {\n",
       "        text-align: right;\n",
       "    }\n",
       "</style>\n",
       "<table border=\"1\" class=\"dataframe\">\n",
       "  <thead>\n",
       "    <tr style=\"text-align: right;\">\n",
       "      <th></th>\n",
       "      <th>accuracy</th>\n",
       "      <th>balanced accuracy</th>\n",
       "      <th>f1</th>\n",
       "      <th>precision</th>\n",
       "      <th>false positive rate</th>\n",
       "      <th>false negative rate</th>\n",
       "      <th>selection rate</th>\n",
       "      <th>count</th>\n",
       "    </tr>\n",
       "    <tr>\n",
       "      <th>majmin</th>\n",
       "      <th></th>\n",
       "      <th></th>\n",
       "      <th></th>\n",
       "      <th></th>\n",
       "      <th></th>\n",
       "      <th></th>\n",
       "      <th></th>\n",
       "      <th></th>\n",
       "    </tr>\n",
       "  </thead>\n",
       "  <tbody>\n",
       "    <tr>\n",
       "      <th>majority</th>\n",
       "      <td>0.242041</td>\n",
       "      <td>0.55664</td>\n",
       "      <td>0.255496</td>\n",
       "      <td>0.146802</td>\n",
       "      <td>0.870965</td>\n",
       "      <td>0.015755</td>\n",
       "      <td>0.885933</td>\n",
       "      <td>69170.0</td>\n",
       "    </tr>\n",
       "    <tr>\n",
       "      <th>minority</th>\n",
       "      <td>0.164508</td>\n",
       "      <td>0.52139</td>\n",
       "      <td>0.213772</td>\n",
       "      <td>0.119893</td>\n",
       "      <td>0.942439</td>\n",
       "      <td>0.014780</td>\n",
       "      <td>0.947371</td>\n",
       "      <td>20540.0</td>\n",
       "    </tr>\n",
       "  </tbody>\n",
       "</table>\n",
       "</div>"
      ],
      "text/plain": [
       "          accuracy  balanced accuracy        f1  precision  \\\n",
       "majmin                                                       \n",
       "majority  0.242041            0.55664  0.255496   0.146802   \n",
       "minority  0.164508            0.52139  0.213772   0.119893   \n",
       "\n",
       "          false positive rate  false negative rate  selection rate    count  \n",
       "majmin                                                                       \n",
       "majority             0.870965             0.015755        0.885933  69170.0  \n",
       "minority             0.942439             0.014780        0.947371  20540.0  "
      ]
     },
     "execution_count": 75,
     "metadata": {},
     "output_type": "execute_result"
    }
   ],
   "source": [
    "metric_frame.by_group"
   ]
  },
  {
   "cell_type": "code",
   "execution_count": 76,
   "id": "a9ddbe63",
   "metadata": {
    "execution": {
     "iopub.execute_input": "2025-07-30T13:41:16.184586Z",
     "iopub.status.busy": "2025-07-30T13:41:16.183938Z",
     "iopub.status.idle": "2025-07-30T13:41:18.470885Z",
     "shell.execute_reply": "2025-07-30T13:41:18.469982Z"
    },
    "papermill": {
     "duration": 2.320693,
     "end_time": "2025-07-30T13:41:18.472690",
     "exception": false,
     "start_time": "2025-07-30T13:41:16.151997",
     "status": "completed"
    },
    "tags": []
   },
   "outputs": [
    {
     "data": {
      "text/plain": [
       "array([[<Axes: title={'center': 'accuracy'}, xlabel='majmin'>,\n",
       "        <Axes: title={'center': 'balanced accuracy'}, xlabel='majmin'>,\n",
       "        <Axes: title={'center': 'f1'}, xlabel='majmin'>],\n",
       "       [<Axes: title={'center': 'precision'}, xlabel='majmin'>,\n",
       "        <Axes: title={'center': 'false positive rate'}, xlabel='majmin'>,\n",
       "        <Axes: title={'center': 'false negative rate'}, xlabel='majmin'>],\n",
       "       [<Axes: title={'center': 'selection rate'}, xlabel='majmin'>,\n",
       "        <Axes: title={'center': 'count'}, xlabel='majmin'>,\n",
       "        <Axes: xlabel='majmin'>]], dtype=object)"
      ]
     },
     "execution_count": 76,
     "metadata": {},
     "output_type": "execute_result"
    },
    {
     "data": {
      "image/png": "[encoded data removed]",
      "text/plain": [
       "<Figure size 1200x800 with 9 Axes>"
      ]
     },
     "metadata": {},
     "output_type": "display_data"
    }
   ],
   "source": [
    "# In a graphic\n",
    "metric_frame.by_group.plot.bar(\n",
    "    subplots=True,\n",
    "    layout=[3, 3],\n",
    "    legend=False,\n",
    "    figsize=[12, 8],\n",
    "    title=\"Show all metrics\",\n",
    ")"
   ]
  },
  {
   "cell_type": "markdown",
   "id": "f57a0bac",
   "metadata": {
    "papermill": {
     "duration": 0.028117,
     "end_time": "2025-07-30T13:41:18.529499",
     "exception": false,
     "start_time": "2025-07-30T13:41:18.501382",
     "status": "completed"
    },
    "tags": []
   },
   "source": [
    "# Final Output"
   ]
  },
  {
   "cell_type": "code",
   "execution_count": 77,
   "id": "96d280a3",
   "metadata": {
    "execution": {
     "iopub.execute_input": "2025-07-30T13:41:18.588142Z",
     "iopub.status.busy": "2025-07-30T13:41:18.587302Z",
     "iopub.status.idle": "2025-07-30T13:41:18.595502Z",
     "shell.execute_reply": "2025-07-30T13:41:18.594667Z"
    },
    "papermill": {
     "duration": 0.040767,
     "end_time": "2025-07-30T13:41:18.597091",
     "exception": false,
     "start_time": "2025-07-30T13:41:18.556324",
     "status": "completed"
    },
    "tags": []
   },
   "outputs": [
    {
     "data": {
      "text/plain": [
       "4"
      ]
     },
     "execution_count": 77,
     "metadata": {},
     "output_type": "execute_result"
    }
   ],
   "source": [
    "sub_universes = universe_analysis.generate_sub_universes()\n",
    "len(sub_universes)"
   ]
  },
  {
   "cell_type": "code",
   "execution_count": 78,
   "id": "92adf7ba",
   "metadata": {
    "execution": {
     "iopub.execute_input": "2025-07-30T13:41:18.658069Z",
     "iopub.status.busy": "2025-07-30T13:41:18.657416Z",
     "iopub.status.idle": "2025-07-30T13:41:18.663835Z",
     "shell.execute_reply": "2025-07-30T13:41:18.662935Z"
    },
    "papermill": {
     "duration": 0.0376,
     "end_time": "2025-07-30T13:41:18.665368",
     "exception": false,
     "start_time": "2025-07-30T13:41:18.627768",
     "status": "completed"
    },
    "tags": []
   },
   "outputs": [],
   "source": [
    "def filter_sub_universe_data(sub_universe, org_test):\n",
    "    # Keep all rows — no filtering\n",
    "    keep_rows_mask = np.ones(org_test.shape[0], dtype=bool)\n",
    "\n",
    "    print(f\"[INFO] Keeping all rows: {keep_rows_mask.sum()} rows retained.\")\n",
    "    return keep_rows_mask"
   ]
  },
  {
   "cell_type": "code",
   "execution_count": 79,
   "id": "4a759155",
   "metadata": {
    "execution": {
     "iopub.execute_input": "2025-07-30T13:41:18.727094Z",
     "iopub.status.busy": "2025-07-30T13:41:18.726585Z",
     "iopub.status.idle": "2025-07-30T13:41:28.721694Z",
     "shell.execute_reply": "2025-07-30T13:41:28.720788Z"
    },
    "papermill": {
     "duration": 10.026115,
     "end_time": "2025-07-30T13:41:28.723316",
     "exception": false,
     "start_time": "2025-07-30T13:41:18.697201",
     "status": "completed"
    },
    "tags": []
   },
   "outputs": [
    {
     "name": "stdout",
     "output_type": "stream",
     "text": [
      "Stopping execution_time clock.\n",
      "[INFO] Keeping all rows: 89710 rows retained.\n"
     ]
    },
    {
     "name": "stdout",
     "output_type": "stream",
     "text": [
      "[INFO] Keeping all rows: 89710 rows retained.\n"
     ]
    },
    {
     "name": "stdout",
     "output_type": "stream",
     "text": [
      "[INFO] Keeping all rows: 89710 rows retained.\n"
     ]
    },
    {
     "name": "stdout",
     "output_type": "stream",
     "text": [
      "[INFO] Keeping all rows: 89710 rows retained.\n"
     ]
    },
    {
     "data": {
      "text/html": [
       "<div>\n",
       "<style scoped>\n",
       "    .dataframe tbody tr th:only-of-type {\n",
       "        vertical-align: middle;\n",
       "    }\n",
       "\n",
       "    .dataframe tbody tr th {\n",
       "        vertical-align: top;\n",
       "    }\n",
       "\n",
       "    .dataframe thead th {\n",
       "        text-align: right;\n",
       "    }\n",
       "</style>\n",
       "<table border=\"1\" class=\"dataframe\">\n",
       "  <thead>\n",
       "    <tr style=\"text-align: right;\">\n",
       "      <th></th>\n",
       "      <th>run_no</th>\n",
       "      <th>universe_id</th>\n",
       "      <th>universe_settings</th>\n",
       "      <th>execution_time</th>\n",
       "      <th>test_size_n</th>\n",
       "      <th>test_size_frac</th>\n",
       "      <th>fair_main_equalized_odds_difference</th>\n",
       "      <th>fair_main_equalized_odds_ratio</th>\n",
       "      <th>fair_main_demographic_parity_difference</th>\n",
       "      <th>fair_main_demographic_parity_ratio</th>\n",
       "      <th>...</th>\n",
       "      <th>perf_grp_precision_0</th>\n",
       "      <th>perf_grp_precision_1</th>\n",
       "      <th>perf_grp_false positive rate_0</th>\n",
       "      <th>perf_grp_false positive rate_1</th>\n",
       "      <th>perf_grp_false negative rate_0</th>\n",
       "      <th>perf_grp_false negative rate_1</th>\n",
       "      <th>perf_grp_selection rate_0</th>\n",
       "      <th>perf_grp_selection rate_1</th>\n",
       "      <th>perf_grp_count_0</th>\n",
       "      <th>perf_grp_count_1</th>\n",
       "    </tr>\n",
       "  </thead>\n",
       "  <tbody>\n",
       "    <tr>\n",
       "      <th>0</th>\n",
       "      <td>12</td>\n",
       "      <td>57094a62ac2f1d5ec61513e99177b593</td>\n",
       "      <td>{\"cutoff\": \"quantile_0.1\", \"eval_fairness_grou...</td>\n",
       "      <td>26.658462</td>\n",
       "      <td>89710</td>\n",
       "      <td>1.0</td>\n",
       "      <td>0.071474</td>\n",
       "      <td>0.924160</td>\n",
       "      <td>0.061438</td>\n",
       "      <td>0.935149</td>\n",
       "      <td>...</td>\n",
       "      <td>NaN</td>\n",
       "      <td>NaN</td>\n",
       "      <td>NaN</td>\n",
       "      <td>NaN</td>\n",
       "      <td>NaN</td>\n",
       "      <td>NaN</td>\n",
       "      <td>NaN</td>\n",
       "      <td>NaN</td>\n",
       "      <td>NaN</td>\n",
       "      <td>NaN</td>\n",
       "    </tr>\n",
       "    <tr>\n",
       "      <th>0</th>\n",
       "      <td>12</td>\n",
       "      <td>57094a62ac2f1d5ec61513e99177b593</td>\n",
       "      <td>{\"cutoff\": \"quantile_0.1\", \"eval_fairness_grou...</td>\n",
       "      <td>26.658462</td>\n",
       "      <td>89710</td>\n",
       "      <td>1.0</td>\n",
       "      <td>0.071474</td>\n",
       "      <td>0.924160</td>\n",
       "      <td>0.061438</td>\n",
       "      <td>0.935149</td>\n",
       "      <td>...</td>\n",
       "      <td>0.119893</td>\n",
       "      <td>0.146802</td>\n",
       "      <td>0.942439</td>\n",
       "      <td>0.870965</td>\n",
       "      <td>0.014780</td>\n",
       "      <td>0.015755</td>\n",
       "      <td>0.947371</td>\n",
       "      <td>0.885933</td>\n",
       "      <td>20540.0</td>\n",
       "      <td>69170.0</td>\n",
       "    </tr>\n",
       "    <tr>\n",
       "      <th>0</th>\n",
       "      <td>12</td>\n",
       "      <td>57094a62ac2f1d5ec61513e99177b593</td>\n",
       "      <td>{\"cutoff\": \"quantile_0.25\", \"eval_fairness_gro...</td>\n",
       "      <td>26.658462</td>\n",
       "      <td>89710</td>\n",
       "      <td>1.0</td>\n",
       "      <td>0.150998</td>\n",
       "      <td>0.819916</td>\n",
       "      <td>0.130902</td>\n",
       "      <td>0.846165</td>\n",
       "      <td>...</td>\n",
       "      <td>NaN</td>\n",
       "      <td>NaN</td>\n",
       "      <td>NaN</td>\n",
       "      <td>NaN</td>\n",
       "      <td>NaN</td>\n",
       "      <td>NaN</td>\n",
       "      <td>NaN</td>\n",
       "      <td>NaN</td>\n",
       "      <td>NaN</td>\n",
       "      <td>NaN</td>\n",
       "    </tr>\n",
       "    <tr>\n",
       "      <th>0</th>\n",
       "      <td>12</td>\n",
       "      <td>57094a62ac2f1d5ec61513e99177b593</td>\n",
       "      <td>{\"cutoff\": \"quantile_0.25\", \"eval_fairness_gro...</td>\n",
       "      <td>26.658462</td>\n",
       "      <td>89710</td>\n",
       "      <td>1.0</td>\n",
       "      <td>0.150998</td>\n",
       "      <td>0.819916</td>\n",
       "      <td>0.130902</td>\n",
       "      <td>0.846165</td>\n",
       "      <td>...</td>\n",
       "      <td>0.128218</td>\n",
       "      <td>0.171352</td>\n",
       "      <td>0.838488</td>\n",
       "      <td>0.687490</td>\n",
       "      <td>0.053632</td>\n",
       "      <td>0.066302</td>\n",
       "      <td>0.850925</td>\n",
       "      <td>0.720023</td>\n",
       "      <td>20540.0</td>\n",
       "      <td>69170.0</td>\n",
       "    </tr>\n",
       "  </tbody>\n",
       "</table>\n",
       "<p>4 rows × 50 columns</p>\n",
       "</div>"
      ],
      "text/plain": [
       "  run_no                       universe_id  \\\n",
       "0     12  57094a62ac2f1d5ec61513e99177b593   \n",
       "0     12  57094a62ac2f1d5ec61513e99177b593   \n",
       "0     12  57094a62ac2f1d5ec61513e99177b593   \n",
       "0     12  57094a62ac2f1d5ec61513e99177b593   \n",
       "\n",
       "                                   universe_settings  execution_time  \\\n",
       "0  {\"cutoff\": \"quantile_0.1\", \"eval_fairness_grou...       26.658462   \n",
       "0  {\"cutoff\": \"quantile_0.1\", \"eval_fairness_grou...       26.658462   \n",
       "0  {\"cutoff\": \"quantile_0.25\", \"eval_fairness_gro...       26.658462   \n",
       "0  {\"cutoff\": \"quantile_0.25\", \"eval_fairness_gro...       26.658462   \n",
       "\n",
       "   test_size_n  test_size_frac  fair_main_equalized_odds_difference  \\\n",
       "0        89710             1.0                             0.071474   \n",
       "0        89710             1.0                             0.071474   \n",
       "0        89710             1.0                             0.150998   \n",
       "0        89710             1.0                             0.150998   \n",
       "\n",
       "   fair_main_equalized_odds_ratio  fair_main_demographic_parity_difference  \\\n",
       "0                        0.924160                                 0.061438   \n",
       "0                        0.924160                                 0.061438   \n",
       "0                        0.819916                                 0.130902   \n",
       "0                        0.819916                                 0.130902   \n",
       "\n",
       "   fair_main_demographic_parity_ratio  ...  perf_grp_precision_0  \\\n",
       "0                            0.935149  ...                   NaN   \n",
       "0                            0.935149  ...              0.119893   \n",
       "0                            0.846165  ...                   NaN   \n",
       "0                            0.846165  ...              0.128218   \n",
       "\n",
       "   perf_grp_precision_1  perf_grp_false positive rate_0  \\\n",
       "0                   NaN                             NaN   \n",
       "0              0.146802                        0.942439   \n",
       "0                   NaN                             NaN   \n",
       "0              0.171352                        0.838488   \n",
       "\n",
       "   perf_grp_false positive rate_1  perf_grp_false negative rate_0  \\\n",
       "0                             NaN                             NaN   \n",
       "0                        0.870965                        0.014780   \n",
       "0                             NaN                             NaN   \n",
       "0                        0.687490                        0.053632   \n",
       "\n",
       "   perf_grp_false negative rate_1  perf_grp_selection rate_0  \\\n",
       "0                             NaN                        NaN   \n",
       "0                        0.015755                   0.947371   \n",
       "0                             NaN                        NaN   \n",
       "0                        0.066302                   0.850925   \n",
       "\n",
       "   perf_grp_selection rate_1  perf_grp_count_0  perf_grp_count_1  \n",
       "0                        NaN               NaN               NaN  \n",
       "0                   0.885933           20540.0           69170.0  \n",
       "0                        NaN               NaN               NaN  \n",
       "0                   0.720023           20540.0           69170.0  \n",
       "\n",
       "[4 rows x 50 columns]"
      ]
     },
     "execution_count": 79,
     "metadata": {},
     "output_type": "execute_result"
    }
   ],
   "source": [
    "final_output = universe_analysis.generate_final_output(\n",
    "    y_pred_prob=probs_test,\n",
    "    y_test=y_true,\n",
    "    org_test=org_test,\n",
    "    filter_data=filter_sub_universe_data,\n",
    "    cp_metrics_df=cp_metrics_df,\n",
    "    save=True,\n",
    ")\n",
    "final_output"
   ]
  },
  {
   "cell_type": "code",
   "execution_count": null,
   "id": "721ff514-cb11-46f8-b6fc-50392f74b5cb",
   "metadata": {
    "papermill": {
     "duration": 0.052331,
     "end_time": "2025-07-30T13:41:28.810534",
     "exception": false,
     "start_time": "2025-07-30T13:41:28.758203",
     "status": "completed"
    },
    "tags": []
   },
   "outputs": [],
   "source": []
  }
 ],
 "metadata": {
  "celltoolbar": "Tags",
  "kernelspec": {
   "display_name": "Python (CMA Fairness)",
   "language": "python",
   "name": "cma_fair_env"
  },
  "language_info": {
   "codemirror_mode": {
    "name": "ipython",
    "version": 3
   },
   "file_extension": ".py",
   "mimetype": "text/x-python",
   "name": "python",
   "nbconvert_exporter": "python",
   "pygments_lexer": "ipython3",
   "version": "3.10.12"
  },
  "papermill": {
   "default_parameters": {},
   "duration": 40.92535,
   "end_time": "2025-07-30T13:41:29.665130",
   "environment_variables": {},
   "exception": null,
   "input_path": "universe_analysis.ipynb",
   "output_path": "output/runs/12/notebooks/m_12-57094a62ac2f1d5ec61513e99177b593.ipynb",
   "parameters": {
    "output_dir": "output",
    "run_no": "12",
    "seed": "2023",
    "universe": "{\"cutoff\": [\"quantile_0.1\", \"quantile_0.25\"], \"eval_fairness_grouping\": [\"majority-minority\", \"nationality-all\"], \"exclude_features\": \"none\", \"exclude_subgroups\": \"keep-all\", \"model\": \"penalized_logreg\", \"scale\": \"scale\", \"training_size\": \"5k\", \"training_year\": \"2014\"}",
    "universe_id": "57094a62ac2f1d5ec61513e99177b593"
   },
   "start_time": "2025-07-30T13:40:48.739780",
   "version": "2.6.0"
  }
 },
 "nbformat": 4,
 "nbformat_minor": 5
}