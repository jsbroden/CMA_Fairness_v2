{
 "cells": [
  {
   "cell_type": "code",
   "execution_count": 1,
   "id": "f159f837-637b-42ba-96b5-ec9a68c44524",
   "metadata": {
    "execution": {
     "iopub.execute_input": "2025-07-30T13:50:15.484257Z",
     "iopub.status.busy": "2025-07-30T13:50:15.483750Z",
     "iopub.status.idle": "2025-07-30T13:50:15.496409Z",
     "shell.execute_reply": "2025-07-30T13:50:15.495681Z"
    },
    "papermill": {
     "duration": 0.029827,
     "end_time": "2025-07-30T13:50:15.497701",
     "exception": false,
     "start_time": "2025-07-30T13:50:15.467874",
     "status": "completed"
    },
    "tags": []
   },
   "outputs": [
    {
     "name": "stdout",
     "output_type": "stream",
     "text": [
      "/dss/dsshome1/0C/ra93lal2/cma/CMA_Fairness_v2\n"
     ]
    },
    {
     "name": "stderr",
     "output_type": "stream",
     "text": [
      "/dss/dsshome1/0C/ra93lal2/.local/share/virtualenvs/CMA_Fairness_v2-3j10GkSs/lib/python3.10/site-packages/IPython/core/magics/osm.py:393: UserWarning: This is now an optional IPython functionality, using bookmarks requires you to install the `pickleshare` library.\n",
      "  bkms = self.shell.db.get('bookmarks', {})\n",
      "/dss/dsshome1/0C/ra93lal2/.local/share/virtualenvs/CMA_Fairness_v2-3j10GkSs/lib/python3.10/site-packages/IPython/core/magics/osm.py:417: UserWarning: This is now an optional IPython functionality, setting dhist requires you to install the `pickleshare` library.\n",
      "  self.shell.db['dhist'] = compress_dhist(dhist)[-100:]\n"
     ]
    }
   ],
   "source": [
    "%cd ~/cma/CMA_Fairness_v2"
   ]
  },
  {
   "cell_type": "markdown",
   "id": "de2603b9",
   "metadata": {
    "papermill": {
     "duration": 0.009823,
     "end_time": "2025-07-30T13:50:15.517491",
     "exception": false,
     "start_time": "2025-07-30T13:50:15.507668",
     "status": "completed"
    },
    "tags": []
   },
   "source": [
    "The following cell holds the definition of our parameters, these values can be overriden by rendering the with e.g. the following command:\n",
    "\n",
    "papermill -p alpha 0.2 -p ratio 0.3 universe_analysis.ipynb output/test_run.ipynb"
   ]
  },
  {
   "cell_type": "code",
   "execution_count": 2,
   "id": "a80968a0-40bb-4fa9-85ef-2d5eefb01975",
   "metadata": {
    "execution": {
     "iopub.execute_input": "2025-07-30T13:50:15.544292Z",
     "iopub.status.busy": "2025-07-30T13:50:15.543622Z",
     "iopub.status.idle": "2025-07-30T13:50:15.551730Z",
     "shell.execute_reply": "2025-07-30T13:50:15.550602Z"
    },
    "papermill": {
     "duration": 0.026895,
     "end_time": "2025-07-30T13:50:15.553945",
     "exception": false,
     "start_time": "2025-07-30T13:50:15.527050",
     "status": "completed"
    },
    "tags": []
   },
   "outputs": [
    {
     "name": "stdout",
     "output_type": "stream",
     "text": [
      "Current working directory: /dss/dsshome1/0C/ra93lal2/cma/CMA_Fairness_v2\n"
     ]
    }
   ],
   "source": [
    "import os\n",
    "print(\"Current working directory:\", os.getcwd())"
   ]
  },
  {
   "cell_type": "code",
   "execution_count": 3,
   "id": "2dce4c03",
   "metadata": {
    "execution": {
     "iopub.execute_input": "2025-07-30T13:50:15.600511Z",
     "iopub.status.busy": "2025-07-30T13:50:15.596748Z",
     "iopub.status.idle": "2025-07-30T13:50:15.605758Z",
     "shell.execute_reply": "2025-07-30T13:50:15.604810Z"
    },
    "papermill": {
     "duration": 0.031612,
     "end_time": "2025-07-30T13:50:15.607391",
     "exception": false,
     "start_time": "2025-07-30T13:50:15.575779",
     "status": "completed"
    },
    "tags": [
     "parameters"
    ]
   },
   "outputs": [],
   "source": [
    "run_no = 0\n",
    "universe_id = \"test\"\n",
    "universe = {\n",
    "    \"training_size\": \"25k\", # \"25k\", \"5k\", \"1k\"\n",
    "    \"training_year\": \"2014\", # \"2014\", \"2012_14\", \"2010_14\"\n",
    "    \"scale\": \"scale\", # \"scale\", \"do-not-scale\",\n",
    "    #\"stratify_split\": \"target\", # \"none\", \"target\", \"protected-attribute\", \"both\",\n",
    "    \"model\": \"elasticnet\", # \"logreg\", \"penalized_logreg\", \"rf\", \"gbm\", \"elasticnet\"\n",
    "    \"cutoff\": [\"quantile_0.15\", \"quantile_0.30\"],\n",
    "    \"exclude_features\": \"age\", # \"none\", \"nationality\", \"sex\", \"nationality-sex\", \"age\"\n",
    "    \"exclude_subgroups\": \"keep-all\", # \"keep-all\", \"drop-non-german\"\n",
    "    \"eval_fairness_grouping\": [\"majority-minority\", \"nationality-all\"]\n",
    "}\n",
    "\n",
    "output_dir=\"./output\"\n",
    "seed=0"
   ]
  },
  {
   "cell_type": "code",
   "execution_count": 4,
   "id": "93807566",
   "metadata": {
    "execution": {
     "iopub.execute_input": "2025-07-30T13:50:15.651168Z",
     "iopub.status.busy": "2025-07-30T13:50:15.650183Z",
     "iopub.status.idle": "2025-07-30T13:50:15.655925Z",
     "shell.execute_reply": "2025-07-30T13:50:15.654994Z"
    },
    "papermill": {
     "duration": 0.030679,
     "end_time": "2025-07-30T13:50:15.657776",
     "exception": false,
     "start_time": "2025-07-30T13:50:15.627097",
     "status": "completed"
    },
    "tags": [
     "injected-parameters"
    ]
   },
   "outputs": [],
   "source": [
    "# Parameters\n",
    "universe_id = \"2f3fa3502cc024b67f76376a81dc38f0\"\n",
    "run_no = \"12\"\n",
    "universe = \"{\\\"cutoff\\\": [\\\"quantile_0.1\\\", \\\"quantile_0.25\\\"], \\\"eval_fairness_grouping\\\": [\\\"majority-minority\\\", \\\"nationality-all\\\"], \\\"exclude_features\\\": \\\"sex\\\", \\\"exclude_subgroups\\\": \\\"keep-all\\\", \\\"model\\\": \\\"gbm\\\", \\\"scale\\\": \\\"do-not-scale\\\", \\\"training_size\\\": \\\"5k\\\", \\\"training_year\\\": \\\"2014\\\"}\"\n",
    "output_dir = \"output\"\n",
    "seed = \"2023\"\n"
   ]
  },
  {
   "cell_type": "code",
   "execution_count": 5,
   "id": "1650acaf",
   "metadata": {
    "execution": {
     "iopub.execute_input": "2025-07-30T13:50:15.701594Z",
     "iopub.status.busy": "2025-07-30T13:50:15.700565Z",
     "iopub.status.idle": "2025-07-30T13:50:15.706831Z",
     "shell.execute_reply": "2025-07-30T13:50:15.705753Z"
    },
    "papermill": {
     "duration": 0.029228,
     "end_time": "2025-07-30T13:50:15.708471",
     "exception": false,
     "start_time": "2025-07-30T13:50:15.679243",
     "status": "completed"
    },
    "tags": []
   },
   "outputs": [],
   "source": [
    "import json\n",
    "# Parse universe into dict if it is passed as a string\n",
    "if isinstance(universe, str):\n",
    "    universe = json.loads(universe)"
   ]
  },
  {
   "cell_type": "code",
   "execution_count": 6,
   "id": "16620c48",
   "metadata": {
    "execution": {
     "iopub.execute_input": "2025-07-30T13:50:15.750601Z",
     "iopub.status.busy": "2025-07-30T13:50:15.749882Z",
     "iopub.status.idle": "2025-07-30T13:50:15.799715Z",
     "shell.execute_reply": "2025-07-30T13:50:15.798715Z"
    },
    "papermill": {
     "duration": 0.072713,
     "end_time": "2025-07-30T13:50:15.801617",
     "exception": false,
     "start_time": "2025-07-30T13:50:15.728904",
     "status": "completed"
    },
    "tags": []
   },
   "outputs": [],
   "source": [
    "# Auto-reload the custom package\n",
    "%load_ext autoreload\n",
    "%autoreload 1\n",
    "%aimport fairness_multiverse"
   ]
  },
  {
   "cell_type": "code",
   "execution_count": 7,
   "id": "01c5c9f3",
   "metadata": {
    "execution": {
     "iopub.execute_input": "2025-07-30T13:50:15.845231Z",
     "iopub.status.busy": "2025-07-30T13:50:15.844605Z",
     "iopub.status.idle": "2025-07-30T13:50:17.854953Z",
     "shell.execute_reply": "2025-07-30T13:50:17.853915Z"
    },
    "papermill": {
     "duration": 2.033327,
     "end_time": "2025-07-30T13:50:17.856884",
     "exception": false,
     "start_time": "2025-07-30T13:50:15.823557",
     "status": "completed"
    },
    "tags": []
   },
   "outputs": [],
   "source": [
    "from fairness_multiverse.universe import UniverseAnalysis\n",
    "\n",
    "universe_analysis = UniverseAnalysis(\n",
    "    run_no = run_no,\n",
    "    universe_id = universe_id,\n",
    "    universe = universe,\n",
    "    output_dir=output_dir,\n",
    ")"
   ]
  },
  {
   "cell_type": "code",
   "execution_count": 8,
   "id": "106241f5",
   "metadata": {
    "execution": {
     "iopub.execute_input": "2025-07-30T13:50:17.901536Z",
     "iopub.status.busy": "2025-07-30T13:50:17.901065Z",
     "iopub.status.idle": "2025-07-30T13:50:17.907669Z",
     "shell.execute_reply": "2025-07-30T13:50:17.906845Z"
    },
    "papermill": {
     "duration": 0.0299,
     "end_time": "2025-07-30T13:50:17.909219",
     "exception": false,
     "start_time": "2025-07-30T13:50:17.879319",
     "status": "completed"
    },
    "tags": []
   },
   "outputs": [
    {
     "name": "stdout",
     "output_type": "stream",
     "text": [
      "Using Seed: 2023\n"
     ]
    }
   ],
   "source": [
    "import numpy as np\n",
    "parsed_seed = int(seed)\n",
    "np.random.seed(parsed_seed)\n",
    "print(f\"Using Seed: {parsed_seed}\")"
   ]
  },
  {
   "cell_type": "markdown",
   "id": "e0ebdc57",
   "metadata": {
    "papermill": {
     "duration": 0.020423,
     "end_time": "2025-07-30T13:50:17.950222",
     "exception": false,
     "start_time": "2025-07-30T13:50:17.929799",
     "status": "completed"
    },
    "tags": []
   },
   "source": [
    "# Loading Data"
   ]
  },
  {
   "cell_type": "markdown",
   "id": "681925a3",
   "metadata": {
    "papermill": {
     "duration": 0.020975,
     "end_time": "2025-07-30T13:50:17.991606",
     "exception": false,
     "start_time": "2025-07-30T13:50:17.970631",
     "status": "completed"
    },
    "tags": []
   },
   "source": [
    "Load siab_train, siab_test, siab_calib and/or \n",
    "load siab_train_features, siab_train_labels"
   ]
  },
  {
   "cell_type": "code",
   "execution_count": 9,
   "id": "f0496b8a",
   "metadata": {
    "execution": {
     "iopub.execute_input": "2025-07-30T13:50:18.034622Z",
     "iopub.status.busy": "2025-07-30T13:50:18.034142Z",
     "iopub.status.idle": "2025-07-30T13:50:29.729552Z",
     "shell.execute_reply": "2025-07-30T13:50:29.728396Z"
    },
    "papermill": {
     "duration": 11.718608,
     "end_time": "2025-07-30T13:50:29.731156",
     "exception": false,
     "start_time": "2025-07-30T13:50:18.012548",
     "status": "completed"
    },
    "tags": []
   },
   "outputs": [
    {
     "name": "stdout",
     "output_type": "stream",
     "text": [
      "Loading SIAB data from cache: data/siab_cached.csv.gz\n"
     ]
    },
    {
     "name": "stdout",
     "output_type": "stream",
     "text": [
      "(643690, 164)\n"
     ]
    }
   ],
   "source": [
    "from pathlib import Path\n",
    "import pandas as pd\n",
    "\n",
    "# File paths\n",
    "raw_file = Path(\"data/raw/siab.csv\")\n",
    "cache_file = Path(\"data/siab_cached.csv.gz\")\n",
    "\n",
    "# Ensure cache directory exists\n",
    "cache_file.parent.mkdir(parents=True, exist_ok=True)\n",
    "\n",
    "# Load with simple caching\n",
    "if cache_file.exists():\n",
    "    print(f\"Loading SIAB data from cache: {cache_file}\")\n",
    "    siab = pd.read_csv(cache_file, compression='gzip')\n",
    "else:\n",
    "    print(f\"Cache not found. Reading raw SIAB data: {raw_file}\")\n",
    "    siab = pd.read_csv(raw_file)\n",
    "    siab.to_csv(cache_file, index=False, compression='gzip')\n",
    "    print(f\"Cached SIAB data to: {cache_file}\")\n",
    "\n",
    "# Now use `siab` DataFrame as needed\n",
    "print(siab.shape)"
   ]
  },
  {
   "cell_type": "code",
   "execution_count": 10,
   "id": "db0ca512-5f53-4dba-abdb-a2888bca41ba",
   "metadata": {
    "execution": {
     "iopub.execute_input": "2025-07-30T13:50:29.776644Z",
     "iopub.status.busy": "2025-07-30T13:50:29.775948Z",
     "iopub.status.idle": "2025-07-30T13:50:29.781244Z",
     "shell.execute_reply": "2025-07-30T13:50:29.780346Z"
    },
    "papermill": {
     "duration": 0.029746,
     "end_time": "2025-07-30T13:50:29.782918",
     "exception": false,
     "start_time": "2025-07-30T13:50:29.753172",
     "status": "completed"
    },
    "tags": []
   },
   "outputs": [],
   "source": [
    "#siab"
   ]
  },
  {
   "cell_type": "code",
   "execution_count": 11,
   "id": "a0edb063",
   "metadata": {
    "execution": {
     "iopub.execute_input": "2025-07-30T13:50:29.824120Z",
     "iopub.status.busy": "2025-07-30T13:50:29.823380Z",
     "iopub.status.idle": "2025-07-30T13:50:29.828636Z",
     "shell.execute_reply": "2025-07-30T13:50:29.827693Z"
    },
    "papermill": {
     "duration": 0.02717,
     "end_time": "2025-07-30T13:50:29.830248",
     "exception": false,
     "start_time": "2025-07-30T13:50:29.803078",
     "status": "completed"
    },
    "tags": []
   },
   "outputs": [],
   "source": [
    "#import pandas as pd\n",
    "#\n",
    "#X_train = pd.read_csv(\"./data/X_train.csv\")\n",
    "#y_train = pd.read_csv(\"./data/y_train.csv\")"
   ]
  },
  {
   "cell_type": "code",
   "execution_count": 12,
   "id": "63d08085",
   "metadata": {
    "execution": {
     "iopub.execute_input": "2025-07-30T13:50:29.869742Z",
     "iopub.status.busy": "2025-07-30T13:50:29.869205Z",
     "iopub.status.idle": "2025-07-30T13:50:29.873801Z",
     "shell.execute_reply": "2025-07-30T13:50:29.872836Z"
    },
    "papermill": {
     "duration": 0.025895,
     "end_time": "2025-07-30T13:50:29.875367",
     "exception": false,
     "start_time": "2025-07-30T13:50:29.849472",
     "status": "completed"
    },
    "tags": []
   },
   "outputs": [],
   "source": [
    "#X_test = pd.read_csv(\"./data/X_test.csv\")\n",
    "#y_true = pd.read_csv(\"./data/y_test.csv\")"
   ]
  },
  {
   "cell_type": "code",
   "execution_count": 13,
   "id": "98a8d0fa-1d3d-4ed8-bb2c-281470e24add",
   "metadata": {
    "execution": {
     "iopub.execute_input": "2025-07-30T13:50:29.915053Z",
     "iopub.status.busy": "2025-07-30T13:50:29.914336Z",
     "iopub.status.idle": "2025-07-30T13:50:29.919501Z",
     "shell.execute_reply": "2025-07-30T13:50:29.918647Z"
    },
    "papermill": {
     "duration": 0.02631,
     "end_time": "2025-07-30T13:50:29.921186",
     "exception": false,
     "start_time": "2025-07-30T13:50:29.894876",
     "status": "completed"
    },
    "tags": []
   },
   "outputs": [],
   "source": [
    "# Calibration data for conformal\n",
    "#X_calib = pd.read_csv(\"./data/X_calib.csv\")\n",
    "#y_calib = pd.read_csv(\"./data/y_calib.csv\")"
   ]
  },
  {
   "cell_type": "markdown",
   "id": "997051c5-15bd-4b69-9786-c3001a3ce484",
   "metadata": {
    "papermill": {
     "duration": 0.018612,
     "end_time": "2025-07-30T13:50:29.959793",
     "exception": false,
     "start_time": "2025-07-30T13:50:29.941181",
     "status": "completed"
    },
    "tags": []
   },
   "source": [
    "# Splitting Data and Setting Training Data Size"
   ]
  },
  {
   "cell_type": "code",
   "execution_count": 14,
   "id": "e993b61f-042d-41a6-8c81-f55681f86335",
   "metadata": {
    "execution": {
     "iopub.execute_input": "2025-07-30T13:50:29.999426Z",
     "iopub.status.busy": "2025-07-30T13:50:29.998863Z",
     "iopub.status.idle": "2025-07-30T13:50:30.012517Z",
     "shell.execute_reply": "2025-07-30T13:50:30.011510Z"
    },
    "papermill": {
     "duration": 0.034837,
     "end_time": "2025-07-30T13:50:30.014064",
     "exception": false,
     "start_time": "2025-07-30T13:50:29.979227",
     "status": "completed"
    },
    "tags": []
   },
   "outputs": [],
   "source": [
    "def sample_by_year_size(df,\n",
    "                        training_year: str,\n",
    "                        training_size: str,\n",
    "                        random_state: int = 42):\n",
    "    # --- parse training_year into a list of int years ---\n",
    "    if \"_\" in training_year:\n",
    "        start_str, end_str = training_year.split(\"_\", 1)\n",
    "        start = int(start_str)\n",
    "        end   = int(end_str) if len(end_str) == 4 else (int(end_str) + (start // 100)*100)\n",
    "        years = list(range(start, end + 1))\n",
    "    else:\n",
    "        years = [int(training_year)]\n",
    "\n",
    "    df = df[df[\"year\"].isin(years)].reset_index(drop=True)\n",
    "\n",
    "    # --- map training_size to total number of samples ---\n",
    "    total_map = {\"25k\": 25_000, \"5k\": 5_000, \"1k\": 1_000}\n",
    "    if training_size not in total_map:\n",
    "        return df  # e.g. \"all\"\n",
    "\n",
    "    total_samples = total_map[training_size]\n",
    "    n_years       = len(years)\n",
    "    base          = total_samples // n_years\n",
    "    remainder     = total_samples % n_years\n",
    "\n",
    "    # --- build a dict: year -> how many to sample ---\n",
    "    # give +1 to the first `remainder` years in ascending order\n",
    "    quotas = {\n",
    "        year: base + (1 if idx < remainder else 0)\n",
    "        for idx, year in enumerate(sorted(years))\n",
    "    }\n",
    "\n",
    "    # --- sample per‐year according to the quota dict ---\n",
    "    sampled = (\n",
    "        df\n",
    "        .groupby(\"year\", group_keys=False)\n",
    "        .apply(lambda grp: grp.sample(\n",
    "            n=min(len(grp), quotas[grp.name]),\n",
    "            random_state=random_state))\n",
    "        .reset_index(drop=True)\n",
    "    )\n",
    "\n",
    "    return sampled"
   ]
  },
  {
   "cell_type": "code",
   "execution_count": 15,
   "id": "c0ccd338-0e02-41f3-a09d-f56f9266e3fb",
   "metadata": {
    "execution": {
     "iopub.execute_input": "2025-07-30T13:50:30.054052Z",
     "iopub.status.busy": "2025-07-30T13:50:30.053000Z",
     "iopub.status.idle": "2025-07-30T13:50:30.064595Z",
     "shell.execute_reply": "2025-07-30T13:50:30.063676Z"
    },
    "papermill": {
     "duration": 0.03278,
     "end_time": "2025-07-30T13:50:30.066072",
     "exception": false,
     "start_time": "2025-07-30T13:50:30.033292",
     "status": "completed"
    },
    "tags": []
   },
   "outputs": [
    {
     "data": {
      "text/plain": [
       "'5k'"
      ]
     },
     "execution_count": 15,
     "metadata": {},
     "output_type": "execute_result"
    }
   ],
   "source": [
    "universe[\"training_size\"]"
   ]
  },
  {
   "cell_type": "code",
   "execution_count": 16,
   "id": "ca707fd7-8047-4acd-bfa5-66248fbbf8e6",
   "metadata": {
    "execution": {
     "iopub.execute_input": "2025-07-30T13:50:30.106737Z",
     "iopub.status.busy": "2025-07-30T13:50:30.105997Z",
     "iopub.status.idle": "2025-07-30T13:50:30.114175Z",
     "shell.execute_reply": "2025-07-30T13:50:30.112911Z"
    },
    "papermill": {
     "duration": 0.030305,
     "end_time": "2025-07-30T13:50:30.116013",
     "exception": false,
     "start_time": "2025-07-30T13:50:30.085708",
     "status": "completed"
    },
    "tags": []
   },
   "outputs": [
    {
     "data": {
      "text/plain": [
       "'2014'"
      ]
     },
     "execution_count": 16,
     "metadata": {},
     "output_type": "execute_result"
    }
   ],
   "source": [
    "universe[\"training_year\"]"
   ]
  },
  {
   "cell_type": "code",
   "execution_count": 17,
   "id": "aea9c6ef-6f46-42c8-85eb-5a62025c1508",
   "metadata": {
    "execution": {
     "iopub.execute_input": "2025-07-30T13:50:30.160068Z",
     "iopub.status.busy": "2025-07-30T13:50:30.159595Z",
     "iopub.status.idle": "2025-07-30T13:50:30.355817Z",
     "shell.execute_reply": "2025-07-30T13:50:30.354853Z"
    },
    "papermill": {
     "duration": 0.222063,
     "end_time": "2025-07-30T13:50:30.357811",
     "exception": false,
     "start_time": "2025-07-30T13:50:30.135748",
     "status": "completed"
    },
    "tags": []
   },
   "outputs": [],
   "source": [
    "siab_train = sample_by_year_size(siab,\n",
    "                               training_year=universe[\"training_year\"],\n",
    "                               training_size=universe[\"training_size\"])"
   ]
  },
  {
   "cell_type": "code",
   "execution_count": 18,
   "id": "8d3afb32-789d-442c-8d5d-9f5aa8dd2eed",
   "metadata": {
    "execution": {
     "iopub.execute_input": "2025-07-30T13:50:30.407878Z",
     "iopub.status.busy": "2025-07-30T13:50:30.407520Z",
     "iopub.status.idle": "2025-07-30T13:50:30.413899Z",
     "shell.execute_reply": "2025-07-30T13:50:30.413209Z"
    },
    "papermill": {
     "duration": 0.019391,
     "end_time": "2025-07-30T13:50:30.415154",
     "exception": false,
     "start_time": "2025-07-30T13:50:30.395763",
     "status": "completed"
    },
    "tags": []
   },
   "outputs": [
    {
     "data": {
      "text/plain": [
       "(5000, 164)"
      ]
     },
     "execution_count": 18,
     "metadata": {},
     "output_type": "execute_result"
    }
   ],
   "source": [
    "siab_train.shape"
   ]
  },
  {
   "cell_type": "code",
   "execution_count": 19,
   "id": "d582db68-1a4c-47fb-84fc-08518dc1975a",
   "metadata": {
    "execution": {
     "iopub.execute_input": "2025-07-30T13:50:30.438266Z",
     "iopub.status.busy": "2025-07-30T13:50:30.437944Z",
     "iopub.status.idle": "2025-07-30T13:50:30.446437Z",
     "shell.execute_reply": "2025-07-30T13:50:30.445675Z"
    },
    "papermill": {
     "duration": 0.021803,
     "end_time": "2025-07-30T13:50:30.447922",
     "exception": false,
     "start_time": "2025-07-30T13:50:30.426119",
     "status": "completed"
    },
    "tags": []
   },
   "outputs": [
    {
     "data": {
      "text/plain": [
       "year\n",
       "2014    5000\n",
       "dtype: int64"
      ]
     },
     "metadata": {},
     "output_type": "display_data"
    }
   ],
   "source": [
    "display(siab_train.groupby(\"year\").size())"
   ]
  },
  {
   "cell_type": "code",
   "execution_count": 20,
   "id": "a561edb4-d032-42cb-8256-22eac1111c64",
   "metadata": {
    "execution": {
     "iopub.execute_input": "2025-07-30T13:50:30.493821Z",
     "iopub.status.busy": "2025-07-30T13:50:30.493066Z",
     "iopub.status.idle": "2025-07-30T13:50:30.742604Z",
     "shell.execute_reply": "2025-07-30T13:50:30.741611Z"
    },
    "papermill": {
     "duration": 0.274635,
     "end_time": "2025-07-30T13:50:30.744765",
     "exception": false,
     "start_time": "2025-07-30T13:50:30.470130",
     "status": "completed"
    },
    "tags": []
   },
   "outputs": [],
   "source": [
    "#siab_train = siab_s[siab_s.year < 2015]\n",
    "siab_calib = siab[siab.year == 2015]\n",
    "siab_test = siab[siab.year == 2016]"
   ]
  },
  {
   "cell_type": "code",
   "execution_count": 21,
   "id": "472de16f-c3db-4916-846b-1f0de9cf1746",
   "metadata": {
    "execution": {
     "iopub.execute_input": "2025-07-30T13:50:30.795013Z",
     "iopub.status.busy": "2025-07-30T13:50:30.794506Z",
     "iopub.status.idle": "2025-07-30T13:50:30.802855Z",
     "shell.execute_reply": "2025-07-30T13:50:30.801861Z"
    },
    "papermill": {
     "duration": 0.035936,
     "end_time": "2025-07-30T13:50:30.804611",
     "exception": false,
     "start_time": "2025-07-30T13:50:30.768675",
     "status": "completed"
    },
    "tags": []
   },
   "outputs": [],
   "source": [
    "X_train = siab_train.iloc[:,4:164]\n",
    "y_train = siab_train.iloc[:, [3]]"
   ]
  },
  {
   "cell_type": "code",
   "execution_count": 22,
   "id": "828c96af-f43a-4ed6-ba47-8ac73a47d56c",
   "metadata": {
    "execution": {
     "iopub.execute_input": "2025-07-30T13:50:30.852574Z",
     "iopub.status.busy": "2025-07-30T13:50:30.851736Z",
     "iopub.status.idle": "2025-07-30T13:50:30.885640Z",
     "shell.execute_reply": "2025-07-30T13:50:30.884520Z"
    },
    "papermill": {
     "duration": 0.059372,
     "end_time": "2025-07-30T13:50:30.887793",
     "exception": false,
     "start_time": "2025-07-30T13:50:30.828421",
     "status": "completed"
    },
    "tags": []
   },
   "outputs": [],
   "source": [
    "X_calib = siab_calib.iloc[:,4:164]\n",
    "y_calib = siab_calib.iloc[:, [3]]"
   ]
  },
  {
   "cell_type": "code",
   "execution_count": 23,
   "id": "c34be9c3-6bd6-476e-acd3-845840e303be",
   "metadata": {
    "execution": {
     "iopub.execute_input": "2025-07-30T13:50:30.919702Z",
     "iopub.status.busy": "2025-07-30T13:50:30.919395Z",
     "iopub.status.idle": "2025-07-30T13:50:30.968006Z",
     "shell.execute_reply": "2025-07-30T13:50:30.966962Z"
    },
    "papermill": {
     "duration": 0.062007,
     "end_time": "2025-07-30T13:50:30.969829",
     "exception": false,
     "start_time": "2025-07-30T13:50:30.907822",
     "status": "completed"
    },
    "tags": []
   },
   "outputs": [],
   "source": [
    "X_test = siab_test.iloc[:,4:164]\n",
    "y_true = siab_test.iloc[:, [3]]"
   ]
  },
  {
   "cell_type": "markdown",
   "id": "9901737e-04df-44f0-9100-f5ad144ed040",
   "metadata": {
    "papermill": {
     "duration": 0.020759,
     "end_time": "2025-07-30T13:50:31.014004",
     "exception": false,
     "start_time": "2025-07-30T13:50:30.993245",
     "status": "completed"
    },
    "tags": []
   },
   "source": [
    "# Splitting Data and Setting Training Data Size OLD VERSION"
   ]
  },
  {
   "cell_type": "code",
   "execution_count": 24,
   "id": "acbc8f7d-8fc8-4e86-8c59-5dcb0f58384b",
   "metadata": {
    "execution": {
     "iopub.execute_input": "2025-07-30T13:50:31.060131Z",
     "iopub.status.busy": "2025-07-30T13:50:31.059289Z",
     "iopub.status.idle": "2025-07-30T13:50:31.064874Z",
     "shell.execute_reply": "2025-07-30T13:50:31.063896Z"
    },
    "papermill": {
     "duration": 0.03041,
     "end_time": "2025-07-30T13:50:31.066703",
     "exception": false,
     "start_time": "2025-07-30T13:50:31.036293",
     "status": "completed"
    },
    "tags": []
   },
   "outputs": [],
   "source": [
    "#def sample_by_year(df, training_size, random_state=42):\n",
    "#    if training_size == \"2014\":\n",
    "#        return df[df[\"year\"] == 2014].reset_index(drop=True)\n",
    "#    \n",
    "#    size_map = {\n",
    "#        \"25k\": 5000,\n",
    "#        \"5k\": 1000,\n",
    "#        \"1k\": 200\n",
    "#    }\n",
    "#\n",
    "#    if training_size not in size_map:\n",
    "#        return df.reset_index(drop=True)  # use all data\n",
    "#\n",
    "#    n_per_year = size_map[training_size]\n",
    "#    grouped = df.groupby(\"year\")\n",
    "#    sampled = grouped.apply(lambda x: x.sample(n=min(n_per_year, len(x)), random_state=random_state))\n",
    "#    return sampled.reset_index(drop=True)"
   ]
  },
  {
   "cell_type": "code",
   "execution_count": 25,
   "id": "6d931f52-beaf-43ff-9e78-9d44a448d54e",
   "metadata": {
    "execution": {
     "iopub.execute_input": "2025-07-30T13:50:31.099548Z",
     "iopub.status.busy": "2025-07-30T13:50:31.099162Z",
     "iopub.status.idle": "2025-07-30T13:50:31.104297Z",
     "shell.execute_reply": "2025-07-30T13:50:31.103495Z"
    },
    "papermill": {
     "duration": 0.019779,
     "end_time": "2025-07-30T13:50:31.105556",
     "exception": false,
     "start_time": "2025-07-30T13:50:31.085777",
     "status": "completed"
    },
    "tags": []
   },
   "outputs": [],
   "source": [
    "#siab_s = sample_by_year(siab, universe[\"training_size\"])"
   ]
  },
  {
   "cell_type": "code",
   "execution_count": 26,
   "id": "5db0a40e-a4e2-4920-be85-b12ae061d70d",
   "metadata": {
    "execution": {
     "iopub.execute_input": "2025-07-30T13:50:31.128649Z",
     "iopub.status.busy": "2025-07-30T13:50:31.128353Z",
     "iopub.status.idle": "2025-07-30T13:50:31.132090Z",
     "shell.execute_reply": "2025-07-30T13:50:31.131380Z"
    },
    "papermill": {
     "duration": 0.016676,
     "end_time": "2025-07-30T13:50:31.133445",
     "exception": false,
     "start_time": "2025-07-30T13:50:31.116769",
     "status": "completed"
    },
    "tags": []
   },
   "outputs": [],
   "source": [
    "#display(siab_s.groupby(\"year\").size())"
   ]
  },
  {
   "cell_type": "code",
   "execution_count": 27,
   "id": "e6c733c5",
   "metadata": {
    "execution": {
     "iopub.execute_input": "2025-07-30T13:50:31.156912Z",
     "iopub.status.busy": "2025-07-30T13:50:31.156610Z",
     "iopub.status.idle": "2025-07-30T13:50:31.247240Z",
     "shell.execute_reply": "2025-07-30T13:50:31.246504Z"
    },
    "papermill": {
     "duration": 0.103855,
     "end_time": "2025-07-30T13:50:31.248741",
     "exception": false,
     "start_time": "2025-07-30T13:50:31.144886",
     "status": "completed"
    },
    "tags": []
   },
   "outputs": [],
   "source": [
    "# Auxiliary data needed downstream in the pipeline\n",
    "\n",
    "org_train = X_train.copy()\n",
    "org_test = X_test.copy()\n",
    "org_calib = X_calib.copy()"
   ]
  },
  {
   "cell_type": "code",
   "execution_count": 28,
   "id": "1466abac-c6da-4492-a62f-4240ae3783af",
   "metadata": {
    "execution": {
     "iopub.execute_input": "2025-07-30T13:50:31.275728Z",
     "iopub.status.busy": "2025-07-30T13:50:31.275042Z",
     "iopub.status.idle": "2025-07-30T13:50:31.279838Z",
     "shell.execute_reply": "2025-07-30T13:50:31.279167Z"
    },
    "papermill": {
     "duration": 0.01818,
     "end_time": "2025-07-30T13:50:31.281121",
     "exception": false,
     "start_time": "2025-07-30T13:50:31.262941",
     "status": "completed"
    },
    "tags": []
   },
   "outputs": [],
   "source": [
    "# put in other script?\n",
    "# Group sizes\n",
    "\n",
    "#def calculate_percentages(df, df_name):\n",
    "#    total_entries = len(df)\n",
    "#\n",
    "#    female_pct = (df['frau1'] == 1).mean() * 100\n",
    "#    non_german_pct = ((df['maxdeutsch1'] == 0) & (df['maxdeutsch.Missing.'] == 0)).mean() * 100\n",
    "#    non_german_male_pct = ((df['frau1'] == 0) & (df['maxdeutsch1'] == 0) & (df['maxdeutsch.Missing.'] == 0)).mean() * 100\n",
    "#    non_german_female_pct = ((df['frau1'] == 1) & (df['maxdeutsch1'] == 0) & (df['maxdeutsch.Missing.'] == 0)).mean() * 100\n",
    "#\n",
    "#    print(f\"--- {df_name} ---\")\n",
    "#    print(f\"Female: {female_pct:.2f}%\")\n",
    "#    print(f\"Non-German: {non_german_pct:.2f}%\")\n",
    "#    print(f\"Non-German Male: {non_german_male_pct:.2f}%\")\n",
    "#    print(f\"Non-German Female: {non_german_female_pct:.2f}%\\n\")\n",
    "#\n",
    "## Calculate for each DataFrame\n",
    "#calculate_percentages(siab_calib, \"siab_calib\")\n",
    "#calculate_percentages(siab_test, \"siab_test\")\n",
    "#calculate_percentages(siab_train, \"siab_train\")"
   ]
  },
  {
   "cell_type": "markdown",
   "id": "0a4a1b33",
   "metadata": {
    "papermill": {
     "duration": 0.010877,
     "end_time": "2025-07-30T13:50:31.304246",
     "exception": false,
     "start_time": "2025-07-30T13:50:31.293369",
     "status": "completed"
    },
    "tags": []
   },
   "source": [
    "# Preprocessing Data"
   ]
  },
  {
   "cell_type": "code",
   "execution_count": 29,
   "id": "ca879031",
   "metadata": {
    "execution": {
     "iopub.execute_input": "2025-07-30T13:50:31.327666Z",
     "iopub.status.busy": "2025-07-30T13:50:31.327153Z",
     "iopub.status.idle": "2025-07-30T13:50:31.331699Z",
     "shell.execute_reply": "2025-07-30T13:50:31.331021Z"
    },
    "papermill": {
     "duration": 0.017813,
     "end_time": "2025-07-30T13:50:31.332892",
     "exception": false,
     "start_time": "2025-07-30T13:50:31.315079",
     "status": "completed"
    },
    "tags": []
   },
   "outputs": [],
   "source": [
    "# EXCLUDE PROTECTED FEATURES\n",
    "# ----------------------\n",
    "# \"exclude_features\": \"none\", # \"nationality\", \"sex\", \"nationality-sex\"\n",
    "\n",
    "excluded_features = universe[\"exclude_features\"].split(\"-\") # split, e.g.: \"nationality-sex\" -> [\"nationality\", \"sex\"]\n",
    "excluded_features_dictionary = {\n",
    "    \"nationality\": [\"maxdeutsch1\", \"maxdeutsch.Missing.\"],\n",
    "    \"sex\": [\"frau1\"],\n",
    "    \"age\": [\"age\"],\n",
    "}\n"
   ]
  },
  {
   "cell_type": "code",
   "execution_count": 30,
   "id": "b745ac60",
   "metadata": {
    "execution": {
     "iopub.execute_input": "2025-07-30T13:50:31.356866Z",
     "iopub.status.busy": "2025-07-30T13:50:31.356258Z",
     "iopub.status.idle": "2025-07-30T13:50:31.360827Z",
     "shell.execute_reply": "2025-07-30T13:50:31.360136Z"
    },
    "papermill": {
     "duration": 0.017594,
     "end_time": "2025-07-30T13:50:31.362161",
     "exception": false,
     "start_time": "2025-07-30T13:50:31.344567",
     "status": "completed"
    },
    "tags": []
   },
   "outputs": [],
   "source": [
    "# Code nice names to column names\n",
    "\n",
    "excluded_features_columns = [\n",
    "    excluded_features_dictionary[f] for f in excluded_features if len(f) > 0 and f != \"none\"\n",
    "]"
   ]
  },
  {
   "cell_type": "code",
   "execution_count": 31,
   "id": "f84f73a2",
   "metadata": {
    "execution": {
     "iopub.execute_input": "2025-07-30T13:50:31.386172Z",
     "iopub.status.busy": "2025-07-30T13:50:31.385685Z",
     "iopub.status.idle": "2025-07-30T13:50:31.390945Z",
     "shell.execute_reply": "2025-07-30T13:50:31.390253Z"
    },
    "papermill": {
     "duration": 0.01832,
     "end_time": "2025-07-30T13:50:31.392269",
     "exception": false,
     "start_time": "2025-07-30T13:50:31.373949",
     "status": "completed"
    },
    "tags": []
   },
   "outputs": [],
   "source": [
    "from utils import flatten_once\n",
    "\n",
    "excluded_features_columns = flatten_once(excluded_features_columns)"
   ]
  },
  {
   "cell_type": "code",
   "execution_count": 32,
   "id": "884dea22",
   "metadata": {
    "execution": {
     "iopub.execute_input": "2025-07-30T13:50:31.416239Z",
     "iopub.status.busy": "2025-07-30T13:50:31.415644Z",
     "iopub.status.idle": "2025-07-30T13:50:31.423935Z",
     "shell.execute_reply": "2025-07-30T13:50:31.423198Z"
    },
    "papermill": {
     "duration": 0.021323,
     "end_time": "2025-07-30T13:50:31.425221",
     "exception": false,
     "start_time": "2025-07-30T13:50:31.403898",
     "status": "completed"
    },
    "tags": []
   },
   "outputs": [
    {
     "name": "stdout",
     "output_type": "stream",
     "text": [
      "Dropping features: ['frau1']\n"
     ]
    }
   ],
   "source": [
    "if len(excluded_features_columns) > 0:\n",
    "    print(f\"Dropping features: {excluded_features_columns}\")\n",
    "    X_train.drop(excluded_features_columns, axis=1, inplace=True)"
   ]
  },
  {
   "cell_type": "code",
   "execution_count": 33,
   "id": "95ab8b16",
   "metadata": {
    "execution": {
     "iopub.execute_input": "2025-07-30T13:50:31.449582Z",
     "iopub.status.busy": "2025-07-30T13:50:31.449015Z",
     "iopub.status.idle": "2025-07-30T13:50:31.499089Z",
     "shell.execute_reply": "2025-07-30T13:50:31.498163Z"
    },
    "papermill": {
     "duration": 0.063243,
     "end_time": "2025-07-30T13:50:31.500455",
     "exception": false,
     "start_time": "2025-07-30T13:50:31.437212",
     "status": "completed"
    },
    "tags": []
   },
   "outputs": [
    {
     "name": "stdout",
     "output_type": "stream",
     "text": [
      "Dropping features: ['frau1']\n"
     ]
    }
   ],
   "source": [
    "if len(excluded_features_columns) > 0:\n",
    "    print(f\"Dropping features: {excluded_features_columns}\")\n",
    "    X_test.drop(excluded_features_columns, axis=1, inplace=True)"
   ]
  },
  {
   "cell_type": "code",
   "execution_count": 34,
   "id": "1853aaf5-fb9f-46cb-a2b5-8ea4ae2237e4",
   "metadata": {
    "execution": {
     "iopub.execute_input": "2025-07-30T13:50:31.525337Z",
     "iopub.status.busy": "2025-07-30T13:50:31.524786Z",
     "iopub.status.idle": "2025-07-30T13:50:31.570469Z",
     "shell.execute_reply": "2025-07-30T13:50:31.569590Z"
    },
    "papermill": {
     "duration": 0.058963,
     "end_time": "2025-07-30T13:50:31.571847",
     "exception": false,
     "start_time": "2025-07-30T13:50:31.512884",
     "status": "completed"
    },
    "tags": []
   },
   "outputs": [
    {
     "name": "stdout",
     "output_type": "stream",
     "text": [
      "Dropping features: ['frau1']\n"
     ]
    }
   ],
   "source": [
    "if len(excluded_features_columns) > 0:\n",
    "    print(f\"Dropping features: {excluded_features_columns}\")\n",
    "    X_calib.drop(excluded_features_columns, axis=1, inplace=True)"
   ]
  },
  {
   "cell_type": "code",
   "execution_count": 35,
   "id": "6727d079-03e5-481e-9d38-292a90b7a0a8",
   "metadata": {
    "execution": {
     "iopub.execute_input": "2025-07-30T13:50:31.597151Z",
     "iopub.status.busy": "2025-07-30T13:50:31.596428Z",
     "iopub.status.idle": "2025-07-30T13:50:31.600385Z",
     "shell.execute_reply": "2025-07-30T13:50:31.599700Z"
    },
    "papermill": {
     "duration": 0.017047,
     "end_time": "2025-07-30T13:50:31.601643",
     "exception": false,
     "start_time": "2025-07-30T13:50:31.584596",
     "status": "completed"
    },
    "tags": []
   },
   "outputs": [],
   "source": [
    "# SPLIT & STRATIFY DATA\n",
    "# ----------------------"
   ]
  },
  {
   "cell_type": "code",
   "execution_count": 36,
   "id": "76c4dc6d",
   "metadata": {
    "execution": {
     "iopub.execute_input": "2025-07-30T13:50:31.626005Z",
     "iopub.status.busy": "2025-07-30T13:50:31.625471Z",
     "iopub.status.idle": "2025-07-30T13:50:31.629831Z",
     "shell.execute_reply": "2025-07-30T13:50:31.629162Z"
    },
    "papermill": {
     "duration": 0.017469,
     "end_time": "2025-07-30T13:50:31.631019",
     "exception": false,
     "start_time": "2025-07-30T13:50:31.613550",
     "status": "completed"
    },
    "tags": []
   },
   "outputs": [],
   "source": [
    "# EXCLUDE CERTAIN SUBGROUPS\n",
    "# ----------------------\n",
    "\n",
    "mode = universe.get(\"exclude_subgroups\", \"keep-all\") \n",
    "# Fetches the exclude_subgroups setting from the universe dict.\n",
    "# Defaults to \"keep-all\" if the key is missing."
   ]
  },
  {
   "cell_type": "code",
   "execution_count": 37,
   "id": "21994072",
   "metadata": {
    "execution": {
     "iopub.execute_input": "2025-07-30T13:50:31.655909Z",
     "iopub.status.busy": "2025-07-30T13:50:31.655405Z",
     "iopub.status.idle": "2025-07-30T13:50:31.660746Z",
     "shell.execute_reply": "2025-07-30T13:50:31.659988Z"
    },
    "papermill": {
     "duration": 0.01888,
     "end_time": "2025-07-30T13:50:31.662060",
     "exception": false,
     "start_time": "2025-07-30T13:50:31.643180",
     "status": "completed"
    },
    "tags": []
   },
   "outputs": [],
   "source": [
    "if mode == \"keep-all\":\n",
    "    keep_mask = pd.Series(True, index=org_train.index)\n",
    "\n",
    "# org_train contains the original feature columns from features_org (in Simson)\n",
    "# features_org contains unprocessed features, for me X_train at beginning ???\n",
    "# For keep-all, creates a boolean Series (keep_mask) of all True, so no rows are removed.\n",
    "\n",
    "elif mode == \"drop-non-german\":\n",
    "    keep_mask = org_train[\"maxdeutsch1\"] == 1 # ??? what about missing values?\n",
    "\n",
    "else:\n",
    "    raise ValueError(f\"Unsupported mode for exclude_subgroups: {mode}\")\n"
   ]
  },
  {
   "cell_type": "code",
   "execution_count": 38,
   "id": "71651440",
   "metadata": {
    "execution": {
     "iopub.execute_input": "2025-07-30T13:50:31.686310Z",
     "iopub.status.busy": "2025-07-30T13:50:31.685971Z",
     "iopub.status.idle": "2025-07-30T13:50:31.691221Z",
     "shell.execute_reply": "2025-07-30T13:50:31.690558Z"
    },
    "papermill": {
     "duration": 0.018601,
     "end_time": "2025-07-30T13:50:31.692470",
     "exception": false,
     "start_time": "2025-07-30T13:50:31.673869",
     "status": "completed"
    },
    "tags": []
   },
   "outputs": [],
   "source": [
    "n_drop = (~keep_mask).sum() # Calculates how many rows are set to be dropped\n",
    "if n_drop > 0:\n",
    "    pct = n_drop / len(keep_mask) * 100\n",
    "    print(f\"Dropping {n_drop} rows ({pct:.2f}%) where mode='{mode}'\")"
   ]
  },
  {
   "cell_type": "code",
   "execution_count": 39,
   "id": "5fb8eee5",
   "metadata": {
    "execution": {
     "iopub.execute_input": "2025-07-30T13:50:31.716720Z",
     "iopub.status.busy": "2025-07-30T13:50:31.716229Z",
     "iopub.status.idle": "2025-07-30T13:50:31.722500Z",
     "shell.execute_reply": "2025-07-30T13:50:31.721784Z"
    },
    "papermill": {
     "duration": 0.019435,
     "end_time": "2025-07-30T13:50:31.723780",
     "exception": false,
     "start_time": "2025-07-30T13:50:31.704345",
     "status": "completed"
    },
    "tags": []
   },
   "outputs": [],
   "source": [
    "X_train = X_train[keep_mask]"
   ]
  },
  {
   "cell_type": "code",
   "execution_count": 40,
   "id": "b202bb3a",
   "metadata": {
    "execution": {
     "iopub.execute_input": "2025-07-30T13:50:31.748633Z",
     "iopub.status.busy": "2025-07-30T13:50:31.748141Z",
     "iopub.status.idle": "2025-07-30T13:50:31.752976Z",
     "shell.execute_reply": "2025-07-30T13:50:31.752324Z"
    },
    "papermill": {
     "duration": 0.018208,
     "end_time": "2025-07-30T13:50:31.754341",
     "exception": false,
     "start_time": "2025-07-30T13:50:31.736133",
     "status": "completed"
    },
    "tags": []
   },
   "outputs": [],
   "source": [
    "y_train = y_train[keep_mask]"
   ]
  },
  {
   "cell_type": "markdown",
   "id": "493e2ac3",
   "metadata": {
    "papermill": {
     "duration": 0.011498,
     "end_time": "2025-07-30T13:50:31.777781",
     "exception": false,
     "start_time": "2025-07-30T13:50:31.766283",
     "status": "completed"
    },
    "tags": []
   },
   "source": [
    "# Model Training"
   ]
  },
  {
   "cell_type": "code",
   "execution_count": 41,
   "id": "679e1268",
   "metadata": {
    "execution": {
     "iopub.execute_input": "2025-07-30T13:50:31.802096Z",
     "iopub.status.busy": "2025-07-30T13:50:31.801723Z",
     "iopub.status.idle": "2025-07-30T13:50:31.874601Z",
     "shell.execute_reply": "2025-07-30T13:50:31.873874Z"
    },
    "papermill": {
     "duration": 0.086592,
     "end_time": "2025-07-30T13:50:31.875943",
     "exception": false,
     "start_time": "2025-07-30T13:50:31.789351",
     "status": "completed"
    },
    "tags": []
   },
   "outputs": [],
   "source": [
    "from sklearn.linear_model import LogisticRegression\n",
    "from sklearn.ensemble import GradientBoostingClassifier, RandomForestClassifier\n",
    "\n",
    "if (universe[\"model\"] == \"logreg\"):\n",
    "    model = LogisticRegression() #penalty=\"none\") #, solver=\"newton-cg\", max_iter=1) # include random_state=19 ?\n",
    "elif (universe[\"model\"] == \"penalized_logreg\"):\n",
    "    model = LogisticRegression(penalty=\"l2\", C=1.0) #, solver=\"newton-cg\", max_iter=1)\n",
    "elif (universe[\"model\"] == \"rf\"):\n",
    "    model = RandomForestClassifier(n_estimators=100, n_jobs=-1)\n",
    "elif (universe[\"model\"] == \"gbm\"):\n",
    "    model = GradientBoostingClassifier()\n",
    "elif (universe[\"model\"] == \"elasticnet\"):\n",
    "    model = LogisticRegression(penalty = 'elasticnet', solver = 'saga', l1_ratio = 0.5, max_iter=5000) # which solver to use?\n",
    "else:\n",
    "    raise \"Unsupported universe.model\""
   ]
  },
  {
   "cell_type": "code",
   "execution_count": 42,
   "id": "0cc8f744",
   "metadata": {
    "execution": {
     "iopub.execute_input": "2025-07-30T13:50:31.901256Z",
     "iopub.status.busy": "2025-07-30T13:50:31.900607Z",
     "iopub.status.idle": "2025-07-30T13:50:31.905856Z",
     "shell.execute_reply": "2025-07-30T13:50:31.905161Z"
    },
    "papermill": {
     "duration": 0.018751,
     "end_time": "2025-07-30T13:50:31.907096",
     "exception": false,
     "start_time": "2025-07-30T13:50:31.888345",
     "status": "completed"
    },
    "tags": []
   },
   "outputs": [],
   "source": [
    "import numpy as np\n",
    "from sklearn.pipeline import Pipeline\n",
    "from sklearn.preprocessing import StandardScaler\n",
    "\n",
    "model = Pipeline([\n",
    "    #(\"continuous_processor\", continuous_processor),\n",
    "    #(\"categorical_preprocessor\", categorical_preprocessor),\n",
    "    (\"scale\", StandardScaler() if universe[\"scale\"] == \"scale\" else None), \n",
    "    (\"model\", model),\n",
    "])"
   ]
  },
  {
   "cell_type": "code",
   "execution_count": 43,
   "id": "9442c04d",
   "metadata": {
    "execution": {
     "iopub.execute_input": "2025-07-30T13:50:31.932247Z",
     "iopub.status.busy": "2025-07-30T13:50:31.931559Z",
     "iopub.status.idle": "2025-07-30T13:50:36.552065Z",
     "shell.execute_reply": "2025-07-30T13:50:36.551193Z"
    },
    "papermill": {
     "duration": 4.634592,
     "end_time": "2025-07-30T13:50:36.553648",
     "exception": false,
     "start_time": "2025-07-30T13:50:31.919056",
     "status": "completed"
    },
    "tags": []
   },
   "outputs": [
    {
     "data": {
      "text/html": [
       "<style>#sk-container-id-1 {color: black;background-color: white;}#sk-container-id-1 pre{padding: 0;}#sk-container-id-1 div.sk-toggleable {background-color: white;}#sk-container-id-1 label.sk-toggleable__label {cursor: pointer;display: block;width: 100%;margin-bottom: 0;padding: 0.3em;box-sizing: border-box;text-align: center;}#sk-container-id-1 label.sk-toggleable__label-arrow:before {content: \"▸\";float: left;margin-right: 0.25em;color: #696969;}#sk-container-id-1 label.sk-toggleable__label-arrow:hover:before {color: black;}#sk-container-id-1 div.sk-estimator:hover label.sk-toggleable__label-arrow:before {color: black;}#sk-container-id-1 div.sk-toggleable__content {max-height: 0;max-width: 0;overflow: hidden;text-align: left;background-color: #f0f8ff;}#sk-container-id-1 div.sk-toggleable__content pre {margin: 0.2em;color: black;border-radius: 0.25em;background-color: #f0f8ff;}#sk-container-id-1 input.sk-toggleable__control:checked~div.sk-toggleable__content {max-height: 200px;max-width: 100%;overflow: auto;}#sk-container-id-1 input.sk-toggleable__control:checked~label.sk-toggleable__label-arrow:before {content: \"▾\";}#sk-container-id-1 div.sk-estimator input.sk-toggleable__control:checked~label.sk-toggleable__label {background-color: #d4ebff;}#sk-container-id-1 div.sk-label input.sk-toggleable__control:checked~label.sk-toggleable__label {background-color: #d4ebff;}#sk-container-id-1 input.sk-hidden--visually {border: 0;clip: rect(1px 1px 1px 1px);clip: rect(1px, 1px, 1px, 1px);height: 1px;margin: -1px;overflow: hidden;padding: 0;position: absolute;width: 1px;}#sk-container-id-1 div.sk-estimator {font-family: monospace;background-color: #f0f8ff;border: 1px dotted black;border-radius: 0.25em;box-sizing: border-box;margin-bottom: 0.5em;}#sk-container-id-1 div.sk-estimator:hover {background-color: #d4ebff;}#sk-container-id-1 div.sk-parallel-item::after {content: \"\";width: 100%;border-bottom: 1px solid gray;flex-grow: 1;}#sk-container-id-1 div.sk-label:hover label.sk-toggleable__label {background-color: #d4ebff;}#sk-container-id-1 div.sk-serial::before {content: \"\";position: absolute;border-left: 1px solid gray;box-sizing: border-box;top: 0;bottom: 0;left: 50%;z-index: 0;}#sk-container-id-1 div.sk-serial {display: flex;flex-direction: column;align-items: center;background-color: white;padding-right: 0.2em;padding-left: 0.2em;position: relative;}#sk-container-id-1 div.sk-item {position: relative;z-index: 1;}#sk-container-id-1 div.sk-parallel {display: flex;align-items: stretch;justify-content: center;background-color: white;position: relative;}#sk-container-id-1 div.sk-item::before, #sk-container-id-1 div.sk-parallel-item::before {content: \"\";position: absolute;border-left: 1px solid gray;box-sizing: border-box;top: 0;bottom: 0;left: 50%;z-index: -1;}#sk-container-id-1 div.sk-parallel-item {display: flex;flex-direction: column;z-index: 1;position: relative;background-color: white;}#sk-container-id-1 div.sk-parallel-item:first-child::after {align-self: flex-end;width: 50%;}#sk-container-id-1 div.sk-parallel-item:last-child::after {align-self: flex-start;width: 50%;}#sk-container-id-1 div.sk-parallel-item:only-child::after {width: 0;}#sk-container-id-1 div.sk-dashed-wrapped {border: 1px dashed gray;margin: 0 0.4em 0.5em 0.4em;box-sizing: border-box;padding-bottom: 0.4em;background-color: white;}#sk-container-id-1 div.sk-label label {font-family: monospace;font-weight: bold;display: inline-block;line-height: 1.2em;}#sk-container-id-1 div.sk-label-container {text-align: center;}#sk-container-id-1 div.sk-container {/* jupyter's `normalize.less` sets `[hidden] { display: none; }` but bootstrap.min.css set `[hidden] { display: none !important; }` so we also need the `!important` here to be able to override the default hidden behavior on the sphinx rendered scikit-learn.org. See: https://github.com/scikit-learn/scikit-learn/issues/21755 */display: inline-block !important;position: relative;}#sk-container-id-1 div.sk-text-repr-fallback {display: none;}</style><div id=\"sk-container-id-1\" class=\"sk-top-container\"><div class=\"sk-text-repr-fallback\"><pre>Pipeline(steps=[(&#x27;scale&#x27;, None), (&#x27;model&#x27;, GradientBoostingClassifier())])</pre><b>In a Jupyter environment, please rerun this cell to show the HTML representation or trust the notebook. <br />On GitHub, the HTML representation is unable to render, please try loading this page with nbviewer.org.</b></div><div class=\"sk-container\" hidden><div class=\"sk-item sk-dashed-wrapped\"><div class=\"sk-label-container\"><div class=\"sk-label sk-toggleable\"><input class=\"sk-toggleable__control sk-hidden--visually\" id=\"sk-estimator-id-1\" type=\"checkbox\" ><label for=\"sk-estimator-id-1\" class=\"sk-toggleable__label sk-toggleable__label-arrow\">Pipeline</label><div class=\"sk-toggleable__content\"><pre>Pipeline(steps=[(&#x27;scale&#x27;, None), (&#x27;model&#x27;, GradientBoostingClassifier())])</pre></div></div></div><div class=\"sk-serial\"><div class=\"sk-item\"><div class=\"sk-estimator sk-toggleable\"><input class=\"sk-toggleable__control sk-hidden--visually\" id=\"sk-estimator-id-2\" type=\"checkbox\" ><label for=\"sk-estimator-id-2\" class=\"sk-toggleable__label sk-toggleable__label-arrow\">None</label><div class=\"sk-toggleable__content\"><pre>None</pre></div></div></div><div class=\"sk-item\"><div class=\"sk-estimator sk-toggleable\"><input class=\"sk-toggleable__control sk-hidden--visually\" id=\"sk-estimator-id-3\" type=\"checkbox\" ><label for=\"sk-estimator-id-3\" class=\"sk-toggleable__label sk-toggleable__label-arrow\">GradientBoostingClassifier</label><div class=\"sk-toggleable__content\"><pre>GradientBoostingClassifier()</pre></div></div></div></div></div></div></div>"
      ],
      "text/plain": [
       "Pipeline(steps=[('scale', None), ('model', GradientBoostingClassifier())])"
      ]
     },
     "execution_count": 43,
     "metadata": {},
     "output_type": "execute_result"
    }
   ],
   "source": [
    "model.fit(X_train, y_train.values.ravel())"
   ]
  },
  {
   "cell_type": "code",
   "execution_count": 44,
   "id": "af59f8c0",
   "metadata": {
    "execution": {
     "iopub.execute_input": "2025-07-30T13:50:36.602219Z",
     "iopub.status.busy": "2025-07-30T13:50:36.601392Z",
     "iopub.status.idle": "2025-07-30T13:50:36.606904Z",
     "shell.execute_reply": "2025-07-30T13:50:36.605940Z"
    },
    "papermill": {
     "duration": 0.030321,
     "end_time": "2025-07-30T13:50:36.608654",
     "exception": false,
     "start_time": "2025-07-30T13:50:36.578333",
     "status": "completed"
    },
    "tags": []
   },
   "outputs": [],
   "source": [
    "from fairness_multiverse.universe import predict_w_threshold"
   ]
  },
  {
   "cell_type": "code",
   "execution_count": 45,
   "id": "a7cf2e16",
   "metadata": {
    "execution": {
     "iopub.execute_input": "2025-07-30T13:50:36.663396Z",
     "iopub.status.busy": "2025-07-30T13:50:36.662913Z",
     "iopub.status.idle": "2025-07-30T13:50:37.281186Z",
     "shell.execute_reply": "2025-07-30T13:50:37.280264Z"
    },
    "papermill": {
     "duration": 0.647912,
     "end_time": "2025-07-30T13:50:37.282859",
     "exception": false,
     "start_time": "2025-07-30T13:50:36.634947",
     "status": "completed"
    },
    "tags": []
   },
   "outputs": [
    {
     "data": {
      "text/plain": [
       "0.8660015605841044"
      ]
     },
     "execution_count": 45,
     "metadata": {},
     "output_type": "execute_result"
    }
   ],
   "source": [
    "probs_test = model.predict_proba(X_test)\n",
    "\n",
    "'''\n",
    "Below code returns a boolean array (or binary 0/1 array depending on how it’s used) where each element \n",
    "is True if the probability of class 1 is greater than or equal to the threshold, and False otherwise.\n",
    "'''\n",
    "y_pred_default = predict_w_threshold(probs_test, 0.5)\n",
    "\n",
    "from sklearn.metrics import accuracy_score\n",
    "\n",
    "# Naive prediction\n",
    "accuracy_score(y_true = y_true, y_pred = y_pred_default)"
   ]
  },
  {
   "cell_type": "code",
   "execution_count": 46,
   "id": "081964c3",
   "metadata": {
    "execution": {
     "iopub.execute_input": "2025-07-30T13:50:37.335631Z",
     "iopub.status.busy": "2025-07-30T13:50:37.334736Z",
     "iopub.status.idle": "2025-07-30T13:50:37.906633Z",
     "shell.execute_reply": "2025-07-30T13:50:37.905678Z"
    },
    "papermill": {
     "duration": 0.599341,
     "end_time": "2025-07-30T13:50:37.908182",
     "exception": false,
     "start_time": "2025-07-30T13:50:37.308841",
     "status": "completed"
    },
    "tags": []
   },
   "outputs": [
    {
     "data": {
      "text/plain": [
       "array([0, 0, 0, ..., 0, 0, 0])"
      ]
     },
     "execution_count": 46,
     "metadata": {},
     "output_type": "execute_result"
    }
   ],
   "source": [
    "model.predict(X_test)"
   ]
  },
  {
   "cell_type": "markdown",
   "id": "56c9705b",
   "metadata": {
    "papermill": {
     "duration": 0.026022,
     "end_time": "2025-07-30T13:50:37.960335",
     "exception": false,
     "start_time": "2025-07-30T13:50:37.934313",
     "status": "completed"
    },
    "tags": []
   },
   "source": [
    "# Conformal Prediction"
   ]
  },
  {
   "cell_type": "code",
   "execution_count": 47,
   "id": "160ec6ff",
   "metadata": {
    "execution": {
     "iopub.execute_input": "2025-07-30T13:50:38.012686Z",
     "iopub.status.busy": "2025-07-30T13:50:38.012210Z",
     "iopub.status.idle": "2025-07-30T13:50:38.017743Z",
     "shell.execute_reply": "2025-07-30T13:50:38.016827Z"
    },
    "papermill": {
     "duration": 0.033191,
     "end_time": "2025-07-30T13:50:38.019547",
     "exception": false,
     "start_time": "2025-07-30T13:50:37.986356",
     "status": "completed"
    },
    "tags": []
   },
   "outputs": [],
   "source": [
    "# Miscoverage level for conformal prediction (10% allowed error rate => 90% target coverage)\n",
    "alpha = 0.1"
   ]
  },
  {
   "cell_type": "code",
   "execution_count": 48,
   "id": "eadf4555-3dd3-440e-8e35-f82a4ad9f855",
   "metadata": {
    "execution": {
     "iopub.execute_input": "2025-07-30T13:50:38.071433Z",
     "iopub.status.busy": "2025-07-30T13:50:38.070945Z",
     "iopub.status.idle": "2025-07-30T13:50:38.528274Z",
     "shell.execute_reply": "2025-07-30T13:50:38.527280Z"
    },
    "papermill": {
     "duration": 0.484629,
     "end_time": "2025-07-30T13:50:38.530189",
     "exception": false,
     "start_time": "2025-07-30T13:50:38.045560",
     "status": "completed"
    },
    "tags": []
   },
   "outputs": [],
   "source": [
    "probs_calib = model.predict_proba(X_calib)"
   ]
  },
  {
   "cell_type": "code",
   "execution_count": 49,
   "id": "2ed93547-6d5d-4983-9b36-1ecb300da49a",
   "metadata": {
    "execution": {
     "iopub.execute_input": "2025-07-30T13:50:38.583343Z",
     "iopub.status.busy": "2025-07-30T13:50:38.582621Z",
     "iopub.status.idle": "2025-07-30T13:50:38.589138Z",
     "shell.execute_reply": "2025-07-30T13:50:38.588126Z"
    },
    "papermill": {
     "duration": 0.03524,
     "end_time": "2025-07-30T13:50:38.591013",
     "exception": false,
     "start_time": "2025-07-30T13:50:38.555773",
     "status": "completed"
    },
    "tags": []
   },
   "outputs": [],
   "source": [
    "y_calib = y_calib.values.ravel().astype(int)"
   ]
  },
  {
   "cell_type": "code",
   "execution_count": 50,
   "id": "65d1320d-f588-4b38-9072-62af1ae97f7d",
   "metadata": {
    "execution": {
     "iopub.execute_input": "2025-07-30T13:50:38.647529Z",
     "iopub.status.busy": "2025-07-30T13:50:38.646864Z",
     "iopub.status.idle": "2025-07-30T13:50:38.656715Z",
     "shell.execute_reply": "2025-07-30T13:50:38.655596Z"
    },
    "papermill": {
     "duration": 0.039474,
     "end_time": "2025-07-30T13:50:38.658526",
     "exception": false,
     "start_time": "2025-07-30T13:50:38.619052",
     "status": "completed"
    },
    "tags": []
   },
   "outputs": [],
   "source": [
    "from fairness_multiverse.conformal import compute_nc_scores\n",
    "\n",
    "# Compute nonconformity scores on calibration set (1 - probability of true class)\n",
    "nc_scores = compute_nc_scores(probs_calib, y_calib)"
   ]
  },
  {
   "cell_type": "code",
   "execution_count": 51,
   "id": "df3b8ca3-53b7-43d5-9667-7c85da7aeda2",
   "metadata": {
    "execution": {
     "iopub.execute_input": "2025-07-30T13:50:38.715058Z",
     "iopub.status.busy": "2025-07-30T13:50:38.714161Z",
     "iopub.status.idle": "2025-07-30T13:50:38.721609Z",
     "shell.execute_reply": "2025-07-30T13:50:38.720400Z"
    },
    "papermill": {
     "duration": 0.037299,
     "end_time": "2025-07-30T13:50:38.723421",
     "exception": false,
     "start_time": "2025-07-30T13:50:38.686122",
     "status": "completed"
    },
    "tags": []
   },
   "outputs": [],
   "source": [
    "from fairness_multiverse.conformal import find_threshold\n",
    "\n",
    "# Find conformal threshold q_hat for the given alpha (split conformal method)\n",
    "q_hat = find_threshold(nc_scores, alpha)"
   ]
  },
  {
   "cell_type": "code",
   "execution_count": 52,
   "id": "4d29e6c1-0ef6-4aa4-b8fe-4fe79b0d033a",
   "metadata": {
    "execution": {
     "iopub.execute_input": "2025-07-30T13:50:38.779332Z",
     "iopub.status.busy": "2025-07-30T13:50:38.778658Z",
     "iopub.status.idle": "2025-07-30T13:50:38.786048Z",
     "shell.execute_reply": "2025-07-30T13:50:38.785076Z"
    },
    "papermill": {
     "duration": 0.036988,
     "end_time": "2025-07-30T13:50:38.787739",
     "exception": false,
     "start_time": "2025-07-30T13:50:38.750751",
     "status": "completed"
    },
    "tags": []
   },
   "outputs": [
    {
     "data": {
      "text/plain": [
       "0.7208205283413383"
      ]
     },
     "execution_count": 52,
     "metadata": {},
     "output_type": "execute_result"
    }
   ],
   "source": [
    "q_hat"
   ]
  },
  {
   "cell_type": "code",
   "execution_count": 53,
   "id": "92460794-cdac-4be2-ba28-f28c0515a6fb",
   "metadata": {
    "execution": {
     "iopub.execute_input": "2025-07-30T13:50:38.844954Z",
     "iopub.status.busy": "2025-07-30T13:50:38.844000Z",
     "iopub.status.idle": "2025-07-30T13:50:40.117462Z",
     "shell.execute_reply": "2025-07-30T13:50:40.116541Z"
    },
    "papermill": {
     "duration": 1.303672,
     "end_time": "2025-07-30T13:50:40.119363",
     "exception": false,
     "start_time": "2025-07-30T13:50:38.815691",
     "status": "completed"
    },
    "tags": []
   },
   "outputs": [],
   "source": [
    "from fairness_multiverse.conformal import predict_conformal_sets\n",
    "\n",
    "# Generate prediction sets for each test example\n",
    "pred_sets = predict_conformal_sets(model, X_test, q_hat)"
   ]
  },
  {
   "cell_type": "code",
   "execution_count": 54,
   "id": "d90c9a65-e6db-4f5d-80cd-e68fb7e46829",
   "metadata": {
    "execution": {
     "iopub.execute_input": "2025-07-30T13:50:40.170598Z",
     "iopub.status.busy": "2025-07-30T13:50:40.169621Z",
     "iopub.status.idle": "2025-07-30T13:50:40.175417Z",
     "shell.execute_reply": "2025-07-30T13:50:40.174441Z"
    },
    "papermill": {
     "duration": 0.033207,
     "end_time": "2025-07-30T13:50:40.177380",
     "exception": false,
     "start_time": "2025-07-30T13:50:40.144173",
     "status": "completed"
    },
    "tags": []
   },
   "outputs": [],
   "source": [
    "y_true = y_true.squeeze()"
   ]
  },
  {
   "cell_type": "code",
   "execution_count": 55,
   "id": "3a58a54a-1e68-46b9-927a-df01f18aebc8",
   "metadata": {
    "execution": {
     "iopub.execute_input": "2025-07-30T13:50:40.229474Z",
     "iopub.status.busy": "2025-07-30T13:50:40.228990Z",
     "iopub.status.idle": "2025-07-30T13:50:41.151842Z",
     "shell.execute_reply": "2025-07-30T13:50:41.150907Z"
    },
    "papermill": {
     "duration": 0.950812,
     "end_time": "2025-07-30T13:50:41.154697",
     "exception": false,
     "start_time": "2025-07-30T13:50:40.203885",
     "status": "completed"
    },
    "tags": []
   },
   "outputs": [],
   "source": [
    "from fairness_multiverse.conformal import evaluate_sets\n",
    "\n",
    "# Evaluate coverage and average set size on test data\n",
    "metrics = evaluate_sets(pred_sets, y_true)"
   ]
  },
  {
   "cell_type": "markdown",
   "id": "2b569c12-9aaa-4c88-98c9-bbcd0cf3ebb8",
   "metadata": {
    "papermill": {
     "duration": 0.03685,
     "end_time": "2025-07-30T13:50:41.231324",
     "exception": false,
     "start_time": "2025-07-30T13:50:41.194474",
     "status": "completed"
    },
    "tags": []
   },
   "source": [
    "# CP Metrics"
   ]
  },
  {
   "cell_type": "code",
   "execution_count": 56,
   "id": "5ce0a5cb-201f-45a0-ade5-94c7f0bd6095",
   "metadata": {
    "execution": {
     "iopub.execute_input": "2025-07-30T13:50:41.305327Z",
     "iopub.status.busy": "2025-07-30T13:50:41.304943Z",
     "iopub.status.idle": "2025-07-30T13:50:41.313642Z",
     "shell.execute_reply": "2025-07-30T13:50:41.312403Z"
    },
    "papermill": {
     "duration": 0.047569,
     "end_time": "2025-07-30T13:50:41.315342",
     "exception": false,
     "start_time": "2025-07-30T13:50:41.267773",
     "status": "completed"
    },
    "tags": []
   },
   "outputs": [
    {
     "data": {
      "text/plain": [
       "{'coverage': 0.9123174673949392, 'avg_size': 1.133340764686211}"
      ]
     },
     "execution_count": 56,
     "metadata": {},
     "output_type": "execute_result"
    }
   ],
   "source": [
    "metrics"
   ]
  },
  {
   "cell_type": "code",
   "execution_count": 57,
   "id": "9b9a838d-31c9-430b-ae14-12baee460d17",
   "metadata": {
    "execution": {
     "iopub.execute_input": "2025-07-30T13:50:41.377425Z",
     "iopub.status.busy": "2025-07-30T13:50:41.376856Z",
     "iopub.status.idle": "2025-07-30T13:50:41.383933Z",
     "shell.execute_reply": "2025-07-30T13:50:41.382989Z"
    },
    "papermill": {
     "duration": 0.04114,
     "end_time": "2025-07-30T13:50:41.386456",
     "exception": false,
     "start_time": "2025-07-30T13:50:41.345316",
     "status": "completed"
    },
    "tags": []
   },
   "outputs": [],
   "source": [
    "example_universe = universe.copy()\n",
    "universe_training_size = example_universe.get(\"training_size\")\n",
    "universe_scale = example_universe.get(\"scale\")\n",
    "universe_model = example_universe.get(\"model\")\n",
    "universe_exclude_features = example_universe.get(\"exclude_features\")\n",
    "universe_exclude_subgroups = example_universe.get(\"exclude_subgroups\")"
   ]
  },
  {
   "cell_type": "code",
   "execution_count": 58,
   "id": "f4b6a8ac-9dc0-4245-8a91-5b3b5999c4f9",
   "metadata": {
    "execution": {
     "iopub.execute_input": "2025-07-30T13:50:41.444672Z",
     "iopub.status.busy": "2025-07-30T13:50:41.443816Z",
     "iopub.status.idle": "2025-07-30T13:50:41.450645Z",
     "shell.execute_reply": "2025-07-30T13:50:41.449498Z"
    },
    "papermill": {
     "duration": 0.034224,
     "end_time": "2025-07-30T13:50:41.452292",
     "exception": false,
     "start_time": "2025-07-30T13:50:41.418068",
     "status": "completed"
    },
    "tags": []
   },
   "outputs": [],
   "source": [
    "cp_metrics_dict = {\n",
    "    \"universe_id\": [universe_id],\n",
    "    \"universe_training_size\": [universe_training_size],\n",
    "    \"universe_scale\": [universe_scale],\n",
    "    \"universe_model\": [universe_model],\n",
    "    \"universe_exclude_features\": [universe_exclude_features],\n",
    "    \"universe_exclude_subgroups\": [universe_exclude_subgroups],\n",
    "    \"q_hat\": [q_hat],\n",
    "    \"coverage\": [metrics[\"coverage\"]],\n",
    "    \"avg_size\": [metrics[\"avg_size\"]],\n",
    "}"
   ]
  },
  {
   "cell_type": "code",
   "execution_count": 59,
   "id": "908acbb1-0371-4915-85ca-3fa520d2efe2",
   "metadata": {
    "execution": {
     "iopub.execute_input": "2025-07-30T13:50:41.504511Z",
     "iopub.status.busy": "2025-07-30T13:50:41.503427Z",
     "iopub.status.idle": "2025-07-30T13:50:41.512444Z",
     "shell.execute_reply": "2025-07-30T13:50:41.511193Z"
    },
    "papermill": {
     "duration": 0.036292,
     "end_time": "2025-07-30T13:50:41.514258",
     "exception": false,
     "start_time": "2025-07-30T13:50:41.477966",
     "status": "completed"
    },
    "tags": []
   },
   "outputs": [
    {
     "data": {
      "text/plain": [
       "{'universe_id': ['2f3fa3502cc024b67f76376a81dc38f0'],\n",
       " 'universe_training_size': ['5k'],\n",
       " 'universe_scale': ['do-not-scale'],\n",
       " 'universe_model': ['gbm'],\n",
       " 'universe_exclude_features': ['sex'],\n",
       " 'universe_exclude_subgroups': ['keep-all'],\n",
       " 'q_hat': [0.7208205283413383],\n",
       " 'coverage': [0.9123174673949392],\n",
       " 'avg_size': [1.133340764686211]}"
      ]
     },
     "execution_count": 59,
     "metadata": {},
     "output_type": "execute_result"
    }
   ],
   "source": [
    "cp_metrics_dict"
   ]
  },
  {
   "cell_type": "code",
   "execution_count": 60,
   "id": "33007efc-14e9-4ec6-97ac-56a455c82265",
   "metadata": {
    "execution": {
     "iopub.execute_input": "2025-07-30T13:50:41.565557Z",
     "iopub.status.busy": "2025-07-30T13:50:41.564825Z",
     "iopub.status.idle": "2025-07-30T13:50:41.571728Z",
     "shell.execute_reply": "2025-07-30T13:50:41.570589Z"
    },
    "papermill": {
     "duration": 0.033694,
     "end_time": "2025-07-30T13:50:41.573462",
     "exception": false,
     "start_time": "2025-07-30T13:50:41.539768",
     "status": "completed"
    },
    "tags": []
   },
   "outputs": [],
   "source": [
    "cp_metrics_df = pd.DataFrame(cp_metrics_dict)"
   ]
  },
  {
   "cell_type": "code",
   "execution_count": 61,
   "id": "db12611b-57b2-4910-b9d0-355adfd6e7bf",
   "metadata": {
    "execution": {
     "iopub.execute_input": "2025-07-30T13:50:41.633532Z",
     "iopub.status.busy": "2025-07-30T13:50:41.632862Z",
     "iopub.status.idle": "2025-07-30T13:50:41.653354Z",
     "shell.execute_reply": "2025-07-30T13:50:41.652090Z"
    },
    "papermill": {
     "duration": 0.051371,
     "end_time": "2025-07-30T13:50:41.655064",
     "exception": false,
     "start_time": "2025-07-30T13:50:41.603693",
     "status": "completed"
    },
    "tags": []
   },
   "outputs": [
    {
     "data": {
      "text/html": [
       "<div>\n",
       "<style scoped>\n",
       "    .dataframe tbody tr th:only-of-type {\n",
       "        vertical-align: middle;\n",
       "    }\n",
       "\n",
       "    .dataframe tbody tr th {\n",
       "        vertical-align: top;\n",
       "    }\n",
       "\n",
       "    .dataframe thead th {\n",
       "        text-align: right;\n",
       "    }\n",
       "</style>\n",
       "<table border=\"1\" class=\"dataframe\">\n",
       "  <thead>\n",
       "    <tr style=\"text-align: right;\">\n",
       "      <th></th>\n",
       "      <th>universe_id</th>\n",
       "      <th>universe_training_size</th>\n",
       "      <th>universe_scale</th>\n",
       "      <th>universe_model</th>\n",
       "      <th>universe_exclude_features</th>\n",
       "      <th>universe_exclude_subgroups</th>\n",
       "      <th>q_hat</th>\n",
       "      <th>coverage</th>\n",
       "      <th>avg_size</th>\n",
       "    </tr>\n",
       "  </thead>\n",
       "  <tbody>\n",
       "    <tr>\n",
       "      <th>0</th>\n",
       "      <td>2f3fa3502cc024b67f76376a81dc38f0</td>\n",
       "      <td>5k</td>\n",
       "      <td>do-not-scale</td>\n",
       "      <td>gbm</td>\n",
       "      <td>sex</td>\n",
       "      <td>keep-all</td>\n",
       "      <td>0.720821</td>\n",
       "      <td>0.912317</td>\n",
       "      <td>1.133341</td>\n",
       "    </tr>\n",
       "  </tbody>\n",
       "</table>\n",
       "</div>"
      ],
      "text/plain": [
       "                        universe_id universe_training_size universe_scale  \\\n",
       "0  2f3fa3502cc024b67f76376a81dc38f0                     5k   do-not-scale   \n",
       "\n",
       "  universe_model universe_exclude_features universe_exclude_subgroups  \\\n",
       "0            gbm                       sex                   keep-all   \n",
       "\n",
       "      q_hat  coverage  avg_size  \n",
       "0  0.720821  0.912317  1.133341  "
      ]
     },
     "execution_count": 61,
     "metadata": {},
     "output_type": "execute_result"
    }
   ],
   "source": [
    "cp_metrics_df"
   ]
  },
  {
   "cell_type": "code",
   "execution_count": 62,
   "id": "b7fbde55-a0a1-47e4-9af6-fe4a17fa8c61",
   "metadata": {
    "execution": {
     "iopub.execute_input": "2025-07-30T13:50:41.701820Z",
     "iopub.status.busy": "2025-07-30T13:50:41.701325Z",
     "iopub.status.idle": "2025-07-30T13:50:41.706347Z",
     "shell.execute_reply": "2025-07-30T13:50:41.705585Z"
    },
    "papermill": {
     "duration": 0.024063,
     "end_time": "2025-07-30T13:50:41.707810",
     "exception": false,
     "start_time": "2025-07-30T13:50:41.683747",
     "status": "completed"
    },
    "tags": []
   },
   "outputs": [],
   "source": [
    "# Conditional Coverage & looking at subgroups"
   ]
  },
  {
   "cell_type": "code",
   "execution_count": 63,
   "id": "027ae886-68dd-4141-96c7-805a5450e1ef",
   "metadata": {
    "execution": {
     "iopub.execute_input": "2025-07-30T13:50:41.740106Z",
     "iopub.status.busy": "2025-07-30T13:50:41.739573Z",
     "iopub.status.idle": "2025-07-30T13:50:41.975862Z",
     "shell.execute_reply": "2025-07-30T13:50:41.974651Z"
    },
    "papermill": {
     "duration": 0.253675,
     "end_time": "2025-07-30T13:50:41.977544",
     "exception": false,
     "start_time": "2025-07-30T13:50:41.723869",
     "status": "completed"
    },
    "tags": []
   },
   "outputs": [],
   "source": [
    "from fairness_multiverse.conformal import build_cp_groups\n",
    "\n",
    "cp_groups_df = build_cp_groups(pred_sets, y_true, X_test.index, org_test)\n",
    "#needs universe_id and setting"
   ]
  },
  {
   "cell_type": "code",
   "execution_count": 64,
   "id": "01d5802c-663a-4d1f-9d69-e036faaffbf7",
   "metadata": {
    "execution": {
     "iopub.execute_input": "2025-07-30T13:50:42.035444Z",
     "iopub.status.busy": "2025-07-30T13:50:42.034984Z",
     "iopub.status.idle": "2025-07-30T13:50:42.040505Z",
     "shell.execute_reply": "2025-07-30T13:50:42.039482Z"
    },
    "papermill": {
     "duration": 0.037114,
     "end_time": "2025-07-30T13:50:42.042186",
     "exception": false,
     "start_time": "2025-07-30T13:50:42.005072",
     "status": "completed"
    },
    "tags": []
   },
   "outputs": [],
   "source": [
    "#delete\n",
    "#cp_groups_df"
   ]
  },
  {
   "cell_type": "code",
   "execution_count": 65,
   "id": "fa424af1-d1eb-443d-b717-2d279ada8408",
   "metadata": {
    "execution": {
     "iopub.execute_input": "2025-07-30T13:50:42.099455Z",
     "iopub.status.busy": "2025-07-30T13:50:42.098723Z",
     "iopub.status.idle": "2025-07-30T13:50:42.104972Z",
     "shell.execute_reply": "2025-07-30T13:50:42.103634Z"
    },
    "papermill": {
     "duration": 0.037113,
     "end_time": "2025-07-30T13:50:42.106913",
     "exception": false,
     "start_time": "2025-07-30T13:50:42.069800",
     "status": "completed"
    },
    "tags": []
   },
   "outputs": [],
   "source": [
    "#delete\n",
    "#percentage = (cp_groups_df['nongerman_female'] == 1).mean() * 100\n",
    "#print(percentage)\n"
   ]
  },
  {
   "cell_type": "code",
   "execution_count": 66,
   "id": "6cbdab96-b2b2-45af-ad54-d0516db2e28d",
   "metadata": {
    "execution": {
     "iopub.execute_input": "2025-07-30T13:50:42.161925Z",
     "iopub.status.busy": "2025-07-30T13:50:42.160777Z",
     "iopub.status.idle": "2025-07-30T13:50:44.057558Z",
     "shell.execute_reply": "2025-07-30T13:50:44.056433Z"
    },
    "papermill": {
     "duration": 1.926386,
     "end_time": "2025-07-30T13:50:44.059633",
     "exception": false,
     "start_time": "2025-07-30T13:50:42.133247",
     "status": "completed"
    },
    "tags": []
   },
   "outputs": [],
   "source": [
    "# Define covered = 1 if true_label is in the predicted set\n",
    "cp_groups_df['covered'] = cp_groups_df.apply(\n",
    "    lambda r: int(r['true_label'] in r['pred_set']),\n",
    "    axis=1\n",
    ")"
   ]
  },
  {
   "cell_type": "code",
   "execution_count": 67,
   "id": "338ff529-1a6b-4b87-a931-8e4788d52aad",
   "metadata": {
    "execution": {
     "iopub.execute_input": "2025-07-30T13:50:44.118536Z",
     "iopub.status.busy": "2025-07-30T13:50:44.117936Z",
     "iopub.status.idle": "2025-07-30T13:50:44.123369Z",
     "shell.execute_reply": "2025-07-30T13:50:44.122437Z"
    },
    "papermill": {
     "duration": 0.036846,
     "end_time": "2025-07-30T13:50:44.125131",
     "exception": false,
     "start_time": "2025-07-30T13:50:44.088285",
     "status": "completed"
    },
    "tags": []
   },
   "outputs": [],
   "source": [
    "#cp_groups_df"
   ]
  },
  {
   "cell_type": "code",
   "execution_count": 68,
   "id": "90032e27-66df-4540-9169-4e89cfbaa758",
   "metadata": {
    "execution": {
     "iopub.execute_input": "2025-07-30T13:50:44.187268Z",
     "iopub.status.busy": "2025-07-30T13:50:44.186776Z",
     "iopub.status.idle": "2025-07-30T13:50:44.199242Z",
     "shell.execute_reply": "2025-07-30T13:50:44.198188Z"
    },
    "papermill": {
     "duration": 0.044127,
     "end_time": "2025-07-30T13:50:44.201035",
     "exception": false,
     "start_time": "2025-07-30T13:50:44.156908",
     "status": "completed"
    },
    "tags": []
   },
   "outputs": [],
   "source": [
    "subgroups = ['frau1','nongerman','nongerman_male','nongerman_female']\n",
    "\n",
    "# Conditional coverage for subgroup==1\n",
    "cond_coverage = {\n",
    "    g: cp_groups_df.loc[cp_groups_df[g]==1, 'covered'].mean()\n",
    "    for g in subgroups\n",
    "}"
   ]
  },
  {
   "cell_type": "code",
   "execution_count": 69,
   "id": "1e348fb1-b9c3-45bc-ba23-f016827a7e0d",
   "metadata": {
    "execution": {
     "iopub.execute_input": "2025-07-30T13:50:44.257366Z",
     "iopub.status.busy": "2025-07-30T13:50:44.256851Z",
     "iopub.status.idle": "2025-07-30T13:50:44.264837Z",
     "shell.execute_reply": "2025-07-30T13:50:44.263587Z"
    },
    "papermill": {
     "duration": 0.038156,
     "end_time": "2025-07-30T13:50:44.266764",
     "exception": false,
     "start_time": "2025-07-30T13:50:44.228608",
     "status": "completed"
    },
    "tags": []
   },
   "outputs": [
    {
     "data": {
      "text/plain": [
       "{'frau1': 0.9092060924652918,\n",
       " 'nongerman': 0.9112445966429013,\n",
       " 'nongerman_male': 0.927136809871206,\n",
       " 'nongerman_female': 0.8849478390461997}"
      ]
     },
     "execution_count": 69,
     "metadata": {},
     "output_type": "execute_result"
    }
   ],
   "source": [
    "cond_coverage"
   ]
  },
  {
   "cell_type": "code",
   "execution_count": 70,
   "id": "f5093324-c3dd-4d63-bc4c-8d945e5c8bbb",
   "metadata": {
    "execution": {
     "iopub.execute_input": "2025-07-30T13:50:44.322325Z",
     "iopub.status.busy": "2025-07-30T13:50:44.321977Z",
     "iopub.status.idle": "2025-07-30T13:50:44.328370Z",
     "shell.execute_reply": "2025-07-30T13:50:44.327462Z"
    },
    "papermill": {
     "duration": 0.033068,
     "end_time": "2025-07-30T13:50:44.330034",
     "exception": false,
     "start_time": "2025-07-30T13:50:44.296966",
     "status": "completed"
    },
    "tags": []
   },
   "outputs": [],
   "source": [
    "for subgroup, cov in cond_coverage.items():\n",
    "    cp_metrics_df[f\"cov_{subgroup}\"] = cov"
   ]
  },
  {
   "cell_type": "code",
   "execution_count": 71,
   "id": "6e872e10-dbe5-49e8-b554-5030c98ff75d",
   "metadata": {
    "execution": {
     "iopub.execute_input": "2025-07-30T13:50:44.403531Z",
     "iopub.status.busy": "2025-07-30T13:50:44.402989Z",
     "iopub.status.idle": "2025-07-30T13:50:44.424367Z",
     "shell.execute_reply": "2025-07-30T13:50:44.423165Z"
    },
    "papermill": {
     "duration": 0.055282,
     "end_time": "2025-07-30T13:50:44.426066",
     "exception": false,
     "start_time": "2025-07-30T13:50:44.370784",
     "status": "completed"
    },
    "tags": []
   },
   "outputs": [
    {
     "data": {
      "text/html": [
       "<div>\n",
       "<style scoped>\n",
       "    .dataframe tbody tr th:only-of-type {\n",
       "        vertical-align: middle;\n",
       "    }\n",
       "\n",
       "    .dataframe tbody tr th {\n",
       "        vertical-align: top;\n",
       "    }\n",
       "\n",
       "    .dataframe thead th {\n",
       "        text-align: right;\n",
       "    }\n",
       "</style>\n",
       "<table border=\"1\" class=\"dataframe\">\n",
       "  <thead>\n",
       "    <tr style=\"text-align: right;\">\n",
       "      <th></th>\n",
       "      <th>universe_id</th>\n",
       "      <th>universe_training_size</th>\n",
       "      <th>universe_scale</th>\n",
       "      <th>universe_model</th>\n",
       "      <th>universe_exclude_features</th>\n",
       "      <th>universe_exclude_subgroups</th>\n",
       "      <th>q_hat</th>\n",
       "      <th>coverage</th>\n",
       "      <th>avg_size</th>\n",
       "      <th>cov_frau1</th>\n",
       "      <th>cov_nongerman</th>\n",
       "      <th>cov_nongerman_male</th>\n",
       "      <th>cov_nongerman_female</th>\n",
       "    </tr>\n",
       "  </thead>\n",
       "  <tbody>\n",
       "    <tr>\n",
       "      <th>0</th>\n",
       "      <td>2f3fa3502cc024b67f76376a81dc38f0</td>\n",
       "      <td>5k</td>\n",
       "      <td>do-not-scale</td>\n",
       "      <td>gbm</td>\n",
       "      <td>sex</td>\n",
       "      <td>keep-all</td>\n",
       "      <td>0.720821</td>\n",
       "      <td>0.912317</td>\n",
       "      <td>1.133341</td>\n",
       "      <td>0.909206</td>\n",
       "      <td>0.911245</td>\n",
       "      <td>0.927137</td>\n",
       "      <td>0.884948</td>\n",
       "    </tr>\n",
       "  </tbody>\n",
       "</table>\n",
       "</div>"
      ],
      "text/plain": [
       "                        universe_id universe_training_size universe_scale  \\\n",
       "0  2f3fa3502cc024b67f76376a81dc38f0                     5k   do-not-scale   \n",
       "\n",
       "  universe_model universe_exclude_features universe_exclude_subgroups  \\\n",
       "0            gbm                       sex                   keep-all   \n",
       "\n",
       "      q_hat  coverage  avg_size  cov_frau1  cov_nongerman  cov_nongerman_male  \\\n",
       "0  0.720821  0.912317  1.133341   0.909206       0.911245            0.927137   \n",
       "\n",
       "   cov_nongerman_female  \n",
       "0              0.884948  "
      ]
     },
     "execution_count": 71,
     "metadata": {},
     "output_type": "execute_result"
    }
   ],
   "source": [
    "cp_metrics_df"
   ]
  },
  {
   "cell_type": "markdown",
   "id": "33774451",
   "metadata": {
    "papermill": {
     "duration": 0.030934,
     "end_time": "2025-07-30T13:50:44.483730",
     "exception": false,
     "start_time": "2025-07-30T13:50:44.452796",
     "status": "completed"
    },
    "tags": []
   },
   "source": [
    "# (Fairness) Metrics"
   ]
  },
  {
   "cell_type": "code",
   "execution_count": 72,
   "id": "debc5d62",
   "metadata": {
    "execution": {
     "iopub.execute_input": "2025-07-30T13:50:44.548624Z",
     "iopub.status.busy": "2025-07-30T13:50:44.547946Z",
     "iopub.status.idle": "2025-07-30T13:50:44.572062Z",
     "shell.execute_reply": "2025-07-30T13:50:44.570860Z"
    },
    "papermill": {
     "duration": 0.05848,
     "end_time": "2025-07-30T13:50:44.573908",
     "exception": false,
     "start_time": "2025-07-30T13:50:44.515428",
     "status": "completed"
    },
    "tags": []
   },
   "outputs": [],
   "source": [
    "# do I need to include maxdeutsch1.missing?\n",
    "\n",
    "import numpy as np\n",
    "\n",
    "colname_to_bin = \"maxdeutsch1\"\n",
    "majority_value = org_train[colname_to_bin].mode()[0]\n",
    "\n",
    "org_test[\"majmin\"] = np.where(org_test[colname_to_bin] == majority_value, \"majority\", \"minority\")"
   ]
  },
  {
   "cell_type": "code",
   "execution_count": 73,
   "id": "06a50de5",
   "metadata": {
    "execution": {
     "iopub.execute_input": "2025-07-30T13:50:44.637484Z",
     "iopub.status.busy": "2025-07-30T13:50:44.636672Z",
     "iopub.status.idle": "2025-07-30T13:50:46.570088Z",
     "shell.execute_reply": "2025-07-30T13:50:46.569349Z"
    },
    "papermill": {
     "duration": 1.965248,
     "end_time": "2025-07-30T13:50:46.571673",
     "exception": false,
     "start_time": "2025-07-30T13:50:44.606425",
     "status": "completed"
    },
    "tags": []
   },
   "outputs": [],
   "source": [
    "example_universe = universe.copy()\n",
    "example_universe[\"cutoff\"] = example_universe[\"cutoff\"][0]\n",
    "example_universe[\"eval_fairness_grouping\"] = example_universe[\"eval_fairness_grouping\"][0]\n",
    "fairness_dict, metric_frame = universe_analysis.compute_metrics(\n",
    "    example_universe,\n",
    "    y_pred_prob=probs_test,\n",
    "    y_test=y_true,\n",
    "    org_test=org_test,\n",
    ")"
   ]
  },
  {
   "cell_type": "markdown",
   "id": "f95d4e02",
   "metadata": {
    "papermill": {
     "duration": 0.014509,
     "end_time": "2025-07-30T13:50:46.604174",
     "exception": false,
     "start_time": "2025-07-30T13:50:46.589665",
     "status": "completed"
    },
    "tags": []
   },
   "source": [
    "# Overall"
   ]
  },
  {
   "cell_type": "markdown",
   "id": "bdee4871",
   "metadata": {
    "papermill": {
     "duration": 0.014692,
     "end_time": "2025-07-30T13:50:46.633374",
     "exception": false,
     "start_time": "2025-07-30T13:50:46.618682",
     "status": "completed"
    },
    "tags": []
   },
   "source": [
    "Fairness\n",
    "Main fairness target: Equalized Odds. Seems to be a better fit than equal opportunity, since we're not only interested in Y = 1. Seems to be a better fit than demographic parity, since we also care about accuracy, not just equal distribution of preds.\n",
    "\n",
    "Pick column for computation of fairness metrics\n",
    "\n",
    "Performance\n",
    "Overall performance measures, most interesting in relation to the measures split by group below"
   ]
  },
  {
   "cell_type": "code",
   "execution_count": 74,
   "id": "c4e067c6",
   "metadata": {
    "execution": {
     "iopub.execute_input": "2025-07-30T13:50:46.663783Z",
     "iopub.status.busy": "2025-07-30T13:50:46.663284Z",
     "iopub.status.idle": "2025-07-30T13:50:46.671366Z",
     "shell.execute_reply": "2025-07-30T13:50:46.670559Z"
    },
    "papermill": {
     "duration": 0.025045,
     "end_time": "2025-07-30T13:50:46.672733",
     "exception": false,
     "start_time": "2025-07-30T13:50:46.647688",
     "status": "completed"
    },
    "tags": []
   },
   "outputs": [
    {
     "data": {
      "text/plain": [
       "accuracy                   0.224780\n",
       "balanced accuracy          0.549533\n",
       "f1                         0.246100\n",
       "precision                  0.140589\n",
       "false positive rate        0.887292\n",
       "false negative rate        0.013643\n",
       "selection rate             0.900000\n",
       "count                  89710.000000\n",
       "dtype: float64"
      ]
     },
     "execution_count": 74,
     "metadata": {},
     "output_type": "execute_result"
    }
   ],
   "source": [
    "metric_frame.overall"
   ]
  },
  {
   "cell_type": "markdown",
   "id": "e968fe9d",
   "metadata": {
    "papermill": {
     "duration": 0.014487,
     "end_time": "2025-07-30T13:50:46.702867",
     "exception": false,
     "start_time": "2025-07-30T13:50:46.688380",
     "status": "completed"
    },
    "tags": []
   },
   "source": [
    "By Group"
   ]
  },
  {
   "cell_type": "code",
   "execution_count": 75,
   "id": "ec325bce",
   "metadata": {
    "execution": {
     "iopub.execute_input": "2025-07-30T13:50:46.732810Z",
     "iopub.status.busy": "2025-07-30T13:50:46.732244Z",
     "iopub.status.idle": "2025-07-30T13:50:46.750113Z",
     "shell.execute_reply": "2025-07-30T13:50:46.749153Z"
    },
    "papermill": {
     "duration": 0.035162,
     "end_time": "2025-07-30T13:50:46.751813",
     "exception": false,
     "start_time": "2025-07-30T13:50:46.716651",
     "status": "completed"
    },
    "tags": []
   },
   "outputs": [
    {
     "data": {
      "text/html": [
       "<div>\n",
       "<style scoped>\n",
       "    .dataframe tbody tr th:only-of-type {\n",
       "        vertical-align: middle;\n",
       "    }\n",
       "\n",
       "    .dataframe tbody tr th {\n",
       "        vertical-align: top;\n",
       "    }\n",
       "\n",
       "    .dataframe thead th {\n",
       "        text-align: right;\n",
       "    }\n",
       "</style>\n",
       "<table border=\"1\" class=\"dataframe\">\n",
       "  <thead>\n",
       "    <tr style=\"text-align: right;\">\n",
       "      <th></th>\n",
       "      <th>accuracy</th>\n",
       "      <th>balanced accuracy</th>\n",
       "      <th>f1</th>\n",
       "      <th>precision</th>\n",
       "      <th>false positive rate</th>\n",
       "      <th>false negative rate</th>\n",
       "      <th>selection rate</th>\n",
       "      <th>count</th>\n",
       "    </tr>\n",
       "    <tr>\n",
       "      <th>majmin</th>\n",
       "      <th></th>\n",
       "      <th></th>\n",
       "      <th></th>\n",
       "      <th></th>\n",
       "      <th></th>\n",
       "      <th></th>\n",
       "      <th></th>\n",
       "      <th></th>\n",
       "    </tr>\n",
       "  </thead>\n",
       "  <tbody>\n",
       "    <tr>\n",
       "      <th>majority</th>\n",
       "      <td>0.247188</td>\n",
       "      <td>0.55942</td>\n",
       "      <td>0.256709</td>\n",
       "      <td>0.147613</td>\n",
       "      <td>0.864968</td>\n",
       "      <td>0.016193</td>\n",
       "      <td>0.880671</td>\n",
       "      <td>69170.0</td>\n",
       "    </tr>\n",
       "    <tr>\n",
       "      <th>minority</th>\n",
       "      <td>0.149318</td>\n",
       "      <td>0.51758</td>\n",
       "      <td>0.212609</td>\n",
       "      <td>0.119003</td>\n",
       "      <td>0.961039</td>\n",
       "      <td>0.003801</td>\n",
       "      <td>0.965093</td>\n",
       "      <td>20540.0</td>\n",
       "    </tr>\n",
       "  </tbody>\n",
       "</table>\n",
       "</div>"
      ],
      "text/plain": [
       "          accuracy  balanced accuracy        f1  precision  \\\n",
       "majmin                                                       \n",
       "majority  0.247188            0.55942  0.256709   0.147613   \n",
       "minority  0.149318            0.51758  0.212609   0.119003   \n",
       "\n",
       "          false positive rate  false negative rate  selection rate    count  \n",
       "majmin                                                                       \n",
       "majority             0.864968             0.016193        0.880671  69170.0  \n",
       "minority             0.961039             0.003801        0.965093  20540.0  "
      ]
     },
     "execution_count": 75,
     "metadata": {},
     "output_type": "execute_result"
    }
   ],
   "source": [
    "metric_frame.by_group"
   ]
  },
  {
   "cell_type": "code",
   "execution_count": 76,
   "id": "a9ddbe63",
   "metadata": {
    "execution": {
     "iopub.execute_input": "2025-07-30T13:50:46.813235Z",
     "iopub.status.busy": "2025-07-30T13:50:46.812543Z",
     "iopub.status.idle": "2025-07-30T13:50:49.228716Z",
     "shell.execute_reply": "2025-07-30T13:50:49.227559Z"
    },
    "papermill": {
     "duration": 2.448851,
     "end_time": "2025-07-30T13:50:49.230944",
     "exception": false,
     "start_time": "2025-07-30T13:50:46.782093",
     "status": "completed"
    },
    "tags": []
   },
   "outputs": [
    {
     "data": {
      "text/plain": [
       "array([[<Axes: title={'center': 'accuracy'}, xlabel='majmin'>,\n",
       "        <Axes: title={'center': 'balanced accuracy'}, xlabel='majmin'>,\n",
       "        <Axes: title={'center': 'f1'}, xlabel='majmin'>],\n",
       "       [<Axes: title={'center': 'precision'}, xlabel='majmin'>,\n",
       "        <Axes: title={'center': 'false positive rate'}, xlabel='majmin'>,\n",
       "        <Axes: title={'center': 'false negative rate'}, xlabel='majmin'>],\n",
       "       [<Axes: title={'center': 'selection rate'}, xlabel='majmin'>,\n",
       "        <Axes: title={'center': 'count'}, xlabel='majmin'>,\n",
       "        <Axes: xlabel='majmin'>]], dtype=object)"
      ]
     },
     "execution_count": 76,
     "metadata": {},
     "output_type": "execute_result"
    },
    {
     "data": {
      "image/png": "[encoded data removed]",
      "text/plain": [
       "<Figure size 1200x800 with 9 Axes>"
      ]
     },
     "metadata": {},
     "output_type": "display_data"
    }
   ],
   "source": [
    "# In a graphic\n",
    "metric_frame.by_group.plot.bar(\n",
    "    subplots=True,\n",
    "    layout=[3, 3],\n",
    "    legend=False,\n",
    "    figsize=[12, 8],\n",
    "    title=\"Show all metrics\",\n",
    ")"
   ]
  },
  {
   "cell_type": "markdown",
   "id": "f57a0bac",
   "metadata": {
    "papermill": {
     "duration": 0.0384,
     "end_time": "2025-07-30T13:50:49.310792",
     "exception": false,
     "start_time": "2025-07-30T13:50:49.272392",
     "status": "completed"
    },
    "tags": []
   },
   "source": [
    "# Final Output"
   ]
  },
  {
   "cell_type": "code",
   "execution_count": 77,
   "id": "96d280a3",
   "metadata": {
    "execution": {
     "iopub.execute_input": "2025-07-30T13:50:49.377231Z",
     "iopub.status.busy": "2025-07-30T13:50:49.376156Z",
     "iopub.status.idle": "2025-07-30T13:50:49.386293Z",
     "shell.execute_reply": "2025-07-30T13:50:49.385013Z"
    },
    "papermill": {
     "duration": 0.043326,
     "end_time": "2025-07-30T13:50:49.387926",
     "exception": false,
     "start_time": "2025-07-30T13:50:49.344600",
     "status": "completed"
    },
    "tags": []
   },
   "outputs": [
    {
     "data": {
      "text/plain": [
       "4"
      ]
     },
     "execution_count": 77,
     "metadata": {},
     "output_type": "execute_result"
    }
   ],
   "source": [
    "sub_universes = universe_analysis.generate_sub_universes()\n",
    "len(sub_universes)"
   ]
  },
  {
   "cell_type": "code",
   "execution_count": 78,
   "id": "92adf7ba",
   "metadata": {
    "execution": {
     "iopub.execute_input": "2025-07-30T13:50:49.450110Z",
     "iopub.status.busy": "2025-07-30T13:50:49.449684Z",
     "iopub.status.idle": "2025-07-30T13:50:49.455951Z",
     "shell.execute_reply": "2025-07-30T13:50:49.454854Z"
    },
    "papermill": {
     "duration": 0.039211,
     "end_time": "2025-07-30T13:50:49.457808",
     "exception": false,
     "start_time": "2025-07-30T13:50:49.418597",
     "status": "completed"
    },
    "tags": []
   },
   "outputs": [],
   "source": [
    "def filter_sub_universe_data(sub_universe, org_test):\n",
    "    # Keep all rows — no filtering\n",
    "    keep_rows_mask = np.ones(org_test.shape[0], dtype=bool)\n",
    "\n",
    "    print(f\"[INFO] Keeping all rows: {keep_rows_mask.sum()} rows retained.\")\n",
    "    return keep_rows_mask"
   ]
  },
  {
   "cell_type": "code",
   "execution_count": 79,
   "id": "4a759155",
   "metadata": {
    "execution": {
     "iopub.execute_input": "2025-07-30T13:50:49.522382Z",
     "iopub.status.busy": "2025-07-30T13:50:49.521458Z",
     "iopub.status.idle": "2025-07-30T13:50:57.602838Z",
     "shell.execute_reply": "2025-07-30T13:50:57.601886Z"
    },
    "papermill": {
     "duration": 8.114812,
     "end_time": "2025-07-30T13:50:57.604540",
     "exception": false,
     "start_time": "2025-07-30T13:50:49.489728",
     "status": "completed"
    },
    "tags": []
   },
   "outputs": [
    {
     "name": "stdout",
     "output_type": "stream",
     "text": [
      "Stopping execution_time clock.\n",
      "[INFO] Keeping all rows: 89710 rows retained.\n"
     ]
    },
    {
     "name": "stdout",
     "output_type": "stream",
     "text": [
      "[INFO] Keeping all rows: 89710 rows retained.\n"
     ]
    },
    {
     "name": "stdout",
     "output_type": "stream",
     "text": [
      "[INFO] Keeping all rows: 89710 rows retained.\n"
     ]
    },
    {
     "name": "stdout",
     "output_type": "stream",
     "text": [
      "[INFO] Keeping all rows: 89710 rows retained.\n"
     ]
    },
    {
     "data": {
      "text/html": [
       "<div>\n",
       "<style scoped>\n",
       "    .dataframe tbody tr th:only-of-type {\n",
       "        vertical-align: middle;\n",
       "    }\n",
       "\n",
       "    .dataframe tbody tr th {\n",
       "        vertical-align: top;\n",
       "    }\n",
       "\n",
       "    .dataframe thead th {\n",
       "        text-align: right;\n",
       "    }\n",
       "</style>\n",
       "<table border=\"1\" class=\"dataframe\">\n",
       "  <thead>\n",
       "    <tr style=\"text-align: right;\">\n",
       "      <th></th>\n",
       "      <th>run_no</th>\n",
       "      <th>universe_id</th>\n",
       "      <th>universe_settings</th>\n",
       "      <th>execution_time</th>\n",
       "      <th>test_size_n</th>\n",
       "      <th>test_size_frac</th>\n",
       "      <th>fair_main_equalized_odds_difference</th>\n",
       "      <th>fair_main_equalized_odds_ratio</th>\n",
       "      <th>fair_main_demographic_parity_difference</th>\n",
       "      <th>fair_main_demographic_parity_ratio</th>\n",
       "      <th>...</th>\n",
       "      <th>perf_grp_precision_0</th>\n",
       "      <th>perf_grp_precision_1</th>\n",
       "      <th>perf_grp_false positive rate_0</th>\n",
       "      <th>perf_grp_false positive rate_1</th>\n",
       "      <th>perf_grp_false negative rate_0</th>\n",
       "      <th>perf_grp_false negative rate_1</th>\n",
       "      <th>perf_grp_selection rate_0</th>\n",
       "      <th>perf_grp_selection rate_1</th>\n",
       "      <th>perf_grp_count_0</th>\n",
       "      <th>perf_grp_count_1</th>\n",
       "    </tr>\n",
       "  </thead>\n",
       "  <tbody>\n",
       "    <tr>\n",
       "      <th>0</th>\n",
       "      <td>12</td>\n",
       "      <td>2f3fa3502cc024b67f76376a81dc38f0</td>\n",
       "      <td>{\"cutoff\": \"quantile_0.1\", \"eval_fairness_grou...</td>\n",
       "      <td>31.729493</td>\n",
       "      <td>89710</td>\n",
       "      <td>1.0</td>\n",
       "      <td>0.096071</td>\n",
       "      <td>0.900034</td>\n",
       "      <td>0.084422</td>\n",
       "      <td>0.912525</td>\n",
       "      <td>...</td>\n",
       "      <td>NaN</td>\n",
       "      <td>NaN</td>\n",
       "      <td>NaN</td>\n",
       "      <td>NaN</td>\n",
       "      <td>NaN</td>\n",
       "      <td>NaN</td>\n",
       "      <td>NaN</td>\n",
       "      <td>NaN</td>\n",
       "      <td>NaN</td>\n",
       "      <td>NaN</td>\n",
       "    </tr>\n",
       "    <tr>\n",
       "      <th>0</th>\n",
       "      <td>12</td>\n",
       "      <td>2f3fa3502cc024b67f76376a81dc38f0</td>\n",
       "      <td>{\"cutoff\": \"quantile_0.1\", \"eval_fairness_grou...</td>\n",
       "      <td>31.729493</td>\n",
       "      <td>89710</td>\n",
       "      <td>1.0</td>\n",
       "      <td>0.096071</td>\n",
       "      <td>0.900034</td>\n",
       "      <td>0.084422</td>\n",
       "      <td>0.912525</td>\n",
       "      <td>...</td>\n",
       "      <td>0.119003</td>\n",
       "      <td>0.147613</td>\n",
       "      <td>0.961039</td>\n",
       "      <td>0.864968</td>\n",
       "      <td>0.003801</td>\n",
       "      <td>0.016193</td>\n",
       "      <td>0.965093</td>\n",
       "      <td>0.880671</td>\n",
       "      <td>20540.0</td>\n",
       "      <td>69170.0</td>\n",
       "    </tr>\n",
       "    <tr>\n",
       "      <th>0</th>\n",
       "      <td>12</td>\n",
       "      <td>2f3fa3502cc024b67f76376a81dc38f0</td>\n",
       "      <td>{\"cutoff\": \"quantile_0.25\", \"eval_fairness_gro...</td>\n",
       "      <td>31.729493</td>\n",
       "      <td>89710</td>\n",
       "      <td>1.0</td>\n",
       "      <td>0.071332</td>\n",
       "      <td>0.908146</td>\n",
       "      <td>0.057909</td>\n",
       "      <td>0.927126</td>\n",
       "      <td>...</td>\n",
       "      <td>NaN</td>\n",
       "      <td>NaN</td>\n",
       "      <td>NaN</td>\n",
       "      <td>NaN</td>\n",
       "      <td>NaN</td>\n",
       "      <td>NaN</td>\n",
       "      <td>NaN</td>\n",
       "      <td>NaN</td>\n",
       "      <td>NaN</td>\n",
       "      <td>NaN</td>\n",
       "    </tr>\n",
       "    <tr>\n",
       "      <th>0</th>\n",
       "      <td>12</td>\n",
       "      <td>2f3fa3502cc024b67f76376a81dc38f0</td>\n",
       "      <td>{\"cutoff\": \"quantile_0.25\", \"eval_fairness_gro...</td>\n",
       "      <td>31.729493</td>\n",
       "      <td>89710</td>\n",
       "      <td>1.0</td>\n",
       "      <td>0.071332</td>\n",
       "      <td>0.908146</td>\n",
       "      <td>0.057909</td>\n",
       "      <td>0.927126</td>\n",
       "      <td>...</td>\n",
       "      <td>0.135400</td>\n",
       "      <td>0.169231</td>\n",
       "      <td>0.776579</td>\n",
       "      <td>0.705247</td>\n",
       "      <td>0.066723</td>\n",
       "      <td>0.056455</td>\n",
       "      <td>0.794645</td>\n",
       "      <td>0.736736</td>\n",
       "      <td>20540.0</td>\n",
       "      <td>69170.0</td>\n",
       "    </tr>\n",
       "  </tbody>\n",
       "</table>\n",
       "<p>4 rows × 50 columns</p>\n",
       "</div>"
      ],
      "text/plain": [
       "  run_no                       universe_id  \\\n",
       "0     12  2f3fa3502cc024b67f76376a81dc38f0   \n",
       "0     12  2f3fa3502cc024b67f76376a81dc38f0   \n",
       "0     12  2f3fa3502cc024b67f76376a81dc38f0   \n",
       "0     12  2f3fa3502cc024b67f76376a81dc38f0   \n",
       "\n",
       "                                   universe_settings  execution_time  \\\n",
       "0  {\"cutoff\": \"quantile_0.1\", \"eval_fairness_grou...       31.729493   \n",
       "0  {\"cutoff\": \"quantile_0.1\", \"eval_fairness_grou...       31.729493   \n",
       "0  {\"cutoff\": \"quantile_0.25\", \"eval_fairness_gro...       31.729493   \n",
       "0  {\"cutoff\": \"quantile_0.25\", \"eval_fairness_gro...       31.729493   \n",
       "\n",
       "   test_size_n  test_size_frac  fair_main_equalized_odds_difference  \\\n",
       "0        89710             1.0                             0.096071   \n",
       "0        89710             1.0                             0.096071   \n",
       "0        89710             1.0                             0.071332   \n",
       "0        89710             1.0                             0.071332   \n",
       "\n",
       "   fair_main_equalized_odds_ratio  fair_main_demographic_parity_difference  \\\n",
       "0                        0.900034                                 0.084422   \n",
       "0                        0.900034                                 0.084422   \n",
       "0                        0.908146                                 0.057909   \n",
       "0                        0.908146                                 0.057909   \n",
       "\n",
       "   fair_main_demographic_parity_ratio  ...  perf_grp_precision_0  \\\n",
       "0                            0.912525  ...                   NaN   \n",
       "0                            0.912525  ...              0.119003   \n",
       "0                            0.927126  ...                   NaN   \n",
       "0                            0.927126  ...              0.135400   \n",
       "\n",
       "   perf_grp_precision_1  perf_grp_false positive rate_0  \\\n",
       "0                   NaN                             NaN   \n",
       "0              0.147613                        0.961039   \n",
       "0                   NaN                             NaN   \n",
       "0              0.169231                        0.776579   \n",
       "\n",
       "   perf_grp_false positive rate_1  perf_grp_false negative rate_0  \\\n",
       "0                             NaN                             NaN   \n",
       "0                        0.864968                        0.003801   \n",
       "0                             NaN                             NaN   \n",
       "0                        0.705247                        0.066723   \n",
       "\n",
       "   perf_grp_false negative rate_1  perf_grp_selection rate_0  \\\n",
       "0                             NaN                        NaN   \n",
       "0                        0.016193                   0.965093   \n",
       "0                             NaN                        NaN   \n",
       "0                        0.056455                   0.794645   \n",
       "\n",
       "   perf_grp_selection rate_1  perf_grp_count_0  perf_grp_count_1  \n",
       "0                        NaN               NaN               NaN  \n",
       "0                   0.880671           20540.0           69170.0  \n",
       "0                        NaN               NaN               NaN  \n",
       "0                   0.736736           20540.0           69170.0  \n",
       "\n",
       "[4 rows x 50 columns]"
      ]
     },
     "execution_count": 79,
     "metadata": {},
     "output_type": "execute_result"
    }
   ],
   "source": [
    "final_output = universe_analysis.generate_final_output(\n",
    "    y_pred_prob=probs_test,\n",
    "    y_test=y_true,\n",
    "    org_test=org_test,\n",
    "    filter_data=filter_sub_universe_data,\n",
    "    cp_metrics_df=cp_metrics_df,\n",
    "    save=True,\n",
    ")\n",
    "final_output"
   ]
  },
  {
   "cell_type": "code",
   "execution_count": null,
   "id": "721ff514-cb11-46f8-b6fc-50392f74b5cb",
   "metadata": {
    "papermill": {
     "duration": 0.032753,
     "end_time": "2025-07-30T13:50:57.671351",
     "exception": false,
     "start_time": "2025-07-30T13:50:57.638598",
     "status": "completed"
    },
    "tags": []
   },
   "outputs": [],
   "source": []
  }
 ],
 "metadata": {
  "celltoolbar": "Tags",
  "kernelspec": {
   "display_name": "Python (CMA Fairness)",
   "language": "python",
   "name": "cma_fair_env"
  },
  "language_info": {
   "codemirror_mode": {
    "name": "ipython",
    "version": 3
   },
   "file_extension": ".py",
   "mimetype": "text/x-python",
   "name": "python",
   "nbconvert_exporter": "python",
   "pygments_lexer": "ipython3",
   "version": "3.10.12"
  },
  "papermill": {
   "default_parameters": {},
   "duration": 44.211814,
   "end_time": "2025-07-30T13:50:58.623372",
   "environment_variables": {},
   "exception": null,
   "input_path": "universe_analysis.ipynb",
   "output_path": "output/runs/12/notebooks/m_12-2f3fa3502cc024b67f76376a81dc38f0.ipynb",
   "parameters": {
    "output_dir": "output",
    "run_no": "12",
    "seed": "2023",
    "universe": "{\"cutoff\": [\"quantile_0.1\", \"quantile_0.25\"], \"eval_fairness_grouping\": [\"majority-minority\", \"nationality-all\"], \"exclude_features\": \"sex\", \"exclude_subgroups\": \"keep-all\", \"model\": \"gbm\", \"scale\": \"do-not-scale\", \"training_size\": \"5k\", \"training_year\": \"2014\"}",
    "universe_id": "2f3fa3502cc024b67f76376a81dc38f0"
   },
   "start_time": "2025-07-30T13:50:14.411558",
   "version": "2.6.0"
  }
 },
 "nbformat": 4,
 "nbformat_minor": 5
}