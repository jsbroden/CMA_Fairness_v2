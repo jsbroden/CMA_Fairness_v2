{
 "cells": [
  {
   "cell_type": "code",
   "execution_count": 1,
   "id": "f159f837-637b-42ba-96b5-ec9a68c44524",
   "metadata": {
    "execution": {
     "iopub.execute_input": "2025-07-30T13:59:46.727326Z",
     "iopub.status.busy": "2025-07-30T13:59:46.726634Z",
     "iopub.status.idle": "2025-07-30T13:59:46.737761Z",
     "shell.execute_reply": "2025-07-30T13:59:46.737045Z"
    },
    "papermill": {
     "duration": 0.024269,
     "end_time": "2025-07-30T13:59:46.739268",
     "exception": false,
     "start_time": "2025-07-30T13:59:46.714999",
     "status": "completed"
    },
    "tags": []
   },
   "outputs": [
    {
     "name": "stdout",
     "output_type": "stream",
     "text": [
      "/dss/dsshome1/0C/ra93lal2/cma/CMA_Fairness_v2\n"
     ]
    },
    {
     "name": "stderr",
     "output_type": "stream",
     "text": [
      "/dss/dsshome1/0C/ra93lal2/.local/share/virtualenvs/CMA_Fairness_v2-3j10GkSs/lib/python3.10/site-packages/IPython/core/magics/osm.py:393: UserWarning: This is now an optional IPython functionality, using bookmarks requires you to install the `pickleshare` library.\n",
      "  bkms = self.shell.db.get('bookmarks', {})\n",
      "/dss/dsshome1/0C/ra93lal2/.local/share/virtualenvs/CMA_Fairness_v2-3j10GkSs/lib/python3.10/site-packages/IPython/core/magics/osm.py:417: UserWarning: This is now an optional IPython functionality, setting dhist requires you to install the `pickleshare` library.\n",
      "  self.shell.db['dhist'] = compress_dhist(dhist)[-100:]\n"
     ]
    }
   ],
   "source": [
    "%cd ~/cma/CMA_Fairness_v2"
   ]
  },
  {
   "cell_type": "markdown",
   "id": "de2603b9",
   "metadata": {
    "papermill": {
     "duration": 0.010086,
     "end_time": "2025-07-30T13:59:46.760364",
     "exception": false,
     "start_time": "2025-07-30T13:59:46.750278",
     "status": "completed"
    },
    "tags": []
   },
   "source": [
    "The following cell holds the definition of our parameters, these values can be overriden by rendering the with e.g. the following command:\n",
    "\n",
    "papermill -p alpha 0.2 -p ratio 0.3 universe_analysis.ipynb output/test_run.ipynb"
   ]
  },
  {
   "cell_type": "code",
   "execution_count": 2,
   "id": "a80968a0-40bb-4fa9-85ef-2d5eefb01975",
   "metadata": {
    "execution": {
     "iopub.execute_input": "2025-07-30T13:59:46.790152Z",
     "iopub.status.busy": "2025-07-30T13:59:46.789715Z",
     "iopub.status.idle": "2025-07-30T13:59:46.794609Z",
     "shell.execute_reply": "2025-07-30T13:59:46.793802Z"
    },
    "papermill": {
     "duration": 0.025685,
     "end_time": "2025-07-30T13:59:46.796111",
     "exception": false,
     "start_time": "2025-07-30T13:59:46.770426",
     "status": "completed"
    },
    "tags": []
   },
   "outputs": [
    {
     "name": "stdout",
     "output_type": "stream",
     "text": [
      "Current working directory: /dss/dsshome1/0C/ra93lal2/cma/CMA_Fairness_v2\n"
     ]
    }
   ],
   "source": [
    "import os\n",
    "print(\"Current working directory:\", os.getcwd())"
   ]
  },
  {
   "cell_type": "code",
   "execution_count": 3,
   "id": "2dce4c03",
   "metadata": {
    "execution": {
     "iopub.execute_input": "2025-07-30T13:59:46.818257Z",
     "iopub.status.busy": "2025-07-30T13:59:46.817858Z",
     "iopub.status.idle": "2025-07-30T13:59:46.822711Z",
     "shell.execute_reply": "2025-07-30T13:59:46.821696Z"
    },
    "papermill": {
     "duration": 0.016918,
     "end_time": "2025-07-30T13:59:46.824363",
     "exception": false,
     "start_time": "2025-07-30T13:59:46.807445",
     "status": "completed"
    },
    "tags": [
     "parameters"
    ]
   },
   "outputs": [],
   "source": [
    "run_no = 0\n",
    "universe_id = \"test\"\n",
    "universe = {\n",
    "    \"training_size\": \"25k\", # \"25k\", \"5k\", \"1k\"\n",
    "    \"training_year\": \"2014\", # \"2014\", \"2012_14\", \"2010_14\"\n",
    "    \"scale\": \"scale\", # \"scale\", \"do-not-scale\",\n",
    "    #\"stratify_split\": \"target\", # \"none\", \"target\", \"protected-attribute\", \"both\",\n",
    "    \"model\": \"elasticnet\", # \"logreg\", \"penalized_logreg\", \"rf\", \"gbm\", \"elasticnet\"\n",
    "    \"cutoff\": [\"quantile_0.15\", \"quantile_0.30\"],\n",
    "    \"exclude_features\": \"age\", # \"none\", \"nationality\", \"sex\", \"nationality-sex\", \"age\"\n",
    "    \"exclude_subgroups\": \"keep-all\", # \"keep-all\", \"drop-non-german\"\n",
    "    \"eval_fairness_grouping\": [\"majority-minority\", \"nationality-all\"]\n",
    "}\n",
    "\n",
    "output_dir=\"./output\"\n",
    "seed=0"
   ]
  },
  {
   "cell_type": "code",
   "execution_count": 4,
   "id": "15d5b26d",
   "metadata": {
    "execution": {
     "iopub.execute_input": "2025-07-30T13:59:46.867141Z",
     "iopub.status.busy": "2025-07-30T13:59:46.866649Z",
     "iopub.status.idle": "2025-07-30T13:59:46.872266Z",
     "shell.execute_reply": "2025-07-30T13:59:46.871125Z"
    },
    "papermill": {
     "duration": 0.029085,
     "end_time": "2025-07-30T13:59:46.874078",
     "exception": false,
     "start_time": "2025-07-30T13:59:46.844993",
     "status": "completed"
    },
    "tags": [
     "injected-parameters"
    ]
   },
   "outputs": [],
   "source": [
    "# Parameters\n",
    "universe_id = \"95d22fc05c82b1614dd6c274860b050d\"\n",
    "run_no = \"12\"\n",
    "universe = \"{\\\"cutoff\\\": [\\\"quantile_0.1\\\", \\\"quantile_0.25\\\"], \\\"eval_fairness_grouping\\\": [\\\"majority-minority\\\", \\\"nationality-all\\\"], \\\"exclude_features\\\": \\\"nationality-sex\\\", \\\"exclude_subgroups\\\": \\\"drop-non-german\\\", \\\"model\\\": \\\"logreg\\\", \\\"scale\\\": \\\"do-not-scale\\\", \\\"training_size\\\": \\\"5k\\\", \\\"training_year\\\": \\\"2012_14\\\"}\"\n",
    "output_dir = \"output\"\n",
    "seed = \"2023\"\n"
   ]
  },
  {
   "cell_type": "code",
   "execution_count": 5,
   "id": "1650acaf",
   "metadata": {
    "execution": {
     "iopub.execute_input": "2025-07-30T13:59:46.918793Z",
     "iopub.status.busy": "2025-07-30T13:59:46.918311Z",
     "iopub.status.idle": "2025-07-30T13:59:46.923580Z",
     "shell.execute_reply": "2025-07-30T13:59:46.922544Z"
    },
    "papermill": {
     "duration": 0.029338,
     "end_time": "2025-07-30T13:59:46.925294",
     "exception": false,
     "start_time": "2025-07-30T13:59:46.895956",
     "status": "completed"
    },
    "tags": []
   },
   "outputs": [],
   "source": [
    "import json\n",
    "# Parse universe into dict if it is passed as a string\n",
    "if isinstance(universe, str):\n",
    "    universe = json.loads(universe)"
   ]
  },
  {
   "cell_type": "code",
   "execution_count": 6,
   "id": "16620c48",
   "metadata": {
    "execution": {
     "iopub.execute_input": "2025-07-30T13:59:46.967986Z",
     "iopub.status.busy": "2025-07-30T13:59:46.967280Z",
     "iopub.status.idle": "2025-07-30T13:59:47.015474Z",
     "shell.execute_reply": "2025-07-30T13:59:47.014549Z"
    },
    "papermill": {
     "duration": 0.069834,
     "end_time": "2025-07-30T13:59:47.017254",
     "exception": false,
     "start_time": "2025-07-30T13:59:46.947420",
     "status": "completed"
    },
    "tags": []
   },
   "outputs": [],
   "source": [
    "# Auto-reload the custom package\n",
    "%load_ext autoreload\n",
    "%autoreload 1\n",
    "%aimport fairness_multiverse"
   ]
  },
  {
   "cell_type": "code",
   "execution_count": 7,
   "id": "01c5c9f3",
   "metadata": {
    "execution": {
     "iopub.execute_input": "2025-07-30T13:59:47.059657Z",
     "iopub.status.busy": "2025-07-30T13:59:47.059231Z",
     "iopub.status.idle": "2025-07-30T13:59:48.944510Z",
     "shell.execute_reply": "2025-07-30T13:59:48.943399Z"
    },
    "papermill": {
     "duration": 1.909401,
     "end_time": "2025-07-30T13:59:48.946656",
     "exception": false,
     "start_time": "2025-07-30T13:59:47.037255",
     "status": "completed"
    },
    "tags": []
   },
   "outputs": [],
   "source": [
    "from fairness_multiverse.universe import UniverseAnalysis\n",
    "\n",
    "universe_analysis = UniverseAnalysis(\n",
    "    run_no = run_no,\n",
    "    universe_id = universe_id,\n",
    "    universe = universe,\n",
    "    output_dir=output_dir,\n",
    ")"
   ]
  },
  {
   "cell_type": "code",
   "execution_count": 8,
   "id": "106241f5",
   "metadata": {
    "execution": {
     "iopub.execute_input": "2025-07-30T13:59:48.987091Z",
     "iopub.status.busy": "2025-07-30T13:59:48.986419Z",
     "iopub.status.idle": "2025-07-30T13:59:48.993745Z",
     "shell.execute_reply": "2025-07-30T13:59:48.992438Z"
    },
    "papermill": {
     "duration": 0.038397,
     "end_time": "2025-07-30T13:59:49.005232",
     "exception": false,
     "start_time": "2025-07-30T13:59:48.966835",
     "status": "completed"
    },
    "tags": []
   },
   "outputs": [
    {
     "name": "stdout",
     "output_type": "stream",
     "text": [
      "Using Seed: 2023\n"
     ]
    }
   ],
   "source": [
    "import numpy as np\n",
    "parsed_seed = int(seed)\n",
    "np.random.seed(parsed_seed)\n",
    "print(f\"Using Seed: {parsed_seed}\")"
   ]
  },
  {
   "cell_type": "markdown",
   "id": "e0ebdc57",
   "metadata": {
    "papermill": {
     "duration": 0.027959,
     "end_time": "2025-07-30T13:59:49.058123",
     "exception": false,
     "start_time": "2025-07-30T13:59:49.030164",
     "status": "completed"
    },
    "tags": []
   },
   "source": [
    "# Loading Data"
   ]
  },
  {
   "cell_type": "markdown",
   "id": "681925a3",
   "metadata": {
    "papermill": {
     "duration": 0.020075,
     "end_time": "2025-07-30T13:59:49.107280",
     "exception": false,
     "start_time": "2025-07-30T13:59:49.087205",
     "status": "completed"
    },
    "tags": []
   },
   "source": [
    "Load siab_train, siab_test, siab_calib and/or \n",
    "load siab_train_features, siab_train_labels"
   ]
  },
  {
   "cell_type": "code",
   "execution_count": 9,
   "id": "f0496b8a",
   "metadata": {
    "execution": {
     "iopub.execute_input": "2025-07-30T13:59:49.141825Z",
     "iopub.status.busy": "2025-07-30T13:59:49.141470Z",
     "iopub.status.idle": "2025-07-30T13:59:59.955143Z",
     "shell.execute_reply": "2025-07-30T13:59:59.954018Z"
    },
    "papermill": {
     "duration": 10.830025,
     "end_time": "2025-07-30T13:59:59.956960",
     "exception": false,
     "start_time": "2025-07-30T13:59:49.126935",
     "status": "completed"
    },
    "tags": []
   },
   "outputs": [
    {
     "name": "stdout",
     "output_type": "stream",
     "text": [
      "Loading SIAB data from cache: data/siab_cached.csv.gz\n"
     ]
    },
    {
     "name": "stdout",
     "output_type": "stream",
     "text": [
      "(643690, 164)\n"
     ]
    }
   ],
   "source": [
    "from pathlib import Path\n",
    "import pandas as pd\n",
    "\n",
    "# File paths\n",
    "raw_file = Path(\"data/raw/siab.csv\")\n",
    "cache_file = Path(\"data/siab_cached.csv.gz\")\n",
    "\n",
    "# Ensure cache directory exists\n",
    "cache_file.parent.mkdir(parents=True, exist_ok=True)\n",
    "\n",
    "# Load with simple caching\n",
    "if cache_file.exists():\n",
    "    print(f\"Loading SIAB data from cache: {cache_file}\")\n",
    "    siab = pd.read_csv(cache_file, compression='gzip')\n",
    "else:\n",
    "    print(f\"Cache not found. Reading raw SIAB data: {raw_file}\")\n",
    "    siab = pd.read_csv(raw_file)\n",
    "    siab.to_csv(cache_file, index=False, compression='gzip')\n",
    "    print(f\"Cached SIAB data to: {cache_file}\")\n",
    "\n",
    "# Now use `siab` DataFrame as needed\n",
    "print(siab.shape)"
   ]
  },
  {
   "cell_type": "code",
   "execution_count": 10,
   "id": "db0ca512-5f53-4dba-abdb-a2888bca41ba",
   "metadata": {
    "execution": {
     "iopub.execute_input": "2025-07-30T13:59:59.999442Z",
     "iopub.status.busy": "2025-07-30T13:59:59.998935Z",
     "iopub.status.idle": "2025-07-30T14:00:00.004681Z",
     "shell.execute_reply": "2025-07-30T14:00:00.003562Z"
    },
    "papermill": {
     "duration": 0.027142,
     "end_time": "2025-07-30T14:00:00.006504",
     "exception": false,
     "start_time": "2025-07-30T13:59:59.979362",
     "status": "completed"
    },
    "tags": []
   },
   "outputs": [],
   "source": [
    "#siab"
   ]
  },
  {
   "cell_type": "code",
   "execution_count": 11,
   "id": "a0edb063",
   "metadata": {
    "execution": {
     "iopub.execute_input": "2025-07-30T14:00:00.054146Z",
     "iopub.status.busy": "2025-07-30T14:00:00.053699Z",
     "iopub.status.idle": "2025-07-30T14:00:00.058605Z",
     "shell.execute_reply": "2025-07-30T14:00:00.057698Z"
    },
    "papermill": {
     "duration": 0.029995,
     "end_time": "2025-07-30T14:00:00.060517",
     "exception": false,
     "start_time": "2025-07-30T14:00:00.030522",
     "status": "completed"
    },
    "tags": []
   },
   "outputs": [],
   "source": [
    "#import pandas as pd\n",
    "#\n",
    "#X_train = pd.read_csv(\"./data/X_train.csv\")\n",
    "#y_train = pd.read_csv(\"./data/y_train.csv\")"
   ]
  },
  {
   "cell_type": "code",
   "execution_count": 12,
   "id": "63d08085",
   "metadata": {
    "execution": {
     "iopub.execute_input": "2025-07-30T14:00:00.107633Z",
     "iopub.status.busy": "2025-07-30T14:00:00.106709Z",
     "iopub.status.idle": "2025-07-30T14:00:00.112019Z",
     "shell.execute_reply": "2025-07-30T14:00:00.110992Z"
    },
    "papermill": {
     "duration": 0.030349,
     "end_time": "2025-07-30T14:00:00.113861",
     "exception": false,
     "start_time": "2025-07-30T14:00:00.083512",
     "status": "completed"
    },
    "tags": []
   },
   "outputs": [],
   "source": [
    "#X_test = pd.read_csv(\"./data/X_test.csv\")\n",
    "#y_true = pd.read_csv(\"./data/y_test.csv\")"
   ]
  },
  {
   "cell_type": "code",
   "execution_count": 13,
   "id": "98a8d0fa-1d3d-4ed8-bb2c-281470e24add",
   "metadata": {
    "execution": {
     "iopub.execute_input": "2025-07-30T14:00:00.161080Z",
     "iopub.status.busy": "2025-07-30T14:00:00.160121Z",
     "iopub.status.idle": "2025-07-30T14:00:00.165432Z",
     "shell.execute_reply": "2025-07-30T14:00:00.164436Z"
    },
    "papermill": {
     "duration": 0.030261,
     "end_time": "2025-07-30T14:00:00.166894",
     "exception": false,
     "start_time": "2025-07-30T14:00:00.136633",
     "status": "completed"
    },
    "tags": []
   },
   "outputs": [],
   "source": [
    "# Calibration data for conformal\n",
    "#X_calib = pd.read_csv(\"./data/X_calib.csv\")\n",
    "#y_calib = pd.read_csv(\"./data/y_calib.csv\")"
   ]
  },
  {
   "cell_type": "markdown",
   "id": "997051c5-15bd-4b69-9786-c3001a3ce484",
   "metadata": {
    "papermill": {
     "duration": 0.018756,
     "end_time": "2025-07-30T14:00:00.205767",
     "exception": false,
     "start_time": "2025-07-30T14:00:00.187011",
     "status": "completed"
    },
    "tags": []
   },
   "source": [
    "# Splitting Data and Setting Training Data Size"
   ]
  },
  {
   "cell_type": "code",
   "execution_count": 14,
   "id": "e993b61f-042d-41a6-8c81-f55681f86335",
   "metadata": {
    "execution": {
     "iopub.execute_input": "2025-07-30T14:00:00.245346Z",
     "iopub.status.busy": "2025-07-30T14:00:00.244539Z",
     "iopub.status.idle": "2025-07-30T14:00:00.258575Z",
     "shell.execute_reply": "2025-07-30T14:00:00.257547Z"
    },
    "papermill": {
     "duration": 0.035864,
     "end_time": "2025-07-30T14:00:00.260533",
     "exception": false,
     "start_time": "2025-07-30T14:00:00.224669",
     "status": "completed"
    },
    "tags": []
   },
   "outputs": [],
   "source": [
    "def sample_by_year_size(df,\n",
    "                        training_year: str,\n",
    "                        training_size: str,\n",
    "                        random_state: int = 42):\n",
    "    # --- parse training_year into a list of int years ---\n",
    "    if \"_\" in training_year:\n",
    "        start_str, end_str = training_year.split(\"_\", 1)\n",
    "        start = int(start_str)\n",
    "        end   = int(end_str) if len(end_str) == 4 else (int(end_str) + (start // 100)*100)\n",
    "        years = list(range(start, end + 1))\n",
    "    else:\n",
    "        years = [int(training_year)]\n",
    "\n",
    "    df = df[df[\"year\"].isin(years)].reset_index(drop=True)\n",
    "\n",
    "    # --- map training_size to total number of samples ---\n",
    "    total_map = {\"25k\": 25_000, \"5k\": 5_000, \"1k\": 1_000}\n",
    "    if training_size not in total_map:\n",
    "        return df  # e.g. \"all\"\n",
    "\n",
    "    total_samples = total_map[training_size]\n",
    "    n_years       = len(years)\n",
    "    base          = total_samples // n_years\n",
    "    remainder     = total_samples % n_years\n",
    "\n",
    "    # --- build a dict: year -> how many to sample ---\n",
    "    # give +1 to the first `remainder` years in ascending order\n",
    "    quotas = {\n",
    "        year: base + (1 if idx < remainder else 0)\n",
    "        for idx, year in enumerate(sorted(years))\n",
    "    }\n",
    "\n",
    "    # --- sample per‐year according to the quota dict ---\n",
    "    sampled = (\n",
    "        df\n",
    "        .groupby(\"year\", group_keys=False)\n",
    "        .apply(lambda grp: grp.sample(\n",
    "            n=min(len(grp), quotas[grp.name]),\n",
    "            random_state=random_state))\n",
    "        .reset_index(drop=True)\n",
    "    )\n",
    "\n",
    "    return sampled"
   ]
  },
  {
   "cell_type": "code",
   "execution_count": 15,
   "id": "c0ccd338-0e02-41f3-a09d-f56f9266e3fb",
   "metadata": {
    "execution": {
     "iopub.execute_input": "2025-07-30T14:00:00.302004Z",
     "iopub.status.busy": "2025-07-30T14:00:00.301544Z",
     "iopub.status.idle": "2025-07-30T14:00:00.313058Z",
     "shell.execute_reply": "2025-07-30T14:00:00.312082Z"
    },
    "papermill": {
     "duration": 0.033861,
     "end_time": "2025-07-30T14:00:00.314585",
     "exception": false,
     "start_time": "2025-07-30T14:00:00.280724",
     "status": "completed"
    },
    "tags": []
   },
   "outputs": [
    {
     "data": {
      "text/plain": [
       "'5k'"
      ]
     },
     "execution_count": 15,
     "metadata": {},
     "output_type": "execute_result"
    }
   ],
   "source": [
    "universe[\"training_size\"]"
   ]
  },
  {
   "cell_type": "code",
   "execution_count": 16,
   "id": "ca707fd7-8047-4acd-bfa5-66248fbbf8e6",
   "metadata": {
    "execution": {
     "iopub.execute_input": "2025-07-30T14:00:00.356132Z",
     "iopub.status.busy": "2025-07-30T14:00:00.355432Z",
     "iopub.status.idle": "2025-07-30T14:00:00.362591Z",
     "shell.execute_reply": "2025-07-30T14:00:00.361611Z"
    },
    "papermill": {
     "duration": 0.029621,
     "end_time": "2025-07-30T14:00:00.364158",
     "exception": false,
     "start_time": "2025-07-30T14:00:00.334537",
     "status": "completed"
    },
    "tags": []
   },
   "outputs": [
    {
     "data": {
      "text/plain": [
       "'2012_14'"
      ]
     },
     "execution_count": 16,
     "metadata": {},
     "output_type": "execute_result"
    }
   ],
   "source": [
    "universe[\"training_year\"]"
   ]
  },
  {
   "cell_type": "code",
   "execution_count": 17,
   "id": "aea9c6ef-6f46-42c8-85eb-5a62025c1508",
   "metadata": {
    "execution": {
     "iopub.execute_input": "2025-07-30T14:00:00.409875Z",
     "iopub.status.busy": "2025-07-30T14:00:00.409211Z",
     "iopub.status.idle": "2025-07-30T14:00:01.026844Z",
     "shell.execute_reply": "2025-07-30T14:00:01.025797Z"
    },
    "papermill": {
     "duration": 0.643846,
     "end_time": "2025-07-30T14:00:01.028896",
     "exception": false,
     "start_time": "2025-07-30T14:00:00.385050",
     "status": "completed"
    },
    "tags": []
   },
   "outputs": [],
   "source": [
    "siab_train = sample_by_year_size(siab,\n",
    "                               training_year=universe[\"training_year\"],\n",
    "                               training_size=universe[\"training_size\"])"
   ]
  },
  {
   "cell_type": "code",
   "execution_count": 18,
   "id": "8d3afb32-789d-442c-8d5d-9f5aa8dd2eed",
   "metadata": {
    "execution": {
     "iopub.execute_input": "2025-07-30T14:00:01.069774Z",
     "iopub.status.busy": "2025-07-30T14:00:01.069373Z",
     "iopub.status.idle": "2025-07-30T14:00:01.075756Z",
     "shell.execute_reply": "2025-07-30T14:00:01.074676Z"
    },
    "papermill": {
     "duration": 0.027944,
     "end_time": "2025-07-30T14:00:01.077172",
     "exception": false,
     "start_time": "2025-07-30T14:00:01.049228",
     "status": "completed"
    },
    "tags": []
   },
   "outputs": [
    {
     "data": {
      "text/plain": [
       "(5000, 164)"
      ]
     },
     "execution_count": 18,
     "metadata": {},
     "output_type": "execute_result"
    }
   ],
   "source": [
    "siab_train.shape"
   ]
  },
  {
   "cell_type": "code",
   "execution_count": 19,
   "id": "d582db68-1a4c-47fb-84fc-08518dc1975a",
   "metadata": {
    "execution": {
     "iopub.execute_input": "2025-07-30T14:00:01.103739Z",
     "iopub.status.busy": "2025-07-30T14:00:01.103247Z",
     "iopub.status.idle": "2025-07-30T14:00:01.110390Z",
     "shell.execute_reply": "2025-07-30T14:00:01.109690Z"
    },
    "papermill": {
     "duration": 0.020379,
     "end_time": "2025-07-30T14:00:01.111676",
     "exception": false,
     "start_time": "2025-07-30T14:00:01.091297",
     "status": "completed"
    },
    "tags": []
   },
   "outputs": [
    {
     "data": {
      "text/plain": [
       "year\n",
       "2012    1667\n",
       "2013    1667\n",
       "2014    1666\n",
       "dtype: int64"
      ]
     },
     "metadata": {},
     "output_type": "display_data"
    }
   ],
   "source": [
    "display(siab_train.groupby(\"year\").size())"
   ]
  },
  {
   "cell_type": "code",
   "execution_count": 20,
   "id": "a561edb4-d032-42cb-8256-22eac1111c64",
   "metadata": {
    "execution": {
     "iopub.execute_input": "2025-07-30T14:00:01.135611Z",
     "iopub.status.busy": "2025-07-30T14:00:01.135030Z",
     "iopub.status.idle": "2025-07-30T14:00:01.346824Z",
     "shell.execute_reply": "2025-07-30T14:00:01.345782Z"
    },
    "papermill": {
     "duration": 0.225383,
     "end_time": "2025-07-30T14:00:01.348841",
     "exception": false,
     "start_time": "2025-07-30T14:00:01.123458",
     "status": "completed"
    },
    "tags": []
   },
   "outputs": [],
   "source": [
    "#siab_train = siab_s[siab_s.year < 2015]\n",
    "siab_calib = siab[siab.year == 2015]\n",
    "siab_test = siab[siab.year == 2016]"
   ]
  },
  {
   "cell_type": "code",
   "execution_count": 21,
   "id": "472de16f-c3db-4916-846b-1f0de9cf1746",
   "metadata": {
    "execution": {
     "iopub.execute_input": "2025-07-30T14:00:01.397351Z",
     "iopub.status.busy": "2025-07-30T14:00:01.396564Z",
     "iopub.status.idle": "2025-07-30T14:00:01.407038Z",
     "shell.execute_reply": "2025-07-30T14:00:01.404273Z"
    },
    "papermill": {
     "duration": 0.037554,
     "end_time": "2025-07-30T14:00:01.409209",
     "exception": false,
     "start_time": "2025-07-30T14:00:01.371655",
     "status": "completed"
    },
    "tags": []
   },
   "outputs": [],
   "source": [
    "X_train = siab_train.iloc[:,4:164]\n",
    "y_train = siab_train.iloc[:, [3]]"
   ]
  },
  {
   "cell_type": "code",
   "execution_count": 22,
   "id": "828c96af-f43a-4ed6-ba47-8ac73a47d56c",
   "metadata": {
    "execution": {
     "iopub.execute_input": "2025-07-30T14:00:01.457022Z",
     "iopub.status.busy": "2025-07-30T14:00:01.456202Z",
     "iopub.status.idle": "2025-07-30T14:00:01.511553Z",
     "shell.execute_reply": "2025-07-30T14:00:01.510422Z"
    },
    "papermill": {
     "duration": 0.081112,
     "end_time": "2025-07-30T14:00:01.514209",
     "exception": false,
     "start_time": "2025-07-30T14:00:01.433097",
     "status": "completed"
    },
    "tags": []
   },
   "outputs": [],
   "source": [
    "X_calib = siab_calib.iloc[:,4:164]\n",
    "y_calib = siab_calib.iloc[:, [3]]"
   ]
  },
  {
   "cell_type": "code",
   "execution_count": 23,
   "id": "c34be9c3-6bd6-476e-acd3-845840e303be",
   "metadata": {
    "execution": {
     "iopub.execute_input": "2025-07-30T14:00:01.568307Z",
     "iopub.status.busy": "2025-07-30T14:00:01.567624Z",
     "iopub.status.idle": "2025-07-30T14:00:01.619857Z",
     "shell.execute_reply": "2025-07-30T14:00:01.618857Z"
    },
    "papermill": {
     "duration": 0.080751,
     "end_time": "2025-07-30T14:00:01.621732",
     "exception": false,
     "start_time": "2025-07-30T14:00:01.540981",
     "status": "completed"
    },
    "tags": []
   },
   "outputs": [],
   "source": [
    "X_test = siab_test.iloc[:,4:164]\n",
    "y_true = siab_test.iloc[:, [3]]"
   ]
  },
  {
   "cell_type": "markdown",
   "id": "9901737e-04df-44f0-9100-f5ad144ed040",
   "metadata": {
    "papermill": {
     "duration": 0.020079,
     "end_time": "2025-07-30T14:00:01.663494",
     "exception": false,
     "start_time": "2025-07-30T14:00:01.643415",
     "status": "completed"
    },
    "tags": []
   },
   "source": [
    "# Splitting Data and Setting Training Data Size OLD VERSION"
   ]
  },
  {
   "cell_type": "code",
   "execution_count": 24,
   "id": "acbc8f7d-8fc8-4e86-8c59-5dcb0f58384b",
   "metadata": {
    "execution": {
     "iopub.execute_input": "2025-07-30T14:00:01.706584Z",
     "iopub.status.busy": "2025-07-30T14:00:01.705801Z",
     "iopub.status.idle": "2025-07-30T14:00:01.712016Z",
     "shell.execute_reply": "2025-07-30T14:00:01.710947Z"
    },
    "papermill": {
     "duration": 0.029424,
     "end_time": "2025-07-30T14:00:01.713941",
     "exception": false,
     "start_time": "2025-07-30T14:00:01.684517",
     "status": "completed"
    },
    "tags": []
   },
   "outputs": [],
   "source": [
    "#def sample_by_year(df, training_size, random_state=42):\n",
    "#    if training_size == \"2014\":\n",
    "#        return df[df[\"year\"] == 2014].reset_index(drop=True)\n",
    "#    \n",
    "#    size_map = {\n",
    "#        \"25k\": 5000,\n",
    "#        \"5k\": 1000,\n",
    "#        \"1k\": 200\n",
    "#    }\n",
    "#\n",
    "#    if training_size not in size_map:\n",
    "#        return df.reset_index(drop=True)  # use all data\n",
    "#\n",
    "#    n_per_year = size_map[training_size]\n",
    "#    grouped = df.groupby(\"year\")\n",
    "#    sampled = grouped.apply(lambda x: x.sample(n=min(n_per_year, len(x)), random_state=random_state))\n",
    "#    return sampled.reset_index(drop=True)"
   ]
  },
  {
   "cell_type": "code",
   "execution_count": 25,
   "id": "6d931f52-beaf-43ff-9e78-9d44a448d54e",
   "metadata": {
    "execution": {
     "iopub.execute_input": "2025-07-30T14:00:01.770065Z",
     "iopub.status.busy": "2025-07-30T14:00:01.769267Z",
     "iopub.status.idle": "2025-07-30T14:00:01.775132Z",
     "shell.execute_reply": "2025-07-30T14:00:01.773745Z"
    },
    "papermill": {
     "duration": 0.038651,
     "end_time": "2025-07-30T14:00:01.777461",
     "exception": false,
     "start_time": "2025-07-30T14:00:01.738810",
     "status": "completed"
    },
    "tags": []
   },
   "outputs": [],
   "source": [
    "#siab_s = sample_by_year(siab, universe[\"training_size\"])"
   ]
  },
  {
   "cell_type": "code",
   "execution_count": 26,
   "id": "5db0a40e-a4e2-4920-be85-b12ae061d70d",
   "metadata": {
    "execution": {
     "iopub.execute_input": "2025-07-30T14:00:01.826798Z",
     "iopub.status.busy": "2025-07-30T14:00:01.826337Z",
     "iopub.status.idle": "2025-07-30T14:00:01.831206Z",
     "shell.execute_reply": "2025-07-30T14:00:01.830291Z"
    },
    "papermill": {
     "duration": 0.027532,
     "end_time": "2025-07-30T14:00:01.832737",
     "exception": false,
     "start_time": "2025-07-30T14:00:01.805205",
     "status": "completed"
    },
    "tags": []
   },
   "outputs": [],
   "source": [
    "#display(siab_s.groupby(\"year\").size())"
   ]
  },
  {
   "cell_type": "code",
   "execution_count": 27,
   "id": "e6c733c5",
   "metadata": {
    "execution": {
     "iopub.execute_input": "2025-07-30T14:00:01.874668Z",
     "iopub.status.busy": "2025-07-30T14:00:01.874267Z",
     "iopub.status.idle": "2025-07-30T14:00:01.937079Z",
     "shell.execute_reply": "2025-07-30T14:00:01.936179Z"
    },
    "papermill": {
     "duration": 0.085521,
     "end_time": "2025-07-30T14:00:01.938987",
     "exception": false,
     "start_time": "2025-07-30T14:00:01.853466",
     "status": "completed"
    },
    "tags": []
   },
   "outputs": [],
   "source": [
    "# Auxiliary data needed downstream in the pipeline\n",
    "\n",
    "org_train = X_train.copy()\n",
    "org_test = X_test.copy()\n",
    "org_calib = X_calib.copy()"
   ]
  },
  {
   "cell_type": "code",
   "execution_count": 28,
   "id": "1466abac-c6da-4492-a62f-4240ae3783af",
   "metadata": {
    "execution": {
     "iopub.execute_input": "2025-07-30T14:00:01.984295Z",
     "iopub.status.busy": "2025-07-30T14:00:01.983448Z",
     "iopub.status.idle": "2025-07-30T14:00:01.989320Z",
     "shell.execute_reply": "2025-07-30T14:00:01.988349Z"
    },
    "papermill": {
     "duration": 0.029247,
     "end_time": "2025-07-30T14:00:01.990999",
     "exception": false,
     "start_time": "2025-07-30T14:00:01.961752",
     "status": "completed"
    },
    "tags": []
   },
   "outputs": [],
   "source": [
    "# put in other script?\n",
    "# Group sizes\n",
    "\n",
    "#def calculate_percentages(df, df_name):\n",
    "#    total_entries = len(df)\n",
    "#\n",
    "#    female_pct = (df['frau1'] == 1).mean() * 100\n",
    "#    non_german_pct = ((df['maxdeutsch1'] == 0) & (df['maxdeutsch.Missing.'] == 0)).mean() * 100\n",
    "#    non_german_male_pct = ((df['frau1'] == 0) & (df['maxdeutsch1'] == 0) & (df['maxdeutsch.Missing.'] == 0)).mean() * 100\n",
    "#    non_german_female_pct = ((df['frau1'] == 1) & (df['maxdeutsch1'] == 0) & (df['maxdeutsch.Missing.'] == 0)).mean() * 100\n",
    "#\n",
    "#    print(f\"--- {df_name} ---\")\n",
    "#    print(f\"Female: {female_pct:.2f}%\")\n",
    "#    print(f\"Non-German: {non_german_pct:.2f}%\")\n",
    "#    print(f\"Non-German Male: {non_german_male_pct:.2f}%\")\n",
    "#    print(f\"Non-German Female: {non_german_female_pct:.2f}%\\n\")\n",
    "#\n",
    "## Calculate for each DataFrame\n",
    "#calculate_percentages(siab_calib, \"siab_calib\")\n",
    "#calculate_percentages(siab_test, \"siab_test\")\n",
    "#calculate_percentages(siab_train, \"siab_train\")"
   ]
  },
  {
   "cell_type": "markdown",
   "id": "0a4a1b33",
   "metadata": {
    "papermill": {
     "duration": 0.020691,
     "end_time": "2025-07-30T14:00:02.034207",
     "exception": false,
     "start_time": "2025-07-30T14:00:02.013516",
     "status": "completed"
    },
    "tags": []
   },
   "source": [
    "# Preprocessing Data"
   ]
  },
  {
   "cell_type": "code",
   "execution_count": 29,
   "id": "ca879031",
   "metadata": {
    "execution": {
     "iopub.execute_input": "2025-07-30T14:00:02.076328Z",
     "iopub.status.busy": "2025-07-30T14:00:02.075707Z",
     "iopub.status.idle": "2025-07-30T14:00:02.081425Z",
     "shell.execute_reply": "2025-07-30T14:00:02.080517Z"
    },
    "papermill": {
     "duration": 0.028708,
     "end_time": "2025-07-30T14:00:02.082999",
     "exception": false,
     "start_time": "2025-07-30T14:00:02.054291",
     "status": "completed"
    },
    "tags": []
   },
   "outputs": [],
   "source": [
    "# EXCLUDE PROTECTED FEATURES\n",
    "# ----------------------\n",
    "# \"exclude_features\": \"none\", # \"nationality\", \"sex\", \"nationality-sex\"\n",
    "\n",
    "excluded_features = universe[\"exclude_features\"].split(\"-\") # split, e.g.: \"nationality-sex\" -> [\"nationality\", \"sex\"]\n",
    "excluded_features_dictionary = {\n",
    "    \"nationality\": [\"maxdeutsch1\", \"maxdeutsch.Missing.\"],\n",
    "    \"sex\": [\"frau1\"],\n",
    "    \"age\": [\"age\"],\n",
    "}\n"
   ]
  },
  {
   "cell_type": "code",
   "execution_count": 30,
   "id": "b745ac60",
   "metadata": {
    "execution": {
     "iopub.execute_input": "2025-07-30T14:00:02.127849Z",
     "iopub.status.busy": "2025-07-30T14:00:02.127530Z",
     "iopub.status.idle": "2025-07-30T14:00:02.132439Z",
     "shell.execute_reply": "2025-07-30T14:00:02.131464Z"
    },
    "papermill": {
     "duration": 0.02993,
     "end_time": "2025-07-30T14:00:02.134158",
     "exception": false,
     "start_time": "2025-07-30T14:00:02.104228",
     "status": "completed"
    },
    "tags": []
   },
   "outputs": [],
   "source": [
    "# Code nice names to column names\n",
    "\n",
    "excluded_features_columns = [\n",
    "    excluded_features_dictionary[f] for f in excluded_features if len(f) > 0 and f != \"none\"\n",
    "]"
   ]
  },
  {
   "cell_type": "code",
   "execution_count": 31,
   "id": "f84f73a2",
   "metadata": {
    "execution": {
     "iopub.execute_input": "2025-07-30T14:00:02.177614Z",
     "iopub.status.busy": "2025-07-30T14:00:02.176838Z",
     "iopub.status.idle": "2025-07-30T14:00:02.183312Z",
     "shell.execute_reply": "2025-07-30T14:00:02.182393Z"
    },
    "papermill": {
     "duration": 0.029113,
     "end_time": "2025-07-30T14:00:02.184919",
     "exception": false,
     "start_time": "2025-07-30T14:00:02.155806",
     "status": "completed"
    },
    "tags": []
   },
   "outputs": [],
   "source": [
    "from utils import flatten_once\n",
    "\n",
    "excluded_features_columns = flatten_once(excluded_features_columns)"
   ]
  },
  {
   "cell_type": "code",
   "execution_count": 32,
   "id": "884dea22",
   "metadata": {
    "execution": {
     "iopub.execute_input": "2025-07-30T14:00:02.228093Z",
     "iopub.status.busy": "2025-07-30T14:00:02.227349Z",
     "iopub.status.idle": "2025-07-30T14:00:02.236529Z",
     "shell.execute_reply": "2025-07-30T14:00:02.235482Z"
    },
    "papermill": {
     "duration": 0.032121,
     "end_time": "2025-07-30T14:00:02.238199",
     "exception": false,
     "start_time": "2025-07-30T14:00:02.206078",
     "status": "completed"
    },
    "tags": []
   },
   "outputs": [
    {
     "name": "stdout",
     "output_type": "stream",
     "text": [
      "Dropping features: ['maxdeutsch1', 'maxdeutsch.Missing.', 'frau1']\n"
     ]
    }
   ],
   "source": [
    "if len(excluded_features_columns) > 0:\n",
    "    print(f\"Dropping features: {excluded_features_columns}\")\n",
    "    X_train.drop(excluded_features_columns, axis=1, inplace=True)"
   ]
  },
  {
   "cell_type": "code",
   "execution_count": 33,
   "id": "95ab8b16",
   "metadata": {
    "execution": {
     "iopub.execute_input": "2025-07-30T14:00:02.281713Z",
     "iopub.status.busy": "2025-07-30T14:00:02.281065Z",
     "iopub.status.idle": "2025-07-30T14:00:02.330730Z",
     "shell.execute_reply": "2025-07-30T14:00:02.329752Z"
    },
    "papermill": {
     "duration": 0.072748,
     "end_time": "2025-07-30T14:00:02.332488",
     "exception": false,
     "start_time": "2025-07-30T14:00:02.259740",
     "status": "completed"
    },
    "tags": []
   },
   "outputs": [
    {
     "name": "stdout",
     "output_type": "stream",
     "text": [
      "Dropping features: ['maxdeutsch1', 'maxdeutsch.Missing.', 'frau1']\n"
     ]
    }
   ],
   "source": [
    "if len(excluded_features_columns) > 0:\n",
    "    print(f\"Dropping features: {excluded_features_columns}\")\n",
    "    X_test.drop(excluded_features_columns, axis=1, inplace=True)"
   ]
  },
  {
   "cell_type": "code",
   "execution_count": 34,
   "id": "1853aaf5-fb9f-46cb-a2b5-8ea4ae2237e4",
   "metadata": {
    "execution": {
     "iopub.execute_input": "2025-07-30T14:00:02.378870Z",
     "iopub.status.busy": "2025-07-30T14:00:02.378081Z",
     "iopub.status.idle": "2025-07-30T14:00:02.427547Z",
     "shell.execute_reply": "2025-07-30T14:00:02.426601Z"
    },
    "papermill": {
     "duration": 0.073301,
     "end_time": "2025-07-30T14:00:02.429598",
     "exception": false,
     "start_time": "2025-07-30T14:00:02.356297",
     "status": "completed"
    },
    "tags": []
   },
   "outputs": [
    {
     "name": "stdout",
     "output_type": "stream",
     "text": [
      "Dropping features: ['maxdeutsch1', 'maxdeutsch.Missing.', 'frau1']\n"
     ]
    }
   ],
   "source": [
    "if len(excluded_features_columns) > 0:\n",
    "    print(f\"Dropping features: {excluded_features_columns}\")\n",
    "    X_calib.drop(excluded_features_columns, axis=1, inplace=True)"
   ]
  },
  {
   "cell_type": "code",
   "execution_count": 35,
   "id": "6727d079-03e5-481e-9d38-292a90b7a0a8",
   "metadata": {
    "execution": {
     "iopub.execute_input": "2025-07-30T14:00:02.474460Z",
     "iopub.status.busy": "2025-07-30T14:00:02.473705Z",
     "iopub.status.idle": "2025-07-30T14:00:02.478696Z",
     "shell.execute_reply": "2025-07-30T14:00:02.477767Z"
    },
    "papermill": {
     "duration": 0.028173,
     "end_time": "2025-07-30T14:00:02.480319",
     "exception": false,
     "start_time": "2025-07-30T14:00:02.452146",
     "status": "completed"
    },
    "tags": []
   },
   "outputs": [],
   "source": [
    "# SPLIT & STRATIFY DATA\n",
    "# ----------------------"
   ]
  },
  {
   "cell_type": "code",
   "execution_count": 36,
   "id": "76c4dc6d",
   "metadata": {
    "execution": {
     "iopub.execute_input": "2025-07-30T14:00:02.524660Z",
     "iopub.status.busy": "2025-07-30T14:00:02.523909Z",
     "iopub.status.idle": "2025-07-30T14:00:02.529135Z",
     "shell.execute_reply": "2025-07-30T14:00:02.528131Z"
    },
    "papermill": {
     "duration": 0.028698,
     "end_time": "2025-07-30T14:00:02.531134",
     "exception": false,
     "start_time": "2025-07-30T14:00:02.502436",
     "status": "completed"
    },
    "tags": []
   },
   "outputs": [],
   "source": [
    "# EXCLUDE CERTAIN SUBGROUPS\n",
    "# ----------------------\n",
    "\n",
    "mode = universe.get(\"exclude_subgroups\", \"keep-all\") \n",
    "# Fetches the exclude_subgroups setting from the universe dict.\n",
    "# Defaults to \"keep-all\" if the key is missing."
   ]
  },
  {
   "cell_type": "code",
   "execution_count": 37,
   "id": "21994072",
   "metadata": {
    "execution": {
     "iopub.execute_input": "2025-07-30T14:00:02.585870Z",
     "iopub.status.busy": "2025-07-30T14:00:02.584882Z",
     "iopub.status.idle": "2025-07-30T14:00:02.592218Z",
     "shell.execute_reply": "2025-07-30T14:00:02.591045Z"
    },
    "papermill": {
     "duration": 0.035937,
     "end_time": "2025-07-30T14:00:02.594202",
     "exception": false,
     "start_time": "2025-07-30T14:00:02.558265",
     "status": "completed"
    },
    "tags": []
   },
   "outputs": [],
   "source": [
    "if mode == \"keep-all\":\n",
    "    keep_mask = pd.Series(True, index=org_train.index)\n",
    "\n",
    "# org_train contains the original feature columns from features_org (in Simson)\n",
    "# features_org contains unprocessed features, for me X_train at beginning ???\n",
    "# For keep-all, creates a boolean Series (keep_mask) of all True, so no rows are removed.\n",
    "\n",
    "elif mode == \"drop-non-german\":\n",
    "    keep_mask = org_train[\"maxdeutsch1\"] == 1 # ??? what about missing values?\n",
    "\n",
    "else:\n",
    "    raise ValueError(f\"Unsupported mode for exclude_subgroups: {mode}\")\n"
   ]
  },
  {
   "cell_type": "code",
   "execution_count": 38,
   "id": "71651440",
   "metadata": {
    "execution": {
     "iopub.execute_input": "2025-07-30T14:00:02.640269Z",
     "iopub.status.busy": "2025-07-30T14:00:02.639612Z",
     "iopub.status.idle": "2025-07-30T14:00:02.647479Z",
     "shell.execute_reply": "2025-07-30T14:00:02.646485Z"
    },
    "papermill": {
     "duration": 0.031863,
     "end_time": "2025-07-30T14:00:02.649189",
     "exception": false,
     "start_time": "2025-07-30T14:00:02.617326",
     "status": "completed"
    },
    "tags": []
   },
   "outputs": [
    {
     "name": "stdout",
     "output_type": "stream",
     "text": [
      "Dropping 665 rows (13.30%) where mode='drop-non-german'\n"
     ]
    }
   ],
   "source": [
    "n_drop = (~keep_mask).sum() # Calculates how many rows are set to be dropped\n",
    "if n_drop > 0:\n",
    "    pct = n_drop / len(keep_mask) * 100\n",
    "    print(f\"Dropping {n_drop} rows ({pct:.2f}%) where mode='{mode}'\")"
   ]
  },
  {
   "cell_type": "code",
   "execution_count": 39,
   "id": "5fb8eee5",
   "metadata": {
    "execution": {
     "iopub.execute_input": "2025-07-30T14:00:02.694107Z",
     "iopub.status.busy": "2025-07-30T14:00:02.693685Z",
     "iopub.status.idle": "2025-07-30T14:00:02.700417Z",
     "shell.execute_reply": "2025-07-30T14:00:02.699337Z"
    },
    "papermill": {
     "duration": 0.03051,
     "end_time": "2025-07-30T14:00:02.702166",
     "exception": false,
     "start_time": "2025-07-30T14:00:02.671656",
     "status": "completed"
    },
    "tags": []
   },
   "outputs": [],
   "source": [
    "X_train = X_train[keep_mask]"
   ]
  },
  {
   "cell_type": "code",
   "execution_count": 40,
   "id": "b202bb3a",
   "metadata": {
    "execution": {
     "iopub.execute_input": "2025-07-30T14:00:02.749207Z",
     "iopub.status.busy": "2025-07-30T14:00:02.748747Z",
     "iopub.status.idle": "2025-07-30T14:00:02.754829Z",
     "shell.execute_reply": "2025-07-30T14:00:02.753931Z"
    },
    "papermill": {
     "duration": 0.030863,
     "end_time": "2025-07-30T14:00:02.756464",
     "exception": false,
     "start_time": "2025-07-30T14:00:02.725601",
     "status": "completed"
    },
    "tags": []
   },
   "outputs": [],
   "source": [
    "y_train = y_train[keep_mask]"
   ]
  },
  {
   "cell_type": "markdown",
   "id": "493e2ac3",
   "metadata": {
    "papermill": {
     "duration": 0.023827,
     "end_time": "2025-07-30T14:00:02.803536",
     "exception": false,
     "start_time": "2025-07-30T14:00:02.779709",
     "status": "completed"
    },
    "tags": []
   },
   "source": [
    "# Model Training"
   ]
  },
  {
   "cell_type": "code",
   "execution_count": 41,
   "id": "679e1268",
   "metadata": {
    "execution": {
     "iopub.execute_input": "2025-07-30T14:00:02.851813Z",
     "iopub.status.busy": "2025-07-30T14:00:02.851310Z",
     "iopub.status.idle": "2025-07-30T14:00:02.966225Z",
     "shell.execute_reply": "2025-07-30T14:00:02.965182Z"
    },
    "papermill": {
     "duration": 0.140944,
     "end_time": "2025-07-30T14:00:02.967944",
     "exception": false,
     "start_time": "2025-07-30T14:00:02.827000",
     "status": "completed"
    },
    "tags": []
   },
   "outputs": [],
   "source": [
    "from sklearn.linear_model import LogisticRegression\n",
    "from sklearn.ensemble import GradientBoostingClassifier, RandomForestClassifier\n",
    "\n",
    "if (universe[\"model\"] == \"logreg\"):\n",
    "    model = LogisticRegression() #penalty=\"none\") #, solver=\"newton-cg\", max_iter=1) # include random_state=19 ?\n",
    "elif (universe[\"model\"] == \"penalized_logreg\"):\n",
    "    model = LogisticRegression(penalty=\"l2\", C=1.0) #, solver=\"newton-cg\", max_iter=1)\n",
    "elif (universe[\"model\"] == \"rf\"):\n",
    "    model = RandomForestClassifier(n_estimators=100, n_jobs=-1)\n",
    "elif (universe[\"model\"] == \"gbm\"):\n",
    "    model = GradientBoostingClassifier()\n",
    "elif (universe[\"model\"] == \"elasticnet\"):\n",
    "    model = LogisticRegression(penalty = 'elasticnet', solver = 'saga', l1_ratio = 0.5, max_iter=5000) # which solver to use?\n",
    "else:\n",
    "    raise \"Unsupported universe.model\""
   ]
  },
  {
   "cell_type": "code",
   "execution_count": 42,
   "id": "0cc8f744",
   "metadata": {
    "execution": {
     "iopub.execute_input": "2025-07-30T14:00:03.017289Z",
     "iopub.status.busy": "2025-07-30T14:00:03.016797Z",
     "iopub.status.idle": "2025-07-30T14:00:03.023664Z",
     "shell.execute_reply": "2025-07-30T14:00:03.022763Z"
    },
    "papermill": {
     "duration": 0.035368,
     "end_time": "2025-07-30T14:00:03.025456",
     "exception": false,
     "start_time": "2025-07-30T14:00:02.990088",
     "status": "completed"
    },
    "tags": []
   },
   "outputs": [],
   "source": [
    "import numpy as np\n",
    "from sklearn.pipeline import Pipeline\n",
    "from sklearn.preprocessing import StandardScaler\n",
    "\n",
    "model = Pipeline([\n",
    "    #(\"continuous_processor\", continuous_processor),\n",
    "    #(\"categorical_preprocessor\", categorical_preprocessor),\n",
    "    (\"scale\", StandardScaler() if universe[\"scale\"] == \"scale\" else None), \n",
    "    (\"model\", model),\n",
    "])"
   ]
  },
  {
   "cell_type": "code",
   "execution_count": 43,
   "id": "9442c04d",
   "metadata": {
    "execution": {
     "iopub.execute_input": "2025-07-30T14:00:03.069017Z",
     "iopub.status.busy": "2025-07-30T14:00:03.068619Z",
     "iopub.status.idle": "2025-07-30T14:00:03.189426Z",
     "shell.execute_reply": "2025-07-30T14:00:03.188417Z"
    },
    "papermill": {
     "duration": 0.147303,
     "end_time": "2025-07-30T14:00:03.190928",
     "exception": false,
     "start_time": "2025-07-30T14:00:03.043625",
     "status": "completed"
    },
    "tags": []
   },
   "outputs": [
    {
     "name": "stderr",
     "output_type": "stream",
     "text": [
      "/dss/dsshome1/0C/ra93lal2/.local/share/virtualenvs/CMA_Fairness_v2-3j10GkSs/lib/python3.10/site-packages/sklearn/linear_model/_logistic.py:444: ConvergenceWarning: lbfgs failed to converge (status=1):\n",
      "STOP: TOTAL NO. of ITERATIONS REACHED LIMIT.\n",
      "\n",
      "Increase the number of iterations (max_iter) or scale the data as shown in:\n",
      "    https://scikit-learn.org/stable/modules/preprocessing.html\n",
      "Please also refer to the documentation for alternative solver options:\n",
      "    https://scikit-learn.org/stable/modules/linear_model.html#logistic-regression\n",
      "  n_iter_i = _check_optimize_result(\n"
     ]
    },
    {
     "data": {
      "text/html": [
       "<style>#sk-container-id-1 {color: black;background-color: white;}#sk-container-id-1 pre{padding: 0;}#sk-container-id-1 div.sk-toggleable {background-color: white;}#sk-container-id-1 label.sk-toggleable__label {cursor: pointer;display: block;width: 100%;margin-bottom: 0;padding: 0.3em;box-sizing: border-box;text-align: center;}#sk-container-id-1 label.sk-toggleable__label-arrow:before {content: \"▸\";float: left;margin-right: 0.25em;color: #696969;}#sk-container-id-1 label.sk-toggleable__label-arrow:hover:before {color: black;}#sk-container-id-1 div.sk-estimator:hover label.sk-toggleable__label-arrow:before {color: black;}#sk-container-id-1 div.sk-toggleable__content {max-height: 0;max-width: 0;overflow: hidden;text-align: left;background-color: #f0f8ff;}#sk-container-id-1 div.sk-toggleable__content pre {margin: 0.2em;color: black;border-radius: 0.25em;background-color: #f0f8ff;}#sk-container-id-1 input.sk-toggleable__control:checked~div.sk-toggleable__content {max-height: 200px;max-width: 100%;overflow: auto;}#sk-container-id-1 input.sk-toggleable__control:checked~label.sk-toggleable__label-arrow:before {content: \"▾\";}#sk-container-id-1 div.sk-estimator input.sk-toggleable__control:checked~label.sk-toggleable__label {background-color: #d4ebff;}#sk-container-id-1 div.sk-label input.sk-toggleable__control:checked~label.sk-toggleable__label {background-color: #d4ebff;}#sk-container-id-1 input.sk-hidden--visually {border: 0;clip: rect(1px 1px 1px 1px);clip: rect(1px, 1px, 1px, 1px);height: 1px;margin: -1px;overflow: hidden;padding: 0;position: absolute;width: 1px;}#sk-container-id-1 div.sk-estimator {font-family: monospace;background-color: #f0f8ff;border: 1px dotted black;border-radius: 0.25em;box-sizing: border-box;margin-bottom: 0.5em;}#sk-container-id-1 div.sk-estimator:hover {background-color: #d4ebff;}#sk-container-id-1 div.sk-parallel-item::after {content: \"\";width: 100%;border-bottom: 1px solid gray;flex-grow: 1;}#sk-container-id-1 div.sk-label:hover label.sk-toggleable__label {background-color: #d4ebff;}#sk-container-id-1 div.sk-serial::before {content: \"\";position: absolute;border-left: 1px solid gray;box-sizing: border-box;top: 0;bottom: 0;left: 50%;z-index: 0;}#sk-container-id-1 div.sk-serial {display: flex;flex-direction: column;align-items: center;background-color: white;padding-right: 0.2em;padding-left: 0.2em;position: relative;}#sk-container-id-1 div.sk-item {position: relative;z-index: 1;}#sk-container-id-1 div.sk-parallel {display: flex;align-items: stretch;justify-content: center;background-color: white;position: relative;}#sk-container-id-1 div.sk-item::before, #sk-container-id-1 div.sk-parallel-item::before {content: \"\";position: absolute;border-left: 1px solid gray;box-sizing: border-box;top: 0;bottom: 0;left: 50%;z-index: -1;}#sk-container-id-1 div.sk-parallel-item {display: flex;flex-direction: column;z-index: 1;position: relative;background-color: white;}#sk-container-id-1 div.sk-parallel-item:first-child::after {align-self: flex-end;width: 50%;}#sk-container-id-1 div.sk-parallel-item:last-child::after {align-self: flex-start;width: 50%;}#sk-container-id-1 div.sk-parallel-item:only-child::after {width: 0;}#sk-container-id-1 div.sk-dashed-wrapped {border: 1px dashed gray;margin: 0 0.4em 0.5em 0.4em;box-sizing: border-box;padding-bottom: 0.4em;background-color: white;}#sk-container-id-1 div.sk-label label {font-family: monospace;font-weight: bold;display: inline-block;line-height: 1.2em;}#sk-container-id-1 div.sk-label-container {text-align: center;}#sk-container-id-1 div.sk-container {/* jupyter's `normalize.less` sets `[hidden] { display: none; }` but bootstrap.min.css set `[hidden] { display: none !important; }` so we also need the `!important` here to be able to override the default hidden behavior on the sphinx rendered scikit-learn.org. See: https://github.com/scikit-learn/scikit-learn/issues/21755 */display: inline-block !important;position: relative;}#sk-container-id-1 div.sk-text-repr-fallback {display: none;}</style><div id=\"sk-container-id-1\" class=\"sk-top-container\"><div class=\"sk-text-repr-fallback\"><pre>Pipeline(steps=[(&#x27;scale&#x27;, None), (&#x27;model&#x27;, LogisticRegression())])</pre><b>In a Jupyter environment, please rerun this cell to show the HTML representation or trust the notebook. <br />On GitHub, the HTML representation is unable to render, please try loading this page with nbviewer.org.</b></div><div class=\"sk-container\" hidden><div class=\"sk-item sk-dashed-wrapped\"><div class=\"sk-label-container\"><div class=\"sk-label sk-toggleable\"><input class=\"sk-toggleable__control sk-hidden--visually\" id=\"sk-estimator-id-1\" type=\"checkbox\" ><label for=\"sk-estimator-id-1\" class=\"sk-toggleable__label sk-toggleable__label-arrow\">Pipeline</label><div class=\"sk-toggleable__content\"><pre>Pipeline(steps=[(&#x27;scale&#x27;, None), (&#x27;model&#x27;, LogisticRegression())])</pre></div></div></div><div class=\"sk-serial\"><div class=\"sk-item\"><div class=\"sk-estimator sk-toggleable\"><input class=\"sk-toggleable__control sk-hidden--visually\" id=\"sk-estimator-id-2\" type=\"checkbox\" ><label for=\"sk-estimator-id-2\" class=\"sk-toggleable__label sk-toggleable__label-arrow\">None</label><div class=\"sk-toggleable__content\"><pre>None</pre></div></div></div><div class=\"sk-item\"><div class=\"sk-estimator sk-toggleable\"><input class=\"sk-toggleable__control sk-hidden--visually\" id=\"sk-estimator-id-3\" type=\"checkbox\" ><label for=\"sk-estimator-id-3\" class=\"sk-toggleable__label sk-toggleable__label-arrow\">LogisticRegression</label><div class=\"sk-toggleable__content\"><pre>LogisticRegression()</pre></div></div></div></div></div></div></div>"
      ],
      "text/plain": [
       "Pipeline(steps=[('scale', None), ('model', LogisticRegression())])"
      ]
     },
     "execution_count": 43,
     "metadata": {},
     "output_type": "execute_result"
    }
   ],
   "source": [
    "model.fit(X_train, y_train.values.ravel())"
   ]
  },
  {
   "cell_type": "code",
   "execution_count": 44,
   "id": "af59f8c0",
   "metadata": {
    "execution": {
     "iopub.execute_input": "2025-07-30T14:00:03.223086Z",
     "iopub.status.busy": "2025-07-30T14:00:03.222705Z",
     "iopub.status.idle": "2025-07-30T14:00:03.227856Z",
     "shell.execute_reply": "2025-07-30T14:00:03.227082Z"
    },
    "papermill": {
     "duration": 0.020412,
     "end_time": "2025-07-30T14:00:03.229253",
     "exception": false,
     "start_time": "2025-07-30T14:00:03.208841",
     "status": "completed"
    },
    "tags": []
   },
   "outputs": [],
   "source": [
    "from fairness_multiverse.universe import predict_w_threshold"
   ]
  },
  {
   "cell_type": "code",
   "execution_count": 45,
   "id": "a7cf2e16",
   "metadata": {
    "execution": {
     "iopub.execute_input": "2025-07-30T14:00:03.266653Z",
     "iopub.status.busy": "2025-07-30T14:00:03.265831Z",
     "iopub.status.idle": "2025-07-30T14:00:03.365973Z",
     "shell.execute_reply": "2025-07-30T14:00:03.365083Z"
    },
    "papermill": {
     "duration": 0.124629,
     "end_time": "2025-07-30T14:00:03.367394",
     "exception": false,
     "start_time": "2025-07-30T14:00:03.242765",
     "status": "completed"
    },
    "tags": []
   },
   "outputs": [
    {
     "data": {
      "text/plain": [
       "0.8608181919518448"
      ]
     },
     "execution_count": 45,
     "metadata": {},
     "output_type": "execute_result"
    }
   ],
   "source": [
    "probs_test = model.predict_proba(X_test)\n",
    "\n",
    "'''\n",
    "Below code returns a boolean array (or binary 0/1 array depending on how it’s used) where each element \n",
    "is True if the probability of class 1 is greater than or equal to the threshold, and False otherwise.\n",
    "'''\n",
    "y_pred_default = predict_w_threshold(probs_test, 0.5)\n",
    "\n",
    "from sklearn.metrics import accuracy_score\n",
    "\n",
    "# Naive prediction\n",
    "accuracy_score(y_true = y_true, y_pred = y_pred_default)"
   ]
  },
  {
   "cell_type": "code",
   "execution_count": 46,
   "id": "081964c3",
   "metadata": {
    "execution": {
     "iopub.execute_input": "2025-07-30T14:00:03.421673Z",
     "iopub.status.busy": "2025-07-30T14:00:03.421211Z",
     "iopub.status.idle": "2025-07-30T14:00:03.507804Z",
     "shell.execute_reply": "2025-07-30T14:00:03.506749Z"
    },
    "papermill": {
     "duration": 0.116572,
     "end_time": "2025-07-30T14:00:03.509985",
     "exception": false,
     "start_time": "2025-07-30T14:00:03.393413",
     "status": "completed"
    },
    "tags": []
   },
   "outputs": [
    {
     "data": {
      "text/plain": [
       "array([0, 0, 0, ..., 0, 0, 0])"
      ]
     },
     "execution_count": 46,
     "metadata": {},
     "output_type": "execute_result"
    }
   ],
   "source": [
    "model.predict(X_test)"
   ]
  },
  {
   "cell_type": "markdown",
   "id": "56c9705b",
   "metadata": {
    "papermill": {
     "duration": 0.01586,
     "end_time": "2025-07-30T14:00:03.555182",
     "exception": false,
     "start_time": "2025-07-30T14:00:03.539322",
     "status": "completed"
    },
    "tags": []
   },
   "source": [
    "# Conformal Prediction"
   ]
  },
  {
   "cell_type": "code",
   "execution_count": 47,
   "id": "160ec6ff",
   "metadata": {
    "execution": {
     "iopub.execute_input": "2025-07-30T14:00:03.583431Z",
     "iopub.status.busy": "2025-07-30T14:00:03.583013Z",
     "iopub.status.idle": "2025-07-30T14:00:03.588569Z",
     "shell.execute_reply": "2025-07-30T14:00:03.587615Z"
    },
    "papermill": {
     "duration": 0.020925,
     "end_time": "2025-07-30T14:00:03.590459",
     "exception": false,
     "start_time": "2025-07-30T14:00:03.569534",
     "status": "completed"
    },
    "tags": []
   },
   "outputs": [],
   "source": [
    "# Miscoverage level for conformal prediction (10% allowed error rate => 90% target coverage)\n",
    "alpha = 0.1"
   ]
  },
  {
   "cell_type": "code",
   "execution_count": 48,
   "id": "eadf4555-3dd3-440e-8e35-f82a4ad9f855",
   "metadata": {
    "execution": {
     "iopub.execute_input": "2025-07-30T14:00:03.642316Z",
     "iopub.status.busy": "2025-07-30T14:00:03.641382Z",
     "iopub.status.idle": "2025-07-30T14:00:03.727381Z",
     "shell.execute_reply": "2025-07-30T14:00:03.726401Z"
    },
    "papermill": {
     "duration": 0.112693,
     "end_time": "2025-07-30T14:00:03.729314",
     "exception": false,
     "start_time": "2025-07-30T14:00:03.616621",
     "status": "completed"
    },
    "tags": []
   },
   "outputs": [],
   "source": [
    "probs_calib = model.predict_proba(X_calib)"
   ]
  },
  {
   "cell_type": "code",
   "execution_count": 49,
   "id": "2ed93547-6d5d-4983-9b36-1ecb300da49a",
   "metadata": {
    "execution": {
     "iopub.execute_input": "2025-07-30T14:00:03.782158Z",
     "iopub.status.busy": "2025-07-30T14:00:03.781484Z",
     "iopub.status.idle": "2025-07-30T14:00:03.787688Z",
     "shell.execute_reply": "2025-07-30T14:00:03.786714Z"
    },
    "papermill": {
     "duration": 0.034615,
     "end_time": "2025-07-30T14:00:03.789500",
     "exception": false,
     "start_time": "2025-07-30T14:00:03.754885",
     "status": "completed"
    },
    "tags": []
   },
   "outputs": [],
   "source": [
    "y_calib = y_calib.values.ravel().astype(int)"
   ]
  },
  {
   "cell_type": "code",
   "execution_count": 50,
   "id": "65d1320d-f588-4b38-9072-62af1ae97f7d",
   "metadata": {
    "execution": {
     "iopub.execute_input": "2025-07-30T14:00:03.843952Z",
     "iopub.status.busy": "2025-07-30T14:00:03.843098Z",
     "iopub.status.idle": "2025-07-30T14:00:03.851380Z",
     "shell.execute_reply": "2025-07-30T14:00:03.850494Z"
    },
    "papermill": {
     "duration": 0.037487,
     "end_time": "2025-07-30T14:00:03.853212",
     "exception": false,
     "start_time": "2025-07-30T14:00:03.815725",
     "status": "completed"
    },
    "tags": []
   },
   "outputs": [],
   "source": [
    "from fairness_multiverse.conformal import compute_nc_scores\n",
    "\n",
    "# Compute nonconformity scores on calibration set (1 - probability of true class)\n",
    "nc_scores = compute_nc_scores(probs_calib, y_calib)"
   ]
  },
  {
   "cell_type": "code",
   "execution_count": 51,
   "id": "df3b8ca3-53b7-43d5-9667-7c85da7aeda2",
   "metadata": {
    "execution": {
     "iopub.execute_input": "2025-07-30T14:00:03.906089Z",
     "iopub.status.busy": "2025-07-30T14:00:03.905425Z",
     "iopub.status.idle": "2025-07-30T14:00:03.912195Z",
     "shell.execute_reply": "2025-07-30T14:00:03.911242Z"
    },
    "papermill": {
     "duration": 0.034281,
     "end_time": "2025-07-30T14:00:03.913908",
     "exception": false,
     "start_time": "2025-07-30T14:00:03.879627",
     "status": "completed"
    },
    "tags": []
   },
   "outputs": [],
   "source": [
    "from fairness_multiverse.conformal import find_threshold\n",
    "\n",
    "# Find conformal threshold q_hat for the given alpha (split conformal method)\n",
    "q_hat = find_threshold(nc_scores, alpha)"
   ]
  },
  {
   "cell_type": "code",
   "execution_count": 52,
   "id": "4d29e6c1-0ef6-4aa4-b8fe-4fe79b0d033a",
   "metadata": {
    "execution": {
     "iopub.execute_input": "2025-07-30T14:00:03.967903Z",
     "iopub.status.busy": "2025-07-30T14:00:03.967094Z",
     "iopub.status.idle": "2025-07-30T14:00:03.974985Z",
     "shell.execute_reply": "2025-07-30T14:00:03.973909Z"
    },
    "papermill": {
     "duration": 0.036488,
     "end_time": "2025-07-30T14:00:03.976653",
     "exception": false,
     "start_time": "2025-07-30T14:00:03.940165",
     "status": "completed"
    },
    "tags": []
   },
   "outputs": [
    {
     "data": {
      "text/plain": [
       "0.6726696207427266"
      ]
     },
     "execution_count": 52,
     "metadata": {},
     "output_type": "execute_result"
    }
   ],
   "source": [
    "q_hat"
   ]
  },
  {
   "cell_type": "code",
   "execution_count": 53,
   "id": "92460794-cdac-4be2-ba28-f28c0515a6fb",
   "metadata": {
    "execution": {
     "iopub.execute_input": "2025-07-30T14:00:04.029474Z",
     "iopub.status.busy": "2025-07-30T14:00:04.029118Z",
     "iopub.status.idle": "2025-07-30T14:00:04.747289Z",
     "shell.execute_reply": "2025-07-30T14:00:04.746442Z"
    },
    "papermill": {
     "duration": 0.746061,
     "end_time": "2025-07-30T14:00:04.749188",
     "exception": false,
     "start_time": "2025-07-30T14:00:04.003127",
     "status": "completed"
    },
    "tags": []
   },
   "outputs": [],
   "source": [
    "from fairness_multiverse.conformal import predict_conformal_sets\n",
    "\n",
    "# Generate prediction sets for each test example\n",
    "pred_sets = predict_conformal_sets(model, X_test, q_hat)"
   ]
  },
  {
   "cell_type": "code",
   "execution_count": 54,
   "id": "d90c9a65-e6db-4f5d-80cd-e68fb7e46829",
   "metadata": {
    "execution": {
     "iopub.execute_input": "2025-07-30T14:00:04.799745Z",
     "iopub.status.busy": "2025-07-30T14:00:04.799388Z",
     "iopub.status.idle": "2025-07-30T14:00:04.804019Z",
     "shell.execute_reply": "2025-07-30T14:00:04.803310Z"
    },
    "papermill": {
     "duration": 0.030491,
     "end_time": "2025-07-30T14:00:04.805316",
     "exception": false,
     "start_time": "2025-07-30T14:00:04.774825",
     "status": "completed"
    },
    "tags": []
   },
   "outputs": [],
   "source": [
    "y_true = y_true.squeeze()"
   ]
  },
  {
   "cell_type": "code",
   "execution_count": 55,
   "id": "3a58a54a-1e68-46b9-927a-df01f18aebc8",
   "metadata": {
    "execution": {
     "iopub.execute_input": "2025-07-30T14:00:04.849394Z",
     "iopub.status.busy": "2025-07-30T14:00:04.848885Z",
     "iopub.status.idle": "2025-07-30T14:00:05.787001Z",
     "shell.execute_reply": "2025-07-30T14:00:05.786011Z"
    },
    "papermill": {
     "duration": 0.967924,
     "end_time": "2025-07-30T14:00:05.788845",
     "exception": false,
     "start_time": "2025-07-30T14:00:04.820921",
     "status": "completed"
    },
    "tags": []
   },
   "outputs": [],
   "source": [
    "from fairness_multiverse.conformal import evaluate_sets\n",
    "\n",
    "# Evaluate coverage and average set size on test data\n",
    "metrics = evaluate_sets(pred_sets, y_true)"
   ]
  },
  {
   "cell_type": "markdown",
   "id": "2b569c12-9aaa-4c88-98c9-bbcd0cf3ebb8",
   "metadata": {
    "papermill": {
     "duration": 0.022791,
     "end_time": "2025-07-30T14:00:05.835362",
     "exception": false,
     "start_time": "2025-07-30T14:00:05.812571",
     "status": "completed"
    },
    "tags": []
   },
   "source": [
    "# CP Metrics"
   ]
  },
  {
   "cell_type": "code",
   "execution_count": 56,
   "id": "5ce0a5cb-201f-45a0-ade5-94c7f0bd6095",
   "metadata": {
    "execution": {
     "iopub.execute_input": "2025-07-30T14:00:05.884247Z",
     "iopub.status.busy": "2025-07-30T14:00:05.883445Z",
     "iopub.status.idle": "2025-07-30T14:00:05.890247Z",
     "shell.execute_reply": "2025-07-30T14:00:05.889392Z"
    },
    "papermill": {
     "duration": 0.033187,
     "end_time": "2025-07-30T14:00:05.891597",
     "exception": false,
     "start_time": "2025-07-30T14:00:05.858410",
     "status": "completed"
    },
    "tags": []
   },
   "outputs": [
    {
     "data": {
      "text/plain": [
       "{'coverage': 0.9120945268086055, 'avg_size': 1.2180358934343998}"
      ]
     },
     "execution_count": 56,
     "metadata": {},
     "output_type": "execute_result"
    }
   ],
   "source": [
    "metrics"
   ]
  },
  {
   "cell_type": "code",
   "execution_count": 57,
   "id": "9b9a838d-31c9-430b-ae14-12baee460d17",
   "metadata": {
    "execution": {
     "iopub.execute_input": "2025-07-30T14:00:05.919333Z",
     "iopub.status.busy": "2025-07-30T14:00:05.918952Z",
     "iopub.status.idle": "2025-07-30T14:00:05.924928Z",
     "shell.execute_reply": "2025-07-30T14:00:05.924025Z"
    },
    "papermill": {
     "duration": 0.021192,
     "end_time": "2025-07-30T14:00:05.926628",
     "exception": false,
     "start_time": "2025-07-30T14:00:05.905436",
     "status": "completed"
    },
    "tags": []
   },
   "outputs": [],
   "source": [
    "example_universe = universe.copy()\n",
    "universe_training_size = example_universe.get(\"training_size\")\n",
    "universe_scale = example_universe.get(\"scale\")\n",
    "universe_model = example_universe.get(\"model\")\n",
    "universe_exclude_features = example_universe.get(\"exclude_features\")\n",
    "universe_exclude_subgroups = example_universe.get(\"exclude_subgroups\")"
   ]
  },
  {
   "cell_type": "code",
   "execution_count": 58,
   "id": "f4b6a8ac-9dc0-4245-8a91-5b3b5999c4f9",
   "metadata": {
    "execution": {
     "iopub.execute_input": "2025-07-30T14:00:05.980487Z",
     "iopub.status.busy": "2025-07-30T14:00:05.980060Z",
     "iopub.status.idle": "2025-07-30T14:00:05.986437Z",
     "shell.execute_reply": "2025-07-30T14:00:05.985441Z"
    },
    "papermill": {
     "duration": 0.034679,
     "end_time": "2025-07-30T14:00:05.988293",
     "exception": false,
     "start_time": "2025-07-30T14:00:05.953614",
     "status": "completed"
    },
    "tags": []
   },
   "outputs": [],
   "source": [
    "cp_metrics_dict = {\n",
    "    \"universe_id\": [universe_id],\n",
    "    \"universe_training_size\": [universe_training_size],\n",
    "    \"universe_scale\": [universe_scale],\n",
    "    \"universe_model\": [universe_model],\n",
    "    \"universe_exclude_features\": [universe_exclude_features],\n",
    "    \"universe_exclude_subgroups\": [universe_exclude_subgroups],\n",
    "    \"q_hat\": [q_hat],\n",
    "    \"coverage\": [metrics[\"coverage\"]],\n",
    "    \"avg_size\": [metrics[\"avg_size\"]],\n",
    "}"
   ]
  },
  {
   "cell_type": "code",
   "execution_count": 59,
   "id": "908acbb1-0371-4915-85ca-3fa520d2efe2",
   "metadata": {
    "execution": {
     "iopub.execute_input": "2025-07-30T14:00:06.017152Z",
     "iopub.status.busy": "2025-07-30T14:00:06.016751Z",
     "iopub.status.idle": "2025-07-30T14:00:06.022601Z",
     "shell.execute_reply": "2025-07-30T14:00:06.021786Z"
    },
    "papermill": {
     "duration": 0.02207,
     "end_time": "2025-07-30T14:00:06.023986",
     "exception": false,
     "start_time": "2025-07-30T14:00:06.001916",
     "status": "completed"
    },
    "tags": []
   },
   "outputs": [
    {
     "data": {
      "text/plain": [
       "{'universe_id': ['95d22fc05c82b1614dd6c274860b050d'],\n",
       " 'universe_training_size': ['5k'],\n",
       " 'universe_scale': ['do-not-scale'],\n",
       " 'universe_model': ['logreg'],\n",
       " 'universe_exclude_features': ['nationality-sex'],\n",
       " 'universe_exclude_subgroups': ['drop-non-german'],\n",
       " 'q_hat': [0.6726696207427266],\n",
       " 'coverage': [0.9120945268086055],\n",
       " 'avg_size': [1.2180358934343998]}"
      ]
     },
     "execution_count": 59,
     "metadata": {},
     "output_type": "execute_result"
    }
   ],
   "source": [
    "cp_metrics_dict"
   ]
  },
  {
   "cell_type": "code",
   "execution_count": 60,
   "id": "33007efc-14e9-4ec6-97ac-56a455c82265",
   "metadata": {
    "execution": {
     "iopub.execute_input": "2025-07-30T14:00:06.051910Z",
     "iopub.status.busy": "2025-07-30T14:00:06.051519Z",
     "iopub.status.idle": "2025-07-30T14:00:06.056354Z",
     "shell.execute_reply": "2025-07-30T14:00:06.055581Z"
    },
    "papermill": {
     "duration": 0.01965,
     "end_time": "2025-07-30T14:00:06.057629",
     "exception": false,
     "start_time": "2025-07-30T14:00:06.037979",
     "status": "completed"
    },
    "tags": []
   },
   "outputs": [],
   "source": [
    "cp_metrics_df = pd.DataFrame(cp_metrics_dict)"
   ]
  },
  {
   "cell_type": "code",
   "execution_count": 61,
   "id": "db12611b-57b2-4910-b9d0-355adfd6e7bf",
   "metadata": {
    "execution": {
     "iopub.execute_input": "2025-07-30T14:00:06.090078Z",
     "iopub.status.busy": "2025-07-30T14:00:06.089672Z",
     "iopub.status.idle": "2025-07-30T14:00:06.113357Z",
     "shell.execute_reply": "2025-07-30T14:00:06.112440Z"
    },
    "papermill": {
     "duration": 0.041455,
     "end_time": "2025-07-30T14:00:06.115002",
     "exception": false,
     "start_time": "2025-07-30T14:00:06.073547",
     "status": "completed"
    },
    "tags": []
   },
   "outputs": [
    {
     "data": {
      "text/html": [
       "<div>\n",
       "<style scoped>\n",
       "    .dataframe tbody tr th:only-of-type {\n",
       "        vertical-align: middle;\n",
       "    }\n",
       "\n",
       "    .dataframe tbody tr th {\n",
       "        vertical-align: top;\n",
       "    }\n",
       "\n",
       "    .dataframe thead th {\n",
       "        text-align: right;\n",
       "    }\n",
       "</style>\n",
       "<table border=\"1\" class=\"dataframe\">\n",
       "  <thead>\n",
       "    <tr style=\"text-align: right;\">\n",
       "      <th></th>\n",
       "      <th>universe_id</th>\n",
       "      <th>universe_training_size</th>\n",
       "      <th>universe_scale</th>\n",
       "      <th>universe_model</th>\n",
       "      <th>universe_exclude_features</th>\n",
       "      <th>universe_exclude_subgroups</th>\n",
       "      <th>q_hat</th>\n",
       "      <th>coverage</th>\n",
       "      <th>avg_size</th>\n",
       "    </tr>\n",
       "  </thead>\n",
       "  <tbody>\n",
       "    <tr>\n",
       "      <th>0</th>\n",
       "      <td>95d22fc05c82b1614dd6c274860b050d</td>\n",
       "      <td>5k</td>\n",
       "      <td>do-not-scale</td>\n",
       "      <td>logreg</td>\n",
       "      <td>nationality-sex</td>\n",
       "      <td>drop-non-german</td>\n",
       "      <td>0.67267</td>\n",
       "      <td>0.912095</td>\n",
       "      <td>1.218036</td>\n",
       "    </tr>\n",
       "  </tbody>\n",
       "</table>\n",
       "</div>"
      ],
      "text/plain": [
       "                        universe_id universe_training_size universe_scale  \\\n",
       "0  95d22fc05c82b1614dd6c274860b050d                     5k   do-not-scale   \n",
       "\n",
       "  universe_model universe_exclude_features universe_exclude_subgroups  \\\n",
       "0         logreg           nationality-sex            drop-non-german   \n",
       "\n",
       "     q_hat  coverage  avg_size  \n",
       "0  0.67267  0.912095  1.218036  "
      ]
     },
     "execution_count": 61,
     "metadata": {},
     "output_type": "execute_result"
    }
   ],
   "source": [
    "cp_metrics_df"
   ]
  },
  {
   "cell_type": "code",
   "execution_count": 62,
   "id": "b7fbde55-a0a1-47e4-9af6-fe4a17fa8c61",
   "metadata": {
    "execution": {
     "iopub.execute_input": "2025-07-30T14:00:06.170540Z",
     "iopub.status.busy": "2025-07-30T14:00:06.169902Z",
     "iopub.status.idle": "2025-07-30T14:00:06.175217Z",
     "shell.execute_reply": "2025-07-30T14:00:06.174318Z"
    },
    "papermill": {
     "duration": 0.034199,
     "end_time": "2025-07-30T14:00:06.177006",
     "exception": false,
     "start_time": "2025-07-30T14:00:06.142807",
     "status": "completed"
    },
    "tags": []
   },
   "outputs": [],
   "source": [
    "# Conditional Coverage & looking at subgroups"
   ]
  },
  {
   "cell_type": "code",
   "execution_count": 63,
   "id": "027ae886-68dd-4141-96c7-805a5450e1ef",
   "metadata": {
    "execution": {
     "iopub.execute_input": "2025-07-30T14:00:06.228979Z",
     "iopub.status.busy": "2025-07-30T14:00:06.228570Z",
     "iopub.status.idle": "2025-07-30T14:00:06.475918Z",
     "shell.execute_reply": "2025-07-30T14:00:06.475145Z"
    },
    "papermill": {
     "duration": 0.275041,
     "end_time": "2025-07-30T14:00:06.477842",
     "exception": false,
     "start_time": "2025-07-30T14:00:06.202801",
     "status": "completed"
    },
    "tags": []
   },
   "outputs": [],
   "source": [
    "from fairness_multiverse.conformal import build_cp_groups\n",
    "\n",
    "cp_groups_df = build_cp_groups(pred_sets, y_true, X_test.index, org_test)\n",
    "#needs universe_id and setting"
   ]
  },
  {
   "cell_type": "code",
   "execution_count": 64,
   "id": "01d5802c-663a-4d1f-9d69-e036faaffbf7",
   "metadata": {
    "execution": {
     "iopub.execute_input": "2025-07-30T14:00:06.531344Z",
     "iopub.status.busy": "2025-07-30T14:00:06.530865Z",
     "iopub.status.idle": "2025-07-30T14:00:06.536291Z",
     "shell.execute_reply": "2025-07-30T14:00:06.534920Z"
    },
    "papermill": {
     "duration": 0.033282,
     "end_time": "2025-07-30T14:00:06.538099",
     "exception": false,
     "start_time": "2025-07-30T14:00:06.504817",
     "status": "completed"
    },
    "tags": []
   },
   "outputs": [],
   "source": [
    "#delete\n",
    "#cp_groups_df"
   ]
  },
  {
   "cell_type": "code",
   "execution_count": 65,
   "id": "fa424af1-d1eb-443d-b717-2d279ada8408",
   "metadata": {
    "execution": {
     "iopub.execute_input": "2025-07-30T14:00:06.590081Z",
     "iopub.status.busy": "2025-07-30T14:00:06.589645Z",
     "iopub.status.idle": "2025-07-30T14:00:06.595270Z",
     "shell.execute_reply": "2025-07-30T14:00:06.594149Z"
    },
    "papermill": {
     "duration": 0.032766,
     "end_time": "2025-07-30T14:00:06.596840",
     "exception": false,
     "start_time": "2025-07-30T14:00:06.564074",
     "status": "completed"
    },
    "tags": []
   },
   "outputs": [],
   "source": [
    "#delete\n",
    "#percentage = (cp_groups_df['nongerman_female'] == 1).mean() * 100\n",
    "#print(percentage)\n"
   ]
  },
  {
   "cell_type": "code",
   "execution_count": 66,
   "id": "6cbdab96-b2b2-45af-ad54-d0516db2e28d",
   "metadata": {
    "execution": {
     "iopub.execute_input": "2025-07-30T14:00:06.626919Z",
     "iopub.status.busy": "2025-07-30T14:00:06.626507Z",
     "iopub.status.idle": "2025-07-30T14:00:07.594145Z",
     "shell.execute_reply": "2025-07-30T14:00:07.593432Z"
    },
    "papermill": {
     "duration": 0.983811,
     "end_time": "2025-07-30T14:00:07.596239",
     "exception": false,
     "start_time": "2025-07-30T14:00:06.612428",
     "status": "completed"
    },
    "tags": []
   },
   "outputs": [],
   "source": [
    "# Define covered = 1 if true_label is in the predicted set\n",
    "cp_groups_df['covered'] = cp_groups_df.apply(\n",
    "    lambda r: int(r['true_label'] in r['pred_set']),\n",
    "    axis=1\n",
    ")"
   ]
  },
  {
   "cell_type": "code",
   "execution_count": 67,
   "id": "338ff529-1a6b-4b87-a931-8e4788d52aad",
   "metadata": {
    "execution": {
     "iopub.execute_input": "2025-07-30T14:00:07.656428Z",
     "iopub.status.busy": "2025-07-30T14:00:07.655679Z",
     "iopub.status.idle": "2025-07-30T14:00:07.661092Z",
     "shell.execute_reply": "2025-07-30T14:00:07.660084Z"
    },
    "papermill": {
     "duration": 0.035136,
     "end_time": "2025-07-30T14:00:07.662863",
     "exception": false,
     "start_time": "2025-07-30T14:00:07.627727",
     "status": "completed"
    },
    "tags": []
   },
   "outputs": [],
   "source": [
    "#cp_groups_df"
   ]
  },
  {
   "cell_type": "code",
   "execution_count": 68,
   "id": "90032e27-66df-4540-9169-4e89cfbaa758",
   "metadata": {
    "execution": {
     "iopub.execute_input": "2025-07-30T14:00:07.714521Z",
     "iopub.status.busy": "2025-07-30T14:00:07.713983Z",
     "iopub.status.idle": "2025-07-30T14:00:07.725383Z",
     "shell.execute_reply": "2025-07-30T14:00:07.724478Z"
    },
    "papermill": {
     "duration": 0.038666,
     "end_time": "2025-07-30T14:00:07.726968",
     "exception": false,
     "start_time": "2025-07-30T14:00:07.688302",
     "status": "completed"
    },
    "tags": []
   },
   "outputs": [],
   "source": [
    "subgroups = ['frau1','nongerman','nongerman_male','nongerman_female']\n",
    "\n",
    "# Conditional coverage for subgroup==1\n",
    "cond_coverage = {\n",
    "    g: cp_groups_df.loc[cp_groups_df[g]==1, 'covered'].mean()\n",
    "    for g in subgroups\n",
    "}"
   ]
  },
  {
   "cell_type": "code",
   "execution_count": 69,
   "id": "1e348fb1-b9c3-45bc-ba23-f016827a7e0d",
   "metadata": {
    "execution": {
     "iopub.execute_input": "2025-07-30T14:00:07.779563Z",
     "iopub.status.busy": "2025-07-30T14:00:07.778699Z",
     "iopub.status.idle": "2025-07-30T14:00:07.785743Z",
     "shell.execute_reply": "2025-07-30T14:00:07.784867Z"
    },
    "papermill": {
     "duration": 0.034022,
     "end_time": "2025-07-30T14:00:07.787330",
     "exception": false,
     "start_time": "2025-07-30T14:00:07.753308",
     "status": "completed"
    },
    "tags": []
   },
   "outputs": [
    {
     "data": {
      "text/plain": [
       "{'frau1': 0.9093408815204206,\n",
       " 'nongerman': 0.9384719025430865,\n",
       " 'nongerman_male': 0.9500135098621995,\n",
       " 'nongerman_female': 0.9193740685543964}"
      ]
     },
     "execution_count": 69,
     "metadata": {},
     "output_type": "execute_result"
    }
   ],
   "source": [
    "cond_coverage"
   ]
  },
  {
   "cell_type": "code",
   "execution_count": 70,
   "id": "f5093324-c3dd-4d63-bc4c-8d945e5c8bbb",
   "metadata": {
    "execution": {
     "iopub.execute_input": "2025-07-30T14:00:07.841110Z",
     "iopub.status.busy": "2025-07-30T14:00:07.840316Z",
     "iopub.status.idle": "2025-07-30T14:00:07.847599Z",
     "shell.execute_reply": "2025-07-30T14:00:07.846547Z"
    },
    "papermill": {
     "duration": 0.034594,
     "end_time": "2025-07-30T14:00:07.849261",
     "exception": false,
     "start_time": "2025-07-30T14:00:07.814667",
     "status": "completed"
    },
    "tags": []
   },
   "outputs": [],
   "source": [
    "for subgroup, cov in cond_coverage.items():\n",
    "    cp_metrics_df[f\"cov_{subgroup}\"] = cov"
   ]
  },
  {
   "cell_type": "code",
   "execution_count": 71,
   "id": "6e872e10-dbe5-49e8-b554-5030c98ff75d",
   "metadata": {
    "execution": {
     "iopub.execute_input": "2025-07-30T14:00:07.962708Z",
     "iopub.status.busy": "2025-07-30T14:00:07.962067Z",
     "iopub.status.idle": "2025-07-30T14:00:07.979758Z",
     "shell.execute_reply": "2025-07-30T14:00:07.978833Z"
    },
    "papermill": {
     "duration": 0.103365,
     "end_time": "2025-07-30T14:00:07.981470",
     "exception": false,
     "start_time": "2025-07-30T14:00:07.878105",
     "status": "completed"
    },
    "tags": []
   },
   "outputs": [
    {
     "data": {
      "text/html": [
       "<div>\n",
       "<style scoped>\n",
       "    .dataframe tbody tr th:only-of-type {\n",
       "        vertical-align: middle;\n",
       "    }\n",
       "\n",
       "    .dataframe tbody tr th {\n",
       "        vertical-align: top;\n",
       "    }\n",
       "\n",
       "    .dataframe thead th {\n",
       "        text-align: right;\n",
       "    }\n",
       "</style>\n",
       "<table border=\"1\" class=\"dataframe\">\n",
       "  <thead>\n",
       "    <tr style=\"text-align: right;\">\n",
       "      <th></th>\n",
       "      <th>universe_id</th>\n",
       "      <th>universe_training_size</th>\n",
       "      <th>universe_scale</th>\n",
       "      <th>universe_model</th>\n",
       "      <th>universe_exclude_features</th>\n",
       "      <th>universe_exclude_subgroups</th>\n",
       "      <th>q_hat</th>\n",
       "      <th>coverage</th>\n",
       "      <th>avg_size</th>\n",
       "      <th>cov_frau1</th>\n",
       "      <th>cov_nongerman</th>\n",
       "      <th>cov_nongerman_male</th>\n",
       "      <th>cov_nongerman_female</th>\n",
       "    </tr>\n",
       "  </thead>\n",
       "  <tbody>\n",
       "    <tr>\n",
       "      <th>0</th>\n",
       "      <td>95d22fc05c82b1614dd6c274860b050d</td>\n",
       "      <td>5k</td>\n",
       "      <td>do-not-scale</td>\n",
       "      <td>logreg</td>\n",
       "      <td>nationality-sex</td>\n",
       "      <td>drop-non-german</td>\n",
       "      <td>0.67267</td>\n",
       "      <td>0.912095</td>\n",
       "      <td>1.218036</td>\n",
       "      <td>0.909341</td>\n",
       "      <td>0.938472</td>\n",
       "      <td>0.950014</td>\n",
       "      <td>0.919374</td>\n",
       "    </tr>\n",
       "  </tbody>\n",
       "</table>\n",
       "</div>"
      ],
      "text/plain": [
       "                        universe_id universe_training_size universe_scale  \\\n",
       "0  95d22fc05c82b1614dd6c274860b050d                     5k   do-not-scale   \n",
       "\n",
       "  universe_model universe_exclude_features universe_exclude_subgroups  \\\n",
       "0         logreg           nationality-sex            drop-non-german   \n",
       "\n",
       "     q_hat  coverage  avg_size  cov_frau1  cov_nongerman  cov_nongerman_male  \\\n",
       "0  0.67267  0.912095  1.218036   0.909341       0.938472            0.950014   \n",
       "\n",
       "   cov_nongerman_female  \n",
       "0              0.919374  "
      ]
     },
     "execution_count": 71,
     "metadata": {},
     "output_type": "execute_result"
    }
   ],
   "source": [
    "cp_metrics_df"
   ]
  },
  {
   "cell_type": "markdown",
   "id": "33774451",
   "metadata": {
    "papermill": {
     "duration": 0.024601,
     "end_time": "2025-07-30T14:00:08.032510",
     "exception": false,
     "start_time": "2025-07-30T14:00:08.007909",
     "status": "completed"
    },
    "tags": []
   },
   "source": [
    "# (Fairness) Metrics"
   ]
  },
  {
   "cell_type": "code",
   "execution_count": 72,
   "id": "debc5d62",
   "metadata": {
    "execution": {
     "iopub.execute_input": "2025-07-30T14:00:08.084648Z",
     "iopub.status.busy": "2025-07-30T14:00:08.083767Z",
     "iopub.status.idle": "2025-07-30T14:00:08.104080Z",
     "shell.execute_reply": "2025-07-30T14:00:08.103168Z"
    },
    "papermill": {
     "duration": 0.047981,
     "end_time": "2025-07-30T14:00:08.105865",
     "exception": false,
     "start_time": "2025-07-30T14:00:08.057884",
     "status": "completed"
    },
    "tags": []
   },
   "outputs": [],
   "source": [
    "# do I need to include maxdeutsch1.missing?\n",
    "\n",
    "import numpy as np\n",
    "\n",
    "colname_to_bin = \"maxdeutsch1\"\n",
    "majority_value = org_train[colname_to_bin].mode()[0]\n",
    "\n",
    "org_test[\"majmin\"] = np.where(org_test[colname_to_bin] == majority_value, \"majority\", \"minority\")"
   ]
  },
  {
   "cell_type": "code",
   "execution_count": 73,
   "id": "06a50de5",
   "metadata": {
    "execution": {
     "iopub.execute_input": "2025-07-30T14:00:08.163158Z",
     "iopub.status.busy": "2025-07-30T14:00:08.162221Z",
     "iopub.status.idle": "2025-07-30T14:00:11.031083Z",
     "shell.execute_reply": "2025-07-30T14:00:11.030118Z"
    },
    "papermill": {
     "duration": 2.898994,
     "end_time": "2025-07-30T14:00:11.033214",
     "exception": false,
     "start_time": "2025-07-30T14:00:08.134220",
     "status": "completed"
    },
    "tags": []
   },
   "outputs": [],
   "source": [
    "example_universe = universe.copy()\n",
    "example_universe[\"cutoff\"] = example_universe[\"cutoff\"][0]\n",
    "example_universe[\"eval_fairness_grouping\"] = example_universe[\"eval_fairness_grouping\"][0]\n",
    "fairness_dict, metric_frame = universe_analysis.compute_metrics(\n",
    "    example_universe,\n",
    "    y_pred_prob=probs_test,\n",
    "    y_test=y_true,\n",
    "    org_test=org_test,\n",
    ")"
   ]
  },
  {
   "cell_type": "markdown",
   "id": "f95d4e02",
   "metadata": {
    "papermill": {
     "duration": 0.016055,
     "end_time": "2025-07-30T14:00:11.070114",
     "exception": false,
     "start_time": "2025-07-30T14:00:11.054059",
     "status": "completed"
    },
    "tags": []
   },
   "source": [
    "# Overall"
   ]
  },
  {
   "cell_type": "markdown",
   "id": "bdee4871",
   "metadata": {
    "papermill": {
     "duration": 0.026071,
     "end_time": "2025-07-30T14:00:11.120725",
     "exception": false,
     "start_time": "2025-07-30T14:00:11.094654",
     "status": "completed"
    },
    "tags": []
   },
   "source": [
    "Fairness\n",
    "Main fairness target: Equalized Odds. Seems to be a better fit than equal opportunity, since we're not only interested in Y = 1. Seems to be a better fit than demographic parity, since we also care about accuracy, not just equal distribution of preds.\n",
    "\n",
    "Pick column for computation of fairness metrics\n",
    "\n",
    "Performance\n",
    "Overall performance measures, most interesting in relation to the measures split by group below"
   ]
  },
  {
   "cell_type": "code",
   "execution_count": 74,
   "id": "c4e067c6",
   "metadata": {
    "execution": {
     "iopub.execute_input": "2025-07-30T14:00:11.175952Z",
     "iopub.status.busy": "2025-07-30T14:00:11.175070Z",
     "iopub.status.idle": "2025-07-30T14:00:11.183584Z",
     "shell.execute_reply": "2025-07-30T14:00:11.182556Z"
    },
    "papermill": {
     "duration": 0.037869,
     "end_time": "2025-07-30T14:00:11.185167",
     "exception": false,
     "start_time": "2025-07-30T14:00:11.147298",
     "status": "completed"
    },
    "tags": []
   },
   "outputs": [
    {
     "data": {
      "text/plain": [
       "accuracy                   0.218582\n",
       "balanced accuracy          0.535677\n",
       "f1                         0.240073\n",
       "precision                  0.137146\n",
       "false positive rate        0.890847\n",
       "false negative rate        0.037800\n",
       "selection rate             0.900000\n",
       "count                  89710.000000\n",
       "dtype: float64"
      ]
     },
     "execution_count": 74,
     "metadata": {},
     "output_type": "execute_result"
    }
   ],
   "source": [
    "metric_frame.overall"
   ]
  },
  {
   "cell_type": "markdown",
   "id": "e968fe9d",
   "metadata": {
    "papermill": {
     "duration": 0.030332,
     "end_time": "2025-07-30T14:00:11.243890",
     "exception": false,
     "start_time": "2025-07-30T14:00:11.213558",
     "status": "completed"
    },
    "tags": []
   },
   "source": [
    "By Group"
   ]
  },
  {
   "cell_type": "code",
   "execution_count": 75,
   "id": "ec325bce",
   "metadata": {
    "execution": {
     "iopub.execute_input": "2025-07-30T14:00:11.305518Z",
     "iopub.status.busy": "2025-07-30T14:00:11.305005Z",
     "iopub.status.idle": "2025-07-30T14:00:11.321549Z",
     "shell.execute_reply": "2025-07-30T14:00:11.320321Z"
    },
    "papermill": {
     "duration": 0.052288,
     "end_time": "2025-07-30T14:00:11.323614",
     "exception": false,
     "start_time": "2025-07-30T14:00:11.271326",
     "status": "completed"
    },
    "tags": []
   },
   "outputs": [
    {
     "data": {
      "text/html": [
       "<div>\n",
       "<style scoped>\n",
       "    .dataframe tbody tr th:only-of-type {\n",
       "        vertical-align: middle;\n",
       "    }\n",
       "\n",
       "    .dataframe tbody tr th {\n",
       "        vertical-align: top;\n",
       "    }\n",
       "\n",
       "    .dataframe thead th {\n",
       "        text-align: right;\n",
       "    }\n",
       "</style>\n",
       "<table border=\"1\" class=\"dataframe\">\n",
       "  <thead>\n",
       "    <tr style=\"text-align: right;\">\n",
       "      <th></th>\n",
       "      <th>accuracy</th>\n",
       "      <th>balanced accuracy</th>\n",
       "      <th>f1</th>\n",
       "      <th>precision</th>\n",
       "      <th>false positive rate</th>\n",
       "      <th>false negative rate</th>\n",
       "      <th>selection rate</th>\n",
       "      <th>count</th>\n",
       "    </tr>\n",
       "    <tr>\n",
       "      <th>majmin</th>\n",
       "      <th></th>\n",
       "      <th></th>\n",
       "      <th></th>\n",
       "      <th></th>\n",
       "      <th></th>\n",
       "      <th></th>\n",
       "      <th></th>\n",
       "      <th></th>\n",
       "    </tr>\n",
       "  </thead>\n",
       "  <tbody>\n",
       "    <tr>\n",
       "      <th>majority</th>\n",
       "      <td>0.240740</td>\n",
       "      <td>0.544065</td>\n",
       "      <td>0.249743</td>\n",
       "      <td>0.143625</td>\n",
       "      <td>0.868216</td>\n",
       "      <td>0.043654</td>\n",
       "      <td>0.879861</td>\n",
       "      <td>69170.0</td>\n",
       "    </tr>\n",
       "    <tr>\n",
       "      <th>minority</th>\n",
       "      <td>0.143963</td>\n",
       "      <td>0.509595</td>\n",
       "      <td>0.209646</td>\n",
       "      <td>0.117310</td>\n",
       "      <td>0.965606</td>\n",
       "      <td>0.015203</td>\n",
       "      <td>0.967819</td>\n",
       "      <td>20540.0</td>\n",
       "    </tr>\n",
       "  </tbody>\n",
       "</table>\n",
       "</div>"
      ],
      "text/plain": [
       "          accuracy  balanced accuracy        f1  precision  \\\n",
       "majmin                                                       \n",
       "majority  0.240740           0.544065  0.249743   0.143625   \n",
       "minority  0.143963           0.509595  0.209646   0.117310   \n",
       "\n",
       "          false positive rate  false negative rate  selection rate    count  \n",
       "majmin                                                                       \n",
       "majority             0.868216             0.043654        0.879861  69170.0  \n",
       "minority             0.965606             0.015203        0.967819  20540.0  "
      ]
     },
     "execution_count": 75,
     "metadata": {},
     "output_type": "execute_result"
    }
   ],
   "source": [
    "metric_frame.by_group"
   ]
  },
  {
   "cell_type": "code",
   "execution_count": 76,
   "id": "a9ddbe63",
   "metadata": {
    "execution": {
     "iopub.execute_input": "2025-07-30T14:00:11.383499Z",
     "iopub.status.busy": "2025-07-30T14:00:11.382975Z",
     "iopub.status.idle": "2025-07-30T14:00:13.474632Z",
     "shell.execute_reply": "2025-07-30T14:00:13.473511Z"
    },
    "papermill": {
     "duration": 2.122479,
     "end_time": "2025-07-30T14:00:13.476368",
     "exception": false,
     "start_time": "2025-07-30T14:00:11.353889",
     "status": "completed"
    },
    "tags": []
   },
   "outputs": [
    {
     "data": {
      "text/plain": [
       "array([[<Axes: title={'center': 'accuracy'}, xlabel='majmin'>,\n",
       "        <Axes: title={'center': 'balanced accuracy'}, xlabel='majmin'>,\n",
       "        <Axes: title={'center': 'f1'}, xlabel='majmin'>],\n",
       "       [<Axes: title={'center': 'precision'}, xlabel='majmin'>,\n",
       "        <Axes: title={'center': 'false positive rate'}, xlabel='majmin'>,\n",
       "        <Axes: title={'center': 'false negative rate'}, xlabel='majmin'>],\n",
       "       [<Axes: title={'center': 'selection rate'}, xlabel='majmin'>,\n",
       "        <Axes: title={'center': 'count'}, xlabel='majmin'>,\n",
       "        <Axes: xlabel='majmin'>]], dtype=object)"
      ]
     },
     "execution_count": 76,
     "metadata": {},
     "output_type": "execute_result"
    },
    {
     "data": {
      "image/png": "[encoded data removed]",
      "text/plain": [
       "<Figure size 1200x800 with 9 Axes>"
      ]
     },
     "metadata": {},
     "output_type": "display_data"
    }
   ],
   "source": [
    "# In a graphic\n",
    "metric_frame.by_group.plot.bar(\n",
    "    subplots=True,\n",
    "    layout=[3, 3],\n",
    "    legend=False,\n",
    "    figsize=[12, 8],\n",
    "    title=\"Show all metrics\",\n",
    ")"
   ]
  },
  {
   "cell_type": "markdown",
   "id": "f57a0bac",
   "metadata": {
    "papermill": {
     "duration": 0.032836,
     "end_time": "2025-07-30T14:00:13.544423",
     "exception": false,
     "start_time": "2025-07-30T14:00:13.511587",
     "status": "completed"
    },
    "tags": []
   },
   "source": [
    "# Final Output"
   ]
  },
  {
   "cell_type": "code",
   "execution_count": 77,
   "id": "96d280a3",
   "metadata": {
    "execution": {
     "iopub.execute_input": "2025-07-30T14:00:13.622237Z",
     "iopub.status.busy": "2025-07-30T14:00:13.621223Z",
     "iopub.status.idle": "2025-07-30T14:00:13.630343Z",
     "shell.execute_reply": "2025-07-30T14:00:13.629188Z"
    },
    "papermill": {
     "duration": 0.046662,
     "end_time": "2025-07-30T14:00:13.632180",
     "exception": false,
     "start_time": "2025-07-30T14:00:13.585518",
     "status": "completed"
    },
    "tags": []
   },
   "outputs": [
    {
     "data": {
      "text/plain": [
       "4"
      ]
     },
     "execution_count": 77,
     "metadata": {},
     "output_type": "execute_result"
    }
   ],
   "source": [
    "sub_universes = universe_analysis.generate_sub_universes()\n",
    "len(sub_universes)"
   ]
  },
  {
   "cell_type": "code",
   "execution_count": 78,
   "id": "92adf7ba",
   "metadata": {
    "execution": {
     "iopub.execute_input": "2025-07-30T14:00:13.703545Z",
     "iopub.status.busy": "2025-07-30T14:00:13.702715Z",
     "iopub.status.idle": "2025-07-30T14:00:13.709548Z",
     "shell.execute_reply": "2025-07-30T14:00:13.708543Z"
    },
    "papermill": {
     "duration": 0.044831,
     "end_time": "2025-07-30T14:00:13.711482",
     "exception": false,
     "start_time": "2025-07-30T14:00:13.666651",
     "status": "completed"
    },
    "tags": []
   },
   "outputs": [],
   "source": [
    "def filter_sub_universe_data(sub_universe, org_test):\n",
    "    # Keep all rows — no filtering\n",
    "    keep_rows_mask = np.ones(org_test.shape[0], dtype=bool)\n",
    "\n",
    "    print(f\"[INFO] Keeping all rows: {keep_rows_mask.sum()} rows retained.\")\n",
    "    return keep_rows_mask"
   ]
  },
  {
   "cell_type": "code",
   "execution_count": 79,
   "id": "4a759155",
   "metadata": {
    "execution": {
     "iopub.execute_input": "2025-07-30T14:00:13.778669Z",
     "iopub.status.busy": "2025-07-30T14:00:13.778156Z",
     "iopub.status.idle": "2025-07-30T14:00:22.968814Z",
     "shell.execute_reply": "2025-07-30T14:00:22.968087Z"
    },
    "papermill": {
     "duration": 9.224557,
     "end_time": "2025-07-30T14:00:22.970024",
     "exception": false,
     "start_time": "2025-07-30T14:00:13.745467",
     "status": "completed"
    },
    "tags": []
   },
   "outputs": [
    {
     "name": "stdout",
     "output_type": "stream",
     "text": [
      "Stopping execution_time clock.\n",
      "[INFO] Keeping all rows: 89710 rows retained.\n"
     ]
    },
    {
     "name": "stdout",
     "output_type": "stream",
     "text": [
      "[INFO] Keeping all rows: 89710 rows retained.\n"
     ]
    },
    {
     "name": "stdout",
     "output_type": "stream",
     "text": [
      "[INFO] Keeping all rows: 89710 rows retained.\n"
     ]
    },
    {
     "name": "stdout",
     "output_type": "stream",
     "text": [
      "[INFO] Keeping all rows: 89710 rows retained.\n"
     ]
    },
    {
     "data": {
      "text/html": [
       "<div>\n",
       "<style scoped>\n",
       "    .dataframe tbody tr th:only-of-type {\n",
       "        vertical-align: middle;\n",
       "    }\n",
       "\n",
       "    .dataframe tbody tr th {\n",
       "        vertical-align: top;\n",
       "    }\n",
       "\n",
       "    .dataframe thead th {\n",
       "        text-align: right;\n",
       "    }\n",
       "</style>\n",
       "<table border=\"1\" class=\"dataframe\">\n",
       "  <thead>\n",
       "    <tr style=\"text-align: right;\">\n",
       "      <th></th>\n",
       "      <th>run_no</th>\n",
       "      <th>universe_id</th>\n",
       "      <th>universe_settings</th>\n",
       "      <th>execution_time</th>\n",
       "      <th>test_size_n</th>\n",
       "      <th>test_size_frac</th>\n",
       "      <th>fair_main_equalized_odds_difference</th>\n",
       "      <th>fair_main_equalized_odds_ratio</th>\n",
       "      <th>fair_main_demographic_parity_difference</th>\n",
       "      <th>fair_main_demographic_parity_ratio</th>\n",
       "      <th>...</th>\n",
       "      <th>perf_grp_precision_0</th>\n",
       "      <th>perf_grp_precision_1</th>\n",
       "      <th>perf_grp_false positive rate_0</th>\n",
       "      <th>perf_grp_false positive rate_1</th>\n",
       "      <th>perf_grp_false negative rate_0</th>\n",
       "      <th>perf_grp_false negative rate_1</th>\n",
       "      <th>perf_grp_selection rate_0</th>\n",
       "      <th>perf_grp_selection rate_1</th>\n",
       "      <th>perf_grp_count_0</th>\n",
       "      <th>perf_grp_count_1</th>\n",
       "    </tr>\n",
       "  </thead>\n",
       "  <tbody>\n",
       "    <tr>\n",
       "      <th>0</th>\n",
       "      <td>12</td>\n",
       "      <td>95d22fc05c82b1614dd6c274860b050d</td>\n",
       "      <td>{\"cutoff\": \"quantile_0.1\", \"eval_fairness_grou...</td>\n",
       "      <td>24.900288</td>\n",
       "      <td>89710</td>\n",
       "      <td>1.0</td>\n",
       "      <td>0.097391</td>\n",
       "      <td>0.899141</td>\n",
       "      <td>0.087958</td>\n",
       "      <td>0.909118</td>\n",
       "      <td>...</td>\n",
       "      <td>NaN</td>\n",
       "      <td>NaN</td>\n",
       "      <td>NaN</td>\n",
       "      <td>NaN</td>\n",
       "      <td>NaN</td>\n",
       "      <td>NaN</td>\n",
       "      <td>NaN</td>\n",
       "      <td>NaN</td>\n",
       "      <td>NaN</td>\n",
       "      <td>NaN</td>\n",
       "    </tr>\n",
       "    <tr>\n",
       "      <th>0</th>\n",
       "      <td>12</td>\n",
       "      <td>95d22fc05c82b1614dd6c274860b050d</td>\n",
       "      <td>{\"cutoff\": \"quantile_0.1\", \"eval_fairness_grou...</td>\n",
       "      <td>24.900288</td>\n",
       "      <td>89710</td>\n",
       "      <td>1.0</td>\n",
       "      <td>0.097391</td>\n",
       "      <td>0.899141</td>\n",
       "      <td>0.087958</td>\n",
       "      <td>0.909118</td>\n",
       "      <td>...</td>\n",
       "      <td>0.117310</td>\n",
       "      <td>0.143625</td>\n",
       "      <td>0.965606</td>\n",
       "      <td>0.868216</td>\n",
       "      <td>0.015203</td>\n",
       "      <td>0.043654</td>\n",
       "      <td>0.967819</td>\n",
       "      <td>0.879861</td>\n",
       "      <td>20540.0</td>\n",
       "      <td>69170.0</td>\n",
       "    </tr>\n",
       "    <tr>\n",
       "      <th>0</th>\n",
       "      <td>12</td>\n",
       "      <td>95d22fc05c82b1614dd6c274860b050d</td>\n",
       "      <td>{\"cutoff\": \"quantile_0.25\", \"eval_fairness_gro...</td>\n",
       "      <td>24.900288</td>\n",
       "      <td>89710</td>\n",
       "      <td>1.0</td>\n",
       "      <td>0.222603</td>\n",
       "      <td>0.753224</td>\n",
       "      <td>0.203642</td>\n",
       "      <td>0.775480</td>\n",
       "      <td>...</td>\n",
       "      <td>NaN</td>\n",
       "      <td>NaN</td>\n",
       "      <td>NaN</td>\n",
       "      <td>NaN</td>\n",
       "      <td>NaN</td>\n",
       "      <td>NaN</td>\n",
       "      <td>NaN</td>\n",
       "      <td>NaN</td>\n",
       "      <td>NaN</td>\n",
       "      <td>NaN</td>\n",
       "    </tr>\n",
       "    <tr>\n",
       "      <th>0</th>\n",
       "      <td>12</td>\n",
       "      <td>95d22fc05c82b1614dd6c274860b050d</td>\n",
       "      <td>{\"cutoff\": \"quantile_0.25\", \"eval_fairness_gro...</td>\n",
       "      <td>24.900288</td>\n",
       "      <td>89710</td>\n",
       "      <td>1.0</td>\n",
       "      <td>0.222603</td>\n",
       "      <td>0.753224</td>\n",
       "      <td>0.203642</td>\n",
       "      <td>0.775480</td>\n",
       "      <td>...</td>\n",
       "      <td>0.120129</td>\n",
       "      <td>0.161658</td>\n",
       "      <td>0.902047</td>\n",
       "      <td>0.679444</td>\n",
       "      <td>0.054899</td>\n",
       "      <td>0.139497</td>\n",
       "      <td>0.907011</td>\n",
       "      <td>0.703369</td>\n",
       "      <td>20540.0</td>\n",
       "      <td>69170.0</td>\n",
       "    </tr>\n",
       "  </tbody>\n",
       "</table>\n",
       "<p>4 rows × 50 columns</p>\n",
       "</div>"
      ],
      "text/plain": [
       "  run_no                       universe_id  \\\n",
       "0     12  95d22fc05c82b1614dd6c274860b050d   \n",
       "0     12  95d22fc05c82b1614dd6c274860b050d   \n",
       "0     12  95d22fc05c82b1614dd6c274860b050d   \n",
       "0     12  95d22fc05c82b1614dd6c274860b050d   \n",
       "\n",
       "                                   universe_settings  execution_time  \\\n",
       "0  {\"cutoff\": \"quantile_0.1\", \"eval_fairness_grou...       24.900288   \n",
       "0  {\"cutoff\": \"quantile_0.1\", \"eval_fairness_grou...       24.900288   \n",
       "0  {\"cutoff\": \"quantile_0.25\", \"eval_fairness_gro...       24.900288   \n",
       "0  {\"cutoff\": \"quantile_0.25\", \"eval_fairness_gro...       24.900288   \n",
       "\n",
       "   test_size_n  test_size_frac  fair_main_equalized_odds_difference  \\\n",
       "0        89710             1.0                             0.097391   \n",
       "0        89710             1.0                             0.097391   \n",
       "0        89710             1.0                             0.222603   \n",
       "0        89710             1.0                             0.222603   \n",
       "\n",
       "   fair_main_equalized_odds_ratio  fair_main_demographic_parity_difference  \\\n",
       "0                        0.899141                                 0.087958   \n",
       "0                        0.899141                                 0.087958   \n",
       "0                        0.753224                                 0.203642   \n",
       "0                        0.753224                                 0.203642   \n",
       "\n",
       "   fair_main_demographic_parity_ratio  ...  perf_grp_precision_0  \\\n",
       "0                            0.909118  ...                   NaN   \n",
       "0                            0.909118  ...              0.117310   \n",
       "0                            0.775480  ...                   NaN   \n",
       "0                            0.775480  ...              0.120129   \n",
       "\n",
       "   perf_grp_precision_1  perf_grp_false positive rate_0  \\\n",
       "0                   NaN                             NaN   \n",
       "0              0.143625                        0.965606   \n",
       "0                   NaN                             NaN   \n",
       "0              0.161658                        0.902047   \n",
       "\n",
       "   perf_grp_false positive rate_1  perf_grp_false negative rate_0  \\\n",
       "0                             NaN                             NaN   \n",
       "0                        0.868216                        0.015203   \n",
       "0                             NaN                             NaN   \n",
       "0                        0.679444                        0.054899   \n",
       "\n",
       "   perf_grp_false negative rate_1  perf_grp_selection rate_0  \\\n",
       "0                             NaN                        NaN   \n",
       "0                        0.043654                   0.967819   \n",
       "0                             NaN                        NaN   \n",
       "0                        0.139497                   0.907011   \n",
       "\n",
       "   perf_grp_selection rate_1  perf_grp_count_0  perf_grp_count_1  \n",
       "0                        NaN               NaN               NaN  \n",
       "0                   0.879861           20540.0           69170.0  \n",
       "0                        NaN               NaN               NaN  \n",
       "0                   0.703369           20540.0           69170.0  \n",
       "\n",
       "[4 rows x 50 columns]"
      ]
     },
     "execution_count": 79,
     "metadata": {},
     "output_type": "execute_result"
    }
   ],
   "source": [
    "final_output = universe_analysis.generate_final_output(\n",
    "    y_pred_prob=probs_test,\n",
    "    y_test=y_true,\n",
    "    org_test=org_test,\n",
    "    filter_data=filter_sub_universe_data,\n",
    "    cp_metrics_df=cp_metrics_df,\n",
    "    save=True,\n",
    ")\n",
    "final_output"
   ]
  },
  {
   "cell_type": "code",
   "execution_count": null,
   "id": "721ff514-cb11-46f8-b6fc-50392f74b5cb",
   "metadata": {
    "papermill": {
     "duration": 0.016493,
     "end_time": "2025-07-30T14:00:23.010504",
     "exception": false,
     "start_time": "2025-07-30T14:00:22.994011",
     "status": "completed"
    },
    "tags": []
   },
   "outputs": [],
   "source": []
  }
 ],
 "metadata": {
  "celltoolbar": "Tags",
  "kernelspec": {
   "display_name": "Python (CMA Fairness)",
   "language": "python",
   "name": "cma_fair_env"
  },
  "language_info": {
   "codemirror_mode": {
    "name": "ipython",
    "version": 3
   },
   "file_extension": ".py",
   "mimetype": "text/x-python",
   "name": "python",
   "nbconvert_exporter": "python",
   "pygments_lexer": "ipython3",
   "version": "3.10.12"
  },
  "papermill": {
   "default_parameters": {},
   "duration": 38.233958,
   "end_time": "2025-07-30T14:00:23.756574",
   "environment_variables": {},
   "exception": null,
   "input_path": "universe_analysis.ipynb",
   "output_path": "output/runs/12/notebooks/m_12-95d22fc05c82b1614dd6c274860b050d.ipynb",
   "parameters": {
    "output_dir": "output",
    "run_no": "12",
    "seed": "2023",
    "universe": "{\"cutoff\": [\"quantile_0.1\", \"quantile_0.25\"], \"eval_fairness_grouping\": [\"majority-minority\", \"nationality-all\"], \"exclude_features\": \"nationality-sex\", \"exclude_subgroups\": \"drop-non-german\", \"model\": \"logreg\", \"scale\": \"do-not-scale\", \"training_size\": \"5k\", \"training_year\": \"2012_14\"}",
    "universe_id": "95d22fc05c82b1614dd6c274860b050d"
   },
   "start_time": "2025-07-30T13:59:45.522616",
   "version": "2.6.0"
  }
 },
 "nbformat": 4,
 "nbformat_minor": 5
}