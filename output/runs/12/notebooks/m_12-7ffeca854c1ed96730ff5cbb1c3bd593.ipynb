{
 "cells": [
  {
   "cell_type": "code",
   "execution_count": 1,
   "id": "f159f837-637b-42ba-96b5-ec9a68c44524",
   "metadata": {
    "execution": {
     "iopub.execute_input": "2025-07-30T14:09:24.958438Z",
     "iopub.status.busy": "2025-07-30T14:09:24.957938Z",
     "iopub.status.idle": "2025-07-30T14:09:24.972385Z",
     "shell.execute_reply": "2025-07-30T14:09:24.971329Z"
    },
    "papermill": {
     "duration": 0.040185,
     "end_time": "2025-07-30T14:09:24.974485",
     "exception": false,
     "start_time": "2025-07-30T14:09:24.934300",
     "status": "completed"
    },
    "tags": []
   },
   "outputs": [
    {
     "name": "stdout",
     "output_type": "stream",
     "text": [
      "/dss/dsshome1/0C/ra93lal2/cma/CMA_Fairness_v2\n"
     ]
    },
    {
     "name": "stderr",
     "output_type": "stream",
     "text": [
      "/dss/dsshome1/0C/ra93lal2/.local/share/virtualenvs/CMA_Fairness_v2-3j10GkSs/lib/python3.10/site-packages/IPython/core/magics/osm.py:393: UserWarning: This is now an optional IPython functionality, using bookmarks requires you to install the `pickleshare` library.\n",
      "  bkms = self.shell.db.get('bookmarks', {})\n",
      "/dss/dsshome1/0C/ra93lal2/.local/share/virtualenvs/CMA_Fairness_v2-3j10GkSs/lib/python3.10/site-packages/IPython/core/magics/osm.py:417: UserWarning: This is now an optional IPython functionality, setting dhist requires you to install the `pickleshare` library.\n",
      "  self.shell.db['dhist'] = compress_dhist(dhist)[-100:]\n"
     ]
    }
   ],
   "source": [
    "%cd ~/cma/CMA_Fairness_v2"
   ]
  },
  {
   "cell_type": "markdown",
   "id": "de2603b9",
   "metadata": {
    "papermill": {
     "duration": 0.021747,
     "end_time": "2025-07-30T14:09:25.018545",
     "exception": false,
     "start_time": "2025-07-30T14:09:24.996798",
     "status": "completed"
    },
    "tags": []
   },
   "source": [
    "The following cell holds the definition of our parameters, these values can be overriden by rendering the with e.g. the following command:\n",
    "\n",
    "papermill -p alpha 0.2 -p ratio 0.3 universe_analysis.ipynb output/test_run.ipynb"
   ]
  },
  {
   "cell_type": "code",
   "execution_count": 2,
   "id": "a80968a0-40bb-4fa9-85ef-2d5eefb01975",
   "metadata": {
    "execution": {
     "iopub.execute_input": "2025-07-30T14:09:25.062588Z",
     "iopub.status.busy": "2025-07-30T14:09:25.061715Z",
     "iopub.status.idle": "2025-07-30T14:09:25.068420Z",
     "shell.execute_reply": "2025-07-30T14:09:25.067335Z"
    },
    "papermill": {
     "duration": 0.030713,
     "end_time": "2025-07-30T14:09:25.070201",
     "exception": false,
     "start_time": "2025-07-30T14:09:25.039488",
     "status": "completed"
    },
    "tags": []
   },
   "outputs": [
    {
     "name": "stdout",
     "output_type": "stream",
     "text": [
      "Current working directory: /dss/dsshome1/0C/ra93lal2/cma/CMA_Fairness_v2\n"
     ]
    }
   ],
   "source": [
    "import os\n",
    "print(\"Current working directory:\", os.getcwd())"
   ]
  },
  {
   "cell_type": "code",
   "execution_count": 3,
   "id": "2dce4c03",
   "metadata": {
    "execution": {
     "iopub.execute_input": "2025-07-30T14:09:25.111517Z",
     "iopub.status.busy": "2025-07-30T14:09:25.110802Z",
     "iopub.status.idle": "2025-07-30T14:09:25.117052Z",
     "shell.execute_reply": "2025-07-30T14:09:25.116082Z"
    },
    "papermill": {
     "duration": 0.027923,
     "end_time": "2025-07-30T14:09:25.118803",
     "exception": false,
     "start_time": "2025-07-30T14:09:25.090880",
     "status": "completed"
    },
    "tags": [
     "parameters"
    ]
   },
   "outputs": [],
   "source": [
    "run_no = 0\n",
    "universe_id = \"test\"\n",
    "universe = {\n",
    "    \"training_size\": \"25k\", # \"25k\", \"5k\", \"1k\"\n",
    "    \"training_year\": \"2014\", # \"2014\", \"2012_14\", \"2010_14\"\n",
    "    \"scale\": \"scale\", # \"scale\", \"do-not-scale\",\n",
    "    #\"stratify_split\": \"target\", # \"none\", \"target\", \"protected-attribute\", \"both\",\n",
    "    \"model\": \"elasticnet\", # \"logreg\", \"penalized_logreg\", \"rf\", \"gbm\", \"elasticnet\"\n",
    "    \"cutoff\": [\"quantile_0.15\", \"quantile_0.30\"],\n",
    "    \"exclude_features\": \"age\", # \"none\", \"nationality\", \"sex\", \"nationality-sex\", \"age\"\n",
    "    \"exclude_subgroups\": \"keep-all\", # \"keep-all\", \"drop-non-german\"\n",
    "    \"eval_fairness_grouping\": [\"majority-minority\", \"nationality-all\"]\n",
    "}\n",
    "\n",
    "output_dir=\"./output\"\n",
    "seed=0"
   ]
  },
  {
   "cell_type": "code",
   "execution_count": 4,
   "id": "5289f3c5",
   "metadata": {
    "execution": {
     "iopub.execute_input": "2025-07-30T14:09:25.161755Z",
     "iopub.status.busy": "2025-07-30T14:09:25.160925Z",
     "iopub.status.idle": "2025-07-30T14:09:25.166160Z",
     "shell.execute_reply": "2025-07-30T14:09:25.165280Z"
    },
    "papermill": {
     "duration": 0.026848,
     "end_time": "2025-07-30T14:09:25.167627",
     "exception": false,
     "start_time": "2025-07-30T14:09:25.140779",
     "status": "completed"
    },
    "tags": [
     "injected-parameters"
    ]
   },
   "outputs": [],
   "source": [
    "# Parameters\n",
    "universe_id = \"7ffeca854c1ed96730ff5cbb1c3bd593\"\n",
    "run_no = \"12\"\n",
    "universe = \"{\\\"cutoff\\\": [\\\"quantile_0.1\\\", \\\"quantile_0.25\\\"], \\\"eval_fairness_grouping\\\": [\\\"majority-minority\\\", \\\"nationality-all\\\"], \\\"exclude_features\\\": \\\"none\\\", \\\"exclude_subgroups\\\": \\\"keep-all\\\", \\\"model\\\": \\\"gbm\\\", \\\"scale\\\": \\\"scale\\\", \\\"training_size\\\": \\\"5k\\\", \\\"training_year\\\": \\\"2010_14\\\"}\"\n",
    "output_dir = \"output\"\n",
    "seed = \"2023\"\n"
   ]
  },
  {
   "cell_type": "code",
   "execution_count": 5,
   "id": "1650acaf",
   "metadata": {
    "execution": {
     "iopub.execute_input": "2025-07-30T14:09:25.207793Z",
     "iopub.status.busy": "2025-07-30T14:09:25.206158Z",
     "iopub.status.idle": "2025-07-30T14:09:25.212149Z",
     "shell.execute_reply": "2025-07-30T14:09:25.211305Z"
    },
    "papermill": {
     "duration": 0.027294,
     "end_time": "2025-07-30T14:09:25.213935",
     "exception": false,
     "start_time": "2025-07-30T14:09:25.186641",
     "status": "completed"
    },
    "tags": []
   },
   "outputs": [],
   "source": [
    "import json\n",
    "# Parse universe into dict if it is passed as a string\n",
    "if isinstance(universe, str):\n",
    "    universe = json.loads(universe)"
   ]
  },
  {
   "cell_type": "code",
   "execution_count": 6,
   "id": "16620c48",
   "metadata": {
    "execution": {
     "iopub.execute_input": "2025-07-30T14:09:25.254757Z",
     "iopub.status.busy": "2025-07-30T14:09:25.253975Z",
     "iopub.status.idle": "2025-07-30T14:09:25.297888Z",
     "shell.execute_reply": "2025-07-30T14:09:25.297015Z"
    },
    "papermill": {
     "duration": 0.065723,
     "end_time": "2025-07-30T14:09:25.299689",
     "exception": false,
     "start_time": "2025-07-30T14:09:25.233966",
     "status": "completed"
    },
    "tags": []
   },
   "outputs": [],
   "source": [
    "# Auto-reload the custom package\n",
    "%load_ext autoreload\n",
    "%autoreload 1\n",
    "%aimport fairness_multiverse"
   ]
  },
  {
   "cell_type": "code",
   "execution_count": 7,
   "id": "01c5c9f3",
   "metadata": {
    "execution": {
     "iopub.execute_input": "2025-07-30T14:09:25.339826Z",
     "iopub.status.busy": "2025-07-30T14:09:25.339195Z",
     "iopub.status.idle": "2025-07-30T14:09:27.291712Z",
     "shell.execute_reply": "2025-07-30T14:09:27.290761Z"
    },
    "papermill": {
     "duration": 1.974594,
     "end_time": "2025-07-30T14:09:27.293666",
     "exception": false,
     "start_time": "2025-07-30T14:09:25.319072",
     "status": "completed"
    },
    "tags": []
   },
   "outputs": [],
   "source": [
    "from fairness_multiverse.universe import UniverseAnalysis\n",
    "\n",
    "universe_analysis = UniverseAnalysis(\n",
    "    run_no = run_no,\n",
    "    universe_id = universe_id,\n",
    "    universe = universe,\n",
    "    output_dir=output_dir,\n",
    ")"
   ]
  },
  {
   "cell_type": "code",
   "execution_count": 8,
   "id": "106241f5",
   "metadata": {
    "execution": {
     "iopub.execute_input": "2025-07-30T14:09:27.334658Z",
     "iopub.status.busy": "2025-07-30T14:09:27.334002Z",
     "iopub.status.idle": "2025-07-30T14:09:27.341423Z",
     "shell.execute_reply": "2025-07-30T14:09:27.340217Z"
    },
    "papermill": {
     "duration": 0.030621,
     "end_time": "2025-07-30T14:09:27.344167",
     "exception": false,
     "start_time": "2025-07-30T14:09:27.313546",
     "status": "completed"
    },
    "tags": []
   },
   "outputs": [
    {
     "name": "stdout",
     "output_type": "stream",
     "text": [
      "Using Seed: 2023\n"
     ]
    }
   ],
   "source": [
    "import numpy as np\n",
    "parsed_seed = int(seed)\n",
    "np.random.seed(parsed_seed)\n",
    "print(f\"Using Seed: {parsed_seed}\")"
   ]
  },
  {
   "cell_type": "markdown",
   "id": "e0ebdc57",
   "metadata": {
    "papermill": {
     "duration": 0.01954,
     "end_time": "2025-07-30T14:09:27.384775",
     "exception": false,
     "start_time": "2025-07-30T14:09:27.365235",
     "status": "completed"
    },
    "tags": []
   },
   "source": [
    "# Loading Data"
   ]
  },
  {
   "cell_type": "markdown",
   "id": "681925a3",
   "metadata": {
    "papermill": {
     "duration": 0.018136,
     "end_time": "2025-07-30T14:09:27.421925",
     "exception": false,
     "start_time": "2025-07-30T14:09:27.403789",
     "status": "completed"
    },
    "tags": []
   },
   "source": [
    "Load siab_train, siab_test, siab_calib and/or \n",
    "load siab_train_features, siab_train_labels"
   ]
  },
  {
   "cell_type": "code",
   "execution_count": 9,
   "id": "f0496b8a",
   "metadata": {
    "execution": {
     "iopub.execute_input": "2025-07-30T14:09:27.461591Z",
     "iopub.status.busy": "2025-07-30T14:09:27.461235Z",
     "iopub.status.idle": "2025-07-30T14:09:39.545973Z",
     "shell.execute_reply": "2025-07-30T14:09:39.544586Z"
    },
    "papermill": {
     "duration": 12.107749,
     "end_time": "2025-07-30T14:09:39.547900",
     "exception": false,
     "start_time": "2025-07-30T14:09:27.440151",
     "status": "completed"
    },
    "tags": []
   },
   "outputs": [
    {
     "name": "stdout",
     "output_type": "stream",
     "text": [
      "Loading SIAB data from cache: data/siab_cached.csv.gz\n"
     ]
    },
    {
     "name": "stdout",
     "output_type": "stream",
     "text": [
      "(643690, 164)\n"
     ]
    }
   ],
   "source": [
    "from pathlib import Path\n",
    "import pandas as pd\n",
    "\n",
    "# File paths\n",
    "raw_file = Path(\"data/raw/siab.csv\")\n",
    "cache_file = Path(\"data/siab_cached.csv.gz\")\n",
    "\n",
    "# Ensure cache directory exists\n",
    "cache_file.parent.mkdir(parents=True, exist_ok=True)\n",
    "\n",
    "# Load with simple caching\n",
    "if cache_file.exists():\n",
    "    print(f\"Loading SIAB data from cache: {cache_file}\")\n",
    "    siab = pd.read_csv(cache_file, compression='gzip')\n",
    "else:\n",
    "    print(f\"Cache not found. Reading raw SIAB data: {raw_file}\")\n",
    "    siab = pd.read_csv(raw_file)\n",
    "    siab.to_csv(cache_file, index=False, compression='gzip')\n",
    "    print(f\"Cached SIAB data to: {cache_file}\")\n",
    "\n",
    "# Now use `siab` DataFrame as needed\n",
    "print(siab.shape)"
   ]
  },
  {
   "cell_type": "code",
   "execution_count": 10,
   "id": "db0ca512-5f53-4dba-abdb-a2888bca41ba",
   "metadata": {
    "execution": {
     "iopub.execute_input": "2025-07-30T14:09:39.597132Z",
     "iopub.status.busy": "2025-07-30T14:09:39.596205Z",
     "iopub.status.idle": "2025-07-30T14:09:39.602899Z",
     "shell.execute_reply": "2025-07-30T14:09:39.601835Z"
    },
    "papermill": {
     "duration": 0.031937,
     "end_time": "2025-07-30T14:09:39.604661",
     "exception": false,
     "start_time": "2025-07-30T14:09:39.572724",
     "status": "completed"
    },
    "tags": []
   },
   "outputs": [],
   "source": [
    "#siab"
   ]
  },
  {
   "cell_type": "code",
   "execution_count": 11,
   "id": "a0edb063",
   "metadata": {
    "execution": {
     "iopub.execute_input": "2025-07-30T14:09:39.653054Z",
     "iopub.status.busy": "2025-07-30T14:09:39.651816Z",
     "iopub.status.idle": "2025-07-30T14:09:39.658323Z",
     "shell.execute_reply": "2025-07-30T14:09:39.657062Z"
    },
    "papermill": {
     "duration": 0.032122,
     "end_time": "2025-07-30T14:09:39.660490",
     "exception": false,
     "start_time": "2025-07-30T14:09:39.628368",
     "status": "completed"
    },
    "tags": []
   },
   "outputs": [],
   "source": [
    "#import pandas as pd\n",
    "#\n",
    "#X_train = pd.read_csv(\"./data/X_train.csv\")\n",
    "#y_train = pd.read_csv(\"./data/y_train.csv\")"
   ]
  },
  {
   "cell_type": "code",
   "execution_count": 12,
   "id": "63d08085",
   "metadata": {
    "execution": {
     "iopub.execute_input": "2025-07-30T14:09:39.707072Z",
     "iopub.status.busy": "2025-07-30T14:09:39.706158Z",
     "iopub.status.idle": "2025-07-30T14:09:39.711457Z",
     "shell.execute_reply": "2025-07-30T14:09:39.710601Z"
    },
    "papermill": {
     "duration": 0.030462,
     "end_time": "2025-07-30T14:09:39.713422",
     "exception": false,
     "start_time": "2025-07-30T14:09:39.682960",
     "status": "completed"
    },
    "tags": []
   },
   "outputs": [],
   "source": [
    "#X_test = pd.read_csv(\"./data/X_test.csv\")\n",
    "#y_true = pd.read_csv(\"./data/y_test.csv\")"
   ]
  },
  {
   "cell_type": "code",
   "execution_count": 13,
   "id": "98a8d0fa-1d3d-4ed8-bb2c-281470e24add",
   "metadata": {
    "execution": {
     "iopub.execute_input": "2025-07-30T14:09:39.755680Z",
     "iopub.status.busy": "2025-07-30T14:09:39.755048Z",
     "iopub.status.idle": "2025-07-30T14:09:39.760078Z",
     "shell.execute_reply": "2025-07-30T14:09:39.758949Z"
    },
    "papermill": {
     "duration": 0.02797,
     "end_time": "2025-07-30T14:09:39.761869",
     "exception": false,
     "start_time": "2025-07-30T14:09:39.733899",
     "status": "completed"
    },
    "tags": []
   },
   "outputs": [],
   "source": [
    "# Calibration data for conformal\n",
    "#X_calib = pd.read_csv(\"./data/X_calib.csv\")\n",
    "#y_calib = pd.read_csv(\"./data/y_calib.csv\")"
   ]
  },
  {
   "cell_type": "markdown",
   "id": "997051c5-15bd-4b69-9786-c3001a3ce484",
   "metadata": {
    "papermill": {
     "duration": 0.020081,
     "end_time": "2025-07-30T14:09:39.803679",
     "exception": false,
     "start_time": "2025-07-30T14:09:39.783598",
     "status": "completed"
    },
    "tags": []
   },
   "source": [
    "# Splitting Data and Setting Training Data Size"
   ]
  },
  {
   "cell_type": "code",
   "execution_count": 14,
   "id": "e993b61f-042d-41a6-8c81-f55681f86335",
   "metadata": {
    "execution": {
     "iopub.execute_input": "2025-07-30T14:09:39.847757Z",
     "iopub.status.busy": "2025-07-30T14:09:39.847064Z",
     "iopub.status.idle": "2025-07-30T14:09:39.860505Z",
     "shell.execute_reply": "2025-07-30T14:09:39.859405Z"
    },
    "papermill": {
     "duration": 0.037757,
     "end_time": "2025-07-30T14:09:39.862652",
     "exception": false,
     "start_time": "2025-07-30T14:09:39.824895",
     "status": "completed"
    },
    "tags": []
   },
   "outputs": [],
   "source": [
    "def sample_by_year_size(df,\n",
    "                        training_year: str,\n",
    "                        training_size: str,\n",
    "                        random_state: int = 42):\n",
    "    # --- parse training_year into a list of int years ---\n",
    "    if \"_\" in training_year:\n",
    "        start_str, end_str = training_year.split(\"_\", 1)\n",
    "        start = int(start_str)\n",
    "        end   = int(end_str) if len(end_str) == 4 else (int(end_str) + (start // 100)*100)\n",
    "        years = list(range(start, end + 1))\n",
    "    else:\n",
    "        years = [int(training_year)]\n",
    "\n",
    "    df = df[df[\"year\"].isin(years)].reset_index(drop=True)\n",
    "\n",
    "    # --- map training_size to total number of samples ---\n",
    "    total_map = {\"25k\": 25_000, \"5k\": 5_000, \"1k\": 1_000}\n",
    "    if training_size not in total_map:\n",
    "        return df  # e.g. \"all\"\n",
    "\n",
    "    total_samples = total_map[training_size]\n",
    "    n_years       = len(years)\n",
    "    base          = total_samples // n_years\n",
    "    remainder     = total_samples % n_years\n",
    "\n",
    "    # --- build a dict: year -> how many to sample ---\n",
    "    # give +1 to the first `remainder` years in ascending order\n",
    "    quotas = {\n",
    "        year: base + (1 if idx < remainder else 0)\n",
    "        for idx, year in enumerate(sorted(years))\n",
    "    }\n",
    "\n",
    "    # --- sample per‐year according to the quota dict ---\n",
    "    sampled = (\n",
    "        df\n",
    "        .groupby(\"year\", group_keys=False)\n",
    "        .apply(lambda grp: grp.sample(\n",
    "            n=min(len(grp), quotas[grp.name]),\n",
    "            random_state=random_state))\n",
    "        .reset_index(drop=True)\n",
    "    )\n",
    "\n",
    "    return sampled"
   ]
  },
  {
   "cell_type": "code",
   "execution_count": 15,
   "id": "c0ccd338-0e02-41f3-a09d-f56f9266e3fb",
   "metadata": {
    "execution": {
     "iopub.execute_input": "2025-07-30T14:09:39.918364Z",
     "iopub.status.busy": "2025-07-30T14:09:39.917588Z",
     "iopub.status.idle": "2025-07-30T14:09:39.931634Z",
     "shell.execute_reply": "2025-07-30T14:09:39.930511Z"
    },
    "papermill": {
     "duration": 0.043649,
     "end_time": "2025-07-30T14:09:39.933385",
     "exception": false,
     "start_time": "2025-07-30T14:09:39.889736",
     "status": "completed"
    },
    "tags": []
   },
   "outputs": [
    {
     "data": {
      "text/plain": [
       "'5k'"
      ]
     },
     "execution_count": 15,
     "metadata": {},
     "output_type": "execute_result"
    }
   ],
   "source": [
    "universe[\"training_size\"]"
   ]
  },
  {
   "cell_type": "code",
   "execution_count": 16,
   "id": "ca707fd7-8047-4acd-bfa5-66248fbbf8e6",
   "metadata": {
    "execution": {
     "iopub.execute_input": "2025-07-30T14:09:39.976432Z",
     "iopub.status.busy": "2025-07-30T14:09:39.975741Z",
     "iopub.status.idle": "2025-07-30T14:09:39.983968Z",
     "shell.execute_reply": "2025-07-30T14:09:39.983016Z"
    },
    "papermill": {
     "duration": 0.031278,
     "end_time": "2025-07-30T14:09:39.985568",
     "exception": false,
     "start_time": "2025-07-30T14:09:39.954290",
     "status": "completed"
    },
    "tags": []
   },
   "outputs": [
    {
     "data": {
      "text/plain": [
       "'2010_14'"
      ]
     },
     "execution_count": 16,
     "metadata": {},
     "output_type": "execute_result"
    }
   ],
   "source": [
    "universe[\"training_year\"]"
   ]
  },
  {
   "cell_type": "code",
   "execution_count": 17,
   "id": "aea9c6ef-6f46-42c8-85eb-5a62025c1508",
   "metadata": {
    "execution": {
     "iopub.execute_input": "2025-07-30T14:09:40.030991Z",
     "iopub.status.busy": "2025-07-30T14:09:40.030047Z",
     "iopub.status.idle": "2025-07-30T14:09:41.649723Z",
     "shell.execute_reply": "2025-07-30T14:09:41.648472Z"
    },
    "papermill": {
     "duration": 1.645039,
     "end_time": "2025-07-30T14:09:41.652198",
     "exception": false,
     "start_time": "2025-07-30T14:09:40.007159",
     "status": "completed"
    },
    "tags": []
   },
   "outputs": [],
   "source": [
    "siab_train = sample_by_year_size(siab,\n",
    "                               training_year=universe[\"training_year\"],\n",
    "                               training_size=universe[\"training_size\"])"
   ]
  },
  {
   "cell_type": "code",
   "execution_count": 18,
   "id": "8d3afb32-789d-442c-8d5d-9f5aa8dd2eed",
   "metadata": {
    "execution": {
     "iopub.execute_input": "2025-07-30T14:09:41.715780Z",
     "iopub.status.busy": "2025-07-30T14:09:41.715137Z",
     "iopub.status.idle": "2025-07-30T14:09:41.724259Z",
     "shell.execute_reply": "2025-07-30T14:09:41.723071Z"
    },
    "papermill": {
     "duration": 0.04363,
     "end_time": "2025-07-30T14:09:41.726152",
     "exception": false,
     "start_time": "2025-07-30T14:09:41.682522",
     "status": "completed"
    },
    "tags": []
   },
   "outputs": [
    {
     "data": {
      "text/plain": [
       "(5000, 164)"
      ]
     },
     "execution_count": 18,
     "metadata": {},
     "output_type": "execute_result"
    }
   ],
   "source": [
    "siab_train.shape"
   ]
  },
  {
   "cell_type": "code",
   "execution_count": 19,
   "id": "d582db68-1a4c-47fb-84fc-08518dc1975a",
   "metadata": {
    "execution": {
     "iopub.execute_input": "2025-07-30T14:09:41.771796Z",
     "iopub.status.busy": "2025-07-30T14:09:41.771083Z",
     "iopub.status.idle": "2025-07-30T14:09:41.784771Z",
     "shell.execute_reply": "2025-07-30T14:09:41.783285Z"
    },
    "papermill": {
     "duration": 0.038556,
     "end_time": "2025-07-30T14:09:41.786704",
     "exception": false,
     "start_time": "2025-07-30T14:09:41.748148",
     "status": "completed"
    },
    "tags": []
   },
   "outputs": [
    {
     "data": {
      "text/plain": [
       "year\n",
       "2010    1000\n",
       "2011    1000\n",
       "2012    1000\n",
       "2013    1000\n",
       "2014    1000\n",
       "dtype: int64"
      ]
     },
     "metadata": {},
     "output_type": "display_data"
    }
   ],
   "source": [
    "display(siab_train.groupby(\"year\").size())"
   ]
  },
  {
   "cell_type": "code",
   "execution_count": 20,
   "id": "a561edb4-d032-42cb-8256-22eac1111c64",
   "metadata": {
    "execution": {
     "iopub.execute_input": "2025-07-30T14:09:41.832879Z",
     "iopub.status.busy": "2025-07-30T14:09:41.831785Z",
     "iopub.status.idle": "2025-07-30T14:09:42.141017Z",
     "shell.execute_reply": "2025-07-30T14:09:42.140284Z"
    },
    "papermill": {
     "duration": 0.333778,
     "end_time": "2025-07-30T14:09:42.142854",
     "exception": false,
     "start_time": "2025-07-30T14:09:41.809076",
     "status": "completed"
    },
    "tags": []
   },
   "outputs": [],
   "source": [
    "#siab_train = siab_s[siab_s.year < 2015]\n",
    "siab_calib = siab[siab.year == 2015]\n",
    "siab_test = siab[siab.year == 2016]"
   ]
  },
  {
   "cell_type": "code",
   "execution_count": 21,
   "id": "472de16f-c3db-4916-846b-1f0de9cf1746",
   "metadata": {
    "execution": {
     "iopub.execute_input": "2025-07-30T14:09:42.204873Z",
     "iopub.status.busy": "2025-07-30T14:09:42.204475Z",
     "iopub.status.idle": "2025-07-30T14:09:42.212592Z",
     "shell.execute_reply": "2025-07-30T14:09:42.211469Z"
    },
    "papermill": {
     "duration": 0.033463,
     "end_time": "2025-07-30T14:09:42.214143",
     "exception": false,
     "start_time": "2025-07-30T14:09:42.180680",
     "status": "completed"
    },
    "tags": []
   },
   "outputs": [],
   "source": [
    "X_train = siab_train.iloc[:,4:164]\n",
    "y_train = siab_train.iloc[:, [3]]"
   ]
  },
  {
   "cell_type": "code",
   "execution_count": 22,
   "id": "828c96af-f43a-4ed6-ba47-8ac73a47d56c",
   "metadata": {
    "execution": {
     "iopub.execute_input": "2025-07-30T14:09:42.261847Z",
     "iopub.status.busy": "2025-07-30T14:09:42.261356Z",
     "iopub.status.idle": "2025-07-30T14:09:42.317527Z",
     "shell.execute_reply": "2025-07-30T14:09:42.316279Z"
    },
    "papermill": {
     "duration": 0.084417,
     "end_time": "2025-07-30T14:09:42.321251",
     "exception": false,
     "start_time": "2025-07-30T14:09:42.236834",
     "status": "completed"
    },
    "tags": []
   },
   "outputs": [],
   "source": [
    "X_calib = siab_calib.iloc[:,4:164]\n",
    "y_calib = siab_calib.iloc[:, [3]]"
   ]
  },
  {
   "cell_type": "code",
   "execution_count": 23,
   "id": "c34be9c3-6bd6-476e-acd3-845840e303be",
   "metadata": {
    "execution": {
     "iopub.execute_input": "2025-07-30T14:09:42.369262Z",
     "iopub.status.busy": "2025-07-30T14:09:42.368283Z",
     "iopub.status.idle": "2025-07-30T14:09:42.422919Z",
     "shell.execute_reply": "2025-07-30T14:09:42.421755Z"
    },
    "papermill": {
     "duration": 0.080785,
     "end_time": "2025-07-30T14:09:42.424866",
     "exception": false,
     "start_time": "2025-07-30T14:09:42.344081",
     "status": "completed"
    },
    "tags": []
   },
   "outputs": [],
   "source": [
    "X_test = siab_test.iloc[:,4:164]\n",
    "y_true = siab_test.iloc[:, [3]]"
   ]
  },
  {
   "cell_type": "markdown",
   "id": "9901737e-04df-44f0-9100-f5ad144ed040",
   "metadata": {
    "papermill": {
     "duration": 0.020762,
     "end_time": "2025-07-30T14:09:42.468951",
     "exception": false,
     "start_time": "2025-07-30T14:09:42.448189",
     "status": "completed"
    },
    "tags": []
   },
   "source": [
    "# Splitting Data and Setting Training Data Size OLD VERSION"
   ]
  },
  {
   "cell_type": "code",
   "execution_count": 24,
   "id": "acbc8f7d-8fc8-4e86-8c59-5dcb0f58384b",
   "metadata": {
    "execution": {
     "iopub.execute_input": "2025-07-30T14:09:42.518955Z",
     "iopub.status.busy": "2025-07-30T14:09:42.518444Z",
     "iopub.status.idle": "2025-07-30T14:09:42.524758Z",
     "shell.execute_reply": "2025-07-30T14:09:42.523707Z"
    },
    "papermill": {
     "duration": 0.034563,
     "end_time": "2025-07-30T14:09:42.526859",
     "exception": false,
     "start_time": "2025-07-30T14:09:42.492296",
     "status": "completed"
    },
    "tags": []
   },
   "outputs": [],
   "source": [
    "#def sample_by_year(df, training_size, random_state=42):\n",
    "#    if training_size == \"2014\":\n",
    "#        return df[df[\"year\"] == 2014].reset_index(drop=True)\n",
    "#    \n",
    "#    size_map = {\n",
    "#        \"25k\": 5000,\n",
    "#        \"5k\": 1000,\n",
    "#        \"1k\": 200\n",
    "#    }\n",
    "#\n",
    "#    if training_size not in size_map:\n",
    "#        return df.reset_index(drop=True)  # use all data\n",
    "#\n",
    "#    n_per_year = size_map[training_size]\n",
    "#    grouped = df.groupby(\"year\")\n",
    "#    sampled = grouped.apply(lambda x: x.sample(n=min(n_per_year, len(x)), random_state=random_state))\n",
    "#    return sampled.reset_index(drop=True)"
   ]
  },
  {
   "cell_type": "code",
   "execution_count": 25,
   "id": "6d931f52-beaf-43ff-9e78-9d44a448d54e",
   "metadata": {
    "execution": {
     "iopub.execute_input": "2025-07-30T14:09:42.576911Z",
     "iopub.status.busy": "2025-07-30T14:09:42.576411Z",
     "iopub.status.idle": "2025-07-30T14:09:42.581837Z",
     "shell.execute_reply": "2025-07-30T14:09:42.580790Z"
    },
    "papermill": {
     "duration": 0.031691,
     "end_time": "2025-07-30T14:09:42.583577",
     "exception": false,
     "start_time": "2025-07-30T14:09:42.551886",
     "status": "completed"
    },
    "tags": []
   },
   "outputs": [],
   "source": [
    "#siab_s = sample_by_year(siab, universe[\"training_size\"])"
   ]
  },
  {
   "cell_type": "code",
   "execution_count": 26,
   "id": "5db0a40e-a4e2-4920-be85-b12ae061d70d",
   "metadata": {
    "execution": {
     "iopub.execute_input": "2025-07-30T14:09:42.635891Z",
     "iopub.status.busy": "2025-07-30T14:09:42.635163Z",
     "iopub.status.idle": "2025-07-30T14:09:42.640627Z",
     "shell.execute_reply": "2025-07-30T14:09:42.639607Z"
    },
    "papermill": {
     "duration": 0.033081,
     "end_time": "2025-07-30T14:09:42.642429",
     "exception": false,
     "start_time": "2025-07-30T14:09:42.609348",
     "status": "completed"
    },
    "tags": []
   },
   "outputs": [],
   "source": [
    "#display(siab_s.groupby(\"year\").size())"
   ]
  },
  {
   "cell_type": "code",
   "execution_count": 27,
   "id": "e6c733c5",
   "metadata": {
    "execution": {
     "iopub.execute_input": "2025-07-30T14:09:42.689575Z",
     "iopub.status.busy": "2025-07-30T14:09:42.689202Z",
     "iopub.status.idle": "2025-07-30T14:09:42.786110Z",
     "shell.execute_reply": "2025-07-30T14:09:42.785196Z"
    },
    "papermill": {
     "duration": 0.122058,
     "end_time": "2025-07-30T14:09:42.787665",
     "exception": false,
     "start_time": "2025-07-30T14:09:42.665607",
     "status": "completed"
    },
    "tags": []
   },
   "outputs": [],
   "source": [
    "# Auxiliary data needed downstream in the pipeline\n",
    "\n",
    "org_train = X_train.copy()\n",
    "org_test = X_test.copy()\n",
    "org_calib = X_calib.copy()"
   ]
  },
  {
   "cell_type": "code",
   "execution_count": 28,
   "id": "1466abac-c6da-4492-a62f-4240ae3783af",
   "metadata": {
    "execution": {
     "iopub.execute_input": "2025-07-30T14:09:42.815302Z",
     "iopub.status.busy": "2025-07-30T14:09:42.814785Z",
     "iopub.status.idle": "2025-07-30T14:09:42.819905Z",
     "shell.execute_reply": "2025-07-30T14:09:42.819199Z"
    },
    "papermill": {
     "duration": 0.020464,
     "end_time": "2025-07-30T14:09:42.821443",
     "exception": false,
     "start_time": "2025-07-30T14:09:42.800979",
     "status": "completed"
    },
    "tags": []
   },
   "outputs": [],
   "source": [
    "# put in other script?\n",
    "# Group sizes\n",
    "\n",
    "#def calculate_percentages(df, df_name):\n",
    "#    total_entries = len(df)\n",
    "#\n",
    "#    female_pct = (df['frau1'] == 1).mean() * 100\n",
    "#    non_german_pct = ((df['maxdeutsch1'] == 0) & (df['maxdeutsch.Missing.'] == 0)).mean() * 100\n",
    "#    non_german_male_pct = ((df['frau1'] == 0) & (df['maxdeutsch1'] == 0) & (df['maxdeutsch.Missing.'] == 0)).mean() * 100\n",
    "#    non_german_female_pct = ((df['frau1'] == 1) & (df['maxdeutsch1'] == 0) & (df['maxdeutsch.Missing.'] == 0)).mean() * 100\n",
    "#\n",
    "#    print(f\"--- {df_name} ---\")\n",
    "#    print(f\"Female: {female_pct:.2f}%\")\n",
    "#    print(f\"Non-German: {non_german_pct:.2f}%\")\n",
    "#    print(f\"Non-German Male: {non_german_male_pct:.2f}%\")\n",
    "#    print(f\"Non-German Female: {non_german_female_pct:.2f}%\\n\")\n",
    "#\n",
    "## Calculate for each DataFrame\n",
    "#calculate_percentages(siab_calib, \"siab_calib\")\n",
    "#calculate_percentages(siab_test, \"siab_test\")\n",
    "#calculate_percentages(siab_train, \"siab_train\")"
   ]
  },
  {
   "cell_type": "markdown",
   "id": "0a4a1b33",
   "metadata": {
    "papermill": {
     "duration": 0.011606,
     "end_time": "2025-07-30T14:09:42.846531",
     "exception": false,
     "start_time": "2025-07-30T14:09:42.834925",
     "status": "completed"
    },
    "tags": []
   },
   "source": [
    "# Preprocessing Data"
   ]
  },
  {
   "cell_type": "code",
   "execution_count": 29,
   "id": "ca879031",
   "metadata": {
    "execution": {
     "iopub.execute_input": "2025-07-30T14:09:42.871191Z",
     "iopub.status.busy": "2025-07-30T14:09:42.870692Z",
     "iopub.status.idle": "2025-07-30T14:09:42.876107Z",
     "shell.execute_reply": "2025-07-30T14:09:42.875358Z"
    },
    "papermill": {
     "duration": 0.019455,
     "end_time": "2025-07-30T14:09:42.877421",
     "exception": false,
     "start_time": "2025-07-30T14:09:42.857966",
     "status": "completed"
    },
    "tags": []
   },
   "outputs": [],
   "source": [
    "# EXCLUDE PROTECTED FEATURES\n",
    "# ----------------------\n",
    "# \"exclude_features\": \"none\", # \"nationality\", \"sex\", \"nationality-sex\"\n",
    "\n",
    "excluded_features = universe[\"exclude_features\"].split(\"-\") # split, e.g.: \"nationality-sex\" -> [\"nationality\", \"sex\"]\n",
    "excluded_features_dictionary = {\n",
    "    \"nationality\": [\"maxdeutsch1\", \"maxdeutsch.Missing.\"],\n",
    "    \"sex\": [\"frau1\"],\n",
    "    \"age\": [\"age\"],\n",
    "}\n"
   ]
  },
  {
   "cell_type": "code",
   "execution_count": 30,
   "id": "b745ac60",
   "metadata": {
    "execution": {
     "iopub.execute_input": "2025-07-30T14:09:42.903924Z",
     "iopub.status.busy": "2025-07-30T14:09:42.903539Z",
     "iopub.status.idle": "2025-07-30T14:09:42.908585Z",
     "shell.execute_reply": "2025-07-30T14:09:42.907833Z"
    },
    "papermill": {
     "duration": 0.019766,
     "end_time": "2025-07-30T14:09:42.910222",
     "exception": false,
     "start_time": "2025-07-30T14:09:42.890456",
     "status": "completed"
    },
    "tags": []
   },
   "outputs": [],
   "source": [
    "# Code nice names to column names\n",
    "\n",
    "excluded_features_columns = [\n",
    "    excluded_features_dictionary[f] for f in excluded_features if len(f) > 0 and f != \"none\"\n",
    "]"
   ]
  },
  {
   "cell_type": "code",
   "execution_count": 31,
   "id": "f84f73a2",
   "metadata": {
    "execution": {
     "iopub.execute_input": "2025-07-30T14:09:42.960134Z",
     "iopub.status.busy": "2025-07-30T14:09:42.959604Z",
     "iopub.status.idle": "2025-07-30T14:09:42.966305Z",
     "shell.execute_reply": "2025-07-30T14:09:42.965241Z"
    },
    "papermill": {
     "duration": 0.032637,
     "end_time": "2025-07-30T14:09:42.968382",
     "exception": false,
     "start_time": "2025-07-30T14:09:42.935745",
     "status": "completed"
    },
    "tags": []
   },
   "outputs": [],
   "source": [
    "from utils import flatten_once\n",
    "\n",
    "excluded_features_columns = flatten_once(excluded_features_columns)"
   ]
  },
  {
   "cell_type": "code",
   "execution_count": 32,
   "id": "884dea22",
   "metadata": {
    "execution": {
     "iopub.execute_input": "2025-07-30T14:09:43.017633Z",
     "iopub.status.busy": "2025-07-30T14:09:43.016868Z",
     "iopub.status.idle": "2025-07-30T14:09:43.023569Z",
     "shell.execute_reply": "2025-07-30T14:09:43.022503Z"
    },
    "papermill": {
     "duration": 0.032563,
     "end_time": "2025-07-30T14:09:43.025541",
     "exception": false,
     "start_time": "2025-07-30T14:09:42.992978",
     "status": "completed"
    },
    "tags": []
   },
   "outputs": [],
   "source": [
    "if len(excluded_features_columns) > 0:\n",
    "    print(f\"Dropping features: {excluded_features_columns}\")\n",
    "    X_train.drop(excluded_features_columns, axis=1, inplace=True)"
   ]
  },
  {
   "cell_type": "code",
   "execution_count": 33,
   "id": "95ab8b16",
   "metadata": {
    "execution": {
     "iopub.execute_input": "2025-07-30T14:09:43.076468Z",
     "iopub.status.busy": "2025-07-30T14:09:43.075520Z",
     "iopub.status.idle": "2025-07-30T14:09:43.081951Z",
     "shell.execute_reply": "2025-07-30T14:09:43.080744Z"
    },
    "papermill": {
     "duration": 0.033618,
     "end_time": "2025-07-30T14:09:43.083815",
     "exception": false,
     "start_time": "2025-07-30T14:09:43.050197",
     "status": "completed"
    },
    "tags": []
   },
   "outputs": [],
   "source": [
    "if len(excluded_features_columns) > 0:\n",
    "    print(f\"Dropping features: {excluded_features_columns}\")\n",
    "    X_test.drop(excluded_features_columns, axis=1, inplace=True)"
   ]
  },
  {
   "cell_type": "code",
   "execution_count": 34,
   "id": "1853aaf5-fb9f-46cb-a2b5-8ea4ae2237e4",
   "metadata": {
    "execution": {
     "iopub.execute_input": "2025-07-30T14:09:43.136421Z",
     "iopub.status.busy": "2025-07-30T14:09:43.135622Z",
     "iopub.status.idle": "2025-07-30T14:09:43.141945Z",
     "shell.execute_reply": "2025-07-30T14:09:43.140851Z"
    },
    "papermill": {
     "duration": 0.035082,
     "end_time": "2025-07-30T14:09:43.144084",
     "exception": false,
     "start_time": "2025-07-30T14:09:43.109002",
     "status": "completed"
    },
    "tags": []
   },
   "outputs": [],
   "source": [
    "if len(excluded_features_columns) > 0:\n",
    "    print(f\"Dropping features: {excluded_features_columns}\")\n",
    "    X_calib.drop(excluded_features_columns, axis=1, inplace=True)"
   ]
  },
  {
   "cell_type": "code",
   "execution_count": 35,
   "id": "6727d079-03e5-481e-9d38-292a90b7a0a8",
   "metadata": {
    "execution": {
     "iopub.execute_input": "2025-07-30T14:09:43.196200Z",
     "iopub.status.busy": "2025-07-30T14:09:43.195033Z",
     "iopub.status.idle": "2025-07-30T14:09:43.200881Z",
     "shell.execute_reply": "2025-07-30T14:09:43.199617Z"
    },
    "papermill": {
     "duration": 0.033823,
     "end_time": "2025-07-30T14:09:43.202765",
     "exception": false,
     "start_time": "2025-07-30T14:09:43.168942",
     "status": "completed"
    },
    "tags": []
   },
   "outputs": [],
   "source": [
    "# SPLIT & STRATIFY DATA\n",
    "# ----------------------"
   ]
  },
  {
   "cell_type": "code",
   "execution_count": 36,
   "id": "76c4dc6d",
   "metadata": {
    "execution": {
     "iopub.execute_input": "2025-07-30T14:09:43.253898Z",
     "iopub.status.busy": "2025-07-30T14:09:43.253342Z",
     "iopub.status.idle": "2025-07-30T14:09:43.259557Z",
     "shell.execute_reply": "2025-07-30T14:09:43.258351Z"
    },
    "papermill": {
     "duration": 0.033495,
     "end_time": "2025-07-30T14:09:43.261604",
     "exception": false,
     "start_time": "2025-07-30T14:09:43.228109",
     "status": "completed"
    },
    "tags": []
   },
   "outputs": [],
   "source": [
    "# EXCLUDE CERTAIN SUBGROUPS\n",
    "# ----------------------\n",
    "\n",
    "mode = universe.get(\"exclude_subgroups\", \"keep-all\") \n",
    "# Fetches the exclude_subgroups setting from the universe dict.\n",
    "# Defaults to \"keep-all\" if the key is missing."
   ]
  },
  {
   "cell_type": "code",
   "execution_count": 37,
   "id": "21994072",
   "metadata": {
    "execution": {
     "iopub.execute_input": "2025-07-30T14:09:43.313629Z",
     "iopub.status.busy": "2025-07-30T14:09:43.312699Z",
     "iopub.status.idle": "2025-07-30T14:09:43.320330Z",
     "shell.execute_reply": "2025-07-30T14:09:43.319097Z"
    },
    "papermill": {
     "duration": 0.035137,
     "end_time": "2025-07-30T14:09:43.322400",
     "exception": false,
     "start_time": "2025-07-30T14:09:43.287263",
     "status": "completed"
    },
    "tags": []
   },
   "outputs": [],
   "source": [
    "if mode == \"keep-all\":\n",
    "    keep_mask = pd.Series(True, index=org_train.index)\n",
    "\n",
    "# org_train contains the original feature columns from features_org (in Simson)\n",
    "# features_org contains unprocessed features, for me X_train at beginning ???\n",
    "# For keep-all, creates a boolean Series (keep_mask) of all True, so no rows are removed.\n",
    "\n",
    "elif mode == \"drop-non-german\":\n",
    "    keep_mask = org_train[\"maxdeutsch1\"] == 1 # ??? what about missing values?\n",
    "\n",
    "else:\n",
    "    raise ValueError(f\"Unsupported mode for exclude_subgroups: {mode}\")\n"
   ]
  },
  {
   "cell_type": "code",
   "execution_count": 38,
   "id": "71651440",
   "metadata": {
    "execution": {
     "iopub.execute_input": "2025-07-30T14:09:43.375452Z",
     "iopub.status.busy": "2025-07-30T14:09:43.374879Z",
     "iopub.status.idle": "2025-07-30T14:09:43.382414Z",
     "shell.execute_reply": "2025-07-30T14:09:43.381328Z"
    },
    "papermill": {
     "duration": 0.035778,
     "end_time": "2025-07-30T14:09:43.384484",
     "exception": false,
     "start_time": "2025-07-30T14:09:43.348706",
     "status": "completed"
    },
    "tags": []
   },
   "outputs": [],
   "source": [
    "n_drop = (~keep_mask).sum() # Calculates how many rows are set to be dropped\n",
    "if n_drop > 0:\n",
    "    pct = n_drop / len(keep_mask) * 100\n",
    "    print(f\"Dropping {n_drop} rows ({pct:.2f}%) where mode='{mode}'\")"
   ]
  },
  {
   "cell_type": "code",
   "execution_count": 39,
   "id": "5fb8eee5",
   "metadata": {
    "execution": {
     "iopub.execute_input": "2025-07-30T14:09:43.438161Z",
     "iopub.status.busy": "2025-07-30T14:09:43.437447Z",
     "iopub.status.idle": "2025-07-30T14:09:43.446310Z",
     "shell.execute_reply": "2025-07-30T14:09:43.445137Z"
    },
    "papermill": {
     "duration": 0.037527,
     "end_time": "2025-07-30T14:09:43.448354",
     "exception": false,
     "start_time": "2025-07-30T14:09:43.410827",
     "status": "completed"
    },
    "tags": []
   },
   "outputs": [],
   "source": [
    "X_train = X_train[keep_mask]"
   ]
  },
  {
   "cell_type": "code",
   "execution_count": 40,
   "id": "b202bb3a",
   "metadata": {
    "execution": {
     "iopub.execute_input": "2025-07-30T14:09:43.500862Z",
     "iopub.status.busy": "2025-07-30T14:09:43.500328Z",
     "iopub.status.idle": "2025-07-30T14:09:43.506800Z",
     "shell.execute_reply": "2025-07-30T14:09:43.505878Z"
    },
    "papermill": {
     "duration": 0.033626,
     "end_time": "2025-07-30T14:09:43.508208",
     "exception": false,
     "start_time": "2025-07-30T14:09:43.474582",
     "status": "completed"
    },
    "tags": []
   },
   "outputs": [],
   "source": [
    "y_train = y_train[keep_mask]"
   ]
  },
  {
   "cell_type": "markdown",
   "id": "493e2ac3",
   "metadata": {
    "papermill": {
     "duration": 0.012695,
     "end_time": "2025-07-30T14:09:43.535694",
     "exception": false,
     "start_time": "2025-07-30T14:09:43.522999",
     "status": "completed"
    },
    "tags": []
   },
   "source": [
    "# Model Training"
   ]
  },
  {
   "cell_type": "code",
   "execution_count": 41,
   "id": "679e1268",
   "metadata": {
    "execution": {
     "iopub.execute_input": "2025-07-30T14:09:43.577012Z",
     "iopub.status.busy": "2025-07-30T14:09:43.576463Z",
     "iopub.status.idle": "2025-07-30T14:09:43.680418Z",
     "shell.execute_reply": "2025-07-30T14:09:43.679519Z"
    },
    "papermill": {
     "duration": 0.132455,
     "end_time": "2025-07-30T14:09:43.681973",
     "exception": false,
     "start_time": "2025-07-30T14:09:43.549518",
     "status": "completed"
    },
    "tags": []
   },
   "outputs": [],
   "source": [
    "from sklearn.linear_model import LogisticRegression\n",
    "from sklearn.ensemble import GradientBoostingClassifier, RandomForestClassifier\n",
    "\n",
    "if (universe[\"model\"] == \"logreg\"):\n",
    "    model = LogisticRegression() #penalty=\"none\") #, solver=\"newton-cg\", max_iter=1) # include random_state=19 ?\n",
    "elif (universe[\"model\"] == \"penalized_logreg\"):\n",
    "    model = LogisticRegression(penalty=\"l2\", C=1.0) #, solver=\"newton-cg\", max_iter=1)\n",
    "elif (universe[\"model\"] == \"rf\"):\n",
    "    model = RandomForestClassifier(n_estimators=100, n_jobs=-1)\n",
    "elif (universe[\"model\"] == \"gbm\"):\n",
    "    model = GradientBoostingClassifier()\n",
    "elif (universe[\"model\"] == \"elasticnet\"):\n",
    "    model = LogisticRegression(penalty = 'elasticnet', solver = 'saga', l1_ratio = 0.5, max_iter=5000) # which solver to use?\n",
    "else:\n",
    "    raise \"Unsupported universe.model\""
   ]
  },
  {
   "cell_type": "code",
   "execution_count": 42,
   "id": "0cc8f744",
   "metadata": {
    "execution": {
     "iopub.execute_input": "2025-07-30T14:09:43.709329Z",
     "iopub.status.busy": "2025-07-30T14:09:43.708966Z",
     "iopub.status.idle": "2025-07-30T14:09:43.714128Z",
     "shell.execute_reply": "2025-07-30T14:09:43.713311Z"
    },
    "papermill": {
     "duration": 0.019988,
     "end_time": "2025-07-30T14:09:43.715325",
     "exception": false,
     "start_time": "2025-07-30T14:09:43.695337",
     "status": "completed"
    },
    "tags": []
   },
   "outputs": [],
   "source": [
    "import numpy as np\n",
    "from sklearn.pipeline import Pipeline\n",
    "from sklearn.preprocessing import StandardScaler\n",
    "\n",
    "model = Pipeline([\n",
    "    #(\"continuous_processor\", continuous_processor),\n",
    "    #(\"categorical_preprocessor\", categorical_preprocessor),\n",
    "    (\"scale\", StandardScaler() if universe[\"scale\"] == \"scale\" else None), \n",
    "    (\"model\", model),\n",
    "])"
   ]
  },
  {
   "cell_type": "code",
   "execution_count": 43,
   "id": "9442c04d",
   "metadata": {
    "execution": {
     "iopub.execute_input": "2025-07-30T14:09:43.742306Z",
     "iopub.status.busy": "2025-07-30T14:09:43.741855Z",
     "iopub.status.idle": "2025-07-30T14:09:48.992295Z",
     "shell.execute_reply": "2025-07-30T14:09:48.991257Z"
    },
    "papermill": {
     "duration": 5.265865,
     "end_time": "2025-07-30T14:09:48.993961",
     "exception": false,
     "start_time": "2025-07-30T14:09:43.728096",
     "status": "completed"
    },
    "tags": []
   },
   "outputs": [
    {
     "data": {
      "text/html": [
       "<style>#sk-container-id-1 {color: black;background-color: white;}#sk-container-id-1 pre{padding: 0;}#sk-container-id-1 div.sk-toggleable {background-color: white;}#sk-container-id-1 label.sk-toggleable__label {cursor: pointer;display: block;width: 100%;margin-bottom: 0;padding: 0.3em;box-sizing: border-box;text-align: center;}#sk-container-id-1 label.sk-toggleable__label-arrow:before {content: \"▸\";float: left;margin-right: 0.25em;color: #696969;}#sk-container-id-1 label.sk-toggleable__label-arrow:hover:before {color: black;}#sk-container-id-1 div.sk-estimator:hover label.sk-toggleable__label-arrow:before {color: black;}#sk-container-id-1 div.sk-toggleable__content {max-height: 0;max-width: 0;overflow: hidden;text-align: left;background-color: #f0f8ff;}#sk-container-id-1 div.sk-toggleable__content pre {margin: 0.2em;color: black;border-radius: 0.25em;background-color: #f0f8ff;}#sk-container-id-1 input.sk-toggleable__control:checked~div.sk-toggleable__content {max-height: 200px;max-width: 100%;overflow: auto;}#sk-container-id-1 input.sk-toggleable__control:checked~label.sk-toggleable__label-arrow:before {content: \"▾\";}#sk-container-id-1 div.sk-estimator input.sk-toggleable__control:checked~label.sk-toggleable__label {background-color: #d4ebff;}#sk-container-id-1 div.sk-label input.sk-toggleable__control:checked~label.sk-toggleable__label {background-color: #d4ebff;}#sk-container-id-1 input.sk-hidden--visually {border: 0;clip: rect(1px 1px 1px 1px);clip: rect(1px, 1px, 1px, 1px);height: 1px;margin: -1px;overflow: hidden;padding: 0;position: absolute;width: 1px;}#sk-container-id-1 div.sk-estimator {font-family: monospace;background-color: #f0f8ff;border: 1px dotted black;border-radius: 0.25em;box-sizing: border-box;margin-bottom: 0.5em;}#sk-container-id-1 div.sk-estimator:hover {background-color: #d4ebff;}#sk-container-id-1 div.sk-parallel-item::after {content: \"\";width: 100%;border-bottom: 1px solid gray;flex-grow: 1;}#sk-container-id-1 div.sk-label:hover label.sk-toggleable__label {background-color: #d4ebff;}#sk-container-id-1 div.sk-serial::before {content: \"\";position: absolute;border-left: 1px solid gray;box-sizing: border-box;top: 0;bottom: 0;left: 50%;z-index: 0;}#sk-container-id-1 div.sk-serial {display: flex;flex-direction: column;align-items: center;background-color: white;padding-right: 0.2em;padding-left: 0.2em;position: relative;}#sk-container-id-1 div.sk-item {position: relative;z-index: 1;}#sk-container-id-1 div.sk-parallel {display: flex;align-items: stretch;justify-content: center;background-color: white;position: relative;}#sk-container-id-1 div.sk-item::before, #sk-container-id-1 div.sk-parallel-item::before {content: \"\";position: absolute;border-left: 1px solid gray;box-sizing: border-box;top: 0;bottom: 0;left: 50%;z-index: -1;}#sk-container-id-1 div.sk-parallel-item {display: flex;flex-direction: column;z-index: 1;position: relative;background-color: white;}#sk-container-id-1 div.sk-parallel-item:first-child::after {align-self: flex-end;width: 50%;}#sk-container-id-1 div.sk-parallel-item:last-child::after {align-self: flex-start;width: 50%;}#sk-container-id-1 div.sk-parallel-item:only-child::after {width: 0;}#sk-container-id-1 div.sk-dashed-wrapped {border: 1px dashed gray;margin: 0 0.4em 0.5em 0.4em;box-sizing: border-box;padding-bottom: 0.4em;background-color: white;}#sk-container-id-1 div.sk-label label {font-family: monospace;font-weight: bold;display: inline-block;line-height: 1.2em;}#sk-container-id-1 div.sk-label-container {text-align: center;}#sk-container-id-1 div.sk-container {/* jupyter's `normalize.less` sets `[hidden] { display: none; }` but bootstrap.min.css set `[hidden] { display: none !important; }` so we also need the `!important` here to be able to override the default hidden behavior on the sphinx rendered scikit-learn.org. See: https://github.com/scikit-learn/scikit-learn/issues/21755 */display: inline-block !important;position: relative;}#sk-container-id-1 div.sk-text-repr-fallback {display: none;}</style><div id=\"sk-container-id-1\" class=\"sk-top-container\"><div class=\"sk-text-repr-fallback\"><pre>Pipeline(steps=[(&#x27;scale&#x27;, StandardScaler()),\n",
       "                (&#x27;model&#x27;, GradientBoostingClassifier())])</pre><b>In a Jupyter environment, please rerun this cell to show the HTML representation or trust the notebook. <br />On GitHub, the HTML representation is unable to render, please try loading this page with nbviewer.org.</b></div><div class=\"sk-container\" hidden><div class=\"sk-item sk-dashed-wrapped\"><div class=\"sk-label-container\"><div class=\"sk-label sk-toggleable\"><input class=\"sk-toggleable__control sk-hidden--visually\" id=\"sk-estimator-id-1\" type=\"checkbox\" ><label for=\"sk-estimator-id-1\" class=\"sk-toggleable__label sk-toggleable__label-arrow\">Pipeline</label><div class=\"sk-toggleable__content\"><pre>Pipeline(steps=[(&#x27;scale&#x27;, StandardScaler()),\n",
       "                (&#x27;model&#x27;, GradientBoostingClassifier())])</pre></div></div></div><div class=\"sk-serial\"><div class=\"sk-item\"><div class=\"sk-estimator sk-toggleable\"><input class=\"sk-toggleable__control sk-hidden--visually\" id=\"sk-estimator-id-2\" type=\"checkbox\" ><label for=\"sk-estimator-id-2\" class=\"sk-toggleable__label sk-toggleable__label-arrow\">StandardScaler</label><div class=\"sk-toggleable__content\"><pre>StandardScaler()</pre></div></div></div><div class=\"sk-item\"><div class=\"sk-estimator sk-toggleable\"><input class=\"sk-toggleable__control sk-hidden--visually\" id=\"sk-estimator-id-3\" type=\"checkbox\" ><label for=\"sk-estimator-id-3\" class=\"sk-toggleable__label sk-toggleable__label-arrow\">GradientBoostingClassifier</label><div class=\"sk-toggleable__content\"><pre>GradientBoostingClassifier()</pre></div></div></div></div></div></div></div>"
      ],
      "text/plain": [
       "Pipeline(steps=[('scale', StandardScaler()),\n",
       "                ('model', GradientBoostingClassifier())])"
      ]
     },
     "execution_count": 43,
     "metadata": {},
     "output_type": "execute_result"
    }
   ],
   "source": [
    "model.fit(X_train, y_train.values.ravel())"
   ]
  },
  {
   "cell_type": "code",
   "execution_count": 44,
   "id": "af59f8c0",
   "metadata": {
    "execution": {
     "iopub.execute_input": "2025-07-30T14:09:49.048617Z",
     "iopub.status.busy": "2025-07-30T14:09:49.048068Z",
     "iopub.status.idle": "2025-07-30T14:09:49.053591Z",
     "shell.execute_reply": "2025-07-30T14:09:49.052605Z"
    },
    "papermill": {
     "duration": 0.03476,
     "end_time": "2025-07-30T14:09:49.055233",
     "exception": false,
     "start_time": "2025-07-30T14:09:49.020473",
     "status": "completed"
    },
    "tags": []
   },
   "outputs": [],
   "source": [
    "from fairness_multiverse.universe import predict_w_threshold"
   ]
  },
  {
   "cell_type": "code",
   "execution_count": 45,
   "id": "a7cf2e16",
   "metadata": {
    "execution": {
     "iopub.execute_input": "2025-07-30T14:09:49.106316Z",
     "iopub.status.busy": "2025-07-30T14:09:49.105855Z",
     "iopub.status.idle": "2025-07-30T14:09:49.972839Z",
     "shell.execute_reply": "2025-07-30T14:09:49.971612Z"
    },
    "papermill": {
     "duration": 0.894206,
     "end_time": "2025-07-30T14:09:49.974891",
     "exception": false,
     "start_time": "2025-07-30T14:09:49.080685",
     "status": "completed"
    },
    "tags": []
   },
   "outputs": [
    {
     "data": {
      "text/plain": [
       "0.8623341879389143"
      ]
     },
     "execution_count": 45,
     "metadata": {},
     "output_type": "execute_result"
    }
   ],
   "source": [
    "probs_test = model.predict_proba(X_test)\n",
    "\n",
    "'''\n",
    "Below code returns a boolean array (or binary 0/1 array depending on how it’s used) where each element \n",
    "is True if the probability of class 1 is greater than or equal to the threshold, and False otherwise.\n",
    "'''\n",
    "y_pred_default = predict_w_threshold(probs_test, 0.5)\n",
    "\n",
    "from sklearn.metrics import accuracy_score\n",
    "\n",
    "# Naive prediction\n",
    "accuracy_score(y_true = y_true, y_pred = y_pred_default)"
   ]
  },
  {
   "cell_type": "code",
   "execution_count": 46,
   "id": "081964c3",
   "metadata": {
    "execution": {
     "iopub.execute_input": "2025-07-30T14:09:50.037926Z",
     "iopub.status.busy": "2025-07-30T14:09:50.037384Z",
     "iopub.status.idle": "2025-07-30T14:09:51.300225Z",
     "shell.execute_reply": "2025-07-30T14:09:51.299103Z"
    },
    "papermill": {
     "duration": 1.295855,
     "end_time": "2025-07-30T14:09:51.302095",
     "exception": false,
     "start_time": "2025-07-30T14:09:50.006240",
     "status": "completed"
    },
    "tags": []
   },
   "outputs": [
    {
     "data": {
      "text/plain": [
       "array([0, 0, 0, ..., 0, 0, 0])"
      ]
     },
     "execution_count": 46,
     "metadata": {},
     "output_type": "execute_result"
    }
   ],
   "source": [
    "model.predict(X_test)"
   ]
  },
  {
   "cell_type": "markdown",
   "id": "56c9705b",
   "metadata": {
    "papermill": {
     "duration": 0.024579,
     "end_time": "2025-07-30T14:09:51.350807",
     "exception": false,
     "start_time": "2025-07-30T14:09:51.326228",
     "status": "completed"
    },
    "tags": []
   },
   "source": [
    "# Conformal Prediction"
   ]
  },
  {
   "cell_type": "code",
   "execution_count": 47,
   "id": "160ec6ff",
   "metadata": {
    "execution": {
     "iopub.execute_input": "2025-07-30T14:09:51.400197Z",
     "iopub.status.busy": "2025-07-30T14:09:51.399191Z",
     "iopub.status.idle": "2025-07-30T14:09:51.406540Z",
     "shell.execute_reply": "2025-07-30T14:09:51.405194Z"
    },
    "papermill": {
     "duration": 0.035614,
     "end_time": "2025-07-30T14:09:51.408493",
     "exception": false,
     "start_time": "2025-07-30T14:09:51.372879",
     "status": "completed"
    },
    "tags": []
   },
   "outputs": [],
   "source": [
    "# Miscoverage level for conformal prediction (10% allowed error rate => 90% target coverage)\n",
    "alpha = 0.1"
   ]
  },
  {
   "cell_type": "code",
   "execution_count": 48,
   "id": "eadf4555-3dd3-440e-8e35-f82a4ad9f855",
   "metadata": {
    "execution": {
     "iopub.execute_input": "2025-07-30T14:09:51.456254Z",
     "iopub.status.busy": "2025-07-30T14:09:51.455478Z",
     "iopub.status.idle": "2025-07-30T14:09:52.016933Z",
     "shell.execute_reply": "2025-07-30T14:09:52.015923Z"
    },
    "papermill": {
     "duration": 0.587351,
     "end_time": "2025-07-30T14:09:52.018891",
     "exception": false,
     "start_time": "2025-07-30T14:09:51.431540",
     "status": "completed"
    },
    "tags": []
   },
   "outputs": [],
   "source": [
    "probs_calib = model.predict_proba(X_calib)"
   ]
  },
  {
   "cell_type": "code",
   "execution_count": 49,
   "id": "2ed93547-6d5d-4983-9b36-1ecb300da49a",
   "metadata": {
    "execution": {
     "iopub.execute_input": "2025-07-30T14:09:52.081126Z",
     "iopub.status.busy": "2025-07-30T14:09:52.080393Z",
     "iopub.status.idle": "2025-07-30T14:09:52.087107Z",
     "shell.execute_reply": "2025-07-30T14:09:52.085950Z"
    },
    "papermill": {
     "duration": 0.044858,
     "end_time": "2025-07-30T14:09:52.089613",
     "exception": false,
     "start_time": "2025-07-30T14:09:52.044755",
     "status": "completed"
    },
    "tags": []
   },
   "outputs": [],
   "source": [
    "y_calib = y_calib.values.ravel().astype(int)"
   ]
  },
  {
   "cell_type": "code",
   "execution_count": 50,
   "id": "65d1320d-f588-4b38-9072-62af1ae97f7d",
   "metadata": {
    "execution": {
     "iopub.execute_input": "2025-07-30T14:09:52.159967Z",
     "iopub.status.busy": "2025-07-30T14:09:52.159262Z",
     "iopub.status.idle": "2025-07-30T14:09:52.168480Z",
     "shell.execute_reply": "2025-07-30T14:09:52.167303Z"
    },
    "papermill": {
     "duration": 0.047041,
     "end_time": "2025-07-30T14:09:52.170966",
     "exception": false,
     "start_time": "2025-07-30T14:09:52.123925",
     "status": "completed"
    },
    "tags": []
   },
   "outputs": [],
   "source": [
    "from fairness_multiverse.conformal import compute_nc_scores\n",
    "\n",
    "# Compute nonconformity scores on calibration set (1 - probability of true class)\n",
    "nc_scores = compute_nc_scores(probs_calib, y_calib)"
   ]
  },
  {
   "cell_type": "code",
   "execution_count": 51,
   "id": "df3b8ca3-53b7-43d5-9667-7c85da7aeda2",
   "metadata": {
    "execution": {
     "iopub.execute_input": "2025-07-30T14:09:52.236284Z",
     "iopub.status.busy": "2025-07-30T14:09:52.235468Z",
     "iopub.status.idle": "2025-07-30T14:09:52.243918Z",
     "shell.execute_reply": "2025-07-30T14:09:52.242662Z"
    },
    "papermill": {
     "duration": 0.04081,
     "end_time": "2025-07-30T14:09:52.246010",
     "exception": false,
     "start_time": "2025-07-30T14:09:52.205200",
     "status": "completed"
    },
    "tags": []
   },
   "outputs": [],
   "source": [
    "from fairness_multiverse.conformal import find_threshold\n",
    "\n",
    "# Find conformal threshold q_hat for the given alpha (split conformal method)\n",
    "q_hat = find_threshold(nc_scores, alpha)"
   ]
  },
  {
   "cell_type": "code",
   "execution_count": 52,
   "id": "4d29e6c1-0ef6-4aa4-b8fe-4fe79b0d033a",
   "metadata": {
    "execution": {
     "iopub.execute_input": "2025-07-30T14:09:52.302300Z",
     "iopub.status.busy": "2025-07-30T14:09:52.301362Z",
     "iopub.status.idle": "2025-07-30T14:09:52.309368Z",
     "shell.execute_reply": "2025-07-30T14:09:52.308086Z"
    },
    "papermill": {
     "duration": 0.037729,
     "end_time": "2025-07-30T14:09:52.311484",
     "exception": false,
     "start_time": "2025-07-30T14:09:52.273755",
     "status": "completed"
    },
    "tags": []
   },
   "outputs": [
    {
     "data": {
      "text/plain": [
       "0.6846225555496581"
      ]
     },
     "execution_count": 52,
     "metadata": {},
     "output_type": "execute_result"
    }
   ],
   "source": [
    "q_hat"
   ]
  },
  {
   "cell_type": "code",
   "execution_count": 53,
   "id": "92460794-cdac-4be2-ba28-f28c0515a6fb",
   "metadata": {
    "execution": {
     "iopub.execute_input": "2025-07-30T14:09:52.382815Z",
     "iopub.status.busy": "2025-07-30T14:09:52.382020Z",
     "iopub.status.idle": "2025-07-30T14:09:53.440977Z",
     "shell.execute_reply": "2025-07-30T14:09:53.440190Z"
    },
    "papermill": {
     "duration": 1.096344,
     "end_time": "2025-07-30T14:09:53.442416",
     "exception": false,
     "start_time": "2025-07-30T14:09:52.346072",
     "status": "completed"
    },
    "tags": []
   },
   "outputs": [],
   "source": [
    "from fairness_multiverse.conformal import predict_conformal_sets\n",
    "\n",
    "# Generate prediction sets for each test example\n",
    "pred_sets = predict_conformal_sets(model, X_test, q_hat)"
   ]
  },
  {
   "cell_type": "code",
   "execution_count": 54,
   "id": "d90c9a65-e6db-4f5d-80cd-e68fb7e46829",
   "metadata": {
    "execution": {
     "iopub.execute_input": "2025-07-30T14:09:53.473751Z",
     "iopub.status.busy": "2025-07-30T14:09:53.473241Z",
     "iopub.status.idle": "2025-07-30T14:09:53.478172Z",
     "shell.execute_reply": "2025-07-30T14:09:53.477330Z"
    },
    "papermill": {
     "duration": 0.021021,
     "end_time": "2025-07-30T14:09:53.479474",
     "exception": false,
     "start_time": "2025-07-30T14:09:53.458453",
     "status": "completed"
    },
    "tags": []
   },
   "outputs": [],
   "source": [
    "y_true = y_true.squeeze()"
   ]
  },
  {
   "cell_type": "code",
   "execution_count": 55,
   "id": "3a58a54a-1e68-46b9-927a-df01f18aebc8",
   "metadata": {
    "execution": {
     "iopub.execute_input": "2025-07-30T14:09:53.509408Z",
     "iopub.status.busy": "2025-07-30T14:09:53.508895Z",
     "iopub.status.idle": "2025-07-30T14:09:54.201304Z",
     "shell.execute_reply": "2025-07-30T14:09:54.200300Z"
    },
    "papermill": {
     "duration": 0.709342,
     "end_time": "2025-07-30T14:09:54.203359",
     "exception": false,
     "start_time": "2025-07-30T14:09:53.494017",
     "status": "completed"
    },
    "tags": []
   },
   "outputs": [],
   "source": [
    "from fairness_multiverse.conformal import evaluate_sets\n",
    "\n",
    "# Evaluate coverage and average set size on test data\n",
    "metrics = evaluate_sets(pred_sets, y_true)"
   ]
  },
  {
   "cell_type": "markdown",
   "id": "2b569c12-9aaa-4c88-98c9-bbcd0cf3ebb8",
   "metadata": {
    "papermill": {
     "duration": 0.026626,
     "end_time": "2025-07-30T14:09:54.257565",
     "exception": false,
     "start_time": "2025-07-30T14:09:54.230939",
     "status": "completed"
    },
    "tags": []
   },
   "source": [
    "# CP Metrics"
   ]
  },
  {
   "cell_type": "code",
   "execution_count": 56,
   "id": "5ce0a5cb-201f-45a0-ade5-94c7f0bd6095",
   "metadata": {
    "execution": {
     "iopub.execute_input": "2025-07-30T14:09:54.313587Z",
     "iopub.status.busy": "2025-07-30T14:09:54.313001Z",
     "iopub.status.idle": "2025-07-30T14:09:54.322402Z",
     "shell.execute_reply": "2025-07-30T14:09:54.321181Z"
    },
    "papermill": {
     "duration": 0.039592,
     "end_time": "2025-07-30T14:09:54.324281",
     "exception": false,
     "start_time": "2025-07-30T14:09:54.284689",
     "status": "completed"
    },
    "tags": []
   },
   "outputs": [
    {
     "data": {
      "text/plain": [
       "{'coverage': 0.9109909709062535, 'avg_size': 1.1311670939694571}"
      ]
     },
     "execution_count": 56,
     "metadata": {},
     "output_type": "execute_result"
    }
   ],
   "source": [
    "metrics"
   ]
  },
  {
   "cell_type": "code",
   "execution_count": 57,
   "id": "9b9a838d-31c9-430b-ae14-12baee460d17",
   "metadata": {
    "execution": {
     "iopub.execute_input": "2025-07-30T14:09:54.379377Z",
     "iopub.status.busy": "2025-07-30T14:09:54.378368Z",
     "iopub.status.idle": "2025-07-30T14:09:54.385993Z",
     "shell.execute_reply": "2025-07-30T14:09:54.384889Z"
    },
    "papermill": {
     "duration": 0.036291,
     "end_time": "2025-07-30T14:09:54.387698",
     "exception": false,
     "start_time": "2025-07-30T14:09:54.351407",
     "status": "completed"
    },
    "tags": []
   },
   "outputs": [],
   "source": [
    "example_universe = universe.copy()\n",
    "universe_training_size = example_universe.get(\"training_size\")\n",
    "universe_scale = example_universe.get(\"scale\")\n",
    "universe_model = example_universe.get(\"model\")\n",
    "universe_exclude_features = example_universe.get(\"exclude_features\")\n",
    "universe_exclude_subgroups = example_universe.get(\"exclude_subgroups\")"
   ]
  },
  {
   "cell_type": "code",
   "execution_count": 58,
   "id": "f4b6a8ac-9dc0-4245-8a91-5b3b5999c4f9",
   "metadata": {
    "execution": {
     "iopub.execute_input": "2025-07-30T14:09:54.441626Z",
     "iopub.status.busy": "2025-07-30T14:09:54.441094Z",
     "iopub.status.idle": "2025-07-30T14:09:54.447914Z",
     "shell.execute_reply": "2025-07-30T14:09:54.446812Z"
    },
    "papermill": {
     "duration": 0.035566,
     "end_time": "2025-07-30T14:09:54.449621",
     "exception": false,
     "start_time": "2025-07-30T14:09:54.414055",
     "status": "completed"
    },
    "tags": []
   },
   "outputs": [],
   "source": [
    "cp_metrics_dict = {\n",
    "    \"universe_id\": [universe_id],\n",
    "    \"universe_training_size\": [universe_training_size],\n",
    "    \"universe_scale\": [universe_scale],\n",
    "    \"universe_model\": [universe_model],\n",
    "    \"universe_exclude_features\": [universe_exclude_features],\n",
    "    \"universe_exclude_subgroups\": [universe_exclude_subgroups],\n",
    "    \"q_hat\": [q_hat],\n",
    "    \"coverage\": [metrics[\"coverage\"]],\n",
    "    \"avg_size\": [metrics[\"avg_size\"]],\n",
    "}"
   ]
  },
  {
   "cell_type": "code",
   "execution_count": 59,
   "id": "908acbb1-0371-4915-85ca-3fa520d2efe2",
   "metadata": {
    "execution": {
     "iopub.execute_input": "2025-07-30T14:09:54.504666Z",
     "iopub.status.busy": "2025-07-30T14:09:54.503366Z",
     "iopub.status.idle": "2025-07-30T14:09:54.512478Z",
     "shell.execute_reply": "2025-07-30T14:09:54.511489Z"
    },
    "papermill": {
     "duration": 0.038063,
     "end_time": "2025-07-30T14:09:54.514085",
     "exception": false,
     "start_time": "2025-07-30T14:09:54.476022",
     "status": "completed"
    },
    "tags": []
   },
   "outputs": [
    {
     "data": {
      "text/plain": [
       "{'universe_id': ['7ffeca854c1ed96730ff5cbb1c3bd593'],\n",
       " 'universe_training_size': ['5k'],\n",
       " 'universe_scale': ['scale'],\n",
       " 'universe_model': ['gbm'],\n",
       " 'universe_exclude_features': ['none'],\n",
       " 'universe_exclude_subgroups': ['keep-all'],\n",
       " 'q_hat': [0.6846225555496581],\n",
       " 'coverage': [0.9109909709062535],\n",
       " 'avg_size': [1.1311670939694571]}"
      ]
     },
     "execution_count": 59,
     "metadata": {},
     "output_type": "execute_result"
    }
   ],
   "source": [
    "cp_metrics_dict"
   ]
  },
  {
   "cell_type": "code",
   "execution_count": 60,
   "id": "33007efc-14e9-4ec6-97ac-56a455c82265",
   "metadata": {
    "execution": {
     "iopub.execute_input": "2025-07-30T14:09:54.569123Z",
     "iopub.status.busy": "2025-07-30T14:09:54.568365Z",
     "iopub.status.idle": "2025-07-30T14:09:54.575501Z",
     "shell.execute_reply": "2025-07-30T14:09:54.574456Z"
    },
    "papermill": {
     "duration": 0.03631,
     "end_time": "2025-07-30T14:09:54.577397",
     "exception": false,
     "start_time": "2025-07-30T14:09:54.541087",
     "status": "completed"
    },
    "tags": []
   },
   "outputs": [],
   "source": [
    "cp_metrics_df = pd.DataFrame(cp_metrics_dict)"
   ]
  },
  {
   "cell_type": "code",
   "execution_count": 61,
   "id": "db12611b-57b2-4910-b9d0-355adfd6e7bf",
   "metadata": {
    "execution": {
     "iopub.execute_input": "2025-07-30T14:09:54.632715Z",
     "iopub.status.busy": "2025-07-30T14:09:54.631996Z",
     "iopub.status.idle": "2025-07-30T14:09:54.652403Z",
     "shell.execute_reply": "2025-07-30T14:09:54.650251Z"
    },
    "papermill": {
     "duration": 0.056592,
     "end_time": "2025-07-30T14:09:54.661703",
     "exception": false,
     "start_time": "2025-07-30T14:09:54.605111",
     "status": "completed"
    },
    "tags": []
   },
   "outputs": [
    {
     "data": {
      "text/html": [
       "<div>\n",
       "<style scoped>\n",
       "    .dataframe tbody tr th:only-of-type {\n",
       "        vertical-align: middle;\n",
       "    }\n",
       "\n",
       "    .dataframe tbody tr th {\n",
       "        vertical-align: top;\n",
       "    }\n",
       "\n",
       "    .dataframe thead th {\n",
       "        text-align: right;\n",
       "    }\n",
       "</style>\n",
       "<table border=\"1\" class=\"dataframe\">\n",
       "  <thead>\n",
       "    <tr style=\"text-align: right;\">\n",
       "      <th></th>\n",
       "      <th>universe_id</th>\n",
       "      <th>universe_training_size</th>\n",
       "      <th>universe_scale</th>\n",
       "      <th>universe_model</th>\n",
       "      <th>universe_exclude_features</th>\n",
       "      <th>universe_exclude_subgroups</th>\n",
       "      <th>q_hat</th>\n",
       "      <th>coverage</th>\n",
       "      <th>avg_size</th>\n",
       "    </tr>\n",
       "  </thead>\n",
       "  <tbody>\n",
       "    <tr>\n",
       "      <th>0</th>\n",
       "      <td>7ffeca854c1ed96730ff5cbb1c3bd593</td>\n",
       "      <td>5k</td>\n",
       "      <td>scale</td>\n",
       "      <td>gbm</td>\n",
       "      <td>none</td>\n",
       "      <td>keep-all</td>\n",
       "      <td>0.684623</td>\n",
       "      <td>0.910991</td>\n",
       "      <td>1.131167</td>\n",
       "    </tr>\n",
       "  </tbody>\n",
       "</table>\n",
       "</div>"
      ],
      "text/plain": [
       "                        universe_id universe_training_size universe_scale  \\\n",
       "0  7ffeca854c1ed96730ff5cbb1c3bd593                     5k          scale   \n",
       "\n",
       "  universe_model universe_exclude_features universe_exclude_subgroups  \\\n",
       "0            gbm                      none                   keep-all   \n",
       "\n",
       "      q_hat  coverage  avg_size  \n",
       "0  0.684623  0.910991  1.131167  "
      ]
     },
     "execution_count": 61,
     "metadata": {},
     "output_type": "execute_result"
    }
   ],
   "source": [
    "cp_metrics_df"
   ]
  },
  {
   "cell_type": "code",
   "execution_count": 62,
   "id": "b7fbde55-a0a1-47e4-9af6-fe4a17fa8c61",
   "metadata": {
    "execution": {
     "iopub.execute_input": "2025-07-30T14:09:54.715937Z",
     "iopub.status.busy": "2025-07-30T14:09:54.715238Z",
     "iopub.status.idle": "2025-07-30T14:09:54.720661Z",
     "shell.execute_reply": "2025-07-30T14:09:54.719623Z"
    },
    "papermill": {
     "duration": 0.033991,
     "end_time": "2025-07-30T14:09:54.722382",
     "exception": false,
     "start_time": "2025-07-30T14:09:54.688391",
     "status": "completed"
    },
    "tags": []
   },
   "outputs": [],
   "source": [
    "# Conditional Coverage & looking at subgroups"
   ]
  },
  {
   "cell_type": "code",
   "execution_count": 63,
   "id": "027ae886-68dd-4141-96c7-805a5450e1ef",
   "metadata": {
    "execution": {
     "iopub.execute_input": "2025-07-30T14:09:54.778228Z",
     "iopub.status.busy": "2025-07-30T14:09:54.777551Z",
     "iopub.status.idle": "2025-07-30T14:09:55.116564Z",
     "shell.execute_reply": "2025-07-30T14:09:55.115467Z"
    },
    "papermill": {
     "duration": 0.369148,
     "end_time": "2025-07-30T14:09:55.118537",
     "exception": false,
     "start_time": "2025-07-30T14:09:54.749389",
     "status": "completed"
    },
    "tags": []
   },
   "outputs": [],
   "source": [
    "from fairness_multiverse.conformal import build_cp_groups\n",
    "\n",
    "cp_groups_df = build_cp_groups(pred_sets, y_true, X_test.index, org_test)\n",
    "#needs universe_id and setting"
   ]
  },
  {
   "cell_type": "code",
   "execution_count": 64,
   "id": "01d5802c-663a-4d1f-9d69-e036faaffbf7",
   "metadata": {
    "execution": {
     "iopub.execute_input": "2025-07-30T14:09:55.175896Z",
     "iopub.status.busy": "2025-07-30T14:09:55.174898Z",
     "iopub.status.idle": "2025-07-30T14:09:55.181221Z",
     "shell.execute_reply": "2025-07-30T14:09:55.180004Z"
    },
    "papermill": {
     "duration": 0.03636,
     "end_time": "2025-07-30T14:09:55.183240",
     "exception": false,
     "start_time": "2025-07-30T14:09:55.146880",
     "status": "completed"
    },
    "tags": []
   },
   "outputs": [],
   "source": [
    "#delete\n",
    "#cp_groups_df"
   ]
  },
  {
   "cell_type": "code",
   "execution_count": 65,
   "id": "fa424af1-d1eb-443d-b717-2d279ada8408",
   "metadata": {
    "execution": {
     "iopub.execute_input": "2025-07-30T14:09:55.240601Z",
     "iopub.status.busy": "2025-07-30T14:09:55.239703Z",
     "iopub.status.idle": "2025-07-30T14:09:55.244990Z",
     "shell.execute_reply": "2025-07-30T14:09:55.243888Z"
    },
    "papermill": {
     "duration": 0.034683,
     "end_time": "2025-07-30T14:09:55.246859",
     "exception": false,
     "start_time": "2025-07-30T14:09:55.212176",
     "status": "completed"
    },
    "tags": []
   },
   "outputs": [],
   "source": [
    "#delete\n",
    "#percentage = (cp_groups_df['nongerman_female'] == 1).mean() * 100\n",
    "#print(percentage)\n"
   ]
  },
  {
   "cell_type": "code",
   "execution_count": 66,
   "id": "6cbdab96-b2b2-45af-ad54-d0516db2e28d",
   "metadata": {
    "execution": {
     "iopub.execute_input": "2025-07-30T14:09:55.292828Z",
     "iopub.status.busy": "2025-07-30T14:09:55.292420Z",
     "iopub.status.idle": "2025-07-30T14:09:56.765722Z",
     "shell.execute_reply": "2025-07-30T14:09:56.764805Z"
    },
    "papermill": {
     "duration": 1.489513,
     "end_time": "2025-07-30T14:09:56.767464",
     "exception": false,
     "start_time": "2025-07-30T14:09:55.277951",
     "status": "completed"
    },
    "tags": []
   },
   "outputs": [],
   "source": [
    "# Define covered = 1 if true_label is in the predicted set\n",
    "cp_groups_df['covered'] = cp_groups_df.apply(\n",
    "    lambda r: int(r['true_label'] in r['pred_set']),\n",
    "    axis=1\n",
    ")"
   ]
  },
  {
   "cell_type": "code",
   "execution_count": 67,
   "id": "338ff529-1a6b-4b87-a931-8e4788d52aad",
   "metadata": {
    "execution": {
     "iopub.execute_input": "2025-07-30T14:09:56.798591Z",
     "iopub.status.busy": "2025-07-30T14:09:56.798072Z",
     "iopub.status.idle": "2025-07-30T14:09:56.802182Z",
     "shell.execute_reply": "2025-07-30T14:09:56.801449Z"
    },
    "papermill": {
     "duration": 0.020834,
     "end_time": "2025-07-30T14:09:56.803467",
     "exception": false,
     "start_time": "2025-07-30T14:09:56.782633",
     "status": "completed"
    },
    "tags": []
   },
   "outputs": [],
   "source": [
    "#cp_groups_df"
   ]
  },
  {
   "cell_type": "code",
   "execution_count": 68,
   "id": "90032e27-66df-4540-9169-4e89cfbaa758",
   "metadata": {
    "execution": {
     "iopub.execute_input": "2025-07-30T14:09:56.854620Z",
     "iopub.status.busy": "2025-07-30T14:09:56.853717Z",
     "iopub.status.idle": "2025-07-30T14:09:56.866471Z",
     "shell.execute_reply": "2025-07-30T14:09:56.865213Z"
    },
    "papermill": {
     "duration": 0.045495,
     "end_time": "2025-07-30T14:09:56.868618",
     "exception": false,
     "start_time": "2025-07-30T14:09:56.823123",
     "status": "completed"
    },
    "tags": []
   },
   "outputs": [],
   "source": [
    "subgroups = ['frau1','nongerman','nongerman_male','nongerman_female']\n",
    "\n",
    "# Conditional coverage for subgroup==1\n",
    "cond_coverage = {\n",
    "    g: cp_groups_df.loc[cp_groups_df[g]==1, 'covered'].mean()\n",
    "    for g in subgroups\n",
    "}"
   ]
  },
  {
   "cell_type": "code",
   "execution_count": 69,
   "id": "1e348fb1-b9c3-45bc-ba23-f016827a7e0d",
   "metadata": {
    "execution": {
     "iopub.execute_input": "2025-07-30T14:09:56.925682Z",
     "iopub.status.busy": "2025-07-30T14:09:56.924767Z",
     "iopub.status.idle": "2025-07-30T14:09:56.931854Z",
     "shell.execute_reply": "2025-07-30T14:09:56.930922Z"
    },
    "papermill": {
     "duration": 0.037324,
     "end_time": "2025-07-30T14:09:56.933688",
     "exception": false,
     "start_time": "2025-07-30T14:09:56.896364",
     "status": "completed"
    },
    "tags": []
   },
   "outputs": [
    {
     "data": {
      "text/plain": [
       "{'frau1': 0.9107966033158108,\n",
       " 'nongerman': 0.9115814292932128,\n",
       " 'nongerman_male': 0.9254255606592813,\n",
       " 'nongerman_female': 0.8886736214605067}"
      ]
     },
     "execution_count": 69,
     "metadata": {},
     "output_type": "execute_result"
    }
   ],
   "source": [
    "cond_coverage"
   ]
  },
  {
   "cell_type": "code",
   "execution_count": 70,
   "id": "f5093324-c3dd-4d63-bc4c-8d945e5c8bbb",
   "metadata": {
    "execution": {
     "iopub.execute_input": "2025-07-30T14:09:56.992012Z",
     "iopub.status.busy": "2025-07-30T14:09:56.991331Z",
     "iopub.status.idle": "2025-07-30T14:09:56.999426Z",
     "shell.execute_reply": "2025-07-30T14:09:56.998387Z"
    },
    "papermill": {
     "duration": 0.039731,
     "end_time": "2025-07-30T14:09:57.001435",
     "exception": false,
     "start_time": "2025-07-30T14:09:56.961704",
     "status": "completed"
    },
    "tags": []
   },
   "outputs": [],
   "source": [
    "for subgroup, cov in cond_coverage.items():\n",
    "    cp_metrics_df[f\"cov_{subgroup}\"] = cov"
   ]
  },
  {
   "cell_type": "code",
   "execution_count": 71,
   "id": "6e872e10-dbe5-49e8-b554-5030c98ff75d",
   "metadata": {
    "execution": {
     "iopub.execute_input": "2025-07-30T14:09:57.060909Z",
     "iopub.status.busy": "2025-07-30T14:09:57.060218Z",
     "iopub.status.idle": "2025-07-30T14:09:57.080151Z",
     "shell.execute_reply": "2025-07-30T14:09:57.079397Z"
    },
    "papermill": {
     "duration": 0.051475,
     "end_time": "2025-07-30T14:09:57.081672",
     "exception": false,
     "start_time": "2025-07-30T14:09:57.030197",
     "status": "completed"
    },
    "tags": []
   },
   "outputs": [
    {
     "data": {
      "text/html": [
       "<div>\n",
       "<style scoped>\n",
       "    .dataframe tbody tr th:only-of-type {\n",
       "        vertical-align: middle;\n",
       "    }\n",
       "\n",
       "    .dataframe tbody tr th {\n",
       "        vertical-align: top;\n",
       "    }\n",
       "\n",
       "    .dataframe thead th {\n",
       "        text-align: right;\n",
       "    }\n",
       "</style>\n",
       "<table border=\"1\" class=\"dataframe\">\n",
       "  <thead>\n",
       "    <tr style=\"text-align: right;\">\n",
       "      <th></th>\n",
       "      <th>universe_id</th>\n",
       "      <th>universe_training_size</th>\n",
       "      <th>universe_scale</th>\n",
       "      <th>universe_model</th>\n",
       "      <th>universe_exclude_features</th>\n",
       "      <th>universe_exclude_subgroups</th>\n",
       "      <th>q_hat</th>\n",
       "      <th>coverage</th>\n",
       "      <th>avg_size</th>\n",
       "      <th>cov_frau1</th>\n",
       "      <th>cov_nongerman</th>\n",
       "      <th>cov_nongerman_male</th>\n",
       "      <th>cov_nongerman_female</th>\n",
       "    </tr>\n",
       "  </thead>\n",
       "  <tbody>\n",
       "    <tr>\n",
       "      <th>0</th>\n",
       "      <td>7ffeca854c1ed96730ff5cbb1c3bd593</td>\n",
       "      <td>5k</td>\n",
       "      <td>scale</td>\n",
       "      <td>gbm</td>\n",
       "      <td>none</td>\n",
       "      <td>keep-all</td>\n",
       "      <td>0.684623</td>\n",
       "      <td>0.910991</td>\n",
       "      <td>1.131167</td>\n",
       "      <td>0.910797</td>\n",
       "      <td>0.911581</td>\n",
       "      <td>0.925426</td>\n",
       "      <td>0.888674</td>\n",
       "    </tr>\n",
       "  </tbody>\n",
       "</table>\n",
       "</div>"
      ],
      "text/plain": [
       "                        universe_id universe_training_size universe_scale  \\\n",
       "0  7ffeca854c1ed96730ff5cbb1c3bd593                     5k          scale   \n",
       "\n",
       "  universe_model universe_exclude_features universe_exclude_subgroups  \\\n",
       "0            gbm                      none                   keep-all   \n",
       "\n",
       "      q_hat  coverage  avg_size  cov_frau1  cov_nongerman  cov_nongerman_male  \\\n",
       "0  0.684623  0.910991  1.131167   0.910797       0.911581            0.925426   \n",
       "\n",
       "   cov_nongerman_female  \n",
       "0              0.888674  "
      ]
     },
     "execution_count": 71,
     "metadata": {},
     "output_type": "execute_result"
    }
   ],
   "source": [
    "cp_metrics_df"
   ]
  },
  {
   "cell_type": "markdown",
   "id": "33774451",
   "metadata": {
    "papermill": {
     "duration": 0.014519,
     "end_time": "2025-07-30T14:09:57.112272",
     "exception": false,
     "start_time": "2025-07-30T14:09:57.097753",
     "status": "completed"
    },
    "tags": []
   },
   "source": [
    "# (Fairness) Metrics"
   ]
  },
  {
   "cell_type": "code",
   "execution_count": 72,
   "id": "debc5d62",
   "metadata": {
    "execution": {
     "iopub.execute_input": "2025-07-30T14:09:57.147962Z",
     "iopub.status.busy": "2025-07-30T14:09:57.147453Z",
     "iopub.status.idle": "2025-07-30T14:09:57.162879Z",
     "shell.execute_reply": "2025-07-30T14:09:57.162078Z"
    },
    "papermill": {
     "duration": 0.036039,
     "end_time": "2025-07-30T14:09:57.164543",
     "exception": false,
     "start_time": "2025-07-30T14:09:57.128504",
     "status": "completed"
    },
    "tags": []
   },
   "outputs": [],
   "source": [
    "# do I need to include maxdeutsch1.missing?\n",
    "\n",
    "import numpy as np\n",
    "\n",
    "colname_to_bin = \"maxdeutsch1\"\n",
    "majority_value = org_train[colname_to_bin].mode()[0]\n",
    "\n",
    "org_test[\"majmin\"] = np.where(org_test[colname_to_bin] == majority_value, \"majority\", \"minority\")"
   ]
  },
  {
   "cell_type": "code",
   "execution_count": 73,
   "id": "06a50de5",
   "metadata": {
    "execution": {
     "iopub.execute_input": "2025-07-30T14:09:57.212812Z",
     "iopub.status.busy": "2025-07-30T14:09:57.211898Z",
     "iopub.status.idle": "2025-07-30T14:09:59.671364Z",
     "shell.execute_reply": "2025-07-30T14:09:59.670450Z"
    },
    "papermill": {
     "duration": 2.492853,
     "end_time": "2025-07-30T14:09:59.673456",
     "exception": false,
     "start_time": "2025-07-30T14:09:57.180603",
     "status": "completed"
    },
    "tags": []
   },
   "outputs": [],
   "source": [
    "example_universe = universe.copy()\n",
    "example_universe[\"cutoff\"] = example_universe[\"cutoff\"][0]\n",
    "example_universe[\"eval_fairness_grouping\"] = example_universe[\"eval_fairness_grouping\"][0]\n",
    "fairness_dict, metric_frame = universe_analysis.compute_metrics(\n",
    "    example_universe,\n",
    "    y_pred_prob=probs_test,\n",
    "    y_test=y_true,\n",
    "    org_test=org_test,\n",
    ")"
   ]
  },
  {
   "cell_type": "markdown",
   "id": "f95d4e02",
   "metadata": {
    "papermill": {
     "duration": 0.030457,
     "end_time": "2025-07-30T14:09:59.736044",
     "exception": false,
     "start_time": "2025-07-30T14:09:59.705587",
     "status": "completed"
    },
    "tags": []
   },
   "source": [
    "# Overall"
   ]
  },
  {
   "cell_type": "markdown",
   "id": "bdee4871",
   "metadata": {
    "papermill": {
     "duration": 0.02985,
     "end_time": "2025-07-30T14:09:59.796017",
     "exception": false,
     "start_time": "2025-07-30T14:09:59.766167",
     "status": "completed"
    },
    "tags": []
   },
   "source": [
    "Fairness\n",
    "Main fairness target: Equalized Odds. Seems to be a better fit than equal opportunity, since we're not only interested in Y = 1. Seems to be a better fit than demographic parity, since we also care about accuracy, not just equal distribution of preds.\n",
    "\n",
    "Pick column for computation of fairness metrics\n",
    "\n",
    "Performance\n",
    "Overall performance measures, most interesting in relation to the measures split by group below"
   ]
  },
  {
   "cell_type": "code",
   "execution_count": 74,
   "id": "c4e067c6",
   "metadata": {
    "execution": {
     "iopub.execute_input": "2025-07-30T14:09:59.856827Z",
     "iopub.status.busy": "2025-07-30T14:09:59.856315Z",
     "iopub.status.idle": "2025-07-30T14:09:59.865003Z",
     "shell.execute_reply": "2025-07-30T14:09:59.864008Z"
    },
    "papermill": {
     "duration": 0.041234,
     "end_time": "2025-07-30T14:09:59.866782",
     "exception": false,
     "start_time": "2025-07-30T14:09:59.825548",
     "status": "completed"
    },
    "tags": []
   },
   "outputs": [
    {
     "data": {
      "text/plain": [
       "accuracy                   0.224758\n",
       "balanced accuracy          0.549483\n",
       "f1                         0.246078\n",
       "precision                  0.140576\n",
       "false positive rate        0.887305\n",
       "false negative rate        0.013730\n",
       "selection rate             0.900000\n",
       "count                  89710.000000\n",
       "dtype: float64"
      ]
     },
     "execution_count": 74,
     "metadata": {},
     "output_type": "execute_result"
    }
   ],
   "source": [
    "metric_frame.overall"
   ]
  },
  {
   "cell_type": "markdown",
   "id": "e968fe9d",
   "metadata": {
    "papermill": {
     "duration": 0.030159,
     "end_time": "2025-07-30T14:09:59.923819",
     "exception": false,
     "start_time": "2025-07-30T14:09:59.893660",
     "status": "completed"
    },
    "tags": []
   },
   "source": [
    "By Group"
   ]
  },
  {
   "cell_type": "code",
   "execution_count": 75,
   "id": "ec325bce",
   "metadata": {
    "execution": {
     "iopub.execute_input": "2025-07-30T14:09:59.954551Z",
     "iopub.status.busy": "2025-07-30T14:09:59.954206Z",
     "iopub.status.idle": "2025-07-30T14:09:59.968156Z",
     "shell.execute_reply": "2025-07-30T14:09:59.967050Z"
    },
    "papermill": {
     "duration": 0.030849,
     "end_time": "2025-07-30T14:09:59.970096",
     "exception": false,
     "start_time": "2025-07-30T14:09:59.939247",
     "status": "completed"
    },
    "tags": []
   },
   "outputs": [
    {
     "data": {
      "text/html": [
       "<div>\n",
       "<style scoped>\n",
       "    .dataframe tbody tr th:only-of-type {\n",
       "        vertical-align: middle;\n",
       "    }\n",
       "\n",
       "    .dataframe tbody tr th {\n",
       "        vertical-align: top;\n",
       "    }\n",
       "\n",
       "    .dataframe thead th {\n",
       "        text-align: right;\n",
       "    }\n",
       "</style>\n",
       "<table border=\"1\" class=\"dataframe\">\n",
       "  <thead>\n",
       "    <tr style=\"text-align: right;\">\n",
       "      <th></th>\n",
       "      <th>accuracy</th>\n",
       "      <th>balanced accuracy</th>\n",
       "      <th>f1</th>\n",
       "      <th>precision</th>\n",
       "      <th>false positive rate</th>\n",
       "      <th>false negative rate</th>\n",
       "      <th>selection rate</th>\n",
       "      <th>count</th>\n",
       "    </tr>\n",
       "    <tr>\n",
       "      <th>majmin</th>\n",
       "      <th></th>\n",
       "      <th></th>\n",
       "      <th></th>\n",
       "      <th></th>\n",
       "      <th></th>\n",
       "      <th></th>\n",
       "      <th></th>\n",
       "      <th></th>\n",
       "    </tr>\n",
       "  </thead>\n",
       "  <tbody>\n",
       "    <tr>\n",
       "      <th>majority</th>\n",
       "      <td>0.244832</td>\n",
       "      <td>0.558665</td>\n",
       "      <td>0.256388</td>\n",
       "      <td>0.147369</td>\n",
       "      <td>0.867899</td>\n",
       "      <td>0.014770</td>\n",
       "      <td>0.883403</td>\n",
       "      <td>69170.0</td>\n",
       "    </tr>\n",
       "    <tr>\n",
       "      <th>minority</th>\n",
       "      <td>0.157157</td>\n",
       "      <td>0.519439</td>\n",
       "      <td>0.213162</td>\n",
       "      <td>0.119436</td>\n",
       "      <td>0.951409</td>\n",
       "      <td>0.009713</td>\n",
       "      <td>0.955891</td>\n",
       "      <td>20540.0</td>\n",
       "    </tr>\n",
       "  </tbody>\n",
       "</table>\n",
       "</div>"
      ],
      "text/plain": [
       "          accuracy  balanced accuracy        f1  precision  \\\n",
       "majmin                                                       \n",
       "majority  0.244832           0.558665  0.256388   0.147369   \n",
       "minority  0.157157           0.519439  0.213162   0.119436   \n",
       "\n",
       "          false positive rate  false negative rate  selection rate    count  \n",
       "majmin                                                                       \n",
       "majority             0.867899             0.014770        0.883403  69170.0  \n",
       "minority             0.951409             0.009713        0.955891  20540.0  "
      ]
     },
     "execution_count": 75,
     "metadata": {},
     "output_type": "execute_result"
    }
   ],
   "source": [
    "metric_frame.by_group"
   ]
  },
  {
   "cell_type": "code",
   "execution_count": 76,
   "id": "a9ddbe63",
   "metadata": {
    "execution": {
     "iopub.execute_input": "2025-07-30T14:10:00.029494Z",
     "iopub.status.busy": "2025-07-30T14:10:00.028931Z",
     "iopub.status.idle": "2025-07-30T14:10:02.434332Z",
     "shell.execute_reply": "2025-07-30T14:10:02.433439Z"
    },
    "papermill": {
     "duration": 2.435783,
     "end_time": "2025-07-30T14:10:02.435915",
     "exception": false,
     "start_time": "2025-07-30T14:10:00.000132",
     "status": "completed"
    },
    "tags": []
   },
   "outputs": [
    {
     "data": {
      "text/plain": [
       "array([[<Axes: title={'center': 'accuracy'}, xlabel='majmin'>,\n",
       "        <Axes: title={'center': 'balanced accuracy'}, xlabel='majmin'>,\n",
       "        <Axes: title={'center': 'f1'}, xlabel='majmin'>],\n",
       "       [<Axes: title={'center': 'precision'}, xlabel='majmin'>,\n",
       "        <Axes: title={'center': 'false positive rate'}, xlabel='majmin'>,\n",
       "        <Axes: title={'center': 'false negative rate'}, xlabel='majmin'>],\n",
       "       [<Axes: title={'center': 'selection rate'}, xlabel='majmin'>,\n",
       "        <Axes: title={'center': 'count'}, xlabel='majmin'>,\n",
       "        <Axes: xlabel='majmin'>]], dtype=object)"
      ]
     },
     "execution_count": 76,
     "metadata": {},
     "output_type": "execute_result"
    },
    {
     "data": {
      "image/png": "[encoded data removed]",
      "text/plain": [
       "<Figure size 1200x800 with 9 Axes>"
      ]
     },
     "metadata": {},
     "output_type": "display_data"
    }
   ],
   "source": [
    "# In a graphic\n",
    "metric_frame.by_group.plot.bar(\n",
    "    subplots=True,\n",
    "    layout=[3, 3],\n",
    "    legend=False,\n",
    "    figsize=[12, 8],\n",
    "    title=\"Show all metrics\",\n",
    ")"
   ]
  },
  {
   "cell_type": "markdown",
   "id": "f57a0bac",
   "metadata": {
    "papermill": {
     "duration": 0.034309,
     "end_time": "2025-07-30T14:10:02.499588",
     "exception": false,
     "start_time": "2025-07-30T14:10:02.465279",
     "status": "completed"
    },
    "tags": []
   },
   "source": [
    "# Final Output"
   ]
  },
  {
   "cell_type": "code",
   "execution_count": 77,
   "id": "96d280a3",
   "metadata": {
    "execution": {
     "iopub.execute_input": "2025-07-30T14:10:02.568991Z",
     "iopub.status.busy": "2025-07-30T14:10:02.567788Z",
     "iopub.status.idle": "2025-07-30T14:10:02.576202Z",
     "shell.execute_reply": "2025-07-30T14:10:02.575218Z"
    },
    "papermill": {
     "duration": 0.045164,
     "end_time": "2025-07-30T14:10:02.578017",
     "exception": false,
     "start_time": "2025-07-30T14:10:02.532853",
     "status": "completed"
    },
    "tags": []
   },
   "outputs": [
    {
     "data": {
      "text/plain": [
       "4"
      ]
     },
     "execution_count": 77,
     "metadata": {},
     "output_type": "execute_result"
    }
   ],
   "source": [
    "sub_universes = universe_analysis.generate_sub_universes()\n",
    "len(sub_universes)"
   ]
  },
  {
   "cell_type": "code",
   "execution_count": 78,
   "id": "92adf7ba",
   "metadata": {
    "execution": {
     "iopub.execute_input": "2025-07-30T14:10:02.651136Z",
     "iopub.status.busy": "2025-07-30T14:10:02.650612Z",
     "iopub.status.idle": "2025-07-30T14:10:02.657620Z",
     "shell.execute_reply": "2025-07-30T14:10:02.656469Z"
    },
    "papermill": {
     "duration": 0.046485,
     "end_time": "2025-07-30T14:10:02.659559",
     "exception": false,
     "start_time": "2025-07-30T14:10:02.613074",
     "status": "completed"
    },
    "tags": []
   },
   "outputs": [],
   "source": [
    "def filter_sub_universe_data(sub_universe, org_test):\n",
    "    # Keep all rows — no filtering\n",
    "    keep_rows_mask = np.ones(org_test.shape[0], dtype=bool)\n",
    "\n",
    "    print(f\"[INFO] Keeping all rows: {keep_rows_mask.sum()} rows retained.\")\n",
    "    return keep_rows_mask"
   ]
  },
  {
   "cell_type": "code",
   "execution_count": 79,
   "id": "4a759155",
   "metadata": {
    "execution": {
     "iopub.execute_input": "2025-07-30T14:10:02.732828Z",
     "iopub.status.busy": "2025-07-30T14:10:02.732383Z",
     "iopub.status.idle": "2025-07-30T14:10:11.090475Z",
     "shell.execute_reply": "2025-07-30T14:10:11.089445Z"
    },
    "papermill": {
     "duration": 8.395786,
     "end_time": "2025-07-30T14:10:11.092203",
     "exception": false,
     "start_time": "2025-07-30T14:10:02.696417",
     "status": "completed"
    },
    "tags": []
   },
   "outputs": [
    {
     "name": "stdout",
     "output_type": "stream",
     "text": [
      "Stopping execution_time clock.\n",
      "[INFO] Keeping all rows: 89710 rows retained.\n"
     ]
    },
    {
     "name": "stdout",
     "output_type": "stream",
     "text": [
      "[INFO] Keeping all rows: 89710 rows retained.\n"
     ]
    },
    {
     "name": "stdout",
     "output_type": "stream",
     "text": [
      "[INFO] Keeping all rows: 89710 rows retained.\n"
     ]
    },
    {
     "name": "stdout",
     "output_type": "stream",
     "text": [
      "[INFO] Keeping all rows: 89710 rows retained.\n"
     ]
    },
    {
     "data": {
      "text/html": [
       "<div>\n",
       "<style scoped>\n",
       "    .dataframe tbody tr th:only-of-type {\n",
       "        vertical-align: middle;\n",
       "    }\n",
       "\n",
       "    .dataframe tbody tr th {\n",
       "        vertical-align: top;\n",
       "    }\n",
       "\n",
       "    .dataframe thead th {\n",
       "        text-align: right;\n",
       "    }\n",
       "</style>\n",
       "<table border=\"1\" class=\"dataframe\">\n",
       "  <thead>\n",
       "    <tr style=\"text-align: right;\">\n",
       "      <th></th>\n",
       "      <th>run_no</th>\n",
       "      <th>universe_id</th>\n",
       "      <th>universe_settings</th>\n",
       "      <th>execution_time</th>\n",
       "      <th>test_size_n</th>\n",
       "      <th>test_size_frac</th>\n",
       "      <th>fair_main_equalized_odds_difference</th>\n",
       "      <th>fair_main_equalized_odds_ratio</th>\n",
       "      <th>fair_main_demographic_parity_difference</th>\n",
       "      <th>fair_main_demographic_parity_ratio</th>\n",
       "      <th>...</th>\n",
       "      <th>perf_grp_precision_0</th>\n",
       "      <th>perf_grp_precision_1</th>\n",
       "      <th>perf_grp_false positive rate_0</th>\n",
       "      <th>perf_grp_false positive rate_1</th>\n",
       "      <th>perf_grp_false negative rate_0</th>\n",
       "      <th>perf_grp_false negative rate_1</th>\n",
       "      <th>perf_grp_selection rate_0</th>\n",
       "      <th>perf_grp_selection rate_1</th>\n",
       "      <th>perf_grp_count_0</th>\n",
       "      <th>perf_grp_count_1</th>\n",
       "    </tr>\n",
       "  </thead>\n",
       "  <tbody>\n",
       "    <tr>\n",
       "      <th>0</th>\n",
       "      <td>12</td>\n",
       "      <td>7ffeca854c1ed96730ff5cbb1c3bd593</td>\n",
       "      <td>{\"cutoff\": \"quantile_0.1\", \"eval_fairness_grou...</td>\n",
       "      <td>35.500668</td>\n",
       "      <td>89710</td>\n",
       "      <td>1.0</td>\n",
       "      <td>0.083509</td>\n",
       "      <td>0.912226</td>\n",
       "      <td>0.072488</td>\n",
       "      <td>0.924167</td>\n",
       "      <td>...</td>\n",
       "      <td>NaN</td>\n",
       "      <td>NaN</td>\n",
       "      <td>NaN</td>\n",
       "      <td>NaN</td>\n",
       "      <td>NaN</td>\n",
       "      <td>NaN</td>\n",
       "      <td>NaN</td>\n",
       "      <td>NaN</td>\n",
       "      <td>NaN</td>\n",
       "      <td>NaN</td>\n",
       "    </tr>\n",
       "    <tr>\n",
       "      <th>0</th>\n",
       "      <td>12</td>\n",
       "      <td>7ffeca854c1ed96730ff5cbb1c3bd593</td>\n",
       "      <td>{\"cutoff\": \"quantile_0.1\", \"eval_fairness_grou...</td>\n",
       "      <td>35.500668</td>\n",
       "      <td>89710</td>\n",
       "      <td>1.0</td>\n",
       "      <td>0.083509</td>\n",
       "      <td>0.912226</td>\n",
       "      <td>0.072488</td>\n",
       "      <td>0.924167</td>\n",
       "      <td>...</td>\n",
       "      <td>0.119436</td>\n",
       "      <td>0.147369</td>\n",
       "      <td>0.951409</td>\n",
       "      <td>0.867899</td>\n",
       "      <td>0.009713</td>\n",
       "      <td>0.014770</td>\n",
       "      <td>0.955891</td>\n",
       "      <td>0.883403</td>\n",
       "      <td>20540.0</td>\n",
       "      <td>69170.0</td>\n",
       "    </tr>\n",
       "    <tr>\n",
       "      <th>0</th>\n",
       "      <td>12</td>\n",
       "      <td>7ffeca854c1ed96730ff5cbb1c3bd593</td>\n",
       "      <td>{\"cutoff\": \"quantile_0.25\", \"eval_fairness_gro...</td>\n",
       "      <td>35.500668</td>\n",
       "      <td>89710</td>\n",
       "      <td>1.0</td>\n",
       "      <td>0.078222</td>\n",
       "      <td>0.899919</td>\n",
       "      <td>0.063402</td>\n",
       "      <td>0.920636</td>\n",
       "      <td>...</td>\n",
       "      <td>NaN</td>\n",
       "      <td>NaN</td>\n",
       "      <td>NaN</td>\n",
       "      <td>NaN</td>\n",
       "      <td>NaN</td>\n",
       "      <td>NaN</td>\n",
       "      <td>NaN</td>\n",
       "      <td>NaN</td>\n",
       "      <td>NaN</td>\n",
       "      <td>NaN</td>\n",
       "    </tr>\n",
       "    <tr>\n",
       "      <th>0</th>\n",
       "      <td>12</td>\n",
       "      <td>7ffeca854c1ed96730ff5cbb1c3bd593</td>\n",
       "      <td>{\"cutoff\": \"quantile_0.25\", \"eval_fairness_gro...</td>\n",
       "      <td>35.500668</td>\n",
       "      <td>89710</td>\n",
       "      <td>1.0</td>\n",
       "      <td>0.078222</td>\n",
       "      <td>0.899919</td>\n",
       "      <td>0.063402</td>\n",
       "      <td>0.920636</td>\n",
       "      <td>...</td>\n",
       "      <td>0.134438</td>\n",
       "      <td>0.170031</td>\n",
       "      <td>0.781587</td>\n",
       "      <td>0.703365</td>\n",
       "      <td>0.068412</td>\n",
       "      <td>0.053611</td>\n",
       "      <td>0.798880</td>\n",
       "      <td>0.735478</td>\n",
       "      <td>20540.0</td>\n",
       "      <td>69170.0</td>\n",
       "    </tr>\n",
       "  </tbody>\n",
       "</table>\n",
       "<p>4 rows × 50 columns</p>\n",
       "</div>"
      ],
      "text/plain": [
       "  run_no                       universe_id  \\\n",
       "0     12  7ffeca854c1ed96730ff5cbb1c3bd593   \n",
       "0     12  7ffeca854c1ed96730ff5cbb1c3bd593   \n",
       "0     12  7ffeca854c1ed96730ff5cbb1c3bd593   \n",
       "0     12  7ffeca854c1ed96730ff5cbb1c3bd593   \n",
       "\n",
       "                                   universe_settings  execution_time  \\\n",
       "0  {\"cutoff\": \"quantile_0.1\", \"eval_fairness_grou...       35.500668   \n",
       "0  {\"cutoff\": \"quantile_0.1\", \"eval_fairness_grou...       35.500668   \n",
       "0  {\"cutoff\": \"quantile_0.25\", \"eval_fairness_gro...       35.500668   \n",
       "0  {\"cutoff\": \"quantile_0.25\", \"eval_fairness_gro...       35.500668   \n",
       "\n",
       "   test_size_n  test_size_frac  fair_main_equalized_odds_difference  \\\n",
       "0        89710             1.0                             0.083509   \n",
       "0        89710             1.0                             0.083509   \n",
       "0        89710             1.0                             0.078222   \n",
       "0        89710             1.0                             0.078222   \n",
       "\n",
       "   fair_main_equalized_odds_ratio  fair_main_demographic_parity_difference  \\\n",
       "0                        0.912226                                 0.072488   \n",
       "0                        0.912226                                 0.072488   \n",
       "0                        0.899919                                 0.063402   \n",
       "0                        0.899919                                 0.063402   \n",
       "\n",
       "   fair_main_demographic_parity_ratio  ...  perf_grp_precision_0  \\\n",
       "0                            0.924167  ...                   NaN   \n",
       "0                            0.924167  ...              0.119436   \n",
       "0                            0.920636  ...                   NaN   \n",
       "0                            0.920636  ...              0.134438   \n",
       "\n",
       "   perf_grp_precision_1  perf_grp_false positive rate_0  \\\n",
       "0                   NaN                             NaN   \n",
       "0              0.147369                        0.951409   \n",
       "0                   NaN                             NaN   \n",
       "0              0.170031                        0.781587   \n",
       "\n",
       "   perf_grp_false positive rate_1  perf_grp_false negative rate_0  \\\n",
       "0                             NaN                             NaN   \n",
       "0                        0.867899                        0.009713   \n",
       "0                             NaN                             NaN   \n",
       "0                        0.703365                        0.068412   \n",
       "\n",
       "   perf_grp_false negative rate_1  perf_grp_selection rate_0  \\\n",
       "0                             NaN                        NaN   \n",
       "0                        0.014770                   0.955891   \n",
       "0                             NaN                        NaN   \n",
       "0                        0.053611                   0.798880   \n",
       "\n",
       "   perf_grp_selection rate_1  perf_grp_count_0  perf_grp_count_1  \n",
       "0                        NaN               NaN               NaN  \n",
       "0                   0.883403           20540.0           69170.0  \n",
       "0                        NaN               NaN               NaN  \n",
       "0                   0.735478           20540.0           69170.0  \n",
       "\n",
       "[4 rows x 50 columns]"
      ]
     },
     "execution_count": 79,
     "metadata": {},
     "output_type": "execute_result"
    }
   ],
   "source": [
    "final_output = universe_analysis.generate_final_output(\n",
    "    y_pred_prob=probs_test,\n",
    "    y_test=y_true,\n",
    "    org_test=org_test,\n",
    "    filter_data=filter_sub_universe_data,\n",
    "    cp_metrics_df=cp_metrics_df,\n",
    "    save=True,\n",
    ")\n",
    "final_output"
   ]
  },
  {
   "cell_type": "code",
   "execution_count": null,
   "id": "721ff514-cb11-46f8-b6fc-50392f74b5cb",
   "metadata": {
    "papermill": {
     "duration": 0.031699,
     "end_time": "2025-07-30T14:10:11.158503",
     "exception": false,
     "start_time": "2025-07-30T14:10:11.126804",
     "status": "completed"
    },
    "tags": []
   },
   "outputs": [],
   "source": []
  }
 ],
 "metadata": {
  "celltoolbar": "Tags",
  "kernelspec": {
   "display_name": "Python (CMA Fairness)",
   "language": "python",
   "name": "cma_fair_env"
  },
  "language_info": {
   "codemirror_mode": {
    "name": "ipython",
    "version": 3
   },
   "file_extension": ".py",
   "mimetype": "text/x-python",
   "name": "python",
   "nbconvert_exporter": "python",
   "pygments_lexer": "ipython3",
   "version": "3.10.12"
  },
  "papermill": {
   "default_parameters": {},
   "duration": 47.893829,
   "end_time": "2025-07-30T14:10:11.809229",
   "environment_variables": {},
   "exception": null,
   "input_path": "universe_analysis.ipynb",
   "output_path": "output/runs/12/notebooks/m_12-7ffeca854c1ed96730ff5cbb1c3bd593.ipynb",
   "parameters": {
    "output_dir": "output",
    "run_no": "12",
    "seed": "2023",
    "universe": "{\"cutoff\": [\"quantile_0.1\", \"quantile_0.25\"], \"eval_fairness_grouping\": [\"majority-minority\", \"nationality-all\"], \"exclude_features\": \"none\", \"exclude_subgroups\": \"keep-all\", \"model\": \"gbm\", \"scale\": \"scale\", \"training_size\": \"5k\", \"training_year\": \"2010_14\"}",
    "universe_id": "7ffeca854c1ed96730ff5cbb1c3bd593"
   },
   "start_time": "2025-07-30T14:09:23.915400",
   "version": "2.6.0"
  }
 },
 "nbformat": 4,
 "nbformat_minor": 5
}