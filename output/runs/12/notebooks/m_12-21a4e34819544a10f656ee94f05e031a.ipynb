{
 "cells": [
  {
   "cell_type": "code",
   "execution_count": 1,
   "id": "f159f837-637b-42ba-96b5-ec9a68c44524",
   "metadata": {
    "execution": {
     "iopub.execute_input": "2025-07-30T13:05:29.031144Z",
     "iopub.status.busy": "2025-07-30T13:05:29.030312Z",
     "iopub.status.idle": "2025-07-30T13:05:29.043547Z",
     "shell.execute_reply": "2025-07-30T13:05:29.042769Z"
    },
    "papermill": {
     "duration": 0.034295,
     "end_time": "2025-07-30T13:05:29.045303",
     "exception": false,
     "start_time": "2025-07-30T13:05:29.011008",
     "status": "completed"
    },
    "tags": []
   },
   "outputs": [
    {
     "name": "stdout",
     "output_type": "stream",
     "text": [
      "/dss/dsshome1/0C/ra93lal2/cma/CMA_Fairness_v2\n"
     ]
    },
    {
     "name": "stderr",
     "output_type": "stream",
     "text": [
      "/dss/dsshome1/0C/ra93lal2/.local/share/virtualenvs/CMA_Fairness_v2-3j10GkSs/lib/python3.10/site-packages/IPython/core/magics/osm.py:393: UserWarning: This is now an optional IPython functionality, using bookmarks requires you to install the `pickleshare` library.\n",
      "  bkms = self.shell.db.get('bookmarks', {})\n",
      "/dss/dsshome1/0C/ra93lal2/.local/share/virtualenvs/CMA_Fairness_v2-3j10GkSs/lib/python3.10/site-packages/IPython/core/magics/osm.py:417: UserWarning: This is now an optional IPython functionality, setting dhist requires you to install the `pickleshare` library.\n",
      "  self.shell.db['dhist'] = compress_dhist(dhist)[-100:]\n"
     ]
    }
   ],
   "source": [
    "%cd ~/cma/CMA_Fairness_v2"
   ]
  },
  {
   "cell_type": "markdown",
   "id": "de2603b9",
   "metadata": {
    "papermill": {
     "duration": 0.01747,
     "end_time": "2025-07-30T13:05:29.081396",
     "exception": false,
     "start_time": "2025-07-30T13:05:29.063926",
     "status": "completed"
    },
    "tags": []
   },
   "source": [
    "The following cell holds the definition of our parameters, these values can be overriden by rendering the with e.g. the following command:\n",
    "\n",
    "papermill -p alpha 0.2 -p ratio 0.3 universe_analysis.ipynb output/test_run.ipynb"
   ]
  },
  {
   "cell_type": "code",
   "execution_count": 2,
   "id": "a80968a0-40bb-4fa9-85ef-2d5eefb01975",
   "metadata": {
    "execution": {
     "iopub.execute_input": "2025-07-30T13:05:29.119180Z",
     "iopub.status.busy": "2025-07-30T13:05:29.118744Z",
     "iopub.status.idle": "2025-07-30T13:05:29.123797Z",
     "shell.execute_reply": "2025-07-30T13:05:29.122912Z"
    },
    "papermill": {
     "duration": 0.026328,
     "end_time": "2025-07-30T13:05:29.125538",
     "exception": false,
     "start_time": "2025-07-30T13:05:29.099210",
     "status": "completed"
    },
    "tags": []
   },
   "outputs": [
    {
     "name": "stdout",
     "output_type": "stream",
     "text": [
      "Current working directory: /dss/dsshome1/0C/ra93lal2/cma/CMA_Fairness_v2\n"
     ]
    }
   ],
   "source": [
    "import os\n",
    "print(\"Current working directory:\", os.getcwd())"
   ]
  },
  {
   "cell_type": "code",
   "execution_count": 3,
   "id": "2dce4c03",
   "metadata": {
    "execution": {
     "iopub.execute_input": "2025-07-30T13:05:29.163493Z",
     "iopub.status.busy": "2025-07-30T13:05:29.163074Z",
     "iopub.status.idle": "2025-07-30T13:05:29.168980Z",
     "shell.execute_reply": "2025-07-30T13:05:29.168120Z"
    },
    "papermill": {
     "duration": 0.026604,
     "end_time": "2025-07-30T13:05:29.170498",
     "exception": false,
     "start_time": "2025-07-30T13:05:29.143894",
     "status": "completed"
    },
    "tags": [
     "parameters"
    ]
   },
   "outputs": [],
   "source": [
    "run_no = 0\n",
    "universe_id = \"test\"\n",
    "universe = {\n",
    "    \"training_size\": \"25k\", # \"25k\", \"5k\", \"1k\"\n",
    "    \"training_year\": \"2014\", # \"2014\", \"2012_14\", \"2010_14\"\n",
    "    \"scale\": \"scale\", # \"scale\", \"do-not-scale\",\n",
    "    #\"stratify_split\": \"target\", # \"none\", \"target\", \"protected-attribute\", \"both\",\n",
    "    \"model\": \"elasticnet\", # \"logreg\", \"penalized_logreg\", \"rf\", \"gbm\", \"elasticnet\"\n",
    "    \"cutoff\": [\"quantile_0.15\", \"quantile_0.30\"],\n",
    "    \"exclude_features\": \"age\", # \"none\", \"nationality\", \"sex\", \"nationality-sex\", \"age\"\n",
    "    \"exclude_subgroups\": \"keep-all\", # \"keep-all\", \"drop-non-german\"\n",
    "    \"eval_fairness_grouping\": [\"majority-minority\", \"nationality-all\"]\n",
    "}\n",
    "\n",
    "output_dir=\"./output\"\n",
    "seed=0"
   ]
  },
  {
   "cell_type": "code",
   "execution_count": 4,
   "id": "5ef9256d",
   "metadata": {
    "execution": {
     "iopub.execute_input": "2025-07-30T13:05:29.208189Z",
     "iopub.status.busy": "2025-07-30T13:05:29.207704Z",
     "iopub.status.idle": "2025-07-30T13:05:29.212724Z",
     "shell.execute_reply": "2025-07-30T13:05:29.211892Z"
    },
    "papermill": {
     "duration": 0.025624,
     "end_time": "2025-07-30T13:05:29.214211",
     "exception": false,
     "start_time": "2025-07-30T13:05:29.188587",
     "status": "completed"
    },
    "tags": [
     "injected-parameters"
    ]
   },
   "outputs": [],
   "source": [
    "# Parameters\n",
    "universe_id = \"21a4e34819544a10f656ee94f05e031a\"\n",
    "run_no = \"12\"\n",
    "universe = \"{\\\"cutoff\\\": [\\\"quantile_0.1\\\", \\\"quantile_0.25\\\"], \\\"eval_fairness_grouping\\\": [\\\"majority-minority\\\", \\\"nationality-all\\\"], \\\"exclude_features\\\": \\\"nationality\\\", \\\"exclude_subgroups\\\": \\\"keep-all\\\", \\\"model\\\": \\\"penalized_logreg\\\", \\\"scale\\\": \\\"scale\\\", \\\"training_size\\\": \\\"25k\\\", \\\"training_year\\\": \\\"2012_14\\\"}\"\n",
    "output_dir = \"output\"\n",
    "seed = \"2023\"\n"
   ]
  },
  {
   "cell_type": "code",
   "execution_count": 5,
   "id": "1650acaf",
   "metadata": {
    "execution": {
     "iopub.execute_input": "2025-07-30T13:05:29.252676Z",
     "iopub.status.busy": "2025-07-30T13:05:29.252049Z",
     "iopub.status.idle": "2025-07-30T13:05:29.256778Z",
     "shell.execute_reply": "2025-07-30T13:05:29.255858Z"
    },
    "papermill": {
     "duration": 0.025266,
     "end_time": "2025-07-30T13:05:29.258227",
     "exception": false,
     "start_time": "2025-07-30T13:05:29.232961",
     "status": "completed"
    },
    "tags": []
   },
   "outputs": [],
   "source": [
    "import json\n",
    "# Parse universe into dict if it is passed as a string\n",
    "if isinstance(universe, str):\n",
    "    universe = json.loads(universe)"
   ]
  },
  {
   "cell_type": "code",
   "execution_count": 6,
   "id": "16620c48",
   "metadata": {
    "execution": {
     "iopub.execute_input": "2025-07-30T13:05:29.297289Z",
     "iopub.status.busy": "2025-07-30T13:05:29.296669Z",
     "iopub.status.idle": "2025-07-30T13:05:29.339350Z",
     "shell.execute_reply": "2025-07-30T13:05:29.338546Z"
    },
    "papermill": {
     "duration": 0.063731,
     "end_time": "2025-07-30T13:05:29.340996",
     "exception": false,
     "start_time": "2025-07-30T13:05:29.277265",
     "status": "completed"
    },
    "tags": []
   },
   "outputs": [],
   "source": [
    "# Auto-reload the custom package\n",
    "%load_ext autoreload\n",
    "%autoreload 1\n",
    "%aimport fairness_multiverse"
   ]
  },
  {
   "cell_type": "code",
   "execution_count": 7,
   "id": "01c5c9f3",
   "metadata": {
    "execution": {
     "iopub.execute_input": "2025-07-30T13:05:29.381110Z",
     "iopub.status.busy": "2025-07-30T13:05:29.380680Z",
     "iopub.status.idle": "2025-07-30T13:05:31.328915Z",
     "shell.execute_reply": "2025-07-30T13:05:31.327838Z"
    },
    "papermill": {
     "duration": 1.969348,
     "end_time": "2025-07-30T13:05:31.330740",
     "exception": false,
     "start_time": "2025-07-30T13:05:29.361392",
     "status": "completed"
    },
    "tags": []
   },
   "outputs": [],
   "source": [
    "from fairness_multiverse.universe import UniverseAnalysis\n",
    "\n",
    "universe_analysis = UniverseAnalysis(\n",
    "    run_no = run_no,\n",
    "    universe_id = universe_id,\n",
    "    universe = universe,\n",
    "    output_dir=output_dir,\n",
    ")"
   ]
  },
  {
   "cell_type": "code",
   "execution_count": 8,
   "id": "106241f5",
   "metadata": {
    "execution": {
     "iopub.execute_input": "2025-07-30T13:05:31.371359Z",
     "iopub.status.busy": "2025-07-30T13:05:31.370894Z",
     "iopub.status.idle": "2025-07-30T13:05:31.377183Z",
     "shell.execute_reply": "2025-07-30T13:05:31.376315Z"
    },
    "papermill": {
     "duration": 0.028251,
     "end_time": "2025-07-30T13:05:31.378813",
     "exception": false,
     "start_time": "2025-07-30T13:05:31.350562",
     "status": "completed"
    },
    "tags": []
   },
   "outputs": [
    {
     "name": "stdout",
     "output_type": "stream",
     "text": [
      "Using Seed: 2023\n"
     ]
    }
   ],
   "source": [
    "import numpy as np\n",
    "parsed_seed = int(seed)\n",
    "np.random.seed(parsed_seed)\n",
    "print(f\"Using Seed: {parsed_seed}\")"
   ]
  },
  {
   "cell_type": "markdown",
   "id": "e0ebdc57",
   "metadata": {
    "papermill": {
     "duration": 0.019033,
     "end_time": "2025-07-30T13:05:31.417422",
     "exception": false,
     "start_time": "2025-07-30T13:05:31.398389",
     "status": "completed"
    },
    "tags": []
   },
   "source": [
    "# Loading Data"
   ]
  },
  {
   "cell_type": "markdown",
   "id": "681925a3",
   "metadata": {
    "papermill": {
     "duration": 0.019603,
     "end_time": "2025-07-30T13:05:31.457242",
     "exception": false,
     "start_time": "2025-07-30T13:05:31.437639",
     "status": "completed"
    },
    "tags": []
   },
   "source": [
    "Load siab_train, siab_test, siab_calib and/or \n",
    "load siab_train_features, siab_train_labels"
   ]
  },
  {
   "cell_type": "code",
   "execution_count": 9,
   "id": "f0496b8a",
   "metadata": {
    "execution": {
     "iopub.execute_input": "2025-07-30T13:05:31.499305Z",
     "iopub.status.busy": "2025-07-30T13:05:31.498847Z",
     "iopub.status.idle": "2025-07-30T13:05:44.056826Z",
     "shell.execute_reply": "2025-07-30T13:05:44.055594Z"
    },
    "papermill": {
     "duration": 12.581376,
     "end_time": "2025-07-30T13:05:44.058687",
     "exception": false,
     "start_time": "2025-07-30T13:05:31.477311",
     "status": "completed"
    },
    "tags": []
   },
   "outputs": [
    {
     "name": "stdout",
     "output_type": "stream",
     "text": [
      "Loading SIAB data from cache: data/siab_cached.csv.gz\n"
     ]
    },
    {
     "name": "stdout",
     "output_type": "stream",
     "text": [
      "(643690, 164)\n"
     ]
    }
   ],
   "source": [
    "from pathlib import Path\n",
    "import pandas as pd\n",
    "\n",
    "# File paths\n",
    "raw_file = Path(\"data/raw/siab.csv\")\n",
    "cache_file = Path(\"data/siab_cached.csv.gz\")\n",
    "\n",
    "# Ensure cache directory exists\n",
    "cache_file.parent.mkdir(parents=True, exist_ok=True)\n",
    "\n",
    "# Load with simple caching\n",
    "if cache_file.exists():\n",
    "    print(f\"Loading SIAB data from cache: {cache_file}\")\n",
    "    siab = pd.read_csv(cache_file, compression='gzip')\n",
    "else:\n",
    "    print(f\"Cache not found. Reading raw SIAB data: {raw_file}\")\n",
    "    siab = pd.read_csv(raw_file)\n",
    "    siab.to_csv(cache_file, index=False, compression='gzip')\n",
    "    print(f\"Cached SIAB data to: {cache_file}\")\n",
    "\n",
    "# Now use `siab` DataFrame as needed\n",
    "print(siab.shape)"
   ]
  },
  {
   "cell_type": "code",
   "execution_count": 10,
   "id": "db0ca512-5f53-4dba-abdb-a2888bca41ba",
   "metadata": {
    "execution": {
     "iopub.execute_input": "2025-07-30T13:05:44.108665Z",
     "iopub.status.busy": "2025-07-30T13:05:44.107848Z",
     "iopub.status.idle": "2025-07-30T13:05:44.113847Z",
     "shell.execute_reply": "2025-07-30T13:05:44.112791Z"
    },
    "papermill": {
     "duration": 0.031827,
     "end_time": "2025-07-30T13:05:44.115590",
     "exception": false,
     "start_time": "2025-07-30T13:05:44.083763",
     "status": "completed"
    },
    "tags": []
   },
   "outputs": [],
   "source": [
    "#siab"
   ]
  },
  {
   "cell_type": "code",
   "execution_count": 11,
   "id": "a0edb063",
   "metadata": {
    "execution": {
     "iopub.execute_input": "2025-07-30T13:05:44.164708Z",
     "iopub.status.busy": "2025-07-30T13:05:44.163711Z",
     "iopub.status.idle": "2025-07-30T13:05:44.169306Z",
     "shell.execute_reply": "2025-07-30T13:05:44.168027Z"
    },
    "papermill": {
     "duration": 0.032448,
     "end_time": "2025-07-30T13:05:44.171129",
     "exception": false,
     "start_time": "2025-07-30T13:05:44.138681",
     "status": "completed"
    },
    "tags": []
   },
   "outputs": [],
   "source": [
    "#import pandas as pd\n",
    "#\n",
    "#X_train = pd.read_csv(\"./data/X_train.csv\")\n",
    "#y_train = pd.read_csv(\"./data/y_train.csv\")"
   ]
  },
  {
   "cell_type": "code",
   "execution_count": 12,
   "id": "63d08085",
   "metadata": {
    "execution": {
     "iopub.execute_input": "2025-07-30T13:05:44.219325Z",
     "iopub.status.busy": "2025-07-30T13:05:44.218209Z",
     "iopub.status.idle": "2025-07-30T13:05:44.224069Z",
     "shell.execute_reply": "2025-07-30T13:05:44.222960Z"
    },
    "papermill": {
     "duration": 0.031553,
     "end_time": "2025-07-30T13:05:44.225746",
     "exception": false,
     "start_time": "2025-07-30T13:05:44.194193",
     "status": "completed"
    },
    "tags": []
   },
   "outputs": [],
   "source": [
    "#X_test = pd.read_csv(\"./data/X_test.csv\")\n",
    "#y_true = pd.read_csv(\"./data/y_test.csv\")"
   ]
  },
  {
   "cell_type": "code",
   "execution_count": 13,
   "id": "98a8d0fa-1d3d-4ed8-bb2c-281470e24add",
   "metadata": {
    "execution": {
     "iopub.execute_input": "2025-07-30T13:05:44.274404Z",
     "iopub.status.busy": "2025-07-30T13:05:44.273702Z",
     "iopub.status.idle": "2025-07-30T13:05:44.279170Z",
     "shell.execute_reply": "2025-07-30T13:05:44.278088Z"
    },
    "papermill": {
     "duration": 0.031978,
     "end_time": "2025-07-30T13:05:44.280869",
     "exception": false,
     "start_time": "2025-07-30T13:05:44.248891",
     "status": "completed"
    },
    "tags": []
   },
   "outputs": [],
   "source": [
    "# Calibration data for conformal\n",
    "#X_calib = pd.read_csv(\"./data/X_calib.csv\")\n",
    "#y_calib = pd.read_csv(\"./data/y_calib.csv\")"
   ]
  },
  {
   "cell_type": "markdown",
   "id": "997051c5-15bd-4b69-9786-c3001a3ce484",
   "metadata": {
    "papermill": {
     "duration": 0.023223,
     "end_time": "2025-07-30T13:05:44.327586",
     "exception": false,
     "start_time": "2025-07-30T13:05:44.304363",
     "status": "completed"
    },
    "tags": []
   },
   "source": [
    "# Splitting Data and Setting Training Data Size"
   ]
  },
  {
   "cell_type": "code",
   "execution_count": 14,
   "id": "e993b61f-042d-41a6-8c81-f55681f86335",
   "metadata": {
    "execution": {
     "iopub.execute_input": "2025-07-30T13:05:44.375695Z",
     "iopub.status.busy": "2025-07-30T13:05:44.374835Z",
     "iopub.status.idle": "2025-07-30T13:05:44.389865Z",
     "shell.execute_reply": "2025-07-30T13:05:44.388728Z"
    },
    "papermill": {
     "duration": 0.041376,
     "end_time": "2025-07-30T13:05:44.391632",
     "exception": false,
     "start_time": "2025-07-30T13:05:44.350256",
     "status": "completed"
    },
    "tags": []
   },
   "outputs": [],
   "source": [
    "def sample_by_year_size(df,\n",
    "                        training_year: str,\n",
    "                        training_size: str,\n",
    "                        random_state: int = 42):\n",
    "    # --- parse training_year into a list of int years ---\n",
    "    if \"_\" in training_year:\n",
    "        start_str, end_str = training_year.split(\"_\", 1)\n",
    "        start = int(start_str)\n",
    "        end   = int(end_str) if len(end_str) == 4 else (int(end_str) + (start // 100)*100)\n",
    "        years = list(range(start, end + 1))\n",
    "    else:\n",
    "        years = [int(training_year)]\n",
    "\n",
    "    df = df[df[\"year\"].isin(years)].reset_index(drop=True)\n",
    "\n",
    "    # --- map training_size to total number of samples ---\n",
    "    total_map = {\"25k\": 25_000, \"5k\": 5_000, \"1k\": 1_000}\n",
    "    if training_size not in total_map:\n",
    "        return df  # e.g. \"all\"\n",
    "\n",
    "    total_samples = total_map[training_size]\n",
    "    n_years       = len(years)\n",
    "    base          = total_samples // n_years\n",
    "    remainder     = total_samples % n_years\n",
    "\n",
    "    # --- build a dict: year -> how many to sample ---\n",
    "    # give +1 to the first `remainder` years in ascending order\n",
    "    quotas = {\n",
    "        year: base + (1 if idx < remainder else 0)\n",
    "        for idx, year in enumerate(sorted(years))\n",
    "    }\n",
    "\n",
    "    # --- sample per‐year according to the quota dict ---\n",
    "    sampled = (\n",
    "        df\n",
    "        .groupby(\"year\", group_keys=False)\n",
    "        .apply(lambda grp: grp.sample(\n",
    "            n=min(len(grp), quotas[grp.name]),\n",
    "            random_state=random_state))\n",
    "        .reset_index(drop=True)\n",
    "    )\n",
    "\n",
    "    return sampled"
   ]
  },
  {
   "cell_type": "code",
   "execution_count": 15,
   "id": "c0ccd338-0e02-41f3-a09d-f56f9266e3fb",
   "metadata": {
    "execution": {
     "iopub.execute_input": "2025-07-30T13:05:44.440916Z",
     "iopub.status.busy": "2025-07-30T13:05:44.440131Z",
     "iopub.status.idle": "2025-07-30T13:05:44.453634Z",
     "shell.execute_reply": "2025-07-30T13:05:44.452664Z"
    },
    "papermill": {
     "duration": 0.040302,
     "end_time": "2025-07-30T13:05:44.455509",
     "exception": false,
     "start_time": "2025-07-30T13:05:44.415207",
     "status": "completed"
    },
    "tags": []
   },
   "outputs": [
    {
     "data": {
      "text/plain": [
       "'25k'"
      ]
     },
     "execution_count": 15,
     "metadata": {},
     "output_type": "execute_result"
    }
   ],
   "source": [
    "universe[\"training_size\"]"
   ]
  },
  {
   "cell_type": "code",
   "execution_count": 16,
   "id": "ca707fd7-8047-4acd-bfa5-66248fbbf8e6",
   "metadata": {
    "execution": {
     "iopub.execute_input": "2025-07-30T13:05:44.504100Z",
     "iopub.status.busy": "2025-07-30T13:05:44.503160Z",
     "iopub.status.idle": "2025-07-30T13:05:44.511086Z",
     "shell.execute_reply": "2025-07-30T13:05:44.510046Z"
    },
    "papermill": {
     "duration": 0.033871,
     "end_time": "2025-07-30T13:05:44.512872",
     "exception": false,
     "start_time": "2025-07-30T13:05:44.479001",
     "status": "completed"
    },
    "tags": []
   },
   "outputs": [
    {
     "data": {
      "text/plain": [
       "'2012_14'"
      ]
     },
     "execution_count": 16,
     "metadata": {},
     "output_type": "execute_result"
    }
   ],
   "source": [
    "universe[\"training_year\"]"
   ]
  },
  {
   "cell_type": "code",
   "execution_count": 17,
   "id": "aea9c6ef-6f46-42c8-85eb-5a62025c1508",
   "metadata": {
    "execution": {
     "iopub.execute_input": "2025-07-30T13:05:44.561267Z",
     "iopub.status.busy": "2025-07-30T13:05:44.560803Z",
     "iopub.status.idle": "2025-07-30T13:05:45.343372Z",
     "shell.execute_reply": "2025-07-30T13:05:45.342408Z"
    },
    "papermill": {
     "duration": 0.80859,
     "end_time": "2025-07-30T13:05:45.345318",
     "exception": false,
     "start_time": "2025-07-30T13:05:44.536728",
     "status": "completed"
    },
    "tags": []
   },
   "outputs": [],
   "source": [
    "siab_train = sample_by_year_size(siab,\n",
    "                               training_year=universe[\"training_year\"],\n",
    "                               training_size=universe[\"training_size\"])"
   ]
  },
  {
   "cell_type": "code",
   "execution_count": 18,
   "id": "8d3afb32-789d-442c-8d5d-9f5aa8dd2eed",
   "metadata": {
    "execution": {
     "iopub.execute_input": "2025-07-30T13:05:45.393540Z",
     "iopub.status.busy": "2025-07-30T13:05:45.392964Z",
     "iopub.status.idle": "2025-07-30T13:05:45.403169Z",
     "shell.execute_reply": "2025-07-30T13:05:45.402188Z"
    },
    "papermill": {
     "duration": 0.03633,
     "end_time": "2025-07-30T13:05:45.404855",
     "exception": false,
     "start_time": "2025-07-30T13:05:45.368525",
     "status": "completed"
    },
    "tags": []
   },
   "outputs": [
    {
     "data": {
      "text/plain": [
       "(25000, 164)"
      ]
     },
     "execution_count": 18,
     "metadata": {},
     "output_type": "execute_result"
    }
   ],
   "source": [
    "siab_train.shape"
   ]
  },
  {
   "cell_type": "code",
   "execution_count": 19,
   "id": "d582db68-1a4c-47fb-84fc-08518dc1975a",
   "metadata": {
    "execution": {
     "iopub.execute_input": "2025-07-30T13:05:45.453942Z",
     "iopub.status.busy": "2025-07-30T13:05:45.452975Z",
     "iopub.status.idle": "2025-07-30T13:05:45.464097Z",
     "shell.execute_reply": "2025-07-30T13:05:45.463142Z"
    },
    "papermill": {
     "duration": 0.037973,
     "end_time": "2025-07-30T13:05:45.465925",
     "exception": false,
     "start_time": "2025-07-30T13:05:45.427952",
     "status": "completed"
    },
    "tags": []
   },
   "outputs": [
    {
     "data": {
      "text/plain": [
       "year\n",
       "2012    8334\n",
       "2013    8333\n",
       "2014    8333\n",
       "dtype: int64"
      ]
     },
     "metadata": {},
     "output_type": "display_data"
    }
   ],
   "source": [
    "display(siab_train.groupby(\"year\").size())"
   ]
  },
  {
   "cell_type": "code",
   "execution_count": 20,
   "id": "a561edb4-d032-42cb-8256-22eac1111c64",
   "metadata": {
    "execution": {
     "iopub.execute_input": "2025-07-30T13:05:45.515277Z",
     "iopub.status.busy": "2025-07-30T13:05:45.514747Z",
     "iopub.status.idle": "2025-07-30T13:05:45.757294Z",
     "shell.execute_reply": "2025-07-30T13:05:45.756216Z"
    },
    "papermill": {
     "duration": 0.270067,
     "end_time": "2025-07-30T13:05:45.759264",
     "exception": false,
     "start_time": "2025-07-30T13:05:45.489197",
     "status": "completed"
    },
    "tags": []
   },
   "outputs": [],
   "source": [
    "#siab_train = siab_s[siab_s.year < 2015]\n",
    "siab_calib = siab[siab.year == 2015]\n",
    "siab_test = siab[siab.year == 2016]"
   ]
  },
  {
   "cell_type": "code",
   "execution_count": 21,
   "id": "472de16f-c3db-4916-846b-1f0de9cf1746",
   "metadata": {
    "execution": {
     "iopub.execute_input": "2025-07-30T13:05:45.807882Z",
     "iopub.status.busy": "2025-07-30T13:05:45.807329Z",
     "iopub.status.idle": "2025-07-30T13:05:45.822616Z",
     "shell.execute_reply": "2025-07-30T13:05:45.821499Z"
    },
    "papermill": {
     "duration": 0.041765,
     "end_time": "2025-07-30T13:05:45.824490",
     "exception": false,
     "start_time": "2025-07-30T13:05:45.782725",
     "status": "completed"
    },
    "tags": []
   },
   "outputs": [],
   "source": [
    "X_train = siab_train.iloc[:,4:164]\n",
    "y_train = siab_train.iloc[:, [3]]"
   ]
  },
  {
   "cell_type": "code",
   "execution_count": 22,
   "id": "828c96af-f43a-4ed6-ba47-8ac73a47d56c",
   "metadata": {
    "execution": {
     "iopub.execute_input": "2025-07-30T13:05:45.874714Z",
     "iopub.status.busy": "2025-07-30T13:05:45.873714Z",
     "iopub.status.idle": "2025-07-30T13:05:45.929239Z",
     "shell.execute_reply": "2025-07-30T13:05:45.928172Z"
    },
    "papermill": {
     "duration": 0.081896,
     "end_time": "2025-07-30T13:05:45.931068",
     "exception": false,
     "start_time": "2025-07-30T13:05:45.849172",
     "status": "completed"
    },
    "tags": []
   },
   "outputs": [],
   "source": [
    "X_calib = siab_calib.iloc[:,4:164]\n",
    "y_calib = siab_calib.iloc[:, [3]]"
   ]
  },
  {
   "cell_type": "code",
   "execution_count": 23,
   "id": "c34be9c3-6bd6-476e-acd3-845840e303be",
   "metadata": {
    "execution": {
     "iopub.execute_input": "2025-07-30T13:05:45.980794Z",
     "iopub.status.busy": "2025-07-30T13:05:45.979645Z",
     "iopub.status.idle": "2025-07-30T13:05:46.034996Z",
     "shell.execute_reply": "2025-07-30T13:05:46.033942Z"
    },
    "papermill": {
     "duration": 0.082187,
     "end_time": "2025-07-30T13:05:46.037149",
     "exception": false,
     "start_time": "2025-07-30T13:05:45.954962",
     "status": "completed"
    },
    "tags": []
   },
   "outputs": [],
   "source": [
    "X_test = siab_test.iloc[:,4:164]\n",
    "y_true = siab_test.iloc[:, [3]]"
   ]
  },
  {
   "cell_type": "markdown",
   "id": "9901737e-04df-44f0-9100-f5ad144ed040",
   "metadata": {
    "papermill": {
     "duration": 0.022769,
     "end_time": "2025-07-30T13:05:46.084340",
     "exception": false,
     "start_time": "2025-07-30T13:05:46.061571",
     "status": "completed"
    },
    "tags": []
   },
   "source": [
    "# Splitting Data and Setting Training Data Size OLD VERSION"
   ]
  },
  {
   "cell_type": "code",
   "execution_count": 24,
   "id": "acbc8f7d-8fc8-4e86-8c59-5dcb0f58384b",
   "metadata": {
    "execution": {
     "iopub.execute_input": "2025-07-30T13:05:46.133014Z",
     "iopub.status.busy": "2025-07-30T13:05:46.132230Z",
     "iopub.status.idle": "2025-07-30T13:05:46.138359Z",
     "shell.execute_reply": "2025-07-30T13:05:46.137360Z"
    },
    "papermill": {
     "duration": 0.032653,
     "end_time": "2025-07-30T13:05:46.140240",
     "exception": false,
     "start_time": "2025-07-30T13:05:46.107587",
     "status": "completed"
    },
    "tags": []
   },
   "outputs": [],
   "source": [
    "#def sample_by_year(df, training_size, random_state=42):\n",
    "#    if training_size == \"2014\":\n",
    "#        return df[df[\"year\"] == 2014].reset_index(drop=True)\n",
    "#    \n",
    "#    size_map = {\n",
    "#        \"25k\": 5000,\n",
    "#        \"5k\": 1000,\n",
    "#        \"1k\": 200\n",
    "#    }\n",
    "#\n",
    "#    if training_size not in size_map:\n",
    "#        return df.reset_index(drop=True)  # use all data\n",
    "#\n",
    "#    n_per_year = size_map[training_size]\n",
    "#    grouped = df.groupby(\"year\")\n",
    "#    sampled = grouped.apply(lambda x: x.sample(n=min(n_per_year, len(x)), random_state=random_state))\n",
    "#    return sampled.reset_index(drop=True)"
   ]
  },
  {
   "cell_type": "code",
   "execution_count": 25,
   "id": "6d931f52-beaf-43ff-9e78-9d44a448d54e",
   "metadata": {
    "execution": {
     "iopub.execute_input": "2025-07-30T13:05:46.190402Z",
     "iopub.status.busy": "2025-07-30T13:05:46.189489Z",
     "iopub.status.idle": "2025-07-30T13:05:46.194802Z",
     "shell.execute_reply": "2025-07-30T13:05:46.193756Z"
    },
    "papermill": {
     "duration": 0.032368,
     "end_time": "2025-07-30T13:05:46.197074",
     "exception": false,
     "start_time": "2025-07-30T13:05:46.164706",
     "status": "completed"
    },
    "tags": []
   },
   "outputs": [],
   "source": [
    "#siab_s = sample_by_year(siab, universe[\"training_size\"])"
   ]
  },
  {
   "cell_type": "code",
   "execution_count": 26,
   "id": "5db0a40e-a4e2-4920-be85-b12ae061d70d",
   "metadata": {
    "execution": {
     "iopub.execute_input": "2025-07-30T13:05:46.246187Z",
     "iopub.status.busy": "2025-07-30T13:05:46.245707Z",
     "iopub.status.idle": "2025-07-30T13:05:46.250889Z",
     "shell.execute_reply": "2025-07-30T13:05:46.249938Z"
    },
    "papermill": {
     "duration": 0.031772,
     "end_time": "2025-07-30T13:05:46.252756",
     "exception": false,
     "start_time": "2025-07-30T13:05:46.220984",
     "status": "completed"
    },
    "tags": []
   },
   "outputs": [],
   "source": [
    "#display(siab_s.groupby(\"year\").size())"
   ]
  },
  {
   "cell_type": "code",
   "execution_count": 27,
   "id": "e6c733c5",
   "metadata": {
    "execution": {
     "iopub.execute_input": "2025-07-30T13:05:46.302160Z",
     "iopub.status.busy": "2025-07-30T13:05:46.301691Z",
     "iopub.status.idle": "2025-07-30T13:05:46.411631Z",
     "shell.execute_reply": "2025-07-30T13:05:46.410611Z"
    },
    "papermill": {
     "duration": 0.138377,
     "end_time": "2025-07-30T13:05:46.414878",
     "exception": false,
     "start_time": "2025-07-30T13:05:46.276501",
     "status": "completed"
    },
    "tags": []
   },
   "outputs": [],
   "source": [
    "# Auxiliary data needed downstream in the pipeline\n",
    "\n",
    "org_train = X_train.copy()\n",
    "org_test = X_test.copy()\n",
    "org_calib = X_calib.copy()"
   ]
  },
  {
   "cell_type": "code",
   "execution_count": 28,
   "id": "1466abac-c6da-4492-a62f-4240ae3783af",
   "metadata": {
    "execution": {
     "iopub.execute_input": "2025-07-30T13:05:46.480019Z",
     "iopub.status.busy": "2025-07-30T13:05:46.479241Z",
     "iopub.status.idle": "2025-07-30T13:05:46.485859Z",
     "shell.execute_reply": "2025-07-30T13:05:46.484696Z"
    },
    "papermill": {
     "duration": 0.034943,
     "end_time": "2025-07-30T13:05:46.487555",
     "exception": false,
     "start_time": "2025-07-30T13:05:46.452612",
     "status": "completed"
    },
    "tags": []
   },
   "outputs": [],
   "source": [
    "# put in other script?\n",
    "# Group sizes\n",
    "\n",
    "#def calculate_percentages(df, df_name):\n",
    "#    total_entries = len(df)\n",
    "#\n",
    "#    female_pct = (df['frau1'] == 1).mean() * 100\n",
    "#    non_german_pct = ((df['maxdeutsch1'] == 0) & (df['maxdeutsch.Missing.'] == 0)).mean() * 100\n",
    "#    non_german_male_pct = ((df['frau1'] == 0) & (df['maxdeutsch1'] == 0) & (df['maxdeutsch.Missing.'] == 0)).mean() * 100\n",
    "#    non_german_female_pct = ((df['frau1'] == 1) & (df['maxdeutsch1'] == 0) & (df['maxdeutsch.Missing.'] == 0)).mean() * 100\n",
    "#\n",
    "#    print(f\"--- {df_name} ---\")\n",
    "#    print(f\"Female: {female_pct:.2f}%\")\n",
    "#    print(f\"Non-German: {non_german_pct:.2f}%\")\n",
    "#    print(f\"Non-German Male: {non_german_male_pct:.2f}%\")\n",
    "#    print(f\"Non-German Female: {non_german_female_pct:.2f}%\\n\")\n",
    "#\n",
    "## Calculate for each DataFrame\n",
    "#calculate_percentages(siab_calib, \"siab_calib\")\n",
    "#calculate_percentages(siab_test, \"siab_test\")\n",
    "#calculate_percentages(siab_train, \"siab_train\")"
   ]
  },
  {
   "cell_type": "markdown",
   "id": "0a4a1b33",
   "metadata": {
    "papermill": {
     "duration": 0.023256,
     "end_time": "2025-07-30T13:05:46.535765",
     "exception": false,
     "start_time": "2025-07-30T13:05:46.512509",
     "status": "completed"
    },
    "tags": []
   },
   "source": [
    "# Preprocessing Data"
   ]
  },
  {
   "cell_type": "code",
   "execution_count": 29,
   "id": "ca879031",
   "metadata": {
    "execution": {
     "iopub.execute_input": "2025-07-30T13:05:46.585949Z",
     "iopub.status.busy": "2025-07-30T13:05:46.585384Z",
     "iopub.status.idle": "2025-07-30T13:05:46.592663Z",
     "shell.execute_reply": "2025-07-30T13:05:46.591498Z"
    },
    "papermill": {
     "duration": 0.034603,
     "end_time": "2025-07-30T13:05:46.594477",
     "exception": false,
     "start_time": "2025-07-30T13:05:46.559874",
     "status": "completed"
    },
    "tags": []
   },
   "outputs": [],
   "source": [
    "# EXCLUDE PROTECTED FEATURES\n",
    "# ----------------------\n",
    "# \"exclude_features\": \"none\", # \"nationality\", \"sex\", \"nationality-sex\"\n",
    "\n",
    "excluded_features = universe[\"exclude_features\"].split(\"-\") # split, e.g.: \"nationality-sex\" -> [\"nationality\", \"sex\"]\n",
    "excluded_features_dictionary = {\n",
    "    \"nationality\": [\"maxdeutsch1\", \"maxdeutsch.Missing.\"],\n",
    "    \"sex\": [\"frau1\"],\n",
    "    \"age\": [\"age\"],\n",
    "}\n"
   ]
  },
  {
   "cell_type": "code",
   "execution_count": 30,
   "id": "b745ac60",
   "metadata": {
    "execution": {
     "iopub.execute_input": "2025-07-30T13:05:46.645792Z",
     "iopub.status.busy": "2025-07-30T13:05:46.644959Z",
     "iopub.status.idle": "2025-07-30T13:05:46.650978Z",
     "shell.execute_reply": "2025-07-30T13:05:46.650015Z"
    },
    "papermill": {
     "duration": 0.033261,
     "end_time": "2025-07-30T13:05:46.652847",
     "exception": false,
     "start_time": "2025-07-30T13:05:46.619586",
     "status": "completed"
    },
    "tags": []
   },
   "outputs": [],
   "source": [
    "# Code nice names to column names\n",
    "\n",
    "excluded_features_columns = [\n",
    "    excluded_features_dictionary[f] for f in excluded_features if len(f) > 0 and f != \"none\"\n",
    "]"
   ]
  },
  {
   "cell_type": "code",
   "execution_count": 31,
   "id": "f84f73a2",
   "metadata": {
    "execution": {
     "iopub.execute_input": "2025-07-30T13:05:46.697022Z",
     "iopub.status.busy": "2025-07-30T13:05:46.696568Z",
     "iopub.status.idle": "2025-07-30T13:05:46.703261Z",
     "shell.execute_reply": "2025-07-30T13:05:46.702495Z"
    },
    "papermill": {
     "duration": 0.030194,
     "end_time": "2025-07-30T13:05:46.704849",
     "exception": false,
     "start_time": "2025-07-30T13:05:46.674655",
     "status": "completed"
    },
    "tags": []
   },
   "outputs": [],
   "source": [
    "from utils import flatten_once\n",
    "\n",
    "excluded_features_columns = flatten_once(excluded_features_columns)"
   ]
  },
  {
   "cell_type": "code",
   "execution_count": 32,
   "id": "884dea22",
   "metadata": {
    "execution": {
     "iopub.execute_input": "2025-07-30T13:05:46.753316Z",
     "iopub.status.busy": "2025-07-30T13:05:46.752865Z",
     "iopub.status.idle": "2025-07-30T13:05:46.767490Z",
     "shell.execute_reply": "2025-07-30T13:05:46.766560Z"
    },
    "papermill": {
     "duration": 0.040406,
     "end_time": "2025-07-30T13:05:46.769420",
     "exception": false,
     "start_time": "2025-07-30T13:05:46.729014",
     "status": "completed"
    },
    "tags": []
   },
   "outputs": [
    {
     "name": "stdout",
     "output_type": "stream",
     "text": [
      "Dropping features: ['maxdeutsch1', 'maxdeutsch.Missing.']\n"
     ]
    }
   ],
   "source": [
    "if len(excluded_features_columns) > 0:\n",
    "    print(f\"Dropping features: {excluded_features_columns}\")\n",
    "    X_train.drop(excluded_features_columns, axis=1, inplace=True)"
   ]
  },
  {
   "cell_type": "code",
   "execution_count": 33,
   "id": "95ab8b16",
   "metadata": {
    "execution": {
     "iopub.execute_input": "2025-07-30T13:05:46.818845Z",
     "iopub.status.busy": "2025-07-30T13:05:46.818335Z",
     "iopub.status.idle": "2025-07-30T13:05:46.871624Z",
     "shell.execute_reply": "2025-07-30T13:05:46.870538Z"
    },
    "papermill": {
     "duration": 0.080136,
     "end_time": "2025-07-30T13:05:46.873734",
     "exception": false,
     "start_time": "2025-07-30T13:05:46.793598",
     "status": "completed"
    },
    "tags": []
   },
   "outputs": [
    {
     "name": "stdout",
     "output_type": "stream",
     "text": [
      "Dropping features: ['maxdeutsch1', 'maxdeutsch.Missing.']\n"
     ]
    }
   ],
   "source": [
    "if len(excluded_features_columns) > 0:\n",
    "    print(f\"Dropping features: {excluded_features_columns}\")\n",
    "    X_test.drop(excluded_features_columns, axis=1, inplace=True)"
   ]
  },
  {
   "cell_type": "code",
   "execution_count": 34,
   "id": "1853aaf5-fb9f-46cb-a2b5-8ea4ae2237e4",
   "metadata": {
    "execution": {
     "iopub.execute_input": "2025-07-30T13:05:46.964266Z",
     "iopub.status.busy": "2025-07-30T13:05:46.963403Z",
     "iopub.status.idle": "2025-07-30T13:05:47.014223Z",
     "shell.execute_reply": "2025-07-30T13:05:47.013338Z"
    },
    "papermill": {
     "duration": 0.11312,
     "end_time": "2025-07-30T13:05:47.016313",
     "exception": false,
     "start_time": "2025-07-30T13:05:46.903193",
     "status": "completed"
    },
    "tags": []
   },
   "outputs": [
    {
     "name": "stdout",
     "output_type": "stream",
     "text": [
      "Dropping features: ['maxdeutsch1', 'maxdeutsch.Missing.']\n"
     ]
    }
   ],
   "source": [
    "if len(excluded_features_columns) > 0:\n",
    "    print(f\"Dropping features: {excluded_features_columns}\")\n",
    "    X_calib.drop(excluded_features_columns, axis=1, inplace=True)"
   ]
  },
  {
   "cell_type": "code",
   "execution_count": 35,
   "id": "6727d079-03e5-481e-9d38-292a90b7a0a8",
   "metadata": {
    "execution": {
     "iopub.execute_input": "2025-07-30T13:05:47.062235Z",
     "iopub.status.busy": "2025-07-30T13:05:47.061865Z",
     "iopub.status.idle": "2025-07-30T13:05:47.066300Z",
     "shell.execute_reply": "2025-07-30T13:05:47.065421Z"
    },
    "papermill": {
     "duration": 0.035655,
     "end_time": "2025-07-30T13:05:47.074570",
     "exception": false,
     "start_time": "2025-07-30T13:05:47.038915",
     "status": "completed"
    },
    "tags": []
   },
   "outputs": [],
   "source": [
    "# SPLIT & STRATIFY DATA\n",
    "# ----------------------"
   ]
  },
  {
   "cell_type": "code",
   "execution_count": 36,
   "id": "76c4dc6d",
   "metadata": {
    "execution": {
     "iopub.execute_input": "2025-07-30T13:05:47.121778Z",
     "iopub.status.busy": "2025-07-30T13:05:47.121229Z",
     "iopub.status.idle": "2025-07-30T13:05:47.127659Z",
     "shell.execute_reply": "2025-07-30T13:05:47.126470Z"
    },
    "papermill": {
     "duration": 0.031647,
     "end_time": "2025-07-30T13:05:47.129510",
     "exception": false,
     "start_time": "2025-07-30T13:05:47.097863",
     "status": "completed"
    },
    "tags": []
   },
   "outputs": [],
   "source": [
    "# EXCLUDE CERTAIN SUBGROUPS\n",
    "# ----------------------\n",
    "\n",
    "mode = universe.get(\"exclude_subgroups\", \"keep-all\") \n",
    "# Fetches the exclude_subgroups setting from the universe dict.\n",
    "# Defaults to \"keep-all\" if the key is missing."
   ]
  },
  {
   "cell_type": "code",
   "execution_count": 37,
   "id": "21994072",
   "metadata": {
    "execution": {
     "iopub.execute_input": "2025-07-30T13:05:47.175817Z",
     "iopub.status.busy": "2025-07-30T13:05:47.175181Z",
     "iopub.status.idle": "2025-07-30T13:05:47.183134Z",
     "shell.execute_reply": "2025-07-30T13:05:47.182048Z"
    },
    "papermill": {
     "duration": 0.032767,
     "end_time": "2025-07-30T13:05:47.184892",
     "exception": false,
     "start_time": "2025-07-30T13:05:47.152125",
     "status": "completed"
    },
    "tags": []
   },
   "outputs": [],
   "source": [
    "if mode == \"keep-all\":\n",
    "    keep_mask = pd.Series(True, index=org_train.index)\n",
    "\n",
    "# org_train contains the original feature columns from features_org (in Simson)\n",
    "# features_org contains unprocessed features, for me X_train at beginning ???\n",
    "# For keep-all, creates a boolean Series (keep_mask) of all True, so no rows are removed.\n",
    "\n",
    "elif mode == \"drop-non-german\":\n",
    "    keep_mask = org_train[\"maxdeutsch1\"] == 1 # ??? what about missing values?\n",
    "\n",
    "else:\n",
    "    raise ValueError(f\"Unsupported mode for exclude_subgroups: {mode}\")\n"
   ]
  },
  {
   "cell_type": "code",
   "execution_count": 38,
   "id": "71651440",
   "metadata": {
    "execution": {
     "iopub.execute_input": "2025-07-30T13:05:47.231836Z",
     "iopub.status.busy": "2025-07-30T13:05:47.230797Z",
     "iopub.status.idle": "2025-07-30T13:05:47.238645Z",
     "shell.execute_reply": "2025-07-30T13:05:47.237426Z"
    },
    "papermill": {
     "duration": 0.033251,
     "end_time": "2025-07-30T13:05:47.240459",
     "exception": false,
     "start_time": "2025-07-30T13:05:47.207208",
     "status": "completed"
    },
    "tags": []
   },
   "outputs": [],
   "source": [
    "n_drop = (~keep_mask).sum() # Calculates how many rows are set to be dropped\n",
    "if n_drop > 0:\n",
    "    pct = n_drop / len(keep_mask) * 100\n",
    "    print(f\"Dropping {n_drop} rows ({pct:.2f}%) where mode='{mode}'\")"
   ]
  },
  {
   "cell_type": "code",
   "execution_count": 39,
   "id": "5fb8eee5",
   "metadata": {
    "execution": {
     "iopub.execute_input": "2025-07-30T13:05:47.287510Z",
     "iopub.status.busy": "2025-07-30T13:05:47.286634Z",
     "iopub.status.idle": "2025-07-30T13:05:47.305859Z",
     "shell.execute_reply": "2025-07-30T13:05:47.304828Z"
    },
    "papermill": {
     "duration": 0.044842,
     "end_time": "2025-07-30T13:05:47.307681",
     "exception": false,
     "start_time": "2025-07-30T13:05:47.262839",
     "status": "completed"
    },
    "tags": []
   },
   "outputs": [],
   "source": [
    "X_train = X_train[keep_mask]"
   ]
  },
  {
   "cell_type": "code",
   "execution_count": 40,
   "id": "b202bb3a",
   "metadata": {
    "execution": {
     "iopub.execute_input": "2025-07-30T13:05:47.354755Z",
     "iopub.status.busy": "2025-07-30T13:05:47.353821Z",
     "iopub.status.idle": "2025-07-30T13:05:47.360452Z",
     "shell.execute_reply": "2025-07-30T13:05:47.359344Z"
    },
    "papermill": {
     "duration": 0.032355,
     "end_time": "2025-07-30T13:05:47.362563",
     "exception": false,
     "start_time": "2025-07-30T13:05:47.330208",
     "status": "completed"
    },
    "tags": []
   },
   "outputs": [],
   "source": [
    "y_train = y_train[keep_mask]"
   ]
  },
  {
   "cell_type": "markdown",
   "id": "493e2ac3",
   "metadata": {
    "papermill": {
     "duration": 0.028933,
     "end_time": "2025-07-30T13:05:47.421233",
     "exception": false,
     "start_time": "2025-07-30T13:05:47.392300",
     "status": "completed"
    },
    "tags": []
   },
   "source": [
    "# Model Training"
   ]
  },
  {
   "cell_type": "code",
   "execution_count": 41,
   "id": "679e1268",
   "metadata": {
    "execution": {
     "iopub.execute_input": "2025-07-30T13:05:47.484477Z",
     "iopub.status.busy": "2025-07-30T13:05:47.484077Z",
     "iopub.status.idle": "2025-07-30T13:05:47.588516Z",
     "shell.execute_reply": "2025-07-30T13:05:47.587435Z"
    },
    "papermill": {
     "duration": 0.139825,
     "end_time": "2025-07-30T13:05:47.591127",
     "exception": false,
     "start_time": "2025-07-30T13:05:47.451302",
     "status": "completed"
    },
    "tags": []
   },
   "outputs": [],
   "source": [
    "from sklearn.linear_model import LogisticRegression\n",
    "from sklearn.ensemble import GradientBoostingClassifier, RandomForestClassifier\n",
    "\n",
    "if (universe[\"model\"] == \"logreg\"):\n",
    "    model = LogisticRegression() #penalty=\"none\") #, solver=\"newton-cg\", max_iter=1) # include random_state=19 ?\n",
    "elif (universe[\"model\"] == \"penalized_logreg\"):\n",
    "    model = LogisticRegression(penalty=\"l2\", C=1.0) #, solver=\"newton-cg\", max_iter=1)\n",
    "elif (universe[\"model\"] == \"rf\"):\n",
    "    model = RandomForestClassifier(n_estimators=100, n_jobs=-1)\n",
    "elif (universe[\"model\"] == \"gbm\"):\n",
    "    model = GradientBoostingClassifier()\n",
    "elif (universe[\"model\"] == \"elasticnet\"):\n",
    "    model = LogisticRegression(penalty = 'elasticnet', solver = 'saga', l1_ratio = 0.5, max_iter=5000) # which solver to use?\n",
    "else:\n",
    "    raise \"Unsupported universe.model\""
   ]
  },
  {
   "cell_type": "code",
   "execution_count": 42,
   "id": "0cc8f744",
   "metadata": {
    "execution": {
     "iopub.execute_input": "2025-07-30T13:05:47.660534Z",
     "iopub.status.busy": "2025-07-30T13:05:47.660006Z",
     "iopub.status.idle": "2025-07-30T13:05:47.666672Z",
     "shell.execute_reply": "2025-07-30T13:05:47.665624Z"
    },
    "papermill": {
     "duration": 0.04362,
     "end_time": "2025-07-30T13:05:47.668567",
     "exception": false,
     "start_time": "2025-07-30T13:05:47.624947",
     "status": "completed"
    },
    "tags": []
   },
   "outputs": [],
   "source": [
    "import numpy as np\n",
    "from sklearn.pipeline import Pipeline\n",
    "from sklearn.preprocessing import StandardScaler\n",
    "\n",
    "model = Pipeline([\n",
    "    #(\"continuous_processor\", continuous_processor),\n",
    "    #(\"categorical_preprocessor\", categorical_preprocessor),\n",
    "    (\"scale\", StandardScaler() if universe[\"scale\"] == \"scale\" else None), \n",
    "    (\"model\", model),\n",
    "])"
   ]
  },
  {
   "cell_type": "code",
   "execution_count": 43,
   "id": "9442c04d",
   "metadata": {
    "execution": {
     "iopub.execute_input": "2025-07-30T13:05:47.714459Z",
     "iopub.status.busy": "2025-07-30T13:05:47.713659Z",
     "iopub.status.idle": "2025-07-30T13:05:48.647869Z",
     "shell.execute_reply": "2025-07-30T13:05:48.646870Z"
    },
    "papermill": {
     "duration": 0.958645,
     "end_time": "2025-07-30T13:05:48.649655",
     "exception": false,
     "start_time": "2025-07-30T13:05:47.691010",
     "status": "completed"
    },
    "tags": []
   },
   "outputs": [
    {
     "name": "stderr",
     "output_type": "stream",
     "text": [
      "/dss/dsshome1/0C/ra93lal2/.local/share/virtualenvs/CMA_Fairness_v2-3j10GkSs/lib/python3.10/site-packages/sklearn/linear_model/_logistic.py:444: ConvergenceWarning: lbfgs failed to converge (status=1):\n",
      "STOP: TOTAL NO. of ITERATIONS REACHED LIMIT.\n",
      "\n",
      "Increase the number of iterations (max_iter) or scale the data as shown in:\n",
      "    https://scikit-learn.org/stable/modules/preprocessing.html\n",
      "Please also refer to the documentation for alternative solver options:\n",
      "    https://scikit-learn.org/stable/modules/linear_model.html#logistic-regression\n",
      "  n_iter_i = _check_optimize_result(\n"
     ]
    },
    {
     "data": {
      "text/html": [
       "<style>#sk-container-id-1 {color: black;background-color: white;}#sk-container-id-1 pre{padding: 0;}#sk-container-id-1 div.sk-toggleable {background-color: white;}#sk-container-id-1 label.sk-toggleable__label {cursor: pointer;display: block;width: 100%;margin-bottom: 0;padding: 0.3em;box-sizing: border-box;text-align: center;}#sk-container-id-1 label.sk-toggleable__label-arrow:before {content: \"▸\";float: left;margin-right: 0.25em;color: #696969;}#sk-container-id-1 label.sk-toggleable__label-arrow:hover:before {color: black;}#sk-container-id-1 div.sk-estimator:hover label.sk-toggleable__label-arrow:before {color: black;}#sk-container-id-1 div.sk-toggleable__content {max-height: 0;max-width: 0;overflow: hidden;text-align: left;background-color: #f0f8ff;}#sk-container-id-1 div.sk-toggleable__content pre {margin: 0.2em;color: black;border-radius: 0.25em;background-color: #f0f8ff;}#sk-container-id-1 input.sk-toggleable__control:checked~div.sk-toggleable__content {max-height: 200px;max-width: 100%;overflow: auto;}#sk-container-id-1 input.sk-toggleable__control:checked~label.sk-toggleable__label-arrow:before {content: \"▾\";}#sk-container-id-1 div.sk-estimator input.sk-toggleable__control:checked~label.sk-toggleable__label {background-color: #d4ebff;}#sk-container-id-1 div.sk-label input.sk-toggleable__control:checked~label.sk-toggleable__label {background-color: #d4ebff;}#sk-container-id-1 input.sk-hidden--visually {border: 0;clip: rect(1px 1px 1px 1px);clip: rect(1px, 1px, 1px, 1px);height: 1px;margin: -1px;overflow: hidden;padding: 0;position: absolute;width: 1px;}#sk-container-id-1 div.sk-estimator {font-family: monospace;background-color: #f0f8ff;border: 1px dotted black;border-radius: 0.25em;box-sizing: border-box;margin-bottom: 0.5em;}#sk-container-id-1 div.sk-estimator:hover {background-color: #d4ebff;}#sk-container-id-1 div.sk-parallel-item::after {content: \"\";width: 100%;border-bottom: 1px solid gray;flex-grow: 1;}#sk-container-id-1 div.sk-label:hover label.sk-toggleable__label {background-color: #d4ebff;}#sk-container-id-1 div.sk-serial::before {content: \"\";position: absolute;border-left: 1px solid gray;box-sizing: border-box;top: 0;bottom: 0;left: 50%;z-index: 0;}#sk-container-id-1 div.sk-serial {display: flex;flex-direction: column;align-items: center;background-color: white;padding-right: 0.2em;padding-left: 0.2em;position: relative;}#sk-container-id-1 div.sk-item {position: relative;z-index: 1;}#sk-container-id-1 div.sk-parallel {display: flex;align-items: stretch;justify-content: center;background-color: white;position: relative;}#sk-container-id-1 div.sk-item::before, #sk-container-id-1 div.sk-parallel-item::before {content: \"\";position: absolute;border-left: 1px solid gray;box-sizing: border-box;top: 0;bottom: 0;left: 50%;z-index: -1;}#sk-container-id-1 div.sk-parallel-item {display: flex;flex-direction: column;z-index: 1;position: relative;background-color: white;}#sk-container-id-1 div.sk-parallel-item:first-child::after {align-self: flex-end;width: 50%;}#sk-container-id-1 div.sk-parallel-item:last-child::after {align-self: flex-start;width: 50%;}#sk-container-id-1 div.sk-parallel-item:only-child::after {width: 0;}#sk-container-id-1 div.sk-dashed-wrapped {border: 1px dashed gray;margin: 0 0.4em 0.5em 0.4em;box-sizing: border-box;padding-bottom: 0.4em;background-color: white;}#sk-container-id-1 div.sk-label label {font-family: monospace;font-weight: bold;display: inline-block;line-height: 1.2em;}#sk-container-id-1 div.sk-label-container {text-align: center;}#sk-container-id-1 div.sk-container {/* jupyter's `normalize.less` sets `[hidden] { display: none; }` but bootstrap.min.css set `[hidden] { display: none !important; }` so we also need the `!important` here to be able to override the default hidden behavior on the sphinx rendered scikit-learn.org. See: https://github.com/scikit-learn/scikit-learn/issues/21755 */display: inline-block !important;position: relative;}#sk-container-id-1 div.sk-text-repr-fallback {display: none;}</style><div id=\"sk-container-id-1\" class=\"sk-top-container\"><div class=\"sk-text-repr-fallback\"><pre>Pipeline(steps=[(&#x27;scale&#x27;, StandardScaler()), (&#x27;model&#x27;, LogisticRegression())])</pre><b>In a Jupyter environment, please rerun this cell to show the HTML representation or trust the notebook. <br />On GitHub, the HTML representation is unable to render, please try loading this page with nbviewer.org.</b></div><div class=\"sk-container\" hidden><div class=\"sk-item sk-dashed-wrapped\"><div class=\"sk-label-container\"><div class=\"sk-label sk-toggleable\"><input class=\"sk-toggleable__control sk-hidden--visually\" id=\"sk-estimator-id-1\" type=\"checkbox\" ><label for=\"sk-estimator-id-1\" class=\"sk-toggleable__label sk-toggleable__label-arrow\">Pipeline</label><div class=\"sk-toggleable__content\"><pre>Pipeline(steps=[(&#x27;scale&#x27;, StandardScaler()), (&#x27;model&#x27;, LogisticRegression())])</pre></div></div></div><div class=\"sk-serial\"><div class=\"sk-item\"><div class=\"sk-estimator sk-toggleable\"><input class=\"sk-toggleable__control sk-hidden--visually\" id=\"sk-estimator-id-2\" type=\"checkbox\" ><label for=\"sk-estimator-id-2\" class=\"sk-toggleable__label sk-toggleable__label-arrow\">StandardScaler</label><div class=\"sk-toggleable__content\"><pre>StandardScaler()</pre></div></div></div><div class=\"sk-item\"><div class=\"sk-estimator sk-toggleable\"><input class=\"sk-toggleable__control sk-hidden--visually\" id=\"sk-estimator-id-3\" type=\"checkbox\" ><label for=\"sk-estimator-id-3\" class=\"sk-toggleable__label sk-toggleable__label-arrow\">LogisticRegression</label><div class=\"sk-toggleable__content\"><pre>LogisticRegression()</pre></div></div></div></div></div></div></div>"
      ],
      "text/plain": [
       "Pipeline(steps=[('scale', StandardScaler()), ('model', LogisticRegression())])"
      ]
     },
     "execution_count": 43,
     "metadata": {},
     "output_type": "execute_result"
    }
   ],
   "source": [
    "model.fit(X_train, y_train.values.ravel())"
   ]
  },
  {
   "cell_type": "code",
   "execution_count": 44,
   "id": "af59f8c0",
   "metadata": {
    "execution": {
     "iopub.execute_input": "2025-07-30T13:05:48.717736Z",
     "iopub.status.busy": "2025-07-30T13:05:48.716962Z",
     "iopub.status.idle": "2025-07-30T13:05:48.722822Z",
     "shell.execute_reply": "2025-07-30T13:05:48.721910Z"
    },
    "papermill": {
     "duration": 0.048268,
     "end_time": "2025-07-30T13:05:48.724873",
     "exception": false,
     "start_time": "2025-07-30T13:05:48.676605",
     "status": "completed"
    },
    "tags": []
   },
   "outputs": [],
   "source": [
    "from fairness_multiverse.universe import predict_w_threshold"
   ]
  },
  {
   "cell_type": "code",
   "execution_count": 45,
   "id": "a7cf2e16",
   "metadata": {
    "execution": {
     "iopub.execute_input": "2025-07-30T13:05:48.774835Z",
     "iopub.status.busy": "2025-07-30T13:05:48.774405Z",
     "iopub.status.idle": "2025-07-30T13:05:48.993152Z",
     "shell.execute_reply": "2025-07-30T13:05:48.992092Z"
    },
    "papermill": {
     "duration": 0.241903,
     "end_time": "2025-07-30T13:05:48.995447",
     "exception": false,
     "start_time": "2025-07-30T13:05:48.753544",
     "status": "completed"
    },
    "tags": []
   },
   "outputs": [
    {
     "data": {
      "text/plain": [
       "0.8620332181473638"
      ]
     },
     "execution_count": 45,
     "metadata": {},
     "output_type": "execute_result"
    }
   ],
   "source": [
    "probs_test = model.predict_proba(X_test)\n",
    "\n",
    "'''\n",
    "Below code returns a boolean array (or binary 0/1 array depending on how it’s used) where each element \n",
    "is True if the probability of class 1 is greater than or equal to the threshold, and False otherwise.\n",
    "'''\n",
    "y_pred_default = predict_w_threshold(probs_test, 0.5)\n",
    "\n",
    "from sklearn.metrics import accuracy_score\n",
    "\n",
    "# Naive prediction\n",
    "accuracy_score(y_true = y_true, y_pred = y_pred_default)"
   ]
  },
  {
   "cell_type": "code",
   "execution_count": 46,
   "id": "081964c3",
   "metadata": {
    "execution": {
     "iopub.execute_input": "2025-07-30T13:05:49.069680Z",
     "iopub.status.busy": "2025-07-30T13:05:49.068891Z",
     "iopub.status.idle": "2025-07-30T13:05:49.263510Z",
     "shell.execute_reply": "2025-07-30T13:05:49.262472Z"
    },
    "papermill": {
     "duration": 0.236794,
     "end_time": "2025-07-30T13:05:49.265488",
     "exception": false,
     "start_time": "2025-07-30T13:05:49.028694",
     "status": "completed"
    },
    "tags": []
   },
   "outputs": [
    {
     "data": {
      "text/plain": [
       "array([0, 0, 0, ..., 0, 0, 0])"
      ]
     },
     "execution_count": 46,
     "metadata": {},
     "output_type": "execute_result"
    }
   ],
   "source": [
    "model.predict(X_test)"
   ]
  },
  {
   "cell_type": "markdown",
   "id": "56c9705b",
   "metadata": {
    "papermill": {
     "duration": 0.023226,
     "end_time": "2025-07-30T13:05:49.317805",
     "exception": false,
     "start_time": "2025-07-30T13:05:49.294579",
     "status": "completed"
    },
    "tags": []
   },
   "source": [
    "# Conformal Prediction"
   ]
  },
  {
   "cell_type": "code",
   "execution_count": 47,
   "id": "160ec6ff",
   "metadata": {
    "execution": {
     "iopub.execute_input": "2025-07-30T13:05:49.375540Z",
     "iopub.status.busy": "2025-07-30T13:05:49.374433Z",
     "iopub.status.idle": "2025-07-30T13:05:49.380660Z",
     "shell.execute_reply": "2025-07-30T13:05:49.379427Z"
    },
    "papermill": {
     "duration": 0.037972,
     "end_time": "2025-07-30T13:05:49.382902",
     "exception": false,
     "start_time": "2025-07-30T13:05:49.344930",
     "status": "completed"
    },
    "tags": []
   },
   "outputs": [],
   "source": [
    "# Miscoverage level for conformal prediction (10% allowed error rate => 90% target coverage)\n",
    "alpha = 0.1"
   ]
  },
  {
   "cell_type": "code",
   "execution_count": 48,
   "id": "eadf4555-3dd3-440e-8e35-f82a4ad9f855",
   "metadata": {
    "execution": {
     "iopub.execute_input": "2025-07-30T13:05:49.440019Z",
     "iopub.status.busy": "2025-07-30T13:05:49.439579Z",
     "iopub.status.idle": "2025-07-30T13:05:49.626301Z",
     "shell.execute_reply": "2025-07-30T13:05:49.625312Z"
    },
    "papermill": {
     "duration": 0.217738,
     "end_time": "2025-07-30T13:05:49.628439",
     "exception": false,
     "start_time": "2025-07-30T13:05:49.410701",
     "status": "completed"
    },
    "tags": []
   },
   "outputs": [],
   "source": [
    "probs_calib = model.predict_proba(X_calib)"
   ]
  },
  {
   "cell_type": "code",
   "execution_count": 49,
   "id": "2ed93547-6d5d-4983-9b36-1ecb300da49a",
   "metadata": {
    "execution": {
     "iopub.execute_input": "2025-07-30T13:05:49.684651Z",
     "iopub.status.busy": "2025-07-30T13:05:49.683908Z",
     "iopub.status.idle": "2025-07-30T13:05:49.689535Z",
     "shell.execute_reply": "2025-07-30T13:05:49.688507Z"
    },
    "papermill": {
     "duration": 0.035545,
     "end_time": "2025-07-30T13:05:49.691324",
     "exception": false,
     "start_time": "2025-07-30T13:05:49.655779",
     "status": "completed"
    },
    "tags": []
   },
   "outputs": [],
   "source": [
    "y_calib = y_calib.values.ravel().astype(int)"
   ]
  },
  {
   "cell_type": "code",
   "execution_count": 50,
   "id": "65d1320d-f588-4b38-9072-62af1ae97f7d",
   "metadata": {
    "execution": {
     "iopub.execute_input": "2025-07-30T13:05:49.747476Z",
     "iopub.status.busy": "2025-07-30T13:05:49.747019Z",
     "iopub.status.idle": "2025-07-30T13:05:49.755273Z",
     "shell.execute_reply": "2025-07-30T13:05:49.754439Z"
    },
    "papermill": {
     "duration": 0.037873,
     "end_time": "2025-07-30T13:05:49.757086",
     "exception": false,
     "start_time": "2025-07-30T13:05:49.719213",
     "status": "completed"
    },
    "tags": []
   },
   "outputs": [],
   "source": [
    "from fairness_multiverse.conformal import compute_nc_scores\n",
    "\n",
    "# Compute nonconformity scores on calibration set (1 - probability of true class)\n",
    "nc_scores = compute_nc_scores(probs_calib, y_calib)"
   ]
  },
  {
   "cell_type": "code",
   "execution_count": 51,
   "id": "df3b8ca3-53b7-43d5-9667-7c85da7aeda2",
   "metadata": {
    "execution": {
     "iopub.execute_input": "2025-07-30T13:05:49.813008Z",
     "iopub.status.busy": "2025-07-30T13:05:49.812551Z",
     "iopub.status.idle": "2025-07-30T13:05:49.818609Z",
     "shell.execute_reply": "2025-07-30T13:05:49.817653Z"
    },
    "papermill": {
     "duration": 0.035275,
     "end_time": "2025-07-30T13:05:49.820447",
     "exception": false,
     "start_time": "2025-07-30T13:05:49.785172",
     "status": "completed"
    },
    "tags": []
   },
   "outputs": [],
   "source": [
    "from fairness_multiverse.conformal import find_threshold\n",
    "\n",
    "# Find conformal threshold q_hat for the given alpha (split conformal method)\n",
    "q_hat = find_threshold(nc_scores, alpha)"
   ]
  },
  {
   "cell_type": "code",
   "execution_count": 52,
   "id": "4d29e6c1-0ef6-4aa4-b8fe-4fe79b0d033a",
   "metadata": {
    "execution": {
     "iopub.execute_input": "2025-07-30T13:05:49.889119Z",
     "iopub.status.busy": "2025-07-30T13:05:49.888003Z",
     "iopub.status.idle": "2025-07-30T13:05:49.897456Z",
     "shell.execute_reply": "2025-07-30T13:05:49.896490Z"
    },
    "papermill": {
     "duration": 0.036837,
     "end_time": "2025-07-30T13:05:49.899294",
     "exception": false,
     "start_time": "2025-07-30T13:05:49.862457",
     "status": "completed"
    },
    "tags": []
   },
   "outputs": [
    {
     "data": {
      "text/plain": [
       "0.6637809138721817"
      ]
     },
     "execution_count": 52,
     "metadata": {},
     "output_type": "execute_result"
    }
   ],
   "source": [
    "q_hat"
   ]
  },
  {
   "cell_type": "code",
   "execution_count": 53,
   "id": "92460794-cdac-4be2-ba28-f28c0515a6fb",
   "metadata": {
    "execution": {
     "iopub.execute_input": "2025-07-30T13:05:49.967939Z",
     "iopub.status.busy": "2025-07-30T13:05:49.967465Z",
     "iopub.status.idle": "2025-07-30T13:05:50.787246Z",
     "shell.execute_reply": "2025-07-30T13:05:50.786177Z"
    },
    "papermill": {
     "duration": 0.856212,
     "end_time": "2025-07-30T13:05:50.789489",
     "exception": false,
     "start_time": "2025-07-30T13:05:49.933277",
     "status": "completed"
    },
    "tags": []
   },
   "outputs": [],
   "source": [
    "from fairness_multiverse.conformal import predict_conformal_sets\n",
    "\n",
    "# Generate prediction sets for each test example\n",
    "pred_sets = predict_conformal_sets(model, X_test, q_hat)"
   ]
  },
  {
   "cell_type": "code",
   "execution_count": 54,
   "id": "d90c9a65-e6db-4f5d-80cd-e68fb7e46829",
   "metadata": {
    "execution": {
     "iopub.execute_input": "2025-07-30T13:05:50.837282Z",
     "iopub.status.busy": "2025-07-30T13:05:50.836799Z",
     "iopub.status.idle": "2025-07-30T13:05:50.842421Z",
     "shell.execute_reply": "2025-07-30T13:05:50.841430Z"
    },
    "papermill": {
     "duration": 0.030795,
     "end_time": "2025-07-30T13:05:50.843863",
     "exception": false,
     "start_time": "2025-07-30T13:05:50.813068",
     "status": "completed"
    },
    "tags": []
   },
   "outputs": [],
   "source": [
    "y_true = y_true.squeeze()"
   ]
  },
  {
   "cell_type": "code",
   "execution_count": 55,
   "id": "3a58a54a-1e68-46b9-927a-df01f18aebc8",
   "metadata": {
    "execution": {
     "iopub.execute_input": "2025-07-30T13:05:50.892797Z",
     "iopub.status.busy": "2025-07-30T13:05:50.892084Z",
     "iopub.status.idle": "2025-07-30T13:05:51.791668Z",
     "shell.execute_reply": "2025-07-30T13:05:51.790637Z"
    },
    "papermill": {
     "duration": 0.926149,
     "end_time": "2025-07-30T13:05:51.793717",
     "exception": false,
     "start_time": "2025-07-30T13:05:50.867568",
     "status": "completed"
    },
    "tags": []
   },
   "outputs": [],
   "source": [
    "from fairness_multiverse.conformal import evaluate_sets\n",
    "\n",
    "# Evaluate coverage and average set size on test data\n",
    "metrics = evaluate_sets(pred_sets, y_true)"
   ]
  },
  {
   "cell_type": "markdown",
   "id": "2b569c12-9aaa-4c88-98c9-bbcd0cf3ebb8",
   "metadata": {
    "papermill": {
     "duration": 0.015455,
     "end_time": "2025-07-30T13:05:51.831288",
     "exception": false,
     "start_time": "2025-07-30T13:05:51.815833",
     "status": "completed"
    },
    "tags": []
   },
   "source": [
    "# CP Metrics"
   ]
  },
  {
   "cell_type": "code",
   "execution_count": 56,
   "id": "5ce0a5cb-201f-45a0-ade5-94c7f0bd6095",
   "metadata": {
    "execution": {
     "iopub.execute_input": "2025-07-30T13:05:51.858732Z",
     "iopub.status.busy": "2025-07-30T13:05:51.858341Z",
     "iopub.status.idle": "2025-07-30T13:05:51.865550Z",
     "shell.execute_reply": "2025-07-30T13:05:51.864577Z"
    },
    "papermill": {
     "duration": 0.022825,
     "end_time": "2025-07-30T13:05:51.867210",
     "exception": false,
     "start_time": "2025-07-30T13:05:51.844385",
     "status": "completed"
    },
    "tags": []
   },
   "outputs": [
    {
     "data": {
      "text/plain": [
       "{'coverage': 0.9115929104893545, 'avg_size': 1.1250139337866458}"
      ]
     },
     "execution_count": 56,
     "metadata": {},
     "output_type": "execute_result"
    }
   ],
   "source": [
    "metrics"
   ]
  },
  {
   "cell_type": "code",
   "execution_count": 57,
   "id": "9b9a838d-31c9-430b-ae14-12baee460d17",
   "metadata": {
    "execution": {
     "iopub.execute_input": "2025-07-30T13:05:51.925107Z",
     "iopub.status.busy": "2025-07-30T13:05:51.924369Z",
     "iopub.status.idle": "2025-07-30T13:05:51.930481Z",
     "shell.execute_reply": "2025-07-30T13:05:51.929649Z"
    },
    "papermill": {
     "duration": 0.036927,
     "end_time": "2025-07-30T13:05:51.932394",
     "exception": false,
     "start_time": "2025-07-30T13:05:51.895467",
     "status": "completed"
    },
    "tags": []
   },
   "outputs": [],
   "source": [
    "example_universe = universe.copy()\n",
    "universe_training_size = example_universe.get(\"training_size\")\n",
    "universe_scale = example_universe.get(\"scale\")\n",
    "universe_model = example_universe.get(\"model\")\n",
    "universe_exclude_features = example_universe.get(\"exclude_features\")\n",
    "universe_exclude_subgroups = example_universe.get(\"exclude_subgroups\")"
   ]
  },
  {
   "cell_type": "code",
   "execution_count": 58,
   "id": "f4b6a8ac-9dc0-4245-8a91-5b3b5999c4f9",
   "metadata": {
    "execution": {
     "iopub.execute_input": "2025-07-30T13:05:51.990876Z",
     "iopub.status.busy": "2025-07-30T13:05:51.990198Z",
     "iopub.status.idle": "2025-07-30T13:05:51.996633Z",
     "shell.execute_reply": "2025-07-30T13:05:51.995665Z"
    },
    "papermill": {
     "duration": 0.037421,
     "end_time": "2025-07-30T13:05:51.998319",
     "exception": false,
     "start_time": "2025-07-30T13:05:51.960898",
     "status": "completed"
    },
    "tags": []
   },
   "outputs": [],
   "source": [
    "cp_metrics_dict = {\n",
    "    \"universe_id\": [universe_id],\n",
    "    \"universe_training_size\": [universe_training_size],\n",
    "    \"universe_scale\": [universe_scale],\n",
    "    \"universe_model\": [universe_model],\n",
    "    \"universe_exclude_features\": [universe_exclude_features],\n",
    "    \"universe_exclude_subgroups\": [universe_exclude_subgroups],\n",
    "    \"q_hat\": [q_hat],\n",
    "    \"coverage\": [metrics[\"coverage\"]],\n",
    "    \"avg_size\": [metrics[\"avg_size\"]],\n",
    "}"
   ]
  },
  {
   "cell_type": "code",
   "execution_count": 59,
   "id": "908acbb1-0371-4915-85ca-3fa520d2efe2",
   "metadata": {
    "execution": {
     "iopub.execute_input": "2025-07-30T13:05:52.056216Z",
     "iopub.status.busy": "2025-07-30T13:05:52.055406Z",
     "iopub.status.idle": "2025-07-30T13:05:52.062992Z",
     "shell.execute_reply": "2025-07-30T13:05:52.061712Z"
    },
    "papermill": {
     "duration": 0.038083,
     "end_time": "2025-07-30T13:05:52.064834",
     "exception": false,
     "start_time": "2025-07-30T13:05:52.026751",
     "status": "completed"
    },
    "tags": []
   },
   "outputs": [
    {
     "data": {
      "text/plain": [
       "{'universe_id': ['21a4e34819544a10f656ee94f05e031a'],\n",
       " 'universe_training_size': ['25k'],\n",
       " 'universe_scale': ['scale'],\n",
       " 'universe_model': ['penalized_logreg'],\n",
       " 'universe_exclude_features': ['nationality'],\n",
       " 'universe_exclude_subgroups': ['keep-all'],\n",
       " 'q_hat': [0.6637809138721817],\n",
       " 'coverage': [0.9115929104893545],\n",
       " 'avg_size': [1.1250139337866458]}"
      ]
     },
     "execution_count": 59,
     "metadata": {},
     "output_type": "execute_result"
    }
   ],
   "source": [
    "cp_metrics_dict"
   ]
  },
  {
   "cell_type": "code",
   "execution_count": 60,
   "id": "33007efc-14e9-4ec6-97ac-56a455c82265",
   "metadata": {
    "execution": {
     "iopub.execute_input": "2025-07-30T13:05:52.124137Z",
     "iopub.status.busy": "2025-07-30T13:05:52.123472Z",
     "iopub.status.idle": "2025-07-30T13:05:52.129816Z",
     "shell.execute_reply": "2025-07-30T13:05:52.128868Z"
    },
    "papermill": {
     "duration": 0.037497,
     "end_time": "2025-07-30T13:05:52.131464",
     "exception": false,
     "start_time": "2025-07-30T13:05:52.093967",
     "status": "completed"
    },
    "tags": []
   },
   "outputs": [],
   "source": [
    "cp_metrics_df = pd.DataFrame(cp_metrics_dict)"
   ]
  },
  {
   "cell_type": "code",
   "execution_count": 61,
   "id": "db12611b-57b2-4910-b9d0-355adfd6e7bf",
   "metadata": {
    "execution": {
     "iopub.execute_input": "2025-07-30T13:05:52.190257Z",
     "iopub.status.busy": "2025-07-30T13:05:52.189593Z",
     "iopub.status.idle": "2025-07-30T13:05:52.207767Z",
     "shell.execute_reply": "2025-07-30T13:05:52.206812Z"
    },
    "papermill": {
     "duration": 0.048903,
     "end_time": "2025-07-30T13:05:52.209502",
     "exception": false,
     "start_time": "2025-07-30T13:05:52.160599",
     "status": "completed"
    },
    "tags": []
   },
   "outputs": [
    {
     "data": {
      "text/html": [
       "<div>\n",
       "<style scoped>\n",
       "    .dataframe tbody tr th:only-of-type {\n",
       "        vertical-align: middle;\n",
       "    }\n",
       "\n",
       "    .dataframe tbody tr th {\n",
       "        vertical-align: top;\n",
       "    }\n",
       "\n",
       "    .dataframe thead th {\n",
       "        text-align: right;\n",
       "    }\n",
       "</style>\n",
       "<table border=\"1\" class=\"dataframe\">\n",
       "  <thead>\n",
       "    <tr style=\"text-align: right;\">\n",
       "      <th></th>\n",
       "      <th>universe_id</th>\n",
       "      <th>universe_training_size</th>\n",
       "      <th>universe_scale</th>\n",
       "      <th>universe_model</th>\n",
       "      <th>universe_exclude_features</th>\n",
       "      <th>universe_exclude_subgroups</th>\n",
       "      <th>q_hat</th>\n",
       "      <th>coverage</th>\n",
       "      <th>avg_size</th>\n",
       "    </tr>\n",
       "  </thead>\n",
       "  <tbody>\n",
       "    <tr>\n",
       "      <th>0</th>\n",
       "      <td>21a4e34819544a10f656ee94f05e031a</td>\n",
       "      <td>25k</td>\n",
       "      <td>scale</td>\n",
       "      <td>penalized_logreg</td>\n",
       "      <td>nationality</td>\n",
       "      <td>keep-all</td>\n",
       "      <td>0.663781</td>\n",
       "      <td>0.911593</td>\n",
       "      <td>1.125014</td>\n",
       "    </tr>\n",
       "  </tbody>\n",
       "</table>\n",
       "</div>"
      ],
      "text/plain": [
       "                        universe_id universe_training_size universe_scale  \\\n",
       "0  21a4e34819544a10f656ee94f05e031a                    25k          scale   \n",
       "\n",
       "     universe_model universe_exclude_features universe_exclude_subgroups  \\\n",
       "0  penalized_logreg               nationality                   keep-all   \n",
       "\n",
       "      q_hat  coverage  avg_size  \n",
       "0  0.663781  0.911593  1.125014  "
      ]
     },
     "execution_count": 61,
     "metadata": {},
     "output_type": "execute_result"
    }
   ],
   "source": [
    "cp_metrics_df"
   ]
  },
  {
   "cell_type": "code",
   "execution_count": 62,
   "id": "b7fbde55-a0a1-47e4-9af6-fe4a17fa8c61",
   "metadata": {
    "execution": {
     "iopub.execute_input": "2025-07-30T13:05:52.268202Z",
     "iopub.status.busy": "2025-07-30T13:05:52.267284Z",
     "iopub.status.idle": "2025-07-30T13:05:52.272660Z",
     "shell.execute_reply": "2025-07-30T13:05:52.271745Z"
    },
    "papermill": {
     "duration": 0.036215,
     "end_time": "2025-07-30T13:05:52.274579",
     "exception": false,
     "start_time": "2025-07-30T13:05:52.238364",
     "status": "completed"
    },
    "tags": []
   },
   "outputs": [],
   "source": [
    "# Conditional Coverage & looking at subgroups"
   ]
  },
  {
   "cell_type": "code",
   "execution_count": 63,
   "id": "027ae886-68dd-4141-96c7-805a5450e1ef",
   "metadata": {
    "execution": {
     "iopub.execute_input": "2025-07-30T13:05:52.333660Z",
     "iopub.status.busy": "2025-07-30T13:05:52.332835Z",
     "iopub.status.idle": "2025-07-30T13:05:52.597024Z",
     "shell.execute_reply": "2025-07-30T13:05:52.596079Z"
    },
    "papermill": {
     "duration": 0.294751,
     "end_time": "2025-07-30T13:05:52.599036",
     "exception": false,
     "start_time": "2025-07-30T13:05:52.304285",
     "status": "completed"
    },
    "tags": []
   },
   "outputs": [],
   "source": [
    "from fairness_multiverse.conformal import build_cp_groups\n",
    "\n",
    "cp_groups_df = build_cp_groups(pred_sets, y_true, X_test.index, org_test)\n",
    "#needs universe_id and setting"
   ]
  },
  {
   "cell_type": "code",
   "execution_count": 64,
   "id": "01d5802c-663a-4d1f-9d69-e036faaffbf7",
   "metadata": {
    "execution": {
     "iopub.execute_input": "2025-07-30T13:05:52.659461Z",
     "iopub.status.busy": "2025-07-30T13:05:52.658937Z",
     "iopub.status.idle": "2025-07-30T13:05:52.664204Z",
     "shell.execute_reply": "2025-07-30T13:05:52.663063Z"
    },
    "papermill": {
     "duration": 0.037669,
     "end_time": "2025-07-30T13:05:52.666005",
     "exception": false,
     "start_time": "2025-07-30T13:05:52.628336",
     "status": "completed"
    },
    "tags": []
   },
   "outputs": [],
   "source": [
    "#delete\n",
    "#cp_groups_df"
   ]
  },
  {
   "cell_type": "code",
   "execution_count": 65,
   "id": "fa424af1-d1eb-443d-b717-2d279ada8408",
   "metadata": {
    "execution": {
     "iopub.execute_input": "2025-07-30T13:05:52.726924Z",
     "iopub.status.busy": "2025-07-30T13:05:52.726222Z",
     "iopub.status.idle": "2025-07-30T13:05:52.731384Z",
     "shell.execute_reply": "2025-07-30T13:05:52.730387Z"
    },
    "papermill": {
     "duration": 0.037369,
     "end_time": "2025-07-30T13:05:52.733289",
     "exception": false,
     "start_time": "2025-07-30T13:05:52.695920",
     "status": "completed"
    },
    "tags": []
   },
   "outputs": [],
   "source": [
    "#delete\n",
    "#percentage = (cp_groups_df['nongerman_female'] == 1).mean() * 100\n",
    "#print(percentage)\n"
   ]
  },
  {
   "cell_type": "code",
   "execution_count": 66,
   "id": "6cbdab96-b2b2-45af-ad54-d0516db2e28d",
   "metadata": {
    "execution": {
     "iopub.execute_input": "2025-07-30T13:05:52.794524Z",
     "iopub.status.busy": "2025-07-30T13:05:52.794039Z",
     "iopub.status.idle": "2025-07-30T13:05:54.326793Z",
     "shell.execute_reply": "2025-07-30T13:05:54.325653Z"
    },
    "papermill": {
     "duration": 1.565186,
     "end_time": "2025-07-30T13:05:54.328787",
     "exception": false,
     "start_time": "2025-07-30T13:05:52.763601",
     "status": "completed"
    },
    "tags": []
   },
   "outputs": [],
   "source": [
    "# Define covered = 1 if true_label is in the predicted set\n",
    "cp_groups_df['covered'] = cp_groups_df.apply(\n",
    "    lambda r: int(r['true_label'] in r['pred_set']),\n",
    "    axis=1\n",
    ")"
   ]
  },
  {
   "cell_type": "code",
   "execution_count": 67,
   "id": "338ff529-1a6b-4b87-a931-8e4788d52aad",
   "metadata": {
    "execution": {
     "iopub.execute_input": "2025-07-30T13:05:54.383671Z",
     "iopub.status.busy": "2025-07-30T13:05:54.383283Z",
     "iopub.status.idle": "2025-07-30T13:05:54.387981Z",
     "shell.execute_reply": "2025-07-30T13:05:54.387097Z"
    },
    "papermill": {
     "duration": 0.032531,
     "end_time": "2025-07-30T13:05:54.389585",
     "exception": false,
     "start_time": "2025-07-30T13:05:54.357054",
     "status": "completed"
    },
    "tags": []
   },
   "outputs": [],
   "source": [
    "#cp_groups_df"
   ]
  },
  {
   "cell_type": "code",
   "execution_count": 68,
   "id": "90032e27-66df-4540-9169-4e89cfbaa758",
   "metadata": {
    "execution": {
     "iopub.execute_input": "2025-07-30T13:05:54.441810Z",
     "iopub.status.busy": "2025-07-30T13:05:54.441374Z",
     "iopub.status.idle": "2025-07-30T13:05:54.452098Z",
     "shell.execute_reply": "2025-07-30T13:05:54.451126Z"
    },
    "papermill": {
     "duration": 0.039094,
     "end_time": "2025-07-30T13:05:54.453898",
     "exception": false,
     "start_time": "2025-07-30T13:05:54.414804",
     "status": "completed"
    },
    "tags": []
   },
   "outputs": [],
   "source": [
    "subgroups = ['frau1','nongerman','nongerman_male','nongerman_female']\n",
    "\n",
    "# Conditional coverage for subgroup==1\n",
    "cond_coverage = {\n",
    "    g: cp_groups_df.loc[cp_groups_df[g]==1, 'covered'].mean()\n",
    "    for g in subgroups\n",
    "}"
   ]
  },
  {
   "cell_type": "code",
   "execution_count": 69,
   "id": "1e348fb1-b9c3-45bc-ba23-f016827a7e0d",
   "metadata": {
    "execution": {
     "iopub.execute_input": "2025-07-30T13:05:54.507411Z",
     "iopub.status.busy": "2025-07-30T13:05:54.506776Z",
     "iopub.status.idle": "2025-07-30T13:05:54.513818Z",
     "shell.execute_reply": "2025-07-30T13:05:54.512909Z"
    },
    "papermill": {
     "duration": 0.033858,
     "end_time": "2025-07-30T13:05:54.515328",
     "exception": false,
     "start_time": "2025-07-30T13:05:54.481470",
     "status": "completed"
    },
    "tags": []
   },
   "outputs": [
    {
     "data": {
      "text/plain": [
       "{'frau1': 0.9096374174417038,\n",
       " 'nongerman': 0.910683208892382,\n",
       " 'nongerman_male': 0.927136809871206,\n",
       " 'nongerman_female': 0.8834575260804769}"
      ]
     },
     "execution_count": 69,
     "metadata": {},
     "output_type": "execute_result"
    }
   ],
   "source": [
    "cond_coverage"
   ]
  },
  {
   "cell_type": "code",
   "execution_count": 70,
   "id": "f5093324-c3dd-4d63-bc4c-8d945e5c8bbb",
   "metadata": {
    "execution": {
     "iopub.execute_input": "2025-07-30T13:05:54.567297Z",
     "iopub.status.busy": "2025-07-30T13:05:54.566285Z",
     "iopub.status.idle": "2025-07-30T13:05:54.573481Z",
     "shell.execute_reply": "2025-07-30T13:05:54.572631Z"
    },
    "papermill": {
     "duration": 0.034125,
     "end_time": "2025-07-30T13:05:54.575041",
     "exception": false,
     "start_time": "2025-07-30T13:05:54.540916",
     "status": "completed"
    },
    "tags": []
   },
   "outputs": [],
   "source": [
    "for subgroup, cov in cond_coverage.items():\n",
    "    cp_metrics_df[f\"cov_{subgroup}\"] = cov"
   ]
  },
  {
   "cell_type": "code",
   "execution_count": 71,
   "id": "6e872e10-dbe5-49e8-b554-5030c98ff75d",
   "metadata": {
    "execution": {
     "iopub.execute_input": "2025-07-30T13:05:54.626420Z",
     "iopub.status.busy": "2025-07-30T13:05:54.625598Z",
     "iopub.status.idle": "2025-07-30T13:05:54.644181Z",
     "shell.execute_reply": "2025-07-30T13:05:54.643274Z"
    },
    "papermill": {
     "duration": 0.04564,
     "end_time": "2025-07-30T13:05:54.645993",
     "exception": false,
     "start_time": "2025-07-30T13:05:54.600353",
     "status": "completed"
    },
    "tags": []
   },
   "outputs": [
    {
     "data": {
      "text/html": [
       "<div>\n",
       "<style scoped>\n",
       "    .dataframe tbody tr th:only-of-type {\n",
       "        vertical-align: middle;\n",
       "    }\n",
       "\n",
       "    .dataframe tbody tr th {\n",
       "        vertical-align: top;\n",
       "    }\n",
       "\n",
       "    .dataframe thead th {\n",
       "        text-align: right;\n",
       "    }\n",
       "</style>\n",
       "<table border=\"1\" class=\"dataframe\">\n",
       "  <thead>\n",
       "    <tr style=\"text-align: right;\">\n",
       "      <th></th>\n",
       "      <th>universe_id</th>\n",
       "      <th>universe_training_size</th>\n",
       "      <th>universe_scale</th>\n",
       "      <th>universe_model</th>\n",
       "      <th>universe_exclude_features</th>\n",
       "      <th>universe_exclude_subgroups</th>\n",
       "      <th>q_hat</th>\n",
       "      <th>coverage</th>\n",
       "      <th>avg_size</th>\n",
       "      <th>cov_frau1</th>\n",
       "      <th>cov_nongerman</th>\n",
       "      <th>cov_nongerman_male</th>\n",
       "      <th>cov_nongerman_female</th>\n",
       "    </tr>\n",
       "  </thead>\n",
       "  <tbody>\n",
       "    <tr>\n",
       "      <th>0</th>\n",
       "      <td>21a4e34819544a10f656ee94f05e031a</td>\n",
       "      <td>25k</td>\n",
       "      <td>scale</td>\n",
       "      <td>penalized_logreg</td>\n",
       "      <td>nationality</td>\n",
       "      <td>keep-all</td>\n",
       "      <td>0.663781</td>\n",
       "      <td>0.911593</td>\n",
       "      <td>1.125014</td>\n",
       "      <td>0.909637</td>\n",
       "      <td>0.910683</td>\n",
       "      <td>0.927137</td>\n",
       "      <td>0.883458</td>\n",
       "    </tr>\n",
       "  </tbody>\n",
       "</table>\n",
       "</div>"
      ],
      "text/plain": [
       "                        universe_id universe_training_size universe_scale  \\\n",
       "0  21a4e34819544a10f656ee94f05e031a                    25k          scale   \n",
       "\n",
       "     universe_model universe_exclude_features universe_exclude_subgroups  \\\n",
       "0  penalized_logreg               nationality                   keep-all   \n",
       "\n",
       "      q_hat  coverage  avg_size  cov_frau1  cov_nongerman  cov_nongerman_male  \\\n",
       "0  0.663781  0.911593  1.125014   0.909637       0.910683            0.927137   \n",
       "\n",
       "   cov_nongerman_female  \n",
       "0              0.883458  "
      ]
     },
     "execution_count": 71,
     "metadata": {},
     "output_type": "execute_result"
    }
   ],
   "source": [
    "cp_metrics_df"
   ]
  },
  {
   "cell_type": "markdown",
   "id": "33774451",
   "metadata": {
    "papermill": {
     "duration": 0.024612,
     "end_time": "2025-07-30T13:05:54.695924",
     "exception": false,
     "start_time": "2025-07-30T13:05:54.671312",
     "status": "completed"
    },
    "tags": []
   },
   "source": [
    "# (Fairness) Metrics"
   ]
  },
  {
   "cell_type": "code",
   "execution_count": 72,
   "id": "debc5d62",
   "metadata": {
    "execution": {
     "iopub.execute_input": "2025-07-30T13:05:54.746871Z",
     "iopub.status.busy": "2025-07-30T13:05:54.746231Z",
     "iopub.status.idle": "2025-07-30T13:05:54.767445Z",
     "shell.execute_reply": "2025-07-30T13:05:54.766641Z"
    },
    "papermill": {
     "duration": 0.048599,
     "end_time": "2025-07-30T13:05:54.769114",
     "exception": false,
     "start_time": "2025-07-30T13:05:54.720515",
     "status": "completed"
    },
    "tags": []
   },
   "outputs": [],
   "source": [
    "# do I need to include maxdeutsch1.missing?\n",
    "\n",
    "import numpy as np\n",
    "\n",
    "colname_to_bin = \"maxdeutsch1\"\n",
    "majority_value = org_train[colname_to_bin].mode()[0]\n",
    "\n",
    "org_test[\"majmin\"] = np.where(org_test[colname_to_bin] == majority_value, \"majority\", \"minority\")"
   ]
  },
  {
   "cell_type": "code",
   "execution_count": 73,
   "id": "06a50de5",
   "metadata": {
    "execution": {
     "iopub.execute_input": "2025-07-30T13:05:54.821767Z",
     "iopub.status.busy": "2025-07-30T13:05:54.821109Z",
     "iopub.status.idle": "2025-07-30T13:05:57.050347Z",
     "shell.execute_reply": "2025-07-30T13:05:57.049548Z"
    },
    "papermill": {
     "duration": 2.257063,
     "end_time": "2025-07-30T13:05:57.052040",
     "exception": false,
     "start_time": "2025-07-30T13:05:54.794977",
     "status": "completed"
    },
    "tags": []
   },
   "outputs": [],
   "source": [
    "example_universe = universe.copy()\n",
    "example_universe[\"cutoff\"] = example_universe[\"cutoff\"][0]\n",
    "example_universe[\"eval_fairness_grouping\"] = example_universe[\"eval_fairness_grouping\"][0]\n",
    "fairness_dict, metric_frame = universe_analysis.compute_metrics(\n",
    "    example_universe,\n",
    "    y_pred_prob=probs_test,\n",
    "    y_test=y_true,\n",
    "    org_test=org_test,\n",
    ")"
   ]
  },
  {
   "cell_type": "markdown",
   "id": "f95d4e02",
   "metadata": {
    "papermill": {
     "duration": 0.02472,
     "end_time": "2025-07-30T13:05:57.104880",
     "exception": false,
     "start_time": "2025-07-30T13:05:57.080160",
     "status": "completed"
    },
    "tags": []
   },
   "source": [
    "# Overall"
   ]
  },
  {
   "cell_type": "markdown",
   "id": "bdee4871",
   "metadata": {
    "papermill": {
     "duration": 0.025226,
     "end_time": "2025-07-30T13:05:57.155261",
     "exception": false,
     "start_time": "2025-07-30T13:05:57.130035",
     "status": "completed"
    },
    "tags": []
   },
   "source": [
    "Fairness\n",
    "Main fairness target: Equalized Odds. Seems to be a better fit than equal opportunity, since we're not only interested in Y = 1. Seems to be a better fit than demographic parity, since we also care about accuracy, not just equal distribution of preds.\n",
    "\n",
    "Pick column for computation of fairness metrics\n",
    "\n",
    "Performance\n",
    "Overall performance measures, most interesting in relation to the measures split by group below"
   ]
  },
  {
   "cell_type": "code",
   "execution_count": 74,
   "id": "c4e067c6",
   "metadata": {
    "execution": {
     "iopub.execute_input": "2025-07-30T13:05:57.206001Z",
     "iopub.status.busy": "2025-07-30T13:05:57.205650Z",
     "iopub.status.idle": "2025-07-30T13:05:57.212630Z",
     "shell.execute_reply": "2025-07-30T13:05:57.211884Z"
    },
    "papermill": {
     "duration": 0.033906,
     "end_time": "2025-07-30T13:05:57.214417",
     "exception": false,
     "start_time": "2025-07-30T13:05:57.180511",
     "status": "completed"
    },
    "tags": []
   },
   "outputs": [
    {
     "data": {
      "text/plain": [
       "accuracy                   0.225382\n",
       "balanced accuracy          0.550878\n",
       "f1                         0.246686\n",
       "precision                  0.140923\n",
       "false positive rate        0.886947\n",
       "false negative rate        0.011296\n",
       "selection rate             0.900000\n",
       "count                  89710.000000\n",
       "dtype: float64"
      ]
     },
     "execution_count": 74,
     "metadata": {},
     "output_type": "execute_result"
    }
   ],
   "source": [
    "metric_frame.overall"
   ]
  },
  {
   "cell_type": "markdown",
   "id": "e968fe9d",
   "metadata": {
    "papermill": {
     "duration": 0.014967,
     "end_time": "2025-07-30T13:05:57.248283",
     "exception": false,
     "start_time": "2025-07-30T13:05:57.233316",
     "status": "completed"
    },
    "tags": []
   },
   "source": [
    "By Group"
   ]
  },
  {
   "cell_type": "code",
   "execution_count": 75,
   "id": "ec325bce",
   "metadata": {
    "execution": {
     "iopub.execute_input": "2025-07-30T13:05:57.277808Z",
     "iopub.status.busy": "2025-07-30T13:05:57.277475Z",
     "iopub.status.idle": "2025-07-30T13:05:57.289658Z",
     "shell.execute_reply": "2025-07-30T13:05:57.288576Z"
    },
    "papermill": {
     "duration": 0.028181,
     "end_time": "2025-07-30T13:05:57.291013",
     "exception": false,
     "start_time": "2025-07-30T13:05:57.262832",
     "status": "completed"
    },
    "tags": []
   },
   "outputs": [
    {
     "data": {
      "text/html": [
       "<div>\n",
       "<style scoped>\n",
       "    .dataframe tbody tr th:only-of-type {\n",
       "        vertical-align: middle;\n",
       "    }\n",
       "\n",
       "    .dataframe tbody tr th {\n",
       "        vertical-align: top;\n",
       "    }\n",
       "\n",
       "    .dataframe thead th {\n",
       "        text-align: right;\n",
       "    }\n",
       "</style>\n",
       "<table border=\"1\" class=\"dataframe\">\n",
       "  <thead>\n",
       "    <tr style=\"text-align: right;\">\n",
       "      <th></th>\n",
       "      <th>accuracy</th>\n",
       "      <th>balanced accuracy</th>\n",
       "      <th>f1</th>\n",
       "      <th>precision</th>\n",
       "      <th>false positive rate</th>\n",
       "      <th>false negative rate</th>\n",
       "      <th>selection rate</th>\n",
       "      <th>count</th>\n",
       "    </tr>\n",
       "    <tr>\n",
       "      <th>majmin</th>\n",
       "      <th></th>\n",
       "      <th></th>\n",
       "      <th></th>\n",
       "      <th></th>\n",
       "      <th></th>\n",
       "      <th></th>\n",
       "      <th></th>\n",
       "      <th></th>\n",
       "    </tr>\n",
       "  </thead>\n",
       "  <tbody>\n",
       "    <tr>\n",
       "      <th>majority</th>\n",
       "      <td>0.247564</td>\n",
       "      <td>0.561167</td>\n",
       "      <td>0.257504</td>\n",
       "      <td>0.148058</td>\n",
       "      <td>0.865084</td>\n",
       "      <td>0.012582</td>\n",
       "      <td>0.881249</td>\n",
       "      <td>69170.0</td>\n",
       "    </tr>\n",
       "    <tr>\n",
       "      <th>minority</th>\n",
       "      <td>0.150682</td>\n",
       "      <td>0.517249</td>\n",
       "      <td>0.212451</td>\n",
       "      <td>0.118941</td>\n",
       "      <td>0.959168</td>\n",
       "      <td>0.006334</td>\n",
       "      <td>0.963145</td>\n",
       "      <td>20540.0</td>\n",
       "    </tr>\n",
       "  </tbody>\n",
       "</table>\n",
       "</div>"
      ],
      "text/plain": [
       "          accuracy  balanced accuracy        f1  precision  \\\n",
       "majmin                                                       \n",
       "majority  0.247564           0.561167  0.257504   0.148058   \n",
       "minority  0.150682           0.517249  0.212451   0.118941   \n",
       "\n",
       "          false positive rate  false negative rate  selection rate    count  \n",
       "majmin                                                                       \n",
       "majority             0.865084             0.012582        0.881249  69170.0  \n",
       "minority             0.959168             0.006334        0.963145  20540.0  "
      ]
     },
     "execution_count": 75,
     "metadata": {},
     "output_type": "execute_result"
    }
   ],
   "source": [
    "metric_frame.by_group"
   ]
  },
  {
   "cell_type": "code",
   "execution_count": 76,
   "id": "a9ddbe63",
   "metadata": {
    "execution": {
     "iopub.execute_input": "2025-07-30T13:05:57.326422Z",
     "iopub.status.busy": "2025-07-30T13:05:57.326084Z",
     "iopub.status.idle": "2025-07-30T13:05:59.564859Z",
     "shell.execute_reply": "2025-07-30T13:05:59.564004Z"
    },
    "papermill": {
     "duration": 2.258347,
     "end_time": "2025-07-30T13:05:59.566329",
     "exception": false,
     "start_time": "2025-07-30T13:05:57.307982",
     "status": "completed"
    },
    "tags": []
   },
   "outputs": [
    {
     "data": {
      "text/plain": [
       "array([[<Axes: title={'center': 'accuracy'}, xlabel='majmin'>,\n",
       "        <Axes: title={'center': 'balanced accuracy'}, xlabel='majmin'>,\n",
       "        <Axes: title={'center': 'f1'}, xlabel='majmin'>],\n",
       "       [<Axes: title={'center': 'precision'}, xlabel='majmin'>,\n",
       "        <Axes: title={'center': 'false positive rate'}, xlabel='majmin'>,\n",
       "        <Axes: title={'center': 'false negative rate'}, xlabel='majmin'>],\n",
       "       [<Axes: title={'center': 'selection rate'}, xlabel='majmin'>,\n",
       "        <Axes: title={'center': 'count'}, xlabel='majmin'>,\n",
       "        <Axes: xlabel='majmin'>]], dtype=object)"
      ]
     },
     "execution_count": 76,
     "metadata": {},
     "output_type": "execute_result"
    },
    {
     "data": {
      "image/png": "[encoded data removed]",
      "text/plain": [
       "<Figure size 1200x800 with 9 Axes>"
      ]
     },
     "metadata": {},
     "output_type": "display_data"
    }
   ],
   "source": [
    "# In a graphic\n",
    "metric_frame.by_group.plot.bar(\n",
    "    subplots=True,\n",
    "    layout=[3, 3],\n",
    "    legend=False,\n",
    "    figsize=[12, 8],\n",
    "    title=\"Show all metrics\",\n",
    ")"
   ]
  },
  {
   "cell_type": "markdown",
   "id": "f57a0bac",
   "metadata": {
    "papermill": {
     "duration": 0.02747,
     "end_time": "2025-07-30T13:05:59.624200",
     "exception": false,
     "start_time": "2025-07-30T13:05:59.596730",
     "status": "completed"
    },
    "tags": []
   },
   "source": [
    "# Final Output"
   ]
  },
  {
   "cell_type": "code",
   "execution_count": 77,
   "id": "96d280a3",
   "metadata": {
    "execution": {
     "iopub.execute_input": "2025-07-30T13:05:59.680105Z",
     "iopub.status.busy": "2025-07-30T13:05:59.679147Z",
     "iopub.status.idle": "2025-07-30T13:05:59.687914Z",
     "shell.execute_reply": "2025-07-30T13:05:59.686803Z"
    },
    "papermill": {
     "duration": 0.037893,
     "end_time": "2025-07-30T13:05:59.689166",
     "exception": false,
     "start_time": "2025-07-30T13:05:59.651273",
     "status": "completed"
    },
    "tags": []
   },
   "outputs": [
    {
     "data": {
      "text/plain": [
       "4"
      ]
     },
     "execution_count": 77,
     "metadata": {},
     "output_type": "execute_result"
    }
   ],
   "source": [
    "sub_universes = universe_analysis.generate_sub_universes()\n",
    "len(sub_universes)"
   ]
  },
  {
   "cell_type": "code",
   "execution_count": 78,
   "id": "92adf7ba",
   "metadata": {
    "execution": {
     "iopub.execute_input": "2025-07-30T13:05:59.721464Z",
     "iopub.status.busy": "2025-07-30T13:05:59.721095Z",
     "iopub.status.idle": "2025-07-30T13:05:59.734489Z",
     "shell.execute_reply": "2025-07-30T13:05:59.733704Z"
    },
    "papermill": {
     "duration": 0.03089,
     "end_time": "2025-07-30T13:05:59.735807",
     "exception": false,
     "start_time": "2025-07-30T13:05:59.704917",
     "status": "completed"
    },
    "tags": []
   },
   "outputs": [],
   "source": [
    "def filter_sub_universe_data(sub_universe, org_test):\n",
    "    # Keep all rows — no filtering\n",
    "    keep_rows_mask = np.ones(org_test.shape[0], dtype=bool)\n",
    "\n",
    "    print(f\"[INFO] Keeping all rows: {keep_rows_mask.sum()} rows retained.\")\n",
    "    return keep_rows_mask"
   ]
  },
  {
   "cell_type": "code",
   "execution_count": 79,
   "id": "4a759155",
   "metadata": {
    "execution": {
     "iopub.execute_input": "2025-07-30T13:05:59.768021Z",
     "iopub.status.busy": "2025-07-30T13:05:59.767698Z",
     "iopub.status.idle": "2025-07-30T13:06:11.021338Z",
     "shell.execute_reply": "2025-07-30T13:06:11.020389Z"
    },
    "papermill": {
     "duration": 11.271063,
     "end_time": "2025-07-30T13:06:11.022844",
     "exception": false,
     "start_time": "2025-07-30T13:05:59.751781",
     "status": "completed"
    },
    "tags": []
   },
   "outputs": [
    {
     "name": "stdout",
     "output_type": "stream",
     "text": [
      "Stopping execution_time clock.\n",
      "[INFO] Keeping all rows: 89710 rows retained.\n"
     ]
    },
    {
     "name": "stdout",
     "output_type": "stream",
     "text": [
      "[INFO] Keeping all rows: 89710 rows retained.\n"
     ]
    },
    {
     "name": "stdout",
     "output_type": "stream",
     "text": [
      "[INFO] Keeping all rows: 89710 rows retained.\n"
     ]
    },
    {
     "name": "stdout",
     "output_type": "stream",
     "text": [
      "[INFO] Keeping all rows: 89710 rows retained.\n"
     ]
    },
    {
     "data": {
      "text/html": [
       "<div>\n",
       "<style scoped>\n",
       "    .dataframe tbody tr th:only-of-type {\n",
       "        vertical-align: middle;\n",
       "    }\n",
       "\n",
       "    .dataframe tbody tr th {\n",
       "        vertical-align: top;\n",
       "    }\n",
       "\n",
       "    .dataframe thead th {\n",
       "        text-align: right;\n",
       "    }\n",
       "</style>\n",
       "<table border=\"1\" class=\"dataframe\">\n",
       "  <thead>\n",
       "    <tr style=\"text-align: right;\">\n",
       "      <th></th>\n",
       "      <th>run_no</th>\n",
       "      <th>universe_id</th>\n",
       "      <th>universe_settings</th>\n",
       "      <th>execution_time</th>\n",
       "      <th>test_size_n</th>\n",
       "      <th>test_size_frac</th>\n",
       "      <th>fair_main_equalized_odds_difference</th>\n",
       "      <th>fair_main_equalized_odds_ratio</th>\n",
       "      <th>fair_main_demographic_parity_difference</th>\n",
       "      <th>fair_main_demographic_parity_ratio</th>\n",
       "      <th>...</th>\n",
       "      <th>perf_grp_precision_0</th>\n",
       "      <th>perf_grp_precision_1</th>\n",
       "      <th>perf_grp_false positive rate_0</th>\n",
       "      <th>perf_grp_false positive rate_1</th>\n",
       "      <th>perf_grp_false negative rate_0</th>\n",
       "      <th>perf_grp_false negative rate_1</th>\n",
       "      <th>perf_grp_selection rate_0</th>\n",
       "      <th>perf_grp_selection rate_1</th>\n",
       "      <th>perf_grp_count_0</th>\n",
       "      <th>perf_grp_count_1</th>\n",
       "    </tr>\n",
       "  </thead>\n",
       "  <tbody>\n",
       "    <tr>\n",
       "      <th>0</th>\n",
       "      <td>12</td>\n",
       "      <td>21a4e34819544a10f656ee94f05e031a</td>\n",
       "      <td>{\"cutoff\": \"quantile_0.1\", \"eval_fairness_grou...</td>\n",
       "      <td>28.495301</td>\n",
       "      <td>89710</td>\n",
       "      <td>1.0</td>\n",
       "      <td>0.094084</td>\n",
       "      <td>0.901911</td>\n",
       "      <td>0.081896</td>\n",
       "      <td>0.914970</td>\n",
       "      <td>...</td>\n",
       "      <td>NaN</td>\n",
       "      <td>NaN</td>\n",
       "      <td>NaN</td>\n",
       "      <td>NaN</td>\n",
       "      <td>NaN</td>\n",
       "      <td>NaN</td>\n",
       "      <td>NaN</td>\n",
       "      <td>NaN</td>\n",
       "      <td>NaN</td>\n",
       "      <td>NaN</td>\n",
       "    </tr>\n",
       "    <tr>\n",
       "      <th>0</th>\n",
       "      <td>12</td>\n",
       "      <td>21a4e34819544a10f656ee94f05e031a</td>\n",
       "      <td>{\"cutoff\": \"quantile_0.1\", \"eval_fairness_grou...</td>\n",
       "      <td>28.495301</td>\n",
       "      <td>89710</td>\n",
       "      <td>1.0</td>\n",
       "      <td>0.094084</td>\n",
       "      <td>0.901911</td>\n",
       "      <td>0.081896</td>\n",
       "      <td>0.914970</td>\n",
       "      <td>...</td>\n",
       "      <td>0.118941</td>\n",
       "      <td>0.148058</td>\n",
       "      <td>0.959168</td>\n",
       "      <td>0.865084</td>\n",
       "      <td>0.006334</td>\n",
       "      <td>0.012582</td>\n",
       "      <td>0.963145</td>\n",
       "      <td>0.881249</td>\n",
       "      <td>20540.0</td>\n",
       "      <td>69170.0</td>\n",
       "    </tr>\n",
       "    <tr>\n",
       "      <th>0</th>\n",
       "      <td>12</td>\n",
       "      <td>21a4e34819544a10f656ee94f05e031a</td>\n",
       "      <td>{\"cutoff\": \"quantile_0.25\", \"eval_fairness_gro...</td>\n",
       "      <td>28.495301</td>\n",
       "      <td>89710</td>\n",
       "      <td>1.0</td>\n",
       "      <td>0.165989</td>\n",
       "      <td>0.804235</td>\n",
       "      <td>0.144162</td>\n",
       "      <td>0.832594</td>\n",
       "      <td>...</td>\n",
       "      <td>NaN</td>\n",
       "      <td>NaN</td>\n",
       "      <td>NaN</td>\n",
       "      <td>NaN</td>\n",
       "      <td>NaN</td>\n",
       "      <td>NaN</td>\n",
       "      <td>NaN</td>\n",
       "      <td>NaN</td>\n",
       "      <td>NaN</td>\n",
       "      <td>NaN</td>\n",
       "    </tr>\n",
       "    <tr>\n",
       "      <th>0</th>\n",
       "      <td>12</td>\n",
       "      <td>21a4e34819544a10f656ee94f05e031a</td>\n",
       "      <td>{\"cutoff\": \"quantile_0.25\", \"eval_fairness_gro...</td>\n",
       "      <td>28.495301</td>\n",
       "      <td>89710</td>\n",
       "      <td>1.0</td>\n",
       "      <td>0.165989</td>\n",
       "      <td>0.804235</td>\n",
       "      <td>0.144162</td>\n",
       "      <td>0.832594</td>\n",
       "      <td>...</td>\n",
       "      <td>0.128901</td>\n",
       "      <td>0.174598</td>\n",
       "      <td>0.847898</td>\n",
       "      <td>0.681909</td>\n",
       "      <td>0.037162</td>\n",
       "      <td>0.052626</td>\n",
       "      <td>0.861149</td>\n",
       "      <td>0.716987</td>\n",
       "      <td>20540.0</td>\n",
       "      <td>69170.0</td>\n",
       "    </tr>\n",
       "  </tbody>\n",
       "</table>\n",
       "<p>4 rows × 50 columns</p>\n",
       "</div>"
      ],
      "text/plain": [
       "  run_no                       universe_id  \\\n",
       "0     12  21a4e34819544a10f656ee94f05e031a   \n",
       "0     12  21a4e34819544a10f656ee94f05e031a   \n",
       "0     12  21a4e34819544a10f656ee94f05e031a   \n",
       "0     12  21a4e34819544a10f656ee94f05e031a   \n",
       "\n",
       "                                   universe_settings  execution_time  \\\n",
       "0  {\"cutoff\": \"quantile_0.1\", \"eval_fairness_grou...       28.495301   \n",
       "0  {\"cutoff\": \"quantile_0.1\", \"eval_fairness_grou...       28.495301   \n",
       "0  {\"cutoff\": \"quantile_0.25\", \"eval_fairness_gro...       28.495301   \n",
       "0  {\"cutoff\": \"quantile_0.25\", \"eval_fairness_gro...       28.495301   \n",
       "\n",
       "   test_size_n  test_size_frac  fair_main_equalized_odds_difference  \\\n",
       "0        89710             1.0                             0.094084   \n",
       "0        89710             1.0                             0.094084   \n",
       "0        89710             1.0                             0.165989   \n",
       "0        89710             1.0                             0.165989   \n",
       "\n",
       "   fair_main_equalized_odds_ratio  fair_main_demographic_parity_difference  \\\n",
       "0                        0.901911                                 0.081896   \n",
       "0                        0.901911                                 0.081896   \n",
       "0                        0.804235                                 0.144162   \n",
       "0                        0.804235                                 0.144162   \n",
       "\n",
       "   fair_main_demographic_parity_ratio  ...  perf_grp_precision_0  \\\n",
       "0                            0.914970  ...                   NaN   \n",
       "0                            0.914970  ...              0.118941   \n",
       "0                            0.832594  ...                   NaN   \n",
       "0                            0.832594  ...              0.128901   \n",
       "\n",
       "   perf_grp_precision_1  perf_grp_false positive rate_0  \\\n",
       "0                   NaN                             NaN   \n",
       "0              0.148058                        0.959168   \n",
       "0                   NaN                             NaN   \n",
       "0              0.174598                        0.847898   \n",
       "\n",
       "   perf_grp_false positive rate_1  perf_grp_false negative rate_0  \\\n",
       "0                             NaN                             NaN   \n",
       "0                        0.865084                        0.006334   \n",
       "0                             NaN                             NaN   \n",
       "0                        0.681909                        0.037162   \n",
       "\n",
       "   perf_grp_false negative rate_1  perf_grp_selection rate_0  \\\n",
       "0                             NaN                        NaN   \n",
       "0                        0.012582                   0.963145   \n",
       "0                             NaN                        NaN   \n",
       "0                        0.052626                   0.861149   \n",
       "\n",
       "   perf_grp_selection rate_1  perf_grp_count_0  perf_grp_count_1  \n",
       "0                        NaN               NaN               NaN  \n",
       "0                   0.881249           20540.0           69170.0  \n",
       "0                        NaN               NaN               NaN  \n",
       "0                   0.716987           20540.0           69170.0  \n",
       "\n",
       "[4 rows x 50 columns]"
      ]
     },
     "execution_count": 79,
     "metadata": {},
     "output_type": "execute_result"
    }
   ],
   "source": [
    "final_output = universe_analysis.generate_final_output(\n",
    "    y_pred_prob=probs_test,\n",
    "    y_test=y_true,\n",
    "    org_test=org_test,\n",
    "    filter_data=filter_sub_universe_data,\n",
    "    cp_metrics_df=cp_metrics_df,\n",
    "    save=True,\n",
    ")\n",
    "final_output"
   ]
  },
  {
   "cell_type": "code",
   "execution_count": null,
   "id": "721ff514-cb11-46f8-b6fc-50392f74b5cb",
   "metadata": {
    "papermill": {
     "duration": 0.0277,
     "end_time": "2025-07-30T13:06:11.082428",
     "exception": false,
     "start_time": "2025-07-30T13:06:11.054728",
     "status": "completed"
    },
    "tags": []
   },
   "outputs": [],
   "source": []
  }
 ],
 "metadata": {
  "celltoolbar": "Tags",
  "kernelspec": {
   "display_name": "Python (CMA Fairness)",
   "language": "python",
   "name": "cma_fair_env"
  },
  "language_info": {
   "codemirror_mode": {
    "name": "ipython",
    "version": 3
   },
   "file_extension": ".py",
   "mimetype": "text/x-python",
   "name": "python",
   "nbconvert_exporter": "python",
   "pygments_lexer": "ipython3",
   "version": "3.10.12"
  },
  "papermill": {
   "default_parameters": {},
   "duration": 44.034895,
   "end_time": "2025-07-30T13:06:11.929218",
   "environment_variables": {},
   "exception": null,
   "input_path": "universe_analysis.ipynb",
   "output_path": "output/runs/12/notebooks/m_12-21a4e34819544a10f656ee94f05e031a.ipynb",
   "parameters": {
    "output_dir": "output",
    "run_no": "12",
    "seed": "2023",
    "universe": "{\"cutoff\": [\"quantile_0.1\", \"quantile_0.25\"], \"eval_fairness_grouping\": [\"majority-minority\", \"nationality-all\"], \"exclude_features\": \"nationality\", \"exclude_subgroups\": \"keep-all\", \"model\": \"penalized_logreg\", \"scale\": \"scale\", \"training_size\": \"25k\", \"training_year\": \"2012_14\"}",
    "universe_id": "21a4e34819544a10f656ee94f05e031a"
   },
   "start_time": "2025-07-30T13:05:27.894323",
   "version": "2.6.0"
  }
 },
 "nbformat": 4,
 "nbformat_minor": 5
}