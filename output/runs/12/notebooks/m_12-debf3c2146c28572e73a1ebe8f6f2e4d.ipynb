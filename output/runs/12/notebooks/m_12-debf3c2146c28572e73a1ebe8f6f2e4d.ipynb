{
 "cells": [
  {
   "cell_type": "code",
   "execution_count": 1,
   "id": "f159f837-637b-42ba-96b5-ec9a68c44524",
   "metadata": {
    "execution": {
     "iopub.execute_input": "2025-07-30T13:06:52.967809Z",
     "iopub.status.busy": "2025-07-30T13:06:52.967370Z",
     "iopub.status.idle": "2025-07-30T13:06:52.980826Z",
     "shell.execute_reply": "2025-07-30T13:06:52.979417Z"
    },
    "papermill": {
     "duration": 0.02915,
     "end_time": "2025-07-30T13:06:52.982782",
     "exception": false,
     "start_time": "2025-07-30T13:06:52.953632",
     "status": "completed"
    },
    "tags": []
   },
   "outputs": [
    {
     "name": "stdout",
     "output_type": "stream",
     "text": [
      "/dss/dsshome1/0C/ra93lal2/cma/CMA_Fairness_v2\n"
     ]
    },
    {
     "name": "stderr",
     "output_type": "stream",
     "text": [
      "/dss/dsshome1/0C/ra93lal2/.local/share/virtualenvs/CMA_Fairness_v2-3j10GkSs/lib/python3.10/site-packages/IPython/core/magics/osm.py:393: UserWarning: This is now an optional IPython functionality, using bookmarks requires you to install the `pickleshare` library.\n",
      "  bkms = self.shell.db.get('bookmarks', {})\n",
      "/dss/dsshome1/0C/ra93lal2/.local/share/virtualenvs/CMA_Fairness_v2-3j10GkSs/lib/python3.10/site-packages/IPython/core/magics/osm.py:417: UserWarning: This is now an optional IPython functionality, setting dhist requires you to install the `pickleshare` library.\n",
      "  self.shell.db['dhist'] = compress_dhist(dhist)[-100:]\n"
     ]
    }
   ],
   "source": [
    "%cd ~/cma/CMA_Fairness_v2"
   ]
  },
  {
   "cell_type": "markdown",
   "id": "de2603b9",
   "metadata": {
    "papermill": {
     "duration": 0.020411,
     "end_time": "2025-07-30T13:06:53.024564",
     "exception": false,
     "start_time": "2025-07-30T13:06:53.004153",
     "status": "completed"
    },
    "tags": []
   },
   "source": [
    "The following cell holds the definition of our parameters, these values can be overriden by rendering the with e.g. the following command:\n",
    "\n",
    "papermill -p alpha 0.2 -p ratio 0.3 universe_analysis.ipynb output/test_run.ipynb"
   ]
  },
  {
   "cell_type": "code",
   "execution_count": 2,
   "id": "a80968a0-40bb-4fa9-85ef-2d5eefb01975",
   "metadata": {
    "execution": {
     "iopub.execute_input": "2025-07-30T13:06:53.066954Z",
     "iopub.status.busy": "2025-07-30T13:06:53.066355Z",
     "iopub.status.idle": "2025-07-30T13:06:53.072435Z",
     "shell.execute_reply": "2025-07-30T13:06:53.071267Z"
    },
    "papermill": {
     "duration": 0.038996,
     "end_time": "2025-07-30T13:06:53.084271",
     "exception": false,
     "start_time": "2025-07-30T13:06:53.045275",
     "status": "completed"
    },
    "tags": []
   },
   "outputs": [
    {
     "name": "stdout",
     "output_type": "stream",
     "text": [
      "Current working directory: /dss/dsshome1/0C/ra93lal2/cma/CMA_Fairness_v2\n"
     ]
    }
   ],
   "source": [
    "import os\n",
    "print(\"Current working directory:\", os.getcwd())"
   ]
  },
  {
   "cell_type": "code",
   "execution_count": 3,
   "id": "2dce4c03",
   "metadata": {
    "execution": {
     "iopub.execute_input": "2025-07-30T13:06:53.123889Z",
     "iopub.status.busy": "2025-07-30T13:06:53.123501Z",
     "iopub.status.idle": "2025-07-30T13:06:53.129700Z",
     "shell.execute_reply": "2025-07-30T13:06:53.128997Z"
    },
    "papermill": {
     "duration": 0.021913,
     "end_time": "2025-07-30T13:06:53.131018",
     "exception": false,
     "start_time": "2025-07-30T13:06:53.109105",
     "status": "completed"
    },
    "tags": [
     "parameters"
    ]
   },
   "outputs": [],
   "source": [
    "run_no = 0\n",
    "universe_id = \"test\"\n",
    "universe = {\n",
    "    \"training_size\": \"25k\", # \"25k\", \"5k\", \"1k\"\n",
    "    \"training_year\": \"2014\", # \"2014\", \"2012_14\", \"2010_14\"\n",
    "    \"scale\": \"scale\", # \"scale\", \"do-not-scale\",\n",
    "    #\"stratify_split\": \"target\", # \"none\", \"target\", \"protected-attribute\", \"both\",\n",
    "    \"model\": \"elasticnet\", # \"logreg\", \"penalized_logreg\", \"rf\", \"gbm\", \"elasticnet\"\n",
    "    \"cutoff\": [\"quantile_0.15\", \"quantile_0.30\"],\n",
    "    \"exclude_features\": \"age\", # \"none\", \"nationality\", \"sex\", \"nationality-sex\", \"age\"\n",
    "    \"exclude_subgroups\": \"keep-all\", # \"keep-all\", \"drop-non-german\"\n",
    "    \"eval_fairness_grouping\": [\"majority-minority\", \"nationality-all\"]\n",
    "}\n",
    "\n",
    "output_dir=\"./output\"\n",
    "seed=0"
   ]
  },
  {
   "cell_type": "code",
   "execution_count": 4,
   "id": "de5ebfe8",
   "metadata": {
    "execution": {
     "iopub.execute_input": "2025-07-30T13:06:53.153801Z",
     "iopub.status.busy": "2025-07-30T13:06:53.153160Z",
     "iopub.status.idle": "2025-07-30T13:06:53.157524Z",
     "shell.execute_reply": "2025-07-30T13:06:53.156820Z"
    },
    "papermill": {
     "duration": 0.016523,
     "end_time": "2025-07-30T13:06:53.158731",
     "exception": false,
     "start_time": "2025-07-30T13:06:53.142208",
     "status": "completed"
    },
    "tags": [
     "injected-parameters"
    ]
   },
   "outputs": [],
   "source": [
    "# Parameters\n",
    "universe_id = \"debf3c2146c28572e73a1ebe8f6f2e4d\"\n",
    "run_no = \"12\"\n",
    "universe = \"{\\\"cutoff\\\": [\\\"quantile_0.1\\\", \\\"quantile_0.25\\\"], \\\"eval_fairness_grouping\\\": [\\\"majority-minority\\\", \\\"nationality-all\\\"], \\\"exclude_features\\\": \\\"none\\\", \\\"exclude_subgroups\\\": \\\"keep-all\\\", \\\"model\\\": \\\"rf\\\", \\\"scale\\\": \\\"scale\\\", \\\"training_size\\\": \\\"25k\\\", \\\"training_year\\\": \\\"2012_14\\\"}\"\n",
    "output_dir = \"output\"\n",
    "seed = \"2023\"\n"
   ]
  },
  {
   "cell_type": "code",
   "execution_count": 5,
   "id": "1650acaf",
   "metadata": {
    "execution": {
     "iopub.execute_input": "2025-07-30T13:06:53.184113Z",
     "iopub.status.busy": "2025-07-30T13:06:53.183271Z",
     "iopub.status.idle": "2025-07-30T13:06:53.188227Z",
     "shell.execute_reply": "2025-07-30T13:06:53.187436Z"
    },
    "papermill": {
     "duration": 0.031221,
     "end_time": "2025-07-30T13:06:53.201004",
     "exception": false,
     "start_time": "2025-07-30T13:06:53.169783",
     "status": "completed"
    },
    "tags": []
   },
   "outputs": [],
   "source": [
    "import json\n",
    "# Parse universe into dict if it is passed as a string\n",
    "if isinstance(universe, str):\n",
    "    universe = json.loads(universe)"
   ]
  },
  {
   "cell_type": "code",
   "execution_count": 6,
   "id": "16620c48",
   "metadata": {
    "execution": {
     "iopub.execute_input": "2025-07-30T13:06:53.223852Z",
     "iopub.status.busy": "2025-07-30T13:06:53.223308Z",
     "iopub.status.idle": "2025-07-30T13:06:53.252996Z",
     "shell.execute_reply": "2025-07-30T13:06:53.252270Z"
    },
    "papermill": {
     "duration": 0.04374,
     "end_time": "2025-07-30T13:06:53.255591",
     "exception": false,
     "start_time": "2025-07-30T13:06:53.211851",
     "status": "completed"
    },
    "tags": []
   },
   "outputs": [],
   "source": [
    "# Auto-reload the custom package\n",
    "%load_ext autoreload\n",
    "%autoreload 1\n",
    "%aimport fairness_multiverse"
   ]
  },
  {
   "cell_type": "code",
   "execution_count": 7,
   "id": "01c5c9f3",
   "metadata": {
    "execution": {
     "iopub.execute_input": "2025-07-30T13:06:53.299914Z",
     "iopub.status.busy": "2025-07-30T13:06:53.299486Z",
     "iopub.status.idle": "2025-07-30T13:06:55.211454Z",
     "shell.execute_reply": "2025-07-30T13:06:55.210431Z"
    },
    "papermill": {
     "duration": 1.935923,
     "end_time": "2025-07-30T13:06:55.213471",
     "exception": false,
     "start_time": "2025-07-30T13:06:53.277548",
     "status": "completed"
    },
    "tags": []
   },
   "outputs": [],
   "source": [
    "from fairness_multiverse.universe import UniverseAnalysis\n",
    "\n",
    "universe_analysis = UniverseAnalysis(\n",
    "    run_no = run_no,\n",
    "    universe_id = universe_id,\n",
    "    universe = universe,\n",
    "    output_dir=output_dir,\n",
    ")"
   ]
  },
  {
   "cell_type": "code",
   "execution_count": 8,
   "id": "106241f5",
   "metadata": {
    "execution": {
     "iopub.execute_input": "2025-07-30T13:06:55.255899Z",
     "iopub.status.busy": "2025-07-30T13:06:55.255384Z",
     "iopub.status.idle": "2025-07-30T13:06:55.262346Z",
     "shell.execute_reply": "2025-07-30T13:06:55.261199Z"
    },
    "papermill": {
     "duration": 0.029441,
     "end_time": "2025-07-30T13:06:55.264042",
     "exception": false,
     "start_time": "2025-07-30T13:06:55.234601",
     "status": "completed"
    },
    "tags": []
   },
   "outputs": [
    {
     "name": "stdout",
     "output_type": "stream",
     "text": [
      "Using Seed: 2023\n"
     ]
    }
   ],
   "source": [
    "import numpy as np\n",
    "parsed_seed = int(seed)\n",
    "np.random.seed(parsed_seed)\n",
    "print(f\"Using Seed: {parsed_seed}\")"
   ]
  },
  {
   "cell_type": "markdown",
   "id": "e0ebdc57",
   "metadata": {
    "papermill": {
     "duration": 0.018647,
     "end_time": "2025-07-30T13:06:55.302560",
     "exception": false,
     "start_time": "2025-07-30T13:06:55.283913",
     "status": "completed"
    },
    "tags": []
   },
   "source": [
    "# Loading Data"
   ]
  },
  {
   "cell_type": "markdown",
   "id": "681925a3",
   "metadata": {
    "papermill": {
     "duration": 0.018494,
     "end_time": "2025-07-30T13:06:55.340146",
     "exception": false,
     "start_time": "2025-07-30T13:06:55.321652",
     "status": "completed"
    },
    "tags": []
   },
   "source": [
    "Load siab_train, siab_test, siab_calib and/or \n",
    "load siab_train_features, siab_train_labels"
   ]
  },
  {
   "cell_type": "code",
   "execution_count": 9,
   "id": "f0496b8a",
   "metadata": {
    "execution": {
     "iopub.execute_input": "2025-07-30T13:06:55.363770Z",
     "iopub.status.busy": "2025-07-30T13:06:55.363334Z",
     "iopub.status.idle": "2025-07-30T13:07:07.487435Z",
     "shell.execute_reply": "2025-07-30T13:07:07.486162Z"
    },
    "papermill": {
     "duration": 12.137397,
     "end_time": "2025-07-30T13:07:07.489287",
     "exception": false,
     "start_time": "2025-07-30T13:06:55.351890",
     "status": "completed"
    },
    "tags": []
   },
   "outputs": [
    {
     "name": "stdout",
     "output_type": "stream",
     "text": [
      "Loading SIAB data from cache: data/siab_cached.csv.gz\n"
     ]
    },
    {
     "name": "stdout",
     "output_type": "stream",
     "text": [
      "(643690, 164)\n"
     ]
    }
   ],
   "source": [
    "from pathlib import Path\n",
    "import pandas as pd\n",
    "\n",
    "# File paths\n",
    "raw_file = Path(\"data/raw/siab.csv\")\n",
    "cache_file = Path(\"data/siab_cached.csv.gz\")\n",
    "\n",
    "# Ensure cache directory exists\n",
    "cache_file.parent.mkdir(parents=True, exist_ok=True)\n",
    "\n",
    "# Load with simple caching\n",
    "if cache_file.exists():\n",
    "    print(f\"Loading SIAB data from cache: {cache_file}\")\n",
    "    siab = pd.read_csv(cache_file, compression='gzip')\n",
    "else:\n",
    "    print(f\"Cache not found. Reading raw SIAB data: {raw_file}\")\n",
    "    siab = pd.read_csv(raw_file)\n",
    "    siab.to_csv(cache_file, index=False, compression='gzip')\n",
    "    print(f\"Cached SIAB data to: {cache_file}\")\n",
    "\n",
    "# Now use `siab` DataFrame as needed\n",
    "print(siab.shape)"
   ]
  },
  {
   "cell_type": "code",
   "execution_count": 10,
   "id": "db0ca512-5f53-4dba-abdb-a2888bca41ba",
   "metadata": {
    "execution": {
     "iopub.execute_input": "2025-07-30T13:07:07.551592Z",
     "iopub.status.busy": "2025-07-30T13:07:07.551011Z",
     "iopub.status.idle": "2025-07-30T13:07:07.556817Z",
     "shell.execute_reply": "2025-07-30T13:07:07.555670Z"
    },
    "papermill": {
     "duration": 0.030124,
     "end_time": "2025-07-30T13:07:07.558783",
     "exception": false,
     "start_time": "2025-07-30T13:07:07.528659",
     "status": "completed"
    },
    "tags": []
   },
   "outputs": [],
   "source": [
    "#siab"
   ]
  },
  {
   "cell_type": "code",
   "execution_count": 11,
   "id": "a0edb063",
   "metadata": {
    "execution": {
     "iopub.execute_input": "2025-07-30T13:07:07.604893Z",
     "iopub.status.busy": "2025-07-30T13:07:07.603944Z",
     "iopub.status.idle": "2025-07-30T13:07:07.609209Z",
     "shell.execute_reply": "2025-07-30T13:07:07.608173Z"
    },
    "papermill": {
     "duration": 0.029937,
     "end_time": "2025-07-30T13:07:07.610971",
     "exception": false,
     "start_time": "2025-07-30T13:07:07.581034",
     "status": "completed"
    },
    "tags": []
   },
   "outputs": [],
   "source": [
    "#import pandas as pd\n",
    "#\n",
    "#X_train = pd.read_csv(\"./data/X_train.csv\")\n",
    "#y_train = pd.read_csv(\"./data/y_train.csv\")"
   ]
  },
  {
   "cell_type": "code",
   "execution_count": 12,
   "id": "63d08085",
   "metadata": {
    "execution": {
     "iopub.execute_input": "2025-07-30T13:07:07.656312Z",
     "iopub.status.busy": "2025-07-30T13:07:07.655518Z",
     "iopub.status.idle": "2025-07-30T13:07:07.663054Z",
     "shell.execute_reply": "2025-07-30T13:07:07.659816Z"
    },
    "papermill": {
     "duration": 0.032221,
     "end_time": "2025-07-30T13:07:07.665560",
     "exception": false,
     "start_time": "2025-07-30T13:07:07.633339",
     "status": "completed"
    },
    "tags": []
   },
   "outputs": [],
   "source": [
    "#X_test = pd.read_csv(\"./data/X_test.csv\")\n",
    "#y_true = pd.read_csv(\"./data/y_test.csv\")"
   ]
  },
  {
   "cell_type": "code",
   "execution_count": 13,
   "id": "98a8d0fa-1d3d-4ed8-bb2c-281470e24add",
   "metadata": {
    "execution": {
     "iopub.execute_input": "2025-07-30T13:07:07.700490Z",
     "iopub.status.busy": "2025-07-30T13:07:07.699643Z",
     "iopub.status.idle": "2025-07-30T13:07:07.705386Z",
     "shell.execute_reply": "2025-07-30T13:07:07.704354Z"
    },
    "papermill": {
     "duration": 0.026344,
     "end_time": "2025-07-30T13:07:07.707016",
     "exception": false,
     "start_time": "2025-07-30T13:07:07.680672",
     "status": "completed"
    },
    "tags": []
   },
   "outputs": [],
   "source": [
    "# Calibration data for conformal\n",
    "#X_calib = pd.read_csv(\"./data/X_calib.csv\")\n",
    "#y_calib = pd.read_csv(\"./data/y_calib.csv\")"
   ]
  },
  {
   "cell_type": "markdown",
   "id": "997051c5-15bd-4b69-9786-c3001a3ce484",
   "metadata": {
    "papermill": {
     "duration": 0.013944,
     "end_time": "2025-07-30T13:07:07.743278",
     "exception": false,
     "start_time": "2025-07-30T13:07:07.729334",
     "status": "completed"
    },
    "tags": []
   },
   "source": [
    "# Splitting Data and Setting Training Data Size"
   ]
  },
  {
   "cell_type": "code",
   "execution_count": 14,
   "id": "e993b61f-042d-41a6-8c81-f55681f86335",
   "metadata": {
    "execution": {
     "iopub.execute_input": "2025-07-30T13:07:07.788109Z",
     "iopub.status.busy": "2025-07-30T13:07:07.787499Z",
     "iopub.status.idle": "2025-07-30T13:07:07.797554Z",
     "shell.execute_reply": "2025-07-30T13:07:07.796589Z"
    },
    "papermill": {
     "duration": 0.034655,
     "end_time": "2025-07-30T13:07:07.799513",
     "exception": false,
     "start_time": "2025-07-30T13:07:07.764858",
     "status": "completed"
    },
    "tags": []
   },
   "outputs": [],
   "source": [
    "def sample_by_year_size(df,\n",
    "                        training_year: str,\n",
    "                        training_size: str,\n",
    "                        random_state: int = 42):\n",
    "    # --- parse training_year into a list of int years ---\n",
    "    if \"_\" in training_year:\n",
    "        start_str, end_str = training_year.split(\"_\", 1)\n",
    "        start = int(start_str)\n",
    "        end   = int(end_str) if len(end_str) == 4 else (int(end_str) + (start // 100)*100)\n",
    "        years = list(range(start, end + 1))\n",
    "    else:\n",
    "        years = [int(training_year)]\n",
    "\n",
    "    df = df[df[\"year\"].isin(years)].reset_index(drop=True)\n",
    "\n",
    "    # --- map training_size to total number of samples ---\n",
    "    total_map = {\"25k\": 25_000, \"5k\": 5_000, \"1k\": 1_000}\n",
    "    if training_size not in total_map:\n",
    "        return df  # e.g. \"all\"\n",
    "\n",
    "    total_samples = total_map[training_size]\n",
    "    n_years       = len(years)\n",
    "    base          = total_samples // n_years\n",
    "    remainder     = total_samples % n_years\n",
    "\n",
    "    # --- build a dict: year -> how many to sample ---\n",
    "    # give +1 to the first `remainder` years in ascending order\n",
    "    quotas = {\n",
    "        year: base + (1 if idx < remainder else 0)\n",
    "        for idx, year in enumerate(sorted(years))\n",
    "    }\n",
    "\n",
    "    # --- sample per‐year according to the quota dict ---\n",
    "    sampled = (\n",
    "        df\n",
    "        .groupby(\"year\", group_keys=False)\n",
    "        .apply(lambda grp: grp.sample(\n",
    "            n=min(len(grp), quotas[grp.name]),\n",
    "            random_state=random_state))\n",
    "        .reset_index(drop=True)\n",
    "    )\n",
    "\n",
    "    return sampled"
   ]
  },
  {
   "cell_type": "code",
   "execution_count": 15,
   "id": "c0ccd338-0e02-41f3-a09d-f56f9266e3fb",
   "metadata": {
    "execution": {
     "iopub.execute_input": "2025-07-30T13:07:07.824522Z",
     "iopub.status.busy": "2025-07-30T13:07:07.824167Z",
     "iopub.status.idle": "2025-07-30T13:07:07.845594Z",
     "shell.execute_reply": "2025-07-30T13:07:07.844842Z"
    },
    "papermill": {
     "duration": 0.034556,
     "end_time": "2025-07-30T13:07:07.846978",
     "exception": false,
     "start_time": "2025-07-30T13:07:07.812422",
     "status": "completed"
    },
    "tags": []
   },
   "outputs": [
    {
     "data": {
      "text/plain": [
       "'25k'"
      ]
     },
     "execution_count": 15,
     "metadata": {},
     "output_type": "execute_result"
    }
   ],
   "source": [
    "universe[\"training_size\"]"
   ]
  },
  {
   "cell_type": "code",
   "execution_count": 16,
   "id": "ca707fd7-8047-4acd-bfa5-66248fbbf8e6",
   "metadata": {
    "execution": {
     "iopub.execute_input": "2025-07-30T13:07:07.885286Z",
     "iopub.status.busy": "2025-07-30T13:07:07.884858Z",
     "iopub.status.idle": "2025-07-30T13:07:07.891701Z",
     "shell.execute_reply": "2025-07-30T13:07:07.890790Z"
    },
    "papermill": {
     "duration": 0.031881,
     "end_time": "2025-07-30T13:07:07.893535",
     "exception": false,
     "start_time": "2025-07-30T13:07:07.861654",
     "status": "completed"
    },
    "tags": []
   },
   "outputs": [
    {
     "data": {
      "text/plain": [
       "'2012_14'"
      ]
     },
     "execution_count": 16,
     "metadata": {},
     "output_type": "execute_result"
    }
   ],
   "source": [
    "universe[\"training_year\"]"
   ]
  },
  {
   "cell_type": "code",
   "execution_count": 17,
   "id": "aea9c6ef-6f46-42c8-85eb-5a62025c1508",
   "metadata": {
    "execution": {
     "iopub.execute_input": "2025-07-30T13:07:07.937237Z",
     "iopub.status.busy": "2025-07-30T13:07:07.936770Z",
     "iopub.status.idle": "2025-07-30T13:07:08.608078Z",
     "shell.execute_reply": "2025-07-30T13:07:08.607181Z"
    },
    "papermill": {
     "duration": 0.695393,
     "end_time": "2025-07-30T13:07:08.609922",
     "exception": false,
     "start_time": "2025-07-30T13:07:07.914529",
     "status": "completed"
    },
    "tags": []
   },
   "outputs": [],
   "source": [
    "siab_train = sample_by_year_size(siab,\n",
    "                               training_year=universe[\"training_year\"],\n",
    "                               training_size=universe[\"training_size\"])"
   ]
  },
  {
   "cell_type": "code",
   "execution_count": 18,
   "id": "8d3afb32-789d-442c-8d5d-9f5aa8dd2eed",
   "metadata": {
    "execution": {
     "iopub.execute_input": "2025-07-30T13:07:08.653313Z",
     "iopub.status.busy": "2025-07-30T13:07:08.652407Z",
     "iopub.status.idle": "2025-07-30T13:07:08.659635Z",
     "shell.execute_reply": "2025-07-30T13:07:08.658317Z"
    },
    "papermill": {
     "duration": 0.030588,
     "end_time": "2025-07-30T13:07:08.661169",
     "exception": false,
     "start_time": "2025-07-30T13:07:08.630581",
     "status": "completed"
    },
    "tags": []
   },
   "outputs": [
    {
     "data": {
      "text/plain": [
       "(25000, 164)"
      ]
     },
     "execution_count": 18,
     "metadata": {},
     "output_type": "execute_result"
    }
   ],
   "source": [
    "siab_train.shape"
   ]
  },
  {
   "cell_type": "code",
   "execution_count": 19,
   "id": "d582db68-1a4c-47fb-84fc-08518dc1975a",
   "metadata": {
    "execution": {
     "iopub.execute_input": "2025-07-30T13:07:08.717154Z",
     "iopub.status.busy": "2025-07-30T13:07:08.716482Z",
     "iopub.status.idle": "2025-07-30T13:07:08.726170Z",
     "shell.execute_reply": "2025-07-30T13:07:08.725302Z"
    },
    "papermill": {
     "duration": 0.044501,
     "end_time": "2025-07-30T13:07:08.727732",
     "exception": false,
     "start_time": "2025-07-30T13:07:08.683231",
     "status": "completed"
    },
    "tags": []
   },
   "outputs": [
    {
     "data": {
      "text/plain": [
       "year\n",
       "2012    8334\n",
       "2013    8333\n",
       "2014    8333\n",
       "dtype: int64"
      ]
     },
     "metadata": {},
     "output_type": "display_data"
    }
   ],
   "source": [
    "display(siab_train.groupby(\"year\").size())"
   ]
  },
  {
   "cell_type": "code",
   "execution_count": 20,
   "id": "a561edb4-d032-42cb-8256-22eac1111c64",
   "metadata": {
    "execution": {
     "iopub.execute_input": "2025-07-30T13:07:08.776640Z",
     "iopub.status.busy": "2025-07-30T13:07:08.775964Z",
     "iopub.status.idle": "2025-07-30T13:07:09.031704Z",
     "shell.execute_reply": "2025-07-30T13:07:09.030846Z"
    },
    "papermill": {
     "duration": 0.279532,
     "end_time": "2025-07-30T13:07:09.033464",
     "exception": false,
     "start_time": "2025-07-30T13:07:08.753932",
     "status": "completed"
    },
    "tags": []
   },
   "outputs": [],
   "source": [
    "#siab_train = siab_s[siab_s.year < 2015]\n",
    "siab_calib = siab[siab.year == 2015]\n",
    "siab_test = siab[siab.year == 2016]"
   ]
  },
  {
   "cell_type": "code",
   "execution_count": 21,
   "id": "472de16f-c3db-4916-846b-1f0de9cf1746",
   "metadata": {
    "execution": {
     "iopub.execute_input": "2025-07-30T13:07:09.077404Z",
     "iopub.status.busy": "2025-07-30T13:07:09.076855Z",
     "iopub.status.idle": "2025-07-30T13:07:09.093201Z",
     "shell.execute_reply": "2025-07-30T13:07:09.092210Z"
    },
    "papermill": {
     "duration": 0.040755,
     "end_time": "2025-07-30T13:07:09.094995",
     "exception": false,
     "start_time": "2025-07-30T13:07:09.054240",
     "status": "completed"
    },
    "tags": []
   },
   "outputs": [],
   "source": [
    "X_train = siab_train.iloc[:,4:164]\n",
    "y_train = siab_train.iloc[:, [3]]"
   ]
  },
  {
   "cell_type": "code",
   "execution_count": 22,
   "id": "828c96af-f43a-4ed6-ba47-8ac73a47d56c",
   "metadata": {
    "execution": {
     "iopub.execute_input": "2025-07-30T13:07:09.140682Z",
     "iopub.status.busy": "2025-07-30T13:07:09.140204Z",
     "iopub.status.idle": "2025-07-30T13:07:09.190403Z",
     "shell.execute_reply": "2025-07-30T13:07:09.189367Z"
    },
    "papermill": {
     "duration": 0.074669,
     "end_time": "2025-07-30T13:07:09.192162",
     "exception": false,
     "start_time": "2025-07-30T13:07:09.117493",
     "status": "completed"
    },
    "tags": []
   },
   "outputs": [],
   "source": [
    "X_calib = siab_calib.iloc[:,4:164]\n",
    "y_calib = siab_calib.iloc[:, [3]]"
   ]
  },
  {
   "cell_type": "code",
   "execution_count": 23,
   "id": "c34be9c3-6bd6-476e-acd3-845840e303be",
   "metadata": {
    "execution": {
     "iopub.execute_input": "2025-07-30T13:07:09.238542Z",
     "iopub.status.busy": "2025-07-30T13:07:09.238089Z",
     "iopub.status.idle": "2025-07-30T13:07:09.302206Z",
     "shell.execute_reply": "2025-07-30T13:07:09.301204Z"
    },
    "papermill": {
     "duration": 0.089114,
     "end_time": "2025-07-30T13:07:09.303937",
     "exception": false,
     "start_time": "2025-07-30T13:07:09.214823",
     "status": "completed"
    },
    "tags": []
   },
   "outputs": [],
   "source": [
    "X_test = siab_test.iloc[:,4:164]\n",
    "y_true = siab_test.iloc[:, [3]]"
   ]
  },
  {
   "cell_type": "markdown",
   "id": "9901737e-04df-44f0-9100-f5ad144ed040",
   "metadata": {
    "papermill": {
     "duration": 0.020187,
     "end_time": "2025-07-30T13:07:09.346481",
     "exception": false,
     "start_time": "2025-07-30T13:07:09.326294",
     "status": "completed"
    },
    "tags": []
   },
   "source": [
    "# Splitting Data and Setting Training Data Size OLD VERSION"
   ]
  },
  {
   "cell_type": "code",
   "execution_count": 24,
   "id": "acbc8f7d-8fc8-4e86-8c59-5dcb0f58384b",
   "metadata": {
    "execution": {
     "iopub.execute_input": "2025-07-30T13:07:09.390531Z",
     "iopub.status.busy": "2025-07-30T13:07:09.389672Z",
     "iopub.status.idle": "2025-07-30T13:07:09.395302Z",
     "shell.execute_reply": "2025-07-30T13:07:09.394344Z"
    },
    "papermill": {
     "duration": 0.030505,
     "end_time": "2025-07-30T13:07:09.397026",
     "exception": false,
     "start_time": "2025-07-30T13:07:09.366521",
     "status": "completed"
    },
    "tags": []
   },
   "outputs": [],
   "source": [
    "#def sample_by_year(df, training_size, random_state=42):\n",
    "#    if training_size == \"2014\":\n",
    "#        return df[df[\"year\"] == 2014].reset_index(drop=True)\n",
    "#    \n",
    "#    size_map = {\n",
    "#        \"25k\": 5000,\n",
    "#        \"5k\": 1000,\n",
    "#        \"1k\": 200\n",
    "#    }\n",
    "#\n",
    "#    if training_size not in size_map:\n",
    "#        return df.reset_index(drop=True)  # use all data\n",
    "#\n",
    "#    n_per_year = size_map[training_size]\n",
    "#    grouped = df.groupby(\"year\")\n",
    "#    sampled = grouped.apply(lambda x: x.sample(n=min(n_per_year, len(x)), random_state=random_state))\n",
    "#    return sampled.reset_index(drop=True)"
   ]
  },
  {
   "cell_type": "code",
   "execution_count": 25,
   "id": "6d931f52-beaf-43ff-9e78-9d44a448d54e",
   "metadata": {
    "execution": {
     "iopub.execute_input": "2025-07-30T13:07:09.440825Z",
     "iopub.status.busy": "2025-07-30T13:07:09.440325Z",
     "iopub.status.idle": "2025-07-30T13:07:09.445071Z",
     "shell.execute_reply": "2025-07-30T13:07:09.444144Z"
    },
    "papermill": {
     "duration": 0.02866,
     "end_time": "2025-07-30T13:07:09.447068",
     "exception": false,
     "start_time": "2025-07-30T13:07:09.418408",
     "status": "completed"
    },
    "tags": []
   },
   "outputs": [],
   "source": [
    "#siab_s = sample_by_year(siab, universe[\"training_size\"])"
   ]
  },
  {
   "cell_type": "code",
   "execution_count": 26,
   "id": "5db0a40e-a4e2-4920-be85-b12ae061d70d",
   "metadata": {
    "execution": {
     "iopub.execute_input": "2025-07-30T13:07:09.492785Z",
     "iopub.status.busy": "2025-07-30T13:07:09.492274Z",
     "iopub.status.idle": "2025-07-30T13:07:09.497474Z",
     "shell.execute_reply": "2025-07-30T13:07:09.496556Z"
    },
    "papermill": {
     "duration": 0.030219,
     "end_time": "2025-07-30T13:07:09.499425",
     "exception": false,
     "start_time": "2025-07-30T13:07:09.469206",
     "status": "completed"
    },
    "tags": []
   },
   "outputs": [],
   "source": [
    "#display(siab_s.groupby(\"year\").size())"
   ]
  },
  {
   "cell_type": "code",
   "execution_count": 27,
   "id": "e6c733c5",
   "metadata": {
    "execution": {
     "iopub.execute_input": "2025-07-30T13:07:09.545215Z",
     "iopub.status.busy": "2025-07-30T13:07:09.544712Z",
     "iopub.status.idle": "2025-07-30T13:07:09.652684Z",
     "shell.execute_reply": "2025-07-30T13:07:09.651699Z"
    },
    "papermill": {
     "duration": 0.132781,
     "end_time": "2025-07-30T13:07:09.654831",
     "exception": false,
     "start_time": "2025-07-30T13:07:09.522050",
     "status": "completed"
    },
    "tags": []
   },
   "outputs": [],
   "source": [
    "# Auxiliary data needed downstream in the pipeline\n",
    "\n",
    "org_train = X_train.copy()\n",
    "org_test = X_test.copy()\n",
    "org_calib = X_calib.copy()"
   ]
  },
  {
   "cell_type": "code",
   "execution_count": 28,
   "id": "1466abac-c6da-4492-a62f-4240ae3783af",
   "metadata": {
    "execution": {
     "iopub.execute_input": "2025-07-30T13:07:09.702261Z",
     "iopub.status.busy": "2025-07-30T13:07:09.701832Z",
     "iopub.status.idle": "2025-07-30T13:07:09.708100Z",
     "shell.execute_reply": "2025-07-30T13:07:09.707039Z"
    },
    "papermill": {
     "duration": 0.029506,
     "end_time": "2025-07-30T13:07:09.709913",
     "exception": false,
     "start_time": "2025-07-30T13:07:09.680407",
     "status": "completed"
    },
    "tags": []
   },
   "outputs": [],
   "source": [
    "# put in other script?\n",
    "# Group sizes\n",
    "\n",
    "#def calculate_percentages(df, df_name):\n",
    "#    total_entries = len(df)\n",
    "#\n",
    "#    female_pct = (df['frau1'] == 1).mean() * 100\n",
    "#    non_german_pct = ((df['maxdeutsch1'] == 0) & (df['maxdeutsch.Missing.'] == 0)).mean() * 100\n",
    "#    non_german_male_pct = ((df['frau1'] == 0) & (df['maxdeutsch1'] == 0) & (df['maxdeutsch.Missing.'] == 0)).mean() * 100\n",
    "#    non_german_female_pct = ((df['frau1'] == 1) & (df['maxdeutsch1'] == 0) & (df['maxdeutsch.Missing.'] == 0)).mean() * 100\n",
    "#\n",
    "#    print(f\"--- {df_name} ---\")\n",
    "#    print(f\"Female: {female_pct:.2f}%\")\n",
    "#    print(f\"Non-German: {non_german_pct:.2f}%\")\n",
    "#    print(f\"Non-German Male: {non_german_male_pct:.2f}%\")\n",
    "#    print(f\"Non-German Female: {non_german_female_pct:.2f}%\\n\")\n",
    "#\n",
    "## Calculate for each DataFrame\n",
    "#calculate_percentages(siab_calib, \"siab_calib\")\n",
    "#calculate_percentages(siab_test, \"siab_test\")\n",
    "#calculate_percentages(siab_train, \"siab_train\")"
   ]
  },
  {
   "cell_type": "markdown",
   "id": "0a4a1b33",
   "metadata": {
    "papermill": {
     "duration": 0.024038,
     "end_time": "2025-07-30T13:07:09.754934",
     "exception": false,
     "start_time": "2025-07-30T13:07:09.730896",
     "status": "completed"
    },
    "tags": []
   },
   "source": [
    "# Preprocessing Data"
   ]
  },
  {
   "cell_type": "code",
   "execution_count": 29,
   "id": "ca879031",
   "metadata": {
    "execution": {
     "iopub.execute_input": "2025-07-30T13:07:09.801644Z",
     "iopub.status.busy": "2025-07-30T13:07:09.801163Z",
     "iopub.status.idle": "2025-07-30T13:07:09.807448Z",
     "shell.execute_reply": "2025-07-30T13:07:09.806455Z"
    },
    "papermill": {
     "duration": 0.032521,
     "end_time": "2025-07-30T13:07:09.809453",
     "exception": false,
     "start_time": "2025-07-30T13:07:09.776932",
     "status": "completed"
    },
    "tags": []
   },
   "outputs": [],
   "source": [
    "# EXCLUDE PROTECTED FEATURES\n",
    "# ----------------------\n",
    "# \"exclude_features\": \"none\", # \"nationality\", \"sex\", \"nationality-sex\"\n",
    "\n",
    "excluded_features = universe[\"exclude_features\"].split(\"-\") # split, e.g.: \"nationality-sex\" -> [\"nationality\", \"sex\"]\n",
    "excluded_features_dictionary = {\n",
    "    \"nationality\": [\"maxdeutsch1\", \"maxdeutsch.Missing.\"],\n",
    "    \"sex\": [\"frau1\"],\n",
    "    \"age\": [\"age\"],\n",
    "}\n"
   ]
  },
  {
   "cell_type": "code",
   "execution_count": 30,
   "id": "b745ac60",
   "metadata": {
    "execution": {
     "iopub.execute_input": "2025-07-30T13:07:09.856853Z",
     "iopub.status.busy": "2025-07-30T13:07:09.855920Z",
     "iopub.status.idle": "2025-07-30T13:07:09.861804Z",
     "shell.execute_reply": "2025-07-30T13:07:09.860934Z"
    },
    "papermill": {
     "duration": 0.031063,
     "end_time": "2025-07-30T13:07:09.863594",
     "exception": false,
     "start_time": "2025-07-30T13:07:09.832531",
     "status": "completed"
    },
    "tags": []
   },
   "outputs": [],
   "source": [
    "# Code nice names to column names\n",
    "\n",
    "excluded_features_columns = [\n",
    "    excluded_features_dictionary[f] for f in excluded_features if len(f) > 0 and f != \"none\"\n",
    "]"
   ]
  },
  {
   "cell_type": "code",
   "execution_count": 31,
   "id": "f84f73a2",
   "metadata": {
    "execution": {
     "iopub.execute_input": "2025-07-30T13:07:09.912412Z",
     "iopub.status.busy": "2025-07-30T13:07:09.911935Z",
     "iopub.status.idle": "2025-07-30T13:07:09.918756Z",
     "shell.execute_reply": "2025-07-30T13:07:09.917582Z"
    },
    "papermill": {
     "duration": 0.03209,
     "end_time": "2025-07-30T13:07:09.920373",
     "exception": false,
     "start_time": "2025-07-30T13:07:09.888283",
     "status": "completed"
    },
    "tags": []
   },
   "outputs": [],
   "source": [
    "from utils import flatten_once\n",
    "\n",
    "excluded_features_columns = flatten_once(excluded_features_columns)"
   ]
  },
  {
   "cell_type": "code",
   "execution_count": 32,
   "id": "884dea22",
   "metadata": {
    "execution": {
     "iopub.execute_input": "2025-07-30T13:07:09.968126Z",
     "iopub.status.busy": "2025-07-30T13:07:09.967473Z",
     "iopub.status.idle": "2025-07-30T13:07:09.973019Z",
     "shell.execute_reply": "2025-07-30T13:07:09.972141Z"
    },
    "papermill": {
     "duration": 0.029423,
     "end_time": "2025-07-30T13:07:09.974716",
     "exception": false,
     "start_time": "2025-07-30T13:07:09.945293",
     "status": "completed"
    },
    "tags": []
   },
   "outputs": [],
   "source": [
    "if len(excluded_features_columns) > 0:\n",
    "    print(f\"Dropping features: {excluded_features_columns}\")\n",
    "    X_train.drop(excluded_features_columns, axis=1, inplace=True)"
   ]
  },
  {
   "cell_type": "code",
   "execution_count": 33,
   "id": "95ab8b16",
   "metadata": {
    "execution": {
     "iopub.execute_input": "2025-07-30T13:07:10.022203Z",
     "iopub.status.busy": "2025-07-30T13:07:10.021258Z",
     "iopub.status.idle": "2025-07-30T13:07:10.026850Z",
     "shell.execute_reply": "2025-07-30T13:07:10.025971Z"
    },
    "papermill": {
     "duration": 0.029443,
     "end_time": "2025-07-30T13:07:10.028490",
     "exception": false,
     "start_time": "2025-07-30T13:07:09.999047",
     "status": "completed"
    },
    "tags": []
   },
   "outputs": [],
   "source": [
    "if len(excluded_features_columns) > 0:\n",
    "    print(f\"Dropping features: {excluded_features_columns}\")\n",
    "    X_test.drop(excluded_features_columns, axis=1, inplace=True)"
   ]
  },
  {
   "cell_type": "code",
   "execution_count": 34,
   "id": "1853aaf5-fb9f-46cb-a2b5-8ea4ae2237e4",
   "metadata": {
    "execution": {
     "iopub.execute_input": "2025-07-30T13:07:10.078589Z",
     "iopub.status.busy": "2025-07-30T13:07:10.078114Z",
     "iopub.status.idle": "2025-07-30T13:07:10.083946Z",
     "shell.execute_reply": "2025-07-30T13:07:10.083025Z"
    },
    "papermill": {
     "duration": 0.032213,
     "end_time": "2025-07-30T13:07:10.085538",
     "exception": false,
     "start_time": "2025-07-30T13:07:10.053325",
     "status": "completed"
    },
    "tags": []
   },
   "outputs": [],
   "source": [
    "if len(excluded_features_columns) > 0:\n",
    "    print(f\"Dropping features: {excluded_features_columns}\")\n",
    "    X_calib.drop(excluded_features_columns, axis=1, inplace=True)"
   ]
  },
  {
   "cell_type": "code",
   "execution_count": 35,
   "id": "6727d079-03e5-481e-9d38-292a90b7a0a8",
   "metadata": {
    "execution": {
     "iopub.execute_input": "2025-07-30T13:07:10.134383Z",
     "iopub.status.busy": "2025-07-30T13:07:10.133785Z",
     "iopub.status.idle": "2025-07-30T13:07:10.138908Z",
     "shell.execute_reply": "2025-07-30T13:07:10.137891Z"
    },
    "papermill": {
     "duration": 0.030206,
     "end_time": "2025-07-30T13:07:10.140718",
     "exception": false,
     "start_time": "2025-07-30T13:07:10.110512",
     "status": "completed"
    },
    "tags": []
   },
   "outputs": [],
   "source": [
    "# SPLIT & STRATIFY DATA\n",
    "# ----------------------"
   ]
  },
  {
   "cell_type": "code",
   "execution_count": 36,
   "id": "76c4dc6d",
   "metadata": {
    "execution": {
     "iopub.execute_input": "2025-07-30T13:07:10.190410Z",
     "iopub.status.busy": "2025-07-30T13:07:10.189740Z",
     "iopub.status.idle": "2025-07-30T13:07:10.194748Z",
     "shell.execute_reply": "2025-07-30T13:07:10.194052Z"
    },
    "papermill": {
     "duration": 0.030632,
     "end_time": "2025-07-30T13:07:10.196085",
     "exception": false,
     "start_time": "2025-07-30T13:07:10.165453",
     "status": "completed"
    },
    "tags": []
   },
   "outputs": [],
   "source": [
    "# EXCLUDE CERTAIN SUBGROUPS\n",
    "# ----------------------\n",
    "\n",
    "mode = universe.get(\"exclude_subgroups\", \"keep-all\") \n",
    "# Fetches the exclude_subgroups setting from the universe dict.\n",
    "# Defaults to \"keep-all\" if the key is missing."
   ]
  },
  {
   "cell_type": "code",
   "execution_count": 37,
   "id": "21994072",
   "metadata": {
    "execution": {
     "iopub.execute_input": "2025-07-30T13:07:10.223389Z",
     "iopub.status.busy": "2025-07-30T13:07:10.222703Z",
     "iopub.status.idle": "2025-07-30T13:07:10.228341Z",
     "shell.execute_reply": "2025-07-30T13:07:10.227633Z"
    },
    "papermill": {
     "duration": 0.02002,
     "end_time": "2025-07-30T13:07:10.229672",
     "exception": false,
     "start_time": "2025-07-30T13:07:10.209652",
     "status": "completed"
    },
    "tags": []
   },
   "outputs": [],
   "source": [
    "if mode == \"keep-all\":\n",
    "    keep_mask = pd.Series(True, index=org_train.index)\n",
    "\n",
    "# org_train contains the original feature columns from features_org (in Simson)\n",
    "# features_org contains unprocessed features, for me X_train at beginning ???\n",
    "# For keep-all, creates a boolean Series (keep_mask) of all True, so no rows are removed.\n",
    "\n",
    "elif mode == \"drop-non-german\":\n",
    "    keep_mask = org_train[\"maxdeutsch1\"] == 1 # ??? what about missing values?\n",
    "\n",
    "else:\n",
    "    raise ValueError(f\"Unsupported mode for exclude_subgroups: {mode}\")\n"
   ]
  },
  {
   "cell_type": "code",
   "execution_count": 38,
   "id": "71651440",
   "metadata": {
    "execution": {
     "iopub.execute_input": "2025-07-30T13:07:10.269732Z",
     "iopub.status.busy": "2025-07-30T13:07:10.269269Z",
     "iopub.status.idle": "2025-07-30T13:07:10.275998Z",
     "shell.execute_reply": "2025-07-30T13:07:10.275033Z"
    },
    "papermill": {
     "duration": 0.035007,
     "end_time": "2025-07-30T13:07:10.277750",
     "exception": false,
     "start_time": "2025-07-30T13:07:10.242743",
     "status": "completed"
    },
    "tags": []
   },
   "outputs": [],
   "source": [
    "n_drop = (~keep_mask).sum() # Calculates how many rows are set to be dropped\n",
    "if n_drop > 0:\n",
    "    pct = n_drop / len(keep_mask) * 100\n",
    "    print(f\"Dropping {n_drop} rows ({pct:.2f}%) where mode='{mode}'\")"
   ]
  },
  {
   "cell_type": "code",
   "execution_count": 39,
   "id": "5fb8eee5",
   "metadata": {
    "execution": {
     "iopub.execute_input": "2025-07-30T13:07:10.329565Z",
     "iopub.status.busy": "2025-07-30T13:07:10.329077Z",
     "iopub.status.idle": "2025-07-30T13:07:10.346745Z",
     "shell.execute_reply": "2025-07-30T13:07:10.345693Z"
    },
    "papermill": {
     "duration": 0.046402,
     "end_time": "2025-07-30T13:07:10.349050",
     "exception": false,
     "start_time": "2025-07-30T13:07:10.302648",
     "status": "completed"
    },
    "tags": []
   },
   "outputs": [],
   "source": [
    "X_train = X_train[keep_mask]"
   ]
  },
  {
   "cell_type": "code",
   "execution_count": 40,
   "id": "b202bb3a",
   "metadata": {
    "execution": {
     "iopub.execute_input": "2025-07-30T13:07:10.400062Z",
     "iopub.status.busy": "2025-07-30T13:07:10.399261Z",
     "iopub.status.idle": "2025-07-30T13:07:10.407629Z",
     "shell.execute_reply": "2025-07-30T13:07:10.406474Z"
    },
    "papermill": {
     "duration": 0.035889,
     "end_time": "2025-07-30T13:07:10.409415",
     "exception": false,
     "start_time": "2025-07-30T13:07:10.373526",
     "status": "completed"
    },
    "tags": []
   },
   "outputs": [],
   "source": [
    "y_train = y_train[keep_mask]"
   ]
  },
  {
   "cell_type": "markdown",
   "id": "493e2ac3",
   "metadata": {
    "papermill": {
     "duration": 0.023827,
     "end_time": "2025-07-30T13:07:10.457223",
     "exception": false,
     "start_time": "2025-07-30T13:07:10.433396",
     "status": "completed"
    },
    "tags": []
   },
   "source": [
    "# Model Training"
   ]
  },
  {
   "cell_type": "code",
   "execution_count": 41,
   "id": "679e1268",
   "metadata": {
    "execution": {
     "iopub.execute_input": "2025-07-30T13:07:10.505352Z",
     "iopub.status.busy": "2025-07-30T13:07:10.504880Z",
     "iopub.status.idle": "2025-07-30T13:07:10.612006Z",
     "shell.execute_reply": "2025-07-30T13:07:10.611079Z"
    },
    "papermill": {
     "duration": 0.132944,
     "end_time": "2025-07-30T13:07:10.613891",
     "exception": false,
     "start_time": "2025-07-30T13:07:10.480947",
     "status": "completed"
    },
    "tags": []
   },
   "outputs": [],
   "source": [
    "from sklearn.linear_model import LogisticRegression\n",
    "from sklearn.ensemble import GradientBoostingClassifier, RandomForestClassifier\n",
    "\n",
    "if (universe[\"model\"] == \"logreg\"):\n",
    "    model = LogisticRegression() #penalty=\"none\") #, solver=\"newton-cg\", max_iter=1) # include random_state=19 ?\n",
    "elif (universe[\"model\"] == \"penalized_logreg\"):\n",
    "    model = LogisticRegression(penalty=\"l2\", C=1.0) #, solver=\"newton-cg\", max_iter=1)\n",
    "elif (universe[\"model\"] == \"rf\"):\n",
    "    model = RandomForestClassifier(n_estimators=100, n_jobs=-1)\n",
    "elif (universe[\"model\"] == \"gbm\"):\n",
    "    model = GradientBoostingClassifier()\n",
    "elif (universe[\"model\"] == \"elasticnet\"):\n",
    "    model = LogisticRegression(penalty = 'elasticnet', solver = 'saga', l1_ratio = 0.5, max_iter=5000) # which solver to use?\n",
    "else:\n",
    "    raise \"Unsupported universe.model\""
   ]
  },
  {
   "cell_type": "code",
   "execution_count": 42,
   "id": "0cc8f744",
   "metadata": {
    "execution": {
     "iopub.execute_input": "2025-07-30T13:07:10.664918Z",
     "iopub.status.busy": "2025-07-30T13:07:10.664058Z",
     "iopub.status.idle": "2025-07-30T13:07:10.672659Z",
     "shell.execute_reply": "2025-07-30T13:07:10.671517Z"
    },
    "papermill": {
     "duration": 0.036771,
     "end_time": "2025-07-30T13:07:10.674496",
     "exception": false,
     "start_time": "2025-07-30T13:07:10.637725",
     "status": "completed"
    },
    "tags": []
   },
   "outputs": [],
   "source": [
    "import numpy as np\n",
    "from sklearn.pipeline import Pipeline\n",
    "from sklearn.preprocessing import StandardScaler\n",
    "\n",
    "model = Pipeline([\n",
    "    #(\"continuous_processor\", continuous_processor),\n",
    "    #(\"categorical_preprocessor\", categorical_preprocessor),\n",
    "    (\"scale\", StandardScaler() if universe[\"scale\"] == \"scale\" else None), \n",
    "    (\"model\", model),\n",
    "])"
   ]
  },
  {
   "cell_type": "code",
   "execution_count": 43,
   "id": "9442c04d",
   "metadata": {
    "execution": {
     "iopub.execute_input": "2025-07-30T13:07:10.724866Z",
     "iopub.status.busy": "2025-07-30T13:07:10.723901Z",
     "iopub.status.idle": "2025-07-30T13:07:14.580068Z",
     "shell.execute_reply": "2025-07-30T13:07:14.579171Z"
    },
    "papermill": {
     "duration": 3.882532,
     "end_time": "2025-07-30T13:07:14.581732",
     "exception": false,
     "start_time": "2025-07-30T13:07:10.699200",
     "status": "completed"
    },
    "tags": []
   },
   "outputs": [
    {
     "data": {
      "text/html": [
       "<style>#sk-container-id-1 {color: black;background-color: white;}#sk-container-id-1 pre{padding: 0;}#sk-container-id-1 div.sk-toggleable {background-color: white;}#sk-container-id-1 label.sk-toggleable__label {cursor: pointer;display: block;width: 100%;margin-bottom: 0;padding: 0.3em;box-sizing: border-box;text-align: center;}#sk-container-id-1 label.sk-toggleable__label-arrow:before {content: \"▸\";float: left;margin-right: 0.25em;color: #696969;}#sk-container-id-1 label.sk-toggleable__label-arrow:hover:before {color: black;}#sk-container-id-1 div.sk-estimator:hover label.sk-toggleable__label-arrow:before {color: black;}#sk-container-id-1 div.sk-toggleable__content {max-height: 0;max-width: 0;overflow: hidden;text-align: left;background-color: #f0f8ff;}#sk-container-id-1 div.sk-toggleable__content pre {margin: 0.2em;color: black;border-radius: 0.25em;background-color: #f0f8ff;}#sk-container-id-1 input.sk-toggleable__control:checked~div.sk-toggleable__content {max-height: 200px;max-width: 100%;overflow: auto;}#sk-container-id-1 input.sk-toggleable__control:checked~label.sk-toggleable__label-arrow:before {content: \"▾\";}#sk-container-id-1 div.sk-estimator input.sk-toggleable__control:checked~label.sk-toggleable__label {background-color: #d4ebff;}#sk-container-id-1 div.sk-label input.sk-toggleable__control:checked~label.sk-toggleable__label {background-color: #d4ebff;}#sk-container-id-1 input.sk-hidden--visually {border: 0;clip: rect(1px 1px 1px 1px);clip: rect(1px, 1px, 1px, 1px);height: 1px;margin: -1px;overflow: hidden;padding: 0;position: absolute;width: 1px;}#sk-container-id-1 div.sk-estimator {font-family: monospace;background-color: #f0f8ff;border: 1px dotted black;border-radius: 0.25em;box-sizing: border-box;margin-bottom: 0.5em;}#sk-container-id-1 div.sk-estimator:hover {background-color: #d4ebff;}#sk-container-id-1 div.sk-parallel-item::after {content: \"\";width: 100%;border-bottom: 1px solid gray;flex-grow: 1;}#sk-container-id-1 div.sk-label:hover label.sk-toggleable__label {background-color: #d4ebff;}#sk-container-id-1 div.sk-serial::before {content: \"\";position: absolute;border-left: 1px solid gray;box-sizing: border-box;top: 0;bottom: 0;left: 50%;z-index: 0;}#sk-container-id-1 div.sk-serial {display: flex;flex-direction: column;align-items: center;background-color: white;padding-right: 0.2em;padding-left: 0.2em;position: relative;}#sk-container-id-1 div.sk-item {position: relative;z-index: 1;}#sk-container-id-1 div.sk-parallel {display: flex;align-items: stretch;justify-content: center;background-color: white;position: relative;}#sk-container-id-1 div.sk-item::before, #sk-container-id-1 div.sk-parallel-item::before {content: \"\";position: absolute;border-left: 1px solid gray;box-sizing: border-box;top: 0;bottom: 0;left: 50%;z-index: -1;}#sk-container-id-1 div.sk-parallel-item {display: flex;flex-direction: column;z-index: 1;position: relative;background-color: white;}#sk-container-id-1 div.sk-parallel-item:first-child::after {align-self: flex-end;width: 50%;}#sk-container-id-1 div.sk-parallel-item:last-child::after {align-self: flex-start;width: 50%;}#sk-container-id-1 div.sk-parallel-item:only-child::after {width: 0;}#sk-container-id-1 div.sk-dashed-wrapped {border: 1px dashed gray;margin: 0 0.4em 0.5em 0.4em;box-sizing: border-box;padding-bottom: 0.4em;background-color: white;}#sk-container-id-1 div.sk-label label {font-family: monospace;font-weight: bold;display: inline-block;line-height: 1.2em;}#sk-container-id-1 div.sk-label-container {text-align: center;}#sk-container-id-1 div.sk-container {/* jupyter's `normalize.less` sets `[hidden] { display: none; }` but bootstrap.min.css set `[hidden] { display: none !important; }` so we also need the `!important` here to be able to override the default hidden behavior on the sphinx rendered scikit-learn.org. See: https://github.com/scikit-learn/scikit-learn/issues/21755 */display: inline-block !important;position: relative;}#sk-container-id-1 div.sk-text-repr-fallback {display: none;}</style><div id=\"sk-container-id-1\" class=\"sk-top-container\"><div class=\"sk-text-repr-fallback\"><pre>Pipeline(steps=[(&#x27;scale&#x27;, StandardScaler()),\n",
       "                (&#x27;model&#x27;, RandomForestClassifier(n_jobs=-1))])</pre><b>In a Jupyter environment, please rerun this cell to show the HTML representation or trust the notebook. <br />On GitHub, the HTML representation is unable to render, please try loading this page with nbviewer.org.</b></div><div class=\"sk-container\" hidden><div class=\"sk-item sk-dashed-wrapped\"><div class=\"sk-label-container\"><div class=\"sk-label sk-toggleable\"><input class=\"sk-toggleable__control sk-hidden--visually\" id=\"sk-estimator-id-1\" type=\"checkbox\" ><label for=\"sk-estimator-id-1\" class=\"sk-toggleable__label sk-toggleable__label-arrow\">Pipeline</label><div class=\"sk-toggleable__content\"><pre>Pipeline(steps=[(&#x27;scale&#x27;, StandardScaler()),\n",
       "                (&#x27;model&#x27;, RandomForestClassifier(n_jobs=-1))])</pre></div></div></div><div class=\"sk-serial\"><div class=\"sk-item\"><div class=\"sk-estimator sk-toggleable\"><input class=\"sk-toggleable__control sk-hidden--visually\" id=\"sk-estimator-id-2\" type=\"checkbox\" ><label for=\"sk-estimator-id-2\" class=\"sk-toggleable__label sk-toggleable__label-arrow\">StandardScaler</label><div class=\"sk-toggleable__content\"><pre>StandardScaler()</pre></div></div></div><div class=\"sk-item\"><div class=\"sk-estimator sk-toggleable\"><input class=\"sk-toggleable__control sk-hidden--visually\" id=\"sk-estimator-id-3\" type=\"checkbox\" ><label for=\"sk-estimator-id-3\" class=\"sk-toggleable__label sk-toggleable__label-arrow\">RandomForestClassifier</label><div class=\"sk-toggleable__content\"><pre>RandomForestClassifier(n_jobs=-1)</pre></div></div></div></div></div></div></div>"
      ],
      "text/plain": [
       "Pipeline(steps=[('scale', StandardScaler()),\n",
       "                ('model', RandomForestClassifier(n_jobs=-1))])"
      ]
     },
     "execution_count": 43,
     "metadata": {},
     "output_type": "execute_result"
    }
   ],
   "source": [
    "model.fit(X_train, y_train.values.ravel())"
   ]
  },
  {
   "cell_type": "code",
   "execution_count": 44,
   "id": "af59f8c0",
   "metadata": {
    "execution": {
     "iopub.execute_input": "2025-07-30T13:07:14.724132Z",
     "iopub.status.busy": "2025-07-30T13:07:14.723698Z",
     "iopub.status.idle": "2025-07-30T13:07:14.729098Z",
     "shell.execute_reply": "2025-07-30T13:07:14.728175Z"
    },
    "papermill": {
     "duration": 0.093931,
     "end_time": "2025-07-30T13:07:14.731642",
     "exception": false,
     "start_time": "2025-07-30T13:07:14.637711",
     "status": "completed"
    },
    "tags": []
   },
   "outputs": [],
   "source": [
    "from fairness_multiverse.universe import predict_w_threshold"
   ]
  },
  {
   "cell_type": "code",
   "execution_count": 45,
   "id": "a7cf2e16",
   "metadata": {
    "execution": {
     "iopub.execute_input": "2025-07-30T13:07:14.807996Z",
     "iopub.status.busy": "2025-07-30T13:07:14.807596Z",
     "iopub.status.idle": "2025-07-30T13:07:16.173978Z",
     "shell.execute_reply": "2025-07-30T13:07:16.172704Z"
    },
    "papermill": {
     "duration": 1.396778,
     "end_time": "2025-07-30T13:07:16.175846",
     "exception": false,
     "start_time": "2025-07-30T13:07:14.779068",
     "status": "completed"
    },
    "tags": []
   },
   "outputs": [
    {
     "data": {
      "text/plain": [
       "0.8679188496265745"
      ]
     },
     "execution_count": 45,
     "metadata": {},
     "output_type": "execute_result"
    }
   ],
   "source": [
    "probs_test = model.predict_proba(X_test)\n",
    "\n",
    "'''\n",
    "Below code returns a boolean array (or binary 0/1 array depending on how it’s used) where each element \n",
    "is True if the probability of class 1 is greater than or equal to the threshold, and False otherwise.\n",
    "'''\n",
    "y_pred_default = predict_w_threshold(probs_test, 0.5)\n",
    "\n",
    "from sklearn.metrics import accuracy_score\n",
    "\n",
    "# Naive prediction\n",
    "accuracy_score(y_true = y_true, y_pred = y_pred_default)"
   ]
  },
  {
   "cell_type": "code",
   "execution_count": 46,
   "id": "081964c3",
   "metadata": {
    "execution": {
     "iopub.execute_input": "2025-07-30T13:07:16.253283Z",
     "iopub.status.busy": "2025-07-30T13:07:16.252838Z",
     "iopub.status.idle": "2025-07-30T13:07:17.493700Z",
     "shell.execute_reply": "2025-07-30T13:07:17.473698Z"
    },
    "papermill": {
     "duration": 1.267986,
     "end_time": "2025-07-30T13:07:17.495589",
     "exception": false,
     "start_time": "2025-07-30T13:07:16.227603",
     "status": "completed"
    },
    "tags": []
   },
   "outputs": [
    {
     "data": {
      "text/plain": [
       "array([0, 0, 0, ..., 0, 0, 0])"
      ]
     },
     "execution_count": 46,
     "metadata": {},
     "output_type": "execute_result"
    }
   ],
   "source": [
    "model.predict(X_test)"
   ]
  },
  {
   "cell_type": "markdown",
   "id": "56c9705b",
   "metadata": {
    "papermill": {
     "duration": 0.061377,
     "end_time": "2025-07-30T13:07:17.603202",
     "exception": false,
     "start_time": "2025-07-30T13:07:17.541825",
     "status": "completed"
    },
    "tags": []
   },
   "source": [
    "# Conformal Prediction"
   ]
  },
  {
   "cell_type": "code",
   "execution_count": 47,
   "id": "160ec6ff",
   "metadata": {
    "execution": {
     "iopub.execute_input": "2025-07-30T13:07:17.718112Z",
     "iopub.status.busy": "2025-07-30T13:07:17.717670Z",
     "iopub.status.idle": "2025-07-30T13:07:17.723116Z",
     "shell.execute_reply": "2025-07-30T13:07:17.722234Z"
    },
    "papermill": {
     "duration": 0.063487,
     "end_time": "2025-07-30T13:07:17.729007",
     "exception": false,
     "start_time": "2025-07-30T13:07:17.665520",
     "status": "completed"
    },
    "tags": []
   },
   "outputs": [],
   "source": [
    "# Miscoverage level for conformal prediction (10% allowed error rate => 90% target coverage)\n",
    "alpha = 0.1"
   ]
  },
  {
   "cell_type": "code",
   "execution_count": 48,
   "id": "eadf4555-3dd3-440e-8e35-f82a4ad9f855",
   "metadata": {
    "execution": {
     "iopub.execute_input": "2025-07-30T13:07:17.819074Z",
     "iopub.status.busy": "2025-07-30T13:07:17.818651Z",
     "iopub.status.idle": "2025-07-30T13:07:19.703411Z",
     "shell.execute_reply": "2025-07-30T13:07:19.702481Z"
    },
    "papermill": {
     "duration": 1.940584,
     "end_time": "2025-07-30T13:07:19.705390",
     "exception": false,
     "start_time": "2025-07-30T13:07:17.764806",
     "status": "completed"
    },
    "tags": []
   },
   "outputs": [],
   "source": [
    "probs_calib = model.predict_proba(X_calib)"
   ]
  },
  {
   "cell_type": "code",
   "execution_count": 49,
   "id": "2ed93547-6d5d-4983-9b36-1ecb300da49a",
   "metadata": {
    "execution": {
     "iopub.execute_input": "2025-07-30T13:07:19.759614Z",
     "iopub.status.busy": "2025-07-30T13:07:19.759116Z",
     "iopub.status.idle": "2025-07-30T13:07:19.765493Z",
     "shell.execute_reply": "2025-07-30T13:07:19.764336Z"
    },
    "papermill": {
     "duration": 0.038772,
     "end_time": "2025-07-30T13:07:19.768119",
     "exception": false,
     "start_time": "2025-07-30T13:07:19.729347",
     "status": "completed"
    },
    "tags": []
   },
   "outputs": [],
   "source": [
    "y_calib = y_calib.values.ravel().astype(int)"
   ]
  },
  {
   "cell_type": "code",
   "execution_count": 50,
   "id": "65d1320d-f588-4b38-9072-62af1ae97f7d",
   "metadata": {
    "execution": {
     "iopub.execute_input": "2025-07-30T13:07:19.839099Z",
     "iopub.status.busy": "2025-07-30T13:07:19.838641Z",
     "iopub.status.idle": "2025-07-30T13:07:19.850027Z",
     "shell.execute_reply": "2025-07-30T13:07:19.848786Z"
    },
    "papermill": {
     "duration": 0.055816,
     "end_time": "2025-07-30T13:07:19.852282",
     "exception": false,
     "start_time": "2025-07-30T13:07:19.796466",
     "status": "completed"
    },
    "tags": []
   },
   "outputs": [],
   "source": [
    "from fairness_multiverse.conformal import compute_nc_scores\n",
    "\n",
    "# Compute nonconformity scores on calibration set (1 - probability of true class)\n",
    "nc_scores = compute_nc_scores(probs_calib, y_calib)"
   ]
  },
  {
   "cell_type": "code",
   "execution_count": 51,
   "id": "df3b8ca3-53b7-43d5-9667-7c85da7aeda2",
   "metadata": {
    "execution": {
     "iopub.execute_input": "2025-07-30T13:07:19.917345Z",
     "iopub.status.busy": "2025-07-30T13:07:19.916916Z",
     "iopub.status.idle": "2025-07-30T13:07:19.924968Z",
     "shell.execute_reply": "2025-07-30T13:07:19.923752Z"
    },
    "papermill": {
     "duration": 0.039383,
     "end_time": "2025-07-30T13:07:19.928289",
     "exception": false,
     "start_time": "2025-07-30T13:07:19.888906",
     "status": "completed"
    },
    "tags": []
   },
   "outputs": [],
   "source": [
    "from fairness_multiverse.conformal import find_threshold\n",
    "\n",
    "# Find conformal threshold q_hat for the given alpha (split conformal method)\n",
    "q_hat = find_threshold(nc_scores, alpha)"
   ]
  },
  {
   "cell_type": "code",
   "execution_count": 52,
   "id": "4d29e6c1-0ef6-4aa4-b8fe-4fe79b0d033a",
   "metadata": {
    "execution": {
     "iopub.execute_input": "2025-07-30T13:07:19.979881Z",
     "iopub.status.busy": "2025-07-30T13:07:19.979444Z",
     "iopub.status.idle": "2025-07-30T13:07:19.987774Z",
     "shell.execute_reply": "2025-07-30T13:07:19.986588Z"
    },
    "papermill": {
     "duration": 0.037693,
     "end_time": "2025-07-30T13:07:19.989599",
     "exception": false,
     "start_time": "2025-07-30T13:07:19.951906",
     "status": "completed"
    },
    "tags": []
   },
   "outputs": [
    {
     "data": {
      "text/plain": [
       "0.6599999999999999"
      ]
     },
     "execution_count": 52,
     "metadata": {},
     "output_type": "execute_result"
    }
   ],
   "source": [
    "q_hat"
   ]
  },
  {
   "cell_type": "code",
   "execution_count": 53,
   "id": "92460794-cdac-4be2-ba28-f28c0515a6fb",
   "metadata": {
    "execution": {
     "iopub.execute_input": "2025-07-30T13:07:20.110962Z",
     "iopub.status.busy": "2025-07-30T13:07:20.110548Z",
     "iopub.status.idle": "2025-07-30T13:07:22.487243Z",
     "shell.execute_reply": "2025-07-30T13:07:22.486489Z"
    },
    "papermill": {
     "duration": 2.446238,
     "end_time": "2025-07-30T13:07:22.494245",
     "exception": false,
     "start_time": "2025-07-30T13:07:20.048007",
     "status": "completed"
    },
    "tags": []
   },
   "outputs": [],
   "source": [
    "from fairness_multiverse.conformal import predict_conformal_sets\n",
    "\n",
    "# Generate prediction sets for each test example\n",
    "pred_sets = predict_conformal_sets(model, X_test, q_hat)"
   ]
  },
  {
   "cell_type": "code",
   "execution_count": 54,
   "id": "d90c9a65-e6db-4f5d-80cd-e68fb7e46829",
   "metadata": {
    "execution": {
     "iopub.execute_input": "2025-07-30T13:07:22.601685Z",
     "iopub.status.busy": "2025-07-30T13:07:22.601274Z",
     "iopub.status.idle": "2025-07-30T13:07:22.607492Z",
     "shell.execute_reply": "2025-07-30T13:07:22.606439Z"
    },
    "papermill": {
     "duration": 0.065011,
     "end_time": "2025-07-30T13:07:22.609294",
     "exception": false,
     "start_time": "2025-07-30T13:07:22.544283",
     "status": "completed"
    },
    "tags": []
   },
   "outputs": [],
   "source": [
    "y_true = y_true.squeeze()"
   ]
  },
  {
   "cell_type": "code",
   "execution_count": 55,
   "id": "3a58a54a-1e68-46b9-927a-df01f18aebc8",
   "metadata": {
    "execution": {
     "iopub.execute_input": "2025-07-30T13:07:22.711101Z",
     "iopub.status.busy": "2025-07-30T13:07:22.710667Z",
     "iopub.status.idle": "2025-07-30T13:07:24.393939Z",
     "shell.execute_reply": "2025-07-30T13:07:24.392877Z"
    },
    "papermill": {
     "duration": 1.729603,
     "end_time": "2025-07-30T13:07:24.396922",
     "exception": false,
     "start_time": "2025-07-30T13:07:22.667319",
     "status": "completed"
    },
    "tags": []
   },
   "outputs": [],
   "source": [
    "from fairness_multiverse.conformal import evaluate_sets\n",
    "\n",
    "# Evaluate coverage and average set size on test data\n",
    "metrics = evaluate_sets(pred_sets, y_true)"
   ]
  },
  {
   "cell_type": "markdown",
   "id": "2b569c12-9aaa-4c88-98c9-bbcd0cf3ebb8",
   "metadata": {
    "papermill": {
     "duration": 0.091367,
     "end_time": "2025-07-30T13:07:24.566340",
     "exception": false,
     "start_time": "2025-07-30T13:07:24.474973",
     "status": "completed"
    },
    "tags": []
   },
   "source": [
    "# CP Metrics"
   ]
  },
  {
   "cell_type": "code",
   "execution_count": 56,
   "id": "5ce0a5cb-201f-45a0-ade5-94c7f0bd6095",
   "metadata": {
    "execution": {
     "iopub.execute_input": "2025-07-30T13:07:24.674617Z",
     "iopub.status.busy": "2025-07-30T13:07:24.674208Z",
     "iopub.status.idle": "2025-07-30T13:07:24.681609Z",
     "shell.execute_reply": "2025-07-30T13:07:24.680612Z"
    },
    "papermill": {
     "duration": 0.067288,
     "end_time": "2025-07-30T13:07:24.683444",
     "exception": false,
     "start_time": "2025-07-30T13:07:24.616156",
     "status": "completed"
    },
    "tags": []
   },
   "outputs": [
    {
     "data": {
      "text/plain": [
       "{'coverage': 0.9155501058967785, 'avg_size': 1.1435402965109798}"
      ]
     },
     "execution_count": 56,
     "metadata": {},
     "output_type": "execute_result"
    }
   ],
   "source": [
    "metrics"
   ]
  },
  {
   "cell_type": "code",
   "execution_count": 57,
   "id": "9b9a838d-31c9-430b-ae14-12baee460d17",
   "metadata": {
    "execution": {
     "iopub.execute_input": "2025-07-30T13:07:24.736915Z",
     "iopub.status.busy": "2025-07-30T13:07:24.736489Z",
     "iopub.status.idle": "2025-07-30T13:07:24.743583Z",
     "shell.execute_reply": "2025-07-30T13:07:24.742518Z"
    },
    "papermill": {
     "duration": 0.036819,
     "end_time": "2025-07-30T13:07:24.745842",
     "exception": false,
     "start_time": "2025-07-30T13:07:24.709023",
     "status": "completed"
    },
    "tags": []
   },
   "outputs": [],
   "source": [
    "example_universe = universe.copy()\n",
    "universe_training_size = example_universe.get(\"training_size\")\n",
    "universe_scale = example_universe.get(\"scale\")\n",
    "universe_model = example_universe.get(\"model\")\n",
    "universe_exclude_features = example_universe.get(\"exclude_features\")\n",
    "universe_exclude_subgroups = example_universe.get(\"exclude_subgroups\")"
   ]
  },
  {
   "cell_type": "code",
   "execution_count": 58,
   "id": "f4b6a8ac-9dc0-4245-8a91-5b3b5999c4f9",
   "metadata": {
    "execution": {
     "iopub.execute_input": "2025-07-30T13:07:24.869646Z",
     "iopub.status.busy": "2025-07-30T13:07:24.869120Z",
     "iopub.status.idle": "2025-07-30T13:07:24.876275Z",
     "shell.execute_reply": "2025-07-30T13:07:24.875111Z"
    },
    "papermill": {
     "duration": 0.062868,
     "end_time": "2025-07-30T13:07:24.879263",
     "exception": false,
     "start_time": "2025-07-30T13:07:24.816395",
     "status": "completed"
    },
    "tags": []
   },
   "outputs": [],
   "source": [
    "cp_metrics_dict = {\n",
    "    \"universe_id\": [universe_id],\n",
    "    \"universe_training_size\": [universe_training_size],\n",
    "    \"universe_scale\": [universe_scale],\n",
    "    \"universe_model\": [universe_model],\n",
    "    \"universe_exclude_features\": [universe_exclude_features],\n",
    "    \"universe_exclude_subgroups\": [universe_exclude_subgroups],\n",
    "    \"q_hat\": [q_hat],\n",
    "    \"coverage\": [metrics[\"coverage\"]],\n",
    "    \"avg_size\": [metrics[\"avg_size\"]],\n",
    "}"
   ]
  },
  {
   "cell_type": "code",
   "execution_count": 59,
   "id": "908acbb1-0371-4915-85ca-3fa520d2efe2",
   "metadata": {
    "execution": {
     "iopub.execute_input": "2025-07-30T13:07:24.934539Z",
     "iopub.status.busy": "2025-07-30T13:07:24.934023Z",
     "iopub.status.idle": "2025-07-30T13:07:24.942604Z",
     "shell.execute_reply": "2025-07-30T13:07:24.941504Z"
    },
    "papermill": {
     "duration": 0.041062,
     "end_time": "2025-07-30T13:07:24.947096",
     "exception": false,
     "start_time": "2025-07-30T13:07:24.906034",
     "status": "completed"
    },
    "tags": []
   },
   "outputs": [
    {
     "data": {
      "text/plain": [
       "{'universe_id': ['debf3c2146c28572e73a1ebe8f6f2e4d'],\n",
       " 'universe_training_size': ['25k'],\n",
       " 'universe_scale': ['scale'],\n",
       " 'universe_model': ['rf'],\n",
       " 'universe_exclude_features': ['none'],\n",
       " 'universe_exclude_subgroups': ['keep-all'],\n",
       " 'q_hat': [0.6599999999999999],\n",
       " 'coverage': [0.9155501058967785],\n",
       " 'avg_size': [1.1435402965109798]}"
      ]
     },
     "execution_count": 59,
     "metadata": {},
     "output_type": "execute_result"
    }
   ],
   "source": [
    "cp_metrics_dict"
   ]
  },
  {
   "cell_type": "code",
   "execution_count": 60,
   "id": "33007efc-14e9-4ec6-97ac-56a455c82265",
   "metadata": {
    "execution": {
     "iopub.execute_input": "2025-07-30T13:07:25.018139Z",
     "iopub.status.busy": "2025-07-30T13:07:25.017748Z",
     "iopub.status.idle": "2025-07-30T13:07:25.024134Z",
     "shell.execute_reply": "2025-07-30T13:07:25.023087Z"
    },
    "papermill": {
     "duration": 0.053532,
     "end_time": "2025-07-30T13:07:25.027130",
     "exception": false,
     "start_time": "2025-07-30T13:07:24.973598",
     "status": "completed"
    },
    "tags": []
   },
   "outputs": [],
   "source": [
    "cp_metrics_df = pd.DataFrame(cp_metrics_dict)"
   ]
  },
  {
   "cell_type": "code",
   "execution_count": 61,
   "id": "db12611b-57b2-4910-b9d0-355adfd6e7bf",
   "metadata": {
    "execution": {
     "iopub.execute_input": "2025-07-30T13:07:25.134839Z",
     "iopub.status.busy": "2025-07-30T13:07:25.134410Z",
     "iopub.status.idle": "2025-07-30T13:07:25.154376Z",
     "shell.execute_reply": "2025-07-30T13:07:25.153301Z"
    },
    "papermill": {
     "duration": 0.070857,
     "end_time": "2025-07-30T13:07:25.155955",
     "exception": false,
     "start_time": "2025-07-30T13:07:25.085098",
     "status": "completed"
    },
    "tags": []
   },
   "outputs": [
    {
     "data": {
      "text/html": [
       "<div>\n",
       "<style scoped>\n",
       "    .dataframe tbody tr th:only-of-type {\n",
       "        vertical-align: middle;\n",
       "    }\n",
       "\n",
       "    .dataframe tbody tr th {\n",
       "        vertical-align: top;\n",
       "    }\n",
       "\n",
       "    .dataframe thead th {\n",
       "        text-align: right;\n",
       "    }\n",
       "</style>\n",
       "<table border=\"1\" class=\"dataframe\">\n",
       "  <thead>\n",
       "    <tr style=\"text-align: right;\">\n",
       "      <th></th>\n",
       "      <th>universe_id</th>\n",
       "      <th>universe_training_size</th>\n",
       "      <th>universe_scale</th>\n",
       "      <th>universe_model</th>\n",
       "      <th>universe_exclude_features</th>\n",
       "      <th>universe_exclude_subgroups</th>\n",
       "      <th>q_hat</th>\n",
       "      <th>coverage</th>\n",
       "      <th>avg_size</th>\n",
       "    </tr>\n",
       "  </thead>\n",
       "  <tbody>\n",
       "    <tr>\n",
       "      <th>0</th>\n",
       "      <td>debf3c2146c28572e73a1ebe8f6f2e4d</td>\n",
       "      <td>25k</td>\n",
       "      <td>scale</td>\n",
       "      <td>rf</td>\n",
       "      <td>none</td>\n",
       "      <td>keep-all</td>\n",
       "      <td>0.66</td>\n",
       "      <td>0.91555</td>\n",
       "      <td>1.14354</td>\n",
       "    </tr>\n",
       "  </tbody>\n",
       "</table>\n",
       "</div>"
      ],
      "text/plain": [
       "                        universe_id universe_training_size universe_scale  \\\n",
       "0  debf3c2146c28572e73a1ebe8f6f2e4d                    25k          scale   \n",
       "\n",
       "  universe_model universe_exclude_features universe_exclude_subgroups  q_hat  \\\n",
       "0             rf                      none                   keep-all   0.66   \n",
       "\n",
       "   coverage  avg_size  \n",
       "0   0.91555   1.14354  "
      ]
     },
     "execution_count": 61,
     "metadata": {},
     "output_type": "execute_result"
    }
   ],
   "source": [
    "cp_metrics_df"
   ]
  },
  {
   "cell_type": "code",
   "execution_count": 62,
   "id": "b7fbde55-a0a1-47e4-9af6-fe4a17fa8c61",
   "metadata": {
    "execution": {
     "iopub.execute_input": "2025-07-30T13:07:25.282735Z",
     "iopub.status.busy": "2025-07-30T13:07:25.282311Z",
     "iopub.status.idle": "2025-07-30T13:07:25.287978Z",
     "shell.execute_reply": "2025-07-30T13:07:25.286882Z"
    },
    "papermill": {
     "duration": 0.089339,
     "end_time": "2025-07-30T13:07:25.289893",
     "exception": false,
     "start_time": "2025-07-30T13:07:25.200554",
     "status": "completed"
    },
    "tags": []
   },
   "outputs": [],
   "source": [
    "# Conditional Coverage & looking at subgroups"
   ]
  },
  {
   "cell_type": "code",
   "execution_count": 63,
   "id": "027ae886-68dd-4141-96c7-805a5450e1ef",
   "metadata": {
    "execution": {
     "iopub.execute_input": "2025-07-30T13:07:25.399624Z",
     "iopub.status.busy": "2025-07-30T13:07:25.399213Z",
     "iopub.status.idle": "2025-07-30T13:07:25.672925Z",
     "shell.execute_reply": "2025-07-30T13:07:25.671980Z"
    },
    "papermill": {
     "duration": 0.326406,
     "end_time": "2025-07-30T13:07:25.675128",
     "exception": false,
     "start_time": "2025-07-30T13:07:25.348722",
     "status": "completed"
    },
    "tags": []
   },
   "outputs": [],
   "source": [
    "from fairness_multiverse.conformal import build_cp_groups\n",
    "\n",
    "cp_groups_df = build_cp_groups(pred_sets, y_true, X_test.index, org_test)\n",
    "#needs universe_id and setting"
   ]
  },
  {
   "cell_type": "code",
   "execution_count": 64,
   "id": "01d5802c-663a-4d1f-9d69-e036faaffbf7",
   "metadata": {
    "execution": {
     "iopub.execute_input": "2025-07-30T13:07:25.742725Z",
     "iopub.status.busy": "2025-07-30T13:07:25.742281Z",
     "iopub.status.idle": "2025-07-30T13:07:25.747882Z",
     "shell.execute_reply": "2025-07-30T13:07:25.746709Z"
    },
    "papermill": {
     "duration": 0.045762,
     "end_time": "2025-07-30T13:07:25.750626",
     "exception": false,
     "start_time": "2025-07-30T13:07:25.704864",
     "status": "completed"
    },
    "tags": []
   },
   "outputs": [],
   "source": [
    "#delete\n",
    "#cp_groups_df"
   ]
  },
  {
   "cell_type": "code",
   "execution_count": 65,
   "id": "fa424af1-d1eb-443d-b717-2d279ada8408",
   "metadata": {
    "execution": {
     "iopub.execute_input": "2025-07-30T13:07:25.807695Z",
     "iopub.status.busy": "2025-07-30T13:07:25.807286Z",
     "iopub.status.idle": "2025-07-30T13:07:25.812827Z",
     "shell.execute_reply": "2025-07-30T13:07:25.811690Z"
    },
    "papermill": {
     "duration": 0.037928,
     "end_time": "2025-07-30T13:07:25.816024",
     "exception": false,
     "start_time": "2025-07-30T13:07:25.778096",
     "status": "completed"
    },
    "tags": []
   },
   "outputs": [],
   "source": [
    "#delete\n",
    "#percentage = (cp_groups_df['nongerman_female'] == 1).mean() * 100\n",
    "#print(percentage)\n"
   ]
  },
  {
   "cell_type": "code",
   "execution_count": 66,
   "id": "6cbdab96-b2b2-45af-ad54-d0516db2e28d",
   "metadata": {
    "execution": {
     "iopub.execute_input": "2025-07-30T13:07:25.914218Z",
     "iopub.status.busy": "2025-07-30T13:07:25.913802Z",
     "iopub.status.idle": "2025-07-30T13:07:27.969251Z",
     "shell.execute_reply": "2025-07-30T13:07:27.968126Z"
    },
    "papermill": {
     "duration": 2.125746,
     "end_time": "2025-07-30T13:07:27.971332",
     "exception": false,
     "start_time": "2025-07-30T13:07:25.845586",
     "status": "completed"
    },
    "tags": []
   },
   "outputs": [],
   "source": [
    "# Define covered = 1 if true_label is in the predicted set\n",
    "cp_groups_df['covered'] = cp_groups_df.apply(\n",
    "    lambda r: int(r['true_label'] in r['pred_set']),\n",
    "    axis=1\n",
    ")"
   ]
  },
  {
   "cell_type": "code",
   "execution_count": 67,
   "id": "338ff529-1a6b-4b87-a931-8e4788d52aad",
   "metadata": {
    "execution": {
     "iopub.execute_input": "2025-07-30T13:07:28.044918Z",
     "iopub.status.busy": "2025-07-30T13:07:28.044495Z",
     "iopub.status.idle": "2025-07-30T13:07:28.049847Z",
     "shell.execute_reply": "2025-07-30T13:07:28.048826Z"
    },
    "papermill": {
     "duration": 0.036688,
     "end_time": "2025-07-30T13:07:28.053046",
     "exception": false,
     "start_time": "2025-07-30T13:07:28.016358",
     "status": "completed"
    },
    "tags": []
   },
   "outputs": [],
   "source": [
    "#cp_groups_df"
   ]
  },
  {
   "cell_type": "code",
   "execution_count": 68,
   "id": "90032e27-66df-4540-9169-4e89cfbaa758",
   "metadata": {
    "execution": {
     "iopub.execute_input": "2025-07-30T13:07:28.111931Z",
     "iopub.status.busy": "2025-07-30T13:07:28.111496Z",
     "iopub.status.idle": "2025-07-30T13:07:28.124614Z",
     "shell.execute_reply": "2025-07-30T13:07:28.123452Z"
    },
    "papermill": {
     "duration": 0.044689,
     "end_time": "2025-07-30T13:07:28.126833",
     "exception": false,
     "start_time": "2025-07-30T13:07:28.082144",
     "status": "completed"
    },
    "tags": []
   },
   "outputs": [],
   "source": [
    "subgroups = ['frau1','nongerman','nongerman_male','nongerman_female']\n",
    "\n",
    "# Conditional coverage for subgroup==1\n",
    "cond_coverage = {\n",
    "    g: cp_groups_df.loc[cp_groups_df[g]==1, 'covered'].mean()\n",
    "    for g in subgroups\n",
    "}"
   ]
  },
  {
   "cell_type": "code",
   "execution_count": 69,
   "id": "1e348fb1-b9c3-45bc-ba23-f016827a7e0d",
   "metadata": {
    "execution": {
     "iopub.execute_input": "2025-07-30T13:07:28.246659Z",
     "iopub.status.busy": "2025-07-30T13:07:28.246224Z",
     "iopub.status.idle": "2025-07-30T13:07:28.256526Z",
     "shell.execute_reply": "2025-07-30T13:07:28.255593Z"
    },
    "papermill": {
     "duration": 0.073028,
     "end_time": "2025-07-30T13:07:28.258335",
     "exception": false,
     "start_time": "2025-07-30T13:07:28.185307",
     "status": "completed"
    },
    "tags": []
   },
   "outputs": [
    {
     "data": {
      "text/plain": [
       "{'frau1': 0.9154872624342903,\n",
       " 'nongerman': 0.9134340088699264,\n",
       " 'nongerman_male': 0.92704674412321,\n",
       " 'nongerman_female': 0.8909090909090909}"
      ]
     },
     "execution_count": 69,
     "metadata": {},
     "output_type": "execute_result"
    }
   ],
   "source": [
    "cond_coverage"
   ]
  },
  {
   "cell_type": "code",
   "execution_count": 70,
   "id": "f5093324-c3dd-4d63-bc4c-8d945e5c8bbb",
   "metadata": {
    "execution": {
     "iopub.execute_input": "2025-07-30T13:07:28.355398Z",
     "iopub.status.busy": "2025-07-30T13:07:28.354978Z",
     "iopub.status.idle": "2025-07-30T13:07:28.362822Z",
     "shell.execute_reply": "2025-07-30T13:07:28.361717Z"
    },
    "papermill": {
     "duration": 0.051127,
     "end_time": "2025-07-30T13:07:28.364997",
     "exception": false,
     "start_time": "2025-07-30T13:07:28.313870",
     "status": "completed"
    },
    "tags": []
   },
   "outputs": [],
   "source": [
    "for subgroup, cov in cond_coverage.items():\n",
    "    cp_metrics_df[f\"cov_{subgroup}\"] = cov"
   ]
  },
  {
   "cell_type": "code",
   "execution_count": 71,
   "id": "6e872e10-dbe5-49e8-b554-5030c98ff75d",
   "metadata": {
    "execution": {
     "iopub.execute_input": "2025-07-30T13:07:28.475941Z",
     "iopub.status.busy": "2025-07-30T13:07:28.475512Z",
     "iopub.status.idle": "2025-07-30T13:07:28.498809Z",
     "shell.execute_reply": "2025-07-30T13:07:28.497691Z"
    },
    "papermill": {
     "duration": 0.072166,
     "end_time": "2025-07-30T13:07:28.500965",
     "exception": false,
     "start_time": "2025-07-30T13:07:28.428799",
     "status": "completed"
    },
    "tags": []
   },
   "outputs": [
    {
     "data": {
      "text/html": [
       "<div>\n",
       "<style scoped>\n",
       "    .dataframe tbody tr th:only-of-type {\n",
       "        vertical-align: middle;\n",
       "    }\n",
       "\n",
       "    .dataframe tbody tr th {\n",
       "        vertical-align: top;\n",
       "    }\n",
       "\n",
       "    .dataframe thead th {\n",
       "        text-align: right;\n",
       "    }\n",
       "</style>\n",
       "<table border=\"1\" class=\"dataframe\">\n",
       "  <thead>\n",
       "    <tr style=\"text-align: right;\">\n",
       "      <th></th>\n",
       "      <th>universe_id</th>\n",
       "      <th>universe_training_size</th>\n",
       "      <th>universe_scale</th>\n",
       "      <th>universe_model</th>\n",
       "      <th>universe_exclude_features</th>\n",
       "      <th>universe_exclude_subgroups</th>\n",
       "      <th>q_hat</th>\n",
       "      <th>coverage</th>\n",
       "      <th>avg_size</th>\n",
       "      <th>cov_frau1</th>\n",
       "      <th>cov_nongerman</th>\n",
       "      <th>cov_nongerman_male</th>\n",
       "      <th>cov_nongerman_female</th>\n",
       "    </tr>\n",
       "  </thead>\n",
       "  <tbody>\n",
       "    <tr>\n",
       "      <th>0</th>\n",
       "      <td>debf3c2146c28572e73a1ebe8f6f2e4d</td>\n",
       "      <td>25k</td>\n",
       "      <td>scale</td>\n",
       "      <td>rf</td>\n",
       "      <td>none</td>\n",
       "      <td>keep-all</td>\n",
       "      <td>0.66</td>\n",
       "      <td>0.91555</td>\n",
       "      <td>1.14354</td>\n",
       "      <td>0.915487</td>\n",
       "      <td>0.913434</td>\n",
       "      <td>0.927047</td>\n",
       "      <td>0.890909</td>\n",
       "    </tr>\n",
       "  </tbody>\n",
       "</table>\n",
       "</div>"
      ],
      "text/plain": [
       "                        universe_id universe_training_size universe_scale  \\\n",
       "0  debf3c2146c28572e73a1ebe8f6f2e4d                    25k          scale   \n",
       "\n",
       "  universe_model universe_exclude_features universe_exclude_subgroups  q_hat  \\\n",
       "0             rf                      none                   keep-all   0.66   \n",
       "\n",
       "   coverage  avg_size  cov_frau1  cov_nongerman  cov_nongerman_male  \\\n",
       "0   0.91555   1.14354   0.915487       0.913434            0.927047   \n",
       "\n",
       "   cov_nongerman_female  \n",
       "0              0.890909  "
      ]
     },
     "execution_count": 71,
     "metadata": {},
     "output_type": "execute_result"
    }
   ],
   "source": [
    "cp_metrics_df"
   ]
  },
  {
   "cell_type": "markdown",
   "id": "33774451",
   "metadata": {
    "papermill": {
     "duration": 0.033064,
     "end_time": "2025-07-30T13:07:28.575329",
     "exception": false,
     "start_time": "2025-07-30T13:07:28.542265",
     "status": "completed"
    },
    "tags": []
   },
   "source": [
    "# (Fairness) Metrics"
   ]
  },
  {
   "cell_type": "code",
   "execution_count": 72,
   "id": "debc5d62",
   "metadata": {
    "execution": {
     "iopub.execute_input": "2025-07-30T13:07:28.630605Z",
     "iopub.status.busy": "2025-07-30T13:07:28.630264Z",
     "iopub.status.idle": "2025-07-30T13:07:28.645533Z",
     "shell.execute_reply": "2025-07-30T13:07:28.644828Z"
    },
    "papermill": {
     "duration": 0.040499,
     "end_time": "2025-07-30T13:07:28.647162",
     "exception": false,
     "start_time": "2025-07-30T13:07:28.606663",
     "status": "completed"
    },
    "tags": []
   },
   "outputs": [],
   "source": [
    "# do I need to include maxdeutsch1.missing?\n",
    "\n",
    "import numpy as np\n",
    "\n",
    "colname_to_bin = \"maxdeutsch1\"\n",
    "majority_value = org_train[colname_to_bin].mode()[0]\n",
    "\n",
    "org_test[\"majmin\"] = np.where(org_test[colname_to_bin] == majority_value, \"majority\", \"minority\")"
   ]
  },
  {
   "cell_type": "code",
   "execution_count": 73,
   "id": "06a50de5",
   "metadata": {
    "execution": {
     "iopub.execute_input": "2025-07-30T13:07:28.699577Z",
     "iopub.status.busy": "2025-07-30T13:07:28.699122Z",
     "iopub.status.idle": "2025-07-30T13:07:31.700580Z",
     "shell.execute_reply": "2025-07-30T13:07:31.699592Z"
    },
    "papermill": {
     "duration": 3.028876,
     "end_time": "2025-07-30T13:07:31.702405",
     "exception": false,
     "start_time": "2025-07-30T13:07:28.673529",
     "status": "completed"
    },
    "tags": []
   },
   "outputs": [],
   "source": [
    "example_universe = universe.copy()\n",
    "example_universe[\"cutoff\"] = example_universe[\"cutoff\"][0]\n",
    "example_universe[\"eval_fairness_grouping\"] = example_universe[\"eval_fairness_grouping\"][0]\n",
    "fairness_dict, metric_frame = universe_analysis.compute_metrics(\n",
    "    example_universe,\n",
    "    y_pred_prob=probs_test,\n",
    "    y_test=y_true,\n",
    "    org_test=org_test,\n",
    ")"
   ]
  },
  {
   "cell_type": "markdown",
   "id": "f95d4e02",
   "metadata": {
    "papermill": {
     "duration": 0.030723,
     "end_time": "2025-07-30T13:07:31.762038",
     "exception": false,
     "start_time": "2025-07-30T13:07:31.731315",
     "status": "completed"
    },
    "tags": []
   },
   "source": [
    "# Overall"
   ]
  },
  {
   "cell_type": "markdown",
   "id": "bdee4871",
   "metadata": {
    "papermill": {
     "duration": 0.028446,
     "end_time": "2025-07-30T13:07:31.816928",
     "exception": false,
     "start_time": "2025-07-30T13:07:31.788482",
     "status": "completed"
    },
    "tags": []
   },
   "source": [
    "Fairness\n",
    "Main fairness target: Equalized Odds. Seems to be a better fit than equal opportunity, since we're not only interested in Y = 1. Seems to be a better fit than demographic parity, since we also care about accuracy, not just equal distribution of preds.\n",
    "\n",
    "Pick column for computation of fairness metrics\n",
    "\n",
    "Performance\n",
    "Overall performance measures, most interesting in relation to the measures split by group below"
   ]
  },
  {
   "cell_type": "code",
   "execution_count": 74,
   "id": "c4e067c6",
   "metadata": {
    "execution": {
     "iopub.execute_input": "2025-07-30T13:07:31.875453Z",
     "iopub.status.busy": "2025-07-30T13:07:31.874856Z",
     "iopub.status.idle": "2025-07-30T13:07:31.884992Z",
     "shell.execute_reply": "2025-07-30T13:07:31.883898Z"
    },
    "papermill": {
     "duration": 0.04114,
     "end_time": "2025-07-30T13:07:31.886780",
     "exception": false,
     "start_time": "2025-07-30T13:07:31.845640",
     "status": "completed"
    },
    "tags": []
   },
   "outputs": [
    {
     "data": {
      "text/plain": [
       "accuracy                   0.196388\n",
       "balanced accuracy          0.531099\n",
       "f1                         0.238556\n",
       "precision                  0.135782\n",
       "false positive rate        0.919120\n",
       "false negative rate        0.018683\n",
       "selection rate             0.927098\n",
       "count                  89710.000000\n",
       "dtype: float64"
      ]
     },
     "execution_count": 74,
     "metadata": {},
     "output_type": "execute_result"
    }
   ],
   "source": [
    "metric_frame.overall"
   ]
  },
  {
   "cell_type": "markdown",
   "id": "e968fe9d",
   "metadata": {
    "papermill": {
     "duration": 0.02676,
     "end_time": "2025-07-30T13:07:31.942832",
     "exception": false,
     "start_time": "2025-07-30T13:07:31.916072",
     "status": "completed"
    },
    "tags": []
   },
   "source": [
    "By Group"
   ]
  },
  {
   "cell_type": "code",
   "execution_count": 75,
   "id": "ec325bce",
   "metadata": {
    "execution": {
     "iopub.execute_input": "2025-07-30T13:07:32.006418Z",
     "iopub.status.busy": "2025-07-30T13:07:32.005870Z",
     "iopub.status.idle": "2025-07-30T13:07:32.024140Z",
     "shell.execute_reply": "2025-07-30T13:07:32.022995Z"
    },
    "papermill": {
     "duration": 0.05318,
     "end_time": "2025-07-30T13:07:32.025920",
     "exception": false,
     "start_time": "2025-07-30T13:07:31.972740",
     "status": "completed"
    },
    "tags": []
   },
   "outputs": [
    {
     "data": {
      "text/html": [
       "<div>\n",
       "<style scoped>\n",
       "    .dataframe tbody tr th:only-of-type {\n",
       "        vertical-align: middle;\n",
       "    }\n",
       "\n",
       "    .dataframe tbody tr th {\n",
       "        vertical-align: top;\n",
       "    }\n",
       "\n",
       "    .dataframe thead th {\n",
       "        text-align: right;\n",
       "    }\n",
       "</style>\n",
       "<table border=\"1\" class=\"dataframe\">\n",
       "  <thead>\n",
       "    <tr style=\"text-align: right;\">\n",
       "      <th></th>\n",
       "      <th>accuracy</th>\n",
       "      <th>balanced accuracy</th>\n",
       "      <th>f1</th>\n",
       "      <th>precision</th>\n",
       "      <th>false positive rate</th>\n",
       "      <th>false negative rate</th>\n",
       "      <th>selection rate</th>\n",
       "      <th>count</th>\n",
       "    </tr>\n",
       "    <tr>\n",
       "      <th>majmin</th>\n",
       "      <th></th>\n",
       "      <th></th>\n",
       "      <th></th>\n",
       "      <th></th>\n",
       "      <th></th>\n",
       "      <th></th>\n",
       "      <th></th>\n",
       "      <th></th>\n",
       "    </tr>\n",
       "  </thead>\n",
       "  <tbody>\n",
       "    <tr>\n",
       "      <th>majority</th>\n",
       "      <td>0.186165</td>\n",
       "      <td>0.527602</td>\n",
       "      <td>0.243587</td>\n",
       "      <td>0.138846</td>\n",
       "      <td>0.936482</td>\n",
       "      <td>0.008315</td>\n",
       "      <td>0.943776</td>\n",
       "      <td>69170.0</td>\n",
       "    </tr>\n",
       "    <tr>\n",
       "      <th>minority</th>\n",
       "      <td>0.230818</td>\n",
       "      <td>0.539768</td>\n",
       "      <td>0.220072</td>\n",
       "      <td>0.124602</td>\n",
       "      <td>0.861765</td>\n",
       "      <td>0.058699</td>\n",
       "      <td>0.870935</td>\n",
       "      <td>20540.0</td>\n",
       "    </tr>\n",
       "  </tbody>\n",
       "</table>\n",
       "</div>"
      ],
      "text/plain": [
       "          accuracy  balanced accuracy        f1  precision  \\\n",
       "majmin                                                       \n",
       "majority  0.186165           0.527602  0.243587   0.138846   \n",
       "minority  0.230818           0.539768  0.220072   0.124602   \n",
       "\n",
       "          false positive rate  false negative rate  selection rate    count  \n",
       "majmin                                                                       \n",
       "majority             0.936482             0.008315        0.943776  69170.0  \n",
       "minority             0.861765             0.058699        0.870935  20540.0  "
      ]
     },
     "execution_count": 75,
     "metadata": {},
     "output_type": "execute_result"
    }
   ],
   "source": [
    "metric_frame.by_group"
   ]
  },
  {
   "cell_type": "code",
   "execution_count": 76,
   "id": "a9ddbe63",
   "metadata": {
    "execution": {
     "iopub.execute_input": "2025-07-30T13:07:32.088172Z",
     "iopub.status.busy": "2025-07-30T13:07:32.087568Z",
     "iopub.status.idle": "2025-07-30T13:07:34.551230Z",
     "shell.execute_reply": "2025-07-30T13:07:34.550168Z"
    },
    "papermill": {
     "duration": 2.496436,
     "end_time": "2025-07-30T13:07:34.552968",
     "exception": false,
     "start_time": "2025-07-30T13:07:32.056532",
     "status": "completed"
    },
    "tags": []
   },
   "outputs": [
    {
     "data": {
      "text/plain": [
       "array([[<Axes: title={'center': 'accuracy'}, xlabel='majmin'>,\n",
       "        <Axes: title={'center': 'balanced accuracy'}, xlabel='majmin'>,\n",
       "        <Axes: title={'center': 'f1'}, xlabel='majmin'>],\n",
       "       [<Axes: title={'center': 'precision'}, xlabel='majmin'>,\n",
       "        <Axes: title={'center': 'false positive rate'}, xlabel='majmin'>,\n",
       "        <Axes: title={'center': 'false negative rate'}, xlabel='majmin'>],\n",
       "       [<Axes: title={'center': 'selection rate'}, xlabel='majmin'>,\n",
       "        <Axes: title={'center': 'count'}, xlabel='majmin'>,\n",
       "        <Axes: xlabel='majmin'>]], dtype=object)"
      ]
     },
     "execution_count": 76,
     "metadata": {},
     "output_type": "execute_result"
    },
    {
     "data": {
      "image/png": "[encoded data removed]",
      "text/plain": [
       "<Figure size 1200x800 with 9 Axes>"
      ]
     },
     "metadata": {},
     "output_type": "display_data"
    }
   ],
   "source": [
    "# In a graphic\n",
    "metric_frame.by_group.plot.bar(\n",
    "    subplots=True,\n",
    "    layout=[3, 3],\n",
    "    legend=False,\n",
    "    figsize=[12, 8],\n",
    "    title=\"Show all metrics\",\n",
    ")"
   ]
  },
  {
   "cell_type": "markdown",
   "id": "f57a0bac",
   "metadata": {
    "papermill": {
     "duration": 0.032497,
     "end_time": "2025-07-30T13:07:34.617836",
     "exception": false,
     "start_time": "2025-07-30T13:07:34.585339",
     "status": "completed"
    },
    "tags": []
   },
   "source": [
    "# Final Output"
   ]
  },
  {
   "cell_type": "code",
   "execution_count": 77,
   "id": "96d280a3",
   "metadata": {
    "execution": {
     "iopub.execute_input": "2025-07-30T13:07:34.684015Z",
     "iopub.status.busy": "2025-07-30T13:07:34.683267Z",
     "iopub.status.idle": "2025-07-30T13:07:34.691349Z",
     "shell.execute_reply": "2025-07-30T13:07:34.690408Z"
    },
    "papermill": {
     "duration": 0.043319,
     "end_time": "2025-07-30T13:07:34.692928",
     "exception": false,
     "start_time": "2025-07-30T13:07:34.649609",
     "status": "completed"
    },
    "tags": []
   },
   "outputs": [
    {
     "data": {
      "text/plain": [
       "4"
      ]
     },
     "execution_count": 77,
     "metadata": {},
     "output_type": "execute_result"
    }
   ],
   "source": [
    "sub_universes = universe_analysis.generate_sub_universes()\n",
    "len(sub_universes)"
   ]
  },
  {
   "cell_type": "code",
   "execution_count": 78,
   "id": "92adf7ba",
   "metadata": {
    "execution": {
     "iopub.execute_input": "2025-07-30T13:07:34.749955Z",
     "iopub.status.busy": "2025-07-30T13:07:34.749528Z",
     "iopub.status.idle": "2025-07-30T13:07:34.789810Z",
     "shell.execute_reply": "2025-07-30T13:07:34.789009Z"
    },
    "papermill": {
     "duration": 0.068112,
     "end_time": "2025-07-30T13:07:34.791132",
     "exception": false,
     "start_time": "2025-07-30T13:07:34.723020",
     "status": "completed"
    },
    "tags": []
   },
   "outputs": [],
   "source": [
    "def filter_sub_universe_data(sub_universe, org_test):\n",
    "    # Keep all rows — no filtering\n",
    "    keep_rows_mask = np.ones(org_test.shape[0], dtype=bool)\n",
    "\n",
    "    print(f\"[INFO] Keeping all rows: {keep_rows_mask.sum()} rows retained.\")\n",
    "    return keep_rows_mask"
   ]
  },
  {
   "cell_type": "code",
   "execution_count": 79,
   "id": "4a759155",
   "metadata": {
    "execution": {
     "iopub.execute_input": "2025-07-30T13:07:34.828907Z",
     "iopub.status.busy": "2025-07-30T13:07:34.828382Z",
     "iopub.status.idle": "2025-07-30T13:07:45.375220Z",
     "shell.execute_reply": "2025-07-30T13:07:45.373962Z"
    },
    "papermill": {
     "duration": 10.568083,
     "end_time": "2025-07-30T13:07:45.377308",
     "exception": false,
     "start_time": "2025-07-30T13:07:34.809225",
     "status": "completed"
    },
    "tags": []
   },
   "outputs": [
    {
     "name": "stdout",
     "output_type": "stream",
     "text": [
      "Stopping execution_time clock.\n",
      "[INFO] Keeping all rows: 89710 rows retained.\n"
     ]
    },
    {
     "name": "stdout",
     "output_type": "stream",
     "text": [
      "[INFO] Keeping all rows: 89710 rows retained.\n"
     ]
    },
    {
     "name": "stdout",
     "output_type": "stream",
     "text": [
      "[INFO] Keeping all rows: 89710 rows retained.\n"
     ]
    },
    {
     "name": "stdout",
     "output_type": "stream",
     "text": [
      "[INFO] Keeping all rows: 89710 rows retained.\n"
     ]
    },
    {
     "data": {
      "text/html": [
       "<div>\n",
       "<style scoped>\n",
       "    .dataframe tbody tr th:only-of-type {\n",
       "        vertical-align: middle;\n",
       "    }\n",
       "\n",
       "    .dataframe tbody tr th {\n",
       "        vertical-align: top;\n",
       "    }\n",
       "\n",
       "    .dataframe thead th {\n",
       "        text-align: right;\n",
       "    }\n",
       "</style>\n",
       "<table border=\"1\" class=\"dataframe\">\n",
       "  <thead>\n",
       "    <tr style=\"text-align: right;\">\n",
       "      <th></th>\n",
       "      <th>run_no</th>\n",
       "      <th>universe_id</th>\n",
       "      <th>universe_settings</th>\n",
       "      <th>execution_time</th>\n",
       "      <th>test_size_n</th>\n",
       "      <th>test_size_frac</th>\n",
       "      <th>fair_main_equalized_odds_difference</th>\n",
       "      <th>fair_main_equalized_odds_ratio</th>\n",
       "      <th>fair_main_demographic_parity_difference</th>\n",
       "      <th>fair_main_demographic_parity_ratio</th>\n",
       "      <th>...</th>\n",
       "      <th>perf_grp_precision_0</th>\n",
       "      <th>perf_grp_precision_1</th>\n",
       "      <th>perf_grp_false positive rate_0</th>\n",
       "      <th>perf_grp_false positive rate_1</th>\n",
       "      <th>perf_grp_false negative rate_0</th>\n",
       "      <th>perf_grp_false negative rate_1</th>\n",
       "      <th>perf_grp_selection rate_0</th>\n",
       "      <th>perf_grp_selection rate_1</th>\n",
       "      <th>perf_grp_count_0</th>\n",
       "      <th>perf_grp_count_1</th>\n",
       "    </tr>\n",
       "  </thead>\n",
       "  <tbody>\n",
       "    <tr>\n",
       "      <th>0</th>\n",
       "      <td>12</td>\n",
       "      <td>debf3c2146c28572e73a1ebe8f6f2e4d</td>\n",
       "      <td>{\"cutoff\": \"quantile_0.1\", \"eval_fairness_grou...</td>\n",
       "      <td>39.679163</td>\n",
       "      <td>89710</td>\n",
       "      <td>1.0</td>\n",
       "      <td>0.074716</td>\n",
       "      <td>0.920216</td>\n",
       "      <td>0.072841</td>\n",
       "      <td>0.922819</td>\n",
       "      <td>...</td>\n",
       "      <td>NaN</td>\n",
       "      <td>NaN</td>\n",
       "      <td>NaN</td>\n",
       "      <td>NaN</td>\n",
       "      <td>NaN</td>\n",
       "      <td>NaN</td>\n",
       "      <td>NaN</td>\n",
       "      <td>NaN</td>\n",
       "      <td>NaN</td>\n",
       "      <td>NaN</td>\n",
       "    </tr>\n",
       "    <tr>\n",
       "      <th>0</th>\n",
       "      <td>12</td>\n",
       "      <td>debf3c2146c28572e73a1ebe8f6f2e4d</td>\n",
       "      <td>{\"cutoff\": \"quantile_0.1\", \"eval_fairness_grou...</td>\n",
       "      <td>39.679163</td>\n",
       "      <td>89710</td>\n",
       "      <td>1.0</td>\n",
       "      <td>0.074716</td>\n",
       "      <td>0.920216</td>\n",
       "      <td>0.072841</td>\n",
       "      <td>0.922819</td>\n",
       "      <td>...</td>\n",
       "      <td>0.124602</td>\n",
       "      <td>0.138846</td>\n",
       "      <td>0.861765</td>\n",
       "      <td>0.936482</td>\n",
       "      <td>0.058699</td>\n",
       "      <td>0.008315</td>\n",
       "      <td>0.870935</td>\n",
       "      <td>0.943776</td>\n",
       "      <td>20540.0</td>\n",
       "      <td>69170.0</td>\n",
       "    </tr>\n",
       "    <tr>\n",
       "      <th>0</th>\n",
       "      <td>12</td>\n",
       "      <td>debf3c2146c28572e73a1ebe8f6f2e4d</td>\n",
       "      <td>{\"cutoff\": \"quantile_0.25\", \"eval_fairness_gro...</td>\n",
       "      <td>39.679163</td>\n",
       "      <td>89710</td>\n",
       "      <td>1.0</td>\n",
       "      <td>0.093715</td>\n",
       "      <td>0.892100</td>\n",
       "      <td>0.087548</td>\n",
       "      <td>0.889950</td>\n",
       "      <td>...</td>\n",
       "      <td>NaN</td>\n",
       "      <td>NaN</td>\n",
       "      <td>NaN</td>\n",
       "      <td>NaN</td>\n",
       "      <td>NaN</td>\n",
       "      <td>NaN</td>\n",
       "      <td>NaN</td>\n",
       "      <td>NaN</td>\n",
       "      <td>NaN</td>\n",
       "      <td>NaN</td>\n",
       "    </tr>\n",
       "    <tr>\n",
       "      <th>0</th>\n",
       "      <td>12</td>\n",
       "      <td>debf3c2146c28572e73a1ebe8f6f2e4d</td>\n",
       "      <td>{\"cutoff\": \"quantile_0.25\", \"eval_fairness_gro...</td>\n",
       "      <td>39.679163</td>\n",
       "      <td>89710</td>\n",
       "      <td>1.0</td>\n",
       "      <td>0.093715</td>\n",
       "      <td>0.892100</td>\n",
       "      <td>0.087548</td>\n",
       "      <td>0.889950</td>\n",
       "      <td>...</td>\n",
       "      <td>0.141040</td>\n",
       "      <td>0.159431</td>\n",
       "      <td>0.687376</td>\n",
       "      <td>0.770515</td>\n",
       "      <td>0.133868</td>\n",
       "      <td>0.040153</td>\n",
       "      <td>0.707984</td>\n",
       "      <td>0.795533</td>\n",
       "      <td>20540.0</td>\n",
       "      <td>69170.0</td>\n",
       "    </tr>\n",
       "  </tbody>\n",
       "</table>\n",
       "<p>4 rows × 50 columns</p>\n",
       "</div>"
      ],
      "text/plain": [
       "  run_no                       universe_id  \\\n",
       "0     12  debf3c2146c28572e73a1ebe8f6f2e4d   \n",
       "0     12  debf3c2146c28572e73a1ebe8f6f2e4d   \n",
       "0     12  debf3c2146c28572e73a1ebe8f6f2e4d   \n",
       "0     12  debf3c2146c28572e73a1ebe8f6f2e4d   \n",
       "\n",
       "                                   universe_settings  execution_time  \\\n",
       "0  {\"cutoff\": \"quantile_0.1\", \"eval_fairness_grou...       39.679163   \n",
       "0  {\"cutoff\": \"quantile_0.1\", \"eval_fairness_grou...       39.679163   \n",
       "0  {\"cutoff\": \"quantile_0.25\", \"eval_fairness_gro...       39.679163   \n",
       "0  {\"cutoff\": \"quantile_0.25\", \"eval_fairness_gro...       39.679163   \n",
       "\n",
       "   test_size_n  test_size_frac  fair_main_equalized_odds_difference  \\\n",
       "0        89710             1.0                             0.074716   \n",
       "0        89710             1.0                             0.074716   \n",
       "0        89710             1.0                             0.093715   \n",
       "0        89710             1.0                             0.093715   \n",
       "\n",
       "   fair_main_equalized_odds_ratio  fair_main_demographic_parity_difference  \\\n",
       "0                        0.920216                                 0.072841   \n",
       "0                        0.920216                                 0.072841   \n",
       "0                        0.892100                                 0.087548   \n",
       "0                        0.892100                                 0.087548   \n",
       "\n",
       "   fair_main_demographic_parity_ratio  ...  perf_grp_precision_0  \\\n",
       "0                            0.922819  ...                   NaN   \n",
       "0                            0.922819  ...              0.124602   \n",
       "0                            0.889950  ...                   NaN   \n",
       "0                            0.889950  ...              0.141040   \n",
       "\n",
       "   perf_grp_precision_1  perf_grp_false positive rate_0  \\\n",
       "0                   NaN                             NaN   \n",
       "0              0.138846                        0.861765   \n",
       "0                   NaN                             NaN   \n",
       "0              0.159431                        0.687376   \n",
       "\n",
       "   perf_grp_false positive rate_1  perf_grp_false negative rate_0  \\\n",
       "0                             NaN                             NaN   \n",
       "0                        0.936482                        0.058699   \n",
       "0                             NaN                             NaN   \n",
       "0                        0.770515                        0.133868   \n",
       "\n",
       "   perf_grp_false negative rate_1  perf_grp_selection rate_0  \\\n",
       "0                             NaN                        NaN   \n",
       "0                        0.008315                   0.870935   \n",
       "0                             NaN                        NaN   \n",
       "0                        0.040153                   0.707984   \n",
       "\n",
       "   perf_grp_selection rate_1  perf_grp_count_0  perf_grp_count_1  \n",
       "0                        NaN               NaN               NaN  \n",
       "0                   0.943776           20540.0           69170.0  \n",
       "0                        NaN               NaN               NaN  \n",
       "0                   0.795533           20540.0           69170.0  \n",
       "\n",
       "[4 rows x 50 columns]"
      ]
     },
     "execution_count": 79,
     "metadata": {},
     "output_type": "execute_result"
    }
   ],
   "source": [
    "final_output = universe_analysis.generate_final_output(\n",
    "    y_pred_prob=probs_test,\n",
    "    y_test=y_true,\n",
    "    org_test=org_test,\n",
    "    filter_data=filter_sub_universe_data,\n",
    "    cp_metrics_df=cp_metrics_df,\n",
    "    save=True,\n",
    ")\n",
    "final_output"
   ]
  },
  {
   "cell_type": "code",
   "execution_count": null,
   "id": "721ff514-cb11-46f8-b6fc-50392f74b5cb",
   "metadata": {
    "papermill": {
     "duration": 0.031586,
     "end_time": "2025-07-30T13:07:45.443151",
     "exception": false,
     "start_time": "2025-07-30T13:07:45.411565",
     "status": "completed"
    },
    "tags": []
   },
   "outputs": [],
   "source": []
  }
 ],
 "metadata": {
  "celltoolbar": "Tags",
  "kernelspec": {
   "display_name": "Python (CMA Fairness)",
   "language": "python",
   "name": "cma_fair_env"
  },
  "language_info": {
   "codemirror_mode": {
    "name": "ipython",
    "version": 3
   },
   "file_extension": ".py",
   "mimetype": "text/x-python",
   "name": "python",
   "nbconvert_exporter": "python",
   "pygments_lexer": "ipython3",
   "version": "3.10.12"
  },
  "papermill": {
   "default_parameters": {},
   "duration": 54.758691,
   "end_time": "2025-07-30T13:07:46.594695",
   "environment_variables": {},
   "exception": null,
   "input_path": "universe_analysis.ipynb",
   "output_path": "output/runs/12/notebooks/m_12-debf3c2146c28572e73a1ebe8f6f2e4d.ipynb",
   "parameters": {
    "output_dir": "output",
    "run_no": "12",
    "seed": "2023",
    "universe": "{\"cutoff\": [\"quantile_0.1\", \"quantile_0.25\"], \"eval_fairness_grouping\": [\"majority-minority\", \"nationality-all\"], \"exclude_features\": \"none\", \"exclude_subgroups\": \"keep-all\", \"model\": \"rf\", \"scale\": \"scale\", \"training_size\": \"25k\", \"training_year\": \"2012_14\"}",
    "universe_id": "debf3c2146c28572e73a1ebe8f6f2e4d"
   },
   "start_time": "2025-07-30T13:06:51.836004",
   "version": "2.6.0"
  }
 },
 "nbformat": 4,
 "nbformat_minor": 5
}