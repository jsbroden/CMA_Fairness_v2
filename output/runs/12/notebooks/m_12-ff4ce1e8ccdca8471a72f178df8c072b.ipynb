{
 "cells": [
  {
   "cell_type": "code",
   "execution_count": 1,
   "id": "f159f837-637b-42ba-96b5-ec9a68c44524",
   "metadata": {
    "execution": {
     "iopub.execute_input": "2025-07-30T13:43:54.367576Z",
     "iopub.status.busy": "2025-07-30T13:43:54.367113Z",
     "iopub.status.idle": "2025-07-30T13:43:54.381538Z",
     "shell.execute_reply": "2025-07-30T13:43:54.380645Z"
    },
    "papermill": {
     "duration": 0.037518,
     "end_time": "2025-07-30T13:43:54.383240",
     "exception": false,
     "start_time": "2025-07-30T13:43:54.345722",
     "status": "completed"
    },
    "tags": []
   },
   "outputs": [
    {
     "name": "stdout",
     "output_type": "stream",
     "text": [
      "/dss/dsshome1/0C/ra93lal2/cma/CMA_Fairness_v2\n"
     ]
    },
    {
     "name": "stderr",
     "output_type": "stream",
     "text": [
      "/dss/dsshome1/0C/ra93lal2/.local/share/virtualenvs/CMA_Fairness_v2-3j10GkSs/lib/python3.10/site-packages/IPython/core/magics/osm.py:393: UserWarning: This is now an optional IPython functionality, using bookmarks requires you to install the `pickleshare` library.\n",
      "  bkms = self.shell.db.get('bookmarks', {})\n",
      "/dss/dsshome1/0C/ra93lal2/.local/share/virtualenvs/CMA_Fairness_v2-3j10GkSs/lib/python3.10/site-packages/IPython/core/magics/osm.py:417: UserWarning: This is now an optional IPython functionality, setting dhist requires you to install the `pickleshare` library.\n",
      "  self.shell.db['dhist'] = compress_dhist(dhist)[-100:]\n"
     ]
    }
   ],
   "source": [
    "%cd ~/cma/CMA_Fairness_v2"
   ]
  },
  {
   "cell_type": "markdown",
   "id": "de2603b9",
   "metadata": {
    "papermill": {
     "duration": 0.020258,
     "end_time": "2025-07-30T13:43:54.423494",
     "exception": false,
     "start_time": "2025-07-30T13:43:54.403236",
     "status": "completed"
    },
    "tags": []
   },
   "source": [
    "The following cell holds the definition of our parameters, these values can be overriden by rendering the with e.g. the following command:\n",
    "\n",
    "papermill -p alpha 0.2 -p ratio 0.3 universe_analysis.ipynb output/test_run.ipynb"
   ]
  },
  {
   "cell_type": "code",
   "execution_count": 2,
   "id": "a80968a0-40bb-4fa9-85ef-2d5eefb01975",
   "metadata": {
    "execution": {
     "iopub.execute_input": "2025-07-30T13:43:54.463373Z",
     "iopub.status.busy": "2025-07-30T13:43:54.462892Z",
     "iopub.status.idle": "2025-07-30T13:43:54.468560Z",
     "shell.execute_reply": "2025-07-30T13:43:54.467486Z"
    },
    "papermill": {
     "duration": 0.027207,
     "end_time": "2025-07-30T13:43:54.470163",
     "exception": false,
     "start_time": "2025-07-30T13:43:54.442956",
     "status": "completed"
    },
    "tags": []
   },
   "outputs": [
    {
     "name": "stdout",
     "output_type": "stream",
     "text": [
      "Current working directory: /dss/dsshome1/0C/ra93lal2/cma/CMA_Fairness_v2\n"
     ]
    }
   ],
   "source": [
    "import os\n",
    "print(\"Current working directory:\", os.getcwd())"
   ]
  },
  {
   "cell_type": "code",
   "execution_count": 3,
   "id": "2dce4c03",
   "metadata": {
    "execution": {
     "iopub.execute_input": "2025-07-30T13:43:54.513035Z",
     "iopub.status.busy": "2025-07-30T13:43:54.512587Z",
     "iopub.status.idle": "2025-07-30T13:43:54.518395Z",
     "shell.execute_reply": "2025-07-30T13:43:54.517573Z"
    },
    "papermill": {
     "duration": 0.028827,
     "end_time": "2025-07-30T13:43:54.520238",
     "exception": false,
     "start_time": "2025-07-30T13:43:54.491411",
     "status": "completed"
    },
    "tags": [
     "parameters"
    ]
   },
   "outputs": [],
   "source": [
    "run_no = 0\n",
    "universe_id = \"test\"\n",
    "universe = {\n",
    "    \"training_size\": \"25k\", # \"25k\", \"5k\", \"1k\"\n",
    "    \"training_year\": \"2014\", # \"2014\", \"2012_14\", \"2010_14\"\n",
    "    \"scale\": \"scale\", # \"scale\", \"do-not-scale\",\n",
    "    #\"stratify_split\": \"target\", # \"none\", \"target\", \"protected-attribute\", \"both\",\n",
    "    \"model\": \"elasticnet\", # \"logreg\", \"penalized_logreg\", \"rf\", \"gbm\", \"elasticnet\"\n",
    "    \"cutoff\": [\"quantile_0.15\", \"quantile_0.30\"],\n",
    "    \"exclude_features\": \"age\", # \"none\", \"nationality\", \"sex\", \"nationality-sex\", \"age\"\n",
    "    \"exclude_subgroups\": \"keep-all\", # \"keep-all\", \"drop-non-german\"\n",
    "    \"eval_fairness_grouping\": [\"majority-minority\", \"nationality-all\"]\n",
    "}\n",
    "\n",
    "output_dir=\"./output\"\n",
    "seed=0"
   ]
  },
  {
   "cell_type": "code",
   "execution_count": 4,
   "id": "591ff2b5",
   "metadata": {
    "execution": {
     "iopub.execute_input": "2025-07-30T13:43:54.560899Z",
     "iopub.status.busy": "2025-07-30T13:43:54.560454Z",
     "iopub.status.idle": "2025-07-30T13:43:54.565557Z",
     "shell.execute_reply": "2025-07-30T13:43:54.564628Z"
    },
    "papermill": {
     "duration": 0.027613,
     "end_time": "2025-07-30T13:43:54.567219",
     "exception": false,
     "start_time": "2025-07-30T13:43:54.539606",
     "status": "completed"
    },
    "tags": [
     "injected-parameters"
    ]
   },
   "outputs": [],
   "source": [
    "# Parameters\n",
    "universe_id = \"ff4ce1e8ccdca8471a72f178df8c072b\"\n",
    "run_no = \"12\"\n",
    "universe = \"{\\\"cutoff\\\": [\\\"quantile_0.1\\\", \\\"quantile_0.25\\\"], \\\"eval_fairness_grouping\\\": [\\\"majority-minority\\\", \\\"nationality-all\\\"], \\\"exclude_features\\\": \\\"nationality\\\", \\\"exclude_subgroups\\\": \\\"keep-all\\\", \\\"model\\\": \\\"gbm\\\", \\\"scale\\\": \\\"scale\\\", \\\"training_size\\\": \\\"5k\\\", \\\"training_year\\\": \\\"2014\\\"}\"\n",
    "output_dir = \"output\"\n",
    "seed = \"2023\"\n"
   ]
  },
  {
   "cell_type": "code",
   "execution_count": 5,
   "id": "1650acaf",
   "metadata": {
    "execution": {
     "iopub.execute_input": "2025-07-30T13:43:54.608591Z",
     "iopub.status.busy": "2025-07-30T13:43:54.607959Z",
     "iopub.status.idle": "2025-07-30T13:43:54.613016Z",
     "shell.execute_reply": "2025-07-30T13:43:54.612071Z"
    },
    "papermill": {
     "duration": 0.026757,
     "end_time": "2025-07-30T13:43:54.614636",
     "exception": false,
     "start_time": "2025-07-30T13:43:54.587879",
     "status": "completed"
    },
    "tags": []
   },
   "outputs": [],
   "source": [
    "import json\n",
    "# Parse universe into dict if it is passed as a string\n",
    "if isinstance(universe, str):\n",
    "    universe = json.loads(universe)"
   ]
  },
  {
   "cell_type": "code",
   "execution_count": 6,
   "id": "16620c48",
   "metadata": {
    "execution": {
     "iopub.execute_input": "2025-07-30T13:43:54.656863Z",
     "iopub.status.busy": "2025-07-30T13:43:54.656219Z",
     "iopub.status.idle": "2025-07-30T13:43:54.700628Z",
     "shell.execute_reply": "2025-07-30T13:43:54.699691Z"
    },
    "papermill": {
     "duration": 0.067019,
     "end_time": "2025-07-30T13:43:54.702548",
     "exception": false,
     "start_time": "2025-07-30T13:43:54.635529",
     "status": "completed"
    },
    "tags": []
   },
   "outputs": [],
   "source": [
    "# Auto-reload the custom package\n",
    "%load_ext autoreload\n",
    "%autoreload 1\n",
    "%aimport fairness_multiverse"
   ]
  },
  {
   "cell_type": "code",
   "execution_count": 7,
   "id": "01c5c9f3",
   "metadata": {
    "execution": {
     "iopub.execute_input": "2025-07-30T13:43:54.744056Z",
     "iopub.status.busy": "2025-07-30T13:43:54.743411Z",
     "iopub.status.idle": "2025-07-30T13:43:56.526353Z",
     "shell.execute_reply": "2025-07-30T13:43:56.525512Z"
    },
    "papermill": {
     "duration": 1.805072,
     "end_time": "2025-07-30T13:43:56.527883",
     "exception": false,
     "start_time": "2025-07-30T13:43:54.722811",
     "status": "completed"
    },
    "tags": []
   },
   "outputs": [],
   "source": [
    "from fairness_multiverse.universe import UniverseAnalysis\n",
    "\n",
    "universe_analysis = UniverseAnalysis(\n",
    "    run_no = run_no,\n",
    "    universe_id = universe_id,\n",
    "    universe = universe,\n",
    "    output_dir=output_dir,\n",
    ")"
   ]
  },
  {
   "cell_type": "code",
   "execution_count": 8,
   "id": "106241f5",
   "metadata": {
    "execution": {
     "iopub.execute_input": "2025-07-30T13:43:56.563416Z",
     "iopub.status.busy": "2025-07-30T13:43:56.562966Z",
     "iopub.status.idle": "2025-07-30T13:43:56.569614Z",
     "shell.execute_reply": "2025-07-30T13:43:56.568779Z"
    },
    "papermill": {
     "duration": 0.029155,
     "end_time": "2025-07-30T13:43:56.570819",
     "exception": false,
     "start_time": "2025-07-30T13:43:56.541664",
     "status": "completed"
    },
    "tags": []
   },
   "outputs": [
    {
     "name": "stdout",
     "output_type": "stream",
     "text": [
      "Using Seed: 2023\n"
     ]
    }
   ],
   "source": [
    "import numpy as np\n",
    "parsed_seed = int(seed)\n",
    "np.random.seed(parsed_seed)\n",
    "print(f\"Using Seed: {parsed_seed}\")"
   ]
  },
  {
   "cell_type": "markdown",
   "id": "e0ebdc57",
   "metadata": {
    "papermill": {
     "duration": 0.009949,
     "end_time": "2025-07-30T13:43:56.592222",
     "exception": false,
     "start_time": "2025-07-30T13:43:56.582273",
     "status": "completed"
    },
    "tags": []
   },
   "source": [
    "# Loading Data"
   ]
  },
  {
   "cell_type": "markdown",
   "id": "681925a3",
   "metadata": {
    "papermill": {
     "duration": 0.010049,
     "end_time": "2025-07-30T13:43:56.612159",
     "exception": false,
     "start_time": "2025-07-30T13:43:56.602110",
     "status": "completed"
    },
    "tags": []
   },
   "source": [
    "Load siab_train, siab_test, siab_calib and/or \n",
    "load siab_train_features, siab_train_labels"
   ]
  },
  {
   "cell_type": "code",
   "execution_count": 9,
   "id": "f0496b8a",
   "metadata": {
    "execution": {
     "iopub.execute_input": "2025-07-30T13:43:56.633495Z",
     "iopub.status.busy": "2025-07-30T13:43:56.633142Z",
     "iopub.status.idle": "2025-07-30T13:44:08.607485Z",
     "shell.execute_reply": "2025-07-30T13:44:08.606259Z"
    },
    "papermill": {
     "duration": 11.987133,
     "end_time": "2025-07-30T13:44:08.609193",
     "exception": false,
     "start_time": "2025-07-30T13:43:56.622060",
     "status": "completed"
    },
    "tags": []
   },
   "outputs": [
    {
     "name": "stdout",
     "output_type": "stream",
     "text": [
      "Loading SIAB data from cache: data/siab_cached.csv.gz\n"
     ]
    },
    {
     "name": "stdout",
     "output_type": "stream",
     "text": [
      "(643690, 164)\n"
     ]
    }
   ],
   "source": [
    "from pathlib import Path\n",
    "import pandas as pd\n",
    "\n",
    "# File paths\n",
    "raw_file = Path(\"data/raw/siab.csv\")\n",
    "cache_file = Path(\"data/siab_cached.csv.gz\")\n",
    "\n",
    "# Ensure cache directory exists\n",
    "cache_file.parent.mkdir(parents=True, exist_ok=True)\n",
    "\n",
    "# Load with simple caching\n",
    "if cache_file.exists():\n",
    "    print(f\"Loading SIAB data from cache: {cache_file}\")\n",
    "    siab = pd.read_csv(cache_file, compression='gzip')\n",
    "else:\n",
    "    print(f\"Cache not found. Reading raw SIAB data: {raw_file}\")\n",
    "    siab = pd.read_csv(raw_file)\n",
    "    siab.to_csv(cache_file, index=False, compression='gzip')\n",
    "    print(f\"Cached SIAB data to: {cache_file}\")\n",
    "\n",
    "# Now use `siab` DataFrame as needed\n",
    "print(siab.shape)"
   ]
  },
  {
   "cell_type": "code",
   "execution_count": 10,
   "id": "db0ca512-5f53-4dba-abdb-a2888bca41ba",
   "metadata": {
    "execution": {
     "iopub.execute_input": "2025-07-30T13:44:08.652239Z",
     "iopub.status.busy": "2025-07-30T13:44:08.651689Z",
     "iopub.status.idle": "2025-07-30T13:44:08.657469Z",
     "shell.execute_reply": "2025-07-30T13:44:08.656345Z"
    },
    "papermill": {
     "duration": 0.027742,
     "end_time": "2025-07-30T13:44:08.659310",
     "exception": false,
     "start_time": "2025-07-30T13:44:08.631568",
     "status": "completed"
    },
    "tags": []
   },
   "outputs": [],
   "source": [
    "#siab"
   ]
  },
  {
   "cell_type": "code",
   "execution_count": 11,
   "id": "a0edb063",
   "metadata": {
    "execution": {
     "iopub.execute_input": "2025-07-30T13:44:08.701913Z",
     "iopub.status.busy": "2025-07-30T13:44:08.700930Z",
     "iopub.status.idle": "2025-07-30T13:44:08.706208Z",
     "shell.execute_reply": "2025-07-30T13:44:08.705309Z"
    },
    "papermill": {
     "duration": 0.0279,
     "end_time": "2025-07-30T13:44:08.707960",
     "exception": false,
     "start_time": "2025-07-30T13:44:08.680060",
     "status": "completed"
    },
    "tags": []
   },
   "outputs": [],
   "source": [
    "#import pandas as pd\n",
    "#\n",
    "#X_train = pd.read_csv(\"./data/X_train.csv\")\n",
    "#y_train = pd.read_csv(\"./data/y_train.csv\")"
   ]
  },
  {
   "cell_type": "code",
   "execution_count": 12,
   "id": "63d08085",
   "metadata": {
    "execution": {
     "iopub.execute_input": "2025-07-30T13:44:08.751488Z",
     "iopub.status.busy": "2025-07-30T13:44:08.750559Z",
     "iopub.status.idle": "2025-07-30T13:44:08.755356Z",
     "shell.execute_reply": "2025-07-30T13:44:08.754442Z"
    },
    "papermill": {
     "duration": 0.027381,
     "end_time": "2025-07-30T13:44:08.756899",
     "exception": false,
     "start_time": "2025-07-30T13:44:08.729518",
     "status": "completed"
    },
    "tags": []
   },
   "outputs": [],
   "source": [
    "#X_test = pd.read_csv(\"./data/X_test.csv\")\n",
    "#y_true = pd.read_csv(\"./data/y_test.csv\")"
   ]
  },
  {
   "cell_type": "code",
   "execution_count": 13,
   "id": "98a8d0fa-1d3d-4ed8-bb2c-281470e24add",
   "metadata": {
    "execution": {
     "iopub.execute_input": "2025-07-30T13:44:08.799856Z",
     "iopub.status.busy": "2025-07-30T13:44:08.799384Z",
     "iopub.status.idle": "2025-07-30T13:44:08.804215Z",
     "shell.execute_reply": "2025-07-30T13:44:08.803295Z"
    },
    "papermill": {
     "duration": 0.028128,
     "end_time": "2025-07-30T13:44:08.805805",
     "exception": false,
     "start_time": "2025-07-30T13:44:08.777677",
     "status": "completed"
    },
    "tags": []
   },
   "outputs": [],
   "source": [
    "# Calibration data for conformal\n",
    "#X_calib = pd.read_csv(\"./data/X_calib.csv\")\n",
    "#y_calib = pd.read_csv(\"./data/y_calib.csv\")"
   ]
  },
  {
   "cell_type": "markdown",
   "id": "997051c5-15bd-4b69-9786-c3001a3ce484",
   "metadata": {
    "papermill": {
     "duration": 0.020136,
     "end_time": "2025-07-30T13:44:08.846544",
     "exception": false,
     "start_time": "2025-07-30T13:44:08.826408",
     "status": "completed"
    },
    "tags": []
   },
   "source": [
    "# Splitting Data and Setting Training Data Size"
   ]
  },
  {
   "cell_type": "code",
   "execution_count": 14,
   "id": "e993b61f-042d-41a6-8c81-f55681f86335",
   "metadata": {
    "execution": {
     "iopub.execute_input": "2025-07-30T13:44:08.891651Z",
     "iopub.status.busy": "2025-07-30T13:44:08.891189Z",
     "iopub.status.idle": "2025-07-30T13:44:08.904583Z",
     "shell.execute_reply": "2025-07-30T13:44:08.903545Z"
    },
    "papermill": {
     "duration": 0.037526,
     "end_time": "2025-07-30T13:44:08.906312",
     "exception": false,
     "start_time": "2025-07-30T13:44:08.868786",
     "status": "completed"
    },
    "tags": []
   },
   "outputs": [],
   "source": [
    "def sample_by_year_size(df,\n",
    "                        training_year: str,\n",
    "                        training_size: str,\n",
    "                        random_state: int = 42):\n",
    "    # --- parse training_year into a list of int years ---\n",
    "    if \"_\" in training_year:\n",
    "        start_str, end_str = training_year.split(\"_\", 1)\n",
    "        start = int(start_str)\n",
    "        end   = int(end_str) if len(end_str) == 4 else (int(end_str) + (start // 100)*100)\n",
    "        years = list(range(start, end + 1))\n",
    "    else:\n",
    "        years = [int(training_year)]\n",
    "\n",
    "    df = df[df[\"year\"].isin(years)].reset_index(drop=True)\n",
    "\n",
    "    # --- map training_size to total number of samples ---\n",
    "    total_map = {\"25k\": 25_000, \"5k\": 5_000, \"1k\": 1_000}\n",
    "    if training_size not in total_map:\n",
    "        return df  # e.g. \"all\"\n",
    "\n",
    "    total_samples = total_map[training_size]\n",
    "    n_years       = len(years)\n",
    "    base          = total_samples // n_years\n",
    "    remainder     = total_samples % n_years\n",
    "\n",
    "    # --- build a dict: year -> how many to sample ---\n",
    "    # give +1 to the first `remainder` years in ascending order\n",
    "    quotas = {\n",
    "        year: base + (1 if idx < remainder else 0)\n",
    "        for idx, year in enumerate(sorted(years))\n",
    "    }\n",
    "\n",
    "    # --- sample per‐year according to the quota dict ---\n",
    "    sampled = (\n",
    "        df\n",
    "        .groupby(\"year\", group_keys=False)\n",
    "        .apply(lambda grp: grp.sample(\n",
    "            n=min(len(grp), quotas[grp.name]),\n",
    "            random_state=random_state))\n",
    "        .reset_index(drop=True)\n",
    "    )\n",
    "\n",
    "    return sampled"
   ]
  },
  {
   "cell_type": "code",
   "execution_count": 15,
   "id": "c0ccd338-0e02-41f3-a09d-f56f9266e3fb",
   "metadata": {
    "execution": {
     "iopub.execute_input": "2025-07-30T13:44:08.947661Z",
     "iopub.status.busy": "2025-07-30T13:44:08.947089Z",
     "iopub.status.idle": "2025-07-30T13:44:08.959071Z",
     "shell.execute_reply": "2025-07-30T13:44:08.958088Z"
    },
    "papermill": {
     "duration": 0.034308,
     "end_time": "2025-07-30T13:44:08.960715",
     "exception": false,
     "start_time": "2025-07-30T13:44:08.926407",
     "status": "completed"
    },
    "tags": []
   },
   "outputs": [
    {
     "data": {
      "text/plain": [
       "'5k'"
      ]
     },
     "execution_count": 15,
     "metadata": {},
     "output_type": "execute_result"
    }
   ],
   "source": [
    "universe[\"training_size\"]"
   ]
  },
  {
   "cell_type": "code",
   "execution_count": 16,
   "id": "ca707fd7-8047-4acd-bfa5-66248fbbf8e6",
   "metadata": {
    "execution": {
     "iopub.execute_input": "2025-07-30T13:44:09.002367Z",
     "iopub.status.busy": "2025-07-30T13:44:09.001446Z",
     "iopub.status.idle": "2025-07-30T13:44:09.008769Z",
     "shell.execute_reply": "2025-07-30T13:44:09.007812Z"
    },
    "papermill": {
     "duration": 0.029426,
     "end_time": "2025-07-30T13:44:09.010293",
     "exception": false,
     "start_time": "2025-07-30T13:44:08.980867",
     "status": "completed"
    },
    "tags": []
   },
   "outputs": [
    {
     "data": {
      "text/plain": [
       "'2014'"
      ]
     },
     "execution_count": 16,
     "metadata": {},
     "output_type": "execute_result"
    }
   ],
   "source": [
    "universe[\"training_year\"]"
   ]
  },
  {
   "cell_type": "code",
   "execution_count": 17,
   "id": "aea9c6ef-6f46-42c8-85eb-5a62025c1508",
   "metadata": {
    "execution": {
     "iopub.execute_input": "2025-07-30T13:44:09.052544Z",
     "iopub.status.busy": "2025-07-30T13:44:09.051661Z",
     "iopub.status.idle": "2025-07-30T13:44:09.280241Z",
     "shell.execute_reply": "2025-07-30T13:44:09.279218Z"
    },
    "papermill": {
     "duration": 0.263183,
     "end_time": "2025-07-30T13:44:09.293918",
     "exception": false,
     "start_time": "2025-07-30T13:44:09.030735",
     "status": "completed"
    },
    "tags": []
   },
   "outputs": [],
   "source": [
    "siab_train = sample_by_year_size(siab,\n",
    "                               training_year=universe[\"training_year\"],\n",
    "                               training_size=universe[\"training_size\"])"
   ]
  },
  {
   "cell_type": "code",
   "execution_count": 18,
   "id": "8d3afb32-789d-442c-8d5d-9f5aa8dd2eed",
   "metadata": {
    "execution": {
     "iopub.execute_input": "2025-07-30T13:44:09.353138Z",
     "iopub.status.busy": "2025-07-30T13:44:09.352175Z",
     "iopub.status.idle": "2025-07-30T13:44:09.359744Z",
     "shell.execute_reply": "2025-07-30T13:44:09.358885Z"
    },
    "papermill": {
     "duration": 0.03911,
     "end_time": "2025-07-30T13:44:09.361802",
     "exception": false,
     "start_time": "2025-07-30T13:44:09.322692",
     "status": "completed"
    },
    "tags": []
   },
   "outputs": [
    {
     "data": {
      "text/plain": [
       "(5000, 164)"
      ]
     },
     "execution_count": 18,
     "metadata": {},
     "output_type": "execute_result"
    }
   ],
   "source": [
    "siab_train.shape"
   ]
  },
  {
   "cell_type": "code",
   "execution_count": 19,
   "id": "d582db68-1a4c-47fb-84fc-08518dc1975a",
   "metadata": {
    "execution": {
     "iopub.execute_input": "2025-07-30T13:44:09.420739Z",
     "iopub.status.busy": "2025-07-30T13:44:09.420050Z",
     "iopub.status.idle": "2025-07-30T13:44:09.431172Z",
     "shell.execute_reply": "2025-07-30T13:44:09.430006Z"
    },
    "papermill": {
     "duration": 0.042664,
     "end_time": "2025-07-30T13:44:09.433254",
     "exception": false,
     "start_time": "2025-07-30T13:44:09.390590",
     "status": "completed"
    },
    "tags": []
   },
   "outputs": [
    {
     "data": {
      "text/plain": [
       "year\n",
       "2014    5000\n",
       "dtype: int64"
      ]
     },
     "metadata": {},
     "output_type": "display_data"
    }
   ],
   "source": [
    "display(siab_train.groupby(\"year\").size())"
   ]
  },
  {
   "cell_type": "code",
   "execution_count": 20,
   "id": "a561edb4-d032-42cb-8256-22eac1111c64",
   "metadata": {
    "execution": {
     "iopub.execute_input": "2025-07-30T13:44:09.492653Z",
     "iopub.status.busy": "2025-07-30T13:44:09.492125Z",
     "iopub.status.idle": "2025-07-30T13:44:09.752413Z",
     "shell.execute_reply": "2025-07-30T13:44:09.751590Z"
    },
    "papermill": {
     "duration": 0.291581,
     "end_time": "2025-07-30T13:44:09.753811",
     "exception": false,
     "start_time": "2025-07-30T13:44:09.462230",
     "status": "completed"
    },
    "tags": []
   },
   "outputs": [],
   "source": [
    "#siab_train = siab_s[siab_s.year < 2015]\n",
    "siab_calib = siab[siab.year == 2015]\n",
    "siab_test = siab[siab.year == 2016]"
   ]
  },
  {
   "cell_type": "code",
   "execution_count": 21,
   "id": "472de16f-c3db-4916-846b-1f0de9cf1746",
   "metadata": {
    "execution": {
     "iopub.execute_input": "2025-07-30T13:44:09.799495Z",
     "iopub.status.busy": "2025-07-30T13:44:09.798928Z",
     "iopub.status.idle": "2025-07-30T13:44:09.817357Z",
     "shell.execute_reply": "2025-07-30T13:44:09.816155Z"
    },
    "papermill": {
     "duration": 0.053245,
     "end_time": "2025-07-30T13:44:09.819470",
     "exception": false,
     "start_time": "2025-07-30T13:44:09.766225",
     "status": "completed"
    },
    "tags": []
   },
   "outputs": [],
   "source": [
    "X_train = siab_train.iloc[:,4:164]\n",
    "y_train = siab_train.iloc[:, [3]]"
   ]
  },
  {
   "cell_type": "code",
   "execution_count": 22,
   "id": "828c96af-f43a-4ed6-ba47-8ac73a47d56c",
   "metadata": {
    "execution": {
     "iopub.execute_input": "2025-07-30T13:44:09.865545Z",
     "iopub.status.busy": "2025-07-30T13:44:09.865039Z",
     "iopub.status.idle": "2025-07-30T13:44:09.914327Z",
     "shell.execute_reply": "2025-07-30T13:44:09.913305Z"
    },
    "papermill": {
     "duration": 0.073403,
     "end_time": "2025-07-30T13:44:09.916063",
     "exception": false,
     "start_time": "2025-07-30T13:44:09.842660",
     "status": "completed"
    },
    "tags": []
   },
   "outputs": [],
   "source": [
    "X_calib = siab_calib.iloc[:,4:164]\n",
    "y_calib = siab_calib.iloc[:, [3]]"
   ]
  },
  {
   "cell_type": "code",
   "execution_count": 23,
   "id": "c34be9c3-6bd6-476e-acd3-845840e303be",
   "metadata": {
    "execution": {
     "iopub.execute_input": "2025-07-30T13:44:09.959251Z",
     "iopub.status.busy": "2025-07-30T13:44:09.958776Z",
     "iopub.status.idle": "2025-07-30T13:44:10.018244Z",
     "shell.execute_reply": "2025-07-30T13:44:10.017246Z"
    },
    "papermill": {
     "duration": 0.082501,
     "end_time": "2025-07-30T13:44:10.019767",
     "exception": false,
     "start_time": "2025-07-30T13:44:09.937266",
     "status": "completed"
    },
    "tags": []
   },
   "outputs": [],
   "source": [
    "X_test = siab_test.iloc[:,4:164]\n",
    "y_true = siab_test.iloc[:, [3]]"
   ]
  },
  {
   "cell_type": "markdown",
   "id": "9901737e-04df-44f0-9100-f5ad144ed040",
   "metadata": {
    "papermill": {
     "duration": 0.019848,
     "end_time": "2025-07-30T13:44:10.061556",
     "exception": false,
     "start_time": "2025-07-30T13:44:10.041708",
     "status": "completed"
    },
    "tags": []
   },
   "source": [
    "# Splitting Data and Setting Training Data Size OLD VERSION"
   ]
  },
  {
   "cell_type": "code",
   "execution_count": 24,
   "id": "acbc8f7d-8fc8-4e86-8c59-5dcb0f58384b",
   "metadata": {
    "execution": {
     "iopub.execute_input": "2025-07-30T13:44:10.103296Z",
     "iopub.status.busy": "2025-07-30T13:44:10.102802Z",
     "iopub.status.idle": "2025-07-30T13:44:10.108188Z",
     "shell.execute_reply": "2025-07-30T13:44:10.107213Z"
    },
    "papermill": {
     "duration": 0.028478,
     "end_time": "2025-07-30T13:44:10.110047",
     "exception": false,
     "start_time": "2025-07-30T13:44:10.081569",
     "status": "completed"
    },
    "tags": []
   },
   "outputs": [],
   "source": [
    "#def sample_by_year(df, training_size, random_state=42):\n",
    "#    if training_size == \"2014\":\n",
    "#        return df[df[\"year\"] == 2014].reset_index(drop=True)\n",
    "#    \n",
    "#    size_map = {\n",
    "#        \"25k\": 5000,\n",
    "#        \"5k\": 1000,\n",
    "#        \"1k\": 200\n",
    "#    }\n",
    "#\n",
    "#    if training_size not in size_map:\n",
    "#        return df.reset_index(drop=True)  # use all data\n",
    "#\n",
    "#    n_per_year = size_map[training_size]\n",
    "#    grouped = df.groupby(\"year\")\n",
    "#    sampled = grouped.apply(lambda x: x.sample(n=min(n_per_year, len(x)), random_state=random_state))\n",
    "#    return sampled.reset_index(drop=True)"
   ]
  },
  {
   "cell_type": "code",
   "execution_count": 25,
   "id": "6d931f52-beaf-43ff-9e78-9d44a448d54e",
   "metadata": {
    "execution": {
     "iopub.execute_input": "2025-07-30T13:44:10.152636Z",
     "iopub.status.busy": "2025-07-30T13:44:10.152279Z",
     "iopub.status.idle": "2025-07-30T13:44:10.157379Z",
     "shell.execute_reply": "2025-07-30T13:44:10.156361Z"
    },
    "papermill": {
     "duration": 0.027671,
     "end_time": "2025-07-30T13:44:10.159131",
     "exception": false,
     "start_time": "2025-07-30T13:44:10.131460",
     "status": "completed"
    },
    "tags": []
   },
   "outputs": [],
   "source": [
    "#siab_s = sample_by_year(siab, universe[\"training_size\"])"
   ]
  },
  {
   "cell_type": "code",
   "execution_count": 26,
   "id": "5db0a40e-a4e2-4920-be85-b12ae061d70d",
   "metadata": {
    "execution": {
     "iopub.execute_input": "2025-07-30T13:44:10.202000Z",
     "iopub.status.busy": "2025-07-30T13:44:10.201524Z",
     "iopub.status.idle": "2025-07-30T13:44:10.206299Z",
     "shell.execute_reply": "2025-07-30T13:44:10.205408Z"
    },
    "papermill": {
     "duration": 0.027084,
     "end_time": "2025-07-30T13:44:10.207762",
     "exception": false,
     "start_time": "2025-07-30T13:44:10.180678",
     "status": "completed"
    },
    "tags": []
   },
   "outputs": [],
   "source": [
    "#display(siab_s.groupby(\"year\").size())"
   ]
  },
  {
   "cell_type": "code",
   "execution_count": 27,
   "id": "e6c733c5",
   "metadata": {
    "execution": {
     "iopub.execute_input": "2025-07-30T13:44:10.251334Z",
     "iopub.status.busy": "2025-07-30T13:44:10.250825Z",
     "iopub.status.idle": "2025-07-30T13:44:10.350595Z",
     "shell.execute_reply": "2025-07-30T13:44:10.349394Z"
    },
    "papermill": {
     "duration": 0.122899,
     "end_time": "2025-07-30T13:44:10.352382",
     "exception": false,
     "start_time": "2025-07-30T13:44:10.229483",
     "status": "completed"
    },
    "tags": []
   },
   "outputs": [],
   "source": [
    "# Auxiliary data needed downstream in the pipeline\n",
    "\n",
    "org_train = X_train.copy()\n",
    "org_test = X_test.copy()\n",
    "org_calib = X_calib.copy()"
   ]
  },
  {
   "cell_type": "code",
   "execution_count": 28,
   "id": "1466abac-c6da-4492-a62f-4240ae3783af",
   "metadata": {
    "execution": {
     "iopub.execute_input": "2025-07-30T13:44:10.398219Z",
     "iopub.status.busy": "2025-07-30T13:44:10.397729Z",
     "iopub.status.idle": "2025-07-30T13:44:10.403868Z",
     "shell.execute_reply": "2025-07-30T13:44:10.402893Z"
    },
    "papermill": {
     "duration": 0.029263,
     "end_time": "2025-07-30T13:44:10.405774",
     "exception": false,
     "start_time": "2025-07-30T13:44:10.376511",
     "status": "completed"
    },
    "tags": []
   },
   "outputs": [],
   "source": [
    "# put in other script?\n",
    "# Group sizes\n",
    "\n",
    "#def calculate_percentages(df, df_name):\n",
    "#    total_entries = len(df)\n",
    "#\n",
    "#    female_pct = (df['frau1'] == 1).mean() * 100\n",
    "#    non_german_pct = ((df['maxdeutsch1'] == 0) & (df['maxdeutsch.Missing.'] == 0)).mean() * 100\n",
    "#    non_german_male_pct = ((df['frau1'] == 0) & (df['maxdeutsch1'] == 0) & (df['maxdeutsch.Missing.'] == 0)).mean() * 100\n",
    "#    non_german_female_pct = ((df['frau1'] == 1) & (df['maxdeutsch1'] == 0) & (df['maxdeutsch.Missing.'] == 0)).mean() * 100\n",
    "#\n",
    "#    print(f\"--- {df_name} ---\")\n",
    "#    print(f\"Female: {female_pct:.2f}%\")\n",
    "#    print(f\"Non-German: {non_german_pct:.2f}%\")\n",
    "#    print(f\"Non-German Male: {non_german_male_pct:.2f}%\")\n",
    "#    print(f\"Non-German Female: {non_german_female_pct:.2f}%\\n\")\n",
    "#\n",
    "## Calculate for each DataFrame\n",
    "#calculate_percentages(siab_calib, \"siab_calib\")\n",
    "#calculate_percentages(siab_test, \"siab_test\")\n",
    "#calculate_percentages(siab_train, \"siab_train\")"
   ]
  },
  {
   "cell_type": "markdown",
   "id": "0a4a1b33",
   "metadata": {
    "papermill": {
     "duration": 0.020052,
     "end_time": "2025-07-30T13:44:10.447459",
     "exception": false,
     "start_time": "2025-07-30T13:44:10.427407",
     "status": "completed"
    },
    "tags": []
   },
   "source": [
    "# Preprocessing Data"
   ]
  },
  {
   "cell_type": "code",
   "execution_count": 29,
   "id": "ca879031",
   "metadata": {
    "execution": {
     "iopub.execute_input": "2025-07-30T13:44:10.489928Z",
     "iopub.status.busy": "2025-07-30T13:44:10.489579Z",
     "iopub.status.idle": "2025-07-30T13:44:10.494578Z",
     "shell.execute_reply": "2025-07-30T13:44:10.493584Z"
    },
    "papermill": {
     "duration": 0.029045,
     "end_time": "2025-07-30T13:44:10.496564",
     "exception": false,
     "start_time": "2025-07-30T13:44:10.467519",
     "status": "completed"
    },
    "tags": []
   },
   "outputs": [],
   "source": [
    "# EXCLUDE PROTECTED FEATURES\n",
    "# ----------------------\n",
    "# \"exclude_features\": \"none\", # \"nationality\", \"sex\", \"nationality-sex\"\n",
    "\n",
    "excluded_features = universe[\"exclude_features\"].split(\"-\") # split, e.g.: \"nationality-sex\" -> [\"nationality\", \"sex\"]\n",
    "excluded_features_dictionary = {\n",
    "    \"nationality\": [\"maxdeutsch1\", \"maxdeutsch.Missing.\"],\n",
    "    \"sex\": [\"frau1\"],\n",
    "    \"age\": [\"age\"],\n",
    "}\n"
   ]
  },
  {
   "cell_type": "code",
   "execution_count": 30,
   "id": "b745ac60",
   "metadata": {
    "execution": {
     "iopub.execute_input": "2025-07-30T13:44:10.539982Z",
     "iopub.status.busy": "2025-07-30T13:44:10.539431Z",
     "iopub.status.idle": "2025-07-30T13:44:10.545467Z",
     "shell.execute_reply": "2025-07-30T13:44:10.544532Z"
    },
    "papermill": {
     "duration": 0.029497,
     "end_time": "2025-07-30T13:44:10.546976",
     "exception": false,
     "start_time": "2025-07-30T13:44:10.517479",
     "status": "completed"
    },
    "tags": []
   },
   "outputs": [],
   "source": [
    "# Code nice names to column names\n",
    "\n",
    "excluded_features_columns = [\n",
    "    excluded_features_dictionary[f] for f in excluded_features if len(f) > 0 and f != \"none\"\n",
    "]"
   ]
  },
  {
   "cell_type": "code",
   "execution_count": 31,
   "id": "f84f73a2",
   "metadata": {
    "execution": {
     "iopub.execute_input": "2025-07-30T13:44:10.590977Z",
     "iopub.status.busy": "2025-07-30T13:44:10.590034Z",
     "iopub.status.idle": "2025-07-30T13:44:10.597095Z",
     "shell.execute_reply": "2025-07-30T13:44:10.595890Z"
    },
    "papermill": {
     "duration": 0.030589,
     "end_time": "2025-07-30T13:44:10.598691",
     "exception": false,
     "start_time": "2025-07-30T13:44:10.568102",
     "status": "completed"
    },
    "tags": []
   },
   "outputs": [],
   "source": [
    "from utils import flatten_once\n",
    "\n",
    "excluded_features_columns = flatten_once(excluded_features_columns)"
   ]
  },
  {
   "cell_type": "code",
   "execution_count": 32,
   "id": "884dea22",
   "metadata": {
    "execution": {
     "iopub.execute_input": "2025-07-30T13:44:10.647853Z",
     "iopub.status.busy": "2025-07-30T13:44:10.647330Z",
     "iopub.status.idle": "2025-07-30T13:44:10.658393Z",
     "shell.execute_reply": "2025-07-30T13:44:10.657304Z"
    },
    "papermill": {
     "duration": 0.038835,
     "end_time": "2025-07-30T13:44:10.660009",
     "exception": false,
     "start_time": "2025-07-30T13:44:10.621174",
     "status": "completed"
    },
    "tags": []
   },
   "outputs": [
    {
     "name": "stdout",
     "output_type": "stream",
     "text": [
      "Dropping features: ['maxdeutsch1', 'maxdeutsch.Missing.']\n"
     ]
    }
   ],
   "source": [
    "if len(excluded_features_columns) > 0:\n",
    "    print(f\"Dropping features: {excluded_features_columns}\")\n",
    "    X_train.drop(excluded_features_columns, axis=1, inplace=True)"
   ]
  },
  {
   "cell_type": "code",
   "execution_count": 33,
   "id": "95ab8b16",
   "metadata": {
    "execution": {
     "iopub.execute_input": "2025-07-30T13:44:10.705251Z",
     "iopub.status.busy": "2025-07-30T13:44:10.704411Z",
     "iopub.status.idle": "2025-07-30T13:44:10.758948Z",
     "shell.execute_reply": "2025-07-30T13:44:10.757907Z"
    },
    "papermill": {
     "duration": 0.078062,
     "end_time": "2025-07-30T13:44:10.760753",
     "exception": false,
     "start_time": "2025-07-30T13:44:10.682691",
     "status": "completed"
    },
    "tags": []
   },
   "outputs": [
    {
     "name": "stdout",
     "output_type": "stream",
     "text": [
      "Dropping features: ['maxdeutsch1', 'maxdeutsch.Missing.']\n"
     ]
    }
   ],
   "source": [
    "if len(excluded_features_columns) > 0:\n",
    "    print(f\"Dropping features: {excluded_features_columns}\")\n",
    "    X_test.drop(excluded_features_columns, axis=1, inplace=True)"
   ]
  },
  {
   "cell_type": "code",
   "execution_count": 34,
   "id": "1853aaf5-fb9f-46cb-a2b5-8ea4ae2237e4",
   "metadata": {
    "execution": {
     "iopub.execute_input": "2025-07-30T13:44:10.809569Z",
     "iopub.status.busy": "2025-07-30T13:44:10.808866Z",
     "iopub.status.idle": "2025-07-30T13:44:10.859630Z",
     "shell.execute_reply": "2025-07-30T13:44:10.858837Z"
    },
    "papermill": {
     "duration": 0.077679,
     "end_time": "2025-07-30T13:44:10.860948",
     "exception": false,
     "start_time": "2025-07-30T13:44:10.783269",
     "status": "completed"
    },
    "tags": []
   },
   "outputs": [
    {
     "name": "stdout",
     "output_type": "stream",
     "text": [
      "Dropping features: ['maxdeutsch1', 'maxdeutsch.Missing.']\n"
     ]
    }
   ],
   "source": [
    "if len(excluded_features_columns) > 0:\n",
    "    print(f\"Dropping features: {excluded_features_columns}\")\n",
    "    X_calib.drop(excluded_features_columns, axis=1, inplace=True)"
   ]
  },
  {
   "cell_type": "code",
   "execution_count": 35,
   "id": "6727d079-03e5-481e-9d38-292a90b7a0a8",
   "metadata": {
    "execution": {
     "iopub.execute_input": "2025-07-30T13:44:10.887357Z",
     "iopub.status.busy": "2025-07-30T13:44:10.886717Z",
     "iopub.status.idle": "2025-07-30T13:44:10.891011Z",
     "shell.execute_reply": "2025-07-30T13:44:10.890357Z"
    },
    "papermill": {
     "duration": 0.018132,
     "end_time": "2025-07-30T13:44:10.892676",
     "exception": false,
     "start_time": "2025-07-30T13:44:10.874544",
     "status": "completed"
    },
    "tags": []
   },
   "outputs": [],
   "source": [
    "# SPLIT & STRATIFY DATA\n",
    "# ----------------------"
   ]
  },
  {
   "cell_type": "code",
   "execution_count": 36,
   "id": "76c4dc6d",
   "metadata": {
    "execution": {
     "iopub.execute_input": "2025-07-30T13:44:10.937638Z",
     "iopub.status.busy": "2025-07-30T13:44:10.937133Z",
     "iopub.status.idle": "2025-07-30T13:44:10.941893Z",
     "shell.execute_reply": "2025-07-30T13:44:10.941146Z"
    },
    "papermill": {
     "duration": 0.028729,
     "end_time": "2025-07-30T13:44:10.943442",
     "exception": false,
     "start_time": "2025-07-30T13:44:10.914713",
     "status": "completed"
    },
    "tags": []
   },
   "outputs": [],
   "source": [
    "# EXCLUDE CERTAIN SUBGROUPS\n",
    "# ----------------------\n",
    "\n",
    "mode = universe.get(\"exclude_subgroups\", \"keep-all\") \n",
    "# Fetches the exclude_subgroups setting from the universe dict.\n",
    "# Defaults to \"keep-all\" if the key is missing."
   ]
  },
  {
   "cell_type": "code",
   "execution_count": 37,
   "id": "21994072",
   "metadata": {
    "execution": {
     "iopub.execute_input": "2025-07-30T13:44:10.987857Z",
     "iopub.status.busy": "2025-07-30T13:44:10.987515Z",
     "iopub.status.idle": "2025-07-30T13:44:10.992557Z",
     "shell.execute_reply": "2025-07-30T13:44:10.991770Z"
    },
    "papermill": {
     "duration": 0.02828,
     "end_time": "2025-07-30T13:44:10.993934",
     "exception": false,
     "start_time": "2025-07-30T13:44:10.965654",
     "status": "completed"
    },
    "tags": []
   },
   "outputs": [],
   "source": [
    "if mode == \"keep-all\":\n",
    "    keep_mask = pd.Series(True, index=org_train.index)\n",
    "\n",
    "# org_train contains the original feature columns from features_org (in Simson)\n",
    "# features_org contains unprocessed features, for me X_train at beginning ???\n",
    "# For keep-all, creates a boolean Series (keep_mask) of all True, so no rows are removed.\n",
    "\n",
    "elif mode == \"drop-non-german\":\n",
    "    keep_mask = org_train[\"maxdeutsch1\"] == 1 # ??? what about missing values?\n",
    "\n",
    "else:\n",
    "    raise ValueError(f\"Unsupported mode for exclude_subgroups: {mode}\")\n"
   ]
  },
  {
   "cell_type": "code",
   "execution_count": 38,
   "id": "71651440",
   "metadata": {
    "execution": {
     "iopub.execute_input": "2025-07-30T13:44:11.037809Z",
     "iopub.status.busy": "2025-07-30T13:44:11.037450Z",
     "iopub.status.idle": "2025-07-30T13:44:11.043255Z",
     "shell.execute_reply": "2025-07-30T13:44:11.042293Z"
    },
    "papermill": {
     "duration": 0.02956,
     "end_time": "2025-07-30T13:44:11.045276",
     "exception": false,
     "start_time": "2025-07-30T13:44:11.015716",
     "status": "completed"
    },
    "tags": []
   },
   "outputs": [],
   "source": [
    "n_drop = (~keep_mask).sum() # Calculates how many rows are set to be dropped\n",
    "if n_drop > 0:\n",
    "    pct = n_drop / len(keep_mask) * 100\n",
    "    print(f\"Dropping {n_drop} rows ({pct:.2f}%) where mode='{mode}'\")"
   ]
  },
  {
   "cell_type": "code",
   "execution_count": 39,
   "id": "5fb8eee5",
   "metadata": {
    "execution": {
     "iopub.execute_input": "2025-07-30T13:44:11.095766Z",
     "iopub.status.busy": "2025-07-30T13:44:11.095307Z",
     "iopub.status.idle": "2025-07-30T13:44:11.102862Z",
     "shell.execute_reply": "2025-07-30T13:44:11.101845Z"
    },
    "papermill": {
     "duration": 0.034587,
     "end_time": "2025-07-30T13:44:11.104584",
     "exception": false,
     "start_time": "2025-07-30T13:44:11.069997",
     "status": "completed"
    },
    "tags": []
   },
   "outputs": [],
   "source": [
    "X_train = X_train[keep_mask]"
   ]
  },
  {
   "cell_type": "code",
   "execution_count": 40,
   "id": "b202bb3a",
   "metadata": {
    "execution": {
     "iopub.execute_input": "2025-07-30T13:44:11.152895Z",
     "iopub.status.busy": "2025-07-30T13:44:11.152449Z",
     "iopub.status.idle": "2025-07-30T13:44:11.158141Z",
     "shell.execute_reply": "2025-07-30T13:44:11.157219Z"
    },
    "papermill": {
     "duration": 0.030672,
     "end_time": "2025-07-30T13:44:11.159767",
     "exception": false,
     "start_time": "2025-07-30T13:44:11.129095",
     "status": "completed"
    },
    "tags": []
   },
   "outputs": [],
   "source": [
    "y_train = y_train[keep_mask]"
   ]
  },
  {
   "cell_type": "markdown",
   "id": "493e2ac3",
   "metadata": {
    "papermill": {
     "duration": 0.018494,
     "end_time": "2025-07-30T13:44:11.202140",
     "exception": false,
     "start_time": "2025-07-30T13:44:11.183646",
     "status": "completed"
    },
    "tags": []
   },
   "source": [
    "# Model Training"
   ]
  },
  {
   "cell_type": "code",
   "execution_count": 41,
   "id": "679e1268",
   "metadata": {
    "execution": {
     "iopub.execute_input": "2025-07-30T13:44:11.231285Z",
     "iopub.status.busy": "2025-07-30T13:44:11.230901Z",
     "iopub.status.idle": "2025-07-30T13:44:11.306733Z",
     "shell.execute_reply": "2025-07-30T13:44:11.306022Z"
    },
    "papermill": {
     "duration": 0.09004,
     "end_time": "2025-07-30T13:44:11.308152",
     "exception": false,
     "start_time": "2025-07-30T13:44:11.218112",
     "status": "completed"
    },
    "tags": []
   },
   "outputs": [],
   "source": [
    "from sklearn.linear_model import LogisticRegression\n",
    "from sklearn.ensemble import GradientBoostingClassifier, RandomForestClassifier\n",
    "\n",
    "if (universe[\"model\"] == \"logreg\"):\n",
    "    model = LogisticRegression() #penalty=\"none\") #, solver=\"newton-cg\", max_iter=1) # include random_state=19 ?\n",
    "elif (universe[\"model\"] == \"penalized_logreg\"):\n",
    "    model = LogisticRegression(penalty=\"l2\", C=1.0) #, solver=\"newton-cg\", max_iter=1)\n",
    "elif (universe[\"model\"] == \"rf\"):\n",
    "    model = RandomForestClassifier(n_estimators=100, n_jobs=-1)\n",
    "elif (universe[\"model\"] == \"gbm\"):\n",
    "    model = GradientBoostingClassifier()\n",
    "elif (universe[\"model\"] == \"elasticnet\"):\n",
    "    model = LogisticRegression(penalty = 'elasticnet', solver = 'saga', l1_ratio = 0.5, max_iter=5000) # which solver to use?\n",
    "else:\n",
    "    raise \"Unsupported universe.model\""
   ]
  },
  {
   "cell_type": "code",
   "execution_count": 42,
   "id": "0cc8f744",
   "metadata": {
    "execution": {
     "iopub.execute_input": "2025-07-30T13:44:11.337227Z",
     "iopub.status.busy": "2025-07-30T13:44:11.336916Z",
     "iopub.status.idle": "2025-07-30T13:44:11.342066Z",
     "shell.execute_reply": "2025-07-30T13:44:11.341114Z"
    },
    "papermill": {
     "duration": 0.024242,
     "end_time": "2025-07-30T13:44:11.345020",
     "exception": false,
     "start_time": "2025-07-30T13:44:11.320778",
     "status": "completed"
    },
    "tags": []
   },
   "outputs": [],
   "source": [
    "import numpy as np\n",
    "from sklearn.pipeline import Pipeline\n",
    "from sklearn.preprocessing import StandardScaler\n",
    "\n",
    "model = Pipeline([\n",
    "    #(\"continuous_processor\", continuous_processor),\n",
    "    #(\"categorical_preprocessor\", categorical_preprocessor),\n",
    "    (\"scale\", StandardScaler() if universe[\"scale\"] == \"scale\" else None), \n",
    "    (\"model\", model),\n",
    "])"
   ]
  },
  {
   "cell_type": "code",
   "execution_count": 43,
   "id": "9442c04d",
   "metadata": {
    "execution": {
     "iopub.execute_input": "2025-07-30T13:44:11.371730Z",
     "iopub.status.busy": "2025-07-30T13:44:11.371092Z",
     "iopub.status.idle": "2025-07-30T13:44:16.529267Z",
     "shell.execute_reply": "2025-07-30T13:44:16.528368Z"
    },
    "papermill": {
     "duration": 5.172546,
     "end_time": "2025-07-30T13:44:16.531024",
     "exception": false,
     "start_time": "2025-07-30T13:44:11.358478",
     "status": "completed"
    },
    "tags": []
   },
   "outputs": [
    {
     "data": {
      "text/html": [
       "<style>#sk-container-id-1 {color: black;background-color: white;}#sk-container-id-1 pre{padding: 0;}#sk-container-id-1 div.sk-toggleable {background-color: white;}#sk-container-id-1 label.sk-toggleable__label {cursor: pointer;display: block;width: 100%;margin-bottom: 0;padding: 0.3em;box-sizing: border-box;text-align: center;}#sk-container-id-1 label.sk-toggleable__label-arrow:before {content: \"▸\";float: left;margin-right: 0.25em;color: #696969;}#sk-container-id-1 label.sk-toggleable__label-arrow:hover:before {color: black;}#sk-container-id-1 div.sk-estimator:hover label.sk-toggleable__label-arrow:before {color: black;}#sk-container-id-1 div.sk-toggleable__content {max-height: 0;max-width: 0;overflow: hidden;text-align: left;background-color: #f0f8ff;}#sk-container-id-1 div.sk-toggleable__content pre {margin: 0.2em;color: black;border-radius: 0.25em;background-color: #f0f8ff;}#sk-container-id-1 input.sk-toggleable__control:checked~div.sk-toggleable__content {max-height: 200px;max-width: 100%;overflow: auto;}#sk-container-id-1 input.sk-toggleable__control:checked~label.sk-toggleable__label-arrow:before {content: \"▾\";}#sk-container-id-1 div.sk-estimator input.sk-toggleable__control:checked~label.sk-toggleable__label {background-color: #d4ebff;}#sk-container-id-1 div.sk-label input.sk-toggleable__control:checked~label.sk-toggleable__label {background-color: #d4ebff;}#sk-container-id-1 input.sk-hidden--visually {border: 0;clip: rect(1px 1px 1px 1px);clip: rect(1px, 1px, 1px, 1px);height: 1px;margin: -1px;overflow: hidden;padding: 0;position: absolute;width: 1px;}#sk-container-id-1 div.sk-estimator {font-family: monospace;background-color: #f0f8ff;border: 1px dotted black;border-radius: 0.25em;box-sizing: border-box;margin-bottom: 0.5em;}#sk-container-id-1 div.sk-estimator:hover {background-color: #d4ebff;}#sk-container-id-1 div.sk-parallel-item::after {content: \"\";width: 100%;border-bottom: 1px solid gray;flex-grow: 1;}#sk-container-id-1 div.sk-label:hover label.sk-toggleable__label {background-color: #d4ebff;}#sk-container-id-1 div.sk-serial::before {content: \"\";position: absolute;border-left: 1px solid gray;box-sizing: border-box;top: 0;bottom: 0;left: 50%;z-index: 0;}#sk-container-id-1 div.sk-serial {display: flex;flex-direction: column;align-items: center;background-color: white;padding-right: 0.2em;padding-left: 0.2em;position: relative;}#sk-container-id-1 div.sk-item {position: relative;z-index: 1;}#sk-container-id-1 div.sk-parallel {display: flex;align-items: stretch;justify-content: center;background-color: white;position: relative;}#sk-container-id-1 div.sk-item::before, #sk-container-id-1 div.sk-parallel-item::before {content: \"\";position: absolute;border-left: 1px solid gray;box-sizing: border-box;top: 0;bottom: 0;left: 50%;z-index: -1;}#sk-container-id-1 div.sk-parallel-item {display: flex;flex-direction: column;z-index: 1;position: relative;background-color: white;}#sk-container-id-1 div.sk-parallel-item:first-child::after {align-self: flex-end;width: 50%;}#sk-container-id-1 div.sk-parallel-item:last-child::after {align-self: flex-start;width: 50%;}#sk-container-id-1 div.sk-parallel-item:only-child::after {width: 0;}#sk-container-id-1 div.sk-dashed-wrapped {border: 1px dashed gray;margin: 0 0.4em 0.5em 0.4em;box-sizing: border-box;padding-bottom: 0.4em;background-color: white;}#sk-container-id-1 div.sk-label label {font-family: monospace;font-weight: bold;display: inline-block;line-height: 1.2em;}#sk-container-id-1 div.sk-label-container {text-align: center;}#sk-container-id-1 div.sk-container {/* jupyter's `normalize.less` sets `[hidden] { display: none; }` but bootstrap.min.css set `[hidden] { display: none !important; }` so we also need the `!important` here to be able to override the default hidden behavior on the sphinx rendered scikit-learn.org. See: https://github.com/scikit-learn/scikit-learn/issues/21755 */display: inline-block !important;position: relative;}#sk-container-id-1 div.sk-text-repr-fallback {display: none;}</style><div id=\"sk-container-id-1\" class=\"sk-top-container\"><div class=\"sk-text-repr-fallback\"><pre>Pipeline(steps=[(&#x27;scale&#x27;, StandardScaler()),\n",
       "                (&#x27;model&#x27;, GradientBoostingClassifier())])</pre><b>In a Jupyter environment, please rerun this cell to show the HTML representation or trust the notebook. <br />On GitHub, the HTML representation is unable to render, please try loading this page with nbviewer.org.</b></div><div class=\"sk-container\" hidden><div class=\"sk-item sk-dashed-wrapped\"><div class=\"sk-label-container\"><div class=\"sk-label sk-toggleable\"><input class=\"sk-toggleable__control sk-hidden--visually\" id=\"sk-estimator-id-1\" type=\"checkbox\" ><label for=\"sk-estimator-id-1\" class=\"sk-toggleable__label sk-toggleable__label-arrow\">Pipeline</label><div class=\"sk-toggleable__content\"><pre>Pipeline(steps=[(&#x27;scale&#x27;, StandardScaler()),\n",
       "                (&#x27;model&#x27;, GradientBoostingClassifier())])</pre></div></div></div><div class=\"sk-serial\"><div class=\"sk-item\"><div class=\"sk-estimator sk-toggleable\"><input class=\"sk-toggleable__control sk-hidden--visually\" id=\"sk-estimator-id-2\" type=\"checkbox\" ><label for=\"sk-estimator-id-2\" class=\"sk-toggleable__label sk-toggleable__label-arrow\">StandardScaler</label><div class=\"sk-toggleable__content\"><pre>StandardScaler()</pre></div></div></div><div class=\"sk-item\"><div class=\"sk-estimator sk-toggleable\"><input class=\"sk-toggleable__control sk-hidden--visually\" id=\"sk-estimator-id-3\" type=\"checkbox\" ><label for=\"sk-estimator-id-3\" class=\"sk-toggleable__label sk-toggleable__label-arrow\">GradientBoostingClassifier</label><div class=\"sk-toggleable__content\"><pre>GradientBoostingClassifier()</pre></div></div></div></div></div></div></div>"
      ],
      "text/plain": [
       "Pipeline(steps=[('scale', StandardScaler()),\n",
       "                ('model', GradientBoostingClassifier())])"
      ]
     },
     "execution_count": 43,
     "metadata": {},
     "output_type": "execute_result"
    }
   ],
   "source": [
    "model.fit(X_train, y_train.values.ravel())"
   ]
  },
  {
   "cell_type": "code",
   "execution_count": 44,
   "id": "af59f8c0",
   "metadata": {
    "execution": {
     "iopub.execute_input": "2025-07-30T13:44:16.582844Z",
     "iopub.status.busy": "2025-07-30T13:44:16.582334Z",
     "iopub.status.idle": "2025-07-30T13:44:16.587754Z",
     "shell.execute_reply": "2025-07-30T13:44:16.586758Z"
    },
    "papermill": {
     "duration": 0.03437,
     "end_time": "2025-07-30T13:44:16.589836",
     "exception": false,
     "start_time": "2025-07-30T13:44:16.555466",
     "status": "completed"
    },
    "tags": []
   },
   "outputs": [],
   "source": [
    "from fairness_multiverse.universe import predict_w_threshold"
   ]
  },
  {
   "cell_type": "code",
   "execution_count": 45,
   "id": "a7cf2e16",
   "metadata": {
    "execution": {
     "iopub.execute_input": "2025-07-30T13:44:16.641564Z",
     "iopub.status.busy": "2025-07-30T13:44:16.640911Z",
     "iopub.status.idle": "2025-07-30T13:44:17.413103Z",
     "shell.execute_reply": "2025-07-30T13:44:17.412246Z"
    },
    "papermill": {
     "duration": 0.799904,
     "end_time": "2025-07-30T13:44:17.414638",
     "exception": false,
     "start_time": "2025-07-30T13:44:16.614734",
     "status": "completed"
    },
    "tags": []
   },
   "outputs": [
    {
     "data": {
      "text/plain": [
       "0.865622561587337"
      ]
     },
     "execution_count": 45,
     "metadata": {},
     "output_type": "execute_result"
    }
   ],
   "source": [
    "probs_test = model.predict_proba(X_test)\n",
    "\n",
    "'''\n",
    "Below code returns a boolean array (or binary 0/1 array depending on how it’s used) where each element \n",
    "is True if the probability of class 1 is greater than or equal to the threshold, and False otherwise.\n",
    "'''\n",
    "y_pred_default = predict_w_threshold(probs_test, 0.5)\n",
    "\n",
    "from sklearn.metrics import accuracy_score\n",
    "\n",
    "# Naive prediction\n",
    "accuracy_score(y_true = y_true, y_pred = y_pred_default)"
   ]
  },
  {
   "cell_type": "code",
   "execution_count": 46,
   "id": "081964c3",
   "metadata": {
    "execution": {
     "iopub.execute_input": "2025-07-30T13:44:17.466005Z",
     "iopub.status.busy": "2025-07-30T13:44:17.465465Z",
     "iopub.status.idle": "2025-07-30T13:44:18.226141Z",
     "shell.execute_reply": "2025-07-30T13:44:18.225306Z"
    },
    "papermill": {
     "duration": 0.788049,
     "end_time": "2025-07-30T13:44:18.227768",
     "exception": false,
     "start_time": "2025-07-30T13:44:17.439719",
     "status": "completed"
    },
    "tags": []
   },
   "outputs": [
    {
     "data": {
      "text/plain": [
       "array([0, 0, 0, ..., 0, 0, 0])"
      ]
     },
     "execution_count": 46,
     "metadata": {},
     "output_type": "execute_result"
    }
   ],
   "source": [
    "model.predict(X_test)"
   ]
  },
  {
   "cell_type": "markdown",
   "id": "56c9705b",
   "metadata": {
    "papermill": {
     "duration": 0.021935,
     "end_time": "2025-07-30T13:44:18.273782",
     "exception": false,
     "start_time": "2025-07-30T13:44:18.251847",
     "status": "completed"
    },
    "tags": []
   },
   "source": [
    "# Conformal Prediction"
   ]
  },
  {
   "cell_type": "code",
   "execution_count": 47,
   "id": "160ec6ff",
   "metadata": {
    "execution": {
     "iopub.execute_input": "2025-07-30T13:44:18.319844Z",
     "iopub.status.busy": "2025-07-30T13:44:18.319361Z",
     "iopub.status.idle": "2025-07-30T13:44:18.324487Z",
     "shell.execute_reply": "2025-07-30T13:44:18.323589Z"
    },
    "papermill": {
     "duration": 0.03034,
     "end_time": "2025-07-30T13:44:18.326041",
     "exception": false,
     "start_time": "2025-07-30T13:44:18.295701",
     "status": "completed"
    },
    "tags": []
   },
   "outputs": [],
   "source": [
    "# Miscoverage level for conformal prediction (10% allowed error rate => 90% target coverage)\n",
    "alpha = 0.1"
   ]
  },
  {
   "cell_type": "code",
   "execution_count": 48,
   "id": "eadf4555-3dd3-440e-8e35-f82a4ad9f855",
   "metadata": {
    "execution": {
     "iopub.execute_input": "2025-07-30T13:44:18.373855Z",
     "iopub.status.busy": "2025-07-30T13:44:18.373087Z",
     "iopub.status.idle": "2025-07-30T13:44:19.115675Z",
     "shell.execute_reply": "2025-07-30T13:44:19.114565Z"
    },
    "papermill": {
     "duration": 0.768939,
     "end_time": "2025-07-30T13:44:19.117712",
     "exception": false,
     "start_time": "2025-07-30T13:44:18.348773",
     "status": "completed"
    },
    "tags": []
   },
   "outputs": [],
   "source": [
    "probs_calib = model.predict_proba(X_calib)"
   ]
  },
  {
   "cell_type": "code",
   "execution_count": 49,
   "id": "2ed93547-6d5d-4983-9b36-1ecb300da49a",
   "metadata": {
    "execution": {
     "iopub.execute_input": "2025-07-30T13:44:19.169790Z",
     "iopub.status.busy": "2025-07-30T13:44:19.169363Z",
     "iopub.status.idle": "2025-07-30T13:44:19.174994Z",
     "shell.execute_reply": "2025-07-30T13:44:19.173966Z"
    },
    "papermill": {
     "duration": 0.033683,
     "end_time": "2025-07-30T13:44:19.176814",
     "exception": false,
     "start_time": "2025-07-30T13:44:19.143131",
     "status": "completed"
    },
    "tags": []
   },
   "outputs": [],
   "source": [
    "y_calib = y_calib.values.ravel().astype(int)"
   ]
  },
  {
   "cell_type": "code",
   "execution_count": 50,
   "id": "65d1320d-f588-4b38-9072-62af1ae97f7d",
   "metadata": {
    "execution": {
     "iopub.execute_input": "2025-07-30T13:44:19.227501Z",
     "iopub.status.busy": "2025-07-30T13:44:19.226601Z",
     "iopub.status.idle": "2025-07-30T13:44:19.235643Z",
     "shell.execute_reply": "2025-07-30T13:44:19.234747Z"
    },
    "papermill": {
     "duration": 0.035932,
     "end_time": "2025-07-30T13:44:19.237398",
     "exception": false,
     "start_time": "2025-07-30T13:44:19.201466",
     "status": "completed"
    },
    "tags": []
   },
   "outputs": [],
   "source": [
    "from fairness_multiverse.conformal import compute_nc_scores\n",
    "\n",
    "# Compute nonconformity scores on calibration set (1 - probability of true class)\n",
    "nc_scores = compute_nc_scores(probs_calib, y_calib)"
   ]
  },
  {
   "cell_type": "code",
   "execution_count": 51,
   "id": "df3b8ca3-53b7-43d5-9667-7c85da7aeda2",
   "metadata": {
    "execution": {
     "iopub.execute_input": "2025-07-30T13:44:19.285658Z",
     "iopub.status.busy": "2025-07-30T13:44:19.285028Z",
     "iopub.status.idle": "2025-07-30T13:44:19.291045Z",
     "shell.execute_reply": "2025-07-30T13:44:19.290253Z"
    },
    "papermill": {
     "duration": 0.030981,
     "end_time": "2025-07-30T13:44:19.292704",
     "exception": false,
     "start_time": "2025-07-30T13:44:19.261723",
     "status": "completed"
    },
    "tags": []
   },
   "outputs": [],
   "source": [
    "from fairness_multiverse.conformal import find_threshold\n",
    "\n",
    "# Find conformal threshold q_hat for the given alpha (split conformal method)\n",
    "q_hat = find_threshold(nc_scores, alpha)"
   ]
  },
  {
   "cell_type": "code",
   "execution_count": 52,
   "id": "4d29e6c1-0ef6-4aa4-b8fe-4fe79b0d033a",
   "metadata": {
    "execution": {
     "iopub.execute_input": "2025-07-30T13:44:19.340838Z",
     "iopub.status.busy": "2025-07-30T13:44:19.340167Z",
     "iopub.status.idle": "2025-07-30T13:44:19.347221Z",
     "shell.execute_reply": "2025-07-30T13:44:19.346330Z"
    },
    "papermill": {
     "duration": 0.03191,
     "end_time": "2025-07-30T13:44:19.348749",
     "exception": false,
     "start_time": "2025-07-30T13:44:19.316839",
     "status": "completed"
    },
    "tags": []
   },
   "outputs": [
    {
     "data": {
      "text/plain": [
       "0.7094070576131477"
      ]
     },
     "execution_count": 52,
     "metadata": {},
     "output_type": "execute_result"
    }
   ],
   "source": [
    "q_hat"
   ]
  },
  {
   "cell_type": "code",
   "execution_count": 53,
   "id": "92460794-cdac-4be2-ba28-f28c0515a6fb",
   "metadata": {
    "execution": {
     "iopub.execute_input": "2025-07-30T13:44:19.398385Z",
     "iopub.status.busy": "2025-07-30T13:44:19.397937Z",
     "iopub.status.idle": "2025-07-30T13:44:20.689430Z",
     "shell.execute_reply": "2025-07-30T13:44:20.688408Z"
    },
    "papermill": {
     "duration": 1.317856,
     "end_time": "2025-07-30T13:44:20.691831",
     "exception": false,
     "start_time": "2025-07-30T13:44:19.373975",
     "status": "completed"
    },
    "tags": []
   },
   "outputs": [],
   "source": [
    "from fairness_multiverse.conformal import predict_conformal_sets\n",
    "\n",
    "# Generate prediction sets for each test example\n",
    "pred_sets = predict_conformal_sets(model, X_test, q_hat)"
   ]
  },
  {
   "cell_type": "code",
   "execution_count": 54,
   "id": "d90c9a65-e6db-4f5d-80cd-e68fb7e46829",
   "metadata": {
    "execution": {
     "iopub.execute_input": "2025-07-30T13:44:20.762748Z",
     "iopub.status.busy": "2025-07-30T13:44:20.762000Z",
     "iopub.status.idle": "2025-07-30T13:44:20.768058Z",
     "shell.execute_reply": "2025-07-30T13:44:20.766877Z"
    },
    "papermill": {
     "duration": 0.043927,
     "end_time": "2025-07-30T13:44:20.770420",
     "exception": false,
     "start_time": "2025-07-30T13:44:20.726493",
     "status": "completed"
    },
    "tags": []
   },
   "outputs": [],
   "source": [
    "y_true = y_true.squeeze()"
   ]
  },
  {
   "cell_type": "code",
   "execution_count": 55,
   "id": "3a58a54a-1e68-46b9-927a-df01f18aebc8",
   "metadata": {
    "execution": {
     "iopub.execute_input": "2025-07-30T13:44:20.830004Z",
     "iopub.status.busy": "2025-07-30T13:44:20.829358Z",
     "iopub.status.idle": "2025-07-30T13:44:21.706139Z",
     "shell.execute_reply": "2025-07-30T13:44:21.705265Z"
    },
    "papermill": {
     "duration": 0.903275,
     "end_time": "2025-07-30T13:44:21.707919",
     "exception": false,
     "start_time": "2025-07-30T13:44:20.804644",
     "status": "completed"
    },
    "tags": []
   },
   "outputs": [],
   "source": [
    "from fairness_multiverse.conformal import evaluate_sets\n",
    "\n",
    "# Evaluate coverage and average set size on test data\n",
    "metrics = evaluate_sets(pred_sets, y_true)"
   ]
  },
  {
   "cell_type": "markdown",
   "id": "2b569c12-9aaa-4c88-98c9-bbcd0cf3ebb8",
   "metadata": {
    "papermill": {
     "duration": 0.025103,
     "end_time": "2025-07-30T13:44:21.757796",
     "exception": false,
     "start_time": "2025-07-30T13:44:21.732693",
     "status": "completed"
    },
    "tags": []
   },
   "source": [
    "# CP Metrics"
   ]
  },
  {
   "cell_type": "code",
   "execution_count": 56,
   "id": "5ce0a5cb-201f-45a0-ade5-94c7f0bd6095",
   "metadata": {
    "execution": {
     "iopub.execute_input": "2025-07-30T13:44:21.811160Z",
     "iopub.status.busy": "2025-07-30T13:44:21.810513Z",
     "iopub.status.idle": "2025-07-30T13:44:21.817646Z",
     "shell.execute_reply": "2025-07-30T13:44:21.816628Z"
    },
    "papermill": {
     "duration": 0.034732,
     "end_time": "2025-07-30T13:44:21.819279",
     "exception": false,
     "start_time": "2025-07-30T13:44:21.784547",
     "status": "completed"
    },
    "tags": []
   },
   "outputs": [
    {
     "data": {
      "text/plain": [
       "{'coverage': 0.9116263515773046, 'avg_size': 1.1283023074350687}"
      ]
     },
     "execution_count": 56,
     "metadata": {},
     "output_type": "execute_result"
    }
   ],
   "source": [
    "metrics"
   ]
  },
  {
   "cell_type": "code",
   "execution_count": 57,
   "id": "9b9a838d-31c9-430b-ae14-12baee460d17",
   "metadata": {
    "execution": {
     "iopub.execute_input": "2025-07-30T13:44:21.878285Z",
     "iopub.status.busy": "2025-07-30T13:44:21.877609Z",
     "iopub.status.idle": "2025-07-30T13:44:21.883932Z",
     "shell.execute_reply": "2025-07-30T13:44:21.883090Z"
    },
    "papermill": {
     "duration": 0.039332,
     "end_time": "2025-07-30T13:44:21.885410",
     "exception": false,
     "start_time": "2025-07-30T13:44:21.846078",
     "status": "completed"
    },
    "tags": []
   },
   "outputs": [],
   "source": [
    "example_universe = universe.copy()\n",
    "universe_training_size = example_universe.get(\"training_size\")\n",
    "universe_scale = example_universe.get(\"scale\")\n",
    "universe_model = example_universe.get(\"model\")\n",
    "universe_exclude_features = example_universe.get(\"exclude_features\")\n",
    "universe_exclude_subgroups = example_universe.get(\"exclude_subgroups\")"
   ]
  },
  {
   "cell_type": "code",
   "execution_count": 58,
   "id": "f4b6a8ac-9dc0-4245-8a91-5b3b5999c4f9",
   "metadata": {
    "execution": {
     "iopub.execute_input": "2025-07-30T13:44:21.937600Z",
     "iopub.status.busy": "2025-07-30T13:44:21.936949Z",
     "iopub.status.idle": "2025-07-30T13:44:21.942997Z",
     "shell.execute_reply": "2025-07-30T13:44:21.942147Z"
    },
    "papermill": {
     "duration": 0.033043,
     "end_time": "2025-07-30T13:44:21.944554",
     "exception": false,
     "start_time": "2025-07-30T13:44:21.911511",
     "status": "completed"
    },
    "tags": []
   },
   "outputs": [],
   "source": [
    "cp_metrics_dict = {\n",
    "    \"universe_id\": [universe_id],\n",
    "    \"universe_training_size\": [universe_training_size],\n",
    "    \"universe_scale\": [universe_scale],\n",
    "    \"universe_model\": [universe_model],\n",
    "    \"universe_exclude_features\": [universe_exclude_features],\n",
    "    \"universe_exclude_subgroups\": [universe_exclude_subgroups],\n",
    "    \"q_hat\": [q_hat],\n",
    "    \"coverage\": [metrics[\"coverage\"]],\n",
    "    \"avg_size\": [metrics[\"avg_size\"]],\n",
    "}"
   ]
  },
  {
   "cell_type": "code",
   "execution_count": 59,
   "id": "908acbb1-0371-4915-85ca-3fa520d2efe2",
   "metadata": {
    "execution": {
     "iopub.execute_input": "2025-07-30T13:44:22.005197Z",
     "iopub.status.busy": "2025-07-30T13:44:22.004809Z",
     "iopub.status.idle": "2025-07-30T13:44:22.012164Z",
     "shell.execute_reply": "2025-07-30T13:44:22.011417Z"
    },
    "papermill": {
     "duration": 0.041709,
     "end_time": "2025-07-30T13:44:22.013498",
     "exception": false,
     "start_time": "2025-07-30T13:44:21.971789",
     "status": "completed"
    },
    "tags": []
   },
   "outputs": [
    {
     "data": {
      "text/plain": [
       "{'universe_id': ['ff4ce1e8ccdca8471a72f178df8c072b'],\n",
       " 'universe_training_size': ['5k'],\n",
       " 'universe_scale': ['scale'],\n",
       " 'universe_model': ['gbm'],\n",
       " 'universe_exclude_features': ['nationality'],\n",
       " 'universe_exclude_subgroups': ['keep-all'],\n",
       " 'q_hat': [0.7094070576131477],\n",
       " 'coverage': [0.9116263515773046],\n",
       " 'avg_size': [1.1283023074350687]}"
      ]
     },
     "execution_count": 59,
     "metadata": {},
     "output_type": "execute_result"
    }
   ],
   "source": [
    "cp_metrics_dict"
   ]
  },
  {
   "cell_type": "code",
   "execution_count": 60,
   "id": "33007efc-14e9-4ec6-97ac-56a455c82265",
   "metadata": {
    "execution": {
     "iopub.execute_input": "2025-07-30T13:44:22.041869Z",
     "iopub.status.busy": "2025-07-30T13:44:22.041354Z",
     "iopub.status.idle": "2025-07-30T13:44:22.046534Z",
     "shell.execute_reply": "2025-07-30T13:44:22.045747Z"
    },
    "papermill": {
     "duration": 0.020183,
     "end_time": "2025-07-30T13:44:22.047690",
     "exception": false,
     "start_time": "2025-07-30T13:44:22.027507",
     "status": "completed"
    },
    "tags": []
   },
   "outputs": [],
   "source": [
    "cp_metrics_df = pd.DataFrame(cp_metrics_dict)"
   ]
  },
  {
   "cell_type": "code",
   "execution_count": 61,
   "id": "db12611b-57b2-4910-b9d0-355adfd6e7bf",
   "metadata": {
    "execution": {
     "iopub.execute_input": "2025-07-30T13:44:22.075768Z",
     "iopub.status.busy": "2025-07-30T13:44:22.075252Z",
     "iopub.status.idle": "2025-07-30T13:44:22.089043Z",
     "shell.execute_reply": "2025-07-30T13:44:22.088055Z"
    },
    "papermill": {
     "duration": 0.028889,
     "end_time": "2025-07-30T13:44:22.090645",
     "exception": false,
     "start_time": "2025-07-30T13:44:22.061756",
     "status": "completed"
    },
    "tags": []
   },
   "outputs": [
    {
     "data": {
      "text/html": [
       "<div>\n",
       "<style scoped>\n",
       "    .dataframe tbody tr th:only-of-type {\n",
       "        vertical-align: middle;\n",
       "    }\n",
       "\n",
       "    .dataframe tbody tr th {\n",
       "        vertical-align: top;\n",
       "    }\n",
       "\n",
       "    .dataframe thead th {\n",
       "        text-align: right;\n",
       "    }\n",
       "</style>\n",
       "<table border=\"1\" class=\"dataframe\">\n",
       "  <thead>\n",
       "    <tr style=\"text-align: right;\">\n",
       "      <th></th>\n",
       "      <th>universe_id</th>\n",
       "      <th>universe_training_size</th>\n",
       "      <th>universe_scale</th>\n",
       "      <th>universe_model</th>\n",
       "      <th>universe_exclude_features</th>\n",
       "      <th>universe_exclude_subgroups</th>\n",
       "      <th>q_hat</th>\n",
       "      <th>coverage</th>\n",
       "      <th>avg_size</th>\n",
       "    </tr>\n",
       "  </thead>\n",
       "  <tbody>\n",
       "    <tr>\n",
       "      <th>0</th>\n",
       "      <td>ff4ce1e8ccdca8471a72f178df8c072b</td>\n",
       "      <td>5k</td>\n",
       "      <td>scale</td>\n",
       "      <td>gbm</td>\n",
       "      <td>nationality</td>\n",
       "      <td>keep-all</td>\n",
       "      <td>0.709407</td>\n",
       "      <td>0.911626</td>\n",
       "      <td>1.128302</td>\n",
       "    </tr>\n",
       "  </tbody>\n",
       "</table>\n",
       "</div>"
      ],
      "text/plain": [
       "                        universe_id universe_training_size universe_scale  \\\n",
       "0  ff4ce1e8ccdca8471a72f178df8c072b                     5k          scale   \n",
       "\n",
       "  universe_model universe_exclude_features universe_exclude_subgroups  \\\n",
       "0            gbm               nationality                   keep-all   \n",
       "\n",
       "      q_hat  coverage  avg_size  \n",
       "0  0.709407  0.911626  1.128302  "
      ]
     },
     "execution_count": 61,
     "metadata": {},
     "output_type": "execute_result"
    }
   ],
   "source": [
    "cp_metrics_df"
   ]
  },
  {
   "cell_type": "code",
   "execution_count": 62,
   "id": "b7fbde55-a0a1-47e4-9af6-fe4a17fa8c61",
   "metadata": {
    "execution": {
     "iopub.execute_input": "2025-07-30T13:44:22.141309Z",
     "iopub.status.busy": "2025-07-30T13:44:22.140318Z",
     "iopub.status.idle": "2025-07-30T13:44:22.146239Z",
     "shell.execute_reply": "2025-07-30T13:44:22.145189Z"
    },
    "papermill": {
     "duration": 0.03302,
     "end_time": "2025-07-30T13:44:22.147702",
     "exception": false,
     "start_time": "2025-07-30T13:44:22.114682",
     "status": "completed"
    },
    "tags": []
   },
   "outputs": [],
   "source": [
    "# Conditional Coverage & looking at subgroups"
   ]
  },
  {
   "cell_type": "code",
   "execution_count": 63,
   "id": "027ae886-68dd-4141-96c7-805a5450e1ef",
   "metadata": {
    "execution": {
     "iopub.execute_input": "2025-07-30T13:44:22.199425Z",
     "iopub.status.busy": "2025-07-30T13:44:22.198882Z",
     "iopub.status.idle": "2025-07-30T13:44:22.486915Z",
     "shell.execute_reply": "2025-07-30T13:44:22.485930Z"
    },
    "papermill": {
     "duration": 0.316059,
     "end_time": "2025-07-30T13:44:22.488940",
     "exception": false,
     "start_time": "2025-07-30T13:44:22.172881",
     "status": "completed"
    },
    "tags": []
   },
   "outputs": [],
   "source": [
    "from fairness_multiverse.conformal import build_cp_groups\n",
    "\n",
    "cp_groups_df = build_cp_groups(pred_sets, y_true, X_test.index, org_test)\n",
    "#needs universe_id and setting"
   ]
  },
  {
   "cell_type": "code",
   "execution_count": 64,
   "id": "01d5802c-663a-4d1f-9d69-e036faaffbf7",
   "metadata": {
    "execution": {
     "iopub.execute_input": "2025-07-30T13:44:22.544860Z",
     "iopub.status.busy": "2025-07-30T13:44:22.544130Z",
     "iopub.status.idle": "2025-07-30T13:44:22.549045Z",
     "shell.execute_reply": "2025-07-30T13:44:22.548121Z"
    },
    "papermill": {
     "duration": 0.034893,
     "end_time": "2025-07-30T13:44:22.550975",
     "exception": false,
     "start_time": "2025-07-30T13:44:22.516082",
     "status": "completed"
    },
    "tags": []
   },
   "outputs": [],
   "source": [
    "#delete\n",
    "#cp_groups_df"
   ]
  },
  {
   "cell_type": "code",
   "execution_count": 65,
   "id": "fa424af1-d1eb-443d-b717-2d279ada8408",
   "metadata": {
    "execution": {
     "iopub.execute_input": "2025-07-30T13:44:22.608916Z",
     "iopub.status.busy": "2025-07-30T13:44:22.608440Z",
     "iopub.status.idle": "2025-07-30T13:44:22.613363Z",
     "shell.execute_reply": "2025-07-30T13:44:22.612404Z"
    },
    "papermill": {
     "duration": 0.036676,
     "end_time": "2025-07-30T13:44:22.615036",
     "exception": false,
     "start_time": "2025-07-30T13:44:22.578360",
     "status": "completed"
    },
    "tags": []
   },
   "outputs": [],
   "source": [
    "#delete\n",
    "#percentage = (cp_groups_df['nongerman_female'] == 1).mean() * 100\n",
    "#print(percentage)\n"
   ]
  },
  {
   "cell_type": "code",
   "execution_count": 66,
   "id": "6cbdab96-b2b2-45af-ad54-d0516db2e28d",
   "metadata": {
    "execution": {
     "iopub.execute_input": "2025-07-30T13:44:22.671931Z",
     "iopub.status.busy": "2025-07-30T13:44:22.671464Z",
     "iopub.status.idle": "2025-07-30T13:44:24.172236Z",
     "shell.execute_reply": "2025-07-30T13:44:24.171379Z"
    },
    "papermill": {
     "duration": 1.531092,
     "end_time": "2025-07-30T13:44:24.174109",
     "exception": false,
     "start_time": "2025-07-30T13:44:22.643017",
     "status": "completed"
    },
    "tags": []
   },
   "outputs": [],
   "source": [
    "# Define covered = 1 if true_label is in the predicted set\n",
    "cp_groups_df['covered'] = cp_groups_df.apply(\n",
    "    lambda r: int(r['true_label'] in r['pred_set']),\n",
    "    axis=1\n",
    ")"
   ]
  },
  {
   "cell_type": "code",
   "execution_count": 67,
   "id": "338ff529-1a6b-4b87-a931-8e4788d52aad",
   "metadata": {
    "execution": {
     "iopub.execute_input": "2025-07-30T13:44:24.226664Z",
     "iopub.status.busy": "2025-07-30T13:44:24.226023Z",
     "iopub.status.idle": "2025-07-30T13:44:24.230998Z",
     "shell.execute_reply": "2025-07-30T13:44:24.230078Z"
    },
    "papermill": {
     "duration": 0.031924,
     "end_time": "2025-07-30T13:44:24.232483",
     "exception": false,
     "start_time": "2025-07-30T13:44:24.200559",
     "status": "completed"
    },
    "tags": []
   },
   "outputs": [],
   "source": [
    "#cp_groups_df"
   ]
  },
  {
   "cell_type": "code",
   "execution_count": 68,
   "id": "90032e27-66df-4540-9169-4e89cfbaa758",
   "metadata": {
    "execution": {
     "iopub.execute_input": "2025-07-30T13:44:24.283836Z",
     "iopub.status.busy": "2025-07-30T13:44:24.283200Z",
     "iopub.status.idle": "2025-07-30T13:44:24.295330Z",
     "shell.execute_reply": "2025-07-30T13:44:24.294365Z"
    },
    "papermill": {
     "duration": 0.039395,
     "end_time": "2025-07-30T13:44:24.297083",
     "exception": false,
     "start_time": "2025-07-30T13:44:24.257688",
     "status": "completed"
    },
    "tags": []
   },
   "outputs": [],
   "source": [
    "subgroups = ['frau1','nongerman','nongerman_male','nongerman_female']\n",
    "\n",
    "# Conditional coverage for subgroup==1\n",
    "cond_coverage = {\n",
    "    g: cp_groups_df.loc[cp_groups_df[g]==1, 'covered'].mean()\n",
    "    for g in subgroups\n",
    "}"
   ]
  },
  {
   "cell_type": "code",
   "execution_count": 69,
   "id": "1e348fb1-b9c3-45bc-ba23-f016827a7e0d",
   "metadata": {
    "execution": {
     "iopub.execute_input": "2025-07-30T13:44:24.347718Z",
     "iopub.status.busy": "2025-07-30T13:44:24.347079Z",
     "iopub.status.idle": "2025-07-30T13:44:24.354037Z",
     "shell.execute_reply": "2025-07-30T13:44:24.353203Z"
    },
    "papermill": {
     "duration": 0.033821,
     "end_time": "2025-07-30T13:44:24.355597",
     "exception": false,
     "start_time": "2025-07-30T13:44:24.321776",
     "status": "completed"
    },
    "tags": []
   },
   "outputs": [
    {
     "data": {
      "text/plain": [
       "{'frau1': 0.9083973581345195,\n",
       " 'nongerman': 0.9100656823668107,\n",
       " 'nongerman_male': 0.9265964153832298,\n",
       " 'nongerman_female': 0.8827123695976155}"
      ]
     },
     "execution_count": 69,
     "metadata": {},
     "output_type": "execute_result"
    }
   ],
   "source": [
    "cond_coverage"
   ]
  },
  {
   "cell_type": "code",
   "execution_count": 70,
   "id": "f5093324-c3dd-4d63-bc4c-8d945e5c8bbb",
   "metadata": {
    "execution": {
     "iopub.execute_input": "2025-07-30T13:44:24.407415Z",
     "iopub.status.busy": "2025-07-30T13:44:24.406951Z",
     "iopub.status.idle": "2025-07-30T13:44:24.414462Z",
     "shell.execute_reply": "2025-07-30T13:44:24.413504Z"
    },
    "papermill": {
     "duration": 0.034947,
     "end_time": "2025-07-30T13:44:24.416216",
     "exception": false,
     "start_time": "2025-07-30T13:44:24.381269",
     "status": "completed"
    },
    "tags": []
   },
   "outputs": [],
   "source": [
    "for subgroup, cov in cond_coverage.items():\n",
    "    cp_metrics_df[f\"cov_{subgroup}\"] = cov"
   ]
  },
  {
   "cell_type": "code",
   "execution_count": 71,
   "id": "6e872e10-dbe5-49e8-b554-5030c98ff75d",
   "metadata": {
    "execution": {
     "iopub.execute_input": "2025-07-30T13:44:24.468422Z",
     "iopub.status.busy": "2025-07-30T13:44:24.467734Z",
     "iopub.status.idle": "2025-07-30T13:44:24.485396Z",
     "shell.execute_reply": "2025-07-30T13:44:24.484440Z"
    },
    "papermill": {
     "duration": 0.045117,
     "end_time": "2025-07-30T13:44:24.486957",
     "exception": false,
     "start_time": "2025-07-30T13:44:24.441840",
     "status": "completed"
    },
    "tags": []
   },
   "outputs": [
    {
     "data": {
      "text/html": [
       "<div>\n",
       "<style scoped>\n",
       "    .dataframe tbody tr th:only-of-type {\n",
       "        vertical-align: middle;\n",
       "    }\n",
       "\n",
       "    .dataframe tbody tr th {\n",
       "        vertical-align: top;\n",
       "    }\n",
       "\n",
       "    .dataframe thead th {\n",
       "        text-align: right;\n",
       "    }\n",
       "</style>\n",
       "<table border=\"1\" class=\"dataframe\">\n",
       "  <thead>\n",
       "    <tr style=\"text-align: right;\">\n",
       "      <th></th>\n",
       "      <th>universe_id</th>\n",
       "      <th>universe_training_size</th>\n",
       "      <th>universe_scale</th>\n",
       "      <th>universe_model</th>\n",
       "      <th>universe_exclude_features</th>\n",
       "      <th>universe_exclude_subgroups</th>\n",
       "      <th>q_hat</th>\n",
       "      <th>coverage</th>\n",
       "      <th>avg_size</th>\n",
       "      <th>cov_frau1</th>\n",
       "      <th>cov_nongerman</th>\n",
       "      <th>cov_nongerman_male</th>\n",
       "      <th>cov_nongerman_female</th>\n",
       "    </tr>\n",
       "  </thead>\n",
       "  <tbody>\n",
       "    <tr>\n",
       "      <th>0</th>\n",
       "      <td>ff4ce1e8ccdca8471a72f178df8c072b</td>\n",
       "      <td>5k</td>\n",
       "      <td>scale</td>\n",
       "      <td>gbm</td>\n",
       "      <td>nationality</td>\n",
       "      <td>keep-all</td>\n",
       "      <td>0.709407</td>\n",
       "      <td>0.911626</td>\n",
       "      <td>1.128302</td>\n",
       "      <td>0.908397</td>\n",
       "      <td>0.910066</td>\n",
       "      <td>0.926596</td>\n",
       "      <td>0.882712</td>\n",
       "    </tr>\n",
       "  </tbody>\n",
       "</table>\n",
       "</div>"
      ],
      "text/plain": [
       "                        universe_id universe_training_size universe_scale  \\\n",
       "0  ff4ce1e8ccdca8471a72f178df8c072b                     5k          scale   \n",
       "\n",
       "  universe_model universe_exclude_features universe_exclude_subgroups  \\\n",
       "0            gbm               nationality                   keep-all   \n",
       "\n",
       "      q_hat  coverage  avg_size  cov_frau1  cov_nongerman  cov_nongerman_male  \\\n",
       "0  0.709407  0.911626  1.128302   0.908397       0.910066            0.926596   \n",
       "\n",
       "   cov_nongerman_female  \n",
       "0              0.882712  "
      ]
     },
     "execution_count": 71,
     "metadata": {},
     "output_type": "execute_result"
    }
   ],
   "source": [
    "cp_metrics_df"
   ]
  },
  {
   "cell_type": "markdown",
   "id": "33774451",
   "metadata": {
    "papermill": {
     "duration": 0.024842,
     "end_time": "2025-07-30T13:44:24.537295",
     "exception": false,
     "start_time": "2025-07-30T13:44:24.512453",
     "status": "completed"
    },
    "tags": []
   },
   "source": [
    "# (Fairness) Metrics"
   ]
  },
  {
   "cell_type": "code",
   "execution_count": 72,
   "id": "debc5d62",
   "metadata": {
    "execution": {
     "iopub.execute_input": "2025-07-30T13:44:24.588823Z",
     "iopub.status.busy": "2025-07-30T13:44:24.587963Z",
     "iopub.status.idle": "2025-07-30T13:44:24.610204Z",
     "shell.execute_reply": "2025-07-30T13:44:24.609164Z"
    },
    "papermill": {
     "duration": 0.05052,
     "end_time": "2025-07-30T13:44:24.612680",
     "exception": false,
     "start_time": "2025-07-30T13:44:24.562160",
     "status": "completed"
    },
    "tags": []
   },
   "outputs": [],
   "source": [
    "# do I need to include maxdeutsch1.missing?\n",
    "\n",
    "import numpy as np\n",
    "\n",
    "colname_to_bin = \"maxdeutsch1\"\n",
    "majority_value = org_train[colname_to_bin].mode()[0]\n",
    "\n",
    "org_test[\"majmin\"] = np.where(org_test[colname_to_bin] == majority_value, \"majority\", \"minority\")"
   ]
  },
  {
   "cell_type": "code",
   "execution_count": 73,
   "id": "06a50de5",
   "metadata": {
    "execution": {
     "iopub.execute_input": "2025-07-30T13:44:24.667907Z",
     "iopub.status.busy": "2025-07-30T13:44:24.667251Z",
     "iopub.status.idle": "2025-07-30T13:44:27.480064Z",
     "shell.execute_reply": "2025-07-30T13:44:27.479095Z"
    },
    "papermill": {
     "duration": 2.841246,
     "end_time": "2025-07-30T13:44:27.482107",
     "exception": false,
     "start_time": "2025-07-30T13:44:24.640861",
     "status": "completed"
    },
    "tags": []
   },
   "outputs": [],
   "source": [
    "example_universe = universe.copy()\n",
    "example_universe[\"cutoff\"] = example_universe[\"cutoff\"][0]\n",
    "example_universe[\"eval_fairness_grouping\"] = example_universe[\"eval_fairness_grouping\"][0]\n",
    "fairness_dict, metric_frame = universe_analysis.compute_metrics(\n",
    "    example_universe,\n",
    "    y_pred_prob=probs_test,\n",
    "    y_test=y_true,\n",
    "    org_test=org_test,\n",
    ")"
   ]
  },
  {
   "cell_type": "markdown",
   "id": "f95d4e02",
   "metadata": {
    "papermill": {
     "duration": 0.030089,
     "end_time": "2025-07-30T13:44:27.545989",
     "exception": false,
     "start_time": "2025-07-30T13:44:27.515900",
     "status": "completed"
    },
    "tags": []
   },
   "source": [
    "# Overall"
   ]
  },
  {
   "cell_type": "markdown",
   "id": "bdee4871",
   "metadata": {
    "papermill": {
     "duration": 0.029293,
     "end_time": "2025-07-30T13:44:27.605654",
     "exception": false,
     "start_time": "2025-07-30T13:44:27.576361",
     "status": "completed"
    },
    "tags": []
   },
   "source": [
    "Fairness\n",
    "Main fairness target: Equalized Odds. Seems to be a better fit than equal opportunity, since we're not only interested in Y = 1. Seems to be a better fit than demographic parity, since we also care about accuracy, not just equal distribution of preds.\n",
    "\n",
    "Pick column for computation of fairness metrics\n",
    "\n",
    "Performance\n",
    "Overall performance measures, most interesting in relation to the measures split by group below"
   ]
  },
  {
   "cell_type": "code",
   "execution_count": 74,
   "id": "c4e067c6",
   "metadata": {
    "execution": {
     "iopub.execute_input": "2025-07-30T13:44:27.666367Z",
     "iopub.status.busy": "2025-07-30T13:44:27.665842Z",
     "iopub.status.idle": "2025-07-30T13:44:27.674360Z",
     "shell.execute_reply": "2025-07-30T13:44:27.673443Z"
    },
    "papermill": {
     "duration": 0.040983,
     "end_time": "2025-07-30T13:44:27.675975",
     "exception": false,
     "start_time": "2025-07-30T13:44:27.634992",
     "status": "completed"
    },
    "tags": []
   },
   "outputs": [
    {
     "data": {
      "text/plain": [
       "accuracy                   0.224891\n",
       "balanced accuracy          0.549782\n",
       "f1                         0.246209\n",
       "precision                  0.140651\n",
       "false positive rate        0.887228\n",
       "false negative rate        0.013208\n",
       "selection rate             0.900000\n",
       "count                  89710.000000\n",
       "dtype: float64"
      ]
     },
     "execution_count": 74,
     "metadata": {},
     "output_type": "execute_result"
    }
   ],
   "source": [
    "metric_frame.overall"
   ]
  },
  {
   "cell_type": "markdown",
   "id": "e968fe9d",
   "metadata": {
    "papermill": {
     "duration": 0.030501,
     "end_time": "2025-07-30T13:44:27.736929",
     "exception": false,
     "start_time": "2025-07-30T13:44:27.706428",
     "status": "completed"
    },
    "tags": []
   },
   "source": [
    "By Group"
   ]
  },
  {
   "cell_type": "code",
   "execution_count": 75,
   "id": "ec325bce",
   "metadata": {
    "execution": {
     "iopub.execute_input": "2025-07-30T13:44:27.798751Z",
     "iopub.status.busy": "2025-07-30T13:44:27.798290Z",
     "iopub.status.idle": "2025-07-30T13:44:27.813595Z",
     "shell.execute_reply": "2025-07-30T13:44:27.812708Z"
    },
    "papermill": {
     "duration": 0.048795,
     "end_time": "2025-07-30T13:44:27.815046",
     "exception": false,
     "start_time": "2025-07-30T13:44:27.766251",
     "status": "completed"
    },
    "tags": []
   },
   "outputs": [
    {
     "data": {
      "text/html": [
       "<div>\n",
       "<style scoped>\n",
       "    .dataframe tbody tr th:only-of-type {\n",
       "        vertical-align: middle;\n",
       "    }\n",
       "\n",
       "    .dataframe tbody tr th {\n",
       "        vertical-align: top;\n",
       "    }\n",
       "\n",
       "    .dataframe thead th {\n",
       "        text-align: right;\n",
       "    }\n",
       "</style>\n",
       "<table border=\"1\" class=\"dataframe\">\n",
       "  <thead>\n",
       "    <tr style=\"text-align: right;\">\n",
       "      <th></th>\n",
       "      <th>accuracy</th>\n",
       "      <th>balanced accuracy</th>\n",
       "      <th>f1</th>\n",
       "      <th>precision</th>\n",
       "      <th>false positive rate</th>\n",
       "      <th>false negative rate</th>\n",
       "      <th>selection rate</th>\n",
       "      <th>count</th>\n",
       "    </tr>\n",
       "    <tr>\n",
       "      <th>majmin</th>\n",
       "      <th></th>\n",
       "      <th></th>\n",
       "      <th></th>\n",
       "      <th></th>\n",
       "      <th></th>\n",
       "      <th></th>\n",
       "      <th></th>\n",
       "      <th></th>\n",
       "    </tr>\n",
       "  </thead>\n",
       "  <tbody>\n",
       "    <tr>\n",
       "      <th>majority</th>\n",
       "      <td>0.246523</td>\n",
       "      <td>0.559315</td>\n",
       "      <td>0.256668</td>\n",
       "      <td>0.147571</td>\n",
       "      <td>0.865834</td>\n",
       "      <td>0.015536</td>\n",
       "      <td>0.881509</td>\n",
       "      <td>69170.0</td>\n",
       "    </tr>\n",
       "    <tr>\n",
       "      <th>minority</th>\n",
       "      <td>0.152045</td>\n",
       "      <td>0.518937</td>\n",
       "      <td>0.213075</td>\n",
       "      <td>0.119302</td>\n",
       "      <td>0.957902</td>\n",
       "      <td>0.004223</td>\n",
       "      <td>0.962269</td>\n",
       "      <td>20540.0</td>\n",
       "    </tr>\n",
       "  </tbody>\n",
       "</table>\n",
       "</div>"
      ],
      "text/plain": [
       "          accuracy  balanced accuracy        f1  precision  \\\n",
       "majmin                                                       \n",
       "majority  0.246523           0.559315  0.256668   0.147571   \n",
       "minority  0.152045           0.518937  0.213075   0.119302   \n",
       "\n",
       "          false positive rate  false negative rate  selection rate    count  \n",
       "majmin                                                                       \n",
       "majority             0.865834             0.015536        0.881509  69170.0  \n",
       "minority             0.957902             0.004223        0.962269  20540.0  "
      ]
     },
     "execution_count": 75,
     "metadata": {},
     "output_type": "execute_result"
    }
   ],
   "source": [
    "metric_frame.by_group"
   ]
  },
  {
   "cell_type": "code",
   "execution_count": 76,
   "id": "a9ddbe63",
   "metadata": {
    "execution": {
     "iopub.execute_input": "2025-07-30T13:44:27.870085Z",
     "iopub.status.busy": "2025-07-30T13:44:27.869673Z",
     "iopub.status.idle": "2025-07-30T13:44:30.227470Z",
     "shell.execute_reply": "2025-07-30T13:44:30.226618Z"
    },
    "papermill": {
     "duration": 2.38706,
     "end_time": "2025-07-30T13:44:30.229051",
     "exception": false,
     "start_time": "2025-07-30T13:44:27.841991",
     "status": "completed"
    },
    "tags": []
   },
   "outputs": [
    {
     "data": {
      "text/plain": [
       "array([[<Axes: title={'center': 'accuracy'}, xlabel='majmin'>,\n",
       "        <Axes: title={'center': 'balanced accuracy'}, xlabel='majmin'>,\n",
       "        <Axes: title={'center': 'f1'}, xlabel='majmin'>],\n",
       "       [<Axes: title={'center': 'precision'}, xlabel='majmin'>,\n",
       "        <Axes: title={'center': 'false positive rate'}, xlabel='majmin'>,\n",
       "        <Axes: title={'center': 'false negative rate'}, xlabel='majmin'>],\n",
       "       [<Axes: title={'center': 'selection rate'}, xlabel='majmin'>,\n",
       "        <Axes: title={'center': 'count'}, xlabel='majmin'>,\n",
       "        <Axes: xlabel='majmin'>]], dtype=object)"
      ]
     },
     "execution_count": 76,
     "metadata": {},
     "output_type": "execute_result"
    },
    {
     "data": {
      "image/png": "[encoded data removed]",
      "text/plain": [
       "<Figure size 1200x800 with 9 Axes>"
      ]
     },
     "metadata": {},
     "output_type": "display_data"
    }
   ],
   "source": [
    "# In a graphic\n",
    "metric_frame.by_group.plot.bar(\n",
    "    subplots=True,\n",
    "    layout=[3, 3],\n",
    "    legend=False,\n",
    "    figsize=[12, 8],\n",
    "    title=\"Show all metrics\",\n",
    ")"
   ]
  },
  {
   "cell_type": "markdown",
   "id": "f57a0bac",
   "metadata": {
    "papermill": {
     "duration": 0.026111,
     "end_time": "2025-07-30T13:44:30.282747",
     "exception": false,
     "start_time": "2025-07-30T13:44:30.256636",
     "status": "completed"
    },
    "tags": []
   },
   "source": [
    "# Final Output"
   ]
  },
  {
   "cell_type": "code",
   "execution_count": 77,
   "id": "96d280a3",
   "metadata": {
    "execution": {
     "iopub.execute_input": "2025-07-30T13:44:30.336893Z",
     "iopub.status.busy": "2025-07-30T13:44:30.336069Z",
     "iopub.status.idle": "2025-07-30T13:44:30.344262Z",
     "shell.execute_reply": "2025-07-30T13:44:30.343220Z"
    },
    "papermill": {
     "duration": 0.036898,
     "end_time": "2025-07-30T13:44:30.345814",
     "exception": false,
     "start_time": "2025-07-30T13:44:30.308916",
     "status": "completed"
    },
    "tags": []
   },
   "outputs": [
    {
     "data": {
      "text/plain": [
       "4"
      ]
     },
     "execution_count": 77,
     "metadata": {},
     "output_type": "execute_result"
    }
   ],
   "source": [
    "sub_universes = universe_analysis.generate_sub_universes()\n",
    "len(sub_universes)"
   ]
  },
  {
   "cell_type": "code",
   "execution_count": 78,
   "id": "92adf7ba",
   "metadata": {
    "execution": {
     "iopub.execute_input": "2025-07-30T13:44:30.401909Z",
     "iopub.status.busy": "2025-07-30T13:44:30.401258Z",
     "iopub.status.idle": "2025-07-30T13:44:30.407398Z",
     "shell.execute_reply": "2025-07-30T13:44:30.406448Z"
    },
    "papermill": {
     "duration": 0.035771,
     "end_time": "2025-07-30T13:44:30.409020",
     "exception": false,
     "start_time": "2025-07-30T13:44:30.373249",
     "status": "completed"
    },
    "tags": []
   },
   "outputs": [],
   "source": [
    "def filter_sub_universe_data(sub_universe, org_test):\n",
    "    # Keep all rows — no filtering\n",
    "    keep_rows_mask = np.ones(org_test.shape[0], dtype=bool)\n",
    "\n",
    "    print(f\"[INFO] Keeping all rows: {keep_rows_mask.sum()} rows retained.\")\n",
    "    return keep_rows_mask"
   ]
  },
  {
   "cell_type": "code",
   "execution_count": 79,
   "id": "4a759155",
   "metadata": {
    "execution": {
     "iopub.execute_input": "2025-07-30T13:44:30.464997Z",
     "iopub.status.busy": "2025-07-30T13:44:30.464316Z",
     "iopub.status.idle": "2025-07-30T13:44:39.826916Z",
     "shell.execute_reply": "2025-07-30T13:44:39.825938Z"
    },
    "papermill": {
     "duration": 9.392302,
     "end_time": "2025-07-30T13:44:39.828533",
     "exception": false,
     "start_time": "2025-07-30T13:44:30.436231",
     "status": "completed"
    },
    "tags": []
   },
   "outputs": [
    {
     "name": "stdout",
     "output_type": "stream",
     "text": [
      "Stopping execution_time clock.\n",
      "[INFO] Keeping all rows: 89710 rows retained.\n"
     ]
    },
    {
     "name": "stdout",
     "output_type": "stream",
     "text": [
      "[INFO] Keeping all rows: 89710 rows retained.\n"
     ]
    },
    {
     "name": "stdout",
     "output_type": "stream",
     "text": [
      "[INFO] Keeping all rows: 89710 rows retained.\n"
     ]
    },
    {
     "name": "stdout",
     "output_type": "stream",
     "text": [
      "[INFO] Keeping all rows: 89710 rows retained.\n"
     ]
    },
    {
     "data": {
      "text/html": [
       "<div>\n",
       "<style scoped>\n",
       "    .dataframe tbody tr th:only-of-type {\n",
       "        vertical-align: middle;\n",
       "    }\n",
       "\n",
       "    .dataframe tbody tr th {\n",
       "        vertical-align: top;\n",
       "    }\n",
       "\n",
       "    .dataframe thead th {\n",
       "        text-align: right;\n",
       "    }\n",
       "</style>\n",
       "<table border=\"1\" class=\"dataframe\">\n",
       "  <thead>\n",
       "    <tr style=\"text-align: right;\">\n",
       "      <th></th>\n",
       "      <th>run_no</th>\n",
       "      <th>universe_id</th>\n",
       "      <th>universe_settings</th>\n",
       "      <th>execution_time</th>\n",
       "      <th>test_size_n</th>\n",
       "      <th>test_size_frac</th>\n",
       "      <th>fair_main_equalized_odds_difference</th>\n",
       "      <th>fair_main_equalized_odds_ratio</th>\n",
       "      <th>fair_main_demographic_parity_difference</th>\n",
       "      <th>fair_main_demographic_parity_ratio</th>\n",
       "      <th>...</th>\n",
       "      <th>perf_grp_precision_0</th>\n",
       "      <th>perf_grp_precision_1</th>\n",
       "      <th>perf_grp_false positive rate_0</th>\n",
       "      <th>perf_grp_false positive rate_1</th>\n",
       "      <th>perf_grp_false negative rate_0</th>\n",
       "      <th>perf_grp_false negative rate_1</th>\n",
       "      <th>perf_grp_selection rate_0</th>\n",
       "      <th>perf_grp_selection rate_1</th>\n",
       "      <th>perf_grp_count_0</th>\n",
       "      <th>perf_grp_count_1</th>\n",
       "    </tr>\n",
       "  </thead>\n",
       "  <tbody>\n",
       "    <tr>\n",
       "      <th>0</th>\n",
       "      <td>12</td>\n",
       "      <td>ff4ce1e8ccdca8471a72f178df8c072b</td>\n",
       "      <td>{\"cutoff\": \"quantile_0.1\", \"eval_fairness_grou...</td>\n",
       "      <td>33.976579</td>\n",
       "      <td>89710</td>\n",
       "      <td>1.0</td>\n",
       "      <td>0.092069</td>\n",
       "      <td>0.903885</td>\n",
       "      <td>0.080759</td>\n",
       "      <td>0.916074</td>\n",
       "      <td>...</td>\n",
       "      <td>NaN</td>\n",
       "      <td>NaN</td>\n",
       "      <td>NaN</td>\n",
       "      <td>NaN</td>\n",
       "      <td>NaN</td>\n",
       "      <td>NaN</td>\n",
       "      <td>NaN</td>\n",
       "      <td>NaN</td>\n",
       "      <td>NaN</td>\n",
       "      <td>NaN</td>\n",
       "    </tr>\n",
       "    <tr>\n",
       "      <th>0</th>\n",
       "      <td>12</td>\n",
       "      <td>ff4ce1e8ccdca8471a72f178df8c072b</td>\n",
       "      <td>{\"cutoff\": \"quantile_0.1\", \"eval_fairness_grou...</td>\n",
       "      <td>33.976579</td>\n",
       "      <td>89710</td>\n",
       "      <td>1.0</td>\n",
       "      <td>0.092069</td>\n",
       "      <td>0.903885</td>\n",
       "      <td>0.080759</td>\n",
       "      <td>0.916074</td>\n",
       "      <td>...</td>\n",
       "      <td>0.119302</td>\n",
       "      <td>0.147571</td>\n",
       "      <td>0.957902</td>\n",
       "      <td>0.865834</td>\n",
       "      <td>0.004223</td>\n",
       "      <td>0.015536</td>\n",
       "      <td>0.962269</td>\n",
       "      <td>0.881509</td>\n",
       "      <td>20540.0</td>\n",
       "      <td>69170.0</td>\n",
       "    </tr>\n",
       "    <tr>\n",
       "      <th>0</th>\n",
       "      <td>12</td>\n",
       "      <td>ff4ce1e8ccdca8471a72f178df8c072b</td>\n",
       "      <td>{\"cutoff\": \"quantile_0.25\", \"eval_fairness_gro...</td>\n",
       "      <td>33.976579</td>\n",
       "      <td>89710</td>\n",
       "      <td>1.0</td>\n",
       "      <td>0.086467</td>\n",
       "      <td>0.890411</td>\n",
       "      <td>0.072157</td>\n",
       "      <td>0.910560</td>\n",
       "      <td>...</td>\n",
       "      <td>NaN</td>\n",
       "      <td>NaN</td>\n",
       "      <td>NaN</td>\n",
       "      <td>NaN</td>\n",
       "      <td>NaN</td>\n",
       "      <td>NaN</td>\n",
       "      <td>NaN</td>\n",
       "      <td>NaN</td>\n",
       "      <td>NaN</td>\n",
       "      <td>NaN</td>\n",
       "    </tr>\n",
       "    <tr>\n",
       "      <th>0</th>\n",
       "      <td>12</td>\n",
       "      <td>ff4ce1e8ccdca8471a72f178df8c072b</td>\n",
       "      <td>{\"cutoff\": \"quantile_0.25\", \"eval_fairness_gro...</td>\n",
       "      <td>33.976579</td>\n",
       "      <td>89710</td>\n",
       "      <td>1.0</td>\n",
       "      <td>0.086467</td>\n",
       "      <td>0.890411</td>\n",
       "      <td>0.072157</td>\n",
       "      <td>0.910560</td>\n",
       "      <td>...</td>\n",
       "      <td>0.134753</td>\n",
       "      <td>0.170016</td>\n",
       "      <td>0.789016</td>\n",
       "      <td>0.702549</td>\n",
       "      <td>0.057010</td>\n",
       "      <td>0.054814</td>\n",
       "      <td>0.806767</td>\n",
       "      <td>0.734610</td>\n",
       "      <td>20540.0</td>\n",
       "      <td>69170.0</td>\n",
       "    </tr>\n",
       "  </tbody>\n",
       "</table>\n",
       "<p>4 rows × 50 columns</p>\n",
       "</div>"
      ],
      "text/plain": [
       "  run_no                       universe_id  \\\n",
       "0     12  ff4ce1e8ccdca8471a72f178df8c072b   \n",
       "0     12  ff4ce1e8ccdca8471a72f178df8c072b   \n",
       "0     12  ff4ce1e8ccdca8471a72f178df8c072b   \n",
       "0     12  ff4ce1e8ccdca8471a72f178df8c072b   \n",
       "\n",
       "                                   universe_settings  execution_time  \\\n",
       "0  {\"cutoff\": \"quantile_0.1\", \"eval_fairness_grou...       33.976579   \n",
       "0  {\"cutoff\": \"quantile_0.1\", \"eval_fairness_grou...       33.976579   \n",
       "0  {\"cutoff\": \"quantile_0.25\", \"eval_fairness_gro...       33.976579   \n",
       "0  {\"cutoff\": \"quantile_0.25\", \"eval_fairness_gro...       33.976579   \n",
       "\n",
       "   test_size_n  test_size_frac  fair_main_equalized_odds_difference  \\\n",
       "0        89710             1.0                             0.092069   \n",
       "0        89710             1.0                             0.092069   \n",
       "0        89710             1.0                             0.086467   \n",
       "0        89710             1.0                             0.086467   \n",
       "\n",
       "   fair_main_equalized_odds_ratio  fair_main_demographic_parity_difference  \\\n",
       "0                        0.903885                                 0.080759   \n",
       "0                        0.903885                                 0.080759   \n",
       "0                        0.890411                                 0.072157   \n",
       "0                        0.890411                                 0.072157   \n",
       "\n",
       "   fair_main_demographic_parity_ratio  ...  perf_grp_precision_0  \\\n",
       "0                            0.916074  ...                   NaN   \n",
       "0                            0.916074  ...              0.119302   \n",
       "0                            0.910560  ...                   NaN   \n",
       "0                            0.910560  ...              0.134753   \n",
       "\n",
       "   perf_grp_precision_1  perf_grp_false positive rate_0  \\\n",
       "0                   NaN                             NaN   \n",
       "0              0.147571                        0.957902   \n",
       "0                   NaN                             NaN   \n",
       "0              0.170016                        0.789016   \n",
       "\n",
       "   perf_grp_false positive rate_1  perf_grp_false negative rate_0  \\\n",
       "0                             NaN                             NaN   \n",
       "0                        0.865834                        0.004223   \n",
       "0                             NaN                             NaN   \n",
       "0                        0.702549                        0.057010   \n",
       "\n",
       "   perf_grp_false negative rate_1  perf_grp_selection rate_0  \\\n",
       "0                             NaN                        NaN   \n",
       "0                        0.015536                   0.962269   \n",
       "0                             NaN                        NaN   \n",
       "0                        0.054814                   0.806767   \n",
       "\n",
       "   perf_grp_selection rate_1  perf_grp_count_0  perf_grp_count_1  \n",
       "0                        NaN               NaN               NaN  \n",
       "0                   0.881509           20540.0           69170.0  \n",
       "0                        NaN               NaN               NaN  \n",
       "0                   0.734610           20540.0           69170.0  \n",
       "\n",
       "[4 rows x 50 columns]"
      ]
     },
     "execution_count": 79,
     "metadata": {},
     "output_type": "execute_result"
    }
   ],
   "source": [
    "final_output = universe_analysis.generate_final_output(\n",
    "    y_pred_prob=probs_test,\n",
    "    y_test=y_true,\n",
    "    org_test=org_test,\n",
    "    filter_data=filter_sub_universe_data,\n",
    "    cp_metrics_df=cp_metrics_df,\n",
    "    save=True,\n",
    ")\n",
    "final_output"
   ]
  },
  {
   "cell_type": "code",
   "execution_count": null,
   "id": "721ff514-cb11-46f8-b6fc-50392f74b5cb",
   "metadata": {
    "papermill": {
     "duration": 0.028046,
     "end_time": "2025-07-30T13:44:39.886805",
     "exception": false,
     "start_time": "2025-07-30T13:44:39.858759",
     "status": "completed"
    },
    "tags": []
   },
   "outputs": [],
   "source": []
  }
 ],
 "metadata": {
  "celltoolbar": "Tags",
  "kernelspec": {
   "display_name": "Python (CMA Fairness)",
   "language": "python",
   "name": "cma_fair_env"
  },
  "language_info": {
   "codemirror_mode": {
    "name": "ipython",
    "version": 3
   },
   "file_extension": ".py",
   "mimetype": "text/x-python",
   "name": "python",
   "nbconvert_exporter": "python",
   "pygments_lexer": "ipython3",
   "version": "3.10.12"
  },
  "papermill": {
   "default_parameters": {},
   "duration": 47.440496,
   "end_time": "2025-07-30T13:44:40.733759",
   "environment_variables": {},
   "exception": null,
   "input_path": "universe_analysis.ipynb",
   "output_path": "output/runs/12/notebooks/m_12-ff4ce1e8ccdca8471a72f178df8c072b.ipynb",
   "parameters": {
    "output_dir": "output",
    "run_no": "12",
    "seed": "2023",
    "universe": "{\"cutoff\": [\"quantile_0.1\", \"quantile_0.25\"], \"eval_fairness_grouping\": [\"majority-minority\", \"nationality-all\"], \"exclude_features\": \"nationality\", \"exclude_subgroups\": \"keep-all\", \"model\": \"gbm\", \"scale\": \"scale\", \"training_size\": \"5k\", \"training_year\": \"2014\"}",
    "universe_id": "ff4ce1e8ccdca8471a72f178df8c072b"
   },
   "start_time": "2025-07-30T13:43:53.293263",
   "version": "2.6.0"
  }
 },
 "nbformat": 4,
 "nbformat_minor": 5
}