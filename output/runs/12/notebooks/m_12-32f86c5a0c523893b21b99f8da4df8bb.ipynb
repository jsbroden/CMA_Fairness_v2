{
 "cells": [
  {
   "cell_type": "code",
   "execution_count": 1,
   "id": "f159f837-637b-42ba-96b5-ec9a68c44524",
   "metadata": {
    "execution": {
     "iopub.execute_input": "2025-07-30T12:53:33.531447Z",
     "iopub.status.busy": "2025-07-30T12:53:33.530809Z",
     "iopub.status.idle": "2025-07-30T12:53:33.544636Z",
     "shell.execute_reply": "2025-07-30T12:53:33.543545Z"
    },
    "papermill": {
     "duration": 0.039745,
     "end_time": "2025-07-30T12:53:33.546566",
     "exception": false,
     "start_time": "2025-07-30T12:53:33.506821",
     "status": "completed"
    },
    "tags": []
   },
   "outputs": [
    {
     "name": "stdout",
     "output_type": "stream",
     "text": [
      "/dss/dsshome1/0C/ra93lal2/cma/CMA_Fairness_v2\n"
     ]
    },
    {
     "name": "stderr",
     "output_type": "stream",
     "text": [
      "/dss/dsshome1/0C/ra93lal2/.local/share/virtualenvs/CMA_Fairness_v2-3j10GkSs/lib/python3.10/site-packages/IPython/core/magics/osm.py:393: UserWarning: This is now an optional IPython functionality, using bookmarks requires you to install the `pickleshare` library.\n",
      "  bkms = self.shell.db.get('bookmarks', {})\n",
      "/dss/dsshome1/0C/ra93lal2/.local/share/virtualenvs/CMA_Fairness_v2-3j10GkSs/lib/python3.10/site-packages/IPython/core/magics/osm.py:417: UserWarning: This is now an optional IPython functionality, setting dhist requires you to install the `pickleshare` library.\n",
      "  self.shell.db['dhist'] = compress_dhist(dhist)[-100:]\n"
     ]
    }
   ],
   "source": [
    "%cd ~/cma/CMA_Fairness_v2"
   ]
  },
  {
   "cell_type": "markdown",
   "id": "de2603b9",
   "metadata": {
    "papermill": {
     "duration": 0.011498,
     "end_time": "2025-07-30T12:53:33.575094",
     "exception": false,
     "start_time": "2025-07-30T12:53:33.563596",
     "status": "completed"
    },
    "tags": []
   },
   "source": [
    "The following cell holds the definition of our parameters, these values can be overriden by rendering the with e.g. the following command:\n",
    "\n",
    "papermill -p alpha 0.2 -p ratio 0.3 universe_analysis.ipynb output/test_run.ipynb"
   ]
  },
  {
   "cell_type": "code",
   "execution_count": 2,
   "id": "a80968a0-40bb-4fa9-85ef-2d5eefb01975",
   "metadata": {
    "execution": {
     "iopub.execute_input": "2025-07-30T12:53:33.597273Z",
     "iopub.status.busy": "2025-07-30T12:53:33.596870Z",
     "iopub.status.idle": "2025-07-30T12:53:33.602125Z",
     "shell.execute_reply": "2025-07-30T12:53:33.601074Z"
    },
    "papermill": {
     "duration": 0.018869,
     "end_time": "2025-07-30T12:53:33.604355",
     "exception": false,
     "start_time": "2025-07-30T12:53:33.585486",
     "status": "completed"
    },
    "tags": []
   },
   "outputs": [
    {
     "name": "stdout",
     "output_type": "stream",
     "text": [
      "Current working directory: /dss/dsshome1/0C/ra93lal2/cma/CMA_Fairness_v2\n"
     ]
    }
   ],
   "source": [
    "import os\n",
    "print(\"Current working directory:\", os.getcwd())"
   ]
  },
  {
   "cell_type": "code",
   "execution_count": 3,
   "id": "2dce4c03",
   "metadata": {
    "execution": {
     "iopub.execute_input": "2025-07-30T12:53:33.647716Z",
     "iopub.status.busy": "2025-07-30T12:53:33.647238Z",
     "iopub.status.idle": "2025-07-30T12:53:33.653664Z",
     "shell.execute_reply": "2025-07-30T12:53:33.652738Z"
    },
    "papermill": {
     "duration": 0.030012,
     "end_time": "2025-07-30T12:53:33.655289",
     "exception": false,
     "start_time": "2025-07-30T12:53:33.625277",
     "status": "completed"
    },
    "tags": [
     "parameters"
    ]
   },
   "outputs": [],
   "source": [
    "run_no = 0\n",
    "universe_id = \"test\"\n",
    "universe = {\n",
    "    \"training_size\": \"25k\", # \"25k\", \"5k\", \"1k\"\n",
    "    \"training_year\": \"2014\", # \"2014\", \"2012_14\", \"2010_14\"\n",
    "    \"scale\": \"scale\", # \"scale\", \"do-not-scale\",\n",
    "    #\"stratify_split\": \"target\", # \"none\", \"target\", \"protected-attribute\", \"both\",\n",
    "    \"model\": \"elasticnet\", # \"logreg\", \"penalized_logreg\", \"rf\", \"gbm\", \"elasticnet\"\n",
    "    \"cutoff\": [\"quantile_0.15\", \"quantile_0.30\"],\n",
    "    \"exclude_features\": \"age\", # \"none\", \"nationality\", \"sex\", \"nationality-sex\", \"age\"\n",
    "    \"exclude_subgroups\": \"keep-all\", # \"keep-all\", \"drop-non-german\"\n",
    "    \"eval_fairness_grouping\": [\"majority-minority\", \"nationality-all\"]\n",
    "}\n",
    "\n",
    "output_dir=\"./output\"\n",
    "seed=0"
   ]
  },
  {
   "cell_type": "code",
   "execution_count": 4,
   "id": "44bfb7c3",
   "metadata": {
    "execution": {
     "iopub.execute_input": "2025-07-30T12:53:33.698917Z",
     "iopub.status.busy": "2025-07-30T12:53:33.698324Z",
     "iopub.status.idle": "2025-07-30T12:53:33.704012Z",
     "shell.execute_reply": "2025-07-30T12:53:33.702903Z"
    },
    "papermill": {
     "duration": 0.028629,
     "end_time": "2025-07-30T12:53:33.705743",
     "exception": false,
     "start_time": "2025-07-30T12:53:33.677114",
     "status": "completed"
    },
    "tags": [
     "injected-parameters"
    ]
   },
   "outputs": [],
   "source": [
    "# Parameters\n",
    "universe_id = \"32f86c5a0c523893b21b99f8da4df8bb\"\n",
    "run_no = \"12\"\n",
    "universe = \"{\\\"cutoff\\\": [\\\"quantile_0.1\\\", \\\"quantile_0.25\\\"], \\\"eval_fairness_grouping\\\": [\\\"majority-minority\\\", \\\"nationality-all\\\"], \\\"exclude_features\\\": \\\"none\\\", \\\"exclude_subgroups\\\": \\\"drop-non-german\\\", \\\"model\\\": \\\"penalized_logreg\\\", \\\"scale\\\": \\\"do-not-scale\\\", \\\"training_size\\\": \\\"25k\\\", \\\"training_year\\\": \\\"2014\\\"}\"\n",
    "output_dir = \"output\"\n",
    "seed = \"2023\"\n"
   ]
  },
  {
   "cell_type": "code",
   "execution_count": 5,
   "id": "1650acaf",
   "metadata": {
    "execution": {
     "iopub.execute_input": "2025-07-30T12:53:33.749659Z",
     "iopub.status.busy": "2025-07-30T12:53:33.748679Z",
     "iopub.status.idle": "2025-07-30T12:53:33.753749Z",
     "shell.execute_reply": "2025-07-30T12:53:33.752866Z"
    },
    "papermill": {
     "duration": 0.028135,
     "end_time": "2025-07-30T12:53:33.755380",
     "exception": false,
     "start_time": "2025-07-30T12:53:33.727245",
     "status": "completed"
    },
    "tags": []
   },
   "outputs": [],
   "source": [
    "import json\n",
    "# Parse universe into dict if it is passed as a string\n",
    "if isinstance(universe, str):\n",
    "    universe = json.loads(universe)"
   ]
  },
  {
   "cell_type": "code",
   "execution_count": 6,
   "id": "16620c48",
   "metadata": {
    "execution": {
     "iopub.execute_input": "2025-07-30T12:53:33.799188Z",
     "iopub.status.busy": "2025-07-30T12:53:33.798308Z",
     "iopub.status.idle": "2025-07-30T12:53:33.843184Z",
     "shell.execute_reply": "2025-07-30T12:53:33.842221Z"
    },
    "papermill": {
     "duration": 0.068195,
     "end_time": "2025-07-30T12:53:33.845117",
     "exception": false,
     "start_time": "2025-07-30T12:53:33.776922",
     "status": "completed"
    },
    "tags": []
   },
   "outputs": [],
   "source": [
    "# Auto-reload the custom package\n",
    "%load_ext autoreload\n",
    "%autoreload 1\n",
    "%aimport fairness_multiverse"
   ]
  },
  {
   "cell_type": "code",
   "execution_count": 7,
   "id": "01c5c9f3",
   "metadata": {
    "execution": {
     "iopub.execute_input": "2025-07-30T12:53:33.887042Z",
     "iopub.status.busy": "2025-07-30T12:53:33.886581Z",
     "iopub.status.idle": "2025-07-30T12:53:35.481607Z",
     "shell.execute_reply": "2025-07-30T12:53:35.480407Z"
    },
    "papermill": {
     "duration": 1.617984,
     "end_time": "2025-07-30T12:53:35.483501",
     "exception": false,
     "start_time": "2025-07-30T12:53:33.865517",
     "status": "completed"
    },
    "tags": []
   },
   "outputs": [],
   "source": [
    "from fairness_multiverse.universe import UniverseAnalysis\n",
    "\n",
    "universe_analysis = UniverseAnalysis(\n",
    "    run_no = run_no,\n",
    "    universe_id = universe_id,\n",
    "    universe = universe,\n",
    "    output_dir=output_dir,\n",
    ")"
   ]
  },
  {
   "cell_type": "code",
   "execution_count": 8,
   "id": "106241f5",
   "metadata": {
    "execution": {
     "iopub.execute_input": "2025-07-30T12:53:35.527173Z",
     "iopub.status.busy": "2025-07-30T12:53:35.526209Z",
     "iopub.status.idle": "2025-07-30T12:53:35.534040Z",
     "shell.execute_reply": "2025-07-30T12:53:35.533004Z"
    },
    "papermill": {
     "duration": 0.032128,
     "end_time": "2025-07-30T12:53:35.535924",
     "exception": false,
     "start_time": "2025-07-30T12:53:35.503796",
     "status": "completed"
    },
    "tags": []
   },
   "outputs": [
    {
     "name": "stdout",
     "output_type": "stream",
     "text": [
      "Using Seed: 2023\n"
     ]
    }
   ],
   "source": [
    "import numpy as np\n",
    "parsed_seed = int(seed)\n",
    "np.random.seed(parsed_seed)\n",
    "print(f\"Using Seed: {parsed_seed}\")"
   ]
  },
  {
   "cell_type": "markdown",
   "id": "e0ebdc57",
   "metadata": {
    "papermill": {
     "duration": 0.02019,
     "end_time": "2025-07-30T12:53:35.578067",
     "exception": false,
     "start_time": "2025-07-30T12:53:35.557877",
     "status": "completed"
    },
    "tags": []
   },
   "source": [
    "# Loading Data"
   ]
  },
  {
   "cell_type": "markdown",
   "id": "681925a3",
   "metadata": {
    "papermill": {
     "duration": 0.022386,
     "end_time": "2025-07-30T12:53:35.620796",
     "exception": false,
     "start_time": "2025-07-30T12:53:35.598410",
     "status": "completed"
    },
    "tags": []
   },
   "source": [
    "Load siab_train, siab_test, siab_calib and/or \n",
    "load siab_train_features, siab_train_labels"
   ]
  },
  {
   "cell_type": "code",
   "execution_count": 9,
   "id": "f0496b8a",
   "metadata": {
    "execution": {
     "iopub.execute_input": "2025-07-30T12:53:35.663175Z",
     "iopub.status.busy": "2025-07-30T12:53:35.662675Z",
     "iopub.status.idle": "2025-07-30T12:53:47.257986Z",
     "shell.execute_reply": "2025-07-30T12:53:47.256355Z"
    },
    "papermill": {
     "duration": 11.61918,
     "end_time": "2025-07-30T12:53:47.260167",
     "exception": false,
     "start_time": "2025-07-30T12:53:35.640987",
     "status": "completed"
    },
    "tags": []
   },
   "outputs": [
    {
     "name": "stdout",
     "output_type": "stream",
     "text": [
      "Loading SIAB data from cache: data/siab_cached.csv.gz\n"
     ]
    },
    {
     "name": "stdout",
     "output_type": "stream",
     "text": [
      "(643690, 164)\n"
     ]
    }
   ],
   "source": [
    "from pathlib import Path\n",
    "import pandas as pd\n",
    "\n",
    "# File paths\n",
    "raw_file = Path(\"data/raw/siab.csv\")\n",
    "cache_file = Path(\"data/siab_cached.csv.gz\")\n",
    "\n",
    "# Ensure cache directory exists\n",
    "cache_file.parent.mkdir(parents=True, exist_ok=True)\n",
    "\n",
    "# Load with simple caching\n",
    "if cache_file.exists():\n",
    "    print(f\"Loading SIAB data from cache: {cache_file}\")\n",
    "    siab = pd.read_csv(cache_file, compression='gzip')\n",
    "else:\n",
    "    print(f\"Cache not found. Reading raw SIAB data: {raw_file}\")\n",
    "    siab = pd.read_csv(raw_file)\n",
    "    siab.to_csv(cache_file, index=False, compression='gzip')\n",
    "    print(f\"Cached SIAB data to: {cache_file}\")\n",
    "\n",
    "# Now use `siab` DataFrame as needed\n",
    "print(siab.shape)"
   ]
  },
  {
   "cell_type": "code",
   "execution_count": 10,
   "id": "db0ca512-5f53-4dba-abdb-a2888bca41ba",
   "metadata": {
    "execution": {
     "iopub.execute_input": "2025-07-30T12:53:47.329755Z",
     "iopub.status.busy": "2025-07-30T12:53:47.329159Z",
     "iopub.status.idle": "2025-07-30T12:53:47.336421Z",
     "shell.execute_reply": "2025-07-30T12:53:47.335484Z"
    },
    "papermill": {
     "duration": 0.047308,
     "end_time": "2025-07-30T12:53:47.337842",
     "exception": false,
     "start_time": "2025-07-30T12:53:47.290534",
     "status": "completed"
    },
    "tags": []
   },
   "outputs": [],
   "source": [
    "#siab"
   ]
  },
  {
   "cell_type": "code",
   "execution_count": 11,
   "id": "a0edb063",
   "metadata": {
    "execution": {
     "iopub.execute_input": "2025-07-30T12:53:47.382849Z",
     "iopub.status.busy": "2025-07-30T12:53:47.382133Z",
     "iopub.status.idle": "2025-07-30T12:53:47.389385Z",
     "shell.execute_reply": "2025-07-30T12:53:47.387815Z"
    },
    "papermill": {
     "duration": 0.032687,
     "end_time": "2025-07-30T12:53:47.392194",
     "exception": false,
     "start_time": "2025-07-30T12:53:47.359507",
     "status": "completed"
    },
    "tags": []
   },
   "outputs": [],
   "source": [
    "#import pandas as pd\n",
    "#\n",
    "#X_train = pd.read_csv(\"./data/X_train.csv\")\n",
    "#y_train = pd.read_csv(\"./data/y_train.csv\")"
   ]
  },
  {
   "cell_type": "code",
   "execution_count": 12,
   "id": "63d08085",
   "metadata": {
    "execution": {
     "iopub.execute_input": "2025-07-30T12:53:47.432964Z",
     "iopub.status.busy": "2025-07-30T12:53:47.432527Z",
     "iopub.status.idle": "2025-07-30T12:53:47.437244Z",
     "shell.execute_reply": "2025-07-30T12:53:47.436304Z"
    },
    "papermill": {
     "duration": 0.018445,
     "end_time": "2025-07-30T12:53:47.438614",
     "exception": false,
     "start_time": "2025-07-30T12:53:47.420169",
     "status": "completed"
    },
    "tags": []
   },
   "outputs": [],
   "source": [
    "#X_test = pd.read_csv(\"./data/X_test.csv\")\n",
    "#y_true = pd.read_csv(\"./data/y_test.csv\")"
   ]
  },
  {
   "cell_type": "code",
   "execution_count": 13,
   "id": "98a8d0fa-1d3d-4ed8-bb2c-281470e24add",
   "metadata": {
    "execution": {
     "iopub.execute_input": "2025-07-30T12:53:47.463996Z",
     "iopub.status.busy": "2025-07-30T12:53:47.463294Z",
     "iopub.status.idle": "2025-07-30T12:53:47.467691Z",
     "shell.execute_reply": "2025-07-30T12:53:47.467001Z"
    },
    "papermill": {
     "duration": 0.01812,
     "end_time": "2025-07-30T12:53:47.469175",
     "exception": false,
     "start_time": "2025-07-30T12:53:47.451055",
     "status": "completed"
    },
    "tags": []
   },
   "outputs": [],
   "source": [
    "# Calibration data for conformal\n",
    "#X_calib = pd.read_csv(\"./data/X_calib.csv\")\n",
    "#y_calib = pd.read_csv(\"./data/y_calib.csv\")"
   ]
  },
  {
   "cell_type": "markdown",
   "id": "997051c5-15bd-4b69-9786-c3001a3ce484",
   "metadata": {
    "papermill": {
     "duration": 0.017655,
     "end_time": "2025-07-30T12:53:47.501321",
     "exception": false,
     "start_time": "2025-07-30T12:53:47.483666",
     "status": "completed"
    },
    "tags": []
   },
   "source": [
    "# Splitting Data and Setting Training Data Size"
   ]
  },
  {
   "cell_type": "code",
   "execution_count": 14,
   "id": "e993b61f-042d-41a6-8c81-f55681f86335",
   "metadata": {
    "execution": {
     "iopub.execute_input": "2025-07-30T12:53:47.539506Z",
     "iopub.status.busy": "2025-07-30T12:53:47.539150Z",
     "iopub.status.idle": "2025-07-30T12:53:47.549944Z",
     "shell.execute_reply": "2025-07-30T12:53:47.548659Z"
    },
    "papermill": {
     "duration": 0.028118,
     "end_time": "2025-07-30T12:53:47.551863",
     "exception": false,
     "start_time": "2025-07-30T12:53:47.523745",
     "status": "completed"
    },
    "tags": []
   },
   "outputs": [],
   "source": [
    "def sample_by_year_size(df,\n",
    "                        training_year: str,\n",
    "                        training_size: str,\n",
    "                        random_state: int = 42):\n",
    "    # --- parse training_year into a list of int years ---\n",
    "    if \"_\" in training_year:\n",
    "        start_str, end_str = training_year.split(\"_\", 1)\n",
    "        start = int(start_str)\n",
    "        end   = int(end_str) if len(end_str) == 4 else (int(end_str) + (start // 100)*100)\n",
    "        years = list(range(start, end + 1))\n",
    "    else:\n",
    "        years = [int(training_year)]\n",
    "\n",
    "    df = df[df[\"year\"].isin(years)].reset_index(drop=True)\n",
    "\n",
    "    # --- map training_size to total number of samples ---\n",
    "    total_map = {\"25k\": 25_000, \"5k\": 5_000, \"1k\": 1_000}\n",
    "    if training_size not in total_map:\n",
    "        return df  # e.g. \"all\"\n",
    "\n",
    "    total_samples = total_map[training_size]\n",
    "    n_years       = len(years)\n",
    "    base          = total_samples // n_years\n",
    "    remainder     = total_samples % n_years\n",
    "\n",
    "    # --- build a dict: year -> how many to sample ---\n",
    "    # give +1 to the first `remainder` years in ascending order\n",
    "    quotas = {\n",
    "        year: base + (1 if idx < remainder else 0)\n",
    "        for idx, year in enumerate(sorted(years))\n",
    "    }\n",
    "\n",
    "    # --- sample per‐year according to the quota dict ---\n",
    "    sampled = (\n",
    "        df\n",
    "        .groupby(\"year\", group_keys=False)\n",
    "        .apply(lambda grp: grp.sample(\n",
    "            n=min(len(grp), quotas[grp.name]),\n",
    "            random_state=random_state))\n",
    "        .reset_index(drop=True)\n",
    "    )\n",
    "\n",
    "    return sampled"
   ]
  },
  {
   "cell_type": "code",
   "execution_count": 15,
   "id": "c0ccd338-0e02-41f3-a09d-f56f9266e3fb",
   "metadata": {
    "execution": {
     "iopub.execute_input": "2025-07-30T12:53:47.602494Z",
     "iopub.status.busy": "2025-07-30T12:53:47.601967Z",
     "iopub.status.idle": "2025-07-30T12:53:47.615801Z",
     "shell.execute_reply": "2025-07-30T12:53:47.614545Z"
    },
    "papermill": {
     "duration": 0.046387,
     "end_time": "2025-07-30T12:53:47.617871",
     "exception": false,
     "start_time": "2025-07-30T12:53:47.571484",
     "status": "completed"
    },
    "tags": []
   },
   "outputs": [
    {
     "data": {
      "text/plain": [
       "'25k'"
      ]
     },
     "execution_count": 15,
     "metadata": {},
     "output_type": "execute_result"
    }
   ],
   "source": [
    "universe[\"training_size\"]"
   ]
  },
  {
   "cell_type": "code",
   "execution_count": 16,
   "id": "ca707fd7-8047-4acd-bfa5-66248fbbf8e6",
   "metadata": {
    "execution": {
     "iopub.execute_input": "2025-07-30T12:53:47.666624Z",
     "iopub.status.busy": "2025-07-30T12:53:47.665765Z",
     "iopub.status.idle": "2025-07-30T12:53:47.673629Z",
     "shell.execute_reply": "2025-07-30T12:53:47.672499Z"
    },
    "papermill": {
     "duration": 0.032759,
     "end_time": "2025-07-30T12:53:47.675083",
     "exception": false,
     "start_time": "2025-07-30T12:53:47.642324",
     "status": "completed"
    },
    "tags": []
   },
   "outputs": [
    {
     "data": {
      "text/plain": [
       "'2014'"
      ]
     },
     "execution_count": 16,
     "metadata": {},
     "output_type": "execute_result"
    }
   ],
   "source": [
    "universe[\"training_year\"]"
   ]
  },
  {
   "cell_type": "code",
   "execution_count": 17,
   "id": "aea9c6ef-6f46-42c8-85eb-5a62025c1508",
   "metadata": {
    "execution": {
     "iopub.execute_input": "2025-07-30T12:53:47.701773Z",
     "iopub.status.busy": "2025-07-30T12:53:47.701108Z",
     "iopub.status.idle": "2025-07-30T12:53:48.031373Z",
     "shell.execute_reply": "2025-07-30T12:53:48.030168Z"
    },
    "papermill": {
     "duration": 0.344195,
     "end_time": "2025-07-30T12:53:48.033170",
     "exception": false,
     "start_time": "2025-07-30T12:53:47.688975",
     "status": "completed"
    },
    "tags": []
   },
   "outputs": [],
   "source": [
    "siab_train = sample_by_year_size(siab,\n",
    "                               training_year=universe[\"training_year\"],\n",
    "                               training_size=universe[\"training_size\"])"
   ]
  },
  {
   "cell_type": "code",
   "execution_count": 18,
   "id": "8d3afb32-789d-442c-8d5d-9f5aa8dd2eed",
   "metadata": {
    "execution": {
     "iopub.execute_input": "2025-07-30T12:53:48.084793Z",
     "iopub.status.busy": "2025-07-30T12:53:48.084277Z",
     "iopub.status.idle": "2025-07-30T12:53:48.093091Z",
     "shell.execute_reply": "2025-07-30T12:53:48.091434Z"
    },
    "papermill": {
     "duration": 0.047168,
     "end_time": "2025-07-30T12:53:48.099501",
     "exception": false,
     "start_time": "2025-07-30T12:53:48.052333",
     "status": "completed"
    },
    "tags": []
   },
   "outputs": [
    {
     "data": {
      "text/plain": [
       "(25000, 164)"
      ]
     },
     "execution_count": 18,
     "metadata": {},
     "output_type": "execute_result"
    }
   ],
   "source": [
    "siab_train.shape"
   ]
  },
  {
   "cell_type": "code",
   "execution_count": 19,
   "id": "d582db68-1a4c-47fb-84fc-08518dc1975a",
   "metadata": {
    "execution": {
     "iopub.execute_input": "2025-07-30T12:53:48.156575Z",
     "iopub.status.busy": "2025-07-30T12:53:48.155958Z",
     "iopub.status.idle": "2025-07-30T12:53:48.171334Z",
     "shell.execute_reply": "2025-07-30T12:53:48.169617Z"
    },
    "papermill": {
     "duration": 0.044172,
     "end_time": "2025-07-30T12:53:48.174103",
     "exception": false,
     "start_time": "2025-07-30T12:53:48.129931",
     "status": "completed"
    },
    "tags": []
   },
   "outputs": [
    {
     "data": {
      "text/plain": [
       "year\n",
       "2014    25000\n",
       "dtype: int64"
      ]
     },
     "metadata": {},
     "output_type": "display_data"
    }
   ],
   "source": [
    "display(siab_train.groupby(\"year\").size())"
   ]
  },
  {
   "cell_type": "code",
   "execution_count": 20,
   "id": "a561edb4-d032-42cb-8256-22eac1111c64",
   "metadata": {
    "execution": {
     "iopub.execute_input": "2025-07-30T12:53:48.241441Z",
     "iopub.status.busy": "2025-07-30T12:53:48.240784Z",
     "iopub.status.idle": "2025-07-30T12:53:48.523484Z",
     "shell.execute_reply": "2025-07-30T12:53:48.522725Z"
    },
    "papermill": {
     "duration": 0.318157,
     "end_time": "2025-07-30T12:53:48.525262",
     "exception": false,
     "start_time": "2025-07-30T12:53:48.207105",
     "status": "completed"
    },
    "tags": []
   },
   "outputs": [],
   "source": [
    "#siab_train = siab_s[siab_s.year < 2015]\n",
    "siab_calib = siab[siab.year == 2015]\n",
    "siab_test = siab[siab.year == 2016]"
   ]
  },
  {
   "cell_type": "code",
   "execution_count": 21,
   "id": "472de16f-c3db-4916-846b-1f0de9cf1746",
   "metadata": {
    "execution": {
     "iopub.execute_input": "2025-07-30T12:53:48.556916Z",
     "iopub.status.busy": "2025-07-30T12:53:48.555845Z",
     "iopub.status.idle": "2025-07-30T12:53:48.569957Z",
     "shell.execute_reply": "2025-07-30T12:53:48.569015Z"
    },
    "papermill": {
     "duration": 0.030997,
     "end_time": "2025-07-30T12:53:48.571618",
     "exception": false,
     "start_time": "2025-07-30T12:53:48.540621",
     "status": "completed"
    },
    "tags": []
   },
   "outputs": [],
   "source": [
    "X_train = siab_train.iloc[:,4:164]\n",
    "y_train = siab_train.iloc[:, [3]]"
   ]
  },
  {
   "cell_type": "code",
   "execution_count": 22,
   "id": "828c96af-f43a-4ed6-ba47-8ac73a47d56c",
   "metadata": {
    "execution": {
     "iopub.execute_input": "2025-07-30T12:53:48.616155Z",
     "iopub.status.busy": "2025-07-30T12:53:48.615758Z",
     "iopub.status.idle": "2025-07-30T12:53:48.808154Z",
     "shell.execute_reply": "2025-07-30T12:53:48.807065Z"
    },
    "papermill": {
     "duration": 0.217021,
     "end_time": "2025-07-30T12:53:48.810188",
     "exception": false,
     "start_time": "2025-07-30T12:53:48.593167",
     "status": "completed"
    },
    "tags": []
   },
   "outputs": [],
   "source": [
    "X_calib = siab_calib.iloc[:,4:164]\n",
    "y_calib = siab_calib.iloc[:, [3]]"
   ]
  },
  {
   "cell_type": "code",
   "execution_count": 23,
   "id": "c34be9c3-6bd6-476e-acd3-845840e303be",
   "metadata": {
    "execution": {
     "iopub.execute_input": "2025-07-30T12:53:48.862955Z",
     "iopub.status.busy": "2025-07-30T12:53:48.862584Z",
     "iopub.status.idle": "2025-07-30T12:53:48.928472Z",
     "shell.execute_reply": "2025-07-30T12:53:48.927325Z"
    },
    "papermill": {
     "duration": 0.092019,
     "end_time": "2025-07-30T12:53:48.930538",
     "exception": false,
     "start_time": "2025-07-30T12:53:48.838519",
     "status": "completed"
    },
    "tags": []
   },
   "outputs": [],
   "source": [
    "X_test = siab_test.iloc[:,4:164]\n",
    "y_true = siab_test.iloc[:, [3]]"
   ]
  },
  {
   "cell_type": "markdown",
   "id": "9901737e-04df-44f0-9100-f5ad144ed040",
   "metadata": {
    "papermill": {
     "duration": 0.024389,
     "end_time": "2025-07-30T12:53:48.980475",
     "exception": false,
     "start_time": "2025-07-30T12:53:48.956086",
     "status": "completed"
    },
    "tags": []
   },
   "source": [
    "# Splitting Data and Setting Training Data Size OLD VERSION"
   ]
  },
  {
   "cell_type": "code",
   "execution_count": 24,
   "id": "acbc8f7d-8fc8-4e86-8c59-5dcb0f58384b",
   "metadata": {
    "execution": {
     "iopub.execute_input": "2025-07-30T12:53:49.029343Z",
     "iopub.status.busy": "2025-07-30T12:53:49.028551Z",
     "iopub.status.idle": "2025-07-30T12:53:49.034619Z",
     "shell.execute_reply": "2025-07-30T12:53:49.033603Z"
    },
    "papermill": {
     "duration": 0.032798,
     "end_time": "2025-07-30T12:53:49.036483",
     "exception": false,
     "start_time": "2025-07-30T12:53:49.003685",
     "status": "completed"
    },
    "tags": []
   },
   "outputs": [],
   "source": [
    "#def sample_by_year(df, training_size, random_state=42):\n",
    "#    if training_size == \"2014\":\n",
    "#        return df[df[\"year\"] == 2014].reset_index(drop=True)\n",
    "#    \n",
    "#    size_map = {\n",
    "#        \"25k\": 5000,\n",
    "#        \"5k\": 1000,\n",
    "#        \"1k\": 200\n",
    "#    }\n",
    "#\n",
    "#    if training_size not in size_map:\n",
    "#        return df.reset_index(drop=True)  # use all data\n",
    "#\n",
    "#    n_per_year = size_map[training_size]\n",
    "#    grouped = df.groupby(\"year\")\n",
    "#    sampled = grouped.apply(lambda x: x.sample(n=min(n_per_year, len(x)), random_state=random_state))\n",
    "#    return sampled.reset_index(drop=True)"
   ]
  },
  {
   "cell_type": "code",
   "execution_count": 25,
   "id": "6d931f52-beaf-43ff-9e78-9d44a448d54e",
   "metadata": {
    "execution": {
     "iopub.execute_input": "2025-07-30T12:53:49.084261Z",
     "iopub.status.busy": "2025-07-30T12:53:49.083764Z",
     "iopub.status.idle": "2025-07-30T12:53:49.089396Z",
     "shell.execute_reply": "2025-07-30T12:53:49.088235Z"
    },
    "papermill": {
     "duration": 0.040649,
     "end_time": "2025-07-30T12:53:49.098495",
     "exception": false,
     "start_time": "2025-07-30T12:53:49.057846",
     "status": "completed"
    },
    "tags": []
   },
   "outputs": [],
   "source": [
    "#siab_s = sample_by_year(siab, universe[\"training_size\"])"
   ]
  },
  {
   "cell_type": "code",
   "execution_count": 26,
   "id": "5db0a40e-a4e2-4920-be85-b12ae061d70d",
   "metadata": {
    "execution": {
     "iopub.execute_input": "2025-07-30T12:53:49.144354Z",
     "iopub.status.busy": "2025-07-30T12:53:49.143443Z",
     "iopub.status.idle": "2025-07-30T12:53:49.149769Z",
     "shell.execute_reply": "2025-07-30T12:53:49.148665Z"
    },
    "papermill": {
     "duration": 0.033501,
     "end_time": "2025-07-30T12:53:49.151648",
     "exception": false,
     "start_time": "2025-07-30T12:53:49.118147",
     "status": "completed"
    },
    "tags": []
   },
   "outputs": [],
   "source": [
    "#display(siab_s.groupby(\"year\").size())"
   ]
  },
  {
   "cell_type": "code",
   "execution_count": 27,
   "id": "e6c733c5",
   "metadata": {
    "execution": {
     "iopub.execute_input": "2025-07-30T12:53:49.200431Z",
     "iopub.status.busy": "2025-07-30T12:53:49.199237Z",
     "iopub.status.idle": "2025-07-30T12:53:49.350144Z",
     "shell.execute_reply": "2025-07-30T12:53:49.349280Z"
    },
    "papermill": {
     "duration": 0.17921,
     "end_time": "2025-07-30T12:53:49.352316",
     "exception": false,
     "start_time": "2025-07-30T12:53:49.173106",
     "status": "completed"
    },
    "tags": []
   },
   "outputs": [],
   "source": [
    "# Auxiliary data needed downstream in the pipeline\n",
    "\n",
    "org_train = X_train.copy()\n",
    "org_test = X_test.copy()\n",
    "org_calib = X_calib.copy()"
   ]
  },
  {
   "cell_type": "code",
   "execution_count": 28,
   "id": "1466abac-c6da-4492-a62f-4240ae3783af",
   "metadata": {
    "execution": {
     "iopub.execute_input": "2025-07-30T12:53:49.405434Z",
     "iopub.status.busy": "2025-07-30T12:53:49.404727Z",
     "iopub.status.idle": "2025-07-30T12:53:49.414334Z",
     "shell.execute_reply": "2025-07-30T12:53:49.412752Z"
    },
    "papermill": {
     "duration": 0.039608,
     "end_time": "2025-07-30T12:53:49.417231",
     "exception": false,
     "start_time": "2025-07-30T12:53:49.377623",
     "status": "completed"
    },
    "tags": []
   },
   "outputs": [],
   "source": [
    "# put in other script?\n",
    "# Group sizes\n",
    "\n",
    "#def calculate_percentages(df, df_name):\n",
    "#    total_entries = len(df)\n",
    "#\n",
    "#    female_pct = (df['frau1'] == 1).mean() * 100\n",
    "#    non_german_pct = ((df['maxdeutsch1'] == 0) & (df['maxdeutsch.Missing.'] == 0)).mean() * 100\n",
    "#    non_german_male_pct = ((df['frau1'] == 0) & (df['maxdeutsch1'] == 0) & (df['maxdeutsch.Missing.'] == 0)).mean() * 100\n",
    "#    non_german_female_pct = ((df['frau1'] == 1) & (df['maxdeutsch1'] == 0) & (df['maxdeutsch.Missing.'] == 0)).mean() * 100\n",
    "#\n",
    "#    print(f\"--- {df_name} ---\")\n",
    "#    print(f\"Female: {female_pct:.2f}%\")\n",
    "#    print(f\"Non-German: {non_german_pct:.2f}%\")\n",
    "#    print(f\"Non-German Male: {non_german_male_pct:.2f}%\")\n",
    "#    print(f\"Non-German Female: {non_german_female_pct:.2f}%\\n\")\n",
    "#\n",
    "## Calculate for each DataFrame\n",
    "#calculate_percentages(siab_calib, \"siab_calib\")\n",
    "#calculate_percentages(siab_test, \"siab_test\")\n",
    "#calculate_percentages(siab_train, \"siab_train\")"
   ]
  },
  {
   "cell_type": "markdown",
   "id": "0a4a1b33",
   "metadata": {
    "papermill": {
     "duration": 0.029946,
     "end_time": "2025-07-30T12:53:49.478577",
     "exception": false,
     "start_time": "2025-07-30T12:53:49.448631",
     "status": "completed"
    },
    "tags": []
   },
   "source": [
    "# Preprocessing Data"
   ]
  },
  {
   "cell_type": "code",
   "execution_count": 29,
   "id": "ca879031",
   "metadata": {
    "execution": {
     "iopub.execute_input": "2025-07-30T12:53:49.539288Z",
     "iopub.status.busy": "2025-07-30T12:53:49.538736Z",
     "iopub.status.idle": "2025-07-30T12:53:49.546022Z",
     "shell.execute_reply": "2025-07-30T12:53:49.544907Z"
    },
    "papermill": {
     "duration": 0.040798,
     "end_time": "2025-07-30T12:53:49.548061",
     "exception": false,
     "start_time": "2025-07-30T12:53:49.507263",
     "status": "completed"
    },
    "tags": []
   },
   "outputs": [],
   "source": [
    "# EXCLUDE PROTECTED FEATURES\n",
    "# ----------------------\n",
    "# \"exclude_features\": \"none\", # \"nationality\", \"sex\", \"nationality-sex\"\n",
    "\n",
    "excluded_features = universe[\"exclude_features\"].split(\"-\") # split, e.g.: \"nationality-sex\" -> [\"nationality\", \"sex\"]\n",
    "excluded_features_dictionary = {\n",
    "    \"nationality\": [\"maxdeutsch1\", \"maxdeutsch.Missing.\"],\n",
    "    \"sex\": [\"frau1\"],\n",
    "    \"age\": [\"age\"],\n",
    "}\n"
   ]
  },
  {
   "cell_type": "code",
   "execution_count": 30,
   "id": "b745ac60",
   "metadata": {
    "execution": {
     "iopub.execute_input": "2025-07-30T12:53:49.611183Z",
     "iopub.status.busy": "2025-07-30T12:53:49.610367Z",
     "iopub.status.idle": "2025-07-30T12:53:49.617036Z",
     "shell.execute_reply": "2025-07-30T12:53:49.616088Z"
    },
    "papermill": {
     "duration": 0.039926,
     "end_time": "2025-07-30T12:53:49.618797",
     "exception": false,
     "start_time": "2025-07-30T12:53:49.578871",
     "status": "completed"
    },
    "tags": []
   },
   "outputs": [],
   "source": [
    "# Code nice names to column names\n",
    "\n",
    "excluded_features_columns = [\n",
    "    excluded_features_dictionary[f] for f in excluded_features if len(f) > 0 and f != \"none\"\n",
    "]"
   ]
  },
  {
   "cell_type": "code",
   "execution_count": 31,
   "id": "f84f73a2",
   "metadata": {
    "execution": {
     "iopub.execute_input": "2025-07-30T12:53:49.667036Z",
     "iopub.status.busy": "2025-07-30T12:53:49.666600Z",
     "iopub.status.idle": "2025-07-30T12:53:49.673606Z",
     "shell.execute_reply": "2025-07-30T12:53:49.672294Z"
    },
    "papermill": {
     "duration": 0.031542,
     "end_time": "2025-07-30T12:53:49.675275",
     "exception": false,
     "start_time": "2025-07-30T12:53:49.643733",
     "status": "completed"
    },
    "tags": []
   },
   "outputs": [],
   "source": [
    "from utils import flatten_once\n",
    "\n",
    "excluded_features_columns = flatten_once(excluded_features_columns)"
   ]
  },
  {
   "cell_type": "code",
   "execution_count": 32,
   "id": "884dea22",
   "metadata": {
    "execution": {
     "iopub.execute_input": "2025-07-30T12:53:49.727610Z",
     "iopub.status.busy": "2025-07-30T12:53:49.727071Z",
     "iopub.status.idle": "2025-07-30T12:53:49.733407Z",
     "shell.execute_reply": "2025-07-30T12:53:49.732309Z"
    },
    "papermill": {
     "duration": 0.033665,
     "end_time": "2025-07-30T12:53:49.735307",
     "exception": false,
     "start_time": "2025-07-30T12:53:49.701642",
     "status": "completed"
    },
    "tags": []
   },
   "outputs": [],
   "source": [
    "if len(excluded_features_columns) > 0:\n",
    "    print(f\"Dropping features: {excluded_features_columns}\")\n",
    "    X_train.drop(excluded_features_columns, axis=1, inplace=True)"
   ]
  },
  {
   "cell_type": "code",
   "execution_count": 33,
   "id": "95ab8b16",
   "metadata": {
    "execution": {
     "iopub.execute_input": "2025-07-30T12:53:49.783508Z",
     "iopub.status.busy": "2025-07-30T12:53:49.783040Z",
     "iopub.status.idle": "2025-07-30T12:53:49.788770Z",
     "shell.execute_reply": "2025-07-30T12:53:49.787816Z"
    },
    "papermill": {
     "duration": 0.03052,
     "end_time": "2025-07-30T12:53:49.790474",
     "exception": false,
     "start_time": "2025-07-30T12:53:49.759954",
     "status": "completed"
    },
    "tags": []
   },
   "outputs": [],
   "source": [
    "if len(excluded_features_columns) > 0:\n",
    "    print(f\"Dropping features: {excluded_features_columns}\")\n",
    "    X_test.drop(excluded_features_columns, axis=1, inplace=True)"
   ]
  },
  {
   "cell_type": "code",
   "execution_count": 34,
   "id": "1853aaf5-fb9f-46cb-a2b5-8ea4ae2237e4",
   "metadata": {
    "execution": {
     "iopub.execute_input": "2025-07-30T12:53:49.844249Z",
     "iopub.status.busy": "2025-07-30T12:53:49.843729Z",
     "iopub.status.idle": "2025-07-30T12:53:49.849935Z",
     "shell.execute_reply": "2025-07-30T12:53:49.848758Z"
    },
    "papermill": {
     "duration": 0.035022,
     "end_time": "2025-07-30T12:53:49.851959",
     "exception": false,
     "start_time": "2025-07-30T12:53:49.816937",
     "status": "completed"
    },
    "tags": []
   },
   "outputs": [],
   "source": [
    "if len(excluded_features_columns) > 0:\n",
    "    print(f\"Dropping features: {excluded_features_columns}\")\n",
    "    X_calib.drop(excluded_features_columns, axis=1, inplace=True)"
   ]
  },
  {
   "cell_type": "code",
   "execution_count": 35,
   "id": "6727d079-03e5-481e-9d38-292a90b7a0a8",
   "metadata": {
    "execution": {
     "iopub.execute_input": "2025-07-30T12:53:49.902498Z",
     "iopub.status.busy": "2025-07-30T12:53:49.901996Z",
     "iopub.status.idle": "2025-07-30T12:53:49.907656Z",
     "shell.execute_reply": "2025-07-30T12:53:49.906606Z"
    },
    "papermill": {
     "duration": 0.03431,
     "end_time": "2025-07-30T12:53:49.909739",
     "exception": false,
     "start_time": "2025-07-30T12:53:49.875429",
     "status": "completed"
    },
    "tags": []
   },
   "outputs": [],
   "source": [
    "# SPLIT & STRATIFY DATA\n",
    "# ----------------------"
   ]
  },
  {
   "cell_type": "code",
   "execution_count": 36,
   "id": "76c4dc6d",
   "metadata": {
    "execution": {
     "iopub.execute_input": "2025-07-30T12:53:49.960021Z",
     "iopub.status.busy": "2025-07-30T12:53:49.959469Z",
     "iopub.status.idle": "2025-07-30T12:53:49.998646Z",
     "shell.execute_reply": "2025-07-30T12:53:49.997510Z"
    },
    "papermill": {
     "duration": 0.063971,
     "end_time": "2025-07-30T12:53:50.000533",
     "exception": false,
     "start_time": "2025-07-30T12:53:49.936562",
     "status": "completed"
    },
    "tags": []
   },
   "outputs": [],
   "source": [
    "# EXCLUDE CERTAIN SUBGROUPS\n",
    "# ----------------------\n",
    "\n",
    "mode = universe.get(\"exclude_subgroups\", \"keep-all\") \n",
    "# Fetches the exclude_subgroups setting from the universe dict.\n",
    "# Defaults to \"keep-all\" if the key is missing."
   ]
  },
  {
   "cell_type": "code",
   "execution_count": 37,
   "id": "21994072",
   "metadata": {
    "execution": {
     "iopub.execute_input": "2025-07-30T12:53:50.052681Z",
     "iopub.status.busy": "2025-07-30T12:53:50.052165Z",
     "iopub.status.idle": "2025-07-30T12:53:50.060629Z",
     "shell.execute_reply": "2025-07-30T12:53:50.059248Z"
    },
    "papermill": {
     "duration": 0.038358,
     "end_time": "2025-07-30T12:53:50.063585",
     "exception": false,
     "start_time": "2025-07-30T12:53:50.025227",
     "status": "completed"
    },
    "tags": []
   },
   "outputs": [],
   "source": [
    "if mode == \"keep-all\":\n",
    "    keep_mask = pd.Series(True, index=org_train.index)\n",
    "\n",
    "# org_train contains the original feature columns from features_org (in Simson)\n",
    "# features_org contains unprocessed features, for me X_train at beginning ???\n",
    "# For keep-all, creates a boolean Series (keep_mask) of all True, so no rows are removed.\n",
    "\n",
    "elif mode == \"drop-non-german\":\n",
    "    keep_mask = org_train[\"maxdeutsch1\"] == 1 # ??? what about missing values?\n",
    "\n",
    "else:\n",
    "    raise ValueError(f\"Unsupported mode for exclude_subgroups: {mode}\")\n"
   ]
  },
  {
   "cell_type": "code",
   "execution_count": 38,
   "id": "71651440",
   "metadata": {
    "execution": {
     "iopub.execute_input": "2025-07-30T12:53:50.112869Z",
     "iopub.status.busy": "2025-07-30T12:53:50.112144Z",
     "iopub.status.idle": "2025-07-30T12:53:50.123285Z",
     "shell.execute_reply": "2025-07-30T12:53:50.122289Z"
    },
    "papermill": {
     "duration": 0.039472,
     "end_time": "2025-07-30T12:53:50.125188",
     "exception": false,
     "start_time": "2025-07-30T12:53:50.085716",
     "status": "completed"
    },
    "tags": []
   },
   "outputs": [
    {
     "name": "stdout",
     "output_type": "stream",
     "text": [
      "Dropping 3688 rows (14.75%) where mode='drop-non-german'\n"
     ]
    }
   ],
   "source": [
    "n_drop = (~keep_mask).sum() # Calculates how many rows are set to be dropped\n",
    "if n_drop > 0:\n",
    "    pct = n_drop / len(keep_mask) * 100\n",
    "    print(f\"Dropping {n_drop} rows ({pct:.2f}%) where mode='{mode}'\")"
   ]
  },
  {
   "cell_type": "code",
   "execution_count": 39,
   "id": "5fb8eee5",
   "metadata": {
    "execution": {
     "iopub.execute_input": "2025-07-30T12:53:50.177013Z",
     "iopub.status.busy": "2025-07-30T12:53:50.176091Z",
     "iopub.status.idle": "2025-07-30T12:53:50.202194Z",
     "shell.execute_reply": "2025-07-30T12:53:50.201159Z"
    },
    "papermill": {
     "duration": 0.054313,
     "end_time": "2025-07-30T12:53:50.204013",
     "exception": false,
     "start_time": "2025-07-30T12:53:50.149700",
     "status": "completed"
    },
    "tags": []
   },
   "outputs": [],
   "source": [
    "X_train = X_train[keep_mask]"
   ]
  },
  {
   "cell_type": "code",
   "execution_count": 40,
   "id": "b202bb3a",
   "metadata": {
    "execution": {
     "iopub.execute_input": "2025-07-30T12:53:50.256252Z",
     "iopub.status.busy": "2025-07-30T12:53:50.255472Z",
     "iopub.status.idle": "2025-07-30T12:53:50.277075Z",
     "shell.execute_reply": "2025-07-30T12:53:50.275860Z"
    },
    "papermill": {
     "duration": 0.051088,
     "end_time": "2025-07-30T12:53:50.279447",
     "exception": false,
     "start_time": "2025-07-30T12:53:50.228359",
     "status": "completed"
    },
    "tags": []
   },
   "outputs": [],
   "source": [
    "y_train = y_train[keep_mask]"
   ]
  },
  {
   "cell_type": "markdown",
   "id": "493e2ac3",
   "metadata": {
    "papermill": {
     "duration": 0.028124,
     "end_time": "2025-07-30T12:53:50.336694",
     "exception": false,
     "start_time": "2025-07-30T12:53:50.308570",
     "status": "completed"
    },
    "tags": []
   },
   "source": [
    "# Model Training"
   ]
  },
  {
   "cell_type": "code",
   "execution_count": 41,
   "id": "679e1268",
   "metadata": {
    "execution": {
     "iopub.execute_input": "2025-07-30T12:53:50.394675Z",
     "iopub.status.busy": "2025-07-30T12:53:50.394210Z",
     "iopub.status.idle": "2025-07-30T12:53:50.512331Z",
     "shell.execute_reply": "2025-07-30T12:53:50.511205Z"
    },
    "papermill": {
     "duration": 0.148211,
     "end_time": "2025-07-30T12:53:50.514285",
     "exception": false,
     "start_time": "2025-07-30T12:53:50.366074",
     "status": "completed"
    },
    "tags": []
   },
   "outputs": [],
   "source": [
    "from sklearn.linear_model import LogisticRegression\n",
    "from sklearn.ensemble import GradientBoostingClassifier, RandomForestClassifier\n",
    "\n",
    "if (universe[\"model\"] == \"logreg\"):\n",
    "    model = LogisticRegression() #penalty=\"none\") #, solver=\"newton-cg\", max_iter=1) # include random_state=19 ?\n",
    "elif (universe[\"model\"] == \"penalized_logreg\"):\n",
    "    model = LogisticRegression(penalty=\"l2\", C=1.0) #, solver=\"newton-cg\", max_iter=1)\n",
    "elif (universe[\"model\"] == \"rf\"):\n",
    "    model = RandomForestClassifier(n_estimators=100, n_jobs=-1)\n",
    "elif (universe[\"model\"] == \"gbm\"):\n",
    "    model = GradientBoostingClassifier()\n",
    "elif (universe[\"model\"] == \"elasticnet\"):\n",
    "    model = LogisticRegression(penalty = 'elasticnet', solver = 'saga', l1_ratio = 0.5, max_iter=5000) # which solver to use?\n",
    "else:\n",
    "    raise \"Unsupported universe.model\""
   ]
  },
  {
   "cell_type": "code",
   "execution_count": 42,
   "id": "0cc8f744",
   "metadata": {
    "execution": {
     "iopub.execute_input": "2025-07-30T12:53:50.577158Z",
     "iopub.status.busy": "2025-07-30T12:53:50.576517Z",
     "iopub.status.idle": "2025-07-30T12:53:50.583813Z",
     "shell.execute_reply": "2025-07-30T12:53:50.582862Z"
    },
    "papermill": {
     "duration": 0.044129,
     "end_time": "2025-07-30T12:53:50.585505",
     "exception": false,
     "start_time": "2025-07-30T12:53:50.541376",
     "status": "completed"
    },
    "tags": []
   },
   "outputs": [],
   "source": [
    "import numpy as np\n",
    "from sklearn.pipeline import Pipeline\n",
    "from sklearn.preprocessing import StandardScaler\n",
    "\n",
    "model = Pipeline([\n",
    "    #(\"continuous_processor\", continuous_processor),\n",
    "    #(\"categorical_preprocessor\", categorical_preprocessor),\n",
    "    (\"scale\", StandardScaler() if universe[\"scale\"] == \"scale\" else None), \n",
    "    (\"model\", model),\n",
    "])"
   ]
  },
  {
   "cell_type": "code",
   "execution_count": 43,
   "id": "9442c04d",
   "metadata": {
    "execution": {
     "iopub.execute_input": "2025-07-30T12:53:50.638150Z",
     "iopub.status.busy": "2025-07-30T12:53:50.637153Z",
     "iopub.status.idle": "2025-07-30T12:53:51.369217Z",
     "shell.execute_reply": "2025-07-30T12:53:51.368291Z"
    },
    "papermill": {
     "duration": 0.76036,
     "end_time": "2025-07-30T12:53:51.370831",
     "exception": false,
     "start_time": "2025-07-30T12:53:50.610471",
     "status": "completed"
    },
    "tags": []
   },
   "outputs": [
    {
     "name": "stderr",
     "output_type": "stream",
     "text": [
      "/dss/dsshome1/0C/ra93lal2/.local/share/virtualenvs/CMA_Fairness_v2-3j10GkSs/lib/python3.10/site-packages/sklearn/linear_model/_logistic.py:444: ConvergenceWarning: lbfgs failed to converge (status=1):\n",
      "STOP: TOTAL NO. of ITERATIONS REACHED LIMIT.\n",
      "\n",
      "Increase the number of iterations (max_iter) or scale the data as shown in:\n",
      "    https://scikit-learn.org/stable/modules/preprocessing.html\n",
      "Please also refer to the documentation for alternative solver options:\n",
      "    https://scikit-learn.org/stable/modules/linear_model.html#logistic-regression\n",
      "  n_iter_i = _check_optimize_result(\n"
     ]
    },
    {
     "data": {
      "text/html": [
       "<style>#sk-container-id-1 {color: black;background-color: white;}#sk-container-id-1 pre{padding: 0;}#sk-container-id-1 div.sk-toggleable {background-color: white;}#sk-container-id-1 label.sk-toggleable__label {cursor: pointer;display: block;width: 100%;margin-bottom: 0;padding: 0.3em;box-sizing: border-box;text-align: center;}#sk-container-id-1 label.sk-toggleable__label-arrow:before {content: \"▸\";float: left;margin-right: 0.25em;color: #696969;}#sk-container-id-1 label.sk-toggleable__label-arrow:hover:before {color: black;}#sk-container-id-1 div.sk-estimator:hover label.sk-toggleable__label-arrow:before {color: black;}#sk-container-id-1 div.sk-toggleable__content {max-height: 0;max-width: 0;overflow: hidden;text-align: left;background-color: #f0f8ff;}#sk-container-id-1 div.sk-toggleable__content pre {margin: 0.2em;color: black;border-radius: 0.25em;background-color: #f0f8ff;}#sk-container-id-1 input.sk-toggleable__control:checked~div.sk-toggleable__content {max-height: 200px;max-width: 100%;overflow: auto;}#sk-container-id-1 input.sk-toggleable__control:checked~label.sk-toggleable__label-arrow:before {content: \"▾\";}#sk-container-id-1 div.sk-estimator input.sk-toggleable__control:checked~label.sk-toggleable__label {background-color: #d4ebff;}#sk-container-id-1 div.sk-label input.sk-toggleable__control:checked~label.sk-toggleable__label {background-color: #d4ebff;}#sk-container-id-1 input.sk-hidden--visually {border: 0;clip: rect(1px 1px 1px 1px);clip: rect(1px, 1px, 1px, 1px);height: 1px;margin: -1px;overflow: hidden;padding: 0;position: absolute;width: 1px;}#sk-container-id-1 div.sk-estimator {font-family: monospace;background-color: #f0f8ff;border: 1px dotted black;border-radius: 0.25em;box-sizing: border-box;margin-bottom: 0.5em;}#sk-container-id-1 div.sk-estimator:hover {background-color: #d4ebff;}#sk-container-id-1 div.sk-parallel-item::after {content: \"\";width: 100%;border-bottom: 1px solid gray;flex-grow: 1;}#sk-container-id-1 div.sk-label:hover label.sk-toggleable__label {background-color: #d4ebff;}#sk-container-id-1 div.sk-serial::before {content: \"\";position: absolute;border-left: 1px solid gray;box-sizing: border-box;top: 0;bottom: 0;left: 50%;z-index: 0;}#sk-container-id-1 div.sk-serial {display: flex;flex-direction: column;align-items: center;background-color: white;padding-right: 0.2em;padding-left: 0.2em;position: relative;}#sk-container-id-1 div.sk-item {position: relative;z-index: 1;}#sk-container-id-1 div.sk-parallel {display: flex;align-items: stretch;justify-content: center;background-color: white;position: relative;}#sk-container-id-1 div.sk-item::before, #sk-container-id-1 div.sk-parallel-item::before {content: \"\";position: absolute;border-left: 1px solid gray;box-sizing: border-box;top: 0;bottom: 0;left: 50%;z-index: -1;}#sk-container-id-1 div.sk-parallel-item {display: flex;flex-direction: column;z-index: 1;position: relative;background-color: white;}#sk-container-id-1 div.sk-parallel-item:first-child::after {align-self: flex-end;width: 50%;}#sk-container-id-1 div.sk-parallel-item:last-child::after {align-self: flex-start;width: 50%;}#sk-container-id-1 div.sk-parallel-item:only-child::after {width: 0;}#sk-container-id-1 div.sk-dashed-wrapped {border: 1px dashed gray;margin: 0 0.4em 0.5em 0.4em;box-sizing: border-box;padding-bottom: 0.4em;background-color: white;}#sk-container-id-1 div.sk-label label {font-family: monospace;font-weight: bold;display: inline-block;line-height: 1.2em;}#sk-container-id-1 div.sk-label-container {text-align: center;}#sk-container-id-1 div.sk-container {/* jupyter's `normalize.less` sets `[hidden] { display: none; }` but bootstrap.min.css set `[hidden] { display: none !important; }` so we also need the `!important` here to be able to override the default hidden behavior on the sphinx rendered scikit-learn.org. See: https://github.com/scikit-learn/scikit-learn/issues/21755 */display: inline-block !important;position: relative;}#sk-container-id-1 div.sk-text-repr-fallback {display: none;}</style><div id=\"sk-container-id-1\" class=\"sk-top-container\"><div class=\"sk-text-repr-fallback\"><pre>Pipeline(steps=[(&#x27;scale&#x27;, None), (&#x27;model&#x27;, LogisticRegression())])</pre><b>In a Jupyter environment, please rerun this cell to show the HTML representation or trust the notebook. <br />On GitHub, the HTML representation is unable to render, please try loading this page with nbviewer.org.</b></div><div class=\"sk-container\" hidden><div class=\"sk-item sk-dashed-wrapped\"><div class=\"sk-label-container\"><div class=\"sk-label sk-toggleable\"><input class=\"sk-toggleable__control sk-hidden--visually\" id=\"sk-estimator-id-1\" type=\"checkbox\" ><label for=\"sk-estimator-id-1\" class=\"sk-toggleable__label sk-toggleable__label-arrow\">Pipeline</label><div class=\"sk-toggleable__content\"><pre>Pipeline(steps=[(&#x27;scale&#x27;, None), (&#x27;model&#x27;, LogisticRegression())])</pre></div></div></div><div class=\"sk-serial\"><div class=\"sk-item\"><div class=\"sk-estimator sk-toggleable\"><input class=\"sk-toggleable__control sk-hidden--visually\" id=\"sk-estimator-id-2\" type=\"checkbox\" ><label for=\"sk-estimator-id-2\" class=\"sk-toggleable__label sk-toggleable__label-arrow\">None</label><div class=\"sk-toggleable__content\"><pre>None</pre></div></div></div><div class=\"sk-item\"><div class=\"sk-estimator sk-toggleable\"><input class=\"sk-toggleable__control sk-hidden--visually\" id=\"sk-estimator-id-3\" type=\"checkbox\" ><label for=\"sk-estimator-id-3\" class=\"sk-toggleable__label sk-toggleable__label-arrow\">LogisticRegression</label><div class=\"sk-toggleable__content\"><pre>LogisticRegression()</pre></div></div></div></div></div></div></div>"
      ],
      "text/plain": [
       "Pipeline(steps=[('scale', None), ('model', LogisticRegression())])"
      ]
     },
     "execution_count": 43,
     "metadata": {},
     "output_type": "execute_result"
    }
   ],
   "source": [
    "model.fit(X_train, y_train.values.ravel())"
   ]
  },
  {
   "cell_type": "code",
   "execution_count": 44,
   "id": "af59f8c0",
   "metadata": {
    "execution": {
     "iopub.execute_input": "2025-07-30T12:53:51.425287Z",
     "iopub.status.busy": "2025-07-30T12:53:51.424744Z",
     "iopub.status.idle": "2025-07-30T12:53:51.431272Z",
     "shell.execute_reply": "2025-07-30T12:53:51.430181Z"
    },
    "papermill": {
     "duration": 0.036306,
     "end_time": "2025-07-30T12:53:51.433205",
     "exception": false,
     "start_time": "2025-07-30T12:53:51.396899",
     "status": "completed"
    },
    "tags": []
   },
   "outputs": [],
   "source": [
    "from fairness_multiverse.universe import predict_w_threshold"
   ]
  },
  {
   "cell_type": "code",
   "execution_count": 45,
   "id": "a7cf2e16",
   "metadata": {
    "execution": {
     "iopub.execute_input": "2025-07-30T12:53:51.487565Z",
     "iopub.status.busy": "2025-07-30T12:53:51.486572Z",
     "iopub.status.idle": "2025-07-30T12:53:51.590528Z",
     "shell.execute_reply": "2025-07-30T12:53:51.589570Z"
    },
    "papermill": {
     "duration": 0.134699,
     "end_time": "2025-07-30T12:53:51.592389",
     "exception": false,
     "start_time": "2025-07-30T12:53:51.457690",
     "status": "completed"
    },
    "tags": []
   },
   "outputs": [
    {
     "data": {
      "text/plain": [
       "0.8642068888641177"
      ]
     },
     "execution_count": 45,
     "metadata": {},
     "output_type": "execute_result"
    }
   ],
   "source": [
    "probs_test = model.predict_proba(X_test)\n",
    "\n",
    "'''\n",
    "Below code returns a boolean array (or binary 0/1 array depending on how it’s used) where each element \n",
    "is True if the probability of class 1 is greater than or equal to the threshold, and False otherwise.\n",
    "'''\n",
    "y_pred_default = predict_w_threshold(probs_test, 0.5)\n",
    "\n",
    "from sklearn.metrics import accuracy_score\n",
    "\n",
    "# Naive prediction\n",
    "accuracy_score(y_true = y_true, y_pred = y_pred_default)"
   ]
  },
  {
   "cell_type": "code",
   "execution_count": 46,
   "id": "081964c3",
   "metadata": {
    "execution": {
     "iopub.execute_input": "2025-07-30T12:53:51.651333Z",
     "iopub.status.busy": "2025-07-30T12:53:51.650829Z",
     "iopub.status.idle": "2025-07-30T12:53:51.737153Z",
     "shell.execute_reply": "2025-07-30T12:53:51.736084Z"
    },
    "papermill": {
     "duration": 0.118689,
     "end_time": "2025-07-30T12:53:51.738939",
     "exception": false,
     "start_time": "2025-07-30T12:53:51.620250",
     "status": "completed"
    },
    "tags": []
   },
   "outputs": [
    {
     "data": {
      "text/plain": [
       "array([0, 0, 0, ..., 0, 0, 0])"
      ]
     },
     "execution_count": 46,
     "metadata": {},
     "output_type": "execute_result"
    }
   ],
   "source": [
    "model.predict(X_test)"
   ]
  },
  {
   "cell_type": "markdown",
   "id": "56c9705b",
   "metadata": {
    "papermill": {
     "duration": 0.025062,
     "end_time": "2025-07-30T12:53:51.788939",
     "exception": false,
     "start_time": "2025-07-30T12:53:51.763877",
     "status": "completed"
    },
    "tags": []
   },
   "source": [
    "# Conformal Prediction"
   ]
  },
  {
   "cell_type": "code",
   "execution_count": 47,
   "id": "160ec6ff",
   "metadata": {
    "execution": {
     "iopub.execute_input": "2025-07-30T12:53:51.840999Z",
     "iopub.status.busy": "2025-07-30T12:53:51.840465Z",
     "iopub.status.idle": "2025-07-30T12:53:51.845868Z",
     "shell.execute_reply": "2025-07-30T12:53:51.844867Z"
    },
    "papermill": {
     "duration": 0.033135,
     "end_time": "2025-07-30T12:53:51.847735",
     "exception": false,
     "start_time": "2025-07-30T12:53:51.814600",
     "status": "completed"
    },
    "tags": []
   },
   "outputs": [],
   "source": [
    "# Miscoverage level for conformal prediction (10% allowed error rate => 90% target coverage)\n",
    "alpha = 0.1"
   ]
  },
  {
   "cell_type": "code",
   "execution_count": 48,
   "id": "eadf4555-3dd3-440e-8e35-f82a4ad9f855",
   "metadata": {
    "execution": {
     "iopub.execute_input": "2025-07-30T12:53:51.960252Z",
     "iopub.status.busy": "2025-07-30T12:53:51.959627Z",
     "iopub.status.idle": "2025-07-30T12:53:52.060968Z",
     "shell.execute_reply": "2025-07-30T12:53:52.059997Z"
    },
    "papermill": {
     "duration": 0.187902,
     "end_time": "2025-07-30T12:53:52.062806",
     "exception": false,
     "start_time": "2025-07-30T12:53:51.874904",
     "status": "completed"
    },
    "tags": []
   },
   "outputs": [],
   "source": [
    "probs_calib = model.predict_proba(X_calib)"
   ]
  },
  {
   "cell_type": "code",
   "execution_count": 49,
   "id": "2ed93547-6d5d-4983-9b36-1ecb300da49a",
   "metadata": {
    "execution": {
     "iopub.execute_input": "2025-07-30T12:53:52.114801Z",
     "iopub.status.busy": "2025-07-30T12:53:52.114283Z",
     "iopub.status.idle": "2025-07-30T12:53:52.120577Z",
     "shell.execute_reply": "2025-07-30T12:53:52.119429Z"
    },
    "papermill": {
     "duration": 0.035159,
     "end_time": "2025-07-30T12:53:52.122636",
     "exception": false,
     "start_time": "2025-07-30T12:53:52.087477",
     "status": "completed"
    },
    "tags": []
   },
   "outputs": [],
   "source": [
    "y_calib = y_calib.values.ravel().astype(int)"
   ]
  },
  {
   "cell_type": "code",
   "execution_count": 50,
   "id": "65d1320d-f588-4b38-9072-62af1ae97f7d",
   "metadata": {
    "execution": {
     "iopub.execute_input": "2025-07-30T12:53:52.176414Z",
     "iopub.status.busy": "2025-07-30T12:53:52.175895Z",
     "iopub.status.idle": "2025-07-30T12:53:52.184572Z",
     "shell.execute_reply": "2025-07-30T12:53:52.183443Z"
    },
    "papermill": {
     "duration": 0.037582,
     "end_time": "2025-07-30T12:53:52.186388",
     "exception": false,
     "start_time": "2025-07-30T12:53:52.148806",
     "status": "completed"
    },
    "tags": []
   },
   "outputs": [],
   "source": [
    "from fairness_multiverse.conformal import compute_nc_scores\n",
    "\n",
    "# Compute nonconformity scores on calibration set (1 - probability of true class)\n",
    "nc_scores = compute_nc_scores(probs_calib, y_calib)"
   ]
  },
  {
   "cell_type": "code",
   "execution_count": 51,
   "id": "df3b8ca3-53b7-43d5-9667-7c85da7aeda2",
   "metadata": {
    "execution": {
     "iopub.execute_input": "2025-07-30T12:53:52.237403Z",
     "iopub.status.busy": "2025-07-30T12:53:52.236698Z",
     "iopub.status.idle": "2025-07-30T12:53:52.244569Z",
     "shell.execute_reply": "2025-07-30T12:53:52.243448Z"
    },
    "papermill": {
     "duration": 0.035921,
     "end_time": "2025-07-30T12:53:52.246722",
     "exception": false,
     "start_time": "2025-07-30T12:53:52.210801",
     "status": "completed"
    },
    "tags": []
   },
   "outputs": [],
   "source": [
    "from fairness_multiverse.conformal import find_threshold\n",
    "\n",
    "# Find conformal threshold q_hat for the given alpha (split conformal method)\n",
    "q_hat = find_threshold(nc_scores, alpha)"
   ]
  },
  {
   "cell_type": "code",
   "execution_count": 52,
   "id": "4d29e6c1-0ef6-4aa4-b8fe-4fe79b0d033a",
   "metadata": {
    "execution": {
     "iopub.execute_input": "2025-07-30T12:53:52.277535Z",
     "iopub.status.busy": "2025-07-30T12:53:52.277116Z",
     "iopub.status.idle": "2025-07-30T12:53:52.285799Z",
     "shell.execute_reply": "2025-07-30T12:53:52.284568Z"
    },
    "papermill": {
     "duration": 0.025557,
     "end_time": "2025-07-30T12:53:52.287773",
     "exception": false,
     "start_time": "2025-07-30T12:53:52.262216",
     "status": "completed"
    },
    "tags": []
   },
   "outputs": [
    {
     "data": {
      "text/plain": [
       "0.6614582200333701"
      ]
     },
     "execution_count": 52,
     "metadata": {},
     "output_type": "execute_result"
    }
   ],
   "source": [
    "q_hat"
   ]
  },
  {
   "cell_type": "code",
   "execution_count": 53,
   "id": "92460794-cdac-4be2-ba28-f28c0515a6fb",
   "metadata": {
    "execution": {
     "iopub.execute_input": "2025-07-30T12:53:52.331555Z",
     "iopub.status.busy": "2025-07-30T12:53:52.331195Z",
     "iopub.status.idle": "2025-07-30T12:53:53.017599Z",
     "shell.execute_reply": "2025-07-30T12:53:53.016817Z"
    },
    "papermill": {
     "duration": 0.703549,
     "end_time": "2025-07-30T12:53:53.018992",
     "exception": false,
     "start_time": "2025-07-30T12:53:52.315443",
     "status": "completed"
    },
    "tags": []
   },
   "outputs": [],
   "source": [
    "from fairness_multiverse.conformal import predict_conformal_sets\n",
    "\n",
    "# Generate prediction sets for each test example\n",
    "pred_sets = predict_conformal_sets(model, X_test, q_hat)"
   ]
  },
  {
   "cell_type": "code",
   "execution_count": 54,
   "id": "d90c9a65-e6db-4f5d-80cd-e68fb7e46829",
   "metadata": {
    "execution": {
     "iopub.execute_input": "2025-07-30T12:53:53.047612Z",
     "iopub.status.busy": "2025-07-30T12:53:53.047087Z",
     "iopub.status.idle": "2025-07-30T12:53:53.052347Z",
     "shell.execute_reply": "2025-07-30T12:53:53.051510Z"
    },
    "papermill": {
     "duration": 0.021177,
     "end_time": "2025-07-30T12:53:53.053920",
     "exception": false,
     "start_time": "2025-07-30T12:53:53.032743",
     "status": "completed"
    },
    "tags": []
   },
   "outputs": [],
   "source": [
    "y_true = y_true.squeeze()"
   ]
  },
  {
   "cell_type": "code",
   "execution_count": 55,
   "id": "3a58a54a-1e68-46b9-927a-df01f18aebc8",
   "metadata": {
    "execution": {
     "iopub.execute_input": "2025-07-30T12:53:53.083695Z",
     "iopub.status.busy": "2025-07-30T12:53:53.083332Z",
     "iopub.status.idle": "2025-07-30T12:53:53.848896Z",
     "shell.execute_reply": "2025-07-30T12:53:53.847901Z"
    },
    "papermill": {
     "duration": 0.781874,
     "end_time": "2025-07-30T12:53:53.850719",
     "exception": false,
     "start_time": "2025-07-30T12:53:53.068845",
     "status": "completed"
    },
    "tags": []
   },
   "outputs": [],
   "source": [
    "from fairness_multiverse.conformal import evaluate_sets\n",
    "\n",
    "# Evaluate coverage and average set size on test data\n",
    "metrics = evaluate_sets(pred_sets, y_true)"
   ]
  },
  {
   "cell_type": "markdown",
   "id": "2b569c12-9aaa-4c88-98c9-bbcd0cf3ebb8",
   "metadata": {
    "papermill": {
     "duration": 0.023933,
     "end_time": "2025-07-30T12:53:53.900009",
     "exception": false,
     "start_time": "2025-07-30T12:53:53.876076",
     "status": "completed"
    },
    "tags": []
   },
   "source": [
    "# CP Metrics"
   ]
  },
  {
   "cell_type": "code",
   "execution_count": 56,
   "id": "5ce0a5cb-201f-45a0-ade5-94c7f0bd6095",
   "metadata": {
    "execution": {
     "iopub.execute_input": "2025-07-30T12:53:53.948955Z",
     "iopub.status.busy": "2025-07-30T12:53:53.947960Z",
     "iopub.status.idle": "2025-07-30T12:53:53.955981Z",
     "shell.execute_reply": "2025-07-30T12:53:53.954957Z"
    },
    "papermill": {
     "duration": 0.034655,
     "end_time": "2025-07-30T12:53:53.957585",
     "exception": false,
     "start_time": "2025-07-30T12:53:53.922930",
     "status": "completed"
    },
    "tags": []
   },
   "outputs": [
    {
     "data": {
      "text/plain": [
       "{'coverage': 0.9127076134210232, 'avg_size': 1.225682755545647}"
      ]
     },
     "execution_count": 56,
     "metadata": {},
     "output_type": "execute_result"
    }
   ],
   "source": [
    "metrics"
   ]
  },
  {
   "cell_type": "code",
   "execution_count": 57,
   "id": "9b9a838d-31c9-430b-ae14-12baee460d17",
   "metadata": {
    "execution": {
     "iopub.execute_input": "2025-07-30T12:53:54.007278Z",
     "iopub.status.busy": "2025-07-30T12:53:54.006900Z",
     "iopub.status.idle": "2025-07-30T12:53:54.013293Z",
     "shell.execute_reply": "2025-07-30T12:53:54.012431Z"
    },
    "papermill": {
     "duration": 0.033365,
     "end_time": "2025-07-30T12:53:54.014735",
     "exception": false,
     "start_time": "2025-07-30T12:53:53.981370",
     "status": "completed"
    },
    "tags": []
   },
   "outputs": [],
   "source": [
    "example_universe = universe.copy()\n",
    "universe_training_size = example_universe.get(\"training_size\")\n",
    "universe_scale = example_universe.get(\"scale\")\n",
    "universe_model = example_universe.get(\"model\")\n",
    "universe_exclude_features = example_universe.get(\"exclude_features\")\n",
    "universe_exclude_subgroups = example_universe.get(\"exclude_subgroups\")"
   ]
  },
  {
   "cell_type": "code",
   "execution_count": 58,
   "id": "f4b6a8ac-9dc0-4245-8a91-5b3b5999c4f9",
   "metadata": {
    "execution": {
     "iopub.execute_input": "2025-07-30T12:53:54.066490Z",
     "iopub.status.busy": "2025-07-30T12:53:54.066002Z",
     "iopub.status.idle": "2025-07-30T12:53:54.073072Z",
     "shell.execute_reply": "2025-07-30T12:53:54.072100Z"
    },
    "papermill": {
     "duration": 0.033379,
     "end_time": "2025-07-30T12:53:54.074880",
     "exception": false,
     "start_time": "2025-07-30T12:53:54.041501",
     "status": "completed"
    },
    "tags": []
   },
   "outputs": [],
   "source": [
    "cp_metrics_dict = {\n",
    "    \"universe_id\": [universe_id],\n",
    "    \"universe_training_size\": [universe_training_size],\n",
    "    \"universe_scale\": [universe_scale],\n",
    "    \"universe_model\": [universe_model],\n",
    "    \"universe_exclude_features\": [universe_exclude_features],\n",
    "    \"universe_exclude_subgroups\": [universe_exclude_subgroups],\n",
    "    \"q_hat\": [q_hat],\n",
    "    \"coverage\": [metrics[\"coverage\"]],\n",
    "    \"avg_size\": [metrics[\"avg_size\"]],\n",
    "}"
   ]
  },
  {
   "cell_type": "code",
   "execution_count": 59,
   "id": "908acbb1-0371-4915-85ca-3fa520d2efe2",
   "metadata": {
    "execution": {
     "iopub.execute_input": "2025-07-30T12:53:54.126547Z",
     "iopub.status.busy": "2025-07-30T12:53:54.126061Z",
     "iopub.status.idle": "2025-07-30T12:53:54.133859Z",
     "shell.execute_reply": "2025-07-30T12:53:54.132711Z"
    },
    "papermill": {
     "duration": 0.03672,
     "end_time": "2025-07-30T12:53:54.135846",
     "exception": false,
     "start_time": "2025-07-30T12:53:54.099126",
     "status": "completed"
    },
    "tags": []
   },
   "outputs": [
    {
     "data": {
      "text/plain": [
       "{'universe_id': ['32f86c5a0c523893b21b99f8da4df8bb'],\n",
       " 'universe_training_size': ['25k'],\n",
       " 'universe_scale': ['do-not-scale'],\n",
       " 'universe_model': ['penalized_logreg'],\n",
       " 'universe_exclude_features': ['none'],\n",
       " 'universe_exclude_subgroups': ['drop-non-german'],\n",
       " 'q_hat': [0.6614582200333701],\n",
       " 'coverage': [0.9127076134210232],\n",
       " 'avg_size': [1.225682755545647]}"
      ]
     },
     "execution_count": 59,
     "metadata": {},
     "output_type": "execute_result"
    }
   ],
   "source": [
    "cp_metrics_dict"
   ]
  },
  {
   "cell_type": "code",
   "execution_count": 60,
   "id": "33007efc-14e9-4ec6-97ac-56a455c82265",
   "metadata": {
    "execution": {
     "iopub.execute_input": "2025-07-30T12:53:54.191502Z",
     "iopub.status.busy": "2025-07-30T12:53:54.190942Z",
     "iopub.status.idle": "2025-07-30T12:53:54.198559Z",
     "shell.execute_reply": "2025-07-30T12:53:54.197571Z"
    },
    "papermill": {
     "duration": 0.034935,
     "end_time": "2025-07-30T12:53:54.200593",
     "exception": false,
     "start_time": "2025-07-30T12:53:54.165658",
     "status": "completed"
    },
    "tags": []
   },
   "outputs": [],
   "source": [
    "cp_metrics_df = pd.DataFrame(cp_metrics_dict)"
   ]
  },
  {
   "cell_type": "code",
   "execution_count": 61,
   "id": "db12611b-57b2-4910-b9d0-355adfd6e7bf",
   "metadata": {
    "execution": {
     "iopub.execute_input": "2025-07-30T12:53:54.232736Z",
     "iopub.status.busy": "2025-07-30T12:53:54.232267Z",
     "iopub.status.idle": "2025-07-30T12:53:54.251846Z",
     "shell.execute_reply": "2025-07-30T12:53:54.250886Z"
    },
    "papermill": {
     "duration": 0.035984,
     "end_time": "2025-07-30T12:53:54.253369",
     "exception": false,
     "start_time": "2025-07-30T12:53:54.217385",
     "status": "completed"
    },
    "tags": []
   },
   "outputs": [
    {
     "data": {
      "text/html": [
       "<div>\n",
       "<style scoped>\n",
       "    .dataframe tbody tr th:only-of-type {\n",
       "        vertical-align: middle;\n",
       "    }\n",
       "\n",
       "    .dataframe tbody tr th {\n",
       "        vertical-align: top;\n",
       "    }\n",
       "\n",
       "    .dataframe thead th {\n",
       "        text-align: right;\n",
       "    }\n",
       "</style>\n",
       "<table border=\"1\" class=\"dataframe\">\n",
       "  <thead>\n",
       "    <tr style=\"text-align: right;\">\n",
       "      <th></th>\n",
       "      <th>universe_id</th>\n",
       "      <th>universe_training_size</th>\n",
       "      <th>universe_scale</th>\n",
       "      <th>universe_model</th>\n",
       "      <th>universe_exclude_features</th>\n",
       "      <th>universe_exclude_subgroups</th>\n",
       "      <th>q_hat</th>\n",
       "      <th>coverage</th>\n",
       "      <th>avg_size</th>\n",
       "    </tr>\n",
       "  </thead>\n",
       "  <tbody>\n",
       "    <tr>\n",
       "      <th>0</th>\n",
       "      <td>32f86c5a0c523893b21b99f8da4df8bb</td>\n",
       "      <td>25k</td>\n",
       "      <td>do-not-scale</td>\n",
       "      <td>penalized_logreg</td>\n",
       "      <td>none</td>\n",
       "      <td>drop-non-german</td>\n",
       "      <td>0.661458</td>\n",
       "      <td>0.912708</td>\n",
       "      <td>1.225683</td>\n",
       "    </tr>\n",
       "  </tbody>\n",
       "</table>\n",
       "</div>"
      ],
      "text/plain": [
       "                        universe_id universe_training_size universe_scale  \\\n",
       "0  32f86c5a0c523893b21b99f8da4df8bb                    25k   do-not-scale   \n",
       "\n",
       "     universe_model universe_exclude_features universe_exclude_subgroups  \\\n",
       "0  penalized_logreg                      none            drop-non-german   \n",
       "\n",
       "      q_hat  coverage  avg_size  \n",
       "0  0.661458  0.912708  1.225683  "
      ]
     },
     "execution_count": 61,
     "metadata": {},
     "output_type": "execute_result"
    }
   ],
   "source": [
    "cp_metrics_df"
   ]
  },
  {
   "cell_type": "code",
   "execution_count": 62,
   "id": "b7fbde55-a0a1-47e4-9af6-fe4a17fa8c61",
   "metadata": {
    "execution": {
     "iopub.execute_input": "2025-07-30T12:53:54.296213Z",
     "iopub.status.busy": "2025-07-30T12:53:54.295679Z",
     "iopub.status.idle": "2025-07-30T12:53:54.300513Z",
     "shell.execute_reply": "2025-07-30T12:53:54.299648Z"
    },
    "papermill": {
     "duration": 0.024111,
     "end_time": "2025-07-30T12:53:54.301937",
     "exception": false,
     "start_time": "2025-07-30T12:53:54.277826",
     "status": "completed"
    },
    "tags": []
   },
   "outputs": [],
   "source": [
    "# Conditional Coverage & looking at subgroups"
   ]
  },
  {
   "cell_type": "code",
   "execution_count": 63,
   "id": "027ae886-68dd-4141-96c7-805a5450e1ef",
   "metadata": {
    "execution": {
     "iopub.execute_input": "2025-07-30T12:53:54.347726Z",
     "iopub.status.busy": "2025-07-30T12:53:54.346948Z",
     "iopub.status.idle": "2025-07-30T12:53:54.566539Z",
     "shell.execute_reply": "2025-07-30T12:53:54.565804Z"
    },
    "papermill": {
     "duration": 0.25056,
     "end_time": "2025-07-30T12:53:54.568592",
     "exception": false,
     "start_time": "2025-07-30T12:53:54.318032",
     "status": "completed"
    },
    "tags": []
   },
   "outputs": [],
   "source": [
    "from fairness_multiverse.conformal import build_cp_groups\n",
    "\n",
    "cp_groups_df = build_cp_groups(pred_sets, y_true, X_test.index, org_test)\n",
    "#needs universe_id and setting"
   ]
  },
  {
   "cell_type": "code",
   "execution_count": 64,
   "id": "01d5802c-663a-4d1f-9d69-e036faaffbf7",
   "metadata": {
    "execution": {
     "iopub.execute_input": "2025-07-30T12:53:54.616241Z",
     "iopub.status.busy": "2025-07-30T12:53:54.615773Z",
     "iopub.status.idle": "2025-07-30T12:53:54.620222Z",
     "shell.execute_reply": "2025-07-30T12:53:54.619450Z"
    },
    "papermill": {
     "duration": 0.025759,
     "end_time": "2025-07-30T12:53:54.621611",
     "exception": false,
     "start_time": "2025-07-30T12:53:54.595852",
     "status": "completed"
    },
    "tags": []
   },
   "outputs": [],
   "source": [
    "#delete\n",
    "#cp_groups_df"
   ]
  },
  {
   "cell_type": "code",
   "execution_count": 65,
   "id": "fa424af1-d1eb-443d-b717-2d279ada8408",
   "metadata": {
    "execution": {
     "iopub.execute_input": "2025-07-30T12:53:54.652933Z",
     "iopub.status.busy": "2025-07-30T12:53:54.652363Z",
     "iopub.status.idle": "2025-07-30T12:53:54.657125Z",
     "shell.execute_reply": "2025-07-30T12:53:54.656347Z"
    },
    "papermill": {
     "duration": 0.021222,
     "end_time": "2025-07-30T12:53:54.658662",
     "exception": false,
     "start_time": "2025-07-30T12:53:54.637440",
     "status": "completed"
    },
    "tags": []
   },
   "outputs": [],
   "source": [
    "#delete\n",
    "#percentage = (cp_groups_df['nongerman_female'] == 1).mean() * 100\n",
    "#print(percentage)\n"
   ]
  },
  {
   "cell_type": "code",
   "execution_count": 66,
   "id": "6cbdab96-b2b2-45af-ad54-d0516db2e28d",
   "metadata": {
    "execution": {
     "iopub.execute_input": "2025-07-30T12:53:54.692706Z",
     "iopub.status.busy": "2025-07-30T12:53:54.691960Z",
     "iopub.status.idle": "2025-07-30T12:53:56.005323Z",
     "shell.execute_reply": "2025-07-30T12:53:56.004240Z"
    },
    "papermill": {
     "duration": 1.329676,
     "end_time": "2025-07-30T12:53:56.007275",
     "exception": false,
     "start_time": "2025-07-30T12:53:54.677599",
     "status": "completed"
    },
    "tags": []
   },
   "outputs": [],
   "source": [
    "# Define covered = 1 if true_label is in the predicted set\n",
    "cp_groups_df['covered'] = cp_groups_df.apply(\n",
    "    lambda r: int(r['true_label'] in r['pred_set']),\n",
    "    axis=1\n",
    ")"
   ]
  },
  {
   "cell_type": "code",
   "execution_count": 67,
   "id": "338ff529-1a6b-4b87-a931-8e4788d52aad",
   "metadata": {
    "execution": {
     "iopub.execute_input": "2025-07-30T12:53:56.061485Z",
     "iopub.status.busy": "2025-07-30T12:53:56.060894Z",
     "iopub.status.idle": "2025-07-30T12:53:56.064962Z",
     "shell.execute_reply": "2025-07-30T12:53:56.064114Z"
    },
    "papermill": {
     "duration": 0.03146,
     "end_time": "2025-07-30T12:53:56.066384",
     "exception": false,
     "start_time": "2025-07-30T12:53:56.034924",
     "status": "completed"
    },
    "tags": []
   },
   "outputs": [],
   "source": [
    "#cp_groups_df"
   ]
  },
  {
   "cell_type": "code",
   "execution_count": 68,
   "id": "90032e27-66df-4540-9169-4e89cfbaa758",
   "metadata": {
    "execution": {
     "iopub.execute_input": "2025-07-30T12:53:56.122229Z",
     "iopub.status.busy": "2025-07-30T12:53:56.121692Z",
     "iopub.status.idle": "2025-07-30T12:53:56.132480Z",
     "shell.execute_reply": "2025-07-30T12:53:56.131443Z"
    },
    "papermill": {
     "duration": 0.03917,
     "end_time": "2025-07-30T12:53:56.134138",
     "exception": false,
     "start_time": "2025-07-30T12:53:56.094968",
     "status": "completed"
    },
    "tags": []
   },
   "outputs": [],
   "source": [
    "subgroups = ['frau1','nongerman','nongerman_male','nongerman_female']\n",
    "\n",
    "# Conditional coverage for subgroup==1\n",
    "cond_coverage = {\n",
    "    g: cp_groups_df.loc[cp_groups_df[g]==1, 'covered'].mean()\n",
    "    for g in subgroups\n",
    "}"
   ]
  },
  {
   "cell_type": "code",
   "execution_count": 69,
   "id": "1e348fb1-b9c3-45bc-ba23-f016827a7e0d",
   "metadata": {
    "execution": {
     "iopub.execute_input": "2025-07-30T12:53:56.166471Z",
     "iopub.status.busy": "2025-07-30T12:53:56.165983Z",
     "iopub.status.idle": "2025-07-30T12:53:56.172288Z",
     "shell.execute_reply": "2025-07-30T12:53:56.171553Z"
    },
    "papermill": {
     "duration": 0.021846,
     "end_time": "2025-07-30T12:53:56.173585",
     "exception": false,
     "start_time": "2025-07-30T12:53:56.151739",
     "status": "completed"
    },
    "tags": []
   },
   "outputs": [
    {
     "data": {
      "text/plain": [
       "{'frau1': 0.9116862110796603,\n",
       " 'nongerman': 0.9440296412732274,\n",
       " 'nongerman_male': 0.9544267315140053,\n",
       " 'nongerman_female': 0.9268256333830104}"
      ]
     },
     "execution_count": 69,
     "metadata": {},
     "output_type": "execute_result"
    }
   ],
   "source": [
    "cond_coverage"
   ]
  },
  {
   "cell_type": "code",
   "execution_count": 70,
   "id": "f5093324-c3dd-4d63-bc4c-8d945e5c8bbb",
   "metadata": {
    "execution": {
     "iopub.execute_input": "2025-07-30T12:53:56.210844Z",
     "iopub.status.busy": "2025-07-30T12:53:56.210266Z",
     "iopub.status.idle": "2025-07-30T12:53:56.219026Z",
     "shell.execute_reply": "2025-07-30T12:53:56.217790Z"
    },
    "papermill": {
     "duration": 0.032798,
     "end_time": "2025-07-30T12:53:56.221120",
     "exception": false,
     "start_time": "2025-07-30T12:53:56.188322",
     "status": "completed"
    },
    "tags": []
   },
   "outputs": [],
   "source": [
    "for subgroup, cov in cond_coverage.items():\n",
    "    cp_metrics_df[f\"cov_{subgroup}\"] = cov"
   ]
  },
  {
   "cell_type": "code",
   "execution_count": 71,
   "id": "6e872e10-dbe5-49e8-b554-5030c98ff75d",
   "metadata": {
    "execution": {
     "iopub.execute_input": "2025-07-30T12:53:56.284779Z",
     "iopub.status.busy": "2025-07-30T12:53:56.284271Z",
     "iopub.status.idle": "2025-07-30T12:53:56.303170Z",
     "shell.execute_reply": "2025-07-30T12:53:56.302108Z"
    },
    "papermill": {
     "duration": 0.052149,
     "end_time": "2025-07-30T12:53:56.305102",
     "exception": false,
     "start_time": "2025-07-30T12:53:56.252953",
     "status": "completed"
    },
    "tags": []
   },
   "outputs": [
    {
     "data": {
      "text/html": [
       "<div>\n",
       "<style scoped>\n",
       "    .dataframe tbody tr th:only-of-type {\n",
       "        vertical-align: middle;\n",
       "    }\n",
       "\n",
       "    .dataframe tbody tr th {\n",
       "        vertical-align: top;\n",
       "    }\n",
       "\n",
       "    .dataframe thead th {\n",
       "        text-align: right;\n",
       "    }\n",
       "</style>\n",
       "<table border=\"1\" class=\"dataframe\">\n",
       "  <thead>\n",
       "    <tr style=\"text-align: right;\">\n",
       "      <th></th>\n",
       "      <th>universe_id</th>\n",
       "      <th>universe_training_size</th>\n",
       "      <th>universe_scale</th>\n",
       "      <th>universe_model</th>\n",
       "      <th>universe_exclude_features</th>\n",
       "      <th>universe_exclude_subgroups</th>\n",
       "      <th>q_hat</th>\n",
       "      <th>coverage</th>\n",
       "      <th>avg_size</th>\n",
       "      <th>cov_frau1</th>\n",
       "      <th>cov_nongerman</th>\n",
       "      <th>cov_nongerman_male</th>\n",
       "      <th>cov_nongerman_female</th>\n",
       "    </tr>\n",
       "  </thead>\n",
       "  <tbody>\n",
       "    <tr>\n",
       "      <th>0</th>\n",
       "      <td>32f86c5a0c523893b21b99f8da4df8bb</td>\n",
       "      <td>25k</td>\n",
       "      <td>do-not-scale</td>\n",
       "      <td>penalized_logreg</td>\n",
       "      <td>none</td>\n",
       "      <td>drop-non-german</td>\n",
       "      <td>0.661458</td>\n",
       "      <td>0.912708</td>\n",
       "      <td>1.225683</td>\n",
       "      <td>0.911686</td>\n",
       "      <td>0.94403</td>\n",
       "      <td>0.954427</td>\n",
       "      <td>0.926826</td>\n",
       "    </tr>\n",
       "  </tbody>\n",
       "</table>\n",
       "</div>"
      ],
      "text/plain": [
       "                        universe_id universe_training_size universe_scale  \\\n",
       "0  32f86c5a0c523893b21b99f8da4df8bb                    25k   do-not-scale   \n",
       "\n",
       "     universe_model universe_exclude_features universe_exclude_subgroups  \\\n",
       "0  penalized_logreg                      none            drop-non-german   \n",
       "\n",
       "      q_hat  coverage  avg_size  cov_frau1  cov_nongerman  cov_nongerman_male  \\\n",
       "0  0.661458  0.912708  1.225683   0.911686        0.94403            0.954427   \n",
       "\n",
       "   cov_nongerman_female  \n",
       "0              0.926826  "
      ]
     },
     "execution_count": 71,
     "metadata": {},
     "output_type": "execute_result"
    }
   ],
   "source": [
    "cp_metrics_df"
   ]
  },
  {
   "cell_type": "markdown",
   "id": "33774451",
   "metadata": {
    "papermill": {
     "duration": 0.029581,
     "end_time": "2025-07-30T12:53:56.366101",
     "exception": false,
     "start_time": "2025-07-30T12:53:56.336520",
     "status": "completed"
    },
    "tags": []
   },
   "source": [
    "# (Fairness) Metrics"
   ]
  },
  {
   "cell_type": "code",
   "execution_count": 72,
   "id": "debc5d62",
   "metadata": {
    "execution": {
     "iopub.execute_input": "2025-07-30T12:53:56.429209Z",
     "iopub.status.busy": "2025-07-30T12:53:56.428589Z",
     "iopub.status.idle": "2025-07-30T12:53:56.450534Z",
     "shell.execute_reply": "2025-07-30T12:53:56.449405Z"
    },
    "papermill": {
     "duration": 0.055469,
     "end_time": "2025-07-30T12:53:56.452427",
     "exception": false,
     "start_time": "2025-07-30T12:53:56.396958",
     "status": "completed"
    },
    "tags": []
   },
   "outputs": [],
   "source": [
    "# do I need to include maxdeutsch1.missing?\n",
    "\n",
    "import numpy as np\n",
    "\n",
    "colname_to_bin = \"maxdeutsch1\"\n",
    "majority_value = org_train[colname_to_bin].mode()[0]\n",
    "\n",
    "org_test[\"majmin\"] = np.where(org_test[colname_to_bin] == majority_value, \"majority\", \"minority\")"
   ]
  },
  {
   "cell_type": "code",
   "execution_count": 73,
   "id": "06a50de5",
   "metadata": {
    "execution": {
     "iopub.execute_input": "2025-07-30T12:53:56.516770Z",
     "iopub.status.busy": "2025-07-30T12:53:56.515790Z",
     "iopub.status.idle": "2025-07-30T12:53:58.647841Z",
     "shell.execute_reply": "2025-07-30T12:53:58.646844Z"
    },
    "papermill": {
     "duration": 2.166697,
     "end_time": "2025-07-30T12:53:58.650267",
     "exception": false,
     "start_time": "2025-07-30T12:53:56.483570",
     "status": "completed"
    },
    "tags": []
   },
   "outputs": [],
   "source": [
    "example_universe = universe.copy()\n",
    "example_universe[\"cutoff\"] = example_universe[\"cutoff\"][0]\n",
    "example_universe[\"eval_fairness_grouping\"] = example_universe[\"eval_fairness_grouping\"][0]\n",
    "fairness_dict, metric_frame = universe_analysis.compute_metrics(\n",
    "    example_universe,\n",
    "    y_pred_prob=probs_test,\n",
    "    y_test=y_true,\n",
    "    org_test=org_test,\n",
    ")"
   ]
  },
  {
   "cell_type": "markdown",
   "id": "f95d4e02",
   "metadata": {
    "papermill": {
     "duration": 0.027905,
     "end_time": "2025-07-30T12:53:58.705967",
     "exception": false,
     "start_time": "2025-07-30T12:53:58.678062",
     "status": "completed"
    },
    "tags": []
   },
   "source": [
    "# Overall"
   ]
  },
  {
   "cell_type": "markdown",
   "id": "bdee4871",
   "metadata": {
    "papermill": {
     "duration": 0.026938,
     "end_time": "2025-07-30T12:53:58.759554",
     "exception": false,
     "start_time": "2025-07-30T12:53:58.732616",
     "status": "completed"
    },
    "tags": []
   },
   "source": [
    "Fairness\n",
    "Main fairness target: Equalized Odds. Seems to be a better fit than equal opportunity, since we're not only interested in Y = 1. Seems to be a better fit than demographic parity, since we also care about accuracy, not just equal distribution of preds.\n",
    "\n",
    "Pick column for computation of fairness metrics\n",
    "\n",
    "Performance\n",
    "Overall performance measures, most interesting in relation to the measures split by group below"
   ]
  },
  {
   "cell_type": "code",
   "execution_count": 74,
   "id": "c4e067c6",
   "metadata": {
    "execution": {
     "iopub.execute_input": "2025-07-30T12:53:58.817602Z",
     "iopub.status.busy": "2025-07-30T12:53:58.817058Z",
     "iopub.status.idle": "2025-07-30T12:53:58.826204Z",
     "shell.execute_reply": "2025-07-30T12:53:58.825189Z"
    },
    "papermill": {
     "duration": 0.038642,
     "end_time": "2025-07-30T12:53:58.827922",
     "exception": false,
     "start_time": "2025-07-30T12:53:58.789280",
     "status": "completed"
    },
    "tags": []
   },
   "outputs": [
    {
     "data": {
      "text/plain": [
       "accuracy                   0.217066\n",
       "balanced accuracy          0.532287\n",
       "f1                         0.238599\n",
       "precision                  0.136303\n",
       "false positive rate        0.891716\n",
       "false negative rate        0.043709\n",
       "selection rate             0.900000\n",
       "count                  89710.000000\n",
       "dtype: float64"
      ]
     },
     "execution_count": 74,
     "metadata": {},
     "output_type": "execute_result"
    }
   ],
   "source": [
    "metric_frame.overall"
   ]
  },
  {
   "cell_type": "markdown",
   "id": "e968fe9d",
   "metadata": {
    "papermill": {
     "duration": 0.026769,
     "end_time": "2025-07-30T12:53:58.884066",
     "exception": false,
     "start_time": "2025-07-30T12:53:58.857297",
     "status": "completed"
    },
    "tags": []
   },
   "source": [
    "By Group"
   ]
  },
  {
   "cell_type": "code",
   "execution_count": 75,
   "id": "ec325bce",
   "metadata": {
    "execution": {
     "iopub.execute_input": "2025-07-30T12:53:58.941703Z",
     "iopub.status.busy": "2025-07-30T12:53:58.941063Z",
     "iopub.status.idle": "2025-07-30T12:53:58.956414Z",
     "shell.execute_reply": "2025-07-30T12:53:58.955370Z"
    },
    "papermill": {
     "duration": 0.045918,
     "end_time": "2025-07-30T12:53:58.958097",
     "exception": false,
     "start_time": "2025-07-30T12:53:58.912179",
     "status": "completed"
    },
    "tags": []
   },
   "outputs": [
    {
     "data": {
      "text/html": [
       "<div>\n",
       "<style scoped>\n",
       "    .dataframe tbody tr th:only-of-type {\n",
       "        vertical-align: middle;\n",
       "    }\n",
       "\n",
       "    .dataframe tbody tr th {\n",
       "        vertical-align: top;\n",
       "    }\n",
       "\n",
       "    .dataframe thead th {\n",
       "        text-align: right;\n",
       "    }\n",
       "</style>\n",
       "<table border=\"1\" class=\"dataframe\">\n",
       "  <thead>\n",
       "    <tr style=\"text-align: right;\">\n",
       "      <th></th>\n",
       "      <th>accuracy</th>\n",
       "      <th>balanced accuracy</th>\n",
       "      <th>f1</th>\n",
       "      <th>precision</th>\n",
       "      <th>false positive rate</th>\n",
       "      <th>false negative rate</th>\n",
       "      <th>selection rate</th>\n",
       "      <th>count</th>\n",
       "    </tr>\n",
       "    <tr>\n",
       "      <th>majmin</th>\n",
       "      <th></th>\n",
       "      <th></th>\n",
       "      <th></th>\n",
       "      <th></th>\n",
       "      <th></th>\n",
       "      <th></th>\n",
       "      <th></th>\n",
       "      <th></th>\n",
       "    </tr>\n",
       "  </thead>\n",
       "  <tbody>\n",
       "    <tr>\n",
       "      <th>majority</th>\n",
       "      <td>0.239294</td>\n",
       "      <td>0.539847</td>\n",
       "      <td>0.247820</td>\n",
       "      <td>0.142533</td>\n",
       "      <td>0.868666</td>\n",
       "      <td>0.051641</td>\n",
       "      <td>0.879196</td>\n",
       "      <td>69170.0</td>\n",
       "    </tr>\n",
       "    <tr>\n",
       "      <th>minority</th>\n",
       "      <td>0.142210</td>\n",
       "      <td>0.509523</td>\n",
       "      <td>0.209662</td>\n",
       "      <td>0.117290</td>\n",
       "      <td>0.967863</td>\n",
       "      <td>0.013091</td>\n",
       "      <td>0.970058</td>\n",
       "      <td>20540.0</td>\n",
       "    </tr>\n",
       "  </tbody>\n",
       "</table>\n",
       "</div>"
      ],
      "text/plain": [
       "          accuracy  balanced accuracy        f1  precision  \\\n",
       "majmin                                                       \n",
       "majority  0.239294           0.539847  0.247820   0.142533   \n",
       "minority  0.142210           0.509523  0.209662   0.117290   \n",
       "\n",
       "          false positive rate  false negative rate  selection rate    count  \n",
       "majmin                                                                       \n",
       "majority             0.868666             0.051641        0.879196  69170.0  \n",
       "minority             0.967863             0.013091        0.970058  20540.0  "
      ]
     },
     "execution_count": 75,
     "metadata": {},
     "output_type": "execute_result"
    }
   ],
   "source": [
    "metric_frame.by_group"
   ]
  },
  {
   "cell_type": "code",
   "execution_count": 76,
   "id": "a9ddbe63",
   "metadata": {
    "execution": {
     "iopub.execute_input": "2025-07-30T12:53:59.020551Z",
     "iopub.status.busy": "2025-07-30T12:53:59.019748Z",
     "iopub.status.idle": "2025-07-30T12:54:01.496008Z",
     "shell.execute_reply": "2025-07-30T12:54:01.494866Z"
    },
    "papermill": {
     "duration": 2.510173,
     "end_time": "2025-07-30T12:54:01.497790",
     "exception": false,
     "start_time": "2025-07-30T12:53:58.987617",
     "status": "completed"
    },
    "tags": []
   },
   "outputs": [
    {
     "data": {
      "text/plain": [
       "array([[<Axes: title={'center': 'accuracy'}, xlabel='majmin'>,\n",
       "        <Axes: title={'center': 'balanced accuracy'}, xlabel='majmin'>,\n",
       "        <Axes: title={'center': 'f1'}, xlabel='majmin'>],\n",
       "       [<Axes: title={'center': 'precision'}, xlabel='majmin'>,\n",
       "        <Axes: title={'center': 'false positive rate'}, xlabel='majmin'>,\n",
       "        <Axes: title={'center': 'false negative rate'}, xlabel='majmin'>],\n",
       "       [<Axes: title={'center': 'selection rate'}, xlabel='majmin'>,\n",
       "        <Axes: title={'center': 'count'}, xlabel='majmin'>,\n",
       "        <Axes: xlabel='majmin'>]], dtype=object)"
      ]
     },
     "execution_count": 76,
     "metadata": {},
     "output_type": "execute_result"
    },
    {
     "data": {
      "image/png": "[encoded data removed]",
      "text/plain": [
       "<Figure size 1200x800 with 9 Axes>"
      ]
     },
     "metadata": {},
     "output_type": "display_data"
    }
   ],
   "source": [
    "# In a graphic\n",
    "metric_frame.by_group.plot.bar(\n",
    "    subplots=True,\n",
    "    layout=[3, 3],\n",
    "    legend=False,\n",
    "    figsize=[12, 8],\n",
    "    title=\"Show all metrics\",\n",
    ")"
   ]
  },
  {
   "cell_type": "markdown",
   "id": "f57a0bac",
   "metadata": {
    "papermill": {
     "duration": 0.024344,
     "end_time": "2025-07-30T12:54:01.556190",
     "exception": false,
     "start_time": "2025-07-30T12:54:01.531846",
     "status": "completed"
    },
    "tags": []
   },
   "source": [
    "# Final Output"
   ]
  },
  {
   "cell_type": "code",
   "execution_count": 77,
   "id": "96d280a3",
   "metadata": {
    "execution": {
     "iopub.execute_input": "2025-07-30T12:54:01.600591Z",
     "iopub.status.busy": "2025-07-30T12:54:01.600085Z",
     "iopub.status.idle": "2025-07-30T12:54:01.607522Z",
     "shell.execute_reply": "2025-07-30T12:54:01.606686Z"
    },
    "papermill": {
     "duration": 0.036339,
     "end_time": "2025-07-30T12:54:01.608904",
     "exception": false,
     "start_time": "2025-07-30T12:54:01.572565",
     "status": "completed"
    },
    "tags": []
   },
   "outputs": [
    {
     "data": {
      "text/plain": [
       "4"
      ]
     },
     "execution_count": 77,
     "metadata": {},
     "output_type": "execute_result"
    }
   ],
   "source": [
    "sub_universes = universe_analysis.generate_sub_universes()\n",
    "len(sub_universes)"
   ]
  },
  {
   "cell_type": "code",
   "execution_count": 78,
   "id": "92adf7ba",
   "metadata": {
    "execution": {
     "iopub.execute_input": "2025-07-30T12:54:01.643257Z",
     "iopub.status.busy": "2025-07-30T12:54:01.642610Z",
     "iopub.status.idle": "2025-07-30T12:54:01.649602Z",
     "shell.execute_reply": "2025-07-30T12:54:01.648847Z"
    },
    "papermill": {
     "duration": 0.025787,
     "end_time": "2025-07-30T12:54:01.650982",
     "exception": false,
     "start_time": "2025-07-30T12:54:01.625195",
     "status": "completed"
    },
    "tags": []
   },
   "outputs": [],
   "source": [
    "def filter_sub_universe_data(sub_universe, org_test):\n",
    "    # Keep all rows — no filtering\n",
    "    keep_rows_mask = np.ones(org_test.shape[0], dtype=bool)\n",
    "\n",
    "    print(f\"[INFO] Keeping all rows: {keep_rows_mask.sum()} rows retained.\")\n",
    "    return keep_rows_mask"
   ]
  },
  {
   "cell_type": "code",
   "execution_count": 79,
   "id": "4a759155",
   "metadata": {
    "execution": {
     "iopub.execute_input": "2025-07-30T12:54:01.718842Z",
     "iopub.status.busy": "2025-07-30T12:54:01.718334Z",
     "iopub.status.idle": "2025-07-30T12:54:11.107332Z",
     "shell.execute_reply": "2025-07-30T12:54:11.106619Z"
    },
    "papermill": {
     "duration": 9.423831,
     "end_time": "2025-07-30T12:54:11.108615",
     "exception": false,
     "start_time": "2025-07-30T12:54:01.684784",
     "status": "completed"
    },
    "tags": []
   },
   "outputs": [
    {
     "name": "stdout",
     "output_type": "stream",
     "text": [
      "Stopping execution_time clock.\n",
      "[INFO] Keeping all rows: 89710 rows retained.\n"
     ]
    },
    {
     "name": "stdout",
     "output_type": "stream",
     "text": [
      "[INFO] Keeping all rows: 89710 rows retained.\n"
     ]
    },
    {
     "name": "stdout",
     "output_type": "stream",
     "text": [
      "[INFO] Keeping all rows: 89710 rows retained.\n"
     ]
    },
    {
     "name": "stdout",
     "output_type": "stream",
     "text": [
      "[INFO] Keeping all rows: 89710 rows retained.\n"
     ]
    },
    {
     "data": {
      "text/html": [
       "<div>\n",
       "<style scoped>\n",
       "    .dataframe tbody tr th:only-of-type {\n",
       "        vertical-align: middle;\n",
       "    }\n",
       "\n",
       "    .dataframe tbody tr th {\n",
       "        vertical-align: top;\n",
       "    }\n",
       "\n",
       "    .dataframe thead th {\n",
       "        text-align: right;\n",
       "    }\n",
       "</style>\n",
       "<table border=\"1\" class=\"dataframe\">\n",
       "  <thead>\n",
       "    <tr style=\"text-align: right;\">\n",
       "      <th></th>\n",
       "      <th>run_no</th>\n",
       "      <th>universe_id</th>\n",
       "      <th>universe_settings</th>\n",
       "      <th>execution_time</th>\n",
       "      <th>test_size_n</th>\n",
       "      <th>test_size_frac</th>\n",
       "      <th>fair_main_equalized_odds_difference</th>\n",
       "      <th>fair_main_equalized_odds_ratio</th>\n",
       "      <th>fair_main_demographic_parity_difference</th>\n",
       "      <th>fair_main_demographic_parity_ratio</th>\n",
       "      <th>...</th>\n",
       "      <th>perf_grp_precision_0</th>\n",
       "      <th>perf_grp_precision_1</th>\n",
       "      <th>perf_grp_false positive rate_0</th>\n",
       "      <th>perf_grp_false positive rate_1</th>\n",
       "      <th>perf_grp_false negative rate_0</th>\n",
       "      <th>perf_grp_false negative rate_1</th>\n",
       "      <th>perf_grp_selection rate_0</th>\n",
       "      <th>perf_grp_selection rate_1</th>\n",
       "      <th>perf_grp_count_0</th>\n",
       "      <th>perf_grp_count_1</th>\n",
       "    </tr>\n",
       "  </thead>\n",
       "  <tbody>\n",
       "    <tr>\n",
       "      <th>0</th>\n",
       "      <td>12</td>\n",
       "      <td>32f86c5a0c523893b21b99f8da4df8bb</td>\n",
       "      <td>{\"cutoff\": \"quantile_0.1\", \"eval_fairness_grou...</td>\n",
       "      <td>26.301792</td>\n",
       "      <td>89710</td>\n",
       "      <td>1.0</td>\n",
       "      <td>0.099197</td>\n",
       "      <td>0.897509</td>\n",
       "      <td>0.090862</td>\n",
       "      <td>0.906333</td>\n",
       "      <td>...</td>\n",
       "      <td>NaN</td>\n",
       "      <td>NaN</td>\n",
       "      <td>NaN</td>\n",
       "      <td>NaN</td>\n",
       "      <td>NaN</td>\n",
       "      <td>NaN</td>\n",
       "      <td>NaN</td>\n",
       "      <td>NaN</td>\n",
       "      <td>NaN</td>\n",
       "      <td>NaN</td>\n",
       "    </tr>\n",
       "    <tr>\n",
       "      <th>0</th>\n",
       "      <td>12</td>\n",
       "      <td>32f86c5a0c523893b21b99f8da4df8bb</td>\n",
       "      <td>{\"cutoff\": \"quantile_0.1\", \"eval_fairness_grou...</td>\n",
       "      <td>26.301792</td>\n",
       "      <td>89710</td>\n",
       "      <td>1.0</td>\n",
       "      <td>0.099197</td>\n",
       "      <td>0.897509</td>\n",
       "      <td>0.090862</td>\n",
       "      <td>0.906333</td>\n",
       "      <td>...</td>\n",
       "      <td>0.117290</td>\n",
       "      <td>0.142533</td>\n",
       "      <td>0.967863</td>\n",
       "      <td>0.868666</td>\n",
       "      <td>0.013091</td>\n",
       "      <td>0.051641</td>\n",
       "      <td>0.970058</td>\n",
       "      <td>0.879196</td>\n",
       "      <td>20540.0</td>\n",
       "      <td>69170.0</td>\n",
       "    </tr>\n",
       "    <tr>\n",
       "      <th>0</th>\n",
       "      <td>12</td>\n",
       "      <td>32f86c5a0c523893b21b99f8da4df8bb</td>\n",
       "      <td>{\"cutoff\": \"quantile_0.25\", \"eval_fairness_gro...</td>\n",
       "      <td>26.301792</td>\n",
       "      <td>89710</td>\n",
       "      <td>1.0</td>\n",
       "      <td>0.226524</td>\n",
       "      <td>0.749550</td>\n",
       "      <td>0.208125</td>\n",
       "      <td>0.771408</td>\n",
       "      <td>...</td>\n",
       "      <td>NaN</td>\n",
       "      <td>NaN</td>\n",
       "      <td>NaN</td>\n",
       "      <td>NaN</td>\n",
       "      <td>NaN</td>\n",
       "      <td>NaN</td>\n",
       "      <td>NaN</td>\n",
       "      <td>NaN</td>\n",
       "      <td>NaN</td>\n",
       "      <td>NaN</td>\n",
       "    </tr>\n",
       "    <tr>\n",
       "      <th>0</th>\n",
       "      <td>12</td>\n",
       "      <td>32f86c5a0c523893b21b99f8da4df8bb</td>\n",
       "      <td>{\"cutoff\": \"quantile_0.25\", \"eval_fairness_gro...</td>\n",
       "      <td>26.301792</td>\n",
       "      <td>89710</td>\n",
       "      <td>1.0</td>\n",
       "      <td>0.226524</td>\n",
       "      <td>0.749550</td>\n",
       "      <td>0.208125</td>\n",
       "      <td>0.771408</td>\n",
       "      <td>...</td>\n",
       "      <td>0.121117</td>\n",
       "      <td>0.162286</td>\n",
       "      <td>0.904468</td>\n",
       "      <td>0.677944</td>\n",
       "      <td>0.043497</td>\n",
       "      <td>0.137418</td>\n",
       "      <td>0.910467</td>\n",
       "      <td>0.702342</td>\n",
       "      <td>20540.0</td>\n",
       "      <td>69170.0</td>\n",
       "    </tr>\n",
       "  </tbody>\n",
       "</table>\n",
       "<p>4 rows × 50 columns</p>\n",
       "</div>"
      ],
      "text/plain": [
       "  run_no                       universe_id  \\\n",
       "0     12  32f86c5a0c523893b21b99f8da4df8bb   \n",
       "0     12  32f86c5a0c523893b21b99f8da4df8bb   \n",
       "0     12  32f86c5a0c523893b21b99f8da4df8bb   \n",
       "0     12  32f86c5a0c523893b21b99f8da4df8bb   \n",
       "\n",
       "                                   universe_settings  execution_time  \\\n",
       "0  {\"cutoff\": \"quantile_0.1\", \"eval_fairness_grou...       26.301792   \n",
       "0  {\"cutoff\": \"quantile_0.1\", \"eval_fairness_grou...       26.301792   \n",
       "0  {\"cutoff\": \"quantile_0.25\", \"eval_fairness_gro...       26.301792   \n",
       "0  {\"cutoff\": \"quantile_0.25\", \"eval_fairness_gro...       26.301792   \n",
       "\n",
       "   test_size_n  test_size_frac  fair_main_equalized_odds_difference  \\\n",
       "0        89710             1.0                             0.099197   \n",
       "0        89710             1.0                             0.099197   \n",
       "0        89710             1.0                             0.226524   \n",
       "0        89710             1.0                             0.226524   \n",
       "\n",
       "   fair_main_equalized_odds_ratio  fair_main_demographic_parity_difference  \\\n",
       "0                        0.897509                                 0.090862   \n",
       "0                        0.897509                                 0.090862   \n",
       "0                        0.749550                                 0.208125   \n",
       "0                        0.749550                                 0.208125   \n",
       "\n",
       "   fair_main_demographic_parity_ratio  ...  perf_grp_precision_0  \\\n",
       "0                            0.906333  ...                   NaN   \n",
       "0                            0.906333  ...              0.117290   \n",
       "0                            0.771408  ...                   NaN   \n",
       "0                            0.771408  ...              0.121117   \n",
       "\n",
       "   perf_grp_precision_1  perf_grp_false positive rate_0  \\\n",
       "0                   NaN                             NaN   \n",
       "0              0.142533                        0.967863   \n",
       "0                   NaN                             NaN   \n",
       "0              0.162286                        0.904468   \n",
       "\n",
       "   perf_grp_false positive rate_1  perf_grp_false negative rate_0  \\\n",
       "0                             NaN                             NaN   \n",
       "0                        0.868666                        0.013091   \n",
       "0                             NaN                             NaN   \n",
       "0                        0.677944                        0.043497   \n",
       "\n",
       "   perf_grp_false negative rate_1  perf_grp_selection rate_0  \\\n",
       "0                             NaN                        NaN   \n",
       "0                        0.051641                   0.970058   \n",
       "0                             NaN                        NaN   \n",
       "0                        0.137418                   0.910467   \n",
       "\n",
       "   perf_grp_selection rate_1  perf_grp_count_0  perf_grp_count_1  \n",
       "0                        NaN               NaN               NaN  \n",
       "0                   0.879196           20540.0           69170.0  \n",
       "0                        NaN               NaN               NaN  \n",
       "0                   0.702342           20540.0           69170.0  \n",
       "\n",
       "[4 rows x 50 columns]"
      ]
     },
     "execution_count": 79,
     "metadata": {},
     "output_type": "execute_result"
    }
   ],
   "source": [
    "final_output = universe_analysis.generate_final_output(\n",
    "    y_pred_prob=probs_test,\n",
    "    y_test=y_true,\n",
    "    org_test=org_test,\n",
    "    filter_data=filter_sub_universe_data,\n",
    "    cp_metrics_df=cp_metrics_df,\n",
    "    save=True,\n",
    ")\n",
    "final_output"
   ]
  },
  {
   "cell_type": "code",
   "execution_count": null,
   "id": "721ff514-cb11-46f8-b6fc-50392f74b5cb",
   "metadata": {
    "papermill": {
     "duration": 0.017176,
     "end_time": "2025-07-30T12:54:11.144984",
     "exception": false,
     "start_time": "2025-07-30T12:54:11.127808",
     "status": "completed"
    },
    "tags": []
   },
   "outputs": [],
   "source": []
  }
 ],
 "metadata": {
  "celltoolbar": "Tags",
  "kernelspec": {
   "display_name": "Python (CMA Fairness)",
   "language": "python",
   "name": "cma_fair_env"
  },
  "language_info": {
   "codemirror_mode": {
    "name": "ipython",
    "version": 3
   },
   "file_extension": ".py",
   "mimetype": "text/x-python",
   "name": "python",
   "nbconvert_exporter": "python",
   "pygments_lexer": "ipython3",
   "version": "3.10.12"
  },
  "papermill": {
   "default_parameters": {},
   "duration": 39.523578,
   "end_time": "2025-07-30T12:54:11.880587",
   "environment_variables": {},
   "exception": null,
   "input_path": "universe_analysis.ipynb",
   "output_path": "output/runs/12/notebooks/m_12-32f86c5a0c523893b21b99f8da4df8bb.ipynb",
   "parameters": {
    "output_dir": "output",
    "run_no": "12",
    "seed": "2023",
    "universe": "{\"cutoff\": [\"quantile_0.1\", \"quantile_0.25\"], \"eval_fairness_grouping\": [\"majority-minority\", \"nationality-all\"], \"exclude_features\": \"none\", \"exclude_subgroups\": \"drop-non-german\", \"model\": \"penalized_logreg\", \"scale\": \"do-not-scale\", \"training_size\": \"25k\", \"training_year\": \"2014\"}",
    "universe_id": "32f86c5a0c523893b21b99f8da4df8bb"
   },
   "start_time": "2025-07-30T12:53:32.357009",
   "version": "2.6.0"
  }
 },
 "nbformat": 4,
 "nbformat_minor": 5
}