{
 "cells": [
  {
   "cell_type": "code",
   "execution_count": 1,
   "id": "f159f837-637b-42ba-96b5-ec9a68c44524",
   "metadata": {
    "execution": {
     "iopub.execute_input": "2025-07-30T14:00:20.883902Z",
     "iopub.status.busy": "2025-07-30T14:00:20.883408Z",
     "iopub.status.idle": "2025-07-30T14:00:20.897973Z",
     "shell.execute_reply": "2025-07-30T14:00:20.896858Z"
    },
    "papermill": {
     "duration": 0.05516,
     "end_time": "2025-07-30T14:00:20.899613",
     "exception": false,
     "start_time": "2025-07-30T14:00:20.844453",
     "status": "completed"
    },
    "tags": []
   },
   "outputs": [
    {
     "name": "stdout",
     "output_type": "stream",
     "text": [
      "/dss/dsshome1/0C/ra93lal2/cma/CMA_Fairness_v2\n"
     ]
    },
    {
     "name": "stderr",
     "output_type": "stream",
     "text": [
      "/dss/dsshome1/0C/ra93lal2/.local/share/virtualenvs/CMA_Fairness_v2-3j10GkSs/lib/python3.10/site-packages/IPython/core/magics/osm.py:393: UserWarning: This is now an optional IPython functionality, using bookmarks requires you to install the `pickleshare` library.\n",
      "  bkms = self.shell.db.get('bookmarks', {})\n",
      "/dss/dsshome1/0C/ra93lal2/.local/share/virtualenvs/CMA_Fairness_v2-3j10GkSs/lib/python3.10/site-packages/IPython/core/magics/osm.py:417: UserWarning: This is now an optional IPython functionality, setting dhist requires you to install the `pickleshare` library.\n",
      "  self.shell.db['dhist'] = compress_dhist(dhist)[-100:]\n"
     ]
    }
   ],
   "source": [
    "%cd ~/cma/CMA_Fairness_v2"
   ]
  },
  {
   "cell_type": "markdown",
   "id": "de2603b9",
   "metadata": {
    "papermill": {
     "duration": 0.021036,
     "end_time": "2025-07-30T14:00:20.941060",
     "exception": false,
     "start_time": "2025-07-30T14:00:20.920024",
     "status": "completed"
    },
    "tags": []
   },
   "source": [
    "The following cell holds the definition of our parameters, these values can be overriden by rendering the with e.g. the following command:\n",
    "\n",
    "papermill -p alpha 0.2 -p ratio 0.3 universe_analysis.ipynb output/test_run.ipynb"
   ]
  },
  {
   "cell_type": "code",
   "execution_count": 2,
   "id": "a80968a0-40bb-4fa9-85ef-2d5eefb01975",
   "metadata": {
    "execution": {
     "iopub.execute_input": "2025-07-30T14:00:20.983976Z",
     "iopub.status.busy": "2025-07-30T14:00:20.983486Z",
     "iopub.status.idle": "2025-07-30T14:00:20.989401Z",
     "shell.execute_reply": "2025-07-30T14:00:20.988402Z"
    },
    "papermill": {
     "duration": 0.029357,
     "end_time": "2025-07-30T14:00:20.991155",
     "exception": false,
     "start_time": "2025-07-30T14:00:20.961798",
     "status": "completed"
    },
    "tags": []
   },
   "outputs": [
    {
     "name": "stdout",
     "output_type": "stream",
     "text": [
      "Current working directory: /dss/dsshome1/0C/ra93lal2/cma/CMA_Fairness_v2\n"
     ]
    }
   ],
   "source": [
    "import os\n",
    "print(\"Current working directory:\", os.getcwd())"
   ]
  },
  {
   "cell_type": "code",
   "execution_count": 3,
   "id": "2dce4c03",
   "metadata": {
    "execution": {
     "iopub.execute_input": "2025-07-30T14:00:21.033817Z",
     "iopub.status.busy": "2025-07-30T14:00:21.033275Z",
     "iopub.status.idle": "2025-07-30T14:00:21.041044Z",
     "shell.execute_reply": "2025-07-30T14:00:21.040005Z"
    },
    "papermill": {
     "duration": 0.031302,
     "end_time": "2025-07-30T14:00:21.042957",
     "exception": false,
     "start_time": "2025-07-30T14:00:21.011655",
     "status": "completed"
    },
    "tags": [
     "parameters"
    ]
   },
   "outputs": [],
   "source": [
    "run_no = 0\n",
    "universe_id = \"test\"\n",
    "universe = {\n",
    "    \"training_size\": \"25k\", # \"25k\", \"5k\", \"1k\"\n",
    "    \"training_year\": \"2014\", # \"2014\", \"2012_14\", \"2010_14\"\n",
    "    \"scale\": \"scale\", # \"scale\", \"do-not-scale\",\n",
    "    #\"stratify_split\": \"target\", # \"none\", \"target\", \"protected-attribute\", \"both\",\n",
    "    \"model\": \"elasticnet\", # \"logreg\", \"penalized_logreg\", \"rf\", \"gbm\", \"elasticnet\"\n",
    "    \"cutoff\": [\"quantile_0.15\", \"quantile_0.30\"],\n",
    "    \"exclude_features\": \"age\", # \"none\", \"nationality\", \"sex\", \"nationality-sex\", \"age\"\n",
    "    \"exclude_subgroups\": \"keep-all\", # \"keep-all\", \"drop-non-german\"\n",
    "    \"eval_fairness_grouping\": [\"majority-minority\", \"nationality-all\"]\n",
    "}\n",
    "\n",
    "output_dir=\"./output\"\n",
    "seed=0"
   ]
  },
  {
   "cell_type": "code",
   "execution_count": 4,
   "id": "168952f8",
   "metadata": {
    "execution": {
     "iopub.execute_input": "2025-07-30T14:00:21.087664Z",
     "iopub.status.busy": "2025-07-30T14:00:21.086678Z",
     "iopub.status.idle": "2025-07-30T14:00:21.092099Z",
     "shell.execute_reply": "2025-07-30T14:00:21.091192Z"
    },
    "papermill": {
     "duration": 0.029877,
     "end_time": "2025-07-30T14:00:21.094129",
     "exception": false,
     "start_time": "2025-07-30T14:00:21.064252",
     "status": "completed"
    },
    "tags": [
     "injected-parameters"
    ]
   },
   "outputs": [],
   "source": [
    "# Parameters\n",
    "universe_id = \"ed73904361d3049b6a37bc37458e977d\"\n",
    "run_no = \"12\"\n",
    "universe = \"{\\\"cutoff\\\": [\\\"quantile_0.1\\\", \\\"quantile_0.25\\\"], \\\"eval_fairness_grouping\\\": [\\\"majority-minority\\\", \\\"nationality-all\\\"], \\\"exclude_features\\\": \\\"nationality\\\", \\\"exclude_subgroups\\\": \\\"drop-non-german\\\", \\\"model\\\": \\\"penalized_logreg\\\", \\\"scale\\\": \\\"do-not-scale\\\", \\\"training_size\\\": \\\"5k\\\", \\\"training_year\\\": \\\"2012_14\\\"}\"\n",
    "output_dir = \"output\"\n",
    "seed = \"2023\"\n"
   ]
  },
  {
   "cell_type": "code",
   "execution_count": 5,
   "id": "1650acaf",
   "metadata": {
    "execution": {
     "iopub.execute_input": "2025-07-30T14:00:21.136154Z",
     "iopub.status.busy": "2025-07-30T14:00:21.135546Z",
     "iopub.status.idle": "2025-07-30T14:00:21.141660Z",
     "shell.execute_reply": "2025-07-30T14:00:21.140682Z"
    },
    "papermill": {
     "duration": 0.028326,
     "end_time": "2025-07-30T14:00:21.143322",
     "exception": false,
     "start_time": "2025-07-30T14:00:21.114996",
     "status": "completed"
    },
    "tags": []
   },
   "outputs": [],
   "source": [
    "import json\n",
    "# Parse universe into dict if it is passed as a string\n",
    "if isinstance(universe, str):\n",
    "    universe = json.loads(universe)"
   ]
  },
  {
   "cell_type": "code",
   "execution_count": 6,
   "id": "16620c48",
   "metadata": {
    "execution": {
     "iopub.execute_input": "2025-07-30T14:00:21.187746Z",
     "iopub.status.busy": "2025-07-30T14:00:21.187145Z",
     "iopub.status.idle": "2025-07-30T14:00:21.234778Z",
     "shell.execute_reply": "2025-07-30T14:00:21.233758Z"
    },
    "papermill": {
     "duration": 0.071633,
     "end_time": "2025-07-30T14:00:21.237151",
     "exception": false,
     "start_time": "2025-07-30T14:00:21.165518",
     "status": "completed"
    },
    "tags": []
   },
   "outputs": [],
   "source": [
    "# Auto-reload the custom package\n",
    "%load_ext autoreload\n",
    "%autoreload 1\n",
    "%aimport fairness_multiverse"
   ]
  },
  {
   "cell_type": "code",
   "execution_count": 7,
   "id": "01c5c9f3",
   "metadata": {
    "execution": {
     "iopub.execute_input": "2025-07-30T14:00:21.280071Z",
     "iopub.status.busy": "2025-07-30T14:00:21.279386Z",
     "iopub.status.idle": "2025-07-30T14:00:23.333140Z",
     "shell.execute_reply": "2025-07-30T14:00:23.331935Z"
    },
    "papermill": {
     "duration": 2.077172,
     "end_time": "2025-07-30T14:00:23.335101",
     "exception": false,
     "start_time": "2025-07-30T14:00:21.257929",
     "status": "completed"
    },
    "tags": []
   },
   "outputs": [],
   "source": [
    "from fairness_multiverse.universe import UniverseAnalysis\n",
    "\n",
    "universe_analysis = UniverseAnalysis(\n",
    "    run_no = run_no,\n",
    "    universe_id = universe_id,\n",
    "    universe = universe,\n",
    "    output_dir=output_dir,\n",
    ")"
   ]
  },
  {
   "cell_type": "code",
   "execution_count": 8,
   "id": "106241f5",
   "metadata": {
    "execution": {
     "iopub.execute_input": "2025-07-30T14:00:23.381987Z",
     "iopub.status.busy": "2025-07-30T14:00:23.381455Z",
     "iopub.status.idle": "2025-07-30T14:00:23.388193Z",
     "shell.execute_reply": "2025-07-30T14:00:23.387009Z"
    },
    "papermill": {
     "duration": 0.033204,
     "end_time": "2025-07-30T14:00:23.391078",
     "exception": false,
     "start_time": "2025-07-30T14:00:23.357874",
     "status": "completed"
    },
    "tags": []
   },
   "outputs": [
    {
     "name": "stdout",
     "output_type": "stream",
     "text": [
      "Using Seed: 2023\n"
     ]
    }
   ],
   "source": [
    "import numpy as np\n",
    "parsed_seed = int(seed)\n",
    "np.random.seed(parsed_seed)\n",
    "print(f\"Using Seed: {parsed_seed}\")"
   ]
  },
  {
   "cell_type": "markdown",
   "id": "e0ebdc57",
   "metadata": {
    "papermill": {
     "duration": 0.020188,
     "end_time": "2025-07-30T14:00:23.431907",
     "exception": false,
     "start_time": "2025-07-30T14:00:23.411719",
     "status": "completed"
    },
    "tags": []
   },
   "source": [
    "# Loading Data"
   ]
  },
  {
   "cell_type": "markdown",
   "id": "681925a3",
   "metadata": {
    "papermill": {
     "duration": 0.019817,
     "end_time": "2025-07-30T14:00:23.473481",
     "exception": false,
     "start_time": "2025-07-30T14:00:23.453664",
     "status": "completed"
    },
    "tags": []
   },
   "source": [
    "Load siab_train, siab_test, siab_calib and/or \n",
    "load siab_train_features, siab_train_labels"
   ]
  },
  {
   "cell_type": "code",
   "execution_count": 9,
   "id": "f0496b8a",
   "metadata": {
    "execution": {
     "iopub.execute_input": "2025-07-30T14:00:23.516413Z",
     "iopub.status.busy": "2025-07-30T14:00:23.515516Z",
     "iopub.status.idle": "2025-07-30T14:00:35.981550Z",
     "shell.execute_reply": "2025-07-30T14:00:35.980317Z"
    },
    "papermill": {
     "duration": 12.489687,
     "end_time": "2025-07-30T14:00:35.983055",
     "exception": false,
     "start_time": "2025-07-30T14:00:23.493368",
     "status": "completed"
    },
    "tags": []
   },
   "outputs": [
    {
     "name": "stdout",
     "output_type": "stream",
     "text": [
      "Loading SIAB data from cache: data/siab_cached.csv.gz\n"
     ]
    },
    {
     "name": "stdout",
     "output_type": "stream",
     "text": [
      "(643690, 164)\n"
     ]
    }
   ],
   "source": [
    "from pathlib import Path\n",
    "import pandas as pd\n",
    "\n",
    "# File paths\n",
    "raw_file = Path(\"data/raw/siab.csv\")\n",
    "cache_file = Path(\"data/siab_cached.csv.gz\")\n",
    "\n",
    "# Ensure cache directory exists\n",
    "cache_file.parent.mkdir(parents=True, exist_ok=True)\n",
    "\n",
    "# Load with simple caching\n",
    "if cache_file.exists():\n",
    "    print(f\"Loading SIAB data from cache: {cache_file}\")\n",
    "    siab = pd.read_csv(cache_file, compression='gzip')\n",
    "else:\n",
    "    print(f\"Cache not found. Reading raw SIAB data: {raw_file}\")\n",
    "    siab = pd.read_csv(raw_file)\n",
    "    siab.to_csv(cache_file, index=False, compression='gzip')\n",
    "    print(f\"Cached SIAB data to: {cache_file}\")\n",
    "\n",
    "# Now use `siab` DataFrame as needed\n",
    "print(siab.shape)"
   ]
  },
  {
   "cell_type": "code",
   "execution_count": 10,
   "id": "db0ca512-5f53-4dba-abdb-a2888bca41ba",
   "metadata": {
    "execution": {
     "iopub.execute_input": "2025-07-30T14:00:36.062208Z",
     "iopub.status.busy": "2025-07-30T14:00:36.061446Z",
     "iopub.status.idle": "2025-07-30T14:00:36.067353Z",
     "shell.execute_reply": "2025-07-30T14:00:36.066396Z"
    },
    "papermill": {
     "duration": 0.027508,
     "end_time": "2025-07-30T14:00:36.069015",
     "exception": false,
     "start_time": "2025-07-30T14:00:36.041507",
     "status": "completed"
    },
    "tags": []
   },
   "outputs": [],
   "source": [
    "#siab"
   ]
  },
  {
   "cell_type": "code",
   "execution_count": 11,
   "id": "a0edb063",
   "metadata": {
    "execution": {
     "iopub.execute_input": "2025-07-30T14:00:36.110500Z",
     "iopub.status.busy": "2025-07-30T14:00:36.109705Z",
     "iopub.status.idle": "2025-07-30T14:00:36.114949Z",
     "shell.execute_reply": "2025-07-30T14:00:36.113911Z"
    },
    "papermill": {
     "duration": 0.02773,
     "end_time": "2025-07-30T14:00:36.116639",
     "exception": false,
     "start_time": "2025-07-30T14:00:36.088909",
     "status": "completed"
    },
    "tags": []
   },
   "outputs": [],
   "source": [
    "#import pandas as pd\n",
    "#\n",
    "#X_train = pd.read_csv(\"./data/X_train.csv\")\n",
    "#y_train = pd.read_csv(\"./data/y_train.csv\")"
   ]
  },
  {
   "cell_type": "code",
   "execution_count": 12,
   "id": "63d08085",
   "metadata": {
    "execution": {
     "iopub.execute_input": "2025-07-30T14:00:36.158634Z",
     "iopub.status.busy": "2025-07-30T14:00:36.157747Z",
     "iopub.status.idle": "2025-07-30T14:00:36.162941Z",
     "shell.execute_reply": "2025-07-30T14:00:36.162109Z"
    },
    "papermill": {
     "duration": 0.028942,
     "end_time": "2025-07-30T14:00:36.164555",
     "exception": false,
     "start_time": "2025-07-30T14:00:36.135613",
     "status": "completed"
    },
    "tags": []
   },
   "outputs": [],
   "source": [
    "#X_test = pd.read_csv(\"./data/X_test.csv\")\n",
    "#y_true = pd.read_csv(\"./data/y_test.csv\")"
   ]
  },
  {
   "cell_type": "code",
   "execution_count": 13,
   "id": "98a8d0fa-1d3d-4ed8-bb2c-281470e24add",
   "metadata": {
    "execution": {
     "iopub.execute_input": "2025-07-30T14:00:36.206820Z",
     "iopub.status.busy": "2025-07-30T14:00:36.206004Z",
     "iopub.status.idle": "2025-07-30T14:00:36.215354Z",
     "shell.execute_reply": "2025-07-30T14:00:36.214396Z"
    },
    "papermill": {
     "duration": 0.033024,
     "end_time": "2025-07-30T14:00:36.217144",
     "exception": false,
     "start_time": "2025-07-30T14:00:36.184120",
     "status": "completed"
    },
    "tags": []
   },
   "outputs": [],
   "source": [
    "# Calibration data for conformal\n",
    "#X_calib = pd.read_csv(\"./data/X_calib.csv\")\n",
    "#y_calib = pd.read_csv(\"./data/y_calib.csv\")"
   ]
  },
  {
   "cell_type": "markdown",
   "id": "997051c5-15bd-4b69-9786-c3001a3ce484",
   "metadata": {
    "papermill": {
     "duration": 0.018922,
     "end_time": "2025-07-30T14:00:36.255851",
     "exception": false,
     "start_time": "2025-07-30T14:00:36.236929",
     "status": "completed"
    },
    "tags": []
   },
   "source": [
    "# Splitting Data and Setting Training Data Size"
   ]
  },
  {
   "cell_type": "code",
   "execution_count": 14,
   "id": "e993b61f-042d-41a6-8c81-f55681f86335",
   "metadata": {
    "execution": {
     "iopub.execute_input": "2025-07-30T14:00:36.295884Z",
     "iopub.status.busy": "2025-07-30T14:00:36.294929Z",
     "iopub.status.idle": "2025-07-30T14:00:36.308430Z",
     "shell.execute_reply": "2025-07-30T14:00:36.307376Z"
    },
    "papermill": {
     "duration": 0.035709,
     "end_time": "2025-07-30T14:00:36.310522",
     "exception": false,
     "start_time": "2025-07-30T14:00:36.274813",
     "status": "completed"
    },
    "tags": []
   },
   "outputs": [],
   "source": [
    "def sample_by_year_size(df,\n",
    "                        training_year: str,\n",
    "                        training_size: str,\n",
    "                        random_state: int = 42):\n",
    "    # --- parse training_year into a list of int years ---\n",
    "    if \"_\" in training_year:\n",
    "        start_str, end_str = training_year.split(\"_\", 1)\n",
    "        start = int(start_str)\n",
    "        end   = int(end_str) if len(end_str) == 4 else (int(end_str) + (start // 100)*100)\n",
    "        years = list(range(start, end + 1))\n",
    "    else:\n",
    "        years = [int(training_year)]\n",
    "\n",
    "    df = df[df[\"year\"].isin(years)].reset_index(drop=True)\n",
    "\n",
    "    # --- map training_size to total number of samples ---\n",
    "    total_map = {\"25k\": 25_000, \"5k\": 5_000, \"1k\": 1_000}\n",
    "    if training_size not in total_map:\n",
    "        return df  # e.g. \"all\"\n",
    "\n",
    "    total_samples = total_map[training_size]\n",
    "    n_years       = len(years)\n",
    "    base          = total_samples // n_years\n",
    "    remainder     = total_samples % n_years\n",
    "\n",
    "    # --- build a dict: year -> how many to sample ---\n",
    "    # give +1 to the first `remainder` years in ascending order\n",
    "    quotas = {\n",
    "        year: base + (1 if idx < remainder else 0)\n",
    "        for idx, year in enumerate(sorted(years))\n",
    "    }\n",
    "\n",
    "    # --- sample per‐year according to the quota dict ---\n",
    "    sampled = (\n",
    "        df\n",
    "        .groupby(\"year\", group_keys=False)\n",
    "        .apply(lambda grp: grp.sample(\n",
    "            n=min(len(grp), quotas[grp.name]),\n",
    "            random_state=random_state))\n",
    "        .reset_index(drop=True)\n",
    "    )\n",
    "\n",
    "    return sampled"
   ]
  },
  {
   "cell_type": "code",
   "execution_count": 15,
   "id": "c0ccd338-0e02-41f3-a09d-f56f9266e3fb",
   "metadata": {
    "execution": {
     "iopub.execute_input": "2025-07-30T14:00:36.351122Z",
     "iopub.status.busy": "2025-07-30T14:00:36.350618Z",
     "iopub.status.idle": "2025-07-30T14:00:36.361172Z",
     "shell.execute_reply": "2025-07-30T14:00:36.360206Z"
    },
    "papermill": {
     "duration": 0.032161,
     "end_time": "2025-07-30T14:00:36.362744",
     "exception": false,
     "start_time": "2025-07-30T14:00:36.330583",
     "status": "completed"
    },
    "tags": []
   },
   "outputs": [
    {
     "data": {
      "text/plain": [
       "'5k'"
      ]
     },
     "execution_count": 15,
     "metadata": {},
     "output_type": "execute_result"
    }
   ],
   "source": [
    "universe[\"training_size\"]"
   ]
  },
  {
   "cell_type": "code",
   "execution_count": 16,
   "id": "ca707fd7-8047-4acd-bfa5-66248fbbf8e6",
   "metadata": {
    "execution": {
     "iopub.execute_input": "2025-07-30T14:00:36.404107Z",
     "iopub.status.busy": "2025-07-30T14:00:36.403250Z",
     "iopub.status.idle": "2025-07-30T14:00:36.410275Z",
     "shell.execute_reply": "2025-07-30T14:00:36.409401Z"
    },
    "papermill": {
     "duration": 0.029202,
     "end_time": "2025-07-30T14:00:36.411799",
     "exception": false,
     "start_time": "2025-07-30T14:00:36.382597",
     "status": "completed"
    },
    "tags": []
   },
   "outputs": [
    {
     "data": {
      "text/plain": [
       "'2012_14'"
      ]
     },
     "execution_count": 16,
     "metadata": {},
     "output_type": "execute_result"
    }
   ],
   "source": [
    "universe[\"training_year\"]"
   ]
  },
  {
   "cell_type": "code",
   "execution_count": 17,
   "id": "aea9c6ef-6f46-42c8-85eb-5a62025c1508",
   "metadata": {
    "execution": {
     "iopub.execute_input": "2025-07-30T14:00:36.454708Z",
     "iopub.status.busy": "2025-07-30T14:00:36.454262Z",
     "iopub.status.idle": "2025-07-30T14:00:37.045550Z",
     "shell.execute_reply": "2025-07-30T14:00:37.044622Z"
    },
    "papermill": {
     "duration": 0.614459,
     "end_time": "2025-07-30T14:00:37.047375",
     "exception": false,
     "start_time": "2025-07-30T14:00:36.432916",
     "status": "completed"
    },
    "tags": []
   },
   "outputs": [],
   "source": [
    "siab_train = sample_by_year_size(siab,\n",
    "                               training_year=universe[\"training_year\"],\n",
    "                               training_size=universe[\"training_size\"])"
   ]
  },
  {
   "cell_type": "code",
   "execution_count": 18,
   "id": "8d3afb32-789d-442c-8d5d-9f5aa8dd2eed",
   "metadata": {
    "execution": {
     "iopub.execute_input": "2025-07-30T14:00:37.090420Z",
     "iopub.status.busy": "2025-07-30T14:00:37.089524Z",
     "iopub.status.idle": "2025-07-30T14:00:37.097005Z",
     "shell.execute_reply": "2025-07-30T14:00:37.095793Z"
    },
    "papermill": {
     "duration": 0.030442,
     "end_time": "2025-07-30T14:00:37.098741",
     "exception": false,
     "start_time": "2025-07-30T14:00:37.068299",
     "status": "completed"
    },
    "tags": []
   },
   "outputs": [
    {
     "data": {
      "text/plain": [
       "(5000, 164)"
      ]
     },
     "execution_count": 18,
     "metadata": {},
     "output_type": "execute_result"
    }
   ],
   "source": [
    "siab_train.shape"
   ]
  },
  {
   "cell_type": "code",
   "execution_count": 19,
   "id": "d582db68-1a4c-47fb-84fc-08518dc1975a",
   "metadata": {
    "execution": {
     "iopub.execute_input": "2025-07-30T14:00:37.148538Z",
     "iopub.status.busy": "2025-07-30T14:00:37.147773Z",
     "iopub.status.idle": "2025-07-30T14:00:37.159489Z",
     "shell.execute_reply": "2025-07-30T14:00:37.158519Z"
    },
    "papermill": {
     "duration": 0.038334,
     "end_time": "2025-07-30T14:00:37.161004",
     "exception": false,
     "start_time": "2025-07-30T14:00:37.122670",
     "status": "completed"
    },
    "tags": []
   },
   "outputs": [
    {
     "data": {
      "text/plain": [
       "year\n",
       "2012    1667\n",
       "2013    1667\n",
       "2014    1666\n",
       "dtype: int64"
      ]
     },
     "metadata": {},
     "output_type": "display_data"
    }
   ],
   "source": [
    "display(siab_train.groupby(\"year\").size())"
   ]
  },
  {
   "cell_type": "code",
   "execution_count": 20,
   "id": "a561edb4-d032-42cb-8256-22eac1111c64",
   "metadata": {
    "execution": {
     "iopub.execute_input": "2025-07-30T14:00:37.204865Z",
     "iopub.status.busy": "2025-07-30T14:00:37.203749Z",
     "iopub.status.idle": "2025-07-30T14:00:37.425570Z",
     "shell.execute_reply": "2025-07-30T14:00:37.424579Z"
    },
    "papermill": {
     "duration": 0.24579,
     "end_time": "2025-07-30T14:00:37.427482",
     "exception": false,
     "start_time": "2025-07-30T14:00:37.181692",
     "status": "completed"
    },
    "tags": []
   },
   "outputs": [],
   "source": [
    "#siab_train = siab_s[siab_s.year < 2015]\n",
    "siab_calib = siab[siab.year == 2015]\n",
    "siab_test = siab[siab.year == 2016]"
   ]
  },
  {
   "cell_type": "code",
   "execution_count": 21,
   "id": "472de16f-c3db-4916-846b-1f0de9cf1746",
   "metadata": {
    "execution": {
     "iopub.execute_input": "2025-07-30T14:00:37.475353Z",
     "iopub.status.busy": "2025-07-30T14:00:37.474558Z",
     "iopub.status.idle": "2025-07-30T14:00:37.482591Z",
     "shell.execute_reply": "2025-07-30T14:00:37.481651Z"
    },
    "papermill": {
     "duration": 0.030842,
     "end_time": "2025-07-30T14:00:37.484261",
     "exception": false,
     "start_time": "2025-07-30T14:00:37.453419",
     "status": "completed"
    },
    "tags": []
   },
   "outputs": [],
   "source": [
    "X_train = siab_train.iloc[:,4:164]\n",
    "y_train = siab_train.iloc[:, [3]]"
   ]
  },
  {
   "cell_type": "code",
   "execution_count": 22,
   "id": "828c96af-f43a-4ed6-ba47-8ac73a47d56c",
   "metadata": {
    "execution": {
     "iopub.execute_input": "2025-07-30T14:00:37.526994Z",
     "iopub.status.busy": "2025-07-30T14:00:37.526318Z",
     "iopub.status.idle": "2025-07-30T14:00:37.574522Z",
     "shell.execute_reply": "2025-07-30T14:00:37.573606Z"
    },
    "papermill": {
     "duration": 0.072497,
     "end_time": "2025-07-30T14:00:37.577076",
     "exception": false,
     "start_time": "2025-07-30T14:00:37.504579",
     "status": "completed"
    },
    "tags": []
   },
   "outputs": [],
   "source": [
    "X_calib = siab_calib.iloc[:,4:164]\n",
    "y_calib = siab_calib.iloc[:, [3]]"
   ]
  },
  {
   "cell_type": "code",
   "execution_count": 23,
   "id": "c34be9c3-6bd6-476e-acd3-845840e303be",
   "metadata": {
    "execution": {
     "iopub.execute_input": "2025-07-30T14:00:37.621631Z",
     "iopub.status.busy": "2025-07-30T14:00:37.620697Z",
     "iopub.status.idle": "2025-07-30T14:00:37.670459Z",
     "shell.execute_reply": "2025-07-30T14:00:37.669435Z"
    },
    "papermill": {
     "duration": 0.072957,
     "end_time": "2025-07-30T14:00:37.672622",
     "exception": false,
     "start_time": "2025-07-30T14:00:37.599665",
     "status": "completed"
    },
    "tags": []
   },
   "outputs": [],
   "source": [
    "X_test = siab_test.iloc[:,4:164]\n",
    "y_true = siab_test.iloc[:, [3]]"
   ]
  },
  {
   "cell_type": "markdown",
   "id": "9901737e-04df-44f0-9100-f5ad144ed040",
   "metadata": {
    "papermill": {
     "duration": 0.021397,
     "end_time": "2025-07-30T14:00:37.715624",
     "exception": false,
     "start_time": "2025-07-30T14:00:37.694227",
     "status": "completed"
    },
    "tags": []
   },
   "source": [
    "# Splitting Data and Setting Training Data Size OLD VERSION"
   ]
  },
  {
   "cell_type": "code",
   "execution_count": 24,
   "id": "acbc8f7d-8fc8-4e86-8c59-5dcb0f58384b",
   "metadata": {
    "execution": {
     "iopub.execute_input": "2025-07-30T14:00:37.758413Z",
     "iopub.status.busy": "2025-07-30T14:00:37.757340Z",
     "iopub.status.idle": "2025-07-30T14:00:37.763594Z",
     "shell.execute_reply": "2025-07-30T14:00:37.762430Z"
    },
    "papermill": {
     "duration": 0.030092,
     "end_time": "2025-07-30T14:00:37.766025",
     "exception": false,
     "start_time": "2025-07-30T14:00:37.735933",
     "status": "completed"
    },
    "tags": []
   },
   "outputs": [],
   "source": [
    "#def sample_by_year(df, training_size, random_state=42):\n",
    "#    if training_size == \"2014\":\n",
    "#        return df[df[\"year\"] == 2014].reset_index(drop=True)\n",
    "#    \n",
    "#    size_map = {\n",
    "#        \"25k\": 5000,\n",
    "#        \"5k\": 1000,\n",
    "#        \"1k\": 200\n",
    "#    }\n",
    "#\n",
    "#    if training_size not in size_map:\n",
    "#        return df.reset_index(drop=True)  # use all data\n",
    "#\n",
    "#    n_per_year = size_map[training_size]\n",
    "#    grouped = df.groupby(\"year\")\n",
    "#    sampled = grouped.apply(lambda x: x.sample(n=min(n_per_year, len(x)), random_state=random_state))\n",
    "#    return sampled.reset_index(drop=True)"
   ]
  },
  {
   "cell_type": "code",
   "execution_count": 25,
   "id": "6d931f52-beaf-43ff-9e78-9d44a448d54e",
   "metadata": {
    "execution": {
     "iopub.execute_input": "2025-07-30T14:00:37.819606Z",
     "iopub.status.busy": "2025-07-30T14:00:37.818935Z",
     "iopub.status.idle": "2025-07-30T14:00:37.826011Z",
     "shell.execute_reply": "2025-07-30T14:00:37.824707Z"
    },
    "papermill": {
     "duration": 0.036482,
     "end_time": "2025-07-30T14:00:37.828451",
     "exception": false,
     "start_time": "2025-07-30T14:00:37.791969",
     "status": "completed"
    },
    "tags": []
   },
   "outputs": [],
   "source": [
    "#siab_s = sample_by_year(siab, universe[\"training_size\"])"
   ]
  },
  {
   "cell_type": "code",
   "execution_count": 26,
   "id": "5db0a40e-a4e2-4920-be85-b12ae061d70d",
   "metadata": {
    "execution": {
     "iopub.execute_input": "2025-07-30T14:00:37.888463Z",
     "iopub.status.busy": "2025-07-30T14:00:37.887945Z",
     "iopub.status.idle": "2025-07-30T14:00:37.893431Z",
     "shell.execute_reply": "2025-07-30T14:00:37.892449Z"
    },
    "papermill": {
     "duration": 0.034499,
     "end_time": "2025-07-30T14:00:37.894913",
     "exception": false,
     "start_time": "2025-07-30T14:00:37.860414",
     "status": "completed"
    },
    "tags": []
   },
   "outputs": [],
   "source": [
    "#display(siab_s.groupby(\"year\").size())"
   ]
  },
  {
   "cell_type": "code",
   "execution_count": 27,
   "id": "e6c733c5",
   "metadata": {
    "execution": {
     "iopub.execute_input": "2025-07-30T14:00:37.938934Z",
     "iopub.status.busy": "2025-07-30T14:00:37.938144Z",
     "iopub.status.idle": "2025-07-30T14:00:38.034294Z",
     "shell.execute_reply": "2025-07-30T14:00:38.033380Z"
    },
    "papermill": {
     "duration": 0.11905,
     "end_time": "2025-07-30T14:00:38.036222",
     "exception": false,
     "start_time": "2025-07-30T14:00:37.917172",
     "status": "completed"
    },
    "tags": []
   },
   "outputs": [],
   "source": [
    "# Auxiliary data needed downstream in the pipeline\n",
    "\n",
    "org_train = X_train.copy()\n",
    "org_test = X_test.copy()\n",
    "org_calib = X_calib.copy()"
   ]
  },
  {
   "cell_type": "code",
   "execution_count": 28,
   "id": "1466abac-c6da-4492-a62f-4240ae3783af",
   "metadata": {
    "execution": {
     "iopub.execute_input": "2025-07-30T14:00:38.082631Z",
     "iopub.status.busy": "2025-07-30T14:00:38.081973Z",
     "iopub.status.idle": "2025-07-30T14:00:38.088121Z",
     "shell.execute_reply": "2025-07-30T14:00:38.087221Z"
    },
    "papermill": {
     "duration": 0.03042,
     "end_time": "2025-07-30T14:00:38.089610",
     "exception": false,
     "start_time": "2025-07-30T14:00:38.059190",
     "status": "completed"
    },
    "tags": []
   },
   "outputs": [],
   "source": [
    "# put in other script?\n",
    "# Group sizes\n",
    "\n",
    "#def calculate_percentages(df, df_name):\n",
    "#    total_entries = len(df)\n",
    "#\n",
    "#    female_pct = (df['frau1'] == 1).mean() * 100\n",
    "#    non_german_pct = ((df['maxdeutsch1'] == 0) & (df['maxdeutsch.Missing.'] == 0)).mean() * 100\n",
    "#    non_german_male_pct = ((df['frau1'] == 0) & (df['maxdeutsch1'] == 0) & (df['maxdeutsch.Missing.'] == 0)).mean() * 100\n",
    "#    non_german_female_pct = ((df['frau1'] == 1) & (df['maxdeutsch1'] == 0) & (df['maxdeutsch.Missing.'] == 0)).mean() * 100\n",
    "#\n",
    "#    print(f\"--- {df_name} ---\")\n",
    "#    print(f\"Female: {female_pct:.2f}%\")\n",
    "#    print(f\"Non-German: {non_german_pct:.2f}%\")\n",
    "#    print(f\"Non-German Male: {non_german_male_pct:.2f}%\")\n",
    "#    print(f\"Non-German Female: {non_german_female_pct:.2f}%\\n\")\n",
    "#\n",
    "## Calculate for each DataFrame\n",
    "#calculate_percentages(siab_calib, \"siab_calib\")\n",
    "#calculate_percentages(siab_test, \"siab_test\")\n",
    "#calculate_percentages(siab_train, \"siab_train\")"
   ]
  },
  {
   "cell_type": "markdown",
   "id": "0a4a1b33",
   "metadata": {
    "papermill": {
     "duration": 0.022138,
     "end_time": "2025-07-30T14:00:38.133460",
     "exception": false,
     "start_time": "2025-07-30T14:00:38.111322",
     "status": "completed"
    },
    "tags": []
   },
   "source": [
    "# Preprocessing Data"
   ]
  },
  {
   "cell_type": "code",
   "execution_count": 29,
   "id": "ca879031",
   "metadata": {
    "execution": {
     "iopub.execute_input": "2025-07-30T14:00:38.179637Z",
     "iopub.status.busy": "2025-07-30T14:00:38.178984Z",
     "iopub.status.idle": "2025-07-30T14:00:38.184904Z",
     "shell.execute_reply": "2025-07-30T14:00:38.183962Z"
    },
    "papermill": {
     "duration": 0.032261,
     "end_time": "2025-07-30T14:00:38.186608",
     "exception": false,
     "start_time": "2025-07-30T14:00:38.154347",
     "status": "completed"
    },
    "tags": []
   },
   "outputs": [],
   "source": [
    "# EXCLUDE PROTECTED FEATURES\n",
    "# ----------------------\n",
    "# \"exclude_features\": \"none\", # \"nationality\", \"sex\", \"nationality-sex\"\n",
    "\n",
    "excluded_features = universe[\"exclude_features\"].split(\"-\") # split, e.g.: \"nationality-sex\" -> [\"nationality\", \"sex\"]\n",
    "excluded_features_dictionary = {\n",
    "    \"nationality\": [\"maxdeutsch1\", \"maxdeutsch.Missing.\"],\n",
    "    \"sex\": [\"frau1\"],\n",
    "    \"age\": [\"age\"],\n",
    "}\n"
   ]
  },
  {
   "cell_type": "code",
   "execution_count": 30,
   "id": "b745ac60",
   "metadata": {
    "execution": {
     "iopub.execute_input": "2025-07-30T14:00:38.231416Z",
     "iopub.status.busy": "2025-07-30T14:00:38.230734Z",
     "iopub.status.idle": "2025-07-30T14:00:38.236362Z",
     "shell.execute_reply": "2025-07-30T14:00:38.235479Z"
    },
    "papermill": {
     "duration": 0.028887,
     "end_time": "2025-07-30T14:00:38.237934",
     "exception": false,
     "start_time": "2025-07-30T14:00:38.209047",
     "status": "completed"
    },
    "tags": []
   },
   "outputs": [],
   "source": [
    "# Code nice names to column names\n",
    "\n",
    "excluded_features_columns = [\n",
    "    excluded_features_dictionary[f] for f in excluded_features if len(f) > 0 and f != \"none\"\n",
    "]"
   ]
  },
  {
   "cell_type": "code",
   "execution_count": 31,
   "id": "f84f73a2",
   "metadata": {
    "execution": {
     "iopub.execute_input": "2025-07-30T14:00:38.284464Z",
     "iopub.status.busy": "2025-07-30T14:00:38.283740Z",
     "iopub.status.idle": "2025-07-30T14:00:38.292061Z",
     "shell.execute_reply": "2025-07-30T14:00:38.291001Z"
    },
    "papermill": {
     "duration": 0.03332,
     "end_time": "2025-07-30T14:00:38.293838",
     "exception": false,
     "start_time": "2025-07-30T14:00:38.260518",
     "status": "completed"
    },
    "tags": []
   },
   "outputs": [],
   "source": [
    "from utils import flatten_once\n",
    "\n",
    "excluded_features_columns = flatten_once(excluded_features_columns)"
   ]
  },
  {
   "cell_type": "code",
   "execution_count": 32,
   "id": "884dea22",
   "metadata": {
    "execution": {
     "iopub.execute_input": "2025-07-30T14:00:38.338542Z",
     "iopub.status.busy": "2025-07-30T14:00:38.337819Z",
     "iopub.status.idle": "2025-07-30T14:00:38.349397Z",
     "shell.execute_reply": "2025-07-30T14:00:38.348561Z"
    },
    "papermill": {
     "duration": 0.035015,
     "end_time": "2025-07-30T14:00:38.350870",
     "exception": false,
     "start_time": "2025-07-30T14:00:38.315855",
     "status": "completed"
    },
    "tags": []
   },
   "outputs": [
    {
     "name": "stdout",
     "output_type": "stream",
     "text": [
      "Dropping features: ['maxdeutsch1', 'maxdeutsch.Missing.']\n"
     ]
    }
   ],
   "source": [
    "if len(excluded_features_columns) > 0:\n",
    "    print(f\"Dropping features: {excluded_features_columns}\")\n",
    "    X_train.drop(excluded_features_columns, axis=1, inplace=True)"
   ]
  },
  {
   "cell_type": "code",
   "execution_count": 33,
   "id": "95ab8b16",
   "metadata": {
    "execution": {
     "iopub.execute_input": "2025-07-30T14:00:38.398568Z",
     "iopub.status.busy": "2025-07-30T14:00:38.397902Z",
     "iopub.status.idle": "2025-07-30T14:00:38.448505Z",
     "shell.execute_reply": "2025-07-30T14:00:38.447375Z"
    },
    "papermill": {
     "duration": 0.077223,
     "end_time": "2025-07-30T14:00:38.451139",
     "exception": false,
     "start_time": "2025-07-30T14:00:38.373916",
     "status": "completed"
    },
    "tags": []
   },
   "outputs": [
    {
     "name": "stdout",
     "output_type": "stream",
     "text": [
      "Dropping features: ['maxdeutsch1', 'maxdeutsch.Missing.']\n"
     ]
    }
   ],
   "source": [
    "if len(excluded_features_columns) > 0:\n",
    "    print(f\"Dropping features: {excluded_features_columns}\")\n",
    "    X_test.drop(excluded_features_columns, axis=1, inplace=True)"
   ]
  },
  {
   "cell_type": "code",
   "execution_count": 34,
   "id": "1853aaf5-fb9f-46cb-a2b5-8ea4ae2237e4",
   "metadata": {
    "execution": {
     "iopub.execute_input": "2025-07-30T14:00:38.498217Z",
     "iopub.status.busy": "2025-07-30T14:00:38.497373Z",
     "iopub.status.idle": "2025-07-30T14:00:38.551095Z",
     "shell.execute_reply": "2025-07-30T14:00:38.550086Z"
    },
    "papermill": {
     "duration": 0.078942,
     "end_time": "2025-07-30T14:00:38.552898",
     "exception": false,
     "start_time": "2025-07-30T14:00:38.473956",
     "status": "completed"
    },
    "tags": []
   },
   "outputs": [
    {
     "name": "stdout",
     "output_type": "stream",
     "text": [
      "Dropping features: ['maxdeutsch1', 'maxdeutsch.Missing.']\n"
     ]
    }
   ],
   "source": [
    "if len(excluded_features_columns) > 0:\n",
    "    print(f\"Dropping features: {excluded_features_columns}\")\n",
    "    X_calib.drop(excluded_features_columns, axis=1, inplace=True)"
   ]
  },
  {
   "cell_type": "code",
   "execution_count": 35,
   "id": "6727d079-03e5-481e-9d38-292a90b7a0a8",
   "metadata": {
    "execution": {
     "iopub.execute_input": "2025-07-30T14:00:38.599358Z",
     "iopub.status.busy": "2025-07-30T14:00:38.598705Z",
     "iopub.status.idle": "2025-07-30T14:00:38.603784Z",
     "shell.execute_reply": "2025-07-30T14:00:38.602824Z"
    },
    "papermill": {
     "duration": 0.029198,
     "end_time": "2025-07-30T14:00:38.605658",
     "exception": false,
     "start_time": "2025-07-30T14:00:38.576460",
     "status": "completed"
    },
    "tags": []
   },
   "outputs": [],
   "source": [
    "# SPLIT & STRATIFY DATA\n",
    "# ----------------------"
   ]
  },
  {
   "cell_type": "code",
   "execution_count": 36,
   "id": "76c4dc6d",
   "metadata": {
    "execution": {
     "iopub.execute_input": "2025-07-30T14:00:38.652304Z",
     "iopub.status.busy": "2025-07-30T14:00:38.651323Z",
     "iopub.status.idle": "2025-07-30T14:00:38.656954Z",
     "shell.execute_reply": "2025-07-30T14:00:38.656065Z"
    },
    "papermill": {
     "duration": 0.030038,
     "end_time": "2025-07-30T14:00:38.658563",
     "exception": false,
     "start_time": "2025-07-30T14:00:38.628525",
     "status": "completed"
    },
    "tags": []
   },
   "outputs": [],
   "source": [
    "# EXCLUDE CERTAIN SUBGROUPS\n",
    "# ----------------------\n",
    "\n",
    "mode = universe.get(\"exclude_subgroups\", \"keep-all\") \n",
    "# Fetches the exclude_subgroups setting from the universe dict.\n",
    "# Defaults to \"keep-all\" if the key is missing."
   ]
  },
  {
   "cell_type": "code",
   "execution_count": 37,
   "id": "21994072",
   "metadata": {
    "execution": {
     "iopub.execute_input": "2025-07-30T14:00:38.705173Z",
     "iopub.status.busy": "2025-07-30T14:00:38.704510Z",
     "iopub.status.idle": "2025-07-30T14:00:38.712062Z",
     "shell.execute_reply": "2025-07-30T14:00:38.710992Z"
    },
    "papermill": {
     "duration": 0.032641,
     "end_time": "2025-07-30T14:00:38.713967",
     "exception": false,
     "start_time": "2025-07-30T14:00:38.681326",
     "status": "completed"
    },
    "tags": []
   },
   "outputs": [],
   "source": [
    "if mode == \"keep-all\":\n",
    "    keep_mask = pd.Series(True, index=org_train.index)\n",
    "\n",
    "# org_train contains the original feature columns from features_org (in Simson)\n",
    "# features_org contains unprocessed features, for me X_train at beginning ???\n",
    "# For keep-all, creates a boolean Series (keep_mask) of all True, so no rows are removed.\n",
    "\n",
    "elif mode == \"drop-non-german\":\n",
    "    keep_mask = org_train[\"maxdeutsch1\"] == 1 # ??? what about missing values?\n",
    "\n",
    "else:\n",
    "    raise ValueError(f\"Unsupported mode for exclude_subgroups: {mode}\")\n"
   ]
  },
  {
   "cell_type": "code",
   "execution_count": 38,
   "id": "71651440",
   "metadata": {
    "execution": {
     "iopub.execute_input": "2025-07-30T14:00:38.761247Z",
     "iopub.status.busy": "2025-07-30T14:00:38.760631Z",
     "iopub.status.idle": "2025-07-30T14:00:38.768358Z",
     "shell.execute_reply": "2025-07-30T14:00:38.767314Z"
    },
    "papermill": {
     "duration": 0.032371,
     "end_time": "2025-07-30T14:00:38.770134",
     "exception": false,
     "start_time": "2025-07-30T14:00:38.737763",
     "status": "completed"
    },
    "tags": []
   },
   "outputs": [
    {
     "name": "stdout",
     "output_type": "stream",
     "text": [
      "Dropping 665 rows (13.30%) where mode='drop-non-german'\n"
     ]
    }
   ],
   "source": [
    "n_drop = (~keep_mask).sum() # Calculates how many rows are set to be dropped\n",
    "if n_drop > 0:\n",
    "    pct = n_drop / len(keep_mask) * 100\n",
    "    print(f\"Dropping {n_drop} rows ({pct:.2f}%) where mode='{mode}'\")"
   ]
  },
  {
   "cell_type": "code",
   "execution_count": 39,
   "id": "5fb8eee5",
   "metadata": {
    "execution": {
     "iopub.execute_input": "2025-07-30T14:00:38.817086Z",
     "iopub.status.busy": "2025-07-30T14:00:38.816407Z",
     "iopub.status.idle": "2025-07-30T14:00:38.824604Z",
     "shell.execute_reply": "2025-07-30T14:00:38.823538Z"
    },
    "papermill": {
     "duration": 0.032986,
     "end_time": "2025-07-30T14:00:38.826301",
     "exception": false,
     "start_time": "2025-07-30T14:00:38.793315",
     "status": "completed"
    },
    "tags": []
   },
   "outputs": [],
   "source": [
    "X_train = X_train[keep_mask]"
   ]
  },
  {
   "cell_type": "code",
   "execution_count": 40,
   "id": "b202bb3a",
   "metadata": {
    "execution": {
     "iopub.execute_input": "2025-07-30T14:00:38.874674Z",
     "iopub.status.busy": "2025-07-30T14:00:38.873999Z",
     "iopub.status.idle": "2025-07-30T14:00:38.880315Z",
     "shell.execute_reply": "2025-07-30T14:00:38.879378Z"
    },
    "papermill": {
     "duration": 0.032595,
     "end_time": "2025-07-30T14:00:38.881996",
     "exception": false,
     "start_time": "2025-07-30T14:00:38.849401",
     "status": "completed"
    },
    "tags": []
   },
   "outputs": [],
   "source": [
    "y_train = y_train[keep_mask]"
   ]
  },
  {
   "cell_type": "markdown",
   "id": "493e2ac3",
   "metadata": {
    "papermill": {
     "duration": 0.02198,
     "end_time": "2025-07-30T14:00:38.927944",
     "exception": false,
     "start_time": "2025-07-30T14:00:38.905964",
     "status": "completed"
    },
    "tags": []
   },
   "source": [
    "# Model Training"
   ]
  },
  {
   "cell_type": "code",
   "execution_count": 41,
   "id": "679e1268",
   "metadata": {
    "execution": {
     "iopub.execute_input": "2025-07-30T14:00:38.974708Z",
     "iopub.status.busy": "2025-07-30T14:00:38.974066Z",
     "iopub.status.idle": "2025-07-30T14:00:39.073812Z",
     "shell.execute_reply": "2025-07-30T14:00:39.072932Z"
    },
    "papermill": {
     "duration": 0.125711,
     "end_time": "2025-07-30T14:00:39.075649",
     "exception": false,
     "start_time": "2025-07-30T14:00:38.949938",
     "status": "completed"
    },
    "tags": []
   },
   "outputs": [],
   "source": [
    "from sklearn.linear_model import LogisticRegression\n",
    "from sklearn.ensemble import GradientBoostingClassifier, RandomForestClassifier\n",
    "\n",
    "if (universe[\"model\"] == \"logreg\"):\n",
    "    model = LogisticRegression() #penalty=\"none\") #, solver=\"newton-cg\", max_iter=1) # include random_state=19 ?\n",
    "elif (universe[\"model\"] == \"penalized_logreg\"):\n",
    "    model = LogisticRegression(penalty=\"l2\", C=1.0) #, solver=\"newton-cg\", max_iter=1)\n",
    "elif (universe[\"model\"] == \"rf\"):\n",
    "    model = RandomForestClassifier(n_estimators=100, n_jobs=-1)\n",
    "elif (universe[\"model\"] == \"gbm\"):\n",
    "    model = GradientBoostingClassifier()\n",
    "elif (universe[\"model\"] == \"elasticnet\"):\n",
    "    model = LogisticRegression(penalty = 'elasticnet', solver = 'saga', l1_ratio = 0.5, max_iter=5000) # which solver to use?\n",
    "else:\n",
    "    raise \"Unsupported universe.model\""
   ]
  },
  {
   "cell_type": "code",
   "execution_count": 42,
   "id": "0cc8f744",
   "metadata": {
    "execution": {
     "iopub.execute_input": "2025-07-30T14:00:39.123772Z",
     "iopub.status.busy": "2025-07-30T14:00:39.122844Z",
     "iopub.status.idle": "2025-07-30T14:00:39.129372Z",
     "shell.execute_reply": "2025-07-30T14:00:39.128455Z"
    },
    "papermill": {
     "duration": 0.031922,
     "end_time": "2025-07-30T14:00:39.131101",
     "exception": false,
     "start_time": "2025-07-30T14:00:39.099179",
     "status": "completed"
    },
    "tags": []
   },
   "outputs": [],
   "source": [
    "import numpy as np\n",
    "from sklearn.pipeline import Pipeline\n",
    "from sklearn.preprocessing import StandardScaler\n",
    "\n",
    "model = Pipeline([\n",
    "    #(\"continuous_processor\", continuous_processor),\n",
    "    #(\"categorical_preprocessor\", categorical_preprocessor),\n",
    "    (\"scale\", StandardScaler() if universe[\"scale\"] == \"scale\" else None), \n",
    "    (\"model\", model),\n",
    "])"
   ]
  },
  {
   "cell_type": "code",
   "execution_count": 43,
   "id": "9442c04d",
   "metadata": {
    "execution": {
     "iopub.execute_input": "2025-07-30T14:00:39.178269Z",
     "iopub.status.busy": "2025-07-30T14:00:39.177813Z",
     "iopub.status.idle": "2025-07-30T14:00:39.295104Z",
     "shell.execute_reply": "2025-07-30T14:00:39.294228Z"
    },
    "papermill": {
     "duration": 0.143363,
     "end_time": "2025-07-30T14:00:39.297440",
     "exception": false,
     "start_time": "2025-07-30T14:00:39.154077",
     "status": "completed"
    },
    "tags": []
   },
   "outputs": [
    {
     "name": "stderr",
     "output_type": "stream",
     "text": [
      "/dss/dsshome1/0C/ra93lal2/.local/share/virtualenvs/CMA_Fairness_v2-3j10GkSs/lib/python3.10/site-packages/sklearn/linear_model/_logistic.py:444: ConvergenceWarning: lbfgs failed to converge (status=1):\n",
      "STOP: TOTAL NO. of ITERATIONS REACHED LIMIT.\n",
      "\n",
      "Increase the number of iterations (max_iter) or scale the data as shown in:\n",
      "    https://scikit-learn.org/stable/modules/preprocessing.html\n",
      "Please also refer to the documentation for alternative solver options:\n",
      "    https://scikit-learn.org/stable/modules/linear_model.html#logistic-regression\n",
      "  n_iter_i = _check_optimize_result(\n"
     ]
    },
    {
     "data": {
      "text/html": [
       "<style>#sk-container-id-1 {color: black;background-color: white;}#sk-container-id-1 pre{padding: 0;}#sk-container-id-1 div.sk-toggleable {background-color: white;}#sk-container-id-1 label.sk-toggleable__label {cursor: pointer;display: block;width: 100%;margin-bottom: 0;padding: 0.3em;box-sizing: border-box;text-align: center;}#sk-container-id-1 label.sk-toggleable__label-arrow:before {content: \"▸\";float: left;margin-right: 0.25em;color: #696969;}#sk-container-id-1 label.sk-toggleable__label-arrow:hover:before {color: black;}#sk-container-id-1 div.sk-estimator:hover label.sk-toggleable__label-arrow:before {color: black;}#sk-container-id-1 div.sk-toggleable__content {max-height: 0;max-width: 0;overflow: hidden;text-align: left;background-color: #f0f8ff;}#sk-container-id-1 div.sk-toggleable__content pre {margin: 0.2em;color: black;border-radius: 0.25em;background-color: #f0f8ff;}#sk-container-id-1 input.sk-toggleable__control:checked~div.sk-toggleable__content {max-height: 200px;max-width: 100%;overflow: auto;}#sk-container-id-1 input.sk-toggleable__control:checked~label.sk-toggleable__label-arrow:before {content: \"▾\";}#sk-container-id-1 div.sk-estimator input.sk-toggleable__control:checked~label.sk-toggleable__label {background-color: #d4ebff;}#sk-container-id-1 div.sk-label input.sk-toggleable__control:checked~label.sk-toggleable__label {background-color: #d4ebff;}#sk-container-id-1 input.sk-hidden--visually {border: 0;clip: rect(1px 1px 1px 1px);clip: rect(1px, 1px, 1px, 1px);height: 1px;margin: -1px;overflow: hidden;padding: 0;position: absolute;width: 1px;}#sk-container-id-1 div.sk-estimator {font-family: monospace;background-color: #f0f8ff;border: 1px dotted black;border-radius: 0.25em;box-sizing: border-box;margin-bottom: 0.5em;}#sk-container-id-1 div.sk-estimator:hover {background-color: #d4ebff;}#sk-container-id-1 div.sk-parallel-item::after {content: \"\";width: 100%;border-bottom: 1px solid gray;flex-grow: 1;}#sk-container-id-1 div.sk-label:hover label.sk-toggleable__label {background-color: #d4ebff;}#sk-container-id-1 div.sk-serial::before {content: \"\";position: absolute;border-left: 1px solid gray;box-sizing: border-box;top: 0;bottom: 0;left: 50%;z-index: 0;}#sk-container-id-1 div.sk-serial {display: flex;flex-direction: column;align-items: center;background-color: white;padding-right: 0.2em;padding-left: 0.2em;position: relative;}#sk-container-id-1 div.sk-item {position: relative;z-index: 1;}#sk-container-id-1 div.sk-parallel {display: flex;align-items: stretch;justify-content: center;background-color: white;position: relative;}#sk-container-id-1 div.sk-item::before, #sk-container-id-1 div.sk-parallel-item::before {content: \"\";position: absolute;border-left: 1px solid gray;box-sizing: border-box;top: 0;bottom: 0;left: 50%;z-index: -1;}#sk-container-id-1 div.sk-parallel-item {display: flex;flex-direction: column;z-index: 1;position: relative;background-color: white;}#sk-container-id-1 div.sk-parallel-item:first-child::after {align-self: flex-end;width: 50%;}#sk-container-id-1 div.sk-parallel-item:last-child::after {align-self: flex-start;width: 50%;}#sk-container-id-1 div.sk-parallel-item:only-child::after {width: 0;}#sk-container-id-1 div.sk-dashed-wrapped {border: 1px dashed gray;margin: 0 0.4em 0.5em 0.4em;box-sizing: border-box;padding-bottom: 0.4em;background-color: white;}#sk-container-id-1 div.sk-label label {font-family: monospace;font-weight: bold;display: inline-block;line-height: 1.2em;}#sk-container-id-1 div.sk-label-container {text-align: center;}#sk-container-id-1 div.sk-container {/* jupyter's `normalize.less` sets `[hidden] { display: none; }` but bootstrap.min.css set `[hidden] { display: none !important; }` so we also need the `!important` here to be able to override the default hidden behavior on the sphinx rendered scikit-learn.org. See: https://github.com/scikit-learn/scikit-learn/issues/21755 */display: inline-block !important;position: relative;}#sk-container-id-1 div.sk-text-repr-fallback {display: none;}</style><div id=\"sk-container-id-1\" class=\"sk-top-container\"><div class=\"sk-text-repr-fallback\"><pre>Pipeline(steps=[(&#x27;scale&#x27;, None), (&#x27;model&#x27;, LogisticRegression())])</pre><b>In a Jupyter environment, please rerun this cell to show the HTML representation or trust the notebook. <br />On GitHub, the HTML representation is unable to render, please try loading this page with nbviewer.org.</b></div><div class=\"sk-container\" hidden><div class=\"sk-item sk-dashed-wrapped\"><div class=\"sk-label-container\"><div class=\"sk-label sk-toggleable\"><input class=\"sk-toggleable__control sk-hidden--visually\" id=\"sk-estimator-id-1\" type=\"checkbox\" ><label for=\"sk-estimator-id-1\" class=\"sk-toggleable__label sk-toggleable__label-arrow\">Pipeline</label><div class=\"sk-toggleable__content\"><pre>Pipeline(steps=[(&#x27;scale&#x27;, None), (&#x27;model&#x27;, LogisticRegression())])</pre></div></div></div><div class=\"sk-serial\"><div class=\"sk-item\"><div class=\"sk-estimator sk-toggleable\"><input class=\"sk-toggleable__control sk-hidden--visually\" id=\"sk-estimator-id-2\" type=\"checkbox\" ><label for=\"sk-estimator-id-2\" class=\"sk-toggleable__label sk-toggleable__label-arrow\">None</label><div class=\"sk-toggleable__content\"><pre>None</pre></div></div></div><div class=\"sk-item\"><div class=\"sk-estimator sk-toggleable\"><input class=\"sk-toggleable__control sk-hidden--visually\" id=\"sk-estimator-id-3\" type=\"checkbox\" ><label for=\"sk-estimator-id-3\" class=\"sk-toggleable__label sk-toggleable__label-arrow\">LogisticRegression</label><div class=\"sk-toggleable__content\"><pre>LogisticRegression()</pre></div></div></div></div></div></div></div>"
      ],
      "text/plain": [
       "Pipeline(steps=[('scale', None), ('model', LogisticRegression())])"
      ]
     },
     "execution_count": 43,
     "metadata": {},
     "output_type": "execute_result"
    }
   ],
   "source": [
    "model.fit(X_train, y_train.values.ravel())"
   ]
  },
  {
   "cell_type": "code",
   "execution_count": 44,
   "id": "af59f8c0",
   "metadata": {
    "execution": {
     "iopub.execute_input": "2025-07-30T14:00:39.345304Z",
     "iopub.status.busy": "2025-07-30T14:00:39.344648Z",
     "iopub.status.idle": "2025-07-30T14:00:39.350246Z",
     "shell.execute_reply": "2025-07-30T14:00:39.349363Z"
    },
    "papermill": {
     "duration": 0.03136,
     "end_time": "2025-07-30T14:00:39.351872",
     "exception": false,
     "start_time": "2025-07-30T14:00:39.320512",
     "status": "completed"
    },
    "tags": []
   },
   "outputs": [],
   "source": [
    "from fairness_multiverse.universe import predict_w_threshold"
   ]
  },
  {
   "cell_type": "code",
   "execution_count": 45,
   "id": "a7cf2e16",
   "metadata": {
    "execution": {
     "iopub.execute_input": "2025-07-30T14:00:39.400961Z",
     "iopub.status.busy": "2025-07-30T14:00:39.400064Z",
     "iopub.status.idle": "2025-07-30T14:00:39.495311Z",
     "shell.execute_reply": "2025-07-30T14:00:39.494405Z"
    },
    "papermill": {
     "duration": 0.121267,
     "end_time": "2025-07-30T14:00:39.497129",
     "exception": false,
     "start_time": "2025-07-30T14:00:39.375862",
     "status": "completed"
    },
    "tags": []
   },
   "outputs": [
    {
     "data": {
      "text/plain": [
       "0.8602608404860105"
      ]
     },
     "execution_count": 45,
     "metadata": {},
     "output_type": "execute_result"
    }
   ],
   "source": [
    "probs_test = model.predict_proba(X_test)\n",
    "\n",
    "'''\n",
    "Below code returns a boolean array (or binary 0/1 array depending on how it’s used) where each element \n",
    "is True if the probability of class 1 is greater than or equal to the threshold, and False otherwise.\n",
    "'''\n",
    "y_pred_default = predict_w_threshold(probs_test, 0.5)\n",
    "\n",
    "from sklearn.metrics import accuracy_score\n",
    "\n",
    "# Naive prediction\n",
    "accuracy_score(y_true = y_true, y_pred = y_pred_default)"
   ]
  },
  {
   "cell_type": "code",
   "execution_count": 46,
   "id": "081964c3",
   "metadata": {
    "execution": {
     "iopub.execute_input": "2025-07-30T14:00:39.544635Z",
     "iopub.status.busy": "2025-07-30T14:00:39.543975Z",
     "iopub.status.idle": "2025-07-30T14:00:39.624416Z",
     "shell.execute_reply": "2025-07-30T14:00:39.623460Z"
    },
    "papermill": {
     "duration": 0.105852,
     "end_time": "2025-07-30T14:00:39.626063",
     "exception": false,
     "start_time": "2025-07-30T14:00:39.520211",
     "status": "completed"
    },
    "tags": []
   },
   "outputs": [
    {
     "data": {
      "text/plain": [
       "array([0, 0, 0, ..., 0, 0, 0])"
      ]
     },
     "execution_count": 46,
     "metadata": {},
     "output_type": "execute_result"
    }
   ],
   "source": [
    "model.predict(X_test)"
   ]
  },
  {
   "cell_type": "markdown",
   "id": "56c9705b",
   "metadata": {
    "papermill": {
     "duration": 0.022204,
     "end_time": "2025-07-30T14:00:39.672805",
     "exception": false,
     "start_time": "2025-07-30T14:00:39.650601",
     "status": "completed"
    },
    "tags": []
   },
   "source": [
    "# Conformal Prediction"
   ]
  },
  {
   "cell_type": "code",
   "execution_count": 47,
   "id": "160ec6ff",
   "metadata": {
    "execution": {
     "iopub.execute_input": "2025-07-30T14:00:39.721345Z",
     "iopub.status.busy": "2025-07-30T14:00:39.720576Z",
     "iopub.status.idle": "2025-07-30T14:00:39.728510Z",
     "shell.execute_reply": "2025-07-30T14:00:39.727550Z"
    },
    "papermill": {
     "duration": 0.03338,
     "end_time": "2025-07-30T14:00:39.730227",
     "exception": false,
     "start_time": "2025-07-30T14:00:39.696847",
     "status": "completed"
    },
    "tags": []
   },
   "outputs": [],
   "source": [
    "# Miscoverage level for conformal prediction (10% allowed error rate => 90% target coverage)\n",
    "alpha = 0.1"
   ]
  },
  {
   "cell_type": "code",
   "execution_count": 48,
   "id": "eadf4555-3dd3-440e-8e35-f82a4ad9f855",
   "metadata": {
    "execution": {
     "iopub.execute_input": "2025-07-30T14:00:39.780957Z",
     "iopub.status.busy": "2025-07-30T14:00:39.780595Z",
     "iopub.status.idle": "2025-07-30T14:00:39.862280Z",
     "shell.execute_reply": "2025-07-30T14:00:39.861198Z"
    },
    "papermill": {
     "duration": 0.107471,
     "end_time": "2025-07-30T14:00:39.864126",
     "exception": false,
     "start_time": "2025-07-30T14:00:39.756655",
     "status": "completed"
    },
    "tags": []
   },
   "outputs": [],
   "source": [
    "probs_calib = model.predict_proba(X_calib)"
   ]
  },
  {
   "cell_type": "code",
   "execution_count": 49,
   "id": "2ed93547-6d5d-4983-9b36-1ecb300da49a",
   "metadata": {
    "execution": {
     "iopub.execute_input": "2025-07-30T14:00:39.910485Z",
     "iopub.status.busy": "2025-07-30T14:00:39.909953Z",
     "iopub.status.idle": "2025-07-30T14:00:39.915389Z",
     "shell.execute_reply": "2025-07-30T14:00:39.914658Z"
    },
    "papermill": {
     "duration": 0.025229,
     "end_time": "2025-07-30T14:00:39.917065",
     "exception": false,
     "start_time": "2025-07-30T14:00:39.891836",
     "status": "completed"
    },
    "tags": []
   },
   "outputs": [],
   "source": [
    "y_calib = y_calib.values.ravel().astype(int)"
   ]
  },
  {
   "cell_type": "code",
   "execution_count": 50,
   "id": "65d1320d-f588-4b38-9072-62af1ae97f7d",
   "metadata": {
    "execution": {
     "iopub.execute_input": "2025-07-30T14:00:39.955115Z",
     "iopub.status.busy": "2025-07-30T14:00:39.954768Z",
     "iopub.status.idle": "2025-07-30T14:00:39.961503Z",
     "shell.execute_reply": "2025-07-30T14:00:39.960758Z"
    },
    "papermill": {
     "duration": 0.026009,
     "end_time": "2025-07-30T14:00:39.962960",
     "exception": false,
     "start_time": "2025-07-30T14:00:39.936951",
     "status": "completed"
    },
    "tags": []
   },
   "outputs": [],
   "source": [
    "from fairness_multiverse.conformal import compute_nc_scores\n",
    "\n",
    "# Compute nonconformity scores on calibration set (1 - probability of true class)\n",
    "nc_scores = compute_nc_scores(probs_calib, y_calib)"
   ]
  },
  {
   "cell_type": "code",
   "execution_count": 51,
   "id": "df3b8ca3-53b7-43d5-9667-7c85da7aeda2",
   "metadata": {
    "execution": {
     "iopub.execute_input": "2025-07-30T14:00:39.993053Z",
     "iopub.status.busy": "2025-07-30T14:00:39.992654Z",
     "iopub.status.idle": "2025-07-30T14:00:39.999704Z",
     "shell.execute_reply": "2025-07-30T14:00:39.998677Z"
    },
    "papermill": {
     "duration": 0.024162,
     "end_time": "2025-07-30T14:00:40.001801",
     "exception": false,
     "start_time": "2025-07-30T14:00:39.977639",
     "status": "completed"
    },
    "tags": []
   },
   "outputs": [],
   "source": [
    "from fairness_multiverse.conformal import find_threshold\n",
    "\n",
    "# Find conformal threshold q_hat for the given alpha (split conformal method)\n",
    "q_hat = find_threshold(nc_scores, alpha)"
   ]
  },
  {
   "cell_type": "code",
   "execution_count": 52,
   "id": "4d29e6c1-0ef6-4aa4-b8fe-4fe79b0d033a",
   "metadata": {
    "execution": {
     "iopub.execute_input": "2025-07-30T14:00:40.048952Z",
     "iopub.status.busy": "2025-07-30T14:00:40.048435Z",
     "iopub.status.idle": "2025-07-30T14:00:40.055722Z",
     "shell.execute_reply": "2025-07-30T14:00:40.054764Z"
    },
    "papermill": {
     "duration": 0.033673,
     "end_time": "2025-07-30T14:00:40.057304",
     "exception": false,
     "start_time": "2025-07-30T14:00:40.023631",
     "status": "completed"
    },
    "tags": []
   },
   "outputs": [
    {
     "data": {
      "text/plain": [
       "0.6739300400001347"
      ]
     },
     "execution_count": 52,
     "metadata": {},
     "output_type": "execute_result"
    }
   ],
   "source": [
    "q_hat"
   ]
  },
  {
   "cell_type": "code",
   "execution_count": 53,
   "id": "92460794-cdac-4be2-ba28-f28c0515a6fb",
   "metadata": {
    "execution": {
     "iopub.execute_input": "2025-07-30T14:00:40.109691Z",
     "iopub.status.busy": "2025-07-30T14:00:40.109234Z",
     "iopub.status.idle": "2025-07-30T14:00:40.872614Z",
     "shell.execute_reply": "2025-07-30T14:00:40.871632Z"
    },
    "papermill": {
     "duration": 0.793064,
     "end_time": "2025-07-30T14:00:40.874524",
     "exception": false,
     "start_time": "2025-07-30T14:00:40.081460",
     "status": "completed"
    },
    "tags": []
   },
   "outputs": [],
   "source": [
    "from fairness_multiverse.conformal import predict_conformal_sets\n",
    "\n",
    "# Generate prediction sets for each test example\n",
    "pred_sets = predict_conformal_sets(model, X_test, q_hat)"
   ]
  },
  {
   "cell_type": "code",
   "execution_count": 54,
   "id": "d90c9a65-e6db-4f5d-80cd-e68fb7e46829",
   "metadata": {
    "execution": {
     "iopub.execute_input": "2025-07-30T14:00:40.927203Z",
     "iopub.status.busy": "2025-07-30T14:00:40.926702Z",
     "iopub.status.idle": "2025-07-30T14:00:40.932450Z",
     "shell.execute_reply": "2025-07-30T14:00:40.931395Z"
    },
    "papermill": {
     "duration": 0.032676,
     "end_time": "2025-07-30T14:00:40.934179",
     "exception": false,
     "start_time": "2025-07-30T14:00:40.901503",
     "status": "completed"
    },
    "tags": []
   },
   "outputs": [],
   "source": [
    "y_true = y_true.squeeze()"
   ]
  },
  {
   "cell_type": "code",
   "execution_count": 55,
   "id": "3a58a54a-1e68-46b9-927a-df01f18aebc8",
   "metadata": {
    "execution": {
     "iopub.execute_input": "2025-07-30T14:00:40.977858Z",
     "iopub.status.busy": "2025-07-30T14:00:40.977418Z",
     "iopub.status.idle": "2025-07-30T14:00:41.655424Z",
     "shell.execute_reply": "2025-07-30T14:00:41.654695Z"
    },
    "papermill": {
     "duration": 0.697367,
     "end_time": "2025-07-30T14:00:41.656858",
     "exception": false,
     "start_time": "2025-07-30T14:00:40.959491",
     "status": "completed"
    },
    "tags": []
   },
   "outputs": [],
   "source": [
    "from fairness_multiverse.conformal import evaluate_sets\n",
    "\n",
    "# Evaluate coverage and average set size on test data\n",
    "metrics = evaluate_sets(pred_sets, y_true)"
   ]
  },
  {
   "cell_type": "markdown",
   "id": "2b569c12-9aaa-4c88-98c9-bbcd0cf3ebb8",
   "metadata": {
    "papermill": {
     "duration": 0.014771,
     "end_time": "2025-07-30T14:00:41.686215",
     "exception": false,
     "start_time": "2025-07-30T14:00:41.671444",
     "status": "completed"
    },
    "tags": []
   },
   "source": [
    "# CP Metrics"
   ]
  },
  {
   "cell_type": "code",
   "execution_count": 56,
   "id": "5ce0a5cb-201f-45a0-ade5-94c7f0bd6095",
   "metadata": {
    "execution": {
     "iopub.execute_input": "2025-07-30T14:00:41.716603Z",
     "iopub.status.busy": "2025-07-30T14:00:41.716085Z",
     "iopub.status.idle": "2025-07-30T14:00:41.722844Z",
     "shell.execute_reply": "2025-07-30T14:00:41.721804Z"
    },
    "papermill": {
     "duration": 0.024631,
     "end_time": "2025-07-30T14:00:41.724157",
     "exception": false,
     "start_time": "2025-07-30T14:00:41.699526",
     "status": "completed"
    },
    "tags": []
   },
   "outputs": [
    {
     "data": {
      "text/plain": [
       "{'coverage': 0.9116040575186712, 'avg_size': 1.2068219819418124}"
      ]
     },
     "execution_count": 56,
     "metadata": {},
     "output_type": "execute_result"
    }
   ],
   "source": [
    "metrics"
   ]
  },
  {
   "cell_type": "code",
   "execution_count": 57,
   "id": "9b9a838d-31c9-430b-ae14-12baee460d17",
   "metadata": {
    "execution": {
     "iopub.execute_input": "2025-07-30T14:00:41.754370Z",
     "iopub.status.busy": "2025-07-30T14:00:41.753522Z",
     "iopub.status.idle": "2025-07-30T14:00:41.761229Z",
     "shell.execute_reply": "2025-07-30T14:00:41.759949Z"
    },
    "papermill": {
     "duration": 0.024507,
     "end_time": "2025-07-30T14:00:41.762480",
     "exception": false,
     "start_time": "2025-07-30T14:00:41.737973",
     "status": "completed"
    },
    "tags": []
   },
   "outputs": [],
   "source": [
    "example_universe = universe.copy()\n",
    "universe_training_size = example_universe.get(\"training_size\")\n",
    "universe_scale = example_universe.get(\"scale\")\n",
    "universe_model = example_universe.get(\"model\")\n",
    "universe_exclude_features = example_universe.get(\"exclude_features\")\n",
    "universe_exclude_subgroups = example_universe.get(\"exclude_subgroups\")"
   ]
  },
  {
   "cell_type": "code",
   "execution_count": 58,
   "id": "f4b6a8ac-9dc0-4245-8a91-5b3b5999c4f9",
   "metadata": {
    "execution": {
     "iopub.execute_input": "2025-07-30T14:00:41.791065Z",
     "iopub.status.busy": "2025-07-30T14:00:41.790463Z",
     "iopub.status.idle": "2025-07-30T14:00:41.796024Z",
     "shell.execute_reply": "2025-07-30T14:00:41.795182Z"
    },
    "papermill": {
     "duration": 0.020762,
     "end_time": "2025-07-30T14:00:41.797316",
     "exception": false,
     "start_time": "2025-07-30T14:00:41.776554",
     "status": "completed"
    },
    "tags": []
   },
   "outputs": [],
   "source": [
    "cp_metrics_dict = {\n",
    "    \"universe_id\": [universe_id],\n",
    "    \"universe_training_size\": [universe_training_size],\n",
    "    \"universe_scale\": [universe_scale],\n",
    "    \"universe_model\": [universe_model],\n",
    "    \"universe_exclude_features\": [universe_exclude_features],\n",
    "    \"universe_exclude_subgroups\": [universe_exclude_subgroups],\n",
    "    \"q_hat\": [q_hat],\n",
    "    \"coverage\": [metrics[\"coverage\"]],\n",
    "    \"avg_size\": [metrics[\"avg_size\"]],\n",
    "}"
   ]
  },
  {
   "cell_type": "code",
   "execution_count": 59,
   "id": "908acbb1-0371-4915-85ca-3fa520d2efe2",
   "metadata": {
    "execution": {
     "iopub.execute_input": "2025-07-30T14:00:41.826728Z",
     "iopub.status.busy": "2025-07-30T14:00:41.826199Z",
     "iopub.status.idle": "2025-07-30T14:00:41.831667Z",
     "shell.execute_reply": "2025-07-30T14:00:41.830936Z"
    },
    "papermill": {
     "duration": 0.021896,
     "end_time": "2025-07-30T14:00:41.833021",
     "exception": false,
     "start_time": "2025-07-30T14:00:41.811125",
     "status": "completed"
    },
    "tags": []
   },
   "outputs": [
    {
     "data": {
      "text/plain": [
       "{'universe_id': ['ed73904361d3049b6a37bc37458e977d'],\n",
       " 'universe_training_size': ['5k'],\n",
       " 'universe_scale': ['do-not-scale'],\n",
       " 'universe_model': ['penalized_logreg'],\n",
       " 'universe_exclude_features': ['nationality'],\n",
       " 'universe_exclude_subgroups': ['drop-non-german'],\n",
       " 'q_hat': [0.6739300400001347],\n",
       " 'coverage': [0.9116040575186712],\n",
       " 'avg_size': [1.2068219819418124]}"
      ]
     },
     "execution_count": 59,
     "metadata": {},
     "output_type": "execute_result"
    }
   ],
   "source": [
    "cp_metrics_dict"
   ]
  },
  {
   "cell_type": "code",
   "execution_count": 60,
   "id": "33007efc-14e9-4ec6-97ac-56a455c82265",
   "metadata": {
    "execution": {
     "iopub.execute_input": "2025-07-30T14:00:41.861229Z",
     "iopub.status.busy": "2025-07-30T14:00:41.860641Z",
     "iopub.status.idle": "2025-07-30T14:00:41.865897Z",
     "shell.execute_reply": "2025-07-30T14:00:41.865199Z"
    },
    "papermill": {
     "duration": 0.02057,
     "end_time": "2025-07-30T14:00:41.867693",
     "exception": false,
     "start_time": "2025-07-30T14:00:41.847123",
     "status": "completed"
    },
    "tags": []
   },
   "outputs": [],
   "source": [
    "cp_metrics_df = pd.DataFrame(cp_metrics_dict)"
   ]
  },
  {
   "cell_type": "code",
   "execution_count": 61,
   "id": "db12611b-57b2-4910-b9d0-355adfd6e7bf",
   "metadata": {
    "execution": {
     "iopub.execute_input": "2025-07-30T14:00:41.907034Z",
     "iopub.status.busy": "2025-07-30T14:00:41.906663Z",
     "iopub.status.idle": "2025-07-30T14:00:41.920208Z",
     "shell.execute_reply": "2025-07-30T14:00:41.919448Z"
    },
    "papermill": {
     "duration": 0.030668,
     "end_time": "2025-07-30T14:00:41.922174",
     "exception": false,
     "start_time": "2025-07-30T14:00:41.891506",
     "status": "completed"
    },
    "tags": []
   },
   "outputs": [
    {
     "data": {
      "text/html": [
       "<div>\n",
       "<style scoped>\n",
       "    .dataframe tbody tr th:only-of-type {\n",
       "        vertical-align: middle;\n",
       "    }\n",
       "\n",
       "    .dataframe tbody tr th {\n",
       "        vertical-align: top;\n",
       "    }\n",
       "\n",
       "    .dataframe thead th {\n",
       "        text-align: right;\n",
       "    }\n",
       "</style>\n",
       "<table border=\"1\" class=\"dataframe\">\n",
       "  <thead>\n",
       "    <tr style=\"text-align: right;\">\n",
       "      <th></th>\n",
       "      <th>universe_id</th>\n",
       "      <th>universe_training_size</th>\n",
       "      <th>universe_scale</th>\n",
       "      <th>universe_model</th>\n",
       "      <th>universe_exclude_features</th>\n",
       "      <th>universe_exclude_subgroups</th>\n",
       "      <th>q_hat</th>\n",
       "      <th>coverage</th>\n",
       "      <th>avg_size</th>\n",
       "    </tr>\n",
       "  </thead>\n",
       "  <tbody>\n",
       "    <tr>\n",
       "      <th>0</th>\n",
       "      <td>ed73904361d3049b6a37bc37458e977d</td>\n",
       "      <td>5k</td>\n",
       "      <td>do-not-scale</td>\n",
       "      <td>penalized_logreg</td>\n",
       "      <td>nationality</td>\n",
       "      <td>drop-non-german</td>\n",
       "      <td>0.67393</td>\n",
       "      <td>0.911604</td>\n",
       "      <td>1.206822</td>\n",
       "    </tr>\n",
       "  </tbody>\n",
       "</table>\n",
       "</div>"
      ],
      "text/plain": [
       "                        universe_id universe_training_size universe_scale  \\\n",
       "0  ed73904361d3049b6a37bc37458e977d                     5k   do-not-scale   \n",
       "\n",
       "     universe_model universe_exclude_features universe_exclude_subgroups  \\\n",
       "0  penalized_logreg               nationality            drop-non-german   \n",
       "\n",
       "     q_hat  coverage  avg_size  \n",
       "0  0.67393  0.911604  1.206822  "
      ]
     },
     "execution_count": 61,
     "metadata": {},
     "output_type": "execute_result"
    }
   ],
   "source": [
    "cp_metrics_df"
   ]
  },
  {
   "cell_type": "code",
   "execution_count": 62,
   "id": "b7fbde55-a0a1-47e4-9af6-fe4a17fa8c61",
   "metadata": {
    "execution": {
     "iopub.execute_input": "2025-07-30T14:00:41.951998Z",
     "iopub.status.busy": "2025-07-30T14:00:41.951506Z",
     "iopub.status.idle": "2025-07-30T14:00:41.955699Z",
     "shell.execute_reply": "2025-07-30T14:00:41.954956Z"
    },
    "papermill": {
     "duration": 0.01931,
     "end_time": "2025-07-30T14:00:41.957059",
     "exception": false,
     "start_time": "2025-07-30T14:00:41.937749",
     "status": "completed"
    },
    "tags": []
   },
   "outputs": [],
   "source": [
    "# Conditional Coverage & looking at subgroups"
   ]
  },
  {
   "cell_type": "code",
   "execution_count": 63,
   "id": "027ae886-68dd-4141-96c7-805a5450e1ef",
   "metadata": {
    "execution": {
     "iopub.execute_input": "2025-07-30T14:00:41.993395Z",
     "iopub.status.busy": "2025-07-30T14:00:41.993044Z",
     "iopub.status.idle": "2025-07-30T14:00:42.227940Z",
     "shell.execute_reply": "2025-07-30T14:00:42.226687Z"
    },
    "papermill": {
     "duration": 0.25454,
     "end_time": "2025-07-30T14:00:42.230285",
     "exception": false,
     "start_time": "2025-07-30T14:00:41.975745",
     "status": "completed"
    },
    "tags": []
   },
   "outputs": [],
   "source": [
    "from fairness_multiverse.conformal import build_cp_groups\n",
    "\n",
    "cp_groups_df = build_cp_groups(pred_sets, y_true, X_test.index, org_test)\n",
    "#needs universe_id and setting"
   ]
  },
  {
   "cell_type": "code",
   "execution_count": 64,
   "id": "01d5802c-663a-4d1f-9d69-e036faaffbf7",
   "metadata": {
    "execution": {
     "iopub.execute_input": "2025-07-30T14:00:42.287614Z",
     "iopub.status.busy": "2025-07-30T14:00:42.287155Z",
     "iopub.status.idle": "2025-07-30T14:00:42.292789Z",
     "shell.execute_reply": "2025-07-30T14:00:42.290932Z"
    },
    "papermill": {
     "duration": 0.035166,
     "end_time": "2025-07-30T14:00:42.294446",
     "exception": false,
     "start_time": "2025-07-30T14:00:42.259280",
     "status": "completed"
    },
    "tags": []
   },
   "outputs": [],
   "source": [
    "#delete\n",
    "#cp_groups_df"
   ]
  },
  {
   "cell_type": "code",
   "execution_count": 65,
   "id": "fa424af1-d1eb-443d-b717-2d279ada8408",
   "metadata": {
    "execution": {
     "iopub.execute_input": "2025-07-30T14:00:42.329936Z",
     "iopub.status.busy": "2025-07-30T14:00:42.329382Z",
     "iopub.status.idle": "2025-07-30T14:00:42.334483Z",
     "shell.execute_reply": "2025-07-30T14:00:42.333568Z"
    },
    "papermill": {
     "duration": 0.022202,
     "end_time": "2025-07-30T14:00:42.336076",
     "exception": false,
     "start_time": "2025-07-30T14:00:42.313874",
     "status": "completed"
    },
    "tags": []
   },
   "outputs": [],
   "source": [
    "#delete\n",
    "#percentage = (cp_groups_df['nongerman_female'] == 1).mean() * 100\n",
    "#print(percentage)\n"
   ]
  },
  {
   "cell_type": "code",
   "execution_count": 66,
   "id": "6cbdab96-b2b2-45af-ad54-d0516db2e28d",
   "metadata": {
    "execution": {
     "iopub.execute_input": "2025-07-30T14:00:42.387959Z",
     "iopub.status.busy": "2025-07-30T14:00:42.387397Z",
     "iopub.status.idle": "2025-07-30T14:00:43.952997Z",
     "shell.execute_reply": "2025-07-30T14:00:43.951590Z"
    },
    "papermill": {
     "duration": 1.593358,
     "end_time": "2025-07-30T14:00:43.954651",
     "exception": false,
     "start_time": "2025-07-30T14:00:42.361293",
     "status": "completed"
    },
    "tags": []
   },
   "outputs": [],
   "source": [
    "# Define covered = 1 if true_label is in the predicted set\n",
    "cp_groups_df['covered'] = cp_groups_df.apply(\n",
    "    lambda r: int(r['true_label'] in r['pred_set']),\n",
    "    axis=1\n",
    ")"
   ]
  },
  {
   "cell_type": "code",
   "execution_count": 67,
   "id": "338ff529-1a6b-4b87-a931-8e4788d52aad",
   "metadata": {
    "execution": {
     "iopub.execute_input": "2025-07-30T14:00:44.007530Z",
     "iopub.status.busy": "2025-07-30T14:00:44.006891Z",
     "iopub.status.idle": "2025-07-30T14:00:44.011845Z",
     "shell.execute_reply": "2025-07-30T14:00:44.010799Z"
    },
    "papermill": {
     "duration": 0.034452,
     "end_time": "2025-07-30T14:00:44.013638",
     "exception": false,
     "start_time": "2025-07-30T14:00:43.979186",
     "status": "completed"
    },
    "tags": []
   },
   "outputs": [],
   "source": [
    "#cp_groups_df"
   ]
  },
  {
   "cell_type": "code",
   "execution_count": 68,
   "id": "90032e27-66df-4540-9169-4e89cfbaa758",
   "metadata": {
    "execution": {
     "iopub.execute_input": "2025-07-30T14:00:44.069739Z",
     "iopub.status.busy": "2025-07-30T14:00:44.068971Z",
     "iopub.status.idle": "2025-07-30T14:00:44.079895Z",
     "shell.execute_reply": "2025-07-30T14:00:44.079021Z"
    },
    "papermill": {
     "duration": 0.040578,
     "end_time": "2025-07-30T14:00:44.081544",
     "exception": false,
     "start_time": "2025-07-30T14:00:44.040966",
     "status": "completed"
    },
    "tags": []
   },
   "outputs": [],
   "source": [
    "subgroups = ['frau1','nongerman','nongerman_male','nongerman_female']\n",
    "\n",
    "# Conditional coverage for subgroup==1\n",
    "cond_coverage = {\n",
    "    g: cp_groups_df.loc[cp_groups_df[g]==1, 'covered'].mean()\n",
    "    for g in subgroups\n",
    "}"
   ]
  },
  {
   "cell_type": "code",
   "execution_count": 69,
   "id": "1e348fb1-b9c3-45bc-ba23-f016827a7e0d",
   "metadata": {
    "execution": {
     "iopub.execute_input": "2025-07-30T14:00:44.112844Z",
     "iopub.status.busy": "2025-07-30T14:00:44.112482Z",
     "iopub.status.idle": "2025-07-30T14:00:44.118584Z",
     "shell.execute_reply": "2025-07-30T14:00:44.117917Z"
    },
    "papermill": {
     "duration": 0.021338,
     "end_time": "2025-07-30T14:00:44.119786",
     "exception": false,
     "start_time": "2025-07-30T14:00:44.098448",
     "status": "completed"
    },
    "tags": []
   },
   "outputs": [
    {
     "data": {
      "text/plain": [
       "{'frau1': 0.9094487127645235,\n",
       " 'nongerman': 0.9325773311626341,\n",
       " 'nongerman_male': 0.9449698279744213,\n",
       " 'nongerman_female': 0.9120715350223547}"
      ]
     },
     "execution_count": 69,
     "metadata": {},
     "output_type": "execute_result"
    }
   ],
   "source": [
    "cond_coverage"
   ]
  },
  {
   "cell_type": "code",
   "execution_count": 70,
   "id": "f5093324-c3dd-4d63-bc4c-8d945e5c8bbb",
   "metadata": {
    "execution": {
     "iopub.execute_input": "2025-07-30T14:00:44.148213Z",
     "iopub.status.busy": "2025-07-30T14:00:44.147405Z",
     "iopub.status.idle": "2025-07-30T14:00:44.153445Z",
     "shell.execute_reply": "2025-07-30T14:00:44.152652Z"
    },
    "papermill": {
     "duration": 0.021561,
     "end_time": "2025-07-30T14:00:44.154821",
     "exception": false,
     "start_time": "2025-07-30T14:00:44.133260",
     "status": "completed"
    },
    "tags": []
   },
   "outputs": [],
   "source": [
    "for subgroup, cov in cond_coverage.items():\n",
    "    cp_metrics_df[f\"cov_{subgroup}\"] = cov"
   ]
  },
  {
   "cell_type": "code",
   "execution_count": 71,
   "id": "6e872e10-dbe5-49e8-b554-5030c98ff75d",
   "metadata": {
    "execution": {
     "iopub.execute_input": "2025-07-30T14:00:44.185487Z",
     "iopub.status.busy": "2025-07-30T14:00:44.184998Z",
     "iopub.status.idle": "2025-07-30T14:00:44.198384Z",
     "shell.execute_reply": "2025-07-30T14:00:44.197406Z"
    },
    "papermill": {
     "duration": 0.029383,
     "end_time": "2025-07-30T14:00:44.199643",
     "exception": false,
     "start_time": "2025-07-30T14:00:44.170260",
     "status": "completed"
    },
    "tags": []
   },
   "outputs": [
    {
     "data": {
      "text/html": [
       "<div>\n",
       "<style scoped>\n",
       "    .dataframe tbody tr th:only-of-type {\n",
       "        vertical-align: middle;\n",
       "    }\n",
       "\n",
       "    .dataframe tbody tr th {\n",
       "        vertical-align: top;\n",
       "    }\n",
       "\n",
       "    .dataframe thead th {\n",
       "        text-align: right;\n",
       "    }\n",
       "</style>\n",
       "<table border=\"1\" class=\"dataframe\">\n",
       "  <thead>\n",
       "    <tr style=\"text-align: right;\">\n",
       "      <th></th>\n",
       "      <th>universe_id</th>\n",
       "      <th>universe_training_size</th>\n",
       "      <th>universe_scale</th>\n",
       "      <th>universe_model</th>\n",
       "      <th>universe_exclude_features</th>\n",
       "      <th>universe_exclude_subgroups</th>\n",
       "      <th>q_hat</th>\n",
       "      <th>coverage</th>\n",
       "      <th>avg_size</th>\n",
       "      <th>cov_frau1</th>\n",
       "      <th>cov_nongerman</th>\n",
       "      <th>cov_nongerman_male</th>\n",
       "      <th>cov_nongerman_female</th>\n",
       "    </tr>\n",
       "  </thead>\n",
       "  <tbody>\n",
       "    <tr>\n",
       "      <th>0</th>\n",
       "      <td>ed73904361d3049b6a37bc37458e977d</td>\n",
       "      <td>5k</td>\n",
       "      <td>do-not-scale</td>\n",
       "      <td>penalized_logreg</td>\n",
       "      <td>nationality</td>\n",
       "      <td>drop-non-german</td>\n",
       "      <td>0.67393</td>\n",
       "      <td>0.911604</td>\n",
       "      <td>1.206822</td>\n",
       "      <td>0.909449</td>\n",
       "      <td>0.932577</td>\n",
       "      <td>0.94497</td>\n",
       "      <td>0.912072</td>\n",
       "    </tr>\n",
       "  </tbody>\n",
       "</table>\n",
       "</div>"
      ],
      "text/plain": [
       "                        universe_id universe_training_size universe_scale  \\\n",
       "0  ed73904361d3049b6a37bc37458e977d                     5k   do-not-scale   \n",
       "\n",
       "     universe_model universe_exclude_features universe_exclude_subgroups  \\\n",
       "0  penalized_logreg               nationality            drop-non-german   \n",
       "\n",
       "     q_hat  coverage  avg_size  cov_frau1  cov_nongerman  cov_nongerman_male  \\\n",
       "0  0.67393  0.911604  1.206822   0.909449       0.932577             0.94497   \n",
       "\n",
       "   cov_nongerman_female  \n",
       "0              0.912072  "
      ]
     },
     "execution_count": 71,
     "metadata": {},
     "output_type": "execute_result"
    }
   ],
   "source": [
    "cp_metrics_df"
   ]
  },
  {
   "cell_type": "markdown",
   "id": "33774451",
   "metadata": {
    "papermill": {
     "duration": 0.013972,
     "end_time": "2025-07-30T14:00:44.228420",
     "exception": false,
     "start_time": "2025-07-30T14:00:44.214448",
     "status": "completed"
    },
    "tags": []
   },
   "source": [
    "# (Fairness) Metrics"
   ]
  },
  {
   "cell_type": "code",
   "execution_count": 72,
   "id": "debc5d62",
   "metadata": {
    "execution": {
     "iopub.execute_input": "2025-07-30T14:00:44.257418Z",
     "iopub.status.busy": "2025-07-30T14:00:44.256923Z",
     "iopub.status.idle": "2025-07-30T14:00:44.271441Z",
     "shell.execute_reply": "2025-07-30T14:00:44.270780Z"
    },
    "papermill": {
     "duration": 0.030407,
     "end_time": "2025-07-30T14:00:44.272693",
     "exception": false,
     "start_time": "2025-07-30T14:00:44.242286",
     "status": "completed"
    },
    "tags": []
   },
   "outputs": [],
   "source": [
    "# do I need to include maxdeutsch1.missing?\n",
    "\n",
    "import numpy as np\n",
    "\n",
    "colname_to_bin = \"maxdeutsch1\"\n",
    "majority_value = org_train[colname_to_bin].mode()[0]\n",
    "\n",
    "org_test[\"majmin\"] = np.where(org_test[colname_to_bin] == majority_value, \"majority\", \"minority\")"
   ]
  },
  {
   "cell_type": "code",
   "execution_count": 73,
   "id": "06a50de5",
   "metadata": {
    "execution": {
     "iopub.execute_input": "2025-07-30T14:00:44.302691Z",
     "iopub.status.busy": "2025-07-30T14:00:44.301963Z",
     "iopub.status.idle": "2025-07-30T14:00:46.652862Z",
     "shell.execute_reply": "2025-07-30T14:00:46.651931Z"
    },
    "papermill": {
     "duration": 2.367883,
     "end_time": "2025-07-30T14:00:46.654666",
     "exception": false,
     "start_time": "2025-07-30T14:00:44.286783",
     "status": "completed"
    },
    "tags": []
   },
   "outputs": [],
   "source": [
    "example_universe = universe.copy()\n",
    "example_universe[\"cutoff\"] = example_universe[\"cutoff\"][0]\n",
    "example_universe[\"eval_fairness_grouping\"] = example_universe[\"eval_fairness_grouping\"][0]\n",
    "fairness_dict, metric_frame = universe_analysis.compute_metrics(\n",
    "    example_universe,\n",
    "    y_pred_prob=probs_test,\n",
    "    y_test=y_true,\n",
    "    org_test=org_test,\n",
    ")"
   ]
  },
  {
   "cell_type": "markdown",
   "id": "f95d4e02",
   "metadata": {
    "papermill": {
     "duration": 0.029543,
     "end_time": "2025-07-30T14:00:46.711912",
     "exception": false,
     "start_time": "2025-07-30T14:00:46.682369",
     "status": "completed"
    },
    "tags": []
   },
   "source": [
    "# Overall"
   ]
  },
  {
   "cell_type": "markdown",
   "id": "bdee4871",
   "metadata": {
    "papermill": {
     "duration": 0.030016,
     "end_time": "2025-07-30T14:00:46.773465",
     "exception": false,
     "start_time": "2025-07-30T14:00:46.743449",
     "status": "completed"
    },
    "tags": []
   },
   "source": [
    "Fairness\n",
    "Main fairness target: Equalized Odds. Seems to be a better fit than equal opportunity, since we're not only interested in Y = 1. Seems to be a better fit than demographic parity, since we also care about accuracy, not just equal distribution of preds.\n",
    "\n",
    "Pick column for computation of fairness metrics\n",
    "\n",
    "Performance\n",
    "Overall performance measures, most interesting in relation to the measures split by group below"
   ]
  },
  {
   "cell_type": "code",
   "execution_count": 74,
   "id": "c4e067c6",
   "metadata": {
    "execution": {
     "iopub.execute_input": "2025-07-30T14:00:46.836304Z",
     "iopub.status.busy": "2025-07-30T14:00:46.835370Z",
     "iopub.status.idle": "2025-07-30T14:00:46.844227Z",
     "shell.execute_reply": "2025-07-30T14:00:46.843082Z"
    },
    "papermill": {
     "duration": 0.04231,
     "end_time": "2025-07-30T14:00:46.845856",
     "exception": false,
     "start_time": "2025-07-30T14:00:46.803546",
     "status": "completed"
    },
    "tags": []
   },
   "outputs": [
    {
     "data": {
      "text/plain": [
       "accuracy                   0.218248\n",
       "balanced accuracy          0.534929\n",
       "f1                         0.239748\n",
       "precision                  0.136960\n",
       "false positive rate        0.891039\n",
       "false negative rate        0.039103\n",
       "selection rate             0.900000\n",
       "count                  89710.000000\n",
       "dtype: float64"
      ]
     },
     "execution_count": 74,
     "metadata": {},
     "output_type": "execute_result"
    }
   ],
   "source": [
    "metric_frame.overall"
   ]
  },
  {
   "cell_type": "markdown",
   "id": "e968fe9d",
   "metadata": {
    "papermill": {
     "duration": 0.037148,
     "end_time": "2025-07-30T14:00:46.913123",
     "exception": false,
     "start_time": "2025-07-30T14:00:46.875975",
     "status": "completed"
    },
    "tags": []
   },
   "source": [
    "By Group"
   ]
  },
  {
   "cell_type": "code",
   "execution_count": 75,
   "id": "ec325bce",
   "metadata": {
    "execution": {
     "iopub.execute_input": "2025-07-30T14:00:46.974926Z",
     "iopub.status.busy": "2025-07-30T14:00:46.974433Z",
     "iopub.status.idle": "2025-07-30T14:00:46.992080Z",
     "shell.execute_reply": "2025-07-30T14:00:46.990925Z"
    },
    "papermill": {
     "duration": 0.050135,
     "end_time": "2025-07-30T14:00:46.993985",
     "exception": false,
     "start_time": "2025-07-30T14:00:46.943850",
     "status": "completed"
    },
    "tags": []
   },
   "outputs": [
    {
     "data": {
      "text/html": [
       "<div>\n",
       "<style scoped>\n",
       "    .dataframe tbody tr th:only-of-type {\n",
       "        vertical-align: middle;\n",
       "    }\n",
       "\n",
       "    .dataframe tbody tr th {\n",
       "        vertical-align: top;\n",
       "    }\n",
       "\n",
       "    .dataframe thead th {\n",
       "        text-align: right;\n",
       "    }\n",
       "</style>\n",
       "<table border=\"1\" class=\"dataframe\">\n",
       "  <thead>\n",
       "    <tr style=\"text-align: right;\">\n",
       "      <th></th>\n",
       "      <th>accuracy</th>\n",
       "      <th>balanced accuracy</th>\n",
       "      <th>f1</th>\n",
       "      <th>precision</th>\n",
       "      <th>false positive rate</th>\n",
       "      <th>false negative rate</th>\n",
       "      <th>selection rate</th>\n",
       "      <th>count</th>\n",
       "    </tr>\n",
       "    <tr>\n",
       "      <th>majmin</th>\n",
       "      <th></th>\n",
       "      <th></th>\n",
       "      <th></th>\n",
       "      <th></th>\n",
       "      <th></th>\n",
       "      <th></th>\n",
       "      <th></th>\n",
       "      <th></th>\n",
       "    </tr>\n",
       "  </thead>\n",
       "  <tbody>\n",
       "    <tr>\n",
       "      <th>majority</th>\n",
       "      <td>0.240798</td>\n",
       "      <td>0.543310</td>\n",
       "      <td>0.249393</td>\n",
       "      <td>0.143435</td>\n",
       "      <td>0.867866</td>\n",
       "      <td>0.045514</td>\n",
       "      <td>0.879312</td>\n",
       "      <td>69170.0</td>\n",
       "    </tr>\n",
       "    <tr>\n",
       "      <th>minority</th>\n",
       "      <td>0.142308</td>\n",
       "      <td>0.509027</td>\n",
       "      <td>0.209468</td>\n",
       "      <td>0.117186</td>\n",
       "      <td>0.967587</td>\n",
       "      <td>0.014358</td>\n",
       "      <td>0.969669</td>\n",
       "      <td>20540.0</td>\n",
       "    </tr>\n",
       "  </tbody>\n",
       "</table>\n",
       "</div>"
      ],
      "text/plain": [
       "          accuracy  balanced accuracy        f1  precision  \\\n",
       "majmin                                                       \n",
       "majority  0.240798           0.543310  0.249393   0.143435   \n",
       "minority  0.142308           0.509027  0.209468   0.117186   \n",
       "\n",
       "          false positive rate  false negative rate  selection rate    count  \n",
       "majmin                                                                       \n",
       "majority             0.867866             0.045514        0.879312  69170.0  \n",
       "minority             0.967587             0.014358        0.969669  20540.0  "
      ]
     },
     "execution_count": 75,
     "metadata": {},
     "output_type": "execute_result"
    }
   ],
   "source": [
    "metric_frame.by_group"
   ]
  },
  {
   "cell_type": "code",
   "execution_count": 76,
   "id": "a9ddbe63",
   "metadata": {
    "execution": {
     "iopub.execute_input": "2025-07-30T14:00:47.058830Z",
     "iopub.status.busy": "2025-07-30T14:00:47.058323Z",
     "iopub.status.idle": "2025-07-30T14:00:49.311405Z",
     "shell.execute_reply": "2025-07-30T14:00:49.310480Z"
    },
    "papermill": {
     "duration": 2.287426,
     "end_time": "2025-07-30T14:00:49.313123",
     "exception": false,
     "start_time": "2025-07-30T14:00:47.025697",
     "status": "completed"
    },
    "tags": []
   },
   "outputs": [
    {
     "data": {
      "text/plain": [
       "array([[<Axes: title={'center': 'accuracy'}, xlabel='majmin'>,\n",
       "        <Axes: title={'center': 'balanced accuracy'}, xlabel='majmin'>,\n",
       "        <Axes: title={'center': 'f1'}, xlabel='majmin'>],\n",
       "       [<Axes: title={'center': 'precision'}, xlabel='majmin'>,\n",
       "        <Axes: title={'center': 'false positive rate'}, xlabel='majmin'>,\n",
       "        <Axes: title={'center': 'false negative rate'}, xlabel='majmin'>],\n",
       "       [<Axes: title={'center': 'selection rate'}, xlabel='majmin'>,\n",
       "        <Axes: title={'center': 'count'}, xlabel='majmin'>,\n",
       "        <Axes: xlabel='majmin'>]], dtype=object)"
      ]
     },
     "execution_count": 76,
     "metadata": {},
     "output_type": "execute_result"
    },
    {
     "data": {
      "image/png": "[encoded data removed]",
      "text/plain": [
       "<Figure size 1200x800 with 9 Axes>"
      ]
     },
     "metadata": {},
     "output_type": "display_data"
    }
   ],
   "source": [
    "# In a graphic\n",
    "metric_frame.by_group.plot.bar(\n",
    "    subplots=True,\n",
    "    layout=[3, 3],\n",
    "    legend=False,\n",
    "    figsize=[12, 8],\n",
    "    title=\"Show all metrics\",\n",
    ")"
   ]
  },
  {
   "cell_type": "markdown",
   "id": "f57a0bac",
   "metadata": {
    "papermill": {
     "duration": 0.029393,
     "end_time": "2025-07-30T14:00:49.377034",
     "exception": false,
     "start_time": "2025-07-30T14:00:49.347641",
     "status": "completed"
    },
    "tags": []
   },
   "source": [
    "# Final Output"
   ]
  },
  {
   "cell_type": "code",
   "execution_count": 77,
   "id": "96d280a3",
   "metadata": {
    "execution": {
     "iopub.execute_input": "2025-07-30T14:00:49.438594Z",
     "iopub.status.busy": "2025-07-30T14:00:49.437742Z",
     "iopub.status.idle": "2025-07-30T14:00:49.445992Z",
     "shell.execute_reply": "2025-07-30T14:00:49.445122Z"
    },
    "papermill": {
     "duration": 0.040911,
     "end_time": "2025-07-30T14:00:49.447465",
     "exception": false,
     "start_time": "2025-07-30T14:00:49.406554",
     "status": "completed"
    },
    "tags": []
   },
   "outputs": [
    {
     "data": {
      "text/plain": [
       "4"
      ]
     },
     "execution_count": 77,
     "metadata": {},
     "output_type": "execute_result"
    }
   ],
   "source": [
    "sub_universes = universe_analysis.generate_sub_universes()\n",
    "len(sub_universes)"
   ]
  },
  {
   "cell_type": "code",
   "execution_count": 78,
   "id": "92adf7ba",
   "metadata": {
    "execution": {
     "iopub.execute_input": "2025-07-30T14:00:49.508649Z",
     "iopub.status.busy": "2025-07-30T14:00:49.508121Z",
     "iopub.status.idle": "2025-07-30T14:00:49.514158Z",
     "shell.execute_reply": "2025-07-30T14:00:49.513197Z"
    },
    "papermill": {
     "duration": 0.03803,
     "end_time": "2025-07-30T14:00:49.515880",
     "exception": false,
     "start_time": "2025-07-30T14:00:49.477850",
     "status": "completed"
    },
    "tags": []
   },
   "outputs": [],
   "source": [
    "def filter_sub_universe_data(sub_universe, org_test):\n",
    "    # Keep all rows — no filtering\n",
    "    keep_rows_mask = np.ones(org_test.shape[0], dtype=bool)\n",
    "\n",
    "    print(f\"[INFO] Keeping all rows: {keep_rows_mask.sum()} rows retained.\")\n",
    "    return keep_rows_mask"
   ]
  },
  {
   "cell_type": "code",
   "execution_count": 79,
   "id": "4a759155",
   "metadata": {
    "execution": {
     "iopub.execute_input": "2025-07-30T14:00:49.578846Z",
     "iopub.status.busy": "2025-07-30T14:00:49.578134Z",
     "iopub.status.idle": "2025-07-30T14:01:00.402580Z",
     "shell.execute_reply": "2025-07-30T14:01:00.401206Z"
    },
    "papermill": {
     "duration": 10.858071,
     "end_time": "2025-07-30T14:01:00.404770",
     "exception": false,
     "start_time": "2025-07-30T14:00:49.546699",
     "status": "completed"
    },
    "tags": []
   },
   "outputs": [
    {
     "name": "stdout",
     "output_type": "stream",
     "text": [
      "Stopping execution_time clock.\n",
      "[INFO] Keeping all rows: 89710 rows retained.\n"
     ]
    },
    {
     "name": "stdout",
     "output_type": "stream",
     "text": [
      "[INFO] Keeping all rows: 89710 rows retained.\n"
     ]
    },
    {
     "name": "stdout",
     "output_type": "stream",
     "text": [
      "[INFO] Keeping all rows: 89710 rows retained.\n"
     ]
    },
    {
     "name": "stdout",
     "output_type": "stream",
     "text": [
      "[INFO] Keeping all rows: 89710 rows retained.\n"
     ]
    },
    {
     "data": {
      "text/html": [
       "<div>\n",
       "<style scoped>\n",
       "    .dataframe tbody tr th:only-of-type {\n",
       "        vertical-align: middle;\n",
       "    }\n",
       "\n",
       "    .dataframe tbody tr th {\n",
       "        vertical-align: top;\n",
       "    }\n",
       "\n",
       "    .dataframe thead th {\n",
       "        text-align: right;\n",
       "    }\n",
       "</style>\n",
       "<table border=\"1\" class=\"dataframe\">\n",
       "  <thead>\n",
       "    <tr style=\"text-align: right;\">\n",
       "      <th></th>\n",
       "      <th>run_no</th>\n",
       "      <th>universe_id</th>\n",
       "      <th>universe_settings</th>\n",
       "      <th>execution_time</th>\n",
       "      <th>test_size_n</th>\n",
       "      <th>test_size_frac</th>\n",
       "      <th>fair_main_equalized_odds_difference</th>\n",
       "      <th>fair_main_equalized_odds_ratio</th>\n",
       "      <th>fair_main_demographic_parity_difference</th>\n",
       "      <th>fair_main_demographic_parity_ratio</th>\n",
       "      <th>...</th>\n",
       "      <th>perf_grp_precision_0</th>\n",
       "      <th>perf_grp_precision_1</th>\n",
       "      <th>perf_grp_false positive rate_0</th>\n",
       "      <th>perf_grp_false positive rate_1</th>\n",
       "      <th>perf_grp_false negative rate_0</th>\n",
       "      <th>perf_grp_false negative rate_1</th>\n",
       "      <th>perf_grp_selection rate_0</th>\n",
       "      <th>perf_grp_selection rate_1</th>\n",
       "      <th>perf_grp_count_0</th>\n",
       "      <th>perf_grp_count_1</th>\n",
       "    </tr>\n",
       "  </thead>\n",
       "  <tbody>\n",
       "    <tr>\n",
       "      <th>0</th>\n",
       "      <td>12</td>\n",
       "      <td>ed73904361d3049b6a37bc37458e977d</td>\n",
       "      <td>{\"cutoff\": \"quantile_0.1\", \"eval_fairness_grou...</td>\n",
       "      <td>26.306685</td>\n",
       "      <td>89710</td>\n",
       "      <td>1.0</td>\n",
       "      <td>0.099721</td>\n",
       "      <td>0.896938</td>\n",
       "      <td>0.090357</td>\n",
       "      <td>0.906817</td>\n",
       "      <td>...</td>\n",
       "      <td>NaN</td>\n",
       "      <td>NaN</td>\n",
       "      <td>NaN</td>\n",
       "      <td>NaN</td>\n",
       "      <td>NaN</td>\n",
       "      <td>NaN</td>\n",
       "      <td>NaN</td>\n",
       "      <td>NaN</td>\n",
       "      <td>NaN</td>\n",
       "      <td>NaN</td>\n",
       "    </tr>\n",
       "    <tr>\n",
       "      <th>0</th>\n",
       "      <td>12</td>\n",
       "      <td>ed73904361d3049b6a37bc37458e977d</td>\n",
       "      <td>{\"cutoff\": \"quantile_0.1\", \"eval_fairness_grou...</td>\n",
       "      <td>26.306685</td>\n",
       "      <td>89710</td>\n",
       "      <td>1.0</td>\n",
       "      <td>0.099721</td>\n",
       "      <td>0.896938</td>\n",
       "      <td>0.090357</td>\n",
       "      <td>0.906817</td>\n",
       "      <td>...</td>\n",
       "      <td>0.117186</td>\n",
       "      <td>0.143435</td>\n",
       "      <td>0.967587</td>\n",
       "      <td>0.867866</td>\n",
       "      <td>0.014358</td>\n",
       "      <td>0.045514</td>\n",
       "      <td>0.969669</td>\n",
       "      <td>0.879312</td>\n",
       "      <td>20540.0</td>\n",
       "      <td>69170.0</td>\n",
       "    </tr>\n",
       "    <tr>\n",
       "      <th>0</th>\n",
       "      <td>12</td>\n",
       "      <td>ed73904361d3049b6a37bc37458e977d</td>\n",
       "      <td>{\"cutoff\": \"quantile_0.25\", \"eval_fairness_gro...</td>\n",
       "      <td>26.306685</td>\n",
       "      <td>89710</td>\n",
       "      <td>1.0</td>\n",
       "      <td>0.223905</td>\n",
       "      <td>0.751887</td>\n",
       "      <td>0.204842</td>\n",
       "      <td>0.774387</td>\n",
       "      <td>...</td>\n",
       "      <td>NaN</td>\n",
       "      <td>NaN</td>\n",
       "      <td>NaN</td>\n",
       "      <td>NaN</td>\n",
       "      <td>NaN</td>\n",
       "      <td>NaN</td>\n",
       "      <td>NaN</td>\n",
       "      <td>NaN</td>\n",
       "      <td>NaN</td>\n",
       "      <td>NaN</td>\n",
       "    </tr>\n",
       "    <tr>\n",
       "      <th>0</th>\n",
       "      <td>12</td>\n",
       "      <td>ed73904361d3049b6a37bc37458e977d</td>\n",
       "      <td>{\"cutoff\": \"quantile_0.25\", \"eval_fairness_gro...</td>\n",
       "      <td>26.306685</td>\n",
       "      <td>89710</td>\n",
       "      <td>1.0</td>\n",
       "      <td>0.223905</td>\n",
       "      <td>0.751887</td>\n",
       "      <td>0.204842</td>\n",
       "      <td>0.774387</td>\n",
       "      <td>...</td>\n",
       "      <td>0.120650</td>\n",
       "      <td>0.162462</td>\n",
       "      <td>0.902432</td>\n",
       "      <td>0.678527</td>\n",
       "      <td>0.049831</td>\n",
       "      <td>0.135558</td>\n",
       "      <td>0.907936</td>\n",
       "      <td>0.703094</td>\n",
       "      <td>20540.0</td>\n",
       "      <td>69170.0</td>\n",
       "    </tr>\n",
       "  </tbody>\n",
       "</table>\n",
       "<p>4 rows × 50 columns</p>\n",
       "</div>"
      ],
      "text/plain": [
       "  run_no                       universe_id  \\\n",
       "0     12  ed73904361d3049b6a37bc37458e977d   \n",
       "0     12  ed73904361d3049b6a37bc37458e977d   \n",
       "0     12  ed73904361d3049b6a37bc37458e977d   \n",
       "0     12  ed73904361d3049b6a37bc37458e977d   \n",
       "\n",
       "                                   universe_settings  execution_time  \\\n",
       "0  {\"cutoff\": \"quantile_0.1\", \"eval_fairness_grou...       26.306685   \n",
       "0  {\"cutoff\": \"quantile_0.1\", \"eval_fairness_grou...       26.306685   \n",
       "0  {\"cutoff\": \"quantile_0.25\", \"eval_fairness_gro...       26.306685   \n",
       "0  {\"cutoff\": \"quantile_0.25\", \"eval_fairness_gro...       26.306685   \n",
       "\n",
       "   test_size_n  test_size_frac  fair_main_equalized_odds_difference  \\\n",
       "0        89710             1.0                             0.099721   \n",
       "0        89710             1.0                             0.099721   \n",
       "0        89710             1.0                             0.223905   \n",
       "0        89710             1.0                             0.223905   \n",
       "\n",
       "   fair_main_equalized_odds_ratio  fair_main_demographic_parity_difference  \\\n",
       "0                        0.896938                                 0.090357   \n",
       "0                        0.896938                                 0.090357   \n",
       "0                        0.751887                                 0.204842   \n",
       "0                        0.751887                                 0.204842   \n",
       "\n",
       "   fair_main_demographic_parity_ratio  ...  perf_grp_precision_0  \\\n",
       "0                            0.906817  ...                   NaN   \n",
       "0                            0.906817  ...              0.117186   \n",
       "0                            0.774387  ...                   NaN   \n",
       "0                            0.774387  ...              0.120650   \n",
       "\n",
       "   perf_grp_precision_1  perf_grp_false positive rate_0  \\\n",
       "0                   NaN                             NaN   \n",
       "0              0.143435                        0.967587   \n",
       "0                   NaN                             NaN   \n",
       "0              0.162462                        0.902432   \n",
       "\n",
       "   perf_grp_false positive rate_1  perf_grp_false negative rate_0  \\\n",
       "0                             NaN                             NaN   \n",
       "0                        0.867866                        0.014358   \n",
       "0                             NaN                             NaN   \n",
       "0                        0.678527                        0.049831   \n",
       "\n",
       "   perf_grp_false negative rate_1  perf_grp_selection rate_0  \\\n",
       "0                             NaN                        NaN   \n",
       "0                        0.045514                   0.969669   \n",
       "0                             NaN                        NaN   \n",
       "0                        0.135558                   0.907936   \n",
       "\n",
       "   perf_grp_selection rate_1  perf_grp_count_0  perf_grp_count_1  \n",
       "0                        NaN               NaN               NaN  \n",
       "0                   0.879312           20540.0           69170.0  \n",
       "0                        NaN               NaN               NaN  \n",
       "0                   0.703094           20540.0           69170.0  \n",
       "\n",
       "[4 rows x 50 columns]"
      ]
     },
     "execution_count": 79,
     "metadata": {},
     "output_type": "execute_result"
    }
   ],
   "source": [
    "final_output = universe_analysis.generate_final_output(\n",
    "    y_pred_prob=probs_test,\n",
    "    y_test=y_true,\n",
    "    org_test=org_test,\n",
    "    filter_data=filter_sub_universe_data,\n",
    "    cp_metrics_df=cp_metrics_df,\n",
    "    save=True,\n",
    ")\n",
    "final_output"
   ]
  },
  {
   "cell_type": "code",
   "execution_count": null,
   "id": "721ff514-cb11-46f8-b6fc-50392f74b5cb",
   "metadata": {
    "papermill": {
     "duration": 0.032951,
     "end_time": "2025-07-30T14:01:00.472351",
     "exception": false,
     "start_time": "2025-07-30T14:01:00.439400",
     "status": "completed"
    },
    "tags": []
   },
   "outputs": [],
   "source": []
  }
 ],
 "metadata": {
  "celltoolbar": "Tags",
  "kernelspec": {
   "display_name": "Python (CMA Fairness)",
   "language": "python",
   "name": "cma_fair_env"
  },
  "language_info": {
   "codemirror_mode": {
    "name": "ipython",
    "version": 3
   },
   "file_extension": ".py",
   "mimetype": "text/x-python",
   "name": "python",
   "nbconvert_exporter": "python",
   "pygments_lexer": "ipython3",
   "version": "3.10.12"
  },
  "papermill": {
   "default_parameters": {},
   "duration": 41.530206,
   "end_time": "2025-07-30T14:01:01.322389",
   "environment_variables": {},
   "exception": null,
   "input_path": "universe_analysis.ipynb",
   "output_path": "output/runs/12/notebooks/m_12-ed73904361d3049b6a37bc37458e977d.ipynb",
   "parameters": {
    "output_dir": "output",
    "run_no": "12",
    "seed": "2023",
    "universe": "{\"cutoff\": [\"quantile_0.1\", \"quantile_0.25\"], \"eval_fairness_grouping\": [\"majority-minority\", \"nationality-all\"], \"exclude_features\": \"nationality\", \"exclude_subgroups\": \"drop-non-german\", \"model\": \"penalized_logreg\", \"scale\": \"do-not-scale\", \"training_size\": \"5k\", \"training_year\": \"2012_14\"}",
    "universe_id": "ed73904361d3049b6a37bc37458e977d"
   },
   "start_time": "2025-07-30T14:00:19.792183",
   "version": "2.6.0"
  }
 },
 "nbformat": 4,
 "nbformat_minor": 5
}