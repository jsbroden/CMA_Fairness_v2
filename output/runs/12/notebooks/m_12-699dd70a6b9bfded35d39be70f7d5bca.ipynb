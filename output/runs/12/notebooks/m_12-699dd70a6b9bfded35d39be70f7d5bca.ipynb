{
 "cells": [
  {
   "cell_type": "code",
   "execution_count": 1,
   "id": "f159f837-637b-42ba-96b5-ec9a68c44524",
   "metadata": {
    "execution": {
     "iopub.execute_input": "2025-07-30T14:11:17.592001Z",
     "iopub.status.busy": "2025-07-30T14:11:17.591556Z",
     "iopub.status.idle": "2025-07-30T14:11:17.604213Z",
     "shell.execute_reply": "2025-07-30T14:11:17.603413Z"
    },
    "papermill": {
     "duration": 0.034733,
     "end_time": "2025-07-30T14:11:17.606000",
     "exception": false,
     "start_time": "2025-07-30T14:11:17.571267",
     "status": "completed"
    },
    "tags": []
   },
   "outputs": [
    {
     "name": "stdout",
     "output_type": "stream",
     "text": [
      "/dss/dsshome1/0C/ra93lal2/cma/CMA_Fairness_v2\n"
     ]
    },
    {
     "name": "stderr",
     "output_type": "stream",
     "text": [
      "/dss/dsshome1/0C/ra93lal2/.local/share/virtualenvs/CMA_Fairness_v2-3j10GkSs/lib/python3.10/site-packages/IPython/core/magics/osm.py:393: UserWarning: This is now an optional IPython functionality, using bookmarks requires you to install the `pickleshare` library.\n",
      "  bkms = self.shell.db.get('bookmarks', {})\n",
      "/dss/dsshome1/0C/ra93lal2/.local/share/virtualenvs/CMA_Fairness_v2-3j10GkSs/lib/python3.10/site-packages/IPython/core/magics/osm.py:417: UserWarning: This is now an optional IPython functionality, setting dhist requires you to install the `pickleshare` library.\n",
      "  self.shell.db['dhist'] = compress_dhist(dhist)[-100:]\n"
     ]
    }
   ],
   "source": [
    "%cd ~/cma/CMA_Fairness_v2"
   ]
  },
  {
   "cell_type": "markdown",
   "id": "de2603b9",
   "metadata": {
    "papermill": {
     "duration": 0.019106,
     "end_time": "2025-07-30T14:11:17.644756",
     "exception": false,
     "start_time": "2025-07-30T14:11:17.625650",
     "status": "completed"
    },
    "tags": []
   },
   "source": [
    "The following cell holds the definition of our parameters, these values can be overriden by rendering the with e.g. the following command:\n",
    "\n",
    "papermill -p alpha 0.2 -p ratio 0.3 universe_analysis.ipynb output/test_run.ipynb"
   ]
  },
  {
   "cell_type": "code",
   "execution_count": 2,
   "id": "a80968a0-40bb-4fa9-85ef-2d5eefb01975",
   "metadata": {
    "execution": {
     "iopub.execute_input": "2025-07-30T14:11:17.686613Z",
     "iopub.status.busy": "2025-07-30T14:11:17.686171Z",
     "iopub.status.idle": "2025-07-30T14:11:17.691856Z",
     "shell.execute_reply": "2025-07-30T14:11:17.690885Z"
    },
    "papermill": {
     "duration": 0.030503,
     "end_time": "2025-07-30T14:11:17.693635",
     "exception": false,
     "start_time": "2025-07-30T14:11:17.663132",
     "status": "completed"
    },
    "tags": []
   },
   "outputs": [
    {
     "name": "stdout",
     "output_type": "stream",
     "text": [
      "Current working directory: /dss/dsshome1/0C/ra93lal2/cma/CMA_Fairness_v2\n"
     ]
    }
   ],
   "source": [
    "import os\n",
    "print(\"Current working directory:\", os.getcwd())"
   ]
  },
  {
   "cell_type": "code",
   "execution_count": 3,
   "id": "2dce4c03",
   "metadata": {
    "execution": {
     "iopub.execute_input": "2025-07-30T14:11:17.734053Z",
     "iopub.status.busy": "2025-07-30T14:11:17.733496Z",
     "iopub.status.idle": "2025-07-30T14:11:17.740085Z",
     "shell.execute_reply": "2025-07-30T14:11:17.739047Z"
    },
    "papermill": {
     "duration": 0.029219,
     "end_time": "2025-07-30T14:11:17.741731",
     "exception": false,
     "start_time": "2025-07-30T14:11:17.712512",
     "status": "completed"
    },
    "tags": [
     "parameters"
    ]
   },
   "outputs": [],
   "source": [
    "run_no = 0\n",
    "universe_id = \"test\"\n",
    "universe = {\n",
    "    \"training_size\": \"25k\", # \"25k\", \"5k\", \"1k\"\n",
    "    \"training_year\": \"2014\", # \"2014\", \"2012_14\", \"2010_14\"\n",
    "    \"scale\": \"scale\", # \"scale\", \"do-not-scale\",\n",
    "    #\"stratify_split\": \"target\", # \"none\", \"target\", \"protected-attribute\", \"both\",\n",
    "    \"model\": \"elasticnet\", # \"logreg\", \"penalized_logreg\", \"rf\", \"gbm\", \"elasticnet\"\n",
    "    \"cutoff\": [\"quantile_0.15\", \"quantile_0.30\"],\n",
    "    \"exclude_features\": \"age\", # \"none\", \"nationality\", \"sex\", \"nationality-sex\", \"age\"\n",
    "    \"exclude_subgroups\": \"keep-all\", # \"keep-all\", \"drop-non-german\"\n",
    "    \"eval_fairness_grouping\": [\"majority-minority\", \"nationality-all\"]\n",
    "}\n",
    "\n",
    "output_dir=\"./output\"\n",
    "seed=0"
   ]
  },
  {
   "cell_type": "code",
   "execution_count": 4,
   "id": "3118dcc7",
   "metadata": {
    "execution": {
     "iopub.execute_input": "2025-07-30T14:11:17.781435Z",
     "iopub.status.busy": "2025-07-30T14:11:17.781004Z",
     "iopub.status.idle": "2025-07-30T14:11:17.786094Z",
     "shell.execute_reply": "2025-07-30T14:11:17.785150Z"
    },
    "papermill": {
     "duration": 0.027084,
     "end_time": "2025-07-30T14:11:17.787889",
     "exception": false,
     "start_time": "2025-07-30T14:11:17.760805",
     "status": "completed"
    },
    "tags": [
     "injected-parameters"
    ]
   },
   "outputs": [],
   "source": [
    "# Parameters\n",
    "universe_id = \"699dd70a6b9bfded35d39be70f7d5bca\"\n",
    "run_no = \"12\"\n",
    "universe = \"{\\\"cutoff\\\": [\\\"quantile_0.1\\\", \\\"quantile_0.25\\\"], \\\"eval_fairness_grouping\\\": [\\\"majority-minority\\\", \\\"nationality-all\\\"], \\\"exclude_features\\\": \\\"age\\\", \\\"exclude_subgroups\\\": \\\"keep-all\\\", \\\"model\\\": \\\"elasticnet\\\", \\\"scale\\\": \\\"scale\\\", \\\"training_size\\\": \\\"5k\\\", \\\"training_year\\\": \\\"2010_14\\\"}\"\n",
    "output_dir = \"output\"\n",
    "seed = \"2023\"\n"
   ]
  },
  {
   "cell_type": "code",
   "execution_count": 5,
   "id": "1650acaf",
   "metadata": {
    "execution": {
     "iopub.execute_input": "2025-07-30T14:11:17.827377Z",
     "iopub.status.busy": "2025-07-30T14:11:17.827019Z",
     "iopub.status.idle": "2025-07-30T14:11:17.831704Z",
     "shell.execute_reply": "2025-07-30T14:11:17.830880Z"
    },
    "papermill": {
     "duration": 0.026295,
     "end_time": "2025-07-30T14:11:17.833264",
     "exception": false,
     "start_time": "2025-07-30T14:11:17.806969",
     "status": "completed"
    },
    "tags": []
   },
   "outputs": [],
   "source": [
    "import json\n",
    "# Parse universe into dict if it is passed as a string\n",
    "if isinstance(universe, str):\n",
    "    universe = json.loads(universe)"
   ]
  },
  {
   "cell_type": "code",
   "execution_count": 6,
   "id": "16620c48",
   "metadata": {
    "execution": {
     "iopub.execute_input": "2025-07-30T14:11:17.874911Z",
     "iopub.status.busy": "2025-07-30T14:11:17.874037Z",
     "iopub.status.idle": "2025-07-30T14:11:17.917875Z",
     "shell.execute_reply": "2025-07-30T14:11:17.916712Z"
    },
    "papermill": {
     "duration": 0.080475,
     "end_time": "2025-07-30T14:11:17.933417",
     "exception": false,
     "start_time": "2025-07-30T14:11:17.852942",
     "status": "completed"
    },
    "tags": []
   },
   "outputs": [],
   "source": [
    "# Auto-reload the custom package\n",
    "%load_ext autoreload\n",
    "%autoreload 1\n",
    "%aimport fairness_multiverse"
   ]
  },
  {
   "cell_type": "code",
   "execution_count": 7,
   "id": "01c5c9f3",
   "metadata": {
    "execution": {
     "iopub.execute_input": "2025-07-30T14:11:17.990977Z",
     "iopub.status.busy": "2025-07-30T14:11:17.990395Z",
     "iopub.status.idle": "2025-07-30T14:11:19.904961Z",
     "shell.execute_reply": "2025-07-30T14:11:19.904020Z"
    },
    "papermill": {
     "duration": 1.93674,
     "end_time": "2025-07-30T14:11:19.907025",
     "exception": false,
     "start_time": "2025-07-30T14:11:17.970285",
     "status": "completed"
    },
    "tags": []
   },
   "outputs": [],
   "source": [
    "from fairness_multiverse.universe import UniverseAnalysis\n",
    "\n",
    "universe_analysis = UniverseAnalysis(\n",
    "    run_no = run_no,\n",
    "    universe_id = universe_id,\n",
    "    universe = universe,\n",
    "    output_dir=output_dir,\n",
    ")"
   ]
  },
  {
   "cell_type": "code",
   "execution_count": 8,
   "id": "106241f5",
   "metadata": {
    "execution": {
     "iopub.execute_input": "2025-07-30T14:11:19.959164Z",
     "iopub.status.busy": "2025-07-30T14:11:19.958589Z",
     "iopub.status.idle": "2025-07-30T14:11:19.965710Z",
     "shell.execute_reply": "2025-07-30T14:11:19.964868Z"
    },
    "papermill": {
     "duration": 0.035433,
     "end_time": "2025-07-30T14:11:19.967872",
     "exception": false,
     "start_time": "2025-07-30T14:11:19.932439",
     "status": "completed"
    },
    "tags": []
   },
   "outputs": [
    {
     "name": "stdout",
     "output_type": "stream",
     "text": [
      "Using Seed: 2023\n"
     ]
    }
   ],
   "source": [
    "import numpy as np\n",
    "parsed_seed = int(seed)\n",
    "np.random.seed(parsed_seed)\n",
    "print(f\"Using Seed: {parsed_seed}\")"
   ]
  },
  {
   "cell_type": "markdown",
   "id": "e0ebdc57",
   "metadata": {
    "papermill": {
     "duration": 0.024298,
     "end_time": "2025-07-30T14:11:20.017823",
     "exception": false,
     "start_time": "2025-07-30T14:11:19.993525",
     "status": "completed"
    },
    "tags": []
   },
   "source": [
    "# Loading Data"
   ]
  },
  {
   "cell_type": "markdown",
   "id": "681925a3",
   "metadata": {
    "papermill": {
     "duration": 0.025219,
     "end_time": "2025-07-30T14:11:20.070411",
     "exception": false,
     "start_time": "2025-07-30T14:11:20.045192",
     "status": "completed"
    },
    "tags": []
   },
   "source": [
    "Load siab_train, siab_test, siab_calib and/or \n",
    "load siab_train_features, siab_train_labels"
   ]
  },
  {
   "cell_type": "code",
   "execution_count": 9,
   "id": "f0496b8a",
   "metadata": {
    "execution": {
     "iopub.execute_input": "2025-07-30T14:11:20.137899Z",
     "iopub.status.busy": "2025-07-30T14:11:20.137519Z",
     "iopub.status.idle": "2025-07-30T14:11:32.147575Z",
     "shell.execute_reply": "2025-07-30T14:11:32.146497Z"
    },
    "papermill": {
     "duration": 12.042966,
     "end_time": "2025-07-30T14:11:32.149261",
     "exception": false,
     "start_time": "2025-07-30T14:11:20.106295",
     "status": "completed"
    },
    "tags": []
   },
   "outputs": [
    {
     "name": "stdout",
     "output_type": "stream",
     "text": [
      "Loading SIAB data from cache: data/siab_cached.csv.gz\n"
     ]
    },
    {
     "name": "stdout",
     "output_type": "stream",
     "text": [
      "(643690, 164)\n"
     ]
    }
   ],
   "source": [
    "from pathlib import Path\n",
    "import pandas as pd\n",
    "\n",
    "# File paths\n",
    "raw_file = Path(\"data/raw/siab.csv\")\n",
    "cache_file = Path(\"data/siab_cached.csv.gz\")\n",
    "\n",
    "# Ensure cache directory exists\n",
    "cache_file.parent.mkdir(parents=True, exist_ok=True)\n",
    "\n",
    "# Load with simple caching\n",
    "if cache_file.exists():\n",
    "    print(f\"Loading SIAB data from cache: {cache_file}\")\n",
    "    siab = pd.read_csv(cache_file, compression='gzip')\n",
    "else:\n",
    "    print(f\"Cache not found. Reading raw SIAB data: {raw_file}\")\n",
    "    siab = pd.read_csv(raw_file)\n",
    "    siab.to_csv(cache_file, index=False, compression='gzip')\n",
    "    print(f\"Cached SIAB data to: {cache_file}\")\n",
    "\n",
    "# Now use `siab` DataFrame as needed\n",
    "print(siab.shape)"
   ]
  },
  {
   "cell_type": "code",
   "execution_count": 10,
   "id": "db0ca512-5f53-4dba-abdb-a2888bca41ba",
   "metadata": {
    "execution": {
     "iopub.execute_input": "2025-07-30T14:11:32.192841Z",
     "iopub.status.busy": "2025-07-30T14:11:32.192384Z",
     "iopub.status.idle": "2025-07-30T14:11:32.198161Z",
     "shell.execute_reply": "2025-07-30T14:11:32.197153Z"
    },
    "papermill": {
     "duration": 0.028481,
     "end_time": "2025-07-30T14:11:32.199746",
     "exception": false,
     "start_time": "2025-07-30T14:11:32.171265",
     "status": "completed"
    },
    "tags": []
   },
   "outputs": [],
   "source": [
    "#siab"
   ]
  },
  {
   "cell_type": "code",
   "execution_count": 11,
   "id": "a0edb063",
   "metadata": {
    "execution": {
     "iopub.execute_input": "2025-07-30T14:11:32.242015Z",
     "iopub.status.busy": "2025-07-30T14:11:32.241322Z",
     "iopub.status.idle": "2025-07-30T14:11:32.246671Z",
     "shell.execute_reply": "2025-07-30T14:11:32.245845Z"
    },
    "papermill": {
     "duration": 0.027996,
     "end_time": "2025-07-30T14:11:32.248324",
     "exception": false,
     "start_time": "2025-07-30T14:11:32.220328",
     "status": "completed"
    },
    "tags": []
   },
   "outputs": [],
   "source": [
    "#import pandas as pd\n",
    "#\n",
    "#X_train = pd.read_csv(\"./data/X_train.csv\")\n",
    "#y_train = pd.read_csv(\"./data/y_train.csv\")"
   ]
  },
  {
   "cell_type": "code",
   "execution_count": 12,
   "id": "63d08085",
   "metadata": {
    "execution": {
     "iopub.execute_input": "2025-07-30T14:11:32.290164Z",
     "iopub.status.busy": "2025-07-30T14:11:32.289464Z",
     "iopub.status.idle": "2025-07-30T14:11:32.294669Z",
     "shell.execute_reply": "2025-07-30T14:11:32.293754Z"
    },
    "papermill": {
     "duration": 0.027527,
     "end_time": "2025-07-30T14:11:32.296292",
     "exception": false,
     "start_time": "2025-07-30T14:11:32.268765",
     "status": "completed"
    },
    "tags": []
   },
   "outputs": [],
   "source": [
    "#X_test = pd.read_csv(\"./data/X_test.csv\")\n",
    "#y_true = pd.read_csv(\"./data/y_test.csv\")"
   ]
  },
  {
   "cell_type": "code",
   "execution_count": 13,
   "id": "98a8d0fa-1d3d-4ed8-bb2c-281470e24add",
   "metadata": {
    "execution": {
     "iopub.execute_input": "2025-07-30T14:11:32.338029Z",
     "iopub.status.busy": "2025-07-30T14:11:32.337335Z",
     "iopub.status.idle": "2025-07-30T14:11:32.342747Z",
     "shell.execute_reply": "2025-07-30T14:11:32.341723Z"
    },
    "papermill": {
     "duration": 0.0281,
     "end_time": "2025-07-30T14:11:32.344514",
     "exception": false,
     "start_time": "2025-07-30T14:11:32.316414",
     "status": "completed"
    },
    "tags": []
   },
   "outputs": [],
   "source": [
    "# Calibration data for conformal\n",
    "#X_calib = pd.read_csv(\"./data/X_calib.csv\")\n",
    "#y_calib = pd.read_csv(\"./data/y_calib.csv\")"
   ]
  },
  {
   "cell_type": "markdown",
   "id": "997051c5-15bd-4b69-9786-c3001a3ce484",
   "metadata": {
    "papermill": {
     "duration": 0.021294,
     "end_time": "2025-07-30T14:11:32.388208",
     "exception": false,
     "start_time": "2025-07-30T14:11:32.366914",
     "status": "completed"
    },
    "tags": []
   },
   "source": [
    "# Splitting Data and Setting Training Data Size"
   ]
  },
  {
   "cell_type": "code",
   "execution_count": 14,
   "id": "e993b61f-042d-41a6-8c81-f55681f86335",
   "metadata": {
    "execution": {
     "iopub.execute_input": "2025-07-30T14:11:32.429001Z",
     "iopub.status.busy": "2025-07-30T14:11:32.428503Z",
     "iopub.status.idle": "2025-07-30T14:11:32.453724Z",
     "shell.execute_reply": "2025-07-30T14:11:32.452692Z"
    },
    "papermill": {
     "duration": 0.047284,
     "end_time": "2025-07-30T14:11:32.455910",
     "exception": false,
     "start_time": "2025-07-30T14:11:32.408626",
     "status": "completed"
    },
    "tags": []
   },
   "outputs": [],
   "source": [
    "def sample_by_year_size(df,\n",
    "                        training_year: str,\n",
    "                        training_size: str,\n",
    "                        random_state: int = 42):\n",
    "    # --- parse training_year into a list of int years ---\n",
    "    if \"_\" in training_year:\n",
    "        start_str, end_str = training_year.split(\"_\", 1)\n",
    "        start = int(start_str)\n",
    "        end   = int(end_str) if len(end_str) == 4 else (int(end_str) + (start // 100)*100)\n",
    "        years = list(range(start, end + 1))\n",
    "    else:\n",
    "        years = [int(training_year)]\n",
    "\n",
    "    df = df[df[\"year\"].isin(years)].reset_index(drop=True)\n",
    "\n",
    "    # --- map training_size to total number of samples ---\n",
    "    total_map = {\"25k\": 25_000, \"5k\": 5_000, \"1k\": 1_000}\n",
    "    if training_size not in total_map:\n",
    "        return df  # e.g. \"all\"\n",
    "\n",
    "    total_samples = total_map[training_size]\n",
    "    n_years       = len(years)\n",
    "    base          = total_samples // n_years\n",
    "    remainder     = total_samples % n_years\n",
    "\n",
    "    # --- build a dict: year -> how many to sample ---\n",
    "    # give +1 to the first `remainder` years in ascending order\n",
    "    quotas = {\n",
    "        year: base + (1 if idx < remainder else 0)\n",
    "        for idx, year in enumerate(sorted(years))\n",
    "    }\n",
    "\n",
    "    # --- sample per‐year according to the quota dict ---\n",
    "    sampled = (\n",
    "        df\n",
    "        .groupby(\"year\", group_keys=False)\n",
    "        .apply(lambda grp: grp.sample(\n",
    "            n=min(len(grp), quotas[grp.name]),\n",
    "            random_state=random_state))\n",
    "        .reset_index(drop=True)\n",
    "    )\n",
    "\n",
    "    return sampled"
   ]
  },
  {
   "cell_type": "code",
   "execution_count": 15,
   "id": "c0ccd338-0e02-41f3-a09d-f56f9266e3fb",
   "metadata": {
    "execution": {
     "iopub.execute_input": "2025-07-30T14:11:32.502632Z",
     "iopub.status.busy": "2025-07-30T14:11:32.502211Z",
     "iopub.status.idle": "2025-07-30T14:11:32.513016Z",
     "shell.execute_reply": "2025-07-30T14:11:32.512026Z"
    },
    "papermill": {
     "duration": 0.036403,
     "end_time": "2025-07-30T14:11:32.514720",
     "exception": false,
     "start_time": "2025-07-30T14:11:32.478317",
     "status": "completed"
    },
    "tags": []
   },
   "outputs": [
    {
     "data": {
      "text/plain": [
       "'5k'"
      ]
     },
     "execution_count": 15,
     "metadata": {},
     "output_type": "execute_result"
    }
   ],
   "source": [
    "universe[\"training_size\"]"
   ]
  },
  {
   "cell_type": "code",
   "execution_count": 16,
   "id": "ca707fd7-8047-4acd-bfa5-66248fbbf8e6",
   "metadata": {
    "execution": {
     "iopub.execute_input": "2025-07-30T14:11:32.546178Z",
     "iopub.status.busy": "2025-07-30T14:11:32.545727Z",
     "iopub.status.idle": "2025-07-30T14:11:32.552984Z",
     "shell.execute_reply": "2025-07-30T14:11:32.552085Z"
    },
    "papermill": {
     "duration": 0.021892,
     "end_time": "2025-07-30T14:11:32.555118",
     "exception": false,
     "start_time": "2025-07-30T14:11:32.533226",
     "status": "completed"
    },
    "tags": []
   },
   "outputs": [
    {
     "data": {
      "text/plain": [
       "'2010_14'"
      ]
     },
     "execution_count": 16,
     "metadata": {},
     "output_type": "execute_result"
    }
   ],
   "source": [
    "universe[\"training_year\"]"
   ]
  },
  {
   "cell_type": "code",
   "execution_count": 17,
   "id": "aea9c6ef-6f46-42c8-85eb-5a62025c1508",
   "metadata": {
    "execution": {
     "iopub.execute_input": "2025-07-30T14:11:32.610213Z",
     "iopub.status.busy": "2025-07-30T14:11:32.609699Z",
     "iopub.status.idle": "2025-07-30T14:11:33.588683Z",
     "shell.execute_reply": "2025-07-30T14:11:33.587763Z"
    },
    "papermill": {
     "duration": 1.003395,
     "end_time": "2025-07-30T14:11:33.590509",
     "exception": false,
     "start_time": "2025-07-30T14:11:32.587114",
     "status": "completed"
    },
    "tags": []
   },
   "outputs": [],
   "source": [
    "siab_train = sample_by_year_size(siab,\n",
    "                               training_year=universe[\"training_year\"],\n",
    "                               training_size=universe[\"training_size\"])"
   ]
  },
  {
   "cell_type": "code",
   "execution_count": 18,
   "id": "8d3afb32-789d-442c-8d5d-9f5aa8dd2eed",
   "metadata": {
    "execution": {
     "iopub.execute_input": "2025-07-30T14:11:33.637177Z",
     "iopub.status.busy": "2025-07-30T14:11:33.636738Z",
     "iopub.status.idle": "2025-07-30T14:11:33.643469Z",
     "shell.execute_reply": "2025-07-30T14:11:33.642658Z"
    },
    "papermill": {
     "duration": 0.030335,
     "end_time": "2025-07-30T14:11:33.644927",
     "exception": false,
     "start_time": "2025-07-30T14:11:33.614592",
     "status": "completed"
    },
    "tags": []
   },
   "outputs": [
    {
     "data": {
      "text/plain": [
       "(5000, 164)"
      ]
     },
     "execution_count": 18,
     "metadata": {},
     "output_type": "execute_result"
    }
   ],
   "source": [
    "siab_train.shape"
   ]
  },
  {
   "cell_type": "code",
   "execution_count": 19,
   "id": "d582db68-1a4c-47fb-84fc-08518dc1975a",
   "metadata": {
    "execution": {
     "iopub.execute_input": "2025-07-30T14:11:33.686931Z",
     "iopub.status.busy": "2025-07-30T14:11:33.686307Z",
     "iopub.status.idle": "2025-07-30T14:11:33.696064Z",
     "shell.execute_reply": "2025-07-30T14:11:33.695272Z"
    },
    "papermill": {
     "duration": 0.032446,
     "end_time": "2025-07-30T14:11:33.698066",
     "exception": false,
     "start_time": "2025-07-30T14:11:33.665620",
     "status": "completed"
    },
    "tags": []
   },
   "outputs": [
    {
     "data": {
      "text/plain": [
       "year\n",
       "2010    1000\n",
       "2011    1000\n",
       "2012    1000\n",
       "2013    1000\n",
       "2014    1000\n",
       "dtype: int64"
      ]
     },
     "metadata": {},
     "output_type": "display_data"
    }
   ],
   "source": [
    "display(siab_train.groupby(\"year\").size())"
   ]
  },
  {
   "cell_type": "code",
   "execution_count": 20,
   "id": "a561edb4-d032-42cb-8256-22eac1111c64",
   "metadata": {
    "execution": {
     "iopub.execute_input": "2025-07-30T14:11:33.742232Z",
     "iopub.status.busy": "2025-07-30T14:11:33.741361Z",
     "iopub.status.idle": "2025-07-30T14:11:33.979595Z",
     "shell.execute_reply": "2025-07-30T14:11:33.978535Z"
    },
    "papermill": {
     "duration": 0.262539,
     "end_time": "2025-07-30T14:11:33.981542",
     "exception": false,
     "start_time": "2025-07-30T14:11:33.719003",
     "status": "completed"
    },
    "tags": []
   },
   "outputs": [],
   "source": [
    "#siab_train = siab_s[siab_s.year < 2015]\n",
    "siab_calib = siab[siab.year == 2015]\n",
    "siab_test = siab[siab.year == 2016]"
   ]
  },
  {
   "cell_type": "code",
   "execution_count": 21,
   "id": "472de16f-c3db-4916-846b-1f0de9cf1746",
   "metadata": {
    "execution": {
     "iopub.execute_input": "2025-07-30T14:11:34.034573Z",
     "iopub.status.busy": "2025-07-30T14:11:34.033874Z",
     "iopub.status.idle": "2025-07-30T14:11:34.042328Z",
     "shell.execute_reply": "2025-07-30T14:11:34.041440Z"
    },
    "papermill": {
     "duration": 0.040718,
     "end_time": "2025-07-30T14:11:34.044379",
     "exception": false,
     "start_time": "2025-07-30T14:11:34.003661",
     "status": "completed"
    },
    "tags": []
   },
   "outputs": [],
   "source": [
    "X_train = siab_train.iloc[:,4:164]\n",
    "y_train = siab_train.iloc[:, [3]]"
   ]
  },
  {
   "cell_type": "code",
   "execution_count": 22,
   "id": "828c96af-f43a-4ed6-ba47-8ac73a47d56c",
   "metadata": {
    "execution": {
     "iopub.execute_input": "2025-07-30T14:11:34.096671Z",
     "iopub.status.busy": "2025-07-30T14:11:34.096164Z",
     "iopub.status.idle": "2025-07-30T14:11:34.149126Z",
     "shell.execute_reply": "2025-07-30T14:11:34.147756Z"
    },
    "papermill": {
     "duration": 0.079763,
     "end_time": "2025-07-30T14:11:34.151157",
     "exception": false,
     "start_time": "2025-07-30T14:11:34.071394",
     "status": "completed"
    },
    "tags": []
   },
   "outputs": [],
   "source": [
    "X_calib = siab_calib.iloc[:,4:164]\n",
    "y_calib = siab_calib.iloc[:, [3]]"
   ]
  },
  {
   "cell_type": "code",
   "execution_count": 23,
   "id": "c34be9c3-6bd6-476e-acd3-845840e303be",
   "metadata": {
    "execution": {
     "iopub.execute_input": "2025-07-30T14:11:34.198307Z",
     "iopub.status.busy": "2025-07-30T14:11:34.197859Z",
     "iopub.status.idle": "2025-07-30T14:11:34.249159Z",
     "shell.execute_reply": "2025-07-30T14:11:34.248301Z"
    },
    "papermill": {
     "duration": 0.074976,
     "end_time": "2025-07-30T14:11:34.250838",
     "exception": false,
     "start_time": "2025-07-30T14:11:34.175862",
     "status": "completed"
    },
    "tags": []
   },
   "outputs": [],
   "source": [
    "X_test = siab_test.iloc[:,4:164]\n",
    "y_true = siab_test.iloc[:, [3]]"
   ]
  },
  {
   "cell_type": "markdown",
   "id": "9901737e-04df-44f0-9100-f5ad144ed040",
   "metadata": {
    "papermill": {
     "duration": 0.020976,
     "end_time": "2025-07-30T14:11:34.292677",
     "exception": false,
     "start_time": "2025-07-30T14:11:34.271701",
     "status": "completed"
    },
    "tags": []
   },
   "source": [
    "# Splitting Data and Setting Training Data Size OLD VERSION"
   ]
  },
  {
   "cell_type": "code",
   "execution_count": 24,
   "id": "acbc8f7d-8fc8-4e86-8c59-5dcb0f58384b",
   "metadata": {
    "execution": {
     "iopub.execute_input": "2025-07-30T14:11:34.335505Z",
     "iopub.status.busy": "2025-07-30T14:11:34.334869Z",
     "iopub.status.idle": "2025-07-30T14:11:34.340134Z",
     "shell.execute_reply": "2025-07-30T14:11:34.339270Z"
    },
    "papermill": {
     "duration": 0.027857,
     "end_time": "2025-07-30T14:11:34.341758",
     "exception": false,
     "start_time": "2025-07-30T14:11:34.313901",
     "status": "completed"
    },
    "tags": []
   },
   "outputs": [],
   "source": [
    "#def sample_by_year(df, training_size, random_state=42):\n",
    "#    if training_size == \"2014\":\n",
    "#        return df[df[\"year\"] == 2014].reset_index(drop=True)\n",
    "#    \n",
    "#    size_map = {\n",
    "#        \"25k\": 5000,\n",
    "#        \"5k\": 1000,\n",
    "#        \"1k\": 200\n",
    "#    }\n",
    "#\n",
    "#    if training_size not in size_map:\n",
    "#        return df.reset_index(drop=True)  # use all data\n",
    "#\n",
    "#    n_per_year = size_map[training_size]\n",
    "#    grouped = df.groupby(\"year\")\n",
    "#    sampled = grouped.apply(lambda x: x.sample(n=min(n_per_year, len(x)), random_state=random_state))\n",
    "#    return sampled.reset_index(drop=True)"
   ]
  },
  {
   "cell_type": "code",
   "execution_count": 25,
   "id": "6d931f52-beaf-43ff-9e78-9d44a448d54e",
   "metadata": {
    "execution": {
     "iopub.execute_input": "2025-07-30T14:11:34.386340Z",
     "iopub.status.busy": "2025-07-30T14:11:34.385836Z",
     "iopub.status.idle": "2025-07-30T14:11:34.391204Z",
     "shell.execute_reply": "2025-07-30T14:11:34.390341Z"
    },
    "papermill": {
     "duration": 0.029725,
     "end_time": "2025-07-30T14:11:34.392887",
     "exception": false,
     "start_time": "2025-07-30T14:11:34.363162",
     "status": "completed"
    },
    "tags": []
   },
   "outputs": [],
   "source": [
    "#siab_s = sample_by_year(siab, universe[\"training_size\"])"
   ]
  },
  {
   "cell_type": "code",
   "execution_count": 26,
   "id": "5db0a40e-a4e2-4920-be85-b12ae061d70d",
   "metadata": {
    "execution": {
     "iopub.execute_input": "2025-07-30T14:11:34.437337Z",
     "iopub.status.busy": "2025-07-30T14:11:34.436885Z",
     "iopub.status.idle": "2025-07-30T14:11:34.442095Z",
     "shell.execute_reply": "2025-07-30T14:11:34.441199Z"
    },
    "papermill": {
     "duration": 0.029211,
     "end_time": "2025-07-30T14:11:34.443706",
     "exception": false,
     "start_time": "2025-07-30T14:11:34.414495",
     "status": "completed"
    },
    "tags": []
   },
   "outputs": [],
   "source": [
    "#display(siab_s.groupby(\"year\").size())"
   ]
  },
  {
   "cell_type": "code",
   "execution_count": 27,
   "id": "e6c733c5",
   "metadata": {
    "execution": {
     "iopub.execute_input": "2025-07-30T14:11:34.488535Z",
     "iopub.status.busy": "2025-07-30T14:11:34.487628Z",
     "iopub.status.idle": "2025-07-30T14:11:34.610064Z",
     "shell.execute_reply": "2025-07-30T14:11:34.609188Z"
    },
    "papermill": {
     "duration": 0.14687,
     "end_time": "2025-07-30T14:11:34.611927",
     "exception": false,
     "start_time": "2025-07-30T14:11:34.465057",
     "status": "completed"
    },
    "tags": []
   },
   "outputs": [],
   "source": [
    "# Auxiliary data needed downstream in the pipeline\n",
    "\n",
    "org_train = X_train.copy()\n",
    "org_test = X_test.copy()\n",
    "org_calib = X_calib.copy()"
   ]
  },
  {
   "cell_type": "code",
   "execution_count": 28,
   "id": "1466abac-c6da-4492-a62f-4240ae3783af",
   "metadata": {
    "execution": {
     "iopub.execute_input": "2025-07-30T14:11:34.656731Z",
     "iopub.status.busy": "2025-07-30T14:11:34.655965Z",
     "iopub.status.idle": "2025-07-30T14:11:34.661967Z",
     "shell.execute_reply": "2025-07-30T14:11:34.661117Z"
    },
    "papermill": {
     "duration": 0.03072,
     "end_time": "2025-07-30T14:11:34.663563",
     "exception": false,
     "start_time": "2025-07-30T14:11:34.632843",
     "status": "completed"
    },
    "tags": []
   },
   "outputs": [],
   "source": [
    "# put in other script?\n",
    "# Group sizes\n",
    "\n",
    "#def calculate_percentages(df, df_name):\n",
    "#    total_entries = len(df)\n",
    "#\n",
    "#    female_pct = (df['frau1'] == 1).mean() * 100\n",
    "#    non_german_pct = ((df['maxdeutsch1'] == 0) & (df['maxdeutsch.Missing.'] == 0)).mean() * 100\n",
    "#    non_german_male_pct = ((df['frau1'] == 0) & (df['maxdeutsch1'] == 0) & (df['maxdeutsch.Missing.'] == 0)).mean() * 100\n",
    "#    non_german_female_pct = ((df['frau1'] == 1) & (df['maxdeutsch1'] == 0) & (df['maxdeutsch.Missing.'] == 0)).mean() * 100\n",
    "#\n",
    "#    print(f\"--- {df_name} ---\")\n",
    "#    print(f\"Female: {female_pct:.2f}%\")\n",
    "#    print(f\"Non-German: {non_german_pct:.2f}%\")\n",
    "#    print(f\"Non-German Male: {non_german_male_pct:.2f}%\")\n",
    "#    print(f\"Non-German Female: {non_german_female_pct:.2f}%\\n\")\n",
    "#\n",
    "## Calculate for each DataFrame\n",
    "#calculate_percentages(siab_calib, \"siab_calib\")\n",
    "#calculate_percentages(siab_test, \"siab_test\")\n",
    "#calculate_percentages(siab_train, \"siab_train\")"
   ]
  },
  {
   "cell_type": "markdown",
   "id": "0a4a1b33",
   "metadata": {
    "papermill": {
     "duration": 0.020539,
     "end_time": "2025-07-30T14:11:34.705153",
     "exception": false,
     "start_time": "2025-07-30T14:11:34.684614",
     "status": "completed"
    },
    "tags": []
   },
   "source": [
    "# Preprocessing Data"
   ]
  },
  {
   "cell_type": "code",
   "execution_count": 29,
   "id": "ca879031",
   "metadata": {
    "execution": {
     "iopub.execute_input": "2025-07-30T14:11:34.751527Z",
     "iopub.status.busy": "2025-07-30T14:11:34.751068Z",
     "iopub.status.idle": "2025-07-30T14:11:34.756985Z",
     "shell.execute_reply": "2025-07-30T14:11:34.756107Z"
    },
    "papermill": {
     "duration": 0.03003,
     "end_time": "2025-07-30T14:11:34.758671",
     "exception": false,
     "start_time": "2025-07-30T14:11:34.728641",
     "status": "completed"
    },
    "tags": []
   },
   "outputs": [],
   "source": [
    "# EXCLUDE PROTECTED FEATURES\n",
    "# ----------------------\n",
    "# \"exclude_features\": \"none\", # \"nationality\", \"sex\", \"nationality-sex\"\n",
    "\n",
    "excluded_features = universe[\"exclude_features\"].split(\"-\") # split, e.g.: \"nationality-sex\" -> [\"nationality\", \"sex\"]\n",
    "excluded_features_dictionary = {\n",
    "    \"nationality\": [\"maxdeutsch1\", \"maxdeutsch.Missing.\"],\n",
    "    \"sex\": [\"frau1\"],\n",
    "    \"age\": [\"age\"],\n",
    "}\n"
   ]
  },
  {
   "cell_type": "code",
   "execution_count": 30,
   "id": "b745ac60",
   "metadata": {
    "execution": {
     "iopub.execute_input": "2025-07-30T14:11:34.806904Z",
     "iopub.status.busy": "2025-07-30T14:11:34.806422Z",
     "iopub.status.idle": "2025-07-30T14:11:34.811909Z",
     "shell.execute_reply": "2025-07-30T14:11:34.811031Z"
    },
    "papermill": {
     "duration": 0.030288,
     "end_time": "2025-07-30T14:11:34.813574",
     "exception": false,
     "start_time": "2025-07-30T14:11:34.783286",
     "status": "completed"
    },
    "tags": []
   },
   "outputs": [],
   "source": [
    "# Code nice names to column names\n",
    "\n",
    "excluded_features_columns = [\n",
    "    excluded_features_dictionary[f] for f in excluded_features if len(f) > 0 and f != \"none\"\n",
    "]"
   ]
  },
  {
   "cell_type": "code",
   "execution_count": 31,
   "id": "f84f73a2",
   "metadata": {
    "execution": {
     "iopub.execute_input": "2025-07-30T14:11:34.862628Z",
     "iopub.status.busy": "2025-07-30T14:11:34.862168Z",
     "iopub.status.idle": "2025-07-30T14:11:34.868878Z",
     "shell.execute_reply": "2025-07-30T14:11:34.867833Z"
    },
    "papermill": {
     "duration": 0.033738,
     "end_time": "2025-07-30T14:11:34.870400",
     "exception": false,
     "start_time": "2025-07-30T14:11:34.836662",
     "status": "completed"
    },
    "tags": []
   },
   "outputs": [],
   "source": [
    "from utils import flatten_once\n",
    "\n",
    "excluded_features_columns = flatten_once(excluded_features_columns)"
   ]
  },
  {
   "cell_type": "code",
   "execution_count": 32,
   "id": "884dea22",
   "metadata": {
    "execution": {
     "iopub.execute_input": "2025-07-30T14:11:34.919461Z",
     "iopub.status.busy": "2025-07-30T14:11:34.919004Z",
     "iopub.status.idle": "2025-07-30T14:11:34.928275Z",
     "shell.execute_reply": "2025-07-30T14:11:34.927189Z"
    },
    "papermill": {
     "duration": 0.036316,
     "end_time": "2025-07-30T14:11:34.930132",
     "exception": false,
     "start_time": "2025-07-30T14:11:34.893816",
     "status": "completed"
    },
    "tags": []
   },
   "outputs": [
    {
     "name": "stdout",
     "output_type": "stream",
     "text": [
      "Dropping features: ['age']\n"
     ]
    }
   ],
   "source": [
    "if len(excluded_features_columns) > 0:\n",
    "    print(f\"Dropping features: {excluded_features_columns}\")\n",
    "    X_train.drop(excluded_features_columns, axis=1, inplace=True)"
   ]
  },
  {
   "cell_type": "code",
   "execution_count": 33,
   "id": "95ab8b16",
   "metadata": {
    "execution": {
     "iopub.execute_input": "2025-07-30T14:11:34.979527Z",
     "iopub.status.busy": "2025-07-30T14:11:34.979075Z",
     "iopub.status.idle": "2025-07-30T14:11:35.035625Z",
     "shell.execute_reply": "2025-07-30T14:11:35.034652Z"
    },
    "papermill": {
     "duration": 0.082737,
     "end_time": "2025-07-30T14:11:35.037261",
     "exception": false,
     "start_time": "2025-07-30T14:11:34.954524",
     "status": "completed"
    },
    "tags": []
   },
   "outputs": [
    {
     "name": "stdout",
     "output_type": "stream",
     "text": [
      "Dropping features: ['age']\n"
     ]
    }
   ],
   "source": [
    "if len(excluded_features_columns) > 0:\n",
    "    print(f\"Dropping features: {excluded_features_columns}\")\n",
    "    X_test.drop(excluded_features_columns, axis=1, inplace=True)"
   ]
  },
  {
   "cell_type": "code",
   "execution_count": 34,
   "id": "1853aaf5-fb9f-46cb-a2b5-8ea4ae2237e4",
   "metadata": {
    "execution": {
     "iopub.execute_input": "2025-07-30T14:11:35.097407Z",
     "iopub.status.busy": "2025-07-30T14:11:35.096900Z",
     "iopub.status.idle": "2025-07-30T14:11:35.153766Z",
     "shell.execute_reply": "2025-07-30T14:11:35.152861Z"
    },
    "papermill": {
     "duration": 0.094758,
     "end_time": "2025-07-30T14:11:35.155574",
     "exception": false,
     "start_time": "2025-07-30T14:11:35.060816",
     "status": "completed"
    },
    "tags": []
   },
   "outputs": [
    {
     "name": "stdout",
     "output_type": "stream",
     "text": [
      "Dropping features: ['age']\n"
     ]
    }
   ],
   "source": [
    "if len(excluded_features_columns) > 0:\n",
    "    print(f\"Dropping features: {excluded_features_columns}\")\n",
    "    X_calib.drop(excluded_features_columns, axis=1, inplace=True)"
   ]
  },
  {
   "cell_type": "code",
   "execution_count": 35,
   "id": "6727d079-03e5-481e-9d38-292a90b7a0a8",
   "metadata": {
    "execution": {
     "iopub.execute_input": "2025-07-30T14:11:35.209726Z",
     "iopub.status.busy": "2025-07-30T14:11:35.209193Z",
     "iopub.status.idle": "2025-07-30T14:11:35.214420Z",
     "shell.execute_reply": "2025-07-30T14:11:35.213370Z"
    },
    "papermill": {
     "duration": 0.038979,
     "end_time": "2025-07-30T14:11:35.216100",
     "exception": false,
     "start_time": "2025-07-30T14:11:35.177121",
     "status": "completed"
    },
    "tags": []
   },
   "outputs": [],
   "source": [
    "# SPLIT & STRATIFY DATA\n",
    "# ----------------------"
   ]
  },
  {
   "cell_type": "code",
   "execution_count": 36,
   "id": "76c4dc6d",
   "metadata": {
    "execution": {
     "iopub.execute_input": "2025-07-30T14:11:35.263918Z",
     "iopub.status.busy": "2025-07-30T14:11:35.263426Z",
     "iopub.status.idle": "2025-07-30T14:11:35.269475Z",
     "shell.execute_reply": "2025-07-30T14:11:35.268559Z"
    },
    "papermill": {
     "duration": 0.030887,
     "end_time": "2025-07-30T14:11:35.271072",
     "exception": false,
     "start_time": "2025-07-30T14:11:35.240185",
     "status": "completed"
    },
    "tags": []
   },
   "outputs": [],
   "source": [
    "# EXCLUDE CERTAIN SUBGROUPS\n",
    "# ----------------------\n",
    "\n",
    "mode = universe.get(\"exclude_subgroups\", \"keep-all\") \n",
    "# Fetches the exclude_subgroups setting from the universe dict.\n",
    "# Defaults to \"keep-all\" if the key is missing."
   ]
  },
  {
   "cell_type": "code",
   "execution_count": 37,
   "id": "21994072",
   "metadata": {
    "execution": {
     "iopub.execute_input": "2025-07-30T14:11:35.317861Z",
     "iopub.status.busy": "2025-07-30T14:11:35.317350Z",
     "iopub.status.idle": "2025-07-30T14:11:35.324308Z",
     "shell.execute_reply": "2025-07-30T14:11:35.323321Z"
    },
    "papermill": {
     "duration": 0.032584,
     "end_time": "2025-07-30T14:11:35.325897",
     "exception": false,
     "start_time": "2025-07-30T14:11:35.293313",
     "status": "completed"
    },
    "tags": []
   },
   "outputs": [],
   "source": [
    "if mode == \"keep-all\":\n",
    "    keep_mask = pd.Series(True, index=org_train.index)\n",
    "\n",
    "# org_train contains the original feature columns from features_org (in Simson)\n",
    "# features_org contains unprocessed features, for me X_train at beginning ???\n",
    "# For keep-all, creates a boolean Series (keep_mask) of all True, so no rows are removed.\n",
    "\n",
    "elif mode == \"drop-non-german\":\n",
    "    keep_mask = org_train[\"maxdeutsch1\"] == 1 # ??? what about missing values?\n",
    "\n",
    "else:\n",
    "    raise ValueError(f\"Unsupported mode for exclude_subgroups: {mode}\")\n"
   ]
  },
  {
   "cell_type": "code",
   "execution_count": 38,
   "id": "71651440",
   "metadata": {
    "execution": {
     "iopub.execute_input": "2025-07-30T14:11:35.372406Z",
     "iopub.status.busy": "2025-07-30T14:11:35.371707Z",
     "iopub.status.idle": "2025-07-30T14:11:35.378429Z",
     "shell.execute_reply": "2025-07-30T14:11:35.377461Z"
    },
    "papermill": {
     "duration": 0.031912,
     "end_time": "2025-07-30T14:11:35.380136",
     "exception": false,
     "start_time": "2025-07-30T14:11:35.348224",
     "status": "completed"
    },
    "tags": []
   },
   "outputs": [],
   "source": [
    "n_drop = (~keep_mask).sum() # Calculates how many rows are set to be dropped\n",
    "if n_drop > 0:\n",
    "    pct = n_drop / len(keep_mask) * 100\n",
    "    print(f\"Dropping {n_drop} rows ({pct:.2f}%) where mode='{mode}'\")"
   ]
  },
  {
   "cell_type": "code",
   "execution_count": 39,
   "id": "5fb8eee5",
   "metadata": {
    "execution": {
     "iopub.execute_input": "2025-07-30T14:11:35.425161Z",
     "iopub.status.busy": "2025-07-30T14:11:35.424390Z",
     "iopub.status.idle": "2025-07-30T14:11:35.431711Z",
     "shell.execute_reply": "2025-07-30T14:11:35.430911Z"
    },
    "papermill": {
     "duration": 0.030912,
     "end_time": "2025-07-30T14:11:35.433331",
     "exception": false,
     "start_time": "2025-07-30T14:11:35.402419",
     "status": "completed"
    },
    "tags": []
   },
   "outputs": [],
   "source": [
    "X_train = X_train[keep_mask]"
   ]
  },
  {
   "cell_type": "code",
   "execution_count": 40,
   "id": "b202bb3a",
   "metadata": {
    "execution": {
     "iopub.execute_input": "2025-07-30T14:11:35.488482Z",
     "iopub.status.busy": "2025-07-30T14:11:35.487961Z",
     "iopub.status.idle": "2025-07-30T14:11:35.494436Z",
     "shell.execute_reply": "2025-07-30T14:11:35.493505Z"
    },
    "papermill": {
     "duration": 0.036893,
     "end_time": "2025-07-30T14:11:35.496194",
     "exception": false,
     "start_time": "2025-07-30T14:11:35.459301",
     "status": "completed"
    },
    "tags": []
   },
   "outputs": [],
   "source": [
    "y_train = y_train[keep_mask]"
   ]
  },
  {
   "cell_type": "markdown",
   "id": "493e2ac3",
   "metadata": {
    "papermill": {
     "duration": 0.02646,
     "end_time": "2025-07-30T14:11:35.549338",
     "exception": false,
     "start_time": "2025-07-30T14:11:35.522878",
     "status": "completed"
    },
    "tags": []
   },
   "source": [
    "# Model Training"
   ]
  },
  {
   "cell_type": "code",
   "execution_count": 41,
   "id": "679e1268",
   "metadata": {
    "execution": {
     "iopub.execute_input": "2025-07-30T14:11:35.607246Z",
     "iopub.status.busy": "2025-07-30T14:11:35.606688Z",
     "iopub.status.idle": "2025-07-30T14:11:35.709339Z",
     "shell.execute_reply": "2025-07-30T14:11:35.708615Z"
    },
    "papermill": {
     "duration": 0.134794,
     "end_time": "2025-07-30T14:11:35.710725",
     "exception": false,
     "start_time": "2025-07-30T14:11:35.575931",
     "status": "completed"
    },
    "tags": []
   },
   "outputs": [],
   "source": [
    "from sklearn.linear_model import LogisticRegression\n",
    "from sklearn.ensemble import GradientBoostingClassifier, RandomForestClassifier\n",
    "\n",
    "if (universe[\"model\"] == \"logreg\"):\n",
    "    model = LogisticRegression() #penalty=\"none\") #, solver=\"newton-cg\", max_iter=1) # include random_state=19 ?\n",
    "elif (universe[\"model\"] == \"penalized_logreg\"):\n",
    "    model = LogisticRegression(penalty=\"l2\", C=1.0) #, solver=\"newton-cg\", max_iter=1)\n",
    "elif (universe[\"model\"] == \"rf\"):\n",
    "    model = RandomForestClassifier(n_estimators=100, n_jobs=-1)\n",
    "elif (universe[\"model\"] == \"gbm\"):\n",
    "    model = GradientBoostingClassifier()\n",
    "elif (universe[\"model\"] == \"elasticnet\"):\n",
    "    model = LogisticRegression(penalty = 'elasticnet', solver = 'saga', l1_ratio = 0.5, max_iter=5000) # which solver to use?\n",
    "else:\n",
    "    raise \"Unsupported universe.model\""
   ]
  },
  {
   "cell_type": "code",
   "execution_count": 42,
   "id": "0cc8f744",
   "metadata": {
    "execution": {
     "iopub.execute_input": "2025-07-30T14:11:35.753823Z",
     "iopub.status.busy": "2025-07-30T14:11:35.753358Z",
     "iopub.status.idle": "2025-07-30T14:11:35.760055Z",
     "shell.execute_reply": "2025-07-30T14:11:35.759175Z"
    },
    "papermill": {
     "duration": 0.033872,
     "end_time": "2025-07-30T14:11:35.761665",
     "exception": false,
     "start_time": "2025-07-30T14:11:35.727793",
     "status": "completed"
    },
    "tags": []
   },
   "outputs": [],
   "source": [
    "import numpy as np\n",
    "from sklearn.pipeline import Pipeline\n",
    "from sklearn.preprocessing import StandardScaler\n",
    "\n",
    "model = Pipeline([\n",
    "    #(\"continuous_processor\", continuous_processor),\n",
    "    #(\"categorical_preprocessor\", categorical_preprocessor),\n",
    "    (\"scale\", StandardScaler() if universe[\"scale\"] == \"scale\" else None), \n",
    "    (\"model\", model),\n",
    "])"
   ]
  },
  {
   "cell_type": "code",
   "execution_count": 43,
   "id": "9442c04d",
   "metadata": {
    "execution": {
     "iopub.execute_input": "2025-07-30T14:11:35.815791Z",
     "iopub.status.busy": "2025-07-30T14:11:35.815326Z",
     "iopub.status.idle": "2025-07-30T14:11:47.340690Z",
     "shell.execute_reply": "2025-07-30T14:11:47.339938Z"
    },
    "papermill": {
     "duration": 11.553461,
     "end_time": "2025-07-30T14:11:47.341900",
     "exception": false,
     "start_time": "2025-07-30T14:11:35.788439",
     "status": "completed"
    },
    "tags": []
   },
   "outputs": [
    {
     "data": {
      "text/html": [
       "<style>#sk-container-id-1 {color: black;background-color: white;}#sk-container-id-1 pre{padding: 0;}#sk-container-id-1 div.sk-toggleable {background-color: white;}#sk-container-id-1 label.sk-toggleable__label {cursor: pointer;display: block;width: 100%;margin-bottom: 0;padding: 0.3em;box-sizing: border-box;text-align: center;}#sk-container-id-1 label.sk-toggleable__label-arrow:before {content: \"▸\";float: left;margin-right: 0.25em;color: #696969;}#sk-container-id-1 label.sk-toggleable__label-arrow:hover:before {color: black;}#sk-container-id-1 div.sk-estimator:hover label.sk-toggleable__label-arrow:before {color: black;}#sk-container-id-1 div.sk-toggleable__content {max-height: 0;max-width: 0;overflow: hidden;text-align: left;background-color: #f0f8ff;}#sk-container-id-1 div.sk-toggleable__content pre {margin: 0.2em;color: black;border-radius: 0.25em;background-color: #f0f8ff;}#sk-container-id-1 input.sk-toggleable__control:checked~div.sk-toggleable__content {max-height: 200px;max-width: 100%;overflow: auto;}#sk-container-id-1 input.sk-toggleable__control:checked~label.sk-toggleable__label-arrow:before {content: \"▾\";}#sk-container-id-1 div.sk-estimator input.sk-toggleable__control:checked~label.sk-toggleable__label {background-color: #d4ebff;}#sk-container-id-1 div.sk-label input.sk-toggleable__control:checked~label.sk-toggleable__label {background-color: #d4ebff;}#sk-container-id-1 input.sk-hidden--visually {border: 0;clip: rect(1px 1px 1px 1px);clip: rect(1px, 1px, 1px, 1px);height: 1px;margin: -1px;overflow: hidden;padding: 0;position: absolute;width: 1px;}#sk-container-id-1 div.sk-estimator {font-family: monospace;background-color: #f0f8ff;border: 1px dotted black;border-radius: 0.25em;box-sizing: border-box;margin-bottom: 0.5em;}#sk-container-id-1 div.sk-estimator:hover {background-color: #d4ebff;}#sk-container-id-1 div.sk-parallel-item::after {content: \"\";width: 100%;border-bottom: 1px solid gray;flex-grow: 1;}#sk-container-id-1 div.sk-label:hover label.sk-toggleable__label {background-color: #d4ebff;}#sk-container-id-1 div.sk-serial::before {content: \"\";position: absolute;border-left: 1px solid gray;box-sizing: border-box;top: 0;bottom: 0;left: 50%;z-index: 0;}#sk-container-id-1 div.sk-serial {display: flex;flex-direction: column;align-items: center;background-color: white;padding-right: 0.2em;padding-left: 0.2em;position: relative;}#sk-container-id-1 div.sk-item {position: relative;z-index: 1;}#sk-container-id-1 div.sk-parallel {display: flex;align-items: stretch;justify-content: center;background-color: white;position: relative;}#sk-container-id-1 div.sk-item::before, #sk-container-id-1 div.sk-parallel-item::before {content: \"\";position: absolute;border-left: 1px solid gray;box-sizing: border-box;top: 0;bottom: 0;left: 50%;z-index: -1;}#sk-container-id-1 div.sk-parallel-item {display: flex;flex-direction: column;z-index: 1;position: relative;background-color: white;}#sk-container-id-1 div.sk-parallel-item:first-child::after {align-self: flex-end;width: 50%;}#sk-container-id-1 div.sk-parallel-item:last-child::after {align-self: flex-start;width: 50%;}#sk-container-id-1 div.sk-parallel-item:only-child::after {width: 0;}#sk-container-id-1 div.sk-dashed-wrapped {border: 1px dashed gray;margin: 0 0.4em 0.5em 0.4em;box-sizing: border-box;padding-bottom: 0.4em;background-color: white;}#sk-container-id-1 div.sk-label label {font-family: monospace;font-weight: bold;display: inline-block;line-height: 1.2em;}#sk-container-id-1 div.sk-label-container {text-align: center;}#sk-container-id-1 div.sk-container {/* jupyter's `normalize.less` sets `[hidden] { display: none; }` but bootstrap.min.css set `[hidden] { display: none !important; }` so we also need the `!important` here to be able to override the default hidden behavior on the sphinx rendered scikit-learn.org. See: https://github.com/scikit-learn/scikit-learn/issues/21755 */display: inline-block !important;position: relative;}#sk-container-id-1 div.sk-text-repr-fallback {display: none;}</style><div id=\"sk-container-id-1\" class=\"sk-top-container\"><div class=\"sk-text-repr-fallback\"><pre>Pipeline(steps=[(&#x27;scale&#x27;, StandardScaler()),\n",
       "                (&#x27;model&#x27;,\n",
       "                 LogisticRegression(l1_ratio=0.5, max_iter=5000,\n",
       "                                    penalty=&#x27;elasticnet&#x27;, solver=&#x27;saga&#x27;))])</pre><b>In a Jupyter environment, please rerun this cell to show the HTML representation or trust the notebook. <br />On GitHub, the HTML representation is unable to render, please try loading this page with nbviewer.org.</b></div><div class=\"sk-container\" hidden><div class=\"sk-item sk-dashed-wrapped\"><div class=\"sk-label-container\"><div class=\"sk-label sk-toggleable\"><input class=\"sk-toggleable__control sk-hidden--visually\" id=\"sk-estimator-id-1\" type=\"checkbox\" ><label for=\"sk-estimator-id-1\" class=\"sk-toggleable__label sk-toggleable__label-arrow\">Pipeline</label><div class=\"sk-toggleable__content\"><pre>Pipeline(steps=[(&#x27;scale&#x27;, StandardScaler()),\n",
       "                (&#x27;model&#x27;,\n",
       "                 LogisticRegression(l1_ratio=0.5, max_iter=5000,\n",
       "                                    penalty=&#x27;elasticnet&#x27;, solver=&#x27;saga&#x27;))])</pre></div></div></div><div class=\"sk-serial\"><div class=\"sk-item\"><div class=\"sk-estimator sk-toggleable\"><input class=\"sk-toggleable__control sk-hidden--visually\" id=\"sk-estimator-id-2\" type=\"checkbox\" ><label for=\"sk-estimator-id-2\" class=\"sk-toggleable__label sk-toggleable__label-arrow\">StandardScaler</label><div class=\"sk-toggleable__content\"><pre>StandardScaler()</pre></div></div></div><div class=\"sk-item\"><div class=\"sk-estimator sk-toggleable\"><input class=\"sk-toggleable__control sk-hidden--visually\" id=\"sk-estimator-id-3\" type=\"checkbox\" ><label for=\"sk-estimator-id-3\" class=\"sk-toggleable__label sk-toggleable__label-arrow\">LogisticRegression</label><div class=\"sk-toggleable__content\"><pre>LogisticRegression(l1_ratio=0.5, max_iter=5000, penalty=&#x27;elasticnet&#x27;,\n",
       "                   solver=&#x27;saga&#x27;)</pre></div></div></div></div></div></div></div>"
      ],
      "text/plain": [
       "Pipeline(steps=[('scale', StandardScaler()),\n",
       "                ('model',\n",
       "                 LogisticRegression(l1_ratio=0.5, max_iter=5000,\n",
       "                                    penalty='elasticnet', solver='saga'))])"
      ]
     },
     "execution_count": 43,
     "metadata": {},
     "output_type": "execute_result"
    }
   ],
   "source": [
    "model.fit(X_train, y_train.values.ravel())"
   ]
  },
  {
   "cell_type": "code",
   "execution_count": 44,
   "id": "af59f8c0",
   "metadata": {
    "execution": {
     "iopub.execute_input": "2025-07-30T14:11:47.370021Z",
     "iopub.status.busy": "2025-07-30T14:11:47.369474Z",
     "iopub.status.idle": "2025-07-30T14:11:47.373501Z",
     "shell.execute_reply": "2025-07-30T14:11:47.372707Z"
    },
    "papermill": {
     "duration": 0.017916,
     "end_time": "2025-07-30T14:11:47.374671",
     "exception": false,
     "start_time": "2025-07-30T14:11:47.356755",
     "status": "completed"
    },
    "tags": []
   },
   "outputs": [],
   "source": [
    "from fairness_multiverse.universe import predict_w_threshold"
   ]
  },
  {
   "cell_type": "code",
   "execution_count": 45,
   "id": "a7cf2e16",
   "metadata": {
    "execution": {
     "iopub.execute_input": "2025-07-30T14:11:47.405629Z",
     "iopub.status.busy": "2025-07-30T14:11:47.405117Z",
     "iopub.status.idle": "2025-07-30T14:11:47.668009Z",
     "shell.execute_reply": "2025-07-30T14:11:47.667128Z"
    },
    "papermill": {
     "duration": 0.277882,
     "end_time": "2025-07-30T14:11:47.669618",
     "exception": false,
     "start_time": "2025-07-30T14:11:47.391736",
     "status": "completed"
    },
    "tags": []
   },
   "outputs": [
    {
     "data": {
      "text/plain": [
       "0.8510756883290603"
      ]
     },
     "execution_count": 45,
     "metadata": {},
     "output_type": "execute_result"
    }
   ],
   "source": [
    "probs_test = model.predict_proba(X_test)\n",
    "\n",
    "'''\n",
    "Below code returns a boolean array (or binary 0/1 array depending on how it’s used) where each element \n",
    "is True if the probability of class 1 is greater than or equal to the threshold, and False otherwise.\n",
    "'''\n",
    "y_pred_default = predict_w_threshold(probs_test, 0.5)\n",
    "\n",
    "from sklearn.metrics import accuracy_score\n",
    "\n",
    "# Naive prediction\n",
    "accuracy_score(y_true = y_true, y_pred = y_pred_default)"
   ]
  },
  {
   "cell_type": "code",
   "execution_count": 46,
   "id": "081964c3",
   "metadata": {
    "execution": {
     "iopub.execute_input": "2025-07-30T14:11:47.722632Z",
     "iopub.status.busy": "2025-07-30T14:11:47.721948Z",
     "iopub.status.idle": "2025-07-30T14:11:47.894254Z",
     "shell.execute_reply": "2025-07-30T14:11:47.893421Z"
    },
    "papermill": {
     "duration": 0.187367,
     "end_time": "2025-07-30T14:11:47.895831",
     "exception": false,
     "start_time": "2025-07-30T14:11:47.708464",
     "status": "completed"
    },
    "tags": []
   },
   "outputs": [
    {
     "data": {
      "text/plain": [
       "array([0, 0, 0, ..., 0, 0, 0])"
      ]
     },
     "execution_count": 46,
     "metadata": {},
     "output_type": "execute_result"
    }
   ],
   "source": [
    "model.predict(X_test)"
   ]
  },
  {
   "cell_type": "markdown",
   "id": "56c9705b",
   "metadata": {
    "papermill": {
     "duration": 0.02255,
     "end_time": "2025-07-30T14:11:47.943800",
     "exception": false,
     "start_time": "2025-07-30T14:11:47.921250",
     "status": "completed"
    },
    "tags": []
   },
   "source": [
    "# Conformal Prediction"
   ]
  },
  {
   "cell_type": "code",
   "execution_count": 47,
   "id": "160ec6ff",
   "metadata": {
    "execution": {
     "iopub.execute_input": "2025-07-30T14:11:47.996619Z",
     "iopub.status.busy": "2025-07-30T14:11:47.995484Z",
     "iopub.status.idle": "2025-07-30T14:11:48.001739Z",
     "shell.execute_reply": "2025-07-30T14:11:48.000660Z"
    },
    "papermill": {
     "duration": 0.032973,
     "end_time": "2025-07-30T14:11:48.003590",
     "exception": false,
     "start_time": "2025-07-30T14:11:47.970617",
     "status": "completed"
    },
    "tags": []
   },
   "outputs": [],
   "source": [
    "# Miscoverage level for conformal prediction (10% allowed error rate => 90% target coverage)\n",
    "alpha = 0.1"
   ]
  },
  {
   "cell_type": "code",
   "execution_count": 48,
   "id": "eadf4555-3dd3-440e-8e35-f82a4ad9f855",
   "metadata": {
    "execution": {
     "iopub.execute_input": "2025-07-30T14:11:48.054878Z",
     "iopub.status.busy": "2025-07-30T14:11:48.054423Z",
     "iopub.status.idle": "2025-07-30T14:11:48.227642Z",
     "shell.execute_reply": "2025-07-30T14:11:48.226712Z"
    },
    "papermill": {
     "duration": 0.19984,
     "end_time": "2025-07-30T14:11:48.229604",
     "exception": false,
     "start_time": "2025-07-30T14:11:48.029764",
     "status": "completed"
    },
    "tags": []
   },
   "outputs": [],
   "source": [
    "probs_calib = model.predict_proba(X_calib)"
   ]
  },
  {
   "cell_type": "code",
   "execution_count": 49,
   "id": "2ed93547-6d5d-4983-9b36-1ecb300da49a",
   "metadata": {
    "execution": {
     "iopub.execute_input": "2025-07-30T14:11:48.286878Z",
     "iopub.status.busy": "2025-07-30T14:11:48.286224Z",
     "iopub.status.idle": "2025-07-30T14:11:48.292191Z",
     "shell.execute_reply": "2025-07-30T14:11:48.291303Z"
    },
    "papermill": {
     "duration": 0.032548,
     "end_time": "2025-07-30T14:11:48.293820",
     "exception": false,
     "start_time": "2025-07-30T14:11:48.261272",
     "status": "completed"
    },
    "tags": []
   },
   "outputs": [],
   "source": [
    "y_calib = y_calib.values.ravel().astype(int)"
   ]
  },
  {
   "cell_type": "code",
   "execution_count": 50,
   "id": "65d1320d-f588-4b38-9072-62af1ae97f7d",
   "metadata": {
    "execution": {
     "iopub.execute_input": "2025-07-30T14:11:48.341007Z",
     "iopub.status.busy": "2025-07-30T14:11:48.340240Z",
     "iopub.status.idle": "2025-07-30T14:11:48.348073Z",
     "shell.execute_reply": "2025-07-30T14:11:48.347177Z"
    },
    "papermill": {
     "duration": 0.032742,
     "end_time": "2025-07-30T14:11:48.349715",
     "exception": false,
     "start_time": "2025-07-30T14:11:48.316973",
     "status": "completed"
    },
    "tags": []
   },
   "outputs": [],
   "source": [
    "from fairness_multiverse.conformal import compute_nc_scores\n",
    "\n",
    "# Compute nonconformity scores on calibration set (1 - probability of true class)\n",
    "nc_scores = compute_nc_scores(probs_calib, y_calib)"
   ]
  },
  {
   "cell_type": "code",
   "execution_count": 51,
   "id": "df3b8ca3-53b7-43d5-9667-7c85da7aeda2",
   "metadata": {
    "execution": {
     "iopub.execute_input": "2025-07-30T14:11:48.404458Z",
     "iopub.status.busy": "2025-07-30T14:11:48.403658Z",
     "iopub.status.idle": "2025-07-30T14:11:48.409961Z",
     "shell.execute_reply": "2025-07-30T14:11:48.409132Z"
    },
    "papermill": {
     "duration": 0.034778,
     "end_time": "2025-07-30T14:11:48.411604",
     "exception": false,
     "start_time": "2025-07-30T14:11:48.376826",
     "status": "completed"
    },
    "tags": []
   },
   "outputs": [],
   "source": [
    "from fairness_multiverse.conformal import find_threshold\n",
    "\n",
    "# Find conformal threshold q_hat for the given alpha (split conformal method)\n",
    "q_hat = find_threshold(nc_scores, alpha)"
   ]
  },
  {
   "cell_type": "code",
   "execution_count": 52,
   "id": "4d29e6c1-0ef6-4aa4-b8fe-4fe79b0d033a",
   "metadata": {
    "execution": {
     "iopub.execute_input": "2025-07-30T14:11:48.465528Z",
     "iopub.status.busy": "2025-07-30T14:11:48.465221Z",
     "iopub.status.idle": "2025-07-30T14:11:48.471451Z",
     "shell.execute_reply": "2025-07-30T14:11:48.470596Z"
    },
    "papermill": {
     "duration": 0.034818,
     "end_time": "2025-07-30T14:11:48.473192",
     "exception": false,
     "start_time": "2025-07-30T14:11:48.438374",
     "status": "completed"
    },
    "tags": []
   },
   "outputs": [
    {
     "data": {
      "text/plain": [
       "0.6874478526186617"
      ]
     },
     "execution_count": 52,
     "metadata": {},
     "output_type": "execute_result"
    }
   ],
   "source": [
    "q_hat"
   ]
  },
  {
   "cell_type": "code",
   "execution_count": 53,
   "id": "92460794-cdac-4be2-ba28-f28c0515a6fb",
   "metadata": {
    "execution": {
     "iopub.execute_input": "2025-07-30T14:11:48.528302Z",
     "iopub.status.busy": "2025-07-30T14:11:48.527511Z",
     "iopub.status.idle": "2025-07-30T14:11:49.277790Z",
     "shell.execute_reply": "2025-07-30T14:11:49.277057Z"
    },
    "papermill": {
     "duration": 0.779711,
     "end_time": "2025-07-30T14:11:49.279661",
     "exception": false,
     "start_time": "2025-07-30T14:11:48.499950",
     "status": "completed"
    },
    "tags": []
   },
   "outputs": [],
   "source": [
    "from fairness_multiverse.conformal import predict_conformal_sets\n",
    "\n",
    "# Generate prediction sets for each test example\n",
    "pred_sets = predict_conformal_sets(model, X_test, q_hat)"
   ]
  },
  {
   "cell_type": "code",
   "execution_count": 54,
   "id": "d90c9a65-e6db-4f5d-80cd-e68fb7e46829",
   "metadata": {
    "execution": {
     "iopub.execute_input": "2025-07-30T14:11:49.333035Z",
     "iopub.status.busy": "2025-07-30T14:11:49.332564Z",
     "iopub.status.idle": "2025-07-30T14:11:49.337399Z",
     "shell.execute_reply": "2025-07-30T14:11:49.336670Z"
    },
    "papermill": {
     "duration": 0.034198,
     "end_time": "2025-07-30T14:11:49.338841",
     "exception": false,
     "start_time": "2025-07-30T14:11:49.304643",
     "status": "completed"
    },
    "tags": []
   },
   "outputs": [],
   "source": [
    "y_true = y_true.squeeze()"
   ]
  },
  {
   "cell_type": "code",
   "execution_count": 55,
   "id": "3a58a54a-1e68-46b9-927a-df01f18aebc8",
   "metadata": {
    "execution": {
     "iopub.execute_input": "2025-07-30T14:11:49.372220Z",
     "iopub.status.busy": "2025-07-30T14:11:49.371824Z",
     "iopub.status.idle": "2025-07-30T14:11:50.170672Z",
     "shell.execute_reply": "2025-07-30T14:11:50.169626Z"
    },
    "papermill": {
     "duration": 0.819449,
     "end_time": "2025-07-30T14:11:50.172846",
     "exception": false,
     "start_time": "2025-07-30T14:11:49.353397",
     "status": "completed"
    },
    "tags": []
   },
   "outputs": [],
   "source": [
    "from fairness_multiverse.conformal import evaluate_sets\n",
    "\n",
    "# Evaluate coverage and average set size on test data\n",
    "metrics = evaluate_sets(pred_sets, y_true)"
   ]
  },
  {
   "cell_type": "markdown",
   "id": "2b569c12-9aaa-4c88-98c9-bbcd0cf3ebb8",
   "metadata": {
    "papermill": {
     "duration": 0.027643,
     "end_time": "2025-07-30T14:11:50.229653",
     "exception": false,
     "start_time": "2025-07-30T14:11:50.202010",
     "status": "completed"
    },
    "tags": []
   },
   "source": [
    "# CP Metrics"
   ]
  },
  {
   "cell_type": "code",
   "execution_count": 56,
   "id": "5ce0a5cb-201f-45a0-ade5-94c7f0bd6095",
   "metadata": {
    "execution": {
     "iopub.execute_input": "2025-07-30T14:11:50.290090Z",
     "iopub.status.busy": "2025-07-30T14:11:50.289450Z",
     "iopub.status.idle": "2025-07-30T14:11:50.297193Z",
     "shell.execute_reply": "2025-07-30T14:11:50.296332Z"
    },
    "papermill": {
     "duration": 0.040045,
     "end_time": "2025-07-30T14:11:50.298922",
     "exception": false,
     "start_time": "2025-07-30T14:11:50.258877",
     "status": "completed"
    },
    "tags": []
   },
   "outputs": [
    {
     "data": {
      "text/plain": [
       "{'coverage': 0.9113142347564374, 'avg_size': 1.149515104224724}"
      ]
     },
     "execution_count": 56,
     "metadata": {},
     "output_type": "execute_result"
    }
   ],
   "source": [
    "metrics"
   ]
  },
  {
   "cell_type": "code",
   "execution_count": 57,
   "id": "9b9a838d-31c9-430b-ae14-12baee460d17",
   "metadata": {
    "execution": {
     "iopub.execute_input": "2025-07-30T14:11:50.358631Z",
     "iopub.status.busy": "2025-07-30T14:11:50.358166Z",
     "iopub.status.idle": "2025-07-30T14:11:50.364786Z",
     "shell.execute_reply": "2025-07-30T14:11:50.363874Z"
    },
    "papermill": {
     "duration": 0.038214,
     "end_time": "2025-07-30T14:11:50.366479",
     "exception": false,
     "start_time": "2025-07-30T14:11:50.328265",
     "status": "completed"
    },
    "tags": []
   },
   "outputs": [],
   "source": [
    "example_universe = universe.copy()\n",
    "universe_training_size = example_universe.get(\"training_size\")\n",
    "universe_scale = example_universe.get(\"scale\")\n",
    "universe_model = example_universe.get(\"model\")\n",
    "universe_exclude_features = example_universe.get(\"exclude_features\")\n",
    "universe_exclude_subgroups = example_universe.get(\"exclude_subgroups\")"
   ]
  },
  {
   "cell_type": "code",
   "execution_count": 58,
   "id": "f4b6a8ac-9dc0-4245-8a91-5b3b5999c4f9",
   "metadata": {
    "execution": {
     "iopub.execute_input": "2025-07-30T14:11:50.427108Z",
     "iopub.status.busy": "2025-07-30T14:11:50.426443Z",
     "iopub.status.idle": "2025-07-30T14:11:50.432824Z",
     "shell.execute_reply": "2025-07-30T14:11:50.431870Z"
    },
    "papermill": {
     "duration": 0.038571,
     "end_time": "2025-07-30T14:11:50.434511",
     "exception": false,
     "start_time": "2025-07-30T14:11:50.395940",
     "status": "completed"
    },
    "tags": []
   },
   "outputs": [],
   "source": [
    "cp_metrics_dict = {\n",
    "    \"universe_id\": [universe_id],\n",
    "    \"universe_training_size\": [universe_training_size],\n",
    "    \"universe_scale\": [universe_scale],\n",
    "    \"universe_model\": [universe_model],\n",
    "    \"universe_exclude_features\": [universe_exclude_features],\n",
    "    \"universe_exclude_subgroups\": [universe_exclude_subgroups],\n",
    "    \"q_hat\": [q_hat],\n",
    "    \"coverage\": [metrics[\"coverage\"]],\n",
    "    \"avg_size\": [metrics[\"avg_size\"]],\n",
    "}"
   ]
  },
  {
   "cell_type": "code",
   "execution_count": 59,
   "id": "908acbb1-0371-4915-85ca-3fa520d2efe2",
   "metadata": {
    "execution": {
     "iopub.execute_input": "2025-07-30T14:11:50.492851Z",
     "iopub.status.busy": "2025-07-30T14:11:50.492256Z",
     "iopub.status.idle": "2025-07-30T14:11:50.500863Z",
     "shell.execute_reply": "2025-07-30T14:11:50.499744Z"
    },
    "papermill": {
     "duration": 0.038901,
     "end_time": "2025-07-30T14:11:50.502627",
     "exception": false,
     "start_time": "2025-07-30T14:11:50.463726",
     "status": "completed"
    },
    "tags": []
   },
   "outputs": [
    {
     "data": {
      "text/plain": [
       "{'universe_id': ['699dd70a6b9bfded35d39be70f7d5bca'],\n",
       " 'universe_training_size': ['5k'],\n",
       " 'universe_scale': ['scale'],\n",
       " 'universe_model': ['elasticnet'],\n",
       " 'universe_exclude_features': ['age'],\n",
       " 'universe_exclude_subgroups': ['keep-all'],\n",
       " 'q_hat': [0.6874478526186617],\n",
       " 'coverage': [0.9113142347564374],\n",
       " 'avg_size': [1.149515104224724]}"
      ]
     },
     "execution_count": 59,
     "metadata": {},
     "output_type": "execute_result"
    }
   ],
   "source": [
    "cp_metrics_dict"
   ]
  },
  {
   "cell_type": "code",
   "execution_count": 60,
   "id": "33007efc-14e9-4ec6-97ac-56a455c82265",
   "metadata": {
    "execution": {
     "iopub.execute_input": "2025-07-30T14:11:50.560146Z",
     "iopub.status.busy": "2025-07-30T14:11:50.559522Z",
     "iopub.status.idle": "2025-07-30T14:11:50.565611Z",
     "shell.execute_reply": "2025-07-30T14:11:50.564698Z"
    },
    "papermill": {
     "duration": 0.036411,
     "end_time": "2025-07-30T14:11:50.567200",
     "exception": false,
     "start_time": "2025-07-30T14:11:50.530789",
     "status": "completed"
    },
    "tags": []
   },
   "outputs": [],
   "source": [
    "cp_metrics_df = pd.DataFrame(cp_metrics_dict)"
   ]
  },
  {
   "cell_type": "code",
   "execution_count": 61,
   "id": "db12611b-57b2-4910-b9d0-355adfd6e7bf",
   "metadata": {
    "execution": {
     "iopub.execute_input": "2025-07-30T14:11:50.624138Z",
     "iopub.status.busy": "2025-07-30T14:11:50.623823Z",
     "iopub.status.idle": "2025-07-30T14:11:50.639907Z",
     "shell.execute_reply": "2025-07-30T14:11:50.639025Z"
    },
    "papermill": {
     "duration": 0.04634,
     "end_time": "2025-07-30T14:11:50.641404",
     "exception": false,
     "start_time": "2025-07-30T14:11:50.595064",
     "status": "completed"
    },
    "tags": []
   },
   "outputs": [
    {
     "data": {
      "text/html": [
       "<div>\n",
       "<style scoped>\n",
       "    .dataframe tbody tr th:only-of-type {\n",
       "        vertical-align: middle;\n",
       "    }\n",
       "\n",
       "    .dataframe tbody tr th {\n",
       "        vertical-align: top;\n",
       "    }\n",
       "\n",
       "    .dataframe thead th {\n",
       "        text-align: right;\n",
       "    }\n",
       "</style>\n",
       "<table border=\"1\" class=\"dataframe\">\n",
       "  <thead>\n",
       "    <tr style=\"text-align: right;\">\n",
       "      <th></th>\n",
       "      <th>universe_id</th>\n",
       "      <th>universe_training_size</th>\n",
       "      <th>universe_scale</th>\n",
       "      <th>universe_model</th>\n",
       "      <th>universe_exclude_features</th>\n",
       "      <th>universe_exclude_subgroups</th>\n",
       "      <th>q_hat</th>\n",
       "      <th>coverage</th>\n",
       "      <th>avg_size</th>\n",
       "    </tr>\n",
       "  </thead>\n",
       "  <tbody>\n",
       "    <tr>\n",
       "      <th>0</th>\n",
       "      <td>699dd70a6b9bfded35d39be70f7d5bca</td>\n",
       "      <td>5k</td>\n",
       "      <td>scale</td>\n",
       "      <td>elasticnet</td>\n",
       "      <td>age</td>\n",
       "      <td>keep-all</td>\n",
       "      <td>0.687448</td>\n",
       "      <td>0.911314</td>\n",
       "      <td>1.149515</td>\n",
       "    </tr>\n",
       "  </tbody>\n",
       "</table>\n",
       "</div>"
      ],
      "text/plain": [
       "                        universe_id universe_training_size universe_scale  \\\n",
       "0  699dd70a6b9bfded35d39be70f7d5bca                     5k          scale   \n",
       "\n",
       "  universe_model universe_exclude_features universe_exclude_subgroups  \\\n",
       "0     elasticnet                       age                   keep-all   \n",
       "\n",
       "      q_hat  coverage  avg_size  \n",
       "0  0.687448  0.911314  1.149515  "
      ]
     },
     "execution_count": 61,
     "metadata": {},
     "output_type": "execute_result"
    }
   ],
   "source": [
    "cp_metrics_df"
   ]
  },
  {
   "cell_type": "code",
   "execution_count": 62,
   "id": "b7fbde55-a0a1-47e4-9af6-fe4a17fa8c61",
   "metadata": {
    "execution": {
     "iopub.execute_input": "2025-07-30T14:11:50.700322Z",
     "iopub.status.busy": "2025-07-30T14:11:50.699652Z",
     "iopub.status.idle": "2025-07-30T14:11:50.704688Z",
     "shell.execute_reply": "2025-07-30T14:11:50.703812Z"
    },
    "papermill": {
     "duration": 0.036631,
     "end_time": "2025-07-30T14:11:50.706471",
     "exception": false,
     "start_time": "2025-07-30T14:11:50.669840",
     "status": "completed"
    },
    "tags": []
   },
   "outputs": [],
   "source": [
    "# Conditional Coverage & looking at subgroups"
   ]
  },
  {
   "cell_type": "code",
   "execution_count": 63,
   "id": "027ae886-68dd-4141-96c7-805a5450e1ef",
   "metadata": {
    "execution": {
     "iopub.execute_input": "2025-07-30T14:11:50.767444Z",
     "iopub.status.busy": "2025-07-30T14:11:50.766788Z",
     "iopub.status.idle": "2025-07-30T14:11:51.024827Z",
     "shell.execute_reply": "2025-07-30T14:11:51.023912Z"
    },
    "papermill": {
     "duration": 0.290488,
     "end_time": "2025-07-30T14:11:51.026743",
     "exception": false,
     "start_time": "2025-07-30T14:11:50.736255",
     "status": "completed"
    },
    "tags": []
   },
   "outputs": [],
   "source": [
    "from fairness_multiverse.conformal import build_cp_groups\n",
    "\n",
    "cp_groups_df = build_cp_groups(pred_sets, y_true, X_test.index, org_test)\n",
    "#needs universe_id and setting"
   ]
  },
  {
   "cell_type": "code",
   "execution_count": 64,
   "id": "01d5802c-663a-4d1f-9d69-e036faaffbf7",
   "metadata": {
    "execution": {
     "iopub.execute_input": "2025-07-30T14:11:51.078614Z",
     "iopub.status.busy": "2025-07-30T14:11:51.077954Z",
     "iopub.status.idle": "2025-07-30T14:11:51.083587Z",
     "shell.execute_reply": "2025-07-30T14:11:51.082721Z"
    },
    "papermill": {
     "duration": 0.031856,
     "end_time": "2025-07-30T14:11:51.085100",
     "exception": false,
     "start_time": "2025-07-30T14:11:51.053244",
     "status": "completed"
    },
    "tags": []
   },
   "outputs": [],
   "source": [
    "#delete\n",
    "#cp_groups_df"
   ]
  },
  {
   "cell_type": "code",
   "execution_count": 65,
   "id": "fa424af1-d1eb-443d-b717-2d279ada8408",
   "metadata": {
    "execution": {
     "iopub.execute_input": "2025-07-30T14:11:51.134651Z",
     "iopub.status.busy": "2025-07-30T14:11:51.134194Z",
     "iopub.status.idle": "2025-07-30T14:11:51.139364Z",
     "shell.execute_reply": "2025-07-30T14:11:51.138505Z"
    },
    "papermill": {
     "duration": 0.03211,
     "end_time": "2025-07-30T14:11:51.140931",
     "exception": false,
     "start_time": "2025-07-30T14:11:51.108821",
     "status": "completed"
    },
    "tags": []
   },
   "outputs": [],
   "source": [
    "#delete\n",
    "#percentage = (cp_groups_df['nongerman_female'] == 1).mean() * 100\n",
    "#print(percentage)\n"
   ]
  },
  {
   "cell_type": "code",
   "execution_count": 66,
   "id": "6cbdab96-b2b2-45af-ad54-d0516db2e28d",
   "metadata": {
    "execution": {
     "iopub.execute_input": "2025-07-30T14:11:51.191336Z",
     "iopub.status.busy": "2025-07-30T14:11:51.190846Z",
     "iopub.status.idle": "2025-07-30T14:11:52.787234Z",
     "shell.execute_reply": "2025-07-30T14:11:52.786071Z"
    },
    "papermill": {
     "duration": 1.623708,
     "end_time": "2025-07-30T14:11:52.789258",
     "exception": false,
     "start_time": "2025-07-30T14:11:51.165550",
     "status": "completed"
    },
    "tags": []
   },
   "outputs": [],
   "source": [
    "# Define covered = 1 if true_label is in the predicted set\n",
    "cp_groups_df['covered'] = cp_groups_df.apply(\n",
    "    lambda r: int(r['true_label'] in r['pred_set']),\n",
    "    axis=1\n",
    ")"
   ]
  },
  {
   "cell_type": "code",
   "execution_count": 67,
   "id": "338ff529-1a6b-4b87-a931-8e4788d52aad",
   "metadata": {
    "execution": {
     "iopub.execute_input": "2025-07-30T14:11:52.831672Z",
     "iopub.status.busy": "2025-07-30T14:11:52.831297Z",
     "iopub.status.idle": "2025-07-30T14:11:52.836221Z",
     "shell.execute_reply": "2025-07-30T14:11:52.835210Z"
    },
    "papermill": {
     "duration": 0.022932,
     "end_time": "2025-07-30T14:11:52.837800",
     "exception": false,
     "start_time": "2025-07-30T14:11:52.814868",
     "status": "completed"
    },
    "tags": []
   },
   "outputs": [],
   "source": [
    "#cp_groups_df"
   ]
  },
  {
   "cell_type": "code",
   "execution_count": 68,
   "id": "90032e27-66df-4540-9169-4e89cfbaa758",
   "metadata": {
    "execution": {
     "iopub.execute_input": "2025-07-30T14:11:52.869404Z",
     "iopub.status.busy": "2025-07-30T14:11:52.868827Z",
     "iopub.status.idle": "2025-07-30T14:11:52.881760Z",
     "shell.execute_reply": "2025-07-30T14:11:52.880786Z"
    },
    "papermill": {
     "duration": 0.029956,
     "end_time": "2025-07-30T14:11:52.883477",
     "exception": false,
     "start_time": "2025-07-30T14:11:52.853521",
     "status": "completed"
    },
    "tags": []
   },
   "outputs": [],
   "source": [
    "subgroups = ['frau1','nongerman','nongerman_male','nongerman_female']\n",
    "\n",
    "# Conditional coverage for subgroup==1\n",
    "cond_coverage = {\n",
    "    g: cp_groups_df.loc[cp_groups_df[g]==1, 'covered'].mean()\n",
    "    for g in subgroups\n",
    "}"
   ]
  },
  {
   "cell_type": "code",
   "execution_count": 69,
   "id": "1e348fb1-b9c3-45bc-ba23-f016827a7e0d",
   "metadata": {
    "execution": {
     "iopub.execute_input": "2025-07-30T14:11:52.938613Z",
     "iopub.status.busy": "2025-07-30T14:11:52.938216Z",
     "iopub.status.idle": "2025-07-30T14:11:52.945208Z",
     "shell.execute_reply": "2025-07-30T14:11:52.944461Z"
    },
    "papermill": {
     "duration": 0.03675,
     "end_time": "2025-07-30T14:11:52.946714",
     "exception": false,
     "start_time": "2025-07-30T14:11:52.909964",
     "status": "completed"
    },
    "tags": []
   },
   "outputs": [
    {
     "data": {
      "text/plain": [
       "{'frau1': 0.9085321471896483,\n",
       " 'nongerman': 0.9093920170661877,\n",
       " 'nongerman_male': 0.9262361523912456,\n",
       " 'nongerman_female': 0.8815201192250373}"
      ]
     },
     "execution_count": 69,
     "metadata": {},
     "output_type": "execute_result"
    }
   ],
   "source": [
    "cond_coverage"
   ]
  },
  {
   "cell_type": "code",
   "execution_count": 70,
   "id": "f5093324-c3dd-4d63-bc4c-8d945e5c8bbb",
   "metadata": {
    "execution": {
     "iopub.execute_input": "2025-07-30T14:11:52.986521Z",
     "iopub.status.busy": "2025-07-30T14:11:52.986136Z",
     "iopub.status.idle": "2025-07-30T14:11:52.993600Z",
     "shell.execute_reply": "2025-07-30T14:11:52.992798Z"
    },
    "papermill": {
     "duration": 0.029995,
     "end_time": "2025-07-30T14:11:52.995092",
     "exception": false,
     "start_time": "2025-07-30T14:11:52.965097",
     "status": "completed"
    },
    "tags": []
   },
   "outputs": [],
   "source": [
    "for subgroup, cov in cond_coverage.items():\n",
    "    cp_metrics_df[f\"cov_{subgroup}\"] = cov"
   ]
  },
  {
   "cell_type": "code",
   "execution_count": 71,
   "id": "6e872e10-dbe5-49e8-b554-5030c98ff75d",
   "metadata": {
    "execution": {
     "iopub.execute_input": "2025-07-30T14:11:53.050619Z",
     "iopub.status.busy": "2025-07-30T14:11:53.050273Z",
     "iopub.status.idle": "2025-07-30T14:11:53.063284Z",
     "shell.execute_reply": "2025-07-30T14:11:53.062558Z"
    },
    "papermill": {
     "duration": 0.043034,
     "end_time": "2025-07-30T14:11:53.064800",
     "exception": false,
     "start_time": "2025-07-30T14:11:53.021766",
     "status": "completed"
    },
    "tags": []
   },
   "outputs": [
    {
     "data": {
      "text/html": [
       "<div>\n",
       "<style scoped>\n",
       "    .dataframe tbody tr th:only-of-type {\n",
       "        vertical-align: middle;\n",
       "    }\n",
       "\n",
       "    .dataframe tbody tr th {\n",
       "        vertical-align: top;\n",
       "    }\n",
       "\n",
       "    .dataframe thead th {\n",
       "        text-align: right;\n",
       "    }\n",
       "</style>\n",
       "<table border=\"1\" class=\"dataframe\">\n",
       "  <thead>\n",
       "    <tr style=\"text-align: right;\">\n",
       "      <th></th>\n",
       "      <th>universe_id</th>\n",
       "      <th>universe_training_size</th>\n",
       "      <th>universe_scale</th>\n",
       "      <th>universe_model</th>\n",
       "      <th>universe_exclude_features</th>\n",
       "      <th>universe_exclude_subgroups</th>\n",
       "      <th>q_hat</th>\n",
       "      <th>coverage</th>\n",
       "      <th>avg_size</th>\n",
       "      <th>cov_frau1</th>\n",
       "      <th>cov_nongerman</th>\n",
       "      <th>cov_nongerman_male</th>\n",
       "      <th>cov_nongerman_female</th>\n",
       "    </tr>\n",
       "  </thead>\n",
       "  <tbody>\n",
       "    <tr>\n",
       "      <th>0</th>\n",
       "      <td>699dd70a6b9bfded35d39be70f7d5bca</td>\n",
       "      <td>5k</td>\n",
       "      <td>scale</td>\n",
       "      <td>elasticnet</td>\n",
       "      <td>age</td>\n",
       "      <td>keep-all</td>\n",
       "      <td>0.687448</td>\n",
       "      <td>0.911314</td>\n",
       "      <td>1.149515</td>\n",
       "      <td>0.908532</td>\n",
       "      <td>0.909392</td>\n",
       "      <td>0.926236</td>\n",
       "      <td>0.88152</td>\n",
       "    </tr>\n",
       "  </tbody>\n",
       "</table>\n",
       "</div>"
      ],
      "text/plain": [
       "                        universe_id universe_training_size universe_scale  \\\n",
       "0  699dd70a6b9bfded35d39be70f7d5bca                     5k          scale   \n",
       "\n",
       "  universe_model universe_exclude_features universe_exclude_subgroups  \\\n",
       "0     elasticnet                       age                   keep-all   \n",
       "\n",
       "      q_hat  coverage  avg_size  cov_frau1  cov_nongerman  cov_nongerman_male  \\\n",
       "0  0.687448  0.911314  1.149515   0.908532       0.909392            0.926236   \n",
       "\n",
       "   cov_nongerman_female  \n",
       "0               0.88152  "
      ]
     },
     "execution_count": 71,
     "metadata": {},
     "output_type": "execute_result"
    }
   ],
   "source": [
    "cp_metrics_df"
   ]
  },
  {
   "cell_type": "markdown",
   "id": "33774451",
   "metadata": {
    "papermill": {
     "duration": 0.026773,
     "end_time": "2025-07-30T14:11:53.118026",
     "exception": false,
     "start_time": "2025-07-30T14:11:53.091253",
     "status": "completed"
    },
    "tags": []
   },
   "source": [
    "# (Fairness) Metrics"
   ]
  },
  {
   "cell_type": "code",
   "execution_count": 72,
   "id": "debc5d62",
   "metadata": {
    "execution": {
     "iopub.execute_input": "2025-07-30T14:11:53.172743Z",
     "iopub.status.busy": "2025-07-30T14:11:53.172154Z",
     "iopub.status.idle": "2025-07-30T14:11:53.195238Z",
     "shell.execute_reply": "2025-07-30T14:11:53.194332Z"
    },
    "papermill": {
     "duration": 0.054403,
     "end_time": "2025-07-30T14:11:53.197248",
     "exception": false,
     "start_time": "2025-07-30T14:11:53.142845",
     "status": "completed"
    },
    "tags": []
   },
   "outputs": [],
   "source": [
    "# do I need to include maxdeutsch1.missing?\n",
    "\n",
    "import numpy as np\n",
    "\n",
    "colname_to_bin = \"maxdeutsch1\"\n",
    "majority_value = org_train[colname_to_bin].mode()[0]\n",
    "\n",
    "org_test[\"majmin\"] = np.where(org_test[colname_to_bin] == majority_value, \"majority\", \"minority\")"
   ]
  },
  {
   "cell_type": "code",
   "execution_count": 73,
   "id": "06a50de5",
   "metadata": {
    "execution": {
     "iopub.execute_input": "2025-07-30T14:11:53.252332Z",
     "iopub.status.busy": "2025-07-30T14:11:53.251327Z",
     "iopub.status.idle": "2025-07-30T14:11:55.644815Z",
     "shell.execute_reply": "2025-07-30T14:11:55.643691Z"
    },
    "papermill": {
     "duration": 2.421641,
     "end_time": "2025-07-30T14:11:55.646644",
     "exception": false,
     "start_time": "2025-07-30T14:11:53.225003",
     "status": "completed"
    },
    "tags": []
   },
   "outputs": [],
   "source": [
    "example_universe = universe.copy()\n",
    "example_universe[\"cutoff\"] = example_universe[\"cutoff\"][0]\n",
    "example_universe[\"eval_fairness_grouping\"] = example_universe[\"eval_fairness_grouping\"][0]\n",
    "fairness_dict, metric_frame = universe_analysis.compute_metrics(\n",
    "    example_universe,\n",
    "    y_pred_prob=probs_test,\n",
    "    y_test=y_true,\n",
    "    org_test=org_test,\n",
    ")"
   ]
  },
  {
   "cell_type": "markdown",
   "id": "f95d4e02",
   "metadata": {
    "papermill": {
     "duration": 0.026912,
     "end_time": "2025-07-30T14:11:55.702137",
     "exception": false,
     "start_time": "2025-07-30T14:11:55.675225",
     "status": "completed"
    },
    "tags": []
   },
   "source": [
    "# Overall"
   ]
  },
  {
   "cell_type": "markdown",
   "id": "bdee4871",
   "metadata": {
    "papermill": {
     "duration": 0.025585,
     "end_time": "2025-07-30T14:11:55.755669",
     "exception": false,
     "start_time": "2025-07-30T14:11:55.730084",
     "status": "completed"
    },
    "tags": []
   },
   "source": [
    "Fairness\n",
    "Main fairness target: Equalized Odds. Seems to be a better fit than equal opportunity, since we're not only interested in Y = 1. Seems to be a better fit than demographic parity, since we also care about accuracy, not just equal distribution of preds.\n",
    "\n",
    "Pick column for computation of fairness metrics\n",
    "\n",
    "Performance\n",
    "Overall performance measures, most interesting in relation to the measures split by group below"
   ]
  },
  {
   "cell_type": "code",
   "execution_count": 74,
   "id": "c4e067c6",
   "metadata": {
    "execution": {
     "iopub.execute_input": "2025-07-30T14:11:55.811390Z",
     "iopub.status.busy": "2025-07-30T14:11:55.810483Z",
     "iopub.status.idle": "2025-07-30T14:11:55.819721Z",
     "shell.execute_reply": "2025-07-30T14:11:55.818629Z"
    },
    "papermill": {
     "duration": 0.038434,
     "end_time": "2025-07-30T14:11:55.821463",
     "exception": false,
     "start_time": "2025-07-30T14:11:55.783029",
     "status": "completed"
    },
    "tags": []
   },
   "outputs": [
    {
     "data": {
      "text/plain": [
       "accuracy                   0.223375\n",
       "balanced accuracy          0.546393\n",
       "f1                         0.244734\n",
       "precision                  0.139809\n",
       "false positive rate        0.888097\n",
       "false negative rate        0.019117\n",
       "selection rate             0.900000\n",
       "count                  89710.000000\n",
       "dtype: float64"
      ]
     },
     "execution_count": 74,
     "metadata": {},
     "output_type": "execute_result"
    }
   ],
   "source": [
    "metric_frame.overall"
   ]
  },
  {
   "cell_type": "markdown",
   "id": "e968fe9d",
   "metadata": {
    "papermill": {
     "duration": 0.02501,
     "end_time": "2025-07-30T14:11:55.875705",
     "exception": false,
     "start_time": "2025-07-30T14:11:55.850695",
     "status": "completed"
    },
    "tags": []
   },
   "source": [
    "By Group"
   ]
  },
  {
   "cell_type": "code",
   "execution_count": 75,
   "id": "ec325bce",
   "metadata": {
    "execution": {
     "iopub.execute_input": "2025-07-30T14:11:55.930447Z",
     "iopub.status.busy": "2025-07-30T14:11:55.929721Z",
     "iopub.status.idle": "2025-07-30T14:11:55.948742Z",
     "shell.execute_reply": "2025-07-30T14:11:55.947733Z"
    },
    "papermill": {
     "duration": 0.047982,
     "end_time": "2025-07-30T14:11:55.950524",
     "exception": false,
     "start_time": "2025-07-30T14:11:55.902542",
     "status": "completed"
    },
    "tags": []
   },
   "outputs": [
    {
     "data": {
      "text/html": [
       "<div>\n",
       "<style scoped>\n",
       "    .dataframe tbody tr th:only-of-type {\n",
       "        vertical-align: middle;\n",
       "    }\n",
       "\n",
       "    .dataframe tbody tr th {\n",
       "        vertical-align: top;\n",
       "    }\n",
       "\n",
       "    .dataframe thead th {\n",
       "        text-align: right;\n",
       "    }\n",
       "</style>\n",
       "<table border=\"1\" class=\"dataframe\">\n",
       "  <thead>\n",
       "    <tr style=\"text-align: right;\">\n",
       "      <th></th>\n",
       "      <th>accuracy</th>\n",
       "      <th>balanced accuracy</th>\n",
       "      <th>f1</th>\n",
       "      <th>precision</th>\n",
       "      <th>false positive rate</th>\n",
       "      <th>false negative rate</th>\n",
       "      <th>selection rate</th>\n",
       "      <th>count</th>\n",
       "    </tr>\n",
       "    <tr>\n",
       "      <th>majmin</th>\n",
       "      <th></th>\n",
       "      <th></th>\n",
       "      <th></th>\n",
       "      <th></th>\n",
       "      <th></th>\n",
       "      <th></th>\n",
       "      <th></th>\n",
       "      <th></th>\n",
       "    </tr>\n",
       "  </thead>\n",
       "  <tbody>\n",
       "    <tr>\n",
       "      <th>majority</th>\n",
       "      <td>0.244600</td>\n",
       "      <td>0.556120</td>\n",
       "      <td>0.255228</td>\n",
       "      <td>0.146730</td>\n",
       "      <td>0.867300</td>\n",
       "      <td>0.020460</td>\n",
       "      <td>0.882131</td>\n",
       "      <td>69170.0</td>\n",
       "    </tr>\n",
       "    <tr>\n",
       "      <th>minority</th>\n",
       "      <td>0.151899</td>\n",
       "      <td>0.514631</td>\n",
       "      <td>0.211408</td>\n",
       "      <td>0.118396</td>\n",
       "      <td>0.956802</td>\n",
       "      <td>0.013936</td>\n",
       "      <td>0.960175</td>\n",
       "      <td>20540.0</td>\n",
       "    </tr>\n",
       "  </tbody>\n",
       "</table>\n",
       "</div>"
      ],
      "text/plain": [
       "          accuracy  balanced accuracy        f1  precision  \\\n",
       "majmin                                                       \n",
       "majority  0.244600           0.556120  0.255228   0.146730   \n",
       "minority  0.151899           0.514631  0.211408   0.118396   \n",
       "\n",
       "          false positive rate  false negative rate  selection rate    count  \n",
       "majmin                                                                       \n",
       "majority             0.867300             0.020460        0.882131  69170.0  \n",
       "minority             0.956802             0.013936        0.960175  20540.0  "
      ]
     },
     "execution_count": 75,
     "metadata": {},
     "output_type": "execute_result"
    }
   ],
   "source": [
    "metric_frame.by_group"
   ]
  },
  {
   "cell_type": "code",
   "execution_count": 76,
   "id": "a9ddbe63",
   "metadata": {
    "execution": {
     "iopub.execute_input": "2025-07-30T14:11:56.012637Z",
     "iopub.status.busy": "2025-07-30T14:11:56.011662Z",
     "iopub.status.idle": "2025-07-30T14:11:58.488386Z",
     "shell.execute_reply": "2025-07-30T14:11:58.487689Z"
    },
    "papermill": {
     "duration": 2.508389,
     "end_time": "2025-07-30T14:11:58.489677",
     "exception": false,
     "start_time": "2025-07-30T14:11:55.981288",
     "status": "completed"
    },
    "tags": []
   },
   "outputs": [
    {
     "data": {
      "text/plain": [
       "array([[<Axes: title={'center': 'accuracy'}, xlabel='majmin'>,\n",
       "        <Axes: title={'center': 'balanced accuracy'}, xlabel='majmin'>,\n",
       "        <Axes: title={'center': 'f1'}, xlabel='majmin'>],\n",
       "       [<Axes: title={'center': 'precision'}, xlabel='majmin'>,\n",
       "        <Axes: title={'center': 'false positive rate'}, xlabel='majmin'>,\n",
       "        <Axes: title={'center': 'false negative rate'}, xlabel='majmin'>],\n",
       "       [<Axes: title={'center': 'selection rate'}, xlabel='majmin'>,\n",
       "        <Axes: title={'center': 'count'}, xlabel='majmin'>,\n",
       "        <Axes: xlabel='majmin'>]], dtype=object)"
      ]
     },
     "execution_count": 76,
     "metadata": {},
     "output_type": "execute_result"
    },
    {
     "data": {
      "image/png": "[encoded data removed]",
      "text/plain": [
       "<Figure size 1200x800 with 9 Axes>"
      ]
     },
     "metadata": {},
     "output_type": "display_data"
    }
   ],
   "source": [
    "# In a graphic\n",
    "metric_frame.by_group.plot.bar(\n",
    "    subplots=True,\n",
    "    layout=[3, 3],\n",
    "    legend=False,\n",
    "    figsize=[12, 8],\n",
    "    title=\"Show all metrics\",\n",
    ")"
   ]
  },
  {
   "cell_type": "markdown",
   "id": "f57a0bac",
   "metadata": {
    "papermill": {
     "duration": 0.015669,
     "end_time": "2025-07-30T14:11:58.523158",
     "exception": false,
     "start_time": "2025-07-30T14:11:58.507489",
     "status": "completed"
    },
    "tags": []
   },
   "source": [
    "# Final Output"
   ]
  },
  {
   "cell_type": "code",
   "execution_count": 77,
   "id": "96d280a3",
   "metadata": {
    "execution": {
     "iopub.execute_input": "2025-07-30T14:11:58.562435Z",
     "iopub.status.busy": "2025-07-30T14:11:58.561805Z",
     "iopub.status.idle": "2025-07-30T14:11:58.570770Z",
     "shell.execute_reply": "2025-07-30T14:11:58.569722Z"
    },
    "papermill": {
     "duration": 0.034445,
     "end_time": "2025-07-30T14:11:58.572441",
     "exception": false,
     "start_time": "2025-07-30T14:11:58.537996",
     "status": "completed"
    },
    "tags": []
   },
   "outputs": [
    {
     "data": {
      "text/plain": [
       "4"
      ]
     },
     "execution_count": 77,
     "metadata": {},
     "output_type": "execute_result"
    }
   ],
   "source": [
    "sub_universes = universe_analysis.generate_sub_universes()\n",
    "len(sub_universes)"
   ]
  },
  {
   "cell_type": "code",
   "execution_count": 78,
   "id": "92adf7ba",
   "metadata": {
    "execution": {
     "iopub.execute_input": "2025-07-30T14:11:58.636153Z",
     "iopub.status.busy": "2025-07-30T14:11:58.635412Z",
     "iopub.status.idle": "2025-07-30T14:11:58.641778Z",
     "shell.execute_reply": "2025-07-30T14:11:58.640754Z"
    },
    "papermill": {
     "duration": 0.04051,
     "end_time": "2025-07-30T14:11:58.643609",
     "exception": false,
     "start_time": "2025-07-30T14:11:58.603099",
     "status": "completed"
    },
    "tags": []
   },
   "outputs": [],
   "source": [
    "def filter_sub_universe_data(sub_universe, org_test):\n",
    "    # Keep all rows — no filtering\n",
    "    keep_rows_mask = np.ones(org_test.shape[0], dtype=bool)\n",
    "\n",
    "    print(f\"[INFO] Keeping all rows: {keep_rows_mask.sum()} rows retained.\")\n",
    "    return keep_rows_mask"
   ]
  },
  {
   "cell_type": "code",
   "execution_count": 79,
   "id": "4a759155",
   "metadata": {
    "execution": {
     "iopub.execute_input": "2025-07-30T14:11:58.708370Z",
     "iopub.status.busy": "2025-07-30T14:11:58.707451Z",
     "iopub.status.idle": "2025-07-30T14:12:08.921852Z",
     "shell.execute_reply": "2025-07-30T14:12:08.920785Z"
    },
    "papermill": {
     "duration": 10.247616,
     "end_time": "2025-07-30T14:12:08.923589",
     "exception": false,
     "start_time": "2025-07-30T14:11:58.675973",
     "status": "completed"
    },
    "tags": []
   },
   "outputs": [
    {
     "name": "stdout",
     "output_type": "stream",
     "text": [
      "Stopping execution_time clock.\n",
      "[INFO] Keeping all rows: 89710 rows retained.\n"
     ]
    },
    {
     "name": "stdout",
     "output_type": "stream",
     "text": [
      "[INFO] Keeping all rows: 89710 rows retained.\n"
     ]
    },
    {
     "name": "stdout",
     "output_type": "stream",
     "text": [
      "[INFO] Keeping all rows: 89710 rows retained.\n"
     ]
    },
    {
     "name": "stdout",
     "output_type": "stream",
     "text": [
      "[INFO] Keeping all rows: 89710 rows retained.\n"
     ]
    },
    {
     "data": {
      "text/html": [
       "<div>\n",
       "<style scoped>\n",
       "    .dataframe tbody tr th:only-of-type {\n",
       "        vertical-align: middle;\n",
       "    }\n",
       "\n",
       "    .dataframe tbody tr th {\n",
       "        vertical-align: top;\n",
       "    }\n",
       "\n",
       "    .dataframe thead th {\n",
       "        text-align: right;\n",
       "    }\n",
       "</style>\n",
       "<table border=\"1\" class=\"dataframe\">\n",
       "  <thead>\n",
       "    <tr style=\"text-align: right;\">\n",
       "      <th></th>\n",
       "      <th>run_no</th>\n",
       "      <th>universe_id</th>\n",
       "      <th>universe_settings</th>\n",
       "      <th>execution_time</th>\n",
       "      <th>test_size_n</th>\n",
       "      <th>test_size_frac</th>\n",
       "      <th>fair_main_equalized_odds_difference</th>\n",
       "      <th>fair_main_equalized_odds_ratio</th>\n",
       "      <th>fair_main_demographic_parity_difference</th>\n",
       "      <th>fair_main_demographic_parity_ratio</th>\n",
       "      <th>...</th>\n",
       "      <th>perf_grp_precision_0</th>\n",
       "      <th>perf_grp_precision_1</th>\n",
       "      <th>perf_grp_false positive rate_0</th>\n",
       "      <th>perf_grp_false positive rate_1</th>\n",
       "      <th>perf_grp_false negative rate_0</th>\n",
       "      <th>perf_grp_false negative rate_1</th>\n",
       "      <th>perf_grp_selection rate_0</th>\n",
       "      <th>perf_grp_selection rate_1</th>\n",
       "      <th>perf_grp_count_0</th>\n",
       "      <th>perf_grp_count_1</th>\n",
       "    </tr>\n",
       "  </thead>\n",
       "  <tbody>\n",
       "    <tr>\n",
       "      <th>0</th>\n",
       "      <td>12</td>\n",
       "      <td>699dd70a6b9bfded35d39be70f7d5bca</td>\n",
       "      <td>{\"cutoff\": \"quantile_0.1\", \"eval_fairness_grou...</td>\n",
       "      <td>38.863008</td>\n",
       "      <td>89710</td>\n",
       "      <td>1.0</td>\n",
       "      <td>0.089502</td>\n",
       "      <td>0.906457</td>\n",
       "      <td>0.078044</td>\n",
       "      <td>0.918719</td>\n",
       "      <td>...</td>\n",
       "      <td>NaN</td>\n",
       "      <td>NaN</td>\n",
       "      <td>NaN</td>\n",
       "      <td>NaN</td>\n",
       "      <td>NaN</td>\n",
       "      <td>NaN</td>\n",
       "      <td>NaN</td>\n",
       "      <td>NaN</td>\n",
       "      <td>NaN</td>\n",
       "      <td>NaN</td>\n",
       "    </tr>\n",
       "    <tr>\n",
       "      <th>0</th>\n",
       "      <td>12</td>\n",
       "      <td>699dd70a6b9bfded35d39be70f7d5bca</td>\n",
       "      <td>{\"cutoff\": \"quantile_0.1\", \"eval_fairness_grou...</td>\n",
       "      <td>38.863008</td>\n",
       "      <td>89710</td>\n",
       "      <td>1.0</td>\n",
       "      <td>0.089502</td>\n",
       "      <td>0.906457</td>\n",
       "      <td>0.078044</td>\n",
       "      <td>0.918719</td>\n",
       "      <td>...</td>\n",
       "      <td>0.118396</td>\n",
       "      <td>0.146730</td>\n",
       "      <td>0.956802</td>\n",
       "      <td>0.867300</td>\n",
       "      <td>0.013936</td>\n",
       "      <td>0.020460</td>\n",
       "      <td>0.960175</td>\n",
       "      <td>0.882131</td>\n",
       "      <td>20540.0</td>\n",
       "      <td>69170.0</td>\n",
       "    </tr>\n",
       "    <tr>\n",
       "      <th>0</th>\n",
       "      <td>12</td>\n",
       "      <td>699dd70a6b9bfded35d39be70f7d5bca</td>\n",
       "      <td>{\"cutoff\": \"quantile_0.25\", \"eval_fairness_gro...</td>\n",
       "      <td>38.863008</td>\n",
       "      <td>89710</td>\n",
       "      <td>1.0</td>\n",
       "      <td>0.187000</td>\n",
       "      <td>0.784312</td>\n",
       "      <td>0.164494</td>\n",
       "      <td>0.812399</td>\n",
       "      <td>...</td>\n",
       "      <td>NaN</td>\n",
       "      <td>NaN</td>\n",
       "      <td>NaN</td>\n",
       "      <td>NaN</td>\n",
       "      <td>NaN</td>\n",
       "      <td>NaN</td>\n",
       "      <td>NaN</td>\n",
       "      <td>NaN</td>\n",
       "      <td>NaN</td>\n",
       "      <td>NaN</td>\n",
       "    </tr>\n",
       "    <tr>\n",
       "      <th>0</th>\n",
       "      <td>12</td>\n",
       "      <td>699dd70a6b9bfded35d39be70f7d5bca</td>\n",
       "      <td>{\"cutoff\": \"quantile_0.25\", \"eval_fairness_gro...</td>\n",
       "      <td>38.863008</td>\n",
       "      <td>89710</td>\n",
       "      <td>1.0</td>\n",
       "      <td>0.187000</td>\n",
       "      <td>0.784312</td>\n",
       "      <td>0.164494</td>\n",
       "      <td>0.812399</td>\n",
       "      <td>...</td>\n",
       "      <td>0.125208</td>\n",
       "      <td>0.171538</td>\n",
       "      <td>0.866993</td>\n",
       "      <td>0.679993</td>\n",
       "      <td>0.047720</td>\n",
       "      <td>0.075274</td>\n",
       "      <td>0.876826</td>\n",
       "      <td>0.712332</td>\n",
       "      <td>20540.0</td>\n",
       "      <td>69170.0</td>\n",
       "    </tr>\n",
       "  </tbody>\n",
       "</table>\n",
       "<p>4 rows × 50 columns</p>\n",
       "</div>"
      ],
      "text/plain": [
       "  run_no                       universe_id  \\\n",
       "0     12  699dd70a6b9bfded35d39be70f7d5bca   \n",
       "0     12  699dd70a6b9bfded35d39be70f7d5bca   \n",
       "0     12  699dd70a6b9bfded35d39be70f7d5bca   \n",
       "0     12  699dd70a6b9bfded35d39be70f7d5bca   \n",
       "\n",
       "                                   universe_settings  execution_time  \\\n",
       "0  {\"cutoff\": \"quantile_0.1\", \"eval_fairness_grou...       38.863008   \n",
       "0  {\"cutoff\": \"quantile_0.1\", \"eval_fairness_grou...       38.863008   \n",
       "0  {\"cutoff\": \"quantile_0.25\", \"eval_fairness_gro...       38.863008   \n",
       "0  {\"cutoff\": \"quantile_0.25\", \"eval_fairness_gro...       38.863008   \n",
       "\n",
       "   test_size_n  test_size_frac  fair_main_equalized_odds_difference  \\\n",
       "0        89710             1.0                             0.089502   \n",
       "0        89710             1.0                             0.089502   \n",
       "0        89710             1.0                             0.187000   \n",
       "0        89710             1.0                             0.187000   \n",
       "\n",
       "   fair_main_equalized_odds_ratio  fair_main_demographic_parity_difference  \\\n",
       "0                        0.906457                                 0.078044   \n",
       "0                        0.906457                                 0.078044   \n",
       "0                        0.784312                                 0.164494   \n",
       "0                        0.784312                                 0.164494   \n",
       "\n",
       "   fair_main_demographic_parity_ratio  ...  perf_grp_precision_0  \\\n",
       "0                            0.918719  ...                   NaN   \n",
       "0                            0.918719  ...              0.118396   \n",
       "0                            0.812399  ...                   NaN   \n",
       "0                            0.812399  ...              0.125208   \n",
       "\n",
       "   perf_grp_precision_1  perf_grp_false positive rate_0  \\\n",
       "0                   NaN                             NaN   \n",
       "0              0.146730                        0.956802   \n",
       "0                   NaN                             NaN   \n",
       "0              0.171538                        0.866993   \n",
       "\n",
       "   perf_grp_false positive rate_1  perf_grp_false negative rate_0  \\\n",
       "0                             NaN                             NaN   \n",
       "0                        0.867300                        0.013936   \n",
       "0                             NaN                             NaN   \n",
       "0                        0.679993                        0.047720   \n",
       "\n",
       "   perf_grp_false negative rate_1  perf_grp_selection rate_0  \\\n",
       "0                             NaN                        NaN   \n",
       "0                        0.020460                   0.960175   \n",
       "0                             NaN                        NaN   \n",
       "0                        0.075274                   0.876826   \n",
       "\n",
       "   perf_grp_selection rate_1  perf_grp_count_0  perf_grp_count_1  \n",
       "0                        NaN               NaN               NaN  \n",
       "0                   0.882131           20540.0           69170.0  \n",
       "0                        NaN               NaN               NaN  \n",
       "0                   0.712332           20540.0           69170.0  \n",
       "\n",
       "[4 rows x 50 columns]"
      ]
     },
     "execution_count": 79,
     "metadata": {},
     "output_type": "execute_result"
    }
   ],
   "source": [
    "final_output = universe_analysis.generate_final_output(\n",
    "    y_pred_prob=probs_test,\n",
    "    y_test=y_true,\n",
    "    org_test=org_test,\n",
    "    filter_data=filter_sub_universe_data,\n",
    "    cp_metrics_df=cp_metrics_df,\n",
    "    save=True,\n",
    ")\n",
    "final_output"
   ]
  },
  {
   "cell_type": "code",
   "execution_count": null,
   "id": "721ff514-cb11-46f8-b6fc-50392f74b5cb",
   "metadata": {
    "papermill": {
     "duration": 0.030745,
     "end_time": "2025-07-30T14:12:08.989257",
     "exception": false,
     "start_time": "2025-07-30T14:12:08.958512",
     "status": "completed"
    },
    "tags": []
   },
   "outputs": [],
   "source": []
  }
 ],
 "metadata": {
  "celltoolbar": "Tags",
  "kernelspec": {
   "display_name": "Python (CMA Fairness)",
   "language": "python",
   "name": "cma_fair_env"
  },
  "language_info": {
   "codemirror_mode": {
    "name": "ipython",
    "version": 3
   },
   "file_extension": ".py",
   "mimetype": "text/x-python",
   "name": "python",
   "nbconvert_exporter": "python",
   "pygments_lexer": "ipython3",
   "version": "3.10.12"
  },
  "papermill": {
   "default_parameters": {},
   "duration": 53.222128,
   "end_time": "2025-07-30T14:12:09.740508",
   "environment_variables": {},
   "exception": null,
   "input_path": "universe_analysis.ipynb",
   "output_path": "output/runs/12/notebooks/m_12-699dd70a6b9bfded35d39be70f7d5bca.ipynb",
   "parameters": {
    "output_dir": "output",
    "run_no": "12",
    "seed": "2023",
    "universe": "{\"cutoff\": [\"quantile_0.1\", \"quantile_0.25\"], \"eval_fairness_grouping\": [\"majority-minority\", \"nationality-all\"], \"exclude_features\": \"age\", \"exclude_subgroups\": \"keep-all\", \"model\": \"elasticnet\", \"scale\": \"scale\", \"training_size\": \"5k\", \"training_year\": \"2010_14\"}",
    "universe_id": "699dd70a6b9bfded35d39be70f7d5bca"
   },
   "start_time": "2025-07-30T14:11:16.518380",
   "version": "2.6.0"
  }
 },
 "nbformat": 4,
 "nbformat_minor": 5
}