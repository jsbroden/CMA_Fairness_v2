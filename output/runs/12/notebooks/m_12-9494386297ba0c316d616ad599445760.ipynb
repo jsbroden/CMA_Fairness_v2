{
 "cells": [
  {
   "cell_type": "code",
   "execution_count": 1,
   "id": "f159f837-637b-42ba-96b5-ec9a68c44524",
   "metadata": {
    "execution": {
     "iopub.execute_input": "2025-07-30T13:50:28.737182Z",
     "iopub.status.busy": "2025-07-30T13:50:28.736757Z",
     "iopub.status.idle": "2025-07-30T13:50:28.748822Z",
     "shell.execute_reply": "2025-07-30T13:50:28.747857Z"
    },
    "papermill": {
     "duration": 0.026057,
     "end_time": "2025-07-30T13:50:28.750897",
     "exception": false,
     "start_time": "2025-07-30T13:50:28.724840",
     "status": "completed"
    },
    "tags": []
   },
   "outputs": [
    {
     "name": "stdout",
     "output_type": "stream",
     "text": [
      "/dss/dsshome1/0C/ra93lal2/cma/CMA_Fairness_v2\n"
     ]
    },
    {
     "name": "stderr",
     "output_type": "stream",
     "text": [
      "/dss/dsshome1/0C/ra93lal2/.local/share/virtualenvs/CMA_Fairness_v2-3j10GkSs/lib/python3.10/site-packages/IPython/core/magics/osm.py:393: UserWarning: This is now an optional IPython functionality, using bookmarks requires you to install the `pickleshare` library.\n",
      "  bkms = self.shell.db.get('bookmarks', {})\n",
      "/dss/dsshome1/0C/ra93lal2/.local/share/virtualenvs/CMA_Fairness_v2-3j10GkSs/lib/python3.10/site-packages/IPython/core/magics/osm.py:417: UserWarning: This is now an optional IPython functionality, setting dhist requires you to install the `pickleshare` library.\n",
      "  self.shell.db['dhist'] = compress_dhist(dhist)[-100:]\n"
     ]
    }
   ],
   "source": [
    "%cd ~/cma/CMA_Fairness_v2"
   ]
  },
  {
   "cell_type": "markdown",
   "id": "de2603b9",
   "metadata": {
    "papermill": {
     "duration": 0.009559,
     "end_time": "2025-07-30T13:50:28.771786",
     "exception": false,
     "start_time": "2025-07-30T13:50:28.762227",
     "status": "completed"
    },
    "tags": []
   },
   "source": [
    "The following cell holds the definition of our parameters, these values can be overriden by rendering the with e.g. the following command:\n",
    "\n",
    "papermill -p alpha 0.2 -p ratio 0.3 universe_analysis.ipynb output/test_run.ipynb"
   ]
  },
  {
   "cell_type": "code",
   "execution_count": 2,
   "id": "a80968a0-40bb-4fa9-85ef-2d5eefb01975",
   "metadata": {
    "execution": {
     "iopub.execute_input": "2025-07-30T13:50:28.794176Z",
     "iopub.status.busy": "2025-07-30T13:50:28.793759Z",
     "iopub.status.idle": "2025-07-30T13:50:28.801280Z",
     "shell.execute_reply": "2025-07-30T13:50:28.800129Z"
    },
    "papermill": {
     "duration": 0.021494,
     "end_time": "2025-07-30T13:50:28.803360",
     "exception": false,
     "start_time": "2025-07-30T13:50:28.781866",
     "status": "completed"
    },
    "tags": []
   },
   "outputs": [
    {
     "name": "stdout",
     "output_type": "stream",
     "text": [
      "Current working directory: /dss/dsshome1/0C/ra93lal2/cma/CMA_Fairness_v2\n"
     ]
    }
   ],
   "source": [
    "import os\n",
    "print(\"Current working directory:\", os.getcwd())"
   ]
  },
  {
   "cell_type": "code",
   "execution_count": 3,
   "id": "2dce4c03",
   "metadata": {
    "execution": {
     "iopub.execute_input": "2025-07-30T13:50:28.845589Z",
     "iopub.status.busy": "2025-07-30T13:50:28.845125Z",
     "iopub.status.idle": "2025-07-30T13:50:28.851087Z",
     "shell.execute_reply": "2025-07-30T13:50:28.850247Z"
    },
    "papermill": {
     "duration": 0.028954,
     "end_time": "2025-07-30T13:50:28.852723",
     "exception": false,
     "start_time": "2025-07-30T13:50:28.823769",
     "status": "completed"
    },
    "tags": [
     "parameters"
    ]
   },
   "outputs": [],
   "source": [
    "run_no = 0\n",
    "universe_id = \"test\"\n",
    "universe = {\n",
    "    \"training_size\": \"25k\", # \"25k\", \"5k\", \"1k\"\n",
    "    \"training_year\": \"2014\", # \"2014\", \"2012_14\", \"2010_14\"\n",
    "    \"scale\": \"scale\", # \"scale\", \"do-not-scale\",\n",
    "    #\"stratify_split\": \"target\", # \"none\", \"target\", \"protected-attribute\", \"both\",\n",
    "    \"model\": \"elasticnet\", # \"logreg\", \"penalized_logreg\", \"rf\", \"gbm\", \"elasticnet\"\n",
    "    \"cutoff\": [\"quantile_0.15\", \"quantile_0.30\"],\n",
    "    \"exclude_features\": \"age\", # \"none\", \"nationality\", \"sex\", \"nationality-sex\", \"age\"\n",
    "    \"exclude_subgroups\": \"keep-all\", # \"keep-all\", \"drop-non-german\"\n",
    "    \"eval_fairness_grouping\": [\"majority-minority\", \"nationality-all\"]\n",
    "}\n",
    "\n",
    "output_dir=\"./output\"\n",
    "seed=0"
   ]
  },
  {
   "cell_type": "code",
   "execution_count": 4,
   "id": "e9d09d47",
   "metadata": {
    "execution": {
     "iopub.execute_input": "2025-07-30T13:50:28.894134Z",
     "iopub.status.busy": "2025-07-30T13:50:28.893666Z",
     "iopub.status.idle": "2025-07-30T13:50:28.898839Z",
     "shell.execute_reply": "2025-07-30T13:50:28.898038Z"
    },
    "papermill": {
     "duration": 0.028192,
     "end_time": "2025-07-30T13:50:28.900260",
     "exception": false,
     "start_time": "2025-07-30T13:50:28.872068",
     "status": "completed"
    },
    "tags": [
     "injected-parameters"
    ]
   },
   "outputs": [],
   "source": [
    "# Parameters\n",
    "universe_id = \"9494386297ba0c316d616ad599445760\"\n",
    "run_no = \"12\"\n",
    "universe = \"{\\\"cutoff\\\": [\\\"quantile_0.1\\\", \\\"quantile_0.25\\\"], \\\"eval_fairness_grouping\\\": [\\\"majority-minority\\\", \\\"nationality-all\\\"], \\\"exclude_features\\\": \\\"sex\\\", \\\"exclude_subgroups\\\": \\\"drop-non-german\\\", \\\"model\\\": \\\"gbm\\\", \\\"scale\\\": \\\"do-not-scale\\\", \\\"training_size\\\": \\\"5k\\\", \\\"training_year\\\": \\\"2014\\\"}\"\n",
    "output_dir = \"output\"\n",
    "seed = \"2023\"\n"
   ]
  },
  {
   "cell_type": "code",
   "execution_count": 5,
   "id": "1650acaf",
   "metadata": {
    "execution": {
     "iopub.execute_input": "2025-07-30T13:50:28.940289Z",
     "iopub.status.busy": "2025-07-30T13:50:28.939587Z",
     "iopub.status.idle": "2025-07-30T13:50:28.945238Z",
     "shell.execute_reply": "2025-07-30T13:50:28.944258Z"
    },
    "papermill": {
     "duration": 0.027727,
     "end_time": "2025-07-30T13:50:28.946673",
     "exception": false,
     "start_time": "2025-07-30T13:50:28.918946",
     "status": "completed"
    },
    "tags": []
   },
   "outputs": [],
   "source": [
    "import json\n",
    "# Parse universe into dict if it is passed as a string\n",
    "if isinstance(universe, str):\n",
    "    universe = json.loads(universe)"
   ]
  },
  {
   "cell_type": "code",
   "execution_count": 6,
   "id": "16620c48",
   "metadata": {
    "execution": {
     "iopub.execute_input": "2025-07-30T13:50:28.986916Z",
     "iopub.status.busy": "2025-07-30T13:50:28.986268Z",
     "iopub.status.idle": "2025-07-30T13:50:29.031111Z",
     "shell.execute_reply": "2025-07-30T13:50:29.030252Z"
    },
    "papermill": {
     "duration": 0.066764,
     "end_time": "2025-07-30T13:50:29.032985",
     "exception": false,
     "start_time": "2025-07-30T13:50:28.966221",
     "status": "completed"
    },
    "tags": []
   },
   "outputs": [],
   "source": [
    "# Auto-reload the custom package\n",
    "%load_ext autoreload\n",
    "%autoreload 1\n",
    "%aimport fairness_multiverse"
   ]
  },
  {
   "cell_type": "code",
   "execution_count": 7,
   "id": "01c5c9f3",
   "metadata": {
    "execution": {
     "iopub.execute_input": "2025-07-30T13:50:29.072358Z",
     "iopub.status.busy": "2025-07-30T13:50:29.071682Z",
     "iopub.status.idle": "2025-07-30T13:50:30.905364Z",
     "shell.execute_reply": "2025-07-30T13:50:30.904348Z"
    },
    "papermill": {
     "duration": 1.855096,
     "end_time": "2025-07-30T13:50:30.907350",
     "exception": false,
     "start_time": "2025-07-30T13:50:29.052254",
     "status": "completed"
    },
    "tags": []
   },
   "outputs": [],
   "source": [
    "from fairness_multiverse.universe import UniverseAnalysis\n",
    "\n",
    "universe_analysis = UniverseAnalysis(\n",
    "    run_no = run_no,\n",
    "    universe_id = universe_id,\n",
    "    universe = universe,\n",
    "    output_dir=output_dir,\n",
    ")"
   ]
  },
  {
   "cell_type": "code",
   "execution_count": 8,
   "id": "106241f5",
   "metadata": {
    "execution": {
     "iopub.execute_input": "2025-07-30T13:50:30.952526Z",
     "iopub.status.busy": "2025-07-30T13:50:30.951497Z",
     "iopub.status.idle": "2025-07-30T13:50:30.959611Z",
     "shell.execute_reply": "2025-07-30T13:50:30.958668Z"
    },
    "papermill": {
     "duration": 0.032723,
     "end_time": "2025-07-30T13:50:30.961523",
     "exception": false,
     "start_time": "2025-07-30T13:50:30.928800",
     "status": "completed"
    },
    "tags": []
   },
   "outputs": [
    {
     "name": "stdout",
     "output_type": "stream",
     "text": [
      "Using Seed: 2023\n"
     ]
    }
   ],
   "source": [
    "import numpy as np\n",
    "parsed_seed = int(seed)\n",
    "np.random.seed(parsed_seed)\n",
    "print(f\"Using Seed: {parsed_seed}\")"
   ]
  },
  {
   "cell_type": "markdown",
   "id": "e0ebdc57",
   "metadata": {
    "papermill": {
     "duration": 0.021939,
     "end_time": "2025-07-30T13:50:31.000646",
     "exception": false,
     "start_time": "2025-07-30T13:50:30.978707",
     "status": "completed"
    },
    "tags": []
   },
   "source": [
    "# Loading Data"
   ]
  },
  {
   "cell_type": "markdown",
   "id": "681925a3",
   "metadata": {
    "papermill": {
     "duration": 0.020202,
     "end_time": "2025-07-30T13:50:31.041382",
     "exception": false,
     "start_time": "2025-07-30T13:50:31.021180",
     "status": "completed"
    },
    "tags": []
   },
   "source": [
    "Load siab_train, siab_test, siab_calib and/or \n",
    "load siab_train_features, siab_train_labels"
   ]
  },
  {
   "cell_type": "code",
   "execution_count": 9,
   "id": "f0496b8a",
   "metadata": {
    "execution": {
     "iopub.execute_input": "2025-07-30T13:50:31.082148Z",
     "iopub.status.busy": "2025-07-30T13:50:31.081656Z",
     "iopub.status.idle": "2025-07-30T13:50:42.234348Z",
     "shell.execute_reply": "2025-07-30T13:50:42.232923Z"
    },
    "papermill": {
     "duration": 11.175607,
     "end_time": "2025-07-30T13:50:42.236233",
     "exception": false,
     "start_time": "2025-07-30T13:50:31.060626",
     "status": "completed"
    },
    "tags": []
   },
   "outputs": [
    {
     "name": "stdout",
     "output_type": "stream",
     "text": [
      "Loading SIAB data from cache: data/siab_cached.csv.gz\n"
     ]
    },
    {
     "name": "stdout",
     "output_type": "stream",
     "text": [
      "(643690, 164)\n"
     ]
    }
   ],
   "source": [
    "from pathlib import Path\n",
    "import pandas as pd\n",
    "\n",
    "# File paths\n",
    "raw_file = Path(\"data/raw/siab.csv\")\n",
    "cache_file = Path(\"data/siab_cached.csv.gz\")\n",
    "\n",
    "# Ensure cache directory exists\n",
    "cache_file.parent.mkdir(parents=True, exist_ok=True)\n",
    "\n",
    "# Load with simple caching\n",
    "if cache_file.exists():\n",
    "    print(f\"Loading SIAB data from cache: {cache_file}\")\n",
    "    siab = pd.read_csv(cache_file, compression='gzip')\n",
    "else:\n",
    "    print(f\"Cache not found. Reading raw SIAB data: {raw_file}\")\n",
    "    siab = pd.read_csv(raw_file)\n",
    "    siab.to_csv(cache_file, index=False, compression='gzip')\n",
    "    print(f\"Cached SIAB data to: {cache_file}\")\n",
    "\n",
    "# Now use `siab` DataFrame as needed\n",
    "print(siab.shape)"
   ]
  },
  {
   "cell_type": "code",
   "execution_count": 10,
   "id": "db0ca512-5f53-4dba-abdb-a2888bca41ba",
   "metadata": {
    "execution": {
     "iopub.execute_input": "2025-07-30T13:50:42.287931Z",
     "iopub.status.busy": "2025-07-30T13:50:42.287330Z",
     "iopub.status.idle": "2025-07-30T13:50:42.293312Z",
     "shell.execute_reply": "2025-07-30T13:50:42.292334Z"
    },
    "papermill": {
     "duration": 0.032557,
     "end_time": "2025-07-30T13:50:42.295023",
     "exception": false,
     "start_time": "2025-07-30T13:50:42.262466",
     "status": "completed"
    },
    "tags": []
   },
   "outputs": [],
   "source": [
    "#siab"
   ]
  },
  {
   "cell_type": "code",
   "execution_count": 11,
   "id": "a0edb063",
   "metadata": {
    "execution": {
     "iopub.execute_input": "2025-07-30T13:50:42.344413Z",
     "iopub.status.busy": "2025-07-30T13:50:42.343519Z",
     "iopub.status.idle": "2025-07-30T13:50:42.349032Z",
     "shell.execute_reply": "2025-07-30T13:50:42.348011Z"
    },
    "papermill": {
     "duration": 0.032436,
     "end_time": "2025-07-30T13:50:42.350846",
     "exception": false,
     "start_time": "2025-07-30T13:50:42.318410",
     "status": "completed"
    },
    "tags": []
   },
   "outputs": [],
   "source": [
    "#import pandas as pd\n",
    "#\n",
    "#X_train = pd.read_csv(\"./data/X_train.csv\")\n",
    "#y_train = pd.read_csv(\"./data/y_train.csv\")"
   ]
  },
  {
   "cell_type": "code",
   "execution_count": 12,
   "id": "63d08085",
   "metadata": {
    "execution": {
     "iopub.execute_input": "2025-07-30T13:50:42.394197Z",
     "iopub.status.busy": "2025-07-30T13:50:42.393805Z",
     "iopub.status.idle": "2025-07-30T13:50:42.398854Z",
     "shell.execute_reply": "2025-07-30T13:50:42.397961Z"
    },
    "papermill": {
     "duration": 0.028316,
     "end_time": "2025-07-30T13:50:42.400474",
     "exception": false,
     "start_time": "2025-07-30T13:50:42.372158",
     "status": "completed"
    },
    "tags": []
   },
   "outputs": [],
   "source": [
    "#X_test = pd.read_csv(\"./data/X_test.csv\")\n",
    "#y_true = pd.read_csv(\"./data/y_test.csv\")"
   ]
  },
  {
   "cell_type": "code",
   "execution_count": 13,
   "id": "98a8d0fa-1d3d-4ed8-bb2c-281470e24add",
   "metadata": {
    "execution": {
     "iopub.execute_input": "2025-07-30T13:50:42.443957Z",
     "iopub.status.busy": "2025-07-30T13:50:42.443537Z",
     "iopub.status.idle": "2025-07-30T13:50:42.448148Z",
     "shell.execute_reply": "2025-07-30T13:50:42.447281Z"
    },
    "papermill": {
     "duration": 0.027964,
     "end_time": "2025-07-30T13:50:42.449762",
     "exception": false,
     "start_time": "2025-07-30T13:50:42.421798",
     "status": "completed"
    },
    "tags": []
   },
   "outputs": [],
   "source": [
    "# Calibration data for conformal\n",
    "#X_calib = pd.read_csv(\"./data/X_calib.csv\")\n",
    "#y_calib = pd.read_csv(\"./data/y_calib.csv\")"
   ]
  },
  {
   "cell_type": "markdown",
   "id": "997051c5-15bd-4b69-9786-c3001a3ce484",
   "metadata": {
    "papermill": {
     "duration": 0.020263,
     "end_time": "2025-07-30T13:50:42.491331",
     "exception": false,
     "start_time": "2025-07-30T13:50:42.471068",
     "status": "completed"
    },
    "tags": []
   },
   "source": [
    "# Splitting Data and Setting Training Data Size"
   ]
  },
  {
   "cell_type": "code",
   "execution_count": 14,
   "id": "e993b61f-042d-41a6-8c81-f55681f86335",
   "metadata": {
    "execution": {
     "iopub.execute_input": "2025-07-30T13:50:42.535169Z",
     "iopub.status.busy": "2025-07-30T13:50:42.534452Z",
     "iopub.status.idle": "2025-07-30T13:50:42.547521Z",
     "shell.execute_reply": "2025-07-30T13:50:42.546662Z"
    },
    "papermill": {
     "duration": 0.036591,
     "end_time": "2025-07-30T13:50:42.548872",
     "exception": false,
     "start_time": "2025-07-30T13:50:42.512281",
     "status": "completed"
    },
    "tags": []
   },
   "outputs": [],
   "source": [
    "def sample_by_year_size(df,\n",
    "                        training_year: str,\n",
    "                        training_size: str,\n",
    "                        random_state: int = 42):\n",
    "    # --- parse training_year into a list of int years ---\n",
    "    if \"_\" in training_year:\n",
    "        start_str, end_str = training_year.split(\"_\", 1)\n",
    "        start = int(start_str)\n",
    "        end   = int(end_str) if len(end_str) == 4 else (int(end_str) + (start // 100)*100)\n",
    "        years = list(range(start, end + 1))\n",
    "    else:\n",
    "        years = [int(training_year)]\n",
    "\n",
    "    df = df[df[\"year\"].isin(years)].reset_index(drop=True)\n",
    "\n",
    "    # --- map training_size to total number of samples ---\n",
    "    total_map = {\"25k\": 25_000, \"5k\": 5_000, \"1k\": 1_000}\n",
    "    if training_size not in total_map:\n",
    "        return df  # e.g. \"all\"\n",
    "\n",
    "    total_samples = total_map[training_size]\n",
    "    n_years       = len(years)\n",
    "    base          = total_samples // n_years\n",
    "    remainder     = total_samples % n_years\n",
    "\n",
    "    # --- build a dict: year -> how many to sample ---\n",
    "    # give +1 to the first `remainder` years in ascending order\n",
    "    quotas = {\n",
    "        year: base + (1 if idx < remainder else 0)\n",
    "        for idx, year in enumerate(sorted(years))\n",
    "    }\n",
    "\n",
    "    # --- sample per‐year according to the quota dict ---\n",
    "    sampled = (\n",
    "        df\n",
    "        .groupby(\"year\", group_keys=False)\n",
    "        .apply(lambda grp: grp.sample(\n",
    "            n=min(len(grp), quotas[grp.name]),\n",
    "            random_state=random_state))\n",
    "        .reset_index(drop=True)\n",
    "    )\n",
    "\n",
    "    return sampled"
   ]
  },
  {
   "cell_type": "code",
   "execution_count": 15,
   "id": "c0ccd338-0e02-41f3-a09d-f56f9266e3fb",
   "metadata": {
    "execution": {
     "iopub.execute_input": "2025-07-30T13:50:42.571445Z",
     "iopub.status.busy": "2025-07-30T13:50:42.571098Z",
     "iopub.status.idle": "2025-07-30T13:50:42.579911Z",
     "shell.execute_reply": "2025-07-30T13:50:42.579164Z"
    },
    "papermill": {
     "duration": 0.02122,
     "end_time": "2025-07-30T13:50:42.581128",
     "exception": false,
     "start_time": "2025-07-30T13:50:42.559908",
     "status": "completed"
    },
    "tags": []
   },
   "outputs": [
    {
     "data": {
      "text/plain": [
       "'5k'"
      ]
     },
     "execution_count": 15,
     "metadata": {},
     "output_type": "execute_result"
    }
   ],
   "source": [
    "universe[\"training_size\"]"
   ]
  },
  {
   "cell_type": "code",
   "execution_count": 16,
   "id": "ca707fd7-8047-4acd-bfa5-66248fbbf8e6",
   "metadata": {
    "execution": {
     "iopub.execute_input": "2025-07-30T13:50:42.603485Z",
     "iopub.status.busy": "2025-07-30T13:50:42.602981Z",
     "iopub.status.idle": "2025-07-30T13:50:42.609148Z",
     "shell.execute_reply": "2025-07-30T13:50:42.608438Z"
    },
    "papermill": {
     "duration": 0.018672,
     "end_time": "2025-07-30T13:50:42.610636",
     "exception": false,
     "start_time": "2025-07-30T13:50:42.591964",
     "status": "completed"
    },
    "tags": []
   },
   "outputs": [
    {
     "data": {
      "text/plain": [
       "'2014'"
      ]
     },
     "execution_count": 16,
     "metadata": {},
     "output_type": "execute_result"
    }
   ],
   "source": [
    "universe[\"training_year\"]"
   ]
  },
  {
   "cell_type": "code",
   "execution_count": 17,
   "id": "aea9c6ef-6f46-42c8-85eb-5a62025c1508",
   "metadata": {
    "execution": {
     "iopub.execute_input": "2025-07-30T13:50:42.647864Z",
     "iopub.status.busy": "2025-07-30T13:50:42.647422Z",
     "iopub.status.idle": "2025-07-30T13:50:42.908475Z",
     "shell.execute_reply": "2025-07-30T13:50:42.907421Z"
    },
    "papermill": {
     "duration": 0.285804,
     "end_time": "2025-07-30T13:50:42.910467",
     "exception": false,
     "start_time": "2025-07-30T13:50:42.624663",
     "status": "completed"
    },
    "tags": []
   },
   "outputs": [],
   "source": [
    "siab_train = sample_by_year_size(siab,\n",
    "                               training_year=universe[\"training_year\"],\n",
    "                               training_size=universe[\"training_size\"])"
   ]
  },
  {
   "cell_type": "code",
   "execution_count": 18,
   "id": "8d3afb32-789d-442c-8d5d-9f5aa8dd2eed",
   "metadata": {
    "execution": {
     "iopub.execute_input": "2025-07-30T13:50:42.956534Z",
     "iopub.status.busy": "2025-07-30T13:50:42.955735Z",
     "iopub.status.idle": "2025-07-30T13:50:42.966213Z",
     "shell.execute_reply": "2025-07-30T13:50:42.965003Z"
    },
    "papermill": {
     "duration": 0.035667,
     "end_time": "2025-07-30T13:50:42.967740",
     "exception": false,
     "start_time": "2025-07-30T13:50:42.932073",
     "status": "completed"
    },
    "tags": []
   },
   "outputs": [
    {
     "data": {
      "text/plain": [
       "(5000, 164)"
      ]
     },
     "execution_count": 18,
     "metadata": {},
     "output_type": "execute_result"
    }
   ],
   "source": [
    "siab_train.shape"
   ]
  },
  {
   "cell_type": "code",
   "execution_count": 19,
   "id": "d582db68-1a4c-47fb-84fc-08518dc1975a",
   "metadata": {
    "execution": {
     "iopub.execute_input": "2025-07-30T13:50:43.014508Z",
     "iopub.status.busy": "2025-07-30T13:50:43.013980Z",
     "iopub.status.idle": "2025-07-30T13:50:43.023992Z",
     "shell.execute_reply": "2025-07-30T13:50:43.023197Z"
    },
    "papermill": {
     "duration": 0.034693,
     "end_time": "2025-07-30T13:50:43.025444",
     "exception": false,
     "start_time": "2025-07-30T13:50:42.990751",
     "status": "completed"
    },
    "tags": []
   },
   "outputs": [
    {
     "data": {
      "text/plain": [
       "year\n",
       "2014    5000\n",
       "dtype: int64"
      ]
     },
     "metadata": {},
     "output_type": "display_data"
    }
   ],
   "source": [
    "display(siab_train.groupby(\"year\").size())"
   ]
  },
  {
   "cell_type": "code",
   "execution_count": 20,
   "id": "a561edb4-d032-42cb-8256-22eac1111c64",
   "metadata": {
    "execution": {
     "iopub.execute_input": "2025-07-30T13:50:43.075765Z",
     "iopub.status.busy": "2025-07-30T13:50:43.075006Z",
     "iopub.status.idle": "2025-07-30T13:50:43.317605Z",
     "shell.execute_reply": "2025-07-30T13:50:43.316404Z"
    },
    "papermill": {
     "duration": 0.269245,
     "end_time": "2025-07-30T13:50:43.319507",
     "exception": false,
     "start_time": "2025-07-30T13:50:43.050262",
     "status": "completed"
    },
    "tags": []
   },
   "outputs": [],
   "source": [
    "#siab_train = siab_s[siab_s.year < 2015]\n",
    "siab_calib = siab[siab.year == 2015]\n",
    "siab_test = siab[siab.year == 2016]"
   ]
  },
  {
   "cell_type": "code",
   "execution_count": 21,
   "id": "472de16f-c3db-4916-846b-1f0de9cf1746",
   "metadata": {
    "execution": {
     "iopub.execute_input": "2025-07-30T13:50:43.379214Z",
     "iopub.status.busy": "2025-07-30T13:50:43.378917Z",
     "iopub.status.idle": "2025-07-30T13:50:43.386400Z",
     "shell.execute_reply": "2025-07-30T13:50:43.385515Z"
    },
    "papermill": {
     "duration": 0.033982,
     "end_time": "2025-07-30T13:50:43.388004",
     "exception": false,
     "start_time": "2025-07-30T13:50:43.354022",
     "status": "completed"
    },
    "tags": []
   },
   "outputs": [],
   "source": [
    "X_train = siab_train.iloc[:,4:164]\n",
    "y_train = siab_train.iloc[:, [3]]"
   ]
  },
  {
   "cell_type": "code",
   "execution_count": 22,
   "id": "828c96af-f43a-4ed6-ba47-8ac73a47d56c",
   "metadata": {
    "execution": {
     "iopub.execute_input": "2025-07-30T13:50:43.434637Z",
     "iopub.status.busy": "2025-07-30T13:50:43.433653Z",
     "iopub.status.idle": "2025-07-30T13:50:43.490259Z",
     "shell.execute_reply": "2025-07-30T13:50:43.489136Z"
    },
    "papermill": {
     "duration": 0.082735,
     "end_time": "2025-07-30T13:50:43.492442",
     "exception": false,
     "start_time": "2025-07-30T13:50:43.409707",
     "status": "completed"
    },
    "tags": []
   },
   "outputs": [],
   "source": [
    "X_calib = siab_calib.iloc[:,4:164]\n",
    "y_calib = siab_calib.iloc[:, [3]]"
   ]
  },
  {
   "cell_type": "code",
   "execution_count": 23,
   "id": "c34be9c3-6bd6-476e-acd3-845840e303be",
   "metadata": {
    "execution": {
     "iopub.execute_input": "2025-07-30T13:50:43.540243Z",
     "iopub.status.busy": "2025-07-30T13:50:43.539672Z",
     "iopub.status.idle": "2025-07-30T13:50:43.595825Z",
     "shell.execute_reply": "2025-07-30T13:50:43.594798Z"
    },
    "papermill": {
     "duration": 0.081402,
     "end_time": "2025-07-30T13:50:43.597884",
     "exception": false,
     "start_time": "2025-07-30T13:50:43.516482",
     "status": "completed"
    },
    "tags": []
   },
   "outputs": [],
   "source": [
    "X_test = siab_test.iloc[:,4:164]\n",
    "y_true = siab_test.iloc[:, [3]]"
   ]
  },
  {
   "cell_type": "markdown",
   "id": "9901737e-04df-44f0-9100-f5ad144ed040",
   "metadata": {
    "papermill": {
     "duration": 0.022964,
     "end_time": "2025-07-30T13:50:43.644976",
     "exception": false,
     "start_time": "2025-07-30T13:50:43.622012",
     "status": "completed"
    },
    "tags": []
   },
   "source": [
    "# Splitting Data and Setting Training Data Size OLD VERSION"
   ]
  },
  {
   "cell_type": "code",
   "execution_count": 24,
   "id": "acbc8f7d-8fc8-4e86-8c59-5dcb0f58384b",
   "metadata": {
    "execution": {
     "iopub.execute_input": "2025-07-30T13:50:43.694267Z",
     "iopub.status.busy": "2025-07-30T13:50:43.693497Z",
     "iopub.status.idle": "2025-07-30T13:50:43.699384Z",
     "shell.execute_reply": "2025-07-30T13:50:43.698404Z"
    },
    "papermill": {
     "duration": 0.033251,
     "end_time": "2025-07-30T13:50:43.701121",
     "exception": false,
     "start_time": "2025-07-30T13:50:43.667870",
     "status": "completed"
    },
    "tags": []
   },
   "outputs": [],
   "source": [
    "#def sample_by_year(df, training_size, random_state=42):\n",
    "#    if training_size == \"2014\":\n",
    "#        return df[df[\"year\"] == 2014].reset_index(drop=True)\n",
    "#    \n",
    "#    size_map = {\n",
    "#        \"25k\": 5000,\n",
    "#        \"5k\": 1000,\n",
    "#        \"1k\": 200\n",
    "#    }\n",
    "#\n",
    "#    if training_size not in size_map:\n",
    "#        return df.reset_index(drop=True)  # use all data\n",
    "#\n",
    "#    n_per_year = size_map[training_size]\n",
    "#    grouped = df.groupby(\"year\")\n",
    "#    sampled = grouped.apply(lambda x: x.sample(n=min(n_per_year, len(x)), random_state=random_state))\n",
    "#    return sampled.reset_index(drop=True)"
   ]
  },
  {
   "cell_type": "code",
   "execution_count": 25,
   "id": "6d931f52-beaf-43ff-9e78-9d44a448d54e",
   "metadata": {
    "execution": {
     "iopub.execute_input": "2025-07-30T13:50:43.750340Z",
     "iopub.status.busy": "2025-07-30T13:50:43.749582Z",
     "iopub.status.idle": "2025-07-30T13:50:43.755452Z",
     "shell.execute_reply": "2025-07-30T13:50:43.754447Z"
    },
    "papermill": {
     "duration": 0.032028,
     "end_time": "2025-07-30T13:50:43.757278",
     "exception": false,
     "start_time": "2025-07-30T13:50:43.725250",
     "status": "completed"
    },
    "tags": []
   },
   "outputs": [],
   "source": [
    "#siab_s = sample_by_year(siab, universe[\"training_size\"])"
   ]
  },
  {
   "cell_type": "code",
   "execution_count": 26,
   "id": "5db0a40e-a4e2-4920-be85-b12ae061d70d",
   "metadata": {
    "execution": {
     "iopub.execute_input": "2025-07-30T13:50:43.809229Z",
     "iopub.status.busy": "2025-07-30T13:50:43.808668Z",
     "iopub.status.idle": "2025-07-30T13:50:43.814413Z",
     "shell.execute_reply": "2025-07-30T13:50:43.813207Z"
    },
    "papermill": {
     "duration": 0.033094,
     "end_time": "2025-07-30T13:50:43.816122",
     "exception": false,
     "start_time": "2025-07-30T13:50:43.783028",
     "status": "completed"
    },
    "tags": []
   },
   "outputs": [],
   "source": [
    "#display(siab_s.groupby(\"year\").size())"
   ]
  },
  {
   "cell_type": "code",
   "execution_count": 27,
   "id": "e6c733c5",
   "metadata": {
    "execution": {
     "iopub.execute_input": "2025-07-30T13:50:43.866437Z",
     "iopub.status.busy": "2025-07-30T13:50:43.865699Z",
     "iopub.status.idle": "2025-07-30T13:50:43.966318Z",
     "shell.execute_reply": "2025-07-30T13:50:43.965270Z"
    },
    "papermill": {
     "duration": 0.128136,
     "end_time": "2025-07-30T13:50:43.968407",
     "exception": false,
     "start_time": "2025-07-30T13:50:43.840271",
     "status": "completed"
    },
    "tags": []
   },
   "outputs": [],
   "source": [
    "# Auxiliary data needed downstream in the pipeline\n",
    "\n",
    "org_train = X_train.copy()\n",
    "org_test = X_test.copy()\n",
    "org_calib = X_calib.copy()"
   ]
  },
  {
   "cell_type": "code",
   "execution_count": 28,
   "id": "1466abac-c6da-4492-a62f-4240ae3783af",
   "metadata": {
    "execution": {
     "iopub.execute_input": "2025-07-30T13:50:44.016796Z",
     "iopub.status.busy": "2025-07-30T13:50:44.015820Z",
     "iopub.status.idle": "2025-07-30T13:50:44.021925Z",
     "shell.execute_reply": "2025-07-30T13:50:44.021083Z"
    },
    "papermill": {
     "duration": 0.03321,
     "end_time": "2025-07-30T13:50:44.023506",
     "exception": false,
     "start_time": "2025-07-30T13:50:43.990296",
     "status": "completed"
    },
    "tags": []
   },
   "outputs": [],
   "source": [
    "# put in other script?\n",
    "# Group sizes\n",
    "\n",
    "#def calculate_percentages(df, df_name):\n",
    "#    total_entries = len(df)\n",
    "#\n",
    "#    female_pct = (df['frau1'] == 1).mean() * 100\n",
    "#    non_german_pct = ((df['maxdeutsch1'] == 0) & (df['maxdeutsch.Missing.'] == 0)).mean() * 100\n",
    "#    non_german_male_pct = ((df['frau1'] == 0) & (df['maxdeutsch1'] == 0) & (df['maxdeutsch.Missing.'] == 0)).mean() * 100\n",
    "#    non_german_female_pct = ((df['frau1'] == 1) & (df['maxdeutsch1'] == 0) & (df['maxdeutsch.Missing.'] == 0)).mean() * 100\n",
    "#\n",
    "#    print(f\"--- {df_name} ---\")\n",
    "#    print(f\"Female: {female_pct:.2f}%\")\n",
    "#    print(f\"Non-German: {non_german_pct:.2f}%\")\n",
    "#    print(f\"Non-German Male: {non_german_male_pct:.2f}%\")\n",
    "#    print(f\"Non-German Female: {non_german_female_pct:.2f}%\\n\")\n",
    "#\n",
    "## Calculate for each DataFrame\n",
    "#calculate_percentages(siab_calib, \"siab_calib\")\n",
    "#calculate_percentages(siab_test, \"siab_test\")\n",
    "#calculate_percentages(siab_train, \"siab_train\")"
   ]
  },
  {
   "cell_type": "markdown",
   "id": "0a4a1b33",
   "metadata": {
    "papermill": {
     "duration": 0.022389,
     "end_time": "2025-07-30T13:50:44.067983",
     "exception": false,
     "start_time": "2025-07-30T13:50:44.045594",
     "status": "completed"
    },
    "tags": []
   },
   "source": [
    "# Preprocessing Data"
   ]
  },
  {
   "cell_type": "code",
   "execution_count": 29,
   "id": "ca879031",
   "metadata": {
    "execution": {
     "iopub.execute_input": "2025-07-30T13:50:44.109594Z",
     "iopub.status.busy": "2025-07-30T13:50:44.109256Z",
     "iopub.status.idle": "2025-07-30T13:50:44.114083Z",
     "shell.execute_reply": "2025-07-30T13:50:44.113240Z"
    },
    "papermill": {
     "duration": 0.02699,
     "end_time": "2025-07-30T13:50:44.115463",
     "exception": false,
     "start_time": "2025-07-30T13:50:44.088473",
     "status": "completed"
    },
    "tags": []
   },
   "outputs": [],
   "source": [
    "# EXCLUDE PROTECTED FEATURES\n",
    "# ----------------------\n",
    "# \"exclude_features\": \"none\", # \"nationality\", \"sex\", \"nationality-sex\"\n",
    "\n",
    "excluded_features = universe[\"exclude_features\"].split(\"-\") # split, e.g.: \"nationality-sex\" -> [\"nationality\", \"sex\"]\n",
    "excluded_features_dictionary = {\n",
    "    \"nationality\": [\"maxdeutsch1\", \"maxdeutsch.Missing.\"],\n",
    "    \"sex\": [\"frau1\"],\n",
    "    \"age\": [\"age\"],\n",
    "}\n"
   ]
  },
  {
   "cell_type": "code",
   "execution_count": 30,
   "id": "b745ac60",
   "metadata": {
    "execution": {
     "iopub.execute_input": "2025-07-30T13:50:44.148822Z",
     "iopub.status.busy": "2025-07-30T13:50:44.147967Z",
     "iopub.status.idle": "2025-07-30T13:50:44.153127Z",
     "shell.execute_reply": "2025-07-30T13:50:44.152436Z"
    },
    "papermill": {
     "duration": 0.024152,
     "end_time": "2025-07-30T13:50:44.154823",
     "exception": false,
     "start_time": "2025-07-30T13:50:44.130671",
     "status": "completed"
    },
    "tags": []
   },
   "outputs": [],
   "source": [
    "# Code nice names to column names\n",
    "\n",
    "excluded_features_columns = [\n",
    "    excluded_features_dictionary[f] for f in excluded_features if len(f) > 0 and f != \"none\"\n",
    "]"
   ]
  },
  {
   "cell_type": "code",
   "execution_count": 31,
   "id": "f84f73a2",
   "metadata": {
    "execution": {
     "iopub.execute_input": "2025-07-30T13:50:44.210094Z",
     "iopub.status.busy": "2025-07-30T13:50:44.209309Z",
     "iopub.status.idle": "2025-07-30T13:50:44.216389Z",
     "shell.execute_reply": "2025-07-30T13:50:44.215221Z"
    },
    "papermill": {
     "duration": 0.03718,
     "end_time": "2025-07-30T13:50:44.218194",
     "exception": false,
     "start_time": "2025-07-30T13:50:44.181014",
     "status": "completed"
    },
    "tags": []
   },
   "outputs": [],
   "source": [
    "from utils import flatten_once\n",
    "\n",
    "excluded_features_columns = flatten_once(excluded_features_columns)"
   ]
  },
  {
   "cell_type": "code",
   "execution_count": 32,
   "id": "884dea22",
   "metadata": {
    "execution": {
     "iopub.execute_input": "2025-07-30T13:50:44.266024Z",
     "iopub.status.busy": "2025-07-30T13:50:44.264992Z",
     "iopub.status.idle": "2025-07-30T13:50:44.276077Z",
     "shell.execute_reply": "2025-07-30T13:50:44.274923Z"
    },
    "papermill": {
     "duration": 0.035795,
     "end_time": "2025-07-30T13:50:44.277839",
     "exception": false,
     "start_time": "2025-07-30T13:50:44.242044",
     "status": "completed"
    },
    "tags": []
   },
   "outputs": [
    {
     "name": "stdout",
     "output_type": "stream",
     "text": [
      "Dropping features: ['frau1']\n"
     ]
    }
   ],
   "source": [
    "if len(excluded_features_columns) > 0:\n",
    "    print(f\"Dropping features: {excluded_features_columns}\")\n",
    "    X_train.drop(excluded_features_columns, axis=1, inplace=True)"
   ]
  },
  {
   "cell_type": "code",
   "execution_count": 33,
   "id": "95ab8b16",
   "metadata": {
    "execution": {
     "iopub.execute_input": "2025-07-30T13:50:44.329811Z",
     "iopub.status.busy": "2025-07-30T13:50:44.329183Z",
     "iopub.status.idle": "2025-07-30T13:50:44.386124Z",
     "shell.execute_reply": "2025-07-30T13:50:44.385093Z"
    },
    "papermill": {
     "duration": 0.084333,
     "end_time": "2025-07-30T13:50:44.387552",
     "exception": false,
     "start_time": "2025-07-30T13:50:44.303219",
     "status": "completed"
    },
    "tags": []
   },
   "outputs": [
    {
     "name": "stdout",
     "output_type": "stream",
     "text": [
      "Dropping features: ['frau1']\n"
     ]
    }
   ],
   "source": [
    "if len(excluded_features_columns) > 0:\n",
    "    print(f\"Dropping features: {excluded_features_columns}\")\n",
    "    X_test.drop(excluded_features_columns, axis=1, inplace=True)"
   ]
  },
  {
   "cell_type": "code",
   "execution_count": 34,
   "id": "1853aaf5-fb9f-46cb-a2b5-8ea4ae2237e4",
   "metadata": {
    "execution": {
     "iopub.execute_input": "2025-07-30T13:50:44.435210Z",
     "iopub.status.busy": "2025-07-30T13:50:44.434796Z",
     "iopub.status.idle": "2025-07-30T13:50:44.493337Z",
     "shell.execute_reply": "2025-07-30T13:50:44.492195Z"
    },
    "papermill": {
     "duration": 0.087914,
     "end_time": "2025-07-30T13:50:44.495220",
     "exception": false,
     "start_time": "2025-07-30T13:50:44.407306",
     "status": "completed"
    },
    "tags": []
   },
   "outputs": [
    {
     "name": "stdout",
     "output_type": "stream",
     "text": [
      "Dropping features: ['frau1']\n"
     ]
    }
   ],
   "source": [
    "if len(excluded_features_columns) > 0:\n",
    "    print(f\"Dropping features: {excluded_features_columns}\")\n",
    "    X_calib.drop(excluded_features_columns, axis=1, inplace=True)"
   ]
  },
  {
   "cell_type": "code",
   "execution_count": 35,
   "id": "6727d079-03e5-481e-9d38-292a90b7a0a8",
   "metadata": {
    "execution": {
     "iopub.execute_input": "2025-07-30T13:50:44.550373Z",
     "iopub.status.busy": "2025-07-30T13:50:44.549644Z",
     "iopub.status.idle": "2025-07-30T13:50:44.555047Z",
     "shell.execute_reply": "2025-07-30T13:50:44.554051Z"
    },
    "papermill": {
     "duration": 0.034934,
     "end_time": "2025-07-30T13:50:44.557091",
     "exception": false,
     "start_time": "2025-07-30T13:50:44.522157",
     "status": "completed"
    },
    "tags": []
   },
   "outputs": [],
   "source": [
    "# SPLIT & STRATIFY DATA\n",
    "# ----------------------"
   ]
  },
  {
   "cell_type": "code",
   "execution_count": 36,
   "id": "76c4dc6d",
   "metadata": {
    "execution": {
     "iopub.execute_input": "2025-07-30T13:50:44.619221Z",
     "iopub.status.busy": "2025-07-30T13:50:44.618463Z",
     "iopub.status.idle": "2025-07-30T13:50:44.624217Z",
     "shell.execute_reply": "2025-07-30T13:50:44.623415Z"
    },
    "papermill": {
     "duration": 0.034204,
     "end_time": "2025-07-30T13:50:44.625693",
     "exception": false,
     "start_time": "2025-07-30T13:50:44.591489",
     "status": "completed"
    },
    "tags": []
   },
   "outputs": [],
   "source": [
    "# EXCLUDE CERTAIN SUBGROUPS\n",
    "# ----------------------\n",
    "\n",
    "mode = universe.get(\"exclude_subgroups\", \"keep-all\") \n",
    "# Fetches the exclude_subgroups setting from the universe dict.\n",
    "# Defaults to \"keep-all\" if the key is missing."
   ]
  },
  {
   "cell_type": "code",
   "execution_count": 37,
   "id": "21994072",
   "metadata": {
    "execution": {
     "iopub.execute_input": "2025-07-30T13:50:44.668165Z",
     "iopub.status.busy": "2025-07-30T13:50:44.667679Z",
     "iopub.status.idle": "2025-07-30T13:50:44.674762Z",
     "shell.execute_reply": "2025-07-30T13:50:44.673779Z"
    },
    "papermill": {
     "duration": 0.03441,
     "end_time": "2025-07-30T13:50:44.676550",
     "exception": false,
     "start_time": "2025-07-30T13:50:44.642140",
     "status": "completed"
    },
    "tags": []
   },
   "outputs": [],
   "source": [
    "if mode == \"keep-all\":\n",
    "    keep_mask = pd.Series(True, index=org_train.index)\n",
    "\n",
    "# org_train contains the original feature columns from features_org (in Simson)\n",
    "# features_org contains unprocessed features, for me X_train at beginning ???\n",
    "# For keep-all, creates a boolean Series (keep_mask) of all True, so no rows are removed.\n",
    "\n",
    "elif mode == \"drop-non-german\":\n",
    "    keep_mask = org_train[\"maxdeutsch1\"] == 1 # ??? what about missing values?\n",
    "\n",
    "else:\n",
    "    raise ValueError(f\"Unsupported mode for exclude_subgroups: {mode}\")\n"
   ]
  },
  {
   "cell_type": "code",
   "execution_count": 38,
   "id": "71651440",
   "metadata": {
    "execution": {
     "iopub.execute_input": "2025-07-30T13:50:44.725970Z",
     "iopub.status.busy": "2025-07-30T13:50:44.725302Z",
     "iopub.status.idle": "2025-07-30T13:50:44.732982Z",
     "shell.execute_reply": "2025-07-30T13:50:44.731926Z"
    },
    "papermill": {
     "duration": 0.034343,
     "end_time": "2025-07-30T13:50:44.734756",
     "exception": false,
     "start_time": "2025-07-30T13:50:44.700413",
     "status": "completed"
    },
    "tags": []
   },
   "outputs": [
    {
     "name": "stdout",
     "output_type": "stream",
     "text": [
      "Dropping 741 rows (14.82%) where mode='drop-non-german'\n"
     ]
    }
   ],
   "source": [
    "n_drop = (~keep_mask).sum() # Calculates how many rows are set to be dropped\n",
    "if n_drop > 0:\n",
    "    pct = n_drop / len(keep_mask) * 100\n",
    "    print(f\"Dropping {n_drop} rows ({pct:.2f}%) where mode='{mode}'\")"
   ]
  },
  {
   "cell_type": "code",
   "execution_count": 39,
   "id": "5fb8eee5",
   "metadata": {
    "execution": {
     "iopub.execute_input": "2025-07-30T13:50:44.788246Z",
     "iopub.status.busy": "2025-07-30T13:50:44.787712Z",
     "iopub.status.idle": "2025-07-30T13:50:44.796686Z",
     "shell.execute_reply": "2025-07-30T13:50:44.795414Z"
    },
    "papermill": {
     "duration": 0.037549,
     "end_time": "2025-07-30T13:50:44.798625",
     "exception": false,
     "start_time": "2025-07-30T13:50:44.761076",
     "status": "completed"
    },
    "tags": []
   },
   "outputs": [],
   "source": [
    "X_train = X_train[keep_mask]"
   ]
  },
  {
   "cell_type": "code",
   "execution_count": 40,
   "id": "b202bb3a",
   "metadata": {
    "execution": {
     "iopub.execute_input": "2025-07-30T13:50:44.852893Z",
     "iopub.status.busy": "2025-07-30T13:50:44.851893Z",
     "iopub.status.idle": "2025-07-30T13:50:44.858656Z",
     "shell.execute_reply": "2025-07-30T13:50:44.857665Z"
    },
    "papermill": {
     "duration": 0.034857,
     "end_time": "2025-07-30T13:50:44.860429",
     "exception": false,
     "start_time": "2025-07-30T13:50:44.825572",
     "status": "completed"
    },
    "tags": []
   },
   "outputs": [],
   "source": [
    "y_train = y_train[keep_mask]"
   ]
  },
  {
   "cell_type": "markdown",
   "id": "493e2ac3",
   "metadata": {
    "papermill": {
     "duration": 0.022509,
     "end_time": "2025-07-30T13:50:44.905312",
     "exception": false,
     "start_time": "2025-07-30T13:50:44.882803",
     "status": "completed"
    },
    "tags": []
   },
   "source": [
    "# Model Training"
   ]
  },
  {
   "cell_type": "code",
   "execution_count": 41,
   "id": "679e1268",
   "metadata": {
    "execution": {
     "iopub.execute_input": "2025-07-30T13:50:44.953041Z",
     "iopub.status.busy": "2025-07-30T13:50:44.952126Z",
     "iopub.status.idle": "2025-07-30T13:50:45.057573Z",
     "shell.execute_reply": "2025-07-30T13:50:45.056439Z"
    },
    "papermill": {
     "duration": 0.132534,
     "end_time": "2025-07-30T13:50:45.059713",
     "exception": false,
     "start_time": "2025-07-30T13:50:44.927179",
     "status": "completed"
    },
    "tags": []
   },
   "outputs": [],
   "source": [
    "from sklearn.linear_model import LogisticRegression\n",
    "from sklearn.ensemble import GradientBoostingClassifier, RandomForestClassifier\n",
    "\n",
    "if (universe[\"model\"] == \"logreg\"):\n",
    "    model = LogisticRegression() #penalty=\"none\") #, solver=\"newton-cg\", max_iter=1) # include random_state=19 ?\n",
    "elif (universe[\"model\"] == \"penalized_logreg\"):\n",
    "    model = LogisticRegression(penalty=\"l2\", C=1.0) #, solver=\"newton-cg\", max_iter=1)\n",
    "elif (universe[\"model\"] == \"rf\"):\n",
    "    model = RandomForestClassifier(n_estimators=100, n_jobs=-1)\n",
    "elif (universe[\"model\"] == \"gbm\"):\n",
    "    model = GradientBoostingClassifier()\n",
    "elif (universe[\"model\"] == \"elasticnet\"):\n",
    "    model = LogisticRegression(penalty = 'elasticnet', solver = 'saga', l1_ratio = 0.5, max_iter=5000) # which solver to use?\n",
    "else:\n",
    "    raise \"Unsupported universe.model\""
   ]
  },
  {
   "cell_type": "code",
   "execution_count": 42,
   "id": "0cc8f744",
   "metadata": {
    "execution": {
     "iopub.execute_input": "2025-07-30T13:50:45.112719Z",
     "iopub.status.busy": "2025-07-30T13:50:45.111994Z",
     "iopub.status.idle": "2025-07-30T13:50:45.118728Z",
     "shell.execute_reply": "2025-07-30T13:50:45.118013Z"
    },
    "papermill": {
     "duration": 0.034279,
     "end_time": "2025-07-30T13:50:45.119918",
     "exception": false,
     "start_time": "2025-07-30T13:50:45.085639",
     "status": "completed"
    },
    "tags": []
   },
   "outputs": [],
   "source": [
    "import numpy as np\n",
    "from sklearn.pipeline import Pipeline\n",
    "from sklearn.preprocessing import StandardScaler\n",
    "\n",
    "model = Pipeline([\n",
    "    #(\"continuous_processor\", continuous_processor),\n",
    "    #(\"categorical_preprocessor\", categorical_preprocessor),\n",
    "    (\"scale\", StandardScaler() if universe[\"scale\"] == \"scale\" else None), \n",
    "    (\"model\", model),\n",
    "])"
   ]
  },
  {
   "cell_type": "code",
   "execution_count": 43,
   "id": "9442c04d",
   "metadata": {
    "execution": {
     "iopub.execute_input": "2025-07-30T13:50:45.149295Z",
     "iopub.status.busy": "2025-07-30T13:50:45.147677Z",
     "iopub.status.idle": "2025-07-30T13:50:49.538314Z",
     "shell.execute_reply": "2025-07-30T13:50:49.537266Z"
    },
    "papermill": {
     "duration": 4.406927,
     "end_time": "2025-07-30T13:50:49.539860",
     "exception": false,
     "start_time": "2025-07-30T13:50:45.132933",
     "status": "completed"
    },
    "tags": []
   },
   "outputs": [
    {
     "data": {
      "text/html": [
       "<style>#sk-container-id-1 {color: black;background-color: white;}#sk-container-id-1 pre{padding: 0;}#sk-container-id-1 div.sk-toggleable {background-color: white;}#sk-container-id-1 label.sk-toggleable__label {cursor: pointer;display: block;width: 100%;margin-bottom: 0;padding: 0.3em;box-sizing: border-box;text-align: center;}#sk-container-id-1 label.sk-toggleable__label-arrow:before {content: \"▸\";float: left;margin-right: 0.25em;color: #696969;}#sk-container-id-1 label.sk-toggleable__label-arrow:hover:before {color: black;}#sk-container-id-1 div.sk-estimator:hover label.sk-toggleable__label-arrow:before {color: black;}#sk-container-id-1 div.sk-toggleable__content {max-height: 0;max-width: 0;overflow: hidden;text-align: left;background-color: #f0f8ff;}#sk-container-id-1 div.sk-toggleable__content pre {margin: 0.2em;color: black;border-radius: 0.25em;background-color: #f0f8ff;}#sk-container-id-1 input.sk-toggleable__control:checked~div.sk-toggleable__content {max-height: 200px;max-width: 100%;overflow: auto;}#sk-container-id-1 input.sk-toggleable__control:checked~label.sk-toggleable__label-arrow:before {content: \"▾\";}#sk-container-id-1 div.sk-estimator input.sk-toggleable__control:checked~label.sk-toggleable__label {background-color: #d4ebff;}#sk-container-id-1 div.sk-label input.sk-toggleable__control:checked~label.sk-toggleable__label {background-color: #d4ebff;}#sk-container-id-1 input.sk-hidden--visually {border: 0;clip: rect(1px 1px 1px 1px);clip: rect(1px, 1px, 1px, 1px);height: 1px;margin: -1px;overflow: hidden;padding: 0;position: absolute;width: 1px;}#sk-container-id-1 div.sk-estimator {font-family: monospace;background-color: #f0f8ff;border: 1px dotted black;border-radius: 0.25em;box-sizing: border-box;margin-bottom: 0.5em;}#sk-container-id-1 div.sk-estimator:hover {background-color: #d4ebff;}#sk-container-id-1 div.sk-parallel-item::after {content: \"\";width: 100%;border-bottom: 1px solid gray;flex-grow: 1;}#sk-container-id-1 div.sk-label:hover label.sk-toggleable__label {background-color: #d4ebff;}#sk-container-id-1 div.sk-serial::before {content: \"\";position: absolute;border-left: 1px solid gray;box-sizing: border-box;top: 0;bottom: 0;left: 50%;z-index: 0;}#sk-container-id-1 div.sk-serial {display: flex;flex-direction: column;align-items: center;background-color: white;padding-right: 0.2em;padding-left: 0.2em;position: relative;}#sk-container-id-1 div.sk-item {position: relative;z-index: 1;}#sk-container-id-1 div.sk-parallel {display: flex;align-items: stretch;justify-content: center;background-color: white;position: relative;}#sk-container-id-1 div.sk-item::before, #sk-container-id-1 div.sk-parallel-item::before {content: \"\";position: absolute;border-left: 1px solid gray;box-sizing: border-box;top: 0;bottom: 0;left: 50%;z-index: -1;}#sk-container-id-1 div.sk-parallel-item {display: flex;flex-direction: column;z-index: 1;position: relative;background-color: white;}#sk-container-id-1 div.sk-parallel-item:first-child::after {align-self: flex-end;width: 50%;}#sk-container-id-1 div.sk-parallel-item:last-child::after {align-self: flex-start;width: 50%;}#sk-container-id-1 div.sk-parallel-item:only-child::after {width: 0;}#sk-container-id-1 div.sk-dashed-wrapped {border: 1px dashed gray;margin: 0 0.4em 0.5em 0.4em;box-sizing: border-box;padding-bottom: 0.4em;background-color: white;}#sk-container-id-1 div.sk-label label {font-family: monospace;font-weight: bold;display: inline-block;line-height: 1.2em;}#sk-container-id-1 div.sk-label-container {text-align: center;}#sk-container-id-1 div.sk-container {/* jupyter's `normalize.less` sets `[hidden] { display: none; }` but bootstrap.min.css set `[hidden] { display: none !important; }` so we also need the `!important` here to be able to override the default hidden behavior on the sphinx rendered scikit-learn.org. See: https://github.com/scikit-learn/scikit-learn/issues/21755 */display: inline-block !important;position: relative;}#sk-container-id-1 div.sk-text-repr-fallback {display: none;}</style><div id=\"sk-container-id-1\" class=\"sk-top-container\"><div class=\"sk-text-repr-fallback\"><pre>Pipeline(steps=[(&#x27;scale&#x27;, None), (&#x27;model&#x27;, GradientBoostingClassifier())])</pre><b>In a Jupyter environment, please rerun this cell to show the HTML representation or trust the notebook. <br />On GitHub, the HTML representation is unable to render, please try loading this page with nbviewer.org.</b></div><div class=\"sk-container\" hidden><div class=\"sk-item sk-dashed-wrapped\"><div class=\"sk-label-container\"><div class=\"sk-label sk-toggleable\"><input class=\"sk-toggleable__control sk-hidden--visually\" id=\"sk-estimator-id-1\" type=\"checkbox\" ><label for=\"sk-estimator-id-1\" class=\"sk-toggleable__label sk-toggleable__label-arrow\">Pipeline</label><div class=\"sk-toggleable__content\"><pre>Pipeline(steps=[(&#x27;scale&#x27;, None), (&#x27;model&#x27;, GradientBoostingClassifier())])</pre></div></div></div><div class=\"sk-serial\"><div class=\"sk-item\"><div class=\"sk-estimator sk-toggleable\"><input class=\"sk-toggleable__control sk-hidden--visually\" id=\"sk-estimator-id-2\" type=\"checkbox\" ><label for=\"sk-estimator-id-2\" class=\"sk-toggleable__label sk-toggleable__label-arrow\">None</label><div class=\"sk-toggleable__content\"><pre>None</pre></div></div></div><div class=\"sk-item\"><div class=\"sk-estimator sk-toggleable\"><input class=\"sk-toggleable__control sk-hidden--visually\" id=\"sk-estimator-id-3\" type=\"checkbox\" ><label for=\"sk-estimator-id-3\" class=\"sk-toggleable__label sk-toggleable__label-arrow\">GradientBoostingClassifier</label><div class=\"sk-toggleable__content\"><pre>GradientBoostingClassifier()</pre></div></div></div></div></div></div></div>"
      ],
      "text/plain": [
       "Pipeline(steps=[('scale', None), ('model', GradientBoostingClassifier())])"
      ]
     },
     "execution_count": 43,
     "metadata": {},
     "output_type": "execute_result"
    }
   ],
   "source": [
    "model.fit(X_train, y_train.values.ravel())"
   ]
  },
  {
   "cell_type": "code",
   "execution_count": 44,
   "id": "af59f8c0",
   "metadata": {
    "execution": {
     "iopub.execute_input": "2025-07-30T13:50:49.605258Z",
     "iopub.status.busy": "2025-07-30T13:50:49.604771Z",
     "iopub.status.idle": "2025-07-30T13:50:49.610223Z",
     "shell.execute_reply": "2025-07-30T13:50:49.609175Z"
    },
    "papermill": {
     "duration": 0.039386,
     "end_time": "2025-07-30T13:50:49.612356",
     "exception": false,
     "start_time": "2025-07-30T13:50:49.572970",
     "status": "completed"
    },
    "tags": []
   },
   "outputs": [],
   "source": [
    "from fairness_multiverse.universe import predict_w_threshold"
   ]
  },
  {
   "cell_type": "code",
   "execution_count": 45,
   "id": "a7cf2e16",
   "metadata": {
    "execution": {
     "iopub.execute_input": "2025-07-30T13:50:49.677224Z",
     "iopub.status.busy": "2025-07-30T13:50:49.676542Z",
     "iopub.status.idle": "2025-07-30T13:50:50.324801Z",
     "shell.execute_reply": "2025-07-30T13:50:50.323732Z"
    },
    "papermill": {
     "duration": 0.682818,
     "end_time": "2025-07-30T13:50:50.326579",
     "exception": false,
     "start_time": "2025-07-30T13:50:49.643761",
     "status": "completed"
    },
    "tags": []
   },
   "outputs": [
    {
     "data": {
      "text/plain": [
       "0.8663025303756549"
      ]
     },
     "execution_count": 45,
     "metadata": {},
     "output_type": "execute_result"
    }
   ],
   "source": [
    "probs_test = model.predict_proba(X_test)\n",
    "\n",
    "'''\n",
    "Below code returns a boolean array (or binary 0/1 array depending on how it’s used) where each element \n",
    "is True if the probability of class 1 is greater than or equal to the threshold, and False otherwise.\n",
    "'''\n",
    "y_pred_default = predict_w_threshold(probs_test, 0.5)\n",
    "\n",
    "from sklearn.metrics import accuracy_score\n",
    "\n",
    "# Naive prediction\n",
    "accuracy_score(y_true = y_true, y_pred = y_pred_default)"
   ]
  },
  {
   "cell_type": "code",
   "execution_count": 46,
   "id": "081964c3",
   "metadata": {
    "execution": {
     "iopub.execute_input": "2025-07-30T13:50:50.381156Z",
     "iopub.status.busy": "2025-07-30T13:50:50.380699Z",
     "iopub.status.idle": "2025-07-30T13:50:50.801640Z",
     "shell.execute_reply": "2025-07-30T13:50:50.800788Z"
    },
    "papermill": {
     "duration": 0.450858,
     "end_time": "2025-07-30T13:50:50.803215",
     "exception": false,
     "start_time": "2025-07-30T13:50:50.352357",
     "status": "completed"
    },
    "tags": []
   },
   "outputs": [
    {
     "data": {
      "text/plain": [
       "array([0, 0, 0, ..., 0, 0, 0])"
      ]
     },
     "execution_count": 46,
     "metadata": {},
     "output_type": "execute_result"
    }
   ],
   "source": [
    "model.predict(X_test)"
   ]
  },
  {
   "cell_type": "markdown",
   "id": "56c9705b",
   "metadata": {
    "papermill": {
     "duration": 0.02627,
     "end_time": "2025-07-30T13:50:50.855884",
     "exception": false,
     "start_time": "2025-07-30T13:50:50.829614",
     "status": "completed"
    },
    "tags": []
   },
   "source": [
    "# Conformal Prediction"
   ]
  },
  {
   "cell_type": "code",
   "execution_count": 47,
   "id": "160ec6ff",
   "metadata": {
    "execution": {
     "iopub.execute_input": "2025-07-30T13:50:50.906877Z",
     "iopub.status.busy": "2025-07-30T13:50:50.906026Z",
     "iopub.status.idle": "2025-07-30T13:50:50.910884Z",
     "shell.execute_reply": "2025-07-30T13:50:50.910062Z"
    },
    "papermill": {
     "duration": 0.031439,
     "end_time": "2025-07-30T13:50:50.912880",
     "exception": false,
     "start_time": "2025-07-30T13:50:50.881441",
     "status": "completed"
    },
    "tags": []
   },
   "outputs": [],
   "source": [
    "# Miscoverage level for conformal prediction (10% allowed error rate => 90% target coverage)\n",
    "alpha = 0.1"
   ]
  },
  {
   "cell_type": "code",
   "execution_count": 48,
   "id": "eadf4555-3dd3-440e-8e35-f82a4ad9f855",
   "metadata": {
    "execution": {
     "iopub.execute_input": "2025-07-30T13:50:50.966699Z",
     "iopub.status.busy": "2025-07-30T13:50:50.966241Z",
     "iopub.status.idle": "2025-07-30T13:50:51.517171Z",
     "shell.execute_reply": "2025-07-30T13:50:51.516130Z"
    },
    "papermill": {
     "duration": 0.580216,
     "end_time": "2025-07-30T13:50:51.519280",
     "exception": false,
     "start_time": "2025-07-30T13:50:50.939064",
     "status": "completed"
    },
    "tags": []
   },
   "outputs": [],
   "source": [
    "probs_calib = model.predict_proba(X_calib)"
   ]
  },
  {
   "cell_type": "code",
   "execution_count": 49,
   "id": "2ed93547-6d5d-4983-9b36-1ecb300da49a",
   "metadata": {
    "execution": {
     "iopub.execute_input": "2025-07-30T13:50:51.578933Z",
     "iopub.status.busy": "2025-07-30T13:50:51.578026Z",
     "iopub.status.idle": "2025-07-30T13:50:51.585097Z",
     "shell.execute_reply": "2025-07-30T13:50:51.584075Z"
    },
    "papermill": {
     "duration": 0.038697,
     "end_time": "2025-07-30T13:50:51.586832",
     "exception": false,
     "start_time": "2025-07-30T13:50:51.548135",
     "status": "completed"
    },
    "tags": []
   },
   "outputs": [],
   "source": [
    "y_calib = y_calib.values.ravel().astype(int)"
   ]
  },
  {
   "cell_type": "code",
   "execution_count": 50,
   "id": "65d1320d-f588-4b38-9072-62af1ae97f7d",
   "metadata": {
    "execution": {
     "iopub.execute_input": "2025-07-30T13:50:51.640240Z",
     "iopub.status.busy": "2025-07-30T13:50:51.639595Z",
     "iopub.status.idle": "2025-07-30T13:50:51.647921Z",
     "shell.execute_reply": "2025-07-30T13:50:51.647061Z"
    },
    "papermill": {
     "duration": 0.035427,
     "end_time": "2025-07-30T13:50:51.649463",
     "exception": false,
     "start_time": "2025-07-30T13:50:51.614036",
     "status": "completed"
    },
    "tags": []
   },
   "outputs": [],
   "source": [
    "from fairness_multiverse.conformal import compute_nc_scores\n",
    "\n",
    "# Compute nonconformity scores on calibration set (1 - probability of true class)\n",
    "nc_scores = compute_nc_scores(probs_calib, y_calib)"
   ]
  },
  {
   "cell_type": "code",
   "execution_count": 51,
   "id": "df3b8ca3-53b7-43d5-9667-7c85da7aeda2",
   "metadata": {
    "execution": {
     "iopub.execute_input": "2025-07-30T13:50:51.700837Z",
     "iopub.status.busy": "2025-07-30T13:50:51.700155Z",
     "iopub.status.idle": "2025-07-30T13:50:51.706806Z",
     "shell.execute_reply": "2025-07-30T13:50:51.706005Z"
    },
    "papermill": {
     "duration": 0.033918,
     "end_time": "2025-07-30T13:50:51.708306",
     "exception": false,
     "start_time": "2025-07-30T13:50:51.674388",
     "status": "completed"
    },
    "tags": []
   },
   "outputs": [],
   "source": [
    "from fairness_multiverse.conformal import find_threshold\n",
    "\n",
    "# Find conformal threshold q_hat for the given alpha (split conformal method)\n",
    "q_hat = find_threshold(nc_scores, alpha)"
   ]
  },
  {
   "cell_type": "code",
   "execution_count": 52,
   "id": "4d29e6c1-0ef6-4aa4-b8fe-4fe79b0d033a",
   "metadata": {
    "execution": {
     "iopub.execute_input": "2025-07-30T13:50:51.758102Z",
     "iopub.status.busy": "2025-07-30T13:50:51.757430Z",
     "iopub.status.idle": "2025-07-30T13:50:51.765123Z",
     "shell.execute_reply": "2025-07-30T13:50:51.764126Z"
    },
    "papermill": {
     "duration": 0.034587,
     "end_time": "2025-07-30T13:50:51.766763",
     "exception": false,
     "start_time": "2025-07-30T13:50:51.732176",
     "status": "completed"
    },
    "tags": []
   },
   "outputs": [
    {
     "data": {
      "text/plain": [
       "0.6894577263215058"
      ]
     },
     "execution_count": 52,
     "metadata": {},
     "output_type": "execute_result"
    }
   ],
   "source": [
    "q_hat"
   ]
  },
  {
   "cell_type": "code",
   "execution_count": 53,
   "id": "92460794-cdac-4be2-ba28-f28c0515a6fb",
   "metadata": {
    "execution": {
     "iopub.execute_input": "2025-07-30T13:50:51.829922Z",
     "iopub.status.busy": "2025-07-30T13:50:51.829186Z",
     "iopub.status.idle": "2025-07-30T13:50:53.190763Z",
     "shell.execute_reply": "2025-07-30T13:50:53.189856Z"
    },
    "papermill": {
     "duration": 1.398172,
     "end_time": "2025-07-30T13:50:53.192634",
     "exception": false,
     "start_time": "2025-07-30T13:50:51.794462",
     "status": "completed"
    },
    "tags": []
   },
   "outputs": [],
   "source": [
    "from fairness_multiverse.conformal import predict_conformal_sets\n",
    "\n",
    "# Generate prediction sets for each test example\n",
    "pred_sets = predict_conformal_sets(model, X_test, q_hat)"
   ]
  },
  {
   "cell_type": "code",
   "execution_count": 54,
   "id": "d90c9a65-e6db-4f5d-80cd-e68fb7e46829",
   "metadata": {
    "execution": {
     "iopub.execute_input": "2025-07-30T13:50:53.242744Z",
     "iopub.status.busy": "2025-07-30T13:50:53.241974Z",
     "iopub.status.idle": "2025-07-30T13:50:53.247586Z",
     "shell.execute_reply": "2025-07-30T13:50:53.246547Z"
    },
    "papermill": {
     "duration": 0.031368,
     "end_time": "2025-07-30T13:50:53.249181",
     "exception": false,
     "start_time": "2025-07-30T13:50:53.217813",
     "status": "completed"
    },
    "tags": []
   },
   "outputs": [],
   "source": [
    "y_true = y_true.squeeze()"
   ]
  },
  {
   "cell_type": "code",
   "execution_count": 55,
   "id": "3a58a54a-1e68-46b9-927a-df01f18aebc8",
   "metadata": {
    "execution": {
     "iopub.execute_input": "2025-07-30T13:50:53.297837Z",
     "iopub.status.busy": "2025-07-30T13:50:53.297174Z",
     "iopub.status.idle": "2025-07-30T13:50:54.188779Z",
     "shell.execute_reply": "2025-07-30T13:50:54.187827Z"
    },
    "papermill": {
     "duration": 0.917377,
     "end_time": "2025-07-30T13:50:54.190830",
     "exception": false,
     "start_time": "2025-07-30T13:50:53.273453",
     "status": "completed"
    },
    "tags": []
   },
   "outputs": [],
   "source": [
    "from fairness_multiverse.conformal import evaluate_sets\n",
    "\n",
    "# Evaluate coverage and average set size on test data\n",
    "metrics = evaluate_sets(pred_sets, y_true)"
   ]
  },
  {
   "cell_type": "markdown",
   "id": "2b569c12-9aaa-4c88-98c9-bbcd0cf3ebb8",
   "metadata": {
    "papermill": {
     "duration": 0.024994,
     "end_time": "2025-07-30T13:50:54.240966",
     "exception": false,
     "start_time": "2025-07-30T13:50:54.215972",
     "status": "completed"
    },
    "tags": []
   },
   "source": [
    "# CP Metrics"
   ]
  },
  {
   "cell_type": "code",
   "execution_count": 56,
   "id": "5ce0a5cb-201f-45a0-ade5-94c7f0bd6095",
   "metadata": {
    "execution": {
     "iopub.execute_input": "2025-07-30T13:50:54.292002Z",
     "iopub.status.busy": "2025-07-30T13:50:54.291350Z",
     "iopub.status.idle": "2025-07-30T13:50:54.298375Z",
     "shell.execute_reply": "2025-07-30T13:50:54.297486Z"
    },
    "papermill": {
     "duration": 0.034391,
     "end_time": "2025-07-30T13:50:54.299844",
     "exception": false,
     "start_time": "2025-07-30T13:50:54.265453",
     "status": "completed"
    },
    "tags": []
   },
   "outputs": [
    {
     "data": {
      "text/plain": [
       "{'coverage': 0.9099877382677516, 'avg_size': 1.1205662690892877}"
      ]
     },
     "execution_count": 56,
     "metadata": {},
     "output_type": "execute_result"
    }
   ],
   "source": [
    "metrics"
   ]
  },
  {
   "cell_type": "code",
   "execution_count": 57,
   "id": "9b9a838d-31c9-430b-ae14-12baee460d17",
   "metadata": {
    "execution": {
     "iopub.execute_input": "2025-07-30T13:50:54.351978Z",
     "iopub.status.busy": "2025-07-30T13:50:54.351330Z",
     "iopub.status.idle": "2025-07-30T13:50:54.357464Z",
     "shell.execute_reply": "2025-07-30T13:50:54.356566Z"
    },
    "papermill": {
     "duration": 0.033466,
     "end_time": "2025-07-30T13:50:54.358982",
     "exception": false,
     "start_time": "2025-07-30T13:50:54.325516",
     "status": "completed"
    },
    "tags": []
   },
   "outputs": [],
   "source": [
    "example_universe = universe.copy()\n",
    "universe_training_size = example_universe.get(\"training_size\")\n",
    "universe_scale = example_universe.get(\"scale\")\n",
    "universe_model = example_universe.get(\"model\")\n",
    "universe_exclude_features = example_universe.get(\"exclude_features\")\n",
    "universe_exclude_subgroups = example_universe.get(\"exclude_subgroups\")"
   ]
  },
  {
   "cell_type": "code",
   "execution_count": 58,
   "id": "f4b6a8ac-9dc0-4245-8a91-5b3b5999c4f9",
   "metadata": {
    "execution": {
     "iopub.execute_input": "2025-07-30T13:50:54.412127Z",
     "iopub.status.busy": "2025-07-30T13:50:54.411341Z",
     "iopub.status.idle": "2025-07-30T13:50:54.417806Z",
     "shell.execute_reply": "2025-07-30T13:50:54.416857Z"
    },
    "papermill": {
     "duration": 0.034424,
     "end_time": "2025-07-30T13:50:54.419377",
     "exception": false,
     "start_time": "2025-07-30T13:50:54.384953",
     "status": "completed"
    },
    "tags": []
   },
   "outputs": [],
   "source": [
    "cp_metrics_dict = {\n",
    "    \"universe_id\": [universe_id],\n",
    "    \"universe_training_size\": [universe_training_size],\n",
    "    \"universe_scale\": [universe_scale],\n",
    "    \"universe_model\": [universe_model],\n",
    "    \"universe_exclude_features\": [universe_exclude_features],\n",
    "    \"universe_exclude_subgroups\": [universe_exclude_subgroups],\n",
    "    \"q_hat\": [q_hat],\n",
    "    \"coverage\": [metrics[\"coverage\"]],\n",
    "    \"avg_size\": [metrics[\"avg_size\"]],\n",
    "}"
   ]
  },
  {
   "cell_type": "code",
   "execution_count": 59,
   "id": "908acbb1-0371-4915-85ca-3fa520d2efe2",
   "metadata": {
    "execution": {
     "iopub.execute_input": "2025-07-30T13:50:54.471830Z",
     "iopub.status.busy": "2025-07-30T13:50:54.471176Z",
     "iopub.status.idle": "2025-07-30T13:50:54.478359Z",
     "shell.execute_reply": "2025-07-30T13:50:54.477491Z"
    },
    "papermill": {
     "duration": 0.034554,
     "end_time": "2025-07-30T13:50:54.479873",
     "exception": false,
     "start_time": "2025-07-30T13:50:54.445319",
     "status": "completed"
    },
    "tags": []
   },
   "outputs": [
    {
     "data": {
      "text/plain": [
       "{'universe_id': ['9494386297ba0c316d616ad599445760'],\n",
       " 'universe_training_size': ['5k'],\n",
       " 'universe_scale': ['do-not-scale'],\n",
       " 'universe_model': ['gbm'],\n",
       " 'universe_exclude_features': ['sex'],\n",
       " 'universe_exclude_subgroups': ['drop-non-german'],\n",
       " 'q_hat': [0.6894577263215058],\n",
       " 'coverage': [0.9099877382677516],\n",
       " 'avg_size': [1.1205662690892877]}"
      ]
     },
     "execution_count": 59,
     "metadata": {},
     "output_type": "execute_result"
    }
   ],
   "source": [
    "cp_metrics_dict"
   ]
  },
  {
   "cell_type": "code",
   "execution_count": 60,
   "id": "33007efc-14e9-4ec6-97ac-56a455c82265",
   "metadata": {
    "execution": {
     "iopub.execute_input": "2025-07-30T13:50:54.532609Z",
     "iopub.status.busy": "2025-07-30T13:50:54.531938Z",
     "iopub.status.idle": "2025-07-30T13:50:54.538655Z",
     "shell.execute_reply": "2025-07-30T13:50:54.537737Z"
    },
    "papermill": {
     "duration": 0.034663,
     "end_time": "2025-07-30T13:50:54.540275",
     "exception": false,
     "start_time": "2025-07-30T13:50:54.505612",
     "status": "completed"
    },
    "tags": []
   },
   "outputs": [],
   "source": [
    "cp_metrics_df = pd.DataFrame(cp_metrics_dict)"
   ]
  },
  {
   "cell_type": "code",
   "execution_count": 61,
   "id": "db12611b-57b2-4910-b9d0-355adfd6e7bf",
   "metadata": {
    "execution": {
     "iopub.execute_input": "2025-07-30T13:50:54.591909Z",
     "iopub.status.busy": "2025-07-30T13:50:54.591071Z",
     "iopub.status.idle": "2025-07-30T13:50:54.608105Z",
     "shell.execute_reply": "2025-07-30T13:50:54.607266Z"
    },
    "papermill": {
     "duration": 0.043702,
     "end_time": "2025-07-30T13:50:54.609639",
     "exception": false,
     "start_time": "2025-07-30T13:50:54.565937",
     "status": "completed"
    },
    "tags": []
   },
   "outputs": [
    {
     "data": {
      "text/html": [
       "<div>\n",
       "<style scoped>\n",
       "    .dataframe tbody tr th:only-of-type {\n",
       "        vertical-align: middle;\n",
       "    }\n",
       "\n",
       "    .dataframe tbody tr th {\n",
       "        vertical-align: top;\n",
       "    }\n",
       "\n",
       "    .dataframe thead th {\n",
       "        text-align: right;\n",
       "    }\n",
       "</style>\n",
       "<table border=\"1\" class=\"dataframe\">\n",
       "  <thead>\n",
       "    <tr style=\"text-align: right;\">\n",
       "      <th></th>\n",
       "      <th>universe_id</th>\n",
       "      <th>universe_training_size</th>\n",
       "      <th>universe_scale</th>\n",
       "      <th>universe_model</th>\n",
       "      <th>universe_exclude_features</th>\n",
       "      <th>universe_exclude_subgroups</th>\n",
       "      <th>q_hat</th>\n",
       "      <th>coverage</th>\n",
       "      <th>avg_size</th>\n",
       "    </tr>\n",
       "  </thead>\n",
       "  <tbody>\n",
       "    <tr>\n",
       "      <th>0</th>\n",
       "      <td>9494386297ba0c316d616ad599445760</td>\n",
       "      <td>5k</td>\n",
       "      <td>do-not-scale</td>\n",
       "      <td>gbm</td>\n",
       "      <td>sex</td>\n",
       "      <td>drop-non-german</td>\n",
       "      <td>0.689458</td>\n",
       "      <td>0.909988</td>\n",
       "      <td>1.120566</td>\n",
       "    </tr>\n",
       "  </tbody>\n",
       "</table>\n",
       "</div>"
      ],
      "text/plain": [
       "                        universe_id universe_training_size universe_scale  \\\n",
       "0  9494386297ba0c316d616ad599445760                     5k   do-not-scale   \n",
       "\n",
       "  universe_model universe_exclude_features universe_exclude_subgroups  \\\n",
       "0            gbm                       sex            drop-non-german   \n",
       "\n",
       "      q_hat  coverage  avg_size  \n",
       "0  0.689458  0.909988  1.120566  "
      ]
     },
     "execution_count": 61,
     "metadata": {},
     "output_type": "execute_result"
    }
   ],
   "source": [
    "cp_metrics_df"
   ]
  },
  {
   "cell_type": "code",
   "execution_count": 62,
   "id": "b7fbde55-a0a1-47e4-9af6-fe4a17fa8c61",
   "metadata": {
    "execution": {
     "iopub.execute_input": "2025-07-30T13:50:54.661810Z",
     "iopub.status.busy": "2025-07-30T13:50:54.660970Z",
     "iopub.status.idle": "2025-07-30T13:50:54.665914Z",
     "shell.execute_reply": "2025-07-30T13:50:54.665081Z"
    },
    "papermill": {
     "duration": 0.033142,
     "end_time": "2025-07-30T13:50:54.667394",
     "exception": false,
     "start_time": "2025-07-30T13:50:54.634252",
     "status": "completed"
    },
    "tags": []
   },
   "outputs": [],
   "source": [
    "# Conditional Coverage & looking at subgroups"
   ]
  },
  {
   "cell_type": "code",
   "execution_count": 63,
   "id": "027ae886-68dd-4141-96c7-805a5450e1ef",
   "metadata": {
    "execution": {
     "iopub.execute_input": "2025-07-30T13:50:54.719216Z",
     "iopub.status.busy": "2025-07-30T13:50:54.718778Z",
     "iopub.status.idle": "2025-07-30T13:50:54.969354Z",
     "shell.execute_reply": "2025-07-30T13:50:54.968480Z"
    },
    "papermill": {
     "duration": 0.278984,
     "end_time": "2025-07-30T13:50:54.971283",
     "exception": false,
     "start_time": "2025-07-30T13:50:54.692299",
     "status": "completed"
    },
    "tags": []
   },
   "outputs": [],
   "source": [
    "from fairness_multiverse.conformal import build_cp_groups\n",
    "\n",
    "cp_groups_df = build_cp_groups(pred_sets, y_true, X_test.index, org_test)\n",
    "#needs universe_id and setting"
   ]
  },
  {
   "cell_type": "code",
   "execution_count": 64,
   "id": "01d5802c-663a-4d1f-9d69-e036faaffbf7",
   "metadata": {
    "execution": {
     "iopub.execute_input": "2025-07-30T13:50:55.025806Z",
     "iopub.status.busy": "2025-07-30T13:50:55.025158Z",
     "iopub.status.idle": "2025-07-30T13:50:55.029930Z",
     "shell.execute_reply": "2025-07-30T13:50:55.029075Z"
    },
    "papermill": {
     "duration": 0.033317,
     "end_time": "2025-07-30T13:50:55.031405",
     "exception": false,
     "start_time": "2025-07-30T13:50:54.998088",
     "status": "completed"
    },
    "tags": []
   },
   "outputs": [],
   "source": [
    "#delete\n",
    "#cp_groups_df"
   ]
  },
  {
   "cell_type": "code",
   "execution_count": 65,
   "id": "fa424af1-d1eb-443d-b717-2d279ada8408",
   "metadata": {
    "execution": {
     "iopub.execute_input": "2025-07-30T13:50:55.083099Z",
     "iopub.status.busy": "2025-07-30T13:50:55.082452Z",
     "iopub.status.idle": "2025-07-30T13:50:55.087270Z",
     "shell.execute_reply": "2025-07-30T13:50:55.086361Z"
    },
    "papermill": {
     "duration": 0.032277,
     "end_time": "2025-07-30T13:50:55.088788",
     "exception": false,
     "start_time": "2025-07-30T13:50:55.056511",
     "status": "completed"
    },
    "tags": []
   },
   "outputs": [],
   "source": [
    "#delete\n",
    "#percentage = (cp_groups_df['nongerman_female'] == 1).mean() * 100\n",
    "#print(percentage)\n"
   ]
  },
  {
   "cell_type": "code",
   "execution_count": 66,
   "id": "6cbdab96-b2b2-45af-ad54-d0516db2e28d",
   "metadata": {
    "execution": {
     "iopub.execute_input": "2025-07-30T13:50:55.142155Z",
     "iopub.status.busy": "2025-07-30T13:50:55.141510Z",
     "iopub.status.idle": "2025-07-30T13:50:56.687555Z",
     "shell.execute_reply": "2025-07-30T13:50:56.686447Z"
    },
    "papermill": {
     "duration": 1.575229,
     "end_time": "2025-07-30T13:50:56.690084",
     "exception": false,
     "start_time": "2025-07-30T13:50:55.114855",
     "status": "completed"
    },
    "tags": []
   },
   "outputs": [],
   "source": [
    "# Define covered = 1 if true_label is in the predicted set\n",
    "cp_groups_df['covered'] = cp_groups_df.apply(\n",
    "    lambda r: int(r['true_label'] in r['pred_set']),\n",
    "    axis=1\n",
    ")"
   ]
  },
  {
   "cell_type": "code",
   "execution_count": 67,
   "id": "338ff529-1a6b-4b87-a931-8e4788d52aad",
   "metadata": {
    "execution": {
     "iopub.execute_input": "2025-07-30T13:50:56.776425Z",
     "iopub.status.busy": "2025-07-30T13:50:56.775601Z",
     "iopub.status.idle": "2025-07-30T13:50:56.781428Z",
     "shell.execute_reply": "2025-07-30T13:50:56.780167Z"
    },
    "papermill": {
     "duration": 0.049413,
     "end_time": "2025-07-30T13:50:56.783660",
     "exception": false,
     "start_time": "2025-07-30T13:50:56.734247",
     "status": "completed"
    },
    "tags": []
   },
   "outputs": [],
   "source": [
    "#cp_groups_df"
   ]
  },
  {
   "cell_type": "code",
   "execution_count": 68,
   "id": "90032e27-66df-4540-9169-4e89cfbaa758",
   "metadata": {
    "execution": {
     "iopub.execute_input": "2025-07-30T13:50:56.868714Z",
     "iopub.status.busy": "2025-07-30T13:50:56.868288Z",
     "iopub.status.idle": "2025-07-30T13:50:56.883372Z",
     "shell.execute_reply": "2025-07-30T13:50:56.882168Z"
    },
    "papermill": {
     "duration": 0.060056,
     "end_time": "2025-07-30T13:50:56.885405",
     "exception": false,
     "start_time": "2025-07-30T13:50:56.825349",
     "status": "completed"
    },
    "tags": []
   },
   "outputs": [],
   "source": [
    "subgroups = ['frau1','nongerman','nongerman_male','nongerman_female']\n",
    "\n",
    "# Conditional coverage for subgroup==1\n",
    "cond_coverage = {\n",
    "    g: cp_groups_df.loc[cp_groups_df[g]==1, 'covered'].mean()\n",
    "    for g in subgroups\n",
    "}"
   ]
  },
  {
   "cell_type": "code",
   "execution_count": 69,
   "id": "1e348fb1-b9c3-45bc-ba23-f016827a7e0d",
   "metadata": {
    "execution": {
     "iopub.execute_input": "2025-07-30T13:50:56.962766Z",
     "iopub.status.busy": "2025-07-30T13:50:56.961805Z",
     "iopub.status.idle": "2025-07-30T13:50:56.970089Z",
     "shell.execute_reply": "2025-07-30T13:50:56.969015Z"
    },
    "papermill": {
     "duration": 0.039736,
     "end_time": "2025-07-30T13:50:56.971751",
     "exception": false,
     "start_time": "2025-07-30T13:50:56.932015",
     "status": "completed"
    },
    "tags": []
   },
   "outputs": [
    {
     "data": {
      "text/plain": [
       "{'frau1': 0.9087478096778542,\n",
       " 'nongerman': 0.9088867680907202,\n",
       " 'nongerman_male': 0.924614968927317,\n",
       " 'nongerman_female': 0.8828614008941877}"
      ]
     },
     "execution_count": 69,
     "metadata": {},
     "output_type": "execute_result"
    }
   ],
   "source": [
    "cond_coverage"
   ]
  },
  {
   "cell_type": "code",
   "execution_count": 70,
   "id": "f5093324-c3dd-4d63-bc4c-8d945e5c8bbb",
   "metadata": {
    "execution": {
     "iopub.execute_input": "2025-07-30T13:50:57.029811Z",
     "iopub.status.busy": "2025-07-30T13:50:57.029099Z",
     "iopub.status.idle": "2025-07-30T13:50:57.039226Z",
     "shell.execute_reply": "2025-07-30T13:50:57.038008Z"
    },
    "papermill": {
     "duration": 0.040857,
     "end_time": "2025-07-30T13:50:57.041283",
     "exception": false,
     "start_time": "2025-07-30T13:50:57.000426",
     "status": "completed"
    },
    "tags": []
   },
   "outputs": [],
   "source": [
    "for subgroup, cov in cond_coverage.items():\n",
    "    cp_metrics_df[f\"cov_{subgroup}\"] = cov"
   ]
  },
  {
   "cell_type": "code",
   "execution_count": 71,
   "id": "6e872e10-dbe5-49e8-b554-5030c98ff75d",
   "metadata": {
    "execution": {
     "iopub.execute_input": "2025-07-30T13:50:57.099296Z",
     "iopub.status.busy": "2025-07-30T13:50:57.098314Z",
     "iopub.status.idle": "2025-07-30T13:50:57.123127Z",
     "shell.execute_reply": "2025-07-30T13:50:57.121864Z"
    },
    "papermill": {
     "duration": 0.055389,
     "end_time": "2025-07-30T13:50:57.125268",
     "exception": false,
     "start_time": "2025-07-30T13:50:57.069879",
     "status": "completed"
    },
    "tags": []
   },
   "outputs": [
    {
     "data": {
      "text/html": [
       "<div>\n",
       "<style scoped>\n",
       "    .dataframe tbody tr th:only-of-type {\n",
       "        vertical-align: middle;\n",
       "    }\n",
       "\n",
       "    .dataframe tbody tr th {\n",
       "        vertical-align: top;\n",
       "    }\n",
       "\n",
       "    .dataframe thead th {\n",
       "        text-align: right;\n",
       "    }\n",
       "</style>\n",
       "<table border=\"1\" class=\"dataframe\">\n",
       "  <thead>\n",
       "    <tr style=\"text-align: right;\">\n",
       "      <th></th>\n",
       "      <th>universe_id</th>\n",
       "      <th>universe_training_size</th>\n",
       "      <th>universe_scale</th>\n",
       "      <th>universe_model</th>\n",
       "      <th>universe_exclude_features</th>\n",
       "      <th>universe_exclude_subgroups</th>\n",
       "      <th>q_hat</th>\n",
       "      <th>coverage</th>\n",
       "      <th>avg_size</th>\n",
       "      <th>cov_frau1</th>\n",
       "      <th>cov_nongerman</th>\n",
       "      <th>cov_nongerman_male</th>\n",
       "      <th>cov_nongerman_female</th>\n",
       "    </tr>\n",
       "  </thead>\n",
       "  <tbody>\n",
       "    <tr>\n",
       "      <th>0</th>\n",
       "      <td>9494386297ba0c316d616ad599445760</td>\n",
       "      <td>5k</td>\n",
       "      <td>do-not-scale</td>\n",
       "      <td>gbm</td>\n",
       "      <td>sex</td>\n",
       "      <td>drop-non-german</td>\n",
       "      <td>0.689458</td>\n",
       "      <td>0.909988</td>\n",
       "      <td>1.120566</td>\n",
       "      <td>0.908748</td>\n",
       "      <td>0.908887</td>\n",
       "      <td>0.924615</td>\n",
       "      <td>0.882861</td>\n",
       "    </tr>\n",
       "  </tbody>\n",
       "</table>\n",
       "</div>"
      ],
      "text/plain": [
       "                        universe_id universe_training_size universe_scale  \\\n",
       "0  9494386297ba0c316d616ad599445760                     5k   do-not-scale   \n",
       "\n",
       "  universe_model universe_exclude_features universe_exclude_subgroups  \\\n",
       "0            gbm                       sex            drop-non-german   \n",
       "\n",
       "      q_hat  coverage  avg_size  cov_frau1  cov_nongerman  cov_nongerman_male  \\\n",
       "0  0.689458  0.909988  1.120566   0.908748       0.908887            0.924615   \n",
       "\n",
       "   cov_nongerman_female  \n",
       "0              0.882861  "
      ]
     },
     "execution_count": 71,
     "metadata": {},
     "output_type": "execute_result"
    }
   ],
   "source": [
    "cp_metrics_df"
   ]
  },
  {
   "cell_type": "markdown",
   "id": "33774451",
   "metadata": {
    "papermill": {
     "duration": 0.041016,
     "end_time": "2025-07-30T13:50:57.206862",
     "exception": false,
     "start_time": "2025-07-30T13:50:57.165846",
     "status": "completed"
    },
    "tags": []
   },
   "source": [
    "# (Fairness) Metrics"
   ]
  },
  {
   "cell_type": "code",
   "execution_count": 72,
   "id": "debc5d62",
   "metadata": {
    "execution": {
     "iopub.execute_input": "2025-07-30T13:50:57.289687Z",
     "iopub.status.busy": "2025-07-30T13:50:57.289312Z",
     "iopub.status.idle": "2025-07-30T13:50:57.313008Z",
     "shell.execute_reply": "2025-07-30T13:50:57.311945Z"
    },
    "papermill": {
     "duration": 0.067938,
     "end_time": "2025-07-30T13:50:57.314939",
     "exception": false,
     "start_time": "2025-07-30T13:50:57.247001",
     "status": "completed"
    },
    "tags": []
   },
   "outputs": [],
   "source": [
    "# do I need to include maxdeutsch1.missing?\n",
    "\n",
    "import numpy as np\n",
    "\n",
    "colname_to_bin = \"maxdeutsch1\"\n",
    "majority_value = org_train[colname_to_bin].mode()[0]\n",
    "\n",
    "org_test[\"majmin\"] = np.where(org_test[colname_to_bin] == majority_value, \"majority\", \"minority\")"
   ]
  },
  {
   "cell_type": "code",
   "execution_count": 73,
   "id": "06a50de5",
   "metadata": {
    "execution": {
     "iopub.execute_input": "2025-07-30T13:50:57.374215Z",
     "iopub.status.busy": "2025-07-30T13:50:57.373615Z",
     "iopub.status.idle": "2025-07-30T13:50:59.789390Z",
     "shell.execute_reply": "2025-07-30T13:50:59.788503Z"
    },
    "papermill": {
     "duration": 2.448206,
     "end_time": "2025-07-30T13:50:59.791302",
     "exception": false,
     "start_time": "2025-07-30T13:50:57.343096",
     "status": "completed"
    },
    "tags": []
   },
   "outputs": [],
   "source": [
    "example_universe = universe.copy()\n",
    "example_universe[\"cutoff\"] = example_universe[\"cutoff\"][0]\n",
    "example_universe[\"eval_fairness_grouping\"] = example_universe[\"eval_fairness_grouping\"][0]\n",
    "fairness_dict, metric_frame = universe_analysis.compute_metrics(\n",
    "    example_universe,\n",
    "    y_pred_prob=probs_test,\n",
    "    y_test=y_true,\n",
    "    org_test=org_test,\n",
    ")"
   ]
  },
  {
   "cell_type": "markdown",
   "id": "f95d4e02",
   "metadata": {
    "papermill": {
     "duration": 0.025956,
     "end_time": "2025-07-30T13:50:59.846219",
     "exception": false,
     "start_time": "2025-07-30T13:50:59.820263",
     "status": "completed"
    },
    "tags": []
   },
   "source": [
    "# Overall"
   ]
  },
  {
   "cell_type": "markdown",
   "id": "bdee4871",
   "metadata": {
    "papermill": {
     "duration": 0.029718,
     "end_time": "2025-07-30T13:50:59.904919",
     "exception": false,
     "start_time": "2025-07-30T13:50:59.875201",
     "status": "completed"
    },
    "tags": []
   },
   "source": [
    "Fairness\n",
    "Main fairness target: Equalized Odds. Seems to be a better fit than equal opportunity, since we're not only interested in Y = 1. Seems to be a better fit than demographic parity, since we also care about accuracy, not just equal distribution of preds.\n",
    "\n",
    "Pick column for computation of fairness metrics\n",
    "\n",
    "Performance\n",
    "Overall performance measures, most interesting in relation to the measures split by group below"
   ]
  },
  {
   "cell_type": "code",
   "execution_count": 74,
   "id": "c4e067c6",
   "metadata": {
    "execution": {
     "iopub.execute_input": "2025-07-30T13:50:59.960413Z",
     "iopub.status.busy": "2025-07-30T13:50:59.960012Z",
     "iopub.status.idle": "2025-07-30T13:50:59.967999Z",
     "shell.execute_reply": "2025-07-30T13:50:59.966957Z"
    },
    "papermill": {
     "duration": 0.034459,
     "end_time": "2025-07-30T13:50:59.969373",
     "exception": false,
     "start_time": "2025-07-30T13:50:59.934914",
     "status": "completed"
    },
    "tags": []
   },
   "outputs": [
    {
     "data": {
      "text/plain": [
       "accuracy                   0.224512\n",
       "balanced accuracy          0.548935\n",
       "f1                         0.245840\n",
       "precision                  0.140440\n",
       "false positive rate        0.887445\n",
       "false negative rate        0.014685\n",
       "selection rate             0.900000\n",
       "count                  89710.000000\n",
       "dtype: float64"
      ]
     },
     "execution_count": 74,
     "metadata": {},
     "output_type": "execute_result"
    }
   ],
   "source": [
    "metric_frame.overall"
   ]
  },
  {
   "cell_type": "markdown",
   "id": "e968fe9d",
   "metadata": {
    "papermill": {
     "duration": 0.031248,
     "end_time": "2025-07-30T13:51:00.025198",
     "exception": false,
     "start_time": "2025-07-30T13:50:59.993950",
     "status": "completed"
    },
    "tags": []
   },
   "source": [
    "By Group"
   ]
  },
  {
   "cell_type": "code",
   "execution_count": 75,
   "id": "ec325bce",
   "metadata": {
    "execution": {
     "iopub.execute_input": "2025-07-30T13:51:00.089578Z",
     "iopub.status.busy": "2025-07-30T13:51:00.089074Z",
     "iopub.status.idle": "2025-07-30T13:51:00.106436Z",
     "shell.execute_reply": "2025-07-30T13:51:00.105471Z"
    },
    "papermill": {
     "duration": 0.051532,
     "end_time": "2025-07-30T13:51:00.108068",
     "exception": false,
     "start_time": "2025-07-30T13:51:00.056536",
     "status": "completed"
    },
    "tags": []
   },
   "outputs": [
    {
     "data": {
      "text/html": [
       "<div>\n",
       "<style scoped>\n",
       "    .dataframe tbody tr th:only-of-type {\n",
       "        vertical-align: middle;\n",
       "    }\n",
       "\n",
       "    .dataframe tbody tr th {\n",
       "        vertical-align: top;\n",
       "    }\n",
       "\n",
       "    .dataframe thead th {\n",
       "        text-align: right;\n",
       "    }\n",
       "</style>\n",
       "<table border=\"1\" class=\"dataframe\">\n",
       "  <thead>\n",
       "    <tr style=\"text-align: right;\">\n",
       "      <th></th>\n",
       "      <th>accuracy</th>\n",
       "      <th>balanced accuracy</th>\n",
       "      <th>f1</th>\n",
       "      <th>precision</th>\n",
       "      <th>false positive rate</th>\n",
       "      <th>false negative rate</th>\n",
       "      <th>selection rate</th>\n",
       "      <th>count</th>\n",
       "    </tr>\n",
       "    <tr>\n",
       "      <th>majmin</th>\n",
       "      <th></th>\n",
       "      <th></th>\n",
       "      <th></th>\n",
       "      <th></th>\n",
       "      <th></th>\n",
       "      <th></th>\n",
       "      <th></th>\n",
       "      <th></th>\n",
       "    </tr>\n",
       "  </thead>\n",
       "  <tbody>\n",
       "    <tr>\n",
       "      <th>majority</th>\n",
       "      <td>0.244615</td>\n",
       "      <td>0.557705</td>\n",
       "      <td>0.255952</td>\n",
       "      <td>0.147125</td>\n",
       "      <td>0.867849</td>\n",
       "      <td>0.016740</td>\n",
       "      <td>0.883100</td>\n",
       "      <td>69170.0</td>\n",
       "    </tr>\n",
       "    <tr>\n",
       "      <th>minority</th>\n",
       "      <td>0.156816</td>\n",
       "      <td>0.520532</td>\n",
       "      <td>0.213595</td>\n",
       "      <td>0.119664</td>\n",
       "      <td>0.952179</td>\n",
       "      <td>0.006757</td>\n",
       "      <td>0.956913</td>\n",
       "      <td>20540.0</td>\n",
       "    </tr>\n",
       "  </tbody>\n",
       "</table>\n",
       "</div>"
      ],
      "text/plain": [
       "          accuracy  balanced accuracy        f1  precision  \\\n",
       "majmin                                                       \n",
       "majority  0.244615           0.557705  0.255952   0.147125   \n",
       "minority  0.156816           0.520532  0.213595   0.119664   \n",
       "\n",
       "          false positive rate  false negative rate  selection rate    count  \n",
       "majmin                                                                       \n",
       "majority             0.867849             0.016740        0.883100  69170.0  \n",
       "minority             0.952179             0.006757        0.956913  20540.0  "
      ]
     },
     "execution_count": 75,
     "metadata": {},
     "output_type": "execute_result"
    }
   ],
   "source": [
    "metric_frame.by_group"
   ]
  },
  {
   "cell_type": "code",
   "execution_count": 76,
   "id": "a9ddbe63",
   "metadata": {
    "execution": {
     "iopub.execute_input": "2025-07-30T13:51:00.152896Z",
     "iopub.status.busy": "2025-07-30T13:51:00.152537Z",
     "iopub.status.idle": "2025-07-30T13:51:02.625159Z",
     "shell.execute_reply": "2025-07-30T13:51:02.624139Z"
    },
    "papermill": {
     "duration": 2.496414,
     "end_time": "2025-07-30T13:51:02.627055",
     "exception": false,
     "start_time": "2025-07-30T13:51:00.130641",
     "status": "completed"
    },
    "tags": []
   },
   "outputs": [
    {
     "data": {
      "text/plain": [
       "array([[<Axes: title={'center': 'accuracy'}, xlabel='majmin'>,\n",
       "        <Axes: title={'center': 'balanced accuracy'}, xlabel='majmin'>,\n",
       "        <Axes: title={'center': 'f1'}, xlabel='majmin'>],\n",
       "       [<Axes: title={'center': 'precision'}, xlabel='majmin'>,\n",
       "        <Axes: title={'center': 'false positive rate'}, xlabel='majmin'>,\n",
       "        <Axes: title={'center': 'false negative rate'}, xlabel='majmin'>],\n",
       "       [<Axes: title={'center': 'selection rate'}, xlabel='majmin'>,\n",
       "        <Axes: title={'center': 'count'}, xlabel='majmin'>,\n",
       "        <Axes: xlabel='majmin'>]], dtype=object)"
      ]
     },
     "execution_count": 76,
     "metadata": {},
     "output_type": "execute_result"
    },
    {
     "data": {
      "image/png": "[encoded data removed]",
      "text/plain": [
       "<Figure size 1200x800 with 9 Axes>"
      ]
     },
     "metadata": {},
     "output_type": "display_data"
    }
   ],
   "source": [
    "# In a graphic\n",
    "metric_frame.by_group.plot.bar(\n",
    "    subplots=True,\n",
    "    layout=[3, 3],\n",
    "    legend=False,\n",
    "    figsize=[12, 8],\n",
    "    title=\"Show all metrics\",\n",
    ")"
   ]
  },
  {
   "cell_type": "markdown",
   "id": "f57a0bac",
   "metadata": {
    "papermill": {
     "duration": 0.028431,
     "end_time": "2025-07-30T13:51:02.687967",
     "exception": false,
     "start_time": "2025-07-30T13:51:02.659536",
     "status": "completed"
    },
    "tags": []
   },
   "source": [
    "# Final Output"
   ]
  },
  {
   "cell_type": "code",
   "execution_count": 77,
   "id": "96d280a3",
   "metadata": {
    "execution": {
     "iopub.execute_input": "2025-07-30T13:51:02.750562Z",
     "iopub.status.busy": "2025-07-30T13:51:02.749838Z",
     "iopub.status.idle": "2025-07-30T13:51:02.758362Z",
     "shell.execute_reply": "2025-07-30T13:51:02.757461Z"
    },
    "papermill": {
     "duration": 0.041374,
     "end_time": "2025-07-30T13:51:02.759970",
     "exception": false,
     "start_time": "2025-07-30T13:51:02.718596",
     "status": "completed"
    },
    "tags": []
   },
   "outputs": [
    {
     "data": {
      "text/plain": [
       "4"
      ]
     },
     "execution_count": 77,
     "metadata": {},
     "output_type": "execute_result"
    }
   ],
   "source": [
    "sub_universes = universe_analysis.generate_sub_universes()\n",
    "len(sub_universes)"
   ]
  },
  {
   "cell_type": "code",
   "execution_count": 78,
   "id": "92adf7ba",
   "metadata": {
    "execution": {
     "iopub.execute_input": "2025-07-30T13:51:02.820653Z",
     "iopub.status.busy": "2025-07-30T13:51:02.819761Z",
     "iopub.status.idle": "2025-07-30T13:51:02.825912Z",
     "shell.execute_reply": "2025-07-30T13:51:02.825021Z"
    },
    "papermill": {
     "duration": 0.038377,
     "end_time": "2025-07-30T13:51:02.827588",
     "exception": false,
     "start_time": "2025-07-30T13:51:02.789211",
     "status": "completed"
    },
    "tags": []
   },
   "outputs": [],
   "source": [
    "def filter_sub_universe_data(sub_universe, org_test):\n",
    "    # Keep all rows — no filtering\n",
    "    keep_rows_mask = np.ones(org_test.shape[0], dtype=bool)\n",
    "\n",
    "    print(f\"[INFO] Keeping all rows: {keep_rows_mask.sum()} rows retained.\")\n",
    "    return keep_rows_mask"
   ]
  },
  {
   "cell_type": "code",
   "execution_count": 79,
   "id": "4a759155",
   "metadata": {
    "execution": {
     "iopub.execute_input": "2025-07-30T13:51:02.888147Z",
     "iopub.status.busy": "2025-07-30T13:51:02.887667Z",
     "iopub.status.idle": "2025-07-30T13:51:12.906469Z",
     "shell.execute_reply": "2025-07-30T13:51:12.905290Z"
    },
    "papermill": {
     "duration": 10.050693,
     "end_time": "2025-07-30T13:51:12.908148",
     "exception": false,
     "start_time": "2025-07-30T13:51:02.857455",
     "status": "completed"
    },
    "tags": []
   },
   "outputs": [
    {
     "name": "stdout",
     "output_type": "stream",
     "text": [
      "Stopping execution_time clock.\n",
      "[INFO] Keeping all rows: 89710 rows retained.\n"
     ]
    },
    {
     "name": "stdout",
     "output_type": "stream",
     "text": [
      "[INFO] Keeping all rows: 89710 rows retained.\n"
     ]
    },
    {
     "name": "stdout",
     "output_type": "stream",
     "text": [
      "[INFO] Keeping all rows: 89710 rows retained.\n"
     ]
    },
    {
     "name": "stdout",
     "output_type": "stream",
     "text": [
      "[INFO] Keeping all rows: 89710 rows retained.\n"
     ]
    },
    {
     "data": {
      "text/html": [
       "<div>\n",
       "<style scoped>\n",
       "    .dataframe tbody tr th:only-of-type {\n",
       "        vertical-align: middle;\n",
       "    }\n",
       "\n",
       "    .dataframe tbody tr th {\n",
       "        vertical-align: top;\n",
       "    }\n",
       "\n",
       "    .dataframe thead th {\n",
       "        text-align: right;\n",
       "    }\n",
       "</style>\n",
       "<table border=\"1\" class=\"dataframe\">\n",
       "  <thead>\n",
       "    <tr style=\"text-align: right;\">\n",
       "      <th></th>\n",
       "      <th>run_no</th>\n",
       "      <th>universe_id</th>\n",
       "      <th>universe_settings</th>\n",
       "      <th>execution_time</th>\n",
       "      <th>test_size_n</th>\n",
       "      <th>test_size_frac</th>\n",
       "      <th>fair_main_equalized_odds_difference</th>\n",
       "      <th>fair_main_equalized_odds_ratio</th>\n",
       "      <th>fair_main_demographic_parity_difference</th>\n",
       "      <th>fair_main_demographic_parity_ratio</th>\n",
       "      <th>...</th>\n",
       "      <th>perf_grp_precision_0</th>\n",
       "      <th>perf_grp_precision_1</th>\n",
       "      <th>perf_grp_false positive rate_0</th>\n",
       "      <th>perf_grp_false positive rate_1</th>\n",
       "      <th>perf_grp_false negative rate_0</th>\n",
       "      <th>perf_grp_false negative rate_1</th>\n",
       "      <th>perf_grp_selection rate_0</th>\n",
       "      <th>perf_grp_selection rate_1</th>\n",
       "      <th>perf_grp_count_0</th>\n",
       "      <th>perf_grp_count_1</th>\n",
       "    </tr>\n",
       "  </thead>\n",
       "  <tbody>\n",
       "    <tr>\n",
       "      <th>0</th>\n",
       "      <td>12</td>\n",
       "      <td>9494386297ba0c316d616ad599445760</td>\n",
       "      <td>{\"cutoff\": \"quantile_0.1\", \"eval_fairness_grou...</td>\n",
       "      <td>32.046777</td>\n",
       "      <td>89710</td>\n",
       "      <td>1.0</td>\n",
       "      <td>0.084330</td>\n",
       "      <td>0.911435</td>\n",
       "      <td>0.073814</td>\n",
       "      <td>0.922863</td>\n",
       "      <td>...</td>\n",
       "      <td>NaN</td>\n",
       "      <td>NaN</td>\n",
       "      <td>NaN</td>\n",
       "      <td>NaN</td>\n",
       "      <td>NaN</td>\n",
       "      <td>NaN</td>\n",
       "      <td>NaN</td>\n",
       "      <td>NaN</td>\n",
       "      <td>NaN</td>\n",
       "      <td>NaN</td>\n",
       "    </tr>\n",
       "    <tr>\n",
       "      <th>0</th>\n",
       "      <td>12</td>\n",
       "      <td>9494386297ba0c316d616ad599445760</td>\n",
       "      <td>{\"cutoff\": \"quantile_0.1\", \"eval_fairness_grou...</td>\n",
       "      <td>32.046777</td>\n",
       "      <td>89710</td>\n",
       "      <td>1.0</td>\n",
       "      <td>0.084330</td>\n",
       "      <td>0.911435</td>\n",
       "      <td>0.073814</td>\n",
       "      <td>0.922863</td>\n",
       "      <td>...</td>\n",
       "      <td>0.119664</td>\n",
       "      <td>0.147125</td>\n",
       "      <td>0.952179</td>\n",
       "      <td>0.867849</td>\n",
       "      <td>0.006757</td>\n",
       "      <td>0.016740</td>\n",
       "      <td>0.956913</td>\n",
       "      <td>0.88310</td>\n",
       "      <td>20540.0</td>\n",
       "      <td>69170.0</td>\n",
       "    </tr>\n",
       "    <tr>\n",
       "      <th>0</th>\n",
       "      <td>12</td>\n",
       "      <td>9494386297ba0c316d616ad599445760</td>\n",
       "      <td>{\"cutoff\": \"quantile_0.25\", \"eval_fairness_gro...</td>\n",
       "      <td>32.046777</td>\n",
       "      <td>89710</td>\n",
       "      <td>1.0</td>\n",
       "      <td>0.152585</td>\n",
       "      <td>0.818974</td>\n",
       "      <td>0.132893</td>\n",
       "      <td>0.844785</td>\n",
       "      <td>...</td>\n",
       "      <td>NaN</td>\n",
       "      <td>NaN</td>\n",
       "      <td>NaN</td>\n",
       "      <td>NaN</td>\n",
       "      <td>NaN</td>\n",
       "      <td>NaN</td>\n",
       "      <td>NaN</td>\n",
       "      <td>NaN</td>\n",
       "      <td>NaN</td>\n",
       "      <td>NaN</td>\n",
       "    </tr>\n",
       "    <tr>\n",
       "      <th>0</th>\n",
       "      <td>12</td>\n",
       "      <td>9494386297ba0c316d616ad599445760</td>\n",
       "      <td>{\"cutoff\": \"quantile_0.25\", \"eval_fairness_gro...</td>\n",
       "      <td>32.046777</td>\n",
       "      <td>89710</td>\n",
       "      <td>1.0</td>\n",
       "      <td>0.152585</td>\n",
       "      <td>0.818974</td>\n",
       "      <td>0.132893</td>\n",
       "      <td>0.844785</td>\n",
       "      <td>...</td>\n",
       "      <td>0.129023</td>\n",
       "      <td>0.171717</td>\n",
       "      <td>0.842890</td>\n",
       "      <td>0.690305</td>\n",
       "      <td>0.041807</td>\n",
       "      <td>0.060066</td>\n",
       "      <td>0.856183</td>\n",
       "      <td>0.72329</td>\n",
       "      <td>20540.0</td>\n",
       "      <td>69170.0</td>\n",
       "    </tr>\n",
       "  </tbody>\n",
       "</table>\n",
       "<p>4 rows × 50 columns</p>\n",
       "</div>"
      ],
      "text/plain": [
       "  run_no                       universe_id  \\\n",
       "0     12  9494386297ba0c316d616ad599445760   \n",
       "0     12  9494386297ba0c316d616ad599445760   \n",
       "0     12  9494386297ba0c316d616ad599445760   \n",
       "0     12  9494386297ba0c316d616ad599445760   \n",
       "\n",
       "                                   universe_settings  execution_time  \\\n",
       "0  {\"cutoff\": \"quantile_0.1\", \"eval_fairness_grou...       32.046777   \n",
       "0  {\"cutoff\": \"quantile_0.1\", \"eval_fairness_grou...       32.046777   \n",
       "0  {\"cutoff\": \"quantile_0.25\", \"eval_fairness_gro...       32.046777   \n",
       "0  {\"cutoff\": \"quantile_0.25\", \"eval_fairness_gro...       32.046777   \n",
       "\n",
       "   test_size_n  test_size_frac  fair_main_equalized_odds_difference  \\\n",
       "0        89710             1.0                             0.084330   \n",
       "0        89710             1.0                             0.084330   \n",
       "0        89710             1.0                             0.152585   \n",
       "0        89710             1.0                             0.152585   \n",
       "\n",
       "   fair_main_equalized_odds_ratio  fair_main_demographic_parity_difference  \\\n",
       "0                        0.911435                                 0.073814   \n",
       "0                        0.911435                                 0.073814   \n",
       "0                        0.818974                                 0.132893   \n",
       "0                        0.818974                                 0.132893   \n",
       "\n",
       "   fair_main_demographic_parity_ratio  ...  perf_grp_precision_0  \\\n",
       "0                            0.922863  ...                   NaN   \n",
       "0                            0.922863  ...              0.119664   \n",
       "0                            0.844785  ...                   NaN   \n",
       "0                            0.844785  ...              0.129023   \n",
       "\n",
       "   perf_grp_precision_1  perf_grp_false positive rate_0  \\\n",
       "0                   NaN                             NaN   \n",
       "0              0.147125                        0.952179   \n",
       "0                   NaN                             NaN   \n",
       "0              0.171717                        0.842890   \n",
       "\n",
       "   perf_grp_false positive rate_1  perf_grp_false negative rate_0  \\\n",
       "0                             NaN                             NaN   \n",
       "0                        0.867849                        0.006757   \n",
       "0                             NaN                             NaN   \n",
       "0                        0.690305                        0.041807   \n",
       "\n",
       "   perf_grp_false negative rate_1  perf_grp_selection rate_0  \\\n",
       "0                             NaN                        NaN   \n",
       "0                        0.016740                   0.956913   \n",
       "0                             NaN                        NaN   \n",
       "0                        0.060066                   0.856183   \n",
       "\n",
       "   perf_grp_selection rate_1  perf_grp_count_0  perf_grp_count_1  \n",
       "0                        NaN               NaN               NaN  \n",
       "0                    0.88310           20540.0           69170.0  \n",
       "0                        NaN               NaN               NaN  \n",
       "0                    0.72329           20540.0           69170.0  \n",
       "\n",
       "[4 rows x 50 columns]"
      ]
     },
     "execution_count": 79,
     "metadata": {},
     "output_type": "execute_result"
    }
   ],
   "source": [
    "final_output = universe_analysis.generate_final_output(\n",
    "    y_pred_prob=probs_test,\n",
    "    y_test=y_true,\n",
    "    org_test=org_test,\n",
    "    filter_data=filter_sub_universe_data,\n",
    "    cp_metrics_df=cp_metrics_df,\n",
    "    save=True,\n",
    ")\n",
    "final_output"
   ]
  },
  {
   "cell_type": "code",
   "execution_count": null,
   "id": "721ff514-cb11-46f8-b6fc-50392f74b5cb",
   "metadata": {
    "papermill": {
     "duration": 0.034767,
     "end_time": "2025-07-30T13:51:12.979758",
     "exception": false,
     "start_time": "2025-07-30T13:51:12.944991",
     "status": "completed"
    },
    "tags": []
   },
   "outputs": [],
   "source": []
  }
 ],
 "metadata": {
  "celltoolbar": "Tags",
  "kernelspec": {
   "display_name": "Python (CMA Fairness)",
   "language": "python",
   "name": "cma_fair_env"
  },
  "language_info": {
   "codemirror_mode": {
    "name": "ipython",
    "version": 3
   },
   "file_extension": ".py",
   "mimetype": "text/x-python",
   "name": "python",
   "nbconvert_exporter": "python",
   "pygments_lexer": "ipython3",
   "version": "3.10.12"
  },
  "papermill": {
   "default_parameters": {},
   "duration": 46.245556,
   "end_time": "2025-07-30T13:51:13.834280",
   "environment_variables": {},
   "exception": null,
   "input_path": "universe_analysis.ipynb",
   "output_path": "output/runs/12/notebooks/m_12-9494386297ba0c316d616ad599445760.ipynb",
   "parameters": {
    "output_dir": "output",
    "run_no": "12",
    "seed": "2023",
    "universe": "{\"cutoff\": [\"quantile_0.1\", \"quantile_0.25\"], \"eval_fairness_grouping\": [\"majority-minority\", \"nationality-all\"], \"exclude_features\": \"sex\", \"exclude_subgroups\": \"drop-non-german\", \"model\": \"gbm\", \"scale\": \"do-not-scale\", \"training_size\": \"5k\", \"training_year\": \"2014\"}",
    "universe_id": "9494386297ba0c316d616ad599445760"
   },
   "start_time": "2025-07-30T13:50:27.588724",
   "version": "2.6.0"
  }
 },
 "nbformat": 4,
 "nbformat_minor": 5
}