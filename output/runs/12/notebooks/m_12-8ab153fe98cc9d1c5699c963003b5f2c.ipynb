{
 "cells": [
  {
   "cell_type": "code",
   "execution_count": 1,
   "id": "f159f837-637b-42ba-96b5-ec9a68c44524",
   "metadata": {
    "execution": {
     "iopub.execute_input": "2025-07-30T13:41:25.842878Z",
     "iopub.status.busy": "2025-07-30T13:41:25.842043Z",
     "iopub.status.idle": "2025-07-30T13:41:25.854620Z",
     "shell.execute_reply": "2025-07-30T13:41:25.853832Z"
    },
    "papermill": {
     "duration": 0.037098,
     "end_time": "2025-07-30T13:41:25.856325",
     "exception": false,
     "start_time": "2025-07-30T13:41:25.819227",
     "status": "completed"
    },
    "tags": []
   },
   "outputs": [
    {
     "name": "stdout",
     "output_type": "stream",
     "text": [
      "/dss/dsshome1/0C/ra93lal2/cma/CMA_Fairness_v2\n"
     ]
    },
    {
     "name": "stderr",
     "output_type": "stream",
     "text": [
      "/dss/dsshome1/0C/ra93lal2/.local/share/virtualenvs/CMA_Fairness_v2-3j10GkSs/lib/python3.10/site-packages/IPython/core/magics/osm.py:393: UserWarning: This is now an optional IPython functionality, using bookmarks requires you to install the `pickleshare` library.\n",
      "  bkms = self.shell.db.get('bookmarks', {})\n",
      "/dss/dsshome1/0C/ra93lal2/.local/share/virtualenvs/CMA_Fairness_v2-3j10GkSs/lib/python3.10/site-packages/IPython/core/magics/osm.py:417: UserWarning: This is now an optional IPython functionality, setting dhist requires you to install the `pickleshare` library.\n",
      "  self.shell.db['dhist'] = compress_dhist(dhist)[-100:]\n"
     ]
    }
   ],
   "source": [
    "%cd ~/cma/CMA_Fairness_v2"
   ]
  },
  {
   "cell_type": "markdown",
   "id": "de2603b9",
   "metadata": {
    "papermill": {
     "duration": 0.020507,
     "end_time": "2025-07-30T13:41:25.897551",
     "exception": false,
     "start_time": "2025-07-30T13:41:25.877044",
     "status": "completed"
    },
    "tags": []
   },
   "source": [
    "The following cell holds the definition of our parameters, these values can be overriden by rendering the with e.g. the following command:\n",
    "\n",
    "papermill -p alpha 0.2 -p ratio 0.3 universe_analysis.ipynb output/test_run.ipynb"
   ]
  },
  {
   "cell_type": "code",
   "execution_count": 2,
   "id": "a80968a0-40bb-4fa9-85ef-2d5eefb01975",
   "metadata": {
    "execution": {
     "iopub.execute_input": "2025-07-30T13:41:25.941482Z",
     "iopub.status.busy": "2025-07-30T13:41:25.940830Z",
     "iopub.status.idle": "2025-07-30T13:41:25.946979Z",
     "shell.execute_reply": "2025-07-30T13:41:25.945969Z"
    },
    "papermill": {
     "duration": 0.030846,
     "end_time": "2025-07-30T13:41:25.949079",
     "exception": false,
     "start_time": "2025-07-30T13:41:25.918233",
     "status": "completed"
    },
    "tags": []
   },
   "outputs": [
    {
     "name": "stdout",
     "output_type": "stream",
     "text": [
      "Current working directory: /dss/dsshome1/0C/ra93lal2/cma/CMA_Fairness_v2\n"
     ]
    }
   ],
   "source": [
    "import os\n",
    "print(\"Current working directory:\", os.getcwd())"
   ]
  },
  {
   "cell_type": "code",
   "execution_count": 3,
   "id": "2dce4c03",
   "metadata": {
    "execution": {
     "iopub.execute_input": "2025-07-30T13:41:25.999884Z",
     "iopub.status.busy": "2025-07-30T13:41:25.999157Z",
     "iopub.status.idle": "2025-07-30T13:41:26.005586Z",
     "shell.execute_reply": "2025-07-30T13:41:26.004573Z"
    },
    "papermill": {
     "duration": 0.031638,
     "end_time": "2025-07-30T13:41:26.007662",
     "exception": false,
     "start_time": "2025-07-30T13:41:25.976024",
     "status": "completed"
    },
    "tags": [
     "parameters"
    ]
   },
   "outputs": [],
   "source": [
    "run_no = 0\n",
    "universe_id = \"test\"\n",
    "universe = {\n",
    "    \"training_size\": \"25k\", # \"25k\", \"5k\", \"1k\"\n",
    "    \"training_year\": \"2014\", # \"2014\", \"2012_14\", \"2010_14\"\n",
    "    \"scale\": \"scale\", # \"scale\", \"do-not-scale\",\n",
    "    #\"stratify_split\": \"target\", # \"none\", \"target\", \"protected-attribute\", \"both\",\n",
    "    \"model\": \"elasticnet\", # \"logreg\", \"penalized_logreg\", \"rf\", \"gbm\", \"elasticnet\"\n",
    "    \"cutoff\": [\"quantile_0.15\", \"quantile_0.30\"],\n",
    "    \"exclude_features\": \"age\", # \"none\", \"nationality\", \"sex\", \"nationality-sex\", \"age\"\n",
    "    \"exclude_subgroups\": \"keep-all\", # \"keep-all\", \"drop-non-german\"\n",
    "    \"eval_fairness_grouping\": [\"majority-minority\", \"nationality-all\"]\n",
    "}\n",
    "\n",
    "output_dir=\"./output\"\n",
    "seed=0"
   ]
  },
  {
   "cell_type": "code",
   "execution_count": 4,
   "id": "21ed3f2d",
   "metadata": {
    "execution": {
     "iopub.execute_input": "2025-07-30T13:41:26.052123Z",
     "iopub.status.busy": "2025-07-30T13:41:26.051540Z",
     "iopub.status.idle": "2025-07-30T13:41:26.056842Z",
     "shell.execute_reply": "2025-07-30T13:41:26.055884Z"
    },
    "papermill": {
     "duration": 0.029017,
     "end_time": "2025-07-30T13:41:26.058604",
     "exception": false,
     "start_time": "2025-07-30T13:41:26.029587",
     "status": "completed"
    },
    "tags": [
     "injected-parameters"
    ]
   },
   "outputs": [],
   "source": [
    "# Parameters\n",
    "universe_id = \"8ab153fe98cc9d1c5699c963003b5f2c\"\n",
    "run_no = \"12\"\n",
    "universe = \"{\\\"cutoff\\\": [\\\"quantile_0.1\\\", \\\"quantile_0.25\\\"], \\\"eval_fairness_grouping\\\": [\\\"majority-minority\\\", \\\"nationality-all\\\"], \\\"exclude_features\\\": \\\"sex\\\", \\\"exclude_subgroups\\\": \\\"keep-all\\\", \\\"model\\\": \\\"penalized_logreg\\\", \\\"scale\\\": \\\"scale\\\", \\\"training_size\\\": \\\"5k\\\", \\\"training_year\\\": \\\"2014\\\"}\"\n",
    "output_dir = \"output\"\n",
    "seed = \"2023\"\n"
   ]
  },
  {
   "cell_type": "code",
   "execution_count": 5,
   "id": "1650acaf",
   "metadata": {
    "execution": {
     "iopub.execute_input": "2025-07-30T13:41:26.102864Z",
     "iopub.status.busy": "2025-07-30T13:41:26.102479Z",
     "iopub.status.idle": "2025-07-30T13:41:26.107175Z",
     "shell.execute_reply": "2025-07-30T13:41:26.106177Z"
    },
    "papermill": {
     "duration": 0.028323,
     "end_time": "2025-07-30T13:41:26.109085",
     "exception": false,
     "start_time": "2025-07-30T13:41:26.080762",
     "status": "completed"
    },
    "tags": []
   },
   "outputs": [],
   "source": [
    "import json\n",
    "# Parse universe into dict if it is passed as a string\n",
    "if isinstance(universe, str):\n",
    "    universe = json.loads(universe)"
   ]
  },
  {
   "cell_type": "code",
   "execution_count": 6,
   "id": "16620c48",
   "metadata": {
    "execution": {
     "iopub.execute_input": "2025-07-30T13:41:26.153308Z",
     "iopub.status.busy": "2025-07-30T13:41:26.152628Z",
     "iopub.status.idle": "2025-07-30T13:41:26.196108Z",
     "shell.execute_reply": "2025-07-30T13:41:26.195233Z"
    },
    "papermill": {
     "duration": 0.067097,
     "end_time": "2025-07-30T13:41:26.197856",
     "exception": false,
     "start_time": "2025-07-30T13:41:26.130759",
     "status": "completed"
    },
    "tags": []
   },
   "outputs": [],
   "source": [
    "# Auto-reload the custom package\n",
    "%load_ext autoreload\n",
    "%autoreload 1\n",
    "%aimport fairness_multiverse"
   ]
  },
  {
   "cell_type": "code",
   "execution_count": 7,
   "id": "01c5c9f3",
   "metadata": {
    "execution": {
     "iopub.execute_input": "2025-07-30T13:41:26.242770Z",
     "iopub.status.busy": "2025-07-30T13:41:26.241854Z",
     "iopub.status.idle": "2025-07-30T13:41:28.105599Z",
     "shell.execute_reply": "2025-07-30T13:41:28.104489Z"
    },
    "papermill": {
     "duration": 1.88821,
     "end_time": "2025-07-30T13:41:28.107654",
     "exception": false,
     "start_time": "2025-07-30T13:41:26.219444",
     "status": "completed"
    },
    "tags": []
   },
   "outputs": [],
   "source": [
    "from fairness_multiverse.universe import UniverseAnalysis\n",
    "\n",
    "universe_analysis = UniverseAnalysis(\n",
    "    run_no = run_no,\n",
    "    universe_id = universe_id,\n",
    "    universe = universe,\n",
    "    output_dir=output_dir,\n",
    ")"
   ]
  },
  {
   "cell_type": "code",
   "execution_count": 8,
   "id": "106241f5",
   "metadata": {
    "execution": {
     "iopub.execute_input": "2025-07-30T13:41:28.155411Z",
     "iopub.status.busy": "2025-07-30T13:41:28.154631Z",
     "iopub.status.idle": "2025-07-30T13:41:28.161443Z",
     "shell.execute_reply": "2025-07-30T13:41:28.160475Z"
    },
    "papermill": {
     "duration": 0.031558,
     "end_time": "2025-07-30T13:41:28.163170",
     "exception": false,
     "start_time": "2025-07-30T13:41:28.131612",
     "status": "completed"
    },
    "tags": []
   },
   "outputs": [
    {
     "name": "stdout",
     "output_type": "stream",
     "text": [
      "Using Seed: 2023\n"
     ]
    }
   ],
   "source": [
    "import numpy as np\n",
    "parsed_seed = int(seed)\n",
    "np.random.seed(parsed_seed)\n",
    "print(f\"Using Seed: {parsed_seed}\")"
   ]
  },
  {
   "cell_type": "markdown",
   "id": "e0ebdc57",
   "metadata": {
    "papermill": {
     "duration": 0.020677,
     "end_time": "2025-07-30T13:41:28.205890",
     "exception": false,
     "start_time": "2025-07-30T13:41:28.185213",
     "status": "completed"
    },
    "tags": []
   },
   "source": [
    "# Loading Data"
   ]
  },
  {
   "cell_type": "markdown",
   "id": "681925a3",
   "metadata": {
    "papermill": {
     "duration": 0.020331,
     "end_time": "2025-07-30T13:41:28.247179",
     "exception": false,
     "start_time": "2025-07-30T13:41:28.226848",
     "status": "completed"
    },
    "tags": []
   },
   "source": [
    "Load siab_train, siab_test, siab_calib and/or \n",
    "load siab_train_features, siab_train_labels"
   ]
  },
  {
   "cell_type": "code",
   "execution_count": 9,
   "id": "f0496b8a",
   "metadata": {
    "execution": {
     "iopub.execute_input": "2025-07-30T13:41:28.293316Z",
     "iopub.status.busy": "2025-07-30T13:41:28.292826Z",
     "iopub.status.idle": "2025-07-30T13:41:39.936226Z",
     "shell.execute_reply": "2025-07-30T13:41:39.935041Z"
    },
    "papermill": {
     "duration": 11.669998,
     "end_time": "2025-07-30T13:41:39.938051",
     "exception": false,
     "start_time": "2025-07-30T13:41:28.268053",
     "status": "completed"
    },
    "tags": []
   },
   "outputs": [
    {
     "name": "stdout",
     "output_type": "stream",
     "text": [
      "Loading SIAB data from cache: data/siab_cached.csv.gz\n"
     ]
    },
    {
     "name": "stdout",
     "output_type": "stream",
     "text": [
      "(643690, 164)\n"
     ]
    }
   ],
   "source": [
    "from pathlib import Path\n",
    "import pandas as pd\n",
    "\n",
    "# File paths\n",
    "raw_file = Path(\"data/raw/siab.csv\")\n",
    "cache_file = Path(\"data/siab_cached.csv.gz\")\n",
    "\n",
    "# Ensure cache directory exists\n",
    "cache_file.parent.mkdir(parents=True, exist_ok=True)\n",
    "\n",
    "# Load with simple caching\n",
    "if cache_file.exists():\n",
    "    print(f\"Loading SIAB data from cache: {cache_file}\")\n",
    "    siab = pd.read_csv(cache_file, compression='gzip')\n",
    "else:\n",
    "    print(f\"Cache not found. Reading raw SIAB data: {raw_file}\")\n",
    "    siab = pd.read_csv(raw_file)\n",
    "    siab.to_csv(cache_file, index=False, compression='gzip')\n",
    "    print(f\"Cached SIAB data to: {cache_file}\")\n",
    "\n",
    "# Now use `siab` DataFrame as needed\n",
    "print(siab.shape)"
   ]
  },
  {
   "cell_type": "code",
   "execution_count": 10,
   "id": "db0ca512-5f53-4dba-abdb-a2888bca41ba",
   "metadata": {
    "execution": {
     "iopub.execute_input": "2025-07-30T13:41:39.986242Z",
     "iopub.status.busy": "2025-07-30T13:41:39.985190Z",
     "iopub.status.idle": "2025-07-30T13:41:39.991278Z",
     "shell.execute_reply": "2025-07-30T13:41:39.990288Z"
    },
    "papermill": {
     "duration": 0.029878,
     "end_time": "2025-07-30T13:41:39.993036",
     "exception": false,
     "start_time": "2025-07-30T13:41:39.963158",
     "status": "completed"
    },
    "tags": []
   },
   "outputs": [],
   "source": [
    "#siab"
   ]
  },
  {
   "cell_type": "code",
   "execution_count": 11,
   "id": "a0edb063",
   "metadata": {
    "execution": {
     "iopub.execute_input": "2025-07-30T13:41:40.038050Z",
     "iopub.status.busy": "2025-07-30T13:41:40.037179Z",
     "iopub.status.idle": "2025-07-30T13:41:40.043519Z",
     "shell.execute_reply": "2025-07-30T13:41:40.042533Z"
    },
    "papermill": {
     "duration": 0.031857,
     "end_time": "2025-07-30T13:41:40.045333",
     "exception": false,
     "start_time": "2025-07-30T13:41:40.013476",
     "status": "completed"
    },
    "tags": []
   },
   "outputs": [],
   "source": [
    "#import pandas as pd\n",
    "#\n",
    "#X_train = pd.read_csv(\"./data/X_train.csv\")\n",
    "#y_train = pd.read_csv(\"./data/y_train.csv\")"
   ]
  },
  {
   "cell_type": "code",
   "execution_count": 12,
   "id": "63d08085",
   "metadata": {
    "execution": {
     "iopub.execute_input": "2025-07-30T13:41:40.090167Z",
     "iopub.status.busy": "2025-07-30T13:41:40.089710Z",
     "iopub.status.idle": "2025-07-30T13:41:40.094593Z",
     "shell.execute_reply": "2025-07-30T13:41:40.093662Z"
    },
    "papermill": {
     "duration": 0.028656,
     "end_time": "2025-07-30T13:41:40.096603",
     "exception": false,
     "start_time": "2025-07-30T13:41:40.067947",
     "status": "completed"
    },
    "tags": []
   },
   "outputs": [],
   "source": [
    "#X_test = pd.read_csv(\"./data/X_test.csv\")\n",
    "#y_true = pd.read_csv(\"./data/y_test.csv\")"
   ]
  },
  {
   "cell_type": "code",
   "execution_count": 13,
   "id": "98a8d0fa-1d3d-4ed8-bb2c-281470e24add",
   "metadata": {
    "execution": {
     "iopub.execute_input": "2025-07-30T13:41:40.138395Z",
     "iopub.status.busy": "2025-07-30T13:41:40.137877Z",
     "iopub.status.idle": "2025-07-30T13:41:40.142739Z",
     "shell.execute_reply": "2025-07-30T13:41:40.141845Z"
    },
    "papermill": {
     "duration": 0.02785,
     "end_time": "2025-07-30T13:41:40.144309",
     "exception": false,
     "start_time": "2025-07-30T13:41:40.116459",
     "status": "completed"
    },
    "tags": []
   },
   "outputs": [],
   "source": [
    "# Calibration data for conformal\n",
    "#X_calib = pd.read_csv(\"./data/X_calib.csv\")\n",
    "#y_calib = pd.read_csv(\"./data/y_calib.csv\")"
   ]
  },
  {
   "cell_type": "markdown",
   "id": "997051c5-15bd-4b69-9786-c3001a3ce484",
   "metadata": {
    "papermill": {
     "duration": 0.019482,
     "end_time": "2025-07-30T13:41:40.184637",
     "exception": false,
     "start_time": "2025-07-30T13:41:40.165155",
     "status": "completed"
    },
    "tags": []
   },
   "source": [
    "# Splitting Data and Setting Training Data Size"
   ]
  },
  {
   "cell_type": "code",
   "execution_count": 14,
   "id": "e993b61f-042d-41a6-8c81-f55681f86335",
   "metadata": {
    "execution": {
     "iopub.execute_input": "2025-07-30T13:41:40.225361Z",
     "iopub.status.busy": "2025-07-30T13:41:40.224555Z",
     "iopub.status.idle": "2025-07-30T13:41:40.238118Z",
     "shell.execute_reply": "2025-07-30T13:41:40.237159Z"
    },
    "papermill": {
     "duration": 0.036055,
     "end_time": "2025-07-30T13:41:40.239799",
     "exception": false,
     "start_time": "2025-07-30T13:41:40.203744",
     "status": "completed"
    },
    "tags": []
   },
   "outputs": [],
   "source": [
    "def sample_by_year_size(df,\n",
    "                        training_year: str,\n",
    "                        training_size: str,\n",
    "                        random_state: int = 42):\n",
    "    # --- parse training_year into a list of int years ---\n",
    "    if \"_\" in training_year:\n",
    "        start_str, end_str = training_year.split(\"_\", 1)\n",
    "        start = int(start_str)\n",
    "        end   = int(end_str) if len(end_str) == 4 else (int(end_str) + (start // 100)*100)\n",
    "        years = list(range(start, end + 1))\n",
    "    else:\n",
    "        years = [int(training_year)]\n",
    "\n",
    "    df = df[df[\"year\"].isin(years)].reset_index(drop=True)\n",
    "\n",
    "    # --- map training_size to total number of samples ---\n",
    "    total_map = {\"25k\": 25_000, \"5k\": 5_000, \"1k\": 1_000}\n",
    "    if training_size not in total_map:\n",
    "        return df  # e.g. \"all\"\n",
    "\n",
    "    total_samples = total_map[training_size]\n",
    "    n_years       = len(years)\n",
    "    base          = total_samples // n_years\n",
    "    remainder     = total_samples % n_years\n",
    "\n",
    "    # --- build a dict: year -> how many to sample ---\n",
    "    # give +1 to the first `remainder` years in ascending order\n",
    "    quotas = {\n",
    "        year: base + (1 if idx < remainder else 0)\n",
    "        for idx, year in enumerate(sorted(years))\n",
    "    }\n",
    "\n",
    "    # --- sample per‐year according to the quota dict ---\n",
    "    sampled = (\n",
    "        df\n",
    "        .groupby(\"year\", group_keys=False)\n",
    "        .apply(lambda grp: grp.sample(\n",
    "            n=min(len(grp), quotas[grp.name]),\n",
    "            random_state=random_state))\n",
    "        .reset_index(drop=True)\n",
    "    )\n",
    "\n",
    "    return sampled"
   ]
  },
  {
   "cell_type": "code",
   "execution_count": 15,
   "id": "c0ccd338-0e02-41f3-a09d-f56f9266e3fb",
   "metadata": {
    "execution": {
     "iopub.execute_input": "2025-07-30T13:41:40.270314Z",
     "iopub.status.busy": "2025-07-30T13:41:40.269979Z",
     "iopub.status.idle": "2025-07-30T13:41:40.279012Z",
     "shell.execute_reply": "2025-07-30T13:41:40.278099Z"
    },
    "papermill": {
     "duration": 0.022277,
     "end_time": "2025-07-30T13:41:40.280765",
     "exception": false,
     "start_time": "2025-07-30T13:41:40.258488",
     "status": "completed"
    },
    "tags": []
   },
   "outputs": [
    {
     "data": {
      "text/plain": [
       "'5k'"
      ]
     },
     "execution_count": 15,
     "metadata": {},
     "output_type": "execute_result"
    }
   ],
   "source": [
    "universe[\"training_size\"]"
   ]
  },
  {
   "cell_type": "code",
   "execution_count": 16,
   "id": "ca707fd7-8047-4acd-bfa5-66248fbbf8e6",
   "metadata": {
    "execution": {
     "iopub.execute_input": "2025-07-30T13:41:40.325261Z",
     "iopub.status.busy": "2025-07-30T13:41:40.324789Z",
     "iopub.status.idle": "2025-07-30T13:41:40.332456Z",
     "shell.execute_reply": "2025-07-30T13:41:40.331394Z"
    },
    "papermill": {
     "duration": 0.031261,
     "end_time": "2025-07-30T13:41:40.334169",
     "exception": false,
     "start_time": "2025-07-30T13:41:40.302908",
     "status": "completed"
    },
    "tags": []
   },
   "outputs": [
    {
     "data": {
      "text/plain": [
       "'2014'"
      ]
     },
     "execution_count": 16,
     "metadata": {},
     "output_type": "execute_result"
    }
   ],
   "source": [
    "universe[\"training_year\"]"
   ]
  },
  {
   "cell_type": "code",
   "execution_count": 17,
   "id": "aea9c6ef-6f46-42c8-85eb-5a62025c1508",
   "metadata": {
    "execution": {
     "iopub.execute_input": "2025-07-30T13:41:40.378757Z",
     "iopub.status.busy": "2025-07-30T13:41:40.378416Z",
     "iopub.status.idle": "2025-07-30T13:41:40.568619Z",
     "shell.execute_reply": "2025-07-30T13:41:40.567860Z"
    },
    "papermill": {
     "duration": 0.213986,
     "end_time": "2025-07-30T13:41:40.570078",
     "exception": false,
     "start_time": "2025-07-30T13:41:40.356092",
     "status": "completed"
    },
    "tags": []
   },
   "outputs": [],
   "source": [
    "siab_train = sample_by_year_size(siab,\n",
    "                               training_year=universe[\"training_year\"],\n",
    "                               training_size=universe[\"training_size\"])"
   ]
  },
  {
   "cell_type": "code",
   "execution_count": 18,
   "id": "8d3afb32-789d-442c-8d5d-9f5aa8dd2eed",
   "metadata": {
    "execution": {
     "iopub.execute_input": "2025-07-30T13:41:40.595519Z",
     "iopub.status.busy": "2025-07-30T13:41:40.595196Z",
     "iopub.status.idle": "2025-07-30T13:41:40.601478Z",
     "shell.execute_reply": "2025-07-30T13:41:40.600704Z"
    },
    "papermill": {
     "duration": 0.019077,
     "end_time": "2025-07-30T13:41:40.602744",
     "exception": false,
     "start_time": "2025-07-30T13:41:40.583667",
     "status": "completed"
    },
    "tags": []
   },
   "outputs": [
    {
     "data": {
      "text/plain": [
       "(5000, 164)"
      ]
     },
     "execution_count": 18,
     "metadata": {},
     "output_type": "execute_result"
    }
   ],
   "source": [
    "siab_train.shape"
   ]
  },
  {
   "cell_type": "code",
   "execution_count": 19,
   "id": "d582db68-1a4c-47fb-84fc-08518dc1975a",
   "metadata": {
    "execution": {
     "iopub.execute_input": "2025-07-30T13:41:40.626775Z",
     "iopub.status.busy": "2025-07-30T13:41:40.626101Z",
     "iopub.status.idle": "2025-07-30T13:41:40.634166Z",
     "shell.execute_reply": "2025-07-30T13:41:40.633428Z"
    },
    "papermill": {
     "duration": 0.020866,
     "end_time": "2025-07-30T13:41:40.635491",
     "exception": false,
     "start_time": "2025-07-30T13:41:40.614625",
     "status": "completed"
    },
    "tags": []
   },
   "outputs": [
    {
     "data": {
      "text/plain": [
       "year\n",
       "2014    5000\n",
       "dtype: int64"
      ]
     },
     "metadata": {},
     "output_type": "display_data"
    }
   ],
   "source": [
    "display(siab_train.groupby(\"year\").size())"
   ]
  },
  {
   "cell_type": "code",
   "execution_count": 20,
   "id": "a561edb4-d032-42cb-8256-22eac1111c64",
   "metadata": {
    "execution": {
     "iopub.execute_input": "2025-07-30T13:41:40.659534Z",
     "iopub.status.busy": "2025-07-30T13:41:40.658922Z",
     "iopub.status.idle": "2025-07-30T13:41:40.861817Z",
     "shell.execute_reply": "2025-07-30T13:41:40.861055Z"
    },
    "papermill": {
     "duration": 0.21604,
     "end_time": "2025-07-30T13:41:40.863285",
     "exception": false,
     "start_time": "2025-07-30T13:41:40.647245",
     "status": "completed"
    },
    "tags": []
   },
   "outputs": [],
   "source": [
    "#siab_train = siab_s[siab_s.year < 2015]\n",
    "siab_calib = siab[siab.year == 2015]\n",
    "siab_test = siab[siab.year == 2016]"
   ]
  },
  {
   "cell_type": "code",
   "execution_count": 21,
   "id": "472de16f-c3db-4916-846b-1f0de9cf1746",
   "metadata": {
    "execution": {
     "iopub.execute_input": "2025-07-30T13:41:40.887574Z",
     "iopub.status.busy": "2025-07-30T13:41:40.887229Z",
     "iopub.status.idle": "2025-07-30T13:41:40.894067Z",
     "shell.execute_reply": "2025-07-30T13:41:40.893305Z"
    },
    "papermill": {
     "duration": 0.020272,
     "end_time": "2025-07-30T13:41:40.895371",
     "exception": false,
     "start_time": "2025-07-30T13:41:40.875099",
     "status": "completed"
    },
    "tags": []
   },
   "outputs": [],
   "source": [
    "X_train = siab_train.iloc[:,4:164]\n",
    "y_train = siab_train.iloc[:, [3]]"
   ]
  },
  {
   "cell_type": "code",
   "execution_count": 22,
   "id": "828c96af-f43a-4ed6-ba47-8ac73a47d56c",
   "metadata": {
    "execution": {
     "iopub.execute_input": "2025-07-30T13:41:40.919960Z",
     "iopub.status.busy": "2025-07-30T13:41:40.919250Z",
     "iopub.status.idle": "2025-07-30T13:41:40.966059Z",
     "shell.execute_reply": "2025-07-30T13:41:40.965310Z"
    },
    "papermill": {
     "duration": 0.060028,
     "end_time": "2025-07-30T13:41:40.967686",
     "exception": false,
     "start_time": "2025-07-30T13:41:40.907658",
     "status": "completed"
    },
    "tags": []
   },
   "outputs": [],
   "source": [
    "X_calib = siab_calib.iloc[:,4:164]\n",
    "y_calib = siab_calib.iloc[:, [3]]"
   ]
  },
  {
   "cell_type": "code",
   "execution_count": 23,
   "id": "c34be9c3-6bd6-476e-acd3-845840e303be",
   "metadata": {
    "execution": {
     "iopub.execute_input": "2025-07-30T13:41:40.992824Z",
     "iopub.status.busy": "2025-07-30T13:41:40.992384Z",
     "iopub.status.idle": "2025-07-30T13:41:41.043494Z",
     "shell.execute_reply": "2025-07-30T13:41:41.042701Z"
    },
    "papermill": {
     "duration": 0.064288,
     "end_time": "2025-07-30T13:41:41.044869",
     "exception": false,
     "start_time": "2025-07-30T13:41:40.980581",
     "status": "completed"
    },
    "tags": []
   },
   "outputs": [],
   "source": [
    "X_test = siab_test.iloc[:,4:164]\n",
    "y_true = siab_test.iloc[:, [3]]"
   ]
  },
  {
   "cell_type": "markdown",
   "id": "9901737e-04df-44f0-9100-f5ad144ed040",
   "metadata": {
    "papermill": {
     "duration": 0.010789,
     "end_time": "2025-07-30T13:41:41.068202",
     "exception": false,
     "start_time": "2025-07-30T13:41:41.057413",
     "status": "completed"
    },
    "tags": []
   },
   "source": [
    "# Splitting Data and Setting Training Data Size OLD VERSION"
   ]
  },
  {
   "cell_type": "code",
   "execution_count": 24,
   "id": "acbc8f7d-8fc8-4e86-8c59-5dcb0f58384b",
   "metadata": {
    "execution": {
     "iopub.execute_input": "2025-07-30T13:41:41.091440Z",
     "iopub.status.busy": "2025-07-30T13:41:41.090931Z",
     "iopub.status.idle": "2025-07-30T13:41:41.095918Z",
     "shell.execute_reply": "2025-07-30T13:41:41.094967Z"
    },
    "papermill": {
     "duration": 0.018651,
     "end_time": "2025-07-30T13:41:41.097644",
     "exception": false,
     "start_time": "2025-07-30T13:41:41.078993",
     "status": "completed"
    },
    "tags": []
   },
   "outputs": [],
   "source": [
    "#def sample_by_year(df, training_size, random_state=42):\n",
    "#    if training_size == \"2014\":\n",
    "#        return df[df[\"year\"] == 2014].reset_index(drop=True)\n",
    "#    \n",
    "#    size_map = {\n",
    "#        \"25k\": 5000,\n",
    "#        \"5k\": 1000,\n",
    "#        \"1k\": 200\n",
    "#    }\n",
    "#\n",
    "#    if training_size not in size_map:\n",
    "#        return df.reset_index(drop=True)  # use all data\n",
    "#\n",
    "#    n_per_year = size_map[training_size]\n",
    "#    grouped = df.groupby(\"year\")\n",
    "#    sampled = grouped.apply(lambda x: x.sample(n=min(n_per_year, len(x)), random_state=random_state))\n",
    "#    return sampled.reset_index(drop=True)"
   ]
  },
  {
   "cell_type": "code",
   "execution_count": 25,
   "id": "6d931f52-beaf-43ff-9e78-9d44a448d54e",
   "metadata": {
    "execution": {
     "iopub.execute_input": "2025-07-30T13:41:41.142989Z",
     "iopub.status.busy": "2025-07-30T13:41:41.142138Z",
     "iopub.status.idle": "2025-07-30T13:41:41.147518Z",
     "shell.execute_reply": "2025-07-30T13:41:41.146413Z"
    },
    "papermill": {
     "duration": 0.030343,
     "end_time": "2025-07-30T13:41:41.149419",
     "exception": false,
     "start_time": "2025-07-30T13:41:41.119076",
     "status": "completed"
    },
    "tags": []
   },
   "outputs": [],
   "source": [
    "#siab_s = sample_by_year(siab, universe[\"training_size\"])"
   ]
  },
  {
   "cell_type": "code",
   "execution_count": 26,
   "id": "5db0a40e-a4e2-4920-be85-b12ae061d70d",
   "metadata": {
    "execution": {
     "iopub.execute_input": "2025-07-30T13:41:41.197300Z",
     "iopub.status.busy": "2025-07-30T13:41:41.196397Z",
     "iopub.status.idle": "2025-07-30T13:41:41.201799Z",
     "shell.execute_reply": "2025-07-30T13:41:41.200828Z"
    },
    "papermill": {
     "duration": 0.030929,
     "end_time": "2025-07-30T13:41:41.203553",
     "exception": false,
     "start_time": "2025-07-30T13:41:41.172624",
     "status": "completed"
    },
    "tags": []
   },
   "outputs": [],
   "source": [
    "#display(siab_s.groupby(\"year\").size())"
   ]
  },
  {
   "cell_type": "code",
   "execution_count": 27,
   "id": "e6c733c5",
   "metadata": {
    "execution": {
     "iopub.execute_input": "2025-07-30T13:41:41.253241Z",
     "iopub.status.busy": "2025-07-30T13:41:41.252574Z",
     "iopub.status.idle": "2025-07-30T13:41:41.344226Z",
     "shell.execute_reply": "2025-07-30T13:41:41.343200Z"
    },
    "papermill": {
     "duration": 0.117075,
     "end_time": "2025-07-30T13:41:41.346341",
     "exception": false,
     "start_time": "2025-07-30T13:41:41.229266",
     "status": "completed"
    },
    "tags": []
   },
   "outputs": [],
   "source": [
    "# Auxiliary data needed downstream in the pipeline\n",
    "\n",
    "org_train = X_train.copy()\n",
    "org_test = X_test.copy()\n",
    "org_calib = X_calib.copy()"
   ]
  },
  {
   "cell_type": "code",
   "execution_count": 28,
   "id": "1466abac-c6da-4492-a62f-4240ae3783af",
   "metadata": {
    "execution": {
     "iopub.execute_input": "2025-07-30T13:41:41.392937Z",
     "iopub.status.busy": "2025-07-30T13:41:41.391938Z",
     "iopub.status.idle": "2025-07-30T13:41:41.397900Z",
     "shell.execute_reply": "2025-07-30T13:41:41.396923Z"
    },
    "papermill": {
     "duration": 0.03066,
     "end_time": "2025-07-30T13:41:41.399884",
     "exception": false,
     "start_time": "2025-07-30T13:41:41.369224",
     "status": "completed"
    },
    "tags": []
   },
   "outputs": [],
   "source": [
    "# put in other script?\n",
    "# Group sizes\n",
    "\n",
    "#def calculate_percentages(df, df_name):\n",
    "#    total_entries = len(df)\n",
    "#\n",
    "#    female_pct = (df['frau1'] == 1).mean() * 100\n",
    "#    non_german_pct = ((df['maxdeutsch1'] == 0) & (df['maxdeutsch.Missing.'] == 0)).mean() * 100\n",
    "#    non_german_male_pct = ((df['frau1'] == 0) & (df['maxdeutsch1'] == 0) & (df['maxdeutsch.Missing.'] == 0)).mean() * 100\n",
    "#    non_german_female_pct = ((df['frau1'] == 1) & (df['maxdeutsch1'] == 0) & (df['maxdeutsch.Missing.'] == 0)).mean() * 100\n",
    "#\n",
    "#    print(f\"--- {df_name} ---\")\n",
    "#    print(f\"Female: {female_pct:.2f}%\")\n",
    "#    print(f\"Non-German: {non_german_pct:.2f}%\")\n",
    "#    print(f\"Non-German Male: {non_german_male_pct:.2f}%\")\n",
    "#    print(f\"Non-German Female: {non_german_female_pct:.2f}%\\n\")\n",
    "#\n",
    "## Calculate for each DataFrame\n",
    "#calculate_percentages(siab_calib, \"siab_calib\")\n",
    "#calculate_percentages(siab_test, \"siab_test\")\n",
    "#calculate_percentages(siab_train, \"siab_train\")"
   ]
  },
  {
   "cell_type": "markdown",
   "id": "0a4a1b33",
   "metadata": {
    "papermill": {
     "duration": 0.022834,
     "end_time": "2025-07-30T13:41:41.446461",
     "exception": false,
     "start_time": "2025-07-30T13:41:41.423627",
     "status": "completed"
    },
    "tags": []
   },
   "source": [
    "# Preprocessing Data"
   ]
  },
  {
   "cell_type": "code",
   "execution_count": 29,
   "id": "ca879031",
   "metadata": {
    "execution": {
     "iopub.execute_input": "2025-07-30T13:41:41.484108Z",
     "iopub.status.busy": "2025-07-30T13:41:41.483737Z",
     "iopub.status.idle": "2025-07-30T13:41:41.489482Z",
     "shell.execute_reply": "2025-07-30T13:41:41.488709Z"
    },
    "papermill": {
     "duration": 0.021823,
     "end_time": "2025-07-30T13:41:41.490864",
     "exception": false,
     "start_time": "2025-07-30T13:41:41.469041",
     "status": "completed"
    },
    "tags": []
   },
   "outputs": [],
   "source": [
    "# EXCLUDE PROTECTED FEATURES\n",
    "# ----------------------\n",
    "# \"exclude_features\": \"none\", # \"nationality\", \"sex\", \"nationality-sex\"\n",
    "\n",
    "excluded_features = universe[\"exclude_features\"].split(\"-\") # split, e.g.: \"nationality-sex\" -> [\"nationality\", \"sex\"]\n",
    "excluded_features_dictionary = {\n",
    "    \"nationality\": [\"maxdeutsch1\", \"maxdeutsch.Missing.\"],\n",
    "    \"sex\": [\"frau1\"],\n",
    "    \"age\": [\"age\"],\n",
    "}\n"
   ]
  },
  {
   "cell_type": "code",
   "execution_count": 30,
   "id": "b745ac60",
   "metadata": {
    "execution": {
     "iopub.execute_input": "2025-07-30T13:41:41.515332Z",
     "iopub.status.busy": "2025-07-30T13:41:41.515022Z",
     "iopub.status.idle": "2025-07-30T13:41:41.519978Z",
     "shell.execute_reply": "2025-07-30T13:41:41.518986Z"
    },
    "papermill": {
     "duration": 0.018923,
     "end_time": "2025-07-30T13:41:41.522121",
     "exception": false,
     "start_time": "2025-07-30T13:41:41.503198",
     "status": "completed"
    },
    "tags": []
   },
   "outputs": [],
   "source": [
    "# Code nice names to column names\n",
    "\n",
    "excluded_features_columns = [\n",
    "    excluded_features_dictionary[f] for f in excluded_features if len(f) > 0 and f != \"none\"\n",
    "]"
   ]
  },
  {
   "cell_type": "code",
   "execution_count": 31,
   "id": "f84f73a2",
   "metadata": {
    "execution": {
     "iopub.execute_input": "2025-07-30T13:41:41.549209Z",
     "iopub.status.busy": "2025-07-30T13:41:41.548902Z",
     "iopub.status.idle": "2025-07-30T13:41:41.554525Z",
     "shell.execute_reply": "2025-07-30T13:41:41.553861Z"
    },
    "papermill": {
     "duration": 0.019354,
     "end_time": "2025-07-30T13:41:41.555855",
     "exception": false,
     "start_time": "2025-07-30T13:41:41.536501",
     "status": "completed"
    },
    "tags": []
   },
   "outputs": [],
   "source": [
    "from utils import flatten_once\n",
    "\n",
    "excluded_features_columns = flatten_once(excluded_features_columns)"
   ]
  },
  {
   "cell_type": "code",
   "execution_count": 32,
   "id": "884dea22",
   "metadata": {
    "execution": {
     "iopub.execute_input": "2025-07-30T13:41:41.580012Z",
     "iopub.status.busy": "2025-07-30T13:41:41.579383Z",
     "iopub.status.idle": "2025-07-30T13:41:41.587514Z",
     "shell.execute_reply": "2025-07-30T13:41:41.586535Z"
    },
    "papermill": {
     "duration": 0.021872,
     "end_time": "2025-07-30T13:41:41.589396",
     "exception": false,
     "start_time": "2025-07-30T13:41:41.567524",
     "status": "completed"
    },
    "tags": []
   },
   "outputs": [
    {
     "name": "stdout",
     "output_type": "stream",
     "text": [
      "Dropping features: ['frau1']\n"
     ]
    }
   ],
   "source": [
    "if len(excluded_features_columns) > 0:\n",
    "    print(f\"Dropping features: {excluded_features_columns}\")\n",
    "    X_train.drop(excluded_features_columns, axis=1, inplace=True)"
   ]
  },
  {
   "cell_type": "code",
   "execution_count": 33,
   "id": "95ab8b16",
   "metadata": {
    "execution": {
     "iopub.execute_input": "2025-07-30T13:41:41.635940Z",
     "iopub.status.busy": "2025-07-30T13:41:41.634967Z",
     "iopub.status.idle": "2025-07-30T13:41:41.689107Z",
     "shell.execute_reply": "2025-07-30T13:41:41.688106Z"
    },
    "papermill": {
     "duration": 0.078634,
     "end_time": "2025-07-30T13:41:41.690578",
     "exception": false,
     "start_time": "2025-07-30T13:41:41.611944",
     "status": "completed"
    },
    "tags": []
   },
   "outputs": [
    {
     "name": "stdout",
     "output_type": "stream",
     "text": [
      "Dropping features: ['frau1']\n"
     ]
    }
   ],
   "source": [
    "if len(excluded_features_columns) > 0:\n",
    "    print(f\"Dropping features: {excluded_features_columns}\")\n",
    "    X_test.drop(excluded_features_columns, axis=1, inplace=True)"
   ]
  },
  {
   "cell_type": "code",
   "execution_count": 34,
   "id": "1853aaf5-fb9f-46cb-a2b5-8ea4ae2237e4",
   "metadata": {
    "execution": {
     "iopub.execute_input": "2025-07-30T13:41:41.736386Z",
     "iopub.status.busy": "2025-07-30T13:41:41.735864Z",
     "iopub.status.idle": "2025-07-30T13:41:41.787987Z",
     "shell.execute_reply": "2025-07-30T13:41:41.786896Z"
    },
    "papermill": {
     "duration": 0.0758,
     "end_time": "2025-07-30T13:41:41.789679",
     "exception": false,
     "start_time": "2025-07-30T13:41:41.713879",
     "status": "completed"
    },
    "tags": []
   },
   "outputs": [
    {
     "name": "stdout",
     "output_type": "stream",
     "text": [
      "Dropping features: ['frau1']\n"
     ]
    }
   ],
   "source": [
    "if len(excluded_features_columns) > 0:\n",
    "    print(f\"Dropping features: {excluded_features_columns}\")\n",
    "    X_calib.drop(excluded_features_columns, axis=1, inplace=True)"
   ]
  },
  {
   "cell_type": "code",
   "execution_count": 35,
   "id": "6727d079-03e5-481e-9d38-292a90b7a0a8",
   "metadata": {
    "execution": {
     "iopub.execute_input": "2025-07-30T13:41:41.834945Z",
     "iopub.status.busy": "2025-07-30T13:41:41.834287Z",
     "iopub.status.idle": "2025-07-30T13:41:41.839238Z",
     "shell.execute_reply": "2025-07-30T13:41:41.838405Z"
    },
    "papermill": {
     "duration": 0.02926,
     "end_time": "2025-07-30T13:41:41.841099",
     "exception": false,
     "start_time": "2025-07-30T13:41:41.811839",
     "status": "completed"
    },
    "tags": []
   },
   "outputs": [],
   "source": [
    "# SPLIT & STRATIFY DATA\n",
    "# ----------------------"
   ]
  },
  {
   "cell_type": "code",
   "execution_count": 36,
   "id": "76c4dc6d",
   "metadata": {
    "execution": {
     "iopub.execute_input": "2025-07-30T13:41:41.889844Z",
     "iopub.status.busy": "2025-07-30T13:41:41.889181Z",
     "iopub.status.idle": "2025-07-30T13:41:41.894754Z",
     "shell.execute_reply": "2025-07-30T13:41:41.893875Z"
    },
    "papermill": {
     "duration": 0.031407,
     "end_time": "2025-07-30T13:41:41.896406",
     "exception": false,
     "start_time": "2025-07-30T13:41:41.864999",
     "status": "completed"
    },
    "tags": []
   },
   "outputs": [],
   "source": [
    "# EXCLUDE CERTAIN SUBGROUPS\n",
    "# ----------------------\n",
    "\n",
    "mode = universe.get(\"exclude_subgroups\", \"keep-all\") \n",
    "# Fetches the exclude_subgroups setting from the universe dict.\n",
    "# Defaults to \"keep-all\" if the key is missing."
   ]
  },
  {
   "cell_type": "code",
   "execution_count": 37,
   "id": "21994072",
   "metadata": {
    "execution": {
     "iopub.execute_input": "2025-07-30T13:41:41.946347Z",
     "iopub.status.busy": "2025-07-30T13:41:41.944892Z",
     "iopub.status.idle": "2025-07-30T13:41:41.952321Z",
     "shell.execute_reply": "2025-07-30T13:41:41.951474Z"
    },
    "papermill": {
     "duration": 0.034036,
     "end_time": "2025-07-30T13:41:41.954020",
     "exception": false,
     "start_time": "2025-07-30T13:41:41.919984",
     "status": "completed"
    },
    "tags": []
   },
   "outputs": [],
   "source": [
    "if mode == \"keep-all\":\n",
    "    keep_mask = pd.Series(True, index=org_train.index)\n",
    "\n",
    "# org_train contains the original feature columns from features_org (in Simson)\n",
    "# features_org contains unprocessed features, for me X_train at beginning ???\n",
    "# For keep-all, creates a boolean Series (keep_mask) of all True, so no rows are removed.\n",
    "\n",
    "elif mode == \"drop-non-german\":\n",
    "    keep_mask = org_train[\"maxdeutsch1\"] == 1 # ??? what about missing values?\n",
    "\n",
    "else:\n",
    "    raise ValueError(f\"Unsupported mode for exclude_subgroups: {mode}\")\n"
   ]
  },
  {
   "cell_type": "code",
   "execution_count": 38,
   "id": "71651440",
   "metadata": {
    "execution": {
     "iopub.execute_input": "2025-07-30T13:41:42.002826Z",
     "iopub.status.busy": "2025-07-30T13:41:42.002133Z",
     "iopub.status.idle": "2025-07-30T13:41:42.009346Z",
     "shell.execute_reply": "2025-07-30T13:41:42.008357Z"
    },
    "papermill": {
     "duration": 0.03342,
     "end_time": "2025-07-30T13:41:42.011030",
     "exception": false,
     "start_time": "2025-07-30T13:41:41.977610",
     "status": "completed"
    },
    "tags": []
   },
   "outputs": [],
   "source": [
    "n_drop = (~keep_mask).sum() # Calculates how many rows are set to be dropped\n",
    "if n_drop > 0:\n",
    "    pct = n_drop / len(keep_mask) * 100\n",
    "    print(f\"Dropping {n_drop} rows ({pct:.2f}%) where mode='{mode}'\")"
   ]
  },
  {
   "cell_type": "code",
   "execution_count": 39,
   "id": "5fb8eee5",
   "metadata": {
    "execution": {
     "iopub.execute_input": "2025-07-30T13:41:42.059318Z",
     "iopub.status.busy": "2025-07-30T13:41:42.058630Z",
     "iopub.status.idle": "2025-07-30T13:41:42.066996Z",
     "shell.execute_reply": "2025-07-30T13:41:42.066069Z"
    },
    "papermill": {
     "duration": 0.034158,
     "end_time": "2025-07-30T13:41:42.068754",
     "exception": false,
     "start_time": "2025-07-30T13:41:42.034596",
     "status": "completed"
    },
    "tags": []
   },
   "outputs": [],
   "source": [
    "X_train = X_train[keep_mask]"
   ]
  },
  {
   "cell_type": "code",
   "execution_count": 40,
   "id": "b202bb3a",
   "metadata": {
    "execution": {
     "iopub.execute_input": "2025-07-30T13:41:42.118107Z",
     "iopub.status.busy": "2025-07-30T13:41:42.117442Z",
     "iopub.status.idle": "2025-07-30T13:41:42.124231Z",
     "shell.execute_reply": "2025-07-30T13:41:42.123199Z"
    },
    "papermill": {
     "duration": 0.032488,
     "end_time": "2025-07-30T13:41:42.125919",
     "exception": false,
     "start_time": "2025-07-30T13:41:42.093431",
     "status": "completed"
    },
    "tags": []
   },
   "outputs": [],
   "source": [
    "y_train = y_train[keep_mask]"
   ]
  },
  {
   "cell_type": "markdown",
   "id": "493e2ac3",
   "metadata": {
    "papermill": {
     "duration": 0.023082,
     "end_time": "2025-07-30T13:41:42.173452",
     "exception": false,
     "start_time": "2025-07-30T13:41:42.150370",
     "status": "completed"
    },
    "tags": []
   },
   "source": [
    "# Model Training"
   ]
  },
  {
   "cell_type": "code",
   "execution_count": 41,
   "id": "679e1268",
   "metadata": {
    "execution": {
     "iopub.execute_input": "2025-07-30T13:41:42.222488Z",
     "iopub.status.busy": "2025-07-30T13:41:42.221566Z",
     "iopub.status.idle": "2025-07-30T13:41:42.326146Z",
     "shell.execute_reply": "2025-07-30T13:41:42.325229Z"
    },
    "papermill": {
     "duration": 0.131568,
     "end_time": "2025-07-30T13:41:42.328075",
     "exception": false,
     "start_time": "2025-07-30T13:41:42.196507",
     "status": "completed"
    },
    "tags": []
   },
   "outputs": [],
   "source": [
    "from sklearn.linear_model import LogisticRegression\n",
    "from sklearn.ensemble import GradientBoostingClassifier, RandomForestClassifier\n",
    "\n",
    "if (universe[\"model\"] == \"logreg\"):\n",
    "    model = LogisticRegression() #penalty=\"none\") #, solver=\"newton-cg\", max_iter=1) # include random_state=19 ?\n",
    "elif (universe[\"model\"] == \"penalized_logreg\"):\n",
    "    model = LogisticRegression(penalty=\"l2\", C=1.0) #, solver=\"newton-cg\", max_iter=1)\n",
    "elif (universe[\"model\"] == \"rf\"):\n",
    "    model = RandomForestClassifier(n_estimators=100, n_jobs=-1)\n",
    "elif (universe[\"model\"] == \"gbm\"):\n",
    "    model = GradientBoostingClassifier()\n",
    "elif (universe[\"model\"] == \"elasticnet\"):\n",
    "    model = LogisticRegression(penalty = 'elasticnet', solver = 'saga', l1_ratio = 0.5, max_iter=5000) # which solver to use?\n",
    "else:\n",
    "    raise \"Unsupported universe.model\""
   ]
  },
  {
   "cell_type": "code",
   "execution_count": 42,
   "id": "0cc8f744",
   "metadata": {
    "execution": {
     "iopub.execute_input": "2025-07-30T13:41:42.379260Z",
     "iopub.status.busy": "2025-07-30T13:41:42.378580Z",
     "iopub.status.idle": "2025-07-30T13:41:42.384972Z",
     "shell.execute_reply": "2025-07-30T13:41:42.384003Z"
    },
    "papermill": {
     "duration": 0.033592,
     "end_time": "2025-07-30T13:41:42.386600",
     "exception": false,
     "start_time": "2025-07-30T13:41:42.353008",
     "status": "completed"
    },
    "tags": []
   },
   "outputs": [],
   "source": [
    "import numpy as np\n",
    "from sklearn.pipeline import Pipeline\n",
    "from sklearn.preprocessing import StandardScaler\n",
    "\n",
    "model = Pipeline([\n",
    "    #(\"continuous_processor\", continuous_processor),\n",
    "    #(\"categorical_preprocessor\", categorical_preprocessor),\n",
    "    (\"scale\", StandardScaler() if universe[\"scale\"] == \"scale\" else None), \n",
    "    (\"model\", model),\n",
    "])"
   ]
  },
  {
   "cell_type": "code",
   "execution_count": 43,
   "id": "9442c04d",
   "metadata": {
    "execution": {
     "iopub.execute_input": "2025-07-30T13:41:42.434781Z",
     "iopub.status.busy": "2025-07-30T13:41:42.434276Z",
     "iopub.status.idle": "2025-07-30T13:41:42.594737Z",
     "shell.execute_reply": "2025-07-30T13:41:42.593779Z"
    },
    "papermill": {
     "duration": 0.18729,
     "end_time": "2025-07-30T13:41:42.597181",
     "exception": false,
     "start_time": "2025-07-30T13:41:42.409891",
     "status": "completed"
    },
    "tags": []
   },
   "outputs": [
    {
     "name": "stderr",
     "output_type": "stream",
     "text": [
      "/dss/dsshome1/0C/ra93lal2/.local/share/virtualenvs/CMA_Fairness_v2-3j10GkSs/lib/python3.10/site-packages/sklearn/linear_model/_logistic.py:444: ConvergenceWarning: lbfgs failed to converge (status=1):\n",
      "STOP: TOTAL NO. of ITERATIONS REACHED LIMIT.\n",
      "\n",
      "Increase the number of iterations (max_iter) or scale the data as shown in:\n",
      "    https://scikit-learn.org/stable/modules/preprocessing.html\n",
      "Please also refer to the documentation for alternative solver options:\n",
      "    https://scikit-learn.org/stable/modules/linear_model.html#logistic-regression\n",
      "  n_iter_i = _check_optimize_result(\n"
     ]
    },
    {
     "data": {
      "text/html": [
       "<style>#sk-container-id-1 {color: black;background-color: white;}#sk-container-id-1 pre{padding: 0;}#sk-container-id-1 div.sk-toggleable {background-color: white;}#sk-container-id-1 label.sk-toggleable__label {cursor: pointer;display: block;width: 100%;margin-bottom: 0;padding: 0.3em;box-sizing: border-box;text-align: center;}#sk-container-id-1 label.sk-toggleable__label-arrow:before {content: \"▸\";float: left;margin-right: 0.25em;color: #696969;}#sk-container-id-1 label.sk-toggleable__label-arrow:hover:before {color: black;}#sk-container-id-1 div.sk-estimator:hover label.sk-toggleable__label-arrow:before {color: black;}#sk-container-id-1 div.sk-toggleable__content {max-height: 0;max-width: 0;overflow: hidden;text-align: left;background-color: #f0f8ff;}#sk-container-id-1 div.sk-toggleable__content pre {margin: 0.2em;color: black;border-radius: 0.25em;background-color: #f0f8ff;}#sk-container-id-1 input.sk-toggleable__control:checked~div.sk-toggleable__content {max-height: 200px;max-width: 100%;overflow: auto;}#sk-container-id-1 input.sk-toggleable__control:checked~label.sk-toggleable__label-arrow:before {content: \"▾\";}#sk-container-id-1 div.sk-estimator input.sk-toggleable__control:checked~label.sk-toggleable__label {background-color: #d4ebff;}#sk-container-id-1 div.sk-label input.sk-toggleable__control:checked~label.sk-toggleable__label {background-color: #d4ebff;}#sk-container-id-1 input.sk-hidden--visually {border: 0;clip: rect(1px 1px 1px 1px);clip: rect(1px, 1px, 1px, 1px);height: 1px;margin: -1px;overflow: hidden;padding: 0;position: absolute;width: 1px;}#sk-container-id-1 div.sk-estimator {font-family: monospace;background-color: #f0f8ff;border: 1px dotted black;border-radius: 0.25em;box-sizing: border-box;margin-bottom: 0.5em;}#sk-container-id-1 div.sk-estimator:hover {background-color: #d4ebff;}#sk-container-id-1 div.sk-parallel-item::after {content: \"\";width: 100%;border-bottom: 1px solid gray;flex-grow: 1;}#sk-container-id-1 div.sk-label:hover label.sk-toggleable__label {background-color: #d4ebff;}#sk-container-id-1 div.sk-serial::before {content: \"\";position: absolute;border-left: 1px solid gray;box-sizing: border-box;top: 0;bottom: 0;left: 50%;z-index: 0;}#sk-container-id-1 div.sk-serial {display: flex;flex-direction: column;align-items: center;background-color: white;padding-right: 0.2em;padding-left: 0.2em;position: relative;}#sk-container-id-1 div.sk-item {position: relative;z-index: 1;}#sk-container-id-1 div.sk-parallel {display: flex;align-items: stretch;justify-content: center;background-color: white;position: relative;}#sk-container-id-1 div.sk-item::before, #sk-container-id-1 div.sk-parallel-item::before {content: \"\";position: absolute;border-left: 1px solid gray;box-sizing: border-box;top: 0;bottom: 0;left: 50%;z-index: -1;}#sk-container-id-1 div.sk-parallel-item {display: flex;flex-direction: column;z-index: 1;position: relative;background-color: white;}#sk-container-id-1 div.sk-parallel-item:first-child::after {align-self: flex-end;width: 50%;}#sk-container-id-1 div.sk-parallel-item:last-child::after {align-self: flex-start;width: 50%;}#sk-container-id-1 div.sk-parallel-item:only-child::after {width: 0;}#sk-container-id-1 div.sk-dashed-wrapped {border: 1px dashed gray;margin: 0 0.4em 0.5em 0.4em;box-sizing: border-box;padding-bottom: 0.4em;background-color: white;}#sk-container-id-1 div.sk-label label {font-family: monospace;font-weight: bold;display: inline-block;line-height: 1.2em;}#sk-container-id-1 div.sk-label-container {text-align: center;}#sk-container-id-1 div.sk-container {/* jupyter's `normalize.less` sets `[hidden] { display: none; }` but bootstrap.min.css set `[hidden] { display: none !important; }` so we also need the `!important` here to be able to override the default hidden behavior on the sphinx rendered scikit-learn.org. See: https://github.com/scikit-learn/scikit-learn/issues/21755 */display: inline-block !important;position: relative;}#sk-container-id-1 div.sk-text-repr-fallback {display: none;}</style><div id=\"sk-container-id-1\" class=\"sk-top-container\"><div class=\"sk-text-repr-fallback\"><pre>Pipeline(steps=[(&#x27;scale&#x27;, StandardScaler()), (&#x27;model&#x27;, LogisticRegression())])</pre><b>In a Jupyter environment, please rerun this cell to show the HTML representation or trust the notebook. <br />On GitHub, the HTML representation is unable to render, please try loading this page with nbviewer.org.</b></div><div class=\"sk-container\" hidden><div class=\"sk-item sk-dashed-wrapped\"><div class=\"sk-label-container\"><div class=\"sk-label sk-toggleable\"><input class=\"sk-toggleable__control sk-hidden--visually\" id=\"sk-estimator-id-1\" type=\"checkbox\" ><label for=\"sk-estimator-id-1\" class=\"sk-toggleable__label sk-toggleable__label-arrow\">Pipeline</label><div class=\"sk-toggleable__content\"><pre>Pipeline(steps=[(&#x27;scale&#x27;, StandardScaler()), (&#x27;model&#x27;, LogisticRegression())])</pre></div></div></div><div class=\"sk-serial\"><div class=\"sk-item\"><div class=\"sk-estimator sk-toggleable\"><input class=\"sk-toggleable__control sk-hidden--visually\" id=\"sk-estimator-id-2\" type=\"checkbox\" ><label for=\"sk-estimator-id-2\" class=\"sk-toggleable__label sk-toggleable__label-arrow\">StandardScaler</label><div class=\"sk-toggleable__content\"><pre>StandardScaler()</pre></div></div></div><div class=\"sk-item\"><div class=\"sk-estimator sk-toggleable\"><input class=\"sk-toggleable__control sk-hidden--visually\" id=\"sk-estimator-id-3\" type=\"checkbox\" ><label for=\"sk-estimator-id-3\" class=\"sk-toggleable__label sk-toggleable__label-arrow\">LogisticRegression</label><div class=\"sk-toggleable__content\"><pre>LogisticRegression()</pre></div></div></div></div></div></div></div>"
      ],
      "text/plain": [
       "Pipeline(steps=[('scale', StandardScaler()), ('model', LogisticRegression())])"
      ]
     },
     "execution_count": 43,
     "metadata": {},
     "output_type": "execute_result"
    }
   ],
   "source": [
    "model.fit(X_train, y_train.values.ravel())"
   ]
  },
  {
   "cell_type": "code",
   "execution_count": 44,
   "id": "af59f8c0",
   "metadata": {
    "execution": {
     "iopub.execute_input": "2025-07-30T13:41:42.645607Z",
     "iopub.status.busy": "2025-07-30T13:41:42.645180Z",
     "iopub.status.idle": "2025-07-30T13:41:42.650460Z",
     "shell.execute_reply": "2025-07-30T13:41:42.649583Z"
    },
    "papermill": {
     "duration": 0.031899,
     "end_time": "2025-07-30T13:41:42.652126",
     "exception": false,
     "start_time": "2025-07-30T13:41:42.620227",
     "status": "completed"
    },
    "tags": []
   },
   "outputs": [],
   "source": [
    "from fairness_multiverse.universe import predict_w_threshold"
   ]
  },
  {
   "cell_type": "code",
   "execution_count": 45,
   "id": "a7cf2e16",
   "metadata": {
    "execution": {
     "iopub.execute_input": "2025-07-30T13:41:42.700897Z",
     "iopub.status.busy": "2025-07-30T13:41:42.699992Z",
     "iopub.status.idle": "2025-07-30T13:41:42.893943Z",
     "shell.execute_reply": "2025-07-30T13:41:42.893039Z"
    },
    "papermill": {
     "duration": 0.218902,
     "end_time": "2025-07-30T13:41:42.895609",
     "exception": false,
     "start_time": "2025-07-30T13:41:42.676707",
     "status": "completed"
    },
    "tags": []
   },
   "outputs": [
    {
     "data": {
      "text/plain": [
       "0.8575744064206889"
      ]
     },
     "execution_count": 45,
     "metadata": {},
     "output_type": "execute_result"
    }
   ],
   "source": [
    "probs_test = model.predict_proba(X_test)\n",
    "\n",
    "'''\n",
    "Below code returns a boolean array (or binary 0/1 array depending on how it’s used) where each element \n",
    "is True if the probability of class 1 is greater than or equal to the threshold, and False otherwise.\n",
    "'''\n",
    "y_pred_default = predict_w_threshold(probs_test, 0.5)\n",
    "\n",
    "from sklearn.metrics import accuracy_score\n",
    "\n",
    "# Naive prediction\n",
    "accuracy_score(y_true = y_true, y_pred = y_pred_default)"
   ]
  },
  {
   "cell_type": "code",
   "execution_count": 46,
   "id": "081964c3",
   "metadata": {
    "execution": {
     "iopub.execute_input": "2025-07-30T13:41:42.944321Z",
     "iopub.status.busy": "2025-07-30T13:41:42.943583Z",
     "iopub.status.idle": "2025-07-30T13:41:43.127020Z",
     "shell.execute_reply": "2025-07-30T13:41:43.126100Z"
    },
    "papermill": {
     "duration": 0.209775,
     "end_time": "2025-07-30T13:41:43.128553",
     "exception": false,
     "start_time": "2025-07-30T13:41:42.918778",
     "status": "completed"
    },
    "tags": []
   },
   "outputs": [
    {
     "data": {
      "text/plain": [
       "array([0, 0, 0, ..., 0, 0, 0])"
      ]
     },
     "execution_count": 46,
     "metadata": {},
     "output_type": "execute_result"
    }
   ],
   "source": [
    "model.predict(X_test)"
   ]
  },
  {
   "cell_type": "markdown",
   "id": "56c9705b",
   "metadata": {
    "papermill": {
     "duration": 0.022493,
     "end_time": "2025-07-30T13:41:43.175253",
     "exception": false,
     "start_time": "2025-07-30T13:41:43.152760",
     "status": "completed"
    },
    "tags": []
   },
   "source": [
    "# Conformal Prediction"
   ]
  },
  {
   "cell_type": "code",
   "execution_count": 47,
   "id": "160ec6ff",
   "metadata": {
    "execution": {
     "iopub.execute_input": "2025-07-30T13:41:43.222414Z",
     "iopub.status.busy": "2025-07-30T13:41:43.221734Z",
     "iopub.status.idle": "2025-07-30T13:41:43.227066Z",
     "shell.execute_reply": "2025-07-30T13:41:43.226174Z"
    },
    "papermill": {
     "duration": 0.031032,
     "end_time": "2025-07-30T13:41:43.228795",
     "exception": false,
     "start_time": "2025-07-30T13:41:43.197763",
     "status": "completed"
    },
    "tags": []
   },
   "outputs": [],
   "source": [
    "# Miscoverage level for conformal prediction (10% allowed error rate => 90% target coverage)\n",
    "alpha = 0.1"
   ]
  },
  {
   "cell_type": "code",
   "execution_count": 48,
   "id": "eadf4555-3dd3-440e-8e35-f82a4ad9f855",
   "metadata": {
    "execution": {
     "iopub.execute_input": "2025-07-30T13:41:43.277796Z",
     "iopub.status.busy": "2025-07-30T13:41:43.277115Z",
     "iopub.status.idle": "2025-07-30T13:41:43.455592Z",
     "shell.execute_reply": "2025-07-30T13:41:43.454626Z"
    },
    "papermill": {
     "duration": 0.204534,
     "end_time": "2025-07-30T13:41:43.457488",
     "exception": false,
     "start_time": "2025-07-30T13:41:43.252954",
     "status": "completed"
    },
    "tags": []
   },
   "outputs": [],
   "source": [
    "probs_calib = model.predict_proba(X_calib)"
   ]
  },
  {
   "cell_type": "code",
   "execution_count": 49,
   "id": "2ed93547-6d5d-4983-9b36-1ecb300da49a",
   "metadata": {
    "execution": {
     "iopub.execute_input": "2025-07-30T13:41:43.509001Z",
     "iopub.status.busy": "2025-07-30T13:41:43.508290Z",
     "iopub.status.idle": "2025-07-30T13:41:43.514640Z",
     "shell.execute_reply": "2025-07-30T13:41:43.513736Z"
    },
    "papermill": {
     "duration": 0.034039,
     "end_time": "2025-07-30T13:41:43.516215",
     "exception": false,
     "start_time": "2025-07-30T13:41:43.482176",
     "status": "completed"
    },
    "tags": []
   },
   "outputs": [],
   "source": [
    "y_calib = y_calib.values.ravel().astype(int)"
   ]
  },
  {
   "cell_type": "code",
   "execution_count": 50,
   "id": "65d1320d-f588-4b38-9072-62af1ae97f7d",
   "metadata": {
    "execution": {
     "iopub.execute_input": "2025-07-30T13:41:43.564760Z",
     "iopub.status.busy": "2025-07-30T13:41:43.564062Z",
     "iopub.status.idle": "2025-07-30T13:41:43.572397Z",
     "shell.execute_reply": "2025-07-30T13:41:43.571531Z"
    },
    "papermill": {
     "duration": 0.034089,
     "end_time": "2025-07-30T13:41:43.573971",
     "exception": false,
     "start_time": "2025-07-30T13:41:43.539882",
     "status": "completed"
    },
    "tags": []
   },
   "outputs": [],
   "source": [
    "from fairness_multiverse.conformal import compute_nc_scores\n",
    "\n",
    "# Compute nonconformity scores on calibration set (1 - probability of true class)\n",
    "nc_scores = compute_nc_scores(probs_calib, y_calib)"
   ]
  },
  {
   "cell_type": "code",
   "execution_count": 51,
   "id": "df3b8ca3-53b7-43d5-9667-7c85da7aeda2",
   "metadata": {
    "execution": {
     "iopub.execute_input": "2025-07-30T13:41:43.624544Z",
     "iopub.status.busy": "2025-07-30T13:41:43.623786Z",
     "iopub.status.idle": "2025-07-30T13:41:43.630847Z",
     "shell.execute_reply": "2025-07-30T13:41:43.629992Z"
    },
    "papermill": {
     "duration": 0.033318,
     "end_time": "2025-07-30T13:41:43.632512",
     "exception": false,
     "start_time": "2025-07-30T13:41:43.599194",
     "status": "completed"
    },
    "tags": []
   },
   "outputs": [],
   "source": [
    "from fairness_multiverse.conformal import find_threshold\n",
    "\n",
    "# Find conformal threshold q_hat for the given alpha (split conformal method)\n",
    "q_hat = find_threshold(nc_scores, alpha)"
   ]
  },
  {
   "cell_type": "code",
   "execution_count": 52,
   "id": "4d29e6c1-0ef6-4aa4-b8fe-4fe79b0d033a",
   "metadata": {
    "execution": {
     "iopub.execute_input": "2025-07-30T13:41:43.683020Z",
     "iopub.status.busy": "2025-07-30T13:41:43.682113Z",
     "iopub.status.idle": "2025-07-30T13:41:43.689587Z",
     "shell.execute_reply": "2025-07-30T13:41:43.688705Z"
    },
    "papermill": {
     "duration": 0.033895,
     "end_time": "2025-07-30T13:41:43.690988",
     "exception": false,
     "start_time": "2025-07-30T13:41:43.657093",
     "status": "completed"
    },
    "tags": []
   },
   "outputs": [
    {
     "data": {
      "text/plain": [
       "0.6856247311291815"
      ]
     },
     "execution_count": 52,
     "metadata": {},
     "output_type": "execute_result"
    }
   ],
   "source": [
    "q_hat"
   ]
  },
  {
   "cell_type": "code",
   "execution_count": 53,
   "id": "92460794-cdac-4be2-ba28-f28c0515a6fb",
   "metadata": {
    "execution": {
     "iopub.execute_input": "2025-07-30T13:41:43.740472Z",
     "iopub.status.busy": "2025-07-30T13:41:43.739865Z",
     "iopub.status.idle": "2025-07-30T13:41:44.680568Z",
     "shell.execute_reply": "2025-07-30T13:41:44.679464Z"
    },
    "papermill": {
     "duration": 0.967807,
     "end_time": "2025-07-30T13:41:44.682598",
     "exception": false,
     "start_time": "2025-07-30T13:41:43.714791",
     "status": "completed"
    },
    "tags": []
   },
   "outputs": [],
   "source": [
    "from fairness_multiverse.conformal import predict_conformal_sets\n",
    "\n",
    "# Generate prediction sets for each test example\n",
    "pred_sets = predict_conformal_sets(model, X_test, q_hat)"
   ]
  },
  {
   "cell_type": "code",
   "execution_count": 54,
   "id": "d90c9a65-e6db-4f5d-80cd-e68fb7e46829",
   "metadata": {
    "execution": {
     "iopub.execute_input": "2025-07-30T13:41:44.740480Z",
     "iopub.status.busy": "2025-07-30T13:41:44.739992Z",
     "iopub.status.idle": "2025-07-30T13:41:44.745736Z",
     "shell.execute_reply": "2025-07-30T13:41:44.745006Z"
    },
    "papermill": {
     "duration": 0.036065,
     "end_time": "2025-07-30T13:41:44.747081",
     "exception": false,
     "start_time": "2025-07-30T13:41:44.711016",
     "status": "completed"
    },
    "tags": []
   },
   "outputs": [],
   "source": [
    "y_true = y_true.squeeze()"
   ]
  },
  {
   "cell_type": "code",
   "execution_count": 55,
   "id": "3a58a54a-1e68-46b9-927a-df01f18aebc8",
   "metadata": {
    "execution": {
     "iopub.execute_input": "2025-07-30T13:41:44.776185Z",
     "iopub.status.busy": "2025-07-30T13:41:44.775828Z",
     "iopub.status.idle": "2025-07-30T13:41:45.367541Z",
     "shell.execute_reply": "2025-07-30T13:41:45.366782Z"
    },
    "papermill": {
     "duration": 0.607161,
     "end_time": "2025-07-30T13:41:45.368977",
     "exception": false,
     "start_time": "2025-07-30T13:41:44.761816",
     "status": "completed"
    },
    "tags": []
   },
   "outputs": [],
   "source": [
    "from fairness_multiverse.conformal import evaluate_sets\n",
    "\n",
    "# Evaluate coverage and average set size on test data\n",
    "metrics = evaluate_sets(pred_sets, y_true)"
   ]
  },
  {
   "cell_type": "markdown",
   "id": "2b569c12-9aaa-4c88-98c9-bbcd0cf3ebb8",
   "metadata": {
    "papermill": {
     "duration": 0.013306,
     "end_time": "2025-07-30T13:41:45.396705",
     "exception": false,
     "start_time": "2025-07-30T13:41:45.383399",
     "status": "completed"
    },
    "tags": []
   },
   "source": [
    "# CP Metrics"
   ]
  },
  {
   "cell_type": "code",
   "execution_count": 56,
   "id": "5ce0a5cb-201f-45a0-ade5-94c7f0bd6095",
   "metadata": {
    "execution": {
     "iopub.execute_input": "2025-07-30T13:41:45.426548Z",
     "iopub.status.busy": "2025-07-30T13:41:45.426139Z",
     "iopub.status.idle": "2025-07-30T13:41:45.433045Z",
     "shell.execute_reply": "2025-07-30T13:41:45.432302Z"
    },
    "papermill": {
     "duration": 0.024235,
     "end_time": "2025-07-30T13:41:45.434401",
     "exception": false,
     "start_time": "2025-07-30T13:41:45.410166",
     "status": "completed"
    },
    "tags": []
   },
   "outputs": [
    {
     "data": {
      "text/plain": [
       "{'coverage': 0.9105785308215361, 'avg_size': 1.135057407200981}"
      ]
     },
     "execution_count": 56,
     "metadata": {},
     "output_type": "execute_result"
    }
   ],
   "source": [
    "metrics"
   ]
  },
  {
   "cell_type": "code",
   "execution_count": 57,
   "id": "9b9a838d-31c9-430b-ae14-12baee460d17",
   "metadata": {
    "execution": {
     "iopub.execute_input": "2025-07-30T13:41:45.467803Z",
     "iopub.status.busy": "2025-07-30T13:41:45.467459Z",
     "iopub.status.idle": "2025-07-30T13:41:45.472842Z",
     "shell.execute_reply": "2025-07-30T13:41:45.472077Z"
    },
    "papermill": {
     "duration": 0.021942,
     "end_time": "2025-07-30T13:41:45.474204",
     "exception": false,
     "start_time": "2025-07-30T13:41:45.452262",
     "status": "completed"
    },
    "tags": []
   },
   "outputs": [],
   "source": [
    "example_universe = universe.copy()\n",
    "universe_training_size = example_universe.get(\"training_size\")\n",
    "universe_scale = example_universe.get(\"scale\")\n",
    "universe_model = example_universe.get(\"model\")\n",
    "universe_exclude_features = example_universe.get(\"exclude_features\")\n",
    "universe_exclude_subgroups = example_universe.get(\"exclude_subgroups\")"
   ]
  },
  {
   "cell_type": "code",
   "execution_count": 58,
   "id": "f4b6a8ac-9dc0-4245-8a91-5b3b5999c4f9",
   "metadata": {
    "execution": {
     "iopub.execute_input": "2025-07-30T13:41:45.505588Z",
     "iopub.status.busy": "2025-07-30T13:41:45.505059Z",
     "iopub.status.idle": "2025-07-30T13:41:45.510671Z",
     "shell.execute_reply": "2025-07-30T13:41:45.509759Z"
    },
    "papermill": {
     "duration": 0.022405,
     "end_time": "2025-07-30T13:41:45.512281",
     "exception": false,
     "start_time": "2025-07-30T13:41:45.489876",
     "status": "completed"
    },
    "tags": []
   },
   "outputs": [],
   "source": [
    "cp_metrics_dict = {\n",
    "    \"universe_id\": [universe_id],\n",
    "    \"universe_training_size\": [universe_training_size],\n",
    "    \"universe_scale\": [universe_scale],\n",
    "    \"universe_model\": [universe_model],\n",
    "    \"universe_exclude_features\": [universe_exclude_features],\n",
    "    \"universe_exclude_subgroups\": [universe_exclude_subgroups],\n",
    "    \"q_hat\": [q_hat],\n",
    "    \"coverage\": [metrics[\"coverage\"]],\n",
    "    \"avg_size\": [metrics[\"avg_size\"]],\n",
    "}"
   ]
  },
  {
   "cell_type": "code",
   "execution_count": 59,
   "id": "908acbb1-0371-4915-85ca-3fa520d2efe2",
   "metadata": {
    "execution": {
     "iopub.execute_input": "2025-07-30T13:41:45.542461Z",
     "iopub.status.busy": "2025-07-30T13:41:45.541945Z",
     "iopub.status.idle": "2025-07-30T13:41:45.549090Z",
     "shell.execute_reply": "2025-07-30T13:41:45.547908Z"
    },
    "papermill": {
     "duration": 0.023306,
     "end_time": "2025-07-30T13:41:45.550689",
     "exception": false,
     "start_time": "2025-07-30T13:41:45.527383",
     "status": "completed"
    },
    "tags": []
   },
   "outputs": [
    {
     "data": {
      "text/plain": [
       "{'universe_id': ['8ab153fe98cc9d1c5699c963003b5f2c'],\n",
       " 'universe_training_size': ['5k'],\n",
       " 'universe_scale': ['scale'],\n",
       " 'universe_model': ['penalized_logreg'],\n",
       " 'universe_exclude_features': ['sex'],\n",
       " 'universe_exclude_subgroups': ['keep-all'],\n",
       " 'q_hat': [0.6856247311291815],\n",
       " 'coverage': [0.9105785308215361],\n",
       " 'avg_size': [1.135057407200981]}"
      ]
     },
     "execution_count": 59,
     "metadata": {},
     "output_type": "execute_result"
    }
   ],
   "source": [
    "cp_metrics_dict"
   ]
  },
  {
   "cell_type": "code",
   "execution_count": 60,
   "id": "33007efc-14e9-4ec6-97ac-56a455c82265",
   "metadata": {
    "execution": {
     "iopub.execute_input": "2025-07-30T13:41:45.598502Z",
     "iopub.status.busy": "2025-07-30T13:41:45.598015Z",
     "iopub.status.idle": "2025-07-30T13:41:45.604803Z",
     "shell.execute_reply": "2025-07-30T13:41:45.603817Z"
    },
    "papermill": {
     "duration": 0.03584,
     "end_time": "2025-07-30T13:41:45.606608",
     "exception": false,
     "start_time": "2025-07-30T13:41:45.570768",
     "status": "completed"
    },
    "tags": []
   },
   "outputs": [],
   "source": [
    "cp_metrics_df = pd.DataFrame(cp_metrics_dict)"
   ]
  },
  {
   "cell_type": "code",
   "execution_count": 61,
   "id": "db12611b-57b2-4910-b9d0-355adfd6e7bf",
   "metadata": {
    "execution": {
     "iopub.execute_input": "2025-07-30T13:41:45.637895Z",
     "iopub.status.busy": "2025-07-30T13:41:45.637477Z",
     "iopub.status.idle": "2025-07-30T13:41:45.651700Z",
     "shell.execute_reply": "2025-07-30T13:41:45.650852Z"
    },
    "papermill": {
     "duration": 0.029886,
     "end_time": "2025-07-30T13:41:45.653069",
     "exception": false,
     "start_time": "2025-07-30T13:41:45.623183",
     "status": "completed"
    },
    "tags": []
   },
   "outputs": [
    {
     "data": {
      "text/html": [
       "<div>\n",
       "<style scoped>\n",
       "    .dataframe tbody tr th:only-of-type {\n",
       "        vertical-align: middle;\n",
       "    }\n",
       "\n",
       "    .dataframe tbody tr th {\n",
       "        vertical-align: top;\n",
       "    }\n",
       "\n",
       "    .dataframe thead th {\n",
       "        text-align: right;\n",
       "    }\n",
       "</style>\n",
       "<table border=\"1\" class=\"dataframe\">\n",
       "  <thead>\n",
       "    <tr style=\"text-align: right;\">\n",
       "      <th></th>\n",
       "      <th>universe_id</th>\n",
       "      <th>universe_training_size</th>\n",
       "      <th>universe_scale</th>\n",
       "      <th>universe_model</th>\n",
       "      <th>universe_exclude_features</th>\n",
       "      <th>universe_exclude_subgroups</th>\n",
       "      <th>q_hat</th>\n",
       "      <th>coverage</th>\n",
       "      <th>avg_size</th>\n",
       "    </tr>\n",
       "  </thead>\n",
       "  <tbody>\n",
       "    <tr>\n",
       "      <th>0</th>\n",
       "      <td>8ab153fe98cc9d1c5699c963003b5f2c</td>\n",
       "      <td>5k</td>\n",
       "      <td>scale</td>\n",
       "      <td>penalized_logreg</td>\n",
       "      <td>sex</td>\n",
       "      <td>keep-all</td>\n",
       "      <td>0.685625</td>\n",
       "      <td>0.910579</td>\n",
       "      <td>1.135057</td>\n",
       "    </tr>\n",
       "  </tbody>\n",
       "</table>\n",
       "</div>"
      ],
      "text/plain": [
       "                        universe_id universe_training_size universe_scale  \\\n",
       "0  8ab153fe98cc9d1c5699c963003b5f2c                     5k          scale   \n",
       "\n",
       "     universe_model universe_exclude_features universe_exclude_subgroups  \\\n",
       "0  penalized_logreg                       sex                   keep-all   \n",
       "\n",
       "      q_hat  coverage  avg_size  \n",
       "0  0.685625  0.910579  1.135057  "
      ]
     },
     "execution_count": 61,
     "metadata": {},
     "output_type": "execute_result"
    }
   ],
   "source": [
    "cp_metrics_df"
   ]
  },
  {
   "cell_type": "code",
   "execution_count": 62,
   "id": "b7fbde55-a0a1-47e4-9af6-fe4a17fa8c61",
   "metadata": {
    "execution": {
     "iopub.execute_input": "2025-07-30T13:41:45.682111Z",
     "iopub.status.busy": "2025-07-30T13:41:45.681770Z",
     "iopub.status.idle": "2025-07-30T13:41:45.685964Z",
     "shell.execute_reply": "2025-07-30T13:41:45.685231Z"
    },
    "papermill": {
     "duration": 0.019991,
     "end_time": "2025-07-30T13:41:45.687283",
     "exception": false,
     "start_time": "2025-07-30T13:41:45.667292",
     "status": "completed"
    },
    "tags": []
   },
   "outputs": [],
   "source": [
    "# Conditional Coverage & looking at subgroups"
   ]
  },
  {
   "cell_type": "code",
   "execution_count": 63,
   "id": "027ae886-68dd-4141-96c7-805a5450e1ef",
   "metadata": {
    "execution": {
     "iopub.execute_input": "2025-07-30T13:41:45.716772Z",
     "iopub.status.busy": "2025-07-30T13:41:45.716084Z",
     "iopub.status.idle": "2025-07-30T13:41:45.988144Z",
     "shell.execute_reply": "2025-07-30T13:41:45.987130Z"
    },
    "papermill": {
     "duration": 0.288507,
     "end_time": "2025-07-30T13:41:45.990028",
     "exception": false,
     "start_time": "2025-07-30T13:41:45.701521",
     "status": "completed"
    },
    "tags": []
   },
   "outputs": [],
   "source": [
    "from fairness_multiverse.conformal import build_cp_groups\n",
    "\n",
    "cp_groups_df = build_cp_groups(pred_sets, y_true, X_test.index, org_test)\n",
    "#needs universe_id and setting"
   ]
  },
  {
   "cell_type": "code",
   "execution_count": 64,
   "id": "01d5802c-663a-4d1f-9d69-e036faaffbf7",
   "metadata": {
    "execution": {
     "iopub.execute_input": "2025-07-30T13:41:46.053996Z",
     "iopub.status.busy": "2025-07-30T13:41:46.053033Z",
     "iopub.status.idle": "2025-07-30T13:41:46.058088Z",
     "shell.execute_reply": "2025-07-30T13:41:46.057197Z"
    },
    "papermill": {
     "duration": 0.032722,
     "end_time": "2025-07-30T13:41:46.059771",
     "exception": false,
     "start_time": "2025-07-30T13:41:46.027049",
     "status": "completed"
    },
    "tags": []
   },
   "outputs": [],
   "source": [
    "#delete\n",
    "#cp_groups_df"
   ]
  },
  {
   "cell_type": "code",
   "execution_count": 65,
   "id": "fa424af1-d1eb-443d-b717-2d279ada8408",
   "metadata": {
    "execution": {
     "iopub.execute_input": "2025-07-30T13:41:46.114554Z",
     "iopub.status.busy": "2025-07-30T13:41:46.114086Z",
     "iopub.status.idle": "2025-07-30T13:41:46.119199Z",
     "shell.execute_reply": "2025-07-30T13:41:46.118148Z"
    },
    "papermill": {
     "duration": 0.03479,
     "end_time": "2025-07-30T13:41:46.120836",
     "exception": false,
     "start_time": "2025-07-30T13:41:46.086046",
     "status": "completed"
    },
    "tags": []
   },
   "outputs": [],
   "source": [
    "#delete\n",
    "#percentage = (cp_groups_df['nongerman_female'] == 1).mean() * 100\n",
    "#print(percentage)\n"
   ]
  },
  {
   "cell_type": "code",
   "execution_count": 66,
   "id": "6cbdab96-b2b2-45af-ad54-d0516db2e28d",
   "metadata": {
    "execution": {
     "iopub.execute_input": "2025-07-30T13:41:46.174718Z",
     "iopub.status.busy": "2025-07-30T13:41:46.173992Z",
     "iopub.status.idle": "2025-07-30T13:41:47.485368Z",
     "shell.execute_reply": "2025-07-30T13:41:47.484615Z"
    },
    "papermill": {
     "duration": 1.34186,
     "end_time": "2025-07-30T13:41:47.486895",
     "exception": false,
     "start_time": "2025-07-30T13:41:46.145035",
     "status": "completed"
    },
    "tags": []
   },
   "outputs": [],
   "source": [
    "# Define covered = 1 if true_label is in the predicted set\n",
    "cp_groups_df['covered'] = cp_groups_df.apply(\n",
    "    lambda r: int(r['true_label'] in r['pred_set']),\n",
    "    axis=1\n",
    ")"
   ]
  },
  {
   "cell_type": "code",
   "execution_count": 67,
   "id": "338ff529-1a6b-4b87-a931-8e4788d52aad",
   "metadata": {
    "execution": {
     "iopub.execute_input": "2025-07-30T13:41:47.515617Z",
     "iopub.status.busy": "2025-07-30T13:41:47.515133Z",
     "iopub.status.idle": "2025-07-30T13:41:47.519569Z",
     "shell.execute_reply": "2025-07-30T13:41:47.518818Z"
    },
    "papermill": {
     "duration": 0.019859,
     "end_time": "2025-07-30T13:41:47.520838",
     "exception": false,
     "start_time": "2025-07-30T13:41:47.500979",
     "status": "completed"
    },
    "tags": []
   },
   "outputs": [],
   "source": [
    "#cp_groups_df"
   ]
  },
  {
   "cell_type": "code",
   "execution_count": 68,
   "id": "90032e27-66df-4540-9169-4e89cfbaa758",
   "metadata": {
    "execution": {
     "iopub.execute_input": "2025-07-30T13:41:47.600343Z",
     "iopub.status.busy": "2025-07-30T13:41:47.599887Z",
     "iopub.status.idle": "2025-07-30T13:41:47.615173Z",
     "shell.execute_reply": "2025-07-30T13:41:47.613828Z"
    },
    "papermill": {
     "duration": 0.056944,
     "end_time": "2025-07-30T13:41:47.617687",
     "exception": false,
     "start_time": "2025-07-30T13:41:47.560743",
     "status": "completed"
    },
    "tags": []
   },
   "outputs": [],
   "source": [
    "subgroups = ['frau1','nongerman','nongerman_male','nongerman_female']\n",
    "\n",
    "# Conditional coverage for subgroup==1\n",
    "cond_coverage = {\n",
    "    g: cp_groups_df.loc[cp_groups_df[g]==1, 'covered'].mean()\n",
    "    for g in subgroups\n",
    "}"
   ]
  },
  {
   "cell_type": "code",
   "execution_count": 69,
   "id": "1e348fb1-b9c3-45bc-ba23-f016827a7e0d",
   "metadata": {
    "execution": {
     "iopub.execute_input": "2025-07-30T13:41:47.649411Z",
     "iopub.status.busy": "2025-07-30T13:41:47.649009Z",
     "iopub.status.idle": "2025-07-30T13:41:47.656301Z",
     "shell.execute_reply": "2025-07-30T13:41:47.655332Z"
    },
    "papermill": {
     "duration": 0.023804,
     "end_time": "2025-07-30T13:41:47.657953",
     "exception": false,
     "start_time": "2025-07-30T13:41:47.634149",
     "status": "completed"
    },
    "tags": []
   },
   "outputs": [
    {
     "data": {
      "text/plain": [
       "{'frau1': 0.9098800377409354,\n",
       " 'nongerman': 0.9104586537921743,\n",
       " 'nongerman_male': 0.927136809871206,\n",
       " 'nongerman_female': 0.8828614008941877}"
      ]
     },
     "execution_count": 69,
     "metadata": {},
     "output_type": "execute_result"
    }
   ],
   "source": [
    "cond_coverage"
   ]
  },
  {
   "cell_type": "code",
   "execution_count": 70,
   "id": "f5093324-c3dd-4d63-bc4c-8d945e5c8bbb",
   "metadata": {
    "execution": {
     "iopub.execute_input": "2025-07-30T13:41:47.717967Z",
     "iopub.status.busy": "2025-07-30T13:41:47.716994Z",
     "iopub.status.idle": "2025-07-30T13:41:47.724909Z",
     "shell.execute_reply": "2025-07-30T13:41:47.723995Z"
    },
    "papermill": {
     "duration": 0.039384,
     "end_time": "2025-07-30T13:41:47.726571",
     "exception": false,
     "start_time": "2025-07-30T13:41:47.687187",
     "status": "completed"
    },
    "tags": []
   },
   "outputs": [],
   "source": [
    "for subgroup, cov in cond_coverage.items():\n",
    "    cp_metrics_df[f\"cov_{subgroup}\"] = cov"
   ]
  },
  {
   "cell_type": "code",
   "execution_count": 71,
   "id": "6e872e10-dbe5-49e8-b554-5030c98ff75d",
   "metadata": {
    "execution": {
     "iopub.execute_input": "2025-07-30T13:41:47.785616Z",
     "iopub.status.busy": "2025-07-30T13:41:47.785174Z",
     "iopub.status.idle": "2025-07-30T13:41:47.804216Z",
     "shell.execute_reply": "2025-07-30T13:41:47.803234Z"
    },
    "papermill": {
     "duration": 0.050501,
     "end_time": "2025-07-30T13:41:47.805909",
     "exception": false,
     "start_time": "2025-07-30T13:41:47.755408",
     "status": "completed"
    },
    "tags": []
   },
   "outputs": [
    {
     "data": {
      "text/html": [
       "<div>\n",
       "<style scoped>\n",
       "    .dataframe tbody tr th:only-of-type {\n",
       "        vertical-align: middle;\n",
       "    }\n",
       "\n",
       "    .dataframe tbody tr th {\n",
       "        vertical-align: top;\n",
       "    }\n",
       "\n",
       "    .dataframe thead th {\n",
       "        text-align: right;\n",
       "    }\n",
       "</style>\n",
       "<table border=\"1\" class=\"dataframe\">\n",
       "  <thead>\n",
       "    <tr style=\"text-align: right;\">\n",
       "      <th></th>\n",
       "      <th>universe_id</th>\n",
       "      <th>universe_training_size</th>\n",
       "      <th>universe_scale</th>\n",
       "      <th>universe_model</th>\n",
       "      <th>universe_exclude_features</th>\n",
       "      <th>universe_exclude_subgroups</th>\n",
       "      <th>q_hat</th>\n",
       "      <th>coverage</th>\n",
       "      <th>avg_size</th>\n",
       "      <th>cov_frau1</th>\n",
       "      <th>cov_nongerman</th>\n",
       "      <th>cov_nongerman_male</th>\n",
       "      <th>cov_nongerman_female</th>\n",
       "    </tr>\n",
       "  </thead>\n",
       "  <tbody>\n",
       "    <tr>\n",
       "      <th>0</th>\n",
       "      <td>8ab153fe98cc9d1c5699c963003b5f2c</td>\n",
       "      <td>5k</td>\n",
       "      <td>scale</td>\n",
       "      <td>penalized_logreg</td>\n",
       "      <td>sex</td>\n",
       "      <td>keep-all</td>\n",
       "      <td>0.685625</td>\n",
       "      <td>0.910579</td>\n",
       "      <td>1.135057</td>\n",
       "      <td>0.90988</td>\n",
       "      <td>0.910459</td>\n",
       "      <td>0.927137</td>\n",
       "      <td>0.882861</td>\n",
       "    </tr>\n",
       "  </tbody>\n",
       "</table>\n",
       "</div>"
      ],
      "text/plain": [
       "                        universe_id universe_training_size universe_scale  \\\n",
       "0  8ab153fe98cc9d1c5699c963003b5f2c                     5k          scale   \n",
       "\n",
       "     universe_model universe_exclude_features universe_exclude_subgroups  \\\n",
       "0  penalized_logreg                       sex                   keep-all   \n",
       "\n",
       "      q_hat  coverage  avg_size  cov_frau1  cov_nongerman  cov_nongerman_male  \\\n",
       "0  0.685625  0.910579  1.135057    0.90988       0.910459            0.927137   \n",
       "\n",
       "   cov_nongerman_female  \n",
       "0              0.882861  "
      ]
     },
     "execution_count": 71,
     "metadata": {},
     "output_type": "execute_result"
    }
   ],
   "source": [
    "cp_metrics_df"
   ]
  },
  {
   "cell_type": "markdown",
   "id": "33774451",
   "metadata": {
    "papermill": {
     "duration": 0.029125,
     "end_time": "2025-07-30T13:41:47.863800",
     "exception": false,
     "start_time": "2025-07-30T13:41:47.834675",
     "status": "completed"
    },
    "tags": []
   },
   "source": [
    "# (Fairness) Metrics"
   ]
  },
  {
   "cell_type": "code",
   "execution_count": 72,
   "id": "debc5d62",
   "metadata": {
    "execution": {
     "iopub.execute_input": "2025-07-30T13:41:47.922196Z",
     "iopub.status.busy": "2025-07-30T13:41:47.921387Z",
     "iopub.status.idle": "2025-07-30T13:41:47.944811Z",
     "shell.execute_reply": "2025-07-30T13:41:47.943800Z"
    },
    "papermill": {
     "duration": 0.055482,
     "end_time": "2025-07-30T13:41:47.946753",
     "exception": false,
     "start_time": "2025-07-30T13:41:47.891271",
     "status": "completed"
    },
    "tags": []
   },
   "outputs": [],
   "source": [
    "# do I need to include maxdeutsch1.missing?\n",
    "\n",
    "import numpy as np\n",
    "\n",
    "colname_to_bin = \"maxdeutsch1\"\n",
    "majority_value = org_train[colname_to_bin].mode()[0]\n",
    "\n",
    "org_test[\"majmin\"] = np.where(org_test[colname_to_bin] == majority_value, \"majority\", \"minority\")"
   ]
  },
  {
   "cell_type": "code",
   "execution_count": 73,
   "id": "06a50de5",
   "metadata": {
    "execution": {
     "iopub.execute_input": "2025-07-30T13:41:48.010304Z",
     "iopub.status.busy": "2025-07-30T13:41:48.009821Z",
     "iopub.status.idle": "2025-07-30T13:41:50.133494Z",
     "shell.execute_reply": "2025-07-30T13:41:50.132584Z"
    },
    "papermill": {
     "duration": 2.155107,
     "end_time": "2025-07-30T13:41:50.135048",
     "exception": false,
     "start_time": "2025-07-30T13:41:47.979941",
     "status": "completed"
    },
    "tags": []
   },
   "outputs": [],
   "source": [
    "example_universe = universe.copy()\n",
    "example_universe[\"cutoff\"] = example_universe[\"cutoff\"][0]\n",
    "example_universe[\"eval_fairness_grouping\"] = example_universe[\"eval_fairness_grouping\"][0]\n",
    "fairness_dict, metric_frame = universe_analysis.compute_metrics(\n",
    "    example_universe,\n",
    "    y_pred_prob=probs_test,\n",
    "    y_test=y_true,\n",
    "    org_test=org_test,\n",
    ")"
   ]
  },
  {
   "cell_type": "markdown",
   "id": "f95d4e02",
   "metadata": {
    "papermill": {
     "duration": 0.014879,
     "end_time": "2025-07-30T13:41:50.178351",
     "exception": false,
     "start_time": "2025-07-30T13:41:50.163472",
     "status": "completed"
    },
    "tags": []
   },
   "source": [
    "# Overall"
   ]
  },
  {
   "cell_type": "markdown",
   "id": "bdee4871",
   "metadata": {
    "papermill": {
     "duration": 0.014615,
     "end_time": "2025-07-30T13:41:50.207739",
     "exception": false,
     "start_time": "2025-07-30T13:41:50.193124",
     "status": "completed"
    },
    "tags": []
   },
   "source": [
    "Fairness\n",
    "Main fairness target: Equalized Odds. Seems to be a better fit than equal opportunity, since we're not only interested in Y = 1. Seems to be a better fit than demographic parity, since we also care about accuracy, not just equal distribution of preds.\n",
    "\n",
    "Pick column for computation of fairness metrics\n",
    "\n",
    "Performance\n",
    "Overall performance measures, most interesting in relation to the measures split by group below"
   ]
  },
  {
   "cell_type": "code",
   "execution_count": 74,
   "id": "c4e067c6",
   "metadata": {
    "execution": {
     "iopub.execute_input": "2025-07-30T13:41:50.238739Z",
     "iopub.status.busy": "2025-07-30T13:41:50.238393Z",
     "iopub.status.idle": "2025-07-30T13:41:50.245613Z",
     "shell.execute_reply": "2025-07-30T13:41:50.244825Z"
    },
    "papermill": {
     "duration": 0.024253,
     "end_time": "2025-07-30T13:41:50.246961",
     "exception": false,
     "start_time": "2025-07-30T13:41:50.222708",
     "status": "completed"
    },
    "tags": []
   },
   "outputs": [
    {
     "data": {
      "text/plain": [
       "accuracy                   0.224133\n",
       "balanced accuracy          0.548087\n",
       "f1                         0.245471\n",
       "precision                  0.140230\n",
       "false positive rate        0.887663\n",
       "false negative rate        0.016163\n",
       "selection rate             0.900000\n",
       "count                  89710.000000\n",
       "dtype: float64"
      ]
     },
     "execution_count": 74,
     "metadata": {},
     "output_type": "execute_result"
    }
   ],
   "source": [
    "metric_frame.overall"
   ]
  },
  {
   "cell_type": "markdown",
   "id": "e968fe9d",
   "metadata": {
    "papermill": {
     "duration": 0.015076,
     "end_time": "2025-07-30T13:41:50.278335",
     "exception": false,
     "start_time": "2025-07-30T13:41:50.263259",
     "status": "completed"
    },
    "tags": []
   },
   "source": [
    "By Group"
   ]
  },
  {
   "cell_type": "code",
   "execution_count": 75,
   "id": "ec325bce",
   "metadata": {
    "execution": {
     "iopub.execute_input": "2025-07-30T13:41:50.310135Z",
     "iopub.status.busy": "2025-07-30T13:41:50.309629Z",
     "iopub.status.idle": "2025-07-30T13:41:50.322523Z",
     "shell.execute_reply": "2025-07-30T13:41:50.321700Z"
    },
    "papermill": {
     "duration": 0.030545,
     "end_time": "2025-07-30T13:41:50.324155",
     "exception": false,
     "start_time": "2025-07-30T13:41:50.293610",
     "status": "completed"
    },
    "tags": []
   },
   "outputs": [
    {
     "data": {
      "text/html": [
       "<div>\n",
       "<style scoped>\n",
       "    .dataframe tbody tr th:only-of-type {\n",
       "        vertical-align: middle;\n",
       "    }\n",
       "\n",
       "    .dataframe tbody tr th {\n",
       "        vertical-align: top;\n",
       "    }\n",
       "\n",
       "    .dataframe thead th {\n",
       "        text-align: right;\n",
       "    }\n",
       "</style>\n",
       "<table border=\"1\" class=\"dataframe\">\n",
       "  <thead>\n",
       "    <tr style=\"text-align: right;\">\n",
       "      <th></th>\n",
       "      <th>accuracy</th>\n",
       "      <th>balanced accuracy</th>\n",
       "      <th>f1</th>\n",
       "      <th>precision</th>\n",
       "      <th>false positive rate</th>\n",
       "      <th>false negative rate</th>\n",
       "      <th>selection rate</th>\n",
       "      <th>count</th>\n",
       "    </tr>\n",
       "    <tr>\n",
       "      <th>majmin</th>\n",
       "      <th></th>\n",
       "      <th></th>\n",
       "      <th></th>\n",
       "      <th></th>\n",
       "      <th></th>\n",
       "      <th></th>\n",
       "      <th></th>\n",
       "      <th></th>\n",
       "    </tr>\n",
       "  </thead>\n",
       "  <tbody>\n",
       "    <tr>\n",
       "      <th>majority</th>\n",
       "      <td>0.242027</td>\n",
       "      <td>0.556354</td>\n",
       "      <td>0.255365</td>\n",
       "      <td>0.146730</td>\n",
       "      <td>0.870881</td>\n",
       "      <td>0.016411</td>\n",
       "      <td>0.885774</td>\n",
       "      <td>69170.0</td>\n",
       "    </tr>\n",
       "    <tr>\n",
       "      <th>minority</th>\n",
       "      <td>0.163875</td>\n",
       "      <td>0.520849</td>\n",
       "      <td>0.213573</td>\n",
       "      <td>0.119774</td>\n",
       "      <td>0.943099</td>\n",
       "      <td>0.015203</td>\n",
       "      <td>0.947907</td>\n",
       "      <td>20540.0</td>\n",
       "    </tr>\n",
       "  </tbody>\n",
       "</table>\n",
       "</div>"
      ],
      "text/plain": [
       "          accuracy  balanced accuracy        f1  precision  \\\n",
       "majmin                                                       \n",
       "majority  0.242027           0.556354  0.255365   0.146730   \n",
       "minority  0.163875           0.520849  0.213573   0.119774   \n",
       "\n",
       "          false positive rate  false negative rate  selection rate    count  \n",
       "majmin                                                                       \n",
       "majority             0.870881             0.016411        0.885774  69170.0  \n",
       "minority             0.943099             0.015203        0.947907  20540.0  "
      ]
     },
     "execution_count": 75,
     "metadata": {},
     "output_type": "execute_result"
    }
   ],
   "source": [
    "metric_frame.by_group"
   ]
  },
  {
   "cell_type": "code",
   "execution_count": 76,
   "id": "a9ddbe63",
   "metadata": {
    "execution": {
     "iopub.execute_input": "2025-07-30T13:41:50.356971Z",
     "iopub.status.busy": "2025-07-30T13:41:50.356470Z",
     "iopub.status.idle": "2025-07-30T13:41:51.984427Z",
     "shell.execute_reply": "2025-07-30T13:41:51.983652Z"
    },
    "papermill": {
     "duration": 1.645161,
     "end_time": "2025-07-30T13:41:51.985712",
     "exception": false,
     "start_time": "2025-07-30T13:41:50.340551",
     "status": "completed"
    },
    "tags": []
   },
   "outputs": [
    {
     "data": {
      "text/plain": [
       "array([[<Axes: title={'center': 'accuracy'}, xlabel='majmin'>,\n",
       "        <Axes: title={'center': 'balanced accuracy'}, xlabel='majmin'>,\n",
       "        <Axes: title={'center': 'f1'}, xlabel='majmin'>],\n",
       "       [<Axes: title={'center': 'precision'}, xlabel='majmin'>,\n",
       "        <Axes: title={'center': 'false positive rate'}, xlabel='majmin'>,\n",
       "        <Axes: title={'center': 'false negative rate'}, xlabel='majmin'>],\n",
       "       [<Axes: title={'center': 'selection rate'}, xlabel='majmin'>,\n",
       "        <Axes: title={'center': 'count'}, xlabel='majmin'>,\n",
       "        <Axes: xlabel='majmin'>]], dtype=object)"
      ]
     },
     "execution_count": 76,
     "metadata": {},
     "output_type": "execute_result"
    },
    {
     "data": {
      "image/png": "[encoded data removed]",
      "text/plain": [
       "<Figure size 1200x800 with 9 Axes>"
      ]
     },
     "metadata": {},
     "output_type": "display_data"
    }
   ],
   "source": [
    "# In a graphic\n",
    "metric_frame.by_group.plot.bar(\n",
    "    subplots=True,\n",
    "    layout=[3, 3],\n",
    "    legend=False,\n",
    "    figsize=[12, 8],\n",
    "    title=\"Show all metrics\",\n",
    ")"
   ]
  },
  {
   "cell_type": "markdown",
   "id": "f57a0bac",
   "metadata": {
    "papermill": {
     "duration": 0.015888,
     "end_time": "2025-07-30T13:41:52.020261",
     "exception": false,
     "start_time": "2025-07-30T13:41:52.004373",
     "status": "completed"
    },
    "tags": []
   },
   "source": [
    "# Final Output"
   ]
  },
  {
   "cell_type": "code",
   "execution_count": 77,
   "id": "96d280a3",
   "metadata": {
    "execution": {
     "iopub.execute_input": "2025-07-30T13:41:52.068535Z",
     "iopub.status.busy": "2025-07-30T13:41:52.067840Z",
     "iopub.status.idle": "2025-07-30T13:41:52.076285Z",
     "shell.execute_reply": "2025-07-30T13:41:52.075260Z"
    },
    "papermill": {
     "duration": 0.041768,
     "end_time": "2025-07-30T13:41:52.077953",
     "exception": false,
     "start_time": "2025-07-30T13:41:52.036185",
     "status": "completed"
    },
    "tags": []
   },
   "outputs": [
    {
     "data": {
      "text/plain": [
       "4"
      ]
     },
     "execution_count": 77,
     "metadata": {},
     "output_type": "execute_result"
    }
   ],
   "source": [
    "sub_universes = universe_analysis.generate_sub_universes()\n",
    "len(sub_universes)"
   ]
  },
  {
   "cell_type": "code",
   "execution_count": 78,
   "id": "92adf7ba",
   "metadata": {
    "execution": {
     "iopub.execute_input": "2025-07-30T13:41:52.141512Z",
     "iopub.status.busy": "2025-07-30T13:41:52.141076Z",
     "iopub.status.idle": "2025-07-30T13:41:52.147176Z",
     "shell.execute_reply": "2025-07-30T13:41:52.146206Z"
    },
    "papermill": {
     "duration": 0.04182,
     "end_time": "2025-07-30T13:41:52.149142",
     "exception": false,
     "start_time": "2025-07-30T13:41:52.107322",
     "status": "completed"
    },
    "tags": []
   },
   "outputs": [],
   "source": [
    "def filter_sub_universe_data(sub_universe, org_test):\n",
    "    # Keep all rows — no filtering\n",
    "    keep_rows_mask = np.ones(org_test.shape[0], dtype=bool)\n",
    "\n",
    "    print(f\"[INFO] Keeping all rows: {keep_rows_mask.sum()} rows retained.\")\n",
    "    return keep_rows_mask"
   ]
  },
  {
   "cell_type": "code",
   "execution_count": 79,
   "id": "4a759155",
   "metadata": {
    "execution": {
     "iopub.execute_input": "2025-07-30T13:41:52.185428Z",
     "iopub.status.busy": "2025-07-30T13:41:52.185079Z",
     "iopub.status.idle": "2025-07-30T13:42:01.274720Z",
     "shell.execute_reply": "2025-07-30T13:42:01.273768Z"
    },
    "papermill": {
     "duration": 9.10968,
     "end_time": "2025-07-30T13:42:01.276741",
     "exception": false,
     "start_time": "2025-07-30T13:41:52.167061",
     "status": "completed"
    },
    "tags": []
   },
   "outputs": [
    {
     "name": "stdout",
     "output_type": "stream",
     "text": [
      "Stopping execution_time clock.\n",
      "[INFO] Keeping all rows: 89710 rows retained.\n"
     ]
    },
    {
     "name": "stdout",
     "output_type": "stream",
     "text": [
      "[INFO] Keeping all rows: 89710 rows retained.\n"
     ]
    },
    {
     "name": "stdout",
     "output_type": "stream",
     "text": [
      "[INFO] Keeping all rows: 89710 rows retained.\n"
     ]
    },
    {
     "name": "stdout",
     "output_type": "stream",
     "text": [
      "[INFO] Keeping all rows: 89710 rows retained.\n"
     ]
    },
    {
     "data": {
      "text/html": [
       "<div>\n",
       "<style scoped>\n",
       "    .dataframe tbody tr th:only-of-type {\n",
       "        vertical-align: middle;\n",
       "    }\n",
       "\n",
       "    .dataframe tbody tr th {\n",
       "        vertical-align: top;\n",
       "    }\n",
       "\n",
       "    .dataframe thead th {\n",
       "        text-align: right;\n",
       "    }\n",
       "</style>\n",
       "<table border=\"1\" class=\"dataframe\">\n",
       "  <thead>\n",
       "    <tr style=\"text-align: right;\">\n",
       "      <th></th>\n",
       "      <th>run_no</th>\n",
       "      <th>universe_id</th>\n",
       "      <th>universe_settings</th>\n",
       "      <th>execution_time</th>\n",
       "      <th>test_size_n</th>\n",
       "      <th>test_size_frac</th>\n",
       "      <th>fair_main_equalized_odds_difference</th>\n",
       "      <th>fair_main_equalized_odds_ratio</th>\n",
       "      <th>fair_main_demographic_parity_difference</th>\n",
       "      <th>fair_main_demographic_parity_ratio</th>\n",
       "      <th>...</th>\n",
       "      <th>perf_grp_precision_0</th>\n",
       "      <th>perf_grp_precision_1</th>\n",
       "      <th>perf_grp_false positive rate_0</th>\n",
       "      <th>perf_grp_false positive rate_1</th>\n",
       "      <th>perf_grp_false negative rate_0</th>\n",
       "      <th>perf_grp_false negative rate_1</th>\n",
       "      <th>perf_grp_selection rate_0</th>\n",
       "      <th>perf_grp_selection rate_1</th>\n",
       "      <th>perf_grp_count_0</th>\n",
       "      <th>perf_grp_count_1</th>\n",
       "    </tr>\n",
       "  </thead>\n",
       "  <tbody>\n",
       "    <tr>\n",
       "      <th>0</th>\n",
       "      <td>12</td>\n",
       "      <td>8ab153fe98cc9d1c5699c963003b5f2c</td>\n",
       "      <td>{\"cutoff\": \"quantile_0.1\", \"eval_fairness_grou...</td>\n",
       "      <td>24.142331</td>\n",
       "      <td>89710</td>\n",
       "      <td>1.0</td>\n",
       "      <td>0.072218</td>\n",
       "      <td>0.923425</td>\n",
       "      <td>0.062132</td>\n",
       "      <td>0.934453</td>\n",
       "      <td>...</td>\n",
       "      <td>NaN</td>\n",
       "      <td>NaN</td>\n",
       "      <td>NaN</td>\n",
       "      <td>NaN</td>\n",
       "      <td>NaN</td>\n",
       "      <td>NaN</td>\n",
       "      <td>NaN</td>\n",
       "      <td>NaN</td>\n",
       "      <td>NaN</td>\n",
       "      <td>NaN</td>\n",
       "    </tr>\n",
       "    <tr>\n",
       "      <th>0</th>\n",
       "      <td>12</td>\n",
       "      <td>8ab153fe98cc9d1c5699c963003b5f2c</td>\n",
       "      <td>{\"cutoff\": \"quantile_0.1\", \"eval_fairness_grou...</td>\n",
       "      <td>24.142331</td>\n",
       "      <td>89710</td>\n",
       "      <td>1.0</td>\n",
       "      <td>0.072218</td>\n",
       "      <td>0.923425</td>\n",
       "      <td>0.062132</td>\n",
       "      <td>0.934453</td>\n",
       "      <td>...</td>\n",
       "      <td>0.119774</td>\n",
       "      <td>0.146730</td>\n",
       "      <td>0.943099</td>\n",
       "      <td>0.870881</td>\n",
       "      <td>0.015203</td>\n",
       "      <td>0.016411</td>\n",
       "      <td>0.947907</td>\n",
       "      <td>0.885774</td>\n",
       "      <td>20540.0</td>\n",
       "      <td>69170.0</td>\n",
       "    </tr>\n",
       "    <tr>\n",
       "      <th>0</th>\n",
       "      <td>12</td>\n",
       "      <td>8ab153fe98cc9d1c5699c963003b5f2c</td>\n",
       "      <td>{\"cutoff\": \"quantile_0.25\", \"eval_fairness_gro...</td>\n",
       "      <td>24.142331</td>\n",
       "      <td>89710</td>\n",
       "      <td>1.0</td>\n",
       "      <td>0.148472</td>\n",
       "      <td>0.822521</td>\n",
       "      <td>0.128313</td>\n",
       "      <td>0.848853</td>\n",
       "      <td>...</td>\n",
       "      <td>NaN</td>\n",
       "      <td>NaN</td>\n",
       "      <td>NaN</td>\n",
       "      <td>NaN</td>\n",
       "      <td>NaN</td>\n",
       "      <td>NaN</td>\n",
       "      <td>NaN</td>\n",
       "      <td>NaN</td>\n",
       "      <td>NaN</td>\n",
       "      <td>NaN</td>\n",
       "    </tr>\n",
       "    <tr>\n",
       "      <th>0</th>\n",
       "      <td>12</td>\n",
       "      <td>8ab153fe98cc9d1c5699c963003b5f2c</td>\n",
       "      <td>{\"cutoff\": \"quantile_0.25\", \"eval_fairness_gro...</td>\n",
       "      <td>24.142331</td>\n",
       "      <td>89710</td>\n",
       "      <td>1.0</td>\n",
       "      <td>0.148472</td>\n",
       "      <td>0.822521</td>\n",
       "      <td>0.128313</td>\n",
       "      <td>0.848853</td>\n",
       "      <td>...</td>\n",
       "      <td>0.128176</td>\n",
       "      <td>0.171311</td>\n",
       "      <td>0.836562</td>\n",
       "      <td>0.688089</td>\n",
       "      <td>0.056166</td>\n",
       "      <td>0.065755</td>\n",
       "      <td>0.848929</td>\n",
       "      <td>0.720616</td>\n",
       "      <td>20540.0</td>\n",
       "      <td>69170.0</td>\n",
       "    </tr>\n",
       "  </tbody>\n",
       "</table>\n",
       "<p>4 rows × 50 columns</p>\n",
       "</div>"
      ],
      "text/plain": [
       "  run_no                       universe_id  \\\n",
       "0     12  8ab153fe98cc9d1c5699c963003b5f2c   \n",
       "0     12  8ab153fe98cc9d1c5699c963003b5f2c   \n",
       "0     12  8ab153fe98cc9d1c5699c963003b5f2c   \n",
       "0     12  8ab153fe98cc9d1c5699c963003b5f2c   \n",
       "\n",
       "                                   universe_settings  execution_time  \\\n",
       "0  {\"cutoff\": \"quantile_0.1\", \"eval_fairness_grou...       24.142331   \n",
       "0  {\"cutoff\": \"quantile_0.1\", \"eval_fairness_grou...       24.142331   \n",
       "0  {\"cutoff\": \"quantile_0.25\", \"eval_fairness_gro...       24.142331   \n",
       "0  {\"cutoff\": \"quantile_0.25\", \"eval_fairness_gro...       24.142331   \n",
       "\n",
       "   test_size_n  test_size_frac  fair_main_equalized_odds_difference  \\\n",
       "0        89710             1.0                             0.072218   \n",
       "0        89710             1.0                             0.072218   \n",
       "0        89710             1.0                             0.148472   \n",
       "0        89710             1.0                             0.148472   \n",
       "\n",
       "   fair_main_equalized_odds_ratio  fair_main_demographic_parity_difference  \\\n",
       "0                        0.923425                                 0.062132   \n",
       "0                        0.923425                                 0.062132   \n",
       "0                        0.822521                                 0.128313   \n",
       "0                        0.822521                                 0.128313   \n",
       "\n",
       "   fair_main_demographic_parity_ratio  ...  perf_grp_precision_0  \\\n",
       "0                            0.934453  ...                   NaN   \n",
       "0                            0.934453  ...              0.119774   \n",
       "0                            0.848853  ...                   NaN   \n",
       "0                            0.848853  ...              0.128176   \n",
       "\n",
       "   perf_grp_precision_1  perf_grp_false positive rate_0  \\\n",
       "0                   NaN                             NaN   \n",
       "0              0.146730                        0.943099   \n",
       "0                   NaN                             NaN   \n",
       "0              0.171311                        0.836562   \n",
       "\n",
       "   perf_grp_false positive rate_1  perf_grp_false negative rate_0  \\\n",
       "0                             NaN                             NaN   \n",
       "0                        0.870881                        0.015203   \n",
       "0                             NaN                             NaN   \n",
       "0                        0.688089                        0.056166   \n",
       "\n",
       "   perf_grp_false negative rate_1  perf_grp_selection rate_0  \\\n",
       "0                             NaN                        NaN   \n",
       "0                        0.016411                   0.947907   \n",
       "0                             NaN                        NaN   \n",
       "0                        0.065755                   0.848929   \n",
       "\n",
       "   perf_grp_selection rate_1  perf_grp_count_0  perf_grp_count_1  \n",
       "0                        NaN               NaN               NaN  \n",
       "0                   0.885774           20540.0           69170.0  \n",
       "0                        NaN               NaN               NaN  \n",
       "0                   0.720616           20540.0           69170.0  \n",
       "\n",
       "[4 rows x 50 columns]"
      ]
     },
     "execution_count": 79,
     "metadata": {},
     "output_type": "execute_result"
    }
   ],
   "source": [
    "final_output = universe_analysis.generate_final_output(\n",
    "    y_pred_prob=probs_test,\n",
    "    y_test=y_true,\n",
    "    org_test=org_test,\n",
    "    filter_data=filter_sub_universe_data,\n",
    "    cp_metrics_df=cp_metrics_df,\n",
    "    save=True,\n",
    ")\n",
    "final_output"
   ]
  },
  {
   "cell_type": "code",
   "execution_count": null,
   "id": "721ff514-cb11-46f8-b6fc-50392f74b5cb",
   "metadata": {
    "papermill": {
     "duration": 0.03746,
     "end_time": "2025-07-30T13:42:01.352730",
     "exception": false,
     "start_time": "2025-07-30T13:42:01.315270",
     "status": "completed"
    },
    "tags": []
   },
   "outputs": [],
   "source": []
  }
 ],
 "metadata": {
  "celltoolbar": "Tags",
  "kernelspec": {
   "display_name": "Python (CMA Fairness)",
   "language": "python",
   "name": "cma_fair_env"
  },
  "language_info": {
   "codemirror_mode": {
    "name": "ipython",
    "version": 3
   },
   "file_extension": ".py",
   "mimetype": "text/x-python",
   "name": "python",
   "nbconvert_exporter": "python",
   "pygments_lexer": "ipython3",
   "version": "3.10.12"
  },
  "papermill": {
   "default_parameters": {},
   "duration": 37.340974,
   "end_time": "2025-07-30T13:42:02.208145",
   "environment_variables": {},
   "exception": null,
   "input_path": "universe_analysis.ipynb",
   "output_path": "output/runs/12/notebooks/m_12-8ab153fe98cc9d1c5699c963003b5f2c.ipynb",
   "parameters": {
    "output_dir": "output",
    "run_no": "12",
    "seed": "2023",
    "universe": "{\"cutoff\": [\"quantile_0.1\", \"quantile_0.25\"], \"eval_fairness_grouping\": [\"majority-minority\", \"nationality-all\"], \"exclude_features\": \"sex\", \"exclude_subgroups\": \"keep-all\", \"model\": \"penalized_logreg\", \"scale\": \"scale\", \"training_size\": \"5k\", \"training_year\": \"2014\"}",
    "universe_id": "8ab153fe98cc9d1c5699c963003b5f2c"
   },
   "start_time": "2025-07-30T13:41:24.867171",
   "version": "2.6.0"
  }
 },
 "nbformat": 4,
 "nbformat_minor": 5
}