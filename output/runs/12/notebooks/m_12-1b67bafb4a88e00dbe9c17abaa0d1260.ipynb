{
 "cells": [
  {
   "cell_type": "code",
   "execution_count": 1,
   "id": "f159f837-637b-42ba-96b5-ec9a68c44524",
   "metadata": {
    "execution": {
     "iopub.execute_input": "2025-07-30T14:00:00.767869Z",
     "iopub.status.busy": "2025-07-30T14:00:00.767532Z",
     "iopub.status.idle": "2025-07-30T14:00:00.777413Z",
     "shell.execute_reply": "2025-07-30T14:00:00.776535Z"
    },
    "papermill": {
     "duration": 0.022938,
     "end_time": "2025-07-30T14:00:00.778766",
     "exception": false,
     "start_time": "2025-07-30T14:00:00.755828",
     "status": "completed"
    },
    "tags": []
   },
   "outputs": [
    {
     "name": "stdout",
     "output_type": "stream",
     "text": [
      "/dss/dsshome1/0C/ra93lal2/cma/CMA_Fairness_v2\n"
     ]
    },
    {
     "name": "stderr",
     "output_type": "stream",
     "text": [
      "/dss/dsshome1/0C/ra93lal2/.local/share/virtualenvs/CMA_Fairness_v2-3j10GkSs/lib/python3.10/site-packages/IPython/core/magics/osm.py:393: UserWarning: This is now an optional IPython functionality, using bookmarks requires you to install the `pickleshare` library.\n",
      "  bkms = self.shell.db.get('bookmarks', {})\n",
      "/dss/dsshome1/0C/ra93lal2/.local/share/virtualenvs/CMA_Fairness_v2-3j10GkSs/lib/python3.10/site-packages/IPython/core/magics/osm.py:417: UserWarning: This is now an optional IPython functionality, setting dhist requires you to install the `pickleshare` library.\n",
      "  self.shell.db['dhist'] = compress_dhist(dhist)[-100:]\n"
     ]
    }
   ],
   "source": [
    "%cd ~/cma/CMA_Fairness_v2"
   ]
  },
  {
   "cell_type": "markdown",
   "id": "de2603b9",
   "metadata": {
    "papermill": {
     "duration": 0.009981,
     "end_time": "2025-07-30T14:00:00.801272",
     "exception": false,
     "start_time": "2025-07-30T14:00:00.791291",
     "status": "completed"
    },
    "tags": []
   },
   "source": [
    "The following cell holds the definition of our parameters, these values can be overriden by rendering the with e.g. the following command:\n",
    "\n",
    "papermill -p alpha 0.2 -p ratio 0.3 universe_analysis.ipynb output/test_run.ipynb"
   ]
  },
  {
   "cell_type": "code",
   "execution_count": 2,
   "id": "a80968a0-40bb-4fa9-85ef-2d5eefb01975",
   "metadata": {
    "execution": {
     "iopub.execute_input": "2025-07-30T14:00:00.825414Z",
     "iopub.status.busy": "2025-07-30T14:00:00.824882Z",
     "iopub.status.idle": "2025-07-30T14:00:00.830194Z",
     "shell.execute_reply": "2025-07-30T14:00:00.829310Z"
    },
    "papermill": {
     "duration": 0.019094,
     "end_time": "2025-07-30T14:00:00.831554",
     "exception": false,
     "start_time": "2025-07-30T14:00:00.812460",
     "status": "completed"
    },
    "tags": []
   },
   "outputs": [
    {
     "name": "stdout",
     "output_type": "stream",
     "text": [
      "Current working directory: /dss/dsshome1/0C/ra93lal2/cma/CMA_Fairness_v2\n"
     ]
    }
   ],
   "source": [
    "import os\n",
    "print(\"Current working directory:\", os.getcwd())"
   ]
  },
  {
   "cell_type": "code",
   "execution_count": 3,
   "id": "2dce4c03",
   "metadata": {
    "execution": {
     "iopub.execute_input": "2025-07-30T14:00:00.856371Z",
     "iopub.status.busy": "2025-07-30T14:00:00.855874Z",
     "iopub.status.idle": "2025-07-30T14:00:00.860706Z",
     "shell.execute_reply": "2025-07-30T14:00:00.859910Z"
    },
    "papermill": {
     "duration": 0.019012,
     "end_time": "2025-07-30T14:00:00.862130",
     "exception": false,
     "start_time": "2025-07-30T14:00:00.843118",
     "status": "completed"
    },
    "tags": [
     "parameters"
    ]
   },
   "outputs": [],
   "source": [
    "run_no = 0\n",
    "universe_id = \"test\"\n",
    "universe = {\n",
    "    \"training_size\": \"25k\", # \"25k\", \"5k\", \"1k\"\n",
    "    \"training_year\": \"2014\", # \"2014\", \"2012_14\", \"2010_14\"\n",
    "    \"scale\": \"scale\", # \"scale\", \"do-not-scale\",\n",
    "    #\"stratify_split\": \"target\", # \"none\", \"target\", \"protected-attribute\", \"both\",\n",
    "    \"model\": \"elasticnet\", # \"logreg\", \"penalized_logreg\", \"rf\", \"gbm\", \"elasticnet\"\n",
    "    \"cutoff\": [\"quantile_0.15\", \"quantile_0.30\"],\n",
    "    \"exclude_features\": \"age\", # \"none\", \"nationality\", \"sex\", \"nationality-sex\", \"age\"\n",
    "    \"exclude_subgroups\": \"keep-all\", # \"keep-all\", \"drop-non-german\"\n",
    "    \"eval_fairness_grouping\": [\"majority-minority\", \"nationality-all\"]\n",
    "}\n",
    "\n",
    "output_dir=\"./output\"\n",
    "seed=0"
   ]
  },
  {
   "cell_type": "code",
   "execution_count": 4,
   "id": "ffe230d9",
   "metadata": {
    "execution": {
     "iopub.execute_input": "2025-07-30T14:00:00.886711Z",
     "iopub.status.busy": "2025-07-30T14:00:00.886194Z",
     "iopub.status.idle": "2025-07-30T14:00:00.890728Z",
     "shell.execute_reply": "2025-07-30T14:00:00.889816Z"
    },
    "papermill": {
     "duration": 0.017987,
     "end_time": "2025-07-30T14:00:00.892136",
     "exception": false,
     "start_time": "2025-07-30T14:00:00.874149",
     "status": "completed"
    },
    "tags": [
     "injected-parameters"
    ]
   },
   "outputs": [],
   "source": [
    "# Parameters\n",
    "universe_id = \"1b67bafb4a88e00dbe9c17abaa0d1260\"\n",
    "run_no = \"12\"\n",
    "universe = \"{\\\"cutoff\\\": [\\\"quantile_0.1\\\", \\\"quantile_0.25\\\"], \\\"eval_fairness_grouping\\\": [\\\"majority-minority\\\", \\\"nationality-all\\\"], \\\"exclude_features\\\": \\\"age\\\", \\\"exclude_subgroups\\\": \\\"keep-all\\\", \\\"model\\\": \\\"logreg\\\", \\\"scale\\\": \\\"do-not-scale\\\", \\\"training_size\\\": \\\"5k\\\", \\\"training_year\\\": \\\"2012_14\\\"}\"\n",
    "output_dir = \"output\"\n",
    "seed = \"2023\"\n"
   ]
  },
  {
   "cell_type": "code",
   "execution_count": 5,
   "id": "1650acaf",
   "metadata": {
    "execution": {
     "iopub.execute_input": "2025-07-30T14:00:00.916235Z",
     "iopub.status.busy": "2025-07-30T14:00:00.915717Z",
     "iopub.status.idle": "2025-07-30T14:00:00.920510Z",
     "shell.execute_reply": "2025-07-30T14:00:00.919688Z"
    },
    "papermill": {
     "duration": 0.018159,
     "end_time": "2025-07-30T14:00:00.921940",
     "exception": false,
     "start_time": "2025-07-30T14:00:00.903781",
     "status": "completed"
    },
    "tags": []
   },
   "outputs": [],
   "source": [
    "import json\n",
    "# Parse universe into dict if it is passed as a string\n",
    "if isinstance(universe, str):\n",
    "    universe = json.loads(universe)"
   ]
  },
  {
   "cell_type": "code",
   "execution_count": 6,
   "id": "16620c48",
   "metadata": {
    "execution": {
     "iopub.execute_input": "2025-07-30T14:00:00.947116Z",
     "iopub.status.busy": "2025-07-30T14:00:00.946583Z",
     "iopub.status.idle": "2025-07-30T14:00:00.975961Z",
     "shell.execute_reply": "2025-07-30T14:00:00.975253Z"
    },
    "papermill": {
     "duration": 0.043181,
     "end_time": "2025-07-30T14:00:00.977445",
     "exception": false,
     "start_time": "2025-07-30T14:00:00.934264",
     "status": "completed"
    },
    "tags": []
   },
   "outputs": [],
   "source": [
    "# Auto-reload the custom package\n",
    "%load_ext autoreload\n",
    "%autoreload 1\n",
    "%aimport fairness_multiverse"
   ]
  },
  {
   "cell_type": "code",
   "execution_count": 7,
   "id": "01c5c9f3",
   "metadata": {
    "execution": {
     "iopub.execute_input": "2025-07-30T14:00:01.000275Z",
     "iopub.status.busy": "2025-07-30T14:00:00.999757Z",
     "iopub.status.idle": "2025-07-30T14:00:02.961349Z",
     "shell.execute_reply": "2025-07-30T14:00:02.960401Z"
    },
    "papermill": {
     "duration": 1.975129,
     "end_time": "2025-07-30T14:00:02.963381",
     "exception": false,
     "start_time": "2025-07-30T14:00:00.988252",
     "status": "completed"
    },
    "tags": []
   },
   "outputs": [],
   "source": [
    "from fairness_multiverse.universe import UniverseAnalysis\n",
    "\n",
    "universe_analysis = UniverseAnalysis(\n",
    "    run_no = run_no,\n",
    "    universe_id = universe_id,\n",
    "    universe = universe,\n",
    "    output_dir=output_dir,\n",
    ")"
   ]
  },
  {
   "cell_type": "code",
   "execution_count": 8,
   "id": "106241f5",
   "metadata": {
    "execution": {
     "iopub.execute_input": "2025-07-30T14:00:03.004549Z",
     "iopub.status.busy": "2025-07-30T14:00:03.003841Z",
     "iopub.status.idle": "2025-07-30T14:00:03.010936Z",
     "shell.execute_reply": "2025-07-30T14:00:03.009988Z"
    },
    "papermill": {
     "duration": 0.029383,
     "end_time": "2025-07-30T14:00:03.012722",
     "exception": false,
     "start_time": "2025-07-30T14:00:02.983339",
     "status": "completed"
    },
    "tags": []
   },
   "outputs": [
    {
     "name": "stdout",
     "output_type": "stream",
     "text": [
      "Using Seed: 2023\n"
     ]
    }
   ],
   "source": [
    "import numpy as np\n",
    "parsed_seed = int(seed)\n",
    "np.random.seed(parsed_seed)\n",
    "print(f\"Using Seed: {parsed_seed}\")"
   ]
  },
  {
   "cell_type": "markdown",
   "id": "e0ebdc57",
   "metadata": {
    "papermill": {
     "duration": 0.018752,
     "end_time": "2025-07-30T14:00:03.052933",
     "exception": false,
     "start_time": "2025-07-30T14:00:03.034181",
     "status": "completed"
    },
    "tags": []
   },
   "source": [
    "# Loading Data"
   ]
  },
  {
   "cell_type": "markdown",
   "id": "681925a3",
   "metadata": {
    "papermill": {
     "duration": 0.019408,
     "end_time": "2025-07-30T14:00:03.091379",
     "exception": false,
     "start_time": "2025-07-30T14:00:03.071971",
     "status": "completed"
    },
    "tags": []
   },
   "source": [
    "Load siab_train, siab_test, siab_calib and/or \n",
    "load siab_train_features, siab_train_labels"
   ]
  },
  {
   "cell_type": "code",
   "execution_count": 9,
   "id": "f0496b8a",
   "metadata": {
    "execution": {
     "iopub.execute_input": "2025-07-30T14:00:03.131850Z",
     "iopub.status.busy": "2025-07-30T14:00:03.130944Z",
     "iopub.status.idle": "2025-07-30T14:00:15.017455Z",
     "shell.execute_reply": "2025-07-30T14:00:15.016383Z"
    },
    "papermill": {
     "duration": 11.908575,
     "end_time": "2025-07-30T14:00:15.019054",
     "exception": false,
     "start_time": "2025-07-30T14:00:03.110479",
     "status": "completed"
    },
    "tags": []
   },
   "outputs": [
    {
     "name": "stdout",
     "output_type": "stream",
     "text": [
      "Loading SIAB data from cache: data/siab_cached.csv.gz\n"
     ]
    },
    {
     "name": "stdout",
     "output_type": "stream",
     "text": [
      "(643690, 164)\n"
     ]
    }
   ],
   "source": [
    "from pathlib import Path\n",
    "import pandas as pd\n",
    "\n",
    "# File paths\n",
    "raw_file = Path(\"data/raw/siab.csv\")\n",
    "cache_file = Path(\"data/siab_cached.csv.gz\")\n",
    "\n",
    "# Ensure cache directory exists\n",
    "cache_file.parent.mkdir(parents=True, exist_ok=True)\n",
    "\n",
    "# Load with simple caching\n",
    "if cache_file.exists():\n",
    "    print(f\"Loading SIAB data from cache: {cache_file}\")\n",
    "    siab = pd.read_csv(cache_file, compression='gzip')\n",
    "else:\n",
    "    print(f\"Cache not found. Reading raw SIAB data: {raw_file}\")\n",
    "    siab = pd.read_csv(raw_file)\n",
    "    siab.to_csv(cache_file, index=False, compression='gzip')\n",
    "    print(f\"Cached SIAB data to: {cache_file}\")\n",
    "\n",
    "# Now use `siab` DataFrame as needed\n",
    "print(siab.shape)"
   ]
  },
  {
   "cell_type": "code",
   "execution_count": 10,
   "id": "db0ca512-5f53-4dba-abdb-a2888bca41ba",
   "metadata": {
    "execution": {
     "iopub.execute_input": "2025-07-30T14:00:15.064025Z",
     "iopub.status.busy": "2025-07-30T14:00:15.063314Z",
     "iopub.status.idle": "2025-07-30T14:00:15.069212Z",
     "shell.execute_reply": "2025-07-30T14:00:15.068085Z"
    },
    "papermill": {
     "duration": 0.029771,
     "end_time": "2025-07-30T14:00:15.071093",
     "exception": false,
     "start_time": "2025-07-30T14:00:15.041322",
     "status": "completed"
    },
    "tags": []
   },
   "outputs": [],
   "source": [
    "#siab"
   ]
  },
  {
   "cell_type": "code",
   "execution_count": 11,
   "id": "a0edb063",
   "metadata": {
    "execution": {
     "iopub.execute_input": "2025-07-30T14:00:15.113031Z",
     "iopub.status.busy": "2025-07-30T14:00:15.112376Z",
     "iopub.status.idle": "2025-07-30T14:00:15.118149Z",
     "shell.execute_reply": "2025-07-30T14:00:15.117270Z"
    },
    "papermill": {
     "duration": 0.028175,
     "end_time": "2025-07-30T14:00:15.119735",
     "exception": false,
     "start_time": "2025-07-30T14:00:15.091560",
     "status": "completed"
    },
    "tags": []
   },
   "outputs": [],
   "source": [
    "#import pandas as pd\n",
    "#\n",
    "#X_train = pd.read_csv(\"./data/X_train.csv\")\n",
    "#y_train = pd.read_csv(\"./data/y_train.csv\")"
   ]
  },
  {
   "cell_type": "code",
   "execution_count": 12,
   "id": "63d08085",
   "metadata": {
    "execution": {
     "iopub.execute_input": "2025-07-30T14:00:15.162239Z",
     "iopub.status.busy": "2025-07-30T14:00:15.161603Z",
     "iopub.status.idle": "2025-07-30T14:00:15.166264Z",
     "shell.execute_reply": "2025-07-30T14:00:15.165410Z"
    },
    "papermill": {
     "duration": 0.027261,
     "end_time": "2025-07-30T14:00:15.167997",
     "exception": false,
     "start_time": "2025-07-30T14:00:15.140736",
     "status": "completed"
    },
    "tags": []
   },
   "outputs": [],
   "source": [
    "#X_test = pd.read_csv(\"./data/X_test.csv\")\n",
    "#y_true = pd.read_csv(\"./data/y_test.csv\")"
   ]
  },
  {
   "cell_type": "code",
   "execution_count": 13,
   "id": "98a8d0fa-1d3d-4ed8-bb2c-281470e24add",
   "metadata": {
    "execution": {
     "iopub.execute_input": "2025-07-30T14:00:15.211178Z",
     "iopub.status.busy": "2025-07-30T14:00:15.210606Z",
     "iopub.status.idle": "2025-07-30T14:00:15.215528Z",
     "shell.execute_reply": "2025-07-30T14:00:15.214589Z"
    },
    "papermill": {
     "duration": 0.027741,
     "end_time": "2025-07-30T14:00:15.217059",
     "exception": false,
     "start_time": "2025-07-30T14:00:15.189318",
     "status": "completed"
    },
    "tags": []
   },
   "outputs": [],
   "source": [
    "# Calibration data for conformal\n",
    "#X_calib = pd.read_csv(\"./data/X_calib.csv\")\n",
    "#y_calib = pd.read_csv(\"./data/y_calib.csv\")"
   ]
  },
  {
   "cell_type": "markdown",
   "id": "997051c5-15bd-4b69-9786-c3001a3ce484",
   "metadata": {
    "papermill": {
     "duration": 0.020363,
     "end_time": "2025-07-30T14:00:15.257794",
     "exception": false,
     "start_time": "2025-07-30T14:00:15.237431",
     "status": "completed"
    },
    "tags": []
   },
   "source": [
    "# Splitting Data and Setting Training Data Size"
   ]
  },
  {
   "cell_type": "code",
   "execution_count": 14,
   "id": "e993b61f-042d-41a6-8c81-f55681f86335",
   "metadata": {
    "execution": {
     "iopub.execute_input": "2025-07-30T14:00:15.300419Z",
     "iopub.status.busy": "2025-07-30T14:00:15.299725Z",
     "iopub.status.idle": "2025-07-30T14:00:15.313257Z",
     "shell.execute_reply": "2025-07-30T14:00:15.312290Z"
    },
    "papermill": {
     "duration": 0.036656,
     "end_time": "2025-07-30T14:00:15.315093",
     "exception": false,
     "start_time": "2025-07-30T14:00:15.278437",
     "status": "completed"
    },
    "tags": []
   },
   "outputs": [],
   "source": [
    "def sample_by_year_size(df,\n",
    "                        training_year: str,\n",
    "                        training_size: str,\n",
    "                        random_state: int = 42):\n",
    "    # --- parse training_year into a list of int years ---\n",
    "    if \"_\" in training_year:\n",
    "        start_str, end_str = training_year.split(\"_\", 1)\n",
    "        start = int(start_str)\n",
    "        end   = int(end_str) if len(end_str) == 4 else (int(end_str) + (start // 100)*100)\n",
    "        years = list(range(start, end + 1))\n",
    "    else:\n",
    "        years = [int(training_year)]\n",
    "\n",
    "    df = df[df[\"year\"].isin(years)].reset_index(drop=True)\n",
    "\n",
    "    # --- map training_size to total number of samples ---\n",
    "    total_map = {\"25k\": 25_000, \"5k\": 5_000, \"1k\": 1_000}\n",
    "    if training_size not in total_map:\n",
    "        return df  # e.g. \"all\"\n",
    "\n",
    "    total_samples = total_map[training_size]\n",
    "    n_years       = len(years)\n",
    "    base          = total_samples // n_years\n",
    "    remainder     = total_samples % n_years\n",
    "\n",
    "    # --- build a dict: year -> how many to sample ---\n",
    "    # give +1 to the first `remainder` years in ascending order\n",
    "    quotas = {\n",
    "        year: base + (1 if idx < remainder else 0)\n",
    "        for idx, year in enumerate(sorted(years))\n",
    "    }\n",
    "\n",
    "    # --- sample per‐year according to the quota dict ---\n",
    "    sampled = (\n",
    "        df\n",
    "        .groupby(\"year\", group_keys=False)\n",
    "        .apply(lambda grp: grp.sample(\n",
    "            n=min(len(grp), quotas[grp.name]),\n",
    "            random_state=random_state))\n",
    "        .reset_index(drop=True)\n",
    "    )\n",
    "\n",
    "    return sampled"
   ]
  },
  {
   "cell_type": "code",
   "execution_count": 15,
   "id": "c0ccd338-0e02-41f3-a09d-f56f9266e3fb",
   "metadata": {
    "execution": {
     "iopub.execute_input": "2025-07-30T14:00:15.358355Z",
     "iopub.status.busy": "2025-07-30T14:00:15.357827Z",
     "iopub.status.idle": "2025-07-30T14:00:15.369434Z",
     "shell.execute_reply": "2025-07-30T14:00:15.368395Z"
    },
    "papermill": {
     "duration": 0.034421,
     "end_time": "2025-07-30T14:00:15.371170",
     "exception": false,
     "start_time": "2025-07-30T14:00:15.336749",
     "status": "completed"
    },
    "tags": []
   },
   "outputs": [
    {
     "data": {
      "text/plain": [
       "'5k'"
      ]
     },
     "execution_count": 15,
     "metadata": {},
     "output_type": "execute_result"
    }
   ],
   "source": [
    "universe[\"training_size\"]"
   ]
  },
  {
   "cell_type": "code",
   "execution_count": 16,
   "id": "ca707fd7-8047-4acd-bfa5-66248fbbf8e6",
   "metadata": {
    "execution": {
     "iopub.execute_input": "2025-07-30T14:00:15.413340Z",
     "iopub.status.busy": "2025-07-30T14:00:15.412871Z",
     "iopub.status.idle": "2025-07-30T14:00:15.419598Z",
     "shell.execute_reply": "2025-07-30T14:00:15.418720Z"
    },
    "papermill": {
     "duration": 0.029954,
     "end_time": "2025-07-30T14:00:15.421214",
     "exception": false,
     "start_time": "2025-07-30T14:00:15.391260",
     "status": "completed"
    },
    "tags": []
   },
   "outputs": [
    {
     "data": {
      "text/plain": [
       "'2012_14'"
      ]
     },
     "execution_count": 16,
     "metadata": {},
     "output_type": "execute_result"
    }
   ],
   "source": [
    "universe[\"training_year\"]"
   ]
  },
  {
   "cell_type": "code",
   "execution_count": 17,
   "id": "aea9c6ef-6f46-42c8-85eb-5a62025c1508",
   "metadata": {
    "execution": {
     "iopub.execute_input": "2025-07-30T14:00:15.463870Z",
     "iopub.status.busy": "2025-07-30T14:00:15.463059Z",
     "iopub.status.idle": "2025-07-30T14:00:16.032771Z",
     "shell.execute_reply": "2025-07-30T14:00:16.031848Z"
    },
    "papermill": {
     "duration": 0.593081,
     "end_time": "2025-07-30T14:00:16.034613",
     "exception": false,
     "start_time": "2025-07-30T14:00:15.441532",
     "status": "completed"
    },
    "tags": []
   },
   "outputs": [],
   "source": [
    "siab_train = sample_by_year_size(siab,\n",
    "                               training_year=universe[\"training_year\"],\n",
    "                               training_size=universe[\"training_size\"])"
   ]
  },
  {
   "cell_type": "code",
   "execution_count": 18,
   "id": "8d3afb32-789d-442c-8d5d-9f5aa8dd2eed",
   "metadata": {
    "execution": {
     "iopub.execute_input": "2025-07-30T14:00:16.080108Z",
     "iopub.status.busy": "2025-07-30T14:00:16.079161Z",
     "iopub.status.idle": "2025-07-30T14:00:16.086256Z",
     "shell.execute_reply": "2025-07-30T14:00:16.085219Z"
    },
    "papermill": {
     "duration": 0.031523,
     "end_time": "2025-07-30T14:00:16.088171",
     "exception": false,
     "start_time": "2025-07-30T14:00:16.056648",
     "status": "completed"
    },
    "tags": []
   },
   "outputs": [
    {
     "data": {
      "text/plain": [
       "(5000, 164)"
      ]
     },
     "execution_count": 18,
     "metadata": {},
     "output_type": "execute_result"
    }
   ],
   "source": [
    "siab_train.shape"
   ]
  },
  {
   "cell_type": "code",
   "execution_count": 19,
   "id": "d582db68-1a4c-47fb-84fc-08518dc1975a",
   "metadata": {
    "execution": {
     "iopub.execute_input": "2025-07-30T14:00:16.131720Z",
     "iopub.status.busy": "2025-07-30T14:00:16.131058Z",
     "iopub.status.idle": "2025-07-30T14:00:16.140872Z",
     "shell.execute_reply": "2025-07-30T14:00:16.139950Z"
    },
    "papermill": {
     "duration": 0.032391,
     "end_time": "2025-07-30T14:00:16.142378",
     "exception": false,
     "start_time": "2025-07-30T14:00:16.109987",
     "status": "completed"
    },
    "tags": []
   },
   "outputs": [
    {
     "data": {
      "text/plain": [
       "year\n",
       "2012    1667\n",
       "2013    1667\n",
       "2014    1666\n",
       "dtype: int64"
      ]
     },
     "metadata": {},
     "output_type": "display_data"
    }
   ],
   "source": [
    "display(siab_train.groupby(\"year\").size())"
   ]
  },
  {
   "cell_type": "code",
   "execution_count": 20,
   "id": "a561edb4-d032-42cb-8256-22eac1111c64",
   "metadata": {
    "execution": {
     "iopub.execute_input": "2025-07-30T14:00:16.185951Z",
     "iopub.status.busy": "2025-07-30T14:00:16.185288Z",
     "iopub.status.idle": "2025-07-30T14:00:16.401402Z",
     "shell.execute_reply": "2025-07-30T14:00:16.400502Z"
    },
    "papermill": {
     "duration": 0.239557,
     "end_time": "2025-07-30T14:00:16.403220",
     "exception": false,
     "start_time": "2025-07-30T14:00:16.163663",
     "status": "completed"
    },
    "tags": []
   },
   "outputs": [],
   "source": [
    "#siab_train = siab_s[siab_s.year < 2015]\n",
    "siab_calib = siab[siab.year == 2015]\n",
    "siab_test = siab[siab.year == 2016]"
   ]
  },
  {
   "cell_type": "code",
   "execution_count": 21,
   "id": "472de16f-c3db-4916-846b-1f0de9cf1746",
   "metadata": {
    "execution": {
     "iopub.execute_input": "2025-07-30T14:00:16.447202Z",
     "iopub.status.busy": "2025-07-30T14:00:16.446303Z",
     "iopub.status.idle": "2025-07-30T14:00:16.454794Z",
     "shell.execute_reply": "2025-07-30T14:00:16.453812Z"
    },
    "papermill": {
     "duration": 0.032663,
     "end_time": "2025-07-30T14:00:16.456623",
     "exception": false,
     "start_time": "2025-07-30T14:00:16.423960",
     "status": "completed"
    },
    "tags": []
   },
   "outputs": [],
   "source": [
    "X_train = siab_train.iloc[:,4:164]\n",
    "y_train = siab_train.iloc[:, [3]]"
   ]
  },
  {
   "cell_type": "code",
   "execution_count": 22,
   "id": "828c96af-f43a-4ed6-ba47-8ac73a47d56c",
   "metadata": {
    "execution": {
     "iopub.execute_input": "2025-07-30T14:00:16.503511Z",
     "iopub.status.busy": "2025-07-30T14:00:16.502867Z",
     "iopub.status.idle": "2025-07-30T14:00:16.587203Z",
     "shell.execute_reply": "2025-07-30T14:00:16.586082Z"
    },
    "papermill": {
     "duration": 0.109332,
     "end_time": "2025-07-30T14:00:16.589147",
     "exception": false,
     "start_time": "2025-07-30T14:00:16.479815",
     "status": "completed"
    },
    "tags": []
   },
   "outputs": [],
   "source": [
    "X_calib = siab_calib.iloc[:,4:164]\n",
    "y_calib = siab_calib.iloc[:, [3]]"
   ]
  },
  {
   "cell_type": "code",
   "execution_count": 23,
   "id": "c34be9c3-6bd6-476e-acd3-845840e303be",
   "metadata": {
    "execution": {
     "iopub.execute_input": "2025-07-30T14:00:16.636159Z",
     "iopub.status.busy": "2025-07-30T14:00:16.635236Z",
     "iopub.status.idle": "2025-07-30T14:00:16.688122Z",
     "shell.execute_reply": "2025-07-30T14:00:16.686831Z"
    },
    "papermill": {
     "duration": 0.078543,
     "end_time": "2025-07-30T14:00:16.690074",
     "exception": false,
     "start_time": "2025-07-30T14:00:16.611531",
     "status": "completed"
    },
    "tags": []
   },
   "outputs": [],
   "source": [
    "X_test = siab_test.iloc[:,4:164]\n",
    "y_true = siab_test.iloc[:, [3]]"
   ]
  },
  {
   "cell_type": "markdown",
   "id": "9901737e-04df-44f0-9100-f5ad144ed040",
   "metadata": {
    "papermill": {
     "duration": 0.020465,
     "end_time": "2025-07-30T14:00:16.732867",
     "exception": false,
     "start_time": "2025-07-30T14:00:16.712402",
     "status": "completed"
    },
    "tags": []
   },
   "source": [
    "# Splitting Data and Setting Training Data Size OLD VERSION"
   ]
  },
  {
   "cell_type": "code",
   "execution_count": 24,
   "id": "acbc8f7d-8fc8-4e86-8c59-5dcb0f58384b",
   "metadata": {
    "execution": {
     "iopub.execute_input": "2025-07-30T14:00:16.776165Z",
     "iopub.status.busy": "2025-07-30T14:00:16.775399Z",
     "iopub.status.idle": "2025-07-30T14:00:16.781286Z",
     "shell.execute_reply": "2025-07-30T14:00:16.780300Z"
    },
    "papermill": {
     "duration": 0.029171,
     "end_time": "2025-07-30T14:00:16.783058",
     "exception": false,
     "start_time": "2025-07-30T14:00:16.753887",
     "status": "completed"
    },
    "tags": []
   },
   "outputs": [],
   "source": [
    "#def sample_by_year(df, training_size, random_state=42):\n",
    "#    if training_size == \"2014\":\n",
    "#        return df[df[\"year\"] == 2014].reset_index(drop=True)\n",
    "#    \n",
    "#    size_map = {\n",
    "#        \"25k\": 5000,\n",
    "#        \"5k\": 1000,\n",
    "#        \"1k\": 200\n",
    "#    }\n",
    "#\n",
    "#    if training_size not in size_map:\n",
    "#        return df.reset_index(drop=True)  # use all data\n",
    "#\n",
    "#    n_per_year = size_map[training_size]\n",
    "#    grouped = df.groupby(\"year\")\n",
    "#    sampled = grouped.apply(lambda x: x.sample(n=min(n_per_year, len(x)), random_state=random_state))\n",
    "#    return sampled.reset_index(drop=True)"
   ]
  },
  {
   "cell_type": "code",
   "execution_count": 25,
   "id": "6d931f52-beaf-43ff-9e78-9d44a448d54e",
   "metadata": {
    "execution": {
     "iopub.execute_input": "2025-07-30T14:00:16.826536Z",
     "iopub.status.busy": "2025-07-30T14:00:16.825833Z",
     "iopub.status.idle": "2025-07-30T14:00:16.831030Z",
     "shell.execute_reply": "2025-07-30T14:00:16.830087Z"
    },
    "papermill": {
     "duration": 0.028416,
     "end_time": "2025-07-30T14:00:16.832736",
     "exception": false,
     "start_time": "2025-07-30T14:00:16.804320",
     "status": "completed"
    },
    "tags": []
   },
   "outputs": [],
   "source": [
    "#siab_s = sample_by_year(siab, universe[\"training_size\"])"
   ]
  },
  {
   "cell_type": "code",
   "execution_count": 26,
   "id": "5db0a40e-a4e2-4920-be85-b12ae061d70d",
   "metadata": {
    "execution": {
     "iopub.execute_input": "2025-07-30T14:00:16.877666Z",
     "iopub.status.busy": "2025-07-30T14:00:16.877168Z",
     "iopub.status.idle": "2025-07-30T14:00:16.882111Z",
     "shell.execute_reply": "2025-07-30T14:00:16.881290Z"
    },
    "papermill": {
     "duration": 0.029341,
     "end_time": "2025-07-30T14:00:16.883840",
     "exception": false,
     "start_time": "2025-07-30T14:00:16.854499",
     "status": "completed"
    },
    "tags": []
   },
   "outputs": [],
   "source": [
    "#display(siab_s.groupby(\"year\").size())"
   ]
  },
  {
   "cell_type": "code",
   "execution_count": 27,
   "id": "e6c733c5",
   "metadata": {
    "execution": {
     "iopub.execute_input": "2025-07-30T14:00:16.931892Z",
     "iopub.status.busy": "2025-07-30T14:00:16.931362Z",
     "iopub.status.idle": "2025-07-30T14:00:17.028492Z",
     "shell.execute_reply": "2025-07-30T14:00:17.027572Z"
    },
    "papermill": {
     "duration": 0.124513,
     "end_time": "2025-07-30T14:00:17.030273",
     "exception": false,
     "start_time": "2025-07-30T14:00:16.905760",
     "status": "completed"
    },
    "tags": []
   },
   "outputs": [],
   "source": [
    "# Auxiliary data needed downstream in the pipeline\n",
    "\n",
    "org_train = X_train.copy()\n",
    "org_test = X_test.copy()\n",
    "org_calib = X_calib.copy()"
   ]
  },
  {
   "cell_type": "code",
   "execution_count": 28,
   "id": "1466abac-c6da-4492-a62f-4240ae3783af",
   "metadata": {
    "execution": {
     "iopub.execute_input": "2025-07-30T14:00:17.077353Z",
     "iopub.status.busy": "2025-07-30T14:00:17.076447Z",
     "iopub.status.idle": "2025-07-30T14:00:17.082796Z",
     "shell.execute_reply": "2025-07-30T14:00:17.081840Z"
    },
    "papermill": {
     "duration": 0.030386,
     "end_time": "2025-07-30T14:00:17.084627",
     "exception": false,
     "start_time": "2025-07-30T14:00:17.054241",
     "status": "completed"
    },
    "tags": []
   },
   "outputs": [],
   "source": [
    "# put in other script?\n",
    "# Group sizes\n",
    "\n",
    "#def calculate_percentages(df, df_name):\n",
    "#    total_entries = len(df)\n",
    "#\n",
    "#    female_pct = (df['frau1'] == 1).mean() * 100\n",
    "#    non_german_pct = ((df['maxdeutsch1'] == 0) & (df['maxdeutsch.Missing.'] == 0)).mean() * 100\n",
    "#    non_german_male_pct = ((df['frau1'] == 0) & (df['maxdeutsch1'] == 0) & (df['maxdeutsch.Missing.'] == 0)).mean() * 100\n",
    "#    non_german_female_pct = ((df['frau1'] == 1) & (df['maxdeutsch1'] == 0) & (df['maxdeutsch.Missing.'] == 0)).mean() * 100\n",
    "#\n",
    "#    print(f\"--- {df_name} ---\")\n",
    "#    print(f\"Female: {female_pct:.2f}%\")\n",
    "#    print(f\"Non-German: {non_german_pct:.2f}%\")\n",
    "#    print(f\"Non-German Male: {non_german_male_pct:.2f}%\")\n",
    "#    print(f\"Non-German Female: {non_german_female_pct:.2f}%\\n\")\n",
    "#\n",
    "## Calculate for each DataFrame\n",
    "#calculate_percentages(siab_calib, \"siab_calib\")\n",
    "#calculate_percentages(siab_test, \"siab_test\")\n",
    "#calculate_percentages(siab_train, \"siab_train\")"
   ]
  },
  {
   "cell_type": "markdown",
   "id": "0a4a1b33",
   "metadata": {
    "papermill": {
     "duration": 0.019932,
     "end_time": "2025-07-30T14:00:17.126219",
     "exception": false,
     "start_time": "2025-07-30T14:00:17.106287",
     "status": "completed"
    },
    "tags": []
   },
   "source": [
    "# Preprocessing Data"
   ]
  },
  {
   "cell_type": "code",
   "execution_count": 29,
   "id": "ca879031",
   "metadata": {
    "execution": {
     "iopub.execute_input": "2025-07-30T14:00:17.168426Z",
     "iopub.status.busy": "2025-07-30T14:00:17.167860Z",
     "iopub.status.idle": "2025-07-30T14:00:17.173759Z",
     "shell.execute_reply": "2025-07-30T14:00:17.172808Z"
    },
    "papermill": {
     "duration": 0.028607,
     "end_time": "2025-07-30T14:00:17.175376",
     "exception": false,
     "start_time": "2025-07-30T14:00:17.146769",
     "status": "completed"
    },
    "tags": []
   },
   "outputs": [],
   "source": [
    "# EXCLUDE PROTECTED FEATURES\n",
    "# ----------------------\n",
    "# \"exclude_features\": \"none\", # \"nationality\", \"sex\", \"nationality-sex\"\n",
    "\n",
    "excluded_features = universe[\"exclude_features\"].split(\"-\") # split, e.g.: \"nationality-sex\" -> [\"nationality\", \"sex\"]\n",
    "excluded_features_dictionary = {\n",
    "    \"nationality\": [\"maxdeutsch1\", \"maxdeutsch.Missing.\"],\n",
    "    \"sex\": [\"frau1\"],\n",
    "    \"age\": [\"age\"],\n",
    "}\n"
   ]
  },
  {
   "cell_type": "code",
   "execution_count": 30,
   "id": "b745ac60",
   "metadata": {
    "execution": {
     "iopub.execute_input": "2025-07-30T14:00:17.221058Z",
     "iopub.status.busy": "2025-07-30T14:00:17.220205Z",
     "iopub.status.idle": "2025-07-30T14:00:17.226322Z",
     "shell.execute_reply": "2025-07-30T14:00:17.225386Z"
    },
    "papermill": {
     "duration": 0.02948,
     "end_time": "2025-07-30T14:00:17.228000",
     "exception": false,
     "start_time": "2025-07-30T14:00:17.198520",
     "status": "completed"
    },
    "tags": []
   },
   "outputs": [],
   "source": [
    "# Code nice names to column names\n",
    "\n",
    "excluded_features_columns = [\n",
    "    excluded_features_dictionary[f] for f in excluded_features if len(f) > 0 and f != \"none\"\n",
    "]"
   ]
  },
  {
   "cell_type": "code",
   "execution_count": 31,
   "id": "f84f73a2",
   "metadata": {
    "execution": {
     "iopub.execute_input": "2025-07-30T14:00:17.275383Z",
     "iopub.status.busy": "2025-07-30T14:00:17.274917Z",
     "iopub.status.idle": "2025-07-30T14:00:17.281977Z",
     "shell.execute_reply": "2025-07-30T14:00:17.281112Z"
    },
    "papermill": {
     "duration": 0.031709,
     "end_time": "2025-07-30T14:00:17.283642",
     "exception": false,
     "start_time": "2025-07-30T14:00:17.251933",
     "status": "completed"
    },
    "tags": []
   },
   "outputs": [],
   "source": [
    "from utils import flatten_once\n",
    "\n",
    "excluded_features_columns = flatten_once(excluded_features_columns)"
   ]
  },
  {
   "cell_type": "code",
   "execution_count": 32,
   "id": "884dea22",
   "metadata": {
    "execution": {
     "iopub.execute_input": "2025-07-30T14:00:17.330973Z",
     "iopub.status.busy": "2025-07-30T14:00:17.330328Z",
     "iopub.status.idle": "2025-07-30T14:00:17.339740Z",
     "shell.execute_reply": "2025-07-30T14:00:17.338839Z"
    },
    "papermill": {
     "duration": 0.034154,
     "end_time": "2025-07-30T14:00:17.341403",
     "exception": false,
     "start_time": "2025-07-30T14:00:17.307249",
     "status": "completed"
    },
    "tags": []
   },
   "outputs": [
    {
     "name": "stdout",
     "output_type": "stream",
     "text": [
      "Dropping features: ['age']\n"
     ]
    }
   ],
   "source": [
    "if len(excluded_features_columns) > 0:\n",
    "    print(f\"Dropping features: {excluded_features_columns}\")\n",
    "    X_train.drop(excluded_features_columns, axis=1, inplace=True)"
   ]
  },
  {
   "cell_type": "code",
   "execution_count": 33,
   "id": "95ab8b16",
   "metadata": {
    "execution": {
     "iopub.execute_input": "2025-07-30T14:00:17.389582Z",
     "iopub.status.busy": "2025-07-30T14:00:17.388938Z",
     "iopub.status.idle": "2025-07-30T14:00:17.439680Z",
     "shell.execute_reply": "2025-07-30T14:00:17.438407Z"
    },
    "papermill": {
     "duration": 0.076511,
     "end_time": "2025-07-30T14:00:17.441827",
     "exception": false,
     "start_time": "2025-07-30T14:00:17.365316",
     "status": "completed"
    },
    "tags": []
   },
   "outputs": [
    {
     "name": "stdout",
     "output_type": "stream",
     "text": [
      "Dropping features: ['age']\n"
     ]
    }
   ],
   "source": [
    "if len(excluded_features_columns) > 0:\n",
    "    print(f\"Dropping features: {excluded_features_columns}\")\n",
    "    X_test.drop(excluded_features_columns, axis=1, inplace=True)"
   ]
  },
  {
   "cell_type": "code",
   "execution_count": 34,
   "id": "1853aaf5-fb9f-46cb-a2b5-8ea4ae2237e4",
   "metadata": {
    "execution": {
     "iopub.execute_input": "2025-07-30T14:00:17.490139Z",
     "iopub.status.busy": "2025-07-30T14:00:17.489459Z",
     "iopub.status.idle": "2025-07-30T14:00:17.544628Z",
     "shell.execute_reply": "2025-07-30T14:00:17.543473Z"
    },
    "papermill": {
     "duration": 0.081503,
     "end_time": "2025-07-30T14:00:17.546648",
     "exception": false,
     "start_time": "2025-07-30T14:00:17.465145",
     "status": "completed"
    },
    "tags": []
   },
   "outputs": [
    {
     "name": "stdout",
     "output_type": "stream",
     "text": [
      "Dropping features: ['age']\n"
     ]
    }
   ],
   "source": [
    "if len(excluded_features_columns) > 0:\n",
    "    print(f\"Dropping features: {excluded_features_columns}\")\n",
    "    X_calib.drop(excluded_features_columns, axis=1, inplace=True)"
   ]
  },
  {
   "cell_type": "code",
   "execution_count": 35,
   "id": "6727d079-03e5-481e-9d38-292a90b7a0a8",
   "metadata": {
    "execution": {
     "iopub.execute_input": "2025-07-30T14:00:17.595399Z",
     "iopub.status.busy": "2025-07-30T14:00:17.594835Z",
     "iopub.status.idle": "2025-07-30T14:00:17.599975Z",
     "shell.execute_reply": "2025-07-30T14:00:17.598902Z"
    },
    "papermill": {
     "duration": 0.029309,
     "end_time": "2025-07-30T14:00:17.601417",
     "exception": false,
     "start_time": "2025-07-30T14:00:17.572108",
     "status": "completed"
    },
    "tags": []
   },
   "outputs": [],
   "source": [
    "# SPLIT & STRATIFY DATA\n",
    "# ----------------------"
   ]
  },
  {
   "cell_type": "code",
   "execution_count": 36,
   "id": "76c4dc6d",
   "metadata": {
    "execution": {
     "iopub.execute_input": "2025-07-30T14:00:17.647154Z",
     "iopub.status.busy": "2025-07-30T14:00:17.646519Z",
     "iopub.status.idle": "2025-07-30T14:00:17.652002Z",
     "shell.execute_reply": "2025-07-30T14:00:17.651190Z"
    },
    "papermill": {
     "duration": 0.029762,
     "end_time": "2025-07-30T14:00:17.653644",
     "exception": false,
     "start_time": "2025-07-30T14:00:17.623882",
     "status": "completed"
    },
    "tags": []
   },
   "outputs": [],
   "source": [
    "# EXCLUDE CERTAIN SUBGROUPS\n",
    "# ----------------------\n",
    "\n",
    "mode = universe.get(\"exclude_subgroups\", \"keep-all\") \n",
    "# Fetches the exclude_subgroups setting from the universe dict.\n",
    "# Defaults to \"keep-all\" if the key is missing."
   ]
  },
  {
   "cell_type": "code",
   "execution_count": 37,
   "id": "21994072",
   "metadata": {
    "execution": {
     "iopub.execute_input": "2025-07-30T14:00:17.700413Z",
     "iopub.status.busy": "2025-07-30T14:00:17.699469Z",
     "iopub.status.idle": "2025-07-30T14:00:17.706277Z",
     "shell.execute_reply": "2025-07-30T14:00:17.705390Z"
    },
    "papermill": {
     "duration": 0.030653,
     "end_time": "2025-07-30T14:00:17.707719",
     "exception": false,
     "start_time": "2025-07-30T14:00:17.677066",
     "status": "completed"
    },
    "tags": []
   },
   "outputs": [],
   "source": [
    "if mode == \"keep-all\":\n",
    "    keep_mask = pd.Series(True, index=org_train.index)\n",
    "\n",
    "# org_train contains the original feature columns from features_org (in Simson)\n",
    "# features_org contains unprocessed features, for me X_train at beginning ???\n",
    "# For keep-all, creates a boolean Series (keep_mask) of all True, so no rows are removed.\n",
    "\n",
    "elif mode == \"drop-non-german\":\n",
    "    keep_mask = org_train[\"maxdeutsch1\"] == 1 # ??? what about missing values?\n",
    "\n",
    "else:\n",
    "    raise ValueError(f\"Unsupported mode for exclude_subgroups: {mode}\")\n"
   ]
  },
  {
   "cell_type": "code",
   "execution_count": 38,
   "id": "71651440",
   "metadata": {
    "execution": {
     "iopub.execute_input": "2025-07-30T14:00:17.753481Z",
     "iopub.status.busy": "2025-07-30T14:00:17.752659Z",
     "iopub.status.idle": "2025-07-30T14:00:17.759709Z",
     "shell.execute_reply": "2025-07-30T14:00:17.758794Z"
    },
    "papermill": {
     "duration": 0.03158,
     "end_time": "2025-07-30T14:00:17.761415",
     "exception": false,
     "start_time": "2025-07-30T14:00:17.729835",
     "status": "completed"
    },
    "tags": []
   },
   "outputs": [],
   "source": [
    "n_drop = (~keep_mask).sum() # Calculates how many rows are set to be dropped\n",
    "if n_drop > 0:\n",
    "    pct = n_drop / len(keep_mask) * 100\n",
    "    print(f\"Dropping {n_drop} rows ({pct:.2f}%) where mode='{mode}'\")"
   ]
  },
  {
   "cell_type": "code",
   "execution_count": 39,
   "id": "5fb8eee5",
   "metadata": {
    "execution": {
     "iopub.execute_input": "2025-07-30T14:00:17.807925Z",
     "iopub.status.busy": "2025-07-30T14:00:17.807200Z",
     "iopub.status.idle": "2025-07-30T14:00:17.815418Z",
     "shell.execute_reply": "2025-07-30T14:00:17.814517Z"
    },
    "papermill": {
     "duration": 0.033372,
     "end_time": "2025-07-30T14:00:17.817261",
     "exception": false,
     "start_time": "2025-07-30T14:00:17.783889",
     "status": "completed"
    },
    "tags": []
   },
   "outputs": [],
   "source": [
    "X_train = X_train[keep_mask]"
   ]
  },
  {
   "cell_type": "code",
   "execution_count": 40,
   "id": "b202bb3a",
   "metadata": {
    "execution": {
     "iopub.execute_input": "2025-07-30T14:00:17.863551Z",
     "iopub.status.busy": "2025-07-30T14:00:17.862649Z",
     "iopub.status.idle": "2025-07-30T14:00:17.868866Z",
     "shell.execute_reply": "2025-07-30T14:00:17.867906Z"
    },
    "papermill": {
     "duration": 0.030585,
     "end_time": "2025-07-30T14:00:17.870592",
     "exception": false,
     "start_time": "2025-07-30T14:00:17.840007",
     "status": "completed"
    },
    "tags": []
   },
   "outputs": [],
   "source": [
    "y_train = y_train[keep_mask]"
   ]
  },
  {
   "cell_type": "markdown",
   "id": "493e2ac3",
   "metadata": {
    "papermill": {
     "duration": 0.022037,
     "end_time": "2025-07-30T14:00:17.915475",
     "exception": false,
     "start_time": "2025-07-30T14:00:17.893438",
     "status": "completed"
    },
    "tags": []
   },
   "source": [
    "# Model Training"
   ]
  },
  {
   "cell_type": "code",
   "execution_count": 41,
   "id": "679e1268",
   "metadata": {
    "execution": {
     "iopub.execute_input": "2025-07-30T14:00:17.960665Z",
     "iopub.status.busy": "2025-07-30T14:00:17.959975Z",
     "iopub.status.idle": "2025-07-30T14:00:18.061470Z",
     "shell.execute_reply": "2025-07-30T14:00:18.060555Z"
    },
    "papermill": {
     "duration": 0.12572,
     "end_time": "2025-07-30T14:00:18.063353",
     "exception": false,
     "start_time": "2025-07-30T14:00:17.937633",
     "status": "completed"
    },
    "tags": []
   },
   "outputs": [],
   "source": [
    "from sklearn.linear_model import LogisticRegression\n",
    "from sklearn.ensemble import GradientBoostingClassifier, RandomForestClassifier\n",
    "\n",
    "if (universe[\"model\"] == \"logreg\"):\n",
    "    model = LogisticRegression() #penalty=\"none\") #, solver=\"newton-cg\", max_iter=1) # include random_state=19 ?\n",
    "elif (universe[\"model\"] == \"penalized_logreg\"):\n",
    "    model = LogisticRegression(penalty=\"l2\", C=1.0) #, solver=\"newton-cg\", max_iter=1)\n",
    "elif (universe[\"model\"] == \"rf\"):\n",
    "    model = RandomForestClassifier(n_estimators=100, n_jobs=-1)\n",
    "elif (universe[\"model\"] == \"gbm\"):\n",
    "    model = GradientBoostingClassifier()\n",
    "elif (universe[\"model\"] == \"elasticnet\"):\n",
    "    model = LogisticRegression(penalty = 'elasticnet', solver = 'saga', l1_ratio = 0.5, max_iter=5000) # which solver to use?\n",
    "else:\n",
    "    raise \"Unsupported universe.model\""
   ]
  },
  {
   "cell_type": "code",
   "execution_count": 42,
   "id": "0cc8f744",
   "metadata": {
    "execution": {
     "iopub.execute_input": "2025-07-30T14:00:18.109975Z",
     "iopub.status.busy": "2025-07-30T14:00:18.109084Z",
     "iopub.status.idle": "2025-07-30T14:00:18.115883Z",
     "shell.execute_reply": "2025-07-30T14:00:18.114913Z"
    },
    "papermill": {
     "duration": 0.031864,
     "end_time": "2025-07-30T14:00:18.117865",
     "exception": false,
     "start_time": "2025-07-30T14:00:18.086001",
     "status": "completed"
    },
    "tags": []
   },
   "outputs": [],
   "source": [
    "import numpy as np\n",
    "from sklearn.pipeline import Pipeline\n",
    "from sklearn.preprocessing import StandardScaler\n",
    "\n",
    "model = Pipeline([\n",
    "    #(\"continuous_processor\", continuous_processor),\n",
    "    #(\"categorical_preprocessor\", categorical_preprocessor),\n",
    "    (\"scale\", StandardScaler() if universe[\"scale\"] == \"scale\" else None), \n",
    "    (\"model\", model),\n",
    "])"
   ]
  },
  {
   "cell_type": "code",
   "execution_count": 43,
   "id": "9442c04d",
   "metadata": {
    "execution": {
     "iopub.execute_input": "2025-07-30T14:00:18.166682Z",
     "iopub.status.busy": "2025-07-30T14:00:18.166003Z",
     "iopub.status.idle": "2025-07-30T14:00:18.308440Z",
     "shell.execute_reply": "2025-07-30T14:00:18.307592Z"
    },
    "papermill": {
     "duration": 0.167823,
     "end_time": "2025-07-30T14:00:18.310059",
     "exception": false,
     "start_time": "2025-07-30T14:00:18.142236",
     "status": "completed"
    },
    "tags": []
   },
   "outputs": [
    {
     "name": "stderr",
     "output_type": "stream",
     "text": [
      "/dss/dsshome1/0C/ra93lal2/.local/share/virtualenvs/CMA_Fairness_v2-3j10GkSs/lib/python3.10/site-packages/sklearn/linear_model/_logistic.py:444: ConvergenceWarning: lbfgs failed to converge (status=1):\n",
      "STOP: TOTAL NO. of ITERATIONS REACHED LIMIT.\n",
      "\n",
      "Increase the number of iterations (max_iter) or scale the data as shown in:\n",
      "    https://scikit-learn.org/stable/modules/preprocessing.html\n",
      "Please also refer to the documentation for alternative solver options:\n",
      "    https://scikit-learn.org/stable/modules/linear_model.html#logistic-regression\n",
      "  n_iter_i = _check_optimize_result(\n"
     ]
    },
    {
     "data": {
      "text/html": [
       "<style>#sk-container-id-1 {color: black;background-color: white;}#sk-container-id-1 pre{padding: 0;}#sk-container-id-1 div.sk-toggleable {background-color: white;}#sk-container-id-1 label.sk-toggleable__label {cursor: pointer;display: block;width: 100%;margin-bottom: 0;padding: 0.3em;box-sizing: border-box;text-align: center;}#sk-container-id-1 label.sk-toggleable__label-arrow:before {content: \"▸\";float: left;margin-right: 0.25em;color: #696969;}#sk-container-id-1 label.sk-toggleable__label-arrow:hover:before {color: black;}#sk-container-id-1 div.sk-estimator:hover label.sk-toggleable__label-arrow:before {color: black;}#sk-container-id-1 div.sk-toggleable__content {max-height: 0;max-width: 0;overflow: hidden;text-align: left;background-color: #f0f8ff;}#sk-container-id-1 div.sk-toggleable__content pre {margin: 0.2em;color: black;border-radius: 0.25em;background-color: #f0f8ff;}#sk-container-id-1 input.sk-toggleable__control:checked~div.sk-toggleable__content {max-height: 200px;max-width: 100%;overflow: auto;}#sk-container-id-1 input.sk-toggleable__control:checked~label.sk-toggleable__label-arrow:before {content: \"▾\";}#sk-container-id-1 div.sk-estimator input.sk-toggleable__control:checked~label.sk-toggleable__label {background-color: #d4ebff;}#sk-container-id-1 div.sk-label input.sk-toggleable__control:checked~label.sk-toggleable__label {background-color: #d4ebff;}#sk-container-id-1 input.sk-hidden--visually {border: 0;clip: rect(1px 1px 1px 1px);clip: rect(1px, 1px, 1px, 1px);height: 1px;margin: -1px;overflow: hidden;padding: 0;position: absolute;width: 1px;}#sk-container-id-1 div.sk-estimator {font-family: monospace;background-color: #f0f8ff;border: 1px dotted black;border-radius: 0.25em;box-sizing: border-box;margin-bottom: 0.5em;}#sk-container-id-1 div.sk-estimator:hover {background-color: #d4ebff;}#sk-container-id-1 div.sk-parallel-item::after {content: \"\";width: 100%;border-bottom: 1px solid gray;flex-grow: 1;}#sk-container-id-1 div.sk-label:hover label.sk-toggleable__label {background-color: #d4ebff;}#sk-container-id-1 div.sk-serial::before {content: \"\";position: absolute;border-left: 1px solid gray;box-sizing: border-box;top: 0;bottom: 0;left: 50%;z-index: 0;}#sk-container-id-1 div.sk-serial {display: flex;flex-direction: column;align-items: center;background-color: white;padding-right: 0.2em;padding-left: 0.2em;position: relative;}#sk-container-id-1 div.sk-item {position: relative;z-index: 1;}#sk-container-id-1 div.sk-parallel {display: flex;align-items: stretch;justify-content: center;background-color: white;position: relative;}#sk-container-id-1 div.sk-item::before, #sk-container-id-1 div.sk-parallel-item::before {content: \"\";position: absolute;border-left: 1px solid gray;box-sizing: border-box;top: 0;bottom: 0;left: 50%;z-index: -1;}#sk-container-id-1 div.sk-parallel-item {display: flex;flex-direction: column;z-index: 1;position: relative;background-color: white;}#sk-container-id-1 div.sk-parallel-item:first-child::after {align-self: flex-end;width: 50%;}#sk-container-id-1 div.sk-parallel-item:last-child::after {align-self: flex-start;width: 50%;}#sk-container-id-1 div.sk-parallel-item:only-child::after {width: 0;}#sk-container-id-1 div.sk-dashed-wrapped {border: 1px dashed gray;margin: 0 0.4em 0.5em 0.4em;box-sizing: border-box;padding-bottom: 0.4em;background-color: white;}#sk-container-id-1 div.sk-label label {font-family: monospace;font-weight: bold;display: inline-block;line-height: 1.2em;}#sk-container-id-1 div.sk-label-container {text-align: center;}#sk-container-id-1 div.sk-container {/* jupyter's `normalize.less` sets `[hidden] { display: none; }` but bootstrap.min.css set `[hidden] { display: none !important; }` so we also need the `!important` here to be able to override the default hidden behavior on the sphinx rendered scikit-learn.org. See: https://github.com/scikit-learn/scikit-learn/issues/21755 */display: inline-block !important;position: relative;}#sk-container-id-1 div.sk-text-repr-fallback {display: none;}</style><div id=\"sk-container-id-1\" class=\"sk-top-container\"><div class=\"sk-text-repr-fallback\"><pre>Pipeline(steps=[(&#x27;scale&#x27;, None), (&#x27;model&#x27;, LogisticRegression())])</pre><b>In a Jupyter environment, please rerun this cell to show the HTML representation or trust the notebook. <br />On GitHub, the HTML representation is unable to render, please try loading this page with nbviewer.org.</b></div><div class=\"sk-container\" hidden><div class=\"sk-item sk-dashed-wrapped\"><div class=\"sk-label-container\"><div class=\"sk-label sk-toggleable\"><input class=\"sk-toggleable__control sk-hidden--visually\" id=\"sk-estimator-id-1\" type=\"checkbox\" ><label for=\"sk-estimator-id-1\" class=\"sk-toggleable__label sk-toggleable__label-arrow\">Pipeline</label><div class=\"sk-toggleable__content\"><pre>Pipeline(steps=[(&#x27;scale&#x27;, None), (&#x27;model&#x27;, LogisticRegression())])</pre></div></div></div><div class=\"sk-serial\"><div class=\"sk-item\"><div class=\"sk-estimator sk-toggleable\"><input class=\"sk-toggleable__control sk-hidden--visually\" id=\"sk-estimator-id-2\" type=\"checkbox\" ><label for=\"sk-estimator-id-2\" class=\"sk-toggleable__label sk-toggleable__label-arrow\">None</label><div class=\"sk-toggleable__content\"><pre>None</pre></div></div></div><div class=\"sk-item\"><div class=\"sk-estimator sk-toggleable\"><input class=\"sk-toggleable__control sk-hidden--visually\" id=\"sk-estimator-id-3\" type=\"checkbox\" ><label for=\"sk-estimator-id-3\" class=\"sk-toggleable__label sk-toggleable__label-arrow\">LogisticRegression</label><div class=\"sk-toggleable__content\"><pre>LogisticRegression()</pre></div></div></div></div></div></div></div>"
      ],
      "text/plain": [
       "Pipeline(steps=[('scale', None), ('model', LogisticRegression())])"
      ]
     },
     "execution_count": 43,
     "metadata": {},
     "output_type": "execute_result"
    }
   ],
   "source": [
    "model.fit(X_train, y_train.values.ravel())"
   ]
  },
  {
   "cell_type": "code",
   "execution_count": 44,
   "id": "af59f8c0",
   "metadata": {
    "execution": {
     "iopub.execute_input": "2025-07-30T14:00:18.358518Z",
     "iopub.status.busy": "2025-07-30T14:00:18.357621Z",
     "iopub.status.idle": "2025-07-30T14:00:18.363031Z",
     "shell.execute_reply": "2025-07-30T14:00:18.362102Z"
    },
    "papermill": {
     "duration": 0.030716,
     "end_time": "2025-07-30T14:00:18.364729",
     "exception": false,
     "start_time": "2025-07-30T14:00:18.334013",
     "status": "completed"
    },
    "tags": []
   },
   "outputs": [],
   "source": [
    "from fairness_multiverse.universe import predict_w_threshold"
   ]
  },
  {
   "cell_type": "code",
   "execution_count": 45,
   "id": "a7cf2e16",
   "metadata": {
    "execution": {
     "iopub.execute_input": "2025-07-30T14:00:18.414460Z",
     "iopub.status.busy": "2025-07-30T14:00:18.413359Z",
     "iopub.status.idle": "2025-07-30T14:00:18.509386Z",
     "shell.execute_reply": "2025-07-30T14:00:18.508288Z"
    },
    "papermill": {
     "duration": 0.122309,
     "end_time": "2025-07-30T14:00:18.511116",
     "exception": false,
     "start_time": "2025-07-30T14:00:18.388807",
     "status": "completed"
    },
    "tags": []
   },
   "outputs": [
    {
     "data": {
      "text/plain": [
       "0.861487013710846"
      ]
     },
     "execution_count": 45,
     "metadata": {},
     "output_type": "execute_result"
    }
   ],
   "source": [
    "probs_test = model.predict_proba(X_test)\n",
    "\n",
    "'''\n",
    "Below code returns a boolean array (or binary 0/1 array depending on how it’s used) where each element \n",
    "is True if the probability of class 1 is greater than or equal to the threshold, and False otherwise.\n",
    "'''\n",
    "y_pred_default = predict_w_threshold(probs_test, 0.5)\n",
    "\n",
    "from sklearn.metrics import accuracy_score\n",
    "\n",
    "# Naive prediction\n",
    "accuracy_score(y_true = y_true, y_pred = y_pred_default)"
   ]
  },
  {
   "cell_type": "code",
   "execution_count": 46,
   "id": "081964c3",
   "metadata": {
    "execution": {
     "iopub.execute_input": "2025-07-30T14:00:18.559291Z",
     "iopub.status.busy": "2025-07-30T14:00:18.558401Z",
     "iopub.status.idle": "2025-07-30T14:00:18.643846Z",
     "shell.execute_reply": "2025-07-30T14:00:18.642926Z"
    },
    "papermill": {
     "duration": 0.11124,
     "end_time": "2025-07-30T14:00:18.645935",
     "exception": false,
     "start_time": "2025-07-30T14:00:18.534695",
     "status": "completed"
    },
    "tags": []
   },
   "outputs": [
    {
     "data": {
      "text/plain": [
       "array([0, 0, 0, ..., 0, 0, 0])"
      ]
     },
     "execution_count": 46,
     "metadata": {},
     "output_type": "execute_result"
    }
   ],
   "source": [
    "model.predict(X_test)"
   ]
  },
  {
   "cell_type": "markdown",
   "id": "56c9705b",
   "metadata": {
    "papermill": {
     "duration": 0.023923,
     "end_time": "2025-07-30T14:00:18.694725",
     "exception": false,
     "start_time": "2025-07-30T14:00:18.670802",
     "status": "completed"
    },
    "tags": []
   },
   "source": [
    "# Conformal Prediction"
   ]
  },
  {
   "cell_type": "code",
   "execution_count": 47,
   "id": "160ec6ff",
   "metadata": {
    "execution": {
     "iopub.execute_input": "2025-07-30T14:00:18.745927Z",
     "iopub.status.busy": "2025-07-30T14:00:18.745191Z",
     "iopub.status.idle": "2025-07-30T14:00:18.750744Z",
     "shell.execute_reply": "2025-07-30T14:00:18.749674Z"
    },
    "papermill": {
     "duration": 0.032528,
     "end_time": "2025-07-30T14:00:18.752480",
     "exception": false,
     "start_time": "2025-07-30T14:00:18.719952",
     "status": "completed"
    },
    "tags": []
   },
   "outputs": [],
   "source": [
    "# Miscoverage level for conformal prediction (10% allowed error rate => 90% target coverage)\n",
    "alpha = 0.1"
   ]
  },
  {
   "cell_type": "code",
   "execution_count": 48,
   "id": "eadf4555-3dd3-440e-8e35-f82a4ad9f855",
   "metadata": {
    "execution": {
     "iopub.execute_input": "2025-07-30T14:00:18.806062Z",
     "iopub.status.busy": "2025-07-30T14:00:18.805111Z",
     "iopub.status.idle": "2025-07-30T14:00:18.889487Z",
     "shell.execute_reply": "2025-07-30T14:00:18.888522Z"
    },
    "papermill": {
     "duration": 0.112234,
     "end_time": "2025-07-30T14:00:18.891348",
     "exception": false,
     "start_time": "2025-07-30T14:00:18.779114",
     "status": "completed"
    },
    "tags": []
   },
   "outputs": [],
   "source": [
    "probs_calib = model.predict_proba(X_calib)"
   ]
  },
  {
   "cell_type": "code",
   "execution_count": 49,
   "id": "2ed93547-6d5d-4983-9b36-1ecb300da49a",
   "metadata": {
    "execution": {
     "iopub.execute_input": "2025-07-30T14:00:18.942998Z",
     "iopub.status.busy": "2025-07-30T14:00:18.942477Z",
     "iopub.status.idle": "2025-07-30T14:00:18.948742Z",
     "shell.execute_reply": "2025-07-30T14:00:18.947701Z"
    },
    "papermill": {
     "duration": 0.034654,
     "end_time": "2025-07-30T14:00:18.950663",
     "exception": false,
     "start_time": "2025-07-30T14:00:18.916009",
     "status": "completed"
    },
    "tags": []
   },
   "outputs": [],
   "source": [
    "y_calib = y_calib.values.ravel().astype(int)"
   ]
  },
  {
   "cell_type": "code",
   "execution_count": 50,
   "id": "65d1320d-f588-4b38-9072-62af1ae97f7d",
   "metadata": {
    "execution": {
     "iopub.execute_input": "2025-07-30T14:00:19.003722Z",
     "iopub.status.busy": "2025-07-30T14:00:19.003040Z",
     "iopub.status.idle": "2025-07-30T14:00:19.012102Z",
     "shell.execute_reply": "2025-07-30T14:00:19.011008Z"
    },
    "papermill": {
     "duration": 0.037563,
     "end_time": "2025-07-30T14:00:19.014189",
     "exception": false,
     "start_time": "2025-07-30T14:00:18.976626",
     "status": "completed"
    },
    "tags": []
   },
   "outputs": [],
   "source": [
    "from fairness_multiverse.conformal import compute_nc_scores\n",
    "\n",
    "# Compute nonconformity scores on calibration set (1 - probability of true class)\n",
    "nc_scores = compute_nc_scores(probs_calib, y_calib)"
   ]
  },
  {
   "cell_type": "code",
   "execution_count": 51,
   "id": "df3b8ca3-53b7-43d5-9667-7c85da7aeda2",
   "metadata": {
    "execution": {
     "iopub.execute_input": "2025-07-30T14:00:19.066721Z",
     "iopub.status.busy": "2025-07-30T14:00:19.065958Z",
     "iopub.status.idle": "2025-07-30T14:00:19.073726Z",
     "shell.execute_reply": "2025-07-30T14:00:19.072572Z"
    },
    "papermill": {
     "duration": 0.035704,
     "end_time": "2025-07-30T14:00:19.075621",
     "exception": false,
     "start_time": "2025-07-30T14:00:19.039917",
     "status": "completed"
    },
    "tags": []
   },
   "outputs": [],
   "source": [
    "from fairness_multiverse.conformal import find_threshold\n",
    "\n",
    "# Find conformal threshold q_hat for the given alpha (split conformal method)\n",
    "q_hat = find_threshold(nc_scores, alpha)"
   ]
  },
  {
   "cell_type": "code",
   "execution_count": 52,
   "id": "4d29e6c1-0ef6-4aa4-b8fe-4fe79b0d033a",
   "metadata": {
    "execution": {
     "iopub.execute_input": "2025-07-30T14:00:19.129000Z",
     "iopub.status.busy": "2025-07-30T14:00:19.128515Z",
     "iopub.status.idle": "2025-07-30T14:00:19.136264Z",
     "shell.execute_reply": "2025-07-30T14:00:19.135131Z"
    },
    "papermill": {
     "duration": 0.035558,
     "end_time": "2025-07-30T14:00:19.138153",
     "exception": false,
     "start_time": "2025-07-30T14:00:19.102595",
     "status": "completed"
    },
    "tags": []
   },
   "outputs": [
    {
     "data": {
      "text/plain": [
       "0.6654304868406127"
      ]
     },
     "execution_count": 52,
     "metadata": {},
     "output_type": "execute_result"
    }
   ],
   "source": [
    "q_hat"
   ]
  },
  {
   "cell_type": "code",
   "execution_count": 53,
   "id": "92460794-cdac-4be2-ba28-f28c0515a6fb",
   "metadata": {
    "execution": {
     "iopub.execute_input": "2025-07-30T14:00:19.191975Z",
     "iopub.status.busy": "2025-07-30T14:00:19.191033Z",
     "iopub.status.idle": "2025-07-30T14:00:19.792683Z",
     "shell.execute_reply": "2025-07-30T14:00:19.791910Z"
    },
    "papermill": {
     "duration": 0.629595,
     "end_time": "2025-07-30T14:00:19.794579",
     "exception": false,
     "start_time": "2025-07-30T14:00:19.164984",
     "status": "completed"
    },
    "tags": []
   },
   "outputs": [],
   "source": [
    "from fairness_multiverse.conformal import predict_conformal_sets\n",
    "\n",
    "# Generate prediction sets for each test example\n",
    "pred_sets = predict_conformal_sets(model, X_test, q_hat)"
   ]
  },
  {
   "cell_type": "code",
   "execution_count": 54,
   "id": "d90c9a65-e6db-4f5d-80cd-e68fb7e46829",
   "metadata": {
    "execution": {
     "iopub.execute_input": "2025-07-30T14:00:19.849461Z",
     "iopub.status.busy": "2025-07-30T14:00:19.848715Z",
     "iopub.status.idle": "2025-07-30T14:00:19.855007Z",
     "shell.execute_reply": "2025-07-30T14:00:19.853923Z"
    },
    "papermill": {
     "duration": 0.036523,
     "end_time": "2025-07-30T14:00:19.856800",
     "exception": false,
     "start_time": "2025-07-30T14:00:19.820277",
     "status": "completed"
    },
    "tags": []
   },
   "outputs": [],
   "source": [
    "y_true = y_true.squeeze()"
   ]
  },
  {
   "cell_type": "code",
   "execution_count": 55,
   "id": "3a58a54a-1e68-46b9-927a-df01f18aebc8",
   "metadata": {
    "execution": {
     "iopub.execute_input": "2025-07-30T14:00:19.909893Z",
     "iopub.status.busy": "2025-07-30T14:00:19.909015Z",
     "iopub.status.idle": "2025-07-30T14:00:20.841553Z",
     "shell.execute_reply": "2025-07-30T14:00:20.840542Z"
    },
    "papermill": {
     "duration": 0.960265,
     "end_time": "2025-07-30T14:00:20.843385",
     "exception": false,
     "start_time": "2025-07-30T14:00:19.883120",
     "status": "completed"
    },
    "tags": []
   },
   "outputs": [],
   "source": [
    "from fairness_multiverse.conformal import evaluate_sets\n",
    "\n",
    "# Evaluate coverage and average set size on test data\n",
    "metrics = evaluate_sets(pred_sets, y_true)"
   ]
  },
  {
   "cell_type": "markdown",
   "id": "2b569c12-9aaa-4c88-98c9-bbcd0cf3ebb8",
   "metadata": {
    "papermill": {
     "duration": 0.025304,
     "end_time": "2025-07-30T14:00:20.895243",
     "exception": false,
     "start_time": "2025-07-30T14:00:20.869939",
     "status": "completed"
    },
    "tags": []
   },
   "source": [
    "# CP Metrics"
   ]
  },
  {
   "cell_type": "code",
   "execution_count": 56,
   "id": "5ce0a5cb-201f-45a0-ade5-94c7f0bd6095",
   "metadata": {
    "execution": {
     "iopub.execute_input": "2025-07-30T14:00:20.959584Z",
     "iopub.status.busy": "2025-07-30T14:00:20.958819Z",
     "iopub.status.idle": "2025-07-30T14:00:20.967213Z",
     "shell.execute_reply": "2025-07-30T14:00:20.966108Z"
    },
    "papermill": {
     "duration": 0.049495,
     "end_time": "2025-07-30T14:00:20.969594",
     "exception": false,
     "start_time": "2025-07-30T14:00:20.920099",
     "status": "completed"
    },
    "tags": []
   },
   "outputs": [
    {
     "data": {
      "text/plain": [
       "{'coverage': 0.9125961431278564, 'avg_size': 1.2501839259837253}"
      ]
     },
     "execution_count": 56,
     "metadata": {},
     "output_type": "execute_result"
    }
   ],
   "source": [
    "metrics"
   ]
  },
  {
   "cell_type": "code",
   "execution_count": 57,
   "id": "9b9a838d-31c9-430b-ae14-12baee460d17",
   "metadata": {
    "execution": {
     "iopub.execute_input": "2025-07-30T14:00:21.047694Z",
     "iopub.status.busy": "2025-07-30T14:00:21.047018Z",
     "iopub.status.idle": "2025-07-30T14:00:21.054153Z",
     "shell.execute_reply": "2025-07-30T14:00:21.053290Z"
    },
    "papermill": {
     "duration": 0.047897,
     "end_time": "2025-07-30T14:00:21.055728",
     "exception": false,
     "start_time": "2025-07-30T14:00:21.007831",
     "status": "completed"
    },
    "tags": []
   },
   "outputs": [],
   "source": [
    "example_universe = universe.copy()\n",
    "universe_training_size = example_universe.get(\"training_size\")\n",
    "universe_scale = example_universe.get(\"scale\")\n",
    "universe_model = example_universe.get(\"model\")\n",
    "universe_exclude_features = example_universe.get(\"exclude_features\")\n",
    "universe_exclude_subgroups = example_universe.get(\"exclude_subgroups\")"
   ]
  },
  {
   "cell_type": "code",
   "execution_count": 58,
   "id": "f4b6a8ac-9dc0-4245-8a91-5b3b5999c4f9",
   "metadata": {
    "execution": {
     "iopub.execute_input": "2025-07-30T14:00:21.133115Z",
     "iopub.status.busy": "2025-07-30T14:00:21.132733Z",
     "iopub.status.idle": "2025-07-30T14:00:21.139513Z",
     "shell.execute_reply": "2025-07-30T14:00:21.138445Z"
    },
    "papermill": {
     "duration": 0.048521,
     "end_time": "2025-07-30T14:00:21.142365",
     "exception": false,
     "start_time": "2025-07-30T14:00:21.093844",
     "status": "completed"
    },
    "tags": []
   },
   "outputs": [],
   "source": [
    "cp_metrics_dict = {\n",
    "    \"universe_id\": [universe_id],\n",
    "    \"universe_training_size\": [universe_training_size],\n",
    "    \"universe_scale\": [universe_scale],\n",
    "    \"universe_model\": [universe_model],\n",
    "    \"universe_exclude_features\": [universe_exclude_features],\n",
    "    \"universe_exclude_subgroups\": [universe_exclude_subgroups],\n",
    "    \"q_hat\": [q_hat],\n",
    "    \"coverage\": [metrics[\"coverage\"]],\n",
    "    \"avg_size\": [metrics[\"avg_size\"]],\n",
    "}"
   ]
  },
  {
   "cell_type": "code",
   "execution_count": 59,
   "id": "908acbb1-0371-4915-85ca-3fa520d2efe2",
   "metadata": {
    "execution": {
     "iopub.execute_input": "2025-07-30T14:00:21.221260Z",
     "iopub.status.busy": "2025-07-30T14:00:21.220705Z",
     "iopub.status.idle": "2025-07-30T14:00:21.228809Z",
     "shell.execute_reply": "2025-07-30T14:00:21.227708Z"
    },
    "papermill": {
     "duration": 0.050841,
     "end_time": "2025-07-30T14:00:21.231291",
     "exception": false,
     "start_time": "2025-07-30T14:00:21.180450",
     "status": "completed"
    },
    "tags": []
   },
   "outputs": [
    {
     "data": {
      "text/plain": [
       "{'universe_id': ['1b67bafb4a88e00dbe9c17abaa0d1260'],\n",
       " 'universe_training_size': ['5k'],\n",
       " 'universe_scale': ['do-not-scale'],\n",
       " 'universe_model': ['logreg'],\n",
       " 'universe_exclude_features': ['age'],\n",
       " 'universe_exclude_subgroups': ['keep-all'],\n",
       " 'q_hat': [0.6654304868406127],\n",
       " 'coverage': [0.9125961431278564],\n",
       " 'avg_size': [1.2501839259837253]}"
      ]
     },
     "execution_count": 59,
     "metadata": {},
     "output_type": "execute_result"
    }
   ],
   "source": [
    "cp_metrics_dict"
   ]
  },
  {
   "cell_type": "code",
   "execution_count": 60,
   "id": "33007efc-14e9-4ec6-97ac-56a455c82265",
   "metadata": {
    "execution": {
     "iopub.execute_input": "2025-07-30T14:00:21.309468Z",
     "iopub.status.busy": "2025-07-30T14:00:21.308697Z",
     "iopub.status.idle": "2025-07-30T14:00:21.315900Z",
     "shell.execute_reply": "2025-07-30T14:00:21.314524Z"
    },
    "papermill": {
     "duration": 0.049439,
     "end_time": "2025-07-30T14:00:21.318322",
     "exception": false,
     "start_time": "2025-07-30T14:00:21.268883",
     "status": "completed"
    },
    "tags": []
   },
   "outputs": [],
   "source": [
    "cp_metrics_df = pd.DataFrame(cp_metrics_dict)"
   ]
  },
  {
   "cell_type": "code",
   "execution_count": 61,
   "id": "db12611b-57b2-4910-b9d0-355adfd6e7bf",
   "metadata": {
    "execution": {
     "iopub.execute_input": "2025-07-30T14:00:21.396766Z",
     "iopub.status.busy": "2025-07-30T14:00:21.395942Z",
     "iopub.status.idle": "2025-07-30T14:00:21.416250Z",
     "shell.execute_reply": "2025-07-30T14:00:21.415069Z"
    },
    "papermill": {
     "duration": 0.062613,
     "end_time": "2025-07-30T14:00:21.419157",
     "exception": false,
     "start_time": "2025-07-30T14:00:21.356544",
     "status": "completed"
    },
    "tags": []
   },
   "outputs": [
    {
     "data": {
      "text/html": [
       "<div>\n",
       "<style scoped>\n",
       "    .dataframe tbody tr th:only-of-type {\n",
       "        vertical-align: middle;\n",
       "    }\n",
       "\n",
       "    .dataframe tbody tr th {\n",
       "        vertical-align: top;\n",
       "    }\n",
       "\n",
       "    .dataframe thead th {\n",
       "        text-align: right;\n",
       "    }\n",
       "</style>\n",
       "<table border=\"1\" class=\"dataframe\">\n",
       "  <thead>\n",
       "    <tr style=\"text-align: right;\">\n",
       "      <th></th>\n",
       "      <th>universe_id</th>\n",
       "      <th>universe_training_size</th>\n",
       "      <th>universe_scale</th>\n",
       "      <th>universe_model</th>\n",
       "      <th>universe_exclude_features</th>\n",
       "      <th>universe_exclude_subgroups</th>\n",
       "      <th>q_hat</th>\n",
       "      <th>coverage</th>\n",
       "      <th>avg_size</th>\n",
       "    </tr>\n",
       "  </thead>\n",
       "  <tbody>\n",
       "    <tr>\n",
       "      <th>0</th>\n",
       "      <td>1b67bafb4a88e00dbe9c17abaa0d1260</td>\n",
       "      <td>5k</td>\n",
       "      <td>do-not-scale</td>\n",
       "      <td>logreg</td>\n",
       "      <td>age</td>\n",
       "      <td>keep-all</td>\n",
       "      <td>0.66543</td>\n",
       "      <td>0.912596</td>\n",
       "      <td>1.250184</td>\n",
       "    </tr>\n",
       "  </tbody>\n",
       "</table>\n",
       "</div>"
      ],
      "text/plain": [
       "                        universe_id universe_training_size universe_scale  \\\n",
       "0  1b67bafb4a88e00dbe9c17abaa0d1260                     5k   do-not-scale   \n",
       "\n",
       "  universe_model universe_exclude_features universe_exclude_subgroups  \\\n",
       "0         logreg                       age                   keep-all   \n",
       "\n",
       "     q_hat  coverage  avg_size  \n",
       "0  0.66543  0.912596  1.250184  "
      ]
     },
     "execution_count": 61,
     "metadata": {},
     "output_type": "execute_result"
    }
   ],
   "source": [
    "cp_metrics_df"
   ]
  },
  {
   "cell_type": "code",
   "execution_count": 62,
   "id": "b7fbde55-a0a1-47e4-9af6-fe4a17fa8c61",
   "metadata": {
    "execution": {
     "iopub.execute_input": "2025-07-30T14:00:21.498487Z",
     "iopub.status.busy": "2025-07-30T14:00:21.497692Z",
     "iopub.status.idle": "2025-07-30T14:00:21.503757Z",
     "shell.execute_reply": "2025-07-30T14:00:21.502667Z"
    },
    "papermill": {
     "duration": 0.048523,
     "end_time": "2025-07-30T14:00:21.506260",
     "exception": false,
     "start_time": "2025-07-30T14:00:21.457737",
     "status": "completed"
    },
    "tags": []
   },
   "outputs": [],
   "source": [
    "# Conditional Coverage & looking at subgroups"
   ]
  },
  {
   "cell_type": "code",
   "execution_count": 63,
   "id": "027ae886-68dd-4141-96c7-805a5450e1ef",
   "metadata": {
    "execution": {
     "iopub.execute_input": "2025-07-30T14:00:21.586235Z",
     "iopub.status.busy": "2025-07-30T14:00:21.585351Z",
     "iopub.status.idle": "2025-07-30T14:00:21.884055Z",
     "shell.execute_reply": "2025-07-30T14:00:21.883138Z"
    },
    "papermill": {
     "duration": 0.340999,
     "end_time": "2025-07-30T14:00:21.886438",
     "exception": false,
     "start_time": "2025-07-30T14:00:21.545439",
     "status": "completed"
    },
    "tags": []
   },
   "outputs": [],
   "source": [
    "from fairness_multiverse.conformal import build_cp_groups\n",
    "\n",
    "cp_groups_df = build_cp_groups(pred_sets, y_true, X_test.index, org_test)\n",
    "#needs universe_id and setting"
   ]
  },
  {
   "cell_type": "code",
   "execution_count": 64,
   "id": "01d5802c-663a-4d1f-9d69-e036faaffbf7",
   "metadata": {
    "execution": {
     "iopub.execute_input": "2025-07-30T14:00:21.942019Z",
     "iopub.status.busy": "2025-07-30T14:00:21.941582Z",
     "iopub.status.idle": "2025-07-30T14:00:21.946115Z",
     "shell.execute_reply": "2025-07-30T14:00:21.945299Z"
    },
    "papermill": {
     "duration": 0.031033,
     "end_time": "2025-07-30T14:00:21.947419",
     "exception": false,
     "start_time": "2025-07-30T14:00:21.916386",
     "status": "completed"
    },
    "tags": []
   },
   "outputs": [],
   "source": [
    "#delete\n",
    "#cp_groups_df"
   ]
  },
  {
   "cell_type": "code",
   "execution_count": 65,
   "id": "fa424af1-d1eb-443d-b717-2d279ada8408",
   "metadata": {
    "execution": {
     "iopub.execute_input": "2025-07-30T14:00:21.998745Z",
     "iopub.status.busy": "2025-07-30T14:00:21.998292Z",
     "iopub.status.idle": "2025-07-30T14:00:22.003758Z",
     "shell.execute_reply": "2025-07-30T14:00:22.002728Z"
    },
    "papermill": {
     "duration": 0.042076,
     "end_time": "2025-07-30T14:00:22.005990",
     "exception": false,
     "start_time": "2025-07-30T14:00:21.963914",
     "status": "completed"
    },
    "tags": []
   },
   "outputs": [],
   "source": [
    "#delete\n",
    "#percentage = (cp_groups_df['nongerman_female'] == 1).mean() * 100\n",
    "#print(percentage)\n"
   ]
  },
  {
   "cell_type": "code",
   "execution_count": 66,
   "id": "6cbdab96-b2b2-45af-ad54-d0516db2e28d",
   "metadata": {
    "execution": {
     "iopub.execute_input": "2025-07-30T14:00:22.077794Z",
     "iopub.status.busy": "2025-07-30T14:00:22.077062Z",
     "iopub.status.idle": "2025-07-30T14:00:23.764064Z",
     "shell.execute_reply": "2025-07-30T14:00:23.763048Z"
    },
    "papermill": {
     "duration": 1.724828,
     "end_time": "2025-07-30T14:00:23.766022",
     "exception": false,
     "start_time": "2025-07-30T14:00:22.041194",
     "status": "completed"
    },
    "tags": []
   },
   "outputs": [],
   "source": [
    "# Define covered = 1 if true_label is in the predicted set\n",
    "cp_groups_df['covered'] = cp_groups_df.apply(\n",
    "    lambda r: int(r['true_label'] in r['pred_set']),\n",
    "    axis=1\n",
    ")"
   ]
  },
  {
   "cell_type": "code",
   "execution_count": 67,
   "id": "338ff529-1a6b-4b87-a931-8e4788d52aad",
   "metadata": {
    "execution": {
     "iopub.execute_input": "2025-07-30T14:00:23.822747Z",
     "iopub.status.busy": "2025-07-30T14:00:23.821945Z",
     "iopub.status.idle": "2025-07-30T14:00:23.827916Z",
     "shell.execute_reply": "2025-07-30T14:00:23.826501Z"
    },
    "papermill": {
     "duration": 0.035357,
     "end_time": "2025-07-30T14:00:23.829515",
     "exception": false,
     "start_time": "2025-07-30T14:00:23.794158",
     "status": "completed"
    },
    "tags": []
   },
   "outputs": [],
   "source": [
    "#cp_groups_df"
   ]
  },
  {
   "cell_type": "code",
   "execution_count": 68,
   "id": "90032e27-66df-4540-9169-4e89cfbaa758",
   "metadata": {
    "execution": {
     "iopub.execute_input": "2025-07-30T14:00:23.886842Z",
     "iopub.status.busy": "2025-07-30T14:00:23.886358Z",
     "iopub.status.idle": "2025-07-30T14:00:23.898118Z",
     "shell.execute_reply": "2025-07-30T14:00:23.897040Z"
    },
    "papermill": {
     "duration": 0.042634,
     "end_time": "2025-07-30T14:00:23.899987",
     "exception": false,
     "start_time": "2025-07-30T14:00:23.857353",
     "status": "completed"
    },
    "tags": []
   },
   "outputs": [],
   "source": [
    "subgroups = ['frau1','nongerman','nongerman_male','nongerman_female']\n",
    "\n",
    "# Conditional coverage for subgroup==1\n",
    "cond_coverage = {\n",
    "    g: cp_groups_df.loc[cp_groups_df[g]==1, 'covered'].mean()\n",
    "    for g in subgroups\n",
    "}"
   ]
  },
  {
   "cell_type": "code",
   "execution_count": 69,
   "id": "1e348fb1-b9c3-45bc-ba23-f016827a7e0d",
   "metadata": {
    "execution": {
     "iopub.execute_input": "2025-07-30T14:00:23.957774Z",
     "iopub.status.busy": "2025-07-30T14:00:23.957207Z",
     "iopub.status.idle": "2025-07-30T14:00:23.965530Z",
     "shell.execute_reply": "2025-07-30T14:00:23.964193Z"
    },
    "papermill": {
     "duration": 0.039108,
     "end_time": "2025-07-30T14:00:23.967482",
     "exception": false,
     "start_time": "2025-07-30T14:00:23.928374",
     "status": "completed"
    },
    "tags": []
   },
   "outputs": [
    {
     "data": {
      "text/plain": [
       "{'frau1': 0.9093408815204206,\n",
       " 'nongerman': 0.9601414697131309,\n",
       " 'nongerman_male': 0.9673961992254345,\n",
       " 'nongerman_female': 0.9481371087928465}"
      ]
     },
     "execution_count": 69,
     "metadata": {},
     "output_type": "execute_result"
    }
   ],
   "source": [
    "cond_coverage"
   ]
  },
  {
   "cell_type": "code",
   "execution_count": 70,
   "id": "f5093324-c3dd-4d63-bc4c-8d945e5c8bbb",
   "metadata": {
    "execution": {
     "iopub.execute_input": "2025-07-30T14:00:24.027862Z",
     "iopub.status.busy": "2025-07-30T14:00:24.027319Z",
     "iopub.status.idle": "2025-07-30T14:00:24.035844Z",
     "shell.execute_reply": "2025-07-30T14:00:24.034679Z"
    },
    "papermill": {
     "duration": 0.040235,
     "end_time": "2025-07-30T14:00:24.037691",
     "exception": false,
     "start_time": "2025-07-30T14:00:23.997456",
     "status": "completed"
    },
    "tags": []
   },
   "outputs": [],
   "source": [
    "for subgroup, cov in cond_coverage.items():\n",
    "    cp_metrics_df[f\"cov_{subgroup}\"] = cov"
   ]
  },
  {
   "cell_type": "code",
   "execution_count": 71,
   "id": "6e872e10-dbe5-49e8-b554-5030c98ff75d",
   "metadata": {
    "execution": {
     "iopub.execute_input": "2025-07-30T14:00:24.102238Z",
     "iopub.status.busy": "2025-07-30T14:00:24.101704Z",
     "iopub.status.idle": "2025-07-30T14:00:24.123710Z",
     "shell.execute_reply": "2025-07-30T14:00:24.122748Z"
    },
    "papermill": {
     "duration": 0.056904,
     "end_time": "2025-07-30T14:00:24.125630",
     "exception": false,
     "start_time": "2025-07-30T14:00:24.068726",
     "status": "completed"
    },
    "tags": []
   },
   "outputs": [
    {
     "data": {
      "text/html": [
       "<div>\n",
       "<style scoped>\n",
       "    .dataframe tbody tr th:only-of-type {\n",
       "        vertical-align: middle;\n",
       "    }\n",
       "\n",
       "    .dataframe tbody tr th {\n",
       "        vertical-align: top;\n",
       "    }\n",
       "\n",
       "    .dataframe thead th {\n",
       "        text-align: right;\n",
       "    }\n",
       "</style>\n",
       "<table border=\"1\" class=\"dataframe\">\n",
       "  <thead>\n",
       "    <tr style=\"text-align: right;\">\n",
       "      <th></th>\n",
       "      <th>universe_id</th>\n",
       "      <th>universe_training_size</th>\n",
       "      <th>universe_scale</th>\n",
       "      <th>universe_model</th>\n",
       "      <th>universe_exclude_features</th>\n",
       "      <th>universe_exclude_subgroups</th>\n",
       "      <th>q_hat</th>\n",
       "      <th>coverage</th>\n",
       "      <th>avg_size</th>\n",
       "      <th>cov_frau1</th>\n",
       "      <th>cov_nongerman</th>\n",
       "      <th>cov_nongerman_male</th>\n",
       "      <th>cov_nongerman_female</th>\n",
       "    </tr>\n",
       "  </thead>\n",
       "  <tbody>\n",
       "    <tr>\n",
       "      <th>0</th>\n",
       "      <td>1b67bafb4a88e00dbe9c17abaa0d1260</td>\n",
       "      <td>5k</td>\n",
       "      <td>do-not-scale</td>\n",
       "      <td>logreg</td>\n",
       "      <td>age</td>\n",
       "      <td>keep-all</td>\n",
       "      <td>0.66543</td>\n",
       "      <td>0.912596</td>\n",
       "      <td>1.250184</td>\n",
       "      <td>0.909341</td>\n",
       "      <td>0.960141</td>\n",
       "      <td>0.967396</td>\n",
       "      <td>0.948137</td>\n",
       "    </tr>\n",
       "  </tbody>\n",
       "</table>\n",
       "</div>"
      ],
      "text/plain": [
       "                        universe_id universe_training_size universe_scale  \\\n",
       "0  1b67bafb4a88e00dbe9c17abaa0d1260                     5k   do-not-scale   \n",
       "\n",
       "  universe_model universe_exclude_features universe_exclude_subgroups  \\\n",
       "0         logreg                       age                   keep-all   \n",
       "\n",
       "     q_hat  coverage  avg_size  cov_frau1  cov_nongerman  cov_nongerman_male  \\\n",
       "0  0.66543  0.912596  1.250184   0.909341       0.960141            0.967396   \n",
       "\n",
       "   cov_nongerman_female  \n",
       "0              0.948137  "
      ]
     },
     "execution_count": 71,
     "metadata": {},
     "output_type": "execute_result"
    }
   ],
   "source": [
    "cp_metrics_df"
   ]
  },
  {
   "cell_type": "markdown",
   "id": "33774451",
   "metadata": {
    "papermill": {
     "duration": 0.030201,
     "end_time": "2025-07-30T14:00:24.186305",
     "exception": false,
     "start_time": "2025-07-30T14:00:24.156104",
     "status": "completed"
    },
    "tags": []
   },
   "source": [
    "# (Fairness) Metrics"
   ]
  },
  {
   "cell_type": "code",
   "execution_count": 72,
   "id": "debc5d62",
   "metadata": {
    "execution": {
     "iopub.execute_input": "2025-07-30T14:00:24.247632Z",
     "iopub.status.busy": "2025-07-30T14:00:24.247154Z",
     "iopub.status.idle": "2025-07-30T14:00:24.270094Z",
     "shell.execute_reply": "2025-07-30T14:00:24.268940Z"
    },
    "papermill": {
     "duration": 0.056338,
     "end_time": "2025-07-30T14:00:24.272014",
     "exception": false,
     "start_time": "2025-07-30T14:00:24.215676",
     "status": "completed"
    },
    "tags": []
   },
   "outputs": [],
   "source": [
    "# do I need to include maxdeutsch1.missing?\n",
    "\n",
    "import numpy as np\n",
    "\n",
    "colname_to_bin = \"maxdeutsch1\"\n",
    "majority_value = org_train[colname_to_bin].mode()[0]\n",
    "\n",
    "org_test[\"majmin\"] = np.where(org_test[colname_to_bin] == majority_value, \"majority\", \"minority\")"
   ]
  },
  {
   "cell_type": "code",
   "execution_count": 73,
   "id": "06a50de5",
   "metadata": {
    "execution": {
     "iopub.execute_input": "2025-07-30T14:00:24.333754Z",
     "iopub.status.busy": "2025-07-30T14:00:24.332915Z",
     "iopub.status.idle": "2025-07-30T14:00:27.212410Z",
     "shell.execute_reply": "2025-07-30T14:00:27.211052Z"
    },
    "papermill": {
     "duration": 2.912108,
     "end_time": "2025-07-30T14:00:27.214126",
     "exception": false,
     "start_time": "2025-07-30T14:00:24.302018",
     "status": "completed"
    },
    "tags": []
   },
   "outputs": [],
   "source": [
    "example_universe = universe.copy()\n",
    "example_universe[\"cutoff\"] = example_universe[\"cutoff\"][0]\n",
    "example_universe[\"eval_fairness_grouping\"] = example_universe[\"eval_fairness_grouping\"][0]\n",
    "fairness_dict, metric_frame = universe_analysis.compute_metrics(\n",
    "    example_universe,\n",
    "    y_pred_prob=probs_test,\n",
    "    y_test=y_true,\n",
    "    org_test=org_test,\n",
    ")"
   ]
  },
  {
   "cell_type": "markdown",
   "id": "f95d4e02",
   "metadata": {
    "papermill": {
     "duration": 0.029277,
     "end_time": "2025-07-30T14:00:27.271727",
     "exception": false,
     "start_time": "2025-07-30T14:00:27.242450",
     "status": "completed"
    },
    "tags": []
   },
   "source": [
    "# Overall"
   ]
  },
  {
   "cell_type": "markdown",
   "id": "bdee4871",
   "metadata": {
    "papermill": {
     "duration": 0.029763,
     "end_time": "2025-07-30T14:00:27.330218",
     "exception": false,
     "start_time": "2025-07-30T14:00:27.300455",
     "status": "completed"
    },
    "tags": []
   },
   "source": [
    "Fairness\n",
    "Main fairness target: Equalized Odds. Seems to be a better fit than equal opportunity, since we're not only interested in Y = 1. Seems to be a better fit than demographic parity, since we also care about accuracy, not just equal distribution of preds.\n",
    "\n",
    "Pick column for computation of fairness metrics\n",
    "\n",
    "Performance\n",
    "Overall performance measures, most interesting in relation to the measures split by group below"
   ]
  },
  {
   "cell_type": "code",
   "execution_count": 74,
   "id": "c4e067c6",
   "metadata": {
    "execution": {
     "iopub.execute_input": "2025-07-30T14:00:27.385997Z",
     "iopub.status.busy": "2025-07-30T14:00:27.385442Z",
     "iopub.status.idle": "2025-07-30T14:00:27.394315Z",
     "shell.execute_reply": "2025-07-30T14:00:27.393361Z"
    },
    "papermill": {
     "duration": 0.041845,
     "end_time": "2025-07-30T14:00:27.396243",
     "exception": false,
     "start_time": "2025-07-30T14:00:27.354398",
     "status": "completed"
    },
    "tags": []
   },
   "outputs": [
    {
     "data": {
      "text/plain": [
       "accuracy                   0.217623\n",
       "balanced accuracy          0.533534\n",
       "f1                         0.239141\n",
       "precision                  0.136613\n",
       "false positive rate        0.891397\n",
       "false negative rate        0.041536\n",
       "selection rate             0.900000\n",
       "count                  89710.000000\n",
       "dtype: float64"
      ]
     },
     "execution_count": 74,
     "metadata": {},
     "output_type": "execute_result"
    }
   ],
   "source": [
    "metric_frame.overall"
   ]
  },
  {
   "cell_type": "markdown",
   "id": "e968fe9d",
   "metadata": {
    "papermill": {
     "duration": 0.032644,
     "end_time": "2025-07-30T14:00:27.459992",
     "exception": false,
     "start_time": "2025-07-30T14:00:27.427348",
     "status": "completed"
    },
    "tags": []
   },
   "source": [
    "By Group"
   ]
  },
  {
   "cell_type": "code",
   "execution_count": 75,
   "id": "ec325bce",
   "metadata": {
    "execution": {
     "iopub.execute_input": "2025-07-30T14:00:27.524104Z",
     "iopub.status.busy": "2025-07-30T14:00:27.523295Z",
     "iopub.status.idle": "2025-07-30T14:00:27.545723Z",
     "shell.execute_reply": "2025-07-30T14:00:27.544382Z"
    },
    "papermill": {
     "duration": 0.056833,
     "end_time": "2025-07-30T14:00:27.547704",
     "exception": false,
     "start_time": "2025-07-30T14:00:27.490871",
     "status": "completed"
    },
    "tags": []
   },
   "outputs": [
    {
     "data": {
      "text/html": [
       "<div>\n",
       "<style scoped>\n",
       "    .dataframe tbody tr th:only-of-type {\n",
       "        vertical-align: middle;\n",
       "    }\n",
       "\n",
       "    .dataframe tbody tr th {\n",
       "        vertical-align: top;\n",
       "    }\n",
       "\n",
       "    .dataframe thead th {\n",
       "        text-align: right;\n",
       "    }\n",
       "</style>\n",
       "<table border=\"1\" class=\"dataframe\">\n",
       "  <thead>\n",
       "    <tr style=\"text-align: right;\">\n",
       "      <th></th>\n",
       "      <th>accuracy</th>\n",
       "      <th>balanced accuracy</th>\n",
       "      <th>f1</th>\n",
       "      <th>precision</th>\n",
       "      <th>false positive rate</th>\n",
       "      <th>false negative rate</th>\n",
       "      <th>selection rate</th>\n",
       "      <th>count</th>\n",
       "    </tr>\n",
       "    <tr>\n",
       "      <th>majmin</th>\n",
       "      <th></th>\n",
       "      <th></th>\n",
       "      <th></th>\n",
       "      <th></th>\n",
       "      <th></th>\n",
       "      <th></th>\n",
       "      <th></th>\n",
       "      <th></th>\n",
       "    </tr>\n",
       "  </thead>\n",
       "  <tbody>\n",
       "    <tr>\n",
       "      <th>majority</th>\n",
       "      <td>0.239887</td>\n",
       "      <td>0.541579</td>\n",
       "      <td>0.248610</td>\n",
       "      <td>0.142982</td>\n",
       "      <td>0.868482</td>\n",
       "      <td>0.048359</td>\n",
       "      <td>0.879471</td>\n",
       "      <td>69170.0</td>\n",
       "    </tr>\n",
       "    <tr>\n",
       "      <th>minority</th>\n",
       "      <td>0.142648</td>\n",
       "      <td>0.508853</td>\n",
       "      <td>0.209392</td>\n",
       "      <td>0.117151</td>\n",
       "      <td>0.967092</td>\n",
       "      <td>0.015203</td>\n",
       "      <td>0.969133</td>\n",
       "      <td>20540.0</td>\n",
       "    </tr>\n",
       "  </tbody>\n",
       "</table>\n",
       "</div>"
      ],
      "text/plain": [
       "          accuracy  balanced accuracy        f1  precision  \\\n",
       "majmin                                                       \n",
       "majority  0.239887           0.541579  0.248610   0.142982   \n",
       "minority  0.142648           0.508853  0.209392   0.117151   \n",
       "\n",
       "          false positive rate  false negative rate  selection rate    count  \n",
       "majmin                                                                       \n",
       "majority             0.868482             0.048359        0.879471  69170.0  \n",
       "minority             0.967092             0.015203        0.969133  20540.0  "
      ]
     },
     "execution_count": 75,
     "metadata": {},
     "output_type": "execute_result"
    }
   ],
   "source": [
    "metric_frame.by_group"
   ]
  },
  {
   "cell_type": "code",
   "execution_count": 76,
   "id": "a9ddbe63",
   "metadata": {
    "execution": {
     "iopub.execute_input": "2025-07-30T14:00:27.612341Z",
     "iopub.status.busy": "2025-07-30T14:00:27.611726Z",
     "iopub.status.idle": "2025-07-30T14:00:29.933396Z",
     "shell.execute_reply": "2025-07-30T14:00:29.932432Z"
    },
    "papermill": {
     "duration": 2.356079,
     "end_time": "2025-07-30T14:00:29.935142",
     "exception": false,
     "start_time": "2025-07-30T14:00:27.579063",
     "status": "completed"
    },
    "tags": []
   },
   "outputs": [
    {
     "data": {
      "text/plain": [
       "array([[<Axes: title={'center': 'accuracy'}, xlabel='majmin'>,\n",
       "        <Axes: title={'center': 'balanced accuracy'}, xlabel='majmin'>,\n",
       "        <Axes: title={'center': 'f1'}, xlabel='majmin'>],\n",
       "       [<Axes: title={'center': 'precision'}, xlabel='majmin'>,\n",
       "        <Axes: title={'center': 'false positive rate'}, xlabel='majmin'>,\n",
       "        <Axes: title={'center': 'false negative rate'}, xlabel='majmin'>],\n",
       "       [<Axes: title={'center': 'selection rate'}, xlabel='majmin'>,\n",
       "        <Axes: title={'center': 'count'}, xlabel='majmin'>,\n",
       "        <Axes: xlabel='majmin'>]], dtype=object)"
      ]
     },
     "execution_count": 76,
     "metadata": {},
     "output_type": "execute_result"
    },
    {
     "data": {
      "image/png": "[encoded data removed]",
      "text/plain": [
       "<Figure size 1200x800 with 9 Axes>"
      ]
     },
     "metadata": {},
     "output_type": "display_data"
    }
   ],
   "source": [
    "# In a graphic\n",
    "metric_frame.by_group.plot.bar(\n",
    "    subplots=True,\n",
    "    layout=[3, 3],\n",
    "    legend=False,\n",
    "    figsize=[12, 8],\n",
    "    title=\"Show all metrics\",\n",
    ")"
   ]
  },
  {
   "cell_type": "markdown",
   "id": "f57a0bac",
   "metadata": {
    "papermill": {
     "duration": 0.026004,
     "end_time": "2025-07-30T14:00:29.993853",
     "exception": false,
     "start_time": "2025-07-30T14:00:29.967849",
     "status": "completed"
    },
    "tags": []
   },
   "source": [
    "# Final Output"
   ]
  },
  {
   "cell_type": "code",
   "execution_count": 77,
   "id": "96d280a3",
   "metadata": {
    "execution": {
     "iopub.execute_input": "2025-07-30T14:00:30.055190Z",
     "iopub.status.busy": "2025-07-30T14:00:30.054082Z",
     "iopub.status.idle": "2025-07-30T14:00:30.062889Z",
     "shell.execute_reply": "2025-07-30T14:00:30.061972Z"
    },
    "papermill": {
     "duration": 0.038422,
     "end_time": "2025-07-30T14:00:30.064602",
     "exception": false,
     "start_time": "2025-07-30T14:00:30.026180",
     "status": "completed"
    },
    "tags": []
   },
   "outputs": [
    {
     "data": {
      "text/plain": [
       "4"
      ]
     },
     "execution_count": 77,
     "metadata": {},
     "output_type": "execute_result"
    }
   ],
   "source": [
    "sub_universes = universe_analysis.generate_sub_universes()\n",
    "len(sub_universes)"
   ]
  },
  {
   "cell_type": "code",
   "execution_count": 78,
   "id": "92adf7ba",
   "metadata": {
    "execution": {
     "iopub.execute_input": "2025-07-30T14:00:30.124995Z",
     "iopub.status.busy": "2025-07-30T14:00:30.124479Z",
     "iopub.status.idle": "2025-07-30T14:00:30.130961Z",
     "shell.execute_reply": "2025-07-30T14:00:30.129980Z"
    },
    "papermill": {
     "duration": 0.03941,
     "end_time": "2025-07-30T14:00:30.132682",
     "exception": false,
     "start_time": "2025-07-30T14:00:30.093272",
     "status": "completed"
    },
    "tags": []
   },
   "outputs": [],
   "source": [
    "def filter_sub_universe_data(sub_universe, org_test):\n",
    "    # Keep all rows — no filtering\n",
    "    keep_rows_mask = np.ones(org_test.shape[0], dtype=bool)\n",
    "\n",
    "    print(f\"[INFO] Keeping all rows: {keep_rows_mask.sum()} rows retained.\")\n",
    "    return keep_rows_mask"
   ]
  },
  {
   "cell_type": "code",
   "execution_count": 79,
   "id": "4a759155",
   "metadata": {
    "execution": {
     "iopub.execute_input": "2025-07-30T14:00:30.172782Z",
     "iopub.status.busy": "2025-07-30T14:00:30.172226Z",
     "iopub.status.idle": "2025-07-30T14:00:39.720963Z",
     "shell.execute_reply": "2025-07-30T14:00:39.719793Z"
    },
    "papermill": {
     "duration": 9.568086,
     "end_time": "2025-07-30T14:00:39.722429",
     "exception": false,
     "start_time": "2025-07-30T14:00:30.154343",
     "status": "completed"
    },
    "tags": []
   },
   "outputs": [
    {
     "name": "stdout",
     "output_type": "stream",
     "text": [
      "Stopping execution_time clock.\n",
      "[INFO] Keeping all rows: 89710 rows retained.\n"
     ]
    },
    {
     "name": "stdout",
     "output_type": "stream",
     "text": [
      "[INFO] Keeping all rows: 89710 rows retained.\n"
     ]
    },
    {
     "name": "stdout",
     "output_type": "stream",
     "text": [
      "[INFO] Keeping all rows: 89710 rows retained.\n"
     ]
    },
    {
     "name": "stdout",
     "output_type": "stream",
     "text": [
      "[INFO] Keeping all rows: 89710 rows retained.\n"
     ]
    },
    {
     "data": {
      "text/html": [
       "<div>\n",
       "<style scoped>\n",
       "    .dataframe tbody tr th:only-of-type {\n",
       "        vertical-align: middle;\n",
       "    }\n",
       "\n",
       "    .dataframe tbody tr th {\n",
       "        vertical-align: top;\n",
       "    }\n",
       "\n",
       "    .dataframe thead th {\n",
       "        text-align: right;\n",
       "    }\n",
       "</style>\n",
       "<table border=\"1\" class=\"dataframe\">\n",
       "  <thead>\n",
       "    <tr style=\"text-align: right;\">\n",
       "      <th></th>\n",
       "      <th>run_no</th>\n",
       "      <th>universe_id</th>\n",
       "      <th>universe_settings</th>\n",
       "      <th>execution_time</th>\n",
       "      <th>test_size_n</th>\n",
       "      <th>test_size_frac</th>\n",
       "      <th>fair_main_equalized_odds_difference</th>\n",
       "      <th>fair_main_equalized_odds_ratio</th>\n",
       "      <th>fair_main_demographic_parity_difference</th>\n",
       "      <th>fair_main_demographic_parity_ratio</th>\n",
       "      <th>...</th>\n",
       "      <th>perf_grp_precision_0</th>\n",
       "      <th>perf_grp_precision_1</th>\n",
       "      <th>perf_grp_false positive rate_0</th>\n",
       "      <th>perf_grp_false positive rate_1</th>\n",
       "      <th>perf_grp_false negative rate_0</th>\n",
       "      <th>perf_grp_false negative rate_1</th>\n",
       "      <th>perf_grp_selection rate_0</th>\n",
       "      <th>perf_grp_selection rate_1</th>\n",
       "      <th>perf_grp_count_0</th>\n",
       "      <th>perf_grp_count_1</th>\n",
       "    </tr>\n",
       "  </thead>\n",
       "  <tbody>\n",
       "    <tr>\n",
       "      <th>0</th>\n",
       "      <td>12</td>\n",
       "      <td>1b67bafb4a88e00dbe9c17abaa0d1260</td>\n",
       "      <td>{\"cutoff\": \"quantile_0.1\", \"eval_fairness_grou...</td>\n",
       "      <td>27.276633</td>\n",
       "      <td>89710</td>\n",
       "      <td>1.0</td>\n",
       "      <td>0.09861</td>\n",
       "      <td>0.898035</td>\n",
       "      <td>0.089663</td>\n",
       "      <td>0.907482</td>\n",
       "      <td>...</td>\n",
       "      <td>NaN</td>\n",
       "      <td>NaN</td>\n",
       "      <td>NaN</td>\n",
       "      <td>NaN</td>\n",
       "      <td>NaN</td>\n",
       "      <td>NaN</td>\n",
       "      <td>NaN</td>\n",
       "      <td>NaN</td>\n",
       "      <td>NaN</td>\n",
       "      <td>NaN</td>\n",
       "    </tr>\n",
       "    <tr>\n",
       "      <th>0</th>\n",
       "      <td>12</td>\n",
       "      <td>1b67bafb4a88e00dbe9c17abaa0d1260</td>\n",
       "      <td>{\"cutoff\": \"quantile_0.1\", \"eval_fairness_grou...</td>\n",
       "      <td>27.276633</td>\n",
       "      <td>89710</td>\n",
       "      <td>1.0</td>\n",
       "      <td>0.09861</td>\n",
       "      <td>0.898035</td>\n",
       "      <td>0.089663</td>\n",
       "      <td>0.907482</td>\n",
       "      <td>...</td>\n",
       "      <td>0.117151</td>\n",
       "      <td>0.142982</td>\n",
       "      <td>0.967092</td>\n",
       "      <td>0.868482</td>\n",
       "      <td>0.015203</td>\n",
       "      <td>0.048359</td>\n",
       "      <td>0.969133</td>\n",
       "      <td>0.879471</td>\n",
       "      <td>20540.0</td>\n",
       "      <td>69170.0</td>\n",
       "    </tr>\n",
       "    <tr>\n",
       "      <th>0</th>\n",
       "      <td>12</td>\n",
       "      <td>1b67bafb4a88e00dbe9c17abaa0d1260</td>\n",
       "      <td>{\"cutoff\": \"quantile_0.25\", \"eval_fairness_gro...</td>\n",
       "      <td>27.276633</td>\n",
       "      <td>89710</td>\n",
       "      <td>1.0</td>\n",
       "      <td>0.23096</td>\n",
       "      <td>0.746389</td>\n",
       "      <td>0.213366</td>\n",
       "      <td>0.766688</td>\n",
       "      <td>...</td>\n",
       "      <td>NaN</td>\n",
       "      <td>NaN</td>\n",
       "      <td>NaN</td>\n",
       "      <td>NaN</td>\n",
       "      <td>NaN</td>\n",
       "      <td>NaN</td>\n",
       "      <td>NaN</td>\n",
       "      <td>NaN</td>\n",
       "      <td>NaN</td>\n",
       "      <td>NaN</td>\n",
       "    </tr>\n",
       "    <tr>\n",
       "      <th>0</th>\n",
       "      <td>12</td>\n",
       "      <td>1b67bafb4a88e00dbe9c17abaa0d1260</td>\n",
       "      <td>{\"cutoff\": \"quantile_0.25\", \"eval_fairness_gro...</td>\n",
       "      <td>27.276633</td>\n",
       "      <td>89710</td>\n",
       "      <td>1.0</td>\n",
       "      <td>0.23096</td>\n",
       "      <td>0.746389</td>\n",
       "      <td>0.213366</td>\n",
       "      <td>0.766688</td>\n",
       "      <td>...</td>\n",
       "      <td>0.118984</td>\n",
       "      <td>0.158646</td>\n",
       "      <td>0.910687</td>\n",
       "      <td>0.679727</td>\n",
       "      <td>0.056166</td>\n",
       "      <td>0.158206</td>\n",
       "      <td>0.914508</td>\n",
       "      <td>0.701142</td>\n",
       "      <td>20540.0</td>\n",
       "      <td>69170.0</td>\n",
       "    </tr>\n",
       "  </tbody>\n",
       "</table>\n",
       "<p>4 rows × 50 columns</p>\n",
       "</div>"
      ],
      "text/plain": [
       "  run_no                       universe_id  \\\n",
       "0     12  1b67bafb4a88e00dbe9c17abaa0d1260   \n",
       "0     12  1b67bafb4a88e00dbe9c17abaa0d1260   \n",
       "0     12  1b67bafb4a88e00dbe9c17abaa0d1260   \n",
       "0     12  1b67bafb4a88e00dbe9c17abaa0d1260   \n",
       "\n",
       "                                   universe_settings  execution_time  \\\n",
       "0  {\"cutoff\": \"quantile_0.1\", \"eval_fairness_grou...       27.276633   \n",
       "0  {\"cutoff\": \"quantile_0.1\", \"eval_fairness_grou...       27.276633   \n",
       "0  {\"cutoff\": \"quantile_0.25\", \"eval_fairness_gro...       27.276633   \n",
       "0  {\"cutoff\": \"quantile_0.25\", \"eval_fairness_gro...       27.276633   \n",
       "\n",
       "   test_size_n  test_size_frac  fair_main_equalized_odds_difference  \\\n",
       "0        89710             1.0                              0.09861   \n",
       "0        89710             1.0                              0.09861   \n",
       "0        89710             1.0                              0.23096   \n",
       "0        89710             1.0                              0.23096   \n",
       "\n",
       "   fair_main_equalized_odds_ratio  fair_main_demographic_parity_difference  \\\n",
       "0                        0.898035                                 0.089663   \n",
       "0                        0.898035                                 0.089663   \n",
       "0                        0.746389                                 0.213366   \n",
       "0                        0.746389                                 0.213366   \n",
       "\n",
       "   fair_main_demographic_parity_ratio  ...  perf_grp_precision_0  \\\n",
       "0                            0.907482  ...                   NaN   \n",
       "0                            0.907482  ...              0.117151   \n",
       "0                            0.766688  ...                   NaN   \n",
       "0                            0.766688  ...              0.118984   \n",
       "\n",
       "   perf_grp_precision_1  perf_grp_false positive rate_0  \\\n",
       "0                   NaN                             NaN   \n",
       "0              0.142982                        0.967092   \n",
       "0                   NaN                             NaN   \n",
       "0              0.158646                        0.910687   \n",
       "\n",
       "   perf_grp_false positive rate_1  perf_grp_false negative rate_0  \\\n",
       "0                             NaN                             NaN   \n",
       "0                        0.868482                        0.015203   \n",
       "0                             NaN                             NaN   \n",
       "0                        0.679727                        0.056166   \n",
       "\n",
       "   perf_grp_false negative rate_1  perf_grp_selection rate_0  \\\n",
       "0                             NaN                        NaN   \n",
       "0                        0.048359                   0.969133   \n",
       "0                             NaN                        NaN   \n",
       "0                        0.158206                   0.914508   \n",
       "\n",
       "   perf_grp_selection rate_1  perf_grp_count_0  perf_grp_count_1  \n",
       "0                        NaN               NaN               NaN  \n",
       "0                   0.879471           20540.0           69170.0  \n",
       "0                        NaN               NaN               NaN  \n",
       "0                   0.701142           20540.0           69170.0  \n",
       "\n",
       "[4 rows x 50 columns]"
      ]
     },
     "execution_count": 79,
     "metadata": {},
     "output_type": "execute_result"
    }
   ],
   "source": [
    "final_output = universe_analysis.generate_final_output(\n",
    "    y_pred_prob=probs_test,\n",
    "    y_test=y_true,\n",
    "    org_test=org_test,\n",
    "    filter_data=filter_sub_universe_data,\n",
    "    cp_metrics_df=cp_metrics_df,\n",
    "    save=True,\n",
    ")\n",
    "final_output"
   ]
  },
  {
   "cell_type": "code",
   "execution_count": null,
   "id": "721ff514-cb11-46f8-b6fc-50392f74b5cb",
   "metadata": {
    "papermill": {
     "duration": 0.016315,
     "end_time": "2025-07-30T14:00:39.762052",
     "exception": false,
     "start_time": "2025-07-30T14:00:39.745737",
     "status": "completed"
    },
    "tags": []
   },
   "outputs": [],
   "source": []
  }
 ],
 "metadata": {
  "celltoolbar": "Tags",
  "kernelspec": {
   "display_name": "Python (CMA Fairness)",
   "language": "python",
   "name": "cma_fair_env"
  },
  "language_info": {
   "codemirror_mode": {
    "name": "ipython",
    "version": 3
   },
   "file_extension": ".py",
   "mimetype": "text/x-python",
   "name": "python",
   "nbconvert_exporter": "python",
   "pygments_lexer": "ipython3",
   "version": "3.10.12"
  },
  "papermill": {
   "default_parameters": {},
   "duration": 40.970853,
   "end_time": "2025-07-30T14:00:40.597771",
   "environment_variables": {},
   "exception": null,
   "input_path": "universe_analysis.ipynb",
   "output_path": "output/runs/12/notebooks/m_12-1b67bafb4a88e00dbe9c17abaa0d1260.ipynb",
   "parameters": {
    "output_dir": "output",
    "run_no": "12",
    "seed": "2023",
    "universe": "{\"cutoff\": [\"quantile_0.1\", \"quantile_0.25\"], \"eval_fairness_grouping\": [\"majority-minority\", \"nationality-all\"], \"exclude_features\": \"age\", \"exclude_subgroups\": \"keep-all\", \"model\": \"logreg\", \"scale\": \"do-not-scale\", \"training_size\": \"5k\", \"training_year\": \"2012_14\"}",
    "universe_id": "1b67bafb4a88e00dbe9c17abaa0d1260"
   },
   "start_time": "2025-07-30T13:59:59.626918",
   "version": "2.6.0"
  }
 },
 "nbformat": 4,
 "nbformat_minor": 5
}