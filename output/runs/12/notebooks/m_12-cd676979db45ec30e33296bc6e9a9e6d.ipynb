{
 "cells": [
  {
   "cell_type": "code",
   "execution_count": 1,
   "id": "f159f837-637b-42ba-96b5-ec9a68c44524",
   "metadata": {
    "execution": {
     "iopub.execute_input": "2025-07-30T14:16:25.750775Z",
     "iopub.status.busy": "2025-07-30T14:16:25.750128Z",
     "iopub.status.idle": "2025-07-30T14:16:25.763301Z",
     "shell.execute_reply": "2025-07-30T14:16:25.762383Z"
    },
    "papermill": {
     "duration": 0.044093,
     "end_time": "2025-07-30T14:16:25.772988",
     "exception": false,
     "start_time": "2025-07-30T14:16:25.728895",
     "status": "completed"
    },
    "tags": []
   },
   "outputs": [
    {
     "name": "stdout",
     "output_type": "stream",
     "text": [
      "/dss/dsshome1/0C/ra93lal2/cma/CMA_Fairness_v2\n"
     ]
    },
    {
     "name": "stderr",
     "output_type": "stream",
     "text": [
      "/dss/dsshome1/0C/ra93lal2/.local/share/virtualenvs/CMA_Fairness_v2-3j10GkSs/lib/python3.10/site-packages/IPython/core/magics/osm.py:393: UserWarning: This is now an optional IPython functionality, using bookmarks requires you to install the `pickleshare` library.\n",
      "  bkms = self.shell.db.get('bookmarks', {})\n",
      "/dss/dsshome1/0C/ra93lal2/.local/share/virtualenvs/CMA_Fairness_v2-3j10GkSs/lib/python3.10/site-packages/IPython/core/magics/osm.py:417: UserWarning: This is now an optional IPython functionality, setting dhist requires you to install the `pickleshare` library.\n",
      "  self.shell.db['dhist'] = compress_dhist(dhist)[-100:]\n"
     ]
    }
   ],
   "source": [
    "%cd ~/cma/CMA_Fairness_v2"
   ]
  },
  {
   "cell_type": "markdown",
   "id": "de2603b9",
   "metadata": {
    "papermill": {
     "duration": 0.017433,
     "end_time": "2025-07-30T14:16:25.811514",
     "exception": false,
     "start_time": "2025-07-30T14:16:25.794081",
     "status": "completed"
    },
    "tags": []
   },
   "source": [
    "The following cell holds the definition of our parameters, these values can be overriden by rendering the with e.g. the following command:\n",
    "\n",
    "papermill -p alpha 0.2 -p ratio 0.3 universe_analysis.ipynb output/test_run.ipynb"
   ]
  },
  {
   "cell_type": "code",
   "execution_count": 2,
   "id": "a80968a0-40bb-4fa9-85ef-2d5eefb01975",
   "metadata": {
    "execution": {
     "iopub.execute_input": "2025-07-30T14:16:25.849347Z",
     "iopub.status.busy": "2025-07-30T14:16:25.848490Z",
     "iopub.status.idle": "2025-07-30T14:16:25.854294Z",
     "shell.execute_reply": "2025-07-30T14:16:25.853352Z"
    },
    "papermill": {
     "duration": 0.026718,
     "end_time": "2025-07-30T14:16:25.855869",
     "exception": false,
     "start_time": "2025-07-30T14:16:25.829151",
     "status": "completed"
    },
    "tags": []
   },
   "outputs": [
    {
     "name": "stdout",
     "output_type": "stream",
     "text": [
      "Current working directory: /dss/dsshome1/0C/ra93lal2/cma/CMA_Fairness_v2\n"
     ]
    }
   ],
   "source": [
    "import os\n",
    "print(\"Current working directory:\", os.getcwd())"
   ]
  },
  {
   "cell_type": "code",
   "execution_count": 3,
   "id": "2dce4c03",
   "metadata": {
    "execution": {
     "iopub.execute_input": "2025-07-30T14:16:25.896862Z",
     "iopub.status.busy": "2025-07-30T14:16:25.895965Z",
     "iopub.status.idle": "2025-07-30T14:16:25.902508Z",
     "shell.execute_reply": "2025-07-30T14:16:25.901663Z"
    },
    "papermill": {
     "duration": 0.028136,
     "end_time": "2025-07-30T14:16:25.904120",
     "exception": false,
     "start_time": "2025-07-30T14:16:25.875984",
     "status": "completed"
    },
    "tags": [
     "parameters"
    ]
   },
   "outputs": [],
   "source": [
    "run_no = 0\n",
    "universe_id = \"test\"\n",
    "universe = {\n",
    "    \"training_size\": \"25k\", # \"25k\", \"5k\", \"1k\"\n",
    "    \"training_year\": \"2014\", # \"2014\", \"2012_14\", \"2010_14\"\n",
    "    \"scale\": \"scale\", # \"scale\", \"do-not-scale\",\n",
    "    #\"stratify_split\": \"target\", # \"none\", \"target\", \"protected-attribute\", \"both\",\n",
    "    \"model\": \"elasticnet\", # \"logreg\", \"penalized_logreg\", \"rf\", \"gbm\", \"elasticnet\"\n",
    "    \"cutoff\": [\"quantile_0.15\", \"quantile_0.30\"],\n",
    "    \"exclude_features\": \"age\", # \"none\", \"nationality\", \"sex\", \"nationality-sex\", \"age\"\n",
    "    \"exclude_subgroups\": \"keep-all\", # \"keep-all\", \"drop-non-german\"\n",
    "    \"eval_fairness_grouping\": [\"majority-minority\", \"nationality-all\"]\n",
    "}\n",
    "\n",
    "output_dir=\"./output\"\n",
    "seed=0"
   ]
  },
  {
   "cell_type": "code",
   "execution_count": 4,
   "id": "5d59ee98",
   "metadata": {
    "execution": {
     "iopub.execute_input": "2025-07-30T14:16:25.944213Z",
     "iopub.status.busy": "2025-07-30T14:16:25.943355Z",
     "iopub.status.idle": "2025-07-30T14:16:25.948326Z",
     "shell.execute_reply": "2025-07-30T14:16:25.947456Z"
    },
    "papermill": {
     "duration": 0.02608,
     "end_time": "2025-07-30T14:16:25.949912",
     "exception": false,
     "start_time": "2025-07-30T14:16:25.923832",
     "status": "completed"
    },
    "tags": [
     "injected-parameters"
    ]
   },
   "outputs": [],
   "source": [
    "# Parameters\n",
    "universe_id = \"cd676979db45ec30e33296bc6e9a9e6d\"\n",
    "run_no = \"12\"\n",
    "universe = \"{\\\"cutoff\\\": [\\\"quantile_0.1\\\", \\\"quantile_0.25\\\"], \\\"eval_fairness_grouping\\\": [\\\"majority-minority\\\", \\\"nationality-all\\\"], \\\"exclude_features\\\": \\\"sex\\\", \\\"exclude_subgroups\\\": \\\"drop-non-german\\\", \\\"model\\\": \\\"elasticnet\\\", \\\"scale\\\": \\\"do-not-scale\\\", \\\"training_size\\\": \\\"5k\\\", \\\"training_year\\\": \\\"2010_14\\\"}\"\n",
    "output_dir = \"output\"\n",
    "seed = \"2023\"\n"
   ]
  },
  {
   "cell_type": "code",
   "execution_count": 5,
   "id": "1650acaf",
   "metadata": {
    "execution": {
     "iopub.execute_input": "2025-07-30T14:16:25.989353Z",
     "iopub.status.busy": "2025-07-30T14:16:25.988597Z",
     "iopub.status.idle": "2025-07-30T14:16:25.993577Z",
     "shell.execute_reply": "2025-07-30T14:16:25.992707Z"
    },
    "papermill": {
     "duration": 0.025865,
     "end_time": "2025-07-30T14:16:25.995036",
     "exception": false,
     "start_time": "2025-07-30T14:16:25.969171",
     "status": "completed"
    },
    "tags": []
   },
   "outputs": [],
   "source": [
    "import json\n",
    "# Parse universe into dict if it is passed as a string\n",
    "if isinstance(universe, str):\n",
    "    universe = json.loads(universe)"
   ]
  },
  {
   "cell_type": "code",
   "execution_count": 6,
   "id": "16620c48",
   "metadata": {
    "execution": {
     "iopub.execute_input": "2025-07-30T14:16:26.036186Z",
     "iopub.status.busy": "2025-07-30T14:16:26.035568Z",
     "iopub.status.idle": "2025-07-30T14:16:26.078027Z",
     "shell.execute_reply": "2025-07-30T14:16:26.077099Z"
    },
    "papermill": {
     "duration": 0.064748,
     "end_time": "2025-07-30T14:16:26.079936",
     "exception": false,
     "start_time": "2025-07-30T14:16:26.015188",
     "status": "completed"
    },
    "tags": []
   },
   "outputs": [],
   "source": [
    "# Auto-reload the custom package\n",
    "%load_ext autoreload\n",
    "%autoreload 1\n",
    "%aimport fairness_multiverse"
   ]
  },
  {
   "cell_type": "code",
   "execution_count": 7,
   "id": "01c5c9f3",
   "metadata": {
    "execution": {
     "iopub.execute_input": "2025-07-30T14:16:26.118275Z",
     "iopub.status.busy": "2025-07-30T14:16:26.117471Z",
     "iopub.status.idle": "2025-07-30T14:16:27.993510Z",
     "shell.execute_reply": "2025-07-30T14:16:27.992599Z"
    },
    "papermill": {
     "duration": 1.89694,
     "end_time": "2025-07-30T14:16:27.995541",
     "exception": false,
     "start_time": "2025-07-30T14:16:26.098601",
     "status": "completed"
    },
    "tags": []
   },
   "outputs": [],
   "source": [
    "from fairness_multiverse.universe import UniverseAnalysis\n",
    "\n",
    "universe_analysis = UniverseAnalysis(\n",
    "    run_no = run_no,\n",
    "    universe_id = universe_id,\n",
    "    universe = universe,\n",
    "    output_dir=output_dir,\n",
    ")"
   ]
  },
  {
   "cell_type": "code",
   "execution_count": 8,
   "id": "106241f5",
   "metadata": {
    "execution": {
     "iopub.execute_input": "2025-07-30T14:16:28.037064Z",
     "iopub.status.busy": "2025-07-30T14:16:28.036650Z",
     "iopub.status.idle": "2025-07-30T14:16:28.043382Z",
     "shell.execute_reply": "2025-07-30T14:16:28.042329Z"
    },
    "papermill": {
     "duration": 0.028851,
     "end_time": "2025-07-30T14:16:28.045029",
     "exception": false,
     "start_time": "2025-07-30T14:16:28.016178",
     "status": "completed"
    },
    "tags": []
   },
   "outputs": [
    {
     "name": "stdout",
     "output_type": "stream",
     "text": [
      "Using Seed: 2023\n"
     ]
    }
   ],
   "source": [
    "import numpy as np\n",
    "parsed_seed = int(seed)\n",
    "np.random.seed(parsed_seed)\n",
    "print(f\"Using Seed: {parsed_seed}\")"
   ]
  },
  {
   "cell_type": "markdown",
   "id": "e0ebdc57",
   "metadata": {
    "papermill": {
     "duration": 0.019595,
     "end_time": "2025-07-30T14:16:28.084224",
     "exception": false,
     "start_time": "2025-07-30T14:16:28.064629",
     "status": "completed"
    },
    "tags": []
   },
   "source": [
    "# Loading Data"
   ]
  },
  {
   "cell_type": "markdown",
   "id": "681925a3",
   "metadata": {
    "papermill": {
     "duration": 0.019068,
     "end_time": "2025-07-30T14:16:28.123025",
     "exception": false,
     "start_time": "2025-07-30T14:16:28.103957",
     "status": "completed"
    },
    "tags": []
   },
   "source": [
    "Load siab_train, siab_test, siab_calib and/or \n",
    "load siab_train_features, siab_train_labels"
   ]
  },
  {
   "cell_type": "code",
   "execution_count": 9,
   "id": "f0496b8a",
   "metadata": {
    "execution": {
     "iopub.execute_input": "2025-07-30T14:16:28.164508Z",
     "iopub.status.busy": "2025-07-30T14:16:28.163669Z",
     "iopub.status.idle": "2025-07-30T14:16:40.929046Z",
     "shell.execute_reply": "2025-07-30T14:16:40.927893Z"
    },
    "papermill": {
     "duration": 12.788414,
     "end_time": "2025-07-30T14:16:40.930661",
     "exception": false,
     "start_time": "2025-07-30T14:16:28.142247",
     "status": "completed"
    },
    "tags": []
   },
   "outputs": [
    {
     "name": "stdout",
     "output_type": "stream",
     "text": [
      "Loading SIAB data from cache: data/siab_cached.csv.gz\n"
     ]
    },
    {
     "name": "stdout",
     "output_type": "stream",
     "text": [
      "(643690, 164)\n"
     ]
    }
   ],
   "source": [
    "from pathlib import Path\n",
    "import pandas as pd\n",
    "\n",
    "# File paths\n",
    "raw_file = Path(\"data/raw/siab.csv\")\n",
    "cache_file = Path(\"data/siab_cached.csv.gz\")\n",
    "\n",
    "# Ensure cache directory exists\n",
    "cache_file.parent.mkdir(parents=True, exist_ok=True)\n",
    "\n",
    "# Load with simple caching\n",
    "if cache_file.exists():\n",
    "    print(f\"Loading SIAB data from cache: {cache_file}\")\n",
    "    siab = pd.read_csv(cache_file, compression='gzip')\n",
    "else:\n",
    "    print(f\"Cache not found. Reading raw SIAB data: {raw_file}\")\n",
    "    siab = pd.read_csv(raw_file)\n",
    "    siab.to_csv(cache_file, index=False, compression='gzip')\n",
    "    print(f\"Cached SIAB data to: {cache_file}\")\n",
    "\n",
    "# Now use `siab` DataFrame as needed\n",
    "print(siab.shape)"
   ]
  },
  {
   "cell_type": "code",
   "execution_count": 10,
   "id": "db0ca512-5f53-4dba-abdb-a2888bca41ba",
   "metadata": {
    "execution": {
     "iopub.execute_input": "2025-07-30T14:16:40.968670Z",
     "iopub.status.busy": "2025-07-30T14:16:40.968126Z",
     "iopub.status.idle": "2025-07-30T14:16:40.973632Z",
     "shell.execute_reply": "2025-07-30T14:16:40.972761Z"
    },
    "papermill": {
     "duration": 0.023175,
     "end_time": "2025-07-30T14:16:40.975093",
     "exception": false,
     "start_time": "2025-07-30T14:16:40.951918",
     "status": "completed"
    },
    "tags": []
   },
   "outputs": [],
   "source": [
    "#siab"
   ]
  },
  {
   "cell_type": "code",
   "execution_count": 11,
   "id": "a0edb063",
   "metadata": {
    "execution": {
     "iopub.execute_input": "2025-07-30T14:16:41.014405Z",
     "iopub.status.busy": "2025-07-30T14:16:41.013651Z",
     "iopub.status.idle": "2025-07-30T14:16:41.018866Z",
     "shell.execute_reply": "2025-07-30T14:16:41.017897Z"
    },
    "papermill": {
     "duration": 0.026602,
     "end_time": "2025-07-30T14:16:41.020528",
     "exception": false,
     "start_time": "2025-07-30T14:16:40.993926",
     "status": "completed"
    },
    "tags": []
   },
   "outputs": [],
   "source": [
    "#import pandas as pd\n",
    "#\n",
    "#X_train = pd.read_csv(\"./data/X_train.csv\")\n",
    "#y_train = pd.read_csv(\"./data/y_train.csv\")"
   ]
  },
  {
   "cell_type": "code",
   "execution_count": 12,
   "id": "63d08085",
   "metadata": {
    "execution": {
     "iopub.execute_input": "2025-07-30T14:16:41.060621Z",
     "iopub.status.busy": "2025-07-30T14:16:41.059591Z",
     "iopub.status.idle": "2025-07-30T14:16:41.064501Z",
     "shell.execute_reply": "2025-07-30T14:16:41.063542Z"
    },
    "papermill": {
     "duration": 0.026306,
     "end_time": "2025-07-30T14:16:41.066150",
     "exception": false,
     "start_time": "2025-07-30T14:16:41.039844",
     "status": "completed"
    },
    "tags": []
   },
   "outputs": [],
   "source": [
    "#X_test = pd.read_csv(\"./data/X_test.csv\")\n",
    "#y_true = pd.read_csv(\"./data/y_test.csv\")"
   ]
  },
  {
   "cell_type": "code",
   "execution_count": 13,
   "id": "98a8d0fa-1d3d-4ed8-bb2c-281470e24add",
   "metadata": {
    "execution": {
     "iopub.execute_input": "2025-07-30T14:16:41.107043Z",
     "iopub.status.busy": "2025-07-30T14:16:41.106464Z",
     "iopub.status.idle": "2025-07-30T14:16:41.112430Z",
     "shell.execute_reply": "2025-07-30T14:16:41.111464Z"
    },
    "papermill": {
     "duration": 0.029108,
     "end_time": "2025-07-30T14:16:41.114834",
     "exception": false,
     "start_time": "2025-07-30T14:16:41.085726",
     "status": "completed"
    },
    "tags": []
   },
   "outputs": [],
   "source": [
    "# Calibration data for conformal\n",
    "#X_calib = pd.read_csv(\"./data/X_calib.csv\")\n",
    "#y_calib = pd.read_csv(\"./data/y_calib.csv\")"
   ]
  },
  {
   "cell_type": "markdown",
   "id": "997051c5-15bd-4b69-9786-c3001a3ce484",
   "metadata": {
    "papermill": {
     "duration": 0.018746,
     "end_time": "2025-07-30T14:16:41.153756",
     "exception": false,
     "start_time": "2025-07-30T14:16:41.135010",
     "status": "completed"
    },
    "tags": []
   },
   "source": [
    "# Splitting Data and Setting Training Data Size"
   ]
  },
  {
   "cell_type": "code",
   "execution_count": 14,
   "id": "e993b61f-042d-41a6-8c81-f55681f86335",
   "metadata": {
    "execution": {
     "iopub.execute_input": "2025-07-30T14:16:41.194138Z",
     "iopub.status.busy": "2025-07-30T14:16:41.193694Z",
     "iopub.status.idle": "2025-07-30T14:16:41.206067Z",
     "shell.execute_reply": "2025-07-30T14:16:41.205179Z"
    },
    "papermill": {
     "duration": 0.034305,
     "end_time": "2025-07-30T14:16:41.207570",
     "exception": false,
     "start_time": "2025-07-30T14:16:41.173265",
     "status": "completed"
    },
    "tags": []
   },
   "outputs": [],
   "source": [
    "def sample_by_year_size(df,\n",
    "                        training_year: str,\n",
    "                        training_size: str,\n",
    "                        random_state: int = 42):\n",
    "    # --- parse training_year into a list of int years ---\n",
    "    if \"_\" in training_year:\n",
    "        start_str, end_str = training_year.split(\"_\", 1)\n",
    "        start = int(start_str)\n",
    "        end   = int(end_str) if len(end_str) == 4 else (int(end_str) + (start // 100)*100)\n",
    "        years = list(range(start, end + 1))\n",
    "    else:\n",
    "        years = [int(training_year)]\n",
    "\n",
    "    df = df[df[\"year\"].isin(years)].reset_index(drop=True)\n",
    "\n",
    "    # --- map training_size to total number of samples ---\n",
    "    total_map = {\"25k\": 25_000, \"5k\": 5_000, \"1k\": 1_000}\n",
    "    if training_size not in total_map:\n",
    "        return df  # e.g. \"all\"\n",
    "\n",
    "    total_samples = total_map[training_size]\n",
    "    n_years       = len(years)\n",
    "    base          = total_samples // n_years\n",
    "    remainder     = total_samples % n_years\n",
    "\n",
    "    # --- build a dict: year -> how many to sample ---\n",
    "    # give +1 to the first `remainder` years in ascending order\n",
    "    quotas = {\n",
    "        year: base + (1 if idx < remainder else 0)\n",
    "        for idx, year in enumerate(sorted(years))\n",
    "    }\n",
    "\n",
    "    # --- sample per‐year according to the quota dict ---\n",
    "    sampled = (\n",
    "        df\n",
    "        .groupby(\"year\", group_keys=False)\n",
    "        .apply(lambda grp: grp.sample(\n",
    "            n=min(len(grp), quotas[grp.name]),\n",
    "            random_state=random_state))\n",
    "        .reset_index(drop=True)\n",
    "    )\n",
    "\n",
    "    return sampled"
   ]
  },
  {
   "cell_type": "code",
   "execution_count": 15,
   "id": "c0ccd338-0e02-41f3-a09d-f56f9266e3fb",
   "metadata": {
    "execution": {
     "iopub.execute_input": "2025-07-30T14:16:41.247895Z",
     "iopub.status.busy": "2025-07-30T14:16:41.247169Z",
     "iopub.status.idle": "2025-07-30T14:16:41.257478Z",
     "shell.execute_reply": "2025-07-30T14:16:41.256634Z"
    },
    "papermill": {
     "duration": 0.031688,
     "end_time": "2025-07-30T14:16:41.259159",
     "exception": false,
     "start_time": "2025-07-30T14:16:41.227471",
     "status": "completed"
    },
    "tags": []
   },
   "outputs": [
    {
     "data": {
      "text/plain": [
       "'5k'"
      ]
     },
     "execution_count": 15,
     "metadata": {},
     "output_type": "execute_result"
    }
   ],
   "source": [
    "universe[\"training_size\"]"
   ]
  },
  {
   "cell_type": "code",
   "execution_count": 16,
   "id": "ca707fd7-8047-4acd-bfa5-66248fbbf8e6",
   "metadata": {
    "execution": {
     "iopub.execute_input": "2025-07-30T14:16:41.300337Z",
     "iopub.status.busy": "2025-07-30T14:16:41.299601Z",
     "iopub.status.idle": "2025-07-30T14:16:41.306931Z",
     "shell.execute_reply": "2025-07-30T14:16:41.306062Z"
    },
    "papermill": {
     "duration": 0.02993,
     "end_time": "2025-07-30T14:16:41.308632",
     "exception": false,
     "start_time": "2025-07-30T14:16:41.278702",
     "status": "completed"
    },
    "tags": []
   },
   "outputs": [
    {
     "data": {
      "text/plain": [
       "'2010_14'"
      ]
     },
     "execution_count": 16,
     "metadata": {},
     "output_type": "execute_result"
    }
   ],
   "source": [
    "universe[\"training_year\"]"
   ]
  },
  {
   "cell_type": "code",
   "execution_count": 17,
   "id": "aea9c6ef-6f46-42c8-85eb-5a62025c1508",
   "metadata": {
    "execution": {
     "iopub.execute_input": "2025-07-30T14:16:41.349680Z",
     "iopub.status.busy": "2025-07-30T14:16:41.348989Z",
     "iopub.status.idle": "2025-07-30T14:16:42.314990Z",
     "shell.execute_reply": "2025-07-30T14:16:42.314123Z"
    },
    "papermill": {
     "duration": 0.988103,
     "end_time": "2025-07-30T14:16:42.316823",
     "exception": false,
     "start_time": "2025-07-30T14:16:41.328720",
     "status": "completed"
    },
    "tags": []
   },
   "outputs": [],
   "source": [
    "siab_train = sample_by_year_size(siab,\n",
    "                               training_year=universe[\"training_year\"],\n",
    "                               training_size=universe[\"training_size\"])"
   ]
  },
  {
   "cell_type": "code",
   "execution_count": 18,
   "id": "8d3afb32-789d-442c-8d5d-9f5aa8dd2eed",
   "metadata": {
    "execution": {
     "iopub.execute_input": "2025-07-30T14:16:42.357725Z",
     "iopub.status.busy": "2025-07-30T14:16:42.357124Z",
     "iopub.status.idle": "2025-07-30T14:16:42.364165Z",
     "shell.execute_reply": "2025-07-30T14:16:42.363299Z"
    },
    "papermill": {
     "duration": 0.028812,
     "end_time": "2025-07-30T14:16:42.365691",
     "exception": false,
     "start_time": "2025-07-30T14:16:42.336879",
     "status": "completed"
    },
    "tags": []
   },
   "outputs": [
    {
     "data": {
      "text/plain": [
       "(5000, 164)"
      ]
     },
     "execution_count": 18,
     "metadata": {},
     "output_type": "execute_result"
    }
   ],
   "source": [
    "siab_train.shape"
   ]
  },
  {
   "cell_type": "code",
   "execution_count": 19,
   "id": "d582db68-1a4c-47fb-84fc-08518dc1975a",
   "metadata": {
    "execution": {
     "iopub.execute_input": "2025-07-30T14:16:42.406950Z",
     "iopub.status.busy": "2025-07-30T14:16:42.406169Z",
     "iopub.status.idle": "2025-07-30T14:16:42.414877Z",
     "shell.execute_reply": "2025-07-30T14:16:42.414079Z"
    },
    "papermill": {
     "duration": 0.030624,
     "end_time": "2025-07-30T14:16:42.416351",
     "exception": false,
     "start_time": "2025-07-30T14:16:42.385727",
     "status": "completed"
    },
    "tags": []
   },
   "outputs": [
    {
     "data": {
      "text/plain": [
       "year\n",
       "2010    1000\n",
       "2011    1000\n",
       "2012    1000\n",
       "2013    1000\n",
       "2014    1000\n",
       "dtype: int64"
      ]
     },
     "metadata": {},
     "output_type": "display_data"
    }
   ],
   "source": [
    "display(siab_train.groupby(\"year\").size())"
   ]
  },
  {
   "cell_type": "code",
   "execution_count": 20,
   "id": "a561edb4-d032-42cb-8256-22eac1111c64",
   "metadata": {
    "execution": {
     "iopub.execute_input": "2025-07-30T14:16:42.458442Z",
     "iopub.status.busy": "2025-07-30T14:16:42.457551Z",
     "iopub.status.idle": "2025-07-30T14:16:42.694472Z",
     "shell.execute_reply": "2025-07-30T14:16:42.693598Z"
    },
    "papermill": {
     "duration": 0.259904,
     "end_time": "2025-07-30T14:16:42.696354",
     "exception": false,
     "start_time": "2025-07-30T14:16:42.436450",
     "status": "completed"
    },
    "tags": []
   },
   "outputs": [],
   "source": [
    "#siab_train = siab_s[siab_s.year < 2015]\n",
    "siab_calib = siab[siab.year == 2015]\n",
    "siab_test = siab[siab.year == 2016]"
   ]
  },
  {
   "cell_type": "code",
   "execution_count": 21,
   "id": "472de16f-c3db-4916-846b-1f0de9cf1746",
   "metadata": {
    "execution": {
     "iopub.execute_input": "2025-07-30T14:16:42.738753Z",
     "iopub.status.busy": "2025-07-30T14:16:42.738156Z",
     "iopub.status.idle": "2025-07-30T14:16:42.745918Z",
     "shell.execute_reply": "2025-07-30T14:16:42.745032Z"
    },
    "papermill": {
     "duration": 0.030096,
     "end_time": "2025-07-30T14:16:42.747431",
     "exception": false,
     "start_time": "2025-07-30T14:16:42.717335",
     "status": "completed"
    },
    "tags": []
   },
   "outputs": [],
   "source": [
    "X_train = siab_train.iloc[:,4:164]\n",
    "y_train = siab_train.iloc[:, [3]]"
   ]
  },
  {
   "cell_type": "code",
   "execution_count": 22,
   "id": "828c96af-f43a-4ed6-ba47-8ac73a47d56c",
   "metadata": {
    "execution": {
     "iopub.execute_input": "2025-07-30T14:16:42.789941Z",
     "iopub.status.busy": "2025-07-30T14:16:42.789154Z",
     "iopub.status.idle": "2025-07-30T14:16:42.837213Z",
     "shell.execute_reply": "2025-07-30T14:16:42.836158Z"
    },
    "papermill": {
     "duration": 0.07084,
     "end_time": "2025-07-30T14:16:42.839208",
     "exception": false,
     "start_time": "2025-07-30T14:16:42.768368",
     "status": "completed"
    },
    "tags": []
   },
   "outputs": [],
   "source": [
    "X_calib = siab_calib.iloc[:,4:164]\n",
    "y_calib = siab_calib.iloc[:, [3]]"
   ]
  },
  {
   "cell_type": "code",
   "execution_count": 23,
   "id": "c34be9c3-6bd6-476e-acd3-845840e303be",
   "metadata": {
    "execution": {
     "iopub.execute_input": "2025-07-30T14:16:42.881916Z",
     "iopub.status.busy": "2025-07-30T14:16:42.881117Z",
     "iopub.status.idle": "2025-07-30T14:16:42.930616Z",
     "shell.execute_reply": "2025-07-30T14:16:42.929742Z"
    },
    "papermill": {
     "duration": 0.071987,
     "end_time": "2025-07-30T14:16:42.932309",
     "exception": false,
     "start_time": "2025-07-30T14:16:42.860322",
     "status": "completed"
    },
    "tags": []
   },
   "outputs": [],
   "source": [
    "X_test = siab_test.iloc[:,4:164]\n",
    "y_true = siab_test.iloc[:, [3]]"
   ]
  },
  {
   "cell_type": "markdown",
   "id": "9901737e-04df-44f0-9100-f5ad144ed040",
   "metadata": {
    "papermill": {
     "duration": 0.01975,
     "end_time": "2025-07-30T14:16:42.973137",
     "exception": false,
     "start_time": "2025-07-30T14:16:42.953387",
     "status": "completed"
    },
    "tags": []
   },
   "source": [
    "# Splitting Data and Setting Training Data Size OLD VERSION"
   ]
  },
  {
   "cell_type": "code",
   "execution_count": 24,
   "id": "acbc8f7d-8fc8-4e86-8c59-5dcb0f58384b",
   "metadata": {
    "execution": {
     "iopub.execute_input": "2025-07-30T14:16:43.014814Z",
     "iopub.status.busy": "2025-07-30T14:16:43.014183Z",
     "iopub.status.idle": "2025-07-30T14:16:43.019401Z",
     "shell.execute_reply": "2025-07-30T14:16:43.018590Z"
    },
    "papermill": {
     "duration": 0.028018,
     "end_time": "2025-07-30T14:16:43.021104",
     "exception": false,
     "start_time": "2025-07-30T14:16:42.993086",
     "status": "completed"
    },
    "tags": []
   },
   "outputs": [],
   "source": [
    "#def sample_by_year(df, training_size, random_state=42):\n",
    "#    if training_size == \"2014\":\n",
    "#        return df[df[\"year\"] == 2014].reset_index(drop=True)\n",
    "#    \n",
    "#    size_map = {\n",
    "#        \"25k\": 5000,\n",
    "#        \"5k\": 1000,\n",
    "#        \"1k\": 200\n",
    "#    }\n",
    "#\n",
    "#    if training_size not in size_map:\n",
    "#        return df.reset_index(drop=True)  # use all data\n",
    "#\n",
    "#    n_per_year = size_map[training_size]\n",
    "#    grouped = df.groupby(\"year\")\n",
    "#    sampled = grouped.apply(lambda x: x.sample(n=min(n_per_year, len(x)), random_state=random_state))\n",
    "#    return sampled.reset_index(drop=True)"
   ]
  },
  {
   "cell_type": "code",
   "execution_count": 25,
   "id": "6d931f52-beaf-43ff-9e78-9d44a448d54e",
   "metadata": {
    "execution": {
     "iopub.execute_input": "2025-07-30T14:16:43.063371Z",
     "iopub.status.busy": "2025-07-30T14:16:43.062616Z",
     "iopub.status.idle": "2025-07-30T14:16:43.067285Z",
     "shell.execute_reply": "2025-07-30T14:16:43.066439Z"
    },
    "papermill": {
     "duration": 0.0274,
     "end_time": "2025-07-30T14:16:43.068848",
     "exception": false,
     "start_time": "2025-07-30T14:16:43.041448",
     "status": "completed"
    },
    "tags": []
   },
   "outputs": [],
   "source": [
    "#siab_s = sample_by_year(siab, universe[\"training_size\"])"
   ]
  },
  {
   "cell_type": "code",
   "execution_count": 26,
   "id": "5db0a40e-a4e2-4920-be85-b12ae061d70d",
   "metadata": {
    "execution": {
     "iopub.execute_input": "2025-07-30T14:16:43.111050Z",
     "iopub.status.busy": "2025-07-30T14:16:43.110284Z",
     "iopub.status.idle": "2025-07-30T14:16:43.115027Z",
     "shell.execute_reply": "2025-07-30T14:16:43.114196Z"
    },
    "papermill": {
     "duration": 0.02763,
     "end_time": "2025-07-30T14:16:43.116828",
     "exception": false,
     "start_time": "2025-07-30T14:16:43.089198",
     "status": "completed"
    },
    "tags": []
   },
   "outputs": [],
   "source": [
    "#display(siab_s.groupby(\"year\").size())"
   ]
  },
  {
   "cell_type": "code",
   "execution_count": 27,
   "id": "e6c733c5",
   "metadata": {
    "execution": {
     "iopub.execute_input": "2025-07-30T14:16:43.159626Z",
     "iopub.status.busy": "2025-07-30T14:16:43.158837Z",
     "iopub.status.idle": "2025-07-30T14:16:43.254789Z",
     "shell.execute_reply": "2025-07-30T14:16:43.253921Z"
    },
    "papermill": {
     "duration": 0.119346,
     "end_time": "2025-07-30T14:16:43.256689",
     "exception": false,
     "start_time": "2025-07-30T14:16:43.137343",
     "status": "completed"
    },
    "tags": []
   },
   "outputs": [],
   "source": [
    "# Auxiliary data needed downstream in the pipeline\n",
    "\n",
    "org_train = X_train.copy()\n",
    "org_test = X_test.copy()\n",
    "org_calib = X_calib.copy()"
   ]
  },
  {
   "cell_type": "code",
   "execution_count": 28,
   "id": "1466abac-c6da-4492-a62f-4240ae3783af",
   "metadata": {
    "execution": {
     "iopub.execute_input": "2025-07-30T14:16:43.299951Z",
     "iopub.status.busy": "2025-07-30T14:16:43.299102Z",
     "iopub.status.idle": "2025-07-30T14:16:43.304741Z",
     "shell.execute_reply": "2025-07-30T14:16:43.303794Z"
    },
    "papermill": {
     "duration": 0.028396,
     "end_time": "2025-07-30T14:16:43.306233",
     "exception": false,
     "start_time": "2025-07-30T14:16:43.277837",
     "status": "completed"
    },
    "tags": []
   },
   "outputs": [],
   "source": [
    "# put in other script?\n",
    "# Group sizes\n",
    "\n",
    "#def calculate_percentages(df, df_name):\n",
    "#    total_entries = len(df)\n",
    "#\n",
    "#    female_pct = (df['frau1'] == 1).mean() * 100\n",
    "#    non_german_pct = ((df['maxdeutsch1'] == 0) & (df['maxdeutsch.Missing.'] == 0)).mean() * 100\n",
    "#    non_german_male_pct = ((df['frau1'] == 0) & (df['maxdeutsch1'] == 0) & (df['maxdeutsch.Missing.'] == 0)).mean() * 100\n",
    "#    non_german_female_pct = ((df['frau1'] == 1) & (df['maxdeutsch1'] == 0) & (df['maxdeutsch.Missing.'] == 0)).mean() * 100\n",
    "#\n",
    "#    print(f\"--- {df_name} ---\")\n",
    "#    print(f\"Female: {female_pct:.2f}%\")\n",
    "#    print(f\"Non-German: {non_german_pct:.2f}%\")\n",
    "#    print(f\"Non-German Male: {non_german_male_pct:.2f}%\")\n",
    "#    print(f\"Non-German Female: {non_german_female_pct:.2f}%\\n\")\n",
    "#\n",
    "## Calculate for each DataFrame\n",
    "#calculate_percentages(siab_calib, \"siab_calib\")\n",
    "#calculate_percentages(siab_test, \"siab_test\")\n",
    "#calculate_percentages(siab_train, \"siab_train\")"
   ]
  },
  {
   "cell_type": "markdown",
   "id": "0a4a1b33",
   "metadata": {
    "papermill": {
     "duration": 0.020351,
     "end_time": "2025-07-30T14:16:43.347549",
     "exception": false,
     "start_time": "2025-07-30T14:16:43.327198",
     "status": "completed"
    },
    "tags": []
   },
   "source": [
    "# Preprocessing Data"
   ]
  },
  {
   "cell_type": "code",
   "execution_count": 29,
   "id": "ca879031",
   "metadata": {
    "execution": {
     "iopub.execute_input": "2025-07-30T14:16:43.391001Z",
     "iopub.status.busy": "2025-07-30T14:16:43.390376Z",
     "iopub.status.idle": "2025-07-30T14:16:43.396136Z",
     "shell.execute_reply": "2025-07-30T14:16:43.395291Z"
    },
    "papermill": {
     "duration": 0.029443,
     "end_time": "2025-07-30T14:16:43.397581",
     "exception": false,
     "start_time": "2025-07-30T14:16:43.368138",
     "status": "completed"
    },
    "tags": []
   },
   "outputs": [],
   "source": [
    "# EXCLUDE PROTECTED FEATURES\n",
    "# ----------------------\n",
    "# \"exclude_features\": \"none\", # \"nationality\", \"sex\", \"nationality-sex\"\n",
    "\n",
    "excluded_features = universe[\"exclude_features\"].split(\"-\") # split, e.g.: \"nationality-sex\" -> [\"nationality\", \"sex\"]\n",
    "excluded_features_dictionary = {\n",
    "    \"nationality\": [\"maxdeutsch1\", \"maxdeutsch.Missing.\"],\n",
    "    \"sex\": [\"frau1\"],\n",
    "    \"age\": [\"age\"],\n",
    "}\n"
   ]
  },
  {
   "cell_type": "code",
   "execution_count": 30,
   "id": "b745ac60",
   "metadata": {
    "execution": {
     "iopub.execute_input": "2025-07-30T14:16:43.440228Z",
     "iopub.status.busy": "2025-07-30T14:16:43.439637Z",
     "iopub.status.idle": "2025-07-30T14:16:43.444869Z",
     "shell.execute_reply": "2025-07-30T14:16:43.444010Z"
    },
    "papermill": {
     "duration": 0.027851,
     "end_time": "2025-07-30T14:16:43.446328",
     "exception": false,
     "start_time": "2025-07-30T14:16:43.418477",
     "status": "completed"
    },
    "tags": []
   },
   "outputs": [],
   "source": [
    "# Code nice names to column names\n",
    "\n",
    "excluded_features_columns = [\n",
    "    excluded_features_dictionary[f] for f in excluded_features if len(f) > 0 and f != \"none\"\n",
    "]"
   ]
  },
  {
   "cell_type": "code",
   "execution_count": 31,
   "id": "f84f73a2",
   "metadata": {
    "execution": {
     "iopub.execute_input": "2025-07-30T14:16:43.489246Z",
     "iopub.status.busy": "2025-07-30T14:16:43.488591Z",
     "iopub.status.idle": "2025-07-30T14:16:43.496244Z",
     "shell.execute_reply": "2025-07-30T14:16:43.495391Z"
    },
    "papermill": {
     "duration": 0.030518,
     "end_time": "2025-07-30T14:16:43.497829",
     "exception": false,
     "start_time": "2025-07-30T14:16:43.467311",
     "status": "completed"
    },
    "tags": []
   },
   "outputs": [],
   "source": [
    "from utils import flatten_once\n",
    "\n",
    "excluded_features_columns = flatten_once(excluded_features_columns)"
   ]
  },
  {
   "cell_type": "code",
   "execution_count": 32,
   "id": "884dea22",
   "metadata": {
    "execution": {
     "iopub.execute_input": "2025-07-30T14:16:43.541764Z",
     "iopub.status.busy": "2025-07-30T14:16:43.540870Z",
     "iopub.status.idle": "2025-07-30T14:16:43.549451Z",
     "shell.execute_reply": "2025-07-30T14:16:43.548497Z"
    },
    "papermill": {
     "duration": 0.031699,
     "end_time": "2025-07-30T14:16:43.550949",
     "exception": false,
     "start_time": "2025-07-30T14:16:43.519250",
     "status": "completed"
    },
    "tags": []
   },
   "outputs": [
    {
     "name": "stdout",
     "output_type": "stream",
     "text": [
      "Dropping features: ['frau1']\n"
     ]
    }
   ],
   "source": [
    "if len(excluded_features_columns) > 0:\n",
    "    print(f\"Dropping features: {excluded_features_columns}\")\n",
    "    X_train.drop(excluded_features_columns, axis=1, inplace=True)"
   ]
  },
  {
   "cell_type": "code",
   "execution_count": 33,
   "id": "95ab8b16",
   "metadata": {
    "execution": {
     "iopub.execute_input": "2025-07-30T14:16:43.595688Z",
     "iopub.status.busy": "2025-07-30T14:16:43.594833Z",
     "iopub.status.idle": "2025-07-30T14:16:43.645040Z",
     "shell.execute_reply": "2025-07-30T14:16:43.644086Z"
    },
    "papermill": {
     "duration": 0.073709,
     "end_time": "2025-07-30T14:16:43.646592",
     "exception": false,
     "start_time": "2025-07-30T14:16:43.572883",
     "status": "completed"
    },
    "tags": []
   },
   "outputs": [
    {
     "name": "stdout",
     "output_type": "stream",
     "text": [
      "Dropping features: ['frau1']\n"
     ]
    }
   ],
   "source": [
    "if len(excluded_features_columns) > 0:\n",
    "    print(f\"Dropping features: {excluded_features_columns}\")\n",
    "    X_test.drop(excluded_features_columns, axis=1, inplace=True)"
   ]
  },
  {
   "cell_type": "code",
   "execution_count": 34,
   "id": "1853aaf5-fb9f-46cb-a2b5-8ea4ae2237e4",
   "metadata": {
    "execution": {
     "iopub.execute_input": "2025-07-30T14:16:43.690082Z",
     "iopub.status.busy": "2025-07-30T14:16:43.689482Z",
     "iopub.status.idle": "2025-07-30T14:16:43.731702Z",
     "shell.execute_reply": "2025-07-30T14:16:43.730750Z"
    },
    "papermill": {
     "duration": 0.065276,
     "end_time": "2025-07-30T14:16:43.733334",
     "exception": false,
     "start_time": "2025-07-30T14:16:43.668058",
     "status": "completed"
    },
    "tags": []
   },
   "outputs": [
    {
     "name": "stdout",
     "output_type": "stream",
     "text": [
      "Dropping features: ['frau1']\n"
     ]
    }
   ],
   "source": [
    "if len(excluded_features_columns) > 0:\n",
    "    print(f\"Dropping features: {excluded_features_columns}\")\n",
    "    X_calib.drop(excluded_features_columns, axis=1, inplace=True)"
   ]
  },
  {
   "cell_type": "code",
   "execution_count": 35,
   "id": "6727d079-03e5-481e-9d38-292a90b7a0a8",
   "metadata": {
    "execution": {
     "iopub.execute_input": "2025-07-30T14:16:43.777985Z",
     "iopub.status.busy": "2025-07-30T14:16:43.777346Z",
     "iopub.status.idle": "2025-07-30T14:16:43.782088Z",
     "shell.execute_reply": "2025-07-30T14:16:43.781286Z"
    },
    "papermill": {
     "duration": 0.028292,
     "end_time": "2025-07-30T14:16:43.783646",
     "exception": false,
     "start_time": "2025-07-30T14:16:43.755354",
     "status": "completed"
    },
    "tags": []
   },
   "outputs": [],
   "source": [
    "# SPLIT & STRATIFY DATA\n",
    "# ----------------------"
   ]
  },
  {
   "cell_type": "code",
   "execution_count": 36,
   "id": "76c4dc6d",
   "metadata": {
    "execution": {
     "iopub.execute_input": "2025-07-30T14:16:43.828381Z",
     "iopub.status.busy": "2025-07-30T14:16:43.827713Z",
     "iopub.status.idle": "2025-07-30T14:16:43.833116Z",
     "shell.execute_reply": "2025-07-30T14:16:43.832205Z"
    },
    "papermill": {
     "duration": 0.029212,
     "end_time": "2025-07-30T14:16:43.834601",
     "exception": false,
     "start_time": "2025-07-30T14:16:43.805389",
     "status": "completed"
    },
    "tags": []
   },
   "outputs": [],
   "source": [
    "# EXCLUDE CERTAIN SUBGROUPS\n",
    "# ----------------------\n",
    "\n",
    "mode = universe.get(\"exclude_subgroups\", \"keep-all\") \n",
    "# Fetches the exclude_subgroups setting from the universe dict.\n",
    "# Defaults to \"keep-all\" if the key is missing."
   ]
  },
  {
   "cell_type": "code",
   "execution_count": 37,
   "id": "21994072",
   "metadata": {
    "execution": {
     "iopub.execute_input": "2025-07-30T14:16:43.879405Z",
     "iopub.status.busy": "2025-07-30T14:16:43.878753Z",
     "iopub.status.idle": "2025-07-30T14:16:43.885707Z",
     "shell.execute_reply": "2025-07-30T14:16:43.884891Z"
    },
    "papermill": {
     "duration": 0.030801,
     "end_time": "2025-07-30T14:16:43.887174",
     "exception": false,
     "start_time": "2025-07-30T14:16:43.856373",
     "status": "completed"
    },
    "tags": []
   },
   "outputs": [],
   "source": [
    "if mode == \"keep-all\":\n",
    "    keep_mask = pd.Series(True, index=org_train.index)\n",
    "\n",
    "# org_train contains the original feature columns from features_org (in Simson)\n",
    "# features_org contains unprocessed features, for me X_train at beginning ???\n",
    "# For keep-all, creates a boolean Series (keep_mask) of all True, so no rows are removed.\n",
    "\n",
    "elif mode == \"drop-non-german\":\n",
    "    keep_mask = org_train[\"maxdeutsch1\"] == 1 # ??? what about missing values?\n",
    "\n",
    "else:\n",
    "    raise ValueError(f\"Unsupported mode for exclude_subgroups: {mode}\")\n"
   ]
  },
  {
   "cell_type": "code",
   "execution_count": 38,
   "id": "71651440",
   "metadata": {
    "execution": {
     "iopub.execute_input": "2025-07-30T14:16:43.932600Z",
     "iopub.status.busy": "2025-07-30T14:16:43.931935Z",
     "iopub.status.idle": "2025-07-30T14:16:43.939409Z",
     "shell.execute_reply": "2025-07-30T14:16:43.938546Z"
    },
    "papermill": {
     "duration": 0.031745,
     "end_time": "2025-07-30T14:16:43.941037",
     "exception": false,
     "start_time": "2025-07-30T14:16:43.909292",
     "status": "completed"
    },
    "tags": []
   },
   "outputs": [
    {
     "name": "stdout",
     "output_type": "stream",
     "text": [
      "Dropping 657 rows (13.14%) where mode='drop-non-german'\n"
     ]
    }
   ],
   "source": [
    "n_drop = (~keep_mask).sum() # Calculates how many rows are set to be dropped\n",
    "if n_drop > 0:\n",
    "    pct = n_drop / len(keep_mask) * 100\n",
    "    print(f\"Dropping {n_drop} rows ({pct:.2f}%) where mode='{mode}'\")"
   ]
  },
  {
   "cell_type": "code",
   "execution_count": 39,
   "id": "5fb8eee5",
   "metadata": {
    "execution": {
     "iopub.execute_input": "2025-07-30T14:16:43.986820Z",
     "iopub.status.busy": "2025-07-30T14:16:43.986167Z",
     "iopub.status.idle": "2025-07-30T14:16:43.993631Z",
     "shell.execute_reply": "2025-07-30T14:16:43.992840Z"
    },
    "papermill": {
     "duration": 0.031842,
     "end_time": "2025-07-30T14:16:43.995165",
     "exception": false,
     "start_time": "2025-07-30T14:16:43.963323",
     "status": "completed"
    },
    "tags": []
   },
   "outputs": [],
   "source": [
    "X_train = X_train[keep_mask]"
   ]
  },
  {
   "cell_type": "code",
   "execution_count": 40,
   "id": "b202bb3a",
   "metadata": {
    "execution": {
     "iopub.execute_input": "2025-07-30T14:16:44.041284Z",
     "iopub.status.busy": "2025-07-30T14:16:44.040636Z",
     "iopub.status.idle": "2025-07-30T14:16:44.046727Z",
     "shell.execute_reply": "2025-07-30T14:16:44.045836Z"
    },
    "papermill": {
     "duration": 0.030667,
     "end_time": "2025-07-30T14:16:44.048313",
     "exception": false,
     "start_time": "2025-07-30T14:16:44.017646",
     "status": "completed"
    },
    "tags": []
   },
   "outputs": [],
   "source": [
    "y_train = y_train[keep_mask]"
   ]
  },
  {
   "cell_type": "markdown",
   "id": "493e2ac3",
   "metadata": {
    "papermill": {
     "duration": 0.021867,
     "end_time": "2025-07-30T14:16:44.092738",
     "exception": false,
     "start_time": "2025-07-30T14:16:44.070871",
     "status": "completed"
    },
    "tags": []
   },
   "source": [
    "# Model Training"
   ]
  },
  {
   "cell_type": "code",
   "execution_count": 41,
   "id": "679e1268",
   "metadata": {
    "execution": {
     "iopub.execute_input": "2025-07-30T14:16:44.138829Z",
     "iopub.status.busy": "2025-07-30T14:16:44.138103Z",
     "iopub.status.idle": "2025-07-30T14:16:44.235964Z",
     "shell.execute_reply": "2025-07-30T14:16:44.235112Z"
    },
    "papermill": {
     "duration": 0.122966,
     "end_time": "2025-07-30T14:16:44.237738",
     "exception": false,
     "start_time": "2025-07-30T14:16:44.114772",
     "status": "completed"
    },
    "tags": []
   },
   "outputs": [],
   "source": [
    "from sklearn.linear_model import LogisticRegression\n",
    "from sklearn.ensemble import GradientBoostingClassifier, RandomForestClassifier\n",
    "\n",
    "if (universe[\"model\"] == \"logreg\"):\n",
    "    model = LogisticRegression() #penalty=\"none\") #, solver=\"newton-cg\", max_iter=1) # include random_state=19 ?\n",
    "elif (universe[\"model\"] == \"penalized_logreg\"):\n",
    "    model = LogisticRegression(penalty=\"l2\", C=1.0) #, solver=\"newton-cg\", max_iter=1)\n",
    "elif (universe[\"model\"] == \"rf\"):\n",
    "    model = RandomForestClassifier(n_estimators=100, n_jobs=-1)\n",
    "elif (universe[\"model\"] == \"gbm\"):\n",
    "    model = GradientBoostingClassifier()\n",
    "elif (universe[\"model\"] == \"elasticnet\"):\n",
    "    model = LogisticRegression(penalty = 'elasticnet', solver = 'saga', l1_ratio = 0.5, max_iter=5000) # which solver to use?\n",
    "else:\n",
    "    raise \"Unsupported universe.model\""
   ]
  },
  {
   "cell_type": "code",
   "execution_count": 42,
   "id": "0cc8f744",
   "metadata": {
    "execution": {
     "iopub.execute_input": "2025-07-30T14:16:44.283742Z",
     "iopub.status.busy": "2025-07-30T14:16:44.283100Z",
     "iopub.status.idle": "2025-07-30T14:16:44.289363Z",
     "shell.execute_reply": "2025-07-30T14:16:44.288457Z"
    },
    "papermill": {
     "duration": 0.031027,
     "end_time": "2025-07-30T14:16:44.290931",
     "exception": false,
     "start_time": "2025-07-30T14:16:44.259904",
     "status": "completed"
    },
    "tags": []
   },
   "outputs": [],
   "source": [
    "import numpy as np\n",
    "from sklearn.pipeline import Pipeline\n",
    "from sklearn.preprocessing import StandardScaler\n",
    "\n",
    "model = Pipeline([\n",
    "    #(\"continuous_processor\", continuous_processor),\n",
    "    #(\"categorical_preprocessor\", categorical_preprocessor),\n",
    "    (\"scale\", StandardScaler() if universe[\"scale\"] == \"scale\" else None), \n",
    "    (\"model\", model),\n",
    "])"
   ]
  },
  {
   "cell_type": "code",
   "execution_count": 43,
   "id": "9442c04d",
   "metadata": {
    "execution": {
     "iopub.execute_input": "2025-07-30T14:16:44.337207Z",
     "iopub.status.busy": "2025-07-30T14:16:44.336562Z",
     "iopub.status.idle": "2025-07-30T14:18:07.463243Z",
     "shell.execute_reply": "2025-07-30T14:18:07.462258Z"
    },
    "papermill": {
     "duration": 83.177865,
     "end_time": "2025-07-30T14:18:07.491326",
     "exception": false,
     "start_time": "2025-07-30T14:16:44.313461",
     "status": "completed"
    },
    "tags": []
   },
   "outputs": [
    {
     "data": {
      "text/html": [
       "<style>#sk-container-id-1 {color: black;background-color: white;}#sk-container-id-1 pre{padding: 0;}#sk-container-id-1 div.sk-toggleable {background-color: white;}#sk-container-id-1 label.sk-toggleable__label {cursor: pointer;display: block;width: 100%;margin-bottom: 0;padding: 0.3em;box-sizing: border-box;text-align: center;}#sk-container-id-1 label.sk-toggleable__label-arrow:before {content: \"▸\";float: left;margin-right: 0.25em;color: #696969;}#sk-container-id-1 label.sk-toggleable__label-arrow:hover:before {color: black;}#sk-container-id-1 div.sk-estimator:hover label.sk-toggleable__label-arrow:before {color: black;}#sk-container-id-1 div.sk-toggleable__content {max-height: 0;max-width: 0;overflow: hidden;text-align: left;background-color: #f0f8ff;}#sk-container-id-1 div.sk-toggleable__content pre {margin: 0.2em;color: black;border-radius: 0.25em;background-color: #f0f8ff;}#sk-container-id-1 input.sk-toggleable__control:checked~div.sk-toggleable__content {max-height: 200px;max-width: 100%;overflow: auto;}#sk-container-id-1 input.sk-toggleable__control:checked~label.sk-toggleable__label-arrow:before {content: \"▾\";}#sk-container-id-1 div.sk-estimator input.sk-toggleable__control:checked~label.sk-toggleable__label {background-color: #d4ebff;}#sk-container-id-1 div.sk-label input.sk-toggleable__control:checked~label.sk-toggleable__label {background-color: #d4ebff;}#sk-container-id-1 input.sk-hidden--visually {border: 0;clip: rect(1px 1px 1px 1px);clip: rect(1px, 1px, 1px, 1px);height: 1px;margin: -1px;overflow: hidden;padding: 0;position: absolute;width: 1px;}#sk-container-id-1 div.sk-estimator {font-family: monospace;background-color: #f0f8ff;border: 1px dotted black;border-radius: 0.25em;box-sizing: border-box;margin-bottom: 0.5em;}#sk-container-id-1 div.sk-estimator:hover {background-color: #d4ebff;}#sk-container-id-1 div.sk-parallel-item::after {content: \"\";width: 100%;border-bottom: 1px solid gray;flex-grow: 1;}#sk-container-id-1 div.sk-label:hover label.sk-toggleable__label {background-color: #d4ebff;}#sk-container-id-1 div.sk-serial::before {content: \"\";position: absolute;border-left: 1px solid gray;box-sizing: border-box;top: 0;bottom: 0;left: 50%;z-index: 0;}#sk-container-id-1 div.sk-serial {display: flex;flex-direction: column;align-items: center;background-color: white;padding-right: 0.2em;padding-left: 0.2em;position: relative;}#sk-container-id-1 div.sk-item {position: relative;z-index: 1;}#sk-container-id-1 div.sk-parallel {display: flex;align-items: stretch;justify-content: center;background-color: white;position: relative;}#sk-container-id-1 div.sk-item::before, #sk-container-id-1 div.sk-parallel-item::before {content: \"\";position: absolute;border-left: 1px solid gray;box-sizing: border-box;top: 0;bottom: 0;left: 50%;z-index: -1;}#sk-container-id-1 div.sk-parallel-item {display: flex;flex-direction: column;z-index: 1;position: relative;background-color: white;}#sk-container-id-1 div.sk-parallel-item:first-child::after {align-self: flex-end;width: 50%;}#sk-container-id-1 div.sk-parallel-item:last-child::after {align-self: flex-start;width: 50%;}#sk-container-id-1 div.sk-parallel-item:only-child::after {width: 0;}#sk-container-id-1 div.sk-dashed-wrapped {border: 1px dashed gray;margin: 0 0.4em 0.5em 0.4em;box-sizing: border-box;padding-bottom: 0.4em;background-color: white;}#sk-container-id-1 div.sk-label label {font-family: monospace;font-weight: bold;display: inline-block;line-height: 1.2em;}#sk-container-id-1 div.sk-label-container {text-align: center;}#sk-container-id-1 div.sk-container {/* jupyter's `normalize.less` sets `[hidden] { display: none; }` but bootstrap.min.css set `[hidden] { display: none !important; }` so we also need the `!important` here to be able to override the default hidden behavior on the sphinx rendered scikit-learn.org. See: https://github.com/scikit-learn/scikit-learn/issues/21755 */display: inline-block !important;position: relative;}#sk-container-id-1 div.sk-text-repr-fallback {display: none;}</style><div id=\"sk-container-id-1\" class=\"sk-top-container\"><div class=\"sk-text-repr-fallback\"><pre>Pipeline(steps=[(&#x27;scale&#x27;, None),\n",
       "                (&#x27;model&#x27;,\n",
       "                 LogisticRegression(l1_ratio=0.5, max_iter=5000,\n",
       "                                    penalty=&#x27;elasticnet&#x27;, solver=&#x27;saga&#x27;))])</pre><b>In a Jupyter environment, please rerun this cell to show the HTML representation or trust the notebook. <br />On GitHub, the HTML representation is unable to render, please try loading this page with nbviewer.org.</b></div><div class=\"sk-container\" hidden><div class=\"sk-item sk-dashed-wrapped\"><div class=\"sk-label-container\"><div class=\"sk-label sk-toggleable\"><input class=\"sk-toggleable__control sk-hidden--visually\" id=\"sk-estimator-id-1\" type=\"checkbox\" ><label for=\"sk-estimator-id-1\" class=\"sk-toggleable__label sk-toggleable__label-arrow\">Pipeline</label><div class=\"sk-toggleable__content\"><pre>Pipeline(steps=[(&#x27;scale&#x27;, None),\n",
       "                (&#x27;model&#x27;,\n",
       "                 LogisticRegression(l1_ratio=0.5, max_iter=5000,\n",
       "                                    penalty=&#x27;elasticnet&#x27;, solver=&#x27;saga&#x27;))])</pre></div></div></div><div class=\"sk-serial\"><div class=\"sk-item\"><div class=\"sk-estimator sk-toggleable\"><input class=\"sk-toggleable__control sk-hidden--visually\" id=\"sk-estimator-id-2\" type=\"checkbox\" ><label for=\"sk-estimator-id-2\" class=\"sk-toggleable__label sk-toggleable__label-arrow\">None</label><div class=\"sk-toggleable__content\"><pre>None</pre></div></div></div><div class=\"sk-item\"><div class=\"sk-estimator sk-toggleable\"><input class=\"sk-toggleable__control sk-hidden--visually\" id=\"sk-estimator-id-3\" type=\"checkbox\" ><label for=\"sk-estimator-id-3\" class=\"sk-toggleable__label sk-toggleable__label-arrow\">LogisticRegression</label><div class=\"sk-toggleable__content\"><pre>LogisticRegression(l1_ratio=0.5, max_iter=5000, penalty=&#x27;elasticnet&#x27;,\n",
       "                   solver=&#x27;saga&#x27;)</pre></div></div></div></div></div></div></div>"
      ],
      "text/plain": [
       "Pipeline(steps=[('scale', None),\n",
       "                ('model',\n",
       "                 LogisticRegression(l1_ratio=0.5, max_iter=5000,\n",
       "                                    penalty='elasticnet', solver='saga'))])"
      ]
     },
     "execution_count": 43,
     "metadata": {},
     "output_type": "execute_result"
    }
   ],
   "source": [
    "model.fit(X_train, y_train.values.ravel())"
   ]
  },
  {
   "cell_type": "code",
   "execution_count": 44,
   "id": "af59f8c0",
   "metadata": {
    "execution": {
     "iopub.execute_input": "2025-07-30T14:18:07.539528Z",
     "iopub.status.busy": "2025-07-30T14:18:07.539014Z",
     "iopub.status.idle": "2025-07-30T14:18:07.544766Z",
     "shell.execute_reply": "2025-07-30T14:18:07.543842Z"
    },
    "papermill": {
     "duration": 0.033115,
     "end_time": "2025-07-30T14:18:07.546302",
     "exception": false,
     "start_time": "2025-07-30T14:18:07.513187",
     "status": "completed"
    },
    "tags": []
   },
   "outputs": [],
   "source": [
    "from fairness_multiverse.universe import predict_w_threshold"
   ]
  },
  {
   "cell_type": "code",
   "execution_count": 45,
   "id": "a7cf2e16",
   "metadata": {
    "execution": {
     "iopub.execute_input": "2025-07-30T14:18:07.583884Z",
     "iopub.status.busy": "2025-07-30T14:18:07.583499Z",
     "iopub.status.idle": "2025-07-30T14:18:07.672927Z",
     "shell.execute_reply": "2025-07-30T14:18:07.672084Z"
    },
    "papermill": {
     "duration": 0.104474,
     "end_time": "2025-07-30T14:18:07.674322",
     "exception": false,
     "start_time": "2025-07-30T14:18:07.569848",
     "status": "completed"
    },
    "tags": []
   },
   "outputs": [
    {
     "data": {
      "text/plain": [
       "0.856716085163304"
      ]
     },
     "execution_count": 45,
     "metadata": {},
     "output_type": "execute_result"
    }
   ],
   "source": [
    "probs_test = model.predict_proba(X_test)\n",
    "\n",
    "'''\n",
    "Below code returns a boolean array (or binary 0/1 array depending on how it’s used) where each element \n",
    "is True if the probability of class 1 is greater than or equal to the threshold, and False otherwise.\n",
    "'''\n",
    "y_pred_default = predict_w_threshold(probs_test, 0.5)\n",
    "\n",
    "from sklearn.metrics import accuracy_score\n",
    "\n",
    "# Naive prediction\n",
    "accuracy_score(y_true = y_true, y_pred = y_pred_default)"
   ]
  },
  {
   "cell_type": "code",
   "execution_count": 46,
   "id": "081964c3",
   "metadata": {
    "execution": {
     "iopub.execute_input": "2025-07-30T14:18:07.700193Z",
     "iopub.status.busy": "2025-07-30T14:18:07.699562Z",
     "iopub.status.idle": "2025-07-30T14:18:07.775440Z",
     "shell.execute_reply": "2025-07-30T14:18:07.774740Z"
    },
    "papermill": {
     "duration": 0.089708,
     "end_time": "2025-07-30T14:18:07.776719",
     "exception": false,
     "start_time": "2025-07-30T14:18:07.687011",
     "status": "completed"
    },
    "tags": []
   },
   "outputs": [
    {
     "data": {
      "text/plain": [
       "array([0, 0, 0, ..., 0, 0, 0])"
      ]
     },
     "execution_count": 46,
     "metadata": {},
     "output_type": "execute_result"
    }
   ],
   "source": [
    "model.predict(X_test)"
   ]
  },
  {
   "cell_type": "markdown",
   "id": "56c9705b",
   "metadata": {
    "papermill": {
     "duration": 0.022655,
     "end_time": "2025-07-30T14:18:07.824896",
     "exception": false,
     "start_time": "2025-07-30T14:18:07.802241",
     "status": "completed"
    },
    "tags": []
   },
   "source": [
    "# Conformal Prediction"
   ]
  },
  {
   "cell_type": "code",
   "execution_count": 47,
   "id": "160ec6ff",
   "metadata": {
    "execution": {
     "iopub.execute_input": "2025-07-30T14:18:07.874351Z",
     "iopub.status.busy": "2025-07-30T14:18:07.873863Z",
     "iopub.status.idle": "2025-07-30T14:18:07.879225Z",
     "shell.execute_reply": "2025-07-30T14:18:07.878271Z"
    },
    "papermill": {
     "duration": 0.031318,
     "end_time": "2025-07-30T14:18:07.880913",
     "exception": false,
     "start_time": "2025-07-30T14:18:07.849595",
     "status": "completed"
    },
    "tags": []
   },
   "outputs": [],
   "source": [
    "# Miscoverage level for conformal prediction (10% allowed error rate => 90% target coverage)\n",
    "alpha = 0.1"
   ]
  },
  {
   "cell_type": "code",
   "execution_count": 48,
   "id": "eadf4555-3dd3-440e-8e35-f82a4ad9f855",
   "metadata": {
    "execution": {
     "iopub.execute_input": "2025-07-30T14:18:07.925327Z",
     "iopub.status.busy": "2025-07-30T14:18:07.924924Z",
     "iopub.status.idle": "2025-07-30T14:18:08.026005Z",
     "shell.execute_reply": "2025-07-30T14:18:08.025020Z"
    },
    "papermill": {
     "duration": 0.123412,
     "end_time": "2025-07-30T14:18:08.029513",
     "exception": false,
     "start_time": "2025-07-30T14:18:07.906101",
     "status": "completed"
    },
    "tags": []
   },
   "outputs": [],
   "source": [
    "probs_calib = model.predict_proba(X_calib)"
   ]
  },
  {
   "cell_type": "code",
   "execution_count": 49,
   "id": "2ed93547-6d5d-4983-9b36-1ecb300da49a",
   "metadata": {
    "execution": {
     "iopub.execute_input": "2025-07-30T14:18:08.079395Z",
     "iopub.status.busy": "2025-07-30T14:18:08.079032Z",
     "iopub.status.idle": "2025-07-30T14:18:08.084174Z",
     "shell.execute_reply": "2025-07-30T14:18:08.083417Z"
    },
    "papermill": {
     "duration": 0.030796,
     "end_time": "2025-07-30T14:18:08.085616",
     "exception": false,
     "start_time": "2025-07-30T14:18:08.054820",
     "status": "completed"
    },
    "tags": []
   },
   "outputs": [],
   "source": [
    "y_calib = y_calib.values.ravel().astype(int)"
   ]
  },
  {
   "cell_type": "code",
   "execution_count": 50,
   "id": "65d1320d-f588-4b38-9072-62af1ae97f7d",
   "metadata": {
    "execution": {
     "iopub.execute_input": "2025-07-30T14:18:08.113976Z",
     "iopub.status.busy": "2025-07-30T14:18:08.113431Z",
     "iopub.status.idle": "2025-07-30T14:18:08.120493Z",
     "shell.execute_reply": "2025-07-30T14:18:08.119786Z"
    },
    "papermill": {
     "duration": 0.022096,
     "end_time": "2025-07-30T14:18:08.121778",
     "exception": false,
     "start_time": "2025-07-30T14:18:08.099682",
     "status": "completed"
    },
    "tags": []
   },
   "outputs": [],
   "source": [
    "from fairness_multiverse.conformal import compute_nc_scores\n",
    "\n",
    "# Compute nonconformity scores on calibration set (1 - probability of true class)\n",
    "nc_scores = compute_nc_scores(probs_calib, y_calib)"
   ]
  },
  {
   "cell_type": "code",
   "execution_count": 51,
   "id": "df3b8ca3-53b7-43d5-9667-7c85da7aeda2",
   "metadata": {
    "execution": {
     "iopub.execute_input": "2025-07-30T14:18:08.149902Z",
     "iopub.status.busy": "2025-07-30T14:18:08.149390Z",
     "iopub.status.idle": "2025-07-30T14:18:08.155346Z",
     "shell.execute_reply": "2025-07-30T14:18:08.154571Z"
    },
    "papermill": {
     "duration": 0.021768,
     "end_time": "2025-07-30T14:18:08.156920",
     "exception": false,
     "start_time": "2025-07-30T14:18:08.135152",
     "status": "completed"
    },
    "tags": []
   },
   "outputs": [],
   "source": [
    "from fairness_multiverse.conformal import find_threshold\n",
    "\n",
    "# Find conformal threshold q_hat for the given alpha (split conformal method)\n",
    "q_hat = find_threshold(nc_scores, alpha)"
   ]
  },
  {
   "cell_type": "code",
   "execution_count": 52,
   "id": "4d29e6c1-0ef6-4aa4-b8fe-4fe79b0d033a",
   "metadata": {
    "execution": {
     "iopub.execute_input": "2025-07-30T14:18:08.209478Z",
     "iopub.status.busy": "2025-07-30T14:18:08.208988Z",
     "iopub.status.idle": "2025-07-30T14:18:08.216183Z",
     "shell.execute_reply": "2025-07-30T14:18:08.215233Z"
    },
    "papermill": {
     "duration": 0.035101,
     "end_time": "2025-07-30T14:18:08.217975",
     "exception": false,
     "start_time": "2025-07-30T14:18:08.182874",
     "status": "completed"
    },
    "tags": []
   },
   "outputs": [
    {
     "data": {
      "text/plain": [
       "0.6843727394942878"
      ]
     },
     "execution_count": 52,
     "metadata": {},
     "output_type": "execute_result"
    }
   ],
   "source": [
    "q_hat"
   ]
  },
  {
   "cell_type": "code",
   "execution_count": 53,
   "id": "92460794-cdac-4be2-ba28-f28c0515a6fb",
   "metadata": {
    "execution": {
     "iopub.execute_input": "2025-07-30T14:18:08.268105Z",
     "iopub.status.busy": "2025-07-30T14:18:08.267537Z",
     "iopub.status.idle": "2025-07-30T14:18:09.105818Z",
     "shell.execute_reply": "2025-07-30T14:18:09.105108Z"
    },
    "papermill": {
     "duration": 0.864155,
     "end_time": "2025-07-30T14:18:09.107706",
     "exception": false,
     "start_time": "2025-07-30T14:18:08.243551",
     "status": "completed"
    },
    "tags": []
   },
   "outputs": [],
   "source": [
    "from fairness_multiverse.conformal import predict_conformal_sets\n",
    "\n",
    "# Generate prediction sets for each test example\n",
    "pred_sets = predict_conformal_sets(model, X_test, q_hat)"
   ]
  },
  {
   "cell_type": "code",
   "execution_count": 54,
   "id": "d90c9a65-e6db-4f5d-80cd-e68fb7e46829",
   "metadata": {
    "execution": {
     "iopub.execute_input": "2025-07-30T14:18:09.164132Z",
     "iopub.status.busy": "2025-07-30T14:18:09.163536Z",
     "iopub.status.idle": "2025-07-30T14:18:09.168941Z",
     "shell.execute_reply": "2025-07-30T14:18:09.168001Z"
    },
    "papermill": {
     "duration": 0.025243,
     "end_time": "2025-07-30T14:18:09.170536",
     "exception": false,
     "start_time": "2025-07-30T14:18:09.145293",
     "status": "completed"
    },
    "tags": []
   },
   "outputs": [],
   "source": [
    "y_true = y_true.squeeze()"
   ]
  },
  {
   "cell_type": "code",
   "execution_count": 55,
   "id": "3a58a54a-1e68-46b9-927a-df01f18aebc8",
   "metadata": {
    "execution": {
     "iopub.execute_input": "2025-07-30T14:18:09.223397Z",
     "iopub.status.busy": "2025-07-30T14:18:09.222320Z",
     "iopub.status.idle": "2025-07-30T14:18:09.959071Z",
     "shell.execute_reply": "2025-07-30T14:18:09.958102Z"
    },
    "papermill": {
     "duration": 0.764725,
     "end_time": "2025-07-30T14:18:09.961043",
     "exception": false,
     "start_time": "2025-07-30T14:18:09.196318",
     "status": "completed"
    },
    "tags": []
   },
   "outputs": [],
   "source": [
    "from fairness_multiverse.conformal import evaluate_sets\n",
    "\n",
    "# Evaluate coverage and average set size on test data\n",
    "metrics = evaluate_sets(pred_sets, y_true)"
   ]
  },
  {
   "cell_type": "markdown",
   "id": "2b569c12-9aaa-4c88-98c9-bbcd0cf3ebb8",
   "metadata": {
    "papermill": {
     "duration": 0.025709,
     "end_time": "2025-07-30T14:18:10.011376",
     "exception": false,
     "start_time": "2025-07-30T14:18:09.985667",
     "status": "completed"
    },
    "tags": []
   },
   "source": [
    "# CP Metrics"
   ]
  },
  {
   "cell_type": "code",
   "execution_count": 56,
   "id": "5ce0a5cb-201f-45a0-ade5-94c7f0bd6095",
   "metadata": {
    "execution": {
     "iopub.execute_input": "2025-07-30T14:18:10.050949Z",
     "iopub.status.busy": "2025-07-30T14:18:10.050543Z",
     "iopub.status.idle": "2025-07-30T14:18:10.057628Z",
     "shell.execute_reply": "2025-07-30T14:18:10.056674Z"
    },
    "papermill": {
     "duration": 0.023348,
     "end_time": "2025-07-30T14:18:10.058918",
     "exception": false,
     "start_time": "2025-07-30T14:18:10.035570",
     "status": "completed"
    },
    "tags": []
   },
   "outputs": [
    {
     "data": {
      "text/plain": [
       "{'coverage': 0.9099431501504849, 'avg_size': 1.1536617991305318}"
      ]
     },
     "execution_count": 56,
     "metadata": {},
     "output_type": "execute_result"
    }
   ],
   "source": [
    "metrics"
   ]
  },
  {
   "cell_type": "code",
   "execution_count": 57,
   "id": "9b9a838d-31c9-430b-ae14-12baee460d17",
   "metadata": {
    "execution": {
     "iopub.execute_input": "2025-07-30T14:18:10.087278Z",
     "iopub.status.busy": "2025-07-30T14:18:10.086944Z",
     "iopub.status.idle": "2025-07-30T14:18:10.092075Z",
     "shell.execute_reply": "2025-07-30T14:18:10.091304Z"
    },
    "papermill": {
     "duration": 0.0201,
     "end_time": "2025-07-30T14:18:10.093545",
     "exception": false,
     "start_time": "2025-07-30T14:18:10.073445",
     "status": "completed"
    },
    "tags": []
   },
   "outputs": [],
   "source": [
    "example_universe = universe.copy()\n",
    "universe_training_size = example_universe.get(\"training_size\")\n",
    "universe_scale = example_universe.get(\"scale\")\n",
    "universe_model = example_universe.get(\"model\")\n",
    "universe_exclude_features = example_universe.get(\"exclude_features\")\n",
    "universe_exclude_subgroups = example_universe.get(\"exclude_subgroups\")"
   ]
  },
  {
   "cell_type": "code",
   "execution_count": 58,
   "id": "f4b6a8ac-9dc0-4245-8a91-5b3b5999c4f9",
   "metadata": {
    "execution": {
     "iopub.execute_input": "2025-07-30T14:18:10.122632Z",
     "iopub.status.busy": "2025-07-30T14:18:10.122202Z",
     "iopub.status.idle": "2025-07-30T14:18:10.127341Z",
     "shell.execute_reply": "2025-07-30T14:18:10.126666Z"
    },
    "papermill": {
     "duration": 0.020525,
     "end_time": "2025-07-30T14:18:10.128619",
     "exception": false,
     "start_time": "2025-07-30T14:18:10.108094",
     "status": "completed"
    },
    "tags": []
   },
   "outputs": [],
   "source": [
    "cp_metrics_dict = {\n",
    "    \"universe_id\": [universe_id],\n",
    "    \"universe_training_size\": [universe_training_size],\n",
    "    \"universe_scale\": [universe_scale],\n",
    "    \"universe_model\": [universe_model],\n",
    "    \"universe_exclude_features\": [universe_exclude_features],\n",
    "    \"universe_exclude_subgroups\": [universe_exclude_subgroups],\n",
    "    \"q_hat\": [q_hat],\n",
    "    \"coverage\": [metrics[\"coverage\"]],\n",
    "    \"avg_size\": [metrics[\"avg_size\"]],\n",
    "}"
   ]
  },
  {
   "cell_type": "code",
   "execution_count": 59,
   "id": "908acbb1-0371-4915-85ca-3fa520d2efe2",
   "metadata": {
    "execution": {
     "iopub.execute_input": "2025-07-30T14:18:10.157343Z",
     "iopub.status.busy": "2025-07-30T14:18:10.156836Z",
     "iopub.status.idle": "2025-07-30T14:18:10.163369Z",
     "shell.execute_reply": "2025-07-30T14:18:10.162627Z"
    },
    "papermill": {
     "duration": 0.022198,
     "end_time": "2025-07-30T14:18:10.164709",
     "exception": false,
     "start_time": "2025-07-30T14:18:10.142511",
     "status": "completed"
    },
    "tags": []
   },
   "outputs": [
    {
     "data": {
      "text/plain": [
       "{'universe_id': ['cd676979db45ec30e33296bc6e9a9e6d'],\n",
       " 'universe_training_size': ['5k'],\n",
       " 'universe_scale': ['do-not-scale'],\n",
       " 'universe_model': ['elasticnet'],\n",
       " 'universe_exclude_features': ['sex'],\n",
       " 'universe_exclude_subgroups': ['drop-non-german'],\n",
       " 'q_hat': [0.6843727394942878],\n",
       " 'coverage': [0.9099431501504849],\n",
       " 'avg_size': [1.1536617991305318]}"
      ]
     },
     "execution_count": 59,
     "metadata": {},
     "output_type": "execute_result"
    }
   ],
   "source": [
    "cp_metrics_dict"
   ]
  },
  {
   "cell_type": "code",
   "execution_count": 60,
   "id": "33007efc-14e9-4ec6-97ac-56a455c82265",
   "metadata": {
    "execution": {
     "iopub.execute_input": "2025-07-30T14:18:10.193512Z",
     "iopub.status.busy": "2025-07-30T14:18:10.192946Z",
     "iopub.status.idle": "2025-07-30T14:18:10.198472Z",
     "shell.execute_reply": "2025-07-30T14:18:10.197808Z"
    },
    "papermill": {
     "duration": 0.020844,
     "end_time": "2025-07-30T14:18:10.199699",
     "exception": false,
     "start_time": "2025-07-30T14:18:10.178855",
     "status": "completed"
    },
    "tags": []
   },
   "outputs": [],
   "source": [
    "cp_metrics_df = pd.DataFrame(cp_metrics_dict)"
   ]
  },
  {
   "cell_type": "code",
   "execution_count": 61,
   "id": "db12611b-57b2-4910-b9d0-355adfd6e7bf",
   "metadata": {
    "execution": {
     "iopub.execute_input": "2025-07-30T14:18:10.227336Z",
     "iopub.status.busy": "2025-07-30T14:18:10.226694Z",
     "iopub.status.idle": "2025-07-30T14:18:10.239976Z",
     "shell.execute_reply": "2025-07-30T14:18:10.239314Z"
    },
    "papermill": {
     "duration": 0.027942,
     "end_time": "2025-07-30T14:18:10.241201",
     "exception": false,
     "start_time": "2025-07-30T14:18:10.213259",
     "status": "completed"
    },
    "tags": []
   },
   "outputs": [
    {
     "data": {
      "text/html": [
       "<div>\n",
       "<style scoped>\n",
       "    .dataframe tbody tr th:only-of-type {\n",
       "        vertical-align: middle;\n",
       "    }\n",
       "\n",
       "    .dataframe tbody tr th {\n",
       "        vertical-align: top;\n",
       "    }\n",
       "\n",
       "    .dataframe thead th {\n",
       "        text-align: right;\n",
       "    }\n",
       "</style>\n",
       "<table border=\"1\" class=\"dataframe\">\n",
       "  <thead>\n",
       "    <tr style=\"text-align: right;\">\n",
       "      <th></th>\n",
       "      <th>universe_id</th>\n",
       "      <th>universe_training_size</th>\n",
       "      <th>universe_scale</th>\n",
       "      <th>universe_model</th>\n",
       "      <th>universe_exclude_features</th>\n",
       "      <th>universe_exclude_subgroups</th>\n",
       "      <th>q_hat</th>\n",
       "      <th>coverage</th>\n",
       "      <th>avg_size</th>\n",
       "    </tr>\n",
       "  </thead>\n",
       "  <tbody>\n",
       "    <tr>\n",
       "      <th>0</th>\n",
       "      <td>cd676979db45ec30e33296bc6e9a9e6d</td>\n",
       "      <td>5k</td>\n",
       "      <td>do-not-scale</td>\n",
       "      <td>elasticnet</td>\n",
       "      <td>sex</td>\n",
       "      <td>drop-non-german</td>\n",
       "      <td>0.684373</td>\n",
       "      <td>0.909943</td>\n",
       "      <td>1.153662</td>\n",
       "    </tr>\n",
       "  </tbody>\n",
       "</table>\n",
       "</div>"
      ],
      "text/plain": [
       "                        universe_id universe_training_size universe_scale  \\\n",
       "0  cd676979db45ec30e33296bc6e9a9e6d                     5k   do-not-scale   \n",
       "\n",
       "  universe_model universe_exclude_features universe_exclude_subgroups  \\\n",
       "0     elasticnet                       sex            drop-non-german   \n",
       "\n",
       "      q_hat  coverage  avg_size  \n",
       "0  0.684373  0.909943  1.153662  "
      ]
     },
     "execution_count": 61,
     "metadata": {},
     "output_type": "execute_result"
    }
   ],
   "source": [
    "cp_metrics_df"
   ]
  },
  {
   "cell_type": "code",
   "execution_count": 62,
   "id": "b7fbde55-a0a1-47e4-9af6-fe4a17fa8c61",
   "metadata": {
    "execution": {
     "iopub.execute_input": "2025-07-30T14:18:10.270134Z",
     "iopub.status.busy": "2025-07-30T14:18:10.269640Z",
     "iopub.status.idle": "2025-07-30T14:18:10.274092Z",
     "shell.execute_reply": "2025-07-30T14:18:10.273432Z"
    },
    "papermill": {
     "duration": 0.020213,
     "end_time": "2025-07-30T14:18:10.275267",
     "exception": false,
     "start_time": "2025-07-30T14:18:10.255054",
     "status": "completed"
    },
    "tags": []
   },
   "outputs": [],
   "source": [
    "# Conditional Coverage & looking at subgroups"
   ]
  },
  {
   "cell_type": "code",
   "execution_count": 63,
   "id": "027ae886-68dd-4141-96c7-805a5450e1ef",
   "metadata": {
    "execution": {
     "iopub.execute_input": "2025-07-30T14:18:10.318830Z",
     "iopub.status.busy": "2025-07-30T14:18:10.318369Z",
     "iopub.status.idle": "2025-07-30T14:18:10.572474Z",
     "shell.execute_reply": "2025-07-30T14:18:10.571518Z"
    },
    "papermill": {
     "duration": 0.28458,
     "end_time": "2025-07-30T14:18:10.574005",
     "exception": false,
     "start_time": "2025-07-30T14:18:10.289425",
     "status": "completed"
    },
    "tags": []
   },
   "outputs": [],
   "source": [
    "from fairness_multiverse.conformal import build_cp_groups\n",
    "\n",
    "cp_groups_df = build_cp_groups(pred_sets, y_true, X_test.index, org_test)\n",
    "#needs universe_id and setting"
   ]
  },
  {
   "cell_type": "code",
   "execution_count": 64,
   "id": "01d5802c-663a-4d1f-9d69-e036faaffbf7",
   "metadata": {
    "execution": {
     "iopub.execute_input": "2025-07-30T14:18:10.631687Z",
     "iopub.status.busy": "2025-07-30T14:18:10.631029Z",
     "iopub.status.idle": "2025-07-30T14:18:10.635862Z",
     "shell.execute_reply": "2025-07-30T14:18:10.634982Z"
    },
    "papermill": {
     "duration": 0.036242,
     "end_time": "2025-07-30T14:18:10.637556",
     "exception": false,
     "start_time": "2025-07-30T14:18:10.601314",
     "status": "completed"
    },
    "tags": []
   },
   "outputs": [],
   "source": [
    "#delete\n",
    "#cp_groups_df"
   ]
  },
  {
   "cell_type": "code",
   "execution_count": 65,
   "id": "fa424af1-d1eb-443d-b717-2d279ada8408",
   "metadata": {
    "execution": {
     "iopub.execute_input": "2025-07-30T14:18:10.696763Z",
     "iopub.status.busy": "2025-07-30T14:18:10.696087Z",
     "iopub.status.idle": "2025-07-30T14:18:10.701169Z",
     "shell.execute_reply": "2025-07-30T14:18:10.700194Z"
    },
    "papermill": {
     "duration": 0.0363,
     "end_time": "2025-07-30T14:18:10.702790",
     "exception": false,
     "start_time": "2025-07-30T14:18:10.666490",
     "status": "completed"
    },
    "tags": []
   },
   "outputs": [],
   "source": [
    "#delete\n",
    "#percentage = (cp_groups_df['nongerman_female'] == 1).mean() * 100\n",
    "#print(percentage)\n"
   ]
  },
  {
   "cell_type": "code",
   "execution_count": 66,
   "id": "6cbdab96-b2b2-45af-ad54-d0516db2e28d",
   "metadata": {
    "execution": {
     "iopub.execute_input": "2025-07-30T14:18:10.761802Z",
     "iopub.status.busy": "2025-07-30T14:18:10.761233Z",
     "iopub.status.idle": "2025-07-30T14:18:12.187634Z",
     "shell.execute_reply": "2025-07-30T14:18:12.186769Z"
    },
    "papermill": {
     "duration": 1.458027,
     "end_time": "2025-07-30T14:18:12.189496",
     "exception": false,
     "start_time": "2025-07-30T14:18:10.731469",
     "status": "completed"
    },
    "tags": []
   },
   "outputs": [],
   "source": [
    "# Define covered = 1 if true_label is in the predicted set\n",
    "cp_groups_df['covered'] = cp_groups_df.apply(\n",
    "    lambda r: int(r['true_label'] in r['pred_set']),\n",
    "    axis=1\n",
    ")"
   ]
  },
  {
   "cell_type": "code",
   "execution_count": 67,
   "id": "338ff529-1a6b-4b87-a931-8e4788d52aad",
   "metadata": {
    "execution": {
     "iopub.execute_input": "2025-07-30T14:18:12.277621Z",
     "iopub.status.busy": "2025-07-30T14:18:12.277151Z",
     "iopub.status.idle": "2025-07-30T14:18:12.281872Z",
     "shell.execute_reply": "2025-07-30T14:18:12.281144Z"
    },
    "papermill": {
     "duration": 0.022099,
     "end_time": "2025-07-30T14:18:12.283183",
     "exception": false,
     "start_time": "2025-07-30T14:18:12.261084",
     "status": "completed"
    },
    "tags": []
   },
   "outputs": [],
   "source": [
    "#cp_groups_df"
   ]
  },
  {
   "cell_type": "code",
   "execution_count": 68,
   "id": "90032e27-66df-4540-9169-4e89cfbaa758",
   "metadata": {
    "execution": {
     "iopub.execute_input": "2025-07-30T14:18:12.313675Z",
     "iopub.status.busy": "2025-07-30T14:18:12.313339Z",
     "iopub.status.idle": "2025-07-30T14:18:12.321742Z",
     "shell.execute_reply": "2025-07-30T14:18:12.321067Z"
    },
    "papermill": {
     "duration": 0.024816,
     "end_time": "2025-07-30T14:18:12.323325",
     "exception": false,
     "start_time": "2025-07-30T14:18:12.298509",
     "status": "completed"
    },
    "tags": []
   },
   "outputs": [],
   "source": [
    "subgroups = ['frau1','nongerman','nongerman_male','nongerman_female']\n",
    "\n",
    "# Conditional coverage for subgroup==1\n",
    "cond_coverage = {\n",
    "    g: cp_groups_df.loc[cp_groups_df[g]==1, 'covered'].mean()\n",
    "    for g in subgroups\n",
    "}"
   ]
  },
  {
   "cell_type": "code",
   "execution_count": 69,
   "id": "1e348fb1-b9c3-45bc-ba23-f016827a7e0d",
   "metadata": {
    "execution": {
     "iopub.execute_input": "2025-07-30T14:18:12.376916Z",
     "iopub.status.busy": "2025-07-30T14:18:12.376197Z",
     "iopub.status.idle": "2025-07-30T14:18:12.383662Z",
     "shell.execute_reply": "2025-07-30T14:18:12.382807Z"
    },
    "papermill": {
     "duration": 0.036584,
     "end_time": "2025-07-30T14:18:12.385274",
     "exception": false,
     "start_time": "2025-07-30T14:18:12.348690",
     "status": "completed"
    },
    "tags": []
   },
   "outputs": [
    {
     "data": {
      "text/plain": [
       "{'frau1': 0.9095295861976007,\n",
       " 'nongerman': 0.9128726211194071,\n",
       " 'nongerman_male': 0.9267765468792218,\n",
       " 'nongerman_female': 0.889865871833085}"
      ]
     },
     "execution_count": 69,
     "metadata": {},
     "output_type": "execute_result"
    }
   ],
   "source": [
    "cond_coverage"
   ]
  },
  {
   "cell_type": "code",
   "execution_count": 70,
   "id": "f5093324-c3dd-4d63-bc4c-8d945e5c8bbb",
   "metadata": {
    "execution": {
     "iopub.execute_input": "2025-07-30T14:18:12.438070Z",
     "iopub.status.busy": "2025-07-30T14:18:12.437619Z",
     "iopub.status.idle": "2025-07-30T14:18:12.445367Z",
     "shell.execute_reply": "2025-07-30T14:18:12.444287Z"
    },
    "papermill": {
     "duration": 0.035681,
     "end_time": "2025-07-30T14:18:12.447107",
     "exception": false,
     "start_time": "2025-07-30T14:18:12.411426",
     "status": "completed"
    },
    "tags": []
   },
   "outputs": [],
   "source": [
    "for subgroup, cov in cond_coverage.items():\n",
    "    cp_metrics_df[f\"cov_{subgroup}\"] = cov"
   ]
  },
  {
   "cell_type": "code",
   "execution_count": 71,
   "id": "6e872e10-dbe5-49e8-b554-5030c98ff75d",
   "metadata": {
    "execution": {
     "iopub.execute_input": "2025-07-30T14:18:12.502400Z",
     "iopub.status.busy": "2025-07-30T14:18:12.501497Z",
     "iopub.status.idle": "2025-07-30T14:18:12.521483Z",
     "shell.execute_reply": "2025-07-30T14:18:12.520418Z"
    },
    "papermill": {
     "duration": 0.047487,
     "end_time": "2025-07-30T14:18:12.523046",
     "exception": false,
     "start_time": "2025-07-30T14:18:12.475559",
     "status": "completed"
    },
    "tags": []
   },
   "outputs": [
    {
     "data": {
      "text/html": [
       "<div>\n",
       "<style scoped>\n",
       "    .dataframe tbody tr th:only-of-type {\n",
       "        vertical-align: middle;\n",
       "    }\n",
       "\n",
       "    .dataframe tbody tr th {\n",
       "        vertical-align: top;\n",
       "    }\n",
       "\n",
       "    .dataframe thead th {\n",
       "        text-align: right;\n",
       "    }\n",
       "</style>\n",
       "<table border=\"1\" class=\"dataframe\">\n",
       "  <thead>\n",
       "    <tr style=\"text-align: right;\">\n",
       "      <th></th>\n",
       "      <th>universe_id</th>\n",
       "      <th>universe_training_size</th>\n",
       "      <th>universe_scale</th>\n",
       "      <th>universe_model</th>\n",
       "      <th>universe_exclude_features</th>\n",
       "      <th>universe_exclude_subgroups</th>\n",
       "      <th>q_hat</th>\n",
       "      <th>coverage</th>\n",
       "      <th>avg_size</th>\n",
       "      <th>cov_frau1</th>\n",
       "      <th>cov_nongerman</th>\n",
       "      <th>cov_nongerman_male</th>\n",
       "      <th>cov_nongerman_female</th>\n",
       "    </tr>\n",
       "  </thead>\n",
       "  <tbody>\n",
       "    <tr>\n",
       "      <th>0</th>\n",
       "      <td>cd676979db45ec30e33296bc6e9a9e6d</td>\n",
       "      <td>5k</td>\n",
       "      <td>do-not-scale</td>\n",
       "      <td>elasticnet</td>\n",
       "      <td>sex</td>\n",
       "      <td>drop-non-german</td>\n",
       "      <td>0.684373</td>\n",
       "      <td>0.909943</td>\n",
       "      <td>1.153662</td>\n",
       "      <td>0.90953</td>\n",
       "      <td>0.912873</td>\n",
       "      <td>0.926777</td>\n",
       "      <td>0.889866</td>\n",
       "    </tr>\n",
       "  </tbody>\n",
       "</table>\n",
       "</div>"
      ],
      "text/plain": [
       "                        universe_id universe_training_size universe_scale  \\\n",
       "0  cd676979db45ec30e33296bc6e9a9e6d                     5k   do-not-scale   \n",
       "\n",
       "  universe_model universe_exclude_features universe_exclude_subgroups  \\\n",
       "0     elasticnet                       sex            drop-non-german   \n",
       "\n",
       "      q_hat  coverage  avg_size  cov_frau1  cov_nongerman  cov_nongerman_male  \\\n",
       "0  0.684373  0.909943  1.153662    0.90953       0.912873            0.926777   \n",
       "\n",
       "   cov_nongerman_female  \n",
       "0              0.889866  "
      ]
     },
     "execution_count": 71,
     "metadata": {},
     "output_type": "execute_result"
    }
   ],
   "source": [
    "cp_metrics_df"
   ]
  },
  {
   "cell_type": "markdown",
   "id": "33774451",
   "metadata": {
    "papermill": {
     "duration": 0.013732,
     "end_time": "2025-07-30T14:18:12.551541",
     "exception": false,
     "start_time": "2025-07-30T14:18:12.537809",
     "status": "completed"
    },
    "tags": []
   },
   "source": [
    "# (Fairness) Metrics"
   ]
  },
  {
   "cell_type": "code",
   "execution_count": 72,
   "id": "debc5d62",
   "metadata": {
    "execution": {
     "iopub.execute_input": "2025-07-30T14:18:12.589013Z",
     "iopub.status.busy": "2025-07-30T14:18:12.588562Z",
     "iopub.status.idle": "2025-07-30T14:18:12.609791Z",
     "shell.execute_reply": "2025-07-30T14:18:12.608898Z"
    },
    "papermill": {
     "duration": 0.04609,
     "end_time": "2025-07-30T14:18:12.611726",
     "exception": false,
     "start_time": "2025-07-30T14:18:12.565636",
     "status": "completed"
    },
    "tags": []
   },
   "outputs": [],
   "source": [
    "# do I need to include maxdeutsch1.missing?\n",
    "\n",
    "import numpy as np\n",
    "\n",
    "colname_to_bin = \"maxdeutsch1\"\n",
    "majority_value = org_train[colname_to_bin].mode()[0]\n",
    "\n",
    "org_test[\"majmin\"] = np.where(org_test[colname_to_bin] == majority_value, \"majority\", \"minority\")"
   ]
  },
  {
   "cell_type": "code",
   "execution_count": 73,
   "id": "06a50de5",
   "metadata": {
    "execution": {
     "iopub.execute_input": "2025-07-30T14:18:12.670551Z",
     "iopub.status.busy": "2025-07-30T14:18:12.670083Z",
     "iopub.status.idle": "2025-07-30T14:18:14.874822Z",
     "shell.execute_reply": "2025-07-30T14:18:14.873524Z"
    },
    "papermill": {
     "duration": 2.236272,
     "end_time": "2025-07-30T14:18:14.876735",
     "exception": false,
     "start_time": "2025-07-30T14:18:12.640463",
     "status": "completed"
    },
    "tags": []
   },
   "outputs": [],
   "source": [
    "example_universe = universe.copy()\n",
    "example_universe[\"cutoff\"] = example_universe[\"cutoff\"][0]\n",
    "example_universe[\"eval_fairness_grouping\"] = example_universe[\"eval_fairness_grouping\"][0]\n",
    "fairness_dict, metric_frame = universe_analysis.compute_metrics(\n",
    "    example_universe,\n",
    "    y_pred_prob=probs_test,\n",
    "    y_test=y_true,\n",
    "    org_test=org_test,\n",
    ")"
   ]
  },
  {
   "cell_type": "markdown",
   "id": "f95d4e02",
   "metadata": {
    "papermill": {
     "duration": 0.014606,
     "end_time": "2025-07-30T14:18:14.919635",
     "exception": false,
     "start_time": "2025-07-30T14:18:14.905029",
     "status": "completed"
    },
    "tags": []
   },
   "source": [
    "# Overall"
   ]
  },
  {
   "cell_type": "markdown",
   "id": "bdee4871",
   "metadata": {
    "papermill": {
     "duration": 0.013576,
     "end_time": "2025-07-30T14:18:14.947422",
     "exception": false,
     "start_time": "2025-07-30T14:18:14.933846",
     "status": "completed"
    },
    "tags": []
   },
   "source": [
    "Fairness\n",
    "Main fairness target: Equalized Odds. Seems to be a better fit than equal opportunity, since we're not only interested in Y = 1. Seems to be a better fit than demographic parity, since we also care about accuracy, not just equal distribution of preds.\n",
    "\n",
    "Pick column for computation of fairness metrics\n",
    "\n",
    "Performance\n",
    "Overall performance measures, most interesting in relation to the measures split by group below"
   ]
  },
  {
   "cell_type": "code",
   "execution_count": 74,
   "id": "c4e067c6",
   "metadata": {
    "execution": {
     "iopub.execute_input": "2025-07-30T14:18:15.003125Z",
     "iopub.status.busy": "2025-07-30T14:18:15.002606Z",
     "iopub.status.idle": "2025-07-30T14:18:15.012356Z",
     "shell.execute_reply": "2025-07-30T14:18:15.011481Z"
    },
    "papermill": {
     "duration": 0.044013,
     "end_time": "2025-07-30T14:18:15.016811",
     "exception": false,
     "start_time": "2025-07-30T14:18:14.972798",
     "status": "completed"
    },
    "tags": []
   },
   "outputs": [
    {
     "data": {
      "text/plain": [
       "accuracy                   0.219429\n",
       "balanced accuracy          0.537571\n",
       "f1                         0.240897\n",
       "precision                  0.137616\n",
       "false positive rate        0.890361\n",
       "false negative rate        0.034498\n",
       "selection rate             0.900000\n",
       "count                  89710.000000\n",
       "dtype: float64"
      ]
     },
     "execution_count": 74,
     "metadata": {},
     "output_type": "execute_result"
    }
   ],
   "source": [
    "metric_frame.overall"
   ]
  },
  {
   "cell_type": "markdown",
   "id": "e968fe9d",
   "metadata": {
    "papermill": {
     "duration": 0.026134,
     "end_time": "2025-07-30T14:18:15.071789",
     "exception": false,
     "start_time": "2025-07-30T14:18:15.045655",
     "status": "completed"
    },
    "tags": []
   },
   "source": [
    "By Group"
   ]
  },
  {
   "cell_type": "code",
   "execution_count": 75,
   "id": "ec325bce",
   "metadata": {
    "execution": {
     "iopub.execute_input": "2025-07-30T14:18:15.133860Z",
     "iopub.status.busy": "2025-07-30T14:18:15.133054Z",
     "iopub.status.idle": "2025-07-30T14:18:15.156965Z",
     "shell.execute_reply": "2025-07-30T14:18:15.155552Z"
    },
    "papermill": {
     "duration": 0.057075,
     "end_time": "2025-07-30T14:18:15.158869",
     "exception": false,
     "start_time": "2025-07-30T14:18:15.101794",
     "status": "completed"
    },
    "tags": []
   },
   "outputs": [
    {
     "data": {
      "text/html": [
       "<div>\n",
       "<style scoped>\n",
       "    .dataframe tbody tr th:only-of-type {\n",
       "        vertical-align: middle;\n",
       "    }\n",
       "\n",
       "    .dataframe tbody tr th {\n",
       "        vertical-align: top;\n",
       "    }\n",
       "\n",
       "    .dataframe thead th {\n",
       "        text-align: right;\n",
       "    }\n",
       "</style>\n",
       "<table border=\"1\" class=\"dataframe\">\n",
       "  <thead>\n",
       "    <tr style=\"text-align: right;\">\n",
       "      <th></th>\n",
       "      <th>accuracy</th>\n",
       "      <th>balanced accuracy</th>\n",
       "      <th>f1</th>\n",
       "      <th>precision</th>\n",
       "      <th>false positive rate</th>\n",
       "      <th>false negative rate</th>\n",
       "      <th>selection rate</th>\n",
       "      <th>count</th>\n",
       "    </tr>\n",
       "    <tr>\n",
       "      <th>majmin</th>\n",
       "      <th></th>\n",
       "      <th></th>\n",
       "      <th></th>\n",
       "      <th></th>\n",
       "      <th></th>\n",
       "      <th></th>\n",
       "      <th></th>\n",
       "      <th></th>\n",
       "    </tr>\n",
       "  </thead>\n",
       "  <tbody>\n",
       "    <tr>\n",
       "      <th>majority</th>\n",
       "      <td>0.240928</td>\n",
       "      <td>0.545935</td>\n",
       "      <td>0.250603</td>\n",
       "      <td>0.144100</td>\n",
       "      <td>0.868632</td>\n",
       "      <td>0.039497</td>\n",
       "      <td>0.880772</td>\n",
       "      <td>69170.0</td>\n",
       "    </tr>\n",
       "    <tr>\n",
       "      <th>minority</th>\n",
       "      <td>0.147030</td>\n",
       "      <td>0.511329</td>\n",
       "      <td>0.210242</td>\n",
       "      <td>0.117683</td>\n",
       "      <td>0.962140</td>\n",
       "      <td>0.015203</td>\n",
       "      <td>0.964752</td>\n",
       "      <td>20540.0</td>\n",
       "    </tr>\n",
       "  </tbody>\n",
       "</table>\n",
       "</div>"
      ],
      "text/plain": [
       "          accuracy  balanced accuracy        f1  precision  \\\n",
       "majmin                                                       \n",
       "majority  0.240928           0.545935  0.250603   0.144100   \n",
       "minority  0.147030           0.511329  0.210242   0.117683   \n",
       "\n",
       "          false positive rate  false negative rate  selection rate    count  \n",
       "majmin                                                                       \n",
       "majority             0.868632             0.039497        0.880772  69170.0  \n",
       "minority             0.962140             0.015203        0.964752  20540.0  "
      ]
     },
     "execution_count": 75,
     "metadata": {},
     "output_type": "execute_result"
    }
   ],
   "source": [
    "metric_frame.by_group"
   ]
  },
  {
   "cell_type": "code",
   "execution_count": 76,
   "id": "a9ddbe63",
   "metadata": {
    "execution": {
     "iopub.execute_input": "2025-07-30T14:18:15.217808Z",
     "iopub.status.busy": "2025-07-30T14:18:15.216880Z",
     "iopub.status.idle": "2025-07-30T14:18:17.437696Z",
     "shell.execute_reply": "2025-07-30T14:18:17.436993Z"
    },
    "papermill": {
     "duration": 2.250359,
     "end_time": "2025-07-30T14:18:17.439334",
     "exception": false,
     "start_time": "2025-07-30T14:18:15.188975",
     "status": "completed"
    },
    "tags": []
   },
   "outputs": [
    {
     "data": {
      "text/plain": [
       "array([[<Axes: title={'center': 'accuracy'}, xlabel='majmin'>,\n",
       "        <Axes: title={'center': 'balanced accuracy'}, xlabel='majmin'>,\n",
       "        <Axes: title={'center': 'f1'}, xlabel='majmin'>],\n",
       "       [<Axes: title={'center': 'precision'}, xlabel='majmin'>,\n",
       "        <Axes: title={'center': 'false positive rate'}, xlabel='majmin'>,\n",
       "        <Axes: title={'center': 'false negative rate'}, xlabel='majmin'>],\n",
       "       [<Axes: title={'center': 'selection rate'}, xlabel='majmin'>,\n",
       "        <Axes: title={'center': 'count'}, xlabel='majmin'>,\n",
       "        <Axes: xlabel='majmin'>]], dtype=object)"
      ]
     },
     "execution_count": 76,
     "metadata": {},
     "output_type": "execute_result"
    },
    {
     "data": {
      "image/png": "[encoded data removed]",
      "text/plain": [
       "<Figure size 1200x800 with 9 Axes>"
      ]
     },
     "metadata": {},
     "output_type": "display_data"
    }
   ],
   "source": [
    "# In a graphic\n",
    "metric_frame.by_group.plot.bar(\n",
    "    subplots=True,\n",
    "    layout=[3, 3],\n",
    "    legend=False,\n",
    "    figsize=[12, 8],\n",
    "    title=\"Show all metrics\",\n",
    ")"
   ]
  },
  {
   "cell_type": "markdown",
   "id": "f57a0bac",
   "metadata": {
    "papermill": {
     "duration": 0.030409,
     "end_time": "2025-07-30T14:18:17.501237",
     "exception": false,
     "start_time": "2025-07-30T14:18:17.470828",
     "status": "completed"
    },
    "tags": []
   },
   "source": [
    "# Final Output"
   ]
  },
  {
   "cell_type": "code",
   "execution_count": 77,
   "id": "96d280a3",
   "metadata": {
    "execution": {
     "iopub.execute_input": "2025-07-30T14:18:17.536947Z",
     "iopub.status.busy": "2025-07-30T14:18:17.536102Z",
     "iopub.status.idle": "2025-07-30T14:18:17.543597Z",
     "shell.execute_reply": "2025-07-30T14:18:17.542830Z"
    },
    "papermill": {
     "duration": 0.026282,
     "end_time": "2025-07-30T14:18:17.545064",
     "exception": false,
     "start_time": "2025-07-30T14:18:17.518782",
     "status": "completed"
    },
    "tags": []
   },
   "outputs": [
    {
     "data": {
      "text/plain": [
       "4"
      ]
     },
     "execution_count": 77,
     "metadata": {},
     "output_type": "execute_result"
    }
   ],
   "source": [
    "sub_universes = universe_analysis.generate_sub_universes()\n",
    "len(sub_universes)"
   ]
  },
  {
   "cell_type": "code",
   "execution_count": 78,
   "id": "92adf7ba",
   "metadata": {
    "execution": {
     "iopub.execute_input": "2025-07-30T14:18:17.579234Z",
     "iopub.status.busy": "2025-07-30T14:18:17.578861Z",
     "iopub.status.idle": "2025-07-30T14:18:17.584239Z",
     "shell.execute_reply": "2025-07-30T14:18:17.583485Z"
    },
    "papermill": {
     "duration": 0.024368,
     "end_time": "2025-07-30T14:18:17.585601",
     "exception": false,
     "start_time": "2025-07-30T14:18:17.561233",
     "status": "completed"
    },
    "tags": []
   },
   "outputs": [],
   "source": [
    "def filter_sub_universe_data(sub_universe, org_test):\n",
    "    # Keep all rows — no filtering\n",
    "    keep_rows_mask = np.ones(org_test.shape[0], dtype=bool)\n",
    "\n",
    "    print(f\"[INFO] Keeping all rows: {keep_rows_mask.sum()} rows retained.\")\n",
    "    return keep_rows_mask"
   ]
  },
  {
   "cell_type": "code",
   "execution_count": 79,
   "id": "4a759155",
   "metadata": {
    "execution": {
     "iopub.execute_input": "2025-07-30T14:18:17.620597Z",
     "iopub.status.busy": "2025-07-30T14:18:17.620061Z",
     "iopub.status.idle": "2025-07-30T14:18:28.275001Z",
     "shell.execute_reply": "2025-07-30T14:18:28.274069Z"
    },
    "papermill": {
     "duration": 10.673566,
     "end_time": "2025-07-30T14:18:28.276536",
     "exception": false,
     "start_time": "2025-07-30T14:18:17.602970",
     "status": "completed"
    },
    "tags": []
   },
   "outputs": [
    {
     "name": "stdout",
     "output_type": "stream",
     "text": [
      "Stopping execution_time clock.\n",
      "[INFO] Keeping all rows: 89710 rows retained.\n"
     ]
    },
    {
     "name": "stdout",
     "output_type": "stream",
     "text": [
      "[INFO] Keeping all rows: 89710 rows retained.\n"
     ]
    },
    {
     "name": "stdout",
     "output_type": "stream",
     "text": [
      "[INFO] Keeping all rows: 89710 rows retained.\n"
     ]
    },
    {
     "name": "stdout",
     "output_type": "stream",
     "text": [
      "[INFO] Keeping all rows: 89710 rows retained.\n"
     ]
    },
    {
     "data": {
      "text/html": [
       "<div>\n",
       "<style scoped>\n",
       "    .dataframe tbody tr th:only-of-type {\n",
       "        vertical-align: middle;\n",
       "    }\n",
       "\n",
       "    .dataframe tbody tr th {\n",
       "        vertical-align: top;\n",
       "    }\n",
       "\n",
       "    .dataframe thead th {\n",
       "        text-align: right;\n",
       "    }\n",
       "</style>\n",
       "<table border=\"1\" class=\"dataframe\">\n",
       "  <thead>\n",
       "    <tr style=\"text-align: right;\">\n",
       "      <th></th>\n",
       "      <th>run_no</th>\n",
       "      <th>universe_id</th>\n",
       "      <th>universe_settings</th>\n",
       "      <th>execution_time</th>\n",
       "      <th>test_size_n</th>\n",
       "      <th>test_size_frac</th>\n",
       "      <th>fair_main_equalized_odds_difference</th>\n",
       "      <th>fair_main_equalized_odds_ratio</th>\n",
       "      <th>fair_main_demographic_parity_difference</th>\n",
       "      <th>fair_main_demographic_parity_ratio</th>\n",
       "      <th>...</th>\n",
       "      <th>perf_grp_precision_0</th>\n",
       "      <th>perf_grp_precision_1</th>\n",
       "      <th>perf_grp_false positive rate_0</th>\n",
       "      <th>perf_grp_false positive rate_1</th>\n",
       "      <th>perf_grp_false negative rate_0</th>\n",
       "      <th>perf_grp_false negative rate_1</th>\n",
       "      <th>perf_grp_selection rate_0</th>\n",
       "      <th>perf_grp_selection rate_1</th>\n",
       "      <th>perf_grp_count_0</th>\n",
       "      <th>perf_grp_count_1</th>\n",
       "    </tr>\n",
       "  </thead>\n",
       "  <tbody>\n",
       "    <tr>\n",
       "      <th>0</th>\n",
       "      <td>12</td>\n",
       "      <td>cd676979db45ec30e33296bc6e9a9e6d</td>\n",
       "      <td>{\"cutoff\": \"quantile_0.1\", \"eval_fairness_grou...</td>\n",
       "      <td>109.682524</td>\n",
       "      <td>89710</td>\n",
       "      <td>1.0</td>\n",
       "      <td>0.093507</td>\n",
       "      <td>0.902813</td>\n",
       "      <td>0.083980</td>\n",
       "      <td>0.912952</td>\n",
       "      <td>...</td>\n",
       "      <td>NaN</td>\n",
       "      <td>NaN</td>\n",
       "      <td>NaN</td>\n",
       "      <td>NaN</td>\n",
       "      <td>NaN</td>\n",
       "      <td>NaN</td>\n",
       "      <td>NaN</td>\n",
       "      <td>NaN</td>\n",
       "      <td>NaN</td>\n",
       "      <td>NaN</td>\n",
       "    </tr>\n",
       "    <tr>\n",
       "      <th>0</th>\n",
       "      <td>12</td>\n",
       "      <td>cd676979db45ec30e33296bc6e9a9e6d</td>\n",
       "      <td>{\"cutoff\": \"quantile_0.1\", \"eval_fairness_grou...</td>\n",
       "      <td>109.682524</td>\n",
       "      <td>89710</td>\n",
       "      <td>1.0</td>\n",
       "      <td>0.093507</td>\n",
       "      <td>0.902813</td>\n",
       "      <td>0.083980</td>\n",
       "      <td>0.912952</td>\n",
       "      <td>...</td>\n",
       "      <td>0.117683</td>\n",
       "      <td>0.144100</td>\n",
       "      <td>0.96214</td>\n",
       "      <td>0.868632</td>\n",
       "      <td>0.015203</td>\n",
       "      <td>0.039497</td>\n",
       "      <td>0.964752</td>\n",
       "      <td>0.880772</td>\n",
       "      <td>20540.0</td>\n",
       "      <td>69170.0</td>\n",
       "    </tr>\n",
       "    <tr>\n",
       "      <th>0</th>\n",
       "      <td>12</td>\n",
       "      <td>cd676979db45ec30e33296bc6e9a9e6d</td>\n",
       "      <td>{\"cutoff\": \"quantile_0.25\", \"eval_fairness_gro...</td>\n",
       "      <td>109.682524</td>\n",
       "      <td>89710</td>\n",
       "      <td>1.0</td>\n",
       "      <td>0.220398</td>\n",
       "      <td>0.754365</td>\n",
       "      <td>0.198591</td>\n",
       "      <td>0.780105</td>\n",
       "      <td>...</td>\n",
       "      <td>NaN</td>\n",
       "      <td>NaN</td>\n",
       "      <td>NaN</td>\n",
       "      <td>NaN</td>\n",
       "      <td>NaN</td>\n",
       "      <td>NaN</td>\n",
       "      <td>NaN</td>\n",
       "      <td>NaN</td>\n",
       "      <td>NaN</td>\n",
       "      <td>NaN</td>\n",
       "    </tr>\n",
       "    <tr>\n",
       "      <th>0</th>\n",
       "      <td>12</td>\n",
       "      <td>cd676979db45ec30e33296bc6e9a9e6d</td>\n",
       "      <td>{\"cutoff\": \"quantile_0.25\", \"eval_fairness_gro...</td>\n",
       "      <td>109.682524</td>\n",
       "      <td>89710</td>\n",
       "      <td>1.0</td>\n",
       "      <td>0.220398</td>\n",
       "      <td>0.754365</td>\n",
       "      <td>0.198591</td>\n",
       "      <td>0.780105</td>\n",
       "      <td>...</td>\n",
       "      <td>0.121024</td>\n",
       "      <td>0.166215</td>\n",
       "      <td>0.89726</td>\n",
       "      <td>0.676862</td>\n",
       "      <td>0.051943</td>\n",
       "      <td>0.113786</td>\n",
       "      <td>0.903116</td>\n",
       "      <td>0.704525</td>\n",
       "      <td>20540.0</td>\n",
       "      <td>69170.0</td>\n",
       "    </tr>\n",
       "  </tbody>\n",
       "</table>\n",
       "<p>4 rows × 50 columns</p>\n",
       "</div>"
      ],
      "text/plain": [
       "  run_no                       universe_id  \\\n",
       "0     12  cd676979db45ec30e33296bc6e9a9e6d   \n",
       "0     12  cd676979db45ec30e33296bc6e9a9e6d   \n",
       "0     12  cd676979db45ec30e33296bc6e9a9e6d   \n",
       "0     12  cd676979db45ec30e33296bc6e9a9e6d   \n",
       "\n",
       "                                   universe_settings  execution_time  \\\n",
       "0  {\"cutoff\": \"quantile_0.1\", \"eval_fairness_grou...      109.682524   \n",
       "0  {\"cutoff\": \"quantile_0.1\", \"eval_fairness_grou...      109.682524   \n",
       "0  {\"cutoff\": \"quantile_0.25\", \"eval_fairness_gro...      109.682524   \n",
       "0  {\"cutoff\": \"quantile_0.25\", \"eval_fairness_gro...      109.682524   \n",
       "\n",
       "   test_size_n  test_size_frac  fair_main_equalized_odds_difference  \\\n",
       "0        89710             1.0                             0.093507   \n",
       "0        89710             1.0                             0.093507   \n",
       "0        89710             1.0                             0.220398   \n",
       "0        89710             1.0                             0.220398   \n",
       "\n",
       "   fair_main_equalized_odds_ratio  fair_main_demographic_parity_difference  \\\n",
       "0                        0.902813                                 0.083980   \n",
       "0                        0.902813                                 0.083980   \n",
       "0                        0.754365                                 0.198591   \n",
       "0                        0.754365                                 0.198591   \n",
       "\n",
       "   fair_main_demographic_parity_ratio  ...  perf_grp_precision_0  \\\n",
       "0                            0.912952  ...                   NaN   \n",
       "0                            0.912952  ...              0.117683   \n",
       "0                            0.780105  ...                   NaN   \n",
       "0                            0.780105  ...              0.121024   \n",
       "\n",
       "   perf_grp_precision_1  perf_grp_false positive rate_0  \\\n",
       "0                   NaN                             NaN   \n",
       "0              0.144100                         0.96214   \n",
       "0                   NaN                             NaN   \n",
       "0              0.166215                         0.89726   \n",
       "\n",
       "   perf_grp_false positive rate_1  perf_grp_false negative rate_0  \\\n",
       "0                             NaN                             NaN   \n",
       "0                        0.868632                        0.015203   \n",
       "0                             NaN                             NaN   \n",
       "0                        0.676862                        0.051943   \n",
       "\n",
       "   perf_grp_false negative rate_1  perf_grp_selection rate_0  \\\n",
       "0                             NaN                        NaN   \n",
       "0                        0.039497                   0.964752   \n",
       "0                             NaN                        NaN   \n",
       "0                        0.113786                   0.903116   \n",
       "\n",
       "   perf_grp_selection rate_1  perf_grp_count_0  perf_grp_count_1  \n",
       "0                        NaN               NaN               NaN  \n",
       "0                   0.880772           20540.0           69170.0  \n",
       "0                        NaN               NaN               NaN  \n",
       "0                   0.704525           20540.0           69170.0  \n",
       "\n",
       "[4 rows x 50 columns]"
      ]
     },
     "execution_count": 79,
     "metadata": {},
     "output_type": "execute_result"
    }
   ],
   "source": [
    "final_output = universe_analysis.generate_final_output(\n",
    "    y_pred_prob=probs_test,\n",
    "    y_test=y_true,\n",
    "    org_test=org_test,\n",
    "    filter_data=filter_sub_universe_data,\n",
    "    cp_metrics_df=cp_metrics_df,\n",
    "    save=True,\n",
    ")\n",
    "final_output"
   ]
  },
  {
   "cell_type": "code",
   "execution_count": null,
   "id": "721ff514-cb11-46f8-b6fc-50392f74b5cb",
   "metadata": {
    "papermill": {
     "duration": 0.033151,
     "end_time": "2025-07-30T14:18:28.341670",
     "exception": false,
     "start_time": "2025-07-30T14:18:28.308519",
     "status": "completed"
    },
    "tags": []
   },
   "outputs": [],
   "source": []
  }
 ],
 "metadata": {
  "celltoolbar": "Tags",
  "kernelspec": {
   "display_name": "Python (CMA Fairness)",
   "language": "python",
   "name": "cma_fair_env"
  },
  "language_info": {
   "codemirror_mode": {
    "name": "ipython",
    "version": 3
   },
   "file_extension": ".py",
   "mimetype": "text/x-python",
   "name": "python",
   "nbconvert_exporter": "python",
   "pygments_lexer": "ipython3",
   "version": "3.10.12"
  },
  "papermill": {
   "default_parameters": {},
   "duration": 124.521687,
   "end_time": "2025-07-30T14:18:29.191256",
   "environment_variables": {},
   "exception": null,
   "input_path": "universe_analysis.ipynb",
   "output_path": "output/runs/12/notebooks/m_12-cd676979db45ec30e33296bc6e9a9e6d.ipynb",
   "parameters": {
    "output_dir": "output",
    "run_no": "12",
    "seed": "2023",
    "universe": "{\"cutoff\": [\"quantile_0.1\", \"quantile_0.25\"], \"eval_fairness_grouping\": [\"majority-minority\", \"nationality-all\"], \"exclude_features\": \"sex\", \"exclude_subgroups\": \"drop-non-german\", \"model\": \"elasticnet\", \"scale\": \"do-not-scale\", \"training_size\": \"5k\", \"training_year\": \"2010_14\"}",
    "universe_id": "cd676979db45ec30e33296bc6e9a9e6d"
   },
   "start_time": "2025-07-30T14:16:24.669569",
   "version": "2.6.0"
  }
 },
 "nbformat": 4,
 "nbformat_minor": 5
}