{
 "cells": [
  {
   "cell_type": "code",
   "execution_count": 1,
   "id": "f159f837-637b-42ba-96b5-ec9a68c44524",
   "metadata": {
    "execution": {
     "iopub.execute_input": "2025-07-30T13:14:15.848501Z",
     "iopub.status.busy": "2025-07-30T13:14:15.847892Z",
     "iopub.status.idle": "2025-07-30T13:14:15.865334Z",
     "shell.execute_reply": "2025-07-30T13:14:15.864294Z"
    },
    "papermill": {
     "duration": 0.058297,
     "end_time": "2025-07-30T13:14:15.867341",
     "exception": false,
     "start_time": "2025-07-30T13:14:15.809044",
     "status": "completed"
    },
    "tags": []
   },
   "outputs": [
    {
     "name": "stdout",
     "output_type": "stream",
     "text": [
      "/dss/dsshome1/0C/ra93lal2/cma/CMA_Fairness_v2\n"
     ]
    },
    {
     "name": "stderr",
     "output_type": "stream",
     "text": [
      "/dss/dsshome1/0C/ra93lal2/.local/share/virtualenvs/CMA_Fairness_v2-3j10GkSs/lib/python3.10/site-packages/IPython/core/magics/osm.py:393: UserWarning: This is now an optional IPython functionality, using bookmarks requires you to install the `pickleshare` library.\n",
      "  bkms = self.shell.db.get('bookmarks', {})\n",
      "/dss/dsshome1/0C/ra93lal2/.local/share/virtualenvs/CMA_Fairness_v2-3j10GkSs/lib/python3.10/site-packages/IPython/core/magics/osm.py:417: UserWarning: This is now an optional IPython functionality, setting dhist requires you to install the `pickleshare` library.\n",
      "  self.shell.db['dhist'] = compress_dhist(dhist)[-100:]\n"
     ]
    }
   ],
   "source": [
    "%cd ~/cma/CMA_Fairness_v2"
   ]
  },
  {
   "cell_type": "markdown",
   "id": "de2603b9",
   "metadata": {
    "papermill": {
     "duration": 0.022939,
     "end_time": "2025-07-30T13:14:15.911321",
     "exception": false,
     "start_time": "2025-07-30T13:14:15.888382",
     "status": "completed"
    },
    "tags": []
   },
   "source": [
    "The following cell holds the definition of our parameters, these values can be overriden by rendering the with e.g. the following command:\n",
    "\n",
    "papermill -p alpha 0.2 -p ratio 0.3 universe_analysis.ipynb output/test_run.ipynb"
   ]
  },
  {
   "cell_type": "code",
   "execution_count": 2,
   "id": "a80968a0-40bb-4fa9-85ef-2d5eefb01975",
   "metadata": {
    "execution": {
     "iopub.execute_input": "2025-07-30T13:14:15.949229Z",
     "iopub.status.busy": "2025-07-30T13:14:15.948634Z",
     "iopub.status.idle": "2025-07-30T13:14:15.954431Z",
     "shell.execute_reply": "2025-07-30T13:14:15.953387Z"
    },
    "papermill": {
     "duration": 0.025384,
     "end_time": "2025-07-30T13:14:15.956379",
     "exception": false,
     "start_time": "2025-07-30T13:14:15.930995",
     "status": "completed"
    },
    "tags": []
   },
   "outputs": [
    {
     "name": "stdout",
     "output_type": "stream",
     "text": [
      "Current working directory: /dss/dsshome1/0C/ra93lal2/cma/CMA_Fairness_v2\n"
     ]
    }
   ],
   "source": [
    "import os\n",
    "print(\"Current working directory:\", os.getcwd())"
   ]
  },
  {
   "cell_type": "code",
   "execution_count": 3,
   "id": "2dce4c03",
   "metadata": {
    "execution": {
     "iopub.execute_input": "2025-07-30T13:14:16.001518Z",
     "iopub.status.busy": "2025-07-30T13:14:16.001005Z",
     "iopub.status.idle": "2025-07-30T13:14:16.007666Z",
     "shell.execute_reply": "2025-07-30T13:14:16.006627Z"
    },
    "papermill": {
     "duration": 0.031795,
     "end_time": "2025-07-30T13:14:16.009400",
     "exception": false,
     "start_time": "2025-07-30T13:14:15.977605",
     "status": "completed"
    },
    "tags": [
     "parameters"
    ]
   },
   "outputs": [],
   "source": [
    "run_no = 0\n",
    "universe_id = \"test\"\n",
    "universe = {\n",
    "    \"training_size\": \"25k\", # \"25k\", \"5k\", \"1k\"\n",
    "    \"training_year\": \"2014\", # \"2014\", \"2012_14\", \"2010_14\"\n",
    "    \"scale\": \"scale\", # \"scale\", \"do-not-scale\",\n",
    "    #\"stratify_split\": \"target\", # \"none\", \"target\", \"protected-attribute\", \"both\",\n",
    "    \"model\": \"elasticnet\", # \"logreg\", \"penalized_logreg\", \"rf\", \"gbm\", \"elasticnet\"\n",
    "    \"cutoff\": [\"quantile_0.15\", \"quantile_0.30\"],\n",
    "    \"exclude_features\": \"age\", # \"none\", \"nationality\", \"sex\", \"nationality-sex\", \"age\"\n",
    "    \"exclude_subgroups\": \"keep-all\", # \"keep-all\", \"drop-non-german\"\n",
    "    \"eval_fairness_grouping\": [\"majority-minority\", \"nationality-all\"]\n",
    "}\n",
    "\n",
    "output_dir=\"./output\"\n",
    "seed=0"
   ]
  },
  {
   "cell_type": "code",
   "execution_count": 4,
   "id": "702e69e6",
   "metadata": {
    "execution": {
     "iopub.execute_input": "2025-07-30T13:14:16.048525Z",
     "iopub.status.busy": "2025-07-30T13:14:16.048146Z",
     "iopub.status.idle": "2025-07-30T13:14:16.052938Z",
     "shell.execute_reply": "2025-07-30T13:14:16.051935Z"
    },
    "papermill": {
     "duration": 0.023151,
     "end_time": "2025-07-30T13:14:16.054873",
     "exception": false,
     "start_time": "2025-07-30T13:14:16.031722",
     "status": "completed"
    },
    "tags": [
     "injected-parameters"
    ]
   },
   "outputs": [],
   "source": [
    "# Parameters\n",
    "universe_id = \"47d75506b72236ce4fe04272e47da429\"\n",
    "run_no = \"12\"\n",
    "universe = \"{\\\"cutoff\\\": [\\\"quantile_0.1\\\", \\\"quantile_0.25\\\"], \\\"eval_fairness_grouping\\\": [\\\"majority-minority\\\", \\\"nationality-all\\\"], \\\"exclude_features\\\": \\\"age\\\", \\\"exclude_subgroups\\\": \\\"keep-all\\\", \\\"model\\\": \\\"rf\\\", \\\"scale\\\": \\\"do-not-scale\\\", \\\"training_size\\\": \\\"25k\\\", \\\"training_year\\\": \\\"2012_14\\\"}\"\n",
    "output_dir = \"output\"\n",
    "seed = \"2023\"\n"
   ]
  },
  {
   "cell_type": "code",
   "execution_count": 5,
   "id": "1650acaf",
   "metadata": {
    "execution": {
     "iopub.execute_input": "2025-07-30T13:14:16.099221Z",
     "iopub.status.busy": "2025-07-30T13:14:16.098406Z",
     "iopub.status.idle": "2025-07-30T13:14:16.103730Z",
     "shell.execute_reply": "2025-07-30T13:14:16.102789Z"
    },
    "papermill": {
     "duration": 0.028924,
     "end_time": "2025-07-30T13:14:16.105594",
     "exception": false,
     "start_time": "2025-07-30T13:14:16.076670",
     "status": "completed"
    },
    "tags": []
   },
   "outputs": [],
   "source": [
    "import json\n",
    "# Parse universe into dict if it is passed as a string\n",
    "if isinstance(universe, str):\n",
    "    universe = json.loads(universe)"
   ]
  },
  {
   "cell_type": "code",
   "execution_count": 6,
   "id": "16620c48",
   "metadata": {
    "execution": {
     "iopub.execute_input": "2025-07-30T13:14:16.152462Z",
     "iopub.status.busy": "2025-07-30T13:14:16.151696Z",
     "iopub.status.idle": "2025-07-30T13:14:16.198148Z",
     "shell.execute_reply": "2025-07-30T13:14:16.197192Z"
    },
    "papermill": {
     "duration": 0.073467,
     "end_time": "2025-07-30T13:14:16.200069",
     "exception": false,
     "start_time": "2025-07-30T13:14:16.126602",
     "status": "completed"
    },
    "tags": []
   },
   "outputs": [],
   "source": [
    "# Auto-reload the custom package\n",
    "%load_ext autoreload\n",
    "%autoreload 1\n",
    "%aimport fairness_multiverse"
   ]
  },
  {
   "cell_type": "code",
   "execution_count": 7,
   "id": "01c5c9f3",
   "metadata": {
    "execution": {
     "iopub.execute_input": "2025-07-30T13:14:16.256817Z",
     "iopub.status.busy": "2025-07-30T13:14:16.256420Z",
     "iopub.status.idle": "2025-07-30T13:14:19.288837Z",
     "shell.execute_reply": "2025-07-30T13:14:19.287745Z"
    },
    "papermill": {
     "duration": 3.054215,
     "end_time": "2025-07-30T13:14:19.290880",
     "exception": false,
     "start_time": "2025-07-30T13:14:16.236665",
     "status": "completed"
    },
    "tags": []
   },
   "outputs": [],
   "source": [
    "from fairness_multiverse.universe import UniverseAnalysis\n",
    "\n",
    "universe_analysis = UniverseAnalysis(\n",
    "    run_no = run_no,\n",
    "    universe_id = universe_id,\n",
    "    universe = universe,\n",
    "    output_dir=output_dir,\n",
    ")"
   ]
  },
  {
   "cell_type": "code",
   "execution_count": 8,
   "id": "106241f5",
   "metadata": {
    "execution": {
     "iopub.execute_input": "2025-07-30T13:14:19.355952Z",
     "iopub.status.busy": "2025-07-30T13:14:19.355502Z",
     "iopub.status.idle": "2025-07-30T13:14:19.361854Z",
     "shell.execute_reply": "2025-07-30T13:14:19.360923Z"
    },
    "papermill": {
     "duration": 0.048865,
     "end_time": "2025-07-30T13:14:19.363702",
     "exception": false,
     "start_time": "2025-07-30T13:14:19.314837",
     "status": "completed"
    },
    "tags": []
   },
   "outputs": [
    {
     "name": "stdout",
     "output_type": "stream",
     "text": [
      "Using Seed: 2023\n"
     ]
    }
   ],
   "source": [
    "import numpy as np\n",
    "parsed_seed = int(seed)\n",
    "np.random.seed(parsed_seed)\n",
    "print(f\"Using Seed: {parsed_seed}\")"
   ]
  },
  {
   "cell_type": "markdown",
   "id": "e0ebdc57",
   "metadata": {
    "papermill": {
     "duration": 0.022172,
     "end_time": "2025-07-30T13:14:19.408068",
     "exception": false,
     "start_time": "2025-07-30T13:14:19.385896",
     "status": "completed"
    },
    "tags": []
   },
   "source": [
    "# Loading Data"
   ]
  },
  {
   "cell_type": "markdown",
   "id": "681925a3",
   "metadata": {
    "papermill": {
     "duration": 0.052158,
     "end_time": "2025-07-30T13:14:19.504611",
     "exception": false,
     "start_time": "2025-07-30T13:14:19.452453",
     "status": "completed"
    },
    "tags": []
   },
   "source": [
    "Load siab_train, siab_test, siab_calib and/or \n",
    "load siab_train_features, siab_train_labels"
   ]
  },
  {
   "cell_type": "code",
   "execution_count": 9,
   "id": "f0496b8a",
   "metadata": {
    "execution": {
     "iopub.execute_input": "2025-07-30T13:14:19.564098Z",
     "iopub.status.busy": "2025-07-30T13:14:19.562825Z",
     "iopub.status.idle": "2025-07-30T13:14:37.735763Z",
     "shell.execute_reply": "2025-07-30T13:14:37.734697Z"
    },
    "papermill": {
     "duration": 18.194923,
     "end_time": "2025-07-30T13:14:37.737249",
     "exception": false,
     "start_time": "2025-07-30T13:14:19.542326",
     "status": "completed"
    },
    "tags": []
   },
   "outputs": [
    {
     "name": "stdout",
     "output_type": "stream",
     "text": [
      "Loading SIAB data from cache: data/siab_cached.csv.gz\n"
     ]
    },
    {
     "name": "stdout",
     "output_type": "stream",
     "text": [
      "(643690, 164)\n"
     ]
    }
   ],
   "source": [
    "from pathlib import Path\n",
    "import pandas as pd\n",
    "\n",
    "# File paths\n",
    "raw_file = Path(\"data/raw/siab.csv\")\n",
    "cache_file = Path(\"data/siab_cached.csv.gz\")\n",
    "\n",
    "# Ensure cache directory exists\n",
    "cache_file.parent.mkdir(parents=True, exist_ok=True)\n",
    "\n",
    "# Load with simple caching\n",
    "if cache_file.exists():\n",
    "    print(f\"Loading SIAB data from cache: {cache_file}\")\n",
    "    siab = pd.read_csv(cache_file, compression='gzip')\n",
    "else:\n",
    "    print(f\"Cache not found. Reading raw SIAB data: {raw_file}\")\n",
    "    siab = pd.read_csv(raw_file)\n",
    "    siab.to_csv(cache_file, index=False, compression='gzip')\n",
    "    print(f\"Cached SIAB data to: {cache_file}\")\n",
    "\n",
    "# Now use `siab` DataFrame as needed\n",
    "print(siab.shape)"
   ]
  },
  {
   "cell_type": "code",
   "execution_count": 10,
   "id": "db0ca512-5f53-4dba-abdb-a2888bca41ba",
   "metadata": {
    "execution": {
     "iopub.execute_input": "2025-07-30T13:14:37.822957Z",
     "iopub.status.busy": "2025-07-30T13:14:37.822550Z",
     "iopub.status.idle": "2025-07-30T13:14:37.828398Z",
     "shell.execute_reply": "2025-07-30T13:14:37.827420Z"
    },
    "papermill": {
     "duration": 0.032067,
     "end_time": "2025-07-30T13:14:37.830895",
     "exception": false,
     "start_time": "2025-07-30T13:14:37.798828",
     "status": "completed"
    },
    "tags": []
   },
   "outputs": [],
   "source": [
    "#siab"
   ]
  },
  {
   "cell_type": "code",
   "execution_count": 11,
   "id": "a0edb063",
   "metadata": {
    "execution": {
     "iopub.execute_input": "2025-07-30T13:14:37.871972Z",
     "iopub.status.busy": "2025-07-30T13:14:37.871565Z",
     "iopub.status.idle": "2025-07-30T13:14:37.876954Z",
     "shell.execute_reply": "2025-07-30T13:14:37.875816Z"
    },
    "papermill": {
     "duration": 0.028826,
     "end_time": "2025-07-30T13:14:37.879793",
     "exception": false,
     "start_time": "2025-07-30T13:14:37.850967",
     "status": "completed"
    },
    "tags": []
   },
   "outputs": [],
   "source": [
    "#import pandas as pd\n",
    "#\n",
    "#X_train = pd.read_csv(\"./data/X_train.csv\")\n",
    "#y_train = pd.read_csv(\"./data/y_train.csv\")"
   ]
  },
  {
   "cell_type": "code",
   "execution_count": 12,
   "id": "63d08085",
   "metadata": {
    "execution": {
     "iopub.execute_input": "2025-07-30T13:14:37.923297Z",
     "iopub.status.busy": "2025-07-30T13:14:37.922859Z",
     "iopub.status.idle": "2025-07-30T13:14:37.927938Z",
     "shell.execute_reply": "2025-07-30T13:14:37.926987Z"
    },
    "papermill": {
     "duration": 0.029036,
     "end_time": "2025-07-30T13:14:37.930764",
     "exception": false,
     "start_time": "2025-07-30T13:14:37.901728",
     "status": "completed"
    },
    "tags": []
   },
   "outputs": [],
   "source": [
    "#X_test = pd.read_csv(\"./data/X_test.csv\")\n",
    "#y_true = pd.read_csv(\"./data/y_test.csv\")"
   ]
  },
  {
   "cell_type": "code",
   "execution_count": 13,
   "id": "98a8d0fa-1d3d-4ed8-bb2c-281470e24add",
   "metadata": {
    "execution": {
     "iopub.execute_input": "2025-07-30T13:14:37.975024Z",
     "iopub.status.busy": "2025-07-30T13:14:37.974644Z",
     "iopub.status.idle": "2025-07-30T13:14:37.979456Z",
     "shell.execute_reply": "2025-07-30T13:14:37.978561Z"
    },
    "papermill": {
     "duration": 0.027888,
     "end_time": "2025-07-30T13:14:37.981887",
     "exception": false,
     "start_time": "2025-07-30T13:14:37.953999",
     "status": "completed"
    },
    "tags": []
   },
   "outputs": [],
   "source": [
    "# Calibration data for conformal\n",
    "#X_calib = pd.read_csv(\"./data/X_calib.csv\")\n",
    "#y_calib = pd.read_csv(\"./data/y_calib.csv\")"
   ]
  },
  {
   "cell_type": "markdown",
   "id": "997051c5-15bd-4b69-9786-c3001a3ce484",
   "metadata": {
    "papermill": {
     "duration": 0.046891,
     "end_time": "2025-07-30T13:14:38.060383",
     "exception": false,
     "start_time": "2025-07-30T13:14:38.013492",
     "status": "completed"
    },
    "tags": []
   },
   "source": [
    "# Splitting Data and Setting Training Data Size"
   ]
  },
  {
   "cell_type": "code",
   "execution_count": 14,
   "id": "e993b61f-042d-41a6-8c81-f55681f86335",
   "metadata": {
    "execution": {
     "iopub.execute_input": "2025-07-30T13:14:38.151803Z",
     "iopub.status.busy": "2025-07-30T13:14:38.151431Z",
     "iopub.status.idle": "2025-07-30T13:14:38.165551Z",
     "shell.execute_reply": "2025-07-30T13:14:38.164612Z"
    },
    "papermill": {
     "duration": 0.037745,
     "end_time": "2025-07-30T13:14:38.167843",
     "exception": false,
     "start_time": "2025-07-30T13:14:38.130098",
     "status": "completed"
    },
    "tags": []
   },
   "outputs": [],
   "source": [
    "def sample_by_year_size(df,\n",
    "                        training_year: str,\n",
    "                        training_size: str,\n",
    "                        random_state: int = 42):\n",
    "    # --- parse training_year into a list of int years ---\n",
    "    if \"_\" in training_year:\n",
    "        start_str, end_str = training_year.split(\"_\", 1)\n",
    "        start = int(start_str)\n",
    "        end   = int(end_str) if len(end_str) == 4 else (int(end_str) + (start // 100)*100)\n",
    "        years = list(range(start, end + 1))\n",
    "    else:\n",
    "        years = [int(training_year)]\n",
    "\n",
    "    df = df[df[\"year\"].isin(years)].reset_index(drop=True)\n",
    "\n",
    "    # --- map training_size to total number of samples ---\n",
    "    total_map = {\"25k\": 25_000, \"5k\": 5_000, \"1k\": 1_000}\n",
    "    if training_size not in total_map:\n",
    "        return df  # e.g. \"all\"\n",
    "\n",
    "    total_samples = total_map[training_size]\n",
    "    n_years       = len(years)\n",
    "    base          = total_samples // n_years\n",
    "    remainder     = total_samples % n_years\n",
    "\n",
    "    # --- build a dict: year -> how many to sample ---\n",
    "    # give +1 to the first `remainder` years in ascending order\n",
    "    quotas = {\n",
    "        year: base + (1 if idx < remainder else 0)\n",
    "        for idx, year in enumerate(sorted(years))\n",
    "    }\n",
    "\n",
    "    # --- sample per‐year according to the quota dict ---\n",
    "    sampled = (\n",
    "        df\n",
    "        .groupby(\"year\", group_keys=False)\n",
    "        .apply(lambda grp: grp.sample(\n",
    "            n=min(len(grp), quotas[grp.name]),\n",
    "            random_state=random_state))\n",
    "        .reset_index(drop=True)\n",
    "    )\n",
    "\n",
    "    return sampled"
   ]
  },
  {
   "cell_type": "code",
   "execution_count": 15,
   "id": "c0ccd338-0e02-41f3-a09d-f56f9266e3fb",
   "metadata": {
    "execution": {
     "iopub.execute_input": "2025-07-30T13:14:38.212558Z",
     "iopub.status.busy": "2025-07-30T13:14:38.212073Z",
     "iopub.status.idle": "2025-07-30T13:14:38.223679Z",
     "shell.execute_reply": "2025-07-30T13:14:38.222726Z"
    },
    "papermill": {
     "duration": 0.039065,
     "end_time": "2025-07-30T13:14:38.227945",
     "exception": false,
     "start_time": "2025-07-30T13:14:38.188880",
     "status": "completed"
    },
    "tags": []
   },
   "outputs": [
    {
     "data": {
      "text/plain": [
       "'25k'"
      ]
     },
     "execution_count": 15,
     "metadata": {},
     "output_type": "execute_result"
    }
   ],
   "source": [
    "universe[\"training_size\"]"
   ]
  },
  {
   "cell_type": "code",
   "execution_count": 16,
   "id": "ca707fd7-8047-4acd-bfa5-66248fbbf8e6",
   "metadata": {
    "execution": {
     "iopub.execute_input": "2025-07-30T13:14:38.272773Z",
     "iopub.status.busy": "2025-07-30T13:14:38.272281Z",
     "iopub.status.idle": "2025-07-30T13:14:38.281376Z",
     "shell.execute_reply": "2025-07-30T13:14:38.279958Z"
    },
    "papermill": {
     "duration": 0.035335,
     "end_time": "2025-07-30T13:14:38.284818",
     "exception": false,
     "start_time": "2025-07-30T13:14:38.249483",
     "status": "completed"
    },
    "tags": []
   },
   "outputs": [
    {
     "data": {
      "text/plain": [
       "'2012_14'"
      ]
     },
     "execution_count": 16,
     "metadata": {},
     "output_type": "execute_result"
    }
   ],
   "source": [
    "universe[\"training_year\"]"
   ]
  },
  {
   "cell_type": "code",
   "execution_count": 17,
   "id": "aea9c6ef-6f46-42c8-85eb-5a62025c1508",
   "metadata": {
    "execution": {
     "iopub.execute_input": "2025-07-30T13:14:38.352764Z",
     "iopub.status.busy": "2025-07-30T13:14:38.352259Z",
     "iopub.status.idle": "2025-07-30T13:14:39.020222Z",
     "shell.execute_reply": "2025-07-30T13:14:39.019190Z"
    },
    "papermill": {
     "duration": 0.701082,
     "end_time": "2025-07-30T13:14:39.022358",
     "exception": false,
     "start_time": "2025-07-30T13:14:38.321276",
     "status": "completed"
    },
    "tags": []
   },
   "outputs": [],
   "source": [
    "siab_train = sample_by_year_size(siab,\n",
    "                               training_year=universe[\"training_year\"],\n",
    "                               training_size=universe[\"training_size\"])"
   ]
  },
  {
   "cell_type": "code",
   "execution_count": 18,
   "id": "8d3afb32-789d-442c-8d5d-9f5aa8dd2eed",
   "metadata": {
    "execution": {
     "iopub.execute_input": "2025-07-30T13:14:39.087954Z",
     "iopub.status.busy": "2025-07-30T13:14:39.087020Z",
     "iopub.status.idle": "2025-07-30T13:14:39.094255Z",
     "shell.execute_reply": "2025-07-30T13:14:39.093315Z"
    },
    "papermill": {
     "duration": 0.048386,
     "end_time": "2025-07-30T13:14:39.112521",
     "exception": false,
     "start_time": "2025-07-30T13:14:39.064135",
     "status": "completed"
    },
    "tags": []
   },
   "outputs": [
    {
     "data": {
      "text/plain": [
       "(25000, 164)"
      ]
     },
     "execution_count": 18,
     "metadata": {},
     "output_type": "execute_result"
    }
   ],
   "source": [
    "siab_train.shape"
   ]
  },
  {
   "cell_type": "code",
   "execution_count": 19,
   "id": "d582db68-1a4c-47fb-84fc-08518dc1975a",
   "metadata": {
    "execution": {
     "iopub.execute_input": "2025-07-30T13:14:39.169390Z",
     "iopub.status.busy": "2025-07-30T13:14:39.168882Z",
     "iopub.status.idle": "2025-07-30T13:14:39.183107Z",
     "shell.execute_reply": "2025-07-30T13:14:39.181988Z"
    },
    "papermill": {
     "duration": 0.037949,
     "end_time": "2025-07-30T13:14:39.184995",
     "exception": false,
     "start_time": "2025-07-30T13:14:39.147046",
     "status": "completed"
    },
    "tags": []
   },
   "outputs": [
    {
     "data": {
      "text/plain": [
       "year\n",
       "2012    8334\n",
       "2013    8333\n",
       "2014    8333\n",
       "dtype: int64"
      ]
     },
     "metadata": {},
     "output_type": "display_data"
    }
   ],
   "source": [
    "display(siab_train.groupby(\"year\").size())"
   ]
  },
  {
   "cell_type": "code",
   "execution_count": 20,
   "id": "a561edb4-d032-42cb-8256-22eac1111c64",
   "metadata": {
    "execution": {
     "iopub.execute_input": "2025-07-30T13:14:39.260427Z",
     "iopub.status.busy": "2025-07-30T13:14:39.259871Z",
     "iopub.status.idle": "2025-07-30T13:14:39.515610Z",
     "shell.execute_reply": "2025-07-30T13:14:39.514656Z"
    },
    "papermill": {
     "duration": 0.280978,
     "end_time": "2025-07-30T13:14:39.517527",
     "exception": false,
     "start_time": "2025-07-30T13:14:39.236549",
     "status": "completed"
    },
    "tags": []
   },
   "outputs": [],
   "source": [
    "#siab_train = siab_s[siab_s.year < 2015]\n",
    "siab_calib = siab[siab.year == 2015]\n",
    "siab_test = siab[siab.year == 2016]"
   ]
  },
  {
   "cell_type": "code",
   "execution_count": 21,
   "id": "472de16f-c3db-4916-846b-1f0de9cf1746",
   "metadata": {
    "execution": {
     "iopub.execute_input": "2025-07-30T13:14:39.622543Z",
     "iopub.status.busy": "2025-07-30T13:14:39.622150Z",
     "iopub.status.idle": "2025-07-30T13:14:39.637251Z",
     "shell.execute_reply": "2025-07-30T13:14:39.636285Z"
    },
    "papermill": {
     "duration": 0.062425,
     "end_time": "2025-07-30T13:14:39.639005",
     "exception": false,
     "start_time": "2025-07-30T13:14:39.576580",
     "status": "completed"
    },
    "tags": []
   },
   "outputs": [],
   "source": [
    "X_train = siab_train.iloc[:,4:164]\n",
    "y_train = siab_train.iloc[:, [3]]"
   ]
  },
  {
   "cell_type": "code",
   "execution_count": 22,
   "id": "828c96af-f43a-4ed6-ba47-8ac73a47d56c",
   "metadata": {
    "execution": {
     "iopub.execute_input": "2025-07-30T13:14:39.712463Z",
     "iopub.status.busy": "2025-07-30T13:14:39.711746Z",
     "iopub.status.idle": "2025-07-30T13:14:39.766789Z",
     "shell.execute_reply": "2025-07-30T13:14:39.765589Z"
    },
    "papermill": {
     "duration": 0.081881,
     "end_time": "2025-07-30T13:14:39.769106",
     "exception": false,
     "start_time": "2025-07-30T13:14:39.687225",
     "status": "completed"
    },
    "tags": []
   },
   "outputs": [],
   "source": [
    "X_calib = siab_calib.iloc[:,4:164]\n",
    "y_calib = siab_calib.iloc[:, [3]]"
   ]
  },
  {
   "cell_type": "code",
   "execution_count": 23,
   "id": "c34be9c3-6bd6-476e-acd3-845840e303be",
   "metadata": {
    "execution": {
     "iopub.execute_input": "2025-07-30T13:14:39.832755Z",
     "iopub.status.busy": "2025-07-30T13:14:39.832307Z",
     "iopub.status.idle": "2025-07-30T13:14:39.906457Z",
     "shell.execute_reply": "2025-07-30T13:14:39.905227Z"
    },
    "papermill": {
     "duration": 0.115336,
     "end_time": "2025-07-30T13:14:39.908867",
     "exception": false,
     "start_time": "2025-07-30T13:14:39.793531",
     "status": "completed"
    },
    "tags": []
   },
   "outputs": [],
   "source": [
    "X_test = siab_test.iloc[:,4:164]\n",
    "y_true = siab_test.iloc[:, [3]]"
   ]
  },
  {
   "cell_type": "markdown",
   "id": "9901737e-04df-44f0-9100-f5ad144ed040",
   "metadata": {
    "papermill": {
     "duration": 0.021151,
     "end_time": "2025-07-30T13:14:39.951359",
     "exception": false,
     "start_time": "2025-07-30T13:14:39.930208",
     "status": "completed"
    },
    "tags": []
   },
   "source": [
    "# Splitting Data and Setting Training Data Size OLD VERSION"
   ]
  },
  {
   "cell_type": "code",
   "execution_count": 24,
   "id": "acbc8f7d-8fc8-4e86-8c59-5dcb0f58384b",
   "metadata": {
    "execution": {
     "iopub.execute_input": "2025-07-30T13:14:39.994840Z",
     "iopub.status.busy": "2025-07-30T13:14:39.994077Z",
     "iopub.status.idle": "2025-07-30T13:14:40.003011Z",
     "shell.execute_reply": "2025-07-30T13:14:39.998733Z"
    },
    "papermill": {
     "duration": 0.032381,
     "end_time": "2025-07-30T13:14:40.004882",
     "exception": false,
     "start_time": "2025-07-30T13:14:39.972501",
     "status": "completed"
    },
    "tags": []
   },
   "outputs": [],
   "source": [
    "#def sample_by_year(df, training_size, random_state=42):\n",
    "#    if training_size == \"2014\":\n",
    "#        return df[df[\"year\"] == 2014].reset_index(drop=True)\n",
    "#    \n",
    "#    size_map = {\n",
    "#        \"25k\": 5000,\n",
    "#        \"5k\": 1000,\n",
    "#        \"1k\": 200\n",
    "#    }\n",
    "#\n",
    "#    if training_size not in size_map:\n",
    "#        return df.reset_index(drop=True)  # use all data\n",
    "#\n",
    "#    n_per_year = size_map[training_size]\n",
    "#    grouped = df.groupby(\"year\")\n",
    "#    sampled = grouped.apply(lambda x: x.sample(n=min(n_per_year, len(x)), random_state=random_state))\n",
    "#    return sampled.reset_index(drop=True)"
   ]
  },
  {
   "cell_type": "code",
   "execution_count": 25,
   "id": "6d931f52-beaf-43ff-9e78-9d44a448d54e",
   "metadata": {
    "execution": {
     "iopub.execute_input": "2025-07-30T13:14:40.049714Z",
     "iopub.status.busy": "2025-07-30T13:14:40.049143Z",
     "iopub.status.idle": "2025-07-30T13:14:40.055217Z",
     "shell.execute_reply": "2025-07-30T13:14:40.054015Z"
    },
    "papermill": {
     "duration": 0.031163,
     "end_time": "2025-07-30T13:14:40.057479",
     "exception": false,
     "start_time": "2025-07-30T13:14:40.026316",
     "status": "completed"
    },
    "tags": []
   },
   "outputs": [],
   "source": [
    "#siab_s = sample_by_year(siab, universe[\"training_size\"])"
   ]
  },
  {
   "cell_type": "code",
   "execution_count": 26,
   "id": "5db0a40e-a4e2-4920-be85-b12ae061d70d",
   "metadata": {
    "execution": {
     "iopub.execute_input": "2025-07-30T13:14:40.119176Z",
     "iopub.status.busy": "2025-07-30T13:14:40.118400Z",
     "iopub.status.idle": "2025-07-30T13:14:40.125297Z",
     "shell.execute_reply": "2025-07-30T13:14:40.124314Z"
    },
    "papermill": {
     "duration": 0.039794,
     "end_time": "2025-07-30T13:14:40.127557",
     "exception": false,
     "start_time": "2025-07-30T13:14:40.087763",
     "status": "completed"
    },
    "tags": []
   },
   "outputs": [],
   "source": [
    "#display(siab_s.groupby(\"year\").size())"
   ]
  },
  {
   "cell_type": "code",
   "execution_count": 27,
   "id": "e6c733c5",
   "metadata": {
    "execution": {
     "iopub.execute_input": "2025-07-30T13:14:40.190511Z",
     "iopub.status.busy": "2025-07-30T13:14:40.189821Z",
     "iopub.status.idle": "2025-07-30T13:14:40.305244Z",
     "shell.execute_reply": "2025-07-30T13:14:40.304144Z"
    },
    "papermill": {
     "duration": 0.148584,
     "end_time": "2025-07-30T13:14:40.307036",
     "exception": false,
     "start_time": "2025-07-30T13:14:40.158452",
     "status": "completed"
    },
    "tags": []
   },
   "outputs": [],
   "source": [
    "# Auxiliary data needed downstream in the pipeline\n",
    "\n",
    "org_train = X_train.copy()\n",
    "org_test = X_test.copy()\n",
    "org_calib = X_calib.copy()"
   ]
  },
  {
   "cell_type": "code",
   "execution_count": 28,
   "id": "1466abac-c6da-4492-a62f-4240ae3783af",
   "metadata": {
    "execution": {
     "iopub.execute_input": "2025-07-30T13:14:40.430220Z",
     "iopub.status.busy": "2025-07-30T13:14:40.429816Z",
     "iopub.status.idle": "2025-07-30T13:14:40.435843Z",
     "shell.execute_reply": "2025-07-30T13:14:40.434849Z"
    },
    "papermill": {
     "duration": 0.099083,
     "end_time": "2025-07-30T13:14:40.437559",
     "exception": false,
     "start_time": "2025-07-30T13:14:40.338476",
     "status": "completed"
    },
    "tags": []
   },
   "outputs": [],
   "source": [
    "# put in other script?\n",
    "# Group sizes\n",
    "\n",
    "#def calculate_percentages(df, df_name):\n",
    "#    total_entries = len(df)\n",
    "#\n",
    "#    female_pct = (df['frau1'] == 1).mean() * 100\n",
    "#    non_german_pct = ((df['maxdeutsch1'] == 0) & (df['maxdeutsch.Missing.'] == 0)).mean() * 100\n",
    "#    non_german_male_pct = ((df['frau1'] == 0) & (df['maxdeutsch1'] == 0) & (df['maxdeutsch.Missing.'] == 0)).mean() * 100\n",
    "#    non_german_female_pct = ((df['frau1'] == 1) & (df['maxdeutsch1'] == 0) & (df['maxdeutsch.Missing.'] == 0)).mean() * 100\n",
    "#\n",
    "#    print(f\"--- {df_name} ---\")\n",
    "#    print(f\"Female: {female_pct:.2f}%\")\n",
    "#    print(f\"Non-German: {non_german_pct:.2f}%\")\n",
    "#    print(f\"Non-German Male: {non_german_male_pct:.2f}%\")\n",
    "#    print(f\"Non-German Female: {non_german_female_pct:.2f}%\\n\")\n",
    "#\n",
    "## Calculate for each DataFrame\n",
    "#calculate_percentages(siab_calib, \"siab_calib\")\n",
    "#calculate_percentages(siab_test, \"siab_test\")\n",
    "#calculate_percentages(siab_train, \"siab_train\")"
   ]
  },
  {
   "cell_type": "markdown",
   "id": "0a4a1b33",
   "metadata": {
    "papermill": {
     "duration": 0.091412,
     "end_time": "2025-07-30T13:14:40.585764",
     "exception": false,
     "start_time": "2025-07-30T13:14:40.494352",
     "status": "completed"
    },
    "tags": []
   },
   "source": [
    "# Preprocessing Data"
   ]
  },
  {
   "cell_type": "code",
   "execution_count": 29,
   "id": "ca879031",
   "metadata": {
    "execution": {
     "iopub.execute_input": "2025-07-30T13:14:40.662941Z",
     "iopub.status.busy": "2025-07-30T13:14:40.662523Z",
     "iopub.status.idle": "2025-07-30T13:14:40.670280Z",
     "shell.execute_reply": "2025-07-30T13:14:40.669177Z"
    },
    "papermill": {
     "duration": 0.056064,
     "end_time": "2025-07-30T13:14:40.672600",
     "exception": false,
     "start_time": "2025-07-30T13:14:40.616536",
     "status": "completed"
    },
    "tags": []
   },
   "outputs": [],
   "source": [
    "# EXCLUDE PROTECTED FEATURES\n",
    "# ----------------------\n",
    "# \"exclude_features\": \"none\", # \"nationality\", \"sex\", \"nationality-sex\"\n",
    "\n",
    "excluded_features = universe[\"exclude_features\"].split(\"-\") # split, e.g.: \"nationality-sex\" -> [\"nationality\", \"sex\"]\n",
    "excluded_features_dictionary = {\n",
    "    \"nationality\": [\"maxdeutsch1\", \"maxdeutsch.Missing.\"],\n",
    "    \"sex\": [\"frau1\"],\n",
    "    \"age\": [\"age\"],\n",
    "}\n"
   ]
  },
  {
   "cell_type": "code",
   "execution_count": 30,
   "id": "b745ac60",
   "metadata": {
    "execution": {
     "iopub.execute_input": "2025-07-30T13:14:40.756606Z",
     "iopub.status.busy": "2025-07-30T13:14:40.756145Z",
     "iopub.status.idle": "2025-07-30T13:14:40.762114Z",
     "shell.execute_reply": "2025-07-30T13:14:40.761134Z"
    },
    "papermill": {
     "duration": 0.065708,
     "end_time": "2025-07-30T13:14:40.763671",
     "exception": false,
     "start_time": "2025-07-30T13:14:40.697963",
     "status": "completed"
    },
    "tags": []
   },
   "outputs": [],
   "source": [
    "# Code nice names to column names\n",
    "\n",
    "excluded_features_columns = [\n",
    "    excluded_features_dictionary[f] for f in excluded_features if len(f) > 0 and f != \"none\"\n",
    "]"
   ]
  },
  {
   "cell_type": "code",
   "execution_count": 31,
   "id": "f84f73a2",
   "metadata": {
    "execution": {
     "iopub.execute_input": "2025-07-30T13:14:40.870695Z",
     "iopub.status.busy": "2025-07-30T13:14:40.870291Z",
     "iopub.status.idle": "2025-07-30T13:14:40.878177Z",
     "shell.execute_reply": "2025-07-30T13:14:40.877162Z"
    },
    "papermill": {
     "duration": 0.07536,
     "end_time": "2025-07-30T13:14:40.879948",
     "exception": false,
     "start_time": "2025-07-30T13:14:40.804588",
     "status": "completed"
    },
    "tags": []
   },
   "outputs": [],
   "source": [
    "from utils import flatten_once\n",
    "\n",
    "excluded_features_columns = flatten_once(excluded_features_columns)"
   ]
  },
  {
   "cell_type": "code",
   "execution_count": 32,
   "id": "884dea22",
   "metadata": {
    "execution": {
     "iopub.execute_input": "2025-07-30T13:14:40.970152Z",
     "iopub.status.busy": "2025-07-30T13:14:40.969715Z",
     "iopub.status.idle": "2025-07-30T13:14:40.991562Z",
     "shell.execute_reply": "2025-07-30T13:14:40.990451Z"
    },
    "papermill": {
     "duration": 0.066792,
     "end_time": "2025-07-30T13:14:40.993788",
     "exception": false,
     "start_time": "2025-07-30T13:14:40.926996",
     "status": "completed"
    },
    "tags": []
   },
   "outputs": [
    {
     "name": "stdout",
     "output_type": "stream",
     "text": [
      "Dropping features: ['age']\n"
     ]
    }
   ],
   "source": [
    "if len(excluded_features_columns) > 0:\n",
    "    print(f\"Dropping features: {excluded_features_columns}\")\n",
    "    X_train.drop(excluded_features_columns, axis=1, inplace=True)"
   ]
  },
  {
   "cell_type": "code",
   "execution_count": 33,
   "id": "95ab8b16",
   "metadata": {
    "execution": {
     "iopub.execute_input": "2025-07-30T13:14:41.063499Z",
     "iopub.status.busy": "2025-07-30T13:14:41.063080Z",
     "iopub.status.idle": "2025-07-30T13:14:41.118631Z",
     "shell.execute_reply": "2025-07-30T13:14:41.117539Z"
    },
    "papermill": {
     "duration": 0.081239,
     "end_time": "2025-07-30T13:14:41.121379",
     "exception": false,
     "start_time": "2025-07-30T13:14:41.040140",
     "status": "completed"
    },
    "tags": []
   },
   "outputs": [
    {
     "name": "stdout",
     "output_type": "stream",
     "text": [
      "Dropping features: ['age']\n"
     ]
    }
   ],
   "source": [
    "if len(excluded_features_columns) > 0:\n",
    "    print(f\"Dropping features: {excluded_features_columns}\")\n",
    "    X_test.drop(excluded_features_columns, axis=1, inplace=True)"
   ]
  },
  {
   "cell_type": "code",
   "execution_count": 34,
   "id": "1853aaf5-fb9f-46cb-a2b5-8ea4ae2237e4",
   "metadata": {
    "execution": {
     "iopub.execute_input": "2025-07-30T13:14:41.186951Z",
     "iopub.status.busy": "2025-07-30T13:14:41.186450Z",
     "iopub.status.idle": "2025-07-30T13:14:41.243826Z",
     "shell.execute_reply": "2025-07-30T13:14:41.242715Z"
    },
    "papermill": {
     "duration": 0.108748,
     "end_time": "2025-07-30T13:14:41.261319",
     "exception": false,
     "start_time": "2025-07-30T13:14:41.152571",
     "status": "completed"
    },
    "tags": []
   },
   "outputs": [
    {
     "name": "stdout",
     "output_type": "stream",
     "text": [
      "Dropping features: ['age']\n"
     ]
    }
   ],
   "source": [
    "if len(excluded_features_columns) > 0:\n",
    "    print(f\"Dropping features: {excluded_features_columns}\")\n",
    "    X_calib.drop(excluded_features_columns, axis=1, inplace=True)"
   ]
  },
  {
   "cell_type": "code",
   "execution_count": 35,
   "id": "6727d079-03e5-481e-9d38-292a90b7a0a8",
   "metadata": {
    "execution": {
     "iopub.execute_input": "2025-07-30T13:14:41.318677Z",
     "iopub.status.busy": "2025-07-30T13:14:41.318211Z",
     "iopub.status.idle": "2025-07-30T13:14:41.323215Z",
     "shell.execute_reply": "2025-07-30T13:14:41.322279Z"
    },
    "papermill": {
     "duration": 0.033431,
     "end_time": "2025-07-30T13:14:41.326115",
     "exception": false,
     "start_time": "2025-07-30T13:14:41.292684",
     "status": "completed"
    },
    "tags": []
   },
   "outputs": [],
   "source": [
    "# SPLIT & STRATIFY DATA\n",
    "# ----------------------"
   ]
  },
  {
   "cell_type": "code",
   "execution_count": 36,
   "id": "76c4dc6d",
   "metadata": {
    "execution": {
     "iopub.execute_input": "2025-07-30T13:14:41.404890Z",
     "iopub.status.busy": "2025-07-30T13:14:41.404351Z",
     "iopub.status.idle": "2025-07-30T13:14:41.410021Z",
     "shell.execute_reply": "2025-07-30T13:14:41.409086Z"
    },
    "papermill": {
     "duration": 0.0491,
     "end_time": "2025-07-30T13:14:41.411389",
     "exception": false,
     "start_time": "2025-07-30T13:14:41.362289",
     "status": "completed"
    },
    "tags": []
   },
   "outputs": [],
   "source": [
    "# EXCLUDE CERTAIN SUBGROUPS\n",
    "# ----------------------\n",
    "\n",
    "mode = universe.get(\"exclude_subgroups\", \"keep-all\") \n",
    "# Fetches the exclude_subgroups setting from the universe dict.\n",
    "# Defaults to \"keep-all\" if the key is missing."
   ]
  },
  {
   "cell_type": "code",
   "execution_count": 37,
   "id": "21994072",
   "metadata": {
    "execution": {
     "iopub.execute_input": "2025-07-30T13:14:41.461351Z",
     "iopub.status.busy": "2025-07-30T13:14:41.460938Z",
     "iopub.status.idle": "2025-07-30T13:14:41.468054Z",
     "shell.execute_reply": "2025-07-30T13:14:41.466951Z"
    },
    "papermill": {
     "duration": 0.034825,
     "end_time": "2025-07-30T13:14:41.471258",
     "exception": false,
     "start_time": "2025-07-30T13:14:41.436433",
     "status": "completed"
    },
    "tags": []
   },
   "outputs": [],
   "source": [
    "if mode == \"keep-all\":\n",
    "    keep_mask = pd.Series(True, index=org_train.index)\n",
    "\n",
    "# org_train contains the original feature columns from features_org (in Simson)\n",
    "# features_org contains unprocessed features, for me X_train at beginning ???\n",
    "# For keep-all, creates a boolean Series (keep_mask) of all True, so no rows are removed.\n",
    "\n",
    "elif mode == \"drop-non-german\":\n",
    "    keep_mask = org_train[\"maxdeutsch1\"] == 1 # ??? what about missing values?\n",
    "\n",
    "else:\n",
    "    raise ValueError(f\"Unsupported mode for exclude_subgroups: {mode}\")\n"
   ]
  },
  {
   "cell_type": "code",
   "execution_count": 38,
   "id": "71651440",
   "metadata": {
    "execution": {
     "iopub.execute_input": "2025-07-30T13:14:41.521834Z",
     "iopub.status.busy": "2025-07-30T13:14:41.521402Z",
     "iopub.status.idle": "2025-07-30T13:14:41.528508Z",
     "shell.execute_reply": "2025-07-30T13:14:41.527234Z"
    },
    "papermill": {
     "duration": 0.04348,
     "end_time": "2025-07-30T13:14:41.538982",
     "exception": false,
     "start_time": "2025-07-30T13:14:41.495502",
     "status": "completed"
    },
    "tags": []
   },
   "outputs": [],
   "source": [
    "n_drop = (~keep_mask).sum() # Calculates how many rows are set to be dropped\n",
    "if n_drop > 0:\n",
    "    pct = n_drop / len(keep_mask) * 100\n",
    "    print(f\"Dropping {n_drop} rows ({pct:.2f}%) where mode='{mode}'\")"
   ]
  },
  {
   "cell_type": "code",
   "execution_count": 39,
   "id": "5fb8eee5",
   "metadata": {
    "execution": {
     "iopub.execute_input": "2025-07-30T13:14:41.586683Z",
     "iopub.status.busy": "2025-07-30T13:14:41.586308Z",
     "iopub.status.idle": "2025-07-30T13:14:41.602668Z",
     "shell.execute_reply": "2025-07-30T13:14:41.601410Z"
    },
    "papermill": {
     "duration": 0.041815,
     "end_time": "2025-07-30T13:14:41.605233",
     "exception": false,
     "start_time": "2025-07-30T13:14:41.563418",
     "status": "completed"
    },
    "tags": []
   },
   "outputs": [],
   "source": [
    "X_train = X_train[keep_mask]"
   ]
  },
  {
   "cell_type": "code",
   "execution_count": 40,
   "id": "b202bb3a",
   "metadata": {
    "execution": {
     "iopub.execute_input": "2025-07-30T13:14:41.653621Z",
     "iopub.status.busy": "2025-07-30T13:14:41.653239Z",
     "iopub.status.idle": "2025-07-30T13:14:41.659612Z",
     "shell.execute_reply": "2025-07-30T13:14:41.658591Z"
    },
    "papermill": {
     "duration": 0.033424,
     "end_time": "2025-07-30T13:14:41.662467",
     "exception": false,
     "start_time": "2025-07-30T13:14:41.629043",
     "status": "completed"
    },
    "tags": []
   },
   "outputs": [],
   "source": [
    "y_train = y_train[keep_mask]"
   ]
  },
  {
   "cell_type": "markdown",
   "id": "493e2ac3",
   "metadata": {
    "papermill": {
     "duration": 0.0238,
     "end_time": "2025-07-30T13:14:41.710729",
     "exception": false,
     "start_time": "2025-07-30T13:14:41.686929",
     "status": "completed"
    },
    "tags": []
   },
   "source": [
    "# Model Training"
   ]
  },
  {
   "cell_type": "code",
   "execution_count": 41,
   "id": "679e1268",
   "metadata": {
    "execution": {
     "iopub.execute_input": "2025-07-30T13:14:41.759069Z",
     "iopub.status.busy": "2025-07-30T13:14:41.758656Z",
     "iopub.status.idle": "2025-07-30T13:14:41.954156Z",
     "shell.execute_reply": "2025-07-30T13:14:41.953033Z"
    },
    "papermill": {
     "duration": 0.223703,
     "end_time": "2025-07-30T13:14:41.956060",
     "exception": false,
     "start_time": "2025-07-30T13:14:41.732357",
     "status": "completed"
    },
    "tags": []
   },
   "outputs": [],
   "source": [
    "from sklearn.linear_model import LogisticRegression\n",
    "from sklearn.ensemble import GradientBoostingClassifier, RandomForestClassifier\n",
    "\n",
    "if (universe[\"model\"] == \"logreg\"):\n",
    "    model = LogisticRegression() #penalty=\"none\") #, solver=\"newton-cg\", max_iter=1) # include random_state=19 ?\n",
    "elif (universe[\"model\"] == \"penalized_logreg\"):\n",
    "    model = LogisticRegression(penalty=\"l2\", C=1.0) #, solver=\"newton-cg\", max_iter=1)\n",
    "elif (universe[\"model\"] == \"rf\"):\n",
    "    model = RandomForestClassifier(n_estimators=100, n_jobs=-1)\n",
    "elif (universe[\"model\"] == \"gbm\"):\n",
    "    model = GradientBoostingClassifier()\n",
    "elif (universe[\"model\"] == \"elasticnet\"):\n",
    "    model = LogisticRegression(penalty = 'elasticnet', solver = 'saga', l1_ratio = 0.5, max_iter=5000) # which solver to use?\n",
    "else:\n",
    "    raise \"Unsupported universe.model\""
   ]
  },
  {
   "cell_type": "code",
   "execution_count": 42,
   "id": "0cc8f744",
   "metadata": {
    "execution": {
     "iopub.execute_input": "2025-07-30T13:14:42.049557Z",
     "iopub.status.busy": "2025-07-30T13:14:42.048535Z",
     "iopub.status.idle": "2025-07-30T13:14:42.055299Z",
     "shell.execute_reply": "2025-07-30T13:14:42.054334Z"
    },
    "papermill": {
     "duration": 0.061067,
     "end_time": "2025-07-30T13:14:42.056943",
     "exception": false,
     "start_time": "2025-07-30T13:14:41.995876",
     "status": "completed"
    },
    "tags": []
   },
   "outputs": [],
   "source": [
    "import numpy as np\n",
    "from sklearn.pipeline import Pipeline\n",
    "from sklearn.preprocessing import StandardScaler\n",
    "\n",
    "model = Pipeline([\n",
    "    #(\"continuous_processor\", continuous_processor),\n",
    "    #(\"categorical_preprocessor\", categorical_preprocessor),\n",
    "    (\"scale\", StandardScaler() if universe[\"scale\"] == \"scale\" else None), \n",
    "    (\"model\", model),\n",
    "])"
   ]
  },
  {
   "cell_type": "code",
   "execution_count": 43,
   "id": "9442c04d",
   "metadata": {
    "execution": {
     "iopub.execute_input": "2025-07-30T13:14:42.110563Z",
     "iopub.status.busy": "2025-07-30T13:14:42.110237Z",
     "iopub.status.idle": "2025-07-30T13:14:46.103452Z",
     "shell.execute_reply": "2025-07-30T13:14:46.102438Z"
    },
    "papermill": {
     "duration": 4.021268,
     "end_time": "2025-07-30T13:14:46.105216",
     "exception": false,
     "start_time": "2025-07-30T13:14:42.083948",
     "status": "completed"
    },
    "tags": []
   },
   "outputs": [
    {
     "data": {
      "text/html": [
       "<style>#sk-container-id-1 {color: black;background-color: white;}#sk-container-id-1 pre{padding: 0;}#sk-container-id-1 div.sk-toggleable {background-color: white;}#sk-container-id-1 label.sk-toggleable__label {cursor: pointer;display: block;width: 100%;margin-bottom: 0;padding: 0.3em;box-sizing: border-box;text-align: center;}#sk-container-id-1 label.sk-toggleable__label-arrow:before {content: \"▸\";float: left;margin-right: 0.25em;color: #696969;}#sk-container-id-1 label.sk-toggleable__label-arrow:hover:before {color: black;}#sk-container-id-1 div.sk-estimator:hover label.sk-toggleable__label-arrow:before {color: black;}#sk-container-id-1 div.sk-toggleable__content {max-height: 0;max-width: 0;overflow: hidden;text-align: left;background-color: #f0f8ff;}#sk-container-id-1 div.sk-toggleable__content pre {margin: 0.2em;color: black;border-radius: 0.25em;background-color: #f0f8ff;}#sk-container-id-1 input.sk-toggleable__control:checked~div.sk-toggleable__content {max-height: 200px;max-width: 100%;overflow: auto;}#sk-container-id-1 input.sk-toggleable__control:checked~label.sk-toggleable__label-arrow:before {content: \"▾\";}#sk-container-id-1 div.sk-estimator input.sk-toggleable__control:checked~label.sk-toggleable__label {background-color: #d4ebff;}#sk-container-id-1 div.sk-label input.sk-toggleable__control:checked~label.sk-toggleable__label {background-color: #d4ebff;}#sk-container-id-1 input.sk-hidden--visually {border: 0;clip: rect(1px 1px 1px 1px);clip: rect(1px, 1px, 1px, 1px);height: 1px;margin: -1px;overflow: hidden;padding: 0;position: absolute;width: 1px;}#sk-container-id-1 div.sk-estimator {font-family: monospace;background-color: #f0f8ff;border: 1px dotted black;border-radius: 0.25em;box-sizing: border-box;margin-bottom: 0.5em;}#sk-container-id-1 div.sk-estimator:hover {background-color: #d4ebff;}#sk-container-id-1 div.sk-parallel-item::after {content: \"\";width: 100%;border-bottom: 1px solid gray;flex-grow: 1;}#sk-container-id-1 div.sk-label:hover label.sk-toggleable__label {background-color: #d4ebff;}#sk-container-id-1 div.sk-serial::before {content: \"\";position: absolute;border-left: 1px solid gray;box-sizing: border-box;top: 0;bottom: 0;left: 50%;z-index: 0;}#sk-container-id-1 div.sk-serial {display: flex;flex-direction: column;align-items: center;background-color: white;padding-right: 0.2em;padding-left: 0.2em;position: relative;}#sk-container-id-1 div.sk-item {position: relative;z-index: 1;}#sk-container-id-1 div.sk-parallel {display: flex;align-items: stretch;justify-content: center;background-color: white;position: relative;}#sk-container-id-1 div.sk-item::before, #sk-container-id-1 div.sk-parallel-item::before {content: \"\";position: absolute;border-left: 1px solid gray;box-sizing: border-box;top: 0;bottom: 0;left: 50%;z-index: -1;}#sk-container-id-1 div.sk-parallel-item {display: flex;flex-direction: column;z-index: 1;position: relative;background-color: white;}#sk-container-id-1 div.sk-parallel-item:first-child::after {align-self: flex-end;width: 50%;}#sk-container-id-1 div.sk-parallel-item:last-child::after {align-self: flex-start;width: 50%;}#sk-container-id-1 div.sk-parallel-item:only-child::after {width: 0;}#sk-container-id-1 div.sk-dashed-wrapped {border: 1px dashed gray;margin: 0 0.4em 0.5em 0.4em;box-sizing: border-box;padding-bottom: 0.4em;background-color: white;}#sk-container-id-1 div.sk-label label {font-family: monospace;font-weight: bold;display: inline-block;line-height: 1.2em;}#sk-container-id-1 div.sk-label-container {text-align: center;}#sk-container-id-1 div.sk-container {/* jupyter's `normalize.less` sets `[hidden] { display: none; }` but bootstrap.min.css set `[hidden] { display: none !important; }` so we also need the `!important` here to be able to override the default hidden behavior on the sphinx rendered scikit-learn.org. See: https://github.com/scikit-learn/scikit-learn/issues/21755 */display: inline-block !important;position: relative;}#sk-container-id-1 div.sk-text-repr-fallback {display: none;}</style><div id=\"sk-container-id-1\" class=\"sk-top-container\"><div class=\"sk-text-repr-fallback\"><pre>Pipeline(steps=[(&#x27;scale&#x27;, None), (&#x27;model&#x27;, RandomForestClassifier(n_jobs=-1))])</pre><b>In a Jupyter environment, please rerun this cell to show the HTML representation or trust the notebook. <br />On GitHub, the HTML representation is unable to render, please try loading this page with nbviewer.org.</b></div><div class=\"sk-container\" hidden><div class=\"sk-item sk-dashed-wrapped\"><div class=\"sk-label-container\"><div class=\"sk-label sk-toggleable\"><input class=\"sk-toggleable__control sk-hidden--visually\" id=\"sk-estimator-id-1\" type=\"checkbox\" ><label for=\"sk-estimator-id-1\" class=\"sk-toggleable__label sk-toggleable__label-arrow\">Pipeline</label><div class=\"sk-toggleable__content\"><pre>Pipeline(steps=[(&#x27;scale&#x27;, None), (&#x27;model&#x27;, RandomForestClassifier(n_jobs=-1))])</pre></div></div></div><div class=\"sk-serial\"><div class=\"sk-item\"><div class=\"sk-estimator sk-toggleable\"><input class=\"sk-toggleable__control sk-hidden--visually\" id=\"sk-estimator-id-2\" type=\"checkbox\" ><label for=\"sk-estimator-id-2\" class=\"sk-toggleable__label sk-toggleable__label-arrow\">None</label><div class=\"sk-toggleable__content\"><pre>None</pre></div></div></div><div class=\"sk-item\"><div class=\"sk-estimator sk-toggleable\"><input class=\"sk-toggleable__control sk-hidden--visually\" id=\"sk-estimator-id-3\" type=\"checkbox\" ><label for=\"sk-estimator-id-3\" class=\"sk-toggleable__label sk-toggleable__label-arrow\">RandomForestClassifier</label><div class=\"sk-toggleable__content\"><pre>RandomForestClassifier(n_jobs=-1)</pre></div></div></div></div></div></div></div>"
      ],
      "text/plain": [
       "Pipeline(steps=[('scale', None), ('model', RandomForestClassifier(n_jobs=-1))])"
      ]
     },
     "execution_count": 43,
     "metadata": {},
     "output_type": "execute_result"
    }
   ],
   "source": [
    "model.fit(X_train, y_train.values.ravel())"
   ]
  },
  {
   "cell_type": "code",
   "execution_count": 44,
   "id": "af59f8c0",
   "metadata": {
    "execution": {
     "iopub.execute_input": "2025-07-30T13:14:46.190769Z",
     "iopub.status.busy": "2025-07-30T13:14:46.190306Z",
     "iopub.status.idle": "2025-07-30T13:14:46.195821Z",
     "shell.execute_reply": "2025-07-30T13:14:46.194766Z"
    },
    "papermill": {
     "duration": 0.064308,
     "end_time": "2025-07-30T13:14:46.197678",
     "exception": false,
     "start_time": "2025-07-30T13:14:46.133370",
     "status": "completed"
    },
    "tags": []
   },
   "outputs": [],
   "source": [
    "from fairness_multiverse.universe import predict_w_threshold"
   ]
  },
  {
   "cell_type": "code",
   "execution_count": 45,
   "id": "a7cf2e16",
   "metadata": {
    "execution": {
     "iopub.execute_input": "2025-07-30T13:14:46.287269Z",
     "iopub.status.busy": "2025-07-30T13:14:46.286862Z",
     "iopub.status.idle": "2025-07-30T13:14:47.587631Z",
     "shell.execute_reply": "2025-07-30T13:14:47.586799Z"
    },
    "papermill": {
     "duration": 1.342501,
     "end_time": "2025-07-30T13:14:47.589173",
     "exception": false,
     "start_time": "2025-07-30T13:14:46.246672",
     "status": "completed"
    },
    "tags": []
   },
   "outputs": [
    {
     "data": {
      "text/plain": [
       "0.8681417902129083"
      ]
     },
     "execution_count": 45,
     "metadata": {},
     "output_type": "execute_result"
    }
   ],
   "source": [
    "probs_test = model.predict_proba(X_test)\n",
    "\n",
    "'''\n",
    "Below code returns a boolean array (or binary 0/1 array depending on how it’s used) where each element \n",
    "is True if the probability of class 1 is greater than or equal to the threshold, and False otherwise.\n",
    "'''\n",
    "y_pred_default = predict_w_threshold(probs_test, 0.5)\n",
    "\n",
    "from sklearn.metrics import accuracy_score\n",
    "\n",
    "# Naive prediction\n",
    "accuracy_score(y_true = y_true, y_pred = y_pred_default)"
   ]
  },
  {
   "cell_type": "code",
   "execution_count": 46,
   "id": "081964c3",
   "metadata": {
    "execution": {
     "iopub.execute_input": "2025-07-30T13:14:47.647465Z",
     "iopub.status.busy": "2025-07-30T13:14:47.647139Z",
     "iopub.status.idle": "2025-07-30T13:14:48.834233Z",
     "shell.execute_reply": "2025-07-30T13:14:48.833378Z"
    },
    "papermill": {
     "duration": 1.205723,
     "end_time": "2025-07-30T13:14:48.835948",
     "exception": false,
     "start_time": "2025-07-30T13:14:47.630225",
     "status": "completed"
    },
    "tags": []
   },
   "outputs": [
    {
     "data": {
      "text/plain": [
       "array([0, 0, 0, ..., 0, 0, 0])"
      ]
     },
     "execution_count": 46,
     "metadata": {},
     "output_type": "execute_result"
    }
   ],
   "source": [
    "model.predict(X_test)"
   ]
  },
  {
   "cell_type": "markdown",
   "id": "56c9705b",
   "metadata": {
    "papermill": {
     "duration": 0.039918,
     "end_time": "2025-07-30T13:14:48.929017",
     "exception": false,
     "start_time": "2025-07-30T13:14:48.889099",
     "status": "completed"
    },
    "tags": []
   },
   "source": [
    "# Conformal Prediction"
   ]
  },
  {
   "cell_type": "code",
   "execution_count": 47,
   "id": "160ec6ff",
   "metadata": {
    "execution": {
     "iopub.execute_input": "2025-07-30T13:14:48.980709Z",
     "iopub.status.busy": "2025-07-30T13:14:48.979913Z",
     "iopub.status.idle": "2025-07-30T13:14:48.985564Z",
     "shell.execute_reply": "2025-07-30T13:14:48.984413Z"
    },
    "papermill": {
     "duration": 0.027414,
     "end_time": "2025-07-30T13:14:48.987184",
     "exception": false,
     "start_time": "2025-07-30T13:14:48.959770",
     "status": "completed"
    },
    "tags": []
   },
   "outputs": [],
   "source": [
    "# Miscoverage level for conformal prediction (10% allowed error rate => 90% target coverage)\n",
    "alpha = 0.1"
   ]
  },
  {
   "cell_type": "code",
   "execution_count": 48,
   "id": "eadf4555-3dd3-440e-8e35-f82a4ad9f855",
   "metadata": {
    "execution": {
     "iopub.execute_input": "2025-07-30T13:14:49.031661Z",
     "iopub.status.busy": "2025-07-30T13:14:49.030905Z",
     "iopub.status.idle": "2025-07-30T13:14:50.383673Z",
     "shell.execute_reply": "2025-07-30T13:14:50.382771Z"
    },
    "papermill": {
     "duration": 1.375038,
     "end_time": "2025-07-30T13:14:50.385658",
     "exception": false,
     "start_time": "2025-07-30T13:14:49.010620",
     "status": "completed"
    },
    "tags": []
   },
   "outputs": [],
   "source": [
    "probs_calib = model.predict_proba(X_calib)"
   ]
  },
  {
   "cell_type": "code",
   "execution_count": 49,
   "id": "2ed93547-6d5d-4983-9b36-1ecb300da49a",
   "metadata": {
    "execution": {
     "iopub.execute_input": "2025-07-30T13:14:50.438816Z",
     "iopub.status.busy": "2025-07-30T13:14:50.438344Z",
     "iopub.status.idle": "2025-07-30T13:14:50.443982Z",
     "shell.execute_reply": "2025-07-30T13:14:50.443138Z"
    },
    "papermill": {
     "duration": 0.034021,
     "end_time": "2025-07-30T13:14:50.445595",
     "exception": false,
     "start_time": "2025-07-30T13:14:50.411574",
     "status": "completed"
    },
    "tags": []
   },
   "outputs": [],
   "source": [
    "y_calib = y_calib.values.ravel().astype(int)"
   ]
  },
  {
   "cell_type": "code",
   "execution_count": 50,
   "id": "65d1320d-f588-4b38-9072-62af1ae97f7d",
   "metadata": {
    "execution": {
     "iopub.execute_input": "2025-07-30T13:14:50.496667Z",
     "iopub.status.busy": "2025-07-30T13:14:50.496238Z",
     "iopub.status.idle": "2025-07-30T13:14:50.520443Z",
     "shell.execute_reply": "2025-07-30T13:14:50.503008Z"
    },
    "papermill": {
     "duration": 0.051557,
     "end_time": "2025-07-30T13:14:50.521888",
     "exception": false,
     "start_time": "2025-07-30T13:14:50.470331",
     "status": "completed"
    },
    "tags": []
   },
   "outputs": [],
   "source": [
    "from fairness_multiverse.conformal import compute_nc_scores\n",
    "\n",
    "# Compute nonconformity scores on calibration set (1 - probability of true class)\n",
    "nc_scores = compute_nc_scores(probs_calib, y_calib)"
   ]
  },
  {
   "cell_type": "code",
   "execution_count": 51,
   "id": "df3b8ca3-53b7-43d5-9667-7c85da7aeda2",
   "metadata": {
    "execution": {
     "iopub.execute_input": "2025-07-30T13:14:50.549449Z",
     "iopub.status.busy": "2025-07-30T13:14:50.549103Z",
     "iopub.status.idle": "2025-07-30T13:14:50.554974Z",
     "shell.execute_reply": "2025-07-30T13:14:50.554208Z"
    },
    "papermill": {
     "duration": 0.021193,
     "end_time": "2025-07-30T13:14:50.556429",
     "exception": false,
     "start_time": "2025-07-30T13:14:50.535236",
     "status": "completed"
    },
    "tags": []
   },
   "outputs": [],
   "source": [
    "from fairness_multiverse.conformal import find_threshold\n",
    "\n",
    "# Find conformal threshold q_hat for the given alpha (split conformal method)\n",
    "q_hat = find_threshold(nc_scores, alpha)"
   ]
  },
  {
   "cell_type": "code",
   "execution_count": 52,
   "id": "4d29e6c1-0ef6-4aa4-b8fe-4fe79b0d033a",
   "metadata": {
    "execution": {
     "iopub.execute_input": "2025-07-30T13:14:50.585779Z",
     "iopub.status.busy": "2025-07-30T13:14:50.584830Z",
     "iopub.status.idle": "2025-07-30T13:14:50.590881Z",
     "shell.execute_reply": "2025-07-30T13:14:50.590192Z"
    },
    "papermill": {
     "duration": 0.021624,
     "end_time": "2025-07-30T13:14:50.592175",
     "exception": false,
     "start_time": "2025-07-30T13:14:50.570551",
     "status": "completed"
    },
    "tags": []
   },
   "outputs": [
    {
     "data": {
      "text/plain": [
       "0.6599999999999999"
      ]
     },
     "execution_count": 52,
     "metadata": {},
     "output_type": "execute_result"
    }
   ],
   "source": [
    "q_hat"
   ]
  },
  {
   "cell_type": "code",
   "execution_count": 53,
   "id": "92460794-cdac-4be2-ba28-f28c0515a6fb",
   "metadata": {
    "execution": {
     "iopub.execute_input": "2025-07-30T13:14:50.641759Z",
     "iopub.status.busy": "2025-07-30T13:14:50.641347Z",
     "iopub.status.idle": "2025-07-30T13:14:52.788783Z",
     "shell.execute_reply": "2025-07-30T13:14:52.787696Z"
    },
    "papermill": {
     "duration": 2.174747,
     "end_time": "2025-07-30T13:14:52.790597",
     "exception": false,
     "start_time": "2025-07-30T13:14:50.615850",
     "status": "completed"
    },
    "tags": []
   },
   "outputs": [],
   "source": [
    "from fairness_multiverse.conformal import predict_conformal_sets\n",
    "\n",
    "# Generate prediction sets for each test example\n",
    "pred_sets = predict_conformal_sets(model, X_test, q_hat)"
   ]
  },
  {
   "cell_type": "code",
   "execution_count": 54,
   "id": "d90c9a65-e6db-4f5d-80cd-e68fb7e46829",
   "metadata": {
    "execution": {
     "iopub.execute_input": "2025-07-30T13:14:52.844926Z",
     "iopub.status.busy": "2025-07-30T13:14:52.844495Z",
     "iopub.status.idle": "2025-07-30T13:14:52.850382Z",
     "shell.execute_reply": "2025-07-30T13:14:52.849341Z"
    },
    "papermill": {
     "duration": 0.036329,
     "end_time": "2025-07-30T13:14:52.853477",
     "exception": false,
     "start_time": "2025-07-30T13:14:52.817148",
     "status": "completed"
    },
    "tags": []
   },
   "outputs": [],
   "source": [
    "y_true = y_true.squeeze()"
   ]
  },
  {
   "cell_type": "code",
   "execution_count": 55,
   "id": "3a58a54a-1e68-46b9-927a-df01f18aebc8",
   "metadata": {
    "execution": {
     "iopub.execute_input": "2025-07-30T13:14:52.921196Z",
     "iopub.status.busy": "2025-07-30T13:14:52.920787Z",
     "iopub.status.idle": "2025-07-30T13:14:53.619251Z",
     "shell.execute_reply": "2025-07-30T13:14:53.618552Z"
    },
    "papermill": {
     "duration": 0.741259,
     "end_time": "2025-07-30T13:14:53.620957",
     "exception": false,
     "start_time": "2025-07-30T13:14:52.879698",
     "status": "completed"
    },
    "tags": []
   },
   "outputs": [],
   "source": [
    "from fairness_multiverse.conformal import evaluate_sets\n",
    "\n",
    "# Evaluate coverage and average set size on test data\n",
    "metrics = evaluate_sets(pred_sets, y_true)"
   ]
  },
  {
   "cell_type": "markdown",
   "id": "2b569c12-9aaa-4c88-98c9-bbcd0cf3ebb8",
   "metadata": {
    "papermill": {
     "duration": 0.025954,
     "end_time": "2025-07-30T13:14:53.673153",
     "exception": false,
     "start_time": "2025-07-30T13:14:53.647199",
     "status": "completed"
    },
    "tags": []
   },
   "source": [
    "# CP Metrics"
   ]
  },
  {
   "cell_type": "code",
   "execution_count": 56,
   "id": "5ce0a5cb-201f-45a0-ade5-94c7f0bd6095",
   "metadata": {
    "execution": {
     "iopub.execute_input": "2025-07-30T13:14:53.719237Z",
     "iopub.status.busy": "2025-07-30T13:14:53.718876Z",
     "iopub.status.idle": "2025-07-30T13:14:53.724434Z",
     "shell.execute_reply": "2025-07-30T13:14:53.723632Z"
    },
    "papermill": {
     "duration": 0.029504,
     "end_time": "2025-07-30T13:14:53.725617",
     "exception": false,
     "start_time": "2025-07-30T13:14:53.696113",
     "status": "completed"
    },
    "tags": []
   },
   "outputs": [
    {
     "data": {
      "text/plain": [
       "{'coverage': 0.9152825771931781, 'avg_size': 1.1428380336640285}"
      ]
     },
     "execution_count": 56,
     "metadata": {},
     "output_type": "execute_result"
    }
   ],
   "source": [
    "metrics"
   ]
  },
  {
   "cell_type": "code",
   "execution_count": 57,
   "id": "9b9a838d-31c9-430b-ae14-12baee460d17",
   "metadata": {
    "execution": {
     "iopub.execute_input": "2025-07-30T13:14:53.751787Z",
     "iopub.status.busy": "2025-07-30T13:14:53.751453Z",
     "iopub.status.idle": "2025-07-30T13:14:53.757042Z",
     "shell.execute_reply": "2025-07-30T13:14:53.756135Z"
    },
    "papermill": {
     "duration": 0.02037,
     "end_time": "2025-07-30T13:14:53.758634",
     "exception": false,
     "start_time": "2025-07-30T13:14:53.738264",
     "status": "completed"
    },
    "tags": []
   },
   "outputs": [],
   "source": [
    "example_universe = universe.copy()\n",
    "universe_training_size = example_universe.get(\"training_size\")\n",
    "universe_scale = example_universe.get(\"scale\")\n",
    "universe_model = example_universe.get(\"model\")\n",
    "universe_exclude_features = example_universe.get(\"exclude_features\")\n",
    "universe_exclude_subgroups = example_universe.get(\"exclude_subgroups\")"
   ]
  },
  {
   "cell_type": "code",
   "execution_count": 58,
   "id": "f4b6a8ac-9dc0-4245-8a91-5b3b5999c4f9",
   "metadata": {
    "execution": {
     "iopub.execute_input": "2025-07-30T13:14:53.812844Z",
     "iopub.status.busy": "2025-07-30T13:14:53.811933Z",
     "iopub.status.idle": "2025-07-30T13:14:53.818493Z",
     "shell.execute_reply": "2025-07-30T13:14:53.817606Z"
    },
    "papermill": {
     "duration": 0.034097,
     "end_time": "2025-07-30T13:14:53.820185",
     "exception": false,
     "start_time": "2025-07-30T13:14:53.786088",
     "status": "completed"
    },
    "tags": []
   },
   "outputs": [],
   "source": [
    "cp_metrics_dict = {\n",
    "    \"universe_id\": [universe_id],\n",
    "    \"universe_training_size\": [universe_training_size],\n",
    "    \"universe_scale\": [universe_scale],\n",
    "    \"universe_model\": [universe_model],\n",
    "    \"universe_exclude_features\": [universe_exclude_features],\n",
    "    \"universe_exclude_subgroups\": [universe_exclude_subgroups],\n",
    "    \"q_hat\": [q_hat],\n",
    "    \"coverage\": [metrics[\"coverage\"]],\n",
    "    \"avg_size\": [metrics[\"avg_size\"]],\n",
    "}"
   ]
  },
  {
   "cell_type": "code",
   "execution_count": 59,
   "id": "908acbb1-0371-4915-85ca-3fa520d2efe2",
   "metadata": {
    "execution": {
     "iopub.execute_input": "2025-07-30T13:14:53.860397Z",
     "iopub.status.busy": "2025-07-30T13:14:53.859951Z",
     "iopub.status.idle": "2025-07-30T13:14:53.866777Z",
     "shell.execute_reply": "2025-07-30T13:14:53.865895Z"
    },
    "papermill": {
     "duration": 0.023126,
     "end_time": "2025-07-30T13:14:53.868751",
     "exception": false,
     "start_time": "2025-07-30T13:14:53.845625",
     "status": "completed"
    },
    "tags": []
   },
   "outputs": [
    {
     "data": {
      "text/plain": [
       "{'universe_id': ['47d75506b72236ce4fe04272e47da429'],\n",
       " 'universe_training_size': ['25k'],\n",
       " 'universe_scale': ['do-not-scale'],\n",
       " 'universe_model': ['rf'],\n",
       " 'universe_exclude_features': ['age'],\n",
       " 'universe_exclude_subgroups': ['keep-all'],\n",
       " 'q_hat': [0.6599999999999999],\n",
       " 'coverage': [0.9152825771931781],\n",
       " 'avg_size': [1.1428380336640285]}"
      ]
     },
     "execution_count": 59,
     "metadata": {},
     "output_type": "execute_result"
    }
   ],
   "source": [
    "cp_metrics_dict"
   ]
  },
  {
   "cell_type": "code",
   "execution_count": 60,
   "id": "33007efc-14e9-4ec6-97ac-56a455c82265",
   "metadata": {
    "execution": {
     "iopub.execute_input": "2025-07-30T13:14:53.923273Z",
     "iopub.status.busy": "2025-07-30T13:14:53.922504Z",
     "iopub.status.idle": "2025-07-30T13:14:53.928916Z",
     "shell.execute_reply": "2025-07-30T13:14:53.928013Z"
    },
    "papermill": {
     "duration": 0.035146,
     "end_time": "2025-07-30T13:14:53.930711",
     "exception": false,
     "start_time": "2025-07-30T13:14:53.895565",
     "status": "completed"
    },
    "tags": []
   },
   "outputs": [],
   "source": [
    "cp_metrics_df = pd.DataFrame(cp_metrics_dict)"
   ]
  },
  {
   "cell_type": "code",
   "execution_count": 61,
   "id": "db12611b-57b2-4910-b9d0-355adfd6e7bf",
   "metadata": {
    "execution": {
     "iopub.execute_input": "2025-07-30T13:14:53.983026Z",
     "iopub.status.busy": "2025-07-30T13:14:53.982631Z",
     "iopub.status.idle": "2025-07-30T13:14:53.999370Z",
     "shell.execute_reply": "2025-07-30T13:14:53.998708Z"
    },
    "papermill": {
     "duration": 0.043783,
     "end_time": "2025-07-30T13:14:54.000829",
     "exception": false,
     "start_time": "2025-07-30T13:14:53.957046",
     "status": "completed"
    },
    "tags": []
   },
   "outputs": [
    {
     "data": {
      "text/html": [
       "<div>\n",
       "<style scoped>\n",
       "    .dataframe tbody tr th:only-of-type {\n",
       "        vertical-align: middle;\n",
       "    }\n",
       "\n",
       "    .dataframe tbody tr th {\n",
       "        vertical-align: top;\n",
       "    }\n",
       "\n",
       "    .dataframe thead th {\n",
       "        text-align: right;\n",
       "    }\n",
       "</style>\n",
       "<table border=\"1\" class=\"dataframe\">\n",
       "  <thead>\n",
       "    <tr style=\"text-align: right;\">\n",
       "      <th></th>\n",
       "      <th>universe_id</th>\n",
       "      <th>universe_training_size</th>\n",
       "      <th>universe_scale</th>\n",
       "      <th>universe_model</th>\n",
       "      <th>universe_exclude_features</th>\n",
       "      <th>universe_exclude_subgroups</th>\n",
       "      <th>q_hat</th>\n",
       "      <th>coverage</th>\n",
       "      <th>avg_size</th>\n",
       "    </tr>\n",
       "  </thead>\n",
       "  <tbody>\n",
       "    <tr>\n",
       "      <th>0</th>\n",
       "      <td>47d75506b72236ce4fe04272e47da429</td>\n",
       "      <td>25k</td>\n",
       "      <td>do-not-scale</td>\n",
       "      <td>rf</td>\n",
       "      <td>age</td>\n",
       "      <td>keep-all</td>\n",
       "      <td>0.66</td>\n",
       "      <td>0.915283</td>\n",
       "      <td>1.142838</td>\n",
       "    </tr>\n",
       "  </tbody>\n",
       "</table>\n",
       "</div>"
      ],
      "text/plain": [
       "                        universe_id universe_training_size universe_scale  \\\n",
       "0  47d75506b72236ce4fe04272e47da429                    25k   do-not-scale   \n",
       "\n",
       "  universe_model universe_exclude_features universe_exclude_subgroups  q_hat  \\\n",
       "0             rf                       age                   keep-all   0.66   \n",
       "\n",
       "   coverage  avg_size  \n",
       "0  0.915283  1.142838  "
      ]
     },
     "execution_count": 61,
     "metadata": {},
     "output_type": "execute_result"
    }
   ],
   "source": [
    "cp_metrics_df"
   ]
  },
  {
   "cell_type": "code",
   "execution_count": 62,
   "id": "b7fbde55-a0a1-47e4-9af6-fe4a17fa8c61",
   "metadata": {
    "execution": {
     "iopub.execute_input": "2025-07-30T13:14:54.032385Z",
     "iopub.status.busy": "2025-07-30T13:14:54.031799Z",
     "iopub.status.idle": "2025-07-30T13:14:54.035826Z",
     "shell.execute_reply": "2025-07-30T13:14:54.035004Z"
    },
    "papermill": {
     "duration": 0.022932,
     "end_time": "2025-07-30T13:14:54.037237",
     "exception": false,
     "start_time": "2025-07-30T13:14:54.014305",
     "status": "completed"
    },
    "tags": []
   },
   "outputs": [],
   "source": [
    "# Conditional Coverage & looking at subgroups"
   ]
  },
  {
   "cell_type": "code",
   "execution_count": 63,
   "id": "027ae886-68dd-4141-96c7-805a5450e1ef",
   "metadata": {
    "execution": {
     "iopub.execute_input": "2025-07-30T13:14:54.067077Z",
     "iopub.status.busy": "2025-07-30T13:14:54.066103Z",
     "iopub.status.idle": "2025-07-30T13:14:54.332298Z",
     "shell.execute_reply": "2025-07-30T13:14:54.331305Z"
    },
    "papermill": {
     "duration": 0.28315,
     "end_time": "2025-07-30T13:14:54.333860",
     "exception": false,
     "start_time": "2025-07-30T13:14:54.050710",
     "status": "completed"
    },
    "tags": []
   },
   "outputs": [],
   "source": [
    "from fairness_multiverse.conformal import build_cp_groups\n",
    "\n",
    "cp_groups_df = build_cp_groups(pred_sets, y_true, X_test.index, org_test)\n",
    "#needs universe_id and setting"
   ]
  },
  {
   "cell_type": "code",
   "execution_count": 64,
   "id": "01d5802c-663a-4d1f-9d69-e036faaffbf7",
   "metadata": {
    "execution": {
     "iopub.execute_input": "2025-07-30T13:14:54.389623Z",
     "iopub.status.busy": "2025-07-30T13:14:54.388837Z",
     "iopub.status.idle": "2025-07-30T13:14:54.394173Z",
     "shell.execute_reply": "2025-07-30T13:14:54.393197Z"
    },
    "papermill": {
     "duration": 0.036146,
     "end_time": "2025-07-30T13:14:54.395781",
     "exception": false,
     "start_time": "2025-07-30T13:14:54.359635",
     "status": "completed"
    },
    "tags": []
   },
   "outputs": [],
   "source": [
    "#delete\n",
    "#cp_groups_df"
   ]
  },
  {
   "cell_type": "code",
   "execution_count": 65,
   "id": "fa424af1-d1eb-443d-b717-2d279ada8408",
   "metadata": {
    "execution": {
     "iopub.execute_input": "2025-07-30T13:14:54.446922Z",
     "iopub.status.busy": "2025-07-30T13:14:54.445970Z",
     "iopub.status.idle": "2025-07-30T13:14:54.451326Z",
     "shell.execute_reply": "2025-07-30T13:14:54.450410Z"
    },
    "papermill": {
     "duration": 0.032262,
     "end_time": "2025-07-30T13:14:54.452867",
     "exception": false,
     "start_time": "2025-07-30T13:14:54.420605",
     "status": "completed"
    },
    "tags": []
   },
   "outputs": [],
   "source": [
    "#delete\n",
    "#percentage = (cp_groups_df['nongerman_female'] == 1).mean() * 100\n",
    "#print(percentage)\n"
   ]
  },
  {
   "cell_type": "code",
   "execution_count": 66,
   "id": "6cbdab96-b2b2-45af-ad54-d0516db2e28d",
   "metadata": {
    "execution": {
     "iopub.execute_input": "2025-07-30T13:14:54.503427Z",
     "iopub.status.busy": "2025-07-30T13:14:54.502580Z",
     "iopub.status.idle": "2025-07-30T13:14:56.074515Z",
     "shell.execute_reply": "2025-07-30T13:14:56.073738Z"
    },
    "papermill": {
     "duration": 1.599061,
     "end_time": "2025-07-30T13:14:56.075927",
     "exception": false,
     "start_time": "2025-07-30T13:14:54.476866",
     "status": "completed"
    },
    "tags": []
   },
   "outputs": [],
   "source": [
    "# Define covered = 1 if true_label is in the predicted set\n",
    "cp_groups_df['covered'] = cp_groups_df.apply(\n",
    "    lambda r: int(r['true_label'] in r['pred_set']),\n",
    "    axis=1\n",
    ")"
   ]
  },
  {
   "cell_type": "code",
   "execution_count": 67,
   "id": "338ff529-1a6b-4b87-a931-8e4788d52aad",
   "metadata": {
    "execution": {
     "iopub.execute_input": "2025-07-30T13:14:56.133206Z",
     "iopub.status.busy": "2025-07-30T13:14:56.132804Z",
     "iopub.status.idle": "2025-07-30T13:14:56.137627Z",
     "shell.execute_reply": "2025-07-30T13:14:56.136705Z"
    },
    "papermill": {
     "duration": 0.035936,
     "end_time": "2025-07-30T13:14:56.139195",
     "exception": false,
     "start_time": "2025-07-30T13:14:56.103259",
     "status": "completed"
    },
    "tags": []
   },
   "outputs": [],
   "source": [
    "#cp_groups_df"
   ]
  },
  {
   "cell_type": "code",
   "execution_count": 68,
   "id": "90032e27-66df-4540-9169-4e89cfbaa758",
   "metadata": {
    "execution": {
     "iopub.execute_input": "2025-07-30T13:14:56.197459Z",
     "iopub.status.busy": "2025-07-30T13:14:56.197050Z",
     "iopub.status.idle": "2025-07-30T13:14:56.208456Z",
     "shell.execute_reply": "2025-07-30T13:14:56.207449Z"
    },
    "papermill": {
     "duration": 0.042357,
     "end_time": "2025-07-30T13:14:56.210113",
     "exception": false,
     "start_time": "2025-07-30T13:14:56.167756",
     "status": "completed"
    },
    "tags": []
   },
   "outputs": [],
   "source": [
    "subgroups = ['frau1','nongerman','nongerman_male','nongerman_female']\n",
    "\n",
    "# Conditional coverage for subgroup==1\n",
    "cond_coverage = {\n",
    "    g: cp_groups_df.loc[cp_groups_df[g]==1, 'covered'].mean()\n",
    "    for g in subgroups\n",
    "}"
   ]
  },
  {
   "cell_type": "code",
   "execution_count": 69,
   "id": "1e348fb1-b9c3-45bc-ba23-f016827a7e0d",
   "metadata": {
    "execution": {
     "iopub.execute_input": "2025-07-30T13:14:56.270004Z",
     "iopub.status.busy": "2025-07-30T13:14:56.269226Z",
     "iopub.status.idle": "2025-07-30T13:14:56.276906Z",
     "shell.execute_reply": "2025-07-30T13:14:56.275914Z"
    },
    "papermill": {
     "duration": 0.03882,
     "end_time": "2025-07-30T13:14:56.278473",
     "exception": false,
     "start_time": "2025-07-30T13:14:56.239653",
     "status": "completed"
    },
    "tags": []
   },
   "outputs": [
    {
     "data": {
      "text/plain": [
       "{'frau1': 0.9140045828278743,\n",
       " 'nongerman': 0.9138831190703419,\n",
       " 'nongerman_male': 0.9300189138070791,\n",
       " 'nongerman_female': 0.8871833084947839}"
      ]
     },
     "execution_count": 69,
     "metadata": {},
     "output_type": "execute_result"
    }
   ],
   "source": [
    "cond_coverage"
   ]
  },
  {
   "cell_type": "code",
   "execution_count": 70,
   "id": "f5093324-c3dd-4d63-bc4c-8d945e5c8bbb",
   "metadata": {
    "execution": {
     "iopub.execute_input": "2025-07-30T13:14:56.339160Z",
     "iopub.status.busy": "2025-07-30T13:14:56.338374Z",
     "iopub.status.idle": "2025-07-30T13:14:56.346471Z",
     "shell.execute_reply": "2025-07-30T13:14:56.345665Z"
    },
    "papermill": {
     "duration": 0.040374,
     "end_time": "2025-07-30T13:14:56.348166",
     "exception": false,
     "start_time": "2025-07-30T13:14:56.307792",
     "status": "completed"
    },
    "tags": []
   },
   "outputs": [],
   "source": [
    "for subgroup, cov in cond_coverage.items():\n",
    "    cp_metrics_df[f\"cov_{subgroup}\"] = cov"
   ]
  },
  {
   "cell_type": "code",
   "execution_count": 71,
   "id": "6e872e10-dbe5-49e8-b554-5030c98ff75d",
   "metadata": {
    "execution": {
     "iopub.execute_input": "2025-07-30T13:14:56.407916Z",
     "iopub.status.busy": "2025-07-30T13:14:56.406959Z",
     "iopub.status.idle": "2025-07-30T13:14:56.427170Z",
     "shell.execute_reply": "2025-07-30T13:14:56.426151Z"
    },
    "papermill": {
     "duration": 0.051626,
     "end_time": "2025-07-30T13:14:56.429079",
     "exception": false,
     "start_time": "2025-07-30T13:14:56.377453",
     "status": "completed"
    },
    "tags": []
   },
   "outputs": [
    {
     "data": {
      "text/html": [
       "<div>\n",
       "<style scoped>\n",
       "    .dataframe tbody tr th:only-of-type {\n",
       "        vertical-align: middle;\n",
       "    }\n",
       "\n",
       "    .dataframe tbody tr th {\n",
       "        vertical-align: top;\n",
       "    }\n",
       "\n",
       "    .dataframe thead th {\n",
       "        text-align: right;\n",
       "    }\n",
       "</style>\n",
       "<table border=\"1\" class=\"dataframe\">\n",
       "  <thead>\n",
       "    <tr style=\"text-align: right;\">\n",
       "      <th></th>\n",
       "      <th>universe_id</th>\n",
       "      <th>universe_training_size</th>\n",
       "      <th>universe_scale</th>\n",
       "      <th>universe_model</th>\n",
       "      <th>universe_exclude_features</th>\n",
       "      <th>universe_exclude_subgroups</th>\n",
       "      <th>q_hat</th>\n",
       "      <th>coverage</th>\n",
       "      <th>avg_size</th>\n",
       "      <th>cov_frau1</th>\n",
       "      <th>cov_nongerman</th>\n",
       "      <th>cov_nongerman_male</th>\n",
       "      <th>cov_nongerman_female</th>\n",
       "    </tr>\n",
       "  </thead>\n",
       "  <tbody>\n",
       "    <tr>\n",
       "      <th>0</th>\n",
       "      <td>47d75506b72236ce4fe04272e47da429</td>\n",
       "      <td>25k</td>\n",
       "      <td>do-not-scale</td>\n",
       "      <td>rf</td>\n",
       "      <td>age</td>\n",
       "      <td>keep-all</td>\n",
       "      <td>0.66</td>\n",
       "      <td>0.915283</td>\n",
       "      <td>1.142838</td>\n",
       "      <td>0.914005</td>\n",
       "      <td>0.913883</td>\n",
       "      <td>0.930019</td>\n",
       "      <td>0.887183</td>\n",
       "    </tr>\n",
       "  </tbody>\n",
       "</table>\n",
       "</div>"
      ],
      "text/plain": [
       "                        universe_id universe_training_size universe_scale  \\\n",
       "0  47d75506b72236ce4fe04272e47da429                    25k   do-not-scale   \n",
       "\n",
       "  universe_model universe_exclude_features universe_exclude_subgroups  q_hat  \\\n",
       "0             rf                       age                   keep-all   0.66   \n",
       "\n",
       "   coverage  avg_size  cov_frau1  cov_nongerman  cov_nongerman_male  \\\n",
       "0  0.915283  1.142838   0.914005       0.913883            0.930019   \n",
       "\n",
       "   cov_nongerman_female  \n",
       "0              0.887183  "
      ]
     },
     "execution_count": 71,
     "metadata": {},
     "output_type": "execute_result"
    }
   ],
   "source": [
    "cp_metrics_df"
   ]
  },
  {
   "cell_type": "markdown",
   "id": "33774451",
   "metadata": {
    "papermill": {
     "duration": 0.031086,
     "end_time": "2025-07-30T13:14:56.491513",
     "exception": false,
     "start_time": "2025-07-30T13:14:56.460427",
     "status": "completed"
    },
    "tags": []
   },
   "source": [
    "# (Fairness) Metrics"
   ]
  },
  {
   "cell_type": "code",
   "execution_count": 72,
   "id": "debc5d62",
   "metadata": {
    "execution": {
     "iopub.execute_input": "2025-07-30T13:14:56.555690Z",
     "iopub.status.busy": "2025-07-30T13:14:56.555165Z",
     "iopub.status.idle": "2025-07-30T13:14:56.578620Z",
     "shell.execute_reply": "2025-07-30T13:14:56.577542Z"
    },
    "papermill": {
     "duration": 0.057939,
     "end_time": "2025-07-30T13:14:56.580694",
     "exception": false,
     "start_time": "2025-07-30T13:14:56.522755",
     "status": "completed"
    },
    "tags": []
   },
   "outputs": [],
   "source": [
    "# do I need to include maxdeutsch1.missing?\n",
    "\n",
    "import numpy as np\n",
    "\n",
    "colname_to_bin = \"maxdeutsch1\"\n",
    "majority_value = org_train[colname_to_bin].mode()[0]\n",
    "\n",
    "org_test[\"majmin\"] = np.where(org_test[colname_to_bin] == majority_value, \"majority\", \"minority\")"
   ]
  },
  {
   "cell_type": "code",
   "execution_count": 73,
   "id": "06a50de5",
   "metadata": {
    "execution": {
     "iopub.execute_input": "2025-07-30T13:14:56.644717Z",
     "iopub.status.busy": "2025-07-30T13:14:56.644243Z",
     "iopub.status.idle": "2025-07-30T13:14:59.400441Z",
     "shell.execute_reply": "2025-07-30T13:14:59.399193Z"
    },
    "papermill": {
     "duration": 2.789824,
     "end_time": "2025-07-30T13:14:59.401885",
     "exception": false,
     "start_time": "2025-07-30T13:14:56.612061",
     "status": "completed"
    },
    "tags": []
   },
   "outputs": [],
   "source": [
    "example_universe = universe.copy()\n",
    "example_universe[\"cutoff\"] = example_universe[\"cutoff\"][0]\n",
    "example_universe[\"eval_fairness_grouping\"] = example_universe[\"eval_fairness_grouping\"][0]\n",
    "fairness_dict, metric_frame = universe_analysis.compute_metrics(\n",
    "    example_universe,\n",
    "    y_pred_prob=probs_test,\n",
    "    y_test=y_true,\n",
    "    org_test=org_test,\n",
    ")"
   ]
  },
  {
   "cell_type": "markdown",
   "id": "f95d4e02",
   "metadata": {
    "papermill": {
     "duration": 0.02618,
     "end_time": "2025-07-30T13:14:59.456101",
     "exception": false,
     "start_time": "2025-07-30T13:14:59.429921",
     "status": "completed"
    },
    "tags": []
   },
   "source": [
    "# Overall"
   ]
  },
  {
   "cell_type": "markdown",
   "id": "bdee4871",
   "metadata": {
    "papermill": {
     "duration": 0.026935,
     "end_time": "2025-07-30T13:14:59.509331",
     "exception": false,
     "start_time": "2025-07-30T13:14:59.482396",
     "status": "completed"
    },
    "tags": []
   },
   "source": [
    "Fairness\n",
    "Main fairness target: Equalized Odds. Seems to be a better fit than equal opportunity, since we're not only interested in Y = 1. Seems to be a better fit than demographic parity, since we also care about accuracy, not just equal distribution of preds.\n",
    "\n",
    "Pick column for computation of fairness metrics\n",
    "\n",
    "Performance\n",
    "Overall performance measures, most interesting in relation to the measures split by group below"
   ]
  },
  {
   "cell_type": "code",
   "execution_count": 74,
   "id": "c4e067c6",
   "metadata": {
    "execution": {
     "iopub.execute_input": "2025-07-30T13:14:59.563842Z",
     "iopub.status.busy": "2025-07-30T13:14:59.563336Z",
     "iopub.status.idle": "2025-07-30T13:14:59.572257Z",
     "shell.execute_reply": "2025-07-30T13:14:59.571238Z"
    },
    "papermill": {
     "duration": 0.038293,
     "end_time": "2025-07-30T13:14:59.573844",
     "exception": false,
     "start_time": "2025-07-30T13:14:59.535551",
     "status": "completed"
    },
    "tags": []
   },
   "outputs": [
    {
     "data": {
      "text/plain": [
       "accuracy                   0.222706\n",
       "balanced accuracy          0.544897\n",
       "f1                         0.244084\n",
       "precision                  0.139437\n",
       "false positive rate        0.888481\n",
       "false negative rate        0.021724\n",
       "selection rate             0.900000\n",
       "count                  89710.000000\n",
       "dtype: float64"
      ]
     },
     "execution_count": 74,
     "metadata": {},
     "output_type": "execute_result"
    }
   ],
   "source": [
    "metric_frame.overall"
   ]
  },
  {
   "cell_type": "markdown",
   "id": "e968fe9d",
   "metadata": {
    "papermill": {
     "duration": 0.067019,
     "end_time": "2025-07-30T13:14:59.667767",
     "exception": false,
     "start_time": "2025-07-30T13:14:59.600748",
     "status": "completed"
    },
    "tags": []
   },
   "source": [
    "By Group"
   ]
  },
  {
   "cell_type": "code",
   "execution_count": 75,
   "id": "ec325bce",
   "metadata": {
    "execution": {
     "iopub.execute_input": "2025-07-30T13:14:59.724449Z",
     "iopub.status.busy": "2025-07-30T13:14:59.723374Z",
     "iopub.status.idle": "2025-07-30T13:14:59.739847Z",
     "shell.execute_reply": "2025-07-30T13:14:59.738816Z"
    },
    "papermill": {
     "duration": 0.047033,
     "end_time": "2025-07-30T13:14:59.741431",
     "exception": false,
     "start_time": "2025-07-30T13:14:59.694398",
     "status": "completed"
    },
    "tags": []
   },
   "outputs": [
    {
     "data": {
      "text/html": [
       "<div>\n",
       "<style scoped>\n",
       "    .dataframe tbody tr th:only-of-type {\n",
       "        vertical-align: middle;\n",
       "    }\n",
       "\n",
       "    .dataframe tbody tr th {\n",
       "        vertical-align: top;\n",
       "    }\n",
       "\n",
       "    .dataframe thead th {\n",
       "        text-align: right;\n",
       "    }\n",
       "</style>\n",
       "<table border=\"1\" class=\"dataframe\">\n",
       "  <thead>\n",
       "    <tr style=\"text-align: right;\">\n",
       "      <th></th>\n",
       "      <th>accuracy</th>\n",
       "      <th>balanced accuracy</th>\n",
       "      <th>f1</th>\n",
       "      <th>precision</th>\n",
       "      <th>false positive rate</th>\n",
       "      <th>false negative rate</th>\n",
       "      <th>selection rate</th>\n",
       "      <th>count</th>\n",
       "    </tr>\n",
       "    <tr>\n",
       "      <th>majmin</th>\n",
       "      <th></th>\n",
       "      <th></th>\n",
       "      <th></th>\n",
       "      <th></th>\n",
       "      <th></th>\n",
       "      <th></th>\n",
       "      <th></th>\n",
       "      <th></th>\n",
       "    </tr>\n",
       "  </thead>\n",
       "  <tbody>\n",
       "    <tr>\n",
       "      <th>majority</th>\n",
       "      <td>0.217262</td>\n",
       "      <td>0.543894</td>\n",
       "      <td>0.250111</td>\n",
       "      <td>0.143181</td>\n",
       "      <td>0.900067</td>\n",
       "      <td>0.012144</td>\n",
       "      <td>0.911667</td>\n",
       "      <td>69170.0</td>\n",
       "    </tr>\n",
       "    <tr>\n",
       "      <th>minority</th>\n",
       "      <td>0.241042</td>\n",
       "      <td>0.545546</td>\n",
       "      <td>0.222377</td>\n",
       "      <td>0.126082</td>\n",
       "      <td>0.850209</td>\n",
       "      <td>0.058699</td>\n",
       "      <td>0.860711</td>\n",
       "      <td>20540.0</td>\n",
       "    </tr>\n",
       "  </tbody>\n",
       "</table>\n",
       "</div>"
      ],
      "text/plain": [
       "          accuracy  balanced accuracy        f1  precision  \\\n",
       "majmin                                                       \n",
       "majority  0.217262           0.543894  0.250111   0.143181   \n",
       "minority  0.241042           0.545546  0.222377   0.126082   \n",
       "\n",
       "          false positive rate  false negative rate  selection rate    count  \n",
       "majmin                                                                       \n",
       "majority             0.900067             0.012144        0.911667  69170.0  \n",
       "minority             0.850209             0.058699        0.860711  20540.0  "
      ]
     },
     "execution_count": 75,
     "metadata": {},
     "output_type": "execute_result"
    }
   ],
   "source": [
    "metric_frame.by_group"
   ]
  },
  {
   "cell_type": "code",
   "execution_count": 76,
   "id": "a9ddbe63",
   "metadata": {
    "execution": {
     "iopub.execute_input": "2025-07-30T13:14:59.799273Z",
     "iopub.status.busy": "2025-07-30T13:14:59.798286Z",
     "iopub.status.idle": "2025-07-30T13:15:02.011709Z",
     "shell.execute_reply": "2025-07-30T13:15:02.010698Z"
    },
    "papermill": {
     "duration": 2.243361,
     "end_time": "2025-07-30T13:15:02.013554",
     "exception": false,
     "start_time": "2025-07-30T13:14:59.770193",
     "status": "completed"
    },
    "tags": []
   },
   "outputs": [
    {
     "data": {
      "text/plain": [
       "array([[<Axes: title={'center': 'accuracy'}, xlabel='majmin'>,\n",
       "        <Axes: title={'center': 'balanced accuracy'}, xlabel='majmin'>,\n",
       "        <Axes: title={'center': 'f1'}, xlabel='majmin'>],\n",
       "       [<Axes: title={'center': 'precision'}, xlabel='majmin'>,\n",
       "        <Axes: title={'center': 'false positive rate'}, xlabel='majmin'>,\n",
       "        <Axes: title={'center': 'false negative rate'}, xlabel='majmin'>],\n",
       "       [<Axes: title={'center': 'selection rate'}, xlabel='majmin'>,\n",
       "        <Axes: title={'center': 'count'}, xlabel='majmin'>,\n",
       "        <Axes: xlabel='majmin'>]], dtype=object)"
      ]
     },
     "execution_count": 76,
     "metadata": {},
     "output_type": "execute_result"
    },
    {
     "data": {
      "image/png": "[encoded data removed]",
      "text/plain": [
       "<Figure size 1200x800 with 9 Axes>"
      ]
     },
     "metadata": {},
     "output_type": "display_data"
    }
   ],
   "source": [
    "# In a graphic\n",
    "metric_frame.by_group.plot.bar(\n",
    "    subplots=True,\n",
    "    layout=[3, 3],\n",
    "    legend=False,\n",
    "    figsize=[12, 8],\n",
    "    title=\"Show all metrics\",\n",
    ")"
   ]
  },
  {
   "cell_type": "markdown",
   "id": "f57a0bac",
   "metadata": {
    "papermill": {
     "duration": 0.03218,
     "end_time": "2025-07-30T13:15:02.078803",
     "exception": false,
     "start_time": "2025-07-30T13:15:02.046623",
     "status": "completed"
    },
    "tags": []
   },
   "source": [
    "# Final Output"
   ]
  },
  {
   "cell_type": "code",
   "execution_count": 77,
   "id": "96d280a3",
   "metadata": {
    "execution": {
     "iopub.execute_input": "2025-07-30T13:15:02.147413Z",
     "iopub.status.busy": "2025-07-30T13:15:02.146578Z",
     "iopub.status.idle": "2025-07-30T13:15:02.154714Z",
     "shell.execute_reply": "2025-07-30T13:15:02.153755Z"
    },
    "papermill": {
     "duration": 0.04442,
     "end_time": "2025-07-30T13:15:02.156398",
     "exception": false,
     "start_time": "2025-07-30T13:15:02.111978",
     "status": "completed"
    },
    "tags": []
   },
   "outputs": [
    {
     "data": {
      "text/plain": [
       "4"
      ]
     },
     "execution_count": 77,
     "metadata": {},
     "output_type": "execute_result"
    }
   ],
   "source": [
    "sub_universes = universe_analysis.generate_sub_universes()\n",
    "len(sub_universes)"
   ]
  },
  {
   "cell_type": "code",
   "execution_count": 78,
   "id": "92adf7ba",
   "metadata": {
    "execution": {
     "iopub.execute_input": "2025-07-30T13:15:02.224771Z",
     "iopub.status.busy": "2025-07-30T13:15:02.223729Z",
     "iopub.status.idle": "2025-07-30T13:15:02.230307Z",
     "shell.execute_reply": "2025-07-30T13:15:02.229312Z"
    },
    "papermill": {
     "duration": 0.04241,
     "end_time": "2025-07-30T13:15:02.231988",
     "exception": false,
     "start_time": "2025-07-30T13:15:02.189578",
     "status": "completed"
    },
    "tags": []
   },
   "outputs": [],
   "source": [
    "def filter_sub_universe_data(sub_universe, org_test):\n",
    "    # Keep all rows — no filtering\n",
    "    keep_rows_mask = np.ones(org_test.shape[0], dtype=bool)\n",
    "\n",
    "    print(f\"[INFO] Keeping all rows: {keep_rows_mask.sum()} rows retained.\")\n",
    "    return keep_rows_mask"
   ]
  },
  {
   "cell_type": "code",
   "execution_count": 79,
   "id": "4a759155",
   "metadata": {
    "execution": {
     "iopub.execute_input": "2025-07-30T13:15:02.293369Z",
     "iopub.status.busy": "2025-07-30T13:15:02.292889Z",
     "iopub.status.idle": "2025-07-30T13:15:12.686839Z",
     "shell.execute_reply": "2025-07-30T13:15:12.685990Z"
    },
    "papermill": {
     "duration": 10.425896,
     "end_time": "2025-07-30T13:15:12.688313",
     "exception": false,
     "start_time": "2025-07-30T13:15:02.262417",
     "status": "completed"
    },
    "tags": []
   },
   "outputs": [
    {
     "name": "stdout",
     "output_type": "stream",
     "text": [
      "Stopping execution_time clock.\n",
      "[INFO] Keeping all rows: 89710 rows retained.\n"
     ]
    },
    {
     "name": "stdout",
     "output_type": "stream",
     "text": [
      "[INFO] Keeping all rows: 89710 rows retained.\n"
     ]
    },
    {
     "name": "stdout",
     "output_type": "stream",
     "text": [
      "[INFO] Keeping all rows: 89710 rows retained.\n"
     ]
    },
    {
     "name": "stdout",
     "output_type": "stream",
     "text": [
      "[INFO] Keeping all rows: 89710 rows retained.\n"
     ]
    },
    {
     "data": {
      "text/html": [
       "<div>\n",
       "<style scoped>\n",
       "    .dataframe tbody tr th:only-of-type {\n",
       "        vertical-align: middle;\n",
       "    }\n",
       "\n",
       "    .dataframe tbody tr th {\n",
       "        vertical-align: top;\n",
       "    }\n",
       "\n",
       "    .dataframe thead th {\n",
       "        text-align: right;\n",
       "    }\n",
       "</style>\n",
       "<table border=\"1\" class=\"dataframe\">\n",
       "  <thead>\n",
       "    <tr style=\"text-align: right;\">\n",
       "      <th></th>\n",
       "      <th>run_no</th>\n",
       "      <th>universe_id</th>\n",
       "      <th>universe_settings</th>\n",
       "      <th>execution_time</th>\n",
       "      <th>test_size_n</th>\n",
       "      <th>test_size_frac</th>\n",
       "      <th>fair_main_equalized_odds_difference</th>\n",
       "      <th>fair_main_equalized_odds_ratio</th>\n",
       "      <th>fair_main_demographic_parity_difference</th>\n",
       "      <th>fair_main_demographic_parity_ratio</th>\n",
       "      <th>...</th>\n",
       "      <th>perf_grp_precision_0</th>\n",
       "      <th>perf_grp_precision_1</th>\n",
       "      <th>perf_grp_false positive rate_0</th>\n",
       "      <th>perf_grp_false positive rate_1</th>\n",
       "      <th>perf_grp_false negative rate_0</th>\n",
       "      <th>perf_grp_false negative rate_1</th>\n",
       "      <th>perf_grp_selection rate_0</th>\n",
       "      <th>perf_grp_selection rate_1</th>\n",
       "      <th>perf_grp_count_0</th>\n",
       "      <th>perf_grp_count_1</th>\n",
       "    </tr>\n",
       "  </thead>\n",
       "  <tbody>\n",
       "    <tr>\n",
       "      <th>0</th>\n",
       "      <td>12</td>\n",
       "      <td>47d75506b72236ce4fe04272e47da429</td>\n",
       "      <td>{\"cutoff\": \"quantile_0.1\", \"eval_fairness_grou...</td>\n",
       "      <td>43.066106</td>\n",
       "      <td>89710</td>\n",
       "      <td>1.0</td>\n",
       "      <td>0.049858</td>\n",
       "      <td>0.944607</td>\n",
       "      <td>0.050956</td>\n",
       "      <td>0.944107</td>\n",
       "      <td>...</td>\n",
       "      <td>NaN</td>\n",
       "      <td>NaN</td>\n",
       "      <td>NaN</td>\n",
       "      <td>NaN</td>\n",
       "      <td>NaN</td>\n",
       "      <td>NaN</td>\n",
       "      <td>NaN</td>\n",
       "      <td>NaN</td>\n",
       "      <td>NaN</td>\n",
       "      <td>NaN</td>\n",
       "    </tr>\n",
       "    <tr>\n",
       "      <th>0</th>\n",
       "      <td>12</td>\n",
       "      <td>47d75506b72236ce4fe04272e47da429</td>\n",
       "      <td>{\"cutoff\": \"quantile_0.1\", \"eval_fairness_grou...</td>\n",
       "      <td>43.066106</td>\n",
       "      <td>89710</td>\n",
       "      <td>1.0</td>\n",
       "      <td>0.049858</td>\n",
       "      <td>0.944607</td>\n",
       "      <td>0.050956</td>\n",
       "      <td>0.944107</td>\n",
       "      <td>...</td>\n",
       "      <td>0.126082</td>\n",
       "      <td>0.143181</td>\n",
       "      <td>0.850209</td>\n",
       "      <td>0.900067</td>\n",
       "      <td>0.058699</td>\n",
       "      <td>0.012144</td>\n",
       "      <td>0.860711</td>\n",
       "      <td>0.911667</td>\n",
       "      <td>20540.0</td>\n",
       "      <td>69170.0</td>\n",
       "    </tr>\n",
       "    <tr>\n",
       "      <th>0</th>\n",
       "      <td>12</td>\n",
       "      <td>47d75506b72236ce4fe04272e47da429</td>\n",
       "      <td>{\"cutoff\": \"quantile_0.25\", \"eval_fairness_gro...</td>\n",
       "      <td>43.066106</td>\n",
       "      <td>89710</td>\n",
       "      <td>1.0</td>\n",
       "      <td>0.090516</td>\n",
       "      <td>0.904709</td>\n",
       "      <td>0.057010</td>\n",
       "      <td>0.925482</td>\n",
       "      <td>...</td>\n",
       "      <td>NaN</td>\n",
       "      <td>NaN</td>\n",
       "      <td>NaN</td>\n",
       "      <td>NaN</td>\n",
       "      <td>NaN</td>\n",
       "      <td>NaN</td>\n",
       "      <td>NaN</td>\n",
       "      <td>NaN</td>\n",
       "      <td>NaN</td>\n",
       "      <td>NaN</td>\n",
       "    </tr>\n",
       "    <tr>\n",
       "      <th>0</th>\n",
       "      <td>12</td>\n",
       "      <td>47d75506b72236ce4fe04272e47da429</td>\n",
       "      <td>{\"cutoff\": \"quantile_0.25\", \"eval_fairness_gro...</td>\n",
       "      <td>43.066106</td>\n",
       "      <td>89710</td>\n",
       "      <td>1.0</td>\n",
       "      <td>0.090516</td>\n",
       "      <td>0.904709</td>\n",
       "      <td>0.057010</td>\n",
       "      <td>0.925482</td>\n",
       "      <td>...</td>\n",
       "      <td>0.139930</td>\n",
       "      <td>0.164065</td>\n",
       "      <td>0.688312</td>\n",
       "      <td>0.736898</td>\n",
       "      <td>0.140625</td>\n",
       "      <td>0.050109</td>\n",
       "      <td>0.708033</td>\n",
       "      <td>0.765043</td>\n",
       "      <td>20540.0</td>\n",
       "      <td>69170.0</td>\n",
       "    </tr>\n",
       "  </tbody>\n",
       "</table>\n",
       "<p>4 rows × 50 columns</p>\n",
       "</div>"
      ],
      "text/plain": [
       "  run_no                       universe_id  \\\n",
       "0     12  47d75506b72236ce4fe04272e47da429   \n",
       "0     12  47d75506b72236ce4fe04272e47da429   \n",
       "0     12  47d75506b72236ce4fe04272e47da429   \n",
       "0     12  47d75506b72236ce4fe04272e47da429   \n",
       "\n",
       "                                   universe_settings  execution_time  \\\n",
       "0  {\"cutoff\": \"quantile_0.1\", \"eval_fairness_grou...       43.066106   \n",
       "0  {\"cutoff\": \"quantile_0.1\", \"eval_fairness_grou...       43.066106   \n",
       "0  {\"cutoff\": \"quantile_0.25\", \"eval_fairness_gro...       43.066106   \n",
       "0  {\"cutoff\": \"quantile_0.25\", \"eval_fairness_gro...       43.066106   \n",
       "\n",
       "   test_size_n  test_size_frac  fair_main_equalized_odds_difference  \\\n",
       "0        89710             1.0                             0.049858   \n",
       "0        89710             1.0                             0.049858   \n",
       "0        89710             1.0                             0.090516   \n",
       "0        89710             1.0                             0.090516   \n",
       "\n",
       "   fair_main_equalized_odds_ratio  fair_main_demographic_parity_difference  \\\n",
       "0                        0.944607                                 0.050956   \n",
       "0                        0.944607                                 0.050956   \n",
       "0                        0.904709                                 0.057010   \n",
       "0                        0.904709                                 0.057010   \n",
       "\n",
       "   fair_main_demographic_parity_ratio  ...  perf_grp_precision_0  \\\n",
       "0                            0.944107  ...                   NaN   \n",
       "0                            0.944107  ...              0.126082   \n",
       "0                            0.925482  ...                   NaN   \n",
       "0                            0.925482  ...              0.139930   \n",
       "\n",
       "   perf_grp_precision_1  perf_grp_false positive rate_0  \\\n",
       "0                   NaN                             NaN   \n",
       "0              0.143181                        0.850209   \n",
       "0                   NaN                             NaN   \n",
       "0              0.164065                        0.688312   \n",
       "\n",
       "   perf_grp_false positive rate_1  perf_grp_false negative rate_0  \\\n",
       "0                             NaN                             NaN   \n",
       "0                        0.900067                        0.058699   \n",
       "0                             NaN                             NaN   \n",
       "0                        0.736898                        0.140625   \n",
       "\n",
       "   perf_grp_false negative rate_1  perf_grp_selection rate_0  \\\n",
       "0                             NaN                        NaN   \n",
       "0                        0.012144                   0.860711   \n",
       "0                             NaN                        NaN   \n",
       "0                        0.050109                   0.708033   \n",
       "\n",
       "   perf_grp_selection rate_1  perf_grp_count_0  perf_grp_count_1  \n",
       "0                        NaN               NaN               NaN  \n",
       "0                   0.911667           20540.0           69170.0  \n",
       "0                        NaN               NaN               NaN  \n",
       "0                   0.765043           20540.0           69170.0  \n",
       "\n",
       "[4 rows x 50 columns]"
      ]
     },
     "execution_count": 79,
     "metadata": {},
     "output_type": "execute_result"
    }
   ],
   "source": [
    "final_output = universe_analysis.generate_final_output(\n",
    "    y_pred_prob=probs_test,\n",
    "    y_test=y_true,\n",
    "    org_test=org_test,\n",
    "    filter_data=filter_sub_universe_data,\n",
    "    cp_metrics_df=cp_metrics_df,\n",
    "    save=True,\n",
    ")\n",
    "final_output"
   ]
  },
  {
   "cell_type": "code",
   "execution_count": null,
   "id": "721ff514-cb11-46f8-b6fc-50392f74b5cb",
   "metadata": {
    "papermill": {
     "duration": 0.016264,
     "end_time": "2025-07-30T13:15:12.723549",
     "exception": false,
     "start_time": "2025-07-30T13:15:12.707285",
     "status": "completed"
    },
    "tags": []
   },
   "outputs": [],
   "source": []
  }
 ],
 "metadata": {
  "celltoolbar": "Tags",
  "kernelspec": {
   "display_name": "Python (CMA Fairness)",
   "language": "python",
   "name": "cma_fair_env"
  },
  "language_info": {
   "codemirror_mode": {
    "name": "ipython",
    "version": 3
   },
   "file_extension": ".py",
   "mimetype": "text/x-python",
   "name": "python",
   "nbconvert_exporter": "python",
   "pygments_lexer": "ipython3",
   "version": "3.10.12"
  },
  "papermill": {
   "default_parameters": {},
   "duration": 59.774893,
   "end_time": "2025-07-30T13:15:13.558492",
   "environment_variables": {},
   "exception": null,
   "input_path": "universe_analysis.ipynb",
   "output_path": "output/runs/12/notebooks/m_12-47d75506b72236ce4fe04272e47da429.ipynb",
   "parameters": {
    "output_dir": "output",
    "run_no": "12",
    "seed": "2023",
    "universe": "{\"cutoff\": [\"quantile_0.1\", \"quantile_0.25\"], \"eval_fairness_grouping\": [\"majority-minority\", \"nationality-all\"], \"exclude_features\": \"age\", \"exclude_subgroups\": \"keep-all\", \"model\": \"rf\", \"scale\": \"do-not-scale\", \"training_size\": \"25k\", \"training_year\": \"2012_14\"}",
    "universe_id": "47d75506b72236ce4fe04272e47da429"
   },
   "start_time": "2025-07-30T13:14:13.783599",
   "version": "2.6.0"
  }
 },
 "nbformat": 4,
 "nbformat_minor": 5
}