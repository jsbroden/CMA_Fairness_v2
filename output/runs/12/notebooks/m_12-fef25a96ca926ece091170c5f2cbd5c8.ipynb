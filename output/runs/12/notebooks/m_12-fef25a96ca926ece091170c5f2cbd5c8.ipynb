{
 "cells": [
  {
   "cell_type": "code",
   "execution_count": 1,
   "id": "f159f837-637b-42ba-96b5-ec9a68c44524",
   "metadata": {
    "execution": {
     "iopub.execute_input": "2025-07-30T12:52:15.236123Z",
     "iopub.status.busy": "2025-07-30T12:52:15.235460Z",
     "iopub.status.idle": "2025-07-30T12:52:15.249068Z",
     "shell.execute_reply": "2025-07-30T12:52:15.248147Z"
    },
    "papermill": {
     "duration": 0.036414,
     "end_time": "2025-07-30T12:52:15.250678",
     "exception": false,
     "start_time": "2025-07-30T12:52:15.214264",
     "status": "completed"
    },
    "tags": []
   },
   "outputs": [
    {
     "name": "stdout",
     "output_type": "stream",
     "text": [
      "/dss/dsshome1/0C/ra93lal2/cma/CMA_Fairness_v2\n"
     ]
    },
    {
     "name": "stderr",
     "output_type": "stream",
     "text": [
      "/dss/dsshome1/0C/ra93lal2/.local/share/virtualenvs/CMA_Fairness_v2-3j10GkSs/lib/python3.10/site-packages/IPython/core/magics/osm.py:393: UserWarning: This is now an optional IPython functionality, using bookmarks requires you to install the `pickleshare` library.\n",
      "  bkms = self.shell.db.get('bookmarks', {})\n",
      "/dss/dsshome1/0C/ra93lal2/.local/share/virtualenvs/CMA_Fairness_v2-3j10GkSs/lib/python3.10/site-packages/IPython/core/magics/osm.py:417: UserWarning: This is now an optional IPython functionality, setting dhist requires you to install the `pickleshare` library.\n",
      "  self.shell.db['dhist'] = compress_dhist(dhist)[-100:]\n"
     ]
    }
   ],
   "source": [
    "%cd ~/cma/CMA_Fairness_v2"
   ]
  },
  {
   "cell_type": "markdown",
   "id": "de2603b9",
   "metadata": {
    "papermill": {
     "duration": 0.017773,
     "end_time": "2025-07-30T12:52:15.287457",
     "exception": false,
     "start_time": "2025-07-30T12:52:15.269684",
     "status": "completed"
    },
    "tags": []
   },
   "source": [
    "The following cell holds the definition of our parameters, these values can be overriden by rendering the with e.g. the following command:\n",
    "\n",
    "papermill -p alpha 0.2 -p ratio 0.3 universe_analysis.ipynb output/test_run.ipynb"
   ]
  },
  {
   "cell_type": "code",
   "execution_count": 2,
   "id": "a80968a0-40bb-4fa9-85ef-2d5eefb01975",
   "metadata": {
    "execution": {
     "iopub.execute_input": "2025-07-30T12:52:15.325113Z",
     "iopub.status.busy": "2025-07-30T12:52:15.324458Z",
     "iopub.status.idle": "2025-07-30T12:52:15.330380Z",
     "shell.execute_reply": "2025-07-30T12:52:15.329517Z"
    },
    "papermill": {
     "duration": 0.026427,
     "end_time": "2025-07-30T12:52:15.331859",
     "exception": false,
     "start_time": "2025-07-30T12:52:15.305432",
     "status": "completed"
    },
    "tags": []
   },
   "outputs": [
    {
     "name": "stdout",
     "output_type": "stream",
     "text": [
      "Current working directory: /dss/dsshome1/0C/ra93lal2/cma/CMA_Fairness_v2\n"
     ]
    }
   ],
   "source": [
    "import os\n",
    "print(\"Current working directory:\", os.getcwd())"
   ]
  },
  {
   "cell_type": "code",
   "execution_count": 3,
   "id": "2dce4c03",
   "metadata": {
    "execution": {
     "iopub.execute_input": "2025-07-30T12:52:15.370642Z",
     "iopub.status.busy": "2025-07-30T12:52:15.369970Z",
     "iopub.status.idle": "2025-07-30T12:52:15.376484Z",
     "shell.execute_reply": "2025-07-30T12:52:15.375528Z"
    },
    "papermill": {
     "duration": 0.027329,
     "end_time": "2025-07-30T12:52:15.377932",
     "exception": false,
     "start_time": "2025-07-30T12:52:15.350603",
     "status": "completed"
    },
    "tags": [
     "parameters"
    ]
   },
   "outputs": [],
   "source": [
    "run_no = 0\n",
    "universe_id = \"test\"\n",
    "universe = {\n",
    "    \"training_size\": \"25k\", # \"25k\", \"5k\", \"1k\"\n",
    "    \"training_year\": \"2014\", # \"2014\", \"2012_14\", \"2010_14\"\n",
    "    \"scale\": \"scale\", # \"scale\", \"do-not-scale\",\n",
    "    #\"stratify_split\": \"target\", # \"none\", \"target\", \"protected-attribute\", \"both\",\n",
    "    \"model\": \"elasticnet\", # \"logreg\", \"penalized_logreg\", \"rf\", \"gbm\", \"elasticnet\"\n",
    "    \"cutoff\": [\"quantile_0.15\", \"quantile_0.30\"],\n",
    "    \"exclude_features\": \"age\", # \"none\", \"nationality\", \"sex\", \"nationality-sex\", \"age\"\n",
    "    \"exclude_subgroups\": \"keep-all\", # \"keep-all\", \"drop-non-german\"\n",
    "    \"eval_fairness_grouping\": [\"majority-minority\", \"nationality-all\"]\n",
    "}\n",
    "\n",
    "output_dir=\"./output\"\n",
    "seed=0"
   ]
  },
  {
   "cell_type": "code",
   "execution_count": 4,
   "id": "de9926bc",
   "metadata": {
    "execution": {
     "iopub.execute_input": "2025-07-30T12:52:15.416721Z",
     "iopub.status.busy": "2025-07-30T12:52:15.416071Z",
     "iopub.status.idle": "2025-07-30T12:52:15.421170Z",
     "shell.execute_reply": "2025-07-30T12:52:15.420338Z"
    },
    "papermill": {
     "duration": 0.025613,
     "end_time": "2025-07-30T12:52:15.422603",
     "exception": false,
     "start_time": "2025-07-30T12:52:15.396990",
     "status": "completed"
    },
    "tags": [
     "injected-parameters"
    ]
   },
   "outputs": [],
   "source": [
    "# Parameters\n",
    "universe_id = \"fef25a96ca926ece091170c5f2cbd5c8\"\n",
    "run_no = \"12\"\n",
    "universe = \"{\\\"cutoff\\\": [\\\"quantile_0.1\\\", \\\"quantile_0.25\\\"], \\\"eval_fairness_grouping\\\": [\\\"majority-minority\\\", \\\"nationality-all\\\"], \\\"exclude_features\\\": \\\"age\\\", \\\"exclude_subgroups\\\": \\\"drop-non-german\\\", \\\"model\\\": \\\"elasticnet\\\", \\\"scale\\\": \\\"scale\\\", \\\"training_size\\\": \\\"25k\\\", \\\"training_year\\\": \\\"2014\\\"}\"\n",
    "output_dir = \"output\"\n",
    "seed = \"2023\"\n"
   ]
  },
  {
   "cell_type": "code",
   "execution_count": 5,
   "id": "1650acaf",
   "metadata": {
    "execution": {
     "iopub.execute_input": "2025-07-30T12:52:15.461000Z",
     "iopub.status.busy": "2025-07-30T12:52:15.460379Z",
     "iopub.status.idle": "2025-07-30T12:52:15.465362Z",
     "shell.execute_reply": "2025-07-30T12:52:15.464474Z"
    },
    "papermill": {
     "duration": 0.025712,
     "end_time": "2025-07-30T12:52:15.466791",
     "exception": false,
     "start_time": "2025-07-30T12:52:15.441079",
     "status": "completed"
    },
    "tags": []
   },
   "outputs": [],
   "source": [
    "import json\n",
    "# Parse universe into dict if it is passed as a string\n",
    "if isinstance(universe, str):\n",
    "    universe = json.loads(universe)"
   ]
  },
  {
   "cell_type": "code",
   "execution_count": 6,
   "id": "16620c48",
   "metadata": {
    "execution": {
     "iopub.execute_input": "2025-07-30T12:52:15.505449Z",
     "iopub.status.busy": "2025-07-30T12:52:15.504823Z",
     "iopub.status.idle": "2025-07-30T12:52:15.547318Z",
     "shell.execute_reply": "2025-07-30T12:52:15.546473Z"
    },
    "papermill": {
     "duration": 0.06377,
     "end_time": "2025-07-30T12:52:15.549204",
     "exception": false,
     "start_time": "2025-07-30T12:52:15.485434",
     "status": "completed"
    },
    "tags": []
   },
   "outputs": [],
   "source": [
    "# Auto-reload the custom package\n",
    "%load_ext autoreload\n",
    "%autoreload 1\n",
    "%aimport fairness_multiverse"
   ]
  },
  {
   "cell_type": "code",
   "execution_count": 7,
   "id": "01c5c9f3",
   "metadata": {
    "execution": {
     "iopub.execute_input": "2025-07-30T12:52:15.588678Z",
     "iopub.status.busy": "2025-07-30T12:52:15.587739Z",
     "iopub.status.idle": "2025-07-30T12:52:17.425806Z",
     "shell.execute_reply": "2025-07-30T12:52:17.424886Z"
    },
    "papermill": {
     "duration": 1.85949,
     "end_time": "2025-07-30T12:52:17.427633",
     "exception": false,
     "start_time": "2025-07-30T12:52:15.568143",
     "status": "completed"
    },
    "tags": []
   },
   "outputs": [],
   "source": [
    "from fairness_multiverse.universe import UniverseAnalysis\n",
    "\n",
    "universe_analysis = UniverseAnalysis(\n",
    "    run_no = run_no,\n",
    "    universe_id = universe_id,\n",
    "    universe = universe,\n",
    "    output_dir=output_dir,\n",
    ")"
   ]
  },
  {
   "cell_type": "code",
   "execution_count": 8,
   "id": "106241f5",
   "metadata": {
    "execution": {
     "iopub.execute_input": "2025-07-30T12:52:17.469456Z",
     "iopub.status.busy": "2025-07-30T12:52:17.468789Z",
     "iopub.status.idle": "2025-07-30T12:52:17.475488Z",
     "shell.execute_reply": "2025-07-30T12:52:17.474512Z"
    },
    "papermill": {
     "duration": 0.028235,
     "end_time": "2025-07-30T12:52:17.477097",
     "exception": false,
     "start_time": "2025-07-30T12:52:17.448862",
     "status": "completed"
    },
    "tags": []
   },
   "outputs": [
    {
     "name": "stdout",
     "output_type": "stream",
     "text": [
      "Using Seed: 2023\n"
     ]
    }
   ],
   "source": [
    "import numpy as np\n",
    "parsed_seed = int(seed)\n",
    "np.random.seed(parsed_seed)\n",
    "print(f\"Using Seed: {parsed_seed}\")"
   ]
  },
  {
   "cell_type": "markdown",
   "id": "e0ebdc57",
   "metadata": {
    "papermill": {
     "duration": 0.019743,
     "end_time": "2025-07-30T12:52:17.517232",
     "exception": false,
     "start_time": "2025-07-30T12:52:17.497489",
     "status": "completed"
    },
    "tags": []
   },
   "source": [
    "# Loading Data"
   ]
  },
  {
   "cell_type": "markdown",
   "id": "681925a3",
   "metadata": {
    "papermill": {
     "duration": 0.019788,
     "end_time": "2025-07-30T12:52:17.557014",
     "exception": false,
     "start_time": "2025-07-30T12:52:17.537226",
     "status": "completed"
    },
    "tags": []
   },
   "source": [
    "Load siab_train, siab_test, siab_calib and/or \n",
    "load siab_train_features, siab_train_labels"
   ]
  },
  {
   "cell_type": "code",
   "execution_count": 9,
   "id": "f0496b8a",
   "metadata": {
    "execution": {
     "iopub.execute_input": "2025-07-30T12:52:17.598367Z",
     "iopub.status.busy": "2025-07-30T12:52:17.597708Z",
     "iopub.status.idle": "2025-07-30T12:52:29.684608Z",
     "shell.execute_reply": "2025-07-30T12:52:29.683194Z"
    },
    "papermill": {
     "duration": 12.109732,
     "end_time": "2025-07-30T12:52:29.686572",
     "exception": false,
     "start_time": "2025-07-30T12:52:17.576840",
     "status": "completed"
    },
    "tags": []
   },
   "outputs": [
    {
     "name": "stdout",
     "output_type": "stream",
     "text": [
      "Loading SIAB data from cache: data/siab_cached.csv.gz\n"
     ]
    },
    {
     "name": "stdout",
     "output_type": "stream",
     "text": [
      "(643690, 164)\n"
     ]
    }
   ],
   "source": [
    "from pathlib import Path\n",
    "import pandas as pd\n",
    "\n",
    "# File paths\n",
    "raw_file = Path(\"data/raw/siab.csv\")\n",
    "cache_file = Path(\"data/siab_cached.csv.gz\")\n",
    "\n",
    "# Ensure cache directory exists\n",
    "cache_file.parent.mkdir(parents=True, exist_ok=True)\n",
    "\n",
    "# Load with simple caching\n",
    "if cache_file.exists():\n",
    "    print(f\"Loading SIAB data from cache: {cache_file}\")\n",
    "    siab = pd.read_csv(cache_file, compression='gzip')\n",
    "else:\n",
    "    print(f\"Cache not found. Reading raw SIAB data: {raw_file}\")\n",
    "    siab = pd.read_csv(raw_file)\n",
    "    siab.to_csv(cache_file, index=False, compression='gzip')\n",
    "    print(f\"Cached SIAB data to: {cache_file}\")\n",
    "\n",
    "# Now use `siab` DataFrame as needed\n",
    "print(siab.shape)"
   ]
  },
  {
   "cell_type": "code",
   "execution_count": 10,
   "id": "db0ca512-5f53-4dba-abdb-a2888bca41ba",
   "metadata": {
    "execution": {
     "iopub.execute_input": "2025-07-30T12:52:29.739220Z",
     "iopub.status.busy": "2025-07-30T12:52:29.738458Z",
     "iopub.status.idle": "2025-07-30T12:52:29.746030Z",
     "shell.execute_reply": "2025-07-30T12:52:29.743739Z"
    },
    "papermill": {
     "duration": 0.034497,
     "end_time": "2025-07-30T12:52:29.747929",
     "exception": false,
     "start_time": "2025-07-30T12:52:29.713432",
     "status": "completed"
    },
    "tags": []
   },
   "outputs": [],
   "source": [
    "#siab"
   ]
  },
  {
   "cell_type": "code",
   "execution_count": 11,
   "id": "a0edb063",
   "metadata": {
    "execution": {
     "iopub.execute_input": "2025-07-30T12:52:29.798346Z",
     "iopub.status.busy": "2025-07-30T12:52:29.797638Z",
     "iopub.status.idle": "2025-07-30T12:52:29.803873Z",
     "shell.execute_reply": "2025-07-30T12:52:29.802039Z"
    },
    "papermill": {
     "duration": 0.033356,
     "end_time": "2025-07-30T12:52:29.805687",
     "exception": false,
     "start_time": "2025-07-30T12:52:29.772331",
     "status": "completed"
    },
    "tags": []
   },
   "outputs": [],
   "source": [
    "#import pandas as pd\n",
    "#\n",
    "#X_train = pd.read_csv(\"./data/X_train.csv\")\n",
    "#y_train = pd.read_csv(\"./data/y_train.csv\")"
   ]
  },
  {
   "cell_type": "code",
   "execution_count": 12,
   "id": "63d08085",
   "metadata": {
    "execution": {
     "iopub.execute_input": "2025-07-30T12:52:29.865324Z",
     "iopub.status.busy": "2025-07-30T12:52:29.864809Z",
     "iopub.status.idle": "2025-07-30T12:52:29.870242Z",
     "shell.execute_reply": "2025-07-30T12:52:29.869228Z"
    },
    "papermill": {
     "duration": 0.043528,
     "end_time": "2025-07-30T12:52:29.872112",
     "exception": false,
     "start_time": "2025-07-30T12:52:29.828584",
     "status": "completed"
    },
    "tags": []
   },
   "outputs": [],
   "source": [
    "#X_test = pd.read_csv(\"./data/X_test.csv\")\n",
    "#y_true = pd.read_csv(\"./data/y_test.csv\")"
   ]
  },
  {
   "cell_type": "code",
   "execution_count": 13,
   "id": "98a8d0fa-1d3d-4ed8-bb2c-281470e24add",
   "metadata": {
    "execution": {
     "iopub.execute_input": "2025-07-30T12:52:29.915646Z",
     "iopub.status.busy": "2025-07-30T12:52:29.915018Z",
     "iopub.status.idle": "2025-07-30T12:52:29.919861Z",
     "shell.execute_reply": "2025-07-30T12:52:29.918872Z"
    },
    "papermill": {
     "duration": 0.028316,
     "end_time": "2025-07-30T12:52:29.921806",
     "exception": false,
     "start_time": "2025-07-30T12:52:29.893490",
     "status": "completed"
    },
    "tags": []
   },
   "outputs": [],
   "source": [
    "# Calibration data for conformal\n",
    "#X_calib = pd.read_csv(\"./data/X_calib.csv\")\n",
    "#y_calib = pd.read_csv(\"./data/y_calib.csv\")"
   ]
  },
  {
   "cell_type": "markdown",
   "id": "997051c5-15bd-4b69-9786-c3001a3ce484",
   "metadata": {
    "papermill": {
     "duration": 0.02044,
     "end_time": "2025-07-30T12:52:29.964105",
     "exception": false,
     "start_time": "2025-07-30T12:52:29.943665",
     "status": "completed"
    },
    "tags": []
   },
   "source": [
    "# Splitting Data and Setting Training Data Size"
   ]
  },
  {
   "cell_type": "code",
   "execution_count": 14,
   "id": "e993b61f-042d-41a6-8c81-f55681f86335",
   "metadata": {
    "execution": {
     "iopub.execute_input": "2025-07-30T12:52:30.008121Z",
     "iopub.status.busy": "2025-07-30T12:52:30.007595Z",
     "iopub.status.idle": "2025-07-30T12:52:30.021504Z",
     "shell.execute_reply": "2025-07-30T12:52:30.020560Z"
    },
    "papermill": {
     "duration": 0.038619,
     "end_time": "2025-07-30T12:52:30.023293",
     "exception": false,
     "start_time": "2025-07-30T12:52:29.984674",
     "status": "completed"
    },
    "tags": []
   },
   "outputs": [],
   "source": [
    "def sample_by_year_size(df,\n",
    "                        training_year: str,\n",
    "                        training_size: str,\n",
    "                        random_state: int = 42):\n",
    "    # --- parse training_year into a list of int years ---\n",
    "    if \"_\" in training_year:\n",
    "        start_str, end_str = training_year.split(\"_\", 1)\n",
    "        start = int(start_str)\n",
    "        end   = int(end_str) if len(end_str) == 4 else (int(end_str) + (start // 100)*100)\n",
    "        years = list(range(start, end + 1))\n",
    "    else:\n",
    "        years = [int(training_year)]\n",
    "\n",
    "    df = df[df[\"year\"].isin(years)].reset_index(drop=True)\n",
    "\n",
    "    # --- map training_size to total number of samples ---\n",
    "    total_map = {\"25k\": 25_000, \"5k\": 5_000, \"1k\": 1_000}\n",
    "    if training_size not in total_map:\n",
    "        return df  # e.g. \"all\"\n",
    "\n",
    "    total_samples = total_map[training_size]\n",
    "    n_years       = len(years)\n",
    "    base          = total_samples // n_years\n",
    "    remainder     = total_samples % n_years\n",
    "\n",
    "    # --- build a dict: year -> how many to sample ---\n",
    "    # give +1 to the first `remainder` years in ascending order\n",
    "    quotas = {\n",
    "        year: base + (1 if idx < remainder else 0)\n",
    "        for idx, year in enumerate(sorted(years))\n",
    "    }\n",
    "\n",
    "    # --- sample per‐year according to the quota dict ---\n",
    "    sampled = (\n",
    "        df\n",
    "        .groupby(\"year\", group_keys=False)\n",
    "        .apply(lambda grp: grp.sample(\n",
    "            n=min(len(grp), quotas[grp.name]),\n",
    "            random_state=random_state))\n",
    "        .reset_index(drop=True)\n",
    "    )\n",
    "\n",
    "    return sampled"
   ]
  },
  {
   "cell_type": "code",
   "execution_count": 15,
   "id": "c0ccd338-0e02-41f3-a09d-f56f9266e3fb",
   "metadata": {
    "execution": {
     "iopub.execute_input": "2025-07-30T12:52:30.072337Z",
     "iopub.status.busy": "2025-07-30T12:52:30.071777Z",
     "iopub.status.idle": "2025-07-30T12:52:30.084435Z",
     "shell.execute_reply": "2025-07-30T12:52:30.083370Z"
    },
    "papermill": {
     "duration": 0.03833,
     "end_time": "2025-07-30T12:52:30.086170",
     "exception": false,
     "start_time": "2025-07-30T12:52:30.047840",
     "status": "completed"
    },
    "tags": []
   },
   "outputs": [
    {
     "data": {
      "text/plain": [
       "'25k'"
      ]
     },
     "execution_count": 15,
     "metadata": {},
     "output_type": "execute_result"
    }
   ],
   "source": [
    "universe[\"training_size\"]"
   ]
  },
  {
   "cell_type": "code",
   "execution_count": 16,
   "id": "ca707fd7-8047-4acd-bfa5-66248fbbf8e6",
   "metadata": {
    "execution": {
     "iopub.execute_input": "2025-07-30T12:52:30.131149Z",
     "iopub.status.busy": "2025-07-30T12:52:30.130451Z",
     "iopub.status.idle": "2025-07-30T12:52:30.137934Z",
     "shell.execute_reply": "2025-07-30T12:52:30.136864Z"
    },
    "papermill": {
     "duration": 0.032227,
     "end_time": "2025-07-30T12:52:30.139568",
     "exception": false,
     "start_time": "2025-07-30T12:52:30.107341",
     "status": "completed"
    },
    "tags": []
   },
   "outputs": [
    {
     "data": {
      "text/plain": [
       "'2014'"
      ]
     },
     "execution_count": 16,
     "metadata": {},
     "output_type": "execute_result"
    }
   ],
   "source": [
    "universe[\"training_year\"]"
   ]
  },
  {
   "cell_type": "code",
   "execution_count": 17,
   "id": "aea9c6ef-6f46-42c8-85eb-5a62025c1508",
   "metadata": {
    "execution": {
     "iopub.execute_input": "2025-07-30T12:52:30.190189Z",
     "iopub.status.busy": "2025-07-30T12:52:30.189666Z",
     "iopub.status.idle": "2025-07-30T12:52:30.465603Z",
     "shell.execute_reply": "2025-07-30T12:52:30.464614Z"
    },
    "papermill": {
     "duration": 0.303956,
     "end_time": "2025-07-30T12:52:30.467672",
     "exception": false,
     "start_time": "2025-07-30T12:52:30.163716",
     "status": "completed"
    },
    "tags": []
   },
   "outputs": [],
   "source": [
    "siab_train = sample_by_year_size(siab,\n",
    "                               training_year=universe[\"training_year\"],\n",
    "                               training_size=universe[\"training_size\"])"
   ]
  },
  {
   "cell_type": "code",
   "execution_count": 18,
   "id": "8d3afb32-789d-442c-8d5d-9f5aa8dd2eed",
   "metadata": {
    "execution": {
     "iopub.execute_input": "2025-07-30T12:52:30.528659Z",
     "iopub.status.busy": "2025-07-30T12:52:30.528166Z",
     "iopub.status.idle": "2025-07-30T12:52:30.535389Z",
     "shell.execute_reply": "2025-07-30T12:52:30.534364Z"
    },
    "papermill": {
     "duration": 0.031095,
     "end_time": "2025-07-30T12:52:30.539430",
     "exception": false,
     "start_time": "2025-07-30T12:52:30.508335",
     "status": "completed"
    },
    "tags": []
   },
   "outputs": [
    {
     "data": {
      "text/plain": [
       "(25000, 164)"
      ]
     },
     "execution_count": 18,
     "metadata": {},
     "output_type": "execute_result"
    }
   ],
   "source": [
    "siab_train.shape"
   ]
  },
  {
   "cell_type": "code",
   "execution_count": 19,
   "id": "d582db68-1a4c-47fb-84fc-08518dc1975a",
   "metadata": {
    "execution": {
     "iopub.execute_input": "2025-07-30T12:52:30.583356Z",
     "iopub.status.busy": "2025-07-30T12:52:30.582850Z",
     "iopub.status.idle": "2025-07-30T12:52:30.593190Z",
     "shell.execute_reply": "2025-07-30T12:52:30.592248Z"
    },
    "papermill": {
     "duration": 0.031604,
     "end_time": "2025-07-30T12:52:30.594894",
     "exception": false,
     "start_time": "2025-07-30T12:52:30.563290",
     "status": "completed"
    },
    "tags": []
   },
   "outputs": [
    {
     "data": {
      "text/plain": [
       "year\n",
       "2014    25000\n",
       "dtype: int64"
      ]
     },
     "metadata": {},
     "output_type": "display_data"
    }
   ],
   "source": [
    "display(siab_train.groupby(\"year\").size())"
   ]
  },
  {
   "cell_type": "code",
   "execution_count": 20,
   "id": "a561edb4-d032-42cb-8256-22eac1111c64",
   "metadata": {
    "execution": {
     "iopub.execute_input": "2025-07-30T12:52:30.642209Z",
     "iopub.status.busy": "2025-07-30T12:52:30.641769Z",
     "iopub.status.idle": "2025-07-30T12:52:30.881037Z",
     "shell.execute_reply": "2025-07-30T12:52:30.880294Z"
    },
    "papermill": {
     "duration": 0.263684,
     "end_time": "2025-07-30T12:52:30.882919",
     "exception": false,
     "start_time": "2025-07-30T12:52:30.619235",
     "status": "completed"
    },
    "tags": []
   },
   "outputs": [],
   "source": [
    "#siab_train = siab_s[siab_s.year < 2015]\n",
    "siab_calib = siab[siab.year == 2015]\n",
    "siab_test = siab[siab.year == 2016]"
   ]
  },
  {
   "cell_type": "code",
   "execution_count": 21,
   "id": "472de16f-c3db-4916-846b-1f0de9cf1746",
   "metadata": {
    "execution": {
     "iopub.execute_input": "2025-07-30T12:52:30.934627Z",
     "iopub.status.busy": "2025-07-30T12:52:30.934132Z",
     "iopub.status.idle": "2025-07-30T12:52:30.946765Z",
     "shell.execute_reply": "2025-07-30T12:52:30.945834Z"
    },
    "papermill": {
     "duration": 0.026516,
     "end_time": "2025-07-30T12:52:30.948214",
     "exception": false,
     "start_time": "2025-07-30T12:52:30.921698",
     "status": "completed"
    },
    "tags": []
   },
   "outputs": [],
   "source": [
    "X_train = siab_train.iloc[:,4:164]\n",
    "y_train = siab_train.iloc[:, [3]]"
   ]
  },
  {
   "cell_type": "code",
   "execution_count": 22,
   "id": "828c96af-f43a-4ed6-ba47-8ac73a47d56c",
   "metadata": {
    "execution": {
     "iopub.execute_input": "2025-07-30T12:52:30.986215Z",
     "iopub.status.busy": "2025-07-30T12:52:30.985870Z",
     "iopub.status.idle": "2025-07-30T12:52:31.035402Z",
     "shell.execute_reply": "2025-07-30T12:52:31.034295Z"
    },
    "papermill": {
     "duration": 0.066682,
     "end_time": "2025-07-30T12:52:31.036832",
     "exception": false,
     "start_time": "2025-07-30T12:52:30.970150",
     "status": "completed"
    },
    "tags": []
   },
   "outputs": [],
   "source": [
    "X_calib = siab_calib.iloc[:,4:164]\n",
    "y_calib = siab_calib.iloc[:, [3]]"
   ]
  },
  {
   "cell_type": "code",
   "execution_count": 23,
   "id": "c34be9c3-6bd6-476e-acd3-845840e303be",
   "metadata": {
    "execution": {
     "iopub.execute_input": "2025-07-30T12:52:31.081448Z",
     "iopub.status.busy": "2025-07-30T12:52:31.080985Z",
     "iopub.status.idle": "2025-07-30T12:52:31.136808Z",
     "shell.execute_reply": "2025-07-30T12:52:31.135660Z"
    },
    "papermill": {
     "duration": 0.079169,
     "end_time": "2025-07-30T12:52:31.138564",
     "exception": false,
     "start_time": "2025-07-30T12:52:31.059395",
     "status": "completed"
    },
    "tags": []
   },
   "outputs": [],
   "source": [
    "X_test = siab_test.iloc[:,4:164]\n",
    "y_true = siab_test.iloc[:, [3]]"
   ]
  },
  {
   "cell_type": "markdown",
   "id": "9901737e-04df-44f0-9100-f5ad144ed040",
   "metadata": {
    "papermill": {
     "duration": 0.022337,
     "end_time": "2025-07-30T12:52:31.184997",
     "exception": false,
     "start_time": "2025-07-30T12:52:31.162660",
     "status": "completed"
    },
    "tags": []
   },
   "source": [
    "# Splitting Data and Setting Training Data Size OLD VERSION"
   ]
  },
  {
   "cell_type": "code",
   "execution_count": 24,
   "id": "acbc8f7d-8fc8-4e86-8c59-5dcb0f58384b",
   "metadata": {
    "execution": {
     "iopub.execute_input": "2025-07-30T12:52:31.232598Z",
     "iopub.status.busy": "2025-07-30T12:52:31.232068Z",
     "iopub.status.idle": "2025-07-30T12:52:31.237791Z",
     "shell.execute_reply": "2025-07-30T12:52:31.236775Z"
    },
    "papermill": {
     "duration": 0.032288,
     "end_time": "2025-07-30T12:52:31.239932",
     "exception": false,
     "start_time": "2025-07-30T12:52:31.207644",
     "status": "completed"
    },
    "tags": []
   },
   "outputs": [],
   "source": [
    "#def sample_by_year(df, training_size, random_state=42):\n",
    "#    if training_size == \"2014\":\n",
    "#        return df[df[\"year\"] == 2014].reset_index(drop=True)\n",
    "#    \n",
    "#    size_map = {\n",
    "#        \"25k\": 5000,\n",
    "#        \"5k\": 1000,\n",
    "#        \"1k\": 200\n",
    "#    }\n",
    "#\n",
    "#    if training_size not in size_map:\n",
    "#        return df.reset_index(drop=True)  # use all data\n",
    "#\n",
    "#    n_per_year = size_map[training_size]\n",
    "#    grouped = df.groupby(\"year\")\n",
    "#    sampled = grouped.apply(lambda x: x.sample(n=min(n_per_year, len(x)), random_state=random_state))\n",
    "#    return sampled.reset_index(drop=True)"
   ]
  },
  {
   "cell_type": "code",
   "execution_count": 25,
   "id": "6d931f52-beaf-43ff-9e78-9d44a448d54e",
   "metadata": {
    "execution": {
     "iopub.execute_input": "2025-07-30T12:52:31.287670Z",
     "iopub.status.busy": "2025-07-30T12:52:31.287232Z",
     "iopub.status.idle": "2025-07-30T12:52:31.292699Z",
     "shell.execute_reply": "2025-07-30T12:52:31.291637Z"
    },
    "papermill": {
     "duration": 0.03118,
     "end_time": "2025-07-30T12:52:31.294279",
     "exception": false,
     "start_time": "2025-07-30T12:52:31.263099",
     "status": "completed"
    },
    "tags": []
   },
   "outputs": [],
   "source": [
    "#siab_s = sample_by_year(siab, universe[\"training_size\"])"
   ]
  },
  {
   "cell_type": "code",
   "execution_count": 26,
   "id": "5db0a40e-a4e2-4920-be85-b12ae061d70d",
   "metadata": {
    "execution": {
     "iopub.execute_input": "2025-07-30T12:52:31.339752Z",
     "iopub.status.busy": "2025-07-30T12:52:31.339172Z",
     "iopub.status.idle": "2025-07-30T12:52:31.344003Z",
     "shell.execute_reply": "2025-07-30T12:52:31.343093Z"
    },
    "papermill": {
     "duration": 0.029197,
     "end_time": "2025-07-30T12:52:31.345825",
     "exception": false,
     "start_time": "2025-07-30T12:52:31.316628",
     "status": "completed"
    },
    "tags": []
   },
   "outputs": [],
   "source": [
    "#display(siab_s.groupby(\"year\").size())"
   ]
  },
  {
   "cell_type": "code",
   "execution_count": 27,
   "id": "e6c733c5",
   "metadata": {
    "execution": {
     "iopub.execute_input": "2025-07-30T12:52:31.393349Z",
     "iopub.status.busy": "2025-07-30T12:52:31.392914Z",
     "iopub.status.idle": "2025-07-30T12:52:31.496913Z",
     "shell.execute_reply": "2025-07-30T12:52:31.495862Z"
    },
    "papermill": {
     "duration": 0.129483,
     "end_time": "2025-07-30T12:52:31.498787",
     "exception": false,
     "start_time": "2025-07-30T12:52:31.369304",
     "status": "completed"
    },
    "tags": []
   },
   "outputs": [],
   "source": [
    "# Auxiliary data needed downstream in the pipeline\n",
    "\n",
    "org_train = X_train.copy()\n",
    "org_test = X_test.copy()\n",
    "org_calib = X_calib.copy()"
   ]
  },
  {
   "cell_type": "code",
   "execution_count": 28,
   "id": "1466abac-c6da-4492-a62f-4240ae3783af",
   "metadata": {
    "execution": {
     "iopub.execute_input": "2025-07-30T12:52:31.549162Z",
     "iopub.status.busy": "2025-07-30T12:52:31.548332Z",
     "iopub.status.idle": "2025-07-30T12:52:31.555150Z",
     "shell.execute_reply": "2025-07-30T12:52:31.554150Z"
    },
    "papermill": {
     "duration": 0.031537,
     "end_time": "2025-07-30T12:52:31.556898",
     "exception": false,
     "start_time": "2025-07-30T12:52:31.525361",
     "status": "completed"
    },
    "tags": []
   },
   "outputs": [],
   "source": [
    "# put in other script?\n",
    "# Group sizes\n",
    "\n",
    "#def calculate_percentages(df, df_name):\n",
    "#    total_entries = len(df)\n",
    "#\n",
    "#    female_pct = (df['frau1'] == 1).mean() * 100\n",
    "#    non_german_pct = ((df['maxdeutsch1'] == 0) & (df['maxdeutsch.Missing.'] == 0)).mean() * 100\n",
    "#    non_german_male_pct = ((df['frau1'] == 0) & (df['maxdeutsch1'] == 0) & (df['maxdeutsch.Missing.'] == 0)).mean() * 100\n",
    "#    non_german_female_pct = ((df['frau1'] == 1) & (df['maxdeutsch1'] == 0) & (df['maxdeutsch.Missing.'] == 0)).mean() * 100\n",
    "#\n",
    "#    print(f\"--- {df_name} ---\")\n",
    "#    print(f\"Female: {female_pct:.2f}%\")\n",
    "#    print(f\"Non-German: {non_german_pct:.2f}%\")\n",
    "#    print(f\"Non-German Male: {non_german_male_pct:.2f}%\")\n",
    "#    print(f\"Non-German Female: {non_german_female_pct:.2f}%\\n\")\n",
    "#\n",
    "## Calculate for each DataFrame\n",
    "#calculate_percentages(siab_calib, \"siab_calib\")\n",
    "#calculate_percentages(siab_test, \"siab_test\")\n",
    "#calculate_percentages(siab_train, \"siab_train\")"
   ]
  },
  {
   "cell_type": "markdown",
   "id": "0a4a1b33",
   "metadata": {
    "papermill": {
     "duration": 0.020655,
     "end_time": "2025-07-30T12:52:31.601232",
     "exception": false,
     "start_time": "2025-07-30T12:52:31.580577",
     "status": "completed"
    },
    "tags": []
   },
   "source": [
    "# Preprocessing Data"
   ]
  },
  {
   "cell_type": "code",
   "execution_count": 29,
   "id": "ca879031",
   "metadata": {
    "execution": {
     "iopub.execute_input": "2025-07-30T12:52:31.644009Z",
     "iopub.status.busy": "2025-07-30T12:52:31.643535Z",
     "iopub.status.idle": "2025-07-30T12:52:31.649687Z",
     "shell.execute_reply": "2025-07-30T12:52:31.648700Z"
    },
    "papermill": {
     "duration": 0.029395,
     "end_time": "2025-07-30T12:52:31.651294",
     "exception": false,
     "start_time": "2025-07-30T12:52:31.621899",
     "status": "completed"
    },
    "tags": []
   },
   "outputs": [],
   "source": [
    "# EXCLUDE PROTECTED FEATURES\n",
    "# ----------------------\n",
    "# \"exclude_features\": \"none\", # \"nationality\", \"sex\", \"nationality-sex\"\n",
    "\n",
    "excluded_features = universe[\"exclude_features\"].split(\"-\") # split, e.g.: \"nationality-sex\" -> [\"nationality\", \"sex\"]\n",
    "excluded_features_dictionary = {\n",
    "    \"nationality\": [\"maxdeutsch1\", \"maxdeutsch.Missing.\"],\n",
    "    \"sex\": [\"frau1\"],\n",
    "    \"age\": [\"age\"],\n",
    "}\n"
   ]
  },
  {
   "cell_type": "code",
   "execution_count": 30,
   "id": "b745ac60",
   "metadata": {
    "execution": {
     "iopub.execute_input": "2025-07-30T12:52:31.696619Z",
     "iopub.status.busy": "2025-07-30T12:52:31.695872Z",
     "iopub.status.idle": "2025-07-30T12:52:31.701285Z",
     "shell.execute_reply": "2025-07-30T12:52:31.700388Z"
    },
    "papermill": {
     "duration": 0.029903,
     "end_time": "2025-07-30T12:52:31.702934",
     "exception": false,
     "start_time": "2025-07-30T12:52:31.673031",
     "status": "completed"
    },
    "tags": []
   },
   "outputs": [],
   "source": [
    "# Code nice names to column names\n",
    "\n",
    "excluded_features_columns = [\n",
    "    excluded_features_dictionary[f] for f in excluded_features if len(f) > 0 and f != \"none\"\n",
    "]"
   ]
  },
  {
   "cell_type": "code",
   "execution_count": 31,
   "id": "f84f73a2",
   "metadata": {
    "execution": {
     "iopub.execute_input": "2025-07-30T12:52:31.754749Z",
     "iopub.status.busy": "2025-07-30T12:52:31.753810Z",
     "iopub.status.idle": "2025-07-30T12:52:31.760608Z",
     "shell.execute_reply": "2025-07-30T12:52:31.759621Z"
    },
    "papermill": {
     "duration": 0.034094,
     "end_time": "2025-07-30T12:52:31.762618",
     "exception": false,
     "start_time": "2025-07-30T12:52:31.728524",
     "status": "completed"
    },
    "tags": []
   },
   "outputs": [],
   "source": [
    "from utils import flatten_once\n",
    "\n",
    "excluded_features_columns = flatten_once(excluded_features_columns)"
   ]
  },
  {
   "cell_type": "code",
   "execution_count": 32,
   "id": "884dea22",
   "metadata": {
    "execution": {
     "iopub.execute_input": "2025-07-30T12:52:31.813653Z",
     "iopub.status.busy": "2025-07-30T12:52:31.812884Z",
     "iopub.status.idle": "2025-07-30T12:52:31.828272Z",
     "shell.execute_reply": "2025-07-30T12:52:31.827141Z"
    },
    "papermill": {
     "duration": 0.042362,
     "end_time": "2025-07-30T12:52:31.829919",
     "exception": false,
     "start_time": "2025-07-30T12:52:31.787557",
     "status": "completed"
    },
    "tags": []
   },
   "outputs": [
    {
     "name": "stdout",
     "output_type": "stream",
     "text": [
      "Dropping features: ['age']\n"
     ]
    }
   ],
   "source": [
    "if len(excluded_features_columns) > 0:\n",
    "    print(f\"Dropping features: {excluded_features_columns}\")\n",
    "    X_train.drop(excluded_features_columns, axis=1, inplace=True)"
   ]
  },
  {
   "cell_type": "code",
   "execution_count": 33,
   "id": "95ab8b16",
   "metadata": {
    "execution": {
     "iopub.execute_input": "2025-07-30T12:52:31.875972Z",
     "iopub.status.busy": "2025-07-30T12:52:31.875109Z",
     "iopub.status.idle": "2025-07-30T12:52:31.929761Z",
     "shell.execute_reply": "2025-07-30T12:52:31.928707Z"
    },
    "papermill": {
     "duration": 0.078849,
     "end_time": "2025-07-30T12:52:31.931427",
     "exception": false,
     "start_time": "2025-07-30T12:52:31.852578",
     "status": "completed"
    },
    "tags": []
   },
   "outputs": [
    {
     "name": "stdout",
     "output_type": "stream",
     "text": [
      "Dropping features: ['age']\n"
     ]
    }
   ],
   "source": [
    "if len(excluded_features_columns) > 0:\n",
    "    print(f\"Dropping features: {excluded_features_columns}\")\n",
    "    X_test.drop(excluded_features_columns, axis=1, inplace=True)"
   ]
  },
  {
   "cell_type": "code",
   "execution_count": 34,
   "id": "1853aaf5-fb9f-46cb-a2b5-8ea4ae2237e4",
   "metadata": {
    "execution": {
     "iopub.execute_input": "2025-07-30T12:52:31.977881Z",
     "iopub.status.busy": "2025-07-30T12:52:31.977485Z",
     "iopub.status.idle": "2025-07-30T12:52:32.031565Z",
     "shell.execute_reply": "2025-07-30T12:52:32.030607Z"
    },
    "papermill": {
     "duration": 0.079,
     "end_time": "2025-07-30T12:52:32.033330",
     "exception": false,
     "start_time": "2025-07-30T12:52:31.954330",
     "status": "completed"
    },
    "tags": []
   },
   "outputs": [
    {
     "name": "stdout",
     "output_type": "stream",
     "text": [
      "Dropping features: ['age']\n"
     ]
    }
   ],
   "source": [
    "if len(excluded_features_columns) > 0:\n",
    "    print(f\"Dropping features: {excluded_features_columns}\")\n",
    "    X_calib.drop(excluded_features_columns, axis=1, inplace=True)"
   ]
  },
  {
   "cell_type": "code",
   "execution_count": 35,
   "id": "6727d079-03e5-481e-9d38-292a90b7a0a8",
   "metadata": {
    "execution": {
     "iopub.execute_input": "2025-07-30T12:52:32.083558Z",
     "iopub.status.busy": "2025-07-30T12:52:32.082918Z",
     "iopub.status.idle": "2025-07-30T12:52:32.088251Z",
     "shell.execute_reply": "2025-07-30T12:52:32.087256Z"
    },
    "papermill": {
     "duration": 0.03196,
     "end_time": "2025-07-30T12:52:32.089905",
     "exception": false,
     "start_time": "2025-07-30T12:52:32.057945",
     "status": "completed"
    },
    "tags": []
   },
   "outputs": [],
   "source": [
    "# SPLIT & STRATIFY DATA\n",
    "# ----------------------"
   ]
  },
  {
   "cell_type": "code",
   "execution_count": 36,
   "id": "76c4dc6d",
   "metadata": {
    "execution": {
     "iopub.execute_input": "2025-07-30T12:52:32.134662Z",
     "iopub.status.busy": "2025-07-30T12:52:32.133919Z",
     "iopub.status.idle": "2025-07-30T12:52:32.139217Z",
     "shell.execute_reply": "2025-07-30T12:52:32.138276Z"
    },
    "papermill": {
     "duration": 0.031812,
     "end_time": "2025-07-30T12:52:32.141008",
     "exception": false,
     "start_time": "2025-07-30T12:52:32.109196",
     "status": "completed"
    },
    "tags": []
   },
   "outputs": [],
   "source": [
    "# EXCLUDE CERTAIN SUBGROUPS\n",
    "# ----------------------\n",
    "\n",
    "mode = universe.get(\"exclude_subgroups\", \"keep-all\") \n",
    "# Fetches the exclude_subgroups setting from the universe dict.\n",
    "# Defaults to \"keep-all\" if the key is missing."
   ]
  },
  {
   "cell_type": "code",
   "execution_count": 37,
   "id": "21994072",
   "metadata": {
    "execution": {
     "iopub.execute_input": "2025-07-30T12:52:32.177898Z",
     "iopub.status.busy": "2025-07-30T12:52:32.177493Z",
     "iopub.status.idle": "2025-07-30T12:52:32.184136Z",
     "shell.execute_reply": "2025-07-30T12:52:32.183118Z"
    },
    "papermill": {
     "duration": 0.021603,
     "end_time": "2025-07-30T12:52:32.185876",
     "exception": false,
     "start_time": "2025-07-30T12:52:32.164273",
     "status": "completed"
    },
    "tags": []
   },
   "outputs": [],
   "source": [
    "if mode == \"keep-all\":\n",
    "    keep_mask = pd.Series(True, index=org_train.index)\n",
    "\n",
    "# org_train contains the original feature columns from features_org (in Simson)\n",
    "# features_org contains unprocessed features, for me X_train at beginning ???\n",
    "# For keep-all, creates a boolean Series (keep_mask) of all True, so no rows are removed.\n",
    "\n",
    "elif mode == \"drop-non-german\":\n",
    "    keep_mask = org_train[\"maxdeutsch1\"] == 1 # ??? what about missing values?\n",
    "\n",
    "else:\n",
    "    raise ValueError(f\"Unsupported mode for exclude_subgroups: {mode}\")\n"
   ]
  },
  {
   "cell_type": "code",
   "execution_count": 38,
   "id": "71651440",
   "metadata": {
    "execution": {
     "iopub.execute_input": "2025-07-30T12:52:32.211505Z",
     "iopub.status.busy": "2025-07-30T12:52:32.211112Z",
     "iopub.status.idle": "2025-07-30T12:52:32.216670Z",
     "shell.execute_reply": "2025-07-30T12:52:32.215891Z"
    },
    "papermill": {
     "duration": 0.019637,
     "end_time": "2025-07-30T12:52:32.217954",
     "exception": false,
     "start_time": "2025-07-30T12:52:32.198317",
     "status": "completed"
    },
    "tags": []
   },
   "outputs": [
    {
     "name": "stdout",
     "output_type": "stream",
     "text": [
      "Dropping 3688 rows (14.75%) where mode='drop-non-german'\n"
     ]
    }
   ],
   "source": [
    "n_drop = (~keep_mask).sum() # Calculates how many rows are set to be dropped\n",
    "if n_drop > 0:\n",
    "    pct = n_drop / len(keep_mask) * 100\n",
    "    print(f\"Dropping {n_drop} rows ({pct:.2f}%) where mode='{mode}'\")"
   ]
  },
  {
   "cell_type": "code",
   "execution_count": 39,
   "id": "5fb8eee5",
   "metadata": {
    "execution": {
     "iopub.execute_input": "2025-07-30T12:52:32.243232Z",
     "iopub.status.busy": "2025-07-30T12:52:32.242679Z",
     "iopub.status.idle": "2025-07-30T12:52:32.254504Z",
     "shell.execute_reply": "2025-07-30T12:52:32.253674Z"
    },
    "papermill": {
     "duration": 0.025742,
     "end_time": "2025-07-30T12:52:32.256170",
     "exception": false,
     "start_time": "2025-07-30T12:52:32.230428",
     "status": "completed"
    },
    "tags": []
   },
   "outputs": [],
   "source": [
    "X_train = X_train[keep_mask]"
   ]
  },
  {
   "cell_type": "code",
   "execution_count": 40,
   "id": "b202bb3a",
   "metadata": {
    "execution": {
     "iopub.execute_input": "2025-07-30T12:52:32.286028Z",
     "iopub.status.busy": "2025-07-30T12:52:32.285560Z",
     "iopub.status.idle": "2025-07-30T12:52:32.291680Z",
     "shell.execute_reply": "2025-07-30T12:52:32.290757Z"
    },
    "papermill": {
     "duration": 0.023965,
     "end_time": "2025-07-30T12:52:32.293341",
     "exception": false,
     "start_time": "2025-07-30T12:52:32.269376",
     "status": "completed"
    },
    "tags": []
   },
   "outputs": [],
   "source": [
    "y_train = y_train[keep_mask]"
   ]
  },
  {
   "cell_type": "markdown",
   "id": "493e2ac3",
   "metadata": {
    "papermill": {
     "duration": 0.025668,
     "end_time": "2025-07-30T12:52:32.344774",
     "exception": false,
     "start_time": "2025-07-30T12:52:32.319106",
     "status": "completed"
    },
    "tags": []
   },
   "source": [
    "# Model Training"
   ]
  },
  {
   "cell_type": "code",
   "execution_count": 41,
   "id": "679e1268",
   "metadata": {
    "execution": {
     "iopub.execute_input": "2025-07-30T12:52:32.384083Z",
     "iopub.status.busy": "2025-07-30T12:52:32.383544Z",
     "iopub.status.idle": "2025-07-30T12:52:32.484423Z",
     "shell.execute_reply": "2025-07-30T12:52:32.483317Z"
    },
    "papermill": {
     "duration": 0.122483,
     "end_time": "2025-07-30T12:52:32.486443",
     "exception": false,
     "start_time": "2025-07-30T12:52:32.363960",
     "status": "completed"
    },
    "tags": []
   },
   "outputs": [],
   "source": [
    "from sklearn.linear_model import LogisticRegression\n",
    "from sklearn.ensemble import GradientBoostingClassifier, RandomForestClassifier\n",
    "\n",
    "if (universe[\"model\"] == \"logreg\"):\n",
    "    model = LogisticRegression() #penalty=\"none\") #, solver=\"newton-cg\", max_iter=1) # include random_state=19 ?\n",
    "elif (universe[\"model\"] == \"penalized_logreg\"):\n",
    "    model = LogisticRegression(penalty=\"l2\", C=1.0) #, solver=\"newton-cg\", max_iter=1)\n",
    "elif (universe[\"model\"] == \"rf\"):\n",
    "    model = RandomForestClassifier(n_estimators=100, n_jobs=-1)\n",
    "elif (universe[\"model\"] == \"gbm\"):\n",
    "    model = GradientBoostingClassifier()\n",
    "elif (universe[\"model\"] == \"elasticnet\"):\n",
    "    model = LogisticRegression(penalty = 'elasticnet', solver = 'saga', l1_ratio = 0.5, max_iter=5000) # which solver to use?\n",
    "else:\n",
    "    raise \"Unsupported universe.model\""
   ]
  },
  {
   "cell_type": "code",
   "execution_count": 42,
   "id": "0cc8f744",
   "metadata": {
    "execution": {
     "iopub.execute_input": "2025-07-30T12:52:32.541480Z",
     "iopub.status.busy": "2025-07-30T12:52:32.541032Z",
     "iopub.status.idle": "2025-07-30T12:52:32.547397Z",
     "shell.execute_reply": "2025-07-30T12:52:32.546365Z"
    },
    "papermill": {
     "duration": 0.035243,
     "end_time": "2025-07-30T12:52:32.549299",
     "exception": false,
     "start_time": "2025-07-30T12:52:32.514056",
     "status": "completed"
    },
    "tags": []
   },
   "outputs": [],
   "source": [
    "import numpy as np\n",
    "from sklearn.pipeline import Pipeline\n",
    "from sklearn.preprocessing import StandardScaler\n",
    "\n",
    "model = Pipeline([\n",
    "    #(\"continuous_processor\", continuous_processor),\n",
    "    #(\"categorical_preprocessor\", categorical_preprocessor),\n",
    "    (\"scale\", StandardScaler() if universe[\"scale\"] == \"scale\" else None), \n",
    "    (\"model\", model),\n",
    "])"
   ]
  },
  {
   "cell_type": "code",
   "execution_count": 43,
   "id": "9442c04d",
   "metadata": {
    "execution": {
     "iopub.execute_input": "2025-07-30T12:52:32.603352Z",
     "iopub.status.busy": "2025-07-30T12:52:32.602736Z",
     "iopub.status.idle": "2025-07-30T12:52:52.082336Z",
     "shell.execute_reply": "2025-07-30T12:52:52.081227Z"
    },
    "papermill": {
     "duration": 19.507884,
     "end_time": "2025-07-30T12:52:52.084024",
     "exception": false,
     "start_time": "2025-07-30T12:52:32.576140",
     "status": "completed"
    },
    "tags": []
   },
   "outputs": [
    {
     "data": {
      "text/html": [
       "<style>#sk-container-id-1 {color: black;background-color: white;}#sk-container-id-1 pre{padding: 0;}#sk-container-id-1 div.sk-toggleable {background-color: white;}#sk-container-id-1 label.sk-toggleable__label {cursor: pointer;display: block;width: 100%;margin-bottom: 0;padding: 0.3em;box-sizing: border-box;text-align: center;}#sk-container-id-1 label.sk-toggleable__label-arrow:before {content: \"▸\";float: left;margin-right: 0.25em;color: #696969;}#sk-container-id-1 label.sk-toggleable__label-arrow:hover:before {color: black;}#sk-container-id-1 div.sk-estimator:hover label.sk-toggleable__label-arrow:before {color: black;}#sk-container-id-1 div.sk-toggleable__content {max-height: 0;max-width: 0;overflow: hidden;text-align: left;background-color: #f0f8ff;}#sk-container-id-1 div.sk-toggleable__content pre {margin: 0.2em;color: black;border-radius: 0.25em;background-color: #f0f8ff;}#sk-container-id-1 input.sk-toggleable__control:checked~div.sk-toggleable__content {max-height: 200px;max-width: 100%;overflow: auto;}#sk-container-id-1 input.sk-toggleable__control:checked~label.sk-toggleable__label-arrow:before {content: \"▾\";}#sk-container-id-1 div.sk-estimator input.sk-toggleable__control:checked~label.sk-toggleable__label {background-color: #d4ebff;}#sk-container-id-1 div.sk-label input.sk-toggleable__control:checked~label.sk-toggleable__label {background-color: #d4ebff;}#sk-container-id-1 input.sk-hidden--visually {border: 0;clip: rect(1px 1px 1px 1px);clip: rect(1px, 1px, 1px, 1px);height: 1px;margin: -1px;overflow: hidden;padding: 0;position: absolute;width: 1px;}#sk-container-id-1 div.sk-estimator {font-family: monospace;background-color: #f0f8ff;border: 1px dotted black;border-radius: 0.25em;box-sizing: border-box;margin-bottom: 0.5em;}#sk-container-id-1 div.sk-estimator:hover {background-color: #d4ebff;}#sk-container-id-1 div.sk-parallel-item::after {content: \"\";width: 100%;border-bottom: 1px solid gray;flex-grow: 1;}#sk-container-id-1 div.sk-label:hover label.sk-toggleable__label {background-color: #d4ebff;}#sk-container-id-1 div.sk-serial::before {content: \"\";position: absolute;border-left: 1px solid gray;box-sizing: border-box;top: 0;bottom: 0;left: 50%;z-index: 0;}#sk-container-id-1 div.sk-serial {display: flex;flex-direction: column;align-items: center;background-color: white;padding-right: 0.2em;padding-left: 0.2em;position: relative;}#sk-container-id-1 div.sk-item {position: relative;z-index: 1;}#sk-container-id-1 div.sk-parallel {display: flex;align-items: stretch;justify-content: center;background-color: white;position: relative;}#sk-container-id-1 div.sk-item::before, #sk-container-id-1 div.sk-parallel-item::before {content: \"\";position: absolute;border-left: 1px solid gray;box-sizing: border-box;top: 0;bottom: 0;left: 50%;z-index: -1;}#sk-container-id-1 div.sk-parallel-item {display: flex;flex-direction: column;z-index: 1;position: relative;background-color: white;}#sk-container-id-1 div.sk-parallel-item:first-child::after {align-self: flex-end;width: 50%;}#sk-container-id-1 div.sk-parallel-item:last-child::after {align-self: flex-start;width: 50%;}#sk-container-id-1 div.sk-parallel-item:only-child::after {width: 0;}#sk-container-id-1 div.sk-dashed-wrapped {border: 1px dashed gray;margin: 0 0.4em 0.5em 0.4em;box-sizing: border-box;padding-bottom: 0.4em;background-color: white;}#sk-container-id-1 div.sk-label label {font-family: monospace;font-weight: bold;display: inline-block;line-height: 1.2em;}#sk-container-id-1 div.sk-label-container {text-align: center;}#sk-container-id-1 div.sk-container {/* jupyter's `normalize.less` sets `[hidden] { display: none; }` but bootstrap.min.css set `[hidden] { display: none !important; }` so we also need the `!important` here to be able to override the default hidden behavior on the sphinx rendered scikit-learn.org. See: https://github.com/scikit-learn/scikit-learn/issues/21755 */display: inline-block !important;position: relative;}#sk-container-id-1 div.sk-text-repr-fallback {display: none;}</style><div id=\"sk-container-id-1\" class=\"sk-top-container\"><div class=\"sk-text-repr-fallback\"><pre>Pipeline(steps=[(&#x27;scale&#x27;, StandardScaler()),\n",
       "                (&#x27;model&#x27;,\n",
       "                 LogisticRegression(l1_ratio=0.5, max_iter=5000,\n",
       "                                    penalty=&#x27;elasticnet&#x27;, solver=&#x27;saga&#x27;))])</pre><b>In a Jupyter environment, please rerun this cell to show the HTML representation or trust the notebook. <br />On GitHub, the HTML representation is unable to render, please try loading this page with nbviewer.org.</b></div><div class=\"sk-container\" hidden><div class=\"sk-item sk-dashed-wrapped\"><div class=\"sk-label-container\"><div class=\"sk-label sk-toggleable\"><input class=\"sk-toggleable__control sk-hidden--visually\" id=\"sk-estimator-id-1\" type=\"checkbox\" ><label for=\"sk-estimator-id-1\" class=\"sk-toggleable__label sk-toggleable__label-arrow\">Pipeline</label><div class=\"sk-toggleable__content\"><pre>Pipeline(steps=[(&#x27;scale&#x27;, StandardScaler()),\n",
       "                (&#x27;model&#x27;,\n",
       "                 LogisticRegression(l1_ratio=0.5, max_iter=5000,\n",
       "                                    penalty=&#x27;elasticnet&#x27;, solver=&#x27;saga&#x27;))])</pre></div></div></div><div class=\"sk-serial\"><div class=\"sk-item\"><div class=\"sk-estimator sk-toggleable\"><input class=\"sk-toggleable__control sk-hidden--visually\" id=\"sk-estimator-id-2\" type=\"checkbox\" ><label for=\"sk-estimator-id-2\" class=\"sk-toggleable__label sk-toggleable__label-arrow\">StandardScaler</label><div class=\"sk-toggleable__content\"><pre>StandardScaler()</pre></div></div></div><div class=\"sk-item\"><div class=\"sk-estimator sk-toggleable\"><input class=\"sk-toggleable__control sk-hidden--visually\" id=\"sk-estimator-id-3\" type=\"checkbox\" ><label for=\"sk-estimator-id-3\" class=\"sk-toggleable__label sk-toggleable__label-arrow\">LogisticRegression</label><div class=\"sk-toggleable__content\"><pre>LogisticRegression(l1_ratio=0.5, max_iter=5000, penalty=&#x27;elasticnet&#x27;,\n",
       "                   solver=&#x27;saga&#x27;)</pre></div></div></div></div></div></div></div>"
      ],
      "text/plain": [
       "Pipeline(steps=[('scale', StandardScaler()),\n",
       "                ('model',\n",
       "                 LogisticRegression(l1_ratio=0.5, max_iter=5000,\n",
       "                                    penalty='elasticnet', solver='saga'))])"
      ]
     },
     "execution_count": 43,
     "metadata": {},
     "output_type": "execute_result"
    }
   ],
   "source": [
    "model.fit(X_train, y_train.values.ravel())"
   ]
  },
  {
   "cell_type": "code",
   "execution_count": 44,
   "id": "af59f8c0",
   "metadata": {
    "execution": {
     "iopub.execute_input": "2025-07-30T12:52:52.141863Z",
     "iopub.status.busy": "2025-07-30T12:52:52.141359Z",
     "iopub.status.idle": "2025-07-30T12:52:52.147241Z",
     "shell.execute_reply": "2025-07-30T12:52:52.146164Z"
    },
    "papermill": {
     "duration": 0.03561,
     "end_time": "2025-07-30T12:52:52.148991",
     "exception": false,
     "start_time": "2025-07-30T12:52:52.113381",
     "status": "completed"
    },
    "tags": []
   },
   "outputs": [],
   "source": [
    "from fairness_multiverse.universe import predict_w_threshold"
   ]
  },
  {
   "cell_type": "code",
   "execution_count": 45,
   "id": "a7cf2e16",
   "metadata": {
    "execution": {
     "iopub.execute_input": "2025-07-30T12:52:52.191813Z",
     "iopub.status.busy": "2025-07-30T12:52:52.191400Z",
     "iopub.status.idle": "2025-07-30T12:52:52.376726Z",
     "shell.execute_reply": "2025-07-30T12:52:52.375753Z"
    },
    "papermill": {
     "duration": 0.202489,
     "end_time": "2025-07-30T12:52:52.377963",
     "exception": false,
     "start_time": "2025-07-30T12:52:52.175474",
     "status": "completed"
    },
    "tags": []
   },
   "outputs": [
    {
     "data": {
      "text/plain": [
       "0.864730799242002"
      ]
     },
     "execution_count": 45,
     "metadata": {},
     "output_type": "execute_result"
    }
   ],
   "source": [
    "probs_test = model.predict_proba(X_test)\n",
    "\n",
    "'''\n",
    "Below code returns a boolean array (or binary 0/1 array depending on how it’s used) where each element \n",
    "is True if the probability of class 1 is greater than or equal to the threshold, and False otherwise.\n",
    "'''\n",
    "y_pred_default = predict_w_threshold(probs_test, 0.5)\n",
    "\n",
    "from sklearn.metrics import accuracy_score\n",
    "\n",
    "# Naive prediction\n",
    "accuracy_score(y_true = y_true, y_pred = y_pred_default)"
   ]
  },
  {
   "cell_type": "code",
   "execution_count": 46,
   "id": "081964c3",
   "metadata": {
    "execution": {
     "iopub.execute_input": "2025-07-30T12:52:52.405690Z",
     "iopub.status.busy": "2025-07-30T12:52:52.405341Z",
     "iopub.status.idle": "2025-07-30T12:52:52.595654Z",
     "shell.execute_reply": "2025-07-30T12:52:52.594706Z"
    },
    "papermill": {
     "duration": 0.20592,
     "end_time": "2025-07-30T12:52:52.597404",
     "exception": false,
     "start_time": "2025-07-30T12:52:52.391484",
     "status": "completed"
    },
    "tags": []
   },
   "outputs": [
    {
     "data": {
      "text/plain": [
       "array([0, 0, 0, ..., 0, 0, 0])"
      ]
     },
     "execution_count": 46,
     "metadata": {},
     "output_type": "execute_result"
    }
   ],
   "source": [
    "model.predict(X_test)"
   ]
  },
  {
   "cell_type": "markdown",
   "id": "56c9705b",
   "metadata": {
    "papermill": {
     "duration": 0.024658,
     "end_time": "2025-07-30T12:52:52.647879",
     "exception": false,
     "start_time": "2025-07-30T12:52:52.623221",
     "status": "completed"
    },
    "tags": []
   },
   "source": [
    "# Conformal Prediction"
   ]
  },
  {
   "cell_type": "code",
   "execution_count": 47,
   "id": "160ec6ff",
   "metadata": {
    "execution": {
     "iopub.execute_input": "2025-07-30T12:52:52.699059Z",
     "iopub.status.busy": "2025-07-30T12:52:52.698528Z",
     "iopub.status.idle": "2025-07-30T12:52:52.704024Z",
     "shell.execute_reply": "2025-07-30T12:52:52.703064Z"
    },
    "papermill": {
     "duration": 0.033461,
     "end_time": "2025-07-30T12:52:52.705991",
     "exception": false,
     "start_time": "2025-07-30T12:52:52.672530",
     "status": "completed"
    },
    "tags": []
   },
   "outputs": [],
   "source": [
    "# Miscoverage level for conformal prediction (10% allowed error rate => 90% target coverage)\n",
    "alpha = 0.1"
   ]
  },
  {
   "cell_type": "code",
   "execution_count": 48,
   "id": "eadf4555-3dd3-440e-8e35-f82a4ad9f855",
   "metadata": {
    "execution": {
     "iopub.execute_input": "2025-07-30T12:52:52.759040Z",
     "iopub.status.busy": "2025-07-30T12:52:52.758547Z",
     "iopub.status.idle": "2025-07-30T12:52:52.937462Z",
     "shell.execute_reply": "2025-07-30T12:52:52.936597Z"
    },
    "papermill": {
     "duration": 0.207183,
     "end_time": "2025-07-30T12:52:52.938963",
     "exception": false,
     "start_time": "2025-07-30T12:52:52.731780",
     "status": "completed"
    },
    "tags": []
   },
   "outputs": [],
   "source": [
    "probs_calib = model.predict_proba(X_calib)"
   ]
  },
  {
   "cell_type": "code",
   "execution_count": 49,
   "id": "2ed93547-6d5d-4983-9b36-1ecb300da49a",
   "metadata": {
    "execution": {
     "iopub.execute_input": "2025-07-30T12:52:52.968521Z",
     "iopub.status.busy": "2025-07-30T12:52:52.968170Z",
     "iopub.status.idle": "2025-07-30T12:52:52.973047Z",
     "shell.execute_reply": "2025-07-30T12:52:52.972090Z"
    },
    "papermill": {
     "duration": 0.020954,
     "end_time": "2025-07-30T12:52:52.974388",
     "exception": false,
     "start_time": "2025-07-30T12:52:52.953434",
     "status": "completed"
    },
    "tags": []
   },
   "outputs": [],
   "source": [
    "y_calib = y_calib.values.ravel().astype(int)"
   ]
  },
  {
   "cell_type": "code",
   "execution_count": 50,
   "id": "65d1320d-f588-4b38-9072-62af1ae97f7d",
   "metadata": {
    "execution": {
     "iopub.execute_input": "2025-07-30T12:52:53.021498Z",
     "iopub.status.busy": "2025-07-30T12:52:53.020888Z",
     "iopub.status.idle": "2025-07-30T12:52:53.030104Z",
     "shell.execute_reply": "2025-07-30T12:52:53.029042Z"
    },
    "papermill": {
     "duration": 0.039916,
     "end_time": "2025-07-30T12:52:53.031742",
     "exception": false,
     "start_time": "2025-07-30T12:52:52.991826",
     "status": "completed"
    },
    "tags": []
   },
   "outputs": [],
   "source": [
    "from fairness_multiverse.conformal import compute_nc_scores\n",
    "\n",
    "# Compute nonconformity scores on calibration set (1 - probability of true class)\n",
    "nc_scores = compute_nc_scores(probs_calib, y_calib)"
   ]
  },
  {
   "cell_type": "code",
   "execution_count": 51,
   "id": "df3b8ca3-53b7-43d5-9667-7c85da7aeda2",
   "metadata": {
    "execution": {
     "iopub.execute_input": "2025-07-30T12:52:53.087961Z",
     "iopub.status.busy": "2025-07-30T12:52:53.087439Z",
     "iopub.status.idle": "2025-07-30T12:52:53.094114Z",
     "shell.execute_reply": "2025-07-30T12:52:53.093065Z"
    },
    "papermill": {
     "duration": 0.036434,
     "end_time": "2025-07-30T12:52:53.095869",
     "exception": false,
     "start_time": "2025-07-30T12:52:53.059435",
     "status": "completed"
    },
    "tags": []
   },
   "outputs": [],
   "source": [
    "from fairness_multiverse.conformal import find_threshold\n",
    "\n",
    "# Find conformal threshold q_hat for the given alpha (split conformal method)\n",
    "q_hat = find_threshold(nc_scores, alpha)"
   ]
  },
  {
   "cell_type": "code",
   "execution_count": 52,
   "id": "4d29e6c1-0ef6-4aa4-b8fe-4fe79b0d033a",
   "metadata": {
    "execution": {
     "iopub.execute_input": "2025-07-30T12:52:53.135820Z",
     "iopub.status.busy": "2025-07-30T12:52:53.135486Z",
     "iopub.status.idle": "2025-07-30T12:52:53.142056Z",
     "shell.execute_reply": "2025-07-30T12:52:53.141221Z"
    },
    "papermill": {
     "duration": 0.022491,
     "end_time": "2025-07-30T12:52:53.143327",
     "exception": false,
     "start_time": "2025-07-30T12:52:53.120836",
     "status": "completed"
    },
    "tags": []
   },
   "outputs": [
    {
     "data": {
      "text/plain": [
       "0.6803347271970399"
      ]
     },
     "execution_count": 52,
     "metadata": {},
     "output_type": "execute_result"
    }
   ],
   "source": [
    "q_hat"
   ]
  },
  {
   "cell_type": "code",
   "execution_count": 53,
   "id": "92460794-cdac-4be2-ba28-f28c0515a6fb",
   "metadata": {
    "execution": {
     "iopub.execute_input": "2025-07-30T12:52:53.180080Z",
     "iopub.status.busy": "2025-07-30T12:52:53.179514Z",
     "iopub.status.idle": "2025-07-30T12:52:54.105815Z",
     "shell.execute_reply": "2025-07-30T12:52:54.104749Z"
    },
    "papermill": {
     "duration": 0.950625,
     "end_time": "2025-07-30T12:52:54.107764",
     "exception": false,
     "start_time": "2025-07-30T12:52:53.157139",
     "status": "completed"
    },
    "tags": []
   },
   "outputs": [],
   "source": [
    "from fairness_multiverse.conformal import predict_conformal_sets\n",
    "\n",
    "# Generate prediction sets for each test example\n",
    "pred_sets = predict_conformal_sets(model, X_test, q_hat)"
   ]
  },
  {
   "cell_type": "code",
   "execution_count": 54,
   "id": "d90c9a65-e6db-4f5d-80cd-e68fb7e46829",
   "metadata": {
    "execution": {
     "iopub.execute_input": "2025-07-30T12:52:54.162282Z",
     "iopub.status.busy": "2025-07-30T12:52:54.161380Z",
     "iopub.status.idle": "2025-07-30T12:52:54.167307Z",
     "shell.execute_reply": "2025-07-30T12:52:54.166349Z"
    },
    "papermill": {
     "duration": 0.03446,
     "end_time": "2025-07-30T12:52:54.168771",
     "exception": false,
     "start_time": "2025-07-30T12:52:54.134311",
     "status": "completed"
    },
    "tags": []
   },
   "outputs": [],
   "source": [
    "y_true = y_true.squeeze()"
   ]
  },
  {
   "cell_type": "code",
   "execution_count": 55,
   "id": "3a58a54a-1e68-46b9-927a-df01f18aebc8",
   "metadata": {
    "execution": {
     "iopub.execute_input": "2025-07-30T12:52:54.221490Z",
     "iopub.status.busy": "2025-07-30T12:52:54.220892Z",
     "iopub.status.idle": "2025-07-30T12:52:55.156974Z",
     "shell.execute_reply": "2025-07-30T12:52:55.156068Z"
    },
    "papermill": {
     "duration": 0.964387,
     "end_time": "2025-07-30T12:52:55.158808",
     "exception": false,
     "start_time": "2025-07-30T12:52:54.194421",
     "status": "completed"
    },
    "tags": []
   },
   "outputs": [],
   "source": [
    "from fairness_multiverse.conformal import evaluate_sets\n",
    "\n",
    "# Evaluate coverage and average set size on test data\n",
    "metrics = evaluate_sets(pred_sets, y_true)"
   ]
  },
  {
   "cell_type": "markdown",
   "id": "2b569c12-9aaa-4c88-98c9-bbcd0cf3ebb8",
   "metadata": {
    "papermill": {
     "duration": 0.02627,
     "end_time": "2025-07-30T12:52:55.212002",
     "exception": false,
     "start_time": "2025-07-30T12:52:55.185732",
     "status": "completed"
    },
    "tags": []
   },
   "source": [
    "# CP Metrics"
   ]
  },
  {
   "cell_type": "code",
   "execution_count": 56,
   "id": "5ce0a5cb-201f-45a0-ade5-94c7f0bd6095",
   "metadata": {
    "execution": {
     "iopub.execute_input": "2025-07-30T12:52:55.266091Z",
     "iopub.status.busy": "2025-07-30T12:52:55.265569Z",
     "iopub.status.idle": "2025-07-30T12:52:55.273563Z",
     "shell.execute_reply": "2025-07-30T12:52:55.272613Z"
    },
    "papermill": {
     "duration": 0.038283,
     "end_time": "2025-07-30T12:52:55.275319",
     "exception": false,
     "start_time": "2025-07-30T12:52:55.237036",
     "status": "completed"
    },
    "tags": []
   },
   "outputs": [
    {
     "data": {
      "text/plain": [
       "{'coverage': 0.9124289376881061, 'avg_size': 1.1261620778062646}"
      ]
     },
     "execution_count": 56,
     "metadata": {},
     "output_type": "execute_result"
    }
   ],
   "source": [
    "metrics"
   ]
  },
  {
   "cell_type": "code",
   "execution_count": 57,
   "id": "9b9a838d-31c9-430b-ae14-12baee460d17",
   "metadata": {
    "execution": {
     "iopub.execute_input": "2025-07-30T12:52:55.329052Z",
     "iopub.status.busy": "2025-07-30T12:52:55.328112Z",
     "iopub.status.idle": "2025-07-30T12:52:55.334542Z",
     "shell.execute_reply": "2025-07-30T12:52:55.333616Z"
    },
    "papermill": {
     "duration": 0.034511,
     "end_time": "2025-07-30T12:52:55.336128",
     "exception": false,
     "start_time": "2025-07-30T12:52:55.301617",
     "status": "completed"
    },
    "tags": []
   },
   "outputs": [],
   "source": [
    "example_universe = universe.copy()\n",
    "universe_training_size = example_universe.get(\"training_size\")\n",
    "universe_scale = example_universe.get(\"scale\")\n",
    "universe_model = example_universe.get(\"model\")\n",
    "universe_exclude_features = example_universe.get(\"exclude_features\")\n",
    "universe_exclude_subgroups = example_universe.get(\"exclude_subgroups\")"
   ]
  },
  {
   "cell_type": "code",
   "execution_count": 58,
   "id": "f4b6a8ac-9dc0-4245-8a91-5b3b5999c4f9",
   "metadata": {
    "execution": {
     "iopub.execute_input": "2025-07-30T12:52:55.390420Z",
     "iopub.status.busy": "2025-07-30T12:52:55.389481Z",
     "iopub.status.idle": "2025-07-30T12:52:55.396254Z",
     "shell.execute_reply": "2025-07-30T12:52:55.395321Z"
    },
    "papermill": {
     "duration": 0.035822,
     "end_time": "2025-07-30T12:52:55.398025",
     "exception": false,
     "start_time": "2025-07-30T12:52:55.362203",
     "status": "completed"
    },
    "tags": []
   },
   "outputs": [],
   "source": [
    "cp_metrics_dict = {\n",
    "    \"universe_id\": [universe_id],\n",
    "    \"universe_training_size\": [universe_training_size],\n",
    "    \"universe_scale\": [universe_scale],\n",
    "    \"universe_model\": [universe_model],\n",
    "    \"universe_exclude_features\": [universe_exclude_features],\n",
    "    \"universe_exclude_subgroups\": [universe_exclude_subgroups],\n",
    "    \"q_hat\": [q_hat],\n",
    "    \"coverage\": [metrics[\"coverage\"]],\n",
    "    \"avg_size\": [metrics[\"avg_size\"]],\n",
    "}"
   ]
  },
  {
   "cell_type": "code",
   "execution_count": 59,
   "id": "908acbb1-0371-4915-85ca-3fa520d2efe2",
   "metadata": {
    "execution": {
     "iopub.execute_input": "2025-07-30T12:52:55.452363Z",
     "iopub.status.busy": "2025-07-30T12:52:55.451772Z",
     "iopub.status.idle": "2025-07-30T12:52:55.459581Z",
     "shell.execute_reply": "2025-07-30T12:52:55.458554Z"
    },
    "papermill": {
     "duration": 0.03574,
     "end_time": "2025-07-30T12:52:55.461255",
     "exception": false,
     "start_time": "2025-07-30T12:52:55.425515",
     "status": "completed"
    },
    "tags": []
   },
   "outputs": [
    {
     "data": {
      "text/plain": [
       "{'universe_id': ['fef25a96ca926ece091170c5f2cbd5c8'],\n",
       " 'universe_training_size': ['25k'],\n",
       " 'universe_scale': ['scale'],\n",
       " 'universe_model': ['elasticnet'],\n",
       " 'universe_exclude_features': ['age'],\n",
       " 'universe_exclude_subgroups': ['drop-non-german'],\n",
       " 'q_hat': [0.6803347271970399],\n",
       " 'coverage': [0.9124289376881061],\n",
       " 'avg_size': [1.1261620778062646]}"
      ]
     },
     "execution_count": 59,
     "metadata": {},
     "output_type": "execute_result"
    }
   ],
   "source": [
    "cp_metrics_dict"
   ]
  },
  {
   "cell_type": "code",
   "execution_count": 60,
   "id": "33007efc-14e9-4ec6-97ac-56a455c82265",
   "metadata": {
    "execution": {
     "iopub.execute_input": "2025-07-30T12:52:55.516554Z",
     "iopub.status.busy": "2025-07-30T12:52:55.515607Z",
     "iopub.status.idle": "2025-07-30T12:52:55.522479Z",
     "shell.execute_reply": "2025-07-30T12:52:55.521481Z"
    },
    "papermill": {
     "duration": 0.035732,
     "end_time": "2025-07-30T12:52:55.524164",
     "exception": false,
     "start_time": "2025-07-30T12:52:55.488432",
     "status": "completed"
    },
    "tags": []
   },
   "outputs": [],
   "source": [
    "cp_metrics_df = pd.DataFrame(cp_metrics_dict)"
   ]
  },
  {
   "cell_type": "code",
   "execution_count": 61,
   "id": "db12611b-57b2-4910-b9d0-355adfd6e7bf",
   "metadata": {
    "execution": {
     "iopub.execute_input": "2025-07-30T12:52:55.579104Z",
     "iopub.status.busy": "2025-07-30T12:52:55.578431Z",
     "iopub.status.idle": "2025-07-30T12:52:55.597254Z",
     "shell.execute_reply": "2025-07-30T12:52:55.596090Z"
    },
    "papermill": {
     "duration": 0.04748,
     "end_time": "2025-07-30T12:52:55.598851",
     "exception": false,
     "start_time": "2025-07-30T12:52:55.551371",
     "status": "completed"
    },
    "tags": []
   },
   "outputs": [
    {
     "data": {
      "text/html": [
       "<div>\n",
       "<style scoped>\n",
       "    .dataframe tbody tr th:only-of-type {\n",
       "        vertical-align: middle;\n",
       "    }\n",
       "\n",
       "    .dataframe tbody tr th {\n",
       "        vertical-align: top;\n",
       "    }\n",
       "\n",
       "    .dataframe thead th {\n",
       "        text-align: right;\n",
       "    }\n",
       "</style>\n",
       "<table border=\"1\" class=\"dataframe\">\n",
       "  <thead>\n",
       "    <tr style=\"text-align: right;\">\n",
       "      <th></th>\n",
       "      <th>universe_id</th>\n",
       "      <th>universe_training_size</th>\n",
       "      <th>universe_scale</th>\n",
       "      <th>universe_model</th>\n",
       "      <th>universe_exclude_features</th>\n",
       "      <th>universe_exclude_subgroups</th>\n",
       "      <th>q_hat</th>\n",
       "      <th>coverage</th>\n",
       "      <th>avg_size</th>\n",
       "    </tr>\n",
       "  </thead>\n",
       "  <tbody>\n",
       "    <tr>\n",
       "      <th>0</th>\n",
       "      <td>fef25a96ca926ece091170c5f2cbd5c8</td>\n",
       "      <td>25k</td>\n",
       "      <td>scale</td>\n",
       "      <td>elasticnet</td>\n",
       "      <td>age</td>\n",
       "      <td>drop-non-german</td>\n",
       "      <td>0.680335</td>\n",
       "      <td>0.912429</td>\n",
       "      <td>1.126162</td>\n",
       "    </tr>\n",
       "  </tbody>\n",
       "</table>\n",
       "</div>"
      ],
      "text/plain": [
       "                        universe_id universe_training_size universe_scale  \\\n",
       "0  fef25a96ca926ece091170c5f2cbd5c8                    25k          scale   \n",
       "\n",
       "  universe_model universe_exclude_features universe_exclude_subgroups  \\\n",
       "0     elasticnet                       age            drop-non-german   \n",
       "\n",
       "      q_hat  coverage  avg_size  \n",
       "0  0.680335  0.912429  1.126162  "
      ]
     },
     "execution_count": 61,
     "metadata": {},
     "output_type": "execute_result"
    }
   ],
   "source": [
    "cp_metrics_df"
   ]
  },
  {
   "cell_type": "code",
   "execution_count": 62,
   "id": "b7fbde55-a0a1-47e4-9af6-fe4a17fa8c61",
   "metadata": {
    "execution": {
     "iopub.execute_input": "2025-07-30T12:52:55.654015Z",
     "iopub.status.busy": "2025-07-30T12:52:55.653307Z",
     "iopub.status.idle": "2025-07-30T12:52:55.658752Z",
     "shell.execute_reply": "2025-07-30T12:52:55.657708Z"
    },
    "papermill": {
     "duration": 0.034248,
     "end_time": "2025-07-30T12:52:55.660608",
     "exception": false,
     "start_time": "2025-07-30T12:52:55.626360",
     "status": "completed"
    },
    "tags": []
   },
   "outputs": [],
   "source": [
    "# Conditional Coverage & looking at subgroups"
   ]
  },
  {
   "cell_type": "code",
   "execution_count": 63,
   "id": "027ae886-68dd-4141-96c7-805a5450e1ef",
   "metadata": {
    "execution": {
     "iopub.execute_input": "2025-07-30T12:52:55.717021Z",
     "iopub.status.busy": "2025-07-30T12:52:55.716279Z",
     "iopub.status.idle": "2025-07-30T12:52:56.003877Z",
     "shell.execute_reply": "2025-07-30T12:52:56.002901Z"
    },
    "papermill": {
     "duration": 0.31778,
     "end_time": "2025-07-30T12:52:56.005763",
     "exception": false,
     "start_time": "2025-07-30T12:52:55.687983",
     "status": "completed"
    },
    "tags": []
   },
   "outputs": [],
   "source": [
    "from fairness_multiverse.conformal import build_cp_groups\n",
    "\n",
    "cp_groups_df = build_cp_groups(pred_sets, y_true, X_test.index, org_test)\n",
    "#needs universe_id and setting"
   ]
  },
  {
   "cell_type": "code",
   "execution_count": 64,
   "id": "01d5802c-663a-4d1f-9d69-e036faaffbf7",
   "metadata": {
    "execution": {
     "iopub.execute_input": "2025-07-30T12:52:56.063695Z",
     "iopub.status.busy": "2025-07-30T12:52:56.063185Z",
     "iopub.status.idle": "2025-07-30T12:52:56.068551Z",
     "shell.execute_reply": "2025-07-30T12:52:56.067658Z"
    },
    "papermill": {
     "duration": 0.036171,
     "end_time": "2025-07-30T12:52:56.070793",
     "exception": false,
     "start_time": "2025-07-30T12:52:56.034622",
     "status": "completed"
    },
    "tags": []
   },
   "outputs": [],
   "source": [
    "#delete\n",
    "#cp_groups_df"
   ]
  },
  {
   "cell_type": "code",
   "execution_count": 65,
   "id": "fa424af1-d1eb-443d-b717-2d279ada8408",
   "metadata": {
    "execution": {
     "iopub.execute_input": "2025-07-30T12:52:56.127557Z",
     "iopub.status.busy": "2025-07-30T12:52:56.126646Z",
     "iopub.status.idle": "2025-07-30T12:52:56.131729Z",
     "shell.execute_reply": "2025-07-30T12:52:56.130832Z"
    },
    "papermill": {
     "duration": 0.03541,
     "end_time": "2025-07-30T12:52:56.133487",
     "exception": false,
     "start_time": "2025-07-30T12:52:56.098077",
     "status": "completed"
    },
    "tags": []
   },
   "outputs": [],
   "source": [
    "#delete\n",
    "#percentage = (cp_groups_df['nongerman_female'] == 1).mean() * 100\n",
    "#print(percentage)\n"
   ]
  },
  {
   "cell_type": "code",
   "execution_count": 66,
   "id": "6cbdab96-b2b2-45af-ad54-d0516db2e28d",
   "metadata": {
    "execution": {
     "iopub.execute_input": "2025-07-30T12:52:56.189200Z",
     "iopub.status.busy": "2025-07-30T12:52:56.188537Z",
     "iopub.status.idle": "2025-07-30T12:52:57.876123Z",
     "shell.execute_reply": "2025-07-30T12:52:57.875122Z"
    },
    "papermill": {
     "duration": 1.717993,
     "end_time": "2025-07-30T12:52:57.878229",
     "exception": false,
     "start_time": "2025-07-30T12:52:56.160236",
     "status": "completed"
    },
    "tags": []
   },
   "outputs": [],
   "source": [
    "# Define covered = 1 if true_label is in the predicted set\n",
    "cp_groups_df['covered'] = cp_groups_df.apply(\n",
    "    lambda r: int(r['true_label'] in r['pred_set']),\n",
    "    axis=1\n",
    ")"
   ]
  },
  {
   "cell_type": "code",
   "execution_count": 67,
   "id": "338ff529-1a6b-4b87-a931-8e4788d52aad",
   "metadata": {
    "execution": {
     "iopub.execute_input": "2025-07-30T12:52:57.938047Z",
     "iopub.status.busy": "2025-07-30T12:52:57.937066Z",
     "iopub.status.idle": "2025-07-30T12:52:57.942721Z",
     "shell.execute_reply": "2025-07-30T12:52:57.941728Z"
    },
    "papermill": {
     "duration": 0.035151,
     "end_time": "2025-07-30T12:52:57.944566",
     "exception": false,
     "start_time": "2025-07-30T12:52:57.909415",
     "status": "completed"
    },
    "tags": []
   },
   "outputs": [],
   "source": [
    "#cp_groups_df"
   ]
  },
  {
   "cell_type": "code",
   "execution_count": 68,
   "id": "90032e27-66df-4540-9169-4e89cfbaa758",
   "metadata": {
    "execution": {
     "iopub.execute_input": "2025-07-30T12:52:57.999844Z",
     "iopub.status.busy": "2025-07-30T12:52:57.999129Z",
     "iopub.status.idle": "2025-07-30T12:52:58.010782Z",
     "shell.execute_reply": "2025-07-30T12:52:58.009861Z"
    },
    "papermill": {
     "duration": 0.040238,
     "end_time": "2025-07-30T12:52:58.012471",
     "exception": false,
     "start_time": "2025-07-30T12:52:57.972233",
     "status": "completed"
    },
    "tags": []
   },
   "outputs": [],
   "source": [
    "subgroups = ['frau1','nongerman','nongerman_male','nongerman_female']\n",
    "\n",
    "# Conditional coverage for subgroup==1\n",
    "cond_coverage = {\n",
    "    g: cp_groups_df.loc[cp_groups_df[g]==1, 'covered'].mean()\n",
    "    for g in subgroups\n",
    "}"
   ]
  },
  {
   "cell_type": "code",
   "execution_count": 69,
   "id": "1e348fb1-b9c3-45bc-ba23-f016827a7e0d",
   "metadata": {
    "execution": {
     "iopub.execute_input": "2025-07-30T12:52:58.067853Z",
     "iopub.status.busy": "2025-07-30T12:52:58.067144Z",
     "iopub.status.idle": "2025-07-30T12:52:58.074771Z",
     "shell.execute_reply": "2025-07-30T12:52:58.073765Z"
    },
    "papermill": {
     "duration": 0.037,
     "end_time": "2025-07-30T12:52:58.077145",
     "exception": false,
     "start_time": "2025-07-30T12:52:58.040145",
     "status": "completed"
    },
    "tags": []
   },
   "outputs": [
    {
     "data": {
      "text/plain": [
       "{'frau1': 0.9112548861032485,\n",
       " 'nongerman': 0.9082131027900971,\n",
       " 'nongerman_male': 0.924795100423309,\n",
       " 'nongerman_female': 0.8807749627421758}"
      ]
     },
     "execution_count": 69,
     "metadata": {},
     "output_type": "execute_result"
    }
   ],
   "source": [
    "cond_coverage"
   ]
  },
  {
   "cell_type": "code",
   "execution_count": 70,
   "id": "f5093324-c3dd-4d63-bc4c-8d945e5c8bbb",
   "metadata": {
    "execution": {
     "iopub.execute_input": "2025-07-30T12:52:58.133686Z",
     "iopub.status.busy": "2025-07-30T12:52:58.133187Z",
     "iopub.status.idle": "2025-07-30T12:52:58.140636Z",
     "shell.execute_reply": "2025-07-30T12:52:58.139746Z"
    },
    "papermill": {
     "duration": 0.037244,
     "end_time": "2025-07-30T12:52:58.142413",
     "exception": false,
     "start_time": "2025-07-30T12:52:58.105169",
     "status": "completed"
    },
    "tags": []
   },
   "outputs": [],
   "source": [
    "for subgroup, cov in cond_coverage.items():\n",
    "    cp_metrics_df[f\"cov_{subgroup}\"] = cov"
   ]
  },
  {
   "cell_type": "code",
   "execution_count": 71,
   "id": "6e872e10-dbe5-49e8-b554-5030c98ff75d",
   "metadata": {
    "execution": {
     "iopub.execute_input": "2025-07-30T12:52:58.200185Z",
     "iopub.status.busy": "2025-07-30T12:52:58.199531Z",
     "iopub.status.idle": "2025-07-30T12:52:58.218896Z",
     "shell.execute_reply": "2025-07-30T12:52:58.217810Z"
    },
    "papermill": {
     "duration": 0.049399,
     "end_time": "2025-07-30T12:52:58.220687",
     "exception": false,
     "start_time": "2025-07-30T12:52:58.171288",
     "status": "completed"
    },
    "tags": []
   },
   "outputs": [
    {
     "data": {
      "text/html": [
       "<div>\n",
       "<style scoped>\n",
       "    .dataframe tbody tr th:only-of-type {\n",
       "        vertical-align: middle;\n",
       "    }\n",
       "\n",
       "    .dataframe tbody tr th {\n",
       "        vertical-align: top;\n",
       "    }\n",
       "\n",
       "    .dataframe thead th {\n",
       "        text-align: right;\n",
       "    }\n",
       "</style>\n",
       "<table border=\"1\" class=\"dataframe\">\n",
       "  <thead>\n",
       "    <tr style=\"text-align: right;\">\n",
       "      <th></th>\n",
       "      <th>universe_id</th>\n",
       "      <th>universe_training_size</th>\n",
       "      <th>universe_scale</th>\n",
       "      <th>universe_model</th>\n",
       "      <th>universe_exclude_features</th>\n",
       "      <th>universe_exclude_subgroups</th>\n",
       "      <th>q_hat</th>\n",
       "      <th>coverage</th>\n",
       "      <th>avg_size</th>\n",
       "      <th>cov_frau1</th>\n",
       "      <th>cov_nongerman</th>\n",
       "      <th>cov_nongerman_male</th>\n",
       "      <th>cov_nongerman_female</th>\n",
       "    </tr>\n",
       "  </thead>\n",
       "  <tbody>\n",
       "    <tr>\n",
       "      <th>0</th>\n",
       "      <td>fef25a96ca926ece091170c5f2cbd5c8</td>\n",
       "      <td>25k</td>\n",
       "      <td>scale</td>\n",
       "      <td>elasticnet</td>\n",
       "      <td>age</td>\n",
       "      <td>drop-non-german</td>\n",
       "      <td>0.680335</td>\n",
       "      <td>0.912429</td>\n",
       "      <td>1.126162</td>\n",
       "      <td>0.911255</td>\n",
       "      <td>0.908213</td>\n",
       "      <td>0.924795</td>\n",
       "      <td>0.880775</td>\n",
       "    </tr>\n",
       "  </tbody>\n",
       "</table>\n",
       "</div>"
      ],
      "text/plain": [
       "                        universe_id universe_training_size universe_scale  \\\n",
       "0  fef25a96ca926ece091170c5f2cbd5c8                    25k          scale   \n",
       "\n",
       "  universe_model universe_exclude_features universe_exclude_subgroups  \\\n",
       "0     elasticnet                       age            drop-non-german   \n",
       "\n",
       "      q_hat  coverage  avg_size  cov_frau1  cov_nongerman  cov_nongerman_male  \\\n",
       "0  0.680335  0.912429  1.126162   0.911255       0.908213            0.924795   \n",
       "\n",
       "   cov_nongerman_female  \n",
       "0              0.880775  "
      ]
     },
     "execution_count": 71,
     "metadata": {},
     "output_type": "execute_result"
    }
   ],
   "source": [
    "cp_metrics_df"
   ]
  },
  {
   "cell_type": "markdown",
   "id": "33774451",
   "metadata": {
    "papermill": {
     "duration": 0.027384,
     "end_time": "2025-07-30T12:52:58.275902",
     "exception": false,
     "start_time": "2025-07-30T12:52:58.248518",
     "status": "completed"
    },
    "tags": []
   },
   "source": [
    "# (Fairness) Metrics"
   ]
  },
  {
   "cell_type": "code",
   "execution_count": 72,
   "id": "debc5d62",
   "metadata": {
    "execution": {
     "iopub.execute_input": "2025-07-30T12:52:58.332694Z",
     "iopub.status.busy": "2025-07-30T12:52:58.331982Z",
     "iopub.status.idle": "2025-07-30T12:52:58.354658Z",
     "shell.execute_reply": "2025-07-30T12:52:58.353689Z"
    },
    "papermill": {
     "duration": 0.052362,
     "end_time": "2025-07-30T12:52:58.356502",
     "exception": false,
     "start_time": "2025-07-30T12:52:58.304140",
     "status": "completed"
    },
    "tags": []
   },
   "outputs": [],
   "source": [
    "# do I need to include maxdeutsch1.missing?\n",
    "\n",
    "import numpy as np\n",
    "\n",
    "colname_to_bin = \"maxdeutsch1\"\n",
    "majority_value = org_train[colname_to_bin].mode()[0]\n",
    "\n",
    "org_test[\"majmin\"] = np.where(org_test[colname_to_bin] == majority_value, \"majority\", \"minority\")"
   ]
  },
  {
   "cell_type": "code",
   "execution_count": 73,
   "id": "06a50de5",
   "metadata": {
    "execution": {
     "iopub.execute_input": "2025-07-30T12:52:58.413613Z",
     "iopub.status.busy": "2025-07-30T12:52:58.412640Z",
     "iopub.status.idle": "2025-07-30T12:53:01.241973Z",
     "shell.execute_reply": "2025-07-30T12:53:01.240819Z"
    },
    "papermill": {
     "duration": 2.860347,
     "end_time": "2025-07-30T12:53:01.244545",
     "exception": false,
     "start_time": "2025-07-30T12:52:58.384198",
     "status": "completed"
    },
    "tags": []
   },
   "outputs": [],
   "source": [
    "example_universe = universe.copy()\n",
    "example_universe[\"cutoff\"] = example_universe[\"cutoff\"][0]\n",
    "example_universe[\"eval_fairness_grouping\"] = example_universe[\"eval_fairness_grouping\"][0]\n",
    "fairness_dict, metric_frame = universe_analysis.compute_metrics(\n",
    "    example_universe,\n",
    "    y_pred_prob=probs_test,\n",
    "    y_test=y_true,\n",
    "    org_test=org_test,\n",
    ")"
   ]
  },
  {
   "cell_type": "markdown",
   "id": "f95d4e02",
   "metadata": {
    "papermill": {
     "duration": 0.041718,
     "end_time": "2025-07-30T12:53:01.329093",
     "exception": false,
     "start_time": "2025-07-30T12:53:01.287375",
     "status": "completed"
    },
    "tags": []
   },
   "source": [
    "# Overall"
   ]
  },
  {
   "cell_type": "markdown",
   "id": "bdee4871",
   "metadata": {
    "papermill": {
     "duration": 0.040435,
     "end_time": "2025-07-30T12:53:01.410563",
     "exception": false,
     "start_time": "2025-07-30T12:53:01.370128",
     "status": "completed"
    },
    "tags": []
   },
   "source": [
    "Fairness\n",
    "Main fairness target: Equalized Odds. Seems to be a better fit than equal opportunity, since we're not only interested in Y = 1. Seems to be a better fit than demographic parity, since we also care about accuracy, not just equal distribution of preds.\n",
    "\n",
    "Pick column for computation of fairness metrics\n",
    "\n",
    "Performance\n",
    "Overall performance measures, most interesting in relation to the measures split by group below"
   ]
  },
  {
   "cell_type": "code",
   "execution_count": 74,
   "id": "c4e067c6",
   "metadata": {
    "execution": {
     "iopub.execute_input": "2025-07-30T12:53:01.497847Z",
     "iopub.status.busy": "2025-07-30T12:53:01.497083Z",
     "iopub.status.idle": "2025-07-30T12:53:01.508510Z",
     "shell.execute_reply": "2025-07-30T12:53:01.507149Z"
    },
    "papermill": {
     "duration": 0.056189,
     "end_time": "2025-07-30T12:53:01.510298",
     "exception": false,
     "start_time": "2025-07-30T12:53:01.454109",
     "status": "completed"
    },
    "tags": []
   },
   "outputs": [
    {
     "data": {
      "text/plain": [
       "accuracy                   0.225226\n",
       "balanced accuracy          0.550530\n",
       "f1                         0.246534\n",
       "precision                  0.140837\n",
       "false positive rate        0.887036\n",
       "false negative rate        0.011905\n",
       "selection rate             0.900000\n",
       "count                  89710.000000\n",
       "dtype: float64"
      ]
     },
     "execution_count": 74,
     "metadata": {},
     "output_type": "execute_result"
    }
   ],
   "source": [
    "metric_frame.overall"
   ]
  },
  {
   "cell_type": "markdown",
   "id": "e968fe9d",
   "metadata": {
    "papermill": {
     "duration": 0.028709,
     "end_time": "2025-07-30T12:53:01.568733",
     "exception": false,
     "start_time": "2025-07-30T12:53:01.540024",
     "status": "completed"
    },
    "tags": []
   },
   "source": [
    "By Group"
   ]
  },
  {
   "cell_type": "code",
   "execution_count": 75,
   "id": "ec325bce",
   "metadata": {
    "execution": {
     "iopub.execute_input": "2025-07-30T12:53:01.629109Z",
     "iopub.status.busy": "2025-07-30T12:53:01.628251Z",
     "iopub.status.idle": "2025-07-30T12:53:01.647077Z",
     "shell.execute_reply": "2025-07-30T12:53:01.645795Z"
    },
    "papermill": {
     "duration": 0.06091,
     "end_time": "2025-07-30T12:53:01.658654",
     "exception": false,
     "start_time": "2025-07-30T12:53:01.597744",
     "status": "completed"
    },
    "tags": []
   },
   "outputs": [
    {
     "data": {
      "text/html": [
       "<div>\n",
       "<style scoped>\n",
       "    .dataframe tbody tr th:only-of-type {\n",
       "        vertical-align: middle;\n",
       "    }\n",
       "\n",
       "    .dataframe tbody tr th {\n",
       "        vertical-align: top;\n",
       "    }\n",
       "\n",
       "    .dataframe thead th {\n",
       "        text-align: right;\n",
       "    }\n",
       "</style>\n",
       "<table border=\"1\" class=\"dataframe\">\n",
       "  <thead>\n",
       "    <tr style=\"text-align: right;\">\n",
       "      <th></th>\n",
       "      <th>accuracy</th>\n",
       "      <th>balanced accuracy</th>\n",
       "      <th>f1</th>\n",
       "      <th>precision</th>\n",
       "      <th>false positive rate</th>\n",
       "      <th>false negative rate</th>\n",
       "      <th>selection rate</th>\n",
       "      <th>count</th>\n",
       "    </tr>\n",
       "    <tr>\n",
       "      <th>majmin</th>\n",
       "      <th></th>\n",
       "      <th></th>\n",
       "      <th></th>\n",
       "      <th></th>\n",
       "      <th></th>\n",
       "      <th></th>\n",
       "      <th></th>\n",
       "      <th></th>\n",
       "    </tr>\n",
       "  </thead>\n",
       "  <tbody>\n",
       "    <tr>\n",
       "      <th>majority</th>\n",
       "      <td>0.245352</td>\n",
       "      <td>0.559800</td>\n",
       "      <td>0.256901</td>\n",
       "      <td>0.147664</td>\n",
       "      <td>0.867600</td>\n",
       "      <td>0.012801</td>\n",
       "      <td>0.883403</td>\n",
       "      <td>69170.0</td>\n",
       "    </tr>\n",
       "    <tr>\n",
       "      <th>minority</th>\n",
       "      <td>0.157449</td>\n",
       "      <td>0.520155</td>\n",
       "      <td>0.213435</td>\n",
       "      <td>0.119588</td>\n",
       "      <td>0.951244</td>\n",
       "      <td>0.008446</td>\n",
       "      <td>0.955891</td>\n",
       "      <td>20540.0</td>\n",
       "    </tr>\n",
       "  </tbody>\n",
       "</table>\n",
       "</div>"
      ],
      "text/plain": [
       "          accuracy  balanced accuracy        f1  precision  \\\n",
       "majmin                                                       \n",
       "majority  0.245352           0.559800  0.256901   0.147664   \n",
       "minority  0.157449           0.520155  0.213435   0.119588   \n",
       "\n",
       "          false positive rate  false negative rate  selection rate    count  \n",
       "majmin                                                                       \n",
       "majority             0.867600             0.012801        0.883403  69170.0  \n",
       "minority             0.951244             0.008446        0.955891  20540.0  "
      ]
     },
     "execution_count": 75,
     "metadata": {},
     "output_type": "execute_result"
    }
   ],
   "source": [
    "metric_frame.by_group"
   ]
  },
  {
   "cell_type": "code",
   "execution_count": 76,
   "id": "a9ddbe63",
   "metadata": {
    "execution": {
     "iopub.execute_input": "2025-07-30T12:53:01.718066Z",
     "iopub.status.busy": "2025-07-30T12:53:01.717145Z",
     "iopub.status.idle": "2025-07-30T12:53:04.228909Z",
     "shell.execute_reply": "2025-07-30T12:53:04.227744Z"
    },
    "papermill": {
     "duration": 2.543524,
     "end_time": "2025-07-30T12:53:04.231150",
     "exception": false,
     "start_time": "2025-07-30T12:53:01.687626",
     "status": "completed"
    },
    "tags": []
   },
   "outputs": [
    {
     "data": {
      "text/plain": [
       "array([[<Axes: title={'center': 'accuracy'}, xlabel='majmin'>,\n",
       "        <Axes: title={'center': 'balanced accuracy'}, xlabel='majmin'>,\n",
       "        <Axes: title={'center': 'f1'}, xlabel='majmin'>],\n",
       "       [<Axes: title={'center': 'precision'}, xlabel='majmin'>,\n",
       "        <Axes: title={'center': 'false positive rate'}, xlabel='majmin'>,\n",
       "        <Axes: title={'center': 'false negative rate'}, xlabel='majmin'>],\n",
       "       [<Axes: title={'center': 'selection rate'}, xlabel='majmin'>,\n",
       "        <Axes: title={'center': 'count'}, xlabel='majmin'>,\n",
       "        <Axes: xlabel='majmin'>]], dtype=object)"
      ]
     },
     "execution_count": 76,
     "metadata": {},
     "output_type": "execute_result"
    },
    {
     "data": {
      "image/png": "[encoded data removed]",
      "text/plain": [
       "<Figure size 1200x800 with 9 Axes>"
      ]
     },
     "metadata": {},
     "output_type": "display_data"
    }
   ],
   "source": [
    "# In a graphic\n",
    "metric_frame.by_group.plot.bar(\n",
    "    subplots=True,\n",
    "    layout=[3, 3],\n",
    "    legend=False,\n",
    "    figsize=[12, 8],\n",
    "    title=\"Show all metrics\",\n",
    ")"
   ]
  },
  {
   "cell_type": "markdown",
   "id": "f57a0bac",
   "metadata": {
    "papermill": {
     "duration": 0.044678,
     "end_time": "2025-07-30T12:53:04.321519",
     "exception": false,
     "start_time": "2025-07-30T12:53:04.276841",
     "status": "completed"
    },
    "tags": []
   },
   "source": [
    "# Final Output"
   ]
  },
  {
   "cell_type": "code",
   "execution_count": 77,
   "id": "96d280a3",
   "metadata": {
    "execution": {
     "iopub.execute_input": "2025-07-30T12:53:04.410474Z",
     "iopub.status.busy": "2025-07-30T12:53:04.409771Z",
     "iopub.status.idle": "2025-07-30T12:53:04.418847Z",
     "shell.execute_reply": "2025-07-30T12:53:04.417467Z"
    },
    "papermill": {
     "duration": 0.055032,
     "end_time": "2025-07-30T12:53:04.420524",
     "exception": false,
     "start_time": "2025-07-30T12:53:04.365492",
     "status": "completed"
    },
    "tags": []
   },
   "outputs": [
    {
     "data": {
      "text/plain": [
       "4"
      ]
     },
     "execution_count": 77,
     "metadata": {},
     "output_type": "execute_result"
    }
   ],
   "source": [
    "sub_universes = universe_analysis.generate_sub_universes()\n",
    "len(sub_universes)"
   ]
  },
  {
   "cell_type": "code",
   "execution_count": 78,
   "id": "92adf7ba",
   "metadata": {
    "execution": {
     "iopub.execute_input": "2025-07-30T12:53:04.482066Z",
     "iopub.status.busy": "2025-07-30T12:53:04.481663Z",
     "iopub.status.idle": "2025-07-30T12:53:04.486484Z",
     "shell.execute_reply": "2025-07-30T12:53:04.485798Z"
    },
    "papermill": {
     "duration": 0.037959,
     "end_time": "2025-07-30T12:53:04.488003",
     "exception": false,
     "start_time": "2025-07-30T12:53:04.450044",
     "status": "completed"
    },
    "tags": []
   },
   "outputs": [],
   "source": [
    "def filter_sub_universe_data(sub_universe, org_test):\n",
    "    # Keep all rows — no filtering\n",
    "    keep_rows_mask = np.ones(org_test.shape[0], dtype=bool)\n",
    "\n",
    "    print(f\"[INFO] Keeping all rows: {keep_rows_mask.sum()} rows retained.\")\n",
    "    return keep_rows_mask"
   ]
  },
  {
   "cell_type": "code",
   "execution_count": 79,
   "id": "4a759155",
   "metadata": {
    "execution": {
     "iopub.execute_input": "2025-07-30T12:53:04.554168Z",
     "iopub.status.busy": "2025-07-30T12:53:04.553656Z",
     "iopub.status.idle": "2025-07-30T12:53:14.791400Z",
     "shell.execute_reply": "2025-07-30T12:53:14.790094Z"
    },
    "papermill": {
     "duration": 10.273904,
     "end_time": "2025-07-30T12:53:14.793228",
     "exception": false,
     "start_time": "2025-07-30T12:53:04.519324",
     "status": "completed"
    },
    "tags": []
   },
   "outputs": [
    {
     "name": "stdout",
     "output_type": "stream",
     "text": [
      "Stopping execution_time clock.\n",
      "[INFO] Keeping all rows: 89710 rows retained.\n"
     ]
    },
    {
     "name": "stdout",
     "output_type": "stream",
     "text": [
      "[INFO] Keeping all rows: 89710 rows retained.\n"
     ]
    },
    {
     "name": "stdout",
     "output_type": "stream",
     "text": [
      "[INFO] Keeping all rows: 89710 rows retained.\n"
     ]
    },
    {
     "name": "stdout",
     "output_type": "stream",
     "text": [
      "[INFO] Keeping all rows: 89710 rows retained.\n"
     ]
    },
    {
     "data": {
      "text/html": [
       "<div>\n",
       "<style scoped>\n",
       "    .dataframe tbody tr th:only-of-type {\n",
       "        vertical-align: middle;\n",
       "    }\n",
       "\n",
       "    .dataframe tbody tr th {\n",
       "        vertical-align: top;\n",
       "    }\n",
       "\n",
       "    .dataframe thead th {\n",
       "        text-align: right;\n",
       "    }\n",
       "</style>\n",
       "<table border=\"1\" class=\"dataframe\">\n",
       "  <thead>\n",
       "    <tr style=\"text-align: right;\">\n",
       "      <th></th>\n",
       "      <th>run_no</th>\n",
       "      <th>universe_id</th>\n",
       "      <th>universe_settings</th>\n",
       "      <th>execution_time</th>\n",
       "      <th>test_size_n</th>\n",
       "      <th>test_size_frac</th>\n",
       "      <th>fair_main_equalized_odds_difference</th>\n",
       "      <th>fair_main_equalized_odds_ratio</th>\n",
       "      <th>fair_main_demographic_parity_difference</th>\n",
       "      <th>fair_main_demographic_parity_ratio</th>\n",
       "      <th>...</th>\n",
       "      <th>perf_grp_precision_0</th>\n",
       "      <th>perf_grp_precision_1</th>\n",
       "      <th>perf_grp_false positive rate_0</th>\n",
       "      <th>perf_grp_false positive rate_1</th>\n",
       "      <th>perf_grp_false negative rate_0</th>\n",
       "      <th>perf_grp_false negative rate_1</th>\n",
       "      <th>perf_grp_selection rate_0</th>\n",
       "      <th>perf_grp_selection rate_1</th>\n",
       "      <th>perf_grp_count_0</th>\n",
       "      <th>perf_grp_count_1</th>\n",
       "    </tr>\n",
       "  </thead>\n",
       "  <tbody>\n",
       "    <tr>\n",
       "      <th>0</th>\n",
       "      <td>12</td>\n",
       "      <td>fef25a96ca926ece091170c5f2cbd5c8</td>\n",
       "      <td>{\"cutoff\": \"quantile_0.1\", \"eval_fairness_grou...</td>\n",
       "      <td>47.186931</td>\n",
       "      <td>89710</td>\n",
       "      <td>1.0</td>\n",
       "      <td>0.083644</td>\n",
       "      <td>0.912069</td>\n",
       "      <td>0.072488</td>\n",
       "      <td>0.924167</td>\n",
       "      <td>...</td>\n",
       "      <td>NaN</td>\n",
       "      <td>NaN</td>\n",
       "      <td>NaN</td>\n",
       "      <td>NaN</td>\n",
       "      <td>NaN</td>\n",
       "      <td>NaN</td>\n",
       "      <td>NaN</td>\n",
       "      <td>NaN</td>\n",
       "      <td>NaN</td>\n",
       "      <td>NaN</td>\n",
       "    </tr>\n",
       "    <tr>\n",
       "      <th>0</th>\n",
       "      <td>12</td>\n",
       "      <td>fef25a96ca926ece091170c5f2cbd5c8</td>\n",
       "      <td>{\"cutoff\": \"quantile_0.1\", \"eval_fairness_grou...</td>\n",
       "      <td>47.186931</td>\n",
       "      <td>89710</td>\n",
       "      <td>1.0</td>\n",
       "      <td>0.083644</td>\n",
       "      <td>0.912069</td>\n",
       "      <td>0.072488</td>\n",
       "      <td>0.924167</td>\n",
       "      <td>...</td>\n",
       "      <td>0.119588</td>\n",
       "      <td>0.147664</td>\n",
       "      <td>0.951244</td>\n",
       "      <td>0.867600</td>\n",
       "      <td>0.008446</td>\n",
       "      <td>0.012801</td>\n",
       "      <td>0.955891</td>\n",
       "      <td>0.883403</td>\n",
       "      <td>20540.0</td>\n",
       "      <td>69170.0</td>\n",
       "    </tr>\n",
       "    <tr>\n",
       "      <th>0</th>\n",
       "      <td>12</td>\n",
       "      <td>fef25a96ca926ece091170c5f2cbd5c8</td>\n",
       "      <td>{\"cutoff\": \"quantile_0.25\", \"eval_fairness_gro...</td>\n",
       "      <td>47.186931</td>\n",
       "      <td>89710</td>\n",
       "      <td>1.0</td>\n",
       "      <td>0.152872</td>\n",
       "      <td>0.817621</td>\n",
       "      <td>0.132544</td>\n",
       "      <td>0.844467</td>\n",
       "      <td>...</td>\n",
       "      <td>NaN</td>\n",
       "      <td>NaN</td>\n",
       "      <td>NaN</td>\n",
       "      <td>NaN</td>\n",
       "      <td>NaN</td>\n",
       "      <td>NaN</td>\n",
       "      <td>NaN</td>\n",
       "      <td>NaN</td>\n",
       "      <td>NaN</td>\n",
       "      <td>NaN</td>\n",
       "    </tr>\n",
       "    <tr>\n",
       "      <th>0</th>\n",
       "      <td>12</td>\n",
       "      <td>fef25a96ca926ece091170c5f2cbd5c8</td>\n",
       "      <td>{\"cutoff\": \"quantile_0.25\", \"eval_fairness_gro...</td>\n",
       "      <td>47.186931</td>\n",
       "      <td>89710</td>\n",
       "      <td>1.0</td>\n",
       "      <td>0.152872</td>\n",
       "      <td>0.817621</td>\n",
       "      <td>0.132544</td>\n",
       "      <td>0.844467</td>\n",
       "      <td>...</td>\n",
       "      <td>0.129799</td>\n",
       "      <td>0.173510</td>\n",
       "      <td>0.838213</td>\n",
       "      <td>0.685341</td>\n",
       "      <td>0.040541</td>\n",
       "      <td>0.055033</td>\n",
       "      <td>0.852191</td>\n",
       "      <td>0.719647</td>\n",
       "      <td>20540.0</td>\n",
       "      <td>69170.0</td>\n",
       "    </tr>\n",
       "  </tbody>\n",
       "</table>\n",
       "<p>4 rows × 50 columns</p>\n",
       "</div>"
      ],
      "text/plain": [
       "  run_no                       universe_id  \\\n",
       "0     12  fef25a96ca926ece091170c5f2cbd5c8   \n",
       "0     12  fef25a96ca926ece091170c5f2cbd5c8   \n",
       "0     12  fef25a96ca926ece091170c5f2cbd5c8   \n",
       "0     12  fef25a96ca926ece091170c5f2cbd5c8   \n",
       "\n",
       "                                   universe_settings  execution_time  \\\n",
       "0  {\"cutoff\": \"quantile_0.1\", \"eval_fairness_grou...       47.186931   \n",
       "0  {\"cutoff\": \"quantile_0.1\", \"eval_fairness_grou...       47.186931   \n",
       "0  {\"cutoff\": \"quantile_0.25\", \"eval_fairness_gro...       47.186931   \n",
       "0  {\"cutoff\": \"quantile_0.25\", \"eval_fairness_gro...       47.186931   \n",
       "\n",
       "   test_size_n  test_size_frac  fair_main_equalized_odds_difference  \\\n",
       "0        89710             1.0                             0.083644   \n",
       "0        89710             1.0                             0.083644   \n",
       "0        89710             1.0                             0.152872   \n",
       "0        89710             1.0                             0.152872   \n",
       "\n",
       "   fair_main_equalized_odds_ratio  fair_main_demographic_parity_difference  \\\n",
       "0                        0.912069                                 0.072488   \n",
       "0                        0.912069                                 0.072488   \n",
       "0                        0.817621                                 0.132544   \n",
       "0                        0.817621                                 0.132544   \n",
       "\n",
       "   fair_main_demographic_parity_ratio  ...  perf_grp_precision_0  \\\n",
       "0                            0.924167  ...                   NaN   \n",
       "0                            0.924167  ...              0.119588   \n",
       "0                            0.844467  ...                   NaN   \n",
       "0                            0.844467  ...              0.129799   \n",
       "\n",
       "   perf_grp_precision_1  perf_grp_false positive rate_0  \\\n",
       "0                   NaN                             NaN   \n",
       "0              0.147664                        0.951244   \n",
       "0                   NaN                             NaN   \n",
       "0              0.173510                        0.838213   \n",
       "\n",
       "   perf_grp_false positive rate_1  perf_grp_false negative rate_0  \\\n",
       "0                             NaN                             NaN   \n",
       "0                        0.867600                        0.008446   \n",
       "0                             NaN                             NaN   \n",
       "0                        0.685341                        0.040541   \n",
       "\n",
       "   perf_grp_false negative rate_1  perf_grp_selection rate_0  \\\n",
       "0                             NaN                        NaN   \n",
       "0                        0.012801                   0.955891   \n",
       "0                             NaN                        NaN   \n",
       "0                        0.055033                   0.852191   \n",
       "\n",
       "   perf_grp_selection rate_1  perf_grp_count_0  perf_grp_count_1  \n",
       "0                        NaN               NaN               NaN  \n",
       "0                   0.883403           20540.0           69170.0  \n",
       "0                        NaN               NaN               NaN  \n",
       "0                   0.719647           20540.0           69170.0  \n",
       "\n",
       "[4 rows x 50 columns]"
      ]
     },
     "execution_count": 79,
     "metadata": {},
     "output_type": "execute_result"
    }
   ],
   "source": [
    "final_output = universe_analysis.generate_final_output(\n",
    "    y_pred_prob=probs_test,\n",
    "    y_test=y_true,\n",
    "    org_test=org_test,\n",
    "    filter_data=filter_sub_universe_data,\n",
    "    cp_metrics_df=cp_metrics_df,\n",
    "    save=True,\n",
    ")\n",
    "final_output"
   ]
  },
  {
   "cell_type": "code",
   "execution_count": null,
   "id": "721ff514-cb11-46f8-b6fc-50392f74b5cb",
   "metadata": {
    "papermill": {
     "duration": 0.034474,
     "end_time": "2025-07-30T12:53:14.865211",
     "exception": false,
     "start_time": "2025-07-30T12:53:14.830737",
     "status": "completed"
    },
    "tags": []
   },
   "outputs": [],
   "source": []
  }
 ],
 "metadata": {
  "celltoolbar": "Tags",
  "kernelspec": {
   "display_name": "Python (CMA Fairness)",
   "language": "python",
   "name": "cma_fair_env"
  },
  "language_info": {
   "codemirror_mode": {
    "name": "ipython",
    "version": 3
   },
   "file_extension": ".py",
   "mimetype": "text/x-python",
   "name": "python",
   "nbconvert_exporter": "python",
   "pygments_lexer": "ipython3",
   "version": "3.10.12"
  },
  "papermill": {
   "default_parameters": {},
   "duration": 61.514567,
   "end_time": "2025-07-30T12:53:15.616414",
   "environment_variables": {},
   "exception": null,
   "input_path": "universe_analysis.ipynb",
   "output_path": "output/runs/12/notebooks/m_12-fef25a96ca926ece091170c5f2cbd5c8.ipynb",
   "parameters": {
    "output_dir": "output",
    "run_no": "12",
    "seed": "2023",
    "universe": "{\"cutoff\": [\"quantile_0.1\", \"quantile_0.25\"], \"eval_fairness_grouping\": [\"majority-minority\", \"nationality-all\"], \"exclude_features\": \"age\", \"exclude_subgroups\": \"drop-non-german\", \"model\": \"elasticnet\", \"scale\": \"scale\", \"training_size\": \"25k\", \"training_year\": \"2014\"}",
    "universe_id": "fef25a96ca926ece091170c5f2cbd5c8"
   },
   "start_time": "2025-07-30T12:52:14.101847",
   "version": "2.6.0"
  }
 },
 "nbformat": 4,
 "nbformat_minor": 5
}