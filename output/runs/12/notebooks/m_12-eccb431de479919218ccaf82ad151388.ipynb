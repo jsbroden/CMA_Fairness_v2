{
 "cells": [
  {
   "cell_type": "code",
   "execution_count": 1,
   "id": "f159f837-637b-42ba-96b5-ec9a68c44524",
   "metadata": {
    "execution": {
     "iopub.execute_input": "2025-07-30T14:13:32.758040Z",
     "iopub.status.busy": "2025-07-30T14:13:32.757633Z",
     "iopub.status.idle": "2025-07-30T14:13:32.770746Z",
     "shell.execute_reply": "2025-07-30T14:13:32.769857Z"
    },
    "papermill": {
     "duration": 0.052313,
     "end_time": "2025-07-30T14:13:32.772695",
     "exception": false,
     "start_time": "2025-07-30T14:13:32.720382",
     "status": "completed"
    },
    "tags": []
   },
   "outputs": [
    {
     "name": "stdout",
     "output_type": "stream",
     "text": [
      "/dss/dsshome1/0C/ra93lal2/cma/CMA_Fairness_v2\n"
     ]
    },
    {
     "name": "stderr",
     "output_type": "stream",
     "text": [
      "/dss/dsshome1/0C/ra93lal2/.local/share/virtualenvs/CMA_Fairness_v2-3j10GkSs/lib/python3.10/site-packages/IPython/core/magics/osm.py:393: UserWarning: This is now an optional IPython functionality, using bookmarks requires you to install the `pickleshare` library.\n",
      "  bkms = self.shell.db.get('bookmarks', {})\n",
      "/dss/dsshome1/0C/ra93lal2/.local/share/virtualenvs/CMA_Fairness_v2-3j10GkSs/lib/python3.10/site-packages/IPython/core/magics/osm.py:417: UserWarning: This is now an optional IPython functionality, setting dhist requires you to install the `pickleshare` library.\n",
      "  self.shell.db['dhist'] = compress_dhist(dhist)[-100:]\n"
     ]
    }
   ],
   "source": [
    "%cd ~/cma/CMA_Fairness_v2"
   ]
  },
  {
   "cell_type": "markdown",
   "id": "de2603b9",
   "metadata": {
    "papermill": {
     "duration": 0.02783,
     "end_time": "2025-07-30T14:13:32.825469",
     "exception": false,
     "start_time": "2025-07-30T14:13:32.797639",
     "status": "completed"
    },
    "tags": []
   },
   "source": [
    "The following cell holds the definition of our parameters, these values can be overriden by rendering the with e.g. the following command:\n",
    "\n",
    "papermill -p alpha 0.2 -p ratio 0.3 universe_analysis.ipynb output/test_run.ipynb"
   ]
  },
  {
   "cell_type": "code",
   "execution_count": 2,
   "id": "a80968a0-40bb-4fa9-85ef-2d5eefb01975",
   "metadata": {
    "execution": {
     "iopub.execute_input": "2025-07-30T14:13:32.884336Z",
     "iopub.status.busy": "2025-07-30T14:13:32.883790Z",
     "iopub.status.idle": "2025-07-30T14:13:32.890987Z",
     "shell.execute_reply": "2025-07-30T14:13:32.889684Z"
    },
    "papermill": {
     "duration": 0.039645,
     "end_time": "2025-07-30T14:13:32.893202",
     "exception": false,
     "start_time": "2025-07-30T14:13:32.853557",
     "status": "completed"
    },
    "tags": []
   },
   "outputs": [
    {
     "name": "stdout",
     "output_type": "stream",
     "text": [
      "Current working directory: /dss/dsshome1/0C/ra93lal2/cma/CMA_Fairness_v2\n"
     ]
    }
   ],
   "source": [
    "import os\n",
    "print(\"Current working directory:\", os.getcwd())"
   ]
  },
  {
   "cell_type": "code",
   "execution_count": 3,
   "id": "2dce4c03",
   "metadata": {
    "execution": {
     "iopub.execute_input": "2025-07-30T14:13:32.936495Z",
     "iopub.status.busy": "2025-07-30T14:13:32.935833Z",
     "iopub.status.idle": "2025-07-30T14:13:32.944948Z",
     "shell.execute_reply": "2025-07-30T14:13:32.943580Z"
    },
    "papermill": {
     "duration": 0.03317,
     "end_time": "2025-07-30T14:13:32.947104",
     "exception": false,
     "start_time": "2025-07-30T14:13:32.913934",
     "status": "completed"
    },
    "tags": [
     "parameters"
    ]
   },
   "outputs": [],
   "source": [
    "run_no = 0\n",
    "universe_id = \"test\"\n",
    "universe = {\n",
    "    \"training_size\": \"25k\", # \"25k\", \"5k\", \"1k\"\n",
    "    \"training_year\": \"2014\", # \"2014\", \"2012_14\", \"2010_14\"\n",
    "    \"scale\": \"scale\", # \"scale\", \"do-not-scale\",\n",
    "    #\"stratify_split\": \"target\", # \"none\", \"target\", \"protected-attribute\", \"both\",\n",
    "    \"model\": \"elasticnet\", # \"logreg\", \"penalized_logreg\", \"rf\", \"gbm\", \"elasticnet\"\n",
    "    \"cutoff\": [\"quantile_0.15\", \"quantile_0.30\"],\n",
    "    \"exclude_features\": \"age\", # \"none\", \"nationality\", \"sex\", \"nationality-sex\", \"age\"\n",
    "    \"exclude_subgroups\": \"keep-all\", # \"keep-all\", \"drop-non-german\"\n",
    "    \"eval_fairness_grouping\": [\"majority-minority\", \"nationality-all\"]\n",
    "}\n",
    "\n",
    "output_dir=\"./output\"\n",
    "seed=0"
   ]
  },
  {
   "cell_type": "code",
   "execution_count": 4,
   "id": "7fb34589",
   "metadata": {
    "execution": {
     "iopub.execute_input": "2025-07-30T14:13:32.994608Z",
     "iopub.status.busy": "2025-07-30T14:13:32.994224Z",
     "iopub.status.idle": "2025-07-30T14:13:33.000170Z",
     "shell.execute_reply": "2025-07-30T14:13:32.999191Z"
    },
    "papermill": {
     "duration": 0.03385,
     "end_time": "2025-07-30T14:13:33.002365",
     "exception": false,
     "start_time": "2025-07-30T14:13:32.968515",
     "status": "completed"
    },
    "tags": [
     "injected-parameters"
    ]
   },
   "outputs": [],
   "source": [
    "# Parameters\n",
    "universe_id = \"eccb431de479919218ccaf82ad151388\"\n",
    "run_no = \"12\"\n",
    "universe = \"{\\\"cutoff\\\": [\\\"quantile_0.1\\\", \\\"quantile_0.25\\\"], \\\"eval_fairness_grouping\\\": [\\\"majority-minority\\\", \\\"nationality-all\\\"], \\\"exclude_features\\\": \\\"age\\\", \\\"exclude_subgroups\\\": \\\"drop-non-german\\\", \\\"model\\\": \\\"penalized_logreg\\\", \\\"scale\\\": \\\"do-not-scale\\\", \\\"training_size\\\": \\\"5k\\\", \\\"training_year\\\": \\\"2010_14\\\"}\"\n",
    "output_dir = \"output\"\n",
    "seed = \"2023\"\n"
   ]
  },
  {
   "cell_type": "code",
   "execution_count": 5,
   "id": "1650acaf",
   "metadata": {
    "execution": {
     "iopub.execute_input": "2025-07-30T14:13:33.060416Z",
     "iopub.status.busy": "2025-07-30T14:13:33.059547Z",
     "iopub.status.idle": "2025-07-30T14:13:33.065433Z",
     "shell.execute_reply": "2025-07-30T14:13:33.064582Z"
    },
    "papermill": {
     "duration": 0.042652,
     "end_time": "2025-07-30T14:13:33.066886",
     "exception": false,
     "start_time": "2025-07-30T14:13:33.024234",
     "status": "completed"
    },
    "tags": []
   },
   "outputs": [],
   "source": [
    "import json\n",
    "# Parse universe into dict if it is passed as a string\n",
    "if isinstance(universe, str):\n",
    "    universe = json.loads(universe)"
   ]
  },
  {
   "cell_type": "code",
   "execution_count": 6,
   "id": "16620c48",
   "metadata": {
    "execution": {
     "iopub.execute_input": "2025-07-30T14:13:33.110947Z",
     "iopub.status.busy": "2025-07-30T14:13:33.109887Z",
     "iopub.status.idle": "2025-07-30T14:13:33.157384Z",
     "shell.execute_reply": "2025-07-30T14:13:33.156320Z"
    },
    "papermill": {
     "duration": 0.07257,
     "end_time": "2025-07-30T14:13:33.159376",
     "exception": false,
     "start_time": "2025-07-30T14:13:33.086806",
     "status": "completed"
    },
    "tags": []
   },
   "outputs": [],
   "source": [
    "# Auto-reload the custom package\n",
    "%load_ext autoreload\n",
    "%autoreload 1\n",
    "%aimport fairness_multiverse"
   ]
  },
  {
   "cell_type": "code",
   "execution_count": 7,
   "id": "01c5c9f3",
   "metadata": {
    "execution": {
     "iopub.execute_input": "2025-07-30T14:13:33.202150Z",
     "iopub.status.busy": "2025-07-30T14:13:33.201665Z",
     "iopub.status.idle": "2025-07-30T14:13:35.206196Z",
     "shell.execute_reply": "2025-07-30T14:13:35.205094Z"
    },
    "papermill": {
     "duration": 2.02927,
     "end_time": "2025-07-30T14:13:35.208083",
     "exception": false,
     "start_time": "2025-07-30T14:13:33.178813",
     "status": "completed"
    },
    "tags": []
   },
   "outputs": [],
   "source": [
    "from fairness_multiverse.universe import UniverseAnalysis\n",
    "\n",
    "universe_analysis = UniverseAnalysis(\n",
    "    run_no = run_no,\n",
    "    universe_id = universe_id,\n",
    "    universe = universe,\n",
    "    output_dir=output_dir,\n",
    ")"
   ]
  },
  {
   "cell_type": "code",
   "execution_count": 8,
   "id": "106241f5",
   "metadata": {
    "execution": {
     "iopub.execute_input": "2025-07-30T14:13:35.247239Z",
     "iopub.status.busy": "2025-07-30T14:13:35.246789Z",
     "iopub.status.idle": "2025-07-30T14:13:35.254757Z",
     "shell.execute_reply": "2025-07-30T14:13:35.253161Z"
    },
    "papermill": {
     "duration": 0.026549,
     "end_time": "2025-07-30T14:13:35.256519",
     "exception": false,
     "start_time": "2025-07-30T14:13:35.229970",
     "status": "completed"
    },
    "tags": []
   },
   "outputs": [
    {
     "name": "stdout",
     "output_type": "stream",
     "text": [
      "Using Seed: 2023\n"
     ]
    }
   ],
   "source": [
    "import numpy as np\n",
    "parsed_seed = int(seed)\n",
    "np.random.seed(parsed_seed)\n",
    "print(f\"Using Seed: {parsed_seed}\")"
   ]
  },
  {
   "cell_type": "markdown",
   "id": "e0ebdc57",
   "metadata": {
    "papermill": {
     "duration": 0.020518,
     "end_time": "2025-07-30T14:13:35.295592",
     "exception": false,
     "start_time": "2025-07-30T14:13:35.275074",
     "status": "completed"
    },
    "tags": []
   },
   "source": [
    "# Loading Data"
   ]
  },
  {
   "cell_type": "markdown",
   "id": "681925a3",
   "metadata": {
    "papermill": {
     "duration": 0.020534,
     "end_time": "2025-07-30T14:13:35.337684",
     "exception": false,
     "start_time": "2025-07-30T14:13:35.317150",
     "status": "completed"
    },
    "tags": []
   },
   "source": [
    "Load siab_train, siab_test, siab_calib and/or \n",
    "load siab_train_features, siab_train_labels"
   ]
  },
  {
   "cell_type": "code",
   "execution_count": 9,
   "id": "f0496b8a",
   "metadata": {
    "execution": {
     "iopub.execute_input": "2025-07-30T14:13:35.381713Z",
     "iopub.status.busy": "2025-07-30T14:13:35.381212Z",
     "iopub.status.idle": "2025-07-30T14:13:46.658964Z",
     "shell.execute_reply": "2025-07-30T14:13:46.657696Z"
    },
    "papermill": {
     "duration": 11.302004,
     "end_time": "2025-07-30T14:13:46.660782",
     "exception": false,
     "start_time": "2025-07-30T14:13:35.358778",
     "status": "completed"
    },
    "tags": []
   },
   "outputs": [
    {
     "name": "stdout",
     "output_type": "stream",
     "text": [
      "Loading SIAB data from cache: data/siab_cached.csv.gz\n"
     ]
    },
    {
     "name": "stdout",
     "output_type": "stream",
     "text": [
      "(643690, 164)\n"
     ]
    }
   ],
   "source": [
    "from pathlib import Path\n",
    "import pandas as pd\n",
    "\n",
    "# File paths\n",
    "raw_file = Path(\"data/raw/siab.csv\")\n",
    "cache_file = Path(\"data/siab_cached.csv.gz\")\n",
    "\n",
    "# Ensure cache directory exists\n",
    "cache_file.parent.mkdir(parents=True, exist_ok=True)\n",
    "\n",
    "# Load with simple caching\n",
    "if cache_file.exists():\n",
    "    print(f\"Loading SIAB data from cache: {cache_file}\")\n",
    "    siab = pd.read_csv(cache_file, compression='gzip')\n",
    "else:\n",
    "    print(f\"Cache not found. Reading raw SIAB data: {raw_file}\")\n",
    "    siab = pd.read_csv(raw_file)\n",
    "    siab.to_csv(cache_file, index=False, compression='gzip')\n",
    "    print(f\"Cached SIAB data to: {cache_file}\")\n",
    "\n",
    "# Now use `siab` DataFrame as needed\n",
    "print(siab.shape)"
   ]
  },
  {
   "cell_type": "code",
   "execution_count": 10,
   "id": "db0ca512-5f53-4dba-abdb-a2888bca41ba",
   "metadata": {
    "execution": {
     "iopub.execute_input": "2025-07-30T14:13:46.703804Z",
     "iopub.status.busy": "2025-07-30T14:13:46.703274Z",
     "iopub.status.idle": "2025-07-30T14:13:46.709342Z",
     "shell.execute_reply": "2025-07-30T14:13:46.708258Z"
    },
    "papermill": {
     "duration": 0.029949,
     "end_time": "2025-07-30T14:13:46.711068",
     "exception": false,
     "start_time": "2025-07-30T14:13:46.681119",
     "status": "completed"
    },
    "tags": []
   },
   "outputs": [],
   "source": [
    "#siab"
   ]
  },
  {
   "cell_type": "code",
   "execution_count": 11,
   "id": "a0edb063",
   "metadata": {
    "execution": {
     "iopub.execute_input": "2025-07-30T14:13:46.745460Z",
     "iopub.status.busy": "2025-07-30T14:13:46.745109Z",
     "iopub.status.idle": "2025-07-30T14:13:46.749172Z",
     "shell.execute_reply": "2025-07-30T14:13:46.748257Z"
    },
    "papermill": {
     "duration": 0.018444,
     "end_time": "2025-07-30T14:13:46.750583",
     "exception": false,
     "start_time": "2025-07-30T14:13:46.732139",
     "status": "completed"
    },
    "tags": []
   },
   "outputs": [],
   "source": [
    "#import pandas as pd\n",
    "#\n",
    "#X_train = pd.read_csv(\"./data/X_train.csv\")\n",
    "#y_train = pd.read_csv(\"./data/y_train.csv\")"
   ]
  },
  {
   "cell_type": "code",
   "execution_count": 12,
   "id": "63d08085",
   "metadata": {
    "execution": {
     "iopub.execute_input": "2025-07-30T14:13:46.775053Z",
     "iopub.status.busy": "2025-07-30T14:13:46.774694Z",
     "iopub.status.idle": "2025-07-30T14:13:46.778704Z",
     "shell.execute_reply": "2025-07-30T14:13:46.777772Z"
    },
    "papermill": {
     "duration": 0.017226,
     "end_time": "2025-07-30T14:13:46.780132",
     "exception": false,
     "start_time": "2025-07-30T14:13:46.762906",
     "status": "completed"
    },
    "tags": []
   },
   "outputs": [],
   "source": [
    "#X_test = pd.read_csv(\"./data/X_test.csv\")\n",
    "#y_true = pd.read_csv(\"./data/y_test.csv\")"
   ]
  },
  {
   "cell_type": "code",
   "execution_count": 13,
   "id": "98a8d0fa-1d3d-4ed8-bb2c-281470e24add",
   "metadata": {
    "execution": {
     "iopub.execute_input": "2025-07-30T14:13:46.804747Z",
     "iopub.status.busy": "2025-07-30T14:13:46.804196Z",
     "iopub.status.idle": "2025-07-30T14:13:46.808448Z",
     "shell.execute_reply": "2025-07-30T14:13:46.807631Z"
    },
    "papermill": {
     "duration": 0.017864,
     "end_time": "2025-07-30T14:13:46.810050",
     "exception": false,
     "start_time": "2025-07-30T14:13:46.792186",
     "status": "completed"
    },
    "tags": []
   },
   "outputs": [],
   "source": [
    "# Calibration data for conformal\n",
    "#X_calib = pd.read_csv(\"./data/X_calib.csv\")\n",
    "#y_calib = pd.read_csv(\"./data/y_calib.csv\")"
   ]
  },
  {
   "cell_type": "markdown",
   "id": "997051c5-15bd-4b69-9786-c3001a3ce484",
   "metadata": {
    "papermill": {
     "duration": 0.020913,
     "end_time": "2025-07-30T14:13:46.853816",
     "exception": false,
     "start_time": "2025-07-30T14:13:46.832903",
     "status": "completed"
    },
    "tags": []
   },
   "source": [
    "# Splitting Data and Setting Training Data Size"
   ]
  },
  {
   "cell_type": "code",
   "execution_count": 14,
   "id": "e993b61f-042d-41a6-8c81-f55681f86335",
   "metadata": {
    "execution": {
     "iopub.execute_input": "2025-07-30T14:13:46.895958Z",
     "iopub.status.busy": "2025-07-30T14:13:46.895495Z",
     "iopub.status.idle": "2025-07-30T14:13:46.908625Z",
     "shell.execute_reply": "2025-07-30T14:13:46.907572Z"
    },
    "papermill": {
     "duration": 0.037752,
     "end_time": "2025-07-30T14:13:46.910321",
     "exception": false,
     "start_time": "2025-07-30T14:13:46.872569",
     "status": "completed"
    },
    "tags": []
   },
   "outputs": [],
   "source": [
    "def sample_by_year_size(df,\n",
    "                        training_year: str,\n",
    "                        training_size: str,\n",
    "                        random_state: int = 42):\n",
    "    # --- parse training_year into a list of int years ---\n",
    "    if \"_\" in training_year:\n",
    "        start_str, end_str = training_year.split(\"_\", 1)\n",
    "        start = int(start_str)\n",
    "        end   = int(end_str) if len(end_str) == 4 else (int(end_str) + (start // 100)*100)\n",
    "        years = list(range(start, end + 1))\n",
    "    else:\n",
    "        years = [int(training_year)]\n",
    "\n",
    "    df = df[df[\"year\"].isin(years)].reset_index(drop=True)\n",
    "\n",
    "    # --- map training_size to total number of samples ---\n",
    "    total_map = {\"25k\": 25_000, \"5k\": 5_000, \"1k\": 1_000}\n",
    "    if training_size not in total_map:\n",
    "        return df  # e.g. \"all\"\n",
    "\n",
    "    total_samples = total_map[training_size]\n",
    "    n_years       = len(years)\n",
    "    base          = total_samples // n_years\n",
    "    remainder     = total_samples % n_years\n",
    "\n",
    "    # --- build a dict: year -> how many to sample ---\n",
    "    # give +1 to the first `remainder` years in ascending order\n",
    "    quotas = {\n",
    "        year: base + (1 if idx < remainder else 0)\n",
    "        for idx, year in enumerate(sorted(years))\n",
    "    }\n",
    "\n",
    "    # --- sample per‐year according to the quota dict ---\n",
    "    sampled = (\n",
    "        df\n",
    "        .groupby(\"year\", group_keys=False)\n",
    "        .apply(lambda grp: grp.sample(\n",
    "            n=min(len(grp), quotas[grp.name]),\n",
    "            random_state=random_state))\n",
    "        .reset_index(drop=True)\n",
    "    )\n",
    "\n",
    "    return sampled"
   ]
  },
  {
   "cell_type": "code",
   "execution_count": 15,
   "id": "c0ccd338-0e02-41f3-a09d-f56f9266e3fb",
   "metadata": {
    "execution": {
     "iopub.execute_input": "2025-07-30T14:13:46.950497Z",
     "iopub.status.busy": "2025-07-30T14:13:46.949850Z",
     "iopub.status.idle": "2025-07-30T14:13:46.961719Z",
     "shell.execute_reply": "2025-07-30T14:13:46.960757Z"
    },
    "papermill": {
     "duration": 0.036055,
     "end_time": "2025-07-30T14:13:46.963491",
     "exception": false,
     "start_time": "2025-07-30T14:13:46.927436",
     "status": "completed"
    },
    "tags": []
   },
   "outputs": [
    {
     "data": {
      "text/plain": [
       "'5k'"
      ]
     },
     "execution_count": 15,
     "metadata": {},
     "output_type": "execute_result"
    }
   ],
   "source": [
    "universe[\"training_size\"]"
   ]
  },
  {
   "cell_type": "code",
   "execution_count": 16,
   "id": "ca707fd7-8047-4acd-bfa5-66248fbbf8e6",
   "metadata": {
    "execution": {
     "iopub.execute_input": "2025-07-30T14:13:47.007963Z",
     "iopub.status.busy": "2025-07-30T14:13:47.007119Z",
     "iopub.status.idle": "2025-07-30T14:13:47.014579Z",
     "shell.execute_reply": "2025-07-30T14:13:47.013538Z"
    },
    "papermill": {
     "duration": 0.032496,
     "end_time": "2025-07-30T14:13:47.016281",
     "exception": false,
     "start_time": "2025-07-30T14:13:46.983785",
     "status": "completed"
    },
    "tags": []
   },
   "outputs": [
    {
     "data": {
      "text/plain": [
       "'2010_14'"
      ]
     },
     "execution_count": 16,
     "metadata": {},
     "output_type": "execute_result"
    }
   ],
   "source": [
    "universe[\"training_year\"]"
   ]
  },
  {
   "cell_type": "code",
   "execution_count": 17,
   "id": "aea9c6ef-6f46-42c8-85eb-5a62025c1508",
   "metadata": {
    "execution": {
     "iopub.execute_input": "2025-07-30T14:13:47.059297Z",
     "iopub.status.busy": "2025-07-30T14:13:47.058141Z",
     "iopub.status.idle": "2025-07-30T14:13:48.014066Z",
     "shell.execute_reply": "2025-07-30T14:13:48.013114Z"
    },
    "papermill": {
     "duration": 0.977899,
     "end_time": "2025-07-30T14:13:48.016312",
     "exception": false,
     "start_time": "2025-07-30T14:13:47.038413",
     "status": "completed"
    },
    "tags": []
   },
   "outputs": [],
   "source": [
    "siab_train = sample_by_year_size(siab,\n",
    "                               training_year=universe[\"training_year\"],\n",
    "                               training_size=universe[\"training_size\"])"
   ]
  },
  {
   "cell_type": "code",
   "execution_count": 18,
   "id": "8d3afb32-789d-442c-8d5d-9f5aa8dd2eed",
   "metadata": {
    "execution": {
     "iopub.execute_input": "2025-07-30T14:13:48.058069Z",
     "iopub.status.busy": "2025-07-30T14:13:48.057413Z",
     "iopub.status.idle": "2025-07-30T14:13:48.064183Z",
     "shell.execute_reply": "2025-07-30T14:13:48.063201Z"
    },
    "papermill": {
     "duration": 0.028688,
     "end_time": "2025-07-30T14:13:48.065810",
     "exception": false,
     "start_time": "2025-07-30T14:13:48.037122",
     "status": "completed"
    },
    "tags": []
   },
   "outputs": [
    {
     "data": {
      "text/plain": [
       "(5000, 164)"
      ]
     },
     "execution_count": 18,
     "metadata": {},
     "output_type": "execute_result"
    }
   ],
   "source": [
    "siab_train.shape"
   ]
  },
  {
   "cell_type": "code",
   "execution_count": 19,
   "id": "d582db68-1a4c-47fb-84fc-08518dc1975a",
   "metadata": {
    "execution": {
     "iopub.execute_input": "2025-07-30T14:13:48.107708Z",
     "iopub.status.busy": "2025-07-30T14:13:48.106947Z",
     "iopub.status.idle": "2025-07-30T14:13:48.116317Z",
     "shell.execute_reply": "2025-07-30T14:13:48.115363Z"
    },
    "papermill": {
     "duration": 0.031435,
     "end_time": "2025-07-30T14:13:48.117897",
     "exception": false,
     "start_time": "2025-07-30T14:13:48.086462",
     "status": "completed"
    },
    "tags": []
   },
   "outputs": [
    {
     "data": {
      "text/plain": [
       "year\n",
       "2010    1000\n",
       "2011    1000\n",
       "2012    1000\n",
       "2013    1000\n",
       "2014    1000\n",
       "dtype: int64"
      ]
     },
     "metadata": {},
     "output_type": "display_data"
    }
   ],
   "source": [
    "display(siab_train.groupby(\"year\").size())"
   ]
  },
  {
   "cell_type": "code",
   "execution_count": 20,
   "id": "a561edb4-d032-42cb-8256-22eac1111c64",
   "metadata": {
    "execution": {
     "iopub.execute_input": "2025-07-30T14:13:48.162659Z",
     "iopub.status.busy": "2025-07-30T14:13:48.161988Z",
     "iopub.status.idle": "2025-07-30T14:13:48.402772Z",
     "shell.execute_reply": "2025-07-30T14:13:48.401868Z"
    },
    "papermill": {
     "duration": 0.263747,
     "end_time": "2025-07-30T14:13:48.404670",
     "exception": false,
     "start_time": "2025-07-30T14:13:48.140923",
     "status": "completed"
    },
    "tags": []
   },
   "outputs": [],
   "source": [
    "#siab_train = siab_s[siab_s.year < 2015]\n",
    "siab_calib = siab[siab.year == 2015]\n",
    "siab_test = siab[siab.year == 2016]"
   ]
  },
  {
   "cell_type": "code",
   "execution_count": 21,
   "id": "472de16f-c3db-4916-846b-1f0de9cf1746",
   "metadata": {
    "execution": {
     "iopub.execute_input": "2025-07-30T14:13:48.448488Z",
     "iopub.status.busy": "2025-07-30T14:13:48.447835Z",
     "iopub.status.idle": "2025-07-30T14:13:48.455492Z",
     "shell.execute_reply": "2025-07-30T14:13:48.454640Z"
    },
    "papermill": {
     "duration": 0.030836,
     "end_time": "2025-07-30T14:13:48.457055",
     "exception": false,
     "start_time": "2025-07-30T14:13:48.426219",
     "status": "completed"
    },
    "tags": []
   },
   "outputs": [],
   "source": [
    "X_train = siab_train.iloc[:,4:164]\n",
    "y_train = siab_train.iloc[:, [3]]"
   ]
  },
  {
   "cell_type": "code",
   "execution_count": 22,
   "id": "828c96af-f43a-4ed6-ba47-8ac73a47d56c",
   "metadata": {
    "execution": {
     "iopub.execute_input": "2025-07-30T14:13:48.500315Z",
     "iopub.status.busy": "2025-07-30T14:13:48.499472Z",
     "iopub.status.idle": "2025-07-30T14:13:48.548209Z",
     "shell.execute_reply": "2025-07-30T14:13:48.547181Z"
    },
    "papermill": {
     "duration": 0.071946,
     "end_time": "2025-07-30T14:13:48.550146",
     "exception": false,
     "start_time": "2025-07-30T14:13:48.478200",
     "status": "completed"
    },
    "tags": []
   },
   "outputs": [],
   "source": [
    "X_calib = siab_calib.iloc[:,4:164]\n",
    "y_calib = siab_calib.iloc[:, [3]]"
   ]
  },
  {
   "cell_type": "code",
   "execution_count": 23,
   "id": "c34be9c3-6bd6-476e-acd3-845840e303be",
   "metadata": {
    "execution": {
     "iopub.execute_input": "2025-07-30T14:13:48.593756Z",
     "iopub.status.busy": "2025-07-30T14:13:48.592883Z",
     "iopub.status.idle": "2025-07-30T14:13:48.643695Z",
     "shell.execute_reply": "2025-07-30T14:13:48.642775Z"
    },
    "papermill": {
     "duration": 0.074357,
     "end_time": "2025-07-30T14:13:48.645556",
     "exception": false,
     "start_time": "2025-07-30T14:13:48.571199",
     "status": "completed"
    },
    "tags": []
   },
   "outputs": [],
   "source": [
    "X_test = siab_test.iloc[:,4:164]\n",
    "y_true = siab_test.iloc[:, [3]]"
   ]
  },
  {
   "cell_type": "markdown",
   "id": "9901737e-04df-44f0-9100-f5ad144ed040",
   "metadata": {
    "papermill": {
     "duration": 0.019607,
     "end_time": "2025-07-30T14:13:48.686516",
     "exception": false,
     "start_time": "2025-07-30T14:13:48.666909",
     "status": "completed"
    },
    "tags": []
   },
   "source": [
    "# Splitting Data and Setting Training Data Size OLD VERSION"
   ]
  },
  {
   "cell_type": "code",
   "execution_count": 24,
   "id": "acbc8f7d-8fc8-4e86-8c59-5dcb0f58384b",
   "metadata": {
    "execution": {
     "iopub.execute_input": "2025-07-30T14:13:48.728489Z",
     "iopub.status.busy": "2025-07-30T14:13:48.728103Z",
     "iopub.status.idle": "2025-07-30T14:13:48.733466Z",
     "shell.execute_reply": "2025-07-30T14:13:48.732491Z"
    },
    "papermill": {
     "duration": 0.028153,
     "end_time": "2025-07-30T14:13:48.734968",
     "exception": false,
     "start_time": "2025-07-30T14:13:48.706815",
     "status": "completed"
    },
    "tags": []
   },
   "outputs": [],
   "source": [
    "#def sample_by_year(df, training_size, random_state=42):\n",
    "#    if training_size == \"2014\":\n",
    "#        return df[df[\"year\"] == 2014].reset_index(drop=True)\n",
    "#    \n",
    "#    size_map = {\n",
    "#        \"25k\": 5000,\n",
    "#        \"5k\": 1000,\n",
    "#        \"1k\": 200\n",
    "#    }\n",
    "#\n",
    "#    if training_size not in size_map:\n",
    "#        return df.reset_index(drop=True)  # use all data\n",
    "#\n",
    "#    n_per_year = size_map[training_size]\n",
    "#    grouped = df.groupby(\"year\")\n",
    "#    sampled = grouped.apply(lambda x: x.sample(n=min(n_per_year, len(x)), random_state=random_state))\n",
    "#    return sampled.reset_index(drop=True)"
   ]
  },
  {
   "cell_type": "code",
   "execution_count": 25,
   "id": "6d931f52-beaf-43ff-9e78-9d44a448d54e",
   "metadata": {
    "execution": {
     "iopub.execute_input": "2025-07-30T14:13:48.778272Z",
     "iopub.status.busy": "2025-07-30T14:13:48.777450Z",
     "iopub.status.idle": "2025-07-30T14:13:48.782326Z",
     "shell.execute_reply": "2025-07-30T14:13:48.781426Z"
    },
    "papermill": {
     "duration": 0.027136,
     "end_time": "2025-07-30T14:13:48.783743",
     "exception": false,
     "start_time": "2025-07-30T14:13:48.756607",
     "status": "completed"
    },
    "tags": []
   },
   "outputs": [],
   "source": [
    "#siab_s = sample_by_year(siab, universe[\"training_size\"])"
   ]
  },
  {
   "cell_type": "code",
   "execution_count": 26,
   "id": "5db0a40e-a4e2-4920-be85-b12ae061d70d",
   "metadata": {
    "execution": {
     "iopub.execute_input": "2025-07-30T14:13:48.826948Z",
     "iopub.status.busy": "2025-07-30T14:13:48.826246Z",
     "iopub.status.idle": "2025-07-30T14:13:48.831661Z",
     "shell.execute_reply": "2025-07-30T14:13:48.830532Z"
    },
    "papermill": {
     "duration": 0.028379,
     "end_time": "2025-07-30T14:13:48.833289",
     "exception": false,
     "start_time": "2025-07-30T14:13:48.804910",
     "status": "completed"
    },
    "tags": []
   },
   "outputs": [],
   "source": [
    "#display(siab_s.groupby(\"year\").size())"
   ]
  },
  {
   "cell_type": "code",
   "execution_count": 27,
   "id": "e6c733c5",
   "metadata": {
    "execution": {
     "iopub.execute_input": "2025-07-30T14:13:48.891779Z",
     "iopub.status.busy": "2025-07-30T14:13:48.890787Z",
     "iopub.status.idle": "2025-07-30T14:13:48.988741Z",
     "shell.execute_reply": "2025-07-30T14:13:48.987811Z"
    },
    "papermill": {
     "duration": 0.129283,
     "end_time": "2025-07-30T14:13:48.990935",
     "exception": false,
     "start_time": "2025-07-30T14:13:48.861652",
     "status": "completed"
    },
    "tags": []
   },
   "outputs": [],
   "source": [
    "# Auxiliary data needed downstream in the pipeline\n",
    "\n",
    "org_train = X_train.copy()\n",
    "org_test = X_test.copy()\n",
    "org_calib = X_calib.copy()"
   ]
  },
  {
   "cell_type": "code",
   "execution_count": 28,
   "id": "1466abac-c6da-4492-a62f-4240ae3783af",
   "metadata": {
    "execution": {
     "iopub.execute_input": "2025-07-30T14:13:49.049019Z",
     "iopub.status.busy": "2025-07-30T14:13:49.048519Z",
     "iopub.status.idle": "2025-07-30T14:13:49.054819Z",
     "shell.execute_reply": "2025-07-30T14:13:49.053854Z"
    },
    "papermill": {
     "duration": 0.038705,
     "end_time": "2025-07-30T14:13:49.057146",
     "exception": false,
     "start_time": "2025-07-30T14:13:49.018441",
     "status": "completed"
    },
    "tags": []
   },
   "outputs": [],
   "source": [
    "# put in other script?\n",
    "# Group sizes\n",
    "\n",
    "#def calculate_percentages(df, df_name):\n",
    "#    total_entries = len(df)\n",
    "#\n",
    "#    female_pct = (df['frau1'] == 1).mean() * 100\n",
    "#    non_german_pct = ((df['maxdeutsch1'] == 0) & (df['maxdeutsch.Missing.'] == 0)).mean() * 100\n",
    "#    non_german_male_pct = ((df['frau1'] == 0) & (df['maxdeutsch1'] == 0) & (df['maxdeutsch.Missing.'] == 0)).mean() * 100\n",
    "#    non_german_female_pct = ((df['frau1'] == 1) & (df['maxdeutsch1'] == 0) & (df['maxdeutsch.Missing.'] == 0)).mean() * 100\n",
    "#\n",
    "#    print(f\"--- {df_name} ---\")\n",
    "#    print(f\"Female: {female_pct:.2f}%\")\n",
    "#    print(f\"Non-German: {non_german_pct:.2f}%\")\n",
    "#    print(f\"Non-German Male: {non_german_male_pct:.2f}%\")\n",
    "#    print(f\"Non-German Female: {non_german_female_pct:.2f}%\\n\")\n",
    "#\n",
    "## Calculate for each DataFrame\n",
    "#calculate_percentages(siab_calib, \"siab_calib\")\n",
    "#calculate_percentages(siab_test, \"siab_test\")\n",
    "#calculate_percentages(siab_train, \"siab_train\")"
   ]
  },
  {
   "cell_type": "markdown",
   "id": "0a4a1b33",
   "metadata": {
    "papermill": {
     "duration": 0.028073,
     "end_time": "2025-07-30T14:13:49.113869",
     "exception": false,
     "start_time": "2025-07-30T14:13:49.085796",
     "status": "completed"
    },
    "tags": []
   },
   "source": [
    "# Preprocessing Data"
   ]
  },
  {
   "cell_type": "code",
   "execution_count": 29,
   "id": "ca879031",
   "metadata": {
    "execution": {
     "iopub.execute_input": "2025-07-30T14:13:49.171854Z",
     "iopub.status.busy": "2025-07-30T14:13:49.171318Z",
     "iopub.status.idle": "2025-07-30T14:13:49.178196Z",
     "shell.execute_reply": "2025-07-30T14:13:49.176996Z"
    },
    "papermill": {
     "duration": 0.038728,
     "end_time": "2025-07-30T14:13:49.180231",
     "exception": false,
     "start_time": "2025-07-30T14:13:49.141503",
     "status": "completed"
    },
    "tags": []
   },
   "outputs": [],
   "source": [
    "# EXCLUDE PROTECTED FEATURES\n",
    "# ----------------------\n",
    "# \"exclude_features\": \"none\", # \"nationality\", \"sex\", \"nationality-sex\"\n",
    "\n",
    "excluded_features = universe[\"exclude_features\"].split(\"-\") # split, e.g.: \"nationality-sex\" -> [\"nationality\", \"sex\"]\n",
    "excluded_features_dictionary = {\n",
    "    \"nationality\": [\"maxdeutsch1\", \"maxdeutsch.Missing.\"],\n",
    "    \"sex\": [\"frau1\"],\n",
    "    \"age\": [\"age\"],\n",
    "}\n"
   ]
  },
  {
   "cell_type": "code",
   "execution_count": 30,
   "id": "b745ac60",
   "metadata": {
    "execution": {
     "iopub.execute_input": "2025-07-30T14:13:49.239000Z",
     "iopub.status.busy": "2025-07-30T14:13:49.238520Z",
     "iopub.status.idle": "2025-07-30T14:13:49.244335Z",
     "shell.execute_reply": "2025-07-30T14:13:49.243323Z"
    },
    "papermill": {
     "duration": 0.037365,
     "end_time": "2025-07-30T14:13:49.246307",
     "exception": false,
     "start_time": "2025-07-30T14:13:49.208942",
     "status": "completed"
    },
    "tags": []
   },
   "outputs": [],
   "source": [
    "# Code nice names to column names\n",
    "\n",
    "excluded_features_columns = [\n",
    "    excluded_features_dictionary[f] for f in excluded_features if len(f) > 0 and f != \"none\"\n",
    "]"
   ]
  },
  {
   "cell_type": "code",
   "execution_count": 31,
   "id": "f84f73a2",
   "metadata": {
    "execution": {
     "iopub.execute_input": "2025-07-30T14:13:49.299092Z",
     "iopub.status.busy": "2025-07-30T14:13:49.298442Z",
     "iopub.status.idle": "2025-07-30T14:13:49.305151Z",
     "shell.execute_reply": "2025-07-30T14:13:49.304330Z"
    },
    "papermill": {
     "duration": 0.031246,
     "end_time": "2025-07-30T14:13:49.306590",
     "exception": false,
     "start_time": "2025-07-30T14:13:49.275344",
     "status": "completed"
    },
    "tags": []
   },
   "outputs": [],
   "source": [
    "from utils import flatten_once\n",
    "\n",
    "excluded_features_columns = flatten_once(excluded_features_columns)"
   ]
  },
  {
   "cell_type": "code",
   "execution_count": 32,
   "id": "884dea22",
   "metadata": {
    "execution": {
     "iopub.execute_input": "2025-07-30T14:13:49.350252Z",
     "iopub.status.busy": "2025-07-30T14:13:49.349609Z",
     "iopub.status.idle": "2025-07-30T14:13:49.359994Z",
     "shell.execute_reply": "2025-07-30T14:13:49.358603Z"
    },
    "papermill": {
     "duration": 0.034336,
     "end_time": "2025-07-30T14:13:49.362026",
     "exception": false,
     "start_time": "2025-07-30T14:13:49.327690",
     "status": "completed"
    },
    "tags": []
   },
   "outputs": [
    {
     "name": "stdout",
     "output_type": "stream",
     "text": [
      "Dropping features: ['age']\n"
     ]
    }
   ],
   "source": [
    "if len(excluded_features_columns) > 0:\n",
    "    print(f\"Dropping features: {excluded_features_columns}\")\n",
    "    X_train.drop(excluded_features_columns, axis=1, inplace=True)"
   ]
  },
  {
   "cell_type": "code",
   "execution_count": 33,
   "id": "95ab8b16",
   "metadata": {
    "execution": {
     "iopub.execute_input": "2025-07-30T14:13:49.409642Z",
     "iopub.status.busy": "2025-07-30T14:13:49.408707Z",
     "iopub.status.idle": "2025-07-30T14:13:49.461504Z",
     "shell.execute_reply": "2025-07-30T14:13:49.460599Z"
    },
    "papermill": {
     "duration": 0.076808,
     "end_time": "2025-07-30T14:13:49.463061",
     "exception": false,
     "start_time": "2025-07-30T14:13:49.386253",
     "status": "completed"
    },
    "tags": []
   },
   "outputs": [
    {
     "name": "stdout",
     "output_type": "stream",
     "text": [
      "Dropping features: ['age']\n"
     ]
    }
   ],
   "source": [
    "if len(excluded_features_columns) > 0:\n",
    "    print(f\"Dropping features: {excluded_features_columns}\")\n",
    "    X_test.drop(excluded_features_columns, axis=1, inplace=True)"
   ]
  },
  {
   "cell_type": "code",
   "execution_count": 34,
   "id": "1853aaf5-fb9f-46cb-a2b5-8ea4ae2237e4",
   "metadata": {
    "execution": {
     "iopub.execute_input": "2025-07-30T14:13:49.509480Z",
     "iopub.status.busy": "2025-07-30T14:13:49.508826Z",
     "iopub.status.idle": "2025-07-30T14:13:49.559870Z",
     "shell.execute_reply": "2025-07-30T14:13:49.558870Z"
    },
    "papermill": {
     "duration": 0.076584,
     "end_time": "2025-07-30T14:13:49.561744",
     "exception": false,
     "start_time": "2025-07-30T14:13:49.485160",
     "status": "completed"
    },
    "tags": []
   },
   "outputs": [
    {
     "name": "stdout",
     "output_type": "stream",
     "text": [
      "Dropping features: ['age']\n"
     ]
    }
   ],
   "source": [
    "if len(excluded_features_columns) > 0:\n",
    "    print(f\"Dropping features: {excluded_features_columns}\")\n",
    "    X_calib.drop(excluded_features_columns, axis=1, inplace=True)"
   ]
  },
  {
   "cell_type": "code",
   "execution_count": 35,
   "id": "6727d079-03e5-481e-9d38-292a90b7a0a8",
   "metadata": {
    "execution": {
     "iopub.execute_input": "2025-07-30T14:13:49.608503Z",
     "iopub.status.busy": "2025-07-30T14:13:49.607795Z",
     "iopub.status.idle": "2025-07-30T14:13:49.612594Z",
     "shell.execute_reply": "2025-07-30T14:13:49.611715Z"
    },
    "papermill": {
     "duration": 0.030343,
     "end_time": "2025-07-30T14:13:49.614095",
     "exception": false,
     "start_time": "2025-07-30T14:13:49.583752",
     "status": "completed"
    },
    "tags": []
   },
   "outputs": [],
   "source": [
    "# SPLIT & STRATIFY DATA\n",
    "# ----------------------"
   ]
  },
  {
   "cell_type": "code",
   "execution_count": 36,
   "id": "76c4dc6d",
   "metadata": {
    "execution": {
     "iopub.execute_input": "2025-07-30T14:13:49.660858Z",
     "iopub.status.busy": "2025-07-30T14:13:49.660171Z",
     "iopub.status.idle": "2025-07-30T14:13:49.665705Z",
     "shell.execute_reply": "2025-07-30T14:13:49.664744Z"
    },
    "papermill": {
     "duration": 0.03133,
     "end_time": "2025-07-30T14:13:49.667354",
     "exception": false,
     "start_time": "2025-07-30T14:13:49.636024",
     "status": "completed"
    },
    "tags": []
   },
   "outputs": [],
   "source": [
    "# EXCLUDE CERTAIN SUBGROUPS\n",
    "# ----------------------\n",
    "\n",
    "mode = universe.get(\"exclude_subgroups\", \"keep-all\") \n",
    "# Fetches the exclude_subgroups setting from the universe dict.\n",
    "# Defaults to \"keep-all\" if the key is missing."
   ]
  },
  {
   "cell_type": "code",
   "execution_count": 37,
   "id": "21994072",
   "metadata": {
    "execution": {
     "iopub.execute_input": "2025-07-30T14:13:49.714321Z",
     "iopub.status.busy": "2025-07-30T14:13:49.713305Z",
     "iopub.status.idle": "2025-07-30T14:13:49.721432Z",
     "shell.execute_reply": "2025-07-30T14:13:49.720088Z"
    },
    "papermill": {
     "duration": 0.0338,
     "end_time": "2025-07-30T14:13:49.723492",
     "exception": false,
     "start_time": "2025-07-30T14:13:49.689692",
     "status": "completed"
    },
    "tags": []
   },
   "outputs": [],
   "source": [
    "if mode == \"keep-all\":\n",
    "    keep_mask = pd.Series(True, index=org_train.index)\n",
    "\n",
    "# org_train contains the original feature columns from features_org (in Simson)\n",
    "# features_org contains unprocessed features, for me X_train at beginning ???\n",
    "# For keep-all, creates a boolean Series (keep_mask) of all True, so no rows are removed.\n",
    "\n",
    "elif mode == \"drop-non-german\":\n",
    "    keep_mask = org_train[\"maxdeutsch1\"] == 1 # ??? what about missing values?\n",
    "\n",
    "else:\n",
    "    raise ValueError(f\"Unsupported mode for exclude_subgroups: {mode}\")\n"
   ]
  },
  {
   "cell_type": "code",
   "execution_count": 38,
   "id": "71651440",
   "metadata": {
    "execution": {
     "iopub.execute_input": "2025-07-30T14:13:49.771667Z",
     "iopub.status.busy": "2025-07-30T14:13:49.771012Z",
     "iopub.status.idle": "2025-07-30T14:13:49.779397Z",
     "shell.execute_reply": "2025-07-30T14:13:49.778480Z"
    },
    "papermill": {
     "duration": 0.033327,
     "end_time": "2025-07-30T14:13:49.780971",
     "exception": false,
     "start_time": "2025-07-30T14:13:49.747644",
     "status": "completed"
    },
    "tags": []
   },
   "outputs": [
    {
     "name": "stdout",
     "output_type": "stream",
     "text": [
      "Dropping 657 rows (13.14%) where mode='drop-non-german'\n"
     ]
    }
   ],
   "source": [
    "n_drop = (~keep_mask).sum() # Calculates how many rows are set to be dropped\n",
    "if n_drop > 0:\n",
    "    pct = n_drop / len(keep_mask) * 100\n",
    "    print(f\"Dropping {n_drop} rows ({pct:.2f}%) where mode='{mode}'\")"
   ]
  },
  {
   "cell_type": "code",
   "execution_count": 39,
   "id": "5fb8eee5",
   "metadata": {
    "execution": {
     "iopub.execute_input": "2025-07-30T14:13:49.828368Z",
     "iopub.status.busy": "2025-07-30T14:13:49.827698Z",
     "iopub.status.idle": "2025-07-30T14:13:49.835604Z",
     "shell.execute_reply": "2025-07-30T14:13:49.834507Z"
    },
    "papermill": {
     "duration": 0.032991,
     "end_time": "2025-07-30T14:13:49.837475",
     "exception": false,
     "start_time": "2025-07-30T14:13:49.804484",
     "status": "completed"
    },
    "tags": []
   },
   "outputs": [],
   "source": [
    "X_train = X_train[keep_mask]"
   ]
  },
  {
   "cell_type": "code",
   "execution_count": 40,
   "id": "b202bb3a",
   "metadata": {
    "execution": {
     "iopub.execute_input": "2025-07-30T14:13:49.909832Z",
     "iopub.status.busy": "2025-07-30T14:13:49.909440Z",
     "iopub.status.idle": "2025-07-30T14:13:49.915780Z",
     "shell.execute_reply": "2025-07-30T14:13:49.914537Z"
    },
    "papermill": {
     "duration": 0.045302,
     "end_time": "2025-07-30T14:13:49.918247",
     "exception": false,
     "start_time": "2025-07-30T14:13:49.872945",
     "status": "completed"
    },
    "tags": []
   },
   "outputs": [],
   "source": [
    "y_train = y_train[keep_mask]"
   ]
  },
  {
   "cell_type": "markdown",
   "id": "493e2ac3",
   "metadata": {
    "papermill": {
     "duration": 0.035064,
     "end_time": "2025-07-30T14:13:49.987870",
     "exception": false,
     "start_time": "2025-07-30T14:13:49.952806",
     "status": "completed"
    },
    "tags": []
   },
   "source": [
    "# Model Training"
   ]
  },
  {
   "cell_type": "code",
   "execution_count": 41,
   "id": "679e1268",
   "metadata": {
    "execution": {
     "iopub.execute_input": "2025-07-30T14:13:50.061154Z",
     "iopub.status.busy": "2025-07-30T14:13:50.059953Z",
     "iopub.status.idle": "2025-07-30T14:13:50.160905Z",
     "shell.execute_reply": "2025-07-30T14:13:50.159770Z"
    },
    "papermill": {
     "duration": 0.140697,
     "end_time": "2025-07-30T14:13:50.163528",
     "exception": false,
     "start_time": "2025-07-30T14:13:50.022831",
     "status": "completed"
    },
    "tags": []
   },
   "outputs": [],
   "source": [
    "from sklearn.linear_model import LogisticRegression\n",
    "from sklearn.ensemble import GradientBoostingClassifier, RandomForestClassifier\n",
    "\n",
    "if (universe[\"model\"] == \"logreg\"):\n",
    "    model = LogisticRegression() #penalty=\"none\") #, solver=\"newton-cg\", max_iter=1) # include random_state=19 ?\n",
    "elif (universe[\"model\"] == \"penalized_logreg\"):\n",
    "    model = LogisticRegression(penalty=\"l2\", C=1.0) #, solver=\"newton-cg\", max_iter=1)\n",
    "elif (universe[\"model\"] == \"rf\"):\n",
    "    model = RandomForestClassifier(n_estimators=100, n_jobs=-1)\n",
    "elif (universe[\"model\"] == \"gbm\"):\n",
    "    model = GradientBoostingClassifier()\n",
    "elif (universe[\"model\"] == \"elasticnet\"):\n",
    "    model = LogisticRegression(penalty = 'elasticnet', solver = 'saga', l1_ratio = 0.5, max_iter=5000) # which solver to use?\n",
    "else:\n",
    "    raise \"Unsupported universe.model\""
   ]
  },
  {
   "cell_type": "code",
   "execution_count": 42,
   "id": "0cc8f744",
   "metadata": {
    "execution": {
     "iopub.execute_input": "2025-07-30T14:13:50.234651Z",
     "iopub.status.busy": "2025-07-30T14:13:50.233776Z",
     "iopub.status.idle": "2025-07-30T14:13:50.240972Z",
     "shell.execute_reply": "2025-07-30T14:13:50.239791Z"
    },
    "papermill": {
     "duration": 0.044999,
     "end_time": "2025-07-30T14:13:50.243027",
     "exception": false,
     "start_time": "2025-07-30T14:13:50.198028",
     "status": "completed"
    },
    "tags": []
   },
   "outputs": [],
   "source": [
    "import numpy as np\n",
    "from sklearn.pipeline import Pipeline\n",
    "from sklearn.preprocessing import StandardScaler\n",
    "\n",
    "model = Pipeline([\n",
    "    #(\"continuous_processor\", continuous_processor),\n",
    "    #(\"categorical_preprocessor\", categorical_preprocessor),\n",
    "    (\"scale\", StandardScaler() if universe[\"scale\"] == \"scale\" else None), \n",
    "    (\"model\", model),\n",
    "])"
   ]
  },
  {
   "cell_type": "code",
   "execution_count": 43,
   "id": "9442c04d",
   "metadata": {
    "execution": {
     "iopub.execute_input": "2025-07-30T14:13:50.314896Z",
     "iopub.status.busy": "2025-07-30T14:13:50.314089Z",
     "iopub.status.idle": "2025-07-30T14:13:50.439329Z",
     "shell.execute_reply": "2025-07-30T14:13:50.438212Z"
    },
    "papermill": {
     "duration": 0.165504,
     "end_time": "2025-07-30T14:13:50.443256",
     "exception": false,
     "start_time": "2025-07-30T14:13:50.277752",
     "status": "completed"
    },
    "tags": []
   },
   "outputs": [
    {
     "name": "stderr",
     "output_type": "stream",
     "text": [
      "/dss/dsshome1/0C/ra93lal2/.local/share/virtualenvs/CMA_Fairness_v2-3j10GkSs/lib/python3.10/site-packages/sklearn/linear_model/_logistic.py:444: ConvergenceWarning: lbfgs failed to converge (status=1):\n",
      "STOP: TOTAL NO. of ITERATIONS REACHED LIMIT.\n",
      "\n",
      "Increase the number of iterations (max_iter) or scale the data as shown in:\n",
      "    https://scikit-learn.org/stable/modules/preprocessing.html\n",
      "Please also refer to the documentation for alternative solver options:\n",
      "    https://scikit-learn.org/stable/modules/linear_model.html#logistic-regression\n",
      "  n_iter_i = _check_optimize_result(\n"
     ]
    },
    {
     "data": {
      "text/html": [
       "<style>#sk-container-id-1 {color: black;background-color: white;}#sk-container-id-1 pre{padding: 0;}#sk-container-id-1 div.sk-toggleable {background-color: white;}#sk-container-id-1 label.sk-toggleable__label {cursor: pointer;display: block;width: 100%;margin-bottom: 0;padding: 0.3em;box-sizing: border-box;text-align: center;}#sk-container-id-1 label.sk-toggleable__label-arrow:before {content: \"▸\";float: left;margin-right: 0.25em;color: #696969;}#sk-container-id-1 label.sk-toggleable__label-arrow:hover:before {color: black;}#sk-container-id-1 div.sk-estimator:hover label.sk-toggleable__label-arrow:before {color: black;}#sk-container-id-1 div.sk-toggleable__content {max-height: 0;max-width: 0;overflow: hidden;text-align: left;background-color: #f0f8ff;}#sk-container-id-1 div.sk-toggleable__content pre {margin: 0.2em;color: black;border-radius: 0.25em;background-color: #f0f8ff;}#sk-container-id-1 input.sk-toggleable__control:checked~div.sk-toggleable__content {max-height: 200px;max-width: 100%;overflow: auto;}#sk-container-id-1 input.sk-toggleable__control:checked~label.sk-toggleable__label-arrow:before {content: \"▾\";}#sk-container-id-1 div.sk-estimator input.sk-toggleable__control:checked~label.sk-toggleable__label {background-color: #d4ebff;}#sk-container-id-1 div.sk-label input.sk-toggleable__control:checked~label.sk-toggleable__label {background-color: #d4ebff;}#sk-container-id-1 input.sk-hidden--visually {border: 0;clip: rect(1px 1px 1px 1px);clip: rect(1px, 1px, 1px, 1px);height: 1px;margin: -1px;overflow: hidden;padding: 0;position: absolute;width: 1px;}#sk-container-id-1 div.sk-estimator {font-family: monospace;background-color: #f0f8ff;border: 1px dotted black;border-radius: 0.25em;box-sizing: border-box;margin-bottom: 0.5em;}#sk-container-id-1 div.sk-estimator:hover {background-color: #d4ebff;}#sk-container-id-1 div.sk-parallel-item::after {content: \"\";width: 100%;border-bottom: 1px solid gray;flex-grow: 1;}#sk-container-id-1 div.sk-label:hover label.sk-toggleable__label {background-color: #d4ebff;}#sk-container-id-1 div.sk-serial::before {content: \"\";position: absolute;border-left: 1px solid gray;box-sizing: border-box;top: 0;bottom: 0;left: 50%;z-index: 0;}#sk-container-id-1 div.sk-serial {display: flex;flex-direction: column;align-items: center;background-color: white;padding-right: 0.2em;padding-left: 0.2em;position: relative;}#sk-container-id-1 div.sk-item {position: relative;z-index: 1;}#sk-container-id-1 div.sk-parallel {display: flex;align-items: stretch;justify-content: center;background-color: white;position: relative;}#sk-container-id-1 div.sk-item::before, #sk-container-id-1 div.sk-parallel-item::before {content: \"\";position: absolute;border-left: 1px solid gray;box-sizing: border-box;top: 0;bottom: 0;left: 50%;z-index: -1;}#sk-container-id-1 div.sk-parallel-item {display: flex;flex-direction: column;z-index: 1;position: relative;background-color: white;}#sk-container-id-1 div.sk-parallel-item:first-child::after {align-self: flex-end;width: 50%;}#sk-container-id-1 div.sk-parallel-item:last-child::after {align-self: flex-start;width: 50%;}#sk-container-id-1 div.sk-parallel-item:only-child::after {width: 0;}#sk-container-id-1 div.sk-dashed-wrapped {border: 1px dashed gray;margin: 0 0.4em 0.5em 0.4em;box-sizing: border-box;padding-bottom: 0.4em;background-color: white;}#sk-container-id-1 div.sk-label label {font-family: monospace;font-weight: bold;display: inline-block;line-height: 1.2em;}#sk-container-id-1 div.sk-label-container {text-align: center;}#sk-container-id-1 div.sk-container {/* jupyter's `normalize.less` sets `[hidden] { display: none; }` but bootstrap.min.css set `[hidden] { display: none !important; }` so we also need the `!important` here to be able to override the default hidden behavior on the sphinx rendered scikit-learn.org. See: https://github.com/scikit-learn/scikit-learn/issues/21755 */display: inline-block !important;position: relative;}#sk-container-id-1 div.sk-text-repr-fallback {display: none;}</style><div id=\"sk-container-id-1\" class=\"sk-top-container\"><div class=\"sk-text-repr-fallback\"><pre>Pipeline(steps=[(&#x27;scale&#x27;, None), (&#x27;model&#x27;, LogisticRegression())])</pre><b>In a Jupyter environment, please rerun this cell to show the HTML representation or trust the notebook. <br />On GitHub, the HTML representation is unable to render, please try loading this page with nbviewer.org.</b></div><div class=\"sk-container\" hidden><div class=\"sk-item sk-dashed-wrapped\"><div class=\"sk-label-container\"><div class=\"sk-label sk-toggleable\"><input class=\"sk-toggleable__control sk-hidden--visually\" id=\"sk-estimator-id-1\" type=\"checkbox\" ><label for=\"sk-estimator-id-1\" class=\"sk-toggleable__label sk-toggleable__label-arrow\">Pipeline</label><div class=\"sk-toggleable__content\"><pre>Pipeline(steps=[(&#x27;scale&#x27;, None), (&#x27;model&#x27;, LogisticRegression())])</pre></div></div></div><div class=\"sk-serial\"><div class=\"sk-item\"><div class=\"sk-estimator sk-toggleable\"><input class=\"sk-toggleable__control sk-hidden--visually\" id=\"sk-estimator-id-2\" type=\"checkbox\" ><label for=\"sk-estimator-id-2\" class=\"sk-toggleable__label sk-toggleable__label-arrow\">None</label><div class=\"sk-toggleable__content\"><pre>None</pre></div></div></div><div class=\"sk-item\"><div class=\"sk-estimator sk-toggleable\"><input class=\"sk-toggleable__control sk-hidden--visually\" id=\"sk-estimator-id-3\" type=\"checkbox\" ><label for=\"sk-estimator-id-3\" class=\"sk-toggleable__label sk-toggleable__label-arrow\">LogisticRegression</label><div class=\"sk-toggleable__content\"><pre>LogisticRegression()</pre></div></div></div></div></div></div></div>"
      ],
      "text/plain": [
       "Pipeline(steps=[('scale', None), ('model', LogisticRegression())])"
      ]
     },
     "execution_count": 43,
     "metadata": {},
     "output_type": "execute_result"
    }
   ],
   "source": [
    "model.fit(X_train, y_train.values.ravel())"
   ]
  },
  {
   "cell_type": "code",
   "execution_count": 44,
   "id": "af59f8c0",
   "metadata": {
    "execution": {
     "iopub.execute_input": "2025-07-30T14:13:50.513953Z",
     "iopub.status.busy": "2025-07-30T14:13:50.513310Z",
     "iopub.status.idle": "2025-07-30T14:13:50.519137Z",
     "shell.execute_reply": "2025-07-30T14:13:50.518235Z"
    },
    "papermill": {
     "duration": 0.042595,
     "end_time": "2025-07-30T14:13:50.520793",
     "exception": false,
     "start_time": "2025-07-30T14:13:50.478198",
     "status": "completed"
    },
    "tags": []
   },
   "outputs": [],
   "source": [
    "from fairness_multiverse.universe import predict_w_threshold"
   ]
  },
  {
   "cell_type": "code",
   "execution_count": 45,
   "id": "a7cf2e16",
   "metadata": {
    "execution": {
     "iopub.execute_input": "2025-07-30T14:13:50.565230Z",
     "iopub.status.busy": "2025-07-30T14:13:50.564802Z",
     "iopub.status.idle": "2025-07-30T14:13:50.660110Z",
     "shell.execute_reply": "2025-07-30T14:13:50.659195Z"
    },
    "papermill": {
     "duration": 0.118455,
     "end_time": "2025-07-30T14:13:50.661925",
     "exception": false,
     "start_time": "2025-07-30T14:13:50.543470",
     "status": "completed"
    },
    "tags": []
   },
   "outputs": [
    {
     "data": {
      "text/plain": [
       "0.8590012261732248"
      ]
     },
     "execution_count": 45,
     "metadata": {},
     "output_type": "execute_result"
    }
   ],
   "source": [
    "probs_test = model.predict_proba(X_test)\n",
    "\n",
    "'''\n",
    "Below code returns a boolean array (or binary 0/1 array depending on how it’s used) where each element \n",
    "is True if the probability of class 1 is greater than or equal to the threshold, and False otherwise.\n",
    "'''\n",
    "y_pred_default = predict_w_threshold(probs_test, 0.5)\n",
    "\n",
    "from sklearn.metrics import accuracy_score\n",
    "\n",
    "# Naive prediction\n",
    "accuracy_score(y_true = y_true, y_pred = y_pred_default)"
   ]
  },
  {
   "cell_type": "code",
   "execution_count": 46,
   "id": "081964c3",
   "metadata": {
    "execution": {
     "iopub.execute_input": "2025-07-30T14:13:50.712348Z",
     "iopub.status.busy": "2025-07-30T14:13:50.711494Z",
     "iopub.status.idle": "2025-07-30T14:13:50.795799Z",
     "shell.execute_reply": "2025-07-30T14:13:50.794854Z"
    },
    "papermill": {
     "duration": 0.110157,
     "end_time": "2025-07-30T14:13:50.797843",
     "exception": false,
     "start_time": "2025-07-30T14:13:50.687686",
     "status": "completed"
    },
    "tags": []
   },
   "outputs": [
    {
     "data": {
      "text/plain": [
       "array([0, 0, 0, ..., 0, 0, 0])"
      ]
     },
     "execution_count": 46,
     "metadata": {},
     "output_type": "execute_result"
    }
   ],
   "source": [
    "model.predict(X_test)"
   ]
  },
  {
   "cell_type": "markdown",
   "id": "56c9705b",
   "metadata": {
    "papermill": {
     "duration": 0.022817,
     "end_time": "2025-07-30T14:13:50.843812",
     "exception": false,
     "start_time": "2025-07-30T14:13:50.820995",
     "status": "completed"
    },
    "tags": []
   },
   "source": [
    "# Conformal Prediction"
   ]
  },
  {
   "cell_type": "code",
   "execution_count": 47,
   "id": "160ec6ff",
   "metadata": {
    "execution": {
     "iopub.execute_input": "2025-07-30T14:13:50.893220Z",
     "iopub.status.busy": "2025-07-30T14:13:50.892146Z",
     "iopub.status.idle": "2025-07-30T14:13:50.898382Z",
     "shell.execute_reply": "2025-07-30T14:13:50.897208Z"
    },
    "papermill": {
     "duration": 0.03369,
     "end_time": "2025-07-30T14:13:50.900203",
     "exception": false,
     "start_time": "2025-07-30T14:13:50.866513",
     "status": "completed"
    },
    "tags": []
   },
   "outputs": [],
   "source": [
    "# Miscoverage level for conformal prediction (10% allowed error rate => 90% target coverage)\n",
    "alpha = 0.1"
   ]
  },
  {
   "cell_type": "code",
   "execution_count": 48,
   "id": "eadf4555-3dd3-440e-8e35-f82a4ad9f855",
   "metadata": {
    "execution": {
     "iopub.execute_input": "2025-07-30T14:13:50.950203Z",
     "iopub.status.busy": "2025-07-30T14:13:50.949607Z",
     "iopub.status.idle": "2025-07-30T14:13:51.065070Z",
     "shell.execute_reply": "2025-07-30T14:13:51.064012Z"
    },
    "papermill": {
     "duration": 0.143093,
     "end_time": "2025-07-30T14:13:51.066928",
     "exception": false,
     "start_time": "2025-07-30T14:13:50.923835",
     "status": "completed"
    },
    "tags": []
   },
   "outputs": [],
   "source": [
    "probs_calib = model.predict_proba(X_calib)"
   ]
  },
  {
   "cell_type": "code",
   "execution_count": 49,
   "id": "2ed93547-6d5d-4983-9b36-1ecb300da49a",
   "metadata": {
    "execution": {
     "iopub.execute_input": "2025-07-30T14:13:51.117442Z",
     "iopub.status.busy": "2025-07-30T14:13:51.116777Z",
     "iopub.status.idle": "2025-07-30T14:13:51.123428Z",
     "shell.execute_reply": "2025-07-30T14:13:51.122306Z"
    },
    "papermill": {
     "duration": 0.034672,
     "end_time": "2025-07-30T14:13:51.125108",
     "exception": false,
     "start_time": "2025-07-30T14:13:51.090436",
     "status": "completed"
    },
    "tags": []
   },
   "outputs": [],
   "source": [
    "y_calib = y_calib.values.ravel().astype(int)"
   ]
  },
  {
   "cell_type": "code",
   "execution_count": 50,
   "id": "65d1320d-f588-4b38-9072-62af1ae97f7d",
   "metadata": {
    "execution": {
     "iopub.execute_input": "2025-07-30T14:13:51.174805Z",
     "iopub.status.busy": "2025-07-30T14:13:51.174008Z",
     "iopub.status.idle": "2025-07-30T14:13:51.184483Z",
     "shell.execute_reply": "2025-07-30T14:13:51.183230Z"
    },
    "papermill": {
     "duration": 0.037444,
     "end_time": "2025-07-30T14:13:51.186554",
     "exception": false,
     "start_time": "2025-07-30T14:13:51.149110",
     "status": "completed"
    },
    "tags": []
   },
   "outputs": [],
   "source": [
    "from fairness_multiverse.conformal import compute_nc_scores\n",
    "\n",
    "# Compute nonconformity scores on calibration set (1 - probability of true class)\n",
    "nc_scores = compute_nc_scores(probs_calib, y_calib)"
   ]
  },
  {
   "cell_type": "code",
   "execution_count": 51,
   "id": "df3b8ca3-53b7-43d5-9667-7c85da7aeda2",
   "metadata": {
    "execution": {
     "iopub.execute_input": "2025-07-30T14:13:51.237239Z",
     "iopub.status.busy": "2025-07-30T14:13:51.236203Z",
     "iopub.status.idle": "2025-07-30T14:13:51.244307Z",
     "shell.execute_reply": "2025-07-30T14:13:51.243070Z"
    },
    "papermill": {
     "duration": 0.035393,
     "end_time": "2025-07-30T14:13:51.246052",
     "exception": false,
     "start_time": "2025-07-30T14:13:51.210659",
     "status": "completed"
    },
    "tags": []
   },
   "outputs": [],
   "source": [
    "from fairness_multiverse.conformal import find_threshold\n",
    "\n",
    "# Find conformal threshold q_hat for the given alpha (split conformal method)\n",
    "q_hat = find_threshold(nc_scores, alpha)"
   ]
  },
  {
   "cell_type": "code",
   "execution_count": 52,
   "id": "4d29e6c1-0ef6-4aa4-b8fe-4fe79b0d033a",
   "metadata": {
    "execution": {
     "iopub.execute_input": "2025-07-30T14:13:51.309683Z",
     "iopub.status.busy": "2025-07-30T14:13:51.309119Z",
     "iopub.status.idle": "2025-07-30T14:13:51.316117Z",
     "shell.execute_reply": "2025-07-30T14:13:51.315141Z"
    },
    "papermill": {
     "duration": 0.047053,
     "end_time": "2025-07-30T14:13:51.317737",
     "exception": false,
     "start_time": "2025-07-30T14:13:51.270684",
     "status": "completed"
    },
    "tags": []
   },
   "outputs": [
    {
     "data": {
      "text/plain": [
       "0.6732728601597613"
      ]
     },
     "execution_count": 52,
     "metadata": {},
     "output_type": "execute_result"
    }
   ],
   "source": [
    "q_hat"
   ]
  },
  {
   "cell_type": "code",
   "execution_count": 53,
   "id": "92460794-cdac-4be2-ba28-f28c0515a6fb",
   "metadata": {
    "execution": {
     "iopub.execute_input": "2025-07-30T14:13:51.369148Z",
     "iopub.status.busy": "2025-07-30T14:13:51.368305Z",
     "iopub.status.idle": "2025-07-30T14:13:52.209610Z",
     "shell.execute_reply": "2025-07-30T14:13:52.208599Z"
    },
    "papermill": {
     "duration": 0.869327,
     "end_time": "2025-07-30T14:13:52.211495",
     "exception": false,
     "start_time": "2025-07-30T14:13:51.342168",
     "status": "completed"
    },
    "tags": []
   },
   "outputs": [],
   "source": [
    "from fairness_multiverse.conformal import predict_conformal_sets\n",
    "\n",
    "# Generate prediction sets for each test example\n",
    "pred_sets = predict_conformal_sets(model, X_test, q_hat)"
   ]
  },
  {
   "cell_type": "code",
   "execution_count": 54,
   "id": "d90c9a65-e6db-4f5d-80cd-e68fb7e46829",
   "metadata": {
    "execution": {
     "iopub.execute_input": "2025-07-30T14:13:52.278339Z",
     "iopub.status.busy": "2025-07-30T14:13:52.277654Z",
     "iopub.status.idle": "2025-07-30T14:13:52.283522Z",
     "shell.execute_reply": "2025-07-30T14:13:52.282550Z"
    },
    "papermill": {
     "duration": 0.033321,
     "end_time": "2025-07-30T14:13:52.285207",
     "exception": false,
     "start_time": "2025-07-30T14:13:52.251886",
     "status": "completed"
    },
    "tags": []
   },
   "outputs": [],
   "source": [
    "y_true = y_true.squeeze()"
   ]
  },
  {
   "cell_type": "code",
   "execution_count": 55,
   "id": "3a58a54a-1e68-46b9-927a-df01f18aebc8",
   "metadata": {
    "execution": {
     "iopub.execute_input": "2025-07-30T14:13:52.335805Z",
     "iopub.status.busy": "2025-07-30T14:13:52.335018Z",
     "iopub.status.idle": "2025-07-30T14:13:53.270445Z",
     "shell.execute_reply": "2025-07-30T14:13:53.269576Z"
    },
    "papermill": {
     "duration": 0.962262,
     "end_time": "2025-07-30T14:13:53.272274",
     "exception": false,
     "start_time": "2025-07-30T14:13:52.310012",
     "status": "completed"
    },
    "tags": []
   },
   "outputs": [],
   "source": [
    "from fairness_multiverse.conformal import evaluate_sets\n",
    "\n",
    "# Evaluate coverage and average set size on test data\n",
    "metrics = evaluate_sets(pred_sets, y_true)"
   ]
  },
  {
   "cell_type": "markdown",
   "id": "2b569c12-9aaa-4c88-98c9-bbcd0cf3ebb8",
   "metadata": {
    "papermill": {
     "duration": 0.026317,
     "end_time": "2025-07-30T14:13:53.325016",
     "exception": false,
     "start_time": "2025-07-30T14:13:53.298699",
     "status": "completed"
    },
    "tags": []
   },
   "source": [
    "# CP Metrics"
   ]
  },
  {
   "cell_type": "code",
   "execution_count": 56,
   "id": "5ce0a5cb-201f-45a0-ade5-94c7f0bd6095",
   "metadata": {
    "execution": {
     "iopub.execute_input": "2025-07-30T14:13:53.376310Z",
     "iopub.status.busy": "2025-07-30T14:13:53.375815Z",
     "iopub.status.idle": "2025-07-30T14:13:53.384104Z",
     "shell.execute_reply": "2025-07-30T14:13:53.383175Z"
    },
    "papermill": {
     "duration": 0.036931,
     "end_time": "2025-07-30T14:13:53.385618",
     "exception": false,
     "start_time": "2025-07-30T14:13:53.348687",
     "status": "completed"
    },
    "tags": []
   },
   "outputs": [
    {
     "data": {
      "text/plain": [
       "{'coverage': 0.9141232861442425, 'avg_size': 1.2545535614758667}"
      ]
     },
     "execution_count": 56,
     "metadata": {},
     "output_type": "execute_result"
    }
   ],
   "source": [
    "metrics"
   ]
  },
  {
   "cell_type": "code",
   "execution_count": 57,
   "id": "9b9a838d-31c9-430b-ae14-12baee460d17",
   "metadata": {
    "execution": {
     "iopub.execute_input": "2025-07-30T14:13:53.436842Z",
     "iopub.status.busy": "2025-07-30T14:13:53.436465Z",
     "iopub.status.idle": "2025-07-30T14:13:53.442605Z",
     "shell.execute_reply": "2025-07-30T14:13:53.441691Z"
    },
    "papermill": {
     "duration": 0.032999,
     "end_time": "2025-07-30T14:13:53.444114",
     "exception": false,
     "start_time": "2025-07-30T14:13:53.411115",
     "status": "completed"
    },
    "tags": []
   },
   "outputs": [],
   "source": [
    "example_universe = universe.copy()\n",
    "universe_training_size = example_universe.get(\"training_size\")\n",
    "universe_scale = example_universe.get(\"scale\")\n",
    "universe_model = example_universe.get(\"model\")\n",
    "universe_exclude_features = example_universe.get(\"exclude_features\")\n",
    "universe_exclude_subgroups = example_universe.get(\"exclude_subgroups\")"
   ]
  },
  {
   "cell_type": "code",
   "execution_count": 58,
   "id": "f4b6a8ac-9dc0-4245-8a91-5b3b5999c4f9",
   "metadata": {
    "execution": {
     "iopub.execute_input": "2025-07-30T14:13:53.496500Z",
     "iopub.status.busy": "2025-07-30T14:13:53.495972Z",
     "iopub.status.idle": "2025-07-30T14:13:53.502955Z",
     "shell.execute_reply": "2025-07-30T14:13:53.501862Z"
    },
    "papermill": {
     "duration": 0.03515,
     "end_time": "2025-07-30T14:13:53.504783",
     "exception": false,
     "start_time": "2025-07-30T14:13:53.469633",
     "status": "completed"
    },
    "tags": []
   },
   "outputs": [],
   "source": [
    "cp_metrics_dict = {\n",
    "    \"universe_id\": [universe_id],\n",
    "    \"universe_training_size\": [universe_training_size],\n",
    "    \"universe_scale\": [universe_scale],\n",
    "    \"universe_model\": [universe_model],\n",
    "    \"universe_exclude_features\": [universe_exclude_features],\n",
    "    \"universe_exclude_subgroups\": [universe_exclude_subgroups],\n",
    "    \"q_hat\": [q_hat],\n",
    "    \"coverage\": [metrics[\"coverage\"]],\n",
    "    \"avg_size\": [metrics[\"avg_size\"]],\n",
    "}"
   ]
  },
  {
   "cell_type": "code",
   "execution_count": 59,
   "id": "908acbb1-0371-4915-85ca-3fa520d2efe2",
   "metadata": {
    "execution": {
     "iopub.execute_input": "2025-07-30T14:13:53.553791Z",
     "iopub.status.busy": "2025-07-30T14:13:53.553382Z",
     "iopub.status.idle": "2025-07-30T14:13:53.560406Z",
     "shell.execute_reply": "2025-07-30T14:13:53.559540Z"
    },
    "papermill": {
     "duration": 0.032707,
     "end_time": "2025-07-30T14:13:53.561917",
     "exception": false,
     "start_time": "2025-07-30T14:13:53.529210",
     "status": "completed"
    },
    "tags": []
   },
   "outputs": [
    {
     "data": {
      "text/plain": [
       "{'universe_id': ['eccb431de479919218ccaf82ad151388'],\n",
       " 'universe_training_size': ['5k'],\n",
       " 'universe_scale': ['do-not-scale'],\n",
       " 'universe_model': ['penalized_logreg'],\n",
       " 'universe_exclude_features': ['age'],\n",
       " 'universe_exclude_subgroups': ['drop-non-german'],\n",
       " 'q_hat': [0.6732728601597613],\n",
       " 'coverage': [0.9141232861442425],\n",
       " 'avg_size': [1.2545535614758667]}"
      ]
     },
     "execution_count": 59,
     "metadata": {},
     "output_type": "execute_result"
    }
   ],
   "source": [
    "cp_metrics_dict"
   ]
  },
  {
   "cell_type": "code",
   "execution_count": 60,
   "id": "33007efc-14e9-4ec6-97ac-56a455c82265",
   "metadata": {
    "execution": {
     "iopub.execute_input": "2025-07-30T14:13:53.614412Z",
     "iopub.status.busy": "2025-07-30T14:13:53.613539Z",
     "iopub.status.idle": "2025-07-30T14:13:53.619551Z",
     "shell.execute_reply": "2025-07-30T14:13:53.618683Z"
    },
    "papermill": {
     "duration": 0.034699,
     "end_time": "2025-07-30T14:13:53.621129",
     "exception": false,
     "start_time": "2025-07-30T14:13:53.586430",
     "status": "completed"
    },
    "tags": []
   },
   "outputs": [],
   "source": [
    "cp_metrics_df = pd.DataFrame(cp_metrics_dict)"
   ]
  },
  {
   "cell_type": "code",
   "execution_count": 61,
   "id": "db12611b-57b2-4910-b9d0-355adfd6e7bf",
   "metadata": {
    "execution": {
     "iopub.execute_input": "2025-07-30T14:13:53.672672Z",
     "iopub.status.busy": "2025-07-30T14:13:53.672237Z",
     "iopub.status.idle": "2025-07-30T14:13:53.688934Z",
     "shell.execute_reply": "2025-07-30T14:13:53.688101Z"
    },
    "papermill": {
     "duration": 0.044735,
     "end_time": "2025-07-30T14:13:53.690524",
     "exception": false,
     "start_time": "2025-07-30T14:13:53.645789",
     "status": "completed"
    },
    "tags": []
   },
   "outputs": [
    {
     "data": {
      "text/html": [
       "<div>\n",
       "<style scoped>\n",
       "    .dataframe tbody tr th:only-of-type {\n",
       "        vertical-align: middle;\n",
       "    }\n",
       "\n",
       "    .dataframe tbody tr th {\n",
       "        vertical-align: top;\n",
       "    }\n",
       "\n",
       "    .dataframe thead th {\n",
       "        text-align: right;\n",
       "    }\n",
       "</style>\n",
       "<table border=\"1\" class=\"dataframe\">\n",
       "  <thead>\n",
       "    <tr style=\"text-align: right;\">\n",
       "      <th></th>\n",
       "      <th>universe_id</th>\n",
       "      <th>universe_training_size</th>\n",
       "      <th>universe_scale</th>\n",
       "      <th>universe_model</th>\n",
       "      <th>universe_exclude_features</th>\n",
       "      <th>universe_exclude_subgroups</th>\n",
       "      <th>q_hat</th>\n",
       "      <th>coverage</th>\n",
       "      <th>avg_size</th>\n",
       "    </tr>\n",
       "  </thead>\n",
       "  <tbody>\n",
       "    <tr>\n",
       "      <th>0</th>\n",
       "      <td>eccb431de479919218ccaf82ad151388</td>\n",
       "      <td>5k</td>\n",
       "      <td>do-not-scale</td>\n",
       "      <td>penalized_logreg</td>\n",
       "      <td>age</td>\n",
       "      <td>drop-non-german</td>\n",
       "      <td>0.673273</td>\n",
       "      <td>0.914123</td>\n",
       "      <td>1.254554</td>\n",
       "    </tr>\n",
       "  </tbody>\n",
       "</table>\n",
       "</div>"
      ],
      "text/plain": [
       "                        universe_id universe_training_size universe_scale  \\\n",
       "0  eccb431de479919218ccaf82ad151388                     5k   do-not-scale   \n",
       "\n",
       "     universe_model universe_exclude_features universe_exclude_subgroups  \\\n",
       "0  penalized_logreg                       age            drop-non-german   \n",
       "\n",
       "      q_hat  coverage  avg_size  \n",
       "0  0.673273  0.914123  1.254554  "
      ]
     },
     "execution_count": 61,
     "metadata": {},
     "output_type": "execute_result"
    }
   ],
   "source": [
    "cp_metrics_df"
   ]
  },
  {
   "cell_type": "code",
   "execution_count": 62,
   "id": "b7fbde55-a0a1-47e4-9af6-fe4a17fa8c61",
   "metadata": {
    "execution": {
     "iopub.execute_input": "2025-07-30T14:13:53.743152Z",
     "iopub.status.busy": "2025-07-30T14:13:53.742443Z",
     "iopub.status.idle": "2025-07-30T14:13:53.748336Z",
     "shell.execute_reply": "2025-07-30T14:13:53.747373Z"
    },
    "papermill": {
     "duration": 0.032684,
     "end_time": "2025-07-30T14:13:53.750466",
     "exception": false,
     "start_time": "2025-07-30T14:13:53.717782",
     "status": "completed"
    },
    "tags": []
   },
   "outputs": [],
   "source": [
    "# Conditional Coverage & looking at subgroups"
   ]
  },
  {
   "cell_type": "code",
   "execution_count": 63,
   "id": "027ae886-68dd-4141-96c7-805a5450e1ef",
   "metadata": {
    "execution": {
     "iopub.execute_input": "2025-07-30T14:13:53.809390Z",
     "iopub.status.busy": "2025-07-30T14:13:53.808680Z",
     "iopub.status.idle": "2025-07-30T14:13:54.080458Z",
     "shell.execute_reply": "2025-07-30T14:13:54.079334Z"
    },
    "papermill": {
     "duration": 0.31109,
     "end_time": "2025-07-30T14:13:54.089255",
     "exception": false,
     "start_time": "2025-07-30T14:13:53.778165",
     "status": "completed"
    },
    "tags": []
   },
   "outputs": [],
   "source": [
    "from fairness_multiverse.conformal import build_cp_groups\n",
    "\n",
    "cp_groups_df = build_cp_groups(pred_sets, y_true, X_test.index, org_test)\n",
    "#needs universe_id and setting"
   ]
  },
  {
   "cell_type": "code",
   "execution_count": 64,
   "id": "01d5802c-663a-4d1f-9d69-e036faaffbf7",
   "metadata": {
    "execution": {
     "iopub.execute_input": "2025-07-30T14:13:54.148378Z",
     "iopub.status.busy": "2025-07-30T14:13:54.147889Z",
     "iopub.status.idle": "2025-07-30T14:13:54.153330Z",
     "shell.execute_reply": "2025-07-30T14:13:54.152177Z"
    },
    "papermill": {
     "duration": 0.039052,
     "end_time": "2025-07-30T14:13:54.157158",
     "exception": false,
     "start_time": "2025-07-30T14:13:54.118106",
     "status": "completed"
    },
    "tags": []
   },
   "outputs": [],
   "source": [
    "#delete\n",
    "#cp_groups_df"
   ]
  },
  {
   "cell_type": "code",
   "execution_count": 65,
   "id": "fa424af1-d1eb-443d-b717-2d279ada8408",
   "metadata": {
    "execution": {
     "iopub.execute_input": "2025-07-30T14:13:54.212062Z",
     "iopub.status.busy": "2025-07-30T14:13:54.211779Z",
     "iopub.status.idle": "2025-07-30T14:13:54.216133Z",
     "shell.execute_reply": "2025-07-30T14:13:54.215197Z"
    },
    "papermill": {
     "duration": 0.032878,
     "end_time": "2025-07-30T14:13:54.217961",
     "exception": false,
     "start_time": "2025-07-30T14:13:54.185083",
     "status": "completed"
    },
    "tags": []
   },
   "outputs": [],
   "source": [
    "#delete\n",
    "#percentage = (cp_groups_df['nongerman_female'] == 1).mean() * 100\n",
    "#print(percentage)\n"
   ]
  },
  {
   "cell_type": "code",
   "execution_count": 66,
   "id": "6cbdab96-b2b2-45af-ad54-d0516db2e28d",
   "metadata": {
    "execution": {
     "iopub.execute_input": "2025-07-30T14:13:54.266505Z",
     "iopub.status.busy": "2025-07-30T14:13:54.266162Z",
     "iopub.status.idle": "2025-07-30T14:13:55.889177Z",
     "shell.execute_reply": "2025-07-30T14:13:55.888090Z"
    },
    "papermill": {
     "duration": 1.647674,
     "end_time": "2025-07-30T14:13:55.891153",
     "exception": false,
     "start_time": "2025-07-30T14:13:54.243479",
     "status": "completed"
    },
    "tags": []
   },
   "outputs": [],
   "source": [
    "# Define covered = 1 if true_label is in the predicted set\n",
    "cp_groups_df['covered'] = cp_groups_df.apply(\n",
    "    lambda r: int(r['true_label'] in r['pred_set']),\n",
    "    axis=1\n",
    ")"
   ]
  },
  {
   "cell_type": "code",
   "execution_count": 67,
   "id": "338ff529-1a6b-4b87-a931-8e4788d52aad",
   "metadata": {
    "execution": {
     "iopub.execute_input": "2025-07-30T14:13:55.967571Z",
     "iopub.status.busy": "2025-07-30T14:13:55.967179Z",
     "iopub.status.idle": "2025-07-30T14:13:55.971856Z",
     "shell.execute_reply": "2025-07-30T14:13:55.970972Z"
    },
    "papermill": {
     "duration": 0.034681,
     "end_time": "2025-07-30T14:13:55.973623",
     "exception": false,
     "start_time": "2025-07-30T14:13:55.938942",
     "status": "completed"
    },
    "tags": []
   },
   "outputs": [],
   "source": [
    "#cp_groups_df"
   ]
  },
  {
   "cell_type": "code",
   "execution_count": 68,
   "id": "90032e27-66df-4540-9169-4e89cfbaa758",
   "metadata": {
    "execution": {
     "iopub.execute_input": "2025-07-30T14:13:56.023889Z",
     "iopub.status.busy": "2025-07-30T14:13:56.023366Z",
     "iopub.status.idle": "2025-07-30T14:13:56.036732Z",
     "shell.execute_reply": "2025-07-30T14:13:56.035593Z"
    },
    "papermill": {
     "duration": 0.039909,
     "end_time": "2025-07-30T14:13:56.039442",
     "exception": false,
     "start_time": "2025-07-30T14:13:55.999533",
     "status": "completed"
    },
    "tags": []
   },
   "outputs": [],
   "source": [
    "subgroups = ['frau1','nongerman','nongerman_male','nongerman_female']\n",
    "\n",
    "# Conditional coverage for subgroup==1\n",
    "cond_coverage = {\n",
    "    g: cp_groups_df.loc[cp_groups_df[g]==1, 'covered'].mean()\n",
    "    for g in subgroups\n",
    "}"
   ]
  },
  {
   "cell_type": "code",
   "execution_count": 69,
   "id": "1e348fb1-b9c3-45bc-ba23-f016827a7e0d",
   "metadata": {
    "execution": {
     "iopub.execute_input": "2025-07-30T14:13:56.111734Z",
     "iopub.status.busy": "2025-07-30T14:13:56.111336Z",
     "iopub.status.idle": "2025-07-30T14:13:56.118315Z",
     "shell.execute_reply": "2025-07-30T14:13:56.117322Z"
    },
    "papermill": {
     "duration": 0.043239,
     "end_time": "2025-07-30T14:13:56.120053",
     "exception": false,
     "start_time": "2025-07-30T14:13:56.076814",
     "status": "completed"
    },
    "tags": []
   },
   "outputs": [
    {
     "data": {
      "text/plain": [
       "{'frau1': 0.9147324437255695,\n",
       " 'nongerman': 0.9659237635434795,\n",
       " 'nongerman_male': 0.9699180401693236,\n",
       " 'nongerman_female': 0.9593144560357675}"
      ]
     },
     "execution_count": 69,
     "metadata": {},
     "output_type": "execute_result"
    }
   ],
   "source": [
    "cond_coverage"
   ]
  },
  {
   "cell_type": "code",
   "execution_count": 70,
   "id": "f5093324-c3dd-4d63-bc4c-8d945e5c8bbb",
   "metadata": {
    "execution": {
     "iopub.execute_input": "2025-07-30T14:13:56.177595Z",
     "iopub.status.busy": "2025-07-30T14:13:56.177202Z",
     "iopub.status.idle": "2025-07-30T14:13:56.184325Z",
     "shell.execute_reply": "2025-07-30T14:13:56.183258Z"
    },
    "papermill": {
     "duration": 0.039911,
     "end_time": "2025-07-30T14:13:56.187365",
     "exception": false,
     "start_time": "2025-07-30T14:13:56.147454",
     "status": "completed"
    },
    "tags": []
   },
   "outputs": [],
   "source": [
    "for subgroup, cov in cond_coverage.items():\n",
    "    cp_metrics_df[f\"cov_{subgroup}\"] = cov"
   ]
  },
  {
   "cell_type": "code",
   "execution_count": 71,
   "id": "6e872e10-dbe5-49e8-b554-5030c98ff75d",
   "metadata": {
    "execution": {
     "iopub.execute_input": "2025-07-30T14:13:56.257383Z",
     "iopub.status.busy": "2025-07-30T14:13:56.256913Z",
     "iopub.status.idle": "2025-07-30T14:13:56.278838Z",
     "shell.execute_reply": "2025-07-30T14:13:56.277780Z"
    },
    "papermill": {
     "duration": 0.066623,
     "end_time": "2025-07-30T14:13:56.280922",
     "exception": false,
     "start_time": "2025-07-30T14:13:56.214299",
     "status": "completed"
    },
    "tags": []
   },
   "outputs": [
    {
     "data": {
      "text/html": [
       "<div>\n",
       "<style scoped>\n",
       "    .dataframe tbody tr th:only-of-type {\n",
       "        vertical-align: middle;\n",
       "    }\n",
       "\n",
       "    .dataframe tbody tr th {\n",
       "        vertical-align: top;\n",
       "    }\n",
       "\n",
       "    .dataframe thead th {\n",
       "        text-align: right;\n",
       "    }\n",
       "</style>\n",
       "<table border=\"1\" class=\"dataframe\">\n",
       "  <thead>\n",
       "    <tr style=\"text-align: right;\">\n",
       "      <th></th>\n",
       "      <th>universe_id</th>\n",
       "      <th>universe_training_size</th>\n",
       "      <th>universe_scale</th>\n",
       "      <th>universe_model</th>\n",
       "      <th>universe_exclude_features</th>\n",
       "      <th>universe_exclude_subgroups</th>\n",
       "      <th>q_hat</th>\n",
       "      <th>coverage</th>\n",
       "      <th>avg_size</th>\n",
       "      <th>cov_frau1</th>\n",
       "      <th>cov_nongerman</th>\n",
       "      <th>cov_nongerman_male</th>\n",
       "      <th>cov_nongerman_female</th>\n",
       "    </tr>\n",
       "  </thead>\n",
       "  <tbody>\n",
       "    <tr>\n",
       "      <th>0</th>\n",
       "      <td>eccb431de479919218ccaf82ad151388</td>\n",
       "      <td>5k</td>\n",
       "      <td>do-not-scale</td>\n",
       "      <td>penalized_logreg</td>\n",
       "      <td>age</td>\n",
       "      <td>drop-non-german</td>\n",
       "      <td>0.673273</td>\n",
       "      <td>0.914123</td>\n",
       "      <td>1.254554</td>\n",
       "      <td>0.914732</td>\n",
       "      <td>0.965924</td>\n",
       "      <td>0.969918</td>\n",
       "      <td>0.959314</td>\n",
       "    </tr>\n",
       "  </tbody>\n",
       "</table>\n",
       "</div>"
      ],
      "text/plain": [
       "                        universe_id universe_training_size universe_scale  \\\n",
       "0  eccb431de479919218ccaf82ad151388                     5k   do-not-scale   \n",
       "\n",
       "     universe_model universe_exclude_features universe_exclude_subgroups  \\\n",
       "0  penalized_logreg                       age            drop-non-german   \n",
       "\n",
       "      q_hat  coverage  avg_size  cov_frau1  cov_nongerman  cov_nongerman_male  \\\n",
       "0  0.673273  0.914123  1.254554   0.914732       0.965924            0.969918   \n",
       "\n",
       "   cov_nongerman_female  \n",
       "0              0.959314  "
      ]
     },
     "execution_count": 71,
     "metadata": {},
     "output_type": "execute_result"
    }
   ],
   "source": [
    "cp_metrics_df"
   ]
  },
  {
   "cell_type": "markdown",
   "id": "33774451",
   "metadata": {
    "papermill": {
     "duration": 0.054611,
     "end_time": "2025-07-30T14:13:56.385243",
     "exception": false,
     "start_time": "2025-07-30T14:13:56.330632",
     "status": "completed"
    },
    "tags": []
   },
   "source": [
    "# (Fairness) Metrics"
   ]
  },
  {
   "cell_type": "code",
   "execution_count": 72,
   "id": "debc5d62",
   "metadata": {
    "execution": {
     "iopub.execute_input": "2025-07-30T14:13:56.455054Z",
     "iopub.status.busy": "2025-07-30T14:13:56.454666Z",
     "iopub.status.idle": "2025-07-30T14:13:56.482029Z",
     "shell.execute_reply": "2025-07-30T14:13:56.481054Z"
    },
    "papermill": {
     "duration": 0.0566,
     "end_time": "2025-07-30T14:13:56.484286",
     "exception": false,
     "start_time": "2025-07-30T14:13:56.427686",
     "status": "completed"
    },
    "tags": []
   },
   "outputs": [],
   "source": [
    "# do I need to include maxdeutsch1.missing?\n",
    "\n",
    "import numpy as np\n",
    "\n",
    "colname_to_bin = \"maxdeutsch1\"\n",
    "majority_value = org_train[colname_to_bin].mode()[0]\n",
    "\n",
    "org_test[\"majmin\"] = np.where(org_test[colname_to_bin] == majority_value, \"majority\", \"minority\")"
   ]
  },
  {
   "cell_type": "code",
   "execution_count": 73,
   "id": "06a50de5",
   "metadata": {
    "execution": {
     "iopub.execute_input": "2025-07-30T14:13:56.610642Z",
     "iopub.status.busy": "2025-07-30T14:13:56.610173Z",
     "iopub.status.idle": "2025-07-30T14:13:59.955057Z",
     "shell.execute_reply": "2025-07-30T14:13:59.953572Z"
    },
    "papermill": {
     "duration": 3.428044,
     "end_time": "2025-07-30T14:13:59.958210",
     "exception": false,
     "start_time": "2025-07-30T14:13:56.530166",
     "status": "completed"
    },
    "tags": []
   },
   "outputs": [],
   "source": [
    "example_universe = universe.copy()\n",
    "example_universe[\"cutoff\"] = example_universe[\"cutoff\"][0]\n",
    "example_universe[\"eval_fairness_grouping\"] = example_universe[\"eval_fairness_grouping\"][0]\n",
    "fairness_dict, metric_frame = universe_analysis.compute_metrics(\n",
    "    example_universe,\n",
    "    y_pred_prob=probs_test,\n",
    "    y_test=y_true,\n",
    "    org_test=org_test,\n",
    ")"
   ]
  },
  {
   "cell_type": "markdown",
   "id": "f95d4e02",
   "metadata": {
    "papermill": {
     "duration": 0.029483,
     "end_time": "2025-07-30T14:14:00.042763",
     "exception": false,
     "start_time": "2025-07-30T14:14:00.013280",
     "status": "completed"
    },
    "tags": []
   },
   "source": [
    "# Overall"
   ]
  },
  {
   "cell_type": "markdown",
   "id": "bdee4871",
   "metadata": {
    "papermill": {
     "duration": 0.029605,
     "end_time": "2025-07-30T14:14:00.100820",
     "exception": false,
     "start_time": "2025-07-30T14:14:00.071215",
     "status": "completed"
    },
    "tags": []
   },
   "source": [
    "Fairness\n",
    "Main fairness target: Equalized Odds. Seems to be a better fit than equal opportunity, since we're not only interested in Y = 1. Seems to be a better fit than demographic parity, since we also care about accuracy, not just equal distribution of preds.\n",
    "\n",
    "Pick column for computation of fairness metrics\n",
    "\n",
    "Performance\n",
    "Overall performance measures, most interesting in relation to the measures split by group below"
   ]
  },
  {
   "cell_type": "code",
   "execution_count": 74,
   "id": "c4e067c6",
   "metadata": {
    "execution": {
     "iopub.execute_input": "2025-07-30T14:14:00.143074Z",
     "iopub.status.busy": "2025-07-30T14:14:00.142674Z",
     "iopub.status.idle": "2025-07-30T14:14:00.150697Z",
     "shell.execute_reply": "2025-07-30T14:14:00.149931Z"
    },
    "papermill": {
     "duration": 0.025291,
     "end_time": "2025-07-30T14:14:00.151881",
     "exception": false,
     "start_time": "2025-07-30T14:14:00.126590",
     "status": "completed"
    },
    "tags": []
   },
   "outputs": [
    {
     "data": {
      "text/plain": [
       "accuracy                   0.217178\n",
       "balanced accuracy          0.532537\n",
       "f1                         0.238707\n",
       "precision                  0.136365\n",
       "false positive rate        0.891652\n",
       "false negative rate        0.043274\n",
       "selection rate             0.900000\n",
       "count                  89710.000000\n",
       "dtype: float64"
      ]
     },
     "execution_count": 74,
     "metadata": {},
     "output_type": "execute_result"
    }
   ],
   "source": [
    "metric_frame.overall"
   ]
  },
  {
   "cell_type": "markdown",
   "id": "e968fe9d",
   "metadata": {
    "papermill": {
     "duration": 0.013686,
     "end_time": "2025-07-30T14:14:00.180351",
     "exception": false,
     "start_time": "2025-07-30T14:14:00.166665",
     "status": "completed"
    },
    "tags": []
   },
   "source": [
    "By Group"
   ]
  },
  {
   "cell_type": "code",
   "execution_count": 75,
   "id": "ec325bce",
   "metadata": {
    "execution": {
     "iopub.execute_input": "2025-07-30T14:14:00.209857Z",
     "iopub.status.busy": "2025-07-30T14:14:00.209220Z",
     "iopub.status.idle": "2025-07-30T14:14:00.226060Z",
     "shell.execute_reply": "2025-07-30T14:14:00.225012Z"
    },
    "papermill": {
     "duration": 0.033714,
     "end_time": "2025-07-30T14:14:00.227859",
     "exception": false,
     "start_time": "2025-07-30T14:14:00.194145",
     "status": "completed"
    },
    "tags": []
   },
   "outputs": [
    {
     "data": {
      "text/html": [
       "<div>\n",
       "<style scoped>\n",
       "    .dataframe tbody tr th:only-of-type {\n",
       "        vertical-align: middle;\n",
       "    }\n",
       "\n",
       "    .dataframe tbody tr th {\n",
       "        vertical-align: top;\n",
       "    }\n",
       "\n",
       "    .dataframe thead th {\n",
       "        text-align: right;\n",
       "    }\n",
       "</style>\n",
       "<table border=\"1\" class=\"dataframe\">\n",
       "  <thead>\n",
       "    <tr style=\"text-align: right;\">\n",
       "      <th></th>\n",
       "      <th>accuracy</th>\n",
       "      <th>balanced accuracy</th>\n",
       "      <th>f1</th>\n",
       "      <th>precision</th>\n",
       "      <th>false positive rate</th>\n",
       "      <th>false negative rate</th>\n",
       "      <th>selection rate</th>\n",
       "      <th>count</th>\n",
       "    </tr>\n",
       "    <tr>\n",
       "      <th>majmin</th>\n",
       "      <th></th>\n",
       "      <th></th>\n",
       "      <th></th>\n",
       "      <th></th>\n",
       "      <th></th>\n",
       "      <th></th>\n",
       "      <th></th>\n",
       "      <th></th>\n",
       "    </tr>\n",
       "  </thead>\n",
       "  <tbody>\n",
       "    <tr>\n",
       "      <th>majority</th>\n",
       "      <td>0.238948</td>\n",
       "      <td>0.54025</td>\n",
       "      <td>0.248014</td>\n",
       "      <td>0.142629</td>\n",
       "      <td>0.869282</td>\n",
       "      <td>0.050219</td>\n",
       "      <td>0.879919</td>\n",
       "      <td>69170.0</td>\n",
       "    </tr>\n",
       "    <tr>\n",
       "      <th>minority</th>\n",
       "      <td>0.143866</td>\n",
       "      <td>0.50899</td>\n",
       "      <td>0.209414</td>\n",
       "      <td>0.117182</td>\n",
       "      <td>0.965551</td>\n",
       "      <td>0.016470</td>\n",
       "      <td>0.967624</td>\n",
       "      <td>20540.0</td>\n",
       "    </tr>\n",
       "  </tbody>\n",
       "</table>\n",
       "</div>"
      ],
      "text/plain": [
       "          accuracy  balanced accuracy        f1  precision  \\\n",
       "majmin                                                       \n",
       "majority  0.238948            0.54025  0.248014   0.142629   \n",
       "minority  0.143866            0.50899  0.209414   0.117182   \n",
       "\n",
       "          false positive rate  false negative rate  selection rate    count  \n",
       "majmin                                                                       \n",
       "majority             0.869282             0.050219        0.879919  69170.0  \n",
       "minority             0.965551             0.016470        0.967624  20540.0  "
      ]
     },
     "execution_count": 75,
     "metadata": {},
     "output_type": "execute_result"
    }
   ],
   "source": [
    "metric_frame.by_group"
   ]
  },
  {
   "cell_type": "code",
   "execution_count": 76,
   "id": "a9ddbe63",
   "metadata": {
    "execution": {
     "iopub.execute_input": "2025-07-30T14:14:00.277823Z",
     "iopub.status.busy": "2025-07-30T14:14:00.277436Z",
     "iopub.status.idle": "2025-07-30T14:14:02.741082Z",
     "shell.execute_reply": "2025-07-30T14:14:02.739991Z"
    },
    "papermill": {
     "duration": 2.48602,
     "end_time": "2025-07-30T14:14:02.742651",
     "exception": false,
     "start_time": "2025-07-30T14:14:00.256631",
     "status": "completed"
    },
    "tags": []
   },
   "outputs": [
    {
     "data": {
      "text/plain": [
       "array([[<Axes: title={'center': 'accuracy'}, xlabel='majmin'>,\n",
       "        <Axes: title={'center': 'balanced accuracy'}, xlabel='majmin'>,\n",
       "        <Axes: title={'center': 'f1'}, xlabel='majmin'>],\n",
       "       [<Axes: title={'center': 'precision'}, xlabel='majmin'>,\n",
       "        <Axes: title={'center': 'false positive rate'}, xlabel='majmin'>,\n",
       "        <Axes: title={'center': 'false negative rate'}, xlabel='majmin'>],\n",
       "       [<Axes: title={'center': 'selection rate'}, xlabel='majmin'>,\n",
       "        <Axes: title={'center': 'count'}, xlabel='majmin'>,\n",
       "        <Axes: xlabel='majmin'>]], dtype=object)"
      ]
     },
     "execution_count": 76,
     "metadata": {},
     "output_type": "execute_result"
    },
    {
     "data": {
      "image/png": "[encoded data removed]",
      "text/plain": [
       "<Figure size 1200x800 with 9 Axes>"
      ]
     },
     "metadata": {},
     "output_type": "display_data"
    }
   ],
   "source": [
    "# In a graphic\n",
    "metric_frame.by_group.plot.bar(\n",
    "    subplots=True,\n",
    "    layout=[3, 3],\n",
    "    legend=False,\n",
    "    figsize=[12, 8],\n",
    "    title=\"Show all metrics\",\n",
    ")"
   ]
  },
  {
   "cell_type": "markdown",
   "id": "f57a0bac",
   "metadata": {
    "papermill": {
     "duration": 0.029236,
     "end_time": "2025-07-30T14:14:02.803414",
     "exception": false,
     "start_time": "2025-07-30T14:14:02.774178",
     "status": "completed"
    },
    "tags": []
   },
   "source": [
    "# Final Output"
   ]
  },
  {
   "cell_type": "code",
   "execution_count": 77,
   "id": "96d280a3",
   "metadata": {
    "execution": {
     "iopub.execute_input": "2025-07-30T14:14:02.863388Z",
     "iopub.status.busy": "2025-07-30T14:14:02.862782Z",
     "iopub.status.idle": "2025-07-30T14:14:02.870525Z",
     "shell.execute_reply": "2025-07-30T14:14:02.869597Z"
    },
    "papermill": {
     "duration": 0.03973,
     "end_time": "2025-07-30T14:14:02.871921",
     "exception": false,
     "start_time": "2025-07-30T14:14:02.832191",
     "status": "completed"
    },
    "tags": []
   },
   "outputs": [
    {
     "data": {
      "text/plain": [
       "4"
      ]
     },
     "execution_count": 77,
     "metadata": {},
     "output_type": "execute_result"
    }
   ],
   "source": [
    "sub_universes = universe_analysis.generate_sub_universes()\n",
    "len(sub_universes)"
   ]
  },
  {
   "cell_type": "code",
   "execution_count": 78,
   "id": "92adf7ba",
   "metadata": {
    "execution": {
     "iopub.execute_input": "2025-07-30T14:14:02.933477Z",
     "iopub.status.busy": "2025-07-30T14:14:02.932960Z",
     "iopub.status.idle": "2025-07-30T14:14:02.939328Z",
     "shell.execute_reply": "2025-07-30T14:14:02.938365Z"
    },
    "papermill": {
     "duration": 0.039138,
     "end_time": "2025-07-30T14:14:02.941231",
     "exception": false,
     "start_time": "2025-07-30T14:14:02.902093",
     "status": "completed"
    },
    "tags": []
   },
   "outputs": [],
   "source": [
    "def filter_sub_universe_data(sub_universe, org_test):\n",
    "    # Keep all rows — no filtering\n",
    "    keep_rows_mask = np.ones(org_test.shape[0], dtype=bool)\n",
    "\n",
    "    print(f\"[INFO] Keeping all rows: {keep_rows_mask.sum()} rows retained.\")\n",
    "    return keep_rows_mask"
   ]
  },
  {
   "cell_type": "code",
   "execution_count": 79,
   "id": "4a759155",
   "metadata": {
    "execution": {
     "iopub.execute_input": "2025-07-30T14:14:03.003107Z",
     "iopub.status.busy": "2025-07-30T14:14:03.002540Z",
     "iopub.status.idle": "2025-07-30T14:14:13.189296Z",
     "shell.execute_reply": "2025-07-30T14:14:13.187956Z"
    },
    "papermill": {
     "duration": 10.219222,
     "end_time": "2025-07-30T14:14:13.190990",
     "exception": false,
     "start_time": "2025-07-30T14:14:02.971768",
     "status": "completed"
    },
    "tags": []
   },
   "outputs": [
    {
     "name": "stdout",
     "output_type": "stream",
     "text": [
      "Stopping execution_time clock.\n",
      "[INFO] Keeping all rows: 89710 rows retained.\n"
     ]
    },
    {
     "name": "stdout",
     "output_type": "stream",
     "text": [
      "[INFO] Keeping all rows: 89710 rows retained.\n"
     ]
    },
    {
     "name": "stdout",
     "output_type": "stream",
     "text": [
      "[INFO] Keeping all rows: 89710 rows retained.\n"
     ]
    },
    {
     "name": "stdout",
     "output_type": "stream",
     "text": [
      "[INFO] Keeping all rows: 89710 rows retained.\n"
     ]
    },
    {
     "data": {
      "text/html": [
       "<div>\n",
       "<style scoped>\n",
       "    .dataframe tbody tr th:only-of-type {\n",
       "        vertical-align: middle;\n",
       "    }\n",
       "\n",
       "    .dataframe tbody tr th {\n",
       "        vertical-align: top;\n",
       "    }\n",
       "\n",
       "    .dataframe thead th {\n",
       "        text-align: right;\n",
       "    }\n",
       "</style>\n",
       "<table border=\"1\" class=\"dataframe\">\n",
       "  <thead>\n",
       "    <tr style=\"text-align: right;\">\n",
       "      <th></th>\n",
       "      <th>run_no</th>\n",
       "      <th>universe_id</th>\n",
       "      <th>universe_settings</th>\n",
       "      <th>execution_time</th>\n",
       "      <th>test_size_n</th>\n",
       "      <th>test_size_frac</th>\n",
       "      <th>fair_main_equalized_odds_difference</th>\n",
       "      <th>fair_main_equalized_odds_ratio</th>\n",
       "      <th>fair_main_demographic_parity_difference</th>\n",
       "      <th>fair_main_demographic_parity_ratio</th>\n",
       "      <th>...</th>\n",
       "      <th>perf_grp_precision_0</th>\n",
       "      <th>perf_grp_precision_1</th>\n",
       "      <th>perf_grp_false positive rate_0</th>\n",
       "      <th>perf_grp_false positive rate_1</th>\n",
       "      <th>perf_grp_false negative rate_0</th>\n",
       "      <th>perf_grp_false negative rate_1</th>\n",
       "      <th>perf_grp_selection rate_0</th>\n",
       "      <th>perf_grp_selection rate_1</th>\n",
       "      <th>perf_grp_count_0</th>\n",
       "      <th>perf_grp_count_1</th>\n",
       "    </tr>\n",
       "  </thead>\n",
       "  <tbody>\n",
       "    <tr>\n",
       "      <th>0</th>\n",
       "      <td>12</td>\n",
       "      <td>eccb431de479919218ccaf82ad151388</td>\n",
       "      <td>{\"cutoff\": \"quantile_0.1\", \"eval_fairness_grou...</td>\n",
       "      <td>27.861368</td>\n",
       "      <td>89710</td>\n",
       "      <td>1.0</td>\n",
       "      <td>0.096269</td>\n",
       "      <td>0.900296</td>\n",
       "      <td>0.087705</td>\n",
       "      <td>0.909360</td>\n",
       "      <td>...</td>\n",
       "      <td>NaN</td>\n",
       "      <td>NaN</td>\n",
       "      <td>NaN</td>\n",
       "      <td>NaN</td>\n",
       "      <td>NaN</td>\n",
       "      <td>NaN</td>\n",
       "      <td>NaN</td>\n",
       "      <td>NaN</td>\n",
       "      <td>NaN</td>\n",
       "      <td>NaN</td>\n",
       "    </tr>\n",
       "    <tr>\n",
       "      <th>0</th>\n",
       "      <td>12</td>\n",
       "      <td>eccb431de479919218ccaf82ad151388</td>\n",
       "      <td>{\"cutoff\": \"quantile_0.1\", \"eval_fairness_grou...</td>\n",
       "      <td>27.861368</td>\n",
       "      <td>89710</td>\n",
       "      <td>1.0</td>\n",
       "      <td>0.096269</td>\n",
       "      <td>0.900296</td>\n",
       "      <td>0.087705</td>\n",
       "      <td>0.909360</td>\n",
       "      <td>...</td>\n",
       "      <td>0.117182</td>\n",
       "      <td>0.142629</td>\n",
       "      <td>0.965551</td>\n",
       "      <td>0.869282</td>\n",
       "      <td>0.016470</td>\n",
       "      <td>0.050219</td>\n",
       "      <td>0.967624</td>\n",
       "      <td>0.879919</td>\n",
       "      <td>20540.0</td>\n",
       "      <td>69170.0</td>\n",
       "    </tr>\n",
       "    <tr>\n",
       "      <th>0</th>\n",
       "      <td>12</td>\n",
       "      <td>eccb431de479919218ccaf82ad151388</td>\n",
       "      <td>{\"cutoff\": \"quantile_0.25\", \"eval_fairness_gro...</td>\n",
       "      <td>27.861368</td>\n",
       "      <td>89710</td>\n",
       "      <td>1.0</td>\n",
       "      <td>0.230531</td>\n",
       "      <td>0.746570</td>\n",
       "      <td>0.212608</td>\n",
       "      <td>0.767367</td>\n",
       "      <td>...</td>\n",
       "      <td>NaN</td>\n",
       "      <td>NaN</td>\n",
       "      <td>NaN</td>\n",
       "      <td>NaN</td>\n",
       "      <td>NaN</td>\n",
       "      <td>NaN</td>\n",
       "      <td>NaN</td>\n",
       "      <td>NaN</td>\n",
       "      <td>NaN</td>\n",
       "      <td>NaN</td>\n",
       "    </tr>\n",
       "    <tr>\n",
       "      <th>0</th>\n",
       "      <td>12</td>\n",
       "      <td>eccb431de479919218ccaf82ad151388</td>\n",
       "      <td>{\"cutoff\": \"quantile_0.25\", \"eval_fairness_gro...</td>\n",
       "      <td>27.861368</td>\n",
       "      <td>89710</td>\n",
       "      <td>1.0</td>\n",
       "      <td>0.230531</td>\n",
       "      <td>0.746570</td>\n",
       "      <td>0.212608</td>\n",
       "      <td>0.767367</td>\n",
       "      <td>...</td>\n",
       "      <td>0.119433</td>\n",
       "      <td>0.159617</td>\n",
       "      <td>0.909641</td>\n",
       "      <td>0.679110</td>\n",
       "      <td>0.053209</td>\n",
       "      <td>0.152845</td>\n",
       "      <td>0.913924</td>\n",
       "      <td>0.701316</td>\n",
       "      <td>20540.0</td>\n",
       "      <td>69170.0</td>\n",
       "    </tr>\n",
       "  </tbody>\n",
       "</table>\n",
       "<p>4 rows × 50 columns</p>\n",
       "</div>"
      ],
      "text/plain": [
       "  run_no                       universe_id  \\\n",
       "0     12  eccb431de479919218ccaf82ad151388   \n",
       "0     12  eccb431de479919218ccaf82ad151388   \n",
       "0     12  eccb431de479919218ccaf82ad151388   \n",
       "0     12  eccb431de479919218ccaf82ad151388   \n",
       "\n",
       "                                   universe_settings  execution_time  \\\n",
       "0  {\"cutoff\": \"quantile_0.1\", \"eval_fairness_grou...       27.861368   \n",
       "0  {\"cutoff\": \"quantile_0.1\", \"eval_fairness_grou...       27.861368   \n",
       "0  {\"cutoff\": \"quantile_0.25\", \"eval_fairness_gro...       27.861368   \n",
       "0  {\"cutoff\": \"quantile_0.25\", \"eval_fairness_gro...       27.861368   \n",
       "\n",
       "   test_size_n  test_size_frac  fair_main_equalized_odds_difference  \\\n",
       "0        89710             1.0                             0.096269   \n",
       "0        89710             1.0                             0.096269   \n",
       "0        89710             1.0                             0.230531   \n",
       "0        89710             1.0                             0.230531   \n",
       "\n",
       "   fair_main_equalized_odds_ratio  fair_main_demographic_parity_difference  \\\n",
       "0                        0.900296                                 0.087705   \n",
       "0                        0.900296                                 0.087705   \n",
       "0                        0.746570                                 0.212608   \n",
       "0                        0.746570                                 0.212608   \n",
       "\n",
       "   fair_main_demographic_parity_ratio  ...  perf_grp_precision_0  \\\n",
       "0                            0.909360  ...                   NaN   \n",
       "0                            0.909360  ...              0.117182   \n",
       "0                            0.767367  ...                   NaN   \n",
       "0                            0.767367  ...              0.119433   \n",
       "\n",
       "   perf_grp_precision_1  perf_grp_false positive rate_0  \\\n",
       "0                   NaN                             NaN   \n",
       "0              0.142629                        0.965551   \n",
       "0                   NaN                             NaN   \n",
       "0              0.159617                        0.909641   \n",
       "\n",
       "   perf_grp_false positive rate_1  perf_grp_false negative rate_0  \\\n",
       "0                             NaN                             NaN   \n",
       "0                        0.869282                        0.016470   \n",
       "0                             NaN                             NaN   \n",
       "0                        0.679110                        0.053209   \n",
       "\n",
       "   perf_grp_false negative rate_1  perf_grp_selection rate_0  \\\n",
       "0                             NaN                        NaN   \n",
       "0                        0.050219                   0.967624   \n",
       "0                             NaN                        NaN   \n",
       "0                        0.152845                   0.913924   \n",
       "\n",
       "   perf_grp_selection rate_1  perf_grp_count_0  perf_grp_count_1  \n",
       "0                        NaN               NaN               NaN  \n",
       "0                   0.879919           20540.0           69170.0  \n",
       "0                        NaN               NaN               NaN  \n",
       "0                   0.701316           20540.0           69170.0  \n",
       "\n",
       "[4 rows x 50 columns]"
      ]
     },
     "execution_count": 79,
     "metadata": {},
     "output_type": "execute_result"
    }
   ],
   "source": [
    "final_output = universe_analysis.generate_final_output(\n",
    "    y_pred_prob=probs_test,\n",
    "    y_test=y_true,\n",
    "    org_test=org_test,\n",
    "    filter_data=filter_sub_universe_data,\n",
    "    cp_metrics_df=cp_metrics_df,\n",
    "    save=True,\n",
    ")\n",
    "final_output"
   ]
  },
  {
   "cell_type": "code",
   "execution_count": null,
   "id": "721ff514-cb11-46f8-b6fc-50392f74b5cb",
   "metadata": {
    "papermill": {
     "duration": 0.030042,
     "end_time": "2025-07-30T14:14:13.253196",
     "exception": false,
     "start_time": "2025-07-30T14:14:13.223154",
     "status": "completed"
    },
    "tags": []
   },
   "outputs": [],
   "source": []
  }
 ],
 "metadata": {
  "celltoolbar": "Tags",
  "kernelspec": {
   "display_name": "Python (CMA Fairness)",
   "language": "python",
   "name": "cma_fair_env"
  },
  "language_info": {
   "codemirror_mode": {
    "name": "ipython",
    "version": 3
   },
   "file_extension": ".py",
   "mimetype": "text/x-python",
   "name": "python",
   "nbconvert_exporter": "python",
   "pygments_lexer": "ipython3",
   "version": "3.10.12"
  },
  "papermill": {
   "default_parameters": {},
   "duration": 42.441571,
   "end_time": "2025-07-30T14:14:14.105261",
   "environment_variables": {},
   "exception": null,
   "input_path": "universe_analysis.ipynb",
   "output_path": "output/runs/12/notebooks/m_12-eccb431de479919218ccaf82ad151388.ipynb",
   "parameters": {
    "output_dir": "output",
    "run_no": "12",
    "seed": "2023",
    "universe": "{\"cutoff\": [\"quantile_0.1\", \"quantile_0.25\"], \"eval_fairness_grouping\": [\"majority-minority\", \"nationality-all\"], \"exclude_features\": \"age\", \"exclude_subgroups\": \"drop-non-german\", \"model\": \"penalized_logreg\", \"scale\": \"do-not-scale\", \"training_size\": \"5k\", \"training_year\": \"2010_14\"}",
    "universe_id": "eccb431de479919218ccaf82ad151388"
   },
   "start_time": "2025-07-30T14:13:31.663690",
   "version": "2.6.0"
  }
 },
 "nbformat": 4,
 "nbformat_minor": 5
}