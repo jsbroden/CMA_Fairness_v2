{
 "cells": [
  {
   "cell_type": "code",
   "execution_count": 1,
   "id": "f159f837-637b-42ba-96b5-ec9a68c44524",
   "metadata": {
    "execution": {
     "iopub.execute_input": "2025-07-30T13:25:05.576653Z",
     "iopub.status.busy": "2025-07-30T13:25:05.576017Z",
     "iopub.status.idle": "2025-07-30T13:25:05.589190Z",
     "shell.execute_reply": "2025-07-30T13:25:05.588238Z"
    },
    "papermill": {
     "duration": 0.035476,
     "end_time": "2025-07-30T13:25:05.590922",
     "exception": false,
     "start_time": "2025-07-30T13:25:05.555446",
     "status": "completed"
    },
    "tags": []
   },
   "outputs": [
    {
     "name": "stdout",
     "output_type": "stream",
     "text": [
      "/dss/dsshome1/0C/ra93lal2/cma/CMA_Fairness_v2\n"
     ]
    },
    {
     "name": "stderr",
     "output_type": "stream",
     "text": [
      "/dss/dsshome1/0C/ra93lal2/.local/share/virtualenvs/CMA_Fairness_v2-3j10GkSs/lib/python3.10/site-packages/IPython/core/magics/osm.py:393: UserWarning: This is now an optional IPython functionality, using bookmarks requires you to install the `pickleshare` library.\n",
      "  bkms = self.shell.db.get('bookmarks', {})\n",
      "/dss/dsshome1/0C/ra93lal2/.local/share/virtualenvs/CMA_Fairness_v2-3j10GkSs/lib/python3.10/site-packages/IPython/core/magics/osm.py:417: UserWarning: This is now an optional IPython functionality, setting dhist requires you to install the `pickleshare` library.\n",
      "  self.shell.db['dhist'] = compress_dhist(dhist)[-100:]\n"
     ]
    }
   ],
   "source": [
    "%cd ~/cma/CMA_Fairness_v2"
   ]
  },
  {
   "cell_type": "markdown",
   "id": "de2603b9",
   "metadata": {
    "papermill": {
     "duration": 0.018093,
     "end_time": "2025-07-30T13:25:05.629297",
     "exception": false,
     "start_time": "2025-07-30T13:25:05.611204",
     "status": "completed"
    },
    "tags": []
   },
   "source": [
    "The following cell holds the definition of our parameters, these values can be overriden by rendering the with e.g. the following command:\n",
    "\n",
    "papermill -p alpha 0.2 -p ratio 0.3 universe_analysis.ipynb output/test_run.ipynb"
   ]
  },
  {
   "cell_type": "code",
   "execution_count": 2,
   "id": "a80968a0-40bb-4fa9-85ef-2d5eefb01975",
   "metadata": {
    "execution": {
     "iopub.execute_input": "2025-07-30T13:25:05.666263Z",
     "iopub.status.busy": "2025-07-30T13:25:05.665628Z",
     "iopub.status.idle": "2025-07-30T13:25:05.670784Z",
     "shell.execute_reply": "2025-07-30T13:25:05.669989Z"
    },
    "papermill": {
     "duration": 0.02525,
     "end_time": "2025-07-30T13:25:05.672236",
     "exception": false,
     "start_time": "2025-07-30T13:25:05.646986",
     "status": "completed"
    },
    "tags": []
   },
   "outputs": [
    {
     "name": "stdout",
     "output_type": "stream",
     "text": [
      "Current working directory: /dss/dsshome1/0C/ra93lal2/cma/CMA_Fairness_v2\n"
     ]
    }
   ],
   "source": [
    "import os\n",
    "print(\"Current working directory:\", os.getcwd())"
   ]
  },
  {
   "cell_type": "code",
   "execution_count": 3,
   "id": "2dce4c03",
   "metadata": {
    "execution": {
     "iopub.execute_input": "2025-07-30T13:25:05.710565Z",
     "iopub.status.busy": "2025-07-30T13:25:05.709956Z",
     "iopub.status.idle": "2025-07-30T13:25:05.715837Z",
     "shell.execute_reply": "2025-07-30T13:25:05.714869Z"
    },
    "papermill": {
     "duration": 0.026459,
     "end_time": "2025-07-30T13:25:05.717413",
     "exception": false,
     "start_time": "2025-07-30T13:25:05.690954",
     "status": "completed"
    },
    "tags": [
     "parameters"
    ]
   },
   "outputs": [],
   "source": [
    "run_no = 0\n",
    "universe_id = \"test\"\n",
    "universe = {\n",
    "    \"training_size\": \"25k\", # \"25k\", \"5k\", \"1k\"\n",
    "    \"training_year\": \"2014\", # \"2014\", \"2012_14\", \"2010_14\"\n",
    "    \"scale\": \"scale\", # \"scale\", \"do-not-scale\",\n",
    "    #\"stratify_split\": \"target\", # \"none\", \"target\", \"protected-attribute\", \"both\",\n",
    "    \"model\": \"elasticnet\", # \"logreg\", \"penalized_logreg\", \"rf\", \"gbm\", \"elasticnet\"\n",
    "    \"cutoff\": [\"quantile_0.15\", \"quantile_0.30\"],\n",
    "    \"exclude_features\": \"age\", # \"none\", \"nationality\", \"sex\", \"nationality-sex\", \"age\"\n",
    "    \"exclude_subgroups\": \"keep-all\", # \"keep-all\", \"drop-non-german\"\n",
    "    \"eval_fairness_grouping\": [\"majority-minority\", \"nationality-all\"]\n",
    "}\n",
    "\n",
    "output_dir=\"./output\"\n",
    "seed=0"
   ]
  },
  {
   "cell_type": "code",
   "execution_count": 4,
   "id": "e80ec028",
   "metadata": {
    "execution": {
     "iopub.execute_input": "2025-07-30T13:25:05.757808Z",
     "iopub.status.busy": "2025-07-30T13:25:05.757190Z",
     "iopub.status.idle": "2025-07-30T13:25:05.762216Z",
     "shell.execute_reply": "2025-07-30T13:25:05.761342Z"
    },
    "papermill": {
     "duration": 0.026486,
     "end_time": "2025-07-30T13:25:05.763665",
     "exception": false,
     "start_time": "2025-07-30T13:25:05.737179",
     "status": "completed"
    },
    "tags": [
     "injected-parameters"
    ]
   },
   "outputs": [],
   "source": [
    "# Parameters\n",
    "universe_id = \"efe1c0db68e01ee9138c86046fdbc66b\"\n",
    "run_no = \"12\"\n",
    "universe = \"{\\\"cutoff\\\": [\\\"quantile_0.1\\\", \\\"quantile_0.25\\\"], \\\"eval_fairness_grouping\\\": [\\\"majority-minority\\\", \\\"nationality-all\\\"], \\\"exclude_features\\\": \\\"age\\\", \\\"exclude_subgroups\\\": \\\"keep-all\\\", \\\"model\\\": \\\"rf\\\", \\\"scale\\\": \\\"scale\\\", \\\"training_size\\\": \\\"25k\\\", \\\"training_year\\\": \\\"2010_14\\\"}\"\n",
    "output_dir = \"output\"\n",
    "seed = \"2023\"\n"
   ]
  },
  {
   "cell_type": "code",
   "execution_count": 5,
   "id": "1650acaf",
   "metadata": {
    "execution": {
     "iopub.execute_input": "2025-07-30T13:25:05.803626Z",
     "iopub.status.busy": "2025-07-30T13:25:05.802936Z",
     "iopub.status.idle": "2025-07-30T13:25:05.807960Z",
     "shell.execute_reply": "2025-07-30T13:25:05.807039Z"
    },
    "papermill": {
     "duration": 0.02688,
     "end_time": "2025-07-30T13:25:05.809581",
     "exception": false,
     "start_time": "2025-07-30T13:25:05.782701",
     "status": "completed"
    },
    "tags": []
   },
   "outputs": [],
   "source": [
    "import json\n",
    "# Parse universe into dict if it is passed as a string\n",
    "if isinstance(universe, str):\n",
    "    universe = json.loads(universe)"
   ]
  },
  {
   "cell_type": "code",
   "execution_count": 6,
   "id": "16620c48",
   "metadata": {
    "execution": {
     "iopub.execute_input": "2025-07-30T13:25:05.848345Z",
     "iopub.status.busy": "2025-07-30T13:25:05.847692Z",
     "iopub.status.idle": "2025-07-30T13:25:05.890420Z",
     "shell.execute_reply": "2025-07-30T13:25:05.889592Z"
    },
    "papermill": {
     "duration": 0.063563,
     "end_time": "2025-07-30T13:25:05.892156",
     "exception": false,
     "start_time": "2025-07-30T13:25:05.828593",
     "status": "completed"
    },
    "tags": []
   },
   "outputs": [],
   "source": [
    "# Auto-reload the custom package\n",
    "%load_ext autoreload\n",
    "%autoreload 1\n",
    "%aimport fairness_multiverse"
   ]
  },
  {
   "cell_type": "code",
   "execution_count": 7,
   "id": "01c5c9f3",
   "metadata": {
    "execution": {
     "iopub.execute_input": "2025-07-30T13:25:05.931567Z",
     "iopub.status.busy": "2025-07-30T13:25:05.930923Z",
     "iopub.status.idle": "2025-07-30T13:25:07.566833Z",
     "shell.execute_reply": "2025-07-30T13:25:07.566063Z"
    },
    "papermill": {
     "duration": 1.657237,
     "end_time": "2025-07-30T13:25:07.568532",
     "exception": false,
     "start_time": "2025-07-30T13:25:05.911295",
     "status": "completed"
    },
    "tags": []
   },
   "outputs": [],
   "source": [
    "from fairness_multiverse.universe import UniverseAnalysis\n",
    "\n",
    "universe_analysis = UniverseAnalysis(\n",
    "    run_no = run_no,\n",
    "    universe_id = universe_id,\n",
    "    universe = universe,\n",
    "    output_dir=output_dir,\n",
    ")"
   ]
  },
  {
   "cell_type": "code",
   "execution_count": 8,
   "id": "106241f5",
   "metadata": {
    "execution": {
     "iopub.execute_input": "2025-07-30T13:25:07.606397Z",
     "iopub.status.busy": "2025-07-30T13:25:07.606037Z",
     "iopub.status.idle": "2025-07-30T13:25:07.611328Z",
     "shell.execute_reply": "2025-07-30T13:25:07.610609Z"
    },
    "papermill": {
     "duration": 0.025262,
     "end_time": "2025-07-30T13:25:07.612620",
     "exception": false,
     "start_time": "2025-07-30T13:25:07.587358",
     "status": "completed"
    },
    "tags": []
   },
   "outputs": [
    {
     "name": "stdout",
     "output_type": "stream",
     "text": [
      "Using Seed: 2023\n"
     ]
    }
   ],
   "source": [
    "import numpy as np\n",
    "parsed_seed = int(seed)\n",
    "np.random.seed(parsed_seed)\n",
    "print(f\"Using Seed: {parsed_seed}\")"
   ]
  },
  {
   "cell_type": "markdown",
   "id": "e0ebdc57",
   "metadata": {
    "papermill": {
     "duration": 0.010576,
     "end_time": "2025-07-30T13:25:07.634425",
     "exception": false,
     "start_time": "2025-07-30T13:25:07.623849",
     "status": "completed"
    },
    "tags": []
   },
   "source": [
    "# Loading Data"
   ]
  },
  {
   "cell_type": "markdown",
   "id": "681925a3",
   "metadata": {
    "papermill": {
     "duration": 0.010028,
     "end_time": "2025-07-30T13:25:07.654993",
     "exception": false,
     "start_time": "2025-07-30T13:25:07.644965",
     "status": "completed"
    },
    "tags": []
   },
   "source": [
    "Load siab_train, siab_test, siab_calib and/or \n",
    "load siab_train_features, siab_train_labels"
   ]
  },
  {
   "cell_type": "code",
   "execution_count": 9,
   "id": "f0496b8a",
   "metadata": {
    "execution": {
     "iopub.execute_input": "2025-07-30T13:25:07.676809Z",
     "iopub.status.busy": "2025-07-30T13:25:07.676416Z",
     "iopub.status.idle": "2025-07-30T13:25:19.828968Z",
     "shell.execute_reply": "2025-07-30T13:25:19.827708Z"
    },
    "papermill": {
     "duration": 12.165534,
     "end_time": "2025-07-30T13:25:19.830631",
     "exception": false,
     "start_time": "2025-07-30T13:25:07.665097",
     "status": "completed"
    },
    "tags": []
   },
   "outputs": [
    {
     "name": "stdout",
     "output_type": "stream",
     "text": [
      "Loading SIAB data from cache: data/siab_cached.csv.gz\n"
     ]
    },
    {
     "name": "stdout",
     "output_type": "stream",
     "text": [
      "(643690, 164)\n"
     ]
    }
   ],
   "source": [
    "from pathlib import Path\n",
    "import pandas as pd\n",
    "\n",
    "# File paths\n",
    "raw_file = Path(\"data/raw/siab.csv\")\n",
    "cache_file = Path(\"data/siab_cached.csv.gz\")\n",
    "\n",
    "# Ensure cache directory exists\n",
    "cache_file.parent.mkdir(parents=True, exist_ok=True)\n",
    "\n",
    "# Load with simple caching\n",
    "if cache_file.exists():\n",
    "    print(f\"Loading SIAB data from cache: {cache_file}\")\n",
    "    siab = pd.read_csv(cache_file, compression='gzip')\n",
    "else:\n",
    "    print(f\"Cache not found. Reading raw SIAB data: {raw_file}\")\n",
    "    siab = pd.read_csv(raw_file)\n",
    "    siab.to_csv(cache_file, index=False, compression='gzip')\n",
    "    print(f\"Cached SIAB data to: {cache_file}\")\n",
    "\n",
    "# Now use `siab` DataFrame as needed\n",
    "print(siab.shape)"
   ]
  },
  {
   "cell_type": "code",
   "execution_count": 10,
   "id": "db0ca512-5f53-4dba-abdb-a2888bca41ba",
   "metadata": {
    "execution": {
     "iopub.execute_input": "2025-07-30T13:25:19.914677Z",
     "iopub.status.busy": "2025-07-30T13:25:19.914240Z",
     "iopub.status.idle": "2025-07-30T13:25:19.920246Z",
     "shell.execute_reply": "2025-07-30T13:25:19.919334Z"
    },
    "papermill": {
     "duration": 0.05283,
     "end_time": "2025-07-30T13:25:19.921740",
     "exception": false,
     "start_time": "2025-07-30T13:25:19.868910",
     "status": "completed"
    },
    "tags": []
   },
   "outputs": [],
   "source": [
    "#siab"
   ]
  },
  {
   "cell_type": "code",
   "execution_count": 11,
   "id": "a0edb063",
   "metadata": {
    "execution": {
     "iopub.execute_input": "2025-07-30T13:25:20.002092Z",
     "iopub.status.busy": "2025-07-30T13:25:20.001614Z",
     "iopub.status.idle": "2025-07-30T13:25:20.007199Z",
     "shell.execute_reply": "2025-07-30T13:25:20.006051Z"
    },
    "papermill": {
     "duration": 0.052617,
     "end_time": "2025-07-30T13:25:20.010722",
     "exception": false,
     "start_time": "2025-07-30T13:25:19.958105",
     "status": "completed"
    },
    "tags": []
   },
   "outputs": [],
   "source": [
    "#import pandas as pd\n",
    "#\n",
    "#X_train = pd.read_csv(\"./data/X_train.csv\")\n",
    "#y_train = pd.read_csv(\"./data/y_train.csv\")"
   ]
  },
  {
   "cell_type": "code",
   "execution_count": 12,
   "id": "63d08085",
   "metadata": {
    "execution": {
     "iopub.execute_input": "2025-07-30T13:25:20.077514Z",
     "iopub.status.busy": "2025-07-30T13:25:20.077083Z",
     "iopub.status.idle": "2025-07-30T13:25:20.082139Z",
     "shell.execute_reply": "2025-07-30T13:25:20.081183Z"
    },
    "papermill": {
     "duration": 0.030365,
     "end_time": "2025-07-30T13:25:20.083970",
     "exception": false,
     "start_time": "2025-07-30T13:25:20.053605",
     "status": "completed"
    },
    "tags": []
   },
   "outputs": [],
   "source": [
    "#X_test = pd.read_csv(\"./data/X_test.csv\")\n",
    "#y_true = pd.read_csv(\"./data/y_test.csv\")"
   ]
  },
  {
   "cell_type": "code",
   "execution_count": 13,
   "id": "98a8d0fa-1d3d-4ed8-bb2c-281470e24add",
   "metadata": {
    "execution": {
     "iopub.execute_input": "2025-07-30T13:25:20.175111Z",
     "iopub.status.busy": "2025-07-30T13:25:20.174693Z",
     "iopub.status.idle": "2025-07-30T13:25:20.181042Z",
     "shell.execute_reply": "2025-07-30T13:25:20.179759Z"
    },
    "papermill": {
     "duration": 0.056382,
     "end_time": "2025-07-30T13:25:20.183083",
     "exception": false,
     "start_time": "2025-07-30T13:25:20.126701",
     "status": "completed"
    },
    "tags": []
   },
   "outputs": [],
   "source": [
    "# Calibration data for conformal\n",
    "#X_calib = pd.read_csv(\"./data/X_calib.csv\")\n",
    "#y_calib = pd.read_csv(\"./data/y_calib.csv\")"
   ]
  },
  {
   "cell_type": "markdown",
   "id": "997051c5-15bd-4b69-9786-c3001a3ce484",
   "metadata": {
    "papermill": {
     "duration": 0.029012,
     "end_time": "2025-07-30T13:25:20.239210",
     "exception": false,
     "start_time": "2025-07-30T13:25:20.210198",
     "status": "completed"
    },
    "tags": []
   },
   "source": [
    "# Splitting Data and Setting Training Data Size"
   ]
  },
  {
   "cell_type": "code",
   "execution_count": 14,
   "id": "e993b61f-042d-41a6-8c81-f55681f86335",
   "metadata": {
    "execution": {
     "iopub.execute_input": "2025-07-30T13:25:20.306031Z",
     "iopub.status.busy": "2025-07-30T13:25:20.305452Z",
     "iopub.status.idle": "2025-07-30T13:25:20.325034Z",
     "shell.execute_reply": "2025-07-30T13:25:20.323424Z"
    },
    "papermill": {
     "duration": 0.059829,
     "end_time": "2025-07-30T13:25:20.328546",
     "exception": false,
     "start_time": "2025-07-30T13:25:20.268717",
     "status": "completed"
    },
    "tags": []
   },
   "outputs": [],
   "source": [
    "def sample_by_year_size(df,\n",
    "                        training_year: str,\n",
    "                        training_size: str,\n",
    "                        random_state: int = 42):\n",
    "    # --- parse training_year into a list of int years ---\n",
    "    if \"_\" in training_year:\n",
    "        start_str, end_str = training_year.split(\"_\", 1)\n",
    "        start = int(start_str)\n",
    "        end   = int(end_str) if len(end_str) == 4 else (int(end_str) + (start // 100)*100)\n",
    "        years = list(range(start, end + 1))\n",
    "    else:\n",
    "        years = [int(training_year)]\n",
    "\n",
    "    df = df[df[\"year\"].isin(years)].reset_index(drop=True)\n",
    "\n",
    "    # --- map training_size to total number of samples ---\n",
    "    total_map = {\"25k\": 25_000, \"5k\": 5_000, \"1k\": 1_000}\n",
    "    if training_size not in total_map:\n",
    "        return df  # e.g. \"all\"\n",
    "\n",
    "    total_samples = total_map[training_size]\n",
    "    n_years       = len(years)\n",
    "    base          = total_samples // n_years\n",
    "    remainder     = total_samples % n_years\n",
    "\n",
    "    # --- build a dict: year -> how many to sample ---\n",
    "    # give +1 to the first `remainder` years in ascending order\n",
    "    quotas = {\n",
    "        year: base + (1 if idx < remainder else 0)\n",
    "        for idx, year in enumerate(sorted(years))\n",
    "    }\n",
    "\n",
    "    # --- sample per‐year according to the quota dict ---\n",
    "    sampled = (\n",
    "        df\n",
    "        .groupby(\"year\", group_keys=False)\n",
    "        .apply(lambda grp: grp.sample(\n",
    "            n=min(len(grp), quotas[grp.name]),\n",
    "            random_state=random_state))\n",
    "        .reset_index(drop=True)\n",
    "    )\n",
    "\n",
    "    return sampled"
   ]
  },
  {
   "cell_type": "code",
   "execution_count": 15,
   "id": "c0ccd338-0e02-41f3-a09d-f56f9266e3fb",
   "metadata": {
    "execution": {
     "iopub.execute_input": "2025-07-30T13:25:20.389525Z",
     "iopub.status.busy": "2025-07-30T13:25:20.389027Z",
     "iopub.status.idle": "2025-07-30T13:25:20.405605Z",
     "shell.execute_reply": "2025-07-30T13:25:20.404252Z"
    },
    "papermill": {
     "duration": 0.052677,
     "end_time": "2025-07-30T13:25:20.411363",
     "exception": false,
     "start_time": "2025-07-30T13:25:20.358686",
     "status": "completed"
    },
    "tags": []
   },
   "outputs": [
    {
     "data": {
      "text/plain": [
       "'25k'"
      ]
     },
     "execution_count": 15,
     "metadata": {},
     "output_type": "execute_result"
    }
   ],
   "source": [
    "universe[\"training_size\"]"
   ]
  },
  {
   "cell_type": "code",
   "execution_count": 16,
   "id": "ca707fd7-8047-4acd-bfa5-66248fbbf8e6",
   "metadata": {
    "execution": {
     "iopub.execute_input": "2025-07-30T13:25:20.464249Z",
     "iopub.status.busy": "2025-07-30T13:25:20.463738Z",
     "iopub.status.idle": "2025-07-30T13:25:20.472081Z",
     "shell.execute_reply": "2025-07-30T13:25:20.471075Z"
    },
    "papermill": {
     "duration": 0.037445,
     "end_time": "2025-07-30T13:25:20.476882",
     "exception": false,
     "start_time": "2025-07-30T13:25:20.439437",
     "status": "completed"
    },
    "tags": []
   },
   "outputs": [
    {
     "data": {
      "text/plain": [
       "'2010_14'"
      ]
     },
     "execution_count": 16,
     "metadata": {},
     "output_type": "execute_result"
    }
   ],
   "source": [
    "universe[\"training_year\"]"
   ]
  },
  {
   "cell_type": "code",
   "execution_count": 17,
   "id": "aea9c6ef-6f46-42c8-85eb-5a62025c1508",
   "metadata": {
    "execution": {
     "iopub.execute_input": "2025-07-30T13:25:20.529576Z",
     "iopub.status.busy": "2025-07-30T13:25:20.529121Z",
     "iopub.status.idle": "2025-07-30T13:25:21.862148Z",
     "shell.execute_reply": "2025-07-30T13:25:21.861118Z"
    },
    "papermill": {
     "duration": 1.360956,
     "end_time": "2025-07-30T13:25:21.864297",
     "exception": false,
     "start_time": "2025-07-30T13:25:20.503341",
     "status": "completed"
    },
    "tags": []
   },
   "outputs": [],
   "source": [
    "siab_train = sample_by_year_size(siab,\n",
    "                               training_year=universe[\"training_year\"],\n",
    "                               training_size=universe[\"training_size\"])"
   ]
  },
  {
   "cell_type": "code",
   "execution_count": 18,
   "id": "8d3afb32-789d-442c-8d5d-9f5aa8dd2eed",
   "metadata": {
    "execution": {
     "iopub.execute_input": "2025-07-30T13:25:21.920234Z",
     "iopub.status.busy": "2025-07-30T13:25:21.919729Z",
     "iopub.status.idle": "2025-07-30T13:25:21.927497Z",
     "shell.execute_reply": "2025-07-30T13:25:21.926411Z"
    },
    "papermill": {
     "duration": 0.043751,
     "end_time": "2025-07-30T13:25:21.931530",
     "exception": false,
     "start_time": "2025-07-30T13:25:21.887779",
     "status": "completed"
    },
    "tags": []
   },
   "outputs": [
    {
     "data": {
      "text/plain": [
       "(25000, 164)"
      ]
     },
     "execution_count": 18,
     "metadata": {},
     "output_type": "execute_result"
    }
   ],
   "source": [
    "siab_train.shape"
   ]
  },
  {
   "cell_type": "code",
   "execution_count": 19,
   "id": "d582db68-1a4c-47fb-84fc-08518dc1975a",
   "metadata": {
    "execution": {
     "iopub.execute_input": "2025-07-30T13:25:21.979665Z",
     "iopub.status.busy": "2025-07-30T13:25:21.979214Z",
     "iopub.status.idle": "2025-07-30T13:25:21.991001Z",
     "shell.execute_reply": "2025-07-30T13:25:21.989447Z"
    },
    "papermill": {
     "duration": 0.037784,
     "end_time": "2025-07-30T13:25:21.992974",
     "exception": false,
     "start_time": "2025-07-30T13:25:21.955190",
     "status": "completed"
    },
    "tags": []
   },
   "outputs": [
    {
     "data": {
      "text/plain": [
       "year\n",
       "2010    5000\n",
       "2011    5000\n",
       "2012    5000\n",
       "2013    5000\n",
       "2014    5000\n",
       "dtype: int64"
      ]
     },
     "metadata": {},
     "output_type": "display_data"
    }
   ],
   "source": [
    "display(siab_train.groupby(\"year\").size())"
   ]
  },
  {
   "cell_type": "code",
   "execution_count": 20,
   "id": "a561edb4-d032-42cb-8256-22eac1111c64",
   "metadata": {
    "execution": {
     "iopub.execute_input": "2025-07-30T13:25:22.019276Z",
     "iopub.status.busy": "2025-07-30T13:25:22.018542Z",
     "iopub.status.idle": "2025-07-30T13:25:22.261580Z",
     "shell.execute_reply": "2025-07-30T13:25:22.260592Z"
    },
    "papermill": {
     "duration": 0.258402,
     "end_time": "2025-07-30T13:25:22.263501",
     "exception": false,
     "start_time": "2025-07-30T13:25:22.005099",
     "status": "completed"
    },
    "tags": []
   },
   "outputs": [],
   "source": [
    "#siab_train = siab_s[siab_s.year < 2015]\n",
    "siab_calib = siab[siab.year == 2015]\n",
    "siab_test = siab[siab.year == 2016]"
   ]
  },
  {
   "cell_type": "code",
   "execution_count": 21,
   "id": "472de16f-c3db-4916-846b-1f0de9cf1746",
   "metadata": {
    "execution": {
     "iopub.execute_input": "2025-07-30T13:25:22.310072Z",
     "iopub.status.busy": "2025-07-30T13:25:22.309317Z",
     "iopub.status.idle": "2025-07-30T13:25:22.325110Z",
     "shell.execute_reply": "2025-07-30T13:25:22.323873Z"
    },
    "papermill": {
     "duration": 0.043466,
     "end_time": "2025-07-30T13:25:22.327043",
     "exception": false,
     "start_time": "2025-07-30T13:25:22.283577",
     "status": "completed"
    },
    "tags": []
   },
   "outputs": [],
   "source": [
    "X_train = siab_train.iloc[:,4:164]\n",
    "y_train = siab_train.iloc[:, [3]]"
   ]
  },
  {
   "cell_type": "code",
   "execution_count": 22,
   "id": "828c96af-f43a-4ed6-ba47-8ac73a47d56c",
   "metadata": {
    "execution": {
     "iopub.execute_input": "2025-07-30T13:25:22.410231Z",
     "iopub.status.busy": "2025-07-30T13:25:22.409753Z",
     "iopub.status.idle": "2025-07-30T13:25:22.600468Z",
     "shell.execute_reply": "2025-07-30T13:25:22.593467Z"
    },
    "papermill": {
     "duration": 0.251193,
     "end_time": "2025-07-30T13:25:22.602287",
     "exception": false,
     "start_time": "2025-07-30T13:25:22.351094",
     "status": "completed"
    },
    "tags": []
   },
   "outputs": [],
   "source": [
    "X_calib = siab_calib.iloc[:,4:164]\n",
    "y_calib = siab_calib.iloc[:, [3]]"
   ]
  },
  {
   "cell_type": "code",
   "execution_count": 23,
   "id": "c34be9c3-6bd6-476e-acd3-845840e303be",
   "metadata": {
    "execution": {
     "iopub.execute_input": "2025-07-30T13:25:22.693959Z",
     "iopub.status.busy": "2025-07-30T13:25:22.693526Z",
     "iopub.status.idle": "2025-07-30T13:25:22.804009Z",
     "shell.execute_reply": "2025-07-30T13:25:22.802736Z"
    },
    "papermill": {
     "duration": 0.18201,
     "end_time": "2025-07-30T13:25:22.825565",
     "exception": false,
     "start_time": "2025-07-30T13:25:22.643555",
     "status": "completed"
    },
    "tags": []
   },
   "outputs": [],
   "source": [
    "X_test = siab_test.iloc[:,4:164]\n",
    "y_true = siab_test.iloc[:, [3]]"
   ]
  },
  {
   "cell_type": "markdown",
   "id": "9901737e-04df-44f0-9100-f5ad144ed040",
   "metadata": {
    "papermill": {
     "duration": 0.038522,
     "end_time": "2025-07-30T13:25:22.902625",
     "exception": false,
     "start_time": "2025-07-30T13:25:22.864103",
     "status": "completed"
    },
    "tags": []
   },
   "source": [
    "# Splitting Data and Setting Training Data Size OLD VERSION"
   ]
  },
  {
   "cell_type": "code",
   "execution_count": 24,
   "id": "acbc8f7d-8fc8-4e86-8c59-5dcb0f58384b",
   "metadata": {
    "execution": {
     "iopub.execute_input": "2025-07-30T13:25:22.995256Z",
     "iopub.status.busy": "2025-07-30T13:25:22.994858Z",
     "iopub.status.idle": "2025-07-30T13:25:23.000474Z",
     "shell.execute_reply": "2025-07-30T13:25:22.999554Z"
    },
    "papermill": {
     "duration": 0.032372,
     "end_time": "2025-07-30T13:25:23.003500",
     "exception": false,
     "start_time": "2025-07-30T13:25:22.971128",
     "status": "completed"
    },
    "tags": []
   },
   "outputs": [],
   "source": [
    "#def sample_by_year(df, training_size, random_state=42):\n",
    "#    if training_size == \"2014\":\n",
    "#        return df[df[\"year\"] == 2014].reset_index(drop=True)\n",
    "#    \n",
    "#    size_map = {\n",
    "#        \"25k\": 5000,\n",
    "#        \"5k\": 1000,\n",
    "#        \"1k\": 200\n",
    "#    }\n",
    "#\n",
    "#    if training_size not in size_map:\n",
    "#        return df.reset_index(drop=True)  # use all data\n",
    "#\n",
    "#    n_per_year = size_map[training_size]\n",
    "#    grouped = df.groupby(\"year\")\n",
    "#    sampled = grouped.apply(lambda x: x.sample(n=min(n_per_year, len(x)), random_state=random_state))\n",
    "#    return sampled.reset_index(drop=True)"
   ]
  },
  {
   "cell_type": "code",
   "execution_count": 25,
   "id": "6d931f52-beaf-43ff-9e78-9d44a448d54e",
   "metadata": {
    "execution": {
     "iopub.execute_input": "2025-07-30T13:25:23.080731Z",
     "iopub.status.busy": "2025-07-30T13:25:23.080317Z",
     "iopub.status.idle": "2025-07-30T13:25:23.086453Z",
     "shell.execute_reply": "2025-07-30T13:25:23.085544Z"
    },
    "papermill": {
     "duration": 0.040138,
     "end_time": "2025-07-30T13:25:23.088066",
     "exception": false,
     "start_time": "2025-07-30T13:25:23.047928",
     "status": "completed"
    },
    "tags": []
   },
   "outputs": [],
   "source": [
    "#siab_s = sample_by_year(siab, universe[\"training_size\"])"
   ]
  },
  {
   "cell_type": "code",
   "execution_count": 26,
   "id": "5db0a40e-a4e2-4920-be85-b12ae061d70d",
   "metadata": {
    "execution": {
     "iopub.execute_input": "2025-07-30T13:25:23.170836Z",
     "iopub.status.busy": "2025-07-30T13:25:23.170431Z",
     "iopub.status.idle": "2025-07-30T13:25:23.175441Z",
     "shell.execute_reply": "2025-07-30T13:25:23.174593Z"
    },
    "papermill": {
     "duration": 0.057242,
     "end_time": "2025-07-30T13:25:23.177817",
     "exception": false,
     "start_time": "2025-07-30T13:25:23.120575",
     "status": "completed"
    },
    "tags": []
   },
   "outputs": [],
   "source": [
    "#display(siab_s.groupby(\"year\").size())"
   ]
  },
  {
   "cell_type": "code",
   "execution_count": 27,
   "id": "e6c733c5",
   "metadata": {
    "execution": {
     "iopub.execute_input": "2025-07-30T13:25:23.238884Z",
     "iopub.status.busy": "2025-07-30T13:25:23.238356Z",
     "iopub.status.idle": "2025-07-30T13:25:23.350036Z",
     "shell.execute_reply": "2025-07-30T13:25:23.348819Z"
    },
    "papermill": {
     "duration": 0.138085,
     "end_time": "2025-07-30T13:25:23.356833",
     "exception": false,
     "start_time": "2025-07-30T13:25:23.218748",
     "status": "completed"
    },
    "tags": []
   },
   "outputs": [],
   "source": [
    "# Auxiliary data needed downstream in the pipeline\n",
    "\n",
    "org_train = X_train.copy()\n",
    "org_test = X_test.copy()\n",
    "org_calib = X_calib.copy()"
   ]
  },
  {
   "cell_type": "code",
   "execution_count": 28,
   "id": "1466abac-c6da-4492-a62f-4240ae3783af",
   "metadata": {
    "execution": {
     "iopub.execute_input": "2025-07-30T13:25:23.461519Z",
     "iopub.status.busy": "2025-07-30T13:25:23.461038Z",
     "iopub.status.idle": "2025-07-30T13:25:23.468074Z",
     "shell.execute_reply": "2025-07-30T13:25:23.466888Z"
    },
    "papermill": {
     "duration": 0.0532,
     "end_time": "2025-07-30T13:25:23.477537",
     "exception": false,
     "start_time": "2025-07-30T13:25:23.424337",
     "status": "completed"
    },
    "tags": []
   },
   "outputs": [],
   "source": [
    "# put in other script?\n",
    "# Group sizes\n",
    "\n",
    "#def calculate_percentages(df, df_name):\n",
    "#    total_entries = len(df)\n",
    "#\n",
    "#    female_pct = (df['frau1'] == 1).mean() * 100\n",
    "#    non_german_pct = ((df['maxdeutsch1'] == 0) & (df['maxdeutsch.Missing.'] == 0)).mean() * 100\n",
    "#    non_german_male_pct = ((df['frau1'] == 0) & (df['maxdeutsch1'] == 0) & (df['maxdeutsch.Missing.'] == 0)).mean() * 100\n",
    "#    non_german_female_pct = ((df['frau1'] == 1) & (df['maxdeutsch1'] == 0) & (df['maxdeutsch.Missing.'] == 0)).mean() * 100\n",
    "#\n",
    "#    print(f\"--- {df_name} ---\")\n",
    "#    print(f\"Female: {female_pct:.2f}%\")\n",
    "#    print(f\"Non-German: {non_german_pct:.2f}%\")\n",
    "#    print(f\"Non-German Male: {non_german_male_pct:.2f}%\")\n",
    "#    print(f\"Non-German Female: {non_german_female_pct:.2f}%\\n\")\n",
    "#\n",
    "## Calculate for each DataFrame\n",
    "#calculate_percentages(siab_calib, \"siab_calib\")\n",
    "#calculate_percentages(siab_test, \"siab_test\")\n",
    "#calculate_percentages(siab_train, \"siab_train\")"
   ]
  },
  {
   "cell_type": "markdown",
   "id": "0a4a1b33",
   "metadata": {
    "papermill": {
     "duration": 0.052222,
     "end_time": "2025-07-30T13:25:23.584862",
     "exception": false,
     "start_time": "2025-07-30T13:25:23.532640",
     "status": "completed"
    },
    "tags": []
   },
   "source": [
    "# Preprocessing Data"
   ]
  },
  {
   "cell_type": "code",
   "execution_count": 29,
   "id": "ca879031",
   "metadata": {
    "execution": {
     "iopub.execute_input": "2025-07-30T13:25:23.669023Z",
     "iopub.status.busy": "2025-07-30T13:25:23.668511Z",
     "iopub.status.idle": "2025-07-30T13:25:23.675863Z",
     "shell.execute_reply": "2025-07-30T13:25:23.674785Z"
    },
    "papermill": {
     "duration": 0.041903,
     "end_time": "2025-07-30T13:25:23.678054",
     "exception": false,
     "start_time": "2025-07-30T13:25:23.636151",
     "status": "completed"
    },
    "tags": []
   },
   "outputs": [],
   "source": [
    "# EXCLUDE PROTECTED FEATURES\n",
    "# ----------------------\n",
    "# \"exclude_features\": \"none\", # \"nationality\", \"sex\", \"nationality-sex\"\n",
    "\n",
    "excluded_features = universe[\"exclude_features\"].split(\"-\") # split, e.g.: \"nationality-sex\" -> [\"nationality\", \"sex\"]\n",
    "excluded_features_dictionary = {\n",
    "    \"nationality\": [\"maxdeutsch1\", \"maxdeutsch.Missing.\"],\n",
    "    \"sex\": [\"frau1\"],\n",
    "    \"age\": [\"age\"],\n",
    "}\n"
   ]
  },
  {
   "cell_type": "code",
   "execution_count": 30,
   "id": "b745ac60",
   "metadata": {
    "execution": {
     "iopub.execute_input": "2025-07-30T13:25:23.775693Z",
     "iopub.status.busy": "2025-07-30T13:25:23.775274Z",
     "iopub.status.idle": "2025-07-30T13:25:23.781327Z",
     "shell.execute_reply": "2025-07-30T13:25:23.780421Z"
    },
    "papermill": {
     "duration": 0.050603,
     "end_time": "2025-07-30T13:25:23.785098",
     "exception": false,
     "start_time": "2025-07-30T13:25:23.734495",
     "status": "completed"
    },
    "tags": []
   },
   "outputs": [],
   "source": [
    "# Code nice names to column names\n",
    "\n",
    "excluded_features_columns = [\n",
    "    excluded_features_dictionary[f] for f in excluded_features if len(f) > 0 and f != \"none\"\n",
    "]"
   ]
  },
  {
   "cell_type": "code",
   "execution_count": 31,
   "id": "f84f73a2",
   "metadata": {
    "execution": {
     "iopub.execute_input": "2025-07-30T13:25:23.887751Z",
     "iopub.status.busy": "2025-07-30T13:25:23.887331Z",
     "iopub.status.idle": "2025-07-30T13:25:23.894628Z",
     "shell.execute_reply": "2025-07-30T13:25:23.893481Z"
    },
    "papermill": {
     "duration": 0.052017,
     "end_time": "2025-07-30T13:25:23.898113",
     "exception": false,
     "start_time": "2025-07-30T13:25:23.846096",
     "status": "completed"
    },
    "tags": []
   },
   "outputs": [],
   "source": [
    "from utils import flatten_once\n",
    "\n",
    "excluded_features_columns = flatten_once(excluded_features_columns)"
   ]
  },
  {
   "cell_type": "code",
   "execution_count": 32,
   "id": "884dea22",
   "metadata": {
    "execution": {
     "iopub.execute_input": "2025-07-30T13:25:23.998084Z",
     "iopub.status.busy": "2025-07-30T13:25:23.997697Z",
     "iopub.status.idle": "2025-07-30T13:25:24.021927Z",
     "shell.execute_reply": "2025-07-30T13:25:24.020820Z"
    },
    "papermill": {
     "duration": 0.088928,
     "end_time": "2025-07-30T13:25:24.023839",
     "exception": false,
     "start_time": "2025-07-30T13:25:23.934911",
     "status": "completed"
    },
    "tags": []
   },
   "outputs": [
    {
     "name": "stdout",
     "output_type": "stream",
     "text": [
      "Dropping features: ['age']\n"
     ]
    }
   ],
   "source": [
    "if len(excluded_features_columns) > 0:\n",
    "    print(f\"Dropping features: {excluded_features_columns}\")\n",
    "    X_train.drop(excluded_features_columns, axis=1, inplace=True)"
   ]
  },
  {
   "cell_type": "code",
   "execution_count": 33,
   "id": "95ab8b16",
   "metadata": {
    "execution": {
     "iopub.execute_input": "2025-07-30T13:25:24.135252Z",
     "iopub.status.busy": "2025-07-30T13:25:24.134789Z",
     "iopub.status.idle": "2025-07-30T13:25:24.192483Z",
     "shell.execute_reply": "2025-07-30T13:25:24.191399Z"
    },
    "papermill": {
     "duration": 0.117763,
     "end_time": "2025-07-30T13:25:24.194471",
     "exception": false,
     "start_time": "2025-07-30T13:25:24.076708",
     "status": "completed"
    },
    "tags": []
   },
   "outputs": [
    {
     "name": "stdout",
     "output_type": "stream",
     "text": [
      "Dropping features: ['age']\n"
     ]
    }
   ],
   "source": [
    "if len(excluded_features_columns) > 0:\n",
    "    print(f\"Dropping features: {excluded_features_columns}\")\n",
    "    X_test.drop(excluded_features_columns, axis=1, inplace=True)"
   ]
  },
  {
   "cell_type": "code",
   "execution_count": 34,
   "id": "1853aaf5-fb9f-46cb-a2b5-8ea4ae2237e4",
   "metadata": {
    "execution": {
     "iopub.execute_input": "2025-07-30T13:25:24.298964Z",
     "iopub.status.busy": "2025-07-30T13:25:24.298515Z",
     "iopub.status.idle": "2025-07-30T13:25:24.405354Z",
     "shell.execute_reply": "2025-07-30T13:25:24.404107Z"
    },
    "papermill": {
     "duration": 0.163245,
     "end_time": "2025-07-30T13:25:24.407566",
     "exception": false,
     "start_time": "2025-07-30T13:25:24.244321",
     "status": "completed"
    },
    "tags": []
   },
   "outputs": [
    {
     "name": "stdout",
     "output_type": "stream",
     "text": [
      "Dropping features: ['age']\n"
     ]
    }
   ],
   "source": [
    "if len(excluded_features_columns) > 0:\n",
    "    print(f\"Dropping features: {excluded_features_columns}\")\n",
    "    X_calib.drop(excluded_features_columns, axis=1, inplace=True)"
   ]
  },
  {
   "cell_type": "code",
   "execution_count": 35,
   "id": "6727d079-03e5-481e-9d38-292a90b7a0a8",
   "metadata": {
    "execution": {
     "iopub.execute_input": "2025-07-30T13:25:24.493607Z",
     "iopub.status.busy": "2025-07-30T13:25:24.493198Z",
     "iopub.status.idle": "2025-07-30T13:25:24.498184Z",
     "shell.execute_reply": "2025-07-30T13:25:24.497361Z"
    },
    "papermill": {
     "duration": 0.055607,
     "end_time": "2025-07-30T13:25:24.500230",
     "exception": false,
     "start_time": "2025-07-30T13:25:24.444623",
     "status": "completed"
    },
    "tags": []
   },
   "outputs": [],
   "source": [
    "# SPLIT & STRATIFY DATA\n",
    "# ----------------------"
   ]
  },
  {
   "cell_type": "code",
   "execution_count": 36,
   "id": "76c4dc6d",
   "metadata": {
    "execution": {
     "iopub.execute_input": "2025-07-30T13:25:24.598504Z",
     "iopub.status.busy": "2025-07-30T13:25:24.598100Z",
     "iopub.status.idle": "2025-07-30T13:25:24.605285Z",
     "shell.execute_reply": "2025-07-30T13:25:24.604173Z"
    },
    "papermill": {
     "duration": 0.084919,
     "end_time": "2025-07-30T13:25:24.607600",
     "exception": false,
     "start_time": "2025-07-30T13:25:24.522681",
     "status": "completed"
    },
    "tags": []
   },
   "outputs": [],
   "source": [
    "# EXCLUDE CERTAIN SUBGROUPS\n",
    "# ----------------------\n",
    "\n",
    "mode = universe.get(\"exclude_subgroups\", \"keep-all\") \n",
    "# Fetches the exclude_subgroups setting from the universe dict.\n",
    "# Defaults to \"keep-all\" if the key is missing."
   ]
  },
  {
   "cell_type": "code",
   "execution_count": 37,
   "id": "21994072",
   "metadata": {
    "execution": {
     "iopub.execute_input": "2025-07-30T13:25:24.742766Z",
     "iopub.status.busy": "2025-07-30T13:25:24.742370Z",
     "iopub.status.idle": "2025-07-30T13:25:24.750227Z",
     "shell.execute_reply": "2025-07-30T13:25:24.749166Z"
    },
    "papermill": {
     "duration": 0.085488,
     "end_time": "2025-07-30T13:25:24.753346",
     "exception": false,
     "start_time": "2025-07-30T13:25:24.667858",
     "status": "completed"
    },
    "tags": []
   },
   "outputs": [],
   "source": [
    "if mode == \"keep-all\":\n",
    "    keep_mask = pd.Series(True, index=org_train.index)\n",
    "\n",
    "# org_train contains the original feature columns from features_org (in Simson)\n",
    "# features_org contains unprocessed features, for me X_train at beginning ???\n",
    "# For keep-all, creates a boolean Series (keep_mask) of all True, so no rows are removed.\n",
    "\n",
    "elif mode == \"drop-non-german\":\n",
    "    keep_mask = org_train[\"maxdeutsch1\"] == 1 # ??? what about missing values?\n",
    "\n",
    "else:\n",
    "    raise ValueError(f\"Unsupported mode for exclude_subgroups: {mode}\")\n"
   ]
  },
  {
   "cell_type": "code",
   "execution_count": 38,
   "id": "71651440",
   "metadata": {
    "execution": {
     "iopub.execute_input": "2025-07-30T13:25:24.890052Z",
     "iopub.status.busy": "2025-07-30T13:25:24.889584Z",
     "iopub.status.idle": "2025-07-30T13:25:24.897382Z",
     "shell.execute_reply": "2025-07-30T13:25:24.896297Z"
    },
    "papermill": {
     "duration": 0.055861,
     "end_time": "2025-07-30T13:25:24.900154",
     "exception": false,
     "start_time": "2025-07-30T13:25:24.844293",
     "status": "completed"
    },
    "tags": []
   },
   "outputs": [],
   "source": [
    "n_drop = (~keep_mask).sum() # Calculates how many rows are set to be dropped\n",
    "if n_drop > 0:\n",
    "    pct = n_drop / len(keep_mask) * 100\n",
    "    print(f\"Dropping {n_drop} rows ({pct:.2f}%) where mode='{mode}'\")"
   ]
  },
  {
   "cell_type": "code",
   "execution_count": 39,
   "id": "5fb8eee5",
   "metadata": {
    "execution": {
     "iopub.execute_input": "2025-07-30T13:25:25.034259Z",
     "iopub.status.busy": "2025-07-30T13:25:25.033842Z",
     "iopub.status.idle": "2025-07-30T13:25:25.052767Z",
     "shell.execute_reply": "2025-07-30T13:25:25.051699Z"
    },
    "papermill": {
     "duration": 0.07436,
     "end_time": "2025-07-30T13:25:25.054985",
     "exception": false,
     "start_time": "2025-07-30T13:25:24.980625",
     "status": "completed"
    },
    "tags": []
   },
   "outputs": [],
   "source": [
    "X_train = X_train[keep_mask]"
   ]
  },
  {
   "cell_type": "code",
   "execution_count": 40,
   "id": "b202bb3a",
   "metadata": {
    "execution": {
     "iopub.execute_input": "2025-07-30T13:25:25.150978Z",
     "iopub.status.busy": "2025-07-30T13:25:25.150544Z",
     "iopub.status.idle": "2025-07-30T13:25:25.158699Z",
     "shell.execute_reply": "2025-07-30T13:25:25.157537Z"
    },
    "papermill": {
     "duration": 0.052437,
     "end_time": "2025-07-30T13:25:25.161062",
     "exception": false,
     "start_time": "2025-07-30T13:25:25.108625",
     "status": "completed"
    },
    "tags": []
   },
   "outputs": [],
   "source": [
    "y_train = y_train[keep_mask]"
   ]
  },
  {
   "cell_type": "markdown",
   "id": "493e2ac3",
   "metadata": {
    "papermill": {
     "duration": 0.080959,
     "end_time": "2025-07-30T13:25:25.264305",
     "exception": false,
     "start_time": "2025-07-30T13:25:25.183346",
     "status": "completed"
    },
    "tags": []
   },
   "source": [
    "# Model Training"
   ]
  },
  {
   "cell_type": "code",
   "execution_count": 41,
   "id": "679e1268",
   "metadata": {
    "execution": {
     "iopub.execute_input": "2025-07-30T13:25:25.420017Z",
     "iopub.status.busy": "2025-07-30T13:25:25.419614Z",
     "iopub.status.idle": "2025-07-30T13:25:25.726742Z",
     "shell.execute_reply": "2025-07-30T13:25:25.725594Z"
    },
    "papermill": {
     "duration": 0.356712,
     "end_time": "2025-07-30T13:25:25.729361",
     "exception": false,
     "start_time": "2025-07-30T13:25:25.372649",
     "status": "completed"
    },
    "tags": []
   },
   "outputs": [],
   "source": [
    "from sklearn.linear_model import LogisticRegression\n",
    "from sklearn.ensemble import GradientBoostingClassifier, RandomForestClassifier\n",
    "\n",
    "if (universe[\"model\"] == \"logreg\"):\n",
    "    model = LogisticRegression() #penalty=\"none\") #, solver=\"newton-cg\", max_iter=1) # include random_state=19 ?\n",
    "elif (universe[\"model\"] == \"penalized_logreg\"):\n",
    "    model = LogisticRegression(penalty=\"l2\", C=1.0) #, solver=\"newton-cg\", max_iter=1)\n",
    "elif (universe[\"model\"] == \"rf\"):\n",
    "    model = RandomForestClassifier(n_estimators=100, n_jobs=-1)\n",
    "elif (universe[\"model\"] == \"gbm\"):\n",
    "    model = GradientBoostingClassifier()\n",
    "elif (universe[\"model\"] == \"elasticnet\"):\n",
    "    model = LogisticRegression(penalty = 'elasticnet', solver = 'saga', l1_ratio = 0.5, max_iter=5000) # which solver to use?\n",
    "else:\n",
    "    raise \"Unsupported universe.model\""
   ]
  },
  {
   "cell_type": "code",
   "execution_count": 42,
   "id": "0cc8f744",
   "metadata": {
    "execution": {
     "iopub.execute_input": "2025-07-30T13:25:25.835197Z",
     "iopub.status.busy": "2025-07-30T13:25:25.834775Z",
     "iopub.status.idle": "2025-07-30T13:25:25.850627Z",
     "shell.execute_reply": "2025-07-30T13:25:25.849259Z"
    },
    "papermill": {
     "duration": 0.059904,
     "end_time": "2025-07-30T13:25:25.852498",
     "exception": false,
     "start_time": "2025-07-30T13:25:25.792594",
     "status": "completed"
    },
    "tags": []
   },
   "outputs": [],
   "source": [
    "import numpy as np\n",
    "from sklearn.pipeline import Pipeline\n",
    "from sklearn.preprocessing import StandardScaler\n",
    "\n",
    "model = Pipeline([\n",
    "    #(\"continuous_processor\", continuous_processor),\n",
    "    #(\"categorical_preprocessor\", categorical_preprocessor),\n",
    "    (\"scale\", StandardScaler() if universe[\"scale\"] == \"scale\" else None), \n",
    "    (\"model\", model),\n",
    "])"
   ]
  },
  {
   "cell_type": "code",
   "execution_count": 43,
   "id": "9442c04d",
   "metadata": {
    "execution": {
     "iopub.execute_input": "2025-07-30T13:25:25.958687Z",
     "iopub.status.busy": "2025-07-30T13:25:25.958259Z",
     "iopub.status.idle": "2025-07-30T13:25:31.151517Z",
     "shell.execute_reply": "2025-07-30T13:25:31.150587Z"
    },
    "papermill": {
     "duration": 5.252902,
     "end_time": "2025-07-30T13:25:31.153527",
     "exception": false,
     "start_time": "2025-07-30T13:25:25.900625",
     "status": "completed"
    },
    "tags": []
   },
   "outputs": [
    {
     "data": {
      "text/html": [
       "<style>#sk-container-id-1 {color: black;background-color: white;}#sk-container-id-1 pre{padding: 0;}#sk-container-id-1 div.sk-toggleable {background-color: white;}#sk-container-id-1 label.sk-toggleable__label {cursor: pointer;display: block;width: 100%;margin-bottom: 0;padding: 0.3em;box-sizing: border-box;text-align: center;}#sk-container-id-1 label.sk-toggleable__label-arrow:before {content: \"▸\";float: left;margin-right: 0.25em;color: #696969;}#sk-container-id-1 label.sk-toggleable__label-arrow:hover:before {color: black;}#sk-container-id-1 div.sk-estimator:hover label.sk-toggleable__label-arrow:before {color: black;}#sk-container-id-1 div.sk-toggleable__content {max-height: 0;max-width: 0;overflow: hidden;text-align: left;background-color: #f0f8ff;}#sk-container-id-1 div.sk-toggleable__content pre {margin: 0.2em;color: black;border-radius: 0.25em;background-color: #f0f8ff;}#sk-container-id-1 input.sk-toggleable__control:checked~div.sk-toggleable__content {max-height: 200px;max-width: 100%;overflow: auto;}#sk-container-id-1 input.sk-toggleable__control:checked~label.sk-toggleable__label-arrow:before {content: \"▾\";}#sk-container-id-1 div.sk-estimator input.sk-toggleable__control:checked~label.sk-toggleable__label {background-color: #d4ebff;}#sk-container-id-1 div.sk-label input.sk-toggleable__control:checked~label.sk-toggleable__label {background-color: #d4ebff;}#sk-container-id-1 input.sk-hidden--visually {border: 0;clip: rect(1px 1px 1px 1px);clip: rect(1px, 1px, 1px, 1px);height: 1px;margin: -1px;overflow: hidden;padding: 0;position: absolute;width: 1px;}#sk-container-id-1 div.sk-estimator {font-family: monospace;background-color: #f0f8ff;border: 1px dotted black;border-radius: 0.25em;box-sizing: border-box;margin-bottom: 0.5em;}#sk-container-id-1 div.sk-estimator:hover {background-color: #d4ebff;}#sk-container-id-1 div.sk-parallel-item::after {content: \"\";width: 100%;border-bottom: 1px solid gray;flex-grow: 1;}#sk-container-id-1 div.sk-label:hover label.sk-toggleable__label {background-color: #d4ebff;}#sk-container-id-1 div.sk-serial::before {content: \"\";position: absolute;border-left: 1px solid gray;box-sizing: border-box;top: 0;bottom: 0;left: 50%;z-index: 0;}#sk-container-id-1 div.sk-serial {display: flex;flex-direction: column;align-items: center;background-color: white;padding-right: 0.2em;padding-left: 0.2em;position: relative;}#sk-container-id-1 div.sk-item {position: relative;z-index: 1;}#sk-container-id-1 div.sk-parallel {display: flex;align-items: stretch;justify-content: center;background-color: white;position: relative;}#sk-container-id-1 div.sk-item::before, #sk-container-id-1 div.sk-parallel-item::before {content: \"\";position: absolute;border-left: 1px solid gray;box-sizing: border-box;top: 0;bottom: 0;left: 50%;z-index: -1;}#sk-container-id-1 div.sk-parallel-item {display: flex;flex-direction: column;z-index: 1;position: relative;background-color: white;}#sk-container-id-1 div.sk-parallel-item:first-child::after {align-self: flex-end;width: 50%;}#sk-container-id-1 div.sk-parallel-item:last-child::after {align-self: flex-start;width: 50%;}#sk-container-id-1 div.sk-parallel-item:only-child::after {width: 0;}#sk-container-id-1 div.sk-dashed-wrapped {border: 1px dashed gray;margin: 0 0.4em 0.5em 0.4em;box-sizing: border-box;padding-bottom: 0.4em;background-color: white;}#sk-container-id-1 div.sk-label label {font-family: monospace;font-weight: bold;display: inline-block;line-height: 1.2em;}#sk-container-id-1 div.sk-label-container {text-align: center;}#sk-container-id-1 div.sk-container {/* jupyter's `normalize.less` sets `[hidden] { display: none; }` but bootstrap.min.css set `[hidden] { display: none !important; }` so we also need the `!important` here to be able to override the default hidden behavior on the sphinx rendered scikit-learn.org. See: https://github.com/scikit-learn/scikit-learn/issues/21755 */display: inline-block !important;position: relative;}#sk-container-id-1 div.sk-text-repr-fallback {display: none;}</style><div id=\"sk-container-id-1\" class=\"sk-top-container\"><div class=\"sk-text-repr-fallback\"><pre>Pipeline(steps=[(&#x27;scale&#x27;, StandardScaler()),\n",
       "                (&#x27;model&#x27;, RandomForestClassifier(n_jobs=-1))])</pre><b>In a Jupyter environment, please rerun this cell to show the HTML representation or trust the notebook. <br />On GitHub, the HTML representation is unable to render, please try loading this page with nbviewer.org.</b></div><div class=\"sk-container\" hidden><div class=\"sk-item sk-dashed-wrapped\"><div class=\"sk-label-container\"><div class=\"sk-label sk-toggleable\"><input class=\"sk-toggleable__control sk-hidden--visually\" id=\"sk-estimator-id-1\" type=\"checkbox\" ><label for=\"sk-estimator-id-1\" class=\"sk-toggleable__label sk-toggleable__label-arrow\">Pipeline</label><div class=\"sk-toggleable__content\"><pre>Pipeline(steps=[(&#x27;scale&#x27;, StandardScaler()),\n",
       "                (&#x27;model&#x27;, RandomForestClassifier(n_jobs=-1))])</pre></div></div></div><div class=\"sk-serial\"><div class=\"sk-item\"><div class=\"sk-estimator sk-toggleable\"><input class=\"sk-toggleable__control sk-hidden--visually\" id=\"sk-estimator-id-2\" type=\"checkbox\" ><label for=\"sk-estimator-id-2\" class=\"sk-toggleable__label sk-toggleable__label-arrow\">StandardScaler</label><div class=\"sk-toggleable__content\"><pre>StandardScaler()</pre></div></div></div><div class=\"sk-item\"><div class=\"sk-estimator sk-toggleable\"><input class=\"sk-toggleable__control sk-hidden--visually\" id=\"sk-estimator-id-3\" type=\"checkbox\" ><label for=\"sk-estimator-id-3\" class=\"sk-toggleable__label sk-toggleable__label-arrow\">RandomForestClassifier</label><div class=\"sk-toggleable__content\"><pre>RandomForestClassifier(n_jobs=-1)</pre></div></div></div></div></div></div></div>"
      ],
      "text/plain": [
       "Pipeline(steps=[('scale', StandardScaler()),\n",
       "                ('model', RandomForestClassifier(n_jobs=-1))])"
      ]
     },
     "execution_count": 43,
     "metadata": {},
     "output_type": "execute_result"
    }
   ],
   "source": [
    "model.fit(X_train, y_train.values.ravel())"
   ]
  },
  {
   "cell_type": "code",
   "execution_count": 44,
   "id": "af59f8c0",
   "metadata": {
    "execution": {
     "iopub.execute_input": "2025-07-30T13:25:31.256195Z",
     "iopub.status.busy": "2025-07-30T13:25:31.255711Z",
     "iopub.status.idle": "2025-07-30T13:25:31.261580Z",
     "shell.execute_reply": "2025-07-30T13:25:31.260429Z"
    },
    "papermill": {
     "duration": 0.062143,
     "end_time": "2025-07-30T13:25:31.265180",
     "exception": false,
     "start_time": "2025-07-30T13:25:31.203037",
     "status": "completed"
    },
    "tags": []
   },
   "outputs": [],
   "source": [
    "from fairness_multiverse.universe import predict_w_threshold"
   ]
  },
  {
   "cell_type": "code",
   "execution_count": 45,
   "id": "a7cf2e16",
   "metadata": {
    "execution": {
     "iopub.execute_input": "2025-07-30T13:25:31.406998Z",
     "iopub.status.busy": "2025-07-30T13:25:31.406575Z",
     "iopub.status.idle": "2025-07-30T13:25:32.999050Z",
     "shell.execute_reply": "2025-07-30T13:25:32.998122Z"
    },
    "papermill": {
     "duration": 1.648367,
     "end_time": "2025-07-30T13:25:33.001047",
     "exception": false,
     "start_time": "2025-07-30T13:25:31.352680",
     "status": "completed"
    },
    "tags": []
   },
   "outputs": [
    {
     "data": {
      "text/plain": [
       "0.8677293501281909"
      ]
     },
     "execution_count": 45,
     "metadata": {},
     "output_type": "execute_result"
    }
   ],
   "source": [
    "probs_test = model.predict_proba(X_test)\n",
    "\n",
    "'''\n",
    "Below code returns a boolean array (or binary 0/1 array depending on how it’s used) where each element \n",
    "is True if the probability of class 1 is greater than or equal to the threshold, and False otherwise.\n",
    "'''\n",
    "y_pred_default = predict_w_threshold(probs_test, 0.5)\n",
    "\n",
    "from sklearn.metrics import accuracy_score\n",
    "\n",
    "# Naive prediction\n",
    "accuracy_score(y_true = y_true, y_pred = y_pred_default)"
   ]
  },
  {
   "cell_type": "code",
   "execution_count": 46,
   "id": "081964c3",
   "metadata": {
    "execution": {
     "iopub.execute_input": "2025-07-30T13:25:33.106595Z",
     "iopub.status.busy": "2025-07-30T13:25:33.106099Z",
     "iopub.status.idle": "2025-07-30T13:25:34.548516Z",
     "shell.execute_reply": "2025-07-30T13:25:34.539552Z"
    },
    "papermill": {
     "duration": 1.50241,
     "end_time": "2025-07-30T13:25:34.550682",
     "exception": false,
     "start_time": "2025-07-30T13:25:33.048272",
     "status": "completed"
    },
    "tags": []
   },
   "outputs": [
    {
     "data": {
      "text/plain": [
       "array([0, 0, 0, ..., 0, 0, 0])"
      ]
     },
     "execution_count": 46,
     "metadata": {},
     "output_type": "execute_result"
    }
   ],
   "source": [
    "model.predict(X_test)"
   ]
  },
  {
   "cell_type": "markdown",
   "id": "56c9705b",
   "metadata": {
    "papermill": {
     "duration": 0.064668,
     "end_time": "2025-07-30T13:25:34.688630",
     "exception": false,
     "start_time": "2025-07-30T13:25:34.623962",
     "status": "completed"
    },
    "tags": []
   },
   "source": [
    "# Conformal Prediction"
   ]
  },
  {
   "cell_type": "code",
   "execution_count": 47,
   "id": "160ec6ff",
   "metadata": {
    "execution": {
     "iopub.execute_input": "2025-07-30T13:25:34.871100Z",
     "iopub.status.busy": "2025-07-30T13:25:34.870144Z",
     "iopub.status.idle": "2025-07-30T13:25:34.875909Z",
     "shell.execute_reply": "2025-07-30T13:25:34.874934Z"
    },
    "papermill": {
     "duration": 0.105495,
     "end_time": "2025-07-30T13:25:34.877694",
     "exception": false,
     "start_time": "2025-07-30T13:25:34.772199",
     "status": "completed"
    },
    "tags": []
   },
   "outputs": [],
   "source": [
    "# Miscoverage level for conformal prediction (10% allowed error rate => 90% target coverage)\n",
    "alpha = 0.1"
   ]
  },
  {
   "cell_type": "code",
   "execution_count": 48,
   "id": "eadf4555-3dd3-440e-8e35-f82a4ad9f855",
   "metadata": {
    "execution": {
     "iopub.execute_input": "2025-07-30T13:25:35.036591Z",
     "iopub.status.busy": "2025-07-30T13:25:35.036168Z",
     "iopub.status.idle": "2025-07-30T13:25:36.748614Z",
     "shell.execute_reply": "2025-07-30T13:25:36.747556Z"
    },
    "papermill": {
     "duration": 1.807661,
     "end_time": "2025-07-30T13:25:36.750687",
     "exception": false,
     "start_time": "2025-07-30T13:25:34.943026",
     "status": "completed"
    },
    "tags": []
   },
   "outputs": [],
   "source": [
    "probs_calib = model.predict_proba(X_calib)"
   ]
  },
  {
   "cell_type": "code",
   "execution_count": 49,
   "id": "2ed93547-6d5d-4983-9b36-1ecb300da49a",
   "metadata": {
    "execution": {
     "iopub.execute_input": "2025-07-30T13:25:36.855152Z",
     "iopub.status.busy": "2025-07-30T13:25:36.854719Z",
     "iopub.status.idle": "2025-07-30T13:25:36.860581Z",
     "shell.execute_reply": "2025-07-30T13:25:36.859597Z"
    },
    "papermill": {
     "duration": 0.07208,
     "end_time": "2025-07-30T13:25:36.863574",
     "exception": false,
     "start_time": "2025-07-30T13:25:36.791494",
     "status": "completed"
    },
    "tags": []
   },
   "outputs": [],
   "source": [
    "y_calib = y_calib.values.ravel().astype(int)"
   ]
  },
  {
   "cell_type": "code",
   "execution_count": 50,
   "id": "65d1320d-f588-4b38-9072-62af1ae97f7d",
   "metadata": {
    "execution": {
     "iopub.execute_input": "2025-07-30T13:25:36.934646Z",
     "iopub.status.busy": "2025-07-30T13:25:36.934180Z",
     "iopub.status.idle": "2025-07-30T13:25:36.942951Z",
     "shell.execute_reply": "2025-07-30T13:25:36.942095Z"
    },
    "papermill": {
     "duration": 0.037264,
     "end_time": "2025-07-30T13:25:36.945047",
     "exception": false,
     "start_time": "2025-07-30T13:25:36.907783",
     "status": "completed"
    },
    "tags": []
   },
   "outputs": [],
   "source": [
    "from fairness_multiverse.conformal import compute_nc_scores\n",
    "\n",
    "# Compute nonconformity scores on calibration set (1 - probability of true class)\n",
    "nc_scores = compute_nc_scores(probs_calib, y_calib)"
   ]
  },
  {
   "cell_type": "code",
   "execution_count": 51,
   "id": "df3b8ca3-53b7-43d5-9667-7c85da7aeda2",
   "metadata": {
    "execution": {
     "iopub.execute_input": "2025-07-30T13:25:37.044349Z",
     "iopub.status.busy": "2025-07-30T13:25:37.043886Z",
     "iopub.status.idle": "2025-07-30T13:25:37.051214Z",
     "shell.execute_reply": "2025-07-30T13:25:37.050070Z"
    },
    "papermill": {
     "duration": 0.063406,
     "end_time": "2025-07-30T13:25:37.055572",
     "exception": false,
     "start_time": "2025-07-30T13:25:36.992166",
     "status": "completed"
    },
    "tags": []
   },
   "outputs": [],
   "source": [
    "from fairness_multiverse.conformal import find_threshold\n",
    "\n",
    "# Find conformal threshold q_hat for the given alpha (split conformal method)\n",
    "q_hat = find_threshold(nc_scores, alpha)"
   ]
  },
  {
   "cell_type": "code",
   "execution_count": 52,
   "id": "4d29e6c1-0ef6-4aa4-b8fe-4fe79b0d033a",
   "metadata": {
    "execution": {
     "iopub.execute_input": "2025-07-30T13:25:37.163711Z",
     "iopub.status.busy": "2025-07-30T13:25:37.163296Z",
     "iopub.status.idle": "2025-07-30T13:25:37.171321Z",
     "shell.execute_reply": "2025-07-30T13:25:37.170325Z"
    },
    "papermill": {
     "duration": 0.062647,
     "end_time": "2025-07-30T13:25:37.174745",
     "exception": false,
     "start_time": "2025-07-30T13:25:37.112098",
     "status": "completed"
    },
    "tags": []
   },
   "outputs": [
    {
     "data": {
      "text/plain": [
       "0.6599999999999999"
      ]
     },
     "execution_count": 52,
     "metadata": {},
     "output_type": "execute_result"
    }
   ],
   "source": [
    "q_hat"
   ]
  },
  {
   "cell_type": "code",
   "execution_count": 53,
   "id": "92460794-cdac-4be2-ba28-f28c0515a6fb",
   "metadata": {
    "execution": {
     "iopub.execute_input": "2025-07-30T13:25:37.223944Z",
     "iopub.status.busy": "2025-07-30T13:25:37.223512Z",
     "iopub.status.idle": "2025-07-30T13:25:39.383490Z",
     "shell.execute_reply": "2025-07-30T13:25:39.382767Z"
    },
    "papermill": {
     "duration": 2.186485,
     "end_time": "2025-07-30T13:25:39.385186",
     "exception": false,
     "start_time": "2025-07-30T13:25:37.198701",
     "status": "completed"
    },
    "tags": []
   },
   "outputs": [],
   "source": [
    "from fairness_multiverse.conformal import predict_conformal_sets\n",
    "\n",
    "# Generate prediction sets for each test example\n",
    "pred_sets = predict_conformal_sets(model, X_test, q_hat)"
   ]
  },
  {
   "cell_type": "code",
   "execution_count": 54,
   "id": "d90c9a65-e6db-4f5d-80cd-e68fb7e46829",
   "metadata": {
    "execution": {
     "iopub.execute_input": "2025-07-30T13:25:39.466865Z",
     "iopub.status.busy": "2025-07-30T13:25:39.466069Z",
     "iopub.status.idle": "2025-07-30T13:25:39.471999Z",
     "shell.execute_reply": "2025-07-30T13:25:39.471028Z"
    },
    "papermill": {
     "duration": 0.061799,
     "end_time": "2025-07-30T13:25:39.473490",
     "exception": false,
     "start_time": "2025-07-30T13:25:39.411691",
     "status": "completed"
    },
    "tags": []
   },
   "outputs": [],
   "source": [
    "y_true = y_true.squeeze()"
   ]
  },
  {
   "cell_type": "code",
   "execution_count": 55,
   "id": "3a58a54a-1e68-46b9-927a-df01f18aebc8",
   "metadata": {
    "execution": {
     "iopub.execute_input": "2025-07-30T13:25:39.546609Z",
     "iopub.status.busy": "2025-07-30T13:25:39.545257Z",
     "iopub.status.idle": "2025-07-30T13:25:40.628501Z",
     "shell.execute_reply": "2025-07-30T13:25:40.614652Z"
    },
    "papermill": {
     "duration": 1.117071,
     "end_time": "2025-07-30T13:25:40.630486",
     "exception": false,
     "start_time": "2025-07-30T13:25:39.513415",
     "status": "completed"
    },
    "tags": []
   },
   "outputs": [],
   "source": [
    "from fairness_multiverse.conformal import evaluate_sets\n",
    "\n",
    "# Evaluate coverage and average set size on test data\n",
    "metrics = evaluate_sets(pred_sets, y_true)"
   ]
  },
  {
   "cell_type": "markdown",
   "id": "2b569c12-9aaa-4c88-98c9-bbcd0cf3ebb8",
   "metadata": {
    "papermill": {
     "duration": 0.0522,
     "end_time": "2025-07-30T13:25:40.732845",
     "exception": false,
     "start_time": "2025-07-30T13:25:40.680645",
     "status": "completed"
    },
    "tags": []
   },
   "source": [
    "# CP Metrics"
   ]
  },
  {
   "cell_type": "code",
   "execution_count": 56,
   "id": "5ce0a5cb-201f-45a0-ade5-94c7f0bd6095",
   "metadata": {
    "execution": {
     "iopub.execute_input": "2025-07-30T13:25:40.820716Z",
     "iopub.status.busy": "2025-07-30T13:25:40.820277Z",
     "iopub.status.idle": "2025-07-30T13:25:40.828453Z",
     "shell.execute_reply": "2025-07-30T13:25:40.827340Z"
    },
    "papermill": {
     "duration": 0.040327,
     "end_time": "2025-07-30T13:25:40.832999",
     "exception": false,
     "start_time": "2025-07-30T13:25:40.792672",
     "status": "completed"
    },
    "tags": []
   },
   "outputs": [
    {
     "data": {
      "text/plain": [
       "{'coverage': 0.9144688440530598, 'avg_size': 1.142002006465277}"
      ]
     },
     "execution_count": 56,
     "metadata": {},
     "output_type": "execute_result"
    }
   ],
   "source": [
    "metrics"
   ]
  },
  {
   "cell_type": "code",
   "execution_count": 57,
   "id": "9b9a838d-31c9-430b-ae14-12baee460d17",
   "metadata": {
    "execution": {
     "iopub.execute_input": "2025-07-30T13:25:40.891978Z",
     "iopub.status.busy": "2025-07-30T13:25:40.891548Z",
     "iopub.status.idle": "2025-07-30T13:25:40.898169Z",
     "shell.execute_reply": "2025-07-30T13:25:40.897207Z"
    },
    "papermill": {
     "duration": 0.039324,
     "end_time": "2025-07-30T13:25:40.901494",
     "exception": false,
     "start_time": "2025-07-30T13:25:40.862170",
     "status": "completed"
    },
    "tags": []
   },
   "outputs": [],
   "source": [
    "example_universe = universe.copy()\n",
    "universe_training_size = example_universe.get(\"training_size\")\n",
    "universe_scale = example_universe.get(\"scale\")\n",
    "universe_model = example_universe.get(\"model\")\n",
    "universe_exclude_features = example_universe.get(\"exclude_features\")\n",
    "universe_exclude_subgroups = example_universe.get(\"exclude_subgroups\")"
   ]
  },
  {
   "cell_type": "code",
   "execution_count": 58,
   "id": "f4b6a8ac-9dc0-4245-8a91-5b3b5999c4f9",
   "metadata": {
    "execution": {
     "iopub.execute_input": "2025-07-30T13:25:40.961433Z",
     "iopub.status.busy": "2025-07-30T13:25:40.960994Z",
     "iopub.status.idle": "2025-07-30T13:25:40.967779Z",
     "shell.execute_reply": "2025-07-30T13:25:40.966800Z"
    },
    "papermill": {
     "duration": 0.038305,
     "end_time": "2025-07-30T13:25:40.969514",
     "exception": false,
     "start_time": "2025-07-30T13:25:40.931209",
     "status": "completed"
    },
    "tags": []
   },
   "outputs": [],
   "source": [
    "cp_metrics_dict = {\n",
    "    \"universe_id\": [universe_id],\n",
    "    \"universe_training_size\": [universe_training_size],\n",
    "    \"universe_scale\": [universe_scale],\n",
    "    \"universe_model\": [universe_model],\n",
    "    \"universe_exclude_features\": [universe_exclude_features],\n",
    "    \"universe_exclude_subgroups\": [universe_exclude_subgroups],\n",
    "    \"q_hat\": [q_hat],\n",
    "    \"coverage\": [metrics[\"coverage\"]],\n",
    "    \"avg_size\": [metrics[\"avg_size\"]],\n",
    "}"
   ]
  },
  {
   "cell_type": "code",
   "execution_count": 59,
   "id": "908acbb1-0371-4915-85ca-3fa520d2efe2",
   "metadata": {
    "execution": {
     "iopub.execute_input": "2025-07-30T13:25:41.027176Z",
     "iopub.status.busy": "2025-07-30T13:25:41.026743Z",
     "iopub.status.idle": "2025-07-30T13:25:41.033754Z",
     "shell.execute_reply": "2025-07-30T13:25:41.032771Z"
    },
    "papermill": {
     "duration": 0.036928,
     "end_time": "2025-07-30T13:25:41.035348",
     "exception": false,
     "start_time": "2025-07-30T13:25:40.998420",
     "status": "completed"
    },
    "tags": []
   },
   "outputs": [
    {
     "data": {
      "text/plain": [
       "{'universe_id': ['efe1c0db68e01ee9138c86046fdbc66b'],\n",
       " 'universe_training_size': ['25k'],\n",
       " 'universe_scale': ['scale'],\n",
       " 'universe_model': ['rf'],\n",
       " 'universe_exclude_features': ['age'],\n",
       " 'universe_exclude_subgroups': ['keep-all'],\n",
       " 'q_hat': [0.6599999999999999],\n",
       " 'coverage': [0.9144688440530598],\n",
       " 'avg_size': [1.142002006465277]}"
      ]
     },
     "execution_count": 59,
     "metadata": {},
     "output_type": "execute_result"
    }
   ],
   "source": [
    "cp_metrics_dict"
   ]
  },
  {
   "cell_type": "code",
   "execution_count": 60,
   "id": "33007efc-14e9-4ec6-97ac-56a455c82265",
   "metadata": {
    "execution": {
     "iopub.execute_input": "2025-07-30T13:25:41.093343Z",
     "iopub.status.busy": "2025-07-30T13:25:41.092920Z",
     "iopub.status.idle": "2025-07-30T13:25:41.098863Z",
     "shell.execute_reply": "2025-07-30T13:25:41.097896Z"
    },
    "papermill": {
     "duration": 0.037332,
     "end_time": "2025-07-30T13:25:41.100819",
     "exception": false,
     "start_time": "2025-07-30T13:25:41.063487",
     "status": "completed"
    },
    "tags": []
   },
   "outputs": [],
   "source": [
    "cp_metrics_df = pd.DataFrame(cp_metrics_dict)"
   ]
  },
  {
   "cell_type": "code",
   "execution_count": 61,
   "id": "db12611b-57b2-4910-b9d0-355adfd6e7bf",
   "metadata": {
    "execution": {
     "iopub.execute_input": "2025-07-30T13:25:41.159621Z",
     "iopub.status.busy": "2025-07-30T13:25:41.159248Z",
     "iopub.status.idle": "2025-07-30T13:25:41.180383Z",
     "shell.execute_reply": "2025-07-30T13:25:41.179417Z"
    },
    "papermill": {
     "duration": 0.052807,
     "end_time": "2025-07-30T13:25:41.182134",
     "exception": false,
     "start_time": "2025-07-30T13:25:41.129327",
     "status": "completed"
    },
    "tags": []
   },
   "outputs": [
    {
     "data": {
      "text/html": [
       "<div>\n",
       "<style scoped>\n",
       "    .dataframe tbody tr th:only-of-type {\n",
       "        vertical-align: middle;\n",
       "    }\n",
       "\n",
       "    .dataframe tbody tr th {\n",
       "        vertical-align: top;\n",
       "    }\n",
       "\n",
       "    .dataframe thead th {\n",
       "        text-align: right;\n",
       "    }\n",
       "</style>\n",
       "<table border=\"1\" class=\"dataframe\">\n",
       "  <thead>\n",
       "    <tr style=\"text-align: right;\">\n",
       "      <th></th>\n",
       "      <th>universe_id</th>\n",
       "      <th>universe_training_size</th>\n",
       "      <th>universe_scale</th>\n",
       "      <th>universe_model</th>\n",
       "      <th>universe_exclude_features</th>\n",
       "      <th>universe_exclude_subgroups</th>\n",
       "      <th>q_hat</th>\n",
       "      <th>coverage</th>\n",
       "      <th>avg_size</th>\n",
       "    </tr>\n",
       "  </thead>\n",
       "  <tbody>\n",
       "    <tr>\n",
       "      <th>0</th>\n",
       "      <td>efe1c0db68e01ee9138c86046fdbc66b</td>\n",
       "      <td>25k</td>\n",
       "      <td>scale</td>\n",
       "      <td>rf</td>\n",
       "      <td>age</td>\n",
       "      <td>keep-all</td>\n",
       "      <td>0.66</td>\n",
       "      <td>0.914469</td>\n",
       "      <td>1.142002</td>\n",
       "    </tr>\n",
       "  </tbody>\n",
       "</table>\n",
       "</div>"
      ],
      "text/plain": [
       "                        universe_id universe_training_size universe_scale  \\\n",
       "0  efe1c0db68e01ee9138c86046fdbc66b                    25k          scale   \n",
       "\n",
       "  universe_model universe_exclude_features universe_exclude_subgroups  q_hat  \\\n",
       "0             rf                       age                   keep-all   0.66   \n",
       "\n",
       "   coverage  avg_size  \n",
       "0  0.914469  1.142002  "
      ]
     },
     "execution_count": 61,
     "metadata": {},
     "output_type": "execute_result"
    }
   ],
   "source": [
    "cp_metrics_df"
   ]
  },
  {
   "cell_type": "code",
   "execution_count": 62,
   "id": "b7fbde55-a0a1-47e4-9af6-fe4a17fa8c61",
   "metadata": {
    "execution": {
     "iopub.execute_input": "2025-07-30T13:25:41.244531Z",
     "iopub.status.busy": "2025-07-30T13:25:41.243475Z",
     "iopub.status.idle": "2025-07-30T13:25:41.249088Z",
     "shell.execute_reply": "2025-07-30T13:25:41.247966Z"
    },
    "papermill": {
     "duration": 0.038737,
     "end_time": "2025-07-30T13:25:41.250686",
     "exception": false,
     "start_time": "2025-07-30T13:25:41.211949",
     "status": "completed"
    },
    "tags": []
   },
   "outputs": [],
   "source": [
    "# Conditional Coverage & looking at subgroups"
   ]
  },
  {
   "cell_type": "code",
   "execution_count": 63,
   "id": "027ae886-68dd-4141-96c7-805a5450e1ef",
   "metadata": {
    "execution": {
     "iopub.execute_input": "2025-07-30T13:25:41.303530Z",
     "iopub.status.busy": "2025-07-30T13:25:41.303018Z",
     "iopub.status.idle": "2025-07-30T13:25:41.616450Z",
     "shell.execute_reply": "2025-07-30T13:25:41.615372Z"
    },
    "papermill": {
     "duration": 0.341529,
     "end_time": "2025-07-30T13:25:41.618282",
     "exception": false,
     "start_time": "2025-07-30T13:25:41.276753",
     "status": "completed"
    },
    "tags": []
   },
   "outputs": [],
   "source": [
    "from fairness_multiverse.conformal import build_cp_groups\n",
    "\n",
    "cp_groups_df = build_cp_groups(pred_sets, y_true, X_test.index, org_test)\n",
    "#needs universe_id and setting"
   ]
  },
  {
   "cell_type": "code",
   "execution_count": 64,
   "id": "01d5802c-663a-4d1f-9d69-e036faaffbf7",
   "metadata": {
    "execution": {
     "iopub.execute_input": "2025-07-30T13:25:41.734001Z",
     "iopub.status.busy": "2025-07-30T13:25:41.733619Z",
     "iopub.status.idle": "2025-07-30T13:25:41.738582Z",
     "shell.execute_reply": "2025-07-30T13:25:41.737750Z"
    },
    "papermill": {
     "duration": 0.073553,
     "end_time": "2025-07-30T13:25:41.740337",
     "exception": false,
     "start_time": "2025-07-30T13:25:41.666784",
     "status": "completed"
    },
    "tags": []
   },
   "outputs": [],
   "source": [
    "#delete\n",
    "#cp_groups_df"
   ]
  },
  {
   "cell_type": "code",
   "execution_count": 65,
   "id": "fa424af1-d1eb-443d-b717-2d279ada8408",
   "metadata": {
    "execution": {
     "iopub.execute_input": "2025-07-30T13:25:41.865424Z",
     "iopub.status.busy": "2025-07-30T13:25:41.865001Z",
     "iopub.status.idle": "2025-07-30T13:25:41.870515Z",
     "shell.execute_reply": "2025-07-30T13:25:41.869441Z"
    },
    "papermill": {
     "duration": 0.094433,
     "end_time": "2025-07-30T13:25:41.881204",
     "exception": false,
     "start_time": "2025-07-30T13:25:41.786771",
     "status": "completed"
    },
    "tags": []
   },
   "outputs": [],
   "source": [
    "#delete\n",
    "#percentage = (cp_groups_df['nongerman_female'] == 1).mean() * 100\n",
    "#print(percentage)\n"
   ]
  },
  {
   "cell_type": "code",
   "execution_count": 66,
   "id": "6cbdab96-b2b2-45af-ad54-d0516db2e28d",
   "metadata": {
    "execution": {
     "iopub.execute_input": "2025-07-30T13:25:41.966292Z",
     "iopub.status.busy": "2025-07-30T13:25:41.965881Z",
     "iopub.status.idle": "2025-07-30T13:25:43.572145Z",
     "shell.execute_reply": "2025-07-30T13:25:43.571210Z"
    },
    "papermill": {
     "duration": 1.637616,
     "end_time": "2025-07-30T13:25:43.574117",
     "exception": false,
     "start_time": "2025-07-30T13:25:41.936501",
     "status": "completed"
    },
    "tags": []
   },
   "outputs": [],
   "source": [
    "# Define covered = 1 if true_label is in the predicted set\n",
    "cp_groups_df['covered'] = cp_groups_df.apply(\n",
    "    lambda r: int(r['true_label'] in r['pred_set']),\n",
    "    axis=1\n",
    ")"
   ]
  },
  {
   "cell_type": "code",
   "execution_count": 67,
   "id": "338ff529-1a6b-4b87-a931-8e4788d52aad",
   "metadata": {
    "execution": {
     "iopub.execute_input": "2025-07-30T13:25:43.633334Z",
     "iopub.status.busy": "2025-07-30T13:25:43.632699Z",
     "iopub.status.idle": "2025-07-30T13:25:43.637806Z",
     "shell.execute_reply": "2025-07-30T13:25:43.636700Z"
    },
    "papermill": {
     "duration": 0.036149,
     "end_time": "2025-07-30T13:25:43.639643",
     "exception": false,
     "start_time": "2025-07-30T13:25:43.603494",
     "status": "completed"
    },
    "tags": []
   },
   "outputs": [],
   "source": [
    "#cp_groups_df"
   ]
  },
  {
   "cell_type": "code",
   "execution_count": 68,
   "id": "90032e27-66df-4540-9169-4e89cfbaa758",
   "metadata": {
    "execution": {
     "iopub.execute_input": "2025-07-30T13:25:43.699393Z",
     "iopub.status.busy": "2025-07-30T13:25:43.698735Z",
     "iopub.status.idle": "2025-07-30T13:25:43.711902Z",
     "shell.execute_reply": "2025-07-30T13:25:43.710864Z"
    },
    "papermill": {
     "duration": 0.044582,
     "end_time": "2025-07-30T13:25:43.713907",
     "exception": false,
     "start_time": "2025-07-30T13:25:43.669325",
     "status": "completed"
    },
    "tags": []
   },
   "outputs": [],
   "source": [
    "subgroups = ['frau1','nongerman','nongerman_male','nongerman_female']\n",
    "\n",
    "# Conditional coverage for subgroup==1\n",
    "cond_coverage = {\n",
    "    g: cp_groups_df.loc[cp_groups_df[g]==1, 'covered'].mean()\n",
    "    for g in subgroups\n",
    "}"
   ]
  },
  {
   "cell_type": "code",
   "execution_count": 69,
   "id": "1e348fb1-b9c3-45bc-ba23-f016827a7e0d",
   "metadata": {
    "execution": {
     "iopub.execute_input": "2025-07-30T13:25:43.769337Z",
     "iopub.status.busy": "2025-07-30T13:25:43.768870Z",
     "iopub.status.idle": "2025-07-30T13:25:43.776252Z",
     "shell.execute_reply": "2025-07-30T13:25:43.775345Z"
    },
    "papermill": {
     "duration": 0.035832,
     "end_time": "2025-07-30T13:25:43.777932",
     "exception": false,
     "start_time": "2025-07-30T13:25:43.742100",
     "status": "completed"
    },
    "tags": []
   },
   "outputs": [
    {
     "data": {
      "text/plain": [
       "{'frau1': 0.9132497641191535,\n",
       " 'nongerman': 0.9097288497164991,\n",
       " 'nongerman_male': 0.924795100423309,\n",
       " 'nongerman_female': 0.8847988077496274}"
      ]
     },
     "execution_count": 69,
     "metadata": {},
     "output_type": "execute_result"
    }
   ],
   "source": [
    "cond_coverage"
   ]
  },
  {
   "cell_type": "code",
   "execution_count": 70,
   "id": "f5093324-c3dd-4d63-bc4c-8d945e5c8bbb",
   "metadata": {
    "execution": {
     "iopub.execute_input": "2025-07-30T13:25:43.839087Z",
     "iopub.status.busy": "2025-07-30T13:25:43.838436Z",
     "iopub.status.idle": "2025-07-30T13:25:43.845727Z",
     "shell.execute_reply": "2025-07-30T13:25:43.844722Z"
    },
    "papermill": {
     "duration": 0.039495,
     "end_time": "2025-07-30T13:25:43.847781",
     "exception": false,
     "start_time": "2025-07-30T13:25:43.808286",
     "status": "completed"
    },
    "tags": []
   },
   "outputs": [],
   "source": [
    "for subgroup, cov in cond_coverage.items():\n",
    "    cp_metrics_df[f\"cov_{subgroup}\"] = cov"
   ]
  },
  {
   "cell_type": "code",
   "execution_count": 71,
   "id": "6e872e10-dbe5-49e8-b554-5030c98ff75d",
   "metadata": {
    "execution": {
     "iopub.execute_input": "2025-07-30T13:25:43.907461Z",
     "iopub.status.busy": "2025-07-30T13:25:43.906806Z",
     "iopub.status.idle": "2025-07-30T13:25:43.924318Z",
     "shell.execute_reply": "2025-07-30T13:25:43.923345Z"
    },
    "papermill": {
     "duration": 0.048869,
     "end_time": "2025-07-30T13:25:43.926076",
     "exception": false,
     "start_time": "2025-07-30T13:25:43.877207",
     "status": "completed"
    },
    "tags": []
   },
   "outputs": [
    {
     "data": {
      "text/html": [
       "<div>\n",
       "<style scoped>\n",
       "    .dataframe tbody tr th:only-of-type {\n",
       "        vertical-align: middle;\n",
       "    }\n",
       "\n",
       "    .dataframe tbody tr th {\n",
       "        vertical-align: top;\n",
       "    }\n",
       "\n",
       "    .dataframe thead th {\n",
       "        text-align: right;\n",
       "    }\n",
       "</style>\n",
       "<table border=\"1\" class=\"dataframe\">\n",
       "  <thead>\n",
       "    <tr style=\"text-align: right;\">\n",
       "      <th></th>\n",
       "      <th>universe_id</th>\n",
       "      <th>universe_training_size</th>\n",
       "      <th>universe_scale</th>\n",
       "      <th>universe_model</th>\n",
       "      <th>universe_exclude_features</th>\n",
       "      <th>universe_exclude_subgroups</th>\n",
       "      <th>q_hat</th>\n",
       "      <th>coverage</th>\n",
       "      <th>avg_size</th>\n",
       "      <th>cov_frau1</th>\n",
       "      <th>cov_nongerman</th>\n",
       "      <th>cov_nongerman_male</th>\n",
       "      <th>cov_nongerman_female</th>\n",
       "    </tr>\n",
       "  </thead>\n",
       "  <tbody>\n",
       "    <tr>\n",
       "      <th>0</th>\n",
       "      <td>efe1c0db68e01ee9138c86046fdbc66b</td>\n",
       "      <td>25k</td>\n",
       "      <td>scale</td>\n",
       "      <td>rf</td>\n",
       "      <td>age</td>\n",
       "      <td>keep-all</td>\n",
       "      <td>0.66</td>\n",
       "      <td>0.914469</td>\n",
       "      <td>1.142002</td>\n",
       "      <td>0.91325</td>\n",
       "      <td>0.909729</td>\n",
       "      <td>0.924795</td>\n",
       "      <td>0.884799</td>\n",
       "    </tr>\n",
       "  </tbody>\n",
       "</table>\n",
       "</div>"
      ],
      "text/plain": [
       "                        universe_id universe_training_size universe_scale  \\\n",
       "0  efe1c0db68e01ee9138c86046fdbc66b                    25k          scale   \n",
       "\n",
       "  universe_model universe_exclude_features universe_exclude_subgroups  q_hat  \\\n",
       "0             rf                       age                   keep-all   0.66   \n",
       "\n",
       "   coverage  avg_size  cov_frau1  cov_nongerman  cov_nongerman_male  \\\n",
       "0  0.914469  1.142002    0.91325       0.909729            0.924795   \n",
       "\n",
       "   cov_nongerman_female  \n",
       "0              0.884799  "
      ]
     },
     "execution_count": 71,
     "metadata": {},
     "output_type": "execute_result"
    }
   ],
   "source": [
    "cp_metrics_df"
   ]
  },
  {
   "cell_type": "markdown",
   "id": "33774451",
   "metadata": {
    "papermill": {
     "duration": 0.028815,
     "end_time": "2025-07-30T13:25:43.984965",
     "exception": false,
     "start_time": "2025-07-30T13:25:43.956150",
     "status": "completed"
    },
    "tags": []
   },
   "source": [
    "# (Fairness) Metrics"
   ]
  },
  {
   "cell_type": "code",
   "execution_count": 72,
   "id": "debc5d62",
   "metadata": {
    "execution": {
     "iopub.execute_input": "2025-07-30T13:25:44.045337Z",
     "iopub.status.busy": "2025-07-30T13:25:44.044632Z",
     "iopub.status.idle": "2025-07-30T13:25:44.066753Z",
     "shell.execute_reply": "2025-07-30T13:25:44.065880Z"
    },
    "papermill": {
     "duration": 0.05469,
     "end_time": "2025-07-30T13:25:44.068488",
     "exception": false,
     "start_time": "2025-07-30T13:25:44.013798",
     "status": "completed"
    },
    "tags": []
   },
   "outputs": [],
   "source": [
    "# do I need to include maxdeutsch1.missing?\n",
    "\n",
    "import numpy as np\n",
    "\n",
    "colname_to_bin = \"maxdeutsch1\"\n",
    "majority_value = org_train[colname_to_bin].mode()[0]\n",
    "\n",
    "org_test[\"majmin\"] = np.where(org_test[colname_to_bin] == majority_value, \"majority\", \"minority\")"
   ]
  },
  {
   "cell_type": "code",
   "execution_count": 73,
   "id": "06a50de5",
   "metadata": {
    "execution": {
     "iopub.execute_input": "2025-07-30T13:25:44.124312Z",
     "iopub.status.busy": "2025-07-30T13:25:44.123370Z",
     "iopub.status.idle": "2025-07-30T13:25:46.429522Z",
     "shell.execute_reply": "2025-07-30T13:25:46.428526Z"
    },
    "papermill": {
     "duration": 2.337226,
     "end_time": "2025-07-30T13:25:46.431511",
     "exception": false,
     "start_time": "2025-07-30T13:25:44.094285",
     "status": "completed"
    },
    "tags": []
   },
   "outputs": [],
   "source": [
    "example_universe = universe.copy()\n",
    "example_universe[\"cutoff\"] = example_universe[\"cutoff\"][0]\n",
    "example_universe[\"eval_fairness_grouping\"] = example_universe[\"eval_fairness_grouping\"][0]\n",
    "fairness_dict, metric_frame = universe_analysis.compute_metrics(\n",
    "    example_universe,\n",
    "    y_pred_prob=probs_test,\n",
    "    y_test=y_true,\n",
    "    org_test=org_test,\n",
    ")"
   ]
  },
  {
   "cell_type": "markdown",
   "id": "f95d4e02",
   "metadata": {
    "papermill": {
     "duration": 0.0298,
     "end_time": "2025-07-30T13:25:46.491792",
     "exception": false,
     "start_time": "2025-07-30T13:25:46.461992",
     "status": "completed"
    },
    "tags": []
   },
   "source": [
    "# Overall"
   ]
  },
  {
   "cell_type": "markdown",
   "id": "bdee4871",
   "metadata": {
    "papermill": {
     "duration": 0.029052,
     "end_time": "2025-07-30T13:25:46.550080",
     "exception": false,
     "start_time": "2025-07-30T13:25:46.521028",
     "status": "completed"
    },
    "tags": []
   },
   "source": [
    "Fairness\n",
    "Main fairness target: Equalized Odds. Seems to be a better fit than equal opportunity, since we're not only interested in Y = 1. Seems to be a better fit than demographic parity, since we also care about accuracy, not just equal distribution of preds.\n",
    "\n",
    "Pick column for computation of fairness metrics\n",
    "\n",
    "Performance\n",
    "Overall performance measures, most interesting in relation to the measures split by group below"
   ]
  },
  {
   "cell_type": "code",
   "execution_count": 74,
   "id": "c4e067c6",
   "metadata": {
    "execution": {
     "iopub.execute_input": "2025-07-30T13:25:46.610886Z",
     "iopub.status.busy": "2025-07-30T13:25:46.610090Z",
     "iopub.status.idle": "2025-07-30T13:25:46.619803Z",
     "shell.execute_reply": "2025-07-30T13:25:46.618743Z"
    },
    "papermill": {
     "duration": 0.041742,
     "end_time": "2025-07-30T13:25:46.621661",
     "exception": false,
     "start_time": "2025-07-30T13:25:46.579919",
     "status": "completed"
    },
    "tags": []
   },
   "outputs": [
    {
     "data": {
      "text/plain": [
       "accuracy                   0.219184\n",
       "balanced accuracy          0.543173\n",
       "f1                         0.243381\n",
       "precision                  0.138965\n",
       "false positive rate        0.892624\n",
       "false negative rate        0.021029\n",
       "selection rate             0.903701\n",
       "count                  89710.000000\n",
       "dtype: float64"
      ]
     },
     "execution_count": 74,
     "metadata": {},
     "output_type": "execute_result"
    }
   ],
   "source": [
    "metric_frame.overall"
   ]
  },
  {
   "cell_type": "markdown",
   "id": "e968fe9d",
   "metadata": {
    "papermill": {
     "duration": 0.028857,
     "end_time": "2025-07-30T13:25:46.680991",
     "exception": false,
     "start_time": "2025-07-30T13:25:46.652134",
     "status": "completed"
    },
    "tags": []
   },
   "source": [
    "By Group"
   ]
  },
  {
   "cell_type": "code",
   "execution_count": 75,
   "id": "ec325bce",
   "metadata": {
    "execution": {
     "iopub.execute_input": "2025-07-30T13:25:46.732666Z",
     "iopub.status.busy": "2025-07-30T13:25:46.732056Z",
     "iopub.status.idle": "2025-07-30T13:25:46.764974Z",
     "shell.execute_reply": "2025-07-30T13:25:46.763961Z"
    },
    "papermill": {
     "duration": 0.060904,
     "end_time": "2025-07-30T13:25:46.766484",
     "exception": false,
     "start_time": "2025-07-30T13:25:46.705580",
     "status": "completed"
    },
    "tags": []
   },
   "outputs": [
    {
     "data": {
      "text/html": [
       "<div>\n",
       "<style scoped>\n",
       "    .dataframe tbody tr th:only-of-type {\n",
       "        vertical-align: middle;\n",
       "    }\n",
       "\n",
       "    .dataframe tbody tr th {\n",
       "        vertical-align: top;\n",
       "    }\n",
       "\n",
       "    .dataframe thead th {\n",
       "        text-align: right;\n",
       "    }\n",
       "</style>\n",
       "<table border=\"1\" class=\"dataframe\">\n",
       "  <thead>\n",
       "    <tr style=\"text-align: right;\">\n",
       "      <th></th>\n",
       "      <th>accuracy</th>\n",
       "      <th>balanced accuracy</th>\n",
       "      <th>f1</th>\n",
       "      <th>precision</th>\n",
       "      <th>false positive rate</th>\n",
       "      <th>false negative rate</th>\n",
       "      <th>selection rate</th>\n",
       "      <th>count</th>\n",
       "    </tr>\n",
       "    <tr>\n",
       "      <th>majmin</th>\n",
       "      <th></th>\n",
       "      <th></th>\n",
       "      <th></th>\n",
       "      <th></th>\n",
       "      <th></th>\n",
       "      <th></th>\n",
       "      <th></th>\n",
       "      <th></th>\n",
       "    </tr>\n",
       "  </thead>\n",
       "  <tbody>\n",
       "    <tr>\n",
       "      <th>majority</th>\n",
       "      <td>0.215137</td>\n",
       "      <td>0.542299</td>\n",
       "      <td>0.249437</td>\n",
       "      <td>0.142758</td>\n",
       "      <td>0.902382</td>\n",
       "      <td>0.013020</td>\n",
       "      <td>0.913561</td>\n",
       "      <td>69170.0</td>\n",
       "    </tr>\n",
       "    <tr>\n",
       "      <th>minority</th>\n",
       "      <td>0.232814</td>\n",
       "      <td>0.543834</td>\n",
       "      <td>0.221750</td>\n",
       "      <td>0.125559</td>\n",
       "      <td>0.860390</td>\n",
       "      <td>0.051943</td>\n",
       "      <td>0.870497</td>\n",
       "      <td>20540.0</td>\n",
       "    </tr>\n",
       "  </tbody>\n",
       "</table>\n",
       "</div>"
      ],
      "text/plain": [
       "          accuracy  balanced accuracy        f1  precision  \\\n",
       "majmin                                                       \n",
       "majority  0.215137           0.542299  0.249437   0.142758   \n",
       "minority  0.232814           0.543834  0.221750   0.125559   \n",
       "\n",
       "          false positive rate  false negative rate  selection rate    count  \n",
       "majmin                                                                       \n",
       "majority             0.902382             0.013020        0.913561  69170.0  \n",
       "minority             0.860390             0.051943        0.870497  20540.0  "
      ]
     },
     "execution_count": 75,
     "metadata": {},
     "output_type": "execute_result"
    }
   ],
   "source": [
    "metric_frame.by_group"
   ]
  },
  {
   "cell_type": "code",
   "execution_count": 76,
   "id": "a9ddbe63",
   "metadata": {
    "execution": {
     "iopub.execute_input": "2025-07-30T13:25:46.797403Z",
     "iopub.status.busy": "2025-07-30T13:25:46.797106Z",
     "iopub.status.idle": "2025-07-30T13:25:48.861727Z",
     "shell.execute_reply": "2025-07-30T13:25:48.860885Z"
    },
    "papermill": {
     "duration": 2.081037,
     "end_time": "2025-07-30T13:25:48.863199",
     "exception": false,
     "start_time": "2025-07-30T13:25:46.782162",
     "status": "completed"
    },
    "tags": []
   },
   "outputs": [
    {
     "data": {
      "text/plain": [
       "array([[<Axes: title={'center': 'accuracy'}, xlabel='majmin'>,\n",
       "        <Axes: title={'center': 'balanced accuracy'}, xlabel='majmin'>,\n",
       "        <Axes: title={'center': 'f1'}, xlabel='majmin'>],\n",
       "       [<Axes: title={'center': 'precision'}, xlabel='majmin'>,\n",
       "        <Axes: title={'center': 'false positive rate'}, xlabel='majmin'>,\n",
       "        <Axes: title={'center': 'false negative rate'}, xlabel='majmin'>],\n",
       "       [<Axes: title={'center': 'selection rate'}, xlabel='majmin'>,\n",
       "        <Axes: title={'center': 'count'}, xlabel='majmin'>,\n",
       "        <Axes: xlabel='majmin'>]], dtype=object)"
      ]
     },
     "execution_count": 76,
     "metadata": {},
     "output_type": "execute_result"
    },
    {
     "data": {
      "image/png": "[encoded data removed]",
      "text/plain": [
       "<Figure size 1200x800 with 9 Axes>"
      ]
     },
     "metadata": {},
     "output_type": "display_data"
    }
   ],
   "source": [
    "# In a graphic\n",
    "metric_frame.by_group.plot.bar(\n",
    "    subplots=True,\n",
    "    layout=[3, 3],\n",
    "    legend=False,\n",
    "    figsize=[12, 8],\n",
    "    title=\"Show all metrics\",\n",
    ")"
   ]
  },
  {
   "cell_type": "markdown",
   "id": "f57a0bac",
   "metadata": {
    "papermill": {
     "duration": 0.02715,
     "end_time": "2025-07-30T13:25:48.918444",
     "exception": false,
     "start_time": "2025-07-30T13:25:48.891294",
     "status": "completed"
    },
    "tags": []
   },
   "source": [
    "# Final Output"
   ]
  },
  {
   "cell_type": "code",
   "execution_count": 77,
   "id": "96d280a3",
   "metadata": {
    "execution": {
     "iopub.execute_input": "2025-07-30T13:25:48.975084Z",
     "iopub.status.busy": "2025-07-30T13:25:48.974412Z",
     "iopub.status.idle": "2025-07-30T13:25:48.983020Z",
     "shell.execute_reply": "2025-07-30T13:25:48.982089Z"
    },
    "papermill": {
     "duration": 0.03942,
     "end_time": "2025-07-30T13:25:48.984562",
     "exception": false,
     "start_time": "2025-07-30T13:25:48.945142",
     "status": "completed"
    },
    "tags": []
   },
   "outputs": [
    {
     "data": {
      "text/plain": [
       "4"
      ]
     },
     "execution_count": 77,
     "metadata": {},
     "output_type": "execute_result"
    }
   ],
   "source": [
    "sub_universes = universe_analysis.generate_sub_universes()\n",
    "len(sub_universes)"
   ]
  },
  {
   "cell_type": "code",
   "execution_count": 78,
   "id": "92adf7ba",
   "metadata": {
    "execution": {
     "iopub.execute_input": "2025-07-30T13:25:49.042593Z",
     "iopub.status.busy": "2025-07-30T13:25:49.041933Z",
     "iopub.status.idle": "2025-07-30T13:25:49.048555Z",
     "shell.execute_reply": "2025-07-30T13:25:49.047474Z"
    },
    "papermill": {
     "duration": 0.037791,
     "end_time": "2025-07-30T13:25:49.050253",
     "exception": false,
     "start_time": "2025-07-30T13:25:49.012462",
     "status": "completed"
    },
    "tags": []
   },
   "outputs": [],
   "source": [
    "def filter_sub_universe_data(sub_universe, org_test):\n",
    "    # Keep all rows — no filtering\n",
    "    keep_rows_mask = np.ones(org_test.shape[0], dtype=bool)\n",
    "\n",
    "    print(f\"[INFO] Keeping all rows: {keep_rows_mask.sum()} rows retained.\")\n",
    "    return keep_rows_mask"
   ]
  },
  {
   "cell_type": "code",
   "execution_count": 79,
   "id": "4a759155",
   "metadata": {
    "execution": {
     "iopub.execute_input": "2025-07-30T13:25:49.110302Z",
     "iopub.status.busy": "2025-07-30T13:25:49.109589Z",
     "iopub.status.idle": "2025-07-30T13:25:58.994652Z",
     "shell.execute_reply": "2025-07-30T13:25:58.993858Z"
    },
    "papermill": {
     "duration": 9.91681,
     "end_time": "2025-07-30T13:25:58.996324",
     "exception": false,
     "start_time": "2025-07-30T13:25:49.079514",
     "status": "completed"
    },
    "tags": []
   },
   "outputs": [
    {
     "name": "stdout",
     "output_type": "stream",
     "text": [
      "Stopping execution_time clock.\n",
      "[INFO] Keeping all rows: 89710 rows retained.\n"
     ]
    },
    {
     "name": "stdout",
     "output_type": "stream",
     "text": [
      "[INFO] Keeping all rows: 89710 rows retained.\n"
     ]
    },
    {
     "name": "stdout",
     "output_type": "stream",
     "text": [
      "[INFO] Keeping all rows: 89710 rows retained.\n"
     ]
    },
    {
     "name": "stdout",
     "output_type": "stream",
     "text": [
      "[INFO] Keeping all rows: 89710 rows retained.\n"
     ]
    },
    {
     "data": {
      "text/html": [
       "<div>\n",
       "<style scoped>\n",
       "    .dataframe tbody tr th:only-of-type {\n",
       "        vertical-align: middle;\n",
       "    }\n",
       "\n",
       "    .dataframe tbody tr th {\n",
       "        vertical-align: top;\n",
       "    }\n",
       "\n",
       "    .dataframe thead th {\n",
       "        text-align: right;\n",
       "    }\n",
       "</style>\n",
       "<table border=\"1\" class=\"dataframe\">\n",
       "  <thead>\n",
       "    <tr style=\"text-align: right;\">\n",
       "      <th></th>\n",
       "      <th>run_no</th>\n",
       "      <th>universe_id</th>\n",
       "      <th>universe_settings</th>\n",
       "      <th>execution_time</th>\n",
       "      <th>test_size_n</th>\n",
       "      <th>test_size_frac</th>\n",
       "      <th>fair_main_equalized_odds_difference</th>\n",
       "      <th>fair_main_equalized_odds_ratio</th>\n",
       "      <th>fair_main_demographic_parity_difference</th>\n",
       "      <th>fair_main_demographic_parity_ratio</th>\n",
       "      <th>...</th>\n",
       "      <th>perf_grp_precision_0</th>\n",
       "      <th>perf_grp_precision_1</th>\n",
       "      <th>perf_grp_false positive rate_0</th>\n",
       "      <th>perf_grp_false positive rate_1</th>\n",
       "      <th>perf_grp_false negative rate_0</th>\n",
       "      <th>perf_grp_false negative rate_1</th>\n",
       "      <th>perf_grp_selection rate_0</th>\n",
       "      <th>perf_grp_selection rate_1</th>\n",
       "      <th>perf_grp_count_0</th>\n",
       "      <th>perf_grp_count_1</th>\n",
       "    </tr>\n",
       "  </thead>\n",
       "  <tbody>\n",
       "    <tr>\n",
       "      <th>0</th>\n",
       "      <td>12</td>\n",
       "      <td>efe1c0db68e01ee9138c86046fdbc66b</td>\n",
       "      <td>{\"cutoff\": \"quantile_0.1\", \"eval_fairness_grou...</td>\n",
       "      <td>41.57972</td>\n",
       "      <td>89710</td>\n",
       "      <td>1.0</td>\n",
       "      <td>0.041993</td>\n",
       "      <td>0.953465</td>\n",
       "      <td>0.043064</td>\n",
       "      <td>0.952861</td>\n",
       "      <td>...</td>\n",
       "      <td>NaN</td>\n",
       "      <td>NaN</td>\n",
       "      <td>NaN</td>\n",
       "      <td>NaN</td>\n",
       "      <td>NaN</td>\n",
       "      <td>NaN</td>\n",
       "      <td>NaN</td>\n",
       "      <td>NaN</td>\n",
       "      <td>NaN</td>\n",
       "      <td>NaN</td>\n",
       "    </tr>\n",
       "    <tr>\n",
       "      <th>0</th>\n",
       "      <td>12</td>\n",
       "      <td>efe1c0db68e01ee9138c86046fdbc66b</td>\n",
       "      <td>{\"cutoff\": \"quantile_0.1\", \"eval_fairness_grou...</td>\n",
       "      <td>41.57972</td>\n",
       "      <td>89710</td>\n",
       "      <td>1.0</td>\n",
       "      <td>0.041993</td>\n",
       "      <td>0.953465</td>\n",
       "      <td>0.043064</td>\n",
       "      <td>0.952861</td>\n",
       "      <td>...</td>\n",
       "      <td>0.125559</td>\n",
       "      <td>0.142758</td>\n",
       "      <td>0.860390</td>\n",
       "      <td>0.902382</td>\n",
       "      <td>0.051943</td>\n",
       "      <td>0.013020</td>\n",
       "      <td>0.870497</td>\n",
       "      <td>0.913561</td>\n",
       "      <td>20540.0</td>\n",
       "      <td>69170.0</td>\n",
       "    </tr>\n",
       "    <tr>\n",
       "      <th>0</th>\n",
       "      <td>12</td>\n",
       "      <td>efe1c0db68e01ee9138c86046fdbc66b</td>\n",
       "      <td>{\"cutoff\": \"quantile_0.25\", \"eval_fairness_gro...</td>\n",
       "      <td>41.57972</td>\n",
       "      <td>89710</td>\n",
       "      <td>1.0</td>\n",
       "      <td>0.069337</td>\n",
       "      <td>0.927097</td>\n",
       "      <td>0.043815</td>\n",
       "      <td>0.943123</td>\n",
       "      <td>...</td>\n",
       "      <td>NaN</td>\n",
       "      <td>NaN</td>\n",
       "      <td>NaN</td>\n",
       "      <td>NaN</td>\n",
       "      <td>NaN</td>\n",
       "      <td>NaN</td>\n",
       "      <td>NaN</td>\n",
       "      <td>NaN</td>\n",
       "      <td>NaN</td>\n",
       "      <td>NaN</td>\n",
       "    </tr>\n",
       "    <tr>\n",
       "      <th>0</th>\n",
       "      <td>12</td>\n",
       "      <td>efe1c0db68e01ee9138c86046fdbc66b</td>\n",
       "      <td>{\"cutoff\": \"quantile_0.25\", \"eval_fairness_gro...</td>\n",
       "      <td>41.57972</td>\n",
       "      <td>89710</td>\n",
       "      <td>1.0</td>\n",
       "      <td>0.069337</td>\n",
       "      <td>0.927097</td>\n",
       "      <td>0.043815</td>\n",
       "      <td>0.943123</td>\n",
       "      <td>...</td>\n",
       "      <td>0.139918</td>\n",
       "      <td>0.163142</td>\n",
       "      <td>0.706306</td>\n",
       "      <td>0.742829</td>\n",
       "      <td>0.118243</td>\n",
       "      <td>0.048906</td>\n",
       "      <td>0.726534</td>\n",
       "      <td>0.770348</td>\n",
       "      <td>20540.0</td>\n",
       "      <td>69170.0</td>\n",
       "    </tr>\n",
       "  </tbody>\n",
       "</table>\n",
       "<p>4 rows × 50 columns</p>\n",
       "</div>"
      ],
      "text/plain": [
       "  run_no                       universe_id  \\\n",
       "0     12  efe1c0db68e01ee9138c86046fdbc66b   \n",
       "0     12  efe1c0db68e01ee9138c86046fdbc66b   \n",
       "0     12  efe1c0db68e01ee9138c86046fdbc66b   \n",
       "0     12  efe1c0db68e01ee9138c86046fdbc66b   \n",
       "\n",
       "                                   universe_settings  execution_time  \\\n",
       "0  {\"cutoff\": \"quantile_0.1\", \"eval_fairness_grou...        41.57972   \n",
       "0  {\"cutoff\": \"quantile_0.1\", \"eval_fairness_grou...        41.57972   \n",
       "0  {\"cutoff\": \"quantile_0.25\", \"eval_fairness_gro...        41.57972   \n",
       "0  {\"cutoff\": \"quantile_0.25\", \"eval_fairness_gro...        41.57972   \n",
       "\n",
       "   test_size_n  test_size_frac  fair_main_equalized_odds_difference  \\\n",
       "0        89710             1.0                             0.041993   \n",
       "0        89710             1.0                             0.041993   \n",
       "0        89710             1.0                             0.069337   \n",
       "0        89710             1.0                             0.069337   \n",
       "\n",
       "   fair_main_equalized_odds_ratio  fair_main_demographic_parity_difference  \\\n",
       "0                        0.953465                                 0.043064   \n",
       "0                        0.953465                                 0.043064   \n",
       "0                        0.927097                                 0.043815   \n",
       "0                        0.927097                                 0.043815   \n",
       "\n",
       "   fair_main_demographic_parity_ratio  ...  perf_grp_precision_0  \\\n",
       "0                            0.952861  ...                   NaN   \n",
       "0                            0.952861  ...              0.125559   \n",
       "0                            0.943123  ...                   NaN   \n",
       "0                            0.943123  ...              0.139918   \n",
       "\n",
       "   perf_grp_precision_1  perf_grp_false positive rate_0  \\\n",
       "0                   NaN                             NaN   \n",
       "0              0.142758                        0.860390   \n",
       "0                   NaN                             NaN   \n",
       "0              0.163142                        0.706306   \n",
       "\n",
       "   perf_grp_false positive rate_1  perf_grp_false negative rate_0  \\\n",
       "0                             NaN                             NaN   \n",
       "0                        0.902382                        0.051943   \n",
       "0                             NaN                             NaN   \n",
       "0                        0.742829                        0.118243   \n",
       "\n",
       "   perf_grp_false negative rate_1  perf_grp_selection rate_0  \\\n",
       "0                             NaN                        NaN   \n",
       "0                        0.013020                   0.870497   \n",
       "0                             NaN                        NaN   \n",
       "0                        0.048906                   0.726534   \n",
       "\n",
       "   perf_grp_selection rate_1  perf_grp_count_0  perf_grp_count_1  \n",
       "0                        NaN               NaN               NaN  \n",
       "0                   0.913561           20540.0           69170.0  \n",
       "0                        NaN               NaN               NaN  \n",
       "0                   0.770348           20540.0           69170.0  \n",
       "\n",
       "[4 rows x 50 columns]"
      ]
     },
     "execution_count": 79,
     "metadata": {},
     "output_type": "execute_result"
    }
   ],
   "source": [
    "final_output = universe_analysis.generate_final_output(\n",
    "    y_pred_prob=probs_test,\n",
    "    y_test=y_true,\n",
    "    org_test=org_test,\n",
    "    filter_data=filter_sub_universe_data,\n",
    "    cp_metrics_df=cp_metrics_df,\n",
    "    save=True,\n",
    ")\n",
    "final_output"
   ]
  },
  {
   "cell_type": "code",
   "execution_count": null,
   "id": "721ff514-cb11-46f8-b6fc-50392f74b5cb",
   "metadata": {
    "papermill": {
     "duration": 0.031902,
     "end_time": "2025-07-30T13:25:59.062303",
     "exception": false,
     "start_time": "2025-07-30T13:25:59.030401",
     "status": "completed"
    },
    "tags": []
   },
   "outputs": [],
   "source": []
  }
 ],
 "metadata": {
  "celltoolbar": "Tags",
  "kernelspec": {
   "display_name": "Python (CMA Fairness)",
   "language": "python",
   "name": "cma_fair_env"
  },
  "language_info": {
   "codemirror_mode": {
    "name": "ipython",
    "version": 3
   },
   "file_extension": ".py",
   "mimetype": "text/x-python",
   "name": "python",
   "nbconvert_exporter": "python",
   "pygments_lexer": "ipython3",
   "version": "3.10.12"
  },
  "papermill": {
   "default_parameters": {},
   "duration": 55.685064,
   "end_time": "2025-07-30T13:25:59.913793",
   "environment_variables": {},
   "exception": null,
   "input_path": "universe_analysis.ipynb",
   "output_path": "output/runs/12/notebooks/m_12-efe1c0db68e01ee9138c86046fdbc66b.ipynb",
   "parameters": {
    "output_dir": "output",
    "run_no": "12",
    "seed": "2023",
    "universe": "{\"cutoff\": [\"quantile_0.1\", \"quantile_0.25\"], \"eval_fairness_grouping\": [\"majority-minority\", \"nationality-all\"], \"exclude_features\": \"age\", \"exclude_subgroups\": \"keep-all\", \"model\": \"rf\", \"scale\": \"scale\", \"training_size\": \"25k\", \"training_year\": \"2010_14\"}",
    "universe_id": "efe1c0db68e01ee9138c86046fdbc66b"
   },
   "start_time": "2025-07-30T13:25:04.228729",
   "version": "2.6.0"
  }
 },
 "nbformat": 4,
 "nbformat_minor": 5
}