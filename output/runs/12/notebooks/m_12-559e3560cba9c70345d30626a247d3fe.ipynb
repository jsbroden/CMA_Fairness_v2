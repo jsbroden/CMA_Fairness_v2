{
 "cells": [
  {
   "cell_type": "code",
   "execution_count": 1,
   "id": "f159f837-637b-42ba-96b5-ec9a68c44524",
   "metadata": {
    "execution": {
     "iopub.execute_input": "2025-07-30T12:51:09.896544Z",
     "iopub.status.busy": "2025-07-30T12:51:09.895659Z",
     "iopub.status.idle": "2025-07-30T12:51:09.910610Z",
     "shell.execute_reply": "2025-07-30T12:51:09.909576Z"
    },
    "papermill": {
     "duration": 0.038322,
     "end_time": "2025-07-30T12:51:09.912541",
     "exception": false,
     "start_time": "2025-07-30T12:51:09.874219",
     "status": "completed"
    },
    "tags": []
   },
   "outputs": [
    {
     "name": "stdout",
     "output_type": "stream",
     "text": [
      "/dss/dsshome1/0C/ra93lal2/cma/CMA_Fairness_v2\n"
     ]
    },
    {
     "name": "stderr",
     "output_type": "stream",
     "text": [
      "/dss/dsshome1/0C/ra93lal2/.local/share/virtualenvs/CMA_Fairness_v2-3j10GkSs/lib/python3.10/site-packages/IPython/core/magics/osm.py:393: UserWarning: This is now an optional IPython functionality, using bookmarks requires you to install the `pickleshare` library.\n",
      "  bkms = self.shell.db.get('bookmarks', {})\n",
      "/dss/dsshome1/0C/ra93lal2/.local/share/virtualenvs/CMA_Fairness_v2-3j10GkSs/lib/python3.10/site-packages/IPython/core/magics/osm.py:417: UserWarning: This is now an optional IPython functionality, setting dhist requires you to install the `pickleshare` library.\n",
      "  self.shell.db['dhist'] = compress_dhist(dhist)[-100:]\n"
     ]
    }
   ],
   "source": [
    "%cd ~/cma/CMA_Fairness_v2"
   ]
  },
  {
   "cell_type": "markdown",
   "id": "de2603b9",
   "metadata": {
    "papermill": {
     "duration": 0.0195,
     "end_time": "2025-07-30T12:51:09.952118",
     "exception": false,
     "start_time": "2025-07-30T12:51:09.932618",
     "status": "completed"
    },
    "tags": []
   },
   "source": [
    "The following cell holds the definition of our parameters, these values can be overriden by rendering the with e.g. the following command:\n",
    "\n",
    "papermill -p alpha 0.2 -p ratio 0.3 universe_analysis.ipynb output/test_run.ipynb"
   ]
  },
  {
   "cell_type": "code",
   "execution_count": 2,
   "id": "a80968a0-40bb-4fa9-85ef-2d5eefb01975",
   "metadata": {
    "execution": {
     "iopub.execute_input": "2025-07-30T12:51:09.992700Z",
     "iopub.status.busy": "2025-07-30T12:51:09.991899Z",
     "iopub.status.idle": "2025-07-30T12:51:09.997896Z",
     "shell.execute_reply": "2025-07-30T12:51:09.996928Z"
    },
    "papermill": {
     "duration": 0.027851,
     "end_time": "2025-07-30T12:51:09.999418",
     "exception": false,
     "start_time": "2025-07-30T12:51:09.971567",
     "status": "completed"
    },
    "tags": []
   },
   "outputs": [
    {
     "name": "stdout",
     "output_type": "stream",
     "text": [
      "Current working directory: /dss/dsshome1/0C/ra93lal2/cma/CMA_Fairness_v2\n"
     ]
    }
   ],
   "source": [
    "import os\n",
    "print(\"Current working directory:\", os.getcwd())"
   ]
  },
  {
   "cell_type": "code",
   "execution_count": 3,
   "id": "2dce4c03",
   "metadata": {
    "execution": {
     "iopub.execute_input": "2025-07-30T12:51:10.041113Z",
     "iopub.status.busy": "2025-07-30T12:51:10.040473Z",
     "iopub.status.idle": "2025-07-30T12:51:10.046954Z",
     "shell.execute_reply": "2025-07-30T12:51:10.045993Z"
    },
    "papermill": {
     "duration": 0.028685,
     "end_time": "2025-07-30T12:51:10.048541",
     "exception": false,
     "start_time": "2025-07-30T12:51:10.019856",
     "status": "completed"
    },
    "tags": [
     "parameters"
    ]
   },
   "outputs": [],
   "source": [
    "run_no = 0\n",
    "universe_id = \"test\"\n",
    "universe = {\n",
    "    \"training_size\": \"25k\", # \"25k\", \"5k\", \"1k\"\n",
    "    \"training_year\": \"2014\", # \"2014\", \"2012_14\", \"2010_14\"\n",
    "    \"scale\": \"scale\", # \"scale\", \"do-not-scale\",\n",
    "    #\"stratify_split\": \"target\", # \"none\", \"target\", \"protected-attribute\", \"both\",\n",
    "    \"model\": \"elasticnet\", # \"logreg\", \"penalized_logreg\", \"rf\", \"gbm\", \"elasticnet\"\n",
    "    \"cutoff\": [\"quantile_0.15\", \"quantile_0.30\"],\n",
    "    \"exclude_features\": \"age\", # \"none\", \"nationality\", \"sex\", \"nationality-sex\", \"age\"\n",
    "    \"exclude_subgroups\": \"keep-all\", # \"keep-all\", \"drop-non-german\"\n",
    "    \"eval_fairness_grouping\": [\"majority-minority\", \"nationality-all\"]\n",
    "}\n",
    "\n",
    "output_dir=\"./output\"\n",
    "seed=0"
   ]
  },
  {
   "cell_type": "code",
   "execution_count": 4,
   "id": "43935d58",
   "metadata": {
    "execution": {
     "iopub.execute_input": "2025-07-30T12:51:10.090355Z",
     "iopub.status.busy": "2025-07-30T12:51:10.089695Z",
     "iopub.status.idle": "2025-07-30T12:51:10.095249Z",
     "shell.execute_reply": "2025-07-30T12:51:10.094210Z"
    },
    "papermill": {
     "duration": 0.028262,
     "end_time": "2025-07-30T12:51:10.097150",
     "exception": false,
     "start_time": "2025-07-30T12:51:10.068888",
     "status": "completed"
    },
    "tags": [
     "injected-parameters"
    ]
   },
   "outputs": [],
   "source": [
    "# Parameters\n",
    "universe_id = \"559e3560cba9c70345d30626a247d3fe\"\n",
    "run_no = \"12\"\n",
    "universe = \"{\\\"cutoff\\\": [\\\"quantile_0.1\\\", \\\"quantile_0.25\\\"], \\\"eval_fairness_grouping\\\": [\\\"majority-minority\\\", \\\"nationality-all\\\"], \\\"exclude_features\\\": \\\"nationality\\\", \\\"exclude_subgroups\\\": \\\"keep-all\\\", \\\"model\\\": \\\"elasticnet\\\", \\\"scale\\\": \\\"scale\\\", \\\"training_size\\\": \\\"25k\\\", \\\"training_year\\\": \\\"2014\\\"}\"\n",
    "output_dir = \"output\"\n",
    "seed = \"2023\"\n"
   ]
  },
  {
   "cell_type": "code",
   "execution_count": 5,
   "id": "1650acaf",
   "metadata": {
    "execution": {
     "iopub.execute_input": "2025-07-30T12:51:10.139434Z",
     "iopub.status.busy": "2025-07-30T12:51:10.138780Z",
     "iopub.status.idle": "2025-07-30T12:51:10.143934Z",
     "shell.execute_reply": "2025-07-30T12:51:10.142916Z"
    },
    "papermill": {
     "duration": 0.027848,
     "end_time": "2025-07-30T12:51:10.145716",
     "exception": false,
     "start_time": "2025-07-30T12:51:10.117868",
     "status": "completed"
    },
    "tags": []
   },
   "outputs": [],
   "source": [
    "import json\n",
    "# Parse universe into dict if it is passed as a string\n",
    "if isinstance(universe, str):\n",
    "    universe = json.loads(universe)"
   ]
  },
  {
   "cell_type": "code",
   "execution_count": 6,
   "id": "16620c48",
   "metadata": {
    "execution": {
     "iopub.execute_input": "2025-07-30T12:51:10.187387Z",
     "iopub.status.busy": "2025-07-30T12:51:10.186750Z",
     "iopub.status.idle": "2025-07-30T12:51:10.231807Z",
     "shell.execute_reply": "2025-07-30T12:51:10.230937Z"
    },
    "papermill": {
     "duration": 0.067372,
     "end_time": "2025-07-30T12:51:10.233560",
     "exception": false,
     "start_time": "2025-07-30T12:51:10.166188",
     "status": "completed"
    },
    "tags": []
   },
   "outputs": [],
   "source": [
    "# Auto-reload the custom package\n",
    "%load_ext autoreload\n",
    "%autoreload 1\n",
    "%aimport fairness_multiverse"
   ]
  },
  {
   "cell_type": "code",
   "execution_count": 7,
   "id": "01c5c9f3",
   "metadata": {
    "execution": {
     "iopub.execute_input": "2025-07-30T12:51:10.276991Z",
     "iopub.status.busy": "2025-07-30T12:51:10.276014Z",
     "iopub.status.idle": "2025-07-30T12:51:12.239199Z",
     "shell.execute_reply": "2025-07-30T12:51:12.238248Z"
    },
    "papermill": {
     "duration": 1.986567,
     "end_time": "2025-07-30T12:51:12.241150",
     "exception": false,
     "start_time": "2025-07-30T12:51:10.254583",
     "status": "completed"
    },
    "tags": []
   },
   "outputs": [],
   "source": [
    "from fairness_multiverse.universe import UniverseAnalysis\n",
    "\n",
    "universe_analysis = UniverseAnalysis(\n",
    "    run_no = run_no,\n",
    "    universe_id = universe_id,\n",
    "    universe = universe,\n",
    "    output_dir=output_dir,\n",
    ")"
   ]
  },
  {
   "cell_type": "code",
   "execution_count": 8,
   "id": "106241f5",
   "metadata": {
    "execution": {
     "iopub.execute_input": "2025-07-30T12:51:12.285369Z",
     "iopub.status.busy": "2025-07-30T12:51:12.284665Z",
     "iopub.status.idle": "2025-07-30T12:51:12.291445Z",
     "shell.execute_reply": "2025-07-30T12:51:12.290488Z"
    },
    "papermill": {
     "duration": 0.031255,
     "end_time": "2025-07-30T12:51:12.293064",
     "exception": false,
     "start_time": "2025-07-30T12:51:12.261809",
     "status": "completed"
    },
    "tags": []
   },
   "outputs": [
    {
     "name": "stdout",
     "output_type": "stream",
     "text": [
      "Using Seed: 2023\n"
     ]
    }
   ],
   "source": [
    "import numpy as np\n",
    "parsed_seed = int(seed)\n",
    "np.random.seed(parsed_seed)\n",
    "print(f\"Using Seed: {parsed_seed}\")"
   ]
  },
  {
   "cell_type": "markdown",
   "id": "e0ebdc57",
   "metadata": {
    "papermill": {
     "duration": 0.018975,
     "end_time": "2025-07-30T12:51:12.331968",
     "exception": false,
     "start_time": "2025-07-30T12:51:12.312993",
     "status": "completed"
    },
    "tags": []
   },
   "source": [
    "# Loading Data"
   ]
  },
  {
   "cell_type": "markdown",
   "id": "681925a3",
   "metadata": {
    "papermill": {
     "duration": 0.019408,
     "end_time": "2025-07-30T12:51:12.370229",
     "exception": false,
     "start_time": "2025-07-30T12:51:12.350821",
     "status": "completed"
    },
    "tags": []
   },
   "source": [
    "Load siab_train, siab_test, siab_calib and/or \n",
    "load siab_train_features, siab_train_labels"
   ]
  },
  {
   "cell_type": "code",
   "execution_count": 9,
   "id": "f0496b8a",
   "metadata": {
    "execution": {
     "iopub.execute_input": "2025-07-30T12:51:12.409878Z",
     "iopub.status.busy": "2025-07-30T12:51:12.409203Z",
     "iopub.status.idle": "2025-07-30T12:51:24.669311Z",
     "shell.execute_reply": "2025-07-30T12:51:24.668225Z"
    },
    "papermill": {
     "duration": 12.281552,
     "end_time": "2025-07-30T12:51:24.670907",
     "exception": false,
     "start_time": "2025-07-30T12:51:12.389355",
     "status": "completed"
    },
    "tags": []
   },
   "outputs": [
    {
     "name": "stdout",
     "output_type": "stream",
     "text": [
      "Loading SIAB data from cache: data/siab_cached.csv.gz\n"
     ]
    },
    {
     "name": "stdout",
     "output_type": "stream",
     "text": [
      "(643690, 164)\n"
     ]
    }
   ],
   "source": [
    "from pathlib import Path\n",
    "import pandas as pd\n",
    "\n",
    "# File paths\n",
    "raw_file = Path(\"data/raw/siab.csv\")\n",
    "cache_file = Path(\"data/siab_cached.csv.gz\")\n",
    "\n",
    "# Ensure cache directory exists\n",
    "cache_file.parent.mkdir(parents=True, exist_ok=True)\n",
    "\n",
    "# Load with simple caching\n",
    "if cache_file.exists():\n",
    "    print(f\"Loading SIAB data from cache: {cache_file}\")\n",
    "    siab = pd.read_csv(cache_file, compression='gzip')\n",
    "else:\n",
    "    print(f\"Cache not found. Reading raw SIAB data: {raw_file}\")\n",
    "    siab = pd.read_csv(raw_file)\n",
    "    siab.to_csv(cache_file, index=False, compression='gzip')\n",
    "    print(f\"Cached SIAB data to: {cache_file}\")\n",
    "\n",
    "# Now use `siab` DataFrame as needed\n",
    "print(siab.shape)"
   ]
  },
  {
   "cell_type": "code",
   "execution_count": 10,
   "id": "db0ca512-5f53-4dba-abdb-a2888bca41ba",
   "metadata": {
    "execution": {
     "iopub.execute_input": "2025-07-30T12:51:24.716026Z",
     "iopub.status.busy": "2025-07-30T12:51:24.715339Z",
     "iopub.status.idle": "2025-07-30T12:51:24.721063Z",
     "shell.execute_reply": "2025-07-30T12:51:24.720198Z"
    },
    "papermill": {
     "duration": 0.028919,
     "end_time": "2025-07-30T12:51:24.722801",
     "exception": false,
     "start_time": "2025-07-30T12:51:24.693882",
     "status": "completed"
    },
    "tags": []
   },
   "outputs": [],
   "source": [
    "#siab"
   ]
  },
  {
   "cell_type": "code",
   "execution_count": 11,
   "id": "a0edb063",
   "metadata": {
    "execution": {
     "iopub.execute_input": "2025-07-30T12:51:24.766320Z",
     "iopub.status.busy": "2025-07-30T12:51:24.765678Z",
     "iopub.status.idle": "2025-07-30T12:51:24.770387Z",
     "shell.execute_reply": "2025-07-30T12:51:24.769559Z"
    },
    "papermill": {
     "duration": 0.026457,
     "end_time": "2025-07-30T12:51:24.771871",
     "exception": false,
     "start_time": "2025-07-30T12:51:24.745414",
     "status": "completed"
    },
    "tags": []
   },
   "outputs": [],
   "source": [
    "#import pandas as pd\n",
    "#\n",
    "#X_train = pd.read_csv(\"./data/X_train.csv\")\n",
    "#y_train = pd.read_csv(\"./data/y_train.csv\")"
   ]
  },
  {
   "cell_type": "code",
   "execution_count": 12,
   "id": "63d08085",
   "metadata": {
    "execution": {
     "iopub.execute_input": "2025-07-30T12:51:24.815176Z",
     "iopub.status.busy": "2025-07-30T12:51:24.814546Z",
     "iopub.status.idle": "2025-07-30T12:51:24.819414Z",
     "shell.execute_reply": "2025-07-30T12:51:24.818473Z"
    },
    "papermill": {
     "duration": 0.028548,
     "end_time": "2025-07-30T12:51:24.821140",
     "exception": false,
     "start_time": "2025-07-30T12:51:24.792592",
     "status": "completed"
    },
    "tags": []
   },
   "outputs": [],
   "source": [
    "#X_test = pd.read_csv(\"./data/X_test.csv\")\n",
    "#y_true = pd.read_csv(\"./data/y_test.csv\")"
   ]
  },
  {
   "cell_type": "code",
   "execution_count": 13,
   "id": "98a8d0fa-1d3d-4ed8-bb2c-281470e24add",
   "metadata": {
    "execution": {
     "iopub.execute_input": "2025-07-30T12:51:24.861231Z",
     "iopub.status.busy": "2025-07-30T12:51:24.860449Z",
     "iopub.status.idle": "2025-07-30T12:51:24.865410Z",
     "shell.execute_reply": "2025-07-30T12:51:24.864377Z"
    },
    "papermill": {
     "duration": 0.02606,
     "end_time": "2025-07-30T12:51:24.866868",
     "exception": false,
     "start_time": "2025-07-30T12:51:24.840808",
     "status": "completed"
    },
    "tags": []
   },
   "outputs": [],
   "source": [
    "# Calibration data for conformal\n",
    "#X_calib = pd.read_csv(\"./data/X_calib.csv\")\n",
    "#y_calib = pd.read_csv(\"./data/y_calib.csv\")"
   ]
  },
  {
   "cell_type": "markdown",
   "id": "997051c5-15bd-4b69-9786-c3001a3ce484",
   "metadata": {
    "papermill": {
     "duration": 0.018895,
     "end_time": "2025-07-30T12:51:24.905342",
     "exception": false,
     "start_time": "2025-07-30T12:51:24.886447",
     "status": "completed"
    },
    "tags": []
   },
   "source": [
    "# Splitting Data and Setting Training Data Size"
   ]
  },
  {
   "cell_type": "code",
   "execution_count": 14,
   "id": "e993b61f-042d-41a6-8c81-f55681f86335",
   "metadata": {
    "execution": {
     "iopub.execute_input": "2025-07-30T12:51:24.944462Z",
     "iopub.status.busy": "2025-07-30T12:51:24.943743Z",
     "iopub.status.idle": "2025-07-30T12:51:24.956841Z",
     "shell.execute_reply": "2025-07-30T12:51:24.955852Z"
    },
    "papermill": {
     "duration": 0.034655,
     "end_time": "2025-07-30T12:51:24.958526",
     "exception": false,
     "start_time": "2025-07-30T12:51:24.923871",
     "status": "completed"
    },
    "tags": []
   },
   "outputs": [],
   "source": [
    "def sample_by_year_size(df,\n",
    "                        training_year: str,\n",
    "                        training_size: str,\n",
    "                        random_state: int = 42):\n",
    "    # --- parse training_year into a list of int years ---\n",
    "    if \"_\" in training_year:\n",
    "        start_str, end_str = training_year.split(\"_\", 1)\n",
    "        start = int(start_str)\n",
    "        end   = int(end_str) if len(end_str) == 4 else (int(end_str) + (start // 100)*100)\n",
    "        years = list(range(start, end + 1))\n",
    "    else:\n",
    "        years = [int(training_year)]\n",
    "\n",
    "    df = df[df[\"year\"].isin(years)].reset_index(drop=True)\n",
    "\n",
    "    # --- map training_size to total number of samples ---\n",
    "    total_map = {\"25k\": 25_000, \"5k\": 5_000, \"1k\": 1_000}\n",
    "    if training_size not in total_map:\n",
    "        return df  # e.g. \"all\"\n",
    "\n",
    "    total_samples = total_map[training_size]\n",
    "    n_years       = len(years)\n",
    "    base          = total_samples // n_years\n",
    "    remainder     = total_samples % n_years\n",
    "\n",
    "    # --- build a dict: year -> how many to sample ---\n",
    "    # give +1 to the first `remainder` years in ascending order\n",
    "    quotas = {\n",
    "        year: base + (1 if idx < remainder else 0)\n",
    "        for idx, year in enumerate(sorted(years))\n",
    "    }\n",
    "\n",
    "    # --- sample per‐year according to the quota dict ---\n",
    "    sampled = (\n",
    "        df\n",
    "        .groupby(\"year\", group_keys=False)\n",
    "        .apply(lambda grp: grp.sample(\n",
    "            n=min(len(grp), quotas[grp.name]),\n",
    "            random_state=random_state))\n",
    "        .reset_index(drop=True)\n",
    "    )\n",
    "\n",
    "    return sampled"
   ]
  },
  {
   "cell_type": "code",
   "execution_count": 15,
   "id": "c0ccd338-0e02-41f3-a09d-f56f9266e3fb",
   "metadata": {
    "execution": {
     "iopub.execute_input": "2025-07-30T12:51:24.999459Z",
     "iopub.status.busy": "2025-07-30T12:51:24.998670Z",
     "iopub.status.idle": "2025-07-30T12:51:25.009651Z",
     "shell.execute_reply": "2025-07-30T12:51:25.008710Z"
    },
    "papermill": {
     "duration": 0.032597,
     "end_time": "2025-07-30T12:51:25.011183",
     "exception": false,
     "start_time": "2025-07-30T12:51:24.978586",
     "status": "completed"
    },
    "tags": []
   },
   "outputs": [
    {
     "data": {
      "text/plain": [
       "'25k'"
      ]
     },
     "execution_count": 15,
     "metadata": {},
     "output_type": "execute_result"
    }
   ],
   "source": [
    "universe[\"training_size\"]"
   ]
  },
  {
   "cell_type": "code",
   "execution_count": 16,
   "id": "ca707fd7-8047-4acd-bfa5-66248fbbf8e6",
   "metadata": {
    "execution": {
     "iopub.execute_input": "2025-07-30T12:51:25.052641Z",
     "iopub.status.busy": "2025-07-30T12:51:25.051764Z",
     "iopub.status.idle": "2025-07-30T12:51:25.059417Z",
     "shell.execute_reply": "2025-07-30T12:51:25.058307Z"
    },
    "papermill": {
     "duration": 0.029689,
     "end_time": "2025-07-30T12:51:25.060856",
     "exception": false,
     "start_time": "2025-07-30T12:51:25.031167",
     "status": "completed"
    },
    "tags": []
   },
   "outputs": [
    {
     "data": {
      "text/plain": [
       "'2014'"
      ]
     },
     "execution_count": 16,
     "metadata": {},
     "output_type": "execute_result"
    }
   ],
   "source": [
    "universe[\"training_year\"]"
   ]
  },
  {
   "cell_type": "code",
   "execution_count": 17,
   "id": "aea9c6ef-6f46-42c8-85eb-5a62025c1508",
   "metadata": {
    "execution": {
     "iopub.execute_input": "2025-07-30T12:51:25.102657Z",
     "iopub.status.busy": "2025-07-30T12:51:25.101994Z",
     "iopub.status.idle": "2025-07-30T12:51:25.364072Z",
     "shell.execute_reply": "2025-07-30T12:51:25.363037Z"
    },
    "papermill": {
     "duration": 0.284821,
     "end_time": "2025-07-30T12:51:25.366220",
     "exception": false,
     "start_time": "2025-07-30T12:51:25.081399",
     "status": "completed"
    },
    "tags": []
   },
   "outputs": [],
   "source": [
    "siab_train = sample_by_year_size(siab,\n",
    "                               training_year=universe[\"training_year\"],\n",
    "                               training_size=universe[\"training_size\"])"
   ]
  },
  {
   "cell_type": "code",
   "execution_count": 18,
   "id": "8d3afb32-789d-442c-8d5d-9f5aa8dd2eed",
   "metadata": {
    "execution": {
     "iopub.execute_input": "2025-07-30T12:51:25.408516Z",
     "iopub.status.busy": "2025-07-30T12:51:25.407838Z",
     "iopub.status.idle": "2025-07-30T12:51:25.414992Z",
     "shell.execute_reply": "2025-07-30T12:51:25.414151Z"
    },
    "papermill": {
     "duration": 0.029601,
     "end_time": "2025-07-30T12:51:25.416750",
     "exception": false,
     "start_time": "2025-07-30T12:51:25.387149",
     "status": "completed"
    },
    "tags": []
   },
   "outputs": [
    {
     "data": {
      "text/plain": [
       "(25000, 164)"
      ]
     },
     "execution_count": 18,
     "metadata": {},
     "output_type": "execute_result"
    }
   ],
   "source": [
    "siab_train.shape"
   ]
  },
  {
   "cell_type": "code",
   "execution_count": 19,
   "id": "d582db68-1a4c-47fb-84fc-08518dc1975a",
   "metadata": {
    "execution": {
     "iopub.execute_input": "2025-07-30T12:51:25.459192Z",
     "iopub.status.busy": "2025-07-30T12:51:25.458552Z",
     "iopub.status.idle": "2025-07-30T12:51:25.473260Z",
     "shell.execute_reply": "2025-07-30T12:51:25.472258Z"
    },
    "papermill": {
     "duration": 0.037261,
     "end_time": "2025-07-30T12:51:25.474837",
     "exception": false,
     "start_time": "2025-07-30T12:51:25.437576",
     "status": "completed"
    },
    "tags": []
   },
   "outputs": [
    {
     "data": {
      "text/plain": [
       "year\n",
       "2014    25000\n",
       "dtype: int64"
      ]
     },
     "metadata": {},
     "output_type": "display_data"
    }
   ],
   "source": [
    "display(siab_train.groupby(\"year\").size())"
   ]
  },
  {
   "cell_type": "code",
   "execution_count": 20,
   "id": "a561edb4-d032-42cb-8256-22eac1111c64",
   "metadata": {
    "execution": {
     "iopub.execute_input": "2025-07-30T12:51:25.518604Z",
     "iopub.status.busy": "2025-07-30T12:51:25.517938Z",
     "iopub.status.idle": "2025-07-30T12:51:25.741833Z",
     "shell.execute_reply": "2025-07-30T12:51:25.741055Z"
    },
    "papermill": {
     "duration": 0.24692,
     "end_time": "2025-07-30T12:51:25.743326",
     "exception": false,
     "start_time": "2025-07-30T12:51:25.496406",
     "status": "completed"
    },
    "tags": []
   },
   "outputs": [],
   "source": [
    "#siab_train = siab_s[siab_s.year < 2015]\n",
    "siab_calib = siab[siab.year == 2015]\n",
    "siab_test = siab[siab.year == 2016]"
   ]
  },
  {
   "cell_type": "code",
   "execution_count": 21,
   "id": "472de16f-c3db-4916-846b-1f0de9cf1746",
   "metadata": {
    "execution": {
     "iopub.execute_input": "2025-07-30T12:51:25.767353Z",
     "iopub.status.busy": "2025-07-30T12:51:25.766957Z",
     "iopub.status.idle": "2025-07-30T12:51:25.780229Z",
     "shell.execute_reply": "2025-07-30T12:51:25.779480Z"
    },
    "papermill": {
     "duration": 0.0264,
     "end_time": "2025-07-30T12:51:25.781599",
     "exception": false,
     "start_time": "2025-07-30T12:51:25.755199",
     "status": "completed"
    },
    "tags": []
   },
   "outputs": [],
   "source": [
    "X_train = siab_train.iloc[:,4:164]\n",
    "y_train = siab_train.iloc[:, [3]]"
   ]
  },
  {
   "cell_type": "code",
   "execution_count": 22,
   "id": "828c96af-f43a-4ed6-ba47-8ac73a47d56c",
   "metadata": {
    "execution": {
     "iopub.execute_input": "2025-07-30T12:51:25.810154Z",
     "iopub.status.busy": "2025-07-30T12:51:25.809642Z",
     "iopub.status.idle": "2025-07-30T12:51:25.859120Z",
     "shell.execute_reply": "2025-07-30T12:51:25.858220Z"
    },
    "papermill": {
     "duration": 0.065212,
     "end_time": "2025-07-30T12:51:25.860775",
     "exception": false,
     "start_time": "2025-07-30T12:51:25.795563",
     "status": "completed"
    },
    "tags": []
   },
   "outputs": [],
   "source": [
    "X_calib = siab_calib.iloc[:,4:164]\n",
    "y_calib = siab_calib.iloc[:, [3]]"
   ]
  },
  {
   "cell_type": "code",
   "execution_count": 23,
   "id": "c34be9c3-6bd6-476e-acd3-845840e303be",
   "metadata": {
    "execution": {
     "iopub.execute_input": "2025-07-30T12:51:25.886883Z",
     "iopub.status.busy": "2025-07-30T12:51:25.886379Z",
     "iopub.status.idle": "2025-07-30T12:51:25.935297Z",
     "shell.execute_reply": "2025-07-30T12:51:25.934434Z"
    },
    "papermill": {
     "duration": 0.062733,
     "end_time": "2025-07-30T12:51:25.936627",
     "exception": false,
     "start_time": "2025-07-30T12:51:25.873894",
     "status": "completed"
    },
    "tags": []
   },
   "outputs": [],
   "source": [
    "X_test = siab_test.iloc[:,4:164]\n",
    "y_true = siab_test.iloc[:, [3]]"
   ]
  },
  {
   "cell_type": "markdown",
   "id": "9901737e-04df-44f0-9100-f5ad144ed040",
   "metadata": {
    "papermill": {
     "duration": 0.011804,
     "end_time": "2025-07-30T12:51:25.961472",
     "exception": false,
     "start_time": "2025-07-30T12:51:25.949668",
     "status": "completed"
    },
    "tags": []
   },
   "source": [
    "# Splitting Data and Setting Training Data Size OLD VERSION"
   ]
  },
  {
   "cell_type": "code",
   "execution_count": 24,
   "id": "acbc8f7d-8fc8-4e86-8c59-5dcb0f58384b",
   "metadata": {
    "execution": {
     "iopub.execute_input": "2025-07-30T12:51:25.987152Z",
     "iopub.status.busy": "2025-07-30T12:51:25.986253Z",
     "iopub.status.idle": "2025-07-30T12:51:25.991598Z",
     "shell.execute_reply": "2025-07-30T12:51:25.990551Z"
    },
    "papermill": {
     "duration": 0.023846,
     "end_time": "2025-07-30T12:51:25.997531",
     "exception": false,
     "start_time": "2025-07-30T12:51:25.973685",
     "status": "completed"
    },
    "tags": []
   },
   "outputs": [],
   "source": [
    "#def sample_by_year(df, training_size, random_state=42):\n",
    "#    if training_size == \"2014\":\n",
    "#        return df[df[\"year\"] == 2014].reset_index(drop=True)\n",
    "#    \n",
    "#    size_map = {\n",
    "#        \"25k\": 5000,\n",
    "#        \"5k\": 1000,\n",
    "#        \"1k\": 200\n",
    "#    }\n",
    "#\n",
    "#    if training_size not in size_map:\n",
    "#        return df.reset_index(drop=True)  # use all data\n",
    "#\n",
    "#    n_per_year = size_map[training_size]\n",
    "#    grouped = df.groupby(\"year\")\n",
    "#    sampled = grouped.apply(lambda x: x.sample(n=min(n_per_year, len(x)), random_state=random_state))\n",
    "#    return sampled.reset_index(drop=True)"
   ]
  },
  {
   "cell_type": "code",
   "execution_count": 25,
   "id": "6d931f52-beaf-43ff-9e78-9d44a448d54e",
   "metadata": {
    "execution": {
     "iopub.execute_input": "2025-07-30T12:51:26.043380Z",
     "iopub.status.busy": "2025-07-30T12:51:26.042817Z",
     "iopub.status.idle": "2025-07-30T12:51:26.048924Z",
     "shell.execute_reply": "2025-07-30T12:51:26.048106Z"
    },
    "papermill": {
     "duration": 0.029624,
     "end_time": "2025-07-30T12:51:26.050403",
     "exception": false,
     "start_time": "2025-07-30T12:51:26.020779",
     "status": "completed"
    },
    "tags": []
   },
   "outputs": [],
   "source": [
    "#siab_s = sample_by_year(siab, universe[\"training_size\"])"
   ]
  },
  {
   "cell_type": "code",
   "execution_count": 26,
   "id": "5db0a40e-a4e2-4920-be85-b12ae061d70d",
   "metadata": {
    "execution": {
     "iopub.execute_input": "2025-07-30T12:51:26.100169Z",
     "iopub.status.busy": "2025-07-30T12:51:26.099752Z",
     "iopub.status.idle": "2025-07-30T12:51:26.105409Z",
     "shell.execute_reply": "2025-07-30T12:51:26.104167Z"
    },
    "papermill": {
     "duration": 0.042685,
     "end_time": "2025-07-30T12:51:26.107790",
     "exception": false,
     "start_time": "2025-07-30T12:51:26.065105",
     "status": "completed"
    },
    "tags": []
   },
   "outputs": [],
   "source": [
    "#display(siab_s.groupby(\"year\").size())"
   ]
  },
  {
   "cell_type": "code",
   "execution_count": 27,
   "id": "e6c733c5",
   "metadata": {
    "execution": {
     "iopub.execute_input": "2025-07-30T12:51:26.173225Z",
     "iopub.status.busy": "2025-07-30T12:51:26.172682Z",
     "iopub.status.idle": "2025-07-30T12:51:26.274609Z",
     "shell.execute_reply": "2025-07-30T12:51:26.273497Z"
    },
    "papermill": {
     "duration": 0.137514,
     "end_time": "2025-07-30T12:51:26.276961",
     "exception": false,
     "start_time": "2025-07-30T12:51:26.139447",
     "status": "completed"
    },
    "tags": []
   },
   "outputs": [],
   "source": [
    "# Auxiliary data needed downstream in the pipeline\n",
    "\n",
    "org_train = X_train.copy()\n",
    "org_test = X_test.copy()\n",
    "org_calib = X_calib.copy()"
   ]
  },
  {
   "cell_type": "code",
   "execution_count": 28,
   "id": "1466abac-c6da-4492-a62f-4240ae3783af",
   "metadata": {
    "execution": {
     "iopub.execute_input": "2025-07-30T12:51:26.324548Z",
     "iopub.status.busy": "2025-07-30T12:51:26.323999Z",
     "iopub.status.idle": "2025-07-30T12:51:26.330393Z",
     "shell.execute_reply": "2025-07-30T12:51:26.329147Z"
    },
    "papermill": {
     "duration": 0.031123,
     "end_time": "2025-07-30T12:51:26.332555",
     "exception": false,
     "start_time": "2025-07-30T12:51:26.301432",
     "status": "completed"
    },
    "tags": []
   },
   "outputs": [],
   "source": [
    "# put in other script?\n",
    "# Group sizes\n",
    "\n",
    "#def calculate_percentages(df, df_name):\n",
    "#    total_entries = len(df)\n",
    "#\n",
    "#    female_pct = (df['frau1'] == 1).mean() * 100\n",
    "#    non_german_pct = ((df['maxdeutsch1'] == 0) & (df['maxdeutsch.Missing.'] == 0)).mean() * 100\n",
    "#    non_german_male_pct = ((df['frau1'] == 0) & (df['maxdeutsch1'] == 0) & (df['maxdeutsch.Missing.'] == 0)).mean() * 100\n",
    "#    non_german_female_pct = ((df['frau1'] == 1) & (df['maxdeutsch1'] == 0) & (df['maxdeutsch.Missing.'] == 0)).mean() * 100\n",
    "#\n",
    "#    print(f\"--- {df_name} ---\")\n",
    "#    print(f\"Female: {female_pct:.2f}%\")\n",
    "#    print(f\"Non-German: {non_german_pct:.2f}%\")\n",
    "#    print(f\"Non-German Male: {non_german_male_pct:.2f}%\")\n",
    "#    print(f\"Non-German Female: {non_german_female_pct:.2f}%\\n\")\n",
    "#\n",
    "## Calculate for each DataFrame\n",
    "#calculate_percentages(siab_calib, \"siab_calib\")\n",
    "#calculate_percentages(siab_test, \"siab_test\")\n",
    "#calculate_percentages(siab_train, \"siab_train\")"
   ]
  },
  {
   "cell_type": "markdown",
   "id": "0a4a1b33",
   "metadata": {
    "papermill": {
     "duration": 0.03029,
     "end_time": "2025-07-30T12:51:26.396235",
     "exception": false,
     "start_time": "2025-07-30T12:51:26.365945",
     "status": "completed"
    },
    "tags": []
   },
   "source": [
    "# Preprocessing Data"
   ]
  },
  {
   "cell_type": "code",
   "execution_count": 29,
   "id": "ca879031",
   "metadata": {
    "execution": {
     "iopub.execute_input": "2025-07-30T12:51:26.460200Z",
     "iopub.status.busy": "2025-07-30T12:51:26.459658Z",
     "iopub.status.idle": "2025-07-30T12:51:26.466644Z",
     "shell.execute_reply": "2025-07-30T12:51:26.465589Z"
    },
    "papermill": {
     "duration": 0.042033,
     "end_time": "2025-07-30T12:51:26.468864",
     "exception": false,
     "start_time": "2025-07-30T12:51:26.426831",
     "status": "completed"
    },
    "tags": []
   },
   "outputs": [],
   "source": [
    "# EXCLUDE PROTECTED FEATURES\n",
    "# ----------------------\n",
    "# \"exclude_features\": \"none\", # \"nationality\", \"sex\", \"nationality-sex\"\n",
    "\n",
    "excluded_features = universe[\"exclude_features\"].split(\"-\") # split, e.g.: \"nationality-sex\" -> [\"nationality\", \"sex\"]\n",
    "excluded_features_dictionary = {\n",
    "    \"nationality\": [\"maxdeutsch1\", \"maxdeutsch.Missing.\"],\n",
    "    \"sex\": [\"frau1\"],\n",
    "    \"age\": [\"age\"],\n",
    "}\n"
   ]
  },
  {
   "cell_type": "code",
   "execution_count": 30,
   "id": "b745ac60",
   "metadata": {
    "execution": {
     "iopub.execute_input": "2025-07-30T12:51:26.522744Z",
     "iopub.status.busy": "2025-07-30T12:51:26.522378Z",
     "iopub.status.idle": "2025-07-30T12:51:26.527453Z",
     "shell.execute_reply": "2025-07-30T12:51:26.526438Z"
    },
    "papermill": {
     "duration": 0.032246,
     "end_time": "2025-07-30T12:51:26.530368",
     "exception": false,
     "start_time": "2025-07-30T12:51:26.498122",
     "status": "completed"
    },
    "tags": []
   },
   "outputs": [],
   "source": [
    "# Code nice names to column names\n",
    "\n",
    "excluded_features_columns = [\n",
    "    excluded_features_dictionary[f] for f in excluded_features if len(f) > 0 and f != \"none\"\n",
    "]"
   ]
  },
  {
   "cell_type": "code",
   "execution_count": 31,
   "id": "f84f73a2",
   "metadata": {
    "execution": {
     "iopub.execute_input": "2025-07-30T12:51:26.563889Z",
     "iopub.status.busy": "2025-07-30T12:51:26.563423Z",
     "iopub.status.idle": "2025-07-30T12:51:26.570669Z",
     "shell.execute_reply": "2025-07-30T12:51:26.569513Z"
    },
    "papermill": {
     "duration": 0.025603,
     "end_time": "2025-07-30T12:51:26.572350",
     "exception": false,
     "start_time": "2025-07-30T12:51:26.546747",
     "status": "completed"
    },
    "tags": []
   },
   "outputs": [],
   "source": [
    "from utils import flatten_once\n",
    "\n",
    "excluded_features_columns = flatten_once(excluded_features_columns)"
   ]
  },
  {
   "cell_type": "code",
   "execution_count": 32,
   "id": "884dea22",
   "metadata": {
    "execution": {
     "iopub.execute_input": "2025-07-30T12:51:26.619353Z",
     "iopub.status.busy": "2025-07-30T12:51:26.618897Z",
     "iopub.status.idle": "2025-07-30T12:51:26.634456Z",
     "shell.execute_reply": "2025-07-30T12:51:26.633306Z"
    },
    "papermill": {
     "duration": 0.03982,
     "end_time": "2025-07-30T12:51:26.636308",
     "exception": false,
     "start_time": "2025-07-30T12:51:26.596488",
     "status": "completed"
    },
    "tags": []
   },
   "outputs": [
    {
     "name": "stdout",
     "output_type": "stream",
     "text": [
      "Dropping features: ['maxdeutsch1', 'maxdeutsch.Missing.']\n"
     ]
    }
   ],
   "source": [
    "if len(excluded_features_columns) > 0:\n",
    "    print(f\"Dropping features: {excluded_features_columns}\")\n",
    "    X_train.drop(excluded_features_columns, axis=1, inplace=True)"
   ]
  },
  {
   "cell_type": "code",
   "execution_count": 33,
   "id": "95ab8b16",
   "metadata": {
    "execution": {
     "iopub.execute_input": "2025-07-30T12:51:26.676679Z",
     "iopub.status.busy": "2025-07-30T12:51:26.676010Z",
     "iopub.status.idle": "2025-07-30T12:51:26.734887Z",
     "shell.execute_reply": "2025-07-30T12:51:26.733855Z"
    },
    "papermill": {
     "duration": 0.075703,
     "end_time": "2025-07-30T12:51:26.736483",
     "exception": false,
     "start_time": "2025-07-30T12:51:26.660780",
     "status": "completed"
    },
    "tags": []
   },
   "outputs": [
    {
     "name": "stdout",
     "output_type": "stream",
     "text": [
      "Dropping features: ['maxdeutsch1', 'maxdeutsch.Missing.']\n"
     ]
    }
   ],
   "source": [
    "if len(excluded_features_columns) > 0:\n",
    "    print(f\"Dropping features: {excluded_features_columns}\")\n",
    "    X_test.drop(excluded_features_columns, axis=1, inplace=True)"
   ]
  },
  {
   "cell_type": "code",
   "execution_count": 34,
   "id": "1853aaf5-fb9f-46cb-a2b5-8ea4ae2237e4",
   "metadata": {
    "execution": {
     "iopub.execute_input": "2025-07-30T12:51:26.789224Z",
     "iopub.status.busy": "2025-07-30T12:51:26.788735Z",
     "iopub.status.idle": "2025-07-30T12:51:26.861815Z",
     "shell.execute_reply": "2025-07-30T12:51:26.860699Z"
    },
    "papermill": {
     "duration": 0.098436,
     "end_time": "2025-07-30T12:51:26.863550",
     "exception": false,
     "start_time": "2025-07-30T12:51:26.765114",
     "status": "completed"
    },
    "tags": []
   },
   "outputs": [
    {
     "name": "stdout",
     "output_type": "stream",
     "text": [
      "Dropping features: ['maxdeutsch1', 'maxdeutsch.Missing.']\n"
     ]
    }
   ],
   "source": [
    "if len(excluded_features_columns) > 0:\n",
    "    print(f\"Dropping features: {excluded_features_columns}\")\n",
    "    X_calib.drop(excluded_features_columns, axis=1, inplace=True)"
   ]
  },
  {
   "cell_type": "code",
   "execution_count": 35,
   "id": "6727d079-03e5-481e-9d38-292a90b7a0a8",
   "metadata": {
    "execution": {
     "iopub.execute_input": "2025-07-30T12:51:26.913074Z",
     "iopub.status.busy": "2025-07-30T12:51:26.912115Z",
     "iopub.status.idle": "2025-07-30T12:51:26.917490Z",
     "shell.execute_reply": "2025-07-30T12:51:26.916415Z"
    },
    "papermill": {
     "duration": 0.033344,
     "end_time": "2025-07-30T12:51:26.919927",
     "exception": false,
     "start_time": "2025-07-30T12:51:26.886583",
     "status": "completed"
    },
    "tags": []
   },
   "outputs": [],
   "source": [
    "# SPLIT & STRATIFY DATA\n",
    "# ----------------------"
   ]
  },
  {
   "cell_type": "code",
   "execution_count": 36,
   "id": "76c4dc6d",
   "metadata": {
    "execution": {
     "iopub.execute_input": "2025-07-30T12:51:26.990865Z",
     "iopub.status.busy": "2025-07-30T12:51:26.989199Z",
     "iopub.status.idle": "2025-07-30T12:51:26.996250Z",
     "shell.execute_reply": "2025-07-30T12:51:26.995153Z"
    },
    "papermill": {
     "duration": 0.045313,
     "end_time": "2025-07-30T12:51:26.998521",
     "exception": false,
     "start_time": "2025-07-30T12:51:26.953208",
     "status": "completed"
    },
    "tags": []
   },
   "outputs": [],
   "source": [
    "# EXCLUDE CERTAIN SUBGROUPS\n",
    "# ----------------------\n",
    "\n",
    "mode = universe.get(\"exclude_subgroups\", \"keep-all\") \n",
    "# Fetches the exclude_subgroups setting from the universe dict.\n",
    "# Defaults to \"keep-all\" if the key is missing."
   ]
  },
  {
   "cell_type": "code",
   "execution_count": 37,
   "id": "21994072",
   "metadata": {
    "execution": {
     "iopub.execute_input": "2025-07-30T12:51:27.054079Z",
     "iopub.status.busy": "2025-07-30T12:51:27.053214Z",
     "iopub.status.idle": "2025-07-30T12:51:27.061522Z",
     "shell.execute_reply": "2025-07-30T12:51:27.060489Z"
    },
    "papermill": {
     "duration": 0.037329,
     "end_time": "2025-07-30T12:51:27.063218",
     "exception": false,
     "start_time": "2025-07-30T12:51:27.025889",
     "status": "completed"
    },
    "tags": []
   },
   "outputs": [],
   "source": [
    "if mode == \"keep-all\":\n",
    "    keep_mask = pd.Series(True, index=org_train.index)\n",
    "\n",
    "# org_train contains the original feature columns from features_org (in Simson)\n",
    "# features_org contains unprocessed features, for me X_train at beginning ???\n",
    "# For keep-all, creates a boolean Series (keep_mask) of all True, so no rows are removed.\n",
    "\n",
    "elif mode == \"drop-non-german\":\n",
    "    keep_mask = org_train[\"maxdeutsch1\"] == 1 # ??? what about missing values?\n",
    "\n",
    "else:\n",
    "    raise ValueError(f\"Unsupported mode for exclude_subgroups: {mode}\")\n"
   ]
  },
  {
   "cell_type": "code",
   "execution_count": 38,
   "id": "71651440",
   "metadata": {
    "execution": {
     "iopub.execute_input": "2025-07-30T12:51:27.117906Z",
     "iopub.status.busy": "2025-07-30T12:51:27.117003Z",
     "iopub.status.idle": "2025-07-30T12:51:27.123698Z",
     "shell.execute_reply": "2025-07-30T12:51:27.122718Z"
    },
    "papermill": {
     "duration": 0.035594,
     "end_time": "2025-07-30T12:51:27.125512",
     "exception": false,
     "start_time": "2025-07-30T12:51:27.089918",
     "status": "completed"
    },
    "tags": []
   },
   "outputs": [],
   "source": [
    "n_drop = (~keep_mask).sum() # Calculates how many rows are set to be dropped\n",
    "if n_drop > 0:\n",
    "    pct = n_drop / len(keep_mask) * 100\n",
    "    print(f\"Dropping {n_drop} rows ({pct:.2f}%) where mode='{mode}'\")"
   ]
  },
  {
   "cell_type": "code",
   "execution_count": 39,
   "id": "5fb8eee5",
   "metadata": {
    "execution": {
     "iopub.execute_input": "2025-07-30T12:51:27.179990Z",
     "iopub.status.busy": "2025-07-30T12:51:27.179033Z",
     "iopub.status.idle": "2025-07-30T12:51:27.195794Z",
     "shell.execute_reply": "2025-07-30T12:51:27.194614Z"
    },
    "papermill": {
     "duration": 0.046534,
     "end_time": "2025-07-30T12:51:27.198332",
     "exception": false,
     "start_time": "2025-07-30T12:51:27.151798",
     "status": "completed"
    },
    "tags": []
   },
   "outputs": [],
   "source": [
    "X_train = X_train[keep_mask]"
   ]
  },
  {
   "cell_type": "code",
   "execution_count": 40,
   "id": "b202bb3a",
   "metadata": {
    "execution": {
     "iopub.execute_input": "2025-07-30T12:51:27.260824Z",
     "iopub.status.busy": "2025-07-30T12:51:27.259962Z",
     "iopub.status.idle": "2025-07-30T12:51:27.267558Z",
     "shell.execute_reply": "2025-07-30T12:51:27.266415Z"
    },
    "papermill": {
     "duration": 0.041152,
     "end_time": "2025-07-30T12:51:27.269826",
     "exception": false,
     "start_time": "2025-07-30T12:51:27.228674",
     "status": "completed"
    },
    "tags": []
   },
   "outputs": [],
   "source": [
    "y_train = y_train[keep_mask]"
   ]
  },
  {
   "cell_type": "markdown",
   "id": "493e2ac3",
   "metadata": {
    "papermill": {
     "duration": 0.029511,
     "end_time": "2025-07-30T12:51:27.330979",
     "exception": false,
     "start_time": "2025-07-30T12:51:27.301468",
     "status": "completed"
    },
    "tags": []
   },
   "source": [
    "# Model Training"
   ]
  },
  {
   "cell_type": "code",
   "execution_count": 41,
   "id": "679e1268",
   "metadata": {
    "execution": {
     "iopub.execute_input": "2025-07-30T12:51:27.392926Z",
     "iopub.status.busy": "2025-07-30T12:51:27.392140Z",
     "iopub.status.idle": "2025-07-30T12:51:27.504600Z",
     "shell.execute_reply": "2025-07-30T12:51:27.503488Z"
    },
    "papermill": {
     "duration": 0.146018,
     "end_time": "2025-07-30T12:51:27.506839",
     "exception": false,
     "start_time": "2025-07-30T12:51:27.360821",
     "status": "completed"
    },
    "tags": []
   },
   "outputs": [],
   "source": [
    "from sklearn.linear_model import LogisticRegression\n",
    "from sklearn.ensemble import GradientBoostingClassifier, RandomForestClassifier\n",
    "\n",
    "if (universe[\"model\"] == \"logreg\"):\n",
    "    model = LogisticRegression() #penalty=\"none\") #, solver=\"newton-cg\", max_iter=1) # include random_state=19 ?\n",
    "elif (universe[\"model\"] == \"penalized_logreg\"):\n",
    "    model = LogisticRegression(penalty=\"l2\", C=1.0) #, solver=\"newton-cg\", max_iter=1)\n",
    "elif (universe[\"model\"] == \"rf\"):\n",
    "    model = RandomForestClassifier(n_estimators=100, n_jobs=-1)\n",
    "elif (universe[\"model\"] == \"gbm\"):\n",
    "    model = GradientBoostingClassifier()\n",
    "elif (universe[\"model\"] == \"elasticnet\"):\n",
    "    model = LogisticRegression(penalty = 'elasticnet', solver = 'saga', l1_ratio = 0.5, max_iter=5000) # which solver to use?\n",
    "else:\n",
    "    raise \"Unsupported universe.model\""
   ]
  },
  {
   "cell_type": "code",
   "execution_count": 42,
   "id": "0cc8f744",
   "metadata": {
    "execution": {
     "iopub.execute_input": "2025-07-30T12:51:27.567159Z",
     "iopub.status.busy": "2025-07-30T12:51:27.566630Z",
     "iopub.status.idle": "2025-07-30T12:51:27.574178Z",
     "shell.execute_reply": "2025-07-30T12:51:27.572892Z"
    },
    "papermill": {
     "duration": 0.040241,
     "end_time": "2025-07-30T12:51:27.576451",
     "exception": false,
     "start_time": "2025-07-30T12:51:27.536210",
     "status": "completed"
    },
    "tags": []
   },
   "outputs": [],
   "source": [
    "import numpy as np\n",
    "from sklearn.pipeline import Pipeline\n",
    "from sklearn.preprocessing import StandardScaler\n",
    "\n",
    "model = Pipeline([\n",
    "    #(\"continuous_processor\", continuous_processor),\n",
    "    #(\"categorical_preprocessor\", categorical_preprocessor),\n",
    "    (\"scale\", StandardScaler() if universe[\"scale\"] == \"scale\" else None), \n",
    "    (\"model\", model),\n",
    "])"
   ]
  },
  {
   "cell_type": "code",
   "execution_count": 43,
   "id": "9442c04d",
   "metadata": {
    "execution": {
     "iopub.execute_input": "2025-07-30T12:51:27.638457Z",
     "iopub.status.busy": "2025-07-30T12:51:27.637853Z",
     "iopub.status.idle": "2025-07-30T12:51:55.121027Z",
     "shell.execute_reply": "2025-07-30T12:51:55.119793Z"
    },
    "papermill": {
     "duration": 27.51627,
     "end_time": "2025-07-30T12:51:55.123120",
     "exception": false,
     "start_time": "2025-07-30T12:51:27.606850",
     "status": "completed"
    },
    "tags": []
   },
   "outputs": [
    {
     "data": {
      "text/html": [
       "<style>#sk-container-id-1 {color: black;background-color: white;}#sk-container-id-1 pre{padding: 0;}#sk-container-id-1 div.sk-toggleable {background-color: white;}#sk-container-id-1 label.sk-toggleable__label {cursor: pointer;display: block;width: 100%;margin-bottom: 0;padding: 0.3em;box-sizing: border-box;text-align: center;}#sk-container-id-1 label.sk-toggleable__label-arrow:before {content: \"▸\";float: left;margin-right: 0.25em;color: #696969;}#sk-container-id-1 label.sk-toggleable__label-arrow:hover:before {color: black;}#sk-container-id-1 div.sk-estimator:hover label.sk-toggleable__label-arrow:before {color: black;}#sk-container-id-1 div.sk-toggleable__content {max-height: 0;max-width: 0;overflow: hidden;text-align: left;background-color: #f0f8ff;}#sk-container-id-1 div.sk-toggleable__content pre {margin: 0.2em;color: black;border-radius: 0.25em;background-color: #f0f8ff;}#sk-container-id-1 input.sk-toggleable__control:checked~div.sk-toggleable__content {max-height: 200px;max-width: 100%;overflow: auto;}#sk-container-id-1 input.sk-toggleable__control:checked~label.sk-toggleable__label-arrow:before {content: \"▾\";}#sk-container-id-1 div.sk-estimator input.sk-toggleable__control:checked~label.sk-toggleable__label {background-color: #d4ebff;}#sk-container-id-1 div.sk-label input.sk-toggleable__control:checked~label.sk-toggleable__label {background-color: #d4ebff;}#sk-container-id-1 input.sk-hidden--visually {border: 0;clip: rect(1px 1px 1px 1px);clip: rect(1px, 1px, 1px, 1px);height: 1px;margin: -1px;overflow: hidden;padding: 0;position: absolute;width: 1px;}#sk-container-id-1 div.sk-estimator {font-family: monospace;background-color: #f0f8ff;border: 1px dotted black;border-radius: 0.25em;box-sizing: border-box;margin-bottom: 0.5em;}#sk-container-id-1 div.sk-estimator:hover {background-color: #d4ebff;}#sk-container-id-1 div.sk-parallel-item::after {content: \"\";width: 100%;border-bottom: 1px solid gray;flex-grow: 1;}#sk-container-id-1 div.sk-label:hover label.sk-toggleable__label {background-color: #d4ebff;}#sk-container-id-1 div.sk-serial::before {content: \"\";position: absolute;border-left: 1px solid gray;box-sizing: border-box;top: 0;bottom: 0;left: 50%;z-index: 0;}#sk-container-id-1 div.sk-serial {display: flex;flex-direction: column;align-items: center;background-color: white;padding-right: 0.2em;padding-left: 0.2em;position: relative;}#sk-container-id-1 div.sk-item {position: relative;z-index: 1;}#sk-container-id-1 div.sk-parallel {display: flex;align-items: stretch;justify-content: center;background-color: white;position: relative;}#sk-container-id-1 div.sk-item::before, #sk-container-id-1 div.sk-parallel-item::before {content: \"\";position: absolute;border-left: 1px solid gray;box-sizing: border-box;top: 0;bottom: 0;left: 50%;z-index: -1;}#sk-container-id-1 div.sk-parallel-item {display: flex;flex-direction: column;z-index: 1;position: relative;background-color: white;}#sk-container-id-1 div.sk-parallel-item:first-child::after {align-self: flex-end;width: 50%;}#sk-container-id-1 div.sk-parallel-item:last-child::after {align-self: flex-start;width: 50%;}#sk-container-id-1 div.sk-parallel-item:only-child::after {width: 0;}#sk-container-id-1 div.sk-dashed-wrapped {border: 1px dashed gray;margin: 0 0.4em 0.5em 0.4em;box-sizing: border-box;padding-bottom: 0.4em;background-color: white;}#sk-container-id-1 div.sk-label label {font-family: monospace;font-weight: bold;display: inline-block;line-height: 1.2em;}#sk-container-id-1 div.sk-label-container {text-align: center;}#sk-container-id-1 div.sk-container {/* jupyter's `normalize.less` sets `[hidden] { display: none; }` but bootstrap.min.css set `[hidden] { display: none !important; }` so we also need the `!important` here to be able to override the default hidden behavior on the sphinx rendered scikit-learn.org. See: https://github.com/scikit-learn/scikit-learn/issues/21755 */display: inline-block !important;position: relative;}#sk-container-id-1 div.sk-text-repr-fallback {display: none;}</style><div id=\"sk-container-id-1\" class=\"sk-top-container\"><div class=\"sk-text-repr-fallback\"><pre>Pipeline(steps=[(&#x27;scale&#x27;, StandardScaler()),\n",
       "                (&#x27;model&#x27;,\n",
       "                 LogisticRegression(l1_ratio=0.5, max_iter=5000,\n",
       "                                    penalty=&#x27;elasticnet&#x27;, solver=&#x27;saga&#x27;))])</pre><b>In a Jupyter environment, please rerun this cell to show the HTML representation or trust the notebook. <br />On GitHub, the HTML representation is unable to render, please try loading this page with nbviewer.org.</b></div><div class=\"sk-container\" hidden><div class=\"sk-item sk-dashed-wrapped\"><div class=\"sk-label-container\"><div class=\"sk-label sk-toggleable\"><input class=\"sk-toggleable__control sk-hidden--visually\" id=\"sk-estimator-id-1\" type=\"checkbox\" ><label for=\"sk-estimator-id-1\" class=\"sk-toggleable__label sk-toggleable__label-arrow\">Pipeline</label><div class=\"sk-toggleable__content\"><pre>Pipeline(steps=[(&#x27;scale&#x27;, StandardScaler()),\n",
       "                (&#x27;model&#x27;,\n",
       "                 LogisticRegression(l1_ratio=0.5, max_iter=5000,\n",
       "                                    penalty=&#x27;elasticnet&#x27;, solver=&#x27;saga&#x27;))])</pre></div></div></div><div class=\"sk-serial\"><div class=\"sk-item\"><div class=\"sk-estimator sk-toggleable\"><input class=\"sk-toggleable__control sk-hidden--visually\" id=\"sk-estimator-id-2\" type=\"checkbox\" ><label for=\"sk-estimator-id-2\" class=\"sk-toggleable__label sk-toggleable__label-arrow\">StandardScaler</label><div class=\"sk-toggleable__content\"><pre>StandardScaler()</pre></div></div></div><div class=\"sk-item\"><div class=\"sk-estimator sk-toggleable\"><input class=\"sk-toggleable__control sk-hidden--visually\" id=\"sk-estimator-id-3\" type=\"checkbox\" ><label for=\"sk-estimator-id-3\" class=\"sk-toggleable__label sk-toggleable__label-arrow\">LogisticRegression</label><div class=\"sk-toggleable__content\"><pre>LogisticRegression(l1_ratio=0.5, max_iter=5000, penalty=&#x27;elasticnet&#x27;,\n",
       "                   solver=&#x27;saga&#x27;)</pre></div></div></div></div></div></div></div>"
      ],
      "text/plain": [
       "Pipeline(steps=[('scale', StandardScaler()),\n",
       "                ('model',\n",
       "                 LogisticRegression(l1_ratio=0.5, max_iter=5000,\n",
       "                                    penalty='elasticnet', solver='saga'))])"
      ]
     },
     "execution_count": 43,
     "metadata": {},
     "output_type": "execute_result"
    }
   ],
   "source": [
    "model.fit(X_train, y_train.values.ravel())"
   ]
  },
  {
   "cell_type": "code",
   "execution_count": 44,
   "id": "af59f8c0",
   "metadata": {
    "execution": {
     "iopub.execute_input": "2025-07-30T12:51:55.183200Z",
     "iopub.status.busy": "2025-07-30T12:51:55.182064Z",
     "iopub.status.idle": "2025-07-30T12:51:55.188434Z",
     "shell.execute_reply": "2025-07-30T12:51:55.187457Z"
    },
    "papermill": {
     "duration": 0.036852,
     "end_time": "2025-07-30T12:51:55.190090",
     "exception": false,
     "start_time": "2025-07-30T12:51:55.153238",
     "status": "completed"
    },
    "tags": []
   },
   "outputs": [],
   "source": [
    "from fairness_multiverse.universe import predict_w_threshold"
   ]
  },
  {
   "cell_type": "code",
   "execution_count": 45,
   "id": "a7cf2e16",
   "metadata": {
    "execution": {
     "iopub.execute_input": "2025-07-30T12:51:55.241093Z",
     "iopub.status.busy": "2025-07-30T12:51:55.240365Z",
     "iopub.status.idle": "2025-07-30T12:51:55.447885Z",
     "shell.execute_reply": "2025-07-30T12:51:55.446903Z"
    },
    "papermill": {
     "duration": 0.235165,
     "end_time": "2025-07-30T12:51:55.449624",
     "exception": false,
     "start_time": "2025-07-30T12:51:55.214459",
     "status": "completed"
    },
    "tags": []
   },
   "outputs": [
    {
     "data": {
      "text/plain": [
       "0.8653661799130532"
      ]
     },
     "execution_count": 45,
     "metadata": {},
     "output_type": "execute_result"
    }
   ],
   "source": [
    "probs_test = model.predict_proba(X_test)\n",
    "\n",
    "'''\n",
    "Below code returns a boolean array (or binary 0/1 array depending on how it’s used) where each element \n",
    "is True if the probability of class 1 is greater than or equal to the threshold, and False otherwise.\n",
    "'''\n",
    "y_pred_default = predict_w_threshold(probs_test, 0.5)\n",
    "\n",
    "from sklearn.metrics import accuracy_score\n",
    "\n",
    "# Naive prediction\n",
    "accuracy_score(y_true = y_true, y_pred = y_pred_default)"
   ]
  },
  {
   "cell_type": "code",
   "execution_count": 46,
   "id": "081964c3",
   "metadata": {
    "execution": {
     "iopub.execute_input": "2025-07-30T12:51:55.500674Z",
     "iopub.status.busy": "2025-07-30T12:51:55.499871Z",
     "iopub.status.idle": "2025-07-30T12:51:55.692009Z",
     "shell.execute_reply": "2025-07-30T12:51:55.690988Z"
    },
    "papermill": {
     "duration": 0.220307,
     "end_time": "2025-07-30T12:51:55.694091",
     "exception": false,
     "start_time": "2025-07-30T12:51:55.473784",
     "status": "completed"
    },
    "tags": []
   },
   "outputs": [
    {
     "data": {
      "text/plain": [
       "array([0, 0, 0, ..., 0, 0, 0])"
      ]
     },
     "execution_count": 46,
     "metadata": {},
     "output_type": "execute_result"
    }
   ],
   "source": [
    "model.predict(X_test)"
   ]
  },
  {
   "cell_type": "markdown",
   "id": "56c9705b",
   "metadata": {
    "papermill": {
     "duration": 0.030882,
     "end_time": "2025-07-30T12:51:55.756987",
     "exception": false,
     "start_time": "2025-07-30T12:51:55.726105",
     "status": "completed"
    },
    "tags": []
   },
   "source": [
    "# Conformal Prediction"
   ]
  },
  {
   "cell_type": "code",
   "execution_count": 47,
   "id": "160ec6ff",
   "metadata": {
    "execution": {
     "iopub.execute_input": "2025-07-30T12:51:55.821186Z",
     "iopub.status.busy": "2025-07-30T12:51:55.820356Z",
     "iopub.status.idle": "2025-07-30T12:51:55.826866Z",
     "shell.execute_reply": "2025-07-30T12:51:55.825691Z"
    },
    "papermill": {
     "duration": 0.040667,
     "end_time": "2025-07-30T12:51:55.828581",
     "exception": false,
     "start_time": "2025-07-30T12:51:55.787914",
     "status": "completed"
    },
    "tags": []
   },
   "outputs": [],
   "source": [
    "# Miscoverage level for conformal prediction (10% allowed error rate => 90% target coverage)\n",
    "alpha = 0.1"
   ]
  },
  {
   "cell_type": "code",
   "execution_count": 48,
   "id": "eadf4555-3dd3-440e-8e35-f82a4ad9f855",
   "metadata": {
    "execution": {
     "iopub.execute_input": "2025-07-30T12:51:55.887045Z",
     "iopub.status.busy": "2025-07-30T12:51:55.886014Z",
     "iopub.status.idle": "2025-07-30T12:51:56.129244Z",
     "shell.execute_reply": "2025-07-30T12:51:56.128140Z"
    },
    "papermill": {
     "duration": 0.274173,
     "end_time": "2025-07-30T12:51:56.131325",
     "exception": false,
     "start_time": "2025-07-30T12:51:55.857152",
     "status": "completed"
    },
    "tags": []
   },
   "outputs": [],
   "source": [
    "probs_calib = model.predict_proba(X_calib)"
   ]
  },
  {
   "cell_type": "code",
   "execution_count": 49,
   "id": "2ed93547-6d5d-4983-9b36-1ecb300da49a",
   "metadata": {
    "execution": {
     "iopub.execute_input": "2025-07-30T12:51:56.202836Z",
     "iopub.status.busy": "2025-07-30T12:51:56.201895Z",
     "iopub.status.idle": "2025-07-30T12:51:56.208971Z",
     "shell.execute_reply": "2025-07-30T12:51:56.207833Z"
    },
    "papermill": {
     "duration": 0.03559,
     "end_time": "2025-07-30T12:51:56.211024",
     "exception": false,
     "start_time": "2025-07-30T12:51:56.175434",
     "status": "completed"
    },
    "tags": []
   },
   "outputs": [],
   "source": [
    "y_calib = y_calib.values.ravel().astype(int)"
   ]
  },
  {
   "cell_type": "code",
   "execution_count": 50,
   "id": "65d1320d-f588-4b38-9072-62af1ae97f7d",
   "metadata": {
    "execution": {
     "iopub.execute_input": "2025-07-30T12:51:56.265299Z",
     "iopub.status.busy": "2025-07-30T12:51:56.264246Z",
     "iopub.status.idle": "2025-07-30T12:51:56.278166Z",
     "shell.execute_reply": "2025-07-30T12:51:56.277101Z"
    },
    "papermill": {
     "duration": 0.043016,
     "end_time": "2025-07-30T12:51:56.280460",
     "exception": false,
     "start_time": "2025-07-30T12:51:56.237444",
     "status": "completed"
    },
    "tags": []
   },
   "outputs": [],
   "source": [
    "from fairness_multiverse.conformal import compute_nc_scores\n",
    "\n",
    "# Compute nonconformity scores on calibration set (1 - probability of true class)\n",
    "nc_scores = compute_nc_scores(probs_calib, y_calib)"
   ]
  },
  {
   "cell_type": "code",
   "execution_count": 51,
   "id": "df3b8ca3-53b7-43d5-9667-7c85da7aeda2",
   "metadata": {
    "execution": {
     "iopub.execute_input": "2025-07-30T12:51:56.334434Z",
     "iopub.status.busy": "2025-07-30T12:51:56.333545Z",
     "iopub.status.idle": "2025-07-30T12:51:56.342358Z",
     "shell.execute_reply": "2025-07-30T12:51:56.341007Z"
    },
    "papermill": {
     "duration": 0.038251,
     "end_time": "2025-07-30T12:51:56.344504",
     "exception": false,
     "start_time": "2025-07-30T12:51:56.306253",
     "status": "completed"
    },
    "tags": []
   },
   "outputs": [],
   "source": [
    "from fairness_multiverse.conformal import find_threshold\n",
    "\n",
    "# Find conformal threshold q_hat for the given alpha (split conformal method)\n",
    "q_hat = find_threshold(nc_scores, alpha)"
   ]
  },
  {
   "cell_type": "code",
   "execution_count": 52,
   "id": "4d29e6c1-0ef6-4aa4-b8fe-4fe79b0d033a",
   "metadata": {
    "execution": {
     "iopub.execute_input": "2025-07-30T12:51:56.404467Z",
     "iopub.status.busy": "2025-07-30T12:51:56.403497Z",
     "iopub.status.idle": "2025-07-30T12:51:56.415619Z",
     "shell.execute_reply": "2025-07-30T12:51:56.414071Z"
    },
    "papermill": {
     "duration": 0.043164,
     "end_time": "2025-07-30T12:51:56.418133",
     "exception": false,
     "start_time": "2025-07-30T12:51:56.374969",
     "status": "completed"
    },
    "tags": []
   },
   "outputs": [
    {
     "data": {
      "text/plain": [
       "0.6755839079676464"
      ]
     },
     "execution_count": 52,
     "metadata": {},
     "output_type": "execute_result"
    }
   ],
   "source": [
    "q_hat"
   ]
  },
  {
   "cell_type": "code",
   "execution_count": 53,
   "id": "92460794-cdac-4be2-ba28-f28c0515a6fb",
   "metadata": {
    "execution": {
     "iopub.execute_input": "2025-07-30T12:51:56.498124Z",
     "iopub.status.busy": "2025-07-30T12:51:56.497540Z",
     "iopub.status.idle": "2025-07-30T12:51:57.783570Z",
     "shell.execute_reply": "2025-07-30T12:51:57.782077Z"
    },
    "papermill": {
     "duration": 1.322363,
     "end_time": "2025-07-30T12:51:57.785620",
     "exception": false,
     "start_time": "2025-07-30T12:51:56.463257",
     "status": "completed"
    },
    "tags": []
   },
   "outputs": [],
   "source": [
    "from fairness_multiverse.conformal import predict_conformal_sets\n",
    "\n",
    "# Generate prediction sets for each test example\n",
    "pred_sets = predict_conformal_sets(model, X_test, q_hat)"
   ]
  },
  {
   "cell_type": "code",
   "execution_count": 54,
   "id": "d90c9a65-e6db-4f5d-80cd-e68fb7e46829",
   "metadata": {
    "execution": {
     "iopub.execute_input": "2025-07-30T12:51:57.838338Z",
     "iopub.status.busy": "2025-07-30T12:51:57.837709Z",
     "iopub.status.idle": "2025-07-30T12:51:57.843963Z",
     "shell.execute_reply": "2025-07-30T12:51:57.843080Z"
    },
    "papermill": {
     "duration": 0.034173,
     "end_time": "2025-07-30T12:51:57.845680",
     "exception": false,
     "start_time": "2025-07-30T12:51:57.811507",
     "status": "completed"
    },
    "tags": []
   },
   "outputs": [],
   "source": [
    "y_true = y_true.squeeze()"
   ]
  },
  {
   "cell_type": "code",
   "execution_count": 55,
   "id": "3a58a54a-1e68-46b9-927a-df01f18aebc8",
   "metadata": {
    "execution": {
     "iopub.execute_input": "2025-07-30T12:51:57.900242Z",
     "iopub.status.busy": "2025-07-30T12:51:57.899575Z",
     "iopub.status.idle": "2025-07-30T12:51:58.818751Z",
     "shell.execute_reply": "2025-07-30T12:51:58.817557Z"
    },
    "papermill": {
     "duration": 0.948683,
     "end_time": "2025-07-30T12:51:58.820800",
     "exception": false,
     "start_time": "2025-07-30T12:51:57.872117",
     "status": "completed"
    },
    "tags": []
   },
   "outputs": [],
   "source": [
    "from fairness_multiverse.conformal import evaluate_sets\n",
    "\n",
    "# Evaluate coverage and average set size on test data\n",
    "metrics = evaluate_sets(pred_sets, y_true)"
   ]
  },
  {
   "cell_type": "markdown",
   "id": "2b569c12-9aaa-4c88-98c9-bbcd0cf3ebb8",
   "metadata": {
    "papermill": {
     "duration": 0.025801,
     "end_time": "2025-07-30T12:51:58.873409",
     "exception": false,
     "start_time": "2025-07-30T12:51:58.847608",
     "status": "completed"
    },
    "tags": []
   },
   "source": [
    "# CP Metrics"
   ]
  },
  {
   "cell_type": "code",
   "execution_count": 56,
   "id": "5ce0a5cb-201f-45a0-ade5-94c7f0bd6095",
   "metadata": {
    "execution": {
     "iopub.execute_input": "2025-07-30T12:51:58.930339Z",
     "iopub.status.busy": "2025-07-30T12:51:58.929811Z",
     "iopub.status.idle": "2025-07-30T12:51:58.937806Z",
     "shell.execute_reply": "2025-07-30T12:51:58.936817Z"
    },
    "papermill": {
     "duration": 0.038351,
     "end_time": "2025-07-30T12:51:58.939511",
     "exception": false,
     "start_time": "2025-07-30T12:51:58.901160",
     "status": "completed"
    },
    "tags": []
   },
   "outputs": [
    {
     "data": {
      "text/plain": [
       "{'coverage': 0.9123397614535727, 'avg_size': 1.1251031100211795}"
      ]
     },
     "execution_count": 56,
     "metadata": {},
     "output_type": "execute_result"
    }
   ],
   "source": [
    "metrics"
   ]
  },
  {
   "cell_type": "code",
   "execution_count": 57,
   "id": "9b9a838d-31c9-430b-ae14-12baee460d17",
   "metadata": {
    "execution": {
     "iopub.execute_input": "2025-07-30T12:51:59.011015Z",
     "iopub.status.busy": "2025-07-30T12:51:59.010275Z",
     "iopub.status.idle": "2025-07-30T12:51:59.017418Z",
     "shell.execute_reply": "2025-07-30T12:51:59.015747Z"
    },
    "papermill": {
     "duration": 0.045154,
     "end_time": "2025-07-30T12:51:59.019441",
     "exception": false,
     "start_time": "2025-07-30T12:51:58.974287",
     "status": "completed"
    },
    "tags": []
   },
   "outputs": [],
   "source": [
    "example_universe = universe.copy()\n",
    "universe_training_size = example_universe.get(\"training_size\")\n",
    "universe_scale = example_universe.get(\"scale\")\n",
    "universe_model = example_universe.get(\"model\")\n",
    "universe_exclude_features = example_universe.get(\"exclude_features\")\n",
    "universe_exclude_subgroups = example_universe.get(\"exclude_subgroups\")"
   ]
  },
  {
   "cell_type": "code",
   "execution_count": 58,
   "id": "f4b6a8ac-9dc0-4245-8a91-5b3b5999c4f9",
   "metadata": {
    "execution": {
     "iopub.execute_input": "2025-07-30T12:51:59.078801Z",
     "iopub.status.busy": "2025-07-30T12:51:59.077876Z",
     "iopub.status.idle": "2025-07-30T12:51:59.086371Z",
     "shell.execute_reply": "2025-07-30T12:51:59.085282Z"
    },
    "papermill": {
     "duration": 0.040895,
     "end_time": "2025-07-30T12:51:59.088810",
     "exception": false,
     "start_time": "2025-07-30T12:51:59.047915",
     "status": "completed"
    },
    "tags": []
   },
   "outputs": [],
   "source": [
    "cp_metrics_dict = {\n",
    "    \"universe_id\": [universe_id],\n",
    "    \"universe_training_size\": [universe_training_size],\n",
    "    \"universe_scale\": [universe_scale],\n",
    "    \"universe_model\": [universe_model],\n",
    "    \"universe_exclude_features\": [universe_exclude_features],\n",
    "    \"universe_exclude_subgroups\": [universe_exclude_subgroups],\n",
    "    \"q_hat\": [q_hat],\n",
    "    \"coverage\": [metrics[\"coverage\"]],\n",
    "    \"avg_size\": [metrics[\"avg_size\"]],\n",
    "}"
   ]
  },
  {
   "cell_type": "code",
   "execution_count": 59,
   "id": "908acbb1-0371-4915-85ca-3fa520d2efe2",
   "metadata": {
    "execution": {
     "iopub.execute_input": "2025-07-30T12:51:59.147289Z",
     "iopub.status.busy": "2025-07-30T12:51:59.146693Z",
     "iopub.status.idle": "2025-07-30T12:51:59.153294Z",
     "shell.execute_reply": "2025-07-30T12:51:59.152401Z"
    },
    "papermill": {
     "duration": 0.037254,
     "end_time": "2025-07-30T12:51:59.154869",
     "exception": false,
     "start_time": "2025-07-30T12:51:59.117615",
     "status": "completed"
    },
    "tags": []
   },
   "outputs": [
    {
     "data": {
      "text/plain": [
       "{'universe_id': ['559e3560cba9c70345d30626a247d3fe'],\n",
       " 'universe_training_size': ['25k'],\n",
       " 'universe_scale': ['scale'],\n",
       " 'universe_model': ['elasticnet'],\n",
       " 'universe_exclude_features': ['nationality'],\n",
       " 'universe_exclude_subgroups': ['keep-all'],\n",
       " 'q_hat': [0.6755839079676464],\n",
       " 'coverage': [0.9123397614535727],\n",
       " 'avg_size': [1.1251031100211795]}"
      ]
     },
     "execution_count": 59,
     "metadata": {},
     "output_type": "execute_result"
    }
   ],
   "source": [
    "cp_metrics_dict"
   ]
  },
  {
   "cell_type": "code",
   "execution_count": 60,
   "id": "33007efc-14e9-4ec6-97ac-56a455c82265",
   "metadata": {
    "execution": {
     "iopub.execute_input": "2025-07-30T12:51:59.210469Z",
     "iopub.status.busy": "2025-07-30T12:51:59.209978Z",
     "iopub.status.idle": "2025-07-30T12:51:59.218904Z",
     "shell.execute_reply": "2025-07-30T12:51:59.216962Z"
    },
    "papermill": {
     "duration": 0.050492,
     "end_time": "2025-07-30T12:51:59.220910",
     "exception": false,
     "start_time": "2025-07-30T12:51:59.170418",
     "status": "completed"
    },
    "tags": []
   },
   "outputs": [],
   "source": [
    "cp_metrics_df = pd.DataFrame(cp_metrics_dict)"
   ]
  },
  {
   "cell_type": "code",
   "execution_count": 61,
   "id": "db12611b-57b2-4910-b9d0-355adfd6e7bf",
   "metadata": {
    "execution": {
     "iopub.execute_input": "2025-07-30T12:51:59.276619Z",
     "iopub.status.busy": "2025-07-30T12:51:59.276085Z",
     "iopub.status.idle": "2025-07-30T12:51:59.297149Z",
     "shell.execute_reply": "2025-07-30T12:51:59.296073Z"
    },
    "papermill": {
     "duration": 0.053666,
     "end_time": "2025-07-30T12:51:59.299194",
     "exception": false,
     "start_time": "2025-07-30T12:51:59.245528",
     "status": "completed"
    },
    "tags": []
   },
   "outputs": [
    {
     "data": {
      "text/html": [
       "<div>\n",
       "<style scoped>\n",
       "    .dataframe tbody tr th:only-of-type {\n",
       "        vertical-align: middle;\n",
       "    }\n",
       "\n",
       "    .dataframe tbody tr th {\n",
       "        vertical-align: top;\n",
       "    }\n",
       "\n",
       "    .dataframe thead th {\n",
       "        text-align: right;\n",
       "    }\n",
       "</style>\n",
       "<table border=\"1\" class=\"dataframe\">\n",
       "  <thead>\n",
       "    <tr style=\"text-align: right;\">\n",
       "      <th></th>\n",
       "      <th>universe_id</th>\n",
       "      <th>universe_training_size</th>\n",
       "      <th>universe_scale</th>\n",
       "      <th>universe_model</th>\n",
       "      <th>universe_exclude_features</th>\n",
       "      <th>universe_exclude_subgroups</th>\n",
       "      <th>q_hat</th>\n",
       "      <th>coverage</th>\n",
       "      <th>avg_size</th>\n",
       "    </tr>\n",
       "  </thead>\n",
       "  <tbody>\n",
       "    <tr>\n",
       "      <th>0</th>\n",
       "      <td>559e3560cba9c70345d30626a247d3fe</td>\n",
       "      <td>25k</td>\n",
       "      <td>scale</td>\n",
       "      <td>elasticnet</td>\n",
       "      <td>nationality</td>\n",
       "      <td>keep-all</td>\n",
       "      <td>0.675584</td>\n",
       "      <td>0.91234</td>\n",
       "      <td>1.125103</td>\n",
       "    </tr>\n",
       "  </tbody>\n",
       "</table>\n",
       "</div>"
      ],
      "text/plain": [
       "                        universe_id universe_training_size universe_scale  \\\n",
       "0  559e3560cba9c70345d30626a247d3fe                    25k          scale   \n",
       "\n",
       "  universe_model universe_exclude_features universe_exclude_subgroups  \\\n",
       "0     elasticnet               nationality                   keep-all   \n",
       "\n",
       "      q_hat  coverage  avg_size  \n",
       "0  0.675584   0.91234  1.125103  "
      ]
     },
     "execution_count": 61,
     "metadata": {},
     "output_type": "execute_result"
    }
   ],
   "source": [
    "cp_metrics_df"
   ]
  },
  {
   "cell_type": "code",
   "execution_count": 62,
   "id": "b7fbde55-a0a1-47e4-9af6-fe4a17fa8c61",
   "metadata": {
    "execution": {
     "iopub.execute_input": "2025-07-30T12:51:59.361051Z",
     "iopub.status.busy": "2025-07-30T12:51:59.360539Z",
     "iopub.status.idle": "2025-07-30T12:51:59.366073Z",
     "shell.execute_reply": "2025-07-30T12:51:59.365073Z"
    },
    "papermill": {
     "duration": 0.038246,
     "end_time": "2025-07-30T12:51:59.367949",
     "exception": false,
     "start_time": "2025-07-30T12:51:59.329703",
     "status": "completed"
    },
    "tags": []
   },
   "outputs": [],
   "source": [
    "# Conditional Coverage & looking at subgroups"
   ]
  },
  {
   "cell_type": "code",
   "execution_count": 63,
   "id": "027ae886-68dd-4141-96c7-805a5450e1ef",
   "metadata": {
    "execution": {
     "iopub.execute_input": "2025-07-30T12:51:59.441972Z",
     "iopub.status.busy": "2025-07-30T12:51:59.441422Z",
     "iopub.status.idle": "2025-07-30T12:51:59.764599Z",
     "shell.execute_reply": "2025-07-30T12:51:59.763600Z"
    },
    "papermill": {
     "duration": 0.361398,
     "end_time": "2025-07-30T12:51:59.766571",
     "exception": false,
     "start_time": "2025-07-30T12:51:59.405173",
     "status": "completed"
    },
    "tags": []
   },
   "outputs": [],
   "source": [
    "from fairness_multiverse.conformal import build_cp_groups\n",
    "\n",
    "cp_groups_df = build_cp_groups(pred_sets, y_true, X_test.index, org_test)\n",
    "#needs universe_id and setting"
   ]
  },
  {
   "cell_type": "code",
   "execution_count": 64,
   "id": "01d5802c-663a-4d1f-9d69-e036faaffbf7",
   "metadata": {
    "execution": {
     "iopub.execute_input": "2025-07-30T12:51:59.825522Z",
     "iopub.status.busy": "2025-07-30T12:51:59.824952Z",
     "iopub.status.idle": "2025-07-30T12:51:59.829967Z",
     "shell.execute_reply": "2025-07-30T12:51:59.829033Z"
    },
    "papermill": {
     "duration": 0.035804,
     "end_time": "2025-07-30T12:51:59.831624",
     "exception": false,
     "start_time": "2025-07-30T12:51:59.795820",
     "status": "completed"
    },
    "tags": []
   },
   "outputs": [],
   "source": [
    "#delete\n",
    "#cp_groups_df"
   ]
  },
  {
   "cell_type": "code",
   "execution_count": 65,
   "id": "fa424af1-d1eb-443d-b717-2d279ada8408",
   "metadata": {
    "execution": {
     "iopub.execute_input": "2025-07-30T12:51:59.888175Z",
     "iopub.status.busy": "2025-07-30T12:51:59.887685Z",
     "iopub.status.idle": "2025-07-30T12:51:59.893261Z",
     "shell.execute_reply": "2025-07-30T12:51:59.892222Z"
    },
    "papermill": {
     "duration": 0.034449,
     "end_time": "2025-07-30T12:51:59.895147",
     "exception": false,
     "start_time": "2025-07-30T12:51:59.860698",
     "status": "completed"
    },
    "tags": []
   },
   "outputs": [],
   "source": [
    "#delete\n",
    "#percentage = (cp_groups_df['nongerman_female'] == 1).mean() * 100\n",
    "#print(percentage)\n"
   ]
  },
  {
   "cell_type": "code",
   "execution_count": 66,
   "id": "6cbdab96-b2b2-45af-ad54-d0516db2e28d",
   "metadata": {
    "execution": {
     "iopub.execute_input": "2025-07-30T12:51:59.955121Z",
     "iopub.status.busy": "2025-07-30T12:51:59.954723Z",
     "iopub.status.idle": "2025-07-30T12:52:01.481805Z",
     "shell.execute_reply": "2025-07-30T12:52:01.480850Z"
    },
    "papermill": {
     "duration": 1.5572,
     "end_time": "2025-07-30T12:52:01.483749",
     "exception": false,
     "start_time": "2025-07-30T12:51:59.926549",
     "status": "completed"
    },
    "tags": []
   },
   "outputs": [],
   "source": [
    "# Define covered = 1 if true_label is in the predicted set\n",
    "cp_groups_df['covered'] = cp_groups_df.apply(\n",
    "    lambda r: int(r['true_label'] in r['pred_set']),\n",
    "    axis=1\n",
    ")"
   ]
  },
  {
   "cell_type": "code",
   "execution_count": 67,
   "id": "338ff529-1a6b-4b87-a931-8e4788d52aad",
   "metadata": {
    "execution": {
     "iopub.execute_input": "2025-07-30T12:52:01.542645Z",
     "iopub.status.busy": "2025-07-30T12:52:01.542094Z",
     "iopub.status.idle": "2025-07-30T12:52:01.547817Z",
     "shell.execute_reply": "2025-07-30T12:52:01.546455Z"
    },
    "papermill": {
     "duration": 0.039528,
     "end_time": "2025-07-30T12:52:01.549817",
     "exception": false,
     "start_time": "2025-07-30T12:52:01.510289",
     "status": "completed"
    },
    "tags": []
   },
   "outputs": [],
   "source": [
    "#cp_groups_df"
   ]
  },
  {
   "cell_type": "code",
   "execution_count": 68,
   "id": "90032e27-66df-4540-9169-4e89cfbaa758",
   "metadata": {
    "execution": {
     "iopub.execute_input": "2025-07-30T12:52:01.605586Z",
     "iopub.status.busy": "2025-07-30T12:52:01.604908Z",
     "iopub.status.idle": "2025-07-30T12:52:01.616374Z",
     "shell.execute_reply": "2025-07-30T12:52:01.615396Z"
    },
    "papermill": {
     "duration": 0.040586,
     "end_time": "2025-07-30T12:52:01.618077",
     "exception": false,
     "start_time": "2025-07-30T12:52:01.577491",
     "status": "completed"
    },
    "tags": []
   },
   "outputs": [],
   "source": [
    "subgroups = ['frau1','nongerman','nongerman_male','nongerman_female']\n",
    "\n",
    "# Conditional coverage for subgroup==1\n",
    "cond_coverage = {\n",
    "    g: cp_groups_df.loc[cp_groups_df[g]==1, 'covered'].mean()\n",
    "    for g in subgroups\n",
    "}"
   ]
  },
  {
   "cell_type": "code",
   "execution_count": 69,
   "id": "1e348fb1-b9c3-45bc-ba23-f016827a7e0d",
   "metadata": {
    "execution": {
     "iopub.execute_input": "2025-07-30T12:52:01.671693Z",
     "iopub.status.busy": "2025-07-30T12:52:01.671050Z",
     "iopub.status.idle": "2025-07-30T12:52:01.678567Z",
     "shell.execute_reply": "2025-07-30T12:52:01.677632Z"
    },
    "papermill": {
     "duration": 0.036001,
     "end_time": "2025-07-30T12:52:01.680286",
     "exception": false,
     "start_time": "2025-07-30T12:52:01.644285",
     "status": "completed"
    },
    "tags": []
   },
   "outputs": [
    {
     "data": {
      "text/plain": [
       "{'frau1': 0.9109853079929909,\n",
       " 'nongerman': 0.9123112333688879,\n",
       " 'nongerman_male': 0.9278573358551743,\n",
       " 'nongerman_female': 0.8865871833084947}"
      ]
     },
     "execution_count": 69,
     "metadata": {},
     "output_type": "execute_result"
    }
   ],
   "source": [
    "cond_coverage"
   ]
  },
  {
   "cell_type": "code",
   "execution_count": 70,
   "id": "f5093324-c3dd-4d63-bc4c-8d945e5c8bbb",
   "metadata": {
    "execution": {
     "iopub.execute_input": "2025-07-30T12:52:01.733751Z",
     "iopub.status.busy": "2025-07-30T12:52:01.733292Z",
     "iopub.status.idle": "2025-07-30T12:52:01.740450Z",
     "shell.execute_reply": "2025-07-30T12:52:01.739442Z"
    },
    "papermill": {
     "duration": 0.035517,
     "end_time": "2025-07-30T12:52:01.742137",
     "exception": false,
     "start_time": "2025-07-30T12:52:01.706620",
     "status": "completed"
    },
    "tags": []
   },
   "outputs": [],
   "source": [
    "for subgroup, cov in cond_coverage.items():\n",
    "    cp_metrics_df[f\"cov_{subgroup}\"] = cov"
   ]
  },
  {
   "cell_type": "code",
   "execution_count": 71,
   "id": "6e872e10-dbe5-49e8-b554-5030c98ff75d",
   "metadata": {
    "execution": {
     "iopub.execute_input": "2025-07-30T12:52:01.797471Z",
     "iopub.status.busy": "2025-07-30T12:52:01.796995Z",
     "iopub.status.idle": "2025-07-30T12:52:01.815270Z",
     "shell.execute_reply": "2025-07-30T12:52:01.814292Z"
    },
    "papermill": {
     "duration": 0.047836,
     "end_time": "2025-07-30T12:52:01.817133",
     "exception": false,
     "start_time": "2025-07-30T12:52:01.769297",
     "status": "completed"
    },
    "tags": []
   },
   "outputs": [
    {
     "data": {
      "text/html": [
       "<div>\n",
       "<style scoped>\n",
       "    .dataframe tbody tr th:only-of-type {\n",
       "        vertical-align: middle;\n",
       "    }\n",
       "\n",
       "    .dataframe tbody tr th {\n",
       "        vertical-align: top;\n",
       "    }\n",
       "\n",
       "    .dataframe thead th {\n",
       "        text-align: right;\n",
       "    }\n",
       "</style>\n",
       "<table border=\"1\" class=\"dataframe\">\n",
       "  <thead>\n",
       "    <tr style=\"text-align: right;\">\n",
       "      <th></th>\n",
       "      <th>universe_id</th>\n",
       "      <th>universe_training_size</th>\n",
       "      <th>universe_scale</th>\n",
       "      <th>universe_model</th>\n",
       "      <th>universe_exclude_features</th>\n",
       "      <th>universe_exclude_subgroups</th>\n",
       "      <th>q_hat</th>\n",
       "      <th>coverage</th>\n",
       "      <th>avg_size</th>\n",
       "      <th>cov_frau1</th>\n",
       "      <th>cov_nongerman</th>\n",
       "      <th>cov_nongerman_male</th>\n",
       "      <th>cov_nongerman_female</th>\n",
       "    </tr>\n",
       "  </thead>\n",
       "  <tbody>\n",
       "    <tr>\n",
       "      <th>0</th>\n",
       "      <td>559e3560cba9c70345d30626a247d3fe</td>\n",
       "      <td>25k</td>\n",
       "      <td>scale</td>\n",
       "      <td>elasticnet</td>\n",
       "      <td>nationality</td>\n",
       "      <td>keep-all</td>\n",
       "      <td>0.675584</td>\n",
       "      <td>0.91234</td>\n",
       "      <td>1.125103</td>\n",
       "      <td>0.910985</td>\n",
       "      <td>0.912311</td>\n",
       "      <td>0.927857</td>\n",
       "      <td>0.886587</td>\n",
       "    </tr>\n",
       "  </tbody>\n",
       "</table>\n",
       "</div>"
      ],
      "text/plain": [
       "                        universe_id universe_training_size universe_scale  \\\n",
       "0  559e3560cba9c70345d30626a247d3fe                    25k          scale   \n",
       "\n",
       "  universe_model universe_exclude_features universe_exclude_subgroups  \\\n",
       "0     elasticnet               nationality                   keep-all   \n",
       "\n",
       "      q_hat  coverage  avg_size  cov_frau1  cov_nongerman  cov_nongerman_male  \\\n",
       "0  0.675584   0.91234  1.125103   0.910985       0.912311            0.927857   \n",
       "\n",
       "   cov_nongerman_female  \n",
       "0              0.886587  "
      ]
     },
     "execution_count": 71,
     "metadata": {},
     "output_type": "execute_result"
    }
   ],
   "source": [
    "cp_metrics_df"
   ]
  },
  {
   "cell_type": "markdown",
   "id": "33774451",
   "metadata": {
    "papermill": {
     "duration": 0.026988,
     "end_time": "2025-07-30T12:52:01.872554",
     "exception": false,
     "start_time": "2025-07-30T12:52:01.845566",
     "status": "completed"
    },
    "tags": []
   },
   "source": [
    "# (Fairness) Metrics"
   ]
  },
  {
   "cell_type": "code",
   "execution_count": 72,
   "id": "debc5d62",
   "metadata": {
    "execution": {
     "iopub.execute_input": "2025-07-30T12:52:01.928834Z",
     "iopub.status.busy": "2025-07-30T12:52:01.927929Z",
     "iopub.status.idle": "2025-07-30T12:52:01.949551Z",
     "shell.execute_reply": "2025-07-30T12:52:01.948632Z"
    },
    "papermill": {
     "duration": 0.052194,
     "end_time": "2025-07-30T12:52:01.951443",
     "exception": false,
     "start_time": "2025-07-30T12:52:01.899249",
     "status": "completed"
    },
    "tags": []
   },
   "outputs": [],
   "source": [
    "# do I need to include maxdeutsch1.missing?\n",
    "\n",
    "import numpy as np\n",
    "\n",
    "colname_to_bin = \"maxdeutsch1\"\n",
    "majority_value = org_train[colname_to_bin].mode()[0]\n",
    "\n",
    "org_test[\"majmin\"] = np.where(org_test[colname_to_bin] == majority_value, \"majority\", \"minority\")"
   ]
  },
  {
   "cell_type": "code",
   "execution_count": 73,
   "id": "06a50de5",
   "metadata": {
    "execution": {
     "iopub.execute_input": "2025-07-30T12:52:02.010052Z",
     "iopub.status.busy": "2025-07-30T12:52:02.009507Z",
     "iopub.status.idle": "2025-07-30T12:52:04.874085Z",
     "shell.execute_reply": "2025-07-30T12:52:04.872969Z"
    },
    "papermill": {
     "duration": 2.89543,
     "end_time": "2025-07-30T12:52:04.876372",
     "exception": false,
     "start_time": "2025-07-30T12:52:01.980942",
     "status": "completed"
    },
    "tags": []
   },
   "outputs": [],
   "source": [
    "example_universe = universe.copy()\n",
    "example_universe[\"cutoff\"] = example_universe[\"cutoff\"][0]\n",
    "example_universe[\"eval_fairness_grouping\"] = example_universe[\"eval_fairness_grouping\"][0]\n",
    "fairness_dict, metric_frame = universe_analysis.compute_metrics(\n",
    "    example_universe,\n",
    "    y_pred_prob=probs_test,\n",
    "    y_test=y_true,\n",
    "    org_test=org_test,\n",
    ")"
   ]
  },
  {
   "cell_type": "markdown",
   "id": "f95d4e02",
   "metadata": {
    "papermill": {
     "duration": 0.035556,
     "end_time": "2025-07-30T12:52:04.946473",
     "exception": false,
     "start_time": "2025-07-30T12:52:04.910917",
     "status": "completed"
    },
    "tags": []
   },
   "source": [
    "# Overall"
   ]
  },
  {
   "cell_type": "markdown",
   "id": "bdee4871",
   "metadata": {
    "papermill": {
     "duration": 0.034069,
     "end_time": "2025-07-30T12:52:05.015481",
     "exception": false,
     "start_time": "2025-07-30T12:52:04.981412",
     "status": "completed"
    },
    "tags": []
   },
   "source": [
    "Fairness\n",
    "Main fairness target: Equalized Odds. Seems to be a better fit than equal opportunity, since we're not only interested in Y = 1. Seems to be a better fit than demographic parity, since we also care about accuracy, not just equal distribution of preds.\n",
    "\n",
    "Pick column for computation of fairness metrics\n",
    "\n",
    "Performance\n",
    "Overall performance measures, most interesting in relation to the measures split by group below"
   ]
  },
  {
   "cell_type": "code",
   "execution_count": 74,
   "id": "c4e067c6",
   "metadata": {
    "execution": {
     "iopub.execute_input": "2025-07-30T12:52:05.070561Z",
     "iopub.status.busy": "2025-07-30T12:52:05.069845Z",
     "iopub.status.idle": "2025-07-30T12:52:05.077091Z",
     "shell.execute_reply": "2025-07-30T12:52:05.076296Z"
    },
    "papermill": {
     "duration": 0.029955,
     "end_time": "2025-07-30T12:52:05.078386",
     "exception": false,
     "start_time": "2025-07-30T12:52:05.048431",
     "status": "completed"
    },
    "tags": []
   },
   "outputs": [
    {
     "data": {
      "text/plain": [
       "accuracy                   0.225516\n",
       "balanced accuracy          0.551177\n",
       "f1                         0.246816\n",
       "precision                  0.140998\n",
       "false positive rate        0.886870\n",
       "false negative rate        0.010775\n",
       "selection rate             0.900000\n",
       "count                  89710.000000\n",
       "dtype: float64"
      ]
     },
     "execution_count": 74,
     "metadata": {},
     "output_type": "execute_result"
    }
   ],
   "source": [
    "metric_frame.overall"
   ]
  },
  {
   "cell_type": "markdown",
   "id": "e968fe9d",
   "metadata": {
    "papermill": {
     "duration": 0.013953,
     "end_time": "2025-07-30T12:52:05.109646",
     "exception": false,
     "start_time": "2025-07-30T12:52:05.095693",
     "status": "completed"
    },
    "tags": []
   },
   "source": [
    "By Group"
   ]
  },
  {
   "cell_type": "code",
   "execution_count": 75,
   "id": "ec325bce",
   "metadata": {
    "execution": {
     "iopub.execute_input": "2025-07-30T12:52:05.156732Z",
     "iopub.status.busy": "2025-07-30T12:52:05.155890Z",
     "iopub.status.idle": "2025-07-30T12:52:05.179735Z",
     "shell.execute_reply": "2025-07-30T12:52:05.178643Z"
    },
    "papermill": {
     "duration": 0.061296,
     "end_time": "2025-07-30T12:52:05.184945",
     "exception": false,
     "start_time": "2025-07-30T12:52:05.123649",
     "status": "completed"
    },
    "tags": []
   },
   "outputs": [
    {
     "data": {
      "text/html": [
       "<div>\n",
       "<style scoped>\n",
       "    .dataframe tbody tr th:only-of-type {\n",
       "        vertical-align: middle;\n",
       "    }\n",
       "\n",
       "    .dataframe tbody tr th {\n",
       "        vertical-align: top;\n",
       "    }\n",
       "\n",
       "    .dataframe thead th {\n",
       "        text-align: right;\n",
       "    }\n",
       "</style>\n",
       "<table border=\"1\" class=\"dataframe\">\n",
       "  <thead>\n",
       "    <tr style=\"text-align: right;\">\n",
       "      <th></th>\n",
       "      <th>accuracy</th>\n",
       "      <th>balanced accuracy</th>\n",
       "      <th>f1</th>\n",
       "      <th>precision</th>\n",
       "      <th>false positive rate</th>\n",
       "      <th>false negative rate</th>\n",
       "      <th>selection rate</th>\n",
       "      <th>count</th>\n",
       "    </tr>\n",
       "    <tr>\n",
       "      <th>majmin</th>\n",
       "      <th></th>\n",
       "      <th></th>\n",
       "      <th></th>\n",
       "      <th></th>\n",
       "      <th></th>\n",
       "      <th></th>\n",
       "      <th></th>\n",
       "      <th></th>\n",
       "    </tr>\n",
       "  </thead>\n",
       "  <tbody>\n",
       "    <tr>\n",
       "      <th>majority</th>\n",
       "      <td>0.247231</td>\n",
       "      <td>0.561207</td>\n",
       "      <td>0.257525</td>\n",
       "      <td>0.148059</td>\n",
       "      <td>0.865551</td>\n",
       "      <td>0.012035</td>\n",
       "      <td>0.881726</td>\n",
       "      <td>69170.0</td>\n",
       "    </tr>\n",
       "    <tr>\n",
       "      <th>minority</th>\n",
       "      <td>0.152386</td>\n",
       "      <td>0.518395</td>\n",
       "      <td>0.212858</td>\n",
       "      <td>0.119190</td>\n",
       "      <td>0.957297</td>\n",
       "      <td>0.005912</td>\n",
       "      <td>0.961538</td>\n",
       "      <td>20540.0</td>\n",
       "    </tr>\n",
       "  </tbody>\n",
       "</table>\n",
       "</div>"
      ],
      "text/plain": [
       "          accuracy  balanced accuracy        f1  precision  \\\n",
       "majmin                                                       \n",
       "majority  0.247231           0.561207  0.257525   0.148059   \n",
       "minority  0.152386           0.518395  0.212858   0.119190   \n",
       "\n",
       "          false positive rate  false negative rate  selection rate    count  \n",
       "majmin                                                                       \n",
       "majority             0.865551             0.012035        0.881726  69170.0  \n",
       "minority             0.957297             0.005912        0.961538  20540.0  "
      ]
     },
     "execution_count": 75,
     "metadata": {},
     "output_type": "execute_result"
    }
   ],
   "source": [
    "metric_frame.by_group"
   ]
  },
  {
   "cell_type": "code",
   "execution_count": 76,
   "id": "a9ddbe63",
   "metadata": {
    "execution": {
     "iopub.execute_input": "2025-07-30T12:52:05.215768Z",
     "iopub.status.busy": "2025-07-30T12:52:05.215441Z",
     "iopub.status.idle": "2025-07-30T12:52:07.337768Z",
     "shell.execute_reply": "2025-07-30T12:52:07.336892Z"
    },
    "papermill": {
     "duration": 2.138584,
     "end_time": "2025-07-30T12:52:07.339259",
     "exception": false,
     "start_time": "2025-07-30T12:52:05.200675",
     "status": "completed"
    },
    "tags": []
   },
   "outputs": [
    {
     "data": {
      "text/plain": [
       "array([[<Axes: title={'center': 'accuracy'}, xlabel='majmin'>,\n",
       "        <Axes: title={'center': 'balanced accuracy'}, xlabel='majmin'>,\n",
       "        <Axes: title={'center': 'f1'}, xlabel='majmin'>],\n",
       "       [<Axes: title={'center': 'precision'}, xlabel='majmin'>,\n",
       "        <Axes: title={'center': 'false positive rate'}, xlabel='majmin'>,\n",
       "        <Axes: title={'center': 'false negative rate'}, xlabel='majmin'>],\n",
       "       [<Axes: title={'center': 'selection rate'}, xlabel='majmin'>,\n",
       "        <Axes: title={'center': 'count'}, xlabel='majmin'>,\n",
       "        <Axes: xlabel='majmin'>]], dtype=object)"
      ]
     },
     "execution_count": 76,
     "metadata": {},
     "output_type": "execute_result"
    },
    {
     "data": {
      "image/png": "[encoded data removed]",
      "text/plain": [
       "<Figure size 1200x800 with 9 Axes>"
      ]
     },
     "metadata": {},
     "output_type": "display_data"
    }
   ],
   "source": [
    "# In a graphic\n",
    "metric_frame.by_group.plot.bar(\n",
    "    subplots=True,\n",
    "    layout=[3, 3],\n",
    "    legend=False,\n",
    "    figsize=[12, 8],\n",
    "    title=\"Show all metrics\",\n",
    ")"
   ]
  },
  {
   "cell_type": "markdown",
   "id": "f57a0bac",
   "metadata": {
    "papermill": {
     "duration": 0.026801,
     "end_time": "2025-07-30T12:52:07.395576",
     "exception": false,
     "start_time": "2025-07-30T12:52:07.368775",
     "status": "completed"
    },
    "tags": []
   },
   "source": [
    "# Final Output"
   ]
  },
  {
   "cell_type": "code",
   "execution_count": 77,
   "id": "96d280a3",
   "metadata": {
    "execution": {
     "iopub.execute_input": "2025-07-30T12:52:07.450286Z",
     "iopub.status.busy": "2025-07-30T12:52:07.449653Z",
     "iopub.status.idle": "2025-07-30T12:52:07.457412Z",
     "shell.execute_reply": "2025-07-30T12:52:07.456495Z"
    },
    "papermill": {
     "duration": 0.036912,
     "end_time": "2025-07-30T12:52:07.458818",
     "exception": false,
     "start_time": "2025-07-30T12:52:07.421906",
     "status": "completed"
    },
    "tags": []
   },
   "outputs": [
    {
     "data": {
      "text/plain": [
       "4"
      ]
     },
     "execution_count": 77,
     "metadata": {},
     "output_type": "execute_result"
    }
   ],
   "source": [
    "sub_universes = universe_analysis.generate_sub_universes()\n",
    "len(sub_universes)"
   ]
  },
  {
   "cell_type": "code",
   "execution_count": 78,
   "id": "92adf7ba",
   "metadata": {
    "execution": {
     "iopub.execute_input": "2025-07-30T12:52:07.515387Z",
     "iopub.status.busy": "2025-07-30T12:52:07.514577Z",
     "iopub.status.idle": "2025-07-30T12:52:07.520520Z",
     "shell.execute_reply": "2025-07-30T12:52:07.519678Z"
    },
    "papermill": {
     "duration": 0.036068,
     "end_time": "2025-07-30T12:52:07.522108",
     "exception": false,
     "start_time": "2025-07-30T12:52:07.486040",
     "status": "completed"
    },
    "tags": []
   },
   "outputs": [],
   "source": [
    "def filter_sub_universe_data(sub_universe, org_test):\n",
    "    # Keep all rows — no filtering\n",
    "    keep_rows_mask = np.ones(org_test.shape[0], dtype=bool)\n",
    "\n",
    "    print(f\"[INFO] Keeping all rows: {keep_rows_mask.sum()} rows retained.\")\n",
    "    return keep_rows_mask"
   ]
  },
  {
   "cell_type": "code",
   "execution_count": 79,
   "id": "4a759155",
   "metadata": {
    "execution": {
     "iopub.execute_input": "2025-07-30T12:52:07.579307Z",
     "iopub.status.busy": "2025-07-30T12:52:07.578640Z",
     "iopub.status.idle": "2025-07-30T12:52:18.656674Z",
     "shell.execute_reply": "2025-07-30T12:52:18.655809Z"
    },
    "papermill": {
     "duration": 11.107834,
     "end_time": "2025-07-30T12:52:18.658233",
     "exception": false,
     "start_time": "2025-07-30T12:52:07.550399",
     "status": "completed"
    },
    "tags": []
   },
   "outputs": [
    {
     "name": "stdout",
     "output_type": "stream",
     "text": [
      "Stopping execution_time clock.\n",
      "[INFO] Keeping all rows: 89710 rows retained.\n"
     ]
    },
    {
     "name": "stdout",
     "output_type": "stream",
     "text": [
      "[INFO] Keeping all rows: 89710 rows retained.\n"
     ]
    },
    {
     "name": "stdout",
     "output_type": "stream",
     "text": [
      "[INFO] Keeping all rows: 89710 rows retained.\n"
     ]
    },
    {
     "name": "stdout",
     "output_type": "stream",
     "text": [
      "[INFO] Keeping all rows: 89710 rows retained.\n"
     ]
    },
    {
     "data": {
      "text/html": [
       "<div>\n",
       "<style scoped>\n",
       "    .dataframe tbody tr th:only-of-type {\n",
       "        vertical-align: middle;\n",
       "    }\n",
       "\n",
       "    .dataframe tbody tr th {\n",
       "        vertical-align: top;\n",
       "    }\n",
       "\n",
       "    .dataframe thead th {\n",
       "        text-align: right;\n",
       "    }\n",
       "</style>\n",
       "<table border=\"1\" class=\"dataframe\">\n",
       "  <thead>\n",
       "    <tr style=\"text-align: right;\">\n",
       "      <th></th>\n",
       "      <th>run_no</th>\n",
       "      <th>universe_id</th>\n",
       "      <th>universe_settings</th>\n",
       "      <th>execution_time</th>\n",
       "      <th>test_size_n</th>\n",
       "      <th>test_size_frac</th>\n",
       "      <th>fair_main_equalized_odds_difference</th>\n",
       "      <th>fair_main_equalized_odds_ratio</th>\n",
       "      <th>fair_main_demographic_parity_difference</th>\n",
       "      <th>fair_main_demographic_parity_ratio</th>\n",
       "      <th>...</th>\n",
       "      <th>perf_grp_precision_0</th>\n",
       "      <th>perf_grp_precision_1</th>\n",
       "      <th>perf_grp_false positive rate_0</th>\n",
       "      <th>perf_grp_false positive rate_1</th>\n",
       "      <th>perf_grp_false negative rate_0</th>\n",
       "      <th>perf_grp_false negative rate_1</th>\n",
       "      <th>perf_grp_selection rate_0</th>\n",
       "      <th>perf_grp_selection rate_1</th>\n",
       "      <th>perf_grp_count_0</th>\n",
       "      <th>perf_grp_count_1</th>\n",
       "    </tr>\n",
       "  </thead>\n",
       "  <tbody>\n",
       "    <tr>\n",
       "      <th>0</th>\n",
       "      <td>12</td>\n",
       "      <td>559e3560cba9c70345d30626a247d3fe</td>\n",
       "      <td>{\"cutoff\": \"quantile_0.1\", \"eval_fairness_grou...</td>\n",
       "      <td>55.397408</td>\n",
       "      <td>89710</td>\n",
       "      <td>1.0</td>\n",
       "      <td>0.091746</td>\n",
       "      <td>0.904161</td>\n",
       "      <td>0.079812</td>\n",
       "      <td>0.916995</td>\n",
       "      <td>...</td>\n",
       "      <td>NaN</td>\n",
       "      <td>NaN</td>\n",
       "      <td>NaN</td>\n",
       "      <td>NaN</td>\n",
       "      <td>NaN</td>\n",
       "      <td>NaN</td>\n",
       "      <td>NaN</td>\n",
       "      <td>NaN</td>\n",
       "      <td>NaN</td>\n",
       "      <td>NaN</td>\n",
       "    </tr>\n",
       "    <tr>\n",
       "      <th>0</th>\n",
       "      <td>12</td>\n",
       "      <td>559e3560cba9c70345d30626a247d3fe</td>\n",
       "      <td>{\"cutoff\": \"quantile_0.1\", \"eval_fairness_grou...</td>\n",
       "      <td>55.397408</td>\n",
       "      <td>89710</td>\n",
       "      <td>1.0</td>\n",
       "      <td>0.091746</td>\n",
       "      <td>0.904161</td>\n",
       "      <td>0.079812</td>\n",
       "      <td>0.916995</td>\n",
       "      <td>...</td>\n",
       "      <td>0.119190</td>\n",
       "      <td>0.148059</td>\n",
       "      <td>0.957297</td>\n",
       "      <td>0.865551</td>\n",
       "      <td>0.005912</td>\n",
       "      <td>0.012035</td>\n",
       "      <td>0.961538</td>\n",
       "      <td>0.881726</td>\n",
       "      <td>20540.0</td>\n",
       "      <td>69170.0</td>\n",
       "    </tr>\n",
       "    <tr>\n",
       "      <th>0</th>\n",
       "      <td>12</td>\n",
       "      <td>559e3560cba9c70345d30626a247d3fe</td>\n",
       "      <td>{\"cutoff\": \"quantile_0.25\", \"eval_fairness_gro...</td>\n",
       "      <td>55.397408</td>\n",
       "      <td>89710</td>\n",
       "      <td>1.0</td>\n",
       "      <td>0.171539</td>\n",
       "      <td>0.798644</td>\n",
       "      <td>0.149087</td>\n",
       "      <td>0.827634</td>\n",
       "      <td>...</td>\n",
       "      <td>NaN</td>\n",
       "      <td>NaN</td>\n",
       "      <td>NaN</td>\n",
       "      <td>NaN</td>\n",
       "      <td>NaN</td>\n",
       "      <td>NaN</td>\n",
       "      <td>NaN</td>\n",
       "      <td>NaN</td>\n",
       "      <td>NaN</td>\n",
       "      <td>NaN</td>\n",
       "    </tr>\n",
       "    <tr>\n",
       "      <th>0</th>\n",
       "      <td>12</td>\n",
       "      <td>559e3560cba9c70345d30626a247d3fe</td>\n",
       "      <td>{\"cutoff\": \"quantile_0.25\", \"eval_fairness_gro...</td>\n",
       "      <td>55.397408</td>\n",
       "      <td>89710</td>\n",
       "      <td>1.0</td>\n",
       "      <td>0.171539</td>\n",
       "      <td>0.798644</td>\n",
       "      <td>0.149087</td>\n",
       "      <td>0.827634</td>\n",
       "      <td>...</td>\n",
       "      <td>0.128616</td>\n",
       "      <td>0.175156</td>\n",
       "      <td>0.851915</td>\n",
       "      <td>0.680376</td>\n",
       "      <td>0.035051</td>\n",
       "      <td>0.051094</td>\n",
       "      <td>0.864946</td>\n",
       "      <td>0.715859</td>\n",
       "      <td>20540.0</td>\n",
       "      <td>69170.0</td>\n",
       "    </tr>\n",
       "  </tbody>\n",
       "</table>\n",
       "<p>4 rows × 50 columns</p>\n",
       "</div>"
      ],
      "text/plain": [
       "  run_no                       universe_id  \\\n",
       "0     12  559e3560cba9c70345d30626a247d3fe   \n",
       "0     12  559e3560cba9c70345d30626a247d3fe   \n",
       "0     12  559e3560cba9c70345d30626a247d3fe   \n",
       "0     12  559e3560cba9c70345d30626a247d3fe   \n",
       "\n",
       "                                   universe_settings  execution_time  \\\n",
       "0  {\"cutoff\": \"quantile_0.1\", \"eval_fairness_grou...       55.397408   \n",
       "0  {\"cutoff\": \"quantile_0.1\", \"eval_fairness_grou...       55.397408   \n",
       "0  {\"cutoff\": \"quantile_0.25\", \"eval_fairness_gro...       55.397408   \n",
       "0  {\"cutoff\": \"quantile_0.25\", \"eval_fairness_gro...       55.397408   \n",
       "\n",
       "   test_size_n  test_size_frac  fair_main_equalized_odds_difference  \\\n",
       "0        89710             1.0                             0.091746   \n",
       "0        89710             1.0                             0.091746   \n",
       "0        89710             1.0                             0.171539   \n",
       "0        89710             1.0                             0.171539   \n",
       "\n",
       "   fair_main_equalized_odds_ratio  fair_main_demographic_parity_difference  \\\n",
       "0                        0.904161                                 0.079812   \n",
       "0                        0.904161                                 0.079812   \n",
       "0                        0.798644                                 0.149087   \n",
       "0                        0.798644                                 0.149087   \n",
       "\n",
       "   fair_main_demographic_parity_ratio  ...  perf_grp_precision_0  \\\n",
       "0                            0.916995  ...                   NaN   \n",
       "0                            0.916995  ...              0.119190   \n",
       "0                            0.827634  ...                   NaN   \n",
       "0                            0.827634  ...              0.128616   \n",
       "\n",
       "   perf_grp_precision_1  perf_grp_false positive rate_0  \\\n",
       "0                   NaN                             NaN   \n",
       "0              0.148059                        0.957297   \n",
       "0                   NaN                             NaN   \n",
       "0              0.175156                        0.851915   \n",
       "\n",
       "   perf_grp_false positive rate_1  perf_grp_false negative rate_0  \\\n",
       "0                             NaN                             NaN   \n",
       "0                        0.865551                        0.005912   \n",
       "0                             NaN                             NaN   \n",
       "0                        0.680376                        0.035051   \n",
       "\n",
       "   perf_grp_false negative rate_1  perf_grp_selection rate_0  \\\n",
       "0                             NaN                        NaN   \n",
       "0                        0.012035                   0.961538   \n",
       "0                             NaN                        NaN   \n",
       "0                        0.051094                   0.864946   \n",
       "\n",
       "   perf_grp_selection rate_1  perf_grp_count_0  perf_grp_count_1  \n",
       "0                        NaN               NaN               NaN  \n",
       "0                   0.881726           20540.0           69170.0  \n",
       "0                        NaN               NaN               NaN  \n",
       "0                   0.715859           20540.0           69170.0  \n",
       "\n",
       "[4 rows x 50 columns]"
      ]
     },
     "execution_count": 79,
     "metadata": {},
     "output_type": "execute_result"
    }
   ],
   "source": [
    "final_output = universe_analysis.generate_final_output(\n",
    "    y_pred_prob=probs_test,\n",
    "    y_test=y_true,\n",
    "    org_test=org_test,\n",
    "    filter_data=filter_sub_universe_data,\n",
    "    cp_metrics_df=cp_metrics_df,\n",
    "    save=True,\n",
    ")\n",
    "final_output"
   ]
  },
  {
   "cell_type": "code",
   "execution_count": null,
   "id": "721ff514-cb11-46f8-b6fc-50392f74b5cb",
   "metadata": {
    "papermill": {
     "duration": 0.029727,
     "end_time": "2025-07-30T12:52:18.720173",
     "exception": false,
     "start_time": "2025-07-30T12:52:18.690446",
     "status": "completed"
    },
    "tags": []
   },
   "outputs": [],
   "source": []
  }
 ],
 "metadata": {
  "celltoolbar": "Tags",
  "kernelspec": {
   "display_name": "Python (CMA Fairness)",
   "language": "python",
   "name": "cma_fair_env"
  },
  "language_info": {
   "codemirror_mode": {
    "name": "ipython",
    "version": 3
   },
   "file_extension": ".py",
   "mimetype": "text/x-python",
   "name": "python",
   "nbconvert_exporter": "python",
   "pygments_lexer": "ipython3",
   "version": "3.10.12"
  },
  "papermill": {
   "default_parameters": {},
   "duration": 70.432327,
   "end_time": "2025-07-30T12:52:19.469099",
   "environment_variables": {},
   "exception": null,
   "input_path": "universe_analysis.ipynb",
   "output_path": "output/runs/12/notebooks/m_12-559e3560cba9c70345d30626a247d3fe.ipynb",
   "parameters": {
    "output_dir": "output",
    "run_no": "12",
    "seed": "2023",
    "universe": "{\"cutoff\": [\"quantile_0.1\", \"quantile_0.25\"], \"eval_fairness_grouping\": [\"majority-minority\", \"nationality-all\"], \"exclude_features\": \"nationality\", \"exclude_subgroups\": \"keep-all\", \"model\": \"elasticnet\", \"scale\": \"scale\", \"training_size\": \"25k\", \"training_year\": \"2014\"}",
    "universe_id": "559e3560cba9c70345d30626a247d3fe"
   },
   "start_time": "2025-07-30T12:51:09.036772",
   "version": "2.6.0"
  }
 },
 "nbformat": 4,
 "nbformat_minor": 5
}