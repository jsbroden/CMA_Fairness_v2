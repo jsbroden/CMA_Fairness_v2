{
 "cells": [
  {
   "cell_type": "code",
   "execution_count": 1,
   "id": "f159f837-637b-42ba-96b5-ec9a68c44524",
   "metadata": {
    "execution": {
     "iopub.execute_input": "2025-07-30T13:55:54.854313Z",
     "iopub.status.busy": "2025-07-30T13:55:54.853896Z",
     "iopub.status.idle": "2025-07-30T13:55:54.874622Z",
     "shell.execute_reply": "2025-07-30T13:55:54.873519Z"
    },
    "papermill": {
     "duration": 0.076359,
     "end_time": "2025-07-30T13:55:54.898743",
     "exception": false,
     "start_time": "2025-07-30T13:55:54.822384",
     "status": "completed"
    },
    "tags": []
   },
   "outputs": [
    {
     "name": "stdout",
     "output_type": "stream",
     "text": [
      "/dss/dsshome1/0C/ra93lal2/cma/CMA_Fairness_v2\n"
     ]
    },
    {
     "name": "stderr",
     "output_type": "stream",
     "text": [
      "/dss/dsshome1/0C/ra93lal2/.local/share/virtualenvs/CMA_Fairness_v2-3j10GkSs/lib/python3.10/site-packages/IPython/core/magics/osm.py:393: UserWarning: This is now an optional IPython functionality, using bookmarks requires you to install the `pickleshare` library.\n",
      "  bkms = self.shell.db.get('bookmarks', {})\n",
      "/dss/dsshome1/0C/ra93lal2/.local/share/virtualenvs/CMA_Fairness_v2-3j10GkSs/lib/python3.10/site-packages/IPython/core/magics/osm.py:417: UserWarning: This is now an optional IPython functionality, setting dhist requires you to install the `pickleshare` library.\n",
      "  self.shell.db['dhist'] = compress_dhist(dhist)[-100:]\n"
     ]
    }
   ],
   "source": [
    "%cd ~/cma/CMA_Fairness_v2"
   ]
  },
  {
   "cell_type": "markdown",
   "id": "de2603b9",
   "metadata": {
    "papermill": {
     "duration": 0.0438,
     "end_time": "2025-07-30T13:55:54.976122",
     "exception": false,
     "start_time": "2025-07-30T13:55:54.932322",
     "status": "completed"
    },
    "tags": []
   },
   "source": [
    "The following cell holds the definition of our parameters, these values can be overriden by rendering the with e.g. the following command:\n",
    "\n",
    "papermill -p alpha 0.2 -p ratio 0.3 universe_analysis.ipynb output/test_run.ipynb"
   ]
  },
  {
   "cell_type": "code",
   "execution_count": 2,
   "id": "a80968a0-40bb-4fa9-85ef-2d5eefb01975",
   "metadata": {
    "execution": {
     "iopub.execute_input": "2025-07-30T13:55:55.027980Z",
     "iopub.status.busy": "2025-07-30T13:55:55.027562Z",
     "iopub.status.idle": "2025-07-30T13:55:55.033516Z",
     "shell.execute_reply": "2025-07-30T13:55:55.032425Z"
    },
    "papermill": {
     "duration": 0.034221,
     "end_time": "2025-07-30T13:55:55.038020",
     "exception": false,
     "start_time": "2025-07-30T13:55:55.003799",
     "status": "completed"
    },
    "tags": []
   },
   "outputs": [
    {
     "name": "stdout",
     "output_type": "stream",
     "text": [
      "Current working directory: /dss/dsshome1/0C/ra93lal2/cma/CMA_Fairness_v2\n"
     ]
    }
   ],
   "source": [
    "import os\n",
    "print(\"Current working directory:\", os.getcwd())"
   ]
  },
  {
   "cell_type": "code",
   "execution_count": 3,
   "id": "2dce4c03",
   "metadata": {
    "execution": {
     "iopub.execute_input": "2025-07-30T13:55:55.084070Z",
     "iopub.status.busy": "2025-07-30T13:55:55.083579Z",
     "iopub.status.idle": "2025-07-30T13:55:55.090178Z",
     "shell.execute_reply": "2025-07-30T13:55:55.089061Z"
    },
    "papermill": {
     "duration": 0.031156,
     "end_time": "2025-07-30T13:55:55.091942",
     "exception": false,
     "start_time": "2025-07-30T13:55:55.060786",
     "status": "completed"
    },
    "tags": [
     "parameters"
    ]
   },
   "outputs": [],
   "source": [
    "run_no = 0\n",
    "universe_id = \"test\"\n",
    "universe = {\n",
    "    \"training_size\": \"25k\", # \"25k\", \"5k\", \"1k\"\n",
    "    \"training_year\": \"2014\", # \"2014\", \"2012_14\", \"2010_14\"\n",
    "    \"scale\": \"scale\", # \"scale\", \"do-not-scale\",\n",
    "    #\"stratify_split\": \"target\", # \"none\", \"target\", \"protected-attribute\", \"both\",\n",
    "    \"model\": \"elasticnet\", # \"logreg\", \"penalized_logreg\", \"rf\", \"gbm\", \"elasticnet\"\n",
    "    \"cutoff\": [\"quantile_0.15\", \"quantile_0.30\"],\n",
    "    \"exclude_features\": \"age\", # \"none\", \"nationality\", \"sex\", \"nationality-sex\", \"age\"\n",
    "    \"exclude_subgroups\": \"keep-all\", # \"keep-all\", \"drop-non-german\"\n",
    "    \"eval_fairness_grouping\": [\"majority-minority\", \"nationality-all\"]\n",
    "}\n",
    "\n",
    "output_dir=\"./output\"\n",
    "seed=0"
   ]
  },
  {
   "cell_type": "code",
   "execution_count": 4,
   "id": "2805a57d",
   "metadata": {
    "execution": {
     "iopub.execute_input": "2025-07-30T13:55:55.134655Z",
     "iopub.status.busy": "2025-07-30T13:55:55.133947Z",
     "iopub.status.idle": "2025-07-30T13:55:55.139290Z",
     "shell.execute_reply": "2025-07-30T13:55:55.138290Z"
    },
    "papermill": {
     "duration": 0.027171,
     "end_time": "2025-07-30T13:55:55.141208",
     "exception": false,
     "start_time": "2025-07-30T13:55:55.114037",
     "status": "completed"
    },
    "tags": [
     "injected-parameters"
    ]
   },
   "outputs": [],
   "source": [
    "# Parameters\n",
    "universe_id = \"75290d4162c67e6da61143cffb5cee39\"\n",
    "run_no = \"12\"\n",
    "universe = \"{\\\"cutoff\\\": [\\\"quantile_0.1\\\", \\\"quantile_0.25\\\"], \\\"eval_fairness_grouping\\\": [\\\"majority-minority\\\", \\\"nationality-all\\\"], \\\"exclude_features\\\": \\\"nationality\\\", \\\"exclude_subgroups\\\": \\\"keep-all\\\", \\\"model\\\": \\\"rf\\\", \\\"scale\\\": \\\"scale\\\", \\\"training_size\\\": \\\"5k\\\", \\\"training_year\\\": \\\"2012_14\\\"}\"\n",
    "output_dir = \"output\"\n",
    "seed = \"2023\"\n"
   ]
  },
  {
   "cell_type": "code",
   "execution_count": 5,
   "id": "1650acaf",
   "metadata": {
    "execution": {
     "iopub.execute_input": "2025-07-30T13:55:55.183950Z",
     "iopub.status.busy": "2025-07-30T13:55:55.183271Z",
     "iopub.status.idle": "2025-07-30T13:55:55.188694Z",
     "shell.execute_reply": "2025-07-30T13:55:55.187573Z"
    },
    "papermill": {
     "duration": 0.028124,
     "end_time": "2025-07-30T13:55:55.190404",
     "exception": false,
     "start_time": "2025-07-30T13:55:55.162280",
     "status": "completed"
    },
    "tags": []
   },
   "outputs": [],
   "source": [
    "import json\n",
    "# Parse universe into dict if it is passed as a string\n",
    "if isinstance(universe, str):\n",
    "    universe = json.loads(universe)"
   ]
  },
  {
   "cell_type": "code",
   "execution_count": 6,
   "id": "16620c48",
   "metadata": {
    "execution": {
     "iopub.execute_input": "2025-07-30T13:55:55.229352Z",
     "iopub.status.busy": "2025-07-30T13:55:55.228948Z",
     "iopub.status.idle": "2025-07-30T13:55:55.274985Z",
     "shell.execute_reply": "2025-07-30T13:55:55.274121Z"
    },
    "papermill": {
     "duration": 0.067716,
     "end_time": "2025-07-30T13:55:55.277264",
     "exception": false,
     "start_time": "2025-07-30T13:55:55.209548",
     "status": "completed"
    },
    "tags": []
   },
   "outputs": [],
   "source": [
    "# Auto-reload the custom package\n",
    "%load_ext autoreload\n",
    "%autoreload 1\n",
    "%aimport fairness_multiverse"
   ]
  },
  {
   "cell_type": "code",
   "execution_count": 7,
   "id": "01c5c9f3",
   "metadata": {
    "execution": {
     "iopub.execute_input": "2025-07-30T13:55:55.318298Z",
     "iopub.status.busy": "2025-07-30T13:55:55.317614Z",
     "iopub.status.idle": "2025-07-30T13:55:57.606141Z",
     "shell.execute_reply": "2025-07-30T13:55:57.605090Z"
    },
    "papermill": {
     "duration": 2.311372,
     "end_time": "2025-07-30T13:55:57.608072",
     "exception": false,
     "start_time": "2025-07-30T13:55:55.296700",
     "status": "completed"
    },
    "tags": []
   },
   "outputs": [],
   "source": [
    "from fairness_multiverse.universe import UniverseAnalysis\n",
    "\n",
    "universe_analysis = UniverseAnalysis(\n",
    "    run_no = run_no,\n",
    "    universe_id = universe_id,\n",
    "    universe = universe,\n",
    "    output_dir=output_dir,\n",
    ")"
   ]
  },
  {
   "cell_type": "code",
   "execution_count": 8,
   "id": "106241f5",
   "metadata": {
    "execution": {
     "iopub.execute_input": "2025-07-30T13:55:57.654586Z",
     "iopub.status.busy": "2025-07-30T13:55:57.653663Z",
     "iopub.status.idle": "2025-07-30T13:55:57.660414Z",
     "shell.execute_reply": "2025-07-30T13:55:57.659391Z"
    },
    "papermill": {
     "duration": 0.031072,
     "end_time": "2025-07-30T13:55:57.662132",
     "exception": false,
     "start_time": "2025-07-30T13:55:57.631060",
     "status": "completed"
    },
    "tags": []
   },
   "outputs": [
    {
     "name": "stdout",
     "output_type": "stream",
     "text": [
      "Using Seed: 2023\n"
     ]
    }
   ],
   "source": [
    "import numpy as np\n",
    "parsed_seed = int(seed)\n",
    "np.random.seed(parsed_seed)\n",
    "print(f\"Using Seed: {parsed_seed}\")"
   ]
  },
  {
   "cell_type": "markdown",
   "id": "e0ebdc57",
   "metadata": {
    "papermill": {
     "duration": 0.021111,
     "end_time": "2025-07-30T13:55:57.705058",
     "exception": false,
     "start_time": "2025-07-30T13:55:57.683947",
     "status": "completed"
    },
    "tags": []
   },
   "source": [
    "# Loading Data"
   ]
  },
  {
   "cell_type": "markdown",
   "id": "681925a3",
   "metadata": {
    "papermill": {
     "duration": 0.020949,
     "end_time": "2025-07-30T13:55:57.747254",
     "exception": false,
     "start_time": "2025-07-30T13:55:57.726305",
     "status": "completed"
    },
    "tags": []
   },
   "source": [
    "Load siab_train, siab_test, siab_calib and/or \n",
    "load siab_train_features, siab_train_labels"
   ]
  },
  {
   "cell_type": "code",
   "execution_count": 9,
   "id": "f0496b8a",
   "metadata": {
    "execution": {
     "iopub.execute_input": "2025-07-30T13:55:57.794259Z",
     "iopub.status.busy": "2025-07-30T13:55:57.793408Z",
     "iopub.status.idle": "2025-07-30T13:56:09.812579Z",
     "shell.execute_reply": "2025-07-30T13:56:09.811206Z"
    },
    "papermill": {
     "duration": 12.044687,
     "end_time": "2025-07-30T13:56:09.814243",
     "exception": false,
     "start_time": "2025-07-30T13:55:57.769556",
     "status": "completed"
    },
    "tags": []
   },
   "outputs": [
    {
     "name": "stdout",
     "output_type": "stream",
     "text": [
      "Loading SIAB data from cache: data/siab_cached.csv.gz\n"
     ]
    },
    {
     "name": "stdout",
     "output_type": "stream",
     "text": [
      "(643690, 164)\n"
     ]
    }
   ],
   "source": [
    "from pathlib import Path\n",
    "import pandas as pd\n",
    "\n",
    "# File paths\n",
    "raw_file = Path(\"data/raw/siab.csv\")\n",
    "cache_file = Path(\"data/siab_cached.csv.gz\")\n",
    "\n",
    "# Ensure cache directory exists\n",
    "cache_file.parent.mkdir(parents=True, exist_ok=True)\n",
    "\n",
    "# Load with simple caching\n",
    "if cache_file.exists():\n",
    "    print(f\"Loading SIAB data from cache: {cache_file}\")\n",
    "    siab = pd.read_csv(cache_file, compression='gzip')\n",
    "else:\n",
    "    print(f\"Cache not found. Reading raw SIAB data: {raw_file}\")\n",
    "    siab = pd.read_csv(raw_file)\n",
    "    siab.to_csv(cache_file, index=False, compression='gzip')\n",
    "    print(f\"Cached SIAB data to: {cache_file}\")\n",
    "\n",
    "# Now use `siab` DataFrame as needed\n",
    "print(siab.shape)"
   ]
  },
  {
   "cell_type": "code",
   "execution_count": 10,
   "id": "db0ca512-5f53-4dba-abdb-a2888bca41ba",
   "metadata": {
    "execution": {
     "iopub.execute_input": "2025-07-30T13:56:09.857189Z",
     "iopub.status.busy": "2025-07-30T13:56:09.856676Z",
     "iopub.status.idle": "2025-07-30T13:56:09.861858Z",
     "shell.execute_reply": "2025-07-30T13:56:09.861014Z"
    },
    "papermill": {
     "duration": 0.026893,
     "end_time": "2025-07-30T13:56:09.863489",
     "exception": false,
     "start_time": "2025-07-30T13:56:09.836596",
     "status": "completed"
    },
    "tags": []
   },
   "outputs": [],
   "source": [
    "#siab"
   ]
  },
  {
   "cell_type": "code",
   "execution_count": 11,
   "id": "a0edb063",
   "metadata": {
    "execution": {
     "iopub.execute_input": "2025-07-30T13:56:09.905662Z",
     "iopub.status.busy": "2025-07-30T13:56:09.904843Z",
     "iopub.status.idle": "2025-07-30T13:56:09.910061Z",
     "shell.execute_reply": "2025-07-30T13:56:09.909194Z"
    },
    "papermill": {
     "duration": 0.027395,
     "end_time": "2025-07-30T13:56:09.911518",
     "exception": false,
     "start_time": "2025-07-30T13:56:09.884123",
     "status": "completed"
    },
    "tags": []
   },
   "outputs": [],
   "source": [
    "#import pandas as pd\n",
    "#\n",
    "#X_train = pd.read_csv(\"./data/X_train.csv\")\n",
    "#y_train = pd.read_csv(\"./data/y_train.csv\")"
   ]
  },
  {
   "cell_type": "code",
   "execution_count": 12,
   "id": "63d08085",
   "metadata": {
    "execution": {
     "iopub.execute_input": "2025-07-30T13:56:09.952699Z",
     "iopub.status.busy": "2025-07-30T13:56:09.952063Z",
     "iopub.status.idle": "2025-07-30T13:56:09.957045Z",
     "shell.execute_reply": "2025-07-30T13:56:09.955894Z"
    },
    "papermill": {
     "duration": 0.026639,
     "end_time": "2025-07-30T13:56:09.958585",
     "exception": false,
     "start_time": "2025-07-30T13:56:09.931946",
     "status": "completed"
    },
    "tags": []
   },
   "outputs": [],
   "source": [
    "#X_test = pd.read_csv(\"./data/X_test.csv\")\n",
    "#y_true = pd.read_csv(\"./data/y_test.csv\")"
   ]
  },
  {
   "cell_type": "code",
   "execution_count": 13,
   "id": "98a8d0fa-1d3d-4ed8-bb2c-281470e24add",
   "metadata": {
    "execution": {
     "iopub.execute_input": "2025-07-30T13:56:10.000487Z",
     "iopub.status.busy": "2025-07-30T13:56:09.999613Z",
     "iopub.status.idle": "2025-07-30T13:56:10.005161Z",
     "shell.execute_reply": "2025-07-30T13:56:10.004198Z"
    },
    "papermill": {
     "duration": 0.028062,
     "end_time": "2025-07-30T13:56:10.006765",
     "exception": false,
     "start_time": "2025-07-30T13:56:09.978703",
     "status": "completed"
    },
    "tags": []
   },
   "outputs": [],
   "source": [
    "# Calibration data for conformal\n",
    "#X_calib = pd.read_csv(\"./data/X_calib.csv\")\n",
    "#y_calib = pd.read_csv(\"./data/y_calib.csv\")"
   ]
  },
  {
   "cell_type": "markdown",
   "id": "997051c5-15bd-4b69-9786-c3001a3ce484",
   "metadata": {
    "papermill": {
     "duration": 0.019283,
     "end_time": "2025-07-30T13:56:10.046197",
     "exception": false,
     "start_time": "2025-07-30T13:56:10.026914",
     "status": "completed"
    },
    "tags": []
   },
   "source": [
    "# Splitting Data and Setting Training Data Size"
   ]
  },
  {
   "cell_type": "code",
   "execution_count": 14,
   "id": "e993b61f-042d-41a6-8c81-f55681f86335",
   "metadata": {
    "execution": {
     "iopub.execute_input": "2025-07-30T13:56:10.086495Z",
     "iopub.status.busy": "2025-07-30T13:56:10.085988Z",
     "iopub.status.idle": "2025-07-30T13:56:10.100996Z",
     "shell.execute_reply": "2025-07-30T13:56:10.099889Z"
    },
    "papermill": {
     "duration": 0.037416,
     "end_time": "2025-07-30T13:56:10.102583",
     "exception": false,
     "start_time": "2025-07-30T13:56:10.065167",
     "status": "completed"
    },
    "tags": []
   },
   "outputs": [],
   "source": [
    "def sample_by_year_size(df,\n",
    "                        training_year: str,\n",
    "                        training_size: str,\n",
    "                        random_state: int = 42):\n",
    "    # --- parse training_year into a list of int years ---\n",
    "    if \"_\" in training_year:\n",
    "        start_str, end_str = training_year.split(\"_\", 1)\n",
    "        start = int(start_str)\n",
    "        end   = int(end_str) if len(end_str) == 4 else (int(end_str) + (start // 100)*100)\n",
    "        years = list(range(start, end + 1))\n",
    "    else:\n",
    "        years = [int(training_year)]\n",
    "\n",
    "    df = df[df[\"year\"].isin(years)].reset_index(drop=True)\n",
    "\n",
    "    # --- map training_size to total number of samples ---\n",
    "    total_map = {\"25k\": 25_000, \"5k\": 5_000, \"1k\": 1_000}\n",
    "    if training_size not in total_map:\n",
    "        return df  # e.g. \"all\"\n",
    "\n",
    "    total_samples = total_map[training_size]\n",
    "    n_years       = len(years)\n",
    "    base          = total_samples // n_years\n",
    "    remainder     = total_samples % n_years\n",
    "\n",
    "    # --- build a dict: year -> how many to sample ---\n",
    "    # give +1 to the first `remainder` years in ascending order\n",
    "    quotas = {\n",
    "        year: base + (1 if idx < remainder else 0)\n",
    "        for idx, year in enumerate(sorted(years))\n",
    "    }\n",
    "\n",
    "    # --- sample per‐year according to the quota dict ---\n",
    "    sampled = (\n",
    "        df\n",
    "        .groupby(\"year\", group_keys=False)\n",
    "        .apply(lambda grp: grp.sample(\n",
    "            n=min(len(grp), quotas[grp.name]),\n",
    "            random_state=random_state))\n",
    "        .reset_index(drop=True)\n",
    "    )\n",
    "\n",
    "    return sampled"
   ]
  },
  {
   "cell_type": "code",
   "execution_count": 15,
   "id": "c0ccd338-0e02-41f3-a09d-f56f9266e3fb",
   "metadata": {
    "execution": {
     "iopub.execute_input": "2025-07-30T13:56:10.145296Z",
     "iopub.status.busy": "2025-07-30T13:56:10.144610Z",
     "iopub.status.idle": "2025-07-30T13:56:10.156468Z",
     "shell.execute_reply": "2025-07-30T13:56:10.155474Z"
    },
    "papermill": {
     "duration": 0.034661,
     "end_time": "2025-07-30T13:56:10.158207",
     "exception": false,
     "start_time": "2025-07-30T13:56:10.123546",
     "status": "completed"
    },
    "tags": []
   },
   "outputs": [
    {
     "data": {
      "text/plain": [
       "'5k'"
      ]
     },
     "execution_count": 15,
     "metadata": {},
     "output_type": "execute_result"
    }
   ],
   "source": [
    "universe[\"training_size\"]"
   ]
  },
  {
   "cell_type": "code",
   "execution_count": 16,
   "id": "ca707fd7-8047-4acd-bfa5-66248fbbf8e6",
   "metadata": {
    "execution": {
     "iopub.execute_input": "2025-07-30T13:56:10.201731Z",
     "iopub.status.busy": "2025-07-30T13:56:10.200879Z",
     "iopub.status.idle": "2025-07-30T13:56:10.209006Z",
     "shell.execute_reply": "2025-07-30T13:56:10.208106Z"
    },
    "papermill": {
     "duration": 0.031376,
     "end_time": "2025-07-30T13:56:10.210693",
     "exception": false,
     "start_time": "2025-07-30T13:56:10.179317",
     "status": "completed"
    },
    "tags": []
   },
   "outputs": [
    {
     "data": {
      "text/plain": [
       "'2012_14'"
      ]
     },
     "execution_count": 16,
     "metadata": {},
     "output_type": "execute_result"
    }
   ],
   "source": [
    "universe[\"training_year\"]"
   ]
  },
  {
   "cell_type": "code",
   "execution_count": 17,
   "id": "aea9c6ef-6f46-42c8-85eb-5a62025c1508",
   "metadata": {
    "execution": {
     "iopub.execute_input": "2025-07-30T13:56:10.255282Z",
     "iopub.status.busy": "2025-07-30T13:56:10.254780Z",
     "iopub.status.idle": "2025-07-30T13:56:10.880973Z",
     "shell.execute_reply": "2025-07-30T13:56:10.880027Z"
    },
    "papermill": {
     "duration": 0.649644,
     "end_time": "2025-07-30T13:56:10.882886",
     "exception": false,
     "start_time": "2025-07-30T13:56:10.233242",
     "status": "completed"
    },
    "tags": []
   },
   "outputs": [],
   "source": [
    "siab_train = sample_by_year_size(siab,\n",
    "                               training_year=universe[\"training_year\"],\n",
    "                               training_size=universe[\"training_size\"])"
   ]
  },
  {
   "cell_type": "code",
   "execution_count": 18,
   "id": "8d3afb32-789d-442c-8d5d-9f5aa8dd2eed",
   "metadata": {
    "execution": {
     "iopub.execute_input": "2025-07-30T13:56:10.926577Z",
     "iopub.status.busy": "2025-07-30T13:56:10.925634Z",
     "iopub.status.idle": "2025-07-30T13:56:10.934322Z",
     "shell.execute_reply": "2025-07-30T13:56:10.933409Z"
    },
    "papermill": {
     "duration": 0.032277,
     "end_time": "2025-07-30T13:56:10.936171",
     "exception": false,
     "start_time": "2025-07-30T13:56:10.903894",
     "status": "completed"
    },
    "tags": []
   },
   "outputs": [
    {
     "data": {
      "text/plain": [
       "(5000, 164)"
      ]
     },
     "execution_count": 18,
     "metadata": {},
     "output_type": "execute_result"
    }
   ],
   "source": [
    "siab_train.shape"
   ]
  },
  {
   "cell_type": "code",
   "execution_count": 19,
   "id": "d582db68-1a4c-47fb-84fc-08518dc1975a",
   "metadata": {
    "execution": {
     "iopub.execute_input": "2025-07-30T13:56:10.982603Z",
     "iopub.status.busy": "2025-07-30T13:56:10.982100Z",
     "iopub.status.idle": "2025-07-30T13:56:10.993696Z",
     "shell.execute_reply": "2025-07-30T13:56:10.992598Z"
    },
    "papermill": {
     "duration": 0.036175,
     "end_time": "2025-07-30T13:56:10.995446",
     "exception": false,
     "start_time": "2025-07-30T13:56:10.959271",
     "status": "completed"
    },
    "tags": []
   },
   "outputs": [
    {
     "data": {
      "text/plain": [
       "year\n",
       "2012    1667\n",
       "2013    1667\n",
       "2014    1666\n",
       "dtype: int64"
      ]
     },
     "metadata": {},
     "output_type": "display_data"
    }
   ],
   "source": [
    "display(siab_train.groupby(\"year\").size())"
   ]
  },
  {
   "cell_type": "code",
   "execution_count": 20,
   "id": "a561edb4-d032-42cb-8256-22eac1111c64",
   "metadata": {
    "execution": {
     "iopub.execute_input": "2025-07-30T13:56:11.042735Z",
     "iopub.status.busy": "2025-07-30T13:56:11.042091Z",
     "iopub.status.idle": "2025-07-30T13:56:11.286531Z",
     "shell.execute_reply": "2025-07-30T13:56:11.285393Z"
    },
    "papermill": {
     "duration": 0.269812,
     "end_time": "2025-07-30T13:56:11.288283",
     "exception": false,
     "start_time": "2025-07-30T13:56:11.018471",
     "status": "completed"
    },
    "tags": []
   },
   "outputs": [],
   "source": [
    "#siab_train = siab_s[siab_s.year < 2015]\n",
    "siab_calib = siab[siab.year == 2015]\n",
    "siab_test = siab[siab.year == 2016]"
   ]
  },
  {
   "cell_type": "code",
   "execution_count": 21,
   "id": "472de16f-c3db-4916-846b-1f0de9cf1746",
   "metadata": {
    "execution": {
     "iopub.execute_input": "2025-07-30T13:56:11.332560Z",
     "iopub.status.busy": "2025-07-30T13:56:11.332047Z",
     "iopub.status.idle": "2025-07-30T13:56:11.341230Z",
     "shell.execute_reply": "2025-07-30T13:56:11.340152Z"
    },
    "papermill": {
     "duration": 0.033643,
     "end_time": "2025-07-30T13:56:11.343087",
     "exception": false,
     "start_time": "2025-07-30T13:56:11.309444",
     "status": "completed"
    },
    "tags": []
   },
   "outputs": [],
   "source": [
    "X_train = siab_train.iloc[:,4:164]\n",
    "y_train = siab_train.iloc[:, [3]]"
   ]
  },
  {
   "cell_type": "code",
   "execution_count": 22,
   "id": "828c96af-f43a-4ed6-ba47-8ac73a47d56c",
   "metadata": {
    "execution": {
     "iopub.execute_input": "2025-07-30T13:56:11.390879Z",
     "iopub.status.busy": "2025-07-30T13:56:11.390400Z",
     "iopub.status.idle": "2025-07-30T13:56:11.442740Z",
     "shell.execute_reply": "2025-07-30T13:56:11.441517Z"
    },
    "papermill": {
     "duration": 0.078268,
     "end_time": "2025-07-30T13:56:11.444553",
     "exception": false,
     "start_time": "2025-07-30T13:56:11.366285",
     "status": "completed"
    },
    "tags": []
   },
   "outputs": [],
   "source": [
    "X_calib = siab_calib.iloc[:,4:164]\n",
    "y_calib = siab_calib.iloc[:, [3]]"
   ]
  },
  {
   "cell_type": "code",
   "execution_count": 23,
   "id": "c34be9c3-6bd6-476e-acd3-845840e303be",
   "metadata": {
    "execution": {
     "iopub.execute_input": "2025-07-30T13:56:11.487611Z",
     "iopub.status.busy": "2025-07-30T13:56:11.486566Z",
     "iopub.status.idle": "2025-07-30T13:56:11.538146Z",
     "shell.execute_reply": "2025-07-30T13:56:11.536979Z"
    },
    "papermill": {
     "duration": 0.074814,
     "end_time": "2025-07-30T13:56:11.540439",
     "exception": false,
     "start_time": "2025-07-30T13:56:11.465625",
     "status": "completed"
    },
    "tags": []
   },
   "outputs": [],
   "source": [
    "X_test = siab_test.iloc[:,4:164]\n",
    "y_true = siab_test.iloc[:, [3]]"
   ]
  },
  {
   "cell_type": "markdown",
   "id": "9901737e-04df-44f0-9100-f5ad144ed040",
   "metadata": {
    "papermill": {
     "duration": 0.021005,
     "end_time": "2025-07-30T13:56:11.585020",
     "exception": false,
     "start_time": "2025-07-30T13:56:11.564015",
     "status": "completed"
    },
    "tags": []
   },
   "source": [
    "# Splitting Data and Setting Training Data Size OLD VERSION"
   ]
  },
  {
   "cell_type": "code",
   "execution_count": 24,
   "id": "acbc8f7d-8fc8-4e86-8c59-5dcb0f58384b",
   "metadata": {
    "execution": {
     "iopub.execute_input": "2025-07-30T13:56:11.628162Z",
     "iopub.status.busy": "2025-07-30T13:56:11.627232Z",
     "iopub.status.idle": "2025-07-30T13:56:11.633041Z",
     "shell.execute_reply": "2025-07-30T13:56:11.631865Z"
    },
    "papermill": {
     "duration": 0.029819,
     "end_time": "2025-07-30T13:56:11.635000",
     "exception": false,
     "start_time": "2025-07-30T13:56:11.605181",
     "status": "completed"
    },
    "tags": []
   },
   "outputs": [],
   "source": [
    "#def sample_by_year(df, training_size, random_state=42):\n",
    "#    if training_size == \"2014\":\n",
    "#        return df[df[\"year\"] == 2014].reset_index(drop=True)\n",
    "#    \n",
    "#    size_map = {\n",
    "#        \"25k\": 5000,\n",
    "#        \"5k\": 1000,\n",
    "#        \"1k\": 200\n",
    "#    }\n",
    "#\n",
    "#    if training_size not in size_map:\n",
    "#        return df.reset_index(drop=True)  # use all data\n",
    "#\n",
    "#    n_per_year = size_map[training_size]\n",
    "#    grouped = df.groupby(\"year\")\n",
    "#    sampled = grouped.apply(lambda x: x.sample(n=min(n_per_year, len(x)), random_state=random_state))\n",
    "#    return sampled.reset_index(drop=True)"
   ]
  },
  {
   "cell_type": "code",
   "execution_count": 25,
   "id": "6d931f52-beaf-43ff-9e78-9d44a448d54e",
   "metadata": {
    "execution": {
     "iopub.execute_input": "2025-07-30T13:56:11.685084Z",
     "iopub.status.busy": "2025-07-30T13:56:11.684372Z",
     "iopub.status.idle": "2025-07-30T13:56:11.689734Z",
     "shell.execute_reply": "2025-07-30T13:56:11.688751Z"
    },
    "papermill": {
     "duration": 0.031701,
     "end_time": "2025-07-30T13:56:11.691474",
     "exception": false,
     "start_time": "2025-07-30T13:56:11.659773",
     "status": "completed"
    },
    "tags": []
   },
   "outputs": [],
   "source": [
    "#siab_s = sample_by_year(siab, universe[\"training_size\"])"
   ]
  },
  {
   "cell_type": "code",
   "execution_count": 26,
   "id": "5db0a40e-a4e2-4920-be85-b12ae061d70d",
   "metadata": {
    "execution": {
     "iopub.execute_input": "2025-07-30T13:56:11.738382Z",
     "iopub.status.busy": "2025-07-30T13:56:11.737707Z",
     "iopub.status.idle": "2025-07-30T13:56:11.743131Z",
     "shell.execute_reply": "2025-07-30T13:56:11.742113Z"
    },
    "papermill": {
     "duration": 0.029919,
     "end_time": "2025-07-30T13:56:11.745082",
     "exception": false,
     "start_time": "2025-07-30T13:56:11.715163",
     "status": "completed"
    },
    "tags": []
   },
   "outputs": [],
   "source": [
    "#display(siab_s.groupby(\"year\").size())"
   ]
  },
  {
   "cell_type": "code",
   "execution_count": 27,
   "id": "e6c733c5",
   "metadata": {
    "execution": {
     "iopub.execute_input": "2025-07-30T13:56:11.792884Z",
     "iopub.status.busy": "2025-07-30T13:56:11.792369Z",
     "iopub.status.idle": "2025-07-30T13:56:11.885275Z",
     "shell.execute_reply": "2025-07-30T13:56:11.884330Z"
    },
    "papermill": {
     "duration": 0.118359,
     "end_time": "2025-07-30T13:56:11.887036",
     "exception": false,
     "start_time": "2025-07-30T13:56:11.768677",
     "status": "completed"
    },
    "tags": []
   },
   "outputs": [],
   "source": [
    "# Auxiliary data needed downstream in the pipeline\n",
    "\n",
    "org_train = X_train.copy()\n",
    "org_test = X_test.copy()\n",
    "org_calib = X_calib.copy()"
   ]
  },
  {
   "cell_type": "code",
   "execution_count": 28,
   "id": "1466abac-c6da-4492-a62f-4240ae3783af",
   "metadata": {
    "execution": {
     "iopub.execute_input": "2025-07-30T13:56:11.933563Z",
     "iopub.status.busy": "2025-07-30T13:56:11.932905Z",
     "iopub.status.idle": "2025-07-30T13:56:11.938672Z",
     "shell.execute_reply": "2025-07-30T13:56:11.937828Z"
    },
    "papermill": {
     "duration": 0.031039,
     "end_time": "2025-07-30T13:56:11.940263",
     "exception": false,
     "start_time": "2025-07-30T13:56:11.909224",
     "status": "completed"
    },
    "tags": []
   },
   "outputs": [],
   "source": [
    "# put in other script?\n",
    "# Group sizes\n",
    "\n",
    "#def calculate_percentages(df, df_name):\n",
    "#    total_entries = len(df)\n",
    "#\n",
    "#    female_pct = (df['frau1'] == 1).mean() * 100\n",
    "#    non_german_pct = ((df['maxdeutsch1'] == 0) & (df['maxdeutsch.Missing.'] == 0)).mean() * 100\n",
    "#    non_german_male_pct = ((df['frau1'] == 0) & (df['maxdeutsch1'] == 0) & (df['maxdeutsch.Missing.'] == 0)).mean() * 100\n",
    "#    non_german_female_pct = ((df['frau1'] == 1) & (df['maxdeutsch1'] == 0) & (df['maxdeutsch.Missing.'] == 0)).mean() * 100\n",
    "#\n",
    "#    print(f\"--- {df_name} ---\")\n",
    "#    print(f\"Female: {female_pct:.2f}%\")\n",
    "#    print(f\"Non-German: {non_german_pct:.2f}%\")\n",
    "#    print(f\"Non-German Male: {non_german_male_pct:.2f}%\")\n",
    "#    print(f\"Non-German Female: {non_german_female_pct:.2f}%\\n\")\n",
    "#\n",
    "## Calculate for each DataFrame\n",
    "#calculate_percentages(siab_calib, \"siab_calib\")\n",
    "#calculate_percentages(siab_test, \"siab_test\")\n",
    "#calculate_percentages(siab_train, \"siab_train\")"
   ]
  },
  {
   "cell_type": "markdown",
   "id": "0a4a1b33",
   "metadata": {
    "papermill": {
     "duration": 0.022208,
     "end_time": "2025-07-30T13:56:11.985423",
     "exception": false,
     "start_time": "2025-07-30T13:56:11.963215",
     "status": "completed"
    },
    "tags": []
   },
   "source": [
    "# Preprocessing Data"
   ]
  },
  {
   "cell_type": "code",
   "execution_count": 29,
   "id": "ca879031",
   "metadata": {
    "execution": {
     "iopub.execute_input": "2025-07-30T13:56:12.031717Z",
     "iopub.status.busy": "2025-07-30T13:56:12.031069Z",
     "iopub.status.idle": "2025-07-30T13:56:12.037551Z",
     "shell.execute_reply": "2025-07-30T13:56:12.036635Z"
    },
    "papermill": {
     "duration": 0.031303,
     "end_time": "2025-07-30T13:56:12.039241",
     "exception": false,
     "start_time": "2025-07-30T13:56:12.007938",
     "status": "completed"
    },
    "tags": []
   },
   "outputs": [],
   "source": [
    "# EXCLUDE PROTECTED FEATURES\n",
    "# ----------------------\n",
    "# \"exclude_features\": \"none\", # \"nationality\", \"sex\", \"nationality-sex\"\n",
    "\n",
    "excluded_features = universe[\"exclude_features\"].split(\"-\") # split, e.g.: \"nationality-sex\" -> [\"nationality\", \"sex\"]\n",
    "excluded_features_dictionary = {\n",
    "    \"nationality\": [\"maxdeutsch1\", \"maxdeutsch.Missing.\"],\n",
    "    \"sex\": [\"frau1\"],\n",
    "    \"age\": [\"age\"],\n",
    "}\n"
   ]
  },
  {
   "cell_type": "code",
   "execution_count": 30,
   "id": "b745ac60",
   "metadata": {
    "execution": {
     "iopub.execute_input": "2025-07-30T13:56:12.087665Z",
     "iopub.status.busy": "2025-07-30T13:56:12.087010Z",
     "iopub.status.idle": "2025-07-30T13:56:12.092785Z",
     "shell.execute_reply": "2025-07-30T13:56:12.091724Z"
    },
    "papermill": {
     "duration": 0.031174,
     "end_time": "2025-07-30T13:56:12.094563",
     "exception": false,
     "start_time": "2025-07-30T13:56:12.063389",
     "status": "completed"
    },
    "tags": []
   },
   "outputs": [],
   "source": [
    "# Code nice names to column names\n",
    "\n",
    "excluded_features_columns = [\n",
    "    excluded_features_dictionary[f] for f in excluded_features if len(f) > 0 and f != \"none\"\n",
    "]"
   ]
  },
  {
   "cell_type": "code",
   "execution_count": 31,
   "id": "f84f73a2",
   "metadata": {
    "execution": {
     "iopub.execute_input": "2025-07-30T13:56:12.141856Z",
     "iopub.status.busy": "2025-07-30T13:56:12.141212Z",
     "iopub.status.idle": "2025-07-30T13:56:12.148527Z",
     "shell.execute_reply": "2025-07-30T13:56:12.147454Z"
    },
    "papermill": {
     "duration": 0.032733,
     "end_time": "2025-07-30T13:56:12.150229",
     "exception": false,
     "start_time": "2025-07-30T13:56:12.117496",
     "status": "completed"
    },
    "tags": []
   },
   "outputs": [],
   "source": [
    "from utils import flatten_once\n",
    "\n",
    "excluded_features_columns = flatten_once(excluded_features_columns)"
   ]
  },
  {
   "cell_type": "code",
   "execution_count": 32,
   "id": "884dea22",
   "metadata": {
    "execution": {
     "iopub.execute_input": "2025-07-30T13:56:12.197398Z",
     "iopub.status.busy": "2025-07-30T13:56:12.196702Z",
     "iopub.status.idle": "2025-07-30T13:56:12.205839Z",
     "shell.execute_reply": "2025-07-30T13:56:12.204831Z"
    },
    "papermill": {
     "duration": 0.034543,
     "end_time": "2025-07-30T13:56:12.207711",
     "exception": false,
     "start_time": "2025-07-30T13:56:12.173168",
     "status": "completed"
    },
    "tags": []
   },
   "outputs": [
    {
     "name": "stdout",
     "output_type": "stream",
     "text": [
      "Dropping features: ['maxdeutsch1', 'maxdeutsch.Missing.']\n"
     ]
    }
   ],
   "source": [
    "if len(excluded_features_columns) > 0:\n",
    "    print(f\"Dropping features: {excluded_features_columns}\")\n",
    "    X_train.drop(excluded_features_columns, axis=1, inplace=True)"
   ]
  },
  {
   "cell_type": "code",
   "execution_count": 33,
   "id": "95ab8b16",
   "metadata": {
    "execution": {
     "iopub.execute_input": "2025-07-30T13:56:12.301070Z",
     "iopub.status.busy": "2025-07-30T13:56:12.300610Z",
     "iopub.status.idle": "2025-07-30T13:56:12.352740Z",
     "shell.execute_reply": "2025-07-30T13:56:12.351736Z"
    },
    "papermill": {
     "duration": 0.078998,
     "end_time": "2025-07-30T13:56:12.354473",
     "exception": false,
     "start_time": "2025-07-30T13:56:12.275475",
     "status": "completed"
    },
    "tags": []
   },
   "outputs": [
    {
     "name": "stdout",
     "output_type": "stream",
     "text": [
      "Dropping features: ['maxdeutsch1', 'maxdeutsch.Missing.']\n"
     ]
    }
   ],
   "source": [
    "if len(excluded_features_columns) > 0:\n",
    "    print(f\"Dropping features: {excluded_features_columns}\")\n",
    "    X_test.drop(excluded_features_columns, axis=1, inplace=True)"
   ]
  },
  {
   "cell_type": "code",
   "execution_count": 34,
   "id": "1853aaf5-fb9f-46cb-a2b5-8ea4ae2237e4",
   "metadata": {
    "execution": {
     "iopub.execute_input": "2025-07-30T13:56:12.401050Z",
     "iopub.status.busy": "2025-07-30T13:56:12.400329Z",
     "iopub.status.idle": "2025-07-30T13:56:12.452313Z",
     "shell.execute_reply": "2025-07-30T13:56:12.451029Z"
    },
    "papermill": {
     "duration": 0.077538,
     "end_time": "2025-07-30T13:56:12.454806",
     "exception": false,
     "start_time": "2025-07-30T13:56:12.377268",
     "status": "completed"
    },
    "tags": []
   },
   "outputs": [
    {
     "name": "stdout",
     "output_type": "stream",
     "text": [
      "Dropping features: ['maxdeutsch1', 'maxdeutsch.Missing.']\n"
     ]
    }
   ],
   "source": [
    "if len(excluded_features_columns) > 0:\n",
    "    print(f\"Dropping features: {excluded_features_columns}\")\n",
    "    X_calib.drop(excluded_features_columns, axis=1, inplace=True)"
   ]
  },
  {
   "cell_type": "code",
   "execution_count": 35,
   "id": "6727d079-03e5-481e-9d38-292a90b7a0a8",
   "metadata": {
    "execution": {
     "iopub.execute_input": "2025-07-30T13:56:12.500902Z",
     "iopub.status.busy": "2025-07-30T13:56:12.500155Z",
     "iopub.status.idle": "2025-07-30T13:56:12.505241Z",
     "shell.execute_reply": "2025-07-30T13:56:12.504245Z"
    },
    "papermill": {
     "duration": 0.029628,
     "end_time": "2025-07-30T13:56:12.506925",
     "exception": false,
     "start_time": "2025-07-30T13:56:12.477297",
     "status": "completed"
    },
    "tags": []
   },
   "outputs": [],
   "source": [
    "# SPLIT & STRATIFY DATA\n",
    "# ----------------------"
   ]
  },
  {
   "cell_type": "code",
   "execution_count": 36,
   "id": "76c4dc6d",
   "metadata": {
    "execution": {
     "iopub.execute_input": "2025-07-30T13:56:12.553645Z",
     "iopub.status.busy": "2025-07-30T13:56:12.552997Z",
     "iopub.status.idle": "2025-07-30T13:56:12.558288Z",
     "shell.execute_reply": "2025-07-30T13:56:12.557445Z"
    },
    "papermill": {
     "duration": 0.030441,
     "end_time": "2025-07-30T13:56:12.559909",
     "exception": false,
     "start_time": "2025-07-30T13:56:12.529468",
     "status": "completed"
    },
    "tags": []
   },
   "outputs": [],
   "source": [
    "# EXCLUDE CERTAIN SUBGROUPS\n",
    "# ----------------------\n",
    "\n",
    "mode = universe.get(\"exclude_subgroups\", \"keep-all\") \n",
    "# Fetches the exclude_subgroups setting from the universe dict.\n",
    "# Defaults to \"keep-all\" if the key is missing."
   ]
  },
  {
   "cell_type": "code",
   "execution_count": 37,
   "id": "21994072",
   "metadata": {
    "execution": {
     "iopub.execute_input": "2025-07-30T13:56:12.608951Z",
     "iopub.status.busy": "2025-07-30T13:56:12.608250Z",
     "iopub.status.idle": "2025-07-30T13:56:12.615203Z",
     "shell.execute_reply": "2025-07-30T13:56:12.614246Z"
    },
    "papermill": {
     "duration": 0.033714,
     "end_time": "2025-07-30T13:56:12.617127",
     "exception": false,
     "start_time": "2025-07-30T13:56:12.583413",
     "status": "completed"
    },
    "tags": []
   },
   "outputs": [],
   "source": [
    "if mode == \"keep-all\":\n",
    "    keep_mask = pd.Series(True, index=org_train.index)\n",
    "\n",
    "# org_train contains the original feature columns from features_org (in Simson)\n",
    "# features_org contains unprocessed features, for me X_train at beginning ???\n",
    "# For keep-all, creates a boolean Series (keep_mask) of all True, so no rows are removed.\n",
    "\n",
    "elif mode == \"drop-non-german\":\n",
    "    keep_mask = org_train[\"maxdeutsch1\"] == 1 # ??? what about missing values?\n",
    "\n",
    "else:\n",
    "    raise ValueError(f\"Unsupported mode for exclude_subgroups: {mode}\")\n"
   ]
  },
  {
   "cell_type": "code",
   "execution_count": 38,
   "id": "71651440",
   "metadata": {
    "execution": {
     "iopub.execute_input": "2025-07-30T13:56:12.664581Z",
     "iopub.status.busy": "2025-07-30T13:56:12.663896Z",
     "iopub.status.idle": "2025-07-30T13:56:12.670572Z",
     "shell.execute_reply": "2025-07-30T13:56:12.669609Z"
    },
    "papermill": {
     "duration": 0.032344,
     "end_time": "2025-07-30T13:56:12.672317",
     "exception": false,
     "start_time": "2025-07-30T13:56:12.639973",
     "status": "completed"
    },
    "tags": []
   },
   "outputs": [],
   "source": [
    "n_drop = (~keep_mask).sum() # Calculates how many rows are set to be dropped\n",
    "if n_drop > 0:\n",
    "    pct = n_drop / len(keep_mask) * 100\n",
    "    print(f\"Dropping {n_drop} rows ({pct:.2f}%) where mode='{mode}'\")"
   ]
  },
  {
   "cell_type": "code",
   "execution_count": 39,
   "id": "5fb8eee5",
   "metadata": {
    "execution": {
     "iopub.execute_input": "2025-07-30T13:56:12.718648Z",
     "iopub.status.busy": "2025-07-30T13:56:12.717787Z",
     "iopub.status.idle": "2025-07-30T13:56:12.726026Z",
     "shell.execute_reply": "2025-07-30T13:56:12.724884Z"
    },
    "papermill": {
     "duration": 0.033004,
     "end_time": "2025-07-30T13:56:12.727879",
     "exception": false,
     "start_time": "2025-07-30T13:56:12.694875",
     "status": "completed"
    },
    "tags": []
   },
   "outputs": [],
   "source": [
    "X_train = X_train[keep_mask]"
   ]
  },
  {
   "cell_type": "code",
   "execution_count": 40,
   "id": "b202bb3a",
   "metadata": {
    "execution": {
     "iopub.execute_input": "2025-07-30T13:56:12.782078Z",
     "iopub.status.busy": "2025-07-30T13:56:12.781355Z",
     "iopub.status.idle": "2025-07-30T13:56:12.788015Z",
     "shell.execute_reply": "2025-07-30T13:56:12.787024Z"
    },
    "papermill": {
     "duration": 0.034504,
     "end_time": "2025-07-30T13:56:12.789941",
     "exception": false,
     "start_time": "2025-07-30T13:56:12.755437",
     "status": "completed"
    },
    "tags": []
   },
   "outputs": [],
   "source": [
    "y_train = y_train[keep_mask]"
   ]
  },
  {
   "cell_type": "markdown",
   "id": "493e2ac3",
   "metadata": {
    "papermill": {
     "duration": 0.011889,
     "end_time": "2025-07-30T13:56:12.821944",
     "exception": false,
     "start_time": "2025-07-30T13:56:12.810055",
     "status": "completed"
    },
    "tags": []
   },
   "source": [
    "# Model Training"
   ]
  },
  {
   "cell_type": "code",
   "execution_count": 41,
   "id": "679e1268",
   "metadata": {
    "execution": {
     "iopub.execute_input": "2025-07-30T13:56:12.847120Z",
     "iopub.status.busy": "2025-07-30T13:56:12.846773Z",
     "iopub.status.idle": "2025-07-30T13:56:12.928735Z",
     "shell.execute_reply": "2025-07-30T13:56:12.927736Z"
    },
    "papermill": {
     "duration": 0.096946,
     "end_time": "2025-07-30T13:56:12.930826",
     "exception": false,
     "start_time": "2025-07-30T13:56:12.833880",
     "status": "completed"
    },
    "tags": []
   },
   "outputs": [],
   "source": [
    "from sklearn.linear_model import LogisticRegression\n",
    "from sklearn.ensemble import GradientBoostingClassifier, RandomForestClassifier\n",
    "\n",
    "if (universe[\"model\"] == \"logreg\"):\n",
    "    model = LogisticRegression() #penalty=\"none\") #, solver=\"newton-cg\", max_iter=1) # include random_state=19 ?\n",
    "elif (universe[\"model\"] == \"penalized_logreg\"):\n",
    "    model = LogisticRegression(penalty=\"l2\", C=1.0) #, solver=\"newton-cg\", max_iter=1)\n",
    "elif (universe[\"model\"] == \"rf\"):\n",
    "    model = RandomForestClassifier(n_estimators=100, n_jobs=-1)\n",
    "elif (universe[\"model\"] == \"gbm\"):\n",
    "    model = GradientBoostingClassifier()\n",
    "elif (universe[\"model\"] == \"elasticnet\"):\n",
    "    model = LogisticRegression(penalty = 'elasticnet', solver = 'saga', l1_ratio = 0.5, max_iter=5000) # which solver to use?\n",
    "else:\n",
    "    raise \"Unsupported universe.model\""
   ]
  },
  {
   "cell_type": "code",
   "execution_count": 42,
   "id": "0cc8f744",
   "metadata": {
    "execution": {
     "iopub.execute_input": "2025-07-30T13:56:12.986343Z",
     "iopub.status.busy": "2025-07-30T13:56:12.985827Z",
     "iopub.status.idle": "2025-07-30T13:56:12.992916Z",
     "shell.execute_reply": "2025-07-30T13:56:12.991880Z"
    },
    "papermill": {
     "duration": 0.03733,
     "end_time": "2025-07-30T13:56:12.994838",
     "exception": false,
     "start_time": "2025-07-30T13:56:12.957508",
     "status": "completed"
    },
    "tags": []
   },
   "outputs": [],
   "source": [
    "import numpy as np\n",
    "from sklearn.pipeline import Pipeline\n",
    "from sklearn.preprocessing import StandardScaler\n",
    "\n",
    "model = Pipeline([\n",
    "    #(\"continuous_processor\", continuous_processor),\n",
    "    #(\"categorical_preprocessor\", categorical_preprocessor),\n",
    "    (\"scale\", StandardScaler() if universe[\"scale\"] == \"scale\" else None), \n",
    "    (\"model\", model),\n",
    "])"
   ]
  },
  {
   "cell_type": "code",
   "execution_count": 43,
   "id": "9442c04d",
   "metadata": {
    "execution": {
     "iopub.execute_input": "2025-07-30T13:56:13.046356Z",
     "iopub.status.busy": "2025-07-30T13:56:13.045325Z",
     "iopub.status.idle": "2025-07-30T13:56:14.028331Z",
     "shell.execute_reply": "2025-07-30T13:56:14.027178Z"
    },
    "papermill": {
     "duration": 1.009029,
     "end_time": "2025-07-30T13:56:14.029919",
     "exception": false,
     "start_time": "2025-07-30T13:56:13.020890",
     "status": "completed"
    },
    "tags": []
   },
   "outputs": [
    {
     "data": {
      "text/html": [
       "<style>#sk-container-id-1 {color: black;background-color: white;}#sk-container-id-1 pre{padding: 0;}#sk-container-id-1 div.sk-toggleable {background-color: white;}#sk-container-id-1 label.sk-toggleable__label {cursor: pointer;display: block;width: 100%;margin-bottom: 0;padding: 0.3em;box-sizing: border-box;text-align: center;}#sk-container-id-1 label.sk-toggleable__label-arrow:before {content: \"▸\";float: left;margin-right: 0.25em;color: #696969;}#sk-container-id-1 label.sk-toggleable__label-arrow:hover:before {color: black;}#sk-container-id-1 div.sk-estimator:hover label.sk-toggleable__label-arrow:before {color: black;}#sk-container-id-1 div.sk-toggleable__content {max-height: 0;max-width: 0;overflow: hidden;text-align: left;background-color: #f0f8ff;}#sk-container-id-1 div.sk-toggleable__content pre {margin: 0.2em;color: black;border-radius: 0.25em;background-color: #f0f8ff;}#sk-container-id-1 input.sk-toggleable__control:checked~div.sk-toggleable__content {max-height: 200px;max-width: 100%;overflow: auto;}#sk-container-id-1 input.sk-toggleable__control:checked~label.sk-toggleable__label-arrow:before {content: \"▾\";}#sk-container-id-1 div.sk-estimator input.sk-toggleable__control:checked~label.sk-toggleable__label {background-color: #d4ebff;}#sk-container-id-1 div.sk-label input.sk-toggleable__control:checked~label.sk-toggleable__label {background-color: #d4ebff;}#sk-container-id-1 input.sk-hidden--visually {border: 0;clip: rect(1px 1px 1px 1px);clip: rect(1px, 1px, 1px, 1px);height: 1px;margin: -1px;overflow: hidden;padding: 0;position: absolute;width: 1px;}#sk-container-id-1 div.sk-estimator {font-family: monospace;background-color: #f0f8ff;border: 1px dotted black;border-radius: 0.25em;box-sizing: border-box;margin-bottom: 0.5em;}#sk-container-id-1 div.sk-estimator:hover {background-color: #d4ebff;}#sk-container-id-1 div.sk-parallel-item::after {content: \"\";width: 100%;border-bottom: 1px solid gray;flex-grow: 1;}#sk-container-id-1 div.sk-label:hover label.sk-toggleable__label {background-color: #d4ebff;}#sk-container-id-1 div.sk-serial::before {content: \"\";position: absolute;border-left: 1px solid gray;box-sizing: border-box;top: 0;bottom: 0;left: 50%;z-index: 0;}#sk-container-id-1 div.sk-serial {display: flex;flex-direction: column;align-items: center;background-color: white;padding-right: 0.2em;padding-left: 0.2em;position: relative;}#sk-container-id-1 div.sk-item {position: relative;z-index: 1;}#sk-container-id-1 div.sk-parallel {display: flex;align-items: stretch;justify-content: center;background-color: white;position: relative;}#sk-container-id-1 div.sk-item::before, #sk-container-id-1 div.sk-parallel-item::before {content: \"\";position: absolute;border-left: 1px solid gray;box-sizing: border-box;top: 0;bottom: 0;left: 50%;z-index: -1;}#sk-container-id-1 div.sk-parallel-item {display: flex;flex-direction: column;z-index: 1;position: relative;background-color: white;}#sk-container-id-1 div.sk-parallel-item:first-child::after {align-self: flex-end;width: 50%;}#sk-container-id-1 div.sk-parallel-item:last-child::after {align-self: flex-start;width: 50%;}#sk-container-id-1 div.sk-parallel-item:only-child::after {width: 0;}#sk-container-id-1 div.sk-dashed-wrapped {border: 1px dashed gray;margin: 0 0.4em 0.5em 0.4em;box-sizing: border-box;padding-bottom: 0.4em;background-color: white;}#sk-container-id-1 div.sk-label label {font-family: monospace;font-weight: bold;display: inline-block;line-height: 1.2em;}#sk-container-id-1 div.sk-label-container {text-align: center;}#sk-container-id-1 div.sk-container {/* jupyter's `normalize.less` sets `[hidden] { display: none; }` but bootstrap.min.css set `[hidden] { display: none !important; }` so we also need the `!important` here to be able to override the default hidden behavior on the sphinx rendered scikit-learn.org. See: https://github.com/scikit-learn/scikit-learn/issues/21755 */display: inline-block !important;position: relative;}#sk-container-id-1 div.sk-text-repr-fallback {display: none;}</style><div id=\"sk-container-id-1\" class=\"sk-top-container\"><div class=\"sk-text-repr-fallback\"><pre>Pipeline(steps=[(&#x27;scale&#x27;, StandardScaler()),\n",
       "                (&#x27;model&#x27;, RandomForestClassifier(n_jobs=-1))])</pre><b>In a Jupyter environment, please rerun this cell to show the HTML representation or trust the notebook. <br />On GitHub, the HTML representation is unable to render, please try loading this page with nbviewer.org.</b></div><div class=\"sk-container\" hidden><div class=\"sk-item sk-dashed-wrapped\"><div class=\"sk-label-container\"><div class=\"sk-label sk-toggleable\"><input class=\"sk-toggleable__control sk-hidden--visually\" id=\"sk-estimator-id-1\" type=\"checkbox\" ><label for=\"sk-estimator-id-1\" class=\"sk-toggleable__label sk-toggleable__label-arrow\">Pipeline</label><div class=\"sk-toggleable__content\"><pre>Pipeline(steps=[(&#x27;scale&#x27;, StandardScaler()),\n",
       "                (&#x27;model&#x27;, RandomForestClassifier(n_jobs=-1))])</pre></div></div></div><div class=\"sk-serial\"><div class=\"sk-item\"><div class=\"sk-estimator sk-toggleable\"><input class=\"sk-toggleable__control sk-hidden--visually\" id=\"sk-estimator-id-2\" type=\"checkbox\" ><label for=\"sk-estimator-id-2\" class=\"sk-toggleable__label sk-toggleable__label-arrow\">StandardScaler</label><div class=\"sk-toggleable__content\"><pre>StandardScaler()</pre></div></div></div><div class=\"sk-item\"><div class=\"sk-estimator sk-toggleable\"><input class=\"sk-toggleable__control sk-hidden--visually\" id=\"sk-estimator-id-3\" type=\"checkbox\" ><label for=\"sk-estimator-id-3\" class=\"sk-toggleable__label sk-toggleable__label-arrow\">RandomForestClassifier</label><div class=\"sk-toggleable__content\"><pre>RandomForestClassifier(n_jobs=-1)</pre></div></div></div></div></div></div></div>"
      ],
      "text/plain": [
       "Pipeline(steps=[('scale', StandardScaler()),\n",
       "                ('model', RandomForestClassifier(n_jobs=-1))])"
      ]
     },
     "execution_count": 43,
     "metadata": {},
     "output_type": "execute_result"
    }
   ],
   "source": [
    "model.fit(X_train, y_train.values.ravel())"
   ]
  },
  {
   "cell_type": "code",
   "execution_count": 44,
   "id": "af59f8c0",
   "metadata": {
    "execution": {
     "iopub.execute_input": "2025-07-30T13:56:14.084733Z",
     "iopub.status.busy": "2025-07-30T13:56:14.084171Z",
     "iopub.status.idle": "2025-07-30T13:56:14.090355Z",
     "shell.execute_reply": "2025-07-30T13:56:14.089363Z"
    },
    "papermill": {
     "duration": 0.035322,
     "end_time": "2025-07-30T13:56:14.092305",
     "exception": false,
     "start_time": "2025-07-30T13:56:14.056983",
     "status": "completed"
    },
    "tags": []
   },
   "outputs": [],
   "source": [
    "from fairness_multiverse.universe import predict_w_threshold"
   ]
  },
  {
   "cell_type": "code",
   "execution_count": 45,
   "id": "a7cf2e16",
   "metadata": {
    "execution": {
     "iopub.execute_input": "2025-07-30T13:56:14.137169Z",
     "iopub.status.busy": "2025-07-30T13:56:14.136566Z",
     "iopub.status.idle": "2025-07-30T13:56:15.015562Z",
     "shell.execute_reply": "2025-07-30T13:56:15.014560Z"
    },
    "papermill": {
     "duration": 0.897843,
     "end_time": "2025-07-30T13:56:15.017233",
     "exception": false,
     "start_time": "2025-07-30T13:56:14.119390",
     "status": "completed"
    },
    "tags": []
   },
   "outputs": [
    {
     "data": {
      "text/plain": [
       "0.8657228848511872"
      ]
     },
     "execution_count": 45,
     "metadata": {},
     "output_type": "execute_result"
    }
   ],
   "source": [
    "probs_test = model.predict_proba(X_test)\n",
    "\n",
    "'''\n",
    "Below code returns a boolean array (or binary 0/1 array depending on how it’s used) where each element \n",
    "is True if the probability of class 1 is greater than or equal to the threshold, and False otherwise.\n",
    "'''\n",
    "y_pred_default = predict_w_threshold(probs_test, 0.5)\n",
    "\n",
    "from sklearn.metrics import accuracy_score\n",
    "\n",
    "# Naive prediction\n",
    "accuracy_score(y_true = y_true, y_pred = y_pred_default)"
   ]
  },
  {
   "cell_type": "code",
   "execution_count": 46,
   "id": "081964c3",
   "metadata": {
    "execution": {
     "iopub.execute_input": "2025-07-30T13:56:15.069920Z",
     "iopub.status.busy": "2025-07-30T13:56:15.069011Z",
     "iopub.status.idle": "2025-07-30T13:56:15.960646Z",
     "shell.execute_reply": "2025-07-30T13:56:15.959588Z"
    },
    "papermill": {
     "duration": 0.920104,
     "end_time": "2025-07-30T13:56:15.962583",
     "exception": false,
     "start_time": "2025-07-30T13:56:15.042479",
     "status": "completed"
    },
    "tags": []
   },
   "outputs": [
    {
     "data": {
      "text/plain": [
       "array([0, 0, 0, ..., 0, 0, 0])"
      ]
     },
     "execution_count": 46,
     "metadata": {},
     "output_type": "execute_result"
    }
   ],
   "source": [
    "model.predict(X_test)"
   ]
  },
  {
   "cell_type": "markdown",
   "id": "56c9705b",
   "metadata": {
    "papermill": {
     "duration": 0.026814,
     "end_time": "2025-07-30T13:56:16.016492",
     "exception": false,
     "start_time": "2025-07-30T13:56:15.989678",
     "status": "completed"
    },
    "tags": []
   },
   "source": [
    "# Conformal Prediction"
   ]
  },
  {
   "cell_type": "code",
   "execution_count": 47,
   "id": "160ec6ff",
   "metadata": {
    "execution": {
     "iopub.execute_input": "2025-07-30T13:56:16.071399Z",
     "iopub.status.busy": "2025-07-30T13:56:16.070408Z",
     "iopub.status.idle": "2025-07-30T13:56:16.076061Z",
     "shell.execute_reply": "2025-07-30T13:56:16.074939Z"
    },
    "papermill": {
     "duration": 0.035673,
     "end_time": "2025-07-30T13:56:16.077757",
     "exception": false,
     "start_time": "2025-07-30T13:56:16.042084",
     "status": "completed"
    },
    "tags": []
   },
   "outputs": [],
   "source": [
    "# Miscoverage level for conformal prediction (10% allowed error rate => 90% target coverage)\n",
    "alpha = 0.1"
   ]
  },
  {
   "cell_type": "code",
   "execution_count": 48,
   "id": "eadf4555-3dd3-440e-8e35-f82a4ad9f855",
   "metadata": {
    "execution": {
     "iopub.execute_input": "2025-07-30T13:56:16.131415Z",
     "iopub.status.busy": "2025-07-30T13:56:16.130525Z",
     "iopub.status.idle": "2025-07-30T13:56:16.996290Z",
     "shell.execute_reply": "2025-07-30T13:56:16.995212Z"
    },
    "papermill": {
     "duration": 0.893812,
     "end_time": "2025-07-30T13:56:16.998394",
     "exception": false,
     "start_time": "2025-07-30T13:56:16.104582",
     "status": "completed"
    },
    "tags": []
   },
   "outputs": [],
   "source": [
    "probs_calib = model.predict_proba(X_calib)"
   ]
  },
  {
   "cell_type": "code",
   "execution_count": 49,
   "id": "2ed93547-6d5d-4983-9b36-1ecb300da49a",
   "metadata": {
    "execution": {
     "iopub.execute_input": "2025-07-30T13:56:17.055573Z",
     "iopub.status.busy": "2025-07-30T13:56:17.055036Z",
     "iopub.status.idle": "2025-07-30T13:56:17.061358Z",
     "shell.execute_reply": "2025-07-30T13:56:17.060248Z"
    },
    "papermill": {
     "duration": 0.034674,
     "end_time": "2025-07-30T13:56:17.063510",
     "exception": false,
     "start_time": "2025-07-30T13:56:17.028836",
     "status": "completed"
    },
    "tags": []
   },
   "outputs": [],
   "source": [
    "y_calib = y_calib.values.ravel().astype(int)"
   ]
  },
  {
   "cell_type": "code",
   "execution_count": 50,
   "id": "65d1320d-f588-4b38-9072-62af1ae97f7d",
   "metadata": {
    "execution": {
     "iopub.execute_input": "2025-07-30T13:56:17.115976Z",
     "iopub.status.busy": "2025-07-30T13:56:17.115330Z",
     "iopub.status.idle": "2025-07-30T13:56:17.124538Z",
     "shell.execute_reply": "2025-07-30T13:56:17.123467Z"
    },
    "papermill": {
     "duration": 0.037851,
     "end_time": "2025-07-30T13:56:17.126212",
     "exception": false,
     "start_time": "2025-07-30T13:56:17.088361",
     "status": "completed"
    },
    "tags": []
   },
   "outputs": [],
   "source": [
    "from fairness_multiverse.conformal import compute_nc_scores\n",
    "\n",
    "# Compute nonconformity scores on calibration set (1 - probability of true class)\n",
    "nc_scores = compute_nc_scores(probs_calib, y_calib)"
   ]
  },
  {
   "cell_type": "code",
   "execution_count": 51,
   "id": "df3b8ca3-53b7-43d5-9667-7c85da7aeda2",
   "metadata": {
    "execution": {
     "iopub.execute_input": "2025-07-30T13:56:17.179494Z",
     "iopub.status.busy": "2025-07-30T13:56:17.178563Z",
     "iopub.status.idle": "2025-07-30T13:56:17.185831Z",
     "shell.execute_reply": "2025-07-30T13:56:17.184878Z"
    },
    "papermill": {
     "duration": 0.037081,
     "end_time": "2025-07-30T13:56:17.187436",
     "exception": false,
     "start_time": "2025-07-30T13:56:17.150355",
     "status": "completed"
    },
    "tags": []
   },
   "outputs": [],
   "source": [
    "from fairness_multiverse.conformal import find_threshold\n",
    "\n",
    "# Find conformal threshold q_hat for the given alpha (split conformal method)\n",
    "q_hat = find_threshold(nc_scores, alpha)"
   ]
  },
  {
   "cell_type": "code",
   "execution_count": 52,
   "id": "4d29e6c1-0ef6-4aa4-b8fe-4fe79b0d033a",
   "metadata": {
    "execution": {
     "iopub.execute_input": "2025-07-30T13:56:17.219824Z",
     "iopub.status.busy": "2025-07-30T13:56:17.219325Z",
     "iopub.status.idle": "2025-07-30T13:56:17.225041Z",
     "shell.execute_reply": "2025-07-30T13:56:17.224305Z"
    },
    "papermill": {
     "duration": 0.02771,
     "end_time": "2025-07-30T13:56:17.231942",
     "exception": false,
     "start_time": "2025-07-30T13:56:17.204232",
     "status": "completed"
    },
    "tags": []
   },
   "outputs": [
    {
     "data": {
      "text/plain": [
       "0.6799999999999999"
      ]
     },
     "execution_count": 52,
     "metadata": {},
     "output_type": "execute_result"
    }
   ],
   "source": [
    "q_hat"
   ]
  },
  {
   "cell_type": "code",
   "execution_count": 53,
   "id": "92460794-cdac-4be2-ba28-f28c0515a6fb",
   "metadata": {
    "execution": {
     "iopub.execute_input": "2025-07-30T13:56:17.286440Z",
     "iopub.status.busy": "2025-07-30T13:56:17.285954Z",
     "iopub.status.idle": "2025-07-30T13:56:18.922522Z",
     "shell.execute_reply": "2025-07-30T13:56:18.913645Z"
    },
    "papermill": {
     "duration": 1.666123,
     "end_time": "2025-07-30T13:56:18.924448",
     "exception": false,
     "start_time": "2025-07-30T13:56:17.258325",
     "status": "completed"
    },
    "tags": []
   },
   "outputs": [],
   "source": [
    "from fairness_multiverse.conformal import predict_conformal_sets\n",
    "\n",
    "# Generate prediction sets for each test example\n",
    "pred_sets = predict_conformal_sets(model, X_test, q_hat)"
   ]
  },
  {
   "cell_type": "code",
   "execution_count": 54,
   "id": "d90c9a65-e6db-4f5d-80cd-e68fb7e46829",
   "metadata": {
    "execution": {
     "iopub.execute_input": "2025-07-30T13:56:18.989325Z",
     "iopub.status.busy": "2025-07-30T13:56:18.983838Z",
     "iopub.status.idle": "2025-07-30T13:56:18.999287Z",
     "shell.execute_reply": "2025-07-30T13:56:18.993626Z"
    },
    "papermill": {
     "duration": 0.04687,
     "end_time": "2025-07-30T13:56:19.001658",
     "exception": false,
     "start_time": "2025-07-30T13:56:18.954788",
     "status": "completed"
    },
    "tags": []
   },
   "outputs": [],
   "source": [
    "y_true = y_true.squeeze()"
   ]
  },
  {
   "cell_type": "code",
   "execution_count": 55,
   "id": "3a58a54a-1e68-46b9-927a-df01f18aebc8",
   "metadata": {
    "execution": {
     "iopub.execute_input": "2025-07-30T13:56:19.057854Z",
     "iopub.status.busy": "2025-07-30T13:56:19.057361Z",
     "iopub.status.idle": "2025-07-30T13:56:19.996272Z",
     "shell.execute_reply": "2025-07-30T13:56:19.995103Z"
    },
    "papermill": {
     "duration": 0.966969,
     "end_time": "2025-07-30T13:56:19.998544",
     "exception": false,
     "start_time": "2025-07-30T13:56:19.031575",
     "status": "completed"
    },
    "tags": []
   },
   "outputs": [],
   "source": [
    "from fairness_multiverse.conformal import evaluate_sets\n",
    "\n",
    "# Evaluate coverage and average set size on test data\n",
    "metrics = evaluate_sets(pred_sets, y_true)"
   ]
  },
  {
   "cell_type": "markdown",
   "id": "2b569c12-9aaa-4c88-98c9-bbcd0cf3ebb8",
   "metadata": {
    "papermill": {
     "duration": 0.027683,
     "end_time": "2025-07-30T13:56:20.091019",
     "exception": false,
     "start_time": "2025-07-30T13:56:20.063336",
     "status": "completed"
    },
    "tags": []
   },
   "source": [
    "# CP Metrics"
   ]
  },
  {
   "cell_type": "code",
   "execution_count": 56,
   "id": "5ce0a5cb-201f-45a0-ade5-94c7f0bd6095",
   "metadata": {
    "execution": {
     "iopub.execute_input": "2025-07-30T13:56:20.158352Z",
     "iopub.status.busy": "2025-07-30T13:56:20.157849Z",
     "iopub.status.idle": "2025-07-30T13:56:20.166767Z",
     "shell.execute_reply": "2025-07-30T13:56:20.165650Z"
    },
    "papermill": {
     "duration": 0.052373,
     "end_time": "2025-07-30T13:56:20.168479",
     "exception": false,
     "start_time": "2025-07-30T13:56:20.116106",
     "status": "completed"
    },
    "tags": []
   },
   "outputs": [
    {
     "data": {
      "text/plain": [
       "{'coverage': 0.9152825771931781, 'avg_size': 1.1487682532605061}"
      ]
     },
     "execution_count": 56,
     "metadata": {},
     "output_type": "execute_result"
    }
   ],
   "source": [
    "metrics"
   ]
  },
  {
   "cell_type": "code",
   "execution_count": 57,
   "id": "9b9a838d-31c9-430b-ae14-12baee460d17",
   "metadata": {
    "execution": {
     "iopub.execute_input": "2025-07-30T13:56:20.246651Z",
     "iopub.status.busy": "2025-07-30T13:56:20.246108Z",
     "iopub.status.idle": "2025-07-30T13:56:20.254305Z",
     "shell.execute_reply": "2025-07-30T13:56:20.253036Z"
    },
    "papermill": {
     "duration": 0.050692,
     "end_time": "2025-07-30T13:56:20.255998",
     "exception": false,
     "start_time": "2025-07-30T13:56:20.205306",
     "status": "completed"
    },
    "tags": []
   },
   "outputs": [],
   "source": [
    "example_universe = universe.copy()\n",
    "universe_training_size = example_universe.get(\"training_size\")\n",
    "universe_scale = example_universe.get(\"scale\")\n",
    "universe_model = example_universe.get(\"model\")\n",
    "universe_exclude_features = example_universe.get(\"exclude_features\")\n",
    "universe_exclude_subgroups = example_universe.get(\"exclude_subgroups\")"
   ]
  },
  {
   "cell_type": "code",
   "execution_count": 58,
   "id": "f4b6a8ac-9dc0-4245-8a91-5b3b5999c4f9",
   "metadata": {
    "execution": {
     "iopub.execute_input": "2025-07-30T13:56:20.329782Z",
     "iopub.status.busy": "2025-07-30T13:56:20.329383Z",
     "iopub.status.idle": "2025-07-30T13:56:20.336079Z",
     "shell.execute_reply": "2025-07-30T13:56:20.335064Z"
    },
    "papermill": {
     "duration": 0.036708,
     "end_time": "2025-07-30T13:56:20.337912",
     "exception": false,
     "start_time": "2025-07-30T13:56:20.301204",
     "status": "completed"
    },
    "tags": []
   },
   "outputs": [],
   "source": [
    "cp_metrics_dict = {\n",
    "    \"universe_id\": [universe_id],\n",
    "    \"universe_training_size\": [universe_training_size],\n",
    "    \"universe_scale\": [universe_scale],\n",
    "    \"universe_model\": [universe_model],\n",
    "    \"universe_exclude_features\": [universe_exclude_features],\n",
    "    \"universe_exclude_subgroups\": [universe_exclude_subgroups],\n",
    "    \"q_hat\": [q_hat],\n",
    "    \"coverage\": [metrics[\"coverage\"]],\n",
    "    \"avg_size\": [metrics[\"avg_size\"]],\n",
    "}"
   ]
  },
  {
   "cell_type": "code",
   "execution_count": 59,
   "id": "908acbb1-0371-4915-85ca-3fa520d2efe2",
   "metadata": {
    "execution": {
     "iopub.execute_input": "2025-07-30T13:56:20.418998Z",
     "iopub.status.busy": "2025-07-30T13:56:20.418524Z",
     "iopub.status.idle": "2025-07-30T13:56:20.427200Z",
     "shell.execute_reply": "2025-07-30T13:56:20.426158Z"
    },
    "papermill": {
     "duration": 0.057353,
     "end_time": "2025-07-30T13:56:20.430396",
     "exception": false,
     "start_time": "2025-07-30T13:56:20.373043",
     "status": "completed"
    },
    "tags": []
   },
   "outputs": [
    {
     "data": {
      "text/plain": [
       "{'universe_id': ['75290d4162c67e6da61143cffb5cee39'],\n",
       " 'universe_training_size': ['5k'],\n",
       " 'universe_scale': ['scale'],\n",
       " 'universe_model': ['rf'],\n",
       " 'universe_exclude_features': ['nationality'],\n",
       " 'universe_exclude_subgroups': ['keep-all'],\n",
       " 'q_hat': [0.6799999999999999],\n",
       " 'coverage': [0.9152825771931781],\n",
       " 'avg_size': [1.1487682532605061]}"
      ]
     },
     "execution_count": 59,
     "metadata": {},
     "output_type": "execute_result"
    }
   ],
   "source": [
    "cp_metrics_dict"
   ]
  },
  {
   "cell_type": "code",
   "execution_count": 60,
   "id": "33007efc-14e9-4ec6-97ac-56a455c82265",
   "metadata": {
    "execution": {
     "iopub.execute_input": "2025-07-30T13:56:20.511029Z",
     "iopub.status.busy": "2025-07-30T13:56:20.510636Z",
     "iopub.status.idle": "2025-07-30T13:56:20.524504Z",
     "shell.execute_reply": "2025-07-30T13:56:20.523376Z"
    },
    "papermill": {
     "duration": 0.055232,
     "end_time": "2025-07-30T13:56:20.534455",
     "exception": false,
     "start_time": "2025-07-30T13:56:20.479223",
     "status": "completed"
    },
    "tags": []
   },
   "outputs": [],
   "source": [
    "cp_metrics_df = pd.DataFrame(cp_metrics_dict)"
   ]
  },
  {
   "cell_type": "code",
   "execution_count": 61,
   "id": "db12611b-57b2-4910-b9d0-355adfd6e7bf",
   "metadata": {
    "execution": {
     "iopub.execute_input": "2025-07-30T13:56:20.587884Z",
     "iopub.status.busy": "2025-07-30T13:56:20.587388Z",
     "iopub.status.idle": "2025-07-30T13:56:20.605501Z",
     "shell.execute_reply": "2025-07-30T13:56:20.604558Z"
    },
    "papermill": {
     "duration": 0.048864,
     "end_time": "2025-07-30T13:56:20.608314",
     "exception": false,
     "start_time": "2025-07-30T13:56:20.559450",
     "status": "completed"
    },
    "tags": []
   },
   "outputs": [
    {
     "data": {
      "text/html": [
       "<div>\n",
       "<style scoped>\n",
       "    .dataframe tbody tr th:only-of-type {\n",
       "        vertical-align: middle;\n",
       "    }\n",
       "\n",
       "    .dataframe tbody tr th {\n",
       "        vertical-align: top;\n",
       "    }\n",
       "\n",
       "    .dataframe thead th {\n",
       "        text-align: right;\n",
       "    }\n",
       "</style>\n",
       "<table border=\"1\" class=\"dataframe\">\n",
       "  <thead>\n",
       "    <tr style=\"text-align: right;\">\n",
       "      <th></th>\n",
       "      <th>universe_id</th>\n",
       "      <th>universe_training_size</th>\n",
       "      <th>universe_scale</th>\n",
       "      <th>universe_model</th>\n",
       "      <th>universe_exclude_features</th>\n",
       "      <th>universe_exclude_subgroups</th>\n",
       "      <th>q_hat</th>\n",
       "      <th>coverage</th>\n",
       "      <th>avg_size</th>\n",
       "    </tr>\n",
       "  </thead>\n",
       "  <tbody>\n",
       "    <tr>\n",
       "      <th>0</th>\n",
       "      <td>75290d4162c67e6da61143cffb5cee39</td>\n",
       "      <td>5k</td>\n",
       "      <td>scale</td>\n",
       "      <td>rf</td>\n",
       "      <td>nationality</td>\n",
       "      <td>keep-all</td>\n",
       "      <td>0.68</td>\n",
       "      <td>0.915283</td>\n",
       "      <td>1.148768</td>\n",
       "    </tr>\n",
       "  </tbody>\n",
       "</table>\n",
       "</div>"
      ],
      "text/plain": [
       "                        universe_id universe_training_size universe_scale  \\\n",
       "0  75290d4162c67e6da61143cffb5cee39                     5k          scale   \n",
       "\n",
       "  universe_model universe_exclude_features universe_exclude_subgroups  q_hat  \\\n",
       "0             rf               nationality                   keep-all   0.68   \n",
       "\n",
       "   coverage  avg_size  \n",
       "0  0.915283  1.148768  "
      ]
     },
     "execution_count": 61,
     "metadata": {},
     "output_type": "execute_result"
    }
   ],
   "source": [
    "cp_metrics_df"
   ]
  },
  {
   "cell_type": "code",
   "execution_count": 62,
   "id": "b7fbde55-a0a1-47e4-9af6-fe4a17fa8c61",
   "metadata": {
    "execution": {
     "iopub.execute_input": "2025-07-30T13:56:20.665246Z",
     "iopub.status.busy": "2025-07-30T13:56:20.664390Z",
     "iopub.status.idle": "2025-07-30T13:56:20.669615Z",
     "shell.execute_reply": "2025-07-30T13:56:20.668547Z"
    },
    "papermill": {
     "duration": 0.035135,
     "end_time": "2025-07-30T13:56:20.671306",
     "exception": false,
     "start_time": "2025-07-30T13:56:20.636171",
     "status": "completed"
    },
    "tags": []
   },
   "outputs": [],
   "source": [
    "# Conditional Coverage & looking at subgroups"
   ]
  },
  {
   "cell_type": "code",
   "execution_count": 63,
   "id": "027ae886-68dd-4141-96c7-805a5450e1ef",
   "metadata": {
    "execution": {
     "iopub.execute_input": "2025-07-30T13:56:20.729688Z",
     "iopub.status.busy": "2025-07-30T13:56:20.728587Z",
     "iopub.status.idle": "2025-07-30T13:56:21.016746Z",
     "shell.execute_reply": "2025-07-30T13:56:21.015652Z"
    },
    "papermill": {
     "duration": 0.31902,
     "end_time": "2025-07-30T13:56:21.018926",
     "exception": false,
     "start_time": "2025-07-30T13:56:20.699906",
     "status": "completed"
    },
    "tags": []
   },
   "outputs": [],
   "source": [
    "from fairness_multiverse.conformal import build_cp_groups\n",
    "\n",
    "cp_groups_df = build_cp_groups(pred_sets, y_true, X_test.index, org_test)\n",
    "#needs universe_id and setting"
   ]
  },
  {
   "cell_type": "code",
   "execution_count": 64,
   "id": "01d5802c-663a-4d1f-9d69-e036faaffbf7",
   "metadata": {
    "execution": {
     "iopub.execute_input": "2025-07-30T13:56:21.075962Z",
     "iopub.status.busy": "2025-07-30T13:56:21.075561Z",
     "iopub.status.idle": "2025-07-30T13:56:21.081045Z",
     "shell.execute_reply": "2025-07-30T13:56:21.079883Z"
    },
    "papermill": {
     "duration": 0.037485,
     "end_time": "2025-07-30T13:56:21.084654",
     "exception": false,
     "start_time": "2025-07-30T13:56:21.047169",
     "status": "completed"
    },
    "tags": []
   },
   "outputs": [],
   "source": [
    "#delete\n",
    "#cp_groups_df"
   ]
  },
  {
   "cell_type": "code",
   "execution_count": 65,
   "id": "fa424af1-d1eb-443d-b717-2d279ada8408",
   "metadata": {
    "execution": {
     "iopub.execute_input": "2025-07-30T13:56:21.155455Z",
     "iopub.status.busy": "2025-07-30T13:56:21.155026Z",
     "iopub.status.idle": "2025-07-30T13:56:21.160790Z",
     "shell.execute_reply": "2025-07-30T13:56:21.159599Z"
    },
    "papermill": {
     "duration": 0.049428,
     "end_time": "2025-07-30T13:56:21.164143",
     "exception": false,
     "start_time": "2025-07-30T13:56:21.114715",
     "status": "completed"
    },
    "tags": []
   },
   "outputs": [],
   "source": [
    "#delete\n",
    "#percentage = (cp_groups_df['nongerman_female'] == 1).mean() * 100\n",
    "#print(percentage)\n"
   ]
  },
  {
   "cell_type": "code",
   "execution_count": 66,
   "id": "6cbdab96-b2b2-45af-ad54-d0516db2e28d",
   "metadata": {
    "execution": {
     "iopub.execute_input": "2025-07-30T13:56:21.278979Z",
     "iopub.status.busy": "2025-07-30T13:56:21.278557Z",
     "iopub.status.idle": "2025-07-30T13:56:23.008063Z",
     "shell.execute_reply": "2025-07-30T13:56:23.007008Z"
    },
    "papermill": {
     "duration": 1.784462,
     "end_time": "2025-07-30T13:56:23.010237",
     "exception": false,
     "start_time": "2025-07-30T13:56:21.225775",
     "status": "completed"
    },
    "tags": []
   },
   "outputs": [],
   "source": [
    "# Define covered = 1 if true_label is in the predicted set\n",
    "cp_groups_df['covered'] = cp_groups_df.apply(\n",
    "    lambda r: int(r['true_label'] in r['pred_set']),\n",
    "    axis=1\n",
    ")"
   ]
  },
  {
   "cell_type": "code",
   "execution_count": 67,
   "id": "338ff529-1a6b-4b87-a931-8e4788d52aad",
   "metadata": {
    "execution": {
     "iopub.execute_input": "2025-07-30T13:56:23.069479Z",
     "iopub.status.busy": "2025-07-30T13:56:23.068577Z",
     "iopub.status.idle": "2025-07-30T13:56:23.074107Z",
     "shell.execute_reply": "2025-07-30T13:56:23.073007Z"
    },
    "papermill": {
     "duration": 0.036514,
     "end_time": "2025-07-30T13:56:23.076554",
     "exception": false,
     "start_time": "2025-07-30T13:56:23.040040",
     "status": "completed"
    },
    "tags": []
   },
   "outputs": [],
   "source": [
    "#cp_groups_df"
   ]
  },
  {
   "cell_type": "code",
   "execution_count": 68,
   "id": "90032e27-66df-4540-9169-4e89cfbaa758",
   "metadata": {
    "execution": {
     "iopub.execute_input": "2025-07-30T13:56:23.135372Z",
     "iopub.status.busy": "2025-07-30T13:56:23.134934Z",
     "iopub.status.idle": "2025-07-30T13:56:23.148556Z",
     "shell.execute_reply": "2025-07-30T13:56:23.147246Z"
    },
    "papermill": {
     "duration": 0.045668,
     "end_time": "2025-07-30T13:56:23.152117",
     "exception": false,
     "start_time": "2025-07-30T13:56:23.106449",
     "status": "completed"
    },
    "tags": []
   },
   "outputs": [],
   "source": [
    "subgroups = ['frau1','nongerman','nongerman_male','nongerman_female']\n",
    "\n",
    "# Conditional coverage for subgroup==1\n",
    "cond_coverage = {\n",
    "    g: cp_groups_df.loc[cp_groups_df[g]==1, 'covered'].mean()\n",
    "    for g in subgroups\n",
    "}"
   ]
  },
  {
   "cell_type": "code",
   "execution_count": 69,
   "id": "1e348fb1-b9c3-45bc-ba23-f016827a7e0d",
   "metadata": {
    "execution": {
     "iopub.execute_input": "2025-07-30T13:56:23.210066Z",
     "iopub.status.busy": "2025-07-30T13:56:23.209287Z",
     "iopub.status.idle": "2025-07-30T13:56:23.216689Z",
     "shell.execute_reply": "2025-07-30T13:56:23.215484Z"
    },
    "papermill": {
     "duration": 0.040677,
     "end_time": "2025-07-30T13:56:23.221720",
     "exception": false,
     "start_time": "2025-07-30T13:56:23.181043",
     "status": "completed"
    },
    "tags": []
   },
   "outputs": [
    {
     "data": {
      "text/plain": [
       "{'frau1': 0.9104191939614503,\n",
       " 'nongerman': 0.9069780497389547,\n",
       " 'nongerman_male': 0.9238043771953526,\n",
       " 'nongerman_female': 0.8791356184798808}"
      ]
     },
     "execution_count": 69,
     "metadata": {},
     "output_type": "execute_result"
    }
   ],
   "source": [
    "cond_coverage"
   ]
  },
  {
   "cell_type": "code",
   "execution_count": 70,
   "id": "f5093324-c3dd-4d63-bc4c-8d945e5c8bbb",
   "metadata": {
    "execution": {
     "iopub.execute_input": "2025-07-30T13:56:23.297040Z",
     "iopub.status.busy": "2025-07-30T13:56:23.296271Z",
     "iopub.status.idle": "2025-07-30T13:56:23.305567Z",
     "shell.execute_reply": "2025-07-30T13:56:23.304443Z"
    },
    "papermill": {
     "duration": 0.049207,
     "end_time": "2025-07-30T13:56:23.308200",
     "exception": false,
     "start_time": "2025-07-30T13:56:23.258993",
     "status": "completed"
    },
    "tags": []
   },
   "outputs": [],
   "source": [
    "for subgroup, cov in cond_coverage.items():\n",
    "    cp_metrics_df[f\"cov_{subgroup}\"] = cov"
   ]
  },
  {
   "cell_type": "code",
   "execution_count": 71,
   "id": "6e872e10-dbe5-49e8-b554-5030c98ff75d",
   "metadata": {
    "execution": {
     "iopub.execute_input": "2025-07-30T13:56:23.366573Z",
     "iopub.status.busy": "2025-07-30T13:56:23.365611Z",
     "iopub.status.idle": "2025-07-30T13:56:23.386512Z",
     "shell.execute_reply": "2025-07-30T13:56:23.385458Z"
    },
    "papermill": {
     "duration": 0.05213,
     "end_time": "2025-07-30T13:56:23.388133",
     "exception": false,
     "start_time": "2025-07-30T13:56:23.336003",
     "status": "completed"
    },
    "tags": []
   },
   "outputs": [
    {
     "data": {
      "text/html": [
       "<div>\n",
       "<style scoped>\n",
       "    .dataframe tbody tr th:only-of-type {\n",
       "        vertical-align: middle;\n",
       "    }\n",
       "\n",
       "    .dataframe tbody tr th {\n",
       "        vertical-align: top;\n",
       "    }\n",
       "\n",
       "    .dataframe thead th {\n",
       "        text-align: right;\n",
       "    }\n",
       "</style>\n",
       "<table border=\"1\" class=\"dataframe\">\n",
       "  <thead>\n",
       "    <tr style=\"text-align: right;\">\n",
       "      <th></th>\n",
       "      <th>universe_id</th>\n",
       "      <th>universe_training_size</th>\n",
       "      <th>universe_scale</th>\n",
       "      <th>universe_model</th>\n",
       "      <th>universe_exclude_features</th>\n",
       "      <th>universe_exclude_subgroups</th>\n",
       "      <th>q_hat</th>\n",
       "      <th>coverage</th>\n",
       "      <th>avg_size</th>\n",
       "      <th>cov_frau1</th>\n",
       "      <th>cov_nongerman</th>\n",
       "      <th>cov_nongerman_male</th>\n",
       "      <th>cov_nongerman_female</th>\n",
       "    </tr>\n",
       "  </thead>\n",
       "  <tbody>\n",
       "    <tr>\n",
       "      <th>0</th>\n",
       "      <td>75290d4162c67e6da61143cffb5cee39</td>\n",
       "      <td>5k</td>\n",
       "      <td>scale</td>\n",
       "      <td>rf</td>\n",
       "      <td>nationality</td>\n",
       "      <td>keep-all</td>\n",
       "      <td>0.68</td>\n",
       "      <td>0.915283</td>\n",
       "      <td>1.148768</td>\n",
       "      <td>0.910419</td>\n",
       "      <td>0.906978</td>\n",
       "      <td>0.923804</td>\n",
       "      <td>0.879136</td>\n",
       "    </tr>\n",
       "  </tbody>\n",
       "</table>\n",
       "</div>"
      ],
      "text/plain": [
       "                        universe_id universe_training_size universe_scale  \\\n",
       "0  75290d4162c67e6da61143cffb5cee39                     5k          scale   \n",
       "\n",
       "  universe_model universe_exclude_features universe_exclude_subgroups  q_hat  \\\n",
       "0             rf               nationality                   keep-all   0.68   \n",
       "\n",
       "   coverage  avg_size  cov_frau1  cov_nongerman  cov_nongerman_male  \\\n",
       "0  0.915283  1.148768   0.910419       0.906978            0.923804   \n",
       "\n",
       "   cov_nongerman_female  \n",
       "0              0.879136  "
      ]
     },
     "execution_count": 71,
     "metadata": {},
     "output_type": "execute_result"
    }
   ],
   "source": [
    "cp_metrics_df"
   ]
  },
  {
   "cell_type": "markdown",
   "id": "33774451",
   "metadata": {
    "papermill": {
     "duration": 0.029889,
     "end_time": "2025-07-30T13:56:23.446912",
     "exception": false,
     "start_time": "2025-07-30T13:56:23.417023",
     "status": "completed"
    },
    "tags": []
   },
   "source": [
    "# (Fairness) Metrics"
   ]
  },
  {
   "cell_type": "code",
   "execution_count": 72,
   "id": "debc5d62",
   "metadata": {
    "execution": {
     "iopub.execute_input": "2025-07-30T13:56:23.505667Z",
     "iopub.status.busy": "2025-07-30T13:56:23.505030Z",
     "iopub.status.idle": "2025-07-30T13:56:23.529421Z",
     "shell.execute_reply": "2025-07-30T13:56:23.528295Z"
    },
    "papermill": {
     "duration": 0.056692,
     "end_time": "2025-07-30T13:56:23.531863",
     "exception": false,
     "start_time": "2025-07-30T13:56:23.475171",
     "status": "completed"
    },
    "tags": []
   },
   "outputs": [],
   "source": [
    "# do I need to include maxdeutsch1.missing?\n",
    "\n",
    "import numpy as np\n",
    "\n",
    "colname_to_bin = \"maxdeutsch1\"\n",
    "majority_value = org_train[colname_to_bin].mode()[0]\n",
    "\n",
    "org_test[\"majmin\"] = np.where(org_test[colname_to_bin] == majority_value, \"majority\", \"minority\")"
   ]
  },
  {
   "cell_type": "code",
   "execution_count": 73,
   "id": "06a50de5",
   "metadata": {
    "execution": {
     "iopub.execute_input": "2025-07-30T13:56:23.609808Z",
     "iopub.status.busy": "2025-07-30T13:56:23.609312Z",
     "iopub.status.idle": "2025-07-30T13:56:26.574952Z",
     "shell.execute_reply": "2025-07-30T13:56:26.573891Z"
    },
    "papermill": {
     "duration": 3.006902,
     "end_time": "2025-07-30T13:56:26.576957",
     "exception": false,
     "start_time": "2025-07-30T13:56:23.570055",
     "status": "completed"
    },
    "tags": []
   },
   "outputs": [],
   "source": [
    "example_universe = universe.copy()\n",
    "example_universe[\"cutoff\"] = example_universe[\"cutoff\"][0]\n",
    "example_universe[\"eval_fairness_grouping\"] = example_universe[\"eval_fairness_grouping\"][0]\n",
    "fairness_dict, metric_frame = universe_analysis.compute_metrics(\n",
    "    example_universe,\n",
    "    y_pred_prob=probs_test,\n",
    "    y_test=y_true,\n",
    "    org_test=org_test,\n",
    ")"
   ]
  },
  {
   "cell_type": "markdown",
   "id": "f95d4e02",
   "metadata": {
    "papermill": {
     "duration": 0.035687,
     "end_time": "2025-07-30T13:56:26.647472",
     "exception": false,
     "start_time": "2025-07-30T13:56:26.611785",
     "status": "completed"
    },
    "tags": []
   },
   "source": [
    "# Overall"
   ]
  },
  {
   "cell_type": "markdown",
   "id": "bdee4871",
   "metadata": {
    "papermill": {
     "duration": 0.048112,
     "end_time": "2025-07-30T13:56:26.748514",
     "exception": false,
     "start_time": "2025-07-30T13:56:26.700402",
     "status": "completed"
    },
    "tags": []
   },
   "source": [
    "Fairness\n",
    "Main fairness target: Equalized Odds. Seems to be a better fit than equal opportunity, since we're not only interested in Y = 1. Seems to be a better fit than demographic parity, since we also care about accuracy, not just equal distribution of preds.\n",
    "\n",
    "Pick column for computation of fairness metrics\n",
    "\n",
    "Performance\n",
    "Overall performance measures, most interesting in relation to the measures split by group below"
   ]
  },
  {
   "cell_type": "code",
   "execution_count": 74,
   "id": "c4e067c6",
   "metadata": {
    "execution": {
     "iopub.execute_input": "2025-07-30T13:56:26.847326Z",
     "iopub.status.busy": "2025-07-30T13:56:26.846920Z",
     "iopub.status.idle": "2025-07-30T13:56:26.855948Z",
     "shell.execute_reply": "2025-07-30T13:56:26.854933Z"
    },
    "papermill": {
     "duration": 0.049444,
     "end_time": "2025-07-30T13:56:26.857511",
     "exception": false,
     "start_time": "2025-07-30T13:56:26.808067",
     "status": "completed"
    },
    "tags": []
   },
   "outputs": [
    {
     "data": {
      "text/plain": [
       "accuracy                   0.199053\n",
       "balanced accuracy          0.533109\n",
       "f1                         0.239369\n",
       "precision                  0.136287\n",
       "false positive rate        0.916230\n",
       "false negative rate        0.017553\n",
       "selection rate             0.924724\n",
       "count                  89710.000000\n",
       "dtype: float64"
      ]
     },
     "execution_count": 74,
     "metadata": {},
     "output_type": "execute_result"
    }
   ],
   "source": [
    "metric_frame.overall"
   ]
  },
  {
   "cell_type": "markdown",
   "id": "e968fe9d",
   "metadata": {
    "papermill": {
     "duration": 0.034725,
     "end_time": "2025-07-30T13:56:26.927135",
     "exception": false,
     "start_time": "2025-07-30T13:56:26.892410",
     "status": "completed"
    },
    "tags": []
   },
   "source": [
    "By Group"
   ]
  },
  {
   "cell_type": "code",
   "execution_count": 75,
   "id": "ec325bce",
   "metadata": {
    "execution": {
     "iopub.execute_input": "2025-07-30T13:56:27.020432Z",
     "iopub.status.busy": "2025-07-30T13:56:27.019956Z",
     "iopub.status.idle": "2025-07-30T13:56:27.055086Z",
     "shell.execute_reply": "2025-07-30T13:56:27.053935Z"
    },
    "papermill": {
     "duration": 0.069514,
     "end_time": "2025-07-30T13:56:27.057529",
     "exception": false,
     "start_time": "2025-07-30T13:56:26.988015",
     "status": "completed"
    },
    "tags": []
   },
   "outputs": [
    {
     "data": {
      "text/html": [
       "<div>\n",
       "<style scoped>\n",
       "    .dataframe tbody tr th:only-of-type {\n",
       "        vertical-align: middle;\n",
       "    }\n",
       "\n",
       "    .dataframe tbody tr th {\n",
       "        vertical-align: top;\n",
       "    }\n",
       "\n",
       "    .dataframe thead th {\n",
       "        text-align: right;\n",
       "    }\n",
       "</style>\n",
       "<table border=\"1\" class=\"dataframe\">\n",
       "  <thead>\n",
       "    <tr style=\"text-align: right;\">\n",
       "      <th></th>\n",
       "      <th>accuracy</th>\n",
       "      <th>balanced accuracy</th>\n",
       "      <th>f1</th>\n",
       "      <th>precision</th>\n",
       "      <th>false positive rate</th>\n",
       "      <th>false negative rate</th>\n",
       "      <th>selection rate</th>\n",
       "      <th>count</th>\n",
       "    </tr>\n",
       "    <tr>\n",
       "      <th>majmin</th>\n",
       "      <th></th>\n",
       "      <th></th>\n",
       "      <th></th>\n",
       "      <th></th>\n",
       "      <th></th>\n",
       "      <th></th>\n",
       "      <th></th>\n",
       "      <th></th>\n",
       "    </tr>\n",
       "  </thead>\n",
       "  <tbody>\n",
       "    <tr>\n",
       "      <th>majority</th>\n",
       "      <td>0.199653</td>\n",
       "      <td>0.534863</td>\n",
       "      <td>0.246454</td>\n",
       "      <td>0.140736</td>\n",
       "      <td>0.920756</td>\n",
       "      <td>0.009519</td>\n",
       "      <td>0.929970</td>\n",
       "      <td>69170.0</td>\n",
       "    </tr>\n",
       "    <tr>\n",
       "      <th>minority</th>\n",
       "      <td>0.197030</td>\n",
       "      <td>0.525080</td>\n",
       "      <td>0.214582</td>\n",
       "      <td>0.120927</td>\n",
       "      <td>0.901277</td>\n",
       "      <td>0.048564</td>\n",
       "      <td>0.907059</td>\n",
       "      <td>20540.0</td>\n",
       "    </tr>\n",
       "  </tbody>\n",
       "</table>\n",
       "</div>"
      ],
      "text/plain": [
       "          accuracy  balanced accuracy        f1  precision  \\\n",
       "majmin                                                       \n",
       "majority  0.199653           0.534863  0.246454   0.140736   \n",
       "minority  0.197030           0.525080  0.214582   0.120927   \n",
       "\n",
       "          false positive rate  false negative rate  selection rate    count  \n",
       "majmin                                                                       \n",
       "majority             0.920756             0.009519        0.929970  69170.0  \n",
       "minority             0.901277             0.048564        0.907059  20540.0  "
      ]
     },
     "execution_count": 75,
     "metadata": {},
     "output_type": "execute_result"
    }
   ],
   "source": [
    "metric_frame.by_group"
   ]
  },
  {
   "cell_type": "code",
   "execution_count": 76,
   "id": "a9ddbe63",
   "metadata": {
    "execution": {
     "iopub.execute_input": "2025-07-30T13:56:27.117519Z",
     "iopub.status.busy": "2025-07-30T13:56:27.117101Z",
     "iopub.status.idle": "2025-07-30T13:56:30.068371Z",
     "shell.execute_reply": "2025-07-30T13:56:30.067430Z"
    },
    "papermill": {
     "duration": 2.983159,
     "end_time": "2025-07-30T13:56:30.070527",
     "exception": false,
     "start_time": "2025-07-30T13:56:27.087368",
     "status": "completed"
    },
    "tags": []
   },
   "outputs": [
    {
     "data": {
      "text/plain": [
       "array([[<Axes: title={'center': 'accuracy'}, xlabel='majmin'>,\n",
       "        <Axes: title={'center': 'balanced accuracy'}, xlabel='majmin'>,\n",
       "        <Axes: title={'center': 'f1'}, xlabel='majmin'>],\n",
       "       [<Axes: title={'center': 'precision'}, xlabel='majmin'>,\n",
       "        <Axes: title={'center': 'false positive rate'}, xlabel='majmin'>,\n",
       "        <Axes: title={'center': 'false negative rate'}, xlabel='majmin'>],\n",
       "       [<Axes: title={'center': 'selection rate'}, xlabel='majmin'>,\n",
       "        <Axes: title={'center': 'count'}, xlabel='majmin'>,\n",
       "        <Axes: xlabel='majmin'>]], dtype=object)"
      ]
     },
     "execution_count": 76,
     "metadata": {},
     "output_type": "execute_result"
    },
    {
     "data": {
      "image/png": "[encoded data removed]",
      "text/plain": [
       "<Figure size 1200x800 with 9 Axes>"
      ]
     },
     "metadata": {},
     "output_type": "display_data"
    }
   ],
   "source": [
    "# In a graphic\n",
    "metric_frame.by_group.plot.bar(\n",
    "    subplots=True,\n",
    "    layout=[3, 3],\n",
    "    legend=False,\n",
    "    figsize=[12, 8],\n",
    "    title=\"Show all metrics\",\n",
    ")"
   ]
  },
  {
   "cell_type": "markdown",
   "id": "f57a0bac",
   "metadata": {
    "papermill": {
     "duration": 0.029626,
     "end_time": "2025-07-30T13:56:30.128850",
     "exception": false,
     "start_time": "2025-07-30T13:56:30.099224",
     "status": "completed"
    },
    "tags": []
   },
   "source": [
    "# Final Output"
   ]
  },
  {
   "cell_type": "code",
   "execution_count": 77,
   "id": "96d280a3",
   "metadata": {
    "execution": {
     "iopub.execute_input": "2025-07-30T13:56:30.339647Z",
     "iopub.status.busy": "2025-07-30T13:56:30.338975Z",
     "iopub.status.idle": "2025-07-30T13:56:30.350145Z",
     "shell.execute_reply": "2025-07-30T13:56:30.348827Z"
    },
    "papermill": {
     "duration": 0.167235,
     "end_time": "2025-07-30T13:56:30.352111",
     "exception": false,
     "start_time": "2025-07-30T13:56:30.184876",
     "status": "completed"
    },
    "tags": []
   },
   "outputs": [
    {
     "data": {
      "text/plain": [
       "4"
      ]
     },
     "execution_count": 77,
     "metadata": {},
     "output_type": "execute_result"
    }
   ],
   "source": [
    "sub_universes = universe_analysis.generate_sub_universes()\n",
    "len(sub_universes)"
   ]
  },
  {
   "cell_type": "code",
   "execution_count": 78,
   "id": "92adf7ba",
   "metadata": {
    "execution": {
     "iopub.execute_input": "2025-07-30T13:56:30.480086Z",
     "iopub.status.busy": "2025-07-30T13:56:30.479656Z",
     "iopub.status.idle": "2025-07-30T13:56:30.486262Z",
     "shell.execute_reply": "2025-07-30T13:56:30.485179Z"
    },
    "papermill": {
     "duration": 0.085884,
     "end_time": "2025-07-30T13:56:30.495500",
     "exception": false,
     "start_time": "2025-07-30T13:56:30.409616",
     "status": "completed"
    },
    "tags": []
   },
   "outputs": [],
   "source": [
    "def filter_sub_universe_data(sub_universe, org_test):\n",
    "    # Keep all rows — no filtering\n",
    "    keep_rows_mask = np.ones(org_test.shape[0], dtype=bool)\n",
    "\n",
    "    print(f\"[INFO] Keeping all rows: {keep_rows_mask.sum()} rows retained.\")\n",
    "    return keep_rows_mask"
   ]
  },
  {
   "cell_type": "code",
   "execution_count": 79,
   "id": "4a759155",
   "metadata": {
    "execution": {
     "iopub.execute_input": "2025-07-30T13:56:30.626851Z",
     "iopub.status.busy": "2025-07-30T13:56:30.626445Z",
     "iopub.status.idle": "2025-07-30T13:56:42.925506Z",
     "shell.execute_reply": "2025-07-30T13:56:42.924089Z"
    },
    "papermill": {
     "duration": 12.351157,
     "end_time": "2025-07-30T13:56:42.927318",
     "exception": false,
     "start_time": "2025-07-30T13:56:30.576161",
     "status": "completed"
    },
    "tags": []
   },
   "outputs": [
    {
     "name": "stdout",
     "output_type": "stream",
     "text": [
      "Stopping execution_time clock.\n",
      "[INFO] Keeping all rows: 89710 rows retained.\n"
     ]
    },
    {
     "name": "stdout",
     "output_type": "stream",
     "text": [
      "[INFO] Keeping all rows: 89710 rows retained.\n"
     ]
    },
    {
     "name": "stdout",
     "output_type": "stream",
     "text": [
      "[INFO] Keeping all rows: 89710 rows retained.\n"
     ]
    },
    {
     "name": "stdout",
     "output_type": "stream",
     "text": [
      "[INFO] Keeping all rows: 89710 rows retained.\n"
     ]
    },
    {
     "data": {
      "text/html": [
       "<div>\n",
       "<style scoped>\n",
       "    .dataframe tbody tr th:only-of-type {\n",
       "        vertical-align: middle;\n",
       "    }\n",
       "\n",
       "    .dataframe tbody tr th {\n",
       "        vertical-align: top;\n",
       "    }\n",
       "\n",
       "    .dataframe thead th {\n",
       "        text-align: right;\n",
       "    }\n",
       "</style>\n",
       "<table border=\"1\" class=\"dataframe\">\n",
       "  <thead>\n",
       "    <tr style=\"text-align: right;\">\n",
       "      <th></th>\n",
       "      <th>run_no</th>\n",
       "      <th>universe_id</th>\n",
       "      <th>universe_settings</th>\n",
       "      <th>execution_time</th>\n",
       "      <th>test_size_n</th>\n",
       "      <th>test_size_frac</th>\n",
       "      <th>fair_main_equalized_odds_difference</th>\n",
       "      <th>fair_main_equalized_odds_ratio</th>\n",
       "      <th>fair_main_demographic_parity_difference</th>\n",
       "      <th>fair_main_demographic_parity_ratio</th>\n",
       "      <th>...</th>\n",
       "      <th>perf_grp_precision_0</th>\n",
       "      <th>perf_grp_precision_1</th>\n",
       "      <th>perf_grp_false positive rate_0</th>\n",
       "      <th>perf_grp_false positive rate_1</th>\n",
       "      <th>perf_grp_false negative rate_0</th>\n",
       "      <th>perf_grp_false negative rate_1</th>\n",
       "      <th>perf_grp_selection rate_0</th>\n",
       "      <th>perf_grp_selection rate_1</th>\n",
       "      <th>perf_grp_count_0</th>\n",
       "      <th>perf_grp_count_1</th>\n",
       "    </tr>\n",
       "  </thead>\n",
       "  <tbody>\n",
       "    <tr>\n",
       "      <th>0</th>\n",
       "      <td>12</td>\n",
       "      <td>75290d4162c67e6da61143cffb5cee39</td>\n",
       "      <td>{\"cutoff\": \"quantile_0.1\", \"eval_fairness_grou...</td>\n",
       "      <td>33.081761</td>\n",
       "      <td>89710</td>\n",
       "      <td>1.0</td>\n",
       "      <td>0.039046</td>\n",
       "      <td>0.960579</td>\n",
       "      <td>0.022910</td>\n",
       "      <td>0.975365</td>\n",
       "      <td>...</td>\n",
       "      <td>NaN</td>\n",
       "      <td>NaN</td>\n",
       "      <td>NaN</td>\n",
       "      <td>NaN</td>\n",
       "      <td>NaN</td>\n",
       "      <td>NaN</td>\n",
       "      <td>NaN</td>\n",
       "      <td>NaN</td>\n",
       "      <td>NaN</td>\n",
       "      <td>NaN</td>\n",
       "    </tr>\n",
       "    <tr>\n",
       "      <th>0</th>\n",
       "      <td>12</td>\n",
       "      <td>75290d4162c67e6da61143cffb5cee39</td>\n",
       "      <td>{\"cutoff\": \"quantile_0.1\", \"eval_fairness_grou...</td>\n",
       "      <td>33.081761</td>\n",
       "      <td>89710</td>\n",
       "      <td>1.0</td>\n",
       "      <td>0.039046</td>\n",
       "      <td>0.960579</td>\n",
       "      <td>0.022910</td>\n",
       "      <td>0.975365</td>\n",
       "      <td>...</td>\n",
       "      <td>0.120927</td>\n",
       "      <td>0.140736</td>\n",
       "      <td>0.901277</td>\n",
       "      <td>0.920756</td>\n",
       "      <td>0.048564</td>\n",
       "      <td>0.009519</td>\n",
       "      <td>0.907059</td>\n",
       "      <td>0.929970</td>\n",
       "      <td>20540.0</td>\n",
       "      <td>69170.0</td>\n",
       "    </tr>\n",
       "    <tr>\n",
       "      <th>0</th>\n",
       "      <td>12</td>\n",
       "      <td>75290d4162c67e6da61143cffb5cee39</td>\n",
       "      <td>{\"cutoff\": \"quantile_0.25\", \"eval_fairness_gro...</td>\n",
       "      <td>33.081761</td>\n",
       "      <td>89710</td>\n",
       "      <td>1.0</td>\n",
       "      <td>0.090205</td>\n",
       "      <td>0.904751</td>\n",
       "      <td>0.050825</td>\n",
       "      <td>0.934069</td>\n",
       "      <td>...</td>\n",
       "      <td>NaN</td>\n",
       "      <td>NaN</td>\n",
       "      <td>NaN</td>\n",
       "      <td>NaN</td>\n",
       "      <td>NaN</td>\n",
       "      <td>NaN</td>\n",
       "      <td>NaN</td>\n",
       "      <td>NaN</td>\n",
       "      <td>NaN</td>\n",
       "      <td>NaN</td>\n",
       "    </tr>\n",
       "    <tr>\n",
       "      <th>0</th>\n",
       "      <td>12</td>\n",
       "      <td>75290d4162c67e6da61143cffb5cee39</td>\n",
       "      <td>{\"cutoff\": \"quantile_0.25\", \"eval_fairness_gro...</td>\n",
       "      <td>33.081761</td>\n",
       "      <td>89710</td>\n",
       "      <td>1.0</td>\n",
       "      <td>0.090205</td>\n",
       "      <td>0.904751</td>\n",
       "      <td>0.050825</td>\n",
       "      <td>0.934069</td>\n",
       "      <td>...</td>\n",
       "      <td>0.137187</td>\n",
       "      <td>0.162334</td>\n",
       "      <td>0.702234</td>\n",
       "      <td>0.744061</td>\n",
       "      <td>0.143159</td>\n",
       "      <td>0.052954</td>\n",
       "      <td>0.720058</td>\n",
       "      <td>0.770883</td>\n",
       "      <td>20540.0</td>\n",
       "      <td>69170.0</td>\n",
       "    </tr>\n",
       "  </tbody>\n",
       "</table>\n",
       "<p>4 rows × 50 columns</p>\n",
       "</div>"
      ],
      "text/plain": [
       "  run_no                       universe_id  \\\n",
       "0     12  75290d4162c67e6da61143cffb5cee39   \n",
       "0     12  75290d4162c67e6da61143cffb5cee39   \n",
       "0     12  75290d4162c67e6da61143cffb5cee39   \n",
       "0     12  75290d4162c67e6da61143cffb5cee39   \n",
       "\n",
       "                                   universe_settings  execution_time  \\\n",
       "0  {\"cutoff\": \"quantile_0.1\", \"eval_fairness_grou...       33.081761   \n",
       "0  {\"cutoff\": \"quantile_0.1\", \"eval_fairness_grou...       33.081761   \n",
       "0  {\"cutoff\": \"quantile_0.25\", \"eval_fairness_gro...       33.081761   \n",
       "0  {\"cutoff\": \"quantile_0.25\", \"eval_fairness_gro...       33.081761   \n",
       "\n",
       "   test_size_n  test_size_frac  fair_main_equalized_odds_difference  \\\n",
       "0        89710             1.0                             0.039046   \n",
       "0        89710             1.0                             0.039046   \n",
       "0        89710             1.0                             0.090205   \n",
       "0        89710             1.0                             0.090205   \n",
       "\n",
       "   fair_main_equalized_odds_ratio  fair_main_demographic_parity_difference  \\\n",
       "0                        0.960579                                 0.022910   \n",
       "0                        0.960579                                 0.022910   \n",
       "0                        0.904751                                 0.050825   \n",
       "0                        0.904751                                 0.050825   \n",
       "\n",
       "   fair_main_demographic_parity_ratio  ...  perf_grp_precision_0  \\\n",
       "0                            0.975365  ...                   NaN   \n",
       "0                            0.975365  ...              0.120927   \n",
       "0                            0.934069  ...                   NaN   \n",
       "0                            0.934069  ...              0.137187   \n",
       "\n",
       "   perf_grp_precision_1  perf_grp_false positive rate_0  \\\n",
       "0                   NaN                             NaN   \n",
       "0              0.140736                        0.901277   \n",
       "0                   NaN                             NaN   \n",
       "0              0.162334                        0.702234   \n",
       "\n",
       "   perf_grp_false positive rate_1  perf_grp_false negative rate_0  \\\n",
       "0                             NaN                             NaN   \n",
       "0                        0.920756                        0.048564   \n",
       "0                             NaN                             NaN   \n",
       "0                        0.744061                        0.143159   \n",
       "\n",
       "   perf_grp_false negative rate_1  perf_grp_selection rate_0  \\\n",
       "0                             NaN                        NaN   \n",
       "0                        0.009519                   0.907059   \n",
       "0                             NaN                        NaN   \n",
       "0                        0.052954                   0.720058   \n",
       "\n",
       "   perf_grp_selection rate_1  perf_grp_count_0  perf_grp_count_1  \n",
       "0                        NaN               NaN               NaN  \n",
       "0                   0.929970           20540.0           69170.0  \n",
       "0                        NaN               NaN               NaN  \n",
       "0                   0.770883           20540.0           69170.0  \n",
       "\n",
       "[4 rows x 50 columns]"
      ]
     },
     "execution_count": 79,
     "metadata": {},
     "output_type": "execute_result"
    }
   ],
   "source": [
    "final_output = universe_analysis.generate_final_output(\n",
    "    y_pred_prob=probs_test,\n",
    "    y_test=y_true,\n",
    "    org_test=org_test,\n",
    "    filter_data=filter_sub_universe_data,\n",
    "    cp_metrics_df=cp_metrics_df,\n",
    "    save=True,\n",
    ")\n",
    "final_output"
   ]
  },
  {
   "cell_type": "code",
   "execution_count": null,
   "id": "721ff514-cb11-46f8-b6fc-50392f74b5cb",
   "metadata": {
    "papermill": {
     "duration": 0.069692,
     "end_time": "2025-07-30T13:56:43.045188",
     "exception": false,
     "start_time": "2025-07-30T13:56:42.975496",
     "status": "completed"
    },
    "tags": []
   },
   "outputs": [],
   "source": []
  }
 ],
 "metadata": {
  "celltoolbar": "Tags",
  "kernelspec": {
   "display_name": "Python (CMA Fairness)",
   "language": "python",
   "name": "cma_fair_env"
  },
  "language_info": {
   "codemirror_mode": {
    "name": "ipython",
    "version": 3
   },
   "file_extension": ".py",
   "mimetype": "text/x-python",
   "name": "python",
   "nbconvert_exporter": "python",
   "pygments_lexer": "ipython3",
   "version": "3.10.12"
  },
  "papermill": {
   "default_parameters": {},
   "duration": 50.716405,
   "end_time": "2025-07-30T13:56:43.943410",
   "environment_variables": {},
   "exception": null,
   "input_path": "universe_analysis.ipynb",
   "output_path": "output/runs/12/notebooks/m_12-75290d4162c67e6da61143cffb5cee39.ipynb",
   "parameters": {
    "output_dir": "output",
    "run_no": "12",
    "seed": "2023",
    "universe": "{\"cutoff\": [\"quantile_0.1\", \"quantile_0.25\"], \"eval_fairness_grouping\": [\"majority-minority\", \"nationality-all\"], \"exclude_features\": \"nationality\", \"exclude_subgroups\": \"keep-all\", \"model\": \"rf\", \"scale\": \"scale\", \"training_size\": \"5k\", \"training_year\": \"2012_14\"}",
    "universe_id": "75290d4162c67e6da61143cffb5cee39"
   },
   "start_time": "2025-07-30T13:55:53.227005",
   "version": "2.6.0"
  }
 },
 "nbformat": 4,
 "nbformat_minor": 5
}