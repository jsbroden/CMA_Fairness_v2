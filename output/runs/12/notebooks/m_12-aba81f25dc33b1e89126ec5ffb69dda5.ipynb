{
 "cells": [
  {
   "cell_type": "code",
   "execution_count": 1,
   "id": "f159f837-637b-42ba-96b5-ec9a68c44524",
   "metadata": {
    "execution": {
     "iopub.execute_input": "2025-07-30T14:18:53.724936Z",
     "iopub.status.busy": "2025-07-30T14:18:53.724275Z",
     "iopub.status.idle": "2025-07-30T14:18:53.736692Z",
     "shell.execute_reply": "2025-07-30T14:18:53.735829Z"
    },
    "papermill": {
     "duration": 0.033949,
     "end_time": "2025-07-30T14:18:53.738147",
     "exception": false,
     "start_time": "2025-07-30T14:18:53.704198",
     "status": "completed"
    },
    "tags": []
   },
   "outputs": [
    {
     "name": "stdout",
     "output_type": "stream",
     "text": [
      "/dss/dsshome1/0C/ra93lal2/cma/CMA_Fairness_v2\n"
     ]
    },
    {
     "name": "stderr",
     "output_type": "stream",
     "text": [
      "/dss/dsshome1/0C/ra93lal2/.local/share/virtualenvs/CMA_Fairness_v2-3j10GkSs/lib/python3.10/site-packages/IPython/core/magics/osm.py:393: UserWarning: This is now an optional IPython functionality, using bookmarks requires you to install the `pickleshare` library.\n",
      "  bkms = self.shell.db.get('bookmarks', {})\n",
      "/dss/dsshome1/0C/ra93lal2/.local/share/virtualenvs/CMA_Fairness_v2-3j10GkSs/lib/python3.10/site-packages/IPython/core/magics/osm.py:417: UserWarning: This is now an optional IPython functionality, setting dhist requires you to install the `pickleshare` library.\n",
      "  self.shell.db['dhist'] = compress_dhist(dhist)[-100:]\n"
     ]
    }
   ],
   "source": [
    "%cd ~/cma/CMA_Fairness_v2"
   ]
  },
  {
   "cell_type": "markdown",
   "id": "de2603b9",
   "metadata": {
    "papermill": {
     "duration": 0.017813,
     "end_time": "2025-07-30T14:18:53.773857",
     "exception": false,
     "start_time": "2025-07-30T14:18:53.756044",
     "status": "completed"
    },
    "tags": []
   },
   "source": [
    "The following cell holds the definition of our parameters, these values can be overriden by rendering the with e.g. the following command:\n",
    "\n",
    "papermill -p alpha 0.2 -p ratio 0.3 universe_analysis.ipynb output/test_run.ipynb"
   ]
  },
  {
   "cell_type": "code",
   "execution_count": 2,
   "id": "a80968a0-40bb-4fa9-85ef-2d5eefb01975",
   "metadata": {
    "execution": {
     "iopub.execute_input": "2025-07-30T14:18:53.810498Z",
     "iopub.status.busy": "2025-07-30T14:18:53.810071Z",
     "iopub.status.idle": "2025-07-30T14:18:53.815217Z",
     "shell.execute_reply": "2025-07-30T14:18:53.814396Z"
    },
    "papermill": {
     "duration": 0.025226,
     "end_time": "2025-07-30T14:18:53.816706",
     "exception": false,
     "start_time": "2025-07-30T14:18:53.791480",
     "status": "completed"
    },
    "tags": []
   },
   "outputs": [
    {
     "name": "stdout",
     "output_type": "stream",
     "text": [
      "Current working directory: /dss/dsshome1/0C/ra93lal2/cma/CMA_Fairness_v2\n"
     ]
    }
   ],
   "source": [
    "import os\n",
    "print(\"Current working directory:\", os.getcwd())"
   ]
  },
  {
   "cell_type": "code",
   "execution_count": 3,
   "id": "2dce4c03",
   "metadata": {
    "execution": {
     "iopub.execute_input": "2025-07-30T14:18:53.855416Z",
     "iopub.status.busy": "2025-07-30T14:18:53.854973Z",
     "iopub.status.idle": "2025-07-30T14:18:53.861047Z",
     "shell.execute_reply": "2025-07-30T14:18:53.860156Z"
    },
    "papermill": {
     "duration": 0.027291,
     "end_time": "2025-07-30T14:18:53.862501",
     "exception": false,
     "start_time": "2025-07-30T14:18:53.835210",
     "status": "completed"
    },
    "tags": [
     "parameters"
    ]
   },
   "outputs": [],
   "source": [
    "run_no = 0\n",
    "universe_id = \"test\"\n",
    "universe = {\n",
    "    \"training_size\": \"25k\", # \"25k\", \"5k\", \"1k\"\n",
    "    \"training_year\": \"2014\", # \"2014\", \"2012_14\", \"2010_14\"\n",
    "    \"scale\": \"scale\", # \"scale\", \"do-not-scale\",\n",
    "    #\"stratify_split\": \"target\", # \"none\", \"target\", \"protected-attribute\", \"both\",\n",
    "    \"model\": \"elasticnet\", # \"logreg\", \"penalized_logreg\", \"rf\", \"gbm\", \"elasticnet\"\n",
    "    \"cutoff\": [\"quantile_0.15\", \"quantile_0.30\"],\n",
    "    \"exclude_features\": \"age\", # \"none\", \"nationality\", \"sex\", \"nationality-sex\", \"age\"\n",
    "    \"exclude_subgroups\": \"keep-all\", # \"keep-all\", \"drop-non-german\"\n",
    "    \"eval_fairness_grouping\": [\"majority-minority\", \"nationality-all\"]\n",
    "}\n",
    "\n",
    "output_dir=\"./output\"\n",
    "seed=0"
   ]
  },
  {
   "cell_type": "code",
   "execution_count": 4,
   "id": "0b661dee",
   "metadata": {
    "execution": {
     "iopub.execute_input": "2025-07-30T14:18:53.901358Z",
     "iopub.status.busy": "2025-07-30T14:18:53.900730Z",
     "iopub.status.idle": "2025-07-30T14:18:53.905898Z",
     "shell.execute_reply": "2025-07-30T14:18:53.905006Z"
    },
    "papermill": {
     "duration": 0.025699,
     "end_time": "2025-07-30T14:18:53.907342",
     "exception": false,
     "start_time": "2025-07-30T14:18:53.881643",
     "status": "completed"
    },
    "tags": [
     "injected-parameters"
    ]
   },
   "outputs": [],
   "source": [
    "# Parameters\n",
    "universe_id = \"aba81f25dc33b1e89126ec5ffb69dda5\"\n",
    "run_no = \"12\"\n",
    "universe = \"{\\\"cutoff\\\": [\\\"quantile_0.1\\\", \\\"quantile_0.25\\\"], \\\"eval_fairness_grouping\\\": [\\\"majority-minority\\\", \\\"nationality-all\\\"], \\\"exclude_features\\\": \\\"sex\\\", \\\"exclude_subgroups\\\": \\\"keep-all\\\", \\\"model\\\": \\\"logreg\\\", \\\"scale\\\": \\\"scale\\\", \\\"training_size\\\": \\\"1k\\\", \\\"training_year\\\": \\\"2014\\\"}\"\n",
    "output_dir = \"output\"\n",
    "seed = \"2023\"\n"
   ]
  },
  {
   "cell_type": "code",
   "execution_count": 5,
   "id": "1650acaf",
   "metadata": {
    "execution": {
     "iopub.execute_input": "2025-07-30T14:18:53.945553Z",
     "iopub.status.busy": "2025-07-30T14:18:53.944205Z",
     "iopub.status.idle": "2025-07-30T14:18:53.949362Z",
     "shell.execute_reply": "2025-07-30T14:18:53.948465Z"
    },
    "papermill": {
     "duration": 0.025197,
     "end_time": "2025-07-30T14:18:53.950786",
     "exception": false,
     "start_time": "2025-07-30T14:18:53.925589",
     "status": "completed"
    },
    "tags": []
   },
   "outputs": [],
   "source": [
    "import json\n",
    "# Parse universe into dict if it is passed as a string\n",
    "if isinstance(universe, str):\n",
    "    universe = json.loads(universe)"
   ]
  },
  {
   "cell_type": "code",
   "execution_count": 6,
   "id": "16620c48",
   "metadata": {
    "execution": {
     "iopub.execute_input": "2025-07-30T14:18:53.993296Z",
     "iopub.status.busy": "2025-07-30T14:18:53.992880Z",
     "iopub.status.idle": "2025-07-30T14:18:54.034775Z",
     "shell.execute_reply": "2025-07-30T14:18:54.033997Z"
    },
    "papermill": {
     "duration": 0.066193,
     "end_time": "2025-07-30T14:18:54.036397",
     "exception": false,
     "start_time": "2025-07-30T14:18:53.970204",
     "status": "completed"
    },
    "tags": []
   },
   "outputs": [],
   "source": [
    "# Auto-reload the custom package\n",
    "%load_ext autoreload\n",
    "%autoreload 1\n",
    "%aimport fairness_multiverse"
   ]
  },
  {
   "cell_type": "code",
   "execution_count": 7,
   "id": "01c5c9f3",
   "metadata": {
    "execution": {
     "iopub.execute_input": "2025-07-30T14:18:54.074987Z",
     "iopub.status.busy": "2025-07-30T14:18:54.074581Z",
     "iopub.status.idle": "2025-07-30T14:18:55.899261Z",
     "shell.execute_reply": "2025-07-30T14:18:55.898235Z"
    },
    "papermill": {
     "duration": 1.846251,
     "end_time": "2025-07-30T14:18:55.901054",
     "exception": false,
     "start_time": "2025-07-30T14:18:54.054803",
     "status": "completed"
    },
    "tags": []
   },
   "outputs": [],
   "source": [
    "from fairness_multiverse.universe import UniverseAnalysis\n",
    "\n",
    "universe_analysis = UniverseAnalysis(\n",
    "    run_no = run_no,\n",
    "    universe_id = universe_id,\n",
    "    universe = universe,\n",
    "    output_dir=output_dir,\n",
    ")"
   ]
  },
  {
   "cell_type": "code",
   "execution_count": 8,
   "id": "106241f5",
   "metadata": {
    "execution": {
     "iopub.execute_input": "2025-07-30T14:18:55.940660Z",
     "iopub.status.busy": "2025-07-30T14:18:55.939862Z",
     "iopub.status.idle": "2025-07-30T14:18:55.946785Z",
     "shell.execute_reply": "2025-07-30T14:18:55.945792Z"
    },
    "papermill": {
     "duration": 0.02769,
     "end_time": "2025-07-30T14:18:55.948351",
     "exception": false,
     "start_time": "2025-07-30T14:18:55.920661",
     "status": "completed"
    },
    "tags": []
   },
   "outputs": [
    {
     "name": "stdout",
     "output_type": "stream",
     "text": [
      "Using Seed: 2023\n"
     ]
    }
   ],
   "source": [
    "import numpy as np\n",
    "parsed_seed = int(seed)\n",
    "np.random.seed(parsed_seed)\n",
    "print(f\"Using Seed: {parsed_seed}\")"
   ]
  },
  {
   "cell_type": "markdown",
   "id": "e0ebdc57",
   "metadata": {
    "papermill": {
     "duration": 0.018008,
     "end_time": "2025-07-30T14:18:55.984774",
     "exception": false,
     "start_time": "2025-07-30T14:18:55.966766",
     "status": "completed"
    },
    "tags": []
   },
   "source": [
    "# Loading Data"
   ]
  },
  {
   "cell_type": "markdown",
   "id": "681925a3",
   "metadata": {
    "papermill": {
     "duration": 0.018025,
     "end_time": "2025-07-30T14:18:56.021038",
     "exception": false,
     "start_time": "2025-07-30T14:18:56.003013",
     "status": "completed"
    },
    "tags": []
   },
   "source": [
    "Load siab_train, siab_test, siab_calib and/or \n",
    "load siab_train_features, siab_train_labels"
   ]
  },
  {
   "cell_type": "code",
   "execution_count": 9,
   "id": "f0496b8a",
   "metadata": {
    "execution": {
     "iopub.execute_input": "2025-07-30T14:18:56.059641Z",
     "iopub.status.busy": "2025-07-30T14:18:56.058949Z",
     "iopub.status.idle": "2025-07-30T14:19:07.882503Z",
     "shell.execute_reply": "2025-07-30T14:19:07.881281Z"
    },
    "papermill": {
     "duration": 11.844555,
     "end_time": "2025-07-30T14:19:07.884233",
     "exception": false,
     "start_time": "2025-07-30T14:18:56.039678",
     "status": "completed"
    },
    "tags": []
   },
   "outputs": [
    {
     "name": "stdout",
     "output_type": "stream",
     "text": [
      "Loading SIAB data from cache: data/siab_cached.csv.gz\n"
     ]
    },
    {
     "name": "stdout",
     "output_type": "stream",
     "text": [
      "(643690, 164)\n"
     ]
    }
   ],
   "source": [
    "from pathlib import Path\n",
    "import pandas as pd\n",
    "\n",
    "# File paths\n",
    "raw_file = Path(\"data/raw/siab.csv\")\n",
    "cache_file = Path(\"data/siab_cached.csv.gz\")\n",
    "\n",
    "# Ensure cache directory exists\n",
    "cache_file.parent.mkdir(parents=True, exist_ok=True)\n",
    "\n",
    "# Load with simple caching\n",
    "if cache_file.exists():\n",
    "    print(f\"Loading SIAB data from cache: {cache_file}\")\n",
    "    siab = pd.read_csv(cache_file, compression='gzip')\n",
    "else:\n",
    "    print(f\"Cache not found. Reading raw SIAB data: {raw_file}\")\n",
    "    siab = pd.read_csv(raw_file)\n",
    "    siab.to_csv(cache_file, index=False, compression='gzip')\n",
    "    print(f\"Cached SIAB data to: {cache_file}\")\n",
    "\n",
    "# Now use `siab` DataFrame as needed\n",
    "print(siab.shape)"
   ]
  },
  {
   "cell_type": "code",
   "execution_count": 10,
   "id": "db0ca512-5f53-4dba-abdb-a2888bca41ba",
   "metadata": {
    "execution": {
     "iopub.execute_input": "2025-07-30T14:19:07.933755Z",
     "iopub.status.busy": "2025-07-30T14:19:07.933186Z",
     "iopub.status.idle": "2025-07-30T14:19:07.939173Z",
     "shell.execute_reply": "2025-07-30T14:19:07.938227Z"
    },
    "papermill": {
     "duration": 0.031972,
     "end_time": "2025-07-30T14:19:07.941031",
     "exception": false,
     "start_time": "2025-07-30T14:19:07.909059",
     "status": "completed"
    },
    "tags": []
   },
   "outputs": [],
   "source": [
    "#siab"
   ]
  },
  {
   "cell_type": "code",
   "execution_count": 11,
   "id": "a0edb063",
   "metadata": {
    "execution": {
     "iopub.execute_input": "2025-07-30T14:19:07.987540Z",
     "iopub.status.busy": "2025-07-30T14:19:07.987051Z",
     "iopub.status.idle": "2025-07-30T14:19:07.992456Z",
     "shell.execute_reply": "2025-07-30T14:19:07.991331Z"
    },
    "papermill": {
     "duration": 0.030328,
     "end_time": "2025-07-30T14:19:07.994177",
     "exception": false,
     "start_time": "2025-07-30T14:19:07.963849",
     "status": "completed"
    },
    "tags": []
   },
   "outputs": [],
   "source": [
    "#import pandas as pd\n",
    "#\n",
    "#X_train = pd.read_csv(\"./data/X_train.csv\")\n",
    "#y_train = pd.read_csv(\"./data/y_train.csv\")"
   ]
  },
  {
   "cell_type": "code",
   "execution_count": 12,
   "id": "63d08085",
   "metadata": {
    "execution": {
     "iopub.execute_input": "2025-07-30T14:19:08.040792Z",
     "iopub.status.busy": "2025-07-30T14:19:08.040309Z",
     "iopub.status.idle": "2025-07-30T14:19:08.045419Z",
     "shell.execute_reply": "2025-07-30T14:19:08.044402Z"
    },
    "papermill": {
     "duration": 0.03008,
     "end_time": "2025-07-30T14:19:08.047224",
     "exception": false,
     "start_time": "2025-07-30T14:19:08.017144",
     "status": "completed"
    },
    "tags": []
   },
   "outputs": [],
   "source": [
    "#X_test = pd.read_csv(\"./data/X_test.csv\")\n",
    "#y_true = pd.read_csv(\"./data/y_test.csv\")"
   ]
  },
  {
   "cell_type": "code",
   "execution_count": 13,
   "id": "98a8d0fa-1d3d-4ed8-bb2c-281470e24add",
   "metadata": {
    "execution": {
     "iopub.execute_input": "2025-07-30T14:19:08.094032Z",
     "iopub.status.busy": "2025-07-30T14:19:08.093100Z",
     "iopub.status.idle": "2025-07-30T14:19:08.098571Z",
     "shell.execute_reply": "2025-07-30T14:19:08.097576Z"
    },
    "papermill": {
     "duration": 0.030647,
     "end_time": "2025-07-30T14:19:08.100619",
     "exception": false,
     "start_time": "2025-07-30T14:19:08.069972",
     "status": "completed"
    },
    "tags": []
   },
   "outputs": [],
   "source": [
    "# Calibration data for conformal\n",
    "#X_calib = pd.read_csv(\"./data/X_calib.csv\")\n",
    "#y_calib = pd.read_csv(\"./data/y_calib.csv\")"
   ]
  },
  {
   "cell_type": "markdown",
   "id": "997051c5-15bd-4b69-9786-c3001a3ce484",
   "metadata": {
    "papermill": {
     "duration": 0.022059,
     "end_time": "2025-07-30T14:19:08.145405",
     "exception": false,
     "start_time": "2025-07-30T14:19:08.123346",
     "status": "completed"
    },
    "tags": []
   },
   "source": [
    "# Splitting Data and Setting Training Data Size"
   ]
  },
  {
   "cell_type": "code",
   "execution_count": 14,
   "id": "e993b61f-042d-41a6-8c81-f55681f86335",
   "metadata": {
    "execution": {
     "iopub.execute_input": "2025-07-30T14:19:08.191768Z",
     "iopub.status.busy": "2025-07-30T14:19:08.191274Z",
     "iopub.status.idle": "2025-07-30T14:19:08.205211Z",
     "shell.execute_reply": "2025-07-30T14:19:08.204264Z"
    },
    "papermill": {
     "duration": 0.039123,
     "end_time": "2025-07-30T14:19:08.206790",
     "exception": false,
     "start_time": "2025-07-30T14:19:08.167667",
     "status": "completed"
    },
    "tags": []
   },
   "outputs": [],
   "source": [
    "def sample_by_year_size(df,\n",
    "                        training_year: str,\n",
    "                        training_size: str,\n",
    "                        random_state: int = 42):\n",
    "    # --- parse training_year into a list of int years ---\n",
    "    if \"_\" in training_year:\n",
    "        start_str, end_str = training_year.split(\"_\", 1)\n",
    "        start = int(start_str)\n",
    "        end   = int(end_str) if len(end_str) == 4 else (int(end_str) + (start // 100)*100)\n",
    "        years = list(range(start, end + 1))\n",
    "    else:\n",
    "        years = [int(training_year)]\n",
    "\n",
    "    df = df[df[\"year\"].isin(years)].reset_index(drop=True)\n",
    "\n",
    "    # --- map training_size to total number of samples ---\n",
    "    total_map = {\"25k\": 25_000, \"5k\": 5_000, \"1k\": 1_000}\n",
    "    if training_size not in total_map:\n",
    "        return df  # e.g. \"all\"\n",
    "\n",
    "    total_samples = total_map[training_size]\n",
    "    n_years       = len(years)\n",
    "    base          = total_samples // n_years\n",
    "    remainder     = total_samples % n_years\n",
    "\n",
    "    # --- build a dict: year -> how many to sample ---\n",
    "    # give +1 to the first `remainder` years in ascending order\n",
    "    quotas = {\n",
    "        year: base + (1 if idx < remainder else 0)\n",
    "        for idx, year in enumerate(sorted(years))\n",
    "    }\n",
    "\n",
    "    # --- sample per‐year according to the quota dict ---\n",
    "    sampled = (\n",
    "        df\n",
    "        .groupby(\"year\", group_keys=False)\n",
    "        .apply(lambda grp: grp.sample(\n",
    "            n=min(len(grp), quotas[grp.name]),\n",
    "            random_state=random_state))\n",
    "        .reset_index(drop=True)\n",
    "    )\n",
    "\n",
    "    return sampled"
   ]
  },
  {
   "cell_type": "code",
   "execution_count": 15,
   "id": "c0ccd338-0e02-41f3-a09d-f56f9266e3fb",
   "metadata": {
    "execution": {
     "iopub.execute_input": "2025-07-30T14:19:08.249750Z",
     "iopub.status.busy": "2025-07-30T14:19:08.249189Z",
     "iopub.status.idle": "2025-07-30T14:19:08.261429Z",
     "shell.execute_reply": "2025-07-30T14:19:08.260443Z"
    },
    "papermill": {
     "duration": 0.035643,
     "end_time": "2025-07-30T14:19:08.263157",
     "exception": false,
     "start_time": "2025-07-30T14:19:08.227514",
     "status": "completed"
    },
    "tags": []
   },
   "outputs": [
    {
     "data": {
      "text/plain": [
       "'1k'"
      ]
     },
     "execution_count": 15,
     "metadata": {},
     "output_type": "execute_result"
    }
   ],
   "source": [
    "universe[\"training_size\"]"
   ]
  },
  {
   "cell_type": "code",
   "execution_count": 16,
   "id": "ca707fd7-8047-4acd-bfa5-66248fbbf8e6",
   "metadata": {
    "execution": {
     "iopub.execute_input": "2025-07-30T14:19:08.306722Z",
     "iopub.status.busy": "2025-07-30T14:19:08.305932Z",
     "iopub.status.idle": "2025-07-30T14:19:08.314052Z",
     "shell.execute_reply": "2025-07-30T14:19:08.313005Z"
    },
    "papermill": {
     "duration": 0.03155,
     "end_time": "2025-07-30T14:19:08.315577",
     "exception": false,
     "start_time": "2025-07-30T14:19:08.284027",
     "status": "completed"
    },
    "tags": []
   },
   "outputs": [
    {
     "data": {
      "text/plain": [
       "'2014'"
      ]
     },
     "execution_count": 16,
     "metadata": {},
     "output_type": "execute_result"
    }
   ],
   "source": [
    "universe[\"training_year\"]"
   ]
  },
  {
   "cell_type": "code",
   "execution_count": 17,
   "id": "aea9c6ef-6f46-42c8-85eb-5a62025c1508",
   "metadata": {
    "execution": {
     "iopub.execute_input": "2025-07-30T14:19:08.358786Z",
     "iopub.status.busy": "2025-07-30T14:19:08.357952Z",
     "iopub.status.idle": "2025-07-30T14:19:08.633208Z",
     "shell.execute_reply": "2025-07-30T14:19:08.632285Z"
    },
    "papermill": {
     "duration": 0.298382,
     "end_time": "2025-07-30T14:19:08.634996",
     "exception": false,
     "start_time": "2025-07-30T14:19:08.336614",
     "status": "completed"
    },
    "tags": []
   },
   "outputs": [],
   "source": [
    "siab_train = sample_by_year_size(siab,\n",
    "                               training_year=universe[\"training_year\"],\n",
    "                               training_size=universe[\"training_size\"])"
   ]
  },
  {
   "cell_type": "code",
   "execution_count": 18,
   "id": "8d3afb32-789d-442c-8d5d-9f5aa8dd2eed",
   "metadata": {
    "execution": {
     "iopub.execute_input": "2025-07-30T14:19:08.679001Z",
     "iopub.status.busy": "2025-07-30T14:19:08.678541Z",
     "iopub.status.idle": "2025-07-30T14:19:08.684477Z",
     "shell.execute_reply": "2025-07-30T14:19:08.683735Z"
    },
    "papermill": {
     "duration": 0.019501,
     "end_time": "2025-07-30T14:19:08.685768",
     "exception": false,
     "start_time": "2025-07-30T14:19:08.666267",
     "status": "completed"
    },
    "tags": []
   },
   "outputs": [
    {
     "data": {
      "text/plain": [
       "(1000, 164)"
      ]
     },
     "execution_count": 18,
     "metadata": {},
     "output_type": "execute_result"
    }
   ],
   "source": [
    "siab_train.shape"
   ]
  },
  {
   "cell_type": "code",
   "execution_count": 19,
   "id": "d582db68-1a4c-47fb-84fc-08518dc1975a",
   "metadata": {
    "execution": {
     "iopub.execute_input": "2025-07-30T14:19:08.711063Z",
     "iopub.status.busy": "2025-07-30T14:19:08.710442Z",
     "iopub.status.idle": "2025-07-30T14:19:08.719527Z",
     "shell.execute_reply": "2025-07-30T14:19:08.718649Z"
    },
    "papermill": {
     "duration": 0.023434,
     "end_time": "2025-07-30T14:19:08.721366",
     "exception": false,
     "start_time": "2025-07-30T14:19:08.697932",
     "status": "completed"
    },
    "tags": []
   },
   "outputs": [
    {
     "data": {
      "text/plain": [
       "year\n",
       "2014    1000\n",
       "dtype: int64"
      ]
     },
     "metadata": {},
     "output_type": "display_data"
    }
   ],
   "source": [
    "display(siab_train.groupby(\"year\").size())"
   ]
  },
  {
   "cell_type": "code",
   "execution_count": 20,
   "id": "a561edb4-d032-42cb-8256-22eac1111c64",
   "metadata": {
    "execution": {
     "iopub.execute_input": "2025-07-30T14:19:08.761949Z",
     "iopub.status.busy": "2025-07-30T14:19:08.761625Z",
     "iopub.status.idle": "2025-07-30T14:19:09.007753Z",
     "shell.execute_reply": "2025-07-30T14:19:09.007011Z"
    },
    "papermill": {
     "duration": 0.267659,
     "end_time": "2025-07-30T14:19:09.009181",
     "exception": false,
     "start_time": "2025-07-30T14:19:08.741522",
     "status": "completed"
    },
    "tags": []
   },
   "outputs": [],
   "source": [
    "#siab_train = siab_s[siab_s.year < 2015]\n",
    "siab_calib = siab[siab.year == 2015]\n",
    "siab_test = siab[siab.year == 2016]"
   ]
  },
  {
   "cell_type": "code",
   "execution_count": 21,
   "id": "472de16f-c3db-4916-846b-1f0de9cf1746",
   "metadata": {
    "execution": {
     "iopub.execute_input": "2025-07-30T14:19:09.033068Z",
     "iopub.status.busy": "2025-07-30T14:19:09.032795Z",
     "iopub.status.idle": "2025-07-30T14:19:09.038213Z",
     "shell.execute_reply": "2025-07-30T14:19:09.037449Z"
    },
    "papermill": {
     "duration": 0.01868,
     "end_time": "2025-07-30T14:19:09.039595",
     "exception": false,
     "start_time": "2025-07-30T14:19:09.020915",
     "status": "completed"
    },
    "tags": []
   },
   "outputs": [],
   "source": [
    "X_train = siab_train.iloc[:,4:164]\n",
    "y_train = siab_train.iloc[:, [3]]"
   ]
  },
  {
   "cell_type": "code",
   "execution_count": 22,
   "id": "828c96af-f43a-4ed6-ba47-8ac73a47d56c",
   "metadata": {
    "execution": {
     "iopub.execute_input": "2025-07-30T14:19:09.064055Z",
     "iopub.status.busy": "2025-07-30T14:19:09.063197Z",
     "iopub.status.idle": "2025-07-30T14:19:09.111343Z",
     "shell.execute_reply": "2025-07-30T14:19:09.110197Z"
    },
    "papermill": {
     "duration": 0.061861,
     "end_time": "2025-07-30T14:19:09.113187",
     "exception": false,
     "start_time": "2025-07-30T14:19:09.051326",
     "status": "completed"
    },
    "tags": []
   },
   "outputs": [],
   "source": [
    "X_calib = siab_calib.iloc[:,4:164]\n",
    "y_calib = siab_calib.iloc[:, [3]]"
   ]
  },
  {
   "cell_type": "code",
   "execution_count": 23,
   "id": "c34be9c3-6bd6-476e-acd3-845840e303be",
   "metadata": {
    "execution": {
     "iopub.execute_input": "2025-07-30T14:19:09.153557Z",
     "iopub.status.busy": "2025-07-30T14:19:09.152920Z",
     "iopub.status.idle": "2025-07-30T14:19:09.205502Z",
     "shell.execute_reply": "2025-07-30T14:19:09.204457Z"
    },
    "papermill": {
     "duration": 0.077708,
     "end_time": "2025-07-30T14:19:09.207499",
     "exception": false,
     "start_time": "2025-07-30T14:19:09.129791",
     "status": "completed"
    },
    "tags": []
   },
   "outputs": [],
   "source": [
    "X_test = siab_test.iloc[:,4:164]\n",
    "y_true = siab_test.iloc[:, [3]]"
   ]
  },
  {
   "cell_type": "markdown",
   "id": "9901737e-04df-44f0-9100-f5ad144ed040",
   "metadata": {
    "papermill": {
     "duration": 0.01881,
     "end_time": "2025-07-30T14:19:09.249937",
     "exception": false,
     "start_time": "2025-07-30T14:19:09.231127",
     "status": "completed"
    },
    "tags": []
   },
   "source": [
    "# Splitting Data and Setting Training Data Size OLD VERSION"
   ]
  },
  {
   "cell_type": "code",
   "execution_count": 24,
   "id": "acbc8f7d-8fc8-4e86-8c59-5dcb0f58384b",
   "metadata": {
    "execution": {
     "iopub.execute_input": "2025-07-30T14:19:09.295272Z",
     "iopub.status.busy": "2025-07-30T14:19:09.294313Z",
     "iopub.status.idle": "2025-07-30T14:19:09.299943Z",
     "shell.execute_reply": "2025-07-30T14:19:09.299070Z"
    },
    "papermill": {
     "duration": 0.029508,
     "end_time": "2025-07-30T14:19:09.301698",
     "exception": false,
     "start_time": "2025-07-30T14:19:09.272190",
     "status": "completed"
    },
    "tags": []
   },
   "outputs": [],
   "source": [
    "#def sample_by_year(df, training_size, random_state=42):\n",
    "#    if training_size == \"2014\":\n",
    "#        return df[df[\"year\"] == 2014].reset_index(drop=True)\n",
    "#    \n",
    "#    size_map = {\n",
    "#        \"25k\": 5000,\n",
    "#        \"5k\": 1000,\n",
    "#        \"1k\": 200\n",
    "#    }\n",
    "#\n",
    "#    if training_size not in size_map:\n",
    "#        return df.reset_index(drop=True)  # use all data\n",
    "#\n",
    "#    n_per_year = size_map[training_size]\n",
    "#    grouped = df.groupby(\"year\")\n",
    "#    sampled = grouped.apply(lambda x: x.sample(n=min(n_per_year, len(x)), random_state=random_state))\n",
    "#    return sampled.reset_index(drop=True)"
   ]
  },
  {
   "cell_type": "code",
   "execution_count": 25,
   "id": "6d931f52-beaf-43ff-9e78-9d44a448d54e",
   "metadata": {
    "execution": {
     "iopub.execute_input": "2025-07-30T14:19:09.340652Z",
     "iopub.status.busy": "2025-07-30T14:19:09.339917Z",
     "iopub.status.idle": "2025-07-30T14:19:09.344484Z",
     "shell.execute_reply": "2025-07-30T14:19:09.343637Z"
    },
    "papermill": {
     "duration": 0.022438,
     "end_time": "2025-07-30T14:19:09.345968",
     "exception": false,
     "start_time": "2025-07-30T14:19:09.323530",
     "status": "completed"
    },
    "tags": []
   },
   "outputs": [],
   "source": [
    "#siab_s = sample_by_year(siab, universe[\"training_size\"])"
   ]
  },
  {
   "cell_type": "code",
   "execution_count": 26,
   "id": "5db0a40e-a4e2-4920-be85-b12ae061d70d",
   "metadata": {
    "execution": {
     "iopub.execute_input": "2025-07-30T14:19:09.391427Z",
     "iopub.status.busy": "2025-07-30T14:19:09.390947Z",
     "iopub.status.idle": "2025-07-30T14:19:09.396413Z",
     "shell.execute_reply": "2025-07-30T14:19:09.395439Z"
    },
    "papermill": {
     "duration": 0.029814,
     "end_time": "2025-07-30T14:19:09.398095",
     "exception": false,
     "start_time": "2025-07-30T14:19:09.368281",
     "status": "completed"
    },
    "tags": []
   },
   "outputs": [],
   "source": [
    "#display(siab_s.groupby(\"year\").size())"
   ]
  },
  {
   "cell_type": "code",
   "execution_count": 27,
   "id": "e6c733c5",
   "metadata": {
    "execution": {
     "iopub.execute_input": "2025-07-30T14:19:09.444514Z",
     "iopub.status.busy": "2025-07-30T14:19:09.443529Z",
     "iopub.status.idle": "2025-07-30T14:19:09.538536Z",
     "shell.execute_reply": "2025-07-30T14:19:09.537525Z"
    },
    "papermill": {
     "duration": 0.119703,
     "end_time": "2025-07-30T14:19:09.540535",
     "exception": false,
     "start_time": "2025-07-30T14:19:09.420832",
     "status": "completed"
    },
    "tags": []
   },
   "outputs": [],
   "source": [
    "# Auxiliary data needed downstream in the pipeline\n",
    "\n",
    "org_train = X_train.copy()\n",
    "org_test = X_test.copy()\n",
    "org_calib = X_calib.copy()"
   ]
  },
  {
   "cell_type": "code",
   "execution_count": 28,
   "id": "1466abac-c6da-4492-a62f-4240ae3783af",
   "metadata": {
    "execution": {
     "iopub.execute_input": "2025-07-30T14:19:09.587111Z",
     "iopub.status.busy": "2025-07-30T14:19:09.586607Z",
     "iopub.status.idle": "2025-07-30T14:19:09.592556Z",
     "shell.execute_reply": "2025-07-30T14:19:09.591646Z"
    },
    "papermill": {
     "duration": 0.03088,
     "end_time": "2025-07-30T14:19:09.594149",
     "exception": false,
     "start_time": "2025-07-30T14:19:09.563269",
     "status": "completed"
    },
    "tags": []
   },
   "outputs": [],
   "source": [
    "# put in other script?\n",
    "# Group sizes\n",
    "\n",
    "#def calculate_percentages(df, df_name):\n",
    "#    total_entries = len(df)\n",
    "#\n",
    "#    female_pct = (df['frau1'] == 1).mean() * 100\n",
    "#    non_german_pct = ((df['maxdeutsch1'] == 0) & (df['maxdeutsch.Missing.'] == 0)).mean() * 100\n",
    "#    non_german_male_pct = ((df['frau1'] == 0) & (df['maxdeutsch1'] == 0) & (df['maxdeutsch.Missing.'] == 0)).mean() * 100\n",
    "#    non_german_female_pct = ((df['frau1'] == 1) & (df['maxdeutsch1'] == 0) & (df['maxdeutsch.Missing.'] == 0)).mean() * 100\n",
    "#\n",
    "#    print(f\"--- {df_name} ---\")\n",
    "#    print(f\"Female: {female_pct:.2f}%\")\n",
    "#    print(f\"Non-German: {non_german_pct:.2f}%\")\n",
    "#    print(f\"Non-German Male: {non_german_male_pct:.2f}%\")\n",
    "#    print(f\"Non-German Female: {non_german_female_pct:.2f}%\\n\")\n",
    "#\n",
    "## Calculate for each DataFrame\n",
    "#calculate_percentages(siab_calib, \"siab_calib\")\n",
    "#calculate_percentages(siab_test, \"siab_test\")\n",
    "#calculate_percentages(siab_train, \"siab_train\")"
   ]
  },
  {
   "cell_type": "markdown",
   "id": "0a4a1b33",
   "metadata": {
    "papermill": {
     "duration": 0.022299,
     "end_time": "2025-07-30T14:19:09.638983",
     "exception": false,
     "start_time": "2025-07-30T14:19:09.616684",
     "status": "completed"
    },
    "tags": []
   },
   "source": [
    "# Preprocessing Data"
   ]
  },
  {
   "cell_type": "code",
   "execution_count": 29,
   "id": "ca879031",
   "metadata": {
    "execution": {
     "iopub.execute_input": "2025-07-30T14:19:09.684943Z",
     "iopub.status.busy": "2025-07-30T14:19:09.684217Z",
     "iopub.status.idle": "2025-07-30T14:19:09.690352Z",
     "shell.execute_reply": "2025-07-30T14:19:09.689410Z"
    },
    "papermill": {
     "duration": 0.031345,
     "end_time": "2025-07-30T14:19:09.692101",
     "exception": false,
     "start_time": "2025-07-30T14:19:09.660756",
     "status": "completed"
    },
    "tags": []
   },
   "outputs": [],
   "source": [
    "# EXCLUDE PROTECTED FEATURES\n",
    "# ----------------------\n",
    "# \"exclude_features\": \"none\", # \"nationality\", \"sex\", \"nationality-sex\"\n",
    "\n",
    "excluded_features = universe[\"exclude_features\"].split(\"-\") # split, e.g.: \"nationality-sex\" -> [\"nationality\", \"sex\"]\n",
    "excluded_features_dictionary = {\n",
    "    \"nationality\": [\"maxdeutsch1\", \"maxdeutsch.Missing.\"],\n",
    "    \"sex\": [\"frau1\"],\n",
    "    \"age\": [\"age\"],\n",
    "}\n"
   ]
  },
  {
   "cell_type": "code",
   "execution_count": 30,
   "id": "b745ac60",
   "metadata": {
    "execution": {
     "iopub.execute_input": "2025-07-30T14:19:09.738562Z",
     "iopub.status.busy": "2025-07-30T14:19:09.738107Z",
     "iopub.status.idle": "2025-07-30T14:19:09.743763Z",
     "shell.execute_reply": "2025-07-30T14:19:09.742815Z"
    },
    "papermill": {
     "duration": 0.030092,
     "end_time": "2025-07-30T14:19:09.745387",
     "exception": false,
     "start_time": "2025-07-30T14:19:09.715295",
     "status": "completed"
    },
    "tags": []
   },
   "outputs": [],
   "source": [
    "# Code nice names to column names\n",
    "\n",
    "excluded_features_columns = [\n",
    "    excluded_features_dictionary[f] for f in excluded_features if len(f) > 0 and f != \"none\"\n",
    "]"
   ]
  },
  {
   "cell_type": "code",
   "execution_count": 31,
   "id": "f84f73a2",
   "metadata": {
    "execution": {
     "iopub.execute_input": "2025-07-30T14:19:09.791833Z",
     "iopub.status.busy": "2025-07-30T14:19:09.791114Z",
     "iopub.status.idle": "2025-07-30T14:19:09.797997Z",
     "shell.execute_reply": "2025-07-30T14:19:09.796919Z"
    },
    "papermill": {
     "duration": 0.03161,
     "end_time": "2025-07-30T14:19:09.799637",
     "exception": false,
     "start_time": "2025-07-30T14:19:09.768027",
     "status": "completed"
    },
    "tags": []
   },
   "outputs": [],
   "source": [
    "from utils import flatten_once\n",
    "\n",
    "excluded_features_columns = flatten_once(excluded_features_columns)"
   ]
  },
  {
   "cell_type": "code",
   "execution_count": 32,
   "id": "884dea22",
   "metadata": {
    "execution": {
     "iopub.execute_input": "2025-07-30T14:19:09.846851Z",
     "iopub.status.busy": "2025-07-30T14:19:09.845954Z",
     "iopub.status.idle": "2025-07-30T14:19:09.854411Z",
     "shell.execute_reply": "2025-07-30T14:19:09.853527Z"
    },
    "papermill": {
     "duration": 0.033764,
     "end_time": "2025-07-30T14:19:09.856129",
     "exception": false,
     "start_time": "2025-07-30T14:19:09.822365",
     "status": "completed"
    },
    "tags": []
   },
   "outputs": [
    {
     "name": "stdout",
     "output_type": "stream",
     "text": [
      "Dropping features: ['frau1']\n"
     ]
    }
   ],
   "source": [
    "if len(excluded_features_columns) > 0:\n",
    "    print(f\"Dropping features: {excluded_features_columns}\")\n",
    "    X_train.drop(excluded_features_columns, axis=1, inplace=True)"
   ]
  },
  {
   "cell_type": "code",
   "execution_count": 33,
   "id": "95ab8b16",
   "metadata": {
    "execution": {
     "iopub.execute_input": "2025-07-30T14:19:09.903832Z",
     "iopub.status.busy": "2025-07-30T14:19:09.903134Z",
     "iopub.status.idle": "2025-07-30T14:19:09.956041Z",
     "shell.execute_reply": "2025-07-30T14:19:09.954890Z"
    },
    "papermill": {
     "duration": 0.078589,
     "end_time": "2025-07-30T14:19:09.957743",
     "exception": false,
     "start_time": "2025-07-30T14:19:09.879154",
     "status": "completed"
    },
    "tags": []
   },
   "outputs": [
    {
     "name": "stdout",
     "output_type": "stream",
     "text": [
      "Dropping features: ['frau1']\n"
     ]
    }
   ],
   "source": [
    "if len(excluded_features_columns) > 0:\n",
    "    print(f\"Dropping features: {excluded_features_columns}\")\n",
    "    X_test.drop(excluded_features_columns, axis=1, inplace=True)"
   ]
  },
  {
   "cell_type": "code",
   "execution_count": 34,
   "id": "1853aaf5-fb9f-46cb-a2b5-8ea4ae2237e4",
   "metadata": {
    "execution": {
     "iopub.execute_input": "2025-07-30T14:19:10.005526Z",
     "iopub.status.busy": "2025-07-30T14:19:10.004882Z",
     "iopub.status.idle": "2025-07-30T14:19:10.056990Z",
     "shell.execute_reply": "2025-07-30T14:19:10.055923Z"
    },
    "papermill": {
     "duration": 0.07812,
     "end_time": "2025-07-30T14:19:10.059734",
     "exception": false,
     "start_time": "2025-07-30T14:19:09.981614",
     "status": "completed"
    },
    "tags": []
   },
   "outputs": [
    {
     "name": "stdout",
     "output_type": "stream",
     "text": [
      "Dropping features: ['frau1']\n"
     ]
    }
   ],
   "source": [
    "if len(excluded_features_columns) > 0:\n",
    "    print(f\"Dropping features: {excluded_features_columns}\")\n",
    "    X_calib.drop(excluded_features_columns, axis=1, inplace=True)"
   ]
  },
  {
   "cell_type": "code",
   "execution_count": 35,
   "id": "6727d079-03e5-481e-9d38-292a90b7a0a8",
   "metadata": {
    "execution": {
     "iopub.execute_input": "2025-07-30T14:19:10.109286Z",
     "iopub.status.busy": "2025-07-30T14:19:10.108647Z",
     "iopub.status.idle": "2025-07-30T14:19:10.113817Z",
     "shell.execute_reply": "2025-07-30T14:19:10.112906Z"
    },
    "papermill": {
     "duration": 0.031706,
     "end_time": "2025-07-30T14:19:10.115555",
     "exception": false,
     "start_time": "2025-07-30T14:19:10.083849",
     "status": "completed"
    },
    "tags": []
   },
   "outputs": [],
   "source": [
    "# SPLIT & STRATIFY DATA\n",
    "# ----------------------"
   ]
  },
  {
   "cell_type": "code",
   "execution_count": 36,
   "id": "76c4dc6d",
   "metadata": {
    "execution": {
     "iopub.execute_input": "2025-07-30T14:19:10.165592Z",
     "iopub.status.busy": "2025-07-30T14:19:10.164902Z",
     "iopub.status.idle": "2025-07-30T14:19:10.170862Z",
     "shell.execute_reply": "2025-07-30T14:19:10.169918Z"
    },
    "papermill": {
     "duration": 0.032683,
     "end_time": "2025-07-30T14:19:10.172610",
     "exception": false,
     "start_time": "2025-07-30T14:19:10.139927",
     "status": "completed"
    },
    "tags": []
   },
   "outputs": [],
   "source": [
    "# EXCLUDE CERTAIN SUBGROUPS\n",
    "# ----------------------\n",
    "\n",
    "mode = universe.get(\"exclude_subgroups\", \"keep-all\") \n",
    "# Fetches the exclude_subgroups setting from the universe dict.\n",
    "# Defaults to \"keep-all\" if the key is missing."
   ]
  },
  {
   "cell_type": "code",
   "execution_count": 37,
   "id": "21994072",
   "metadata": {
    "execution": {
     "iopub.execute_input": "2025-07-30T14:19:10.220974Z",
     "iopub.status.busy": "2025-07-30T14:19:10.220020Z",
     "iopub.status.idle": "2025-07-30T14:19:10.227662Z",
     "shell.execute_reply": "2025-07-30T14:19:10.226629Z"
    },
    "papermill": {
     "duration": 0.033351,
     "end_time": "2025-07-30T14:19:10.229559",
     "exception": false,
     "start_time": "2025-07-30T14:19:10.196208",
     "status": "completed"
    },
    "tags": []
   },
   "outputs": [],
   "source": [
    "if mode == \"keep-all\":\n",
    "    keep_mask = pd.Series(True, index=org_train.index)\n",
    "\n",
    "# org_train contains the original feature columns from features_org (in Simson)\n",
    "# features_org contains unprocessed features, for me X_train at beginning ???\n",
    "# For keep-all, creates a boolean Series (keep_mask) of all True, so no rows are removed.\n",
    "\n",
    "elif mode == \"drop-non-german\":\n",
    "    keep_mask = org_train[\"maxdeutsch1\"] == 1 # ??? what about missing values?\n",
    "\n",
    "else:\n",
    "    raise ValueError(f\"Unsupported mode for exclude_subgroups: {mode}\")\n"
   ]
  },
  {
   "cell_type": "code",
   "execution_count": 38,
   "id": "71651440",
   "metadata": {
    "execution": {
     "iopub.execute_input": "2025-07-30T14:19:10.277574Z",
     "iopub.status.busy": "2025-07-30T14:19:10.277087Z",
     "iopub.status.idle": "2025-07-30T14:19:10.283402Z",
     "shell.execute_reply": "2025-07-30T14:19:10.282546Z"
    },
    "papermill": {
     "duration": 0.032034,
     "end_time": "2025-07-30T14:19:10.285004",
     "exception": false,
     "start_time": "2025-07-30T14:19:10.252970",
     "status": "completed"
    },
    "tags": []
   },
   "outputs": [],
   "source": [
    "n_drop = (~keep_mask).sum() # Calculates how many rows are set to be dropped\n",
    "if n_drop > 0:\n",
    "    pct = n_drop / len(keep_mask) * 100\n",
    "    print(f\"Dropping {n_drop} rows ({pct:.2f}%) where mode='{mode}'\")"
   ]
  },
  {
   "cell_type": "code",
   "execution_count": 39,
   "id": "5fb8eee5",
   "metadata": {
    "execution": {
     "iopub.execute_input": "2025-07-30T14:19:10.332924Z",
     "iopub.status.busy": "2025-07-30T14:19:10.332388Z",
     "iopub.status.idle": "2025-07-30T14:19:10.339219Z",
     "shell.execute_reply": "2025-07-30T14:19:10.338242Z"
    },
    "papermill": {
     "duration": 0.032724,
     "end_time": "2025-07-30T14:19:10.340860",
     "exception": false,
     "start_time": "2025-07-30T14:19:10.308136",
     "status": "completed"
    },
    "tags": []
   },
   "outputs": [],
   "source": [
    "X_train = X_train[keep_mask]"
   ]
  },
  {
   "cell_type": "code",
   "execution_count": 40,
   "id": "b202bb3a",
   "metadata": {
    "execution": {
     "iopub.execute_input": "2025-07-30T14:19:10.390730Z",
     "iopub.status.busy": "2025-07-30T14:19:10.389855Z",
     "iopub.status.idle": "2025-07-30T14:19:10.395762Z",
     "shell.execute_reply": "2025-07-30T14:19:10.394866Z"
    },
    "papermill": {
     "duration": 0.032394,
     "end_time": "2025-07-30T14:19:10.397476",
     "exception": false,
     "start_time": "2025-07-30T14:19:10.365082",
     "status": "completed"
    },
    "tags": []
   },
   "outputs": [],
   "source": [
    "y_train = y_train[keep_mask]"
   ]
  },
  {
   "cell_type": "markdown",
   "id": "493e2ac3",
   "metadata": {
    "papermill": {
     "duration": 0.022986,
     "end_time": "2025-07-30T14:19:10.443545",
     "exception": false,
     "start_time": "2025-07-30T14:19:10.420559",
     "status": "completed"
    },
    "tags": []
   },
   "source": [
    "# Model Training"
   ]
  },
  {
   "cell_type": "code",
   "execution_count": 41,
   "id": "679e1268",
   "metadata": {
    "execution": {
     "iopub.execute_input": "2025-07-30T14:19:10.490640Z",
     "iopub.status.busy": "2025-07-30T14:19:10.489918Z",
     "iopub.status.idle": "2025-07-30T14:19:10.594304Z",
     "shell.execute_reply": "2025-07-30T14:19:10.593330Z"
    },
    "papermill": {
     "duration": 0.13001,
     "end_time": "2025-07-30T14:19:10.596176",
     "exception": false,
     "start_time": "2025-07-30T14:19:10.466166",
     "status": "completed"
    },
    "tags": []
   },
   "outputs": [],
   "source": [
    "from sklearn.linear_model import LogisticRegression\n",
    "from sklearn.ensemble import GradientBoostingClassifier, RandomForestClassifier\n",
    "\n",
    "if (universe[\"model\"] == \"logreg\"):\n",
    "    model = LogisticRegression() #penalty=\"none\") #, solver=\"newton-cg\", max_iter=1) # include random_state=19 ?\n",
    "elif (universe[\"model\"] == \"penalized_logreg\"):\n",
    "    model = LogisticRegression(penalty=\"l2\", C=1.0) #, solver=\"newton-cg\", max_iter=1)\n",
    "elif (universe[\"model\"] == \"rf\"):\n",
    "    model = RandomForestClassifier(n_estimators=100, n_jobs=-1)\n",
    "elif (universe[\"model\"] == \"gbm\"):\n",
    "    model = GradientBoostingClassifier()\n",
    "elif (universe[\"model\"] == \"elasticnet\"):\n",
    "    model = LogisticRegression(penalty = 'elasticnet', solver = 'saga', l1_ratio = 0.5, max_iter=5000) # which solver to use?\n",
    "else:\n",
    "    raise \"Unsupported universe.model\""
   ]
  },
  {
   "cell_type": "code",
   "execution_count": 42,
   "id": "0cc8f744",
   "metadata": {
    "execution": {
     "iopub.execute_input": "2025-07-30T14:19:10.644580Z",
     "iopub.status.busy": "2025-07-30T14:19:10.643942Z",
     "iopub.status.idle": "2025-07-30T14:19:10.650192Z",
     "shell.execute_reply": "2025-07-30T14:19:10.649293Z"
    },
    "papermill": {
     "duration": 0.032169,
     "end_time": "2025-07-30T14:19:10.651838",
     "exception": false,
     "start_time": "2025-07-30T14:19:10.619669",
     "status": "completed"
    },
    "tags": []
   },
   "outputs": [],
   "source": [
    "import numpy as np\n",
    "from sklearn.pipeline import Pipeline\n",
    "from sklearn.preprocessing import StandardScaler\n",
    "\n",
    "model = Pipeline([\n",
    "    #(\"continuous_processor\", continuous_processor),\n",
    "    #(\"categorical_preprocessor\", categorical_preprocessor),\n",
    "    (\"scale\", StandardScaler() if universe[\"scale\"] == \"scale\" else None), \n",
    "    (\"model\", model),\n",
    "])"
   ]
  },
  {
   "cell_type": "code",
   "execution_count": 43,
   "id": "9442c04d",
   "metadata": {
    "execution": {
     "iopub.execute_input": "2025-07-30T14:19:10.699798Z",
     "iopub.status.busy": "2025-07-30T14:19:10.699118Z",
     "iopub.status.idle": "2025-07-30T14:19:10.780587Z",
     "shell.execute_reply": "2025-07-30T14:19:10.779602Z"
    },
    "papermill": {
     "duration": 0.106441,
     "end_time": "2025-07-30T14:19:10.781767",
     "exception": false,
     "start_time": "2025-07-30T14:19:10.675326",
     "status": "completed"
    },
    "tags": []
   },
   "outputs": [
    {
     "name": "stderr",
     "output_type": "stream",
     "text": [
      "/dss/dsshome1/0C/ra93lal2/.local/share/virtualenvs/CMA_Fairness_v2-3j10GkSs/lib/python3.10/site-packages/sklearn/linear_model/_logistic.py:444: ConvergenceWarning: lbfgs failed to converge (status=1):\n",
      "STOP: TOTAL NO. of ITERATIONS REACHED LIMIT.\n",
      "\n",
      "Increase the number of iterations (max_iter) or scale the data as shown in:\n",
      "    https://scikit-learn.org/stable/modules/preprocessing.html\n",
      "Please also refer to the documentation for alternative solver options:\n",
      "    https://scikit-learn.org/stable/modules/linear_model.html#logistic-regression\n",
      "  n_iter_i = _check_optimize_result(\n"
     ]
    },
    {
     "data": {
      "text/html": [
       "<style>#sk-container-id-1 {color: black;background-color: white;}#sk-container-id-1 pre{padding: 0;}#sk-container-id-1 div.sk-toggleable {background-color: white;}#sk-container-id-1 label.sk-toggleable__label {cursor: pointer;display: block;width: 100%;margin-bottom: 0;padding: 0.3em;box-sizing: border-box;text-align: center;}#sk-container-id-1 label.sk-toggleable__label-arrow:before {content: \"▸\";float: left;margin-right: 0.25em;color: #696969;}#sk-container-id-1 label.sk-toggleable__label-arrow:hover:before {color: black;}#sk-container-id-1 div.sk-estimator:hover label.sk-toggleable__label-arrow:before {color: black;}#sk-container-id-1 div.sk-toggleable__content {max-height: 0;max-width: 0;overflow: hidden;text-align: left;background-color: #f0f8ff;}#sk-container-id-1 div.sk-toggleable__content pre {margin: 0.2em;color: black;border-radius: 0.25em;background-color: #f0f8ff;}#sk-container-id-1 input.sk-toggleable__control:checked~div.sk-toggleable__content {max-height: 200px;max-width: 100%;overflow: auto;}#sk-container-id-1 input.sk-toggleable__control:checked~label.sk-toggleable__label-arrow:before {content: \"▾\";}#sk-container-id-1 div.sk-estimator input.sk-toggleable__control:checked~label.sk-toggleable__label {background-color: #d4ebff;}#sk-container-id-1 div.sk-label input.sk-toggleable__control:checked~label.sk-toggleable__label {background-color: #d4ebff;}#sk-container-id-1 input.sk-hidden--visually {border: 0;clip: rect(1px 1px 1px 1px);clip: rect(1px, 1px, 1px, 1px);height: 1px;margin: -1px;overflow: hidden;padding: 0;position: absolute;width: 1px;}#sk-container-id-1 div.sk-estimator {font-family: monospace;background-color: #f0f8ff;border: 1px dotted black;border-radius: 0.25em;box-sizing: border-box;margin-bottom: 0.5em;}#sk-container-id-1 div.sk-estimator:hover {background-color: #d4ebff;}#sk-container-id-1 div.sk-parallel-item::after {content: \"\";width: 100%;border-bottom: 1px solid gray;flex-grow: 1;}#sk-container-id-1 div.sk-label:hover label.sk-toggleable__label {background-color: #d4ebff;}#sk-container-id-1 div.sk-serial::before {content: \"\";position: absolute;border-left: 1px solid gray;box-sizing: border-box;top: 0;bottom: 0;left: 50%;z-index: 0;}#sk-container-id-1 div.sk-serial {display: flex;flex-direction: column;align-items: center;background-color: white;padding-right: 0.2em;padding-left: 0.2em;position: relative;}#sk-container-id-1 div.sk-item {position: relative;z-index: 1;}#sk-container-id-1 div.sk-parallel {display: flex;align-items: stretch;justify-content: center;background-color: white;position: relative;}#sk-container-id-1 div.sk-item::before, #sk-container-id-1 div.sk-parallel-item::before {content: \"\";position: absolute;border-left: 1px solid gray;box-sizing: border-box;top: 0;bottom: 0;left: 50%;z-index: -1;}#sk-container-id-1 div.sk-parallel-item {display: flex;flex-direction: column;z-index: 1;position: relative;background-color: white;}#sk-container-id-1 div.sk-parallel-item:first-child::after {align-self: flex-end;width: 50%;}#sk-container-id-1 div.sk-parallel-item:last-child::after {align-self: flex-start;width: 50%;}#sk-container-id-1 div.sk-parallel-item:only-child::after {width: 0;}#sk-container-id-1 div.sk-dashed-wrapped {border: 1px dashed gray;margin: 0 0.4em 0.5em 0.4em;box-sizing: border-box;padding-bottom: 0.4em;background-color: white;}#sk-container-id-1 div.sk-label label {font-family: monospace;font-weight: bold;display: inline-block;line-height: 1.2em;}#sk-container-id-1 div.sk-label-container {text-align: center;}#sk-container-id-1 div.sk-container {/* jupyter's `normalize.less` sets `[hidden] { display: none; }` but bootstrap.min.css set `[hidden] { display: none !important; }` so we also need the `!important` here to be able to override the default hidden behavior on the sphinx rendered scikit-learn.org. See: https://github.com/scikit-learn/scikit-learn/issues/21755 */display: inline-block !important;position: relative;}#sk-container-id-1 div.sk-text-repr-fallback {display: none;}</style><div id=\"sk-container-id-1\" class=\"sk-top-container\"><div class=\"sk-text-repr-fallback\"><pre>Pipeline(steps=[(&#x27;scale&#x27;, StandardScaler()), (&#x27;model&#x27;, LogisticRegression())])</pre><b>In a Jupyter environment, please rerun this cell to show the HTML representation or trust the notebook. <br />On GitHub, the HTML representation is unable to render, please try loading this page with nbviewer.org.</b></div><div class=\"sk-container\" hidden><div class=\"sk-item sk-dashed-wrapped\"><div class=\"sk-label-container\"><div class=\"sk-label sk-toggleable\"><input class=\"sk-toggleable__control sk-hidden--visually\" id=\"sk-estimator-id-1\" type=\"checkbox\" ><label for=\"sk-estimator-id-1\" class=\"sk-toggleable__label sk-toggleable__label-arrow\">Pipeline</label><div class=\"sk-toggleable__content\"><pre>Pipeline(steps=[(&#x27;scale&#x27;, StandardScaler()), (&#x27;model&#x27;, LogisticRegression())])</pre></div></div></div><div class=\"sk-serial\"><div class=\"sk-item\"><div class=\"sk-estimator sk-toggleable\"><input class=\"sk-toggleable__control sk-hidden--visually\" id=\"sk-estimator-id-2\" type=\"checkbox\" ><label for=\"sk-estimator-id-2\" class=\"sk-toggleable__label sk-toggleable__label-arrow\">StandardScaler</label><div class=\"sk-toggleable__content\"><pre>StandardScaler()</pre></div></div></div><div class=\"sk-item\"><div class=\"sk-estimator sk-toggleable\"><input class=\"sk-toggleable__control sk-hidden--visually\" id=\"sk-estimator-id-3\" type=\"checkbox\" ><label for=\"sk-estimator-id-3\" class=\"sk-toggleable__label sk-toggleable__label-arrow\">LogisticRegression</label><div class=\"sk-toggleable__content\"><pre>LogisticRegression()</pre></div></div></div></div></div></div></div>"
      ],
      "text/plain": [
       "Pipeline(steps=[('scale', StandardScaler()), ('model', LogisticRegression())])"
      ]
     },
     "execution_count": 43,
     "metadata": {},
     "output_type": "execute_result"
    }
   ],
   "source": [
    "model.fit(X_train, y_train.values.ravel())"
   ]
  },
  {
   "cell_type": "code",
   "execution_count": 44,
   "id": "af59f8c0",
   "metadata": {
    "execution": {
     "iopub.execute_input": "2025-07-30T14:19:10.807889Z",
     "iopub.status.busy": "2025-07-30T14:19:10.807427Z",
     "iopub.status.idle": "2025-07-30T14:19:10.811575Z",
     "shell.execute_reply": "2025-07-30T14:19:10.810892Z"
    },
    "papermill": {
     "duration": 0.018163,
     "end_time": "2025-07-30T14:19:10.812859",
     "exception": false,
     "start_time": "2025-07-30T14:19:10.794696",
     "status": "completed"
    },
    "tags": []
   },
   "outputs": [],
   "source": [
    "from fairness_multiverse.universe import predict_w_threshold"
   ]
  },
  {
   "cell_type": "code",
   "execution_count": 45,
   "id": "a7cf2e16",
   "metadata": {
    "execution": {
     "iopub.execute_input": "2025-07-30T14:19:10.838839Z",
     "iopub.status.busy": "2025-07-30T14:19:10.838274Z",
     "iopub.status.idle": "2025-07-30T14:19:11.017339Z",
     "shell.execute_reply": "2025-07-30T14:19:11.016646Z"
    },
    "papermill": {
     "duration": 0.192922,
     "end_time": "2025-07-30T14:19:11.018526",
     "exception": false,
     "start_time": "2025-07-30T14:19:10.825604",
     "status": "completed"
    },
    "tags": []
   },
   "outputs": [
    {
     "data": {
      "text/plain": [
       "0.8174451008806153"
      ]
     },
     "execution_count": 45,
     "metadata": {},
     "output_type": "execute_result"
    }
   ],
   "source": [
    "probs_test = model.predict_proba(X_test)\n",
    "\n",
    "'''\n",
    "Below code returns a boolean array (or binary 0/1 array depending on how it’s used) where each element \n",
    "is True if the probability of class 1 is greater than or equal to the threshold, and False otherwise.\n",
    "'''\n",
    "y_pred_default = predict_w_threshold(probs_test, 0.5)\n",
    "\n",
    "from sklearn.metrics import accuracy_score\n",
    "\n",
    "# Naive prediction\n",
    "accuracy_score(y_true = y_true, y_pred = y_pred_default)"
   ]
  },
  {
   "cell_type": "code",
   "execution_count": 46,
   "id": "081964c3",
   "metadata": {
    "execution": {
     "iopub.execute_input": "2025-07-30T14:19:11.045147Z",
     "iopub.status.busy": "2025-07-30T14:19:11.044391Z",
     "iopub.status.idle": "2025-07-30T14:19:11.230872Z",
     "shell.execute_reply": "2025-07-30T14:19:11.229926Z"
    },
    "papermill": {
     "duration": 0.201292,
     "end_time": "2025-07-30T14:19:11.232528",
     "exception": false,
     "start_time": "2025-07-30T14:19:11.031236",
     "status": "completed"
    },
    "tags": []
   },
   "outputs": [
    {
     "data": {
      "text/plain": [
       "array([0, 0, 0, ..., 0, 0, 0])"
      ]
     },
     "execution_count": 46,
     "metadata": {},
     "output_type": "execute_result"
    }
   ],
   "source": [
    "model.predict(X_test)"
   ]
  },
  {
   "cell_type": "markdown",
   "id": "56c9705b",
   "metadata": {
    "papermill": {
     "duration": 0.023709,
     "end_time": "2025-07-30T14:19:11.281126",
     "exception": false,
     "start_time": "2025-07-30T14:19:11.257417",
     "status": "completed"
    },
    "tags": []
   },
   "source": [
    "# Conformal Prediction"
   ]
  },
  {
   "cell_type": "code",
   "execution_count": 47,
   "id": "160ec6ff",
   "metadata": {
    "execution": {
     "iopub.execute_input": "2025-07-30T14:19:11.332265Z",
     "iopub.status.busy": "2025-07-30T14:19:11.331459Z",
     "iopub.status.idle": "2025-07-30T14:19:11.336620Z",
     "shell.execute_reply": "2025-07-30T14:19:11.335645Z"
    },
    "papermill": {
     "duration": 0.032446,
     "end_time": "2025-07-30T14:19:11.338245",
     "exception": false,
     "start_time": "2025-07-30T14:19:11.305799",
     "status": "completed"
    },
    "tags": []
   },
   "outputs": [],
   "source": [
    "# Miscoverage level for conformal prediction (10% allowed error rate => 90% target coverage)\n",
    "alpha = 0.1"
   ]
  },
  {
   "cell_type": "code",
   "execution_count": 48,
   "id": "eadf4555-3dd3-440e-8e35-f82a4ad9f855",
   "metadata": {
    "execution": {
     "iopub.execute_input": "2025-07-30T14:19:11.389664Z",
     "iopub.status.busy": "2025-07-30T14:19:11.388721Z",
     "iopub.status.idle": "2025-07-30T14:19:11.565081Z",
     "shell.execute_reply": "2025-07-30T14:19:11.564087Z"
    },
    "papermill": {
     "duration": 0.204054,
     "end_time": "2025-07-30T14:19:11.566985",
     "exception": false,
     "start_time": "2025-07-30T14:19:11.362931",
     "status": "completed"
    },
    "tags": []
   },
   "outputs": [],
   "source": [
    "probs_calib = model.predict_proba(X_calib)"
   ]
  },
  {
   "cell_type": "code",
   "execution_count": 49,
   "id": "2ed93547-6d5d-4983-9b36-1ecb300da49a",
   "metadata": {
    "execution": {
     "iopub.execute_input": "2025-07-30T14:19:11.618401Z",
     "iopub.status.busy": "2025-07-30T14:19:11.617708Z",
     "iopub.status.idle": "2025-07-30T14:19:11.623835Z",
     "shell.execute_reply": "2025-07-30T14:19:11.622892Z"
    },
    "papermill": {
     "duration": 0.033258,
     "end_time": "2025-07-30T14:19:11.625597",
     "exception": false,
     "start_time": "2025-07-30T14:19:11.592339",
     "status": "completed"
    },
    "tags": []
   },
   "outputs": [],
   "source": [
    "y_calib = y_calib.values.ravel().astype(int)"
   ]
  },
  {
   "cell_type": "code",
   "execution_count": 50,
   "id": "65d1320d-f588-4b38-9072-62af1ae97f7d",
   "metadata": {
    "execution": {
     "iopub.execute_input": "2025-07-30T14:19:11.676299Z",
     "iopub.status.busy": "2025-07-30T14:19:11.675357Z",
     "iopub.status.idle": "2025-07-30T14:19:11.684088Z",
     "shell.execute_reply": "2025-07-30T14:19:11.683112Z"
    },
    "papermill": {
     "duration": 0.034899,
     "end_time": "2025-07-30T14:19:11.685725",
     "exception": false,
     "start_time": "2025-07-30T14:19:11.650826",
     "status": "completed"
    },
    "tags": []
   },
   "outputs": [],
   "source": [
    "from fairness_multiverse.conformal import compute_nc_scores\n",
    "\n",
    "# Compute nonconformity scores on calibration set (1 - probability of true class)\n",
    "nc_scores = compute_nc_scores(probs_calib, y_calib)"
   ]
  },
  {
   "cell_type": "code",
   "execution_count": 51,
   "id": "df3b8ca3-53b7-43d5-9667-7c85da7aeda2",
   "metadata": {
    "execution": {
     "iopub.execute_input": "2025-07-30T14:19:11.737230Z",
     "iopub.status.busy": "2025-07-30T14:19:11.736580Z",
     "iopub.status.idle": "2025-07-30T14:19:11.743759Z",
     "shell.execute_reply": "2025-07-30T14:19:11.742801Z"
    },
    "papermill": {
     "duration": 0.034067,
     "end_time": "2025-07-30T14:19:11.745487",
     "exception": false,
     "start_time": "2025-07-30T14:19:11.711420",
     "status": "completed"
    },
    "tags": []
   },
   "outputs": [],
   "source": [
    "from fairness_multiverse.conformal import find_threshold\n",
    "\n",
    "# Find conformal threshold q_hat for the given alpha (split conformal method)\n",
    "q_hat = find_threshold(nc_scores, alpha)"
   ]
  },
  {
   "cell_type": "code",
   "execution_count": 52,
   "id": "4d29e6c1-0ef6-4aa4-b8fe-4fe79b0d033a",
   "metadata": {
    "execution": {
     "iopub.execute_input": "2025-07-30T14:19:11.797692Z",
     "iopub.status.busy": "2025-07-30T14:19:11.796663Z",
     "iopub.status.idle": "2025-07-30T14:19:11.804249Z",
     "shell.execute_reply": "2025-07-30T14:19:11.803276Z"
    },
    "papermill": {
     "duration": 0.034692,
     "end_time": "2025-07-30T14:19:11.805912",
     "exception": false,
     "start_time": "2025-07-30T14:19:11.771220",
     "status": "completed"
    },
    "tags": []
   },
   "outputs": [
    {
     "data": {
      "text/plain": [
       "0.8024033718395251"
      ]
     },
     "execution_count": 52,
     "metadata": {},
     "output_type": "execute_result"
    }
   ],
   "source": [
    "q_hat"
   ]
  },
  {
   "cell_type": "code",
   "execution_count": 53,
   "id": "92460794-cdac-4be2-ba28-f28c0515a6fb",
   "metadata": {
    "execution": {
     "iopub.execute_input": "2025-07-30T14:19:11.858761Z",
     "iopub.status.busy": "2025-07-30T14:19:11.857848Z",
     "iopub.status.idle": "2025-07-30T14:19:12.746394Z",
     "shell.execute_reply": "2025-07-30T14:19:12.745418Z"
    },
    "papermill": {
     "duration": 0.91657,
     "end_time": "2025-07-30T14:19:12.748201",
     "exception": false,
     "start_time": "2025-07-30T14:19:11.831631",
     "status": "completed"
    },
    "tags": []
   },
   "outputs": [],
   "source": [
    "from fairness_multiverse.conformal import predict_conformal_sets\n",
    "\n",
    "# Generate prediction sets for each test example\n",
    "pred_sets = predict_conformal_sets(model, X_test, q_hat)"
   ]
  },
  {
   "cell_type": "code",
   "execution_count": 54,
   "id": "d90c9a65-e6db-4f5d-80cd-e68fb7e46829",
   "metadata": {
    "execution": {
     "iopub.execute_input": "2025-07-30T14:19:12.800267Z",
     "iopub.status.busy": "2025-07-30T14:19:12.799561Z",
     "iopub.status.idle": "2025-07-30T14:19:12.805148Z",
     "shell.execute_reply": "2025-07-30T14:19:12.804216Z"
    },
    "papermill": {
     "duration": 0.033714,
     "end_time": "2025-07-30T14:19:12.806704",
     "exception": false,
     "start_time": "2025-07-30T14:19:12.772990",
     "status": "completed"
    },
    "tags": []
   },
   "outputs": [],
   "source": [
    "y_true = y_true.squeeze()"
   ]
  },
  {
   "cell_type": "code",
   "execution_count": 55,
   "id": "3a58a54a-1e68-46b9-927a-df01f18aebc8",
   "metadata": {
    "execution": {
     "iopub.execute_input": "2025-07-30T14:19:12.858920Z",
     "iopub.status.busy": "2025-07-30T14:19:12.857974Z",
     "iopub.status.idle": "2025-07-30T14:19:13.802518Z",
     "shell.execute_reply": "2025-07-30T14:19:13.801528Z"
    },
    "papermill": {
     "duration": 0.972611,
     "end_time": "2025-07-30T14:19:13.804432",
     "exception": false,
     "start_time": "2025-07-30T14:19:12.831821",
     "status": "completed"
    },
    "tags": []
   },
   "outputs": [],
   "source": [
    "from fairness_multiverse.conformal import evaluate_sets\n",
    "\n",
    "# Evaluate coverage and average set size on test data\n",
    "metrics = evaluate_sets(pred_sets, y_true)"
   ]
  },
  {
   "cell_type": "markdown",
   "id": "2b569c12-9aaa-4c88-98c9-bbcd0cf3ebb8",
   "metadata": {
    "papermill": {
     "duration": 0.025012,
     "end_time": "2025-07-30T14:19:13.855122",
     "exception": false,
     "start_time": "2025-07-30T14:19:13.830110",
     "status": "completed"
    },
    "tags": []
   },
   "source": [
    "# CP Metrics"
   ]
  },
  {
   "cell_type": "code",
   "execution_count": 56,
   "id": "5ce0a5cb-201f-45a0-ade5-94c7f0bd6095",
   "metadata": {
    "execution": {
     "iopub.execute_input": "2025-07-30T14:19:13.905887Z",
     "iopub.status.busy": "2025-07-30T14:19:13.905240Z",
     "iopub.status.idle": "2025-07-30T14:19:13.913116Z",
     "shell.execute_reply": "2025-07-30T14:19:13.912171Z"
    },
    "papermill": {
     "duration": 0.035575,
     "end_time": "2025-07-30T14:19:13.914962",
     "exception": false,
     "start_time": "2025-07-30T14:19:13.879387",
     "status": "completed"
    },
    "tags": []
   },
   "outputs": [
    {
     "data": {
      "text/plain": [
       "{'coverage': 0.9063983948277784, 'avg_size': 1.237621223943819}"
      ]
     },
     "execution_count": 56,
     "metadata": {},
     "output_type": "execute_result"
    }
   ],
   "source": [
    "metrics"
   ]
  },
  {
   "cell_type": "code",
   "execution_count": 57,
   "id": "9b9a838d-31c9-430b-ae14-12baee460d17",
   "metadata": {
    "execution": {
     "iopub.execute_input": "2025-07-30T14:19:13.967279Z",
     "iopub.status.busy": "2025-07-30T14:19:13.966376Z",
     "iopub.status.idle": "2025-07-30T14:19:13.973015Z",
     "shell.execute_reply": "2025-07-30T14:19:13.971987Z"
    },
    "papermill": {
     "duration": 0.034061,
     "end_time": "2025-07-30T14:19:13.974684",
     "exception": false,
     "start_time": "2025-07-30T14:19:13.940623",
     "status": "completed"
    },
    "tags": []
   },
   "outputs": [],
   "source": [
    "example_universe = universe.copy()\n",
    "universe_training_size = example_universe.get(\"training_size\")\n",
    "universe_scale = example_universe.get(\"scale\")\n",
    "universe_model = example_universe.get(\"model\")\n",
    "universe_exclude_features = example_universe.get(\"exclude_features\")\n",
    "universe_exclude_subgroups = example_universe.get(\"exclude_subgroups\")"
   ]
  },
  {
   "cell_type": "code",
   "execution_count": 58,
   "id": "f4b6a8ac-9dc0-4245-8a91-5b3b5999c4f9",
   "metadata": {
    "execution": {
     "iopub.execute_input": "2025-07-30T14:19:14.027306Z",
     "iopub.status.busy": "2025-07-30T14:19:14.026457Z",
     "iopub.status.idle": "2025-07-30T14:19:14.032984Z",
     "shell.execute_reply": "2025-07-30T14:19:14.032068Z"
    },
    "papermill": {
     "duration": 0.033831,
     "end_time": "2025-07-30T14:19:14.034773",
     "exception": false,
     "start_time": "2025-07-30T14:19:14.000942",
     "status": "completed"
    },
    "tags": []
   },
   "outputs": [],
   "source": [
    "cp_metrics_dict = {\n",
    "    \"universe_id\": [universe_id],\n",
    "    \"universe_training_size\": [universe_training_size],\n",
    "    \"universe_scale\": [universe_scale],\n",
    "    \"universe_model\": [universe_model],\n",
    "    \"universe_exclude_features\": [universe_exclude_features],\n",
    "    \"universe_exclude_subgroups\": [universe_exclude_subgroups],\n",
    "    \"q_hat\": [q_hat],\n",
    "    \"coverage\": [metrics[\"coverage\"]],\n",
    "    \"avg_size\": [metrics[\"avg_size\"]],\n",
    "}"
   ]
  },
  {
   "cell_type": "code",
   "execution_count": 59,
   "id": "908acbb1-0371-4915-85ca-3fa520d2efe2",
   "metadata": {
    "execution": {
     "iopub.execute_input": "2025-07-30T14:19:14.087228Z",
     "iopub.status.busy": "2025-07-30T14:19:14.086577Z",
     "iopub.status.idle": "2025-07-30T14:19:14.094099Z",
     "shell.execute_reply": "2025-07-30T14:19:14.093056Z"
    },
    "papermill": {
     "duration": 0.034768,
     "end_time": "2025-07-30T14:19:14.095635",
     "exception": false,
     "start_time": "2025-07-30T14:19:14.060867",
     "status": "completed"
    },
    "tags": []
   },
   "outputs": [
    {
     "data": {
      "text/plain": [
       "{'universe_id': ['aba81f25dc33b1e89126ec5ffb69dda5'],\n",
       " 'universe_training_size': ['1k'],\n",
       " 'universe_scale': ['scale'],\n",
       " 'universe_model': ['logreg'],\n",
       " 'universe_exclude_features': ['sex'],\n",
       " 'universe_exclude_subgroups': ['keep-all'],\n",
       " 'q_hat': [0.8024033718395251],\n",
       " 'coverage': [0.9063983948277784],\n",
       " 'avg_size': [1.237621223943819]}"
      ]
     },
     "execution_count": 59,
     "metadata": {},
     "output_type": "execute_result"
    }
   ],
   "source": [
    "cp_metrics_dict"
   ]
  },
  {
   "cell_type": "code",
   "execution_count": 60,
   "id": "33007efc-14e9-4ec6-97ac-56a455c82265",
   "metadata": {
    "execution": {
     "iopub.execute_input": "2025-07-30T14:19:14.149388Z",
     "iopub.status.busy": "2025-07-30T14:19:14.148497Z",
     "iopub.status.idle": "2025-07-30T14:19:14.155016Z",
     "shell.execute_reply": "2025-07-30T14:19:14.154006Z"
    },
    "papermill": {
     "duration": 0.034702,
     "end_time": "2025-07-30T14:19:14.156734",
     "exception": false,
     "start_time": "2025-07-30T14:19:14.122032",
     "status": "completed"
    },
    "tags": []
   },
   "outputs": [],
   "source": [
    "cp_metrics_df = pd.DataFrame(cp_metrics_dict)"
   ]
  },
  {
   "cell_type": "code",
   "execution_count": 61,
   "id": "db12611b-57b2-4910-b9d0-355adfd6e7bf",
   "metadata": {
    "execution": {
     "iopub.execute_input": "2025-07-30T14:19:14.210645Z",
     "iopub.status.busy": "2025-07-30T14:19:14.210007Z",
     "iopub.status.idle": "2025-07-30T14:19:14.228232Z",
     "shell.execute_reply": "2025-07-30T14:19:14.227270Z"
    },
    "papermill": {
     "duration": 0.046668,
     "end_time": "2025-07-30T14:19:14.229894",
     "exception": false,
     "start_time": "2025-07-30T14:19:14.183226",
     "status": "completed"
    },
    "tags": []
   },
   "outputs": [
    {
     "data": {
      "text/html": [
       "<div>\n",
       "<style scoped>\n",
       "    .dataframe tbody tr th:only-of-type {\n",
       "        vertical-align: middle;\n",
       "    }\n",
       "\n",
       "    .dataframe tbody tr th {\n",
       "        vertical-align: top;\n",
       "    }\n",
       "\n",
       "    .dataframe thead th {\n",
       "        text-align: right;\n",
       "    }\n",
       "</style>\n",
       "<table border=\"1\" class=\"dataframe\">\n",
       "  <thead>\n",
       "    <tr style=\"text-align: right;\">\n",
       "      <th></th>\n",
       "      <th>universe_id</th>\n",
       "      <th>universe_training_size</th>\n",
       "      <th>universe_scale</th>\n",
       "      <th>universe_model</th>\n",
       "      <th>universe_exclude_features</th>\n",
       "      <th>universe_exclude_subgroups</th>\n",
       "      <th>q_hat</th>\n",
       "      <th>coverage</th>\n",
       "      <th>avg_size</th>\n",
       "    </tr>\n",
       "  </thead>\n",
       "  <tbody>\n",
       "    <tr>\n",
       "      <th>0</th>\n",
       "      <td>aba81f25dc33b1e89126ec5ffb69dda5</td>\n",
       "      <td>1k</td>\n",
       "      <td>scale</td>\n",
       "      <td>logreg</td>\n",
       "      <td>sex</td>\n",
       "      <td>keep-all</td>\n",
       "      <td>0.802403</td>\n",
       "      <td>0.906398</td>\n",
       "      <td>1.237621</td>\n",
       "    </tr>\n",
       "  </tbody>\n",
       "</table>\n",
       "</div>"
      ],
      "text/plain": [
       "                        universe_id universe_training_size universe_scale  \\\n",
       "0  aba81f25dc33b1e89126ec5ffb69dda5                     1k          scale   \n",
       "\n",
       "  universe_model universe_exclude_features universe_exclude_subgroups  \\\n",
       "0         logreg                       sex                   keep-all   \n",
       "\n",
       "      q_hat  coverage  avg_size  \n",
       "0  0.802403  0.906398  1.237621  "
      ]
     },
     "execution_count": 61,
     "metadata": {},
     "output_type": "execute_result"
    }
   ],
   "source": [
    "cp_metrics_df"
   ]
  },
  {
   "cell_type": "code",
   "execution_count": 62,
   "id": "b7fbde55-a0a1-47e4-9af6-fe4a17fa8c61",
   "metadata": {
    "execution": {
     "iopub.execute_input": "2025-07-30T14:19:14.284362Z",
     "iopub.status.busy": "2025-07-30T14:19:14.283603Z",
     "iopub.status.idle": "2025-07-30T14:19:14.288928Z",
     "shell.execute_reply": "2025-07-30T14:19:14.287919Z"
    },
    "papermill": {
     "duration": 0.034382,
     "end_time": "2025-07-30T14:19:14.290706",
     "exception": false,
     "start_time": "2025-07-30T14:19:14.256324",
     "status": "completed"
    },
    "tags": []
   },
   "outputs": [],
   "source": [
    "# Conditional Coverage & looking at subgroups"
   ]
  },
  {
   "cell_type": "code",
   "execution_count": 63,
   "id": "027ae886-68dd-4141-96c7-805a5450e1ef",
   "metadata": {
    "execution": {
     "iopub.execute_input": "2025-07-30T14:19:14.344346Z",
     "iopub.status.busy": "2025-07-30T14:19:14.343883Z",
     "iopub.status.idle": "2025-07-30T14:19:14.612380Z",
     "shell.execute_reply": "2025-07-30T14:19:14.611358Z"
    },
    "papermill": {
     "duration": 0.297406,
     "end_time": "2025-07-30T14:19:14.614241",
     "exception": false,
     "start_time": "2025-07-30T14:19:14.316835",
     "status": "completed"
    },
    "tags": []
   },
   "outputs": [],
   "source": [
    "from fairness_multiverse.conformal import build_cp_groups\n",
    "\n",
    "cp_groups_df = build_cp_groups(pred_sets, y_true, X_test.index, org_test)\n",
    "#needs universe_id and setting"
   ]
  },
  {
   "cell_type": "code",
   "execution_count": 64,
   "id": "01d5802c-663a-4d1f-9d69-e036faaffbf7",
   "metadata": {
    "execution": {
     "iopub.execute_input": "2025-07-30T14:19:14.675459Z",
     "iopub.status.busy": "2025-07-30T14:19:14.674610Z",
     "iopub.status.idle": "2025-07-30T14:19:14.679819Z",
     "shell.execute_reply": "2025-07-30T14:19:14.678863Z"
    },
    "papermill": {
     "duration": 0.040487,
     "end_time": "2025-07-30T14:19:14.681419",
     "exception": false,
     "start_time": "2025-07-30T14:19:14.640932",
     "status": "completed"
    },
    "tags": []
   },
   "outputs": [],
   "source": [
    "#delete\n",
    "#cp_groups_df"
   ]
  },
  {
   "cell_type": "code",
   "execution_count": 65,
   "id": "fa424af1-d1eb-443d-b717-2d279ada8408",
   "metadata": {
    "execution": {
     "iopub.execute_input": "2025-07-30T14:19:14.736113Z",
     "iopub.status.busy": "2025-07-30T14:19:14.735543Z",
     "iopub.status.idle": "2025-07-30T14:19:14.740544Z",
     "shell.execute_reply": "2025-07-30T14:19:14.739558Z"
    },
    "papermill": {
     "duration": 0.033509,
     "end_time": "2025-07-30T14:19:14.742179",
     "exception": false,
     "start_time": "2025-07-30T14:19:14.708670",
     "status": "completed"
    },
    "tags": []
   },
   "outputs": [],
   "source": [
    "#delete\n",
    "#percentage = (cp_groups_df['nongerman_female'] == 1).mean() * 100\n",
    "#print(percentage)\n"
   ]
  },
  {
   "cell_type": "code",
   "execution_count": 66,
   "id": "6cbdab96-b2b2-45af-ad54-d0516db2e28d",
   "metadata": {
    "execution": {
     "iopub.execute_input": "2025-07-30T14:19:14.797398Z",
     "iopub.status.busy": "2025-07-30T14:19:14.796515Z",
     "iopub.status.idle": "2025-07-30T14:19:16.422249Z",
     "shell.execute_reply": "2025-07-30T14:19:16.421253Z"
    },
    "papermill": {
     "duration": 1.655816,
     "end_time": "2025-07-30T14:19:16.424290",
     "exception": false,
     "start_time": "2025-07-30T14:19:14.768474",
     "status": "completed"
    },
    "tags": []
   },
   "outputs": [],
   "source": [
    "# Define covered = 1 if true_label is in the predicted set\n",
    "cp_groups_df['covered'] = cp_groups_df.apply(\n",
    "    lambda r: int(r['true_label'] in r['pred_set']),\n",
    "    axis=1\n",
    ")"
   ]
  },
  {
   "cell_type": "code",
   "execution_count": 67,
   "id": "338ff529-1a6b-4b87-a931-8e4788d52aad",
   "metadata": {
    "execution": {
     "iopub.execute_input": "2025-07-30T14:19:16.478851Z",
     "iopub.status.busy": "2025-07-30T14:19:16.477934Z",
     "iopub.status.idle": "2025-07-30T14:19:16.483448Z",
     "shell.execute_reply": "2025-07-30T14:19:16.482512Z"
    },
    "papermill": {
     "duration": 0.033989,
     "end_time": "2025-07-30T14:19:16.485276",
     "exception": false,
     "start_time": "2025-07-30T14:19:16.451287",
     "status": "completed"
    },
    "tags": []
   },
   "outputs": [],
   "source": [
    "#cp_groups_df"
   ]
  },
  {
   "cell_type": "code",
   "execution_count": 68,
   "id": "90032e27-66df-4540-9169-4e89cfbaa758",
   "metadata": {
    "execution": {
     "iopub.execute_input": "2025-07-30T14:19:16.540012Z",
     "iopub.status.busy": "2025-07-30T14:19:16.539131Z",
     "iopub.status.idle": "2025-07-30T14:19:16.550394Z",
     "shell.execute_reply": "2025-07-30T14:19:16.549410Z"
    },
    "papermill": {
     "duration": 0.040316,
     "end_time": "2025-07-30T14:19:16.552091",
     "exception": false,
     "start_time": "2025-07-30T14:19:16.511775",
     "status": "completed"
    },
    "tags": []
   },
   "outputs": [],
   "source": [
    "subgroups = ['frau1','nongerman','nongerman_male','nongerman_female']\n",
    "\n",
    "# Conditional coverage for subgroup==1\n",
    "cond_coverage = {\n",
    "    g: cp_groups_df.loc[cp_groups_df[g]==1, 'covered'].mean()\n",
    "    for g in subgroups\n",
    "}"
   ]
  },
  {
   "cell_type": "code",
   "execution_count": 69,
   "id": "1e348fb1-b9c3-45bc-ba23-f016827a7e0d",
   "metadata": {
    "execution": {
     "iopub.execute_input": "2025-07-30T14:19:16.606385Z",
     "iopub.status.busy": "2025-07-30T14:19:16.605731Z",
     "iopub.status.idle": "2025-07-30T14:19:16.613015Z",
     "shell.execute_reply": "2025-07-30T14:19:16.612084Z"
    },
    "papermill": {
     "duration": 0.036602,
     "end_time": "2025-07-30T14:19:16.614570",
     "exception": false,
     "start_time": "2025-07-30T14:19:16.577968",
     "status": "completed"
    },
    "tags": []
   },
   "outputs": [
    {
     "data": {
      "text/plain": [
       "{'frau1': 0.9054050411106618,\n",
       " 'nongerman': 0.9117498456183686,\n",
       " 'nongerman_male': 0.92704674412321,\n",
       " 'nongerman_female': 0.8864381520119226}"
      ]
     },
     "execution_count": 69,
     "metadata": {},
     "output_type": "execute_result"
    }
   ],
   "source": [
    "cond_coverage"
   ]
  },
  {
   "cell_type": "code",
   "execution_count": 70,
   "id": "f5093324-c3dd-4d63-bc4c-8d945e5c8bbb",
   "metadata": {
    "execution": {
     "iopub.execute_input": "2025-07-30T14:19:16.670137Z",
     "iopub.status.busy": "2025-07-30T14:19:16.669494Z",
     "iopub.status.idle": "2025-07-30T14:19:16.676828Z",
     "shell.execute_reply": "2025-07-30T14:19:16.675864Z"
    },
    "papermill": {
     "duration": 0.036576,
     "end_time": "2025-07-30T14:19:16.678337",
     "exception": false,
     "start_time": "2025-07-30T14:19:16.641761",
     "status": "completed"
    },
    "tags": []
   },
   "outputs": [],
   "source": [
    "for subgroup, cov in cond_coverage.items():\n",
    "    cp_metrics_df[f\"cov_{subgroup}\"] = cov"
   ]
  },
  {
   "cell_type": "code",
   "execution_count": 71,
   "id": "6e872e10-dbe5-49e8-b554-5030c98ff75d",
   "metadata": {
    "execution": {
     "iopub.execute_input": "2025-07-30T14:19:16.735231Z",
     "iopub.status.busy": "2025-07-30T14:19:16.734827Z",
     "iopub.status.idle": "2025-07-30T14:19:16.753743Z",
     "shell.execute_reply": "2025-07-30T14:19:16.752685Z"
    },
    "papermill": {
     "duration": 0.049572,
     "end_time": "2025-07-30T14:19:16.755397",
     "exception": false,
     "start_time": "2025-07-30T14:19:16.705825",
     "status": "completed"
    },
    "tags": []
   },
   "outputs": [
    {
     "data": {
      "text/html": [
       "<div>\n",
       "<style scoped>\n",
       "    .dataframe tbody tr th:only-of-type {\n",
       "        vertical-align: middle;\n",
       "    }\n",
       "\n",
       "    .dataframe tbody tr th {\n",
       "        vertical-align: top;\n",
       "    }\n",
       "\n",
       "    .dataframe thead th {\n",
       "        text-align: right;\n",
       "    }\n",
       "</style>\n",
       "<table border=\"1\" class=\"dataframe\">\n",
       "  <thead>\n",
       "    <tr style=\"text-align: right;\">\n",
       "      <th></th>\n",
       "      <th>universe_id</th>\n",
       "      <th>universe_training_size</th>\n",
       "      <th>universe_scale</th>\n",
       "      <th>universe_model</th>\n",
       "      <th>universe_exclude_features</th>\n",
       "      <th>universe_exclude_subgroups</th>\n",
       "      <th>q_hat</th>\n",
       "      <th>coverage</th>\n",
       "      <th>avg_size</th>\n",
       "      <th>cov_frau1</th>\n",
       "      <th>cov_nongerman</th>\n",
       "      <th>cov_nongerman_male</th>\n",
       "      <th>cov_nongerman_female</th>\n",
       "    </tr>\n",
       "  </thead>\n",
       "  <tbody>\n",
       "    <tr>\n",
       "      <th>0</th>\n",
       "      <td>aba81f25dc33b1e89126ec5ffb69dda5</td>\n",
       "      <td>1k</td>\n",
       "      <td>scale</td>\n",
       "      <td>logreg</td>\n",
       "      <td>sex</td>\n",
       "      <td>keep-all</td>\n",
       "      <td>0.802403</td>\n",
       "      <td>0.906398</td>\n",
       "      <td>1.237621</td>\n",
       "      <td>0.905405</td>\n",
       "      <td>0.91175</td>\n",
       "      <td>0.927047</td>\n",
       "      <td>0.886438</td>\n",
       "    </tr>\n",
       "  </tbody>\n",
       "</table>\n",
       "</div>"
      ],
      "text/plain": [
       "                        universe_id universe_training_size universe_scale  \\\n",
       "0  aba81f25dc33b1e89126ec5ffb69dda5                     1k          scale   \n",
       "\n",
       "  universe_model universe_exclude_features universe_exclude_subgroups  \\\n",
       "0         logreg                       sex                   keep-all   \n",
       "\n",
       "      q_hat  coverage  avg_size  cov_frau1  cov_nongerman  cov_nongerman_male  \\\n",
       "0  0.802403  0.906398  1.237621   0.905405        0.91175            0.927047   \n",
       "\n",
       "   cov_nongerman_female  \n",
       "0              0.886438  "
      ]
     },
     "execution_count": 71,
     "metadata": {},
     "output_type": "execute_result"
    }
   ],
   "source": [
    "cp_metrics_df"
   ]
  },
  {
   "cell_type": "markdown",
   "id": "33774451",
   "metadata": {
    "papermill": {
     "duration": 0.026637,
     "end_time": "2025-07-30T14:19:16.810621",
     "exception": false,
     "start_time": "2025-07-30T14:19:16.783984",
     "status": "completed"
    },
    "tags": []
   },
   "source": [
    "# (Fairness) Metrics"
   ]
  },
  {
   "cell_type": "code",
   "execution_count": 72,
   "id": "debc5d62",
   "metadata": {
    "execution": {
     "iopub.execute_input": "2025-07-30T14:19:16.867355Z",
     "iopub.status.busy": "2025-07-30T14:19:16.866600Z",
     "iopub.status.idle": "2025-07-30T14:19:16.888074Z",
     "shell.execute_reply": "2025-07-30T14:19:16.887062Z"
    },
    "papermill": {
     "duration": 0.051998,
     "end_time": "2025-07-30T14:19:16.890340",
     "exception": false,
     "start_time": "2025-07-30T14:19:16.838342",
     "status": "completed"
    },
    "tags": []
   },
   "outputs": [],
   "source": [
    "# do I need to include maxdeutsch1.missing?\n",
    "\n",
    "import numpy as np\n",
    "\n",
    "colname_to_bin = \"maxdeutsch1\"\n",
    "majority_value = org_train[colname_to_bin].mode()[0]\n",
    "\n",
    "org_test[\"majmin\"] = np.where(org_test[colname_to_bin] == majority_value, \"majority\", \"minority\")"
   ]
  },
  {
   "cell_type": "code",
   "execution_count": 73,
   "id": "06a50de5",
   "metadata": {
    "execution": {
     "iopub.execute_input": "2025-07-30T14:19:16.947443Z",
     "iopub.status.busy": "2025-07-30T14:19:16.946957Z",
     "iopub.status.idle": "2025-07-30T14:19:19.532588Z",
     "shell.execute_reply": "2025-07-30T14:19:19.531844Z"
    },
    "papermill": {
     "duration": 2.615415,
     "end_time": "2025-07-30T14:19:19.534063",
     "exception": false,
     "start_time": "2025-07-30T14:19:16.918648",
     "status": "completed"
    },
    "tags": []
   },
   "outputs": [],
   "source": [
    "example_universe = universe.copy()\n",
    "example_universe[\"cutoff\"] = example_universe[\"cutoff\"][0]\n",
    "example_universe[\"eval_fairness_grouping\"] = example_universe[\"eval_fairness_grouping\"][0]\n",
    "fairness_dict, metric_frame = universe_analysis.compute_metrics(\n",
    "    example_universe,\n",
    "    y_pred_prob=probs_test,\n",
    "    y_test=y_true,\n",
    "    org_test=org_test,\n",
    ")"
   ]
  },
  {
   "cell_type": "markdown",
   "id": "f95d4e02",
   "metadata": {
    "papermill": {
     "duration": 0.01545,
     "end_time": "2025-07-30T14:19:19.564608",
     "exception": false,
     "start_time": "2025-07-30T14:19:19.549158",
     "status": "completed"
    },
    "tags": []
   },
   "source": [
    "# Overall"
   ]
  },
  {
   "cell_type": "markdown",
   "id": "bdee4871",
   "metadata": {
    "papermill": {
     "duration": 0.015185,
     "end_time": "2025-07-30T14:19:19.594575",
     "exception": false,
     "start_time": "2025-07-30T14:19:19.579390",
     "status": "completed"
    },
    "tags": []
   },
   "source": [
    "Fairness\n",
    "Main fairness target: Equalized Odds. Seems to be a better fit than equal opportunity, since we're not only interested in Y = 1. Seems to be a better fit than demographic parity, since we also care about accuracy, not just equal distribution of preds.\n",
    "\n",
    "Pick column for computation of fairness metrics\n",
    "\n",
    "Performance\n",
    "Overall performance measures, most interesting in relation to the measures split by group below"
   ]
  },
  {
   "cell_type": "code",
   "execution_count": 74,
   "id": "c4e067c6",
   "metadata": {
    "execution": {
     "iopub.execute_input": "2025-07-30T14:19:19.627232Z",
     "iopub.status.busy": "2025-07-30T14:19:19.626525Z",
     "iopub.status.idle": "2025-07-30T14:19:19.633532Z",
     "shell.execute_reply": "2025-07-30T14:19:19.632693Z"
    },
    "papermill": {
     "duration": 0.024118,
     "end_time": "2025-07-30T14:19:19.634804",
     "exception": false,
     "start_time": "2025-07-30T14:19:19.610686",
     "status": "completed"
    },
    "tags": []
   },
   "outputs": [
    {
     "data": {
      "text/plain": [
       "accuracy                   0.218002\n",
       "balanced accuracy          0.534381\n",
       "f1                         0.239509\n",
       "precision                  0.136824\n",
       "false positive rate        0.891179\n",
       "false negative rate        0.040059\n",
       "selection rate             0.900000\n",
       "count                  89710.000000\n",
       "dtype: float64"
      ]
     },
     "execution_count": 74,
     "metadata": {},
     "output_type": "execute_result"
    }
   ],
   "source": [
    "metric_frame.overall"
   ]
  },
  {
   "cell_type": "markdown",
   "id": "e968fe9d",
   "metadata": {
    "papermill": {
     "duration": 0.015278,
     "end_time": "2025-07-30T14:19:19.665643",
     "exception": false,
     "start_time": "2025-07-30T14:19:19.650365",
     "status": "completed"
    },
    "tags": []
   },
   "source": [
    "By Group"
   ]
  },
  {
   "cell_type": "code",
   "execution_count": 75,
   "id": "ec325bce",
   "metadata": {
    "execution": {
     "iopub.execute_input": "2025-07-30T14:19:19.711451Z",
     "iopub.status.busy": "2025-07-30T14:19:19.710580Z",
     "iopub.status.idle": "2025-07-30T14:19:19.728616Z",
     "shell.execute_reply": "2025-07-30T14:19:19.727139Z"
    },
    "papermill": {
     "duration": 0.048327,
     "end_time": "2025-07-30T14:19:19.730837",
     "exception": false,
     "start_time": "2025-07-30T14:19:19.682510",
     "status": "completed"
    },
    "tags": []
   },
   "outputs": [
    {
     "data": {
      "text/html": [
       "<div>\n",
       "<style scoped>\n",
       "    .dataframe tbody tr th:only-of-type {\n",
       "        vertical-align: middle;\n",
       "    }\n",
       "\n",
       "    .dataframe tbody tr th {\n",
       "        vertical-align: top;\n",
       "    }\n",
       "\n",
       "    .dataframe thead th {\n",
       "        text-align: right;\n",
       "    }\n",
       "</style>\n",
       "<table border=\"1\" class=\"dataframe\">\n",
       "  <thead>\n",
       "    <tr style=\"text-align: right;\">\n",
       "      <th></th>\n",
       "      <th>accuracy</th>\n",
       "      <th>balanced accuracy</th>\n",
       "      <th>f1</th>\n",
       "      <th>precision</th>\n",
       "      <th>false positive rate</th>\n",
       "      <th>false negative rate</th>\n",
       "      <th>selection rate</th>\n",
       "      <th>count</th>\n",
       "    </tr>\n",
       "    <tr>\n",
       "      <th>majmin</th>\n",
       "      <th></th>\n",
       "      <th></th>\n",
       "      <th></th>\n",
       "      <th></th>\n",
       "      <th></th>\n",
       "      <th></th>\n",
       "      <th></th>\n",
       "      <th></th>\n",
       "    </tr>\n",
       "  </thead>\n",
       "  <tbody>\n",
       "    <tr>\n",
       "      <th>majority</th>\n",
       "      <td>0.231647</td>\n",
       "      <td>0.539429</td>\n",
       "      <td>0.247796</td>\n",
       "      <td>0.142307</td>\n",
       "      <td>0.878911</td>\n",
       "      <td>0.042232</td>\n",
       "      <td>0.889331</td>\n",
       "      <td>69170.0</td>\n",
       "    </tr>\n",
       "    <tr>\n",
       "      <th>minority</th>\n",
       "      <td>0.172055</td>\n",
       "      <td>0.518310</td>\n",
       "      <td>0.212393</td>\n",
       "      <td>0.119278</td>\n",
       "      <td>0.931708</td>\n",
       "      <td>0.031672</td>\n",
       "      <td>0.935930</td>\n",
       "      <td>20540.0</td>\n",
       "    </tr>\n",
       "  </tbody>\n",
       "</table>\n",
       "</div>"
      ],
      "text/plain": [
       "          accuracy  balanced accuracy        f1  precision  \\\n",
       "majmin                                                       \n",
       "majority  0.231647           0.539429  0.247796   0.142307   \n",
       "minority  0.172055           0.518310  0.212393   0.119278   \n",
       "\n",
       "          false positive rate  false negative rate  selection rate    count  \n",
       "majmin                                                                       \n",
       "majority             0.878911             0.042232        0.889331  69170.0  \n",
       "minority             0.931708             0.031672        0.935930  20540.0  "
      ]
     },
     "execution_count": 75,
     "metadata": {},
     "output_type": "execute_result"
    }
   ],
   "source": [
    "metric_frame.by_group"
   ]
  },
  {
   "cell_type": "code",
   "execution_count": 76,
   "id": "a9ddbe63",
   "metadata": {
    "execution": {
     "iopub.execute_input": "2025-07-30T14:19:19.805913Z",
     "iopub.status.busy": "2025-07-30T14:19:19.805394Z",
     "iopub.status.idle": "2025-07-30T14:19:22.122224Z",
     "shell.execute_reply": "2025-07-30T14:19:22.121124Z"
    },
    "papermill": {
     "duration": 2.350823,
     "end_time": "2025-07-30T14:19:22.123843",
     "exception": false,
     "start_time": "2025-07-30T14:19:19.773020",
     "status": "completed"
    },
    "tags": []
   },
   "outputs": [
    {
     "data": {
      "text/plain": [
       "array([[<Axes: title={'center': 'accuracy'}, xlabel='majmin'>,\n",
       "        <Axes: title={'center': 'balanced accuracy'}, xlabel='majmin'>,\n",
       "        <Axes: title={'center': 'f1'}, xlabel='majmin'>],\n",
       "       [<Axes: title={'center': 'precision'}, xlabel='majmin'>,\n",
       "        <Axes: title={'center': 'false positive rate'}, xlabel='majmin'>,\n",
       "        <Axes: title={'center': 'false negative rate'}, xlabel='majmin'>],\n",
       "       [<Axes: title={'center': 'selection rate'}, xlabel='majmin'>,\n",
       "        <Axes: title={'center': 'count'}, xlabel='majmin'>,\n",
       "        <Axes: xlabel='majmin'>]], dtype=object)"
      ]
     },
     "execution_count": 76,
     "metadata": {},
     "output_type": "execute_result"
    },
    {
     "data": {
      "image/png": "[encoded data removed]",
      "text/plain": [
       "<Figure size 1200x800 with 9 Axes>"
      ]
     },
     "metadata": {},
     "output_type": "display_data"
    }
   ],
   "source": [
    "# In a graphic\n",
    "metric_frame.by_group.plot.bar(\n",
    "    subplots=True,\n",
    "    layout=[3, 3],\n",
    "    legend=False,\n",
    "    figsize=[12, 8],\n",
    "    title=\"Show all metrics\",\n",
    ")"
   ]
  },
  {
   "cell_type": "markdown",
   "id": "f57a0bac",
   "metadata": {
    "papermill": {
     "duration": 0.028242,
     "end_time": "2025-07-30T14:19:22.180332",
     "exception": false,
     "start_time": "2025-07-30T14:19:22.152090",
     "status": "completed"
    },
    "tags": []
   },
   "source": [
    "# Final Output"
   ]
  },
  {
   "cell_type": "code",
   "execution_count": 77,
   "id": "96d280a3",
   "metadata": {
    "execution": {
     "iopub.execute_input": "2025-07-30T14:19:22.237742Z",
     "iopub.status.busy": "2025-07-30T14:19:22.237076Z",
     "iopub.status.idle": "2025-07-30T14:19:22.246212Z",
     "shell.execute_reply": "2025-07-30T14:19:22.245278Z"
    },
    "papermill": {
     "duration": 0.039894,
     "end_time": "2025-07-30T14:19:22.247677",
     "exception": false,
     "start_time": "2025-07-30T14:19:22.207783",
     "status": "completed"
    },
    "tags": []
   },
   "outputs": [
    {
     "data": {
      "text/plain": [
       "4"
      ]
     },
     "execution_count": 77,
     "metadata": {},
     "output_type": "execute_result"
    }
   ],
   "source": [
    "sub_universes = universe_analysis.generate_sub_universes()\n",
    "len(sub_universes)"
   ]
  },
  {
   "cell_type": "code",
   "execution_count": 78,
   "id": "92adf7ba",
   "metadata": {
    "execution": {
     "iopub.execute_input": "2025-07-30T14:19:22.307054Z",
     "iopub.status.busy": "2025-07-30T14:19:22.306187Z",
     "iopub.status.idle": "2025-07-30T14:19:22.313411Z",
     "shell.execute_reply": "2025-07-30T14:19:22.312337Z"
    },
    "papermill": {
     "duration": 0.039741,
     "end_time": "2025-07-30T14:19:22.315277",
     "exception": false,
     "start_time": "2025-07-30T14:19:22.275536",
     "status": "completed"
    },
    "tags": []
   },
   "outputs": [],
   "source": [
    "def filter_sub_universe_data(sub_universe, org_test):\n",
    "    # Keep all rows — no filtering\n",
    "    keep_rows_mask = np.ones(org_test.shape[0], dtype=bool)\n",
    "\n",
    "    print(f\"[INFO] Keeping all rows: {keep_rows_mask.sum()} rows retained.\")\n",
    "    return keep_rows_mask"
   ]
  },
  {
   "cell_type": "code",
   "execution_count": 79,
   "id": "4a759155",
   "metadata": {
    "execution": {
     "iopub.execute_input": "2025-07-30T14:19:22.377008Z",
     "iopub.status.busy": "2025-07-30T14:19:22.376349Z",
     "iopub.status.idle": "2025-07-30T14:19:33.616616Z",
     "shell.execute_reply": "2025-07-30T14:19:33.615609Z"
    },
    "papermill": {
     "duration": 11.272484,
     "end_time": "2025-07-30T14:19:33.618447",
     "exception": false,
     "start_time": "2025-07-30T14:19:22.345963",
     "status": "completed"
    },
    "tags": []
   },
   "outputs": [
    {
     "name": "stdout",
     "output_type": "stream",
     "text": [
      "Stopping execution_time clock.\n",
      "[INFO] Keeping all rows: 89710 rows retained.\n"
     ]
    },
    {
     "name": "stdout",
     "output_type": "stream",
     "text": [
      "[INFO] Keeping all rows: 89710 rows retained.\n"
     ]
    },
    {
     "name": "stdout",
     "output_type": "stream",
     "text": [
      "[INFO] Keeping all rows: 89710 rows retained.\n"
     ]
    },
    {
     "name": "stdout",
     "output_type": "stream",
     "text": [
      "[INFO] Keeping all rows: 89710 rows retained.\n"
     ]
    },
    {
     "data": {
      "text/html": [
       "<div>\n",
       "<style scoped>\n",
       "    .dataframe tbody tr th:only-of-type {\n",
       "        vertical-align: middle;\n",
       "    }\n",
       "\n",
       "    .dataframe tbody tr th {\n",
       "        vertical-align: top;\n",
       "    }\n",
       "\n",
       "    .dataframe thead th {\n",
       "        text-align: right;\n",
       "    }\n",
       "</style>\n",
       "<table border=\"1\" class=\"dataframe\">\n",
       "  <thead>\n",
       "    <tr style=\"text-align: right;\">\n",
       "      <th></th>\n",
       "      <th>run_no</th>\n",
       "      <th>universe_id</th>\n",
       "      <th>universe_settings</th>\n",
       "      <th>execution_time</th>\n",
       "      <th>test_size_n</th>\n",
       "      <th>test_size_frac</th>\n",
       "      <th>fair_main_equalized_odds_difference</th>\n",
       "      <th>fair_main_equalized_odds_ratio</th>\n",
       "      <th>fair_main_demographic_parity_difference</th>\n",
       "      <th>fair_main_demographic_parity_ratio</th>\n",
       "      <th>...</th>\n",
       "      <th>perf_grp_precision_0</th>\n",
       "      <th>perf_grp_precision_1</th>\n",
       "      <th>perf_grp_false positive rate_0</th>\n",
       "      <th>perf_grp_false positive rate_1</th>\n",
       "      <th>perf_grp_false negative rate_0</th>\n",
       "      <th>perf_grp_false negative rate_1</th>\n",
       "      <th>perf_grp_selection rate_0</th>\n",
       "      <th>perf_grp_selection rate_1</th>\n",
       "      <th>perf_grp_count_0</th>\n",
       "      <th>perf_grp_count_1</th>\n",
       "    </tr>\n",
       "  </thead>\n",
       "  <tbody>\n",
       "    <tr>\n",
       "      <th>0</th>\n",
       "      <td>12</td>\n",
       "      <td>aba81f25dc33b1e89126ec5ffb69dda5</td>\n",
       "      <td>{\"cutoff\": \"quantile_0.1\", \"eval_fairness_grou...</td>\n",
       "      <td>26.538221</td>\n",
       "      <td>89710</td>\n",
       "      <td>1.0</td>\n",
       "      <td>0.052798</td>\n",
       "      <td>0.943332</td>\n",
       "      <td>0.046599</td>\n",
       "      <td>0.950211</td>\n",
       "      <td>...</td>\n",
       "      <td>NaN</td>\n",
       "      <td>NaN</td>\n",
       "      <td>NaN</td>\n",
       "      <td>NaN</td>\n",
       "      <td>NaN</td>\n",
       "      <td>NaN</td>\n",
       "      <td>NaN</td>\n",
       "      <td>NaN</td>\n",
       "      <td>NaN</td>\n",
       "      <td>NaN</td>\n",
       "    </tr>\n",
       "    <tr>\n",
       "      <th>0</th>\n",
       "      <td>12</td>\n",
       "      <td>aba81f25dc33b1e89126ec5ffb69dda5</td>\n",
       "      <td>{\"cutoff\": \"quantile_0.1\", \"eval_fairness_grou...</td>\n",
       "      <td>26.538221</td>\n",
       "      <td>89710</td>\n",
       "      <td>1.0</td>\n",
       "      <td>0.052798</td>\n",
       "      <td>0.943332</td>\n",
       "      <td>0.046599</td>\n",
       "      <td>0.950211</td>\n",
       "      <td>...</td>\n",
       "      <td>0.119278</td>\n",
       "      <td>0.142307</td>\n",
       "      <td>0.931708</td>\n",
       "      <td>0.878911</td>\n",
       "      <td>0.031672</td>\n",
       "      <td>0.042232</td>\n",
       "      <td>0.935930</td>\n",
       "      <td>0.889331</td>\n",
       "      <td>20540.0</td>\n",
       "      <td>69170.0</td>\n",
       "    </tr>\n",
       "    <tr>\n",
       "      <th>0</th>\n",
       "      <td>12</td>\n",
       "      <td>aba81f25dc33b1e89126ec5ffb69dda5</td>\n",
       "      <td>{\"cutoff\": \"quantile_0.25\", \"eval_fairness_gro...</td>\n",
       "      <td>26.538221</td>\n",
       "      <td>89710</td>\n",
       "      <td>1.0</td>\n",
       "      <td>0.036199</td>\n",
       "      <td>0.952294</td>\n",
       "      <td>0.027979</td>\n",
       "      <td>0.963737</td>\n",
       "      <td>...</td>\n",
       "      <td>NaN</td>\n",
       "      <td>NaN</td>\n",
       "      <td>NaN</td>\n",
       "      <td>NaN</td>\n",
       "      <td>NaN</td>\n",
       "      <td>NaN</td>\n",
       "      <td>NaN</td>\n",
       "      <td>NaN</td>\n",
       "      <td>NaN</td>\n",
       "      <td>NaN</td>\n",
       "    </tr>\n",
       "    <tr>\n",
       "      <th>0</th>\n",
       "      <td>12</td>\n",
       "      <td>aba81f25dc33b1e89126ec5ffb69dda5</td>\n",
       "      <td>{\"cutoff\": \"quantile_0.25\", \"eval_fairness_gro...</td>\n",
       "      <td>26.538221</td>\n",
       "      <td>89710</td>\n",
       "      <td>1.0</td>\n",
       "      <td>0.036199</td>\n",
       "      <td>0.952294</td>\n",
       "      <td>0.027979</td>\n",
       "      <td>0.963737</td>\n",
       "      <td>...</td>\n",
       "      <td>0.129922</td>\n",
       "      <td>0.156628</td>\n",
       "      <td>0.758805</td>\n",
       "      <td>0.722605</td>\n",
       "      <td>0.130490</td>\n",
       "      <td>0.118600</td>\n",
       "      <td>0.771568</td>\n",
       "      <td>0.743588</td>\n",
       "      <td>20540.0</td>\n",
       "      <td>69170.0</td>\n",
       "    </tr>\n",
       "  </tbody>\n",
       "</table>\n",
       "<p>4 rows × 50 columns</p>\n",
       "</div>"
      ],
      "text/plain": [
       "  run_no                       universe_id  \\\n",
       "0     12  aba81f25dc33b1e89126ec5ffb69dda5   \n",
       "0     12  aba81f25dc33b1e89126ec5ffb69dda5   \n",
       "0     12  aba81f25dc33b1e89126ec5ffb69dda5   \n",
       "0     12  aba81f25dc33b1e89126ec5ffb69dda5   \n",
       "\n",
       "                                   universe_settings  execution_time  \\\n",
       "0  {\"cutoff\": \"quantile_0.1\", \"eval_fairness_grou...       26.538221   \n",
       "0  {\"cutoff\": \"quantile_0.1\", \"eval_fairness_grou...       26.538221   \n",
       "0  {\"cutoff\": \"quantile_0.25\", \"eval_fairness_gro...       26.538221   \n",
       "0  {\"cutoff\": \"quantile_0.25\", \"eval_fairness_gro...       26.538221   \n",
       "\n",
       "   test_size_n  test_size_frac  fair_main_equalized_odds_difference  \\\n",
       "0        89710             1.0                             0.052798   \n",
       "0        89710             1.0                             0.052798   \n",
       "0        89710             1.0                             0.036199   \n",
       "0        89710             1.0                             0.036199   \n",
       "\n",
       "   fair_main_equalized_odds_ratio  fair_main_demographic_parity_difference  \\\n",
       "0                        0.943332                                 0.046599   \n",
       "0                        0.943332                                 0.046599   \n",
       "0                        0.952294                                 0.027979   \n",
       "0                        0.952294                                 0.027979   \n",
       "\n",
       "   fair_main_demographic_parity_ratio  ...  perf_grp_precision_0  \\\n",
       "0                            0.950211  ...                   NaN   \n",
       "0                            0.950211  ...              0.119278   \n",
       "0                            0.963737  ...                   NaN   \n",
       "0                            0.963737  ...              0.129922   \n",
       "\n",
       "   perf_grp_precision_1  perf_grp_false positive rate_0  \\\n",
       "0                   NaN                             NaN   \n",
       "0              0.142307                        0.931708   \n",
       "0                   NaN                             NaN   \n",
       "0              0.156628                        0.758805   \n",
       "\n",
       "   perf_grp_false positive rate_1  perf_grp_false negative rate_0  \\\n",
       "0                             NaN                             NaN   \n",
       "0                        0.878911                        0.031672   \n",
       "0                             NaN                             NaN   \n",
       "0                        0.722605                        0.130490   \n",
       "\n",
       "   perf_grp_false negative rate_1  perf_grp_selection rate_0  \\\n",
       "0                             NaN                        NaN   \n",
       "0                        0.042232                   0.935930   \n",
       "0                             NaN                        NaN   \n",
       "0                        0.118600                   0.771568   \n",
       "\n",
       "   perf_grp_selection rate_1  perf_grp_count_0  perf_grp_count_1  \n",
       "0                        NaN               NaN               NaN  \n",
       "0                   0.889331           20540.0           69170.0  \n",
       "0                        NaN               NaN               NaN  \n",
       "0                   0.743588           20540.0           69170.0  \n",
       "\n",
       "[4 rows x 50 columns]"
      ]
     },
     "execution_count": 79,
     "metadata": {},
     "output_type": "execute_result"
    }
   ],
   "source": [
    "final_output = universe_analysis.generate_final_output(\n",
    "    y_pred_prob=probs_test,\n",
    "    y_test=y_true,\n",
    "    org_test=org_test,\n",
    "    filter_data=filter_sub_universe_data,\n",
    "    cp_metrics_df=cp_metrics_df,\n",
    "    save=True,\n",
    ")\n",
    "final_output"
   ]
  },
  {
   "cell_type": "code",
   "execution_count": null,
   "id": "721ff514-cb11-46f8-b6fc-50392f74b5cb",
   "metadata": {
    "papermill": {
     "duration": 0.027499,
     "end_time": "2025-07-30T14:19:33.677362",
     "exception": false,
     "start_time": "2025-07-30T14:19:33.649863",
     "status": "completed"
    },
    "tags": []
   },
   "outputs": [],
   "source": []
  }
 ],
 "metadata": {
  "celltoolbar": "Tags",
  "kernelspec": {
   "display_name": "Python (CMA Fairness)",
   "language": "python",
   "name": "cma_fair_env"
  },
  "language_info": {
   "codemirror_mode": {
    "name": "ipython",
    "version": 3
   },
   "file_extension": ".py",
   "mimetype": "text/x-python",
   "name": "python",
   "nbconvert_exporter": "python",
   "pygments_lexer": "ipython3",
   "version": "3.10.12"
  },
  "papermill": {
   "default_parameters": {},
   "duration": 41.767316,
   "end_time": "2025-07-30T14:19:34.423921",
   "environment_variables": {},
   "exception": null,
   "input_path": "universe_analysis.ipynb",
   "output_path": "output/runs/12/notebooks/m_12-aba81f25dc33b1e89126ec5ffb69dda5.ipynb",
   "parameters": {
    "output_dir": "output",
    "run_no": "12",
    "seed": "2023",
    "universe": "{\"cutoff\": [\"quantile_0.1\", \"quantile_0.25\"], \"eval_fairness_grouping\": [\"majority-minority\", \"nationality-all\"], \"exclude_features\": \"sex\", \"exclude_subgroups\": \"keep-all\", \"model\": \"logreg\", \"scale\": \"scale\", \"training_size\": \"1k\", \"training_year\": \"2014\"}",
    "universe_id": "aba81f25dc33b1e89126ec5ffb69dda5"
   },
   "start_time": "2025-07-30T14:18:52.656605",
   "version": "2.6.0"
  }
 },
 "nbformat": 4,
 "nbformat_minor": 5
}