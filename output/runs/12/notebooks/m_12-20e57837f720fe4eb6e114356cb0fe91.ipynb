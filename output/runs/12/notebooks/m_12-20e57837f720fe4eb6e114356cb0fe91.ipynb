{
 "cells": [
  {
   "cell_type": "code",
   "execution_count": 1,
   "id": "f159f837-637b-42ba-96b5-ec9a68c44524",
   "metadata": {
    "execution": {
     "iopub.execute_input": "2025-07-30T13:11:44.433218Z",
     "iopub.status.busy": "2025-07-30T13:11:44.432574Z",
     "iopub.status.idle": "2025-07-30T13:11:44.447075Z",
     "shell.execute_reply": "2025-07-30T13:11:44.445950Z"
    },
    "papermill": {
     "duration": 0.038487,
     "end_time": "2025-07-30T13:11:44.448915",
     "exception": false,
     "start_time": "2025-07-30T13:11:44.410428",
     "status": "completed"
    },
    "tags": []
   },
   "outputs": [
    {
     "name": "stdout",
     "output_type": "stream",
     "text": [
      "/dss/dsshome1/0C/ra93lal2/cma/CMA_Fairness_v2\n"
     ]
    },
    {
     "name": "stderr",
     "output_type": "stream",
     "text": [
      "/dss/dsshome1/0C/ra93lal2/.local/share/virtualenvs/CMA_Fairness_v2-3j10GkSs/lib/python3.10/site-packages/IPython/core/magics/osm.py:393: UserWarning: This is now an optional IPython functionality, using bookmarks requires you to install the `pickleshare` library.\n",
      "  bkms = self.shell.db.get('bookmarks', {})\n",
      "/dss/dsshome1/0C/ra93lal2/.local/share/virtualenvs/CMA_Fairness_v2-3j10GkSs/lib/python3.10/site-packages/IPython/core/magics/osm.py:417: UserWarning: This is now an optional IPython functionality, setting dhist requires you to install the `pickleshare` library.\n",
      "  self.shell.db['dhist'] = compress_dhist(dhist)[-100:]\n"
     ]
    }
   ],
   "source": [
    "%cd ~/cma/CMA_Fairness_v2"
   ]
  },
  {
   "cell_type": "markdown",
   "id": "de2603b9",
   "metadata": {
    "papermill": {
     "duration": 0.021054,
     "end_time": "2025-07-30T13:11:44.491842",
     "exception": false,
     "start_time": "2025-07-30T13:11:44.470788",
     "status": "completed"
    },
    "tags": []
   },
   "source": [
    "The following cell holds the definition of our parameters, these values can be overriden by rendering the with e.g. the following command:\n",
    "\n",
    "papermill -p alpha 0.2 -p ratio 0.3 universe_analysis.ipynb output/test_run.ipynb"
   ]
  },
  {
   "cell_type": "code",
   "execution_count": 2,
   "id": "a80968a0-40bb-4fa9-85ef-2d5eefb01975",
   "metadata": {
    "execution": {
     "iopub.execute_input": "2025-07-30T13:11:44.522805Z",
     "iopub.status.busy": "2025-07-30T13:11:44.522314Z",
     "iopub.status.idle": "2025-07-30T13:11:44.527311Z",
     "shell.execute_reply": "2025-07-30T13:11:44.526443Z"
    },
    "papermill": {
     "duration": 0.017863,
     "end_time": "2025-07-30T13:11:44.528726",
     "exception": false,
     "start_time": "2025-07-30T13:11:44.510863",
     "status": "completed"
    },
    "tags": []
   },
   "outputs": [
    {
     "name": "stdout",
     "output_type": "stream",
     "text": [
      "Current working directory: /dss/dsshome1/0C/ra93lal2/cma/CMA_Fairness_v2\n"
     ]
    }
   ],
   "source": [
    "import os\n",
    "print(\"Current working directory:\", os.getcwd())"
   ]
  },
  {
   "cell_type": "code",
   "execution_count": 3,
   "id": "2dce4c03",
   "metadata": {
    "execution": {
     "iopub.execute_input": "2025-07-30T13:11:44.552747Z",
     "iopub.status.busy": "2025-07-30T13:11:44.552118Z",
     "iopub.status.idle": "2025-07-30T13:11:44.557551Z",
     "shell.execute_reply": "2025-07-30T13:11:44.556843Z"
    },
    "papermill": {
     "duration": 0.018206,
     "end_time": "2025-07-30T13:11:44.559000",
     "exception": false,
     "start_time": "2025-07-30T13:11:44.540794",
     "status": "completed"
    },
    "tags": [
     "parameters"
    ]
   },
   "outputs": [],
   "source": [
    "run_no = 0\n",
    "universe_id = \"test\"\n",
    "universe = {\n",
    "    \"training_size\": \"25k\", # \"25k\", \"5k\", \"1k\"\n",
    "    \"training_year\": \"2014\", # \"2014\", \"2012_14\", \"2010_14\"\n",
    "    \"scale\": \"scale\", # \"scale\", \"do-not-scale\",\n",
    "    #\"stratify_split\": \"target\", # \"none\", \"target\", \"protected-attribute\", \"both\",\n",
    "    \"model\": \"elasticnet\", # \"logreg\", \"penalized_logreg\", \"rf\", \"gbm\", \"elasticnet\"\n",
    "    \"cutoff\": [\"quantile_0.15\", \"quantile_0.30\"],\n",
    "    \"exclude_features\": \"age\", # \"none\", \"nationality\", \"sex\", \"nationality-sex\", \"age\"\n",
    "    \"exclude_subgroups\": \"keep-all\", # \"keep-all\", \"drop-non-german\"\n",
    "    \"eval_fairness_grouping\": [\"majority-minority\", \"nationality-all\"]\n",
    "}\n",
    "\n",
    "output_dir=\"./output\"\n",
    "seed=0"
   ]
  },
  {
   "cell_type": "code",
   "execution_count": 4,
   "id": "c4c58b1a",
   "metadata": {
    "execution": {
     "iopub.execute_input": "2025-07-30T13:11:44.583612Z",
     "iopub.status.busy": "2025-07-30T13:11:44.582883Z",
     "iopub.status.idle": "2025-07-30T13:11:44.588205Z",
     "shell.execute_reply": "2025-07-30T13:11:44.587314Z"
    },
    "papermill": {
     "duration": 0.01853,
     "end_time": "2025-07-30T13:11:44.589703",
     "exception": false,
     "start_time": "2025-07-30T13:11:44.571173",
     "status": "completed"
    },
    "tags": [
     "injected-parameters"
    ]
   },
   "outputs": [],
   "source": [
    "# Parameters\n",
    "universe_id = \"20e57837f720fe4eb6e114356cb0fe91\"\n",
    "run_no = \"12\"\n",
    "universe = \"{\\\"cutoff\\\": [\\\"quantile_0.1\\\", \\\"quantile_0.25\\\"], \\\"eval_fairness_grouping\\\": [\\\"majority-minority\\\", \\\"nationality-all\\\"], \\\"exclude_features\\\": \\\"sex\\\", \\\"exclude_subgroups\\\": \\\"keep-all\\\", \\\"model\\\": \\\"logreg\\\", \\\"scale\\\": \\\"do-not-scale\\\", \\\"training_size\\\": \\\"25k\\\", \\\"training_year\\\": \\\"2012_14\\\"}\"\n",
    "output_dir = \"output\"\n",
    "seed = \"2023\"\n"
   ]
  },
  {
   "cell_type": "code",
   "execution_count": 5,
   "id": "1650acaf",
   "metadata": {
    "execution": {
     "iopub.execute_input": "2025-07-30T13:11:44.614988Z",
     "iopub.status.busy": "2025-07-30T13:11:44.614526Z",
     "iopub.status.idle": "2025-07-30T13:11:44.619839Z",
     "shell.execute_reply": "2025-07-30T13:11:44.618841Z"
    },
    "papermill": {
     "duration": 0.019213,
     "end_time": "2025-07-30T13:11:44.621650",
     "exception": false,
     "start_time": "2025-07-30T13:11:44.602437",
     "status": "completed"
    },
    "tags": []
   },
   "outputs": [],
   "source": [
    "import json\n",
    "# Parse universe into dict if it is passed as a string\n",
    "if isinstance(universe, str):\n",
    "    universe = json.loads(universe)"
   ]
  },
  {
   "cell_type": "code",
   "execution_count": 6,
   "id": "16620c48",
   "metadata": {
    "execution": {
     "iopub.execute_input": "2025-07-30T13:11:44.666325Z",
     "iopub.status.busy": "2025-07-30T13:11:44.665786Z",
     "iopub.status.idle": "2025-07-30T13:11:44.714286Z",
     "shell.execute_reply": "2025-07-30T13:11:44.713538Z"
    },
    "papermill": {
     "duration": 0.072465,
     "end_time": "2025-07-30T13:11:44.716308",
     "exception": false,
     "start_time": "2025-07-30T13:11:44.643843",
     "status": "completed"
    },
    "tags": []
   },
   "outputs": [],
   "source": [
    "# Auto-reload the custom package\n",
    "%load_ext autoreload\n",
    "%autoreload 1\n",
    "%aimport fairness_multiverse"
   ]
  },
  {
   "cell_type": "code",
   "execution_count": 7,
   "id": "01c5c9f3",
   "metadata": {
    "execution": {
     "iopub.execute_input": "2025-07-30T13:11:44.758002Z",
     "iopub.status.busy": "2025-07-30T13:11:44.757508Z",
     "iopub.status.idle": "2025-07-30T13:11:46.813145Z",
     "shell.execute_reply": "2025-07-30T13:11:46.811868Z"
    },
    "papermill": {
     "duration": 2.078714,
     "end_time": "2025-07-30T13:11:46.815694",
     "exception": false,
     "start_time": "2025-07-30T13:11:44.736980",
     "status": "completed"
    },
    "tags": []
   },
   "outputs": [],
   "source": [
    "from fairness_multiverse.universe import UniverseAnalysis\n",
    "\n",
    "universe_analysis = UniverseAnalysis(\n",
    "    run_no = run_no,\n",
    "    universe_id = universe_id,\n",
    "    universe = universe,\n",
    "    output_dir=output_dir,\n",
    ")"
   ]
  },
  {
   "cell_type": "code",
   "execution_count": 8,
   "id": "106241f5",
   "metadata": {
    "execution": {
     "iopub.execute_input": "2025-07-30T13:11:46.875845Z",
     "iopub.status.busy": "2025-07-30T13:11:46.874654Z",
     "iopub.status.idle": "2025-07-30T13:11:46.882525Z",
     "shell.execute_reply": "2025-07-30T13:11:46.881200Z"
    },
    "papermill": {
     "duration": 0.038968,
     "end_time": "2025-07-30T13:11:46.884518",
     "exception": false,
     "start_time": "2025-07-30T13:11:46.845550",
     "status": "completed"
    },
    "tags": []
   },
   "outputs": [
    {
     "name": "stdout",
     "output_type": "stream",
     "text": [
      "Using Seed: 2023\n"
     ]
    }
   ],
   "source": [
    "import numpy as np\n",
    "parsed_seed = int(seed)\n",
    "np.random.seed(parsed_seed)\n",
    "print(f\"Using Seed: {parsed_seed}\")"
   ]
  },
  {
   "cell_type": "markdown",
   "id": "e0ebdc57",
   "metadata": {
    "papermill": {
     "duration": 0.019482,
     "end_time": "2025-07-30T13:11:46.925395",
     "exception": false,
     "start_time": "2025-07-30T13:11:46.905913",
     "status": "completed"
    },
    "tags": []
   },
   "source": [
    "# Loading Data"
   ]
  },
  {
   "cell_type": "markdown",
   "id": "681925a3",
   "metadata": {
    "papermill": {
     "duration": 0.020268,
     "end_time": "2025-07-30T13:11:46.967177",
     "exception": false,
     "start_time": "2025-07-30T13:11:46.946909",
     "status": "completed"
    },
    "tags": []
   },
   "source": [
    "Load siab_train, siab_test, siab_calib and/or \n",
    "load siab_train_features, siab_train_labels"
   ]
  },
  {
   "cell_type": "code",
   "execution_count": 9,
   "id": "f0496b8a",
   "metadata": {
    "execution": {
     "iopub.execute_input": "2025-07-30T13:11:47.009316Z",
     "iopub.status.busy": "2025-07-30T13:11:47.008247Z",
     "iopub.status.idle": "2025-07-30T13:11:59.406788Z",
     "shell.execute_reply": "2025-07-30T13:11:59.405363Z"
    },
    "papermill": {
     "duration": 12.422103,
     "end_time": "2025-07-30T13:11:59.408745",
     "exception": false,
     "start_time": "2025-07-30T13:11:46.986642",
     "status": "completed"
    },
    "tags": []
   },
   "outputs": [
    {
     "name": "stdout",
     "output_type": "stream",
     "text": [
      "Loading SIAB data from cache: data/siab_cached.csv.gz\n"
     ]
    },
    {
     "name": "stdout",
     "output_type": "stream",
     "text": [
      "(643690, 164)\n"
     ]
    }
   ],
   "source": [
    "from pathlib import Path\n",
    "import pandas as pd\n",
    "\n",
    "# File paths\n",
    "raw_file = Path(\"data/raw/siab.csv\")\n",
    "cache_file = Path(\"data/siab_cached.csv.gz\")\n",
    "\n",
    "# Ensure cache directory exists\n",
    "cache_file.parent.mkdir(parents=True, exist_ok=True)\n",
    "\n",
    "# Load with simple caching\n",
    "if cache_file.exists():\n",
    "    print(f\"Loading SIAB data from cache: {cache_file}\")\n",
    "    siab = pd.read_csv(cache_file, compression='gzip')\n",
    "else:\n",
    "    print(f\"Cache not found. Reading raw SIAB data: {raw_file}\")\n",
    "    siab = pd.read_csv(raw_file)\n",
    "    siab.to_csv(cache_file, index=False, compression='gzip')\n",
    "    print(f\"Cached SIAB data to: {cache_file}\")\n",
    "\n",
    "# Now use `siab` DataFrame as needed\n",
    "print(siab.shape)"
   ]
  },
  {
   "cell_type": "code",
   "execution_count": 10,
   "id": "db0ca512-5f53-4dba-abdb-a2888bca41ba",
   "metadata": {
    "execution": {
     "iopub.execute_input": "2025-07-30T13:11:59.455231Z",
     "iopub.status.busy": "2025-07-30T13:11:59.454732Z",
     "iopub.status.idle": "2025-07-30T13:11:59.460148Z",
     "shell.execute_reply": "2025-07-30T13:11:59.459372Z"
    },
    "papermill": {
     "duration": 0.028282,
     "end_time": "2025-07-30T13:11:59.461591",
     "exception": false,
     "start_time": "2025-07-30T13:11:59.433309",
     "status": "completed"
    },
    "tags": []
   },
   "outputs": [],
   "source": [
    "#siab"
   ]
  },
  {
   "cell_type": "code",
   "execution_count": 11,
   "id": "a0edb063",
   "metadata": {
    "execution": {
     "iopub.execute_input": "2025-07-30T13:11:59.495516Z",
     "iopub.status.busy": "2025-07-30T13:11:59.494528Z",
     "iopub.status.idle": "2025-07-30T13:11:59.499685Z",
     "shell.execute_reply": "2025-07-30T13:11:59.498895Z"
    },
    "papermill": {
     "duration": 0.028377,
     "end_time": "2025-07-30T13:11:59.501666",
     "exception": false,
     "start_time": "2025-07-30T13:11:59.473289",
     "status": "completed"
    },
    "tags": []
   },
   "outputs": [],
   "source": [
    "#import pandas as pd\n",
    "#\n",
    "#X_train = pd.read_csv(\"./data/X_train.csv\")\n",
    "#y_train = pd.read_csv(\"./data/y_train.csv\")"
   ]
  },
  {
   "cell_type": "code",
   "execution_count": 12,
   "id": "63d08085",
   "metadata": {
    "execution": {
     "iopub.execute_input": "2025-07-30T13:11:59.551656Z",
     "iopub.status.busy": "2025-07-30T13:11:59.550315Z",
     "iopub.status.idle": "2025-07-30T13:11:59.557140Z",
     "shell.execute_reply": "2025-07-30T13:11:59.555889Z"
    },
    "papermill": {
     "duration": 0.03534,
     "end_time": "2025-07-30T13:11:59.561329",
     "exception": false,
     "start_time": "2025-07-30T13:11:59.525989",
     "status": "completed"
    },
    "tags": []
   },
   "outputs": [],
   "source": [
    "#X_test = pd.read_csv(\"./data/X_test.csv\")\n",
    "#y_true = pd.read_csv(\"./data/y_test.csv\")"
   ]
  },
  {
   "cell_type": "code",
   "execution_count": 13,
   "id": "98a8d0fa-1d3d-4ed8-bb2c-281470e24add",
   "metadata": {
    "execution": {
     "iopub.execute_input": "2025-07-30T13:11:59.606867Z",
     "iopub.status.busy": "2025-07-30T13:11:59.606503Z",
     "iopub.status.idle": "2025-07-30T13:11:59.611803Z",
     "shell.execute_reply": "2025-07-30T13:11:59.610595Z"
    },
    "papermill": {
     "duration": 0.029367,
     "end_time": "2025-07-30T13:11:59.613860",
     "exception": false,
     "start_time": "2025-07-30T13:11:59.584493",
     "status": "completed"
    },
    "tags": []
   },
   "outputs": [],
   "source": [
    "# Calibration data for conformal\n",
    "#X_calib = pd.read_csv(\"./data/X_calib.csv\")\n",
    "#y_calib = pd.read_csv(\"./data/y_calib.csv\")"
   ]
  },
  {
   "cell_type": "markdown",
   "id": "997051c5-15bd-4b69-9786-c3001a3ce484",
   "metadata": {
    "papermill": {
     "duration": 0.028845,
     "end_time": "2025-07-30T13:11:59.672289",
     "exception": false,
     "start_time": "2025-07-30T13:11:59.643444",
     "status": "completed"
    },
    "tags": []
   },
   "source": [
    "# Splitting Data and Setting Training Data Size"
   ]
  },
  {
   "cell_type": "code",
   "execution_count": 14,
   "id": "e993b61f-042d-41a6-8c81-f55681f86335",
   "metadata": {
    "execution": {
     "iopub.execute_input": "2025-07-30T13:11:59.729839Z",
     "iopub.status.busy": "2025-07-30T13:11:59.729205Z",
     "iopub.status.idle": "2025-07-30T13:11:59.746059Z",
     "shell.execute_reply": "2025-07-30T13:11:59.744550Z"
    },
    "papermill": {
     "duration": 0.048628,
     "end_time": "2025-07-30T13:11:59.749213",
     "exception": false,
     "start_time": "2025-07-30T13:11:59.700585",
     "status": "completed"
    },
    "tags": []
   },
   "outputs": [],
   "source": [
    "def sample_by_year_size(df,\n",
    "                        training_year: str,\n",
    "                        training_size: str,\n",
    "                        random_state: int = 42):\n",
    "    # --- parse training_year into a list of int years ---\n",
    "    if \"_\" in training_year:\n",
    "        start_str, end_str = training_year.split(\"_\", 1)\n",
    "        start = int(start_str)\n",
    "        end   = int(end_str) if len(end_str) == 4 else (int(end_str) + (start // 100)*100)\n",
    "        years = list(range(start, end + 1))\n",
    "    else:\n",
    "        years = [int(training_year)]\n",
    "\n",
    "    df = df[df[\"year\"].isin(years)].reset_index(drop=True)\n",
    "\n",
    "    # --- map training_size to total number of samples ---\n",
    "    total_map = {\"25k\": 25_000, \"5k\": 5_000, \"1k\": 1_000}\n",
    "    if training_size not in total_map:\n",
    "        return df  # e.g. \"all\"\n",
    "\n",
    "    total_samples = total_map[training_size]\n",
    "    n_years       = len(years)\n",
    "    base          = total_samples // n_years\n",
    "    remainder     = total_samples % n_years\n",
    "\n",
    "    # --- build a dict: year -> how many to sample ---\n",
    "    # give +1 to the first `remainder` years in ascending order\n",
    "    quotas = {\n",
    "        year: base + (1 if idx < remainder else 0)\n",
    "        for idx, year in enumerate(sorted(years))\n",
    "    }\n",
    "\n",
    "    # --- sample per‐year according to the quota dict ---\n",
    "    sampled = (\n",
    "        df\n",
    "        .groupby(\"year\", group_keys=False)\n",
    "        .apply(lambda grp: grp.sample(\n",
    "            n=min(len(grp), quotas[grp.name]),\n",
    "            random_state=random_state))\n",
    "        .reset_index(drop=True)\n",
    "    )\n",
    "\n",
    "    return sampled"
   ]
  },
  {
   "cell_type": "code",
   "execution_count": 15,
   "id": "c0ccd338-0e02-41f3-a09d-f56f9266e3fb",
   "metadata": {
    "execution": {
     "iopub.execute_input": "2025-07-30T13:11:59.815682Z",
     "iopub.status.busy": "2025-07-30T13:11:59.814662Z",
     "iopub.status.idle": "2025-07-30T13:11:59.830784Z",
     "shell.execute_reply": "2025-07-30T13:11:59.829299Z"
    },
    "papermill": {
     "duration": 0.051853,
     "end_time": "2025-07-30T13:11:59.833290",
     "exception": false,
     "start_time": "2025-07-30T13:11:59.781437",
     "status": "completed"
    },
    "tags": []
   },
   "outputs": [
    {
     "data": {
      "text/plain": [
       "'25k'"
      ]
     },
     "execution_count": 15,
     "metadata": {},
     "output_type": "execute_result"
    }
   ],
   "source": [
    "universe[\"training_size\"]"
   ]
  },
  {
   "cell_type": "code",
   "execution_count": 16,
   "id": "ca707fd7-8047-4acd-bfa5-66248fbbf8e6",
   "metadata": {
    "execution": {
     "iopub.execute_input": "2025-07-30T13:11:59.894521Z",
     "iopub.status.busy": "2025-07-30T13:11:59.893611Z",
     "iopub.status.idle": "2025-07-30T13:11:59.903737Z",
     "shell.execute_reply": "2025-07-30T13:11:59.902269Z"
    },
    "papermill": {
     "duration": 0.041965,
     "end_time": "2025-07-30T13:11:59.906251",
     "exception": false,
     "start_time": "2025-07-30T13:11:59.864286",
     "status": "completed"
    },
    "tags": []
   },
   "outputs": [
    {
     "data": {
      "text/plain": [
       "'2012_14'"
      ]
     },
     "execution_count": 16,
     "metadata": {},
     "output_type": "execute_result"
    }
   ],
   "source": [
    "universe[\"training_year\"]"
   ]
  },
  {
   "cell_type": "code",
   "execution_count": 17,
   "id": "aea9c6ef-6f46-42c8-85eb-5a62025c1508",
   "metadata": {
    "execution": {
     "iopub.execute_input": "2025-07-30T13:11:59.968882Z",
     "iopub.status.busy": "2025-07-30T13:11:59.967935Z",
     "iopub.status.idle": "2025-07-30T13:12:00.821331Z",
     "shell.execute_reply": "2025-07-30T13:12:00.820155Z"
    },
    "papermill": {
     "duration": 0.886986,
     "end_time": "2025-07-30T13:12:00.823678",
     "exception": false,
     "start_time": "2025-07-30T13:11:59.936692",
     "status": "completed"
    },
    "tags": []
   },
   "outputs": [],
   "source": [
    "siab_train = sample_by_year_size(siab,\n",
    "                               training_year=universe[\"training_year\"],\n",
    "                               training_size=universe[\"training_size\"])"
   ]
  },
  {
   "cell_type": "code",
   "execution_count": 18,
   "id": "8d3afb32-789d-442c-8d5d-9f5aa8dd2eed",
   "metadata": {
    "execution": {
     "iopub.execute_input": "2025-07-30T13:12:00.878168Z",
     "iopub.status.busy": "2025-07-30T13:12:00.877682Z",
     "iopub.status.idle": "2025-07-30T13:12:00.884696Z",
     "shell.execute_reply": "2025-07-30T13:12:00.883941Z"
    },
    "papermill": {
     "duration": 0.031598,
     "end_time": "2025-07-30T13:12:00.885934",
     "exception": false,
     "start_time": "2025-07-30T13:12:00.854336",
     "status": "completed"
    },
    "tags": []
   },
   "outputs": [
    {
     "data": {
      "text/plain": [
       "(25000, 164)"
      ]
     },
     "execution_count": 18,
     "metadata": {},
     "output_type": "execute_result"
    }
   ],
   "source": [
    "siab_train.shape"
   ]
  },
  {
   "cell_type": "code",
   "execution_count": 19,
   "id": "d582db68-1a4c-47fb-84fc-08518dc1975a",
   "metadata": {
    "execution": {
     "iopub.execute_input": "2025-07-30T13:12:00.911844Z",
     "iopub.status.busy": "2025-07-30T13:12:00.910878Z",
     "iopub.status.idle": "2025-07-30T13:12:00.920130Z",
     "shell.execute_reply": "2025-07-30T13:12:00.919318Z"
    },
    "papermill": {
     "duration": 0.02345,
     "end_time": "2025-07-30T13:12:00.921510",
     "exception": false,
     "start_time": "2025-07-30T13:12:00.898060",
     "status": "completed"
    },
    "tags": []
   },
   "outputs": [
    {
     "data": {
      "text/plain": [
       "year\n",
       "2012    8334\n",
       "2013    8333\n",
       "2014    8333\n",
       "dtype: int64"
      ]
     },
     "metadata": {},
     "output_type": "display_data"
    }
   ],
   "source": [
    "display(siab_train.groupby(\"year\").size())"
   ]
  },
  {
   "cell_type": "code",
   "execution_count": 20,
   "id": "a561edb4-d032-42cb-8256-22eac1111c64",
   "metadata": {
    "execution": {
     "iopub.execute_input": "2025-07-30T13:12:00.966319Z",
     "iopub.status.busy": "2025-07-30T13:12:00.965832Z",
     "iopub.status.idle": "2025-07-30T13:12:01.225455Z",
     "shell.execute_reply": "2025-07-30T13:12:01.224478Z"
    },
    "papermill": {
     "duration": 0.286581,
     "end_time": "2025-07-30T13:12:01.227845",
     "exception": false,
     "start_time": "2025-07-30T13:12:00.941264",
     "status": "completed"
    },
    "tags": []
   },
   "outputs": [],
   "source": [
    "#siab_train = siab_s[siab_s.year < 2015]\n",
    "siab_calib = siab[siab.year == 2015]\n",
    "siab_test = siab[siab.year == 2016]"
   ]
  },
  {
   "cell_type": "code",
   "execution_count": 21,
   "id": "472de16f-c3db-4916-846b-1f0de9cf1746",
   "metadata": {
    "execution": {
     "iopub.execute_input": "2025-07-30T13:12:01.274036Z",
     "iopub.status.busy": "2025-07-30T13:12:01.273608Z",
     "iopub.status.idle": "2025-07-30T13:12:01.289033Z",
     "shell.execute_reply": "2025-07-30T13:12:01.287865Z"
    },
    "papermill": {
     "duration": 0.04307,
     "end_time": "2025-07-30T13:12:01.291284",
     "exception": false,
     "start_time": "2025-07-30T13:12:01.248214",
     "status": "completed"
    },
    "tags": []
   },
   "outputs": [],
   "source": [
    "X_train = siab_train.iloc[:,4:164]\n",
    "y_train = siab_train.iloc[:, [3]]"
   ]
  },
  {
   "cell_type": "code",
   "execution_count": 22,
   "id": "828c96af-f43a-4ed6-ba47-8ac73a47d56c",
   "metadata": {
    "execution": {
     "iopub.execute_input": "2025-07-30T13:12:01.342759Z",
     "iopub.status.busy": "2025-07-30T13:12:01.342076Z",
     "iopub.status.idle": "2025-07-30T13:12:01.410719Z",
     "shell.execute_reply": "2025-07-30T13:12:01.409755Z"
    },
    "papermill": {
     "duration": 0.096001,
     "end_time": "2025-07-30T13:12:01.411945",
     "exception": false,
     "start_time": "2025-07-30T13:12:01.315944",
     "status": "completed"
    },
    "tags": []
   },
   "outputs": [],
   "source": [
    "X_calib = siab_calib.iloc[:,4:164]\n",
    "y_calib = siab_calib.iloc[:, [3]]"
   ]
  },
  {
   "cell_type": "code",
   "execution_count": 23,
   "id": "c34be9c3-6bd6-476e-acd3-845840e303be",
   "metadata": {
    "execution": {
     "iopub.execute_input": "2025-07-30T13:12:01.443812Z",
     "iopub.status.busy": "2025-07-30T13:12:01.443375Z",
     "iopub.status.idle": "2025-07-30T13:12:01.502001Z",
     "shell.execute_reply": "2025-07-30T13:12:01.500839Z"
    },
    "papermill": {
     "duration": 0.074174,
     "end_time": "2025-07-30T13:12:01.503509",
     "exception": false,
     "start_time": "2025-07-30T13:12:01.429335",
     "status": "completed"
    },
    "tags": []
   },
   "outputs": [],
   "source": [
    "X_test = siab_test.iloc[:,4:164]\n",
    "y_true = siab_test.iloc[:, [3]]"
   ]
  },
  {
   "cell_type": "markdown",
   "id": "9901737e-04df-44f0-9100-f5ad144ed040",
   "metadata": {
    "papermill": {
     "duration": 0.023937,
     "end_time": "2025-07-30T13:12:01.552522",
     "exception": false,
     "start_time": "2025-07-30T13:12:01.528585",
     "status": "completed"
    },
    "tags": []
   },
   "source": [
    "# Splitting Data and Setting Training Data Size OLD VERSION"
   ]
  },
  {
   "cell_type": "code",
   "execution_count": 24,
   "id": "acbc8f7d-8fc8-4e86-8c59-5dcb0f58384b",
   "metadata": {
    "execution": {
     "iopub.execute_input": "2025-07-30T13:12:01.603977Z",
     "iopub.status.busy": "2025-07-30T13:12:01.603521Z",
     "iopub.status.idle": "2025-07-30T13:12:01.609287Z",
     "shell.execute_reply": "2025-07-30T13:12:01.608229Z"
    },
    "papermill": {
     "duration": 0.033822,
     "end_time": "2025-07-30T13:12:01.610930",
     "exception": false,
     "start_time": "2025-07-30T13:12:01.577108",
     "status": "completed"
    },
    "tags": []
   },
   "outputs": [],
   "source": [
    "#def sample_by_year(df, training_size, random_state=42):\n",
    "#    if training_size == \"2014\":\n",
    "#        return df[df[\"year\"] == 2014].reset_index(drop=True)\n",
    "#    \n",
    "#    size_map = {\n",
    "#        \"25k\": 5000,\n",
    "#        \"5k\": 1000,\n",
    "#        \"1k\": 200\n",
    "#    }\n",
    "#\n",
    "#    if training_size not in size_map:\n",
    "#        return df.reset_index(drop=True)  # use all data\n",
    "#\n",
    "#    n_per_year = size_map[training_size]\n",
    "#    grouped = df.groupby(\"year\")\n",
    "#    sampled = grouped.apply(lambda x: x.sample(n=min(n_per_year, len(x)), random_state=random_state))\n",
    "#    return sampled.reset_index(drop=True)"
   ]
  },
  {
   "cell_type": "code",
   "execution_count": 25,
   "id": "6d931f52-beaf-43ff-9e78-9d44a448d54e",
   "metadata": {
    "execution": {
     "iopub.execute_input": "2025-07-30T13:12:01.638901Z",
     "iopub.status.busy": "2025-07-30T13:12:01.638555Z",
     "iopub.status.idle": "2025-07-30T13:12:01.642877Z",
     "shell.execute_reply": "2025-07-30T13:12:01.641951Z"
    },
    "papermill": {
     "duration": 0.019735,
     "end_time": "2025-07-30T13:12:01.644306",
     "exception": false,
     "start_time": "2025-07-30T13:12:01.624571",
     "status": "completed"
    },
    "tags": []
   },
   "outputs": [],
   "source": [
    "#siab_s = sample_by_year(siab, universe[\"training_size\"])"
   ]
  },
  {
   "cell_type": "code",
   "execution_count": 26,
   "id": "5db0a40e-a4e2-4920-be85-b12ae061d70d",
   "metadata": {
    "execution": {
     "iopub.execute_input": "2025-07-30T13:12:01.672671Z",
     "iopub.status.busy": "2025-07-30T13:12:01.672302Z",
     "iopub.status.idle": "2025-07-30T13:12:01.677566Z",
     "shell.execute_reply": "2025-07-30T13:12:01.676266Z"
    },
    "papermill": {
     "duration": 0.0212,
     "end_time": "2025-07-30T13:12:01.680107",
     "exception": false,
     "start_time": "2025-07-30T13:12:01.658907",
     "status": "completed"
    },
    "tags": []
   },
   "outputs": [],
   "source": [
    "#display(siab_s.groupby(\"year\").size())"
   ]
  },
  {
   "cell_type": "code",
   "execution_count": 27,
   "id": "e6c733c5",
   "metadata": {
    "execution": {
     "iopub.execute_input": "2025-07-30T13:12:01.726462Z",
     "iopub.status.busy": "2025-07-30T13:12:01.725911Z",
     "iopub.status.idle": "2025-07-30T13:12:01.845403Z",
     "shell.execute_reply": "2025-07-30T13:12:01.844373Z"
    },
    "papermill": {
     "duration": 0.146879,
     "end_time": "2025-07-30T13:12:01.847278",
     "exception": false,
     "start_time": "2025-07-30T13:12:01.700399",
     "status": "completed"
    },
    "tags": []
   },
   "outputs": [],
   "source": [
    "# Auxiliary data needed downstream in the pipeline\n",
    "\n",
    "org_train = X_train.copy()\n",
    "org_test = X_test.copy()\n",
    "org_calib = X_calib.copy()"
   ]
  },
  {
   "cell_type": "code",
   "execution_count": 28,
   "id": "1466abac-c6da-4492-a62f-4240ae3783af",
   "metadata": {
    "execution": {
     "iopub.execute_input": "2025-07-30T13:12:01.883479Z",
     "iopub.status.busy": "2025-07-30T13:12:01.882778Z",
     "iopub.status.idle": "2025-07-30T13:12:01.887974Z",
     "shell.execute_reply": "2025-07-30T13:12:01.887155Z"
    },
    "papermill": {
     "duration": 0.019717,
     "end_time": "2025-07-30T13:12:01.889273",
     "exception": false,
     "start_time": "2025-07-30T13:12:01.869556",
     "status": "completed"
    },
    "tags": []
   },
   "outputs": [],
   "source": [
    "# put in other script?\n",
    "# Group sizes\n",
    "\n",
    "#def calculate_percentages(df, df_name):\n",
    "#    total_entries = len(df)\n",
    "#\n",
    "#    female_pct = (df['frau1'] == 1).mean() * 100\n",
    "#    non_german_pct = ((df['maxdeutsch1'] == 0) & (df['maxdeutsch.Missing.'] == 0)).mean() * 100\n",
    "#    non_german_male_pct = ((df['frau1'] == 0) & (df['maxdeutsch1'] == 0) & (df['maxdeutsch.Missing.'] == 0)).mean() * 100\n",
    "#    non_german_female_pct = ((df['frau1'] == 1) & (df['maxdeutsch1'] == 0) & (df['maxdeutsch.Missing.'] == 0)).mean() * 100\n",
    "#\n",
    "#    print(f\"--- {df_name} ---\")\n",
    "#    print(f\"Female: {female_pct:.2f}%\")\n",
    "#    print(f\"Non-German: {non_german_pct:.2f}%\")\n",
    "#    print(f\"Non-German Male: {non_german_male_pct:.2f}%\")\n",
    "#    print(f\"Non-German Female: {non_german_female_pct:.2f}%\\n\")\n",
    "#\n",
    "## Calculate for each DataFrame\n",
    "#calculate_percentages(siab_calib, \"siab_calib\")\n",
    "#calculate_percentages(siab_test, \"siab_test\")\n",
    "#calculate_percentages(siab_train, \"siab_train\")"
   ]
  },
  {
   "cell_type": "markdown",
   "id": "0a4a1b33",
   "metadata": {
    "papermill": {
     "duration": 0.020231,
     "end_time": "2025-07-30T13:12:01.922011",
     "exception": false,
     "start_time": "2025-07-30T13:12:01.901780",
     "status": "completed"
    },
    "tags": []
   },
   "source": [
    "# Preprocessing Data"
   ]
  },
  {
   "cell_type": "code",
   "execution_count": 29,
   "id": "ca879031",
   "metadata": {
    "execution": {
     "iopub.execute_input": "2025-07-30T13:12:01.947891Z",
     "iopub.status.busy": "2025-07-30T13:12:01.947387Z",
     "iopub.status.idle": "2025-07-30T13:12:01.952851Z",
     "shell.execute_reply": "2025-07-30T13:12:01.952056Z"
    },
    "papermill": {
     "duration": 0.019934,
     "end_time": "2025-07-30T13:12:01.954440",
     "exception": false,
     "start_time": "2025-07-30T13:12:01.934506",
     "status": "completed"
    },
    "tags": []
   },
   "outputs": [],
   "source": [
    "# EXCLUDE PROTECTED FEATURES\n",
    "# ----------------------\n",
    "# \"exclude_features\": \"none\", # \"nationality\", \"sex\", \"nationality-sex\"\n",
    "\n",
    "excluded_features = universe[\"exclude_features\"].split(\"-\") # split, e.g.: \"nationality-sex\" -> [\"nationality\", \"sex\"]\n",
    "excluded_features_dictionary = {\n",
    "    \"nationality\": [\"maxdeutsch1\", \"maxdeutsch.Missing.\"],\n",
    "    \"sex\": [\"frau1\"],\n",
    "    \"age\": [\"age\"],\n",
    "}\n"
   ]
  },
  {
   "cell_type": "code",
   "execution_count": 30,
   "id": "b745ac60",
   "metadata": {
    "execution": {
     "iopub.execute_input": "2025-07-30T13:12:02.011523Z",
     "iopub.status.busy": "2025-07-30T13:12:02.011000Z",
     "iopub.status.idle": "2025-07-30T13:12:02.018659Z",
     "shell.execute_reply": "2025-07-30T13:12:02.017398Z"
    },
    "papermill": {
     "duration": 0.041211,
     "end_time": "2025-07-30T13:12:02.020992",
     "exception": false,
     "start_time": "2025-07-30T13:12:01.979781",
     "status": "completed"
    },
    "tags": []
   },
   "outputs": [],
   "source": [
    "# Code nice names to column names\n",
    "\n",
    "excluded_features_columns = [\n",
    "    excluded_features_dictionary[f] for f in excluded_features if len(f) > 0 and f != \"none\"\n",
    "]"
   ]
  },
  {
   "cell_type": "code",
   "execution_count": 31,
   "id": "f84f73a2",
   "metadata": {
    "execution": {
     "iopub.execute_input": "2025-07-30T13:12:02.082026Z",
     "iopub.status.busy": "2025-07-30T13:12:02.081524Z",
     "iopub.status.idle": "2025-07-30T13:12:02.162978Z",
     "shell.execute_reply": "2025-07-30T13:12:02.161682Z"
    },
    "papermill": {
     "duration": 0.114633,
     "end_time": "2025-07-30T13:12:02.165463",
     "exception": false,
     "start_time": "2025-07-30T13:12:02.050830",
     "status": "completed"
    },
    "tags": []
   },
   "outputs": [],
   "source": [
    "from utils import flatten_once\n",
    "\n",
    "excluded_features_columns = flatten_once(excluded_features_columns)"
   ]
  },
  {
   "cell_type": "code",
   "execution_count": 32,
   "id": "884dea22",
   "metadata": {
    "execution": {
     "iopub.execute_input": "2025-07-30T13:12:02.211822Z",
     "iopub.status.busy": "2025-07-30T13:12:02.211311Z",
     "iopub.status.idle": "2025-07-30T13:12:02.228820Z",
     "shell.execute_reply": "2025-07-30T13:12:02.227349Z"
    },
    "papermill": {
     "duration": 0.044976,
     "end_time": "2025-07-30T13:12:02.230592",
     "exception": false,
     "start_time": "2025-07-30T13:12:02.185616",
     "status": "completed"
    },
    "tags": []
   },
   "outputs": [
    {
     "name": "stdout",
     "output_type": "stream",
     "text": [
      "Dropping features: ['frau1']\n"
     ]
    }
   ],
   "source": [
    "if len(excluded_features_columns) > 0:\n",
    "    print(f\"Dropping features: {excluded_features_columns}\")\n",
    "    X_train.drop(excluded_features_columns, axis=1, inplace=True)"
   ]
  },
  {
   "cell_type": "code",
   "execution_count": 33,
   "id": "95ab8b16",
   "metadata": {
    "execution": {
     "iopub.execute_input": "2025-07-30T13:12:02.279813Z",
     "iopub.status.busy": "2025-07-30T13:12:02.279304Z",
     "iopub.status.idle": "2025-07-30T13:12:02.333503Z",
     "shell.execute_reply": "2025-07-30T13:12:02.332300Z"
    },
    "papermill": {
     "duration": 0.080633,
     "end_time": "2025-07-30T13:12:02.335105",
     "exception": false,
     "start_time": "2025-07-30T13:12:02.254472",
     "status": "completed"
    },
    "tags": []
   },
   "outputs": [
    {
     "name": "stdout",
     "output_type": "stream",
     "text": [
      "Dropping features: ['frau1']\n"
     ]
    }
   ],
   "source": [
    "if len(excluded_features_columns) > 0:\n",
    "    print(f\"Dropping features: {excluded_features_columns}\")\n",
    "    X_test.drop(excluded_features_columns, axis=1, inplace=True)"
   ]
  },
  {
   "cell_type": "code",
   "execution_count": 34,
   "id": "1853aaf5-fb9f-46cb-a2b5-8ea4ae2237e4",
   "metadata": {
    "execution": {
     "iopub.execute_input": "2025-07-30T13:12:02.383242Z",
     "iopub.status.busy": "2025-07-30T13:12:02.382654Z",
     "iopub.status.idle": "2025-07-30T13:12:02.435828Z",
     "shell.execute_reply": "2025-07-30T13:12:02.434976Z"
    },
    "papermill": {
     "duration": 0.085725,
     "end_time": "2025-07-30T13:12:02.444812",
     "exception": false,
     "start_time": "2025-07-30T13:12:02.359087",
     "status": "completed"
    },
    "tags": []
   },
   "outputs": [
    {
     "name": "stdout",
     "output_type": "stream",
     "text": [
      "Dropping features: ['frau1']\n"
     ]
    }
   ],
   "source": [
    "if len(excluded_features_columns) > 0:\n",
    "    print(f\"Dropping features: {excluded_features_columns}\")\n",
    "    X_calib.drop(excluded_features_columns, axis=1, inplace=True)"
   ]
  },
  {
   "cell_type": "code",
   "execution_count": 35,
   "id": "6727d079-03e5-481e-9d38-292a90b7a0a8",
   "metadata": {
    "execution": {
     "iopub.execute_input": "2025-07-30T13:12:02.493230Z",
     "iopub.status.busy": "2025-07-30T13:12:02.492493Z",
     "iopub.status.idle": "2025-07-30T13:12:02.498106Z",
     "shell.execute_reply": "2025-07-30T13:12:02.497140Z"
    },
    "papermill": {
     "duration": 0.031528,
     "end_time": "2025-07-30T13:12:02.499954",
     "exception": false,
     "start_time": "2025-07-30T13:12:02.468426",
     "status": "completed"
    },
    "tags": []
   },
   "outputs": [],
   "source": [
    "# SPLIT & STRATIFY DATA\n",
    "# ----------------------"
   ]
  },
  {
   "cell_type": "code",
   "execution_count": 36,
   "id": "76c4dc6d",
   "metadata": {
    "execution": {
     "iopub.execute_input": "2025-07-30T13:12:02.547048Z",
     "iopub.status.busy": "2025-07-30T13:12:02.546520Z",
     "iopub.status.idle": "2025-07-30T13:12:02.552524Z",
     "shell.execute_reply": "2025-07-30T13:12:02.551478Z"
    },
    "papermill": {
     "duration": 0.031051,
     "end_time": "2025-07-30T13:12:02.554191",
     "exception": false,
     "start_time": "2025-07-30T13:12:02.523140",
     "status": "completed"
    },
    "tags": []
   },
   "outputs": [],
   "source": [
    "# EXCLUDE CERTAIN SUBGROUPS\n",
    "# ----------------------\n",
    "\n",
    "mode = universe.get(\"exclude_subgroups\", \"keep-all\") \n",
    "# Fetches the exclude_subgroups setting from the universe dict.\n",
    "# Defaults to \"keep-all\" if the key is missing."
   ]
  },
  {
   "cell_type": "code",
   "execution_count": 37,
   "id": "21994072",
   "metadata": {
    "execution": {
     "iopub.execute_input": "2025-07-30T13:12:02.598558Z",
     "iopub.status.busy": "2025-07-30T13:12:02.598206Z",
     "iopub.status.idle": "2025-07-30T13:12:02.603631Z",
     "shell.execute_reply": "2025-07-30T13:12:02.602646Z"
    },
    "papermill": {
     "duration": 0.025565,
     "end_time": "2025-07-30T13:12:02.605062",
     "exception": false,
     "start_time": "2025-07-30T13:12:02.579497",
     "status": "completed"
    },
    "tags": []
   },
   "outputs": [],
   "source": [
    "if mode == \"keep-all\":\n",
    "    keep_mask = pd.Series(True, index=org_train.index)\n",
    "\n",
    "# org_train contains the original feature columns from features_org (in Simson)\n",
    "# features_org contains unprocessed features, for me X_train at beginning ???\n",
    "# For keep-all, creates a boolean Series (keep_mask) of all True, so no rows are removed.\n",
    "\n",
    "elif mode == \"drop-non-german\":\n",
    "    keep_mask = org_train[\"maxdeutsch1\"] == 1 # ??? what about missing values?\n",
    "\n",
    "else:\n",
    "    raise ValueError(f\"Unsupported mode for exclude_subgroups: {mode}\")\n"
   ]
  },
  {
   "cell_type": "code",
   "execution_count": 38,
   "id": "71651440",
   "metadata": {
    "execution": {
     "iopub.execute_input": "2025-07-30T13:12:02.633255Z",
     "iopub.status.busy": "2025-07-30T13:12:02.632896Z",
     "iopub.status.idle": "2025-07-30T13:12:02.640368Z",
     "shell.execute_reply": "2025-07-30T13:12:02.638612Z"
    },
    "papermill": {
     "duration": 0.023632,
     "end_time": "2025-07-30T13:12:02.642605",
     "exception": false,
     "start_time": "2025-07-30T13:12:02.618973",
     "status": "completed"
    },
    "tags": []
   },
   "outputs": [],
   "source": [
    "n_drop = (~keep_mask).sum() # Calculates how many rows are set to be dropped\n",
    "if n_drop > 0:\n",
    "    pct = n_drop / len(keep_mask) * 100\n",
    "    print(f\"Dropping {n_drop} rows ({pct:.2f}%) where mode='{mode}'\")"
   ]
  },
  {
   "cell_type": "code",
   "execution_count": 39,
   "id": "5fb8eee5",
   "metadata": {
    "execution": {
     "iopub.execute_input": "2025-07-30T13:12:02.692093Z",
     "iopub.status.busy": "2025-07-30T13:12:02.691351Z",
     "iopub.status.idle": "2025-07-30T13:12:02.707567Z",
     "shell.execute_reply": "2025-07-30T13:12:02.706496Z"
    },
    "papermill": {
     "duration": 0.048331,
     "end_time": "2025-07-30T13:12:02.713241",
     "exception": false,
     "start_time": "2025-07-30T13:12:02.664910",
     "status": "completed"
    },
    "tags": []
   },
   "outputs": [],
   "source": [
    "X_train = X_train[keep_mask]"
   ]
  },
  {
   "cell_type": "code",
   "execution_count": 40,
   "id": "b202bb3a",
   "metadata": {
    "execution": {
     "iopub.execute_input": "2025-07-30T13:12:02.743696Z",
     "iopub.status.busy": "2025-07-30T13:12:02.743342Z",
     "iopub.status.idle": "2025-07-30T13:12:02.749120Z",
     "shell.execute_reply": "2025-07-30T13:12:02.748290Z"
    },
    "papermill": {
     "duration": 0.021977,
     "end_time": "2025-07-30T13:12:02.750754",
     "exception": false,
     "start_time": "2025-07-30T13:12:02.728777",
     "status": "completed"
    },
    "tags": []
   },
   "outputs": [],
   "source": [
    "y_train = y_train[keep_mask]"
   ]
  },
  {
   "cell_type": "markdown",
   "id": "493e2ac3",
   "metadata": {
    "papermill": {
     "duration": 0.012731,
     "end_time": "2025-07-30T13:12:02.777493",
     "exception": false,
     "start_time": "2025-07-30T13:12:02.764762",
     "status": "completed"
    },
    "tags": []
   },
   "source": [
    "# Model Training"
   ]
  },
  {
   "cell_type": "code",
   "execution_count": 41,
   "id": "679e1268",
   "metadata": {
    "execution": {
     "iopub.execute_input": "2025-07-30T13:12:02.804955Z",
     "iopub.status.busy": "2025-07-30T13:12:02.804598Z",
     "iopub.status.idle": "2025-07-30T13:12:02.904654Z",
     "shell.execute_reply": "2025-07-30T13:12:02.903428Z"
    },
    "papermill": {
     "duration": 0.116066,
     "end_time": "2025-07-30T13:12:02.906534",
     "exception": false,
     "start_time": "2025-07-30T13:12:02.790468",
     "status": "completed"
    },
    "tags": []
   },
   "outputs": [],
   "source": [
    "from sklearn.linear_model import LogisticRegression\n",
    "from sklearn.ensemble import GradientBoostingClassifier, RandomForestClassifier\n",
    "\n",
    "if (universe[\"model\"] == \"logreg\"):\n",
    "    model = LogisticRegression() #penalty=\"none\") #, solver=\"newton-cg\", max_iter=1) # include random_state=19 ?\n",
    "elif (universe[\"model\"] == \"penalized_logreg\"):\n",
    "    model = LogisticRegression(penalty=\"l2\", C=1.0) #, solver=\"newton-cg\", max_iter=1)\n",
    "elif (universe[\"model\"] == \"rf\"):\n",
    "    model = RandomForestClassifier(n_estimators=100, n_jobs=-1)\n",
    "elif (universe[\"model\"] == \"gbm\"):\n",
    "    model = GradientBoostingClassifier()\n",
    "elif (universe[\"model\"] == \"elasticnet\"):\n",
    "    model = LogisticRegression(penalty = 'elasticnet', solver = 'saga', l1_ratio = 0.5, max_iter=5000) # which solver to use?\n",
    "else:\n",
    "    raise \"Unsupported universe.model\""
   ]
  },
  {
   "cell_type": "code",
   "execution_count": 42,
   "id": "0cc8f744",
   "metadata": {
    "execution": {
     "iopub.execute_input": "2025-07-30T13:12:02.954928Z",
     "iopub.status.busy": "2025-07-30T13:12:02.953903Z",
     "iopub.status.idle": "2025-07-30T13:12:02.961168Z",
     "shell.execute_reply": "2025-07-30T13:12:02.960003Z"
    },
    "papermill": {
     "duration": 0.033731,
     "end_time": "2025-07-30T13:12:02.963235",
     "exception": false,
     "start_time": "2025-07-30T13:12:02.929504",
     "status": "completed"
    },
    "tags": []
   },
   "outputs": [],
   "source": [
    "import numpy as np\n",
    "from sklearn.pipeline import Pipeline\n",
    "from sklearn.preprocessing import StandardScaler\n",
    "\n",
    "model = Pipeline([\n",
    "    #(\"continuous_processor\", continuous_processor),\n",
    "    #(\"categorical_preprocessor\", categorical_preprocessor),\n",
    "    (\"scale\", StandardScaler() if universe[\"scale\"] == \"scale\" else None), \n",
    "    (\"model\", model),\n",
    "])"
   ]
  },
  {
   "cell_type": "code",
   "execution_count": 43,
   "id": "9442c04d",
   "metadata": {
    "execution": {
     "iopub.execute_input": "2025-07-30T13:12:03.016480Z",
     "iopub.status.busy": "2025-07-30T13:12:03.015190Z",
     "iopub.status.idle": "2025-07-30T13:12:04.071755Z",
     "shell.execute_reply": "2025-07-30T13:12:04.070376Z"
    },
    "papermill": {
     "duration": 1.085531,
     "end_time": "2025-07-30T13:12:04.073928",
     "exception": false,
     "start_time": "2025-07-30T13:12:02.988397",
     "status": "completed"
    },
    "tags": []
   },
   "outputs": [
    {
     "name": "stderr",
     "output_type": "stream",
     "text": [
      "/dss/dsshome1/0C/ra93lal2/.local/share/virtualenvs/CMA_Fairness_v2-3j10GkSs/lib/python3.10/site-packages/sklearn/linear_model/_logistic.py:444: ConvergenceWarning: lbfgs failed to converge (status=1):\n",
      "STOP: TOTAL NO. of ITERATIONS REACHED LIMIT.\n",
      "\n",
      "Increase the number of iterations (max_iter) or scale the data as shown in:\n",
      "    https://scikit-learn.org/stable/modules/preprocessing.html\n",
      "Please also refer to the documentation for alternative solver options:\n",
      "    https://scikit-learn.org/stable/modules/linear_model.html#logistic-regression\n",
      "  n_iter_i = _check_optimize_result(\n"
     ]
    },
    {
     "data": {
      "text/html": [
       "<style>#sk-container-id-1 {color: black;background-color: white;}#sk-container-id-1 pre{padding: 0;}#sk-container-id-1 div.sk-toggleable {background-color: white;}#sk-container-id-1 label.sk-toggleable__label {cursor: pointer;display: block;width: 100%;margin-bottom: 0;padding: 0.3em;box-sizing: border-box;text-align: center;}#sk-container-id-1 label.sk-toggleable__label-arrow:before {content: \"▸\";float: left;margin-right: 0.25em;color: #696969;}#sk-container-id-1 label.sk-toggleable__label-arrow:hover:before {color: black;}#sk-container-id-1 div.sk-estimator:hover label.sk-toggleable__label-arrow:before {color: black;}#sk-container-id-1 div.sk-toggleable__content {max-height: 0;max-width: 0;overflow: hidden;text-align: left;background-color: #f0f8ff;}#sk-container-id-1 div.sk-toggleable__content pre {margin: 0.2em;color: black;border-radius: 0.25em;background-color: #f0f8ff;}#sk-container-id-1 input.sk-toggleable__control:checked~div.sk-toggleable__content {max-height: 200px;max-width: 100%;overflow: auto;}#sk-container-id-1 input.sk-toggleable__control:checked~label.sk-toggleable__label-arrow:before {content: \"▾\";}#sk-container-id-1 div.sk-estimator input.sk-toggleable__control:checked~label.sk-toggleable__label {background-color: #d4ebff;}#sk-container-id-1 div.sk-label input.sk-toggleable__control:checked~label.sk-toggleable__label {background-color: #d4ebff;}#sk-container-id-1 input.sk-hidden--visually {border: 0;clip: rect(1px 1px 1px 1px);clip: rect(1px, 1px, 1px, 1px);height: 1px;margin: -1px;overflow: hidden;padding: 0;position: absolute;width: 1px;}#sk-container-id-1 div.sk-estimator {font-family: monospace;background-color: #f0f8ff;border: 1px dotted black;border-radius: 0.25em;box-sizing: border-box;margin-bottom: 0.5em;}#sk-container-id-1 div.sk-estimator:hover {background-color: #d4ebff;}#sk-container-id-1 div.sk-parallel-item::after {content: \"\";width: 100%;border-bottom: 1px solid gray;flex-grow: 1;}#sk-container-id-1 div.sk-label:hover label.sk-toggleable__label {background-color: #d4ebff;}#sk-container-id-1 div.sk-serial::before {content: \"\";position: absolute;border-left: 1px solid gray;box-sizing: border-box;top: 0;bottom: 0;left: 50%;z-index: 0;}#sk-container-id-1 div.sk-serial {display: flex;flex-direction: column;align-items: center;background-color: white;padding-right: 0.2em;padding-left: 0.2em;position: relative;}#sk-container-id-1 div.sk-item {position: relative;z-index: 1;}#sk-container-id-1 div.sk-parallel {display: flex;align-items: stretch;justify-content: center;background-color: white;position: relative;}#sk-container-id-1 div.sk-item::before, #sk-container-id-1 div.sk-parallel-item::before {content: \"\";position: absolute;border-left: 1px solid gray;box-sizing: border-box;top: 0;bottom: 0;left: 50%;z-index: -1;}#sk-container-id-1 div.sk-parallel-item {display: flex;flex-direction: column;z-index: 1;position: relative;background-color: white;}#sk-container-id-1 div.sk-parallel-item:first-child::after {align-self: flex-end;width: 50%;}#sk-container-id-1 div.sk-parallel-item:last-child::after {align-self: flex-start;width: 50%;}#sk-container-id-1 div.sk-parallel-item:only-child::after {width: 0;}#sk-container-id-1 div.sk-dashed-wrapped {border: 1px dashed gray;margin: 0 0.4em 0.5em 0.4em;box-sizing: border-box;padding-bottom: 0.4em;background-color: white;}#sk-container-id-1 div.sk-label label {font-family: monospace;font-weight: bold;display: inline-block;line-height: 1.2em;}#sk-container-id-1 div.sk-label-container {text-align: center;}#sk-container-id-1 div.sk-container {/* jupyter's `normalize.less` sets `[hidden] { display: none; }` but bootstrap.min.css set `[hidden] { display: none !important; }` so we also need the `!important` here to be able to override the default hidden behavior on the sphinx rendered scikit-learn.org. See: https://github.com/scikit-learn/scikit-learn/issues/21755 */display: inline-block !important;position: relative;}#sk-container-id-1 div.sk-text-repr-fallback {display: none;}</style><div id=\"sk-container-id-1\" class=\"sk-top-container\"><div class=\"sk-text-repr-fallback\"><pre>Pipeline(steps=[(&#x27;scale&#x27;, None), (&#x27;model&#x27;, LogisticRegression())])</pre><b>In a Jupyter environment, please rerun this cell to show the HTML representation or trust the notebook. <br />On GitHub, the HTML representation is unable to render, please try loading this page with nbviewer.org.</b></div><div class=\"sk-container\" hidden><div class=\"sk-item sk-dashed-wrapped\"><div class=\"sk-label-container\"><div class=\"sk-label sk-toggleable\"><input class=\"sk-toggleable__control sk-hidden--visually\" id=\"sk-estimator-id-1\" type=\"checkbox\" ><label for=\"sk-estimator-id-1\" class=\"sk-toggleable__label sk-toggleable__label-arrow\">Pipeline</label><div class=\"sk-toggleable__content\"><pre>Pipeline(steps=[(&#x27;scale&#x27;, None), (&#x27;model&#x27;, LogisticRegression())])</pre></div></div></div><div class=\"sk-serial\"><div class=\"sk-item\"><div class=\"sk-estimator sk-toggleable\"><input class=\"sk-toggleable__control sk-hidden--visually\" id=\"sk-estimator-id-2\" type=\"checkbox\" ><label for=\"sk-estimator-id-2\" class=\"sk-toggleable__label sk-toggleable__label-arrow\">None</label><div class=\"sk-toggleable__content\"><pre>None</pre></div></div></div><div class=\"sk-item\"><div class=\"sk-estimator sk-toggleable\"><input class=\"sk-toggleable__control sk-hidden--visually\" id=\"sk-estimator-id-3\" type=\"checkbox\" ><label for=\"sk-estimator-id-3\" class=\"sk-toggleable__label sk-toggleable__label-arrow\">LogisticRegression</label><div class=\"sk-toggleable__content\"><pre>LogisticRegression()</pre></div></div></div></div></div></div></div>"
      ],
      "text/plain": [
       "Pipeline(steps=[('scale', None), ('model', LogisticRegression())])"
      ]
     },
     "execution_count": 43,
     "metadata": {},
     "output_type": "execute_result"
    }
   ],
   "source": [
    "model.fit(X_train, y_train.values.ravel())"
   ]
  },
  {
   "cell_type": "code",
   "execution_count": 44,
   "id": "af59f8c0",
   "metadata": {
    "execution": {
     "iopub.execute_input": "2025-07-30T13:12:04.123057Z",
     "iopub.status.busy": "2025-07-30T13:12:04.122535Z",
     "iopub.status.idle": "2025-07-30T13:12:04.127994Z",
     "shell.execute_reply": "2025-07-30T13:12:04.127024Z"
    },
    "papermill": {
     "duration": 0.032401,
     "end_time": "2025-07-30T13:12:04.129813",
     "exception": false,
     "start_time": "2025-07-30T13:12:04.097412",
     "status": "completed"
    },
    "tags": []
   },
   "outputs": [],
   "source": [
    "from fairness_multiverse.universe import predict_w_threshold"
   ]
  },
  {
   "cell_type": "code",
   "execution_count": 45,
   "id": "a7cf2e16",
   "metadata": {
    "execution": {
     "iopub.execute_input": "2025-07-30T13:12:04.188889Z",
     "iopub.status.busy": "2025-07-30T13:12:04.187836Z",
     "iopub.status.idle": "2025-07-30T13:12:04.289587Z",
     "shell.execute_reply": "2025-07-30T13:12:04.288701Z"
    },
    "papermill": {
     "duration": 0.12995,
     "end_time": "2025-07-30T13:12:04.291684",
     "exception": false,
     "start_time": "2025-07-30T13:12:04.161734",
     "status": "completed"
    },
    "tags": []
   },
   "outputs": [
    {
     "data": {
      "text/plain": [
       "0.863058744844499"
      ]
     },
     "execution_count": 45,
     "metadata": {},
     "output_type": "execute_result"
    }
   ],
   "source": [
    "probs_test = model.predict_proba(X_test)\n",
    "\n",
    "'''\n",
    "Below code returns a boolean array (or binary 0/1 array depending on how it’s used) where each element \n",
    "is True if the probability of class 1 is greater than or equal to the threshold, and False otherwise.\n",
    "'''\n",
    "y_pred_default = predict_w_threshold(probs_test, 0.5)\n",
    "\n",
    "from sklearn.metrics import accuracy_score\n",
    "\n",
    "# Naive prediction\n",
    "accuracy_score(y_true = y_true, y_pred = y_pred_default)"
   ]
  },
  {
   "cell_type": "code",
   "execution_count": 46,
   "id": "081964c3",
   "metadata": {
    "execution": {
     "iopub.execute_input": "2025-07-30T13:12:04.361058Z",
     "iopub.status.busy": "2025-07-30T13:12:04.360526Z",
     "iopub.status.idle": "2025-07-30T13:12:04.460484Z",
     "shell.execute_reply": "2025-07-30T13:12:04.459334Z"
    },
    "papermill": {
     "duration": 0.134589,
     "end_time": "2025-07-30T13:12:04.462289",
     "exception": false,
     "start_time": "2025-07-30T13:12:04.327700",
     "status": "completed"
    },
    "tags": []
   },
   "outputs": [
    {
     "data": {
      "text/plain": [
       "array([0, 0, 0, ..., 0, 0, 0])"
      ]
     },
     "execution_count": 46,
     "metadata": {},
     "output_type": "execute_result"
    }
   ],
   "source": [
    "model.predict(X_test)"
   ]
  },
  {
   "cell_type": "markdown",
   "id": "56c9705b",
   "metadata": {
    "papermill": {
     "duration": 0.027626,
     "end_time": "2025-07-30T13:12:04.518577",
     "exception": false,
     "start_time": "2025-07-30T13:12:04.490951",
     "status": "completed"
    },
    "tags": []
   },
   "source": [
    "# Conformal Prediction"
   ]
  },
  {
   "cell_type": "code",
   "execution_count": 47,
   "id": "160ec6ff",
   "metadata": {
    "execution": {
     "iopub.execute_input": "2025-07-30T13:12:04.575392Z",
     "iopub.status.busy": "2025-07-30T13:12:04.574887Z",
     "iopub.status.idle": "2025-07-30T13:12:04.580742Z",
     "shell.execute_reply": "2025-07-30T13:12:04.579699Z"
    },
    "papermill": {
     "duration": 0.035932,
     "end_time": "2025-07-30T13:12:04.582596",
     "exception": false,
     "start_time": "2025-07-30T13:12:04.546664",
     "status": "completed"
    },
    "tags": []
   },
   "outputs": [],
   "source": [
    "# Miscoverage level for conformal prediction (10% allowed error rate => 90% target coverage)\n",
    "alpha = 0.1"
   ]
  },
  {
   "cell_type": "code",
   "execution_count": 48,
   "id": "eadf4555-3dd3-440e-8e35-f82a4ad9f855",
   "metadata": {
    "execution": {
     "iopub.execute_input": "2025-07-30T13:12:04.637587Z",
     "iopub.status.busy": "2025-07-30T13:12:04.636912Z",
     "iopub.status.idle": "2025-07-30T13:12:04.723224Z",
     "shell.execute_reply": "2025-07-30T13:12:04.722150Z"
    },
    "papermill": {
     "duration": 0.116957,
     "end_time": "2025-07-30T13:12:04.725400",
     "exception": false,
     "start_time": "2025-07-30T13:12:04.608443",
     "status": "completed"
    },
    "tags": []
   },
   "outputs": [],
   "source": [
    "probs_calib = model.predict_proba(X_calib)"
   ]
  },
  {
   "cell_type": "code",
   "execution_count": 49,
   "id": "2ed93547-6d5d-4983-9b36-1ecb300da49a",
   "metadata": {
    "execution": {
     "iopub.execute_input": "2025-07-30T13:12:04.786972Z",
     "iopub.status.busy": "2025-07-30T13:12:04.786450Z",
     "iopub.status.idle": "2025-07-30T13:12:04.792533Z",
     "shell.execute_reply": "2025-07-30T13:12:04.791469Z"
    },
    "papermill": {
     "duration": 0.038241,
     "end_time": "2025-07-30T13:12:04.794598",
     "exception": false,
     "start_time": "2025-07-30T13:12:04.756357",
     "status": "completed"
    },
    "tags": []
   },
   "outputs": [],
   "source": [
    "y_calib = y_calib.values.ravel().astype(int)"
   ]
  },
  {
   "cell_type": "code",
   "execution_count": 50,
   "id": "65d1320d-f588-4b38-9072-62af1ae97f7d",
   "metadata": {
    "execution": {
     "iopub.execute_input": "2025-07-30T13:12:04.855707Z",
     "iopub.status.busy": "2025-07-30T13:12:04.854930Z",
     "iopub.status.idle": "2025-07-30T13:12:04.864797Z",
     "shell.execute_reply": "2025-07-30T13:12:04.863673Z"
    },
    "papermill": {
     "duration": 0.042638,
     "end_time": "2025-07-30T13:12:04.866875",
     "exception": false,
     "start_time": "2025-07-30T13:12:04.824237",
     "status": "completed"
    },
    "tags": []
   },
   "outputs": [],
   "source": [
    "from fairness_multiverse.conformal import compute_nc_scores\n",
    "\n",
    "# Compute nonconformity scores on calibration set (1 - probability of true class)\n",
    "nc_scores = compute_nc_scores(probs_calib, y_calib)"
   ]
  },
  {
   "cell_type": "code",
   "execution_count": 51,
   "id": "df3b8ca3-53b7-43d5-9667-7c85da7aeda2",
   "metadata": {
    "execution": {
     "iopub.execute_input": "2025-07-30T13:12:04.919665Z",
     "iopub.status.busy": "2025-07-30T13:12:04.918768Z",
     "iopub.status.idle": "2025-07-30T13:12:04.925736Z",
     "shell.execute_reply": "2025-07-30T13:12:04.924961Z"
    },
    "papermill": {
     "duration": 0.035542,
     "end_time": "2025-07-30T13:12:04.927549",
     "exception": false,
     "start_time": "2025-07-30T13:12:04.892007",
     "status": "completed"
    },
    "tags": []
   },
   "outputs": [],
   "source": [
    "from fairness_multiverse.conformal import find_threshold\n",
    "\n",
    "# Find conformal threshold q_hat for the given alpha (split conformal method)\n",
    "q_hat = find_threshold(nc_scores, alpha)"
   ]
  },
  {
   "cell_type": "code",
   "execution_count": 52,
   "id": "4d29e6c1-0ef6-4aa4-b8fe-4fe79b0d033a",
   "metadata": {
    "execution": {
     "iopub.execute_input": "2025-07-30T13:12:04.958566Z",
     "iopub.status.busy": "2025-07-30T13:12:04.957919Z",
     "iopub.status.idle": "2025-07-30T13:12:04.963789Z",
     "shell.execute_reply": "2025-07-30T13:12:04.963065Z"
    },
    "papermill": {
     "duration": 0.020865,
     "end_time": "2025-07-30T13:12:04.965151",
     "exception": false,
     "start_time": "2025-07-30T13:12:04.944286",
     "status": "completed"
    },
    "tags": []
   },
   "outputs": [
    {
     "data": {
      "text/plain": [
       "0.6907417675387129"
      ]
     },
     "execution_count": 52,
     "metadata": {},
     "output_type": "execute_result"
    }
   ],
   "source": [
    "q_hat"
   ]
  },
  {
   "cell_type": "code",
   "execution_count": 53,
   "id": "92460794-cdac-4be2-ba28-f28c0515a6fb",
   "metadata": {
    "execution": {
     "iopub.execute_input": "2025-07-30T13:12:04.997589Z",
     "iopub.status.busy": "2025-07-30T13:12:04.996711Z",
     "iopub.status.idle": "2025-07-30T13:12:05.836058Z",
     "shell.execute_reply": "2025-07-30T13:12:05.835092Z"
    },
    "papermill": {
     "duration": 0.859603,
     "end_time": "2025-07-30T13:12:05.838167",
     "exception": false,
     "start_time": "2025-07-30T13:12:04.978564",
     "status": "completed"
    },
    "tags": []
   },
   "outputs": [],
   "source": [
    "from fairness_multiverse.conformal import predict_conformal_sets\n",
    "\n",
    "# Generate prediction sets for each test example\n",
    "pred_sets = predict_conformal_sets(model, X_test, q_hat)"
   ]
  },
  {
   "cell_type": "code",
   "execution_count": 54,
   "id": "d90c9a65-e6db-4f5d-80cd-e68fb7e46829",
   "metadata": {
    "execution": {
     "iopub.execute_input": "2025-07-30T13:12:05.894490Z",
     "iopub.status.busy": "2025-07-30T13:12:05.893669Z",
     "iopub.status.idle": "2025-07-30T13:12:05.899521Z",
     "shell.execute_reply": "2025-07-30T13:12:05.898490Z"
    },
    "papermill": {
     "duration": 0.035235,
     "end_time": "2025-07-30T13:12:05.901497",
     "exception": false,
     "start_time": "2025-07-30T13:12:05.866262",
     "status": "completed"
    },
    "tags": []
   },
   "outputs": [],
   "source": [
    "y_true = y_true.squeeze()"
   ]
  },
  {
   "cell_type": "code",
   "execution_count": 55,
   "id": "3a58a54a-1e68-46b9-927a-df01f18aebc8",
   "metadata": {
    "execution": {
     "iopub.execute_input": "2025-07-30T13:12:05.957158Z",
     "iopub.status.busy": "2025-07-30T13:12:05.956495Z",
     "iopub.status.idle": "2025-07-30T13:12:06.881757Z",
     "shell.execute_reply": "2025-07-30T13:12:06.880845Z"
    },
    "papermill": {
     "duration": 0.954575,
     "end_time": "2025-07-30T13:12:06.883669",
     "exception": false,
     "start_time": "2025-07-30T13:12:05.929094",
     "status": "completed"
    },
    "tags": []
   },
   "outputs": [],
   "source": [
    "from fairness_multiverse.conformal import evaluate_sets\n",
    "\n",
    "# Evaluate coverage and average set size on test data\n",
    "metrics = evaluate_sets(pred_sets, y_true)"
   ]
  },
  {
   "cell_type": "markdown",
   "id": "2b569c12-9aaa-4c88-98c9-bbcd0cf3ebb8",
   "metadata": {
    "papermill": {
     "duration": 0.023782,
     "end_time": "2025-07-30T13:12:06.934755",
     "exception": false,
     "start_time": "2025-07-30T13:12:06.910973",
     "status": "completed"
    },
    "tags": []
   },
   "source": [
    "# CP Metrics"
   ]
  },
  {
   "cell_type": "code",
   "execution_count": 56,
   "id": "5ce0a5cb-201f-45a0-ade5-94c7f0bd6095",
   "metadata": {
    "execution": {
     "iopub.execute_input": "2025-07-30T13:12:06.983107Z",
     "iopub.status.busy": "2025-07-30T13:12:06.982647Z",
     "iopub.status.idle": "2025-07-30T13:12:06.992193Z",
     "shell.execute_reply": "2025-07-30T13:12:06.991214Z"
    },
    "papermill": {
     "duration": 0.03627,
     "end_time": "2025-07-30T13:12:06.993808",
     "exception": false,
     "start_time": "2025-07-30T13:12:06.957538",
     "status": "completed"
    },
    "tags": []
   },
   "outputs": [
    {
     "data": {
      "text/plain": [
       "{'coverage': 0.9120722327499722, 'avg_size': 1.2}"
      ]
     },
     "execution_count": 56,
     "metadata": {},
     "output_type": "execute_result"
    }
   ],
   "source": [
    "metrics"
   ]
  },
  {
   "cell_type": "code",
   "execution_count": 57,
   "id": "9b9a838d-31c9-430b-ae14-12baee460d17",
   "metadata": {
    "execution": {
     "iopub.execute_input": "2025-07-30T13:12:07.045259Z",
     "iopub.status.busy": "2025-07-30T13:12:07.044756Z",
     "iopub.status.idle": "2025-07-30T13:12:07.051124Z",
     "shell.execute_reply": "2025-07-30T13:12:07.050259Z"
    },
    "papermill": {
     "duration": 0.032968,
     "end_time": "2025-07-30T13:12:07.052572",
     "exception": false,
     "start_time": "2025-07-30T13:12:07.019604",
     "status": "completed"
    },
    "tags": []
   },
   "outputs": [],
   "source": [
    "example_universe = universe.copy()\n",
    "universe_training_size = example_universe.get(\"training_size\")\n",
    "universe_scale = example_universe.get(\"scale\")\n",
    "universe_model = example_universe.get(\"model\")\n",
    "universe_exclude_features = example_universe.get(\"exclude_features\")\n",
    "universe_exclude_subgroups = example_universe.get(\"exclude_subgroups\")"
   ]
  },
  {
   "cell_type": "code",
   "execution_count": 58,
   "id": "f4b6a8ac-9dc0-4245-8a91-5b3b5999c4f9",
   "metadata": {
    "execution": {
     "iopub.execute_input": "2025-07-30T13:12:07.103418Z",
     "iopub.status.busy": "2025-07-30T13:12:07.102920Z",
     "iopub.status.idle": "2025-07-30T13:12:07.110201Z",
     "shell.execute_reply": "2025-07-30T13:12:07.109174Z"
    },
    "papermill": {
     "duration": 0.033858,
     "end_time": "2025-07-30T13:12:07.111867",
     "exception": false,
     "start_time": "2025-07-30T13:12:07.078009",
     "status": "completed"
    },
    "tags": []
   },
   "outputs": [],
   "source": [
    "cp_metrics_dict = {\n",
    "    \"universe_id\": [universe_id],\n",
    "    \"universe_training_size\": [universe_training_size],\n",
    "    \"universe_scale\": [universe_scale],\n",
    "    \"universe_model\": [universe_model],\n",
    "    \"universe_exclude_features\": [universe_exclude_features],\n",
    "    \"universe_exclude_subgroups\": [universe_exclude_subgroups],\n",
    "    \"q_hat\": [q_hat],\n",
    "    \"coverage\": [metrics[\"coverage\"]],\n",
    "    \"avg_size\": [metrics[\"avg_size\"]],\n",
    "}"
   ]
  },
  {
   "cell_type": "code",
   "execution_count": 59,
   "id": "908acbb1-0371-4915-85ca-3fa520d2efe2",
   "metadata": {
    "execution": {
     "iopub.execute_input": "2025-07-30T13:12:07.163352Z",
     "iopub.status.busy": "2025-07-30T13:12:07.162812Z",
     "iopub.status.idle": "2025-07-30T13:12:07.170723Z",
     "shell.execute_reply": "2025-07-30T13:12:07.169741Z"
    },
    "papermill": {
     "duration": 0.034558,
     "end_time": "2025-07-30T13:12:07.172237",
     "exception": false,
     "start_time": "2025-07-30T13:12:07.137679",
     "status": "completed"
    },
    "tags": []
   },
   "outputs": [
    {
     "data": {
      "text/plain": [
       "{'universe_id': ['20e57837f720fe4eb6e114356cb0fe91'],\n",
       " 'universe_training_size': ['25k'],\n",
       " 'universe_scale': ['do-not-scale'],\n",
       " 'universe_model': ['logreg'],\n",
       " 'universe_exclude_features': ['sex'],\n",
       " 'universe_exclude_subgroups': ['keep-all'],\n",
       " 'q_hat': [0.6907417675387129],\n",
       " 'coverage': [0.9120722327499722],\n",
       " 'avg_size': [1.2]}"
      ]
     },
     "execution_count": 59,
     "metadata": {},
     "output_type": "execute_result"
    }
   ],
   "source": [
    "cp_metrics_dict"
   ]
  },
  {
   "cell_type": "code",
   "execution_count": 60,
   "id": "33007efc-14e9-4ec6-97ac-56a455c82265",
   "metadata": {
    "execution": {
     "iopub.execute_input": "2025-07-30T13:12:07.223685Z",
     "iopub.status.busy": "2025-07-30T13:12:07.223192Z",
     "iopub.status.idle": "2025-07-30T13:12:07.229595Z",
     "shell.execute_reply": "2025-07-30T13:12:07.228666Z"
    },
    "papermill": {
     "duration": 0.034202,
     "end_time": "2025-07-30T13:12:07.231107",
     "exception": false,
     "start_time": "2025-07-30T13:12:07.196905",
     "status": "completed"
    },
    "tags": []
   },
   "outputs": [],
   "source": [
    "cp_metrics_df = pd.DataFrame(cp_metrics_dict)"
   ]
  },
  {
   "cell_type": "code",
   "execution_count": 61,
   "id": "db12611b-57b2-4910-b9d0-355adfd6e7bf",
   "metadata": {
    "execution": {
     "iopub.execute_input": "2025-07-30T13:12:07.282647Z",
     "iopub.status.busy": "2025-07-30T13:12:07.282131Z",
     "iopub.status.idle": "2025-07-30T13:12:07.300687Z",
     "shell.execute_reply": "2025-07-30T13:12:07.299650Z"
    },
    "papermill": {
     "duration": 0.046098,
     "end_time": "2025-07-30T13:12:07.302417",
     "exception": false,
     "start_time": "2025-07-30T13:12:07.256319",
     "status": "completed"
    },
    "tags": []
   },
   "outputs": [
    {
     "data": {
      "text/html": [
       "<div>\n",
       "<style scoped>\n",
       "    .dataframe tbody tr th:only-of-type {\n",
       "        vertical-align: middle;\n",
       "    }\n",
       "\n",
       "    .dataframe tbody tr th {\n",
       "        vertical-align: top;\n",
       "    }\n",
       "\n",
       "    .dataframe thead th {\n",
       "        text-align: right;\n",
       "    }\n",
       "</style>\n",
       "<table border=\"1\" class=\"dataframe\">\n",
       "  <thead>\n",
       "    <tr style=\"text-align: right;\">\n",
       "      <th></th>\n",
       "      <th>universe_id</th>\n",
       "      <th>universe_training_size</th>\n",
       "      <th>universe_scale</th>\n",
       "      <th>universe_model</th>\n",
       "      <th>universe_exclude_features</th>\n",
       "      <th>universe_exclude_subgroups</th>\n",
       "      <th>q_hat</th>\n",
       "      <th>coverage</th>\n",
       "      <th>avg_size</th>\n",
       "    </tr>\n",
       "  </thead>\n",
       "  <tbody>\n",
       "    <tr>\n",
       "      <th>0</th>\n",
       "      <td>20e57837f720fe4eb6e114356cb0fe91</td>\n",
       "      <td>25k</td>\n",
       "      <td>do-not-scale</td>\n",
       "      <td>logreg</td>\n",
       "      <td>sex</td>\n",
       "      <td>keep-all</td>\n",
       "      <td>0.690742</td>\n",
       "      <td>0.912072</td>\n",
       "      <td>1.2</td>\n",
       "    </tr>\n",
       "  </tbody>\n",
       "</table>\n",
       "</div>"
      ],
      "text/plain": [
       "                        universe_id universe_training_size universe_scale  \\\n",
       "0  20e57837f720fe4eb6e114356cb0fe91                    25k   do-not-scale   \n",
       "\n",
       "  universe_model universe_exclude_features universe_exclude_subgroups  \\\n",
       "0         logreg                       sex                   keep-all   \n",
       "\n",
       "      q_hat  coverage  avg_size  \n",
       "0  0.690742  0.912072       1.2  "
      ]
     },
     "execution_count": 61,
     "metadata": {},
     "output_type": "execute_result"
    }
   ],
   "source": [
    "cp_metrics_df"
   ]
  },
  {
   "cell_type": "code",
   "execution_count": 62,
   "id": "b7fbde55-a0a1-47e4-9af6-fe4a17fa8c61",
   "metadata": {
    "execution": {
     "iopub.execute_input": "2025-07-30T13:12:07.354781Z",
     "iopub.status.busy": "2025-07-30T13:12:07.354008Z",
     "iopub.status.idle": "2025-07-30T13:12:07.359101Z",
     "shell.execute_reply": "2025-07-30T13:12:07.358099Z"
    },
    "papermill": {
     "duration": 0.032097,
     "end_time": "2025-07-30T13:12:07.360712",
     "exception": false,
     "start_time": "2025-07-30T13:12:07.328615",
     "status": "completed"
    },
    "tags": []
   },
   "outputs": [],
   "source": [
    "# Conditional Coverage & looking at subgroups"
   ]
  },
  {
   "cell_type": "code",
   "execution_count": 63,
   "id": "027ae886-68dd-4141-96c7-805a5450e1ef",
   "metadata": {
    "execution": {
     "iopub.execute_input": "2025-07-30T13:12:07.412611Z",
     "iopub.status.busy": "2025-07-30T13:12:07.412012Z",
     "iopub.status.idle": "2025-07-30T13:12:07.692922Z",
     "shell.execute_reply": "2025-07-30T13:12:07.691859Z"
    },
    "papermill": {
     "duration": 0.308508,
     "end_time": "2025-07-30T13:12:07.694993",
     "exception": false,
     "start_time": "2025-07-30T13:12:07.386485",
     "status": "completed"
    },
    "tags": []
   },
   "outputs": [],
   "source": [
    "from fairness_multiverse.conformal import build_cp_groups\n",
    "\n",
    "cp_groups_df = build_cp_groups(pred_sets, y_true, X_test.index, org_test)\n",
    "#needs universe_id and setting"
   ]
  },
  {
   "cell_type": "code",
   "execution_count": 64,
   "id": "01d5802c-663a-4d1f-9d69-e036faaffbf7",
   "metadata": {
    "execution": {
     "iopub.execute_input": "2025-07-30T13:12:07.750700Z",
     "iopub.status.busy": "2025-07-30T13:12:07.750201Z",
     "iopub.status.idle": "2025-07-30T13:12:07.755193Z",
     "shell.execute_reply": "2025-07-30T13:12:07.754187Z"
    },
    "papermill": {
     "duration": 0.034294,
     "end_time": "2025-07-30T13:12:07.756961",
     "exception": false,
     "start_time": "2025-07-30T13:12:07.722667",
     "status": "completed"
    },
    "tags": []
   },
   "outputs": [],
   "source": [
    "#delete\n",
    "#cp_groups_df"
   ]
  },
  {
   "cell_type": "code",
   "execution_count": 65,
   "id": "fa424af1-d1eb-443d-b717-2d279ada8408",
   "metadata": {
    "execution": {
     "iopub.execute_input": "2025-07-30T13:12:07.817761Z",
     "iopub.status.busy": "2025-07-30T13:12:07.817027Z",
     "iopub.status.idle": "2025-07-30T13:12:07.822628Z",
     "shell.execute_reply": "2025-07-30T13:12:07.821678Z"
    },
    "papermill": {
     "duration": 0.038774,
     "end_time": "2025-07-30T13:12:07.824396",
     "exception": false,
     "start_time": "2025-07-30T13:12:07.785622",
     "status": "completed"
    },
    "tags": []
   },
   "outputs": [],
   "source": [
    "#delete\n",
    "#percentage = (cp_groups_df['nongerman_female'] == 1).mean() * 100\n",
    "#print(percentage)\n"
   ]
  },
  {
   "cell_type": "code",
   "execution_count": 66,
   "id": "6cbdab96-b2b2-45af-ad54-d0516db2e28d",
   "metadata": {
    "execution": {
     "iopub.execute_input": "2025-07-30T13:12:07.887217Z",
     "iopub.status.busy": "2025-07-30T13:12:07.886740Z",
     "iopub.status.idle": "2025-07-30T13:12:09.438520Z",
     "shell.execute_reply": "2025-07-30T13:12:09.437762Z"
    },
    "papermill": {
     "duration": 1.584908,
     "end_time": "2025-07-30T13:12:09.440335",
     "exception": false,
     "start_time": "2025-07-30T13:12:07.855427",
     "status": "completed"
    },
    "tags": []
   },
   "outputs": [],
   "source": [
    "# Define covered = 1 if true_label is in the predicted set\n",
    "cp_groups_df['covered'] = cp_groups_df.apply(\n",
    "    lambda r: int(r['true_label'] in r['pred_set']),\n",
    "    axis=1\n",
    ")"
   ]
  },
  {
   "cell_type": "code",
   "execution_count": 67,
   "id": "338ff529-1a6b-4b87-a931-8e4788d52aad",
   "metadata": {
    "execution": {
     "iopub.execute_input": "2025-07-30T13:12:09.492719Z",
     "iopub.status.busy": "2025-07-30T13:12:09.492247Z",
     "iopub.status.idle": "2025-07-30T13:12:09.497068Z",
     "shell.execute_reply": "2025-07-30T13:12:09.496141Z"
    },
    "papermill": {
     "duration": 0.03261,
     "end_time": "2025-07-30T13:12:09.498626",
     "exception": false,
     "start_time": "2025-07-30T13:12:09.466016",
     "status": "completed"
    },
    "tags": []
   },
   "outputs": [],
   "source": [
    "#cp_groups_df"
   ]
  },
  {
   "cell_type": "code",
   "execution_count": 68,
   "id": "90032e27-66df-4540-9169-4e89cfbaa758",
   "metadata": {
    "execution": {
     "iopub.execute_input": "2025-07-30T13:12:09.550542Z",
     "iopub.status.busy": "2025-07-30T13:12:09.550086Z",
     "iopub.status.idle": "2025-07-30T13:12:09.561327Z",
     "shell.execute_reply": "2025-07-30T13:12:09.560363Z"
    },
    "papermill": {
     "duration": 0.03856,
     "end_time": "2025-07-30T13:12:09.563250",
     "exception": false,
     "start_time": "2025-07-30T13:12:09.524690",
     "status": "completed"
    },
    "tags": []
   },
   "outputs": [],
   "source": [
    "subgroups = ['frau1','nongerman','nongerman_male','nongerman_female']\n",
    "\n",
    "# Conditional coverage for subgroup==1\n",
    "cond_coverage = {\n",
    "    g: cp_groups_df.loc[cp_groups_df[g]==1, 'covered'].mean()\n",
    "    for g in subgroups\n",
    "}"
   ]
  },
  {
   "cell_type": "code",
   "execution_count": 69,
   "id": "1e348fb1-b9c3-45bc-ba23-f016827a7e0d",
   "metadata": {
    "execution": {
     "iopub.execute_input": "2025-07-30T13:12:09.620684Z",
     "iopub.status.busy": "2025-07-30T13:12:09.620165Z",
     "iopub.status.idle": "2025-07-30T13:12:09.627438Z",
     "shell.execute_reply": "2025-07-30T13:12:09.626577Z"
    },
    "papermill": {
     "duration": 0.03942,
     "end_time": "2025-07-30T13:12:09.629077",
     "exception": false,
     "start_time": "2025-07-30T13:12:09.589657",
     "status": "completed"
    },
    "tags": []
   },
   "outputs": [
    {
     "data": {
      "text/plain": [
       "{'frau1': 0.9113627173473514,\n",
       " 'nongerman': 0.9293212822096222,\n",
       " 'nongerman_male': 0.9425380527785283,\n",
       " 'nongerman_female': 0.907451564828614}"
      ]
     },
     "execution_count": 69,
     "metadata": {},
     "output_type": "execute_result"
    }
   ],
   "source": [
    "cond_coverage"
   ]
  },
  {
   "cell_type": "code",
   "execution_count": 70,
   "id": "f5093324-c3dd-4d63-bc4c-8d945e5c8bbb",
   "metadata": {
    "execution": {
     "iopub.execute_input": "2025-07-30T13:12:09.681905Z",
     "iopub.status.busy": "2025-07-30T13:12:09.681040Z",
     "iopub.status.idle": "2025-07-30T13:12:09.688554Z",
     "shell.execute_reply": "2025-07-30T13:12:09.687504Z"
    },
    "papermill": {
     "duration": 0.035456,
     "end_time": "2025-07-30T13:12:09.690260",
     "exception": false,
     "start_time": "2025-07-30T13:12:09.654804",
     "status": "completed"
    },
    "tags": []
   },
   "outputs": [],
   "source": [
    "for subgroup, cov in cond_coverage.items():\n",
    "    cp_metrics_df[f\"cov_{subgroup}\"] = cov"
   ]
  },
  {
   "cell_type": "code",
   "execution_count": 71,
   "id": "6e872e10-dbe5-49e8-b554-5030c98ff75d",
   "metadata": {
    "execution": {
     "iopub.execute_input": "2025-07-30T13:12:09.758802Z",
     "iopub.status.busy": "2025-07-30T13:12:09.757923Z",
     "iopub.status.idle": "2025-07-30T13:12:09.775689Z",
     "shell.execute_reply": "2025-07-30T13:12:09.774609Z"
    },
    "papermill": {
     "duration": 0.059966,
     "end_time": "2025-07-30T13:12:09.777336",
     "exception": false,
     "start_time": "2025-07-30T13:12:09.717370",
     "status": "completed"
    },
    "tags": []
   },
   "outputs": [
    {
     "data": {
      "text/html": [
       "<div>\n",
       "<style scoped>\n",
       "    .dataframe tbody tr th:only-of-type {\n",
       "        vertical-align: middle;\n",
       "    }\n",
       "\n",
       "    .dataframe tbody tr th {\n",
       "        vertical-align: top;\n",
       "    }\n",
       "\n",
       "    .dataframe thead th {\n",
       "        text-align: right;\n",
       "    }\n",
       "</style>\n",
       "<table border=\"1\" class=\"dataframe\">\n",
       "  <thead>\n",
       "    <tr style=\"text-align: right;\">\n",
       "      <th></th>\n",
       "      <th>universe_id</th>\n",
       "      <th>universe_training_size</th>\n",
       "      <th>universe_scale</th>\n",
       "      <th>universe_model</th>\n",
       "      <th>universe_exclude_features</th>\n",
       "      <th>universe_exclude_subgroups</th>\n",
       "      <th>q_hat</th>\n",
       "      <th>coverage</th>\n",
       "      <th>avg_size</th>\n",
       "      <th>cov_frau1</th>\n",
       "      <th>cov_nongerman</th>\n",
       "      <th>cov_nongerman_male</th>\n",
       "      <th>cov_nongerman_female</th>\n",
       "    </tr>\n",
       "  </thead>\n",
       "  <tbody>\n",
       "    <tr>\n",
       "      <th>0</th>\n",
       "      <td>20e57837f720fe4eb6e114356cb0fe91</td>\n",
       "      <td>25k</td>\n",
       "      <td>do-not-scale</td>\n",
       "      <td>logreg</td>\n",
       "      <td>sex</td>\n",
       "      <td>keep-all</td>\n",
       "      <td>0.690742</td>\n",
       "      <td>0.912072</td>\n",
       "      <td>1.2</td>\n",
       "      <td>0.911363</td>\n",
       "      <td>0.929321</td>\n",
       "      <td>0.942538</td>\n",
       "      <td>0.907452</td>\n",
       "    </tr>\n",
       "  </tbody>\n",
       "</table>\n",
       "</div>"
      ],
      "text/plain": [
       "                        universe_id universe_training_size universe_scale  \\\n",
       "0  20e57837f720fe4eb6e114356cb0fe91                    25k   do-not-scale   \n",
       "\n",
       "  universe_model universe_exclude_features universe_exclude_subgroups  \\\n",
       "0         logreg                       sex                   keep-all   \n",
       "\n",
       "      q_hat  coverage  avg_size  cov_frau1  cov_nongerman  cov_nongerman_male  \\\n",
       "0  0.690742  0.912072       1.2   0.911363       0.929321            0.942538   \n",
       "\n",
       "   cov_nongerman_female  \n",
       "0              0.907452  "
      ]
     },
     "execution_count": 71,
     "metadata": {},
     "output_type": "execute_result"
    }
   ],
   "source": [
    "cp_metrics_df"
   ]
  },
  {
   "cell_type": "markdown",
   "id": "33774451",
   "metadata": {
    "papermill": {
     "duration": 0.026297,
     "end_time": "2025-07-30T13:12:09.830518",
     "exception": false,
     "start_time": "2025-07-30T13:12:09.804221",
     "status": "completed"
    },
    "tags": []
   },
   "source": [
    "# (Fairness) Metrics"
   ]
  },
  {
   "cell_type": "code",
   "execution_count": 72,
   "id": "debc5d62",
   "metadata": {
    "execution": {
     "iopub.execute_input": "2025-07-30T13:12:09.886546Z",
     "iopub.status.busy": "2025-07-30T13:12:09.885741Z",
     "iopub.status.idle": "2025-07-30T13:12:09.907184Z",
     "shell.execute_reply": "2025-07-30T13:12:09.906218Z"
    },
    "papermill": {
     "duration": 0.049888,
     "end_time": "2025-07-30T13:12:09.909247",
     "exception": false,
     "start_time": "2025-07-30T13:12:09.859359",
     "status": "completed"
    },
    "tags": []
   },
   "outputs": [],
   "source": [
    "# do I need to include maxdeutsch1.missing?\n",
    "\n",
    "import numpy as np\n",
    "\n",
    "colname_to_bin = \"maxdeutsch1\"\n",
    "majority_value = org_train[colname_to_bin].mode()[0]\n",
    "\n",
    "org_test[\"majmin\"] = np.where(org_test[colname_to_bin] == majority_value, \"majority\", \"minority\")"
   ]
  },
  {
   "cell_type": "code",
   "execution_count": 73,
   "id": "06a50de5",
   "metadata": {
    "execution": {
     "iopub.execute_input": "2025-07-30T13:12:09.968204Z",
     "iopub.status.busy": "2025-07-30T13:12:09.967786Z",
     "iopub.status.idle": "2025-07-30T13:12:12.849591Z",
     "shell.execute_reply": "2025-07-30T13:12:12.848693Z"
    },
    "papermill": {
     "duration": 2.914407,
     "end_time": "2025-07-30T13:12:12.851600",
     "exception": false,
     "start_time": "2025-07-30T13:12:09.937193",
     "status": "completed"
    },
    "tags": []
   },
   "outputs": [],
   "source": [
    "example_universe = universe.copy()\n",
    "example_universe[\"cutoff\"] = example_universe[\"cutoff\"][0]\n",
    "example_universe[\"eval_fairness_grouping\"] = example_universe[\"eval_fairness_grouping\"][0]\n",
    "fairness_dict, metric_frame = universe_analysis.compute_metrics(\n",
    "    example_universe,\n",
    "    y_pred_prob=probs_test,\n",
    "    y_test=y_true,\n",
    "    org_test=org_test,\n",
    ")"
   ]
  },
  {
   "cell_type": "markdown",
   "id": "f95d4e02",
   "metadata": {
    "papermill": {
     "duration": 0.02833,
     "end_time": "2025-07-30T13:12:12.905042",
     "exception": false,
     "start_time": "2025-07-30T13:12:12.876712",
     "status": "completed"
    },
    "tags": []
   },
   "source": [
    "# Overall"
   ]
  },
  {
   "cell_type": "markdown",
   "id": "bdee4871",
   "metadata": {
    "papermill": {
     "duration": 0.015122,
     "end_time": "2025-07-30T13:12:12.942733",
     "exception": false,
     "start_time": "2025-07-30T13:12:12.927611",
     "status": "completed"
    },
    "tags": []
   },
   "source": [
    "Fairness\n",
    "Main fairness target: Equalized Odds. Seems to be a better fit than equal opportunity, since we're not only interested in Y = 1. Seems to be a better fit than demographic parity, since we also care about accuracy, not just equal distribution of preds.\n",
    "\n",
    "Pick column for computation of fairness metrics\n",
    "\n",
    "Performance\n",
    "Overall performance measures, most interesting in relation to the measures split by group below"
   ]
  },
  {
   "cell_type": "code",
   "execution_count": 74,
   "id": "c4e067c6",
   "metadata": {
    "execution": {
     "iopub.execute_input": "2025-07-30T13:12:12.975017Z",
     "iopub.status.busy": "2025-07-30T13:12:12.973846Z",
     "iopub.status.idle": "2025-07-30T13:12:12.983899Z",
     "shell.execute_reply": "2025-07-30T13:12:12.982519Z"
    },
    "papermill": {
     "duration": 0.029985,
     "end_time": "2025-07-30T13:12:12.986354",
     "exception": false,
     "start_time": "2025-07-30T13:12:12.956369",
     "status": "completed"
    },
    "tags": []
   },
   "outputs": [
    {
     "data": {
      "text/plain": [
       "accuracy                   0.217735\n",
       "balanced accuracy          0.533783\n",
       "f1                         0.239249\n",
       "precision                  0.136675\n",
       "false positive rate        0.891333\n",
       "false negative rate        0.041102\n",
       "selection rate             0.900000\n",
       "count                  89710.000000\n",
       "dtype: float64"
      ]
     },
     "execution_count": 74,
     "metadata": {},
     "output_type": "execute_result"
    }
   ],
   "source": [
    "metric_frame.overall"
   ]
  },
  {
   "cell_type": "markdown",
   "id": "e968fe9d",
   "metadata": {
    "papermill": {
     "duration": 0.014725,
     "end_time": "2025-07-30T13:12:13.039755",
     "exception": false,
     "start_time": "2025-07-30T13:12:13.025030",
     "status": "completed"
    },
    "tags": []
   },
   "source": [
    "By Group"
   ]
  },
  {
   "cell_type": "code",
   "execution_count": 75,
   "id": "ec325bce",
   "metadata": {
    "execution": {
     "iopub.execute_input": "2025-07-30T13:12:13.070196Z",
     "iopub.status.busy": "2025-07-30T13:12:13.069213Z",
     "iopub.status.idle": "2025-07-30T13:12:13.087755Z",
     "shell.execute_reply": "2025-07-30T13:12:13.086694Z"
    },
    "papermill": {
     "duration": 0.035467,
     "end_time": "2025-07-30T13:12:13.089683",
     "exception": false,
     "start_time": "2025-07-30T13:12:13.054216",
     "status": "completed"
    },
    "tags": []
   },
   "outputs": [
    {
     "data": {
      "text/html": [
       "<div>\n",
       "<style scoped>\n",
       "    .dataframe tbody tr th:only-of-type {\n",
       "        vertical-align: middle;\n",
       "    }\n",
       "\n",
       "    .dataframe tbody tr th {\n",
       "        vertical-align: top;\n",
       "    }\n",
       "\n",
       "    .dataframe thead th {\n",
       "        text-align: right;\n",
       "    }\n",
       "</style>\n",
       "<table border=\"1\" class=\"dataframe\">\n",
       "  <thead>\n",
       "    <tr style=\"text-align: right;\">\n",
       "      <th></th>\n",
       "      <th>accuracy</th>\n",
       "      <th>balanced accuracy</th>\n",
       "      <th>f1</th>\n",
       "      <th>precision</th>\n",
       "      <th>false positive rate</th>\n",
       "      <th>false negative rate</th>\n",
       "      <th>selection rate</th>\n",
       "      <th>count</th>\n",
       "    </tr>\n",
       "    <tr>\n",
       "      <th>majmin</th>\n",
       "      <th></th>\n",
       "      <th></th>\n",
       "      <th></th>\n",
       "      <th></th>\n",
       "      <th></th>\n",
       "      <th></th>\n",
       "      <th></th>\n",
       "      <th></th>\n",
       "    </tr>\n",
       "  </thead>\n",
       "  <tbody>\n",
       "    <tr>\n",
       "      <th>majority</th>\n",
       "      <td>0.240335</td>\n",
       "      <td>0.541745</td>\n",
       "      <td>0.248677</td>\n",
       "      <td>0.143031</td>\n",
       "      <td>0.867933</td>\n",
       "      <td>0.048578</td>\n",
       "      <td>0.878965</td>\n",
       "      <td>69170.0</td>\n",
       "    </tr>\n",
       "    <tr>\n",
       "      <th>minority</th>\n",
       "      <td>0.141626</td>\n",
       "      <td>0.509560</td>\n",
       "      <td>0.209691</td>\n",
       "      <td>0.117296</td>\n",
       "      <td>0.968633</td>\n",
       "      <td>0.012247</td>\n",
       "      <td>0.970837</td>\n",
       "      <td>20540.0</td>\n",
       "    </tr>\n",
       "  </tbody>\n",
       "</table>\n",
       "</div>"
      ],
      "text/plain": [
       "          accuracy  balanced accuracy        f1  precision  \\\n",
       "majmin                                                       \n",
       "majority  0.240335           0.541745  0.248677   0.143031   \n",
       "minority  0.141626           0.509560  0.209691   0.117296   \n",
       "\n",
       "          false positive rate  false negative rate  selection rate    count  \n",
       "majmin                                                                       \n",
       "majority             0.867933             0.048578        0.878965  69170.0  \n",
       "minority             0.968633             0.012247        0.970837  20540.0  "
      ]
     },
     "execution_count": 75,
     "metadata": {},
     "output_type": "execute_result"
    }
   ],
   "source": [
    "metric_frame.by_group"
   ]
  },
  {
   "cell_type": "code",
   "execution_count": 76,
   "id": "a9ddbe63",
   "metadata": {
    "execution": {
     "iopub.execute_input": "2025-07-30T13:12:13.152392Z",
     "iopub.status.busy": "2025-07-30T13:12:13.151426Z",
     "iopub.status.idle": "2025-07-30T13:12:15.529161Z",
     "shell.execute_reply": "2025-07-30T13:12:15.528142Z"
    },
    "papermill": {
     "duration": 2.410574,
     "end_time": "2025-07-30T13:12:15.530813",
     "exception": false,
     "start_time": "2025-07-30T13:12:13.120239",
     "status": "completed"
    },
    "tags": []
   },
   "outputs": [
    {
     "data": {
      "text/plain": [
       "array([[<Axes: title={'center': 'accuracy'}, xlabel='majmin'>,\n",
       "        <Axes: title={'center': 'balanced accuracy'}, xlabel='majmin'>,\n",
       "        <Axes: title={'center': 'f1'}, xlabel='majmin'>],\n",
       "       [<Axes: title={'center': 'precision'}, xlabel='majmin'>,\n",
       "        <Axes: title={'center': 'false positive rate'}, xlabel='majmin'>,\n",
       "        <Axes: title={'center': 'false negative rate'}, xlabel='majmin'>],\n",
       "       [<Axes: title={'center': 'selection rate'}, xlabel='majmin'>,\n",
       "        <Axes: title={'center': 'count'}, xlabel='majmin'>,\n",
       "        <Axes: xlabel='majmin'>]], dtype=object)"
      ]
     },
     "execution_count": 76,
     "metadata": {},
     "output_type": "execute_result"
    },
    {
     "data": {
      "image/png": "[encoded data removed]",
      "text/plain": [
       "<Figure size 1200x800 with 9 Axes>"
      ]
     },
     "metadata": {},
     "output_type": "display_data"
    }
   ],
   "source": [
    "# In a graphic\n",
    "metric_frame.by_group.plot.bar(\n",
    "    subplots=True,\n",
    "    layout=[3, 3],\n",
    "    legend=False,\n",
    "    figsize=[12, 8],\n",
    "    title=\"Show all metrics\",\n",
    ")"
   ]
  },
  {
   "cell_type": "markdown",
   "id": "f57a0bac",
   "metadata": {
    "papermill": {
     "duration": 0.028958,
     "end_time": "2025-07-30T13:12:15.588806",
     "exception": false,
     "start_time": "2025-07-30T13:12:15.559848",
     "status": "completed"
    },
    "tags": []
   },
   "source": [
    "# Final Output"
   ]
  },
  {
   "cell_type": "code",
   "execution_count": 77,
   "id": "96d280a3",
   "metadata": {
    "execution": {
     "iopub.execute_input": "2025-07-30T13:12:15.647654Z",
     "iopub.status.busy": "2025-07-30T13:12:15.647087Z",
     "iopub.status.idle": "2025-07-30T13:12:15.655770Z",
     "shell.execute_reply": "2025-07-30T13:12:15.654769Z"
    },
    "papermill": {
     "duration": 0.040554,
     "end_time": "2025-07-30T13:12:15.657358",
     "exception": false,
     "start_time": "2025-07-30T13:12:15.616804",
     "status": "completed"
    },
    "tags": []
   },
   "outputs": [
    {
     "data": {
      "text/plain": [
       "4"
      ]
     },
     "execution_count": 77,
     "metadata": {},
     "output_type": "execute_result"
    }
   ],
   "source": [
    "sub_universes = universe_analysis.generate_sub_universes()\n",
    "len(sub_universes)"
   ]
  },
  {
   "cell_type": "code",
   "execution_count": 78,
   "id": "92adf7ba",
   "metadata": {
    "execution": {
     "iopub.execute_input": "2025-07-30T13:12:15.731521Z",
     "iopub.status.busy": "2025-07-30T13:12:15.731010Z",
     "iopub.status.idle": "2025-07-30T13:12:15.738155Z",
     "shell.execute_reply": "2025-07-30T13:12:15.737011Z"
    },
    "papermill": {
     "duration": 0.053442,
     "end_time": "2025-07-30T13:12:15.740287",
     "exception": false,
     "start_time": "2025-07-30T13:12:15.686845",
     "status": "completed"
    },
    "tags": []
   },
   "outputs": [],
   "source": [
    "def filter_sub_universe_data(sub_universe, org_test):\n",
    "    # Keep all rows — no filtering\n",
    "    keep_rows_mask = np.ones(org_test.shape[0], dtype=bool)\n",
    "\n",
    "    print(f\"[INFO] Keeping all rows: {keep_rows_mask.sum()} rows retained.\")\n",
    "    return keep_rows_mask"
   ]
  },
  {
   "cell_type": "code",
   "execution_count": 79,
   "id": "4a759155",
   "metadata": {
    "execution": {
     "iopub.execute_input": "2025-07-30T13:12:15.821524Z",
     "iopub.status.busy": "2025-07-30T13:12:15.821007Z",
     "iopub.status.idle": "2025-07-30T13:12:26.327746Z",
     "shell.execute_reply": "2025-07-30T13:12:26.326637Z"
    },
    "papermill": {
     "duration": 10.548547,
     "end_time": "2025-07-30T13:12:26.329363",
     "exception": false,
     "start_time": "2025-07-30T13:12:15.780816",
     "status": "completed"
    },
    "tags": []
   },
   "outputs": [
    {
     "name": "stdout",
     "output_type": "stream",
     "text": [
      "Stopping execution_time clock.\n",
      "[INFO] Keeping all rows: 89710 rows retained.\n"
     ]
    },
    {
     "name": "stdout",
     "output_type": "stream",
     "text": [
      "[INFO] Keeping all rows: 89710 rows retained.\n"
     ]
    },
    {
     "name": "stdout",
     "output_type": "stream",
     "text": [
      "[INFO] Keeping all rows: 89710 rows retained.\n"
     ]
    },
    {
     "name": "stdout",
     "output_type": "stream",
     "text": [
      "[INFO] Keeping all rows: 89710 rows retained.\n"
     ]
    },
    {
     "data": {
      "text/html": [
       "<div>\n",
       "<style scoped>\n",
       "    .dataframe tbody tr th:only-of-type {\n",
       "        vertical-align: middle;\n",
       "    }\n",
       "\n",
       "    .dataframe tbody tr th {\n",
       "        vertical-align: top;\n",
       "    }\n",
       "\n",
       "    .dataframe thead th {\n",
       "        text-align: right;\n",
       "    }\n",
       "</style>\n",
       "<table border=\"1\" class=\"dataframe\">\n",
       "  <thead>\n",
       "    <tr style=\"text-align: right;\">\n",
       "      <th></th>\n",
       "      <th>run_no</th>\n",
       "      <th>universe_id</th>\n",
       "      <th>universe_settings</th>\n",
       "      <th>execution_time</th>\n",
       "      <th>test_size_n</th>\n",
       "      <th>test_size_frac</th>\n",
       "      <th>fair_main_equalized_odds_difference</th>\n",
       "      <th>fair_main_equalized_odds_ratio</th>\n",
       "      <th>fair_main_demographic_parity_difference</th>\n",
       "      <th>fair_main_demographic_parity_ratio</th>\n",
       "      <th>...</th>\n",
       "      <th>perf_grp_precision_0</th>\n",
       "      <th>perf_grp_precision_1</th>\n",
       "      <th>perf_grp_false positive rate_0</th>\n",
       "      <th>perf_grp_false positive rate_1</th>\n",
       "      <th>perf_grp_false negative rate_0</th>\n",
       "      <th>perf_grp_false negative rate_1</th>\n",
       "      <th>perf_grp_selection rate_0</th>\n",
       "      <th>perf_grp_selection rate_1</th>\n",
       "      <th>perf_grp_count_0</th>\n",
       "      <th>perf_grp_count_1</th>\n",
       "    </tr>\n",
       "  </thead>\n",
       "  <tbody>\n",
       "    <tr>\n",
       "      <th>0</th>\n",
       "      <td>12</td>\n",
       "      <td>20e57837f720fe4eb6e114356cb0fe91</td>\n",
       "      <td>{\"cutoff\": \"quantile_0.1\", \"eval_fairness_grou...</td>\n",
       "      <td>29.076008</td>\n",
       "      <td>89710</td>\n",
       "      <td>1.0</td>\n",
       "      <td>0.100700</td>\n",
       "      <td>0.896039</td>\n",
       "      <td>0.091873</td>\n",
       "      <td>0.905368</td>\n",
       "      <td>...</td>\n",
       "      <td>NaN</td>\n",
       "      <td>NaN</td>\n",
       "      <td>NaN</td>\n",
       "      <td>NaN</td>\n",
       "      <td>NaN</td>\n",
       "      <td>NaN</td>\n",
       "      <td>NaN</td>\n",
       "      <td>NaN</td>\n",
       "      <td>NaN</td>\n",
       "      <td>NaN</td>\n",
       "    </tr>\n",
       "    <tr>\n",
       "      <th>0</th>\n",
       "      <td>12</td>\n",
       "      <td>20e57837f720fe4eb6e114356cb0fe91</td>\n",
       "      <td>{\"cutoff\": \"quantile_0.1\", \"eval_fairness_grou...</td>\n",
       "      <td>29.076008</td>\n",
       "      <td>89710</td>\n",
       "      <td>1.0</td>\n",
       "      <td>0.100700</td>\n",
       "      <td>0.896039</td>\n",
       "      <td>0.091873</td>\n",
       "      <td>0.905368</td>\n",
       "      <td>...</td>\n",
       "      <td>0.117296</td>\n",
       "      <td>0.143031</td>\n",
       "      <td>0.968633</td>\n",
       "      <td>0.867933</td>\n",
       "      <td>0.012247</td>\n",
       "      <td>0.048578</td>\n",
       "      <td>0.970837</td>\n",
       "      <td>0.878965</td>\n",
       "      <td>20540.0</td>\n",
       "      <td>69170.0</td>\n",
       "    </tr>\n",
       "    <tr>\n",
       "      <th>0</th>\n",
       "      <td>12</td>\n",
       "      <td>20e57837f720fe4eb6e114356cb0fe91</td>\n",
       "      <td>{\"cutoff\": \"quantile_0.25\", \"eval_fairness_gro...</td>\n",
       "      <td>29.076008</td>\n",
       "      <td>89710</td>\n",
       "      <td>1.0</td>\n",
       "      <td>0.220268</td>\n",
       "      <td>0.755066</td>\n",
       "      <td>0.202000</td>\n",
       "      <td>0.776979</td>\n",
       "      <td>...</td>\n",
       "      <td>NaN</td>\n",
       "      <td>NaN</td>\n",
       "      <td>NaN</td>\n",
       "      <td>NaN</td>\n",
       "      <td>NaN</td>\n",
       "      <td>NaN</td>\n",
       "      <td>NaN</td>\n",
       "      <td>NaN</td>\n",
       "      <td>NaN</td>\n",
       "      <td>NaN</td>\n",
       "    </tr>\n",
       "    <tr>\n",
       "      <th>0</th>\n",
       "      <td>12</td>\n",
       "      <td>20e57837f720fe4eb6e114356cb0fe91</td>\n",
       "      <td>{\"cutoff\": \"quantile_0.25\", \"eval_fairness_gro...</td>\n",
       "      <td>29.076008</td>\n",
       "      <td>89710</td>\n",
       "      <td>1.0</td>\n",
       "      <td>0.220268</td>\n",
       "      <td>0.755066</td>\n",
       "      <td>0.202000</td>\n",
       "      <td>0.776979</td>\n",
       "      <td>...</td>\n",
       "      <td>0.121587</td>\n",
       "      <td>0.162620</td>\n",
       "      <td>0.899296</td>\n",
       "      <td>0.679027</td>\n",
       "      <td>0.044764</td>\n",
       "      <td>0.133917</td>\n",
       "      <td>0.905745</td>\n",
       "      <td>0.703744</td>\n",
       "      <td>20540.0</td>\n",
       "      <td>69170.0</td>\n",
       "    </tr>\n",
       "  </tbody>\n",
       "</table>\n",
       "<p>4 rows × 50 columns</p>\n",
       "</div>"
      ],
      "text/plain": [
       "  run_no                       universe_id  \\\n",
       "0     12  20e57837f720fe4eb6e114356cb0fe91   \n",
       "0     12  20e57837f720fe4eb6e114356cb0fe91   \n",
       "0     12  20e57837f720fe4eb6e114356cb0fe91   \n",
       "0     12  20e57837f720fe4eb6e114356cb0fe91   \n",
       "\n",
       "                                   universe_settings  execution_time  \\\n",
       "0  {\"cutoff\": \"quantile_0.1\", \"eval_fairness_grou...       29.076008   \n",
       "0  {\"cutoff\": \"quantile_0.1\", \"eval_fairness_grou...       29.076008   \n",
       "0  {\"cutoff\": \"quantile_0.25\", \"eval_fairness_gro...       29.076008   \n",
       "0  {\"cutoff\": \"quantile_0.25\", \"eval_fairness_gro...       29.076008   \n",
       "\n",
       "   test_size_n  test_size_frac  fair_main_equalized_odds_difference  \\\n",
       "0        89710             1.0                             0.100700   \n",
       "0        89710             1.0                             0.100700   \n",
       "0        89710             1.0                             0.220268   \n",
       "0        89710             1.0                             0.220268   \n",
       "\n",
       "   fair_main_equalized_odds_ratio  fair_main_demographic_parity_difference  \\\n",
       "0                        0.896039                                 0.091873   \n",
       "0                        0.896039                                 0.091873   \n",
       "0                        0.755066                                 0.202000   \n",
       "0                        0.755066                                 0.202000   \n",
       "\n",
       "   fair_main_demographic_parity_ratio  ...  perf_grp_precision_0  \\\n",
       "0                            0.905368  ...                   NaN   \n",
       "0                            0.905368  ...              0.117296   \n",
       "0                            0.776979  ...                   NaN   \n",
       "0                            0.776979  ...              0.121587   \n",
       "\n",
       "   perf_grp_precision_1  perf_grp_false positive rate_0  \\\n",
       "0                   NaN                             NaN   \n",
       "0              0.143031                        0.968633   \n",
       "0                   NaN                             NaN   \n",
       "0              0.162620                        0.899296   \n",
       "\n",
       "   perf_grp_false positive rate_1  perf_grp_false negative rate_0  \\\n",
       "0                             NaN                             NaN   \n",
       "0                        0.867933                        0.012247   \n",
       "0                             NaN                             NaN   \n",
       "0                        0.679027                        0.044764   \n",
       "\n",
       "   perf_grp_false negative rate_1  perf_grp_selection rate_0  \\\n",
       "0                             NaN                        NaN   \n",
       "0                        0.048578                   0.970837   \n",
       "0                             NaN                        NaN   \n",
       "0                        0.133917                   0.905745   \n",
       "\n",
       "   perf_grp_selection rate_1  perf_grp_count_0  perf_grp_count_1  \n",
       "0                        NaN               NaN               NaN  \n",
       "0                   0.878965           20540.0           69170.0  \n",
       "0                        NaN               NaN               NaN  \n",
       "0                   0.703744           20540.0           69170.0  \n",
       "\n",
       "[4 rows x 50 columns]"
      ]
     },
     "execution_count": 79,
     "metadata": {},
     "output_type": "execute_result"
    }
   ],
   "source": [
    "final_output = universe_analysis.generate_final_output(\n",
    "    y_pred_prob=probs_test,\n",
    "    y_test=y_true,\n",
    "    org_test=org_test,\n",
    "    filter_data=filter_sub_universe_data,\n",
    "    cp_metrics_df=cp_metrics_df,\n",
    "    save=True,\n",
    ")\n",
    "final_output"
   ]
  },
  {
   "cell_type": "code",
   "execution_count": null,
   "id": "721ff514-cb11-46f8-b6fc-50392f74b5cb",
   "metadata": {
    "papermill": {
     "duration": 0.021996,
     "end_time": "2025-07-30T13:12:26.387726",
     "exception": false,
     "start_time": "2025-07-30T13:12:26.365730",
     "status": "completed"
    },
    "tags": []
   },
   "outputs": [],
   "source": []
  }
 ],
 "metadata": {
  "celltoolbar": "Tags",
  "kernelspec": {
   "display_name": "Python (CMA Fairness)",
   "language": "python",
   "name": "cma_fair_env"
  },
  "language_info": {
   "codemirror_mode": {
    "name": "ipython",
    "version": 3
   },
   "file_extension": ".py",
   "mimetype": "text/x-python",
   "name": "python",
   "nbconvert_exporter": "python",
   "pygments_lexer": "ipython3",
   "version": "3.10.12"
  },
  "papermill": {
   "default_parameters": {},
   "duration": 43.856963,
   "end_time": "2025-07-30T13:12:27.231083",
   "environment_variables": {},
   "exception": null,
   "input_path": "universe_analysis.ipynb",
   "output_path": "output/runs/12/notebooks/m_12-20e57837f720fe4eb6e114356cb0fe91.ipynb",
   "parameters": {
    "output_dir": "output",
    "run_no": "12",
    "seed": "2023",
    "universe": "{\"cutoff\": [\"quantile_0.1\", \"quantile_0.25\"], \"eval_fairness_grouping\": [\"majority-minority\", \"nationality-all\"], \"exclude_features\": \"sex\", \"exclude_subgroups\": \"keep-all\", \"model\": \"logreg\", \"scale\": \"do-not-scale\", \"training_size\": \"25k\", \"training_year\": \"2012_14\"}",
    "universe_id": "20e57837f720fe4eb6e114356cb0fe91"
   },
   "start_time": "2025-07-30T13:11:43.374120",
   "version": "2.6.0"
  }
 },
 "nbformat": 4,
 "nbformat_minor": 5
}