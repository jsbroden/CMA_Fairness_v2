{
 "cells": [
  {
   "cell_type": "code",
   "execution_count": 1,
   "id": "f159f837-637b-42ba-96b5-ec9a68c44524",
   "metadata": {
    "execution": {
     "iopub.execute_input": "2025-07-30T13:57:55.205992Z",
     "iopub.status.busy": "2025-07-30T13:57:55.205527Z",
     "iopub.status.idle": "2025-07-30T13:57:55.216504Z",
     "shell.execute_reply": "2025-07-30T13:57:55.215790Z"
    },
    "papermill": {
     "duration": 0.037962,
     "end_time": "2025-07-30T13:57:55.222851",
     "exception": false,
     "start_time": "2025-07-30T13:57:55.184889",
     "status": "completed"
    },
    "tags": []
   },
   "outputs": [
    {
     "name": "stdout",
     "output_type": "stream",
     "text": [
      "/dss/dsshome1/0C/ra93lal2/cma/CMA_Fairness_v2\n"
     ]
    },
    {
     "name": "stderr",
     "output_type": "stream",
     "text": [
      "/dss/dsshome1/0C/ra93lal2/.local/share/virtualenvs/CMA_Fairness_v2-3j10GkSs/lib/python3.10/site-packages/IPython/core/magics/osm.py:393: UserWarning: This is now an optional IPython functionality, using bookmarks requires you to install the `pickleshare` library.\n",
      "  bkms = self.shell.db.get('bookmarks', {})\n",
      "/dss/dsshome1/0C/ra93lal2/.local/share/virtualenvs/CMA_Fairness_v2-3j10GkSs/lib/python3.10/site-packages/IPython/core/magics/osm.py:417: UserWarning: This is now an optional IPython functionality, setting dhist requires you to install the `pickleshare` library.\n",
      "  self.shell.db['dhist'] = compress_dhist(dhist)[-100:]\n"
     ]
    }
   ],
   "source": [
    "%cd ~/cma/CMA_Fairness_v2"
   ]
  },
  {
   "cell_type": "markdown",
   "id": "de2603b9",
   "metadata": {
    "papermill": {
     "duration": 0.010079,
     "end_time": "2025-07-30T13:57:55.246827",
     "exception": false,
     "start_time": "2025-07-30T13:57:55.236748",
     "status": "completed"
    },
    "tags": []
   },
   "source": [
    "The following cell holds the definition of our parameters, these values can be overriden by rendering the with e.g. the following command:\n",
    "\n",
    "papermill -p alpha 0.2 -p ratio 0.3 universe_analysis.ipynb output/test_run.ipynb"
   ]
  },
  {
   "cell_type": "code",
   "execution_count": 2,
   "id": "a80968a0-40bb-4fa9-85ef-2d5eefb01975",
   "metadata": {
    "execution": {
     "iopub.execute_input": "2025-07-30T13:57:55.268497Z",
     "iopub.status.busy": "2025-07-30T13:57:55.268135Z",
     "iopub.status.idle": "2025-07-30T13:57:55.273476Z",
     "shell.execute_reply": "2025-07-30T13:57:55.272517Z"
    },
    "papermill": {
     "duration": 0.018176,
     "end_time": "2025-07-30T13:57:55.275008",
     "exception": false,
     "start_time": "2025-07-30T13:57:55.256832",
     "status": "completed"
    },
    "tags": []
   },
   "outputs": [
    {
     "name": "stdout",
     "output_type": "stream",
     "text": [
      "Current working directory: /dss/dsshome1/0C/ra93lal2/cma/CMA_Fairness_v2\n"
     ]
    }
   ],
   "source": [
    "import os\n",
    "print(\"Current working directory:\", os.getcwd())"
   ]
  },
  {
   "cell_type": "code",
   "execution_count": 3,
   "id": "2dce4c03",
   "metadata": {
    "execution": {
     "iopub.execute_input": "2025-07-30T13:57:55.327484Z",
     "iopub.status.busy": "2025-07-30T13:57:55.326925Z",
     "iopub.status.idle": "2025-07-30T13:57:55.334255Z",
     "shell.execute_reply": "2025-07-30T13:57:55.333043Z"
    },
    "papermill": {
     "duration": 0.040685,
     "end_time": "2025-07-30T13:57:55.336399",
     "exception": false,
     "start_time": "2025-07-30T13:57:55.295714",
     "status": "completed"
    },
    "tags": [
     "parameters"
    ]
   },
   "outputs": [],
   "source": [
    "run_no = 0\n",
    "universe_id = \"test\"\n",
    "universe = {\n",
    "    \"training_size\": \"25k\", # \"25k\", \"5k\", \"1k\"\n",
    "    \"training_year\": \"2014\", # \"2014\", \"2012_14\", \"2010_14\"\n",
    "    \"scale\": \"scale\", # \"scale\", \"do-not-scale\",\n",
    "    #\"stratify_split\": \"target\", # \"none\", \"target\", \"protected-attribute\", \"both\",\n",
    "    \"model\": \"elasticnet\", # \"logreg\", \"penalized_logreg\", \"rf\", \"gbm\", \"elasticnet\"\n",
    "    \"cutoff\": [\"quantile_0.15\", \"quantile_0.30\"],\n",
    "    \"exclude_features\": \"age\", # \"none\", \"nationality\", \"sex\", \"nationality-sex\", \"age\"\n",
    "    \"exclude_subgroups\": \"keep-all\", # \"keep-all\", \"drop-non-german\"\n",
    "    \"eval_fairness_grouping\": [\"majority-minority\", \"nationality-all\"]\n",
    "}\n",
    "\n",
    "output_dir=\"./output\"\n",
    "seed=0"
   ]
  },
  {
   "cell_type": "code",
   "execution_count": 4,
   "id": "d1fe1b1b",
   "metadata": {
    "execution": {
     "iopub.execute_input": "2025-07-30T13:57:55.380920Z",
     "iopub.status.busy": "2025-07-30T13:57:55.380096Z",
     "iopub.status.idle": "2025-07-30T13:57:55.385048Z",
     "shell.execute_reply": "2025-07-30T13:57:55.383826Z"
    },
    "papermill": {
     "duration": 0.029331,
     "end_time": "2025-07-30T13:57:55.386567",
     "exception": false,
     "start_time": "2025-07-30T13:57:55.357236",
     "status": "completed"
    },
    "tags": [
     "injected-parameters"
    ]
   },
   "outputs": [],
   "source": [
    "# Parameters\n",
    "universe_id = \"77ccf370906521224baaf2bf0c594bc7\"\n",
    "run_no = \"12\"\n",
    "universe = \"{\\\"cutoff\\\": [\\\"quantile_0.1\\\", \\\"quantile_0.25\\\"], \\\"eval_fairness_grouping\\\": [\\\"majority-minority\\\", \\\"nationality-all\\\"], \\\"exclude_features\\\": \\\"nationality\\\", \\\"exclude_subgroups\\\": \\\"keep-all\\\", \\\"model\\\": \\\"elasticnet\\\", \\\"scale\\\": \\\"scale\\\", \\\"training_size\\\": \\\"5k\\\", \\\"training_year\\\": \\\"2012_14\\\"}\"\n",
    "output_dir = \"output\"\n",
    "seed = \"2023\"\n"
   ]
  },
  {
   "cell_type": "code",
   "execution_count": 5,
   "id": "1650acaf",
   "metadata": {
    "execution": {
     "iopub.execute_input": "2025-07-30T13:57:55.410187Z",
     "iopub.status.busy": "2025-07-30T13:57:55.409803Z",
     "iopub.status.idle": "2025-07-30T13:57:55.414812Z",
     "shell.execute_reply": "2025-07-30T13:57:55.413905Z"
    },
    "papermill": {
     "duration": 0.01828,
     "end_time": "2025-07-30T13:57:55.416438",
     "exception": false,
     "start_time": "2025-07-30T13:57:55.398158",
     "status": "completed"
    },
    "tags": []
   },
   "outputs": [],
   "source": [
    "import json\n",
    "# Parse universe into dict if it is passed as a string\n",
    "if isinstance(universe, str):\n",
    "    universe = json.loads(universe)"
   ]
  },
  {
   "cell_type": "code",
   "execution_count": 6,
   "id": "16620c48",
   "metadata": {
    "execution": {
     "iopub.execute_input": "2025-07-30T13:57:55.463690Z",
     "iopub.status.busy": "2025-07-30T13:57:55.463225Z",
     "iopub.status.idle": "2025-07-30T13:57:55.507200Z",
     "shell.execute_reply": "2025-07-30T13:57:55.506301Z"
    },
    "papermill": {
     "duration": 0.068912,
     "end_time": "2025-07-30T13:57:55.509171",
     "exception": false,
     "start_time": "2025-07-30T13:57:55.440259",
     "status": "completed"
    },
    "tags": []
   },
   "outputs": [],
   "source": [
    "# Auto-reload the custom package\n",
    "%load_ext autoreload\n",
    "%autoreload 1\n",
    "%aimport fairness_multiverse"
   ]
  },
  {
   "cell_type": "code",
   "execution_count": 7,
   "id": "01c5c9f3",
   "metadata": {
    "execution": {
     "iopub.execute_input": "2025-07-30T13:57:55.554971Z",
     "iopub.status.busy": "2025-07-30T13:57:55.554304Z",
     "iopub.status.idle": "2025-07-30T13:57:57.495226Z",
     "shell.execute_reply": "2025-07-30T13:57:57.494458Z"
    },
    "papermill": {
     "duration": 1.965364,
     "end_time": "2025-07-30T13:57:57.496771",
     "exception": false,
     "start_time": "2025-07-30T13:57:55.531407",
     "status": "completed"
    },
    "tags": []
   },
   "outputs": [],
   "source": [
    "from fairness_multiverse.universe import UniverseAnalysis\n",
    "\n",
    "universe_analysis = UniverseAnalysis(\n",
    "    run_no = run_no,\n",
    "    universe_id = universe_id,\n",
    "    universe = universe,\n",
    "    output_dir=output_dir,\n",
    ")"
   ]
  },
  {
   "cell_type": "code",
   "execution_count": 8,
   "id": "106241f5",
   "metadata": {
    "execution": {
     "iopub.execute_input": "2025-07-30T13:57:57.531025Z",
     "iopub.status.busy": "2025-07-30T13:57:57.530633Z",
     "iopub.status.idle": "2025-07-30T13:57:57.537190Z",
     "shell.execute_reply": "2025-07-30T13:57:57.536010Z"
    },
    "papermill": {
     "duration": 0.031281,
     "end_time": "2025-07-30T13:57:57.539030",
     "exception": false,
     "start_time": "2025-07-30T13:57:57.507749",
     "status": "completed"
    },
    "tags": []
   },
   "outputs": [
    {
     "name": "stdout",
     "output_type": "stream",
     "text": [
      "Using Seed: 2023\n"
     ]
    }
   ],
   "source": [
    "import numpy as np\n",
    "parsed_seed = int(seed)\n",
    "np.random.seed(parsed_seed)\n",
    "print(f\"Using Seed: {parsed_seed}\")"
   ]
  },
  {
   "cell_type": "markdown",
   "id": "e0ebdc57",
   "metadata": {
    "papermill": {
     "duration": 0.021018,
     "end_time": "2025-07-30T13:57:57.581501",
     "exception": false,
     "start_time": "2025-07-30T13:57:57.560483",
     "status": "completed"
    },
    "tags": []
   },
   "source": [
    "# Loading Data"
   ]
  },
  {
   "cell_type": "markdown",
   "id": "681925a3",
   "metadata": {
    "papermill": {
     "duration": 0.02057,
     "end_time": "2025-07-30T13:57:57.622005",
     "exception": false,
     "start_time": "2025-07-30T13:57:57.601435",
     "status": "completed"
    },
    "tags": []
   },
   "source": [
    "Load siab_train, siab_test, siab_calib and/or \n",
    "load siab_train_features, siab_train_labels"
   ]
  },
  {
   "cell_type": "code",
   "execution_count": 9,
   "id": "f0496b8a",
   "metadata": {
    "execution": {
     "iopub.execute_input": "2025-07-30T13:57:57.663946Z",
     "iopub.status.busy": "2025-07-30T13:57:57.663471Z",
     "iopub.status.idle": "2025-07-30T13:58:09.227031Z",
     "shell.execute_reply": "2025-07-30T13:58:09.225762Z"
    },
    "papermill": {
     "duration": 11.586449,
     "end_time": "2025-07-30T13:58:09.228726",
     "exception": false,
     "start_time": "2025-07-30T13:57:57.642277",
     "status": "completed"
    },
    "tags": []
   },
   "outputs": [
    {
     "name": "stdout",
     "output_type": "stream",
     "text": [
      "Loading SIAB data from cache: data/siab_cached.csv.gz\n"
     ]
    },
    {
     "name": "stdout",
     "output_type": "stream",
     "text": [
      "(643690, 164)\n"
     ]
    }
   ],
   "source": [
    "from pathlib import Path\n",
    "import pandas as pd\n",
    "\n",
    "# File paths\n",
    "raw_file = Path(\"data/raw/siab.csv\")\n",
    "cache_file = Path(\"data/siab_cached.csv.gz\")\n",
    "\n",
    "# Ensure cache directory exists\n",
    "cache_file.parent.mkdir(parents=True, exist_ok=True)\n",
    "\n",
    "# Load with simple caching\n",
    "if cache_file.exists():\n",
    "    print(f\"Loading SIAB data from cache: {cache_file}\")\n",
    "    siab = pd.read_csv(cache_file, compression='gzip')\n",
    "else:\n",
    "    print(f\"Cache not found. Reading raw SIAB data: {raw_file}\")\n",
    "    siab = pd.read_csv(raw_file)\n",
    "    siab.to_csv(cache_file, index=False, compression='gzip')\n",
    "    print(f\"Cached SIAB data to: {cache_file}\")\n",
    "\n",
    "# Now use `siab` DataFrame as needed\n",
    "print(siab.shape)"
   ]
  },
  {
   "cell_type": "code",
   "execution_count": 10,
   "id": "db0ca512-5f53-4dba-abdb-a2888bca41ba",
   "metadata": {
    "execution": {
     "iopub.execute_input": "2025-07-30T13:58:09.291878Z",
     "iopub.status.busy": "2025-07-30T13:58:09.291045Z",
     "iopub.status.idle": "2025-07-30T13:58:09.297121Z",
     "shell.execute_reply": "2025-07-30T13:58:09.296160Z"
    },
    "papermill": {
     "duration": 0.031556,
     "end_time": "2025-07-30T13:58:09.298832",
     "exception": false,
     "start_time": "2025-07-30T13:58:09.267276",
     "status": "completed"
    },
    "tags": []
   },
   "outputs": [],
   "source": [
    "#siab"
   ]
  },
  {
   "cell_type": "code",
   "execution_count": 11,
   "id": "a0edb063",
   "metadata": {
    "execution": {
     "iopub.execute_input": "2025-07-30T13:58:09.342026Z",
     "iopub.status.busy": "2025-07-30T13:58:09.341525Z",
     "iopub.status.idle": "2025-07-30T13:58:09.346608Z",
     "shell.execute_reply": "2025-07-30T13:58:09.345689Z"
    },
    "papermill": {
     "duration": 0.029929,
     "end_time": "2025-07-30T13:58:09.348777",
     "exception": false,
     "start_time": "2025-07-30T13:58:09.318848",
     "status": "completed"
    },
    "tags": []
   },
   "outputs": [],
   "source": [
    "#import pandas as pd\n",
    "#\n",
    "#X_train = pd.read_csv(\"./data/X_train.csv\")\n",
    "#y_train = pd.read_csv(\"./data/y_train.csv\")"
   ]
  },
  {
   "cell_type": "code",
   "execution_count": 12,
   "id": "63d08085",
   "metadata": {
    "execution": {
     "iopub.execute_input": "2025-07-30T13:58:09.395936Z",
     "iopub.status.busy": "2025-07-30T13:58:09.395221Z",
     "iopub.status.idle": "2025-07-30T13:58:09.400897Z",
     "shell.execute_reply": "2025-07-30T13:58:09.399894Z"
    },
    "papermill": {
     "duration": 0.030876,
     "end_time": "2025-07-30T13:58:09.402625",
     "exception": false,
     "start_time": "2025-07-30T13:58:09.371749",
     "status": "completed"
    },
    "tags": []
   },
   "outputs": [],
   "source": [
    "#X_test = pd.read_csv(\"./data/X_test.csv\")\n",
    "#y_true = pd.read_csv(\"./data/y_test.csv\")"
   ]
  },
  {
   "cell_type": "code",
   "execution_count": 13,
   "id": "98a8d0fa-1d3d-4ed8-bb2c-281470e24add",
   "metadata": {
    "execution": {
     "iopub.execute_input": "2025-07-30T13:58:09.445758Z",
     "iopub.status.busy": "2025-07-30T13:58:09.445056Z",
     "iopub.status.idle": "2025-07-30T13:58:09.450552Z",
     "shell.execute_reply": "2025-07-30T13:58:09.449514Z"
    },
    "papermill": {
     "duration": 0.03105,
     "end_time": "2025-07-30T13:58:09.452476",
     "exception": false,
     "start_time": "2025-07-30T13:58:09.421426",
     "status": "completed"
    },
    "tags": []
   },
   "outputs": [],
   "source": [
    "# Calibration data for conformal\n",
    "#X_calib = pd.read_csv(\"./data/X_calib.csv\")\n",
    "#y_calib = pd.read_csv(\"./data/y_calib.csv\")"
   ]
  },
  {
   "cell_type": "markdown",
   "id": "997051c5-15bd-4b69-9786-c3001a3ce484",
   "metadata": {
    "papermill": {
     "duration": 0.020211,
     "end_time": "2025-07-30T13:58:09.494651",
     "exception": false,
     "start_time": "2025-07-30T13:58:09.474440",
     "status": "completed"
    },
    "tags": []
   },
   "source": [
    "# Splitting Data and Setting Training Data Size"
   ]
  },
  {
   "cell_type": "code",
   "execution_count": 14,
   "id": "e993b61f-042d-41a6-8c81-f55681f86335",
   "metadata": {
    "execution": {
     "iopub.execute_input": "2025-07-30T13:58:09.537809Z",
     "iopub.status.busy": "2025-07-30T13:58:09.536785Z",
     "iopub.status.idle": "2025-07-30T13:58:09.550991Z",
     "shell.execute_reply": "2025-07-30T13:58:09.549930Z"
    },
    "papermill": {
     "duration": 0.036834,
     "end_time": "2025-07-30T13:58:09.552837",
     "exception": false,
     "start_time": "2025-07-30T13:58:09.516003",
     "status": "completed"
    },
    "tags": []
   },
   "outputs": [],
   "source": [
    "def sample_by_year_size(df,\n",
    "                        training_year: str,\n",
    "                        training_size: str,\n",
    "                        random_state: int = 42):\n",
    "    # --- parse training_year into a list of int years ---\n",
    "    if \"_\" in training_year:\n",
    "        start_str, end_str = training_year.split(\"_\", 1)\n",
    "        start = int(start_str)\n",
    "        end   = int(end_str) if len(end_str) == 4 else (int(end_str) + (start // 100)*100)\n",
    "        years = list(range(start, end + 1))\n",
    "    else:\n",
    "        years = [int(training_year)]\n",
    "\n",
    "    df = df[df[\"year\"].isin(years)].reset_index(drop=True)\n",
    "\n",
    "    # --- map training_size to total number of samples ---\n",
    "    total_map = {\"25k\": 25_000, \"5k\": 5_000, \"1k\": 1_000}\n",
    "    if training_size not in total_map:\n",
    "        return df  # e.g. \"all\"\n",
    "\n",
    "    total_samples = total_map[training_size]\n",
    "    n_years       = len(years)\n",
    "    base          = total_samples // n_years\n",
    "    remainder     = total_samples % n_years\n",
    "\n",
    "    # --- build a dict: year -> how many to sample ---\n",
    "    # give +1 to the first `remainder` years in ascending order\n",
    "    quotas = {\n",
    "        year: base + (1 if idx < remainder else 0)\n",
    "        for idx, year in enumerate(sorted(years))\n",
    "    }\n",
    "\n",
    "    # --- sample per‐year according to the quota dict ---\n",
    "    sampled = (\n",
    "        df\n",
    "        .groupby(\"year\", group_keys=False)\n",
    "        .apply(lambda grp: grp.sample(\n",
    "            n=min(len(grp), quotas[grp.name]),\n",
    "            random_state=random_state))\n",
    "        .reset_index(drop=True)\n",
    "    )\n",
    "\n",
    "    return sampled"
   ]
  },
  {
   "cell_type": "code",
   "execution_count": 15,
   "id": "c0ccd338-0e02-41f3-a09d-f56f9266e3fb",
   "metadata": {
    "execution": {
     "iopub.execute_input": "2025-07-30T13:58:09.602418Z",
     "iopub.status.busy": "2025-07-30T13:58:09.600812Z",
     "iopub.status.idle": "2025-07-30T13:58:09.613439Z",
     "shell.execute_reply": "2025-07-30T13:58:09.612497Z"
    },
    "papermill": {
     "duration": 0.038159,
     "end_time": "2025-07-30T13:58:09.615014",
     "exception": false,
     "start_time": "2025-07-30T13:58:09.576855",
     "status": "completed"
    },
    "tags": []
   },
   "outputs": [
    {
     "data": {
      "text/plain": [
       "'5k'"
      ]
     },
     "execution_count": 15,
     "metadata": {},
     "output_type": "execute_result"
    }
   ],
   "source": [
    "universe[\"training_size\"]"
   ]
  },
  {
   "cell_type": "code",
   "execution_count": 16,
   "id": "ca707fd7-8047-4acd-bfa5-66248fbbf8e6",
   "metadata": {
    "execution": {
     "iopub.execute_input": "2025-07-30T13:58:09.660949Z",
     "iopub.status.busy": "2025-07-30T13:58:09.660530Z",
     "iopub.status.idle": "2025-07-30T13:58:09.667583Z",
     "shell.execute_reply": "2025-07-30T13:58:09.666649Z"
    },
    "papermill": {
     "duration": 0.030576,
     "end_time": "2025-07-30T13:58:09.669327",
     "exception": false,
     "start_time": "2025-07-30T13:58:09.638751",
     "status": "completed"
    },
    "tags": []
   },
   "outputs": [
    {
     "data": {
      "text/plain": [
       "'2012_14'"
      ]
     },
     "execution_count": 16,
     "metadata": {},
     "output_type": "execute_result"
    }
   ],
   "source": [
    "universe[\"training_year\"]"
   ]
  },
  {
   "cell_type": "code",
   "execution_count": 17,
   "id": "aea9c6ef-6f46-42c8-85eb-5a62025c1508",
   "metadata": {
    "execution": {
     "iopub.execute_input": "2025-07-30T13:58:09.717352Z",
     "iopub.status.busy": "2025-07-30T13:58:09.716219Z",
     "iopub.status.idle": "2025-07-30T13:58:10.315260Z",
     "shell.execute_reply": "2025-07-30T13:58:10.314395Z"
    },
    "papermill": {
     "duration": 0.62395,
     "end_time": "2025-07-30T13:58:10.317038",
     "exception": false,
     "start_time": "2025-07-30T13:58:09.693088",
     "status": "completed"
    },
    "tags": []
   },
   "outputs": [],
   "source": [
    "siab_train = sample_by_year_size(siab,\n",
    "                               training_year=universe[\"training_year\"],\n",
    "                               training_size=universe[\"training_size\"])"
   ]
  },
  {
   "cell_type": "code",
   "execution_count": 18,
   "id": "8d3afb32-789d-442c-8d5d-9f5aa8dd2eed",
   "metadata": {
    "execution": {
     "iopub.execute_input": "2025-07-30T13:58:10.359098Z",
     "iopub.status.busy": "2025-07-30T13:58:10.358611Z",
     "iopub.status.idle": "2025-07-30T13:58:10.367852Z",
     "shell.execute_reply": "2025-07-30T13:58:10.366914Z"
    },
    "papermill": {
     "duration": 0.032351,
     "end_time": "2025-07-30T13:58:10.369539",
     "exception": false,
     "start_time": "2025-07-30T13:58:10.337188",
     "status": "completed"
    },
    "tags": []
   },
   "outputs": [
    {
     "data": {
      "text/plain": [
       "(5000, 164)"
      ]
     },
     "execution_count": 18,
     "metadata": {},
     "output_type": "execute_result"
    }
   ],
   "source": [
    "siab_train.shape"
   ]
  },
  {
   "cell_type": "code",
   "execution_count": 19,
   "id": "d582db68-1a4c-47fb-84fc-08518dc1975a",
   "metadata": {
    "execution": {
     "iopub.execute_input": "2025-07-30T13:58:10.410219Z",
     "iopub.status.busy": "2025-07-30T13:58:10.409797Z",
     "iopub.status.idle": "2025-07-30T13:58:10.418898Z",
     "shell.execute_reply": "2025-07-30T13:58:10.418068Z"
    },
    "papermill": {
     "duration": 0.031435,
     "end_time": "2025-07-30T13:58:10.421116",
     "exception": false,
     "start_time": "2025-07-30T13:58:10.389681",
     "status": "completed"
    },
    "tags": []
   },
   "outputs": [
    {
     "data": {
      "text/plain": [
       "year\n",
       "2012    1667\n",
       "2013    1667\n",
       "2014    1666\n",
       "dtype: int64"
      ]
     },
     "metadata": {},
     "output_type": "display_data"
    }
   ],
   "source": [
    "display(siab_train.groupby(\"year\").size())"
   ]
  },
  {
   "cell_type": "code",
   "execution_count": 20,
   "id": "a561edb4-d032-42cb-8256-22eac1111c64",
   "metadata": {
    "execution": {
     "iopub.execute_input": "2025-07-30T13:58:10.449937Z",
     "iopub.status.busy": "2025-07-30T13:58:10.449646Z",
     "iopub.status.idle": "2025-07-30T13:58:10.652956Z",
     "shell.execute_reply": "2025-07-30T13:58:10.652242Z"
    },
    "papermill": {
     "duration": 0.216426,
     "end_time": "2025-07-30T13:58:10.654347",
     "exception": false,
     "start_time": "2025-07-30T13:58:10.437921",
     "status": "completed"
    },
    "tags": []
   },
   "outputs": [],
   "source": [
    "#siab_train = siab_s[siab_s.year < 2015]\n",
    "siab_calib = siab[siab.year == 2015]\n",
    "siab_test = siab[siab.year == 2016]"
   ]
  },
  {
   "cell_type": "code",
   "execution_count": 21,
   "id": "472de16f-c3db-4916-846b-1f0de9cf1746",
   "metadata": {
    "execution": {
     "iopub.execute_input": "2025-07-30T13:58:10.677664Z",
     "iopub.status.busy": "2025-07-30T13:58:10.677284Z",
     "iopub.status.idle": "2025-07-30T13:58:10.684015Z",
     "shell.execute_reply": "2025-07-30T13:58:10.683312Z"
    },
    "papermill": {
     "duration": 0.019336,
     "end_time": "2025-07-30T13:58:10.685310",
     "exception": false,
     "start_time": "2025-07-30T13:58:10.665974",
     "status": "completed"
    },
    "tags": []
   },
   "outputs": [],
   "source": [
    "X_train = siab_train.iloc[:,4:164]\n",
    "y_train = siab_train.iloc[:, [3]]"
   ]
  },
  {
   "cell_type": "code",
   "execution_count": 22,
   "id": "828c96af-f43a-4ed6-ba47-8ac73a47d56c",
   "metadata": {
    "execution": {
     "iopub.execute_input": "2025-07-30T13:58:10.709131Z",
     "iopub.status.busy": "2025-07-30T13:58:10.708645Z",
     "iopub.status.idle": "2025-07-30T13:58:10.756899Z",
     "shell.execute_reply": "2025-07-30T13:58:10.756024Z"
    },
    "papermill": {
     "duration": 0.061689,
     "end_time": "2025-07-30T13:58:10.758864",
     "exception": false,
     "start_time": "2025-07-30T13:58:10.697175",
     "status": "completed"
    },
    "tags": []
   },
   "outputs": [],
   "source": [
    "X_calib = siab_calib.iloc[:,4:164]\n",
    "y_calib = siab_calib.iloc[:, [3]]"
   ]
  },
  {
   "cell_type": "code",
   "execution_count": 23,
   "id": "c34be9c3-6bd6-476e-acd3-845840e303be",
   "metadata": {
    "execution": {
     "iopub.execute_input": "2025-07-30T13:58:10.789788Z",
     "iopub.status.busy": "2025-07-30T13:58:10.789382Z",
     "iopub.status.idle": "2025-07-30T13:58:10.840348Z",
     "shell.execute_reply": "2025-07-30T13:58:10.839202Z"
    },
    "papermill": {
     "duration": 0.07089,
     "end_time": "2025-07-30T13:58:10.841992",
     "exception": false,
     "start_time": "2025-07-30T13:58:10.771102",
     "status": "completed"
    },
    "tags": []
   },
   "outputs": [],
   "source": [
    "X_test = siab_test.iloc[:,4:164]\n",
    "y_true = siab_test.iloc[:, [3]]"
   ]
  },
  {
   "cell_type": "markdown",
   "id": "9901737e-04df-44f0-9100-f5ad144ed040",
   "metadata": {
    "papermill": {
     "duration": 0.032797,
     "end_time": "2025-07-30T13:58:10.896639",
     "exception": false,
     "start_time": "2025-07-30T13:58:10.863842",
     "status": "completed"
    },
    "tags": []
   },
   "source": [
    "# Splitting Data and Setting Training Data Size OLD VERSION"
   ]
  },
  {
   "cell_type": "code",
   "execution_count": 24,
   "id": "acbc8f7d-8fc8-4e86-8c59-5dcb0f58384b",
   "metadata": {
    "execution": {
     "iopub.execute_input": "2025-07-30T13:58:10.919776Z",
     "iopub.status.busy": "2025-07-30T13:58:10.919359Z",
     "iopub.status.idle": "2025-07-30T13:58:10.924720Z",
     "shell.execute_reply": "2025-07-30T13:58:10.923771Z"
    },
    "papermill": {
     "duration": 0.018625,
     "end_time": "2025-07-30T13:58:10.926318",
     "exception": false,
     "start_time": "2025-07-30T13:58:10.907693",
     "status": "completed"
    },
    "tags": []
   },
   "outputs": [],
   "source": [
    "#def sample_by_year(df, training_size, random_state=42):\n",
    "#    if training_size == \"2014\":\n",
    "#        return df[df[\"year\"] == 2014].reset_index(drop=True)\n",
    "#    \n",
    "#    size_map = {\n",
    "#        \"25k\": 5000,\n",
    "#        \"5k\": 1000,\n",
    "#        \"1k\": 200\n",
    "#    }\n",
    "#\n",
    "#    if training_size not in size_map:\n",
    "#        return df.reset_index(drop=True)  # use all data\n",
    "#\n",
    "#    n_per_year = size_map[training_size]\n",
    "#    grouped = df.groupby(\"year\")\n",
    "#    sampled = grouped.apply(lambda x: x.sample(n=min(n_per_year, len(x)), random_state=random_state))\n",
    "#    return sampled.reset_index(drop=True)"
   ]
  },
  {
   "cell_type": "code",
   "execution_count": 25,
   "id": "6d931f52-beaf-43ff-9e78-9d44a448d54e",
   "metadata": {
    "execution": {
     "iopub.execute_input": "2025-07-30T13:58:10.971434Z",
     "iopub.status.busy": "2025-07-30T13:58:10.970930Z",
     "iopub.status.idle": "2025-07-30T13:58:10.976692Z",
     "shell.execute_reply": "2025-07-30T13:58:10.975684Z"
    },
    "papermill": {
     "duration": 0.029676,
     "end_time": "2025-07-30T13:58:10.978234",
     "exception": false,
     "start_time": "2025-07-30T13:58:10.948558",
     "status": "completed"
    },
    "tags": []
   },
   "outputs": [],
   "source": [
    "#siab_s = sample_by_year(siab, universe[\"training_size\"])"
   ]
  },
  {
   "cell_type": "code",
   "execution_count": 26,
   "id": "5db0a40e-a4e2-4920-be85-b12ae061d70d",
   "metadata": {
    "execution": {
     "iopub.execute_input": "2025-07-30T13:58:11.022369Z",
     "iopub.status.busy": "2025-07-30T13:58:11.021951Z",
     "iopub.status.idle": "2025-07-30T13:58:11.026736Z",
     "shell.execute_reply": "2025-07-30T13:58:11.025679Z"
    },
    "papermill": {
     "duration": 0.028563,
     "end_time": "2025-07-30T13:58:11.028624",
     "exception": false,
     "start_time": "2025-07-30T13:58:11.000061",
     "status": "completed"
    },
    "tags": []
   },
   "outputs": [],
   "source": [
    "#display(siab_s.groupby(\"year\").size())"
   ]
  },
  {
   "cell_type": "code",
   "execution_count": 27,
   "id": "e6c733c5",
   "metadata": {
    "execution": {
     "iopub.execute_input": "2025-07-30T13:58:11.079923Z",
     "iopub.status.busy": "2025-07-30T13:58:11.079270Z",
     "iopub.status.idle": "2025-07-30T13:58:11.179212Z",
     "shell.execute_reply": "2025-07-30T13:58:11.178283Z"
    },
    "papermill": {
     "duration": 0.127157,
     "end_time": "2025-07-30T13:58:11.181239",
     "exception": false,
     "start_time": "2025-07-30T13:58:11.054082",
     "status": "completed"
    },
    "tags": []
   },
   "outputs": [],
   "source": [
    "# Auxiliary data needed downstream in the pipeline\n",
    "\n",
    "org_train = X_train.copy()\n",
    "org_test = X_test.copy()\n",
    "org_calib = X_calib.copy()"
   ]
  },
  {
   "cell_type": "code",
   "execution_count": 28,
   "id": "1466abac-c6da-4492-a62f-4240ae3783af",
   "metadata": {
    "execution": {
     "iopub.execute_input": "2025-07-30T13:58:11.231371Z",
     "iopub.status.busy": "2025-07-30T13:58:11.230726Z",
     "iopub.status.idle": "2025-07-30T13:58:11.236432Z",
     "shell.execute_reply": "2025-07-30T13:58:11.235438Z"
    },
    "papermill": {
     "duration": 0.032954,
     "end_time": "2025-07-30T13:58:11.238278",
     "exception": false,
     "start_time": "2025-07-30T13:58:11.205324",
     "status": "completed"
    },
    "tags": []
   },
   "outputs": [],
   "source": [
    "# put in other script?\n",
    "# Group sizes\n",
    "\n",
    "#def calculate_percentages(df, df_name):\n",
    "#    total_entries = len(df)\n",
    "#\n",
    "#    female_pct = (df['frau1'] == 1).mean() * 100\n",
    "#    non_german_pct = ((df['maxdeutsch1'] == 0) & (df['maxdeutsch.Missing.'] == 0)).mean() * 100\n",
    "#    non_german_male_pct = ((df['frau1'] == 0) & (df['maxdeutsch1'] == 0) & (df['maxdeutsch.Missing.'] == 0)).mean() * 100\n",
    "#    non_german_female_pct = ((df['frau1'] == 1) & (df['maxdeutsch1'] == 0) & (df['maxdeutsch.Missing.'] == 0)).mean() * 100\n",
    "#\n",
    "#    print(f\"--- {df_name} ---\")\n",
    "#    print(f\"Female: {female_pct:.2f}%\")\n",
    "#    print(f\"Non-German: {non_german_pct:.2f}%\")\n",
    "#    print(f\"Non-German Male: {non_german_male_pct:.2f}%\")\n",
    "#    print(f\"Non-German Female: {non_german_female_pct:.2f}%\\n\")\n",
    "#\n",
    "## Calculate for each DataFrame\n",
    "#calculate_percentages(siab_calib, \"siab_calib\")\n",
    "#calculate_percentages(siab_test, \"siab_test\")\n",
    "#calculate_percentages(siab_train, \"siab_train\")"
   ]
  },
  {
   "cell_type": "markdown",
   "id": "0a4a1b33",
   "metadata": {
    "papermill": {
     "duration": 0.024026,
     "end_time": "2025-07-30T13:58:11.287281",
     "exception": false,
     "start_time": "2025-07-30T13:58:11.263255",
     "status": "completed"
    },
    "tags": []
   },
   "source": [
    "# Preprocessing Data"
   ]
  },
  {
   "cell_type": "code",
   "execution_count": 29,
   "id": "ca879031",
   "metadata": {
    "execution": {
     "iopub.execute_input": "2025-07-30T13:58:11.337821Z",
     "iopub.status.busy": "2025-07-30T13:58:11.337125Z",
     "iopub.status.idle": "2025-07-30T13:58:11.344065Z",
     "shell.execute_reply": "2025-07-30T13:58:11.342908Z"
    },
    "papermill": {
     "duration": 0.034327,
     "end_time": "2025-07-30T13:58:11.345821",
     "exception": false,
     "start_time": "2025-07-30T13:58:11.311494",
     "status": "completed"
    },
    "tags": []
   },
   "outputs": [],
   "source": [
    "# EXCLUDE PROTECTED FEATURES\n",
    "# ----------------------\n",
    "# \"exclude_features\": \"none\", # \"nationality\", \"sex\", \"nationality-sex\"\n",
    "\n",
    "excluded_features = universe[\"exclude_features\"].split(\"-\") # split, e.g.: \"nationality-sex\" -> [\"nationality\", \"sex\"]\n",
    "excluded_features_dictionary = {\n",
    "    \"nationality\": [\"maxdeutsch1\", \"maxdeutsch.Missing.\"],\n",
    "    \"sex\": [\"frau1\"],\n",
    "    \"age\": [\"age\"],\n",
    "}\n"
   ]
  },
  {
   "cell_type": "code",
   "execution_count": 30,
   "id": "b745ac60",
   "metadata": {
    "execution": {
     "iopub.execute_input": "2025-07-30T13:58:11.397069Z",
     "iopub.status.busy": "2025-07-30T13:58:11.396297Z",
     "iopub.status.idle": "2025-07-30T13:58:11.402545Z",
     "shell.execute_reply": "2025-07-30T13:58:11.401331Z"
    },
    "papermill": {
     "duration": 0.033608,
     "end_time": "2025-07-30T13:58:11.404438",
     "exception": false,
     "start_time": "2025-07-30T13:58:11.370830",
     "status": "completed"
    },
    "tags": []
   },
   "outputs": [],
   "source": [
    "# Code nice names to column names\n",
    "\n",
    "excluded_features_columns = [\n",
    "    excluded_features_dictionary[f] for f in excluded_features if len(f) > 0 and f != \"none\"\n",
    "]"
   ]
  },
  {
   "cell_type": "code",
   "execution_count": 31,
   "id": "f84f73a2",
   "metadata": {
    "execution": {
     "iopub.execute_input": "2025-07-30T13:58:11.456615Z",
     "iopub.status.busy": "2025-07-30T13:58:11.455871Z",
     "iopub.status.idle": "2025-07-30T13:58:11.463333Z",
     "shell.execute_reply": "2025-07-30T13:58:11.462419Z"
    },
    "papermill": {
     "duration": 0.035271,
     "end_time": "2025-07-30T13:58:11.465180",
     "exception": false,
     "start_time": "2025-07-30T13:58:11.429909",
     "status": "completed"
    },
    "tags": []
   },
   "outputs": [],
   "source": [
    "from utils import flatten_once\n",
    "\n",
    "excluded_features_columns = flatten_once(excluded_features_columns)"
   ]
  },
  {
   "cell_type": "code",
   "execution_count": 32,
   "id": "884dea22",
   "metadata": {
    "execution": {
     "iopub.execute_input": "2025-07-30T13:58:11.516274Z",
     "iopub.status.busy": "2025-07-30T13:58:11.515604Z",
     "iopub.status.idle": "2025-07-30T13:58:11.525014Z",
     "shell.execute_reply": "2025-07-30T13:58:11.524066Z"
    },
    "papermill": {
     "duration": 0.036885,
     "end_time": "2025-07-30T13:58:11.526891",
     "exception": false,
     "start_time": "2025-07-30T13:58:11.490006",
     "status": "completed"
    },
    "tags": []
   },
   "outputs": [
    {
     "name": "stdout",
     "output_type": "stream",
     "text": [
      "Dropping features: ['maxdeutsch1', 'maxdeutsch.Missing.']\n"
     ]
    }
   ],
   "source": [
    "if len(excluded_features_columns) > 0:\n",
    "    print(f\"Dropping features: {excluded_features_columns}\")\n",
    "    X_train.drop(excluded_features_columns, axis=1, inplace=True)"
   ]
  },
  {
   "cell_type": "code",
   "execution_count": 33,
   "id": "95ab8b16",
   "metadata": {
    "execution": {
     "iopub.execute_input": "2025-07-30T13:58:11.577467Z",
     "iopub.status.busy": "2025-07-30T13:58:11.576810Z",
     "iopub.status.idle": "2025-07-30T13:58:11.635306Z",
     "shell.execute_reply": "2025-07-30T13:58:11.634008Z"
    },
    "papermill": {
     "duration": 0.085045,
     "end_time": "2025-07-30T13:58:11.637373",
     "exception": false,
     "start_time": "2025-07-30T13:58:11.552328",
     "status": "completed"
    },
    "tags": []
   },
   "outputs": [
    {
     "name": "stdout",
     "output_type": "stream",
     "text": [
      "Dropping features: ['maxdeutsch1', 'maxdeutsch.Missing.']\n"
     ]
    }
   ],
   "source": [
    "if len(excluded_features_columns) > 0:\n",
    "    print(f\"Dropping features: {excluded_features_columns}\")\n",
    "    X_test.drop(excluded_features_columns, axis=1, inplace=True)"
   ]
  },
  {
   "cell_type": "code",
   "execution_count": 34,
   "id": "1853aaf5-fb9f-46cb-a2b5-8ea4ae2237e4",
   "metadata": {
    "execution": {
     "iopub.execute_input": "2025-07-30T13:58:11.683120Z",
     "iopub.status.busy": "2025-07-30T13:58:11.682002Z",
     "iopub.status.idle": "2025-07-30T13:58:11.733744Z",
     "shell.execute_reply": "2025-07-30T13:58:11.732401Z"
    },
    "papermill": {
     "duration": 0.076289,
     "end_time": "2025-07-30T13:58:11.735510",
     "exception": false,
     "start_time": "2025-07-30T13:58:11.659221",
     "status": "completed"
    },
    "tags": []
   },
   "outputs": [
    {
     "name": "stdout",
     "output_type": "stream",
     "text": [
      "Dropping features: ['maxdeutsch1', 'maxdeutsch.Missing.']\n"
     ]
    }
   ],
   "source": [
    "if len(excluded_features_columns) > 0:\n",
    "    print(f\"Dropping features: {excluded_features_columns}\")\n",
    "    X_calib.drop(excluded_features_columns, axis=1, inplace=True)"
   ]
  },
  {
   "cell_type": "code",
   "execution_count": 35,
   "id": "6727d079-03e5-481e-9d38-292a90b7a0a8",
   "metadata": {
    "execution": {
     "iopub.execute_input": "2025-07-30T13:58:11.783160Z",
     "iopub.status.busy": "2025-07-30T13:58:11.782517Z",
     "iopub.status.idle": "2025-07-30T13:58:11.787353Z",
     "shell.execute_reply": "2025-07-30T13:58:11.786378Z"
    },
    "papermill": {
     "duration": 0.029788,
     "end_time": "2025-07-30T13:58:11.788902",
     "exception": false,
     "start_time": "2025-07-30T13:58:11.759114",
     "status": "completed"
    },
    "tags": []
   },
   "outputs": [],
   "source": [
    "# SPLIT & STRATIFY DATA\n",
    "# ----------------------"
   ]
  },
  {
   "cell_type": "code",
   "execution_count": 36,
   "id": "76c4dc6d",
   "metadata": {
    "execution": {
     "iopub.execute_input": "2025-07-30T13:58:11.838140Z",
     "iopub.status.busy": "2025-07-30T13:58:11.837159Z",
     "iopub.status.idle": "2025-07-30T13:58:11.842976Z",
     "shell.execute_reply": "2025-07-30T13:58:11.841973Z"
    },
    "papermill": {
     "duration": 0.031582,
     "end_time": "2025-07-30T13:58:11.844673",
     "exception": false,
     "start_time": "2025-07-30T13:58:11.813091",
     "status": "completed"
    },
    "tags": []
   },
   "outputs": [],
   "source": [
    "# EXCLUDE CERTAIN SUBGROUPS\n",
    "# ----------------------\n",
    "\n",
    "mode = universe.get(\"exclude_subgroups\", \"keep-all\") \n",
    "# Fetches the exclude_subgroups setting from the universe dict.\n",
    "# Defaults to \"keep-all\" if the key is missing."
   ]
  },
  {
   "cell_type": "code",
   "execution_count": 37,
   "id": "21994072",
   "metadata": {
    "execution": {
     "iopub.execute_input": "2025-07-30T13:58:11.891736Z",
     "iopub.status.busy": "2025-07-30T13:58:11.890891Z",
     "iopub.status.idle": "2025-07-30T13:58:11.897793Z",
     "shell.execute_reply": "2025-07-30T13:58:11.896941Z"
    },
    "papermill": {
     "duration": 0.032612,
     "end_time": "2025-07-30T13:58:11.899316",
     "exception": false,
     "start_time": "2025-07-30T13:58:11.866704",
     "status": "completed"
    },
    "tags": []
   },
   "outputs": [],
   "source": [
    "if mode == \"keep-all\":\n",
    "    keep_mask = pd.Series(True, index=org_train.index)\n",
    "\n",
    "# org_train contains the original feature columns from features_org (in Simson)\n",
    "# features_org contains unprocessed features, for me X_train at beginning ???\n",
    "# For keep-all, creates a boolean Series (keep_mask) of all True, so no rows are removed.\n",
    "\n",
    "elif mode == \"drop-non-german\":\n",
    "    keep_mask = org_train[\"maxdeutsch1\"] == 1 # ??? what about missing values?\n",
    "\n",
    "else:\n",
    "    raise ValueError(f\"Unsupported mode for exclude_subgroups: {mode}\")\n"
   ]
  },
  {
   "cell_type": "code",
   "execution_count": 38,
   "id": "71651440",
   "metadata": {
    "execution": {
     "iopub.execute_input": "2025-07-30T13:58:11.945252Z",
     "iopub.status.busy": "2025-07-30T13:58:11.944408Z",
     "iopub.status.idle": "2025-07-30T13:58:11.952684Z",
     "shell.execute_reply": "2025-07-30T13:58:11.951798Z"
    },
    "papermill": {
     "duration": 0.032433,
     "end_time": "2025-07-30T13:58:11.954289",
     "exception": false,
     "start_time": "2025-07-30T13:58:11.921856",
     "status": "completed"
    },
    "tags": []
   },
   "outputs": [],
   "source": [
    "n_drop = (~keep_mask).sum() # Calculates how many rows are set to be dropped\n",
    "if n_drop > 0:\n",
    "    pct = n_drop / len(keep_mask) * 100\n",
    "    print(f\"Dropping {n_drop} rows ({pct:.2f}%) where mode='{mode}'\")"
   ]
  },
  {
   "cell_type": "code",
   "execution_count": 39,
   "id": "5fb8eee5",
   "metadata": {
    "execution": {
     "iopub.execute_input": "2025-07-30T13:58:12.001188Z",
     "iopub.status.busy": "2025-07-30T13:58:12.000808Z",
     "iopub.status.idle": "2025-07-30T13:58:12.011146Z",
     "shell.execute_reply": "2025-07-30T13:58:12.009760Z"
    },
    "papermill": {
     "duration": 0.035539,
     "end_time": "2025-07-30T13:58:12.012898",
     "exception": false,
     "start_time": "2025-07-30T13:58:11.977359",
     "status": "completed"
    },
    "tags": []
   },
   "outputs": [],
   "source": [
    "X_train = X_train[keep_mask]"
   ]
  },
  {
   "cell_type": "code",
   "execution_count": 40,
   "id": "b202bb3a",
   "metadata": {
    "execution": {
     "iopub.execute_input": "2025-07-30T13:58:12.059776Z",
     "iopub.status.busy": "2025-07-30T13:58:12.059127Z",
     "iopub.status.idle": "2025-07-30T13:58:12.065890Z",
     "shell.execute_reply": "2025-07-30T13:58:12.064020Z"
    },
    "papermill": {
     "duration": 0.031475,
     "end_time": "2025-07-30T13:58:12.067404",
     "exception": false,
     "start_time": "2025-07-30T13:58:12.035929",
     "status": "completed"
    },
    "tags": []
   },
   "outputs": [],
   "source": [
    "y_train = y_train[keep_mask]"
   ]
  },
  {
   "cell_type": "markdown",
   "id": "493e2ac3",
   "metadata": {
    "papermill": {
     "duration": 0.021647,
     "end_time": "2025-07-30T13:58:12.112535",
     "exception": false,
     "start_time": "2025-07-30T13:58:12.090888",
     "status": "completed"
    },
    "tags": []
   },
   "source": [
    "# Model Training"
   ]
  },
  {
   "cell_type": "code",
   "execution_count": 41,
   "id": "679e1268",
   "metadata": {
    "execution": {
     "iopub.execute_input": "2025-07-30T13:58:12.159030Z",
     "iopub.status.busy": "2025-07-30T13:58:12.158515Z",
     "iopub.status.idle": "2025-07-30T13:58:12.262928Z",
     "shell.execute_reply": "2025-07-30T13:58:12.262057Z"
    },
    "papermill": {
     "duration": 0.130301,
     "end_time": "2025-07-30T13:58:12.264787",
     "exception": false,
     "start_time": "2025-07-30T13:58:12.134486",
     "status": "completed"
    },
    "tags": []
   },
   "outputs": [],
   "source": [
    "from sklearn.linear_model import LogisticRegression\n",
    "from sklearn.ensemble import GradientBoostingClassifier, RandomForestClassifier\n",
    "\n",
    "if (universe[\"model\"] == \"logreg\"):\n",
    "    model = LogisticRegression() #penalty=\"none\") #, solver=\"newton-cg\", max_iter=1) # include random_state=19 ?\n",
    "elif (universe[\"model\"] == \"penalized_logreg\"):\n",
    "    model = LogisticRegression(penalty=\"l2\", C=1.0) #, solver=\"newton-cg\", max_iter=1)\n",
    "elif (universe[\"model\"] == \"rf\"):\n",
    "    model = RandomForestClassifier(n_estimators=100, n_jobs=-1)\n",
    "elif (universe[\"model\"] == \"gbm\"):\n",
    "    model = GradientBoostingClassifier()\n",
    "elif (universe[\"model\"] == \"elasticnet\"):\n",
    "    model = LogisticRegression(penalty = 'elasticnet', solver = 'saga', l1_ratio = 0.5, max_iter=5000) # which solver to use?\n",
    "else:\n",
    "    raise \"Unsupported universe.model\""
   ]
  },
  {
   "cell_type": "code",
   "execution_count": 42,
   "id": "0cc8f744",
   "metadata": {
    "execution": {
     "iopub.execute_input": "2025-07-30T13:58:12.311259Z",
     "iopub.status.busy": "2025-07-30T13:58:12.310434Z",
     "iopub.status.idle": "2025-07-30T13:58:12.316849Z",
     "shell.execute_reply": "2025-07-30T13:58:12.315917Z"
    },
    "papermill": {
     "duration": 0.031749,
     "end_time": "2025-07-30T13:58:12.318751",
     "exception": false,
     "start_time": "2025-07-30T13:58:12.287002",
     "status": "completed"
    },
    "tags": []
   },
   "outputs": [],
   "source": [
    "import numpy as np\n",
    "from sklearn.pipeline import Pipeline\n",
    "from sklearn.preprocessing import StandardScaler\n",
    "\n",
    "model = Pipeline([\n",
    "    #(\"continuous_processor\", continuous_processor),\n",
    "    #(\"categorical_preprocessor\", categorical_preprocessor),\n",
    "    (\"scale\", StandardScaler() if universe[\"scale\"] == \"scale\" else None), \n",
    "    (\"model\", model),\n",
    "])"
   ]
  },
  {
   "cell_type": "code",
   "execution_count": 43,
   "id": "9442c04d",
   "metadata": {
    "execution": {
     "iopub.execute_input": "2025-07-30T13:58:12.365762Z",
     "iopub.status.busy": "2025-07-30T13:58:12.365305Z",
     "iopub.status.idle": "2025-07-30T13:58:25.059214Z",
     "shell.execute_reply": "2025-07-30T13:58:25.058355Z"
    },
    "papermill": {
     "duration": 12.719064,
     "end_time": "2025-07-30T13:58:25.060766",
     "exception": false,
     "start_time": "2025-07-30T13:58:12.341702",
     "status": "completed"
    },
    "tags": []
   },
   "outputs": [
    {
     "data": {
      "text/html": [
       "<style>#sk-container-id-1 {color: black;background-color: white;}#sk-container-id-1 pre{padding: 0;}#sk-container-id-1 div.sk-toggleable {background-color: white;}#sk-container-id-1 label.sk-toggleable__label {cursor: pointer;display: block;width: 100%;margin-bottom: 0;padding: 0.3em;box-sizing: border-box;text-align: center;}#sk-container-id-1 label.sk-toggleable__label-arrow:before {content: \"▸\";float: left;margin-right: 0.25em;color: #696969;}#sk-container-id-1 label.sk-toggleable__label-arrow:hover:before {color: black;}#sk-container-id-1 div.sk-estimator:hover label.sk-toggleable__label-arrow:before {color: black;}#sk-container-id-1 div.sk-toggleable__content {max-height: 0;max-width: 0;overflow: hidden;text-align: left;background-color: #f0f8ff;}#sk-container-id-1 div.sk-toggleable__content pre {margin: 0.2em;color: black;border-radius: 0.25em;background-color: #f0f8ff;}#sk-container-id-1 input.sk-toggleable__control:checked~div.sk-toggleable__content {max-height: 200px;max-width: 100%;overflow: auto;}#sk-container-id-1 input.sk-toggleable__control:checked~label.sk-toggleable__label-arrow:before {content: \"▾\";}#sk-container-id-1 div.sk-estimator input.sk-toggleable__control:checked~label.sk-toggleable__label {background-color: #d4ebff;}#sk-container-id-1 div.sk-label input.sk-toggleable__control:checked~label.sk-toggleable__label {background-color: #d4ebff;}#sk-container-id-1 input.sk-hidden--visually {border: 0;clip: rect(1px 1px 1px 1px);clip: rect(1px, 1px, 1px, 1px);height: 1px;margin: -1px;overflow: hidden;padding: 0;position: absolute;width: 1px;}#sk-container-id-1 div.sk-estimator {font-family: monospace;background-color: #f0f8ff;border: 1px dotted black;border-radius: 0.25em;box-sizing: border-box;margin-bottom: 0.5em;}#sk-container-id-1 div.sk-estimator:hover {background-color: #d4ebff;}#sk-container-id-1 div.sk-parallel-item::after {content: \"\";width: 100%;border-bottom: 1px solid gray;flex-grow: 1;}#sk-container-id-1 div.sk-label:hover label.sk-toggleable__label {background-color: #d4ebff;}#sk-container-id-1 div.sk-serial::before {content: \"\";position: absolute;border-left: 1px solid gray;box-sizing: border-box;top: 0;bottom: 0;left: 50%;z-index: 0;}#sk-container-id-1 div.sk-serial {display: flex;flex-direction: column;align-items: center;background-color: white;padding-right: 0.2em;padding-left: 0.2em;position: relative;}#sk-container-id-1 div.sk-item {position: relative;z-index: 1;}#sk-container-id-1 div.sk-parallel {display: flex;align-items: stretch;justify-content: center;background-color: white;position: relative;}#sk-container-id-1 div.sk-item::before, #sk-container-id-1 div.sk-parallel-item::before {content: \"\";position: absolute;border-left: 1px solid gray;box-sizing: border-box;top: 0;bottom: 0;left: 50%;z-index: -1;}#sk-container-id-1 div.sk-parallel-item {display: flex;flex-direction: column;z-index: 1;position: relative;background-color: white;}#sk-container-id-1 div.sk-parallel-item:first-child::after {align-self: flex-end;width: 50%;}#sk-container-id-1 div.sk-parallel-item:last-child::after {align-self: flex-start;width: 50%;}#sk-container-id-1 div.sk-parallel-item:only-child::after {width: 0;}#sk-container-id-1 div.sk-dashed-wrapped {border: 1px dashed gray;margin: 0 0.4em 0.5em 0.4em;box-sizing: border-box;padding-bottom: 0.4em;background-color: white;}#sk-container-id-1 div.sk-label label {font-family: monospace;font-weight: bold;display: inline-block;line-height: 1.2em;}#sk-container-id-1 div.sk-label-container {text-align: center;}#sk-container-id-1 div.sk-container {/* jupyter's `normalize.less` sets `[hidden] { display: none; }` but bootstrap.min.css set `[hidden] { display: none !important; }` so we also need the `!important` here to be able to override the default hidden behavior on the sphinx rendered scikit-learn.org. See: https://github.com/scikit-learn/scikit-learn/issues/21755 */display: inline-block !important;position: relative;}#sk-container-id-1 div.sk-text-repr-fallback {display: none;}</style><div id=\"sk-container-id-1\" class=\"sk-top-container\"><div class=\"sk-text-repr-fallback\"><pre>Pipeline(steps=[(&#x27;scale&#x27;, StandardScaler()),\n",
       "                (&#x27;model&#x27;,\n",
       "                 LogisticRegression(l1_ratio=0.5, max_iter=5000,\n",
       "                                    penalty=&#x27;elasticnet&#x27;, solver=&#x27;saga&#x27;))])</pre><b>In a Jupyter environment, please rerun this cell to show the HTML representation or trust the notebook. <br />On GitHub, the HTML representation is unable to render, please try loading this page with nbviewer.org.</b></div><div class=\"sk-container\" hidden><div class=\"sk-item sk-dashed-wrapped\"><div class=\"sk-label-container\"><div class=\"sk-label sk-toggleable\"><input class=\"sk-toggleable__control sk-hidden--visually\" id=\"sk-estimator-id-1\" type=\"checkbox\" ><label for=\"sk-estimator-id-1\" class=\"sk-toggleable__label sk-toggleable__label-arrow\">Pipeline</label><div class=\"sk-toggleable__content\"><pre>Pipeline(steps=[(&#x27;scale&#x27;, StandardScaler()),\n",
       "                (&#x27;model&#x27;,\n",
       "                 LogisticRegression(l1_ratio=0.5, max_iter=5000,\n",
       "                                    penalty=&#x27;elasticnet&#x27;, solver=&#x27;saga&#x27;))])</pre></div></div></div><div class=\"sk-serial\"><div class=\"sk-item\"><div class=\"sk-estimator sk-toggleable\"><input class=\"sk-toggleable__control sk-hidden--visually\" id=\"sk-estimator-id-2\" type=\"checkbox\" ><label for=\"sk-estimator-id-2\" class=\"sk-toggleable__label sk-toggleable__label-arrow\">StandardScaler</label><div class=\"sk-toggleable__content\"><pre>StandardScaler()</pre></div></div></div><div class=\"sk-item\"><div class=\"sk-estimator sk-toggleable\"><input class=\"sk-toggleable__control sk-hidden--visually\" id=\"sk-estimator-id-3\" type=\"checkbox\" ><label for=\"sk-estimator-id-3\" class=\"sk-toggleable__label sk-toggleable__label-arrow\">LogisticRegression</label><div class=\"sk-toggleable__content\"><pre>LogisticRegression(l1_ratio=0.5, max_iter=5000, penalty=&#x27;elasticnet&#x27;,\n",
       "                   solver=&#x27;saga&#x27;)</pre></div></div></div></div></div></div></div>"
      ],
      "text/plain": [
       "Pipeline(steps=[('scale', StandardScaler()),\n",
       "                ('model',\n",
       "                 LogisticRegression(l1_ratio=0.5, max_iter=5000,\n",
       "                                    penalty='elasticnet', solver='saga'))])"
      ]
     },
     "execution_count": 43,
     "metadata": {},
     "output_type": "execute_result"
    }
   ],
   "source": [
    "model.fit(X_train, y_train.values.ravel())"
   ]
  },
  {
   "cell_type": "code",
   "execution_count": 44,
   "id": "af59f8c0",
   "metadata": {
    "execution": {
     "iopub.execute_input": "2025-07-30T13:58:25.110254Z",
     "iopub.status.busy": "2025-07-30T13:58:25.109705Z",
     "iopub.status.idle": "2025-07-30T13:58:25.115111Z",
     "shell.execute_reply": "2025-07-30T13:58:25.114101Z"
    },
    "papermill": {
     "duration": 0.030878,
     "end_time": "2025-07-30T13:58:25.116653",
     "exception": false,
     "start_time": "2025-07-30T13:58:25.085775",
     "status": "completed"
    },
    "tags": []
   },
   "outputs": [],
   "source": [
    "from fairness_multiverse.universe import predict_w_threshold"
   ]
  },
  {
   "cell_type": "code",
   "execution_count": 45,
   "id": "a7cf2e16",
   "metadata": {
    "execution": {
     "iopub.execute_input": "2025-07-30T13:58:25.161168Z",
     "iopub.status.busy": "2025-07-30T13:58:25.160727Z",
     "iopub.status.idle": "2025-07-30T13:58:25.347158Z",
     "shell.execute_reply": "2025-07-30T13:58:25.346110Z"
    },
    "papermill": {
     "duration": 0.212756,
     "end_time": "2025-07-30T13:58:25.348917",
     "exception": false,
     "start_time": "2025-07-30T13:58:25.136161",
     "status": "completed"
    },
    "tags": []
   },
   "outputs": [
    {
     "data": {
      "text/plain": [
       "0.8574072009809386"
      ]
     },
     "execution_count": 45,
     "metadata": {},
     "output_type": "execute_result"
    }
   ],
   "source": [
    "probs_test = model.predict_proba(X_test)\n",
    "\n",
    "'''\n",
    "Below code returns a boolean array (or binary 0/1 array depending on how it’s used) where each element \n",
    "is True if the probability of class 1 is greater than or equal to the threshold, and False otherwise.\n",
    "'''\n",
    "y_pred_default = predict_w_threshold(probs_test, 0.5)\n",
    "\n",
    "from sklearn.metrics import accuracy_score\n",
    "\n",
    "# Naive prediction\n",
    "accuracy_score(y_true = y_true, y_pred = y_pred_default)"
   ]
  },
  {
   "cell_type": "code",
   "execution_count": 46,
   "id": "081964c3",
   "metadata": {
    "execution": {
     "iopub.execute_input": "2025-07-30T13:58:25.400604Z",
     "iopub.status.busy": "2025-07-30T13:58:25.400098Z",
     "iopub.status.idle": "2025-07-30T13:58:25.585660Z",
     "shell.execute_reply": "2025-07-30T13:58:25.584485Z"
    },
    "papermill": {
     "duration": 0.21308,
     "end_time": "2025-07-30T13:58:25.587220",
     "exception": false,
     "start_time": "2025-07-30T13:58:25.374140",
     "status": "completed"
    },
    "tags": []
   },
   "outputs": [
    {
     "data": {
      "text/plain": [
       "array([0, 0, 0, ..., 0, 0, 0])"
      ]
     },
     "execution_count": 46,
     "metadata": {},
     "output_type": "execute_result"
    }
   ],
   "source": [
    "model.predict(X_test)"
   ]
  },
  {
   "cell_type": "markdown",
   "id": "56c9705b",
   "metadata": {
    "papermill": {
     "duration": 0.022811,
     "end_time": "2025-07-30T13:58:25.633628",
     "exception": false,
     "start_time": "2025-07-30T13:58:25.610817",
     "status": "completed"
    },
    "tags": []
   },
   "source": [
    "# Conformal Prediction"
   ]
  },
  {
   "cell_type": "code",
   "execution_count": 47,
   "id": "160ec6ff",
   "metadata": {
    "execution": {
     "iopub.execute_input": "2025-07-30T13:58:25.679363Z",
     "iopub.status.busy": "2025-07-30T13:58:25.678755Z",
     "iopub.status.idle": "2025-07-30T13:58:25.682728Z",
     "shell.execute_reply": "2025-07-30T13:58:25.681984Z"
    },
    "papermill": {
     "duration": 0.028401,
     "end_time": "2025-07-30T13:58:25.683981",
     "exception": false,
     "start_time": "2025-07-30T13:58:25.655580",
     "status": "completed"
    },
    "tags": []
   },
   "outputs": [],
   "source": [
    "# Miscoverage level for conformal prediction (10% allowed error rate => 90% target coverage)\n",
    "alpha = 0.1"
   ]
  },
  {
   "cell_type": "code",
   "execution_count": 48,
   "id": "eadf4555-3dd3-440e-8e35-f82a4ad9f855",
   "metadata": {
    "execution": {
     "iopub.execute_input": "2025-07-30T13:58:25.710385Z",
     "iopub.status.busy": "2025-07-30T13:58:25.710040Z",
     "iopub.status.idle": "2025-07-30T13:58:25.883015Z",
     "shell.execute_reply": "2025-07-30T13:58:25.881979Z"
    },
    "papermill": {
     "duration": 0.187991,
     "end_time": "2025-07-30T13:58:25.885130",
     "exception": false,
     "start_time": "2025-07-30T13:58:25.697139",
     "status": "completed"
    },
    "tags": []
   },
   "outputs": [],
   "source": [
    "probs_calib = model.predict_proba(X_calib)"
   ]
  },
  {
   "cell_type": "code",
   "execution_count": 49,
   "id": "2ed93547-6d5d-4983-9b36-1ecb300da49a",
   "metadata": {
    "execution": {
     "iopub.execute_input": "2025-07-30T13:58:25.935863Z",
     "iopub.status.busy": "2025-07-30T13:58:25.935387Z",
     "iopub.status.idle": "2025-07-30T13:58:25.941285Z",
     "shell.execute_reply": "2025-07-30T13:58:25.940263Z"
    },
    "papermill": {
     "duration": 0.031104,
     "end_time": "2025-07-30T13:58:25.943614",
     "exception": false,
     "start_time": "2025-07-30T13:58:25.912510",
     "status": "completed"
    },
    "tags": []
   },
   "outputs": [],
   "source": [
    "y_calib = y_calib.values.ravel().astype(int)"
   ]
  },
  {
   "cell_type": "code",
   "execution_count": 50,
   "id": "65d1320d-f588-4b38-9072-62af1ae97f7d",
   "metadata": {
    "execution": {
     "iopub.execute_input": "2025-07-30T13:58:25.992713Z",
     "iopub.status.busy": "2025-07-30T13:58:25.992295Z",
     "iopub.status.idle": "2025-07-30T13:58:26.000979Z",
     "shell.execute_reply": "2025-07-30T13:58:25.999950Z"
    },
    "papermill": {
     "duration": 0.03493,
     "end_time": "2025-07-30T13:58:26.002725",
     "exception": false,
     "start_time": "2025-07-30T13:58:25.967795",
     "status": "completed"
    },
    "tags": []
   },
   "outputs": [],
   "source": [
    "from fairness_multiverse.conformal import compute_nc_scores\n",
    "\n",
    "# Compute nonconformity scores on calibration set (1 - probability of true class)\n",
    "nc_scores = compute_nc_scores(probs_calib, y_calib)"
   ]
  },
  {
   "cell_type": "code",
   "execution_count": 51,
   "id": "df3b8ca3-53b7-43d5-9667-7c85da7aeda2",
   "metadata": {
    "execution": {
     "iopub.execute_input": "2025-07-30T13:58:26.053547Z",
     "iopub.status.busy": "2025-07-30T13:58:26.052733Z",
     "iopub.status.idle": "2025-07-30T13:58:26.060203Z",
     "shell.execute_reply": "2025-07-30T13:58:26.059212Z"
    },
    "papermill": {
     "duration": 0.034306,
     "end_time": "2025-07-30T13:58:26.062064",
     "exception": false,
     "start_time": "2025-07-30T13:58:26.027758",
     "status": "completed"
    },
    "tags": []
   },
   "outputs": [],
   "source": [
    "from fairness_multiverse.conformal import find_threshold\n",
    "\n",
    "# Find conformal threshold q_hat for the given alpha (split conformal method)\n",
    "q_hat = find_threshold(nc_scores, alpha)"
   ]
  },
  {
   "cell_type": "code",
   "execution_count": 52,
   "id": "4d29e6c1-0ef6-4aa4-b8fe-4fe79b0d033a",
   "metadata": {
    "execution": {
     "iopub.execute_input": "2025-07-30T13:58:26.113327Z",
     "iopub.status.busy": "2025-07-30T13:58:26.112520Z",
     "iopub.status.idle": "2025-07-30T13:58:26.119866Z",
     "shell.execute_reply": "2025-07-30T13:58:26.118895Z"
    },
    "papermill": {
     "duration": 0.034171,
     "end_time": "2025-07-30T13:58:26.121573",
     "exception": false,
     "start_time": "2025-07-30T13:58:26.087402",
     "status": "completed"
    },
    "tags": []
   },
   "outputs": [
    {
     "data": {
      "text/plain": [
       "0.6843222630691268"
      ]
     },
     "execution_count": 52,
     "metadata": {},
     "output_type": "execute_result"
    }
   ],
   "source": [
    "q_hat"
   ]
  },
  {
   "cell_type": "code",
   "execution_count": 53,
   "id": "92460794-cdac-4be2-ba28-f28c0515a6fb",
   "metadata": {
    "execution": {
     "iopub.execute_input": "2025-07-30T13:58:26.178192Z",
     "iopub.status.busy": "2025-07-30T13:58:26.177617Z",
     "iopub.status.idle": "2025-07-30T13:58:27.136355Z",
     "shell.execute_reply": "2025-07-30T13:58:27.135173Z"
    },
    "papermill": {
     "duration": 0.990357,
     "end_time": "2025-07-30T13:58:27.138212",
     "exception": false,
     "start_time": "2025-07-30T13:58:26.147855",
     "status": "completed"
    },
    "tags": []
   },
   "outputs": [],
   "source": [
    "from fairness_multiverse.conformal import predict_conformal_sets\n",
    "\n",
    "# Generate prediction sets for each test example\n",
    "pred_sets = predict_conformal_sets(model, X_test, q_hat)"
   ]
  },
  {
   "cell_type": "code",
   "execution_count": 54,
   "id": "d90c9a65-e6db-4f5d-80cd-e68fb7e46829",
   "metadata": {
    "execution": {
     "iopub.execute_input": "2025-07-30T13:58:27.189773Z",
     "iopub.status.busy": "2025-07-30T13:58:27.189230Z",
     "iopub.status.idle": "2025-07-30T13:58:27.194781Z",
     "shell.execute_reply": "2025-07-30T13:58:27.193815Z"
    },
    "papermill": {
     "duration": 0.032376,
     "end_time": "2025-07-30T13:58:27.196297",
     "exception": false,
     "start_time": "2025-07-30T13:58:27.163921",
     "status": "completed"
    },
    "tags": []
   },
   "outputs": [],
   "source": [
    "y_true = y_true.squeeze()"
   ]
  },
  {
   "cell_type": "code",
   "execution_count": 55,
   "id": "3a58a54a-1e68-46b9-927a-df01f18aebc8",
   "metadata": {
    "execution": {
     "iopub.execute_input": "2025-07-30T13:58:27.245894Z",
     "iopub.status.busy": "2025-07-30T13:58:27.245422Z",
     "iopub.status.idle": "2025-07-30T13:58:27.728994Z",
     "shell.execute_reply": "2025-07-30T13:58:27.728252Z"
    },
    "papermill": {
     "duration": 0.509485,
     "end_time": "2025-07-30T13:58:27.730408",
     "exception": false,
     "start_time": "2025-07-30T13:58:27.220923",
     "status": "completed"
    },
    "tags": []
   },
   "outputs": [],
   "source": [
    "from fairness_multiverse.conformal import evaluate_sets\n",
    "\n",
    "# Evaluate coverage and average set size on test data\n",
    "metrics = evaluate_sets(pred_sets, y_true)"
   ]
  },
  {
   "cell_type": "markdown",
   "id": "2b569c12-9aaa-4c88-98c9-bbcd0cf3ebb8",
   "metadata": {
    "papermill": {
     "duration": 0.012674,
     "end_time": "2025-07-30T13:58:27.756593",
     "exception": false,
     "start_time": "2025-07-30T13:58:27.743919",
     "status": "completed"
    },
    "tags": []
   },
   "source": [
    "# CP Metrics"
   ]
  },
  {
   "cell_type": "code",
   "execution_count": 56,
   "id": "5ce0a5cb-201f-45a0-ade5-94c7f0bd6095",
   "metadata": {
    "execution": {
     "iopub.execute_input": "2025-07-30T13:58:27.783981Z",
     "iopub.status.busy": "2025-07-30T13:58:27.783408Z",
     "iopub.status.idle": "2025-07-30T13:58:27.790569Z",
     "shell.execute_reply": "2025-07-30T13:58:27.789879Z"
    },
    "papermill": {
     "duration": 0.022454,
     "end_time": "2025-07-30T13:58:27.791975",
     "exception": false,
     "start_time": "2025-07-30T13:58:27.769521",
     "status": "completed"
    },
    "tags": []
   },
   "outputs": [
    {
     "data": {
      "text/plain": [
       "{'coverage': 0.9109352357596701, 'avg_size': 1.1356481997547654}"
      ]
     },
     "execution_count": 56,
     "metadata": {},
     "output_type": "execute_result"
    }
   ],
   "source": [
    "metrics"
   ]
  },
  {
   "cell_type": "code",
   "execution_count": 57,
   "id": "9b9a838d-31c9-430b-ae14-12baee460d17",
   "metadata": {
    "execution": {
     "iopub.execute_input": "2025-07-30T13:58:27.825090Z",
     "iopub.status.busy": "2025-07-30T13:58:27.824309Z",
     "iopub.status.idle": "2025-07-30T13:58:27.831060Z",
     "shell.execute_reply": "2025-07-30T13:58:27.830017Z"
    },
    "papermill": {
     "duration": 0.026997,
     "end_time": "2025-07-30T13:58:27.832734",
     "exception": false,
     "start_time": "2025-07-30T13:58:27.805737",
     "status": "completed"
    },
    "tags": []
   },
   "outputs": [],
   "source": [
    "example_universe = universe.copy()\n",
    "universe_training_size = example_universe.get(\"training_size\")\n",
    "universe_scale = example_universe.get(\"scale\")\n",
    "universe_model = example_universe.get(\"model\")\n",
    "universe_exclude_features = example_universe.get(\"exclude_features\")\n",
    "universe_exclude_subgroups = example_universe.get(\"exclude_subgroups\")"
   ]
  },
  {
   "cell_type": "code",
   "execution_count": 58,
   "id": "f4b6a8ac-9dc0-4245-8a91-5b3b5999c4f9",
   "metadata": {
    "execution": {
     "iopub.execute_input": "2025-07-30T13:58:27.886144Z",
     "iopub.status.busy": "2025-07-30T13:58:27.885646Z",
     "iopub.status.idle": "2025-07-30T13:58:27.892752Z",
     "shell.execute_reply": "2025-07-30T13:58:27.891736Z"
    },
    "papermill": {
     "duration": 0.033821,
     "end_time": "2025-07-30T13:58:27.894525",
     "exception": false,
     "start_time": "2025-07-30T13:58:27.860704",
     "status": "completed"
    },
    "tags": []
   },
   "outputs": [],
   "source": [
    "cp_metrics_dict = {\n",
    "    \"universe_id\": [universe_id],\n",
    "    \"universe_training_size\": [universe_training_size],\n",
    "    \"universe_scale\": [universe_scale],\n",
    "    \"universe_model\": [universe_model],\n",
    "    \"universe_exclude_features\": [universe_exclude_features],\n",
    "    \"universe_exclude_subgroups\": [universe_exclude_subgroups],\n",
    "    \"q_hat\": [q_hat],\n",
    "    \"coverage\": [metrics[\"coverage\"]],\n",
    "    \"avg_size\": [metrics[\"avg_size\"]],\n",
    "}"
   ]
  },
  {
   "cell_type": "code",
   "execution_count": 59,
   "id": "908acbb1-0371-4915-85ca-3fa520d2efe2",
   "metadata": {
    "execution": {
     "iopub.execute_input": "2025-07-30T13:58:27.946040Z",
     "iopub.status.busy": "2025-07-30T13:58:27.945589Z",
     "iopub.status.idle": "2025-07-30T13:58:27.952703Z",
     "shell.execute_reply": "2025-07-30T13:58:27.951807Z"
    },
    "papermill": {
     "duration": 0.034933,
     "end_time": "2025-07-30T13:58:27.954279",
     "exception": false,
     "start_time": "2025-07-30T13:58:27.919346",
     "status": "completed"
    },
    "tags": []
   },
   "outputs": [
    {
     "data": {
      "text/plain": [
       "{'universe_id': ['77ccf370906521224baaf2bf0c594bc7'],\n",
       " 'universe_training_size': ['5k'],\n",
       " 'universe_scale': ['scale'],\n",
       " 'universe_model': ['elasticnet'],\n",
       " 'universe_exclude_features': ['nationality'],\n",
       " 'universe_exclude_subgroups': ['keep-all'],\n",
       " 'q_hat': [0.6843222630691268],\n",
       " 'coverage': [0.9109352357596701],\n",
       " 'avg_size': [1.1356481997547654]}"
      ]
     },
     "execution_count": 59,
     "metadata": {},
     "output_type": "execute_result"
    }
   ],
   "source": [
    "cp_metrics_dict"
   ]
  },
  {
   "cell_type": "code",
   "execution_count": 60,
   "id": "33007efc-14e9-4ec6-97ac-56a455c82265",
   "metadata": {
    "execution": {
     "iopub.execute_input": "2025-07-30T13:58:28.004995Z",
     "iopub.status.busy": "2025-07-30T13:58:28.004301Z",
     "iopub.status.idle": "2025-07-30T13:58:28.010582Z",
     "shell.execute_reply": "2025-07-30T13:58:28.009650Z"
    },
    "papermill": {
     "duration": 0.033324,
     "end_time": "2025-07-30T13:58:28.012192",
     "exception": false,
     "start_time": "2025-07-30T13:58:27.978868",
     "status": "completed"
    },
    "tags": []
   },
   "outputs": [],
   "source": [
    "cp_metrics_df = pd.DataFrame(cp_metrics_dict)"
   ]
  },
  {
   "cell_type": "code",
   "execution_count": 61,
   "id": "db12611b-57b2-4910-b9d0-355adfd6e7bf",
   "metadata": {
    "execution": {
     "iopub.execute_input": "2025-07-30T13:58:28.068571Z",
     "iopub.status.busy": "2025-07-30T13:58:28.068075Z",
     "iopub.status.idle": "2025-07-30T13:58:28.086104Z",
     "shell.execute_reply": "2025-07-30T13:58:28.084994Z"
    },
    "papermill": {
     "duration": 0.045481,
     "end_time": "2025-07-30T13:58:28.087949",
     "exception": false,
     "start_time": "2025-07-30T13:58:28.042468",
     "status": "completed"
    },
    "tags": []
   },
   "outputs": [
    {
     "data": {
      "text/html": [
       "<div>\n",
       "<style scoped>\n",
       "    .dataframe tbody tr th:only-of-type {\n",
       "        vertical-align: middle;\n",
       "    }\n",
       "\n",
       "    .dataframe tbody tr th {\n",
       "        vertical-align: top;\n",
       "    }\n",
       "\n",
       "    .dataframe thead th {\n",
       "        text-align: right;\n",
       "    }\n",
       "</style>\n",
       "<table border=\"1\" class=\"dataframe\">\n",
       "  <thead>\n",
       "    <tr style=\"text-align: right;\">\n",
       "      <th></th>\n",
       "      <th>universe_id</th>\n",
       "      <th>universe_training_size</th>\n",
       "      <th>universe_scale</th>\n",
       "      <th>universe_model</th>\n",
       "      <th>universe_exclude_features</th>\n",
       "      <th>universe_exclude_subgroups</th>\n",
       "      <th>q_hat</th>\n",
       "      <th>coverage</th>\n",
       "      <th>avg_size</th>\n",
       "    </tr>\n",
       "  </thead>\n",
       "  <tbody>\n",
       "    <tr>\n",
       "      <th>0</th>\n",
       "      <td>77ccf370906521224baaf2bf0c594bc7</td>\n",
       "      <td>5k</td>\n",
       "      <td>scale</td>\n",
       "      <td>elasticnet</td>\n",
       "      <td>nationality</td>\n",
       "      <td>keep-all</td>\n",
       "      <td>0.684322</td>\n",
       "      <td>0.910935</td>\n",
       "      <td>1.135648</td>\n",
       "    </tr>\n",
       "  </tbody>\n",
       "</table>\n",
       "</div>"
      ],
      "text/plain": [
       "                        universe_id universe_training_size universe_scale  \\\n",
       "0  77ccf370906521224baaf2bf0c594bc7                     5k          scale   \n",
       "\n",
       "  universe_model universe_exclude_features universe_exclude_subgroups  \\\n",
       "0     elasticnet               nationality                   keep-all   \n",
       "\n",
       "      q_hat  coverage  avg_size  \n",
       "0  0.684322  0.910935  1.135648  "
      ]
     },
     "execution_count": 61,
     "metadata": {},
     "output_type": "execute_result"
    }
   ],
   "source": [
    "cp_metrics_df"
   ]
  },
  {
   "cell_type": "code",
   "execution_count": 62,
   "id": "b7fbde55-a0a1-47e4-9af6-fe4a17fa8c61",
   "metadata": {
    "execution": {
     "iopub.execute_input": "2025-07-30T13:58:28.139165Z",
     "iopub.status.busy": "2025-07-30T13:58:28.138356Z",
     "iopub.status.idle": "2025-07-30T13:58:28.143537Z",
     "shell.execute_reply": "2025-07-30T13:58:28.142574Z"
    },
    "papermill": {
     "duration": 0.032378,
     "end_time": "2025-07-30T13:58:28.145184",
     "exception": false,
     "start_time": "2025-07-30T13:58:28.112806",
     "status": "completed"
    },
    "tags": []
   },
   "outputs": [],
   "source": [
    "# Conditional Coverage & looking at subgroups"
   ]
  },
  {
   "cell_type": "code",
   "execution_count": 63,
   "id": "027ae886-68dd-4141-96c7-805a5450e1ef",
   "metadata": {
    "execution": {
     "iopub.execute_input": "2025-07-30T13:58:28.197779Z",
     "iopub.status.busy": "2025-07-30T13:58:28.196868Z",
     "iopub.status.idle": "2025-07-30T13:58:28.470556Z",
     "shell.execute_reply": "2025-07-30T13:58:28.469440Z"
    },
    "papermill": {
     "duration": 0.301265,
     "end_time": "2025-07-30T13:58:28.472528",
     "exception": false,
     "start_time": "2025-07-30T13:58:28.171263",
     "status": "completed"
    },
    "tags": []
   },
   "outputs": [],
   "source": [
    "from fairness_multiverse.conformal import build_cp_groups\n",
    "\n",
    "cp_groups_df = build_cp_groups(pred_sets, y_true, X_test.index, org_test)\n",
    "#needs universe_id and setting"
   ]
  },
  {
   "cell_type": "code",
   "execution_count": 64,
   "id": "01d5802c-663a-4d1f-9d69-e036faaffbf7",
   "metadata": {
    "execution": {
     "iopub.execute_input": "2025-07-30T13:58:28.535962Z",
     "iopub.status.busy": "2025-07-30T13:58:28.534832Z",
     "iopub.status.idle": "2025-07-30T13:58:28.541205Z",
     "shell.execute_reply": "2025-07-30T13:58:28.539901Z"
    },
    "papermill": {
     "duration": 0.035561,
     "end_time": "2025-07-30T13:58:28.543176",
     "exception": false,
     "start_time": "2025-07-30T13:58:28.507615",
     "status": "completed"
    },
    "tags": []
   },
   "outputs": [],
   "source": [
    "#delete\n",
    "#cp_groups_df"
   ]
  },
  {
   "cell_type": "code",
   "execution_count": 65,
   "id": "fa424af1-d1eb-443d-b717-2d279ada8408",
   "metadata": {
    "execution": {
     "iopub.execute_input": "2025-07-30T13:58:28.598970Z",
     "iopub.status.busy": "2025-07-30T13:58:28.598382Z",
     "iopub.status.idle": "2025-07-30T13:58:28.604650Z",
     "shell.execute_reply": "2025-07-30T13:58:28.603349Z"
    },
    "papermill": {
     "duration": 0.035441,
     "end_time": "2025-07-30T13:58:28.606501",
     "exception": false,
     "start_time": "2025-07-30T13:58:28.571060",
     "status": "completed"
    },
    "tags": []
   },
   "outputs": [],
   "source": [
    "#delete\n",
    "#percentage = (cp_groups_df['nongerman_female'] == 1).mean() * 100\n",
    "#print(percentage)\n"
   ]
  },
  {
   "cell_type": "code",
   "execution_count": 66,
   "id": "6cbdab96-b2b2-45af-ad54-d0516db2e28d",
   "metadata": {
    "execution": {
     "iopub.execute_input": "2025-07-30T13:58:28.661330Z",
     "iopub.status.busy": "2025-07-30T13:58:28.660876Z",
     "iopub.status.idle": "2025-07-30T13:58:30.125657Z",
     "shell.execute_reply": "2025-07-30T13:58:30.124588Z"
    },
    "papermill": {
     "duration": 1.494066,
     "end_time": "2025-07-30T13:58:30.127884",
     "exception": false,
     "start_time": "2025-07-30T13:58:28.633818",
     "status": "completed"
    },
    "tags": []
   },
   "outputs": [],
   "source": [
    "# Define covered = 1 if true_label is in the predicted set\n",
    "cp_groups_df['covered'] = cp_groups_df.apply(\n",
    "    lambda r: int(r['true_label'] in r['pred_set']),\n",
    "    axis=1\n",
    ")"
   ]
  },
  {
   "cell_type": "code",
   "execution_count": 67,
   "id": "338ff529-1a6b-4b87-a931-8e4788d52aad",
   "metadata": {
    "execution": {
     "iopub.execute_input": "2025-07-30T13:58:30.166663Z",
     "iopub.status.busy": "2025-07-30T13:58:30.166218Z",
     "iopub.status.idle": "2025-07-30T13:58:30.171138Z",
     "shell.execute_reply": "2025-07-30T13:58:30.170334Z"
    },
    "papermill": {
     "duration": 0.021364,
     "end_time": "2025-07-30T13:58:30.172480",
     "exception": false,
     "start_time": "2025-07-30T13:58:30.151116",
     "status": "completed"
    },
    "tags": []
   },
   "outputs": [],
   "source": [
    "#cp_groups_df"
   ]
  },
  {
   "cell_type": "code",
   "execution_count": 68,
   "id": "90032e27-66df-4540-9169-4e89cfbaa758",
   "metadata": {
    "execution": {
     "iopub.execute_input": "2025-07-30T13:58:30.216633Z",
     "iopub.status.busy": "2025-07-30T13:58:30.216102Z",
     "iopub.status.idle": "2025-07-30T13:58:30.228218Z",
     "shell.execute_reply": "2025-07-30T13:58:30.227194Z"
    },
    "papermill": {
     "duration": 0.043184,
     "end_time": "2025-07-30T13:58:30.230047",
     "exception": false,
     "start_time": "2025-07-30T13:58:30.186863",
     "status": "completed"
    },
    "tags": []
   },
   "outputs": [],
   "source": [
    "subgroups = ['frau1','nongerman','nongerman_male','nongerman_female']\n",
    "\n",
    "# Conditional coverage for subgroup==1\n",
    "cond_coverage = {\n",
    "    g: cp_groups_df.loc[cp_groups_df[g]==1, 'covered'].mean()\n",
    "    for g in subgroups\n",
    "}"
   ]
  },
  {
   "cell_type": "code",
   "execution_count": 69,
   "id": "1e348fb1-b9c3-45bc-ba23-f016827a7e0d",
   "metadata": {
    "execution": {
     "iopub.execute_input": "2025-07-30T13:58:30.286829Z",
     "iopub.status.busy": "2025-07-30T13:58:30.286272Z",
     "iopub.status.idle": "2025-07-30T13:58:30.293801Z",
     "shell.execute_reply": "2025-07-30T13:58:30.292848Z"
    },
    "papermill": {
     "duration": 0.037949,
     "end_time": "2025-07-30T13:58:30.295648",
     "exception": false,
     "start_time": "2025-07-30T13:58:30.257699",
     "status": "completed"
    },
    "tags": []
   },
   "outputs": [
    {
     "data": {
      "text/plain": [
       "{'frau1': 0.9053780832996361,\n",
       " 'nongerman': 0.910683208892382,\n",
       " 'nongerman_male': 0.9285778618391426,\n",
       " 'nongerman_female': 0.8810730253353204}"
      ]
     },
     "execution_count": 69,
     "metadata": {},
     "output_type": "execute_result"
    }
   ],
   "source": [
    "cond_coverage"
   ]
  },
  {
   "cell_type": "code",
   "execution_count": 70,
   "id": "f5093324-c3dd-4d63-bc4c-8d945e5c8bbb",
   "metadata": {
    "execution": {
     "iopub.execute_input": "2025-07-30T13:58:30.352478Z",
     "iopub.status.busy": "2025-07-30T13:58:30.351970Z",
     "iopub.status.idle": "2025-07-30T13:58:30.359799Z",
     "shell.execute_reply": "2025-07-30T13:58:30.358554Z"
    },
    "papermill": {
     "duration": 0.038009,
     "end_time": "2025-07-30T13:58:30.361625",
     "exception": false,
     "start_time": "2025-07-30T13:58:30.323616",
     "status": "completed"
    },
    "tags": []
   },
   "outputs": [],
   "source": [
    "for subgroup, cov in cond_coverage.items():\n",
    "    cp_metrics_df[f\"cov_{subgroup}\"] = cov"
   ]
  },
  {
   "cell_type": "code",
   "execution_count": 71,
   "id": "6e872e10-dbe5-49e8-b554-5030c98ff75d",
   "metadata": {
    "execution": {
     "iopub.execute_input": "2025-07-30T13:58:30.419643Z",
     "iopub.status.busy": "2025-07-30T13:58:30.419131Z",
     "iopub.status.idle": "2025-07-30T13:58:30.436961Z",
     "shell.execute_reply": "2025-07-30T13:58:30.435918Z"
    },
    "papermill": {
     "duration": 0.048037,
     "end_time": "2025-07-30T13:58:30.438609",
     "exception": false,
     "start_time": "2025-07-30T13:58:30.390572",
     "status": "completed"
    },
    "tags": []
   },
   "outputs": [
    {
     "data": {
      "text/html": [
       "<div>\n",
       "<style scoped>\n",
       "    .dataframe tbody tr th:only-of-type {\n",
       "        vertical-align: middle;\n",
       "    }\n",
       "\n",
       "    .dataframe tbody tr th {\n",
       "        vertical-align: top;\n",
       "    }\n",
       "\n",
       "    .dataframe thead th {\n",
       "        text-align: right;\n",
       "    }\n",
       "</style>\n",
       "<table border=\"1\" class=\"dataframe\">\n",
       "  <thead>\n",
       "    <tr style=\"text-align: right;\">\n",
       "      <th></th>\n",
       "      <th>universe_id</th>\n",
       "      <th>universe_training_size</th>\n",
       "      <th>universe_scale</th>\n",
       "      <th>universe_model</th>\n",
       "      <th>universe_exclude_features</th>\n",
       "      <th>universe_exclude_subgroups</th>\n",
       "      <th>q_hat</th>\n",
       "      <th>coverage</th>\n",
       "      <th>avg_size</th>\n",
       "      <th>cov_frau1</th>\n",
       "      <th>cov_nongerman</th>\n",
       "      <th>cov_nongerman_male</th>\n",
       "      <th>cov_nongerman_female</th>\n",
       "    </tr>\n",
       "  </thead>\n",
       "  <tbody>\n",
       "    <tr>\n",
       "      <th>0</th>\n",
       "      <td>77ccf370906521224baaf2bf0c594bc7</td>\n",
       "      <td>5k</td>\n",
       "      <td>scale</td>\n",
       "      <td>elasticnet</td>\n",
       "      <td>nationality</td>\n",
       "      <td>keep-all</td>\n",
       "      <td>0.684322</td>\n",
       "      <td>0.910935</td>\n",
       "      <td>1.135648</td>\n",
       "      <td>0.905378</td>\n",
       "      <td>0.910683</td>\n",
       "      <td>0.928578</td>\n",
       "      <td>0.881073</td>\n",
       "    </tr>\n",
       "  </tbody>\n",
       "</table>\n",
       "</div>"
      ],
      "text/plain": [
       "                        universe_id universe_training_size universe_scale  \\\n",
       "0  77ccf370906521224baaf2bf0c594bc7                     5k          scale   \n",
       "\n",
       "  universe_model universe_exclude_features universe_exclude_subgroups  \\\n",
       "0     elasticnet               nationality                   keep-all   \n",
       "\n",
       "      q_hat  coverage  avg_size  cov_frau1  cov_nongerman  cov_nongerman_male  \\\n",
       "0  0.684322  0.910935  1.135648   0.905378       0.910683            0.928578   \n",
       "\n",
       "   cov_nongerman_female  \n",
       "0              0.881073  "
      ]
     },
     "execution_count": 71,
     "metadata": {},
     "output_type": "execute_result"
    }
   ],
   "source": [
    "cp_metrics_df"
   ]
  },
  {
   "cell_type": "markdown",
   "id": "33774451",
   "metadata": {
    "papermill": {
     "duration": 0.028142,
     "end_time": "2025-07-30T13:58:30.496293",
     "exception": false,
     "start_time": "2025-07-30T13:58:30.468151",
     "status": "completed"
    },
    "tags": []
   },
   "source": [
    "# (Fairness) Metrics"
   ]
  },
  {
   "cell_type": "code",
   "execution_count": 72,
   "id": "debc5d62",
   "metadata": {
    "execution": {
     "iopub.execute_input": "2025-07-30T13:58:30.556277Z",
     "iopub.status.busy": "2025-07-30T13:58:30.554666Z",
     "iopub.status.idle": "2025-07-30T13:58:30.589907Z",
     "shell.execute_reply": "2025-07-30T13:58:30.588723Z"
    },
    "papermill": {
     "duration": 0.067402,
     "end_time": "2025-07-30T13:58:30.592095",
     "exception": false,
     "start_time": "2025-07-30T13:58:30.524693",
     "status": "completed"
    },
    "tags": []
   },
   "outputs": [],
   "source": [
    "# do I need to include maxdeutsch1.missing?\n",
    "\n",
    "import numpy as np\n",
    "\n",
    "colname_to_bin = \"maxdeutsch1\"\n",
    "majority_value = org_train[colname_to_bin].mode()[0]\n",
    "\n",
    "org_test[\"majmin\"] = np.where(org_test[colname_to_bin] == majority_value, \"majority\", \"minority\")"
   ]
  },
  {
   "cell_type": "code",
   "execution_count": 73,
   "id": "06a50de5",
   "metadata": {
    "execution": {
     "iopub.execute_input": "2025-07-30T13:58:30.646054Z",
     "iopub.status.busy": "2025-07-30T13:58:30.645597Z",
     "iopub.status.idle": "2025-07-30T13:58:32.918673Z",
     "shell.execute_reply": "2025-07-30T13:58:32.917702Z"
    },
    "papermill": {
     "duration": 2.301122,
     "end_time": "2025-07-30T13:58:32.920557",
     "exception": false,
     "start_time": "2025-07-30T13:58:30.619435",
     "status": "completed"
    },
    "tags": []
   },
   "outputs": [],
   "source": [
    "example_universe = universe.copy()\n",
    "example_universe[\"cutoff\"] = example_universe[\"cutoff\"][0]\n",
    "example_universe[\"eval_fairness_grouping\"] = example_universe[\"eval_fairness_grouping\"][0]\n",
    "fairness_dict, metric_frame = universe_analysis.compute_metrics(\n",
    "    example_universe,\n",
    "    y_pred_prob=probs_test,\n",
    "    y_test=y_true,\n",
    "    org_test=org_test,\n",
    ")"
   ]
  },
  {
   "cell_type": "markdown",
   "id": "f95d4e02",
   "metadata": {
    "papermill": {
     "duration": 0.027209,
     "end_time": "2025-07-30T13:58:32.977057",
     "exception": false,
     "start_time": "2025-07-30T13:58:32.949848",
     "status": "completed"
    },
    "tags": []
   },
   "source": [
    "# Overall"
   ]
  },
  {
   "cell_type": "markdown",
   "id": "bdee4871",
   "metadata": {
    "papermill": {
     "duration": 0.026126,
     "end_time": "2025-07-30T13:58:33.029606",
     "exception": false,
     "start_time": "2025-07-30T13:58:33.003480",
     "status": "completed"
    },
    "tags": []
   },
   "source": [
    "Fairness\n",
    "Main fairness target: Equalized Odds. Seems to be a better fit than equal opportunity, since we're not only interested in Y = 1. Seems to be a better fit than demographic parity, since we also care about accuracy, not just equal distribution of preds.\n",
    "\n",
    "Pick column for computation of fairness metrics\n",
    "\n",
    "Performance\n",
    "Overall performance measures, most interesting in relation to the measures split by group below"
   ]
  },
  {
   "cell_type": "code",
   "execution_count": 74,
   "id": "c4e067c6",
   "metadata": {
    "execution": {
     "iopub.execute_input": "2025-07-30T13:58:33.084771Z",
     "iopub.status.busy": "2025-07-30T13:58:33.084269Z",
     "iopub.status.idle": "2025-07-30T13:58:33.092783Z",
     "shell.execute_reply": "2025-07-30T13:58:33.091809Z"
    },
    "papermill": {
     "duration": 0.037022,
     "end_time": "2025-07-30T13:58:33.094436",
     "exception": false,
     "start_time": "2025-07-30T13:58:33.057414",
     "status": "completed"
    },
    "tags": []
   },
   "outputs": [
    {
     "data": {
      "text/plain": [
       "accuracy                   0.224022\n",
       "balanced accuracy          0.547838\n",
       "f1                         0.245363\n",
       "precision                  0.140168\n",
       "false positive rate        0.887727\n",
       "false negative rate        0.016597\n",
       "selection rate             0.900000\n",
       "count                  89710.000000\n",
       "dtype: float64"
      ]
     },
     "execution_count": 74,
     "metadata": {},
     "output_type": "execute_result"
    }
   ],
   "source": [
    "metric_frame.overall"
   ]
  },
  {
   "cell_type": "markdown",
   "id": "e968fe9d",
   "metadata": {
    "papermill": {
     "duration": 0.024719,
     "end_time": "2025-07-30T13:58:33.145046",
     "exception": false,
     "start_time": "2025-07-30T13:58:33.120327",
     "status": "completed"
    },
    "tags": []
   },
   "source": [
    "By Group"
   ]
  },
  {
   "cell_type": "code",
   "execution_count": 75,
   "id": "ec325bce",
   "metadata": {
    "execution": {
     "iopub.execute_input": "2025-07-30T13:58:33.195920Z",
     "iopub.status.busy": "2025-07-30T13:58:33.195263Z",
     "iopub.status.idle": "2025-07-30T13:58:33.212639Z",
     "shell.execute_reply": "2025-07-30T13:58:33.211704Z"
    },
    "papermill": {
     "duration": 0.044829,
     "end_time": "2025-07-30T13:58:33.214262",
     "exception": false,
     "start_time": "2025-07-30T13:58:33.169433",
     "status": "completed"
    },
    "tags": []
   },
   "outputs": [
    {
     "data": {
      "text/html": [
       "<div>\n",
       "<style scoped>\n",
       "    .dataframe tbody tr th:only-of-type {\n",
       "        vertical-align: middle;\n",
       "    }\n",
       "\n",
       "    .dataframe tbody tr th {\n",
       "        vertical-align: top;\n",
       "    }\n",
       "\n",
       "    .dataframe thead th {\n",
       "        text-align: right;\n",
       "    }\n",
       "</style>\n",
       "<table border=\"1\" class=\"dataframe\">\n",
       "  <thead>\n",
       "    <tr style=\"text-align: right;\">\n",
       "      <th></th>\n",
       "      <th>accuracy</th>\n",
       "      <th>balanced accuracy</th>\n",
       "      <th>f1</th>\n",
       "      <th>precision</th>\n",
       "      <th>false positive rate</th>\n",
       "      <th>false negative rate</th>\n",
       "      <th>selection rate</th>\n",
       "      <th>count</th>\n",
       "    </tr>\n",
       "    <tr>\n",
       "      <th>majmin</th>\n",
       "      <th></th>\n",
       "      <th></th>\n",
       "      <th></th>\n",
       "      <th></th>\n",
       "      <th></th>\n",
       "      <th></th>\n",
       "      <th></th>\n",
       "      <th></th>\n",
       "    </tr>\n",
       "  </thead>\n",
       "  <tbody>\n",
       "    <tr>\n",
       "      <th>majority</th>\n",
       "      <td>0.244976</td>\n",
       "      <td>0.557311</td>\n",
       "      <td>0.255768</td>\n",
       "      <td>0.147035</td>\n",
       "      <td>0.867216</td>\n",
       "      <td>0.018162</td>\n",
       "      <td>0.882362</td>\n",
       "      <td>69170.0</td>\n",
       "    </tr>\n",
       "    <tr>\n",
       "      <th>minority</th>\n",
       "      <td>0.153457</td>\n",
       "      <td>0.516981</td>\n",
       "      <td>0.212286</td>\n",
       "      <td>0.118898</td>\n",
       "      <td>0.955481</td>\n",
       "      <td>0.010557</td>\n",
       "      <td>0.959396</td>\n",
       "      <td>20540.0</td>\n",
       "    </tr>\n",
       "  </tbody>\n",
       "</table>\n",
       "</div>"
      ],
      "text/plain": [
       "          accuracy  balanced accuracy        f1  precision  \\\n",
       "majmin                                                       \n",
       "majority  0.244976           0.557311  0.255768   0.147035   \n",
       "minority  0.153457           0.516981  0.212286   0.118898   \n",
       "\n",
       "          false positive rate  false negative rate  selection rate    count  \n",
       "majmin                                                                       \n",
       "majority             0.867216             0.018162        0.882362  69170.0  \n",
       "minority             0.955481             0.010557        0.959396  20540.0  "
      ]
     },
     "execution_count": 75,
     "metadata": {},
     "output_type": "execute_result"
    }
   ],
   "source": [
    "metric_frame.by_group"
   ]
  },
  {
   "cell_type": "code",
   "execution_count": 76,
   "id": "a9ddbe63",
   "metadata": {
    "execution": {
     "iopub.execute_input": "2025-07-30T13:58:33.267584Z",
     "iopub.status.busy": "2025-07-30T13:58:33.267157Z",
     "iopub.status.idle": "2025-07-30T13:58:35.565017Z",
     "shell.execute_reply": "2025-07-30T13:58:35.563919Z"
    },
    "papermill": {
     "duration": 2.3255,
     "end_time": "2025-07-30T13:58:35.566554",
     "exception": false,
     "start_time": "2025-07-30T13:58:33.241054",
     "status": "completed"
    },
    "tags": []
   },
   "outputs": [
    {
     "data": {
      "text/plain": [
       "array([[<Axes: title={'center': 'accuracy'}, xlabel='majmin'>,\n",
       "        <Axes: title={'center': 'balanced accuracy'}, xlabel='majmin'>,\n",
       "        <Axes: title={'center': 'f1'}, xlabel='majmin'>],\n",
       "       [<Axes: title={'center': 'precision'}, xlabel='majmin'>,\n",
       "        <Axes: title={'center': 'false positive rate'}, xlabel='majmin'>,\n",
       "        <Axes: title={'center': 'false negative rate'}, xlabel='majmin'>],\n",
       "       [<Axes: title={'center': 'selection rate'}, xlabel='majmin'>,\n",
       "        <Axes: title={'center': 'count'}, xlabel='majmin'>,\n",
       "        <Axes: xlabel='majmin'>]], dtype=object)"
      ]
     },
     "execution_count": 76,
     "metadata": {},
     "output_type": "execute_result"
    },
    {
     "data": {
      "image/png": "[encoded data removed]",
      "text/plain": [
       "<Figure size 1200x800 with 9 Axes>"
      ]
     },
     "metadata": {},
     "output_type": "display_data"
    }
   ],
   "source": [
    "# In a graphic\n",
    "metric_frame.by_group.plot.bar(\n",
    "    subplots=True,\n",
    "    layout=[3, 3],\n",
    "    legend=False,\n",
    "    figsize=[12, 8],\n",
    "    title=\"Show all metrics\",\n",
    ")"
   ]
  },
  {
   "cell_type": "markdown",
   "id": "f57a0bac",
   "metadata": {
    "papermill": {
     "duration": 0.027317,
     "end_time": "2025-07-30T13:58:35.621177",
     "exception": false,
     "start_time": "2025-07-30T13:58:35.593860",
     "status": "completed"
    },
    "tags": []
   },
   "source": [
    "# Final Output"
   ]
  },
  {
   "cell_type": "code",
   "execution_count": 77,
   "id": "96d280a3",
   "metadata": {
    "execution": {
     "iopub.execute_input": "2025-07-30T13:58:35.677759Z",
     "iopub.status.busy": "2025-07-30T13:58:35.676863Z",
     "iopub.status.idle": "2025-07-30T13:58:35.685932Z",
     "shell.execute_reply": "2025-07-30T13:58:35.685049Z"
    },
    "papermill": {
     "duration": 0.038264,
     "end_time": "2025-07-30T13:58:35.687387",
     "exception": false,
     "start_time": "2025-07-30T13:58:35.649123",
     "status": "completed"
    },
    "tags": []
   },
   "outputs": [
    {
     "data": {
      "text/plain": [
       "4"
      ]
     },
     "execution_count": 77,
     "metadata": {},
     "output_type": "execute_result"
    }
   ],
   "source": [
    "sub_universes = universe_analysis.generate_sub_universes()\n",
    "len(sub_universes)"
   ]
  },
  {
   "cell_type": "code",
   "execution_count": 78,
   "id": "92adf7ba",
   "metadata": {
    "execution": {
     "iopub.execute_input": "2025-07-30T13:58:35.744420Z",
     "iopub.status.busy": "2025-07-30T13:58:35.743895Z",
     "iopub.status.idle": "2025-07-30T13:58:35.749815Z",
     "shell.execute_reply": "2025-07-30T13:58:35.748832Z"
    },
    "papermill": {
     "duration": 0.036696,
     "end_time": "2025-07-30T13:58:35.751365",
     "exception": false,
     "start_time": "2025-07-30T13:58:35.714669",
     "status": "completed"
    },
    "tags": []
   },
   "outputs": [],
   "source": [
    "def filter_sub_universe_data(sub_universe, org_test):\n",
    "    # Keep all rows — no filtering\n",
    "    keep_rows_mask = np.ones(org_test.shape[0], dtype=bool)\n",
    "\n",
    "    print(f\"[INFO] Keeping all rows: {keep_rows_mask.sum()} rows retained.\")\n",
    "    return keep_rows_mask"
   ]
  },
  {
   "cell_type": "code",
   "execution_count": 79,
   "id": "4a759155",
   "metadata": {
    "execution": {
     "iopub.execute_input": "2025-07-30T13:58:35.809206Z",
     "iopub.status.busy": "2025-07-30T13:58:35.808773Z",
     "iopub.status.idle": "2025-07-30T13:58:45.614006Z",
     "shell.execute_reply": "2025-07-30T13:58:45.612861Z"
    },
    "papermill": {
     "duration": 9.835084,
     "end_time": "2025-07-30T13:58:45.615583",
     "exception": false,
     "start_time": "2025-07-30T13:58:35.780499",
     "status": "completed"
    },
    "tags": []
   },
   "outputs": [
    {
     "name": "stdout",
     "output_type": "stream",
     "text": [
      "Stopping execution_time clock.\n",
      "[INFO] Keeping all rows: 89710 rows retained.\n"
     ]
    },
    {
     "name": "stdout",
     "output_type": "stream",
     "text": [
      "[INFO] Keeping all rows: 89710 rows retained.\n"
     ]
    },
    {
     "name": "stdout",
     "output_type": "stream",
     "text": [
      "[INFO] Keeping all rows: 89710 rows retained.\n"
     ]
    },
    {
     "name": "stdout",
     "output_type": "stream",
     "text": [
      "[INFO] Keeping all rows: 89710 rows retained.\n"
     ]
    },
    {
     "data": {
      "text/html": [
       "<div>\n",
       "<style scoped>\n",
       "    .dataframe tbody tr th:only-of-type {\n",
       "        vertical-align: middle;\n",
       "    }\n",
       "\n",
       "    .dataframe tbody tr th {\n",
       "        vertical-align: top;\n",
       "    }\n",
       "\n",
       "    .dataframe thead th {\n",
       "        text-align: right;\n",
       "    }\n",
       "</style>\n",
       "<table border=\"1\" class=\"dataframe\">\n",
       "  <thead>\n",
       "    <tr style=\"text-align: right;\">\n",
       "      <th></th>\n",
       "      <th>run_no</th>\n",
       "      <th>universe_id</th>\n",
       "      <th>universe_settings</th>\n",
       "      <th>execution_time</th>\n",
       "      <th>test_size_n</th>\n",
       "      <th>test_size_frac</th>\n",
       "      <th>fair_main_equalized_odds_difference</th>\n",
       "      <th>fair_main_equalized_odds_ratio</th>\n",
       "      <th>fair_main_demographic_parity_difference</th>\n",
       "      <th>fair_main_demographic_parity_ratio</th>\n",
       "      <th>...</th>\n",
       "      <th>perf_grp_precision_0</th>\n",
       "      <th>perf_grp_precision_1</th>\n",
       "      <th>perf_grp_false positive rate_0</th>\n",
       "      <th>perf_grp_false positive rate_1</th>\n",
       "      <th>perf_grp_false negative rate_0</th>\n",
       "      <th>perf_grp_false negative rate_1</th>\n",
       "      <th>perf_grp_selection rate_0</th>\n",
       "      <th>perf_grp_selection rate_1</th>\n",
       "      <th>perf_grp_count_0</th>\n",
       "      <th>perf_grp_count_1</th>\n",
       "    </tr>\n",
       "  </thead>\n",
       "  <tbody>\n",
       "    <tr>\n",
       "      <th>0</th>\n",
       "      <td>12</td>\n",
       "      <td>77ccf370906521224baaf2bf0c594bc7</td>\n",
       "      <td>{\"cutoff\": \"quantile_0.1\", \"eval_fairness_grou...</td>\n",
       "      <td>38.350887</td>\n",
       "      <td>89710</td>\n",
       "      <td>1.0</td>\n",
       "      <td>0.088265</td>\n",
       "      <td>0.907623</td>\n",
       "      <td>0.077034</td>\n",
       "      <td>0.919706</td>\n",
       "      <td>...</td>\n",
       "      <td>NaN</td>\n",
       "      <td>NaN</td>\n",
       "      <td>NaN</td>\n",
       "      <td>NaN</td>\n",
       "      <td>NaN</td>\n",
       "      <td>NaN</td>\n",
       "      <td>NaN</td>\n",
       "      <td>NaN</td>\n",
       "      <td>NaN</td>\n",
       "      <td>NaN</td>\n",
       "    </tr>\n",
       "    <tr>\n",
       "      <th>0</th>\n",
       "      <td>12</td>\n",
       "      <td>77ccf370906521224baaf2bf0c594bc7</td>\n",
       "      <td>{\"cutoff\": \"quantile_0.1\", \"eval_fairness_grou...</td>\n",
       "      <td>38.350887</td>\n",
       "      <td>89710</td>\n",
       "      <td>1.0</td>\n",
       "      <td>0.088265</td>\n",
       "      <td>0.907623</td>\n",
       "      <td>0.077034</td>\n",
       "      <td>0.919706</td>\n",
       "      <td>...</td>\n",
       "      <td>0.118898</td>\n",
       "      <td>0.147035</td>\n",
       "      <td>0.955481</td>\n",
       "      <td>0.867216</td>\n",
       "      <td>0.010557</td>\n",
       "      <td>0.018162</td>\n",
       "      <td>0.959396</td>\n",
       "      <td>0.882362</td>\n",
       "      <td>20540.0</td>\n",
       "      <td>69170.0</td>\n",
       "    </tr>\n",
       "    <tr>\n",
       "      <th>0</th>\n",
       "      <td>12</td>\n",
       "      <td>77ccf370906521224baaf2bf0c594bc7</td>\n",
       "      <td>{\"cutoff\": \"quantile_0.25\", \"eval_fairness_gro...</td>\n",
       "      <td>38.350887</td>\n",
       "      <td>89710</td>\n",
       "      <td>1.0</td>\n",
       "      <td>0.166678</td>\n",
       "      <td>0.803982</td>\n",
       "      <td>0.145614</td>\n",
       "      <td>0.831127</td>\n",
       "      <td>...</td>\n",
       "      <td>NaN</td>\n",
       "      <td>NaN</td>\n",
       "      <td>NaN</td>\n",
       "      <td>NaN</td>\n",
       "      <td>NaN</td>\n",
       "      <td>NaN</td>\n",
       "      <td>NaN</td>\n",
       "      <td>NaN</td>\n",
       "      <td>NaN</td>\n",
       "      <td>NaN</td>\n",
       "    </tr>\n",
       "    <tr>\n",
       "      <th>0</th>\n",
       "      <td>12</td>\n",
       "      <td>77ccf370906521224baaf2bf0c594bc7</td>\n",
       "      <td>{\"cutoff\": \"quantile_0.25\", \"eval_fairness_gro...</td>\n",
       "      <td>38.350887</td>\n",
       "      <td>89710</td>\n",
       "      <td>1.0</td>\n",
       "      <td>0.166678</td>\n",
       "      <td>0.803982</td>\n",
       "      <td>0.145614</td>\n",
       "      <td>0.831127</td>\n",
       "      <td>...</td>\n",
       "      <td>0.127548</td>\n",
       "      <td>0.172117</td>\n",
       "      <td>0.850319</td>\n",
       "      <td>0.683642</td>\n",
       "      <td>0.046030</td>\n",
       "      <td>0.066521</td>\n",
       "      <td>0.862269</td>\n",
       "      <td>0.716655</td>\n",
       "      <td>20540.0</td>\n",
       "      <td>69170.0</td>\n",
       "    </tr>\n",
       "  </tbody>\n",
       "</table>\n",
       "<p>4 rows × 50 columns</p>\n",
       "</div>"
      ],
      "text/plain": [
       "  run_no                       universe_id  \\\n",
       "0     12  77ccf370906521224baaf2bf0c594bc7   \n",
       "0     12  77ccf370906521224baaf2bf0c594bc7   \n",
       "0     12  77ccf370906521224baaf2bf0c594bc7   \n",
       "0     12  77ccf370906521224baaf2bf0c594bc7   \n",
       "\n",
       "                                   universe_settings  execution_time  \\\n",
       "0  {\"cutoff\": \"quantile_0.1\", \"eval_fairness_grou...       38.350887   \n",
       "0  {\"cutoff\": \"quantile_0.1\", \"eval_fairness_grou...       38.350887   \n",
       "0  {\"cutoff\": \"quantile_0.25\", \"eval_fairness_gro...       38.350887   \n",
       "0  {\"cutoff\": \"quantile_0.25\", \"eval_fairness_gro...       38.350887   \n",
       "\n",
       "   test_size_n  test_size_frac  fair_main_equalized_odds_difference  \\\n",
       "0        89710             1.0                             0.088265   \n",
       "0        89710             1.0                             0.088265   \n",
       "0        89710             1.0                             0.166678   \n",
       "0        89710             1.0                             0.166678   \n",
       "\n",
       "   fair_main_equalized_odds_ratio  fair_main_demographic_parity_difference  \\\n",
       "0                        0.907623                                 0.077034   \n",
       "0                        0.907623                                 0.077034   \n",
       "0                        0.803982                                 0.145614   \n",
       "0                        0.803982                                 0.145614   \n",
       "\n",
       "   fair_main_demographic_parity_ratio  ...  perf_grp_precision_0  \\\n",
       "0                            0.919706  ...                   NaN   \n",
       "0                            0.919706  ...              0.118898   \n",
       "0                            0.831127  ...                   NaN   \n",
       "0                            0.831127  ...              0.127548   \n",
       "\n",
       "   perf_grp_precision_1  perf_grp_false positive rate_0  \\\n",
       "0                   NaN                             NaN   \n",
       "0              0.147035                        0.955481   \n",
       "0                   NaN                             NaN   \n",
       "0              0.172117                        0.850319   \n",
       "\n",
       "   perf_grp_false positive rate_1  perf_grp_false negative rate_0  \\\n",
       "0                             NaN                             NaN   \n",
       "0                        0.867216                        0.010557   \n",
       "0                             NaN                             NaN   \n",
       "0                        0.683642                        0.046030   \n",
       "\n",
       "   perf_grp_false negative rate_1  perf_grp_selection rate_0  \\\n",
       "0                             NaN                        NaN   \n",
       "0                        0.018162                   0.959396   \n",
       "0                             NaN                        NaN   \n",
       "0                        0.066521                   0.862269   \n",
       "\n",
       "   perf_grp_selection rate_1  perf_grp_count_0  perf_grp_count_1  \n",
       "0                        NaN               NaN               NaN  \n",
       "0                   0.882362           20540.0           69170.0  \n",
       "0                        NaN               NaN               NaN  \n",
       "0                   0.716655           20540.0           69170.0  \n",
       "\n",
       "[4 rows x 50 columns]"
      ]
     },
     "execution_count": 79,
     "metadata": {},
     "output_type": "execute_result"
    }
   ],
   "source": [
    "final_output = universe_analysis.generate_final_output(\n",
    "    y_pred_prob=probs_test,\n",
    "    y_test=y_true,\n",
    "    org_test=org_test,\n",
    "    filter_data=filter_sub_universe_data,\n",
    "    cp_metrics_df=cp_metrics_df,\n",
    "    save=True,\n",
    ")\n",
    "final_output"
   ]
  },
  {
   "cell_type": "code",
   "execution_count": null,
   "id": "721ff514-cb11-46f8-b6fc-50392f74b5cb",
   "metadata": {
    "papermill": {
     "duration": 0.028378,
     "end_time": "2025-07-30T13:58:45.674512",
     "exception": false,
     "start_time": "2025-07-30T13:58:45.646134",
     "status": "completed"
    },
    "tags": []
   },
   "outputs": [],
   "source": []
  }
 ],
 "metadata": {
  "celltoolbar": "Tags",
  "kernelspec": {
   "display_name": "Python (CMA Fairness)",
   "language": "python",
   "name": "cma_fair_env"
  },
  "language_info": {
   "codemirror_mode": {
    "name": "ipython",
    "version": 3
   },
   "file_extension": ".py",
   "mimetype": "text/x-python",
   "name": "python",
   "nbconvert_exporter": "python",
   "pygments_lexer": "ipython3",
   "version": "3.10.12"
  },
  "papermill": {
   "default_parameters": {},
   "duration": 52.445308,
   "end_time": "2025-07-30T13:58:46.422108",
   "environment_variables": {},
   "exception": null,
   "input_path": "universe_analysis.ipynb",
   "output_path": "output/runs/12/notebooks/m_12-77ccf370906521224baaf2bf0c594bc7.ipynb",
   "parameters": {
    "output_dir": "output",
    "run_no": "12",
    "seed": "2023",
    "universe": "{\"cutoff\": [\"quantile_0.1\", \"quantile_0.25\"], \"eval_fairness_grouping\": [\"majority-minority\", \"nationality-all\"], \"exclude_features\": \"nationality\", \"exclude_subgroups\": \"keep-all\", \"model\": \"elasticnet\", \"scale\": \"scale\", \"training_size\": \"5k\", \"training_year\": \"2012_14\"}",
    "universe_id": "77ccf370906521224baaf2bf0c594bc7"
   },
   "start_time": "2025-07-30T13:57:53.976800",
   "version": "2.6.0"
  }
 },
 "nbformat": 4,
 "nbformat_minor": 5
}