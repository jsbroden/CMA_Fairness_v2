{
 "cells": [
  {
   "cell_type": "code",
   "execution_count": 1,
   "id": "f159f837-637b-42ba-96b5-ec9a68c44524",
   "metadata": {
    "execution": {
     "iopub.execute_input": "2025-07-30T13:56:49.212078Z",
     "iopub.status.busy": "2025-07-30T13:56:49.211416Z",
     "iopub.status.idle": "2025-07-30T13:56:49.225392Z",
     "shell.execute_reply": "2025-07-30T13:56:49.224298Z"
    },
    "papermill": {
     "duration": 0.035378,
     "end_time": "2025-07-30T13:56:49.227269",
     "exception": false,
     "start_time": "2025-07-30T13:56:49.191891",
     "status": "completed"
    },
    "tags": []
   },
   "outputs": [
    {
     "name": "stdout",
     "output_type": "stream",
     "text": [
      "/dss/dsshome1/0C/ra93lal2/cma/CMA_Fairness_v2\n"
     ]
    },
    {
     "name": "stderr",
     "output_type": "stream",
     "text": [
      "/dss/dsshome1/0C/ra93lal2/.local/share/virtualenvs/CMA_Fairness_v2-3j10GkSs/lib/python3.10/site-packages/IPython/core/magics/osm.py:393: UserWarning: This is now an optional IPython functionality, using bookmarks requires you to install the `pickleshare` library.\n",
      "  bkms = self.shell.db.get('bookmarks', {})\n",
      "/dss/dsshome1/0C/ra93lal2/.local/share/virtualenvs/CMA_Fairness_v2-3j10GkSs/lib/python3.10/site-packages/IPython/core/magics/osm.py:417: UserWarning: This is now an optional IPython functionality, setting dhist requires you to install the `pickleshare` library.\n",
      "  self.shell.db['dhist'] = compress_dhist(dhist)[-100:]\n"
     ]
    }
   ],
   "source": [
    "%cd ~/cma/CMA_Fairness_v2"
   ]
  },
  {
   "cell_type": "markdown",
   "id": "de2603b9",
   "metadata": {
    "papermill": {
     "duration": 0.018016,
     "end_time": "2025-07-30T13:56:49.265976",
     "exception": false,
     "start_time": "2025-07-30T13:56:49.247960",
     "status": "completed"
    },
    "tags": []
   },
   "source": [
    "The following cell holds the definition of our parameters, these values can be overriden by rendering the with e.g. the following command:\n",
    "\n",
    "papermill -p alpha 0.2 -p ratio 0.3 universe_analysis.ipynb output/test_run.ipynb"
   ]
  },
  {
   "cell_type": "code",
   "execution_count": 2,
   "id": "a80968a0-40bb-4fa9-85ef-2d5eefb01975",
   "metadata": {
    "execution": {
     "iopub.execute_input": "2025-07-30T13:56:49.303009Z",
     "iopub.status.busy": "2025-07-30T13:56:49.302435Z",
     "iopub.status.idle": "2025-07-30T13:56:49.308855Z",
     "shell.execute_reply": "2025-07-30T13:56:49.307791Z"
    },
    "papermill": {
     "duration": 0.027013,
     "end_time": "2025-07-30T13:56:49.310539",
     "exception": false,
     "start_time": "2025-07-30T13:56:49.283526",
     "status": "completed"
    },
    "tags": []
   },
   "outputs": [
    {
     "name": "stdout",
     "output_type": "stream",
     "text": [
      "Current working directory: /dss/dsshome1/0C/ra93lal2/cma/CMA_Fairness_v2\n"
     ]
    }
   ],
   "source": [
    "import os\n",
    "print(\"Current working directory:\", os.getcwd())"
   ]
  },
  {
   "cell_type": "code",
   "execution_count": 3,
   "id": "2dce4c03",
   "metadata": {
    "execution": {
     "iopub.execute_input": "2025-07-30T13:56:49.349683Z",
     "iopub.status.busy": "2025-07-30T13:56:49.349017Z",
     "iopub.status.idle": "2025-07-30T13:56:49.355261Z",
     "shell.execute_reply": "2025-07-30T13:56:49.354255Z"
    },
    "papermill": {
     "duration": 0.027503,
     "end_time": "2025-07-30T13:56:49.356857",
     "exception": false,
     "start_time": "2025-07-30T13:56:49.329354",
     "status": "completed"
    },
    "tags": [
     "parameters"
    ]
   },
   "outputs": [],
   "source": [
    "run_no = 0\n",
    "universe_id = \"test\"\n",
    "universe = {\n",
    "    \"training_size\": \"25k\", # \"25k\", \"5k\", \"1k\"\n",
    "    \"training_year\": \"2014\", # \"2014\", \"2012_14\", \"2010_14\"\n",
    "    \"scale\": \"scale\", # \"scale\", \"do-not-scale\",\n",
    "    #\"stratify_split\": \"target\", # \"none\", \"target\", \"protected-attribute\", \"both\",\n",
    "    \"model\": \"elasticnet\", # \"logreg\", \"penalized_logreg\", \"rf\", \"gbm\", \"elasticnet\"\n",
    "    \"cutoff\": [\"quantile_0.15\", \"quantile_0.30\"],\n",
    "    \"exclude_features\": \"age\", # \"none\", \"nationality\", \"sex\", \"nationality-sex\", \"age\"\n",
    "    \"exclude_subgroups\": \"keep-all\", # \"keep-all\", \"drop-non-german\"\n",
    "    \"eval_fairness_grouping\": [\"majority-minority\", \"nationality-all\"]\n",
    "}\n",
    "\n",
    "output_dir=\"./output\"\n",
    "seed=0"
   ]
  },
  {
   "cell_type": "code",
   "execution_count": 4,
   "id": "4e230e4c",
   "metadata": {
    "execution": {
     "iopub.execute_input": "2025-07-30T13:56:49.396342Z",
     "iopub.status.busy": "2025-07-30T13:56:49.395499Z",
     "iopub.status.idle": "2025-07-30T13:56:49.401024Z",
     "shell.execute_reply": "2025-07-30T13:56:49.400067Z"
    },
    "papermill": {
     "duration": 0.026208,
     "end_time": "2025-07-30T13:56:49.402754",
     "exception": false,
     "start_time": "2025-07-30T13:56:49.376546",
     "status": "completed"
    },
    "tags": [
     "injected-parameters"
    ]
   },
   "outputs": [],
   "source": [
    "# Parameters\n",
    "universe_id = \"e9afce3c4b56f3eb3a16f563e2340275\"\n",
    "run_no = \"12\"\n",
    "universe = \"{\\\"cutoff\\\": [\\\"quantile_0.1\\\", \\\"quantile_0.25\\\"], \\\"eval_fairness_grouping\\\": [\\\"majority-minority\\\", \\\"nationality-all\\\"], \\\"exclude_features\\\": \\\"none\\\", \\\"exclude_subgroups\\\": \\\"keep-all\\\", \\\"model\\\": \\\"gbm\\\", \\\"scale\\\": \\\"scale\\\", \\\"training_size\\\": \\\"5k\\\", \\\"training_year\\\": \\\"2012_14\\\"}\"\n",
    "output_dir = \"output\"\n",
    "seed = \"2023\"\n"
   ]
  },
  {
   "cell_type": "code",
   "execution_count": 5,
   "id": "1650acaf",
   "metadata": {
    "execution": {
     "iopub.execute_input": "2025-07-30T13:56:49.441551Z",
     "iopub.status.busy": "2025-07-30T13:56:49.441118Z",
     "iopub.status.idle": "2025-07-30T13:56:49.446138Z",
     "shell.execute_reply": "2025-07-30T13:56:49.445294Z"
    },
    "papermill": {
     "duration": 0.025713,
     "end_time": "2025-07-30T13:56:49.447680",
     "exception": false,
     "start_time": "2025-07-30T13:56:49.421967",
     "status": "completed"
    },
    "tags": []
   },
   "outputs": [],
   "source": [
    "import json\n",
    "# Parse universe into dict if it is passed as a string\n",
    "if isinstance(universe, str):\n",
    "    universe = json.loads(universe)"
   ]
  },
  {
   "cell_type": "code",
   "execution_count": 6,
   "id": "16620c48",
   "metadata": {
    "execution": {
     "iopub.execute_input": "2025-07-30T13:56:49.489275Z",
     "iopub.status.busy": "2025-07-30T13:56:49.488408Z",
     "iopub.status.idle": "2025-07-30T13:56:49.531795Z",
     "shell.execute_reply": "2025-07-30T13:56:49.530951Z"
    },
    "papermill": {
     "duration": 0.065316,
     "end_time": "2025-07-30T13:56:49.533702",
     "exception": false,
     "start_time": "2025-07-30T13:56:49.468386",
     "status": "completed"
    },
    "tags": []
   },
   "outputs": [],
   "source": [
    "# Auto-reload the custom package\n",
    "%load_ext autoreload\n",
    "%autoreload 1\n",
    "%aimport fairness_multiverse"
   ]
  },
  {
   "cell_type": "code",
   "execution_count": 7,
   "id": "01c5c9f3",
   "metadata": {
    "execution": {
     "iopub.execute_input": "2025-07-30T13:56:49.573270Z",
     "iopub.status.busy": "2025-07-30T13:56:49.572757Z",
     "iopub.status.idle": "2025-07-30T13:56:51.344474Z",
     "shell.execute_reply": "2025-07-30T13:56:51.343310Z"
    },
    "papermill": {
     "duration": 1.793978,
     "end_time": "2025-07-30T13:56:51.346567",
     "exception": false,
     "start_time": "2025-07-30T13:56:49.552589",
     "status": "completed"
    },
    "tags": []
   },
   "outputs": [],
   "source": [
    "from fairness_multiverse.universe import UniverseAnalysis\n",
    "\n",
    "universe_analysis = UniverseAnalysis(\n",
    "    run_no = run_no,\n",
    "    universe_id = universe_id,\n",
    "    universe = universe,\n",
    "    output_dir=output_dir,\n",
    ")"
   ]
  },
  {
   "cell_type": "code",
   "execution_count": 8,
   "id": "106241f5",
   "metadata": {
    "execution": {
     "iopub.execute_input": "2025-07-30T13:56:51.388590Z",
     "iopub.status.busy": "2025-07-30T13:56:51.387547Z",
     "iopub.status.idle": "2025-07-30T13:56:51.394963Z",
     "shell.execute_reply": "2025-07-30T13:56:51.393890Z"
    },
    "papermill": {
     "duration": 0.030329,
     "end_time": "2025-07-30T13:56:51.396858",
     "exception": false,
     "start_time": "2025-07-30T13:56:51.366529",
     "status": "completed"
    },
    "tags": []
   },
   "outputs": [
    {
     "name": "stdout",
     "output_type": "stream",
     "text": [
      "Using Seed: 2023\n"
     ]
    }
   ],
   "source": [
    "import numpy as np\n",
    "parsed_seed = int(seed)\n",
    "np.random.seed(parsed_seed)\n",
    "print(f\"Using Seed: {parsed_seed}\")"
   ]
  },
  {
   "cell_type": "markdown",
   "id": "e0ebdc57",
   "metadata": {
    "papermill": {
     "duration": 0.021326,
     "end_time": "2025-07-30T13:56:51.440796",
     "exception": false,
     "start_time": "2025-07-30T13:56:51.419470",
     "status": "completed"
    },
    "tags": []
   },
   "source": [
    "# Loading Data"
   ]
  },
  {
   "cell_type": "markdown",
   "id": "681925a3",
   "metadata": {
    "papermill": {
     "duration": 0.02092,
     "end_time": "2025-07-30T13:56:51.482588",
     "exception": false,
     "start_time": "2025-07-30T13:56:51.461668",
     "status": "completed"
    },
    "tags": []
   },
   "source": [
    "Load siab_train, siab_test, siab_calib and/or \n",
    "load siab_train_features, siab_train_labels"
   ]
  },
  {
   "cell_type": "code",
   "execution_count": 9,
   "id": "f0496b8a",
   "metadata": {
    "execution": {
     "iopub.execute_input": "2025-07-30T13:56:51.526009Z",
     "iopub.status.busy": "2025-07-30T13:56:51.525042Z",
     "iopub.status.idle": "2025-07-30T13:57:04.434331Z",
     "shell.execute_reply": "2025-07-30T13:57:04.433137Z"
    },
    "papermill": {
     "duration": 12.933448,
     "end_time": "2025-07-30T13:57:04.436702",
     "exception": false,
     "start_time": "2025-07-30T13:56:51.503254",
     "status": "completed"
    },
    "tags": []
   },
   "outputs": [
    {
     "name": "stdout",
     "output_type": "stream",
     "text": [
      "Loading SIAB data from cache: data/siab_cached.csv.gz\n"
     ]
    },
    {
     "name": "stdout",
     "output_type": "stream",
     "text": [
      "(643690, 164)\n"
     ]
    }
   ],
   "source": [
    "from pathlib import Path\n",
    "import pandas as pd\n",
    "\n",
    "# File paths\n",
    "raw_file = Path(\"data/raw/siab.csv\")\n",
    "cache_file = Path(\"data/siab_cached.csv.gz\")\n",
    "\n",
    "# Ensure cache directory exists\n",
    "cache_file.parent.mkdir(parents=True, exist_ok=True)\n",
    "\n",
    "# Load with simple caching\n",
    "if cache_file.exists():\n",
    "    print(f\"Loading SIAB data from cache: {cache_file}\")\n",
    "    siab = pd.read_csv(cache_file, compression='gzip')\n",
    "else:\n",
    "    print(f\"Cache not found. Reading raw SIAB data: {raw_file}\")\n",
    "    siab = pd.read_csv(raw_file)\n",
    "    siab.to_csv(cache_file, index=False, compression='gzip')\n",
    "    print(f\"Cached SIAB data to: {cache_file}\")\n",
    "\n",
    "# Now use `siab` DataFrame as needed\n",
    "print(siab.shape)"
   ]
  },
  {
   "cell_type": "code",
   "execution_count": 10,
   "id": "db0ca512-5f53-4dba-abdb-a2888bca41ba",
   "metadata": {
    "execution": {
     "iopub.execute_input": "2025-07-30T13:57:04.501015Z",
     "iopub.status.busy": "2025-07-30T13:57:04.500527Z",
     "iopub.status.idle": "2025-07-30T13:57:04.506285Z",
     "shell.execute_reply": "2025-07-30T13:57:04.505256Z"
    },
    "papermill": {
     "duration": 0.045835,
     "end_time": "2025-07-30T13:57:04.507920",
     "exception": false,
     "start_time": "2025-07-30T13:57:04.462085",
     "status": "completed"
    },
    "tags": []
   },
   "outputs": [],
   "source": [
    "#siab"
   ]
  },
  {
   "cell_type": "code",
   "execution_count": 11,
   "id": "a0edb063",
   "metadata": {
    "execution": {
     "iopub.execute_input": "2025-07-30T13:57:04.552129Z",
     "iopub.status.busy": "2025-07-30T13:57:04.551428Z",
     "iopub.status.idle": "2025-07-30T13:57:04.556732Z",
     "shell.execute_reply": "2025-07-30T13:57:04.555747Z"
    },
    "papermill": {
     "duration": 0.028714,
     "end_time": "2025-07-30T13:57:04.558740",
     "exception": false,
     "start_time": "2025-07-30T13:57:04.530026",
     "status": "completed"
    },
    "tags": []
   },
   "outputs": [],
   "source": [
    "#import pandas as pd\n",
    "#\n",
    "#X_train = pd.read_csv(\"./data/X_train.csv\")\n",
    "#y_train = pd.read_csv(\"./data/y_train.csv\")"
   ]
  },
  {
   "cell_type": "code",
   "execution_count": 12,
   "id": "63d08085",
   "metadata": {
    "execution": {
     "iopub.execute_input": "2025-07-30T13:57:04.603835Z",
     "iopub.status.busy": "2025-07-30T13:57:04.603419Z",
     "iopub.status.idle": "2025-07-30T13:57:04.612905Z",
     "shell.execute_reply": "2025-07-30T13:57:04.607729Z"
    },
    "papermill": {
     "duration": 0.033991,
     "end_time": "2025-07-30T13:57:04.615054",
     "exception": false,
     "start_time": "2025-07-30T13:57:04.581063",
     "status": "completed"
    },
    "tags": []
   },
   "outputs": [],
   "source": [
    "#X_test = pd.read_csv(\"./data/X_test.csv\")\n",
    "#y_true = pd.read_csv(\"./data/y_test.csv\")"
   ]
  },
  {
   "cell_type": "code",
   "execution_count": 13,
   "id": "98a8d0fa-1d3d-4ed8-bb2c-281470e24add",
   "metadata": {
    "execution": {
     "iopub.execute_input": "2025-07-30T13:57:04.662493Z",
     "iopub.status.busy": "2025-07-30T13:57:04.662078Z",
     "iopub.status.idle": "2025-07-30T13:57:04.667652Z",
     "shell.execute_reply": "2025-07-30T13:57:04.666461Z"
    },
    "papermill": {
     "duration": 0.03176,
     "end_time": "2025-07-30T13:57:04.671293",
     "exception": false,
     "start_time": "2025-07-30T13:57:04.639533",
     "status": "completed"
    },
    "tags": []
   },
   "outputs": [],
   "source": [
    "# Calibration data for conformal\n",
    "#X_calib = pd.read_csv(\"./data/X_calib.csv\")\n",
    "#y_calib = pd.read_csv(\"./data/y_calib.csv\")"
   ]
  },
  {
   "cell_type": "markdown",
   "id": "997051c5-15bd-4b69-9786-c3001a3ce484",
   "metadata": {
    "papermill": {
     "duration": 0.020934,
     "end_time": "2025-07-30T13:57:04.714376",
     "exception": false,
     "start_time": "2025-07-30T13:57:04.693442",
     "status": "completed"
    },
    "tags": []
   },
   "source": [
    "# Splitting Data and Setting Training Data Size"
   ]
  },
  {
   "cell_type": "code",
   "execution_count": 14,
   "id": "e993b61f-042d-41a6-8c81-f55681f86335",
   "metadata": {
    "execution": {
     "iopub.execute_input": "2025-07-30T13:57:04.759487Z",
     "iopub.status.busy": "2025-07-30T13:57:04.759109Z",
     "iopub.status.idle": "2025-07-30T13:57:04.775925Z",
     "shell.execute_reply": "2025-07-30T13:57:04.774630Z"
    },
    "papermill": {
     "duration": 0.047691,
     "end_time": "2025-07-30T13:57:04.785154",
     "exception": false,
     "start_time": "2025-07-30T13:57:04.737463",
     "status": "completed"
    },
    "tags": []
   },
   "outputs": [],
   "source": [
    "def sample_by_year_size(df,\n",
    "                        training_year: str,\n",
    "                        training_size: str,\n",
    "                        random_state: int = 42):\n",
    "    # --- parse training_year into a list of int years ---\n",
    "    if \"_\" in training_year:\n",
    "        start_str, end_str = training_year.split(\"_\", 1)\n",
    "        start = int(start_str)\n",
    "        end   = int(end_str) if len(end_str) == 4 else (int(end_str) + (start // 100)*100)\n",
    "        years = list(range(start, end + 1))\n",
    "    else:\n",
    "        years = [int(training_year)]\n",
    "\n",
    "    df = df[df[\"year\"].isin(years)].reset_index(drop=True)\n",
    "\n",
    "    # --- map training_size to total number of samples ---\n",
    "    total_map = {\"25k\": 25_000, \"5k\": 5_000, \"1k\": 1_000}\n",
    "    if training_size not in total_map:\n",
    "        return df  # e.g. \"all\"\n",
    "\n",
    "    total_samples = total_map[training_size]\n",
    "    n_years       = len(years)\n",
    "    base          = total_samples // n_years\n",
    "    remainder     = total_samples % n_years\n",
    "\n",
    "    # --- build a dict: year -> how many to sample ---\n",
    "    # give +1 to the first `remainder` years in ascending order\n",
    "    quotas = {\n",
    "        year: base + (1 if idx < remainder else 0)\n",
    "        for idx, year in enumerate(sorted(years))\n",
    "    }\n",
    "\n",
    "    # --- sample per‐year according to the quota dict ---\n",
    "    sampled = (\n",
    "        df\n",
    "        .groupby(\"year\", group_keys=False)\n",
    "        .apply(lambda grp: grp.sample(\n",
    "            n=min(len(grp), quotas[grp.name]),\n",
    "            random_state=random_state))\n",
    "        .reset_index(drop=True)\n",
    "    )\n",
    "\n",
    "    return sampled"
   ]
  },
  {
   "cell_type": "code",
   "execution_count": 15,
   "id": "c0ccd338-0e02-41f3-a09d-f56f9266e3fb",
   "metadata": {
    "execution": {
     "iopub.execute_input": "2025-07-30T13:57:04.829260Z",
     "iopub.status.busy": "2025-07-30T13:57:04.828763Z",
     "iopub.status.idle": "2025-07-30T13:57:04.840597Z",
     "shell.execute_reply": "2025-07-30T13:57:04.839429Z"
    },
    "papermill": {
     "duration": 0.03558,
     "end_time": "2025-07-30T13:57:04.842161",
     "exception": false,
     "start_time": "2025-07-30T13:57:04.806581",
     "status": "completed"
    },
    "tags": []
   },
   "outputs": [
    {
     "data": {
      "text/plain": [
       "'5k'"
      ]
     },
     "execution_count": 15,
     "metadata": {},
     "output_type": "execute_result"
    }
   ],
   "source": [
    "universe[\"training_size\"]"
   ]
  },
  {
   "cell_type": "code",
   "execution_count": 16,
   "id": "ca707fd7-8047-4acd-bfa5-66248fbbf8e6",
   "metadata": {
    "execution": {
     "iopub.execute_input": "2025-07-30T13:57:04.887929Z",
     "iopub.status.busy": "2025-07-30T13:57:04.887422Z",
     "iopub.status.idle": "2025-07-30T13:57:04.895094Z",
     "shell.execute_reply": "2025-07-30T13:57:04.893897Z"
    },
    "papermill": {
     "duration": 0.03373,
     "end_time": "2025-07-30T13:57:04.897437",
     "exception": false,
     "start_time": "2025-07-30T13:57:04.863707",
     "status": "completed"
    },
    "tags": []
   },
   "outputs": [
    {
     "data": {
      "text/plain": [
       "'2012_14'"
      ]
     },
     "execution_count": 16,
     "metadata": {},
     "output_type": "execute_result"
    }
   ],
   "source": [
    "universe[\"training_year\"]"
   ]
  },
  {
   "cell_type": "code",
   "execution_count": 17,
   "id": "aea9c6ef-6f46-42c8-85eb-5a62025c1508",
   "metadata": {
    "execution": {
     "iopub.execute_input": "2025-07-30T13:57:04.957912Z",
     "iopub.status.busy": "2025-07-30T13:57:04.956864Z",
     "iopub.status.idle": "2025-07-30T13:57:05.578307Z",
     "shell.execute_reply": "2025-07-30T13:57:05.577116Z"
    },
    "papermill": {
     "duration": 0.653019,
     "end_time": "2025-07-30T13:57:05.580177",
     "exception": false,
     "start_time": "2025-07-30T13:57:04.927158",
     "status": "completed"
    },
    "tags": []
   },
   "outputs": [],
   "source": [
    "siab_train = sample_by_year_size(siab,\n",
    "                               training_year=universe[\"training_year\"],\n",
    "                               training_size=universe[\"training_size\"])"
   ]
  },
  {
   "cell_type": "code",
   "execution_count": 18,
   "id": "8d3afb32-789d-442c-8d5d-9f5aa8dd2eed",
   "metadata": {
    "execution": {
     "iopub.execute_input": "2025-07-30T13:57:05.643266Z",
     "iopub.status.busy": "2025-07-30T13:57:05.642788Z",
     "iopub.status.idle": "2025-07-30T13:57:05.650459Z",
     "shell.execute_reply": "2025-07-30T13:57:05.649468Z"
    },
    "papermill": {
     "duration": 0.063142,
     "end_time": "2025-07-30T13:57:05.661457",
     "exception": false,
     "start_time": "2025-07-30T13:57:05.598315",
     "status": "completed"
    },
    "tags": []
   },
   "outputs": [
    {
     "data": {
      "text/plain": [
       "(5000, 164)"
      ]
     },
     "execution_count": 18,
     "metadata": {},
     "output_type": "execute_result"
    }
   ],
   "source": [
    "siab_train.shape"
   ]
  },
  {
   "cell_type": "code",
   "execution_count": 19,
   "id": "d582db68-1a4c-47fb-84fc-08518dc1975a",
   "metadata": {
    "execution": {
     "iopub.execute_input": "2025-07-30T13:57:05.701623Z",
     "iopub.status.busy": "2025-07-30T13:57:05.700900Z",
     "iopub.status.idle": "2025-07-30T13:57:05.711312Z",
     "shell.execute_reply": "2025-07-30T13:57:05.710171Z"
    },
    "papermill": {
     "duration": 0.033834,
     "end_time": "2025-07-30T13:57:05.713384",
     "exception": false,
     "start_time": "2025-07-30T13:57:05.679550",
     "status": "completed"
    },
    "tags": []
   },
   "outputs": [
    {
     "data": {
      "text/plain": [
       "year\n",
       "2012    1667\n",
       "2013    1667\n",
       "2014    1666\n",
       "dtype: int64"
      ]
     },
     "metadata": {},
     "output_type": "display_data"
    }
   ],
   "source": [
    "display(siab_train.groupby(\"year\").size())"
   ]
  },
  {
   "cell_type": "code",
   "execution_count": 20,
   "id": "a561edb4-d032-42cb-8256-22eac1111c64",
   "metadata": {
    "execution": {
     "iopub.execute_input": "2025-07-30T13:57:05.760708Z",
     "iopub.status.busy": "2025-07-30T13:57:05.759784Z",
     "iopub.status.idle": "2025-07-30T13:57:05.985964Z",
     "shell.execute_reply": "2025-07-30T13:57:05.985191Z"
    },
    "papermill": {
     "duration": 0.251086,
     "end_time": "2025-07-30T13:57:05.987349",
     "exception": false,
     "start_time": "2025-07-30T13:57:05.736263",
     "status": "completed"
    },
    "tags": []
   },
   "outputs": [],
   "source": [
    "#siab_train = siab_s[siab_s.year < 2015]\n",
    "siab_calib = siab[siab.year == 2015]\n",
    "siab_test = siab[siab.year == 2016]"
   ]
  },
  {
   "cell_type": "code",
   "execution_count": 21,
   "id": "472de16f-c3db-4916-846b-1f0de9cf1746",
   "metadata": {
    "execution": {
     "iopub.execute_input": "2025-07-30T13:57:06.012159Z",
     "iopub.status.busy": "2025-07-30T13:57:06.011716Z",
     "iopub.status.idle": "2025-07-30T13:57:06.018795Z",
     "shell.execute_reply": "2025-07-30T13:57:06.018010Z"
    },
    "papermill": {
     "duration": 0.021155,
     "end_time": "2025-07-30T13:57:06.020191",
     "exception": false,
     "start_time": "2025-07-30T13:57:05.999036",
     "status": "completed"
    },
    "tags": []
   },
   "outputs": [],
   "source": [
    "X_train = siab_train.iloc[:,4:164]\n",
    "y_train = siab_train.iloc[:, [3]]"
   ]
  },
  {
   "cell_type": "code",
   "execution_count": 22,
   "id": "828c96af-f43a-4ed6-ba47-8ac73a47d56c",
   "metadata": {
    "execution": {
     "iopub.execute_input": "2025-07-30T13:57:06.045974Z",
     "iopub.status.busy": "2025-07-30T13:57:06.045347Z",
     "iopub.status.idle": "2025-07-30T13:57:06.091898Z",
     "shell.execute_reply": "2025-07-30T13:57:06.090973Z"
    },
    "papermill": {
     "duration": 0.060675,
     "end_time": "2025-07-30T13:57:06.093389",
     "exception": false,
     "start_time": "2025-07-30T13:57:06.032714",
     "status": "completed"
    },
    "tags": []
   },
   "outputs": [],
   "source": [
    "X_calib = siab_calib.iloc[:,4:164]\n",
    "y_calib = siab_calib.iloc[:, [3]]"
   ]
  },
  {
   "cell_type": "code",
   "execution_count": 23,
   "id": "c34be9c3-6bd6-476e-acd3-845840e303be",
   "metadata": {
    "execution": {
     "iopub.execute_input": "2025-07-30T13:57:06.119603Z",
     "iopub.status.busy": "2025-07-30T13:57:06.119177Z",
     "iopub.status.idle": "2025-07-30T13:57:06.179980Z",
     "shell.execute_reply": "2025-07-30T13:57:06.178833Z"
    },
    "papermill": {
     "duration": 0.075561,
     "end_time": "2025-07-30T13:57:06.181907",
     "exception": false,
     "start_time": "2025-07-30T13:57:06.106346",
     "status": "completed"
    },
    "tags": []
   },
   "outputs": [],
   "source": [
    "X_test = siab_test.iloc[:,4:164]\n",
    "y_true = siab_test.iloc[:, [3]]"
   ]
  },
  {
   "cell_type": "markdown",
   "id": "9901737e-04df-44f0-9100-f5ad144ed040",
   "metadata": {
    "papermill": {
     "duration": 0.022307,
     "end_time": "2025-07-30T13:57:06.228022",
     "exception": false,
     "start_time": "2025-07-30T13:57:06.205715",
     "status": "completed"
    },
    "tags": []
   },
   "source": [
    "# Splitting Data and Setting Training Data Size OLD VERSION"
   ]
  },
  {
   "cell_type": "code",
   "execution_count": 24,
   "id": "acbc8f7d-8fc8-4e86-8c59-5dcb0f58384b",
   "metadata": {
    "execution": {
     "iopub.execute_input": "2025-07-30T13:57:06.292313Z",
     "iopub.status.busy": "2025-07-30T13:57:06.291866Z",
     "iopub.status.idle": "2025-07-30T13:57:06.297910Z",
     "shell.execute_reply": "2025-07-30T13:57:06.296843Z"
    },
    "papermill": {
     "duration": 0.049264,
     "end_time": "2025-07-30T13:57:06.309415",
     "exception": false,
     "start_time": "2025-07-30T13:57:06.260151",
     "status": "completed"
    },
    "tags": []
   },
   "outputs": [],
   "source": [
    "#def sample_by_year(df, training_size, random_state=42):\n",
    "#    if training_size == \"2014\":\n",
    "#        return df[df[\"year\"] == 2014].reset_index(drop=True)\n",
    "#    \n",
    "#    size_map = {\n",
    "#        \"25k\": 5000,\n",
    "#        \"5k\": 1000,\n",
    "#        \"1k\": 200\n",
    "#    }\n",
    "#\n",
    "#    if training_size not in size_map:\n",
    "#        return df.reset_index(drop=True)  # use all data\n",
    "#\n",
    "#    n_per_year = size_map[training_size]\n",
    "#    grouped = df.groupby(\"year\")\n",
    "#    sampled = grouped.apply(lambda x: x.sample(n=min(n_per_year, len(x)), random_state=random_state))\n",
    "#    return sampled.reset_index(drop=True)"
   ]
  },
  {
   "cell_type": "code",
   "execution_count": 25,
   "id": "6d931f52-beaf-43ff-9e78-9d44a448d54e",
   "metadata": {
    "execution": {
     "iopub.execute_input": "2025-07-30T13:57:06.370992Z",
     "iopub.status.busy": "2025-07-30T13:57:06.370579Z",
     "iopub.status.idle": "2025-07-30T13:57:06.376074Z",
     "shell.execute_reply": "2025-07-30T13:57:06.374965Z"
    },
    "papermill": {
     "duration": 0.036216,
     "end_time": "2025-07-30T13:57:06.379375",
     "exception": false,
     "start_time": "2025-07-30T13:57:06.343159",
     "status": "completed"
    },
    "tags": []
   },
   "outputs": [],
   "source": [
    "#siab_s = sample_by_year(siab, universe[\"training_size\"])"
   ]
  },
  {
   "cell_type": "code",
   "execution_count": 26,
   "id": "5db0a40e-a4e2-4920-be85-b12ae061d70d",
   "metadata": {
    "execution": {
     "iopub.execute_input": "2025-07-30T13:57:06.469381Z",
     "iopub.status.busy": "2025-07-30T13:57:06.468956Z",
     "iopub.status.idle": "2025-07-30T13:57:06.474423Z",
     "shell.execute_reply": "2025-07-30T13:57:06.473397Z"
    },
    "papermill": {
     "duration": 0.04939,
     "end_time": "2025-07-30T13:57:06.477664",
     "exception": false,
     "start_time": "2025-07-30T13:57:06.428274",
     "status": "completed"
    },
    "tags": []
   },
   "outputs": [],
   "source": [
    "#display(siab_s.groupby(\"year\").size())"
   ]
  },
  {
   "cell_type": "code",
   "execution_count": 27,
   "id": "e6c733c5",
   "metadata": {
    "execution": {
     "iopub.execute_input": "2025-07-30T13:57:06.522365Z",
     "iopub.status.busy": "2025-07-30T13:57:06.521963Z",
     "iopub.status.idle": "2025-07-30T13:57:06.626995Z",
     "shell.execute_reply": "2025-07-30T13:57:06.625816Z"
    },
    "papermill": {
     "duration": 0.129906,
     "end_time": "2025-07-30T13:57:06.629257",
     "exception": false,
     "start_time": "2025-07-30T13:57:06.499351",
     "status": "completed"
    },
    "tags": []
   },
   "outputs": [],
   "source": [
    "# Auxiliary data needed downstream in the pipeline\n",
    "\n",
    "org_train = X_train.copy()\n",
    "org_test = X_test.copy()\n",
    "org_calib = X_calib.copy()"
   ]
  },
  {
   "cell_type": "code",
   "execution_count": 28,
   "id": "1466abac-c6da-4492-a62f-4240ae3783af",
   "metadata": {
    "execution": {
     "iopub.execute_input": "2025-07-30T13:57:06.689347Z",
     "iopub.status.busy": "2025-07-30T13:57:06.688916Z",
     "iopub.status.idle": "2025-07-30T13:57:06.695988Z",
     "shell.execute_reply": "2025-07-30T13:57:06.694841Z"
    },
    "papermill": {
     "duration": 0.044695,
     "end_time": "2025-07-30T13:57:06.697555",
     "exception": false,
     "start_time": "2025-07-30T13:57:06.652860",
     "status": "completed"
    },
    "tags": []
   },
   "outputs": [],
   "source": [
    "# put in other script?\n",
    "# Group sizes\n",
    "\n",
    "#def calculate_percentages(df, df_name):\n",
    "#    total_entries = len(df)\n",
    "#\n",
    "#    female_pct = (df['frau1'] == 1).mean() * 100\n",
    "#    non_german_pct = ((df['maxdeutsch1'] == 0) & (df['maxdeutsch.Missing.'] == 0)).mean() * 100\n",
    "#    non_german_male_pct = ((df['frau1'] == 0) & (df['maxdeutsch1'] == 0) & (df['maxdeutsch.Missing.'] == 0)).mean() * 100\n",
    "#    non_german_female_pct = ((df['frau1'] == 1) & (df['maxdeutsch1'] == 0) & (df['maxdeutsch.Missing.'] == 0)).mean() * 100\n",
    "#\n",
    "#    print(f\"--- {df_name} ---\")\n",
    "#    print(f\"Female: {female_pct:.2f}%\")\n",
    "#    print(f\"Non-German: {non_german_pct:.2f}%\")\n",
    "#    print(f\"Non-German Male: {non_german_male_pct:.2f}%\")\n",
    "#    print(f\"Non-German Female: {non_german_female_pct:.2f}%\\n\")\n",
    "#\n",
    "## Calculate for each DataFrame\n",
    "#calculate_percentages(siab_calib, \"siab_calib\")\n",
    "#calculate_percentages(siab_test, \"siab_test\")\n",
    "#calculate_percentages(siab_train, \"siab_train\")"
   ]
  },
  {
   "cell_type": "markdown",
   "id": "0a4a1b33",
   "metadata": {
    "papermill": {
     "duration": 0.024051,
     "end_time": "2025-07-30T13:57:06.746593",
     "exception": false,
     "start_time": "2025-07-30T13:57:06.722542",
     "status": "completed"
    },
    "tags": []
   },
   "source": [
    "# Preprocessing Data"
   ]
  },
  {
   "cell_type": "code",
   "execution_count": 29,
   "id": "ca879031",
   "metadata": {
    "execution": {
     "iopub.execute_input": "2025-07-30T13:57:06.797241Z",
     "iopub.status.busy": "2025-07-30T13:57:06.796873Z",
     "iopub.status.idle": "2025-07-30T13:57:06.803341Z",
     "shell.execute_reply": "2025-07-30T13:57:06.802014Z"
    },
    "papermill": {
     "duration": 0.035404,
     "end_time": "2025-07-30T13:57:06.806407",
     "exception": false,
     "start_time": "2025-07-30T13:57:06.771003",
     "status": "completed"
    },
    "tags": []
   },
   "outputs": [],
   "source": [
    "# EXCLUDE PROTECTED FEATURES\n",
    "# ----------------------\n",
    "# \"exclude_features\": \"none\", # \"nationality\", \"sex\", \"nationality-sex\"\n",
    "\n",
    "excluded_features = universe[\"exclude_features\"].split(\"-\") # split, e.g.: \"nationality-sex\" -> [\"nationality\", \"sex\"]\n",
    "excluded_features_dictionary = {\n",
    "    \"nationality\": [\"maxdeutsch1\", \"maxdeutsch.Missing.\"],\n",
    "    \"sex\": [\"frau1\"],\n",
    "    \"age\": [\"age\"],\n",
    "}\n"
   ]
  },
  {
   "cell_type": "code",
   "execution_count": 30,
   "id": "b745ac60",
   "metadata": {
    "execution": {
     "iopub.execute_input": "2025-07-30T13:57:06.857382Z",
     "iopub.status.busy": "2025-07-30T13:57:06.856873Z",
     "iopub.status.idle": "2025-07-30T13:57:06.863304Z",
     "shell.execute_reply": "2025-07-30T13:57:06.862293Z"
    },
    "papermill": {
     "duration": 0.033089,
     "end_time": "2025-07-30T13:57:06.864967",
     "exception": false,
     "start_time": "2025-07-30T13:57:06.831878",
     "status": "completed"
    },
    "tags": []
   },
   "outputs": [],
   "source": [
    "# Code nice names to column names\n",
    "\n",
    "excluded_features_columns = [\n",
    "    excluded_features_dictionary[f] for f in excluded_features if len(f) > 0 and f != \"none\"\n",
    "]"
   ]
  },
  {
   "cell_type": "code",
   "execution_count": 31,
   "id": "f84f73a2",
   "metadata": {
    "execution": {
     "iopub.execute_input": "2025-07-30T13:57:06.911364Z",
     "iopub.status.busy": "2025-07-30T13:57:06.910897Z",
     "iopub.status.idle": "2025-07-30T13:57:06.917855Z",
     "shell.execute_reply": "2025-07-30T13:57:06.916873Z"
    },
    "papermill": {
     "duration": 0.032065,
     "end_time": "2025-07-30T13:57:06.919967",
     "exception": false,
     "start_time": "2025-07-30T13:57:06.887902",
     "status": "completed"
    },
    "tags": []
   },
   "outputs": [],
   "source": [
    "from utils import flatten_once\n",
    "\n",
    "excluded_features_columns = flatten_once(excluded_features_columns)"
   ]
  },
  {
   "cell_type": "code",
   "execution_count": 32,
   "id": "884dea22",
   "metadata": {
    "execution": {
     "iopub.execute_input": "2025-07-30T13:57:06.967235Z",
     "iopub.status.busy": "2025-07-30T13:57:06.966725Z",
     "iopub.status.idle": "2025-07-30T13:57:06.973415Z",
     "shell.execute_reply": "2025-07-30T13:57:06.972293Z"
    },
    "papermill": {
     "duration": 0.031793,
     "end_time": "2025-07-30T13:57:06.975619",
     "exception": false,
     "start_time": "2025-07-30T13:57:06.943826",
     "status": "completed"
    },
    "tags": []
   },
   "outputs": [],
   "source": [
    "if len(excluded_features_columns) > 0:\n",
    "    print(f\"Dropping features: {excluded_features_columns}\")\n",
    "    X_train.drop(excluded_features_columns, axis=1, inplace=True)"
   ]
  },
  {
   "cell_type": "code",
   "execution_count": 33,
   "id": "95ab8b16",
   "metadata": {
    "execution": {
     "iopub.execute_input": "2025-07-30T13:57:07.026132Z",
     "iopub.status.busy": "2025-07-30T13:57:07.025640Z",
     "iopub.status.idle": "2025-07-30T13:57:07.031344Z",
     "shell.execute_reply": "2025-07-30T13:57:07.030478Z"
    },
    "papermill": {
     "duration": 0.03197,
     "end_time": "2025-07-30T13:57:07.032957",
     "exception": false,
     "start_time": "2025-07-30T13:57:07.000987",
     "status": "completed"
    },
    "tags": []
   },
   "outputs": [],
   "source": [
    "if len(excluded_features_columns) > 0:\n",
    "    print(f\"Dropping features: {excluded_features_columns}\")\n",
    "    X_test.drop(excluded_features_columns, axis=1, inplace=True)"
   ]
  },
  {
   "cell_type": "code",
   "execution_count": 34,
   "id": "1853aaf5-fb9f-46cb-a2b5-8ea4ae2237e4",
   "metadata": {
    "execution": {
     "iopub.execute_input": "2025-07-30T13:57:07.082961Z",
     "iopub.status.busy": "2025-07-30T13:57:07.082458Z",
     "iopub.status.idle": "2025-07-30T13:57:07.088486Z",
     "shell.execute_reply": "2025-07-30T13:57:07.087449Z"
    },
    "papermill": {
     "duration": 0.032275,
     "end_time": "2025-07-30T13:57:07.090053",
     "exception": false,
     "start_time": "2025-07-30T13:57:07.057778",
     "status": "completed"
    },
    "tags": []
   },
   "outputs": [],
   "source": [
    "if len(excluded_features_columns) > 0:\n",
    "    print(f\"Dropping features: {excluded_features_columns}\")\n",
    "    X_calib.drop(excluded_features_columns, axis=1, inplace=True)"
   ]
  },
  {
   "cell_type": "code",
   "execution_count": 35,
   "id": "6727d079-03e5-481e-9d38-292a90b7a0a8",
   "metadata": {
    "execution": {
     "iopub.execute_input": "2025-07-30T13:57:07.139212Z",
     "iopub.status.busy": "2025-07-30T13:57:07.138520Z",
     "iopub.status.idle": "2025-07-30T13:57:07.143779Z",
     "shell.execute_reply": "2025-07-30T13:57:07.142743Z"
    },
    "papermill": {
     "duration": 0.032024,
     "end_time": "2025-07-30T13:57:07.145634",
     "exception": false,
     "start_time": "2025-07-30T13:57:07.113610",
     "status": "completed"
    },
    "tags": []
   },
   "outputs": [],
   "source": [
    "# SPLIT & STRATIFY DATA\n",
    "# ----------------------"
   ]
  },
  {
   "cell_type": "code",
   "execution_count": 36,
   "id": "76c4dc6d",
   "metadata": {
    "execution": {
     "iopub.execute_input": "2025-07-30T13:57:07.194327Z",
     "iopub.status.busy": "2025-07-30T13:57:07.193448Z",
     "iopub.status.idle": "2025-07-30T13:57:07.199217Z",
     "shell.execute_reply": "2025-07-30T13:57:07.198222Z"
    },
    "papermill": {
     "duration": 0.03203,
     "end_time": "2025-07-30T13:57:07.201079",
     "exception": false,
     "start_time": "2025-07-30T13:57:07.169049",
     "status": "completed"
    },
    "tags": []
   },
   "outputs": [],
   "source": [
    "# EXCLUDE CERTAIN SUBGROUPS\n",
    "# ----------------------\n",
    "\n",
    "mode = universe.get(\"exclude_subgroups\", \"keep-all\") \n",
    "# Fetches the exclude_subgroups setting from the universe dict.\n",
    "# Defaults to \"keep-all\" if the key is missing."
   ]
  },
  {
   "cell_type": "code",
   "execution_count": 37,
   "id": "21994072",
   "metadata": {
    "execution": {
     "iopub.execute_input": "2025-07-30T13:57:07.252546Z",
     "iopub.status.busy": "2025-07-30T13:57:07.251806Z",
     "iopub.status.idle": "2025-07-30T13:57:07.259160Z",
     "shell.execute_reply": "2025-07-30T13:57:07.257890Z"
    },
    "papermill": {
     "duration": 0.034128,
     "end_time": "2025-07-30T13:57:07.260934",
     "exception": false,
     "start_time": "2025-07-30T13:57:07.226806",
     "status": "completed"
    },
    "tags": []
   },
   "outputs": [],
   "source": [
    "if mode == \"keep-all\":\n",
    "    keep_mask = pd.Series(True, index=org_train.index)\n",
    "\n",
    "# org_train contains the original feature columns from features_org (in Simson)\n",
    "# features_org contains unprocessed features, for me X_train at beginning ???\n",
    "# For keep-all, creates a boolean Series (keep_mask) of all True, so no rows are removed.\n",
    "\n",
    "elif mode == \"drop-non-german\":\n",
    "    keep_mask = org_train[\"maxdeutsch1\"] == 1 # ??? what about missing values?\n",
    "\n",
    "else:\n",
    "    raise ValueError(f\"Unsupported mode for exclude_subgroups: {mode}\")\n"
   ]
  },
  {
   "cell_type": "code",
   "execution_count": 38,
   "id": "71651440",
   "metadata": {
    "execution": {
     "iopub.execute_input": "2025-07-30T13:57:07.312913Z",
     "iopub.status.busy": "2025-07-30T13:57:07.311958Z",
     "iopub.status.idle": "2025-07-30T13:57:07.319336Z",
     "shell.execute_reply": "2025-07-30T13:57:07.318337Z"
    },
    "papermill": {
     "duration": 0.034518,
     "end_time": "2025-07-30T13:57:07.321420",
     "exception": false,
     "start_time": "2025-07-30T13:57:07.286902",
     "status": "completed"
    },
    "tags": []
   },
   "outputs": [],
   "source": [
    "n_drop = (~keep_mask).sum() # Calculates how many rows are set to be dropped\n",
    "if n_drop > 0:\n",
    "    pct = n_drop / len(keep_mask) * 100\n",
    "    print(f\"Dropping {n_drop} rows ({pct:.2f}%) where mode='{mode}'\")"
   ]
  },
  {
   "cell_type": "code",
   "execution_count": 39,
   "id": "5fb8eee5",
   "metadata": {
    "execution": {
     "iopub.execute_input": "2025-07-30T13:57:07.374323Z",
     "iopub.status.busy": "2025-07-30T13:57:07.373310Z",
     "iopub.status.idle": "2025-07-30T13:57:07.383288Z",
     "shell.execute_reply": "2025-07-30T13:57:07.382225Z"
    },
    "papermill": {
     "duration": 0.038936,
     "end_time": "2025-07-30T13:57:07.385326",
     "exception": false,
     "start_time": "2025-07-30T13:57:07.346390",
     "status": "completed"
    },
    "tags": []
   },
   "outputs": [],
   "source": [
    "X_train = X_train[keep_mask]"
   ]
  },
  {
   "cell_type": "code",
   "execution_count": 40,
   "id": "b202bb3a",
   "metadata": {
    "execution": {
     "iopub.execute_input": "2025-07-30T13:57:07.436294Z",
     "iopub.status.busy": "2025-07-30T13:57:07.435848Z",
     "iopub.status.idle": "2025-07-30T13:57:07.441983Z",
     "shell.execute_reply": "2025-07-30T13:57:07.441007Z"
    },
    "papermill": {
     "duration": 0.034669,
     "end_time": "2025-07-30T13:57:07.445034",
     "exception": false,
     "start_time": "2025-07-30T13:57:07.410365",
     "status": "completed"
    },
    "tags": []
   },
   "outputs": [],
   "source": [
    "y_train = y_train[keep_mask]"
   ]
  },
  {
   "cell_type": "markdown",
   "id": "493e2ac3",
   "metadata": {
    "papermill": {
     "duration": 0.027947,
     "end_time": "2025-07-30T13:57:07.498895",
     "exception": false,
     "start_time": "2025-07-30T13:57:07.470948",
     "status": "completed"
    },
    "tags": []
   },
   "source": [
    "# Model Training"
   ]
  },
  {
   "cell_type": "code",
   "execution_count": 41,
   "id": "679e1268",
   "metadata": {
    "execution": {
     "iopub.execute_input": "2025-07-30T13:57:07.546876Z",
     "iopub.status.busy": "2025-07-30T13:57:07.546449Z",
     "iopub.status.idle": "2025-07-30T13:57:07.713411Z",
     "shell.execute_reply": "2025-07-30T13:57:07.712186Z"
    },
    "papermill": {
     "duration": 0.193332,
     "end_time": "2025-07-30T13:57:07.715789",
     "exception": false,
     "start_time": "2025-07-30T13:57:07.522457",
     "status": "completed"
    },
    "tags": []
   },
   "outputs": [],
   "source": [
    "from sklearn.linear_model import LogisticRegression\n",
    "from sklearn.ensemble import GradientBoostingClassifier, RandomForestClassifier\n",
    "\n",
    "if (universe[\"model\"] == \"logreg\"):\n",
    "    model = LogisticRegression() #penalty=\"none\") #, solver=\"newton-cg\", max_iter=1) # include random_state=19 ?\n",
    "elif (universe[\"model\"] == \"penalized_logreg\"):\n",
    "    model = LogisticRegression(penalty=\"l2\", C=1.0) #, solver=\"newton-cg\", max_iter=1)\n",
    "elif (universe[\"model\"] == \"rf\"):\n",
    "    model = RandomForestClassifier(n_estimators=100, n_jobs=-1)\n",
    "elif (universe[\"model\"] == \"gbm\"):\n",
    "    model = GradientBoostingClassifier()\n",
    "elif (universe[\"model\"] == \"elasticnet\"):\n",
    "    model = LogisticRegression(penalty = 'elasticnet', solver = 'saga', l1_ratio = 0.5, max_iter=5000) # which solver to use?\n",
    "else:\n",
    "    raise \"Unsupported universe.model\""
   ]
  },
  {
   "cell_type": "code",
   "execution_count": 42,
   "id": "0cc8f744",
   "metadata": {
    "execution": {
     "iopub.execute_input": "2025-07-30T13:57:07.798487Z",
     "iopub.status.busy": "2025-07-30T13:57:07.798120Z",
     "iopub.status.idle": "2025-07-30T13:57:07.804644Z",
     "shell.execute_reply": "2025-07-30T13:57:07.803408Z"
    },
    "papermill": {
     "duration": 0.051808,
     "end_time": "2025-07-30T13:57:07.807752",
     "exception": false,
     "start_time": "2025-07-30T13:57:07.755944",
     "status": "completed"
    },
    "tags": []
   },
   "outputs": [],
   "source": [
    "import numpy as np\n",
    "from sklearn.pipeline import Pipeline\n",
    "from sklearn.preprocessing import StandardScaler\n",
    "\n",
    "model = Pipeline([\n",
    "    #(\"continuous_processor\", continuous_processor),\n",
    "    #(\"categorical_preprocessor\", categorical_preprocessor),\n",
    "    (\"scale\", StandardScaler() if universe[\"scale\"] == \"scale\" else None), \n",
    "    (\"model\", model),\n",
    "])"
   ]
  },
  {
   "cell_type": "code",
   "execution_count": 43,
   "id": "9442c04d",
   "metadata": {
    "execution": {
     "iopub.execute_input": "2025-07-30T13:57:07.861721Z",
     "iopub.status.busy": "2025-07-30T13:57:07.861345Z",
     "iopub.status.idle": "2025-07-30T13:57:12.528836Z",
     "shell.execute_reply": "2025-07-30T13:57:12.527790Z"
    },
    "papermill": {
     "duration": 4.695963,
     "end_time": "2025-07-30T13:57:12.530322",
     "exception": false,
     "start_time": "2025-07-30T13:57:07.834359",
     "status": "completed"
    },
    "tags": []
   },
   "outputs": [
    {
     "data": {
      "text/html": [
       "<style>#sk-container-id-1 {color: black;background-color: white;}#sk-container-id-1 pre{padding: 0;}#sk-container-id-1 div.sk-toggleable {background-color: white;}#sk-container-id-1 label.sk-toggleable__label {cursor: pointer;display: block;width: 100%;margin-bottom: 0;padding: 0.3em;box-sizing: border-box;text-align: center;}#sk-container-id-1 label.sk-toggleable__label-arrow:before {content: \"▸\";float: left;margin-right: 0.25em;color: #696969;}#sk-container-id-1 label.sk-toggleable__label-arrow:hover:before {color: black;}#sk-container-id-1 div.sk-estimator:hover label.sk-toggleable__label-arrow:before {color: black;}#sk-container-id-1 div.sk-toggleable__content {max-height: 0;max-width: 0;overflow: hidden;text-align: left;background-color: #f0f8ff;}#sk-container-id-1 div.sk-toggleable__content pre {margin: 0.2em;color: black;border-radius: 0.25em;background-color: #f0f8ff;}#sk-container-id-1 input.sk-toggleable__control:checked~div.sk-toggleable__content {max-height: 200px;max-width: 100%;overflow: auto;}#sk-container-id-1 input.sk-toggleable__control:checked~label.sk-toggleable__label-arrow:before {content: \"▾\";}#sk-container-id-1 div.sk-estimator input.sk-toggleable__control:checked~label.sk-toggleable__label {background-color: #d4ebff;}#sk-container-id-1 div.sk-label input.sk-toggleable__control:checked~label.sk-toggleable__label {background-color: #d4ebff;}#sk-container-id-1 input.sk-hidden--visually {border: 0;clip: rect(1px 1px 1px 1px);clip: rect(1px, 1px, 1px, 1px);height: 1px;margin: -1px;overflow: hidden;padding: 0;position: absolute;width: 1px;}#sk-container-id-1 div.sk-estimator {font-family: monospace;background-color: #f0f8ff;border: 1px dotted black;border-radius: 0.25em;box-sizing: border-box;margin-bottom: 0.5em;}#sk-container-id-1 div.sk-estimator:hover {background-color: #d4ebff;}#sk-container-id-1 div.sk-parallel-item::after {content: \"\";width: 100%;border-bottom: 1px solid gray;flex-grow: 1;}#sk-container-id-1 div.sk-label:hover label.sk-toggleable__label {background-color: #d4ebff;}#sk-container-id-1 div.sk-serial::before {content: \"\";position: absolute;border-left: 1px solid gray;box-sizing: border-box;top: 0;bottom: 0;left: 50%;z-index: 0;}#sk-container-id-1 div.sk-serial {display: flex;flex-direction: column;align-items: center;background-color: white;padding-right: 0.2em;padding-left: 0.2em;position: relative;}#sk-container-id-1 div.sk-item {position: relative;z-index: 1;}#sk-container-id-1 div.sk-parallel {display: flex;align-items: stretch;justify-content: center;background-color: white;position: relative;}#sk-container-id-1 div.sk-item::before, #sk-container-id-1 div.sk-parallel-item::before {content: \"\";position: absolute;border-left: 1px solid gray;box-sizing: border-box;top: 0;bottom: 0;left: 50%;z-index: -1;}#sk-container-id-1 div.sk-parallel-item {display: flex;flex-direction: column;z-index: 1;position: relative;background-color: white;}#sk-container-id-1 div.sk-parallel-item:first-child::after {align-self: flex-end;width: 50%;}#sk-container-id-1 div.sk-parallel-item:last-child::after {align-self: flex-start;width: 50%;}#sk-container-id-1 div.sk-parallel-item:only-child::after {width: 0;}#sk-container-id-1 div.sk-dashed-wrapped {border: 1px dashed gray;margin: 0 0.4em 0.5em 0.4em;box-sizing: border-box;padding-bottom: 0.4em;background-color: white;}#sk-container-id-1 div.sk-label label {font-family: monospace;font-weight: bold;display: inline-block;line-height: 1.2em;}#sk-container-id-1 div.sk-label-container {text-align: center;}#sk-container-id-1 div.sk-container {/* jupyter's `normalize.less` sets `[hidden] { display: none; }` but bootstrap.min.css set `[hidden] { display: none !important; }` so we also need the `!important` here to be able to override the default hidden behavior on the sphinx rendered scikit-learn.org. See: https://github.com/scikit-learn/scikit-learn/issues/21755 */display: inline-block !important;position: relative;}#sk-container-id-1 div.sk-text-repr-fallback {display: none;}</style><div id=\"sk-container-id-1\" class=\"sk-top-container\"><div class=\"sk-text-repr-fallback\"><pre>Pipeline(steps=[(&#x27;scale&#x27;, StandardScaler()),\n",
       "                (&#x27;model&#x27;, GradientBoostingClassifier())])</pre><b>In a Jupyter environment, please rerun this cell to show the HTML representation or trust the notebook. <br />On GitHub, the HTML representation is unable to render, please try loading this page with nbviewer.org.</b></div><div class=\"sk-container\" hidden><div class=\"sk-item sk-dashed-wrapped\"><div class=\"sk-label-container\"><div class=\"sk-label sk-toggleable\"><input class=\"sk-toggleable__control sk-hidden--visually\" id=\"sk-estimator-id-1\" type=\"checkbox\" ><label for=\"sk-estimator-id-1\" class=\"sk-toggleable__label sk-toggleable__label-arrow\">Pipeline</label><div class=\"sk-toggleable__content\"><pre>Pipeline(steps=[(&#x27;scale&#x27;, StandardScaler()),\n",
       "                (&#x27;model&#x27;, GradientBoostingClassifier())])</pre></div></div></div><div class=\"sk-serial\"><div class=\"sk-item\"><div class=\"sk-estimator sk-toggleable\"><input class=\"sk-toggleable__control sk-hidden--visually\" id=\"sk-estimator-id-2\" type=\"checkbox\" ><label for=\"sk-estimator-id-2\" class=\"sk-toggleable__label sk-toggleable__label-arrow\">StandardScaler</label><div class=\"sk-toggleable__content\"><pre>StandardScaler()</pre></div></div></div><div class=\"sk-item\"><div class=\"sk-estimator sk-toggleable\"><input class=\"sk-toggleable__control sk-hidden--visually\" id=\"sk-estimator-id-3\" type=\"checkbox\" ><label for=\"sk-estimator-id-3\" class=\"sk-toggleable__label sk-toggleable__label-arrow\">GradientBoostingClassifier</label><div class=\"sk-toggleable__content\"><pre>GradientBoostingClassifier()</pre></div></div></div></div></div></div></div>"
      ],
      "text/plain": [
       "Pipeline(steps=[('scale', StandardScaler()),\n",
       "                ('model', GradientBoostingClassifier())])"
      ]
     },
     "execution_count": 43,
     "metadata": {},
     "output_type": "execute_result"
    }
   ],
   "source": [
    "model.fit(X_train, y_train.values.ravel())"
   ]
  },
  {
   "cell_type": "code",
   "execution_count": 44,
   "id": "af59f8c0",
   "metadata": {
    "execution": {
     "iopub.execute_input": "2025-07-30T13:57:12.580337Z",
     "iopub.status.busy": "2025-07-30T13:57:12.579841Z",
     "iopub.status.idle": "2025-07-30T13:57:12.585327Z",
     "shell.execute_reply": "2025-07-30T13:57:12.584436Z"
    },
    "papermill": {
     "duration": 0.031998,
     "end_time": "2025-07-30T13:57:12.586908",
     "exception": false,
     "start_time": "2025-07-30T13:57:12.554910",
     "status": "completed"
    },
    "tags": []
   },
   "outputs": [],
   "source": [
    "from fairness_multiverse.universe import predict_w_threshold"
   ]
  },
  {
   "cell_type": "code",
   "execution_count": 45,
   "id": "a7cf2e16",
   "metadata": {
    "execution": {
     "iopub.execute_input": "2025-07-30T13:57:12.635136Z",
     "iopub.status.busy": "2025-07-30T13:57:12.634617Z",
     "iopub.status.idle": "2025-07-30T13:57:13.430291Z",
     "shell.execute_reply": "2025-07-30T13:57:13.429397Z"
    },
    "papermill": {
     "duration": 0.818769,
     "end_time": "2025-07-30T13:57:13.431869",
     "exception": false,
     "start_time": "2025-07-30T13:57:12.613100",
     "status": "completed"
    },
    "tags": []
   },
   "outputs": [
    {
     "data": {
      "text/plain": [
       "0.8632482443428826"
      ]
     },
     "execution_count": 45,
     "metadata": {},
     "output_type": "execute_result"
    }
   ],
   "source": [
    "probs_test = model.predict_proba(X_test)\n",
    "\n",
    "'''\n",
    "Below code returns a boolean array (or binary 0/1 array depending on how it’s used) where each element \n",
    "is True if the probability of class 1 is greater than or equal to the threshold, and False otherwise.\n",
    "'''\n",
    "y_pred_default = predict_w_threshold(probs_test, 0.5)\n",
    "\n",
    "from sklearn.metrics import accuracy_score\n",
    "\n",
    "# Naive prediction\n",
    "accuracy_score(y_true = y_true, y_pred = y_pred_default)"
   ]
  },
  {
   "cell_type": "code",
   "execution_count": 46,
   "id": "081964c3",
   "metadata": {
    "execution": {
     "iopub.execute_input": "2025-07-30T13:57:13.481430Z",
     "iopub.status.busy": "2025-07-30T13:57:13.480757Z",
     "iopub.status.idle": "2025-07-30T13:57:14.195394Z",
     "shell.execute_reply": "2025-07-30T13:57:14.194484Z"
    },
    "papermill": {
     "duration": 0.741137,
     "end_time": "2025-07-30T13:57:14.197009",
     "exception": false,
     "start_time": "2025-07-30T13:57:13.455872",
     "status": "completed"
    },
    "tags": []
   },
   "outputs": [
    {
     "data": {
      "text/plain": [
       "array([0, 0, 0, ..., 0, 0, 0])"
      ]
     },
     "execution_count": 46,
     "metadata": {},
     "output_type": "execute_result"
    }
   ],
   "source": [
    "model.predict(X_test)"
   ]
  },
  {
   "cell_type": "markdown",
   "id": "56c9705b",
   "metadata": {
    "papermill": {
     "duration": 0.02536,
     "end_time": "2025-07-30T13:57:14.247586",
     "exception": false,
     "start_time": "2025-07-30T13:57:14.222226",
     "status": "completed"
    },
    "tags": []
   },
   "source": [
    "# Conformal Prediction"
   ]
  },
  {
   "cell_type": "code",
   "execution_count": 47,
   "id": "160ec6ff",
   "metadata": {
    "execution": {
     "iopub.execute_input": "2025-07-30T13:57:14.297724Z",
     "iopub.status.busy": "2025-07-30T13:57:14.297196Z",
     "iopub.status.idle": "2025-07-30T13:57:14.302447Z",
     "shell.execute_reply": "2025-07-30T13:57:14.301551Z"
    },
    "papermill": {
     "duration": 0.033113,
     "end_time": "2025-07-30T13:57:14.303998",
     "exception": false,
     "start_time": "2025-07-30T13:57:14.270885",
     "status": "completed"
    },
    "tags": []
   },
   "outputs": [],
   "source": [
    "# Miscoverage level for conformal prediction (10% allowed error rate => 90% target coverage)\n",
    "alpha = 0.1"
   ]
  },
  {
   "cell_type": "code",
   "execution_count": 48,
   "id": "eadf4555-3dd3-440e-8e35-f82a4ad9f855",
   "metadata": {
    "execution": {
     "iopub.execute_input": "2025-07-30T13:57:14.362040Z",
     "iopub.status.busy": "2025-07-30T13:57:14.356950Z",
     "iopub.status.idle": "2025-07-30T13:57:15.125944Z",
     "shell.execute_reply": "2025-07-30T13:57:15.124930Z"
    },
    "papermill": {
     "duration": 0.801251,
     "end_time": "2025-07-30T13:57:15.128054",
     "exception": false,
     "start_time": "2025-07-30T13:57:14.326803",
     "status": "completed"
    },
    "tags": []
   },
   "outputs": [],
   "source": [
    "probs_calib = model.predict_proba(X_calib)"
   ]
  },
  {
   "cell_type": "code",
   "execution_count": 49,
   "id": "2ed93547-6d5d-4983-9b36-1ecb300da49a",
   "metadata": {
    "execution": {
     "iopub.execute_input": "2025-07-30T13:57:15.183795Z",
     "iopub.status.busy": "2025-07-30T13:57:15.183261Z",
     "iopub.status.idle": "2025-07-30T13:57:15.189143Z",
     "shell.execute_reply": "2025-07-30T13:57:15.188086Z"
    },
    "papermill": {
     "duration": 0.035705,
     "end_time": "2025-07-30T13:57:15.190904",
     "exception": false,
     "start_time": "2025-07-30T13:57:15.155199",
     "status": "completed"
    },
    "tags": []
   },
   "outputs": [],
   "source": [
    "y_calib = y_calib.values.ravel().astype(int)"
   ]
  },
  {
   "cell_type": "code",
   "execution_count": 50,
   "id": "65d1320d-f588-4b38-9072-62af1ae97f7d",
   "metadata": {
    "execution": {
     "iopub.execute_input": "2025-07-30T13:57:15.247411Z",
     "iopub.status.busy": "2025-07-30T13:57:15.246986Z",
     "iopub.status.idle": "2025-07-30T13:57:15.255738Z",
     "shell.execute_reply": "2025-07-30T13:57:15.254613Z"
    },
    "papermill": {
     "duration": 0.039623,
     "end_time": "2025-07-30T13:57:15.257763",
     "exception": false,
     "start_time": "2025-07-30T13:57:15.218140",
     "status": "completed"
    },
    "tags": []
   },
   "outputs": [],
   "source": [
    "from fairness_multiverse.conformal import compute_nc_scores\n",
    "\n",
    "# Compute nonconformity scores on calibration set (1 - probability of true class)\n",
    "nc_scores = compute_nc_scores(probs_calib, y_calib)"
   ]
  },
  {
   "cell_type": "code",
   "execution_count": 51,
   "id": "df3b8ca3-53b7-43d5-9667-7c85da7aeda2",
   "metadata": {
    "execution": {
     "iopub.execute_input": "2025-07-30T13:57:15.313509Z",
     "iopub.status.busy": "2025-07-30T13:57:15.312751Z",
     "iopub.status.idle": "2025-07-30T13:57:15.320572Z",
     "shell.execute_reply": "2025-07-30T13:57:15.319461Z"
    },
    "papermill": {
     "duration": 0.037925,
     "end_time": "2025-07-30T13:57:15.322557",
     "exception": false,
     "start_time": "2025-07-30T13:57:15.284632",
     "status": "completed"
    },
    "tags": []
   },
   "outputs": [],
   "source": [
    "from fairness_multiverse.conformal import find_threshold\n",
    "\n",
    "# Find conformal threshold q_hat for the given alpha (split conformal method)\n",
    "q_hat = find_threshold(nc_scores, alpha)"
   ]
  },
  {
   "cell_type": "code",
   "execution_count": 52,
   "id": "4d29e6c1-0ef6-4aa4-b8fe-4fe79b0d033a",
   "metadata": {
    "execution": {
     "iopub.execute_input": "2025-07-30T13:57:15.375022Z",
     "iopub.status.busy": "2025-07-30T13:57:15.374111Z",
     "iopub.status.idle": "2025-07-30T13:57:15.382022Z",
     "shell.execute_reply": "2025-07-30T13:57:15.381032Z"
    },
    "papermill": {
     "duration": 0.036316,
     "end_time": "2025-07-30T13:57:15.383682",
     "exception": false,
     "start_time": "2025-07-30T13:57:15.347366",
     "status": "completed"
    },
    "tags": []
   },
   "outputs": [
    {
     "data": {
      "text/plain": [
       "0.6911849385759771"
      ]
     },
     "execution_count": 52,
     "metadata": {},
     "output_type": "execute_result"
    }
   ],
   "source": [
    "q_hat"
   ]
  },
  {
   "cell_type": "code",
   "execution_count": 53,
   "id": "92460794-cdac-4be2-ba28-f28c0515a6fb",
   "metadata": {
    "execution": {
     "iopub.execute_input": "2025-07-30T13:57:15.439059Z",
     "iopub.status.busy": "2025-07-30T13:57:15.438089Z",
     "iopub.status.idle": "2025-07-30T13:57:17.078719Z",
     "shell.execute_reply": "2025-07-30T13:57:17.077529Z"
    },
    "papermill": {
     "duration": 1.670824,
     "end_time": "2025-07-30T13:57:17.080858",
     "exception": false,
     "start_time": "2025-07-30T13:57:15.410034",
     "status": "completed"
    },
    "tags": []
   },
   "outputs": [],
   "source": [
    "from fairness_multiverse.conformal import predict_conformal_sets\n",
    "\n",
    "# Generate prediction sets for each test example\n",
    "pred_sets = predict_conformal_sets(model, X_test, q_hat)"
   ]
  },
  {
   "cell_type": "code",
   "execution_count": 54,
   "id": "d90c9a65-e6db-4f5d-80cd-e68fb7e46829",
   "metadata": {
    "execution": {
     "iopub.execute_input": "2025-07-30T13:57:17.125589Z",
     "iopub.status.busy": "2025-07-30T13:57:17.125107Z",
     "iopub.status.idle": "2025-07-30T13:57:17.130890Z",
     "shell.execute_reply": "2025-07-30T13:57:17.129947Z"
    },
    "papermill": {
     "duration": 0.032145,
     "end_time": "2025-07-30T13:57:17.132823",
     "exception": false,
     "start_time": "2025-07-30T13:57:17.100678",
     "status": "completed"
    },
    "tags": []
   },
   "outputs": [],
   "source": [
    "y_true = y_true.squeeze()"
   ]
  },
  {
   "cell_type": "code",
   "execution_count": 55,
   "id": "3a58a54a-1e68-46b9-927a-df01f18aebc8",
   "metadata": {
    "execution": {
     "iopub.execute_input": "2025-07-30T13:57:17.177801Z",
     "iopub.status.busy": "2025-07-30T13:57:17.177343Z",
     "iopub.status.idle": "2025-07-30T13:57:18.115056Z",
     "shell.execute_reply": "2025-07-30T13:57:18.114067Z"
    },
    "papermill": {
     "duration": 0.959807,
     "end_time": "2025-07-30T13:57:18.116992",
     "exception": false,
     "start_time": "2025-07-30T13:57:17.157185",
     "status": "completed"
    },
    "tags": []
   },
   "outputs": [],
   "source": [
    "from fairness_multiverse.conformal import evaluate_sets\n",
    "\n",
    "# Evaluate coverage and average set size on test data\n",
    "metrics = evaluate_sets(pred_sets, y_true)"
   ]
  },
  {
   "cell_type": "markdown",
   "id": "2b569c12-9aaa-4c88-98c9-bbcd0cf3ebb8",
   "metadata": {
    "papermill": {
     "duration": 0.025982,
     "end_time": "2025-07-30T13:57:18.171053",
     "exception": false,
     "start_time": "2025-07-30T13:57:18.145071",
     "status": "completed"
    },
    "tags": []
   },
   "source": [
    "# CP Metrics"
   ]
  },
  {
   "cell_type": "code",
   "execution_count": 56,
   "id": "5ce0a5cb-201f-45a0-ade5-94c7f0bd6095",
   "metadata": {
    "execution": {
     "iopub.execute_input": "2025-07-30T13:57:18.224226Z",
     "iopub.status.busy": "2025-07-30T13:57:18.223084Z",
     "iopub.status.idle": "2025-07-30T13:57:18.230465Z",
     "shell.execute_reply": "2025-07-30T13:57:18.229492Z"
    },
    "papermill": {
     "duration": 0.035698,
     "end_time": "2025-07-30T13:57:18.231990",
     "exception": false,
     "start_time": "2025-07-30T13:57:18.196292",
     "status": "completed"
    },
    "tags": []
   },
   "outputs": [
    {
     "data": {
      "text/plain": [
       "{'coverage': 0.9093969457139672, 'avg_size': 1.1228291160405752}"
      ]
     },
     "execution_count": 56,
     "metadata": {},
     "output_type": "execute_result"
    }
   ],
   "source": [
    "metrics"
   ]
  },
  {
   "cell_type": "code",
   "execution_count": 57,
   "id": "9b9a838d-31c9-430b-ae14-12baee460d17",
   "metadata": {
    "execution": {
     "iopub.execute_input": "2025-07-30T13:57:18.282820Z",
     "iopub.status.busy": "2025-07-30T13:57:18.281947Z",
     "iopub.status.idle": "2025-07-30T13:57:18.288759Z",
     "shell.execute_reply": "2025-07-30T13:57:18.287795Z"
    },
    "papermill": {
     "duration": 0.034209,
     "end_time": "2025-07-30T13:57:18.290435",
     "exception": false,
     "start_time": "2025-07-30T13:57:18.256226",
     "status": "completed"
    },
    "tags": []
   },
   "outputs": [],
   "source": [
    "example_universe = universe.copy()\n",
    "universe_training_size = example_universe.get(\"training_size\")\n",
    "universe_scale = example_universe.get(\"scale\")\n",
    "universe_model = example_universe.get(\"model\")\n",
    "universe_exclude_features = example_universe.get(\"exclude_features\")\n",
    "universe_exclude_subgroups = example_universe.get(\"exclude_subgroups\")"
   ]
  },
  {
   "cell_type": "code",
   "execution_count": 58,
   "id": "f4b6a8ac-9dc0-4245-8a91-5b3b5999c4f9",
   "metadata": {
    "execution": {
     "iopub.execute_input": "2025-07-30T13:57:18.342983Z",
     "iopub.status.busy": "2025-07-30T13:57:18.342285Z",
     "iopub.status.idle": "2025-07-30T13:57:18.349875Z",
     "shell.execute_reply": "2025-07-30T13:57:18.348896Z"
    },
    "papermill": {
     "duration": 0.035968,
     "end_time": "2025-07-30T13:57:18.351654",
     "exception": false,
     "start_time": "2025-07-30T13:57:18.315686",
     "status": "completed"
    },
    "tags": []
   },
   "outputs": [],
   "source": [
    "cp_metrics_dict = {\n",
    "    \"universe_id\": [universe_id],\n",
    "    \"universe_training_size\": [universe_training_size],\n",
    "    \"universe_scale\": [universe_scale],\n",
    "    \"universe_model\": [universe_model],\n",
    "    \"universe_exclude_features\": [universe_exclude_features],\n",
    "    \"universe_exclude_subgroups\": [universe_exclude_subgroups],\n",
    "    \"q_hat\": [q_hat],\n",
    "    \"coverage\": [metrics[\"coverage\"]],\n",
    "    \"avg_size\": [metrics[\"avg_size\"]],\n",
    "}"
   ]
  },
  {
   "cell_type": "code",
   "execution_count": 59,
   "id": "908acbb1-0371-4915-85ca-3fa520d2efe2",
   "metadata": {
    "execution": {
     "iopub.execute_input": "2025-07-30T13:57:18.403055Z",
     "iopub.status.busy": "2025-07-30T13:57:18.402584Z",
     "iopub.status.idle": "2025-07-30T13:57:18.410050Z",
     "shell.execute_reply": "2025-07-30T13:57:18.409137Z"
    },
    "papermill": {
     "duration": 0.034265,
     "end_time": "2025-07-30T13:57:18.411495",
     "exception": false,
     "start_time": "2025-07-30T13:57:18.377230",
     "status": "completed"
    },
    "tags": []
   },
   "outputs": [
    {
     "data": {
      "text/plain": [
       "{'universe_id': ['e9afce3c4b56f3eb3a16f563e2340275'],\n",
       " 'universe_training_size': ['5k'],\n",
       " 'universe_scale': ['scale'],\n",
       " 'universe_model': ['gbm'],\n",
       " 'universe_exclude_features': ['none'],\n",
       " 'universe_exclude_subgroups': ['keep-all'],\n",
       " 'q_hat': [0.6911849385759771],\n",
       " 'coverage': [0.9093969457139672],\n",
       " 'avg_size': [1.1228291160405752]}"
      ]
     },
     "execution_count": 59,
     "metadata": {},
     "output_type": "execute_result"
    }
   ],
   "source": [
    "cp_metrics_dict"
   ]
  },
  {
   "cell_type": "code",
   "execution_count": 60,
   "id": "33007efc-14e9-4ec6-97ac-56a455c82265",
   "metadata": {
    "execution": {
     "iopub.execute_input": "2025-07-30T13:57:18.467073Z",
     "iopub.status.busy": "2025-07-30T13:57:18.466531Z",
     "iopub.status.idle": "2025-07-30T13:57:18.473671Z",
     "shell.execute_reply": "2025-07-30T13:57:18.472677Z"
    },
    "papermill": {
     "duration": 0.037597,
     "end_time": "2025-07-30T13:57:18.475273",
     "exception": false,
     "start_time": "2025-07-30T13:57:18.437676",
     "status": "completed"
    },
    "tags": []
   },
   "outputs": [],
   "source": [
    "cp_metrics_df = pd.DataFrame(cp_metrics_dict)"
   ]
  },
  {
   "cell_type": "code",
   "execution_count": 61,
   "id": "db12611b-57b2-4910-b9d0-355adfd6e7bf",
   "metadata": {
    "execution": {
     "iopub.execute_input": "2025-07-30T13:57:18.527354Z",
     "iopub.status.busy": "2025-07-30T13:57:18.526386Z",
     "iopub.status.idle": "2025-07-30T13:57:18.545821Z",
     "shell.execute_reply": "2025-07-30T13:57:18.544832Z"
    },
    "papermill": {
     "duration": 0.047246,
     "end_time": "2025-07-30T13:57:18.547475",
     "exception": false,
     "start_time": "2025-07-30T13:57:18.500229",
     "status": "completed"
    },
    "tags": []
   },
   "outputs": [
    {
     "data": {
      "text/html": [
       "<div>\n",
       "<style scoped>\n",
       "    .dataframe tbody tr th:only-of-type {\n",
       "        vertical-align: middle;\n",
       "    }\n",
       "\n",
       "    .dataframe tbody tr th {\n",
       "        vertical-align: top;\n",
       "    }\n",
       "\n",
       "    .dataframe thead th {\n",
       "        text-align: right;\n",
       "    }\n",
       "</style>\n",
       "<table border=\"1\" class=\"dataframe\">\n",
       "  <thead>\n",
       "    <tr style=\"text-align: right;\">\n",
       "      <th></th>\n",
       "      <th>universe_id</th>\n",
       "      <th>universe_training_size</th>\n",
       "      <th>universe_scale</th>\n",
       "      <th>universe_model</th>\n",
       "      <th>universe_exclude_features</th>\n",
       "      <th>universe_exclude_subgroups</th>\n",
       "      <th>q_hat</th>\n",
       "      <th>coverage</th>\n",
       "      <th>avg_size</th>\n",
       "    </tr>\n",
       "  </thead>\n",
       "  <tbody>\n",
       "    <tr>\n",
       "      <th>0</th>\n",
       "      <td>e9afce3c4b56f3eb3a16f563e2340275</td>\n",
       "      <td>5k</td>\n",
       "      <td>scale</td>\n",
       "      <td>gbm</td>\n",
       "      <td>none</td>\n",
       "      <td>keep-all</td>\n",
       "      <td>0.691185</td>\n",
       "      <td>0.909397</td>\n",
       "      <td>1.122829</td>\n",
       "    </tr>\n",
       "  </tbody>\n",
       "</table>\n",
       "</div>"
      ],
      "text/plain": [
       "                        universe_id universe_training_size universe_scale  \\\n",
       "0  e9afce3c4b56f3eb3a16f563e2340275                     5k          scale   \n",
       "\n",
       "  universe_model universe_exclude_features universe_exclude_subgroups  \\\n",
       "0            gbm                      none                   keep-all   \n",
       "\n",
       "      q_hat  coverage  avg_size  \n",
       "0  0.691185  0.909397  1.122829  "
      ]
     },
     "execution_count": 61,
     "metadata": {},
     "output_type": "execute_result"
    }
   ],
   "source": [
    "cp_metrics_df"
   ]
  },
  {
   "cell_type": "code",
   "execution_count": 62,
   "id": "b7fbde55-a0a1-47e4-9af6-fe4a17fa8c61",
   "metadata": {
    "execution": {
     "iopub.execute_input": "2025-07-30T13:57:18.600534Z",
     "iopub.status.busy": "2025-07-30T13:57:18.600044Z",
     "iopub.status.idle": "2025-07-30T13:57:18.605033Z",
     "shell.execute_reply": "2025-07-30T13:57:18.604080Z"
    },
    "papermill": {
     "duration": 0.033156,
     "end_time": "2025-07-30T13:57:18.606716",
     "exception": false,
     "start_time": "2025-07-30T13:57:18.573560",
     "status": "completed"
    },
    "tags": []
   },
   "outputs": [],
   "source": [
    "# Conditional Coverage & looking at subgroups"
   ]
  },
  {
   "cell_type": "code",
   "execution_count": 63,
   "id": "027ae886-68dd-4141-96c7-805a5450e1ef",
   "metadata": {
    "execution": {
     "iopub.execute_input": "2025-07-30T13:57:18.661394Z",
     "iopub.status.busy": "2025-07-30T13:57:18.660882Z",
     "iopub.status.idle": "2025-07-30T13:57:18.936327Z",
     "shell.execute_reply": "2025-07-30T13:57:18.935275Z"
    },
    "papermill": {
     "duration": 0.3043,
     "end_time": "2025-07-30T13:57:18.938374",
     "exception": false,
     "start_time": "2025-07-30T13:57:18.634074",
     "status": "completed"
    },
    "tags": []
   },
   "outputs": [],
   "source": [
    "from fairness_multiverse.conformal import build_cp_groups\n",
    "\n",
    "cp_groups_df = build_cp_groups(pred_sets, y_true, X_test.index, org_test)\n",
    "#needs universe_id and setting"
   ]
  },
  {
   "cell_type": "code",
   "execution_count": 64,
   "id": "01d5802c-663a-4d1f-9d69-e036faaffbf7",
   "metadata": {
    "execution": {
     "iopub.execute_input": "2025-07-30T13:57:18.995119Z",
     "iopub.status.busy": "2025-07-30T13:57:18.994623Z",
     "iopub.status.idle": "2025-07-30T13:57:18.999692Z",
     "shell.execute_reply": "2025-07-30T13:57:18.998767Z"
    },
    "papermill": {
     "duration": 0.034129,
     "end_time": "2025-07-30T13:57:19.001553",
     "exception": false,
     "start_time": "2025-07-30T13:57:18.967424",
     "status": "completed"
    },
    "tags": []
   },
   "outputs": [],
   "source": [
    "#delete\n",
    "#cp_groups_df"
   ]
  },
  {
   "cell_type": "code",
   "execution_count": 65,
   "id": "fa424af1-d1eb-443d-b717-2d279ada8408",
   "metadata": {
    "execution": {
     "iopub.execute_input": "2025-07-30T13:57:19.057049Z",
     "iopub.status.busy": "2025-07-30T13:57:19.056552Z",
     "iopub.status.idle": "2025-07-30T13:57:19.062003Z",
     "shell.execute_reply": "2025-07-30T13:57:19.061073Z"
    },
    "papermill": {
     "duration": 0.034858,
     "end_time": "2025-07-30T13:57:19.063771",
     "exception": false,
     "start_time": "2025-07-30T13:57:19.028913",
     "status": "completed"
    },
    "tags": []
   },
   "outputs": [],
   "source": [
    "#delete\n",
    "#percentage = (cp_groups_df['nongerman_female'] == 1).mean() * 100\n",
    "#print(percentage)\n"
   ]
  },
  {
   "cell_type": "code",
   "execution_count": 66,
   "id": "6cbdab96-b2b2-45af-ad54-d0516db2e28d",
   "metadata": {
    "execution": {
     "iopub.execute_input": "2025-07-30T13:57:19.119192Z",
     "iopub.status.busy": "2025-07-30T13:57:19.118571Z",
     "iopub.status.idle": "2025-07-30T13:57:20.980359Z",
     "shell.execute_reply": "2025-07-30T13:57:20.979241Z"
    },
    "papermill": {
     "duration": 1.891627,
     "end_time": "2025-07-30T13:57:20.982367",
     "exception": false,
     "start_time": "2025-07-30T13:57:19.090740",
     "status": "completed"
    },
    "tags": []
   },
   "outputs": [],
   "source": [
    "# Define covered = 1 if true_label is in the predicted set\n",
    "cp_groups_df['covered'] = cp_groups_df.apply(\n",
    "    lambda r: int(r['true_label'] in r['pred_set']),\n",
    "    axis=1\n",
    ")"
   ]
  },
  {
   "cell_type": "code",
   "execution_count": 67,
   "id": "338ff529-1a6b-4b87-a931-8e4788d52aad",
   "metadata": {
    "execution": {
     "iopub.execute_input": "2025-07-30T13:57:21.039858Z",
     "iopub.status.busy": "2025-07-30T13:57:21.039133Z",
     "iopub.status.idle": "2025-07-30T13:57:21.045047Z",
     "shell.execute_reply": "2025-07-30T13:57:21.044012Z"
    },
    "papermill": {
     "duration": 0.036493,
     "end_time": "2025-07-30T13:57:21.046737",
     "exception": false,
     "start_time": "2025-07-30T13:57:21.010244",
     "status": "completed"
    },
    "tags": []
   },
   "outputs": [],
   "source": [
    "#cp_groups_df"
   ]
  },
  {
   "cell_type": "code",
   "execution_count": 68,
   "id": "90032e27-66df-4540-9169-4e89cfbaa758",
   "metadata": {
    "execution": {
     "iopub.execute_input": "2025-07-30T13:57:21.102467Z",
     "iopub.status.busy": "2025-07-30T13:57:21.101727Z",
     "iopub.status.idle": "2025-07-30T13:57:21.113755Z",
     "shell.execute_reply": "2025-07-30T13:57:21.112776Z"
    },
    "papermill": {
     "duration": 0.042099,
     "end_time": "2025-07-30T13:57:21.115851",
     "exception": false,
     "start_time": "2025-07-30T13:57:21.073752",
     "status": "completed"
    },
    "tags": []
   },
   "outputs": [],
   "source": [
    "subgroups = ['frau1','nongerman','nongerman_male','nongerman_female']\n",
    "\n",
    "# Conditional coverage for subgroup==1\n",
    "cond_coverage = {\n",
    "    g: cp_groups_df.loc[cp_groups_df[g]==1, 'covered'].mean()\n",
    "    for g in subgroups\n",
    "}"
   ]
  },
  {
   "cell_type": "code",
   "execution_count": 69,
   "id": "1e348fb1-b9c3-45bc-ba23-f016827a7e0d",
   "metadata": {
    "execution": {
     "iopub.execute_input": "2025-07-30T13:57:21.171409Z",
     "iopub.status.busy": "2025-07-30T13:57:21.170563Z",
     "iopub.status.idle": "2025-07-30T13:57:21.178345Z",
     "shell.execute_reply": "2025-07-30T13:57:21.177346Z"
    },
    "papermill": {
     "duration": 0.037605,
     "end_time": "2025-07-30T13:57:21.179929",
     "exception": false,
     "start_time": "2025-07-30T13:57:21.142324",
     "status": "completed"
    },
    "tags": []
   },
   "outputs": [
    {
     "data": {
      "text/plain": [
       "{'frau1': 0.9050276317563014,\n",
       " 'nongerman': 0.9070903272890586,\n",
       " 'nongerman_male': 0.9243447716833288,\n",
       " 'nongerman_female': 0.8785394932935916}"
      ]
     },
     "execution_count": 69,
     "metadata": {},
     "output_type": "execute_result"
    }
   ],
   "source": [
    "cond_coverage"
   ]
  },
  {
   "cell_type": "code",
   "execution_count": 70,
   "id": "f5093324-c3dd-4d63-bc4c-8d945e5c8bbb",
   "metadata": {
    "execution": {
     "iopub.execute_input": "2025-07-30T13:57:21.236782Z",
     "iopub.status.busy": "2025-07-30T13:57:21.236056Z",
     "iopub.status.idle": "2025-07-30T13:57:21.244304Z",
     "shell.execute_reply": "2025-07-30T13:57:21.243349Z"
    },
    "papermill": {
     "duration": 0.038534,
     "end_time": "2025-07-30T13:57:21.245941",
     "exception": false,
     "start_time": "2025-07-30T13:57:21.207407",
     "status": "completed"
    },
    "tags": []
   },
   "outputs": [],
   "source": [
    "for subgroup, cov in cond_coverage.items():\n",
    "    cp_metrics_df[f\"cov_{subgroup}\"] = cov"
   ]
  },
  {
   "cell_type": "code",
   "execution_count": 71,
   "id": "6e872e10-dbe5-49e8-b554-5030c98ff75d",
   "metadata": {
    "execution": {
     "iopub.execute_input": "2025-07-30T13:57:21.302244Z",
     "iopub.status.busy": "2025-07-30T13:57:21.301514Z",
     "iopub.status.idle": "2025-07-30T13:57:21.321616Z",
     "shell.execute_reply": "2025-07-30T13:57:21.320506Z"
    },
    "papermill": {
     "duration": 0.050279,
     "end_time": "2025-07-30T13:57:21.323352",
     "exception": false,
     "start_time": "2025-07-30T13:57:21.273073",
     "status": "completed"
    },
    "tags": []
   },
   "outputs": [
    {
     "data": {
      "text/html": [
       "<div>\n",
       "<style scoped>\n",
       "    .dataframe tbody tr th:only-of-type {\n",
       "        vertical-align: middle;\n",
       "    }\n",
       "\n",
       "    .dataframe tbody tr th {\n",
       "        vertical-align: top;\n",
       "    }\n",
       "\n",
       "    .dataframe thead th {\n",
       "        text-align: right;\n",
       "    }\n",
       "</style>\n",
       "<table border=\"1\" class=\"dataframe\">\n",
       "  <thead>\n",
       "    <tr style=\"text-align: right;\">\n",
       "      <th></th>\n",
       "      <th>universe_id</th>\n",
       "      <th>universe_training_size</th>\n",
       "      <th>universe_scale</th>\n",
       "      <th>universe_model</th>\n",
       "      <th>universe_exclude_features</th>\n",
       "      <th>universe_exclude_subgroups</th>\n",
       "      <th>q_hat</th>\n",
       "      <th>coverage</th>\n",
       "      <th>avg_size</th>\n",
       "      <th>cov_frau1</th>\n",
       "      <th>cov_nongerman</th>\n",
       "      <th>cov_nongerman_male</th>\n",
       "      <th>cov_nongerman_female</th>\n",
       "    </tr>\n",
       "  </thead>\n",
       "  <tbody>\n",
       "    <tr>\n",
       "      <th>0</th>\n",
       "      <td>e9afce3c4b56f3eb3a16f563e2340275</td>\n",
       "      <td>5k</td>\n",
       "      <td>scale</td>\n",
       "      <td>gbm</td>\n",
       "      <td>none</td>\n",
       "      <td>keep-all</td>\n",
       "      <td>0.691185</td>\n",
       "      <td>0.909397</td>\n",
       "      <td>1.122829</td>\n",
       "      <td>0.905028</td>\n",
       "      <td>0.90709</td>\n",
       "      <td>0.924345</td>\n",
       "      <td>0.878539</td>\n",
       "    </tr>\n",
       "  </tbody>\n",
       "</table>\n",
       "</div>"
      ],
      "text/plain": [
       "                        universe_id universe_training_size universe_scale  \\\n",
       "0  e9afce3c4b56f3eb3a16f563e2340275                     5k          scale   \n",
       "\n",
       "  universe_model universe_exclude_features universe_exclude_subgroups  \\\n",
       "0            gbm                      none                   keep-all   \n",
       "\n",
       "      q_hat  coverage  avg_size  cov_frau1  cov_nongerman  cov_nongerman_male  \\\n",
       "0  0.691185  0.909397  1.122829   0.905028        0.90709            0.924345   \n",
       "\n",
       "   cov_nongerman_female  \n",
       "0              0.878539  "
      ]
     },
     "execution_count": 71,
     "metadata": {},
     "output_type": "execute_result"
    }
   ],
   "source": [
    "cp_metrics_df"
   ]
  },
  {
   "cell_type": "markdown",
   "id": "33774451",
   "metadata": {
    "papermill": {
     "duration": 0.026953,
     "end_time": "2025-07-30T13:57:21.377304",
     "exception": false,
     "start_time": "2025-07-30T13:57:21.350351",
     "status": "completed"
    },
    "tags": []
   },
   "source": [
    "# (Fairness) Metrics"
   ]
  },
  {
   "cell_type": "code",
   "execution_count": 72,
   "id": "debc5d62",
   "metadata": {
    "execution": {
     "iopub.execute_input": "2025-07-30T13:57:21.432251Z",
     "iopub.status.busy": "2025-07-30T13:57:21.431771Z",
     "iopub.status.idle": "2025-07-30T13:57:21.454992Z",
     "shell.execute_reply": "2025-07-30T13:57:21.453792Z"
    },
    "papermill": {
     "duration": 0.053418,
     "end_time": "2025-07-30T13:57:21.456992",
     "exception": false,
     "start_time": "2025-07-30T13:57:21.403574",
     "status": "completed"
    },
    "tags": []
   },
   "outputs": [],
   "source": [
    "# do I need to include maxdeutsch1.missing?\n",
    "\n",
    "import numpy as np\n",
    "\n",
    "colname_to_bin = \"maxdeutsch1\"\n",
    "majority_value = org_train[colname_to_bin].mode()[0]\n",
    "\n",
    "org_test[\"majmin\"] = np.where(org_test[colname_to_bin] == majority_value, \"majority\", \"minority\")"
   ]
  },
  {
   "cell_type": "code",
   "execution_count": 73,
   "id": "06a50de5",
   "metadata": {
    "execution": {
     "iopub.execute_input": "2025-07-30T13:57:21.514102Z",
     "iopub.status.busy": "2025-07-30T13:57:21.513658Z",
     "iopub.status.idle": "2025-07-30T13:57:23.933303Z",
     "shell.execute_reply": "2025-07-30T13:57:23.932201Z"
    },
    "papermill": {
     "duration": 2.450815,
     "end_time": "2025-07-30T13:57:23.935289",
     "exception": false,
     "start_time": "2025-07-30T13:57:21.484474",
     "status": "completed"
    },
    "tags": []
   },
   "outputs": [],
   "source": [
    "example_universe = universe.copy()\n",
    "example_universe[\"cutoff\"] = example_universe[\"cutoff\"][0]\n",
    "example_universe[\"eval_fairness_grouping\"] = example_universe[\"eval_fairness_grouping\"][0]\n",
    "fairness_dict, metric_frame = universe_analysis.compute_metrics(\n",
    "    example_universe,\n",
    "    y_pred_prob=probs_test,\n",
    "    y_test=y_true,\n",
    "    org_test=org_test,\n",
    ")"
   ]
  },
  {
   "cell_type": "markdown",
   "id": "f95d4e02",
   "metadata": {
    "papermill": {
     "duration": 0.030771,
     "end_time": "2025-07-30T13:57:23.999801",
     "exception": false,
     "start_time": "2025-07-30T13:57:23.969030",
     "status": "completed"
    },
    "tags": []
   },
   "source": [
    "# Overall"
   ]
  },
  {
   "cell_type": "markdown",
   "id": "bdee4871",
   "metadata": {
    "papermill": {
     "duration": 0.027594,
     "end_time": "2025-07-30T13:57:24.055457",
     "exception": false,
     "start_time": "2025-07-30T13:57:24.027863",
     "status": "completed"
    },
    "tags": []
   },
   "source": [
    "Fairness\n",
    "Main fairness target: Equalized Odds. Seems to be a better fit than equal opportunity, since we're not only interested in Y = 1. Seems to be a better fit than demographic parity, since we also care about accuracy, not just equal distribution of preds.\n",
    "\n",
    "Pick column for computation of fairness metrics\n",
    "\n",
    "Performance\n",
    "Overall performance measures, most interesting in relation to the measures split by group below"
   ]
  },
  {
   "cell_type": "code",
   "execution_count": 74,
   "id": "c4e067c6",
   "metadata": {
    "execution": {
     "iopub.execute_input": "2025-07-30T13:57:24.114307Z",
     "iopub.status.busy": "2025-07-30T13:57:24.113755Z",
     "iopub.status.idle": "2025-07-30T13:57:24.122549Z",
     "shell.execute_reply": "2025-07-30T13:57:24.121556Z"
    },
    "papermill": {
     "duration": 0.040521,
     "end_time": "2025-07-30T13:57:24.124264",
     "exception": false,
     "start_time": "2025-07-30T13:57:24.083743",
     "status": "completed"
    },
    "tags": []
   },
   "outputs": [
    {
     "data": {
      "text/plain": [
       "accuracy                   0.224624\n",
       "balanced accuracy          0.549184\n",
       "f1                         0.245948\n",
       "precision                  0.140502\n",
       "false positive rate        0.887381\n",
       "false negative rate        0.014251\n",
       "selection rate             0.900000\n",
       "count                  89710.000000\n",
       "dtype: float64"
      ]
     },
     "execution_count": 74,
     "metadata": {},
     "output_type": "execute_result"
    }
   ],
   "source": [
    "metric_frame.overall"
   ]
  },
  {
   "cell_type": "markdown",
   "id": "e968fe9d",
   "metadata": {
    "papermill": {
     "duration": 0.028518,
     "end_time": "2025-07-30T13:57:24.181306",
     "exception": false,
     "start_time": "2025-07-30T13:57:24.152788",
     "status": "completed"
    },
    "tags": []
   },
   "source": [
    "By Group"
   ]
  },
  {
   "cell_type": "code",
   "execution_count": 75,
   "id": "ec325bce",
   "metadata": {
    "execution": {
     "iopub.execute_input": "2025-07-30T13:57:24.239834Z",
     "iopub.status.busy": "2025-07-30T13:57:24.239315Z",
     "iopub.status.idle": "2025-07-30T13:57:24.255917Z",
     "shell.execute_reply": "2025-07-30T13:57:24.254966Z"
    },
    "papermill": {
     "duration": 0.048184,
     "end_time": "2025-07-30T13:57:24.257539",
     "exception": false,
     "start_time": "2025-07-30T13:57:24.209355",
     "status": "completed"
    },
    "tags": []
   },
   "outputs": [
    {
     "data": {
      "text/html": [
       "<div>\n",
       "<style scoped>\n",
       "    .dataframe tbody tr th:only-of-type {\n",
       "        vertical-align: middle;\n",
       "    }\n",
       "\n",
       "    .dataframe tbody tr th {\n",
       "        vertical-align: top;\n",
       "    }\n",
       "\n",
       "    .dataframe thead th {\n",
       "        text-align: right;\n",
       "    }\n",
       "</style>\n",
       "<table border=\"1\" class=\"dataframe\">\n",
       "  <thead>\n",
       "    <tr style=\"text-align: right;\">\n",
       "      <th></th>\n",
       "      <th>accuracy</th>\n",
       "      <th>balanced accuracy</th>\n",
       "      <th>f1</th>\n",
       "      <th>precision</th>\n",
       "      <th>false positive rate</th>\n",
       "      <th>false negative rate</th>\n",
       "      <th>selection rate</th>\n",
       "      <th>count</th>\n",
       "    </tr>\n",
       "    <tr>\n",
       "      <th>majmin</th>\n",
       "      <th></th>\n",
       "      <th></th>\n",
       "      <th></th>\n",
       "      <th></th>\n",
       "      <th></th>\n",
       "      <th></th>\n",
       "      <th></th>\n",
       "      <th></th>\n",
       "    </tr>\n",
       "  </thead>\n",
       "  <tbody>\n",
       "    <tr>\n",
       "      <th>majority</th>\n",
       "      <td>0.245280</td>\n",
       "      <td>0.558321</td>\n",
       "      <td>0.256226</td>\n",
       "      <td>0.147294</td>\n",
       "      <td>0.867166</td>\n",
       "      <td>0.016193</td>\n",
       "      <td>0.882579</td>\n",
       "      <td>69170.0</td>\n",
       "    </tr>\n",
       "    <tr>\n",
       "      <th>minority</th>\n",
       "      <td>0.155063</td>\n",
       "      <td>0.519541</td>\n",
       "      <td>0.213246</td>\n",
       "      <td>0.119445</td>\n",
       "      <td>0.954160</td>\n",
       "      <td>0.006757</td>\n",
       "      <td>0.958666</td>\n",
       "      <td>20540.0</td>\n",
       "    </tr>\n",
       "  </tbody>\n",
       "</table>\n",
       "</div>"
      ],
      "text/plain": [
       "          accuracy  balanced accuracy        f1  precision  \\\n",
       "majmin                                                       \n",
       "majority  0.245280           0.558321  0.256226   0.147294   \n",
       "minority  0.155063           0.519541  0.213246   0.119445   \n",
       "\n",
       "          false positive rate  false negative rate  selection rate    count  \n",
       "majmin                                                                       \n",
       "majority             0.867166             0.016193        0.882579  69170.0  \n",
       "minority             0.954160             0.006757        0.958666  20540.0  "
      ]
     },
     "execution_count": 75,
     "metadata": {},
     "output_type": "execute_result"
    }
   ],
   "source": [
    "metric_frame.by_group"
   ]
  },
  {
   "cell_type": "code",
   "execution_count": 76,
   "id": "a9ddbe63",
   "metadata": {
    "execution": {
     "iopub.execute_input": "2025-07-30T13:57:24.317629Z",
     "iopub.status.busy": "2025-07-30T13:57:24.317133Z",
     "iopub.status.idle": "2025-07-30T13:57:26.194795Z",
     "shell.execute_reply": "2025-07-30T13:57:26.193790Z"
    },
    "papermill": {
     "duration": 1.909421,
     "end_time": "2025-07-30T13:57:26.196713",
     "exception": false,
     "start_time": "2025-07-30T13:57:24.287292",
     "status": "completed"
    },
    "tags": []
   },
   "outputs": [
    {
     "data": {
      "text/plain": [
       "array([[<Axes: title={'center': 'accuracy'}, xlabel='majmin'>,\n",
       "        <Axes: title={'center': 'balanced accuracy'}, xlabel='majmin'>,\n",
       "        <Axes: title={'center': 'f1'}, xlabel='majmin'>],\n",
       "       [<Axes: title={'center': 'precision'}, xlabel='majmin'>,\n",
       "        <Axes: title={'center': 'false positive rate'}, xlabel='majmin'>,\n",
       "        <Axes: title={'center': 'false negative rate'}, xlabel='majmin'>],\n",
       "       [<Axes: title={'center': 'selection rate'}, xlabel='majmin'>,\n",
       "        <Axes: title={'center': 'count'}, xlabel='majmin'>,\n",
       "        <Axes: xlabel='majmin'>]], dtype=object)"
      ]
     },
     "execution_count": 76,
     "metadata": {},
     "output_type": "execute_result"
    },
    {
     "data": {
      "image/png": "[encoded data removed]",
      "text/plain": [
       "<Figure size 1200x800 with 9 Axes>"
      ]
     },
     "metadata": {},
     "output_type": "display_data"
    }
   ],
   "source": [
    "# In a graphic\n",
    "metric_frame.by_group.plot.bar(\n",
    "    subplots=True,\n",
    "    layout=[3, 3],\n",
    "    legend=False,\n",
    "    figsize=[12, 8],\n",
    "    title=\"Show all metrics\",\n",
    ")"
   ]
  },
  {
   "cell_type": "markdown",
   "id": "f57a0bac",
   "metadata": {
    "papermill": {
     "duration": 0.02824,
     "end_time": "2025-07-30T13:57:26.254508",
     "exception": false,
     "start_time": "2025-07-30T13:57:26.226268",
     "status": "completed"
    },
    "tags": []
   },
   "source": [
    "# Final Output"
   ]
  },
  {
   "cell_type": "code",
   "execution_count": 77,
   "id": "96d280a3",
   "metadata": {
    "execution": {
     "iopub.execute_input": "2025-07-30T13:57:26.314411Z",
     "iopub.status.busy": "2025-07-30T13:57:26.313329Z",
     "iopub.status.idle": "2025-07-30T13:57:26.321975Z",
     "shell.execute_reply": "2025-07-30T13:57:26.320938Z"
    },
    "papermill": {
     "duration": 0.039947,
     "end_time": "2025-07-30T13:57:26.323736",
     "exception": false,
     "start_time": "2025-07-30T13:57:26.283789",
     "status": "completed"
    },
    "tags": []
   },
   "outputs": [
    {
     "data": {
      "text/plain": [
       "4"
      ]
     },
     "execution_count": 77,
     "metadata": {},
     "output_type": "execute_result"
    }
   ],
   "source": [
    "sub_universes = universe_analysis.generate_sub_universes()\n",
    "len(sub_universes)"
   ]
  },
  {
   "cell_type": "code",
   "execution_count": 78,
   "id": "92adf7ba",
   "metadata": {
    "execution": {
     "iopub.execute_input": "2025-07-30T13:57:26.385343Z",
     "iopub.status.busy": "2025-07-30T13:57:26.384499Z",
     "iopub.status.idle": "2025-07-30T13:57:26.390840Z",
     "shell.execute_reply": "2025-07-30T13:57:26.389886Z"
    },
    "papermill": {
     "duration": 0.038088,
     "end_time": "2025-07-30T13:57:26.392726",
     "exception": false,
     "start_time": "2025-07-30T13:57:26.354638",
     "status": "completed"
    },
    "tags": []
   },
   "outputs": [],
   "source": [
    "def filter_sub_universe_data(sub_universe, org_test):\n",
    "    # Keep all rows — no filtering\n",
    "    keep_rows_mask = np.ones(org_test.shape[0], dtype=bool)\n",
    "\n",
    "    print(f\"[INFO] Keeping all rows: {keep_rows_mask.sum()} rows retained.\")\n",
    "    return keep_rows_mask"
   ]
  },
  {
   "cell_type": "code",
   "execution_count": 79,
   "id": "4a759155",
   "metadata": {
    "execution": {
     "iopub.execute_input": "2025-07-30T13:57:26.455244Z",
     "iopub.status.busy": "2025-07-30T13:57:26.454369Z",
     "iopub.status.idle": "2025-07-30T13:57:37.307682Z",
     "shell.execute_reply": "2025-07-30T13:57:37.306415Z"
    },
    "papermill": {
     "duration": 10.886092,
     "end_time": "2025-07-30T13:57:37.309529",
     "exception": false,
     "start_time": "2025-07-30T13:57:26.423437",
     "status": "completed"
    },
    "tags": []
   },
   "outputs": [
    {
     "name": "stdout",
     "output_type": "stream",
     "text": [
      "Stopping execution_time clock.\n",
      "[INFO] Keeping all rows: 89710 rows retained.\n"
     ]
    },
    {
     "name": "stdout",
     "output_type": "stream",
     "text": [
      "[INFO] Keeping all rows: 89710 rows retained.\n"
     ]
    },
    {
     "name": "stdout",
     "output_type": "stream",
     "text": [
      "[INFO] Keeping all rows: 89710 rows retained.\n"
     ]
    },
    {
     "name": "stdout",
     "output_type": "stream",
     "text": [
      "[INFO] Keeping all rows: 89710 rows retained.\n"
     ]
    },
    {
     "data": {
      "text/html": [
       "<div>\n",
       "<style scoped>\n",
       "    .dataframe tbody tr th:only-of-type {\n",
       "        vertical-align: middle;\n",
       "    }\n",
       "\n",
       "    .dataframe tbody tr th {\n",
       "        vertical-align: top;\n",
       "    }\n",
       "\n",
       "    .dataframe thead th {\n",
       "        text-align: right;\n",
       "    }\n",
       "</style>\n",
       "<table border=\"1\" class=\"dataframe\">\n",
       "  <thead>\n",
       "    <tr style=\"text-align: right;\">\n",
       "      <th></th>\n",
       "      <th>run_no</th>\n",
       "      <th>universe_id</th>\n",
       "      <th>universe_settings</th>\n",
       "      <th>execution_time</th>\n",
       "      <th>test_size_n</th>\n",
       "      <th>test_size_frac</th>\n",
       "      <th>fair_main_equalized_odds_difference</th>\n",
       "      <th>fair_main_equalized_odds_ratio</th>\n",
       "      <th>fair_main_demographic_parity_difference</th>\n",
       "      <th>fair_main_demographic_parity_ratio</th>\n",
       "      <th>...</th>\n",
       "      <th>perf_grp_precision_0</th>\n",
       "      <th>perf_grp_precision_1</th>\n",
       "      <th>perf_grp_false positive rate_0</th>\n",
       "      <th>perf_grp_false positive rate_1</th>\n",
       "      <th>perf_grp_false negative rate_0</th>\n",
       "      <th>perf_grp_false negative rate_1</th>\n",
       "      <th>perf_grp_selection rate_0</th>\n",
       "      <th>perf_grp_selection rate_1</th>\n",
       "      <th>perf_grp_count_0</th>\n",
       "      <th>perf_grp_count_1</th>\n",
       "    </tr>\n",
       "  </thead>\n",
       "  <tbody>\n",
       "    <tr>\n",
       "      <th>0</th>\n",
       "      <td>12</td>\n",
       "      <td>e9afce3c4b56f3eb3a16f563e2340275</td>\n",
       "      <td>{\"cutoff\": \"quantile_0.1\", \"eval_fairness_grou...</td>\n",
       "      <td>35.176912</td>\n",
       "      <td>89710</td>\n",
       "      <td>1.0</td>\n",
       "      <td>0.086994</td>\n",
       "      <td>0.908827</td>\n",
       "      <td>0.076087</td>\n",
       "      <td>0.920633</td>\n",
       "      <td>...</td>\n",
       "      <td>NaN</td>\n",
       "      <td>NaN</td>\n",
       "      <td>NaN</td>\n",
       "      <td>NaN</td>\n",
       "      <td>NaN</td>\n",
       "      <td>NaN</td>\n",
       "      <td>NaN</td>\n",
       "      <td>NaN</td>\n",
       "      <td>NaN</td>\n",
       "      <td>NaN</td>\n",
       "    </tr>\n",
       "    <tr>\n",
       "      <th>0</th>\n",
       "      <td>12</td>\n",
       "      <td>e9afce3c4b56f3eb3a16f563e2340275</td>\n",
       "      <td>{\"cutoff\": \"quantile_0.1\", \"eval_fairness_grou...</td>\n",
       "      <td>35.176912</td>\n",
       "      <td>89710</td>\n",
       "      <td>1.0</td>\n",
       "      <td>0.086994</td>\n",
       "      <td>0.908827</td>\n",
       "      <td>0.076087</td>\n",
       "      <td>0.920633</td>\n",
       "      <td>...</td>\n",
       "      <td>0.119445</td>\n",
       "      <td>0.147294</td>\n",
       "      <td>0.954160</td>\n",
       "      <td>0.867166</td>\n",
       "      <td>0.006757</td>\n",
       "      <td>0.016193</td>\n",
       "      <td>0.958666</td>\n",
       "      <td>0.882579</td>\n",
       "      <td>20540.0</td>\n",
       "      <td>69170.0</td>\n",
       "    </tr>\n",
       "    <tr>\n",
       "      <th>0</th>\n",
       "      <td>12</td>\n",
       "      <td>e9afce3c4b56f3eb3a16f563e2340275</td>\n",
       "      <td>{\"cutoff\": \"quantile_0.25\", \"eval_fairness_gro...</td>\n",
       "      <td>35.176912</td>\n",
       "      <td>89710</td>\n",
       "      <td>1.0</td>\n",
       "      <td>0.104333</td>\n",
       "      <td>0.869847</td>\n",
       "      <td>0.086891</td>\n",
       "      <td>0.893645</td>\n",
       "      <td>...</td>\n",
       "      <td>NaN</td>\n",
       "      <td>NaN</td>\n",
       "      <td>NaN</td>\n",
       "      <td>NaN</td>\n",
       "      <td>NaN</td>\n",
       "      <td>NaN</td>\n",
       "      <td>NaN</td>\n",
       "      <td>NaN</td>\n",
       "      <td>NaN</td>\n",
       "      <td>NaN</td>\n",
       "    </tr>\n",
       "    <tr>\n",
       "      <th>0</th>\n",
       "      <td>12</td>\n",
       "      <td>e9afce3c4b56f3eb3a16f563e2340275</td>\n",
       "      <td>{\"cutoff\": \"quantile_0.25\", \"eval_fairness_gro...</td>\n",
       "      <td>35.176912</td>\n",
       "      <td>89710</td>\n",
       "      <td>1.0</td>\n",
       "      <td>0.104333</td>\n",
       "      <td>0.869847</td>\n",
       "      <td>0.086891</td>\n",
       "      <td>0.893645</td>\n",
       "      <td>...</td>\n",
       "      <td>0.131935</td>\n",
       "      <td>0.171145</td>\n",
       "      <td>0.801618</td>\n",
       "      <td>0.697285</td>\n",
       "      <td>0.065034</td>\n",
       "      <td>0.054376</td>\n",
       "      <td>0.816991</td>\n",
       "      <td>0.730100</td>\n",
       "      <td>20540.0</td>\n",
       "      <td>69170.0</td>\n",
       "    </tr>\n",
       "  </tbody>\n",
       "</table>\n",
       "<p>4 rows × 50 columns</p>\n",
       "</div>"
      ],
      "text/plain": [
       "  run_no                       universe_id  \\\n",
       "0     12  e9afce3c4b56f3eb3a16f563e2340275   \n",
       "0     12  e9afce3c4b56f3eb3a16f563e2340275   \n",
       "0     12  e9afce3c4b56f3eb3a16f563e2340275   \n",
       "0     12  e9afce3c4b56f3eb3a16f563e2340275   \n",
       "\n",
       "                                   universe_settings  execution_time  \\\n",
       "0  {\"cutoff\": \"quantile_0.1\", \"eval_fairness_grou...       35.176912   \n",
       "0  {\"cutoff\": \"quantile_0.1\", \"eval_fairness_grou...       35.176912   \n",
       "0  {\"cutoff\": \"quantile_0.25\", \"eval_fairness_gro...       35.176912   \n",
       "0  {\"cutoff\": \"quantile_0.25\", \"eval_fairness_gro...       35.176912   \n",
       "\n",
       "   test_size_n  test_size_frac  fair_main_equalized_odds_difference  \\\n",
       "0        89710             1.0                             0.086994   \n",
       "0        89710             1.0                             0.086994   \n",
       "0        89710             1.0                             0.104333   \n",
       "0        89710             1.0                             0.104333   \n",
       "\n",
       "   fair_main_equalized_odds_ratio  fair_main_demographic_parity_difference  \\\n",
       "0                        0.908827                                 0.076087   \n",
       "0                        0.908827                                 0.076087   \n",
       "0                        0.869847                                 0.086891   \n",
       "0                        0.869847                                 0.086891   \n",
       "\n",
       "   fair_main_demographic_parity_ratio  ...  perf_grp_precision_0  \\\n",
       "0                            0.920633  ...                   NaN   \n",
       "0                            0.920633  ...              0.119445   \n",
       "0                            0.893645  ...                   NaN   \n",
       "0                            0.893645  ...              0.131935   \n",
       "\n",
       "   perf_grp_precision_1  perf_grp_false positive rate_0  \\\n",
       "0                   NaN                             NaN   \n",
       "0              0.147294                        0.954160   \n",
       "0                   NaN                             NaN   \n",
       "0              0.171145                        0.801618   \n",
       "\n",
       "   perf_grp_false positive rate_1  perf_grp_false negative rate_0  \\\n",
       "0                             NaN                             NaN   \n",
       "0                        0.867166                        0.006757   \n",
       "0                             NaN                             NaN   \n",
       "0                        0.697285                        0.065034   \n",
       "\n",
       "   perf_grp_false negative rate_1  perf_grp_selection rate_0  \\\n",
       "0                             NaN                        NaN   \n",
       "0                        0.016193                   0.958666   \n",
       "0                             NaN                        NaN   \n",
       "0                        0.054376                   0.816991   \n",
       "\n",
       "   perf_grp_selection rate_1  perf_grp_count_0  perf_grp_count_1  \n",
       "0                        NaN               NaN               NaN  \n",
       "0                   0.882579           20540.0           69170.0  \n",
       "0                        NaN               NaN               NaN  \n",
       "0                   0.730100           20540.0           69170.0  \n",
       "\n",
       "[4 rows x 50 columns]"
      ]
     },
     "execution_count": 79,
     "metadata": {},
     "output_type": "execute_result"
    }
   ],
   "source": [
    "final_output = universe_analysis.generate_final_output(\n",
    "    y_pred_prob=probs_test,\n",
    "    y_test=y_true,\n",
    "    org_test=org_test,\n",
    "    filter_data=filter_sub_universe_data,\n",
    "    cp_metrics_df=cp_metrics_df,\n",
    "    save=True,\n",
    ")\n",
    "final_output"
   ]
  },
  {
   "cell_type": "code",
   "execution_count": null,
   "id": "721ff514-cb11-46f8-b6fc-50392f74b5cb",
   "metadata": {
    "papermill": {
     "duration": 0.031276,
     "end_time": "2025-07-30T13:57:37.374032",
     "exception": false,
     "start_time": "2025-07-30T13:57:37.342756",
     "status": "completed"
    },
    "tags": []
   },
   "outputs": [],
   "source": []
  }
 ],
 "metadata": {
  "celltoolbar": "Tags",
  "kernelspec": {
   "display_name": "Python (CMA Fairness)",
   "language": "python",
   "name": "cma_fair_env"
  },
  "language_info": {
   "codemirror_mode": {
    "name": "ipython",
    "version": 3
   },
   "file_extension": ".py",
   "mimetype": "text/x-python",
   "name": "python",
   "nbconvert_exporter": "python",
   "pygments_lexer": "ipython3",
   "version": "3.10.12"
  },
  "papermill": {
   "default_parameters": {},
   "duration": 50.148679,
   "end_time": "2025-07-30T13:57:38.224880",
   "environment_variables": {},
   "exception": null,
   "input_path": "universe_analysis.ipynb",
   "output_path": "output/runs/12/notebooks/m_12-e9afce3c4b56f3eb3a16f563e2340275.ipynb",
   "parameters": {
    "output_dir": "output",
    "run_no": "12",
    "seed": "2023",
    "universe": "{\"cutoff\": [\"quantile_0.1\", \"quantile_0.25\"], \"eval_fairness_grouping\": [\"majority-minority\", \"nationality-all\"], \"exclude_features\": \"none\", \"exclude_subgroups\": \"keep-all\", \"model\": \"gbm\", \"scale\": \"scale\", \"training_size\": \"5k\", \"training_year\": \"2012_14\"}",
    "universe_id": "e9afce3c4b56f3eb3a16f563e2340275"
   },
   "start_time": "2025-07-30T13:56:48.076201",
   "version": "2.6.0"
  }
 },
 "nbformat": 4,
 "nbformat_minor": 5
}