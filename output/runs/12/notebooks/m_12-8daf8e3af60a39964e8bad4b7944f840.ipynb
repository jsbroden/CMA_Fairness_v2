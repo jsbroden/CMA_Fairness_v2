{
 "cells": [
  {
   "cell_type": "code",
   "execution_count": 1,
   "id": "f159f837-637b-42ba-96b5-ec9a68c44524",
   "metadata": {
    "execution": {
     "iopub.execute_input": "2025-07-30T14:18:00.914358Z",
     "iopub.status.busy": "2025-07-30T14:18:00.913577Z",
     "iopub.status.idle": "2025-07-30T14:18:00.926573Z",
     "shell.execute_reply": "2025-07-30T14:18:00.925671Z"
    },
    "papermill": {
     "duration": 0.034493,
     "end_time": "2025-07-30T14:18:00.928227",
     "exception": false,
     "start_time": "2025-07-30T14:18:00.893734",
     "status": "completed"
    },
    "tags": []
   },
   "outputs": [
    {
     "name": "stdout",
     "output_type": "stream",
     "text": [
      "/dss/dsshome1/0C/ra93lal2/cma/CMA_Fairness_v2\n"
     ]
    },
    {
     "name": "stderr",
     "output_type": "stream",
     "text": [
      "/dss/dsshome1/0C/ra93lal2/.local/share/virtualenvs/CMA_Fairness_v2-3j10GkSs/lib/python3.10/site-packages/IPython/core/magics/osm.py:393: UserWarning: This is now an optional IPython functionality, using bookmarks requires you to install the `pickleshare` library.\n",
      "  bkms = self.shell.db.get('bookmarks', {})\n",
      "/dss/dsshome1/0C/ra93lal2/.local/share/virtualenvs/CMA_Fairness_v2-3j10GkSs/lib/python3.10/site-packages/IPython/core/magics/osm.py:417: UserWarning: This is now an optional IPython functionality, setting dhist requires you to install the `pickleshare` library.\n",
      "  self.shell.db['dhist'] = compress_dhist(dhist)[-100:]\n"
     ]
    }
   ],
   "source": [
    "%cd ~/cma/CMA_Fairness_v2"
   ]
  },
  {
   "cell_type": "markdown",
   "id": "de2603b9",
   "metadata": {
    "papermill": {
     "duration": 0.018061,
     "end_time": "2025-07-30T14:18:00.964660",
     "exception": false,
     "start_time": "2025-07-30T14:18:00.946599",
     "status": "completed"
    },
    "tags": []
   },
   "source": [
    "The following cell holds the definition of our parameters, these values can be overriden by rendering the with e.g. the following command:\n",
    "\n",
    "papermill -p alpha 0.2 -p ratio 0.3 universe_analysis.ipynb output/test_run.ipynb"
   ]
  },
  {
   "cell_type": "code",
   "execution_count": 2,
   "id": "a80968a0-40bb-4fa9-85ef-2d5eefb01975",
   "metadata": {
    "execution": {
     "iopub.execute_input": "2025-07-30T14:18:01.002231Z",
     "iopub.status.busy": "2025-07-30T14:18:01.001609Z",
     "iopub.status.idle": "2025-07-30T14:18:01.007032Z",
     "shell.execute_reply": "2025-07-30T14:18:01.006179Z"
    },
    "papermill": {
     "duration": 0.025783,
     "end_time": "2025-07-30T14:18:01.008630",
     "exception": false,
     "start_time": "2025-07-30T14:18:00.982847",
     "status": "completed"
    },
    "tags": []
   },
   "outputs": [
    {
     "name": "stdout",
     "output_type": "stream",
     "text": [
      "Current working directory: /dss/dsshome1/0C/ra93lal2/cma/CMA_Fairness_v2\n"
     ]
    }
   ],
   "source": [
    "import os\n",
    "print(\"Current working directory:\", os.getcwd())"
   ]
  },
  {
   "cell_type": "code",
   "execution_count": 3,
   "id": "2dce4c03",
   "metadata": {
    "execution": {
     "iopub.execute_input": "2025-07-30T14:18:01.046081Z",
     "iopub.status.busy": "2025-07-30T14:18:01.045715Z",
     "iopub.status.idle": "2025-07-30T14:18:01.051110Z",
     "shell.execute_reply": "2025-07-30T14:18:01.050325Z"
    },
    "papermill": {
     "duration": 0.025364,
     "end_time": "2025-07-30T14:18:01.052565",
     "exception": false,
     "start_time": "2025-07-30T14:18:01.027201",
     "status": "completed"
    },
    "tags": [
     "parameters"
    ]
   },
   "outputs": [],
   "source": [
    "run_no = 0\n",
    "universe_id = \"test\"\n",
    "universe = {\n",
    "    \"training_size\": \"25k\", # \"25k\", \"5k\", \"1k\"\n",
    "    \"training_year\": \"2014\", # \"2014\", \"2012_14\", \"2010_14\"\n",
    "    \"scale\": \"scale\", # \"scale\", \"do-not-scale\",\n",
    "    #\"stratify_split\": \"target\", # \"none\", \"target\", \"protected-attribute\", \"both\",\n",
    "    \"model\": \"elasticnet\", # \"logreg\", \"penalized_logreg\", \"rf\", \"gbm\", \"elasticnet\"\n",
    "    \"cutoff\": [\"quantile_0.15\", \"quantile_0.30\"],\n",
    "    \"exclude_features\": \"age\", # \"none\", \"nationality\", \"sex\", \"nationality-sex\", \"age\"\n",
    "    \"exclude_subgroups\": \"keep-all\", # \"keep-all\", \"drop-non-german\"\n",
    "    \"eval_fairness_grouping\": [\"majority-minority\", \"nationality-all\"]\n",
    "}\n",
    "\n",
    "output_dir=\"./output\"\n",
    "seed=0"
   ]
  },
  {
   "cell_type": "code",
   "execution_count": 4,
   "id": "d52a11cc",
   "metadata": {
    "execution": {
     "iopub.execute_input": "2025-07-30T14:18:01.090688Z",
     "iopub.status.busy": "2025-07-30T14:18:01.089908Z",
     "iopub.status.idle": "2025-07-30T14:18:01.094785Z",
     "shell.execute_reply": "2025-07-30T14:18:01.093900Z"
    },
    "papermill": {
     "duration": 0.02551,
     "end_time": "2025-07-30T14:18:01.096455",
     "exception": false,
     "start_time": "2025-07-30T14:18:01.070945",
     "status": "completed"
    },
    "tags": [
     "injected-parameters"
    ]
   },
   "outputs": [],
   "source": [
    "# Parameters\n",
    "universe_id = \"8daf8e3af60a39964e8bad4b7944f840\"\n",
    "run_no = \"12\"\n",
    "universe = \"{\\\"cutoff\\\": [\\\"quantile_0.1\\\", \\\"quantile_0.25\\\"], \\\"eval_fairness_grouping\\\": [\\\"majority-minority\\\", \\\"nationality-all\\\"], \\\"exclude_features\\\": \\\"age\\\", \\\"exclude_subgroups\\\": \\\"drop-non-german\\\", \\\"model\\\": \\\"elasticnet\\\", \\\"scale\\\": \\\"do-not-scale\\\", \\\"training_size\\\": \\\"5k\\\", \\\"training_year\\\": \\\"2010_14\\\"}\"\n",
    "output_dir = \"output\"\n",
    "seed = \"2023\"\n"
   ]
  },
  {
   "cell_type": "code",
   "execution_count": 5,
   "id": "1650acaf",
   "metadata": {
    "execution": {
     "iopub.execute_input": "2025-07-30T14:18:01.134656Z",
     "iopub.status.busy": "2025-07-30T14:18:01.134270Z",
     "iopub.status.idle": "2025-07-30T14:18:01.138996Z",
     "shell.execute_reply": "2025-07-30T14:18:01.138194Z"
    },
    "papermill": {
     "duration": 0.025055,
     "end_time": "2025-07-30T14:18:01.140465",
     "exception": false,
     "start_time": "2025-07-30T14:18:01.115410",
     "status": "completed"
    },
    "tags": []
   },
   "outputs": [],
   "source": [
    "import json\n",
    "# Parse universe into dict if it is passed as a string\n",
    "if isinstance(universe, str):\n",
    "    universe = json.loads(universe)"
   ]
  },
  {
   "cell_type": "code",
   "execution_count": 6,
   "id": "16620c48",
   "metadata": {
    "execution": {
     "iopub.execute_input": "2025-07-30T14:18:01.178274Z",
     "iopub.status.busy": "2025-07-30T14:18:01.177915Z",
     "iopub.status.idle": "2025-07-30T14:18:01.221311Z",
     "shell.execute_reply": "2025-07-30T14:18:01.220514Z"
    },
    "papermill": {
     "duration": 0.06374,
     "end_time": "2025-07-30T14:18:01.222979",
     "exception": false,
     "start_time": "2025-07-30T14:18:01.159239",
     "status": "completed"
    },
    "tags": []
   },
   "outputs": [],
   "source": [
    "# Auto-reload the custom package\n",
    "%load_ext autoreload\n",
    "%autoreload 1\n",
    "%aimport fairness_multiverse"
   ]
  },
  {
   "cell_type": "code",
   "execution_count": 7,
   "id": "01c5c9f3",
   "metadata": {
    "execution": {
     "iopub.execute_input": "2025-07-30T14:18:01.260918Z",
     "iopub.status.busy": "2025-07-30T14:18:01.260433Z",
     "iopub.status.idle": "2025-07-30T14:18:03.112647Z",
     "shell.execute_reply": "2025-07-30T14:18:03.111550Z"
    },
    "papermill": {
     "duration": 1.872928,
     "end_time": "2025-07-30T14:18:03.114551",
     "exception": false,
     "start_time": "2025-07-30T14:18:01.241623",
     "status": "completed"
    },
    "tags": []
   },
   "outputs": [],
   "source": [
    "from fairness_multiverse.universe import UniverseAnalysis\n",
    "\n",
    "universe_analysis = UniverseAnalysis(\n",
    "    run_no = run_no,\n",
    "    universe_id = universe_id,\n",
    "    universe = universe,\n",
    "    output_dir=output_dir,\n",
    ")"
   ]
  },
  {
   "cell_type": "code",
   "execution_count": 8,
   "id": "106241f5",
   "metadata": {
    "execution": {
     "iopub.execute_input": "2025-07-30T14:18:03.158008Z",
     "iopub.status.busy": "2025-07-30T14:18:03.157079Z",
     "iopub.status.idle": "2025-07-30T14:18:03.164071Z",
     "shell.execute_reply": "2025-07-30T14:18:03.163092Z"
    },
    "papermill": {
     "duration": 0.030122,
     "end_time": "2025-07-30T14:18:03.165786",
     "exception": false,
     "start_time": "2025-07-30T14:18:03.135664",
     "status": "completed"
    },
    "tags": []
   },
   "outputs": [
    {
     "name": "stdout",
     "output_type": "stream",
     "text": [
      "Using Seed: 2023\n"
     ]
    }
   ],
   "source": [
    "import numpy as np\n",
    "parsed_seed = int(seed)\n",
    "np.random.seed(parsed_seed)\n",
    "print(f\"Using Seed: {parsed_seed}\")"
   ]
  },
  {
   "cell_type": "markdown",
   "id": "e0ebdc57",
   "metadata": {
    "papermill": {
     "duration": 0.020023,
     "end_time": "2025-07-30T14:18:03.207147",
     "exception": false,
     "start_time": "2025-07-30T14:18:03.187124",
     "status": "completed"
    },
    "tags": []
   },
   "source": [
    "# Loading Data"
   ]
  },
  {
   "cell_type": "markdown",
   "id": "681925a3",
   "metadata": {
    "papermill": {
     "duration": 0.020228,
     "end_time": "2025-07-30T14:18:03.247478",
     "exception": false,
     "start_time": "2025-07-30T14:18:03.227250",
     "status": "completed"
    },
    "tags": []
   },
   "source": [
    "Load siab_train, siab_test, siab_calib and/or \n",
    "load siab_train_features, siab_train_labels"
   ]
  },
  {
   "cell_type": "code",
   "execution_count": 9,
   "id": "f0496b8a",
   "metadata": {
    "execution": {
     "iopub.execute_input": "2025-07-30T14:18:03.289986Z",
     "iopub.status.busy": "2025-07-30T14:18:03.289018Z",
     "iopub.status.idle": "2025-07-30T14:18:15.702895Z",
     "shell.execute_reply": "2025-07-30T14:18:15.701588Z"
    },
    "papermill": {
     "duration": 12.436961,
     "end_time": "2025-07-30T14:18:15.704671",
     "exception": false,
     "start_time": "2025-07-30T14:18:03.267710",
     "status": "completed"
    },
    "tags": []
   },
   "outputs": [
    {
     "name": "stdout",
     "output_type": "stream",
     "text": [
      "Loading SIAB data from cache: data/siab_cached.csv.gz\n"
     ]
    },
    {
     "name": "stdout",
     "output_type": "stream",
     "text": [
      "(643690, 164)\n"
     ]
    }
   ],
   "source": [
    "from pathlib import Path\n",
    "import pandas as pd\n",
    "\n",
    "# File paths\n",
    "raw_file = Path(\"data/raw/siab.csv\")\n",
    "cache_file = Path(\"data/siab_cached.csv.gz\")\n",
    "\n",
    "# Ensure cache directory exists\n",
    "cache_file.parent.mkdir(parents=True, exist_ok=True)\n",
    "\n",
    "# Load with simple caching\n",
    "if cache_file.exists():\n",
    "    print(f\"Loading SIAB data from cache: {cache_file}\")\n",
    "    siab = pd.read_csv(cache_file, compression='gzip')\n",
    "else:\n",
    "    print(f\"Cache not found. Reading raw SIAB data: {raw_file}\")\n",
    "    siab = pd.read_csv(raw_file)\n",
    "    siab.to_csv(cache_file, index=False, compression='gzip')\n",
    "    print(f\"Cached SIAB data to: {cache_file}\")\n",
    "\n",
    "# Now use `siab` DataFrame as needed\n",
    "print(siab.shape)"
   ]
  },
  {
   "cell_type": "code",
   "execution_count": 10,
   "id": "db0ca512-5f53-4dba-abdb-a2888bca41ba",
   "metadata": {
    "execution": {
     "iopub.execute_input": "2025-07-30T14:18:15.752456Z",
     "iopub.status.busy": "2025-07-30T14:18:15.751644Z",
     "iopub.status.idle": "2025-07-30T14:18:15.757750Z",
     "shell.execute_reply": "2025-07-30T14:18:15.756803Z"
    },
    "papermill": {
     "duration": 0.028752,
     "end_time": "2025-07-30T14:18:15.759446",
     "exception": false,
     "start_time": "2025-07-30T14:18:15.730694",
     "status": "completed"
    },
    "tags": []
   },
   "outputs": [],
   "source": [
    "#siab"
   ]
  },
  {
   "cell_type": "code",
   "execution_count": 11,
   "id": "a0edb063",
   "metadata": {
    "execution": {
     "iopub.execute_input": "2025-07-30T14:18:15.840391Z",
     "iopub.status.busy": "2025-07-30T14:18:15.839668Z",
     "iopub.status.idle": "2025-07-30T14:18:15.866386Z",
     "shell.execute_reply": "2025-07-30T14:18:15.865254Z"
    },
    "papermill": {
     "duration": 0.050154,
     "end_time": "2025-07-30T14:18:15.868562",
     "exception": false,
     "start_time": "2025-07-30T14:18:15.818408",
     "status": "completed"
    },
    "tags": []
   },
   "outputs": [],
   "source": [
    "#import pandas as pd\n",
    "#\n",
    "#X_train = pd.read_csv(\"./data/X_train.csv\")\n",
    "#y_train = pd.read_csv(\"./data/y_train.csv\")"
   ]
  },
  {
   "cell_type": "code",
   "execution_count": 12,
   "id": "63d08085",
   "metadata": {
    "execution": {
     "iopub.execute_input": "2025-07-30T14:18:15.916157Z",
     "iopub.status.busy": "2025-07-30T14:18:15.915328Z",
     "iopub.status.idle": "2025-07-30T14:18:15.921192Z",
     "shell.execute_reply": "2025-07-30T14:18:15.920026Z"
    },
    "papermill": {
     "duration": 0.03032,
     "end_time": "2025-07-30T14:18:15.922979",
     "exception": false,
     "start_time": "2025-07-30T14:18:15.892659",
     "status": "completed"
    },
    "tags": []
   },
   "outputs": [],
   "source": [
    "#X_test = pd.read_csv(\"./data/X_test.csv\")\n",
    "#y_true = pd.read_csv(\"./data/y_test.csv\")"
   ]
  },
  {
   "cell_type": "code",
   "execution_count": 13,
   "id": "98a8d0fa-1d3d-4ed8-bb2c-281470e24add",
   "metadata": {
    "execution": {
     "iopub.execute_input": "2025-07-30T14:18:15.968306Z",
     "iopub.status.busy": "2025-07-30T14:18:15.967766Z",
     "iopub.status.idle": "2025-07-30T14:18:15.973065Z",
     "shell.execute_reply": "2025-07-30T14:18:15.972060Z"
    },
    "papermill": {
     "duration": 0.02935,
     "end_time": "2025-07-30T14:18:15.974798",
     "exception": false,
     "start_time": "2025-07-30T14:18:15.945448",
     "status": "completed"
    },
    "tags": []
   },
   "outputs": [],
   "source": [
    "# Calibration data for conformal\n",
    "#X_calib = pd.read_csv(\"./data/X_calib.csv\")\n",
    "#y_calib = pd.read_csv(\"./data/y_calib.csv\")"
   ]
  },
  {
   "cell_type": "markdown",
   "id": "997051c5-15bd-4b69-9786-c3001a3ce484",
   "metadata": {
    "papermill": {
     "duration": 0.022097,
     "end_time": "2025-07-30T14:18:16.018996",
     "exception": false,
     "start_time": "2025-07-30T14:18:15.996899",
     "status": "completed"
    },
    "tags": []
   },
   "source": [
    "# Splitting Data and Setting Training Data Size"
   ]
  },
  {
   "cell_type": "code",
   "execution_count": 14,
   "id": "e993b61f-042d-41a6-8c81-f55681f86335",
   "metadata": {
    "execution": {
     "iopub.execute_input": "2025-07-30T14:18:16.062965Z",
     "iopub.status.busy": "2025-07-30T14:18:16.062521Z",
     "iopub.status.idle": "2025-07-30T14:18:16.075134Z",
     "shell.execute_reply": "2025-07-30T14:18:16.074136Z"
    },
    "papermill": {
     "duration": 0.037107,
     "end_time": "2025-07-30T14:18:16.076915",
     "exception": false,
     "start_time": "2025-07-30T14:18:16.039808",
     "status": "completed"
    },
    "tags": []
   },
   "outputs": [],
   "source": [
    "def sample_by_year_size(df,\n",
    "                        training_year: str,\n",
    "                        training_size: str,\n",
    "                        random_state: int = 42):\n",
    "    # --- parse training_year into a list of int years ---\n",
    "    if \"_\" in training_year:\n",
    "        start_str, end_str = training_year.split(\"_\", 1)\n",
    "        start = int(start_str)\n",
    "        end   = int(end_str) if len(end_str) == 4 else (int(end_str) + (start // 100)*100)\n",
    "        years = list(range(start, end + 1))\n",
    "    else:\n",
    "        years = [int(training_year)]\n",
    "\n",
    "    df = df[df[\"year\"].isin(years)].reset_index(drop=True)\n",
    "\n",
    "    # --- map training_size to total number of samples ---\n",
    "    total_map = {\"25k\": 25_000, \"5k\": 5_000, \"1k\": 1_000}\n",
    "    if training_size not in total_map:\n",
    "        return df  # e.g. \"all\"\n",
    "\n",
    "    total_samples = total_map[training_size]\n",
    "    n_years       = len(years)\n",
    "    base          = total_samples // n_years\n",
    "    remainder     = total_samples % n_years\n",
    "\n",
    "    # --- build a dict: year -> how many to sample ---\n",
    "    # give +1 to the first `remainder` years in ascending order\n",
    "    quotas = {\n",
    "        year: base + (1 if idx < remainder else 0)\n",
    "        for idx, year in enumerate(sorted(years))\n",
    "    }\n",
    "\n",
    "    # --- sample per‐year according to the quota dict ---\n",
    "    sampled = (\n",
    "        df\n",
    "        .groupby(\"year\", group_keys=False)\n",
    "        .apply(lambda grp: grp.sample(\n",
    "            n=min(len(grp), quotas[grp.name]),\n",
    "            random_state=random_state))\n",
    "        .reset_index(drop=True)\n",
    "    )\n",
    "\n",
    "    return sampled"
   ]
  },
  {
   "cell_type": "code",
   "execution_count": 15,
   "id": "c0ccd338-0e02-41f3-a09d-f56f9266e3fb",
   "metadata": {
    "execution": {
     "iopub.execute_input": "2025-07-30T14:18:16.124849Z",
     "iopub.status.busy": "2025-07-30T14:18:16.122993Z",
     "iopub.status.idle": "2025-07-30T14:18:16.135649Z",
     "shell.execute_reply": "2025-07-30T14:18:16.134804Z"
    },
    "papermill": {
     "duration": 0.036774,
     "end_time": "2025-07-30T14:18:16.137181",
     "exception": false,
     "start_time": "2025-07-30T14:18:16.100407",
     "status": "completed"
    },
    "tags": []
   },
   "outputs": [
    {
     "data": {
      "text/plain": [
       "'5k'"
      ]
     },
     "execution_count": 15,
     "metadata": {},
     "output_type": "execute_result"
    }
   ],
   "source": [
    "universe[\"training_size\"]"
   ]
  },
  {
   "cell_type": "code",
   "execution_count": 16,
   "id": "ca707fd7-8047-4acd-bfa5-66248fbbf8e6",
   "metadata": {
    "execution": {
     "iopub.execute_input": "2025-07-30T14:18:16.178987Z",
     "iopub.status.busy": "2025-07-30T14:18:16.178672Z",
     "iopub.status.idle": "2025-07-30T14:18:16.185045Z",
     "shell.execute_reply": "2025-07-30T14:18:16.184088Z"
    },
    "papermill": {
     "duration": 0.029379,
     "end_time": "2025-07-30T14:18:16.186552",
     "exception": false,
     "start_time": "2025-07-30T14:18:16.157173",
     "status": "completed"
    },
    "tags": []
   },
   "outputs": [
    {
     "data": {
      "text/plain": [
       "'2010_14'"
      ]
     },
     "execution_count": 16,
     "metadata": {},
     "output_type": "execute_result"
    }
   ],
   "source": [
    "universe[\"training_year\"]"
   ]
  },
  {
   "cell_type": "code",
   "execution_count": 17,
   "id": "aea9c6ef-6f46-42c8-85eb-5a62025c1508",
   "metadata": {
    "execution": {
     "iopub.execute_input": "2025-07-30T14:18:16.228924Z",
     "iopub.status.busy": "2025-07-30T14:18:16.227996Z",
     "iopub.status.idle": "2025-07-30T14:18:17.272521Z",
     "shell.execute_reply": "2025-07-30T14:18:17.271746Z"
    },
    "papermill": {
     "duration": 1.067515,
     "end_time": "2025-07-30T14:18:17.273910",
     "exception": false,
     "start_time": "2025-07-30T14:18:16.206395",
     "status": "completed"
    },
    "tags": []
   },
   "outputs": [],
   "source": [
    "siab_train = sample_by_year_size(siab,\n",
    "                               training_year=universe[\"training_year\"],\n",
    "                               training_size=universe[\"training_size\"])"
   ]
  },
  {
   "cell_type": "code",
   "execution_count": 18,
   "id": "8d3afb32-789d-442c-8d5d-9f5aa8dd2eed",
   "metadata": {
    "execution": {
     "iopub.execute_input": "2025-07-30T14:18:17.297684Z",
     "iopub.status.busy": "2025-07-30T14:18:17.297014Z",
     "iopub.status.idle": "2025-07-30T14:18:17.303571Z",
     "shell.execute_reply": "2025-07-30T14:18:17.302877Z"
    },
    "papermill": {
     "duration": 0.019488,
     "end_time": "2025-07-30T14:18:17.304908",
     "exception": false,
     "start_time": "2025-07-30T14:18:17.285420",
     "status": "completed"
    },
    "tags": []
   },
   "outputs": [
    {
     "data": {
      "text/plain": [
       "(5000, 164)"
      ]
     },
     "execution_count": 18,
     "metadata": {},
     "output_type": "execute_result"
    }
   ],
   "source": [
    "siab_train.shape"
   ]
  },
  {
   "cell_type": "code",
   "execution_count": 19,
   "id": "d582db68-1a4c-47fb-84fc-08518dc1975a",
   "metadata": {
    "execution": {
     "iopub.execute_input": "2025-07-30T14:18:17.328675Z",
     "iopub.status.busy": "2025-07-30T14:18:17.328139Z",
     "iopub.status.idle": "2025-07-30T14:18:17.336184Z",
     "shell.execute_reply": "2025-07-30T14:18:17.335402Z"
    },
    "papermill": {
     "duration": 0.020955,
     "end_time": "2025-07-30T14:18:17.337673",
     "exception": false,
     "start_time": "2025-07-30T14:18:17.316718",
     "status": "completed"
    },
    "tags": []
   },
   "outputs": [
    {
     "data": {
      "text/plain": [
       "year\n",
       "2010    1000\n",
       "2011    1000\n",
       "2012    1000\n",
       "2013    1000\n",
       "2014    1000\n",
       "dtype: int64"
      ]
     },
     "metadata": {},
     "output_type": "display_data"
    }
   ],
   "source": [
    "display(siab_train.groupby(\"year\").size())"
   ]
  },
  {
   "cell_type": "code",
   "execution_count": 20,
   "id": "a561edb4-d032-42cb-8256-22eac1111c64",
   "metadata": {
    "execution": {
     "iopub.execute_input": "2025-07-30T14:18:17.367364Z",
     "iopub.status.busy": "2025-07-30T14:18:17.367052Z",
     "iopub.status.idle": "2025-07-30T14:18:17.626261Z",
     "shell.execute_reply": "2025-07-30T14:18:17.625304Z"
    },
    "papermill": {
     "duration": 0.274489,
     "end_time": "2025-07-30T14:18:17.628155",
     "exception": false,
     "start_time": "2025-07-30T14:18:17.353666",
     "status": "completed"
    },
    "tags": []
   },
   "outputs": [],
   "source": [
    "#siab_train = siab_s[siab_s.year < 2015]\n",
    "siab_calib = siab[siab.year == 2015]\n",
    "siab_test = siab[siab.year == 2016]"
   ]
  },
  {
   "cell_type": "code",
   "execution_count": 21,
   "id": "472de16f-c3db-4916-846b-1f0de9cf1746",
   "metadata": {
    "execution": {
     "iopub.execute_input": "2025-07-30T14:18:17.688808Z",
     "iopub.status.busy": "2025-07-30T14:18:17.688140Z",
     "iopub.status.idle": "2025-07-30T14:18:17.696773Z",
     "shell.execute_reply": "2025-07-30T14:18:17.695734Z"
    },
    "papermill": {
     "duration": 0.041156,
     "end_time": "2025-07-30T14:18:17.698631",
     "exception": false,
     "start_time": "2025-07-30T14:18:17.657475",
     "status": "completed"
    },
    "tags": []
   },
   "outputs": [],
   "source": [
    "X_train = siab_train.iloc[:,4:164]\n",
    "y_train = siab_train.iloc[:, [3]]"
   ]
  },
  {
   "cell_type": "code",
   "execution_count": 22,
   "id": "828c96af-f43a-4ed6-ba47-8ac73a47d56c",
   "metadata": {
    "execution": {
     "iopub.execute_input": "2025-07-30T14:18:17.742196Z",
     "iopub.status.busy": "2025-07-30T14:18:17.741583Z",
     "iopub.status.idle": "2025-07-30T14:18:17.791045Z",
     "shell.execute_reply": "2025-07-30T14:18:17.790169Z"
    },
    "papermill": {
     "duration": 0.071954,
     "end_time": "2025-07-30T14:18:17.792681",
     "exception": false,
     "start_time": "2025-07-30T14:18:17.720727",
     "status": "completed"
    },
    "tags": []
   },
   "outputs": [],
   "source": [
    "X_calib = siab_calib.iloc[:,4:164]\n",
    "y_calib = siab_calib.iloc[:, [3]]"
   ]
  },
  {
   "cell_type": "code",
   "execution_count": 23,
   "id": "c34be9c3-6bd6-476e-acd3-845840e303be",
   "metadata": {
    "execution": {
     "iopub.execute_input": "2025-07-30T14:18:17.836616Z",
     "iopub.status.busy": "2025-07-30T14:18:17.835915Z",
     "iopub.status.idle": "2025-07-30T14:18:17.887186Z",
     "shell.execute_reply": "2025-07-30T14:18:17.885943Z"
    },
    "papermill": {
     "duration": 0.074486,
     "end_time": "2025-07-30T14:18:17.889131",
     "exception": false,
     "start_time": "2025-07-30T14:18:17.814645",
     "status": "completed"
    },
    "tags": []
   },
   "outputs": [],
   "source": [
    "X_test = siab_test.iloc[:,4:164]\n",
    "y_true = siab_test.iloc[:, [3]]"
   ]
  },
  {
   "cell_type": "markdown",
   "id": "9901737e-04df-44f0-9100-f5ad144ed040",
   "metadata": {
    "papermill": {
     "duration": 0.020115,
     "end_time": "2025-07-30T14:18:17.931341",
     "exception": false,
     "start_time": "2025-07-30T14:18:17.911226",
     "status": "completed"
    },
    "tags": []
   },
   "source": [
    "# Splitting Data and Setting Training Data Size OLD VERSION"
   ]
  },
  {
   "cell_type": "code",
   "execution_count": 24,
   "id": "acbc8f7d-8fc8-4e86-8c59-5dcb0f58384b",
   "metadata": {
    "execution": {
     "iopub.execute_input": "2025-07-30T14:18:17.976462Z",
     "iopub.status.busy": "2025-07-30T14:18:17.975792Z",
     "iopub.status.idle": "2025-07-30T14:18:17.981823Z",
     "shell.execute_reply": "2025-07-30T14:18:17.981003Z"
    },
    "papermill": {
     "duration": 0.030779,
     "end_time": "2025-07-30T14:18:17.983595",
     "exception": false,
     "start_time": "2025-07-30T14:18:17.952816",
     "status": "completed"
    },
    "tags": []
   },
   "outputs": [],
   "source": [
    "#def sample_by_year(df, training_size, random_state=42):\n",
    "#    if training_size == \"2014\":\n",
    "#        return df[df[\"year\"] == 2014].reset_index(drop=True)\n",
    "#    \n",
    "#    size_map = {\n",
    "#        \"25k\": 5000,\n",
    "#        \"5k\": 1000,\n",
    "#        \"1k\": 200\n",
    "#    }\n",
    "#\n",
    "#    if training_size not in size_map:\n",
    "#        return df.reset_index(drop=True)  # use all data\n",
    "#\n",
    "#    n_per_year = size_map[training_size]\n",
    "#    grouped = df.groupby(\"year\")\n",
    "#    sampled = grouped.apply(lambda x: x.sample(n=min(n_per_year, len(x)), random_state=random_state))\n",
    "#    return sampled.reset_index(drop=True)"
   ]
  },
  {
   "cell_type": "code",
   "execution_count": 25,
   "id": "6d931f52-beaf-43ff-9e78-9d44a448d54e",
   "metadata": {
    "execution": {
     "iopub.execute_input": "2025-07-30T14:18:18.029829Z",
     "iopub.status.busy": "2025-07-30T14:18:18.029104Z",
     "iopub.status.idle": "2025-07-30T14:18:18.034443Z",
     "shell.execute_reply": "2025-07-30T14:18:18.033411Z"
    },
    "papermill": {
     "duration": 0.029216,
     "end_time": "2025-07-30T14:18:18.036088",
     "exception": false,
     "start_time": "2025-07-30T14:18:18.006872",
     "status": "completed"
    },
    "tags": []
   },
   "outputs": [],
   "source": [
    "#siab_s = sample_by_year(siab, universe[\"training_size\"])"
   ]
  },
  {
   "cell_type": "code",
   "execution_count": 26,
   "id": "5db0a40e-a4e2-4920-be85-b12ae061d70d",
   "metadata": {
    "execution": {
     "iopub.execute_input": "2025-07-30T14:18:18.082182Z",
     "iopub.status.busy": "2025-07-30T14:18:18.081547Z",
     "iopub.status.idle": "2025-07-30T14:18:18.087321Z",
     "shell.execute_reply": "2025-07-30T14:18:18.086368Z"
    },
    "papermill": {
     "duration": 0.030602,
     "end_time": "2025-07-30T14:18:18.089330",
     "exception": false,
     "start_time": "2025-07-30T14:18:18.058728",
     "status": "completed"
    },
    "tags": []
   },
   "outputs": [],
   "source": [
    "#display(siab_s.groupby(\"year\").size())"
   ]
  },
  {
   "cell_type": "code",
   "execution_count": 27,
   "id": "e6c733c5",
   "metadata": {
    "execution": {
     "iopub.execute_input": "2025-07-30T14:18:18.133016Z",
     "iopub.status.busy": "2025-07-30T14:18:18.132382Z",
     "iopub.status.idle": "2025-07-30T14:18:18.228739Z",
     "shell.execute_reply": "2025-07-30T14:18:18.227844Z"
    },
    "papermill": {
     "duration": 0.119099,
     "end_time": "2025-07-30T14:18:18.230481",
     "exception": false,
     "start_time": "2025-07-30T14:18:18.111382",
     "status": "completed"
    },
    "tags": []
   },
   "outputs": [],
   "source": [
    "# Auxiliary data needed downstream in the pipeline\n",
    "\n",
    "org_train = X_train.copy()\n",
    "org_test = X_test.copy()\n",
    "org_calib = X_calib.copy()"
   ]
  },
  {
   "cell_type": "code",
   "execution_count": 28,
   "id": "1466abac-c6da-4492-a62f-4240ae3783af",
   "metadata": {
    "execution": {
     "iopub.execute_input": "2025-07-30T14:18:18.273299Z",
     "iopub.status.busy": "2025-07-30T14:18:18.272672Z",
     "iopub.status.idle": "2025-07-30T14:18:18.278799Z",
     "shell.execute_reply": "2025-07-30T14:18:18.277738Z"
    },
    "papermill": {
     "duration": 0.028994,
     "end_time": "2025-07-30T14:18:18.280332",
     "exception": false,
     "start_time": "2025-07-30T14:18:18.251338",
     "status": "completed"
    },
    "tags": []
   },
   "outputs": [],
   "source": [
    "# put in other script?\n",
    "# Group sizes\n",
    "\n",
    "#def calculate_percentages(df, df_name):\n",
    "#    total_entries = len(df)\n",
    "#\n",
    "#    female_pct = (df['frau1'] == 1).mean() * 100\n",
    "#    non_german_pct = ((df['maxdeutsch1'] == 0) & (df['maxdeutsch.Missing.'] == 0)).mean() * 100\n",
    "#    non_german_male_pct = ((df['frau1'] == 0) & (df['maxdeutsch1'] == 0) & (df['maxdeutsch.Missing.'] == 0)).mean() * 100\n",
    "#    non_german_female_pct = ((df['frau1'] == 1) & (df['maxdeutsch1'] == 0) & (df['maxdeutsch.Missing.'] == 0)).mean() * 100\n",
    "#\n",
    "#    print(f\"--- {df_name} ---\")\n",
    "#    print(f\"Female: {female_pct:.2f}%\")\n",
    "#    print(f\"Non-German: {non_german_pct:.2f}%\")\n",
    "#    print(f\"Non-German Male: {non_german_male_pct:.2f}%\")\n",
    "#    print(f\"Non-German Female: {non_german_female_pct:.2f}%\\n\")\n",
    "#\n",
    "## Calculate for each DataFrame\n",
    "#calculate_percentages(siab_calib, \"siab_calib\")\n",
    "#calculate_percentages(siab_test, \"siab_test\")\n",
    "#calculate_percentages(siab_train, \"siab_train\")"
   ]
  },
  {
   "cell_type": "markdown",
   "id": "0a4a1b33",
   "metadata": {
    "papermill": {
     "duration": 0.020654,
     "end_time": "2025-07-30T14:18:18.322446",
     "exception": false,
     "start_time": "2025-07-30T14:18:18.301792",
     "status": "completed"
    },
    "tags": []
   },
   "source": [
    "# Preprocessing Data"
   ]
  },
  {
   "cell_type": "code",
   "execution_count": 29,
   "id": "ca879031",
   "metadata": {
    "execution": {
     "iopub.execute_input": "2025-07-30T14:18:18.365234Z",
     "iopub.status.busy": "2025-07-30T14:18:18.364605Z",
     "iopub.status.idle": "2025-07-30T14:18:18.370537Z",
     "shell.execute_reply": "2025-07-30T14:18:18.369632Z"
    },
    "papermill": {
     "duration": 0.029082,
     "end_time": "2025-07-30T14:18:18.372120",
     "exception": false,
     "start_time": "2025-07-30T14:18:18.343038",
     "status": "completed"
    },
    "tags": []
   },
   "outputs": [],
   "source": [
    "# EXCLUDE PROTECTED FEATURES\n",
    "# ----------------------\n",
    "# \"exclude_features\": \"none\", # \"nationality\", \"sex\", \"nationality-sex\"\n",
    "\n",
    "excluded_features = universe[\"exclude_features\"].split(\"-\") # split, e.g.: \"nationality-sex\" -> [\"nationality\", \"sex\"]\n",
    "excluded_features_dictionary = {\n",
    "    \"nationality\": [\"maxdeutsch1\", \"maxdeutsch.Missing.\"],\n",
    "    \"sex\": [\"frau1\"],\n",
    "    \"age\": [\"age\"],\n",
    "}\n"
   ]
  },
  {
   "cell_type": "code",
   "execution_count": 30,
   "id": "b745ac60",
   "metadata": {
    "execution": {
     "iopub.execute_input": "2025-07-30T14:18:18.416838Z",
     "iopub.status.busy": "2025-07-30T14:18:18.416205Z",
     "iopub.status.idle": "2025-07-30T14:18:18.421716Z",
     "shell.execute_reply": "2025-07-30T14:18:18.420809Z"
    },
    "papermill": {
     "duration": 0.028432,
     "end_time": "2025-07-30T14:18:18.423209",
     "exception": false,
     "start_time": "2025-07-30T14:18:18.394777",
     "status": "completed"
    },
    "tags": []
   },
   "outputs": [],
   "source": [
    "# Code nice names to column names\n",
    "\n",
    "excluded_features_columns = [\n",
    "    excluded_features_dictionary[f] for f in excluded_features if len(f) > 0 and f != \"none\"\n",
    "]"
   ]
  },
  {
   "cell_type": "code",
   "execution_count": 31,
   "id": "f84f73a2",
   "metadata": {
    "execution": {
     "iopub.execute_input": "2025-07-30T14:18:18.469300Z",
     "iopub.status.busy": "2025-07-30T14:18:18.468669Z",
     "iopub.status.idle": "2025-07-30T14:18:18.475410Z",
     "shell.execute_reply": "2025-07-30T14:18:18.474530Z"
    },
    "papermill": {
     "duration": 0.02996,
     "end_time": "2025-07-30T14:18:18.477024",
     "exception": false,
     "start_time": "2025-07-30T14:18:18.447064",
     "status": "completed"
    },
    "tags": []
   },
   "outputs": [],
   "source": [
    "from utils import flatten_once\n",
    "\n",
    "excluded_features_columns = flatten_once(excluded_features_columns)"
   ]
  },
  {
   "cell_type": "code",
   "execution_count": 32,
   "id": "884dea22",
   "metadata": {
    "execution": {
     "iopub.execute_input": "2025-07-30T14:18:18.525528Z",
     "iopub.status.busy": "2025-07-30T14:18:18.524894Z",
     "iopub.status.idle": "2025-07-30T14:18:18.534518Z",
     "shell.execute_reply": "2025-07-30T14:18:18.533580Z"
    },
    "papermill": {
     "duration": 0.03516,
     "end_time": "2025-07-30T14:18:18.536066",
     "exception": false,
     "start_time": "2025-07-30T14:18:18.500906",
     "status": "completed"
    },
    "tags": []
   },
   "outputs": [
    {
     "name": "stdout",
     "output_type": "stream",
     "text": [
      "Dropping features: ['age']\n"
     ]
    }
   ],
   "source": [
    "if len(excluded_features_columns) > 0:\n",
    "    print(f\"Dropping features: {excluded_features_columns}\")\n",
    "    X_train.drop(excluded_features_columns, axis=1, inplace=True)"
   ]
  },
  {
   "cell_type": "code",
   "execution_count": 33,
   "id": "95ab8b16",
   "metadata": {
    "execution": {
     "iopub.execute_input": "2025-07-30T14:18:18.581026Z",
     "iopub.status.busy": "2025-07-30T14:18:18.580384Z",
     "iopub.status.idle": "2025-07-30T14:18:18.631687Z",
     "shell.execute_reply": "2025-07-30T14:18:18.630660Z"
    },
    "papermill": {
     "duration": 0.075465,
     "end_time": "2025-07-30T14:18:18.633620",
     "exception": false,
     "start_time": "2025-07-30T14:18:18.558155",
     "status": "completed"
    },
    "tags": []
   },
   "outputs": [
    {
     "name": "stdout",
     "output_type": "stream",
     "text": [
      "Dropping features: ['age']\n"
     ]
    }
   ],
   "source": [
    "if len(excluded_features_columns) > 0:\n",
    "    print(f\"Dropping features: {excluded_features_columns}\")\n",
    "    X_test.drop(excluded_features_columns, axis=1, inplace=True)"
   ]
  },
  {
   "cell_type": "code",
   "execution_count": 34,
   "id": "1853aaf5-fb9f-46cb-a2b5-8ea4ae2237e4",
   "metadata": {
    "execution": {
     "iopub.execute_input": "2025-07-30T14:18:18.678746Z",
     "iopub.status.busy": "2025-07-30T14:18:18.677967Z",
     "iopub.status.idle": "2025-07-30T14:18:18.709682Z",
     "shell.execute_reply": "2025-07-30T14:18:18.708766Z"
    },
    "papermill": {
     "duration": 0.055659,
     "end_time": "2025-07-30T14:18:18.711563",
     "exception": false,
     "start_time": "2025-07-30T14:18:18.655904",
     "status": "completed"
    },
    "tags": []
   },
   "outputs": [
    {
     "name": "stdout",
     "output_type": "stream",
     "text": [
      "Dropping features: ['age']\n"
     ]
    }
   ],
   "source": [
    "if len(excluded_features_columns) > 0:\n",
    "    print(f\"Dropping features: {excluded_features_columns}\")\n",
    "    X_calib.drop(excluded_features_columns, axis=1, inplace=True)"
   ]
  },
  {
   "cell_type": "code",
   "execution_count": 35,
   "id": "6727d079-03e5-481e-9d38-292a90b7a0a8",
   "metadata": {
    "execution": {
     "iopub.execute_input": "2025-07-30T14:18:18.757988Z",
     "iopub.status.busy": "2025-07-30T14:18:18.757351Z",
     "iopub.status.idle": "2025-07-30T14:18:18.762205Z",
     "shell.execute_reply": "2025-07-30T14:18:18.761257Z"
    },
    "papermill": {
     "duration": 0.028553,
     "end_time": "2025-07-30T14:18:18.763864",
     "exception": false,
     "start_time": "2025-07-30T14:18:18.735311",
     "status": "completed"
    },
    "tags": []
   },
   "outputs": [],
   "source": [
    "# SPLIT & STRATIFY DATA\n",
    "# ----------------------"
   ]
  },
  {
   "cell_type": "code",
   "execution_count": 36,
   "id": "76c4dc6d",
   "metadata": {
    "execution": {
     "iopub.execute_input": "2025-07-30T14:18:18.810645Z",
     "iopub.status.busy": "2025-07-30T14:18:18.810011Z",
     "iopub.status.idle": "2025-07-30T14:18:18.815415Z",
     "shell.execute_reply": "2025-07-30T14:18:18.814449Z"
    },
    "papermill": {
     "duration": 0.029075,
     "end_time": "2025-07-30T14:18:18.817148",
     "exception": false,
     "start_time": "2025-07-30T14:18:18.788073",
     "status": "completed"
    },
    "tags": []
   },
   "outputs": [],
   "source": [
    "# EXCLUDE CERTAIN SUBGROUPS\n",
    "# ----------------------\n",
    "\n",
    "mode = universe.get(\"exclude_subgroups\", \"keep-all\") \n",
    "# Fetches the exclude_subgroups setting from the universe dict.\n",
    "# Defaults to \"keep-all\" if the key is missing."
   ]
  },
  {
   "cell_type": "code",
   "execution_count": 37,
   "id": "21994072",
   "metadata": {
    "execution": {
     "iopub.execute_input": "2025-07-30T14:18:18.866227Z",
     "iopub.status.busy": "2025-07-30T14:18:18.865612Z",
     "iopub.status.idle": "2025-07-30T14:18:18.873034Z",
     "shell.execute_reply": "2025-07-30T14:18:18.872025Z"
    },
    "papermill": {
     "duration": 0.031682,
     "end_time": "2025-07-30T14:18:18.874734",
     "exception": false,
     "start_time": "2025-07-30T14:18:18.843052",
     "status": "completed"
    },
    "tags": []
   },
   "outputs": [],
   "source": [
    "if mode == \"keep-all\":\n",
    "    keep_mask = pd.Series(True, index=org_train.index)\n",
    "\n",
    "# org_train contains the original feature columns from features_org (in Simson)\n",
    "# features_org contains unprocessed features, for me X_train at beginning ???\n",
    "# For keep-all, creates a boolean Series (keep_mask) of all True, so no rows are removed.\n",
    "\n",
    "elif mode == \"drop-non-german\":\n",
    "    keep_mask = org_train[\"maxdeutsch1\"] == 1 # ??? what about missing values?\n",
    "\n",
    "else:\n",
    "    raise ValueError(f\"Unsupported mode for exclude_subgroups: {mode}\")\n"
   ]
  },
  {
   "cell_type": "code",
   "execution_count": 38,
   "id": "71651440",
   "metadata": {
    "execution": {
     "iopub.execute_input": "2025-07-30T14:18:18.919403Z",
     "iopub.status.busy": "2025-07-30T14:18:18.918840Z",
     "iopub.status.idle": "2025-07-30T14:18:18.927401Z",
     "shell.execute_reply": "2025-07-30T14:18:18.926431Z"
    },
    "papermill": {
     "duration": 0.032284,
     "end_time": "2025-07-30T14:18:18.929099",
     "exception": false,
     "start_time": "2025-07-30T14:18:18.896815",
     "status": "completed"
    },
    "tags": []
   },
   "outputs": [
    {
     "name": "stdout",
     "output_type": "stream",
     "text": [
      "Dropping 657 rows (13.14%) where mode='drop-non-german'\n"
     ]
    }
   ],
   "source": [
    "n_drop = (~keep_mask).sum() # Calculates how many rows are set to be dropped\n",
    "if n_drop > 0:\n",
    "    pct = n_drop / len(keep_mask) * 100\n",
    "    print(f\"Dropping {n_drop} rows ({pct:.2f}%) where mode='{mode}'\")"
   ]
  },
  {
   "cell_type": "code",
   "execution_count": 39,
   "id": "5fb8eee5",
   "metadata": {
    "execution": {
     "iopub.execute_input": "2025-07-30T14:18:18.975255Z",
     "iopub.status.busy": "2025-07-30T14:18:18.974826Z",
     "iopub.status.idle": "2025-07-30T14:18:18.981729Z",
     "shell.execute_reply": "2025-07-30T14:18:18.980836Z"
    },
    "papermill": {
     "duration": 0.031062,
     "end_time": "2025-07-30T14:18:18.983475",
     "exception": false,
     "start_time": "2025-07-30T14:18:18.952413",
     "status": "completed"
    },
    "tags": []
   },
   "outputs": [],
   "source": [
    "X_train = X_train[keep_mask]"
   ]
  },
  {
   "cell_type": "code",
   "execution_count": 40,
   "id": "b202bb3a",
   "metadata": {
    "execution": {
     "iopub.execute_input": "2025-07-30T14:18:19.029042Z",
     "iopub.status.busy": "2025-07-30T14:18:19.028271Z",
     "iopub.status.idle": "2025-07-30T14:18:19.034223Z",
     "shell.execute_reply": "2025-07-30T14:18:19.033371Z"
    },
    "papermill": {
     "duration": 0.03017,
     "end_time": "2025-07-30T14:18:19.035947",
     "exception": false,
     "start_time": "2025-07-30T14:18:19.005777",
     "status": "completed"
    },
    "tags": []
   },
   "outputs": [],
   "source": [
    "y_train = y_train[keep_mask]"
   ]
  },
  {
   "cell_type": "markdown",
   "id": "493e2ac3",
   "metadata": {
    "papermill": {
     "duration": 0.022368,
     "end_time": "2025-07-30T14:18:19.081613",
     "exception": false,
     "start_time": "2025-07-30T14:18:19.059245",
     "status": "completed"
    },
    "tags": []
   },
   "source": [
    "# Model Training"
   ]
  },
  {
   "cell_type": "code",
   "execution_count": 41,
   "id": "679e1268",
   "metadata": {
    "execution": {
     "iopub.execute_input": "2025-07-30T14:18:19.126471Z",
     "iopub.status.busy": "2025-07-30T14:18:19.125846Z",
     "iopub.status.idle": "2025-07-30T14:18:19.226306Z",
     "shell.execute_reply": "2025-07-30T14:18:19.225365Z"
    },
    "papermill": {
     "duration": 0.12563,
     "end_time": "2025-07-30T14:18:19.228243",
     "exception": false,
     "start_time": "2025-07-30T14:18:19.102613",
     "status": "completed"
    },
    "tags": []
   },
   "outputs": [],
   "source": [
    "from sklearn.linear_model import LogisticRegression\n",
    "from sklearn.ensemble import GradientBoostingClassifier, RandomForestClassifier\n",
    "\n",
    "if (universe[\"model\"] == \"logreg\"):\n",
    "    model = LogisticRegression() #penalty=\"none\") #, solver=\"newton-cg\", max_iter=1) # include random_state=19 ?\n",
    "elif (universe[\"model\"] == \"penalized_logreg\"):\n",
    "    model = LogisticRegression(penalty=\"l2\", C=1.0) #, solver=\"newton-cg\", max_iter=1)\n",
    "elif (universe[\"model\"] == \"rf\"):\n",
    "    model = RandomForestClassifier(n_estimators=100, n_jobs=-1)\n",
    "elif (universe[\"model\"] == \"gbm\"):\n",
    "    model = GradientBoostingClassifier()\n",
    "elif (universe[\"model\"] == \"elasticnet\"):\n",
    "    model = LogisticRegression(penalty = 'elasticnet', solver = 'saga', l1_ratio = 0.5, max_iter=5000) # which solver to use?\n",
    "else:\n",
    "    raise \"Unsupported universe.model\""
   ]
  },
  {
   "cell_type": "code",
   "execution_count": 42,
   "id": "0cc8f744",
   "metadata": {
    "execution": {
     "iopub.execute_input": "2025-07-30T14:18:19.274489Z",
     "iopub.status.busy": "2025-07-30T14:18:19.273875Z",
     "iopub.status.idle": "2025-07-30T14:18:19.280016Z",
     "shell.execute_reply": "2025-07-30T14:18:19.279093Z"
    },
    "papermill": {
     "duration": 0.030216,
     "end_time": "2025-07-30T14:18:19.281610",
     "exception": false,
     "start_time": "2025-07-30T14:18:19.251394",
     "status": "completed"
    },
    "tags": []
   },
   "outputs": [],
   "source": [
    "import numpy as np\n",
    "from sklearn.pipeline import Pipeline\n",
    "from sklearn.preprocessing import StandardScaler\n",
    "\n",
    "model = Pipeline([\n",
    "    #(\"continuous_processor\", continuous_processor),\n",
    "    #(\"categorical_preprocessor\", categorical_preprocessor),\n",
    "    (\"scale\", StandardScaler() if universe[\"scale\"] == \"scale\" else None), \n",
    "    (\"model\", model),\n",
    "])"
   ]
  },
  {
   "cell_type": "code",
   "execution_count": 43,
   "id": "9442c04d",
   "metadata": {
    "execution": {
     "iopub.execute_input": "2025-07-30T14:18:19.328734Z",
     "iopub.status.busy": "2025-07-30T14:18:19.327896Z",
     "iopub.status.idle": "2025-07-30T14:19:29.489866Z",
     "shell.execute_reply": "2025-07-30T14:19:29.488673Z"
    },
    "papermill": {
     "duration": 70.210552,
     "end_time": "2025-07-30T14:19:29.515865",
     "exception": false,
     "start_time": "2025-07-30T14:18:19.305313",
     "status": "completed"
    },
    "tags": []
   },
   "outputs": [
    {
     "data": {
      "text/html": [
       "<style>#sk-container-id-1 {color: black;background-color: white;}#sk-container-id-1 pre{padding: 0;}#sk-container-id-1 div.sk-toggleable {background-color: white;}#sk-container-id-1 label.sk-toggleable__label {cursor: pointer;display: block;width: 100%;margin-bottom: 0;padding: 0.3em;box-sizing: border-box;text-align: center;}#sk-container-id-1 label.sk-toggleable__label-arrow:before {content: \"▸\";float: left;margin-right: 0.25em;color: #696969;}#sk-container-id-1 label.sk-toggleable__label-arrow:hover:before {color: black;}#sk-container-id-1 div.sk-estimator:hover label.sk-toggleable__label-arrow:before {color: black;}#sk-container-id-1 div.sk-toggleable__content {max-height: 0;max-width: 0;overflow: hidden;text-align: left;background-color: #f0f8ff;}#sk-container-id-1 div.sk-toggleable__content pre {margin: 0.2em;color: black;border-radius: 0.25em;background-color: #f0f8ff;}#sk-container-id-1 input.sk-toggleable__control:checked~div.sk-toggleable__content {max-height: 200px;max-width: 100%;overflow: auto;}#sk-container-id-1 input.sk-toggleable__control:checked~label.sk-toggleable__label-arrow:before {content: \"▾\";}#sk-container-id-1 div.sk-estimator input.sk-toggleable__control:checked~label.sk-toggleable__label {background-color: #d4ebff;}#sk-container-id-1 div.sk-label input.sk-toggleable__control:checked~label.sk-toggleable__label {background-color: #d4ebff;}#sk-container-id-1 input.sk-hidden--visually {border: 0;clip: rect(1px 1px 1px 1px);clip: rect(1px, 1px, 1px, 1px);height: 1px;margin: -1px;overflow: hidden;padding: 0;position: absolute;width: 1px;}#sk-container-id-1 div.sk-estimator {font-family: monospace;background-color: #f0f8ff;border: 1px dotted black;border-radius: 0.25em;box-sizing: border-box;margin-bottom: 0.5em;}#sk-container-id-1 div.sk-estimator:hover {background-color: #d4ebff;}#sk-container-id-1 div.sk-parallel-item::after {content: \"\";width: 100%;border-bottom: 1px solid gray;flex-grow: 1;}#sk-container-id-1 div.sk-label:hover label.sk-toggleable__label {background-color: #d4ebff;}#sk-container-id-1 div.sk-serial::before {content: \"\";position: absolute;border-left: 1px solid gray;box-sizing: border-box;top: 0;bottom: 0;left: 50%;z-index: 0;}#sk-container-id-1 div.sk-serial {display: flex;flex-direction: column;align-items: center;background-color: white;padding-right: 0.2em;padding-left: 0.2em;position: relative;}#sk-container-id-1 div.sk-item {position: relative;z-index: 1;}#sk-container-id-1 div.sk-parallel {display: flex;align-items: stretch;justify-content: center;background-color: white;position: relative;}#sk-container-id-1 div.sk-item::before, #sk-container-id-1 div.sk-parallel-item::before {content: \"\";position: absolute;border-left: 1px solid gray;box-sizing: border-box;top: 0;bottom: 0;left: 50%;z-index: -1;}#sk-container-id-1 div.sk-parallel-item {display: flex;flex-direction: column;z-index: 1;position: relative;background-color: white;}#sk-container-id-1 div.sk-parallel-item:first-child::after {align-self: flex-end;width: 50%;}#sk-container-id-1 div.sk-parallel-item:last-child::after {align-self: flex-start;width: 50%;}#sk-container-id-1 div.sk-parallel-item:only-child::after {width: 0;}#sk-container-id-1 div.sk-dashed-wrapped {border: 1px dashed gray;margin: 0 0.4em 0.5em 0.4em;box-sizing: border-box;padding-bottom: 0.4em;background-color: white;}#sk-container-id-1 div.sk-label label {font-family: monospace;font-weight: bold;display: inline-block;line-height: 1.2em;}#sk-container-id-1 div.sk-label-container {text-align: center;}#sk-container-id-1 div.sk-container {/* jupyter's `normalize.less` sets `[hidden] { display: none; }` but bootstrap.min.css set `[hidden] { display: none !important; }` so we also need the `!important` here to be able to override the default hidden behavior on the sphinx rendered scikit-learn.org. See: https://github.com/scikit-learn/scikit-learn/issues/21755 */display: inline-block !important;position: relative;}#sk-container-id-1 div.sk-text-repr-fallback {display: none;}</style><div id=\"sk-container-id-1\" class=\"sk-top-container\"><div class=\"sk-text-repr-fallback\"><pre>Pipeline(steps=[(&#x27;scale&#x27;, None),\n",
       "                (&#x27;model&#x27;,\n",
       "                 LogisticRegression(l1_ratio=0.5, max_iter=5000,\n",
       "                                    penalty=&#x27;elasticnet&#x27;, solver=&#x27;saga&#x27;))])</pre><b>In a Jupyter environment, please rerun this cell to show the HTML representation or trust the notebook. <br />On GitHub, the HTML representation is unable to render, please try loading this page with nbviewer.org.</b></div><div class=\"sk-container\" hidden><div class=\"sk-item sk-dashed-wrapped\"><div class=\"sk-label-container\"><div class=\"sk-label sk-toggleable\"><input class=\"sk-toggleable__control sk-hidden--visually\" id=\"sk-estimator-id-1\" type=\"checkbox\" ><label for=\"sk-estimator-id-1\" class=\"sk-toggleable__label sk-toggleable__label-arrow\">Pipeline</label><div class=\"sk-toggleable__content\"><pre>Pipeline(steps=[(&#x27;scale&#x27;, None),\n",
       "                (&#x27;model&#x27;,\n",
       "                 LogisticRegression(l1_ratio=0.5, max_iter=5000,\n",
       "                                    penalty=&#x27;elasticnet&#x27;, solver=&#x27;saga&#x27;))])</pre></div></div></div><div class=\"sk-serial\"><div class=\"sk-item\"><div class=\"sk-estimator sk-toggleable\"><input class=\"sk-toggleable__control sk-hidden--visually\" id=\"sk-estimator-id-2\" type=\"checkbox\" ><label for=\"sk-estimator-id-2\" class=\"sk-toggleable__label sk-toggleable__label-arrow\">None</label><div class=\"sk-toggleable__content\"><pre>None</pre></div></div></div><div class=\"sk-item\"><div class=\"sk-estimator sk-toggleable\"><input class=\"sk-toggleable__control sk-hidden--visually\" id=\"sk-estimator-id-3\" type=\"checkbox\" ><label for=\"sk-estimator-id-3\" class=\"sk-toggleable__label sk-toggleable__label-arrow\">LogisticRegression</label><div class=\"sk-toggleable__content\"><pre>LogisticRegression(l1_ratio=0.5, max_iter=5000, penalty=&#x27;elasticnet&#x27;,\n",
       "                   solver=&#x27;saga&#x27;)</pre></div></div></div></div></div></div></div>"
      ],
      "text/plain": [
       "Pipeline(steps=[('scale', None),\n",
       "                ('model',\n",
       "                 LogisticRegression(l1_ratio=0.5, max_iter=5000,\n",
       "                                    penalty='elasticnet', solver='saga'))])"
      ]
     },
     "execution_count": 43,
     "metadata": {},
     "output_type": "execute_result"
    }
   ],
   "source": [
    "model.fit(X_train, y_train.values.ravel())"
   ]
  },
  {
   "cell_type": "code",
   "execution_count": 44,
   "id": "af59f8c0",
   "metadata": {
    "execution": {
     "iopub.execute_input": "2025-07-30T14:19:29.568584Z",
     "iopub.status.busy": "2025-07-30T14:19:29.567750Z",
     "iopub.status.idle": "2025-07-30T14:19:29.573741Z",
     "shell.execute_reply": "2025-07-30T14:19:29.572810Z"
    },
    "papermill": {
     "duration": 0.034293,
     "end_time": "2025-07-30T14:19:29.575641",
     "exception": false,
     "start_time": "2025-07-30T14:19:29.541348",
     "status": "completed"
    },
    "tags": []
   },
   "outputs": [],
   "source": [
    "from fairness_multiverse.universe import predict_w_threshold"
   ]
  },
  {
   "cell_type": "code",
   "execution_count": 45,
   "id": "a7cf2e16",
   "metadata": {
    "execution": {
     "iopub.execute_input": "2025-07-30T14:19:29.616875Z",
     "iopub.status.busy": "2025-07-30T14:19:29.616455Z",
     "iopub.status.idle": "2025-07-30T14:19:29.724229Z",
     "shell.execute_reply": "2025-07-30T14:19:29.723116Z"
    },
    "papermill": {
     "duration": 0.124256,
     "end_time": "2025-07-30T14:19:29.725939",
     "exception": false,
     "start_time": "2025-07-30T14:19:29.601683",
     "status": "completed"
    },
    "tags": []
   },
   "outputs": [
    {
     "data": {
      "text/plain": [
       "0.8567606732805707"
      ]
     },
     "execution_count": 45,
     "metadata": {},
     "output_type": "execute_result"
    }
   ],
   "source": [
    "probs_test = model.predict_proba(X_test)\n",
    "\n",
    "'''\n",
    "Below code returns a boolean array (or binary 0/1 array depending on how it’s used) where each element \n",
    "is True if the probability of class 1 is greater than or equal to the threshold, and False otherwise.\n",
    "'''\n",
    "y_pred_default = predict_w_threshold(probs_test, 0.5)\n",
    "\n",
    "from sklearn.metrics import accuracy_score\n",
    "\n",
    "# Naive prediction\n",
    "accuracy_score(y_true = y_true, y_pred = y_pred_default)"
   ]
  },
  {
   "cell_type": "code",
   "execution_count": 46,
   "id": "081964c3",
   "metadata": {
    "execution": {
     "iopub.execute_input": "2025-07-30T14:19:29.774754Z",
     "iopub.status.busy": "2025-07-30T14:19:29.773865Z",
     "iopub.status.idle": "2025-07-30T14:19:29.861002Z",
     "shell.execute_reply": "2025-07-30T14:19:29.860096Z"
    },
    "papermill": {
     "duration": 0.112907,
     "end_time": "2025-07-30T14:19:29.862807",
     "exception": false,
     "start_time": "2025-07-30T14:19:29.749900",
     "status": "completed"
    },
    "tags": []
   },
   "outputs": [
    {
     "data": {
      "text/plain": [
       "array([0, 0, 0, ..., 0, 0, 0])"
      ]
     },
     "execution_count": 46,
     "metadata": {},
     "output_type": "execute_result"
    }
   ],
   "source": [
    "model.predict(X_test)"
   ]
  },
  {
   "cell_type": "markdown",
   "id": "56c9705b",
   "metadata": {
    "papermill": {
     "duration": 0.023305,
     "end_time": "2025-07-30T14:19:29.911393",
     "exception": false,
     "start_time": "2025-07-30T14:19:29.888088",
     "status": "completed"
    },
    "tags": []
   },
   "source": [
    "# Conformal Prediction"
   ]
  },
  {
   "cell_type": "code",
   "execution_count": 47,
   "id": "160ec6ff",
   "metadata": {
    "execution": {
     "iopub.execute_input": "2025-07-30T14:19:29.970265Z",
     "iopub.status.busy": "2025-07-30T14:19:29.969720Z",
     "iopub.status.idle": "2025-07-30T14:19:29.975349Z",
     "shell.execute_reply": "2025-07-30T14:19:29.974298Z"
    },
    "papermill": {
     "duration": 0.039141,
     "end_time": "2025-07-30T14:19:29.977253",
     "exception": false,
     "start_time": "2025-07-30T14:19:29.938112",
     "status": "completed"
    },
    "tags": []
   },
   "outputs": [],
   "source": [
    "# Miscoverage level for conformal prediction (10% allowed error rate => 90% target coverage)\n",
    "alpha = 0.1"
   ]
  },
  {
   "cell_type": "code",
   "execution_count": 48,
   "id": "eadf4555-3dd3-440e-8e35-f82a4ad9f855",
   "metadata": {
    "execution": {
     "iopub.execute_input": "2025-07-30T14:19:30.034123Z",
     "iopub.status.busy": "2025-07-30T14:19:30.033633Z",
     "iopub.status.idle": "2025-07-30T14:19:30.154062Z",
     "shell.execute_reply": "2025-07-30T14:19:30.153004Z"
    },
    "papermill": {
     "duration": 0.151593,
     "end_time": "2025-07-30T14:19:30.156262",
     "exception": false,
     "start_time": "2025-07-30T14:19:30.004669",
     "status": "completed"
    },
    "tags": []
   },
   "outputs": [],
   "source": [
    "probs_calib = model.predict_proba(X_calib)"
   ]
  },
  {
   "cell_type": "code",
   "execution_count": 49,
   "id": "2ed93547-6d5d-4983-9b36-1ecb300da49a",
   "metadata": {
    "execution": {
     "iopub.execute_input": "2025-07-30T14:19:30.212115Z",
     "iopub.status.busy": "2025-07-30T14:19:30.211448Z",
     "iopub.status.idle": "2025-07-30T14:19:30.216962Z",
     "shell.execute_reply": "2025-07-30T14:19:30.216013Z"
    },
    "papermill": {
     "duration": 0.035591,
     "end_time": "2025-07-30T14:19:30.218707",
     "exception": false,
     "start_time": "2025-07-30T14:19:30.183116",
     "status": "completed"
    },
    "tags": []
   },
   "outputs": [],
   "source": [
    "y_calib = y_calib.values.ravel().astype(int)"
   ]
  },
  {
   "cell_type": "code",
   "execution_count": 50,
   "id": "65d1320d-f588-4b38-9072-62af1ae97f7d",
   "metadata": {
    "execution": {
     "iopub.execute_input": "2025-07-30T14:19:30.274563Z",
     "iopub.status.busy": "2025-07-30T14:19:30.273639Z",
     "iopub.status.idle": "2025-07-30T14:19:30.282813Z",
     "shell.execute_reply": "2025-07-30T14:19:30.281720Z"
    },
    "papermill": {
     "duration": 0.038821,
     "end_time": "2025-07-30T14:19:30.284801",
     "exception": false,
     "start_time": "2025-07-30T14:19:30.245980",
     "status": "completed"
    },
    "tags": []
   },
   "outputs": [],
   "source": [
    "from fairness_multiverse.conformal import compute_nc_scores\n",
    "\n",
    "# Compute nonconformity scores on calibration set (1 - probability of true class)\n",
    "nc_scores = compute_nc_scores(probs_calib, y_calib)"
   ]
  },
  {
   "cell_type": "code",
   "execution_count": 51,
   "id": "df3b8ca3-53b7-43d5-9667-7c85da7aeda2",
   "metadata": {
    "execution": {
     "iopub.execute_input": "2025-07-30T14:19:30.339713Z",
     "iopub.status.busy": "2025-07-30T14:19:30.338823Z",
     "iopub.status.idle": "2025-07-30T14:19:30.346279Z",
     "shell.execute_reply": "2025-07-30T14:19:30.345221Z"
    },
    "papermill": {
     "duration": 0.036128,
     "end_time": "2025-07-30T14:19:30.347982",
     "exception": false,
     "start_time": "2025-07-30T14:19:30.311854",
     "status": "completed"
    },
    "tags": []
   },
   "outputs": [],
   "source": [
    "from fairness_multiverse.conformal import find_threshold\n",
    "\n",
    "# Find conformal threshold q_hat for the given alpha (split conformal method)\n",
    "q_hat = find_threshold(nc_scores, alpha)"
   ]
  },
  {
   "cell_type": "code",
   "execution_count": 52,
   "id": "4d29e6c1-0ef6-4aa4-b8fe-4fe79b0d033a",
   "metadata": {
    "execution": {
     "iopub.execute_input": "2025-07-30T14:19:30.404358Z",
     "iopub.status.busy": "2025-07-30T14:19:30.403505Z",
     "iopub.status.idle": "2025-07-30T14:19:30.411196Z",
     "shell.execute_reply": "2025-07-30T14:19:30.410175Z"
    },
    "papermill": {
     "duration": 0.038171,
     "end_time": "2025-07-30T14:19:30.413022",
     "exception": false,
     "start_time": "2025-07-30T14:19:30.374851",
     "status": "completed"
    },
    "tags": []
   },
   "outputs": [
    {
     "data": {
      "text/plain": [
       "0.6631116975097551"
      ]
     },
     "execution_count": 52,
     "metadata": {},
     "output_type": "execute_result"
    }
   ],
   "source": [
    "q_hat"
   ]
  },
  {
   "cell_type": "code",
   "execution_count": 53,
   "id": "92460794-cdac-4be2-ba28-f28c0515a6fb",
   "metadata": {
    "execution": {
     "iopub.execute_input": "2025-07-30T14:19:30.469885Z",
     "iopub.status.busy": "2025-07-30T14:19:30.469363Z",
     "iopub.status.idle": "2025-07-30T14:19:31.288558Z",
     "shell.execute_reply": "2025-07-30T14:19:31.287432Z"
    },
    "papermill": {
     "duration": 0.849579,
     "end_time": "2025-07-30T14:19:31.290755",
     "exception": false,
     "start_time": "2025-07-30T14:19:30.441176",
     "status": "completed"
    },
    "tags": []
   },
   "outputs": [],
   "source": [
    "from fairness_multiverse.conformal import predict_conformal_sets\n",
    "\n",
    "# Generate prediction sets for each test example\n",
    "pred_sets = predict_conformal_sets(model, X_test, q_hat)"
   ]
  },
  {
   "cell_type": "code",
   "execution_count": 54,
   "id": "d90c9a65-e6db-4f5d-80cd-e68fb7e46829",
   "metadata": {
    "execution": {
     "iopub.execute_input": "2025-07-30T14:19:31.350346Z",
     "iopub.status.busy": "2025-07-30T14:19:31.349874Z",
     "iopub.status.idle": "2025-07-30T14:19:31.355813Z",
     "shell.execute_reply": "2025-07-30T14:19:31.354670Z"
    },
    "papermill": {
     "duration": 0.036143,
     "end_time": "2025-07-30T14:19:31.357684",
     "exception": false,
     "start_time": "2025-07-30T14:19:31.321541",
     "status": "completed"
    },
    "tags": []
   },
   "outputs": [],
   "source": [
    "y_true = y_true.squeeze()"
   ]
  },
  {
   "cell_type": "code",
   "execution_count": 55,
   "id": "3a58a54a-1e68-46b9-927a-df01f18aebc8",
   "metadata": {
    "execution": {
     "iopub.execute_input": "2025-07-30T14:19:31.406510Z",
     "iopub.status.busy": "2025-07-30T14:19:31.405762Z",
     "iopub.status.idle": "2025-07-30T14:19:32.307688Z",
     "shell.execute_reply": "2025-07-30T14:19:32.306827Z"
    },
    "papermill": {
     "duration": 0.927704,
     "end_time": "2025-07-30T14:19:32.309661",
     "exception": false,
     "start_time": "2025-07-30T14:19:31.381957",
     "status": "completed"
    },
    "tags": []
   },
   "outputs": [],
   "source": [
    "from fairness_multiverse.conformal import evaluate_sets\n",
    "\n",
    "# Evaluate coverage and average set size on test data\n",
    "metrics = evaluate_sets(pred_sets, y_true)"
   ]
  },
  {
   "cell_type": "markdown",
   "id": "2b569c12-9aaa-4c88-98c9-bbcd0cf3ebb8",
   "metadata": {
    "papermill": {
     "duration": 0.026489,
     "end_time": "2025-07-30T14:19:32.363160",
     "exception": false,
     "start_time": "2025-07-30T14:19:32.336671",
     "status": "completed"
    },
    "tags": []
   },
   "source": [
    "# CP Metrics"
   ]
  },
  {
   "cell_type": "code",
   "execution_count": 56,
   "id": "5ce0a5cb-201f-45a0-ade5-94c7f0bd6095",
   "metadata": {
    "execution": {
     "iopub.execute_input": "2025-07-30T14:19:32.416366Z",
     "iopub.status.busy": "2025-07-30T14:19:32.415890Z",
     "iopub.status.idle": "2025-07-30T14:19:32.422985Z",
     "shell.execute_reply": "2025-07-30T14:19:32.421959Z"
    },
    "papermill": {
     "duration": 0.035346,
     "end_time": "2025-07-30T14:19:32.424905",
     "exception": false,
     "start_time": "2025-07-30T14:19:32.389559",
     "status": "completed"
    },
    "tags": []
   },
   "outputs": [
    {
     "data": {
      "text/plain": [
       "{'coverage': 0.9149593133429941, 'avg_size': 1.2557462936127521}"
      ]
     },
     "execution_count": 56,
     "metadata": {},
     "output_type": "execute_result"
    }
   ],
   "source": [
    "metrics"
   ]
  },
  {
   "cell_type": "code",
   "execution_count": 57,
   "id": "9b9a838d-31c9-430b-ae14-12baee460d17",
   "metadata": {
    "execution": {
     "iopub.execute_input": "2025-07-30T14:19:32.475544Z",
     "iopub.status.busy": "2025-07-30T14:19:32.474871Z",
     "iopub.status.idle": "2025-07-30T14:19:32.480975Z",
     "shell.execute_reply": "2025-07-30T14:19:32.480116Z"
    },
    "papermill": {
     "duration": 0.032777,
     "end_time": "2025-07-30T14:19:32.482566",
     "exception": false,
     "start_time": "2025-07-30T14:19:32.449789",
     "status": "completed"
    },
    "tags": []
   },
   "outputs": [],
   "source": [
    "example_universe = universe.copy()\n",
    "universe_training_size = example_universe.get(\"training_size\")\n",
    "universe_scale = example_universe.get(\"scale\")\n",
    "universe_model = example_universe.get(\"model\")\n",
    "universe_exclude_features = example_universe.get(\"exclude_features\")\n",
    "universe_exclude_subgroups = example_universe.get(\"exclude_subgroups\")"
   ]
  },
  {
   "cell_type": "code",
   "execution_count": 58,
   "id": "f4b6a8ac-9dc0-4245-8a91-5b3b5999c4f9",
   "metadata": {
    "execution": {
     "iopub.execute_input": "2025-07-30T14:19:32.532677Z",
     "iopub.status.busy": "2025-07-30T14:19:32.531882Z",
     "iopub.status.idle": "2025-07-30T14:19:32.538374Z",
     "shell.execute_reply": "2025-07-30T14:19:32.537316Z"
    },
    "papermill": {
     "duration": 0.033231,
     "end_time": "2025-07-30T14:19:32.540181",
     "exception": false,
     "start_time": "2025-07-30T14:19:32.506950",
     "status": "completed"
    },
    "tags": []
   },
   "outputs": [],
   "source": [
    "cp_metrics_dict = {\n",
    "    \"universe_id\": [universe_id],\n",
    "    \"universe_training_size\": [universe_training_size],\n",
    "    \"universe_scale\": [universe_scale],\n",
    "    \"universe_model\": [universe_model],\n",
    "    \"universe_exclude_features\": [universe_exclude_features],\n",
    "    \"universe_exclude_subgroups\": [universe_exclude_subgroups],\n",
    "    \"q_hat\": [q_hat],\n",
    "    \"coverage\": [metrics[\"coverage\"]],\n",
    "    \"avg_size\": [metrics[\"avg_size\"]],\n",
    "}"
   ]
  },
  {
   "cell_type": "code",
   "execution_count": 59,
   "id": "908acbb1-0371-4915-85ca-3fa520d2efe2",
   "metadata": {
    "execution": {
     "iopub.execute_input": "2025-07-30T14:19:32.598367Z",
     "iopub.status.busy": "2025-07-30T14:19:32.597654Z",
     "iopub.status.idle": "2025-07-30T14:19:32.605618Z",
     "shell.execute_reply": "2025-07-30T14:19:32.604614Z"
    },
    "papermill": {
     "duration": 0.038654,
     "end_time": "2025-07-30T14:19:32.607170",
     "exception": false,
     "start_time": "2025-07-30T14:19:32.568516",
     "status": "completed"
    },
    "tags": []
   },
   "outputs": [
    {
     "data": {
      "text/plain": [
       "{'universe_id': ['8daf8e3af60a39964e8bad4b7944f840'],\n",
       " 'universe_training_size': ['5k'],\n",
       " 'universe_scale': ['do-not-scale'],\n",
       " 'universe_model': ['elasticnet'],\n",
       " 'universe_exclude_features': ['age'],\n",
       " 'universe_exclude_subgroups': ['drop-non-german'],\n",
       " 'q_hat': [0.6631116975097551],\n",
       " 'coverage': [0.9149593133429941],\n",
       " 'avg_size': [1.2557462936127521]}"
      ]
     },
     "execution_count": 59,
     "metadata": {},
     "output_type": "execute_result"
    }
   ],
   "source": [
    "cp_metrics_dict"
   ]
  },
  {
   "cell_type": "code",
   "execution_count": 60,
   "id": "33007efc-14e9-4ec6-97ac-56a455c82265",
   "metadata": {
    "execution": {
     "iopub.execute_input": "2025-07-30T14:19:32.659438Z",
     "iopub.status.busy": "2025-07-30T14:19:32.658706Z",
     "iopub.status.idle": "2025-07-30T14:19:32.665268Z",
     "shell.execute_reply": "2025-07-30T14:19:32.664197Z"
    },
    "papermill": {
     "duration": 0.032809,
     "end_time": "2025-07-30T14:19:32.667130",
     "exception": false,
     "start_time": "2025-07-30T14:19:32.634321",
     "status": "completed"
    },
    "tags": []
   },
   "outputs": [],
   "source": [
    "cp_metrics_df = pd.DataFrame(cp_metrics_dict)"
   ]
  },
  {
   "cell_type": "code",
   "execution_count": 61,
   "id": "db12611b-57b2-4910-b9d0-355adfd6e7bf",
   "metadata": {
    "execution": {
     "iopub.execute_input": "2025-07-30T14:19:32.716662Z",
     "iopub.status.busy": "2025-07-30T14:19:32.716192Z",
     "iopub.status.idle": "2025-07-30T14:19:32.733507Z",
     "shell.execute_reply": "2025-07-30T14:19:32.732438Z"
    },
    "papermill": {
     "duration": 0.043296,
     "end_time": "2025-07-30T14:19:32.735089",
     "exception": false,
     "start_time": "2025-07-30T14:19:32.691793",
     "status": "completed"
    },
    "tags": []
   },
   "outputs": [
    {
     "data": {
      "text/html": [
       "<div>\n",
       "<style scoped>\n",
       "    .dataframe tbody tr th:only-of-type {\n",
       "        vertical-align: middle;\n",
       "    }\n",
       "\n",
       "    .dataframe tbody tr th {\n",
       "        vertical-align: top;\n",
       "    }\n",
       "\n",
       "    .dataframe thead th {\n",
       "        text-align: right;\n",
       "    }\n",
       "</style>\n",
       "<table border=\"1\" class=\"dataframe\">\n",
       "  <thead>\n",
       "    <tr style=\"text-align: right;\">\n",
       "      <th></th>\n",
       "      <th>universe_id</th>\n",
       "      <th>universe_training_size</th>\n",
       "      <th>universe_scale</th>\n",
       "      <th>universe_model</th>\n",
       "      <th>universe_exclude_features</th>\n",
       "      <th>universe_exclude_subgroups</th>\n",
       "      <th>q_hat</th>\n",
       "      <th>coverage</th>\n",
       "      <th>avg_size</th>\n",
       "    </tr>\n",
       "  </thead>\n",
       "  <tbody>\n",
       "    <tr>\n",
       "      <th>0</th>\n",
       "      <td>8daf8e3af60a39964e8bad4b7944f840</td>\n",
       "      <td>5k</td>\n",
       "      <td>do-not-scale</td>\n",
       "      <td>elasticnet</td>\n",
       "      <td>age</td>\n",
       "      <td>drop-non-german</td>\n",
       "      <td>0.663112</td>\n",
       "      <td>0.914959</td>\n",
       "      <td>1.255746</td>\n",
       "    </tr>\n",
       "  </tbody>\n",
       "</table>\n",
       "</div>"
      ],
      "text/plain": [
       "                        universe_id universe_training_size universe_scale  \\\n",
       "0  8daf8e3af60a39964e8bad4b7944f840                     5k   do-not-scale   \n",
       "\n",
       "  universe_model universe_exclude_features universe_exclude_subgroups  \\\n",
       "0     elasticnet                       age            drop-non-german   \n",
       "\n",
       "      q_hat  coverage  avg_size  \n",
       "0  0.663112  0.914959  1.255746  "
      ]
     },
     "execution_count": 61,
     "metadata": {},
     "output_type": "execute_result"
    }
   ],
   "source": [
    "cp_metrics_df"
   ]
  },
  {
   "cell_type": "code",
   "execution_count": 62,
   "id": "b7fbde55-a0a1-47e4-9af6-fe4a17fa8c61",
   "metadata": {
    "execution": {
     "iopub.execute_input": "2025-07-30T14:19:32.785885Z",
     "iopub.status.busy": "2025-07-30T14:19:32.785109Z",
     "iopub.status.idle": "2025-07-30T14:19:32.790266Z",
     "shell.execute_reply": "2025-07-30T14:19:32.789304Z"
    },
    "papermill": {
     "duration": 0.03161,
     "end_time": "2025-07-30T14:19:32.791976",
     "exception": false,
     "start_time": "2025-07-30T14:19:32.760366",
     "status": "completed"
    },
    "tags": []
   },
   "outputs": [],
   "source": [
    "# Conditional Coverage & looking at subgroups"
   ]
  },
  {
   "cell_type": "code",
   "execution_count": 63,
   "id": "027ae886-68dd-4141-96c7-805a5450e1ef",
   "metadata": {
    "execution": {
     "iopub.execute_input": "2025-07-30T14:19:32.842977Z",
     "iopub.status.busy": "2025-07-30T14:19:32.842170Z",
     "iopub.status.idle": "2025-07-30T14:19:33.095968Z",
     "shell.execute_reply": "2025-07-30T14:19:33.095092Z"
    },
    "papermill": {
     "duration": 0.280596,
     "end_time": "2025-07-30T14:19:33.097816",
     "exception": false,
     "start_time": "2025-07-30T14:19:32.817220",
     "status": "completed"
    },
    "tags": []
   },
   "outputs": [],
   "source": [
    "from fairness_multiverse.conformal import build_cp_groups\n",
    "\n",
    "cp_groups_df = build_cp_groups(pred_sets, y_true, X_test.index, org_test)\n",
    "#needs universe_id and setting"
   ]
  },
  {
   "cell_type": "code",
   "execution_count": 64,
   "id": "01d5802c-663a-4d1f-9d69-e036faaffbf7",
   "metadata": {
    "execution": {
     "iopub.execute_input": "2025-07-30T14:19:33.148274Z",
     "iopub.status.busy": "2025-07-30T14:19:33.147634Z",
     "iopub.status.idle": "2025-07-30T14:19:33.152329Z",
     "shell.execute_reply": "2025-07-30T14:19:33.151455Z"
    },
    "papermill": {
     "duration": 0.031495,
     "end_time": "2025-07-30T14:19:33.153905",
     "exception": false,
     "start_time": "2025-07-30T14:19:33.122410",
     "status": "completed"
    },
    "tags": []
   },
   "outputs": [],
   "source": [
    "#delete\n",
    "#cp_groups_df"
   ]
  },
  {
   "cell_type": "code",
   "execution_count": 65,
   "id": "fa424af1-d1eb-443d-b717-2d279ada8408",
   "metadata": {
    "execution": {
     "iopub.execute_input": "2025-07-30T14:19:33.204741Z",
     "iopub.status.busy": "2025-07-30T14:19:33.204201Z",
     "iopub.status.idle": "2025-07-30T14:19:33.209032Z",
     "shell.execute_reply": "2025-07-30T14:19:33.208160Z"
    },
    "papermill": {
     "duration": 0.031324,
     "end_time": "2025-07-30T14:19:33.210558",
     "exception": false,
     "start_time": "2025-07-30T14:19:33.179234",
     "status": "completed"
    },
    "tags": []
   },
   "outputs": [],
   "source": [
    "#delete\n",
    "#percentage = (cp_groups_df['nongerman_female'] == 1).mean() * 100\n",
    "#print(percentage)\n"
   ]
  },
  {
   "cell_type": "code",
   "execution_count": 66,
   "id": "6cbdab96-b2b2-45af-ad54-d0516db2e28d",
   "metadata": {
    "execution": {
     "iopub.execute_input": "2025-07-30T14:19:33.261992Z",
     "iopub.status.busy": "2025-07-30T14:19:33.261154Z",
     "iopub.status.idle": "2025-07-30T14:19:34.827517Z",
     "shell.execute_reply": "2025-07-30T14:19:34.826388Z"
    },
    "papermill": {
     "duration": 1.593709,
     "end_time": "2025-07-30T14:19:34.829821",
     "exception": false,
     "start_time": "2025-07-30T14:19:33.236112",
     "status": "completed"
    },
    "tags": []
   },
   "outputs": [],
   "source": [
    "# Define covered = 1 if true_label is in the predicted set\n",
    "cp_groups_df['covered'] = cp_groups_df.apply(\n",
    "    lambda r: int(r['true_label'] in r['pred_set']),\n",
    "    axis=1\n",
    ")"
   ]
  },
  {
   "cell_type": "code",
   "execution_count": 67,
   "id": "338ff529-1a6b-4b87-a931-8e4788d52aad",
   "metadata": {
    "execution": {
     "iopub.execute_input": "2025-07-30T14:19:34.903266Z",
     "iopub.status.busy": "2025-07-30T14:19:34.902528Z",
     "iopub.status.idle": "2025-07-30T14:19:34.908504Z",
     "shell.execute_reply": "2025-07-30T14:19:34.907301Z"
    },
    "papermill": {
     "duration": 0.043495,
     "end_time": "2025-07-30T14:19:34.910556",
     "exception": false,
     "start_time": "2025-07-30T14:19:34.867061",
     "status": "completed"
    },
    "tags": []
   },
   "outputs": [],
   "source": [
    "#cp_groups_df"
   ]
  },
  {
   "cell_type": "code",
   "execution_count": 68,
   "id": "90032e27-66df-4540-9169-4e89cfbaa758",
   "metadata": {
    "execution": {
     "iopub.execute_input": "2025-07-30T14:19:34.983272Z",
     "iopub.status.busy": "2025-07-30T14:19:34.982647Z",
     "iopub.status.idle": "2025-07-30T14:19:34.995658Z",
     "shell.execute_reply": "2025-07-30T14:19:34.994514Z"
    },
    "papermill": {
     "duration": 0.051009,
     "end_time": "2025-07-30T14:19:34.997818",
     "exception": false,
     "start_time": "2025-07-30T14:19:34.946809",
     "status": "completed"
    },
    "tags": []
   },
   "outputs": [],
   "source": [
    "subgroups = ['frau1','nongerman','nongerman_male','nongerman_female']\n",
    "\n",
    "# Conditional coverage for subgroup==1\n",
    "cond_coverage = {\n",
    "    g: cp_groups_df.loc[cp_groups_df[g]==1, 'covered'].mean()\n",
    "    for g in subgroups\n",
    "}"
   ]
  },
  {
   "cell_type": "code",
   "execution_count": 69,
   "id": "1e348fb1-b9c3-45bc-ba23-f016827a7e0d",
   "metadata": {
    "execution": {
     "iopub.execute_input": "2025-07-30T14:19:35.068908Z",
     "iopub.status.busy": "2025-07-30T14:19:35.068244Z",
     "iopub.status.idle": "2025-07-30T14:19:35.076660Z",
     "shell.execute_reply": "2025-07-30T14:19:35.075630Z"
    },
    "papermill": {
     "duration": 0.045711,
     "end_time": "2025-07-30T14:19:35.078530",
     "exception": false,
     "start_time": "2025-07-30T14:19:35.032819",
     "status": "completed"
    },
    "tags": []
   },
   "outputs": [
    {
     "data": {
      "text/plain": [
       "{'frau1': 0.9152176843240329,\n",
       " 'nongerman': 0.964800988042441,\n",
       " 'nongerman_male': 0.9697379086733315,\n",
       " 'nongerman_female': 0.9566318926974665}"
      ]
     },
     "execution_count": 69,
     "metadata": {},
     "output_type": "execute_result"
    }
   ],
   "source": [
    "cond_coverage"
   ]
  },
  {
   "cell_type": "code",
   "execution_count": 70,
   "id": "f5093324-c3dd-4d63-bc4c-8d945e5c8bbb",
   "metadata": {
    "execution": {
     "iopub.execute_input": "2025-07-30T14:19:35.134228Z",
     "iopub.status.busy": "2025-07-30T14:19:35.133523Z",
     "iopub.status.idle": "2025-07-30T14:19:35.143275Z",
     "shell.execute_reply": "2025-07-30T14:19:35.142118Z"
    },
    "papermill": {
     "duration": 0.039018,
     "end_time": "2025-07-30T14:19:35.144888",
     "exception": false,
     "start_time": "2025-07-30T14:19:35.105870",
     "status": "completed"
    },
    "tags": []
   },
   "outputs": [],
   "source": [
    "for subgroup, cov in cond_coverage.items():\n",
    "    cp_metrics_df[f\"cov_{subgroup}\"] = cov"
   ]
  },
  {
   "cell_type": "code",
   "execution_count": 71,
   "id": "6e872e10-dbe5-49e8-b554-5030c98ff75d",
   "metadata": {
    "execution": {
     "iopub.execute_input": "2025-07-30T14:19:35.199828Z",
     "iopub.status.busy": "2025-07-30T14:19:35.198930Z",
     "iopub.status.idle": "2025-07-30T14:19:35.216771Z",
     "shell.execute_reply": "2025-07-30T14:19:35.215822Z"
    },
    "papermill": {
     "duration": 0.046997,
     "end_time": "2025-07-30T14:19:35.218517",
     "exception": false,
     "start_time": "2025-07-30T14:19:35.171520",
     "status": "completed"
    },
    "tags": []
   },
   "outputs": [
    {
     "data": {
      "text/html": [
       "<div>\n",
       "<style scoped>\n",
       "    .dataframe tbody tr th:only-of-type {\n",
       "        vertical-align: middle;\n",
       "    }\n",
       "\n",
       "    .dataframe tbody tr th {\n",
       "        vertical-align: top;\n",
       "    }\n",
       "\n",
       "    .dataframe thead th {\n",
       "        text-align: right;\n",
       "    }\n",
       "</style>\n",
       "<table border=\"1\" class=\"dataframe\">\n",
       "  <thead>\n",
       "    <tr style=\"text-align: right;\">\n",
       "      <th></th>\n",
       "      <th>universe_id</th>\n",
       "      <th>universe_training_size</th>\n",
       "      <th>universe_scale</th>\n",
       "      <th>universe_model</th>\n",
       "      <th>universe_exclude_features</th>\n",
       "      <th>universe_exclude_subgroups</th>\n",
       "      <th>q_hat</th>\n",
       "      <th>coverage</th>\n",
       "      <th>avg_size</th>\n",
       "      <th>cov_frau1</th>\n",
       "      <th>cov_nongerman</th>\n",
       "      <th>cov_nongerman_male</th>\n",
       "      <th>cov_nongerman_female</th>\n",
       "    </tr>\n",
       "  </thead>\n",
       "  <tbody>\n",
       "    <tr>\n",
       "      <th>0</th>\n",
       "      <td>8daf8e3af60a39964e8bad4b7944f840</td>\n",
       "      <td>5k</td>\n",
       "      <td>do-not-scale</td>\n",
       "      <td>elasticnet</td>\n",
       "      <td>age</td>\n",
       "      <td>drop-non-german</td>\n",
       "      <td>0.663112</td>\n",
       "      <td>0.914959</td>\n",
       "      <td>1.255746</td>\n",
       "      <td>0.915218</td>\n",
       "      <td>0.964801</td>\n",
       "      <td>0.969738</td>\n",
       "      <td>0.956632</td>\n",
       "    </tr>\n",
       "  </tbody>\n",
       "</table>\n",
       "</div>"
      ],
      "text/plain": [
       "                        universe_id universe_training_size universe_scale  \\\n",
       "0  8daf8e3af60a39964e8bad4b7944f840                     5k   do-not-scale   \n",
       "\n",
       "  universe_model universe_exclude_features universe_exclude_subgroups  \\\n",
       "0     elasticnet                       age            drop-non-german   \n",
       "\n",
       "      q_hat  coverage  avg_size  cov_frau1  cov_nongerman  cov_nongerman_male  \\\n",
       "0  0.663112  0.914959  1.255746   0.915218       0.964801            0.969738   \n",
       "\n",
       "   cov_nongerman_female  \n",
       "0              0.956632  "
      ]
     },
     "execution_count": 71,
     "metadata": {},
     "output_type": "execute_result"
    }
   ],
   "source": [
    "cp_metrics_df"
   ]
  },
  {
   "cell_type": "markdown",
   "id": "33774451",
   "metadata": {
    "papermill": {
     "duration": 0.025801,
     "end_time": "2025-07-30T14:19:35.271245",
     "exception": false,
     "start_time": "2025-07-30T14:19:35.245444",
     "status": "completed"
    },
    "tags": []
   },
   "source": [
    "# (Fairness) Metrics"
   ]
  },
  {
   "cell_type": "code",
   "execution_count": 72,
   "id": "debc5d62",
   "metadata": {
    "execution": {
     "iopub.execute_input": "2025-07-30T14:19:35.323912Z",
     "iopub.status.busy": "2025-07-30T14:19:35.323413Z",
     "iopub.status.idle": "2025-07-30T14:19:35.345991Z",
     "shell.execute_reply": "2025-07-30T14:19:35.345076Z"
    },
    "papermill": {
     "duration": 0.051593,
     "end_time": "2025-07-30T14:19:35.347954",
     "exception": false,
     "start_time": "2025-07-30T14:19:35.296361",
     "status": "completed"
    },
    "tags": []
   },
   "outputs": [],
   "source": [
    "# do I need to include maxdeutsch1.missing?\n",
    "\n",
    "import numpy as np\n",
    "\n",
    "colname_to_bin = \"maxdeutsch1\"\n",
    "majority_value = org_train[colname_to_bin].mode()[0]\n",
    "\n",
    "org_test[\"majmin\"] = np.where(org_test[colname_to_bin] == majority_value, \"majority\", \"minority\")"
   ]
  },
  {
   "cell_type": "code",
   "execution_count": 73,
   "id": "06a50de5",
   "metadata": {
    "execution": {
     "iopub.execute_input": "2025-07-30T14:19:35.403712Z",
     "iopub.status.busy": "2025-07-30T14:19:35.403003Z",
     "iopub.status.idle": "2025-07-30T14:19:38.354640Z",
     "shell.execute_reply": "2025-07-30T14:19:38.353450Z"
    },
    "papermill": {
     "duration": 2.981483,
     "end_time": "2025-07-30T14:19:38.356597",
     "exception": false,
     "start_time": "2025-07-30T14:19:35.375114",
     "status": "completed"
    },
    "tags": []
   },
   "outputs": [],
   "source": [
    "example_universe = universe.copy()\n",
    "example_universe[\"cutoff\"] = example_universe[\"cutoff\"][0]\n",
    "example_universe[\"eval_fairness_grouping\"] = example_universe[\"eval_fairness_grouping\"][0]\n",
    "fairness_dict, metric_frame = universe_analysis.compute_metrics(\n",
    "    example_universe,\n",
    "    y_pred_prob=probs_test,\n",
    "    y_test=y_true,\n",
    "    org_test=org_test,\n",
    ")"
   ]
  },
  {
   "cell_type": "markdown",
   "id": "f95d4e02",
   "metadata": {
    "papermill": {
     "duration": 0.029758,
     "end_time": "2025-07-30T14:19:38.414294",
     "exception": false,
     "start_time": "2025-07-30T14:19:38.384536",
     "status": "completed"
    },
    "tags": []
   },
   "source": [
    "# Overall"
   ]
  },
  {
   "cell_type": "markdown",
   "id": "bdee4871",
   "metadata": {
    "papermill": {
     "duration": 0.02768,
     "end_time": "2025-07-30T14:19:38.469153",
     "exception": false,
     "start_time": "2025-07-30T14:19:38.441473",
     "status": "completed"
    },
    "tags": []
   },
   "source": [
    "Fairness\n",
    "Main fairness target: Equalized Odds. Seems to be a better fit than equal opportunity, since we're not only interested in Y = 1. Seems to be a better fit than demographic parity, since we also care about accuracy, not just equal distribution of preds.\n",
    "\n",
    "Pick column for computation of fairness metrics\n",
    "\n",
    "Performance\n",
    "Overall performance measures, most interesting in relation to the measures split by group below"
   ]
  },
  {
   "cell_type": "code",
   "execution_count": 74,
   "id": "c4e067c6",
   "metadata": {
    "execution": {
     "iopub.execute_input": "2025-07-30T14:19:38.526287Z",
     "iopub.status.busy": "2025-07-30T14:19:38.525797Z",
     "iopub.status.idle": "2025-07-30T14:19:38.534850Z",
     "shell.execute_reply": "2025-07-30T14:19:38.533862Z"
    },
    "papermill": {
     "duration": 0.040415,
     "end_time": "2025-07-30T14:19:38.536567",
     "exception": false,
     "start_time": "2025-07-30T14:19:38.496152",
     "status": "completed"
    },
    "tags": []
   },
   "outputs": [
    {
     "data": {
      "text/plain": [
       "accuracy                   0.218538\n",
       "balanced accuracy          0.535577\n",
       "f1                         0.240029\n",
       "precision                  0.137121\n",
       "false positive rate        0.890872\n",
       "false negative rate        0.037974\n",
       "selection rate             0.900000\n",
       "count                  89710.000000\n",
       "dtype: float64"
      ]
     },
     "execution_count": 74,
     "metadata": {},
     "output_type": "execute_result"
    }
   ],
   "source": [
    "metric_frame.overall"
   ]
  },
  {
   "cell_type": "markdown",
   "id": "e968fe9d",
   "metadata": {
    "papermill": {
     "duration": 0.038271,
     "end_time": "2025-07-30T14:19:38.607331",
     "exception": false,
     "start_time": "2025-07-30T14:19:38.569060",
     "status": "completed"
    },
    "tags": []
   },
   "source": [
    "By Group"
   ]
  },
  {
   "cell_type": "code",
   "execution_count": 75,
   "id": "ec325bce",
   "metadata": {
    "execution": {
     "iopub.execute_input": "2025-07-30T14:19:38.687525Z",
     "iopub.status.busy": "2025-07-30T14:19:38.687067Z",
     "iopub.status.idle": "2025-07-30T14:19:38.703104Z",
     "shell.execute_reply": "2025-07-30T14:19:38.702303Z"
    },
    "papermill": {
     "duration": 0.054417,
     "end_time": "2025-07-30T14:19:38.704428",
     "exception": false,
     "start_time": "2025-07-30T14:19:38.650011",
     "status": "completed"
    },
    "tags": []
   },
   "outputs": [
    {
     "data": {
      "text/html": [
       "<div>\n",
       "<style scoped>\n",
       "    .dataframe tbody tr th:only-of-type {\n",
       "        vertical-align: middle;\n",
       "    }\n",
       "\n",
       "    .dataframe tbody tr th {\n",
       "        vertical-align: top;\n",
       "    }\n",
       "\n",
       "    .dataframe thead th {\n",
       "        text-align: right;\n",
       "    }\n",
       "</style>\n",
       "<table border=\"1\" class=\"dataframe\">\n",
       "  <thead>\n",
       "    <tr style=\"text-align: right;\">\n",
       "      <th></th>\n",
       "      <th>accuracy</th>\n",
       "      <th>balanced accuracy</th>\n",
       "      <th>f1</th>\n",
       "      <th>precision</th>\n",
       "      <th>false positive rate</th>\n",
       "      <th>false negative rate</th>\n",
       "      <th>selection rate</th>\n",
       "      <th>count</th>\n",
       "    </tr>\n",
       "    <tr>\n",
       "      <th>majmin</th>\n",
       "      <th></th>\n",
       "      <th></th>\n",
       "      <th></th>\n",
       "      <th></th>\n",
       "      <th></th>\n",
       "      <th></th>\n",
       "      <th></th>\n",
       "      <th></th>\n",
       "    </tr>\n",
       "  </thead>\n",
       "  <tbody>\n",
       "    <tr>\n",
       "      <th>majority</th>\n",
       "      <td>0.241073</td>\n",
       "      <td>0.543885</td>\n",
       "      <td>0.249653</td>\n",
       "      <td>0.143585</td>\n",
       "      <td>0.867699</td>\n",
       "      <td>0.044530</td>\n",
       "      <td>0.879297</td>\n",
       "      <td>69170.0</td>\n",
       "    </tr>\n",
       "    <tr>\n",
       "      <th>minority</th>\n",
       "      <td>0.142648</td>\n",
       "      <td>0.509954</td>\n",
       "      <td>0.209818</td>\n",
       "      <td>0.117381</td>\n",
       "      <td>0.967422</td>\n",
       "      <td>0.012669</td>\n",
       "      <td>0.969718</td>\n",
       "      <td>20540.0</td>\n",
       "    </tr>\n",
       "  </tbody>\n",
       "</table>\n",
       "</div>"
      ],
      "text/plain": [
       "          accuracy  balanced accuracy        f1  precision  \\\n",
       "majmin                                                       \n",
       "majority  0.241073           0.543885  0.249653   0.143585   \n",
       "minority  0.142648           0.509954  0.209818   0.117381   \n",
       "\n",
       "          false positive rate  false negative rate  selection rate    count  \n",
       "majmin                                                                       \n",
       "majority             0.867699             0.044530        0.879297  69170.0  \n",
       "minority             0.967422             0.012669        0.969718  20540.0  "
      ]
     },
     "execution_count": 75,
     "metadata": {},
     "output_type": "execute_result"
    }
   ],
   "source": [
    "metric_frame.by_group"
   ]
  },
  {
   "cell_type": "code",
   "execution_count": 76,
   "id": "a9ddbe63",
   "metadata": {
    "execution": {
     "iopub.execute_input": "2025-07-30T14:19:38.778585Z",
     "iopub.status.busy": "2025-07-30T14:19:38.778041Z",
     "iopub.status.idle": "2025-07-30T14:19:41.194183Z",
     "shell.execute_reply": "2025-07-30T14:19:41.193224Z"
    },
    "papermill": {
     "duration": 2.458702,
     "end_time": "2025-07-30T14:19:41.195931",
     "exception": false,
     "start_time": "2025-07-30T14:19:38.737229",
     "status": "completed"
    },
    "tags": []
   },
   "outputs": [
    {
     "data": {
      "text/plain": [
       "array([[<Axes: title={'center': 'accuracy'}, xlabel='majmin'>,\n",
       "        <Axes: title={'center': 'balanced accuracy'}, xlabel='majmin'>,\n",
       "        <Axes: title={'center': 'f1'}, xlabel='majmin'>],\n",
       "       [<Axes: title={'center': 'precision'}, xlabel='majmin'>,\n",
       "        <Axes: title={'center': 'false positive rate'}, xlabel='majmin'>,\n",
       "        <Axes: title={'center': 'false negative rate'}, xlabel='majmin'>],\n",
       "       [<Axes: title={'center': 'selection rate'}, xlabel='majmin'>,\n",
       "        <Axes: title={'center': 'count'}, xlabel='majmin'>,\n",
       "        <Axes: xlabel='majmin'>]], dtype=object)"
      ]
     },
     "execution_count": 76,
     "metadata": {},
     "output_type": "execute_result"
    },
    {
     "data": {
      "image/png": "[encoded data removed]",
      "text/plain": [
       "<Figure size 1200x800 with 9 Axes>"
      ]
     },
     "metadata": {},
     "output_type": "display_data"
    }
   ],
   "source": [
    "# In a graphic\n",
    "metric_frame.by_group.plot.bar(\n",
    "    subplots=True,\n",
    "    layout=[3, 3],\n",
    "    legend=False,\n",
    "    figsize=[12, 8],\n",
    "    title=\"Show all metrics\",\n",
    ")"
   ]
  },
  {
   "cell_type": "markdown",
   "id": "f57a0bac",
   "metadata": {
    "papermill": {
     "duration": 0.028079,
     "end_time": "2025-07-30T14:19:41.254640",
     "exception": false,
     "start_time": "2025-07-30T14:19:41.226561",
     "status": "completed"
    },
    "tags": []
   },
   "source": [
    "# Final Output"
   ]
  },
  {
   "cell_type": "code",
   "execution_count": 77,
   "id": "96d280a3",
   "metadata": {
    "execution": {
     "iopub.execute_input": "2025-07-30T14:19:41.314260Z",
     "iopub.status.busy": "2025-07-30T14:19:41.313406Z",
     "iopub.status.idle": "2025-07-30T14:19:41.321883Z",
     "shell.execute_reply": "2025-07-30T14:19:41.320960Z"
    },
    "papermill": {
     "duration": 0.039398,
     "end_time": "2025-07-30T14:19:41.323401",
     "exception": false,
     "start_time": "2025-07-30T14:19:41.284003",
     "status": "completed"
    },
    "tags": []
   },
   "outputs": [
    {
     "data": {
      "text/plain": [
       "4"
      ]
     },
     "execution_count": 77,
     "metadata": {},
     "output_type": "execute_result"
    }
   ],
   "source": [
    "sub_universes = universe_analysis.generate_sub_universes()\n",
    "len(sub_universes)"
   ]
  },
  {
   "cell_type": "code",
   "execution_count": 78,
   "id": "92adf7ba",
   "metadata": {
    "execution": {
     "iopub.execute_input": "2025-07-30T14:19:41.369581Z",
     "iopub.status.busy": "2025-07-30T14:19:41.369256Z",
     "iopub.status.idle": "2025-07-30T14:19:41.374861Z",
     "shell.execute_reply": "2025-07-30T14:19:41.374010Z"
    },
    "papermill": {
     "duration": 0.025862,
     "end_time": "2025-07-30T14:19:41.376333",
     "exception": false,
     "start_time": "2025-07-30T14:19:41.350471",
     "status": "completed"
    },
    "tags": []
   },
   "outputs": [],
   "source": [
    "def filter_sub_universe_data(sub_universe, org_test):\n",
    "    # Keep all rows — no filtering\n",
    "    keep_rows_mask = np.ones(org_test.shape[0], dtype=bool)\n",
    "\n",
    "    print(f\"[INFO] Keeping all rows: {keep_rows_mask.sum()} rows retained.\")\n",
    "    return keep_rows_mask"
   ]
  },
  {
   "cell_type": "code",
   "execution_count": 79,
   "id": "4a759155",
   "metadata": {
    "execution": {
     "iopub.execute_input": "2025-07-30T14:19:41.408951Z",
     "iopub.status.busy": "2025-07-30T14:19:41.408139Z",
     "iopub.status.idle": "2025-07-30T14:19:51.985020Z",
     "shell.execute_reply": "2025-07-30T14:19:51.983983Z"
    },
    "papermill": {
     "duration": 10.594323,
     "end_time": "2025-07-30T14:19:51.986720",
     "exception": false,
     "start_time": "2025-07-30T14:19:41.392397",
     "status": "completed"
    },
    "tags": []
   },
   "outputs": [
    {
     "name": "stdout",
     "output_type": "stream",
     "text": [
      "Stopping execution_time clock.\n",
      "[INFO] Keeping all rows: 89710 rows retained.\n"
     ]
    },
    {
     "name": "stdout",
     "output_type": "stream",
     "text": [
      "[INFO] Keeping all rows: 89710 rows retained.\n"
     ]
    },
    {
     "name": "stdout",
     "output_type": "stream",
     "text": [
      "[INFO] Keeping all rows: 89710 rows retained.\n"
     ]
    },
    {
     "name": "stdout",
     "output_type": "stream",
     "text": [
      "[INFO] Keeping all rows: 89710 rows retained.\n"
     ]
    },
    {
     "data": {
      "text/html": [
       "<div>\n",
       "<style scoped>\n",
       "    .dataframe tbody tr th:only-of-type {\n",
       "        vertical-align: middle;\n",
       "    }\n",
       "\n",
       "    .dataframe tbody tr th {\n",
       "        vertical-align: top;\n",
       "    }\n",
       "\n",
       "    .dataframe thead th {\n",
       "        text-align: right;\n",
       "    }\n",
       "</style>\n",
       "<table border=\"1\" class=\"dataframe\">\n",
       "  <thead>\n",
       "    <tr style=\"text-align: right;\">\n",
       "      <th></th>\n",
       "      <th>run_no</th>\n",
       "      <th>universe_id</th>\n",
       "      <th>universe_settings</th>\n",
       "      <th>execution_time</th>\n",
       "      <th>test_size_n</th>\n",
       "      <th>test_size_frac</th>\n",
       "      <th>fair_main_equalized_odds_difference</th>\n",
       "      <th>fair_main_equalized_odds_ratio</th>\n",
       "      <th>fair_main_demographic_parity_difference</th>\n",
       "      <th>fair_main_demographic_parity_ratio</th>\n",
       "      <th>...</th>\n",
       "      <th>perf_grp_precision_0</th>\n",
       "      <th>perf_grp_precision_1</th>\n",
       "      <th>perf_grp_false positive rate_0</th>\n",
       "      <th>perf_grp_false positive rate_1</th>\n",
       "      <th>perf_grp_false negative rate_0</th>\n",
       "      <th>perf_grp_false negative rate_1</th>\n",
       "      <th>perf_grp_selection rate_0</th>\n",
       "      <th>perf_grp_selection rate_1</th>\n",
       "      <th>perf_grp_count_0</th>\n",
       "      <th>perf_grp_count_1</th>\n",
       "    </tr>\n",
       "  </thead>\n",
       "  <tbody>\n",
       "    <tr>\n",
       "      <th>0</th>\n",
       "      <td>12</td>\n",
       "      <td>8daf8e3af60a39964e8bad4b7944f840</td>\n",
       "      <td>{\"cutoff\": \"quantile_0.1\", \"eval_fairness_grou...</td>\n",
       "      <td>98.356207</td>\n",
       "      <td>89710</td>\n",
       "      <td>1.0</td>\n",
       "      <td>0.099723</td>\n",
       "      <td>0.896919</td>\n",
       "      <td>0.090420</td>\n",
       "      <td>0.906756</td>\n",
       "      <td>...</td>\n",
       "      <td>NaN</td>\n",
       "      <td>NaN</td>\n",
       "      <td>NaN</td>\n",
       "      <td>NaN</td>\n",
       "      <td>NaN</td>\n",
       "      <td>NaN</td>\n",
       "      <td>NaN</td>\n",
       "      <td>NaN</td>\n",
       "      <td>NaN</td>\n",
       "      <td>NaN</td>\n",
       "    </tr>\n",
       "    <tr>\n",
       "      <th>0</th>\n",
       "      <td>12</td>\n",
       "      <td>8daf8e3af60a39964e8bad4b7944f840</td>\n",
       "      <td>{\"cutoff\": \"quantile_0.1\", \"eval_fairness_grou...</td>\n",
       "      <td>98.356207</td>\n",
       "      <td>89710</td>\n",
       "      <td>1.0</td>\n",
       "      <td>0.099723</td>\n",
       "      <td>0.896919</td>\n",
       "      <td>0.090420</td>\n",
       "      <td>0.906756</td>\n",
       "      <td>...</td>\n",
       "      <td>0.117381</td>\n",
       "      <td>0.143585</td>\n",
       "      <td>0.967422</td>\n",
       "      <td>0.867699</td>\n",
       "      <td>0.012669</td>\n",
       "      <td>0.044530</td>\n",
       "      <td>0.969718</td>\n",
       "      <td>0.879297</td>\n",
       "      <td>20540.0</td>\n",
       "      <td>69170.0</td>\n",
       "    </tr>\n",
       "    <tr>\n",
       "      <th>0</th>\n",
       "      <td>12</td>\n",
       "      <td>8daf8e3af60a39964e8bad4b7944f840</td>\n",
       "      <td>{\"cutoff\": \"quantile_0.25\", \"eval_fairness_gro...</td>\n",
       "      <td>98.356207</td>\n",
       "      <td>89710</td>\n",
       "      <td>1.0</td>\n",
       "      <td>0.241119</td>\n",
       "      <td>0.736745</td>\n",
       "      <td>0.220691</td>\n",
       "      <td>0.760159</td>\n",
       "      <td>...</td>\n",
       "      <td>NaN</td>\n",
       "      <td>NaN</td>\n",
       "      <td>NaN</td>\n",
       "      <td>NaN</td>\n",
       "      <td>NaN</td>\n",
       "      <td>NaN</td>\n",
       "      <td>NaN</td>\n",
       "      <td>NaN</td>\n",
       "      <td>NaN</td>\n",
       "      <td>NaN</td>\n",
       "    </tr>\n",
       "    <tr>\n",
       "      <th>0</th>\n",
       "      <td>12</td>\n",
       "      <td>8daf8e3af60a39964e8bad4b7944f840</td>\n",
       "      <td>{\"cutoff\": \"quantile_0.25\", \"eval_fairness_gro...</td>\n",
       "      <td>98.356207</td>\n",
       "      <td>89710</td>\n",
       "      <td>1.0</td>\n",
       "      <td>0.241119</td>\n",
       "      <td>0.736745</td>\n",
       "      <td>0.220691</td>\n",
       "      <td>0.760159</td>\n",
       "      <td>...</td>\n",
       "      <td>0.119365</td>\n",
       "      <td>0.162746</td>\n",
       "      <td>0.915915</td>\n",
       "      <td>0.674796</td>\n",
       "      <td>0.047297</td>\n",
       "      <td>0.138512</td>\n",
       "      <td>0.920156</td>\n",
       "      <td>0.699465</td>\n",
       "      <td>20540.0</td>\n",
       "      <td>69170.0</td>\n",
       "    </tr>\n",
       "  </tbody>\n",
       "</table>\n",
       "<p>4 rows × 50 columns</p>\n",
       "</div>"
      ],
      "text/plain": [
       "  run_no                       universe_id  \\\n",
       "0     12  8daf8e3af60a39964e8bad4b7944f840   \n",
       "0     12  8daf8e3af60a39964e8bad4b7944f840   \n",
       "0     12  8daf8e3af60a39964e8bad4b7944f840   \n",
       "0     12  8daf8e3af60a39964e8bad4b7944f840   \n",
       "\n",
       "                                   universe_settings  execution_time  \\\n",
       "0  {\"cutoff\": \"quantile_0.1\", \"eval_fairness_grou...       98.356207   \n",
       "0  {\"cutoff\": \"quantile_0.1\", \"eval_fairness_grou...       98.356207   \n",
       "0  {\"cutoff\": \"quantile_0.25\", \"eval_fairness_gro...       98.356207   \n",
       "0  {\"cutoff\": \"quantile_0.25\", \"eval_fairness_gro...       98.356207   \n",
       "\n",
       "   test_size_n  test_size_frac  fair_main_equalized_odds_difference  \\\n",
       "0        89710             1.0                             0.099723   \n",
       "0        89710             1.0                             0.099723   \n",
       "0        89710             1.0                             0.241119   \n",
       "0        89710             1.0                             0.241119   \n",
       "\n",
       "   fair_main_equalized_odds_ratio  fair_main_demographic_parity_difference  \\\n",
       "0                        0.896919                                 0.090420   \n",
       "0                        0.896919                                 0.090420   \n",
       "0                        0.736745                                 0.220691   \n",
       "0                        0.736745                                 0.220691   \n",
       "\n",
       "   fair_main_demographic_parity_ratio  ...  perf_grp_precision_0  \\\n",
       "0                            0.906756  ...                   NaN   \n",
       "0                            0.906756  ...              0.117381   \n",
       "0                            0.760159  ...                   NaN   \n",
       "0                            0.760159  ...              0.119365   \n",
       "\n",
       "   perf_grp_precision_1  perf_grp_false positive rate_0  \\\n",
       "0                   NaN                             NaN   \n",
       "0              0.143585                        0.967422   \n",
       "0                   NaN                             NaN   \n",
       "0              0.162746                        0.915915   \n",
       "\n",
       "   perf_grp_false positive rate_1  perf_grp_false negative rate_0  \\\n",
       "0                             NaN                             NaN   \n",
       "0                        0.867699                        0.012669   \n",
       "0                             NaN                             NaN   \n",
       "0                        0.674796                        0.047297   \n",
       "\n",
       "   perf_grp_false negative rate_1  perf_grp_selection rate_0  \\\n",
       "0                             NaN                        NaN   \n",
       "0                        0.044530                   0.969718   \n",
       "0                             NaN                        NaN   \n",
       "0                        0.138512                   0.920156   \n",
       "\n",
       "   perf_grp_selection rate_1  perf_grp_count_0  perf_grp_count_1  \n",
       "0                        NaN               NaN               NaN  \n",
       "0                   0.879297           20540.0           69170.0  \n",
       "0                        NaN               NaN               NaN  \n",
       "0                   0.699465           20540.0           69170.0  \n",
       "\n",
       "[4 rows x 50 columns]"
      ]
     },
     "execution_count": 79,
     "metadata": {},
     "output_type": "execute_result"
    }
   ],
   "source": [
    "final_output = universe_analysis.generate_final_output(\n",
    "    y_pred_prob=probs_test,\n",
    "    y_test=y_true,\n",
    "    org_test=org_test,\n",
    "    filter_data=filter_sub_universe_data,\n",
    "    cp_metrics_df=cp_metrics_df,\n",
    "    save=True,\n",
    ")\n",
    "final_output"
   ]
  },
  {
   "cell_type": "code",
   "execution_count": null,
   "id": "721ff514-cb11-46f8-b6fc-50392f74b5cb",
   "metadata": {
    "papermill": {
     "duration": 0.030704,
     "end_time": "2025-07-30T14:19:52.050707",
     "exception": false,
     "start_time": "2025-07-30T14:19:52.020003",
     "status": "completed"
    },
    "tags": []
   },
   "outputs": [],
   "source": []
  }
 ],
 "metadata": {
  "celltoolbar": "Tags",
  "kernelspec": {
   "display_name": "Python (CMA Fairness)",
   "language": "python",
   "name": "cma_fair_env"
  },
  "language_info": {
   "codemirror_mode": {
    "name": "ipython",
    "version": 3
   },
   "file_extension": ".py",
   "mimetype": "text/x-python",
   "name": "python",
   "nbconvert_exporter": "python",
   "pygments_lexer": "ipython3",
   "version": "3.10.12"
  },
  "papermill": {
   "default_parameters": {},
   "duration": 113.037662,
   "end_time": "2025-07-30T14:19:52.900877",
   "environment_variables": {},
   "exception": null,
   "input_path": "universe_analysis.ipynb",
   "output_path": "output/runs/12/notebooks/m_12-8daf8e3af60a39964e8bad4b7944f840.ipynb",
   "parameters": {
    "output_dir": "output",
    "run_no": "12",
    "seed": "2023",
    "universe": "{\"cutoff\": [\"quantile_0.1\", \"quantile_0.25\"], \"eval_fairness_grouping\": [\"majority-minority\", \"nationality-all\"], \"exclude_features\": \"age\", \"exclude_subgroups\": \"drop-non-german\", \"model\": \"elasticnet\", \"scale\": \"do-not-scale\", \"training_size\": \"5k\", \"training_year\": \"2010_14\"}",
    "universe_id": "8daf8e3af60a39964e8bad4b7944f840"
   },
   "start_time": "2025-07-30T14:17:59.863215",
   "version": "2.6.0"
  }
 },
 "nbformat": 4,
 "nbformat_minor": 5
}