{
 "cells": [
  {
   "cell_type": "code",
   "execution_count": 1,
   "id": "f159f837-637b-42ba-96b5-ec9a68c44524",
   "metadata": {
    "execution": {
     "iopub.execute_input": "2025-07-30T14:13:28.746435Z",
     "iopub.status.busy": "2025-07-30T14:13:28.745812Z",
     "iopub.status.idle": "2025-07-30T14:13:28.762423Z",
     "shell.execute_reply": "2025-07-30T14:13:28.761175Z"
    },
    "papermill": {
     "duration": 0.038452,
     "end_time": "2025-07-30T14:13:28.764180",
     "exception": false,
     "start_time": "2025-07-30T14:13:28.725728",
     "status": "completed"
    },
    "tags": []
   },
   "outputs": [
    {
     "name": "stdout",
     "output_type": "stream",
     "text": [
      "/dss/dsshome1/0C/ra93lal2/cma/CMA_Fairness_v2\n"
     ]
    },
    {
     "name": "stderr",
     "output_type": "stream",
     "text": [
      "/dss/dsshome1/0C/ra93lal2/.local/share/virtualenvs/CMA_Fairness_v2-3j10GkSs/lib/python3.10/site-packages/IPython/core/magics/osm.py:393: UserWarning: This is now an optional IPython functionality, using bookmarks requires you to install the `pickleshare` library.\n",
      "  bkms = self.shell.db.get('bookmarks', {})\n",
      "/dss/dsshome1/0C/ra93lal2/.local/share/virtualenvs/CMA_Fairness_v2-3j10GkSs/lib/python3.10/site-packages/IPython/core/magics/osm.py:417: UserWarning: This is now an optional IPython functionality, setting dhist requires you to install the `pickleshare` library.\n",
      "  self.shell.db['dhist'] = compress_dhist(dhist)[-100:]\n"
     ]
    }
   ],
   "source": [
    "%cd ~/cma/CMA_Fairness_v2"
   ]
  },
  {
   "cell_type": "markdown",
   "id": "de2603b9",
   "metadata": {
    "papermill": {
     "duration": 0.018645,
     "end_time": "2025-07-30T14:13:28.801926",
     "exception": false,
     "start_time": "2025-07-30T14:13:28.783281",
     "status": "completed"
    },
    "tags": []
   },
   "source": [
    "The following cell holds the definition of our parameters, these values can be overriden by rendering the with e.g. the following command:\n",
    "\n",
    "papermill -p alpha 0.2 -p ratio 0.3 universe_analysis.ipynb output/test_run.ipynb"
   ]
  },
  {
   "cell_type": "code",
   "execution_count": 2,
   "id": "a80968a0-40bb-4fa9-85ef-2d5eefb01975",
   "metadata": {
    "execution": {
     "iopub.execute_input": "2025-07-30T14:13:28.842444Z",
     "iopub.status.busy": "2025-07-30T14:13:28.841553Z",
     "iopub.status.idle": "2025-07-30T14:13:28.847209Z",
     "shell.execute_reply": "2025-07-30T14:13:28.846074Z"
    },
    "papermill": {
     "duration": 0.028533,
     "end_time": "2025-07-30T14:13:28.849050",
     "exception": false,
     "start_time": "2025-07-30T14:13:28.820517",
     "status": "completed"
    },
    "tags": []
   },
   "outputs": [
    {
     "name": "stdout",
     "output_type": "stream",
     "text": [
      "Current working directory: /dss/dsshome1/0C/ra93lal2/cma/CMA_Fairness_v2\n"
     ]
    }
   ],
   "source": [
    "import os\n",
    "print(\"Current working directory:\", os.getcwd())"
   ]
  },
  {
   "cell_type": "code",
   "execution_count": 3,
   "id": "2dce4c03",
   "metadata": {
    "execution": {
     "iopub.execute_input": "2025-07-30T14:13:28.900876Z",
     "iopub.status.busy": "2025-07-30T14:13:28.900199Z",
     "iopub.status.idle": "2025-07-30T14:13:28.907167Z",
     "shell.execute_reply": "2025-07-30T14:13:28.906086Z"
    },
    "papermill": {
     "duration": 0.034369,
     "end_time": "2025-07-30T14:13:28.908947",
     "exception": false,
     "start_time": "2025-07-30T14:13:28.874578",
     "status": "completed"
    },
    "tags": [
     "parameters"
    ]
   },
   "outputs": [],
   "source": [
    "run_no = 0\n",
    "universe_id = \"test\"\n",
    "universe = {\n",
    "    \"training_size\": \"25k\", # \"25k\", \"5k\", \"1k\"\n",
    "    \"training_year\": \"2014\", # \"2014\", \"2012_14\", \"2010_14\"\n",
    "    \"scale\": \"scale\", # \"scale\", \"do-not-scale\",\n",
    "    #\"stratify_split\": \"target\", # \"none\", \"target\", \"protected-attribute\", \"both\",\n",
    "    \"model\": \"elasticnet\", # \"logreg\", \"penalized_logreg\", \"rf\", \"gbm\", \"elasticnet\"\n",
    "    \"cutoff\": [\"quantile_0.15\", \"quantile_0.30\"],\n",
    "    \"exclude_features\": \"age\", # \"none\", \"nationality\", \"sex\", \"nationality-sex\", \"age\"\n",
    "    \"exclude_subgroups\": \"keep-all\", # \"keep-all\", \"drop-non-german\"\n",
    "    \"eval_fairness_grouping\": [\"majority-minority\", \"nationality-all\"]\n",
    "}\n",
    "\n",
    "output_dir=\"./output\"\n",
    "seed=0"
   ]
  },
  {
   "cell_type": "code",
   "execution_count": 4,
   "id": "9a61725e",
   "metadata": {
    "execution": {
     "iopub.execute_input": "2025-07-30T14:13:28.949317Z",
     "iopub.status.busy": "2025-07-30T14:13:28.948673Z",
     "iopub.status.idle": "2025-07-30T14:13:28.954824Z",
     "shell.execute_reply": "2025-07-30T14:13:28.953746Z"
    },
    "papermill": {
     "duration": 0.027378,
     "end_time": "2025-07-30T14:13:28.956328",
     "exception": false,
     "start_time": "2025-07-30T14:13:28.928950",
     "status": "completed"
    },
    "tags": [
     "injected-parameters"
    ]
   },
   "outputs": [],
   "source": [
    "# Parameters\n",
    "universe_id = \"58d9ab8059c7cc6a656f36057155e994\"\n",
    "run_no = \"12\"\n",
    "universe = \"{\\\"cutoff\\\": [\\\"quantile_0.1\\\", \\\"quantile_0.25\\\"], \\\"eval_fairness_grouping\\\": [\\\"majority-minority\\\", \\\"nationality-all\\\"], \\\"exclude_features\\\": \\\"age\\\", \\\"exclude_subgroups\\\": \\\"keep-all\\\", \\\"model\\\": \\\"penalized_logreg\\\", \\\"scale\\\": \\\"do-not-scale\\\", \\\"training_size\\\": \\\"5k\\\", \\\"training_year\\\": \\\"2010_14\\\"}\"\n",
    "output_dir = \"output\"\n",
    "seed = \"2023\"\n"
   ]
  },
  {
   "cell_type": "code",
   "execution_count": 5,
   "id": "1650acaf",
   "metadata": {
    "execution": {
     "iopub.execute_input": "2025-07-30T14:13:28.996547Z",
     "iopub.status.busy": "2025-07-30T14:13:28.995772Z",
     "iopub.status.idle": "2025-07-30T14:13:29.002459Z",
     "shell.execute_reply": "2025-07-30T14:13:29.001396Z"
    },
    "papermill": {
     "duration": 0.027903,
     "end_time": "2025-07-30T14:13:29.004177",
     "exception": false,
     "start_time": "2025-07-30T14:13:28.976274",
     "status": "completed"
    },
    "tags": []
   },
   "outputs": [],
   "source": [
    "import json\n",
    "# Parse universe into dict if it is passed as a string\n",
    "if isinstance(universe, str):\n",
    "    universe = json.loads(universe)"
   ]
  },
  {
   "cell_type": "code",
   "execution_count": 6,
   "id": "16620c48",
   "metadata": {
    "execution": {
     "iopub.execute_input": "2025-07-30T14:13:29.045568Z",
     "iopub.status.busy": "2025-07-30T14:13:29.044795Z",
     "iopub.status.idle": "2025-07-30T14:13:29.096254Z",
     "shell.execute_reply": "2025-07-30T14:13:29.095321Z"
    },
    "papermill": {
     "duration": 0.073645,
     "end_time": "2025-07-30T14:13:29.098075",
     "exception": false,
     "start_time": "2025-07-30T14:13:29.024430",
     "status": "completed"
    },
    "tags": []
   },
   "outputs": [],
   "source": [
    "# Auto-reload the custom package\n",
    "%load_ext autoreload\n",
    "%autoreload 1\n",
    "%aimport fairness_multiverse"
   ]
  },
  {
   "cell_type": "code",
   "execution_count": 7,
   "id": "01c5c9f3",
   "metadata": {
    "execution": {
     "iopub.execute_input": "2025-07-30T14:13:29.139544Z",
     "iopub.status.busy": "2025-07-30T14:13:29.138528Z",
     "iopub.status.idle": "2025-07-30T14:13:30.980097Z",
     "shell.execute_reply": "2025-07-30T14:13:30.976912Z"
    },
    "papermill": {
     "duration": 1.863049,
     "end_time": "2025-07-30T14:13:30.981636",
     "exception": false,
     "start_time": "2025-07-30T14:13:29.118587",
     "status": "completed"
    },
    "tags": []
   },
   "outputs": [],
   "source": [
    "from fairness_multiverse.universe import UniverseAnalysis\n",
    "\n",
    "universe_analysis = UniverseAnalysis(\n",
    "    run_no = run_no,\n",
    "    universe_id = universe_id,\n",
    "    universe = universe,\n",
    "    output_dir=output_dir,\n",
    ")"
   ]
  },
  {
   "cell_type": "code",
   "execution_count": 8,
   "id": "106241f5",
   "metadata": {
    "execution": {
     "iopub.execute_input": "2025-07-30T14:13:31.007775Z",
     "iopub.status.busy": "2025-07-30T14:13:31.007242Z",
     "iopub.status.idle": "2025-07-30T14:13:31.013333Z",
     "shell.execute_reply": "2025-07-30T14:13:31.012335Z"
    },
    "papermill": {
     "duration": 0.019592,
     "end_time": "2025-07-30T14:13:31.014776",
     "exception": false,
     "start_time": "2025-07-30T14:13:30.995184",
     "status": "completed"
    },
    "tags": []
   },
   "outputs": [
    {
     "name": "stdout",
     "output_type": "stream",
     "text": [
      "Using Seed: 2023\n"
     ]
    }
   ],
   "source": [
    "import numpy as np\n",
    "parsed_seed = int(seed)\n",
    "np.random.seed(parsed_seed)\n",
    "print(f\"Using Seed: {parsed_seed}\")"
   ]
  },
  {
   "cell_type": "markdown",
   "id": "e0ebdc57",
   "metadata": {
    "papermill": {
     "duration": 0.010634,
     "end_time": "2025-07-30T14:13:31.037472",
     "exception": false,
     "start_time": "2025-07-30T14:13:31.026838",
     "status": "completed"
    },
    "tags": []
   },
   "source": [
    "# Loading Data"
   ]
  },
  {
   "cell_type": "markdown",
   "id": "681925a3",
   "metadata": {
    "papermill": {
     "duration": 0.014373,
     "end_time": "2025-07-30T14:13:31.062387",
     "exception": false,
     "start_time": "2025-07-30T14:13:31.048014",
     "status": "completed"
    },
    "tags": []
   },
   "source": [
    "Load siab_train, siab_test, siab_calib and/or \n",
    "load siab_train_features, siab_train_labels"
   ]
  },
  {
   "cell_type": "code",
   "execution_count": 9,
   "id": "f0496b8a",
   "metadata": {
    "execution": {
     "iopub.execute_input": "2025-07-30T14:13:31.086039Z",
     "iopub.status.busy": "2025-07-30T14:13:31.085516Z",
     "iopub.status.idle": "2025-07-30T14:13:42.615962Z",
     "shell.execute_reply": "2025-07-30T14:13:42.614817Z"
    },
    "papermill": {
     "duration": 11.543851,
     "end_time": "2025-07-30T14:13:42.617609",
     "exception": false,
     "start_time": "2025-07-30T14:13:31.073758",
     "status": "completed"
    },
    "tags": []
   },
   "outputs": [
    {
     "name": "stdout",
     "output_type": "stream",
     "text": [
      "Loading SIAB data from cache: data/siab_cached.csv.gz\n"
     ]
    },
    {
     "name": "stdout",
     "output_type": "stream",
     "text": [
      "(643690, 164)\n"
     ]
    }
   ],
   "source": [
    "from pathlib import Path\n",
    "import pandas as pd\n",
    "\n",
    "# File paths\n",
    "raw_file = Path(\"data/raw/siab.csv\")\n",
    "cache_file = Path(\"data/siab_cached.csv.gz\")\n",
    "\n",
    "# Ensure cache directory exists\n",
    "cache_file.parent.mkdir(parents=True, exist_ok=True)\n",
    "\n",
    "# Load with simple caching\n",
    "if cache_file.exists():\n",
    "    print(f\"Loading SIAB data from cache: {cache_file}\")\n",
    "    siab = pd.read_csv(cache_file, compression='gzip')\n",
    "else:\n",
    "    print(f\"Cache not found. Reading raw SIAB data: {raw_file}\")\n",
    "    siab = pd.read_csv(raw_file)\n",
    "    siab.to_csv(cache_file, index=False, compression='gzip')\n",
    "    print(f\"Cached SIAB data to: {cache_file}\")\n",
    "\n",
    "# Now use `siab` DataFrame as needed\n",
    "print(siab.shape)"
   ]
  },
  {
   "cell_type": "code",
   "execution_count": 10,
   "id": "db0ca512-5f53-4dba-abdb-a2888bca41ba",
   "metadata": {
    "execution": {
     "iopub.execute_input": "2025-07-30T14:13:42.662083Z",
     "iopub.status.busy": "2025-07-30T14:13:42.661381Z",
     "iopub.status.idle": "2025-07-30T14:13:42.667031Z",
     "shell.execute_reply": "2025-07-30T14:13:42.666038Z"
    },
    "papermill": {
     "duration": 0.029022,
     "end_time": "2025-07-30T14:13:42.668935",
     "exception": false,
     "start_time": "2025-07-30T14:13:42.639913",
     "status": "completed"
    },
    "tags": []
   },
   "outputs": [],
   "source": [
    "#siab"
   ]
  },
  {
   "cell_type": "code",
   "execution_count": 11,
   "id": "a0edb063",
   "metadata": {
    "execution": {
     "iopub.execute_input": "2025-07-30T14:13:42.715448Z",
     "iopub.status.busy": "2025-07-30T14:13:42.714874Z",
     "iopub.status.idle": "2025-07-30T14:13:42.720095Z",
     "shell.execute_reply": "2025-07-30T14:13:42.719050Z"
    },
    "papermill": {
     "duration": 0.027466,
     "end_time": "2025-07-30T14:13:42.721876",
     "exception": false,
     "start_time": "2025-07-30T14:13:42.694410",
     "status": "completed"
    },
    "tags": []
   },
   "outputs": [],
   "source": [
    "#import pandas as pd\n",
    "#\n",
    "#X_train = pd.read_csv(\"./data/X_train.csv\")\n",
    "#y_train = pd.read_csv(\"./data/y_train.csv\")"
   ]
  },
  {
   "cell_type": "code",
   "execution_count": 12,
   "id": "63d08085",
   "metadata": {
    "execution": {
     "iopub.execute_input": "2025-07-30T14:13:42.764717Z",
     "iopub.status.busy": "2025-07-30T14:13:42.764199Z",
     "iopub.status.idle": "2025-07-30T14:13:42.769160Z",
     "shell.execute_reply": "2025-07-30T14:13:42.768240Z"
    },
    "papermill": {
     "duration": 0.028964,
     "end_time": "2025-07-30T14:13:42.770945",
     "exception": false,
     "start_time": "2025-07-30T14:13:42.741981",
     "status": "completed"
    },
    "tags": []
   },
   "outputs": [],
   "source": [
    "#X_test = pd.read_csv(\"./data/X_test.csv\")\n",
    "#y_true = pd.read_csv(\"./data/y_test.csv\")"
   ]
  },
  {
   "cell_type": "code",
   "execution_count": 13,
   "id": "98a8d0fa-1d3d-4ed8-bb2c-281470e24add",
   "metadata": {
    "execution": {
     "iopub.execute_input": "2025-07-30T14:13:42.814359Z",
     "iopub.status.busy": "2025-07-30T14:13:42.813828Z",
     "iopub.status.idle": "2025-07-30T14:13:42.819095Z",
     "shell.execute_reply": "2025-07-30T14:13:42.818209Z"
    },
    "papermill": {
     "duration": 0.028936,
     "end_time": "2025-07-30T14:13:42.820562",
     "exception": false,
     "start_time": "2025-07-30T14:13:42.791626",
     "status": "completed"
    },
    "tags": []
   },
   "outputs": [],
   "source": [
    "# Calibration data for conformal\n",
    "#X_calib = pd.read_csv(\"./data/X_calib.csv\")\n",
    "#y_calib = pd.read_csv(\"./data/y_calib.csv\")"
   ]
  },
  {
   "cell_type": "markdown",
   "id": "997051c5-15bd-4b69-9786-c3001a3ce484",
   "metadata": {
    "papermill": {
     "duration": 0.019519,
     "end_time": "2025-07-30T14:13:42.860660",
     "exception": false,
     "start_time": "2025-07-30T14:13:42.841141",
     "status": "completed"
    },
    "tags": []
   },
   "source": [
    "# Splitting Data and Setting Training Data Size"
   ]
  },
  {
   "cell_type": "code",
   "execution_count": 14,
   "id": "e993b61f-042d-41a6-8c81-f55681f86335",
   "metadata": {
    "execution": {
     "iopub.execute_input": "2025-07-30T14:13:42.900212Z",
     "iopub.status.busy": "2025-07-30T14:13:42.899690Z",
     "iopub.status.idle": "2025-07-30T14:13:42.913043Z",
     "shell.execute_reply": "2025-07-30T14:13:42.912075Z"
    },
    "papermill": {
     "duration": 0.03537,
     "end_time": "2025-07-30T14:13:42.914879",
     "exception": false,
     "start_time": "2025-07-30T14:13:42.879509",
     "status": "completed"
    },
    "tags": []
   },
   "outputs": [],
   "source": [
    "def sample_by_year_size(df,\n",
    "                        training_year: str,\n",
    "                        training_size: str,\n",
    "                        random_state: int = 42):\n",
    "    # --- parse training_year into a list of int years ---\n",
    "    if \"_\" in training_year:\n",
    "        start_str, end_str = training_year.split(\"_\", 1)\n",
    "        start = int(start_str)\n",
    "        end   = int(end_str) if len(end_str) == 4 else (int(end_str) + (start // 100)*100)\n",
    "        years = list(range(start, end + 1))\n",
    "    else:\n",
    "        years = [int(training_year)]\n",
    "\n",
    "    df = df[df[\"year\"].isin(years)].reset_index(drop=True)\n",
    "\n",
    "    # --- map training_size to total number of samples ---\n",
    "    total_map = {\"25k\": 25_000, \"5k\": 5_000, \"1k\": 1_000}\n",
    "    if training_size not in total_map:\n",
    "        return df  # e.g. \"all\"\n",
    "\n",
    "    total_samples = total_map[training_size]\n",
    "    n_years       = len(years)\n",
    "    base          = total_samples // n_years\n",
    "    remainder     = total_samples % n_years\n",
    "\n",
    "    # --- build a dict: year -> how many to sample ---\n",
    "    # give +1 to the first `remainder` years in ascending order\n",
    "    quotas = {\n",
    "        year: base + (1 if idx < remainder else 0)\n",
    "        for idx, year in enumerate(sorted(years))\n",
    "    }\n",
    "\n",
    "    # --- sample per‐year according to the quota dict ---\n",
    "    sampled = (\n",
    "        df\n",
    "        .groupby(\"year\", group_keys=False)\n",
    "        .apply(lambda grp: grp.sample(\n",
    "            n=min(len(grp), quotas[grp.name]),\n",
    "            random_state=random_state))\n",
    "        .reset_index(drop=True)\n",
    "    )\n",
    "\n",
    "    return sampled"
   ]
  },
  {
   "cell_type": "code",
   "execution_count": 15,
   "id": "c0ccd338-0e02-41f3-a09d-f56f9266e3fb",
   "metadata": {
    "execution": {
     "iopub.execute_input": "2025-07-30T14:13:42.956437Z",
     "iopub.status.busy": "2025-07-30T14:13:42.955738Z",
     "iopub.status.idle": "2025-07-30T14:13:42.967493Z",
     "shell.execute_reply": "2025-07-30T14:13:42.966456Z"
    },
    "papermill": {
     "duration": 0.034031,
     "end_time": "2025-07-30T14:13:42.969105",
     "exception": false,
     "start_time": "2025-07-30T14:13:42.935074",
     "status": "completed"
    },
    "tags": []
   },
   "outputs": [
    {
     "data": {
      "text/plain": [
       "'5k'"
      ]
     },
     "execution_count": 15,
     "metadata": {},
     "output_type": "execute_result"
    }
   ],
   "source": [
    "universe[\"training_size\"]"
   ]
  },
  {
   "cell_type": "code",
   "execution_count": 16,
   "id": "ca707fd7-8047-4acd-bfa5-66248fbbf8e6",
   "metadata": {
    "execution": {
     "iopub.execute_input": "2025-07-30T14:13:43.010775Z",
     "iopub.status.busy": "2025-07-30T14:13:43.010144Z",
     "iopub.status.idle": "2025-07-30T14:13:43.017397Z",
     "shell.execute_reply": "2025-07-30T14:13:43.016410Z"
    },
    "papermill": {
     "duration": 0.0293,
     "end_time": "2025-07-30T14:13:43.019202",
     "exception": false,
     "start_time": "2025-07-30T14:13:42.989902",
     "status": "completed"
    },
    "tags": []
   },
   "outputs": [
    {
     "data": {
      "text/plain": [
       "'2010_14'"
      ]
     },
     "execution_count": 16,
     "metadata": {},
     "output_type": "execute_result"
    }
   ],
   "source": [
    "universe[\"training_year\"]"
   ]
  },
  {
   "cell_type": "code",
   "execution_count": 17,
   "id": "aea9c6ef-6f46-42c8-85eb-5a62025c1508",
   "metadata": {
    "execution": {
     "iopub.execute_input": "2025-07-30T14:13:43.061426Z",
     "iopub.status.busy": "2025-07-30T14:13:43.060949Z",
     "iopub.status.idle": "2025-07-30T14:13:44.054202Z",
     "shell.execute_reply": "2025-07-30T14:13:44.053196Z"
    },
    "papermill": {
     "duration": 1.015319,
     "end_time": "2025-07-30T14:13:44.055740",
     "exception": false,
     "start_time": "2025-07-30T14:13:43.040421",
     "status": "completed"
    },
    "tags": []
   },
   "outputs": [],
   "source": [
    "siab_train = sample_by_year_size(siab,\n",
    "                               training_year=universe[\"training_year\"],\n",
    "                               training_size=universe[\"training_size\"])"
   ]
  },
  {
   "cell_type": "code",
   "execution_count": 18,
   "id": "8d3afb32-789d-442c-8d5d-9f5aa8dd2eed",
   "metadata": {
    "execution": {
     "iopub.execute_input": "2025-07-30T14:13:44.104625Z",
     "iopub.status.busy": "2025-07-30T14:13:44.103703Z",
     "iopub.status.idle": "2025-07-30T14:13:44.111199Z",
     "shell.execute_reply": "2025-07-30T14:13:44.110208Z"
    },
    "papermill": {
     "duration": 0.033422,
     "end_time": "2025-07-30T14:13:44.112994",
     "exception": false,
     "start_time": "2025-07-30T14:13:44.079572",
     "status": "completed"
    },
    "tags": []
   },
   "outputs": [
    {
     "data": {
      "text/plain": [
       "(5000, 164)"
      ]
     },
     "execution_count": 18,
     "metadata": {},
     "output_type": "execute_result"
    }
   ],
   "source": [
    "siab_train.shape"
   ]
  },
  {
   "cell_type": "code",
   "execution_count": 19,
   "id": "d582db68-1a4c-47fb-84fc-08518dc1975a",
   "metadata": {
    "execution": {
     "iopub.execute_input": "2025-07-30T14:13:44.162882Z",
     "iopub.status.busy": "2025-07-30T14:13:44.161962Z",
     "iopub.status.idle": "2025-07-30T14:13:44.172274Z",
     "shell.execute_reply": "2025-07-30T14:13:44.171150Z"
    },
    "papermill": {
     "duration": 0.03679,
     "end_time": "2025-07-30T14:13:44.174240",
     "exception": false,
     "start_time": "2025-07-30T14:13:44.137450",
     "status": "completed"
    },
    "tags": []
   },
   "outputs": [
    {
     "data": {
      "text/plain": [
       "year\n",
       "2010    1000\n",
       "2011    1000\n",
       "2012    1000\n",
       "2013    1000\n",
       "2014    1000\n",
       "dtype: int64"
      ]
     },
     "metadata": {},
     "output_type": "display_data"
    }
   ],
   "source": [
    "display(siab_train.groupby(\"year\").size())"
   ]
  },
  {
   "cell_type": "code",
   "execution_count": 20,
   "id": "a561edb4-d032-42cb-8256-22eac1111c64",
   "metadata": {
    "execution": {
     "iopub.execute_input": "2025-07-30T14:13:44.222261Z",
     "iopub.status.busy": "2025-07-30T14:13:44.221531Z",
     "iopub.status.idle": "2025-07-30T14:13:44.452238Z",
     "shell.execute_reply": "2025-07-30T14:13:44.451253Z"
    },
    "papermill": {
     "duration": 0.255607,
     "end_time": "2025-07-30T14:13:44.454097",
     "exception": false,
     "start_time": "2025-07-30T14:13:44.198490",
     "status": "completed"
    },
    "tags": []
   },
   "outputs": [],
   "source": [
    "#siab_train = siab_s[siab_s.year < 2015]\n",
    "siab_calib = siab[siab.year == 2015]\n",
    "siab_test = siab[siab.year == 2016]"
   ]
  },
  {
   "cell_type": "code",
   "execution_count": 21,
   "id": "472de16f-c3db-4916-846b-1f0de9cf1746",
   "metadata": {
    "execution": {
     "iopub.execute_input": "2025-07-30T14:13:44.499142Z",
     "iopub.status.busy": "2025-07-30T14:13:44.498312Z",
     "iopub.status.idle": "2025-07-30T14:13:44.507304Z",
     "shell.execute_reply": "2025-07-30T14:13:44.506217Z"
    },
    "papermill": {
     "duration": 0.033081,
     "end_time": "2025-07-30T14:13:44.508898",
     "exception": false,
     "start_time": "2025-07-30T14:13:44.475817",
     "status": "completed"
    },
    "tags": []
   },
   "outputs": [],
   "source": [
    "X_train = siab_train.iloc[:,4:164]\n",
    "y_train = siab_train.iloc[:, [3]]"
   ]
  },
  {
   "cell_type": "code",
   "execution_count": 22,
   "id": "828c96af-f43a-4ed6-ba47-8ac73a47d56c",
   "metadata": {
    "execution": {
     "iopub.execute_input": "2025-07-30T14:13:44.554401Z",
     "iopub.status.busy": "2025-07-30T14:13:44.553609Z",
     "iopub.status.idle": "2025-07-30T14:13:44.645719Z",
     "shell.execute_reply": "2025-07-30T14:13:44.644610Z"
    },
    "papermill": {
     "duration": 0.116574,
     "end_time": "2025-07-30T14:13:44.647690",
     "exception": false,
     "start_time": "2025-07-30T14:13:44.531116",
     "status": "completed"
    },
    "tags": []
   },
   "outputs": [],
   "source": [
    "X_calib = siab_calib.iloc[:,4:164]\n",
    "y_calib = siab_calib.iloc[:, [3]]"
   ]
  },
  {
   "cell_type": "code",
   "execution_count": 23,
   "id": "c34be9c3-6bd6-476e-acd3-845840e303be",
   "metadata": {
    "execution": {
     "iopub.execute_input": "2025-07-30T14:13:44.694341Z",
     "iopub.status.busy": "2025-07-30T14:13:44.693540Z",
     "iopub.status.idle": "2025-07-30T14:13:44.749566Z",
     "shell.execute_reply": "2025-07-30T14:13:44.748483Z"
    },
    "papermill": {
     "duration": 0.08028,
     "end_time": "2025-07-30T14:13:44.751343",
     "exception": false,
     "start_time": "2025-07-30T14:13:44.671063",
     "status": "completed"
    },
    "tags": []
   },
   "outputs": [],
   "source": [
    "X_test = siab_test.iloc[:,4:164]\n",
    "y_true = siab_test.iloc[:, [3]]"
   ]
  },
  {
   "cell_type": "markdown",
   "id": "9901737e-04df-44f0-9100-f5ad144ed040",
   "metadata": {
    "papermill": {
     "duration": 0.021185,
     "end_time": "2025-07-30T14:13:44.796841",
     "exception": false,
     "start_time": "2025-07-30T14:13:44.775656",
     "status": "completed"
    },
    "tags": []
   },
   "source": [
    "# Splitting Data and Setting Training Data Size OLD VERSION"
   ]
  },
  {
   "cell_type": "code",
   "execution_count": 24,
   "id": "acbc8f7d-8fc8-4e86-8c59-5dcb0f58384b",
   "metadata": {
    "execution": {
     "iopub.execute_input": "2025-07-30T14:13:44.842036Z",
     "iopub.status.busy": "2025-07-30T14:13:44.841456Z",
     "iopub.status.idle": "2025-07-30T14:13:44.847237Z",
     "shell.execute_reply": "2025-07-30T14:13:44.846272Z"
    },
    "papermill": {
     "duration": 0.031299,
     "end_time": "2025-07-30T14:13:44.849018",
     "exception": false,
     "start_time": "2025-07-30T14:13:44.817719",
     "status": "completed"
    },
    "tags": []
   },
   "outputs": [],
   "source": [
    "#def sample_by_year(df, training_size, random_state=42):\n",
    "#    if training_size == \"2014\":\n",
    "#        return df[df[\"year\"] == 2014].reset_index(drop=True)\n",
    "#    \n",
    "#    size_map = {\n",
    "#        \"25k\": 5000,\n",
    "#        \"5k\": 1000,\n",
    "#        \"1k\": 200\n",
    "#    }\n",
    "#\n",
    "#    if training_size not in size_map:\n",
    "#        return df.reset_index(drop=True)  # use all data\n",
    "#\n",
    "#    n_per_year = size_map[training_size]\n",
    "#    grouped = df.groupby(\"year\")\n",
    "#    sampled = grouped.apply(lambda x: x.sample(n=min(n_per_year, len(x)), random_state=random_state))\n",
    "#    return sampled.reset_index(drop=True)"
   ]
  },
  {
   "cell_type": "code",
   "execution_count": 25,
   "id": "6d931f52-beaf-43ff-9e78-9d44a448d54e",
   "metadata": {
    "execution": {
     "iopub.execute_input": "2025-07-30T14:13:44.906108Z",
     "iopub.status.busy": "2025-07-30T14:13:44.905369Z",
     "iopub.status.idle": "2025-07-30T14:13:44.911425Z",
     "shell.execute_reply": "2025-07-30T14:13:44.910397Z"
    },
    "papermill": {
     "duration": 0.038379,
     "end_time": "2025-07-30T14:13:44.913870",
     "exception": false,
     "start_time": "2025-07-30T14:13:44.875491",
     "status": "completed"
    },
    "tags": []
   },
   "outputs": [],
   "source": [
    "#siab_s = sample_by_year(siab, universe[\"training_size\"])"
   ]
  },
  {
   "cell_type": "code",
   "execution_count": 26,
   "id": "5db0a40e-a4e2-4920-be85-b12ae061d70d",
   "metadata": {
    "execution": {
     "iopub.execute_input": "2025-07-30T14:13:44.972523Z",
     "iopub.status.busy": "2025-07-30T14:13:44.972019Z",
     "iopub.status.idle": "2025-07-30T14:13:44.977364Z",
     "shell.execute_reply": "2025-07-30T14:13:44.976214Z"
    },
    "papermill": {
     "duration": 0.036676,
     "end_time": "2025-07-30T14:13:44.979468",
     "exception": false,
     "start_time": "2025-07-30T14:13:44.942792",
     "status": "completed"
    },
    "tags": []
   },
   "outputs": [],
   "source": [
    "#display(siab_s.groupby(\"year\").size())"
   ]
  },
  {
   "cell_type": "code",
   "execution_count": 27,
   "id": "e6c733c5",
   "metadata": {
    "execution": {
     "iopub.execute_input": "2025-07-30T14:13:45.037973Z",
     "iopub.status.busy": "2025-07-30T14:13:45.037195Z",
     "iopub.status.idle": "2025-07-30T14:13:45.166474Z",
     "shell.execute_reply": "2025-07-30T14:13:45.165420Z"
    },
    "papermill": {
     "duration": 0.159647,
     "end_time": "2025-07-30T14:13:45.169293",
     "exception": false,
     "start_time": "2025-07-30T14:13:45.009646",
     "status": "completed"
    },
    "tags": []
   },
   "outputs": [],
   "source": [
    "# Auxiliary data needed downstream in the pipeline\n",
    "\n",
    "org_train = X_train.copy()\n",
    "org_test = X_test.copy()\n",
    "org_calib = X_calib.copy()"
   ]
  },
  {
   "cell_type": "code",
   "execution_count": 28,
   "id": "1466abac-c6da-4492-a62f-4240ae3783af",
   "metadata": {
    "execution": {
     "iopub.execute_input": "2025-07-30T14:13:45.227065Z",
     "iopub.status.busy": "2025-07-30T14:13:45.226391Z",
     "iopub.status.idle": "2025-07-30T14:13:45.233014Z",
     "shell.execute_reply": "2025-07-30T14:13:45.231687Z"
    },
    "papermill": {
     "duration": 0.037575,
     "end_time": "2025-07-30T14:13:45.235007",
     "exception": false,
     "start_time": "2025-07-30T14:13:45.197432",
     "status": "completed"
    },
    "tags": []
   },
   "outputs": [],
   "source": [
    "# put in other script?\n",
    "# Group sizes\n",
    "\n",
    "#def calculate_percentages(df, df_name):\n",
    "#    total_entries = len(df)\n",
    "#\n",
    "#    female_pct = (df['frau1'] == 1).mean() * 100\n",
    "#    non_german_pct = ((df['maxdeutsch1'] == 0) & (df['maxdeutsch.Missing.'] == 0)).mean() * 100\n",
    "#    non_german_male_pct = ((df['frau1'] == 0) & (df['maxdeutsch1'] == 0) & (df['maxdeutsch.Missing.'] == 0)).mean() * 100\n",
    "#    non_german_female_pct = ((df['frau1'] == 1) & (df['maxdeutsch1'] == 0) & (df['maxdeutsch.Missing.'] == 0)).mean() * 100\n",
    "#\n",
    "#    print(f\"--- {df_name} ---\")\n",
    "#    print(f\"Female: {female_pct:.2f}%\")\n",
    "#    print(f\"Non-German: {non_german_pct:.2f}%\")\n",
    "#    print(f\"Non-German Male: {non_german_male_pct:.2f}%\")\n",
    "#    print(f\"Non-German Female: {non_german_female_pct:.2f}%\\n\")\n",
    "#\n",
    "## Calculate for each DataFrame\n",
    "#calculate_percentages(siab_calib, \"siab_calib\")\n",
    "#calculate_percentages(siab_test, \"siab_test\")\n",
    "#calculate_percentages(siab_train, \"siab_train\")"
   ]
  },
  {
   "cell_type": "markdown",
   "id": "0a4a1b33",
   "metadata": {
    "papermill": {
     "duration": 0.028481,
     "end_time": "2025-07-30T14:13:45.292785",
     "exception": false,
     "start_time": "2025-07-30T14:13:45.264304",
     "status": "completed"
    },
    "tags": []
   },
   "source": [
    "# Preprocessing Data"
   ]
  },
  {
   "cell_type": "code",
   "execution_count": 29,
   "id": "ca879031",
   "metadata": {
    "execution": {
     "iopub.execute_input": "2025-07-30T14:13:45.350559Z",
     "iopub.status.busy": "2025-07-30T14:13:45.350044Z",
     "iopub.status.idle": "2025-07-30T14:13:45.356664Z",
     "shell.execute_reply": "2025-07-30T14:13:45.355502Z"
    },
    "papermill": {
     "duration": 0.038011,
     "end_time": "2025-07-30T14:13:45.358893",
     "exception": false,
     "start_time": "2025-07-30T14:13:45.320882",
     "status": "completed"
    },
    "tags": []
   },
   "outputs": [],
   "source": [
    "# EXCLUDE PROTECTED FEATURES\n",
    "# ----------------------\n",
    "# \"exclude_features\": \"none\", # \"nationality\", \"sex\", \"nationality-sex\"\n",
    "\n",
    "excluded_features = universe[\"exclude_features\"].split(\"-\") # split, e.g.: \"nationality-sex\" -> [\"nationality\", \"sex\"]\n",
    "excluded_features_dictionary = {\n",
    "    \"nationality\": [\"maxdeutsch1\", \"maxdeutsch.Missing.\"],\n",
    "    \"sex\": [\"frau1\"],\n",
    "    \"age\": [\"age\"],\n",
    "}\n"
   ]
  },
  {
   "cell_type": "code",
   "execution_count": 30,
   "id": "b745ac60",
   "metadata": {
    "execution": {
     "iopub.execute_input": "2025-07-30T14:13:45.418442Z",
     "iopub.status.busy": "2025-07-30T14:13:45.417730Z",
     "iopub.status.idle": "2025-07-30T14:13:45.424615Z",
     "shell.execute_reply": "2025-07-30T14:13:45.423329Z"
    },
    "papermill": {
     "duration": 0.038416,
     "end_time": "2025-07-30T14:13:45.426362",
     "exception": false,
     "start_time": "2025-07-30T14:13:45.387946",
     "status": "completed"
    },
    "tags": []
   },
   "outputs": [],
   "source": [
    "# Code nice names to column names\n",
    "\n",
    "excluded_features_columns = [\n",
    "    excluded_features_dictionary[f] for f in excluded_features if len(f) > 0 and f != \"none\"\n",
    "]"
   ]
  },
  {
   "cell_type": "code",
   "execution_count": 31,
   "id": "f84f73a2",
   "metadata": {
    "execution": {
     "iopub.execute_input": "2025-07-30T14:13:45.474286Z",
     "iopub.status.busy": "2025-07-30T14:13:45.473733Z",
     "iopub.status.idle": "2025-07-30T14:13:45.481411Z",
     "shell.execute_reply": "2025-07-30T14:13:45.480174Z"
    },
    "papermill": {
     "duration": 0.033805,
     "end_time": "2025-07-30T14:13:45.483498",
     "exception": false,
     "start_time": "2025-07-30T14:13:45.449693",
     "status": "completed"
    },
    "tags": []
   },
   "outputs": [],
   "source": [
    "from utils import flatten_once\n",
    "\n",
    "excluded_features_columns = flatten_once(excluded_features_columns)"
   ]
  },
  {
   "cell_type": "code",
   "execution_count": 32,
   "id": "884dea22",
   "metadata": {
    "execution": {
     "iopub.execute_input": "2025-07-30T14:13:45.538944Z",
     "iopub.status.busy": "2025-07-30T14:13:45.538600Z",
     "iopub.status.idle": "2025-07-30T14:13:45.547160Z",
     "shell.execute_reply": "2025-07-30T14:13:45.545918Z"
    },
    "papermill": {
     "duration": 0.035928,
     "end_time": "2025-07-30T14:13:45.548552",
     "exception": false,
     "start_time": "2025-07-30T14:13:45.512624",
     "status": "completed"
    },
    "tags": []
   },
   "outputs": [
    {
     "name": "stdout",
     "output_type": "stream",
     "text": [
      "Dropping features: ['age']\n"
     ]
    }
   ],
   "source": [
    "if len(excluded_features_columns) > 0:\n",
    "    print(f\"Dropping features: {excluded_features_columns}\")\n",
    "    X_train.drop(excluded_features_columns, axis=1, inplace=True)"
   ]
  },
  {
   "cell_type": "code",
   "execution_count": 33,
   "id": "95ab8b16",
   "metadata": {
    "execution": {
     "iopub.execute_input": "2025-07-30T14:13:45.574245Z",
     "iopub.status.busy": "2025-07-30T14:13:45.573740Z",
     "iopub.status.idle": "2025-07-30T14:13:45.626083Z",
     "shell.execute_reply": "2025-07-30T14:13:45.625003Z"
    },
    "papermill": {
     "duration": 0.065976,
     "end_time": "2025-07-30T14:13:45.627381",
     "exception": false,
     "start_time": "2025-07-30T14:13:45.561405",
     "status": "completed"
    },
    "tags": []
   },
   "outputs": [
    {
     "name": "stdout",
     "output_type": "stream",
     "text": [
      "Dropping features: ['age']\n"
     ]
    }
   ],
   "source": [
    "if len(excluded_features_columns) > 0:\n",
    "    print(f\"Dropping features: {excluded_features_columns}\")\n",
    "    X_test.drop(excluded_features_columns, axis=1, inplace=True)"
   ]
  },
  {
   "cell_type": "code",
   "execution_count": 34,
   "id": "1853aaf5-fb9f-46cb-a2b5-8ea4ae2237e4",
   "metadata": {
    "execution": {
     "iopub.execute_input": "2025-07-30T14:13:45.653280Z",
     "iopub.status.busy": "2025-07-30T14:13:45.652781Z",
     "iopub.status.idle": "2025-07-30T14:13:45.701646Z",
     "shell.execute_reply": "2025-07-30T14:13:45.700090Z"
    },
    "papermill": {
     "duration": 0.063799,
     "end_time": "2025-07-30T14:13:45.703558",
     "exception": false,
     "start_time": "2025-07-30T14:13:45.639759",
     "status": "completed"
    },
    "tags": []
   },
   "outputs": [
    {
     "name": "stdout",
     "output_type": "stream",
     "text": [
      "Dropping features: ['age']\n"
     ]
    }
   ],
   "source": [
    "if len(excluded_features_columns) > 0:\n",
    "    print(f\"Dropping features: {excluded_features_columns}\")\n",
    "    X_calib.drop(excluded_features_columns, axis=1, inplace=True)"
   ]
  },
  {
   "cell_type": "code",
   "execution_count": 35,
   "id": "6727d079-03e5-481e-9d38-292a90b7a0a8",
   "metadata": {
    "execution": {
     "iopub.execute_input": "2025-07-30T14:13:45.730260Z",
     "iopub.status.busy": "2025-07-30T14:13:45.729904Z",
     "iopub.status.idle": "2025-07-30T14:13:45.733855Z",
     "shell.execute_reply": "2025-07-30T14:13:45.733201Z"
    },
    "papermill": {
     "duration": 0.01806,
     "end_time": "2025-07-30T14:13:45.735058",
     "exception": false,
     "start_time": "2025-07-30T14:13:45.716998",
     "status": "completed"
    },
    "tags": []
   },
   "outputs": [],
   "source": [
    "# SPLIT & STRATIFY DATA\n",
    "# ----------------------"
   ]
  },
  {
   "cell_type": "code",
   "execution_count": 36,
   "id": "76c4dc6d",
   "metadata": {
    "execution": {
     "iopub.execute_input": "2025-07-30T14:13:45.760098Z",
     "iopub.status.busy": "2025-07-30T14:13:45.759588Z",
     "iopub.status.idle": "2025-07-30T14:13:45.801548Z",
     "shell.execute_reply": "2025-07-30T14:13:45.800125Z"
    },
    "papermill": {
     "duration": 0.056694,
     "end_time": "2025-07-30T14:13:45.803842",
     "exception": false,
     "start_time": "2025-07-30T14:13:45.747148",
     "status": "completed"
    },
    "tags": []
   },
   "outputs": [],
   "source": [
    "# EXCLUDE CERTAIN SUBGROUPS\n",
    "# ----------------------\n",
    "\n",
    "mode = universe.get(\"exclude_subgroups\", \"keep-all\") \n",
    "# Fetches the exclude_subgroups setting from the universe dict.\n",
    "# Defaults to \"keep-all\" if the key is missing."
   ]
  },
  {
   "cell_type": "code",
   "execution_count": 37,
   "id": "21994072",
   "metadata": {
    "execution": {
     "iopub.execute_input": "2025-07-30T14:13:45.856798Z",
     "iopub.status.busy": "2025-07-30T14:13:45.856084Z",
     "iopub.status.idle": "2025-07-30T14:13:45.881653Z",
     "shell.execute_reply": "2025-07-30T14:13:45.880447Z"
    },
    "papermill": {
     "duration": 0.053233,
     "end_time": "2025-07-30T14:13:45.883105",
     "exception": false,
     "start_time": "2025-07-30T14:13:45.829872",
     "status": "completed"
    },
    "tags": []
   },
   "outputs": [],
   "source": [
    "if mode == \"keep-all\":\n",
    "    keep_mask = pd.Series(True, index=org_train.index)\n",
    "\n",
    "# org_train contains the original feature columns from features_org (in Simson)\n",
    "# features_org contains unprocessed features, for me X_train at beginning ???\n",
    "# For keep-all, creates a boolean Series (keep_mask) of all True, so no rows are removed.\n",
    "\n",
    "elif mode == \"drop-non-german\":\n",
    "    keep_mask = org_train[\"maxdeutsch1\"] == 1 # ??? what about missing values?\n",
    "\n",
    "else:\n",
    "    raise ValueError(f\"Unsupported mode for exclude_subgroups: {mode}\")\n"
   ]
  },
  {
   "cell_type": "code",
   "execution_count": 38,
   "id": "71651440",
   "metadata": {
    "execution": {
     "iopub.execute_input": "2025-07-30T14:13:45.909646Z",
     "iopub.status.busy": "2025-07-30T14:13:45.909144Z",
     "iopub.status.idle": "2025-07-30T14:13:45.914644Z",
     "shell.execute_reply": "2025-07-30T14:13:45.913969Z"
    },
    "papermill": {
     "duration": 0.019752,
     "end_time": "2025-07-30T14:13:45.915944",
     "exception": false,
     "start_time": "2025-07-30T14:13:45.896192",
     "status": "completed"
    },
    "tags": []
   },
   "outputs": [],
   "source": [
    "n_drop = (~keep_mask).sum() # Calculates how many rows are set to be dropped\n",
    "if n_drop > 0:\n",
    "    pct = n_drop / len(keep_mask) * 100\n",
    "    print(f\"Dropping {n_drop} rows ({pct:.2f}%) where mode='{mode}'\")"
   ]
  },
  {
   "cell_type": "code",
   "execution_count": 39,
   "id": "5fb8eee5",
   "metadata": {
    "execution": {
     "iopub.execute_input": "2025-07-30T14:13:45.941817Z",
     "iopub.status.busy": "2025-07-30T14:13:45.941312Z",
     "iopub.status.idle": "2025-07-30T14:13:46.009258Z",
     "shell.execute_reply": "2025-07-30T14:13:46.008465Z"
    },
    "papermill": {
     "duration": 0.082442,
     "end_time": "2025-07-30T14:13:46.010794",
     "exception": false,
     "start_time": "2025-07-30T14:13:45.928352",
     "status": "completed"
    },
    "tags": []
   },
   "outputs": [],
   "source": [
    "X_train = X_train[keep_mask]"
   ]
  },
  {
   "cell_type": "code",
   "execution_count": 40,
   "id": "b202bb3a",
   "metadata": {
    "execution": {
     "iopub.execute_input": "2025-07-30T14:13:46.037051Z",
     "iopub.status.busy": "2025-07-30T14:13:46.036553Z",
     "iopub.status.idle": "2025-07-30T14:13:46.041758Z",
     "shell.execute_reply": "2025-07-30T14:13:46.041063Z"
    },
    "papermill": {
     "duration": 0.01936,
     "end_time": "2025-07-30T14:13:46.043121",
     "exception": false,
     "start_time": "2025-07-30T14:13:46.023761",
     "status": "completed"
    },
    "tags": []
   },
   "outputs": [],
   "source": [
    "y_train = y_train[keep_mask]"
   ]
  },
  {
   "cell_type": "markdown",
   "id": "493e2ac3",
   "metadata": {
    "papermill": {
     "duration": 0.047001,
     "end_time": "2025-07-30T14:13:46.103745",
     "exception": false,
     "start_time": "2025-07-30T14:13:46.056744",
     "status": "completed"
    },
    "tags": []
   },
   "source": [
    "# Model Training"
   ]
  },
  {
   "cell_type": "code",
   "execution_count": 41,
   "id": "679e1268",
   "metadata": {
    "execution": {
     "iopub.execute_input": "2025-07-30T14:13:46.129006Z",
     "iopub.status.busy": "2025-07-30T14:13:46.128504Z",
     "iopub.status.idle": "2025-07-30T14:13:46.200892Z",
     "shell.execute_reply": "2025-07-30T14:13:46.200123Z"
    },
    "papermill": {
     "duration": 0.086568,
     "end_time": "2025-07-30T14:13:46.202367",
     "exception": false,
     "start_time": "2025-07-30T14:13:46.115799",
     "status": "completed"
    },
    "tags": []
   },
   "outputs": [],
   "source": [
    "from sklearn.linear_model import LogisticRegression\n",
    "from sklearn.ensemble import GradientBoostingClassifier, RandomForestClassifier\n",
    "\n",
    "if (universe[\"model\"] == \"logreg\"):\n",
    "    model = LogisticRegression() #penalty=\"none\") #, solver=\"newton-cg\", max_iter=1) # include random_state=19 ?\n",
    "elif (universe[\"model\"] == \"penalized_logreg\"):\n",
    "    model = LogisticRegression(penalty=\"l2\", C=1.0) #, solver=\"newton-cg\", max_iter=1)\n",
    "elif (universe[\"model\"] == \"rf\"):\n",
    "    model = RandomForestClassifier(n_estimators=100, n_jobs=-1)\n",
    "elif (universe[\"model\"] == \"gbm\"):\n",
    "    model = GradientBoostingClassifier()\n",
    "elif (universe[\"model\"] == \"elasticnet\"):\n",
    "    model = LogisticRegression(penalty = 'elasticnet', solver = 'saga', l1_ratio = 0.5, max_iter=5000) # which solver to use?\n",
    "else:\n",
    "    raise \"Unsupported universe.model\""
   ]
  },
  {
   "cell_type": "code",
   "execution_count": 42,
   "id": "0cc8f744",
   "metadata": {
    "execution": {
     "iopub.execute_input": "2025-07-30T14:13:46.228842Z",
     "iopub.status.busy": "2025-07-30T14:13:46.228123Z",
     "iopub.status.idle": "2025-07-30T14:13:46.233368Z",
     "shell.execute_reply": "2025-07-30T14:13:46.232674Z"
    },
    "papermill": {
     "duration": 0.01962,
     "end_time": "2025-07-30T14:13:46.234700",
     "exception": false,
     "start_time": "2025-07-30T14:13:46.215080",
     "status": "completed"
    },
    "tags": []
   },
   "outputs": [],
   "source": [
    "import numpy as np\n",
    "from sklearn.pipeline import Pipeline\n",
    "from sklearn.preprocessing import StandardScaler\n",
    "\n",
    "model = Pipeline([\n",
    "    #(\"continuous_processor\", continuous_processor),\n",
    "    #(\"categorical_preprocessor\", categorical_preprocessor),\n",
    "    (\"scale\", StandardScaler() if universe[\"scale\"] == \"scale\" else None), \n",
    "    (\"model\", model),\n",
    "])"
   ]
  },
  {
   "cell_type": "code",
   "execution_count": 43,
   "id": "9442c04d",
   "metadata": {
    "execution": {
     "iopub.execute_input": "2025-07-30T14:13:46.262072Z",
     "iopub.status.busy": "2025-07-30T14:13:46.261726Z",
     "iopub.status.idle": "2025-07-30T14:13:46.363804Z",
     "shell.execute_reply": "2025-07-30T14:13:46.363103Z"
    },
    "papermill": {
     "duration": 0.116609,
     "end_time": "2025-07-30T14:13:46.365076",
     "exception": false,
     "start_time": "2025-07-30T14:13:46.248467",
     "status": "completed"
    },
    "tags": []
   },
   "outputs": [
    {
     "name": "stderr",
     "output_type": "stream",
     "text": [
      "/dss/dsshome1/0C/ra93lal2/.local/share/virtualenvs/CMA_Fairness_v2-3j10GkSs/lib/python3.10/site-packages/sklearn/linear_model/_logistic.py:444: ConvergenceWarning: lbfgs failed to converge (status=1):\n",
      "STOP: TOTAL NO. of ITERATIONS REACHED LIMIT.\n",
      "\n",
      "Increase the number of iterations (max_iter) or scale the data as shown in:\n",
      "    https://scikit-learn.org/stable/modules/preprocessing.html\n",
      "Please also refer to the documentation for alternative solver options:\n",
      "    https://scikit-learn.org/stable/modules/linear_model.html#logistic-regression\n",
      "  n_iter_i = _check_optimize_result(\n"
     ]
    },
    {
     "data": {
      "text/html": [
       "<style>#sk-container-id-1 {color: black;background-color: white;}#sk-container-id-1 pre{padding: 0;}#sk-container-id-1 div.sk-toggleable {background-color: white;}#sk-container-id-1 label.sk-toggleable__label {cursor: pointer;display: block;width: 100%;margin-bottom: 0;padding: 0.3em;box-sizing: border-box;text-align: center;}#sk-container-id-1 label.sk-toggleable__label-arrow:before {content: \"▸\";float: left;margin-right: 0.25em;color: #696969;}#sk-container-id-1 label.sk-toggleable__label-arrow:hover:before {color: black;}#sk-container-id-1 div.sk-estimator:hover label.sk-toggleable__label-arrow:before {color: black;}#sk-container-id-1 div.sk-toggleable__content {max-height: 0;max-width: 0;overflow: hidden;text-align: left;background-color: #f0f8ff;}#sk-container-id-1 div.sk-toggleable__content pre {margin: 0.2em;color: black;border-radius: 0.25em;background-color: #f0f8ff;}#sk-container-id-1 input.sk-toggleable__control:checked~div.sk-toggleable__content {max-height: 200px;max-width: 100%;overflow: auto;}#sk-container-id-1 input.sk-toggleable__control:checked~label.sk-toggleable__label-arrow:before {content: \"▾\";}#sk-container-id-1 div.sk-estimator input.sk-toggleable__control:checked~label.sk-toggleable__label {background-color: #d4ebff;}#sk-container-id-1 div.sk-label input.sk-toggleable__control:checked~label.sk-toggleable__label {background-color: #d4ebff;}#sk-container-id-1 input.sk-hidden--visually {border: 0;clip: rect(1px 1px 1px 1px);clip: rect(1px, 1px, 1px, 1px);height: 1px;margin: -1px;overflow: hidden;padding: 0;position: absolute;width: 1px;}#sk-container-id-1 div.sk-estimator {font-family: monospace;background-color: #f0f8ff;border: 1px dotted black;border-radius: 0.25em;box-sizing: border-box;margin-bottom: 0.5em;}#sk-container-id-1 div.sk-estimator:hover {background-color: #d4ebff;}#sk-container-id-1 div.sk-parallel-item::after {content: \"\";width: 100%;border-bottom: 1px solid gray;flex-grow: 1;}#sk-container-id-1 div.sk-label:hover label.sk-toggleable__label {background-color: #d4ebff;}#sk-container-id-1 div.sk-serial::before {content: \"\";position: absolute;border-left: 1px solid gray;box-sizing: border-box;top: 0;bottom: 0;left: 50%;z-index: 0;}#sk-container-id-1 div.sk-serial {display: flex;flex-direction: column;align-items: center;background-color: white;padding-right: 0.2em;padding-left: 0.2em;position: relative;}#sk-container-id-1 div.sk-item {position: relative;z-index: 1;}#sk-container-id-1 div.sk-parallel {display: flex;align-items: stretch;justify-content: center;background-color: white;position: relative;}#sk-container-id-1 div.sk-item::before, #sk-container-id-1 div.sk-parallel-item::before {content: \"\";position: absolute;border-left: 1px solid gray;box-sizing: border-box;top: 0;bottom: 0;left: 50%;z-index: -1;}#sk-container-id-1 div.sk-parallel-item {display: flex;flex-direction: column;z-index: 1;position: relative;background-color: white;}#sk-container-id-1 div.sk-parallel-item:first-child::after {align-self: flex-end;width: 50%;}#sk-container-id-1 div.sk-parallel-item:last-child::after {align-self: flex-start;width: 50%;}#sk-container-id-1 div.sk-parallel-item:only-child::after {width: 0;}#sk-container-id-1 div.sk-dashed-wrapped {border: 1px dashed gray;margin: 0 0.4em 0.5em 0.4em;box-sizing: border-box;padding-bottom: 0.4em;background-color: white;}#sk-container-id-1 div.sk-label label {font-family: monospace;font-weight: bold;display: inline-block;line-height: 1.2em;}#sk-container-id-1 div.sk-label-container {text-align: center;}#sk-container-id-1 div.sk-container {/* jupyter's `normalize.less` sets `[hidden] { display: none; }` but bootstrap.min.css set `[hidden] { display: none !important; }` so we also need the `!important` here to be able to override the default hidden behavior on the sphinx rendered scikit-learn.org. See: https://github.com/scikit-learn/scikit-learn/issues/21755 */display: inline-block !important;position: relative;}#sk-container-id-1 div.sk-text-repr-fallback {display: none;}</style><div id=\"sk-container-id-1\" class=\"sk-top-container\"><div class=\"sk-text-repr-fallback\"><pre>Pipeline(steps=[(&#x27;scale&#x27;, None), (&#x27;model&#x27;, LogisticRegression())])</pre><b>In a Jupyter environment, please rerun this cell to show the HTML representation or trust the notebook. <br />On GitHub, the HTML representation is unable to render, please try loading this page with nbviewer.org.</b></div><div class=\"sk-container\" hidden><div class=\"sk-item sk-dashed-wrapped\"><div class=\"sk-label-container\"><div class=\"sk-label sk-toggleable\"><input class=\"sk-toggleable__control sk-hidden--visually\" id=\"sk-estimator-id-1\" type=\"checkbox\" ><label for=\"sk-estimator-id-1\" class=\"sk-toggleable__label sk-toggleable__label-arrow\">Pipeline</label><div class=\"sk-toggleable__content\"><pre>Pipeline(steps=[(&#x27;scale&#x27;, None), (&#x27;model&#x27;, LogisticRegression())])</pre></div></div></div><div class=\"sk-serial\"><div class=\"sk-item\"><div class=\"sk-estimator sk-toggleable\"><input class=\"sk-toggleable__control sk-hidden--visually\" id=\"sk-estimator-id-2\" type=\"checkbox\" ><label for=\"sk-estimator-id-2\" class=\"sk-toggleable__label sk-toggleable__label-arrow\">None</label><div class=\"sk-toggleable__content\"><pre>None</pre></div></div></div><div class=\"sk-item\"><div class=\"sk-estimator sk-toggleable\"><input class=\"sk-toggleable__control sk-hidden--visually\" id=\"sk-estimator-id-3\" type=\"checkbox\" ><label for=\"sk-estimator-id-3\" class=\"sk-toggleable__label sk-toggleable__label-arrow\">LogisticRegression</label><div class=\"sk-toggleable__content\"><pre>LogisticRegression()</pre></div></div></div></div></div></div></div>"
      ],
      "text/plain": [
       "Pipeline(steps=[('scale', None), ('model', LogisticRegression())])"
      ]
     },
     "execution_count": 43,
     "metadata": {},
     "output_type": "execute_result"
    }
   ],
   "source": [
    "model.fit(X_train, y_train.values.ravel())"
   ]
  },
  {
   "cell_type": "code",
   "execution_count": 44,
   "id": "af59f8c0",
   "metadata": {
    "execution": {
     "iopub.execute_input": "2025-07-30T14:13:46.392203Z",
     "iopub.status.busy": "2025-07-30T14:13:46.391631Z",
     "iopub.status.idle": "2025-07-30T14:13:46.396251Z",
     "shell.execute_reply": "2025-07-30T14:13:46.395518Z"
    },
    "papermill": {
     "duration": 0.019252,
     "end_time": "2025-07-30T14:13:46.397653",
     "exception": false,
     "start_time": "2025-07-30T14:13:46.378401",
     "status": "completed"
    },
    "tags": []
   },
   "outputs": [],
   "source": [
    "from fairness_multiverse.universe import predict_w_threshold"
   ]
  },
  {
   "cell_type": "code",
   "execution_count": 45,
   "id": "a7cf2e16",
   "metadata": {
    "execution": {
     "iopub.execute_input": "2025-07-30T14:13:46.425595Z",
     "iopub.status.busy": "2025-07-30T14:13:46.425096Z",
     "iopub.status.idle": "2025-07-30T14:13:46.507277Z",
     "shell.execute_reply": "2025-07-30T14:13:46.506377Z"
    },
    "papermill": {
     "duration": 0.097345,
     "end_time": "2025-07-30T14:13:46.508678",
     "exception": false,
     "start_time": "2025-07-30T14:13:46.411333",
     "status": "completed"
    },
    "tags": []
   },
   "outputs": [
    {
     "data": {
      "text/plain": [
       "0.8610857206554453"
      ]
     },
     "execution_count": 45,
     "metadata": {},
     "output_type": "execute_result"
    }
   ],
   "source": [
    "probs_test = model.predict_proba(X_test)\n",
    "\n",
    "'''\n",
    "Below code returns a boolean array (or binary 0/1 array depending on how it’s used) where each element \n",
    "is True if the probability of class 1 is greater than or equal to the threshold, and False otherwise.\n",
    "'''\n",
    "y_pred_default = predict_w_threshold(probs_test, 0.5)\n",
    "\n",
    "from sklearn.metrics import accuracy_score\n",
    "\n",
    "# Naive prediction\n",
    "accuracy_score(y_true = y_true, y_pred = y_pred_default)"
   ]
  },
  {
   "cell_type": "code",
   "execution_count": 46,
   "id": "081964c3",
   "metadata": {
    "execution": {
     "iopub.execute_input": "2025-07-30T14:13:46.535479Z",
     "iopub.status.busy": "2025-07-30T14:13:46.534981Z",
     "iopub.status.idle": "2025-07-30T14:13:46.610854Z",
     "shell.execute_reply": "2025-07-30T14:13:46.609940Z"
    },
    "papermill": {
     "duration": 0.090759,
     "end_time": "2025-07-30T14:13:46.612252",
     "exception": false,
     "start_time": "2025-07-30T14:13:46.521493",
     "status": "completed"
    },
    "tags": []
   },
   "outputs": [
    {
     "data": {
      "text/plain": [
       "array([0, 0, 0, ..., 0, 0, 0])"
      ]
     },
     "execution_count": 46,
     "metadata": {},
     "output_type": "execute_result"
    }
   ],
   "source": [
    "model.predict(X_test)"
   ]
  },
  {
   "cell_type": "markdown",
   "id": "56c9705b",
   "metadata": {
    "papermill": {
     "duration": 0.012445,
     "end_time": "2025-07-30T14:13:46.637796",
     "exception": false,
     "start_time": "2025-07-30T14:13:46.625351",
     "status": "completed"
    },
    "tags": []
   },
   "source": [
    "# Conformal Prediction"
   ]
  },
  {
   "cell_type": "code",
   "execution_count": 47,
   "id": "160ec6ff",
   "metadata": {
    "execution": {
     "iopub.execute_input": "2025-07-30T14:13:46.670706Z",
     "iopub.status.busy": "2025-07-30T14:13:46.670248Z",
     "iopub.status.idle": "2025-07-30T14:13:46.675771Z",
     "shell.execute_reply": "2025-07-30T14:13:46.674556Z"
    },
    "papermill": {
     "duration": 0.02754,
     "end_time": "2025-07-30T14:13:46.677486",
     "exception": false,
     "start_time": "2025-07-30T14:13:46.649946",
     "status": "completed"
    },
    "tags": []
   },
   "outputs": [],
   "source": [
    "# Miscoverage level for conformal prediction (10% allowed error rate => 90% target coverage)\n",
    "alpha = 0.1"
   ]
  },
  {
   "cell_type": "code",
   "execution_count": 48,
   "id": "eadf4555-3dd3-440e-8e35-f82a4ad9f855",
   "metadata": {
    "execution": {
     "iopub.execute_input": "2025-07-30T14:13:46.725833Z",
     "iopub.status.busy": "2025-07-30T14:13:46.725012Z",
     "iopub.status.idle": "2025-07-30T14:13:46.811080Z",
     "shell.execute_reply": "2025-07-30T14:13:46.809901Z"
    },
    "papermill": {
     "duration": 0.111843,
     "end_time": "2025-07-30T14:13:46.813413",
     "exception": false,
     "start_time": "2025-07-30T14:13:46.701570",
     "status": "completed"
    },
    "tags": []
   },
   "outputs": [],
   "source": [
    "probs_calib = model.predict_proba(X_calib)"
   ]
  },
  {
   "cell_type": "code",
   "execution_count": 49,
   "id": "2ed93547-6d5d-4983-9b36-1ecb300da49a",
   "metadata": {
    "execution": {
     "iopub.execute_input": "2025-07-30T14:13:46.867637Z",
     "iopub.status.busy": "2025-07-30T14:13:46.866982Z",
     "iopub.status.idle": "2025-07-30T14:13:46.872784Z",
     "shell.execute_reply": "2025-07-30T14:13:46.871902Z"
    },
    "papermill": {
     "duration": 0.034446,
     "end_time": "2025-07-30T14:13:46.874519",
     "exception": false,
     "start_time": "2025-07-30T14:13:46.840073",
     "status": "completed"
    },
    "tags": []
   },
   "outputs": [],
   "source": [
    "y_calib = y_calib.values.ravel().astype(int)"
   ]
  },
  {
   "cell_type": "code",
   "execution_count": 50,
   "id": "65d1320d-f588-4b38-9072-62af1ae97f7d",
   "metadata": {
    "execution": {
     "iopub.execute_input": "2025-07-30T14:13:46.916613Z",
     "iopub.status.busy": "2025-07-30T14:13:46.916190Z",
     "iopub.status.idle": "2025-07-30T14:13:46.924405Z",
     "shell.execute_reply": "2025-07-30T14:13:46.923478Z"
    },
    "papermill": {
     "duration": 0.028202,
     "end_time": "2025-07-30T14:13:46.926175",
     "exception": false,
     "start_time": "2025-07-30T14:13:46.897973",
     "status": "completed"
    },
    "tags": []
   },
   "outputs": [],
   "source": [
    "from fairness_multiverse.conformal import compute_nc_scores\n",
    "\n",
    "# Compute nonconformity scores on calibration set (1 - probability of true class)\n",
    "nc_scores = compute_nc_scores(probs_calib, y_calib)"
   ]
  },
  {
   "cell_type": "code",
   "execution_count": 51,
   "id": "df3b8ca3-53b7-43d5-9667-7c85da7aeda2",
   "metadata": {
    "execution": {
     "iopub.execute_input": "2025-07-30T14:13:46.978564Z",
     "iopub.status.busy": "2025-07-30T14:13:46.977703Z",
     "iopub.status.idle": "2025-07-30T14:13:46.984702Z",
     "shell.execute_reply": "2025-07-30T14:13:46.983710Z"
    },
    "papermill": {
     "duration": 0.035686,
     "end_time": "2025-07-30T14:13:46.986591",
     "exception": false,
     "start_time": "2025-07-30T14:13:46.950905",
     "status": "completed"
    },
    "tags": []
   },
   "outputs": [],
   "source": [
    "from fairness_multiverse.conformal import find_threshold\n",
    "\n",
    "# Find conformal threshold q_hat for the given alpha (split conformal method)\n",
    "q_hat = find_threshold(nc_scores, alpha)"
   ]
  },
  {
   "cell_type": "code",
   "execution_count": 52,
   "id": "4d29e6c1-0ef6-4aa4-b8fe-4fe79b0d033a",
   "metadata": {
    "execution": {
     "iopub.execute_input": "2025-07-30T14:13:47.040142Z",
     "iopub.status.busy": "2025-07-30T14:13:47.039480Z",
     "iopub.status.idle": "2025-07-30T14:13:47.046732Z",
     "shell.execute_reply": "2025-07-30T14:13:47.045821Z"
    },
    "papermill": {
     "duration": 0.036298,
     "end_time": "2025-07-30T14:13:47.048398",
     "exception": false,
     "start_time": "2025-07-30T14:13:47.012100",
     "status": "completed"
    },
    "tags": []
   },
   "outputs": [
    {
     "data": {
      "text/plain": [
       "0.6751138120294"
      ]
     },
     "execution_count": 52,
     "metadata": {},
     "output_type": "execute_result"
    }
   ],
   "source": [
    "q_hat"
   ]
  },
  {
   "cell_type": "code",
   "execution_count": 53,
   "id": "92460794-cdac-4be2-ba28-f28c0515a6fb",
   "metadata": {
    "execution": {
     "iopub.execute_input": "2025-07-30T14:13:47.083395Z",
     "iopub.status.busy": "2025-07-30T14:13:47.083004Z",
     "iopub.status.idle": "2025-07-30T14:13:47.781400Z",
     "shell.execute_reply": "2025-07-30T14:13:47.780431Z"
    },
    "papermill": {
     "duration": 0.714861,
     "end_time": "2025-07-30T14:13:47.782984",
     "exception": false,
     "start_time": "2025-07-30T14:13:47.068123",
     "status": "completed"
    },
    "tags": []
   },
   "outputs": [],
   "source": [
    "from fairness_multiverse.conformal import predict_conformal_sets\n",
    "\n",
    "# Generate prediction sets for each test example\n",
    "pred_sets = predict_conformal_sets(model, X_test, q_hat)"
   ]
  },
  {
   "cell_type": "code",
   "execution_count": 54,
   "id": "d90c9a65-e6db-4f5d-80cd-e68fb7e46829",
   "metadata": {
    "execution": {
     "iopub.execute_input": "2025-07-30T14:13:47.833354Z",
     "iopub.status.busy": "2025-07-30T14:13:47.832929Z",
     "iopub.status.idle": "2025-07-30T14:13:47.838322Z",
     "shell.execute_reply": "2025-07-30T14:13:47.837386Z"
    },
    "papermill": {
     "duration": 0.032676,
     "end_time": "2025-07-30T14:13:47.839935",
     "exception": false,
     "start_time": "2025-07-30T14:13:47.807259",
     "status": "completed"
    },
    "tags": []
   },
   "outputs": [],
   "source": [
    "y_true = y_true.squeeze()"
   ]
  },
  {
   "cell_type": "code",
   "execution_count": 55,
   "id": "3a58a54a-1e68-46b9-927a-df01f18aebc8",
   "metadata": {
    "execution": {
     "iopub.execute_input": "2025-07-30T14:13:47.891073Z",
     "iopub.status.busy": "2025-07-30T14:13:47.890156Z",
     "iopub.status.idle": "2025-07-30T14:13:48.841033Z",
     "shell.execute_reply": "2025-07-30T14:13:48.839849Z"
    },
    "papermill": {
     "duration": 0.977954,
     "end_time": "2025-07-30T14:13:48.842938",
     "exception": false,
     "start_time": "2025-07-30T14:13:47.864984",
     "status": "completed"
    },
    "tags": []
   },
   "outputs": [],
   "source": [
    "from fairness_multiverse.conformal import evaluate_sets\n",
    "\n",
    "# Evaluate coverage and average set size on test data\n",
    "metrics = evaluate_sets(pred_sets, y_true)"
   ]
  },
  {
   "cell_type": "markdown",
   "id": "2b569c12-9aaa-4c88-98c9-bbcd0cf3ebb8",
   "metadata": {
    "papermill": {
     "duration": 0.023761,
     "end_time": "2025-07-30T14:13:48.894540",
     "exception": false,
     "start_time": "2025-07-30T14:13:48.870779",
     "status": "completed"
    },
    "tags": []
   },
   "source": [
    "# CP Metrics"
   ]
  },
  {
   "cell_type": "code",
   "execution_count": 56,
   "id": "5ce0a5cb-201f-45a0-ade5-94c7f0bd6095",
   "metadata": {
    "execution": {
     "iopub.execute_input": "2025-07-30T14:13:48.946957Z",
     "iopub.status.busy": "2025-07-30T14:13:48.946382Z",
     "iopub.status.idle": "2025-07-30T14:13:48.955234Z",
     "shell.execute_reply": "2025-07-30T14:13:48.954051Z"
    },
    "papermill": {
     "duration": 0.036467,
     "end_time": "2025-07-30T14:13:48.957520",
     "exception": false,
     "start_time": "2025-07-30T14:13:48.921053",
     "status": "completed"
    },
    "tags": []
   },
   "outputs": [
    {
     "data": {
      "text/plain": [
       "{'coverage': 0.9137665812061085, 'avg_size': 1.2558354698472858}"
      ]
     },
     "execution_count": 56,
     "metadata": {},
     "output_type": "execute_result"
    }
   ],
   "source": [
    "metrics"
   ]
  },
  {
   "cell_type": "code",
   "execution_count": 57,
   "id": "9b9a838d-31c9-430b-ae14-12baee460d17",
   "metadata": {
    "execution": {
     "iopub.execute_input": "2025-07-30T14:13:49.019099Z",
     "iopub.status.busy": "2025-07-30T14:13:49.018371Z",
     "iopub.status.idle": "2025-07-30T14:13:49.024700Z",
     "shell.execute_reply": "2025-07-30T14:13:49.023716Z"
    },
    "papermill": {
     "duration": 0.033384,
     "end_time": "2025-07-30T14:13:49.026475",
     "exception": false,
     "start_time": "2025-07-30T14:13:48.993091",
     "status": "completed"
    },
    "tags": []
   },
   "outputs": [],
   "source": [
    "example_universe = universe.copy()\n",
    "universe_training_size = example_universe.get(\"training_size\")\n",
    "universe_scale = example_universe.get(\"scale\")\n",
    "universe_model = example_universe.get(\"model\")\n",
    "universe_exclude_features = example_universe.get(\"exclude_features\")\n",
    "universe_exclude_subgroups = example_universe.get(\"exclude_subgroups\")"
   ]
  },
  {
   "cell_type": "code",
   "execution_count": 58,
   "id": "f4b6a8ac-9dc0-4245-8a91-5b3b5999c4f9",
   "metadata": {
    "execution": {
     "iopub.execute_input": "2025-07-30T14:13:49.078410Z",
     "iopub.status.busy": "2025-07-30T14:13:49.077758Z",
     "iopub.status.idle": "2025-07-30T14:13:49.084049Z",
     "shell.execute_reply": "2025-07-30T14:13:49.083187Z"
    },
    "papermill": {
     "duration": 0.033529,
     "end_time": "2025-07-30T14:13:49.085461",
     "exception": false,
     "start_time": "2025-07-30T14:13:49.051932",
     "status": "completed"
    },
    "tags": []
   },
   "outputs": [],
   "source": [
    "cp_metrics_dict = {\n",
    "    \"universe_id\": [universe_id],\n",
    "    \"universe_training_size\": [universe_training_size],\n",
    "    \"universe_scale\": [universe_scale],\n",
    "    \"universe_model\": [universe_model],\n",
    "    \"universe_exclude_features\": [universe_exclude_features],\n",
    "    \"universe_exclude_subgroups\": [universe_exclude_subgroups],\n",
    "    \"q_hat\": [q_hat],\n",
    "    \"coverage\": [metrics[\"coverage\"]],\n",
    "    \"avg_size\": [metrics[\"avg_size\"]],\n",
    "}"
   ]
  },
  {
   "cell_type": "code",
   "execution_count": 59,
   "id": "908acbb1-0371-4915-85ca-3fa520d2efe2",
   "metadata": {
    "execution": {
     "iopub.execute_input": "2025-07-30T14:13:49.137264Z",
     "iopub.status.busy": "2025-07-30T14:13:49.136574Z",
     "iopub.status.idle": "2025-07-30T14:13:49.144269Z",
     "shell.execute_reply": "2025-07-30T14:13:49.143370Z"
    },
    "papermill": {
     "duration": 0.035609,
     "end_time": "2025-07-30T14:13:49.145799",
     "exception": false,
     "start_time": "2025-07-30T14:13:49.110190",
     "status": "completed"
    },
    "tags": []
   },
   "outputs": [
    {
     "data": {
      "text/plain": [
       "{'universe_id': ['58d9ab8059c7cc6a656f36057155e994'],\n",
       " 'universe_training_size': ['5k'],\n",
       " 'universe_scale': ['do-not-scale'],\n",
       " 'universe_model': ['penalized_logreg'],\n",
       " 'universe_exclude_features': ['age'],\n",
       " 'universe_exclude_subgroups': ['keep-all'],\n",
       " 'q_hat': [0.6751138120294],\n",
       " 'coverage': [0.9137665812061085],\n",
       " 'avg_size': [1.2558354698472858]}"
      ]
     },
     "execution_count": 59,
     "metadata": {},
     "output_type": "execute_result"
    }
   ],
   "source": [
    "cp_metrics_dict"
   ]
  },
  {
   "cell_type": "code",
   "execution_count": 60,
   "id": "33007efc-14e9-4ec6-97ac-56a455c82265",
   "metadata": {
    "execution": {
     "iopub.execute_input": "2025-07-30T14:13:49.199716Z",
     "iopub.status.busy": "2025-07-30T14:13:49.199062Z",
     "iopub.status.idle": "2025-07-30T14:13:49.205534Z",
     "shell.execute_reply": "2025-07-30T14:13:49.204655Z"
    },
    "papermill": {
     "duration": 0.034715,
     "end_time": "2025-07-30T14:13:49.207295",
     "exception": false,
     "start_time": "2025-07-30T14:13:49.172580",
     "status": "completed"
    },
    "tags": []
   },
   "outputs": [],
   "source": [
    "cp_metrics_df = pd.DataFrame(cp_metrics_dict)"
   ]
  },
  {
   "cell_type": "code",
   "execution_count": 61,
   "id": "db12611b-57b2-4910-b9d0-355adfd6e7bf",
   "metadata": {
    "execution": {
     "iopub.execute_input": "2025-07-30T14:13:49.258604Z",
     "iopub.status.busy": "2025-07-30T14:13:49.258157Z",
     "iopub.status.idle": "2025-07-30T14:13:49.275959Z",
     "shell.execute_reply": "2025-07-30T14:13:49.274906Z"
    },
    "papermill": {
     "duration": 0.045884,
     "end_time": "2025-07-30T14:13:49.278417",
     "exception": false,
     "start_time": "2025-07-30T14:13:49.232533",
     "status": "completed"
    },
    "tags": []
   },
   "outputs": [
    {
     "data": {
      "text/html": [
       "<div>\n",
       "<style scoped>\n",
       "    .dataframe tbody tr th:only-of-type {\n",
       "        vertical-align: middle;\n",
       "    }\n",
       "\n",
       "    .dataframe tbody tr th {\n",
       "        vertical-align: top;\n",
       "    }\n",
       "\n",
       "    .dataframe thead th {\n",
       "        text-align: right;\n",
       "    }\n",
       "</style>\n",
       "<table border=\"1\" class=\"dataframe\">\n",
       "  <thead>\n",
       "    <tr style=\"text-align: right;\">\n",
       "      <th></th>\n",
       "      <th>universe_id</th>\n",
       "      <th>universe_training_size</th>\n",
       "      <th>universe_scale</th>\n",
       "      <th>universe_model</th>\n",
       "      <th>universe_exclude_features</th>\n",
       "      <th>universe_exclude_subgroups</th>\n",
       "      <th>q_hat</th>\n",
       "      <th>coverage</th>\n",
       "      <th>avg_size</th>\n",
       "    </tr>\n",
       "  </thead>\n",
       "  <tbody>\n",
       "    <tr>\n",
       "      <th>0</th>\n",
       "      <td>58d9ab8059c7cc6a656f36057155e994</td>\n",
       "      <td>5k</td>\n",
       "      <td>do-not-scale</td>\n",
       "      <td>penalized_logreg</td>\n",
       "      <td>age</td>\n",
       "      <td>keep-all</td>\n",
       "      <td>0.675114</td>\n",
       "      <td>0.913767</td>\n",
       "      <td>1.255835</td>\n",
       "    </tr>\n",
       "  </tbody>\n",
       "</table>\n",
       "</div>"
      ],
      "text/plain": [
       "                        universe_id universe_training_size universe_scale  \\\n",
       "0  58d9ab8059c7cc6a656f36057155e994                     5k   do-not-scale   \n",
       "\n",
       "     universe_model universe_exclude_features universe_exclude_subgroups  \\\n",
       "0  penalized_logreg                       age                   keep-all   \n",
       "\n",
       "      q_hat  coverage  avg_size  \n",
       "0  0.675114  0.913767  1.255835  "
      ]
     },
     "execution_count": 61,
     "metadata": {},
     "output_type": "execute_result"
    }
   ],
   "source": [
    "cp_metrics_df"
   ]
  },
  {
   "cell_type": "code",
   "execution_count": 62,
   "id": "b7fbde55-a0a1-47e4-9af6-fe4a17fa8c61",
   "metadata": {
    "execution": {
     "iopub.execute_input": "2025-07-30T14:13:49.346388Z",
     "iopub.status.busy": "2025-07-30T14:13:49.345569Z",
     "iopub.status.idle": "2025-07-30T14:13:49.352020Z",
     "shell.execute_reply": "2025-07-30T14:13:49.350910Z"
    },
    "papermill": {
     "duration": 0.046125,
     "end_time": "2025-07-30T14:13:49.358087",
     "exception": false,
     "start_time": "2025-07-30T14:13:49.311962",
     "status": "completed"
    },
    "tags": []
   },
   "outputs": [],
   "source": [
    "# Conditional Coverage & looking at subgroups"
   ]
  },
  {
   "cell_type": "code",
   "execution_count": 63,
   "id": "027ae886-68dd-4141-96c7-805a5450e1ef",
   "metadata": {
    "execution": {
     "iopub.execute_input": "2025-07-30T14:13:49.413081Z",
     "iopub.status.busy": "2025-07-30T14:13:49.412342Z",
     "iopub.status.idle": "2025-07-30T14:13:49.837765Z",
     "shell.execute_reply": "2025-07-30T14:13:49.836455Z"
    },
    "papermill": {
     "duration": 0.453391,
     "end_time": "2025-07-30T14:13:49.839644",
     "exception": false,
     "start_time": "2025-07-30T14:13:49.386253",
     "status": "completed"
    },
    "tags": []
   },
   "outputs": [],
   "source": [
    "from fairness_multiverse.conformal import build_cp_groups\n",
    "\n",
    "cp_groups_df = build_cp_groups(pred_sets, y_true, X_test.index, org_test)\n",
    "#needs universe_id and setting"
   ]
  },
  {
   "cell_type": "code",
   "execution_count": 64,
   "id": "01d5802c-663a-4d1f-9d69-e036faaffbf7",
   "metadata": {
    "execution": {
     "iopub.execute_input": "2025-07-30T14:13:49.891539Z",
     "iopub.status.busy": "2025-07-30T14:13:49.890997Z",
     "iopub.status.idle": "2025-07-30T14:13:49.896297Z",
     "shell.execute_reply": "2025-07-30T14:13:49.895270Z"
    },
    "papermill": {
     "duration": 0.033095,
     "end_time": "2025-07-30T14:13:49.898014",
     "exception": false,
     "start_time": "2025-07-30T14:13:49.864919",
     "status": "completed"
    },
    "tags": []
   },
   "outputs": [],
   "source": [
    "#delete\n",
    "#cp_groups_df"
   ]
  },
  {
   "cell_type": "code",
   "execution_count": 65,
   "id": "fa424af1-d1eb-443d-b717-2d279ada8408",
   "metadata": {
    "execution": {
     "iopub.execute_input": "2025-07-30T14:13:49.951374Z",
     "iopub.status.busy": "2025-07-30T14:13:49.950724Z",
     "iopub.status.idle": "2025-07-30T14:13:49.955940Z",
     "shell.execute_reply": "2025-07-30T14:13:49.954954Z"
    },
    "papermill": {
     "duration": 0.03297,
     "end_time": "2025-07-30T14:13:49.957737",
     "exception": false,
     "start_time": "2025-07-30T14:13:49.924767",
     "status": "completed"
    },
    "tags": []
   },
   "outputs": [],
   "source": [
    "#delete\n",
    "#percentage = (cp_groups_df['nongerman_female'] == 1).mean() * 100\n",
    "#print(percentage)\n"
   ]
  },
  {
   "cell_type": "code",
   "execution_count": 66,
   "id": "6cbdab96-b2b2-45af-ad54-d0516db2e28d",
   "metadata": {
    "execution": {
     "iopub.execute_input": "2025-07-30T14:13:50.012798Z",
     "iopub.status.busy": "2025-07-30T14:13:50.012134Z",
     "iopub.status.idle": "2025-07-30T14:13:51.569409Z",
     "shell.execute_reply": "2025-07-30T14:13:51.568444Z"
    },
    "papermill": {
     "duration": 1.5859,
     "end_time": "2025-07-30T14:13:51.571382",
     "exception": false,
     "start_time": "2025-07-30T14:13:49.985482",
     "status": "completed"
    },
    "tags": []
   },
   "outputs": [],
   "source": [
    "# Define covered = 1 if true_label is in the predicted set\n",
    "cp_groups_df['covered'] = cp_groups_df.apply(\n",
    "    lambda r: int(r['true_label'] in r['pred_set']),\n",
    "    axis=1\n",
    ")"
   ]
  },
  {
   "cell_type": "code",
   "execution_count": 67,
   "id": "338ff529-1a6b-4b87-a931-8e4788d52aad",
   "metadata": {
    "execution": {
     "iopub.execute_input": "2025-07-30T14:13:51.625242Z",
     "iopub.status.busy": "2025-07-30T14:13:51.624430Z",
     "iopub.status.idle": "2025-07-30T14:13:51.630143Z",
     "shell.execute_reply": "2025-07-30T14:13:51.629145Z"
    },
    "papermill": {
     "duration": 0.03491,
     "end_time": "2025-07-30T14:13:51.632098",
     "exception": false,
     "start_time": "2025-07-30T14:13:51.597188",
     "status": "completed"
    },
    "tags": []
   },
   "outputs": [],
   "source": [
    "#cp_groups_df"
   ]
  },
  {
   "cell_type": "code",
   "execution_count": 68,
   "id": "90032e27-66df-4540-9169-4e89cfbaa758",
   "metadata": {
    "execution": {
     "iopub.execute_input": "2025-07-30T14:13:51.687313Z",
     "iopub.status.busy": "2025-07-30T14:13:51.686474Z",
     "iopub.status.idle": "2025-07-30T14:13:51.699325Z",
     "shell.execute_reply": "2025-07-30T14:13:51.698000Z"
    },
    "papermill": {
     "duration": 0.042031,
     "end_time": "2025-07-30T14:13:51.701500",
     "exception": false,
     "start_time": "2025-07-30T14:13:51.659469",
     "status": "completed"
    },
    "tags": []
   },
   "outputs": [],
   "source": [
    "subgroups = ['frau1','nongerman','nongerman_male','nongerman_female']\n",
    "\n",
    "# Conditional coverage for subgroup==1\n",
    "cond_coverage = {\n",
    "    g: cp_groups_df.loc[cp_groups_df[g]==1, 'covered'].mean()\n",
    "    for g in subgroups\n",
    "}"
   ]
  },
  {
   "cell_type": "code",
   "execution_count": 69,
   "id": "1e348fb1-b9c3-45bc-ba23-f016827a7e0d",
   "metadata": {
    "execution": {
     "iopub.execute_input": "2025-07-30T14:13:51.758551Z",
     "iopub.status.busy": "2025-07-30T14:13:51.757397Z",
     "iopub.status.idle": "2025-07-30T14:13:51.766664Z",
     "shell.execute_reply": "2025-07-30T14:13:51.765414Z"
    },
    "papermill": {
     "duration": 0.039305,
     "end_time": "2025-07-30T14:13:51.768553",
     "exception": false,
     "start_time": "2025-07-30T14:13:51.729248",
     "status": "completed"
    },
    "tags": []
   },
   "outputs": [
    {
     "data": {
      "text/plain": [
       "{'frau1': 0.914355034371209,\n",
       " 'nongerman': 0.9656430696682199,\n",
       " 'nongerman_male': 0.9700981716653156,\n",
       " 'nongerman_female': 0.9582712369597616}"
      ]
     },
     "execution_count": 69,
     "metadata": {},
     "output_type": "execute_result"
    }
   ],
   "source": [
    "cond_coverage"
   ]
  },
  {
   "cell_type": "code",
   "execution_count": 70,
   "id": "f5093324-c3dd-4d63-bc4c-8d945e5c8bbb",
   "metadata": {
    "execution": {
     "iopub.execute_input": "2025-07-30T14:13:51.824606Z",
     "iopub.status.busy": "2025-07-30T14:13:51.823425Z",
     "iopub.status.idle": "2025-07-30T14:13:51.831145Z",
     "shell.execute_reply": "2025-07-30T14:13:51.830189Z"
    },
    "papermill": {
     "duration": 0.038074,
     "end_time": "2025-07-30T14:13:51.832936",
     "exception": false,
     "start_time": "2025-07-30T14:13:51.794862",
     "status": "completed"
    },
    "tags": []
   },
   "outputs": [],
   "source": [
    "for subgroup, cov in cond_coverage.items():\n",
    "    cp_metrics_df[f\"cov_{subgroup}\"] = cov"
   ]
  },
  {
   "cell_type": "code",
   "execution_count": 71,
   "id": "6e872e10-dbe5-49e8-b554-5030c98ff75d",
   "metadata": {
    "execution": {
     "iopub.execute_input": "2025-07-30T14:13:51.896792Z",
     "iopub.status.busy": "2025-07-30T14:13:51.896314Z",
     "iopub.status.idle": "2025-07-30T14:13:51.914894Z",
     "shell.execute_reply": "2025-07-30T14:13:51.913984Z"
    },
    "papermill": {
     "duration": 0.053856,
     "end_time": "2025-07-30T14:13:51.916277",
     "exception": false,
     "start_time": "2025-07-30T14:13:51.862421",
     "status": "completed"
    },
    "tags": []
   },
   "outputs": [
    {
     "data": {
      "text/html": [
       "<div>\n",
       "<style scoped>\n",
       "    .dataframe tbody tr th:only-of-type {\n",
       "        vertical-align: middle;\n",
       "    }\n",
       "\n",
       "    .dataframe tbody tr th {\n",
       "        vertical-align: top;\n",
       "    }\n",
       "\n",
       "    .dataframe thead th {\n",
       "        text-align: right;\n",
       "    }\n",
       "</style>\n",
       "<table border=\"1\" class=\"dataframe\">\n",
       "  <thead>\n",
       "    <tr style=\"text-align: right;\">\n",
       "      <th></th>\n",
       "      <th>universe_id</th>\n",
       "      <th>universe_training_size</th>\n",
       "      <th>universe_scale</th>\n",
       "      <th>universe_model</th>\n",
       "      <th>universe_exclude_features</th>\n",
       "      <th>universe_exclude_subgroups</th>\n",
       "      <th>q_hat</th>\n",
       "      <th>coverage</th>\n",
       "      <th>avg_size</th>\n",
       "      <th>cov_frau1</th>\n",
       "      <th>cov_nongerman</th>\n",
       "      <th>cov_nongerman_male</th>\n",
       "      <th>cov_nongerman_female</th>\n",
       "    </tr>\n",
       "  </thead>\n",
       "  <tbody>\n",
       "    <tr>\n",
       "      <th>0</th>\n",
       "      <td>58d9ab8059c7cc6a656f36057155e994</td>\n",
       "      <td>5k</td>\n",
       "      <td>do-not-scale</td>\n",
       "      <td>penalized_logreg</td>\n",
       "      <td>age</td>\n",
       "      <td>keep-all</td>\n",
       "      <td>0.675114</td>\n",
       "      <td>0.913767</td>\n",
       "      <td>1.255835</td>\n",
       "      <td>0.914355</td>\n",
       "      <td>0.965643</td>\n",
       "      <td>0.970098</td>\n",
       "      <td>0.958271</td>\n",
       "    </tr>\n",
       "  </tbody>\n",
       "</table>\n",
       "</div>"
      ],
      "text/plain": [
       "                        universe_id universe_training_size universe_scale  \\\n",
       "0  58d9ab8059c7cc6a656f36057155e994                     5k   do-not-scale   \n",
       "\n",
       "     universe_model universe_exclude_features universe_exclude_subgroups  \\\n",
       "0  penalized_logreg                       age                   keep-all   \n",
       "\n",
       "      q_hat  coverage  avg_size  cov_frau1  cov_nongerman  cov_nongerman_male  \\\n",
       "0  0.675114  0.913767  1.255835   0.914355       0.965643            0.970098   \n",
       "\n",
       "   cov_nongerman_female  \n",
       "0              0.958271  "
      ]
     },
     "execution_count": 71,
     "metadata": {},
     "output_type": "execute_result"
    }
   ],
   "source": [
    "cp_metrics_df"
   ]
  },
  {
   "cell_type": "markdown",
   "id": "33774451",
   "metadata": {
    "papermill": {
     "duration": 0.014603,
     "end_time": "2025-07-30T14:13:51.946482",
     "exception": false,
     "start_time": "2025-07-30T14:13:51.931879",
     "status": "completed"
    },
    "tags": []
   },
   "source": [
    "# (Fairness) Metrics"
   ]
  },
  {
   "cell_type": "code",
   "execution_count": 72,
   "id": "debc5d62",
   "metadata": {
    "execution": {
     "iopub.execute_input": "2025-07-30T14:13:51.981815Z",
     "iopub.status.busy": "2025-07-30T14:13:51.981310Z",
     "iopub.status.idle": "2025-07-30T14:13:51.996396Z",
     "shell.execute_reply": "2025-07-30T14:13:51.995556Z"
    },
    "papermill": {
     "duration": 0.031774,
     "end_time": "2025-07-30T14:13:51.997992",
     "exception": false,
     "start_time": "2025-07-30T14:13:51.966218",
     "status": "completed"
    },
    "tags": []
   },
   "outputs": [],
   "source": [
    "# do I need to include maxdeutsch1.missing?\n",
    "\n",
    "import numpy as np\n",
    "\n",
    "colname_to_bin = \"maxdeutsch1\"\n",
    "majority_value = org_train[colname_to_bin].mode()[0]\n",
    "\n",
    "org_test[\"majmin\"] = np.where(org_test[colname_to_bin] == majority_value, \"majority\", \"minority\")"
   ]
  },
  {
   "cell_type": "code",
   "execution_count": 73,
   "id": "06a50de5",
   "metadata": {
    "execution": {
     "iopub.execute_input": "2025-07-30T14:13:52.034330Z",
     "iopub.status.busy": "2025-07-30T14:13:52.033942Z",
     "iopub.status.idle": "2025-07-30T14:13:54.002942Z",
     "shell.execute_reply": "2025-07-30T14:13:54.001892Z"
    },
    "papermill": {
     "duration": 1.98663,
     "end_time": "2025-07-30T14:13:54.004932",
     "exception": false,
     "start_time": "2025-07-30T14:13:52.018302",
     "status": "completed"
    },
    "tags": []
   },
   "outputs": [],
   "source": [
    "example_universe = universe.copy()\n",
    "example_universe[\"cutoff\"] = example_universe[\"cutoff\"][0]\n",
    "example_universe[\"eval_fairness_grouping\"] = example_universe[\"eval_fairness_grouping\"][0]\n",
    "fairness_dict, metric_frame = universe_analysis.compute_metrics(\n",
    "    example_universe,\n",
    "    y_pred_prob=probs_test,\n",
    "    y_test=y_true,\n",
    "    org_test=org_test,\n",
    ")"
   ]
  },
  {
   "cell_type": "markdown",
   "id": "f95d4e02",
   "metadata": {
    "papermill": {
     "duration": 0.029793,
     "end_time": "2025-07-30T14:13:54.061800",
     "exception": false,
     "start_time": "2025-07-30T14:13:54.032007",
     "status": "completed"
    },
    "tags": []
   },
   "source": [
    "# Overall"
   ]
  },
  {
   "cell_type": "markdown",
   "id": "bdee4871",
   "metadata": {
    "papermill": {
     "duration": 0.026754,
     "end_time": "2025-07-30T14:13:54.119771",
     "exception": false,
     "start_time": "2025-07-30T14:13:54.093017",
     "status": "completed"
    },
    "tags": []
   },
   "source": [
    "Fairness\n",
    "Main fairness target: Equalized Odds. Seems to be a better fit than equal opportunity, since we're not only interested in Y = 1. Seems to be a better fit than demographic parity, since we also care about accuracy, not just equal distribution of preds.\n",
    "\n",
    "Pick column for computation of fairness metrics\n",
    "\n",
    "Performance\n",
    "Overall performance measures, most interesting in relation to the measures split by group below"
   ]
  },
  {
   "cell_type": "code",
   "execution_count": 74,
   "id": "c4e067c6",
   "metadata": {
    "execution": {
     "iopub.execute_input": "2025-07-30T14:13:54.166718Z",
     "iopub.status.busy": "2025-07-30T14:13:54.166294Z",
     "iopub.status.idle": "2025-07-30T14:13:54.175894Z",
     "shell.execute_reply": "2025-07-30T14:13:54.174608Z"
    },
    "papermill": {
     "duration": 0.04404,
     "end_time": "2025-07-30T14:13:54.177837",
     "exception": false,
     "start_time": "2025-07-30T14:13:54.133797",
     "status": "completed"
    },
    "tags": []
   },
   "outputs": [
    {
     "data": {
      "text/plain": [
       "accuracy                   0.216932\n",
       "balanced accuracy          0.531988\n",
       "f1                         0.238468\n",
       "precision                  0.136229\n",
       "false positive rate        0.891793\n",
       "false negative rate        0.044230\n",
       "selection rate             0.900000\n",
       "count                  89710.000000\n",
       "dtype: float64"
      ]
     },
     "execution_count": 74,
     "metadata": {},
     "output_type": "execute_result"
    }
   ],
   "source": [
    "metric_frame.overall"
   ]
  },
  {
   "cell_type": "markdown",
   "id": "e968fe9d",
   "metadata": {
    "papermill": {
     "duration": 0.026804,
     "end_time": "2025-07-30T14:13:54.237681",
     "exception": false,
     "start_time": "2025-07-30T14:13:54.210877",
     "status": "completed"
    },
    "tags": []
   },
   "source": [
    "By Group"
   ]
  },
  {
   "cell_type": "code",
   "execution_count": 75,
   "id": "ec325bce",
   "metadata": {
    "execution": {
     "iopub.execute_input": "2025-07-30T14:13:54.301615Z",
     "iopub.status.busy": "2025-07-30T14:13:54.301172Z",
     "iopub.status.idle": "2025-07-30T14:13:54.319917Z",
     "shell.execute_reply": "2025-07-30T14:13:54.318904Z"
    },
    "papermill": {
     "duration": 0.053312,
     "end_time": "2025-07-30T14:13:54.322052",
     "exception": false,
     "start_time": "2025-07-30T14:13:54.268740",
     "status": "completed"
    },
    "tags": []
   },
   "outputs": [
    {
     "data": {
      "text/html": [
       "<div>\n",
       "<style scoped>\n",
       "    .dataframe tbody tr th:only-of-type {\n",
       "        vertical-align: middle;\n",
       "    }\n",
       "\n",
       "    .dataframe tbody tr th {\n",
       "        vertical-align: top;\n",
       "    }\n",
       "\n",
       "    .dataframe thead th {\n",
       "        text-align: right;\n",
       "    }\n",
       "</style>\n",
       "<table border=\"1\" class=\"dataframe\">\n",
       "  <thead>\n",
       "    <tr style=\"text-align: right;\">\n",
       "      <th></th>\n",
       "      <th>accuracy</th>\n",
       "      <th>balanced accuracy</th>\n",
       "      <th>f1</th>\n",
       "      <th>precision</th>\n",
       "      <th>false positive rate</th>\n",
       "      <th>false negative rate</th>\n",
       "      <th>selection rate</th>\n",
       "      <th>count</th>\n",
       "    </tr>\n",
       "    <tr>\n",
       "      <th>majmin</th>\n",
       "      <th></th>\n",
       "      <th></th>\n",
       "      <th></th>\n",
       "      <th></th>\n",
       "      <th></th>\n",
       "      <th></th>\n",
       "      <th></th>\n",
       "      <th></th>\n",
       "    </tr>\n",
       "  </thead>\n",
       "  <tbody>\n",
       "    <tr>\n",
       "      <th>majority</th>\n",
       "      <td>0.239425</td>\n",
       "      <td>0.539643</td>\n",
       "      <td>0.247723</td>\n",
       "      <td>0.142484</td>\n",
       "      <td>0.868416</td>\n",
       "      <td>0.052298</td>\n",
       "      <td>0.878893</td>\n",
       "      <td>69170.0</td>\n",
       "    </tr>\n",
       "    <tr>\n",
       "      <th>minority</th>\n",
       "      <td>0.141188</td>\n",
       "      <td>0.508945</td>\n",
       "      <td>0.209465</td>\n",
       "      <td>0.117166</td>\n",
       "      <td>0.969018</td>\n",
       "      <td>0.013091</td>\n",
       "      <td>0.971081</td>\n",
       "      <td>20540.0</td>\n",
       "    </tr>\n",
       "  </tbody>\n",
       "</table>\n",
       "</div>"
      ],
      "text/plain": [
       "          accuracy  balanced accuracy        f1  precision  \\\n",
       "majmin                                                       \n",
       "majority  0.239425           0.539643  0.247723   0.142484   \n",
       "minority  0.141188           0.508945  0.209465   0.117166   \n",
       "\n",
       "          false positive rate  false negative rate  selection rate    count  \n",
       "majmin                                                                       \n",
       "majority             0.868416             0.052298        0.878893  69170.0  \n",
       "minority             0.969018             0.013091        0.971081  20540.0  "
      ]
     },
     "execution_count": 75,
     "metadata": {},
     "output_type": "execute_result"
    }
   ],
   "source": [
    "metric_frame.by_group"
   ]
  },
  {
   "cell_type": "code",
   "execution_count": 76,
   "id": "a9ddbe63",
   "metadata": {
    "execution": {
     "iopub.execute_input": "2025-07-30T14:13:54.378121Z",
     "iopub.status.busy": "2025-07-30T14:13:54.377701Z",
     "iopub.status.idle": "2025-07-30T14:13:57.327382Z",
     "shell.execute_reply": "2025-07-30T14:13:57.326428Z"
    },
    "papermill": {
     "duration": 2.987306,
     "end_time": "2025-07-30T14:13:57.335500",
     "exception": false,
     "start_time": "2025-07-30T14:13:54.348194",
     "status": "completed"
    },
    "tags": []
   },
   "outputs": [
    {
     "data": {
      "text/plain": [
       "array([[<Axes: title={'center': 'accuracy'}, xlabel='majmin'>,\n",
       "        <Axes: title={'center': 'balanced accuracy'}, xlabel='majmin'>,\n",
       "        <Axes: title={'center': 'f1'}, xlabel='majmin'>],\n",
       "       [<Axes: title={'center': 'precision'}, xlabel='majmin'>,\n",
       "        <Axes: title={'center': 'false positive rate'}, xlabel='majmin'>,\n",
       "        <Axes: title={'center': 'false negative rate'}, xlabel='majmin'>],\n",
       "       [<Axes: title={'center': 'selection rate'}, xlabel='majmin'>,\n",
       "        <Axes: title={'center': 'count'}, xlabel='majmin'>,\n",
       "        <Axes: xlabel='majmin'>]], dtype=object)"
      ]
     },
     "execution_count": 76,
     "metadata": {},
     "output_type": "execute_result"
    },
    {
     "data": {
      "image/png": "[encoded data removed]",
      "text/plain": [
       "<Figure size 1200x800 with 9 Axes>"
      ]
     },
     "metadata": {},
     "output_type": "display_data"
    }
   ],
   "source": [
    "# In a graphic\n",
    "metric_frame.by_group.plot.bar(\n",
    "    subplots=True,\n",
    "    layout=[3, 3],\n",
    "    legend=False,\n",
    "    figsize=[12, 8],\n",
    "    title=\"Show all metrics\",\n",
    ")"
   ]
  },
  {
   "cell_type": "markdown",
   "id": "f57a0bac",
   "metadata": {
    "papermill": {
     "duration": 0.106802,
     "end_time": "2025-07-30T14:13:57.512488",
     "exception": false,
     "start_time": "2025-07-30T14:13:57.405686",
     "status": "completed"
    },
    "tags": []
   },
   "source": [
    "# Final Output"
   ]
  },
  {
   "cell_type": "code",
   "execution_count": 77,
   "id": "96d280a3",
   "metadata": {
    "execution": {
     "iopub.execute_input": "2025-07-30T14:13:57.626246Z",
     "iopub.status.busy": "2025-07-30T14:13:57.625701Z",
     "iopub.status.idle": "2025-07-30T14:13:57.635870Z",
     "shell.execute_reply": "2025-07-30T14:13:57.634474Z"
    },
    "papermill": {
     "duration": 0.079129,
     "end_time": "2025-07-30T14:13:57.637790",
     "exception": false,
     "start_time": "2025-07-30T14:13:57.558661",
     "status": "completed"
    },
    "tags": []
   },
   "outputs": [
    {
     "data": {
      "text/plain": [
       "4"
      ]
     },
     "execution_count": 77,
     "metadata": {},
     "output_type": "execute_result"
    }
   ],
   "source": [
    "sub_universes = universe_analysis.generate_sub_universes()\n",
    "len(sub_universes)"
   ]
  },
  {
   "cell_type": "code",
   "execution_count": 78,
   "id": "92adf7ba",
   "metadata": {
    "execution": {
     "iopub.execute_input": "2025-07-30T14:13:57.758080Z",
     "iopub.status.busy": "2025-07-30T14:13:57.757694Z",
     "iopub.status.idle": "2025-07-30T14:13:57.764082Z",
     "shell.execute_reply": "2025-07-30T14:13:57.763018Z"
    },
    "papermill": {
     "duration": 0.084301,
     "end_time": "2025-07-30T14:13:57.765647",
     "exception": false,
     "start_time": "2025-07-30T14:13:57.681346",
     "status": "completed"
    },
    "tags": []
   },
   "outputs": [],
   "source": [
    "def filter_sub_universe_data(sub_universe, org_test):\n",
    "    # Keep all rows — no filtering\n",
    "    keep_rows_mask = np.ones(org_test.shape[0], dtype=bool)\n",
    "\n",
    "    print(f\"[INFO] Keeping all rows: {keep_rows_mask.sum()} rows retained.\")\n",
    "    return keep_rows_mask"
   ]
  },
  {
   "cell_type": "code",
   "execution_count": 79,
   "id": "4a759155",
   "metadata": {
    "execution": {
     "iopub.execute_input": "2025-07-30T14:13:57.880822Z",
     "iopub.status.busy": "2025-07-30T14:13:57.880414Z",
     "iopub.status.idle": "2025-07-30T14:14:08.669058Z",
     "shell.execute_reply": "2025-07-30T14:14:08.668110Z"
    },
    "papermill": {
     "duration": 10.852155,
     "end_time": "2025-07-30T14:14:08.670696",
     "exception": false,
     "start_time": "2025-07-30T14:13:57.818541",
     "status": "completed"
    },
    "tags": []
   },
   "outputs": [
    {
     "name": "stdout",
     "output_type": "stream",
     "text": [
      "Stopping execution_time clock.\n",
      "[INFO] Keeping all rows: 89710 rows retained.\n"
     ]
    },
    {
     "name": "stdout",
     "output_type": "stream",
     "text": [
      "[INFO] Keeping all rows: 89710 rows retained.\n"
     ]
    },
    {
     "name": "stdout",
     "output_type": "stream",
     "text": [
      "[INFO] Keeping all rows: 89710 rows retained.\n"
     ]
    },
    {
     "name": "stdout",
     "output_type": "stream",
     "text": [
      "[INFO] Keeping all rows: 89710 rows retained.\n"
     ]
    },
    {
     "data": {
      "text/html": [
       "<div>\n",
       "<style scoped>\n",
       "    .dataframe tbody tr th:only-of-type {\n",
       "        vertical-align: middle;\n",
       "    }\n",
       "\n",
       "    .dataframe tbody tr th {\n",
       "        vertical-align: top;\n",
       "    }\n",
       "\n",
       "    .dataframe thead th {\n",
       "        text-align: right;\n",
       "    }\n",
       "</style>\n",
       "<table border=\"1\" class=\"dataframe\">\n",
       "  <thead>\n",
       "    <tr style=\"text-align: right;\">\n",
       "      <th></th>\n",
       "      <th>run_no</th>\n",
       "      <th>universe_id</th>\n",
       "      <th>universe_settings</th>\n",
       "      <th>execution_time</th>\n",
       "      <th>test_size_n</th>\n",
       "      <th>test_size_frac</th>\n",
       "      <th>fair_main_equalized_odds_difference</th>\n",
       "      <th>fair_main_equalized_odds_ratio</th>\n",
       "      <th>fair_main_demographic_parity_difference</th>\n",
       "      <th>fair_main_demographic_parity_ratio</th>\n",
       "      <th>...</th>\n",
       "      <th>perf_grp_precision_0</th>\n",
       "      <th>perf_grp_precision_1</th>\n",
       "      <th>perf_grp_false positive rate_0</th>\n",
       "      <th>perf_grp_false positive rate_1</th>\n",
       "      <th>perf_grp_false negative rate_0</th>\n",
       "      <th>perf_grp_false negative rate_1</th>\n",
       "      <th>perf_grp_selection rate_0</th>\n",
       "      <th>perf_grp_selection rate_1</th>\n",
       "      <th>perf_grp_count_0</th>\n",
       "      <th>perf_grp_count_1</th>\n",
       "    </tr>\n",
       "  </thead>\n",
       "  <tbody>\n",
       "    <tr>\n",
       "      <th>0</th>\n",
       "      <td>12</td>\n",
       "      <td>58d9ab8059c7cc6a656f36057155e994</td>\n",
       "      <td>{\"cutoff\": \"quantile_0.1\", \"eval_fairness_grou...</td>\n",
       "      <td>26.961965</td>\n",
       "      <td>89710</td>\n",
       "      <td>1.0</td>\n",
       "      <td>0.100602</td>\n",
       "      <td>0.896181</td>\n",
       "      <td>0.092188</td>\n",
       "      <td>0.905066</td>\n",
       "      <td>...</td>\n",
       "      <td>NaN</td>\n",
       "      <td>NaN</td>\n",
       "      <td>NaN</td>\n",
       "      <td>NaN</td>\n",
       "      <td>NaN</td>\n",
       "      <td>NaN</td>\n",
       "      <td>NaN</td>\n",
       "      <td>NaN</td>\n",
       "      <td>NaN</td>\n",
       "      <td>NaN</td>\n",
       "    </tr>\n",
       "    <tr>\n",
       "      <th>0</th>\n",
       "      <td>12</td>\n",
       "      <td>58d9ab8059c7cc6a656f36057155e994</td>\n",
       "      <td>{\"cutoff\": \"quantile_0.1\", \"eval_fairness_grou...</td>\n",
       "      <td>26.961965</td>\n",
       "      <td>89710</td>\n",
       "      <td>1.0</td>\n",
       "      <td>0.100602</td>\n",
       "      <td>0.896181</td>\n",
       "      <td>0.092188</td>\n",
       "      <td>0.905066</td>\n",
       "      <td>...</td>\n",
       "      <td>0.117166</td>\n",
       "      <td>0.142484</td>\n",
       "      <td>0.969018</td>\n",
       "      <td>0.868416</td>\n",
       "      <td>0.013091</td>\n",
       "      <td>0.052298</td>\n",
       "      <td>0.971081</td>\n",
       "      <td>0.878893</td>\n",
       "      <td>20540.0</td>\n",
       "      <td>69170.0</td>\n",
       "    </tr>\n",
       "    <tr>\n",
       "      <th>0</th>\n",
       "      <td>12</td>\n",
       "      <td>58d9ab8059c7cc6a656f36057155e994</td>\n",
       "      <td>{\"cutoff\": \"quantile_0.25\", \"eval_fairness_gro...</td>\n",
       "      <td>26.961965</td>\n",
       "      <td>89710</td>\n",
       "      <td>1.0</td>\n",
       "      <td>0.237421</td>\n",
       "      <td>0.740424</td>\n",
       "      <td>0.218796</td>\n",
       "      <td>0.761840</td>\n",
       "      <td>...</td>\n",
       "      <td>NaN</td>\n",
       "      <td>NaN</td>\n",
       "      <td>NaN</td>\n",
       "      <td>NaN</td>\n",
       "      <td>NaN</td>\n",
       "      <td>NaN</td>\n",
       "      <td>NaN</td>\n",
       "      <td>NaN</td>\n",
       "      <td>NaN</td>\n",
       "      <td>NaN</td>\n",
       "    </tr>\n",
       "    <tr>\n",
       "      <th>0</th>\n",
       "      <td>12</td>\n",
       "      <td>58d9ab8059c7cc6a656f36057155e994</td>\n",
       "      <td>{\"cutoff\": \"quantile_0.25\", \"eval_fairness_gro...</td>\n",
       "      <td>26.961965</td>\n",
       "      <td>89710</td>\n",
       "      <td>1.0</td>\n",
       "      <td>0.237421</td>\n",
       "      <td>0.740424</td>\n",
       "      <td>0.218796</td>\n",
       "      <td>0.761840</td>\n",
       "      <td>...</td>\n",
       "      <td>0.119184</td>\n",
       "      <td>0.160250</td>\n",
       "      <td>0.914649</td>\n",
       "      <td>0.677228</td>\n",
       "      <td>0.050253</td>\n",
       "      <td>0.151204</td>\n",
       "      <td>0.918695</td>\n",
       "      <td>0.699899</td>\n",
       "      <td>20540.0</td>\n",
       "      <td>69170.0</td>\n",
       "    </tr>\n",
       "  </tbody>\n",
       "</table>\n",
       "<p>4 rows × 50 columns</p>\n",
       "</div>"
      ],
      "text/plain": [
       "  run_no                       universe_id  \\\n",
       "0     12  58d9ab8059c7cc6a656f36057155e994   \n",
       "0     12  58d9ab8059c7cc6a656f36057155e994   \n",
       "0     12  58d9ab8059c7cc6a656f36057155e994   \n",
       "0     12  58d9ab8059c7cc6a656f36057155e994   \n",
       "\n",
       "                                   universe_settings  execution_time  \\\n",
       "0  {\"cutoff\": \"quantile_0.1\", \"eval_fairness_grou...       26.961965   \n",
       "0  {\"cutoff\": \"quantile_0.1\", \"eval_fairness_grou...       26.961965   \n",
       "0  {\"cutoff\": \"quantile_0.25\", \"eval_fairness_gro...       26.961965   \n",
       "0  {\"cutoff\": \"quantile_0.25\", \"eval_fairness_gro...       26.961965   \n",
       "\n",
       "   test_size_n  test_size_frac  fair_main_equalized_odds_difference  \\\n",
       "0        89710             1.0                             0.100602   \n",
       "0        89710             1.0                             0.100602   \n",
       "0        89710             1.0                             0.237421   \n",
       "0        89710             1.0                             0.237421   \n",
       "\n",
       "   fair_main_equalized_odds_ratio  fair_main_demographic_parity_difference  \\\n",
       "0                        0.896181                                 0.092188   \n",
       "0                        0.896181                                 0.092188   \n",
       "0                        0.740424                                 0.218796   \n",
       "0                        0.740424                                 0.218796   \n",
       "\n",
       "   fair_main_demographic_parity_ratio  ...  perf_grp_precision_0  \\\n",
       "0                            0.905066  ...                   NaN   \n",
       "0                            0.905066  ...              0.117166   \n",
       "0                            0.761840  ...                   NaN   \n",
       "0                            0.761840  ...              0.119184   \n",
       "\n",
       "   perf_grp_precision_1  perf_grp_false positive rate_0  \\\n",
       "0                   NaN                             NaN   \n",
       "0              0.142484                        0.969018   \n",
       "0                   NaN                             NaN   \n",
       "0              0.160250                        0.914649   \n",
       "\n",
       "   perf_grp_false positive rate_1  perf_grp_false negative rate_0  \\\n",
       "0                             NaN                             NaN   \n",
       "0                        0.868416                        0.013091   \n",
       "0                             NaN                             NaN   \n",
       "0                        0.677228                        0.050253   \n",
       "\n",
       "   perf_grp_false negative rate_1  perf_grp_selection rate_0  \\\n",
       "0                             NaN                        NaN   \n",
       "0                        0.052298                   0.971081   \n",
       "0                             NaN                        NaN   \n",
       "0                        0.151204                   0.918695   \n",
       "\n",
       "   perf_grp_selection rate_1  perf_grp_count_0  perf_grp_count_1  \n",
       "0                        NaN               NaN               NaN  \n",
       "0                   0.878893           20540.0           69170.0  \n",
       "0                        NaN               NaN               NaN  \n",
       "0                   0.699899           20540.0           69170.0  \n",
       "\n",
       "[4 rows x 50 columns]"
      ]
     },
     "execution_count": 79,
     "metadata": {},
     "output_type": "execute_result"
    }
   ],
   "source": [
    "final_output = universe_analysis.generate_final_output(\n",
    "    y_pred_prob=probs_test,\n",
    "    y_test=y_true,\n",
    "    org_test=org_test,\n",
    "    filter_data=filter_sub_universe_data,\n",
    "    cp_metrics_df=cp_metrics_df,\n",
    "    save=True,\n",
    ")\n",
    "final_output"
   ]
  },
  {
   "cell_type": "code",
   "execution_count": null,
   "id": "721ff514-cb11-46f8-b6fc-50392f74b5cb",
   "metadata": {
    "papermill": {
     "duration": 0.030874,
     "end_time": "2025-07-30T14:14:08.734577",
     "exception": false,
     "start_time": "2025-07-30T14:14:08.703703",
     "status": "completed"
    },
    "tags": []
   },
   "outputs": [],
   "source": []
  }
 ],
 "metadata": {
  "celltoolbar": "Tags",
  "kernelspec": {
   "display_name": "Python (CMA Fairness)",
   "language": "python",
   "name": "cma_fair_env"
  },
  "language_info": {
   "codemirror_mode": {
    "name": "ipython",
    "version": 3
   },
   "file_extension": ".py",
   "mimetype": "text/x-python",
   "name": "python",
   "nbconvert_exporter": "python",
   "pygments_lexer": "ipython3",
   "version": "3.10.12"
  },
  "papermill": {
   "default_parameters": {},
   "duration": 41.949906,
   "end_time": "2025-07-30T14:14:09.583985",
   "environment_variables": {},
   "exception": null,
   "input_path": "universe_analysis.ipynb",
   "output_path": "output/runs/12/notebooks/m_12-58d9ab8059c7cc6a656f36057155e994.ipynb",
   "parameters": {
    "output_dir": "output",
    "run_no": "12",
    "seed": "2023",
    "universe": "{\"cutoff\": [\"quantile_0.1\", \"quantile_0.25\"], \"eval_fairness_grouping\": [\"majority-minority\", \"nationality-all\"], \"exclude_features\": \"age\", \"exclude_subgroups\": \"keep-all\", \"model\": \"penalized_logreg\", \"scale\": \"do-not-scale\", \"training_size\": \"5k\", \"training_year\": \"2010_14\"}",
    "universe_id": "58d9ab8059c7cc6a656f36057155e994"
   },
   "start_time": "2025-07-30T14:13:27.634079",
   "version": "2.6.0"
  }
 },
 "nbformat": 4,
 "nbformat_minor": 5
}