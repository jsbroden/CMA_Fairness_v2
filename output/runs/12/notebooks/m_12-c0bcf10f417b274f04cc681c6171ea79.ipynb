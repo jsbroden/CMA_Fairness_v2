{
 "cells": [
  {
   "cell_type": "code",
   "execution_count": 1,
   "id": "f159f837-637b-42ba-96b5-ec9a68c44524",
   "metadata": {
    "execution": {
     "iopub.execute_input": "2025-07-30T13:10:45.368870Z",
     "iopub.status.busy": "2025-07-30T13:10:45.368195Z",
     "iopub.status.idle": "2025-07-30T13:10:45.382701Z",
     "shell.execute_reply": "2025-07-30T13:10:45.381845Z"
    },
    "papermill": {
     "duration": 0.0397,
     "end_time": "2025-07-30T13:10:45.384633",
     "exception": false,
     "start_time": "2025-07-30T13:10:45.344933",
     "status": "completed"
    },
    "tags": []
   },
   "outputs": [
    {
     "name": "stdout",
     "output_type": "stream",
     "text": [
      "/dss/dsshome1/0C/ra93lal2/cma/CMA_Fairness_v2\n"
     ]
    },
    {
     "name": "stderr",
     "output_type": "stream",
     "text": [
      "/dss/dsshome1/0C/ra93lal2/.local/share/virtualenvs/CMA_Fairness_v2-3j10GkSs/lib/python3.10/site-packages/IPython/core/magics/osm.py:393: UserWarning: This is now an optional IPython functionality, using bookmarks requires you to install the `pickleshare` library.\n",
      "  bkms = self.shell.db.get('bookmarks', {})\n",
      "/dss/dsshome1/0C/ra93lal2/.local/share/virtualenvs/CMA_Fairness_v2-3j10GkSs/lib/python3.10/site-packages/IPython/core/magics/osm.py:417: UserWarning: This is now an optional IPython functionality, setting dhist requires you to install the `pickleshare` library.\n",
      "  self.shell.db['dhist'] = compress_dhist(dhist)[-100:]\n"
     ]
    }
   ],
   "source": [
    "%cd ~/cma/CMA_Fairness_v2"
   ]
  },
  {
   "cell_type": "markdown",
   "id": "de2603b9",
   "metadata": {
    "papermill": {
     "duration": 0.021636,
     "end_time": "2025-07-30T13:10:45.428919",
     "exception": false,
     "start_time": "2025-07-30T13:10:45.407283",
     "status": "completed"
    },
    "tags": []
   },
   "source": [
    "The following cell holds the definition of our parameters, these values can be overriden by rendering the with e.g. the following command:\n",
    "\n",
    "papermill -p alpha 0.2 -p ratio 0.3 universe_analysis.ipynb output/test_run.ipynb"
   ]
  },
  {
   "cell_type": "code",
   "execution_count": 2,
   "id": "a80968a0-40bb-4fa9-85ef-2d5eefb01975",
   "metadata": {
    "execution": {
     "iopub.execute_input": "2025-07-30T13:10:45.475692Z",
     "iopub.status.busy": "2025-07-30T13:10:45.474922Z",
     "iopub.status.idle": "2025-07-30T13:10:45.480524Z",
     "shell.execute_reply": "2025-07-30T13:10:45.479600Z"
    },
    "papermill": {
     "duration": 0.031435,
     "end_time": "2025-07-30T13:10:45.482355",
     "exception": false,
     "start_time": "2025-07-30T13:10:45.450920",
     "status": "completed"
    },
    "tags": []
   },
   "outputs": [
    {
     "name": "stdout",
     "output_type": "stream",
     "text": [
      "Current working directory: /dss/dsshome1/0C/ra93lal2/cma/CMA_Fairness_v2\n"
     ]
    }
   ],
   "source": [
    "import os\n",
    "print(\"Current working directory:\", os.getcwd())"
   ]
  },
  {
   "cell_type": "code",
   "execution_count": 3,
   "id": "2dce4c03",
   "metadata": {
    "execution": {
     "iopub.execute_input": "2025-07-30T13:10:45.528761Z",
     "iopub.status.busy": "2025-07-30T13:10:45.528318Z",
     "iopub.status.idle": "2025-07-30T13:10:45.534315Z",
     "shell.execute_reply": "2025-07-30T13:10:45.533498Z"
    },
    "papermill": {
     "duration": 0.030881,
     "end_time": "2025-07-30T13:10:45.535944",
     "exception": false,
     "start_time": "2025-07-30T13:10:45.505063",
     "status": "completed"
    },
    "tags": [
     "parameters"
    ]
   },
   "outputs": [],
   "source": [
    "run_no = 0\n",
    "universe_id = \"test\"\n",
    "universe = {\n",
    "    \"training_size\": \"25k\", # \"25k\", \"5k\", \"1k\"\n",
    "    \"training_year\": \"2014\", # \"2014\", \"2012_14\", \"2010_14\"\n",
    "    \"scale\": \"scale\", # \"scale\", \"do-not-scale\",\n",
    "    #\"stratify_split\": \"target\", # \"none\", \"target\", \"protected-attribute\", \"both\",\n",
    "    \"model\": \"elasticnet\", # \"logreg\", \"penalized_logreg\", \"rf\", \"gbm\", \"elasticnet\"\n",
    "    \"cutoff\": [\"quantile_0.15\", \"quantile_0.30\"],\n",
    "    \"exclude_features\": \"age\", # \"none\", \"nationality\", \"sex\", \"nationality-sex\", \"age\"\n",
    "    \"exclude_subgroups\": \"keep-all\", # \"keep-all\", \"drop-non-german\"\n",
    "    \"eval_fairness_grouping\": [\"majority-minority\", \"nationality-all\"]\n",
    "}\n",
    "\n",
    "output_dir=\"./output\"\n",
    "seed=0"
   ]
  },
  {
   "cell_type": "code",
   "execution_count": 4,
   "id": "2b949671",
   "metadata": {
    "execution": {
     "iopub.execute_input": "2025-07-30T13:10:45.581456Z",
     "iopub.status.busy": "2025-07-30T13:10:45.580761Z",
     "iopub.status.idle": "2025-07-30T13:10:45.586595Z",
     "shell.execute_reply": "2025-07-30T13:10:45.585466Z"
    },
    "papermill": {
     "duration": 0.030463,
     "end_time": "2025-07-30T13:10:45.588247",
     "exception": false,
     "start_time": "2025-07-30T13:10:45.557784",
     "status": "completed"
    },
    "tags": [
     "injected-parameters"
    ]
   },
   "outputs": [],
   "source": [
    "# Parameters\n",
    "universe_id = \"c0bcf10f417b274f04cc681c6171ea79\"\n",
    "run_no = \"12\"\n",
    "universe = \"{\\\"cutoff\\\": [\\\"quantile_0.1\\\", \\\"quantile_0.25\\\"], \\\"eval_fairness_grouping\\\": [\\\"majority-minority\\\", \\\"nationality-all\\\"], \\\"exclude_features\\\": \\\"nationality-sex\\\", \\\"exclude_subgroups\\\": \\\"drop-non-german\\\", \\\"model\\\": \\\"elasticnet\\\", \\\"scale\\\": \\\"scale\\\", \\\"training_size\\\": \\\"25k\\\", \\\"training_year\\\": \\\"2012_14\\\"}\"\n",
    "output_dir = \"output\"\n",
    "seed = \"2023\"\n"
   ]
  },
  {
   "cell_type": "code",
   "execution_count": 5,
   "id": "1650acaf",
   "metadata": {
    "execution": {
     "iopub.execute_input": "2025-07-30T13:10:45.635051Z",
     "iopub.status.busy": "2025-07-30T13:10:45.634246Z",
     "iopub.status.idle": "2025-07-30T13:10:45.639581Z",
     "shell.execute_reply": "2025-07-30T13:10:45.638648Z"
    },
    "papermill": {
     "duration": 0.030412,
     "end_time": "2025-07-30T13:10:45.641369",
     "exception": false,
     "start_time": "2025-07-30T13:10:45.610957",
     "status": "completed"
    },
    "tags": []
   },
   "outputs": [],
   "source": [
    "import json\n",
    "# Parse universe into dict if it is passed as a string\n",
    "if isinstance(universe, str):\n",
    "    universe = json.loads(universe)"
   ]
  },
  {
   "cell_type": "code",
   "execution_count": 6,
   "id": "16620c48",
   "metadata": {
    "execution": {
     "iopub.execute_input": "2025-07-30T13:10:45.687034Z",
     "iopub.status.busy": "2025-07-30T13:10:45.686083Z",
     "iopub.status.idle": "2025-07-30T13:10:45.731072Z",
     "shell.execute_reply": "2025-07-30T13:10:45.730199Z"
    },
    "papermill": {
     "duration": 0.069807,
     "end_time": "2025-07-30T13:10:45.733045",
     "exception": false,
     "start_time": "2025-07-30T13:10:45.663238",
     "status": "completed"
    },
    "tags": []
   },
   "outputs": [],
   "source": [
    "# Auto-reload the custom package\n",
    "%load_ext autoreload\n",
    "%autoreload 1\n",
    "%aimport fairness_multiverse"
   ]
  },
  {
   "cell_type": "code",
   "execution_count": 7,
   "id": "01c5c9f3",
   "metadata": {
    "execution": {
     "iopub.execute_input": "2025-07-30T13:10:45.773199Z",
     "iopub.status.busy": "2025-07-30T13:10:45.771939Z",
     "iopub.status.idle": "2025-07-30T13:10:47.603495Z",
     "shell.execute_reply": "2025-07-30T13:10:47.602525Z"
    },
    "papermill": {
     "duration": 1.852939,
     "end_time": "2025-07-30T13:10:47.605538",
     "exception": false,
     "start_time": "2025-07-30T13:10:45.752599",
     "status": "completed"
    },
    "tags": []
   },
   "outputs": [],
   "source": [
    "from fairness_multiverse.universe import UniverseAnalysis\n",
    "\n",
    "universe_analysis = UniverseAnalysis(\n",
    "    run_no = run_no,\n",
    "    universe_id = universe_id,\n",
    "    universe = universe,\n",
    "    output_dir=output_dir,\n",
    ")"
   ]
  },
  {
   "cell_type": "code",
   "execution_count": 8,
   "id": "106241f5",
   "metadata": {
    "execution": {
     "iopub.execute_input": "2025-07-30T13:10:47.657443Z",
     "iopub.status.busy": "2025-07-30T13:10:47.656892Z",
     "iopub.status.idle": "2025-07-30T13:10:47.663507Z",
     "shell.execute_reply": "2025-07-30T13:10:47.662710Z"
    },
    "papermill": {
     "duration": 0.039289,
     "end_time": "2025-07-30T13:10:47.665149",
     "exception": false,
     "start_time": "2025-07-30T13:10:47.625860",
     "status": "completed"
    },
    "tags": []
   },
   "outputs": [
    {
     "name": "stdout",
     "output_type": "stream",
     "text": [
      "Using Seed: 2023\n"
     ]
    }
   ],
   "source": [
    "import numpy as np\n",
    "parsed_seed = int(seed)\n",
    "np.random.seed(parsed_seed)\n",
    "print(f\"Using Seed: {parsed_seed}\")"
   ]
  },
  {
   "cell_type": "markdown",
   "id": "e0ebdc57",
   "metadata": {
    "papermill": {
     "duration": 0.019136,
     "end_time": "2025-07-30T13:10:47.704869",
     "exception": false,
     "start_time": "2025-07-30T13:10:47.685733",
     "status": "completed"
    },
    "tags": []
   },
   "source": [
    "# Loading Data"
   ]
  },
  {
   "cell_type": "markdown",
   "id": "681925a3",
   "metadata": {
    "papermill": {
     "duration": 0.020243,
     "end_time": "2025-07-30T13:10:47.745547",
     "exception": false,
     "start_time": "2025-07-30T13:10:47.725304",
     "status": "completed"
    },
    "tags": []
   },
   "source": [
    "Load siab_train, siab_test, siab_calib and/or \n",
    "load siab_train_features, siab_train_labels"
   ]
  },
  {
   "cell_type": "code",
   "execution_count": 9,
   "id": "f0496b8a",
   "metadata": {
    "execution": {
     "iopub.execute_input": "2025-07-30T13:10:47.786839Z",
     "iopub.status.busy": "2025-07-30T13:10:47.786377Z",
     "iopub.status.idle": "2025-07-30T13:10:59.870665Z",
     "shell.execute_reply": "2025-07-30T13:10:59.869579Z"
    },
    "papermill": {
     "duration": 12.106688,
     "end_time": "2025-07-30T13:10:59.872274",
     "exception": false,
     "start_time": "2025-07-30T13:10:47.765586",
     "status": "completed"
    },
    "tags": []
   },
   "outputs": [
    {
     "name": "stdout",
     "output_type": "stream",
     "text": [
      "Loading SIAB data from cache: data/siab_cached.csv.gz\n"
     ]
    },
    {
     "name": "stdout",
     "output_type": "stream",
     "text": [
      "(643690, 164)\n"
     ]
    }
   ],
   "source": [
    "from pathlib import Path\n",
    "import pandas as pd\n",
    "\n",
    "# File paths\n",
    "raw_file = Path(\"data/raw/siab.csv\")\n",
    "cache_file = Path(\"data/siab_cached.csv.gz\")\n",
    "\n",
    "# Ensure cache directory exists\n",
    "cache_file.parent.mkdir(parents=True, exist_ok=True)\n",
    "\n",
    "# Load with simple caching\n",
    "if cache_file.exists():\n",
    "    print(f\"Loading SIAB data from cache: {cache_file}\")\n",
    "    siab = pd.read_csv(cache_file, compression='gzip')\n",
    "else:\n",
    "    print(f\"Cache not found. Reading raw SIAB data: {raw_file}\")\n",
    "    siab = pd.read_csv(raw_file)\n",
    "    siab.to_csv(cache_file, index=False, compression='gzip')\n",
    "    print(f\"Cached SIAB data to: {cache_file}\")\n",
    "\n",
    "# Now use `siab` DataFrame as needed\n",
    "print(siab.shape)"
   ]
  },
  {
   "cell_type": "code",
   "execution_count": 10,
   "id": "db0ca512-5f53-4dba-abdb-a2888bca41ba",
   "metadata": {
    "execution": {
     "iopub.execute_input": "2025-07-30T13:10:59.917201Z",
     "iopub.status.busy": "2025-07-30T13:10:59.916681Z",
     "iopub.status.idle": "2025-07-30T13:10:59.923130Z",
     "shell.execute_reply": "2025-07-30T13:10:59.922271Z"
    },
    "papermill": {
     "duration": 0.02957,
     "end_time": "2025-07-30T13:10:59.924733",
     "exception": false,
     "start_time": "2025-07-30T13:10:59.895163",
     "status": "completed"
    },
    "tags": []
   },
   "outputs": [],
   "source": [
    "#siab"
   ]
  },
  {
   "cell_type": "code",
   "execution_count": 11,
   "id": "a0edb063",
   "metadata": {
    "execution": {
     "iopub.execute_input": "2025-07-30T13:10:59.966488Z",
     "iopub.status.busy": "2025-07-30T13:10:59.966009Z",
     "iopub.status.idle": "2025-07-30T13:10:59.970979Z",
     "shell.execute_reply": "2025-07-30T13:10:59.969972Z"
    },
    "papermill": {
     "duration": 0.027566,
     "end_time": "2025-07-30T13:10:59.972533",
     "exception": false,
     "start_time": "2025-07-30T13:10:59.944967",
     "status": "completed"
    },
    "tags": []
   },
   "outputs": [],
   "source": [
    "#import pandas as pd\n",
    "#\n",
    "#X_train = pd.read_csv(\"./data/X_train.csv\")\n",
    "#y_train = pd.read_csv(\"./data/y_train.csv\")"
   ]
  },
  {
   "cell_type": "code",
   "execution_count": 12,
   "id": "63d08085",
   "metadata": {
    "execution": {
     "iopub.execute_input": "2025-07-30T13:11:00.013771Z",
     "iopub.status.busy": "2025-07-30T13:11:00.012934Z",
     "iopub.status.idle": "2025-07-30T13:11:00.018172Z",
     "shell.execute_reply": "2025-07-30T13:11:00.017204Z"
    },
    "papermill": {
     "duration": 0.027249,
     "end_time": "2025-07-30T13:11:00.019867",
     "exception": false,
     "start_time": "2025-07-30T13:10:59.992618",
     "status": "completed"
    },
    "tags": []
   },
   "outputs": [],
   "source": [
    "#X_test = pd.read_csv(\"./data/X_test.csv\")\n",
    "#y_true = pd.read_csv(\"./data/y_test.csv\")"
   ]
  },
  {
   "cell_type": "code",
   "execution_count": 13,
   "id": "98a8d0fa-1d3d-4ed8-bb2c-281470e24add",
   "metadata": {
    "execution": {
     "iopub.execute_input": "2025-07-30T13:11:00.061232Z",
     "iopub.status.busy": "2025-07-30T13:11:00.060579Z",
     "iopub.status.idle": "2025-07-30T13:11:00.065432Z",
     "shell.execute_reply": "2025-07-30T13:11:00.064433Z"
    },
    "papermill": {
     "duration": 0.026948,
     "end_time": "2025-07-30T13:11:00.066986",
     "exception": false,
     "start_time": "2025-07-30T13:11:00.040038",
     "status": "completed"
    },
    "tags": []
   },
   "outputs": [],
   "source": [
    "# Calibration data for conformal\n",
    "#X_calib = pd.read_csv(\"./data/X_calib.csv\")\n",
    "#y_calib = pd.read_csv(\"./data/y_calib.csv\")"
   ]
  },
  {
   "cell_type": "markdown",
   "id": "997051c5-15bd-4b69-9786-c3001a3ce484",
   "metadata": {
    "papermill": {
     "duration": 0.022891,
     "end_time": "2025-07-30T13:11:00.110739",
     "exception": false,
     "start_time": "2025-07-30T13:11:00.087848",
     "status": "completed"
    },
    "tags": []
   },
   "source": [
    "# Splitting Data and Setting Training Data Size"
   ]
  },
  {
   "cell_type": "code",
   "execution_count": 14,
   "id": "e993b61f-042d-41a6-8c81-f55681f86335",
   "metadata": {
    "execution": {
     "iopub.execute_input": "2025-07-30T13:11:00.153320Z",
     "iopub.status.busy": "2025-07-30T13:11:00.152623Z",
     "iopub.status.idle": "2025-07-30T13:11:00.165842Z",
     "shell.execute_reply": "2025-07-30T13:11:00.164936Z"
    },
    "papermill": {
     "duration": 0.036182,
     "end_time": "2025-07-30T13:11:00.167533",
     "exception": false,
     "start_time": "2025-07-30T13:11:00.131351",
     "status": "completed"
    },
    "tags": []
   },
   "outputs": [],
   "source": [
    "def sample_by_year_size(df,\n",
    "                        training_year: str,\n",
    "                        training_size: str,\n",
    "                        random_state: int = 42):\n",
    "    # --- parse training_year into a list of int years ---\n",
    "    if \"_\" in training_year:\n",
    "        start_str, end_str = training_year.split(\"_\", 1)\n",
    "        start = int(start_str)\n",
    "        end   = int(end_str) if len(end_str) == 4 else (int(end_str) + (start // 100)*100)\n",
    "        years = list(range(start, end + 1))\n",
    "    else:\n",
    "        years = [int(training_year)]\n",
    "\n",
    "    df = df[df[\"year\"].isin(years)].reset_index(drop=True)\n",
    "\n",
    "    # --- map training_size to total number of samples ---\n",
    "    total_map = {\"25k\": 25_000, \"5k\": 5_000, \"1k\": 1_000}\n",
    "    if training_size not in total_map:\n",
    "        return df  # e.g. \"all\"\n",
    "\n",
    "    total_samples = total_map[training_size]\n",
    "    n_years       = len(years)\n",
    "    base          = total_samples // n_years\n",
    "    remainder     = total_samples % n_years\n",
    "\n",
    "    # --- build a dict: year -> how many to sample ---\n",
    "    # give +1 to the first `remainder` years in ascending order\n",
    "    quotas = {\n",
    "        year: base + (1 if idx < remainder else 0)\n",
    "        for idx, year in enumerate(sorted(years))\n",
    "    }\n",
    "\n",
    "    # --- sample per‐year according to the quota dict ---\n",
    "    sampled = (\n",
    "        df\n",
    "        .groupby(\"year\", group_keys=False)\n",
    "        .apply(lambda grp: grp.sample(\n",
    "            n=min(len(grp), quotas[grp.name]),\n",
    "            random_state=random_state))\n",
    "        .reset_index(drop=True)\n",
    "    )\n",
    "\n",
    "    return sampled"
   ]
  },
  {
   "cell_type": "code",
   "execution_count": 15,
   "id": "c0ccd338-0e02-41f3-a09d-f56f9266e3fb",
   "metadata": {
    "execution": {
     "iopub.execute_input": "2025-07-30T13:11:00.209233Z",
     "iopub.status.busy": "2025-07-30T13:11:00.208613Z",
     "iopub.status.idle": "2025-07-30T13:11:00.219327Z",
     "shell.execute_reply": "2025-07-30T13:11:00.218411Z"
    },
    "papermill": {
     "duration": 0.0327,
     "end_time": "2025-07-30T13:11:00.220878",
     "exception": false,
     "start_time": "2025-07-30T13:11:00.188178",
     "status": "completed"
    },
    "tags": []
   },
   "outputs": [
    {
     "data": {
      "text/plain": [
       "'25k'"
      ]
     },
     "execution_count": 15,
     "metadata": {},
     "output_type": "execute_result"
    }
   ],
   "source": [
    "universe[\"training_size\"]"
   ]
  },
  {
   "cell_type": "code",
   "execution_count": 16,
   "id": "ca707fd7-8047-4acd-bfa5-66248fbbf8e6",
   "metadata": {
    "execution": {
     "iopub.execute_input": "2025-07-30T13:11:00.263588Z",
     "iopub.status.busy": "2025-07-30T13:11:00.262941Z",
     "iopub.status.idle": "2025-07-30T13:11:00.270726Z",
     "shell.execute_reply": "2025-07-30T13:11:00.269799Z"
    },
    "papermill": {
     "duration": 0.030729,
     "end_time": "2025-07-30T13:11:00.272522",
     "exception": false,
     "start_time": "2025-07-30T13:11:00.241793",
     "status": "completed"
    },
    "tags": []
   },
   "outputs": [
    {
     "data": {
      "text/plain": [
       "'2012_14'"
      ]
     },
     "execution_count": 16,
     "metadata": {},
     "output_type": "execute_result"
    }
   ],
   "source": [
    "universe[\"training_year\"]"
   ]
  },
  {
   "cell_type": "code",
   "execution_count": 17,
   "id": "aea9c6ef-6f46-42c8-85eb-5a62025c1508",
   "metadata": {
    "execution": {
     "iopub.execute_input": "2025-07-30T13:11:00.314836Z",
     "iopub.status.busy": "2025-07-30T13:11:00.314391Z",
     "iopub.status.idle": "2025-07-30T13:11:00.965656Z",
     "shell.execute_reply": "2025-07-30T13:11:00.964710Z"
    },
    "papermill": {
     "duration": 0.674615,
     "end_time": "2025-07-30T13:11:00.967435",
     "exception": false,
     "start_time": "2025-07-30T13:11:00.292820",
     "status": "completed"
    },
    "tags": []
   },
   "outputs": [],
   "source": [
    "siab_train = sample_by_year_size(siab,\n",
    "                               training_year=universe[\"training_year\"],\n",
    "                               training_size=universe[\"training_size\"])"
   ]
  },
  {
   "cell_type": "code",
   "execution_count": 18,
   "id": "8d3afb32-789d-442c-8d5d-9f5aa8dd2eed",
   "metadata": {
    "execution": {
     "iopub.execute_input": "2025-07-30T13:11:01.011154Z",
     "iopub.status.busy": "2025-07-30T13:11:01.010708Z",
     "iopub.status.idle": "2025-07-30T13:11:01.017806Z",
     "shell.execute_reply": "2025-07-30T13:11:01.016969Z"
    },
    "papermill": {
     "duration": 0.0306,
     "end_time": "2025-07-30T13:11:01.019331",
     "exception": false,
     "start_time": "2025-07-30T13:11:00.988731",
     "status": "completed"
    },
    "tags": []
   },
   "outputs": [
    {
     "data": {
      "text/plain": [
       "(25000, 164)"
      ]
     },
     "execution_count": 18,
     "metadata": {},
     "output_type": "execute_result"
    }
   ],
   "source": [
    "siab_train.shape"
   ]
  },
  {
   "cell_type": "code",
   "execution_count": 19,
   "id": "d582db68-1a4c-47fb-84fc-08518dc1975a",
   "metadata": {
    "execution": {
     "iopub.execute_input": "2025-07-30T13:11:01.063507Z",
     "iopub.status.busy": "2025-07-30T13:11:01.062501Z",
     "iopub.status.idle": "2025-07-30T13:11:01.072169Z",
     "shell.execute_reply": "2025-07-30T13:11:01.071226Z"
    },
    "papermill": {
     "duration": 0.034088,
     "end_time": "2025-07-30T13:11:01.074002",
     "exception": false,
     "start_time": "2025-07-30T13:11:01.039914",
     "status": "completed"
    },
    "tags": []
   },
   "outputs": [
    {
     "data": {
      "text/plain": [
       "year\n",
       "2012    8334\n",
       "2013    8333\n",
       "2014    8333\n",
       "dtype: int64"
      ]
     },
     "metadata": {},
     "output_type": "display_data"
    }
   ],
   "source": [
    "display(siab_train.groupby(\"year\").size())"
   ]
  },
  {
   "cell_type": "code",
   "execution_count": 20,
   "id": "a561edb4-d032-42cb-8256-22eac1111c64",
   "metadata": {
    "execution": {
     "iopub.execute_input": "2025-07-30T13:11:01.118957Z",
     "iopub.status.busy": "2025-07-30T13:11:01.118015Z",
     "iopub.status.idle": "2025-07-30T13:11:01.348926Z",
     "shell.execute_reply": "2025-07-30T13:11:01.347970Z"
    },
    "papermill": {
     "duration": 0.255332,
     "end_time": "2025-07-30T13:11:01.350845",
     "exception": false,
     "start_time": "2025-07-30T13:11:01.095513",
     "status": "completed"
    },
    "tags": []
   },
   "outputs": [],
   "source": [
    "#siab_train = siab_s[siab_s.year < 2015]\n",
    "siab_calib = siab[siab.year == 2015]\n",
    "siab_test = siab[siab.year == 2016]"
   ]
  },
  {
   "cell_type": "code",
   "execution_count": 21,
   "id": "472de16f-c3db-4916-846b-1f0de9cf1746",
   "metadata": {
    "execution": {
     "iopub.execute_input": "2025-07-30T13:11:01.393766Z",
     "iopub.status.busy": "2025-07-30T13:11:01.393288Z",
     "iopub.status.idle": "2025-07-30T13:11:01.407794Z",
     "shell.execute_reply": "2025-07-30T13:11:01.406770Z"
    },
    "papermill": {
     "duration": 0.037568,
     "end_time": "2025-07-30T13:11:01.409458",
     "exception": false,
     "start_time": "2025-07-30T13:11:01.371890",
     "status": "completed"
    },
    "tags": []
   },
   "outputs": [],
   "source": [
    "X_train = siab_train.iloc[:,4:164]\n",
    "y_train = siab_train.iloc[:, [3]]"
   ]
  },
  {
   "cell_type": "code",
   "execution_count": 22,
   "id": "828c96af-f43a-4ed6-ba47-8ac73a47d56c",
   "metadata": {
    "execution": {
     "iopub.execute_input": "2025-07-30T13:11:01.453155Z",
     "iopub.status.busy": "2025-07-30T13:11:01.452332Z",
     "iopub.status.idle": "2025-07-30T13:11:01.503914Z",
     "shell.execute_reply": "2025-07-30T13:11:01.502873Z"
    },
    "papermill": {
     "duration": 0.074931,
     "end_time": "2025-07-30T13:11:01.506010",
     "exception": false,
     "start_time": "2025-07-30T13:11:01.431079",
     "status": "completed"
    },
    "tags": []
   },
   "outputs": [],
   "source": [
    "X_calib = siab_calib.iloc[:,4:164]\n",
    "y_calib = siab_calib.iloc[:, [3]]"
   ]
  },
  {
   "cell_type": "code",
   "execution_count": 23,
   "id": "c34be9c3-6bd6-476e-acd3-845840e303be",
   "metadata": {
    "execution": {
     "iopub.execute_input": "2025-07-30T13:11:01.550191Z",
     "iopub.status.busy": "2025-07-30T13:11:01.549710Z",
     "iopub.status.idle": "2025-07-30T13:11:01.602400Z",
     "shell.execute_reply": "2025-07-30T13:11:01.601377Z"
    },
    "papermill": {
     "duration": 0.076446,
     "end_time": "2025-07-30T13:11:01.604108",
     "exception": false,
     "start_time": "2025-07-30T13:11:01.527662",
     "status": "completed"
    },
    "tags": []
   },
   "outputs": [],
   "source": [
    "X_test = siab_test.iloc[:,4:164]\n",
    "y_true = siab_test.iloc[:, [3]]"
   ]
  },
  {
   "cell_type": "markdown",
   "id": "9901737e-04df-44f0-9100-f5ad144ed040",
   "metadata": {
    "papermill": {
     "duration": 0.023082,
     "end_time": "2025-07-30T13:11:01.648620",
     "exception": false,
     "start_time": "2025-07-30T13:11:01.625538",
     "status": "completed"
    },
    "tags": []
   },
   "source": [
    "# Splitting Data and Setting Training Data Size OLD VERSION"
   ]
  },
  {
   "cell_type": "code",
   "execution_count": 24,
   "id": "acbc8f7d-8fc8-4e86-8c59-5dcb0f58384b",
   "metadata": {
    "execution": {
     "iopub.execute_input": "2025-07-30T13:11:01.696657Z",
     "iopub.status.busy": "2025-07-30T13:11:01.695394Z",
     "iopub.status.idle": "2025-07-30T13:11:01.701952Z",
     "shell.execute_reply": "2025-07-30T13:11:01.700836Z"
    },
    "papermill": {
     "duration": 0.033784,
     "end_time": "2025-07-30T13:11:01.703751",
     "exception": false,
     "start_time": "2025-07-30T13:11:01.669967",
     "status": "completed"
    },
    "tags": []
   },
   "outputs": [],
   "source": [
    "#def sample_by_year(df, training_size, random_state=42):\n",
    "#    if training_size == \"2014\":\n",
    "#        return df[df[\"year\"] == 2014].reset_index(drop=True)\n",
    "#    \n",
    "#    size_map = {\n",
    "#        \"25k\": 5000,\n",
    "#        \"5k\": 1000,\n",
    "#        \"1k\": 200\n",
    "#    }\n",
    "#\n",
    "#    if training_size not in size_map:\n",
    "#        return df.reset_index(drop=True)  # use all data\n",
    "#\n",
    "#    n_per_year = size_map[training_size]\n",
    "#    grouped = df.groupby(\"year\")\n",
    "#    sampled = grouped.apply(lambda x: x.sample(n=min(n_per_year, len(x)), random_state=random_state))\n",
    "#    return sampled.reset_index(drop=True)"
   ]
  },
  {
   "cell_type": "code",
   "execution_count": 25,
   "id": "6d931f52-beaf-43ff-9e78-9d44a448d54e",
   "metadata": {
    "execution": {
     "iopub.execute_input": "2025-07-30T13:11:01.749393Z",
     "iopub.status.busy": "2025-07-30T13:11:01.748460Z",
     "iopub.status.idle": "2025-07-30T13:11:01.753488Z",
     "shell.execute_reply": "2025-07-30T13:11:01.752583Z"
    },
    "papermill": {
     "duration": 0.029132,
     "end_time": "2025-07-30T13:11:01.755102",
     "exception": false,
     "start_time": "2025-07-30T13:11:01.725970",
     "status": "completed"
    },
    "tags": []
   },
   "outputs": [],
   "source": [
    "#siab_s = sample_by_year(siab, universe[\"training_size\"])"
   ]
  },
  {
   "cell_type": "code",
   "execution_count": 26,
   "id": "5db0a40e-a4e2-4920-be85-b12ae061d70d",
   "metadata": {
    "execution": {
     "iopub.execute_input": "2025-07-30T13:11:01.801170Z",
     "iopub.status.busy": "2025-07-30T13:11:01.800478Z",
     "iopub.status.idle": "2025-07-30T13:11:01.805609Z",
     "shell.execute_reply": "2025-07-30T13:11:01.804720Z"
    },
    "papermill": {
     "duration": 0.029754,
     "end_time": "2025-07-30T13:11:01.807279",
     "exception": false,
     "start_time": "2025-07-30T13:11:01.777525",
     "status": "completed"
    },
    "tags": []
   },
   "outputs": [],
   "source": [
    "#display(siab_s.groupby(\"year\").size())"
   ]
  },
  {
   "cell_type": "code",
   "execution_count": 27,
   "id": "e6c733c5",
   "metadata": {
    "execution": {
     "iopub.execute_input": "2025-07-30T13:11:01.852753Z",
     "iopub.status.busy": "2025-07-30T13:11:01.852012Z",
     "iopub.status.idle": "2025-07-30T13:11:01.949411Z",
     "shell.execute_reply": "2025-07-30T13:11:01.948395Z"
    },
    "papermill": {
     "duration": 0.122219,
     "end_time": "2025-07-30T13:11:01.951510",
     "exception": false,
     "start_time": "2025-07-30T13:11:01.829291",
     "status": "completed"
    },
    "tags": []
   },
   "outputs": [],
   "source": [
    "# Auxiliary data needed downstream in the pipeline\n",
    "\n",
    "org_train = X_train.copy()\n",
    "org_test = X_test.copy()\n",
    "org_calib = X_calib.copy()"
   ]
  },
  {
   "cell_type": "code",
   "execution_count": 28,
   "id": "1466abac-c6da-4492-a62f-4240ae3783af",
   "metadata": {
    "execution": {
     "iopub.execute_input": "2025-07-30T13:11:01.998319Z",
     "iopub.status.busy": "2025-07-30T13:11:01.997681Z",
     "iopub.status.idle": "2025-07-30T13:11:02.003396Z",
     "shell.execute_reply": "2025-07-30T13:11:02.002481Z"
    },
    "papermill": {
     "duration": 0.030174,
     "end_time": "2025-07-30T13:11:02.005059",
     "exception": false,
     "start_time": "2025-07-30T13:11:01.974885",
     "status": "completed"
    },
    "tags": []
   },
   "outputs": [],
   "source": [
    "# put in other script?\n",
    "# Group sizes\n",
    "\n",
    "#def calculate_percentages(df, df_name):\n",
    "#    total_entries = len(df)\n",
    "#\n",
    "#    female_pct = (df['frau1'] == 1).mean() * 100\n",
    "#    non_german_pct = ((df['maxdeutsch1'] == 0) & (df['maxdeutsch.Missing.'] == 0)).mean() * 100\n",
    "#    non_german_male_pct = ((df['frau1'] == 0) & (df['maxdeutsch1'] == 0) & (df['maxdeutsch.Missing.'] == 0)).mean() * 100\n",
    "#    non_german_female_pct = ((df['frau1'] == 1) & (df['maxdeutsch1'] == 0) & (df['maxdeutsch.Missing.'] == 0)).mean() * 100\n",
    "#\n",
    "#    print(f\"--- {df_name} ---\")\n",
    "#    print(f\"Female: {female_pct:.2f}%\")\n",
    "#    print(f\"Non-German: {non_german_pct:.2f}%\")\n",
    "#    print(f\"Non-German Male: {non_german_male_pct:.2f}%\")\n",
    "#    print(f\"Non-German Female: {non_german_female_pct:.2f}%\\n\")\n",
    "#\n",
    "## Calculate for each DataFrame\n",
    "#calculate_percentages(siab_calib, \"siab_calib\")\n",
    "#calculate_percentages(siab_test, \"siab_test\")\n",
    "#calculate_percentages(siab_train, \"siab_train\")"
   ]
  },
  {
   "cell_type": "markdown",
   "id": "0a4a1b33",
   "metadata": {
    "papermill": {
     "duration": 0.021099,
     "end_time": "2025-07-30T13:11:02.049090",
     "exception": false,
     "start_time": "2025-07-30T13:11:02.027991",
     "status": "completed"
    },
    "tags": []
   },
   "source": [
    "# Preprocessing Data"
   ]
  },
  {
   "cell_type": "code",
   "execution_count": 29,
   "id": "ca879031",
   "metadata": {
    "execution": {
     "iopub.execute_input": "2025-07-30T13:11:02.095403Z",
     "iopub.status.busy": "2025-07-30T13:11:02.094765Z",
     "iopub.status.idle": "2025-07-30T13:11:02.100981Z",
     "shell.execute_reply": "2025-07-30T13:11:02.099917Z"
    },
    "papermill": {
     "duration": 0.030312,
     "end_time": "2025-07-30T13:11:02.102434",
     "exception": false,
     "start_time": "2025-07-30T13:11:02.072122",
     "status": "completed"
    },
    "tags": []
   },
   "outputs": [],
   "source": [
    "# EXCLUDE PROTECTED FEATURES\n",
    "# ----------------------\n",
    "# \"exclude_features\": \"none\", # \"nationality\", \"sex\", \"nationality-sex\"\n",
    "\n",
    "excluded_features = universe[\"exclude_features\"].split(\"-\") # split, e.g.: \"nationality-sex\" -> [\"nationality\", \"sex\"]\n",
    "excluded_features_dictionary = {\n",
    "    \"nationality\": [\"maxdeutsch1\", \"maxdeutsch.Missing.\"],\n",
    "    \"sex\": [\"frau1\"],\n",
    "    \"age\": [\"age\"],\n",
    "}\n"
   ]
  },
  {
   "cell_type": "code",
   "execution_count": 30,
   "id": "b745ac60",
   "metadata": {
    "execution": {
     "iopub.execute_input": "2025-07-30T13:11:02.146061Z",
     "iopub.status.busy": "2025-07-30T13:11:02.145592Z",
     "iopub.status.idle": "2025-07-30T13:11:02.151927Z",
     "shell.execute_reply": "2025-07-30T13:11:02.151057Z"
    },
    "papermill": {
     "duration": 0.030031,
     "end_time": "2025-07-30T13:11:02.153718",
     "exception": false,
     "start_time": "2025-07-30T13:11:02.123687",
     "status": "completed"
    },
    "tags": []
   },
   "outputs": [],
   "source": [
    "# Code nice names to column names\n",
    "\n",
    "excluded_features_columns = [\n",
    "    excluded_features_dictionary[f] for f in excluded_features if len(f) > 0 and f != \"none\"\n",
    "]"
   ]
  },
  {
   "cell_type": "code",
   "execution_count": 31,
   "id": "f84f73a2",
   "metadata": {
    "execution": {
     "iopub.execute_input": "2025-07-30T13:11:02.198512Z",
     "iopub.status.busy": "2025-07-30T13:11:02.198062Z",
     "iopub.status.idle": "2025-07-30T13:11:02.204689Z",
     "shell.execute_reply": "2025-07-30T13:11:02.203765Z"
    },
    "papermill": {
     "duration": 0.031006,
     "end_time": "2025-07-30T13:11:02.206432",
     "exception": false,
     "start_time": "2025-07-30T13:11:02.175426",
     "status": "completed"
    },
    "tags": []
   },
   "outputs": [],
   "source": [
    "from utils import flatten_once\n",
    "\n",
    "excluded_features_columns = flatten_once(excluded_features_columns)"
   ]
  },
  {
   "cell_type": "code",
   "execution_count": 32,
   "id": "884dea22",
   "metadata": {
    "execution": {
     "iopub.execute_input": "2025-07-30T13:11:02.250152Z",
     "iopub.status.busy": "2025-07-30T13:11:02.249699Z",
     "iopub.status.idle": "2025-07-30T13:11:02.274994Z",
     "shell.execute_reply": "2025-07-30T13:11:02.274031Z"
    },
    "papermill": {
     "duration": 0.048471,
     "end_time": "2025-07-30T13:11:02.276443",
     "exception": false,
     "start_time": "2025-07-30T13:11:02.227972",
     "status": "completed"
    },
    "tags": []
   },
   "outputs": [
    {
     "name": "stdout",
     "output_type": "stream",
     "text": [
      "Dropping features: ['maxdeutsch1', 'maxdeutsch.Missing.', 'frau1']\n"
     ]
    }
   ],
   "source": [
    "if len(excluded_features_columns) > 0:\n",
    "    print(f\"Dropping features: {excluded_features_columns}\")\n",
    "    X_train.drop(excluded_features_columns, axis=1, inplace=True)"
   ]
  },
  {
   "cell_type": "code",
   "execution_count": 33,
   "id": "95ab8b16",
   "metadata": {
    "execution": {
     "iopub.execute_input": "2025-07-30T13:11:02.320969Z",
     "iopub.status.busy": "2025-07-30T13:11:02.320280Z",
     "iopub.status.idle": "2025-07-30T13:11:02.371579Z",
     "shell.execute_reply": "2025-07-30T13:11:02.370596Z"
    },
    "papermill": {
     "duration": 0.075234,
     "end_time": "2025-07-30T13:11:02.373098",
     "exception": false,
     "start_time": "2025-07-30T13:11:02.297864",
     "status": "completed"
    },
    "tags": []
   },
   "outputs": [
    {
     "name": "stdout",
     "output_type": "stream",
     "text": [
      "Dropping features: ['maxdeutsch1', 'maxdeutsch.Missing.', 'frau1']\n"
     ]
    }
   ],
   "source": [
    "if len(excluded_features_columns) > 0:\n",
    "    print(f\"Dropping features: {excluded_features_columns}\")\n",
    "    X_test.drop(excluded_features_columns, axis=1, inplace=True)"
   ]
  },
  {
   "cell_type": "code",
   "execution_count": 34,
   "id": "1853aaf5-fb9f-46cb-a2b5-8ea4ae2237e4",
   "metadata": {
    "execution": {
     "iopub.execute_input": "2025-07-30T13:11:02.418524Z",
     "iopub.status.busy": "2025-07-30T13:11:02.417879Z",
     "iopub.status.idle": "2025-07-30T13:11:02.470349Z",
     "shell.execute_reply": "2025-07-30T13:11:02.469438Z"
    },
    "papermill": {
     "duration": 0.07689,
     "end_time": "2025-07-30T13:11:02.471976",
     "exception": false,
     "start_time": "2025-07-30T13:11:02.395086",
     "status": "completed"
    },
    "tags": []
   },
   "outputs": [
    {
     "name": "stdout",
     "output_type": "stream",
     "text": [
      "Dropping features: ['maxdeutsch1', 'maxdeutsch.Missing.', 'frau1']\n"
     ]
    }
   ],
   "source": [
    "if len(excluded_features_columns) > 0:\n",
    "    print(f\"Dropping features: {excluded_features_columns}\")\n",
    "    X_calib.drop(excluded_features_columns, axis=1, inplace=True)"
   ]
  },
  {
   "cell_type": "code",
   "execution_count": 35,
   "id": "6727d079-03e5-481e-9d38-292a90b7a0a8",
   "metadata": {
    "execution": {
     "iopub.execute_input": "2025-07-30T13:11:02.520303Z",
     "iopub.status.busy": "2025-07-30T13:11:02.519640Z",
     "iopub.status.idle": "2025-07-30T13:11:02.524445Z",
     "shell.execute_reply": "2025-07-30T13:11:02.523478Z"
    },
    "papermill": {
     "duration": 0.030417,
     "end_time": "2025-07-30T13:11:02.526120",
     "exception": false,
     "start_time": "2025-07-30T13:11:02.495703",
     "status": "completed"
    },
    "tags": []
   },
   "outputs": [],
   "source": [
    "# SPLIT & STRATIFY DATA\n",
    "# ----------------------"
   ]
  },
  {
   "cell_type": "code",
   "execution_count": 36,
   "id": "76c4dc6d",
   "metadata": {
    "execution": {
     "iopub.execute_input": "2025-07-30T13:11:02.572547Z",
     "iopub.status.busy": "2025-07-30T13:11:02.571712Z",
     "iopub.status.idle": "2025-07-30T13:11:02.577037Z",
     "shell.execute_reply": "2025-07-30T13:11:02.576227Z"
    },
    "papermill": {
     "duration": 0.030233,
     "end_time": "2025-07-30T13:11:02.578570",
     "exception": false,
     "start_time": "2025-07-30T13:11:02.548337",
     "status": "completed"
    },
    "tags": []
   },
   "outputs": [],
   "source": [
    "# EXCLUDE CERTAIN SUBGROUPS\n",
    "# ----------------------\n",
    "\n",
    "mode = universe.get(\"exclude_subgroups\", \"keep-all\") \n",
    "# Fetches the exclude_subgroups setting from the universe dict.\n",
    "# Defaults to \"keep-all\" if the key is missing."
   ]
  },
  {
   "cell_type": "code",
   "execution_count": 37,
   "id": "21994072",
   "metadata": {
    "execution": {
     "iopub.execute_input": "2025-07-30T13:11:02.628226Z",
     "iopub.status.busy": "2025-07-30T13:11:02.627546Z",
     "iopub.status.idle": "2025-07-30T13:11:02.634517Z",
     "shell.execute_reply": "2025-07-30T13:11:02.633569Z"
    },
    "papermill": {
     "duration": 0.034255,
     "end_time": "2025-07-30T13:11:02.635986",
     "exception": false,
     "start_time": "2025-07-30T13:11:02.601731",
     "status": "completed"
    },
    "tags": []
   },
   "outputs": [],
   "source": [
    "if mode == \"keep-all\":\n",
    "    keep_mask = pd.Series(True, index=org_train.index)\n",
    "\n",
    "# org_train contains the original feature columns from features_org (in Simson)\n",
    "# features_org contains unprocessed features, for me X_train at beginning ???\n",
    "# For keep-all, creates a boolean Series (keep_mask) of all True, so no rows are removed.\n",
    "\n",
    "elif mode == \"drop-non-german\":\n",
    "    keep_mask = org_train[\"maxdeutsch1\"] == 1 # ??? what about missing values?\n",
    "\n",
    "else:\n",
    "    raise ValueError(f\"Unsupported mode for exclude_subgroups: {mode}\")\n"
   ]
  },
  {
   "cell_type": "code",
   "execution_count": 38,
   "id": "71651440",
   "metadata": {
    "execution": {
     "iopub.execute_input": "2025-07-30T13:11:02.684977Z",
     "iopub.status.busy": "2025-07-30T13:11:02.684326Z",
     "iopub.status.idle": "2025-07-30T13:11:02.691567Z",
     "shell.execute_reply": "2025-07-30T13:11:02.690648Z"
    },
    "papermill": {
     "duration": 0.033468,
     "end_time": "2025-07-30T13:11:02.693133",
     "exception": false,
     "start_time": "2025-07-30T13:11:02.659665",
     "status": "completed"
    },
    "tags": []
   },
   "outputs": [
    {
     "name": "stdout",
     "output_type": "stream",
     "text": [
      "Dropping 3481 rows (13.92%) where mode='drop-non-german'\n"
     ]
    }
   ],
   "source": [
    "n_drop = (~keep_mask).sum() # Calculates how many rows are set to be dropped\n",
    "if n_drop > 0:\n",
    "    pct = n_drop / len(keep_mask) * 100\n",
    "    print(f\"Dropping {n_drop} rows ({pct:.2f}%) where mode='{mode}'\")"
   ]
  },
  {
   "cell_type": "code",
   "execution_count": 39,
   "id": "5fb8eee5",
   "metadata": {
    "execution": {
     "iopub.execute_input": "2025-07-30T13:11:02.739770Z",
     "iopub.status.busy": "2025-07-30T13:11:02.739136Z",
     "iopub.status.idle": "2025-07-30T13:11:02.754347Z",
     "shell.execute_reply": "2025-07-30T13:11:02.753361Z"
    },
    "papermill": {
     "duration": 0.040547,
     "end_time": "2025-07-30T13:11:02.756157",
     "exception": false,
     "start_time": "2025-07-30T13:11:02.715610",
     "status": "completed"
    },
    "tags": []
   },
   "outputs": [],
   "source": [
    "X_train = X_train[keep_mask]"
   ]
  },
  {
   "cell_type": "code",
   "execution_count": 40,
   "id": "b202bb3a",
   "metadata": {
    "execution": {
     "iopub.execute_input": "2025-07-30T13:11:02.802525Z",
     "iopub.status.busy": "2025-07-30T13:11:02.801858Z",
     "iopub.status.idle": "2025-07-30T13:11:02.807777Z",
     "shell.execute_reply": "2025-07-30T13:11:02.807016Z"
    },
    "papermill": {
     "duration": 0.029712,
     "end_time": "2025-07-30T13:11:02.809246",
     "exception": false,
     "start_time": "2025-07-30T13:11:02.779534",
     "status": "completed"
    },
    "tags": []
   },
   "outputs": [],
   "source": [
    "y_train = y_train[keep_mask]"
   ]
  },
  {
   "cell_type": "markdown",
   "id": "493e2ac3",
   "metadata": {
    "papermill": {
     "duration": 0.022207,
     "end_time": "2025-07-30T13:11:02.854274",
     "exception": false,
     "start_time": "2025-07-30T13:11:02.832067",
     "status": "completed"
    },
    "tags": []
   },
   "source": [
    "# Model Training"
   ]
  },
  {
   "cell_type": "code",
   "execution_count": 41,
   "id": "679e1268",
   "metadata": {
    "execution": {
     "iopub.execute_input": "2025-07-30T13:11:02.905095Z",
     "iopub.status.busy": "2025-07-30T13:11:02.904253Z",
     "iopub.status.idle": "2025-07-30T13:11:03.011435Z",
     "shell.execute_reply": "2025-07-30T13:11:03.010599Z"
    },
    "papermill": {
     "duration": 0.134077,
     "end_time": "2025-07-30T13:11:03.013202",
     "exception": false,
     "start_time": "2025-07-30T13:11:02.879125",
     "status": "completed"
    },
    "tags": []
   },
   "outputs": [],
   "source": [
    "from sklearn.linear_model import LogisticRegression\n",
    "from sklearn.ensemble import GradientBoostingClassifier, RandomForestClassifier\n",
    "\n",
    "if (universe[\"model\"] == \"logreg\"):\n",
    "    model = LogisticRegression() #penalty=\"none\") #, solver=\"newton-cg\", max_iter=1) # include random_state=19 ?\n",
    "elif (universe[\"model\"] == \"penalized_logreg\"):\n",
    "    model = LogisticRegression(penalty=\"l2\", C=1.0) #, solver=\"newton-cg\", max_iter=1)\n",
    "elif (universe[\"model\"] == \"rf\"):\n",
    "    model = RandomForestClassifier(n_estimators=100, n_jobs=-1)\n",
    "elif (universe[\"model\"] == \"gbm\"):\n",
    "    model = GradientBoostingClassifier()\n",
    "elif (universe[\"model\"] == \"elasticnet\"):\n",
    "    model = LogisticRegression(penalty = 'elasticnet', solver = 'saga', l1_ratio = 0.5, max_iter=5000) # which solver to use?\n",
    "else:\n",
    "    raise \"Unsupported universe.model\""
   ]
  },
  {
   "cell_type": "code",
   "execution_count": 42,
   "id": "0cc8f744",
   "metadata": {
    "execution": {
     "iopub.execute_input": "2025-07-30T13:11:03.061668Z",
     "iopub.status.busy": "2025-07-30T13:11:03.061192Z",
     "iopub.status.idle": "2025-07-30T13:11:03.067501Z",
     "shell.execute_reply": "2025-07-30T13:11:03.066577Z"
    },
    "papermill": {
     "duration": 0.031912,
     "end_time": "2025-07-30T13:11:03.069321",
     "exception": false,
     "start_time": "2025-07-30T13:11:03.037409",
     "status": "completed"
    },
    "tags": []
   },
   "outputs": [],
   "source": [
    "import numpy as np\n",
    "from sklearn.pipeline import Pipeline\n",
    "from sklearn.preprocessing import StandardScaler\n",
    "\n",
    "model = Pipeline([\n",
    "    #(\"continuous_processor\", continuous_processor),\n",
    "    #(\"categorical_preprocessor\", categorical_preprocessor),\n",
    "    (\"scale\", StandardScaler() if universe[\"scale\"] == \"scale\" else None), \n",
    "    (\"model\", model),\n",
    "])"
   ]
  },
  {
   "cell_type": "code",
   "execution_count": 43,
   "id": "9442c04d",
   "metadata": {
    "execution": {
     "iopub.execute_input": "2025-07-30T13:11:03.116011Z",
     "iopub.status.busy": "2025-07-30T13:11:03.115329Z",
     "iopub.status.idle": "2025-07-30T13:11:24.942809Z",
     "shell.execute_reply": "2025-07-30T13:11:24.942004Z"
    },
    "papermill": {
     "duration": 21.851597,
     "end_time": "2025-07-30T13:11:24.944190",
     "exception": false,
     "start_time": "2025-07-30T13:11:03.092593",
     "status": "completed"
    },
    "tags": []
   },
   "outputs": [
    {
     "data": {
      "text/html": [
       "<style>#sk-container-id-1 {color: black;background-color: white;}#sk-container-id-1 pre{padding: 0;}#sk-container-id-1 div.sk-toggleable {background-color: white;}#sk-container-id-1 label.sk-toggleable__label {cursor: pointer;display: block;width: 100%;margin-bottom: 0;padding: 0.3em;box-sizing: border-box;text-align: center;}#sk-container-id-1 label.sk-toggleable__label-arrow:before {content: \"▸\";float: left;margin-right: 0.25em;color: #696969;}#sk-container-id-1 label.sk-toggleable__label-arrow:hover:before {color: black;}#sk-container-id-1 div.sk-estimator:hover label.sk-toggleable__label-arrow:before {color: black;}#sk-container-id-1 div.sk-toggleable__content {max-height: 0;max-width: 0;overflow: hidden;text-align: left;background-color: #f0f8ff;}#sk-container-id-1 div.sk-toggleable__content pre {margin: 0.2em;color: black;border-radius: 0.25em;background-color: #f0f8ff;}#sk-container-id-1 input.sk-toggleable__control:checked~div.sk-toggleable__content {max-height: 200px;max-width: 100%;overflow: auto;}#sk-container-id-1 input.sk-toggleable__control:checked~label.sk-toggleable__label-arrow:before {content: \"▾\";}#sk-container-id-1 div.sk-estimator input.sk-toggleable__control:checked~label.sk-toggleable__label {background-color: #d4ebff;}#sk-container-id-1 div.sk-label input.sk-toggleable__control:checked~label.sk-toggleable__label {background-color: #d4ebff;}#sk-container-id-1 input.sk-hidden--visually {border: 0;clip: rect(1px 1px 1px 1px);clip: rect(1px, 1px, 1px, 1px);height: 1px;margin: -1px;overflow: hidden;padding: 0;position: absolute;width: 1px;}#sk-container-id-1 div.sk-estimator {font-family: monospace;background-color: #f0f8ff;border: 1px dotted black;border-radius: 0.25em;box-sizing: border-box;margin-bottom: 0.5em;}#sk-container-id-1 div.sk-estimator:hover {background-color: #d4ebff;}#sk-container-id-1 div.sk-parallel-item::after {content: \"\";width: 100%;border-bottom: 1px solid gray;flex-grow: 1;}#sk-container-id-1 div.sk-label:hover label.sk-toggleable__label {background-color: #d4ebff;}#sk-container-id-1 div.sk-serial::before {content: \"\";position: absolute;border-left: 1px solid gray;box-sizing: border-box;top: 0;bottom: 0;left: 50%;z-index: 0;}#sk-container-id-1 div.sk-serial {display: flex;flex-direction: column;align-items: center;background-color: white;padding-right: 0.2em;padding-left: 0.2em;position: relative;}#sk-container-id-1 div.sk-item {position: relative;z-index: 1;}#sk-container-id-1 div.sk-parallel {display: flex;align-items: stretch;justify-content: center;background-color: white;position: relative;}#sk-container-id-1 div.sk-item::before, #sk-container-id-1 div.sk-parallel-item::before {content: \"\";position: absolute;border-left: 1px solid gray;box-sizing: border-box;top: 0;bottom: 0;left: 50%;z-index: -1;}#sk-container-id-1 div.sk-parallel-item {display: flex;flex-direction: column;z-index: 1;position: relative;background-color: white;}#sk-container-id-1 div.sk-parallel-item:first-child::after {align-self: flex-end;width: 50%;}#sk-container-id-1 div.sk-parallel-item:last-child::after {align-self: flex-start;width: 50%;}#sk-container-id-1 div.sk-parallel-item:only-child::after {width: 0;}#sk-container-id-1 div.sk-dashed-wrapped {border: 1px dashed gray;margin: 0 0.4em 0.5em 0.4em;box-sizing: border-box;padding-bottom: 0.4em;background-color: white;}#sk-container-id-1 div.sk-label label {font-family: monospace;font-weight: bold;display: inline-block;line-height: 1.2em;}#sk-container-id-1 div.sk-label-container {text-align: center;}#sk-container-id-1 div.sk-container {/* jupyter's `normalize.less` sets `[hidden] { display: none; }` but bootstrap.min.css set `[hidden] { display: none !important; }` so we also need the `!important` here to be able to override the default hidden behavior on the sphinx rendered scikit-learn.org. See: https://github.com/scikit-learn/scikit-learn/issues/21755 */display: inline-block !important;position: relative;}#sk-container-id-1 div.sk-text-repr-fallback {display: none;}</style><div id=\"sk-container-id-1\" class=\"sk-top-container\"><div class=\"sk-text-repr-fallback\"><pre>Pipeline(steps=[(&#x27;scale&#x27;, StandardScaler()),\n",
       "                (&#x27;model&#x27;,\n",
       "                 LogisticRegression(l1_ratio=0.5, max_iter=5000,\n",
       "                                    penalty=&#x27;elasticnet&#x27;, solver=&#x27;saga&#x27;))])</pre><b>In a Jupyter environment, please rerun this cell to show the HTML representation or trust the notebook. <br />On GitHub, the HTML representation is unable to render, please try loading this page with nbviewer.org.</b></div><div class=\"sk-container\" hidden><div class=\"sk-item sk-dashed-wrapped\"><div class=\"sk-label-container\"><div class=\"sk-label sk-toggleable\"><input class=\"sk-toggleable__control sk-hidden--visually\" id=\"sk-estimator-id-1\" type=\"checkbox\" ><label for=\"sk-estimator-id-1\" class=\"sk-toggleable__label sk-toggleable__label-arrow\">Pipeline</label><div class=\"sk-toggleable__content\"><pre>Pipeline(steps=[(&#x27;scale&#x27;, StandardScaler()),\n",
       "                (&#x27;model&#x27;,\n",
       "                 LogisticRegression(l1_ratio=0.5, max_iter=5000,\n",
       "                                    penalty=&#x27;elasticnet&#x27;, solver=&#x27;saga&#x27;))])</pre></div></div></div><div class=\"sk-serial\"><div class=\"sk-item\"><div class=\"sk-estimator sk-toggleable\"><input class=\"sk-toggleable__control sk-hidden--visually\" id=\"sk-estimator-id-2\" type=\"checkbox\" ><label for=\"sk-estimator-id-2\" class=\"sk-toggleable__label sk-toggleable__label-arrow\">StandardScaler</label><div class=\"sk-toggleable__content\"><pre>StandardScaler()</pre></div></div></div><div class=\"sk-item\"><div class=\"sk-estimator sk-toggleable\"><input class=\"sk-toggleable__control sk-hidden--visually\" id=\"sk-estimator-id-3\" type=\"checkbox\" ><label for=\"sk-estimator-id-3\" class=\"sk-toggleable__label sk-toggleable__label-arrow\">LogisticRegression</label><div class=\"sk-toggleable__content\"><pre>LogisticRegression(l1_ratio=0.5, max_iter=5000, penalty=&#x27;elasticnet&#x27;,\n",
       "                   solver=&#x27;saga&#x27;)</pre></div></div></div></div></div></div></div>"
      ],
      "text/plain": [
       "Pipeline(steps=[('scale', StandardScaler()),\n",
       "                ('model',\n",
       "                 LogisticRegression(l1_ratio=0.5, max_iter=5000,\n",
       "                                    penalty='elasticnet', solver='saga'))])"
      ]
     },
     "execution_count": 43,
     "metadata": {},
     "output_type": "execute_result"
    }
   ],
   "source": [
    "model.fit(X_train, y_train.values.ravel())"
   ]
  },
  {
   "cell_type": "code",
   "execution_count": 44,
   "id": "af59f8c0",
   "metadata": {
    "execution": {
     "iopub.execute_input": "2025-07-30T13:11:24.986945Z",
     "iopub.status.busy": "2025-07-30T13:11:24.986003Z",
     "iopub.status.idle": "2025-07-30T13:11:24.991382Z",
     "shell.execute_reply": "2025-07-30T13:11:24.990489Z"
    },
    "papermill": {
     "duration": 0.034012,
     "end_time": "2025-07-30T13:11:24.993103",
     "exception": false,
     "start_time": "2025-07-30T13:11:24.959091",
     "status": "completed"
    },
    "tags": []
   },
   "outputs": [],
   "source": [
    "from fairness_multiverse.universe import predict_w_threshold"
   ]
  },
  {
   "cell_type": "code",
   "execution_count": 45,
   "id": "a7cf2e16",
   "metadata": {
    "execution": {
     "iopub.execute_input": "2025-07-30T13:11:25.037203Z",
     "iopub.status.busy": "2025-07-30T13:11:25.036645Z",
     "iopub.status.idle": "2025-07-30T13:11:25.241790Z",
     "shell.execute_reply": "2025-07-30T13:11:25.240475Z"
    },
    "papermill": {
     "duration": 0.225653,
     "end_time": "2025-07-30T13:11:25.243631",
     "exception": false,
     "start_time": "2025-07-30T13:11:25.017978",
     "status": "completed"
    },
    "tags": []
   },
   "outputs": [
    {
     "data": {
      "text/plain": [
       "0.8615650429160628"
      ]
     },
     "execution_count": 45,
     "metadata": {},
     "output_type": "execute_result"
    }
   ],
   "source": [
    "probs_test = model.predict_proba(X_test)\n",
    "\n",
    "'''\n",
    "Below code returns a boolean array (or binary 0/1 array depending on how it’s used) where each element \n",
    "is True if the probability of class 1 is greater than or equal to the threshold, and False otherwise.\n",
    "'''\n",
    "y_pred_default = predict_w_threshold(probs_test, 0.5)\n",
    "\n",
    "from sklearn.metrics import accuracy_score\n",
    "\n",
    "# Naive prediction\n",
    "accuracy_score(y_true = y_true, y_pred = y_pred_default)"
   ]
  },
  {
   "cell_type": "code",
   "execution_count": 46,
   "id": "081964c3",
   "metadata": {
    "execution": {
     "iopub.execute_input": "2025-07-30T13:11:25.297161Z",
     "iopub.status.busy": "2025-07-30T13:11:25.296678Z",
     "iopub.status.idle": "2025-07-30T13:11:25.472523Z",
     "shell.execute_reply": "2025-07-30T13:11:25.471608Z"
    },
    "papermill": {
     "duration": 0.204784,
     "end_time": "2025-07-30T13:11:25.474326",
     "exception": false,
     "start_time": "2025-07-30T13:11:25.269542",
     "status": "completed"
    },
    "tags": []
   },
   "outputs": [
    {
     "data": {
      "text/plain": [
       "array([0, 0, 0, ..., 0, 0, 0])"
      ]
     },
     "execution_count": 46,
     "metadata": {},
     "output_type": "execute_result"
    }
   ],
   "source": [
    "model.predict(X_test)"
   ]
  },
  {
   "cell_type": "markdown",
   "id": "56c9705b",
   "metadata": {
    "papermill": {
     "duration": 0.022029,
     "end_time": "2025-07-30T13:11:25.520268",
     "exception": false,
     "start_time": "2025-07-30T13:11:25.498239",
     "status": "completed"
    },
    "tags": []
   },
   "source": [
    "# Conformal Prediction"
   ]
  },
  {
   "cell_type": "code",
   "execution_count": 47,
   "id": "160ec6ff",
   "metadata": {
    "execution": {
     "iopub.execute_input": "2025-07-30T13:11:25.569745Z",
     "iopub.status.busy": "2025-07-30T13:11:25.569094Z",
     "iopub.status.idle": "2025-07-30T13:11:25.574223Z",
     "shell.execute_reply": "2025-07-30T13:11:25.573362Z"
    },
    "papermill": {
     "duration": 0.032382,
     "end_time": "2025-07-30T13:11:25.575775",
     "exception": false,
     "start_time": "2025-07-30T13:11:25.543393",
     "status": "completed"
    },
    "tags": []
   },
   "outputs": [],
   "source": [
    "# Miscoverage level for conformal prediction (10% allowed error rate => 90% target coverage)\n",
    "alpha = 0.1"
   ]
  },
  {
   "cell_type": "code",
   "execution_count": 48,
   "id": "eadf4555-3dd3-440e-8e35-f82a4ad9f855",
   "metadata": {
    "execution": {
     "iopub.execute_input": "2025-07-30T13:11:25.622057Z",
     "iopub.status.busy": "2025-07-30T13:11:25.621462Z",
     "iopub.status.idle": "2025-07-30T13:11:25.792795Z",
     "shell.execute_reply": "2025-07-30T13:11:25.791901Z"
    },
    "papermill": {
     "duration": 0.196176,
     "end_time": "2025-07-30T13:11:25.794648",
     "exception": false,
     "start_time": "2025-07-30T13:11:25.598472",
     "status": "completed"
    },
    "tags": []
   },
   "outputs": [],
   "source": [
    "probs_calib = model.predict_proba(X_calib)"
   ]
  },
  {
   "cell_type": "code",
   "execution_count": 49,
   "id": "2ed93547-6d5d-4983-9b36-1ecb300da49a",
   "metadata": {
    "execution": {
     "iopub.execute_input": "2025-07-30T13:11:25.841498Z",
     "iopub.status.busy": "2025-07-30T13:11:25.840717Z",
     "iopub.status.idle": "2025-07-30T13:11:25.847282Z",
     "shell.execute_reply": "2025-07-30T13:11:25.846415Z"
    },
    "papermill": {
     "duration": 0.031381,
     "end_time": "2025-07-30T13:11:25.848845",
     "exception": false,
     "start_time": "2025-07-30T13:11:25.817464",
     "status": "completed"
    },
    "tags": []
   },
   "outputs": [],
   "source": [
    "y_calib = y_calib.values.ravel().astype(int)"
   ]
  },
  {
   "cell_type": "code",
   "execution_count": 50,
   "id": "65d1320d-f588-4b38-9072-62af1ae97f7d",
   "metadata": {
    "execution": {
     "iopub.execute_input": "2025-07-30T13:11:25.895171Z",
     "iopub.status.busy": "2025-07-30T13:11:25.894316Z",
     "iopub.status.idle": "2025-07-30T13:11:25.902179Z",
     "shell.execute_reply": "2025-07-30T13:11:25.901395Z"
    },
    "papermill": {
     "duration": 0.032283,
     "end_time": "2025-07-30T13:11:25.903710",
     "exception": false,
     "start_time": "2025-07-30T13:11:25.871427",
     "status": "completed"
    },
    "tags": []
   },
   "outputs": [],
   "source": [
    "from fairness_multiverse.conformal import compute_nc_scores\n",
    "\n",
    "# Compute nonconformity scores on calibration set (1 - probability of true class)\n",
    "nc_scores = compute_nc_scores(probs_calib, y_calib)"
   ]
  },
  {
   "cell_type": "code",
   "execution_count": 51,
   "id": "df3b8ca3-53b7-43d5-9667-7c85da7aeda2",
   "metadata": {
    "execution": {
     "iopub.execute_input": "2025-07-30T13:11:25.954849Z",
     "iopub.status.busy": "2025-07-30T13:11:25.954203Z",
     "iopub.status.idle": "2025-07-30T13:11:25.961573Z",
     "shell.execute_reply": "2025-07-30T13:11:25.960656Z"
    },
    "papermill": {
     "duration": 0.033533,
     "end_time": "2025-07-30T13:11:25.963164",
     "exception": false,
     "start_time": "2025-07-30T13:11:25.929631",
     "status": "completed"
    },
    "tags": []
   },
   "outputs": [],
   "source": [
    "from fairness_multiverse.conformal import find_threshold\n",
    "\n",
    "# Find conformal threshold q_hat for the given alpha (split conformal method)\n",
    "q_hat = find_threshold(nc_scores, alpha)"
   ]
  },
  {
   "cell_type": "code",
   "execution_count": 52,
   "id": "4d29e6c1-0ef6-4aa4-b8fe-4fe79b0d033a",
   "metadata": {
    "execution": {
     "iopub.execute_input": "2025-07-30T13:11:26.013230Z",
     "iopub.status.busy": "2025-07-30T13:11:26.012781Z",
     "iopub.status.idle": "2025-07-30T13:11:26.020979Z",
     "shell.execute_reply": "2025-07-30T13:11:26.020198Z"
    },
    "papermill": {
     "duration": 0.036927,
     "end_time": "2025-07-30T13:11:26.022636",
     "exception": false,
     "start_time": "2025-07-30T13:11:25.985709",
     "status": "completed"
    },
    "tags": []
   },
   "outputs": [
    {
     "data": {
      "text/plain": [
       "0.6621638854693762"
      ]
     },
     "execution_count": 52,
     "metadata": {},
     "output_type": "execute_result"
    }
   ],
   "source": [
    "q_hat"
   ]
  },
  {
   "cell_type": "code",
   "execution_count": 53,
   "id": "92460794-cdac-4be2-ba28-f28c0515a6fb",
   "metadata": {
    "execution": {
     "iopub.execute_input": "2025-07-30T13:11:26.069585Z",
     "iopub.status.busy": "2025-07-30T13:11:26.069101Z",
     "iopub.status.idle": "2025-07-30T13:11:26.906683Z",
     "shell.execute_reply": "2025-07-30T13:11:26.905813Z"
    },
    "papermill": {
     "duration": 0.863145,
     "end_time": "2025-07-30T13:11:26.908522",
     "exception": false,
     "start_time": "2025-07-30T13:11:26.045377",
     "status": "completed"
    },
    "tags": []
   },
   "outputs": [],
   "source": [
    "from fairness_multiverse.conformal import predict_conformal_sets\n",
    "\n",
    "# Generate prediction sets for each test example\n",
    "pred_sets = predict_conformal_sets(model, X_test, q_hat)"
   ]
  },
  {
   "cell_type": "code",
   "execution_count": 54,
   "id": "d90c9a65-e6db-4f5d-80cd-e68fb7e46829",
   "metadata": {
    "execution": {
     "iopub.execute_input": "2025-07-30T13:11:26.956398Z",
     "iopub.status.busy": "2025-07-30T13:11:26.955981Z",
     "iopub.status.idle": "2025-07-30T13:11:26.970428Z",
     "shell.execute_reply": "2025-07-30T13:11:26.969568Z"
    },
    "papermill": {
     "duration": 0.03961,
     "end_time": "2025-07-30T13:11:26.971767",
     "exception": false,
     "start_time": "2025-07-30T13:11:26.932157",
     "status": "completed"
    },
    "tags": []
   },
   "outputs": [],
   "source": [
    "y_true = y_true.squeeze()"
   ]
  },
  {
   "cell_type": "code",
   "execution_count": 55,
   "id": "3a58a54a-1e68-46b9-927a-df01f18aebc8",
   "metadata": {
    "execution": {
     "iopub.execute_input": "2025-07-30T13:11:27.020848Z",
     "iopub.status.busy": "2025-07-30T13:11:27.020373Z",
     "iopub.status.idle": "2025-07-30T13:11:27.882149Z",
     "shell.execute_reply": "2025-07-30T13:11:27.881196Z"
    },
    "papermill": {
     "duration": 0.888726,
     "end_time": "2025-07-30T13:11:27.883607",
     "exception": false,
     "start_time": "2025-07-30T13:11:26.994881",
     "status": "completed"
    },
    "tags": []
   },
   "outputs": [],
   "source": [
    "from fairness_multiverse.conformal import evaluate_sets\n",
    "\n",
    "# Evaluate coverage and average set size on test data\n",
    "metrics = evaluate_sets(pred_sets, y_true)"
   ]
  },
  {
   "cell_type": "markdown",
   "id": "2b569c12-9aaa-4c88-98c9-bbcd0cf3ebb8",
   "metadata": {
    "papermill": {
     "duration": 0.028291,
     "end_time": "2025-07-30T13:11:27.939038",
     "exception": false,
     "start_time": "2025-07-30T13:11:27.910747",
     "status": "completed"
    },
    "tags": []
   },
   "source": [
    "# CP Metrics"
   ]
  },
  {
   "cell_type": "code",
   "execution_count": 56,
   "id": "5ce0a5cb-201f-45a0-ade5-94c7f0bd6095",
   "metadata": {
    "execution": {
     "iopub.execute_input": "2025-07-30T13:11:27.994265Z",
     "iopub.status.busy": "2025-07-30T13:11:27.993609Z",
     "iopub.status.idle": "2025-07-30T13:11:28.000761Z",
     "shell.execute_reply": "2025-07-30T13:11:27.999925Z"
    },
    "papermill": {
     "duration": 0.035967,
     "end_time": "2025-07-30T13:11:28.002027",
     "exception": false,
     "start_time": "2025-07-30T13:11:27.966060",
     "status": "completed"
    },
    "tags": []
   },
   "outputs": [
    {
     "data": {
      "text/plain": [
       "{'coverage': 0.9110355590235202, 'avg_size': 1.1244119942035447}"
      ]
     },
     "execution_count": 56,
     "metadata": {},
     "output_type": "execute_result"
    }
   ],
   "source": [
    "metrics"
   ]
  },
  {
   "cell_type": "code",
   "execution_count": 57,
   "id": "9b9a838d-31c9-430b-ae14-12baee460d17",
   "metadata": {
    "execution": {
     "iopub.execute_input": "2025-07-30T13:11:28.029371Z",
     "iopub.status.busy": "2025-07-30T13:11:28.028741Z",
     "iopub.status.idle": "2025-07-30T13:11:28.033888Z",
     "shell.execute_reply": "2025-07-30T13:11:28.033129Z"
    },
    "papermill": {
     "duration": 0.01975,
     "end_time": "2025-07-30T13:11:28.035073",
     "exception": false,
     "start_time": "2025-07-30T13:11:28.015323",
     "status": "completed"
    },
    "tags": []
   },
   "outputs": [],
   "source": [
    "example_universe = universe.copy()\n",
    "universe_training_size = example_universe.get(\"training_size\")\n",
    "universe_scale = example_universe.get(\"scale\")\n",
    "universe_model = example_universe.get(\"model\")\n",
    "universe_exclude_features = example_universe.get(\"exclude_features\")\n",
    "universe_exclude_subgroups = example_universe.get(\"exclude_subgroups\")"
   ]
  },
  {
   "cell_type": "code",
   "execution_count": 58,
   "id": "f4b6a8ac-9dc0-4245-8a91-5b3b5999c4f9",
   "metadata": {
    "execution": {
     "iopub.execute_input": "2025-07-30T13:11:28.062382Z",
     "iopub.status.busy": "2025-07-30T13:11:28.061775Z",
     "iopub.status.idle": "2025-07-30T13:11:28.066986Z",
     "shell.execute_reply": "2025-07-30T13:11:28.066239Z"
    },
    "papermill": {
     "duration": 0.019988,
     "end_time": "2025-07-30T13:11:28.068258",
     "exception": false,
     "start_time": "2025-07-30T13:11:28.048270",
     "status": "completed"
    },
    "tags": []
   },
   "outputs": [],
   "source": [
    "cp_metrics_dict = {\n",
    "    \"universe_id\": [universe_id],\n",
    "    \"universe_training_size\": [universe_training_size],\n",
    "    \"universe_scale\": [universe_scale],\n",
    "    \"universe_model\": [universe_model],\n",
    "    \"universe_exclude_features\": [universe_exclude_features],\n",
    "    \"universe_exclude_subgroups\": [universe_exclude_subgroups],\n",
    "    \"q_hat\": [q_hat],\n",
    "    \"coverage\": [metrics[\"coverage\"]],\n",
    "    \"avg_size\": [metrics[\"avg_size\"]],\n",
    "}"
   ]
  },
  {
   "cell_type": "code",
   "execution_count": 59,
   "id": "908acbb1-0371-4915-85ca-3fa520d2efe2",
   "metadata": {
    "execution": {
     "iopub.execute_input": "2025-07-30T13:11:28.095569Z",
     "iopub.status.busy": "2025-07-30T13:11:28.095071Z",
     "iopub.status.idle": "2025-07-30T13:11:28.101149Z",
     "shell.execute_reply": "2025-07-30T13:11:28.100367Z"
    },
    "papermill": {
     "duration": 0.020454,
     "end_time": "2025-07-30T13:11:28.102371",
     "exception": false,
     "start_time": "2025-07-30T13:11:28.081917",
     "status": "completed"
    },
    "tags": []
   },
   "outputs": [
    {
     "data": {
      "text/plain": [
       "{'universe_id': ['c0bcf10f417b274f04cc681c6171ea79'],\n",
       " 'universe_training_size': ['25k'],\n",
       " 'universe_scale': ['scale'],\n",
       " 'universe_model': ['elasticnet'],\n",
       " 'universe_exclude_features': ['nationality-sex'],\n",
       " 'universe_exclude_subgroups': ['drop-non-german'],\n",
       " 'q_hat': [0.6621638854693762],\n",
       " 'coverage': [0.9110355590235202],\n",
       " 'avg_size': [1.1244119942035447]}"
      ]
     },
     "execution_count": 59,
     "metadata": {},
     "output_type": "execute_result"
    }
   ],
   "source": [
    "cp_metrics_dict"
   ]
  },
  {
   "cell_type": "code",
   "execution_count": 60,
   "id": "33007efc-14e9-4ec6-97ac-56a455c82265",
   "metadata": {
    "execution": {
     "iopub.execute_input": "2025-07-30T13:11:28.129695Z",
     "iopub.status.busy": "2025-07-30T13:11:28.128961Z",
     "iopub.status.idle": "2025-07-30T13:11:28.133974Z",
     "shell.execute_reply": "2025-07-30T13:11:28.133236Z"
    },
    "papermill": {
     "duration": 0.019947,
     "end_time": "2025-07-30T13:11:28.135308",
     "exception": false,
     "start_time": "2025-07-30T13:11:28.115361",
     "status": "completed"
    },
    "tags": []
   },
   "outputs": [],
   "source": [
    "cp_metrics_df = pd.DataFrame(cp_metrics_dict)"
   ]
  },
  {
   "cell_type": "code",
   "execution_count": 61,
   "id": "db12611b-57b2-4910-b9d0-355adfd6e7bf",
   "metadata": {
    "execution": {
     "iopub.execute_input": "2025-07-30T13:11:28.162963Z",
     "iopub.status.busy": "2025-07-30T13:11:28.162638Z",
     "iopub.status.idle": "2025-07-30T13:11:28.176109Z",
     "shell.execute_reply": "2025-07-30T13:11:28.175411Z"
    },
    "papermill": {
     "duration": 0.028421,
     "end_time": "2025-07-30T13:11:28.177333",
     "exception": false,
     "start_time": "2025-07-30T13:11:28.148912",
     "status": "completed"
    },
    "tags": []
   },
   "outputs": [
    {
     "data": {
      "text/html": [
       "<div>\n",
       "<style scoped>\n",
       "    .dataframe tbody tr th:only-of-type {\n",
       "        vertical-align: middle;\n",
       "    }\n",
       "\n",
       "    .dataframe tbody tr th {\n",
       "        vertical-align: top;\n",
       "    }\n",
       "\n",
       "    .dataframe thead th {\n",
       "        text-align: right;\n",
       "    }\n",
       "</style>\n",
       "<table border=\"1\" class=\"dataframe\">\n",
       "  <thead>\n",
       "    <tr style=\"text-align: right;\">\n",
       "      <th></th>\n",
       "      <th>universe_id</th>\n",
       "      <th>universe_training_size</th>\n",
       "      <th>universe_scale</th>\n",
       "      <th>universe_model</th>\n",
       "      <th>universe_exclude_features</th>\n",
       "      <th>universe_exclude_subgroups</th>\n",
       "      <th>q_hat</th>\n",
       "      <th>coverage</th>\n",
       "      <th>avg_size</th>\n",
       "    </tr>\n",
       "  </thead>\n",
       "  <tbody>\n",
       "    <tr>\n",
       "      <th>0</th>\n",
       "      <td>c0bcf10f417b274f04cc681c6171ea79</td>\n",
       "      <td>25k</td>\n",
       "      <td>scale</td>\n",
       "      <td>elasticnet</td>\n",
       "      <td>nationality-sex</td>\n",
       "      <td>drop-non-german</td>\n",
       "      <td>0.662164</td>\n",
       "      <td>0.911036</td>\n",
       "      <td>1.124412</td>\n",
       "    </tr>\n",
       "  </tbody>\n",
       "</table>\n",
       "</div>"
      ],
      "text/plain": [
       "                        universe_id universe_training_size universe_scale  \\\n",
       "0  c0bcf10f417b274f04cc681c6171ea79                    25k          scale   \n",
       "\n",
       "  universe_model universe_exclude_features universe_exclude_subgroups  \\\n",
       "0     elasticnet           nationality-sex            drop-non-german   \n",
       "\n",
       "      q_hat  coverage  avg_size  \n",
       "0  0.662164  0.911036  1.124412  "
      ]
     },
     "execution_count": 61,
     "metadata": {},
     "output_type": "execute_result"
    }
   ],
   "source": [
    "cp_metrics_df"
   ]
  },
  {
   "cell_type": "code",
   "execution_count": 62,
   "id": "b7fbde55-a0a1-47e4-9af6-fe4a17fa8c61",
   "metadata": {
    "execution": {
     "iopub.execute_input": "2025-07-30T13:11:28.205655Z",
     "iopub.status.busy": "2025-07-30T13:11:28.204799Z",
     "iopub.status.idle": "2025-07-30T13:11:28.209227Z",
     "shell.execute_reply": "2025-07-30T13:11:28.208434Z"
    },
    "papermill": {
     "duration": 0.019451,
     "end_time": "2025-07-30T13:11:28.210532",
     "exception": false,
     "start_time": "2025-07-30T13:11:28.191081",
     "status": "completed"
    },
    "tags": []
   },
   "outputs": [],
   "source": [
    "# Conditional Coverage & looking at subgroups"
   ]
  },
  {
   "cell_type": "code",
   "execution_count": 63,
   "id": "027ae886-68dd-4141-96c7-805a5450e1ef",
   "metadata": {
    "execution": {
     "iopub.execute_input": "2025-07-30T13:11:28.238603Z",
     "iopub.status.busy": "2025-07-30T13:11:28.238005Z",
     "iopub.status.idle": "2025-07-30T13:11:28.413054Z",
     "shell.execute_reply": "2025-07-30T13:11:28.412286Z"
    },
    "papermill": {
     "duration": 0.190157,
     "end_time": "2025-07-30T13:11:28.414583",
     "exception": false,
     "start_time": "2025-07-30T13:11:28.224426",
     "status": "completed"
    },
    "tags": []
   },
   "outputs": [],
   "source": [
    "from fairness_multiverse.conformal import build_cp_groups\n",
    "\n",
    "cp_groups_df = build_cp_groups(pred_sets, y_true, X_test.index, org_test)\n",
    "#needs universe_id and setting"
   ]
  },
  {
   "cell_type": "code",
   "execution_count": 64,
   "id": "01d5802c-663a-4d1f-9d69-e036faaffbf7",
   "metadata": {
    "execution": {
     "iopub.execute_input": "2025-07-30T13:11:28.442909Z",
     "iopub.status.busy": "2025-07-30T13:11:28.442578Z",
     "iopub.status.idle": "2025-07-30T13:11:28.446567Z",
     "shell.execute_reply": "2025-07-30T13:11:28.445842Z"
    },
    "papermill": {
     "duration": 0.019105,
     "end_time": "2025-07-30T13:11:28.447807",
     "exception": false,
     "start_time": "2025-07-30T13:11:28.428702",
     "status": "completed"
    },
    "tags": []
   },
   "outputs": [],
   "source": [
    "#delete\n",
    "#cp_groups_df"
   ]
  },
  {
   "cell_type": "code",
   "execution_count": 65,
   "id": "fa424af1-d1eb-443d-b717-2d279ada8408",
   "metadata": {
    "execution": {
     "iopub.execute_input": "2025-07-30T13:11:28.478150Z",
     "iopub.status.busy": "2025-07-30T13:11:28.477440Z",
     "iopub.status.idle": "2025-07-30T13:11:28.481717Z",
     "shell.execute_reply": "2025-07-30T13:11:28.481067Z"
    },
    "papermill": {
     "duration": 0.019472,
     "end_time": "2025-07-30T13:11:28.482899",
     "exception": false,
     "start_time": "2025-07-30T13:11:28.463427",
     "status": "completed"
    },
    "tags": []
   },
   "outputs": [],
   "source": [
    "#delete\n",
    "#percentage = (cp_groups_df['nongerman_female'] == 1).mean() * 100\n",
    "#print(percentage)\n"
   ]
  },
  {
   "cell_type": "code",
   "execution_count": 66,
   "id": "6cbdab96-b2b2-45af-ad54-d0516db2e28d",
   "metadata": {
    "execution": {
     "iopub.execute_input": "2025-07-30T13:11:28.511025Z",
     "iopub.status.busy": "2025-07-30T13:11:28.510397Z",
     "iopub.status.idle": "2025-07-30T13:11:29.373074Z",
     "shell.execute_reply": "2025-07-30T13:11:29.372371Z"
    },
    "papermill": {
     "duration": 0.877986,
     "end_time": "2025-07-30T13:11:29.374540",
     "exception": false,
     "start_time": "2025-07-30T13:11:28.496554",
     "status": "completed"
    },
    "tags": []
   },
   "outputs": [],
   "source": [
    "# Define covered = 1 if true_label is in the predicted set\n",
    "cp_groups_df['covered'] = cp_groups_df.apply(\n",
    "    lambda r: int(r['true_label'] in r['pred_set']),\n",
    "    axis=1\n",
    ")"
   ]
  },
  {
   "cell_type": "code",
   "execution_count": 67,
   "id": "338ff529-1a6b-4b87-a931-8e4788d52aad",
   "metadata": {
    "execution": {
     "iopub.execute_input": "2025-07-30T13:11:29.402888Z",
     "iopub.status.busy": "2025-07-30T13:11:29.402567Z",
     "iopub.status.idle": "2025-07-30T13:11:29.406457Z",
     "shell.execute_reply": "2025-07-30T13:11:29.405700Z"
    },
    "papermill": {
     "duration": 0.018945,
     "end_time": "2025-07-30T13:11:29.407726",
     "exception": false,
     "start_time": "2025-07-30T13:11:29.388781",
     "status": "completed"
    },
    "tags": []
   },
   "outputs": [],
   "source": [
    "#cp_groups_df"
   ]
  },
  {
   "cell_type": "code",
   "execution_count": 68,
   "id": "90032e27-66df-4540-9169-4e89cfbaa758",
   "metadata": {
    "execution": {
     "iopub.execute_input": "2025-07-30T13:11:29.436037Z",
     "iopub.status.busy": "2025-07-30T13:11:29.435611Z",
     "iopub.status.idle": "2025-07-30T13:11:29.448915Z",
     "shell.execute_reply": "2025-07-30T13:11:29.447963Z"
    },
    "papermill": {
     "duration": 0.028905,
     "end_time": "2025-07-30T13:11:29.450502",
     "exception": false,
     "start_time": "2025-07-30T13:11:29.421597",
     "status": "completed"
    },
    "tags": []
   },
   "outputs": [],
   "source": [
    "subgroups = ['frau1','nongerman','nongerman_male','nongerman_female']\n",
    "\n",
    "# Conditional coverage for subgroup==1\n",
    "cond_coverage = {\n",
    "    g: cp_groups_df.loc[cp_groups_df[g]==1, 'covered'].mean()\n",
    "    for g in subgroups\n",
    "}"
   ]
  },
  {
   "cell_type": "code",
   "execution_count": 69,
   "id": "1e348fb1-b9c3-45bc-ba23-f016827a7e0d",
   "metadata": {
    "execution": {
     "iopub.execute_input": "2025-07-30T13:11:29.506208Z",
     "iopub.status.busy": "2025-07-30T13:11:29.505603Z",
     "iopub.status.idle": "2025-07-30T13:11:29.512202Z",
     "shell.execute_reply": "2025-07-30T13:11:29.511348Z"
    },
    "papermill": {
     "duration": 0.036869,
     "end_time": "2025-07-30T13:11:29.513960",
     "exception": false,
     "start_time": "2025-07-30T13:11:29.477091",
     "status": "completed"
    },
    "tags": []
   },
   "outputs": [
    {
     "data": {
      "text/plain": [
       "{'frau1': 0.9099878689850384,\n",
       " 'nongerman': 0.9094481558412395,\n",
       " 'nongerman_male': 0.9252454291632892,\n",
       " 'nongerman_female': 0.8833084947839046}"
      ]
     },
     "execution_count": 69,
     "metadata": {},
     "output_type": "execute_result"
    }
   ],
   "source": [
    "cond_coverage"
   ]
  },
  {
   "cell_type": "code",
   "execution_count": 70,
   "id": "f5093324-c3dd-4d63-bc4c-8d945e5c8bbb",
   "metadata": {
    "execution": {
     "iopub.execute_input": "2025-07-30T13:11:29.571341Z",
     "iopub.status.busy": "2025-07-30T13:11:29.570908Z",
     "iopub.status.idle": "2025-07-30T13:11:29.577859Z",
     "shell.execute_reply": "2025-07-30T13:11:29.576948Z"
    },
    "papermill": {
     "duration": 0.037166,
     "end_time": "2025-07-30T13:11:29.579463",
     "exception": false,
     "start_time": "2025-07-30T13:11:29.542297",
     "status": "completed"
    },
    "tags": []
   },
   "outputs": [],
   "source": [
    "for subgroup, cov in cond_coverage.items():\n",
    "    cp_metrics_df[f\"cov_{subgroup}\"] = cov"
   ]
  },
  {
   "cell_type": "code",
   "execution_count": 71,
   "id": "6e872e10-dbe5-49e8-b554-5030c98ff75d",
   "metadata": {
    "execution": {
     "iopub.execute_input": "2025-07-30T13:11:29.636267Z",
     "iopub.status.busy": "2025-07-30T13:11:29.635814Z",
     "iopub.status.idle": "2025-07-30T13:11:29.654139Z",
     "shell.execute_reply": "2025-07-30T13:11:29.653220Z"
    },
    "papermill": {
     "duration": 0.047713,
     "end_time": "2025-07-30T13:11:29.655681",
     "exception": false,
     "start_time": "2025-07-30T13:11:29.607968",
     "status": "completed"
    },
    "tags": []
   },
   "outputs": [
    {
     "data": {
      "text/html": [
       "<div>\n",
       "<style scoped>\n",
       "    .dataframe tbody tr th:only-of-type {\n",
       "        vertical-align: middle;\n",
       "    }\n",
       "\n",
       "    .dataframe tbody tr th {\n",
       "        vertical-align: top;\n",
       "    }\n",
       "\n",
       "    .dataframe thead th {\n",
       "        text-align: right;\n",
       "    }\n",
       "</style>\n",
       "<table border=\"1\" class=\"dataframe\">\n",
       "  <thead>\n",
       "    <tr style=\"text-align: right;\">\n",
       "      <th></th>\n",
       "      <th>universe_id</th>\n",
       "      <th>universe_training_size</th>\n",
       "      <th>universe_scale</th>\n",
       "      <th>universe_model</th>\n",
       "      <th>universe_exclude_features</th>\n",
       "      <th>universe_exclude_subgroups</th>\n",
       "      <th>q_hat</th>\n",
       "      <th>coverage</th>\n",
       "      <th>avg_size</th>\n",
       "      <th>cov_frau1</th>\n",
       "      <th>cov_nongerman</th>\n",
       "      <th>cov_nongerman_male</th>\n",
       "      <th>cov_nongerman_female</th>\n",
       "    </tr>\n",
       "  </thead>\n",
       "  <tbody>\n",
       "    <tr>\n",
       "      <th>0</th>\n",
       "      <td>c0bcf10f417b274f04cc681c6171ea79</td>\n",
       "      <td>25k</td>\n",
       "      <td>scale</td>\n",
       "      <td>elasticnet</td>\n",
       "      <td>nationality-sex</td>\n",
       "      <td>drop-non-german</td>\n",
       "      <td>0.662164</td>\n",
       "      <td>0.911036</td>\n",
       "      <td>1.124412</td>\n",
       "      <td>0.909988</td>\n",
       "      <td>0.909448</td>\n",
       "      <td>0.925245</td>\n",
       "      <td>0.883308</td>\n",
       "    </tr>\n",
       "  </tbody>\n",
       "</table>\n",
       "</div>"
      ],
      "text/plain": [
       "                        universe_id universe_training_size universe_scale  \\\n",
       "0  c0bcf10f417b274f04cc681c6171ea79                    25k          scale   \n",
       "\n",
       "  universe_model universe_exclude_features universe_exclude_subgroups  \\\n",
       "0     elasticnet           nationality-sex            drop-non-german   \n",
       "\n",
       "      q_hat  coverage  avg_size  cov_frau1  cov_nongerman  cov_nongerman_male  \\\n",
       "0  0.662164  0.911036  1.124412   0.909988       0.909448            0.925245   \n",
       "\n",
       "   cov_nongerman_female  \n",
       "0              0.883308  "
      ]
     },
     "execution_count": 71,
     "metadata": {},
     "output_type": "execute_result"
    }
   ],
   "source": [
    "cp_metrics_df"
   ]
  },
  {
   "cell_type": "markdown",
   "id": "33774451",
   "metadata": {
    "papermill": {
     "duration": 0.027345,
     "end_time": "2025-07-30T13:11:29.711201",
     "exception": false,
     "start_time": "2025-07-30T13:11:29.683856",
     "status": "completed"
    },
    "tags": []
   },
   "source": [
    "# (Fairness) Metrics"
   ]
  },
  {
   "cell_type": "code",
   "execution_count": 72,
   "id": "debc5d62",
   "metadata": {
    "execution": {
     "iopub.execute_input": "2025-07-30T13:11:29.764121Z",
     "iopub.status.busy": "2025-07-30T13:11:29.763574Z",
     "iopub.status.idle": "2025-07-30T13:11:29.783857Z",
     "shell.execute_reply": "2025-07-30T13:11:29.783045Z"
    },
    "papermill": {
     "duration": 0.048825,
     "end_time": "2025-07-30T13:11:29.785403",
     "exception": false,
     "start_time": "2025-07-30T13:11:29.736578",
     "status": "completed"
    },
    "tags": []
   },
   "outputs": [],
   "source": [
    "# do I need to include maxdeutsch1.missing?\n",
    "\n",
    "import numpy as np\n",
    "\n",
    "colname_to_bin = \"maxdeutsch1\"\n",
    "majority_value = org_train[colname_to_bin].mode()[0]\n",
    "\n",
    "org_test[\"majmin\"] = np.where(org_test[colname_to_bin] == majority_value, \"majority\", \"minority\")"
   ]
  },
  {
   "cell_type": "code",
   "execution_count": 73,
   "id": "06a50de5",
   "metadata": {
    "execution": {
     "iopub.execute_input": "2025-07-30T13:11:29.838770Z",
     "iopub.status.busy": "2025-07-30T13:11:29.838004Z",
     "iopub.status.idle": "2025-07-30T13:11:32.581866Z",
     "shell.execute_reply": "2025-07-30T13:11:32.580709Z"
    },
    "papermill": {
     "duration": 2.772986,
     "end_time": "2025-07-30T13:11:32.584440",
     "exception": false,
     "start_time": "2025-07-30T13:11:29.811454",
     "status": "completed"
    },
    "tags": []
   },
   "outputs": [],
   "source": [
    "example_universe = universe.copy()\n",
    "example_universe[\"cutoff\"] = example_universe[\"cutoff\"][0]\n",
    "example_universe[\"eval_fairness_grouping\"] = example_universe[\"eval_fairness_grouping\"][0]\n",
    "fairness_dict, metric_frame = universe_analysis.compute_metrics(\n",
    "    example_universe,\n",
    "    y_pred_prob=probs_test,\n",
    "    y_test=y_true,\n",
    "    org_test=org_test,\n",
    ")"
   ]
  },
  {
   "cell_type": "markdown",
   "id": "f95d4e02",
   "metadata": {
    "papermill": {
     "duration": 0.031898,
     "end_time": "2025-07-30T13:11:32.653258",
     "exception": false,
     "start_time": "2025-07-30T13:11:32.621360",
     "status": "completed"
    },
    "tags": []
   },
   "source": [
    "# Overall"
   ]
  },
  {
   "cell_type": "markdown",
   "id": "bdee4871",
   "metadata": {
    "papermill": {
     "duration": 0.013391,
     "end_time": "2025-07-30T13:11:32.680259",
     "exception": false,
     "start_time": "2025-07-30T13:11:32.666868",
     "status": "completed"
    },
    "tags": []
   },
   "source": [
    "Fairness\n",
    "Main fairness target: Equalized Odds. Seems to be a better fit than equal opportunity, since we're not only interested in Y = 1. Seems to be a better fit than demographic parity, since we also care about accuracy, not just equal distribution of preds.\n",
    "\n",
    "Pick column for computation of fairness metrics\n",
    "\n",
    "Performance\n",
    "Overall performance measures, most interesting in relation to the measures split by group below"
   ]
  },
  {
   "cell_type": "code",
   "execution_count": 74,
   "id": "c4e067c6",
   "metadata": {
    "execution": {
     "iopub.execute_input": "2025-07-30T13:11:32.712131Z",
     "iopub.status.busy": "2025-07-30T13:11:32.711731Z",
     "iopub.status.idle": "2025-07-30T13:11:32.719424Z",
     "shell.execute_reply": "2025-07-30T13:11:32.718638Z"
    },
    "papermill": {
     "duration": 0.026884,
     "end_time": "2025-07-30T13:11:32.720742",
     "exception": false,
     "start_time": "2025-07-30T13:11:32.693858",
     "status": "completed"
    },
    "tags": []
   },
   "outputs": [
    {
     "data": {
      "text/plain": [
       "accuracy                   0.225404\n",
       "balanced accuracy          0.550928\n",
       "f1                         0.246707\n",
       "precision                  0.140936\n",
       "false positive rate        0.886934\n",
       "false negative rate        0.011210\n",
       "selection rate             0.900000\n",
       "count                  89710.000000\n",
       "dtype: float64"
      ]
     },
     "execution_count": 74,
     "metadata": {},
     "output_type": "execute_result"
    }
   ],
   "source": [
    "metric_frame.overall"
   ]
  },
  {
   "cell_type": "markdown",
   "id": "e968fe9d",
   "metadata": {
    "papermill": {
     "duration": 0.013649,
     "end_time": "2025-07-30T13:11:32.748958",
     "exception": false,
     "start_time": "2025-07-30T13:11:32.735309",
     "status": "completed"
    },
    "tags": []
   },
   "source": [
    "By Group"
   ]
  },
  {
   "cell_type": "code",
   "execution_count": 75,
   "id": "ec325bce",
   "metadata": {
    "execution": {
     "iopub.execute_input": "2025-07-30T13:11:32.794378Z",
     "iopub.status.busy": "2025-07-30T13:11:32.793745Z",
     "iopub.status.idle": "2025-07-30T13:11:32.810321Z",
     "shell.execute_reply": "2025-07-30T13:11:32.809331Z"
    },
    "papermill": {
     "duration": 0.048153,
     "end_time": "2025-07-30T13:11:32.811915",
     "exception": false,
     "start_time": "2025-07-30T13:11:32.763762",
     "status": "completed"
    },
    "tags": []
   },
   "outputs": [
    {
     "data": {
      "text/html": [
       "<div>\n",
       "<style scoped>\n",
       "    .dataframe tbody tr th:only-of-type {\n",
       "        vertical-align: middle;\n",
       "    }\n",
       "\n",
       "    .dataframe tbody tr th {\n",
       "        vertical-align: top;\n",
       "    }\n",
       "\n",
       "    .dataframe thead th {\n",
       "        text-align: right;\n",
       "    }\n",
       "</style>\n",
       "<table border=\"1\" class=\"dataframe\">\n",
       "  <thead>\n",
       "    <tr style=\"text-align: right;\">\n",
       "      <th></th>\n",
       "      <th>accuracy</th>\n",
       "      <th>balanced accuracy</th>\n",
       "      <th>f1</th>\n",
       "      <th>precision</th>\n",
       "      <th>false positive rate</th>\n",
       "      <th>false negative rate</th>\n",
       "      <th>selection rate</th>\n",
       "      <th>count</th>\n",
       "    </tr>\n",
       "    <tr>\n",
       "      <th>majmin</th>\n",
       "      <th></th>\n",
       "      <th></th>\n",
       "      <th></th>\n",
       "      <th></th>\n",
       "      <th></th>\n",
       "      <th></th>\n",
       "      <th></th>\n",
       "      <th></th>\n",
       "    </tr>\n",
       "  </thead>\n",
       "  <tbody>\n",
       "    <tr>\n",
       "      <th>majority</th>\n",
       "      <td>0.246277</td>\n",
       "      <td>0.560657</td>\n",
       "      <td>0.257283</td>\n",
       "      <td>0.147899</td>\n",
       "      <td>0.86665</td>\n",
       "      <td>0.012035</td>\n",
       "      <td>0.882680</td>\n",
       "      <td>69170.0</td>\n",
       "    </tr>\n",
       "    <tr>\n",
       "      <th>minority</th>\n",
       "      <td>0.155112</td>\n",
       "      <td>0.519018</td>\n",
       "      <td>0.213042</td>\n",
       "      <td>0.119336</td>\n",
       "      <td>0.95394</td>\n",
       "      <td>0.008024</td>\n",
       "      <td>0.958325</td>\n",
       "      <td>20540.0</td>\n",
       "    </tr>\n",
       "  </tbody>\n",
       "</table>\n",
       "</div>"
      ],
      "text/plain": [
       "          accuracy  balanced accuracy        f1  precision  \\\n",
       "majmin                                                       \n",
       "majority  0.246277           0.560657  0.257283   0.147899   \n",
       "minority  0.155112           0.519018  0.213042   0.119336   \n",
       "\n",
       "          false positive rate  false negative rate  selection rate    count  \n",
       "majmin                                                                       \n",
       "majority              0.86665             0.012035        0.882680  69170.0  \n",
       "minority              0.95394             0.008024        0.958325  20540.0  "
      ]
     },
     "execution_count": 75,
     "metadata": {},
     "output_type": "execute_result"
    }
   ],
   "source": [
    "metric_frame.by_group"
   ]
  },
  {
   "cell_type": "code",
   "execution_count": 76,
   "id": "a9ddbe63",
   "metadata": {
    "execution": {
     "iopub.execute_input": "2025-07-30T13:11:32.851261Z",
     "iopub.status.busy": "2025-07-30T13:11:32.850835Z",
     "iopub.status.idle": "2025-07-30T13:11:34.671197Z",
     "shell.execute_reply": "2025-07-30T13:11:34.670482Z"
    },
    "papermill": {
     "duration": 1.836647,
     "end_time": "2025-07-30T13:11:34.672488",
     "exception": false,
     "start_time": "2025-07-30T13:11:32.835841",
     "status": "completed"
    },
    "tags": []
   },
   "outputs": [
    {
     "data": {
      "text/plain": [
       "array([[<Axes: title={'center': 'accuracy'}, xlabel='majmin'>,\n",
       "        <Axes: title={'center': 'balanced accuracy'}, xlabel='majmin'>,\n",
       "        <Axes: title={'center': 'f1'}, xlabel='majmin'>],\n",
       "       [<Axes: title={'center': 'precision'}, xlabel='majmin'>,\n",
       "        <Axes: title={'center': 'false positive rate'}, xlabel='majmin'>,\n",
       "        <Axes: title={'center': 'false negative rate'}, xlabel='majmin'>],\n",
       "       [<Axes: title={'center': 'selection rate'}, xlabel='majmin'>,\n",
       "        <Axes: title={'center': 'count'}, xlabel='majmin'>,\n",
       "        <Axes: xlabel='majmin'>]], dtype=object)"
      ]
     },
     "execution_count": 76,
     "metadata": {},
     "output_type": "execute_result"
    },
    {
     "data": {
      "image/png": "[encoded data removed]",
      "text/plain": [
       "<Figure size 1200x800 with 9 Axes>"
      ]
     },
     "metadata": {},
     "output_type": "display_data"
    }
   ],
   "source": [
    "# In a graphic\n",
    "metric_frame.by_group.plot.bar(\n",
    "    subplots=True,\n",
    "    layout=[3, 3],\n",
    "    legend=False,\n",
    "    figsize=[12, 8],\n",
    "    title=\"Show all metrics\",\n",
    ")"
   ]
  },
  {
   "cell_type": "markdown",
   "id": "f57a0bac",
   "metadata": {
    "papermill": {
     "duration": 0.014869,
     "end_time": "2025-07-30T13:11:34.703371",
     "exception": false,
     "start_time": "2025-07-30T13:11:34.688502",
     "status": "completed"
    },
    "tags": []
   },
   "source": [
    "# Final Output"
   ]
  },
  {
   "cell_type": "code",
   "execution_count": 77,
   "id": "96d280a3",
   "metadata": {
    "execution": {
     "iopub.execute_input": "2025-07-30T13:11:34.734443Z",
     "iopub.status.busy": "2025-07-30T13:11:34.733983Z",
     "iopub.status.idle": "2025-07-30T13:11:34.740547Z",
     "shell.execute_reply": "2025-07-30T13:11:34.739822Z"
    },
    "papermill": {
     "duration": 0.023437,
     "end_time": "2025-07-30T13:11:34.741791",
     "exception": false,
     "start_time": "2025-07-30T13:11:34.718354",
     "status": "completed"
    },
    "tags": []
   },
   "outputs": [
    {
     "data": {
      "text/plain": [
       "4"
      ]
     },
     "execution_count": 77,
     "metadata": {},
     "output_type": "execute_result"
    }
   ],
   "source": [
    "sub_universes = universe_analysis.generate_sub_universes()\n",
    "len(sub_universes)"
   ]
  },
  {
   "cell_type": "code",
   "execution_count": 78,
   "id": "92adf7ba",
   "metadata": {
    "execution": {
     "iopub.execute_input": "2025-07-30T13:11:34.774636Z",
     "iopub.status.busy": "2025-07-30T13:11:34.773901Z",
     "iopub.status.idle": "2025-07-30T13:11:34.789381Z",
     "shell.execute_reply": "2025-07-30T13:11:34.788587Z"
    },
    "papermill": {
     "duration": 0.032785,
     "end_time": "2025-07-30T13:11:34.790749",
     "exception": false,
     "start_time": "2025-07-30T13:11:34.757964",
     "status": "completed"
    },
    "tags": []
   },
   "outputs": [],
   "source": [
    "def filter_sub_universe_data(sub_universe, org_test):\n",
    "    # Keep all rows — no filtering\n",
    "    keep_rows_mask = np.ones(org_test.shape[0], dtype=bool)\n",
    "\n",
    "    print(f\"[INFO] Keeping all rows: {keep_rows_mask.sum()} rows retained.\")\n",
    "    return keep_rows_mask"
   ]
  },
  {
   "cell_type": "code",
   "execution_count": 79,
   "id": "4a759155",
   "metadata": {
    "execution": {
     "iopub.execute_input": "2025-07-30T13:11:34.823845Z",
     "iopub.status.busy": "2025-07-30T13:11:34.823523Z",
     "iopub.status.idle": "2025-07-30T13:11:44.417827Z",
     "shell.execute_reply": "2025-07-30T13:11:44.417020Z"
    },
    "papermill": {
     "duration": 9.611938,
     "end_time": "2025-07-30T13:11:44.419169",
     "exception": false,
     "start_time": "2025-07-30T13:11:34.807231",
     "status": "completed"
    },
    "tags": []
   },
   "outputs": [
    {
     "name": "stdout",
     "output_type": "stream",
     "text": [
      "Stopping execution_time clock.\n",
      "[INFO] Keeping all rows: 89710 rows retained.\n"
     ]
    },
    {
     "name": "stdout",
     "output_type": "stream",
     "text": [
      "[INFO] Keeping all rows: 89710 rows retained.\n"
     ]
    },
    {
     "name": "stdout",
     "output_type": "stream",
     "text": [
      "[INFO] Keeping all rows: 89710 rows retained.\n"
     ]
    },
    {
     "name": "stdout",
     "output_type": "stream",
     "text": [
      "[INFO] Keeping all rows: 89710 rows retained.\n"
     ]
    },
    {
     "data": {
      "text/html": [
       "<div>\n",
       "<style scoped>\n",
       "    .dataframe tbody tr th:only-of-type {\n",
       "        vertical-align: middle;\n",
       "    }\n",
       "\n",
       "    .dataframe tbody tr th {\n",
       "        vertical-align: top;\n",
       "    }\n",
       "\n",
       "    .dataframe thead th {\n",
       "        text-align: right;\n",
       "    }\n",
       "</style>\n",
       "<table border=\"1\" class=\"dataframe\">\n",
       "  <thead>\n",
       "    <tr style=\"text-align: right;\">\n",
       "      <th></th>\n",
       "      <th>run_no</th>\n",
       "      <th>universe_id</th>\n",
       "      <th>universe_settings</th>\n",
       "      <th>execution_time</th>\n",
       "      <th>test_size_n</th>\n",
       "      <th>test_size_frac</th>\n",
       "      <th>fair_main_equalized_odds_difference</th>\n",
       "      <th>fair_main_equalized_odds_ratio</th>\n",
       "      <th>fair_main_demographic_parity_difference</th>\n",
       "      <th>fair_main_demographic_parity_ratio</th>\n",
       "      <th>...</th>\n",
       "      <th>perf_grp_precision_0</th>\n",
       "      <th>perf_grp_precision_1</th>\n",
       "      <th>perf_grp_false positive rate_0</th>\n",
       "      <th>perf_grp_false positive rate_1</th>\n",
       "      <th>perf_grp_false negative rate_0</th>\n",
       "      <th>perf_grp_false negative rate_1</th>\n",
       "      <th>perf_grp_selection rate_0</th>\n",
       "      <th>perf_grp_selection rate_1</th>\n",
       "      <th>perf_grp_count_0</th>\n",
       "      <th>perf_grp_count_1</th>\n",
       "    </tr>\n",
       "  </thead>\n",
       "  <tbody>\n",
       "    <tr>\n",
       "      <th>0</th>\n",
       "      <td>12</td>\n",
       "      <td>c0bcf10f417b274f04cc681c6171ea79</td>\n",
       "      <td>{\"cutoff\": \"quantile_0.1\", \"eval_fairness_grou...</td>\n",
       "      <td>47.278726</td>\n",
       "      <td>89710</td>\n",
       "      <td>1.0</td>\n",
       "      <td>0.087290</td>\n",
       "      <td>0.908495</td>\n",
       "      <td>0.075645</td>\n",
       "      <td>0.921066</td>\n",
       "      <td>...</td>\n",
       "      <td>NaN</td>\n",
       "      <td>NaN</td>\n",
       "      <td>NaN</td>\n",
       "      <td>NaN</td>\n",
       "      <td>NaN</td>\n",
       "      <td>NaN</td>\n",
       "      <td>NaN</td>\n",
       "      <td>NaN</td>\n",
       "      <td>NaN</td>\n",
       "      <td>NaN</td>\n",
       "    </tr>\n",
       "    <tr>\n",
       "      <th>0</th>\n",
       "      <td>12</td>\n",
       "      <td>c0bcf10f417b274f04cc681c6171ea79</td>\n",
       "      <td>{\"cutoff\": \"quantile_0.1\", \"eval_fairness_grou...</td>\n",
       "      <td>47.278726</td>\n",
       "      <td>89710</td>\n",
       "      <td>1.0</td>\n",
       "      <td>0.087290</td>\n",
       "      <td>0.908495</td>\n",
       "      <td>0.075645</td>\n",
       "      <td>0.921066</td>\n",
       "      <td>...</td>\n",
       "      <td>0.119336</td>\n",
       "      <td>0.147899</td>\n",
       "      <td>0.953940</td>\n",
       "      <td>0.866650</td>\n",
       "      <td>0.008024</td>\n",
       "      <td>0.012035</td>\n",
       "      <td>0.958325</td>\n",
       "      <td>0.882680</td>\n",
       "      <td>20540.0</td>\n",
       "      <td>69170.0</td>\n",
       "    </tr>\n",
       "    <tr>\n",
       "      <th>0</th>\n",
       "      <td>12</td>\n",
       "      <td>c0bcf10f417b274f04cc681c6171ea79</td>\n",
       "      <td>{\"cutoff\": \"quantile_0.25\", \"eval_fairness_gro...</td>\n",
       "      <td>47.278726</td>\n",
       "      <td>89710</td>\n",
       "      <td>1.0</td>\n",
       "      <td>0.099944</td>\n",
       "      <td>0.874685</td>\n",
       "      <td>0.081966</td>\n",
       "      <td>0.899204</td>\n",
       "      <td>...</td>\n",
       "      <td>NaN</td>\n",
       "      <td>NaN</td>\n",
       "      <td>NaN</td>\n",
       "      <td>NaN</td>\n",
       "      <td>NaN</td>\n",
       "      <td>NaN</td>\n",
       "      <td>NaN</td>\n",
       "      <td>NaN</td>\n",
       "      <td>NaN</td>\n",
       "      <td>NaN</td>\n",
       "    </tr>\n",
       "    <tr>\n",
       "      <th>0</th>\n",
       "      <td>12</td>\n",
       "      <td>c0bcf10f417b274f04cc681c6171ea79</td>\n",
       "      <td>{\"cutoff\": \"quantile_0.25\", \"eval_fairness_gro...</td>\n",
       "      <td>47.278726</td>\n",
       "      <td>89710</td>\n",
       "      <td>1.0</td>\n",
       "      <td>0.099944</td>\n",
       "      <td>0.874685</td>\n",
       "      <td>0.081966</td>\n",
       "      <td>0.899204</td>\n",
       "      <td>...</td>\n",
       "      <td>0.132312</td>\n",
       "      <td>0.172048</td>\n",
       "      <td>0.797546</td>\n",
       "      <td>0.697601</td>\n",
       "      <td>0.066723</td>\n",
       "      <td>0.047921</td>\n",
       "      <td>0.813194</td>\n",
       "      <td>0.731227</td>\n",
       "      <td>20540.0</td>\n",
       "      <td>69170.0</td>\n",
       "    </tr>\n",
       "  </tbody>\n",
       "</table>\n",
       "<p>4 rows × 50 columns</p>\n",
       "</div>"
      ],
      "text/plain": [
       "  run_no                       universe_id  \\\n",
       "0     12  c0bcf10f417b274f04cc681c6171ea79   \n",
       "0     12  c0bcf10f417b274f04cc681c6171ea79   \n",
       "0     12  c0bcf10f417b274f04cc681c6171ea79   \n",
       "0     12  c0bcf10f417b274f04cc681c6171ea79   \n",
       "\n",
       "                                   universe_settings  execution_time  \\\n",
       "0  {\"cutoff\": \"quantile_0.1\", \"eval_fairness_grou...       47.278726   \n",
       "0  {\"cutoff\": \"quantile_0.1\", \"eval_fairness_grou...       47.278726   \n",
       "0  {\"cutoff\": \"quantile_0.25\", \"eval_fairness_gro...       47.278726   \n",
       "0  {\"cutoff\": \"quantile_0.25\", \"eval_fairness_gro...       47.278726   \n",
       "\n",
       "   test_size_n  test_size_frac  fair_main_equalized_odds_difference  \\\n",
       "0        89710             1.0                             0.087290   \n",
       "0        89710             1.0                             0.087290   \n",
       "0        89710             1.0                             0.099944   \n",
       "0        89710             1.0                             0.099944   \n",
       "\n",
       "   fair_main_equalized_odds_ratio  fair_main_demographic_parity_difference  \\\n",
       "0                        0.908495                                 0.075645   \n",
       "0                        0.908495                                 0.075645   \n",
       "0                        0.874685                                 0.081966   \n",
       "0                        0.874685                                 0.081966   \n",
       "\n",
       "   fair_main_demographic_parity_ratio  ...  perf_grp_precision_0  \\\n",
       "0                            0.921066  ...                   NaN   \n",
       "0                            0.921066  ...              0.119336   \n",
       "0                            0.899204  ...                   NaN   \n",
       "0                            0.899204  ...              0.132312   \n",
       "\n",
       "   perf_grp_precision_1  perf_grp_false positive rate_0  \\\n",
       "0                   NaN                             NaN   \n",
       "0              0.147899                        0.953940   \n",
       "0                   NaN                             NaN   \n",
       "0              0.172048                        0.797546   \n",
       "\n",
       "   perf_grp_false positive rate_1  perf_grp_false negative rate_0  \\\n",
       "0                             NaN                             NaN   \n",
       "0                        0.866650                        0.008024   \n",
       "0                             NaN                             NaN   \n",
       "0                        0.697601                        0.066723   \n",
       "\n",
       "   perf_grp_false negative rate_1  perf_grp_selection rate_0  \\\n",
       "0                             NaN                        NaN   \n",
       "0                        0.012035                   0.958325   \n",
       "0                             NaN                        NaN   \n",
       "0                        0.047921                   0.813194   \n",
       "\n",
       "   perf_grp_selection rate_1  perf_grp_count_0  perf_grp_count_1  \n",
       "0                        NaN               NaN               NaN  \n",
       "0                   0.882680           20540.0           69170.0  \n",
       "0                        NaN               NaN               NaN  \n",
       "0                   0.731227           20540.0           69170.0  \n",
       "\n",
       "[4 rows x 50 columns]"
      ]
     },
     "execution_count": 79,
     "metadata": {},
     "output_type": "execute_result"
    }
   ],
   "source": [
    "final_output = universe_analysis.generate_final_output(\n",
    "    y_pred_prob=probs_test,\n",
    "    y_test=y_true,\n",
    "    org_test=org_test,\n",
    "    filter_data=filter_sub_universe_data,\n",
    "    cp_metrics_df=cp_metrics_df,\n",
    "    save=True,\n",
    ")\n",
    "final_output"
   ]
  },
  {
   "cell_type": "code",
   "execution_count": null,
   "id": "721ff514-cb11-46f8-b6fc-50392f74b5cb",
   "metadata": {
    "papermill": {
     "duration": 0.033229,
     "end_time": "2025-07-30T13:11:44.471074",
     "exception": false,
     "start_time": "2025-07-30T13:11:44.437845",
     "status": "completed"
    },
    "tags": []
   },
   "outputs": [],
   "source": []
  }
 ],
 "metadata": {
  "celltoolbar": "Tags",
  "kernelspec": {
   "display_name": "Python (CMA Fairness)",
   "language": "python",
   "name": "cma_fair_env"
  },
  "language_info": {
   "codemirror_mode": {
    "name": "ipython",
    "version": 3
   },
   "file_extension": ".py",
   "mimetype": "text/x-python",
   "name": "python",
   "nbconvert_exporter": "python",
   "pygments_lexer": "ipython3",
   "version": "3.10.12"
  },
  "papermill": {
   "default_parameters": {},
   "duration": 61.101136,
   "end_time": "2025-07-30T13:11:45.323764",
   "environment_variables": {},
   "exception": null,
   "input_path": "universe_analysis.ipynb",
   "output_path": "output/runs/12/notebooks/m_12-c0bcf10f417b274f04cc681c6171ea79.ipynb",
   "parameters": {
    "output_dir": "output",
    "run_no": "12",
    "seed": "2023",
    "universe": "{\"cutoff\": [\"quantile_0.1\", \"quantile_0.25\"], \"eval_fairness_grouping\": [\"majority-minority\", \"nationality-all\"], \"exclude_features\": \"nationality-sex\", \"exclude_subgroups\": \"drop-non-german\", \"model\": \"elasticnet\", \"scale\": \"scale\", \"training_size\": \"25k\", \"training_year\": \"2012_14\"}",
    "universe_id": "c0bcf10f417b274f04cc681c6171ea79"
   },
   "start_time": "2025-07-30T13:10:44.222628",
   "version": "2.6.0"
  }
 },
 "nbformat": 4,
 "nbformat_minor": 5
}