{
 "cells": [
  {
   "cell_type": "code",
   "execution_count": 1,
   "id": "f159f837-637b-42ba-96b5-ec9a68c44524",
   "metadata": {
    "execution": {
     "iopub.execute_input": "2025-07-30T13:06:58.452644Z",
     "iopub.status.busy": "2025-07-30T13:06:58.452241Z",
     "iopub.status.idle": "2025-07-30T13:06:58.466272Z",
     "shell.execute_reply": "2025-07-30T13:06:58.465142Z"
    },
    "papermill": {
     "duration": 0.036818,
     "end_time": "2025-07-30T13:06:58.468098",
     "exception": false,
     "start_time": "2025-07-30T13:06:58.431280",
     "status": "completed"
    },
    "tags": []
   },
   "outputs": [
    {
     "name": "stdout",
     "output_type": "stream",
     "text": [
      "/dss/dsshome1/0C/ra93lal2/cma/CMA_Fairness_v2\n"
     ]
    },
    {
     "name": "stderr",
     "output_type": "stream",
     "text": [
      "/dss/dsshome1/0C/ra93lal2/.local/share/virtualenvs/CMA_Fairness_v2-3j10GkSs/lib/python3.10/site-packages/IPython/core/magics/osm.py:393: UserWarning: This is now an optional IPython functionality, using bookmarks requires you to install the `pickleshare` library.\n",
      "  bkms = self.shell.db.get('bookmarks', {})\n",
      "/dss/dsshome1/0C/ra93lal2/.local/share/virtualenvs/CMA_Fairness_v2-3j10GkSs/lib/python3.10/site-packages/IPython/core/magics/osm.py:417: UserWarning: This is now an optional IPython functionality, setting dhist requires you to install the `pickleshare` library.\n",
      "  self.shell.db['dhist'] = compress_dhist(dhist)[-100:]\n"
     ]
    }
   ],
   "source": [
    "%cd ~/cma/CMA_Fairness_v2"
   ]
  },
  {
   "cell_type": "markdown",
   "id": "de2603b9",
   "metadata": {
    "papermill": {
     "duration": 0.01908,
     "end_time": "2025-07-30T13:06:58.508432",
     "exception": false,
     "start_time": "2025-07-30T13:06:58.489352",
     "status": "completed"
    },
    "tags": []
   },
   "source": [
    "The following cell holds the definition of our parameters, these values can be overriden by rendering the with e.g. the following command:\n",
    "\n",
    "papermill -p alpha 0.2 -p ratio 0.3 universe_analysis.ipynb output/test_run.ipynb"
   ]
  },
  {
   "cell_type": "code",
   "execution_count": 2,
   "id": "a80968a0-40bb-4fa9-85ef-2d5eefb01975",
   "metadata": {
    "execution": {
     "iopub.execute_input": "2025-07-30T13:06:58.550010Z",
     "iopub.status.busy": "2025-07-30T13:06:58.549562Z",
     "iopub.status.idle": "2025-07-30T13:06:58.554324Z",
     "shell.execute_reply": "2025-07-30T13:06:58.553313Z"
    },
    "papermill": {
     "duration": 0.028143,
     "end_time": "2025-07-30T13:06:58.555919",
     "exception": false,
     "start_time": "2025-07-30T13:06:58.527776",
     "status": "completed"
    },
    "tags": []
   },
   "outputs": [
    {
     "name": "stdout",
     "output_type": "stream",
     "text": [
      "Current working directory: /dss/dsshome1/0C/ra93lal2/cma/CMA_Fairness_v2\n"
     ]
    }
   ],
   "source": [
    "import os\n",
    "print(\"Current working directory:\", os.getcwd())"
   ]
  },
  {
   "cell_type": "code",
   "execution_count": 3,
   "id": "2dce4c03",
   "metadata": {
    "execution": {
     "iopub.execute_input": "2025-07-30T13:06:58.600388Z",
     "iopub.status.busy": "2025-07-30T13:06:58.599627Z",
     "iopub.status.idle": "2025-07-30T13:06:58.606341Z",
     "shell.execute_reply": "2025-07-30T13:06:58.605316Z"
    },
    "papermill": {
     "duration": 0.03065,
     "end_time": "2025-07-30T13:06:58.608024",
     "exception": false,
     "start_time": "2025-07-30T13:06:58.577374",
     "status": "completed"
    },
    "tags": [
     "parameters"
    ]
   },
   "outputs": [],
   "source": [
    "run_no = 0\n",
    "universe_id = \"test\"\n",
    "universe = {\n",
    "    \"training_size\": \"25k\", # \"25k\", \"5k\", \"1k\"\n",
    "    \"training_year\": \"2014\", # \"2014\", \"2012_14\", \"2010_14\"\n",
    "    \"scale\": \"scale\", # \"scale\", \"do-not-scale\",\n",
    "    #\"stratify_split\": \"target\", # \"none\", \"target\", \"protected-attribute\", \"both\",\n",
    "    \"model\": \"elasticnet\", # \"logreg\", \"penalized_logreg\", \"rf\", \"gbm\", \"elasticnet\"\n",
    "    \"cutoff\": [\"quantile_0.15\", \"quantile_0.30\"],\n",
    "    \"exclude_features\": \"age\", # \"none\", \"nationality\", \"sex\", \"nationality-sex\", \"age\"\n",
    "    \"exclude_subgroups\": \"keep-all\", # \"keep-all\", \"drop-non-german\"\n",
    "    \"eval_fairness_grouping\": [\"majority-minority\", \"nationality-all\"]\n",
    "}\n",
    "\n",
    "output_dir=\"./output\"\n",
    "seed=0"
   ]
  },
  {
   "cell_type": "code",
   "execution_count": 4,
   "id": "b0b8fcf7",
   "metadata": {
    "execution": {
     "iopub.execute_input": "2025-07-30T13:06:58.649945Z",
     "iopub.status.busy": "2025-07-30T13:06:58.649274Z",
     "iopub.status.idle": "2025-07-30T13:06:58.654859Z",
     "shell.execute_reply": "2025-07-30T13:06:58.653761Z"
    },
    "papermill": {
     "duration": 0.027424,
     "end_time": "2025-07-30T13:06:58.656408",
     "exception": false,
     "start_time": "2025-07-30T13:06:58.628984",
     "status": "completed"
    },
    "tags": [
     "injected-parameters"
    ]
   },
   "outputs": [],
   "source": [
    "# Parameters\n",
    "universe_id = \"57d8788a482108a422286a5a2df21abc\"\n",
    "run_no = \"12\"\n",
    "universe = \"{\\\"cutoff\\\": [\\\"quantile_0.1\\\", \\\"quantile_0.25\\\"], \\\"eval_fairness_grouping\\\": [\\\"majority-minority\\\", \\\"nationality-all\\\"], \\\"exclude_features\\\": \\\"nationality\\\", \\\"exclude_subgroups\\\": \\\"drop-non-german\\\", \\\"model\\\": \\\"rf\\\", \\\"scale\\\": \\\"scale\\\", \\\"training_size\\\": \\\"25k\\\", \\\"training_year\\\": \\\"2012_14\\\"}\"\n",
    "output_dir = \"output\"\n",
    "seed = \"2023\"\n"
   ]
  },
  {
   "cell_type": "code",
   "execution_count": 5,
   "id": "1650acaf",
   "metadata": {
    "execution": {
     "iopub.execute_input": "2025-07-30T13:06:58.701240Z",
     "iopub.status.busy": "2025-07-30T13:06:58.700479Z",
     "iopub.status.idle": "2025-07-30T13:06:58.705732Z",
     "shell.execute_reply": "2025-07-30T13:06:58.704870Z"
    },
    "papermill": {
     "duration": 0.028933,
     "end_time": "2025-07-30T13:06:58.707216",
     "exception": false,
     "start_time": "2025-07-30T13:06:58.678283",
     "status": "completed"
    },
    "tags": []
   },
   "outputs": [],
   "source": [
    "import json\n",
    "# Parse universe into dict if it is passed as a string\n",
    "if isinstance(universe, str):\n",
    "    universe = json.loads(universe)"
   ]
  },
  {
   "cell_type": "code",
   "execution_count": 6,
   "id": "16620c48",
   "metadata": {
    "execution": {
     "iopub.execute_input": "2025-07-30T13:06:58.748386Z",
     "iopub.status.busy": "2025-07-30T13:06:58.747883Z",
     "iopub.status.idle": "2025-07-30T13:06:58.891286Z",
     "shell.execute_reply": "2025-07-30T13:06:58.890197Z"
    },
    "papermill": {
     "duration": 0.166257,
     "end_time": "2025-07-30T13:06:58.893287",
     "exception": false,
     "start_time": "2025-07-30T13:06:58.727030",
     "status": "completed"
    },
    "tags": []
   },
   "outputs": [],
   "source": [
    "# Auto-reload the custom package\n",
    "%load_ext autoreload\n",
    "%autoreload 1\n",
    "%aimport fairness_multiverse"
   ]
  },
  {
   "cell_type": "code",
   "execution_count": 7,
   "id": "01c5c9f3",
   "metadata": {
    "execution": {
     "iopub.execute_input": "2025-07-30T13:06:58.937537Z",
     "iopub.status.busy": "2025-07-30T13:06:58.937047Z",
     "iopub.status.idle": "2025-07-30T13:07:00.901840Z",
     "shell.execute_reply": "2025-07-30T13:07:00.900868Z"
    },
    "papermill": {
     "duration": 1.988863,
     "end_time": "2025-07-30T13:07:00.903697",
     "exception": false,
     "start_time": "2025-07-30T13:06:58.914834",
     "status": "completed"
    },
    "tags": []
   },
   "outputs": [],
   "source": [
    "from fairness_multiverse.universe import UniverseAnalysis\n",
    "\n",
    "universe_analysis = UniverseAnalysis(\n",
    "    run_no = run_no,\n",
    "    universe_id = universe_id,\n",
    "    universe = universe,\n",
    "    output_dir=output_dir,\n",
    ")"
   ]
  },
  {
   "cell_type": "code",
   "execution_count": 8,
   "id": "106241f5",
   "metadata": {
    "execution": {
     "iopub.execute_input": "2025-07-30T13:07:00.945029Z",
     "iopub.status.busy": "2025-07-30T13:07:00.944524Z",
     "iopub.status.idle": "2025-07-30T13:07:00.951882Z",
     "shell.execute_reply": "2025-07-30T13:07:00.950764Z"
    },
    "papermill": {
     "duration": 0.030395,
     "end_time": "2025-07-30T13:07:00.953684",
     "exception": false,
     "start_time": "2025-07-30T13:07:00.923289",
     "status": "completed"
    },
    "tags": []
   },
   "outputs": [
    {
     "name": "stdout",
     "output_type": "stream",
     "text": [
      "Using Seed: 2023\n"
     ]
    }
   ],
   "source": [
    "import numpy as np\n",
    "parsed_seed = int(seed)\n",
    "np.random.seed(parsed_seed)\n",
    "print(f\"Using Seed: {parsed_seed}\")"
   ]
  },
  {
   "cell_type": "markdown",
   "id": "e0ebdc57",
   "metadata": {
    "papermill": {
     "duration": 0.019785,
     "end_time": "2025-07-30T13:07:00.993879",
     "exception": false,
     "start_time": "2025-07-30T13:07:00.974094",
     "status": "completed"
    },
    "tags": []
   },
   "source": [
    "# Loading Data"
   ]
  },
  {
   "cell_type": "markdown",
   "id": "681925a3",
   "metadata": {
    "papermill": {
     "duration": 0.021639,
     "end_time": "2025-07-30T13:07:01.035150",
     "exception": false,
     "start_time": "2025-07-30T13:07:01.013511",
     "status": "completed"
    },
    "tags": []
   },
   "source": [
    "Load siab_train, siab_test, siab_calib and/or \n",
    "load siab_train_features, siab_train_labels"
   ]
  },
  {
   "cell_type": "code",
   "execution_count": 9,
   "id": "f0496b8a",
   "metadata": {
    "execution": {
     "iopub.execute_input": "2025-07-30T13:07:01.079890Z",
     "iopub.status.busy": "2025-07-30T13:07:01.079229Z",
     "iopub.status.idle": "2025-07-30T13:07:16.358694Z",
     "shell.execute_reply": "2025-07-30T13:07:16.357505Z"
    },
    "papermill": {
     "duration": 15.302673,
     "end_time": "2025-07-30T13:07:16.360796",
     "exception": false,
     "start_time": "2025-07-30T13:07:01.058123",
     "status": "completed"
    },
    "tags": []
   },
   "outputs": [
    {
     "name": "stdout",
     "output_type": "stream",
     "text": [
      "Loading SIAB data from cache: data/siab_cached.csv.gz\n"
     ]
    },
    {
     "name": "stdout",
     "output_type": "stream",
     "text": [
      "(643690, 164)\n"
     ]
    }
   ],
   "source": [
    "from pathlib import Path\n",
    "import pandas as pd\n",
    "\n",
    "# File paths\n",
    "raw_file = Path(\"data/raw/siab.csv\")\n",
    "cache_file = Path(\"data/siab_cached.csv.gz\")\n",
    "\n",
    "# Ensure cache directory exists\n",
    "cache_file.parent.mkdir(parents=True, exist_ok=True)\n",
    "\n",
    "# Load with simple caching\n",
    "if cache_file.exists():\n",
    "    print(f\"Loading SIAB data from cache: {cache_file}\")\n",
    "    siab = pd.read_csv(cache_file, compression='gzip')\n",
    "else:\n",
    "    print(f\"Cache not found. Reading raw SIAB data: {raw_file}\")\n",
    "    siab = pd.read_csv(raw_file)\n",
    "    siab.to_csv(cache_file, index=False, compression='gzip')\n",
    "    print(f\"Cached SIAB data to: {cache_file}\")\n",
    "\n",
    "# Now use `siab` DataFrame as needed\n",
    "print(siab.shape)"
   ]
  },
  {
   "cell_type": "code",
   "execution_count": 10,
   "id": "db0ca512-5f53-4dba-abdb-a2888bca41ba",
   "metadata": {
    "execution": {
     "iopub.execute_input": "2025-07-30T13:07:16.423387Z",
     "iopub.status.busy": "2025-07-30T13:07:16.422875Z",
     "iopub.status.idle": "2025-07-30T13:07:16.428739Z",
     "shell.execute_reply": "2025-07-30T13:07:16.427664Z"
    },
    "papermill": {
     "duration": 0.031063,
     "end_time": "2025-07-30T13:07:16.431343",
     "exception": false,
     "start_time": "2025-07-30T13:07:16.400280",
     "status": "completed"
    },
    "tags": []
   },
   "outputs": [],
   "source": [
    "#siab"
   ]
  },
  {
   "cell_type": "code",
   "execution_count": 11,
   "id": "a0edb063",
   "metadata": {
    "execution": {
     "iopub.execute_input": "2025-07-30T13:07:16.476560Z",
     "iopub.status.busy": "2025-07-30T13:07:16.476135Z",
     "iopub.status.idle": "2025-07-30T13:07:16.481631Z",
     "shell.execute_reply": "2025-07-30T13:07:16.480558Z"
    },
    "papermill": {
     "duration": 0.030433,
     "end_time": "2025-07-30T13:07:16.485287",
     "exception": false,
     "start_time": "2025-07-30T13:07:16.454854",
     "status": "completed"
    },
    "tags": []
   },
   "outputs": [],
   "source": [
    "#import pandas as pd\n",
    "#\n",
    "#X_train = pd.read_csv(\"./data/X_train.csv\")\n",
    "#y_train = pd.read_csv(\"./data/y_train.csv\")"
   ]
  },
  {
   "cell_type": "code",
   "execution_count": 12,
   "id": "63d08085",
   "metadata": {
    "execution": {
     "iopub.execute_input": "2025-07-30T13:07:16.597784Z",
     "iopub.status.busy": "2025-07-30T13:07:16.597408Z",
     "iopub.status.idle": "2025-07-30T13:07:16.602697Z",
     "shell.execute_reply": "2025-07-30T13:07:16.601543Z"
    },
    "papermill": {
     "duration": 0.030671,
     "end_time": "2025-07-30T13:07:16.606176",
     "exception": false,
     "start_time": "2025-07-30T13:07:16.575505",
     "status": "completed"
    },
    "tags": []
   },
   "outputs": [],
   "source": [
    "#X_test = pd.read_csv(\"./data/X_test.csv\")\n",
    "#y_true = pd.read_csv(\"./data/y_test.csv\")"
   ]
  },
  {
   "cell_type": "code",
   "execution_count": 13,
   "id": "98a8d0fa-1d3d-4ed8-bb2c-281470e24add",
   "metadata": {
    "execution": {
     "iopub.execute_input": "2025-07-30T13:07:16.673989Z",
     "iopub.status.busy": "2025-07-30T13:07:16.673609Z",
     "iopub.status.idle": "2025-07-30T13:07:16.678683Z",
     "shell.execute_reply": "2025-07-30T13:07:16.677668Z"
    },
    "papermill": {
     "duration": 0.049354,
     "end_time": "2025-07-30T13:07:16.681620",
     "exception": false,
     "start_time": "2025-07-30T13:07:16.632266",
     "status": "completed"
    },
    "tags": []
   },
   "outputs": [],
   "source": [
    "# Calibration data for conformal\n",
    "#X_calib = pd.read_csv(\"./data/X_calib.csv\")\n",
    "#y_calib = pd.read_csv(\"./data/y_calib.csv\")"
   ]
  },
  {
   "cell_type": "markdown",
   "id": "997051c5-15bd-4b69-9786-c3001a3ce484",
   "metadata": {
    "papermill": {
     "duration": 0.036084,
     "end_time": "2025-07-30T13:07:16.772816",
     "exception": false,
     "start_time": "2025-07-30T13:07:16.736732",
     "status": "completed"
    },
    "tags": []
   },
   "source": [
    "# Splitting Data and Setting Training Data Size"
   ]
  },
  {
   "cell_type": "code",
   "execution_count": 14,
   "id": "e993b61f-042d-41a6-8c81-f55681f86335",
   "metadata": {
    "execution": {
     "iopub.execute_input": "2025-07-30T13:07:16.809634Z",
     "iopub.status.busy": "2025-07-30T13:07:16.809198Z",
     "iopub.status.idle": "2025-07-30T13:07:16.823008Z",
     "shell.execute_reply": "2025-07-30T13:07:16.822001Z"
    },
    "papermill": {
     "duration": 0.032521,
     "end_time": "2025-07-30T13:07:16.825923",
     "exception": false,
     "start_time": "2025-07-30T13:07:16.793402",
     "status": "completed"
    },
    "tags": []
   },
   "outputs": [],
   "source": [
    "def sample_by_year_size(df,\n",
    "                        training_year: str,\n",
    "                        training_size: str,\n",
    "                        random_state: int = 42):\n",
    "    # --- parse training_year into a list of int years ---\n",
    "    if \"_\" in training_year:\n",
    "        start_str, end_str = training_year.split(\"_\", 1)\n",
    "        start = int(start_str)\n",
    "        end   = int(end_str) if len(end_str) == 4 else (int(end_str) + (start // 100)*100)\n",
    "        years = list(range(start, end + 1))\n",
    "    else:\n",
    "        years = [int(training_year)]\n",
    "\n",
    "    df = df[df[\"year\"].isin(years)].reset_index(drop=True)\n",
    "\n",
    "    # --- map training_size to total number of samples ---\n",
    "    total_map = {\"25k\": 25_000, \"5k\": 5_000, \"1k\": 1_000}\n",
    "    if training_size not in total_map:\n",
    "        return df  # e.g. \"all\"\n",
    "\n",
    "    total_samples = total_map[training_size]\n",
    "    n_years       = len(years)\n",
    "    base          = total_samples // n_years\n",
    "    remainder     = total_samples % n_years\n",
    "\n",
    "    # --- build a dict: year -> how many to sample ---\n",
    "    # give +1 to the first `remainder` years in ascending order\n",
    "    quotas = {\n",
    "        year: base + (1 if idx < remainder else 0)\n",
    "        for idx, year in enumerate(sorted(years))\n",
    "    }\n",
    "\n",
    "    # --- sample per‐year according to the quota dict ---\n",
    "    sampled = (\n",
    "        df\n",
    "        .groupby(\"year\", group_keys=False)\n",
    "        .apply(lambda grp: grp.sample(\n",
    "            n=min(len(grp), quotas[grp.name]),\n",
    "            random_state=random_state))\n",
    "        .reset_index(drop=True)\n",
    "    )\n",
    "\n",
    "    return sampled"
   ]
  },
  {
   "cell_type": "code",
   "execution_count": 15,
   "id": "c0ccd338-0e02-41f3-a09d-f56f9266e3fb",
   "metadata": {
    "execution": {
     "iopub.execute_input": "2025-07-30T13:07:16.913290Z",
     "iopub.status.busy": "2025-07-30T13:07:16.912866Z",
     "iopub.status.idle": "2025-07-30T13:07:16.928228Z",
     "shell.execute_reply": "2025-07-30T13:07:16.927242Z"
    },
    "papermill": {
     "duration": 0.065392,
     "end_time": "2025-07-30T13:07:16.930256",
     "exception": false,
     "start_time": "2025-07-30T13:07:16.864864",
     "status": "completed"
    },
    "tags": []
   },
   "outputs": [
    {
     "data": {
      "text/plain": [
       "'25k'"
      ]
     },
     "execution_count": 15,
     "metadata": {},
     "output_type": "execute_result"
    }
   ],
   "source": [
    "universe[\"training_size\"]"
   ]
  },
  {
   "cell_type": "code",
   "execution_count": 16,
   "id": "ca707fd7-8047-4acd-bfa5-66248fbbf8e6",
   "metadata": {
    "execution": {
     "iopub.execute_input": "2025-07-30T13:07:17.030684Z",
     "iopub.status.busy": "2025-07-30T13:07:17.030297Z",
     "iopub.status.idle": "2025-07-30T13:07:17.039944Z",
     "shell.execute_reply": "2025-07-30T13:07:17.039004Z"
    },
    "papermill": {
     "duration": 0.064075,
     "end_time": "2025-07-30T13:07:17.041767",
     "exception": false,
     "start_time": "2025-07-30T13:07:16.977692",
     "status": "completed"
    },
    "tags": []
   },
   "outputs": [
    {
     "data": {
      "text/plain": [
       "'2012_14'"
      ]
     },
     "execution_count": 16,
     "metadata": {},
     "output_type": "execute_result"
    }
   ],
   "source": [
    "universe[\"training_year\"]"
   ]
  },
  {
   "cell_type": "code",
   "execution_count": 17,
   "id": "aea9c6ef-6f46-42c8-85eb-5a62025c1508",
   "metadata": {
    "execution": {
     "iopub.execute_input": "2025-07-30T13:07:17.089013Z",
     "iopub.status.busy": "2025-07-30T13:07:17.088624Z",
     "iopub.status.idle": "2025-07-30T13:07:18.029225Z",
     "shell.execute_reply": "2025-07-30T13:07:18.016992Z"
    },
    "papermill": {
     "duration": 0.96683,
     "end_time": "2025-07-30T13:07:18.031464",
     "exception": false,
     "start_time": "2025-07-30T13:07:17.064634",
     "status": "completed"
    },
    "tags": []
   },
   "outputs": [],
   "source": [
    "siab_train = sample_by_year_size(siab,\n",
    "                               training_year=universe[\"training_year\"],\n",
    "                               training_size=universe[\"training_size\"])"
   ]
  },
  {
   "cell_type": "code",
   "execution_count": 18,
   "id": "8d3afb32-789d-442c-8d5d-9f5aa8dd2eed",
   "metadata": {
    "execution": {
     "iopub.execute_input": "2025-07-30T13:07:18.123075Z",
     "iopub.status.busy": "2025-07-30T13:07:18.122666Z",
     "iopub.status.idle": "2025-07-30T13:07:18.132013Z",
     "shell.execute_reply": "2025-07-30T13:07:18.130730Z"
    },
    "papermill": {
     "duration": 0.069248,
     "end_time": "2025-07-30T13:07:18.137892",
     "exception": false,
     "start_time": "2025-07-30T13:07:18.068644",
     "status": "completed"
    },
    "tags": []
   },
   "outputs": [
    {
     "data": {
      "text/plain": [
       "(25000, 164)"
      ]
     },
     "execution_count": 18,
     "metadata": {},
     "output_type": "execute_result"
    }
   ],
   "source": [
    "siab_train.shape"
   ]
  },
  {
   "cell_type": "code",
   "execution_count": 19,
   "id": "d582db68-1a4c-47fb-84fc-08518dc1975a",
   "metadata": {
    "execution": {
     "iopub.execute_input": "2025-07-30T13:07:18.241547Z",
     "iopub.status.busy": "2025-07-30T13:07:18.241069Z",
     "iopub.status.idle": "2025-07-30T13:07:18.252716Z",
     "shell.execute_reply": "2025-07-30T13:07:18.251642Z"
    },
    "papermill": {
     "duration": 0.058134,
     "end_time": "2025-07-30T13:07:18.254879",
     "exception": false,
     "start_time": "2025-07-30T13:07:18.196745",
     "status": "completed"
    },
    "tags": []
   },
   "outputs": [
    {
     "data": {
      "text/plain": [
       "year\n",
       "2012    8334\n",
       "2013    8333\n",
       "2014    8333\n",
       "dtype: int64"
      ]
     },
     "metadata": {},
     "output_type": "display_data"
    }
   ],
   "source": [
    "display(siab_train.groupby(\"year\").size())"
   ]
  },
  {
   "cell_type": "code",
   "execution_count": 20,
   "id": "a561edb4-d032-42cb-8256-22eac1111c64",
   "metadata": {
    "execution": {
     "iopub.execute_input": "2025-07-30T13:07:18.371056Z",
     "iopub.status.busy": "2025-07-30T13:07:18.370590Z",
     "iopub.status.idle": "2025-07-30T13:07:18.890161Z",
     "shell.execute_reply": "2025-07-30T13:07:18.889130Z"
    },
    "papermill": {
     "duration": 0.594056,
     "end_time": "2025-07-30T13:07:18.892310",
     "exception": false,
     "start_time": "2025-07-30T13:07:18.298254",
     "status": "completed"
    },
    "tags": []
   },
   "outputs": [],
   "source": [
    "#siab_train = siab_s[siab_s.year < 2015]\n",
    "siab_calib = siab[siab.year == 2015]\n",
    "siab_test = siab[siab.year == 2016]"
   ]
  },
  {
   "cell_type": "code",
   "execution_count": 21,
   "id": "472de16f-c3db-4916-846b-1f0de9cf1746",
   "metadata": {
    "execution": {
     "iopub.execute_input": "2025-07-30T13:07:18.948329Z",
     "iopub.status.busy": "2025-07-30T13:07:18.947910Z",
     "iopub.status.idle": "2025-07-30T13:07:18.965099Z",
     "shell.execute_reply": "2025-07-30T13:07:18.962249Z"
    },
    "papermill": {
     "duration": 0.045716,
     "end_time": "2025-07-30T13:07:18.969285",
     "exception": false,
     "start_time": "2025-07-30T13:07:18.923569",
     "status": "completed"
    },
    "tags": []
   },
   "outputs": [],
   "source": [
    "X_train = siab_train.iloc[:,4:164]\n",
    "y_train = siab_train.iloc[:, [3]]"
   ]
  },
  {
   "cell_type": "code",
   "execution_count": 22,
   "id": "828c96af-f43a-4ed6-ba47-8ac73a47d56c",
   "metadata": {
    "execution": {
     "iopub.execute_input": "2025-07-30T13:07:19.084806Z",
     "iopub.status.busy": "2025-07-30T13:07:19.084428Z",
     "iopub.status.idle": "2025-07-30T13:07:19.174559Z",
     "shell.execute_reply": "2025-07-30T13:07:19.173480Z"
    },
    "papermill": {
     "duration": 0.136216,
     "end_time": "2025-07-30T13:07:19.176836",
     "exception": false,
     "start_time": "2025-07-30T13:07:19.040620",
     "status": "completed"
    },
    "tags": []
   },
   "outputs": [],
   "source": [
    "X_calib = siab_calib.iloc[:,4:164]\n",
    "y_calib = siab_calib.iloc[:, [3]]"
   ]
  },
  {
   "cell_type": "code",
   "execution_count": 23,
   "id": "c34be9c3-6bd6-476e-acd3-845840e303be",
   "metadata": {
    "execution": {
     "iopub.execute_input": "2025-07-30T13:07:19.221297Z",
     "iopub.status.busy": "2025-07-30T13:07:19.220776Z",
     "iopub.status.idle": "2025-07-30T13:07:19.353313Z",
     "shell.execute_reply": "2025-07-30T13:07:19.352133Z"
    },
    "papermill": {
     "duration": 0.157101,
     "end_time": "2025-07-30T13:07:19.355356",
     "exception": false,
     "start_time": "2025-07-30T13:07:19.198255",
     "status": "completed"
    },
    "tags": []
   },
   "outputs": [],
   "source": [
    "X_test = siab_test.iloc[:,4:164]\n",
    "y_true = siab_test.iloc[:, [3]]"
   ]
  },
  {
   "cell_type": "markdown",
   "id": "9901737e-04df-44f0-9100-f5ad144ed040",
   "metadata": {
    "papermill": {
     "duration": 0.051228,
     "end_time": "2025-07-30T13:07:19.461916",
     "exception": false,
     "start_time": "2025-07-30T13:07:19.410688",
     "status": "completed"
    },
    "tags": []
   },
   "source": [
    "# Splitting Data and Setting Training Data Size OLD VERSION"
   ]
  },
  {
   "cell_type": "code",
   "execution_count": 24,
   "id": "acbc8f7d-8fc8-4e86-8c59-5dcb0f58384b",
   "metadata": {
    "execution": {
     "iopub.execute_input": "2025-07-30T13:07:19.582153Z",
     "iopub.status.busy": "2025-07-30T13:07:19.581726Z",
     "iopub.status.idle": "2025-07-30T13:07:19.587559Z",
     "shell.execute_reply": "2025-07-30T13:07:19.586489Z"
    },
    "papermill": {
     "duration": 0.103195,
     "end_time": "2025-07-30T13:07:19.589446",
     "exception": false,
     "start_time": "2025-07-30T13:07:19.486251",
     "status": "completed"
    },
    "tags": []
   },
   "outputs": [],
   "source": [
    "#def sample_by_year(df, training_size, random_state=42):\n",
    "#    if training_size == \"2014\":\n",
    "#        return df[df[\"year\"] == 2014].reset_index(drop=True)\n",
    "#    \n",
    "#    size_map = {\n",
    "#        \"25k\": 5000,\n",
    "#        \"5k\": 1000,\n",
    "#        \"1k\": 200\n",
    "#    }\n",
    "#\n",
    "#    if training_size not in size_map:\n",
    "#        return df.reset_index(drop=True)  # use all data\n",
    "#\n",
    "#    n_per_year = size_map[training_size]\n",
    "#    grouped = df.groupby(\"year\")\n",
    "#    sampled = grouped.apply(lambda x: x.sample(n=min(n_per_year, len(x)), random_state=random_state))\n",
    "#    return sampled.reset_index(drop=True)"
   ]
  },
  {
   "cell_type": "code",
   "execution_count": 25,
   "id": "6d931f52-beaf-43ff-9e78-9d44a448d54e",
   "metadata": {
    "execution": {
     "iopub.execute_input": "2025-07-30T13:07:19.681317Z",
     "iopub.status.busy": "2025-07-30T13:07:19.680905Z",
     "iopub.status.idle": "2025-07-30T13:07:19.687051Z",
     "shell.execute_reply": "2025-07-30T13:07:19.686069Z"
    },
    "papermill": {
     "duration": 0.047182,
     "end_time": "2025-07-30T13:07:19.689786",
     "exception": false,
     "start_time": "2025-07-30T13:07:19.642604",
     "status": "completed"
    },
    "tags": []
   },
   "outputs": [],
   "source": [
    "#siab_s = sample_by_year(siab, universe[\"training_size\"])"
   ]
  },
  {
   "cell_type": "code",
   "execution_count": 26,
   "id": "5db0a40e-a4e2-4920-be85-b12ae061d70d",
   "metadata": {
    "execution": {
     "iopub.execute_input": "2025-07-30T13:07:19.744226Z",
     "iopub.status.busy": "2025-07-30T13:07:19.743719Z",
     "iopub.status.idle": "2025-07-30T13:07:19.749289Z",
     "shell.execute_reply": "2025-07-30T13:07:19.748249Z"
    },
    "papermill": {
     "duration": 0.047266,
     "end_time": "2025-07-30T13:07:19.762319",
     "exception": false,
     "start_time": "2025-07-30T13:07:19.715053",
     "status": "completed"
    },
    "tags": []
   },
   "outputs": [],
   "source": [
    "#display(siab_s.groupby(\"year\").size())"
   ]
  },
  {
   "cell_type": "code",
   "execution_count": 27,
   "id": "e6c733c5",
   "metadata": {
    "execution": {
     "iopub.execute_input": "2025-07-30T13:07:19.840574Z",
     "iopub.status.busy": "2025-07-30T13:07:19.840067Z",
     "iopub.status.idle": "2025-07-30T13:07:19.941693Z",
     "shell.execute_reply": "2025-07-30T13:07:19.940743Z"
    },
    "papermill": {
     "duration": 0.141856,
     "end_time": "2025-07-30T13:07:19.943452",
     "exception": false,
     "start_time": "2025-07-30T13:07:19.801596",
     "status": "completed"
    },
    "tags": []
   },
   "outputs": [],
   "source": [
    "# Auxiliary data needed downstream in the pipeline\n",
    "\n",
    "org_train = X_train.copy()\n",
    "org_test = X_test.copy()\n",
    "org_calib = X_calib.copy()"
   ]
  },
  {
   "cell_type": "code",
   "execution_count": 28,
   "id": "1466abac-c6da-4492-a62f-4240ae3783af",
   "metadata": {
    "execution": {
     "iopub.execute_input": "2025-07-30T13:07:20.050948Z",
     "iopub.status.busy": "2025-07-30T13:07:20.050541Z",
     "iopub.status.idle": "2025-07-30T13:07:20.056892Z",
     "shell.execute_reply": "2025-07-30T13:07:20.055778Z"
    },
    "papermill": {
     "duration": 0.061946,
     "end_time": "2025-07-30T13:07:20.058534",
     "exception": false,
     "start_time": "2025-07-30T13:07:19.996588",
     "status": "completed"
    },
    "tags": []
   },
   "outputs": [],
   "source": [
    "# put in other script?\n",
    "# Group sizes\n",
    "\n",
    "#def calculate_percentages(df, df_name):\n",
    "#    total_entries = len(df)\n",
    "#\n",
    "#    female_pct = (df['frau1'] == 1).mean() * 100\n",
    "#    non_german_pct = ((df['maxdeutsch1'] == 0) & (df['maxdeutsch.Missing.'] == 0)).mean() * 100\n",
    "#    non_german_male_pct = ((df['frau1'] == 0) & (df['maxdeutsch1'] == 0) & (df['maxdeutsch.Missing.'] == 0)).mean() * 100\n",
    "#    non_german_female_pct = ((df['frau1'] == 1) & (df['maxdeutsch1'] == 0) & (df['maxdeutsch.Missing.'] == 0)).mean() * 100\n",
    "#\n",
    "#    print(f\"--- {df_name} ---\")\n",
    "#    print(f\"Female: {female_pct:.2f}%\")\n",
    "#    print(f\"Non-German: {non_german_pct:.2f}%\")\n",
    "#    print(f\"Non-German Male: {non_german_male_pct:.2f}%\")\n",
    "#    print(f\"Non-German Female: {non_german_female_pct:.2f}%\\n\")\n",
    "#\n",
    "## Calculate for each DataFrame\n",
    "#calculate_percentages(siab_calib, \"siab_calib\")\n",
    "#calculate_percentages(siab_test, \"siab_test\")\n",
    "#calculate_percentages(siab_train, \"siab_train\")"
   ]
  },
  {
   "cell_type": "markdown",
   "id": "0a4a1b33",
   "metadata": {
    "papermill": {
     "duration": 0.064165,
     "end_time": "2025-07-30T13:07:20.196433",
     "exception": false,
     "start_time": "2025-07-30T13:07:20.132268",
     "status": "completed"
    },
    "tags": []
   },
   "source": [
    "# Preprocessing Data"
   ]
  },
  {
   "cell_type": "code",
   "execution_count": 29,
   "id": "ca879031",
   "metadata": {
    "execution": {
     "iopub.execute_input": "2025-07-30T13:07:20.311494Z",
     "iopub.status.busy": "2025-07-30T13:07:20.311099Z",
     "iopub.status.idle": "2025-07-30T13:07:20.319579Z",
     "shell.execute_reply": "2025-07-30T13:07:20.318319Z"
    },
    "papermill": {
     "duration": 0.082464,
     "end_time": "2025-07-30T13:07:20.321806",
     "exception": false,
     "start_time": "2025-07-30T13:07:20.239342",
     "status": "completed"
    },
    "tags": []
   },
   "outputs": [],
   "source": [
    "# EXCLUDE PROTECTED FEATURES\n",
    "# ----------------------\n",
    "# \"exclude_features\": \"none\", # \"nationality\", \"sex\", \"nationality-sex\"\n",
    "\n",
    "excluded_features = universe[\"exclude_features\"].split(\"-\") # split, e.g.: \"nationality-sex\" -> [\"nationality\", \"sex\"]\n",
    "excluded_features_dictionary = {\n",
    "    \"nationality\": [\"maxdeutsch1\", \"maxdeutsch.Missing.\"],\n",
    "    \"sex\": [\"frau1\"],\n",
    "    \"age\": [\"age\"],\n",
    "}\n"
   ]
  },
  {
   "cell_type": "code",
   "execution_count": 30,
   "id": "b745ac60",
   "metadata": {
    "execution": {
     "iopub.execute_input": "2025-07-30T13:07:20.427243Z",
     "iopub.status.busy": "2025-07-30T13:07:20.426850Z",
     "iopub.status.idle": "2025-07-30T13:07:20.434456Z",
     "shell.execute_reply": "2025-07-30T13:07:20.433263Z"
    },
    "papermill": {
     "duration": 0.06122,
     "end_time": "2025-07-30T13:07:20.437054",
     "exception": false,
     "start_time": "2025-07-30T13:07:20.375834",
     "status": "completed"
    },
    "tags": []
   },
   "outputs": [],
   "source": [
    "# Code nice names to column names\n",
    "\n",
    "excluded_features_columns = [\n",
    "    excluded_features_dictionary[f] for f in excluded_features if len(f) > 0 and f != \"none\"\n",
    "]"
   ]
  },
  {
   "cell_type": "code",
   "execution_count": 31,
   "id": "f84f73a2",
   "metadata": {
    "execution": {
     "iopub.execute_input": "2025-07-30T13:07:20.550294Z",
     "iopub.status.busy": "2025-07-30T13:07:20.549871Z",
     "iopub.status.idle": "2025-07-30T13:07:20.557168Z",
     "shell.execute_reply": "2025-07-30T13:07:20.556164Z"
    },
    "papermill": {
     "duration": 0.06552,
     "end_time": "2025-07-30T13:07:20.560430",
     "exception": false,
     "start_time": "2025-07-30T13:07:20.494910",
     "status": "completed"
    },
    "tags": []
   },
   "outputs": [],
   "source": [
    "from utils import flatten_once\n",
    "\n",
    "excluded_features_columns = flatten_once(excluded_features_columns)"
   ]
  },
  {
   "cell_type": "code",
   "execution_count": 32,
   "id": "884dea22",
   "metadata": {
    "execution": {
     "iopub.execute_input": "2025-07-30T13:07:20.714073Z",
     "iopub.status.busy": "2025-07-30T13:07:20.713659Z",
     "iopub.status.idle": "2025-07-30T13:07:20.733778Z",
     "shell.execute_reply": "2025-07-30T13:07:20.732486Z"
    },
    "papermill": {
     "duration": 0.129182,
     "end_time": "2025-07-30T13:07:20.736167",
     "exception": false,
     "start_time": "2025-07-30T13:07:20.606985",
     "status": "completed"
    },
    "tags": []
   },
   "outputs": [
    {
     "name": "stdout",
     "output_type": "stream",
     "text": [
      "Dropping features: ['maxdeutsch1', 'maxdeutsch.Missing.']\n"
     ]
    }
   ],
   "source": [
    "if len(excluded_features_columns) > 0:\n",
    "    print(f\"Dropping features: {excluded_features_columns}\")\n",
    "    X_train.drop(excluded_features_columns, axis=1, inplace=True)"
   ]
  },
  {
   "cell_type": "code",
   "execution_count": 33,
   "id": "95ab8b16",
   "metadata": {
    "execution": {
     "iopub.execute_input": "2025-07-30T13:07:20.930079Z",
     "iopub.status.busy": "2025-07-30T13:07:20.929655Z",
     "iopub.status.idle": "2025-07-30T13:07:21.085835Z",
     "shell.execute_reply": "2025-07-30T13:07:21.084478Z"
    },
    "papermill": {
     "duration": 0.259448,
     "end_time": "2025-07-30T13:07:21.087808",
     "exception": false,
     "start_time": "2025-07-30T13:07:20.828360",
     "status": "completed"
    },
    "tags": []
   },
   "outputs": [
    {
     "name": "stdout",
     "output_type": "stream",
     "text": [
      "Dropping features: ['maxdeutsch1', 'maxdeutsch.Missing.']\n"
     ]
    }
   ],
   "source": [
    "if len(excluded_features_columns) > 0:\n",
    "    print(f\"Dropping features: {excluded_features_columns}\")\n",
    "    X_test.drop(excluded_features_columns, axis=1, inplace=True)"
   ]
  },
  {
   "cell_type": "code",
   "execution_count": 34,
   "id": "1853aaf5-fb9f-46cb-a2b5-8ea4ae2237e4",
   "metadata": {
    "execution": {
     "iopub.execute_input": "2025-07-30T13:07:21.251355Z",
     "iopub.status.busy": "2025-07-30T13:07:21.250916Z",
     "iopub.status.idle": "2025-07-30T13:07:21.358583Z",
     "shell.execute_reply": "2025-07-30T13:07:21.357414Z"
    },
    "papermill": {
     "duration": 0.204231,
     "end_time": "2025-07-30T13:07:21.360381",
     "exception": false,
     "start_time": "2025-07-30T13:07:21.156150",
     "status": "completed"
    },
    "tags": []
   },
   "outputs": [
    {
     "name": "stdout",
     "output_type": "stream",
     "text": [
      "Dropping features: ['maxdeutsch1', 'maxdeutsch.Missing.']\n"
     ]
    }
   ],
   "source": [
    "if len(excluded_features_columns) > 0:\n",
    "    print(f\"Dropping features: {excluded_features_columns}\")\n",
    "    X_calib.drop(excluded_features_columns, axis=1, inplace=True)"
   ]
  },
  {
   "cell_type": "code",
   "execution_count": 35,
   "id": "6727d079-03e5-481e-9d38-292a90b7a0a8",
   "metadata": {
    "execution": {
     "iopub.execute_input": "2025-07-30T13:07:21.462850Z",
     "iopub.status.busy": "2025-07-30T13:07:21.462435Z",
     "iopub.status.idle": "2025-07-30T13:07:21.467776Z",
     "shell.execute_reply": "2025-07-30T13:07:21.466665Z"
    },
    "papermill": {
     "duration": 0.061287,
     "end_time": "2025-07-30T13:07:21.469687",
     "exception": false,
     "start_time": "2025-07-30T13:07:21.408400",
     "status": "completed"
    },
    "tags": []
   },
   "outputs": [],
   "source": [
    "# SPLIT & STRATIFY DATA\n",
    "# ----------------------"
   ]
  },
  {
   "cell_type": "code",
   "execution_count": 36,
   "id": "76c4dc6d",
   "metadata": {
    "execution": {
     "iopub.execute_input": "2025-07-30T13:07:21.587320Z",
     "iopub.status.busy": "2025-07-30T13:07:21.586828Z",
     "iopub.status.idle": "2025-07-30T13:07:21.593078Z",
     "shell.execute_reply": "2025-07-30T13:07:21.592219Z"
    },
    "papermill": {
     "duration": 0.064245,
     "end_time": "2025-07-30T13:07:21.595393",
     "exception": false,
     "start_time": "2025-07-30T13:07:21.531148",
     "status": "completed"
    },
    "tags": []
   },
   "outputs": [],
   "source": [
    "# EXCLUDE CERTAIN SUBGROUPS\n",
    "# ----------------------\n",
    "\n",
    "mode = universe.get(\"exclude_subgroups\", \"keep-all\") \n",
    "# Fetches the exclude_subgroups setting from the universe dict.\n",
    "# Defaults to \"keep-all\" if the key is missing."
   ]
  },
  {
   "cell_type": "code",
   "execution_count": 37,
   "id": "21994072",
   "metadata": {
    "execution": {
     "iopub.execute_input": "2025-07-30T13:07:21.642413Z",
     "iopub.status.busy": "2025-07-30T13:07:21.641865Z",
     "iopub.status.idle": "2025-07-30T13:07:21.649504Z",
     "shell.execute_reply": "2025-07-30T13:07:21.648431Z"
    },
    "papermill": {
     "duration": 0.032973,
     "end_time": "2025-07-30T13:07:21.651066",
     "exception": false,
     "start_time": "2025-07-30T13:07:21.618093",
     "status": "completed"
    },
    "tags": []
   },
   "outputs": [],
   "source": [
    "if mode == \"keep-all\":\n",
    "    keep_mask = pd.Series(True, index=org_train.index)\n",
    "\n",
    "# org_train contains the original feature columns from features_org (in Simson)\n",
    "# features_org contains unprocessed features, for me X_train at beginning ???\n",
    "# For keep-all, creates a boolean Series (keep_mask) of all True, so no rows are removed.\n",
    "\n",
    "elif mode == \"drop-non-german\":\n",
    "    keep_mask = org_train[\"maxdeutsch1\"] == 1 # ??? what about missing values?\n",
    "\n",
    "else:\n",
    "    raise ValueError(f\"Unsupported mode for exclude_subgroups: {mode}\")\n"
   ]
  },
  {
   "cell_type": "code",
   "execution_count": 38,
   "id": "71651440",
   "metadata": {
    "execution": {
     "iopub.execute_input": "2025-07-30T13:07:21.699777Z",
     "iopub.status.busy": "2025-07-30T13:07:21.698870Z",
     "iopub.status.idle": "2025-07-30T13:07:21.706413Z",
     "shell.execute_reply": "2025-07-30T13:07:21.705491Z"
    },
    "papermill": {
     "duration": 0.033715,
     "end_time": "2025-07-30T13:07:21.708425",
     "exception": false,
     "start_time": "2025-07-30T13:07:21.674710",
     "status": "completed"
    },
    "tags": []
   },
   "outputs": [
    {
     "name": "stdout",
     "output_type": "stream",
     "text": [
      "Dropping 3481 rows (13.92%) where mode='drop-non-german'\n"
     ]
    }
   ],
   "source": [
    "n_drop = (~keep_mask).sum() # Calculates how many rows are set to be dropped\n",
    "if n_drop > 0:\n",
    "    pct = n_drop / len(keep_mask) * 100\n",
    "    print(f\"Dropping {n_drop} rows ({pct:.2f}%) where mode='{mode}'\")"
   ]
  },
  {
   "cell_type": "code",
   "execution_count": 39,
   "id": "5fb8eee5",
   "metadata": {
    "execution": {
     "iopub.execute_input": "2025-07-30T13:07:21.765963Z",
     "iopub.status.busy": "2025-07-30T13:07:21.765477Z",
     "iopub.status.idle": "2025-07-30T13:07:21.786401Z",
     "shell.execute_reply": "2025-07-30T13:07:21.785453Z"
    },
    "papermill": {
     "duration": 0.05141,
     "end_time": "2025-07-30T13:07:21.788580",
     "exception": false,
     "start_time": "2025-07-30T13:07:21.737170",
     "status": "completed"
    },
    "tags": []
   },
   "outputs": [],
   "source": [
    "X_train = X_train[keep_mask]"
   ]
  },
  {
   "cell_type": "code",
   "execution_count": 40,
   "id": "b202bb3a",
   "metadata": {
    "execution": {
     "iopub.execute_input": "2025-07-30T13:07:21.835955Z",
     "iopub.status.busy": "2025-07-30T13:07:21.835307Z",
     "iopub.status.idle": "2025-07-30T13:07:21.841728Z",
     "shell.execute_reply": "2025-07-30T13:07:21.840778Z"
    },
    "papermill": {
     "duration": 0.032198,
     "end_time": "2025-07-30T13:07:21.843628",
     "exception": false,
     "start_time": "2025-07-30T13:07:21.811430",
     "status": "completed"
    },
    "tags": []
   },
   "outputs": [],
   "source": [
    "y_train = y_train[keep_mask]"
   ]
  },
  {
   "cell_type": "markdown",
   "id": "493e2ac3",
   "metadata": {
    "papermill": {
     "duration": 0.022898,
     "end_time": "2025-07-30T13:07:21.890274",
     "exception": false,
     "start_time": "2025-07-30T13:07:21.867376",
     "status": "completed"
    },
    "tags": []
   },
   "source": [
    "# Model Training"
   ]
  },
  {
   "cell_type": "code",
   "execution_count": 41,
   "id": "679e1268",
   "metadata": {
    "execution": {
     "iopub.execute_input": "2025-07-30T13:07:21.937637Z",
     "iopub.status.busy": "2025-07-30T13:07:21.937251Z",
     "iopub.status.idle": "2025-07-30T13:07:22.128360Z",
     "shell.execute_reply": "2025-07-30T13:07:22.127075Z"
    },
    "papermill": {
     "duration": 0.217428,
     "end_time": "2025-07-30T13:07:22.130632",
     "exception": false,
     "start_time": "2025-07-30T13:07:21.913204",
     "status": "completed"
    },
    "tags": []
   },
   "outputs": [],
   "source": [
    "from sklearn.linear_model import LogisticRegression\n",
    "from sklearn.ensemble import GradientBoostingClassifier, RandomForestClassifier\n",
    "\n",
    "if (universe[\"model\"] == \"logreg\"):\n",
    "    model = LogisticRegression() #penalty=\"none\") #, solver=\"newton-cg\", max_iter=1) # include random_state=19 ?\n",
    "elif (universe[\"model\"] == \"penalized_logreg\"):\n",
    "    model = LogisticRegression(penalty=\"l2\", C=1.0) #, solver=\"newton-cg\", max_iter=1)\n",
    "elif (universe[\"model\"] == \"rf\"):\n",
    "    model = RandomForestClassifier(n_estimators=100, n_jobs=-1)\n",
    "elif (universe[\"model\"] == \"gbm\"):\n",
    "    model = GradientBoostingClassifier()\n",
    "elif (universe[\"model\"] == \"elasticnet\"):\n",
    "    model = LogisticRegression(penalty = 'elasticnet', solver = 'saga', l1_ratio = 0.5, max_iter=5000) # which solver to use?\n",
    "else:\n",
    "    raise \"Unsupported universe.model\""
   ]
  },
  {
   "cell_type": "code",
   "execution_count": 42,
   "id": "0cc8f744",
   "metadata": {
    "execution": {
     "iopub.execute_input": "2025-07-30T13:07:22.219649Z",
     "iopub.status.busy": "2025-07-30T13:07:22.219181Z",
     "iopub.status.idle": "2025-07-30T13:07:22.234811Z",
     "shell.execute_reply": "2025-07-30T13:07:22.233755Z"
    },
    "papermill": {
     "duration": 0.055646,
     "end_time": "2025-07-30T13:07:22.236566",
     "exception": false,
     "start_time": "2025-07-30T13:07:22.180920",
     "status": "completed"
    },
    "tags": []
   },
   "outputs": [],
   "source": [
    "import numpy as np\n",
    "from sklearn.pipeline import Pipeline\n",
    "from sklearn.preprocessing import StandardScaler\n",
    "\n",
    "model = Pipeline([\n",
    "    #(\"continuous_processor\", continuous_processor),\n",
    "    #(\"categorical_preprocessor\", categorical_preprocessor),\n",
    "    (\"scale\", StandardScaler() if universe[\"scale\"] == \"scale\" else None), \n",
    "    (\"model\", model),\n",
    "])"
   ]
  },
  {
   "cell_type": "code",
   "execution_count": 43,
   "id": "9442c04d",
   "metadata": {
    "execution": {
     "iopub.execute_input": "2025-07-30T13:07:22.368603Z",
     "iopub.status.busy": "2025-07-30T13:07:22.368148Z",
     "iopub.status.idle": "2025-07-30T13:07:25.853143Z",
     "shell.execute_reply": "2025-07-30T13:07:25.852089Z"
    },
    "papermill": {
     "duration": 3.530672,
     "end_time": "2025-07-30T13:07:25.854856",
     "exception": false,
     "start_time": "2025-07-30T13:07:22.324184",
     "status": "completed"
    },
    "tags": []
   },
   "outputs": [
    {
     "data": {
      "text/html": [
       "<style>#sk-container-id-1 {color: black;background-color: white;}#sk-container-id-1 pre{padding: 0;}#sk-container-id-1 div.sk-toggleable {background-color: white;}#sk-container-id-1 label.sk-toggleable__label {cursor: pointer;display: block;width: 100%;margin-bottom: 0;padding: 0.3em;box-sizing: border-box;text-align: center;}#sk-container-id-1 label.sk-toggleable__label-arrow:before {content: \"▸\";float: left;margin-right: 0.25em;color: #696969;}#sk-container-id-1 label.sk-toggleable__label-arrow:hover:before {color: black;}#sk-container-id-1 div.sk-estimator:hover label.sk-toggleable__label-arrow:before {color: black;}#sk-container-id-1 div.sk-toggleable__content {max-height: 0;max-width: 0;overflow: hidden;text-align: left;background-color: #f0f8ff;}#sk-container-id-1 div.sk-toggleable__content pre {margin: 0.2em;color: black;border-radius: 0.25em;background-color: #f0f8ff;}#sk-container-id-1 input.sk-toggleable__control:checked~div.sk-toggleable__content {max-height: 200px;max-width: 100%;overflow: auto;}#sk-container-id-1 input.sk-toggleable__control:checked~label.sk-toggleable__label-arrow:before {content: \"▾\";}#sk-container-id-1 div.sk-estimator input.sk-toggleable__control:checked~label.sk-toggleable__label {background-color: #d4ebff;}#sk-container-id-1 div.sk-label input.sk-toggleable__control:checked~label.sk-toggleable__label {background-color: #d4ebff;}#sk-container-id-1 input.sk-hidden--visually {border: 0;clip: rect(1px 1px 1px 1px);clip: rect(1px, 1px, 1px, 1px);height: 1px;margin: -1px;overflow: hidden;padding: 0;position: absolute;width: 1px;}#sk-container-id-1 div.sk-estimator {font-family: monospace;background-color: #f0f8ff;border: 1px dotted black;border-radius: 0.25em;box-sizing: border-box;margin-bottom: 0.5em;}#sk-container-id-1 div.sk-estimator:hover {background-color: #d4ebff;}#sk-container-id-1 div.sk-parallel-item::after {content: \"\";width: 100%;border-bottom: 1px solid gray;flex-grow: 1;}#sk-container-id-1 div.sk-label:hover label.sk-toggleable__label {background-color: #d4ebff;}#sk-container-id-1 div.sk-serial::before {content: \"\";position: absolute;border-left: 1px solid gray;box-sizing: border-box;top: 0;bottom: 0;left: 50%;z-index: 0;}#sk-container-id-1 div.sk-serial {display: flex;flex-direction: column;align-items: center;background-color: white;padding-right: 0.2em;padding-left: 0.2em;position: relative;}#sk-container-id-1 div.sk-item {position: relative;z-index: 1;}#sk-container-id-1 div.sk-parallel {display: flex;align-items: stretch;justify-content: center;background-color: white;position: relative;}#sk-container-id-1 div.sk-item::before, #sk-container-id-1 div.sk-parallel-item::before {content: \"\";position: absolute;border-left: 1px solid gray;box-sizing: border-box;top: 0;bottom: 0;left: 50%;z-index: -1;}#sk-container-id-1 div.sk-parallel-item {display: flex;flex-direction: column;z-index: 1;position: relative;background-color: white;}#sk-container-id-1 div.sk-parallel-item:first-child::after {align-self: flex-end;width: 50%;}#sk-container-id-1 div.sk-parallel-item:last-child::after {align-self: flex-start;width: 50%;}#sk-container-id-1 div.sk-parallel-item:only-child::after {width: 0;}#sk-container-id-1 div.sk-dashed-wrapped {border: 1px dashed gray;margin: 0 0.4em 0.5em 0.4em;box-sizing: border-box;padding-bottom: 0.4em;background-color: white;}#sk-container-id-1 div.sk-label label {font-family: monospace;font-weight: bold;display: inline-block;line-height: 1.2em;}#sk-container-id-1 div.sk-label-container {text-align: center;}#sk-container-id-1 div.sk-container {/* jupyter's `normalize.less` sets `[hidden] { display: none; }` but bootstrap.min.css set `[hidden] { display: none !important; }` so we also need the `!important` here to be able to override the default hidden behavior on the sphinx rendered scikit-learn.org. See: https://github.com/scikit-learn/scikit-learn/issues/21755 */display: inline-block !important;position: relative;}#sk-container-id-1 div.sk-text-repr-fallback {display: none;}</style><div id=\"sk-container-id-1\" class=\"sk-top-container\"><div class=\"sk-text-repr-fallback\"><pre>Pipeline(steps=[(&#x27;scale&#x27;, StandardScaler()),\n",
       "                (&#x27;model&#x27;, RandomForestClassifier(n_jobs=-1))])</pre><b>In a Jupyter environment, please rerun this cell to show the HTML representation or trust the notebook. <br />On GitHub, the HTML representation is unable to render, please try loading this page with nbviewer.org.</b></div><div class=\"sk-container\" hidden><div class=\"sk-item sk-dashed-wrapped\"><div class=\"sk-label-container\"><div class=\"sk-label sk-toggleable\"><input class=\"sk-toggleable__control sk-hidden--visually\" id=\"sk-estimator-id-1\" type=\"checkbox\" ><label for=\"sk-estimator-id-1\" class=\"sk-toggleable__label sk-toggleable__label-arrow\">Pipeline</label><div class=\"sk-toggleable__content\"><pre>Pipeline(steps=[(&#x27;scale&#x27;, StandardScaler()),\n",
       "                (&#x27;model&#x27;, RandomForestClassifier(n_jobs=-1))])</pre></div></div></div><div class=\"sk-serial\"><div class=\"sk-item\"><div class=\"sk-estimator sk-toggleable\"><input class=\"sk-toggleable__control sk-hidden--visually\" id=\"sk-estimator-id-2\" type=\"checkbox\" ><label for=\"sk-estimator-id-2\" class=\"sk-toggleable__label sk-toggleable__label-arrow\">StandardScaler</label><div class=\"sk-toggleable__content\"><pre>StandardScaler()</pre></div></div></div><div class=\"sk-item\"><div class=\"sk-estimator sk-toggleable\"><input class=\"sk-toggleable__control sk-hidden--visually\" id=\"sk-estimator-id-3\" type=\"checkbox\" ><label for=\"sk-estimator-id-3\" class=\"sk-toggleable__label sk-toggleable__label-arrow\">RandomForestClassifier</label><div class=\"sk-toggleable__content\"><pre>RandomForestClassifier(n_jobs=-1)</pre></div></div></div></div></div></div></div>"
      ],
      "text/plain": [
       "Pipeline(steps=[('scale', StandardScaler()),\n",
       "                ('model', RandomForestClassifier(n_jobs=-1))])"
      ]
     },
     "execution_count": 43,
     "metadata": {},
     "output_type": "execute_result"
    }
   ],
   "source": [
    "model.fit(X_train, y_train.values.ravel())"
   ]
  },
  {
   "cell_type": "code",
   "execution_count": 44,
   "id": "af59f8c0",
   "metadata": {
    "execution": {
     "iopub.execute_input": "2025-07-30T13:07:25.954764Z",
     "iopub.status.busy": "2025-07-30T13:07:25.954387Z",
     "iopub.status.idle": "2025-07-30T13:07:25.959697Z",
     "shell.execute_reply": "2025-07-30T13:07:25.958687Z"
    },
    "papermill": {
     "duration": 0.064559,
     "end_time": "2025-07-30T13:07:25.961532",
     "exception": false,
     "start_time": "2025-07-30T13:07:25.896973",
     "status": "completed"
    },
    "tags": []
   },
   "outputs": [],
   "source": [
    "from fairness_multiverse.universe import predict_w_threshold"
   ]
  },
  {
   "cell_type": "code",
   "execution_count": 45,
   "id": "a7cf2e16",
   "metadata": {
    "execution": {
     "iopub.execute_input": "2025-07-30T13:07:26.078524Z",
     "iopub.status.busy": "2025-07-30T13:07:26.078118Z",
     "iopub.status.idle": "2025-07-30T13:07:27.393281Z",
     "shell.execute_reply": "2025-07-30T13:07:27.392418Z"
    },
    "papermill": {
     "duration": 1.37448,
     "end_time": "2025-07-30T13:07:27.394768",
     "exception": false,
     "start_time": "2025-07-30T13:07:26.020288",
     "status": "completed"
    },
    "tags": []
   },
   "outputs": [
    {
     "data": {
      "text/plain": [
       "0.8654665031769033"
      ]
     },
     "execution_count": 45,
     "metadata": {},
     "output_type": "execute_result"
    }
   ],
   "source": [
    "probs_test = model.predict_proba(X_test)\n",
    "\n",
    "'''\n",
    "Below code returns a boolean array (or binary 0/1 array depending on how it’s used) where each element \n",
    "is True if the probability of class 1 is greater than or equal to the threshold, and False otherwise.\n",
    "'''\n",
    "y_pred_default = predict_w_threshold(probs_test, 0.5)\n",
    "\n",
    "from sklearn.metrics import accuracy_score\n",
    "\n",
    "# Naive prediction\n",
    "accuracy_score(y_true = y_true, y_pred = y_pred_default)"
   ]
  },
  {
   "cell_type": "code",
   "execution_count": 46,
   "id": "081964c3",
   "metadata": {
    "execution": {
     "iopub.execute_input": "2025-07-30T13:07:27.494904Z",
     "iopub.status.busy": "2025-07-30T13:07:27.493857Z",
     "iopub.status.idle": "2025-07-30T13:07:28.626824Z",
     "shell.execute_reply": "2025-07-30T13:07:28.625922Z"
    },
    "papermill": {
     "duration": 1.172273,
     "end_time": "2025-07-30T13:07:28.628442",
     "exception": false,
     "start_time": "2025-07-30T13:07:27.456169",
     "status": "completed"
    },
    "tags": []
   },
   "outputs": [
    {
     "data": {
      "text/plain": [
       "array([0, 0, 0, ..., 0, 0, 0])"
      ]
     },
     "execution_count": 46,
     "metadata": {},
     "output_type": "execute_result"
    }
   ],
   "source": [
    "model.predict(X_test)"
   ]
  },
  {
   "cell_type": "markdown",
   "id": "56c9705b",
   "metadata": {
    "papermill": {
     "duration": 0.024822,
     "end_time": "2025-07-30T13:07:28.679825",
     "exception": false,
     "start_time": "2025-07-30T13:07:28.655003",
     "status": "completed"
    },
    "tags": []
   },
   "source": [
    "# Conformal Prediction"
   ]
  },
  {
   "cell_type": "code",
   "execution_count": 47,
   "id": "160ec6ff",
   "metadata": {
    "execution": {
     "iopub.execute_input": "2025-07-30T13:07:28.731104Z",
     "iopub.status.busy": "2025-07-30T13:07:28.730604Z",
     "iopub.status.idle": "2025-07-30T13:07:28.735960Z",
     "shell.execute_reply": "2025-07-30T13:07:28.735106Z"
    },
    "papermill": {
     "duration": 0.034544,
     "end_time": "2025-07-30T13:07:28.737755",
     "exception": false,
     "start_time": "2025-07-30T13:07:28.703211",
     "status": "completed"
    },
    "tags": []
   },
   "outputs": [],
   "source": [
    "# Miscoverage level for conformal prediction (10% allowed error rate => 90% target coverage)\n",
    "alpha = 0.1"
   ]
  },
  {
   "cell_type": "code",
   "execution_count": 48,
   "id": "eadf4555-3dd3-440e-8e35-f82a4ad9f855",
   "metadata": {
    "execution": {
     "iopub.execute_input": "2025-07-30T13:07:28.788045Z",
     "iopub.status.busy": "2025-07-30T13:07:28.787569Z",
     "iopub.status.idle": "2025-07-30T13:07:29.897307Z",
     "shell.execute_reply": "2025-07-30T13:07:29.896288Z"
    },
    "papermill": {
     "duration": 1.136287,
     "end_time": "2025-07-30T13:07:29.899125",
     "exception": false,
     "start_time": "2025-07-30T13:07:28.762838",
     "status": "completed"
    },
    "tags": []
   },
   "outputs": [],
   "source": [
    "probs_calib = model.predict_proba(X_calib)"
   ]
  },
  {
   "cell_type": "code",
   "execution_count": 49,
   "id": "2ed93547-6d5d-4983-9b36-1ecb300da49a",
   "metadata": {
    "execution": {
     "iopub.execute_input": "2025-07-30T13:07:29.936529Z",
     "iopub.status.busy": "2025-07-30T13:07:29.936000Z",
     "iopub.status.idle": "2025-07-30T13:07:29.940872Z",
     "shell.execute_reply": "2025-07-30T13:07:29.940156Z"
    },
    "papermill": {
     "duration": 0.019779,
     "end_time": "2025-07-30T13:07:29.942225",
     "exception": false,
     "start_time": "2025-07-30T13:07:29.922446",
     "status": "completed"
    },
    "tags": []
   },
   "outputs": [],
   "source": [
    "y_calib = y_calib.values.ravel().astype(int)"
   ]
  },
  {
   "cell_type": "code",
   "execution_count": 50,
   "id": "65d1320d-f588-4b38-9072-62af1ae97f7d",
   "metadata": {
    "execution": {
     "iopub.execute_input": "2025-07-30T13:07:29.975179Z",
     "iopub.status.busy": "2025-07-30T13:07:29.974462Z",
     "iopub.status.idle": "2025-07-30T13:07:29.981600Z",
     "shell.execute_reply": "2025-07-30T13:07:29.980837Z"
    },
    "papermill": {
     "duration": 0.025659,
     "end_time": "2025-07-30T13:07:29.983007",
     "exception": false,
     "start_time": "2025-07-30T13:07:29.957348",
     "status": "completed"
    },
    "tags": []
   },
   "outputs": [],
   "source": [
    "from fairness_multiverse.conformal import compute_nc_scores\n",
    "\n",
    "# Compute nonconformity scores on calibration set (1 - probability of true class)\n",
    "nc_scores = compute_nc_scores(probs_calib, y_calib)"
   ]
  },
  {
   "cell_type": "code",
   "execution_count": 51,
   "id": "df3b8ca3-53b7-43d5-9667-7c85da7aeda2",
   "metadata": {
    "execution": {
     "iopub.execute_input": "2025-07-30T13:07:30.011847Z",
     "iopub.status.busy": "2025-07-30T13:07:30.011172Z",
     "iopub.status.idle": "2025-07-30T13:07:30.017435Z",
     "shell.execute_reply": "2025-07-30T13:07:30.016752Z"
    },
    "papermill": {
     "duration": 0.021415,
     "end_time": "2025-07-30T13:07:30.018886",
     "exception": false,
     "start_time": "2025-07-30T13:07:29.997471",
     "status": "completed"
    },
    "tags": []
   },
   "outputs": [],
   "source": [
    "from fairness_multiverse.conformal import find_threshold\n",
    "\n",
    "# Find conformal threshold q_hat for the given alpha (split conformal method)\n",
    "q_hat = find_threshold(nc_scores, alpha)"
   ]
  },
  {
   "cell_type": "code",
   "execution_count": 52,
   "id": "4d29e6c1-0ef6-4aa4-b8fe-4fe79b0d033a",
   "metadata": {
    "execution": {
     "iopub.execute_input": "2025-07-30T13:07:30.052732Z",
     "iopub.status.busy": "2025-07-30T13:07:30.051858Z",
     "iopub.status.idle": "2025-07-30T13:07:30.058145Z",
     "shell.execute_reply": "2025-07-30T13:07:30.057462Z"
    },
    "papermill": {
     "duration": 0.021289,
     "end_time": "2025-07-30T13:07:30.059491",
     "exception": false,
     "start_time": "2025-07-30T13:07:30.038202",
     "status": "completed"
    },
    "tags": []
   },
   "outputs": [
    {
     "data": {
      "text/plain": [
       "0.65"
      ]
     },
     "execution_count": 52,
     "metadata": {},
     "output_type": "execute_result"
    }
   ],
   "source": [
    "q_hat"
   ]
  },
  {
   "cell_type": "code",
   "execution_count": 53,
   "id": "92460794-cdac-4be2-ba28-f28c0515a6fb",
   "metadata": {
    "execution": {
     "iopub.execute_input": "2025-07-30T13:07:30.093101Z",
     "iopub.status.busy": "2025-07-30T13:07:30.092361Z",
     "iopub.status.idle": "2025-07-30T13:07:31.618729Z",
     "shell.execute_reply": "2025-07-30T13:07:31.617983Z"
    },
    "papermill": {
     "duration": 1.546703,
     "end_time": "2025-07-30T13:07:31.620211",
     "exception": false,
     "start_time": "2025-07-30T13:07:30.073508",
     "status": "completed"
    },
    "tags": []
   },
   "outputs": [],
   "source": [
    "from fairness_multiverse.conformal import predict_conformal_sets\n",
    "\n",
    "# Generate prediction sets for each test example\n",
    "pred_sets = predict_conformal_sets(model, X_test, q_hat)"
   ]
  },
  {
   "cell_type": "code",
   "execution_count": 54,
   "id": "d90c9a65-e6db-4f5d-80cd-e68fb7e46829",
   "metadata": {
    "execution": {
     "iopub.execute_input": "2025-07-30T13:07:31.648726Z",
     "iopub.status.busy": "2025-07-30T13:07:31.648395Z",
     "iopub.status.idle": "2025-07-30T13:07:31.655143Z",
     "shell.execute_reply": "2025-07-30T13:07:31.652957Z"
    },
    "papermill": {
     "duration": 0.022642,
     "end_time": "2025-07-30T13:07:31.657005",
     "exception": false,
     "start_time": "2025-07-30T13:07:31.634363",
     "status": "completed"
    },
    "tags": []
   },
   "outputs": [],
   "source": [
    "y_true = y_true.squeeze()"
   ]
  },
  {
   "cell_type": "code",
   "execution_count": 55,
   "id": "3a58a54a-1e68-46b9-927a-df01f18aebc8",
   "metadata": {
    "execution": {
     "iopub.execute_input": "2025-07-30T13:07:31.710744Z",
     "iopub.status.busy": "2025-07-30T13:07:31.710036Z",
     "iopub.status.idle": "2025-07-30T13:07:32.545483Z",
     "shell.execute_reply": "2025-07-30T13:07:32.544482Z"
    },
    "papermill": {
     "duration": 0.866085,
     "end_time": "2025-07-30T13:07:32.547894",
     "exception": false,
     "start_time": "2025-07-30T13:07:31.681809",
     "status": "completed"
    },
    "tags": []
   },
   "outputs": [],
   "source": [
    "from fairness_multiverse.conformal import evaluate_sets\n",
    "\n",
    "# Evaluate coverage and average set size on test data\n",
    "metrics = evaluate_sets(pred_sets, y_true)"
   ]
  },
  {
   "cell_type": "markdown",
   "id": "2b569c12-9aaa-4c88-98c9-bbcd0cf3ebb8",
   "metadata": {
    "papermill": {
     "duration": 0.027746,
     "end_time": "2025-07-30T13:07:32.602875",
     "exception": false,
     "start_time": "2025-07-30T13:07:32.575129",
     "status": "completed"
    },
    "tags": []
   },
   "source": [
    "# CP Metrics"
   ]
  },
  {
   "cell_type": "code",
   "execution_count": 56,
   "id": "5ce0a5cb-201f-45a0-ade5-94c7f0bd6095",
   "metadata": {
    "execution": {
     "iopub.execute_input": "2025-07-30T13:07:32.658277Z",
     "iopub.status.busy": "2025-07-30T13:07:32.657798Z",
     "iopub.status.idle": "2025-07-30T13:07:32.665551Z",
     "shell.execute_reply": "2025-07-30T13:07:32.664502Z"
    },
    "papermill": {
     "duration": 0.037483,
     "end_time": "2025-07-30T13:07:32.667363",
     "exception": false,
     "start_time": "2025-07-30T13:07:32.629880",
     "status": "completed"
    },
    "tags": []
   },
   "outputs": [
    {
     "data": {
      "text/plain": [
       "{'coverage': 0.913042024300524, 'avg_size': 1.1368409318916508}"
      ]
     },
     "execution_count": 56,
     "metadata": {},
     "output_type": "execute_result"
    }
   ],
   "source": [
    "metrics"
   ]
  },
  {
   "cell_type": "code",
   "execution_count": 57,
   "id": "9b9a838d-31c9-430b-ae14-12baee460d17",
   "metadata": {
    "execution": {
     "iopub.execute_input": "2025-07-30T13:07:32.721906Z",
     "iopub.status.busy": "2025-07-30T13:07:32.721168Z",
     "iopub.status.idle": "2025-07-30T13:07:32.728641Z",
     "shell.execute_reply": "2025-07-30T13:07:32.727596Z"
    },
    "papermill": {
     "duration": 0.036385,
     "end_time": "2025-07-30T13:07:32.730692",
     "exception": false,
     "start_time": "2025-07-30T13:07:32.694307",
     "status": "completed"
    },
    "tags": []
   },
   "outputs": [],
   "source": [
    "example_universe = universe.copy()\n",
    "universe_training_size = example_universe.get(\"training_size\")\n",
    "universe_scale = example_universe.get(\"scale\")\n",
    "universe_model = example_universe.get(\"model\")\n",
    "universe_exclude_features = example_universe.get(\"exclude_features\")\n",
    "universe_exclude_subgroups = example_universe.get(\"exclude_subgroups\")"
   ]
  },
  {
   "cell_type": "code",
   "execution_count": 58,
   "id": "f4b6a8ac-9dc0-4245-8a91-5b3b5999c4f9",
   "metadata": {
    "execution": {
     "iopub.execute_input": "2025-07-30T13:07:32.785940Z",
     "iopub.status.busy": "2025-07-30T13:07:32.785154Z",
     "iopub.status.idle": "2025-07-30T13:07:32.792468Z",
     "shell.execute_reply": "2025-07-30T13:07:32.791392Z"
    },
    "papermill": {
     "duration": 0.035501,
     "end_time": "2025-07-30T13:07:32.794365",
     "exception": false,
     "start_time": "2025-07-30T13:07:32.758864",
     "status": "completed"
    },
    "tags": []
   },
   "outputs": [],
   "source": [
    "cp_metrics_dict = {\n",
    "    \"universe_id\": [universe_id],\n",
    "    \"universe_training_size\": [universe_training_size],\n",
    "    \"universe_scale\": [universe_scale],\n",
    "    \"universe_model\": [universe_model],\n",
    "    \"universe_exclude_features\": [universe_exclude_features],\n",
    "    \"universe_exclude_subgroups\": [universe_exclude_subgroups],\n",
    "    \"q_hat\": [q_hat],\n",
    "    \"coverage\": [metrics[\"coverage\"]],\n",
    "    \"avg_size\": [metrics[\"avg_size\"]],\n",
    "}"
   ]
  },
  {
   "cell_type": "code",
   "execution_count": 59,
   "id": "908acbb1-0371-4915-85ca-3fa520d2efe2",
   "metadata": {
    "execution": {
     "iopub.execute_input": "2025-07-30T13:07:32.850327Z",
     "iopub.status.busy": "2025-07-30T13:07:32.849498Z",
     "iopub.status.idle": "2025-07-30T13:07:32.857709Z",
     "shell.execute_reply": "2025-07-30T13:07:32.856592Z"
    },
    "papermill": {
     "duration": 0.03686,
     "end_time": "2025-07-30T13:07:32.859617",
     "exception": false,
     "start_time": "2025-07-30T13:07:32.822757",
     "status": "completed"
    },
    "tags": []
   },
   "outputs": [
    {
     "data": {
      "text/plain": [
       "{'universe_id': ['57d8788a482108a422286a5a2df21abc'],\n",
       " 'universe_training_size': ['25k'],\n",
       " 'universe_scale': ['scale'],\n",
       " 'universe_model': ['rf'],\n",
       " 'universe_exclude_features': ['nationality'],\n",
       " 'universe_exclude_subgroups': ['drop-non-german'],\n",
       " 'q_hat': [0.65],\n",
       " 'coverage': [0.913042024300524],\n",
       " 'avg_size': [1.1368409318916508]}"
      ]
     },
     "execution_count": 59,
     "metadata": {},
     "output_type": "execute_result"
    }
   ],
   "source": [
    "cp_metrics_dict"
   ]
  },
  {
   "cell_type": "code",
   "execution_count": 60,
   "id": "33007efc-14e9-4ec6-97ac-56a455c82265",
   "metadata": {
    "execution": {
     "iopub.execute_input": "2025-07-30T13:07:32.920468Z",
     "iopub.status.busy": "2025-07-30T13:07:32.919717Z",
     "iopub.status.idle": "2025-07-30T13:07:32.926258Z",
     "shell.execute_reply": "2025-07-30T13:07:32.925216Z"
    },
    "papermill": {
     "duration": 0.037843,
     "end_time": "2025-07-30T13:07:32.928273",
     "exception": false,
     "start_time": "2025-07-30T13:07:32.890430",
     "status": "completed"
    },
    "tags": []
   },
   "outputs": [],
   "source": [
    "cp_metrics_df = pd.DataFrame(cp_metrics_dict)"
   ]
  },
  {
   "cell_type": "code",
   "execution_count": 61,
   "id": "db12611b-57b2-4910-b9d0-355adfd6e7bf",
   "metadata": {
    "execution": {
     "iopub.execute_input": "2025-07-30T13:07:32.988235Z",
     "iopub.status.busy": "2025-07-30T13:07:32.987699Z",
     "iopub.status.idle": "2025-07-30T13:07:33.008729Z",
     "shell.execute_reply": "2025-07-30T13:07:33.007530Z"
    },
    "papermill": {
     "duration": 0.054366,
     "end_time": "2025-07-30T13:07:33.012233",
     "exception": false,
     "start_time": "2025-07-30T13:07:32.957867",
     "status": "completed"
    },
    "tags": []
   },
   "outputs": [
    {
     "data": {
      "text/html": [
       "<div>\n",
       "<style scoped>\n",
       "    .dataframe tbody tr th:only-of-type {\n",
       "        vertical-align: middle;\n",
       "    }\n",
       "\n",
       "    .dataframe tbody tr th {\n",
       "        vertical-align: top;\n",
       "    }\n",
       "\n",
       "    .dataframe thead th {\n",
       "        text-align: right;\n",
       "    }\n",
       "</style>\n",
       "<table border=\"1\" class=\"dataframe\">\n",
       "  <thead>\n",
       "    <tr style=\"text-align: right;\">\n",
       "      <th></th>\n",
       "      <th>universe_id</th>\n",
       "      <th>universe_training_size</th>\n",
       "      <th>universe_scale</th>\n",
       "      <th>universe_model</th>\n",
       "      <th>universe_exclude_features</th>\n",
       "      <th>universe_exclude_subgroups</th>\n",
       "      <th>q_hat</th>\n",
       "      <th>coverage</th>\n",
       "      <th>avg_size</th>\n",
       "    </tr>\n",
       "  </thead>\n",
       "  <tbody>\n",
       "    <tr>\n",
       "      <th>0</th>\n",
       "      <td>57d8788a482108a422286a5a2df21abc</td>\n",
       "      <td>25k</td>\n",
       "      <td>scale</td>\n",
       "      <td>rf</td>\n",
       "      <td>nationality</td>\n",
       "      <td>drop-non-german</td>\n",
       "      <td>0.65</td>\n",
       "      <td>0.913042</td>\n",
       "      <td>1.136841</td>\n",
       "    </tr>\n",
       "  </tbody>\n",
       "</table>\n",
       "</div>"
      ],
      "text/plain": [
       "                        universe_id universe_training_size universe_scale  \\\n",
       "0  57d8788a482108a422286a5a2df21abc                    25k          scale   \n",
       "\n",
       "  universe_model universe_exclude_features universe_exclude_subgroups  q_hat  \\\n",
       "0             rf               nationality            drop-non-german   0.65   \n",
       "\n",
       "   coverage  avg_size  \n",
       "0  0.913042  1.136841  "
      ]
     },
     "execution_count": 61,
     "metadata": {},
     "output_type": "execute_result"
    }
   ],
   "source": [
    "cp_metrics_df"
   ]
  },
  {
   "cell_type": "code",
   "execution_count": 62,
   "id": "b7fbde55-a0a1-47e4-9af6-fe4a17fa8c61",
   "metadata": {
    "execution": {
     "iopub.execute_input": "2025-07-30T13:07:33.073168Z",
     "iopub.status.busy": "2025-07-30T13:07:33.072156Z",
     "iopub.status.idle": "2025-07-30T13:07:33.077807Z",
     "shell.execute_reply": "2025-07-30T13:07:33.076756Z"
    },
    "papermill": {
     "duration": 0.037198,
     "end_time": "2025-07-30T13:07:33.079888",
     "exception": false,
     "start_time": "2025-07-30T13:07:33.042690",
     "status": "completed"
    },
    "tags": []
   },
   "outputs": [],
   "source": [
    "# Conditional Coverage & looking at subgroups"
   ]
  },
  {
   "cell_type": "code",
   "execution_count": 63,
   "id": "027ae886-68dd-4141-96c7-805a5450e1ef",
   "metadata": {
    "execution": {
     "iopub.execute_input": "2025-07-30T13:07:33.140908Z",
     "iopub.status.busy": "2025-07-30T13:07:33.140018Z",
     "iopub.status.idle": "2025-07-30T13:07:33.436854Z",
     "shell.execute_reply": "2025-07-30T13:07:33.435804Z"
    },
    "papermill": {
     "duration": 0.330601,
     "end_time": "2025-07-30T13:07:33.438867",
     "exception": false,
     "start_time": "2025-07-30T13:07:33.108266",
     "status": "completed"
    },
    "tags": []
   },
   "outputs": [],
   "source": [
    "from fairness_multiverse.conformal import build_cp_groups\n",
    "\n",
    "cp_groups_df = build_cp_groups(pred_sets, y_true, X_test.index, org_test)\n",
    "#needs universe_id and setting"
   ]
  },
  {
   "cell_type": "code",
   "execution_count": 64,
   "id": "01d5802c-663a-4d1f-9d69-e036faaffbf7",
   "metadata": {
    "execution": {
     "iopub.execute_input": "2025-07-30T13:07:33.497608Z",
     "iopub.status.busy": "2025-07-30T13:07:33.497092Z",
     "iopub.status.idle": "2025-07-30T13:07:33.502414Z",
     "shell.execute_reply": "2025-07-30T13:07:33.501437Z"
    },
    "papermill": {
     "duration": 0.036251,
     "end_time": "2025-07-30T13:07:33.504314",
     "exception": false,
     "start_time": "2025-07-30T13:07:33.468063",
     "status": "completed"
    },
    "tags": []
   },
   "outputs": [],
   "source": [
    "#delete\n",
    "#cp_groups_df"
   ]
  },
  {
   "cell_type": "code",
   "execution_count": 65,
   "id": "fa424af1-d1eb-443d-b717-2d279ada8408",
   "metadata": {
    "execution": {
     "iopub.execute_input": "2025-07-30T13:07:33.561440Z",
     "iopub.status.busy": "2025-07-30T13:07:33.560815Z",
     "iopub.status.idle": "2025-07-30T13:07:33.565974Z",
     "shell.execute_reply": "2025-07-30T13:07:33.564956Z"
    },
    "papermill": {
     "duration": 0.035199,
     "end_time": "2025-07-30T13:07:33.567634",
     "exception": false,
     "start_time": "2025-07-30T13:07:33.532435",
     "status": "completed"
    },
    "tags": []
   },
   "outputs": [],
   "source": [
    "#delete\n",
    "#percentage = (cp_groups_df['nongerman_female'] == 1).mean() * 100\n",
    "#print(percentage)\n"
   ]
  },
  {
   "cell_type": "code",
   "execution_count": 66,
   "id": "6cbdab96-b2b2-45af-ad54-d0516db2e28d",
   "metadata": {
    "execution": {
     "iopub.execute_input": "2025-07-30T13:07:33.625550Z",
     "iopub.status.busy": "2025-07-30T13:07:33.624764Z",
     "iopub.status.idle": "2025-07-30T13:07:35.263884Z",
     "shell.execute_reply": "2025-07-30T13:07:35.262854Z"
    },
    "papermill": {
     "duration": 1.66927,
     "end_time": "2025-07-30T13:07:35.265857",
     "exception": false,
     "start_time": "2025-07-30T13:07:33.596587",
     "status": "completed"
    },
    "tags": []
   },
   "outputs": [],
   "source": [
    "# Define covered = 1 if true_label is in the predicted set\n",
    "cp_groups_df['covered'] = cp_groups_df.apply(\n",
    "    lambda r: int(r['true_label'] in r['pred_set']),\n",
    "    axis=1\n",
    ")"
   ]
  },
  {
   "cell_type": "code",
   "execution_count": 67,
   "id": "338ff529-1a6b-4b87-a931-8e4788d52aad",
   "metadata": {
    "execution": {
     "iopub.execute_input": "2025-07-30T13:07:35.320631Z",
     "iopub.status.busy": "2025-07-30T13:07:35.320140Z",
     "iopub.status.idle": "2025-07-30T13:07:35.325771Z",
     "shell.execute_reply": "2025-07-30T13:07:35.324905Z"
    },
    "papermill": {
     "duration": 0.034128,
     "end_time": "2025-07-30T13:07:35.327437",
     "exception": false,
     "start_time": "2025-07-30T13:07:35.293309",
     "status": "completed"
    },
    "tags": []
   },
   "outputs": [],
   "source": [
    "#cp_groups_df"
   ]
  },
  {
   "cell_type": "code",
   "execution_count": 68,
   "id": "90032e27-66df-4540-9169-4e89cfbaa758",
   "metadata": {
    "execution": {
     "iopub.execute_input": "2025-07-30T13:07:35.384706Z",
     "iopub.status.busy": "2025-07-30T13:07:35.384183Z",
     "iopub.status.idle": "2025-07-30T13:07:35.396536Z",
     "shell.execute_reply": "2025-07-30T13:07:35.395462Z"
    },
    "papermill": {
     "duration": 0.054067,
     "end_time": "2025-07-30T13:07:35.409448",
     "exception": false,
     "start_time": "2025-07-30T13:07:35.355381",
     "status": "completed"
    },
    "tags": []
   },
   "outputs": [],
   "source": [
    "subgroups = ['frau1','nongerman','nongerman_male','nongerman_female']\n",
    "\n",
    "# Conditional coverage for subgroup==1\n",
    "cond_coverage = {\n",
    "    g: cp_groups_df.loc[cp_groups_df[g]==1, 'covered'].mean()\n",
    "    for g in subgroups\n",
    "}"
   ]
  },
  {
   "cell_type": "code",
   "execution_count": 69,
   "id": "1e348fb1-b9c3-45bc-ba23-f016827a7e0d",
   "metadata": {
    "execution": {
     "iopub.execute_input": "2025-07-30T13:07:35.462498Z",
     "iopub.status.busy": "2025-07-30T13:07:35.462045Z",
     "iopub.status.idle": "2025-07-30T13:07:35.469240Z",
     "shell.execute_reply": "2025-07-30T13:07:35.468300Z"
    },
    "papermill": {
     "duration": 0.036002,
     "end_time": "2025-07-30T13:07:35.470811",
     "exception": false,
     "start_time": "2025-07-30T13:07:35.434809",
     "status": "completed"
    },
    "tags": []
   },
   "outputs": [
    {
     "data": {
      "text/plain": [
       "{'frau1': 0.9120905782450465,\n",
       " 'nongerman': 0.9078201313647336,\n",
       " 'nongerman_male': 0.9239845086913446,\n",
       " 'nongerman_female': 0.8810730253353204}"
      ]
     },
     "execution_count": 69,
     "metadata": {},
     "output_type": "execute_result"
    }
   ],
   "source": [
    "cond_coverage"
   ]
  },
  {
   "cell_type": "code",
   "execution_count": 70,
   "id": "f5093324-c3dd-4d63-bc4c-8d945e5c8bbb",
   "metadata": {
    "execution": {
     "iopub.execute_input": "2025-07-30T13:07:35.528796Z",
     "iopub.status.busy": "2025-07-30T13:07:35.527802Z",
     "iopub.status.idle": "2025-07-30T13:07:35.534984Z",
     "shell.execute_reply": "2025-07-30T13:07:35.534005Z"
    },
    "papermill": {
     "duration": 0.036228,
     "end_time": "2025-07-30T13:07:35.536584",
     "exception": false,
     "start_time": "2025-07-30T13:07:35.500356",
     "status": "completed"
    },
    "tags": []
   },
   "outputs": [],
   "source": [
    "for subgroup, cov in cond_coverage.items():\n",
    "    cp_metrics_df[f\"cov_{subgroup}\"] = cov"
   ]
  },
  {
   "cell_type": "code",
   "execution_count": 71,
   "id": "6e872e10-dbe5-49e8-b554-5030c98ff75d",
   "metadata": {
    "execution": {
     "iopub.execute_input": "2025-07-30T13:07:35.592776Z",
     "iopub.status.busy": "2025-07-30T13:07:35.592082Z",
     "iopub.status.idle": "2025-07-30T13:07:35.610044Z",
     "shell.execute_reply": "2025-07-30T13:07:35.608916Z"
    },
    "papermill": {
     "duration": 0.048626,
     "end_time": "2025-07-30T13:07:35.611887",
     "exception": false,
     "start_time": "2025-07-30T13:07:35.563261",
     "status": "completed"
    },
    "tags": []
   },
   "outputs": [
    {
     "data": {
      "text/html": [
       "<div>\n",
       "<style scoped>\n",
       "    .dataframe tbody tr th:only-of-type {\n",
       "        vertical-align: middle;\n",
       "    }\n",
       "\n",
       "    .dataframe tbody tr th {\n",
       "        vertical-align: top;\n",
       "    }\n",
       "\n",
       "    .dataframe thead th {\n",
       "        text-align: right;\n",
       "    }\n",
       "</style>\n",
       "<table border=\"1\" class=\"dataframe\">\n",
       "  <thead>\n",
       "    <tr style=\"text-align: right;\">\n",
       "      <th></th>\n",
       "      <th>universe_id</th>\n",
       "      <th>universe_training_size</th>\n",
       "      <th>universe_scale</th>\n",
       "      <th>universe_model</th>\n",
       "      <th>universe_exclude_features</th>\n",
       "      <th>universe_exclude_subgroups</th>\n",
       "      <th>q_hat</th>\n",
       "      <th>coverage</th>\n",
       "      <th>avg_size</th>\n",
       "      <th>cov_frau1</th>\n",
       "      <th>cov_nongerman</th>\n",
       "      <th>cov_nongerman_male</th>\n",
       "      <th>cov_nongerman_female</th>\n",
       "    </tr>\n",
       "  </thead>\n",
       "  <tbody>\n",
       "    <tr>\n",
       "      <th>0</th>\n",
       "      <td>57d8788a482108a422286a5a2df21abc</td>\n",
       "      <td>25k</td>\n",
       "      <td>scale</td>\n",
       "      <td>rf</td>\n",
       "      <td>nationality</td>\n",
       "      <td>drop-non-german</td>\n",
       "      <td>0.65</td>\n",
       "      <td>0.913042</td>\n",
       "      <td>1.136841</td>\n",
       "      <td>0.912091</td>\n",
       "      <td>0.90782</td>\n",
       "      <td>0.923985</td>\n",
       "      <td>0.881073</td>\n",
       "    </tr>\n",
       "  </tbody>\n",
       "</table>\n",
       "</div>"
      ],
      "text/plain": [
       "                        universe_id universe_training_size universe_scale  \\\n",
       "0  57d8788a482108a422286a5a2df21abc                    25k          scale   \n",
       "\n",
       "  universe_model universe_exclude_features universe_exclude_subgroups  q_hat  \\\n",
       "0             rf               nationality            drop-non-german   0.65   \n",
       "\n",
       "   coverage  avg_size  cov_frau1  cov_nongerman  cov_nongerman_male  \\\n",
       "0  0.913042  1.136841   0.912091        0.90782            0.923985   \n",
       "\n",
       "   cov_nongerman_female  \n",
       "0              0.881073  "
      ]
     },
     "execution_count": 71,
     "metadata": {},
     "output_type": "execute_result"
    }
   ],
   "source": [
    "cp_metrics_df"
   ]
  },
  {
   "cell_type": "markdown",
   "id": "33774451",
   "metadata": {
    "papermill": {
     "duration": 0.025896,
     "end_time": "2025-07-30T13:07:35.667224",
     "exception": false,
     "start_time": "2025-07-30T13:07:35.641328",
     "status": "completed"
    },
    "tags": []
   },
   "source": [
    "# (Fairness) Metrics"
   ]
  },
  {
   "cell_type": "code",
   "execution_count": 72,
   "id": "debc5d62",
   "metadata": {
    "execution": {
     "iopub.execute_input": "2025-07-30T13:07:35.720895Z",
     "iopub.status.busy": "2025-07-30T13:07:35.720008Z",
     "iopub.status.idle": "2025-07-30T13:07:35.742608Z",
     "shell.execute_reply": "2025-07-30T13:07:35.741435Z"
    },
    "papermill": {
     "duration": 0.051561,
     "end_time": "2025-07-30T13:07:35.744569",
     "exception": false,
     "start_time": "2025-07-30T13:07:35.693008",
     "status": "completed"
    },
    "tags": []
   },
   "outputs": [],
   "source": [
    "# do I need to include maxdeutsch1.missing?\n",
    "\n",
    "import numpy as np\n",
    "\n",
    "colname_to_bin = \"maxdeutsch1\"\n",
    "majority_value = org_train[colname_to_bin].mode()[0]\n",
    "\n",
    "org_test[\"majmin\"] = np.where(org_test[colname_to_bin] == majority_value, \"majority\", \"minority\")"
   ]
  },
  {
   "cell_type": "code",
   "execution_count": 73,
   "id": "06a50de5",
   "metadata": {
    "execution": {
     "iopub.execute_input": "2025-07-30T13:07:35.798800Z",
     "iopub.status.busy": "2025-07-30T13:07:35.797864Z",
     "iopub.status.idle": "2025-07-30T13:07:37.546047Z",
     "shell.execute_reply": "2025-07-30T13:07:37.545304Z"
    },
    "papermill": {
     "duration": 1.776711,
     "end_time": "2025-07-30T13:07:37.547483",
     "exception": false,
     "start_time": "2025-07-30T13:07:35.770772",
     "status": "completed"
    },
    "tags": []
   },
   "outputs": [],
   "source": [
    "example_universe = universe.copy()\n",
    "example_universe[\"cutoff\"] = example_universe[\"cutoff\"][0]\n",
    "example_universe[\"eval_fairness_grouping\"] = example_universe[\"eval_fairness_grouping\"][0]\n",
    "fairness_dict, metric_frame = universe_analysis.compute_metrics(\n",
    "    example_universe,\n",
    "    y_pred_prob=probs_test,\n",
    "    y_test=y_true,\n",
    "    org_test=org_test,\n",
    ")"
   ]
  },
  {
   "cell_type": "markdown",
   "id": "f95d4e02",
   "metadata": {
    "papermill": {
     "duration": 0.016619,
     "end_time": "2025-07-30T13:07:37.586974",
     "exception": false,
     "start_time": "2025-07-30T13:07:37.570355",
     "status": "completed"
    },
    "tags": []
   },
   "source": [
    "# Overall"
   ]
  },
  {
   "cell_type": "markdown",
   "id": "bdee4871",
   "metadata": {
    "papermill": {
     "duration": 0.014239,
     "end_time": "2025-07-30T13:07:37.615364",
     "exception": false,
     "start_time": "2025-07-30T13:07:37.601125",
     "status": "completed"
    },
    "tags": []
   },
   "source": [
    "Fairness\n",
    "Main fairness target: Equalized Odds. Seems to be a better fit than equal opportunity, since we're not only interested in Y = 1. Seems to be a better fit than demographic parity, since we also care about accuracy, not just equal distribution of preds.\n",
    "\n",
    "Pick column for computation of fairness metrics\n",
    "\n",
    "Performance\n",
    "Overall performance measures, most interesting in relation to the measures split by group below"
   ]
  },
  {
   "cell_type": "code",
   "execution_count": 74,
   "id": "c4e067c6",
   "metadata": {
    "execution": {
     "iopub.execute_input": "2025-07-30T13:07:37.647075Z",
     "iopub.status.busy": "2025-07-30T13:07:37.646732Z",
     "iopub.status.idle": "2025-07-30T13:07:37.653638Z",
     "shell.execute_reply": "2025-07-30T13:07:37.652960Z"
    },
    "papermill": {
     "duration": 0.024237,
     "end_time": "2025-07-30T13:07:37.654972",
     "exception": false,
     "start_time": "2025-07-30T13:07:37.630735",
     "status": "completed"
    },
    "tags": []
   },
   "outputs": [
    {
     "data": {
      "text/plain": [
       "accuracy                   0.193401\n",
       "balanced accuracy          0.529941\n",
       "f1                         0.238123\n",
       "precision                  0.135477\n",
       "false positive rate        0.922739\n",
       "false negative rate        0.017379\n",
       "selection rate             0.930420\n",
       "count                  89710.000000\n",
       "dtype: float64"
      ]
     },
     "execution_count": 74,
     "metadata": {},
     "output_type": "execute_result"
    }
   ],
   "source": [
    "metric_frame.overall"
   ]
  },
  {
   "cell_type": "markdown",
   "id": "e968fe9d",
   "metadata": {
    "papermill": {
     "duration": 0.014901,
     "end_time": "2025-07-30T13:07:37.685648",
     "exception": false,
     "start_time": "2025-07-30T13:07:37.670747",
     "status": "completed"
    },
    "tags": []
   },
   "source": [
    "By Group"
   ]
  },
  {
   "cell_type": "code",
   "execution_count": 75,
   "id": "ec325bce",
   "metadata": {
    "execution": {
     "iopub.execute_input": "2025-07-30T13:07:37.727302Z",
     "iopub.status.busy": "2025-07-30T13:07:37.726658Z",
     "iopub.status.idle": "2025-07-30T13:07:37.743840Z",
     "shell.execute_reply": "2025-07-30T13:07:37.742842Z"
    },
    "papermill": {
     "duration": 0.040886,
     "end_time": "2025-07-30T13:07:37.745680",
     "exception": false,
     "start_time": "2025-07-30T13:07:37.704794",
     "status": "completed"
    },
    "tags": []
   },
   "outputs": [
    {
     "data": {
      "text/html": [
       "<div>\n",
       "<style scoped>\n",
       "    .dataframe tbody tr th:only-of-type {\n",
       "        vertical-align: middle;\n",
       "    }\n",
       "\n",
       "    .dataframe tbody tr th {\n",
       "        vertical-align: top;\n",
       "    }\n",
       "\n",
       "    .dataframe thead th {\n",
       "        text-align: right;\n",
       "    }\n",
       "</style>\n",
       "<table border=\"1\" class=\"dataframe\">\n",
       "  <thead>\n",
       "    <tr style=\"text-align: right;\">\n",
       "      <th></th>\n",
       "      <th>accuracy</th>\n",
       "      <th>balanced accuracy</th>\n",
       "      <th>f1</th>\n",
       "      <th>precision</th>\n",
       "      <th>false positive rate</th>\n",
       "      <th>false negative rate</th>\n",
       "      <th>selection rate</th>\n",
       "      <th>count</th>\n",
       "    </tr>\n",
       "    <tr>\n",
       "      <th>majmin</th>\n",
       "      <th></th>\n",
       "      <th></th>\n",
       "      <th></th>\n",
       "      <th></th>\n",
       "      <th></th>\n",
       "      <th></th>\n",
       "      <th></th>\n",
       "      <th></th>\n",
       "    </tr>\n",
       "  </thead>\n",
       "  <tbody>\n",
       "    <tr>\n",
       "      <th>majority</th>\n",
       "      <td>0.193032</td>\n",
       "      <td>0.530909</td>\n",
       "      <td>0.244866</td>\n",
       "      <td>0.139708</td>\n",
       "      <td>0.928336</td>\n",
       "      <td>0.009847</td>\n",
       "      <td>0.936504</td>\n",
       "      <td>69170.0</td>\n",
       "    </tr>\n",
       "    <tr>\n",
       "      <th>minority</th>\n",
       "      <td>0.194645</td>\n",
       "      <td>0.524650</td>\n",
       "      <td>0.214455</td>\n",
       "      <td>0.120813</td>\n",
       "      <td>0.904248</td>\n",
       "      <td>0.046453</td>\n",
       "      <td>0.909932</td>\n",
       "      <td>20540.0</td>\n",
       "    </tr>\n",
       "  </tbody>\n",
       "</table>\n",
       "</div>"
      ],
      "text/plain": [
       "          accuracy  balanced accuracy        f1  precision  \\\n",
       "majmin                                                       \n",
       "majority  0.193032           0.530909  0.244866   0.139708   \n",
       "minority  0.194645           0.524650  0.214455   0.120813   \n",
       "\n",
       "          false positive rate  false negative rate  selection rate    count  \n",
       "majmin                                                                       \n",
       "majority             0.928336             0.009847        0.936504  69170.0  \n",
       "minority             0.904248             0.046453        0.909932  20540.0  "
      ]
     },
     "execution_count": 75,
     "metadata": {},
     "output_type": "execute_result"
    }
   ],
   "source": [
    "metric_frame.by_group"
   ]
  },
  {
   "cell_type": "code",
   "execution_count": 76,
   "id": "a9ddbe63",
   "metadata": {
    "execution": {
     "iopub.execute_input": "2025-07-30T13:07:37.788587Z",
     "iopub.status.busy": "2025-07-30T13:07:37.788175Z",
     "iopub.status.idle": "2025-07-30T13:07:39.887116Z",
     "shell.execute_reply": "2025-07-30T13:07:39.886404Z"
    },
    "papermill": {
     "duration": 2.116256,
     "end_time": "2025-07-30T13:07:39.888442",
     "exception": false,
     "start_time": "2025-07-30T13:07:37.772186",
     "status": "completed"
    },
    "tags": []
   },
   "outputs": [
    {
     "data": {
      "text/plain": [
       "array([[<Axes: title={'center': 'accuracy'}, xlabel='majmin'>,\n",
       "        <Axes: title={'center': 'balanced accuracy'}, xlabel='majmin'>,\n",
       "        <Axes: title={'center': 'f1'}, xlabel='majmin'>],\n",
       "       [<Axes: title={'center': 'precision'}, xlabel='majmin'>,\n",
       "        <Axes: title={'center': 'false positive rate'}, xlabel='majmin'>,\n",
       "        <Axes: title={'center': 'false negative rate'}, xlabel='majmin'>],\n",
       "       [<Axes: title={'center': 'selection rate'}, xlabel='majmin'>,\n",
       "        <Axes: title={'center': 'count'}, xlabel='majmin'>,\n",
       "        <Axes: xlabel='majmin'>]], dtype=object)"
      ]
     },
     "execution_count": 76,
     "metadata": {},
     "output_type": "execute_result"
    },
    {
     "data": {
      "image/png": "[encoded data removed]",
      "text/plain": [
       "<Figure size 1200x800 with 9 Axes>"
      ]
     },
     "metadata": {},
     "output_type": "display_data"
    }
   ],
   "source": [
    "# In a graphic\n",
    "metric_frame.by_group.plot.bar(\n",
    "    subplots=True,\n",
    "    layout=[3, 3],\n",
    "    legend=False,\n",
    "    figsize=[12, 8],\n",
    "    title=\"Show all metrics\",\n",
    ")"
   ]
  },
  {
   "cell_type": "markdown",
   "id": "f57a0bac",
   "metadata": {
    "papermill": {
     "duration": 0.01743,
     "end_time": "2025-07-30T13:07:39.929420",
     "exception": false,
     "start_time": "2025-07-30T13:07:39.911990",
     "status": "completed"
    },
    "tags": []
   },
   "source": [
    "# Final Output"
   ]
  },
  {
   "cell_type": "code",
   "execution_count": 77,
   "id": "96d280a3",
   "metadata": {
    "execution": {
     "iopub.execute_input": "2025-07-30T13:07:39.961080Z",
     "iopub.status.busy": "2025-07-30T13:07:39.960633Z",
     "iopub.status.idle": "2025-07-30T13:07:39.968213Z",
     "shell.execute_reply": "2025-07-30T13:07:39.967249Z"
    },
    "papermill": {
     "duration": 0.025282,
     "end_time": "2025-07-30T13:07:39.969797",
     "exception": false,
     "start_time": "2025-07-30T13:07:39.944515",
     "status": "completed"
    },
    "tags": []
   },
   "outputs": [
    {
     "data": {
      "text/plain": [
       "4"
      ]
     },
     "execution_count": 77,
     "metadata": {},
     "output_type": "execute_result"
    }
   ],
   "source": [
    "sub_universes = universe_analysis.generate_sub_universes()\n",
    "len(sub_universes)"
   ]
  },
  {
   "cell_type": "code",
   "execution_count": 78,
   "id": "92adf7ba",
   "metadata": {
    "execution": {
     "iopub.execute_input": "2025-07-30T13:07:40.034970Z",
     "iopub.status.busy": "2025-07-30T13:07:40.034281Z",
     "iopub.status.idle": "2025-07-30T13:07:40.040728Z",
     "shell.execute_reply": "2025-07-30T13:07:40.039688Z"
    },
    "papermill": {
     "duration": 0.042193,
     "end_time": "2025-07-30T13:07:40.042528",
     "exception": false,
     "start_time": "2025-07-30T13:07:40.000335",
     "status": "completed"
    },
    "tags": []
   },
   "outputs": [],
   "source": [
    "def filter_sub_universe_data(sub_universe, org_test):\n",
    "    # Keep all rows — no filtering\n",
    "    keep_rows_mask = np.ones(org_test.shape[0], dtype=bool)\n",
    "\n",
    "    print(f\"[INFO] Keeping all rows: {keep_rows_mask.sum()} rows retained.\")\n",
    "    return keep_rows_mask"
   ]
  },
  {
   "cell_type": "code",
   "execution_count": 79,
   "id": "4a759155",
   "metadata": {
    "execution": {
     "iopub.execute_input": "2025-07-30T13:07:40.092144Z",
     "iopub.status.busy": "2025-07-30T13:07:40.091679Z",
     "iopub.status.idle": "2025-07-30T13:07:51.189538Z",
     "shell.execute_reply": "2025-07-30T13:07:51.188595Z"
    },
    "papermill": {
     "duration": 11.118232,
     "end_time": "2025-07-30T13:07:51.190830",
     "exception": false,
     "start_time": "2025-07-30T13:07:40.072598",
     "status": "completed"
    },
    "tags": []
   },
   "outputs": [
    {
     "name": "stdout",
     "output_type": "stream",
     "text": [
      "Stopping execution_time clock.\n",
      "[INFO] Keeping all rows: 89710 rows retained.\n"
     ]
    },
    {
     "name": "stdout",
     "output_type": "stream",
     "text": [
      "[INFO] Keeping all rows: 89710 rows retained.\n"
     ]
    },
    {
     "name": "stdout",
     "output_type": "stream",
     "text": [
      "[INFO] Keeping all rows: 89710 rows retained.\n"
     ]
    },
    {
     "name": "stdout",
     "output_type": "stream",
     "text": [
      "[INFO] Keeping all rows: 89710 rows retained.\n"
     ]
    },
    {
     "data": {
      "text/html": [
       "<div>\n",
       "<style scoped>\n",
       "    .dataframe tbody tr th:only-of-type {\n",
       "        vertical-align: middle;\n",
       "    }\n",
       "\n",
       "    .dataframe tbody tr th {\n",
       "        vertical-align: top;\n",
       "    }\n",
       "\n",
       "    .dataframe thead th {\n",
       "        text-align: right;\n",
       "    }\n",
       "</style>\n",
       "<table border=\"1\" class=\"dataframe\">\n",
       "  <thead>\n",
       "    <tr style=\"text-align: right;\">\n",
       "      <th></th>\n",
       "      <th>run_no</th>\n",
       "      <th>universe_id</th>\n",
       "      <th>universe_settings</th>\n",
       "      <th>execution_time</th>\n",
       "      <th>test_size_n</th>\n",
       "      <th>test_size_frac</th>\n",
       "      <th>fair_main_equalized_odds_difference</th>\n",
       "      <th>fair_main_equalized_odds_ratio</th>\n",
       "      <th>fair_main_demographic_parity_difference</th>\n",
       "      <th>fair_main_demographic_parity_ratio</th>\n",
       "      <th>...</th>\n",
       "      <th>perf_grp_precision_0</th>\n",
       "      <th>perf_grp_precision_1</th>\n",
       "      <th>perf_grp_false positive rate_0</th>\n",
       "      <th>perf_grp_false positive rate_1</th>\n",
       "      <th>perf_grp_false negative rate_0</th>\n",
       "      <th>perf_grp_false negative rate_1</th>\n",
       "      <th>perf_grp_selection rate_0</th>\n",
       "      <th>perf_grp_selection rate_1</th>\n",
       "      <th>perf_grp_count_0</th>\n",
       "      <th>perf_grp_count_1</th>\n",
       "    </tr>\n",
       "  </thead>\n",
       "  <tbody>\n",
       "    <tr>\n",
       "      <th>0</th>\n",
       "      <td>12</td>\n",
       "      <td>57d8788a482108a422286a5a2df21abc</td>\n",
       "      <td>{\"cutoff\": \"quantile_0.1\", \"eval_fairness_grou...</td>\n",
       "      <td>39.251393</td>\n",
       "      <td>89710</td>\n",
       "      <td>1.0</td>\n",
       "      <td>0.036606</td>\n",
       "      <td>0.963030</td>\n",
       "      <td>0.026572</td>\n",
       "      <td>0.971626</td>\n",
       "      <td>...</td>\n",
       "      <td>NaN</td>\n",
       "      <td>NaN</td>\n",
       "      <td>NaN</td>\n",
       "      <td>NaN</td>\n",
       "      <td>NaN</td>\n",
       "      <td>NaN</td>\n",
       "      <td>NaN</td>\n",
       "      <td>NaN</td>\n",
       "      <td>NaN</td>\n",
       "      <td>NaN</td>\n",
       "    </tr>\n",
       "    <tr>\n",
       "      <th>0</th>\n",
       "      <td>12</td>\n",
       "      <td>57d8788a482108a422286a5a2df21abc</td>\n",
       "      <td>{\"cutoff\": \"quantile_0.1\", \"eval_fairness_grou...</td>\n",
       "      <td>39.251393</td>\n",
       "      <td>89710</td>\n",
       "      <td>1.0</td>\n",
       "      <td>0.036606</td>\n",
       "      <td>0.963030</td>\n",
       "      <td>0.026572</td>\n",
       "      <td>0.971626</td>\n",
       "      <td>...</td>\n",
       "      <td>0.120813</td>\n",
       "      <td>0.139708</td>\n",
       "      <td>0.904248</td>\n",
       "      <td>0.928336</td>\n",
       "      <td>0.046453</td>\n",
       "      <td>0.009847</td>\n",
       "      <td>0.909932</td>\n",
       "      <td>0.936504</td>\n",
       "      <td>20540.0</td>\n",
       "      <td>69170.0</td>\n",
       "    </tr>\n",
       "    <tr>\n",
       "      <th>0</th>\n",
       "      <td>12</td>\n",
       "      <td>57d8788a482108a422286a5a2df21abc</td>\n",
       "      <td>{\"cutoff\": \"quantile_0.25\", \"eval_fairness_gro...</td>\n",
       "      <td>39.251393</td>\n",
       "      <td>89710</td>\n",
       "      <td>1.0</td>\n",
       "      <td>0.077138</td>\n",
       "      <td>0.919378</td>\n",
       "      <td>0.042468</td>\n",
       "      <td>0.945922</td>\n",
       "      <td>...</td>\n",
       "      <td>NaN</td>\n",
       "      <td>NaN</td>\n",
       "      <td>NaN</td>\n",
       "      <td>NaN</td>\n",
       "      <td>NaN</td>\n",
       "      <td>NaN</td>\n",
       "      <td>NaN</td>\n",
       "      <td>NaN</td>\n",
       "      <td>NaN</td>\n",
       "      <td>NaN</td>\n",
       "    </tr>\n",
       "    <tr>\n",
       "      <th>0</th>\n",
       "      <td>12</td>\n",
       "      <td>57d8788a482108a422286a5a2df21abc</td>\n",
       "      <td>{\"cutoff\": \"quantile_0.25\", \"eval_fairness_gro...</td>\n",
       "      <td>39.251393</td>\n",
       "      <td>89710</td>\n",
       "      <td>1.0</td>\n",
       "      <td>0.077138</td>\n",
       "      <td>0.919378</td>\n",
       "      <td>0.042468</td>\n",
       "      <td>0.945922</td>\n",
       "      <td>...</td>\n",
       "      <td>0.136519</td>\n",
       "      <td>0.160990</td>\n",
       "      <td>0.725017</td>\n",
       "      <td>0.759204</td>\n",
       "      <td>0.120355</td>\n",
       "      <td>0.043217</td>\n",
       "      <td>0.742843</td>\n",
       "      <td>0.785312</td>\n",
       "      <td>20540.0</td>\n",
       "      <td>69170.0</td>\n",
       "    </tr>\n",
       "  </tbody>\n",
       "</table>\n",
       "<p>4 rows × 50 columns</p>\n",
       "</div>"
      ],
      "text/plain": [
       "  run_no                       universe_id  \\\n",
       "0     12  57d8788a482108a422286a5a2df21abc   \n",
       "0     12  57d8788a482108a422286a5a2df21abc   \n",
       "0     12  57d8788a482108a422286a5a2df21abc   \n",
       "0     12  57d8788a482108a422286a5a2df21abc   \n",
       "\n",
       "                                   universe_settings  execution_time  \\\n",
       "0  {\"cutoff\": \"quantile_0.1\", \"eval_fairness_grou...       39.251393   \n",
       "0  {\"cutoff\": \"quantile_0.1\", \"eval_fairness_grou...       39.251393   \n",
       "0  {\"cutoff\": \"quantile_0.25\", \"eval_fairness_gro...       39.251393   \n",
       "0  {\"cutoff\": \"quantile_0.25\", \"eval_fairness_gro...       39.251393   \n",
       "\n",
       "   test_size_n  test_size_frac  fair_main_equalized_odds_difference  \\\n",
       "0        89710             1.0                             0.036606   \n",
       "0        89710             1.0                             0.036606   \n",
       "0        89710             1.0                             0.077138   \n",
       "0        89710             1.0                             0.077138   \n",
       "\n",
       "   fair_main_equalized_odds_ratio  fair_main_demographic_parity_difference  \\\n",
       "0                        0.963030                                 0.026572   \n",
       "0                        0.963030                                 0.026572   \n",
       "0                        0.919378                                 0.042468   \n",
       "0                        0.919378                                 0.042468   \n",
       "\n",
       "   fair_main_demographic_parity_ratio  ...  perf_grp_precision_0  \\\n",
       "0                            0.971626  ...                   NaN   \n",
       "0                            0.971626  ...              0.120813   \n",
       "0                            0.945922  ...                   NaN   \n",
       "0                            0.945922  ...              0.136519   \n",
       "\n",
       "   perf_grp_precision_1  perf_grp_false positive rate_0  \\\n",
       "0                   NaN                             NaN   \n",
       "0              0.139708                        0.904248   \n",
       "0                   NaN                             NaN   \n",
       "0              0.160990                        0.725017   \n",
       "\n",
       "   perf_grp_false positive rate_1  perf_grp_false negative rate_0  \\\n",
       "0                             NaN                             NaN   \n",
       "0                        0.928336                        0.046453   \n",
       "0                             NaN                             NaN   \n",
       "0                        0.759204                        0.120355   \n",
       "\n",
       "   perf_grp_false negative rate_1  perf_grp_selection rate_0  \\\n",
       "0                             NaN                        NaN   \n",
       "0                        0.009847                   0.909932   \n",
       "0                             NaN                        NaN   \n",
       "0                        0.043217                   0.742843   \n",
       "\n",
       "   perf_grp_selection rate_1  perf_grp_count_0  perf_grp_count_1  \n",
       "0                        NaN               NaN               NaN  \n",
       "0                   0.936504           20540.0           69170.0  \n",
       "0                        NaN               NaN               NaN  \n",
       "0                   0.785312           20540.0           69170.0  \n",
       "\n",
       "[4 rows x 50 columns]"
      ]
     },
     "execution_count": 79,
     "metadata": {},
     "output_type": "execute_result"
    }
   ],
   "source": [
    "final_output = universe_analysis.generate_final_output(\n",
    "    y_pred_prob=probs_test,\n",
    "    y_test=y_true,\n",
    "    org_test=org_test,\n",
    "    filter_data=filter_sub_universe_data,\n",
    "    cp_metrics_df=cp_metrics_df,\n",
    "    save=True,\n",
    ")\n",
    "final_output"
   ]
  },
  {
   "cell_type": "code",
   "execution_count": null,
   "id": "721ff514-cb11-46f8-b6fc-50392f74b5cb",
   "metadata": {
    "papermill": {
     "duration": 0.017787,
     "end_time": "2025-07-30T13:07:51.227599",
     "exception": false,
     "start_time": "2025-07-30T13:07:51.209812",
     "status": "completed"
    },
    "tags": []
   },
   "outputs": [],
   "source": []
  }
 ],
 "metadata": {
  "celltoolbar": "Tags",
  "kernelspec": {
   "display_name": "Python (CMA Fairness)",
   "language": "python",
   "name": "cma_fair_env"
  },
  "language_info": {
   "codemirror_mode": {
    "name": "ipython",
    "version": 3
   },
   "file_extension": ".py",
   "mimetype": "text/x-python",
   "name": "python",
   "nbconvert_exporter": "python",
   "pygments_lexer": "ipython3",
   "version": "3.10.12"
  },
  "papermill": {
   "default_parameters": {},
   "duration": 54.693013,
   "end_time": "2025-07-30T13:07:51.978957",
   "environment_variables": {},
   "exception": null,
   "input_path": "universe_analysis.ipynb",
   "output_path": "output/runs/12/notebooks/m_12-57d8788a482108a422286a5a2df21abc.ipynb",
   "parameters": {
    "output_dir": "output",
    "run_no": "12",
    "seed": "2023",
    "universe": "{\"cutoff\": [\"quantile_0.1\", \"quantile_0.25\"], \"eval_fairness_grouping\": [\"majority-minority\", \"nationality-all\"], \"exclude_features\": \"nationality\", \"exclude_subgroups\": \"drop-non-german\", \"model\": \"rf\", \"scale\": \"scale\", \"training_size\": \"25k\", \"training_year\": \"2012_14\"}",
    "universe_id": "57d8788a482108a422286a5a2df21abc"
   },
   "start_time": "2025-07-30T13:06:57.285944",
   "version": "2.6.0"
  }
 },
 "nbformat": 4,
 "nbformat_minor": 5
}