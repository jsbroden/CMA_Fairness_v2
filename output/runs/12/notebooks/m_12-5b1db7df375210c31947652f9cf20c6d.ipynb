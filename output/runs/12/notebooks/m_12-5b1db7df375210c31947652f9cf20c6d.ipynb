{
 "cells": [
  {
   "cell_type": "code",
   "execution_count": 1,
   "id": "f159f837-637b-42ba-96b5-ec9a68c44524",
   "metadata": {
    "execution": {
     "iopub.execute_input": "2025-07-30T14:22:51.034423Z",
     "iopub.status.busy": "2025-07-30T14:22:51.033721Z",
     "iopub.status.idle": "2025-07-30T14:22:51.047627Z",
     "shell.execute_reply": "2025-07-30T14:22:51.046541Z"
    },
    "papermill": {
     "duration": 0.038781,
     "end_time": "2025-07-30T14:22:51.049231",
     "exception": false,
     "start_time": "2025-07-30T14:22:51.010450",
     "status": "completed"
    },
    "tags": []
   },
   "outputs": [
    {
     "name": "stdout",
     "output_type": "stream",
     "text": [
      "/dss/dsshome1/0C/ra93lal2/cma/CMA_Fairness_v2\n"
     ]
    },
    {
     "name": "stderr",
     "output_type": "stream",
     "text": [
      "/dss/dsshome1/0C/ra93lal2/.local/share/virtualenvs/CMA_Fairness_v2-3j10GkSs/lib/python3.10/site-packages/IPython/core/magics/osm.py:393: UserWarning: This is now an optional IPython functionality, using bookmarks requires you to install the `pickleshare` library.\n",
      "  bkms = self.shell.db.get('bookmarks', {})\n",
      "/dss/dsshome1/0C/ra93lal2/.local/share/virtualenvs/CMA_Fairness_v2-3j10GkSs/lib/python3.10/site-packages/IPython/core/magics/osm.py:417: UserWarning: This is now an optional IPython functionality, setting dhist requires you to install the `pickleshare` library.\n",
      "  self.shell.db['dhist'] = compress_dhist(dhist)[-100:]\n"
     ]
    }
   ],
   "source": [
    "%cd ~/cma/CMA_Fairness_v2"
   ]
  },
  {
   "cell_type": "markdown",
   "id": "de2603b9",
   "metadata": {
    "papermill": {
     "duration": 0.019328,
     "end_time": "2025-07-30T14:22:51.089195",
     "exception": false,
     "start_time": "2025-07-30T14:22:51.069867",
     "status": "completed"
    },
    "tags": []
   },
   "source": [
    "The following cell holds the definition of our parameters, these values can be overriden by rendering the with e.g. the following command:\n",
    "\n",
    "papermill -p alpha 0.2 -p ratio 0.3 universe_analysis.ipynb output/test_run.ipynb"
   ]
  },
  {
   "cell_type": "code",
   "execution_count": 2,
   "id": "a80968a0-40bb-4fa9-85ef-2d5eefb01975",
   "metadata": {
    "execution": {
     "iopub.execute_input": "2025-07-30T14:22:51.129743Z",
     "iopub.status.busy": "2025-07-30T14:22:51.128824Z",
     "iopub.status.idle": "2025-07-30T14:22:51.134711Z",
     "shell.execute_reply": "2025-07-30T14:22:51.133766Z"
    },
    "papermill": {
     "duration": 0.028356,
     "end_time": "2025-07-30T14:22:51.136374",
     "exception": false,
     "start_time": "2025-07-30T14:22:51.108018",
     "status": "completed"
    },
    "tags": []
   },
   "outputs": [
    {
     "name": "stdout",
     "output_type": "stream",
     "text": [
      "Current working directory: /dss/dsshome1/0C/ra93lal2/cma/CMA_Fairness_v2\n"
     ]
    }
   ],
   "source": [
    "import os\n",
    "print(\"Current working directory:\", os.getcwd())"
   ]
  },
  {
   "cell_type": "code",
   "execution_count": 3,
   "id": "2dce4c03",
   "metadata": {
    "execution": {
     "iopub.execute_input": "2025-07-30T14:22:51.177790Z",
     "iopub.status.busy": "2025-07-30T14:22:51.176882Z",
     "iopub.status.idle": "2025-07-30T14:22:51.183509Z",
     "shell.execute_reply": "2025-07-30T14:22:51.182573Z"
    },
    "papermill": {
     "duration": 0.028664,
     "end_time": "2025-07-30T14:22:51.185186",
     "exception": false,
     "start_time": "2025-07-30T14:22:51.156522",
     "status": "completed"
    },
    "tags": [
     "parameters"
    ]
   },
   "outputs": [],
   "source": [
    "run_no = 0\n",
    "universe_id = \"test\"\n",
    "universe = {\n",
    "    \"training_size\": \"25k\", # \"25k\", \"5k\", \"1k\"\n",
    "    \"training_year\": \"2014\", # \"2014\", \"2012_14\", \"2010_14\"\n",
    "    \"scale\": \"scale\", # \"scale\", \"do-not-scale\",\n",
    "    #\"stratify_split\": \"target\", # \"none\", \"target\", \"protected-attribute\", \"both\",\n",
    "    \"model\": \"elasticnet\", # \"logreg\", \"penalized_logreg\", \"rf\", \"gbm\", \"elasticnet\"\n",
    "    \"cutoff\": [\"quantile_0.15\", \"quantile_0.30\"],\n",
    "    \"exclude_features\": \"age\", # \"none\", \"nationality\", \"sex\", \"nationality-sex\", \"age\"\n",
    "    \"exclude_subgroups\": \"keep-all\", # \"keep-all\", \"drop-non-german\"\n",
    "    \"eval_fairness_grouping\": [\"majority-minority\", \"nationality-all\"]\n",
    "}\n",
    "\n",
    "output_dir=\"./output\"\n",
    "seed=0"
   ]
  },
  {
   "cell_type": "code",
   "execution_count": 4,
   "id": "e1ef455b",
   "metadata": {
    "execution": {
     "iopub.execute_input": "2025-07-30T14:22:51.226813Z",
     "iopub.status.busy": "2025-07-30T14:22:51.225856Z",
     "iopub.status.idle": "2025-07-30T14:22:51.231197Z",
     "shell.execute_reply": "2025-07-30T14:22:51.230288Z"
    },
    "papermill": {
     "duration": 0.027547,
     "end_time": "2025-07-30T14:22:51.232743",
     "exception": false,
     "start_time": "2025-07-30T14:22:51.205196",
     "status": "completed"
    },
    "tags": [
     "injected-parameters"
    ]
   },
   "outputs": [],
   "source": [
    "# Parameters\n",
    "universe_id = \"5b1db7df375210c31947652f9cf20c6d\"\n",
    "run_no = \"12\"\n",
    "universe = \"{\\\"cutoff\\\": [\\\"quantile_0.1\\\", \\\"quantile_0.25\\\"], \\\"eval_fairness_grouping\\\": [\\\"majority-minority\\\", \\\"nationality-all\\\"], \\\"exclude_features\\\": \\\"none\\\", \\\"exclude_subgroups\\\": \\\"drop-non-german\\\", \\\"model\\\": \\\"elasticnet\\\", \\\"scale\\\": \\\"scale\\\", \\\"training_size\\\": \\\"1k\\\", \\\"training_year\\\": \\\"2014\\\"}\"\n",
    "output_dir = \"output\"\n",
    "seed = \"2023\"\n"
   ]
  },
  {
   "cell_type": "code",
   "execution_count": 5,
   "id": "1650acaf",
   "metadata": {
    "execution": {
     "iopub.execute_input": "2025-07-30T14:22:51.274277Z",
     "iopub.status.busy": "2025-07-30T14:22:51.273603Z",
     "iopub.status.idle": "2025-07-30T14:22:51.279790Z",
     "shell.execute_reply": "2025-07-30T14:22:51.278879Z"
    },
    "papermill": {
     "duration": 0.028907,
     "end_time": "2025-07-30T14:22:51.281483",
     "exception": false,
     "start_time": "2025-07-30T14:22:51.252576",
     "status": "completed"
    },
    "tags": []
   },
   "outputs": [],
   "source": [
    "import json\n",
    "# Parse universe into dict if it is passed as a string\n",
    "if isinstance(universe, str):\n",
    "    universe = json.loads(universe)"
   ]
  },
  {
   "cell_type": "code",
   "execution_count": 6,
   "id": "16620c48",
   "metadata": {
    "execution": {
     "iopub.execute_input": "2025-07-30T14:22:51.322661Z",
     "iopub.status.busy": "2025-07-30T14:22:51.321734Z",
     "iopub.status.idle": "2025-07-30T14:22:51.366156Z",
     "shell.execute_reply": "2025-07-30T14:22:51.365200Z"
    },
    "papermill": {
     "duration": 0.067,
     "end_time": "2025-07-30T14:22:51.368153",
     "exception": false,
     "start_time": "2025-07-30T14:22:51.301153",
     "status": "completed"
    },
    "tags": []
   },
   "outputs": [],
   "source": [
    "# Auto-reload the custom package\n",
    "%load_ext autoreload\n",
    "%autoreload 1\n",
    "%aimport fairness_multiverse"
   ]
  },
  {
   "cell_type": "code",
   "execution_count": 7,
   "id": "01c5c9f3",
   "metadata": {
    "execution": {
     "iopub.execute_input": "2025-07-30T14:22:51.410109Z",
     "iopub.status.busy": "2025-07-30T14:22:51.409243Z",
     "iopub.status.idle": "2025-07-30T14:22:53.301523Z",
     "shell.execute_reply": "2025-07-30T14:22:53.300545Z"
    },
    "papermill": {
     "duration": 1.914678,
     "end_time": "2025-07-30T14:22:53.303577",
     "exception": false,
     "start_time": "2025-07-30T14:22:51.388899",
     "status": "completed"
    },
    "tags": []
   },
   "outputs": [],
   "source": [
    "from fairness_multiverse.universe import UniverseAnalysis\n",
    "\n",
    "universe_analysis = UniverseAnalysis(\n",
    "    run_no = run_no,\n",
    "    universe_id = universe_id,\n",
    "    universe = universe,\n",
    "    output_dir=output_dir,\n",
    ")"
   ]
  },
  {
   "cell_type": "code",
   "execution_count": 8,
   "id": "106241f5",
   "metadata": {
    "execution": {
     "iopub.execute_input": "2025-07-30T14:22:53.350261Z",
     "iopub.status.busy": "2025-07-30T14:22:53.349600Z",
     "iopub.status.idle": "2025-07-30T14:22:53.356025Z",
     "shell.execute_reply": "2025-07-30T14:22:53.354988Z"
    },
    "papermill": {
     "duration": 0.029944,
     "end_time": "2025-07-30T14:22:53.357727",
     "exception": false,
     "start_time": "2025-07-30T14:22:53.327783",
     "status": "completed"
    },
    "tags": []
   },
   "outputs": [
    {
     "name": "stdout",
     "output_type": "stream",
     "text": [
      "Using Seed: 2023\n"
     ]
    }
   ],
   "source": [
    "import numpy as np\n",
    "parsed_seed = int(seed)\n",
    "np.random.seed(parsed_seed)\n",
    "print(f\"Using Seed: {parsed_seed}\")"
   ]
  },
  {
   "cell_type": "markdown",
   "id": "e0ebdc57",
   "metadata": {
    "papermill": {
     "duration": 0.020706,
     "end_time": "2025-07-30T14:22:53.399299",
     "exception": false,
     "start_time": "2025-07-30T14:22:53.378593",
     "status": "completed"
    },
    "tags": []
   },
   "source": [
    "# Loading Data"
   ]
  },
  {
   "cell_type": "markdown",
   "id": "681925a3",
   "metadata": {
    "papermill": {
     "duration": 0.019854,
     "end_time": "2025-07-30T14:22:53.439752",
     "exception": false,
     "start_time": "2025-07-30T14:22:53.419898",
     "status": "completed"
    },
    "tags": []
   },
   "source": [
    "Load siab_train, siab_test, siab_calib and/or \n",
    "load siab_train_features, siab_train_labels"
   ]
  },
  {
   "cell_type": "code",
   "execution_count": 9,
   "id": "f0496b8a",
   "metadata": {
    "execution": {
     "iopub.execute_input": "2025-07-30T14:22:53.483861Z",
     "iopub.status.busy": "2025-07-30T14:22:53.483099Z",
     "iopub.status.idle": "2025-07-30T14:23:06.015299Z",
     "shell.execute_reply": "2025-07-30T14:23:06.014404Z"
    },
    "papermill": {
     "duration": 12.556078,
     "end_time": "2025-07-30T14:23:06.016989",
     "exception": false,
     "start_time": "2025-07-30T14:22:53.460911",
     "status": "completed"
    },
    "tags": []
   },
   "outputs": [
    {
     "name": "stdout",
     "output_type": "stream",
     "text": [
      "Loading SIAB data from cache: data/siab_cached.csv.gz\n"
     ]
    },
    {
     "name": "stdout",
     "output_type": "stream",
     "text": [
      "(643690, 164)\n"
     ]
    }
   ],
   "source": [
    "from pathlib import Path\n",
    "import pandas as pd\n",
    "\n",
    "# File paths\n",
    "raw_file = Path(\"data/raw/siab.csv\")\n",
    "cache_file = Path(\"data/siab_cached.csv.gz\")\n",
    "\n",
    "# Ensure cache directory exists\n",
    "cache_file.parent.mkdir(parents=True, exist_ok=True)\n",
    "\n",
    "# Load with simple caching\n",
    "if cache_file.exists():\n",
    "    print(f\"Loading SIAB data from cache: {cache_file}\")\n",
    "    siab = pd.read_csv(cache_file, compression='gzip')\n",
    "else:\n",
    "    print(f\"Cache not found. Reading raw SIAB data: {raw_file}\")\n",
    "    siab = pd.read_csv(raw_file)\n",
    "    siab.to_csv(cache_file, index=False, compression='gzip')\n",
    "    print(f\"Cached SIAB data to: {cache_file}\")\n",
    "\n",
    "# Now use `siab` DataFrame as needed\n",
    "print(siab.shape)"
   ]
  },
  {
   "cell_type": "code",
   "execution_count": 10,
   "id": "db0ca512-5f53-4dba-abdb-a2888bca41ba",
   "metadata": {
    "execution": {
     "iopub.execute_input": "2025-07-30T14:23:06.062810Z",
     "iopub.status.busy": "2025-07-30T14:23:06.062256Z",
     "iopub.status.idle": "2025-07-30T14:23:06.068285Z",
     "shell.execute_reply": "2025-07-30T14:23:06.067354Z"
    },
    "papermill": {
     "duration": 0.029924,
     "end_time": "2025-07-30T14:23:06.069869",
     "exception": false,
     "start_time": "2025-07-30T14:23:06.039945",
     "status": "completed"
    },
    "tags": []
   },
   "outputs": [],
   "source": [
    "#siab"
   ]
  },
  {
   "cell_type": "code",
   "execution_count": 11,
   "id": "a0edb063",
   "metadata": {
    "execution": {
     "iopub.execute_input": "2025-07-30T14:23:06.112476Z",
     "iopub.status.busy": "2025-07-30T14:23:06.111671Z",
     "iopub.status.idle": "2025-07-30T14:23:06.116594Z",
     "shell.execute_reply": "2025-07-30T14:23:06.115640Z"
    },
    "papermill": {
     "duration": 0.028458,
     "end_time": "2025-07-30T14:23:06.118283",
     "exception": false,
     "start_time": "2025-07-30T14:23:06.089825",
     "status": "completed"
    },
    "tags": []
   },
   "outputs": [],
   "source": [
    "#import pandas as pd\n",
    "#\n",
    "#X_train = pd.read_csv(\"./data/X_train.csv\")\n",
    "#y_train = pd.read_csv(\"./data/y_train.csv\")"
   ]
  },
  {
   "cell_type": "code",
   "execution_count": 12,
   "id": "63d08085",
   "metadata": {
    "execution": {
     "iopub.execute_input": "2025-07-30T14:23:06.164222Z",
     "iopub.status.busy": "2025-07-30T14:23:06.163790Z",
     "iopub.status.idle": "2025-07-30T14:23:06.169327Z",
     "shell.execute_reply": "2025-07-30T14:23:06.167812Z"
    },
    "papermill": {
     "duration": 0.029951,
     "end_time": "2025-07-30T14:23:06.170961",
     "exception": false,
     "start_time": "2025-07-30T14:23:06.141010",
     "status": "completed"
    },
    "tags": []
   },
   "outputs": [],
   "source": [
    "#X_test = pd.read_csv(\"./data/X_test.csv\")\n",
    "#y_true = pd.read_csv(\"./data/y_test.csv\")"
   ]
  },
  {
   "cell_type": "code",
   "execution_count": 13,
   "id": "98a8d0fa-1d3d-4ed8-bb2c-281470e24add",
   "metadata": {
    "execution": {
     "iopub.execute_input": "2025-07-30T14:23:06.218712Z",
     "iopub.status.busy": "2025-07-30T14:23:06.218103Z",
     "iopub.status.idle": "2025-07-30T14:23:06.223358Z",
     "shell.execute_reply": "2025-07-30T14:23:06.222455Z"
    },
    "papermill": {
     "duration": 0.030957,
     "end_time": "2025-07-30T14:23:06.225141",
     "exception": false,
     "start_time": "2025-07-30T14:23:06.194184",
     "status": "completed"
    },
    "tags": []
   },
   "outputs": [],
   "source": [
    "# Calibration data for conformal\n",
    "#X_calib = pd.read_csv(\"./data/X_calib.csv\")\n",
    "#y_calib = pd.read_csv(\"./data/y_calib.csv\")"
   ]
  },
  {
   "cell_type": "markdown",
   "id": "997051c5-15bd-4b69-9786-c3001a3ce484",
   "metadata": {
    "papermill": {
     "duration": 0.022944,
     "end_time": "2025-07-30T14:23:06.270713",
     "exception": false,
     "start_time": "2025-07-30T14:23:06.247769",
     "status": "completed"
    },
    "tags": []
   },
   "source": [
    "# Splitting Data and Setting Training Data Size"
   ]
  },
  {
   "cell_type": "code",
   "execution_count": 14,
   "id": "e993b61f-042d-41a6-8c81-f55681f86335",
   "metadata": {
    "execution": {
     "iopub.execute_input": "2025-07-30T14:23:06.317185Z",
     "iopub.status.busy": "2025-07-30T14:23:06.316677Z",
     "iopub.status.idle": "2025-07-30T14:23:06.330412Z",
     "shell.execute_reply": "2025-07-30T14:23:06.329417Z"
    },
    "papermill": {
     "duration": 0.039204,
     "end_time": "2025-07-30T14:23:06.332222",
     "exception": false,
     "start_time": "2025-07-30T14:23:06.293018",
     "status": "completed"
    },
    "tags": []
   },
   "outputs": [],
   "source": [
    "def sample_by_year_size(df,\n",
    "                        training_year: str,\n",
    "                        training_size: str,\n",
    "                        random_state: int = 42):\n",
    "    # --- parse training_year into a list of int years ---\n",
    "    if \"_\" in training_year:\n",
    "        start_str, end_str = training_year.split(\"_\", 1)\n",
    "        start = int(start_str)\n",
    "        end   = int(end_str) if len(end_str) == 4 else (int(end_str) + (start // 100)*100)\n",
    "        years = list(range(start, end + 1))\n",
    "    else:\n",
    "        years = [int(training_year)]\n",
    "\n",
    "    df = df[df[\"year\"].isin(years)].reset_index(drop=True)\n",
    "\n",
    "    # --- map training_size to total number of samples ---\n",
    "    total_map = {\"25k\": 25_000, \"5k\": 5_000, \"1k\": 1_000}\n",
    "    if training_size not in total_map:\n",
    "        return df  # e.g. \"all\"\n",
    "\n",
    "    total_samples = total_map[training_size]\n",
    "    n_years       = len(years)\n",
    "    base          = total_samples // n_years\n",
    "    remainder     = total_samples % n_years\n",
    "\n",
    "    # --- build a dict: year -> how many to sample ---\n",
    "    # give +1 to the first `remainder` years in ascending order\n",
    "    quotas = {\n",
    "        year: base + (1 if idx < remainder else 0)\n",
    "        for idx, year in enumerate(sorted(years))\n",
    "    }\n",
    "\n",
    "    # --- sample per‐year according to the quota dict ---\n",
    "    sampled = (\n",
    "        df\n",
    "        .groupby(\"year\", group_keys=False)\n",
    "        .apply(lambda grp: grp.sample(\n",
    "            n=min(len(grp), quotas[grp.name]),\n",
    "            random_state=random_state))\n",
    "        .reset_index(drop=True)\n",
    "    )\n",
    "\n",
    "    return sampled"
   ]
  },
  {
   "cell_type": "code",
   "execution_count": 15,
   "id": "c0ccd338-0e02-41f3-a09d-f56f9266e3fb",
   "metadata": {
    "execution": {
     "iopub.execute_input": "2025-07-30T14:23:06.382336Z",
     "iopub.status.busy": "2025-07-30T14:23:06.381881Z",
     "iopub.status.idle": "2025-07-30T14:23:06.392866Z",
     "shell.execute_reply": "2025-07-30T14:23:06.391769Z"
    },
    "papermill": {
     "duration": 0.037863,
     "end_time": "2025-07-30T14:23:06.394557",
     "exception": false,
     "start_time": "2025-07-30T14:23:06.356694",
     "status": "completed"
    },
    "tags": []
   },
   "outputs": [
    {
     "data": {
      "text/plain": [
       "'1k'"
      ]
     },
     "execution_count": 15,
     "metadata": {},
     "output_type": "execute_result"
    }
   ],
   "source": [
    "universe[\"training_size\"]"
   ]
  },
  {
   "cell_type": "code",
   "execution_count": 16,
   "id": "ca707fd7-8047-4acd-bfa5-66248fbbf8e6",
   "metadata": {
    "execution": {
     "iopub.execute_input": "2025-07-30T14:23:06.444124Z",
     "iopub.status.busy": "2025-07-30T14:23:06.443379Z",
     "iopub.status.idle": "2025-07-30T14:23:06.451116Z",
     "shell.execute_reply": "2025-07-30T14:23:06.450144Z"
    },
    "papermill": {
     "duration": 0.034404,
     "end_time": "2025-07-30T14:23:06.452920",
     "exception": false,
     "start_time": "2025-07-30T14:23:06.418516",
     "status": "completed"
    },
    "tags": []
   },
   "outputs": [
    {
     "data": {
      "text/plain": [
       "'2014'"
      ]
     },
     "execution_count": 16,
     "metadata": {},
     "output_type": "execute_result"
    }
   ],
   "source": [
    "universe[\"training_year\"]"
   ]
  },
  {
   "cell_type": "code",
   "execution_count": 17,
   "id": "aea9c6ef-6f46-42c8-85eb-5a62025c1508",
   "metadata": {
    "execution": {
     "iopub.execute_input": "2025-07-30T14:23:06.502734Z",
     "iopub.status.busy": "2025-07-30T14:23:06.501685Z",
     "iopub.status.idle": "2025-07-30T14:23:06.682967Z",
     "shell.execute_reply": "2025-07-30T14:23:06.681985Z"
    },
    "papermill": {
     "duration": 0.207744,
     "end_time": "2025-07-30T14:23:06.685043",
     "exception": false,
     "start_time": "2025-07-30T14:23:06.477299",
     "status": "completed"
    },
    "tags": []
   },
   "outputs": [],
   "source": [
    "siab_train = sample_by_year_size(siab,\n",
    "                               training_year=universe[\"training_year\"],\n",
    "                               training_size=universe[\"training_size\"])"
   ]
  },
  {
   "cell_type": "code",
   "execution_count": 18,
   "id": "8d3afb32-789d-442c-8d5d-9f5aa8dd2eed",
   "metadata": {
    "execution": {
     "iopub.execute_input": "2025-07-30T14:23:06.733663Z",
     "iopub.status.busy": "2025-07-30T14:23:06.732792Z",
     "iopub.status.idle": "2025-07-30T14:23:06.739898Z",
     "shell.execute_reply": "2025-07-30T14:23:06.738973Z"
    },
    "papermill": {
     "duration": 0.031746,
     "end_time": "2025-07-30T14:23:06.741696",
     "exception": false,
     "start_time": "2025-07-30T14:23:06.709950",
     "status": "completed"
    },
    "tags": []
   },
   "outputs": [
    {
     "data": {
      "text/plain": [
       "(1000, 164)"
      ]
     },
     "execution_count": 18,
     "metadata": {},
     "output_type": "execute_result"
    }
   ],
   "source": [
    "siab_train.shape"
   ]
  },
  {
   "cell_type": "code",
   "execution_count": 19,
   "id": "d582db68-1a4c-47fb-84fc-08518dc1975a",
   "metadata": {
    "execution": {
     "iopub.execute_input": "2025-07-30T14:23:06.777793Z",
     "iopub.status.busy": "2025-07-30T14:23:06.777470Z",
     "iopub.status.idle": "2025-07-30T14:23:06.785223Z",
     "shell.execute_reply": "2025-07-30T14:23:06.784536Z"
    },
    "papermill": {
     "duration": 0.022772,
     "end_time": "2025-07-30T14:23:06.786430",
     "exception": false,
     "start_time": "2025-07-30T14:23:06.763658",
     "status": "completed"
    },
    "tags": []
   },
   "outputs": [
    {
     "data": {
      "text/plain": [
       "year\n",
       "2014    1000\n",
       "dtype: int64"
      ]
     },
     "metadata": {},
     "output_type": "display_data"
    }
   ],
   "source": [
    "display(siab_train.groupby(\"year\").size())"
   ]
  },
  {
   "cell_type": "code",
   "execution_count": 20,
   "id": "a561edb4-d032-42cb-8256-22eac1111c64",
   "metadata": {
    "execution": {
     "iopub.execute_input": "2025-07-30T14:23:06.809863Z",
     "iopub.status.busy": "2025-07-30T14:23:06.809363Z",
     "iopub.status.idle": "2025-07-30T14:23:06.986992Z",
     "shell.execute_reply": "2025-07-30T14:23:06.986226Z"
    },
    "papermill": {
     "duration": 0.190703,
     "end_time": "2025-07-30T14:23:06.988504",
     "exception": false,
     "start_time": "2025-07-30T14:23:06.797801",
     "status": "completed"
    },
    "tags": []
   },
   "outputs": [],
   "source": [
    "#siab_train = siab_s[siab_s.year < 2015]\n",
    "siab_calib = siab[siab.year == 2015]\n",
    "siab_test = siab[siab.year == 2016]"
   ]
  },
  {
   "cell_type": "code",
   "execution_count": 21,
   "id": "472de16f-c3db-4916-846b-1f0de9cf1746",
   "metadata": {
    "execution": {
     "iopub.execute_input": "2025-07-30T14:23:07.012260Z",
     "iopub.status.busy": "2025-07-30T14:23:07.011951Z",
     "iopub.status.idle": "2025-07-30T14:23:07.017298Z",
     "shell.execute_reply": "2025-07-30T14:23:07.016528Z"
    },
    "papermill": {
     "duration": 0.018387,
     "end_time": "2025-07-30T14:23:07.018579",
     "exception": false,
     "start_time": "2025-07-30T14:23:07.000192",
     "status": "completed"
    },
    "tags": []
   },
   "outputs": [],
   "source": [
    "X_train = siab_train.iloc[:,4:164]\n",
    "y_train = siab_train.iloc[:, [3]]"
   ]
  },
  {
   "cell_type": "code",
   "execution_count": 22,
   "id": "828c96af-f43a-4ed6-ba47-8ac73a47d56c",
   "metadata": {
    "execution": {
     "iopub.execute_input": "2025-07-30T14:23:07.042795Z",
     "iopub.status.busy": "2025-07-30T14:23:07.042514Z",
     "iopub.status.idle": "2025-07-30T14:23:07.094821Z",
     "shell.execute_reply": "2025-07-30T14:23:07.093805Z"
    },
    "papermill": {
     "duration": 0.06667,
     "end_time": "2025-07-30T14:23:07.096715",
     "exception": false,
     "start_time": "2025-07-30T14:23:07.030045",
     "status": "completed"
    },
    "tags": []
   },
   "outputs": [],
   "source": [
    "X_calib = siab_calib.iloc[:,4:164]\n",
    "y_calib = siab_calib.iloc[:, [3]]"
   ]
  },
  {
   "cell_type": "code",
   "execution_count": 23,
   "id": "c34be9c3-6bd6-476e-acd3-845840e303be",
   "metadata": {
    "execution": {
     "iopub.execute_input": "2025-07-30T14:23:07.142995Z",
     "iopub.status.busy": "2025-07-30T14:23:07.142480Z",
     "iopub.status.idle": "2025-07-30T14:23:07.195995Z",
     "shell.execute_reply": "2025-07-30T14:23:07.194979Z"
    },
    "papermill": {
     "duration": 0.079153,
     "end_time": "2025-07-30T14:23:07.197671",
     "exception": false,
     "start_time": "2025-07-30T14:23:07.118518",
     "status": "completed"
    },
    "tags": []
   },
   "outputs": [],
   "source": [
    "X_test = siab_test.iloc[:,4:164]\n",
    "y_true = siab_test.iloc[:, [3]]"
   ]
  },
  {
   "cell_type": "markdown",
   "id": "9901737e-04df-44f0-9100-f5ad144ed040",
   "metadata": {
    "papermill": {
     "duration": 0.025192,
     "end_time": "2025-07-30T14:23:07.244892",
     "exception": false,
     "start_time": "2025-07-30T14:23:07.219700",
     "status": "completed"
    },
    "tags": []
   },
   "source": [
    "# Splitting Data and Setting Training Data Size OLD VERSION"
   ]
  },
  {
   "cell_type": "code",
   "execution_count": 24,
   "id": "acbc8f7d-8fc8-4e86-8c59-5dcb0f58384b",
   "metadata": {
    "execution": {
     "iopub.execute_input": "2025-07-30T14:23:07.290025Z",
     "iopub.status.busy": "2025-07-30T14:23:07.289201Z",
     "iopub.status.idle": "2025-07-30T14:23:07.295254Z",
     "shell.execute_reply": "2025-07-30T14:23:07.294398Z"
    },
    "papermill": {
     "duration": 0.030016,
     "end_time": "2025-07-30T14:23:07.296977",
     "exception": false,
     "start_time": "2025-07-30T14:23:07.266961",
     "status": "completed"
    },
    "tags": []
   },
   "outputs": [],
   "source": [
    "#def sample_by_year(df, training_size, random_state=42):\n",
    "#    if training_size == \"2014\":\n",
    "#        return df[df[\"year\"] == 2014].reset_index(drop=True)\n",
    "#    \n",
    "#    size_map = {\n",
    "#        \"25k\": 5000,\n",
    "#        \"5k\": 1000,\n",
    "#        \"1k\": 200\n",
    "#    }\n",
    "#\n",
    "#    if training_size not in size_map:\n",
    "#        return df.reset_index(drop=True)  # use all data\n",
    "#\n",
    "#    n_per_year = size_map[training_size]\n",
    "#    grouped = df.groupby(\"year\")\n",
    "#    sampled = grouped.apply(lambda x: x.sample(n=min(n_per_year, len(x)), random_state=random_state))\n",
    "#    return sampled.reset_index(drop=True)"
   ]
  },
  {
   "cell_type": "code",
   "execution_count": 25,
   "id": "6d931f52-beaf-43ff-9e78-9d44a448d54e",
   "metadata": {
    "execution": {
     "iopub.execute_input": "2025-07-30T14:23:07.343982Z",
     "iopub.status.busy": "2025-07-30T14:23:07.343518Z",
     "iopub.status.idle": "2025-07-30T14:23:07.348542Z",
     "shell.execute_reply": "2025-07-30T14:23:07.347635Z"
    },
    "papermill": {
     "duration": 0.028926,
     "end_time": "2025-07-30T14:23:07.350021",
     "exception": false,
     "start_time": "2025-07-30T14:23:07.321095",
     "status": "completed"
    },
    "tags": []
   },
   "outputs": [],
   "source": [
    "#siab_s = sample_by_year(siab, universe[\"training_size\"])"
   ]
  },
  {
   "cell_type": "code",
   "execution_count": 26,
   "id": "5db0a40e-a4e2-4920-be85-b12ae061d70d",
   "metadata": {
    "execution": {
     "iopub.execute_input": "2025-07-30T14:23:07.398422Z",
     "iopub.status.busy": "2025-07-30T14:23:07.397909Z",
     "iopub.status.idle": "2025-07-30T14:23:07.402877Z",
     "shell.execute_reply": "2025-07-30T14:23:07.401983Z"
    },
    "papermill": {
     "duration": 0.030789,
     "end_time": "2025-07-30T14:23:07.404610",
     "exception": false,
     "start_time": "2025-07-30T14:23:07.373821",
     "status": "completed"
    },
    "tags": []
   },
   "outputs": [],
   "source": [
    "#display(siab_s.groupby(\"year\").size())"
   ]
  },
  {
   "cell_type": "code",
   "execution_count": 27,
   "id": "e6c733c5",
   "metadata": {
    "execution": {
     "iopub.execute_input": "2025-07-30T14:23:07.452297Z",
     "iopub.status.busy": "2025-07-30T14:23:07.451808Z",
     "iopub.status.idle": "2025-07-30T14:23:07.550032Z",
     "shell.execute_reply": "2025-07-30T14:23:07.549288Z"
    },
    "papermill": {
     "duration": 0.125059,
     "end_time": "2025-07-30T14:23:07.551842",
     "exception": false,
     "start_time": "2025-07-30T14:23:07.426783",
     "status": "completed"
    },
    "tags": []
   },
   "outputs": [],
   "source": [
    "# Auxiliary data needed downstream in the pipeline\n",
    "\n",
    "org_train = X_train.copy()\n",
    "org_test = X_test.copy()\n",
    "org_calib = X_calib.copy()"
   ]
  },
  {
   "cell_type": "code",
   "execution_count": 28,
   "id": "1466abac-c6da-4492-a62f-4240ae3783af",
   "metadata": {
    "execution": {
     "iopub.execute_input": "2025-07-30T14:23:07.601654Z",
     "iopub.status.busy": "2025-07-30T14:23:07.601125Z",
     "iopub.status.idle": "2025-07-30T14:23:07.607614Z",
     "shell.execute_reply": "2025-07-30T14:23:07.606751Z"
    },
    "papermill": {
     "duration": 0.033241,
     "end_time": "2025-07-30T14:23:07.609250",
     "exception": false,
     "start_time": "2025-07-30T14:23:07.576009",
     "status": "completed"
    },
    "tags": []
   },
   "outputs": [],
   "source": [
    "# put in other script?\n",
    "# Group sizes\n",
    "\n",
    "#def calculate_percentages(df, df_name):\n",
    "#    total_entries = len(df)\n",
    "#\n",
    "#    female_pct = (df['frau1'] == 1).mean() * 100\n",
    "#    non_german_pct = ((df['maxdeutsch1'] == 0) & (df['maxdeutsch.Missing.'] == 0)).mean() * 100\n",
    "#    non_german_male_pct = ((df['frau1'] == 0) & (df['maxdeutsch1'] == 0) & (df['maxdeutsch.Missing.'] == 0)).mean() * 100\n",
    "#    non_german_female_pct = ((df['frau1'] == 1) & (df['maxdeutsch1'] == 0) & (df['maxdeutsch.Missing.'] == 0)).mean() * 100\n",
    "#\n",
    "#    print(f\"--- {df_name} ---\")\n",
    "#    print(f\"Female: {female_pct:.2f}%\")\n",
    "#    print(f\"Non-German: {non_german_pct:.2f}%\")\n",
    "#    print(f\"Non-German Male: {non_german_male_pct:.2f}%\")\n",
    "#    print(f\"Non-German Female: {non_german_female_pct:.2f}%\\n\")\n",
    "#\n",
    "## Calculate for each DataFrame\n",
    "#calculate_percentages(siab_calib, \"siab_calib\")\n",
    "#calculate_percentages(siab_test, \"siab_test\")\n",
    "#calculate_percentages(siab_train, \"siab_train\")"
   ]
  },
  {
   "cell_type": "markdown",
   "id": "0a4a1b33",
   "metadata": {
    "papermill": {
     "duration": 0.023952,
     "end_time": "2025-07-30T14:23:07.655708",
     "exception": false,
     "start_time": "2025-07-30T14:23:07.631756",
     "status": "completed"
    },
    "tags": []
   },
   "source": [
    "# Preprocessing Data"
   ]
  },
  {
   "cell_type": "code",
   "execution_count": 29,
   "id": "ca879031",
   "metadata": {
    "execution": {
     "iopub.execute_input": "2025-07-30T14:23:07.701241Z",
     "iopub.status.busy": "2025-07-30T14:23:07.700748Z",
     "iopub.status.idle": "2025-07-30T14:23:07.716280Z",
     "shell.execute_reply": "2025-07-30T14:23:07.715278Z"
    },
    "papermill": {
     "duration": 0.040145,
     "end_time": "2025-07-30T14:23:07.717855",
     "exception": false,
     "start_time": "2025-07-30T14:23:07.677710",
     "status": "completed"
    },
    "tags": []
   },
   "outputs": [],
   "source": [
    "# EXCLUDE PROTECTED FEATURES\n",
    "# ----------------------\n",
    "# \"exclude_features\": \"none\", # \"nationality\", \"sex\", \"nationality-sex\"\n",
    "\n",
    "excluded_features = universe[\"exclude_features\"].split(\"-\") # split, e.g.: \"nationality-sex\" -> [\"nationality\", \"sex\"]\n",
    "excluded_features_dictionary = {\n",
    "    \"nationality\": [\"maxdeutsch1\", \"maxdeutsch.Missing.\"],\n",
    "    \"sex\": [\"frau1\"],\n",
    "    \"age\": [\"age\"],\n",
    "}\n"
   ]
  },
  {
   "cell_type": "code",
   "execution_count": 30,
   "id": "b745ac60",
   "metadata": {
    "execution": {
     "iopub.execute_input": "2025-07-30T14:23:07.765739Z",
     "iopub.status.busy": "2025-07-30T14:23:07.765201Z",
     "iopub.status.idle": "2025-07-30T14:23:07.771349Z",
     "shell.execute_reply": "2025-07-30T14:23:07.770322Z"
    },
    "papermill": {
     "duration": 0.031525,
     "end_time": "2025-07-30T14:23:07.773123",
     "exception": false,
     "start_time": "2025-07-30T14:23:07.741598",
     "status": "completed"
    },
    "tags": []
   },
   "outputs": [],
   "source": [
    "# Code nice names to column names\n",
    "\n",
    "excluded_features_columns = [\n",
    "    excluded_features_dictionary[f] for f in excluded_features if len(f) > 0 and f != \"none\"\n",
    "]"
   ]
  },
  {
   "cell_type": "code",
   "execution_count": 31,
   "id": "f84f73a2",
   "metadata": {
    "execution": {
     "iopub.execute_input": "2025-07-30T14:23:07.825774Z",
     "iopub.status.busy": "2025-07-30T14:23:07.825228Z",
     "iopub.status.idle": "2025-07-30T14:23:07.832505Z",
     "shell.execute_reply": "2025-07-30T14:23:07.831403Z"
    },
    "papermill": {
     "duration": 0.037816,
     "end_time": "2025-07-30T14:23:07.834594",
     "exception": false,
     "start_time": "2025-07-30T14:23:07.796778",
     "status": "completed"
    },
    "tags": []
   },
   "outputs": [],
   "source": [
    "from utils import flatten_once\n",
    "\n",
    "excluded_features_columns = flatten_once(excluded_features_columns)"
   ]
  },
  {
   "cell_type": "code",
   "execution_count": 32,
   "id": "884dea22",
   "metadata": {
    "execution": {
     "iopub.execute_input": "2025-07-30T14:23:07.893539Z",
     "iopub.status.busy": "2025-07-30T14:23:07.893000Z",
     "iopub.status.idle": "2025-07-30T14:23:07.899537Z",
     "shell.execute_reply": "2025-07-30T14:23:07.898539Z"
    },
    "papermill": {
     "duration": 0.038184,
     "end_time": "2025-07-30T14:23:07.901690",
     "exception": false,
     "start_time": "2025-07-30T14:23:07.863506",
     "status": "completed"
    },
    "tags": []
   },
   "outputs": [],
   "source": [
    "if len(excluded_features_columns) > 0:\n",
    "    print(f\"Dropping features: {excluded_features_columns}\")\n",
    "    X_train.drop(excluded_features_columns, axis=1, inplace=True)"
   ]
  },
  {
   "cell_type": "code",
   "execution_count": 33,
   "id": "95ab8b16",
   "metadata": {
    "execution": {
     "iopub.execute_input": "2025-07-30T14:23:07.960336Z",
     "iopub.status.busy": "2025-07-30T14:23:07.959804Z",
     "iopub.status.idle": "2025-07-30T14:23:07.966255Z",
     "shell.execute_reply": "2025-07-30T14:23:07.965165Z"
    },
    "papermill": {
     "duration": 0.038161,
     "end_time": "2025-07-30T14:23:07.968162",
     "exception": false,
     "start_time": "2025-07-30T14:23:07.930001",
     "status": "completed"
    },
    "tags": []
   },
   "outputs": [],
   "source": [
    "if len(excluded_features_columns) > 0:\n",
    "    print(f\"Dropping features: {excluded_features_columns}\")\n",
    "    X_test.drop(excluded_features_columns, axis=1, inplace=True)"
   ]
  },
  {
   "cell_type": "code",
   "execution_count": 34,
   "id": "1853aaf5-fb9f-46cb-a2b5-8ea4ae2237e4",
   "metadata": {
    "execution": {
     "iopub.execute_input": "2025-07-30T14:23:08.027195Z",
     "iopub.status.busy": "2025-07-30T14:23:08.026454Z",
     "iopub.status.idle": "2025-07-30T14:23:08.033461Z",
     "shell.execute_reply": "2025-07-30T14:23:08.032326Z"
    },
    "papermill": {
     "duration": 0.038429,
     "end_time": "2025-07-30T14:23:08.035194",
     "exception": false,
     "start_time": "2025-07-30T14:23:07.996765",
     "status": "completed"
    },
    "tags": []
   },
   "outputs": [],
   "source": [
    "if len(excluded_features_columns) > 0:\n",
    "    print(f\"Dropping features: {excluded_features_columns}\")\n",
    "    X_calib.drop(excluded_features_columns, axis=1, inplace=True)"
   ]
  },
  {
   "cell_type": "code",
   "execution_count": 35,
   "id": "6727d079-03e5-481e-9d38-292a90b7a0a8",
   "metadata": {
    "execution": {
     "iopub.execute_input": "2025-07-30T14:23:08.088699Z",
     "iopub.status.busy": "2025-07-30T14:23:08.087709Z",
     "iopub.status.idle": "2025-07-30T14:23:08.093253Z",
     "shell.execute_reply": "2025-07-30T14:23:08.092269Z"
    },
    "papermill": {
     "duration": 0.034195,
     "end_time": "2025-07-30T14:23:08.095224",
     "exception": false,
     "start_time": "2025-07-30T14:23:08.061029",
     "status": "completed"
    },
    "tags": []
   },
   "outputs": [],
   "source": [
    "# SPLIT & STRATIFY DATA\n",
    "# ----------------------"
   ]
  },
  {
   "cell_type": "code",
   "execution_count": 36,
   "id": "76c4dc6d",
   "metadata": {
    "execution": {
     "iopub.execute_input": "2025-07-30T14:23:08.154979Z",
     "iopub.status.busy": "2025-07-30T14:23:08.154232Z",
     "iopub.status.idle": "2025-07-30T14:23:08.160300Z",
     "shell.execute_reply": "2025-07-30T14:23:08.159217Z"
    },
    "papermill": {
     "duration": 0.038234,
     "end_time": "2025-07-30T14:23:08.162210",
     "exception": false,
     "start_time": "2025-07-30T14:23:08.123976",
     "status": "completed"
    },
    "tags": []
   },
   "outputs": [],
   "source": [
    "# EXCLUDE CERTAIN SUBGROUPS\n",
    "# ----------------------\n",
    "\n",
    "mode = universe.get(\"exclude_subgroups\", \"keep-all\") \n",
    "# Fetches the exclude_subgroups setting from the universe dict.\n",
    "# Defaults to \"keep-all\" if the key is missing."
   ]
  },
  {
   "cell_type": "code",
   "execution_count": 37,
   "id": "21994072",
   "metadata": {
    "execution": {
     "iopub.execute_input": "2025-07-30T14:23:08.221605Z",
     "iopub.status.busy": "2025-07-30T14:23:08.220858Z",
     "iopub.status.idle": "2025-07-30T14:23:08.229149Z",
     "shell.execute_reply": "2025-07-30T14:23:08.227984Z"
    },
    "papermill": {
     "duration": 0.039914,
     "end_time": "2025-07-30T14:23:08.230871",
     "exception": false,
     "start_time": "2025-07-30T14:23:08.190957",
     "status": "completed"
    },
    "tags": []
   },
   "outputs": [],
   "source": [
    "if mode == \"keep-all\":\n",
    "    keep_mask = pd.Series(True, index=org_train.index)\n",
    "\n",
    "# org_train contains the original feature columns from features_org (in Simson)\n",
    "# features_org contains unprocessed features, for me X_train at beginning ???\n",
    "# For keep-all, creates a boolean Series (keep_mask) of all True, so no rows are removed.\n",
    "\n",
    "elif mode == \"drop-non-german\":\n",
    "    keep_mask = org_train[\"maxdeutsch1\"] == 1 # ??? what about missing values?\n",
    "\n",
    "else:\n",
    "    raise ValueError(f\"Unsupported mode for exclude_subgroups: {mode}\")\n"
   ]
  },
  {
   "cell_type": "code",
   "execution_count": 38,
   "id": "71651440",
   "metadata": {
    "execution": {
     "iopub.execute_input": "2025-07-30T14:23:08.285482Z",
     "iopub.status.busy": "2025-07-30T14:23:08.284708Z",
     "iopub.status.idle": "2025-07-30T14:23:08.294166Z",
     "shell.execute_reply": "2025-07-30T14:23:08.293113Z"
    },
    "papermill": {
     "duration": 0.038484,
     "end_time": "2025-07-30T14:23:08.296221",
     "exception": false,
     "start_time": "2025-07-30T14:23:08.257737",
     "status": "completed"
    },
    "tags": []
   },
   "outputs": [
    {
     "name": "stdout",
     "output_type": "stream",
     "text": [
      "Dropping 147 rows (14.70%) where mode='drop-non-german'\n"
     ]
    }
   ],
   "source": [
    "n_drop = (~keep_mask).sum() # Calculates how many rows are set to be dropped\n",
    "if n_drop > 0:\n",
    "    pct = n_drop / len(keep_mask) * 100\n",
    "    print(f\"Dropping {n_drop} rows ({pct:.2f}%) where mode='{mode}'\")"
   ]
  },
  {
   "cell_type": "code",
   "execution_count": 39,
   "id": "5fb8eee5",
   "metadata": {
    "execution": {
     "iopub.execute_input": "2025-07-30T14:23:08.350350Z",
     "iopub.status.busy": "2025-07-30T14:23:08.349564Z",
     "iopub.status.idle": "2025-07-30T14:23:08.357227Z",
     "shell.execute_reply": "2025-07-30T14:23:08.356243Z"
    },
    "papermill": {
     "duration": 0.036593,
     "end_time": "2025-07-30T14:23:08.358999",
     "exception": false,
     "start_time": "2025-07-30T14:23:08.322406",
     "status": "completed"
    },
    "tags": []
   },
   "outputs": [],
   "source": [
    "X_train = X_train[keep_mask]"
   ]
  },
  {
   "cell_type": "code",
   "execution_count": 40,
   "id": "b202bb3a",
   "metadata": {
    "execution": {
     "iopub.execute_input": "2025-07-30T14:23:08.413802Z",
     "iopub.status.busy": "2025-07-30T14:23:08.412691Z",
     "iopub.status.idle": "2025-07-30T14:23:08.419252Z",
     "shell.execute_reply": "2025-07-30T14:23:08.418200Z"
    },
    "papermill": {
     "duration": 0.036641,
     "end_time": "2025-07-30T14:23:08.421784",
     "exception": false,
     "start_time": "2025-07-30T14:23:08.385143",
     "status": "completed"
    },
    "tags": []
   },
   "outputs": [],
   "source": [
    "y_train = y_train[keep_mask]"
   ]
  },
  {
   "cell_type": "markdown",
   "id": "493e2ac3",
   "metadata": {
    "papermill": {
     "duration": 0.03433,
     "end_time": "2025-07-30T14:23:08.488634",
     "exception": false,
     "start_time": "2025-07-30T14:23:08.454304",
     "status": "completed"
    },
    "tags": []
   },
   "source": [
    "# Model Training"
   ]
  },
  {
   "cell_type": "code",
   "execution_count": 41,
   "id": "679e1268",
   "metadata": {
    "execution": {
     "iopub.execute_input": "2025-07-30T14:23:08.560053Z",
     "iopub.status.busy": "2025-07-30T14:23:08.559503Z",
     "iopub.status.idle": "2025-07-30T14:23:08.670880Z",
     "shell.execute_reply": "2025-07-30T14:23:08.669683Z"
    },
    "papermill": {
     "duration": 0.151788,
     "end_time": "2025-07-30T14:23:08.675443",
     "exception": false,
     "start_time": "2025-07-30T14:23:08.523655",
     "status": "completed"
    },
    "tags": []
   },
   "outputs": [],
   "source": [
    "from sklearn.linear_model import LogisticRegression\n",
    "from sklearn.ensemble import GradientBoostingClassifier, RandomForestClassifier\n",
    "\n",
    "if (universe[\"model\"] == \"logreg\"):\n",
    "    model = LogisticRegression() #penalty=\"none\") #, solver=\"newton-cg\", max_iter=1) # include random_state=19 ?\n",
    "elif (universe[\"model\"] == \"penalized_logreg\"):\n",
    "    model = LogisticRegression(penalty=\"l2\", C=1.0) #, solver=\"newton-cg\", max_iter=1)\n",
    "elif (universe[\"model\"] == \"rf\"):\n",
    "    model = RandomForestClassifier(n_estimators=100, n_jobs=-1)\n",
    "elif (universe[\"model\"] == \"gbm\"):\n",
    "    model = GradientBoostingClassifier()\n",
    "elif (universe[\"model\"] == \"elasticnet\"):\n",
    "    model = LogisticRegression(penalty = 'elasticnet', solver = 'saga', l1_ratio = 0.5, max_iter=5000) # which solver to use?\n",
    "else:\n",
    "    raise \"Unsupported universe.model\""
   ]
  },
  {
   "cell_type": "code",
   "execution_count": 42,
   "id": "0cc8f744",
   "metadata": {
    "execution": {
     "iopub.execute_input": "2025-07-30T14:23:08.747163Z",
     "iopub.status.busy": "2025-07-30T14:23:08.746018Z",
     "iopub.status.idle": "2025-07-30T14:23:08.753743Z",
     "shell.execute_reply": "2025-07-30T14:23:08.752605Z"
    },
    "papermill": {
     "duration": 0.04557,
     "end_time": "2025-07-30T14:23:08.755917",
     "exception": false,
     "start_time": "2025-07-30T14:23:08.710347",
     "status": "completed"
    },
    "tags": []
   },
   "outputs": [],
   "source": [
    "import numpy as np\n",
    "from sklearn.pipeline import Pipeline\n",
    "from sklearn.preprocessing import StandardScaler\n",
    "\n",
    "model = Pipeline([\n",
    "    #(\"continuous_processor\", continuous_processor),\n",
    "    #(\"categorical_preprocessor\", categorical_preprocessor),\n",
    "    (\"scale\", StandardScaler() if universe[\"scale\"] == \"scale\" else None), \n",
    "    (\"model\", model),\n",
    "])"
   ]
  },
  {
   "cell_type": "code",
   "execution_count": 43,
   "id": "9442c04d",
   "metadata": {
    "execution": {
     "iopub.execute_input": "2025-07-30T14:23:08.824477Z",
     "iopub.status.busy": "2025-07-30T14:23:08.823922Z",
     "iopub.status.idle": "2025-07-30T14:23:10.667462Z",
     "shell.execute_reply": "2025-07-30T14:23:10.666313Z"
    },
    "papermill": {
     "duration": 1.878154,
     "end_time": "2025-07-30T14:23:10.668667",
     "exception": false,
     "start_time": "2025-07-30T14:23:08.790513",
     "status": "completed"
    },
    "tags": []
   },
   "outputs": [
    {
     "data": {
      "text/html": [
       "<style>#sk-container-id-1 {color: black;background-color: white;}#sk-container-id-1 pre{padding: 0;}#sk-container-id-1 div.sk-toggleable {background-color: white;}#sk-container-id-1 label.sk-toggleable__label {cursor: pointer;display: block;width: 100%;margin-bottom: 0;padding: 0.3em;box-sizing: border-box;text-align: center;}#sk-container-id-1 label.sk-toggleable__label-arrow:before {content: \"▸\";float: left;margin-right: 0.25em;color: #696969;}#sk-container-id-1 label.sk-toggleable__label-arrow:hover:before {color: black;}#sk-container-id-1 div.sk-estimator:hover label.sk-toggleable__label-arrow:before {color: black;}#sk-container-id-1 div.sk-toggleable__content {max-height: 0;max-width: 0;overflow: hidden;text-align: left;background-color: #f0f8ff;}#sk-container-id-1 div.sk-toggleable__content pre {margin: 0.2em;color: black;border-radius: 0.25em;background-color: #f0f8ff;}#sk-container-id-1 input.sk-toggleable__control:checked~div.sk-toggleable__content {max-height: 200px;max-width: 100%;overflow: auto;}#sk-container-id-1 input.sk-toggleable__control:checked~label.sk-toggleable__label-arrow:before {content: \"▾\";}#sk-container-id-1 div.sk-estimator input.sk-toggleable__control:checked~label.sk-toggleable__label {background-color: #d4ebff;}#sk-container-id-1 div.sk-label input.sk-toggleable__control:checked~label.sk-toggleable__label {background-color: #d4ebff;}#sk-container-id-1 input.sk-hidden--visually {border: 0;clip: rect(1px 1px 1px 1px);clip: rect(1px, 1px, 1px, 1px);height: 1px;margin: -1px;overflow: hidden;padding: 0;position: absolute;width: 1px;}#sk-container-id-1 div.sk-estimator {font-family: monospace;background-color: #f0f8ff;border: 1px dotted black;border-radius: 0.25em;box-sizing: border-box;margin-bottom: 0.5em;}#sk-container-id-1 div.sk-estimator:hover {background-color: #d4ebff;}#sk-container-id-1 div.sk-parallel-item::after {content: \"\";width: 100%;border-bottom: 1px solid gray;flex-grow: 1;}#sk-container-id-1 div.sk-label:hover label.sk-toggleable__label {background-color: #d4ebff;}#sk-container-id-1 div.sk-serial::before {content: \"\";position: absolute;border-left: 1px solid gray;box-sizing: border-box;top: 0;bottom: 0;left: 50%;z-index: 0;}#sk-container-id-1 div.sk-serial {display: flex;flex-direction: column;align-items: center;background-color: white;padding-right: 0.2em;padding-left: 0.2em;position: relative;}#sk-container-id-1 div.sk-item {position: relative;z-index: 1;}#sk-container-id-1 div.sk-parallel {display: flex;align-items: stretch;justify-content: center;background-color: white;position: relative;}#sk-container-id-1 div.sk-item::before, #sk-container-id-1 div.sk-parallel-item::before {content: \"\";position: absolute;border-left: 1px solid gray;box-sizing: border-box;top: 0;bottom: 0;left: 50%;z-index: -1;}#sk-container-id-1 div.sk-parallel-item {display: flex;flex-direction: column;z-index: 1;position: relative;background-color: white;}#sk-container-id-1 div.sk-parallel-item:first-child::after {align-self: flex-end;width: 50%;}#sk-container-id-1 div.sk-parallel-item:last-child::after {align-self: flex-start;width: 50%;}#sk-container-id-1 div.sk-parallel-item:only-child::after {width: 0;}#sk-container-id-1 div.sk-dashed-wrapped {border: 1px dashed gray;margin: 0 0.4em 0.5em 0.4em;box-sizing: border-box;padding-bottom: 0.4em;background-color: white;}#sk-container-id-1 div.sk-label label {font-family: monospace;font-weight: bold;display: inline-block;line-height: 1.2em;}#sk-container-id-1 div.sk-label-container {text-align: center;}#sk-container-id-1 div.sk-container {/* jupyter's `normalize.less` sets `[hidden] { display: none; }` but bootstrap.min.css set `[hidden] { display: none !important; }` so we also need the `!important` here to be able to override the default hidden behavior on the sphinx rendered scikit-learn.org. See: https://github.com/scikit-learn/scikit-learn/issues/21755 */display: inline-block !important;position: relative;}#sk-container-id-1 div.sk-text-repr-fallback {display: none;}</style><div id=\"sk-container-id-1\" class=\"sk-top-container\"><div class=\"sk-text-repr-fallback\"><pre>Pipeline(steps=[(&#x27;scale&#x27;, StandardScaler()),\n",
       "                (&#x27;model&#x27;,\n",
       "                 LogisticRegression(l1_ratio=0.5, max_iter=5000,\n",
       "                                    penalty=&#x27;elasticnet&#x27;, solver=&#x27;saga&#x27;))])</pre><b>In a Jupyter environment, please rerun this cell to show the HTML representation or trust the notebook. <br />On GitHub, the HTML representation is unable to render, please try loading this page with nbviewer.org.</b></div><div class=\"sk-container\" hidden><div class=\"sk-item sk-dashed-wrapped\"><div class=\"sk-label-container\"><div class=\"sk-label sk-toggleable\"><input class=\"sk-toggleable__control sk-hidden--visually\" id=\"sk-estimator-id-1\" type=\"checkbox\" ><label for=\"sk-estimator-id-1\" class=\"sk-toggleable__label sk-toggleable__label-arrow\">Pipeline</label><div class=\"sk-toggleable__content\"><pre>Pipeline(steps=[(&#x27;scale&#x27;, StandardScaler()),\n",
       "                (&#x27;model&#x27;,\n",
       "                 LogisticRegression(l1_ratio=0.5, max_iter=5000,\n",
       "                                    penalty=&#x27;elasticnet&#x27;, solver=&#x27;saga&#x27;))])</pre></div></div></div><div class=\"sk-serial\"><div class=\"sk-item\"><div class=\"sk-estimator sk-toggleable\"><input class=\"sk-toggleable__control sk-hidden--visually\" id=\"sk-estimator-id-2\" type=\"checkbox\" ><label for=\"sk-estimator-id-2\" class=\"sk-toggleable__label sk-toggleable__label-arrow\">StandardScaler</label><div class=\"sk-toggleable__content\"><pre>StandardScaler()</pre></div></div></div><div class=\"sk-item\"><div class=\"sk-estimator sk-toggleable\"><input class=\"sk-toggleable__control sk-hidden--visually\" id=\"sk-estimator-id-3\" type=\"checkbox\" ><label for=\"sk-estimator-id-3\" class=\"sk-toggleable__label sk-toggleable__label-arrow\">LogisticRegression</label><div class=\"sk-toggleable__content\"><pre>LogisticRegression(l1_ratio=0.5, max_iter=5000, penalty=&#x27;elasticnet&#x27;,\n",
       "                   solver=&#x27;saga&#x27;)</pre></div></div></div></div></div></div></div>"
      ],
      "text/plain": [
       "Pipeline(steps=[('scale', StandardScaler()),\n",
       "                ('model',\n",
       "                 LogisticRegression(l1_ratio=0.5, max_iter=5000,\n",
       "                                    penalty='elasticnet', solver='saga'))])"
      ]
     },
     "execution_count": 43,
     "metadata": {},
     "output_type": "execute_result"
    }
   ],
   "source": [
    "model.fit(X_train, y_train.values.ravel())"
   ]
  },
  {
   "cell_type": "code",
   "execution_count": 44,
   "id": "af59f8c0",
   "metadata": {
    "execution": {
     "iopub.execute_input": "2025-07-30T14:23:10.716855Z",
     "iopub.status.busy": "2025-07-30T14:23:10.716322Z",
     "iopub.status.idle": "2025-07-30T14:23:10.722130Z",
     "shell.execute_reply": "2025-07-30T14:23:10.720959Z"
    },
    "papermill": {
     "duration": 0.034126,
     "end_time": "2025-07-30T14:23:10.723865",
     "exception": false,
     "start_time": "2025-07-30T14:23:10.689739",
     "status": "completed"
    },
    "tags": []
   },
   "outputs": [],
   "source": [
    "from fairness_multiverse.universe import predict_w_threshold"
   ]
  },
  {
   "cell_type": "code",
   "execution_count": 45,
   "id": "a7cf2e16",
   "metadata": {
    "execution": {
     "iopub.execute_input": "2025-07-30T14:23:10.797534Z",
     "iopub.status.busy": "2025-07-30T14:23:10.796989Z",
     "iopub.status.idle": "2025-07-30T14:23:11.002314Z",
     "shell.execute_reply": "2025-07-30T14:23:11.001363Z"
    },
    "papermill": {
     "duration": 0.244277,
     "end_time": "2025-07-30T14:23:11.004342",
     "exception": false,
     "start_time": "2025-07-30T14:23:10.760065",
     "status": "completed"
    },
    "tags": []
   },
   "outputs": [
    {
     "data": {
      "text/plain": [
       "0.8131869356816408"
      ]
     },
     "execution_count": 45,
     "metadata": {},
     "output_type": "execute_result"
    }
   ],
   "source": [
    "probs_test = model.predict_proba(X_test)\n",
    "\n",
    "'''\n",
    "Below code returns a boolean array (or binary 0/1 array depending on how it’s used) where each element \n",
    "is True if the probability of class 1 is greater than or equal to the threshold, and False otherwise.\n",
    "'''\n",
    "y_pred_default = predict_w_threshold(probs_test, 0.5)\n",
    "\n",
    "from sklearn.metrics import accuracy_score\n",
    "\n",
    "# Naive prediction\n",
    "accuracy_score(y_true = y_true, y_pred = y_pred_default)"
   ]
  },
  {
   "cell_type": "code",
   "execution_count": 46,
   "id": "081964c3",
   "metadata": {
    "execution": {
     "iopub.execute_input": "2025-07-30T14:23:11.057064Z",
     "iopub.status.busy": "2025-07-30T14:23:11.055915Z",
     "iopub.status.idle": "2025-07-30T14:23:11.297707Z",
     "shell.execute_reply": "2025-07-30T14:23:11.295593Z"
    },
    "papermill": {
     "duration": 0.270099,
     "end_time": "2025-07-30T14:23:11.299451",
     "exception": false,
     "start_time": "2025-07-30T14:23:11.029352",
     "status": "completed"
    },
    "tags": []
   },
   "outputs": [
    {
     "data": {
      "text/plain": [
       "array([0, 0, 0, ..., 0, 0, 0])"
      ]
     },
     "execution_count": 46,
     "metadata": {},
     "output_type": "execute_result"
    }
   ],
   "source": [
    "model.predict(X_test)"
   ]
  },
  {
   "cell_type": "markdown",
   "id": "56c9705b",
   "metadata": {
    "papermill": {
     "duration": 0.012761,
     "end_time": "2025-07-30T14:23:11.327145",
     "exception": false,
     "start_time": "2025-07-30T14:23:11.314384",
     "status": "completed"
    },
    "tags": []
   },
   "source": [
    "# Conformal Prediction"
   ]
  },
  {
   "cell_type": "code",
   "execution_count": 47,
   "id": "160ec6ff",
   "metadata": {
    "execution": {
     "iopub.execute_input": "2025-07-30T14:23:11.358508Z",
     "iopub.status.busy": "2025-07-30T14:23:11.358135Z",
     "iopub.status.idle": "2025-07-30T14:23:11.362479Z",
     "shell.execute_reply": "2025-07-30T14:23:11.361744Z"
    },
    "papermill": {
     "duration": 0.023557,
     "end_time": "2025-07-30T14:23:11.364128",
     "exception": false,
     "start_time": "2025-07-30T14:23:11.340571",
     "status": "completed"
    },
    "tags": []
   },
   "outputs": [],
   "source": [
    "# Miscoverage level for conformal prediction (10% allowed error rate => 90% target coverage)\n",
    "alpha = 0.1"
   ]
  },
  {
   "cell_type": "code",
   "execution_count": 48,
   "id": "eadf4555-3dd3-440e-8e35-f82a4ad9f855",
   "metadata": {
    "execution": {
     "iopub.execute_input": "2025-07-30T14:23:11.392725Z",
     "iopub.status.busy": "2025-07-30T14:23:11.392286Z",
     "iopub.status.idle": "2025-07-30T14:23:11.568852Z",
     "shell.execute_reply": "2025-07-30T14:23:11.567786Z"
    },
    "papermill": {
     "duration": 0.192141,
     "end_time": "2025-07-30T14:23:11.570440",
     "exception": false,
     "start_time": "2025-07-30T14:23:11.378299",
     "status": "completed"
    },
    "tags": []
   },
   "outputs": [],
   "source": [
    "probs_calib = model.predict_proba(X_calib)"
   ]
  },
  {
   "cell_type": "code",
   "execution_count": 49,
   "id": "2ed93547-6d5d-4983-9b36-1ecb300da49a",
   "metadata": {
    "execution": {
     "iopub.execute_input": "2025-07-30T14:23:11.613010Z",
     "iopub.status.busy": "2025-07-30T14:23:11.612396Z",
     "iopub.status.idle": "2025-07-30T14:23:11.618304Z",
     "shell.execute_reply": "2025-07-30T14:23:11.617229Z"
    },
    "papermill": {
     "duration": 0.03078,
     "end_time": "2025-07-30T14:23:11.619934",
     "exception": false,
     "start_time": "2025-07-30T14:23:11.589154",
     "status": "completed"
    },
    "tags": []
   },
   "outputs": [],
   "source": [
    "y_calib = y_calib.values.ravel().astype(int)"
   ]
  },
  {
   "cell_type": "code",
   "execution_count": 50,
   "id": "65d1320d-f588-4b38-9072-62af1ae97f7d",
   "metadata": {
    "execution": {
     "iopub.execute_input": "2025-07-30T14:23:11.659372Z",
     "iopub.status.busy": "2025-07-30T14:23:11.659046Z",
     "iopub.status.idle": "2025-07-30T14:23:11.667728Z",
     "shell.execute_reply": "2025-07-30T14:23:11.666641Z"
    },
    "papermill": {
     "duration": 0.024477,
     "end_time": "2025-07-30T14:23:11.669912",
     "exception": false,
     "start_time": "2025-07-30T14:23:11.645435",
     "status": "completed"
    },
    "tags": []
   },
   "outputs": [],
   "source": [
    "from fairness_multiverse.conformal import compute_nc_scores\n",
    "\n",
    "# Compute nonconformity scores on calibration set (1 - probability of true class)\n",
    "nc_scores = compute_nc_scores(probs_calib, y_calib)"
   ]
  },
  {
   "cell_type": "code",
   "execution_count": 51,
   "id": "df3b8ca3-53b7-43d5-9667-7c85da7aeda2",
   "metadata": {
    "execution": {
     "iopub.execute_input": "2025-07-30T14:23:11.722353Z",
     "iopub.status.busy": "2025-07-30T14:23:11.721793Z",
     "iopub.status.idle": "2025-07-30T14:23:11.729455Z",
     "shell.execute_reply": "2025-07-30T14:23:11.728246Z"
    },
    "papermill": {
     "duration": 0.034749,
     "end_time": "2025-07-30T14:23:11.731325",
     "exception": false,
     "start_time": "2025-07-30T14:23:11.696576",
     "status": "completed"
    },
    "tags": []
   },
   "outputs": [],
   "source": [
    "from fairness_multiverse.conformal import find_threshold\n",
    "\n",
    "# Find conformal threshold q_hat for the given alpha (split conformal method)\n",
    "q_hat = find_threshold(nc_scores, alpha)"
   ]
  },
  {
   "cell_type": "code",
   "execution_count": 52,
   "id": "4d29e6c1-0ef6-4aa4-b8fe-4fe79b0d033a",
   "metadata": {
    "execution": {
     "iopub.execute_input": "2025-07-30T14:23:11.853384Z",
     "iopub.status.busy": "2025-07-30T14:23:11.852897Z",
     "iopub.status.idle": "2025-07-30T14:23:11.859953Z",
     "shell.execute_reply": "2025-07-30T14:23:11.858826Z"
    },
    "papermill": {
     "duration": 0.115242,
     "end_time": "2025-07-30T14:23:11.873468",
     "exception": false,
     "start_time": "2025-07-30T14:23:11.758226",
     "status": "completed"
    },
    "tags": []
   },
   "outputs": [
    {
     "data": {
      "text/plain": [
       "0.826187373110332"
      ]
     },
     "execution_count": 52,
     "metadata": {},
     "output_type": "execute_result"
    }
   ],
   "source": [
    "q_hat"
   ]
  },
  {
   "cell_type": "code",
   "execution_count": 53,
   "id": "92460794-cdac-4be2-ba28-f28c0515a6fb",
   "metadata": {
    "execution": {
     "iopub.execute_input": "2025-07-30T14:23:11.932876Z",
     "iopub.status.busy": "2025-07-30T14:23:11.932411Z",
     "iopub.status.idle": "2025-07-30T14:23:12.756295Z",
     "shell.execute_reply": "2025-07-30T14:23:12.753359Z"
    },
    "papermill": {
     "duration": 0.855082,
     "end_time": "2025-07-30T14:23:12.758313",
     "exception": false,
     "start_time": "2025-07-30T14:23:11.903231",
     "status": "completed"
    },
    "tags": []
   },
   "outputs": [],
   "source": [
    "from fairness_multiverse.conformal import predict_conformal_sets\n",
    "\n",
    "# Generate prediction sets for each test example\n",
    "pred_sets = predict_conformal_sets(model, X_test, q_hat)"
   ]
  },
  {
   "cell_type": "code",
   "execution_count": 54,
   "id": "d90c9a65-e6db-4f5d-80cd-e68fb7e46829",
   "metadata": {
    "execution": {
     "iopub.execute_input": "2025-07-30T14:23:12.819965Z",
     "iopub.status.busy": "2025-07-30T14:23:12.819025Z",
     "iopub.status.idle": "2025-07-30T14:23:12.825081Z",
     "shell.execute_reply": "2025-07-30T14:23:12.823873Z"
    },
    "papermill": {
     "duration": 0.037347,
     "end_time": "2025-07-30T14:23:12.826825",
     "exception": false,
     "start_time": "2025-07-30T14:23:12.789478",
     "status": "completed"
    },
    "tags": []
   },
   "outputs": [],
   "source": [
    "y_true = y_true.squeeze()"
   ]
  },
  {
   "cell_type": "code",
   "execution_count": 55,
   "id": "3a58a54a-1e68-46b9-927a-df01f18aebc8",
   "metadata": {
    "execution": {
     "iopub.execute_input": "2025-07-30T14:23:12.885658Z",
     "iopub.status.busy": "2025-07-30T14:23:12.885124Z",
     "iopub.status.idle": "2025-07-30T14:23:13.859575Z",
     "shell.execute_reply": "2025-07-30T14:23:13.858628Z"
    },
    "papermill": {
     "duration": 1.005826,
     "end_time": "2025-07-30T14:23:13.861092",
     "exception": false,
     "start_time": "2025-07-30T14:23:12.855266",
     "status": "completed"
    },
    "tags": []
   },
   "outputs": [],
   "source": [
    "from fairness_multiverse.conformal import evaluate_sets\n",
    "\n",
    "# Evaluate coverage and average set size on test data\n",
    "metrics = evaluate_sets(pred_sets, y_true)"
   ]
  },
  {
   "cell_type": "markdown",
   "id": "2b569c12-9aaa-4c88-98c9-bbcd0cf3ebb8",
   "metadata": {
    "papermill": {
     "duration": 0.016489,
     "end_time": "2025-07-30T14:23:13.901680",
     "exception": false,
     "start_time": "2025-07-30T14:23:13.885191",
     "status": "completed"
    },
    "tags": []
   },
   "source": [
    "# CP Metrics"
   ]
  },
  {
   "cell_type": "code",
   "execution_count": 56,
   "id": "5ce0a5cb-201f-45a0-ade5-94c7f0bd6095",
   "metadata": {
    "execution": {
     "iopub.execute_input": "2025-07-30T14:23:13.930087Z",
     "iopub.status.busy": "2025-07-30T14:23:13.929568Z",
     "iopub.status.idle": "2025-07-30T14:23:13.937141Z",
     "shell.execute_reply": "2025-07-30T14:23:13.936456Z"
    },
    "papermill": {
     "duration": 0.023601,
     "end_time": "2025-07-30T14:23:13.938405",
     "exception": false,
     "start_time": "2025-07-30T14:23:13.914804",
     "status": "completed"
    },
    "tags": []
   },
   "outputs": [
    {
     "data": {
      "text/plain": [
       "{'coverage': 0.9079032437855311, 'avg_size': 1.2544197971240665}"
      ]
     },
     "execution_count": 56,
     "metadata": {},
     "output_type": "execute_result"
    }
   ],
   "source": [
    "metrics"
   ]
  },
  {
   "cell_type": "code",
   "execution_count": 57,
   "id": "9b9a838d-31c9-430b-ae14-12baee460d17",
   "metadata": {
    "execution": {
     "iopub.execute_input": "2025-07-30T14:23:13.968270Z",
     "iopub.status.busy": "2025-07-30T14:23:13.967766Z",
     "iopub.status.idle": "2025-07-30T14:23:13.972896Z",
     "shell.execute_reply": "2025-07-30T14:23:13.972104Z"
    },
    "papermill": {
     "duration": 0.019862,
     "end_time": "2025-07-30T14:23:13.974301",
     "exception": false,
     "start_time": "2025-07-30T14:23:13.954439",
     "status": "completed"
    },
    "tags": []
   },
   "outputs": [],
   "source": [
    "example_universe = universe.copy()\n",
    "universe_training_size = example_universe.get(\"training_size\")\n",
    "universe_scale = example_universe.get(\"scale\")\n",
    "universe_model = example_universe.get(\"model\")\n",
    "universe_exclude_features = example_universe.get(\"exclude_features\")\n",
    "universe_exclude_subgroups = example_universe.get(\"exclude_subgroups\")"
   ]
  },
  {
   "cell_type": "code",
   "execution_count": 58,
   "id": "f4b6a8ac-9dc0-4245-8a91-5b3b5999c4f9",
   "metadata": {
    "execution": {
     "iopub.execute_input": "2025-07-30T14:23:14.001768Z",
     "iopub.status.busy": "2025-07-30T14:23:14.001367Z",
     "iopub.status.idle": "2025-07-30T14:23:14.005886Z",
     "shell.execute_reply": "2025-07-30T14:23:14.005196Z"
    },
    "papermill": {
     "duration": 0.019165,
     "end_time": "2025-07-30T14:23:14.007286",
     "exception": false,
     "start_time": "2025-07-30T14:23:13.988121",
     "status": "completed"
    },
    "tags": []
   },
   "outputs": [],
   "source": [
    "cp_metrics_dict = {\n",
    "    \"universe_id\": [universe_id],\n",
    "    \"universe_training_size\": [universe_training_size],\n",
    "    \"universe_scale\": [universe_scale],\n",
    "    \"universe_model\": [universe_model],\n",
    "    \"universe_exclude_features\": [universe_exclude_features],\n",
    "    \"universe_exclude_subgroups\": [universe_exclude_subgroups],\n",
    "    \"q_hat\": [q_hat],\n",
    "    \"coverage\": [metrics[\"coverage\"]],\n",
    "    \"avg_size\": [metrics[\"avg_size\"]],\n",
    "}"
   ]
  },
  {
   "cell_type": "code",
   "execution_count": 59,
   "id": "908acbb1-0371-4915-85ca-3fa520d2efe2",
   "metadata": {
    "execution": {
     "iopub.execute_input": "2025-07-30T14:23:14.035076Z",
     "iopub.status.busy": "2025-07-30T14:23:14.034496Z",
     "iopub.status.idle": "2025-07-30T14:23:14.040506Z",
     "shell.execute_reply": "2025-07-30T14:23:14.039777Z"
    },
    "papermill": {
     "duration": 0.021113,
     "end_time": "2025-07-30T14:23:14.041983",
     "exception": false,
     "start_time": "2025-07-30T14:23:14.020870",
     "status": "completed"
    },
    "tags": []
   },
   "outputs": [
    {
     "data": {
      "text/plain": [
       "{'universe_id': ['5b1db7df375210c31947652f9cf20c6d'],\n",
       " 'universe_training_size': ['1k'],\n",
       " 'universe_scale': ['scale'],\n",
       " 'universe_model': ['elasticnet'],\n",
       " 'universe_exclude_features': ['none'],\n",
       " 'universe_exclude_subgroups': ['drop-non-german'],\n",
       " 'q_hat': [0.826187373110332],\n",
       " 'coverage': [0.9079032437855311],\n",
       " 'avg_size': [1.2544197971240665]}"
      ]
     },
     "execution_count": 59,
     "metadata": {},
     "output_type": "execute_result"
    }
   ],
   "source": [
    "cp_metrics_dict"
   ]
  },
  {
   "cell_type": "code",
   "execution_count": 60,
   "id": "33007efc-14e9-4ec6-97ac-56a455c82265",
   "metadata": {
    "execution": {
     "iopub.execute_input": "2025-07-30T14:23:14.069149Z",
     "iopub.status.busy": "2025-07-30T14:23:14.068651Z",
     "iopub.status.idle": "2025-07-30T14:23:14.073435Z",
     "shell.execute_reply": "2025-07-30T14:23:14.072715Z"
    },
    "papermill": {
     "duration": 0.019353,
     "end_time": "2025-07-30T14:23:14.074716",
     "exception": false,
     "start_time": "2025-07-30T14:23:14.055363",
     "status": "completed"
    },
    "tags": []
   },
   "outputs": [],
   "source": [
    "cp_metrics_df = pd.DataFrame(cp_metrics_dict)"
   ]
  },
  {
   "cell_type": "code",
   "execution_count": 61,
   "id": "db12611b-57b2-4910-b9d0-355adfd6e7bf",
   "metadata": {
    "execution": {
     "iopub.execute_input": "2025-07-30T14:23:14.103000Z",
     "iopub.status.busy": "2025-07-30T14:23:14.102508Z",
     "iopub.status.idle": "2025-07-30T14:23:14.115860Z",
     "shell.execute_reply": "2025-07-30T14:23:14.115147Z"
    },
    "papermill": {
     "duration": 0.028395,
     "end_time": "2025-07-30T14:23:14.117340",
     "exception": false,
     "start_time": "2025-07-30T14:23:14.088945",
     "status": "completed"
    },
    "tags": []
   },
   "outputs": [
    {
     "data": {
      "text/html": [
       "<div>\n",
       "<style scoped>\n",
       "    .dataframe tbody tr th:only-of-type {\n",
       "        vertical-align: middle;\n",
       "    }\n",
       "\n",
       "    .dataframe tbody tr th {\n",
       "        vertical-align: top;\n",
       "    }\n",
       "\n",
       "    .dataframe thead th {\n",
       "        text-align: right;\n",
       "    }\n",
       "</style>\n",
       "<table border=\"1\" class=\"dataframe\">\n",
       "  <thead>\n",
       "    <tr style=\"text-align: right;\">\n",
       "      <th></th>\n",
       "      <th>universe_id</th>\n",
       "      <th>universe_training_size</th>\n",
       "      <th>universe_scale</th>\n",
       "      <th>universe_model</th>\n",
       "      <th>universe_exclude_features</th>\n",
       "      <th>universe_exclude_subgroups</th>\n",
       "      <th>q_hat</th>\n",
       "      <th>coverage</th>\n",
       "      <th>avg_size</th>\n",
       "    </tr>\n",
       "  </thead>\n",
       "  <tbody>\n",
       "    <tr>\n",
       "      <th>0</th>\n",
       "      <td>5b1db7df375210c31947652f9cf20c6d</td>\n",
       "      <td>1k</td>\n",
       "      <td>scale</td>\n",
       "      <td>elasticnet</td>\n",
       "      <td>none</td>\n",
       "      <td>drop-non-german</td>\n",
       "      <td>0.826187</td>\n",
       "      <td>0.907903</td>\n",
       "      <td>1.25442</td>\n",
       "    </tr>\n",
       "  </tbody>\n",
       "</table>\n",
       "</div>"
      ],
      "text/plain": [
       "                        universe_id universe_training_size universe_scale  \\\n",
       "0  5b1db7df375210c31947652f9cf20c6d                     1k          scale   \n",
       "\n",
       "  universe_model universe_exclude_features universe_exclude_subgroups  \\\n",
       "0     elasticnet                      none            drop-non-german   \n",
       "\n",
       "      q_hat  coverage  avg_size  \n",
       "0  0.826187  0.907903   1.25442  "
      ]
     },
     "execution_count": 61,
     "metadata": {},
     "output_type": "execute_result"
    }
   ],
   "source": [
    "cp_metrics_df"
   ]
  },
  {
   "cell_type": "code",
   "execution_count": 62,
   "id": "b7fbde55-a0a1-47e4-9af6-fe4a17fa8c61",
   "metadata": {
    "execution": {
     "iopub.execute_input": "2025-07-30T14:23:14.145243Z",
     "iopub.status.busy": "2025-07-30T14:23:14.144627Z",
     "iopub.status.idle": "2025-07-30T14:23:14.148951Z",
     "shell.execute_reply": "2025-07-30T14:23:14.148117Z"
    },
    "papermill": {
     "duration": 0.019385,
     "end_time": "2025-07-30T14:23:14.150199",
     "exception": false,
     "start_time": "2025-07-30T14:23:14.130814",
     "status": "completed"
    },
    "tags": []
   },
   "outputs": [],
   "source": [
    "# Conditional Coverage & looking at subgroups"
   ]
  },
  {
   "cell_type": "code",
   "execution_count": 63,
   "id": "027ae886-68dd-4141-96c7-805a5450e1ef",
   "metadata": {
    "execution": {
     "iopub.execute_input": "2025-07-30T14:23:14.178800Z",
     "iopub.status.busy": "2025-07-30T14:23:14.178308Z",
     "iopub.status.idle": "2025-07-30T14:23:14.350310Z",
     "shell.execute_reply": "2025-07-30T14:23:14.349576Z"
    },
    "papermill": {
     "duration": 0.18753,
     "end_time": "2025-07-30T14:23:14.351766",
     "exception": false,
     "start_time": "2025-07-30T14:23:14.164236",
     "status": "completed"
    },
    "tags": []
   },
   "outputs": [],
   "source": [
    "from fairness_multiverse.conformal import build_cp_groups\n",
    "\n",
    "cp_groups_df = build_cp_groups(pred_sets, y_true, X_test.index, org_test)\n",
    "#needs universe_id and setting"
   ]
  },
  {
   "cell_type": "code",
   "execution_count": 64,
   "id": "01d5802c-663a-4d1f-9d69-e036faaffbf7",
   "metadata": {
    "execution": {
     "iopub.execute_input": "2025-07-30T14:23:14.380221Z",
     "iopub.status.busy": "2025-07-30T14:23:14.379549Z",
     "iopub.status.idle": "2025-07-30T14:23:14.383782Z",
     "shell.execute_reply": "2025-07-30T14:23:14.383107Z"
    },
    "papermill": {
     "duration": 0.019415,
     "end_time": "2025-07-30T14:23:14.385150",
     "exception": false,
     "start_time": "2025-07-30T14:23:14.365735",
     "status": "completed"
    },
    "tags": []
   },
   "outputs": [],
   "source": [
    "#delete\n",
    "#cp_groups_df"
   ]
  },
  {
   "cell_type": "code",
   "execution_count": 65,
   "id": "fa424af1-d1eb-443d-b717-2d279ada8408",
   "metadata": {
    "execution": {
     "iopub.execute_input": "2025-07-30T14:23:14.413134Z",
     "iopub.status.busy": "2025-07-30T14:23:14.412780Z",
     "iopub.status.idle": "2025-07-30T14:23:14.416661Z",
     "shell.execute_reply": "2025-07-30T14:23:14.415865Z"
    },
    "papermill": {
     "duration": 0.018875,
     "end_time": "2025-07-30T14:23:14.418073",
     "exception": false,
     "start_time": "2025-07-30T14:23:14.399198",
     "status": "completed"
    },
    "tags": []
   },
   "outputs": [],
   "source": [
    "#delete\n",
    "#percentage = (cp_groups_df['nongerman_female'] == 1).mean() * 100\n",
    "#print(percentage)\n"
   ]
  },
  {
   "cell_type": "code",
   "execution_count": 66,
   "id": "6cbdab96-b2b2-45af-ad54-d0516db2e28d",
   "metadata": {
    "execution": {
     "iopub.execute_input": "2025-07-30T14:23:14.447504Z",
     "iopub.status.busy": "2025-07-30T14:23:14.446860Z",
     "iopub.status.idle": "2025-07-30T14:23:15.726012Z",
     "shell.execute_reply": "2025-07-30T14:23:15.725267Z"
    },
    "papermill": {
     "duration": 1.294703,
     "end_time": "2025-07-30T14:23:15.727478",
     "exception": false,
     "start_time": "2025-07-30T14:23:14.432775",
     "status": "completed"
    },
    "tags": []
   },
   "outputs": [],
   "source": [
    "# Define covered = 1 if true_label is in the predicted set\n",
    "cp_groups_df['covered'] = cp_groups_df.apply(\n",
    "    lambda r: int(r['true_label'] in r['pred_set']),\n",
    "    axis=1\n",
    ")"
   ]
  },
  {
   "cell_type": "code",
   "execution_count": 67,
   "id": "338ff529-1a6b-4b87-a931-8e4788d52aad",
   "metadata": {
    "execution": {
     "iopub.execute_input": "2025-07-30T14:23:15.757761Z",
     "iopub.status.busy": "2025-07-30T14:23:15.757262Z",
     "iopub.status.idle": "2025-07-30T14:23:15.761649Z",
     "shell.execute_reply": "2025-07-30T14:23:15.760868Z"
    },
    "papermill": {
     "duration": 0.021244,
     "end_time": "2025-07-30T14:23:15.762959",
     "exception": false,
     "start_time": "2025-07-30T14:23:15.741715",
     "status": "completed"
    },
    "tags": []
   },
   "outputs": [],
   "source": [
    "#cp_groups_df"
   ]
  },
  {
   "cell_type": "code",
   "execution_count": 68,
   "id": "90032e27-66df-4540-9169-4e89cfbaa758",
   "metadata": {
    "execution": {
     "iopub.execute_input": "2025-07-30T14:23:15.793681Z",
     "iopub.status.busy": "2025-07-30T14:23:15.793122Z",
     "iopub.status.idle": "2025-07-30T14:23:15.802766Z",
     "shell.execute_reply": "2025-07-30T14:23:15.801795Z"
    },
    "papermill": {
     "duration": 0.026021,
     "end_time": "2025-07-30T14:23:15.804285",
     "exception": false,
     "start_time": "2025-07-30T14:23:15.778264",
     "status": "completed"
    },
    "tags": []
   },
   "outputs": [],
   "source": [
    "subgroups = ['frau1','nongerman','nongerman_male','nongerman_female']\n",
    "\n",
    "# Conditional coverage for subgroup==1\n",
    "cond_coverage = {\n",
    "    g: cp_groups_df.loc[cp_groups_df[g]==1, 'covered'].mean()\n",
    "    for g in subgroups\n",
    "}"
   ]
  },
  {
   "cell_type": "code",
   "execution_count": 69,
   "id": "1e348fb1-b9c3-45bc-ba23-f016827a7e0d",
   "metadata": {
    "execution": {
     "iopub.execute_input": "2025-07-30T14:23:15.835141Z",
     "iopub.status.busy": "2025-07-30T14:23:15.834629Z",
     "iopub.status.idle": "2025-07-30T14:23:15.841279Z",
     "shell.execute_reply": "2025-07-30T14:23:15.840503Z"
    },
    "papermill": {
     "duration": 0.023444,
     "end_time": "2025-07-30T14:23:15.842766",
     "exception": false,
     "start_time": "2025-07-30T14:23:15.819322",
     "status": "completed"
    },
    "tags": []
   },
   "outputs": [
    {
     "data": {
      "text/plain": [
       "{'frau1': 0.9045154333468123,\n",
       " 'nongerman': 0.9072587436142143,\n",
       " 'nongerman_male': 0.9260560208952535,\n",
       " 'nongerman_female': 0.8761549925484352}"
      ]
     },
     "execution_count": 69,
     "metadata": {},
     "output_type": "execute_result"
    }
   ],
   "source": [
    "cond_coverage"
   ]
  },
  {
   "cell_type": "code",
   "execution_count": 70,
   "id": "f5093324-c3dd-4d63-bc4c-8d945e5c8bbb",
   "metadata": {
    "execution": {
     "iopub.execute_input": "2025-07-30T14:23:15.885635Z",
     "iopub.status.busy": "2025-07-30T14:23:15.884804Z",
     "iopub.status.idle": "2025-07-30T14:23:15.892003Z",
     "shell.execute_reply": "2025-07-30T14:23:15.891011Z"
    },
    "papermill": {
     "duration": 0.03515,
     "end_time": "2025-07-30T14:23:15.893758",
     "exception": false,
     "start_time": "2025-07-30T14:23:15.858608",
     "status": "completed"
    },
    "tags": []
   },
   "outputs": [],
   "source": [
    "for subgroup, cov in cond_coverage.items():\n",
    "    cp_metrics_df[f\"cov_{subgroup}\"] = cov"
   ]
  },
  {
   "cell_type": "code",
   "execution_count": 71,
   "id": "6e872e10-dbe5-49e8-b554-5030c98ff75d",
   "metadata": {
    "execution": {
     "iopub.execute_input": "2025-07-30T14:23:15.946782Z",
     "iopub.status.busy": "2025-07-30T14:23:15.946292Z",
     "iopub.status.idle": "2025-07-30T14:23:15.964618Z",
     "shell.execute_reply": "2025-07-30T14:23:15.963528Z"
    },
    "papermill": {
     "duration": 0.046857,
     "end_time": "2025-07-30T14:23:15.966381",
     "exception": false,
     "start_time": "2025-07-30T14:23:15.919524",
     "status": "completed"
    },
    "tags": []
   },
   "outputs": [
    {
     "data": {
      "text/html": [
       "<div>\n",
       "<style scoped>\n",
       "    .dataframe tbody tr th:only-of-type {\n",
       "        vertical-align: middle;\n",
       "    }\n",
       "\n",
       "    .dataframe tbody tr th {\n",
       "        vertical-align: top;\n",
       "    }\n",
       "\n",
       "    .dataframe thead th {\n",
       "        text-align: right;\n",
       "    }\n",
       "</style>\n",
       "<table border=\"1\" class=\"dataframe\">\n",
       "  <thead>\n",
       "    <tr style=\"text-align: right;\">\n",
       "      <th></th>\n",
       "      <th>universe_id</th>\n",
       "      <th>universe_training_size</th>\n",
       "      <th>universe_scale</th>\n",
       "      <th>universe_model</th>\n",
       "      <th>universe_exclude_features</th>\n",
       "      <th>universe_exclude_subgroups</th>\n",
       "      <th>q_hat</th>\n",
       "      <th>coverage</th>\n",
       "      <th>avg_size</th>\n",
       "      <th>cov_frau1</th>\n",
       "      <th>cov_nongerman</th>\n",
       "      <th>cov_nongerman_male</th>\n",
       "      <th>cov_nongerman_female</th>\n",
       "    </tr>\n",
       "  </thead>\n",
       "  <tbody>\n",
       "    <tr>\n",
       "      <th>0</th>\n",
       "      <td>5b1db7df375210c31947652f9cf20c6d</td>\n",
       "      <td>1k</td>\n",
       "      <td>scale</td>\n",
       "      <td>elasticnet</td>\n",
       "      <td>none</td>\n",
       "      <td>drop-non-german</td>\n",
       "      <td>0.826187</td>\n",
       "      <td>0.907903</td>\n",
       "      <td>1.25442</td>\n",
       "      <td>0.904515</td>\n",
       "      <td>0.907259</td>\n",
       "      <td>0.926056</td>\n",
       "      <td>0.876155</td>\n",
       "    </tr>\n",
       "  </tbody>\n",
       "</table>\n",
       "</div>"
      ],
      "text/plain": [
       "                        universe_id universe_training_size universe_scale  \\\n",
       "0  5b1db7df375210c31947652f9cf20c6d                     1k          scale   \n",
       "\n",
       "  universe_model universe_exclude_features universe_exclude_subgroups  \\\n",
       "0     elasticnet                      none            drop-non-german   \n",
       "\n",
       "      q_hat  coverage  avg_size  cov_frau1  cov_nongerman  cov_nongerman_male  \\\n",
       "0  0.826187  0.907903   1.25442   0.904515       0.907259            0.926056   \n",
       "\n",
       "   cov_nongerman_female  \n",
       "0              0.876155  "
      ]
     },
     "execution_count": 71,
     "metadata": {},
     "output_type": "execute_result"
    }
   ],
   "source": [
    "cp_metrics_df"
   ]
  },
  {
   "cell_type": "markdown",
   "id": "33774451",
   "metadata": {
    "papermill": {
     "duration": 0.015304,
     "end_time": "2025-07-30T14:23:16.004948",
     "exception": false,
     "start_time": "2025-07-30T14:23:15.989644",
     "status": "completed"
    },
    "tags": []
   },
   "source": [
    "# (Fairness) Metrics"
   ]
  },
  {
   "cell_type": "code",
   "execution_count": 72,
   "id": "debc5d62",
   "metadata": {
    "execution": {
     "iopub.execute_input": "2025-07-30T14:23:16.034955Z",
     "iopub.status.busy": "2025-07-30T14:23:16.034604Z",
     "iopub.status.idle": "2025-07-30T14:23:16.049740Z",
     "shell.execute_reply": "2025-07-30T14:23:16.049004Z"
    },
    "papermill": {
     "duration": 0.031763,
     "end_time": "2025-07-30T14:23:16.051167",
     "exception": false,
     "start_time": "2025-07-30T14:23:16.019404",
     "status": "completed"
    },
    "tags": []
   },
   "outputs": [],
   "source": [
    "# do I need to include maxdeutsch1.missing?\n",
    "\n",
    "import numpy as np\n",
    "\n",
    "colname_to_bin = \"maxdeutsch1\"\n",
    "majority_value = org_train[colname_to_bin].mode()[0]\n",
    "\n",
    "org_test[\"majmin\"] = np.where(org_test[colname_to_bin] == majority_value, \"majority\", \"minority\")"
   ]
  },
  {
   "cell_type": "code",
   "execution_count": null,
   "id": "06a50de5",
   "metadata": {
    "papermill": {
     "duration": null,
     "end_time": null,
     "exception": false,
     "start_time": "2025-07-30T14:23:16.066148",
     "status": "running"
    },
    "tags": []
   },
   "outputs": [],
   "source": [
    "example_universe = universe.copy()\n",
    "example_universe[\"cutoff\"] = example_universe[\"cutoff\"][0]\n",
    "example_universe[\"eval_fairness_grouping\"] = example_universe[\"eval_fairness_grouping\"][0]\n",
    "fairness_dict, metric_frame = universe_analysis.compute_metrics(\n",
    "    example_universe,\n",
    "    y_pred_prob=probs_test,\n",
    "    y_test=y_true,\n",
    "    org_test=org_test,\n",
    ")"
   ]
  },
  {
   "cell_type": "markdown",
   "id": "f95d4e02",
   "metadata": {
    "papermill": {
     "duration": null,
     "end_time": null,
     "exception": null,
     "start_time": null,
     "status": "pending"
    },
    "tags": []
   },
   "source": [
    "# Overall"
   ]
  },
  {
   "cell_type": "markdown",
   "id": "bdee4871",
   "metadata": {
    "papermill": {
     "duration": null,
     "end_time": null,
     "exception": null,
     "start_time": null,
     "status": "pending"
    },
    "tags": []
   },
   "source": [
    "Fairness\n",
    "Main fairness target: Equalized Odds. Seems to be a better fit than equal opportunity, since we're not only interested in Y = 1. Seems to be a better fit than demographic parity, since we also care about accuracy, not just equal distribution of preds.\n",
    "\n",
    "Pick column for computation of fairness metrics\n",
    "\n",
    "Performance\n",
    "Overall performance measures, most interesting in relation to the measures split by group below"
   ]
  },
  {
   "cell_type": "code",
   "execution_count": null,
   "id": "c4e067c6",
   "metadata": {
    "papermill": {
     "duration": null,
     "end_time": null,
     "exception": null,
     "start_time": null,
     "status": "pending"
    },
    "tags": []
   },
   "outputs": [],
   "source": [
    "metric_frame.overall"
   ]
  },
  {
   "cell_type": "markdown",
   "id": "e968fe9d",
   "metadata": {
    "papermill": {
     "duration": null,
     "end_time": null,
     "exception": null,
     "start_time": null,
     "status": "pending"
    },
    "tags": []
   },
   "source": [
    "By Group"
   ]
  },
  {
   "cell_type": "code",
   "execution_count": null,
   "id": "ec325bce",
   "metadata": {
    "papermill": {
     "duration": null,
     "end_time": null,
     "exception": null,
     "start_time": null,
     "status": "pending"
    },
    "tags": []
   },
   "outputs": [],
   "source": [
    "metric_frame.by_group"
   ]
  },
  {
   "cell_type": "code",
   "execution_count": null,
   "id": "a9ddbe63",
   "metadata": {
    "papermill": {
     "duration": null,
     "end_time": null,
     "exception": null,
     "start_time": null,
     "status": "pending"
    },
    "tags": []
   },
   "outputs": [],
   "source": [
    "# In a graphic\n",
    "metric_frame.by_group.plot.bar(\n",
    "    subplots=True,\n",
    "    layout=[3, 3],\n",
    "    legend=False,\n",
    "    figsize=[12, 8],\n",
    "    title=\"Show all metrics\",\n",
    ")"
   ]
  },
  {
   "cell_type": "markdown",
   "id": "f57a0bac",
   "metadata": {
    "papermill": {
     "duration": null,
     "end_time": null,
     "exception": null,
     "start_time": null,
     "status": "pending"
    },
    "tags": []
   },
   "source": [
    "# Final Output"
   ]
  },
  {
   "cell_type": "code",
   "execution_count": null,
   "id": "96d280a3",
   "metadata": {
    "papermill": {
     "duration": null,
     "end_time": null,
     "exception": null,
     "start_time": null,
     "status": "pending"
    },
    "tags": []
   },
   "outputs": [],
   "source": [
    "sub_universes = universe_analysis.generate_sub_universes()\n",
    "len(sub_universes)"
   ]
  },
  {
   "cell_type": "code",
   "execution_count": null,
   "id": "92adf7ba",
   "metadata": {
    "papermill": {
     "duration": null,
     "end_time": null,
     "exception": null,
     "start_time": null,
     "status": "pending"
    },
    "tags": []
   },
   "outputs": [],
   "source": [
    "def filter_sub_universe_data(sub_universe, org_test):\n",
    "    # Keep all rows — no filtering\n",
    "    keep_rows_mask = np.ones(org_test.shape[0], dtype=bool)\n",
    "\n",
    "    print(f\"[INFO] Keeping all rows: {keep_rows_mask.sum()} rows retained.\")\n",
    "    return keep_rows_mask"
   ]
  },
  {
   "cell_type": "code",
   "execution_count": null,
   "id": "4a759155",
   "metadata": {
    "papermill": {
     "duration": null,
     "end_time": null,
     "exception": null,
     "start_time": null,
     "status": "pending"
    },
    "tags": []
   },
   "outputs": [],
   "source": [
    "final_output = universe_analysis.generate_final_output(\n",
    "    y_pred_prob=probs_test,\n",
    "    y_test=y_true,\n",
    "    org_test=org_test,\n",
    "    filter_data=filter_sub_universe_data,\n",
    "    cp_metrics_df=cp_metrics_df,\n",
    "    save=True,\n",
    ")\n",
    "final_output"
   ]
  },
  {
   "cell_type": "code",
   "execution_count": null,
   "id": "721ff514-cb11-46f8-b6fc-50392f74b5cb",
   "metadata": {
    "papermill": {
     "duration": null,
     "end_time": null,
     "exception": null,
     "start_time": null,
     "status": "pending"
    },
    "tags": []
   },
   "outputs": [],
   "source": []
  }
 ],
 "metadata": {
  "celltoolbar": "Tags",
  "kernelspec": {
   "display_name": "Python (CMA Fairness)",
   "language": "python",
   "name": "cma_fair_env"
  },
  "language_info": {
   "codemirror_mode": {
    "name": "ipython",
    "version": 3
   },
   "file_extension": ".py",
   "mimetype": "text/x-python",
   "name": "python",
   "nbconvert_exporter": "python",
   "pygments_lexer": "ipython3",
   "version": "3.10.12"
  },
  "papermill": {
   "default_parameters": {},
   "duration": null,
   "end_time": null,
   "environment_variables": {},
   "exception": null,
   "input_path": "universe_analysis.ipynb",
   "output_path": "output/runs/12/notebooks/m_12-5b1db7df375210c31947652f9cf20c6d.ipynb",
   "parameters": {
    "output_dir": "output",
    "run_no": "12",
    "seed": "2023",
    "universe": "{\"cutoff\": [\"quantile_0.1\", \"quantile_0.25\"], \"eval_fairness_grouping\": [\"majority-minority\", \"nationality-all\"], \"exclude_features\": \"none\", \"exclude_subgroups\": \"drop-non-german\", \"model\": \"elasticnet\", \"scale\": \"scale\", \"training_size\": \"1k\", \"training_year\": \"2014\"}",
    "universe_id": "5b1db7df375210c31947652f9cf20c6d"
   },
   "start_time": "2025-07-30T14:22:49.700663",
   "version": "2.6.0"
  }
 },
 "nbformat": 4,
 "nbformat_minor": 5
}