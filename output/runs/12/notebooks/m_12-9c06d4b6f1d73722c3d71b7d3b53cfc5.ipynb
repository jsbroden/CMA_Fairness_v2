{
 "cells": [
  {
   "cell_type": "code",
   "execution_count": 1,
   "id": "f159f837-637b-42ba-96b5-ec9a68c44524",
   "metadata": {
    "execution": {
     "iopub.execute_input": "2025-07-30T14:21:14.849730Z",
     "iopub.status.busy": "2025-07-30T14:21:14.849374Z",
     "iopub.status.idle": "2025-07-30T14:21:14.858015Z",
     "shell.execute_reply": "2025-07-30T14:21:14.857292Z"
    },
    "papermill": {
     "duration": 0.033945,
     "end_time": "2025-07-30T14:21:14.859254",
     "exception": false,
     "start_time": "2025-07-30T14:21:14.825309",
     "status": "completed"
    },
    "tags": []
   },
   "outputs": [
    {
     "name": "stdout",
     "output_type": "stream",
     "text": [
      "/dss/dsshome1/0C/ra93lal2/cma/CMA_Fairness_v2\n"
     ]
    },
    {
     "name": "stderr",
     "output_type": "stream",
     "text": [
      "/dss/dsshome1/0C/ra93lal2/.local/share/virtualenvs/CMA_Fairness_v2-3j10GkSs/lib/python3.10/site-packages/IPython/core/magics/osm.py:393: UserWarning: This is now an optional IPython functionality, using bookmarks requires you to install the `pickleshare` library.\n",
      "  bkms = self.shell.db.get('bookmarks', {})\n",
      "/dss/dsshome1/0C/ra93lal2/.local/share/virtualenvs/CMA_Fairness_v2-3j10GkSs/lib/python3.10/site-packages/IPython/core/magics/osm.py:417: UserWarning: This is now an optional IPython functionality, setting dhist requires you to install the `pickleshare` library.\n",
      "  self.shell.db['dhist'] = compress_dhist(dhist)[-100:]\n"
     ]
    }
   ],
   "source": [
    "%cd ~/cma/CMA_Fairness_v2"
   ]
  },
  {
   "cell_type": "markdown",
   "id": "de2603b9",
   "metadata": {
    "papermill": {
     "duration": 0.020209,
     "end_time": "2025-07-30T14:21:14.890775",
     "exception": false,
     "start_time": "2025-07-30T14:21:14.870566",
     "status": "completed"
    },
    "tags": []
   },
   "source": [
    "The following cell holds the definition of our parameters, these values can be overriden by rendering the with e.g. the following command:\n",
    "\n",
    "papermill -p alpha 0.2 -p ratio 0.3 universe_analysis.ipynb output/test_run.ipynb"
   ]
  },
  {
   "cell_type": "code",
   "execution_count": 2,
   "id": "a80968a0-40bb-4fa9-85ef-2d5eefb01975",
   "metadata": {
    "execution": {
     "iopub.execute_input": "2025-07-30T14:21:14.927827Z",
     "iopub.status.busy": "2025-07-30T14:21:14.927320Z",
     "iopub.status.idle": "2025-07-30T14:21:14.932860Z",
     "shell.execute_reply": "2025-07-30T14:21:14.931827Z"
    },
    "papermill": {
     "duration": 0.032424,
     "end_time": "2025-07-30T14:21:14.938241",
     "exception": false,
     "start_time": "2025-07-30T14:21:14.905817",
     "status": "completed"
    },
    "tags": []
   },
   "outputs": [
    {
     "name": "stdout",
     "output_type": "stream",
     "text": [
      "Current working directory: /dss/dsshome1/0C/ra93lal2/cma/CMA_Fairness_v2\n"
     ]
    }
   ],
   "source": [
    "import os\n",
    "print(\"Current working directory:\", os.getcwd())"
   ]
  },
  {
   "cell_type": "code",
   "execution_count": 3,
   "id": "2dce4c03",
   "metadata": {
    "execution": {
     "iopub.execute_input": "2025-07-30T14:21:14.983056Z",
     "iopub.status.busy": "2025-07-30T14:21:14.982601Z",
     "iopub.status.idle": "2025-07-30T14:21:14.989252Z",
     "shell.execute_reply": "2025-07-30T14:21:14.988207Z"
    },
    "papermill": {
     "duration": 0.031587,
     "end_time": "2025-07-30T14:21:14.991081",
     "exception": false,
     "start_time": "2025-07-30T14:21:14.959494",
     "status": "completed"
    },
    "tags": [
     "parameters"
    ]
   },
   "outputs": [],
   "source": [
    "run_no = 0\n",
    "universe_id = \"test\"\n",
    "universe = {\n",
    "    \"training_size\": \"25k\", # \"25k\", \"5k\", \"1k\"\n",
    "    \"training_year\": \"2014\", # \"2014\", \"2012_14\", \"2010_14\"\n",
    "    \"scale\": \"scale\", # \"scale\", \"do-not-scale\",\n",
    "    #\"stratify_split\": \"target\", # \"none\", \"target\", \"protected-attribute\", \"both\",\n",
    "    \"model\": \"elasticnet\", # \"logreg\", \"penalized_logreg\", \"rf\", \"gbm\", \"elasticnet\"\n",
    "    \"cutoff\": [\"quantile_0.15\", \"quantile_0.30\"],\n",
    "    \"exclude_features\": \"age\", # \"none\", \"nationality\", \"sex\", \"nationality-sex\", \"age\"\n",
    "    \"exclude_subgroups\": \"keep-all\", # \"keep-all\", \"drop-non-german\"\n",
    "    \"eval_fairness_grouping\": [\"majority-minority\", \"nationality-all\"]\n",
    "}\n",
    "\n",
    "output_dir=\"./output\"\n",
    "seed=0"
   ]
  },
  {
   "cell_type": "code",
   "execution_count": 4,
   "id": "7e3379ec",
   "metadata": {
    "execution": {
     "iopub.execute_input": "2025-07-30T14:21:15.030474Z",
     "iopub.status.busy": "2025-07-30T14:21:15.030056Z",
     "iopub.status.idle": "2025-07-30T14:21:15.099681Z",
     "shell.execute_reply": "2025-07-30T14:21:15.098845Z"
    },
    "papermill": {
     "duration": 0.090679,
     "end_time": "2025-07-30T14:21:15.101494",
     "exception": false,
     "start_time": "2025-07-30T14:21:15.010815",
     "status": "completed"
    },
    "tags": [
     "injected-parameters"
    ]
   },
   "outputs": [],
   "source": [
    "# Parameters\n",
    "universe_id = \"9c06d4b6f1d73722c3d71b7d3b53cfc5\"\n",
    "run_no = \"12\"\n",
    "universe = \"{\\\"cutoff\\\": [\\\"quantile_0.1\\\", \\\"quantile_0.25\\\"], \\\"eval_fairness_grouping\\\": [\\\"majority-minority\\\", \\\"nationality-all\\\"], \\\"exclude_features\\\": \\\"nationality-sex\\\", \\\"exclude_subgroups\\\": \\\"keep-all\\\", \\\"model\\\": \\\"rf\\\", \\\"scale\\\": \\\"scale\\\", \\\"training_size\\\": \\\"1k\\\", \\\"training_year\\\": \\\"2014\\\"}\"\n",
    "output_dir = \"output\"\n",
    "seed = \"2023\"\n"
   ]
  },
  {
   "cell_type": "code",
   "execution_count": 5,
   "id": "1650acaf",
   "metadata": {
    "execution": {
     "iopub.execute_input": "2025-07-30T14:21:15.143260Z",
     "iopub.status.busy": "2025-07-30T14:21:15.142424Z",
     "iopub.status.idle": "2025-07-30T14:21:15.147463Z",
     "shell.execute_reply": "2025-07-30T14:21:15.146536Z"
    },
    "papermill": {
     "duration": 0.027209,
     "end_time": "2025-07-30T14:21:15.149210",
     "exception": false,
     "start_time": "2025-07-30T14:21:15.122001",
     "status": "completed"
    },
    "tags": []
   },
   "outputs": [],
   "source": [
    "import json\n",
    "# Parse universe into dict if it is passed as a string\n",
    "if isinstance(universe, str):\n",
    "    universe = json.loads(universe)"
   ]
  },
  {
   "cell_type": "code",
   "execution_count": 6,
   "id": "16620c48",
   "metadata": {
    "execution": {
     "iopub.execute_input": "2025-07-30T14:21:15.195133Z",
     "iopub.status.busy": "2025-07-30T14:21:15.194726Z",
     "iopub.status.idle": "2025-07-30T14:21:15.238745Z",
     "shell.execute_reply": "2025-07-30T14:21:15.237948Z"
    },
    "papermill": {
     "duration": 0.068059,
     "end_time": "2025-07-30T14:21:15.240359",
     "exception": false,
     "start_time": "2025-07-30T14:21:15.172300",
     "status": "completed"
    },
    "tags": []
   },
   "outputs": [],
   "source": [
    "# Auto-reload the custom package\n",
    "%load_ext autoreload\n",
    "%autoreload 1\n",
    "%aimport fairness_multiverse"
   ]
  },
  {
   "cell_type": "code",
   "execution_count": 7,
   "id": "01c5c9f3",
   "metadata": {
    "execution": {
     "iopub.execute_input": "2025-07-30T14:21:15.283597Z",
     "iopub.status.busy": "2025-07-30T14:21:15.283199Z",
     "iopub.status.idle": "2025-07-30T14:21:17.292309Z",
     "shell.execute_reply": "2025-07-30T14:21:17.291241Z"
    },
    "papermill": {
     "duration": 2.032628,
     "end_time": "2025-07-30T14:21:17.294149",
     "exception": false,
     "start_time": "2025-07-30T14:21:15.261521",
     "status": "completed"
    },
    "tags": []
   },
   "outputs": [],
   "source": [
    "from fairness_multiverse.universe import UniverseAnalysis\n",
    "\n",
    "universe_analysis = UniverseAnalysis(\n",
    "    run_no = run_no,\n",
    "    universe_id = universe_id,\n",
    "    universe = universe,\n",
    "    output_dir=output_dir,\n",
    ")"
   ]
  },
  {
   "cell_type": "code",
   "execution_count": 8,
   "id": "106241f5",
   "metadata": {
    "execution": {
     "iopub.execute_input": "2025-07-30T14:21:17.334818Z",
     "iopub.status.busy": "2025-07-30T14:21:17.334373Z",
     "iopub.status.idle": "2025-07-30T14:21:17.340578Z",
     "shell.execute_reply": "2025-07-30T14:21:17.339638Z"
    },
    "papermill": {
     "duration": 0.027284,
     "end_time": "2025-07-30T14:21:17.342162",
     "exception": false,
     "start_time": "2025-07-30T14:21:17.314878",
     "status": "completed"
    },
    "tags": []
   },
   "outputs": [
    {
     "name": "stdout",
     "output_type": "stream",
     "text": [
      "Using Seed: 2023\n"
     ]
    }
   ],
   "source": [
    "import numpy as np\n",
    "parsed_seed = int(seed)\n",
    "np.random.seed(parsed_seed)\n",
    "print(f\"Using Seed: {parsed_seed}\")"
   ]
  },
  {
   "cell_type": "markdown",
   "id": "e0ebdc57",
   "metadata": {
    "papermill": {
     "duration": 0.020161,
     "end_time": "2025-07-30T14:21:17.381548",
     "exception": false,
     "start_time": "2025-07-30T14:21:17.361387",
     "status": "completed"
    },
    "tags": []
   },
   "source": [
    "# Loading Data"
   ]
  },
  {
   "cell_type": "markdown",
   "id": "681925a3",
   "metadata": {
    "papermill": {
     "duration": 0.019443,
     "end_time": "2025-07-30T14:21:17.421069",
     "exception": false,
     "start_time": "2025-07-30T14:21:17.401626",
     "status": "completed"
    },
    "tags": []
   },
   "source": [
    "Load siab_train, siab_test, siab_calib and/or \n",
    "load siab_train_features, siab_train_labels"
   ]
  },
  {
   "cell_type": "code",
   "execution_count": 9,
   "id": "f0496b8a",
   "metadata": {
    "execution": {
     "iopub.execute_input": "2025-07-30T14:21:17.462594Z",
     "iopub.status.busy": "2025-07-30T14:21:17.461802Z",
     "iopub.status.idle": "2025-07-30T14:21:27.619269Z",
     "shell.execute_reply": "2025-07-30T14:21:27.618142Z"
    },
    "papermill": {
     "duration": 10.180609,
     "end_time": "2025-07-30T14:21:27.621020",
     "exception": false,
     "start_time": "2025-07-30T14:21:17.440411",
     "status": "completed"
    },
    "tags": []
   },
   "outputs": [
    {
     "name": "stdout",
     "output_type": "stream",
     "text": [
      "Loading SIAB data from cache: data/siab_cached.csv.gz\n"
     ]
    },
    {
     "name": "stdout",
     "output_type": "stream",
     "text": [
      "(643690, 164)\n"
     ]
    }
   ],
   "source": [
    "from pathlib import Path\n",
    "import pandas as pd\n",
    "\n",
    "# File paths\n",
    "raw_file = Path(\"data/raw/siab.csv\")\n",
    "cache_file = Path(\"data/siab_cached.csv.gz\")\n",
    "\n",
    "# Ensure cache directory exists\n",
    "cache_file.parent.mkdir(parents=True, exist_ok=True)\n",
    "\n",
    "# Load with simple caching\n",
    "if cache_file.exists():\n",
    "    print(f\"Loading SIAB data from cache: {cache_file}\")\n",
    "    siab = pd.read_csv(cache_file, compression='gzip')\n",
    "else:\n",
    "    print(f\"Cache not found. Reading raw SIAB data: {raw_file}\")\n",
    "    siab = pd.read_csv(raw_file)\n",
    "    siab.to_csv(cache_file, index=False, compression='gzip')\n",
    "    print(f\"Cached SIAB data to: {cache_file}\")\n",
    "\n",
    "# Now use `siab` DataFrame as needed\n",
    "print(siab.shape)"
   ]
  },
  {
   "cell_type": "code",
   "execution_count": 10,
   "id": "db0ca512-5f53-4dba-abdb-a2888bca41ba",
   "metadata": {
    "execution": {
     "iopub.execute_input": "2025-07-30T14:21:27.667583Z",
     "iopub.status.busy": "2025-07-30T14:21:27.667109Z",
     "iopub.status.idle": "2025-07-30T14:21:27.673152Z",
     "shell.execute_reply": "2025-07-30T14:21:27.672152Z"
    },
    "papermill": {
     "duration": 0.030786,
     "end_time": "2025-07-30T14:21:27.675175",
     "exception": false,
     "start_time": "2025-07-30T14:21:27.644389",
     "status": "completed"
    },
    "tags": []
   },
   "outputs": [],
   "source": [
    "#siab"
   ]
  },
  {
   "cell_type": "code",
   "execution_count": 11,
   "id": "a0edb063",
   "metadata": {
    "execution": {
     "iopub.execute_input": "2025-07-30T14:21:27.720226Z",
     "iopub.status.busy": "2025-07-30T14:21:27.719747Z",
     "iopub.status.idle": "2025-07-30T14:21:27.725782Z",
     "shell.execute_reply": "2025-07-30T14:21:27.724704Z"
    },
    "papermill": {
     "duration": 0.029657,
     "end_time": "2025-07-30T14:21:27.727596",
     "exception": false,
     "start_time": "2025-07-30T14:21:27.697939",
     "status": "completed"
    },
    "tags": []
   },
   "outputs": [],
   "source": [
    "#import pandas as pd\n",
    "#\n",
    "#X_train = pd.read_csv(\"./data/X_train.csv\")\n",
    "#y_train = pd.read_csv(\"./data/y_train.csv\")"
   ]
  },
  {
   "cell_type": "code",
   "execution_count": 12,
   "id": "63d08085",
   "metadata": {
    "execution": {
     "iopub.execute_input": "2025-07-30T14:21:27.773535Z",
     "iopub.status.busy": "2025-07-30T14:21:27.772384Z",
     "iopub.status.idle": "2025-07-30T14:21:27.778197Z",
     "shell.execute_reply": "2025-07-30T14:21:27.777247Z"
    },
    "papermill": {
     "duration": 0.029981,
     "end_time": "2025-07-30T14:21:27.779795",
     "exception": false,
     "start_time": "2025-07-30T14:21:27.749814",
     "status": "completed"
    },
    "tags": []
   },
   "outputs": [],
   "source": [
    "#X_test = pd.read_csv(\"./data/X_test.csv\")\n",
    "#y_true = pd.read_csv(\"./data/y_test.csv\")"
   ]
  },
  {
   "cell_type": "code",
   "execution_count": 13,
   "id": "98a8d0fa-1d3d-4ed8-bb2c-281470e24add",
   "metadata": {
    "execution": {
     "iopub.execute_input": "2025-07-30T14:21:27.823708Z",
     "iopub.status.busy": "2025-07-30T14:21:27.822791Z",
     "iopub.status.idle": "2025-07-30T14:21:27.828153Z",
     "shell.execute_reply": "2025-07-30T14:21:27.827212Z"
    },
    "papermill": {
     "duration": 0.028596,
     "end_time": "2025-07-30T14:21:27.830017",
     "exception": false,
     "start_time": "2025-07-30T14:21:27.801421",
     "status": "completed"
    },
    "tags": []
   },
   "outputs": [],
   "source": [
    "# Calibration data for conformal\n",
    "#X_calib = pd.read_csv(\"./data/X_calib.csv\")\n",
    "#y_calib = pd.read_csv(\"./data/y_calib.csv\")"
   ]
  },
  {
   "cell_type": "markdown",
   "id": "997051c5-15bd-4b69-9786-c3001a3ce484",
   "metadata": {
    "papermill": {
     "duration": 0.020796,
     "end_time": "2025-07-30T14:21:27.873030",
     "exception": false,
     "start_time": "2025-07-30T14:21:27.852234",
     "status": "completed"
    },
    "tags": []
   },
   "source": [
    "# Splitting Data and Setting Training Data Size"
   ]
  },
  {
   "cell_type": "code",
   "execution_count": 14,
   "id": "e993b61f-042d-41a6-8c81-f55681f86335",
   "metadata": {
    "execution": {
     "iopub.execute_input": "2025-07-30T14:21:27.918389Z",
     "iopub.status.busy": "2025-07-30T14:21:27.916117Z",
     "iopub.status.idle": "2025-07-30T14:21:27.932183Z",
     "shell.execute_reply": "2025-07-30T14:21:27.931189Z"
    },
    "papermill": {
     "duration": 0.039794,
     "end_time": "2025-07-30T14:21:27.933791",
     "exception": false,
     "start_time": "2025-07-30T14:21:27.893997",
     "status": "completed"
    },
    "tags": []
   },
   "outputs": [],
   "source": [
    "def sample_by_year_size(df,\n",
    "                        training_year: str,\n",
    "                        training_size: str,\n",
    "                        random_state: int = 42):\n",
    "    # --- parse training_year into a list of int years ---\n",
    "    if \"_\" in training_year:\n",
    "        start_str, end_str = training_year.split(\"_\", 1)\n",
    "        start = int(start_str)\n",
    "        end   = int(end_str) if len(end_str) == 4 else (int(end_str) + (start // 100)*100)\n",
    "        years = list(range(start, end + 1))\n",
    "    else:\n",
    "        years = [int(training_year)]\n",
    "\n",
    "    df = df[df[\"year\"].isin(years)].reset_index(drop=True)\n",
    "\n",
    "    # --- map training_size to total number of samples ---\n",
    "    total_map = {\"25k\": 25_000, \"5k\": 5_000, \"1k\": 1_000}\n",
    "    if training_size not in total_map:\n",
    "        return df  # e.g. \"all\"\n",
    "\n",
    "    total_samples = total_map[training_size]\n",
    "    n_years       = len(years)\n",
    "    base          = total_samples // n_years\n",
    "    remainder     = total_samples % n_years\n",
    "\n",
    "    # --- build a dict: year -> how many to sample ---\n",
    "    # give +1 to the first `remainder` years in ascending order\n",
    "    quotas = {\n",
    "        year: base + (1 if idx < remainder else 0)\n",
    "        for idx, year in enumerate(sorted(years))\n",
    "    }\n",
    "\n",
    "    # --- sample per‐year according to the quota dict ---\n",
    "    sampled = (\n",
    "        df\n",
    "        .groupby(\"year\", group_keys=False)\n",
    "        .apply(lambda grp: grp.sample(\n",
    "            n=min(len(grp), quotas[grp.name]),\n",
    "            random_state=random_state))\n",
    "        .reset_index(drop=True)\n",
    "    )\n",
    "\n",
    "    return sampled"
   ]
  },
  {
   "cell_type": "code",
   "execution_count": 15,
   "id": "c0ccd338-0e02-41f3-a09d-f56f9266e3fb",
   "metadata": {
    "execution": {
     "iopub.execute_input": "2025-07-30T14:21:27.988196Z",
     "iopub.status.busy": "2025-07-30T14:21:27.987076Z",
     "iopub.status.idle": "2025-07-30T14:21:28.000465Z",
     "shell.execute_reply": "2025-07-30T14:21:27.999242Z"
    },
    "papermill": {
     "duration": 0.037845,
     "end_time": "2025-07-30T14:21:28.002316",
     "exception": false,
     "start_time": "2025-07-30T14:21:27.964471",
     "status": "completed"
    },
    "tags": []
   },
   "outputs": [
    {
     "data": {
      "text/plain": [
       "'1k'"
      ]
     },
     "execution_count": 15,
     "metadata": {},
     "output_type": "execute_result"
    }
   ],
   "source": [
    "universe[\"training_size\"]"
   ]
  },
  {
   "cell_type": "code",
   "execution_count": 16,
   "id": "ca707fd7-8047-4acd-bfa5-66248fbbf8e6",
   "metadata": {
    "execution": {
     "iopub.execute_input": "2025-07-30T14:21:28.047205Z",
     "iopub.status.busy": "2025-07-30T14:21:28.046715Z",
     "iopub.status.idle": "2025-07-30T14:21:28.054288Z",
     "shell.execute_reply": "2025-07-30T14:21:28.053182Z"
    },
    "papermill": {
     "duration": 0.031971,
     "end_time": "2025-07-30T14:21:28.056427",
     "exception": false,
     "start_time": "2025-07-30T14:21:28.024456",
     "status": "completed"
    },
    "tags": []
   },
   "outputs": [
    {
     "data": {
      "text/plain": [
       "'2014'"
      ]
     },
     "execution_count": 16,
     "metadata": {},
     "output_type": "execute_result"
    }
   ],
   "source": [
    "universe[\"training_year\"]"
   ]
  },
  {
   "cell_type": "code",
   "execution_count": 17,
   "id": "aea9c6ef-6f46-42c8-85eb-5a62025c1508",
   "metadata": {
    "execution": {
     "iopub.execute_input": "2025-07-30T14:21:28.104188Z",
     "iopub.status.busy": "2025-07-30T14:21:28.103728Z",
     "iopub.status.idle": "2025-07-30T14:21:28.284558Z",
     "shell.execute_reply": "2025-07-30T14:21:28.283534Z"
    },
    "papermill": {
     "duration": 0.206688,
     "end_time": "2025-07-30T14:21:28.286546",
     "exception": false,
     "start_time": "2025-07-30T14:21:28.079858",
     "status": "completed"
    },
    "tags": []
   },
   "outputs": [],
   "source": [
    "siab_train = sample_by_year_size(siab,\n",
    "                               training_year=universe[\"training_year\"],\n",
    "                               training_size=universe[\"training_size\"])"
   ]
  },
  {
   "cell_type": "code",
   "execution_count": 18,
   "id": "8d3afb32-789d-442c-8d5d-9f5aa8dd2eed",
   "metadata": {
    "execution": {
     "iopub.execute_input": "2025-07-30T14:21:28.332176Z",
     "iopub.status.busy": "2025-07-30T14:21:28.331635Z",
     "iopub.status.idle": "2025-07-30T14:21:28.339124Z",
     "shell.execute_reply": "2025-07-30T14:21:28.338246Z"
    },
    "papermill": {
     "duration": 0.032459,
     "end_time": "2025-07-30T14:21:28.340990",
     "exception": false,
     "start_time": "2025-07-30T14:21:28.308531",
     "status": "completed"
    },
    "tags": []
   },
   "outputs": [
    {
     "data": {
      "text/plain": [
       "(1000, 164)"
      ]
     },
     "execution_count": 18,
     "metadata": {},
     "output_type": "execute_result"
    }
   ],
   "source": [
    "siab_train.shape"
   ]
  },
  {
   "cell_type": "code",
   "execution_count": 19,
   "id": "d582db68-1a4c-47fb-84fc-08518dc1975a",
   "metadata": {
    "execution": {
     "iopub.execute_input": "2025-07-30T14:21:28.388840Z",
     "iopub.status.busy": "2025-07-30T14:21:28.388153Z",
     "iopub.status.idle": "2025-07-30T14:21:28.399243Z",
     "shell.execute_reply": "2025-07-30T14:21:28.397335Z"
    },
    "papermill": {
     "duration": 0.036275,
     "end_time": "2025-07-30T14:21:28.401221",
     "exception": false,
     "start_time": "2025-07-30T14:21:28.364946",
     "status": "completed"
    },
    "tags": []
   },
   "outputs": [
    {
     "data": {
      "text/plain": [
       "year\n",
       "2014    1000\n",
       "dtype: int64"
      ]
     },
     "metadata": {},
     "output_type": "display_data"
    }
   ],
   "source": [
    "display(siab_train.groupby(\"year\").size())"
   ]
  },
  {
   "cell_type": "code",
   "execution_count": 20,
   "id": "a561edb4-d032-42cb-8256-22eac1111c64",
   "metadata": {
    "execution": {
     "iopub.execute_input": "2025-07-30T14:21:28.448600Z",
     "iopub.status.busy": "2025-07-30T14:21:28.448100Z",
     "iopub.status.idle": "2025-07-30T14:21:28.668377Z",
     "shell.execute_reply": "2025-07-30T14:21:28.667421Z"
    },
    "papermill": {
     "duration": 0.246176,
     "end_time": "2025-07-30T14:21:28.670356",
     "exception": false,
     "start_time": "2025-07-30T14:21:28.424180",
     "status": "completed"
    },
    "tags": []
   },
   "outputs": [],
   "source": [
    "#siab_train = siab_s[siab_s.year < 2015]\n",
    "siab_calib = siab[siab.year == 2015]\n",
    "siab_test = siab[siab.year == 2016]"
   ]
  },
  {
   "cell_type": "code",
   "execution_count": 21,
   "id": "472de16f-c3db-4916-846b-1f0de9cf1746",
   "metadata": {
    "execution": {
     "iopub.execute_input": "2025-07-30T14:21:28.716809Z",
     "iopub.status.busy": "2025-07-30T14:21:28.716322Z",
     "iopub.status.idle": "2025-07-30T14:21:28.723355Z",
     "shell.execute_reply": "2025-07-30T14:21:28.722388Z"
    },
    "papermill": {
     "duration": 0.031916,
     "end_time": "2025-07-30T14:21:28.725963",
     "exception": false,
     "start_time": "2025-07-30T14:21:28.694047",
     "status": "completed"
    },
    "tags": []
   },
   "outputs": [],
   "source": [
    "X_train = siab_train.iloc[:,4:164]\n",
    "y_train = siab_train.iloc[:, [3]]"
   ]
  },
  {
   "cell_type": "code",
   "execution_count": 22,
   "id": "828c96af-f43a-4ed6-ba47-8ac73a47d56c",
   "metadata": {
    "execution": {
     "iopub.execute_input": "2025-07-30T14:21:28.773553Z",
     "iopub.status.busy": "2025-07-30T14:21:28.773136Z",
     "iopub.status.idle": "2025-07-30T14:21:28.829235Z",
     "shell.execute_reply": "2025-07-30T14:21:28.828299Z"
    },
    "papermill": {
     "duration": 0.081163,
     "end_time": "2025-07-30T14:21:28.831270",
     "exception": false,
     "start_time": "2025-07-30T14:21:28.750107",
     "status": "completed"
    },
    "tags": []
   },
   "outputs": [],
   "source": [
    "X_calib = siab_calib.iloc[:,4:164]\n",
    "y_calib = siab_calib.iloc[:, [3]]"
   ]
  },
  {
   "cell_type": "code",
   "execution_count": 23,
   "id": "c34be9c3-6bd6-476e-acd3-845840e303be",
   "metadata": {
    "execution": {
     "iopub.execute_input": "2025-07-30T14:21:28.879565Z",
     "iopub.status.busy": "2025-07-30T14:21:28.879084Z",
     "iopub.status.idle": "2025-07-30T14:21:28.930688Z",
     "shell.execute_reply": "2025-07-30T14:21:28.929716Z"
    },
    "papermill": {
     "duration": 0.079161,
     "end_time": "2025-07-30T14:21:28.934402",
     "exception": false,
     "start_time": "2025-07-30T14:21:28.855241",
     "status": "completed"
    },
    "tags": []
   },
   "outputs": [],
   "source": [
    "X_test = siab_test.iloc[:,4:164]\n",
    "y_true = siab_test.iloc[:, [3]]"
   ]
  },
  {
   "cell_type": "markdown",
   "id": "9901737e-04df-44f0-9100-f5ad144ed040",
   "metadata": {
    "papermill": {
     "duration": 0.021298,
     "end_time": "2025-07-30T14:21:28.979335",
     "exception": false,
     "start_time": "2025-07-30T14:21:28.958037",
     "status": "completed"
    },
    "tags": []
   },
   "source": [
    "# Splitting Data and Setting Training Data Size OLD VERSION"
   ]
  },
  {
   "cell_type": "code",
   "execution_count": 24,
   "id": "acbc8f7d-8fc8-4e86-8c59-5dcb0f58384b",
   "metadata": {
    "execution": {
     "iopub.execute_input": "2025-07-30T14:21:29.025987Z",
     "iopub.status.busy": "2025-07-30T14:21:29.025478Z",
     "iopub.status.idle": "2025-07-30T14:21:29.030828Z",
     "shell.execute_reply": "2025-07-30T14:21:29.029946Z"
    },
    "papermill": {
     "duration": 0.030764,
     "end_time": "2025-07-30T14:21:29.032557",
     "exception": false,
     "start_time": "2025-07-30T14:21:29.001793",
     "status": "completed"
    },
    "tags": []
   },
   "outputs": [],
   "source": [
    "#def sample_by_year(df, training_size, random_state=42):\n",
    "#    if training_size == \"2014\":\n",
    "#        return df[df[\"year\"] == 2014].reset_index(drop=True)\n",
    "#    \n",
    "#    size_map = {\n",
    "#        \"25k\": 5000,\n",
    "#        \"5k\": 1000,\n",
    "#        \"1k\": 200\n",
    "#    }\n",
    "#\n",
    "#    if training_size not in size_map:\n",
    "#        return df.reset_index(drop=True)  # use all data\n",
    "#\n",
    "#    n_per_year = size_map[training_size]\n",
    "#    grouped = df.groupby(\"year\")\n",
    "#    sampled = grouped.apply(lambda x: x.sample(n=min(n_per_year, len(x)), random_state=random_state))\n",
    "#    return sampled.reset_index(drop=True)"
   ]
  },
  {
   "cell_type": "code",
   "execution_count": 25,
   "id": "6d931f52-beaf-43ff-9e78-9d44a448d54e",
   "metadata": {
    "execution": {
     "iopub.execute_input": "2025-07-30T14:21:29.079008Z",
     "iopub.status.busy": "2025-07-30T14:21:29.078517Z",
     "iopub.status.idle": "2025-07-30T14:21:29.083515Z",
     "shell.execute_reply": "2025-07-30T14:21:29.082631Z"
    },
    "papermill": {
     "duration": 0.03,
     "end_time": "2025-07-30T14:21:29.085167",
     "exception": false,
     "start_time": "2025-07-30T14:21:29.055167",
     "status": "completed"
    },
    "tags": []
   },
   "outputs": [],
   "source": [
    "#siab_s = sample_by_year(siab, universe[\"training_size\"])"
   ]
  },
  {
   "cell_type": "code",
   "execution_count": 26,
   "id": "5db0a40e-a4e2-4920-be85-b12ae061d70d",
   "metadata": {
    "execution": {
     "iopub.execute_input": "2025-07-30T14:21:29.132917Z",
     "iopub.status.busy": "2025-07-30T14:21:29.131915Z",
     "iopub.status.idle": "2025-07-30T14:21:29.136929Z",
     "shell.execute_reply": "2025-07-30T14:21:29.136072Z"
    },
    "papermill": {
     "duration": 0.029369,
     "end_time": "2025-07-30T14:21:29.138489",
     "exception": false,
     "start_time": "2025-07-30T14:21:29.109120",
     "status": "completed"
    },
    "tags": []
   },
   "outputs": [],
   "source": [
    "#display(siab_s.groupby(\"year\").size())"
   ]
  },
  {
   "cell_type": "code",
   "execution_count": 27,
   "id": "e6c733c5",
   "metadata": {
    "execution": {
     "iopub.execute_input": "2025-07-30T14:21:29.185723Z",
     "iopub.status.busy": "2025-07-30T14:21:29.185221Z",
     "iopub.status.idle": "2025-07-30T14:21:29.283772Z",
     "shell.execute_reply": "2025-07-30T14:21:29.282803Z"
    },
    "papermill": {
     "duration": 0.123501,
     "end_time": "2025-07-30T14:21:29.285715",
     "exception": false,
     "start_time": "2025-07-30T14:21:29.162214",
     "status": "completed"
    },
    "tags": []
   },
   "outputs": [],
   "source": [
    "# Auxiliary data needed downstream in the pipeline\n",
    "\n",
    "org_train = X_train.copy()\n",
    "org_test = X_test.copy()\n",
    "org_calib = X_calib.copy()"
   ]
  },
  {
   "cell_type": "code",
   "execution_count": 28,
   "id": "1466abac-c6da-4492-a62f-4240ae3783af",
   "metadata": {
    "execution": {
     "iopub.execute_input": "2025-07-30T14:21:29.333565Z",
     "iopub.status.busy": "2025-07-30T14:21:29.332662Z",
     "iopub.status.idle": "2025-07-30T14:21:29.338398Z",
     "shell.execute_reply": "2025-07-30T14:21:29.337486Z"
    },
    "papermill": {
     "duration": 0.031788,
     "end_time": "2025-07-30T14:21:29.340289",
     "exception": false,
     "start_time": "2025-07-30T14:21:29.308501",
     "status": "completed"
    },
    "tags": []
   },
   "outputs": [],
   "source": [
    "# put in other script?\n",
    "# Group sizes\n",
    "\n",
    "#def calculate_percentages(df, df_name):\n",
    "#    total_entries = len(df)\n",
    "#\n",
    "#    female_pct = (df['frau1'] == 1).mean() * 100\n",
    "#    non_german_pct = ((df['maxdeutsch1'] == 0) & (df['maxdeutsch.Missing.'] == 0)).mean() * 100\n",
    "#    non_german_male_pct = ((df['frau1'] == 0) & (df['maxdeutsch1'] == 0) & (df['maxdeutsch.Missing.'] == 0)).mean() * 100\n",
    "#    non_german_female_pct = ((df['frau1'] == 1) & (df['maxdeutsch1'] == 0) & (df['maxdeutsch.Missing.'] == 0)).mean() * 100\n",
    "#\n",
    "#    print(f\"--- {df_name} ---\")\n",
    "#    print(f\"Female: {female_pct:.2f}%\")\n",
    "#    print(f\"Non-German: {non_german_pct:.2f}%\")\n",
    "#    print(f\"Non-German Male: {non_german_male_pct:.2f}%\")\n",
    "#    print(f\"Non-German Female: {non_german_female_pct:.2f}%\\n\")\n",
    "#\n",
    "## Calculate for each DataFrame\n",
    "#calculate_percentages(siab_calib, \"siab_calib\")\n",
    "#calculate_percentages(siab_test, \"siab_test\")\n",
    "#calculate_percentages(siab_train, \"siab_train\")"
   ]
  },
  {
   "cell_type": "markdown",
   "id": "0a4a1b33",
   "metadata": {
    "papermill": {
     "duration": 0.023686,
     "end_time": "2025-07-30T14:21:29.387341",
     "exception": false,
     "start_time": "2025-07-30T14:21:29.363655",
     "status": "completed"
    },
    "tags": []
   },
   "source": [
    "# Preprocessing Data"
   ]
  },
  {
   "cell_type": "code",
   "execution_count": 29,
   "id": "ca879031",
   "metadata": {
    "execution": {
     "iopub.execute_input": "2025-07-30T14:21:29.433612Z",
     "iopub.status.busy": "2025-07-30T14:21:29.433101Z",
     "iopub.status.idle": "2025-07-30T14:21:29.439228Z",
     "shell.execute_reply": "2025-07-30T14:21:29.438245Z"
    },
    "papermill": {
     "duration": 0.031451,
     "end_time": "2025-07-30T14:21:29.440857",
     "exception": false,
     "start_time": "2025-07-30T14:21:29.409406",
     "status": "completed"
    },
    "tags": []
   },
   "outputs": [],
   "source": [
    "# EXCLUDE PROTECTED FEATURES\n",
    "# ----------------------\n",
    "# \"exclude_features\": \"none\", # \"nationality\", \"sex\", \"nationality-sex\"\n",
    "\n",
    "excluded_features = universe[\"exclude_features\"].split(\"-\") # split, e.g.: \"nationality-sex\" -> [\"nationality\", \"sex\"]\n",
    "excluded_features_dictionary = {\n",
    "    \"nationality\": [\"maxdeutsch1\", \"maxdeutsch.Missing.\"],\n",
    "    \"sex\": [\"frau1\"],\n",
    "    \"age\": [\"age\"],\n",
    "}\n"
   ]
  },
  {
   "cell_type": "code",
   "execution_count": 30,
   "id": "b745ac60",
   "metadata": {
    "execution": {
     "iopub.execute_input": "2025-07-30T14:21:29.488332Z",
     "iopub.status.busy": "2025-07-30T14:21:29.487772Z",
     "iopub.status.idle": "2025-07-30T14:21:29.555893Z",
     "shell.execute_reply": "2025-07-30T14:21:29.554848Z"
    },
    "papermill": {
     "duration": 0.094744,
     "end_time": "2025-07-30T14:21:29.558019",
     "exception": false,
     "start_time": "2025-07-30T14:21:29.463275",
     "status": "completed"
    },
    "tags": []
   },
   "outputs": [],
   "source": [
    "# Code nice names to column names\n",
    "\n",
    "excluded_features_columns = [\n",
    "    excluded_features_dictionary[f] for f in excluded_features if len(f) > 0 and f != \"none\"\n",
    "]"
   ]
  },
  {
   "cell_type": "code",
   "execution_count": 31,
   "id": "f84f73a2",
   "metadata": {
    "execution": {
     "iopub.execute_input": "2025-07-30T14:21:29.608380Z",
     "iopub.status.busy": "2025-07-30T14:21:29.607777Z",
     "iopub.status.idle": "2025-07-30T14:21:29.615141Z",
     "shell.execute_reply": "2025-07-30T14:21:29.614182Z"
    },
    "papermill": {
     "duration": 0.034036,
     "end_time": "2025-07-30T14:21:29.616863",
     "exception": false,
     "start_time": "2025-07-30T14:21:29.582827",
     "status": "completed"
    },
    "tags": []
   },
   "outputs": [],
   "source": [
    "from utils import flatten_once\n",
    "\n",
    "excluded_features_columns = flatten_once(excluded_features_columns)"
   ]
  },
  {
   "cell_type": "code",
   "execution_count": 32,
   "id": "884dea22",
   "metadata": {
    "execution": {
     "iopub.execute_input": "2025-07-30T14:21:29.666586Z",
     "iopub.status.busy": "2025-07-30T14:21:29.665894Z",
     "iopub.status.idle": "2025-07-30T14:21:29.674240Z",
     "shell.execute_reply": "2025-07-30T14:21:29.673334Z"
    },
    "papermill": {
     "duration": 0.034552,
     "end_time": "2025-07-30T14:21:29.675901",
     "exception": false,
     "start_time": "2025-07-30T14:21:29.641349",
     "status": "completed"
    },
    "tags": []
   },
   "outputs": [
    {
     "name": "stdout",
     "output_type": "stream",
     "text": [
      "Dropping features: ['maxdeutsch1', 'maxdeutsch.Missing.', 'frau1']\n"
     ]
    }
   ],
   "source": [
    "if len(excluded_features_columns) > 0:\n",
    "    print(f\"Dropping features: {excluded_features_columns}\")\n",
    "    X_train.drop(excluded_features_columns, axis=1, inplace=True)"
   ]
  },
  {
   "cell_type": "code",
   "execution_count": 33,
   "id": "95ab8b16",
   "metadata": {
    "execution": {
     "iopub.execute_input": "2025-07-30T14:21:29.723675Z",
     "iopub.status.busy": "2025-07-30T14:21:29.722876Z",
     "iopub.status.idle": "2025-07-30T14:21:29.777530Z",
     "shell.execute_reply": "2025-07-30T14:21:29.776490Z"
    },
    "papermill": {
     "duration": 0.080701,
     "end_time": "2025-07-30T14:21:29.779295",
     "exception": false,
     "start_time": "2025-07-30T14:21:29.698594",
     "status": "completed"
    },
    "tags": []
   },
   "outputs": [
    {
     "name": "stdout",
     "output_type": "stream",
     "text": [
      "Dropping features: ['maxdeutsch1', 'maxdeutsch.Missing.', 'frau1']\n"
     ]
    }
   ],
   "source": [
    "if len(excluded_features_columns) > 0:\n",
    "    print(f\"Dropping features: {excluded_features_columns}\")\n",
    "    X_test.drop(excluded_features_columns, axis=1, inplace=True)"
   ]
  },
  {
   "cell_type": "code",
   "execution_count": 34,
   "id": "1853aaf5-fb9f-46cb-a2b5-8ea4ae2237e4",
   "metadata": {
    "execution": {
     "iopub.execute_input": "2025-07-30T14:21:29.828348Z",
     "iopub.status.busy": "2025-07-30T14:21:29.827856Z",
     "iopub.status.idle": "2025-07-30T14:21:29.881853Z",
     "shell.execute_reply": "2025-07-30T14:21:29.880764Z"
    },
    "papermill": {
     "duration": 0.079643,
     "end_time": "2025-07-30T14:21:29.883572",
     "exception": false,
     "start_time": "2025-07-30T14:21:29.803929",
     "status": "completed"
    },
    "tags": []
   },
   "outputs": [
    {
     "name": "stdout",
     "output_type": "stream",
     "text": [
      "Dropping features: ['maxdeutsch1', 'maxdeutsch.Missing.', 'frau1']\n"
     ]
    }
   ],
   "source": [
    "if len(excluded_features_columns) > 0:\n",
    "    print(f\"Dropping features: {excluded_features_columns}\")\n",
    "    X_calib.drop(excluded_features_columns, axis=1, inplace=True)"
   ]
  },
  {
   "cell_type": "code",
   "execution_count": 35,
   "id": "6727d079-03e5-481e-9d38-292a90b7a0a8",
   "metadata": {
    "execution": {
     "iopub.execute_input": "2025-07-30T14:21:29.932304Z",
     "iopub.status.busy": "2025-07-30T14:21:29.931893Z",
     "iopub.status.idle": "2025-07-30T14:21:29.939320Z",
     "shell.execute_reply": "2025-07-30T14:21:29.938434Z"
    },
    "papermill": {
     "duration": 0.039237,
     "end_time": "2025-07-30T14:21:29.945345",
     "exception": false,
     "start_time": "2025-07-30T14:21:29.906108",
     "status": "completed"
    },
    "tags": []
   },
   "outputs": [],
   "source": [
    "# SPLIT & STRATIFY DATA\n",
    "# ----------------------"
   ]
  },
  {
   "cell_type": "code",
   "execution_count": 36,
   "id": "76c4dc6d",
   "metadata": {
    "execution": {
     "iopub.execute_input": "2025-07-30T14:21:30.010331Z",
     "iopub.status.busy": "2025-07-30T14:21:30.009687Z",
     "iopub.status.idle": "2025-07-30T14:21:30.015358Z",
     "shell.execute_reply": "2025-07-30T14:21:30.014280Z"
    },
    "papermill": {
     "duration": 0.033022,
     "end_time": "2025-07-30T14:21:30.017118",
     "exception": false,
     "start_time": "2025-07-30T14:21:29.984096",
     "status": "completed"
    },
    "tags": []
   },
   "outputs": [],
   "source": [
    "# EXCLUDE CERTAIN SUBGROUPS\n",
    "# ----------------------\n",
    "\n",
    "mode = universe.get(\"exclude_subgroups\", \"keep-all\") \n",
    "# Fetches the exclude_subgroups setting from the universe dict.\n",
    "# Defaults to \"keep-all\" if the key is missing."
   ]
  },
  {
   "cell_type": "code",
   "execution_count": 37,
   "id": "21994072",
   "metadata": {
    "execution": {
     "iopub.execute_input": "2025-07-30T14:21:30.066008Z",
     "iopub.status.busy": "2025-07-30T14:21:30.065544Z",
     "iopub.status.idle": "2025-07-30T14:21:30.072404Z",
     "shell.execute_reply": "2025-07-30T14:21:30.071326Z"
    },
    "papermill": {
     "duration": 0.032074,
     "end_time": "2025-07-30T14:21:30.073982",
     "exception": false,
     "start_time": "2025-07-30T14:21:30.041908",
     "status": "completed"
    },
    "tags": []
   },
   "outputs": [],
   "source": [
    "if mode == \"keep-all\":\n",
    "    keep_mask = pd.Series(True, index=org_train.index)\n",
    "\n",
    "# org_train contains the original feature columns from features_org (in Simson)\n",
    "# features_org contains unprocessed features, for me X_train at beginning ???\n",
    "# For keep-all, creates a boolean Series (keep_mask) of all True, so no rows are removed.\n",
    "\n",
    "elif mode == \"drop-non-german\":\n",
    "    keep_mask = org_train[\"maxdeutsch1\"] == 1 # ??? what about missing values?\n",
    "\n",
    "else:\n",
    "    raise ValueError(f\"Unsupported mode for exclude_subgroups: {mode}\")\n"
   ]
  },
  {
   "cell_type": "code",
   "execution_count": 38,
   "id": "71651440",
   "metadata": {
    "execution": {
     "iopub.execute_input": "2025-07-30T14:21:30.124703Z",
     "iopub.status.busy": "2025-07-30T14:21:30.124228Z",
     "iopub.status.idle": "2025-07-30T14:21:30.130555Z",
     "shell.execute_reply": "2025-07-30T14:21:30.129465Z"
    },
    "papermill": {
     "duration": 0.033307,
     "end_time": "2025-07-30T14:21:30.132159",
     "exception": false,
     "start_time": "2025-07-30T14:21:30.098852",
     "status": "completed"
    },
    "tags": []
   },
   "outputs": [],
   "source": [
    "n_drop = (~keep_mask).sum() # Calculates how many rows are set to be dropped\n",
    "if n_drop > 0:\n",
    "    pct = n_drop / len(keep_mask) * 100\n",
    "    print(f\"Dropping {n_drop} rows ({pct:.2f}%) where mode='{mode}'\")"
   ]
  },
  {
   "cell_type": "code",
   "execution_count": 39,
   "id": "5fb8eee5",
   "metadata": {
    "execution": {
     "iopub.execute_input": "2025-07-30T14:21:30.180862Z",
     "iopub.status.busy": "2025-07-30T14:21:30.180377Z",
     "iopub.status.idle": "2025-07-30T14:21:30.186720Z",
     "shell.execute_reply": "2025-07-30T14:21:30.185828Z"
    },
    "papermill": {
     "duration": 0.033535,
     "end_time": "2025-07-30T14:21:30.188258",
     "exception": false,
     "start_time": "2025-07-30T14:21:30.154723",
     "status": "completed"
    },
    "tags": []
   },
   "outputs": [],
   "source": [
    "X_train = X_train[keep_mask]"
   ]
  },
  {
   "cell_type": "code",
   "execution_count": 40,
   "id": "b202bb3a",
   "metadata": {
    "execution": {
     "iopub.execute_input": "2025-07-30T14:21:30.239404Z",
     "iopub.status.busy": "2025-07-30T14:21:30.238897Z",
     "iopub.status.idle": "2025-07-30T14:21:30.245551Z",
     "shell.execute_reply": "2025-07-30T14:21:30.244568Z"
    },
    "papermill": {
     "duration": 0.033824,
     "end_time": "2025-07-30T14:21:30.247559",
     "exception": false,
     "start_time": "2025-07-30T14:21:30.213735",
     "status": "completed"
    },
    "tags": []
   },
   "outputs": [],
   "source": [
    "y_train = y_train[keep_mask]"
   ]
  },
  {
   "cell_type": "markdown",
   "id": "493e2ac3",
   "metadata": {
    "papermill": {
     "duration": 0.023831,
     "end_time": "2025-07-30T14:21:30.295690",
     "exception": false,
     "start_time": "2025-07-30T14:21:30.271859",
     "status": "completed"
    },
    "tags": []
   },
   "source": [
    "# Model Training"
   ]
  },
  {
   "cell_type": "code",
   "execution_count": 41,
   "id": "679e1268",
   "metadata": {
    "execution": {
     "iopub.execute_input": "2025-07-30T14:21:30.343434Z",
     "iopub.status.busy": "2025-07-30T14:21:30.342931Z",
     "iopub.status.idle": "2025-07-30T14:21:30.461301Z",
     "shell.execute_reply": "2025-07-30T14:21:30.460161Z"
    },
    "papermill": {
     "duration": 0.144803,
     "end_time": "2025-07-30T14:21:30.463110",
     "exception": false,
     "start_time": "2025-07-30T14:21:30.318307",
     "status": "completed"
    },
    "tags": []
   },
   "outputs": [],
   "source": [
    "from sklearn.linear_model import LogisticRegression\n",
    "from sklearn.ensemble import GradientBoostingClassifier, RandomForestClassifier\n",
    "\n",
    "if (universe[\"model\"] == \"logreg\"):\n",
    "    model = LogisticRegression() #penalty=\"none\") #, solver=\"newton-cg\", max_iter=1) # include random_state=19 ?\n",
    "elif (universe[\"model\"] == \"penalized_logreg\"):\n",
    "    model = LogisticRegression(penalty=\"l2\", C=1.0) #, solver=\"newton-cg\", max_iter=1)\n",
    "elif (universe[\"model\"] == \"rf\"):\n",
    "    model = RandomForestClassifier(n_estimators=100, n_jobs=-1)\n",
    "elif (universe[\"model\"] == \"gbm\"):\n",
    "    model = GradientBoostingClassifier()\n",
    "elif (universe[\"model\"] == \"elasticnet\"):\n",
    "    model = LogisticRegression(penalty = 'elasticnet', solver = 'saga', l1_ratio = 0.5, max_iter=5000) # which solver to use?\n",
    "else:\n",
    "    raise \"Unsupported universe.model\""
   ]
  },
  {
   "cell_type": "code",
   "execution_count": 42,
   "id": "0cc8f744",
   "metadata": {
    "execution": {
     "iopub.execute_input": "2025-07-30T14:21:30.514350Z",
     "iopub.status.busy": "2025-07-30T14:21:30.513935Z",
     "iopub.status.idle": "2025-07-30T14:21:30.521126Z",
     "shell.execute_reply": "2025-07-30T14:21:30.520106Z"
    },
    "papermill": {
     "duration": 0.036422,
     "end_time": "2025-07-30T14:21:30.523121",
     "exception": false,
     "start_time": "2025-07-30T14:21:30.486699",
     "status": "completed"
    },
    "tags": []
   },
   "outputs": [],
   "source": [
    "import numpy as np\n",
    "from sklearn.pipeline import Pipeline\n",
    "from sklearn.preprocessing import StandardScaler\n",
    "\n",
    "model = Pipeline([\n",
    "    #(\"continuous_processor\", continuous_processor),\n",
    "    #(\"categorical_preprocessor\", categorical_preprocessor),\n",
    "    (\"scale\", StandardScaler() if universe[\"scale\"] == \"scale\" else None), \n",
    "    (\"model\", model),\n",
    "])"
   ]
  },
  {
   "cell_type": "code",
   "execution_count": 43,
   "id": "9442c04d",
   "metadata": {
    "execution": {
     "iopub.execute_input": "2025-07-30T14:21:30.570338Z",
     "iopub.status.busy": "2025-07-30T14:21:30.569819Z",
     "iopub.status.idle": "2025-07-30T14:21:31.023527Z",
     "shell.execute_reply": "2025-07-30T14:21:31.022483Z"
    },
    "papermill": {
     "duration": 0.479108,
     "end_time": "2025-07-30T14:21:31.025991",
     "exception": false,
     "start_time": "2025-07-30T14:21:30.546883",
     "status": "completed"
    },
    "tags": []
   },
   "outputs": [
    {
     "data": {
      "text/html": [
       "<style>#sk-container-id-1 {color: black;background-color: white;}#sk-container-id-1 pre{padding: 0;}#sk-container-id-1 div.sk-toggleable {background-color: white;}#sk-container-id-1 label.sk-toggleable__label {cursor: pointer;display: block;width: 100%;margin-bottom: 0;padding: 0.3em;box-sizing: border-box;text-align: center;}#sk-container-id-1 label.sk-toggleable__label-arrow:before {content: \"▸\";float: left;margin-right: 0.25em;color: #696969;}#sk-container-id-1 label.sk-toggleable__label-arrow:hover:before {color: black;}#sk-container-id-1 div.sk-estimator:hover label.sk-toggleable__label-arrow:before {color: black;}#sk-container-id-1 div.sk-toggleable__content {max-height: 0;max-width: 0;overflow: hidden;text-align: left;background-color: #f0f8ff;}#sk-container-id-1 div.sk-toggleable__content pre {margin: 0.2em;color: black;border-radius: 0.25em;background-color: #f0f8ff;}#sk-container-id-1 input.sk-toggleable__control:checked~div.sk-toggleable__content {max-height: 200px;max-width: 100%;overflow: auto;}#sk-container-id-1 input.sk-toggleable__control:checked~label.sk-toggleable__label-arrow:before {content: \"▾\";}#sk-container-id-1 div.sk-estimator input.sk-toggleable__control:checked~label.sk-toggleable__label {background-color: #d4ebff;}#sk-container-id-1 div.sk-label input.sk-toggleable__control:checked~label.sk-toggleable__label {background-color: #d4ebff;}#sk-container-id-1 input.sk-hidden--visually {border: 0;clip: rect(1px 1px 1px 1px);clip: rect(1px, 1px, 1px, 1px);height: 1px;margin: -1px;overflow: hidden;padding: 0;position: absolute;width: 1px;}#sk-container-id-1 div.sk-estimator {font-family: monospace;background-color: #f0f8ff;border: 1px dotted black;border-radius: 0.25em;box-sizing: border-box;margin-bottom: 0.5em;}#sk-container-id-1 div.sk-estimator:hover {background-color: #d4ebff;}#sk-container-id-1 div.sk-parallel-item::after {content: \"\";width: 100%;border-bottom: 1px solid gray;flex-grow: 1;}#sk-container-id-1 div.sk-label:hover label.sk-toggleable__label {background-color: #d4ebff;}#sk-container-id-1 div.sk-serial::before {content: \"\";position: absolute;border-left: 1px solid gray;box-sizing: border-box;top: 0;bottom: 0;left: 50%;z-index: 0;}#sk-container-id-1 div.sk-serial {display: flex;flex-direction: column;align-items: center;background-color: white;padding-right: 0.2em;padding-left: 0.2em;position: relative;}#sk-container-id-1 div.sk-item {position: relative;z-index: 1;}#sk-container-id-1 div.sk-parallel {display: flex;align-items: stretch;justify-content: center;background-color: white;position: relative;}#sk-container-id-1 div.sk-item::before, #sk-container-id-1 div.sk-parallel-item::before {content: \"\";position: absolute;border-left: 1px solid gray;box-sizing: border-box;top: 0;bottom: 0;left: 50%;z-index: -1;}#sk-container-id-1 div.sk-parallel-item {display: flex;flex-direction: column;z-index: 1;position: relative;background-color: white;}#sk-container-id-1 div.sk-parallel-item:first-child::after {align-self: flex-end;width: 50%;}#sk-container-id-1 div.sk-parallel-item:last-child::after {align-self: flex-start;width: 50%;}#sk-container-id-1 div.sk-parallel-item:only-child::after {width: 0;}#sk-container-id-1 div.sk-dashed-wrapped {border: 1px dashed gray;margin: 0 0.4em 0.5em 0.4em;box-sizing: border-box;padding-bottom: 0.4em;background-color: white;}#sk-container-id-1 div.sk-label label {font-family: monospace;font-weight: bold;display: inline-block;line-height: 1.2em;}#sk-container-id-1 div.sk-label-container {text-align: center;}#sk-container-id-1 div.sk-container {/* jupyter's `normalize.less` sets `[hidden] { display: none; }` but bootstrap.min.css set `[hidden] { display: none !important; }` so we also need the `!important` here to be able to override the default hidden behavior on the sphinx rendered scikit-learn.org. See: https://github.com/scikit-learn/scikit-learn/issues/21755 */display: inline-block !important;position: relative;}#sk-container-id-1 div.sk-text-repr-fallback {display: none;}</style><div id=\"sk-container-id-1\" class=\"sk-top-container\"><div class=\"sk-text-repr-fallback\"><pre>Pipeline(steps=[(&#x27;scale&#x27;, StandardScaler()),\n",
       "                (&#x27;model&#x27;, RandomForestClassifier(n_jobs=-1))])</pre><b>In a Jupyter environment, please rerun this cell to show the HTML representation or trust the notebook. <br />On GitHub, the HTML representation is unable to render, please try loading this page with nbviewer.org.</b></div><div class=\"sk-container\" hidden><div class=\"sk-item sk-dashed-wrapped\"><div class=\"sk-label-container\"><div class=\"sk-label sk-toggleable\"><input class=\"sk-toggleable__control sk-hidden--visually\" id=\"sk-estimator-id-1\" type=\"checkbox\" ><label for=\"sk-estimator-id-1\" class=\"sk-toggleable__label sk-toggleable__label-arrow\">Pipeline</label><div class=\"sk-toggleable__content\"><pre>Pipeline(steps=[(&#x27;scale&#x27;, StandardScaler()),\n",
       "                (&#x27;model&#x27;, RandomForestClassifier(n_jobs=-1))])</pre></div></div></div><div class=\"sk-serial\"><div class=\"sk-item\"><div class=\"sk-estimator sk-toggleable\"><input class=\"sk-toggleable__control sk-hidden--visually\" id=\"sk-estimator-id-2\" type=\"checkbox\" ><label for=\"sk-estimator-id-2\" class=\"sk-toggleable__label sk-toggleable__label-arrow\">StandardScaler</label><div class=\"sk-toggleable__content\"><pre>StandardScaler()</pre></div></div></div><div class=\"sk-item\"><div class=\"sk-estimator sk-toggleable\"><input class=\"sk-toggleable__control sk-hidden--visually\" id=\"sk-estimator-id-3\" type=\"checkbox\" ><label for=\"sk-estimator-id-3\" class=\"sk-toggleable__label sk-toggleable__label-arrow\">RandomForestClassifier</label><div class=\"sk-toggleable__content\"><pre>RandomForestClassifier(n_jobs=-1)</pre></div></div></div></div></div></div></div>"
      ],
      "text/plain": [
       "Pipeline(steps=[('scale', StandardScaler()),\n",
       "                ('model', RandomForestClassifier(n_jobs=-1))])"
      ]
     },
     "execution_count": 43,
     "metadata": {},
     "output_type": "execute_result"
    }
   ],
   "source": [
    "model.fit(X_train, y_train.values.ravel())"
   ]
  },
  {
   "cell_type": "code",
   "execution_count": 44,
   "id": "af59f8c0",
   "metadata": {
    "execution": {
     "iopub.execute_input": "2025-07-30T14:21:31.079576Z",
     "iopub.status.busy": "2025-07-30T14:21:31.079188Z",
     "iopub.status.idle": "2025-07-30T14:21:31.085126Z",
     "shell.execute_reply": "2025-07-30T14:21:31.084080Z"
    },
    "papermill": {
     "duration": 0.03407,
     "end_time": "2025-07-30T14:21:31.088275",
     "exception": false,
     "start_time": "2025-07-30T14:21:31.054205",
     "status": "completed"
    },
    "tags": []
   },
   "outputs": [],
   "source": [
    "from fairness_multiverse.universe import predict_w_threshold"
   ]
  },
  {
   "cell_type": "code",
   "execution_count": 45,
   "id": "a7cf2e16",
   "metadata": {
    "execution": {
     "iopub.execute_input": "2025-07-30T14:21:31.139757Z",
     "iopub.status.busy": "2025-07-30T14:21:31.139302Z",
     "iopub.status.idle": "2025-07-30T14:21:32.267469Z",
     "shell.execute_reply": "2025-07-30T14:21:32.266263Z"
    },
    "papermill": {
     "duration": 1.156634,
     "end_time": "2025-07-30T14:21:32.269976",
     "exception": false,
     "start_time": "2025-07-30T14:21:31.113342",
     "status": "completed"
    },
    "tags": []
   },
   "outputs": [
    {
     "data": {
      "text/plain": [
       "0.8623007468509643"
      ]
     },
     "execution_count": 45,
     "metadata": {},
     "output_type": "execute_result"
    }
   ],
   "source": [
    "probs_test = model.predict_proba(X_test)\n",
    "\n",
    "'''\n",
    "Below code returns a boolean array (or binary 0/1 array depending on how it’s used) where each element \n",
    "is True if the probability of class 1 is greater than or equal to the threshold, and False otherwise.\n",
    "'''\n",
    "y_pred_default = predict_w_threshold(probs_test, 0.5)\n",
    "\n",
    "from sklearn.metrics import accuracy_score\n",
    "\n",
    "# Naive prediction\n",
    "accuracy_score(y_true = y_true, y_pred = y_pred_default)"
   ]
  },
  {
   "cell_type": "code",
   "execution_count": 46,
   "id": "081964c3",
   "metadata": {
    "execution": {
     "iopub.execute_input": "2025-07-30T14:21:32.342283Z",
     "iopub.status.busy": "2025-07-30T14:21:32.341930Z",
     "iopub.status.idle": "2025-07-30T14:21:33.263342Z",
     "shell.execute_reply": "2025-07-30T14:21:33.262550Z"
    },
    "papermill": {
     "duration": 0.956317,
     "end_time": "2025-07-30T14:21:33.264772",
     "exception": false,
     "start_time": "2025-07-30T14:21:32.308455",
     "status": "completed"
    },
    "tags": []
   },
   "outputs": [
    {
     "data": {
      "text/plain": [
       "array([0, 0, 0, ..., 0, 0, 0])"
      ]
     },
     "execution_count": 46,
     "metadata": {},
     "output_type": "execute_result"
    }
   ],
   "source": [
    "model.predict(X_test)"
   ]
  },
  {
   "cell_type": "markdown",
   "id": "56c9705b",
   "metadata": {
    "papermill": {
     "duration": 0.013081,
     "end_time": "2025-07-30T14:21:33.291121",
     "exception": false,
     "start_time": "2025-07-30T14:21:33.278040",
     "status": "completed"
    },
    "tags": []
   },
   "source": [
    "# Conformal Prediction"
   ]
  },
  {
   "cell_type": "code",
   "execution_count": 47,
   "id": "160ec6ff",
   "metadata": {
    "execution": {
     "iopub.execute_input": "2025-07-30T14:21:33.319268Z",
     "iopub.status.busy": "2025-07-30T14:21:33.318746Z",
     "iopub.status.idle": "2025-07-30T14:21:33.323203Z",
     "shell.execute_reply": "2025-07-30T14:21:33.322293Z"
    },
    "papermill": {
     "duration": 0.020334,
     "end_time": "2025-07-30T14:21:33.324737",
     "exception": false,
     "start_time": "2025-07-30T14:21:33.304403",
     "status": "completed"
    },
    "tags": []
   },
   "outputs": [],
   "source": [
    "# Miscoverage level for conformal prediction (10% allowed error rate => 90% target coverage)\n",
    "alpha = 0.1"
   ]
  },
  {
   "cell_type": "code",
   "execution_count": 48,
   "id": "eadf4555-3dd3-440e-8e35-f82a4ad9f855",
   "metadata": {
    "execution": {
     "iopub.execute_input": "2025-07-30T14:21:33.353647Z",
     "iopub.status.busy": "2025-07-30T14:21:33.353269Z",
     "iopub.status.idle": "2025-07-30T14:21:34.461328Z",
     "shell.execute_reply": "2025-07-30T14:21:34.460376Z"
    },
    "papermill": {
     "duration": 1.12412,
     "end_time": "2025-07-30T14:21:34.463124",
     "exception": false,
     "start_time": "2025-07-30T14:21:33.339004",
     "status": "completed"
    },
    "tags": []
   },
   "outputs": [],
   "source": [
    "probs_calib = model.predict_proba(X_calib)"
   ]
  },
  {
   "cell_type": "code",
   "execution_count": 49,
   "id": "2ed93547-6d5d-4983-9b36-1ecb300da49a",
   "metadata": {
    "execution": {
     "iopub.execute_input": "2025-07-30T14:21:34.514742Z",
     "iopub.status.busy": "2025-07-30T14:21:34.514231Z",
     "iopub.status.idle": "2025-07-30T14:21:34.520946Z",
     "shell.execute_reply": "2025-07-30T14:21:34.519786Z"
    },
    "papermill": {
     "duration": 0.033044,
     "end_time": "2025-07-30T14:21:34.522676",
     "exception": false,
     "start_time": "2025-07-30T14:21:34.489632",
     "status": "completed"
    },
    "tags": []
   },
   "outputs": [],
   "source": [
    "y_calib = y_calib.values.ravel().astype(int)"
   ]
  },
  {
   "cell_type": "code",
   "execution_count": 50,
   "id": "65d1320d-f588-4b38-9072-62af1ae97f7d",
   "metadata": {
    "execution": {
     "iopub.execute_input": "2025-07-30T14:21:34.572895Z",
     "iopub.status.busy": "2025-07-30T14:21:34.572323Z",
     "iopub.status.idle": "2025-07-30T14:21:34.581137Z",
     "shell.execute_reply": "2025-07-30T14:21:34.580207Z"
    },
    "papermill": {
     "duration": 0.036345,
     "end_time": "2025-07-30T14:21:34.582733",
     "exception": false,
     "start_time": "2025-07-30T14:21:34.546388",
     "status": "completed"
    },
    "tags": []
   },
   "outputs": [],
   "source": [
    "from fairness_multiverse.conformal import compute_nc_scores\n",
    "\n",
    "# Compute nonconformity scores on calibration set (1 - probability of true class)\n",
    "nc_scores = compute_nc_scores(probs_calib, y_calib)"
   ]
  },
  {
   "cell_type": "code",
   "execution_count": 51,
   "id": "df3b8ca3-53b7-43d5-9667-7c85da7aeda2",
   "metadata": {
    "execution": {
     "iopub.execute_input": "2025-07-30T14:21:34.633331Z",
     "iopub.status.busy": "2025-07-30T14:21:34.632525Z",
     "iopub.status.idle": "2025-07-30T14:21:34.639263Z",
     "shell.execute_reply": "2025-07-30T14:21:34.638400Z"
    },
    "papermill": {
     "duration": 0.034236,
     "end_time": "2025-07-30T14:21:34.640887",
     "exception": false,
     "start_time": "2025-07-30T14:21:34.606651",
     "status": "completed"
    },
    "tags": []
   },
   "outputs": [],
   "source": [
    "from fairness_multiverse.conformal import find_threshold\n",
    "\n",
    "# Find conformal threshold q_hat for the given alpha (split conformal method)\n",
    "q_hat = find_threshold(nc_scores, alpha)"
   ]
  },
  {
   "cell_type": "code",
   "execution_count": 52,
   "id": "4d29e6c1-0ef6-4aa4-b8fe-4fe79b0d033a",
   "metadata": {
    "execution": {
     "iopub.execute_input": "2025-07-30T14:21:34.691996Z",
     "iopub.status.busy": "2025-07-30T14:21:34.691076Z",
     "iopub.status.idle": "2025-07-30T14:21:34.698647Z",
     "shell.execute_reply": "2025-07-30T14:21:34.697710Z"
    },
    "papermill": {
     "duration": 0.035397,
     "end_time": "2025-07-30T14:21:34.700156",
     "exception": false,
     "start_time": "2025-07-30T14:21:34.664759",
     "status": "completed"
    },
    "tags": []
   },
   "outputs": [
    {
     "data": {
      "text/plain": [
       "0.6699999999999999"
      ]
     },
     "execution_count": 52,
     "metadata": {},
     "output_type": "execute_result"
    }
   ],
   "source": [
    "q_hat"
   ]
  },
  {
   "cell_type": "code",
   "execution_count": 53,
   "id": "92460794-cdac-4be2-ba28-f28c0515a6fb",
   "metadata": {
    "execution": {
     "iopub.execute_input": "2025-07-30T14:21:34.750701Z",
     "iopub.status.busy": "2025-07-30T14:21:34.749780Z",
     "iopub.status.idle": "2025-07-30T14:21:36.515646Z",
     "shell.execute_reply": "2025-07-30T14:21:36.514607Z"
    },
    "papermill": {
     "duration": 1.793406,
     "end_time": "2025-07-30T14:21:36.517625",
     "exception": false,
     "start_time": "2025-07-30T14:21:34.724219",
     "status": "completed"
    },
    "tags": []
   },
   "outputs": [],
   "source": [
    "from fairness_multiverse.conformal import predict_conformal_sets\n",
    "\n",
    "# Generate prediction sets for each test example\n",
    "pred_sets = predict_conformal_sets(model, X_test, q_hat)"
   ]
  },
  {
   "cell_type": "code",
   "execution_count": 54,
   "id": "d90c9a65-e6db-4f5d-80cd-e68fb7e46829",
   "metadata": {
    "execution": {
     "iopub.execute_input": "2025-07-30T14:21:36.572881Z",
     "iopub.status.busy": "2025-07-30T14:21:36.571930Z",
     "iopub.status.idle": "2025-07-30T14:21:36.577636Z",
     "shell.execute_reply": "2025-07-30T14:21:36.576709Z"
    },
    "papermill": {
     "duration": 0.03508,
     "end_time": "2025-07-30T14:21:36.579576",
     "exception": false,
     "start_time": "2025-07-30T14:21:36.544496",
     "status": "completed"
    },
    "tags": []
   },
   "outputs": [],
   "source": [
    "y_true = y_true.squeeze()"
   ]
  },
  {
   "cell_type": "code",
   "execution_count": 55,
   "id": "3a58a54a-1e68-46b9-927a-df01f18aebc8",
   "metadata": {
    "execution": {
     "iopub.execute_input": "2025-07-30T14:21:36.635357Z",
     "iopub.status.busy": "2025-07-30T14:21:36.634890Z",
     "iopub.status.idle": "2025-07-30T14:21:37.600629Z",
     "shell.execute_reply": "2025-07-30T14:21:37.599588Z"
    },
    "papermill": {
     "duration": 0.995987,
     "end_time": "2025-07-30T14:21:37.602651",
     "exception": false,
     "start_time": "2025-07-30T14:21:36.606664",
     "status": "completed"
    },
    "tags": []
   },
   "outputs": [],
   "source": [
    "from fairness_multiverse.conformal import evaluate_sets\n",
    "\n",
    "# Evaluate coverage and average set size on test data\n",
    "metrics = evaluate_sets(pred_sets, y_true)"
   ]
  },
  {
   "cell_type": "markdown",
   "id": "2b569c12-9aaa-4c88-98c9-bbcd0cf3ebb8",
   "metadata": {
    "papermill": {
     "duration": 0.026402,
     "end_time": "2025-07-30T14:21:37.654462",
     "exception": false,
     "start_time": "2025-07-30T14:21:37.628060",
     "status": "completed"
    },
    "tags": []
   },
   "source": [
    "# CP Metrics"
   ]
  },
  {
   "cell_type": "code",
   "execution_count": 56,
   "id": "5ce0a5cb-201f-45a0-ade5-94c7f0bd6095",
   "metadata": {
    "execution": {
     "iopub.execute_input": "2025-07-30T14:21:37.704873Z",
     "iopub.status.busy": "2025-07-30T14:21:37.704585Z",
     "iopub.status.idle": "2025-07-30T14:21:37.711773Z",
     "shell.execute_reply": "2025-07-30T14:21:37.710911Z"
    },
    "papermill": {
     "duration": 0.032992,
     "end_time": "2025-07-30T14:21:37.713297",
     "exception": false,
     "start_time": "2025-07-30T14:21:37.680305",
     "status": "completed"
    },
    "tags": []
   },
   "outputs": [
    {
     "data": {
      "text/plain": [
       "{'coverage': 0.914034109909709, 'avg_size': 1.151800245234645}"
      ]
     },
     "execution_count": 56,
     "metadata": {},
     "output_type": "execute_result"
    }
   ],
   "source": [
    "metrics"
   ]
  },
  {
   "cell_type": "code",
   "execution_count": 57,
   "id": "9b9a838d-31c9-430b-ae14-12baee460d17",
   "metadata": {
    "execution": {
     "iopub.execute_input": "2025-07-30T14:21:37.769280Z",
     "iopub.status.busy": "2025-07-30T14:21:37.768505Z",
     "iopub.status.idle": "2025-07-30T14:21:37.774842Z",
     "shell.execute_reply": "2025-07-30T14:21:37.773924Z"
    },
    "papermill": {
     "duration": 0.036628,
     "end_time": "2025-07-30T14:21:37.776462",
     "exception": false,
     "start_time": "2025-07-30T14:21:37.739834",
     "status": "completed"
    },
    "tags": []
   },
   "outputs": [],
   "source": [
    "example_universe = universe.copy()\n",
    "universe_training_size = example_universe.get(\"training_size\")\n",
    "universe_scale = example_universe.get(\"scale\")\n",
    "universe_model = example_universe.get(\"model\")\n",
    "universe_exclude_features = example_universe.get(\"exclude_features\")\n",
    "universe_exclude_subgroups = example_universe.get(\"exclude_subgroups\")"
   ]
  },
  {
   "cell_type": "code",
   "execution_count": 58,
   "id": "f4b6a8ac-9dc0-4245-8a91-5b3b5999c4f9",
   "metadata": {
    "execution": {
     "iopub.execute_input": "2025-07-30T14:21:37.820134Z",
     "iopub.status.busy": "2025-07-30T14:21:37.819751Z",
     "iopub.status.idle": "2025-07-30T14:21:37.841052Z",
     "shell.execute_reply": "2025-07-30T14:21:37.840268Z"
    },
    "papermill": {
     "duration": 0.039528,
     "end_time": "2025-07-30T14:21:37.842624",
     "exception": false,
     "start_time": "2025-07-30T14:21:37.803096",
     "status": "completed"
    },
    "tags": []
   },
   "outputs": [],
   "source": [
    "cp_metrics_dict = {\n",
    "    \"universe_id\": [universe_id],\n",
    "    \"universe_training_size\": [universe_training_size],\n",
    "    \"universe_scale\": [universe_scale],\n",
    "    \"universe_model\": [universe_model],\n",
    "    \"universe_exclude_features\": [universe_exclude_features],\n",
    "    \"universe_exclude_subgroups\": [universe_exclude_subgroups],\n",
    "    \"q_hat\": [q_hat],\n",
    "    \"coverage\": [metrics[\"coverage\"]],\n",
    "    \"avg_size\": [metrics[\"avg_size\"]],\n",
    "}"
   ]
  },
  {
   "cell_type": "code",
   "execution_count": 59,
   "id": "908acbb1-0371-4915-85ca-3fa520d2efe2",
   "metadata": {
    "execution": {
     "iopub.execute_input": "2025-07-30T14:21:37.893804Z",
     "iopub.status.busy": "2025-07-30T14:21:37.893301Z",
     "iopub.status.idle": "2025-07-30T14:21:37.900817Z",
     "shell.execute_reply": "2025-07-30T14:21:37.899800Z"
    },
    "papermill": {
     "duration": 0.03818,
     "end_time": "2025-07-30T14:21:37.902392",
     "exception": false,
     "start_time": "2025-07-30T14:21:37.864212",
     "status": "completed"
    },
    "tags": []
   },
   "outputs": [
    {
     "data": {
      "text/plain": [
       "{'universe_id': ['9c06d4b6f1d73722c3d71b7d3b53cfc5'],\n",
       " 'universe_training_size': ['1k'],\n",
       " 'universe_scale': ['scale'],\n",
       " 'universe_model': ['rf'],\n",
       " 'universe_exclude_features': ['nationality-sex'],\n",
       " 'universe_exclude_subgroups': ['keep-all'],\n",
       " 'q_hat': [0.6699999999999999],\n",
       " 'coverage': [0.914034109909709],\n",
       " 'avg_size': [1.151800245234645]}"
      ]
     },
     "execution_count": 59,
     "metadata": {},
     "output_type": "execute_result"
    }
   ],
   "source": [
    "cp_metrics_dict"
   ]
  },
  {
   "cell_type": "code",
   "execution_count": 60,
   "id": "33007efc-14e9-4ec6-97ac-56a455c82265",
   "metadata": {
    "execution": {
     "iopub.execute_input": "2025-07-30T14:21:37.938413Z",
     "iopub.status.busy": "2025-07-30T14:21:37.938072Z",
     "iopub.status.idle": "2025-07-30T14:21:37.943127Z",
     "shell.execute_reply": "2025-07-30T14:21:37.942431Z"
    },
    "papermill": {
     "duration": 0.021433,
     "end_time": "2025-07-30T14:21:37.944435",
     "exception": false,
     "start_time": "2025-07-30T14:21:37.923002",
     "status": "completed"
    },
    "tags": []
   },
   "outputs": [],
   "source": [
    "cp_metrics_df = pd.DataFrame(cp_metrics_dict)"
   ]
  },
  {
   "cell_type": "code",
   "execution_count": 61,
   "id": "db12611b-57b2-4910-b9d0-355adfd6e7bf",
   "metadata": {
    "execution": {
     "iopub.execute_input": "2025-07-30T14:21:37.975629Z",
     "iopub.status.busy": "2025-07-30T14:21:37.975181Z",
     "iopub.status.idle": "2025-07-30T14:21:37.993813Z",
     "shell.execute_reply": "2025-07-30T14:21:37.992886Z"
    },
    "papermill": {
     "duration": 0.034414,
     "end_time": "2025-07-30T14:21:37.995374",
     "exception": false,
     "start_time": "2025-07-30T14:21:37.960960",
     "status": "completed"
    },
    "tags": []
   },
   "outputs": [
    {
     "data": {
      "text/html": [
       "<div>\n",
       "<style scoped>\n",
       "    .dataframe tbody tr th:only-of-type {\n",
       "        vertical-align: middle;\n",
       "    }\n",
       "\n",
       "    .dataframe tbody tr th {\n",
       "        vertical-align: top;\n",
       "    }\n",
       "\n",
       "    .dataframe thead th {\n",
       "        text-align: right;\n",
       "    }\n",
       "</style>\n",
       "<table border=\"1\" class=\"dataframe\">\n",
       "  <thead>\n",
       "    <tr style=\"text-align: right;\">\n",
       "      <th></th>\n",
       "      <th>universe_id</th>\n",
       "      <th>universe_training_size</th>\n",
       "      <th>universe_scale</th>\n",
       "      <th>universe_model</th>\n",
       "      <th>universe_exclude_features</th>\n",
       "      <th>universe_exclude_subgroups</th>\n",
       "      <th>q_hat</th>\n",
       "      <th>coverage</th>\n",
       "      <th>avg_size</th>\n",
       "    </tr>\n",
       "  </thead>\n",
       "  <tbody>\n",
       "    <tr>\n",
       "      <th>0</th>\n",
       "      <td>9c06d4b6f1d73722c3d71b7d3b53cfc5</td>\n",
       "      <td>1k</td>\n",
       "      <td>scale</td>\n",
       "      <td>rf</td>\n",
       "      <td>nationality-sex</td>\n",
       "      <td>keep-all</td>\n",
       "      <td>0.67</td>\n",
       "      <td>0.914034</td>\n",
       "      <td>1.1518</td>\n",
       "    </tr>\n",
       "  </tbody>\n",
       "</table>\n",
       "</div>"
      ],
      "text/plain": [
       "                        universe_id universe_training_size universe_scale  \\\n",
       "0  9c06d4b6f1d73722c3d71b7d3b53cfc5                     1k          scale   \n",
       "\n",
       "  universe_model universe_exclude_features universe_exclude_subgroups  q_hat  \\\n",
       "0             rf           nationality-sex                   keep-all   0.67   \n",
       "\n",
       "   coverage  avg_size  \n",
       "0  0.914034    1.1518  "
      ]
     },
     "execution_count": 61,
     "metadata": {},
     "output_type": "execute_result"
    }
   ],
   "source": [
    "cp_metrics_df"
   ]
  },
  {
   "cell_type": "code",
   "execution_count": 62,
   "id": "b7fbde55-a0a1-47e4-9af6-fe4a17fa8c61",
   "metadata": {
    "execution": {
     "iopub.execute_input": "2025-07-30T14:21:38.048688Z",
     "iopub.status.busy": "2025-07-30T14:21:38.048194Z",
     "iopub.status.idle": "2025-07-30T14:21:38.053390Z",
     "shell.execute_reply": "2025-07-30T14:21:38.052279Z"
    },
    "papermill": {
     "duration": 0.035563,
     "end_time": "2025-07-30T14:21:38.055354",
     "exception": false,
     "start_time": "2025-07-30T14:21:38.019791",
     "status": "completed"
    },
    "tags": []
   },
   "outputs": [],
   "source": [
    "# Conditional Coverage & looking at subgroups"
   ]
  },
  {
   "cell_type": "code",
   "execution_count": 63,
   "id": "027ae886-68dd-4141-96c7-805a5450e1ef",
   "metadata": {
    "execution": {
     "iopub.execute_input": "2025-07-30T14:21:38.111651Z",
     "iopub.status.busy": "2025-07-30T14:21:38.111199Z",
     "iopub.status.idle": "2025-07-30T14:21:38.315244Z",
     "shell.execute_reply": "2025-07-30T14:21:38.314462Z"
    },
    "papermill": {
     "duration": 0.235297,
     "end_time": "2025-07-30T14:21:38.316796",
     "exception": false,
     "start_time": "2025-07-30T14:21:38.081499",
     "status": "completed"
    },
    "tags": []
   },
   "outputs": [],
   "source": [
    "from fairness_multiverse.conformal import build_cp_groups\n",
    "\n",
    "cp_groups_df = build_cp_groups(pred_sets, y_true, X_test.index, org_test)\n",
    "#needs universe_id and setting"
   ]
  },
  {
   "cell_type": "code",
   "execution_count": 64,
   "id": "01d5802c-663a-4d1f-9d69-e036faaffbf7",
   "metadata": {
    "execution": {
     "iopub.execute_input": "2025-07-30T14:21:38.345521Z",
     "iopub.status.busy": "2025-07-30T14:21:38.345021Z",
     "iopub.status.idle": "2025-07-30T14:21:38.349544Z",
     "shell.execute_reply": "2025-07-30T14:21:38.348765Z"
    },
    "papermill": {
     "duration": 0.020146,
     "end_time": "2025-07-30T14:21:38.350909",
     "exception": false,
     "start_time": "2025-07-30T14:21:38.330763",
     "status": "completed"
    },
    "tags": []
   },
   "outputs": [],
   "source": [
    "#delete\n",
    "#cp_groups_df"
   ]
  },
  {
   "cell_type": "code",
   "execution_count": 65,
   "id": "fa424af1-d1eb-443d-b717-2d279ada8408",
   "metadata": {
    "execution": {
     "iopub.execute_input": "2025-07-30T14:21:38.380468Z",
     "iopub.status.busy": "2025-07-30T14:21:38.379903Z",
     "iopub.status.idle": "2025-07-30T14:21:38.384118Z",
     "shell.execute_reply": "2025-07-30T14:21:38.383363Z"
    },
    "papermill": {
     "duration": 0.020328,
     "end_time": "2025-07-30T14:21:38.385416",
     "exception": false,
     "start_time": "2025-07-30T14:21:38.365088",
     "status": "completed"
    },
    "tags": []
   },
   "outputs": [],
   "source": [
    "#delete\n",
    "#percentage = (cp_groups_df['nongerman_female'] == 1).mean() * 100\n",
    "#print(percentage)\n"
   ]
  },
  {
   "cell_type": "code",
   "execution_count": 66,
   "id": "6cbdab96-b2b2-45af-ad54-d0516db2e28d",
   "metadata": {
    "execution": {
     "iopub.execute_input": "2025-07-30T14:21:38.426587Z",
     "iopub.status.busy": "2025-07-30T14:21:38.426131Z",
     "iopub.status.idle": "2025-07-30T14:21:40.112384Z",
     "shell.execute_reply": "2025-07-30T14:21:40.111355Z"
    },
    "papermill": {
     "duration": 1.714181,
     "end_time": "2025-07-30T14:21:40.114398",
     "exception": false,
     "start_time": "2025-07-30T14:21:38.400217",
     "status": "completed"
    },
    "tags": []
   },
   "outputs": [],
   "source": [
    "# Define covered = 1 if true_label is in the predicted set\n",
    "cp_groups_df['covered'] = cp_groups_df.apply(\n",
    "    lambda r: int(r['true_label'] in r['pred_set']),\n",
    "    axis=1\n",
    ")"
   ]
  },
  {
   "cell_type": "code",
   "execution_count": 67,
   "id": "338ff529-1a6b-4b87-a931-8e4788d52aad",
   "metadata": {
    "execution": {
     "iopub.execute_input": "2025-07-30T14:21:40.178093Z",
     "iopub.status.busy": "2025-07-30T14:21:40.177514Z",
     "iopub.status.idle": "2025-07-30T14:21:40.184288Z",
     "shell.execute_reply": "2025-07-30T14:21:40.183142Z"
    },
    "papermill": {
     "duration": 0.039378,
     "end_time": "2025-07-30T14:21:40.186026",
     "exception": false,
     "start_time": "2025-07-30T14:21:40.146648",
     "status": "completed"
    },
    "tags": []
   },
   "outputs": [],
   "source": [
    "#cp_groups_df"
   ]
  },
  {
   "cell_type": "code",
   "execution_count": 68,
   "id": "90032e27-66df-4540-9169-4e89cfbaa758",
   "metadata": {
    "execution": {
     "iopub.execute_input": "2025-07-30T14:21:40.246776Z",
     "iopub.status.busy": "2025-07-30T14:21:40.245827Z",
     "iopub.status.idle": "2025-07-30T14:21:40.261721Z",
     "shell.execute_reply": "2025-07-30T14:21:40.260849Z"
    },
    "papermill": {
     "duration": 0.04774,
     "end_time": "2025-07-30T14:21:40.263293",
     "exception": false,
     "start_time": "2025-07-30T14:21:40.215553",
     "status": "completed"
    },
    "tags": []
   },
   "outputs": [],
   "source": [
    "subgroups = ['frau1','nongerman','nongerman_male','nongerman_female']\n",
    "\n",
    "# Conditional coverage for subgroup==1\n",
    "cond_coverage = {\n",
    "    g: cp_groups_df.loc[cp_groups_df[g]==1, 'covered'].mean()\n",
    "    for g in subgroups\n",
    "}"
   ]
  },
  {
   "cell_type": "code",
   "execution_count": 69,
   "id": "1e348fb1-b9c3-45bc-ba23-f016827a7e0d",
   "metadata": {
    "execution": {
     "iopub.execute_input": "2025-07-30T14:21:40.316873Z",
     "iopub.status.busy": "2025-07-30T14:21:40.316429Z",
     "iopub.status.idle": "2025-07-30T14:21:40.323515Z",
     "shell.execute_reply": "2025-07-30T14:21:40.322533Z"
    },
    "papermill": {
     "duration": 0.046587,
     "end_time": "2025-07-30T14:21:40.335365",
     "exception": false,
     "start_time": "2025-07-30T14:21:40.288778",
     "status": "completed"
    },
    "tags": []
   },
   "outputs": [
    {
     "data": {
      "text/plain": [
       "{'frau1': 0.9102304892842701,\n",
       " 'nongerman': 0.9102340986919666,\n",
       " 'nongerman_male': 0.9259659551472575,\n",
       " 'nongerman_female': 0.8842026825633383}"
      ]
     },
     "execution_count": 69,
     "metadata": {},
     "output_type": "execute_result"
    }
   ],
   "source": [
    "cond_coverage"
   ]
  },
  {
   "cell_type": "code",
   "execution_count": 70,
   "id": "f5093324-c3dd-4d63-bc4c-8d945e5c8bbb",
   "metadata": {
    "execution": {
     "iopub.execute_input": "2025-07-30T14:21:40.393844Z",
     "iopub.status.busy": "2025-07-30T14:21:40.392930Z",
     "iopub.status.idle": "2025-07-30T14:21:40.401074Z",
     "shell.execute_reply": "2025-07-30T14:21:40.399961Z"
    },
    "papermill": {
     "duration": 0.03952,
     "end_time": "2025-07-30T14:21:40.402828",
     "exception": false,
     "start_time": "2025-07-30T14:21:40.363308",
     "status": "completed"
    },
    "tags": []
   },
   "outputs": [],
   "source": [
    "for subgroup, cov in cond_coverage.items():\n",
    "    cp_metrics_df[f\"cov_{subgroup}\"] = cov"
   ]
  },
  {
   "cell_type": "code",
   "execution_count": 71,
   "id": "6e872e10-dbe5-49e8-b554-5030c98ff75d",
   "metadata": {
    "execution": {
     "iopub.execute_input": "2025-07-30T14:21:40.459927Z",
     "iopub.status.busy": "2025-07-30T14:21:40.459504Z",
     "iopub.status.idle": "2025-07-30T14:21:40.480697Z",
     "shell.execute_reply": "2025-07-30T14:21:40.479235Z"
    },
    "papermill": {
     "duration": 0.050061,
     "end_time": "2025-07-30T14:21:40.483056",
     "exception": false,
     "start_time": "2025-07-30T14:21:40.432995",
     "status": "completed"
    },
    "tags": []
   },
   "outputs": [
    {
     "data": {
      "text/html": [
       "<div>\n",
       "<style scoped>\n",
       "    .dataframe tbody tr th:only-of-type {\n",
       "        vertical-align: middle;\n",
       "    }\n",
       "\n",
       "    .dataframe tbody tr th {\n",
       "        vertical-align: top;\n",
       "    }\n",
       "\n",
       "    .dataframe thead th {\n",
       "        text-align: right;\n",
       "    }\n",
       "</style>\n",
       "<table border=\"1\" class=\"dataframe\">\n",
       "  <thead>\n",
       "    <tr style=\"text-align: right;\">\n",
       "      <th></th>\n",
       "      <th>universe_id</th>\n",
       "      <th>universe_training_size</th>\n",
       "      <th>universe_scale</th>\n",
       "      <th>universe_model</th>\n",
       "      <th>universe_exclude_features</th>\n",
       "      <th>universe_exclude_subgroups</th>\n",
       "      <th>q_hat</th>\n",
       "      <th>coverage</th>\n",
       "      <th>avg_size</th>\n",
       "      <th>cov_frau1</th>\n",
       "      <th>cov_nongerman</th>\n",
       "      <th>cov_nongerman_male</th>\n",
       "      <th>cov_nongerman_female</th>\n",
       "    </tr>\n",
       "  </thead>\n",
       "  <tbody>\n",
       "    <tr>\n",
       "      <th>0</th>\n",
       "      <td>9c06d4b6f1d73722c3d71b7d3b53cfc5</td>\n",
       "      <td>1k</td>\n",
       "      <td>scale</td>\n",
       "      <td>rf</td>\n",
       "      <td>nationality-sex</td>\n",
       "      <td>keep-all</td>\n",
       "      <td>0.67</td>\n",
       "      <td>0.914034</td>\n",
       "      <td>1.1518</td>\n",
       "      <td>0.91023</td>\n",
       "      <td>0.910234</td>\n",
       "      <td>0.925966</td>\n",
       "      <td>0.884203</td>\n",
       "    </tr>\n",
       "  </tbody>\n",
       "</table>\n",
       "</div>"
      ],
      "text/plain": [
       "                        universe_id universe_training_size universe_scale  \\\n",
       "0  9c06d4b6f1d73722c3d71b7d3b53cfc5                     1k          scale   \n",
       "\n",
       "  universe_model universe_exclude_features universe_exclude_subgroups  q_hat  \\\n",
       "0             rf           nationality-sex                   keep-all   0.67   \n",
       "\n",
       "   coverage  avg_size  cov_frau1  cov_nongerman  cov_nongerman_male  \\\n",
       "0  0.914034    1.1518    0.91023       0.910234            0.925966   \n",
       "\n",
       "   cov_nongerman_female  \n",
       "0              0.884203  "
      ]
     },
     "execution_count": 71,
     "metadata": {},
     "output_type": "execute_result"
    }
   ],
   "source": [
    "cp_metrics_df"
   ]
  },
  {
   "cell_type": "markdown",
   "id": "33774451",
   "metadata": {
    "papermill": {
     "duration": 0.028189,
     "end_time": "2025-07-30T14:21:40.540703",
     "exception": false,
     "start_time": "2025-07-30T14:21:40.512514",
     "status": "completed"
    },
    "tags": []
   },
   "source": [
    "# (Fairness) Metrics"
   ]
  },
  {
   "cell_type": "code",
   "execution_count": 72,
   "id": "debc5d62",
   "metadata": {
    "execution": {
     "iopub.execute_input": "2025-07-30T14:21:40.601373Z",
     "iopub.status.busy": "2025-07-30T14:21:40.600854Z",
     "iopub.status.idle": "2025-07-30T14:21:40.620661Z",
     "shell.execute_reply": "2025-07-30T14:21:40.619915Z"
    },
    "papermill": {
     "duration": 0.053244,
     "end_time": "2025-07-30T14:21:40.622470",
     "exception": false,
     "start_time": "2025-07-30T14:21:40.569226",
     "status": "completed"
    },
    "tags": []
   },
   "outputs": [],
   "source": [
    "# do I need to include maxdeutsch1.missing?\n",
    "\n",
    "import numpy as np\n",
    "\n",
    "colname_to_bin = \"maxdeutsch1\"\n",
    "majority_value = org_train[colname_to_bin].mode()[0]\n",
    "\n",
    "org_test[\"majmin\"] = np.where(org_test[colname_to_bin] == majority_value, \"majority\", \"minority\")"
   ]
  },
  {
   "cell_type": "code",
   "execution_count": 73,
   "id": "06a50de5",
   "metadata": {
    "execution": {
     "iopub.execute_input": "2025-07-30T14:21:40.701960Z",
     "iopub.status.busy": "2025-07-30T14:21:40.701344Z",
     "iopub.status.idle": "2025-07-30T14:21:43.617548Z",
     "shell.execute_reply": "2025-07-30T14:21:43.616526Z"
    },
    "papermill": {
     "duration": 2.961759,
     "end_time": "2025-07-30T14:21:43.619737",
     "exception": false,
     "start_time": "2025-07-30T14:21:40.657978",
     "status": "completed"
    },
    "tags": []
   },
   "outputs": [],
   "source": [
    "example_universe = universe.copy()\n",
    "example_universe[\"cutoff\"] = example_universe[\"cutoff\"][0]\n",
    "example_universe[\"eval_fairness_grouping\"] = example_universe[\"eval_fairness_grouping\"][0]\n",
    "fairness_dict, metric_frame = universe_analysis.compute_metrics(\n",
    "    example_universe,\n",
    "    y_pred_prob=probs_test,\n",
    "    y_test=y_true,\n",
    "    org_test=org_test,\n",
    ")"
   ]
  },
  {
   "cell_type": "markdown",
   "id": "f95d4e02",
   "metadata": {
    "papermill": {
     "duration": 0.027236,
     "end_time": "2025-07-30T14:21:43.712346",
     "exception": false,
     "start_time": "2025-07-30T14:21:43.685110",
     "status": "completed"
    },
    "tags": []
   },
   "source": [
    "# Overall"
   ]
  },
  {
   "cell_type": "markdown",
   "id": "bdee4871",
   "metadata": {
    "papermill": {
     "duration": 0.029055,
     "end_time": "2025-07-30T14:21:43.771753",
     "exception": false,
     "start_time": "2025-07-30T14:21:43.742698",
     "status": "completed"
    },
    "tags": []
   },
   "source": [
    "Fairness\n",
    "Main fairness target: Equalized Odds. Seems to be a better fit than equal opportunity, since we're not only interested in Y = 1. Seems to be a better fit than demographic parity, since we also care about accuracy, not just equal distribution of preds.\n",
    "\n",
    "Pick column for computation of fairness metrics\n",
    "\n",
    "Performance\n",
    "Overall performance measures, most interesting in relation to the measures split by group below"
   ]
  },
  {
   "cell_type": "code",
   "execution_count": 74,
   "id": "c4e067c6",
   "metadata": {
    "execution": {
     "iopub.execute_input": "2025-07-30T14:21:43.834009Z",
     "iopub.status.busy": "2025-07-30T14:21:43.833009Z",
     "iopub.status.idle": "2025-07-30T14:21:43.842539Z",
     "shell.execute_reply": "2025-07-30T14:21:43.841365Z"
    },
    "papermill": {
     "duration": 0.044527,
     "end_time": "2025-07-30T14:21:43.844429",
     "exception": false,
     "start_time": "2025-07-30T14:21:43.799902",
     "status": "completed"
    },
    "tags": []
   },
   "outputs": [
    {
     "data": {
      "text/plain": [
       "accuracy                   0.216665\n",
       "balanced accuracy          0.536986\n",
       "f1                         0.240694\n",
       "precision                  0.137437\n",
       "false positive rate        0.893877\n",
       "false negative rate        0.032152\n",
       "selection rate             0.903366\n",
       "count                  89710.000000\n",
       "dtype: float64"
      ]
     },
     "execution_count": 74,
     "metadata": {},
     "output_type": "execute_result"
    }
   ],
   "source": [
    "metric_frame.overall"
   ]
  },
  {
   "cell_type": "markdown",
   "id": "e968fe9d",
   "metadata": {
    "papermill": {
     "duration": 0.030128,
     "end_time": "2025-07-30T14:21:43.909130",
     "exception": false,
     "start_time": "2025-07-30T14:21:43.879002",
     "status": "completed"
    },
    "tags": []
   },
   "source": [
    "By Group"
   ]
  },
  {
   "cell_type": "code",
   "execution_count": 75,
   "id": "ec325bce",
   "metadata": {
    "execution": {
     "iopub.execute_input": "2025-07-30T14:21:43.985977Z",
     "iopub.status.busy": "2025-07-30T14:21:43.985531Z",
     "iopub.status.idle": "2025-07-30T14:21:44.074096Z",
     "shell.execute_reply": "2025-07-30T14:21:44.072120Z"
    },
    "papermill": {
     "duration": 0.121995,
     "end_time": "2025-07-30T14:21:44.076377",
     "exception": false,
     "start_time": "2025-07-30T14:21:43.954382",
     "status": "completed"
    },
    "tags": []
   },
   "outputs": [
    {
     "data": {
      "text/html": [
       "<div>\n",
       "<style scoped>\n",
       "    .dataframe tbody tr th:only-of-type {\n",
       "        vertical-align: middle;\n",
       "    }\n",
       "\n",
       "    .dataframe tbody tr th {\n",
       "        vertical-align: top;\n",
       "    }\n",
       "\n",
       "    .dataframe thead th {\n",
       "        text-align: right;\n",
       "    }\n",
       "</style>\n",
       "<table border=\"1\" class=\"dataframe\">\n",
       "  <thead>\n",
       "    <tr style=\"text-align: right;\">\n",
       "      <th></th>\n",
       "      <th>accuracy</th>\n",
       "      <th>balanced accuracy</th>\n",
       "      <th>f1</th>\n",
       "      <th>precision</th>\n",
       "      <th>false positive rate</th>\n",
       "      <th>false negative rate</th>\n",
       "      <th>selection rate</th>\n",
       "      <th>count</th>\n",
       "    </tr>\n",
       "    <tr>\n",
       "      <th>majmin</th>\n",
       "      <th></th>\n",
       "      <th></th>\n",
       "      <th></th>\n",
       "      <th></th>\n",
       "      <th></th>\n",
       "      <th></th>\n",
       "      <th></th>\n",
       "      <th></th>\n",
       "    </tr>\n",
       "  </thead>\n",
       "  <tbody>\n",
       "    <tr>\n",
       "      <th>majority</th>\n",
       "      <td>0.209961</td>\n",
       "      <td>0.539271</td>\n",
       "      <td>0.248187</td>\n",
       "      <td>0.141942</td>\n",
       "      <td>0.908329</td>\n",
       "      <td>0.013129</td>\n",
       "      <td>0.918708</td>\n",
       "      <td>69170.0</td>\n",
       "    </tr>\n",
       "    <tr>\n",
       "      <th>minority</th>\n",
       "      <td>0.239241</td>\n",
       "      <td>0.524144</td>\n",
       "      <td>0.213272</td>\n",
       "      <td>0.121070</td>\n",
       "      <td>0.846137</td>\n",
       "      <td>0.105574</td>\n",
       "      <td>0.851704</td>\n",
       "      <td>20540.0</td>\n",
       "    </tr>\n",
       "  </tbody>\n",
       "</table>\n",
       "</div>"
      ],
      "text/plain": [
       "          accuracy  balanced accuracy        f1  precision  \\\n",
       "majmin                                                       \n",
       "majority  0.209961           0.539271  0.248187   0.141942   \n",
       "minority  0.239241           0.524144  0.213272   0.121070   \n",
       "\n",
       "          false positive rate  false negative rate  selection rate    count  \n",
       "majmin                                                                       \n",
       "majority             0.908329             0.013129        0.918708  69170.0  \n",
       "minority             0.846137             0.105574        0.851704  20540.0  "
      ]
     },
     "execution_count": 75,
     "metadata": {},
     "output_type": "execute_result"
    }
   ],
   "source": [
    "metric_frame.by_group"
   ]
  },
  {
   "cell_type": "code",
   "execution_count": 76,
   "id": "a9ddbe63",
   "metadata": {
    "execution": {
     "iopub.execute_input": "2025-07-30T14:21:44.232648Z",
     "iopub.status.busy": "2025-07-30T14:21:44.232256Z",
     "iopub.status.idle": "2025-07-30T14:21:47.380589Z",
     "shell.execute_reply": "2025-07-30T14:21:47.379842Z"
    },
    "papermill": {
     "duration": 3.201318,
     "end_time": "2025-07-30T14:21:47.381903",
     "exception": false,
     "start_time": "2025-07-30T14:21:44.180585",
     "status": "completed"
    },
    "tags": []
   },
   "outputs": [
    {
     "data": {
      "text/plain": [
       "array([[<Axes: title={'center': 'accuracy'}, xlabel='majmin'>,\n",
       "        <Axes: title={'center': 'balanced accuracy'}, xlabel='majmin'>,\n",
       "        <Axes: title={'center': 'f1'}, xlabel='majmin'>],\n",
       "       [<Axes: title={'center': 'precision'}, xlabel='majmin'>,\n",
       "        <Axes: title={'center': 'false positive rate'}, xlabel='majmin'>,\n",
       "        <Axes: title={'center': 'false negative rate'}, xlabel='majmin'>],\n",
       "       [<Axes: title={'center': 'selection rate'}, xlabel='majmin'>,\n",
       "        <Axes: title={'center': 'count'}, xlabel='majmin'>,\n",
       "        <Axes: xlabel='majmin'>]], dtype=object)"
      ]
     },
     "execution_count": 76,
     "metadata": {},
     "output_type": "execute_result"
    },
    {
     "data": {
      "image/png": "[encoded data removed]",
      "text/plain": [
       "<Figure size 1200x800 with 9 Axes>"
      ]
     },
     "metadata": {},
     "output_type": "display_data"
    }
   ],
   "source": [
    "# In a graphic\n",
    "metric_frame.by_group.plot.bar(\n",
    "    subplots=True,\n",
    "    layout=[3, 3],\n",
    "    legend=False,\n",
    "    figsize=[12, 8],\n",
    "    title=\"Show all metrics\",\n",
    ")"
   ]
  },
  {
   "cell_type": "markdown",
   "id": "f57a0bac",
   "metadata": {
    "papermill": {
     "duration": 0.021106,
     "end_time": "2025-07-30T14:21:47.419343",
     "exception": false,
     "start_time": "2025-07-30T14:21:47.398237",
     "status": "completed"
    },
    "tags": []
   },
   "source": [
    "# Final Output"
   ]
  },
  {
   "cell_type": "code",
   "execution_count": 77,
   "id": "96d280a3",
   "metadata": {
    "execution": {
     "iopub.execute_input": "2025-07-30T14:21:47.455198Z",
     "iopub.status.busy": "2025-07-30T14:21:47.454580Z",
     "iopub.status.idle": "2025-07-30T14:21:47.463274Z",
     "shell.execute_reply": "2025-07-30T14:21:47.462421Z"
    },
    "papermill": {
     "duration": 0.029129,
     "end_time": "2025-07-30T14:21:47.465149",
     "exception": false,
     "start_time": "2025-07-30T14:21:47.436020",
     "status": "completed"
    },
    "tags": []
   },
   "outputs": [
    {
     "data": {
      "text/plain": [
       "4"
      ]
     },
     "execution_count": 77,
     "metadata": {},
     "output_type": "execute_result"
    }
   ],
   "source": [
    "sub_universes = universe_analysis.generate_sub_universes()\n",
    "len(sub_universes)"
   ]
  },
  {
   "cell_type": "code",
   "execution_count": 78,
   "id": "92adf7ba",
   "metadata": {
    "execution": {
     "iopub.execute_input": "2025-07-30T14:21:47.551141Z",
     "iopub.status.busy": "2025-07-30T14:21:47.550677Z",
     "iopub.status.idle": "2025-07-30T14:21:47.556023Z",
     "shell.execute_reply": "2025-07-30T14:21:47.555209Z"
    },
    "papermill": {
     "duration": 0.049097,
     "end_time": "2025-07-30T14:21:47.571368",
     "exception": false,
     "start_time": "2025-07-30T14:21:47.522271",
     "status": "completed"
    },
    "tags": []
   },
   "outputs": [],
   "source": [
    "def filter_sub_universe_data(sub_universe, org_test):\n",
    "    # Keep all rows — no filtering\n",
    "    keep_rows_mask = np.ones(org_test.shape[0], dtype=bool)\n",
    "\n",
    "    print(f\"[INFO] Keeping all rows: {keep_rows_mask.sum()} rows retained.\")\n",
    "    return keep_rows_mask"
   ]
  },
  {
   "cell_type": "code",
   "execution_count": 79,
   "id": "4a759155",
   "metadata": {
    "execution": {
     "iopub.execute_input": "2025-07-30T14:21:47.626445Z",
     "iopub.status.busy": "2025-07-30T14:21:47.626059Z",
     "iopub.status.idle": "2025-07-30T14:21:58.516792Z",
     "shell.execute_reply": "2025-07-30T14:21:58.516100Z"
    },
    "papermill": {
     "duration": 10.923648,
     "end_time": "2025-07-30T14:21:58.518066",
     "exception": false,
     "start_time": "2025-07-30T14:21:47.594418",
     "status": "completed"
    },
    "tags": []
   },
   "outputs": [
    {
     "name": "stdout",
     "output_type": "stream",
     "text": [
      "Stopping execution_time clock.\n",
      "[INFO] Keeping all rows: 89710 rows retained.\n"
     ]
    },
    {
     "name": "stdout",
     "output_type": "stream",
     "text": [
      "[INFO] Keeping all rows: 89710 rows retained.\n"
     ]
    },
    {
     "name": "stdout",
     "output_type": "stream",
     "text": [
      "[INFO] Keeping all rows: 89710 rows retained.\n"
     ]
    },
    {
     "name": "stdout",
     "output_type": "stream",
     "text": [
      "[INFO] Keeping all rows: 89710 rows retained.\n"
     ]
    },
    {
     "data": {
      "text/html": [
       "<div>\n",
       "<style scoped>\n",
       "    .dataframe tbody tr th:only-of-type {\n",
       "        vertical-align: middle;\n",
       "    }\n",
       "\n",
       "    .dataframe tbody tr th {\n",
       "        vertical-align: top;\n",
       "    }\n",
       "\n",
       "    .dataframe thead th {\n",
       "        text-align: right;\n",
       "    }\n",
       "</style>\n",
       "<table border=\"1\" class=\"dataframe\">\n",
       "  <thead>\n",
       "    <tr style=\"text-align: right;\">\n",
       "      <th></th>\n",
       "      <th>run_no</th>\n",
       "      <th>universe_id</th>\n",
       "      <th>universe_settings</th>\n",
       "      <th>execution_time</th>\n",
       "      <th>test_size_n</th>\n",
       "      <th>test_size_frac</th>\n",
       "      <th>fair_main_equalized_odds_difference</th>\n",
       "      <th>fair_main_equalized_odds_ratio</th>\n",
       "      <th>fair_main_demographic_parity_difference</th>\n",
       "      <th>fair_main_demographic_parity_ratio</th>\n",
       "      <th>...</th>\n",
       "      <th>perf_grp_precision_0</th>\n",
       "      <th>perf_grp_precision_1</th>\n",
       "      <th>perf_grp_false positive rate_0</th>\n",
       "      <th>perf_grp_false positive rate_1</th>\n",
       "      <th>perf_grp_false negative rate_0</th>\n",
       "      <th>perf_grp_false negative rate_1</th>\n",
       "      <th>perf_grp_selection rate_0</th>\n",
       "      <th>perf_grp_selection rate_1</th>\n",
       "      <th>perf_grp_count_0</th>\n",
       "      <th>perf_grp_count_1</th>\n",
       "    </tr>\n",
       "  </thead>\n",
       "  <tbody>\n",
       "    <tr>\n",
       "      <th>0</th>\n",
       "      <td>12</td>\n",
       "      <td>9c06d4b6f1d73722c3d71b7d3b53cfc5</td>\n",
       "      <td>{\"cutoff\": \"quantile_0.1\", \"eval_fairness_grou...</td>\n",
       "      <td>30.406517</td>\n",
       "      <td>89710</td>\n",
       "      <td>1.0</td>\n",
       "      <td>0.092445</td>\n",
       "      <td>0.906325</td>\n",
       "      <td>0.067004</td>\n",
       "      <td>0.927068</td>\n",
       "      <td>...</td>\n",
       "      <td>NaN</td>\n",
       "      <td>NaN</td>\n",
       "      <td>NaN</td>\n",
       "      <td>NaN</td>\n",
       "      <td>NaN</td>\n",
       "      <td>NaN</td>\n",
       "      <td>NaN</td>\n",
       "      <td>NaN</td>\n",
       "      <td>NaN</td>\n",
       "      <td>NaN</td>\n",
       "    </tr>\n",
       "    <tr>\n",
       "      <th>0</th>\n",
       "      <td>12</td>\n",
       "      <td>9c06d4b6f1d73722c3d71b7d3b53cfc5</td>\n",
       "      <td>{\"cutoff\": \"quantile_0.1\", \"eval_fairness_grou...</td>\n",
       "      <td>30.406517</td>\n",
       "      <td>89710</td>\n",
       "      <td>1.0</td>\n",
       "      <td>0.092445</td>\n",
       "      <td>0.906325</td>\n",
       "      <td>0.067004</td>\n",
       "      <td>0.927068</td>\n",
       "      <td>...</td>\n",
       "      <td>0.121070</td>\n",
       "      <td>0.141942</td>\n",
       "      <td>0.846137</td>\n",
       "      <td>0.908329</td>\n",
       "      <td>0.105574</td>\n",
       "      <td>0.013129</td>\n",
       "      <td>0.851704</td>\n",
       "      <td>0.918708</td>\n",
       "      <td>20540.0</td>\n",
       "      <td>69170.0</td>\n",
       "    </tr>\n",
       "    <tr>\n",
       "      <th>0</th>\n",
       "      <td>12</td>\n",
       "      <td>9c06d4b6f1d73722c3d71b7d3b53cfc5</td>\n",
       "      <td>{\"cutoff\": \"quantile_0.25\", \"eval_fairness_gro...</td>\n",
       "      <td>30.406517</td>\n",
       "      <td>89710</td>\n",
       "      <td>1.0</td>\n",
       "      <td>0.115429</td>\n",
       "      <td>0.878858</td>\n",
       "      <td>0.069381</td>\n",
       "      <td>0.913485</td>\n",
       "      <td>...</td>\n",
       "      <td>NaN</td>\n",
       "      <td>NaN</td>\n",
       "      <td>NaN</td>\n",
       "      <td>NaN</td>\n",
       "      <td>NaN</td>\n",
       "      <td>NaN</td>\n",
       "      <td>NaN</td>\n",
       "      <td>NaN</td>\n",
       "      <td>NaN</td>\n",
       "      <td>NaN</td>\n",
       "    </tr>\n",
       "    <tr>\n",
       "      <th>0</th>\n",
       "      <td>12</td>\n",
       "      <td>9c06d4b6f1d73722c3d71b7d3b53cfc5</td>\n",
       "      <td>{\"cutoff\": \"quantile_0.25\", \"eval_fairness_gro...</td>\n",
       "      <td>30.406517</td>\n",
       "      <td>89710</td>\n",
       "      <td>1.0</td>\n",
       "      <td>0.115429</td>\n",
       "      <td>0.878858</td>\n",
       "      <td>0.069381</td>\n",
       "      <td>0.913485</td>\n",
       "      <td>...</td>\n",
       "      <td>0.131787</td>\n",
       "      <td>0.157001</td>\n",
       "      <td>0.718908</td>\n",
       "      <td>0.778977</td>\n",
       "      <td>0.162584</td>\n",
       "      <td>0.047155</td>\n",
       "      <td>0.732571</td>\n",
       "      <td>0.801952</td>\n",
       "      <td>20540.0</td>\n",
       "      <td>69170.0</td>\n",
       "    </tr>\n",
       "  </tbody>\n",
       "</table>\n",
       "<p>4 rows × 50 columns</p>\n",
       "</div>"
      ],
      "text/plain": [
       "  run_no                       universe_id  \\\n",
       "0     12  9c06d4b6f1d73722c3d71b7d3b53cfc5   \n",
       "0     12  9c06d4b6f1d73722c3d71b7d3b53cfc5   \n",
       "0     12  9c06d4b6f1d73722c3d71b7d3b53cfc5   \n",
       "0     12  9c06d4b6f1d73722c3d71b7d3b53cfc5   \n",
       "\n",
       "                                   universe_settings  execution_time  \\\n",
       "0  {\"cutoff\": \"quantile_0.1\", \"eval_fairness_grou...       30.406517   \n",
       "0  {\"cutoff\": \"quantile_0.1\", \"eval_fairness_grou...       30.406517   \n",
       "0  {\"cutoff\": \"quantile_0.25\", \"eval_fairness_gro...       30.406517   \n",
       "0  {\"cutoff\": \"quantile_0.25\", \"eval_fairness_gro...       30.406517   \n",
       "\n",
       "   test_size_n  test_size_frac  fair_main_equalized_odds_difference  \\\n",
       "0        89710             1.0                             0.092445   \n",
       "0        89710             1.0                             0.092445   \n",
       "0        89710             1.0                             0.115429   \n",
       "0        89710             1.0                             0.115429   \n",
       "\n",
       "   fair_main_equalized_odds_ratio  fair_main_demographic_parity_difference  \\\n",
       "0                        0.906325                                 0.067004   \n",
       "0                        0.906325                                 0.067004   \n",
       "0                        0.878858                                 0.069381   \n",
       "0                        0.878858                                 0.069381   \n",
       "\n",
       "   fair_main_demographic_parity_ratio  ...  perf_grp_precision_0  \\\n",
       "0                            0.927068  ...                   NaN   \n",
       "0                            0.927068  ...              0.121070   \n",
       "0                            0.913485  ...                   NaN   \n",
       "0                            0.913485  ...              0.131787   \n",
       "\n",
       "   perf_grp_precision_1  perf_grp_false positive rate_0  \\\n",
       "0                   NaN                             NaN   \n",
       "0              0.141942                        0.846137   \n",
       "0                   NaN                             NaN   \n",
       "0              0.157001                        0.718908   \n",
       "\n",
       "   perf_grp_false positive rate_1  perf_grp_false negative rate_0  \\\n",
       "0                             NaN                             NaN   \n",
       "0                        0.908329                        0.105574   \n",
       "0                             NaN                             NaN   \n",
       "0                        0.778977                        0.162584   \n",
       "\n",
       "   perf_grp_false negative rate_1  perf_grp_selection rate_0  \\\n",
       "0                             NaN                        NaN   \n",
       "0                        0.013129                   0.851704   \n",
       "0                             NaN                        NaN   \n",
       "0                        0.047155                   0.732571   \n",
       "\n",
       "   perf_grp_selection rate_1  perf_grp_count_0  perf_grp_count_1  \n",
       "0                        NaN               NaN               NaN  \n",
       "0                   0.918708           20540.0           69170.0  \n",
       "0                        NaN               NaN               NaN  \n",
       "0                   0.801952           20540.0           69170.0  \n",
       "\n",
       "[4 rows x 50 columns]"
      ]
     },
     "execution_count": 79,
     "metadata": {},
     "output_type": "execute_result"
    }
   ],
   "source": [
    "final_output = universe_analysis.generate_final_output(\n",
    "    y_pred_prob=probs_test,\n",
    "    y_test=y_true,\n",
    "    org_test=org_test,\n",
    "    filter_data=filter_sub_universe_data,\n",
    "    cp_metrics_df=cp_metrics_df,\n",
    "    save=True,\n",
    ")\n",
    "final_output"
   ]
  },
  {
   "cell_type": "code",
   "execution_count": null,
   "id": "721ff514-cb11-46f8-b6fc-50392f74b5cb",
   "metadata": {
    "papermill": {
     "duration": 0.019741,
     "end_time": "2025-07-30T14:21:58.556068",
     "exception": false,
     "start_time": "2025-07-30T14:21:58.536327",
     "status": "completed"
    },
    "tags": []
   },
   "outputs": [],
   "source": []
  }
 ],
 "metadata": {
  "celltoolbar": "Tags",
  "kernelspec": {
   "display_name": "Python (CMA Fairness)",
   "language": "python",
   "name": "cma_fair_env"
  },
  "language_info": {
   "codemirror_mode": {
    "name": "ipython",
    "version": 3
   },
   "file_extension": ".py",
   "mimetype": "text/x-python",
   "name": "python",
   "nbconvert_exporter": "python",
   "pygments_lexer": "ipython3",
   "version": "3.10.12"
  },
  "papermill": {
   "default_parameters": {},
   "duration": 51.88545,
   "end_time": "2025-07-30T14:21:59.392584",
   "environment_variables": {},
   "exception": null,
   "input_path": "universe_analysis.ipynb",
   "output_path": "output/runs/12/notebooks/m_12-9c06d4b6f1d73722c3d71b7d3b53cfc5.ipynb",
   "parameters": {
    "output_dir": "output",
    "run_no": "12",
    "seed": "2023",
    "universe": "{\"cutoff\": [\"quantile_0.1\", \"quantile_0.25\"], \"eval_fairness_grouping\": [\"majority-minority\", \"nationality-all\"], \"exclude_features\": \"nationality-sex\", \"exclude_subgroups\": \"keep-all\", \"model\": \"rf\", \"scale\": \"scale\", \"training_size\": \"1k\", \"training_year\": \"2014\"}",
    "universe_id": "9c06d4b6f1d73722c3d71b7d3b53cfc5"
   },
   "start_time": "2025-07-30T14:21:07.507134",
   "version": "2.6.0"
  }
 },
 "nbformat": 4,
 "nbformat_minor": 5
}