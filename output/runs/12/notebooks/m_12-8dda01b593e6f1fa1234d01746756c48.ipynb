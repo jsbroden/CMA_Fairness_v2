{
 "cells": [
  {
   "cell_type": "code",
   "execution_count": 1,
   "id": "f159f837-637b-42ba-96b5-ec9a68c44524",
   "metadata": {
    "execution": {
     "iopub.execute_input": "2025-07-30T13:49:23.045369Z",
     "iopub.status.busy": "2025-07-30T13:49:23.044883Z",
     "iopub.status.idle": "2025-07-30T13:49:23.071646Z",
     "shell.execute_reply": "2025-07-30T13:49:23.070909Z"
    },
    "papermill": {
     "duration": 0.050465,
     "end_time": "2025-07-30T13:49:23.076995",
     "exception": false,
     "start_time": "2025-07-30T13:49:23.026530",
     "status": "completed"
    },
    "tags": []
   },
   "outputs": [
    {
     "name": "stdout",
     "output_type": "stream",
     "text": [
      "/dss/dsshome1/0C/ra93lal2/cma/CMA_Fairness_v2\n"
     ]
    },
    {
     "name": "stderr",
     "output_type": "stream",
     "text": [
      "/dss/dsshome1/0C/ra93lal2/.local/share/virtualenvs/CMA_Fairness_v2-3j10GkSs/lib/python3.10/site-packages/IPython/core/magics/osm.py:393: UserWarning: This is now an optional IPython functionality, using bookmarks requires you to install the `pickleshare` library.\n",
      "  bkms = self.shell.db.get('bookmarks', {})\n",
      "/dss/dsshome1/0C/ra93lal2/.local/share/virtualenvs/CMA_Fairness_v2-3j10GkSs/lib/python3.10/site-packages/IPython/core/magics/osm.py:417: UserWarning: This is now an optional IPython functionality, setting dhist requires you to install the `pickleshare` library.\n",
      "  self.shell.db['dhist'] = compress_dhist(dhist)[-100:]\n"
     ]
    }
   ],
   "source": [
    "%cd ~/cma/CMA_Fairness_v2"
   ]
  },
  {
   "cell_type": "markdown",
   "id": "de2603b9",
   "metadata": {
    "papermill": {
     "duration": 0.020243,
     "end_time": "2025-07-30T13:49:23.135043",
     "exception": false,
     "start_time": "2025-07-30T13:49:23.114800",
     "status": "completed"
    },
    "tags": []
   },
   "source": [
    "The following cell holds the definition of our parameters, these values can be overriden by rendering the with e.g. the following command:\n",
    "\n",
    "papermill -p alpha 0.2 -p ratio 0.3 universe_analysis.ipynb output/test_run.ipynb"
   ]
  },
  {
   "cell_type": "code",
   "execution_count": 2,
   "id": "a80968a0-40bb-4fa9-85ef-2d5eefb01975",
   "metadata": {
    "execution": {
     "iopub.execute_input": "2025-07-30T13:49:23.175952Z",
     "iopub.status.busy": "2025-07-30T13:49:23.175456Z",
     "iopub.status.idle": "2025-07-30T13:49:23.180889Z",
     "shell.execute_reply": "2025-07-30T13:49:23.179944Z"
    },
    "papermill": {
     "duration": 0.026666,
     "end_time": "2025-07-30T13:49:23.182740",
     "exception": false,
     "start_time": "2025-07-30T13:49:23.156074",
     "status": "completed"
    },
    "tags": []
   },
   "outputs": [
    {
     "name": "stdout",
     "output_type": "stream",
     "text": [
      "Current working directory: /dss/dsshome1/0C/ra93lal2/cma/CMA_Fairness_v2\n"
     ]
    }
   ],
   "source": [
    "import os\n",
    "print(\"Current working directory:\", os.getcwd())"
   ]
  },
  {
   "cell_type": "code",
   "execution_count": 3,
   "id": "2dce4c03",
   "metadata": {
    "execution": {
     "iopub.execute_input": "2025-07-30T13:49:23.227842Z",
     "iopub.status.busy": "2025-07-30T13:49:23.227392Z",
     "iopub.status.idle": "2025-07-30T13:49:23.234122Z",
     "shell.execute_reply": "2025-07-30T13:49:23.233256Z"
    },
    "papermill": {
     "duration": 0.031783,
     "end_time": "2025-07-30T13:49:23.236283",
     "exception": false,
     "start_time": "2025-07-30T13:49:23.204500",
     "status": "completed"
    },
    "tags": [
     "parameters"
    ]
   },
   "outputs": [],
   "source": [
    "run_no = 0\n",
    "universe_id = \"test\"\n",
    "universe = {\n",
    "    \"training_size\": \"25k\", # \"25k\", \"5k\", \"1k\"\n",
    "    \"training_year\": \"2014\", # \"2014\", \"2012_14\", \"2010_14\"\n",
    "    \"scale\": \"scale\", # \"scale\", \"do-not-scale\",\n",
    "    #\"stratify_split\": \"target\", # \"none\", \"target\", \"protected-attribute\", \"both\",\n",
    "    \"model\": \"elasticnet\", # \"logreg\", \"penalized_logreg\", \"rf\", \"gbm\", \"elasticnet\"\n",
    "    \"cutoff\": [\"quantile_0.15\", \"quantile_0.30\"],\n",
    "    \"exclude_features\": \"age\", # \"none\", \"nationality\", \"sex\", \"nationality-sex\", \"age\"\n",
    "    \"exclude_subgroups\": \"keep-all\", # \"keep-all\", \"drop-non-german\"\n",
    "    \"eval_fairness_grouping\": [\"majority-minority\", \"nationality-all\"]\n",
    "}\n",
    "\n",
    "output_dir=\"./output\"\n",
    "seed=0"
   ]
  },
  {
   "cell_type": "code",
   "execution_count": 4,
   "id": "2042865f",
   "metadata": {
    "execution": {
     "iopub.execute_input": "2025-07-30T13:49:23.279733Z",
     "iopub.status.busy": "2025-07-30T13:49:23.279324Z",
     "iopub.status.idle": "2025-07-30T13:49:23.284681Z",
     "shell.execute_reply": "2025-07-30T13:49:23.283746Z"
    },
    "papermill": {
     "duration": 0.028424,
     "end_time": "2025-07-30T13:49:23.286233",
     "exception": false,
     "start_time": "2025-07-30T13:49:23.257809",
     "status": "completed"
    },
    "tags": [
     "injected-parameters"
    ]
   },
   "outputs": [],
   "source": [
    "# Parameters\n",
    "universe_id = \"8dda01b593e6f1fa1234d01746756c48\"\n",
    "run_no = \"12\"\n",
    "universe = \"{\\\"cutoff\\\": [\\\"quantile_0.1\\\", \\\"quantile_0.25\\\"], \\\"eval_fairness_grouping\\\": [\\\"majority-minority\\\", \\\"nationality-all\\\"], \\\"exclude_features\\\": \\\"nationality-sex\\\", \\\"exclude_subgroups\\\": \\\"keep-all\\\", \\\"model\\\": \\\"rf\\\", \\\"scale\\\": \\\"do-not-scale\\\", \\\"training_size\\\": \\\"5k\\\", \\\"training_year\\\": \\\"2014\\\"}\"\n",
    "output_dir = \"output\"\n",
    "seed = \"2023\"\n"
   ]
  },
  {
   "cell_type": "code",
   "execution_count": 5,
   "id": "1650acaf",
   "metadata": {
    "execution": {
     "iopub.execute_input": "2025-07-30T13:49:23.328470Z",
     "iopub.status.busy": "2025-07-30T13:49:23.327970Z",
     "iopub.status.idle": "2025-07-30T13:49:23.347912Z",
     "shell.execute_reply": "2025-07-30T13:49:23.346994Z"
    },
    "papermill": {
     "duration": 0.041656,
     "end_time": "2025-07-30T13:49:23.349914",
     "exception": false,
     "start_time": "2025-07-30T13:49:23.308258",
     "status": "completed"
    },
    "tags": []
   },
   "outputs": [],
   "source": [
    "import json\n",
    "# Parse universe into dict if it is passed as a string\n",
    "if isinstance(universe, str):\n",
    "    universe = json.loads(universe)"
   ]
  },
  {
   "cell_type": "code",
   "execution_count": 6,
   "id": "16620c48",
   "metadata": {
    "execution": {
     "iopub.execute_input": "2025-07-30T13:49:23.386248Z",
     "iopub.status.busy": "2025-07-30T13:49:23.385791Z",
     "iopub.status.idle": "2025-07-30T13:49:23.420992Z",
     "shell.execute_reply": "2025-07-30T13:49:23.420109Z"
    },
    "papermill": {
     "duration": 0.059731,
     "end_time": "2025-07-30T13:49:23.423374",
     "exception": false,
     "start_time": "2025-07-30T13:49:23.363643",
     "status": "completed"
    },
    "tags": []
   },
   "outputs": [],
   "source": [
    "# Auto-reload the custom package\n",
    "%load_ext autoreload\n",
    "%autoreload 1\n",
    "%aimport fairness_multiverse"
   ]
  },
  {
   "cell_type": "code",
   "execution_count": 7,
   "id": "01c5c9f3",
   "metadata": {
    "execution": {
     "iopub.execute_input": "2025-07-30T13:49:23.457830Z",
     "iopub.status.busy": "2025-07-30T13:49:23.457075Z",
     "iopub.status.idle": "2025-07-30T13:49:26.361806Z",
     "shell.execute_reply": "2025-07-30T13:49:26.360731Z"
    },
    "papermill": {
     "duration": 2.92168,
     "end_time": "2025-07-30T13:49:26.363845",
     "exception": false,
     "start_time": "2025-07-30T13:49:23.442165",
     "status": "completed"
    },
    "tags": []
   },
   "outputs": [],
   "source": [
    "from fairness_multiverse.universe import UniverseAnalysis\n",
    "\n",
    "universe_analysis = UniverseAnalysis(\n",
    "    run_no = run_no,\n",
    "    universe_id = universe_id,\n",
    "    universe = universe,\n",
    "    output_dir=output_dir,\n",
    ")"
   ]
  },
  {
   "cell_type": "code",
   "execution_count": 8,
   "id": "106241f5",
   "metadata": {
    "execution": {
     "iopub.execute_input": "2025-07-30T13:49:26.461390Z",
     "iopub.status.busy": "2025-07-30T13:49:26.460966Z",
     "iopub.status.idle": "2025-07-30T13:49:26.467817Z",
     "shell.execute_reply": "2025-07-30T13:49:26.466863Z"
    },
    "papermill": {
     "duration": 0.052228,
     "end_time": "2025-07-30T13:49:26.472376",
     "exception": false,
     "start_time": "2025-07-30T13:49:26.420148",
     "status": "completed"
    },
    "tags": []
   },
   "outputs": [
    {
     "name": "stdout",
     "output_type": "stream",
     "text": [
      "Using Seed: 2023\n"
     ]
    }
   ],
   "source": [
    "import numpy as np\n",
    "parsed_seed = int(seed)\n",
    "np.random.seed(parsed_seed)\n",
    "print(f\"Using Seed: {parsed_seed}\")"
   ]
  },
  {
   "cell_type": "markdown",
   "id": "e0ebdc57",
   "metadata": {
    "papermill": {
     "duration": 0.05752,
     "end_time": "2025-07-30T13:49:26.616743",
     "exception": false,
     "start_time": "2025-07-30T13:49:26.559223",
     "status": "completed"
    },
    "tags": []
   },
   "source": [
    "# Loading Data"
   ]
  },
  {
   "cell_type": "markdown",
   "id": "681925a3",
   "metadata": {
    "papermill": {
     "duration": 0.049051,
     "end_time": "2025-07-30T13:49:26.691873",
     "exception": false,
     "start_time": "2025-07-30T13:49:26.642822",
     "status": "completed"
    },
    "tags": []
   },
   "source": [
    "Load siab_train, siab_test, siab_calib and/or \n",
    "load siab_train_features, siab_train_labels"
   ]
  },
  {
   "cell_type": "code",
   "execution_count": 9,
   "id": "f0496b8a",
   "metadata": {
    "execution": {
     "iopub.execute_input": "2025-07-30T13:49:26.767060Z",
     "iopub.status.busy": "2025-07-30T13:49:26.766666Z",
     "iopub.status.idle": "2025-07-30T13:49:40.007720Z",
     "shell.execute_reply": "2025-07-30T13:49:40.006624Z"
    },
    "papermill": {
     "duration": 13.264686,
     "end_time": "2025-07-30T13:49:40.009359",
     "exception": false,
     "start_time": "2025-07-30T13:49:26.744673",
     "status": "completed"
    },
    "tags": []
   },
   "outputs": [
    {
     "name": "stdout",
     "output_type": "stream",
     "text": [
      "Loading SIAB data from cache: data/siab_cached.csv.gz\n"
     ]
    },
    {
     "name": "stdout",
     "output_type": "stream",
     "text": [
      "(643690, 164)\n"
     ]
    }
   ],
   "source": [
    "from pathlib import Path\n",
    "import pandas as pd\n",
    "\n",
    "# File paths\n",
    "raw_file = Path(\"data/raw/siab.csv\")\n",
    "cache_file = Path(\"data/siab_cached.csv.gz\")\n",
    "\n",
    "# Ensure cache directory exists\n",
    "cache_file.parent.mkdir(parents=True, exist_ok=True)\n",
    "\n",
    "# Load with simple caching\n",
    "if cache_file.exists():\n",
    "    print(f\"Loading SIAB data from cache: {cache_file}\")\n",
    "    siab = pd.read_csv(cache_file, compression='gzip')\n",
    "else:\n",
    "    print(f\"Cache not found. Reading raw SIAB data: {raw_file}\")\n",
    "    siab = pd.read_csv(raw_file)\n",
    "    siab.to_csv(cache_file, index=False, compression='gzip')\n",
    "    print(f\"Cached SIAB data to: {cache_file}\")\n",
    "\n",
    "# Now use `siab` DataFrame as needed\n",
    "print(siab.shape)"
   ]
  },
  {
   "cell_type": "code",
   "execution_count": 10,
   "id": "db0ca512-5f53-4dba-abdb-a2888bca41ba",
   "metadata": {
    "execution": {
     "iopub.execute_input": "2025-07-30T13:49:40.069436Z",
     "iopub.status.busy": "2025-07-30T13:49:40.069033Z",
     "iopub.status.idle": "2025-07-30T13:49:40.074763Z",
     "shell.execute_reply": "2025-07-30T13:49:40.073935Z"
    },
    "papermill": {
     "duration": 0.042584,
     "end_time": "2025-07-30T13:49:40.076107",
     "exception": false,
     "start_time": "2025-07-30T13:49:40.033523",
     "status": "completed"
    },
    "tags": []
   },
   "outputs": [],
   "source": [
    "#siab"
   ]
  },
  {
   "cell_type": "code",
   "execution_count": 11,
   "id": "a0edb063",
   "metadata": {
    "execution": {
     "iopub.execute_input": "2025-07-30T13:49:40.111405Z",
     "iopub.status.busy": "2025-07-30T13:49:40.110971Z",
     "iopub.status.idle": "2025-07-30T13:49:40.116305Z",
     "shell.execute_reply": "2025-07-30T13:49:40.115371Z"
    },
    "papermill": {
     "duration": 0.03073,
     "end_time": "2025-07-30T13:49:40.118294",
     "exception": false,
     "start_time": "2025-07-30T13:49:40.087564",
     "status": "completed"
    },
    "tags": []
   },
   "outputs": [],
   "source": [
    "#import pandas as pd\n",
    "#\n",
    "#X_train = pd.read_csv(\"./data/X_train.csv\")\n",
    "#y_train = pd.read_csv(\"./data/y_train.csv\")"
   ]
  },
  {
   "cell_type": "code",
   "execution_count": 12,
   "id": "63d08085",
   "metadata": {
    "execution": {
     "iopub.execute_input": "2025-07-30T13:49:40.162821Z",
     "iopub.status.busy": "2025-07-30T13:49:40.162357Z",
     "iopub.status.idle": "2025-07-30T13:49:40.167280Z",
     "shell.execute_reply": "2025-07-30T13:49:40.166433Z"
    },
    "papermill": {
     "duration": 0.02954,
     "end_time": "2025-07-30T13:49:40.169085",
     "exception": false,
     "start_time": "2025-07-30T13:49:40.139545",
     "status": "completed"
    },
    "tags": []
   },
   "outputs": [],
   "source": [
    "#X_test = pd.read_csv(\"./data/X_test.csv\")\n",
    "#y_true = pd.read_csv(\"./data/y_test.csv\")"
   ]
  },
  {
   "cell_type": "code",
   "execution_count": 13,
   "id": "98a8d0fa-1d3d-4ed8-bb2c-281470e24add",
   "metadata": {
    "execution": {
     "iopub.execute_input": "2025-07-30T13:49:40.216783Z",
     "iopub.status.busy": "2025-07-30T13:49:40.216297Z",
     "iopub.status.idle": "2025-07-30T13:49:40.221440Z",
     "shell.execute_reply": "2025-07-30T13:49:40.220429Z"
    },
    "papermill": {
     "duration": 0.032768,
     "end_time": "2025-07-30T13:49:40.223207",
     "exception": false,
     "start_time": "2025-07-30T13:49:40.190439",
     "status": "completed"
    },
    "tags": []
   },
   "outputs": [],
   "source": [
    "# Calibration data for conformal\n",
    "#X_calib = pd.read_csv(\"./data/X_calib.csv\")\n",
    "#y_calib = pd.read_csv(\"./data/y_calib.csv\")"
   ]
  },
  {
   "cell_type": "markdown",
   "id": "997051c5-15bd-4b69-9786-c3001a3ce484",
   "metadata": {
    "papermill": {
     "duration": 0.022147,
     "end_time": "2025-07-30T13:49:40.270783",
     "exception": false,
     "start_time": "2025-07-30T13:49:40.248636",
     "status": "completed"
    },
    "tags": []
   },
   "source": [
    "# Splitting Data and Setting Training Data Size"
   ]
  },
  {
   "cell_type": "code",
   "execution_count": 14,
   "id": "e993b61f-042d-41a6-8c81-f55681f86335",
   "metadata": {
    "execution": {
     "iopub.execute_input": "2025-07-30T13:49:40.295483Z",
     "iopub.status.busy": "2025-07-30T13:49:40.295134Z",
     "iopub.status.idle": "2025-07-30T13:49:40.304473Z",
     "shell.execute_reply": "2025-07-30T13:49:40.303667Z"
    },
    "papermill": {
     "duration": 0.023437,
     "end_time": "2025-07-30T13:49:40.305885",
     "exception": false,
     "start_time": "2025-07-30T13:49:40.282448",
     "status": "completed"
    },
    "tags": []
   },
   "outputs": [],
   "source": [
    "def sample_by_year_size(df,\n",
    "                        training_year: str,\n",
    "                        training_size: str,\n",
    "                        random_state: int = 42):\n",
    "    # --- parse training_year into a list of int years ---\n",
    "    if \"_\" in training_year:\n",
    "        start_str, end_str = training_year.split(\"_\", 1)\n",
    "        start = int(start_str)\n",
    "        end   = int(end_str) if len(end_str) == 4 else (int(end_str) + (start // 100)*100)\n",
    "        years = list(range(start, end + 1))\n",
    "    else:\n",
    "        years = [int(training_year)]\n",
    "\n",
    "    df = df[df[\"year\"].isin(years)].reset_index(drop=True)\n",
    "\n",
    "    # --- map training_size to total number of samples ---\n",
    "    total_map = {\"25k\": 25_000, \"5k\": 5_000, \"1k\": 1_000}\n",
    "    if training_size not in total_map:\n",
    "        return df  # e.g. \"all\"\n",
    "\n",
    "    total_samples = total_map[training_size]\n",
    "    n_years       = len(years)\n",
    "    base          = total_samples // n_years\n",
    "    remainder     = total_samples % n_years\n",
    "\n",
    "    # --- build a dict: year -> how many to sample ---\n",
    "    # give +1 to the first `remainder` years in ascending order\n",
    "    quotas = {\n",
    "        year: base + (1 if idx < remainder else 0)\n",
    "        for idx, year in enumerate(sorted(years))\n",
    "    }\n",
    "\n",
    "    # --- sample per‐year according to the quota dict ---\n",
    "    sampled = (\n",
    "        df\n",
    "        .groupby(\"year\", group_keys=False)\n",
    "        .apply(lambda grp: grp.sample(\n",
    "            n=min(len(grp), quotas[grp.name]),\n",
    "            random_state=random_state))\n",
    "        .reset_index(drop=True)\n",
    "    )\n",
    "\n",
    "    return sampled"
   ]
  },
  {
   "cell_type": "code",
   "execution_count": 15,
   "id": "c0ccd338-0e02-41f3-a09d-f56f9266e3fb",
   "metadata": {
    "execution": {
     "iopub.execute_input": "2025-07-30T13:49:40.329012Z",
     "iopub.status.busy": "2025-07-30T13:49:40.328464Z",
     "iopub.status.idle": "2025-07-30T13:49:40.339501Z",
     "shell.execute_reply": "2025-07-30T13:49:40.338554Z"
    },
    "papermill": {
     "duration": 0.023714,
     "end_time": "2025-07-30T13:49:40.341054",
     "exception": false,
     "start_time": "2025-07-30T13:49:40.317340",
     "status": "completed"
    },
    "tags": []
   },
   "outputs": [
    {
     "data": {
      "text/plain": [
       "'5k'"
      ]
     },
     "execution_count": 15,
     "metadata": {},
     "output_type": "execute_result"
    }
   ],
   "source": [
    "universe[\"training_size\"]"
   ]
  },
  {
   "cell_type": "code",
   "execution_count": 16,
   "id": "ca707fd7-8047-4acd-bfa5-66248fbbf8e6",
   "metadata": {
    "execution": {
     "iopub.execute_input": "2025-07-30T13:49:40.393241Z",
     "iopub.status.busy": "2025-07-30T13:49:40.392582Z",
     "iopub.status.idle": "2025-07-30T13:49:40.405010Z",
     "shell.execute_reply": "2025-07-30T13:49:40.403973Z"
    },
    "papermill": {
     "duration": 0.039524,
     "end_time": "2025-07-30T13:49:40.406818",
     "exception": false,
     "start_time": "2025-07-30T13:49:40.367294",
     "status": "completed"
    },
    "tags": []
   },
   "outputs": [
    {
     "data": {
      "text/plain": [
       "'2014'"
      ]
     },
     "execution_count": 16,
     "metadata": {},
     "output_type": "execute_result"
    }
   ],
   "source": [
    "universe[\"training_year\"]"
   ]
  },
  {
   "cell_type": "code",
   "execution_count": 17,
   "id": "aea9c6ef-6f46-42c8-85eb-5a62025c1508",
   "metadata": {
    "execution": {
     "iopub.execute_input": "2025-07-30T13:49:40.449552Z",
     "iopub.status.busy": "2025-07-30T13:49:40.448909Z",
     "iopub.status.idle": "2025-07-30T13:49:40.714343Z",
     "shell.execute_reply": "2025-07-30T13:49:40.713531Z"
    },
    "papermill": {
     "duration": 0.287853,
     "end_time": "2025-07-30T13:49:40.716149",
     "exception": false,
     "start_time": "2025-07-30T13:49:40.428296",
     "status": "completed"
    },
    "tags": []
   },
   "outputs": [],
   "source": [
    "siab_train = sample_by_year_size(siab,\n",
    "                               training_year=universe[\"training_year\"],\n",
    "                               training_size=universe[\"training_size\"])"
   ]
  },
  {
   "cell_type": "code",
   "execution_count": 18,
   "id": "8d3afb32-789d-442c-8d5d-9f5aa8dd2eed",
   "metadata": {
    "execution": {
     "iopub.execute_input": "2025-07-30T13:49:40.757254Z",
     "iopub.status.busy": "2025-07-30T13:49:40.756908Z",
     "iopub.status.idle": "2025-07-30T13:49:40.762929Z",
     "shell.execute_reply": "2025-07-30T13:49:40.762242Z"
    },
    "papermill": {
     "duration": 0.027745,
     "end_time": "2025-07-30T13:49:40.764213",
     "exception": false,
     "start_time": "2025-07-30T13:49:40.736468",
     "status": "completed"
    },
    "tags": []
   },
   "outputs": [
    {
     "data": {
      "text/plain": [
       "(5000, 164)"
      ]
     },
     "execution_count": 18,
     "metadata": {},
     "output_type": "execute_result"
    }
   ],
   "source": [
    "siab_train.shape"
   ]
  },
  {
   "cell_type": "code",
   "execution_count": 19,
   "id": "d582db68-1a4c-47fb-84fc-08518dc1975a",
   "metadata": {
    "execution": {
     "iopub.execute_input": "2025-07-30T13:49:40.788708Z",
     "iopub.status.busy": "2025-07-30T13:49:40.788271Z",
     "iopub.status.idle": "2025-07-30T13:49:40.796187Z",
     "shell.execute_reply": "2025-07-30T13:49:40.795294Z"
    },
    "papermill": {
     "duration": 0.021458,
     "end_time": "2025-07-30T13:49:40.797519",
     "exception": false,
     "start_time": "2025-07-30T13:49:40.776061",
     "status": "completed"
    },
    "tags": []
   },
   "outputs": [
    {
     "data": {
      "text/plain": [
       "year\n",
       "2014    5000\n",
       "dtype: int64"
      ]
     },
     "metadata": {},
     "output_type": "display_data"
    }
   ],
   "source": [
    "display(siab_train.groupby(\"year\").size())"
   ]
  },
  {
   "cell_type": "code",
   "execution_count": 20,
   "id": "a561edb4-d032-42cb-8256-22eac1111c64",
   "metadata": {
    "execution": {
     "iopub.execute_input": "2025-07-30T13:49:40.843491Z",
     "iopub.status.busy": "2025-07-30T13:49:40.843063Z",
     "iopub.status.idle": "2025-07-30T13:49:41.090338Z",
     "shell.execute_reply": "2025-07-30T13:49:41.089370Z"
    },
    "papermill": {
     "duration": 0.272333,
     "end_time": "2025-07-30T13:49:41.092899",
     "exception": false,
     "start_time": "2025-07-30T13:49:40.820566",
     "status": "completed"
    },
    "tags": []
   },
   "outputs": [],
   "source": [
    "#siab_train = siab_s[siab_s.year < 2015]\n",
    "siab_calib = siab[siab.year == 2015]\n",
    "siab_test = siab[siab.year == 2016]"
   ]
  },
  {
   "cell_type": "code",
   "execution_count": 21,
   "id": "472de16f-c3db-4916-846b-1f0de9cf1746",
   "metadata": {
    "execution": {
     "iopub.execute_input": "2025-07-30T13:49:41.141354Z",
     "iopub.status.busy": "2025-07-30T13:49:41.140879Z",
     "iopub.status.idle": "2025-07-30T13:49:41.149544Z",
     "shell.execute_reply": "2025-07-30T13:49:41.148793Z"
    },
    "papermill": {
     "duration": 0.032638,
     "end_time": "2025-07-30T13:49:41.150863",
     "exception": false,
     "start_time": "2025-07-30T13:49:41.118225",
     "status": "completed"
    },
    "tags": []
   },
   "outputs": [],
   "source": [
    "X_train = siab_train.iloc[:,4:164]\n",
    "y_train = siab_train.iloc[:, [3]]"
   ]
  },
  {
   "cell_type": "code",
   "execution_count": 22,
   "id": "828c96af-f43a-4ed6-ba47-8ac73a47d56c",
   "metadata": {
    "execution": {
     "iopub.execute_input": "2025-07-30T13:49:41.179765Z",
     "iopub.status.busy": "2025-07-30T13:49:41.179230Z",
     "iopub.status.idle": "2025-07-30T13:49:41.234808Z",
     "shell.execute_reply": "2025-07-30T13:49:41.234012Z"
    },
    "papermill": {
     "duration": 0.072433,
     "end_time": "2025-07-30T13:49:41.236592",
     "exception": false,
     "start_time": "2025-07-30T13:49:41.164159",
     "status": "completed"
    },
    "tags": []
   },
   "outputs": [],
   "source": [
    "X_calib = siab_calib.iloc[:,4:164]\n",
    "y_calib = siab_calib.iloc[:, [3]]"
   ]
  },
  {
   "cell_type": "code",
   "execution_count": 23,
   "id": "c34be9c3-6bd6-476e-acd3-845840e303be",
   "metadata": {
    "execution": {
     "iopub.execute_input": "2025-07-30T13:49:41.282598Z",
     "iopub.status.busy": "2025-07-30T13:49:41.281912Z",
     "iopub.status.idle": "2025-07-30T13:49:41.337649Z",
     "shell.execute_reply": "2025-07-30T13:49:41.336605Z"
    },
    "papermill": {
     "duration": 0.079875,
     "end_time": "2025-07-30T13:49:41.339117",
     "exception": false,
     "start_time": "2025-07-30T13:49:41.259242",
     "status": "completed"
    },
    "tags": []
   },
   "outputs": [],
   "source": [
    "X_test = siab_test.iloc[:,4:164]\n",
    "y_true = siab_test.iloc[:, [3]]"
   ]
  },
  {
   "cell_type": "markdown",
   "id": "9901737e-04df-44f0-9100-f5ad144ed040",
   "metadata": {
    "papermill": {
     "duration": 0.023559,
     "end_time": "2025-07-30T13:49:41.385322",
     "exception": false,
     "start_time": "2025-07-30T13:49:41.361763",
     "status": "completed"
    },
    "tags": []
   },
   "source": [
    "# Splitting Data and Setting Training Data Size OLD VERSION"
   ]
  },
  {
   "cell_type": "code",
   "execution_count": 24,
   "id": "acbc8f7d-8fc8-4e86-8c59-5dcb0f58384b",
   "metadata": {
    "execution": {
     "iopub.execute_input": "2025-07-30T13:49:41.433192Z",
     "iopub.status.busy": "2025-07-30T13:49:41.432744Z",
     "iopub.status.idle": "2025-07-30T13:49:41.438491Z",
     "shell.execute_reply": "2025-07-30T13:49:41.437488Z"
    },
    "papermill": {
     "duration": 0.031686,
     "end_time": "2025-07-30T13:49:41.440312",
     "exception": false,
     "start_time": "2025-07-30T13:49:41.408626",
     "status": "completed"
    },
    "tags": []
   },
   "outputs": [],
   "source": [
    "#def sample_by_year(df, training_size, random_state=42):\n",
    "#    if training_size == \"2014\":\n",
    "#        return df[df[\"year\"] == 2014].reset_index(drop=True)\n",
    "#    \n",
    "#    size_map = {\n",
    "#        \"25k\": 5000,\n",
    "#        \"5k\": 1000,\n",
    "#        \"1k\": 200\n",
    "#    }\n",
    "#\n",
    "#    if training_size not in size_map:\n",
    "#        return df.reset_index(drop=True)  # use all data\n",
    "#\n",
    "#    n_per_year = size_map[training_size]\n",
    "#    grouped = df.groupby(\"year\")\n",
    "#    sampled = grouped.apply(lambda x: x.sample(n=min(n_per_year, len(x)), random_state=random_state))\n",
    "#    return sampled.reset_index(drop=True)"
   ]
  },
  {
   "cell_type": "code",
   "execution_count": 25,
   "id": "6d931f52-beaf-43ff-9e78-9d44a448d54e",
   "metadata": {
    "execution": {
     "iopub.execute_input": "2025-07-30T13:49:41.488560Z",
     "iopub.status.busy": "2025-07-30T13:49:41.488071Z",
     "iopub.status.idle": "2025-07-30T13:49:41.493583Z",
     "shell.execute_reply": "2025-07-30T13:49:41.492484Z"
    },
    "papermill": {
     "duration": 0.031355,
     "end_time": "2025-07-30T13:49:41.495329",
     "exception": false,
     "start_time": "2025-07-30T13:49:41.463974",
     "status": "completed"
    },
    "tags": []
   },
   "outputs": [],
   "source": [
    "#siab_s = sample_by_year(siab, universe[\"training_size\"])"
   ]
  },
  {
   "cell_type": "code",
   "execution_count": 26,
   "id": "5db0a40e-a4e2-4920-be85-b12ae061d70d",
   "metadata": {
    "execution": {
     "iopub.execute_input": "2025-07-30T13:49:41.538852Z",
     "iopub.status.busy": "2025-07-30T13:49:41.538402Z",
     "iopub.status.idle": "2025-07-30T13:49:41.543540Z",
     "shell.execute_reply": "2025-07-30T13:49:41.542598Z"
    },
    "papermill": {
     "duration": 0.028721,
     "end_time": "2025-07-30T13:49:41.545410",
     "exception": false,
     "start_time": "2025-07-30T13:49:41.516689",
     "status": "completed"
    },
    "tags": []
   },
   "outputs": [],
   "source": [
    "#display(siab_s.groupby(\"year\").size())"
   ]
  },
  {
   "cell_type": "code",
   "execution_count": 27,
   "id": "e6c733c5",
   "metadata": {
    "execution": {
     "iopub.execute_input": "2025-07-30T13:49:41.592230Z",
     "iopub.status.busy": "2025-07-30T13:49:41.591731Z",
     "iopub.status.idle": "2025-07-30T13:49:41.690168Z",
     "shell.execute_reply": "2025-07-30T13:49:41.689196Z"
    },
    "papermill": {
     "duration": 0.124502,
     "end_time": "2025-07-30T13:49:41.692368",
     "exception": false,
     "start_time": "2025-07-30T13:49:41.567866",
     "status": "completed"
    },
    "tags": []
   },
   "outputs": [],
   "source": [
    "# Auxiliary data needed downstream in the pipeline\n",
    "\n",
    "org_train = X_train.copy()\n",
    "org_test = X_test.copy()\n",
    "org_calib = X_calib.copy()"
   ]
  },
  {
   "cell_type": "code",
   "execution_count": 28,
   "id": "1466abac-c6da-4492-a62f-4240ae3783af",
   "metadata": {
    "execution": {
     "iopub.execute_input": "2025-07-30T13:49:41.740601Z",
     "iopub.status.busy": "2025-07-30T13:49:41.740130Z",
     "iopub.status.idle": "2025-07-30T13:49:41.745590Z",
     "shell.execute_reply": "2025-07-30T13:49:41.744643Z"
    },
    "papermill": {
     "duration": 0.030853,
     "end_time": "2025-07-30T13:49:41.747087",
     "exception": false,
     "start_time": "2025-07-30T13:49:41.716234",
     "status": "completed"
    },
    "tags": []
   },
   "outputs": [],
   "source": [
    "# put in other script?\n",
    "# Group sizes\n",
    "\n",
    "#def calculate_percentages(df, df_name):\n",
    "#    total_entries = len(df)\n",
    "#\n",
    "#    female_pct = (df['frau1'] == 1).mean() * 100\n",
    "#    non_german_pct = ((df['maxdeutsch1'] == 0) & (df['maxdeutsch.Missing.'] == 0)).mean() * 100\n",
    "#    non_german_male_pct = ((df['frau1'] == 0) & (df['maxdeutsch1'] == 0) & (df['maxdeutsch.Missing.'] == 0)).mean() * 100\n",
    "#    non_german_female_pct = ((df['frau1'] == 1) & (df['maxdeutsch1'] == 0) & (df['maxdeutsch.Missing.'] == 0)).mean() * 100\n",
    "#\n",
    "#    print(f\"--- {df_name} ---\")\n",
    "#    print(f\"Female: {female_pct:.2f}%\")\n",
    "#    print(f\"Non-German: {non_german_pct:.2f}%\")\n",
    "#    print(f\"Non-German Male: {non_german_male_pct:.2f}%\")\n",
    "#    print(f\"Non-German Female: {non_german_female_pct:.2f}%\\n\")\n",
    "#\n",
    "## Calculate for each DataFrame\n",
    "#calculate_percentages(siab_calib, \"siab_calib\")\n",
    "#calculate_percentages(siab_test, \"siab_test\")\n",
    "#calculate_percentages(siab_train, \"siab_train\")"
   ]
  },
  {
   "cell_type": "markdown",
   "id": "0a4a1b33",
   "metadata": {
    "papermill": {
     "duration": 0.023033,
     "end_time": "2025-07-30T13:49:41.793508",
     "exception": false,
     "start_time": "2025-07-30T13:49:41.770475",
     "status": "completed"
    },
    "tags": []
   },
   "source": [
    "# Preprocessing Data"
   ]
  },
  {
   "cell_type": "code",
   "execution_count": 29,
   "id": "ca879031",
   "metadata": {
    "execution": {
     "iopub.execute_input": "2025-07-30T13:49:41.840752Z",
     "iopub.status.busy": "2025-07-30T13:49:41.840288Z",
     "iopub.status.idle": "2025-07-30T13:49:41.846194Z",
     "shell.execute_reply": "2025-07-30T13:49:41.845268Z"
    },
    "papermill": {
     "duration": 0.031241,
     "end_time": "2025-07-30T13:49:41.847710",
     "exception": false,
     "start_time": "2025-07-30T13:49:41.816469",
     "status": "completed"
    },
    "tags": []
   },
   "outputs": [],
   "source": [
    "# EXCLUDE PROTECTED FEATURES\n",
    "# ----------------------\n",
    "# \"exclude_features\": \"none\", # \"nationality\", \"sex\", \"nationality-sex\"\n",
    "\n",
    "excluded_features = universe[\"exclude_features\"].split(\"-\") # split, e.g.: \"nationality-sex\" -> [\"nationality\", \"sex\"]\n",
    "excluded_features_dictionary = {\n",
    "    \"nationality\": [\"maxdeutsch1\", \"maxdeutsch.Missing.\"],\n",
    "    \"sex\": [\"frau1\"],\n",
    "    \"age\": [\"age\"],\n",
    "}\n"
   ]
  },
  {
   "cell_type": "code",
   "execution_count": 30,
   "id": "b745ac60",
   "metadata": {
    "execution": {
     "iopub.execute_input": "2025-07-30T13:49:41.890569Z",
     "iopub.status.busy": "2025-07-30T13:49:41.889888Z",
     "iopub.status.idle": "2025-07-30T13:49:41.895762Z",
     "shell.execute_reply": "2025-07-30T13:49:41.894801Z"
    },
    "papermill": {
     "duration": 0.028752,
     "end_time": "2025-07-30T13:49:41.897370",
     "exception": false,
     "start_time": "2025-07-30T13:49:41.868618",
     "status": "completed"
    },
    "tags": []
   },
   "outputs": [],
   "source": [
    "# Code nice names to column names\n",
    "\n",
    "excluded_features_columns = [\n",
    "    excluded_features_dictionary[f] for f in excluded_features if len(f) > 0 and f != \"none\"\n",
    "]"
   ]
  },
  {
   "cell_type": "code",
   "execution_count": 31,
   "id": "f84f73a2",
   "metadata": {
    "execution": {
     "iopub.execute_input": "2025-07-30T13:49:41.941030Z",
     "iopub.status.busy": "2025-07-30T13:49:41.940588Z",
     "iopub.status.idle": "2025-07-30T13:49:41.947144Z",
     "shell.execute_reply": "2025-07-30T13:49:41.946325Z"
    },
    "papermill": {
     "duration": 0.030056,
     "end_time": "2025-07-30T13:49:41.948600",
     "exception": false,
     "start_time": "2025-07-30T13:49:41.918544",
     "status": "completed"
    },
    "tags": []
   },
   "outputs": [],
   "source": [
    "from utils import flatten_once\n",
    "\n",
    "excluded_features_columns = flatten_once(excluded_features_columns)"
   ]
  },
  {
   "cell_type": "code",
   "execution_count": 32,
   "id": "884dea22",
   "metadata": {
    "execution": {
     "iopub.execute_input": "2025-07-30T13:49:41.991844Z",
     "iopub.status.busy": "2025-07-30T13:49:41.991404Z",
     "iopub.status.idle": "2025-07-30T13:49:42.002128Z",
     "shell.execute_reply": "2025-07-30T13:49:42.001284Z"
    },
    "papermill": {
     "duration": 0.033999,
     "end_time": "2025-07-30T13:49:42.003819",
     "exception": false,
     "start_time": "2025-07-30T13:49:41.969820",
     "status": "completed"
    },
    "tags": []
   },
   "outputs": [
    {
     "name": "stdout",
     "output_type": "stream",
     "text": [
      "Dropping features: ['maxdeutsch1', 'maxdeutsch.Missing.', 'frau1']\n"
     ]
    }
   ],
   "source": [
    "if len(excluded_features_columns) > 0:\n",
    "    print(f\"Dropping features: {excluded_features_columns}\")\n",
    "    X_train.drop(excluded_features_columns, axis=1, inplace=True)"
   ]
  },
  {
   "cell_type": "code",
   "execution_count": 33,
   "id": "95ab8b16",
   "metadata": {
    "execution": {
     "iopub.execute_input": "2025-07-30T13:49:42.056777Z",
     "iopub.status.busy": "2025-07-30T13:49:42.055723Z",
     "iopub.status.idle": "2025-07-30T13:49:42.108724Z",
     "shell.execute_reply": "2025-07-30T13:49:42.107749Z"
    },
    "papermill": {
     "duration": 0.080698,
     "end_time": "2025-07-30T13:49:42.110246",
     "exception": false,
     "start_time": "2025-07-30T13:49:42.029548",
     "status": "completed"
    },
    "tags": []
   },
   "outputs": [
    {
     "name": "stdout",
     "output_type": "stream",
     "text": [
      "Dropping features: ['maxdeutsch1', 'maxdeutsch.Missing.', 'frau1']\n"
     ]
    }
   ],
   "source": [
    "if len(excluded_features_columns) > 0:\n",
    "    print(f\"Dropping features: {excluded_features_columns}\")\n",
    "    X_test.drop(excluded_features_columns, axis=1, inplace=True)"
   ]
  },
  {
   "cell_type": "code",
   "execution_count": 34,
   "id": "1853aaf5-fb9f-46cb-a2b5-8ea4ae2237e4",
   "metadata": {
    "execution": {
     "iopub.execute_input": "2025-07-30T13:49:42.155198Z",
     "iopub.status.busy": "2025-07-30T13:49:42.154239Z",
     "iopub.status.idle": "2025-07-30T13:49:42.203926Z",
     "shell.execute_reply": "2025-07-30T13:49:42.202971Z"
    },
    "papermill": {
     "duration": 0.072847,
     "end_time": "2025-07-30T13:49:42.205700",
     "exception": false,
     "start_time": "2025-07-30T13:49:42.132853",
     "status": "completed"
    },
    "tags": []
   },
   "outputs": [
    {
     "name": "stdout",
     "output_type": "stream",
     "text": [
      "Dropping features: ['maxdeutsch1', 'maxdeutsch.Missing.', 'frau1']\n"
     ]
    }
   ],
   "source": [
    "if len(excluded_features_columns) > 0:\n",
    "    print(f\"Dropping features: {excluded_features_columns}\")\n",
    "    X_calib.drop(excluded_features_columns, axis=1, inplace=True)"
   ]
  },
  {
   "cell_type": "code",
   "execution_count": 35,
   "id": "6727d079-03e5-481e-9d38-292a90b7a0a8",
   "metadata": {
    "execution": {
     "iopub.execute_input": "2025-07-30T13:49:42.251968Z",
     "iopub.status.busy": "2025-07-30T13:49:42.251121Z",
     "iopub.status.idle": "2025-07-30T13:49:42.256947Z",
     "shell.execute_reply": "2025-07-30T13:49:42.256014Z"
    },
    "papermill": {
     "duration": 0.029478,
     "end_time": "2025-07-30T13:49:42.258517",
     "exception": false,
     "start_time": "2025-07-30T13:49:42.229039",
     "status": "completed"
    },
    "tags": []
   },
   "outputs": [],
   "source": [
    "# SPLIT & STRATIFY DATA\n",
    "# ----------------------"
   ]
  },
  {
   "cell_type": "code",
   "execution_count": 36,
   "id": "76c4dc6d",
   "metadata": {
    "execution": {
     "iopub.execute_input": "2025-07-30T13:49:42.302899Z",
     "iopub.status.busy": "2025-07-30T13:49:42.302154Z",
     "iopub.status.idle": "2025-07-30T13:49:42.307254Z",
     "shell.execute_reply": "2025-07-30T13:49:42.306375Z"
    },
    "papermill": {
     "duration": 0.028124,
     "end_time": "2025-07-30T13:49:42.309068",
     "exception": false,
     "start_time": "2025-07-30T13:49:42.280944",
     "status": "completed"
    },
    "tags": []
   },
   "outputs": [],
   "source": [
    "# EXCLUDE CERTAIN SUBGROUPS\n",
    "# ----------------------\n",
    "\n",
    "mode = universe.get(\"exclude_subgroups\", \"keep-all\") \n",
    "# Fetches the exclude_subgroups setting from the universe dict.\n",
    "# Defaults to \"keep-all\" if the key is missing."
   ]
  },
  {
   "cell_type": "code",
   "execution_count": 37,
   "id": "21994072",
   "metadata": {
    "execution": {
     "iopub.execute_input": "2025-07-30T13:49:42.356711Z",
     "iopub.status.busy": "2025-07-30T13:49:42.356327Z",
     "iopub.status.idle": "2025-07-30T13:49:42.363372Z",
     "shell.execute_reply": "2025-07-30T13:49:42.362526Z"
    },
    "papermill": {
     "duration": 0.031626,
     "end_time": "2025-07-30T13:49:42.364970",
     "exception": false,
     "start_time": "2025-07-30T13:49:42.333344",
     "status": "completed"
    },
    "tags": []
   },
   "outputs": [],
   "source": [
    "if mode == \"keep-all\":\n",
    "    keep_mask = pd.Series(True, index=org_train.index)\n",
    "\n",
    "# org_train contains the original feature columns from features_org (in Simson)\n",
    "# features_org contains unprocessed features, for me X_train at beginning ???\n",
    "# For keep-all, creates a boolean Series (keep_mask) of all True, so no rows are removed.\n",
    "\n",
    "elif mode == \"drop-non-german\":\n",
    "    keep_mask = org_train[\"maxdeutsch1\"] == 1 # ??? what about missing values?\n",
    "\n",
    "else:\n",
    "    raise ValueError(f\"Unsupported mode for exclude_subgroups: {mode}\")\n"
   ]
  },
  {
   "cell_type": "code",
   "execution_count": 38,
   "id": "71651440",
   "metadata": {
    "execution": {
     "iopub.execute_input": "2025-07-30T13:49:42.412183Z",
     "iopub.status.busy": "2025-07-30T13:49:42.411295Z",
     "iopub.status.idle": "2025-07-30T13:49:42.418213Z",
     "shell.execute_reply": "2025-07-30T13:49:42.417344Z"
    },
    "papermill": {
     "duration": 0.03279,
     "end_time": "2025-07-30T13:49:42.419706",
     "exception": false,
     "start_time": "2025-07-30T13:49:42.386916",
     "status": "completed"
    },
    "tags": []
   },
   "outputs": [],
   "source": [
    "n_drop = (~keep_mask).sum() # Calculates how many rows are set to be dropped\n",
    "if n_drop > 0:\n",
    "    pct = n_drop / len(keep_mask) * 100\n",
    "    print(f\"Dropping {n_drop} rows ({pct:.2f}%) where mode='{mode}'\")"
   ]
  },
  {
   "cell_type": "code",
   "execution_count": 39,
   "id": "5fb8eee5",
   "metadata": {
    "execution": {
     "iopub.execute_input": "2025-07-30T13:49:42.469651Z",
     "iopub.status.busy": "2025-07-30T13:49:42.469117Z",
     "iopub.status.idle": "2025-07-30T13:49:42.477205Z",
     "shell.execute_reply": "2025-07-30T13:49:42.476173Z"
    },
    "papermill": {
     "duration": 0.035826,
     "end_time": "2025-07-30T13:49:42.478850",
     "exception": false,
     "start_time": "2025-07-30T13:49:42.443024",
     "status": "completed"
    },
    "tags": []
   },
   "outputs": [],
   "source": [
    "X_train = X_train[keep_mask]"
   ]
  },
  {
   "cell_type": "code",
   "execution_count": 40,
   "id": "b202bb3a",
   "metadata": {
    "execution": {
     "iopub.execute_input": "2025-07-30T13:49:42.523335Z",
     "iopub.status.busy": "2025-07-30T13:49:42.522605Z",
     "iopub.status.idle": "2025-07-30T13:49:42.528747Z",
     "shell.execute_reply": "2025-07-30T13:49:42.527796Z"
    },
    "papermill": {
     "duration": 0.02974,
     "end_time": "2025-07-30T13:49:42.530320",
     "exception": false,
     "start_time": "2025-07-30T13:49:42.500580",
     "status": "completed"
    },
    "tags": []
   },
   "outputs": [],
   "source": [
    "y_train = y_train[keep_mask]"
   ]
  },
  {
   "cell_type": "markdown",
   "id": "493e2ac3",
   "metadata": {
    "papermill": {
     "duration": 0.021985,
     "end_time": "2025-07-30T13:49:42.573915",
     "exception": false,
     "start_time": "2025-07-30T13:49:42.551930",
     "status": "completed"
    },
    "tags": []
   },
   "source": [
    "# Model Training"
   ]
  },
  {
   "cell_type": "code",
   "execution_count": 41,
   "id": "679e1268",
   "metadata": {
    "execution": {
     "iopub.execute_input": "2025-07-30T13:49:42.618112Z",
     "iopub.status.busy": "2025-07-30T13:49:42.617326Z",
     "iopub.status.idle": "2025-07-30T13:49:42.732594Z",
     "shell.execute_reply": "2025-07-30T13:49:42.731565Z"
    },
    "papermill": {
     "duration": 0.139489,
     "end_time": "2025-07-30T13:49:42.734489",
     "exception": false,
     "start_time": "2025-07-30T13:49:42.595000",
     "status": "completed"
    },
    "tags": []
   },
   "outputs": [],
   "source": [
    "from sklearn.linear_model import LogisticRegression\n",
    "from sklearn.ensemble import GradientBoostingClassifier, RandomForestClassifier\n",
    "\n",
    "if (universe[\"model\"] == \"logreg\"):\n",
    "    model = LogisticRegression() #penalty=\"none\") #, solver=\"newton-cg\", max_iter=1) # include random_state=19 ?\n",
    "elif (universe[\"model\"] == \"penalized_logreg\"):\n",
    "    model = LogisticRegression(penalty=\"l2\", C=1.0) #, solver=\"newton-cg\", max_iter=1)\n",
    "elif (universe[\"model\"] == \"rf\"):\n",
    "    model = RandomForestClassifier(n_estimators=100, n_jobs=-1)\n",
    "elif (universe[\"model\"] == \"gbm\"):\n",
    "    model = GradientBoostingClassifier()\n",
    "elif (universe[\"model\"] == \"elasticnet\"):\n",
    "    model = LogisticRegression(penalty = 'elasticnet', solver = 'saga', l1_ratio = 0.5, max_iter=5000) # which solver to use?\n",
    "else:\n",
    "    raise \"Unsupported universe.model\""
   ]
  },
  {
   "cell_type": "code",
   "execution_count": 42,
   "id": "0cc8f744",
   "metadata": {
    "execution": {
     "iopub.execute_input": "2025-07-30T13:49:42.786151Z",
     "iopub.status.busy": "2025-07-30T13:49:42.785321Z",
     "iopub.status.idle": "2025-07-30T13:49:42.792924Z",
     "shell.execute_reply": "2025-07-30T13:49:42.791845Z"
    },
    "papermill": {
     "duration": 0.03685,
     "end_time": "2025-07-30T13:49:42.794746",
     "exception": false,
     "start_time": "2025-07-30T13:49:42.757896",
     "status": "completed"
    },
    "tags": []
   },
   "outputs": [],
   "source": [
    "import numpy as np\n",
    "from sklearn.pipeline import Pipeline\n",
    "from sklearn.preprocessing import StandardScaler\n",
    "\n",
    "model = Pipeline([\n",
    "    #(\"continuous_processor\", continuous_processor),\n",
    "    #(\"categorical_preprocessor\", categorical_preprocessor),\n",
    "    (\"scale\", StandardScaler() if universe[\"scale\"] == \"scale\" else None), \n",
    "    (\"model\", model),\n",
    "])"
   ]
  },
  {
   "cell_type": "code",
   "execution_count": 43,
   "id": "9442c04d",
   "metadata": {
    "execution": {
     "iopub.execute_input": "2025-07-30T13:49:42.841571Z",
     "iopub.status.busy": "2025-07-30T13:49:42.840808Z",
     "iopub.status.idle": "2025-07-30T13:49:43.789154Z",
     "shell.execute_reply": "2025-07-30T13:49:43.788092Z"
    },
    "papermill": {
     "duration": 0.973182,
     "end_time": "2025-07-30T13:49:43.790811",
     "exception": false,
     "start_time": "2025-07-30T13:49:42.817629",
     "status": "completed"
    },
    "tags": []
   },
   "outputs": [
    {
     "data": {
      "text/html": [
       "<style>#sk-container-id-1 {color: black;background-color: white;}#sk-container-id-1 pre{padding: 0;}#sk-container-id-1 div.sk-toggleable {background-color: white;}#sk-container-id-1 label.sk-toggleable__label {cursor: pointer;display: block;width: 100%;margin-bottom: 0;padding: 0.3em;box-sizing: border-box;text-align: center;}#sk-container-id-1 label.sk-toggleable__label-arrow:before {content: \"▸\";float: left;margin-right: 0.25em;color: #696969;}#sk-container-id-1 label.sk-toggleable__label-arrow:hover:before {color: black;}#sk-container-id-1 div.sk-estimator:hover label.sk-toggleable__label-arrow:before {color: black;}#sk-container-id-1 div.sk-toggleable__content {max-height: 0;max-width: 0;overflow: hidden;text-align: left;background-color: #f0f8ff;}#sk-container-id-1 div.sk-toggleable__content pre {margin: 0.2em;color: black;border-radius: 0.25em;background-color: #f0f8ff;}#sk-container-id-1 input.sk-toggleable__control:checked~div.sk-toggleable__content {max-height: 200px;max-width: 100%;overflow: auto;}#sk-container-id-1 input.sk-toggleable__control:checked~label.sk-toggleable__label-arrow:before {content: \"▾\";}#sk-container-id-1 div.sk-estimator input.sk-toggleable__control:checked~label.sk-toggleable__label {background-color: #d4ebff;}#sk-container-id-1 div.sk-label input.sk-toggleable__control:checked~label.sk-toggleable__label {background-color: #d4ebff;}#sk-container-id-1 input.sk-hidden--visually {border: 0;clip: rect(1px 1px 1px 1px);clip: rect(1px, 1px, 1px, 1px);height: 1px;margin: -1px;overflow: hidden;padding: 0;position: absolute;width: 1px;}#sk-container-id-1 div.sk-estimator {font-family: monospace;background-color: #f0f8ff;border: 1px dotted black;border-radius: 0.25em;box-sizing: border-box;margin-bottom: 0.5em;}#sk-container-id-1 div.sk-estimator:hover {background-color: #d4ebff;}#sk-container-id-1 div.sk-parallel-item::after {content: \"\";width: 100%;border-bottom: 1px solid gray;flex-grow: 1;}#sk-container-id-1 div.sk-label:hover label.sk-toggleable__label {background-color: #d4ebff;}#sk-container-id-1 div.sk-serial::before {content: \"\";position: absolute;border-left: 1px solid gray;box-sizing: border-box;top: 0;bottom: 0;left: 50%;z-index: 0;}#sk-container-id-1 div.sk-serial {display: flex;flex-direction: column;align-items: center;background-color: white;padding-right: 0.2em;padding-left: 0.2em;position: relative;}#sk-container-id-1 div.sk-item {position: relative;z-index: 1;}#sk-container-id-1 div.sk-parallel {display: flex;align-items: stretch;justify-content: center;background-color: white;position: relative;}#sk-container-id-1 div.sk-item::before, #sk-container-id-1 div.sk-parallel-item::before {content: \"\";position: absolute;border-left: 1px solid gray;box-sizing: border-box;top: 0;bottom: 0;left: 50%;z-index: -1;}#sk-container-id-1 div.sk-parallel-item {display: flex;flex-direction: column;z-index: 1;position: relative;background-color: white;}#sk-container-id-1 div.sk-parallel-item:first-child::after {align-self: flex-end;width: 50%;}#sk-container-id-1 div.sk-parallel-item:last-child::after {align-self: flex-start;width: 50%;}#sk-container-id-1 div.sk-parallel-item:only-child::after {width: 0;}#sk-container-id-1 div.sk-dashed-wrapped {border: 1px dashed gray;margin: 0 0.4em 0.5em 0.4em;box-sizing: border-box;padding-bottom: 0.4em;background-color: white;}#sk-container-id-1 div.sk-label label {font-family: monospace;font-weight: bold;display: inline-block;line-height: 1.2em;}#sk-container-id-1 div.sk-label-container {text-align: center;}#sk-container-id-1 div.sk-container {/* jupyter's `normalize.less` sets `[hidden] { display: none; }` but bootstrap.min.css set `[hidden] { display: none !important; }` so we also need the `!important` here to be able to override the default hidden behavior on the sphinx rendered scikit-learn.org. See: https://github.com/scikit-learn/scikit-learn/issues/21755 */display: inline-block !important;position: relative;}#sk-container-id-1 div.sk-text-repr-fallback {display: none;}</style><div id=\"sk-container-id-1\" class=\"sk-top-container\"><div class=\"sk-text-repr-fallback\"><pre>Pipeline(steps=[(&#x27;scale&#x27;, None), (&#x27;model&#x27;, RandomForestClassifier(n_jobs=-1))])</pre><b>In a Jupyter environment, please rerun this cell to show the HTML representation or trust the notebook. <br />On GitHub, the HTML representation is unable to render, please try loading this page with nbviewer.org.</b></div><div class=\"sk-container\" hidden><div class=\"sk-item sk-dashed-wrapped\"><div class=\"sk-label-container\"><div class=\"sk-label sk-toggleable\"><input class=\"sk-toggleable__control sk-hidden--visually\" id=\"sk-estimator-id-1\" type=\"checkbox\" ><label for=\"sk-estimator-id-1\" class=\"sk-toggleable__label sk-toggleable__label-arrow\">Pipeline</label><div class=\"sk-toggleable__content\"><pre>Pipeline(steps=[(&#x27;scale&#x27;, None), (&#x27;model&#x27;, RandomForestClassifier(n_jobs=-1))])</pre></div></div></div><div class=\"sk-serial\"><div class=\"sk-item\"><div class=\"sk-estimator sk-toggleable\"><input class=\"sk-toggleable__control sk-hidden--visually\" id=\"sk-estimator-id-2\" type=\"checkbox\" ><label for=\"sk-estimator-id-2\" class=\"sk-toggleable__label sk-toggleable__label-arrow\">None</label><div class=\"sk-toggleable__content\"><pre>None</pre></div></div></div><div class=\"sk-item\"><div class=\"sk-estimator sk-toggleable\"><input class=\"sk-toggleable__control sk-hidden--visually\" id=\"sk-estimator-id-3\" type=\"checkbox\" ><label for=\"sk-estimator-id-3\" class=\"sk-toggleable__label sk-toggleable__label-arrow\">RandomForestClassifier</label><div class=\"sk-toggleable__content\"><pre>RandomForestClassifier(n_jobs=-1)</pre></div></div></div></div></div></div></div>"
      ],
      "text/plain": [
       "Pipeline(steps=[('scale', None), ('model', RandomForestClassifier(n_jobs=-1))])"
      ]
     },
     "execution_count": 43,
     "metadata": {},
     "output_type": "execute_result"
    }
   ],
   "source": [
    "model.fit(X_train, y_train.values.ravel())"
   ]
  },
  {
   "cell_type": "code",
   "execution_count": 44,
   "id": "af59f8c0",
   "metadata": {
    "execution": {
     "iopub.execute_input": "2025-07-30T13:49:43.843402Z",
     "iopub.status.busy": "2025-07-30T13:49:43.842905Z",
     "iopub.status.idle": "2025-07-30T13:49:43.848906Z",
     "shell.execute_reply": "2025-07-30T13:49:43.847806Z"
    },
    "papermill": {
     "duration": 0.033837,
     "end_time": "2025-07-30T13:49:43.850673",
     "exception": false,
     "start_time": "2025-07-30T13:49:43.816836",
     "status": "completed"
    },
    "tags": []
   },
   "outputs": [],
   "source": [
    "from fairness_multiverse.universe import predict_w_threshold"
   ]
  },
  {
   "cell_type": "code",
   "execution_count": 45,
   "id": "a7cf2e16",
   "metadata": {
    "execution": {
     "iopub.execute_input": "2025-07-30T13:49:43.903143Z",
     "iopub.status.busy": "2025-07-30T13:49:43.902312Z",
     "iopub.status.idle": "2025-07-30T13:49:44.904258Z",
     "shell.execute_reply": "2025-07-30T13:49:44.903411Z"
    },
    "papermill": {
     "duration": 1.02958,
     "end_time": "2025-07-30T13:49:44.905573",
     "exception": false,
     "start_time": "2025-07-30T13:49:43.875993",
     "status": "completed"
    },
    "tags": []
   },
   "outputs": [
    {
     "data": {
      "text/plain": [
       "0.8639728012484673"
      ]
     },
     "execution_count": 45,
     "metadata": {},
     "output_type": "execute_result"
    }
   ],
   "source": [
    "probs_test = model.predict_proba(X_test)\n",
    "\n",
    "'''\n",
    "Below code returns a boolean array (or binary 0/1 array depending on how it’s used) where each element \n",
    "is True if the probability of class 1 is greater than or equal to the threshold, and False otherwise.\n",
    "'''\n",
    "y_pred_default = predict_w_threshold(probs_test, 0.5)\n",
    "\n",
    "from sklearn.metrics import accuracy_score\n",
    "\n",
    "# Naive prediction\n",
    "accuracy_score(y_true = y_true, y_pred = y_pred_default)"
   ]
  },
  {
   "cell_type": "code",
   "execution_count": 46,
   "id": "081964c3",
   "metadata": {
    "execution": {
     "iopub.execute_input": "2025-07-30T13:49:44.932681Z",
     "iopub.status.busy": "2025-07-30T13:49:44.932154Z",
     "iopub.status.idle": "2025-07-30T13:49:45.841370Z",
     "shell.execute_reply": "2025-07-30T13:49:45.840123Z"
    },
    "papermill": {
     "duration": 0.924485,
     "end_time": "2025-07-30T13:49:45.843231",
     "exception": false,
     "start_time": "2025-07-30T13:49:44.918746",
     "status": "completed"
    },
    "tags": []
   },
   "outputs": [
    {
     "data": {
      "text/plain": [
       "array([0, 0, 0, ..., 0, 0, 0])"
      ]
     },
     "execution_count": 46,
     "metadata": {},
     "output_type": "execute_result"
    }
   ],
   "source": [
    "model.predict(X_test)"
   ]
  },
  {
   "cell_type": "markdown",
   "id": "56c9705b",
   "metadata": {
    "papermill": {
     "duration": 0.026899,
     "end_time": "2025-07-30T13:49:45.897881",
     "exception": false,
     "start_time": "2025-07-30T13:49:45.870982",
     "status": "completed"
    },
    "tags": []
   },
   "source": [
    "# Conformal Prediction"
   ]
  },
  {
   "cell_type": "code",
   "execution_count": 47,
   "id": "160ec6ff",
   "metadata": {
    "execution": {
     "iopub.execute_input": "2025-07-30T13:49:45.953482Z",
     "iopub.status.busy": "2025-07-30T13:49:45.952859Z",
     "iopub.status.idle": "2025-07-30T13:49:45.959848Z",
     "shell.execute_reply": "2025-07-30T13:49:45.958539Z"
    },
    "papermill": {
     "duration": 0.036686,
     "end_time": "2025-07-30T13:49:45.961904",
     "exception": false,
     "start_time": "2025-07-30T13:49:45.925218",
     "status": "completed"
    },
    "tags": []
   },
   "outputs": [],
   "source": [
    "# Miscoverage level for conformal prediction (10% allowed error rate => 90% target coverage)\n",
    "alpha = 0.1"
   ]
  },
  {
   "cell_type": "code",
   "execution_count": 48,
   "id": "eadf4555-3dd3-440e-8e35-f82a4ad9f855",
   "metadata": {
    "execution": {
     "iopub.execute_input": "2025-07-30T13:49:46.017994Z",
     "iopub.status.busy": "2025-07-30T13:49:46.016935Z",
     "iopub.status.idle": "2025-07-30T13:49:46.849407Z",
     "shell.execute_reply": "2025-07-30T13:49:46.848440Z"
    },
    "papermill": {
     "duration": 0.862079,
     "end_time": "2025-07-30T13:49:46.850911",
     "exception": false,
     "start_time": "2025-07-30T13:49:45.988832",
     "status": "completed"
    },
    "tags": []
   },
   "outputs": [],
   "source": [
    "probs_calib = model.predict_proba(X_calib)"
   ]
  },
  {
   "cell_type": "code",
   "execution_count": 49,
   "id": "2ed93547-6d5d-4983-9b36-1ecb300da49a",
   "metadata": {
    "execution": {
     "iopub.execute_input": "2025-07-30T13:49:46.883795Z",
     "iopub.status.busy": "2025-07-30T13:49:46.883346Z",
     "iopub.status.idle": "2025-07-30T13:49:46.887953Z",
     "shell.execute_reply": "2025-07-30T13:49:46.887274Z"
    },
    "papermill": {
     "duration": 0.023391,
     "end_time": "2025-07-30T13:49:46.889272",
     "exception": false,
     "start_time": "2025-07-30T13:49:46.865881",
     "status": "completed"
    },
    "tags": []
   },
   "outputs": [],
   "source": [
    "y_calib = y_calib.values.ravel().astype(int)"
   ]
  },
  {
   "cell_type": "code",
   "execution_count": 50,
   "id": "65d1320d-f588-4b38-9072-62af1ae97f7d",
   "metadata": {
    "execution": {
     "iopub.execute_input": "2025-07-30T13:49:46.916429Z",
     "iopub.status.busy": "2025-07-30T13:49:46.916059Z",
     "iopub.status.idle": "2025-07-30T13:49:46.925526Z",
     "shell.execute_reply": "2025-07-30T13:49:46.924471Z"
    },
    "papermill": {
     "duration": 0.024465,
     "end_time": "2025-07-30T13:49:46.926897",
     "exception": false,
     "start_time": "2025-07-30T13:49:46.902432",
     "status": "completed"
    },
    "tags": []
   },
   "outputs": [],
   "source": [
    "from fairness_multiverse.conformal import compute_nc_scores\n",
    "\n",
    "# Compute nonconformity scores on calibration set (1 - probability of true class)\n",
    "nc_scores = compute_nc_scores(probs_calib, y_calib)"
   ]
  },
  {
   "cell_type": "code",
   "execution_count": 51,
   "id": "df3b8ca3-53b7-43d5-9667-7c85da7aeda2",
   "metadata": {
    "execution": {
     "iopub.execute_input": "2025-07-30T13:49:46.955188Z",
     "iopub.status.busy": "2025-07-30T13:49:46.954831Z",
     "iopub.status.idle": "2025-07-30T13:49:46.960240Z",
     "shell.execute_reply": "2025-07-30T13:49:46.959482Z"
    },
    "papermill": {
     "duration": 0.021839,
     "end_time": "2025-07-30T13:49:46.961785",
     "exception": false,
     "start_time": "2025-07-30T13:49:46.939946",
     "status": "completed"
    },
    "tags": []
   },
   "outputs": [],
   "source": [
    "from fairness_multiverse.conformal import find_threshold\n",
    "\n",
    "# Find conformal threshold q_hat for the given alpha (split conformal method)\n",
    "q_hat = find_threshold(nc_scores, alpha)"
   ]
  },
  {
   "cell_type": "code",
   "execution_count": 52,
   "id": "4d29e6c1-0ef6-4aa4-b8fe-4fe79b0d033a",
   "metadata": {
    "execution": {
     "iopub.execute_input": "2025-07-30T13:49:47.012201Z",
     "iopub.status.busy": "2025-07-30T13:49:47.011730Z",
     "iopub.status.idle": "2025-07-30T13:49:47.017630Z",
     "shell.execute_reply": "2025-07-30T13:49:47.016900Z"
    },
    "papermill": {
     "duration": 0.03219,
     "end_time": "2025-07-30T13:49:47.018797",
     "exception": false,
     "start_time": "2025-07-30T13:49:46.986607",
     "status": "completed"
    },
    "tags": []
   },
   "outputs": [
    {
     "data": {
      "text/plain": [
       "0.6599999999999999"
      ]
     },
     "execution_count": 52,
     "metadata": {},
     "output_type": "execute_result"
    }
   ],
   "source": [
    "q_hat"
   ]
  },
  {
   "cell_type": "code",
   "execution_count": 53,
   "id": "92460794-cdac-4be2-ba28-f28c0515a6fb",
   "metadata": {
    "execution": {
     "iopub.execute_input": "2025-07-30T13:49:47.047886Z",
     "iopub.status.busy": "2025-07-30T13:49:47.047480Z",
     "iopub.status.idle": "2025-07-30T13:49:48.638899Z",
     "shell.execute_reply": "2025-07-30T13:49:48.637918Z"
    },
    "papermill": {
     "duration": 1.606255,
     "end_time": "2025-07-30T13:49:48.640806",
     "exception": false,
     "start_time": "2025-07-30T13:49:47.034551",
     "status": "completed"
    },
    "tags": []
   },
   "outputs": [],
   "source": [
    "from fairness_multiverse.conformal import predict_conformal_sets\n",
    "\n",
    "# Generate prediction sets for each test example\n",
    "pred_sets = predict_conformal_sets(model, X_test, q_hat)"
   ]
  },
  {
   "cell_type": "code",
   "execution_count": 54,
   "id": "d90c9a65-e6db-4f5d-80cd-e68fb7e46829",
   "metadata": {
    "execution": {
     "iopub.execute_input": "2025-07-30T13:49:48.724700Z",
     "iopub.status.busy": "2025-07-30T13:49:48.724219Z",
     "iopub.status.idle": "2025-07-30T13:49:48.730307Z",
     "shell.execute_reply": "2025-07-30T13:49:48.729406Z"
    },
    "papermill": {
     "duration": 0.036092,
     "end_time": "2025-07-30T13:49:48.732640",
     "exception": false,
     "start_time": "2025-07-30T13:49:48.696548",
     "status": "completed"
    },
    "tags": []
   },
   "outputs": [],
   "source": [
    "y_true = y_true.squeeze()"
   ]
  },
  {
   "cell_type": "code",
   "execution_count": 55,
   "id": "3a58a54a-1e68-46b9-927a-df01f18aebc8",
   "metadata": {
    "execution": {
     "iopub.execute_input": "2025-07-30T13:49:48.782465Z",
     "iopub.status.busy": "2025-07-30T13:49:48.781981Z",
     "iopub.status.idle": "2025-07-30T13:49:49.768184Z",
     "shell.execute_reply": "2025-07-30T13:49:49.767228Z"
    },
    "papermill": {
     "duration": 1.013413,
     "end_time": "2025-07-30T13:49:49.770127",
     "exception": false,
     "start_time": "2025-07-30T13:49:48.756714",
     "status": "completed"
    },
    "tags": []
   },
   "outputs": [],
   "source": [
    "from fairness_multiverse.conformal import evaluate_sets\n",
    "\n",
    "# Evaluate coverage and average set size on test data\n",
    "metrics = evaluate_sets(pred_sets, y_true)"
   ]
  },
  {
   "cell_type": "markdown",
   "id": "2b569c12-9aaa-4c88-98c9-bbcd0cf3ebb8",
   "metadata": {
    "papermill": {
     "duration": 0.036817,
     "end_time": "2025-07-30T13:49:49.857980",
     "exception": false,
     "start_time": "2025-07-30T13:49:49.821163",
     "status": "completed"
    },
    "tags": []
   },
   "source": [
    "# CP Metrics"
   ]
  },
  {
   "cell_type": "code",
   "execution_count": 56,
   "id": "5ce0a5cb-201f-45a0-ade5-94c7f0bd6095",
   "metadata": {
    "execution": {
     "iopub.execute_input": "2025-07-30T13:49:49.965686Z",
     "iopub.status.busy": "2025-07-30T13:49:49.965300Z",
     "iopub.status.idle": "2025-07-30T13:49:49.972739Z",
     "shell.execute_reply": "2025-07-30T13:49:49.971776Z"
    },
    "papermill": {
     "duration": 0.066353,
     "end_time": "2025-07-30T13:49:49.974195",
     "exception": false,
     "start_time": "2025-07-30T13:49:49.907842",
     "status": "completed"
    },
    "tags": []
   },
   "outputs": [
    {
     "data": {
      "text/plain": [
       "{'coverage': 0.9124735258053729, 'avg_size': 1.1441533831233976}"
      ]
     },
     "execution_count": 56,
     "metadata": {},
     "output_type": "execute_result"
    }
   ],
   "source": [
    "metrics"
   ]
  },
  {
   "cell_type": "code",
   "execution_count": 57,
   "id": "9b9a838d-31c9-430b-ae14-12baee460d17",
   "metadata": {
    "execution": {
     "iopub.execute_input": "2025-07-30T13:49:50.025409Z",
     "iopub.status.busy": "2025-07-30T13:49:50.024949Z",
     "iopub.status.idle": "2025-07-30T13:49:50.031928Z",
     "shell.execute_reply": "2025-07-30T13:49:50.031019Z"
    },
    "papermill": {
     "duration": 0.03615,
     "end_time": "2025-07-30T13:49:50.035102",
     "exception": false,
     "start_time": "2025-07-30T13:49:49.998952",
     "status": "completed"
    },
    "tags": []
   },
   "outputs": [],
   "source": [
    "example_universe = universe.copy()\n",
    "universe_training_size = example_universe.get(\"training_size\")\n",
    "universe_scale = example_universe.get(\"scale\")\n",
    "universe_model = example_universe.get(\"model\")\n",
    "universe_exclude_features = example_universe.get(\"exclude_features\")\n",
    "universe_exclude_subgroups = example_universe.get(\"exclude_subgroups\")"
   ]
  },
  {
   "cell_type": "code",
   "execution_count": 58,
   "id": "f4b6a8ac-9dc0-4245-8a91-5b3b5999c4f9",
   "metadata": {
    "execution": {
     "iopub.execute_input": "2025-07-30T13:49:50.088465Z",
     "iopub.status.busy": "2025-07-30T13:49:50.087910Z",
     "iopub.status.idle": "2025-07-30T13:49:50.094415Z",
     "shell.execute_reply": "2025-07-30T13:49:50.093467Z"
    },
    "papermill": {
     "duration": 0.034877,
     "end_time": "2025-07-30T13:49:50.095938",
     "exception": false,
     "start_time": "2025-07-30T13:49:50.061061",
     "status": "completed"
    },
    "tags": []
   },
   "outputs": [],
   "source": [
    "cp_metrics_dict = {\n",
    "    \"universe_id\": [universe_id],\n",
    "    \"universe_training_size\": [universe_training_size],\n",
    "    \"universe_scale\": [universe_scale],\n",
    "    \"universe_model\": [universe_model],\n",
    "    \"universe_exclude_features\": [universe_exclude_features],\n",
    "    \"universe_exclude_subgroups\": [universe_exclude_subgroups],\n",
    "    \"q_hat\": [q_hat],\n",
    "    \"coverage\": [metrics[\"coverage\"]],\n",
    "    \"avg_size\": [metrics[\"avg_size\"]],\n",
    "}"
   ]
  },
  {
   "cell_type": "code",
   "execution_count": 59,
   "id": "908acbb1-0371-4915-85ca-3fa520d2efe2",
   "metadata": {
    "execution": {
     "iopub.execute_input": "2025-07-30T13:49:50.131740Z",
     "iopub.status.busy": "2025-07-30T13:49:50.131288Z",
     "iopub.status.idle": "2025-07-30T13:49:50.138076Z",
     "shell.execute_reply": "2025-07-30T13:49:50.137311Z"
    },
    "papermill": {
     "duration": 0.022809,
     "end_time": "2025-07-30T13:49:50.139336",
     "exception": false,
     "start_time": "2025-07-30T13:49:50.116527",
     "status": "completed"
    },
    "tags": []
   },
   "outputs": [
    {
     "data": {
      "text/plain": [
       "{'universe_id': ['8dda01b593e6f1fa1234d01746756c48'],\n",
       " 'universe_training_size': ['5k'],\n",
       " 'universe_scale': ['do-not-scale'],\n",
       " 'universe_model': ['rf'],\n",
       " 'universe_exclude_features': ['nationality-sex'],\n",
       " 'universe_exclude_subgroups': ['keep-all'],\n",
       " 'q_hat': [0.6599999999999999],\n",
       " 'coverage': [0.9124735258053729],\n",
       " 'avg_size': [1.1441533831233976]}"
      ]
     },
     "execution_count": 59,
     "metadata": {},
     "output_type": "execute_result"
    }
   ],
   "source": [
    "cp_metrics_dict"
   ]
  },
  {
   "cell_type": "code",
   "execution_count": 60,
   "id": "33007efc-14e9-4ec6-97ac-56a455c82265",
   "metadata": {
    "execution": {
     "iopub.execute_input": "2025-07-30T13:49:50.170208Z",
     "iopub.status.busy": "2025-07-30T13:49:50.169852Z",
     "iopub.status.idle": "2025-07-30T13:49:50.174903Z",
     "shell.execute_reply": "2025-07-30T13:49:50.174075Z"
    },
    "papermill": {
     "duration": 0.021282,
     "end_time": "2025-07-30T13:49:50.176194",
     "exception": false,
     "start_time": "2025-07-30T13:49:50.154912",
     "status": "completed"
    },
    "tags": []
   },
   "outputs": [],
   "source": [
    "cp_metrics_df = pd.DataFrame(cp_metrics_dict)"
   ]
  },
  {
   "cell_type": "code",
   "execution_count": 61,
   "id": "db12611b-57b2-4910-b9d0-355adfd6e7bf",
   "metadata": {
    "execution": {
     "iopub.execute_input": "2025-07-30T13:49:50.214931Z",
     "iopub.status.busy": "2025-07-30T13:49:50.214387Z",
     "iopub.status.idle": "2025-07-30T13:49:50.235700Z",
     "shell.execute_reply": "2025-07-30T13:49:50.234688Z"
    },
    "papermill": {
     "duration": 0.047193,
     "end_time": "2025-07-30T13:49:50.237581",
     "exception": false,
     "start_time": "2025-07-30T13:49:50.190388",
     "status": "completed"
    },
    "tags": []
   },
   "outputs": [
    {
     "data": {
      "text/html": [
       "<div>\n",
       "<style scoped>\n",
       "    .dataframe tbody tr th:only-of-type {\n",
       "        vertical-align: middle;\n",
       "    }\n",
       "\n",
       "    .dataframe tbody tr th {\n",
       "        vertical-align: top;\n",
       "    }\n",
       "\n",
       "    .dataframe thead th {\n",
       "        text-align: right;\n",
       "    }\n",
       "</style>\n",
       "<table border=\"1\" class=\"dataframe\">\n",
       "  <thead>\n",
       "    <tr style=\"text-align: right;\">\n",
       "      <th></th>\n",
       "      <th>universe_id</th>\n",
       "      <th>universe_training_size</th>\n",
       "      <th>universe_scale</th>\n",
       "      <th>universe_model</th>\n",
       "      <th>universe_exclude_features</th>\n",
       "      <th>universe_exclude_subgroups</th>\n",
       "      <th>q_hat</th>\n",
       "      <th>coverage</th>\n",
       "      <th>avg_size</th>\n",
       "    </tr>\n",
       "  </thead>\n",
       "  <tbody>\n",
       "    <tr>\n",
       "      <th>0</th>\n",
       "      <td>8dda01b593e6f1fa1234d01746756c48</td>\n",
       "      <td>5k</td>\n",
       "      <td>do-not-scale</td>\n",
       "      <td>rf</td>\n",
       "      <td>nationality-sex</td>\n",
       "      <td>keep-all</td>\n",
       "      <td>0.66</td>\n",
       "      <td>0.912474</td>\n",
       "      <td>1.144153</td>\n",
       "    </tr>\n",
       "  </tbody>\n",
       "</table>\n",
       "</div>"
      ],
      "text/plain": [
       "                        universe_id universe_training_size universe_scale  \\\n",
       "0  8dda01b593e6f1fa1234d01746756c48                     5k   do-not-scale   \n",
       "\n",
       "  universe_model universe_exclude_features universe_exclude_subgroups  q_hat  \\\n",
       "0             rf           nationality-sex                   keep-all   0.66   \n",
       "\n",
       "   coverage  avg_size  \n",
       "0  0.912474  1.144153  "
      ]
     },
     "execution_count": 61,
     "metadata": {},
     "output_type": "execute_result"
    }
   ],
   "source": [
    "cp_metrics_df"
   ]
  },
  {
   "cell_type": "code",
   "execution_count": 62,
   "id": "b7fbde55-a0a1-47e4-9af6-fe4a17fa8c61",
   "metadata": {
    "execution": {
     "iopub.execute_input": "2025-07-30T13:49:50.297549Z",
     "iopub.status.busy": "2025-07-30T13:49:50.297152Z",
     "iopub.status.idle": "2025-07-30T13:49:50.302424Z",
     "shell.execute_reply": "2025-07-30T13:49:50.301578Z"
    },
    "papermill": {
     "duration": 0.034155,
     "end_time": "2025-07-30T13:49:50.305521",
     "exception": false,
     "start_time": "2025-07-30T13:49:50.271366",
     "status": "completed"
    },
    "tags": []
   },
   "outputs": [],
   "source": [
    "# Conditional Coverage & looking at subgroups"
   ]
  },
  {
   "cell_type": "code",
   "execution_count": 63,
   "id": "027ae886-68dd-4141-96c7-805a5450e1ef",
   "metadata": {
    "execution": {
     "iopub.execute_input": "2025-07-30T13:49:50.356830Z",
     "iopub.status.busy": "2025-07-30T13:49:50.356441Z",
     "iopub.status.idle": "2025-07-30T13:49:50.716194Z",
     "shell.execute_reply": "2025-07-30T13:49:50.714906Z"
    },
    "papermill": {
     "duration": 0.387649,
     "end_time": "2025-07-30T13:49:50.718321",
     "exception": false,
     "start_time": "2025-07-30T13:49:50.330672",
     "status": "completed"
    },
    "tags": []
   },
   "outputs": [],
   "source": [
    "from fairness_multiverse.conformal import build_cp_groups\n",
    "\n",
    "cp_groups_df = build_cp_groups(pred_sets, y_true, X_test.index, org_test)\n",
    "#needs universe_id and setting"
   ]
  },
  {
   "cell_type": "code",
   "execution_count": 64,
   "id": "01d5802c-663a-4d1f-9d69-e036faaffbf7",
   "metadata": {
    "execution": {
     "iopub.execute_input": "2025-07-30T13:49:50.768601Z",
     "iopub.status.busy": "2025-07-30T13:49:50.768213Z",
     "iopub.status.idle": "2025-07-30T13:49:50.773660Z",
     "shell.execute_reply": "2025-07-30T13:49:50.772433Z"
    },
    "papermill": {
     "duration": 0.034235,
     "end_time": "2025-07-30T13:49:50.777176",
     "exception": false,
     "start_time": "2025-07-30T13:49:50.742941",
     "status": "completed"
    },
    "tags": []
   },
   "outputs": [],
   "source": [
    "#delete\n",
    "#cp_groups_df"
   ]
  },
  {
   "cell_type": "code",
   "execution_count": 65,
   "id": "fa424af1-d1eb-443d-b717-2d279ada8408",
   "metadata": {
    "execution": {
     "iopub.execute_input": "2025-07-30T13:49:50.839809Z",
     "iopub.status.busy": "2025-07-30T13:49:50.839422Z",
     "iopub.status.idle": "2025-07-30T13:49:50.844461Z",
     "shell.execute_reply": "2025-07-30T13:49:50.843608Z"
    },
    "papermill": {
     "duration": 0.045987,
     "end_time": "2025-07-30T13:49:50.847142",
     "exception": false,
     "start_time": "2025-07-30T13:49:50.801155",
     "status": "completed"
    },
    "tags": []
   },
   "outputs": [],
   "source": [
    "#delete\n",
    "#percentage = (cp_groups_df['nongerman_female'] == 1).mean() * 100\n",
    "#print(percentage)\n"
   ]
  },
  {
   "cell_type": "code",
   "execution_count": 66,
   "id": "6cbdab96-b2b2-45af-ad54-d0516db2e28d",
   "metadata": {
    "execution": {
     "iopub.execute_input": "2025-07-30T13:49:50.927260Z",
     "iopub.status.busy": "2025-07-30T13:49:50.926817Z",
     "iopub.status.idle": "2025-07-30T13:49:52.528723Z",
     "shell.execute_reply": "2025-07-30T13:49:52.527702Z"
    },
    "papermill": {
     "duration": 1.657985,
     "end_time": "2025-07-30T13:49:52.530712",
     "exception": false,
     "start_time": "2025-07-30T13:49:50.872727",
     "status": "completed"
    },
    "tags": []
   },
   "outputs": [],
   "source": [
    "# Define covered = 1 if true_label is in the predicted set\n",
    "cp_groups_df['covered'] = cp_groups_df.apply(\n",
    "    lambda r: int(r['true_label'] in r['pred_set']),\n",
    "    axis=1\n",
    ")"
   ]
  },
  {
   "cell_type": "code",
   "execution_count": 67,
   "id": "338ff529-1a6b-4b87-a931-8e4788d52aad",
   "metadata": {
    "execution": {
     "iopub.execute_input": "2025-07-30T13:49:52.614812Z",
     "iopub.status.busy": "2025-07-30T13:49:52.613918Z",
     "iopub.status.idle": "2025-07-30T13:49:52.619680Z",
     "shell.execute_reply": "2025-07-30T13:49:52.618602Z"
    },
    "papermill": {
     "duration": 0.041259,
     "end_time": "2025-07-30T13:49:52.621279",
     "exception": false,
     "start_time": "2025-07-30T13:49:52.580020",
     "status": "completed"
    },
    "tags": []
   },
   "outputs": [],
   "source": [
    "#cp_groups_df"
   ]
  },
  {
   "cell_type": "code",
   "execution_count": 68,
   "id": "90032e27-66df-4540-9169-4e89cfbaa758",
   "metadata": {
    "execution": {
     "iopub.execute_input": "2025-07-30T13:49:52.676613Z",
     "iopub.status.busy": "2025-07-30T13:49:52.675683Z",
     "iopub.status.idle": "2025-07-30T13:49:52.696115Z",
     "shell.execute_reply": "2025-07-30T13:49:52.686373Z"
    },
    "papermill": {
     "duration": 0.061963,
     "end_time": "2025-07-30T13:49:52.709769",
     "exception": false,
     "start_time": "2025-07-30T13:49:52.647806",
     "status": "completed"
    },
    "tags": []
   },
   "outputs": [],
   "source": [
    "subgroups = ['frau1','nongerman','nongerman_male','nongerman_female']\n",
    "\n",
    "# Conditional coverage for subgroup==1\n",
    "cond_coverage = {\n",
    "    g: cp_groups_df.loc[cp_groups_df[g]==1, 'covered'].mean()\n",
    "    for g in subgroups\n",
    "}"
   ]
  },
  {
   "cell_type": "code",
   "execution_count": 69,
   "id": "1e348fb1-b9c3-45bc-ba23-f016827a7e0d",
   "metadata": {
    "execution": {
     "iopub.execute_input": "2025-07-30T13:49:52.818860Z",
     "iopub.status.busy": "2025-07-30T13:49:52.818435Z",
     "iopub.status.idle": "2025-07-30T13:49:52.825505Z",
     "shell.execute_reply": "2025-07-30T13:49:52.824814Z"
    },
    "papermill": {
     "duration": 0.058516,
     "end_time": "2025-07-30T13:49:52.827162",
     "exception": false,
     "start_time": "2025-07-30T13:49:52.768646",
     "status": "completed"
    },
    "tags": []
   },
   "outputs": [
    {
     "data": {
      "text/plain": [
       "{'frau1': 0.9102844049063216,\n",
       " 'nongerman': 0.9009150620333465,\n",
       " 'nongerman_male': 0.9150679996397371,\n",
       " 'nongerman_female': 0.8774962742175857}"
      ]
     },
     "execution_count": 69,
     "metadata": {},
     "output_type": "execute_result"
    }
   ],
   "source": [
    "cond_coverage"
   ]
  },
  {
   "cell_type": "code",
   "execution_count": 70,
   "id": "f5093324-c3dd-4d63-bc4c-8d945e5c8bbb",
   "metadata": {
    "execution": {
     "iopub.execute_input": "2025-07-30T13:49:52.892558Z",
     "iopub.status.busy": "2025-07-30T13:49:52.892128Z",
     "iopub.status.idle": "2025-07-30T13:49:52.899435Z",
     "shell.execute_reply": "2025-07-30T13:49:52.898431Z"
    },
    "papermill": {
     "duration": 0.050376,
     "end_time": "2025-07-30T13:49:52.904289",
     "exception": false,
     "start_time": "2025-07-30T13:49:52.853913",
     "status": "completed"
    },
    "tags": []
   },
   "outputs": [],
   "source": [
    "for subgroup, cov in cond_coverage.items():\n",
    "    cp_metrics_df[f\"cov_{subgroup}\"] = cov"
   ]
  },
  {
   "cell_type": "code",
   "execution_count": 71,
   "id": "6e872e10-dbe5-49e8-b554-5030c98ff75d",
   "metadata": {
    "execution": {
     "iopub.execute_input": "2025-07-30T13:49:52.975378Z",
     "iopub.status.busy": "2025-07-30T13:49:52.974401Z",
     "iopub.status.idle": "2025-07-30T13:49:53.019218Z",
     "shell.execute_reply": "2025-07-30T13:49:53.018249Z"
    },
    "papermill": {
     "duration": 0.079998,
     "end_time": "2025-07-30T13:49:53.020905",
     "exception": false,
     "start_time": "2025-07-30T13:49:52.940907",
     "status": "completed"
    },
    "tags": []
   },
   "outputs": [
    {
     "data": {
      "text/html": [
       "<div>\n",
       "<style scoped>\n",
       "    .dataframe tbody tr th:only-of-type {\n",
       "        vertical-align: middle;\n",
       "    }\n",
       "\n",
       "    .dataframe tbody tr th {\n",
       "        vertical-align: top;\n",
       "    }\n",
       "\n",
       "    .dataframe thead th {\n",
       "        text-align: right;\n",
       "    }\n",
       "</style>\n",
       "<table border=\"1\" class=\"dataframe\">\n",
       "  <thead>\n",
       "    <tr style=\"text-align: right;\">\n",
       "      <th></th>\n",
       "      <th>universe_id</th>\n",
       "      <th>universe_training_size</th>\n",
       "      <th>universe_scale</th>\n",
       "      <th>universe_model</th>\n",
       "      <th>universe_exclude_features</th>\n",
       "      <th>universe_exclude_subgroups</th>\n",
       "      <th>q_hat</th>\n",
       "      <th>coverage</th>\n",
       "      <th>avg_size</th>\n",
       "      <th>cov_frau1</th>\n",
       "      <th>cov_nongerman</th>\n",
       "      <th>cov_nongerman_male</th>\n",
       "      <th>cov_nongerman_female</th>\n",
       "    </tr>\n",
       "  </thead>\n",
       "  <tbody>\n",
       "    <tr>\n",
       "      <th>0</th>\n",
       "      <td>8dda01b593e6f1fa1234d01746756c48</td>\n",
       "      <td>5k</td>\n",
       "      <td>do-not-scale</td>\n",
       "      <td>rf</td>\n",
       "      <td>nationality-sex</td>\n",
       "      <td>keep-all</td>\n",
       "      <td>0.66</td>\n",
       "      <td>0.912474</td>\n",
       "      <td>1.144153</td>\n",
       "      <td>0.910284</td>\n",
       "      <td>0.900915</td>\n",
       "      <td>0.915068</td>\n",
       "      <td>0.877496</td>\n",
       "    </tr>\n",
       "  </tbody>\n",
       "</table>\n",
       "</div>"
      ],
      "text/plain": [
       "                        universe_id universe_training_size universe_scale  \\\n",
       "0  8dda01b593e6f1fa1234d01746756c48                     5k   do-not-scale   \n",
       "\n",
       "  universe_model universe_exclude_features universe_exclude_subgroups  q_hat  \\\n",
       "0             rf           nationality-sex                   keep-all   0.66   \n",
       "\n",
       "   coverage  avg_size  cov_frau1  cov_nongerman  cov_nongerman_male  \\\n",
       "0  0.912474  1.144153   0.910284       0.900915            0.915068   \n",
       "\n",
       "   cov_nongerman_female  \n",
       "0              0.877496  "
      ]
     },
     "execution_count": 71,
     "metadata": {},
     "output_type": "execute_result"
    }
   ],
   "source": [
    "cp_metrics_df"
   ]
  },
  {
   "cell_type": "markdown",
   "id": "33774451",
   "metadata": {
    "papermill": {
     "duration": 0.027671,
     "end_time": "2025-07-30T13:49:53.075637",
     "exception": false,
     "start_time": "2025-07-30T13:49:53.047966",
     "status": "completed"
    },
    "tags": []
   },
   "source": [
    "# (Fairness) Metrics"
   ]
  },
  {
   "cell_type": "code",
   "execution_count": 72,
   "id": "debc5d62",
   "metadata": {
    "execution": {
     "iopub.execute_input": "2025-07-30T13:49:53.133785Z",
     "iopub.status.busy": "2025-07-30T13:49:53.133256Z",
     "iopub.status.idle": "2025-07-30T13:49:53.154172Z",
     "shell.execute_reply": "2025-07-30T13:49:53.153172Z"
    },
    "papermill": {
     "duration": 0.052506,
     "end_time": "2025-07-30T13:49:53.156152",
     "exception": false,
     "start_time": "2025-07-30T13:49:53.103646",
     "status": "completed"
    },
    "tags": []
   },
   "outputs": [],
   "source": [
    "# do I need to include maxdeutsch1.missing?\n",
    "\n",
    "import numpy as np\n",
    "\n",
    "colname_to_bin = \"maxdeutsch1\"\n",
    "majority_value = org_train[colname_to_bin].mode()[0]\n",
    "\n",
    "org_test[\"majmin\"] = np.where(org_test[colname_to_bin] == majority_value, \"majority\", \"minority\")"
   ]
  },
  {
   "cell_type": "code",
   "execution_count": 73,
   "id": "06a50de5",
   "metadata": {
    "execution": {
     "iopub.execute_input": "2025-07-30T13:49:53.218133Z",
     "iopub.status.busy": "2025-07-30T13:49:53.217330Z",
     "iopub.status.idle": "2025-07-30T13:49:56.038895Z",
     "shell.execute_reply": "2025-07-30T13:49:56.037919Z"
    },
    "papermill": {
     "duration": 2.855078,
     "end_time": "2025-07-30T13:49:56.041073",
     "exception": false,
     "start_time": "2025-07-30T13:49:53.185995",
     "status": "completed"
    },
    "tags": []
   },
   "outputs": [],
   "source": [
    "example_universe = universe.copy()\n",
    "example_universe[\"cutoff\"] = example_universe[\"cutoff\"][0]\n",
    "example_universe[\"eval_fairness_grouping\"] = example_universe[\"eval_fairness_grouping\"][0]\n",
    "fairness_dict, metric_frame = universe_analysis.compute_metrics(\n",
    "    example_universe,\n",
    "    y_pred_prob=probs_test,\n",
    "    y_test=y_true,\n",
    "    org_test=org_test,\n",
    ")"
   ]
  },
  {
   "cell_type": "markdown",
   "id": "f95d4e02",
   "metadata": {
    "papermill": {
     "duration": 0.027174,
     "end_time": "2025-07-30T13:49:56.096418",
     "exception": false,
     "start_time": "2025-07-30T13:49:56.069244",
     "status": "completed"
    },
    "tags": []
   },
   "source": [
    "# Overall"
   ]
  },
  {
   "cell_type": "markdown",
   "id": "bdee4871",
   "metadata": {
    "papermill": {
     "duration": 0.027911,
     "end_time": "2025-07-30T13:49:56.156014",
     "exception": false,
     "start_time": "2025-07-30T13:49:56.128103",
     "status": "completed"
    },
    "tags": []
   },
   "source": [
    "Fairness\n",
    "Main fairness target: Equalized Odds. Seems to be a better fit than equal opportunity, since we're not only interested in Y = 1. Seems to be a better fit than demographic parity, since we also care about accuracy, not just equal distribution of preds.\n",
    "\n",
    "Pick column for computation of fairness metrics\n",
    "\n",
    "Performance\n",
    "Overall performance measures, most interesting in relation to the measures split by group below"
   ]
  },
  {
   "cell_type": "code",
   "execution_count": 74,
   "id": "c4e067c6",
   "metadata": {
    "execution": {
     "iopub.execute_input": "2025-07-30T13:49:56.212556Z",
     "iopub.status.busy": "2025-07-30T13:49:56.212007Z",
     "iopub.status.idle": "2025-07-30T13:49:56.220578Z",
     "shell.execute_reply": "2025-07-30T13:49:56.219599Z"
    },
    "papermill": {
     "duration": 0.039594,
     "end_time": "2025-07-30T13:49:56.222197",
     "exception": false,
     "start_time": "2025-07-30T13:49:56.182603",
     "status": "completed"
    },
    "tags": []
   },
   "outputs": [
    {
     "data": {
      "text/plain": [
       "accuracy                   0.198662\n",
       "balanced accuracy          0.533329\n",
       "f1                         0.239474\n",
       "precision                  0.136335\n",
       "false positive rate        0.916831\n",
       "false negative rate        0.016510\n",
       "selection rate             0.925382\n",
       "count                  89710.000000\n",
       "dtype: float64"
      ]
     },
     "execution_count": 74,
     "metadata": {},
     "output_type": "execute_result"
    }
   ],
   "source": [
    "metric_frame.overall"
   ]
  },
  {
   "cell_type": "markdown",
   "id": "e968fe9d",
   "metadata": {
    "papermill": {
     "duration": 0.027124,
     "end_time": "2025-07-30T13:49:56.277421",
     "exception": false,
     "start_time": "2025-07-30T13:49:56.250297",
     "status": "completed"
    },
    "tags": []
   },
   "source": [
    "By Group"
   ]
  },
  {
   "cell_type": "code",
   "execution_count": 75,
   "id": "ec325bce",
   "metadata": {
    "execution": {
     "iopub.execute_input": "2025-07-30T13:49:56.334941Z",
     "iopub.status.busy": "2025-07-30T13:49:56.334027Z",
     "iopub.status.idle": "2025-07-30T13:49:56.353394Z",
     "shell.execute_reply": "2025-07-30T13:49:56.352312Z"
    },
    "papermill": {
     "duration": 0.049701,
     "end_time": "2025-07-30T13:49:56.355593",
     "exception": false,
     "start_time": "2025-07-30T13:49:56.305892",
     "status": "completed"
    },
    "tags": []
   },
   "outputs": [
    {
     "data": {
      "text/html": [
       "<div>\n",
       "<style scoped>\n",
       "    .dataframe tbody tr th:only-of-type {\n",
       "        vertical-align: middle;\n",
       "    }\n",
       "\n",
       "    .dataframe tbody tr th {\n",
       "        vertical-align: top;\n",
       "    }\n",
       "\n",
       "    .dataframe thead th {\n",
       "        text-align: right;\n",
       "    }\n",
       "</style>\n",
       "<table border=\"1\" class=\"dataframe\">\n",
       "  <thead>\n",
       "    <tr style=\"text-align: right;\">\n",
       "      <th></th>\n",
       "      <th>accuracy</th>\n",
       "      <th>balanced accuracy</th>\n",
       "      <th>f1</th>\n",
       "      <th>precision</th>\n",
       "      <th>false positive rate</th>\n",
       "      <th>false negative rate</th>\n",
       "      <th>selection rate</th>\n",
       "      <th>count</th>\n",
       "    </tr>\n",
       "    <tr>\n",
       "      <th>majmin</th>\n",
       "      <th></th>\n",
       "      <th></th>\n",
       "      <th></th>\n",
       "      <th></th>\n",
       "      <th></th>\n",
       "      <th></th>\n",
       "      <th></th>\n",
       "      <th></th>\n",
       "    </tr>\n",
       "  </thead>\n",
       "  <tbody>\n",
       "    <tr>\n",
       "      <th>majority</th>\n",
       "      <td>0.194275</td>\n",
       "      <td>0.532228</td>\n",
       "      <td>0.245417</td>\n",
       "      <td>0.140038</td>\n",
       "      <td>0.927120</td>\n",
       "      <td>0.008425</td>\n",
       "      <td>0.935637</td>\n",
       "      <td>69170.0</td>\n",
       "    </tr>\n",
       "    <tr>\n",
       "      <th>minority</th>\n",
       "      <td>0.213437</td>\n",
       "      <td>0.534719</td>\n",
       "      <td>0.218233</td>\n",
       "      <td>0.123238</td>\n",
       "      <td>0.882842</td>\n",
       "      <td>0.047720</td>\n",
       "      <td>0.890847</td>\n",
       "      <td>20540.0</td>\n",
       "    </tr>\n",
       "  </tbody>\n",
       "</table>\n",
       "</div>"
      ],
      "text/plain": [
       "          accuracy  balanced accuracy        f1  precision  \\\n",
       "majmin                                                       \n",
       "majority  0.194275           0.532228  0.245417   0.140038   \n",
       "minority  0.213437           0.534719  0.218233   0.123238   \n",
       "\n",
       "          false positive rate  false negative rate  selection rate    count  \n",
       "majmin                                                                       \n",
       "majority             0.927120             0.008425        0.935637  69170.0  \n",
       "minority             0.882842             0.047720        0.890847  20540.0  "
      ]
     },
     "execution_count": 75,
     "metadata": {},
     "output_type": "execute_result"
    }
   ],
   "source": [
    "metric_frame.by_group"
   ]
  },
  {
   "cell_type": "code",
   "execution_count": 76,
   "id": "a9ddbe63",
   "metadata": {
    "execution": {
     "iopub.execute_input": "2025-07-30T13:49:56.414201Z",
     "iopub.status.busy": "2025-07-30T13:49:56.413689Z",
     "iopub.status.idle": "2025-07-30T13:49:58.828546Z",
     "shell.execute_reply": "2025-07-30T13:49:58.827623Z"
    },
    "papermill": {
     "duration": 2.445302,
     "end_time": "2025-07-30T13:49:58.830222",
     "exception": false,
     "start_time": "2025-07-30T13:49:56.384920",
     "status": "completed"
    },
    "tags": []
   },
   "outputs": [
    {
     "data": {
      "text/plain": [
       "array([[<Axes: title={'center': 'accuracy'}, xlabel='majmin'>,\n",
       "        <Axes: title={'center': 'balanced accuracy'}, xlabel='majmin'>,\n",
       "        <Axes: title={'center': 'f1'}, xlabel='majmin'>],\n",
       "       [<Axes: title={'center': 'precision'}, xlabel='majmin'>,\n",
       "        <Axes: title={'center': 'false positive rate'}, xlabel='majmin'>,\n",
       "        <Axes: title={'center': 'false negative rate'}, xlabel='majmin'>],\n",
       "       [<Axes: title={'center': 'selection rate'}, xlabel='majmin'>,\n",
       "        <Axes: title={'center': 'count'}, xlabel='majmin'>,\n",
       "        <Axes: xlabel='majmin'>]], dtype=object)"
      ]
     },
     "execution_count": 76,
     "metadata": {},
     "output_type": "execute_result"
    },
    {
     "data": {
      "image/png": "[encoded data removed]",
      "text/plain": [
       "<Figure size 1200x800 with 9 Axes>"
      ]
     },
     "metadata": {},
     "output_type": "display_data"
    }
   ],
   "source": [
    "# In a graphic\n",
    "metric_frame.by_group.plot.bar(\n",
    "    subplots=True,\n",
    "    layout=[3, 3],\n",
    "    legend=False,\n",
    "    figsize=[12, 8],\n",
    "    title=\"Show all metrics\",\n",
    ")"
   ]
  },
  {
   "cell_type": "markdown",
   "id": "f57a0bac",
   "metadata": {
    "papermill": {
     "duration": 0.030188,
     "end_time": "2025-07-30T13:49:58.890200",
     "exception": false,
     "start_time": "2025-07-30T13:49:58.860012",
     "status": "completed"
    },
    "tags": []
   },
   "source": [
    "# Final Output"
   ]
  },
  {
   "cell_type": "code",
   "execution_count": 77,
   "id": "96d280a3",
   "metadata": {
    "execution": {
     "iopub.execute_input": "2025-07-30T13:49:58.950519Z",
     "iopub.status.busy": "2025-07-30T13:49:58.949812Z",
     "iopub.status.idle": "2025-07-30T13:49:58.958786Z",
     "shell.execute_reply": "2025-07-30T13:49:58.957795Z"
    },
    "papermill": {
     "duration": 0.041172,
     "end_time": "2025-07-30T13:49:58.960264",
     "exception": false,
     "start_time": "2025-07-30T13:49:58.919092",
     "status": "completed"
    },
    "tags": []
   },
   "outputs": [
    {
     "data": {
      "text/plain": [
       "4"
      ]
     },
     "execution_count": 77,
     "metadata": {},
     "output_type": "execute_result"
    }
   ],
   "source": [
    "sub_universes = universe_analysis.generate_sub_universes()\n",
    "len(sub_universes)"
   ]
  },
  {
   "cell_type": "code",
   "execution_count": 78,
   "id": "92adf7ba",
   "metadata": {
    "execution": {
     "iopub.execute_input": "2025-07-30T13:49:59.021611Z",
     "iopub.status.busy": "2025-07-30T13:49:59.021150Z",
     "iopub.status.idle": "2025-07-30T13:49:59.027041Z",
     "shell.execute_reply": "2025-07-30T13:49:59.026047Z"
    },
    "papermill": {
     "duration": 0.038514,
     "end_time": "2025-07-30T13:49:59.028589",
     "exception": false,
     "start_time": "2025-07-30T13:49:58.990075",
     "status": "completed"
    },
    "tags": []
   },
   "outputs": [],
   "source": [
    "def filter_sub_universe_data(sub_universe, org_test):\n",
    "    # Keep all rows — no filtering\n",
    "    keep_rows_mask = np.ones(org_test.shape[0], dtype=bool)\n",
    "\n",
    "    print(f\"[INFO] Keeping all rows: {keep_rows_mask.sum()} rows retained.\")\n",
    "    return keep_rows_mask"
   ]
  },
  {
   "cell_type": "code",
   "execution_count": 79,
   "id": "4a759155",
   "metadata": {
    "execution": {
     "iopub.execute_input": "2025-07-30T13:49:59.088971Z",
     "iopub.status.busy": "2025-07-30T13:49:59.088460Z",
     "iopub.status.idle": "2025-07-30T13:50:10.034776Z",
     "shell.execute_reply": "2025-07-30T13:50:10.033633Z"
    },
    "papermill": {
     "duration": 10.979443,
     "end_time": "2025-07-30T13:50:10.036855",
     "exception": false,
     "start_time": "2025-07-30T13:49:59.057412",
     "status": "completed"
    },
    "tags": []
   },
   "outputs": [
    {
     "name": "stdout",
     "output_type": "stream",
     "text": [
      "Stopping execution_time clock.\n",
      "[INFO] Keeping all rows: 89710 rows retained.\n"
     ]
    },
    {
     "name": "stdout",
     "output_type": "stream",
     "text": [
      "[INFO] Keeping all rows: 89710 rows retained.\n"
     ]
    },
    {
     "name": "stdout",
     "output_type": "stream",
     "text": [
      "[INFO] Keeping all rows: 89710 rows retained.\n"
     ]
    },
    {
     "name": "stdout",
     "output_type": "stream",
     "text": [
      "[INFO] Keeping all rows: 89710 rows retained.\n"
     ]
    },
    {
     "data": {
      "text/html": [
       "<div>\n",
       "<style scoped>\n",
       "    .dataframe tbody tr th:only-of-type {\n",
       "        vertical-align: middle;\n",
       "    }\n",
       "\n",
       "    .dataframe tbody tr th {\n",
       "        vertical-align: top;\n",
       "    }\n",
       "\n",
       "    .dataframe thead th {\n",
       "        text-align: right;\n",
       "    }\n",
       "</style>\n",
       "<table border=\"1\" class=\"dataframe\">\n",
       "  <thead>\n",
       "    <tr style=\"text-align: right;\">\n",
       "      <th></th>\n",
       "      <th>run_no</th>\n",
       "      <th>universe_id</th>\n",
       "      <th>universe_settings</th>\n",
       "      <th>execution_time</th>\n",
       "      <th>test_size_n</th>\n",
       "      <th>test_size_frac</th>\n",
       "      <th>fair_main_equalized_odds_difference</th>\n",
       "      <th>fair_main_equalized_odds_ratio</th>\n",
       "      <th>fair_main_demographic_parity_difference</th>\n",
       "      <th>fair_main_demographic_parity_ratio</th>\n",
       "      <th>...</th>\n",
       "      <th>perf_grp_precision_0</th>\n",
       "      <th>perf_grp_precision_1</th>\n",
       "      <th>perf_grp_false positive rate_0</th>\n",
       "      <th>perf_grp_false positive rate_1</th>\n",
       "      <th>perf_grp_false negative rate_0</th>\n",
       "      <th>perf_grp_false negative rate_1</th>\n",
       "      <th>perf_grp_selection rate_0</th>\n",
       "      <th>perf_grp_selection rate_1</th>\n",
       "      <th>perf_grp_count_0</th>\n",
       "      <th>perf_grp_count_1</th>\n",
       "    </tr>\n",
       "  </thead>\n",
       "  <tbody>\n",
       "    <tr>\n",
       "      <th>0</th>\n",
       "      <td>12</td>\n",
       "      <td>8dda01b593e6f1fa1234d01746756c48</td>\n",
       "      <td>{\"cutoff\": \"quantile_0.1\", \"eval_fairness_grou...</td>\n",
       "      <td>32.827935</td>\n",
       "      <td>89710</td>\n",
       "      <td>1.0</td>\n",
       "      <td>0.044278</td>\n",
       "      <td>0.952241</td>\n",
       "      <td>0.044790</td>\n",
       "      <td>0.952129</td>\n",
       "      <td>...</td>\n",
       "      <td>NaN</td>\n",
       "      <td>NaN</td>\n",
       "      <td>NaN</td>\n",
       "      <td>NaN</td>\n",
       "      <td>NaN</td>\n",
       "      <td>NaN</td>\n",
       "      <td>NaN</td>\n",
       "      <td>NaN</td>\n",
       "      <td>NaN</td>\n",
       "      <td>NaN</td>\n",
       "    </tr>\n",
       "    <tr>\n",
       "      <th>0</th>\n",
       "      <td>12</td>\n",
       "      <td>8dda01b593e6f1fa1234d01746756c48</td>\n",
       "      <td>{\"cutoff\": \"quantile_0.1\", \"eval_fairness_grou...</td>\n",
       "      <td>32.827935</td>\n",
       "      <td>89710</td>\n",
       "      <td>1.0</td>\n",
       "      <td>0.044278</td>\n",
       "      <td>0.952241</td>\n",
       "      <td>0.044790</td>\n",
       "      <td>0.952129</td>\n",
       "      <td>...</td>\n",
       "      <td>0.123238</td>\n",
       "      <td>0.140038</td>\n",
       "      <td>0.882842</td>\n",
       "      <td>0.927120</td>\n",
       "      <td>0.047720</td>\n",
       "      <td>0.008425</td>\n",
       "      <td>0.890847</td>\n",
       "      <td>0.935637</td>\n",
       "      <td>20540.0</td>\n",
       "      <td>69170.0</td>\n",
       "    </tr>\n",
       "    <tr>\n",
       "      <th>0</th>\n",
       "      <td>12</td>\n",
       "      <td>8dda01b593e6f1fa1234d01746756c48</td>\n",
       "      <td>{\"cutoff\": \"quantile_0.25\", \"eval_fairness_gro...</td>\n",
       "      <td>32.827935</td>\n",
       "      <td>89710</td>\n",
       "      <td>1.0</td>\n",
       "      <td>0.098102</td>\n",
       "      <td>0.896676</td>\n",
       "      <td>0.072205</td>\n",
       "      <td>0.906713</td>\n",
       "      <td>...</td>\n",
       "      <td>NaN</td>\n",
       "      <td>NaN</td>\n",
       "      <td>NaN</td>\n",
       "      <td>NaN</td>\n",
       "      <td>NaN</td>\n",
       "      <td>NaN</td>\n",
       "      <td>NaN</td>\n",
       "      <td>NaN</td>\n",
       "      <td>NaN</td>\n",
       "      <td>NaN</td>\n",
       "    </tr>\n",
       "    <tr>\n",
       "      <th>0</th>\n",
       "      <td>12</td>\n",
       "      <td>8dda01b593e6f1fa1234d01746756c48</td>\n",
       "      <td>{\"cutoff\": \"quantile_0.25\", \"eval_fairness_gro...</td>\n",
       "      <td>32.827935</td>\n",
       "      <td>89710</td>\n",
       "      <td>1.0</td>\n",
       "      <td>0.098102</td>\n",
       "      <td>0.896676</td>\n",
       "      <td>0.072205</td>\n",
       "      <td>0.906713</td>\n",
       "      <td>...</td>\n",
       "      <td>0.139854</td>\n",
       "      <td>0.162090</td>\n",
       "      <td>0.682313</td>\n",
       "      <td>0.747293</td>\n",
       "      <td>0.148649</td>\n",
       "      <td>0.050547</td>\n",
       "      <td>0.701801</td>\n",
       "      <td>0.774006</td>\n",
       "      <td>20540.0</td>\n",
       "      <td>69170.0</td>\n",
       "    </tr>\n",
       "  </tbody>\n",
       "</table>\n",
       "<p>4 rows × 50 columns</p>\n",
       "</div>"
      ],
      "text/plain": [
       "  run_no                       universe_id  \\\n",
       "0     12  8dda01b593e6f1fa1234d01746756c48   \n",
       "0     12  8dda01b593e6f1fa1234d01746756c48   \n",
       "0     12  8dda01b593e6f1fa1234d01746756c48   \n",
       "0     12  8dda01b593e6f1fa1234d01746756c48   \n",
       "\n",
       "                                   universe_settings  execution_time  \\\n",
       "0  {\"cutoff\": \"quantile_0.1\", \"eval_fairness_grou...       32.827935   \n",
       "0  {\"cutoff\": \"quantile_0.1\", \"eval_fairness_grou...       32.827935   \n",
       "0  {\"cutoff\": \"quantile_0.25\", \"eval_fairness_gro...       32.827935   \n",
       "0  {\"cutoff\": \"quantile_0.25\", \"eval_fairness_gro...       32.827935   \n",
       "\n",
       "   test_size_n  test_size_frac  fair_main_equalized_odds_difference  \\\n",
       "0        89710             1.0                             0.044278   \n",
       "0        89710             1.0                             0.044278   \n",
       "0        89710             1.0                             0.098102   \n",
       "0        89710             1.0                             0.098102   \n",
       "\n",
       "   fair_main_equalized_odds_ratio  fair_main_demographic_parity_difference  \\\n",
       "0                        0.952241                                 0.044790   \n",
       "0                        0.952241                                 0.044790   \n",
       "0                        0.896676                                 0.072205   \n",
       "0                        0.896676                                 0.072205   \n",
       "\n",
       "   fair_main_demographic_parity_ratio  ...  perf_grp_precision_0  \\\n",
       "0                            0.952129  ...                   NaN   \n",
       "0                            0.952129  ...              0.123238   \n",
       "0                            0.906713  ...                   NaN   \n",
       "0                            0.906713  ...              0.139854   \n",
       "\n",
       "   perf_grp_precision_1  perf_grp_false positive rate_0  \\\n",
       "0                   NaN                             NaN   \n",
       "0              0.140038                        0.882842   \n",
       "0                   NaN                             NaN   \n",
       "0              0.162090                        0.682313   \n",
       "\n",
       "   perf_grp_false positive rate_1  perf_grp_false negative rate_0  \\\n",
       "0                             NaN                             NaN   \n",
       "0                        0.927120                        0.047720   \n",
       "0                             NaN                             NaN   \n",
       "0                        0.747293                        0.148649   \n",
       "\n",
       "   perf_grp_false negative rate_1  perf_grp_selection rate_0  \\\n",
       "0                             NaN                        NaN   \n",
       "0                        0.008425                   0.890847   \n",
       "0                             NaN                        NaN   \n",
       "0                        0.050547                   0.701801   \n",
       "\n",
       "   perf_grp_selection rate_1  perf_grp_count_0  perf_grp_count_1  \n",
       "0                        NaN               NaN               NaN  \n",
       "0                   0.935637           20540.0           69170.0  \n",
       "0                        NaN               NaN               NaN  \n",
       "0                   0.774006           20540.0           69170.0  \n",
       "\n",
       "[4 rows x 50 columns]"
      ]
     },
     "execution_count": 79,
     "metadata": {},
     "output_type": "execute_result"
    }
   ],
   "source": [
    "final_output = universe_analysis.generate_final_output(\n",
    "    y_pred_prob=probs_test,\n",
    "    y_test=y_true,\n",
    "    org_test=org_test,\n",
    "    filter_data=filter_sub_universe_data,\n",
    "    cp_metrics_df=cp_metrics_df,\n",
    "    save=True,\n",
    ")\n",
    "final_output"
   ]
  },
  {
   "cell_type": "code",
   "execution_count": null,
   "id": "721ff514-cb11-46f8-b6fc-50392f74b5cb",
   "metadata": {
    "papermill": {
     "duration": 0.034767,
     "end_time": "2025-07-30T13:50:10.105221",
     "exception": false,
     "start_time": "2025-07-30T13:50:10.070454",
     "status": "completed"
    },
    "tags": []
   },
   "outputs": [],
   "source": []
  }
 ],
 "metadata": {
  "celltoolbar": "Tags",
  "kernelspec": {
   "display_name": "Python (CMA Fairness)",
   "language": "python",
   "name": "cma_fair_env"
  },
  "language_info": {
   "codemirror_mode": {
    "name": "ipython",
    "version": 3
   },
   "file_extension": ".py",
   "mimetype": "text/x-python",
   "name": "python",
   "nbconvert_exporter": "python",
   "pygments_lexer": "ipython3",
   "version": "3.10.12"
  },
  "papermill": {
   "default_parameters": {},
   "duration": 49.125858,
   "end_time": "2025-07-30T13:50:11.158554",
   "environment_variables": {},
   "exception": null,
   "input_path": "universe_analysis.ipynb",
   "output_path": "output/runs/12/notebooks/m_12-8dda01b593e6f1fa1234d01746756c48.ipynb",
   "parameters": {
    "output_dir": "output",
    "run_no": "12",
    "seed": "2023",
    "universe": "{\"cutoff\": [\"quantile_0.1\", \"quantile_0.25\"], \"eval_fairness_grouping\": [\"majority-minority\", \"nationality-all\"], \"exclude_features\": \"nationality-sex\", \"exclude_subgroups\": \"keep-all\", \"model\": \"rf\", \"scale\": \"do-not-scale\", \"training_size\": \"5k\", \"training_year\": \"2014\"}",
    "universe_id": "8dda01b593e6f1fa1234d01746756c48"
   },
   "start_time": "2025-07-30T13:49:22.032696",
   "version": "2.6.0"
  }
 },
 "nbformat": 4,
 "nbformat_minor": 5
}