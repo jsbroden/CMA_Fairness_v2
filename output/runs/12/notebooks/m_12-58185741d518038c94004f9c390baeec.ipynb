{
 "cells": [
  {
   "cell_type": "code",
   "execution_count": 1,
   "id": "f159f837-637b-42ba-96b5-ec9a68c44524",
   "metadata": {
    "execution": {
     "iopub.execute_input": "2025-07-30T13:17:15.426246Z",
     "iopub.status.busy": "2025-07-30T13:17:15.425615Z",
     "iopub.status.idle": "2025-07-30T13:17:15.438162Z",
     "shell.execute_reply": "2025-07-30T13:17:15.437332Z"
    },
    "papermill": {
     "duration": 0.033327,
     "end_time": "2025-07-30T13:17:15.439701",
     "exception": false,
     "start_time": "2025-07-30T13:17:15.406374",
     "status": "completed"
    },
    "tags": []
   },
   "outputs": [
    {
     "name": "stdout",
     "output_type": "stream",
     "text": [
      "/dss/dsshome1/0C/ra93lal2/cma/CMA_Fairness_v2\n"
     ]
    },
    {
     "name": "stderr",
     "output_type": "stream",
     "text": [
      "/dss/dsshome1/0C/ra93lal2/.local/share/virtualenvs/CMA_Fairness_v2-3j10GkSs/lib/python3.10/site-packages/IPython/core/magics/osm.py:393: UserWarning: This is now an optional IPython functionality, using bookmarks requires you to install the `pickleshare` library.\n",
      "  bkms = self.shell.db.get('bookmarks', {})\n",
      "/dss/dsshome1/0C/ra93lal2/.local/share/virtualenvs/CMA_Fairness_v2-3j10GkSs/lib/python3.10/site-packages/IPython/core/magics/osm.py:417: UserWarning: This is now an optional IPython functionality, setting dhist requires you to install the `pickleshare` library.\n",
      "  self.shell.db['dhist'] = compress_dhist(dhist)[-100:]\n"
     ]
    }
   ],
   "source": [
    "%cd ~/cma/CMA_Fairness_v2"
   ]
  },
  {
   "cell_type": "markdown",
   "id": "de2603b9",
   "metadata": {
    "papermill": {
     "duration": 0.0174,
     "end_time": "2025-07-30T13:17:15.475633",
     "exception": false,
     "start_time": "2025-07-30T13:17:15.458233",
     "status": "completed"
    },
    "tags": []
   },
   "source": [
    "The following cell holds the definition of our parameters, these values can be overriden by rendering the with e.g. the following command:\n",
    "\n",
    "papermill -p alpha 0.2 -p ratio 0.3 universe_analysis.ipynb output/test_run.ipynb"
   ]
  },
  {
   "cell_type": "code",
   "execution_count": 2,
   "id": "a80968a0-40bb-4fa9-85ef-2d5eefb01975",
   "metadata": {
    "execution": {
     "iopub.execute_input": "2025-07-30T13:17:15.512412Z",
     "iopub.status.busy": "2025-07-30T13:17:15.511764Z",
     "iopub.status.idle": "2025-07-30T13:17:15.517323Z",
     "shell.execute_reply": "2025-07-30T13:17:15.516411Z"
    },
    "papermill": {
     "duration": 0.025729,
     "end_time": "2025-07-30T13:17:15.518927",
     "exception": false,
     "start_time": "2025-07-30T13:17:15.493198",
     "status": "completed"
    },
    "tags": []
   },
   "outputs": [
    {
     "name": "stdout",
     "output_type": "stream",
     "text": [
      "Current working directory: /dss/dsshome1/0C/ra93lal2/cma/CMA_Fairness_v2\n"
     ]
    }
   ],
   "source": [
    "import os\n",
    "print(\"Current working directory:\", os.getcwd())"
   ]
  },
  {
   "cell_type": "code",
   "execution_count": 3,
   "id": "2dce4c03",
   "metadata": {
    "execution": {
     "iopub.execute_input": "2025-07-30T13:17:15.557215Z",
     "iopub.status.busy": "2025-07-30T13:17:15.556592Z",
     "iopub.status.idle": "2025-07-30T13:17:15.562963Z",
     "shell.execute_reply": "2025-07-30T13:17:15.562027Z"
    },
    "papermill": {
     "duration": 0.02699,
     "end_time": "2025-07-30T13:17:15.564526",
     "exception": false,
     "start_time": "2025-07-30T13:17:15.537536",
     "status": "completed"
    },
    "tags": [
     "parameters"
    ]
   },
   "outputs": [],
   "source": [
    "run_no = 0\n",
    "universe_id = \"test\"\n",
    "universe = {\n",
    "    \"training_size\": \"25k\", # \"25k\", \"5k\", \"1k\"\n",
    "    \"training_year\": \"2014\", # \"2014\", \"2012_14\", \"2010_14\"\n",
    "    \"scale\": \"scale\", # \"scale\", \"do-not-scale\",\n",
    "    #\"stratify_split\": \"target\", # \"none\", \"target\", \"protected-attribute\", \"both\",\n",
    "    \"model\": \"elasticnet\", # \"logreg\", \"penalized_logreg\", \"rf\", \"gbm\", \"elasticnet\"\n",
    "    \"cutoff\": [\"quantile_0.15\", \"quantile_0.30\"],\n",
    "    \"exclude_features\": \"age\", # \"none\", \"nationality\", \"sex\", \"nationality-sex\", \"age\"\n",
    "    \"exclude_subgroups\": \"keep-all\", # \"keep-all\", \"drop-non-german\"\n",
    "    \"eval_fairness_grouping\": [\"majority-minority\", \"nationality-all\"]\n",
    "}\n",
    "\n",
    "output_dir=\"./output\"\n",
    "seed=0"
   ]
  },
  {
   "cell_type": "code",
   "execution_count": 4,
   "id": "4a73e659",
   "metadata": {
    "execution": {
     "iopub.execute_input": "2025-07-30T13:17:15.603459Z",
     "iopub.status.busy": "2025-07-30T13:17:15.602846Z",
     "iopub.status.idle": "2025-07-30T13:17:15.607855Z",
     "shell.execute_reply": "2025-07-30T13:17:15.606974Z"
    },
    "papermill": {
     "duration": 0.025704,
     "end_time": "2025-07-30T13:17:15.609652",
     "exception": false,
     "start_time": "2025-07-30T13:17:15.583948",
     "status": "completed"
    },
    "tags": [
     "injected-parameters"
    ]
   },
   "outputs": [],
   "source": [
    "# Parameters\n",
    "universe_id = \"58185741d518038c94004f9c390baeec\"\n",
    "run_no = \"12\"\n",
    "universe = \"{\\\"cutoff\\\": [\\\"quantile_0.1\\\", \\\"quantile_0.25\\\"], \\\"eval_fairness_grouping\\\": [\\\"majority-minority\\\", \\\"nationality-all\\\"], \\\"exclude_features\\\": \\\"nationality-sex\\\", \\\"exclude_subgroups\\\": \\\"keep-all\\\", \\\"model\\\": \\\"elasticnet\\\", \\\"scale\\\": \\\"do-not-scale\\\", \\\"training_size\\\": \\\"25k\\\", \\\"training_year\\\": \\\"2012_14\\\"}\"\n",
    "output_dir = \"output\"\n",
    "seed = \"2023\"\n"
   ]
  },
  {
   "cell_type": "code",
   "execution_count": 5,
   "id": "1650acaf",
   "metadata": {
    "execution": {
     "iopub.execute_input": "2025-07-30T13:17:15.647940Z",
     "iopub.status.busy": "2025-07-30T13:17:15.647511Z",
     "iopub.status.idle": "2025-07-30T13:17:15.652355Z",
     "shell.execute_reply": "2025-07-30T13:17:15.651536Z"
    },
    "papermill": {
     "duration": 0.025595,
     "end_time": "2025-07-30T13:17:15.653944",
     "exception": false,
     "start_time": "2025-07-30T13:17:15.628349",
     "status": "completed"
    },
    "tags": []
   },
   "outputs": [],
   "source": [
    "import json\n",
    "# Parse universe into dict if it is passed as a string\n",
    "if isinstance(universe, str):\n",
    "    universe = json.loads(universe)"
   ]
  },
  {
   "cell_type": "code",
   "execution_count": 6,
   "id": "16620c48",
   "metadata": {
    "execution": {
     "iopub.execute_input": "2025-07-30T13:17:15.692540Z",
     "iopub.status.busy": "2025-07-30T13:17:15.691957Z",
     "iopub.status.idle": "2025-07-30T13:17:15.733975Z",
     "shell.execute_reply": "2025-07-30T13:17:15.733152Z"
    },
    "papermill": {
     "duration": 0.062868,
     "end_time": "2025-07-30T13:17:15.735767",
     "exception": false,
     "start_time": "2025-07-30T13:17:15.672899",
     "status": "completed"
    },
    "tags": []
   },
   "outputs": [],
   "source": [
    "# Auto-reload the custom package\n",
    "%load_ext autoreload\n",
    "%autoreload 1\n",
    "%aimport fairness_multiverse"
   ]
  },
  {
   "cell_type": "code",
   "execution_count": 7,
   "id": "01c5c9f3",
   "metadata": {
    "execution": {
     "iopub.execute_input": "2025-07-30T13:17:15.774472Z",
     "iopub.status.busy": "2025-07-30T13:17:15.773837Z",
     "iopub.status.idle": "2025-07-30T13:17:17.595407Z",
     "shell.execute_reply": "2025-07-30T13:17:17.594502Z"
    },
    "papermill": {
     "duration": 1.84269,
     "end_time": "2025-07-30T13:17:17.597274",
     "exception": false,
     "start_time": "2025-07-30T13:17:15.754584",
     "status": "completed"
    },
    "tags": []
   },
   "outputs": [],
   "source": [
    "from fairness_multiverse.universe import UniverseAnalysis\n",
    "\n",
    "universe_analysis = UniverseAnalysis(\n",
    "    run_no = run_no,\n",
    "    universe_id = universe_id,\n",
    "    universe = universe,\n",
    "    output_dir=output_dir,\n",
    ")"
   ]
  },
  {
   "cell_type": "code",
   "execution_count": 8,
   "id": "106241f5",
   "metadata": {
    "execution": {
     "iopub.execute_input": "2025-07-30T13:17:17.636405Z",
     "iopub.status.busy": "2025-07-30T13:17:17.635739Z",
     "iopub.status.idle": "2025-07-30T13:17:17.642091Z",
     "shell.execute_reply": "2025-07-30T13:17:17.641210Z"
    },
    "papermill": {
     "duration": 0.027458,
     "end_time": "2025-07-30T13:17:17.643850",
     "exception": false,
     "start_time": "2025-07-30T13:17:17.616392",
     "status": "completed"
    },
    "tags": []
   },
   "outputs": [
    {
     "name": "stdout",
     "output_type": "stream",
     "text": [
      "Using Seed: 2023\n"
     ]
    }
   ],
   "source": [
    "import numpy as np\n",
    "parsed_seed = int(seed)\n",
    "np.random.seed(parsed_seed)\n",
    "print(f\"Using Seed: {parsed_seed}\")"
   ]
  },
  {
   "cell_type": "markdown",
   "id": "e0ebdc57",
   "metadata": {
    "papermill": {
     "duration": 0.018193,
     "end_time": "2025-07-30T13:17:17.681274",
     "exception": false,
     "start_time": "2025-07-30T13:17:17.663081",
     "status": "completed"
    },
    "tags": []
   },
   "source": [
    "# Loading Data"
   ]
  },
  {
   "cell_type": "markdown",
   "id": "681925a3",
   "metadata": {
    "papermill": {
     "duration": 0.018134,
     "end_time": "2025-07-30T13:17:17.717475",
     "exception": false,
     "start_time": "2025-07-30T13:17:17.699341",
     "status": "completed"
    },
    "tags": []
   },
   "source": [
    "Load siab_train, siab_test, siab_calib and/or \n",
    "load siab_train_features, siab_train_labels"
   ]
  },
  {
   "cell_type": "code",
   "execution_count": 9,
   "id": "f0496b8a",
   "metadata": {
    "execution": {
     "iopub.execute_input": "2025-07-30T13:17:17.756168Z",
     "iopub.status.busy": "2025-07-30T13:17:17.755466Z",
     "iopub.status.idle": "2025-07-30T13:17:29.694024Z",
     "shell.execute_reply": "2025-07-30T13:17:29.693016Z"
    },
    "papermill": {
     "duration": 11.959705,
     "end_time": "2025-07-30T13:17:29.695555",
     "exception": false,
     "start_time": "2025-07-30T13:17:17.735850",
     "status": "completed"
    },
    "tags": []
   },
   "outputs": [
    {
     "name": "stdout",
     "output_type": "stream",
     "text": [
      "Loading SIAB data from cache: data/siab_cached.csv.gz\n"
     ]
    },
    {
     "name": "stdout",
     "output_type": "stream",
     "text": [
      "(643690, 164)\n"
     ]
    }
   ],
   "source": [
    "from pathlib import Path\n",
    "import pandas as pd\n",
    "\n",
    "# File paths\n",
    "raw_file = Path(\"data/raw/siab.csv\")\n",
    "cache_file = Path(\"data/siab_cached.csv.gz\")\n",
    "\n",
    "# Ensure cache directory exists\n",
    "cache_file.parent.mkdir(parents=True, exist_ok=True)\n",
    "\n",
    "# Load with simple caching\n",
    "if cache_file.exists():\n",
    "    print(f\"Loading SIAB data from cache: {cache_file}\")\n",
    "    siab = pd.read_csv(cache_file, compression='gzip')\n",
    "else:\n",
    "    print(f\"Cache not found. Reading raw SIAB data: {raw_file}\")\n",
    "    siab = pd.read_csv(raw_file)\n",
    "    siab.to_csv(cache_file, index=False, compression='gzip')\n",
    "    print(f\"Cached SIAB data to: {cache_file}\")\n",
    "\n",
    "# Now use `siab` DataFrame as needed\n",
    "print(siab.shape)"
   ]
  },
  {
   "cell_type": "code",
   "execution_count": 10,
   "id": "db0ca512-5f53-4dba-abdb-a2888bca41ba",
   "metadata": {
    "execution": {
     "iopub.execute_input": "2025-07-30T13:17:29.741038Z",
     "iopub.status.busy": "2025-07-30T13:17:29.740559Z",
     "iopub.status.idle": "2025-07-30T13:17:29.746525Z",
     "shell.execute_reply": "2025-07-30T13:17:29.745676Z"
    },
    "papermill": {
     "duration": 0.031127,
     "end_time": "2025-07-30T13:17:29.748193",
     "exception": false,
     "start_time": "2025-07-30T13:17:29.717066",
     "status": "completed"
    },
    "tags": []
   },
   "outputs": [],
   "source": [
    "#siab"
   ]
  },
  {
   "cell_type": "code",
   "execution_count": 11,
   "id": "a0edb063",
   "metadata": {
    "execution": {
     "iopub.execute_input": "2025-07-30T13:17:29.790010Z",
     "iopub.status.busy": "2025-07-30T13:17:29.789247Z",
     "iopub.status.idle": "2025-07-30T13:17:29.794846Z",
     "shell.execute_reply": "2025-07-30T13:17:29.794004Z"
    },
    "papermill": {
     "duration": 0.02814,
     "end_time": "2025-07-30T13:17:29.796671",
     "exception": false,
     "start_time": "2025-07-30T13:17:29.768531",
     "status": "completed"
    },
    "tags": []
   },
   "outputs": [],
   "source": [
    "#import pandas as pd\n",
    "#\n",
    "#X_train = pd.read_csv(\"./data/X_train.csv\")\n",
    "#y_train = pd.read_csv(\"./data/y_train.csv\")"
   ]
  },
  {
   "cell_type": "code",
   "execution_count": 12,
   "id": "63d08085",
   "metadata": {
    "execution": {
     "iopub.execute_input": "2025-07-30T13:17:29.836694Z",
     "iopub.status.busy": "2025-07-30T13:17:29.835862Z",
     "iopub.status.idle": "2025-07-30T13:17:29.841234Z",
     "shell.execute_reply": "2025-07-30T13:17:29.840287Z"
    },
    "papermill": {
     "duration": 0.026904,
     "end_time": "2025-07-30T13:17:29.842895",
     "exception": false,
     "start_time": "2025-07-30T13:17:29.815991",
     "status": "completed"
    },
    "tags": []
   },
   "outputs": [],
   "source": [
    "#X_test = pd.read_csv(\"./data/X_test.csv\")\n",
    "#y_true = pd.read_csv(\"./data/y_test.csv\")"
   ]
  },
  {
   "cell_type": "code",
   "execution_count": 13,
   "id": "98a8d0fa-1d3d-4ed8-bb2c-281470e24add",
   "metadata": {
    "execution": {
     "iopub.execute_input": "2025-07-30T13:17:29.883837Z",
     "iopub.status.busy": "2025-07-30T13:17:29.883198Z",
     "iopub.status.idle": "2025-07-30T13:17:29.888272Z",
     "shell.execute_reply": "2025-07-30T13:17:29.887446Z"
    },
    "papermill": {
     "duration": 0.026538,
     "end_time": "2025-07-30T13:17:29.889901",
     "exception": false,
     "start_time": "2025-07-30T13:17:29.863363",
     "status": "completed"
    },
    "tags": []
   },
   "outputs": [],
   "source": [
    "# Calibration data for conformal\n",
    "#X_calib = pd.read_csv(\"./data/X_calib.csv\")\n",
    "#y_calib = pd.read_csv(\"./data/y_calib.csv\")"
   ]
  },
  {
   "cell_type": "markdown",
   "id": "997051c5-15bd-4b69-9786-c3001a3ce484",
   "metadata": {
    "papermill": {
     "duration": 0.018502,
     "end_time": "2025-07-30T13:17:29.928393",
     "exception": false,
     "start_time": "2025-07-30T13:17:29.909891",
     "status": "completed"
    },
    "tags": []
   },
   "source": [
    "# Splitting Data and Setting Training Data Size"
   ]
  },
  {
   "cell_type": "code",
   "execution_count": 14,
   "id": "e993b61f-042d-41a6-8c81-f55681f86335",
   "metadata": {
    "execution": {
     "iopub.execute_input": "2025-07-30T13:17:29.967288Z",
     "iopub.status.busy": "2025-07-30T13:17:29.966617Z",
     "iopub.status.idle": "2025-07-30T13:17:29.979260Z",
     "shell.execute_reply": "2025-07-30T13:17:29.978429Z"
    },
    "papermill": {
     "duration": 0.033739,
     "end_time": "2025-07-30T13:17:29.980726",
     "exception": false,
     "start_time": "2025-07-30T13:17:29.946987",
     "status": "completed"
    },
    "tags": []
   },
   "outputs": [],
   "source": [
    "def sample_by_year_size(df,\n",
    "                        training_year: str,\n",
    "                        training_size: str,\n",
    "                        random_state: int = 42):\n",
    "    # --- parse training_year into a list of int years ---\n",
    "    if \"_\" in training_year:\n",
    "        start_str, end_str = training_year.split(\"_\", 1)\n",
    "        start = int(start_str)\n",
    "        end   = int(end_str) if len(end_str) == 4 else (int(end_str) + (start // 100)*100)\n",
    "        years = list(range(start, end + 1))\n",
    "    else:\n",
    "        years = [int(training_year)]\n",
    "\n",
    "    df = df[df[\"year\"].isin(years)].reset_index(drop=True)\n",
    "\n",
    "    # --- map training_size to total number of samples ---\n",
    "    total_map = {\"25k\": 25_000, \"5k\": 5_000, \"1k\": 1_000}\n",
    "    if training_size not in total_map:\n",
    "        return df  # e.g. \"all\"\n",
    "\n",
    "    total_samples = total_map[training_size]\n",
    "    n_years       = len(years)\n",
    "    base          = total_samples // n_years\n",
    "    remainder     = total_samples % n_years\n",
    "\n",
    "    # --- build a dict: year -> how many to sample ---\n",
    "    # give +1 to the first `remainder` years in ascending order\n",
    "    quotas = {\n",
    "        year: base + (1 if idx < remainder else 0)\n",
    "        for idx, year in enumerate(sorted(years))\n",
    "    }\n",
    "\n",
    "    # --- sample per‐year according to the quota dict ---\n",
    "    sampled = (\n",
    "        df\n",
    "        .groupby(\"year\", group_keys=False)\n",
    "        .apply(lambda grp: grp.sample(\n",
    "            n=min(len(grp), quotas[grp.name]),\n",
    "            random_state=random_state))\n",
    "        .reset_index(drop=True)\n",
    "    )\n",
    "\n",
    "    return sampled"
   ]
  },
  {
   "cell_type": "code",
   "execution_count": 15,
   "id": "c0ccd338-0e02-41f3-a09d-f56f9266e3fb",
   "metadata": {
    "execution": {
     "iopub.execute_input": "2025-07-30T13:17:30.021231Z",
     "iopub.status.busy": "2025-07-30T13:17:30.020596Z",
     "iopub.status.idle": "2025-07-30T13:17:30.031320Z",
     "shell.execute_reply": "2025-07-30T13:17:30.030439Z"
    },
    "papermill": {
     "duration": 0.03205,
     "end_time": "2025-07-30T13:17:30.033102",
     "exception": false,
     "start_time": "2025-07-30T13:17:30.001052",
     "status": "completed"
    },
    "tags": []
   },
   "outputs": [
    {
     "data": {
      "text/plain": [
       "'25k'"
      ]
     },
     "execution_count": 15,
     "metadata": {},
     "output_type": "execute_result"
    }
   ],
   "source": [
    "universe[\"training_size\"]"
   ]
  },
  {
   "cell_type": "code",
   "execution_count": 16,
   "id": "ca707fd7-8047-4acd-bfa5-66248fbbf8e6",
   "metadata": {
    "execution": {
     "iopub.execute_input": "2025-07-30T13:17:30.073244Z",
     "iopub.status.busy": "2025-07-30T13:17:30.072616Z",
     "iopub.status.idle": "2025-07-30T13:17:30.079681Z",
     "shell.execute_reply": "2025-07-30T13:17:30.078837Z"
    },
    "papermill": {
     "duration": 0.028338,
     "end_time": "2025-07-30T13:17:30.081273",
     "exception": false,
     "start_time": "2025-07-30T13:17:30.052935",
     "status": "completed"
    },
    "tags": []
   },
   "outputs": [
    {
     "data": {
      "text/plain": [
       "'2012_14'"
      ]
     },
     "execution_count": 16,
     "metadata": {},
     "output_type": "execute_result"
    }
   ],
   "source": [
    "universe[\"training_year\"]"
   ]
  },
  {
   "cell_type": "code",
   "execution_count": 17,
   "id": "aea9c6ef-6f46-42c8-85eb-5a62025c1508",
   "metadata": {
    "execution": {
     "iopub.execute_input": "2025-07-30T13:17:30.122099Z",
     "iopub.status.busy": "2025-07-30T13:17:30.121464Z",
     "iopub.status.idle": "2025-07-30T13:17:30.791749Z",
     "shell.execute_reply": "2025-07-30T13:17:30.790884Z"
    },
    "papermill": {
     "duration": 0.692072,
     "end_time": "2025-07-30T13:17:30.793631",
     "exception": false,
     "start_time": "2025-07-30T13:17:30.101559",
     "status": "completed"
    },
    "tags": []
   },
   "outputs": [],
   "source": [
    "siab_train = sample_by_year_size(siab,\n",
    "                               training_year=universe[\"training_year\"],\n",
    "                               training_size=universe[\"training_size\"])"
   ]
  },
  {
   "cell_type": "code",
   "execution_count": 18,
   "id": "8d3afb32-789d-442c-8d5d-9f5aa8dd2eed",
   "metadata": {
    "execution": {
     "iopub.execute_input": "2025-07-30T13:17:30.834570Z",
     "iopub.status.busy": "2025-07-30T13:17:30.833916Z",
     "iopub.status.idle": "2025-07-30T13:17:30.841110Z",
     "shell.execute_reply": "2025-07-30T13:17:30.840185Z"
    },
    "papermill": {
     "duration": 0.029165,
     "end_time": "2025-07-30T13:17:30.842749",
     "exception": false,
     "start_time": "2025-07-30T13:17:30.813584",
     "status": "completed"
    },
    "tags": []
   },
   "outputs": [
    {
     "data": {
      "text/plain": [
       "(25000, 164)"
      ]
     },
     "execution_count": 18,
     "metadata": {},
     "output_type": "execute_result"
    }
   ],
   "source": [
    "siab_train.shape"
   ]
  },
  {
   "cell_type": "code",
   "execution_count": 19,
   "id": "d582db68-1a4c-47fb-84fc-08518dc1975a",
   "metadata": {
    "execution": {
     "iopub.execute_input": "2025-07-30T13:17:30.884275Z",
     "iopub.status.busy": "2025-07-30T13:17:30.883635Z",
     "iopub.status.idle": "2025-07-30T13:17:30.892962Z",
     "shell.execute_reply": "2025-07-30T13:17:30.892024Z"
    },
    "papermill": {
     "duration": 0.031401,
     "end_time": "2025-07-30T13:17:30.894649",
     "exception": false,
     "start_time": "2025-07-30T13:17:30.863248",
     "status": "completed"
    },
    "tags": []
   },
   "outputs": [
    {
     "data": {
      "text/plain": [
       "year\n",
       "2012    8334\n",
       "2013    8333\n",
       "2014    8333\n",
       "dtype: int64"
      ]
     },
     "metadata": {},
     "output_type": "display_data"
    }
   ],
   "source": [
    "display(siab_train.groupby(\"year\").size())"
   ]
  },
  {
   "cell_type": "code",
   "execution_count": 20,
   "id": "a561edb4-d032-42cb-8256-22eac1111c64",
   "metadata": {
    "execution": {
     "iopub.execute_input": "2025-07-30T13:17:30.936865Z",
     "iopub.status.busy": "2025-07-30T13:17:30.935962Z",
     "iopub.status.idle": "2025-07-30T13:17:31.153006Z",
     "shell.execute_reply": "2025-07-30T13:17:31.152120Z"
    },
    "papermill": {
     "duration": 0.239455,
     "end_time": "2025-07-30T13:17:31.154885",
     "exception": false,
     "start_time": "2025-07-30T13:17:30.915430",
     "status": "completed"
    },
    "tags": []
   },
   "outputs": [],
   "source": [
    "#siab_train = siab_s[siab_s.year < 2015]\n",
    "siab_calib = siab[siab.year == 2015]\n",
    "siab_test = siab[siab.year == 2016]"
   ]
  },
  {
   "cell_type": "code",
   "execution_count": 21,
   "id": "472de16f-c3db-4916-846b-1f0de9cf1746",
   "metadata": {
    "execution": {
     "iopub.execute_input": "2025-07-30T13:17:31.196816Z",
     "iopub.status.busy": "2025-07-30T13:17:31.196164Z",
     "iopub.status.idle": "2025-07-30T13:17:31.221618Z",
     "shell.execute_reply": "2025-07-30T13:17:31.220615Z"
    },
    "papermill": {
     "duration": 0.047816,
     "end_time": "2025-07-30T13:17:31.223401",
     "exception": false,
     "start_time": "2025-07-30T13:17:31.175585",
     "status": "completed"
    },
    "tags": []
   },
   "outputs": [],
   "source": [
    "X_train = siab_train.iloc[:,4:164]\n",
    "y_train = siab_train.iloc[:, [3]]"
   ]
  },
  {
   "cell_type": "code",
   "execution_count": 22,
   "id": "828c96af-f43a-4ed6-ba47-8ac73a47d56c",
   "metadata": {
    "execution": {
     "iopub.execute_input": "2025-07-30T13:17:31.265827Z",
     "iopub.status.busy": "2025-07-30T13:17:31.265177Z",
     "iopub.status.idle": "2025-07-30T13:17:31.315183Z",
     "shell.execute_reply": "2025-07-30T13:17:31.314253Z"
    },
    "papermill": {
     "duration": 0.072582,
     "end_time": "2025-07-30T13:17:31.316848",
     "exception": false,
     "start_time": "2025-07-30T13:17:31.244266",
     "status": "completed"
    },
    "tags": []
   },
   "outputs": [],
   "source": [
    "X_calib = siab_calib.iloc[:,4:164]\n",
    "y_calib = siab_calib.iloc[:, [3]]"
   ]
  },
  {
   "cell_type": "code",
   "execution_count": 23,
   "id": "c34be9c3-6bd6-476e-acd3-845840e303be",
   "metadata": {
    "execution": {
     "iopub.execute_input": "2025-07-30T13:17:31.359949Z",
     "iopub.status.busy": "2025-07-30T13:17:31.359258Z",
     "iopub.status.idle": "2025-07-30T13:17:31.408060Z",
     "shell.execute_reply": "2025-07-30T13:17:31.407013Z"
    },
    "papermill": {
     "duration": 0.071673,
     "end_time": "2025-07-30T13:17:31.409809",
     "exception": false,
     "start_time": "2025-07-30T13:17:31.338136",
     "status": "completed"
    },
    "tags": []
   },
   "outputs": [],
   "source": [
    "X_test = siab_test.iloc[:,4:164]\n",
    "y_true = siab_test.iloc[:, [3]]"
   ]
  },
  {
   "cell_type": "markdown",
   "id": "9901737e-04df-44f0-9100-f5ad144ed040",
   "metadata": {
    "papermill": {
     "duration": 0.019499,
     "end_time": "2025-07-30T13:17:31.450427",
     "exception": false,
     "start_time": "2025-07-30T13:17:31.430928",
     "status": "completed"
    },
    "tags": []
   },
   "source": [
    "# Splitting Data and Setting Training Data Size OLD VERSION"
   ]
  },
  {
   "cell_type": "code",
   "execution_count": 24,
   "id": "acbc8f7d-8fc8-4e86-8c59-5dcb0f58384b",
   "metadata": {
    "execution": {
     "iopub.execute_input": "2025-07-30T13:17:31.491491Z",
     "iopub.status.busy": "2025-07-30T13:17:31.490858Z",
     "iopub.status.idle": "2025-07-30T13:17:31.496304Z",
     "shell.execute_reply": "2025-07-30T13:17:31.495368Z"
    },
    "papermill": {
     "duration": 0.027856,
     "end_time": "2025-07-30T13:17:31.498074",
     "exception": false,
     "start_time": "2025-07-30T13:17:31.470218",
     "status": "completed"
    },
    "tags": []
   },
   "outputs": [],
   "source": [
    "#def sample_by_year(df, training_size, random_state=42):\n",
    "#    if training_size == \"2014\":\n",
    "#        return df[df[\"year\"] == 2014].reset_index(drop=True)\n",
    "#    \n",
    "#    size_map = {\n",
    "#        \"25k\": 5000,\n",
    "#        \"5k\": 1000,\n",
    "#        \"1k\": 200\n",
    "#    }\n",
    "#\n",
    "#    if training_size not in size_map:\n",
    "#        return df.reset_index(drop=True)  # use all data\n",
    "#\n",
    "#    n_per_year = size_map[training_size]\n",
    "#    grouped = df.groupby(\"year\")\n",
    "#    sampled = grouped.apply(lambda x: x.sample(n=min(n_per_year, len(x)), random_state=random_state))\n",
    "#    return sampled.reset_index(drop=True)"
   ]
  },
  {
   "cell_type": "code",
   "execution_count": 25,
   "id": "6d931f52-beaf-43ff-9e78-9d44a448d54e",
   "metadata": {
    "execution": {
     "iopub.execute_input": "2025-07-30T13:17:31.540515Z",
     "iopub.status.busy": "2025-07-30T13:17:31.539877Z",
     "iopub.status.idle": "2025-07-30T13:17:31.544886Z",
     "shell.execute_reply": "2025-07-30T13:17:31.543953Z"
    },
    "papermill": {
     "duration": 0.027301,
     "end_time": "2025-07-30T13:17:31.546408",
     "exception": false,
     "start_time": "2025-07-30T13:17:31.519107",
     "status": "completed"
    },
    "tags": []
   },
   "outputs": [],
   "source": [
    "#siab_s = sample_by_year(siab, universe[\"training_size\"])"
   ]
  },
  {
   "cell_type": "code",
   "execution_count": 26,
   "id": "5db0a40e-a4e2-4920-be85-b12ae061d70d",
   "metadata": {
    "execution": {
     "iopub.execute_input": "2025-07-30T13:17:31.589339Z",
     "iopub.status.busy": "2025-07-30T13:17:31.588665Z",
     "iopub.status.idle": "2025-07-30T13:17:31.593636Z",
     "shell.execute_reply": "2025-07-30T13:17:31.592634Z"
    },
    "papermill": {
     "duration": 0.027337,
     "end_time": "2025-07-30T13:17:31.595145",
     "exception": false,
     "start_time": "2025-07-30T13:17:31.567808",
     "status": "completed"
    },
    "tags": []
   },
   "outputs": [],
   "source": [
    "#display(siab_s.groupby(\"year\").size())"
   ]
  },
  {
   "cell_type": "code",
   "execution_count": 27,
   "id": "e6c733c5",
   "metadata": {
    "execution": {
     "iopub.execute_input": "2025-07-30T13:17:31.637683Z",
     "iopub.status.busy": "2025-07-30T13:17:31.637054Z",
     "iopub.status.idle": "2025-07-30T13:17:31.734002Z",
     "shell.execute_reply": "2025-07-30T13:17:31.733122Z"
    },
    "papermill": {
     "duration": 0.119655,
     "end_time": "2025-07-30T13:17:31.735888",
     "exception": false,
     "start_time": "2025-07-30T13:17:31.616233",
     "status": "completed"
    },
    "tags": []
   },
   "outputs": [],
   "source": [
    "# Auxiliary data needed downstream in the pipeline\n",
    "\n",
    "org_train = X_train.copy()\n",
    "org_test = X_test.copy()\n",
    "org_calib = X_calib.copy()"
   ]
  },
  {
   "cell_type": "code",
   "execution_count": 28,
   "id": "1466abac-c6da-4492-a62f-4240ae3783af",
   "metadata": {
    "execution": {
     "iopub.execute_input": "2025-07-30T13:17:31.778433Z",
     "iopub.status.busy": "2025-07-30T13:17:31.777791Z",
     "iopub.status.idle": "2025-07-30T13:17:31.783465Z",
     "shell.execute_reply": "2025-07-30T13:17:31.782519Z"
    },
    "papermill": {
     "duration": 0.028357,
     "end_time": "2025-07-30T13:17:31.784931",
     "exception": false,
     "start_time": "2025-07-30T13:17:31.756574",
     "status": "completed"
    },
    "tags": []
   },
   "outputs": [],
   "source": [
    "# put in other script?\n",
    "# Group sizes\n",
    "\n",
    "#def calculate_percentages(df, df_name):\n",
    "#    total_entries = len(df)\n",
    "#\n",
    "#    female_pct = (df['frau1'] == 1).mean() * 100\n",
    "#    non_german_pct = ((df['maxdeutsch1'] == 0) & (df['maxdeutsch.Missing.'] == 0)).mean() * 100\n",
    "#    non_german_male_pct = ((df['frau1'] == 0) & (df['maxdeutsch1'] == 0) & (df['maxdeutsch.Missing.'] == 0)).mean() * 100\n",
    "#    non_german_female_pct = ((df['frau1'] == 1) & (df['maxdeutsch1'] == 0) & (df['maxdeutsch.Missing.'] == 0)).mean() * 100\n",
    "#\n",
    "#    print(f\"--- {df_name} ---\")\n",
    "#    print(f\"Female: {female_pct:.2f}%\")\n",
    "#    print(f\"Non-German: {non_german_pct:.2f}%\")\n",
    "#    print(f\"Non-German Male: {non_german_male_pct:.2f}%\")\n",
    "#    print(f\"Non-German Female: {non_german_female_pct:.2f}%\\n\")\n",
    "#\n",
    "## Calculate for each DataFrame\n",
    "#calculate_percentages(siab_calib, \"siab_calib\")\n",
    "#calculate_percentages(siab_test, \"siab_test\")\n",
    "#calculate_percentages(siab_train, \"siab_train\")"
   ]
  },
  {
   "cell_type": "markdown",
   "id": "0a4a1b33",
   "metadata": {
    "papermill": {
     "duration": 0.019923,
     "end_time": "2025-07-30T13:17:31.825829",
     "exception": false,
     "start_time": "2025-07-30T13:17:31.805906",
     "status": "completed"
    },
    "tags": []
   },
   "source": [
    "# Preprocessing Data"
   ]
  },
  {
   "cell_type": "code",
   "execution_count": 29,
   "id": "ca879031",
   "metadata": {
    "execution": {
     "iopub.execute_input": "2025-07-30T13:17:31.867727Z",
     "iopub.status.busy": "2025-07-30T13:17:31.867090Z",
     "iopub.status.idle": "2025-07-30T13:17:31.872999Z",
     "shell.execute_reply": "2025-07-30T13:17:31.872132Z"
    },
    "papermill": {
     "duration": 0.028438,
     "end_time": "2025-07-30T13:17:31.874418",
     "exception": false,
     "start_time": "2025-07-30T13:17:31.845980",
     "status": "completed"
    },
    "tags": []
   },
   "outputs": [],
   "source": [
    "# EXCLUDE PROTECTED FEATURES\n",
    "# ----------------------\n",
    "# \"exclude_features\": \"none\", # \"nationality\", \"sex\", \"nationality-sex\"\n",
    "\n",
    "excluded_features = universe[\"exclude_features\"].split(\"-\") # split, e.g.: \"nationality-sex\" -> [\"nationality\", \"sex\"]\n",
    "excluded_features_dictionary = {\n",
    "    \"nationality\": [\"maxdeutsch1\", \"maxdeutsch.Missing.\"],\n",
    "    \"sex\": [\"frau1\"],\n",
    "    \"age\": [\"age\"],\n",
    "}\n"
   ]
  },
  {
   "cell_type": "code",
   "execution_count": 30,
   "id": "b745ac60",
   "metadata": {
    "execution": {
     "iopub.execute_input": "2025-07-30T13:17:31.917682Z",
     "iopub.status.busy": "2025-07-30T13:17:31.917031Z",
     "iopub.status.idle": "2025-07-30T13:17:31.922645Z",
     "shell.execute_reply": "2025-07-30T13:17:31.921696Z"
    },
    "papermill": {
     "duration": 0.028251,
     "end_time": "2025-07-30T13:17:31.924109",
     "exception": false,
     "start_time": "2025-07-30T13:17:31.895858",
     "status": "completed"
    },
    "tags": []
   },
   "outputs": [],
   "source": [
    "# Code nice names to column names\n",
    "\n",
    "excluded_features_columns = [\n",
    "    excluded_features_dictionary[f] for f in excluded_features if len(f) > 0 and f != \"none\"\n",
    "]"
   ]
  },
  {
   "cell_type": "code",
   "execution_count": 31,
   "id": "f84f73a2",
   "metadata": {
    "execution": {
     "iopub.execute_input": "2025-07-30T13:17:31.967109Z",
     "iopub.status.busy": "2025-07-30T13:17:31.966446Z",
     "iopub.status.idle": "2025-07-30T13:17:31.974123Z",
     "shell.execute_reply": "2025-07-30T13:17:31.973259Z"
    },
    "papermill": {
     "duration": 0.030387,
     "end_time": "2025-07-30T13:17:31.975791",
     "exception": false,
     "start_time": "2025-07-30T13:17:31.945404",
     "status": "completed"
    },
    "tags": []
   },
   "outputs": [],
   "source": [
    "from utils import flatten_once\n",
    "\n",
    "excluded_features_columns = flatten_once(excluded_features_columns)"
   ]
  },
  {
   "cell_type": "code",
   "execution_count": 32,
   "id": "884dea22",
   "metadata": {
    "execution": {
     "iopub.execute_input": "2025-07-30T13:17:32.018929Z",
     "iopub.status.busy": "2025-07-30T13:17:32.018281Z",
     "iopub.status.idle": "2025-07-30T13:17:32.032744Z",
     "shell.execute_reply": "2025-07-30T13:17:32.031655Z"
    },
    "papermill": {
     "duration": 0.037155,
     "end_time": "2025-07-30T13:17:32.034296",
     "exception": false,
     "start_time": "2025-07-30T13:17:31.997141",
     "status": "completed"
    },
    "tags": []
   },
   "outputs": [
    {
     "name": "stdout",
     "output_type": "stream",
     "text": [
      "Dropping features: ['maxdeutsch1', 'maxdeutsch.Missing.', 'frau1']\n"
     ]
    }
   ],
   "source": [
    "if len(excluded_features_columns) > 0:\n",
    "    print(f\"Dropping features: {excluded_features_columns}\")\n",
    "    X_train.drop(excluded_features_columns, axis=1, inplace=True)"
   ]
  },
  {
   "cell_type": "code",
   "execution_count": 33,
   "id": "95ab8b16",
   "metadata": {
    "execution": {
     "iopub.execute_input": "2025-07-30T13:17:32.077725Z",
     "iopub.status.busy": "2025-07-30T13:17:32.077097Z",
     "iopub.status.idle": "2025-07-30T13:17:32.127255Z",
     "shell.execute_reply": "2025-07-30T13:17:32.126302Z"
    },
    "papermill": {
     "duration": 0.073379,
     "end_time": "2025-07-30T13:17:32.129174",
     "exception": false,
     "start_time": "2025-07-30T13:17:32.055795",
     "status": "completed"
    },
    "tags": []
   },
   "outputs": [
    {
     "name": "stdout",
     "output_type": "stream",
     "text": [
      "Dropping features: ['maxdeutsch1', 'maxdeutsch.Missing.', 'frau1']\n"
     ]
    }
   ],
   "source": [
    "if len(excluded_features_columns) > 0:\n",
    "    print(f\"Dropping features: {excluded_features_columns}\")\n",
    "    X_test.drop(excluded_features_columns, axis=1, inplace=True)"
   ]
  },
  {
   "cell_type": "code",
   "execution_count": 34,
   "id": "1853aaf5-fb9f-46cb-a2b5-8ea4ae2237e4",
   "metadata": {
    "execution": {
     "iopub.execute_input": "2025-07-30T13:17:32.172885Z",
     "iopub.status.busy": "2025-07-30T13:17:32.172253Z",
     "iopub.status.idle": "2025-07-30T13:17:32.220229Z",
     "shell.execute_reply": "2025-07-30T13:17:32.219119Z"
    },
    "papermill": {
     "duration": 0.071908,
     "end_time": "2025-07-30T13:17:32.222736",
     "exception": false,
     "start_time": "2025-07-30T13:17:32.150828",
     "status": "completed"
    },
    "tags": []
   },
   "outputs": [
    {
     "name": "stdout",
     "output_type": "stream",
     "text": [
      "Dropping features: ['maxdeutsch1', 'maxdeutsch.Missing.', 'frau1']\n"
     ]
    }
   ],
   "source": [
    "if len(excluded_features_columns) > 0:\n",
    "    print(f\"Dropping features: {excluded_features_columns}\")\n",
    "    X_calib.drop(excluded_features_columns, axis=1, inplace=True)"
   ]
  },
  {
   "cell_type": "code",
   "execution_count": 35,
   "id": "6727d079-03e5-481e-9d38-292a90b7a0a8",
   "metadata": {
    "execution": {
     "iopub.execute_input": "2025-07-30T13:17:32.266977Z",
     "iopub.status.busy": "2025-07-30T13:17:32.266344Z",
     "iopub.status.idle": "2025-07-30T13:17:32.271750Z",
     "shell.execute_reply": "2025-07-30T13:17:32.270788Z"
    },
    "papermill": {
     "duration": 0.028621,
     "end_time": "2025-07-30T13:17:32.273337",
     "exception": false,
     "start_time": "2025-07-30T13:17:32.244716",
     "status": "completed"
    },
    "tags": []
   },
   "outputs": [],
   "source": [
    "# SPLIT & STRATIFY DATA\n",
    "# ----------------------"
   ]
  },
  {
   "cell_type": "code",
   "execution_count": 36,
   "id": "76c4dc6d",
   "metadata": {
    "execution": {
     "iopub.execute_input": "2025-07-30T13:17:32.317291Z",
     "iopub.status.busy": "2025-07-30T13:17:32.316657Z",
     "iopub.status.idle": "2025-07-30T13:17:32.322119Z",
     "shell.execute_reply": "2025-07-30T13:17:32.321162Z"
    },
    "papermill": {
     "duration": 0.028504,
     "end_time": "2025-07-30T13:17:32.323630",
     "exception": false,
     "start_time": "2025-07-30T13:17:32.295126",
     "status": "completed"
    },
    "tags": []
   },
   "outputs": [],
   "source": [
    "# EXCLUDE CERTAIN SUBGROUPS\n",
    "# ----------------------\n",
    "\n",
    "mode = universe.get(\"exclude_subgroups\", \"keep-all\") \n",
    "# Fetches the exclude_subgroups setting from the universe dict.\n",
    "# Defaults to \"keep-all\" if the key is missing."
   ]
  },
  {
   "cell_type": "code",
   "execution_count": 37,
   "id": "21994072",
   "metadata": {
    "execution": {
     "iopub.execute_input": "2025-07-30T13:17:32.368699Z",
     "iopub.status.busy": "2025-07-30T13:17:32.367743Z",
     "iopub.status.idle": "2025-07-30T13:17:32.374444Z",
     "shell.execute_reply": "2025-07-30T13:17:32.373631Z"
    },
    "papermill": {
     "duration": 0.030278,
     "end_time": "2025-07-30T13:17:32.375979",
     "exception": false,
     "start_time": "2025-07-30T13:17:32.345701",
     "status": "completed"
    },
    "tags": []
   },
   "outputs": [],
   "source": [
    "if mode == \"keep-all\":\n",
    "    keep_mask = pd.Series(True, index=org_train.index)\n",
    "\n",
    "# org_train contains the original feature columns from features_org (in Simson)\n",
    "# features_org contains unprocessed features, for me X_train at beginning ???\n",
    "# For keep-all, creates a boolean Series (keep_mask) of all True, so no rows are removed.\n",
    "\n",
    "elif mode == \"drop-non-german\":\n",
    "    keep_mask = org_train[\"maxdeutsch1\"] == 1 # ??? what about missing values?\n",
    "\n",
    "else:\n",
    "    raise ValueError(f\"Unsupported mode for exclude_subgroups: {mode}\")\n"
   ]
  },
  {
   "cell_type": "code",
   "execution_count": 38,
   "id": "71651440",
   "metadata": {
    "execution": {
     "iopub.execute_input": "2025-07-30T13:17:32.420581Z",
     "iopub.status.busy": "2025-07-30T13:17:32.419904Z",
     "iopub.status.idle": "2025-07-30T13:17:32.426564Z",
     "shell.execute_reply": "2025-07-30T13:17:32.425786Z"
    },
    "papermill": {
     "duration": 0.030047,
     "end_time": "2025-07-30T13:17:32.428139",
     "exception": false,
     "start_time": "2025-07-30T13:17:32.398092",
     "status": "completed"
    },
    "tags": []
   },
   "outputs": [],
   "source": [
    "n_drop = (~keep_mask).sum() # Calculates how many rows are set to be dropped\n",
    "if n_drop > 0:\n",
    "    pct = n_drop / len(keep_mask) * 100\n",
    "    print(f\"Dropping {n_drop} rows ({pct:.2f}%) where mode='{mode}'\")"
   ]
  },
  {
   "cell_type": "code",
   "execution_count": 39,
   "id": "5fb8eee5",
   "metadata": {
    "execution": {
     "iopub.execute_input": "2025-07-30T13:17:32.472674Z",
     "iopub.status.busy": "2025-07-30T13:17:32.472002Z",
     "iopub.status.idle": "2025-07-30T13:17:32.486592Z",
     "shell.execute_reply": "2025-07-30T13:17:32.485590Z"
    },
    "papermill": {
     "duration": 0.038519,
     "end_time": "2025-07-30T13:17:32.488556",
     "exception": false,
     "start_time": "2025-07-30T13:17:32.450037",
     "status": "completed"
    },
    "tags": []
   },
   "outputs": [],
   "source": [
    "X_train = X_train[keep_mask]"
   ]
  },
  {
   "cell_type": "code",
   "execution_count": 40,
   "id": "b202bb3a",
   "metadata": {
    "execution": {
     "iopub.execute_input": "2025-07-30T13:17:32.533144Z",
     "iopub.status.busy": "2025-07-30T13:17:32.532497Z",
     "iopub.status.idle": "2025-07-30T13:17:32.539045Z",
     "shell.execute_reply": "2025-07-30T13:17:32.538105Z"
    },
    "papermill": {
     "duration": 0.030193,
     "end_time": "2025-07-30T13:17:32.540668",
     "exception": false,
     "start_time": "2025-07-30T13:17:32.510475",
     "status": "completed"
    },
    "tags": []
   },
   "outputs": [],
   "source": [
    "y_train = y_train[keep_mask]"
   ]
  },
  {
   "cell_type": "markdown",
   "id": "493e2ac3",
   "metadata": {
    "papermill": {
     "duration": 0.020916,
     "end_time": "2025-07-30T13:17:32.583455",
     "exception": false,
     "start_time": "2025-07-30T13:17:32.562539",
     "status": "completed"
    },
    "tags": []
   },
   "source": [
    "# Model Training"
   ]
  },
  {
   "cell_type": "code",
   "execution_count": 41,
   "id": "679e1268",
   "metadata": {
    "execution": {
     "iopub.execute_input": "2025-07-30T13:17:32.627028Z",
     "iopub.status.busy": "2025-07-30T13:17:32.626356Z",
     "iopub.status.idle": "2025-07-30T13:17:32.724349Z",
     "shell.execute_reply": "2025-07-30T13:17:32.723488Z"
    },
    "papermill": {
     "duration": 0.121907,
     "end_time": "2025-07-30T13:17:32.726163",
     "exception": false,
     "start_time": "2025-07-30T13:17:32.604256",
     "status": "completed"
    },
    "tags": []
   },
   "outputs": [],
   "source": [
    "from sklearn.linear_model import LogisticRegression\n",
    "from sklearn.ensemble import GradientBoostingClassifier, RandomForestClassifier\n",
    "\n",
    "if (universe[\"model\"] == \"logreg\"):\n",
    "    model = LogisticRegression() #penalty=\"none\") #, solver=\"newton-cg\", max_iter=1) # include random_state=19 ?\n",
    "elif (universe[\"model\"] == \"penalized_logreg\"):\n",
    "    model = LogisticRegression(penalty=\"l2\", C=1.0) #, solver=\"newton-cg\", max_iter=1)\n",
    "elif (universe[\"model\"] == \"rf\"):\n",
    "    model = RandomForestClassifier(n_estimators=100, n_jobs=-1)\n",
    "elif (universe[\"model\"] == \"gbm\"):\n",
    "    model = GradientBoostingClassifier()\n",
    "elif (universe[\"model\"] == \"elasticnet\"):\n",
    "    model = LogisticRegression(penalty = 'elasticnet', solver = 'saga', l1_ratio = 0.5, max_iter=5000) # which solver to use?\n",
    "else:\n",
    "    raise \"Unsupported universe.model\""
   ]
  },
  {
   "cell_type": "code",
   "execution_count": 42,
   "id": "0cc8f744",
   "metadata": {
    "execution": {
     "iopub.execute_input": "2025-07-30T13:17:32.770632Z",
     "iopub.status.busy": "2025-07-30T13:17:32.769983Z",
     "iopub.status.idle": "2025-07-30T13:17:32.776158Z",
     "shell.execute_reply": "2025-07-30T13:17:32.775302Z"
    },
    "papermill": {
     "duration": 0.029618,
     "end_time": "2025-07-30T13:17:32.777591",
     "exception": false,
     "start_time": "2025-07-30T13:17:32.747973",
     "status": "completed"
    },
    "tags": []
   },
   "outputs": [],
   "source": [
    "import numpy as np\n",
    "from sklearn.pipeline import Pipeline\n",
    "from sklearn.preprocessing import StandardScaler\n",
    "\n",
    "model = Pipeline([\n",
    "    #(\"continuous_processor\", continuous_processor),\n",
    "    #(\"categorical_preprocessor\", categorical_preprocessor),\n",
    "    (\"scale\", StandardScaler() if universe[\"scale\"] == \"scale\" else None), \n",
    "    (\"model\", model),\n",
    "])"
   ]
  },
  {
   "cell_type": "code",
   "execution_count": 43,
   "id": "9442c04d",
   "metadata": {
    "execution": {
     "iopub.execute_input": "2025-07-30T13:17:32.822455Z",
     "iopub.status.busy": "2025-07-30T13:17:32.821820Z",
     "iopub.status.idle": "2025-07-30T13:20:54.006016Z",
     "shell.execute_reply": "2025-07-30T13:20:54.005201Z"
    },
    "papermill": {
     "duration": 201.247166,
     "end_time": "2025-07-30T13:20:54.047017",
     "exception": false,
     "start_time": "2025-07-30T13:17:32.799851",
     "status": "completed"
    },
    "tags": []
   },
   "outputs": [
    {
     "data": {
      "text/html": [
       "<style>#sk-container-id-1 {color: black;background-color: white;}#sk-container-id-1 pre{padding: 0;}#sk-container-id-1 div.sk-toggleable {background-color: white;}#sk-container-id-1 label.sk-toggleable__label {cursor: pointer;display: block;width: 100%;margin-bottom: 0;padding: 0.3em;box-sizing: border-box;text-align: center;}#sk-container-id-1 label.sk-toggleable__label-arrow:before {content: \"▸\";float: left;margin-right: 0.25em;color: #696969;}#sk-container-id-1 label.sk-toggleable__label-arrow:hover:before {color: black;}#sk-container-id-1 div.sk-estimator:hover label.sk-toggleable__label-arrow:before {color: black;}#sk-container-id-1 div.sk-toggleable__content {max-height: 0;max-width: 0;overflow: hidden;text-align: left;background-color: #f0f8ff;}#sk-container-id-1 div.sk-toggleable__content pre {margin: 0.2em;color: black;border-radius: 0.25em;background-color: #f0f8ff;}#sk-container-id-1 input.sk-toggleable__control:checked~div.sk-toggleable__content {max-height: 200px;max-width: 100%;overflow: auto;}#sk-container-id-1 input.sk-toggleable__control:checked~label.sk-toggleable__label-arrow:before {content: \"▾\";}#sk-container-id-1 div.sk-estimator input.sk-toggleable__control:checked~label.sk-toggleable__label {background-color: #d4ebff;}#sk-container-id-1 div.sk-label input.sk-toggleable__control:checked~label.sk-toggleable__label {background-color: #d4ebff;}#sk-container-id-1 input.sk-hidden--visually {border: 0;clip: rect(1px 1px 1px 1px);clip: rect(1px, 1px, 1px, 1px);height: 1px;margin: -1px;overflow: hidden;padding: 0;position: absolute;width: 1px;}#sk-container-id-1 div.sk-estimator {font-family: monospace;background-color: #f0f8ff;border: 1px dotted black;border-radius: 0.25em;box-sizing: border-box;margin-bottom: 0.5em;}#sk-container-id-1 div.sk-estimator:hover {background-color: #d4ebff;}#sk-container-id-1 div.sk-parallel-item::after {content: \"\";width: 100%;border-bottom: 1px solid gray;flex-grow: 1;}#sk-container-id-1 div.sk-label:hover label.sk-toggleable__label {background-color: #d4ebff;}#sk-container-id-1 div.sk-serial::before {content: \"\";position: absolute;border-left: 1px solid gray;box-sizing: border-box;top: 0;bottom: 0;left: 50%;z-index: 0;}#sk-container-id-1 div.sk-serial {display: flex;flex-direction: column;align-items: center;background-color: white;padding-right: 0.2em;padding-left: 0.2em;position: relative;}#sk-container-id-1 div.sk-item {position: relative;z-index: 1;}#sk-container-id-1 div.sk-parallel {display: flex;align-items: stretch;justify-content: center;background-color: white;position: relative;}#sk-container-id-1 div.sk-item::before, #sk-container-id-1 div.sk-parallel-item::before {content: \"\";position: absolute;border-left: 1px solid gray;box-sizing: border-box;top: 0;bottom: 0;left: 50%;z-index: -1;}#sk-container-id-1 div.sk-parallel-item {display: flex;flex-direction: column;z-index: 1;position: relative;background-color: white;}#sk-container-id-1 div.sk-parallel-item:first-child::after {align-self: flex-end;width: 50%;}#sk-container-id-1 div.sk-parallel-item:last-child::after {align-self: flex-start;width: 50%;}#sk-container-id-1 div.sk-parallel-item:only-child::after {width: 0;}#sk-container-id-1 div.sk-dashed-wrapped {border: 1px dashed gray;margin: 0 0.4em 0.5em 0.4em;box-sizing: border-box;padding-bottom: 0.4em;background-color: white;}#sk-container-id-1 div.sk-label label {font-family: monospace;font-weight: bold;display: inline-block;line-height: 1.2em;}#sk-container-id-1 div.sk-label-container {text-align: center;}#sk-container-id-1 div.sk-container {/* jupyter's `normalize.less` sets `[hidden] { display: none; }` but bootstrap.min.css set `[hidden] { display: none !important; }` so we also need the `!important` here to be able to override the default hidden behavior on the sphinx rendered scikit-learn.org. See: https://github.com/scikit-learn/scikit-learn/issues/21755 */display: inline-block !important;position: relative;}#sk-container-id-1 div.sk-text-repr-fallback {display: none;}</style><div id=\"sk-container-id-1\" class=\"sk-top-container\"><div class=\"sk-text-repr-fallback\"><pre>Pipeline(steps=[(&#x27;scale&#x27;, None),\n",
       "                (&#x27;model&#x27;,\n",
       "                 LogisticRegression(l1_ratio=0.5, max_iter=5000,\n",
       "                                    penalty=&#x27;elasticnet&#x27;, solver=&#x27;saga&#x27;))])</pre><b>In a Jupyter environment, please rerun this cell to show the HTML representation or trust the notebook. <br />On GitHub, the HTML representation is unable to render, please try loading this page with nbviewer.org.</b></div><div class=\"sk-container\" hidden><div class=\"sk-item sk-dashed-wrapped\"><div class=\"sk-label-container\"><div class=\"sk-label sk-toggleable\"><input class=\"sk-toggleable__control sk-hidden--visually\" id=\"sk-estimator-id-1\" type=\"checkbox\" ><label for=\"sk-estimator-id-1\" class=\"sk-toggleable__label sk-toggleable__label-arrow\">Pipeline</label><div class=\"sk-toggleable__content\"><pre>Pipeline(steps=[(&#x27;scale&#x27;, None),\n",
       "                (&#x27;model&#x27;,\n",
       "                 LogisticRegression(l1_ratio=0.5, max_iter=5000,\n",
       "                                    penalty=&#x27;elasticnet&#x27;, solver=&#x27;saga&#x27;))])</pre></div></div></div><div class=\"sk-serial\"><div class=\"sk-item\"><div class=\"sk-estimator sk-toggleable\"><input class=\"sk-toggleable__control sk-hidden--visually\" id=\"sk-estimator-id-2\" type=\"checkbox\" ><label for=\"sk-estimator-id-2\" class=\"sk-toggleable__label sk-toggleable__label-arrow\">None</label><div class=\"sk-toggleable__content\"><pre>None</pre></div></div></div><div class=\"sk-item\"><div class=\"sk-estimator sk-toggleable\"><input class=\"sk-toggleable__control sk-hidden--visually\" id=\"sk-estimator-id-3\" type=\"checkbox\" ><label for=\"sk-estimator-id-3\" class=\"sk-toggleable__label sk-toggleable__label-arrow\">LogisticRegression</label><div class=\"sk-toggleable__content\"><pre>LogisticRegression(l1_ratio=0.5, max_iter=5000, penalty=&#x27;elasticnet&#x27;,\n",
       "                   solver=&#x27;saga&#x27;)</pre></div></div></div></div></div></div></div>"
      ],
      "text/plain": [
       "Pipeline(steps=[('scale', None),\n",
       "                ('model',\n",
       "                 LogisticRegression(l1_ratio=0.5, max_iter=5000,\n",
       "                                    penalty='elasticnet', solver='saga'))])"
      ]
     },
     "execution_count": 43,
     "metadata": {},
     "output_type": "execute_result"
    }
   ],
   "source": [
    "model.fit(X_train, y_train.values.ravel())"
   ]
  },
  {
   "cell_type": "code",
   "execution_count": 44,
   "id": "af59f8c0",
   "metadata": {
    "execution": {
     "iopub.execute_input": "2025-07-30T13:20:54.072584Z",
     "iopub.status.busy": "2025-07-30T13:20:54.072210Z",
     "iopub.status.idle": "2025-07-30T13:20:54.077551Z",
     "shell.execute_reply": "2025-07-30T13:20:54.076769Z"
    },
    "papermill": {
     "duration": 0.019518,
     "end_time": "2025-07-30T13:20:54.078824",
     "exception": false,
     "start_time": "2025-07-30T13:20:54.059306",
     "status": "completed"
    },
    "tags": []
   },
   "outputs": [],
   "source": [
    "from fairness_multiverse.universe import predict_w_threshold"
   ]
  },
  {
   "cell_type": "code",
   "execution_count": 45,
   "id": "a7cf2e16",
   "metadata": {
    "execution": {
     "iopub.execute_input": "2025-07-30T13:20:54.105060Z",
     "iopub.status.busy": "2025-07-30T13:20:54.104538Z",
     "iopub.status.idle": "2025-07-30T13:20:54.193207Z",
     "shell.execute_reply": "2025-07-30T13:20:54.191821Z"
    },
    "papermill": {
     "duration": 0.10267,
     "end_time": "2025-07-30T13:20:54.194694",
     "exception": false,
     "start_time": "2025-07-30T13:20:54.092024",
     "status": "completed"
    },
    "tags": []
   },
   "outputs": [
    {
     "data": {
      "text/plain": [
       "0.8543863560361163"
      ]
     },
     "execution_count": 45,
     "metadata": {},
     "output_type": "execute_result"
    }
   ],
   "source": [
    "probs_test = model.predict_proba(X_test)\n",
    "\n",
    "'''\n",
    "Below code returns a boolean array (or binary 0/1 array depending on how it’s used) where each element \n",
    "is True if the probability of class 1 is greater than or equal to the threshold, and False otherwise.\n",
    "'''\n",
    "y_pred_default = predict_w_threshold(probs_test, 0.5)\n",
    "\n",
    "from sklearn.metrics import accuracy_score\n",
    "\n",
    "# Naive prediction\n",
    "accuracy_score(y_true = y_true, y_pred = y_pred_default)"
   ]
  },
  {
   "cell_type": "code",
   "execution_count": 46,
   "id": "081964c3",
   "metadata": {
    "execution": {
     "iopub.execute_input": "2025-07-30T13:20:54.246097Z",
     "iopub.status.busy": "2025-07-30T13:20:54.245682Z",
     "iopub.status.idle": "2025-07-30T13:20:54.329920Z",
     "shell.execute_reply": "2025-07-30T13:20:54.328810Z"
    },
    "papermill": {
     "duration": 0.110507,
     "end_time": "2025-07-30T13:20:54.331652",
     "exception": false,
     "start_time": "2025-07-30T13:20:54.221145",
     "status": "completed"
    },
    "tags": []
   },
   "outputs": [
    {
     "data": {
      "text/plain": [
       "array([0, 0, 0, ..., 0, 0, 0])"
      ]
     },
     "execution_count": 46,
     "metadata": {},
     "output_type": "execute_result"
    }
   ],
   "source": [
    "model.predict(X_test)"
   ]
  },
  {
   "cell_type": "markdown",
   "id": "56c9705b",
   "metadata": {
    "papermill": {
     "duration": 0.025431,
     "end_time": "2025-07-30T13:20:54.383744",
     "exception": false,
     "start_time": "2025-07-30T13:20:54.358313",
     "status": "completed"
    },
    "tags": []
   },
   "source": [
    "# Conformal Prediction"
   ]
  },
  {
   "cell_type": "code",
   "execution_count": 47,
   "id": "160ec6ff",
   "metadata": {
    "execution": {
     "iopub.execute_input": "2025-07-30T13:20:54.436245Z",
     "iopub.status.busy": "2025-07-30T13:20:54.435533Z",
     "iopub.status.idle": "2025-07-30T13:20:54.440852Z",
     "shell.execute_reply": "2025-07-30T13:20:54.439769Z"
    },
    "papermill": {
     "duration": 0.033941,
     "end_time": "2025-07-30T13:20:54.442787",
     "exception": false,
     "start_time": "2025-07-30T13:20:54.408846",
     "status": "completed"
    },
    "tags": []
   },
   "outputs": [],
   "source": [
    "# Miscoverage level for conformal prediction (10% allowed error rate => 90% target coverage)\n",
    "alpha = 0.1"
   ]
  },
  {
   "cell_type": "code",
   "execution_count": 48,
   "id": "eadf4555-3dd3-440e-8e35-f82a4ad9f855",
   "metadata": {
    "execution": {
     "iopub.execute_input": "2025-07-30T13:20:54.496658Z",
     "iopub.status.busy": "2025-07-30T13:20:54.496011Z",
     "iopub.status.idle": "2025-07-30T13:20:54.577925Z",
     "shell.execute_reply": "2025-07-30T13:20:54.576949Z"
    },
    "papermill": {
     "duration": 0.110495,
     "end_time": "2025-07-30T13:20:54.579982",
     "exception": false,
     "start_time": "2025-07-30T13:20:54.469487",
     "status": "completed"
    },
    "tags": []
   },
   "outputs": [],
   "source": [
    "probs_calib = model.predict_proba(X_calib)"
   ]
  },
  {
   "cell_type": "code",
   "execution_count": 49,
   "id": "2ed93547-6d5d-4983-9b36-1ecb300da49a",
   "metadata": {
    "execution": {
     "iopub.execute_input": "2025-07-30T13:20:54.633905Z",
     "iopub.status.busy": "2025-07-30T13:20:54.633224Z",
     "iopub.status.idle": "2025-07-30T13:20:54.638868Z",
     "shell.execute_reply": "2025-07-30T13:20:54.637874Z"
    },
    "papermill": {
     "duration": 0.034178,
     "end_time": "2025-07-30T13:20:54.640713",
     "exception": false,
     "start_time": "2025-07-30T13:20:54.606535",
     "status": "completed"
    },
    "tags": []
   },
   "outputs": [],
   "source": [
    "y_calib = y_calib.values.ravel().astype(int)"
   ]
  },
  {
   "cell_type": "code",
   "execution_count": 50,
   "id": "65d1320d-f588-4b38-9072-62af1ae97f7d",
   "metadata": {
    "execution": {
     "iopub.execute_input": "2025-07-30T13:20:54.697885Z",
     "iopub.status.busy": "2025-07-30T13:20:54.697186Z",
     "iopub.status.idle": "2025-07-30T13:20:54.706392Z",
     "shell.execute_reply": "2025-07-30T13:20:54.705529Z"
    },
    "papermill": {
     "duration": 0.040797,
     "end_time": "2025-07-30T13:20:54.708003",
     "exception": false,
     "start_time": "2025-07-30T13:20:54.667206",
     "status": "completed"
    },
    "tags": []
   },
   "outputs": [],
   "source": [
    "from fairness_multiverse.conformal import compute_nc_scores\n",
    "\n",
    "# Compute nonconformity scores on calibration set (1 - probability of true class)\n",
    "nc_scores = compute_nc_scores(probs_calib, y_calib)"
   ]
  },
  {
   "cell_type": "code",
   "execution_count": 51,
   "id": "df3b8ca3-53b7-43d5-9667-7c85da7aeda2",
   "metadata": {
    "execution": {
     "iopub.execute_input": "2025-07-30T13:20:54.764462Z",
     "iopub.status.busy": "2025-07-30T13:20:54.763808Z",
     "iopub.status.idle": "2025-07-30T13:20:54.827748Z",
     "shell.execute_reply": "2025-07-30T13:20:54.826685Z"
    },
    "papermill": {
     "duration": 0.092963,
     "end_time": "2025-07-30T13:20:54.829806",
     "exception": false,
     "start_time": "2025-07-30T13:20:54.736843",
     "status": "completed"
    },
    "tags": []
   },
   "outputs": [],
   "source": [
    "from fairness_multiverse.conformal import find_threshold\n",
    "\n",
    "# Find conformal threshold q_hat for the given alpha (split conformal method)\n",
    "q_hat = find_threshold(nc_scores, alpha)"
   ]
  },
  {
   "cell_type": "code",
   "execution_count": 52,
   "id": "4d29e6c1-0ef6-4aa4-b8fe-4fe79b0d033a",
   "metadata": {
    "execution": {
     "iopub.execute_input": "2025-07-30T13:20:54.886786Z",
     "iopub.status.busy": "2025-07-30T13:20:54.886144Z",
     "iopub.status.idle": "2025-07-30T13:20:54.893303Z",
     "shell.execute_reply": "2025-07-30T13:20:54.892410Z"
    },
    "papermill": {
     "duration": 0.035809,
     "end_time": "2025-07-30T13:20:54.895026",
     "exception": false,
     "start_time": "2025-07-30T13:20:54.859217",
     "status": "completed"
    },
    "tags": []
   },
   "outputs": [
    {
     "data": {
      "text/plain": [
       "0.684412811227171"
      ]
     },
     "execution_count": 52,
     "metadata": {},
     "output_type": "execute_result"
    }
   ],
   "source": [
    "q_hat"
   ]
  },
  {
   "cell_type": "code",
   "execution_count": 53,
   "id": "92460794-cdac-4be2-ba28-f28c0515a6fb",
   "metadata": {
    "execution": {
     "iopub.execute_input": "2025-07-30T13:20:54.949266Z",
     "iopub.status.busy": "2025-07-30T13:20:54.948634Z",
     "iopub.status.idle": "2025-07-30T13:20:55.689720Z",
     "shell.execute_reply": "2025-07-30T13:20:55.688798Z"
    },
    "papermill": {
     "duration": 0.769845,
     "end_time": "2025-07-30T13:20:55.691542",
     "exception": false,
     "start_time": "2025-07-30T13:20:54.921697",
     "status": "completed"
    },
    "tags": []
   },
   "outputs": [],
   "source": [
    "from fairness_multiverse.conformal import predict_conformal_sets\n",
    "\n",
    "# Generate prediction sets for each test example\n",
    "pred_sets = predict_conformal_sets(model, X_test, q_hat)"
   ]
  },
  {
   "cell_type": "code",
   "execution_count": 54,
   "id": "d90c9a65-e6db-4f5d-80cd-e68fb7e46829",
   "metadata": {
    "execution": {
     "iopub.execute_input": "2025-07-30T13:20:55.747514Z",
     "iopub.status.busy": "2025-07-30T13:20:55.746516Z",
     "iopub.status.idle": "2025-07-30T13:20:55.752238Z",
     "shell.execute_reply": "2025-07-30T13:20:55.751205Z"
    },
    "papermill": {
     "duration": 0.035142,
     "end_time": "2025-07-30T13:20:55.753886",
     "exception": false,
     "start_time": "2025-07-30T13:20:55.718744",
     "status": "completed"
    },
    "tags": []
   },
   "outputs": [],
   "source": [
    "y_true = y_true.squeeze()"
   ]
  },
  {
   "cell_type": "code",
   "execution_count": 55,
   "id": "3a58a54a-1e68-46b9-927a-df01f18aebc8",
   "metadata": {
    "execution": {
     "iopub.execute_input": "2025-07-30T13:20:55.807701Z",
     "iopub.status.busy": "2025-07-30T13:20:55.806833Z",
     "iopub.status.idle": "2025-07-30T13:20:56.670264Z",
     "shell.execute_reply": "2025-07-30T13:20:56.669237Z"
    },
    "papermill": {
     "duration": 0.890847,
     "end_time": "2025-07-30T13:20:56.672068",
     "exception": false,
     "start_time": "2025-07-30T13:20:55.781221",
     "status": "completed"
    },
    "tags": []
   },
   "outputs": [],
   "source": [
    "from fairness_multiverse.conformal import evaluate_sets\n",
    "\n",
    "# Evaluate coverage and average set size on test data\n",
    "metrics = evaluate_sets(pred_sets, y_true)"
   ]
  },
  {
   "cell_type": "markdown",
   "id": "2b569c12-9aaa-4c88-98c9-bbcd0cf3ebb8",
   "metadata": {
    "papermill": {
     "duration": 0.025122,
     "end_time": "2025-07-30T13:20:56.723823",
     "exception": false,
     "start_time": "2025-07-30T13:20:56.698701",
     "status": "completed"
    },
    "tags": []
   },
   "source": [
    "# CP Metrics"
   ]
  },
  {
   "cell_type": "code",
   "execution_count": 56,
   "id": "5ce0a5cb-201f-45a0-ade5-94c7f0bd6095",
   "metadata": {
    "execution": {
     "iopub.execute_input": "2025-07-30T13:20:56.777066Z",
     "iopub.status.busy": "2025-07-30T13:20:56.776371Z",
     "iopub.status.idle": "2025-07-30T13:20:56.785088Z",
     "shell.execute_reply": "2025-07-30T13:20:56.784076Z"
    },
    "papermill": {
     "duration": 0.037414,
     "end_time": "2025-07-30T13:20:56.786760",
     "exception": false,
     "start_time": "2025-07-30T13:20:56.749346",
     "status": "completed"
    },
    "tags": []
   },
   "outputs": [
    {
     "data": {
      "text/plain": [
       "{'coverage': 0.9094972689778175, 'avg_size': 1.1324712963995096}"
      ]
     },
     "execution_count": 56,
     "metadata": {},
     "output_type": "execute_result"
    }
   ],
   "source": [
    "metrics"
   ]
  },
  {
   "cell_type": "code",
   "execution_count": 57,
   "id": "9b9a838d-31c9-430b-ae14-12baee460d17",
   "metadata": {
    "execution": {
     "iopub.execute_input": "2025-07-30T13:20:56.844235Z",
     "iopub.status.busy": "2025-07-30T13:20:56.842555Z",
     "iopub.status.idle": "2025-07-30T13:20:56.856470Z",
     "shell.execute_reply": "2025-07-30T13:20:56.855040Z"
    },
    "papermill": {
     "duration": 0.04353,
     "end_time": "2025-07-30T13:20:56.858414",
     "exception": false,
     "start_time": "2025-07-30T13:20:56.814884",
     "status": "completed"
    },
    "tags": []
   },
   "outputs": [],
   "source": [
    "example_universe = universe.copy()\n",
    "universe_training_size = example_universe.get(\"training_size\")\n",
    "universe_scale = example_universe.get(\"scale\")\n",
    "universe_model = example_universe.get(\"model\")\n",
    "universe_exclude_features = example_universe.get(\"exclude_features\")\n",
    "universe_exclude_subgroups = example_universe.get(\"exclude_subgroups\")"
   ]
  },
  {
   "cell_type": "code",
   "execution_count": 58,
   "id": "f4b6a8ac-9dc0-4245-8a91-5b3b5999c4f9",
   "metadata": {
    "execution": {
     "iopub.execute_input": "2025-07-30T13:20:56.914786Z",
     "iopub.status.busy": "2025-07-30T13:20:56.914201Z",
     "iopub.status.idle": "2025-07-30T13:20:56.920928Z",
     "shell.execute_reply": "2025-07-30T13:20:56.920085Z"
    },
    "papermill": {
     "duration": 0.035765,
     "end_time": "2025-07-30T13:20:56.922392",
     "exception": false,
     "start_time": "2025-07-30T13:20:56.886627",
     "status": "completed"
    },
    "tags": []
   },
   "outputs": [],
   "source": [
    "cp_metrics_dict = {\n",
    "    \"universe_id\": [universe_id],\n",
    "    \"universe_training_size\": [universe_training_size],\n",
    "    \"universe_scale\": [universe_scale],\n",
    "    \"universe_model\": [universe_model],\n",
    "    \"universe_exclude_features\": [universe_exclude_features],\n",
    "    \"universe_exclude_subgroups\": [universe_exclude_subgroups],\n",
    "    \"q_hat\": [q_hat],\n",
    "    \"coverage\": [metrics[\"coverage\"]],\n",
    "    \"avg_size\": [metrics[\"avg_size\"]],\n",
    "}"
   ]
  },
  {
   "cell_type": "code",
   "execution_count": 59,
   "id": "908acbb1-0371-4915-85ca-3fa520d2efe2",
   "metadata": {
    "execution": {
     "iopub.execute_input": "2025-07-30T13:20:56.952518Z",
     "iopub.status.busy": "2025-07-30T13:20:56.952108Z",
     "iopub.status.idle": "2025-07-30T13:20:56.959488Z",
     "shell.execute_reply": "2025-07-30T13:20:56.958376Z"
    },
    "papermill": {
     "duration": 0.024162,
     "end_time": "2025-07-30T13:20:56.961436",
     "exception": false,
     "start_time": "2025-07-30T13:20:56.937274",
     "status": "completed"
    },
    "tags": []
   },
   "outputs": [
    {
     "data": {
      "text/plain": [
       "{'universe_id': ['58185741d518038c94004f9c390baeec'],\n",
       " 'universe_training_size': ['25k'],\n",
       " 'universe_scale': ['do-not-scale'],\n",
       " 'universe_model': ['elasticnet'],\n",
       " 'universe_exclude_features': ['nationality-sex'],\n",
       " 'universe_exclude_subgroups': ['keep-all'],\n",
       " 'q_hat': [0.684412811227171],\n",
       " 'coverage': [0.9094972689778175],\n",
       " 'avg_size': [1.1324712963995096]}"
      ]
     },
     "execution_count": 59,
     "metadata": {},
     "output_type": "execute_result"
    }
   ],
   "source": [
    "cp_metrics_dict"
   ]
  },
  {
   "cell_type": "code",
   "execution_count": 60,
   "id": "33007efc-14e9-4ec6-97ac-56a455c82265",
   "metadata": {
    "execution": {
     "iopub.execute_input": "2025-07-30T13:20:57.014675Z",
     "iopub.status.busy": "2025-07-30T13:20:57.013866Z",
     "iopub.status.idle": "2025-07-30T13:20:57.021163Z",
     "shell.execute_reply": "2025-07-30T13:20:57.020085Z"
    },
    "papermill": {
     "duration": 0.037708,
     "end_time": "2025-07-30T13:20:57.022992",
     "exception": false,
     "start_time": "2025-07-30T13:20:56.985284",
     "status": "completed"
    },
    "tags": []
   },
   "outputs": [],
   "source": [
    "cp_metrics_df = pd.DataFrame(cp_metrics_dict)"
   ]
  },
  {
   "cell_type": "code",
   "execution_count": 61,
   "id": "db12611b-57b2-4910-b9d0-355adfd6e7bf",
   "metadata": {
    "execution": {
     "iopub.execute_input": "2025-07-30T13:20:57.066138Z",
     "iopub.status.busy": "2025-07-30T13:20:57.065672Z",
     "iopub.status.idle": "2025-07-30T13:20:57.083698Z",
     "shell.execute_reply": "2025-07-30T13:20:57.082710Z"
    },
    "papermill": {
     "duration": 0.036029,
     "end_time": "2025-07-30T13:20:57.085444",
     "exception": false,
     "start_time": "2025-07-30T13:20:57.049415",
     "status": "completed"
    },
    "tags": []
   },
   "outputs": [
    {
     "data": {
      "text/html": [
       "<div>\n",
       "<style scoped>\n",
       "    .dataframe tbody tr th:only-of-type {\n",
       "        vertical-align: middle;\n",
       "    }\n",
       "\n",
       "    .dataframe tbody tr th {\n",
       "        vertical-align: top;\n",
       "    }\n",
       "\n",
       "    .dataframe thead th {\n",
       "        text-align: right;\n",
       "    }\n",
       "</style>\n",
       "<table border=\"1\" class=\"dataframe\">\n",
       "  <thead>\n",
       "    <tr style=\"text-align: right;\">\n",
       "      <th></th>\n",
       "      <th>universe_id</th>\n",
       "      <th>universe_training_size</th>\n",
       "      <th>universe_scale</th>\n",
       "      <th>universe_model</th>\n",
       "      <th>universe_exclude_features</th>\n",
       "      <th>universe_exclude_subgroups</th>\n",
       "      <th>q_hat</th>\n",
       "      <th>coverage</th>\n",
       "      <th>avg_size</th>\n",
       "    </tr>\n",
       "  </thead>\n",
       "  <tbody>\n",
       "    <tr>\n",
       "      <th>0</th>\n",
       "      <td>58185741d518038c94004f9c390baeec</td>\n",
       "      <td>25k</td>\n",
       "      <td>do-not-scale</td>\n",
       "      <td>elasticnet</td>\n",
       "      <td>nationality-sex</td>\n",
       "      <td>keep-all</td>\n",
       "      <td>0.684413</td>\n",
       "      <td>0.909497</td>\n",
       "      <td>1.132471</td>\n",
       "    </tr>\n",
       "  </tbody>\n",
       "</table>\n",
       "</div>"
      ],
      "text/plain": [
       "                        universe_id universe_training_size universe_scale  \\\n",
       "0  58185741d518038c94004f9c390baeec                    25k   do-not-scale   \n",
       "\n",
       "  universe_model universe_exclude_features universe_exclude_subgroups  \\\n",
       "0     elasticnet           nationality-sex                   keep-all   \n",
       "\n",
       "      q_hat  coverage  avg_size  \n",
       "0  0.684413  0.909497  1.132471  "
      ]
     },
     "execution_count": 61,
     "metadata": {},
     "output_type": "execute_result"
    }
   ],
   "source": [
    "cp_metrics_df"
   ]
  },
  {
   "cell_type": "code",
   "execution_count": 62,
   "id": "b7fbde55-a0a1-47e4-9af6-fe4a17fa8c61",
   "metadata": {
    "execution": {
     "iopub.execute_input": "2025-07-30T13:20:57.142321Z",
     "iopub.status.busy": "2025-07-30T13:20:57.141678Z",
     "iopub.status.idle": "2025-07-30T13:20:57.146945Z",
     "shell.execute_reply": "2025-07-30T13:20:57.146161Z"
    },
    "papermill": {
     "duration": 0.034833,
     "end_time": "2025-07-30T13:20:57.148251",
     "exception": false,
     "start_time": "2025-07-30T13:20:57.113418",
     "status": "completed"
    },
    "tags": []
   },
   "outputs": [],
   "source": [
    "# Conditional Coverage & looking at subgroups"
   ]
  },
  {
   "cell_type": "code",
   "execution_count": 63,
   "id": "027ae886-68dd-4141-96c7-805a5450e1ef",
   "metadata": {
    "execution": {
     "iopub.execute_input": "2025-07-30T13:20:57.185005Z",
     "iopub.status.busy": "2025-07-30T13:20:57.184566Z",
     "iopub.status.idle": "2025-07-30T13:20:57.450526Z",
     "shell.execute_reply": "2025-07-30T13:20:57.449581Z"
    },
    "papermill": {
     "duration": 0.289745,
     "end_time": "2025-07-30T13:20:57.452353",
     "exception": false,
     "start_time": "2025-07-30T13:20:57.162608",
     "status": "completed"
    },
    "tags": []
   },
   "outputs": [],
   "source": [
    "from fairness_multiverse.conformal import build_cp_groups\n",
    "\n",
    "cp_groups_df = build_cp_groups(pred_sets, y_true, X_test.index, org_test)\n",
    "#needs universe_id and setting"
   ]
  },
  {
   "cell_type": "code",
   "execution_count": 64,
   "id": "01d5802c-663a-4d1f-9d69-e036faaffbf7",
   "metadata": {
    "execution": {
     "iopub.execute_input": "2025-07-30T13:20:57.507819Z",
     "iopub.status.busy": "2025-07-30T13:20:57.507174Z",
     "iopub.status.idle": "2025-07-30T13:20:57.511970Z",
     "shell.execute_reply": "2025-07-30T13:20:57.511064Z"
    },
    "papermill": {
     "duration": 0.035516,
     "end_time": "2025-07-30T13:20:57.513963",
     "exception": false,
     "start_time": "2025-07-30T13:20:57.478447",
     "status": "completed"
    },
    "tags": []
   },
   "outputs": [],
   "source": [
    "#delete\n",
    "#cp_groups_df"
   ]
  },
  {
   "cell_type": "code",
   "execution_count": 65,
   "id": "fa424af1-d1eb-443d-b717-2d279ada8408",
   "metadata": {
    "execution": {
     "iopub.execute_input": "2025-07-30T13:20:57.564659Z",
     "iopub.status.busy": "2025-07-30T13:20:57.563719Z",
     "iopub.status.idle": "2025-07-30T13:20:57.569471Z",
     "shell.execute_reply": "2025-07-30T13:20:57.568612Z"
    },
    "papermill": {
     "duration": 0.032087,
     "end_time": "2025-07-30T13:20:57.571092",
     "exception": false,
     "start_time": "2025-07-30T13:20:57.539005",
     "status": "completed"
    },
    "tags": []
   },
   "outputs": [],
   "source": [
    "#delete\n",
    "#percentage = (cp_groups_df['nongerman_female'] == 1).mean() * 100\n",
    "#print(percentage)\n"
   ]
  },
  {
   "cell_type": "code",
   "execution_count": 66,
   "id": "6cbdab96-b2b2-45af-ad54-d0516db2e28d",
   "metadata": {
    "execution": {
     "iopub.execute_input": "2025-07-30T13:20:57.622404Z",
     "iopub.status.busy": "2025-07-30T13:20:57.621958Z",
     "iopub.status.idle": "2025-07-30T13:20:59.141646Z",
     "shell.execute_reply": "2025-07-30T13:20:59.140716Z"
    },
    "papermill": {
     "duration": 1.546968,
     "end_time": "2025-07-30T13:20:59.143604",
     "exception": false,
     "start_time": "2025-07-30T13:20:57.596636",
     "status": "completed"
    },
    "tags": []
   },
   "outputs": [],
   "source": [
    "# Define covered = 1 if true_label is in the predicted set\n",
    "cp_groups_df['covered'] = cp_groups_df.apply(\n",
    "    lambda r: int(r['true_label'] in r['pred_set']),\n",
    "    axis=1\n",
    ")"
   ]
  },
  {
   "cell_type": "code",
   "execution_count": 67,
   "id": "338ff529-1a6b-4b87-a931-8e4788d52aad",
   "metadata": {
    "execution": {
     "iopub.execute_input": "2025-07-30T13:20:59.201425Z",
     "iopub.status.busy": "2025-07-30T13:20:59.200764Z",
     "iopub.status.idle": "2025-07-30T13:20:59.205914Z",
     "shell.execute_reply": "2025-07-30T13:20:59.204889Z"
    },
    "papermill": {
     "duration": 0.036193,
     "end_time": "2025-07-30T13:20:59.207704",
     "exception": false,
     "start_time": "2025-07-30T13:20:59.171511",
     "status": "completed"
    },
    "tags": []
   },
   "outputs": [],
   "source": [
    "#cp_groups_df"
   ]
  },
  {
   "cell_type": "code",
   "execution_count": 68,
   "id": "90032e27-66df-4540-9169-4e89cfbaa758",
   "metadata": {
    "execution": {
     "iopub.execute_input": "2025-07-30T13:20:59.269013Z",
     "iopub.status.busy": "2025-07-30T13:20:59.268341Z",
     "iopub.status.idle": "2025-07-30T13:20:59.280435Z",
     "shell.execute_reply": "2025-07-30T13:20:59.279443Z"
    },
    "papermill": {
     "duration": 0.044761,
     "end_time": "2025-07-30T13:20:59.282238",
     "exception": false,
     "start_time": "2025-07-30T13:20:59.237477",
     "status": "completed"
    },
    "tags": []
   },
   "outputs": [],
   "source": [
    "subgroups = ['frau1','nongerman','nongerman_male','nongerman_female']\n",
    "\n",
    "# Conditional coverage for subgroup==1\n",
    "cond_coverage = {\n",
    "    g: cp_groups_df.loc[cp_groups_df[g]==1, 'covered'].mean()\n",
    "    for g in subgroups\n",
    "}"
   ]
  },
  {
   "cell_type": "code",
   "execution_count": 69,
   "id": "1e348fb1-b9c3-45bc-ba23-f016827a7e0d",
   "metadata": {
    "execution": {
     "iopub.execute_input": "2025-07-30T13:20:59.340497Z",
     "iopub.status.busy": "2025-07-30T13:20:59.339978Z",
     "iopub.status.idle": "2025-07-30T13:20:59.348217Z",
     "shell.execute_reply": "2025-07-30T13:20:59.347108Z"
    },
    "papermill": {
     "duration": 0.037539,
     "end_time": "2025-07-30T13:20:59.350088",
     "exception": false,
     "start_time": "2025-07-30T13:20:59.312549",
     "status": "completed"
    },
    "tags": []
   },
   "outputs": [
    {
     "data": {
      "text/plain": [
       "{'frau1': 0.9076694972368243,\n",
       " 'nongerman': 0.907483298714422,\n",
       " 'nongerman_male': 0.9232639827073764,\n",
       " 'nongerman_female': 0.881371087928465}"
      ]
     },
     "execution_count": 69,
     "metadata": {},
     "output_type": "execute_result"
    }
   ],
   "source": [
    "cond_coverage"
   ]
  },
  {
   "cell_type": "code",
   "execution_count": 70,
   "id": "f5093324-c3dd-4d63-bc4c-8d945e5c8bbb",
   "metadata": {
    "execution": {
     "iopub.execute_input": "2025-07-30T13:20:59.403466Z",
     "iopub.status.busy": "2025-07-30T13:20:59.402932Z",
     "iopub.status.idle": "2025-07-30T13:20:59.411485Z",
     "shell.execute_reply": "2025-07-30T13:20:59.410397Z"
    },
    "papermill": {
     "duration": 0.037394,
     "end_time": "2025-07-30T13:20:59.413230",
     "exception": false,
     "start_time": "2025-07-30T13:20:59.375836",
     "status": "completed"
    },
    "tags": []
   },
   "outputs": [],
   "source": [
    "for subgroup, cov in cond_coverage.items():\n",
    "    cp_metrics_df[f\"cov_{subgroup}\"] = cov"
   ]
  },
  {
   "cell_type": "code",
   "execution_count": 71,
   "id": "6e872e10-dbe5-49e8-b554-5030c98ff75d",
   "metadata": {
    "execution": {
     "iopub.execute_input": "2025-07-30T13:20:59.466018Z",
     "iopub.status.busy": "2025-07-30T13:20:59.465207Z",
     "iopub.status.idle": "2025-07-30T13:20:59.482912Z",
     "shell.execute_reply": "2025-07-30T13:20:59.481894Z"
    },
    "papermill": {
     "duration": 0.045735,
     "end_time": "2025-07-30T13:20:59.484693",
     "exception": false,
     "start_time": "2025-07-30T13:20:59.438958",
     "status": "completed"
    },
    "tags": []
   },
   "outputs": [
    {
     "data": {
      "text/html": [
       "<div>\n",
       "<style scoped>\n",
       "    .dataframe tbody tr th:only-of-type {\n",
       "        vertical-align: middle;\n",
       "    }\n",
       "\n",
       "    .dataframe tbody tr th {\n",
       "        vertical-align: top;\n",
       "    }\n",
       "\n",
       "    .dataframe thead th {\n",
       "        text-align: right;\n",
       "    }\n",
       "</style>\n",
       "<table border=\"1\" class=\"dataframe\">\n",
       "  <thead>\n",
       "    <tr style=\"text-align: right;\">\n",
       "      <th></th>\n",
       "      <th>universe_id</th>\n",
       "      <th>universe_training_size</th>\n",
       "      <th>universe_scale</th>\n",
       "      <th>universe_model</th>\n",
       "      <th>universe_exclude_features</th>\n",
       "      <th>universe_exclude_subgroups</th>\n",
       "      <th>q_hat</th>\n",
       "      <th>coverage</th>\n",
       "      <th>avg_size</th>\n",
       "      <th>cov_frau1</th>\n",
       "      <th>cov_nongerman</th>\n",
       "      <th>cov_nongerman_male</th>\n",
       "      <th>cov_nongerman_female</th>\n",
       "    </tr>\n",
       "  </thead>\n",
       "  <tbody>\n",
       "    <tr>\n",
       "      <th>0</th>\n",
       "      <td>58185741d518038c94004f9c390baeec</td>\n",
       "      <td>25k</td>\n",
       "      <td>do-not-scale</td>\n",
       "      <td>elasticnet</td>\n",
       "      <td>nationality-sex</td>\n",
       "      <td>keep-all</td>\n",
       "      <td>0.684413</td>\n",
       "      <td>0.909497</td>\n",
       "      <td>1.132471</td>\n",
       "      <td>0.907669</td>\n",
       "      <td>0.907483</td>\n",
       "      <td>0.923264</td>\n",
       "      <td>0.881371</td>\n",
       "    </tr>\n",
       "  </tbody>\n",
       "</table>\n",
       "</div>"
      ],
      "text/plain": [
       "                        universe_id universe_training_size universe_scale  \\\n",
       "0  58185741d518038c94004f9c390baeec                    25k   do-not-scale   \n",
       "\n",
       "  universe_model universe_exclude_features universe_exclude_subgroups  \\\n",
       "0     elasticnet           nationality-sex                   keep-all   \n",
       "\n",
       "      q_hat  coverage  avg_size  cov_frau1  cov_nongerman  cov_nongerman_male  \\\n",
       "0  0.684413  0.909497  1.132471   0.907669       0.907483            0.923264   \n",
       "\n",
       "   cov_nongerman_female  \n",
       "0              0.881371  "
      ]
     },
     "execution_count": 71,
     "metadata": {},
     "output_type": "execute_result"
    }
   ],
   "source": [
    "cp_metrics_df"
   ]
  },
  {
   "cell_type": "markdown",
   "id": "33774451",
   "metadata": {
    "papermill": {
     "duration": 0.025015,
     "end_time": "2025-07-30T13:20:59.535702",
     "exception": false,
     "start_time": "2025-07-30T13:20:59.510687",
     "status": "completed"
    },
    "tags": []
   },
   "source": [
    "# (Fairness) Metrics"
   ]
  },
  {
   "cell_type": "code",
   "execution_count": 72,
   "id": "debc5d62",
   "metadata": {
    "execution": {
     "iopub.execute_input": "2025-07-30T13:20:59.588957Z",
     "iopub.status.busy": "2025-07-30T13:20:59.588383Z",
     "iopub.status.idle": "2025-07-30T13:20:59.610090Z",
     "shell.execute_reply": "2025-07-30T13:20:59.609204Z"
    },
    "papermill": {
     "duration": 0.050573,
     "end_time": "2025-07-30T13:20:59.611823",
     "exception": false,
     "start_time": "2025-07-30T13:20:59.561250",
     "status": "completed"
    },
    "tags": []
   },
   "outputs": [],
   "source": [
    "# do I need to include maxdeutsch1.missing?\n",
    "\n",
    "import numpy as np\n",
    "\n",
    "colname_to_bin = \"maxdeutsch1\"\n",
    "majority_value = org_train[colname_to_bin].mode()[0]\n",
    "\n",
    "org_test[\"majmin\"] = np.where(org_test[colname_to_bin] == majority_value, \"majority\", \"minority\")"
   ]
  },
  {
   "cell_type": "code",
   "execution_count": 73,
   "id": "06a50de5",
   "metadata": {
    "execution": {
     "iopub.execute_input": "2025-07-30T13:20:59.665014Z",
     "iopub.status.busy": "2025-07-30T13:20:59.664121Z",
     "iopub.status.idle": "2025-07-30T13:21:02.159635Z",
     "shell.execute_reply": "2025-07-30T13:21:02.158585Z"
    },
    "papermill": {
     "duration": 2.523454,
     "end_time": "2025-07-30T13:21:02.161322",
     "exception": false,
     "start_time": "2025-07-30T13:20:59.637868",
     "status": "completed"
    },
    "tags": []
   },
   "outputs": [],
   "source": [
    "example_universe = universe.copy()\n",
    "example_universe[\"cutoff\"] = example_universe[\"cutoff\"][0]\n",
    "example_universe[\"eval_fairness_grouping\"] = example_universe[\"eval_fairness_grouping\"][0]\n",
    "fairness_dict, metric_frame = universe_analysis.compute_metrics(\n",
    "    example_universe,\n",
    "    y_pred_prob=probs_test,\n",
    "    y_test=y_true,\n",
    "    org_test=org_test,\n",
    ")"
   ]
  },
  {
   "cell_type": "markdown",
   "id": "f95d4e02",
   "metadata": {
    "papermill": {
     "duration": 0.024316,
     "end_time": "2025-07-30T13:21:02.210950",
     "exception": false,
     "start_time": "2025-07-30T13:21:02.186634",
     "status": "completed"
    },
    "tags": []
   },
   "source": [
    "# Overall"
   ]
  },
  {
   "cell_type": "markdown",
   "id": "bdee4871",
   "metadata": {
    "papermill": {
     "duration": 0.024047,
     "end_time": "2025-07-30T13:21:02.259675",
     "exception": false,
     "start_time": "2025-07-30T13:21:02.235628",
     "status": "completed"
    },
    "tags": []
   },
   "source": [
    "Fairness\n",
    "Main fairness target: Equalized Odds. Seems to be a better fit than equal opportunity, since we're not only interested in Y = 1. Seems to be a better fit than demographic parity, since we also care about accuracy, not just equal distribution of preds.\n",
    "\n",
    "Pick column for computation of fairness metrics\n",
    "\n",
    "Performance\n",
    "Overall performance measures, most interesting in relation to the measures split by group below"
   ]
  },
  {
   "cell_type": "code",
   "execution_count": 74,
   "id": "c4e067c6",
   "metadata": {
    "execution": {
     "iopub.execute_input": "2025-07-30T13:21:02.310961Z",
     "iopub.status.busy": "2025-07-30T13:21:02.310061Z",
     "iopub.status.idle": "2025-07-30T13:21:02.318240Z",
     "shell.execute_reply": "2025-07-30T13:21:02.317345Z"
    },
    "papermill": {
     "duration": 0.035497,
     "end_time": "2025-07-30T13:21:02.319712",
     "exception": false,
     "start_time": "2025-07-30T13:21:02.284215",
     "status": "completed"
    },
    "tags": []
   },
   "outputs": [
    {
     "data": {
      "text/plain": [
       "accuracy                   0.220611\n",
       "balanced accuracy          0.540212\n",
       "f1                         0.242046\n",
       "precision                  0.138273\n",
       "false positive rate        0.889683\n",
       "false negative rate        0.029892\n",
       "selection rate             0.900000\n",
       "count                  89710.000000\n",
       "dtype: float64"
      ]
     },
     "execution_count": 74,
     "metadata": {},
     "output_type": "execute_result"
    }
   ],
   "source": [
    "metric_frame.overall"
   ]
  },
  {
   "cell_type": "markdown",
   "id": "e968fe9d",
   "metadata": {
    "papermill": {
     "duration": 0.024689,
     "end_time": "2025-07-30T13:21:02.370118",
     "exception": false,
     "start_time": "2025-07-30T13:21:02.345429",
     "status": "completed"
    },
    "tags": []
   },
   "source": [
    "By Group"
   ]
  },
  {
   "cell_type": "code",
   "execution_count": 75,
   "id": "ec325bce",
   "metadata": {
    "execution": {
     "iopub.execute_input": "2025-07-30T13:21:02.421196Z",
     "iopub.status.busy": "2025-07-30T13:21:02.420751Z",
     "iopub.status.idle": "2025-07-30T13:21:02.435477Z",
     "shell.execute_reply": "2025-07-30T13:21:02.434586Z"
    },
    "papermill": {
     "duration": 0.042161,
     "end_time": "2025-07-30T13:21:02.436926",
     "exception": false,
     "start_time": "2025-07-30T13:21:02.394765",
     "status": "completed"
    },
    "tags": []
   },
   "outputs": [
    {
     "data": {
      "text/html": [
       "<div>\n",
       "<style scoped>\n",
       "    .dataframe tbody tr th:only-of-type {\n",
       "        vertical-align: middle;\n",
       "    }\n",
       "\n",
       "    .dataframe tbody tr th {\n",
       "        vertical-align: top;\n",
       "    }\n",
       "\n",
       "    .dataframe thead th {\n",
       "        text-align: right;\n",
       "    }\n",
       "</style>\n",
       "<table border=\"1\" class=\"dataframe\">\n",
       "  <thead>\n",
       "    <tr style=\"text-align: right;\">\n",
       "      <th></th>\n",
       "      <th>accuracy</th>\n",
       "      <th>balanced accuracy</th>\n",
       "      <th>f1</th>\n",
       "      <th>precision</th>\n",
       "      <th>false positive rate</th>\n",
       "      <th>false negative rate</th>\n",
       "      <th>selection rate</th>\n",
       "      <th>count</th>\n",
       "    </tr>\n",
       "    <tr>\n",
       "      <th>majmin</th>\n",
       "      <th></th>\n",
       "      <th></th>\n",
       "      <th></th>\n",
       "      <th></th>\n",
       "      <th></th>\n",
       "      <th></th>\n",
       "      <th></th>\n",
       "      <th></th>\n",
       "    </tr>\n",
       "  </thead>\n",
       "  <tbody>\n",
       "    <tr>\n",
       "      <th>majority</th>\n",
       "      <td>0.242258</td>\n",
       "      <td>0.549252</td>\n",
       "      <td>0.252108</td>\n",
       "      <td>0.144960</td>\n",
       "      <td>0.868016</td>\n",
       "      <td>0.033479</td>\n",
       "      <td>0.881032</td>\n",
       "      <td>69170.0</td>\n",
       "    </tr>\n",
       "    <tr>\n",
       "      <th>minority</th>\n",
       "      <td>0.147712</td>\n",
       "      <td>0.511347</td>\n",
       "      <td>0.210232</td>\n",
       "      <td>0.117689</td>\n",
       "      <td>0.961259</td>\n",
       "      <td>0.016047</td>\n",
       "      <td>0.963875</td>\n",
       "      <td>20540.0</td>\n",
       "    </tr>\n",
       "  </tbody>\n",
       "</table>\n",
       "</div>"
      ],
      "text/plain": [
       "          accuracy  balanced accuracy        f1  precision  \\\n",
       "majmin                                                       \n",
       "majority  0.242258           0.549252  0.252108   0.144960   \n",
       "minority  0.147712           0.511347  0.210232   0.117689   \n",
       "\n",
       "          false positive rate  false negative rate  selection rate    count  \n",
       "majmin                                                                       \n",
       "majority             0.868016             0.033479        0.881032  69170.0  \n",
       "minority             0.961259             0.016047        0.963875  20540.0  "
      ]
     },
     "execution_count": 75,
     "metadata": {},
     "output_type": "execute_result"
    }
   ],
   "source": [
    "metric_frame.by_group"
   ]
  },
  {
   "cell_type": "code",
   "execution_count": 76,
   "id": "a9ddbe63",
   "metadata": {
    "execution": {
     "iopub.execute_input": "2025-07-30T13:21:02.490628Z",
     "iopub.status.busy": "2025-07-30T13:21:02.489744Z",
     "iopub.status.idle": "2025-07-30T13:21:04.796046Z",
     "shell.execute_reply": "2025-07-30T13:21:04.795182Z"
    },
    "papermill": {
     "duration": 2.334133,
     "end_time": "2025-07-30T13:21:04.797607",
     "exception": false,
     "start_time": "2025-07-30T13:21:02.463474",
     "status": "completed"
    },
    "tags": []
   },
   "outputs": [
    {
     "data": {
      "text/plain": [
       "array([[<Axes: title={'center': 'accuracy'}, xlabel='majmin'>,\n",
       "        <Axes: title={'center': 'balanced accuracy'}, xlabel='majmin'>,\n",
       "        <Axes: title={'center': 'f1'}, xlabel='majmin'>],\n",
       "       [<Axes: title={'center': 'precision'}, xlabel='majmin'>,\n",
       "        <Axes: title={'center': 'false positive rate'}, xlabel='majmin'>,\n",
       "        <Axes: title={'center': 'false negative rate'}, xlabel='majmin'>],\n",
       "       [<Axes: title={'center': 'selection rate'}, xlabel='majmin'>,\n",
       "        <Axes: title={'center': 'count'}, xlabel='majmin'>,\n",
       "        <Axes: xlabel='majmin'>]], dtype=object)"
      ]
     },
     "execution_count": 76,
     "metadata": {},
     "output_type": "execute_result"
    },
    {
     "data": {
      "image/png": "[encoded data removed]",
      "text/plain": [
       "<Figure size 1200x800 with 9 Axes>"
      ]
     },
     "metadata": {},
     "output_type": "display_data"
    }
   ],
   "source": [
    "# In a graphic\n",
    "metric_frame.by_group.plot.bar(\n",
    "    subplots=True,\n",
    "    layout=[3, 3],\n",
    "    legend=False,\n",
    "    figsize=[12, 8],\n",
    "    title=\"Show all metrics\",\n",
    ")"
   ]
  },
  {
   "cell_type": "markdown",
   "id": "f57a0bac",
   "metadata": {
    "papermill": {
     "duration": 0.027664,
     "end_time": "2025-07-30T13:21:04.854957",
     "exception": false,
     "start_time": "2025-07-30T13:21:04.827293",
     "status": "completed"
    },
    "tags": []
   },
   "source": [
    "# Final Output"
   ]
  },
  {
   "cell_type": "code",
   "execution_count": 77,
   "id": "96d280a3",
   "metadata": {
    "execution": {
     "iopub.execute_input": "2025-07-30T13:21:04.911830Z",
     "iopub.status.busy": "2025-07-30T13:21:04.911229Z",
     "iopub.status.idle": "2025-07-30T13:21:04.919891Z",
     "shell.execute_reply": "2025-07-30T13:21:04.918824Z"
    },
    "papermill": {
     "duration": 0.03879,
     "end_time": "2025-07-30T13:21:04.921529",
     "exception": false,
     "start_time": "2025-07-30T13:21:04.882739",
     "status": "completed"
    },
    "tags": []
   },
   "outputs": [
    {
     "data": {
      "text/plain": [
       "4"
      ]
     },
     "execution_count": 77,
     "metadata": {},
     "output_type": "execute_result"
    }
   ],
   "source": [
    "sub_universes = universe_analysis.generate_sub_universes()\n",
    "len(sub_universes)"
   ]
  },
  {
   "cell_type": "code",
   "execution_count": 78,
   "id": "92adf7ba",
   "metadata": {
    "execution": {
     "iopub.execute_input": "2025-07-30T13:21:04.977168Z",
     "iopub.status.busy": "2025-07-30T13:21:04.976466Z",
     "iopub.status.idle": "2025-07-30T13:21:04.982617Z",
     "shell.execute_reply": "2025-07-30T13:21:04.981714Z"
    },
    "papermill": {
     "duration": 0.035092,
     "end_time": "2025-07-30T13:21:04.984159",
     "exception": false,
     "start_time": "2025-07-30T13:21:04.949067",
     "status": "completed"
    },
    "tags": []
   },
   "outputs": [],
   "source": [
    "def filter_sub_universe_data(sub_universe, org_test):\n",
    "    # Keep all rows — no filtering\n",
    "    keep_rows_mask = np.ones(org_test.shape[0], dtype=bool)\n",
    "\n",
    "    print(f\"[INFO] Keeping all rows: {keep_rows_mask.sum()} rows retained.\")\n",
    "    return keep_rows_mask"
   ]
  },
  {
   "cell_type": "code",
   "execution_count": 79,
   "id": "4a759155",
   "metadata": {
    "execution": {
     "iopub.execute_input": "2025-07-30T13:21:05.040389Z",
     "iopub.status.busy": "2025-07-30T13:21:05.039489Z",
     "iopub.status.idle": "2025-07-30T13:21:15.822502Z",
     "shell.execute_reply": "2025-07-30T13:21:15.821587Z"
    },
    "papermill": {
     "duration": 10.812571,
     "end_time": "2025-07-30T13:21:15.824274",
     "exception": false,
     "start_time": "2025-07-30T13:21:05.011703",
     "status": "completed"
    },
    "tags": []
   },
   "outputs": [
    {
     "name": "stdout",
     "output_type": "stream",
     "text": [
      "Stopping execution_time clock.\n",
      "[INFO] Keeping all rows: 89710 rows retained.\n"
     ]
    },
    {
     "name": "stdout",
     "output_type": "stream",
     "text": [
      "[INFO] Keeping all rows: 89710 rows retained.\n"
     ]
    },
    {
     "name": "stdout",
     "output_type": "stream",
     "text": [
      "[INFO] Keeping all rows: 89710 rows retained.\n"
     ]
    },
    {
     "name": "stdout",
     "output_type": "stream",
     "text": [
      "[INFO] Keeping all rows: 89710 rows retained.\n"
     ]
    },
    {
     "data": {
      "text/html": [
       "<div>\n",
       "<style scoped>\n",
       "    .dataframe tbody tr th:only-of-type {\n",
       "        vertical-align: middle;\n",
       "    }\n",
       "\n",
       "    .dataframe tbody tr th {\n",
       "        vertical-align: top;\n",
       "    }\n",
       "\n",
       "    .dataframe thead th {\n",
       "        text-align: right;\n",
       "    }\n",
       "</style>\n",
       "<table border=\"1\" class=\"dataframe\">\n",
       "  <thead>\n",
       "    <tr style=\"text-align: right;\">\n",
       "      <th></th>\n",
       "      <th>run_no</th>\n",
       "      <th>universe_id</th>\n",
       "      <th>universe_settings</th>\n",
       "      <th>execution_time</th>\n",
       "      <th>test_size_n</th>\n",
       "      <th>test_size_frac</th>\n",
       "      <th>fair_main_equalized_odds_difference</th>\n",
       "      <th>fair_main_equalized_odds_ratio</th>\n",
       "      <th>fair_main_demographic_parity_difference</th>\n",
       "      <th>fair_main_demographic_parity_ratio</th>\n",
       "      <th>...</th>\n",
       "      <th>perf_grp_precision_0</th>\n",
       "      <th>perf_grp_precision_1</th>\n",
       "      <th>perf_grp_false positive rate_0</th>\n",
       "      <th>perf_grp_false positive rate_1</th>\n",
       "      <th>perf_grp_false negative rate_0</th>\n",
       "      <th>perf_grp_false negative rate_1</th>\n",
       "      <th>perf_grp_selection rate_0</th>\n",
       "      <th>perf_grp_selection rate_1</th>\n",
       "      <th>perf_grp_count_0</th>\n",
       "      <th>perf_grp_count_1</th>\n",
       "    </tr>\n",
       "  </thead>\n",
       "  <tbody>\n",
       "    <tr>\n",
       "      <th>0</th>\n",
       "      <td>12</td>\n",
       "      <td>58185741d518038c94004f9c390baeec</td>\n",
       "      <td>{\"cutoff\": \"quantile_0.1\", \"eval_fairness_grou...</td>\n",
       "      <td>227.501787</td>\n",
       "      <td>89710</td>\n",
       "      <td>1.0</td>\n",
       "      <td>0.093243</td>\n",
       "      <td>0.902999</td>\n",
       "      <td>0.082843</td>\n",
       "      <td>0.914052</td>\n",
       "      <td>...</td>\n",
       "      <td>NaN</td>\n",
       "      <td>NaN</td>\n",
       "      <td>NaN</td>\n",
       "      <td>NaN</td>\n",
       "      <td>NaN</td>\n",
       "      <td>NaN</td>\n",
       "      <td>NaN</td>\n",
       "      <td>NaN</td>\n",
       "      <td>NaN</td>\n",
       "      <td>NaN</td>\n",
       "    </tr>\n",
       "    <tr>\n",
       "      <th>0</th>\n",
       "      <td>12</td>\n",
       "      <td>58185741d518038c94004f9c390baeec</td>\n",
       "      <td>{\"cutoff\": \"quantile_0.1\", \"eval_fairness_grou...</td>\n",
       "      <td>227.501787</td>\n",
       "      <td>89710</td>\n",
       "      <td>1.0</td>\n",
       "      <td>0.093243</td>\n",
       "      <td>0.902999</td>\n",
       "      <td>0.082843</td>\n",
       "      <td>0.914052</td>\n",
       "      <td>...</td>\n",
       "      <td>0.117689</td>\n",
       "      <td>0.144960</td>\n",
       "      <td>0.961259</td>\n",
       "      <td>0.868016</td>\n",
       "      <td>0.016047</td>\n",
       "      <td>0.033479</td>\n",
       "      <td>0.963875</td>\n",
       "      <td>0.881032</td>\n",
       "      <td>20540.0</td>\n",
       "      <td>69170.0</td>\n",
       "    </tr>\n",
       "    <tr>\n",
       "      <th>0</th>\n",
       "      <td>12</td>\n",
       "      <td>58185741d518038c94004f9c390baeec</td>\n",
       "      <td>{\"cutoff\": \"quantile_0.25\", \"eval_fairness_gro...</td>\n",
       "      <td>227.501787</td>\n",
       "      <td>89710</td>\n",
       "      <td>1.0</td>\n",
       "      <td>0.197748</td>\n",
       "      <td>0.774985</td>\n",
       "      <td>0.174533</td>\n",
       "      <td>0.802690</td>\n",
       "      <td>...</td>\n",
       "      <td>NaN</td>\n",
       "      <td>NaN</td>\n",
       "      <td>NaN</td>\n",
       "      <td>NaN</td>\n",
       "      <td>NaN</td>\n",
       "      <td>NaN</td>\n",
       "      <td>NaN</td>\n",
       "      <td>NaN</td>\n",
       "      <td>NaN</td>\n",
       "      <td>NaN</td>\n",
       "    </tr>\n",
       "    <tr>\n",
       "      <th>0</th>\n",
       "      <td>12</td>\n",
       "      <td>58185741d518038c94004f9c390baeec</td>\n",
       "      <td>{\"cutoff\": \"quantile_0.25\", \"eval_fairness_gro...</td>\n",
       "      <td>227.501787</td>\n",
       "      <td>89710</td>\n",
       "      <td>1.0</td>\n",
       "      <td>0.197748</td>\n",
       "      <td>0.774985</td>\n",
       "      <td>0.174533</td>\n",
       "      <td>0.802690</td>\n",
       "      <td>...</td>\n",
       "      <td>0.121030</td>\n",
       "      <td>0.167532</td>\n",
       "      <td>0.878825</td>\n",
       "      <td>0.681076</td>\n",
       "      <td>0.071368</td>\n",
       "      <td>0.099781</td>\n",
       "      <td>0.884567</td>\n",
       "      <td>0.710033</td>\n",
       "      <td>20540.0</td>\n",
       "      <td>69170.0</td>\n",
       "    </tr>\n",
       "  </tbody>\n",
       "</table>\n",
       "<p>4 rows × 50 columns</p>\n",
       "</div>"
      ],
      "text/plain": [
       "  run_no                       universe_id  \\\n",
       "0     12  58185741d518038c94004f9c390baeec   \n",
       "0     12  58185741d518038c94004f9c390baeec   \n",
       "0     12  58185741d518038c94004f9c390baeec   \n",
       "0     12  58185741d518038c94004f9c390baeec   \n",
       "\n",
       "                                   universe_settings  execution_time  \\\n",
       "0  {\"cutoff\": \"quantile_0.1\", \"eval_fairness_grou...      227.501787   \n",
       "0  {\"cutoff\": \"quantile_0.1\", \"eval_fairness_grou...      227.501787   \n",
       "0  {\"cutoff\": \"quantile_0.25\", \"eval_fairness_gro...      227.501787   \n",
       "0  {\"cutoff\": \"quantile_0.25\", \"eval_fairness_gro...      227.501787   \n",
       "\n",
       "   test_size_n  test_size_frac  fair_main_equalized_odds_difference  \\\n",
       "0        89710             1.0                             0.093243   \n",
       "0        89710             1.0                             0.093243   \n",
       "0        89710             1.0                             0.197748   \n",
       "0        89710             1.0                             0.197748   \n",
       "\n",
       "   fair_main_equalized_odds_ratio  fair_main_demographic_parity_difference  \\\n",
       "0                        0.902999                                 0.082843   \n",
       "0                        0.902999                                 0.082843   \n",
       "0                        0.774985                                 0.174533   \n",
       "0                        0.774985                                 0.174533   \n",
       "\n",
       "   fair_main_demographic_parity_ratio  ...  perf_grp_precision_0  \\\n",
       "0                            0.914052  ...                   NaN   \n",
       "0                            0.914052  ...              0.117689   \n",
       "0                            0.802690  ...                   NaN   \n",
       "0                            0.802690  ...              0.121030   \n",
       "\n",
       "   perf_grp_precision_1  perf_grp_false positive rate_0  \\\n",
       "0                   NaN                             NaN   \n",
       "0              0.144960                        0.961259   \n",
       "0                   NaN                             NaN   \n",
       "0              0.167532                        0.878825   \n",
       "\n",
       "   perf_grp_false positive rate_1  perf_grp_false negative rate_0  \\\n",
       "0                             NaN                             NaN   \n",
       "0                        0.868016                        0.016047   \n",
       "0                             NaN                             NaN   \n",
       "0                        0.681076                        0.071368   \n",
       "\n",
       "   perf_grp_false negative rate_1  perf_grp_selection rate_0  \\\n",
       "0                             NaN                        NaN   \n",
       "0                        0.033479                   0.963875   \n",
       "0                             NaN                        NaN   \n",
       "0                        0.099781                   0.884567   \n",
       "\n",
       "   perf_grp_selection rate_1  perf_grp_count_0  perf_grp_count_1  \n",
       "0                        NaN               NaN               NaN  \n",
       "0                   0.881032           20540.0           69170.0  \n",
       "0                        NaN               NaN               NaN  \n",
       "0                   0.710033           20540.0           69170.0  \n",
       "\n",
       "[4 rows x 50 columns]"
      ]
     },
     "execution_count": 79,
     "metadata": {},
     "output_type": "execute_result"
    }
   ],
   "source": [
    "final_output = universe_analysis.generate_final_output(\n",
    "    y_pred_prob=probs_test,\n",
    "    y_test=y_true,\n",
    "    org_test=org_test,\n",
    "    filter_data=filter_sub_universe_data,\n",
    "    cp_metrics_df=cp_metrics_df,\n",
    "    save=True,\n",
    ")\n",
    "final_output"
   ]
  },
  {
   "cell_type": "code",
   "execution_count": null,
   "id": "721ff514-cb11-46f8-b6fc-50392f74b5cb",
   "metadata": {
    "papermill": {
     "duration": 0.028904,
     "end_time": "2025-07-30T13:21:15.885744",
     "exception": false,
     "start_time": "2025-07-30T13:21:15.856840",
     "status": "completed"
    },
    "tags": []
   },
   "outputs": [],
   "source": []
  }
 ],
 "metadata": {
  "celltoolbar": "Tags",
  "kernelspec": {
   "display_name": "Python (CMA Fairness)",
   "language": "python",
   "name": "cma_fair_env"
  },
  "language_info": {
   "codemirror_mode": {
    "name": "ipython",
    "version": 3
   },
   "file_extension": ".py",
   "mimetype": "text/x-python",
   "name": "python",
   "nbconvert_exporter": "python",
   "pygments_lexer": "ipython3",
   "version": "3.10.12"
  },
  "papermill": {
   "default_parameters": {},
   "duration": 242.511302,
   "end_time": "2025-07-30T13:21:16.633652",
   "environment_variables": {},
   "exception": null,
   "input_path": "universe_analysis.ipynb",
   "output_path": "output/runs/12/notebooks/m_12-58185741d518038c94004f9c390baeec.ipynb",
   "parameters": {
    "output_dir": "output",
    "run_no": "12",
    "seed": "2023",
    "universe": "{\"cutoff\": [\"quantile_0.1\", \"quantile_0.25\"], \"eval_fairness_grouping\": [\"majority-minority\", \"nationality-all\"], \"exclude_features\": \"nationality-sex\", \"exclude_subgroups\": \"keep-all\", \"model\": \"elasticnet\", \"scale\": \"do-not-scale\", \"training_size\": \"25k\", \"training_year\": \"2012_14\"}",
    "universe_id": "58185741d518038c94004f9c390baeec"
   },
   "start_time": "2025-07-30T13:17:14.122350",
   "version": "2.6.0"
  }
 },
 "nbformat": 4,
 "nbformat_minor": 5
}