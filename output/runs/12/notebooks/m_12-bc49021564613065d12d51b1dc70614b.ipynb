{
 "cells": [
  {
   "cell_type": "code",
   "execution_count": 1,
   "id": "f159f837-637b-42ba-96b5-ec9a68c44524",
   "metadata": {
    "execution": {
     "iopub.execute_input": "2025-07-30T14:20:54.802595Z",
     "iopub.status.busy": "2025-07-30T14:20:54.802191Z",
     "iopub.status.idle": "2025-07-30T14:20:54.827411Z",
     "shell.execute_reply": "2025-07-30T14:20:54.820895Z"
    },
    "papermill": {
     "duration": 0.068943,
     "end_time": "2025-07-30T14:20:54.829300",
     "exception": false,
     "start_time": "2025-07-30T14:20:54.760357",
     "status": "completed"
    },
    "tags": []
   },
   "outputs": [
    {
     "name": "stdout",
     "output_type": "stream",
     "text": [
      "/dss/dsshome1/0C/ra93lal2/cma/CMA_Fairness_v2\n"
     ]
    },
    {
     "name": "stderr",
     "output_type": "stream",
     "text": [
      "/dss/dsshome1/0C/ra93lal2/.local/share/virtualenvs/CMA_Fairness_v2-3j10GkSs/lib/python3.10/site-packages/IPython/core/magics/osm.py:393: UserWarning: This is now an optional IPython functionality, using bookmarks requires you to install the `pickleshare` library.\n",
      "  bkms = self.shell.db.get('bookmarks', {})\n",
      "/dss/dsshome1/0C/ra93lal2/.local/share/virtualenvs/CMA_Fairness_v2-3j10GkSs/lib/python3.10/site-packages/IPython/core/magics/osm.py:417: UserWarning: This is now an optional IPython functionality, setting dhist requires you to install the `pickleshare` library.\n",
      "  self.shell.db['dhist'] = compress_dhist(dhist)[-100:]\n"
     ]
    }
   ],
   "source": [
    "%cd ~/cma/CMA_Fairness_v2"
   ]
  },
  {
   "cell_type": "markdown",
   "id": "de2603b9",
   "metadata": {
    "papermill": {
     "duration": 0.017284,
     "end_time": "2025-07-30T14:20:54.869991",
     "exception": false,
     "start_time": "2025-07-30T14:20:54.852707",
     "status": "completed"
    },
    "tags": []
   },
   "source": [
    "The following cell holds the definition of our parameters, these values can be overriden by rendering the with e.g. the following command:\n",
    "\n",
    "papermill -p alpha 0.2 -p ratio 0.3 universe_analysis.ipynb output/test_run.ipynb"
   ]
  },
  {
   "cell_type": "code",
   "execution_count": 2,
   "id": "a80968a0-40bb-4fa9-85ef-2d5eefb01975",
   "metadata": {
    "execution": {
     "iopub.execute_input": "2025-07-30T14:20:54.918810Z",
     "iopub.status.busy": "2025-07-30T14:20:54.918347Z",
     "iopub.status.idle": "2025-07-30T14:20:54.924240Z",
     "shell.execute_reply": "2025-07-30T14:20:54.923278Z"
    },
    "papermill": {
     "duration": 0.033692,
     "end_time": "2025-07-30T14:20:54.926521",
     "exception": false,
     "start_time": "2025-07-30T14:20:54.892829",
     "status": "completed"
    },
    "tags": []
   },
   "outputs": [
    {
     "name": "stdout",
     "output_type": "stream",
     "text": [
      "Current working directory: /dss/dsshome1/0C/ra93lal2/cma/CMA_Fairness_v2\n"
     ]
    }
   ],
   "source": [
    "import os\n",
    "print(\"Current working directory:\", os.getcwd())"
   ]
  },
  {
   "cell_type": "code",
   "execution_count": 3,
   "id": "2dce4c03",
   "metadata": {
    "execution": {
     "iopub.execute_input": "2025-07-30T14:20:54.975042Z",
     "iopub.status.busy": "2025-07-30T14:20:54.974564Z",
     "iopub.status.idle": "2025-07-30T14:20:54.982091Z",
     "shell.execute_reply": "2025-07-30T14:20:54.980991Z"
    },
    "papermill": {
     "duration": 0.032165,
     "end_time": "2025-07-30T14:20:54.985002",
     "exception": false,
     "start_time": "2025-07-30T14:20:54.952837",
     "status": "completed"
    },
    "tags": [
     "parameters"
    ]
   },
   "outputs": [],
   "source": [
    "run_no = 0\n",
    "universe_id = \"test\"\n",
    "universe = {\n",
    "    \"training_size\": \"25k\", # \"25k\", \"5k\", \"1k\"\n",
    "    \"training_year\": \"2014\", # \"2014\", \"2012_14\", \"2010_14\"\n",
    "    \"scale\": \"scale\", # \"scale\", \"do-not-scale\",\n",
    "    #\"stratify_split\": \"target\", # \"none\", \"target\", \"protected-attribute\", \"both\",\n",
    "    \"model\": \"elasticnet\", # \"logreg\", \"penalized_logreg\", \"rf\", \"gbm\", \"elasticnet\"\n",
    "    \"cutoff\": [\"quantile_0.15\", \"quantile_0.30\"],\n",
    "    \"exclude_features\": \"age\", # \"none\", \"nationality\", \"sex\", \"nationality-sex\", \"age\"\n",
    "    \"exclude_subgroups\": \"keep-all\", # \"keep-all\", \"drop-non-german\"\n",
    "    \"eval_fairness_grouping\": [\"majority-minority\", \"nationality-all\"]\n",
    "}\n",
    "\n",
    "output_dir=\"./output\"\n",
    "seed=0"
   ]
  },
  {
   "cell_type": "code",
   "execution_count": 4,
   "id": "0b150f8d",
   "metadata": {
    "execution": {
     "iopub.execute_input": "2025-07-30T14:20:55.037418Z",
     "iopub.status.busy": "2025-07-30T14:20:55.036910Z",
     "iopub.status.idle": "2025-07-30T14:20:55.043700Z",
     "shell.execute_reply": "2025-07-30T14:20:55.042327Z"
    },
    "papermill": {
     "duration": 0.036695,
     "end_time": "2025-07-30T14:20:55.047528",
     "exception": false,
     "start_time": "2025-07-30T14:20:55.010833",
     "status": "completed"
    },
    "tags": [
     "injected-parameters"
    ]
   },
   "outputs": [],
   "source": [
    "# Parameters\n",
    "universe_id = \"bc49021564613065d12d51b1dc70614b\"\n",
    "run_no = \"12\"\n",
    "universe = \"{\\\"cutoff\\\": [\\\"quantile_0.1\\\", \\\"quantile_0.25\\\"], \\\"eval_fairness_grouping\\\": [\\\"majority-minority\\\", \\\"nationality-all\\\"], \\\"exclude_features\\\": \\\"nationality\\\", \\\"exclude_subgroups\\\": \\\"drop-non-german\\\", \\\"model\\\": \\\"rf\\\", \\\"scale\\\": \\\"scale\\\", \\\"training_size\\\": \\\"1k\\\", \\\"training_year\\\": \\\"2014\\\"}\"\n",
    "output_dir = \"output\"\n",
    "seed = \"2023\"\n"
   ]
  },
  {
   "cell_type": "code",
   "execution_count": 5,
   "id": "1650acaf",
   "metadata": {
    "execution": {
     "iopub.execute_input": "2025-07-30T14:20:55.119816Z",
     "iopub.status.busy": "2025-07-30T14:20:55.119344Z",
     "iopub.status.idle": "2025-07-30T14:20:55.125792Z",
     "shell.execute_reply": "2025-07-30T14:20:55.124481Z"
    },
    "papermill": {
     "duration": 0.038225,
     "end_time": "2025-07-30T14:20:55.129800",
     "exception": false,
     "start_time": "2025-07-30T14:20:55.091575",
     "status": "completed"
    },
    "tags": []
   },
   "outputs": [],
   "source": [
    "import json\n",
    "# Parse universe into dict if it is passed as a string\n",
    "if isinstance(universe, str):\n",
    "    universe = json.loads(universe)"
   ]
  },
  {
   "cell_type": "code",
   "execution_count": 6,
   "id": "16620c48",
   "metadata": {
    "execution": {
     "iopub.execute_input": "2025-07-30T14:20:55.184724Z",
     "iopub.status.busy": "2025-07-30T14:20:55.184200Z",
     "iopub.status.idle": "2025-07-30T14:20:55.240540Z",
     "shell.execute_reply": "2025-07-30T14:20:55.239193Z"
    },
    "papermill": {
     "duration": 0.086408,
     "end_time": "2025-07-30T14:20:55.243403",
     "exception": false,
     "start_time": "2025-07-30T14:20:55.156995",
     "status": "completed"
    },
    "tags": []
   },
   "outputs": [],
   "source": [
    "# Auto-reload the custom package\n",
    "%load_ext autoreload\n",
    "%autoreload 1\n",
    "%aimport fairness_multiverse"
   ]
  },
  {
   "cell_type": "code",
   "execution_count": 7,
   "id": "01c5c9f3",
   "metadata": {
    "execution": {
     "iopub.execute_input": "2025-07-30T14:20:55.306077Z",
     "iopub.status.busy": "2025-07-30T14:20:55.305549Z",
     "iopub.status.idle": "2025-07-30T14:20:57.308795Z",
     "shell.execute_reply": "2025-07-30T14:20:57.307804Z"
    },
    "papermill": {
     "duration": 2.036804,
     "end_time": "2025-07-30T14:20:57.310733",
     "exception": false,
     "start_time": "2025-07-30T14:20:55.273929",
     "status": "completed"
    },
    "tags": []
   },
   "outputs": [],
   "source": [
    "from fairness_multiverse.universe import UniverseAnalysis\n",
    "\n",
    "universe_analysis = UniverseAnalysis(\n",
    "    run_no = run_no,\n",
    "    universe_id = universe_id,\n",
    "    universe = universe,\n",
    "    output_dir=output_dir,\n",
    ")"
   ]
  },
  {
   "cell_type": "code",
   "execution_count": 8,
   "id": "106241f5",
   "metadata": {
    "execution": {
     "iopub.execute_input": "2025-07-30T14:20:57.354803Z",
     "iopub.status.busy": "2025-07-30T14:20:57.354293Z",
     "iopub.status.idle": "2025-07-30T14:20:57.360986Z",
     "shell.execute_reply": "2025-07-30T14:20:57.359697Z"
    },
    "papermill": {
     "duration": 0.030367,
     "end_time": "2025-07-30T14:20:57.362737",
     "exception": false,
     "start_time": "2025-07-30T14:20:57.332370",
     "status": "completed"
    },
    "tags": []
   },
   "outputs": [
    {
     "name": "stdout",
     "output_type": "stream",
     "text": [
      "Using Seed: 2023\n"
     ]
    }
   ],
   "source": [
    "import numpy as np\n",
    "parsed_seed = int(seed)\n",
    "np.random.seed(parsed_seed)\n",
    "print(f\"Using Seed: {parsed_seed}\")"
   ]
  },
  {
   "cell_type": "markdown",
   "id": "e0ebdc57",
   "metadata": {
    "papermill": {
     "duration": 0.020947,
     "end_time": "2025-07-30T14:20:57.404442",
     "exception": false,
     "start_time": "2025-07-30T14:20:57.383495",
     "status": "completed"
    },
    "tags": []
   },
   "source": [
    "# Loading Data"
   ]
  },
  {
   "cell_type": "markdown",
   "id": "681925a3",
   "metadata": {
    "papermill": {
     "duration": 0.020186,
     "end_time": "2025-07-30T14:20:57.445659",
     "exception": false,
     "start_time": "2025-07-30T14:20:57.425473",
     "status": "completed"
    },
    "tags": []
   },
   "source": [
    "Load siab_train, siab_test, siab_calib and/or \n",
    "load siab_train_features, siab_train_labels"
   ]
  },
  {
   "cell_type": "code",
   "execution_count": 9,
   "id": "f0496b8a",
   "metadata": {
    "execution": {
     "iopub.execute_input": "2025-07-30T14:20:57.489225Z",
     "iopub.status.busy": "2025-07-30T14:20:57.488728Z",
     "iopub.status.idle": "2025-07-30T14:21:09.589578Z",
     "shell.execute_reply": "2025-07-30T14:21:09.588637Z"
    },
    "papermill": {
     "duration": 12.124914,
     "end_time": "2025-07-30T14:21:09.591207",
     "exception": false,
     "start_time": "2025-07-30T14:20:57.466293",
     "status": "completed"
    },
    "tags": []
   },
   "outputs": [
    {
     "name": "stdout",
     "output_type": "stream",
     "text": [
      "Loading SIAB data from cache: data/siab_cached.csv.gz\n"
     ]
    },
    {
     "name": "stdout",
     "output_type": "stream",
     "text": [
      "(643690, 164)\n"
     ]
    }
   ],
   "source": [
    "from pathlib import Path\n",
    "import pandas as pd\n",
    "\n",
    "# File paths\n",
    "raw_file = Path(\"data/raw/siab.csv\")\n",
    "cache_file = Path(\"data/siab_cached.csv.gz\")\n",
    "\n",
    "# Ensure cache directory exists\n",
    "cache_file.parent.mkdir(parents=True, exist_ok=True)\n",
    "\n",
    "# Load with simple caching\n",
    "if cache_file.exists():\n",
    "    print(f\"Loading SIAB data from cache: {cache_file}\")\n",
    "    siab = pd.read_csv(cache_file, compression='gzip')\n",
    "else:\n",
    "    print(f\"Cache not found. Reading raw SIAB data: {raw_file}\")\n",
    "    siab = pd.read_csv(raw_file)\n",
    "    siab.to_csv(cache_file, index=False, compression='gzip')\n",
    "    print(f\"Cached SIAB data to: {cache_file}\")\n",
    "\n",
    "# Now use `siab` DataFrame as needed\n",
    "print(siab.shape)"
   ]
  },
  {
   "cell_type": "code",
   "execution_count": 10,
   "id": "db0ca512-5f53-4dba-abdb-a2888bca41ba",
   "metadata": {
    "execution": {
     "iopub.execute_input": "2025-07-30T14:21:09.638096Z",
     "iopub.status.busy": "2025-07-30T14:21:09.637852Z",
     "iopub.status.idle": "2025-07-30T14:21:09.642375Z",
     "shell.execute_reply": "2025-07-30T14:21:09.641432Z"
    },
    "papermill": {
     "duration": 0.027631,
     "end_time": "2025-07-30T14:21:09.643670",
     "exception": false,
     "start_time": "2025-07-30T14:21:09.616039",
     "status": "completed"
    },
    "tags": []
   },
   "outputs": [],
   "source": [
    "#siab"
   ]
  },
  {
   "cell_type": "code",
   "execution_count": 11,
   "id": "a0edb063",
   "metadata": {
    "execution": {
     "iopub.execute_input": "2025-07-30T14:21:09.666543Z",
     "iopub.status.busy": "2025-07-30T14:21:09.666213Z",
     "iopub.status.idle": "2025-07-30T14:21:09.670182Z",
     "shell.execute_reply": "2025-07-30T14:21:09.669522Z"
    },
    "papermill": {
     "duration": 0.016236,
     "end_time": "2025-07-30T14:21:09.671301",
     "exception": false,
     "start_time": "2025-07-30T14:21:09.655065",
     "status": "completed"
    },
    "tags": []
   },
   "outputs": [],
   "source": [
    "#import pandas as pd\n",
    "#\n",
    "#X_train = pd.read_csv(\"./data/X_train.csv\")\n",
    "#y_train = pd.read_csv(\"./data/y_train.csv\")"
   ]
  },
  {
   "cell_type": "code",
   "execution_count": 12,
   "id": "63d08085",
   "metadata": {
    "execution": {
     "iopub.execute_input": "2025-07-30T14:21:09.693670Z",
     "iopub.status.busy": "2025-07-30T14:21:09.693304Z",
     "iopub.status.idle": "2025-07-30T14:21:09.697125Z",
     "shell.execute_reply": "2025-07-30T14:21:09.696442Z"
    },
    "papermill": {
     "duration": 0.015893,
     "end_time": "2025-07-30T14:21:09.698385",
     "exception": false,
     "start_time": "2025-07-30T14:21:09.682492",
     "status": "completed"
    },
    "tags": []
   },
   "outputs": [],
   "source": [
    "#X_test = pd.read_csv(\"./data/X_test.csv\")\n",
    "#y_true = pd.read_csv(\"./data/y_test.csv\")"
   ]
  },
  {
   "cell_type": "code",
   "execution_count": 13,
   "id": "98a8d0fa-1d3d-4ed8-bb2c-281470e24add",
   "metadata": {
    "execution": {
     "iopub.execute_input": "2025-07-30T14:21:09.720382Z",
     "iopub.status.busy": "2025-07-30T14:21:09.720084Z",
     "iopub.status.idle": "2025-07-30T14:21:09.723397Z",
     "shell.execute_reply": "2025-07-30T14:21:09.722687Z"
    },
    "papermill": {
     "duration": 0.015161,
     "end_time": "2025-07-30T14:21:09.724619",
     "exception": false,
     "start_time": "2025-07-30T14:21:09.709458",
     "status": "completed"
    },
    "tags": []
   },
   "outputs": [],
   "source": [
    "# Calibration data for conformal\n",
    "#X_calib = pd.read_csv(\"./data/X_calib.csv\")\n",
    "#y_calib = pd.read_csv(\"./data/y_calib.csv\")"
   ]
  },
  {
   "cell_type": "markdown",
   "id": "997051c5-15bd-4b69-9786-c3001a3ce484",
   "metadata": {
    "papermill": {
     "duration": 0.010007,
     "end_time": "2025-07-30T14:21:09.745448",
     "exception": false,
     "start_time": "2025-07-30T14:21:09.735441",
     "status": "completed"
    },
    "tags": []
   },
   "source": [
    "# Splitting Data and Setting Training Data Size"
   ]
  },
  {
   "cell_type": "code",
   "execution_count": 14,
   "id": "e993b61f-042d-41a6-8c81-f55681f86335",
   "metadata": {
    "execution": {
     "iopub.execute_input": "2025-07-30T14:21:09.767023Z",
     "iopub.status.busy": "2025-07-30T14:21:09.766457Z",
     "iopub.status.idle": "2025-07-30T14:21:09.777384Z",
     "shell.execute_reply": "2025-07-30T14:21:09.776720Z"
    },
    "papermill": {
     "duration": 0.023144,
     "end_time": "2025-07-30T14:21:09.778718",
     "exception": false,
     "start_time": "2025-07-30T14:21:09.755574",
     "status": "completed"
    },
    "tags": []
   },
   "outputs": [],
   "source": [
    "def sample_by_year_size(df,\n",
    "                        training_year: str,\n",
    "                        training_size: str,\n",
    "                        random_state: int = 42):\n",
    "    # --- parse training_year into a list of int years ---\n",
    "    if \"_\" in training_year:\n",
    "        start_str, end_str = training_year.split(\"_\", 1)\n",
    "        start = int(start_str)\n",
    "        end   = int(end_str) if len(end_str) == 4 else (int(end_str) + (start // 100)*100)\n",
    "        years = list(range(start, end + 1))\n",
    "    else:\n",
    "        years = [int(training_year)]\n",
    "\n",
    "    df = df[df[\"year\"].isin(years)].reset_index(drop=True)\n",
    "\n",
    "    # --- map training_size to total number of samples ---\n",
    "    total_map = {\"25k\": 25_000, \"5k\": 5_000, \"1k\": 1_000}\n",
    "    if training_size not in total_map:\n",
    "        return df  # e.g. \"all\"\n",
    "\n",
    "    total_samples = total_map[training_size]\n",
    "    n_years       = len(years)\n",
    "    base          = total_samples // n_years\n",
    "    remainder     = total_samples % n_years\n",
    "\n",
    "    # --- build a dict: year -> how many to sample ---\n",
    "    # give +1 to the first `remainder` years in ascending order\n",
    "    quotas = {\n",
    "        year: base + (1 if idx < remainder else 0)\n",
    "        for idx, year in enumerate(sorted(years))\n",
    "    }\n",
    "\n",
    "    # --- sample per‐year according to the quota dict ---\n",
    "    sampled = (\n",
    "        df\n",
    "        .groupby(\"year\", group_keys=False)\n",
    "        .apply(lambda grp: grp.sample(\n",
    "            n=min(len(grp), quotas[grp.name]),\n",
    "            random_state=random_state))\n",
    "        .reset_index(drop=True)\n",
    "    )\n",
    "\n",
    "    return sampled"
   ]
  },
  {
   "cell_type": "code",
   "execution_count": 15,
   "id": "c0ccd338-0e02-41f3-a09d-f56f9266e3fb",
   "metadata": {
    "execution": {
     "iopub.execute_input": "2025-07-30T14:21:09.801179Z",
     "iopub.status.busy": "2025-07-30T14:21:09.800888Z",
     "iopub.status.idle": "2025-07-30T14:21:09.808212Z",
     "shell.execute_reply": "2025-07-30T14:21:09.807348Z"
    },
    "papermill": {
     "duration": 0.019453,
     "end_time": "2025-07-30T14:21:09.809473",
     "exception": false,
     "start_time": "2025-07-30T14:21:09.790020",
     "status": "completed"
    },
    "tags": []
   },
   "outputs": [
    {
     "data": {
      "text/plain": [
       "'1k'"
      ]
     },
     "execution_count": 15,
     "metadata": {},
     "output_type": "execute_result"
    }
   ],
   "source": [
    "universe[\"training_size\"]"
   ]
  },
  {
   "cell_type": "code",
   "execution_count": 16,
   "id": "ca707fd7-8047-4acd-bfa5-66248fbbf8e6",
   "metadata": {
    "execution": {
     "iopub.execute_input": "2025-07-30T14:21:09.831831Z",
     "iopub.status.busy": "2025-07-30T14:21:09.831496Z",
     "iopub.status.idle": "2025-07-30T14:21:09.837179Z",
     "shell.execute_reply": "2025-07-30T14:21:09.836582Z"
    },
    "papermill": {
     "duration": 0.017937,
     "end_time": "2025-07-30T14:21:09.838504",
     "exception": false,
     "start_time": "2025-07-30T14:21:09.820567",
     "status": "completed"
    },
    "tags": []
   },
   "outputs": [
    {
     "data": {
      "text/plain": [
       "'2014'"
      ]
     },
     "execution_count": 16,
     "metadata": {},
     "output_type": "execute_result"
    }
   ],
   "source": [
    "universe[\"training_year\"]"
   ]
  },
  {
   "cell_type": "code",
   "execution_count": 17,
   "id": "aea9c6ef-6f46-42c8-85eb-5a62025c1508",
   "metadata": {
    "execution": {
     "iopub.execute_input": "2025-07-30T14:21:09.873447Z",
     "iopub.status.busy": "2025-07-30T14:21:09.873105Z",
     "iopub.status.idle": "2025-07-30T14:21:10.066820Z",
     "shell.execute_reply": "2025-07-30T14:21:10.066017Z"
    },
    "papermill": {
     "duration": 0.217861,
     "end_time": "2025-07-30T14:21:10.068738",
     "exception": false,
     "start_time": "2025-07-30T14:21:09.850877",
     "status": "completed"
    },
    "tags": []
   },
   "outputs": [],
   "source": [
    "siab_train = sample_by_year_size(siab,\n",
    "                               training_year=universe[\"training_year\"],\n",
    "                               training_size=universe[\"training_size\"])"
   ]
  },
  {
   "cell_type": "code",
   "execution_count": 18,
   "id": "8d3afb32-789d-442c-8d5d-9f5aa8dd2eed",
   "metadata": {
    "execution": {
     "iopub.execute_input": "2025-07-30T14:21:10.109450Z",
     "iopub.status.busy": "2025-07-30T14:21:10.109083Z",
     "iopub.status.idle": "2025-07-30T14:21:10.114355Z",
     "shell.execute_reply": "2025-07-30T14:21:10.113645Z"
    },
    "papermill": {
     "duration": 0.027125,
     "end_time": "2025-07-30T14:21:10.115933",
     "exception": false,
     "start_time": "2025-07-30T14:21:10.088808",
     "status": "completed"
    },
    "tags": []
   },
   "outputs": [
    {
     "data": {
      "text/plain": [
       "(1000, 164)"
      ]
     },
     "execution_count": 18,
     "metadata": {},
     "output_type": "execute_result"
    }
   ],
   "source": [
    "siab_train.shape"
   ]
  },
  {
   "cell_type": "code",
   "execution_count": 19,
   "id": "d582db68-1a4c-47fb-84fc-08518dc1975a",
   "metadata": {
    "execution": {
     "iopub.execute_input": "2025-07-30T14:21:10.164863Z",
     "iopub.status.busy": "2025-07-30T14:21:10.164502Z",
     "iopub.status.idle": "2025-07-30T14:21:10.171585Z",
     "shell.execute_reply": "2025-07-30T14:21:10.170847Z"
    },
    "papermill": {
     "duration": 0.033172,
     "end_time": "2025-07-30T14:21:10.173269",
     "exception": false,
     "start_time": "2025-07-30T14:21:10.140097",
     "status": "completed"
    },
    "tags": []
   },
   "outputs": [
    {
     "data": {
      "text/plain": [
       "year\n",
       "2014    1000\n",
       "dtype: int64"
      ]
     },
     "metadata": {},
     "output_type": "display_data"
    }
   ],
   "source": [
    "display(siab_train.groupby(\"year\").size())"
   ]
  },
  {
   "cell_type": "code",
   "execution_count": 20,
   "id": "a561edb4-d032-42cb-8256-22eac1111c64",
   "metadata": {
    "execution": {
     "iopub.execute_input": "2025-07-30T14:21:10.221443Z",
     "iopub.status.busy": "2025-07-30T14:21:10.221145Z",
     "iopub.status.idle": "2025-07-30T14:21:10.442193Z",
     "shell.execute_reply": "2025-07-30T14:21:10.441263Z"
    },
    "papermill": {
     "duration": 0.246235,
     "end_time": "2025-07-30T14:21:10.443999",
     "exception": false,
     "start_time": "2025-07-30T14:21:10.197764",
     "status": "completed"
    },
    "tags": []
   },
   "outputs": [],
   "source": [
    "#siab_train = siab_s[siab_s.year < 2015]\n",
    "siab_calib = siab[siab.year == 2015]\n",
    "siab_test = siab[siab.year == 2016]"
   ]
  },
  {
   "cell_type": "code",
   "execution_count": 21,
   "id": "472de16f-c3db-4916-846b-1f0de9cf1746",
   "metadata": {
    "execution": {
     "iopub.execute_input": "2025-07-30T14:21:10.476976Z",
     "iopub.status.busy": "2025-07-30T14:21:10.476665Z",
     "iopub.status.idle": "2025-07-30T14:21:10.482422Z",
     "shell.execute_reply": "2025-07-30T14:21:10.481563Z"
    },
    "papermill": {
     "duration": 0.020769,
     "end_time": "2025-07-30T14:21:10.483606",
     "exception": false,
     "start_time": "2025-07-30T14:21:10.462837",
     "status": "completed"
    },
    "tags": []
   },
   "outputs": [],
   "source": [
    "X_train = siab_train.iloc[:,4:164]\n",
    "y_train = siab_train.iloc[:, [3]]"
   ]
  },
  {
   "cell_type": "code",
   "execution_count": 22,
   "id": "828c96af-f43a-4ed6-ba47-8ac73a47d56c",
   "metadata": {
    "execution": {
     "iopub.execute_input": "2025-07-30T14:21:10.507568Z",
     "iopub.status.busy": "2025-07-30T14:21:10.507293Z",
     "iopub.status.idle": "2025-07-30T14:21:10.555656Z",
     "shell.execute_reply": "2025-07-30T14:21:10.554887Z"
    },
    "papermill": {
     "duration": 0.061325,
     "end_time": "2025-07-30T14:21:10.557095",
     "exception": false,
     "start_time": "2025-07-30T14:21:10.495770",
     "status": "completed"
    },
    "tags": []
   },
   "outputs": [],
   "source": [
    "X_calib = siab_calib.iloc[:,4:164]\n",
    "y_calib = siab_calib.iloc[:, [3]]"
   ]
  },
  {
   "cell_type": "code",
   "execution_count": 23,
   "id": "c34be9c3-6bd6-476e-acd3-845840e303be",
   "metadata": {
    "execution": {
     "iopub.execute_input": "2025-07-30T14:21:10.581598Z",
     "iopub.status.busy": "2025-07-30T14:21:10.581337Z",
     "iopub.status.idle": "2025-07-30T14:21:10.632565Z",
     "shell.execute_reply": "2025-07-30T14:21:10.631896Z"
    },
    "papermill": {
     "duration": 0.064582,
     "end_time": "2025-07-30T14:21:10.634221",
     "exception": false,
     "start_time": "2025-07-30T14:21:10.569639",
     "status": "completed"
    },
    "tags": []
   },
   "outputs": [],
   "source": [
    "X_test = siab_test.iloc[:,4:164]\n",
    "y_true = siab_test.iloc[:, [3]]"
   ]
  },
  {
   "cell_type": "markdown",
   "id": "9901737e-04df-44f0-9100-f5ad144ed040",
   "metadata": {
    "papermill": {
     "duration": 0.02249,
     "end_time": "2025-07-30T14:21:10.681103",
     "exception": false,
     "start_time": "2025-07-30T14:21:10.658613",
     "status": "completed"
    },
    "tags": []
   },
   "source": [
    "# Splitting Data and Setting Training Data Size OLD VERSION"
   ]
  },
  {
   "cell_type": "code",
   "execution_count": 24,
   "id": "acbc8f7d-8fc8-4e86-8c59-5dcb0f58384b",
   "metadata": {
    "execution": {
     "iopub.execute_input": "2025-07-30T14:21:10.729030Z",
     "iopub.status.busy": "2025-07-30T14:21:10.728625Z",
     "iopub.status.idle": "2025-07-30T14:21:10.733893Z",
     "shell.execute_reply": "2025-07-30T14:21:10.732821Z"
    },
    "papermill": {
     "duration": 0.031326,
     "end_time": "2025-07-30T14:21:10.735110",
     "exception": false,
     "start_time": "2025-07-30T14:21:10.703784",
     "status": "completed"
    },
    "tags": []
   },
   "outputs": [],
   "source": [
    "#def sample_by_year(df, training_size, random_state=42):\n",
    "#    if training_size == \"2014\":\n",
    "#        return df[df[\"year\"] == 2014].reset_index(drop=True)\n",
    "#    \n",
    "#    size_map = {\n",
    "#        \"25k\": 5000,\n",
    "#        \"5k\": 1000,\n",
    "#        \"1k\": 200\n",
    "#    }\n",
    "#\n",
    "#    if training_size not in size_map:\n",
    "#        return df.reset_index(drop=True)  # use all data\n",
    "#\n",
    "#    n_per_year = size_map[training_size]\n",
    "#    grouped = df.groupby(\"year\")\n",
    "#    sampled = grouped.apply(lambda x: x.sample(n=min(n_per_year, len(x)), random_state=random_state))\n",
    "#    return sampled.reset_index(drop=True)"
   ]
  },
  {
   "cell_type": "code",
   "execution_count": 25,
   "id": "6d931f52-beaf-43ff-9e78-9d44a448d54e",
   "metadata": {
    "execution": {
     "iopub.execute_input": "2025-07-30T14:21:10.773450Z",
     "iopub.status.busy": "2025-07-30T14:21:10.773120Z",
     "iopub.status.idle": "2025-07-30T14:21:10.776780Z",
     "shell.execute_reply": "2025-07-30T14:21:10.776061Z"
    },
    "papermill": {
     "duration": 0.027754,
     "end_time": "2025-07-30T14:21:10.778198",
     "exception": false,
     "start_time": "2025-07-30T14:21:10.750444",
     "status": "completed"
    },
    "tags": []
   },
   "outputs": [],
   "source": [
    "#siab_s = sample_by_year(siab, universe[\"training_size\"])"
   ]
  },
  {
   "cell_type": "code",
   "execution_count": 26,
   "id": "5db0a40e-a4e2-4920-be85-b12ae061d70d",
   "metadata": {
    "execution": {
     "iopub.execute_input": "2025-07-30T14:21:10.819868Z",
     "iopub.status.busy": "2025-07-30T14:21:10.819580Z",
     "iopub.status.idle": "2025-07-30T14:21:10.823069Z",
     "shell.execute_reply": "2025-07-30T14:21:10.822369Z"
    },
    "papermill": {
     "duration": 0.025933,
     "end_time": "2025-07-30T14:21:10.824918",
     "exception": false,
     "start_time": "2025-07-30T14:21:10.798985",
     "status": "completed"
    },
    "tags": []
   },
   "outputs": [],
   "source": [
    "#display(siab_s.groupby(\"year\").size())"
   ]
  },
  {
   "cell_type": "code",
   "execution_count": 27,
   "id": "e6c733c5",
   "metadata": {
    "execution": {
     "iopub.execute_input": "2025-07-30T14:21:10.873776Z",
     "iopub.status.busy": "2025-07-30T14:21:10.873453Z",
     "iopub.status.idle": "2025-07-30T14:21:10.958639Z",
     "shell.execute_reply": "2025-07-30T14:21:10.957896Z"
    },
    "papermill": {
     "duration": 0.110884,
     "end_time": "2025-07-30T14:21:10.960545",
     "exception": false,
     "start_time": "2025-07-30T14:21:10.849661",
     "status": "completed"
    },
    "tags": []
   },
   "outputs": [],
   "source": [
    "# Auxiliary data needed downstream in the pipeline\n",
    "\n",
    "org_train = X_train.copy()\n",
    "org_test = X_test.copy()\n",
    "org_calib = X_calib.copy()"
   ]
  },
  {
   "cell_type": "code",
   "execution_count": 28,
   "id": "1466abac-c6da-4492-a62f-4240ae3783af",
   "metadata": {
    "execution": {
     "iopub.execute_input": "2025-07-30T14:21:11.002432Z",
     "iopub.status.busy": "2025-07-30T14:21:11.002118Z",
     "iopub.status.idle": "2025-07-30T14:21:11.005972Z",
     "shell.execute_reply": "2025-07-30T14:21:11.005302Z"
    },
    "papermill": {
     "duration": 0.025872,
     "end_time": "2025-07-30T14:21:11.007593",
     "exception": false,
     "start_time": "2025-07-30T14:21:10.981721",
     "status": "completed"
    },
    "tags": []
   },
   "outputs": [],
   "source": [
    "# put in other script?\n",
    "# Group sizes\n",
    "\n",
    "#def calculate_percentages(df, df_name):\n",
    "#    total_entries = len(df)\n",
    "#\n",
    "#    female_pct = (df['frau1'] == 1).mean() * 100\n",
    "#    non_german_pct = ((df['maxdeutsch1'] == 0) & (df['maxdeutsch.Missing.'] == 0)).mean() * 100\n",
    "#    non_german_male_pct = ((df['frau1'] == 0) & (df['maxdeutsch1'] == 0) & (df['maxdeutsch.Missing.'] == 0)).mean() * 100\n",
    "#    non_german_female_pct = ((df['frau1'] == 1) & (df['maxdeutsch1'] == 0) & (df['maxdeutsch.Missing.'] == 0)).mean() * 100\n",
    "#\n",
    "#    print(f\"--- {df_name} ---\")\n",
    "#    print(f\"Female: {female_pct:.2f}%\")\n",
    "#    print(f\"Non-German: {non_german_pct:.2f}%\")\n",
    "#    print(f\"Non-German Male: {non_german_male_pct:.2f}%\")\n",
    "#    print(f\"Non-German Female: {non_german_female_pct:.2f}%\\n\")\n",
    "#\n",
    "## Calculate for each DataFrame\n",
    "#calculate_percentages(siab_calib, \"siab_calib\")\n",
    "#calculate_percentages(siab_test, \"siab_test\")\n",
    "#calculate_percentages(siab_train, \"siab_train\")"
   ]
  },
  {
   "cell_type": "markdown",
   "id": "0a4a1b33",
   "metadata": {
    "papermill": {
     "duration": 0.023801,
     "end_time": "2025-07-30T14:21:11.056434",
     "exception": false,
     "start_time": "2025-07-30T14:21:11.032633",
     "status": "completed"
    },
    "tags": []
   },
   "source": [
    "# Preprocessing Data"
   ]
  },
  {
   "cell_type": "code",
   "execution_count": 29,
   "id": "ca879031",
   "metadata": {
    "execution": {
     "iopub.execute_input": "2025-07-30T14:21:11.093488Z",
     "iopub.status.busy": "2025-07-30T14:21:11.092783Z",
     "iopub.status.idle": "2025-07-30T14:21:11.098460Z",
     "shell.execute_reply": "2025-07-30T14:21:11.097670Z"
    },
    "papermill": {
     "duration": 0.019152,
     "end_time": "2025-07-30T14:21:11.099945",
     "exception": false,
     "start_time": "2025-07-30T14:21:11.080793",
     "status": "completed"
    },
    "tags": []
   },
   "outputs": [],
   "source": [
    "# EXCLUDE PROTECTED FEATURES\n",
    "# ----------------------\n",
    "# \"exclude_features\": \"none\", # \"nationality\", \"sex\", \"nationality-sex\"\n",
    "\n",
    "excluded_features = universe[\"exclude_features\"].split(\"-\") # split, e.g.: \"nationality-sex\" -> [\"nationality\", \"sex\"]\n",
    "excluded_features_dictionary = {\n",
    "    \"nationality\": [\"maxdeutsch1\", \"maxdeutsch.Missing.\"],\n",
    "    \"sex\": [\"frau1\"],\n",
    "    \"age\": [\"age\"],\n",
    "}\n"
   ]
  },
  {
   "cell_type": "code",
   "execution_count": 30,
   "id": "b745ac60",
   "metadata": {
    "execution": {
     "iopub.execute_input": "2025-07-30T14:21:11.142426Z",
     "iopub.status.busy": "2025-07-30T14:21:11.142132Z",
     "iopub.status.idle": "2025-07-30T14:21:11.145998Z",
     "shell.execute_reply": "2025-07-30T14:21:11.145191Z"
    },
    "papermill": {
     "duration": 0.02605,
     "end_time": "2025-07-30T14:21:11.147660",
     "exception": false,
     "start_time": "2025-07-30T14:21:11.121610",
     "status": "completed"
    },
    "tags": []
   },
   "outputs": [],
   "source": [
    "# Code nice names to column names\n",
    "\n",
    "excluded_features_columns = [\n",
    "    excluded_features_dictionary[f] for f in excluded_features if len(f) > 0 and f != \"none\"\n",
    "]"
   ]
  },
  {
   "cell_type": "code",
   "execution_count": 31,
   "id": "f84f73a2",
   "metadata": {
    "execution": {
     "iopub.execute_input": "2025-07-30T14:21:11.190461Z",
     "iopub.status.busy": "2025-07-30T14:21:11.189864Z",
     "iopub.status.idle": "2025-07-30T14:21:11.195764Z",
     "shell.execute_reply": "2025-07-30T14:21:11.194884Z"
    },
    "papermill": {
     "duration": 0.028513,
     "end_time": "2025-07-30T14:21:11.197463",
     "exception": false,
     "start_time": "2025-07-30T14:21:11.168950",
     "status": "completed"
    },
    "tags": []
   },
   "outputs": [],
   "source": [
    "from utils import flatten_once\n",
    "\n",
    "excluded_features_columns = flatten_once(excluded_features_columns)"
   ]
  },
  {
   "cell_type": "code",
   "execution_count": 32,
   "id": "884dea22",
   "metadata": {
    "execution": {
     "iopub.execute_input": "2025-07-30T14:21:11.240919Z",
     "iopub.status.busy": "2025-07-30T14:21:11.240290Z",
     "iopub.status.idle": "2025-07-30T14:21:11.247482Z",
     "shell.execute_reply": "2025-07-30T14:21:11.246603Z"
    },
    "papermill": {
     "duration": 0.029562,
     "end_time": "2025-07-30T14:21:11.249177",
     "exception": false,
     "start_time": "2025-07-30T14:21:11.219615",
     "status": "completed"
    },
    "tags": []
   },
   "outputs": [
    {
     "name": "stdout",
     "output_type": "stream",
     "text": [
      "Dropping features: ['maxdeutsch1', 'maxdeutsch.Missing.']\n"
     ]
    }
   ],
   "source": [
    "if len(excluded_features_columns) > 0:\n",
    "    print(f\"Dropping features: {excluded_features_columns}\")\n",
    "    X_train.drop(excluded_features_columns, axis=1, inplace=True)"
   ]
  },
  {
   "cell_type": "code",
   "execution_count": 33,
   "id": "95ab8b16",
   "metadata": {
    "execution": {
     "iopub.execute_input": "2025-07-30T14:21:11.291058Z",
     "iopub.status.busy": "2025-07-30T14:21:11.290634Z",
     "iopub.status.idle": "2025-07-30T14:21:11.337209Z",
     "shell.execute_reply": "2025-07-30T14:21:11.336327Z"
    },
    "papermill": {
     "duration": 0.0646,
     "end_time": "2025-07-30T14:21:11.338541",
     "exception": false,
     "start_time": "2025-07-30T14:21:11.273941",
     "status": "completed"
    },
    "tags": []
   },
   "outputs": [
    {
     "name": "stdout",
     "output_type": "stream",
     "text": [
      "Dropping features: ['maxdeutsch1', 'maxdeutsch.Missing.']\n"
     ]
    }
   ],
   "source": [
    "if len(excluded_features_columns) > 0:\n",
    "    print(f\"Dropping features: {excluded_features_columns}\")\n",
    "    X_test.drop(excluded_features_columns, axis=1, inplace=True)"
   ]
  },
  {
   "cell_type": "code",
   "execution_count": 34,
   "id": "1853aaf5-fb9f-46cb-a2b5-8ea4ae2237e4",
   "metadata": {
    "execution": {
     "iopub.execute_input": "2025-07-30T14:21:11.363858Z",
     "iopub.status.busy": "2025-07-30T14:21:11.363476Z",
     "iopub.status.idle": "2025-07-30T14:21:11.408693Z",
     "shell.execute_reply": "2025-07-30T14:21:11.407945Z"
    },
    "papermill": {
     "duration": 0.058492,
     "end_time": "2025-07-30T14:21:11.410030",
     "exception": false,
     "start_time": "2025-07-30T14:21:11.351538",
     "status": "completed"
    },
    "tags": []
   },
   "outputs": [
    {
     "name": "stdout",
     "output_type": "stream",
     "text": [
      "Dropping features: ['maxdeutsch1', 'maxdeutsch.Missing.']\n"
     ]
    }
   ],
   "source": [
    "if len(excluded_features_columns) > 0:\n",
    "    print(f\"Dropping features: {excluded_features_columns}\")\n",
    "    X_calib.drop(excluded_features_columns, axis=1, inplace=True)"
   ]
  },
  {
   "cell_type": "code",
   "execution_count": 35,
   "id": "6727d079-03e5-481e-9d38-292a90b7a0a8",
   "metadata": {
    "execution": {
     "iopub.execute_input": "2025-07-30T14:21:11.435744Z",
     "iopub.status.busy": "2025-07-30T14:21:11.435269Z",
     "iopub.status.idle": "2025-07-30T14:21:11.439118Z",
     "shell.execute_reply": "2025-07-30T14:21:11.438202Z"
    },
    "papermill": {
     "duration": 0.017303,
     "end_time": "2025-07-30T14:21:11.440429",
     "exception": false,
     "start_time": "2025-07-30T14:21:11.423126",
     "status": "completed"
    },
    "tags": []
   },
   "outputs": [],
   "source": [
    "# SPLIT & STRATIFY DATA\n",
    "# ----------------------"
   ]
  },
  {
   "cell_type": "code",
   "execution_count": 36,
   "id": "76c4dc6d",
   "metadata": {
    "execution": {
     "iopub.execute_input": "2025-07-30T14:21:11.465193Z",
     "iopub.status.busy": "2025-07-30T14:21:11.464802Z",
     "iopub.status.idle": "2025-07-30T14:21:11.469636Z",
     "shell.execute_reply": "2025-07-30T14:21:11.468742Z"
    },
    "papermill": {
     "duration": 0.018456,
     "end_time": "2025-07-30T14:21:11.471010",
     "exception": false,
     "start_time": "2025-07-30T14:21:11.452554",
     "status": "completed"
    },
    "tags": []
   },
   "outputs": [],
   "source": [
    "# EXCLUDE CERTAIN SUBGROUPS\n",
    "# ----------------------\n",
    "\n",
    "mode = universe.get(\"exclude_subgroups\", \"keep-all\") \n",
    "# Fetches the exclude_subgroups setting from the universe dict.\n",
    "# Defaults to \"keep-all\" if the key is missing."
   ]
  },
  {
   "cell_type": "code",
   "execution_count": 37,
   "id": "21994072",
   "metadata": {
    "execution": {
     "iopub.execute_input": "2025-07-30T14:21:11.524620Z",
     "iopub.status.busy": "2025-07-30T14:21:11.524152Z",
     "iopub.status.idle": "2025-07-30T14:21:11.531015Z",
     "shell.execute_reply": "2025-07-30T14:21:11.530166Z"
    },
    "papermill": {
     "duration": 0.049042,
     "end_time": "2025-07-30T14:21:11.532540",
     "exception": false,
     "start_time": "2025-07-30T14:21:11.483498",
     "status": "completed"
    },
    "tags": []
   },
   "outputs": [],
   "source": [
    "if mode == \"keep-all\":\n",
    "    keep_mask = pd.Series(True, index=org_train.index)\n",
    "\n",
    "# org_train contains the original feature columns from features_org (in Simson)\n",
    "# features_org contains unprocessed features, for me X_train at beginning ???\n",
    "# For keep-all, creates a boolean Series (keep_mask) of all True, so no rows are removed.\n",
    "\n",
    "elif mode == \"drop-non-german\":\n",
    "    keep_mask = org_train[\"maxdeutsch1\"] == 1 # ??? what about missing values?\n",
    "\n",
    "else:\n",
    "    raise ValueError(f\"Unsupported mode for exclude_subgroups: {mode}\")\n"
   ]
  },
  {
   "cell_type": "code",
   "execution_count": 38,
   "id": "71651440",
   "metadata": {
    "execution": {
     "iopub.execute_input": "2025-07-30T14:21:11.576289Z",
     "iopub.status.busy": "2025-07-30T14:21:11.575795Z",
     "iopub.status.idle": "2025-07-30T14:21:11.581389Z",
     "shell.execute_reply": "2025-07-30T14:21:11.580508Z"
    },
    "papermill": {
     "duration": 0.028788,
     "end_time": "2025-07-30T14:21:11.582972",
     "exception": false,
     "start_time": "2025-07-30T14:21:11.554184",
     "status": "completed"
    },
    "tags": []
   },
   "outputs": [
    {
     "name": "stdout",
     "output_type": "stream",
     "text": [
      "Dropping 147 rows (14.70%) where mode='drop-non-german'\n"
     ]
    }
   ],
   "source": [
    "n_drop = (~keep_mask).sum() # Calculates how many rows are set to be dropped\n",
    "if n_drop > 0:\n",
    "    pct = n_drop / len(keep_mask) * 100\n",
    "    print(f\"Dropping {n_drop} rows ({pct:.2f}%) where mode='{mode}'\")"
   ]
  },
  {
   "cell_type": "code",
   "execution_count": 39,
   "id": "5fb8eee5",
   "metadata": {
    "execution": {
     "iopub.execute_input": "2025-07-30T14:21:11.630787Z",
     "iopub.status.busy": "2025-07-30T14:21:11.630412Z",
     "iopub.status.idle": "2025-07-30T14:21:11.635507Z",
     "shell.execute_reply": "2025-07-30T14:21:11.634599Z"
    },
    "papermill": {
     "duration": 0.029177,
     "end_time": "2025-07-30T14:21:11.636955",
     "exception": false,
     "start_time": "2025-07-30T14:21:11.607778",
     "status": "completed"
    },
    "tags": []
   },
   "outputs": [],
   "source": [
    "X_train = X_train[keep_mask]"
   ]
  },
  {
   "cell_type": "code",
   "execution_count": 40,
   "id": "b202bb3a",
   "metadata": {
    "execution": {
     "iopub.execute_input": "2025-07-30T14:21:11.709919Z",
     "iopub.status.busy": "2025-07-30T14:21:11.709633Z",
     "iopub.status.idle": "2025-07-30T14:21:11.713622Z",
     "shell.execute_reply": "2025-07-30T14:21:11.712933Z"
    },
    "papermill": {
     "duration": 0.029116,
     "end_time": "2025-07-30T14:21:11.715130",
     "exception": false,
     "start_time": "2025-07-30T14:21:11.686014",
     "status": "completed"
    },
    "tags": []
   },
   "outputs": [],
   "source": [
    "y_train = y_train[keep_mask]"
   ]
  },
  {
   "cell_type": "markdown",
   "id": "493e2ac3",
   "metadata": {
    "papermill": {
     "duration": 0.021637,
     "end_time": "2025-07-30T14:21:11.759979",
     "exception": false,
     "start_time": "2025-07-30T14:21:11.738342",
     "status": "completed"
    },
    "tags": []
   },
   "source": [
    "# Model Training"
   ]
  },
  {
   "cell_type": "code",
   "execution_count": 41,
   "id": "679e1268",
   "metadata": {
    "execution": {
     "iopub.execute_input": "2025-07-30T14:21:11.805540Z",
     "iopub.status.busy": "2025-07-30T14:21:11.805121Z",
     "iopub.status.idle": "2025-07-30T14:21:11.909680Z",
     "shell.execute_reply": "2025-07-30T14:21:11.908907Z"
    },
    "papermill": {
     "duration": 0.128862,
     "end_time": "2025-07-30T14:21:11.911351",
     "exception": false,
     "start_time": "2025-07-30T14:21:11.782489",
     "status": "completed"
    },
    "tags": []
   },
   "outputs": [],
   "source": [
    "from sklearn.linear_model import LogisticRegression\n",
    "from sklearn.ensemble import GradientBoostingClassifier, RandomForestClassifier\n",
    "\n",
    "if (universe[\"model\"] == \"logreg\"):\n",
    "    model = LogisticRegression() #penalty=\"none\") #, solver=\"newton-cg\", max_iter=1) # include random_state=19 ?\n",
    "elif (universe[\"model\"] == \"penalized_logreg\"):\n",
    "    model = LogisticRegression(penalty=\"l2\", C=1.0) #, solver=\"newton-cg\", max_iter=1)\n",
    "elif (universe[\"model\"] == \"rf\"):\n",
    "    model = RandomForestClassifier(n_estimators=100, n_jobs=-1)\n",
    "elif (universe[\"model\"] == \"gbm\"):\n",
    "    model = GradientBoostingClassifier()\n",
    "elif (universe[\"model\"] == \"elasticnet\"):\n",
    "    model = LogisticRegression(penalty = 'elasticnet', solver = 'saga', l1_ratio = 0.5, max_iter=5000) # which solver to use?\n",
    "else:\n",
    "    raise \"Unsupported universe.model\""
   ]
  },
  {
   "cell_type": "code",
   "execution_count": 42,
   "id": "0cc8f744",
   "metadata": {
    "execution": {
     "iopub.execute_input": "2025-07-30T14:21:11.956319Z",
     "iopub.status.busy": "2025-07-30T14:21:11.955796Z",
     "iopub.status.idle": "2025-07-30T14:21:11.960232Z",
     "shell.execute_reply": "2025-07-30T14:21:11.959546Z"
    },
    "papermill": {
     "duration": 0.027155,
     "end_time": "2025-07-30T14:21:11.961381",
     "exception": false,
     "start_time": "2025-07-30T14:21:11.934226",
     "status": "completed"
    },
    "tags": []
   },
   "outputs": [],
   "source": [
    "import numpy as np\n",
    "from sklearn.pipeline import Pipeline\n",
    "from sklearn.preprocessing import StandardScaler\n",
    "\n",
    "model = Pipeline([\n",
    "    #(\"continuous_processor\", continuous_processor),\n",
    "    #(\"categorical_preprocessor\", categorical_preprocessor),\n",
    "    (\"scale\", StandardScaler() if universe[\"scale\"] == \"scale\" else None), \n",
    "    (\"model\", model),\n",
    "])"
   ]
  },
  {
   "cell_type": "code",
   "execution_count": 43,
   "id": "9442c04d",
   "metadata": {
    "execution": {
     "iopub.execute_input": "2025-07-30T14:21:11.986842Z",
     "iopub.status.busy": "2025-07-30T14:21:11.986456Z",
     "iopub.status.idle": "2025-07-30T14:21:12.219827Z",
     "shell.execute_reply": "2025-07-30T14:21:12.219029Z"
    },
    "papermill": {
     "duration": 0.247041,
     "end_time": "2025-07-30T14:21:12.221043",
     "exception": false,
     "start_time": "2025-07-30T14:21:11.974002",
     "status": "completed"
    },
    "tags": []
   },
   "outputs": [
    {
     "data": {
      "text/html": [
       "<style>#sk-container-id-1 {color: black;background-color: white;}#sk-container-id-1 pre{padding: 0;}#sk-container-id-1 div.sk-toggleable {background-color: white;}#sk-container-id-1 label.sk-toggleable__label {cursor: pointer;display: block;width: 100%;margin-bottom: 0;padding: 0.3em;box-sizing: border-box;text-align: center;}#sk-container-id-1 label.sk-toggleable__label-arrow:before {content: \"▸\";float: left;margin-right: 0.25em;color: #696969;}#sk-container-id-1 label.sk-toggleable__label-arrow:hover:before {color: black;}#sk-container-id-1 div.sk-estimator:hover label.sk-toggleable__label-arrow:before {color: black;}#sk-container-id-1 div.sk-toggleable__content {max-height: 0;max-width: 0;overflow: hidden;text-align: left;background-color: #f0f8ff;}#sk-container-id-1 div.sk-toggleable__content pre {margin: 0.2em;color: black;border-radius: 0.25em;background-color: #f0f8ff;}#sk-container-id-1 input.sk-toggleable__control:checked~div.sk-toggleable__content {max-height: 200px;max-width: 100%;overflow: auto;}#sk-container-id-1 input.sk-toggleable__control:checked~label.sk-toggleable__label-arrow:before {content: \"▾\";}#sk-container-id-1 div.sk-estimator input.sk-toggleable__control:checked~label.sk-toggleable__label {background-color: #d4ebff;}#sk-container-id-1 div.sk-label input.sk-toggleable__control:checked~label.sk-toggleable__label {background-color: #d4ebff;}#sk-container-id-1 input.sk-hidden--visually {border: 0;clip: rect(1px 1px 1px 1px);clip: rect(1px, 1px, 1px, 1px);height: 1px;margin: -1px;overflow: hidden;padding: 0;position: absolute;width: 1px;}#sk-container-id-1 div.sk-estimator {font-family: monospace;background-color: #f0f8ff;border: 1px dotted black;border-radius: 0.25em;box-sizing: border-box;margin-bottom: 0.5em;}#sk-container-id-1 div.sk-estimator:hover {background-color: #d4ebff;}#sk-container-id-1 div.sk-parallel-item::after {content: \"\";width: 100%;border-bottom: 1px solid gray;flex-grow: 1;}#sk-container-id-1 div.sk-label:hover label.sk-toggleable__label {background-color: #d4ebff;}#sk-container-id-1 div.sk-serial::before {content: \"\";position: absolute;border-left: 1px solid gray;box-sizing: border-box;top: 0;bottom: 0;left: 50%;z-index: 0;}#sk-container-id-1 div.sk-serial {display: flex;flex-direction: column;align-items: center;background-color: white;padding-right: 0.2em;padding-left: 0.2em;position: relative;}#sk-container-id-1 div.sk-item {position: relative;z-index: 1;}#sk-container-id-1 div.sk-parallel {display: flex;align-items: stretch;justify-content: center;background-color: white;position: relative;}#sk-container-id-1 div.sk-item::before, #sk-container-id-1 div.sk-parallel-item::before {content: \"\";position: absolute;border-left: 1px solid gray;box-sizing: border-box;top: 0;bottom: 0;left: 50%;z-index: -1;}#sk-container-id-1 div.sk-parallel-item {display: flex;flex-direction: column;z-index: 1;position: relative;background-color: white;}#sk-container-id-1 div.sk-parallel-item:first-child::after {align-self: flex-end;width: 50%;}#sk-container-id-1 div.sk-parallel-item:last-child::after {align-self: flex-start;width: 50%;}#sk-container-id-1 div.sk-parallel-item:only-child::after {width: 0;}#sk-container-id-1 div.sk-dashed-wrapped {border: 1px dashed gray;margin: 0 0.4em 0.5em 0.4em;box-sizing: border-box;padding-bottom: 0.4em;background-color: white;}#sk-container-id-1 div.sk-label label {font-family: monospace;font-weight: bold;display: inline-block;line-height: 1.2em;}#sk-container-id-1 div.sk-label-container {text-align: center;}#sk-container-id-1 div.sk-container {/* jupyter's `normalize.less` sets `[hidden] { display: none; }` but bootstrap.min.css set `[hidden] { display: none !important; }` so we also need the `!important` here to be able to override the default hidden behavior on the sphinx rendered scikit-learn.org. See: https://github.com/scikit-learn/scikit-learn/issues/21755 */display: inline-block !important;position: relative;}#sk-container-id-1 div.sk-text-repr-fallback {display: none;}</style><div id=\"sk-container-id-1\" class=\"sk-top-container\"><div class=\"sk-text-repr-fallback\"><pre>Pipeline(steps=[(&#x27;scale&#x27;, StandardScaler()),\n",
       "                (&#x27;model&#x27;, RandomForestClassifier(n_jobs=-1))])</pre><b>In a Jupyter environment, please rerun this cell to show the HTML representation or trust the notebook. <br />On GitHub, the HTML representation is unable to render, please try loading this page with nbviewer.org.</b></div><div class=\"sk-container\" hidden><div class=\"sk-item sk-dashed-wrapped\"><div class=\"sk-label-container\"><div class=\"sk-label sk-toggleable\"><input class=\"sk-toggleable__control sk-hidden--visually\" id=\"sk-estimator-id-1\" type=\"checkbox\" ><label for=\"sk-estimator-id-1\" class=\"sk-toggleable__label sk-toggleable__label-arrow\">Pipeline</label><div class=\"sk-toggleable__content\"><pre>Pipeline(steps=[(&#x27;scale&#x27;, StandardScaler()),\n",
       "                (&#x27;model&#x27;, RandomForestClassifier(n_jobs=-1))])</pre></div></div></div><div class=\"sk-serial\"><div class=\"sk-item\"><div class=\"sk-estimator sk-toggleable\"><input class=\"sk-toggleable__control sk-hidden--visually\" id=\"sk-estimator-id-2\" type=\"checkbox\" ><label for=\"sk-estimator-id-2\" class=\"sk-toggleable__label sk-toggleable__label-arrow\">StandardScaler</label><div class=\"sk-toggleable__content\"><pre>StandardScaler()</pre></div></div></div><div class=\"sk-item\"><div class=\"sk-estimator sk-toggleable\"><input class=\"sk-toggleable__control sk-hidden--visually\" id=\"sk-estimator-id-3\" type=\"checkbox\" ><label for=\"sk-estimator-id-3\" class=\"sk-toggleable__label sk-toggleable__label-arrow\">RandomForestClassifier</label><div class=\"sk-toggleable__content\"><pre>RandomForestClassifier(n_jobs=-1)</pre></div></div></div></div></div></div></div>"
      ],
      "text/plain": [
       "Pipeline(steps=[('scale', StandardScaler()),\n",
       "                ('model', RandomForestClassifier(n_jobs=-1))])"
      ]
     },
     "execution_count": 43,
     "metadata": {},
     "output_type": "execute_result"
    }
   ],
   "source": [
    "model.fit(X_train, y_train.values.ravel())"
   ]
  },
  {
   "cell_type": "code",
   "execution_count": 44,
   "id": "af59f8c0",
   "metadata": {
    "execution": {
     "iopub.execute_input": "2025-07-30T14:21:12.247365Z",
     "iopub.status.busy": "2025-07-30T14:21:12.246742Z",
     "iopub.status.idle": "2025-07-30T14:21:12.251437Z",
     "shell.execute_reply": "2025-07-30T14:21:12.250748Z"
    },
    "papermill": {
     "duration": 0.01877,
     "end_time": "2025-07-30T14:21:12.252904",
     "exception": false,
     "start_time": "2025-07-30T14:21:12.234134",
     "status": "completed"
    },
    "tags": []
   },
   "outputs": [],
   "source": [
    "from fairness_multiverse.universe import predict_w_threshold"
   ]
  },
  {
   "cell_type": "code",
   "execution_count": 45,
   "id": "a7cf2e16",
   "metadata": {
    "execution": {
     "iopub.execute_input": "2025-07-30T14:21:12.298804Z",
     "iopub.status.busy": "2025-07-30T14:21:12.298426Z",
     "iopub.status.idle": "2025-07-30T14:21:12.790311Z",
     "shell.execute_reply": "2025-07-30T14:21:12.789625Z"
    },
    "papermill": {
     "duration": 0.516227,
     "end_time": "2025-07-30T14:21:12.791440",
     "exception": false,
     "start_time": "2025-07-30T14:21:12.275213",
     "status": "completed"
    },
    "tags": []
   },
   "outputs": [
    {
     "data": {
      "text/plain": [
       "0.8595474306097425"
      ]
     },
     "execution_count": 45,
     "metadata": {},
     "output_type": "execute_result"
    }
   ],
   "source": [
    "probs_test = model.predict_proba(X_test)\n",
    "\n",
    "'''\n",
    "Below code returns a boolean array (or binary 0/1 array depending on how it’s used) where each element \n",
    "is True if the probability of class 1 is greater than or equal to the threshold, and False otherwise.\n",
    "'''\n",
    "y_pred_default = predict_w_threshold(probs_test, 0.5)\n",
    "\n",
    "from sklearn.metrics import accuracy_score\n",
    "\n",
    "# Naive prediction\n",
    "accuracy_score(y_true = y_true, y_pred = y_pred_default)"
   ]
  },
  {
   "cell_type": "code",
   "execution_count": 46,
   "id": "081964c3",
   "metadata": {
    "execution": {
     "iopub.execute_input": "2025-07-30T14:21:12.820998Z",
     "iopub.status.busy": "2025-07-30T14:21:12.820277Z",
     "iopub.status.idle": "2025-07-30T14:21:13.330718Z",
     "shell.execute_reply": "2025-07-30T14:21:13.329953Z"
    },
    "papermill": {
     "duration": 0.525267,
     "end_time": "2025-07-30T14:21:13.332189",
     "exception": false,
     "start_time": "2025-07-30T14:21:12.806922",
     "status": "completed"
    },
    "tags": []
   },
   "outputs": [
    {
     "data": {
      "text/plain": [
       "array([0, 0, 0, ..., 0, 0, 0])"
      ]
     },
     "execution_count": 46,
     "metadata": {},
     "output_type": "execute_result"
    }
   ],
   "source": [
    "model.predict(X_test)"
   ]
  },
  {
   "cell_type": "markdown",
   "id": "56c9705b",
   "metadata": {
    "papermill": {
     "duration": 0.021656,
     "end_time": "2025-07-30T14:21:13.377058",
     "exception": false,
     "start_time": "2025-07-30T14:21:13.355402",
     "status": "completed"
    },
    "tags": []
   },
   "source": [
    "# Conformal Prediction"
   ]
  },
  {
   "cell_type": "code",
   "execution_count": 47,
   "id": "160ec6ff",
   "metadata": {
    "execution": {
     "iopub.execute_input": "2025-07-30T14:21:13.421178Z",
     "iopub.status.busy": "2025-07-30T14:21:13.420696Z",
     "iopub.status.idle": "2025-07-30T14:21:13.424780Z",
     "shell.execute_reply": "2025-07-30T14:21:13.423817Z"
    },
    "papermill": {
     "duration": 0.0277,
     "end_time": "2025-07-30T14:21:13.426003",
     "exception": false,
     "start_time": "2025-07-30T14:21:13.398303",
     "status": "completed"
    },
    "tags": []
   },
   "outputs": [],
   "source": [
    "# Miscoverage level for conformal prediction (10% allowed error rate => 90% target coverage)\n",
    "alpha = 0.1"
   ]
  },
  {
   "cell_type": "code",
   "execution_count": 48,
   "id": "eadf4555-3dd3-440e-8e35-f82a4ad9f855",
   "metadata": {
    "execution": {
     "iopub.execute_input": "2025-07-30T14:21:13.452658Z",
     "iopub.status.busy": "2025-07-30T14:21:13.452289Z",
     "iopub.status.idle": "2025-07-30T14:21:13.930902Z",
     "shell.execute_reply": "2025-07-30T14:21:13.929995Z"
    },
    "papermill": {
     "duration": 0.493143,
     "end_time": "2025-07-30T14:21:13.932488",
     "exception": false,
     "start_time": "2025-07-30T14:21:13.439345",
     "status": "completed"
    },
    "tags": []
   },
   "outputs": [],
   "source": [
    "probs_calib = model.predict_proba(X_calib)"
   ]
  },
  {
   "cell_type": "code",
   "execution_count": 49,
   "id": "2ed93547-6d5d-4983-9b36-1ecb300da49a",
   "metadata": {
    "execution": {
     "iopub.execute_input": "2025-07-30T14:21:13.959038Z",
     "iopub.status.busy": "2025-07-30T14:21:13.958789Z",
     "iopub.status.idle": "2025-07-30T14:21:13.962985Z",
     "shell.execute_reply": "2025-07-30T14:21:13.962362Z"
    },
    "papermill": {
     "duration": 0.018608,
     "end_time": "2025-07-30T14:21:13.964236",
     "exception": false,
     "start_time": "2025-07-30T14:21:13.945628",
     "status": "completed"
    },
    "tags": []
   },
   "outputs": [],
   "source": [
    "y_calib = y_calib.values.ravel().astype(int)"
   ]
  },
  {
   "cell_type": "code",
   "execution_count": 50,
   "id": "65d1320d-f588-4b38-9072-62af1ae97f7d",
   "metadata": {
    "execution": {
     "iopub.execute_input": "2025-07-30T14:21:13.990476Z",
     "iopub.status.busy": "2025-07-30T14:21:13.990232Z",
     "iopub.status.idle": "2025-07-30T14:21:13.996194Z",
     "shell.execute_reply": "2025-07-30T14:21:13.995400Z"
    },
    "papermill": {
     "duration": 0.019931,
     "end_time": "2025-07-30T14:21:13.997413",
     "exception": false,
     "start_time": "2025-07-30T14:21:13.977482",
     "status": "completed"
    },
    "tags": []
   },
   "outputs": [],
   "source": [
    "from fairness_multiverse.conformal import compute_nc_scores\n",
    "\n",
    "# Compute nonconformity scores on calibration set (1 - probability of true class)\n",
    "nc_scores = compute_nc_scores(probs_calib, y_calib)"
   ]
  },
  {
   "cell_type": "code",
   "execution_count": 51,
   "id": "df3b8ca3-53b7-43d5-9667-7c85da7aeda2",
   "metadata": {
    "execution": {
     "iopub.execute_input": "2025-07-30T14:21:14.023951Z",
     "iopub.status.busy": "2025-07-30T14:21:14.023707Z",
     "iopub.status.idle": "2025-07-30T14:21:14.028073Z",
     "shell.execute_reply": "2025-07-30T14:21:14.027318Z"
    },
    "papermill": {
     "duration": 0.01867,
     "end_time": "2025-07-30T14:21:14.029324",
     "exception": false,
     "start_time": "2025-07-30T14:21:14.010654",
     "status": "completed"
    },
    "tags": []
   },
   "outputs": [],
   "source": [
    "from fairness_multiverse.conformal import find_threshold\n",
    "\n",
    "# Find conformal threshold q_hat for the given alpha (split conformal method)\n",
    "q_hat = find_threshold(nc_scores, alpha)"
   ]
  },
  {
   "cell_type": "code",
   "execution_count": 52,
   "id": "4d29e6c1-0ef6-4aa4-b8fe-4fe79b0d033a",
   "metadata": {
    "execution": {
     "iopub.execute_input": "2025-07-30T14:21:14.057004Z",
     "iopub.status.busy": "2025-07-30T14:21:14.056725Z",
     "iopub.status.idle": "2025-07-30T14:21:14.062026Z",
     "shell.execute_reply": "2025-07-30T14:21:14.061206Z"
    },
    "papermill": {
     "duration": 0.020411,
     "end_time": "2025-07-30T14:21:14.063595",
     "exception": false,
     "start_time": "2025-07-30T14:21:14.043184",
     "status": "completed"
    },
    "tags": []
   },
   "outputs": [
    {
     "data": {
      "text/plain": [
       "0.6699999999999999"
      ]
     },
     "execution_count": 52,
     "metadata": {},
     "output_type": "execute_result"
    }
   ],
   "source": [
    "q_hat"
   ]
  },
  {
   "cell_type": "code",
   "execution_count": 53,
   "id": "92460794-cdac-4be2-ba28-f28c0515a6fb",
   "metadata": {
    "execution": {
     "iopub.execute_input": "2025-07-30T14:21:14.112026Z",
     "iopub.status.busy": "2025-07-30T14:21:14.111763Z",
     "iopub.status.idle": "2025-07-30T14:21:15.284180Z",
     "shell.execute_reply": "2025-07-30T14:21:15.283339Z"
    },
    "papermill": {
     "duration": 1.19787,
     "end_time": "2025-07-30T14:21:15.285594",
     "exception": false,
     "start_time": "2025-07-30T14:21:14.087724",
     "status": "completed"
    },
    "tags": []
   },
   "outputs": [],
   "source": [
    "from fairness_multiverse.conformal import predict_conformal_sets\n",
    "\n",
    "# Generate prediction sets for each test example\n",
    "pred_sets = predict_conformal_sets(model, X_test, q_hat)"
   ]
  },
  {
   "cell_type": "code",
   "execution_count": 54,
   "id": "d90c9a65-e6db-4f5d-80cd-e68fb7e46829",
   "metadata": {
    "execution": {
     "iopub.execute_input": "2025-07-30T14:21:15.315023Z",
     "iopub.status.busy": "2025-07-30T14:21:15.314508Z",
     "iopub.status.idle": "2025-07-30T14:21:15.319714Z",
     "shell.execute_reply": "2025-07-30T14:21:15.318854Z"
    },
    "papermill": {
     "duration": 0.020478,
     "end_time": "2025-07-30T14:21:15.321079",
     "exception": false,
     "start_time": "2025-07-30T14:21:15.300601",
     "status": "completed"
    },
    "tags": []
   },
   "outputs": [],
   "source": [
    "y_true = y_true.squeeze()"
   ]
  },
  {
   "cell_type": "code",
   "execution_count": 55,
   "id": "3a58a54a-1e68-46b9-927a-df01f18aebc8",
   "metadata": {
    "execution": {
     "iopub.execute_input": "2025-07-30T14:21:15.349577Z",
     "iopub.status.busy": "2025-07-30T14:21:15.349239Z",
     "iopub.status.idle": "2025-07-30T14:21:16.012494Z",
     "shell.execute_reply": "2025-07-30T14:21:16.011599Z"
    },
    "papermill": {
     "duration": 0.678801,
     "end_time": "2025-07-30T14:21:16.014244",
     "exception": false,
     "start_time": "2025-07-30T14:21:15.335443",
     "status": "completed"
    },
    "tags": []
   },
   "outputs": [],
   "source": [
    "from fairness_multiverse.conformal import evaluate_sets\n",
    "\n",
    "# Evaluate coverage and average set size on test data\n",
    "metrics = evaluate_sets(pred_sets, y_true)"
   ]
  },
  {
   "cell_type": "markdown",
   "id": "2b569c12-9aaa-4c88-98c9-bbcd0cf3ebb8",
   "metadata": {
    "papermill": {
     "duration": 0.024708,
     "end_time": "2025-07-30T14:21:16.066080",
     "exception": false,
     "start_time": "2025-07-30T14:21:16.041372",
     "status": "completed"
    },
    "tags": []
   },
   "source": [
    "# CP Metrics"
   ]
  },
  {
   "cell_type": "code",
   "execution_count": 56,
   "id": "5ce0a5cb-201f-45a0-ade5-94c7f0bd6095",
   "metadata": {
    "execution": {
     "iopub.execute_input": "2025-07-30T14:21:16.117190Z",
     "iopub.status.busy": "2025-07-30T14:21:16.116805Z",
     "iopub.status.idle": "2025-07-30T14:21:16.122857Z",
     "shell.execute_reply": "2025-07-30T14:21:16.122086Z"
    },
    "papermill": {
     "duration": 0.033357,
     "end_time": "2025-07-30T14:21:16.124273",
     "exception": false,
     "start_time": "2025-07-30T14:21:16.090916",
     "status": "completed"
    },
    "tags": []
   },
   "outputs": [
    {
     "data": {
      "text/plain": [
       "{'coverage': 0.9144354029651098, 'avg_size': 1.149448222048824}"
      ]
     },
     "execution_count": 56,
     "metadata": {},
     "output_type": "execute_result"
    }
   ],
   "source": [
    "metrics"
   ]
  },
  {
   "cell_type": "code",
   "execution_count": 57,
   "id": "9b9a838d-31c9-430b-ae14-12baee460d17",
   "metadata": {
    "execution": {
     "iopub.execute_input": "2025-07-30T14:21:16.154932Z",
     "iopub.status.busy": "2025-07-30T14:21:16.154396Z",
     "iopub.status.idle": "2025-07-30T14:21:16.159381Z",
     "shell.execute_reply": "2025-07-30T14:21:16.158566Z"
    },
    "papermill": {
     "duration": 0.0219,
     "end_time": "2025-07-30T14:21:16.160883",
     "exception": false,
     "start_time": "2025-07-30T14:21:16.138983",
     "status": "completed"
    },
    "tags": []
   },
   "outputs": [],
   "source": [
    "example_universe = universe.copy()\n",
    "universe_training_size = example_universe.get(\"training_size\")\n",
    "universe_scale = example_universe.get(\"scale\")\n",
    "universe_model = example_universe.get(\"model\")\n",
    "universe_exclude_features = example_universe.get(\"exclude_features\")\n",
    "universe_exclude_subgroups = example_universe.get(\"exclude_subgroups\")"
   ]
  },
  {
   "cell_type": "code",
   "execution_count": 58,
   "id": "f4b6a8ac-9dc0-4245-8a91-5b3b5999c4f9",
   "metadata": {
    "execution": {
     "iopub.execute_input": "2025-07-30T14:21:16.190867Z",
     "iopub.status.busy": "2025-07-30T14:21:16.190444Z",
     "iopub.status.idle": "2025-07-30T14:21:16.196701Z",
     "shell.execute_reply": "2025-07-30T14:21:16.195912Z"
    },
    "papermill": {
     "duration": 0.022383,
     "end_time": "2025-07-30T14:21:16.197952",
     "exception": false,
     "start_time": "2025-07-30T14:21:16.175569",
     "status": "completed"
    },
    "tags": []
   },
   "outputs": [],
   "source": [
    "cp_metrics_dict = {\n",
    "    \"universe_id\": [universe_id],\n",
    "    \"universe_training_size\": [universe_training_size],\n",
    "    \"universe_scale\": [universe_scale],\n",
    "    \"universe_model\": [universe_model],\n",
    "    \"universe_exclude_features\": [universe_exclude_features],\n",
    "    \"universe_exclude_subgroups\": [universe_exclude_subgroups],\n",
    "    \"q_hat\": [q_hat],\n",
    "    \"coverage\": [metrics[\"coverage\"]],\n",
    "    \"avg_size\": [metrics[\"avg_size\"]],\n",
    "}"
   ]
  },
  {
   "cell_type": "code",
   "execution_count": 59,
   "id": "908acbb1-0371-4915-85ca-3fa520d2efe2",
   "metadata": {
    "execution": {
     "iopub.execute_input": "2025-07-30T14:21:16.226738Z",
     "iopub.status.busy": "2025-07-30T14:21:16.226400Z",
     "iopub.status.idle": "2025-07-30T14:21:16.233851Z",
     "shell.execute_reply": "2025-07-30T14:21:16.232765Z"
    },
    "papermill": {
     "duration": 0.023472,
     "end_time": "2025-07-30T14:21:16.235914",
     "exception": false,
     "start_time": "2025-07-30T14:21:16.212442",
     "status": "completed"
    },
    "tags": []
   },
   "outputs": [
    {
     "data": {
      "text/plain": [
       "{'universe_id': ['bc49021564613065d12d51b1dc70614b'],\n",
       " 'universe_training_size': ['1k'],\n",
       " 'universe_scale': ['scale'],\n",
       " 'universe_model': ['rf'],\n",
       " 'universe_exclude_features': ['nationality'],\n",
       " 'universe_exclude_subgroups': ['drop-non-german'],\n",
       " 'q_hat': [0.6699999999999999],\n",
       " 'coverage': [0.9144354029651098],\n",
       " 'avg_size': [1.149448222048824]}"
      ]
     },
     "execution_count": 59,
     "metadata": {},
     "output_type": "execute_result"
    }
   ],
   "source": [
    "cp_metrics_dict"
   ]
  },
  {
   "cell_type": "code",
   "execution_count": 60,
   "id": "33007efc-14e9-4ec6-97ac-56a455c82265",
   "metadata": {
    "execution": {
     "iopub.execute_input": "2025-07-30T14:21:16.287804Z",
     "iopub.status.busy": "2025-07-30T14:21:16.287460Z",
     "iopub.status.idle": "2025-07-30T14:21:16.293266Z",
     "shell.execute_reply": "2025-07-30T14:21:16.292009Z"
    },
    "papermill": {
     "duration": 0.033752,
     "end_time": "2025-07-30T14:21:16.295042",
     "exception": false,
     "start_time": "2025-07-30T14:21:16.261290",
     "status": "completed"
    },
    "tags": []
   },
   "outputs": [],
   "source": [
    "cp_metrics_df = pd.DataFrame(cp_metrics_dict)"
   ]
  },
  {
   "cell_type": "code",
   "execution_count": 61,
   "id": "db12611b-57b2-4910-b9d0-355adfd6e7bf",
   "metadata": {
    "execution": {
     "iopub.execute_input": "2025-07-30T14:21:16.351971Z",
     "iopub.status.busy": "2025-07-30T14:21:16.351461Z",
     "iopub.status.idle": "2025-07-30T14:21:16.370853Z",
     "shell.execute_reply": "2025-07-30T14:21:16.370036Z"
    },
    "papermill": {
     "duration": 0.048989,
     "end_time": "2025-07-30T14:21:16.372232",
     "exception": false,
     "start_time": "2025-07-30T14:21:16.323243",
     "status": "completed"
    },
    "tags": []
   },
   "outputs": [
    {
     "data": {
      "text/html": [
       "<div>\n",
       "<style scoped>\n",
       "    .dataframe tbody tr th:only-of-type {\n",
       "        vertical-align: middle;\n",
       "    }\n",
       "\n",
       "    .dataframe tbody tr th {\n",
       "        vertical-align: top;\n",
       "    }\n",
       "\n",
       "    .dataframe thead th {\n",
       "        text-align: right;\n",
       "    }\n",
       "</style>\n",
       "<table border=\"1\" class=\"dataframe\">\n",
       "  <thead>\n",
       "    <tr style=\"text-align: right;\">\n",
       "      <th></th>\n",
       "      <th>universe_id</th>\n",
       "      <th>universe_training_size</th>\n",
       "      <th>universe_scale</th>\n",
       "      <th>universe_model</th>\n",
       "      <th>universe_exclude_features</th>\n",
       "      <th>universe_exclude_subgroups</th>\n",
       "      <th>q_hat</th>\n",
       "      <th>coverage</th>\n",
       "      <th>avg_size</th>\n",
       "    </tr>\n",
       "  </thead>\n",
       "  <tbody>\n",
       "    <tr>\n",
       "      <th>0</th>\n",
       "      <td>bc49021564613065d12d51b1dc70614b</td>\n",
       "      <td>1k</td>\n",
       "      <td>scale</td>\n",
       "      <td>rf</td>\n",
       "      <td>nationality</td>\n",
       "      <td>drop-non-german</td>\n",
       "      <td>0.67</td>\n",
       "      <td>0.914435</td>\n",
       "      <td>1.149448</td>\n",
       "    </tr>\n",
       "  </tbody>\n",
       "</table>\n",
       "</div>"
      ],
      "text/plain": [
       "                        universe_id universe_training_size universe_scale  \\\n",
       "0  bc49021564613065d12d51b1dc70614b                     1k          scale   \n",
       "\n",
       "  universe_model universe_exclude_features universe_exclude_subgroups  q_hat  \\\n",
       "0             rf               nationality            drop-non-german   0.67   \n",
       "\n",
       "   coverage  avg_size  \n",
       "0  0.914435  1.149448  "
      ]
     },
     "execution_count": 61,
     "metadata": {},
     "output_type": "execute_result"
    }
   ],
   "source": [
    "cp_metrics_df"
   ]
  },
  {
   "cell_type": "code",
   "execution_count": 62,
   "id": "b7fbde55-a0a1-47e4-9af6-fe4a17fa8c61",
   "metadata": {
    "execution": {
     "iopub.execute_input": "2025-07-30T14:21:16.401795Z",
     "iopub.status.busy": "2025-07-30T14:21:16.401457Z",
     "iopub.status.idle": "2025-07-30T14:21:16.405740Z",
     "shell.execute_reply": "2025-07-30T14:21:16.404966Z"
    },
    "papermill": {
     "duration": 0.019982,
     "end_time": "2025-07-30T14:21:16.407020",
     "exception": false,
     "start_time": "2025-07-30T14:21:16.387038",
     "status": "completed"
    },
    "tags": []
   },
   "outputs": [],
   "source": [
    "# Conditional Coverage & looking at subgroups"
   ]
  },
  {
   "cell_type": "code",
   "execution_count": 63,
   "id": "027ae886-68dd-4141-96c7-805a5450e1ef",
   "metadata": {
    "execution": {
     "iopub.execute_input": "2025-07-30T14:21:16.437938Z",
     "iopub.status.busy": "2025-07-30T14:21:16.437388Z",
     "iopub.status.idle": "2025-07-30T14:21:16.683479Z",
     "shell.execute_reply": "2025-07-30T14:21:16.682332Z"
    },
    "papermill": {
     "duration": 0.263873,
     "end_time": "2025-07-30T14:21:16.685564",
     "exception": false,
     "start_time": "2025-07-30T14:21:16.421691",
     "status": "completed"
    },
    "tags": []
   },
   "outputs": [],
   "source": [
    "from fairness_multiverse.conformal import build_cp_groups\n",
    "\n",
    "cp_groups_df = build_cp_groups(pred_sets, y_true, X_test.index, org_test)\n",
    "#needs universe_id and setting"
   ]
  },
  {
   "cell_type": "code",
   "execution_count": 64,
   "id": "01d5802c-663a-4d1f-9d69-e036faaffbf7",
   "metadata": {
    "execution": {
     "iopub.execute_input": "2025-07-30T14:21:16.716709Z",
     "iopub.status.busy": "2025-07-30T14:21:16.716015Z",
     "iopub.status.idle": "2025-07-30T14:21:16.720888Z",
     "shell.execute_reply": "2025-07-30T14:21:16.720061Z"
    },
    "papermill": {
     "duration": 0.021056,
     "end_time": "2025-07-30T14:21:16.722619",
     "exception": false,
     "start_time": "2025-07-30T14:21:16.701563",
     "status": "completed"
    },
    "tags": []
   },
   "outputs": [],
   "source": [
    "#delete\n",
    "#cp_groups_df"
   ]
  },
  {
   "cell_type": "code",
   "execution_count": 65,
   "id": "fa424af1-d1eb-443d-b717-2d279ada8408",
   "metadata": {
    "execution": {
     "iopub.execute_input": "2025-07-30T14:21:16.764363Z",
     "iopub.status.busy": "2025-07-30T14:21:16.763885Z",
     "iopub.status.idle": "2025-07-30T14:21:16.768707Z",
     "shell.execute_reply": "2025-07-30T14:21:16.767856Z"
    },
    "papermill": {
     "duration": 0.020966,
     "end_time": "2025-07-30T14:21:16.770218",
     "exception": false,
     "start_time": "2025-07-30T14:21:16.749252",
     "status": "completed"
    },
    "tags": []
   },
   "outputs": [],
   "source": [
    "#delete\n",
    "#percentage = (cp_groups_df['nongerman_female'] == 1).mean() * 100\n",
    "#print(percentage)\n"
   ]
  },
  {
   "cell_type": "code",
   "execution_count": 66,
   "id": "6cbdab96-b2b2-45af-ad54-d0516db2e28d",
   "metadata": {
    "execution": {
     "iopub.execute_input": "2025-07-30T14:21:16.822841Z",
     "iopub.status.busy": "2025-07-30T14:21:16.822464Z",
     "iopub.status.idle": "2025-07-30T14:21:18.167601Z",
     "shell.execute_reply": "2025-07-30T14:21:18.166674Z"
    },
    "papermill": {
     "duration": 1.373336,
     "end_time": "2025-07-30T14:21:18.169363",
     "exception": false,
     "start_time": "2025-07-30T14:21:16.796027",
     "status": "completed"
    },
    "tags": []
   },
   "outputs": [],
   "source": [
    "# Define covered = 1 if true_label is in the predicted set\n",
    "cp_groups_df['covered'] = cp_groups_df.apply(\n",
    "    lambda r: int(r['true_label'] in r['pred_set']),\n",
    "    axis=1\n",
    ")"
   ]
  },
  {
   "cell_type": "code",
   "execution_count": 67,
   "id": "338ff529-1a6b-4b87-a931-8e4788d52aad",
   "metadata": {
    "execution": {
     "iopub.execute_input": "2025-07-30T14:21:18.220205Z",
     "iopub.status.busy": "2025-07-30T14:21:18.219730Z",
     "iopub.status.idle": "2025-07-30T14:21:18.224539Z",
     "shell.execute_reply": "2025-07-30T14:21:18.223646Z"
    },
    "papermill": {
     "duration": 0.032075,
     "end_time": "2025-07-30T14:21:18.226159",
     "exception": false,
     "start_time": "2025-07-30T14:21:18.194084",
     "status": "completed"
    },
    "tags": []
   },
   "outputs": [],
   "source": [
    "#cp_groups_df"
   ]
  },
  {
   "cell_type": "code",
   "execution_count": 68,
   "id": "90032e27-66df-4540-9169-4e89cfbaa758",
   "metadata": {
    "execution": {
     "iopub.execute_input": "2025-07-30T14:21:18.281425Z",
     "iopub.status.busy": "2025-07-30T14:21:18.280966Z",
     "iopub.status.idle": "2025-07-30T14:21:18.292635Z",
     "shell.execute_reply": "2025-07-30T14:21:18.291498Z"
    },
    "papermill": {
     "duration": 0.040516,
     "end_time": "2025-07-30T14:21:18.294461",
     "exception": false,
     "start_time": "2025-07-30T14:21:18.253945",
     "status": "completed"
    },
    "tags": []
   },
   "outputs": [],
   "source": [
    "subgroups = ['frau1','nongerman','nongerman_male','nongerman_female']\n",
    "\n",
    "# Conditional coverage for subgroup==1\n",
    "cond_coverage = {\n",
    "    g: cp_groups_df.loc[cp_groups_df[g]==1, 'covered'].mean()\n",
    "    for g in subgroups\n",
    "}"
   ]
  },
  {
   "cell_type": "code",
   "execution_count": 69,
   "id": "1e348fb1-b9c3-45bc-ba23-f016827a7e0d",
   "metadata": {
    "execution": {
     "iopub.execute_input": "2025-07-30T14:21:18.349393Z",
     "iopub.status.busy": "2025-07-30T14:21:18.348913Z",
     "iopub.status.idle": "2025-07-30T14:21:18.356209Z",
     "shell.execute_reply": "2025-07-30T14:21:18.355103Z"
    },
    "papermill": {
     "duration": 0.035599,
     "end_time": "2025-07-30T14:21:18.357815",
     "exception": false,
     "start_time": "2025-07-30T14:21:18.322216",
     "status": "completed"
    },
    "tags": []
   },
   "outputs": [
    {
     "data": {
      "text/plain": [
       "{'frau1': 0.9105809408276048,\n",
       " 'nongerman': 0.9076517150395779,\n",
       " 'nongerman_male': 0.9261460866432496,\n",
       " 'nongerman_female': 0.8770491803278688}"
      ]
     },
     "execution_count": 69,
     "metadata": {},
     "output_type": "execute_result"
    }
   ],
   "source": [
    "cond_coverage"
   ]
  },
  {
   "cell_type": "code",
   "execution_count": 70,
   "id": "f5093324-c3dd-4d63-bc4c-8d945e5c8bbb",
   "metadata": {
    "execution": {
     "iopub.execute_input": "2025-07-30T14:21:18.414741Z",
     "iopub.status.busy": "2025-07-30T14:21:18.414282Z",
     "iopub.status.idle": "2025-07-30T14:21:18.421534Z",
     "shell.execute_reply": "2025-07-30T14:21:18.420552Z"
    },
    "papermill": {
     "duration": 0.037393,
     "end_time": "2025-07-30T14:21:18.423205",
     "exception": false,
     "start_time": "2025-07-30T14:21:18.385812",
     "status": "completed"
    },
    "tags": []
   },
   "outputs": [],
   "source": [
    "for subgroup, cov in cond_coverage.items():\n",
    "    cp_metrics_df[f\"cov_{subgroup}\"] = cov"
   ]
  },
  {
   "cell_type": "code",
   "execution_count": 71,
   "id": "6e872e10-dbe5-49e8-b554-5030c98ff75d",
   "metadata": {
    "execution": {
     "iopub.execute_input": "2025-07-30T14:21:18.477543Z",
     "iopub.status.busy": "2025-07-30T14:21:18.476715Z",
     "iopub.status.idle": "2025-07-30T14:21:18.495334Z",
     "shell.execute_reply": "2025-07-30T14:21:18.494422Z"
    },
    "papermill": {
     "duration": 0.047305,
     "end_time": "2025-07-30T14:21:18.497145",
     "exception": false,
     "start_time": "2025-07-30T14:21:18.449840",
     "status": "completed"
    },
    "tags": []
   },
   "outputs": [
    {
     "data": {
      "text/html": [
       "<div>\n",
       "<style scoped>\n",
       "    .dataframe tbody tr th:only-of-type {\n",
       "        vertical-align: middle;\n",
       "    }\n",
       "\n",
       "    .dataframe tbody tr th {\n",
       "        vertical-align: top;\n",
       "    }\n",
       "\n",
       "    .dataframe thead th {\n",
       "        text-align: right;\n",
       "    }\n",
       "</style>\n",
       "<table border=\"1\" class=\"dataframe\">\n",
       "  <thead>\n",
       "    <tr style=\"text-align: right;\">\n",
       "      <th></th>\n",
       "      <th>universe_id</th>\n",
       "      <th>universe_training_size</th>\n",
       "      <th>universe_scale</th>\n",
       "      <th>universe_model</th>\n",
       "      <th>universe_exclude_features</th>\n",
       "      <th>universe_exclude_subgroups</th>\n",
       "      <th>q_hat</th>\n",
       "      <th>coverage</th>\n",
       "      <th>avg_size</th>\n",
       "      <th>cov_frau1</th>\n",
       "      <th>cov_nongerman</th>\n",
       "      <th>cov_nongerman_male</th>\n",
       "      <th>cov_nongerman_female</th>\n",
       "    </tr>\n",
       "  </thead>\n",
       "  <tbody>\n",
       "    <tr>\n",
       "      <th>0</th>\n",
       "      <td>bc49021564613065d12d51b1dc70614b</td>\n",
       "      <td>1k</td>\n",
       "      <td>scale</td>\n",
       "      <td>rf</td>\n",
       "      <td>nationality</td>\n",
       "      <td>drop-non-german</td>\n",
       "      <td>0.67</td>\n",
       "      <td>0.914435</td>\n",
       "      <td>1.149448</td>\n",
       "      <td>0.910581</td>\n",
       "      <td>0.907652</td>\n",
       "      <td>0.926146</td>\n",
       "      <td>0.877049</td>\n",
       "    </tr>\n",
       "  </tbody>\n",
       "</table>\n",
       "</div>"
      ],
      "text/plain": [
       "                        universe_id universe_training_size universe_scale  \\\n",
       "0  bc49021564613065d12d51b1dc70614b                     1k          scale   \n",
       "\n",
       "  universe_model universe_exclude_features universe_exclude_subgroups  q_hat  \\\n",
       "0             rf               nationality            drop-non-german   0.67   \n",
       "\n",
       "   coverage  avg_size  cov_frau1  cov_nongerman  cov_nongerman_male  \\\n",
       "0  0.914435  1.149448   0.910581       0.907652            0.926146   \n",
       "\n",
       "   cov_nongerman_female  \n",
       "0              0.877049  "
      ]
     },
     "execution_count": 71,
     "metadata": {},
     "output_type": "execute_result"
    }
   ],
   "source": [
    "cp_metrics_df"
   ]
  },
  {
   "cell_type": "markdown",
   "id": "33774451",
   "metadata": {
    "papermill": {
     "duration": 0.026717,
     "end_time": "2025-07-30T14:21:18.552870",
     "exception": false,
     "start_time": "2025-07-30T14:21:18.526153",
     "status": "completed"
    },
    "tags": []
   },
   "source": [
    "# (Fairness) Metrics"
   ]
  },
  {
   "cell_type": "code",
   "execution_count": 72,
   "id": "debc5d62",
   "metadata": {
    "execution": {
     "iopub.execute_input": "2025-07-30T14:21:18.608526Z",
     "iopub.status.busy": "2025-07-30T14:21:18.607997Z",
     "iopub.status.idle": "2025-07-30T14:21:18.630002Z",
     "shell.execute_reply": "2025-07-30T14:21:18.629096Z"
    },
    "papermill": {
     "duration": 0.050939,
     "end_time": "2025-07-30T14:21:18.631736",
     "exception": false,
     "start_time": "2025-07-30T14:21:18.580797",
     "status": "completed"
    },
    "tags": []
   },
   "outputs": [],
   "source": [
    "# do I need to include maxdeutsch1.missing?\n",
    "\n",
    "import numpy as np\n",
    "\n",
    "colname_to_bin = \"maxdeutsch1\"\n",
    "majority_value = org_train[colname_to_bin].mode()[0]\n",
    "\n",
    "org_test[\"majmin\"] = np.where(org_test[colname_to_bin] == majority_value, \"majority\", \"minority\")"
   ]
  },
  {
   "cell_type": "code",
   "execution_count": 73,
   "id": "06a50de5",
   "metadata": {
    "execution": {
     "iopub.execute_input": "2025-07-30T14:21:18.688119Z",
     "iopub.status.busy": "2025-07-30T14:21:18.687282Z",
     "iopub.status.idle": "2025-07-30T14:21:21.561508Z",
     "shell.execute_reply": "2025-07-30T14:21:21.560537Z"
    },
    "papermill": {
     "duration": 2.904576,
     "end_time": "2025-07-30T14:21:21.563571",
     "exception": false,
     "start_time": "2025-07-30T14:21:18.658995",
     "status": "completed"
    },
    "tags": []
   },
   "outputs": [],
   "source": [
    "example_universe = universe.copy()\n",
    "example_universe[\"cutoff\"] = example_universe[\"cutoff\"][0]\n",
    "example_universe[\"eval_fairness_grouping\"] = example_universe[\"eval_fairness_grouping\"][0]\n",
    "fairness_dict, metric_frame = universe_analysis.compute_metrics(\n",
    "    example_universe,\n",
    "    y_pred_prob=probs_test,\n",
    "    y_test=y_true,\n",
    "    org_test=org_test,\n",
    ")"
   ]
  },
  {
   "cell_type": "markdown",
   "id": "f95d4e02",
   "metadata": {
    "papermill": {
     "duration": 0.029856,
     "end_time": "2025-07-30T14:21:21.623523",
     "exception": false,
     "start_time": "2025-07-30T14:21:21.593667",
     "status": "completed"
    },
    "tags": []
   },
   "source": [
    "# Overall"
   ]
  },
  {
   "cell_type": "markdown",
   "id": "bdee4871",
   "metadata": {
    "papermill": {
     "duration": 0.028824,
     "end_time": "2025-07-30T14:21:21.680083",
     "exception": false,
     "start_time": "2025-07-30T14:21:21.651259",
     "status": "completed"
    },
    "tags": []
   },
   "source": [
    "Fairness\n",
    "Main fairness target: Equalized Odds. Seems to be a better fit than equal opportunity, since we're not only interested in Y = 1. Seems to be a better fit than demographic parity, since we also care about accuracy, not just equal distribution of preds.\n",
    "\n",
    "Pick column for computation of fairness metrics\n",
    "\n",
    "Performance\n",
    "Overall performance measures, most interesting in relation to the measures split by group below"
   ]
  },
  {
   "cell_type": "code",
   "execution_count": 74,
   "id": "c4e067c6",
   "metadata": {
    "execution": {
     "iopub.execute_input": "2025-07-30T14:21:21.737593Z",
     "iopub.status.busy": "2025-07-30T14:21:21.737126Z",
     "iopub.status.idle": "2025-07-30T14:21:21.745505Z",
     "shell.execute_reply": "2025-07-30T14:21:21.744548Z"
    },
    "papermill": {
     "duration": 0.038674,
     "end_time": "2025-07-30T14:21:21.747277",
     "exception": false,
     "start_time": "2025-07-30T14:21:21.708603",
     "status": "completed"
    },
    "tags": []
   },
   "outputs": [
    {
     "data": {
      "text/plain": [
       "accuracy                   0.196667\n",
       "balanced accuracy          0.532556\n",
       "f1                         0.239182\n",
       "precision                  0.136129\n",
       "false positive rate        0.919248\n",
       "false negative rate        0.015641\n",
       "selection rate             0.927600\n",
       "count                  89710.000000\n",
       "dtype: float64"
      ]
     },
     "execution_count": 74,
     "metadata": {},
     "output_type": "execute_result"
    }
   ],
   "source": [
    "metric_frame.overall"
   ]
  },
  {
   "cell_type": "markdown",
   "id": "e968fe9d",
   "metadata": {
    "papermill": {
     "duration": 0.026557,
     "end_time": "2025-07-30T14:21:21.802013",
     "exception": false,
     "start_time": "2025-07-30T14:21:21.775456",
     "status": "completed"
    },
    "tags": []
   },
   "source": [
    "By Group"
   ]
  },
  {
   "cell_type": "code",
   "execution_count": 75,
   "id": "ec325bce",
   "metadata": {
    "execution": {
     "iopub.execute_input": "2025-07-30T14:21:21.857661Z",
     "iopub.status.busy": "2025-07-30T14:21:21.857189Z",
     "iopub.status.idle": "2025-07-30T14:21:21.873405Z",
     "shell.execute_reply": "2025-07-30T14:21:21.872428Z"
    },
    "papermill": {
     "duration": 0.046582,
     "end_time": "2025-07-30T14:21:21.875114",
     "exception": false,
     "start_time": "2025-07-30T14:21:21.828532",
     "status": "completed"
    },
    "tags": []
   },
   "outputs": [
    {
     "data": {
      "text/html": [
       "<div>\n",
       "<style scoped>\n",
       "    .dataframe tbody tr th:only-of-type {\n",
       "        vertical-align: middle;\n",
       "    }\n",
       "\n",
       "    .dataframe tbody tr th {\n",
       "        vertical-align: top;\n",
       "    }\n",
       "\n",
       "    .dataframe thead th {\n",
       "        text-align: right;\n",
       "    }\n",
       "</style>\n",
       "<table border=\"1\" class=\"dataframe\">\n",
       "  <thead>\n",
       "    <tr style=\"text-align: right;\">\n",
       "      <th></th>\n",
       "      <th>accuracy</th>\n",
       "      <th>balanced accuracy</th>\n",
       "      <th>f1</th>\n",
       "      <th>precision</th>\n",
       "      <th>false positive rate</th>\n",
       "      <th>false negative rate</th>\n",
       "      <th>selection rate</th>\n",
       "      <th>count</th>\n",
       "    </tr>\n",
       "    <tr>\n",
       "      <th>majmin</th>\n",
       "      <th></th>\n",
       "      <th></th>\n",
       "      <th></th>\n",
       "      <th></th>\n",
       "      <th></th>\n",
       "      <th></th>\n",
       "      <th></th>\n",
       "      <th></th>\n",
       "    </tr>\n",
       "  </thead>\n",
       "  <tbody>\n",
       "    <tr>\n",
       "      <th>majority</th>\n",
       "      <td>0.201735</td>\n",
       "      <td>0.534671</td>\n",
       "      <td>0.246321</td>\n",
       "      <td>0.140716</td>\n",
       "      <td>0.917858</td>\n",
       "      <td>0.012801</td>\n",
       "      <td>0.927020</td>\n",
       "      <td>69170.0</td>\n",
       "    </tr>\n",
       "    <tr>\n",
       "      <th>minority</th>\n",
       "      <td>0.179601</td>\n",
       "      <td>0.524778</td>\n",
       "      <td>0.214808</td>\n",
       "      <td>0.120725</td>\n",
       "      <td>0.923839</td>\n",
       "      <td>0.026605</td>\n",
       "      <td>0.929552</td>\n",
       "      <td>20540.0</td>\n",
       "    </tr>\n",
       "  </tbody>\n",
       "</table>\n",
       "</div>"
      ],
      "text/plain": [
       "          accuracy  balanced accuracy        f1  precision  \\\n",
       "majmin                                                       \n",
       "majority  0.201735           0.534671  0.246321   0.140716   \n",
       "minority  0.179601           0.524778  0.214808   0.120725   \n",
       "\n",
       "          false positive rate  false negative rate  selection rate    count  \n",
       "majmin                                                                       \n",
       "majority             0.917858             0.012801        0.927020  69170.0  \n",
       "minority             0.923839             0.026605        0.929552  20540.0  "
      ]
     },
     "execution_count": 75,
     "metadata": {},
     "output_type": "execute_result"
    }
   ],
   "source": [
    "metric_frame.by_group"
   ]
  },
  {
   "cell_type": "code",
   "execution_count": 76,
   "id": "a9ddbe63",
   "metadata": {
    "execution": {
     "iopub.execute_input": "2025-07-30T14:21:21.936201Z",
     "iopub.status.busy": "2025-07-30T14:21:21.935471Z",
     "iopub.status.idle": "2025-07-30T14:21:24.007372Z",
     "shell.execute_reply": "2025-07-30T14:21:24.006598Z"
    },
    "papermill": {
     "duration": 2.103124,
     "end_time": "2025-07-30T14:21:24.008986",
     "exception": false,
     "start_time": "2025-07-30T14:21:21.905862",
     "status": "completed"
    },
    "tags": []
   },
   "outputs": [
    {
     "data": {
      "text/plain": [
       "array([[<Axes: title={'center': 'accuracy'}, xlabel='majmin'>,\n",
       "        <Axes: title={'center': 'balanced accuracy'}, xlabel='majmin'>,\n",
       "        <Axes: title={'center': 'f1'}, xlabel='majmin'>],\n",
       "       [<Axes: title={'center': 'precision'}, xlabel='majmin'>,\n",
       "        <Axes: title={'center': 'false positive rate'}, xlabel='majmin'>,\n",
       "        <Axes: title={'center': 'false negative rate'}, xlabel='majmin'>],\n",
       "       [<Axes: title={'center': 'selection rate'}, xlabel='majmin'>,\n",
       "        <Axes: title={'center': 'count'}, xlabel='majmin'>,\n",
       "        <Axes: xlabel='majmin'>]], dtype=object)"
      ]
     },
     "execution_count": 76,
     "metadata": {},
     "output_type": "execute_result"
    },
    {
     "data": {
      "image/png": "[encoded data removed]",
      "text/plain": [
       "<Figure size 1200x800 with 9 Axes>"
      ]
     },
     "metadata": {},
     "output_type": "display_data"
    }
   ],
   "source": [
    "# In a graphic\n",
    "metric_frame.by_group.plot.bar(\n",
    "    subplots=True,\n",
    "    layout=[3, 3],\n",
    "    legend=False,\n",
    "    figsize=[12, 8],\n",
    "    title=\"Show all metrics\",\n",
    ")"
   ]
  },
  {
   "cell_type": "markdown",
   "id": "f57a0bac",
   "metadata": {
    "papermill": {
     "duration": 0.028944,
     "end_time": "2025-07-30T14:21:24.070612",
     "exception": false,
     "start_time": "2025-07-30T14:21:24.041668",
     "status": "completed"
    },
    "tags": []
   },
   "source": [
    "# Final Output"
   ]
  },
  {
   "cell_type": "code",
   "execution_count": 77,
   "id": "96d280a3",
   "metadata": {
    "execution": {
     "iopub.execute_input": "2025-07-30T14:21:24.135881Z",
     "iopub.status.busy": "2025-07-30T14:21:24.135284Z",
     "iopub.status.idle": "2025-07-30T14:21:24.143184Z",
     "shell.execute_reply": "2025-07-30T14:21:24.142304Z"
    },
    "papermill": {
     "duration": 0.042803,
     "end_time": "2025-07-30T14:21:24.144571",
     "exception": false,
     "start_time": "2025-07-30T14:21:24.101768",
     "status": "completed"
    },
    "tags": []
   },
   "outputs": [
    {
     "data": {
      "text/plain": [
       "4"
      ]
     },
     "execution_count": 77,
     "metadata": {},
     "output_type": "execute_result"
    }
   ],
   "source": [
    "sub_universes = universe_analysis.generate_sub_universes()\n",
    "len(sub_universes)"
   ]
  },
  {
   "cell_type": "code",
   "execution_count": 78,
   "id": "92adf7ba",
   "metadata": {
    "execution": {
     "iopub.execute_input": "2025-07-30T14:21:24.179584Z",
     "iopub.status.busy": "2025-07-30T14:21:24.179280Z",
     "iopub.status.idle": "2025-07-30T14:21:24.191582Z",
     "shell.execute_reply": "2025-07-30T14:21:24.190410Z"
    },
    "papermill": {
     "duration": 0.03175,
     "end_time": "2025-07-30T14:21:24.193574",
     "exception": false,
     "start_time": "2025-07-30T14:21:24.161824",
     "status": "completed"
    },
    "tags": []
   },
   "outputs": [],
   "source": [
    "def filter_sub_universe_data(sub_universe, org_test):\n",
    "    # Keep all rows — no filtering\n",
    "    keep_rows_mask = np.ones(org_test.shape[0], dtype=bool)\n",
    "\n",
    "    print(f\"[INFO] Keeping all rows: {keep_rows_mask.sum()} rows retained.\")\n",
    "    return keep_rows_mask"
   ]
  },
  {
   "cell_type": "code",
   "execution_count": 79,
   "id": "4a759155",
   "metadata": {
    "execution": {
     "iopub.execute_input": "2025-07-30T14:21:24.258340Z",
     "iopub.status.busy": "2025-07-30T14:21:24.257699Z",
     "iopub.status.idle": "2025-07-30T14:21:35.669032Z",
     "shell.execute_reply": "2025-07-30T14:21:35.660132Z"
    },
    "papermill": {
     "duration": 11.445013,
     "end_time": "2025-07-30T14:21:35.671115",
     "exception": false,
     "start_time": "2025-07-30T14:21:24.226102",
     "status": "completed"
    },
    "tags": []
   },
   "outputs": [
    {
     "name": "stdout",
     "output_type": "stream",
     "text": [
      "Stopping execution_time clock.\n",
      "[INFO] Keeping all rows: 89710 rows retained.\n"
     ]
    },
    {
     "name": "stdout",
     "output_type": "stream",
     "text": [
      "[INFO] Keeping all rows: 89710 rows retained.\n"
     ]
    },
    {
     "name": "stdout",
     "output_type": "stream",
     "text": [
      "[INFO] Keeping all rows: 89710 rows retained.\n"
     ]
    },
    {
     "name": "stdout",
     "output_type": "stream",
     "text": [
      "[INFO] Keeping all rows: 89710 rows retained.\n"
     ]
    },
    {
     "data": {
      "text/html": [
       "<div>\n",
       "<style scoped>\n",
       "    .dataframe tbody tr th:only-of-type {\n",
       "        vertical-align: middle;\n",
       "    }\n",
       "\n",
       "    .dataframe tbody tr th {\n",
       "        vertical-align: top;\n",
       "    }\n",
       "\n",
       "    .dataframe thead th {\n",
       "        text-align: right;\n",
       "    }\n",
       "</style>\n",
       "<table border=\"1\" class=\"dataframe\">\n",
       "  <thead>\n",
       "    <tr style=\"text-align: right;\">\n",
       "      <th></th>\n",
       "      <th>run_no</th>\n",
       "      <th>universe_id</th>\n",
       "      <th>universe_settings</th>\n",
       "      <th>execution_time</th>\n",
       "      <th>test_size_n</th>\n",
       "      <th>test_size_frac</th>\n",
       "      <th>fair_main_equalized_odds_difference</th>\n",
       "      <th>fair_main_equalized_odds_ratio</th>\n",
       "      <th>fair_main_demographic_parity_difference</th>\n",
       "      <th>fair_main_demographic_parity_ratio</th>\n",
       "      <th>...</th>\n",
       "      <th>perf_grp_precision_0</th>\n",
       "      <th>perf_grp_precision_1</th>\n",
       "      <th>perf_grp_false positive rate_0</th>\n",
       "      <th>perf_grp_false positive rate_1</th>\n",
       "      <th>perf_grp_false negative rate_0</th>\n",
       "      <th>perf_grp_false negative rate_1</th>\n",
       "      <th>perf_grp_selection rate_0</th>\n",
       "      <th>perf_grp_selection rate_1</th>\n",
       "      <th>perf_grp_count_0</th>\n",
       "      <th>perf_grp_count_1</th>\n",
       "    </tr>\n",
       "  </thead>\n",
       "  <tbody>\n",
       "    <tr>\n",
       "      <th>0</th>\n",
       "      <td>12</td>\n",
       "      <td>bc49021564613065d12d51b1dc70614b</td>\n",
       "      <td>{\"cutoff\": \"quantile_0.1\", \"eval_fairness_grou...</td>\n",
       "      <td>27.008309</td>\n",
       "      <td>89710</td>\n",
       "      <td>1.0</td>\n",
       "      <td>0.013804</td>\n",
       "      <td>0.986017</td>\n",
       "      <td>0.002532</td>\n",
       "      <td>0.997276</td>\n",
       "      <td>...</td>\n",
       "      <td>NaN</td>\n",
       "      <td>NaN</td>\n",
       "      <td>NaN</td>\n",
       "      <td>NaN</td>\n",
       "      <td>NaN</td>\n",
       "      <td>NaN</td>\n",
       "      <td>NaN</td>\n",
       "      <td>NaN</td>\n",
       "      <td>NaN</td>\n",
       "      <td>NaN</td>\n",
       "    </tr>\n",
       "    <tr>\n",
       "      <th>0</th>\n",
       "      <td>12</td>\n",
       "      <td>bc49021564613065d12d51b1dc70614b</td>\n",
       "      <td>{\"cutoff\": \"quantile_0.1\", \"eval_fairness_grou...</td>\n",
       "      <td>27.008309</td>\n",
       "      <td>89710</td>\n",
       "      <td>1.0</td>\n",
       "      <td>0.013804</td>\n",
       "      <td>0.986017</td>\n",
       "      <td>0.002532</td>\n",
       "      <td>0.997276</td>\n",
       "      <td>...</td>\n",
       "      <td>0.120725</td>\n",
       "      <td>0.140716</td>\n",
       "      <td>0.923839</td>\n",
       "      <td>0.917858</td>\n",
       "      <td>0.026605</td>\n",
       "      <td>0.012801</td>\n",
       "      <td>0.929552</td>\n",
       "      <td>0.927020</td>\n",
       "      <td>20540.0</td>\n",
       "      <td>69170.0</td>\n",
       "    </tr>\n",
       "    <tr>\n",
       "      <th>0</th>\n",
       "      <td>12</td>\n",
       "      <td>bc49021564613065d12d51b1dc70614b</td>\n",
       "      <td>{\"cutoff\": \"quantile_0.25\", \"eval_fairness_gro...</td>\n",
       "      <td>27.008309</td>\n",
       "      <td>89710</td>\n",
       "      <td>1.0</td>\n",
       "      <td>0.054001</td>\n",
       "      <td>0.942629</td>\n",
       "      <td>0.000600</td>\n",
       "      <td>0.999217</td>\n",
       "      <td>...</td>\n",
       "      <td>NaN</td>\n",
       "      <td>NaN</td>\n",
       "      <td>NaN</td>\n",
       "      <td>NaN</td>\n",
       "      <td>NaN</td>\n",
       "      <td>NaN</td>\n",
       "      <td>NaN</td>\n",
       "      <td>NaN</td>\n",
       "      <td>NaN</td>\n",
       "      <td>NaN</td>\n",
       "    </tr>\n",
       "    <tr>\n",
       "      <th>0</th>\n",
       "      <td>12</td>\n",
       "      <td>bc49021564613065d12d51b1dc70614b</td>\n",
       "      <td>{\"cutoff\": \"quantile_0.25\", \"eval_fairness_gro...</td>\n",
       "      <td>27.008309</td>\n",
       "      <td>89710</td>\n",
       "      <td>1.0</td>\n",
       "      <td>0.054001</td>\n",
       "      <td>0.942629</td>\n",
       "      <td>0.000600</td>\n",
       "      <td>0.999217</td>\n",
       "      <td>...</td>\n",
       "      <td>0.133600</td>\n",
       "      <td>0.162321</td>\n",
       "      <td>0.749780</td>\n",
       "      <td>0.739580</td>\n",
       "      <td>0.112753</td>\n",
       "      <td>0.058753</td>\n",
       "      <td>0.765628</td>\n",
       "      <td>0.766228</td>\n",
       "      <td>20540.0</td>\n",
       "      <td>69170.0</td>\n",
       "    </tr>\n",
       "  </tbody>\n",
       "</table>\n",
       "<p>4 rows × 50 columns</p>\n",
       "</div>"
      ],
      "text/plain": [
       "  run_no                       universe_id  \\\n",
       "0     12  bc49021564613065d12d51b1dc70614b   \n",
       "0     12  bc49021564613065d12d51b1dc70614b   \n",
       "0     12  bc49021564613065d12d51b1dc70614b   \n",
       "0     12  bc49021564613065d12d51b1dc70614b   \n",
       "\n",
       "                                   universe_settings  execution_time  \\\n",
       "0  {\"cutoff\": \"quantile_0.1\", \"eval_fairness_grou...       27.008309   \n",
       "0  {\"cutoff\": \"quantile_0.1\", \"eval_fairness_grou...       27.008309   \n",
       "0  {\"cutoff\": \"quantile_0.25\", \"eval_fairness_gro...       27.008309   \n",
       "0  {\"cutoff\": \"quantile_0.25\", \"eval_fairness_gro...       27.008309   \n",
       "\n",
       "   test_size_n  test_size_frac  fair_main_equalized_odds_difference  \\\n",
       "0        89710             1.0                             0.013804   \n",
       "0        89710             1.0                             0.013804   \n",
       "0        89710             1.0                             0.054001   \n",
       "0        89710             1.0                             0.054001   \n",
       "\n",
       "   fair_main_equalized_odds_ratio  fair_main_demographic_parity_difference  \\\n",
       "0                        0.986017                                 0.002532   \n",
       "0                        0.986017                                 0.002532   \n",
       "0                        0.942629                                 0.000600   \n",
       "0                        0.942629                                 0.000600   \n",
       "\n",
       "   fair_main_demographic_parity_ratio  ...  perf_grp_precision_0  \\\n",
       "0                            0.997276  ...                   NaN   \n",
       "0                            0.997276  ...              0.120725   \n",
       "0                            0.999217  ...                   NaN   \n",
       "0                            0.999217  ...              0.133600   \n",
       "\n",
       "   perf_grp_precision_1  perf_grp_false positive rate_0  \\\n",
       "0                   NaN                             NaN   \n",
       "0              0.140716                        0.923839   \n",
       "0                   NaN                             NaN   \n",
       "0              0.162321                        0.749780   \n",
       "\n",
       "   perf_grp_false positive rate_1  perf_grp_false negative rate_0  \\\n",
       "0                             NaN                             NaN   \n",
       "0                        0.917858                        0.026605   \n",
       "0                             NaN                             NaN   \n",
       "0                        0.739580                        0.112753   \n",
       "\n",
       "   perf_grp_false negative rate_1  perf_grp_selection rate_0  \\\n",
       "0                             NaN                        NaN   \n",
       "0                        0.012801                   0.929552   \n",
       "0                             NaN                        NaN   \n",
       "0                        0.058753                   0.765628   \n",
       "\n",
       "   perf_grp_selection rate_1  perf_grp_count_0  perf_grp_count_1  \n",
       "0                        NaN               NaN               NaN  \n",
       "0                   0.927020           20540.0           69170.0  \n",
       "0                        NaN               NaN               NaN  \n",
       "0                   0.766228           20540.0           69170.0  \n",
       "\n",
       "[4 rows x 50 columns]"
      ]
     },
     "execution_count": 79,
     "metadata": {},
     "output_type": "execute_result"
    }
   ],
   "source": [
    "final_output = universe_analysis.generate_final_output(\n",
    "    y_pred_prob=probs_test,\n",
    "    y_test=y_true,\n",
    "    org_test=org_test,\n",
    "    filter_data=filter_sub_universe_data,\n",
    "    cp_metrics_df=cp_metrics_df,\n",
    "    save=True,\n",
    ")\n",
    "final_output"
   ]
  },
  {
   "cell_type": "code",
   "execution_count": null,
   "id": "721ff514-cb11-46f8-b6fc-50392f74b5cb",
   "metadata": {
    "papermill": {
     "duration": 0.034325,
     "end_time": "2025-07-30T14:21:35.737890",
     "exception": false,
     "start_time": "2025-07-30T14:21:35.703565",
     "status": "completed"
    },
    "tags": []
   },
   "outputs": [],
   "source": []
  }
 ],
 "metadata": {
  "celltoolbar": "Tags",
  "kernelspec": {
   "display_name": "Python (CMA Fairness)",
   "language": "python",
   "name": "cma_fair_env"
  },
  "language_info": {
   "codemirror_mode": {
    "name": "ipython",
    "version": 3
   },
   "file_extension": ".py",
   "mimetype": "text/x-python",
   "name": "python",
   "nbconvert_exporter": "python",
   "pygments_lexer": "ipython3",
   "version": "3.10.12"
  },
  "papermill": {
   "default_parameters": {},
   "duration": 43.072692,
   "end_time": "2025-07-30T14:21:36.493123",
   "environment_variables": {},
   "exception": null,
   "input_path": "universe_analysis.ipynb",
   "output_path": "output/runs/12/notebooks/m_12-bc49021564613065d12d51b1dc70614b.ipynb",
   "parameters": {
    "output_dir": "output",
    "run_no": "12",
    "seed": "2023",
    "universe": "{\"cutoff\": [\"quantile_0.1\", \"quantile_0.25\"], \"eval_fairness_grouping\": [\"majority-minority\", \"nationality-all\"], \"exclude_features\": \"nationality\", \"exclude_subgroups\": \"drop-non-german\", \"model\": \"rf\", \"scale\": \"scale\", \"training_size\": \"1k\", \"training_year\": \"2014\"}",
    "universe_id": "bc49021564613065d12d51b1dc70614b"
   },
   "start_time": "2025-07-30T14:20:53.420431",
   "version": "2.6.0"
  }
 },
 "nbformat": 4,
 "nbformat_minor": 5
}