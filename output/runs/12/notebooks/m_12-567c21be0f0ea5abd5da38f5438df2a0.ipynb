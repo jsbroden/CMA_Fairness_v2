{
 "cells": [
  {
   "cell_type": "code",
   "execution_count": 1,
   "id": "f159f837-637b-42ba-96b5-ec9a68c44524",
   "metadata": {
    "execution": {
     "iopub.execute_input": "2025-07-30T13:49:09.123401Z",
     "iopub.status.busy": "2025-07-30T13:49:09.122816Z",
     "iopub.status.idle": "2025-07-30T13:49:09.138680Z",
     "shell.execute_reply": "2025-07-30T13:49:09.137601Z"
    },
    "papermill": {
     "duration": 0.030598,
     "end_time": "2025-07-30T13:49:09.141405",
     "exception": false,
     "start_time": "2025-07-30T13:49:09.110807",
     "status": "completed"
    },
    "tags": []
   },
   "outputs": [
    {
     "name": "stdout",
     "output_type": "stream",
     "text": [
      "/dss/dsshome1/0C/ra93lal2/cma/CMA_Fairness_v2\n"
     ]
    },
    {
     "name": "stderr",
     "output_type": "stream",
     "text": [
      "/dss/dsshome1/0C/ra93lal2/.local/share/virtualenvs/CMA_Fairness_v2-3j10GkSs/lib/python3.10/site-packages/IPython/core/magics/osm.py:393: UserWarning: This is now an optional IPython functionality, using bookmarks requires you to install the `pickleshare` library.\n",
      "  bkms = self.shell.db.get('bookmarks', {})\n",
      "/dss/dsshome1/0C/ra93lal2/.local/share/virtualenvs/CMA_Fairness_v2-3j10GkSs/lib/python3.10/site-packages/IPython/core/magics/osm.py:417: UserWarning: This is now an optional IPython functionality, setting dhist requires you to install the `pickleshare` library.\n",
      "  self.shell.db['dhist'] = compress_dhist(dhist)[-100:]\n"
     ]
    }
   ],
   "source": [
    "%cd ~/cma/CMA_Fairness_v2"
   ]
  },
  {
   "cell_type": "markdown",
   "id": "de2603b9",
   "metadata": {
    "papermill": {
     "duration": 0.010062,
     "end_time": "2025-07-30T13:49:09.165388",
     "exception": false,
     "start_time": "2025-07-30T13:49:09.155326",
     "status": "completed"
    },
    "tags": []
   },
   "source": [
    "The following cell holds the definition of our parameters, these values can be overriden by rendering the with e.g. the following command:\n",
    "\n",
    "papermill -p alpha 0.2 -p ratio 0.3 universe_analysis.ipynb output/test_run.ipynb"
   ]
  },
  {
   "cell_type": "code",
   "execution_count": 2,
   "id": "a80968a0-40bb-4fa9-85ef-2d5eefb01975",
   "metadata": {
    "execution": {
     "iopub.execute_input": "2025-07-30T13:49:09.186623Z",
     "iopub.status.busy": "2025-07-30T13:49:09.186280Z",
     "iopub.status.idle": "2025-07-30T13:49:09.190766Z",
     "shell.execute_reply": "2025-07-30T13:49:09.190111Z"
    },
    "papermill": {
     "duration": 0.016829,
     "end_time": "2025-07-30T13:49:09.191986",
     "exception": false,
     "start_time": "2025-07-30T13:49:09.175157",
     "status": "completed"
    },
    "tags": []
   },
   "outputs": [
    {
     "name": "stdout",
     "output_type": "stream",
     "text": [
      "Current working directory: /dss/dsshome1/0C/ra93lal2/cma/CMA_Fairness_v2\n"
     ]
    }
   ],
   "source": [
    "import os\n",
    "print(\"Current working directory:\", os.getcwd())"
   ]
  },
  {
   "cell_type": "code",
   "execution_count": 3,
   "id": "2dce4c03",
   "metadata": {
    "execution": {
     "iopub.execute_input": "2025-07-30T13:49:09.215154Z",
     "iopub.status.busy": "2025-07-30T13:49:09.214816Z",
     "iopub.status.idle": "2025-07-30T13:49:09.220271Z",
     "shell.execute_reply": "2025-07-30T13:49:09.219437Z"
    },
    "papermill": {
     "duration": 0.018762,
     "end_time": "2025-07-30T13:49:09.221655",
     "exception": false,
     "start_time": "2025-07-30T13:49:09.202893",
     "status": "completed"
    },
    "tags": [
     "parameters"
    ]
   },
   "outputs": [],
   "source": [
    "run_no = 0\n",
    "universe_id = \"test\"\n",
    "universe = {\n",
    "    \"training_size\": \"25k\", # \"25k\", \"5k\", \"1k\"\n",
    "    \"training_year\": \"2014\", # \"2014\", \"2012_14\", \"2010_14\"\n",
    "    \"scale\": \"scale\", # \"scale\", \"do-not-scale\",\n",
    "    #\"stratify_split\": \"target\", # \"none\", \"target\", \"protected-attribute\", \"both\",\n",
    "    \"model\": \"elasticnet\", # \"logreg\", \"penalized_logreg\", \"rf\", \"gbm\", \"elasticnet\"\n",
    "    \"cutoff\": [\"quantile_0.15\", \"quantile_0.30\"],\n",
    "    \"exclude_features\": \"age\", # \"none\", \"nationality\", \"sex\", \"nationality-sex\", \"age\"\n",
    "    \"exclude_subgroups\": \"keep-all\", # \"keep-all\", \"drop-non-german\"\n",
    "    \"eval_fairness_grouping\": [\"majority-minority\", \"nationality-all\"]\n",
    "}\n",
    "\n",
    "output_dir=\"./output\"\n",
    "seed=0"
   ]
  },
  {
   "cell_type": "code",
   "execution_count": 4,
   "id": "680219dd",
   "metadata": {
    "execution": {
     "iopub.execute_input": "2025-07-30T13:49:09.248677Z",
     "iopub.status.busy": "2025-07-30T13:49:09.247964Z",
     "iopub.status.idle": "2025-07-30T13:49:09.252658Z",
     "shell.execute_reply": "2025-07-30T13:49:09.251919Z"
    },
    "papermill": {
     "duration": 0.017094,
     "end_time": "2025-07-30T13:49:09.253892",
     "exception": false,
     "start_time": "2025-07-30T13:49:09.236798",
     "status": "completed"
    },
    "tags": [
     "injected-parameters"
    ]
   },
   "outputs": [],
   "source": [
    "# Parameters\n",
    "universe_id = \"567c21be0f0ea5abd5da38f5438df2a0\"\n",
    "run_no = \"12\"\n",
    "universe = \"{\\\"cutoff\\\": [\\\"quantile_0.1\\\", \\\"quantile_0.25\\\"], \\\"eval_fairness_grouping\\\": [\\\"majority-minority\\\", \\\"nationality-all\\\"], \\\"exclude_features\\\": \\\"sex\\\", \\\"exclude_subgroups\\\": \\\"drop-non-german\\\", \\\"model\\\": \\\"rf\\\", \\\"scale\\\": \\\"do-not-scale\\\", \\\"training_size\\\": \\\"5k\\\", \\\"training_year\\\": \\\"2014\\\"}\"\n",
    "output_dir = \"output\"\n",
    "seed = \"2023\"\n"
   ]
  },
  {
   "cell_type": "code",
   "execution_count": 5,
   "id": "1650acaf",
   "metadata": {
    "execution": {
     "iopub.execute_input": "2025-07-30T13:49:09.276468Z",
     "iopub.status.busy": "2025-07-30T13:49:09.275954Z",
     "iopub.status.idle": "2025-07-30T13:49:09.280212Z",
     "shell.execute_reply": "2025-07-30T13:49:09.279465Z"
    },
    "papermill": {
     "duration": 0.016639,
     "end_time": "2025-07-30T13:49:09.281459",
     "exception": false,
     "start_time": "2025-07-30T13:49:09.264820",
     "status": "completed"
    },
    "tags": []
   },
   "outputs": [],
   "source": [
    "import json\n",
    "# Parse universe into dict if it is passed as a string\n",
    "if isinstance(universe, str):\n",
    "    universe = json.loads(universe)"
   ]
  },
  {
   "cell_type": "code",
   "execution_count": 6,
   "id": "16620c48",
   "metadata": {
    "execution": {
     "iopub.execute_input": "2025-07-30T13:49:09.304141Z",
     "iopub.status.busy": "2025-07-30T13:49:09.303603Z",
     "iopub.status.idle": "2025-07-30T13:49:09.349365Z",
     "shell.execute_reply": "2025-07-30T13:49:09.348152Z"
    },
    "papermill": {
     "duration": 0.05903,
     "end_time": "2025-07-30T13:49:09.351257",
     "exception": false,
     "start_time": "2025-07-30T13:49:09.292227",
     "status": "completed"
    },
    "tags": []
   },
   "outputs": [],
   "source": [
    "# Auto-reload the custom package\n",
    "%load_ext autoreload\n",
    "%autoreload 1\n",
    "%aimport fairness_multiverse"
   ]
  },
  {
   "cell_type": "code",
   "execution_count": 7,
   "id": "01c5c9f3",
   "metadata": {
    "execution": {
     "iopub.execute_input": "2025-07-30T13:49:09.401484Z",
     "iopub.status.busy": "2025-07-30T13:49:09.400638Z",
     "iopub.status.idle": "2025-07-30T13:49:11.165394Z",
     "shell.execute_reply": "2025-07-30T13:49:11.164592Z"
    },
    "papermill": {
     "duration": 1.789706,
     "end_time": "2025-07-30T13:49:11.166883",
     "exception": false,
     "start_time": "2025-07-30T13:49:09.377177",
     "status": "completed"
    },
    "tags": []
   },
   "outputs": [],
   "source": [
    "from fairness_multiverse.universe import UniverseAnalysis\n",
    "\n",
    "universe_analysis = UniverseAnalysis(\n",
    "    run_no = run_no,\n",
    "    universe_id = universe_id,\n",
    "    universe = universe,\n",
    "    output_dir=output_dir,\n",
    ")"
   ]
  },
  {
   "cell_type": "code",
   "execution_count": 8,
   "id": "106241f5",
   "metadata": {
    "execution": {
     "iopub.execute_input": "2025-07-30T13:49:11.190271Z",
     "iopub.status.busy": "2025-07-30T13:49:11.189734Z",
     "iopub.status.idle": "2025-07-30T13:49:11.196163Z",
     "shell.execute_reply": "2025-07-30T13:49:11.195380Z"
    },
    "papermill": {
     "duration": 0.019685,
     "end_time": "2025-07-30T13:49:11.197622",
     "exception": false,
     "start_time": "2025-07-30T13:49:11.177937",
     "status": "completed"
    },
    "tags": []
   },
   "outputs": [
    {
     "name": "stdout",
     "output_type": "stream",
     "text": [
      "Using Seed: 2023\n"
     ]
    }
   ],
   "source": [
    "import numpy as np\n",
    "parsed_seed = int(seed)\n",
    "np.random.seed(parsed_seed)\n",
    "print(f\"Using Seed: {parsed_seed}\")"
   ]
  },
  {
   "cell_type": "markdown",
   "id": "e0ebdc57",
   "metadata": {
    "papermill": {
     "duration": 0.010483,
     "end_time": "2025-07-30T13:49:11.219577",
     "exception": false,
     "start_time": "2025-07-30T13:49:11.209094",
     "status": "completed"
    },
    "tags": []
   },
   "source": [
    "# Loading Data"
   ]
  },
  {
   "cell_type": "markdown",
   "id": "681925a3",
   "metadata": {
    "papermill": {
     "duration": 0.011012,
     "end_time": "2025-07-30T13:49:11.241202",
     "exception": false,
     "start_time": "2025-07-30T13:49:11.230190",
     "status": "completed"
    },
    "tags": []
   },
   "source": [
    "Load siab_train, siab_test, siab_calib and/or \n",
    "load siab_train_features, siab_train_labels"
   ]
  },
  {
   "cell_type": "code",
   "execution_count": 9,
   "id": "f0496b8a",
   "metadata": {
    "execution": {
     "iopub.execute_input": "2025-07-30T13:49:11.278888Z",
     "iopub.status.busy": "2025-07-30T13:49:11.278190Z",
     "iopub.status.idle": "2025-07-30T13:49:25.063248Z",
     "shell.execute_reply": "2025-07-30T13:49:25.062124Z"
    },
    "papermill": {
     "duration": 13.807324,
     "end_time": "2025-07-30T13:49:25.065110",
     "exception": false,
     "start_time": "2025-07-30T13:49:11.257786",
     "status": "completed"
    },
    "tags": []
   },
   "outputs": [
    {
     "name": "stdout",
     "output_type": "stream",
     "text": [
      "Loading SIAB data from cache: data/siab_cached.csv.gz\n"
     ]
    },
    {
     "name": "stdout",
     "output_type": "stream",
     "text": [
      "(643690, 164)\n"
     ]
    }
   ],
   "source": [
    "from pathlib import Path\n",
    "import pandas as pd\n",
    "\n",
    "# File paths\n",
    "raw_file = Path(\"data/raw/siab.csv\")\n",
    "cache_file = Path(\"data/siab_cached.csv.gz\")\n",
    "\n",
    "# Ensure cache directory exists\n",
    "cache_file.parent.mkdir(parents=True, exist_ok=True)\n",
    "\n",
    "# Load with simple caching\n",
    "if cache_file.exists():\n",
    "    print(f\"Loading SIAB data from cache: {cache_file}\")\n",
    "    siab = pd.read_csv(cache_file, compression='gzip')\n",
    "else:\n",
    "    print(f\"Cache not found. Reading raw SIAB data: {raw_file}\")\n",
    "    siab = pd.read_csv(raw_file)\n",
    "    siab.to_csv(cache_file, index=False, compression='gzip')\n",
    "    print(f\"Cached SIAB data to: {cache_file}\")\n",
    "\n",
    "# Now use `siab` DataFrame as needed\n",
    "print(siab.shape)"
   ]
  },
  {
   "cell_type": "code",
   "execution_count": 10,
   "id": "db0ca512-5f53-4dba-abdb-a2888bca41ba",
   "metadata": {
    "execution": {
     "iopub.execute_input": "2025-07-30T13:49:25.110206Z",
     "iopub.status.busy": "2025-07-30T13:49:25.109779Z",
     "iopub.status.idle": "2025-07-30T13:49:25.122478Z",
     "shell.execute_reply": "2025-07-30T13:49:25.121355Z"
    },
    "papermill": {
     "duration": 0.036464,
     "end_time": "2025-07-30T13:49:25.124460",
     "exception": false,
     "start_time": "2025-07-30T13:49:25.087996",
     "status": "completed"
    },
    "tags": []
   },
   "outputs": [],
   "source": [
    "#siab"
   ]
  },
  {
   "cell_type": "code",
   "execution_count": 11,
   "id": "a0edb063",
   "metadata": {
    "execution": {
     "iopub.execute_input": "2025-07-30T13:49:25.193837Z",
     "iopub.status.busy": "2025-07-30T13:49:25.193455Z",
     "iopub.status.idle": "2025-07-30T13:49:25.201041Z",
     "shell.execute_reply": "2025-07-30T13:49:25.200133Z"
    },
    "papermill": {
     "duration": 0.044179,
     "end_time": "2025-07-30T13:49:25.214225",
     "exception": false,
     "start_time": "2025-07-30T13:49:25.170046",
     "status": "completed"
    },
    "tags": []
   },
   "outputs": [],
   "source": [
    "#import pandas as pd\n",
    "#\n",
    "#X_train = pd.read_csv(\"./data/X_train.csv\")\n",
    "#y_train = pd.read_csv(\"./data/y_train.csv\")"
   ]
  },
  {
   "cell_type": "code",
   "execution_count": 12,
   "id": "63d08085",
   "metadata": {
    "execution": {
     "iopub.execute_input": "2025-07-30T13:49:25.308199Z",
     "iopub.status.busy": "2025-07-30T13:49:25.307768Z",
     "iopub.status.idle": "2025-07-30T13:49:25.314224Z",
     "shell.execute_reply": "2025-07-30T13:49:25.313071Z"
    },
    "papermill": {
     "duration": 0.062148,
     "end_time": "2025-07-30T13:49:25.316648",
     "exception": false,
     "start_time": "2025-07-30T13:49:25.254500",
     "status": "completed"
    },
    "tags": []
   },
   "outputs": [],
   "source": [
    "#X_test = pd.read_csv(\"./data/X_test.csv\")\n",
    "#y_true = pd.read_csv(\"./data/y_test.csv\")"
   ]
  },
  {
   "cell_type": "code",
   "execution_count": 13,
   "id": "98a8d0fa-1d3d-4ed8-bb2c-281470e24add",
   "metadata": {
    "execution": {
     "iopub.execute_input": "2025-07-30T13:49:25.360884Z",
     "iopub.status.busy": "2025-07-30T13:49:25.360486Z",
     "iopub.status.idle": "2025-07-30T13:49:25.365740Z",
     "shell.execute_reply": "2025-07-30T13:49:25.364802Z"
    },
    "papermill": {
     "duration": 0.0298,
     "end_time": "2025-07-30T13:49:25.369014",
     "exception": false,
     "start_time": "2025-07-30T13:49:25.339214",
     "status": "completed"
    },
    "tags": []
   },
   "outputs": [],
   "source": [
    "# Calibration data for conformal\n",
    "#X_calib = pd.read_csv(\"./data/X_calib.csv\")\n",
    "#y_calib = pd.read_csv(\"./data/y_calib.csv\")"
   ]
  },
  {
   "cell_type": "markdown",
   "id": "997051c5-15bd-4b69-9786-c3001a3ce484",
   "metadata": {
    "papermill": {
     "duration": 0.040411,
     "end_time": "2025-07-30T13:49:25.464692",
     "exception": false,
     "start_time": "2025-07-30T13:49:25.424281",
     "status": "completed"
    },
    "tags": []
   },
   "source": [
    "# Splitting Data and Setting Training Data Size"
   ]
  },
  {
   "cell_type": "code",
   "execution_count": 14,
   "id": "e993b61f-042d-41a6-8c81-f55681f86335",
   "metadata": {
    "execution": {
     "iopub.execute_input": "2025-07-30T13:49:25.645825Z",
     "iopub.status.busy": "2025-07-30T13:49:25.645400Z",
     "iopub.status.idle": "2025-07-30T13:49:25.658785Z",
     "shell.execute_reply": "2025-07-30T13:49:25.657900Z"
    },
    "papermill": {
     "duration": 0.096978,
     "end_time": "2025-07-30T13:49:25.660790",
     "exception": false,
     "start_time": "2025-07-30T13:49:25.563812",
     "status": "completed"
    },
    "tags": []
   },
   "outputs": [],
   "source": [
    "def sample_by_year_size(df,\n",
    "                        training_year: str,\n",
    "                        training_size: str,\n",
    "                        random_state: int = 42):\n",
    "    # --- parse training_year into a list of int years ---\n",
    "    if \"_\" in training_year:\n",
    "        start_str, end_str = training_year.split(\"_\", 1)\n",
    "        start = int(start_str)\n",
    "        end   = int(end_str) if len(end_str) == 4 else (int(end_str) + (start // 100)*100)\n",
    "        years = list(range(start, end + 1))\n",
    "    else:\n",
    "        years = [int(training_year)]\n",
    "\n",
    "    df = df[df[\"year\"].isin(years)].reset_index(drop=True)\n",
    "\n",
    "    # --- map training_size to total number of samples ---\n",
    "    total_map = {\"25k\": 25_000, \"5k\": 5_000, \"1k\": 1_000}\n",
    "    if training_size not in total_map:\n",
    "        return df  # e.g. \"all\"\n",
    "\n",
    "    total_samples = total_map[training_size]\n",
    "    n_years       = len(years)\n",
    "    base          = total_samples // n_years\n",
    "    remainder     = total_samples % n_years\n",
    "\n",
    "    # --- build a dict: year -> how many to sample ---\n",
    "    # give +1 to the first `remainder` years in ascending order\n",
    "    quotas = {\n",
    "        year: base + (1 if idx < remainder else 0)\n",
    "        for idx, year in enumerate(sorted(years))\n",
    "    }\n",
    "\n",
    "    # --- sample per‐year according to the quota dict ---\n",
    "    sampled = (\n",
    "        df\n",
    "        .groupby(\"year\", group_keys=False)\n",
    "        .apply(lambda grp: grp.sample(\n",
    "            n=min(len(grp), quotas[grp.name]),\n",
    "            random_state=random_state))\n",
    "        .reset_index(drop=True)\n",
    "    )\n",
    "\n",
    "    return sampled"
   ]
  },
  {
   "cell_type": "code",
   "execution_count": 15,
   "id": "c0ccd338-0e02-41f3-a09d-f56f9266e3fb",
   "metadata": {
    "execution": {
     "iopub.execute_input": "2025-07-30T13:49:25.718218Z",
     "iopub.status.busy": "2025-07-30T13:49:25.717819Z",
     "iopub.status.idle": "2025-07-30T13:49:25.730017Z",
     "shell.execute_reply": "2025-07-30T13:49:25.728937Z"
    },
    "papermill": {
     "duration": 0.039006,
     "end_time": "2025-07-30T13:49:25.735292",
     "exception": false,
     "start_time": "2025-07-30T13:49:25.696286",
     "status": "completed"
    },
    "tags": []
   },
   "outputs": [
    {
     "data": {
      "text/plain": [
       "'5k'"
      ]
     },
     "execution_count": 15,
     "metadata": {},
     "output_type": "execute_result"
    }
   ],
   "source": [
    "universe[\"training_size\"]"
   ]
  },
  {
   "cell_type": "code",
   "execution_count": 16,
   "id": "ca707fd7-8047-4acd-bfa5-66248fbbf8e6",
   "metadata": {
    "execution": {
     "iopub.execute_input": "2025-07-30T13:49:25.785900Z",
     "iopub.status.busy": "2025-07-30T13:49:25.785505Z",
     "iopub.status.idle": "2025-07-30T13:49:25.792692Z",
     "shell.execute_reply": "2025-07-30T13:49:25.791706Z"
    },
    "papermill": {
     "duration": 0.033899,
     "end_time": "2025-07-30T13:49:25.797405",
     "exception": false,
     "start_time": "2025-07-30T13:49:25.763506",
     "status": "completed"
    },
    "tags": []
   },
   "outputs": [
    {
     "data": {
      "text/plain": [
       "'2014'"
      ]
     },
     "execution_count": 16,
     "metadata": {},
     "output_type": "execute_result"
    }
   ],
   "source": [
    "universe[\"training_year\"]"
   ]
  },
  {
   "cell_type": "code",
   "execution_count": 17,
   "id": "aea9c6ef-6f46-42c8-85eb-5a62025c1508",
   "metadata": {
    "execution": {
     "iopub.execute_input": "2025-07-30T13:49:25.858541Z",
     "iopub.status.busy": "2025-07-30T13:49:25.858028Z",
     "iopub.status.idle": "2025-07-30T13:49:26.261145Z",
     "shell.execute_reply": "2025-07-30T13:49:26.259813Z"
    },
    "papermill": {
     "duration": 0.427357,
     "end_time": "2025-07-30T13:49:26.263045",
     "exception": false,
     "start_time": "2025-07-30T13:49:25.835688",
     "status": "completed"
    },
    "tags": []
   },
   "outputs": [],
   "source": [
    "siab_train = sample_by_year_size(siab,\n",
    "                               training_year=universe[\"training_year\"],\n",
    "                               training_size=universe[\"training_size\"])"
   ]
  },
  {
   "cell_type": "code",
   "execution_count": 18,
   "id": "8d3afb32-789d-442c-8d5d-9f5aa8dd2eed",
   "metadata": {
    "execution": {
     "iopub.execute_input": "2025-07-30T13:49:26.348903Z",
     "iopub.status.busy": "2025-07-30T13:49:26.348497Z",
     "iopub.status.idle": "2025-07-30T13:49:26.356009Z",
     "shell.execute_reply": "2025-07-30T13:49:26.355002Z"
    },
    "papermill": {
     "duration": 0.06903,
     "end_time": "2025-07-30T13:49:26.357637",
     "exception": false,
     "start_time": "2025-07-30T13:49:26.288607",
     "status": "completed"
    },
    "tags": []
   },
   "outputs": [
    {
     "data": {
      "text/plain": [
       "(5000, 164)"
      ]
     },
     "execution_count": 18,
     "metadata": {},
     "output_type": "execute_result"
    }
   ],
   "source": [
    "siab_train.shape"
   ]
  },
  {
   "cell_type": "code",
   "execution_count": 19,
   "id": "d582db68-1a4c-47fb-84fc-08518dc1975a",
   "metadata": {
    "execution": {
     "iopub.execute_input": "2025-07-30T13:49:26.449692Z",
     "iopub.status.busy": "2025-07-30T13:49:26.449272Z",
     "iopub.status.idle": "2025-07-30T13:49:26.459222Z",
     "shell.execute_reply": "2025-07-30T13:49:26.458324Z"
    },
    "papermill": {
     "duration": 0.062851,
     "end_time": "2025-07-30T13:49:26.469129",
     "exception": false,
     "start_time": "2025-07-30T13:49:26.406278",
     "status": "completed"
    },
    "tags": []
   },
   "outputs": [
    {
     "data": {
      "text/plain": [
       "year\n",
       "2014    5000\n",
       "dtype: int64"
      ]
     },
     "metadata": {},
     "output_type": "display_data"
    }
   ],
   "source": [
    "display(siab_train.groupby(\"year\").size())"
   ]
  },
  {
   "cell_type": "code",
   "execution_count": 20,
   "id": "a561edb4-d032-42cb-8256-22eac1111c64",
   "metadata": {
    "execution": {
     "iopub.execute_input": "2025-07-30T13:49:26.519191Z",
     "iopub.status.busy": "2025-07-30T13:49:26.518757Z",
     "iopub.status.idle": "2025-07-30T13:49:26.813216Z",
     "shell.execute_reply": "2025-07-30T13:49:26.812108Z"
    },
    "papermill": {
     "duration": 0.318767,
     "end_time": "2025-07-30T13:49:26.815070",
     "exception": false,
     "start_time": "2025-07-30T13:49:26.496303",
     "status": "completed"
    },
    "tags": []
   },
   "outputs": [],
   "source": [
    "#siab_train = siab_s[siab_s.year < 2015]\n",
    "siab_calib = siab[siab.year == 2015]\n",
    "siab_test = siab[siab.year == 2016]"
   ]
  },
  {
   "cell_type": "code",
   "execution_count": 21,
   "id": "472de16f-c3db-4916-846b-1f0de9cf1746",
   "metadata": {
    "execution": {
     "iopub.execute_input": "2025-07-30T13:49:26.914588Z",
     "iopub.status.busy": "2025-07-30T13:49:26.914206Z",
     "iopub.status.idle": "2025-07-30T13:49:26.922928Z",
     "shell.execute_reply": "2025-07-30T13:49:26.921845Z"
    },
    "papermill": {
     "duration": 0.070387,
     "end_time": "2025-07-30T13:49:26.927349",
     "exception": false,
     "start_time": "2025-07-30T13:49:26.856962",
     "status": "completed"
    },
    "tags": []
   },
   "outputs": [],
   "source": [
    "X_train = siab_train.iloc[:,4:164]\n",
    "y_train = siab_train.iloc[:, [3]]"
   ]
  },
  {
   "cell_type": "code",
   "execution_count": 22,
   "id": "828c96af-f43a-4ed6-ba47-8ac73a47d56c",
   "metadata": {
    "execution": {
     "iopub.execute_input": "2025-07-30T13:49:26.993936Z",
     "iopub.status.busy": "2025-07-30T13:49:26.993532Z",
     "iopub.status.idle": "2025-07-30T13:49:27.071659Z",
     "shell.execute_reply": "2025-07-30T13:49:27.070569Z"
    },
    "papermill": {
     "duration": 0.110334,
     "end_time": "2025-07-30T13:49:27.073580",
     "exception": false,
     "start_time": "2025-07-30T13:49:26.963246",
     "status": "completed"
    },
    "tags": []
   },
   "outputs": [],
   "source": [
    "X_calib = siab_calib.iloc[:,4:164]\n",
    "y_calib = siab_calib.iloc[:, [3]]"
   ]
  },
  {
   "cell_type": "code",
   "execution_count": 23,
   "id": "c34be9c3-6bd6-476e-acd3-845840e303be",
   "metadata": {
    "execution": {
     "iopub.execute_input": "2025-07-30T13:49:27.171779Z",
     "iopub.status.busy": "2025-07-30T13:49:27.171267Z",
     "iopub.status.idle": "2025-07-30T13:49:27.265236Z",
     "shell.execute_reply": "2025-07-30T13:49:27.264107Z"
    },
    "papermill": {
     "duration": 0.143779,
     "end_time": "2025-07-30T13:49:27.267400",
     "exception": false,
     "start_time": "2025-07-30T13:49:27.123621",
     "status": "completed"
    },
    "tags": []
   },
   "outputs": [],
   "source": [
    "X_test = siab_test.iloc[:,4:164]\n",
    "y_true = siab_test.iloc[:, [3]]"
   ]
  },
  {
   "cell_type": "markdown",
   "id": "9901737e-04df-44f0-9100-f5ad144ed040",
   "metadata": {
    "papermill": {
     "duration": 0.048855,
     "end_time": "2025-07-30T13:49:27.340809",
     "exception": false,
     "start_time": "2025-07-30T13:49:27.291954",
     "status": "completed"
    },
    "tags": []
   },
   "source": [
    "# Splitting Data and Setting Training Data Size OLD VERSION"
   ]
  },
  {
   "cell_type": "code",
   "execution_count": 24,
   "id": "acbc8f7d-8fc8-4e86-8c59-5dcb0f58384b",
   "metadata": {
    "execution": {
     "iopub.execute_input": "2025-07-30T13:49:27.426320Z",
     "iopub.status.busy": "2025-07-30T13:49:27.425784Z",
     "iopub.status.idle": "2025-07-30T13:49:27.432183Z",
     "shell.execute_reply": "2025-07-30T13:49:27.430929Z"
    },
    "papermill": {
     "duration": 0.058545,
     "end_time": "2025-07-30T13:49:27.442063",
     "exception": false,
     "start_time": "2025-07-30T13:49:27.383518",
     "status": "completed"
    },
    "tags": []
   },
   "outputs": [],
   "source": [
    "#def sample_by_year(df, training_size, random_state=42):\n",
    "#    if training_size == \"2014\":\n",
    "#        return df[df[\"year\"] == 2014].reset_index(drop=True)\n",
    "#    \n",
    "#    size_map = {\n",
    "#        \"25k\": 5000,\n",
    "#        \"5k\": 1000,\n",
    "#        \"1k\": 200\n",
    "#    }\n",
    "#\n",
    "#    if training_size not in size_map:\n",
    "#        return df.reset_index(drop=True)  # use all data\n",
    "#\n",
    "#    n_per_year = size_map[training_size]\n",
    "#    grouped = df.groupby(\"year\")\n",
    "#    sampled = grouped.apply(lambda x: x.sample(n=min(n_per_year, len(x)), random_state=random_state))\n",
    "#    return sampled.reset_index(drop=True)"
   ]
  },
  {
   "cell_type": "code",
   "execution_count": 25,
   "id": "6d931f52-beaf-43ff-9e78-9d44a448d54e",
   "metadata": {
    "execution": {
     "iopub.execute_input": "2025-07-30T13:49:27.513153Z",
     "iopub.status.busy": "2025-07-30T13:49:27.512726Z",
     "iopub.status.idle": "2025-07-30T13:49:27.518193Z",
     "shell.execute_reply": "2025-07-30T13:49:27.517259Z"
    },
    "papermill": {
     "duration": 0.045934,
     "end_time": "2025-07-30T13:49:27.533571",
     "exception": false,
     "start_time": "2025-07-30T13:49:27.487637",
     "status": "completed"
    },
    "tags": []
   },
   "outputs": [],
   "source": [
    "#siab_s = sample_by_year(siab, universe[\"training_size\"])"
   ]
  },
  {
   "cell_type": "code",
   "execution_count": 26,
   "id": "5db0a40e-a4e2-4920-be85-b12ae061d70d",
   "metadata": {
    "execution": {
     "iopub.execute_input": "2025-07-30T13:49:27.649879Z",
     "iopub.status.busy": "2025-07-30T13:49:27.649479Z",
     "iopub.status.idle": "2025-07-30T13:49:27.655124Z",
     "shell.execute_reply": "2025-07-30T13:49:27.653975Z"
    },
    "papermill": {
     "duration": 0.061501,
     "end_time": "2025-07-30T13:49:27.657814",
     "exception": false,
     "start_time": "2025-07-30T13:49:27.596313",
     "status": "completed"
    },
    "tags": []
   },
   "outputs": [],
   "source": [
    "#display(siab_s.groupby(\"year\").size())"
   ]
  },
  {
   "cell_type": "code",
   "execution_count": 27,
   "id": "e6c733c5",
   "metadata": {
    "execution": {
     "iopub.execute_input": "2025-07-30T13:49:27.741928Z",
     "iopub.status.busy": "2025-07-30T13:49:27.741106Z",
     "iopub.status.idle": "2025-07-30T13:49:27.913919Z",
     "shell.execute_reply": "2025-07-30T13:49:27.912062Z"
    },
    "papermill": {
     "duration": 0.216972,
     "end_time": "2025-07-30T13:49:27.915916",
     "exception": false,
     "start_time": "2025-07-30T13:49:27.698944",
     "status": "completed"
    },
    "tags": []
   },
   "outputs": [],
   "source": [
    "# Auxiliary data needed downstream in the pipeline\n",
    "\n",
    "org_train = X_train.copy()\n",
    "org_test = X_test.copy()\n",
    "org_calib = X_calib.copy()"
   ]
  },
  {
   "cell_type": "code",
   "execution_count": 28,
   "id": "1466abac-c6da-4492-a62f-4240ae3783af",
   "metadata": {
    "execution": {
     "iopub.execute_input": "2025-07-30T13:49:27.977827Z",
     "iopub.status.busy": "2025-07-30T13:49:27.977366Z",
     "iopub.status.idle": "2025-07-30T13:49:27.982613Z",
     "shell.execute_reply": "2025-07-30T13:49:27.981676Z"
    },
    "papermill": {
     "duration": 0.048978,
     "end_time": "2025-07-30T13:49:27.986558",
     "exception": false,
     "start_time": "2025-07-30T13:49:27.937580",
     "status": "completed"
    },
    "tags": []
   },
   "outputs": [],
   "source": [
    "# put in other script?\n",
    "# Group sizes\n",
    "\n",
    "#def calculate_percentages(df, df_name):\n",
    "#    total_entries = len(df)\n",
    "#\n",
    "#    female_pct = (df['frau1'] == 1).mean() * 100\n",
    "#    non_german_pct = ((df['maxdeutsch1'] == 0) & (df['maxdeutsch.Missing.'] == 0)).mean() * 100\n",
    "#    non_german_male_pct = ((df['frau1'] == 0) & (df['maxdeutsch1'] == 0) & (df['maxdeutsch.Missing.'] == 0)).mean() * 100\n",
    "#    non_german_female_pct = ((df['frau1'] == 1) & (df['maxdeutsch1'] == 0) & (df['maxdeutsch.Missing.'] == 0)).mean() * 100\n",
    "#\n",
    "#    print(f\"--- {df_name} ---\")\n",
    "#    print(f\"Female: {female_pct:.2f}%\")\n",
    "#    print(f\"Non-German: {non_german_pct:.2f}%\")\n",
    "#    print(f\"Non-German Male: {non_german_male_pct:.2f}%\")\n",
    "#    print(f\"Non-German Female: {non_german_female_pct:.2f}%\\n\")\n",
    "#\n",
    "## Calculate for each DataFrame\n",
    "#calculate_percentages(siab_calib, \"siab_calib\")\n",
    "#calculate_percentages(siab_test, \"siab_test\")\n",
    "#calculate_percentages(siab_train, \"siab_train\")"
   ]
  },
  {
   "cell_type": "markdown",
   "id": "0a4a1b33",
   "metadata": {
    "papermill": {
     "duration": 0.022085,
     "end_time": "2025-07-30T13:49:28.152670",
     "exception": false,
     "start_time": "2025-07-30T13:49:28.130585",
     "status": "completed"
    },
    "tags": []
   },
   "source": [
    "# Preprocessing Data"
   ]
  },
  {
   "cell_type": "code",
   "execution_count": 29,
   "id": "ca879031",
   "metadata": {
    "execution": {
     "iopub.execute_input": "2025-07-30T13:49:28.203998Z",
     "iopub.status.busy": "2025-07-30T13:49:28.203597Z",
     "iopub.status.idle": "2025-07-30T13:49:28.209731Z",
     "shell.execute_reply": "2025-07-30T13:49:28.208705Z"
    },
    "papermill": {
     "duration": 0.031982,
     "end_time": "2025-07-30T13:49:28.211407",
     "exception": false,
     "start_time": "2025-07-30T13:49:28.179425",
     "status": "completed"
    },
    "tags": []
   },
   "outputs": [],
   "source": [
    "# EXCLUDE PROTECTED FEATURES\n",
    "# ----------------------\n",
    "# \"exclude_features\": \"none\", # \"nationality\", \"sex\", \"nationality-sex\"\n",
    "\n",
    "excluded_features = universe[\"exclude_features\"].split(\"-\") # split, e.g.: \"nationality-sex\" -> [\"nationality\", \"sex\"]\n",
    "excluded_features_dictionary = {\n",
    "    \"nationality\": [\"maxdeutsch1\", \"maxdeutsch.Missing.\"],\n",
    "    \"sex\": [\"frau1\"],\n",
    "    \"age\": [\"age\"],\n",
    "}\n"
   ]
  },
  {
   "cell_type": "code",
   "execution_count": 30,
   "id": "b745ac60",
   "metadata": {
    "execution": {
     "iopub.execute_input": "2025-07-30T13:49:28.259023Z",
     "iopub.status.busy": "2025-07-30T13:49:28.258629Z",
     "iopub.status.idle": "2025-07-30T13:49:28.265239Z",
     "shell.execute_reply": "2025-07-30T13:49:28.264144Z"
    },
    "papermill": {
     "duration": 0.032316,
     "end_time": "2025-07-30T13:49:28.267026",
     "exception": false,
     "start_time": "2025-07-30T13:49:28.234710",
     "status": "completed"
    },
    "tags": []
   },
   "outputs": [],
   "source": [
    "# Code nice names to column names\n",
    "\n",
    "excluded_features_columns = [\n",
    "    excluded_features_dictionary[f] for f in excluded_features if len(f) > 0 and f != \"none\"\n",
    "]"
   ]
  },
  {
   "cell_type": "code",
   "execution_count": 31,
   "id": "f84f73a2",
   "metadata": {
    "execution": {
     "iopub.execute_input": "2025-07-30T13:49:28.317305Z",
     "iopub.status.busy": "2025-07-30T13:49:28.316894Z",
     "iopub.status.idle": "2025-07-30T13:49:28.324027Z",
     "shell.execute_reply": "2025-07-30T13:49:28.323011Z"
    },
    "papermill": {
     "duration": 0.033591,
     "end_time": "2025-07-30T13:49:28.325991",
     "exception": false,
     "start_time": "2025-07-30T13:49:28.292400",
     "status": "completed"
    },
    "tags": []
   },
   "outputs": [],
   "source": [
    "from utils import flatten_once\n",
    "\n",
    "excluded_features_columns = flatten_once(excluded_features_columns)"
   ]
  },
  {
   "cell_type": "code",
   "execution_count": 32,
   "id": "884dea22",
   "metadata": {
    "execution": {
     "iopub.execute_input": "2025-07-30T13:49:28.373416Z",
     "iopub.status.busy": "2025-07-30T13:49:28.372963Z",
     "iopub.status.idle": "2025-07-30T13:49:28.383452Z",
     "shell.execute_reply": "2025-07-30T13:49:28.382181Z"
    },
    "papermill": {
     "duration": 0.042702,
     "end_time": "2025-07-30T13:49:28.391447",
     "exception": false,
     "start_time": "2025-07-30T13:49:28.348745",
     "status": "completed"
    },
    "tags": []
   },
   "outputs": [
    {
     "name": "stdout",
     "output_type": "stream",
     "text": [
      "Dropping features: ['frau1']\n"
     ]
    }
   ],
   "source": [
    "if len(excluded_features_columns) > 0:\n",
    "    print(f\"Dropping features: {excluded_features_columns}\")\n",
    "    X_train.drop(excluded_features_columns, axis=1, inplace=True)"
   ]
  },
  {
   "cell_type": "code",
   "execution_count": 33,
   "id": "95ab8b16",
   "metadata": {
    "execution": {
     "iopub.execute_input": "2025-07-30T13:49:28.504220Z",
     "iopub.status.busy": "2025-07-30T13:49:28.503810Z",
     "iopub.status.idle": "2025-07-30T13:49:28.623822Z",
     "shell.execute_reply": "2025-07-30T13:49:28.622842Z"
    },
    "papermill": {
     "duration": 0.189959,
     "end_time": "2025-07-30T13:49:28.625756",
     "exception": false,
     "start_time": "2025-07-30T13:49:28.435797",
     "status": "completed"
    },
    "tags": []
   },
   "outputs": [
    {
     "name": "stdout",
     "output_type": "stream",
     "text": [
      "Dropping features: ['frau1']\n"
     ]
    }
   ],
   "source": [
    "if len(excluded_features_columns) > 0:\n",
    "    print(f\"Dropping features: {excluded_features_columns}\")\n",
    "    X_test.drop(excluded_features_columns, axis=1, inplace=True)"
   ]
  },
  {
   "cell_type": "code",
   "execution_count": 34,
   "id": "1853aaf5-fb9f-46cb-a2b5-8ea4ae2237e4",
   "metadata": {
    "execution": {
     "iopub.execute_input": "2025-07-30T13:49:28.710290Z",
     "iopub.status.busy": "2025-07-30T13:49:28.709904Z",
     "iopub.status.idle": "2025-07-30T13:49:28.801220Z",
     "shell.execute_reply": "2025-07-30T13:49:28.800207Z"
    },
    "papermill": {
     "duration": 0.151312,
     "end_time": "2025-07-30T13:49:28.805844",
     "exception": false,
     "start_time": "2025-07-30T13:49:28.654532",
     "status": "completed"
    },
    "tags": []
   },
   "outputs": [
    {
     "name": "stdout",
     "output_type": "stream",
     "text": [
      "Dropping features: ['frau1']\n"
     ]
    }
   ],
   "source": [
    "if len(excluded_features_columns) > 0:\n",
    "    print(f\"Dropping features: {excluded_features_columns}\")\n",
    "    X_calib.drop(excluded_features_columns, axis=1, inplace=True)"
   ]
  },
  {
   "cell_type": "code",
   "execution_count": 35,
   "id": "6727d079-03e5-481e-9d38-292a90b7a0a8",
   "metadata": {
    "execution": {
     "iopub.execute_input": "2025-07-30T13:49:28.893556Z",
     "iopub.status.busy": "2025-07-30T13:49:28.893137Z",
     "iopub.status.idle": "2025-07-30T13:49:28.897988Z",
     "shell.execute_reply": "2025-07-30T13:49:28.896888Z"
    },
    "papermill": {
     "duration": 0.055032,
     "end_time": "2025-07-30T13:49:28.899637",
     "exception": false,
     "start_time": "2025-07-30T13:49:28.844605",
     "status": "completed"
    },
    "tags": []
   },
   "outputs": [],
   "source": [
    "# SPLIT & STRATIFY DATA\n",
    "# ----------------------"
   ]
  },
  {
   "cell_type": "code",
   "execution_count": 36,
   "id": "76c4dc6d",
   "metadata": {
    "execution": {
     "iopub.execute_input": "2025-07-30T13:49:28.946311Z",
     "iopub.status.busy": "2025-07-30T13:49:28.945300Z",
     "iopub.status.idle": "2025-07-30T13:49:28.951049Z",
     "shell.execute_reply": "2025-07-30T13:49:28.950219Z"
    },
    "papermill": {
     "duration": 0.031633,
     "end_time": "2025-07-30T13:49:28.953022",
     "exception": false,
     "start_time": "2025-07-30T13:49:28.921389",
     "status": "completed"
    },
    "tags": []
   },
   "outputs": [],
   "source": [
    "# EXCLUDE CERTAIN SUBGROUPS\n",
    "# ----------------------\n",
    "\n",
    "mode = universe.get(\"exclude_subgroups\", \"keep-all\") \n",
    "# Fetches the exclude_subgroups setting from the universe dict.\n",
    "# Defaults to \"keep-all\" if the key is missing."
   ]
  },
  {
   "cell_type": "code",
   "execution_count": 37,
   "id": "21994072",
   "metadata": {
    "execution": {
     "iopub.execute_input": "2025-07-30T13:49:29.010959Z",
     "iopub.status.busy": "2025-07-30T13:49:29.010483Z",
     "iopub.status.idle": "2025-07-30T13:49:29.017736Z",
     "shell.execute_reply": "2025-07-30T13:49:29.016716Z"
    },
    "papermill": {
     "duration": 0.03576,
     "end_time": "2025-07-30T13:49:29.019651",
     "exception": false,
     "start_time": "2025-07-30T13:49:28.983891",
     "status": "completed"
    },
    "tags": []
   },
   "outputs": [],
   "source": [
    "if mode == \"keep-all\":\n",
    "    keep_mask = pd.Series(True, index=org_train.index)\n",
    "\n",
    "# org_train contains the original feature columns from features_org (in Simson)\n",
    "# features_org contains unprocessed features, for me X_train at beginning ???\n",
    "# For keep-all, creates a boolean Series (keep_mask) of all True, so no rows are removed.\n",
    "\n",
    "elif mode == \"drop-non-german\":\n",
    "    keep_mask = org_train[\"maxdeutsch1\"] == 1 # ??? what about missing values?\n",
    "\n",
    "else:\n",
    "    raise ValueError(f\"Unsupported mode for exclude_subgroups: {mode}\")\n"
   ]
  },
  {
   "cell_type": "code",
   "execution_count": 38,
   "id": "71651440",
   "metadata": {
    "execution": {
     "iopub.execute_input": "2025-07-30T13:49:29.063906Z",
     "iopub.status.busy": "2025-07-30T13:49:29.063515Z",
     "iopub.status.idle": "2025-07-30T13:49:29.070687Z",
     "shell.execute_reply": "2025-07-30T13:49:29.069827Z"
    },
    "papermill": {
     "duration": 0.033605,
     "end_time": "2025-07-30T13:49:29.073602",
     "exception": false,
     "start_time": "2025-07-30T13:49:29.039997",
     "status": "completed"
    },
    "tags": []
   },
   "outputs": [
    {
     "name": "stdout",
     "output_type": "stream",
     "text": [
      "Dropping 741 rows (14.82%) where mode='drop-non-german'\n"
     ]
    }
   ],
   "source": [
    "n_drop = (~keep_mask).sum() # Calculates how many rows are set to be dropped\n",
    "if n_drop > 0:\n",
    "    pct = n_drop / len(keep_mask) * 100\n",
    "    print(f\"Dropping {n_drop} rows ({pct:.2f}%) where mode='{mode}'\")"
   ]
  },
  {
   "cell_type": "code",
   "execution_count": 39,
   "id": "5fb8eee5",
   "metadata": {
    "execution": {
     "iopub.execute_input": "2025-07-30T13:49:29.145190Z",
     "iopub.status.busy": "2025-07-30T13:49:29.144796Z",
     "iopub.status.idle": "2025-07-30T13:49:29.153563Z",
     "shell.execute_reply": "2025-07-30T13:49:29.152465Z"
    },
    "papermill": {
     "duration": 0.039009,
     "end_time": "2025-07-30T13:49:29.155558",
     "exception": false,
     "start_time": "2025-07-30T13:49:29.116549",
     "status": "completed"
    },
    "tags": []
   },
   "outputs": [],
   "source": [
    "X_train = X_train[keep_mask]"
   ]
  },
  {
   "cell_type": "code",
   "execution_count": 40,
   "id": "b202bb3a",
   "metadata": {
    "execution": {
     "iopub.execute_input": "2025-07-30T13:49:29.233398Z",
     "iopub.status.busy": "2025-07-30T13:49:29.232973Z",
     "iopub.status.idle": "2025-07-30T13:49:29.239413Z",
     "shell.execute_reply": "2025-07-30T13:49:29.238480Z"
    },
    "papermill": {
     "duration": 0.053018,
     "end_time": "2025-07-30T13:49:29.242397",
     "exception": false,
     "start_time": "2025-07-30T13:49:29.189379",
     "status": "completed"
    },
    "tags": []
   },
   "outputs": [],
   "source": [
    "y_train = y_train[keep_mask]"
   ]
  },
  {
   "cell_type": "markdown",
   "id": "493e2ac3",
   "metadata": {
    "papermill": {
     "duration": 0.021817,
     "end_time": "2025-07-30T13:49:29.289353",
     "exception": false,
     "start_time": "2025-07-30T13:49:29.267536",
     "status": "completed"
    },
    "tags": []
   },
   "source": [
    "# Model Training"
   ]
  },
  {
   "cell_type": "code",
   "execution_count": 41,
   "id": "679e1268",
   "metadata": {
    "execution": {
     "iopub.execute_input": "2025-07-30T13:49:29.344475Z",
     "iopub.status.busy": "2025-07-30T13:49:29.343965Z",
     "iopub.status.idle": "2025-07-30T13:49:29.601000Z",
     "shell.execute_reply": "2025-07-30T13:49:29.599984Z"
    },
    "papermill": {
     "duration": 0.29101,
     "end_time": "2025-07-30T13:49:29.602850",
     "exception": false,
     "start_time": "2025-07-30T13:49:29.311840",
     "status": "completed"
    },
    "tags": []
   },
   "outputs": [],
   "source": [
    "from sklearn.linear_model import LogisticRegression\n",
    "from sklearn.ensemble import GradientBoostingClassifier, RandomForestClassifier\n",
    "\n",
    "if (universe[\"model\"] == \"logreg\"):\n",
    "    model = LogisticRegression() #penalty=\"none\") #, solver=\"newton-cg\", max_iter=1) # include random_state=19 ?\n",
    "elif (universe[\"model\"] == \"penalized_logreg\"):\n",
    "    model = LogisticRegression(penalty=\"l2\", C=1.0) #, solver=\"newton-cg\", max_iter=1)\n",
    "elif (universe[\"model\"] == \"rf\"):\n",
    "    model = RandomForestClassifier(n_estimators=100, n_jobs=-1)\n",
    "elif (universe[\"model\"] == \"gbm\"):\n",
    "    model = GradientBoostingClassifier()\n",
    "elif (universe[\"model\"] == \"elasticnet\"):\n",
    "    model = LogisticRegression(penalty = 'elasticnet', solver = 'saga', l1_ratio = 0.5, max_iter=5000) # which solver to use?\n",
    "else:\n",
    "    raise \"Unsupported universe.model\""
   ]
  },
  {
   "cell_type": "code",
   "execution_count": 42,
   "id": "0cc8f744",
   "metadata": {
    "execution": {
     "iopub.execute_input": "2025-07-30T13:49:29.639007Z",
     "iopub.status.busy": "2025-07-30T13:49:29.638682Z",
     "iopub.status.idle": "2025-07-30T13:49:29.643426Z",
     "shell.execute_reply": "2025-07-30T13:49:29.642726Z"
    },
    "papermill": {
     "duration": 0.018996,
     "end_time": "2025-07-30T13:49:29.644656",
     "exception": false,
     "start_time": "2025-07-30T13:49:29.625660",
     "status": "completed"
    },
    "tags": []
   },
   "outputs": [],
   "source": [
    "import numpy as np\n",
    "from sklearn.pipeline import Pipeline\n",
    "from sklearn.preprocessing import StandardScaler\n",
    "\n",
    "model = Pipeline([\n",
    "    #(\"continuous_processor\", continuous_processor),\n",
    "    #(\"categorical_preprocessor\", categorical_preprocessor),\n",
    "    (\"scale\", StandardScaler() if universe[\"scale\"] == \"scale\" else None), \n",
    "    (\"model\", model),\n",
    "])"
   ]
  },
  {
   "cell_type": "code",
   "execution_count": 43,
   "id": "9442c04d",
   "metadata": {
    "execution": {
     "iopub.execute_input": "2025-07-30T13:49:29.670492Z",
     "iopub.status.busy": "2025-07-30T13:49:29.670123Z",
     "iopub.status.idle": "2025-07-30T13:49:30.458777Z",
     "shell.execute_reply": "2025-07-30T13:49:30.458073Z"
    },
    "papermill": {
     "duration": 0.802794,
     "end_time": "2025-07-30T13:49:30.460526",
     "exception": false,
     "start_time": "2025-07-30T13:49:29.657732",
     "status": "completed"
    },
    "tags": []
   },
   "outputs": [
    {
     "data": {
      "text/html": [
       "<style>#sk-container-id-1 {color: black;background-color: white;}#sk-container-id-1 pre{padding: 0;}#sk-container-id-1 div.sk-toggleable {background-color: white;}#sk-container-id-1 label.sk-toggleable__label {cursor: pointer;display: block;width: 100%;margin-bottom: 0;padding: 0.3em;box-sizing: border-box;text-align: center;}#sk-container-id-1 label.sk-toggleable__label-arrow:before {content: \"▸\";float: left;margin-right: 0.25em;color: #696969;}#sk-container-id-1 label.sk-toggleable__label-arrow:hover:before {color: black;}#sk-container-id-1 div.sk-estimator:hover label.sk-toggleable__label-arrow:before {color: black;}#sk-container-id-1 div.sk-toggleable__content {max-height: 0;max-width: 0;overflow: hidden;text-align: left;background-color: #f0f8ff;}#sk-container-id-1 div.sk-toggleable__content pre {margin: 0.2em;color: black;border-radius: 0.25em;background-color: #f0f8ff;}#sk-container-id-1 input.sk-toggleable__control:checked~div.sk-toggleable__content {max-height: 200px;max-width: 100%;overflow: auto;}#sk-container-id-1 input.sk-toggleable__control:checked~label.sk-toggleable__label-arrow:before {content: \"▾\";}#sk-container-id-1 div.sk-estimator input.sk-toggleable__control:checked~label.sk-toggleable__label {background-color: #d4ebff;}#sk-container-id-1 div.sk-label input.sk-toggleable__control:checked~label.sk-toggleable__label {background-color: #d4ebff;}#sk-container-id-1 input.sk-hidden--visually {border: 0;clip: rect(1px 1px 1px 1px);clip: rect(1px, 1px, 1px, 1px);height: 1px;margin: -1px;overflow: hidden;padding: 0;position: absolute;width: 1px;}#sk-container-id-1 div.sk-estimator {font-family: monospace;background-color: #f0f8ff;border: 1px dotted black;border-radius: 0.25em;box-sizing: border-box;margin-bottom: 0.5em;}#sk-container-id-1 div.sk-estimator:hover {background-color: #d4ebff;}#sk-container-id-1 div.sk-parallel-item::after {content: \"\";width: 100%;border-bottom: 1px solid gray;flex-grow: 1;}#sk-container-id-1 div.sk-label:hover label.sk-toggleable__label {background-color: #d4ebff;}#sk-container-id-1 div.sk-serial::before {content: \"\";position: absolute;border-left: 1px solid gray;box-sizing: border-box;top: 0;bottom: 0;left: 50%;z-index: 0;}#sk-container-id-1 div.sk-serial {display: flex;flex-direction: column;align-items: center;background-color: white;padding-right: 0.2em;padding-left: 0.2em;position: relative;}#sk-container-id-1 div.sk-item {position: relative;z-index: 1;}#sk-container-id-1 div.sk-parallel {display: flex;align-items: stretch;justify-content: center;background-color: white;position: relative;}#sk-container-id-1 div.sk-item::before, #sk-container-id-1 div.sk-parallel-item::before {content: \"\";position: absolute;border-left: 1px solid gray;box-sizing: border-box;top: 0;bottom: 0;left: 50%;z-index: -1;}#sk-container-id-1 div.sk-parallel-item {display: flex;flex-direction: column;z-index: 1;position: relative;background-color: white;}#sk-container-id-1 div.sk-parallel-item:first-child::after {align-self: flex-end;width: 50%;}#sk-container-id-1 div.sk-parallel-item:last-child::after {align-self: flex-start;width: 50%;}#sk-container-id-1 div.sk-parallel-item:only-child::after {width: 0;}#sk-container-id-1 div.sk-dashed-wrapped {border: 1px dashed gray;margin: 0 0.4em 0.5em 0.4em;box-sizing: border-box;padding-bottom: 0.4em;background-color: white;}#sk-container-id-1 div.sk-label label {font-family: monospace;font-weight: bold;display: inline-block;line-height: 1.2em;}#sk-container-id-1 div.sk-label-container {text-align: center;}#sk-container-id-1 div.sk-container {/* jupyter's `normalize.less` sets `[hidden] { display: none; }` but bootstrap.min.css set `[hidden] { display: none !important; }` so we also need the `!important` here to be able to override the default hidden behavior on the sphinx rendered scikit-learn.org. See: https://github.com/scikit-learn/scikit-learn/issues/21755 */display: inline-block !important;position: relative;}#sk-container-id-1 div.sk-text-repr-fallback {display: none;}</style><div id=\"sk-container-id-1\" class=\"sk-top-container\"><div class=\"sk-text-repr-fallback\"><pre>Pipeline(steps=[(&#x27;scale&#x27;, None), (&#x27;model&#x27;, RandomForestClassifier(n_jobs=-1))])</pre><b>In a Jupyter environment, please rerun this cell to show the HTML representation or trust the notebook. <br />On GitHub, the HTML representation is unable to render, please try loading this page with nbviewer.org.</b></div><div class=\"sk-container\" hidden><div class=\"sk-item sk-dashed-wrapped\"><div class=\"sk-label-container\"><div class=\"sk-label sk-toggleable\"><input class=\"sk-toggleable__control sk-hidden--visually\" id=\"sk-estimator-id-1\" type=\"checkbox\" ><label for=\"sk-estimator-id-1\" class=\"sk-toggleable__label sk-toggleable__label-arrow\">Pipeline</label><div class=\"sk-toggleable__content\"><pre>Pipeline(steps=[(&#x27;scale&#x27;, None), (&#x27;model&#x27;, RandomForestClassifier(n_jobs=-1))])</pre></div></div></div><div class=\"sk-serial\"><div class=\"sk-item\"><div class=\"sk-estimator sk-toggleable\"><input class=\"sk-toggleable__control sk-hidden--visually\" id=\"sk-estimator-id-2\" type=\"checkbox\" ><label for=\"sk-estimator-id-2\" class=\"sk-toggleable__label sk-toggleable__label-arrow\">None</label><div class=\"sk-toggleable__content\"><pre>None</pre></div></div></div><div class=\"sk-item\"><div class=\"sk-estimator sk-toggleable\"><input class=\"sk-toggleable__control sk-hidden--visually\" id=\"sk-estimator-id-3\" type=\"checkbox\" ><label for=\"sk-estimator-id-3\" class=\"sk-toggleable__label sk-toggleable__label-arrow\">RandomForestClassifier</label><div class=\"sk-toggleable__content\"><pre>RandomForestClassifier(n_jobs=-1)</pre></div></div></div></div></div></div></div>"
      ],
      "text/plain": [
       "Pipeline(steps=[('scale', None), ('model', RandomForestClassifier(n_jobs=-1))])"
      ]
     },
     "execution_count": 43,
     "metadata": {},
     "output_type": "execute_result"
    }
   ],
   "source": [
    "model.fit(X_train, y_train.values.ravel())"
   ]
  },
  {
   "cell_type": "code",
   "execution_count": 44,
   "id": "af59f8c0",
   "metadata": {
    "execution": {
     "iopub.execute_input": "2025-07-30T13:49:30.522041Z",
     "iopub.status.busy": "2025-07-30T13:49:30.521173Z",
     "iopub.status.idle": "2025-07-30T13:49:30.526660Z",
     "shell.execute_reply": "2025-07-30T13:49:30.525771Z"
    },
    "papermill": {
     "duration": 0.033809,
     "end_time": "2025-07-30T13:49:30.528080",
     "exception": false,
     "start_time": "2025-07-30T13:49:30.494271",
     "status": "completed"
    },
    "tags": []
   },
   "outputs": [],
   "source": [
    "from fairness_multiverse.universe import predict_w_threshold"
   ]
  },
  {
   "cell_type": "code",
   "execution_count": 45,
   "id": "a7cf2e16",
   "metadata": {
    "execution": {
     "iopub.execute_input": "2025-07-30T13:49:30.581222Z",
     "iopub.status.busy": "2025-07-30T13:49:30.580167Z",
     "iopub.status.idle": "2025-07-30T13:49:31.400038Z",
     "shell.execute_reply": "2025-07-30T13:49:31.399145Z"
    },
    "papermill": {
     "duration": 0.847802,
     "end_time": "2025-07-30T13:49:31.401842",
     "exception": false,
     "start_time": "2025-07-30T13:49:30.554040",
     "status": "completed"
    },
    "tags": []
   },
   "outputs": [
    {
     "data": {
      "text/plain": [
       "0.8631813621669825"
      ]
     },
     "execution_count": 45,
     "metadata": {},
     "output_type": "execute_result"
    }
   ],
   "source": [
    "probs_test = model.predict_proba(X_test)\n",
    "\n",
    "'''\n",
    "Below code returns a boolean array (or binary 0/1 array depending on how it’s used) where each element \n",
    "is True if the probability of class 1 is greater than or equal to the threshold, and False otherwise.\n",
    "'''\n",
    "y_pred_default = predict_w_threshold(probs_test, 0.5)\n",
    "\n",
    "from sklearn.metrics import accuracy_score\n",
    "\n",
    "# Naive prediction\n",
    "accuracy_score(y_true = y_true, y_pred = y_pred_default)"
   ]
  },
  {
   "cell_type": "code",
   "execution_count": 46,
   "id": "081964c3",
   "metadata": {
    "execution": {
     "iopub.execute_input": "2025-07-30T13:49:31.462903Z",
     "iopub.status.busy": "2025-07-30T13:49:31.461980Z",
     "iopub.status.idle": "2025-07-30T13:49:32.266960Z",
     "shell.execute_reply": "2025-07-30T13:49:32.266005Z"
    },
    "papermill": {
     "duration": 0.836948,
     "end_time": "2025-07-30T13:49:32.268416",
     "exception": false,
     "start_time": "2025-07-30T13:49:31.431468",
     "status": "completed"
    },
    "tags": []
   },
   "outputs": [
    {
     "data": {
      "text/plain": [
       "array([0, 0, 0, ..., 0, 0, 0])"
      ]
     },
     "execution_count": 46,
     "metadata": {},
     "output_type": "execute_result"
    }
   ],
   "source": [
    "model.predict(X_test)"
   ]
  },
  {
   "cell_type": "markdown",
   "id": "56c9705b",
   "metadata": {
    "papermill": {
     "duration": 0.012265,
     "end_time": "2025-07-30T13:49:32.293846",
     "exception": false,
     "start_time": "2025-07-30T13:49:32.281581",
     "status": "completed"
    },
    "tags": []
   },
   "source": [
    "# Conformal Prediction"
   ]
  },
  {
   "cell_type": "code",
   "execution_count": 47,
   "id": "160ec6ff",
   "metadata": {
    "execution": {
     "iopub.execute_input": "2025-07-30T13:49:32.321995Z",
     "iopub.status.busy": "2025-07-30T13:49:32.321222Z",
     "iopub.status.idle": "2025-07-30T13:49:32.326041Z",
     "shell.execute_reply": "2025-07-30T13:49:32.325270Z"
    },
    "papermill": {
     "duration": 0.020607,
     "end_time": "2025-07-30T13:49:32.327395",
     "exception": false,
     "start_time": "2025-07-30T13:49:32.306788",
     "status": "completed"
    },
    "tags": []
   },
   "outputs": [],
   "source": [
    "# Miscoverage level for conformal prediction (10% allowed error rate => 90% target coverage)\n",
    "alpha = 0.1"
   ]
  },
  {
   "cell_type": "code",
   "execution_count": 48,
   "id": "eadf4555-3dd3-440e-8e35-f82a4ad9f855",
   "metadata": {
    "execution": {
     "iopub.execute_input": "2025-07-30T13:49:32.356164Z",
     "iopub.status.busy": "2025-07-30T13:49:32.355740Z",
     "iopub.status.idle": "2025-07-30T13:49:33.091054Z",
     "shell.execute_reply": "2025-07-30T13:49:33.090008Z"
    },
    "papermill": {
     "duration": 0.751508,
     "end_time": "2025-07-30T13:49:33.092886",
     "exception": false,
     "start_time": "2025-07-30T13:49:32.341378",
     "status": "completed"
    },
    "tags": []
   },
   "outputs": [],
   "source": [
    "probs_calib = model.predict_proba(X_calib)"
   ]
  },
  {
   "cell_type": "code",
   "execution_count": 49,
   "id": "2ed93547-6d5d-4983-9b36-1ecb300da49a",
   "metadata": {
    "execution": {
     "iopub.execute_input": "2025-07-30T13:49:33.137520Z",
     "iopub.status.busy": "2025-07-30T13:49:33.137080Z",
     "iopub.status.idle": "2025-07-30T13:49:33.142431Z",
     "shell.execute_reply": "2025-07-30T13:49:33.141728Z"
    },
    "papermill": {
     "duration": 0.020588,
     "end_time": "2025-07-30T13:49:33.143712",
     "exception": false,
     "start_time": "2025-07-30T13:49:33.123124",
     "status": "completed"
    },
    "tags": []
   },
   "outputs": [],
   "source": [
    "y_calib = y_calib.values.ravel().astype(int)"
   ]
  },
  {
   "cell_type": "code",
   "execution_count": 50,
   "id": "65d1320d-f588-4b38-9072-62af1ae97f7d",
   "metadata": {
    "execution": {
     "iopub.execute_input": "2025-07-30T13:49:33.171470Z",
     "iopub.status.busy": "2025-07-30T13:49:33.171052Z",
     "iopub.status.idle": "2025-07-30T13:49:33.177760Z",
     "shell.execute_reply": "2025-07-30T13:49:33.177037Z"
    },
    "papermill": {
     "duration": 0.021007,
     "end_time": "2025-07-30T13:49:33.179098",
     "exception": false,
     "start_time": "2025-07-30T13:49:33.158091",
     "status": "completed"
    },
    "tags": []
   },
   "outputs": [],
   "source": [
    "from fairness_multiverse.conformal import compute_nc_scores\n",
    "\n",
    "# Compute nonconformity scores on calibration set (1 - probability of true class)\n",
    "nc_scores = compute_nc_scores(probs_calib, y_calib)"
   ]
  },
  {
   "cell_type": "code",
   "execution_count": 51,
   "id": "df3b8ca3-53b7-43d5-9667-7c85da7aeda2",
   "metadata": {
    "execution": {
     "iopub.execute_input": "2025-07-30T13:49:33.231413Z",
     "iopub.status.busy": "2025-07-30T13:49:33.230858Z",
     "iopub.status.idle": "2025-07-30T13:49:33.238314Z",
     "shell.execute_reply": "2025-07-30T13:49:33.237183Z"
    },
    "papermill": {
     "duration": 0.044064,
     "end_time": "2025-07-30T13:49:33.240660",
     "exception": false,
     "start_time": "2025-07-30T13:49:33.196596",
     "status": "completed"
    },
    "tags": []
   },
   "outputs": [],
   "source": [
    "from fairness_multiverse.conformal import find_threshold\n",
    "\n",
    "# Find conformal threshold q_hat for the given alpha (split conformal method)\n",
    "q_hat = find_threshold(nc_scores, alpha)"
   ]
  },
  {
   "cell_type": "code",
   "execution_count": 52,
   "id": "4d29e6c1-0ef6-4aa4-b8fe-4fe79b0d033a",
   "metadata": {
    "execution": {
     "iopub.execute_input": "2025-07-30T13:49:33.295471Z",
     "iopub.status.busy": "2025-07-30T13:49:33.294766Z",
     "iopub.status.idle": "2025-07-30T13:49:33.302421Z",
     "shell.execute_reply": "2025-07-30T13:49:33.301581Z"
    },
    "papermill": {
     "duration": 0.033569,
     "end_time": "2025-07-30T13:49:33.303895",
     "exception": false,
     "start_time": "2025-07-30T13:49:33.270326",
     "status": "completed"
    },
    "tags": []
   },
   "outputs": [
    {
     "data": {
      "text/plain": [
       "0.65"
      ]
     },
     "execution_count": 52,
     "metadata": {},
     "output_type": "execute_result"
    }
   ],
   "source": [
    "q_hat"
   ]
  },
  {
   "cell_type": "code",
   "execution_count": 53,
   "id": "92460794-cdac-4be2-ba28-f28c0515a6fb",
   "metadata": {
    "execution": {
     "iopub.execute_input": "2025-07-30T13:49:33.351259Z",
     "iopub.status.busy": "2025-07-30T13:49:33.350547Z",
     "iopub.status.idle": "2025-07-30T13:49:34.876448Z",
     "shell.execute_reply": "2025-07-30T13:49:34.875468Z"
    },
    "papermill": {
     "duration": 1.551699,
     "end_time": "2025-07-30T13:49:34.878479",
     "exception": false,
     "start_time": "2025-07-30T13:49:33.326780",
     "status": "completed"
    },
    "tags": []
   },
   "outputs": [],
   "source": [
    "from fairness_multiverse.conformal import predict_conformal_sets\n",
    "\n",
    "# Generate prediction sets for each test example\n",
    "pred_sets = predict_conformal_sets(model, X_test, q_hat)"
   ]
  },
  {
   "cell_type": "code",
   "execution_count": 54,
   "id": "d90c9a65-e6db-4f5d-80cd-e68fb7e46829",
   "metadata": {
    "execution": {
     "iopub.execute_input": "2025-07-30T13:49:34.916787Z",
     "iopub.status.busy": "2025-07-30T13:49:34.916326Z",
     "iopub.status.idle": "2025-07-30T13:49:34.920947Z",
     "shell.execute_reply": "2025-07-30T13:49:34.920172Z"
    },
    "papermill": {
     "duration": 0.020575,
     "end_time": "2025-07-30T13:49:34.922242",
     "exception": false,
     "start_time": "2025-07-30T13:49:34.901667",
     "status": "completed"
    },
    "tags": []
   },
   "outputs": [],
   "source": [
    "y_true = y_true.squeeze()"
   ]
  },
  {
   "cell_type": "code",
   "execution_count": 55,
   "id": "3a58a54a-1e68-46b9-927a-df01f18aebc8",
   "metadata": {
    "execution": {
     "iopub.execute_input": "2025-07-30T13:49:34.950577Z",
     "iopub.status.busy": "2025-07-30T13:49:34.949943Z",
     "iopub.status.idle": "2025-07-30T13:49:35.424424Z",
     "shell.execute_reply": "2025-07-30T13:49:35.423590Z"
    },
    "papermill": {
     "duration": 0.490626,
     "end_time": "2025-07-30T13:49:35.425898",
     "exception": false,
     "start_time": "2025-07-30T13:49:34.935272",
     "status": "completed"
    },
    "tags": []
   },
   "outputs": [],
   "source": [
    "from fairness_multiverse.conformal import evaluate_sets\n",
    "\n",
    "# Evaluate coverage and average set size on test data\n",
    "metrics = evaluate_sets(pred_sets, y_true)"
   ]
  },
  {
   "cell_type": "markdown",
   "id": "2b569c12-9aaa-4c88-98c9-bbcd0cf3ebb8",
   "metadata": {
    "papermill": {
     "duration": 0.012479,
     "end_time": "2025-07-30T13:49:35.452165",
     "exception": false,
     "start_time": "2025-07-30T13:49:35.439686",
     "status": "completed"
    },
    "tags": []
   },
   "source": [
    "# CP Metrics"
   ]
  },
  {
   "cell_type": "code",
   "execution_count": 56,
   "id": "5ce0a5cb-201f-45a0-ade5-94c7f0bd6095",
   "metadata": {
    "execution": {
     "iopub.execute_input": "2025-07-30T13:49:35.478909Z",
     "iopub.status.busy": "2025-07-30T13:49:35.478410Z",
     "iopub.status.idle": "2025-07-30T13:49:35.484840Z",
     "shell.execute_reply": "2025-07-30T13:49:35.484099Z"
    },
    "papermill": {
     "duration": 0.021344,
     "end_time": "2025-07-30T13:49:35.486120",
     "exception": false,
     "start_time": "2025-07-30T13:49:35.464776",
     "status": "completed"
    },
    "tags": []
   },
   "outputs": [
    {
     "data": {
      "text/plain": [
       "{'coverage': 0.9124177906587895, 'avg_size': 1.1377326942369859}"
      ]
     },
     "execution_count": 56,
     "metadata": {},
     "output_type": "execute_result"
    }
   ],
   "source": [
    "metrics"
   ]
  },
  {
   "cell_type": "code",
   "execution_count": 57,
   "id": "9b9a838d-31c9-430b-ae14-12baee460d17",
   "metadata": {
    "execution": {
     "iopub.execute_input": "2025-07-30T13:49:35.513243Z",
     "iopub.status.busy": "2025-07-30T13:49:35.512584Z",
     "iopub.status.idle": "2025-07-30T13:49:35.517600Z",
     "shell.execute_reply": "2025-07-30T13:49:35.516930Z"
    },
    "papermill": {
     "duration": 0.019731,
     "end_time": "2025-07-30T13:49:35.518929",
     "exception": false,
     "start_time": "2025-07-30T13:49:35.499198",
     "status": "completed"
    },
    "tags": []
   },
   "outputs": [],
   "source": [
    "example_universe = universe.copy()\n",
    "universe_training_size = example_universe.get(\"training_size\")\n",
    "universe_scale = example_universe.get(\"scale\")\n",
    "universe_model = example_universe.get(\"model\")\n",
    "universe_exclude_features = example_universe.get(\"exclude_features\")\n",
    "universe_exclude_subgroups = example_universe.get(\"exclude_subgroups\")"
   ]
  },
  {
   "cell_type": "code",
   "execution_count": 58,
   "id": "f4b6a8ac-9dc0-4245-8a91-5b3b5999c4f9",
   "metadata": {
    "execution": {
     "iopub.execute_input": "2025-07-30T13:49:35.546351Z",
     "iopub.status.busy": "2025-07-30T13:49:35.545698Z",
     "iopub.status.idle": "2025-07-30T13:49:35.550838Z",
     "shell.execute_reply": "2025-07-30T13:49:35.550177Z"
    },
    "papermill": {
     "duration": 0.019835,
     "end_time": "2025-07-30T13:49:35.552104",
     "exception": false,
     "start_time": "2025-07-30T13:49:35.532269",
     "status": "completed"
    },
    "tags": []
   },
   "outputs": [],
   "source": [
    "cp_metrics_dict = {\n",
    "    \"universe_id\": [universe_id],\n",
    "    \"universe_training_size\": [universe_training_size],\n",
    "    \"universe_scale\": [universe_scale],\n",
    "    \"universe_model\": [universe_model],\n",
    "    \"universe_exclude_features\": [universe_exclude_features],\n",
    "    \"universe_exclude_subgroups\": [universe_exclude_subgroups],\n",
    "    \"q_hat\": [q_hat],\n",
    "    \"coverage\": [metrics[\"coverage\"]],\n",
    "    \"avg_size\": [metrics[\"avg_size\"]],\n",
    "}"
   ]
  },
  {
   "cell_type": "code",
   "execution_count": 59,
   "id": "908acbb1-0371-4915-85ca-3fa520d2efe2",
   "metadata": {
    "execution": {
     "iopub.execute_input": "2025-07-30T13:49:35.580115Z",
     "iopub.status.busy": "2025-07-30T13:49:35.579370Z",
     "iopub.status.idle": "2025-07-30T13:49:35.588908Z",
     "shell.execute_reply": "2025-07-30T13:49:35.588177Z"
    },
    "papermill": {
     "duration": 0.024566,
     "end_time": "2025-07-30T13:49:35.590190",
     "exception": false,
     "start_time": "2025-07-30T13:49:35.565624",
     "status": "completed"
    },
    "tags": []
   },
   "outputs": [
    {
     "data": {
      "text/plain": [
       "{'universe_id': ['567c21be0f0ea5abd5da38f5438df2a0'],\n",
       " 'universe_training_size': ['5k'],\n",
       " 'universe_scale': ['do-not-scale'],\n",
       " 'universe_model': ['rf'],\n",
       " 'universe_exclude_features': ['sex'],\n",
       " 'universe_exclude_subgroups': ['drop-non-german'],\n",
       " 'q_hat': [0.65],\n",
       " 'coverage': [0.9124177906587895],\n",
       " 'avg_size': [1.1377326942369859]}"
      ]
     },
     "execution_count": 59,
     "metadata": {},
     "output_type": "execute_result"
    }
   ],
   "source": [
    "cp_metrics_dict"
   ]
  },
  {
   "cell_type": "code",
   "execution_count": 60,
   "id": "33007efc-14e9-4ec6-97ac-56a455c82265",
   "metadata": {
    "execution": {
     "iopub.execute_input": "2025-07-30T13:49:35.617882Z",
     "iopub.status.busy": "2025-07-30T13:49:35.617366Z",
     "iopub.status.idle": "2025-07-30T13:49:35.622520Z",
     "shell.execute_reply": "2025-07-30T13:49:35.621811Z"
    },
    "papermill": {
     "duration": 0.02008,
     "end_time": "2025-07-30T13:49:35.623752",
     "exception": false,
     "start_time": "2025-07-30T13:49:35.603672",
     "status": "completed"
    },
    "tags": []
   },
   "outputs": [],
   "source": [
    "cp_metrics_df = pd.DataFrame(cp_metrics_dict)"
   ]
  },
  {
   "cell_type": "code",
   "execution_count": 61,
   "id": "db12611b-57b2-4910-b9d0-355adfd6e7bf",
   "metadata": {
    "execution": {
     "iopub.execute_input": "2025-07-30T13:49:35.651689Z",
     "iopub.status.busy": "2025-07-30T13:49:35.651023Z",
     "iopub.status.idle": "2025-07-30T13:49:35.664493Z",
     "shell.execute_reply": "2025-07-30T13:49:35.663721Z"
    },
    "papermill": {
     "duration": 0.028489,
     "end_time": "2025-07-30T13:49:35.665674",
     "exception": false,
     "start_time": "2025-07-30T13:49:35.637185",
     "status": "completed"
    },
    "tags": []
   },
   "outputs": [
    {
     "data": {
      "text/html": [
       "<div>\n",
       "<style scoped>\n",
       "    .dataframe tbody tr th:only-of-type {\n",
       "        vertical-align: middle;\n",
       "    }\n",
       "\n",
       "    .dataframe tbody tr th {\n",
       "        vertical-align: top;\n",
       "    }\n",
       "\n",
       "    .dataframe thead th {\n",
       "        text-align: right;\n",
       "    }\n",
       "</style>\n",
       "<table border=\"1\" class=\"dataframe\">\n",
       "  <thead>\n",
       "    <tr style=\"text-align: right;\">\n",
       "      <th></th>\n",
       "      <th>universe_id</th>\n",
       "      <th>universe_training_size</th>\n",
       "      <th>universe_scale</th>\n",
       "      <th>universe_model</th>\n",
       "      <th>universe_exclude_features</th>\n",
       "      <th>universe_exclude_subgroups</th>\n",
       "      <th>q_hat</th>\n",
       "      <th>coverage</th>\n",
       "      <th>avg_size</th>\n",
       "    </tr>\n",
       "  </thead>\n",
       "  <tbody>\n",
       "    <tr>\n",
       "      <th>0</th>\n",
       "      <td>567c21be0f0ea5abd5da38f5438df2a0</td>\n",
       "      <td>5k</td>\n",
       "      <td>do-not-scale</td>\n",
       "      <td>rf</td>\n",
       "      <td>sex</td>\n",
       "      <td>drop-non-german</td>\n",
       "      <td>0.65</td>\n",
       "      <td>0.912418</td>\n",
       "      <td>1.137733</td>\n",
       "    </tr>\n",
       "  </tbody>\n",
       "</table>\n",
       "</div>"
      ],
      "text/plain": [
       "                        universe_id universe_training_size universe_scale  \\\n",
       "0  567c21be0f0ea5abd5da38f5438df2a0                     5k   do-not-scale   \n",
       "\n",
       "  universe_model universe_exclude_features universe_exclude_subgroups  q_hat  \\\n",
       "0             rf                       sex            drop-non-german   0.65   \n",
       "\n",
       "   coverage  avg_size  \n",
       "0  0.912418  1.137733  "
      ]
     },
     "execution_count": 61,
     "metadata": {},
     "output_type": "execute_result"
    }
   ],
   "source": [
    "cp_metrics_df"
   ]
  },
  {
   "cell_type": "code",
   "execution_count": 62,
   "id": "b7fbde55-a0a1-47e4-9af6-fe4a17fa8c61",
   "metadata": {
    "execution": {
     "iopub.execute_input": "2025-07-30T13:49:35.693649Z",
     "iopub.status.busy": "2025-07-30T13:49:35.693004Z",
     "iopub.status.idle": "2025-07-30T13:49:35.697162Z",
     "shell.execute_reply": "2025-07-30T13:49:35.696493Z"
    },
    "papermill": {
     "duration": 0.01924,
     "end_time": "2025-07-30T13:49:35.698358",
     "exception": false,
     "start_time": "2025-07-30T13:49:35.679118",
     "status": "completed"
    },
    "tags": []
   },
   "outputs": [],
   "source": [
    "# Conditional Coverage & looking at subgroups"
   ]
  },
  {
   "cell_type": "code",
   "execution_count": 63,
   "id": "027ae886-68dd-4141-96c7-805a5450e1ef",
   "metadata": {
    "execution": {
     "iopub.execute_input": "2025-07-30T13:49:35.726410Z",
     "iopub.status.busy": "2025-07-30T13:49:35.725774Z",
     "iopub.status.idle": "2025-07-30T13:49:35.900689Z",
     "shell.execute_reply": "2025-07-30T13:49:35.899925Z"
    },
    "papermill": {
     "duration": 0.190258,
     "end_time": "2025-07-30T13:49:35.902133",
     "exception": false,
     "start_time": "2025-07-30T13:49:35.711875",
     "status": "completed"
    },
    "tags": []
   },
   "outputs": [],
   "source": [
    "from fairness_multiverse.conformal import build_cp_groups\n",
    "\n",
    "cp_groups_df = build_cp_groups(pred_sets, y_true, X_test.index, org_test)\n",
    "#needs universe_id and setting"
   ]
  },
  {
   "cell_type": "code",
   "execution_count": 64,
   "id": "01d5802c-663a-4d1f-9d69-e036faaffbf7",
   "metadata": {
    "execution": {
     "iopub.execute_input": "2025-07-30T13:49:35.931195Z",
     "iopub.status.busy": "2025-07-30T13:49:35.930503Z",
     "iopub.status.idle": "2025-07-30T13:49:35.935518Z",
     "shell.execute_reply": "2025-07-30T13:49:35.934651Z"
    },
    "papermill": {
     "duration": 0.020979,
     "end_time": "2025-07-30T13:49:35.937358",
     "exception": false,
     "start_time": "2025-07-30T13:49:35.916379",
     "status": "completed"
    },
    "tags": []
   },
   "outputs": [],
   "source": [
    "#delete\n",
    "#cp_groups_df"
   ]
  },
  {
   "cell_type": "code",
   "execution_count": 65,
   "id": "fa424af1-d1eb-443d-b717-2d279ada8408",
   "metadata": {
    "execution": {
     "iopub.execute_input": "2025-07-30T13:49:36.006609Z",
     "iopub.status.busy": "2025-07-30T13:49:36.005955Z",
     "iopub.status.idle": "2025-07-30T13:49:36.010983Z",
     "shell.execute_reply": "2025-07-30T13:49:36.010046Z"
    },
    "papermill": {
     "duration": 0.039987,
     "end_time": "2025-07-30T13:49:36.012538",
     "exception": false,
     "start_time": "2025-07-30T13:49:35.972551",
     "status": "completed"
    },
    "tags": []
   },
   "outputs": [],
   "source": [
    "#delete\n",
    "#percentage = (cp_groups_df['nongerman_female'] == 1).mean() * 100\n",
    "#print(percentage)\n"
   ]
  },
  {
   "cell_type": "code",
   "execution_count": 66,
   "id": "6cbdab96-b2b2-45af-ad54-d0516db2e28d",
   "metadata": {
    "execution": {
     "iopub.execute_input": "2025-07-30T13:49:36.064314Z",
     "iopub.status.busy": "2025-07-30T13:49:36.063544Z",
     "iopub.status.idle": "2025-07-30T13:49:37.619728Z",
     "shell.execute_reply": "2025-07-30T13:49:37.618789Z"
    },
    "papermill": {
     "duration": 1.584467,
     "end_time": "2025-07-30T13:49:37.621733",
     "exception": false,
     "start_time": "2025-07-30T13:49:36.037266",
     "status": "completed"
    },
    "tags": []
   },
   "outputs": [],
   "source": [
    "# Define covered = 1 if true_label is in the predicted set\n",
    "cp_groups_df['covered'] = cp_groups_df.apply(\n",
    "    lambda r: int(r['true_label'] in r['pred_set']),\n",
    "    axis=1\n",
    ")"
   ]
  },
  {
   "cell_type": "code",
   "execution_count": 67,
   "id": "338ff529-1a6b-4b87-a931-8e4788d52aad",
   "metadata": {
    "execution": {
     "iopub.execute_input": "2025-07-30T13:49:37.681340Z",
     "iopub.status.busy": "2025-07-30T13:49:37.680889Z",
     "iopub.status.idle": "2025-07-30T13:49:37.687186Z",
     "shell.execute_reply": "2025-07-30T13:49:37.686066Z"
    },
    "papermill": {
     "duration": 0.03763,
     "end_time": "2025-07-30T13:49:37.689075",
     "exception": false,
     "start_time": "2025-07-30T13:49:37.651445",
     "status": "completed"
    },
    "tags": []
   },
   "outputs": [],
   "source": [
    "#cp_groups_df"
   ]
  },
  {
   "cell_type": "code",
   "execution_count": 68,
   "id": "90032e27-66df-4540-9169-4e89cfbaa758",
   "metadata": {
    "execution": {
     "iopub.execute_input": "2025-07-30T13:49:37.740509Z",
     "iopub.status.busy": "2025-07-30T13:49:37.739677Z",
     "iopub.status.idle": "2025-07-30T13:49:37.751944Z",
     "shell.execute_reply": "2025-07-30T13:49:37.750753Z"
    },
    "papermill": {
     "duration": 0.040375,
     "end_time": "2025-07-30T13:49:37.754479",
     "exception": false,
     "start_time": "2025-07-30T13:49:37.714104",
     "status": "completed"
    },
    "tags": []
   },
   "outputs": [],
   "source": [
    "subgroups = ['frau1','nongerman','nongerman_male','nongerman_female']\n",
    "\n",
    "# Conditional coverage for subgroup==1\n",
    "cond_coverage = {\n",
    "    g: cp_groups_df.loc[cp_groups_df[g]==1, 'covered'].mean()\n",
    "    for g in subgroups\n",
    "}"
   ]
  },
  {
   "cell_type": "code",
   "execution_count": 69,
   "id": "1e348fb1-b9c3-45bc-ba23-f016827a7e0d",
   "metadata": {
    "execution": {
     "iopub.execute_input": "2025-07-30T13:49:37.808639Z",
     "iopub.status.busy": "2025-07-30T13:49:37.807748Z",
     "iopub.status.idle": "2025-07-30T13:49:37.815443Z",
     "shell.execute_reply": "2025-07-30T13:49:37.814501Z"
    },
    "papermill": {
     "duration": 0.03615,
     "end_time": "2025-07-30T13:49:37.816922",
     "exception": false,
     "start_time": "2025-07-30T13:49:37.780772",
     "status": "completed"
    },
    "tags": []
   },
   "outputs": [
    {
     "data": {
      "text/plain": [
       "{'frau1': 0.9103113627173474,\n",
       " 'nongerman': 0.9110761803177455,\n",
       " 'nongerman_male': 0.9265964153832298,\n",
       " 'nongerman_female': 0.8853949329359165}"
      ]
     },
     "execution_count": 69,
     "metadata": {},
     "output_type": "execute_result"
    }
   ],
   "source": [
    "cond_coverage"
   ]
  },
  {
   "cell_type": "code",
   "execution_count": 70,
   "id": "f5093324-c3dd-4d63-bc4c-8d945e5c8bbb",
   "metadata": {
    "execution": {
     "iopub.execute_input": "2025-07-30T13:49:37.869292Z",
     "iopub.status.busy": "2025-07-30T13:49:37.868371Z",
     "iopub.status.idle": "2025-07-30T13:49:37.875942Z",
     "shell.execute_reply": "2025-07-30T13:49:37.875041Z"
    },
    "papermill": {
     "duration": 0.035301,
     "end_time": "2025-07-30T13:49:37.877578",
     "exception": false,
     "start_time": "2025-07-30T13:49:37.842277",
     "status": "completed"
    },
    "tags": []
   },
   "outputs": [],
   "source": [
    "for subgroup, cov in cond_coverage.items():\n",
    "    cp_metrics_df[f\"cov_{subgroup}\"] = cov"
   ]
  },
  {
   "cell_type": "code",
   "execution_count": 71,
   "id": "6e872e10-dbe5-49e8-b554-5030c98ff75d",
   "metadata": {
    "execution": {
     "iopub.execute_input": "2025-07-30T13:49:37.931961Z",
     "iopub.status.busy": "2025-07-30T13:49:37.931392Z",
     "iopub.status.idle": "2025-07-30T13:49:37.950407Z",
     "shell.execute_reply": "2025-07-30T13:49:37.949417Z"
    },
    "papermill": {
     "duration": 0.046999,
     "end_time": "2025-07-30T13:49:37.952099",
     "exception": false,
     "start_time": "2025-07-30T13:49:37.905100",
     "status": "completed"
    },
    "tags": []
   },
   "outputs": [
    {
     "data": {
      "text/html": [
       "<div>\n",
       "<style scoped>\n",
       "    .dataframe tbody tr th:only-of-type {\n",
       "        vertical-align: middle;\n",
       "    }\n",
       "\n",
       "    .dataframe tbody tr th {\n",
       "        vertical-align: top;\n",
       "    }\n",
       "\n",
       "    .dataframe thead th {\n",
       "        text-align: right;\n",
       "    }\n",
       "</style>\n",
       "<table border=\"1\" class=\"dataframe\">\n",
       "  <thead>\n",
       "    <tr style=\"text-align: right;\">\n",
       "      <th></th>\n",
       "      <th>universe_id</th>\n",
       "      <th>universe_training_size</th>\n",
       "      <th>universe_scale</th>\n",
       "      <th>universe_model</th>\n",
       "      <th>universe_exclude_features</th>\n",
       "      <th>universe_exclude_subgroups</th>\n",
       "      <th>q_hat</th>\n",
       "      <th>coverage</th>\n",
       "      <th>avg_size</th>\n",
       "      <th>cov_frau1</th>\n",
       "      <th>cov_nongerman</th>\n",
       "      <th>cov_nongerman_male</th>\n",
       "      <th>cov_nongerman_female</th>\n",
       "    </tr>\n",
       "  </thead>\n",
       "  <tbody>\n",
       "    <tr>\n",
       "      <th>0</th>\n",
       "      <td>567c21be0f0ea5abd5da38f5438df2a0</td>\n",
       "      <td>5k</td>\n",
       "      <td>do-not-scale</td>\n",
       "      <td>rf</td>\n",
       "      <td>sex</td>\n",
       "      <td>drop-non-german</td>\n",
       "      <td>0.65</td>\n",
       "      <td>0.912418</td>\n",
       "      <td>1.137733</td>\n",
       "      <td>0.910311</td>\n",
       "      <td>0.911076</td>\n",
       "      <td>0.926596</td>\n",
       "      <td>0.885395</td>\n",
       "    </tr>\n",
       "  </tbody>\n",
       "</table>\n",
       "</div>"
      ],
      "text/plain": [
       "                        universe_id universe_training_size universe_scale  \\\n",
       "0  567c21be0f0ea5abd5da38f5438df2a0                     5k   do-not-scale   \n",
       "\n",
       "  universe_model universe_exclude_features universe_exclude_subgroups  q_hat  \\\n",
       "0             rf                       sex            drop-non-german   0.65   \n",
       "\n",
       "   coverage  avg_size  cov_frau1  cov_nongerman  cov_nongerman_male  \\\n",
       "0  0.912418  1.137733   0.910311       0.911076            0.926596   \n",
       "\n",
       "   cov_nongerman_female  \n",
       "0              0.885395  "
      ]
     },
     "execution_count": 71,
     "metadata": {},
     "output_type": "execute_result"
    }
   ],
   "source": [
    "cp_metrics_df"
   ]
  },
  {
   "cell_type": "markdown",
   "id": "33774451",
   "metadata": {
    "papermill": {
     "duration": 0.026902,
     "end_time": "2025-07-30T13:49:38.005038",
     "exception": false,
     "start_time": "2025-07-30T13:49:37.978136",
     "status": "completed"
    },
    "tags": []
   },
   "source": [
    "# (Fairness) Metrics"
   ]
  },
  {
   "cell_type": "code",
   "execution_count": 72,
   "id": "debc5d62",
   "metadata": {
    "execution": {
     "iopub.execute_input": "2025-07-30T13:49:38.058775Z",
     "iopub.status.busy": "2025-07-30T13:49:38.058204Z",
     "iopub.status.idle": "2025-07-30T13:49:38.079663Z",
     "shell.execute_reply": "2025-07-30T13:49:38.078709Z"
    },
    "papermill": {
     "duration": 0.05074,
     "end_time": "2025-07-30T13:49:38.081309",
     "exception": false,
     "start_time": "2025-07-30T13:49:38.030569",
     "status": "completed"
    },
    "tags": []
   },
   "outputs": [],
   "source": [
    "# do I need to include maxdeutsch1.missing?\n",
    "\n",
    "import numpy as np\n",
    "\n",
    "colname_to_bin = \"maxdeutsch1\"\n",
    "majority_value = org_train[colname_to_bin].mode()[0]\n",
    "\n",
    "org_test[\"majmin\"] = np.where(org_test[colname_to_bin] == majority_value, \"majority\", \"minority\")"
   ]
  },
  {
   "cell_type": "code",
   "execution_count": 73,
   "id": "06a50de5",
   "metadata": {
    "execution": {
     "iopub.execute_input": "2025-07-30T13:49:38.134995Z",
     "iopub.status.busy": "2025-07-30T13:49:38.134354Z",
     "iopub.status.idle": "2025-07-30T13:49:40.983503Z",
     "shell.execute_reply": "2025-07-30T13:49:40.982496Z"
    },
    "papermill": {
     "duration": 2.877964,
     "end_time": "2025-07-30T13:49:40.985530",
     "exception": false,
     "start_time": "2025-07-30T13:49:38.107566",
     "status": "completed"
    },
    "tags": []
   },
   "outputs": [],
   "source": [
    "example_universe = universe.copy()\n",
    "example_universe[\"cutoff\"] = example_universe[\"cutoff\"][0]\n",
    "example_universe[\"eval_fairness_grouping\"] = example_universe[\"eval_fairness_grouping\"][0]\n",
    "fairness_dict, metric_frame = universe_analysis.compute_metrics(\n",
    "    example_universe,\n",
    "    y_pred_prob=probs_test,\n",
    "    y_test=y_true,\n",
    "    org_test=org_test,\n",
    ")"
   ]
  },
  {
   "cell_type": "markdown",
   "id": "f95d4e02",
   "metadata": {
    "papermill": {
     "duration": 0.029308,
     "end_time": "2025-07-30T13:49:41.046118",
     "exception": false,
     "start_time": "2025-07-30T13:49:41.016810",
     "status": "completed"
    },
    "tags": []
   },
   "source": [
    "# Overall"
   ]
  },
  {
   "cell_type": "markdown",
   "id": "bdee4871",
   "metadata": {
    "papermill": {
     "duration": 0.03197,
     "end_time": "2025-07-30T13:49:41.106516",
     "exception": false,
     "start_time": "2025-07-30T13:49:41.074546",
     "status": "completed"
    },
    "tags": []
   },
   "source": [
    "Fairness\n",
    "Main fairness target: Equalized Odds. Seems to be a better fit than equal opportunity, since we're not only interested in Y = 1. Seems to be a better fit than demographic parity, since we also care about accuracy, not just equal distribution of preds.\n",
    "\n",
    "Pick column for computation of fairness metrics\n",
    "\n",
    "Performance\n",
    "Overall performance measures, most interesting in relation to the measures split by group below"
   ]
  },
  {
   "cell_type": "code",
   "execution_count": 74,
   "id": "c4e067c6",
   "metadata": {
    "execution": {
     "iopub.execute_input": "2025-07-30T13:49:41.161223Z",
     "iopub.status.busy": "2025-07-30T13:49:41.160713Z",
     "iopub.status.idle": "2025-07-30T13:49:41.169467Z",
     "shell.execute_reply": "2025-07-30T13:49:41.168597Z"
    },
    "papermill": {
     "duration": 0.038461,
     "end_time": "2025-07-30T13:49:41.171092",
     "exception": false,
     "start_time": "2025-07-30T13:49:41.132631",
     "status": "completed"
    },
    "tags": []
   },
   "outputs": [
    {
     "data": {
      "text/plain": [
       "accuracy                   0.199632\n",
       "balanced accuracy          0.534516\n",
       "f1                         0.239968\n",
       "precision                  0.136627\n",
       "false positive rate        0.915936\n",
       "false negative rate        0.015033\n",
       "selection rate             0.924791\n",
       "count                  89710.000000\n",
       "dtype: float64"
      ]
     },
     "execution_count": 74,
     "metadata": {},
     "output_type": "execute_result"
    }
   ],
   "source": [
    "metric_frame.overall"
   ]
  },
  {
   "cell_type": "markdown",
   "id": "e968fe9d",
   "metadata": {
    "papermill": {
     "duration": 0.027437,
     "end_time": "2025-07-30T13:49:41.224503",
     "exception": false,
     "start_time": "2025-07-30T13:49:41.197066",
     "status": "completed"
    },
    "tags": []
   },
   "source": [
    "By Group"
   ]
  },
  {
   "cell_type": "code",
   "execution_count": 75,
   "id": "ec325bce",
   "metadata": {
    "execution": {
     "iopub.execute_input": "2025-07-30T13:49:41.279992Z",
     "iopub.status.busy": "2025-07-30T13:49:41.279470Z",
     "iopub.status.idle": "2025-07-30T13:49:41.297267Z",
     "shell.execute_reply": "2025-07-30T13:49:41.296095Z"
    },
    "papermill": {
     "duration": 0.046209,
     "end_time": "2025-07-30T13:49:41.299028",
     "exception": false,
     "start_time": "2025-07-30T13:49:41.252819",
     "status": "completed"
    },
    "tags": []
   },
   "outputs": [
    {
     "data": {
      "text/html": [
       "<div>\n",
       "<style scoped>\n",
       "    .dataframe tbody tr th:only-of-type {\n",
       "        vertical-align: middle;\n",
       "    }\n",
       "\n",
       "    .dataframe tbody tr th {\n",
       "        vertical-align: top;\n",
       "    }\n",
       "\n",
       "    .dataframe thead th {\n",
       "        text-align: right;\n",
       "    }\n",
       "</style>\n",
       "<table border=\"1\" class=\"dataframe\">\n",
       "  <thead>\n",
       "    <tr style=\"text-align: right;\">\n",
       "      <th></th>\n",
       "      <th>accuracy</th>\n",
       "      <th>balanced accuracy</th>\n",
       "      <th>f1</th>\n",
       "      <th>precision</th>\n",
       "      <th>false positive rate</th>\n",
       "      <th>false negative rate</th>\n",
       "      <th>selection rate</th>\n",
       "      <th>count</th>\n",
       "    </tr>\n",
       "    <tr>\n",
       "      <th>majmin</th>\n",
       "      <th></th>\n",
       "      <th></th>\n",
       "      <th></th>\n",
       "      <th></th>\n",
       "      <th></th>\n",
       "      <th></th>\n",
       "      <th></th>\n",
       "      <th></th>\n",
       "    </tr>\n",
       "  </thead>\n",
       "  <tbody>\n",
       "    <tr>\n",
       "      <th>majority</th>\n",
       "      <td>0.203846</td>\n",
       "      <td>0.536490</td>\n",
       "      <td>0.247081</td>\n",
       "      <td>0.141183</td>\n",
       "      <td>0.915642</td>\n",
       "      <td>0.011379</td>\n",
       "      <td>0.925286</td>\n",
       "      <td>69170.0</td>\n",
       "    </tr>\n",
       "    <tr>\n",
       "      <th>minority</th>\n",
       "      <td>0.185443</td>\n",
       "      <td>0.526978</td>\n",
       "      <td>0.215575</td>\n",
       "      <td>0.121249</td>\n",
       "      <td>0.916905</td>\n",
       "      <td>0.029139</td>\n",
       "      <td>0.923126</td>\n",
       "      <td>20540.0</td>\n",
       "    </tr>\n",
       "  </tbody>\n",
       "</table>\n",
       "</div>"
      ],
      "text/plain": [
       "          accuracy  balanced accuracy        f1  precision  \\\n",
       "majmin                                                       \n",
       "majority  0.203846           0.536490  0.247081   0.141183   \n",
       "minority  0.185443           0.526978  0.215575   0.121249   \n",
       "\n",
       "          false positive rate  false negative rate  selection rate    count  \n",
       "majmin                                                                       \n",
       "majority             0.915642             0.011379        0.925286  69170.0  \n",
       "minority             0.916905             0.029139        0.923126  20540.0  "
      ]
     },
     "execution_count": 75,
     "metadata": {},
     "output_type": "execute_result"
    }
   ],
   "source": [
    "metric_frame.by_group"
   ]
  },
  {
   "cell_type": "code",
   "execution_count": 76,
   "id": "a9ddbe63",
   "metadata": {
    "execution": {
     "iopub.execute_input": "2025-07-30T13:49:41.355933Z",
     "iopub.status.busy": "2025-07-30T13:49:41.355278Z",
     "iopub.status.idle": "2025-07-30T13:49:43.659011Z",
     "shell.execute_reply": "2025-07-30T13:49:43.658128Z"
    },
    "papermill": {
     "duration": 2.334386,
     "end_time": "2025-07-30T13:49:43.660511",
     "exception": false,
     "start_time": "2025-07-30T13:49:41.326125",
     "status": "completed"
    },
    "tags": []
   },
   "outputs": [
    {
     "data": {
      "text/plain": [
       "array([[<Axes: title={'center': 'accuracy'}, xlabel='majmin'>,\n",
       "        <Axes: title={'center': 'balanced accuracy'}, xlabel='majmin'>,\n",
       "        <Axes: title={'center': 'f1'}, xlabel='majmin'>],\n",
       "       [<Axes: title={'center': 'precision'}, xlabel='majmin'>,\n",
       "        <Axes: title={'center': 'false positive rate'}, xlabel='majmin'>,\n",
       "        <Axes: title={'center': 'false negative rate'}, xlabel='majmin'>],\n",
       "       [<Axes: title={'center': 'selection rate'}, xlabel='majmin'>,\n",
       "        <Axes: title={'center': 'count'}, xlabel='majmin'>,\n",
       "        <Axes: xlabel='majmin'>]], dtype=object)"
      ]
     },
     "execution_count": 76,
     "metadata": {},
     "output_type": "execute_result"
    },
    {
     "data": {
      "image/png": "[encoded data removed]",
      "text/plain": [
       "<Figure size 1200x800 with 9 Axes>"
      ]
     },
     "metadata": {},
     "output_type": "display_data"
    }
   ],
   "source": [
    "# In a graphic\n",
    "metric_frame.by_group.plot.bar(\n",
    "    subplots=True,\n",
    "    layout=[3, 3],\n",
    "    legend=False,\n",
    "    figsize=[12, 8],\n",
    "    title=\"Show all metrics\",\n",
    ")"
   ]
  },
  {
   "cell_type": "markdown",
   "id": "f57a0bac",
   "metadata": {
    "papermill": {
     "duration": 0.026476,
     "end_time": "2025-07-30T13:49:43.715050",
     "exception": false,
     "start_time": "2025-07-30T13:49:43.688574",
     "status": "completed"
    },
    "tags": []
   },
   "source": [
    "# Final Output"
   ]
  },
  {
   "cell_type": "code",
   "execution_count": 77,
   "id": "96d280a3",
   "metadata": {
    "execution": {
     "iopub.execute_input": "2025-07-30T13:49:43.765976Z",
     "iopub.status.busy": "2025-07-30T13:49:43.765414Z",
     "iopub.status.idle": "2025-07-30T13:49:43.773200Z",
     "shell.execute_reply": "2025-07-30T13:49:43.772409Z"
    },
    "papermill": {
     "duration": 0.029777,
     "end_time": "2025-07-30T13:49:43.774491",
     "exception": false,
     "start_time": "2025-07-30T13:49:43.744714",
     "status": "completed"
    },
    "tags": []
   },
   "outputs": [
    {
     "data": {
      "text/plain": [
       "4"
      ]
     },
     "execution_count": 77,
     "metadata": {},
     "output_type": "execute_result"
    }
   ],
   "source": [
    "sub_universes = universe_analysis.generate_sub_universes()\n",
    "len(sub_universes)"
   ]
  },
  {
   "cell_type": "code",
   "execution_count": 78,
   "id": "92adf7ba",
   "metadata": {
    "execution": {
     "iopub.execute_input": "2025-07-30T13:49:43.835883Z",
     "iopub.status.busy": "2025-07-30T13:49:43.835366Z",
     "iopub.status.idle": "2025-07-30T13:49:43.842050Z",
     "shell.execute_reply": "2025-07-30T13:49:43.841156Z"
    },
    "papermill": {
     "duration": 0.042995,
     "end_time": "2025-07-30T13:49:43.844128",
     "exception": false,
     "start_time": "2025-07-30T13:49:43.801133",
     "status": "completed"
    },
    "tags": []
   },
   "outputs": [],
   "source": [
    "def filter_sub_universe_data(sub_universe, org_test):\n",
    "    # Keep all rows — no filtering\n",
    "    keep_rows_mask = np.ones(org_test.shape[0], dtype=bool)\n",
    "\n",
    "    print(f\"[INFO] Keeping all rows: {keep_rows_mask.sum()} rows retained.\")\n",
    "    return keep_rows_mask"
   ]
  },
  {
   "cell_type": "code",
   "execution_count": 79,
   "id": "4a759155",
   "metadata": {
    "execution": {
     "iopub.execute_input": "2025-07-30T13:49:43.907428Z",
     "iopub.status.busy": "2025-07-30T13:49:43.906951Z",
     "iopub.status.idle": "2025-07-30T13:49:55.308884Z",
     "shell.execute_reply": "2025-07-30T13:49:55.307880Z"
    },
    "papermill": {
     "duration": 11.435161,
     "end_time": "2025-07-30T13:49:55.310734",
     "exception": false,
     "start_time": "2025-07-30T13:49:43.875573",
     "status": "completed"
    },
    "tags": []
   },
   "outputs": [
    {
     "name": "stdout",
     "output_type": "stream",
     "text": [
      "Stopping execution_time clock.\n",
      "[INFO] Keeping all rows: 89710 rows retained.\n"
     ]
    },
    {
     "name": "stdout",
     "output_type": "stream",
     "text": [
      "[INFO] Keeping all rows: 89710 rows retained.\n"
     ]
    },
    {
     "name": "stdout",
     "output_type": "stream",
     "text": [
      "[INFO] Keeping all rows: 89710 rows retained.\n"
     ]
    },
    {
     "name": "stdout",
     "output_type": "stream",
     "text": [
      "[INFO] Keeping all rows: 89710 rows retained.\n"
     ]
    },
    {
     "data": {
      "text/html": [
       "<div>\n",
       "<style scoped>\n",
       "    .dataframe tbody tr th:only-of-type {\n",
       "        vertical-align: middle;\n",
       "    }\n",
       "\n",
       "    .dataframe tbody tr th {\n",
       "        vertical-align: top;\n",
       "    }\n",
       "\n",
       "    .dataframe thead th {\n",
       "        text-align: right;\n",
       "    }\n",
       "</style>\n",
       "<table border=\"1\" class=\"dataframe\">\n",
       "  <thead>\n",
       "    <tr style=\"text-align: right;\">\n",
       "      <th></th>\n",
       "      <th>run_no</th>\n",
       "      <th>universe_id</th>\n",
       "      <th>universe_settings</th>\n",
       "      <th>execution_time</th>\n",
       "      <th>test_size_n</th>\n",
       "      <th>test_size_frac</th>\n",
       "      <th>fair_main_equalized_odds_difference</th>\n",
       "      <th>fair_main_equalized_odds_ratio</th>\n",
       "      <th>fair_main_demographic_parity_difference</th>\n",
       "      <th>fair_main_demographic_parity_ratio</th>\n",
       "      <th>...</th>\n",
       "      <th>perf_grp_precision_0</th>\n",
       "      <th>perf_grp_precision_1</th>\n",
       "      <th>perf_grp_false positive rate_0</th>\n",
       "      <th>perf_grp_false positive rate_1</th>\n",
       "      <th>perf_grp_false negative rate_0</th>\n",
       "      <th>perf_grp_false negative rate_1</th>\n",
       "      <th>perf_grp_selection rate_0</th>\n",
       "      <th>perf_grp_selection rate_1</th>\n",
       "      <th>perf_grp_count_0</th>\n",
       "      <th>perf_grp_count_1</th>\n",
       "    </tr>\n",
       "  </thead>\n",
       "  <tbody>\n",
       "    <tr>\n",
       "      <th>0</th>\n",
       "      <td>12</td>\n",
       "      <td>567c21be0f0ea5abd5da38f5438df2a0</td>\n",
       "      <td>{\"cutoff\": \"quantile_0.1\", \"eval_fairness_grou...</td>\n",
       "      <td>32.779019</td>\n",
       "      <td>89710</td>\n",
       "      <td>1.0</td>\n",
       "      <td>0.017760</td>\n",
       "      <td>0.982036</td>\n",
       "      <td>0.002160</td>\n",
       "      <td>0.997666</td>\n",
       "      <td>...</td>\n",
       "      <td>NaN</td>\n",
       "      <td>NaN</td>\n",
       "      <td>NaN</td>\n",
       "      <td>NaN</td>\n",
       "      <td>NaN</td>\n",
       "      <td>NaN</td>\n",
       "      <td>NaN</td>\n",
       "      <td>NaN</td>\n",
       "      <td>NaN</td>\n",
       "      <td>NaN</td>\n",
       "    </tr>\n",
       "    <tr>\n",
       "      <th>0</th>\n",
       "      <td>12</td>\n",
       "      <td>567c21be0f0ea5abd5da38f5438df2a0</td>\n",
       "      <td>{\"cutoff\": \"quantile_0.1\", \"eval_fairness_grou...</td>\n",
       "      <td>32.779019</td>\n",
       "      <td>89710</td>\n",
       "      <td>1.0</td>\n",
       "      <td>0.017760</td>\n",
       "      <td>0.982036</td>\n",
       "      <td>0.002160</td>\n",
       "      <td>0.997666</td>\n",
       "      <td>...</td>\n",
       "      <td>0.121249</td>\n",
       "      <td>0.141183</td>\n",
       "      <td>0.916905</td>\n",
       "      <td>0.915642</td>\n",
       "      <td>0.029139</td>\n",
       "      <td>0.011379</td>\n",
       "      <td>0.923126</td>\n",
       "      <td>0.925286</td>\n",
       "      <td>20540.0</td>\n",
       "      <td>69170.0</td>\n",
       "    </tr>\n",
       "    <tr>\n",
       "      <th>0</th>\n",
       "      <td>12</td>\n",
       "      <td>567c21be0f0ea5abd5da38f5438df2a0</td>\n",
       "      <td>{\"cutoff\": \"quantile_0.25\", \"eval_fairness_gro...</td>\n",
       "      <td>32.779019</td>\n",
       "      <td>89710</td>\n",
       "      <td>1.0</td>\n",
       "      <td>0.047726</td>\n",
       "      <td>0.949548</td>\n",
       "      <td>0.007057</td>\n",
       "      <td>0.990759</td>\n",
       "      <td>...</td>\n",
       "      <td>NaN</td>\n",
       "      <td>NaN</td>\n",
       "      <td>NaN</td>\n",
       "      <td>NaN</td>\n",
       "      <td>NaN</td>\n",
       "      <td>NaN</td>\n",
       "      <td>NaN</td>\n",
       "      <td>NaN</td>\n",
       "      <td>NaN</td>\n",
       "      <td>NaN</td>\n",
       "    </tr>\n",
       "    <tr>\n",
       "      <th>0</th>\n",
       "      <td>12</td>\n",
       "      <td>567c21be0f0ea5abd5da38f5438df2a0</td>\n",
       "      <td>{\"cutoff\": \"quantile_0.25\", \"eval_fairness_gro...</td>\n",
       "      <td>32.779019</td>\n",
       "      <td>89710</td>\n",
       "      <td>1.0</td>\n",
       "      <td>0.047726</td>\n",
       "      <td>0.949548</td>\n",
       "      <td>0.007057</td>\n",
       "      <td>0.990759</td>\n",
       "      <td>...</td>\n",
       "      <td>0.135590</td>\n",
       "      <td>0.165192</td>\n",
       "      <td>0.746203</td>\n",
       "      <td>0.727853</td>\n",
       "      <td>0.101774</td>\n",
       "      <td>0.054048</td>\n",
       "      <td>0.763729</td>\n",
       "      <td>0.756672</td>\n",
       "      <td>20540.0</td>\n",
       "      <td>69170.0</td>\n",
       "    </tr>\n",
       "  </tbody>\n",
       "</table>\n",
       "<p>4 rows × 50 columns</p>\n",
       "</div>"
      ],
      "text/plain": [
       "  run_no                       universe_id  \\\n",
       "0     12  567c21be0f0ea5abd5da38f5438df2a0   \n",
       "0     12  567c21be0f0ea5abd5da38f5438df2a0   \n",
       "0     12  567c21be0f0ea5abd5da38f5438df2a0   \n",
       "0     12  567c21be0f0ea5abd5da38f5438df2a0   \n",
       "\n",
       "                                   universe_settings  execution_time  \\\n",
       "0  {\"cutoff\": \"quantile_0.1\", \"eval_fairness_grou...       32.779019   \n",
       "0  {\"cutoff\": \"quantile_0.1\", \"eval_fairness_grou...       32.779019   \n",
       "0  {\"cutoff\": \"quantile_0.25\", \"eval_fairness_gro...       32.779019   \n",
       "0  {\"cutoff\": \"quantile_0.25\", \"eval_fairness_gro...       32.779019   \n",
       "\n",
       "   test_size_n  test_size_frac  fair_main_equalized_odds_difference  \\\n",
       "0        89710             1.0                             0.017760   \n",
       "0        89710             1.0                             0.017760   \n",
       "0        89710             1.0                             0.047726   \n",
       "0        89710             1.0                             0.047726   \n",
       "\n",
       "   fair_main_equalized_odds_ratio  fair_main_demographic_parity_difference  \\\n",
       "0                        0.982036                                 0.002160   \n",
       "0                        0.982036                                 0.002160   \n",
       "0                        0.949548                                 0.007057   \n",
       "0                        0.949548                                 0.007057   \n",
       "\n",
       "   fair_main_demographic_parity_ratio  ...  perf_grp_precision_0  \\\n",
       "0                            0.997666  ...                   NaN   \n",
       "0                            0.997666  ...              0.121249   \n",
       "0                            0.990759  ...                   NaN   \n",
       "0                            0.990759  ...              0.135590   \n",
       "\n",
       "   perf_grp_precision_1  perf_grp_false positive rate_0  \\\n",
       "0                   NaN                             NaN   \n",
       "0              0.141183                        0.916905   \n",
       "0                   NaN                             NaN   \n",
       "0              0.165192                        0.746203   \n",
       "\n",
       "   perf_grp_false positive rate_1  perf_grp_false negative rate_0  \\\n",
       "0                             NaN                             NaN   \n",
       "0                        0.915642                        0.029139   \n",
       "0                             NaN                             NaN   \n",
       "0                        0.727853                        0.101774   \n",
       "\n",
       "   perf_grp_false negative rate_1  perf_grp_selection rate_0  \\\n",
       "0                             NaN                        NaN   \n",
       "0                        0.011379                   0.923126   \n",
       "0                             NaN                        NaN   \n",
       "0                        0.054048                   0.763729   \n",
       "\n",
       "   perf_grp_selection rate_1  perf_grp_count_0  perf_grp_count_1  \n",
       "0                        NaN               NaN               NaN  \n",
       "0                   0.925286           20540.0           69170.0  \n",
       "0                        NaN               NaN               NaN  \n",
       "0                   0.756672           20540.0           69170.0  \n",
       "\n",
       "[4 rows x 50 columns]"
      ]
     },
     "execution_count": 79,
     "metadata": {},
     "output_type": "execute_result"
    }
   ],
   "source": [
    "final_output = universe_analysis.generate_final_output(\n",
    "    y_pred_prob=probs_test,\n",
    "    y_test=y_true,\n",
    "    org_test=org_test,\n",
    "    filter_data=filter_sub_universe_data,\n",
    "    cp_metrics_df=cp_metrics_df,\n",
    "    save=True,\n",
    ")\n",
    "final_output"
   ]
  },
  {
   "cell_type": "code",
   "execution_count": null,
   "id": "721ff514-cb11-46f8-b6fc-50392f74b5cb",
   "metadata": {
    "papermill": {
     "duration": 0.029821,
     "end_time": "2025-07-30T13:49:55.371964",
     "exception": false,
     "start_time": "2025-07-30T13:49:55.342143",
     "status": "completed"
    },
    "tags": []
   },
   "outputs": [],
   "source": []
  }
 ],
 "metadata": {
  "celltoolbar": "Tags",
  "kernelspec": {
   "display_name": "Python (CMA Fairness)",
   "language": "python",
   "name": "cma_fair_env"
  },
  "language_info": {
   "codemirror_mode": {
    "name": "ipython",
    "version": 3
   },
   "file_extension": ".py",
   "mimetype": "text/x-python",
   "name": "python",
   "nbconvert_exporter": "python",
   "pygments_lexer": "ipython3",
   "version": "3.10.12"
  },
  "papermill": {
   "default_parameters": {},
   "duration": 48.268341,
   "end_time": "2025-07-30T13:49:56.222732",
   "environment_variables": {},
   "exception": null,
   "input_path": "universe_analysis.ipynb",
   "output_path": "output/runs/12/notebooks/m_12-567c21be0f0ea5abd5da38f5438df2a0.ipynb",
   "parameters": {
    "output_dir": "output",
    "run_no": "12",
    "seed": "2023",
    "universe": "{\"cutoff\": [\"quantile_0.1\", \"quantile_0.25\"], \"eval_fairness_grouping\": [\"majority-minority\", \"nationality-all\"], \"exclude_features\": \"sex\", \"exclude_subgroups\": \"drop-non-german\", \"model\": \"rf\", \"scale\": \"do-not-scale\", \"training_size\": \"5k\", \"training_year\": \"2014\"}",
    "universe_id": "567c21be0f0ea5abd5da38f5438df2a0"
   },
   "start_time": "2025-07-30T13:49:07.954391",
   "version": "2.6.0"
  }
 },
 "nbformat": 4,
 "nbformat_minor": 5
}