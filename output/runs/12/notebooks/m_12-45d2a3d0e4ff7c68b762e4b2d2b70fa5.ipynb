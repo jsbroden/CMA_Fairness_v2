{
 "cells": [
  {
   "cell_type": "code",
   "execution_count": 1,
   "id": "f159f837-637b-42ba-96b5-ec9a68c44524",
   "metadata": {
    "execution": {
     "iopub.execute_input": "2025-07-30T14:03:23.035367Z",
     "iopub.status.busy": "2025-07-30T14:03:23.034407Z",
     "iopub.status.idle": "2025-07-30T14:03:23.050562Z",
     "shell.execute_reply": "2025-07-30T14:03:23.048160Z"
    },
    "papermill": {
     "duration": 0.047242,
     "end_time": "2025-07-30T14:03:23.052377",
     "exception": false,
     "start_time": "2025-07-30T14:03:23.005135",
     "status": "completed"
    },
    "tags": []
   },
   "outputs": [
    {
     "name": "stdout",
     "output_type": "stream",
     "text": [
      "/dss/dsshome1/0C/ra93lal2/cma/CMA_Fairness_v2\n"
     ]
    },
    {
     "name": "stderr",
     "output_type": "stream",
     "text": [
      "/dss/dsshome1/0C/ra93lal2/.local/share/virtualenvs/CMA_Fairness_v2-3j10GkSs/lib/python3.10/site-packages/IPython/core/magics/osm.py:393: UserWarning: This is now an optional IPython functionality, using bookmarks requires you to install the `pickleshare` library.\n",
      "  bkms = self.shell.db.get('bookmarks', {})\n",
      "/dss/dsshome1/0C/ra93lal2/.local/share/virtualenvs/CMA_Fairness_v2-3j10GkSs/lib/python3.10/site-packages/IPython/core/magics/osm.py:417: UserWarning: This is now an optional IPython functionality, setting dhist requires you to install the `pickleshare` library.\n",
      "  self.shell.db['dhist'] = compress_dhist(dhist)[-100:]\n"
     ]
    }
   ],
   "source": [
    "%cd ~/cma/CMA_Fairness_v2"
   ]
  },
  {
   "cell_type": "markdown",
   "id": "de2603b9",
   "metadata": {
    "papermill": {
     "duration": 0.022765,
     "end_time": "2025-07-30T14:03:23.099593",
     "exception": false,
     "start_time": "2025-07-30T14:03:23.076828",
     "status": "completed"
    },
    "tags": []
   },
   "source": [
    "The following cell holds the definition of our parameters, these values can be overriden by rendering the with e.g. the following command:\n",
    "\n",
    "papermill -p alpha 0.2 -p ratio 0.3 universe_analysis.ipynb output/test_run.ipynb"
   ]
  },
  {
   "cell_type": "code",
   "execution_count": 2,
   "id": "a80968a0-40bb-4fa9-85ef-2d5eefb01975",
   "metadata": {
    "execution": {
     "iopub.execute_input": "2025-07-30T14:03:23.135039Z",
     "iopub.status.busy": "2025-07-30T14:03:23.134340Z",
     "iopub.status.idle": "2025-07-30T14:03:23.140545Z",
     "shell.execute_reply": "2025-07-30T14:03:23.139451Z"
    },
    "papermill": {
     "duration": 0.025254,
     "end_time": "2025-07-30T14:03:23.142178",
     "exception": false,
     "start_time": "2025-07-30T14:03:23.116924",
     "status": "completed"
    },
    "tags": []
   },
   "outputs": [
    {
     "name": "stdout",
     "output_type": "stream",
     "text": [
      "Current working directory: /dss/dsshome1/0C/ra93lal2/cma/CMA_Fairness_v2\n"
     ]
    }
   ],
   "source": [
    "import os\n",
    "print(\"Current working directory:\", os.getcwd())"
   ]
  },
  {
   "cell_type": "code",
   "execution_count": 3,
   "id": "2dce4c03",
   "metadata": {
    "execution": {
     "iopub.execute_input": "2025-07-30T14:03:23.184111Z",
     "iopub.status.busy": "2025-07-30T14:03:23.182746Z",
     "iopub.status.idle": "2025-07-30T14:03:23.206087Z",
     "shell.execute_reply": "2025-07-30T14:03:23.205068Z"
    },
    "papermill": {
     "duration": 0.045843,
     "end_time": "2025-07-30T14:03:23.208114",
     "exception": false,
     "start_time": "2025-07-30T14:03:23.162271",
     "status": "completed"
    },
    "tags": [
     "parameters"
    ]
   },
   "outputs": [],
   "source": [
    "run_no = 0\n",
    "universe_id = \"test\"\n",
    "universe = {\n",
    "    \"training_size\": \"25k\", # \"25k\", \"5k\", \"1k\"\n",
    "    \"training_year\": \"2014\", # \"2014\", \"2012_14\", \"2010_14\"\n",
    "    \"scale\": \"scale\", # \"scale\", \"do-not-scale\",\n",
    "    #\"stratify_split\": \"target\", # \"none\", \"target\", \"protected-attribute\", \"both\",\n",
    "    \"model\": \"elasticnet\", # \"logreg\", \"penalized_logreg\", \"rf\", \"gbm\", \"elasticnet\"\n",
    "    \"cutoff\": [\"quantile_0.15\", \"quantile_0.30\"],\n",
    "    \"exclude_features\": \"age\", # \"none\", \"nationality\", \"sex\", \"nationality-sex\", \"age\"\n",
    "    \"exclude_subgroups\": \"keep-all\", # \"keep-all\", \"drop-non-german\"\n",
    "    \"eval_fairness_grouping\": [\"majority-minority\", \"nationality-all\"]\n",
    "}\n",
    "\n",
    "output_dir=\"./output\"\n",
    "seed=0"
   ]
  },
  {
   "cell_type": "code",
   "execution_count": 4,
   "id": "14ebf699",
   "metadata": {
    "execution": {
     "iopub.execute_input": "2025-07-30T14:03:23.250034Z",
     "iopub.status.busy": "2025-07-30T14:03:23.249350Z",
     "iopub.status.idle": "2025-07-30T14:03:23.255077Z",
     "shell.execute_reply": "2025-07-30T14:03:23.254152Z"
    },
    "papermill": {
     "duration": 0.028726,
     "end_time": "2025-07-30T14:03:23.256804",
     "exception": false,
     "start_time": "2025-07-30T14:03:23.228078",
     "status": "completed"
    },
    "tags": [
     "injected-parameters"
    ]
   },
   "outputs": [],
   "source": [
    "# Parameters\n",
    "universe_id = \"45d2a3d0e4ff7c68b762e4b2d2b70fa5\"\n",
    "run_no = \"12\"\n",
    "universe = \"{\\\"cutoff\\\": [\\\"quantile_0.1\\\", \\\"quantile_0.25\\\"], \\\"eval_fairness_grouping\\\": [\\\"majority-minority\\\", \\\"nationality-all\\\"], \\\"exclude_features\\\": \\\"none\\\", \\\"exclude_subgroups\\\": \\\"drop-non-german\\\", \\\"model\\\": \\\"elasticnet\\\", \\\"scale\\\": \\\"do-not-scale\\\", \\\"training_size\\\": \\\"5k\\\", \\\"training_year\\\": \\\"2012_14\\\"}\"\n",
    "output_dir = \"output\"\n",
    "seed = \"2023\"\n"
   ]
  },
  {
   "cell_type": "code",
   "execution_count": 5,
   "id": "1650acaf",
   "metadata": {
    "execution": {
     "iopub.execute_input": "2025-07-30T14:03:23.301240Z",
     "iopub.status.busy": "2025-07-30T14:03:23.300558Z",
     "iopub.status.idle": "2025-07-30T14:03:23.305943Z",
     "shell.execute_reply": "2025-07-30T14:03:23.304946Z"
    },
    "papermill": {
     "duration": 0.029042,
     "end_time": "2025-07-30T14:03:23.307762",
     "exception": false,
     "start_time": "2025-07-30T14:03:23.278720",
     "status": "completed"
    },
    "tags": []
   },
   "outputs": [],
   "source": [
    "import json\n",
    "# Parse universe into dict if it is passed as a string\n",
    "if isinstance(universe, str):\n",
    "    universe = json.loads(universe)"
   ]
  },
  {
   "cell_type": "code",
   "execution_count": 6,
   "id": "16620c48",
   "metadata": {
    "execution": {
     "iopub.execute_input": "2025-07-30T14:03:23.350199Z",
     "iopub.status.busy": "2025-07-30T14:03:23.349732Z",
     "iopub.status.idle": "2025-07-30T14:03:23.395058Z",
     "shell.execute_reply": "2025-07-30T14:03:23.393877Z"
    },
    "papermill": {
     "duration": 0.069169,
     "end_time": "2025-07-30T14:03:23.397110",
     "exception": false,
     "start_time": "2025-07-30T14:03:23.327941",
     "status": "completed"
    },
    "tags": []
   },
   "outputs": [],
   "source": [
    "# Auto-reload the custom package\n",
    "%load_ext autoreload\n",
    "%autoreload 1\n",
    "%aimport fairness_multiverse"
   ]
  },
  {
   "cell_type": "code",
   "execution_count": 7,
   "id": "01c5c9f3",
   "metadata": {
    "execution": {
     "iopub.execute_input": "2025-07-30T14:03:23.441521Z",
     "iopub.status.busy": "2025-07-30T14:03:23.440701Z",
     "iopub.status.idle": "2025-07-30T14:03:25.428405Z",
     "shell.execute_reply": "2025-07-30T14:03:25.427533Z"
    },
    "papermill": {
     "duration": 2.011497,
     "end_time": "2025-07-30T14:03:25.430076",
     "exception": false,
     "start_time": "2025-07-30T14:03:23.418579",
     "status": "completed"
    },
    "tags": []
   },
   "outputs": [],
   "source": [
    "from fairness_multiverse.universe import UniverseAnalysis\n",
    "\n",
    "universe_analysis = UniverseAnalysis(\n",
    "    run_no = run_no,\n",
    "    universe_id = universe_id,\n",
    "    universe = universe,\n",
    "    output_dir=output_dir,\n",
    ")"
   ]
  },
  {
   "cell_type": "code",
   "execution_count": 8,
   "id": "106241f5",
   "metadata": {
    "execution": {
     "iopub.execute_input": "2025-07-30T14:03:25.472637Z",
     "iopub.status.busy": "2025-07-30T14:03:25.471996Z",
     "iopub.status.idle": "2025-07-30T14:03:25.479302Z",
     "shell.execute_reply": "2025-07-30T14:03:25.478367Z"
    },
    "papermill": {
     "duration": 0.032621,
     "end_time": "2025-07-30T14:03:25.481253",
     "exception": false,
     "start_time": "2025-07-30T14:03:25.448632",
     "status": "completed"
    },
    "tags": []
   },
   "outputs": [
    {
     "name": "stdout",
     "output_type": "stream",
     "text": [
      "Using Seed: 2023\n"
     ]
    }
   ],
   "source": [
    "import numpy as np\n",
    "parsed_seed = int(seed)\n",
    "np.random.seed(parsed_seed)\n",
    "print(f\"Using Seed: {parsed_seed}\")"
   ]
  },
  {
   "cell_type": "markdown",
   "id": "e0ebdc57",
   "metadata": {
    "papermill": {
     "duration": 0.023121,
     "end_time": "2025-07-30T14:03:25.522031",
     "exception": false,
     "start_time": "2025-07-30T14:03:25.498910",
     "status": "completed"
    },
    "tags": []
   },
   "source": [
    "# Loading Data"
   ]
  },
  {
   "cell_type": "markdown",
   "id": "681925a3",
   "metadata": {
    "papermill": {
     "duration": 0.022031,
     "end_time": "2025-07-30T14:03:25.566985",
     "exception": false,
     "start_time": "2025-07-30T14:03:25.544954",
     "status": "completed"
    },
    "tags": []
   },
   "source": [
    "Load siab_train, siab_test, siab_calib and/or \n",
    "load siab_train_features, siab_train_labels"
   ]
  },
  {
   "cell_type": "code",
   "execution_count": 9,
   "id": "f0496b8a",
   "metadata": {
    "execution": {
     "iopub.execute_input": "2025-07-30T14:03:25.607691Z",
     "iopub.status.busy": "2025-07-30T14:03:25.607224Z",
     "iopub.status.idle": "2025-07-30T14:03:38.199257Z",
     "shell.execute_reply": "2025-07-30T14:03:38.198060Z"
    },
    "papermill": {
     "duration": 12.611559,
     "end_time": "2025-07-30T14:03:38.200970",
     "exception": false,
     "start_time": "2025-07-30T14:03:25.589411",
     "status": "completed"
    },
    "tags": []
   },
   "outputs": [
    {
     "name": "stdout",
     "output_type": "stream",
     "text": [
      "Loading SIAB data from cache: data/siab_cached.csv.gz\n"
     ]
    },
    {
     "name": "stdout",
     "output_type": "stream",
     "text": [
      "(643690, 164)\n"
     ]
    }
   ],
   "source": [
    "from pathlib import Path\n",
    "import pandas as pd\n",
    "\n",
    "# File paths\n",
    "raw_file = Path(\"data/raw/siab.csv\")\n",
    "cache_file = Path(\"data/siab_cached.csv.gz\")\n",
    "\n",
    "# Ensure cache directory exists\n",
    "cache_file.parent.mkdir(parents=True, exist_ok=True)\n",
    "\n",
    "# Load with simple caching\n",
    "if cache_file.exists():\n",
    "    print(f\"Loading SIAB data from cache: {cache_file}\")\n",
    "    siab = pd.read_csv(cache_file, compression='gzip')\n",
    "else:\n",
    "    print(f\"Cache not found. Reading raw SIAB data: {raw_file}\")\n",
    "    siab = pd.read_csv(raw_file)\n",
    "    siab.to_csv(cache_file, index=False, compression='gzip')\n",
    "    print(f\"Cached SIAB data to: {cache_file}\")\n",
    "\n",
    "# Now use `siab` DataFrame as needed\n",
    "print(siab.shape)"
   ]
  },
  {
   "cell_type": "code",
   "execution_count": 10,
   "id": "db0ca512-5f53-4dba-abdb-a2888bca41ba",
   "metadata": {
    "execution": {
     "iopub.execute_input": "2025-07-30T14:03:38.246283Z",
     "iopub.status.busy": "2025-07-30T14:03:38.245629Z",
     "iopub.status.idle": "2025-07-30T14:03:38.251150Z",
     "shell.execute_reply": "2025-07-30T14:03:38.250326Z"
    },
    "papermill": {
     "duration": 0.027999,
     "end_time": "2025-07-30T14:03:38.252872",
     "exception": false,
     "start_time": "2025-07-30T14:03:38.224873",
     "status": "completed"
    },
    "tags": []
   },
   "outputs": [],
   "source": [
    "#siab"
   ]
  },
  {
   "cell_type": "code",
   "execution_count": 11,
   "id": "a0edb063",
   "metadata": {
    "execution": {
     "iopub.execute_input": "2025-07-30T14:03:38.292329Z",
     "iopub.status.busy": "2025-07-30T14:03:38.291464Z",
     "iopub.status.idle": "2025-07-30T14:03:38.296617Z",
     "shell.execute_reply": "2025-07-30T14:03:38.295711Z"
    },
    "papermill": {
     "duration": 0.026364,
     "end_time": "2025-07-30T14:03:38.298091",
     "exception": false,
     "start_time": "2025-07-30T14:03:38.271727",
     "status": "completed"
    },
    "tags": []
   },
   "outputs": [],
   "source": [
    "#import pandas as pd\n",
    "#\n",
    "#X_train = pd.read_csv(\"./data/X_train.csv\")\n",
    "#y_train = pd.read_csv(\"./data/y_train.csv\")"
   ]
  },
  {
   "cell_type": "code",
   "execution_count": 12,
   "id": "63d08085",
   "metadata": {
    "execution": {
     "iopub.execute_input": "2025-07-30T14:03:38.337684Z",
     "iopub.status.busy": "2025-07-30T14:03:38.337012Z",
     "iopub.status.idle": "2025-07-30T14:03:38.342114Z",
     "shell.execute_reply": "2025-07-30T14:03:38.341279Z"
    },
    "papermill": {
     "duration": 0.026258,
     "end_time": "2025-07-30T14:03:38.343499",
     "exception": false,
     "start_time": "2025-07-30T14:03:38.317241",
     "status": "completed"
    },
    "tags": []
   },
   "outputs": [],
   "source": [
    "#X_test = pd.read_csv(\"./data/X_test.csv\")\n",
    "#y_true = pd.read_csv(\"./data/y_test.csv\")"
   ]
  },
  {
   "cell_type": "code",
   "execution_count": 13,
   "id": "98a8d0fa-1d3d-4ed8-bb2c-281470e24add",
   "metadata": {
    "execution": {
     "iopub.execute_input": "2025-07-30T14:03:38.383208Z",
     "iopub.status.busy": "2025-07-30T14:03:38.382427Z",
     "iopub.status.idle": "2025-07-30T14:03:38.387108Z",
     "shell.execute_reply": "2025-07-30T14:03:38.386243Z"
    },
    "papermill": {
     "duration": 0.025763,
     "end_time": "2025-07-30T14:03:38.388659",
     "exception": false,
     "start_time": "2025-07-30T14:03:38.362896",
     "status": "completed"
    },
    "tags": []
   },
   "outputs": [],
   "source": [
    "# Calibration data for conformal\n",
    "#X_calib = pd.read_csv(\"./data/X_calib.csv\")\n",
    "#y_calib = pd.read_csv(\"./data/y_calib.csv\")"
   ]
  },
  {
   "cell_type": "markdown",
   "id": "997051c5-15bd-4b69-9786-c3001a3ce484",
   "metadata": {
    "papermill": {
     "duration": 0.019028,
     "end_time": "2025-07-30T14:03:38.426378",
     "exception": false,
     "start_time": "2025-07-30T14:03:38.407350",
     "status": "completed"
    },
    "tags": []
   },
   "source": [
    "# Splitting Data and Setting Training Data Size"
   ]
  },
  {
   "cell_type": "code",
   "execution_count": 14,
   "id": "e993b61f-042d-41a6-8c81-f55681f86335",
   "metadata": {
    "execution": {
     "iopub.execute_input": "2025-07-30T14:03:38.466331Z",
     "iopub.status.busy": "2025-07-30T14:03:38.465775Z",
     "iopub.status.idle": "2025-07-30T14:03:38.478902Z",
     "shell.execute_reply": "2025-07-30T14:03:38.477977Z"
    },
    "papermill": {
     "duration": 0.035171,
     "end_time": "2025-07-30T14:03:38.480527",
     "exception": false,
     "start_time": "2025-07-30T14:03:38.445356",
     "status": "completed"
    },
    "tags": []
   },
   "outputs": [],
   "source": [
    "def sample_by_year_size(df,\n",
    "                        training_year: str,\n",
    "                        training_size: str,\n",
    "                        random_state: int = 42):\n",
    "    # --- parse training_year into a list of int years ---\n",
    "    if \"_\" in training_year:\n",
    "        start_str, end_str = training_year.split(\"_\", 1)\n",
    "        start = int(start_str)\n",
    "        end   = int(end_str) if len(end_str) == 4 else (int(end_str) + (start // 100)*100)\n",
    "        years = list(range(start, end + 1))\n",
    "    else:\n",
    "        years = [int(training_year)]\n",
    "\n",
    "    df = df[df[\"year\"].isin(years)].reset_index(drop=True)\n",
    "\n",
    "    # --- map training_size to total number of samples ---\n",
    "    total_map = {\"25k\": 25_000, \"5k\": 5_000, \"1k\": 1_000}\n",
    "    if training_size not in total_map:\n",
    "        return df  # e.g. \"all\"\n",
    "\n",
    "    total_samples = total_map[training_size]\n",
    "    n_years       = len(years)\n",
    "    base          = total_samples // n_years\n",
    "    remainder     = total_samples % n_years\n",
    "\n",
    "    # --- build a dict: year -> how many to sample ---\n",
    "    # give +1 to the first `remainder` years in ascending order\n",
    "    quotas = {\n",
    "        year: base + (1 if idx < remainder else 0)\n",
    "        for idx, year in enumerate(sorted(years))\n",
    "    }\n",
    "\n",
    "    # --- sample per‐year according to the quota dict ---\n",
    "    sampled = (\n",
    "        df\n",
    "        .groupby(\"year\", group_keys=False)\n",
    "        .apply(lambda grp: grp.sample(\n",
    "            n=min(len(grp), quotas[grp.name]),\n",
    "            random_state=random_state))\n",
    "        .reset_index(drop=True)\n",
    "    )\n",
    "\n",
    "    return sampled"
   ]
  },
  {
   "cell_type": "code",
   "execution_count": 15,
   "id": "c0ccd338-0e02-41f3-a09d-f56f9266e3fb",
   "metadata": {
    "execution": {
     "iopub.execute_input": "2025-07-30T14:03:38.523094Z",
     "iopub.status.busy": "2025-07-30T14:03:38.522639Z",
     "iopub.status.idle": "2025-07-30T14:03:38.534589Z",
     "shell.execute_reply": "2025-07-30T14:03:38.533594Z"
    },
    "papermill": {
     "duration": 0.034306,
     "end_time": "2025-07-30T14:03:38.535956",
     "exception": false,
     "start_time": "2025-07-30T14:03:38.501650",
     "status": "completed"
    },
    "tags": []
   },
   "outputs": [
    {
     "data": {
      "text/plain": [
       "'5k'"
      ]
     },
     "execution_count": 15,
     "metadata": {},
     "output_type": "execute_result"
    }
   ],
   "source": [
    "universe[\"training_size\"]"
   ]
  },
  {
   "cell_type": "code",
   "execution_count": 16,
   "id": "ca707fd7-8047-4acd-bfa5-66248fbbf8e6",
   "metadata": {
    "execution": {
     "iopub.execute_input": "2025-07-30T14:03:38.581375Z",
     "iopub.status.busy": "2025-07-30T14:03:38.580669Z",
     "iopub.status.idle": "2025-07-30T14:03:38.588358Z",
     "shell.execute_reply": "2025-07-30T14:03:38.587358Z"
    },
    "papermill": {
     "duration": 0.032242,
     "end_time": "2025-07-30T14:03:38.589976",
     "exception": false,
     "start_time": "2025-07-30T14:03:38.557734",
     "status": "completed"
    },
    "tags": []
   },
   "outputs": [
    {
     "data": {
      "text/plain": [
       "'2012_14'"
      ]
     },
     "execution_count": 16,
     "metadata": {},
     "output_type": "execute_result"
    }
   ],
   "source": [
    "universe[\"training_year\"]"
   ]
  },
  {
   "cell_type": "code",
   "execution_count": 17,
   "id": "aea9c6ef-6f46-42c8-85eb-5a62025c1508",
   "metadata": {
    "execution": {
     "iopub.execute_input": "2025-07-30T14:03:38.636122Z",
     "iopub.status.busy": "2025-07-30T14:03:38.635601Z",
     "iopub.status.idle": "2025-07-30T14:03:39.216309Z",
     "shell.execute_reply": "2025-07-30T14:03:39.215336Z"
    },
    "papermill": {
     "duration": 0.605953,
     "end_time": "2025-07-30T14:03:39.218285",
     "exception": false,
     "start_time": "2025-07-30T14:03:38.612332",
     "status": "completed"
    },
    "tags": []
   },
   "outputs": [],
   "source": [
    "siab_train = sample_by_year_size(siab,\n",
    "                               training_year=universe[\"training_year\"],\n",
    "                               training_size=universe[\"training_size\"])"
   ]
  },
  {
   "cell_type": "code",
   "execution_count": 18,
   "id": "8d3afb32-789d-442c-8d5d-9f5aa8dd2eed",
   "metadata": {
    "execution": {
     "iopub.execute_input": "2025-07-30T14:03:39.260634Z",
     "iopub.status.busy": "2025-07-30T14:03:39.259961Z",
     "iopub.status.idle": "2025-07-30T14:03:39.267905Z",
     "shell.execute_reply": "2025-07-30T14:03:39.266996Z"
    },
    "papermill": {
     "duration": 0.030534,
     "end_time": "2025-07-30T14:03:39.269436",
     "exception": false,
     "start_time": "2025-07-30T14:03:39.238902",
     "status": "completed"
    },
    "tags": []
   },
   "outputs": [
    {
     "data": {
      "text/plain": [
       "(5000, 164)"
      ]
     },
     "execution_count": 18,
     "metadata": {},
     "output_type": "execute_result"
    }
   ],
   "source": [
    "siab_train.shape"
   ]
  },
  {
   "cell_type": "code",
   "execution_count": 19,
   "id": "d582db68-1a4c-47fb-84fc-08518dc1975a",
   "metadata": {
    "execution": {
     "iopub.execute_input": "2025-07-30T14:03:39.311528Z",
     "iopub.status.busy": "2025-07-30T14:03:39.310869Z",
     "iopub.status.idle": "2025-07-30T14:03:39.320010Z",
     "shell.execute_reply": "2025-07-30T14:03:39.319186Z"
    },
    "papermill": {
     "duration": 0.031622,
     "end_time": "2025-07-30T14:03:39.321580",
     "exception": false,
     "start_time": "2025-07-30T14:03:39.289958",
     "status": "completed"
    },
    "tags": []
   },
   "outputs": [
    {
     "data": {
      "text/plain": [
       "year\n",
       "2012    1667\n",
       "2013    1667\n",
       "2014    1666\n",
       "dtype: int64"
      ]
     },
     "metadata": {},
     "output_type": "display_data"
    }
   ],
   "source": [
    "display(siab_train.groupby(\"year\").size())"
   ]
  },
  {
   "cell_type": "code",
   "execution_count": 20,
   "id": "a561edb4-d032-42cb-8256-22eac1111c64",
   "metadata": {
    "execution": {
     "iopub.execute_input": "2025-07-30T14:03:39.363801Z",
     "iopub.status.busy": "2025-07-30T14:03:39.363152Z",
     "iopub.status.idle": "2025-07-30T14:03:39.619154Z",
     "shell.execute_reply": "2025-07-30T14:03:39.618259Z"
    },
    "papermill": {
     "duration": 0.279048,
     "end_time": "2025-07-30T14:03:39.621041",
     "exception": false,
     "start_time": "2025-07-30T14:03:39.341993",
     "status": "completed"
    },
    "tags": []
   },
   "outputs": [],
   "source": [
    "#siab_train = siab_s[siab_s.year < 2015]\n",
    "siab_calib = siab[siab.year == 2015]\n",
    "siab_test = siab[siab.year == 2016]"
   ]
  },
  {
   "cell_type": "code",
   "execution_count": 21,
   "id": "472de16f-c3db-4916-846b-1f0de9cf1746",
   "metadata": {
    "execution": {
     "iopub.execute_input": "2025-07-30T14:03:39.663735Z",
     "iopub.status.busy": "2025-07-30T14:03:39.663063Z",
     "iopub.status.idle": "2025-07-30T14:03:39.671526Z",
     "shell.execute_reply": "2025-07-30T14:03:39.670455Z"
    },
    "papermill": {
     "duration": 0.031331,
     "end_time": "2025-07-30T14:03:39.673120",
     "exception": false,
     "start_time": "2025-07-30T14:03:39.641789",
     "status": "completed"
    },
    "tags": []
   },
   "outputs": [],
   "source": [
    "X_train = siab_train.iloc[:,4:164]\n",
    "y_train = siab_train.iloc[:, [3]]"
   ]
  },
  {
   "cell_type": "code",
   "execution_count": 22,
   "id": "828c96af-f43a-4ed6-ba47-8ac73a47d56c",
   "metadata": {
    "execution": {
     "iopub.execute_input": "2025-07-30T14:03:39.715299Z",
     "iopub.status.busy": "2025-07-30T14:03:39.714638Z",
     "iopub.status.idle": "2025-07-30T14:03:39.765755Z",
     "shell.execute_reply": "2025-07-30T14:03:39.764748Z"
    },
    "papermill": {
     "duration": 0.073798,
     "end_time": "2025-07-30T14:03:39.767442",
     "exception": false,
     "start_time": "2025-07-30T14:03:39.693644",
     "status": "completed"
    },
    "tags": []
   },
   "outputs": [],
   "source": [
    "X_calib = siab_calib.iloc[:,4:164]\n",
    "y_calib = siab_calib.iloc[:, [3]]"
   ]
  },
  {
   "cell_type": "code",
   "execution_count": 23,
   "id": "c34be9c3-6bd6-476e-acd3-845840e303be",
   "metadata": {
    "execution": {
     "iopub.execute_input": "2025-07-30T14:03:39.810175Z",
     "iopub.status.busy": "2025-07-30T14:03:39.809525Z",
     "iopub.status.idle": "2025-07-30T14:03:39.862295Z",
     "shell.execute_reply": "2025-07-30T14:03:39.861308Z"
    },
    "papermill": {
     "duration": 0.07548,
     "end_time": "2025-07-30T14:03:39.863886",
     "exception": false,
     "start_time": "2025-07-30T14:03:39.788406",
     "status": "completed"
    },
    "tags": []
   },
   "outputs": [],
   "source": [
    "X_test = siab_test.iloc[:,4:164]\n",
    "y_true = siab_test.iloc[:, [3]]"
   ]
  },
  {
   "cell_type": "markdown",
   "id": "9901737e-04df-44f0-9100-f5ad144ed040",
   "metadata": {
    "papermill": {
     "duration": 0.020738,
     "end_time": "2025-07-30T14:03:39.919286",
     "exception": false,
     "start_time": "2025-07-30T14:03:39.898548",
     "status": "completed"
    },
    "tags": []
   },
   "source": [
    "# Splitting Data and Setting Training Data Size OLD VERSION"
   ]
  },
  {
   "cell_type": "code",
   "execution_count": 24,
   "id": "acbc8f7d-8fc8-4e86-8c59-5dcb0f58384b",
   "metadata": {
    "execution": {
     "iopub.execute_input": "2025-07-30T14:03:39.963133Z",
     "iopub.status.busy": "2025-07-30T14:03:39.962649Z",
     "iopub.status.idle": "2025-07-30T14:03:39.968129Z",
     "shell.execute_reply": "2025-07-30T14:03:39.967120Z"
    },
    "papermill": {
     "duration": 0.030031,
     "end_time": "2025-07-30T14:03:39.969668",
     "exception": false,
     "start_time": "2025-07-30T14:03:39.939637",
     "status": "completed"
    },
    "tags": []
   },
   "outputs": [],
   "source": [
    "#def sample_by_year(df, training_size, random_state=42):\n",
    "#    if training_size == \"2014\":\n",
    "#        return df[df[\"year\"] == 2014].reset_index(drop=True)\n",
    "#    \n",
    "#    size_map = {\n",
    "#        \"25k\": 5000,\n",
    "#        \"5k\": 1000,\n",
    "#        \"1k\": 200\n",
    "#    }\n",
    "#\n",
    "#    if training_size not in size_map:\n",
    "#        return df.reset_index(drop=True)  # use all data\n",
    "#\n",
    "#    n_per_year = size_map[training_size]\n",
    "#    grouped = df.groupby(\"year\")\n",
    "#    sampled = grouped.apply(lambda x: x.sample(n=min(n_per_year, len(x)), random_state=random_state))\n",
    "#    return sampled.reset_index(drop=True)"
   ]
  },
  {
   "cell_type": "code",
   "execution_count": 25,
   "id": "6d931f52-beaf-43ff-9e78-9d44a448d54e",
   "metadata": {
    "execution": {
     "iopub.execute_input": "2025-07-30T14:03:40.014533Z",
     "iopub.status.busy": "2025-07-30T14:03:40.014002Z",
     "iopub.status.idle": "2025-07-30T14:03:40.018947Z",
     "shell.execute_reply": "2025-07-30T14:03:40.018076Z"
    },
    "papermill": {
     "duration": 0.029341,
     "end_time": "2025-07-30T14:03:40.020542",
     "exception": false,
     "start_time": "2025-07-30T14:03:39.991201",
     "status": "completed"
    },
    "tags": []
   },
   "outputs": [],
   "source": [
    "#siab_s = sample_by_year(siab, universe[\"training_size\"])"
   ]
  },
  {
   "cell_type": "code",
   "execution_count": 26,
   "id": "5db0a40e-a4e2-4920-be85-b12ae061d70d",
   "metadata": {
    "execution": {
     "iopub.execute_input": "2025-07-30T14:03:40.064085Z",
     "iopub.status.busy": "2025-07-30T14:03:40.063409Z",
     "iopub.status.idle": "2025-07-30T14:03:40.068415Z",
     "shell.execute_reply": "2025-07-30T14:03:40.067482Z"
    },
    "papermill": {
     "duration": 0.028355,
     "end_time": "2025-07-30T14:03:40.069903",
     "exception": false,
     "start_time": "2025-07-30T14:03:40.041548",
     "status": "completed"
    },
    "tags": []
   },
   "outputs": [],
   "source": [
    "#display(siab_s.groupby(\"year\").size())"
   ]
  },
  {
   "cell_type": "code",
   "execution_count": 27,
   "id": "e6c733c5",
   "metadata": {
    "execution": {
     "iopub.execute_input": "2025-07-30T14:03:40.114362Z",
     "iopub.status.busy": "2025-07-30T14:03:40.113501Z",
     "iopub.status.idle": "2025-07-30T14:03:40.204571Z",
     "shell.execute_reply": "2025-07-30T14:03:40.203668Z"
    },
    "papermill": {
     "duration": 0.1149,
     "end_time": "2025-07-30T14:03:40.206490",
     "exception": false,
     "start_time": "2025-07-30T14:03:40.091590",
     "status": "completed"
    },
    "tags": []
   },
   "outputs": [],
   "source": [
    "# Auxiliary data needed downstream in the pipeline\n",
    "\n",
    "org_train = X_train.copy()\n",
    "org_test = X_test.copy()\n",
    "org_calib = X_calib.copy()"
   ]
  },
  {
   "cell_type": "code",
   "execution_count": 28,
   "id": "1466abac-c6da-4492-a62f-4240ae3783af",
   "metadata": {
    "execution": {
     "iopub.execute_input": "2025-07-30T14:03:40.250302Z",
     "iopub.status.busy": "2025-07-30T14:03:40.249650Z",
     "iopub.status.idle": "2025-07-30T14:03:40.255500Z",
     "shell.execute_reply": "2025-07-30T14:03:40.254591Z"
    },
    "papermill": {
     "duration": 0.029689,
     "end_time": "2025-07-30T14:03:40.256986",
     "exception": false,
     "start_time": "2025-07-30T14:03:40.227297",
     "status": "completed"
    },
    "tags": []
   },
   "outputs": [],
   "source": [
    "# put in other script?\n",
    "# Group sizes\n",
    "\n",
    "#def calculate_percentages(df, df_name):\n",
    "#    total_entries = len(df)\n",
    "#\n",
    "#    female_pct = (df['frau1'] == 1).mean() * 100\n",
    "#    non_german_pct = ((df['maxdeutsch1'] == 0) & (df['maxdeutsch.Missing.'] == 0)).mean() * 100\n",
    "#    non_german_male_pct = ((df['frau1'] == 0) & (df['maxdeutsch1'] == 0) & (df['maxdeutsch.Missing.'] == 0)).mean() * 100\n",
    "#    non_german_female_pct = ((df['frau1'] == 1) & (df['maxdeutsch1'] == 0) & (df['maxdeutsch.Missing.'] == 0)).mean() * 100\n",
    "#\n",
    "#    print(f\"--- {df_name} ---\")\n",
    "#    print(f\"Female: {female_pct:.2f}%\")\n",
    "#    print(f\"Non-German: {non_german_pct:.2f}%\")\n",
    "#    print(f\"Non-German Male: {non_german_male_pct:.2f}%\")\n",
    "#    print(f\"Non-German Female: {non_german_female_pct:.2f}%\\n\")\n",
    "#\n",
    "## Calculate for each DataFrame\n",
    "#calculate_percentages(siab_calib, \"siab_calib\")\n",
    "#calculate_percentages(siab_test, \"siab_test\")\n",
    "#calculate_percentages(siab_train, \"siab_train\")"
   ]
  },
  {
   "cell_type": "markdown",
   "id": "0a4a1b33",
   "metadata": {
    "papermill": {
     "duration": 0.020701,
     "end_time": "2025-07-30T14:03:40.301950",
     "exception": false,
     "start_time": "2025-07-30T14:03:40.281249",
     "status": "completed"
    },
    "tags": []
   },
   "source": [
    "# Preprocessing Data"
   ]
  },
  {
   "cell_type": "code",
   "execution_count": 29,
   "id": "ca879031",
   "metadata": {
    "execution": {
     "iopub.execute_input": "2025-07-30T14:03:40.345259Z",
     "iopub.status.busy": "2025-07-30T14:03:40.344600Z",
     "iopub.status.idle": "2025-07-30T14:03:40.353922Z",
     "shell.execute_reply": "2025-07-30T14:03:40.352974Z"
    },
    "papermill": {
     "duration": 0.032772,
     "end_time": "2025-07-30T14:03:40.355493",
     "exception": false,
     "start_time": "2025-07-30T14:03:40.322721",
     "status": "completed"
    },
    "tags": []
   },
   "outputs": [],
   "source": [
    "# EXCLUDE PROTECTED FEATURES\n",
    "# ----------------------\n",
    "# \"exclude_features\": \"none\", # \"nationality\", \"sex\", \"nationality-sex\"\n",
    "\n",
    "excluded_features = universe[\"exclude_features\"].split(\"-\") # split, e.g.: \"nationality-sex\" -> [\"nationality\", \"sex\"]\n",
    "excluded_features_dictionary = {\n",
    "    \"nationality\": [\"maxdeutsch1\", \"maxdeutsch.Missing.\"],\n",
    "    \"sex\": [\"frau1\"],\n",
    "    \"age\": [\"age\"],\n",
    "}\n"
   ]
  },
  {
   "cell_type": "code",
   "execution_count": 30,
   "id": "b745ac60",
   "metadata": {
    "execution": {
     "iopub.execute_input": "2025-07-30T14:03:40.399906Z",
     "iopub.status.busy": "2025-07-30T14:03:40.399212Z",
     "iopub.status.idle": "2025-07-30T14:03:40.405086Z",
     "shell.execute_reply": "2025-07-30T14:03:40.404092Z"
    },
    "papermill": {
     "duration": 0.029855,
     "end_time": "2025-07-30T14:03:40.406621",
     "exception": false,
     "start_time": "2025-07-30T14:03:40.376766",
     "status": "completed"
    },
    "tags": []
   },
   "outputs": [],
   "source": [
    "# Code nice names to column names\n",
    "\n",
    "excluded_features_columns = [\n",
    "    excluded_features_dictionary[f] for f in excluded_features if len(f) > 0 and f != \"none\"\n",
    "]"
   ]
  },
  {
   "cell_type": "code",
   "execution_count": 31,
   "id": "f84f73a2",
   "metadata": {
    "execution": {
     "iopub.execute_input": "2025-07-30T14:03:40.450984Z",
     "iopub.status.busy": "2025-07-30T14:03:40.450303Z",
     "iopub.status.idle": "2025-07-30T14:03:40.457201Z",
     "shell.execute_reply": "2025-07-30T14:03:40.456388Z"
    },
    "papermill": {
     "duration": 0.031033,
     "end_time": "2025-07-30T14:03:40.458625",
     "exception": false,
     "start_time": "2025-07-30T14:03:40.427592",
     "status": "completed"
    },
    "tags": []
   },
   "outputs": [],
   "source": [
    "from utils import flatten_once\n",
    "\n",
    "excluded_features_columns = flatten_once(excluded_features_columns)"
   ]
  },
  {
   "cell_type": "code",
   "execution_count": 32,
   "id": "884dea22",
   "metadata": {
    "execution": {
     "iopub.execute_input": "2025-07-30T14:03:40.504479Z",
     "iopub.status.busy": "2025-07-30T14:03:40.503821Z",
     "iopub.status.idle": "2025-07-30T14:03:40.509537Z",
     "shell.execute_reply": "2025-07-30T14:03:40.508696Z"
    },
    "papermill": {
     "duration": 0.0297,
     "end_time": "2025-07-30T14:03:40.511104",
     "exception": false,
     "start_time": "2025-07-30T14:03:40.481404",
     "status": "completed"
    },
    "tags": []
   },
   "outputs": [],
   "source": [
    "if len(excluded_features_columns) > 0:\n",
    "    print(f\"Dropping features: {excluded_features_columns}\")\n",
    "    X_train.drop(excluded_features_columns, axis=1, inplace=True)"
   ]
  },
  {
   "cell_type": "code",
   "execution_count": 33,
   "id": "95ab8b16",
   "metadata": {
    "execution": {
     "iopub.execute_input": "2025-07-30T14:03:40.557296Z",
     "iopub.status.busy": "2025-07-30T14:03:40.556404Z",
     "iopub.status.idle": "2025-07-30T14:03:40.562310Z",
     "shell.execute_reply": "2025-07-30T14:03:40.561529Z"
    },
    "papermill": {
     "duration": 0.031386,
     "end_time": "2025-07-30T14:03:40.565164",
     "exception": false,
     "start_time": "2025-07-30T14:03:40.533778",
     "status": "completed"
    },
    "tags": []
   },
   "outputs": [],
   "source": [
    "if len(excluded_features_columns) > 0:\n",
    "    print(f\"Dropping features: {excluded_features_columns}\")\n",
    "    X_test.drop(excluded_features_columns, axis=1, inplace=True)"
   ]
  },
  {
   "cell_type": "code",
   "execution_count": 34,
   "id": "1853aaf5-fb9f-46cb-a2b5-8ea4ae2237e4",
   "metadata": {
    "execution": {
     "iopub.execute_input": "2025-07-30T14:03:40.611901Z",
     "iopub.status.busy": "2025-07-30T14:03:40.611428Z",
     "iopub.status.idle": "2025-07-30T14:03:40.617672Z",
     "shell.execute_reply": "2025-07-30T14:03:40.616688Z"
    },
    "papermill": {
     "duration": 0.040876,
     "end_time": "2025-07-30T14:03:40.630107",
     "exception": false,
     "start_time": "2025-07-30T14:03:40.589231",
     "status": "completed"
    },
    "tags": []
   },
   "outputs": [],
   "source": [
    "if len(excluded_features_columns) > 0:\n",
    "    print(f\"Dropping features: {excluded_features_columns}\")\n",
    "    X_calib.drop(excluded_features_columns, axis=1, inplace=True)"
   ]
  },
  {
   "cell_type": "code",
   "execution_count": 35,
   "id": "6727d079-03e5-481e-9d38-292a90b7a0a8",
   "metadata": {
    "execution": {
     "iopub.execute_input": "2025-07-30T14:03:40.674044Z",
     "iopub.status.busy": "2025-07-30T14:03:40.673368Z",
     "iopub.status.idle": "2025-07-30T14:03:40.678359Z",
     "shell.execute_reply": "2025-07-30T14:03:40.677340Z"
    },
    "papermill": {
     "duration": 0.028298,
     "end_time": "2025-07-30T14:03:40.679845",
     "exception": false,
     "start_time": "2025-07-30T14:03:40.651547",
     "status": "completed"
    },
    "tags": []
   },
   "outputs": [],
   "source": [
    "# SPLIT & STRATIFY DATA\n",
    "# ----------------------"
   ]
  },
  {
   "cell_type": "code",
   "execution_count": 36,
   "id": "76c4dc6d",
   "metadata": {
    "execution": {
     "iopub.execute_input": "2025-07-30T14:03:40.724875Z",
     "iopub.status.busy": "2025-07-30T14:03:40.724276Z",
     "iopub.status.idle": "2025-07-30T14:03:40.729948Z",
     "shell.execute_reply": "2025-07-30T14:03:40.728907Z"
    },
    "papermill": {
     "duration": 0.029568,
     "end_time": "2025-07-30T14:03:40.731530",
     "exception": false,
     "start_time": "2025-07-30T14:03:40.701962",
     "status": "completed"
    },
    "tags": []
   },
   "outputs": [],
   "source": [
    "# EXCLUDE CERTAIN SUBGROUPS\n",
    "# ----------------------\n",
    "\n",
    "mode = universe.get(\"exclude_subgroups\", \"keep-all\") \n",
    "# Fetches the exclude_subgroups setting from the universe dict.\n",
    "# Defaults to \"keep-all\" if the key is missing."
   ]
  },
  {
   "cell_type": "code",
   "execution_count": 37,
   "id": "21994072",
   "metadata": {
    "execution": {
     "iopub.execute_input": "2025-07-30T14:03:40.775760Z",
     "iopub.status.busy": "2025-07-30T14:03:40.775030Z",
     "iopub.status.idle": "2025-07-30T14:03:40.781871Z",
     "shell.execute_reply": "2025-07-30T14:03:40.780856Z"
    },
    "papermill": {
     "duration": 0.030742,
     "end_time": "2025-07-30T14:03:40.783714",
     "exception": false,
     "start_time": "2025-07-30T14:03:40.752972",
     "status": "completed"
    },
    "tags": []
   },
   "outputs": [],
   "source": [
    "if mode == \"keep-all\":\n",
    "    keep_mask = pd.Series(True, index=org_train.index)\n",
    "\n",
    "# org_train contains the original feature columns from features_org (in Simson)\n",
    "# features_org contains unprocessed features, for me X_train at beginning ???\n",
    "# For keep-all, creates a boolean Series (keep_mask) of all True, so no rows are removed.\n",
    "\n",
    "elif mode == \"drop-non-german\":\n",
    "    keep_mask = org_train[\"maxdeutsch1\"] == 1 # ??? what about missing values?\n",
    "\n",
    "else:\n",
    "    raise ValueError(f\"Unsupported mode for exclude_subgroups: {mode}\")\n"
   ]
  },
  {
   "cell_type": "code",
   "execution_count": 38,
   "id": "71651440",
   "metadata": {
    "execution": {
     "iopub.execute_input": "2025-07-30T14:03:40.827248Z",
     "iopub.status.busy": "2025-07-30T14:03:40.826576Z",
     "iopub.status.idle": "2025-07-30T14:03:40.833168Z",
     "shell.execute_reply": "2025-07-30T14:03:40.832021Z"
    },
    "papermill": {
     "duration": 0.029534,
     "end_time": "2025-07-30T14:03:40.834803",
     "exception": false,
     "start_time": "2025-07-30T14:03:40.805269",
     "status": "completed"
    },
    "tags": []
   },
   "outputs": [
    {
     "name": "stdout",
     "output_type": "stream",
     "text": [
      "Dropping 665 rows (13.30%) where mode='drop-non-german'\n"
     ]
    }
   ],
   "source": [
    "n_drop = (~keep_mask).sum() # Calculates how many rows are set to be dropped\n",
    "if n_drop > 0:\n",
    "    pct = n_drop / len(keep_mask) * 100\n",
    "    print(f\"Dropping {n_drop} rows ({pct:.2f}%) where mode='{mode}'\")"
   ]
  },
  {
   "cell_type": "code",
   "execution_count": 39,
   "id": "5fb8eee5",
   "metadata": {
    "execution": {
     "iopub.execute_input": "2025-07-30T14:03:40.878894Z",
     "iopub.status.busy": "2025-07-30T14:03:40.878287Z",
     "iopub.status.idle": "2025-07-30T14:03:40.885339Z",
     "shell.execute_reply": "2025-07-30T14:03:40.884365Z"
    },
    "papermill": {
     "duration": 0.030778,
     "end_time": "2025-07-30T14:03:40.886748",
     "exception": false,
     "start_time": "2025-07-30T14:03:40.855970",
     "status": "completed"
    },
    "tags": []
   },
   "outputs": [],
   "source": [
    "X_train = X_train[keep_mask]"
   ]
  },
  {
   "cell_type": "code",
   "execution_count": 40,
   "id": "b202bb3a",
   "metadata": {
    "execution": {
     "iopub.execute_input": "2025-07-30T14:03:40.931241Z",
     "iopub.status.busy": "2025-07-30T14:03:40.930694Z",
     "iopub.status.idle": "2025-07-30T14:03:40.936308Z",
     "shell.execute_reply": "2025-07-30T14:03:40.935411Z"
    },
    "papermill": {
     "duration": 0.029894,
     "end_time": "2025-07-30T14:03:40.937910",
     "exception": false,
     "start_time": "2025-07-30T14:03:40.908016",
     "status": "completed"
    },
    "tags": []
   },
   "outputs": [],
   "source": [
    "y_train = y_train[keep_mask]"
   ]
  },
  {
   "cell_type": "markdown",
   "id": "493e2ac3",
   "metadata": {
    "papermill": {
     "duration": 0.021695,
     "end_time": "2025-07-30T14:03:40.981040",
     "exception": false,
     "start_time": "2025-07-30T14:03:40.959345",
     "status": "completed"
    },
    "tags": []
   },
   "source": [
    "# Model Training"
   ]
  },
  {
   "cell_type": "code",
   "execution_count": 41,
   "id": "679e1268",
   "metadata": {
    "execution": {
     "iopub.execute_input": "2025-07-30T14:03:41.029579Z",
     "iopub.status.busy": "2025-07-30T14:03:41.028697Z",
     "iopub.status.idle": "2025-07-30T14:03:41.141063Z",
     "shell.execute_reply": "2025-07-30T14:03:41.139922Z"
    },
    "papermill": {
     "duration": 0.141175,
     "end_time": "2025-07-30T14:03:41.143467",
     "exception": false,
     "start_time": "2025-07-30T14:03:41.002292",
     "status": "completed"
    },
    "tags": []
   },
   "outputs": [],
   "source": [
    "from sklearn.linear_model import LogisticRegression\n",
    "from sklearn.ensemble import GradientBoostingClassifier, RandomForestClassifier\n",
    "\n",
    "if (universe[\"model\"] == \"logreg\"):\n",
    "    model = LogisticRegression() #penalty=\"none\") #, solver=\"newton-cg\", max_iter=1) # include random_state=19 ?\n",
    "elif (universe[\"model\"] == \"penalized_logreg\"):\n",
    "    model = LogisticRegression(penalty=\"l2\", C=1.0) #, solver=\"newton-cg\", max_iter=1)\n",
    "elif (universe[\"model\"] == \"rf\"):\n",
    "    model = RandomForestClassifier(n_estimators=100, n_jobs=-1)\n",
    "elif (universe[\"model\"] == \"gbm\"):\n",
    "    model = GradientBoostingClassifier()\n",
    "elif (universe[\"model\"] == \"elasticnet\"):\n",
    "    model = LogisticRegression(penalty = 'elasticnet', solver = 'saga', l1_ratio = 0.5, max_iter=5000) # which solver to use?\n",
    "else:\n",
    "    raise \"Unsupported universe.model\""
   ]
  },
  {
   "cell_type": "code",
   "execution_count": 42,
   "id": "0cc8f744",
   "metadata": {
    "execution": {
     "iopub.execute_input": "2025-07-30T14:03:41.207725Z",
     "iopub.status.busy": "2025-07-30T14:03:41.206639Z",
     "iopub.status.idle": "2025-07-30T14:03:41.214539Z",
     "shell.execute_reply": "2025-07-30T14:03:41.213404Z"
    },
    "papermill": {
     "duration": 0.042131,
     "end_time": "2025-07-30T14:03:41.216476",
     "exception": false,
     "start_time": "2025-07-30T14:03:41.174345",
     "status": "completed"
    },
    "tags": []
   },
   "outputs": [],
   "source": [
    "import numpy as np\n",
    "from sklearn.pipeline import Pipeline\n",
    "from sklearn.preprocessing import StandardScaler\n",
    "\n",
    "model = Pipeline([\n",
    "    #(\"continuous_processor\", continuous_processor),\n",
    "    #(\"categorical_preprocessor\", categorical_preprocessor),\n",
    "    (\"scale\", StandardScaler() if universe[\"scale\"] == \"scale\" else None), \n",
    "    (\"model\", model),\n",
    "])"
   ]
  },
  {
   "cell_type": "code",
   "execution_count": 43,
   "id": "9442c04d",
   "metadata": {
    "execution": {
     "iopub.execute_input": "2025-07-30T14:03:41.272459Z",
     "iopub.status.busy": "2025-07-30T14:03:41.271966Z",
     "iopub.status.idle": "2025-07-30T14:04:57.330216Z",
     "shell.execute_reply": "2025-07-30T14:04:57.329040Z"
    },
    "papermill": {
     "duration": 76.098193,
     "end_time": "2025-07-30T14:04:57.341963",
     "exception": false,
     "start_time": "2025-07-30T14:03:41.243770",
     "status": "completed"
    },
    "tags": []
   },
   "outputs": [
    {
     "data": {
      "text/html": [
       "<style>#sk-container-id-1 {color: black;background-color: white;}#sk-container-id-1 pre{padding: 0;}#sk-container-id-1 div.sk-toggleable {background-color: white;}#sk-container-id-1 label.sk-toggleable__label {cursor: pointer;display: block;width: 100%;margin-bottom: 0;padding: 0.3em;box-sizing: border-box;text-align: center;}#sk-container-id-1 label.sk-toggleable__label-arrow:before {content: \"▸\";float: left;margin-right: 0.25em;color: #696969;}#sk-container-id-1 label.sk-toggleable__label-arrow:hover:before {color: black;}#sk-container-id-1 div.sk-estimator:hover label.sk-toggleable__label-arrow:before {color: black;}#sk-container-id-1 div.sk-toggleable__content {max-height: 0;max-width: 0;overflow: hidden;text-align: left;background-color: #f0f8ff;}#sk-container-id-1 div.sk-toggleable__content pre {margin: 0.2em;color: black;border-radius: 0.25em;background-color: #f0f8ff;}#sk-container-id-1 input.sk-toggleable__control:checked~div.sk-toggleable__content {max-height: 200px;max-width: 100%;overflow: auto;}#sk-container-id-1 input.sk-toggleable__control:checked~label.sk-toggleable__label-arrow:before {content: \"▾\";}#sk-container-id-1 div.sk-estimator input.sk-toggleable__control:checked~label.sk-toggleable__label {background-color: #d4ebff;}#sk-container-id-1 div.sk-label input.sk-toggleable__control:checked~label.sk-toggleable__label {background-color: #d4ebff;}#sk-container-id-1 input.sk-hidden--visually {border: 0;clip: rect(1px 1px 1px 1px);clip: rect(1px, 1px, 1px, 1px);height: 1px;margin: -1px;overflow: hidden;padding: 0;position: absolute;width: 1px;}#sk-container-id-1 div.sk-estimator {font-family: monospace;background-color: #f0f8ff;border: 1px dotted black;border-radius: 0.25em;box-sizing: border-box;margin-bottom: 0.5em;}#sk-container-id-1 div.sk-estimator:hover {background-color: #d4ebff;}#sk-container-id-1 div.sk-parallel-item::after {content: \"\";width: 100%;border-bottom: 1px solid gray;flex-grow: 1;}#sk-container-id-1 div.sk-label:hover label.sk-toggleable__label {background-color: #d4ebff;}#sk-container-id-1 div.sk-serial::before {content: \"\";position: absolute;border-left: 1px solid gray;box-sizing: border-box;top: 0;bottom: 0;left: 50%;z-index: 0;}#sk-container-id-1 div.sk-serial {display: flex;flex-direction: column;align-items: center;background-color: white;padding-right: 0.2em;padding-left: 0.2em;position: relative;}#sk-container-id-1 div.sk-item {position: relative;z-index: 1;}#sk-container-id-1 div.sk-parallel {display: flex;align-items: stretch;justify-content: center;background-color: white;position: relative;}#sk-container-id-1 div.sk-item::before, #sk-container-id-1 div.sk-parallel-item::before {content: \"\";position: absolute;border-left: 1px solid gray;box-sizing: border-box;top: 0;bottom: 0;left: 50%;z-index: -1;}#sk-container-id-1 div.sk-parallel-item {display: flex;flex-direction: column;z-index: 1;position: relative;background-color: white;}#sk-container-id-1 div.sk-parallel-item:first-child::after {align-self: flex-end;width: 50%;}#sk-container-id-1 div.sk-parallel-item:last-child::after {align-self: flex-start;width: 50%;}#sk-container-id-1 div.sk-parallel-item:only-child::after {width: 0;}#sk-container-id-1 div.sk-dashed-wrapped {border: 1px dashed gray;margin: 0 0.4em 0.5em 0.4em;box-sizing: border-box;padding-bottom: 0.4em;background-color: white;}#sk-container-id-1 div.sk-label label {font-family: monospace;font-weight: bold;display: inline-block;line-height: 1.2em;}#sk-container-id-1 div.sk-label-container {text-align: center;}#sk-container-id-1 div.sk-container {/* jupyter's `normalize.less` sets `[hidden] { display: none; }` but bootstrap.min.css set `[hidden] { display: none !important; }` so we also need the `!important` here to be able to override the default hidden behavior on the sphinx rendered scikit-learn.org. See: https://github.com/scikit-learn/scikit-learn/issues/21755 */display: inline-block !important;position: relative;}#sk-container-id-1 div.sk-text-repr-fallback {display: none;}</style><div id=\"sk-container-id-1\" class=\"sk-top-container\"><div class=\"sk-text-repr-fallback\"><pre>Pipeline(steps=[(&#x27;scale&#x27;, None),\n",
       "                (&#x27;model&#x27;,\n",
       "                 LogisticRegression(l1_ratio=0.5, max_iter=5000,\n",
       "                                    penalty=&#x27;elasticnet&#x27;, solver=&#x27;saga&#x27;))])</pre><b>In a Jupyter environment, please rerun this cell to show the HTML representation or trust the notebook. <br />On GitHub, the HTML representation is unable to render, please try loading this page with nbviewer.org.</b></div><div class=\"sk-container\" hidden><div class=\"sk-item sk-dashed-wrapped\"><div class=\"sk-label-container\"><div class=\"sk-label sk-toggleable\"><input class=\"sk-toggleable__control sk-hidden--visually\" id=\"sk-estimator-id-1\" type=\"checkbox\" ><label for=\"sk-estimator-id-1\" class=\"sk-toggleable__label sk-toggleable__label-arrow\">Pipeline</label><div class=\"sk-toggleable__content\"><pre>Pipeline(steps=[(&#x27;scale&#x27;, None),\n",
       "                (&#x27;model&#x27;,\n",
       "                 LogisticRegression(l1_ratio=0.5, max_iter=5000,\n",
       "                                    penalty=&#x27;elasticnet&#x27;, solver=&#x27;saga&#x27;))])</pre></div></div></div><div class=\"sk-serial\"><div class=\"sk-item\"><div class=\"sk-estimator sk-toggleable\"><input class=\"sk-toggleable__control sk-hidden--visually\" id=\"sk-estimator-id-2\" type=\"checkbox\" ><label for=\"sk-estimator-id-2\" class=\"sk-toggleable__label sk-toggleable__label-arrow\">None</label><div class=\"sk-toggleable__content\"><pre>None</pre></div></div></div><div class=\"sk-item\"><div class=\"sk-estimator sk-toggleable\"><input class=\"sk-toggleable__control sk-hidden--visually\" id=\"sk-estimator-id-3\" type=\"checkbox\" ><label for=\"sk-estimator-id-3\" class=\"sk-toggleable__label sk-toggleable__label-arrow\">LogisticRegression</label><div class=\"sk-toggleable__content\"><pre>LogisticRegression(l1_ratio=0.5, max_iter=5000, penalty=&#x27;elasticnet&#x27;,\n",
       "                   solver=&#x27;saga&#x27;)</pre></div></div></div></div></div></div></div>"
      ],
      "text/plain": [
       "Pipeline(steps=[('scale', None),\n",
       "                ('model',\n",
       "                 LogisticRegression(l1_ratio=0.5, max_iter=5000,\n",
       "                                    penalty='elasticnet', solver='saga'))])"
      ]
     },
     "execution_count": 43,
     "metadata": {},
     "output_type": "execute_result"
    }
   ],
   "source": [
    "model.fit(X_train, y_train.values.ravel())"
   ]
  },
  {
   "cell_type": "code",
   "execution_count": 44,
   "id": "af59f8c0",
   "metadata": {
    "execution": {
     "iopub.execute_input": "2025-07-30T14:04:57.366816Z",
     "iopub.status.busy": "2025-07-30T14:04:57.366464Z",
     "iopub.status.idle": "2025-07-30T14:04:57.371248Z",
     "shell.execute_reply": "2025-07-30T14:04:57.370435Z"
    },
    "papermill": {
     "duration": 0.01892,
     "end_time": "2025-07-30T14:04:57.372705",
     "exception": false,
     "start_time": "2025-07-30T14:04:57.353785",
     "status": "completed"
    },
    "tags": []
   },
   "outputs": [],
   "source": [
    "from fairness_multiverse.universe import predict_w_threshold"
   ]
  },
  {
   "cell_type": "code",
   "execution_count": 45,
   "id": "a7cf2e16",
   "metadata": {
    "execution": {
     "iopub.execute_input": "2025-07-30T14:04:57.398455Z",
     "iopub.status.busy": "2025-07-30T14:04:57.397814Z",
     "iopub.status.idle": "2025-07-30T14:04:57.486388Z",
     "shell.execute_reply": "2025-07-30T14:04:57.485692Z"
    },
    "papermill": {
     "duration": 0.102319,
     "end_time": "2025-07-30T14:04:57.487616",
     "exception": false,
     "start_time": "2025-07-30T14:04:57.385297",
     "status": "completed"
    },
    "tags": []
   },
   "outputs": [
    {
     "data": {
      "text/plain": [
       "0.8587671385575744"
      ]
     },
     "execution_count": 45,
     "metadata": {},
     "output_type": "execute_result"
    }
   ],
   "source": [
    "probs_test = model.predict_proba(X_test)\n",
    "\n",
    "'''\n",
    "Below code returns a boolean array (or binary 0/1 array depending on how it’s used) where each element \n",
    "is True if the probability of class 1 is greater than or equal to the threshold, and False otherwise.\n",
    "'''\n",
    "y_pred_default = predict_w_threshold(probs_test, 0.5)\n",
    "\n",
    "from sklearn.metrics import accuracy_score\n",
    "\n",
    "# Naive prediction\n",
    "accuracy_score(y_true = y_true, y_pred = y_pred_default)"
   ]
  },
  {
   "cell_type": "code",
   "execution_count": 46,
   "id": "081964c3",
   "metadata": {
    "execution": {
     "iopub.execute_input": "2025-07-30T14:04:57.513690Z",
     "iopub.status.busy": "2025-07-30T14:04:57.513007Z",
     "iopub.status.idle": "2025-07-30T14:04:57.592895Z",
     "shell.execute_reply": "2025-07-30T14:04:57.592015Z"
    },
    "papermill": {
     "duration": 0.093729,
     "end_time": "2025-07-30T14:04:57.594270",
     "exception": false,
     "start_time": "2025-07-30T14:04:57.500541",
     "status": "completed"
    },
    "tags": []
   },
   "outputs": [
    {
     "data": {
      "text/plain": [
       "array([0, 0, 0, ..., 0, 0, 0])"
      ]
     },
     "execution_count": 46,
     "metadata": {},
     "output_type": "execute_result"
    }
   ],
   "source": [
    "model.predict(X_test)"
   ]
  },
  {
   "cell_type": "markdown",
   "id": "56c9705b",
   "metadata": {
    "papermill": {
     "duration": 0.02151,
     "end_time": "2025-07-30T14:04:57.637310",
     "exception": false,
     "start_time": "2025-07-30T14:04:57.615800",
     "status": "completed"
    },
    "tags": []
   },
   "source": [
    "# Conformal Prediction"
   ]
  },
  {
   "cell_type": "code",
   "execution_count": 47,
   "id": "160ec6ff",
   "metadata": {
    "execution": {
     "iopub.execute_input": "2025-07-30T14:04:57.687586Z",
     "iopub.status.busy": "2025-07-30T14:04:57.687168Z",
     "iopub.status.idle": "2025-07-30T14:04:57.692123Z",
     "shell.execute_reply": "2025-07-30T14:04:57.691092Z"
    },
    "papermill": {
     "duration": 0.032063,
     "end_time": "2025-07-30T14:04:57.693805",
     "exception": false,
     "start_time": "2025-07-30T14:04:57.661742",
     "status": "completed"
    },
    "tags": []
   },
   "outputs": [],
   "source": [
    "# Miscoverage level for conformal prediction (10% allowed error rate => 90% target coverage)\n",
    "alpha = 0.1"
   ]
  },
  {
   "cell_type": "code",
   "execution_count": 48,
   "id": "eadf4555-3dd3-440e-8e35-f82a4ad9f855",
   "metadata": {
    "execution": {
     "iopub.execute_input": "2025-07-30T14:04:57.737608Z",
     "iopub.status.busy": "2025-07-30T14:04:57.737172Z",
     "iopub.status.idle": "2025-07-30T14:04:57.822991Z",
     "shell.execute_reply": "2025-07-30T14:04:57.822044Z"
    },
    "papermill": {
     "duration": 0.113322,
     "end_time": "2025-07-30T14:04:57.825124",
     "exception": false,
     "start_time": "2025-07-30T14:04:57.711802",
     "status": "completed"
    },
    "tags": []
   },
   "outputs": [],
   "source": [
    "probs_calib = model.predict_proba(X_calib)"
   ]
  },
  {
   "cell_type": "code",
   "execution_count": 49,
   "id": "2ed93547-6d5d-4983-9b36-1ecb300da49a",
   "metadata": {
    "execution": {
     "iopub.execute_input": "2025-07-30T14:04:57.872612Z",
     "iopub.status.busy": "2025-07-30T14:04:57.871770Z",
     "iopub.status.idle": "2025-07-30T14:04:57.877312Z",
     "shell.execute_reply": "2025-07-30T14:04:57.876437Z"
    },
    "papermill": {
     "duration": 0.03037,
     "end_time": "2025-07-30T14:04:57.878909",
     "exception": false,
     "start_time": "2025-07-30T14:04:57.848539",
     "status": "completed"
    },
    "tags": []
   },
   "outputs": [],
   "source": [
    "y_calib = y_calib.values.ravel().astype(int)"
   ]
  },
  {
   "cell_type": "code",
   "execution_count": 50,
   "id": "65d1320d-f588-4b38-9072-62af1ae97f7d",
   "metadata": {
    "execution": {
     "iopub.execute_input": "2025-07-30T14:04:57.930201Z",
     "iopub.status.busy": "2025-07-30T14:04:57.929410Z",
     "iopub.status.idle": "2025-07-30T14:04:57.937514Z",
     "shell.execute_reply": "2025-07-30T14:04:57.936673Z"
    },
    "papermill": {
     "duration": 0.035042,
     "end_time": "2025-07-30T14:04:57.939053",
     "exception": false,
     "start_time": "2025-07-30T14:04:57.904011",
     "status": "completed"
    },
    "tags": []
   },
   "outputs": [],
   "source": [
    "from fairness_multiverse.conformal import compute_nc_scores\n",
    "\n",
    "# Compute nonconformity scores on calibration set (1 - probability of true class)\n",
    "nc_scores = compute_nc_scores(probs_calib, y_calib)"
   ]
  },
  {
   "cell_type": "code",
   "execution_count": 51,
   "id": "df3b8ca3-53b7-43d5-9667-7c85da7aeda2",
   "metadata": {
    "execution": {
     "iopub.execute_input": "2025-07-30T14:04:57.988380Z",
     "iopub.status.busy": "2025-07-30T14:04:57.986582Z",
     "iopub.status.idle": "2025-07-30T14:04:57.994106Z",
     "shell.execute_reply": "2025-07-30T14:04:57.993356Z"
    },
    "papermill": {
     "duration": 0.031359,
     "end_time": "2025-07-30T14:04:57.995375",
     "exception": false,
     "start_time": "2025-07-30T14:04:57.964016",
     "status": "completed"
    },
    "tags": []
   },
   "outputs": [],
   "source": [
    "from fairness_multiverse.conformal import find_threshold\n",
    "\n",
    "# Find conformal threshold q_hat for the given alpha (split conformal method)\n",
    "q_hat = find_threshold(nc_scores, alpha)"
   ]
  },
  {
   "cell_type": "code",
   "execution_count": 52,
   "id": "4d29e6c1-0ef6-4aa4-b8fe-4fe79b0d033a",
   "metadata": {
    "execution": {
     "iopub.execute_input": "2025-07-30T14:04:58.021788Z",
     "iopub.status.busy": "2025-07-30T14:04:58.021174Z",
     "iopub.status.idle": "2025-07-30T14:04:58.027477Z",
     "shell.execute_reply": "2025-07-30T14:04:58.026621Z"
    },
    "papermill": {
     "duration": 0.020525,
     "end_time": "2025-07-30T14:04:58.028790",
     "exception": false,
     "start_time": "2025-07-30T14:04:58.008265",
     "status": "completed"
    },
    "tags": []
   },
   "outputs": [
    {
     "data": {
      "text/plain": [
       "0.6930954051035132"
      ]
     },
     "execution_count": 52,
     "metadata": {},
     "output_type": "execute_result"
    }
   ],
   "source": [
    "q_hat"
   ]
  },
  {
   "cell_type": "code",
   "execution_count": 53,
   "id": "92460794-cdac-4be2-ba28-f28c0515a6fb",
   "metadata": {
    "execution": {
     "iopub.execute_input": "2025-07-30T14:04:58.063405Z",
     "iopub.status.busy": "2025-07-30T14:04:58.063003Z",
     "iopub.status.idle": "2025-07-30T14:04:58.790932Z",
     "shell.execute_reply": "2025-07-30T14:04:58.790046Z"
    },
    "papermill": {
     "duration": 0.751347,
     "end_time": "2025-07-30T14:04:58.792778",
     "exception": false,
     "start_time": "2025-07-30T14:04:58.041431",
     "status": "completed"
    },
    "tags": []
   },
   "outputs": [],
   "source": [
    "from fairness_multiverse.conformal import predict_conformal_sets\n",
    "\n",
    "# Generate prediction sets for each test example\n",
    "pred_sets = predict_conformal_sets(model, X_test, q_hat)"
   ]
  },
  {
   "cell_type": "code",
   "execution_count": 54,
   "id": "d90c9a65-e6db-4f5d-80cd-e68fb7e46829",
   "metadata": {
    "execution": {
     "iopub.execute_input": "2025-07-30T14:04:58.841149Z",
     "iopub.status.busy": "2025-07-30T14:04:58.840535Z",
     "iopub.status.idle": "2025-07-30T14:04:58.845733Z",
     "shell.execute_reply": "2025-07-30T14:04:58.844864Z"
    },
    "papermill": {
     "duration": 0.030729,
     "end_time": "2025-07-30T14:04:58.847306",
     "exception": false,
     "start_time": "2025-07-30T14:04:58.816577",
     "status": "completed"
    },
    "tags": []
   },
   "outputs": [],
   "source": [
    "y_true = y_true.squeeze()"
   ]
  },
  {
   "cell_type": "code",
   "execution_count": 55,
   "id": "3a58a54a-1e68-46b9-927a-df01f18aebc8",
   "metadata": {
    "execution": {
     "iopub.execute_input": "2025-07-30T14:04:58.895523Z",
     "iopub.status.busy": "2025-07-30T14:04:58.894912Z",
     "iopub.status.idle": "2025-07-30T14:04:59.776159Z",
     "shell.execute_reply": "2025-07-30T14:04:59.775149Z"
    },
    "papermill": {
     "duration": 0.906479,
     "end_time": "2025-07-30T14:04:59.778190",
     "exception": false,
     "start_time": "2025-07-30T14:04:58.871711",
     "status": "completed"
    },
    "tags": []
   },
   "outputs": [],
   "source": [
    "from fairness_multiverse.conformal import evaluate_sets\n",
    "\n",
    "# Evaluate coverage and average set size on test data\n",
    "metrics = evaluate_sets(pred_sets, y_true)"
   ]
  },
  {
   "cell_type": "markdown",
   "id": "2b569c12-9aaa-4c88-98c9-bbcd0cf3ebb8",
   "metadata": {
    "papermill": {
     "duration": 0.013274,
     "end_time": "2025-07-30T14:04:59.805427",
     "exception": false,
     "start_time": "2025-07-30T14:04:59.792153",
     "status": "completed"
    },
    "tags": []
   },
   "source": [
    "# CP Metrics"
   ]
  },
  {
   "cell_type": "code",
   "execution_count": 56,
   "id": "5ce0a5cb-201f-45a0-ade5-94c7f0bd6095",
   "metadata": {
    "execution": {
     "iopub.execute_input": "2025-07-30T14:04:59.832557Z",
     "iopub.status.busy": "2025-07-30T14:04:59.832078Z",
     "iopub.status.idle": "2025-07-30T14:04:59.839086Z",
     "shell.execute_reply": "2025-07-30T14:04:59.838195Z"
    },
    "papermill": {
     "duration": 0.02254,
     "end_time": "2025-07-30T14:04:59.840656",
     "exception": false,
     "start_time": "2025-07-30T14:04:59.818116",
     "status": "completed"
    },
    "tags": []
   },
   "outputs": [
    {
     "data": {
      "text/plain": [
       "{'coverage': 0.9098539739159514, 'avg_size': 1.1515661576189946}"
      ]
     },
     "execution_count": 56,
     "metadata": {},
     "output_type": "execute_result"
    }
   ],
   "source": [
    "metrics"
   ]
  },
  {
   "cell_type": "code",
   "execution_count": 57,
   "id": "9b9a838d-31c9-430b-ae14-12baee460d17",
   "metadata": {
    "execution": {
     "iopub.execute_input": "2025-07-30T14:04:59.896428Z",
     "iopub.status.busy": "2025-07-30T14:04:59.895709Z",
     "iopub.status.idle": "2025-07-30T14:04:59.902435Z",
     "shell.execute_reply": "2025-07-30T14:04:59.901386Z"
    },
    "papermill": {
     "duration": 0.036513,
     "end_time": "2025-07-30T14:04:59.904252",
     "exception": false,
     "start_time": "2025-07-30T14:04:59.867739",
     "status": "completed"
    },
    "tags": []
   },
   "outputs": [],
   "source": [
    "example_universe = universe.copy()\n",
    "universe_training_size = example_universe.get(\"training_size\")\n",
    "universe_scale = example_universe.get(\"scale\")\n",
    "universe_model = example_universe.get(\"model\")\n",
    "universe_exclude_features = example_universe.get(\"exclude_features\")\n",
    "universe_exclude_subgroups = example_universe.get(\"exclude_subgroups\")"
   ]
  },
  {
   "cell_type": "code",
   "execution_count": 58,
   "id": "f4b6a8ac-9dc0-4245-8a91-5b3b5999c4f9",
   "metadata": {
    "execution": {
     "iopub.execute_input": "2025-07-30T14:04:59.961957Z",
     "iopub.status.busy": "2025-07-30T14:04:59.961293Z",
     "iopub.status.idle": "2025-07-30T14:04:59.968205Z",
     "shell.execute_reply": "2025-07-30T14:04:59.967262Z"
    },
    "papermill": {
     "duration": 0.037068,
     "end_time": "2025-07-30T14:04:59.969927",
     "exception": false,
     "start_time": "2025-07-30T14:04:59.932859",
     "status": "completed"
    },
    "tags": []
   },
   "outputs": [],
   "source": [
    "cp_metrics_dict = {\n",
    "    \"universe_id\": [universe_id],\n",
    "    \"universe_training_size\": [universe_training_size],\n",
    "    \"universe_scale\": [universe_scale],\n",
    "    \"universe_model\": [universe_model],\n",
    "    \"universe_exclude_features\": [universe_exclude_features],\n",
    "    \"universe_exclude_subgroups\": [universe_exclude_subgroups],\n",
    "    \"q_hat\": [q_hat],\n",
    "    \"coverage\": [metrics[\"coverage\"]],\n",
    "    \"avg_size\": [metrics[\"avg_size\"]],\n",
    "}"
   ]
  },
  {
   "cell_type": "code",
   "execution_count": 59,
   "id": "908acbb1-0371-4915-85ca-3fa520d2efe2",
   "metadata": {
    "execution": {
     "iopub.execute_input": "2025-07-30T14:05:00.025375Z",
     "iopub.status.busy": "2025-07-30T14:05:00.024716Z",
     "iopub.status.idle": "2025-07-30T14:05:00.032180Z",
     "shell.execute_reply": "2025-07-30T14:05:00.031174Z"
    },
    "papermill": {
     "duration": 0.039203,
     "end_time": "2025-07-30T14:05:00.033809",
     "exception": false,
     "start_time": "2025-07-30T14:04:59.994606",
     "status": "completed"
    },
    "tags": []
   },
   "outputs": [
    {
     "data": {
      "text/plain": [
       "{'universe_id': ['45d2a3d0e4ff7c68b762e4b2d2b70fa5'],\n",
       " 'universe_training_size': ['5k'],\n",
       " 'universe_scale': ['do-not-scale'],\n",
       " 'universe_model': ['elasticnet'],\n",
       " 'universe_exclude_features': ['none'],\n",
       " 'universe_exclude_subgroups': ['drop-non-german'],\n",
       " 'q_hat': [0.6930954051035132],\n",
       " 'coverage': [0.9098539739159514],\n",
       " 'avg_size': [1.1515661576189946]}"
      ]
     },
     "execution_count": 59,
     "metadata": {},
     "output_type": "execute_result"
    }
   ],
   "source": [
    "cp_metrics_dict"
   ]
  },
  {
   "cell_type": "code",
   "execution_count": 60,
   "id": "33007efc-14e9-4ec6-97ac-56a455c82265",
   "metadata": {
    "execution": {
     "iopub.execute_input": "2025-07-30T14:05:00.094105Z",
     "iopub.status.busy": "2025-07-30T14:05:00.093435Z",
     "iopub.status.idle": "2025-07-30T14:05:00.099699Z",
     "shell.execute_reply": "2025-07-30T14:05:00.098795Z"
    },
    "papermill": {
     "duration": 0.036451,
     "end_time": "2025-07-30T14:05:00.101385",
     "exception": false,
     "start_time": "2025-07-30T14:05:00.064934",
     "status": "completed"
    },
    "tags": []
   },
   "outputs": [],
   "source": [
    "cp_metrics_df = pd.DataFrame(cp_metrics_dict)"
   ]
  },
  {
   "cell_type": "code",
   "execution_count": 61,
   "id": "db12611b-57b2-4910-b9d0-355adfd6e7bf",
   "metadata": {
    "execution": {
     "iopub.execute_input": "2025-07-30T14:05:00.147754Z",
     "iopub.status.busy": "2025-07-30T14:05:00.147257Z",
     "iopub.status.idle": "2025-07-30T14:05:00.161087Z",
     "shell.execute_reply": "2025-07-30T14:05:00.160412Z"
    },
    "papermill": {
     "duration": 0.033942,
     "end_time": "2025-07-30T14:05:00.162427",
     "exception": false,
     "start_time": "2025-07-30T14:05:00.128485",
     "status": "completed"
    },
    "tags": []
   },
   "outputs": [
    {
     "data": {
      "text/html": [
       "<div>\n",
       "<style scoped>\n",
       "    .dataframe tbody tr th:only-of-type {\n",
       "        vertical-align: middle;\n",
       "    }\n",
       "\n",
       "    .dataframe tbody tr th {\n",
       "        vertical-align: top;\n",
       "    }\n",
       "\n",
       "    .dataframe thead th {\n",
       "        text-align: right;\n",
       "    }\n",
       "</style>\n",
       "<table border=\"1\" class=\"dataframe\">\n",
       "  <thead>\n",
       "    <tr style=\"text-align: right;\">\n",
       "      <th></th>\n",
       "      <th>universe_id</th>\n",
       "      <th>universe_training_size</th>\n",
       "      <th>universe_scale</th>\n",
       "      <th>universe_model</th>\n",
       "      <th>universe_exclude_features</th>\n",
       "      <th>universe_exclude_subgroups</th>\n",
       "      <th>q_hat</th>\n",
       "      <th>coverage</th>\n",
       "      <th>avg_size</th>\n",
       "    </tr>\n",
       "  </thead>\n",
       "  <tbody>\n",
       "    <tr>\n",
       "      <th>0</th>\n",
       "      <td>45d2a3d0e4ff7c68b762e4b2d2b70fa5</td>\n",
       "      <td>5k</td>\n",
       "      <td>do-not-scale</td>\n",
       "      <td>elasticnet</td>\n",
       "      <td>none</td>\n",
       "      <td>drop-non-german</td>\n",
       "      <td>0.693095</td>\n",
       "      <td>0.909854</td>\n",
       "      <td>1.151566</td>\n",
       "    </tr>\n",
       "  </tbody>\n",
       "</table>\n",
       "</div>"
      ],
      "text/plain": [
       "                        universe_id universe_training_size universe_scale  \\\n",
       "0  45d2a3d0e4ff7c68b762e4b2d2b70fa5                     5k   do-not-scale   \n",
       "\n",
       "  universe_model universe_exclude_features universe_exclude_subgroups  \\\n",
       "0     elasticnet                      none            drop-non-german   \n",
       "\n",
       "      q_hat  coverage  avg_size  \n",
       "0  0.693095  0.909854  1.151566  "
      ]
     },
     "execution_count": 61,
     "metadata": {},
     "output_type": "execute_result"
    }
   ],
   "source": [
    "cp_metrics_df"
   ]
  },
  {
   "cell_type": "code",
   "execution_count": 62,
   "id": "b7fbde55-a0a1-47e4-9af6-fe4a17fa8c61",
   "metadata": {
    "execution": {
     "iopub.execute_input": "2025-07-30T14:05:00.190702Z",
     "iopub.status.busy": "2025-07-30T14:05:00.190205Z",
     "iopub.status.idle": "2025-07-30T14:05:00.194655Z",
     "shell.execute_reply": "2025-07-30T14:05:00.194000Z"
    },
    "papermill": {
     "duration": 0.019588,
     "end_time": "2025-07-30T14:05:00.195849",
     "exception": false,
     "start_time": "2025-07-30T14:05:00.176261",
     "status": "completed"
    },
    "tags": []
   },
   "outputs": [],
   "source": [
    "# Conditional Coverage & looking at subgroups"
   ]
  },
  {
   "cell_type": "code",
   "execution_count": 63,
   "id": "027ae886-68dd-4141-96c7-805a5450e1ef",
   "metadata": {
    "execution": {
     "iopub.execute_input": "2025-07-30T14:05:00.224779Z",
     "iopub.status.busy": "2025-07-30T14:05:00.224254Z",
     "iopub.status.idle": "2025-07-30T14:05:00.407791Z",
     "shell.execute_reply": "2025-07-30T14:05:00.406950Z"
    },
    "papermill": {
     "duration": 0.199402,
     "end_time": "2025-07-30T14:05:00.409380",
     "exception": false,
     "start_time": "2025-07-30T14:05:00.209978",
     "status": "completed"
    },
    "tags": []
   },
   "outputs": [],
   "source": [
    "from fairness_multiverse.conformal import build_cp_groups\n",
    "\n",
    "cp_groups_df = build_cp_groups(pred_sets, y_true, X_test.index, org_test)\n",
    "#needs universe_id and setting"
   ]
  },
  {
   "cell_type": "code",
   "execution_count": 64,
   "id": "01d5802c-663a-4d1f-9d69-e036faaffbf7",
   "metadata": {
    "execution": {
     "iopub.execute_input": "2025-07-30T14:05:00.437902Z",
     "iopub.status.busy": "2025-07-30T14:05:00.437551Z",
     "iopub.status.idle": "2025-07-30T14:05:00.441481Z",
     "shell.execute_reply": "2025-07-30T14:05:00.440716Z"
    },
    "papermill": {
     "duration": 0.019394,
     "end_time": "2025-07-30T14:05:00.442812",
     "exception": false,
     "start_time": "2025-07-30T14:05:00.423418",
     "status": "completed"
    },
    "tags": []
   },
   "outputs": [],
   "source": [
    "#delete\n",
    "#cp_groups_df"
   ]
  },
  {
   "cell_type": "code",
   "execution_count": 65,
   "id": "fa424af1-d1eb-443d-b717-2d279ada8408",
   "metadata": {
    "execution": {
     "iopub.execute_input": "2025-07-30T14:05:00.471243Z",
     "iopub.status.busy": "2025-07-30T14:05:00.470747Z",
     "iopub.status.idle": "2025-07-30T14:05:00.475194Z",
     "shell.execute_reply": "2025-07-30T14:05:00.474488Z"
    },
    "papermill": {
     "duration": 0.019901,
     "end_time": "2025-07-30T14:05:00.476543",
     "exception": false,
     "start_time": "2025-07-30T14:05:00.456642",
     "status": "completed"
    },
    "tags": []
   },
   "outputs": [],
   "source": [
    "#delete\n",
    "#percentage = (cp_groups_df['nongerman_female'] == 1).mean() * 100\n",
    "#print(percentage)\n"
   ]
  },
  {
   "cell_type": "code",
   "execution_count": 66,
   "id": "6cbdab96-b2b2-45af-ad54-d0516db2e28d",
   "metadata": {
    "execution": {
     "iopub.execute_input": "2025-07-30T14:05:00.505447Z",
     "iopub.status.busy": "2025-07-30T14:05:00.504929Z",
     "iopub.status.idle": "2025-07-30T14:05:01.401621Z",
     "shell.execute_reply": "2025-07-30T14:05:01.400877Z"
    },
    "papermill": {
     "duration": 0.91253,
     "end_time": "2025-07-30T14:05:01.403046",
     "exception": false,
     "start_time": "2025-07-30T14:05:00.490516",
     "status": "completed"
    },
    "tags": []
   },
   "outputs": [],
   "source": [
    "# Define covered = 1 if true_label is in the predicted set\n",
    "cp_groups_df['covered'] = cp_groups_df.apply(\n",
    "    lambda r: int(r['true_label'] in r['pred_set']),\n",
    "    axis=1\n",
    ")"
   ]
  },
  {
   "cell_type": "code",
   "execution_count": 67,
   "id": "338ff529-1a6b-4b87-a931-8e4788d52aad",
   "metadata": {
    "execution": {
     "iopub.execute_input": "2025-07-30T14:05:01.446869Z",
     "iopub.status.busy": "2025-07-30T14:05:01.446503Z",
     "iopub.status.idle": "2025-07-30T14:05:01.450860Z",
     "shell.execute_reply": "2025-07-30T14:05:01.450002Z"
    },
    "papermill": {
     "duration": 0.032888,
     "end_time": "2025-07-30T14:05:01.452557",
     "exception": false,
     "start_time": "2025-07-30T14:05:01.419669",
     "status": "completed"
    },
    "tags": []
   },
   "outputs": [],
   "source": [
    "#cp_groups_df"
   ]
  },
  {
   "cell_type": "code",
   "execution_count": 68,
   "id": "90032e27-66df-4540-9169-4e89cfbaa758",
   "metadata": {
    "execution": {
     "iopub.execute_input": "2025-07-30T14:05:01.511748Z",
     "iopub.status.busy": "2025-07-30T14:05:01.511274Z",
     "iopub.status.idle": "2025-07-30T14:05:01.522992Z",
     "shell.execute_reply": "2025-07-30T14:05:01.522023Z"
    },
    "papermill": {
     "duration": 0.04688,
     "end_time": "2025-07-30T14:05:01.525151",
     "exception": false,
     "start_time": "2025-07-30T14:05:01.478271",
     "status": "completed"
    },
    "tags": []
   },
   "outputs": [],
   "source": [
    "subgroups = ['frau1','nongerman','nongerman_male','nongerman_female']\n",
    "\n",
    "# Conditional coverage for subgroup==1\n",
    "cond_coverage = {\n",
    "    g: cp_groups_df.loc[cp_groups_df[g]==1, 'covered'].mean()\n",
    "    for g in subgroups\n",
    "}"
   ]
  },
  {
   "cell_type": "code",
   "execution_count": 69,
   "id": "1e348fb1-b9c3-45bc-ba23-f016827a7e0d",
   "metadata": {
    "execution": {
     "iopub.execute_input": "2025-07-30T14:05:01.595929Z",
     "iopub.status.busy": "2025-07-30T14:05:01.595234Z",
     "iopub.status.idle": "2025-07-30T14:05:01.602480Z",
     "shell.execute_reply": "2025-07-30T14:05:01.601375Z"
    },
    "papermill": {
     "duration": 0.044767,
     "end_time": "2025-07-30T14:05:01.604356",
     "exception": false,
     "start_time": "2025-07-30T14:05:01.559589",
     "status": "completed"
    },
    "tags": []
   },
   "outputs": [
    {
     "data": {
      "text/plain": [
       "{'frau1': 0.9065372691737431,\n",
       " 'nongerman': 0.9107393476674339,\n",
       " 'nongerman_male': 0.9265964153832298,\n",
       " 'nongerman_female': 0.8845007451564829}"
      ]
     },
     "execution_count": 69,
     "metadata": {},
     "output_type": "execute_result"
    }
   ],
   "source": [
    "cond_coverage"
   ]
  },
  {
   "cell_type": "code",
   "execution_count": 70,
   "id": "f5093324-c3dd-4d63-bc4c-8d945e5c8bbb",
   "metadata": {
    "execution": {
     "iopub.execute_input": "2025-07-30T14:05:01.675768Z",
     "iopub.status.busy": "2025-07-30T14:05:01.675073Z",
     "iopub.status.idle": "2025-07-30T14:05:01.682603Z",
     "shell.execute_reply": "2025-07-30T14:05:01.681575Z"
    },
    "papermill": {
     "duration": 0.045487,
     "end_time": "2025-07-30T14:05:01.684534",
     "exception": false,
     "start_time": "2025-07-30T14:05:01.639047",
     "status": "completed"
    },
    "tags": []
   },
   "outputs": [],
   "source": [
    "for subgroup, cov in cond_coverage.items():\n",
    "    cp_metrics_df[f\"cov_{subgroup}\"] = cov"
   ]
  },
  {
   "cell_type": "code",
   "execution_count": 71,
   "id": "6e872e10-dbe5-49e8-b554-5030c98ff75d",
   "metadata": {
    "execution": {
     "iopub.execute_input": "2025-07-30T14:05:01.762227Z",
     "iopub.status.busy": "2025-07-30T14:05:01.761523Z",
     "iopub.status.idle": "2025-07-30T14:05:01.786999Z",
     "shell.execute_reply": "2025-07-30T14:05:01.785983Z"
    },
    "papermill": {
     "duration": 0.065919,
     "end_time": "2025-07-30T14:05:01.788628",
     "exception": false,
     "start_time": "2025-07-30T14:05:01.722709",
     "status": "completed"
    },
    "tags": []
   },
   "outputs": [
    {
     "data": {
      "text/html": [
       "<div>\n",
       "<style scoped>\n",
       "    .dataframe tbody tr th:only-of-type {\n",
       "        vertical-align: middle;\n",
       "    }\n",
       "\n",
       "    .dataframe tbody tr th {\n",
       "        vertical-align: top;\n",
       "    }\n",
       "\n",
       "    .dataframe thead th {\n",
       "        text-align: right;\n",
       "    }\n",
       "</style>\n",
       "<table border=\"1\" class=\"dataframe\">\n",
       "  <thead>\n",
       "    <tr style=\"text-align: right;\">\n",
       "      <th></th>\n",
       "      <th>universe_id</th>\n",
       "      <th>universe_training_size</th>\n",
       "      <th>universe_scale</th>\n",
       "      <th>universe_model</th>\n",
       "      <th>universe_exclude_features</th>\n",
       "      <th>universe_exclude_subgroups</th>\n",
       "      <th>q_hat</th>\n",
       "      <th>coverage</th>\n",
       "      <th>avg_size</th>\n",
       "      <th>cov_frau1</th>\n",
       "      <th>cov_nongerman</th>\n",
       "      <th>cov_nongerman_male</th>\n",
       "      <th>cov_nongerman_female</th>\n",
       "    </tr>\n",
       "  </thead>\n",
       "  <tbody>\n",
       "    <tr>\n",
       "      <th>0</th>\n",
       "      <td>45d2a3d0e4ff7c68b762e4b2d2b70fa5</td>\n",
       "      <td>5k</td>\n",
       "      <td>do-not-scale</td>\n",
       "      <td>elasticnet</td>\n",
       "      <td>none</td>\n",
       "      <td>drop-non-german</td>\n",
       "      <td>0.693095</td>\n",
       "      <td>0.909854</td>\n",
       "      <td>1.151566</td>\n",
       "      <td>0.906537</td>\n",
       "      <td>0.910739</td>\n",
       "      <td>0.926596</td>\n",
       "      <td>0.884501</td>\n",
       "    </tr>\n",
       "  </tbody>\n",
       "</table>\n",
       "</div>"
      ],
      "text/plain": [
       "                        universe_id universe_training_size universe_scale  \\\n",
       "0  45d2a3d0e4ff7c68b762e4b2d2b70fa5                     5k   do-not-scale   \n",
       "\n",
       "  universe_model universe_exclude_features universe_exclude_subgroups  \\\n",
       "0     elasticnet                      none            drop-non-german   \n",
       "\n",
       "      q_hat  coverage  avg_size  cov_frau1  cov_nongerman  cov_nongerman_male  \\\n",
       "0  0.693095  0.909854  1.151566   0.906537       0.910739            0.926596   \n",
       "\n",
       "   cov_nongerman_female  \n",
       "0              0.884501  "
      ]
     },
     "execution_count": 71,
     "metadata": {},
     "output_type": "execute_result"
    }
   ],
   "source": [
    "cp_metrics_df"
   ]
  },
  {
   "cell_type": "markdown",
   "id": "33774451",
   "metadata": {
    "papermill": {
     "duration": 0.025377,
     "end_time": "2025-07-30T14:05:01.839346",
     "exception": false,
     "start_time": "2025-07-30T14:05:01.813969",
     "status": "completed"
    },
    "tags": []
   },
   "source": [
    "# (Fairness) Metrics"
   ]
  },
  {
   "cell_type": "code",
   "execution_count": 72,
   "id": "debc5d62",
   "metadata": {
    "execution": {
     "iopub.execute_input": "2025-07-30T14:05:01.892299Z",
     "iopub.status.busy": "2025-07-30T14:05:01.891506Z",
     "iopub.status.idle": "2025-07-30T14:05:01.913454Z",
     "shell.execute_reply": "2025-07-30T14:05:01.912441Z"
    },
    "papermill": {
     "duration": 0.0506,
     "end_time": "2025-07-30T14:05:01.915359",
     "exception": false,
     "start_time": "2025-07-30T14:05:01.864759",
     "status": "completed"
    },
    "tags": []
   },
   "outputs": [],
   "source": [
    "# do I need to include maxdeutsch1.missing?\n",
    "\n",
    "import numpy as np\n",
    "\n",
    "colname_to_bin = \"maxdeutsch1\"\n",
    "majority_value = org_train[colname_to_bin].mode()[0]\n",
    "\n",
    "org_test[\"majmin\"] = np.where(org_test[colname_to_bin] == majority_value, \"majority\", \"minority\")"
   ]
  },
  {
   "cell_type": "code",
   "execution_count": 73,
   "id": "06a50de5",
   "metadata": {
    "execution": {
     "iopub.execute_input": "2025-07-30T14:05:01.974295Z",
     "iopub.status.busy": "2025-07-30T14:05:01.973467Z",
     "iopub.status.idle": "2025-07-30T14:05:03.752529Z",
     "shell.execute_reply": "2025-07-30T14:05:03.751787Z"
    },
    "papermill": {
     "duration": 1.813277,
     "end_time": "2025-07-30T14:05:03.753913",
     "exception": false,
     "start_time": "2025-07-30T14:05:01.940636",
     "status": "completed"
    },
    "tags": []
   },
   "outputs": [],
   "source": [
    "example_universe = universe.copy()\n",
    "example_universe[\"cutoff\"] = example_universe[\"cutoff\"][0]\n",
    "example_universe[\"eval_fairness_grouping\"] = example_universe[\"eval_fairness_grouping\"][0]\n",
    "fairness_dict, metric_frame = universe_analysis.compute_metrics(\n",
    "    example_universe,\n",
    "    y_pred_prob=probs_test,\n",
    "    y_test=y_true,\n",
    "    org_test=org_test,\n",
    ")"
   ]
  },
  {
   "cell_type": "markdown",
   "id": "f95d4e02",
   "metadata": {
    "papermill": {
     "duration": 0.013287,
     "end_time": "2025-07-30T14:05:03.783286",
     "exception": false,
     "start_time": "2025-07-30T14:05:03.769999",
     "status": "completed"
    },
    "tags": []
   },
   "source": [
    "# Overall"
   ]
  },
  {
   "cell_type": "markdown",
   "id": "bdee4871",
   "metadata": {
    "papermill": {
     "duration": 0.013433,
     "end_time": "2025-07-30T14:05:03.813898",
     "exception": false,
     "start_time": "2025-07-30T14:05:03.800465",
     "status": "completed"
    },
    "tags": []
   },
   "source": [
    "Fairness\n",
    "Main fairness target: Equalized Odds. Seems to be a better fit than equal opportunity, since we're not only interested in Y = 1. Seems to be a better fit than demographic parity, since we also care about accuracy, not just equal distribution of preds.\n",
    "\n",
    "Pick column for computation of fairness metrics\n",
    "\n",
    "Performance\n",
    "Overall performance measures, most interesting in relation to the measures split by group below"
   ]
  },
  {
   "cell_type": "code",
   "execution_count": 74,
   "id": "c4e067c6",
   "metadata": {
    "execution": {
     "iopub.execute_input": "2025-07-30T14:05:03.841496Z",
     "iopub.status.busy": "2025-07-30T14:05:03.841190Z",
     "iopub.status.idle": "2025-07-30T14:05:03.847601Z",
     "shell.execute_reply": "2025-07-30T14:05:03.846948Z"
    },
    "papermill": {
     "duration": 0.021696,
     "end_time": "2025-07-30T14:05:03.848879",
     "exception": false,
     "start_time": "2025-07-30T14:05:03.827183",
     "status": "completed"
    },
    "tags": []
   },
   "outputs": [
    {
     "data": {
      "text/plain": [
       "accuracy                   0.219407\n",
       "balanced accuracy          0.537521\n",
       "f1                         0.240875\n",
       "precision                  0.137604\n",
       "false positive rate        0.890374\n",
       "false negative rate        0.034585\n",
       "selection rate             0.900000\n",
       "count                  89710.000000\n",
       "dtype: float64"
      ]
     },
     "execution_count": 74,
     "metadata": {},
     "output_type": "execute_result"
    }
   ],
   "source": [
    "metric_frame.overall"
   ]
  },
  {
   "cell_type": "markdown",
   "id": "e968fe9d",
   "metadata": {
    "papermill": {
     "duration": 0.013507,
     "end_time": "2025-07-30T14:05:03.876317",
     "exception": false,
     "start_time": "2025-07-30T14:05:03.862810",
     "status": "completed"
    },
    "tags": []
   },
   "source": [
    "By Group"
   ]
  },
  {
   "cell_type": "code",
   "execution_count": 75,
   "id": "ec325bce",
   "metadata": {
    "execution": {
     "iopub.execute_input": "2025-07-30T14:05:03.926851Z",
     "iopub.status.busy": "2025-07-30T14:05:03.926446Z",
     "iopub.status.idle": "2025-07-30T14:05:03.940850Z",
     "shell.execute_reply": "2025-07-30T14:05:03.940177Z"
    },
    "papermill": {
     "duration": 0.042857,
     "end_time": "2025-07-30T14:05:03.942074",
     "exception": false,
     "start_time": "2025-07-30T14:05:03.899217",
     "status": "completed"
    },
    "tags": []
   },
   "outputs": [
    {
     "data": {
      "text/html": [
       "<div>\n",
       "<style scoped>\n",
       "    .dataframe tbody tr th:only-of-type {\n",
       "        vertical-align: middle;\n",
       "    }\n",
       "\n",
       "    .dataframe tbody tr th {\n",
       "        vertical-align: top;\n",
       "    }\n",
       "\n",
       "    .dataframe thead th {\n",
       "        text-align: right;\n",
       "    }\n",
       "</style>\n",
       "<table border=\"1\" class=\"dataframe\">\n",
       "  <thead>\n",
       "    <tr style=\"text-align: right;\">\n",
       "      <th></th>\n",
       "      <th>accuracy</th>\n",
       "      <th>balanced accuracy</th>\n",
       "      <th>f1</th>\n",
       "      <th>precision</th>\n",
       "      <th>false positive rate</th>\n",
       "      <th>false negative rate</th>\n",
       "      <th>selection rate</th>\n",
       "      <th>count</th>\n",
       "    </tr>\n",
       "    <tr>\n",
       "      <th>majmin</th>\n",
       "      <th></th>\n",
       "      <th></th>\n",
       "      <th></th>\n",
       "      <th></th>\n",
       "      <th></th>\n",
       "      <th></th>\n",
       "      <th></th>\n",
       "      <th></th>\n",
       "    </tr>\n",
       "  </thead>\n",
       "  <tbody>\n",
       "    <tr>\n",
       "      <th>majority</th>\n",
       "      <td>0.241463</td>\n",
       "      <td>0.546522</td>\n",
       "      <td>0.250864</td>\n",
       "      <td>0.144258</td>\n",
       "      <td>0.868116</td>\n",
       "      <td>0.038840</td>\n",
       "      <td>0.880411</td>\n",
       "      <td>69170.0</td>\n",
       "    </tr>\n",
       "    <tr>\n",
       "      <th>minority</th>\n",
       "      <td>0.145131</td>\n",
       "      <td>0.508970</td>\n",
       "      <td>0.209375</td>\n",
       "      <td>0.117182</td>\n",
       "      <td>0.963901</td>\n",
       "      <td>0.018159</td>\n",
       "      <td>0.965969</td>\n",
       "      <td>20540.0</td>\n",
       "    </tr>\n",
       "  </tbody>\n",
       "</table>\n",
       "</div>"
      ],
      "text/plain": [
       "          accuracy  balanced accuracy        f1  precision  \\\n",
       "majmin                                                       \n",
       "majority  0.241463           0.546522  0.250864   0.144258   \n",
       "minority  0.145131           0.508970  0.209375   0.117182   \n",
       "\n",
       "          false positive rate  false negative rate  selection rate    count  \n",
       "majmin                                                                       \n",
       "majority             0.868116             0.038840        0.880411  69170.0  \n",
       "minority             0.963901             0.018159        0.965969  20540.0  "
      ]
     },
     "execution_count": 75,
     "metadata": {},
     "output_type": "execute_result"
    }
   ],
   "source": [
    "metric_frame.by_group"
   ]
  },
  {
   "cell_type": "code",
   "execution_count": 76,
   "id": "a9ddbe63",
   "metadata": {
    "execution": {
     "iopub.execute_input": "2025-07-30T14:05:03.971023Z",
     "iopub.status.busy": "2025-07-30T14:05:03.970520Z",
     "iopub.status.idle": "2025-07-30T14:05:06.157892Z",
     "shell.execute_reply": "2025-07-30T14:05:06.157052Z"
    },
    "papermill": {
     "duration": 2.203093,
     "end_time": "2025-07-30T14:05:06.159373",
     "exception": false,
     "start_time": "2025-07-30T14:05:03.956280",
     "status": "completed"
    },
    "tags": []
   },
   "outputs": [
    {
     "data": {
      "text/plain": [
       "array([[<Axes: title={'center': 'accuracy'}, xlabel='majmin'>,\n",
       "        <Axes: title={'center': 'balanced accuracy'}, xlabel='majmin'>,\n",
       "        <Axes: title={'center': 'f1'}, xlabel='majmin'>],\n",
       "       [<Axes: title={'center': 'precision'}, xlabel='majmin'>,\n",
       "        <Axes: title={'center': 'false positive rate'}, xlabel='majmin'>,\n",
       "        <Axes: title={'center': 'false negative rate'}, xlabel='majmin'>],\n",
       "       [<Axes: title={'center': 'selection rate'}, xlabel='majmin'>,\n",
       "        <Axes: title={'center': 'count'}, xlabel='majmin'>,\n",
       "        <Axes: xlabel='majmin'>]], dtype=object)"
      ]
     },
     "execution_count": 76,
     "metadata": {},
     "output_type": "execute_result"
    },
    {
     "data": {
      "image/png": "[encoded data removed]",
      "text/plain": [
       "<Figure size 1200x800 with 9 Axes>"
      ]
     },
     "metadata": {},
     "output_type": "display_data"
    }
   ],
   "source": [
    "# In a graphic\n",
    "metric_frame.by_group.plot.bar(\n",
    "    subplots=True,\n",
    "    layout=[3, 3],\n",
    "    legend=False,\n",
    "    figsize=[12, 8],\n",
    "    title=\"Show all metrics\",\n",
    ")"
   ]
  },
  {
   "cell_type": "markdown",
   "id": "f57a0bac",
   "metadata": {
    "papermill": {
     "duration": 0.026018,
     "end_time": "2025-07-30T14:05:06.212984",
     "exception": false,
     "start_time": "2025-07-30T14:05:06.186966",
     "status": "completed"
    },
    "tags": []
   },
   "source": [
    "# Final Output"
   ]
  },
  {
   "cell_type": "code",
   "execution_count": 77,
   "id": "96d280a3",
   "metadata": {
    "execution": {
     "iopub.execute_input": "2025-07-30T14:05:06.266502Z",
     "iopub.status.busy": "2025-07-30T14:05:06.265954Z",
     "iopub.status.idle": "2025-07-30T14:05:06.273344Z",
     "shell.execute_reply": "2025-07-30T14:05:06.272551Z"
    },
    "papermill": {
     "duration": 0.0357,
     "end_time": "2025-07-30T14:05:06.274773",
     "exception": false,
     "start_time": "2025-07-30T14:05:06.239073",
     "status": "completed"
    },
    "tags": []
   },
   "outputs": [
    {
     "data": {
      "text/plain": [
       "4"
      ]
     },
     "execution_count": 77,
     "metadata": {},
     "output_type": "execute_result"
    }
   ],
   "source": [
    "sub_universes = universe_analysis.generate_sub_universes()\n",
    "len(sub_universes)"
   ]
  },
  {
   "cell_type": "code",
   "execution_count": 78,
   "id": "92adf7ba",
   "metadata": {
    "execution": {
     "iopub.execute_input": "2025-07-30T14:05:06.329339Z",
     "iopub.status.busy": "2025-07-30T14:05:06.328527Z",
     "iopub.status.idle": "2025-07-30T14:05:06.334190Z",
     "shell.execute_reply": "2025-07-30T14:05:06.333296Z"
    },
    "papermill": {
     "duration": 0.034369,
     "end_time": "2025-07-30T14:05:06.335760",
     "exception": false,
     "start_time": "2025-07-30T14:05:06.301391",
     "status": "completed"
    },
    "tags": []
   },
   "outputs": [],
   "source": [
    "def filter_sub_universe_data(sub_universe, org_test):\n",
    "    # Keep all rows — no filtering\n",
    "    keep_rows_mask = np.ones(org_test.shape[0], dtype=bool)\n",
    "\n",
    "    print(f\"[INFO] Keeping all rows: {keep_rows_mask.sum()} rows retained.\")\n",
    "    return keep_rows_mask"
   ]
  },
  {
   "cell_type": "code",
   "execution_count": 79,
   "id": "4a759155",
   "metadata": {
    "execution": {
     "iopub.execute_input": "2025-07-30T14:05:06.390347Z",
     "iopub.status.busy": "2025-07-30T14:05:06.389766Z",
     "iopub.status.idle": "2025-07-30T14:05:17.629640Z",
     "shell.execute_reply": "2025-07-30T14:05:17.628818Z"
    },
    "papermill": {
     "duration": 11.26887,
     "end_time": "2025-07-30T14:05:17.631101",
     "exception": false,
     "start_time": "2025-07-30T14:05:06.362231",
     "status": "completed"
    },
    "tags": []
   },
   "outputs": [
    {
     "name": "stdout",
     "output_type": "stream",
     "text": [
      "Stopping execution_time clock.\n",
      "[INFO] Keeping all rows: 89710 rows retained.\n"
     ]
    },
    {
     "name": "stdout",
     "output_type": "stream",
     "text": [
      "[INFO] Keeping all rows: 89710 rows retained.\n"
     ]
    },
    {
     "name": "stdout",
     "output_type": "stream",
     "text": [
      "[INFO] Keeping all rows: 89710 rows retained.\n"
     ]
    },
    {
     "name": "stdout",
     "output_type": "stream",
     "text": [
      "[INFO] Keeping all rows: 89710 rows retained.\n"
     ]
    },
    {
     "data": {
      "text/html": [
       "<div>\n",
       "<style scoped>\n",
       "    .dataframe tbody tr th:only-of-type {\n",
       "        vertical-align: middle;\n",
       "    }\n",
       "\n",
       "    .dataframe tbody tr th {\n",
       "        vertical-align: top;\n",
       "    }\n",
       "\n",
       "    .dataframe thead th {\n",
       "        text-align: right;\n",
       "    }\n",
       "</style>\n",
       "<table border=\"1\" class=\"dataframe\">\n",
       "  <thead>\n",
       "    <tr style=\"text-align: right;\">\n",
       "      <th></th>\n",
       "      <th>run_no</th>\n",
       "      <th>universe_id</th>\n",
       "      <th>universe_settings</th>\n",
       "      <th>execution_time</th>\n",
       "      <th>test_size_n</th>\n",
       "      <th>test_size_frac</th>\n",
       "      <th>fair_main_equalized_odds_difference</th>\n",
       "      <th>fair_main_equalized_odds_ratio</th>\n",
       "      <th>fair_main_demographic_parity_difference</th>\n",
       "      <th>fair_main_demographic_parity_ratio</th>\n",
       "      <th>...</th>\n",
       "      <th>perf_grp_precision_0</th>\n",
       "      <th>perf_grp_precision_1</th>\n",
       "      <th>perf_grp_false positive rate_0</th>\n",
       "      <th>perf_grp_false positive rate_1</th>\n",
       "      <th>perf_grp_false negative rate_0</th>\n",
       "      <th>perf_grp_false negative rate_1</th>\n",
       "      <th>perf_grp_selection rate_0</th>\n",
       "      <th>perf_grp_selection rate_1</th>\n",
       "      <th>perf_grp_count_0</th>\n",
       "      <th>perf_grp_count_1</th>\n",
       "    </tr>\n",
       "  </thead>\n",
       "  <tbody>\n",
       "    <tr>\n",
       "      <th>0</th>\n",
       "      <td>12</td>\n",
       "      <td>45d2a3d0e4ff7c68b762e4b2d2b70fa5</td>\n",
       "      <td>{\"cutoff\": \"quantile_0.1\", \"eval_fairness_grou...</td>\n",
       "      <td>101.027997</td>\n",
       "      <td>89710</td>\n",
       "      <td>1.0</td>\n",
       "      <td>0.095785</td>\n",
       "      <td>0.900628</td>\n",
       "      <td>0.085558</td>\n",
       "      <td>0.911428</td>\n",
       "      <td>...</td>\n",
       "      <td>NaN</td>\n",
       "      <td>NaN</td>\n",
       "      <td>NaN</td>\n",
       "      <td>NaN</td>\n",
       "      <td>NaN</td>\n",
       "      <td>NaN</td>\n",
       "      <td>NaN</td>\n",
       "      <td>NaN</td>\n",
       "      <td>NaN</td>\n",
       "      <td>NaN</td>\n",
       "    </tr>\n",
       "    <tr>\n",
       "      <th>0</th>\n",
       "      <td>12</td>\n",
       "      <td>45d2a3d0e4ff7c68b762e4b2d2b70fa5</td>\n",
       "      <td>{\"cutoff\": \"quantile_0.1\", \"eval_fairness_grou...</td>\n",
       "      <td>101.027997</td>\n",
       "      <td>89710</td>\n",
       "      <td>1.0</td>\n",
       "      <td>0.095785</td>\n",
       "      <td>0.900628</td>\n",
       "      <td>0.085558</td>\n",
       "      <td>0.911428</td>\n",
       "      <td>...</td>\n",
       "      <td>0.117182</td>\n",
       "      <td>0.144258</td>\n",
       "      <td>0.963901</td>\n",
       "      <td>0.868116</td>\n",
       "      <td>0.018159</td>\n",
       "      <td>0.038840</td>\n",
       "      <td>0.965969</td>\n",
       "      <td>0.880411</td>\n",
       "      <td>20540.0</td>\n",
       "      <td>69170.0</td>\n",
       "    </tr>\n",
       "    <tr>\n",
       "      <th>0</th>\n",
       "      <td>12</td>\n",
       "      <td>45d2a3d0e4ff7c68b762e4b2d2b70fa5</td>\n",
       "      <td>{\"cutoff\": \"quantile_0.25\", \"eval_fairness_gro...</td>\n",
       "      <td>101.027997</td>\n",
       "      <td>89710</td>\n",
       "      <td>1.0</td>\n",
       "      <td>0.218514</td>\n",
       "      <td>0.756166</td>\n",
       "      <td>0.197454</td>\n",
       "      <td>0.781151</td>\n",
       "      <td>...</td>\n",
       "      <td>NaN</td>\n",
       "      <td>NaN</td>\n",
       "      <td>NaN</td>\n",
       "      <td>NaN</td>\n",
       "      <td>NaN</td>\n",
       "      <td>NaN</td>\n",
       "      <td>NaN</td>\n",
       "      <td>NaN</td>\n",
       "      <td>NaN</td>\n",
       "      <td>NaN</td>\n",
       "    </tr>\n",
       "    <tr>\n",
       "      <th>0</th>\n",
       "      <td>12</td>\n",
       "      <td>45d2a3d0e4ff7c68b762e4b2d2b70fa5</td>\n",
       "      <td>{\"cutoff\": \"quantile_0.25\", \"eval_fairness_gro...</td>\n",
       "      <td>101.027997</td>\n",
       "      <td>89710</td>\n",
       "      <td>1.0</td>\n",
       "      <td>0.218514</td>\n",
       "      <td>0.756166</td>\n",
       "      <td>0.197454</td>\n",
       "      <td>0.781151</td>\n",
       "      <td>...</td>\n",
       "      <td>0.121250</td>\n",
       "      <td>0.165559</td>\n",
       "      <td>0.896159</td>\n",
       "      <td>0.677645</td>\n",
       "      <td>0.051098</td>\n",
       "      <td>0.116958</td>\n",
       "      <td>0.902240</td>\n",
       "      <td>0.704785</td>\n",
       "      <td>20540.0</td>\n",
       "      <td>69170.0</td>\n",
       "    </tr>\n",
       "  </tbody>\n",
       "</table>\n",
       "<p>4 rows × 50 columns</p>\n",
       "</div>"
      ],
      "text/plain": [
       "  run_no                       universe_id  \\\n",
       "0     12  45d2a3d0e4ff7c68b762e4b2d2b70fa5   \n",
       "0     12  45d2a3d0e4ff7c68b762e4b2d2b70fa5   \n",
       "0     12  45d2a3d0e4ff7c68b762e4b2d2b70fa5   \n",
       "0     12  45d2a3d0e4ff7c68b762e4b2d2b70fa5   \n",
       "\n",
       "                                   universe_settings  execution_time  \\\n",
       "0  {\"cutoff\": \"quantile_0.1\", \"eval_fairness_grou...      101.027997   \n",
       "0  {\"cutoff\": \"quantile_0.1\", \"eval_fairness_grou...      101.027997   \n",
       "0  {\"cutoff\": \"quantile_0.25\", \"eval_fairness_gro...      101.027997   \n",
       "0  {\"cutoff\": \"quantile_0.25\", \"eval_fairness_gro...      101.027997   \n",
       "\n",
       "   test_size_n  test_size_frac  fair_main_equalized_odds_difference  \\\n",
       "0        89710             1.0                             0.095785   \n",
       "0        89710             1.0                             0.095785   \n",
       "0        89710             1.0                             0.218514   \n",
       "0        89710             1.0                             0.218514   \n",
       "\n",
       "   fair_main_equalized_odds_ratio  fair_main_demographic_parity_difference  \\\n",
       "0                        0.900628                                 0.085558   \n",
       "0                        0.900628                                 0.085558   \n",
       "0                        0.756166                                 0.197454   \n",
       "0                        0.756166                                 0.197454   \n",
       "\n",
       "   fair_main_demographic_parity_ratio  ...  perf_grp_precision_0  \\\n",
       "0                            0.911428  ...                   NaN   \n",
       "0                            0.911428  ...              0.117182   \n",
       "0                            0.781151  ...                   NaN   \n",
       "0                            0.781151  ...              0.121250   \n",
       "\n",
       "   perf_grp_precision_1  perf_grp_false positive rate_0  \\\n",
       "0                   NaN                             NaN   \n",
       "0              0.144258                        0.963901   \n",
       "0                   NaN                             NaN   \n",
       "0              0.165559                        0.896159   \n",
       "\n",
       "   perf_grp_false positive rate_1  perf_grp_false negative rate_0  \\\n",
       "0                             NaN                             NaN   \n",
       "0                        0.868116                        0.018159   \n",
       "0                             NaN                             NaN   \n",
       "0                        0.677645                        0.051098   \n",
       "\n",
       "   perf_grp_false negative rate_1  perf_grp_selection rate_0  \\\n",
       "0                             NaN                        NaN   \n",
       "0                        0.038840                   0.965969   \n",
       "0                             NaN                        NaN   \n",
       "0                        0.116958                   0.902240   \n",
       "\n",
       "   perf_grp_selection rate_1  perf_grp_count_0  perf_grp_count_1  \n",
       "0                        NaN               NaN               NaN  \n",
       "0                   0.880411           20540.0           69170.0  \n",
       "0                        NaN               NaN               NaN  \n",
       "0                   0.704785           20540.0           69170.0  \n",
       "\n",
       "[4 rows x 50 columns]"
      ]
     },
     "execution_count": 79,
     "metadata": {},
     "output_type": "execute_result"
    }
   ],
   "source": [
    "final_output = universe_analysis.generate_final_output(\n",
    "    y_pred_prob=probs_test,\n",
    "    y_test=y_true,\n",
    "    org_test=org_test,\n",
    "    filter_data=filter_sub_universe_data,\n",
    "    cp_metrics_df=cp_metrics_df,\n",
    "    save=True,\n",
    ")\n",
    "final_output"
   ]
  },
  {
   "cell_type": "code",
   "execution_count": null,
   "id": "721ff514-cb11-46f8-b6fc-50392f74b5cb",
   "metadata": {
    "papermill": {
     "duration": 0.028,
     "end_time": "2025-07-30T14:05:17.689745",
     "exception": false,
     "start_time": "2025-07-30T14:05:17.661745",
     "status": "completed"
    },
    "tags": []
   },
   "outputs": [],
   "source": []
  }
 ],
 "metadata": {
  "celltoolbar": "Tags",
  "kernelspec": {
   "display_name": "Python (CMA Fairness)",
   "language": "python",
   "name": "cma_fair_env"
  },
  "language_info": {
   "codemirror_mode": {
    "name": "ipython",
    "version": 3
   },
   "file_extension": ".py",
   "mimetype": "text/x-python",
   "name": "python",
   "nbconvert_exporter": "python",
   "pygments_lexer": "ipython3",
   "version": "3.10.12"
  },
  "papermill": {
   "default_parameters": {},
   "duration": 116.638283,
   "end_time": "2025-07-30T14:05:18.437218",
   "environment_variables": {},
   "exception": null,
   "input_path": "universe_analysis.ipynb",
   "output_path": "output/runs/12/notebooks/m_12-45d2a3d0e4ff7c68b762e4b2d2b70fa5.ipynb",
   "parameters": {
    "output_dir": "output",
    "run_no": "12",
    "seed": "2023",
    "universe": "{\"cutoff\": [\"quantile_0.1\", \"quantile_0.25\"], \"eval_fairness_grouping\": [\"majority-minority\", \"nationality-all\"], \"exclude_features\": \"none\", \"exclude_subgroups\": \"drop-non-german\", \"model\": \"elasticnet\", \"scale\": \"do-not-scale\", \"training_size\": \"5k\", \"training_year\": \"2012_14\"}",
    "universe_id": "45d2a3d0e4ff7c68b762e4b2d2b70fa5"
   },
   "start_time": "2025-07-30T14:03:21.798935",
   "version": "2.6.0"
  }
 },
 "nbformat": 4,
 "nbformat_minor": 5
}