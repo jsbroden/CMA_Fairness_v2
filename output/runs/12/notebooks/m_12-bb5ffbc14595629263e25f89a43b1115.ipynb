{
 "cells": [
  {
   "cell_type": "code",
   "execution_count": 1,
   "id": "f159f837-637b-42ba-96b5-ec9a68c44524",
   "metadata": {
    "execution": {
     "iopub.execute_input": "2025-07-30T14:21:14.939978Z",
     "iopub.status.busy": "2025-07-30T14:21:14.938974Z",
     "iopub.status.idle": "2025-07-30T14:21:14.952411Z",
     "shell.execute_reply": "2025-07-30T14:21:14.951362Z"
    },
    "papermill": {
     "duration": 0.051621,
     "end_time": "2025-07-30T14:21:14.954217",
     "exception": false,
     "start_time": "2025-07-30T14:21:14.902596",
     "status": "completed"
    },
    "tags": []
   },
   "outputs": [
    {
     "name": "stdout",
     "output_type": "stream",
     "text": [
      "/dss/dsshome1/0C/ra93lal2/cma/CMA_Fairness_v2\n"
     ]
    },
    {
     "name": "stderr",
     "output_type": "stream",
     "text": [
      "/dss/dsshome1/0C/ra93lal2/.local/share/virtualenvs/CMA_Fairness_v2-3j10GkSs/lib/python3.10/site-packages/IPython/core/magics/osm.py:393: UserWarning: This is now an optional IPython functionality, using bookmarks requires you to install the `pickleshare` library.\n",
      "  bkms = self.shell.db.get('bookmarks', {})\n",
      "/dss/dsshome1/0C/ra93lal2/.local/share/virtualenvs/CMA_Fairness_v2-3j10GkSs/lib/python3.10/site-packages/IPython/core/magics/osm.py:417: UserWarning: This is now an optional IPython functionality, setting dhist requires you to install the `pickleshare` library.\n",
      "  self.shell.db['dhist'] = compress_dhist(dhist)[-100:]\n"
     ]
    }
   ],
   "source": [
    "%cd ~/cma/CMA_Fairness_v2"
   ]
  },
  {
   "cell_type": "markdown",
   "id": "de2603b9",
   "metadata": {
    "papermill": {
     "duration": 0.012559,
     "end_time": "2025-07-30T14:21:14.985611",
     "exception": false,
     "start_time": "2025-07-30T14:21:14.973052",
     "status": "completed"
    },
    "tags": []
   },
   "source": [
    "The following cell holds the definition of our parameters, these values can be overriden by rendering the with e.g. the following command:\n",
    "\n",
    "papermill -p alpha 0.2 -p ratio 0.3 universe_analysis.ipynb output/test_run.ipynb"
   ]
  },
  {
   "cell_type": "code",
   "execution_count": 2,
   "id": "a80968a0-40bb-4fa9-85ef-2d5eefb01975",
   "metadata": {
    "execution": {
     "iopub.execute_input": "2025-07-30T14:21:15.027226Z",
     "iopub.status.busy": "2025-07-30T14:21:15.026743Z",
     "iopub.status.idle": "2025-07-30T14:21:15.034415Z",
     "shell.execute_reply": "2025-07-30T14:21:15.033684Z"
    },
    "papermill": {
     "duration": 0.030121,
     "end_time": "2025-07-30T14:21:15.035535",
     "exception": false,
     "start_time": "2025-07-30T14:21:15.005414",
     "status": "completed"
    },
    "tags": []
   },
   "outputs": [
    {
     "name": "stdout",
     "output_type": "stream",
     "text": [
      "Current working directory: /dss/dsshome1/0C/ra93lal2/cma/CMA_Fairness_v2\n"
     ]
    }
   ],
   "source": [
    "import os\n",
    "print(\"Current working directory:\", os.getcwd())"
   ]
  },
  {
   "cell_type": "code",
   "execution_count": 3,
   "id": "2dce4c03",
   "metadata": {
    "execution": {
     "iopub.execute_input": "2025-07-30T14:21:15.057702Z",
     "iopub.status.busy": "2025-07-30T14:21:15.057359Z",
     "iopub.status.idle": "2025-07-30T14:21:15.125636Z",
     "shell.execute_reply": "2025-07-30T14:21:15.124705Z"
    },
    "papermill": {
     "duration": 0.080972,
     "end_time": "2025-07-30T14:21:15.127042",
     "exception": false,
     "start_time": "2025-07-30T14:21:15.046070",
     "status": "completed"
    },
    "tags": [
     "parameters"
    ]
   },
   "outputs": [],
   "source": [
    "run_no = 0\n",
    "universe_id = \"test\"\n",
    "universe = {\n",
    "    \"training_size\": \"25k\", # \"25k\", \"5k\", \"1k\"\n",
    "    \"training_year\": \"2014\", # \"2014\", \"2012_14\", \"2010_14\"\n",
    "    \"scale\": \"scale\", # \"scale\", \"do-not-scale\",\n",
    "    #\"stratify_split\": \"target\", # \"none\", \"target\", \"protected-attribute\", \"both\",\n",
    "    \"model\": \"elasticnet\", # \"logreg\", \"penalized_logreg\", \"rf\", \"gbm\", \"elasticnet\"\n",
    "    \"cutoff\": [\"quantile_0.15\", \"quantile_0.30\"],\n",
    "    \"exclude_features\": \"age\", # \"none\", \"nationality\", \"sex\", \"nationality-sex\", \"age\"\n",
    "    \"exclude_subgroups\": \"keep-all\", # \"keep-all\", \"drop-non-german\"\n",
    "    \"eval_fairness_grouping\": [\"majority-minority\", \"nationality-all\"]\n",
    "}\n",
    "\n",
    "output_dir=\"./output\"\n",
    "seed=0"
   ]
  },
  {
   "cell_type": "code",
   "execution_count": 4,
   "id": "53699f98",
   "metadata": {
    "execution": {
     "iopub.execute_input": "2025-07-30T14:21:15.153735Z",
     "iopub.status.busy": "2025-07-30T14:21:15.153320Z",
     "iopub.status.idle": "2025-07-30T14:21:15.158857Z",
     "shell.execute_reply": "2025-07-30T14:21:15.157872Z"
    },
    "papermill": {
     "duration": 0.023452,
     "end_time": "2025-07-30T14:21:15.162208",
     "exception": false,
     "start_time": "2025-07-30T14:21:15.138756",
     "status": "completed"
    },
    "tags": [
     "injected-parameters"
    ]
   },
   "outputs": [],
   "source": [
    "# Parameters\n",
    "universe_id = \"bb5ffbc14595629263e25f89a43b1115\"\n",
    "run_no = \"12\"\n",
    "universe = \"{\\\"cutoff\\\": [\\\"quantile_0.1\\\", \\\"quantile_0.25\\\"], \\\"eval_fairness_grouping\\\": [\\\"majority-minority\\\", \\\"nationality-all\\\"], \\\"exclude_features\\\": \\\"sex\\\", \\\"exclude_subgroups\\\": \\\"keep-all\\\", \\\"model\\\": \\\"rf\\\", \\\"scale\\\": \\\"scale\\\", \\\"training_size\\\": \\\"1k\\\", \\\"training_year\\\": \\\"2014\\\"}\"\n",
    "output_dir = \"output\"\n",
    "seed = \"2023\"\n"
   ]
  },
  {
   "cell_type": "code",
   "execution_count": 5,
   "id": "1650acaf",
   "metadata": {
    "execution": {
     "iopub.execute_input": "2025-07-30T14:21:15.204993Z",
     "iopub.status.busy": "2025-07-30T14:21:15.204265Z",
     "iopub.status.idle": "2025-07-30T14:21:15.209122Z",
     "shell.execute_reply": "2025-07-30T14:21:15.208270Z"
    },
    "papermill": {
     "duration": 0.027155,
     "end_time": "2025-07-30T14:21:15.210717",
     "exception": false,
     "start_time": "2025-07-30T14:21:15.183562",
     "status": "completed"
    },
    "tags": []
   },
   "outputs": [],
   "source": [
    "import json\n",
    "# Parse universe into dict if it is passed as a string\n",
    "if isinstance(universe, str):\n",
    "    universe = json.loads(universe)"
   ]
  },
  {
   "cell_type": "code",
   "execution_count": 6,
   "id": "16620c48",
   "metadata": {
    "execution": {
     "iopub.execute_input": "2025-07-30T14:21:15.256027Z",
     "iopub.status.busy": "2025-07-30T14:21:15.255706Z",
     "iopub.status.idle": "2025-07-30T14:21:15.484099Z",
     "shell.execute_reply": "2025-07-30T14:21:15.483397Z"
    },
    "papermill": {
     "duration": 0.253271,
     "end_time": "2025-07-30T14:21:15.485447",
     "exception": false,
     "start_time": "2025-07-30T14:21:15.232176",
     "status": "completed"
    },
    "tags": []
   },
   "outputs": [],
   "source": [
    "# Auto-reload the custom package\n",
    "%load_ext autoreload\n",
    "%autoreload 1\n",
    "%aimport fairness_multiverse"
   ]
  },
  {
   "cell_type": "code",
   "execution_count": 7,
   "id": "01c5c9f3",
   "metadata": {
    "execution": {
     "iopub.execute_input": "2025-07-30T14:21:15.507794Z",
     "iopub.status.busy": "2025-07-30T14:21:15.507108Z",
     "iopub.status.idle": "2025-07-30T14:21:17.272504Z",
     "shell.execute_reply": "2025-07-30T14:21:17.271708Z"
    },
    "papermill": {
     "duration": 1.777712,
     "end_time": "2025-07-30T14:21:17.273931",
     "exception": false,
     "start_time": "2025-07-30T14:21:15.496219",
     "status": "completed"
    },
    "tags": []
   },
   "outputs": [],
   "source": [
    "from fairness_multiverse.universe import UniverseAnalysis\n",
    "\n",
    "universe_analysis = UniverseAnalysis(\n",
    "    run_no = run_no,\n",
    "    universe_id = universe_id,\n",
    "    universe = universe,\n",
    "    output_dir=output_dir,\n",
    ")"
   ]
  },
  {
   "cell_type": "code",
   "execution_count": 8,
   "id": "106241f5",
   "metadata": {
    "execution": {
     "iopub.execute_input": "2025-07-30T14:21:17.297870Z",
     "iopub.status.busy": "2025-07-30T14:21:17.297408Z",
     "iopub.status.idle": "2025-07-30T14:21:17.303644Z",
     "shell.execute_reply": "2025-07-30T14:21:17.302843Z"
    },
    "papermill": {
     "duration": 0.020141,
     "end_time": "2025-07-30T14:21:17.304948",
     "exception": false,
     "start_time": "2025-07-30T14:21:17.284807",
     "status": "completed"
    },
    "tags": []
   },
   "outputs": [
    {
     "name": "stdout",
     "output_type": "stream",
     "text": [
      "Using Seed: 2023\n"
     ]
    }
   ],
   "source": [
    "import numpy as np\n",
    "parsed_seed = int(seed)\n",
    "np.random.seed(parsed_seed)\n",
    "print(f\"Using Seed: {parsed_seed}\")"
   ]
  },
  {
   "cell_type": "markdown",
   "id": "e0ebdc57",
   "metadata": {
    "papermill": {
     "duration": 0.009983,
     "end_time": "2025-07-30T14:21:17.326530",
     "exception": false,
     "start_time": "2025-07-30T14:21:17.316547",
     "status": "completed"
    },
    "tags": []
   },
   "source": [
    "# Loading Data"
   ]
  },
  {
   "cell_type": "markdown",
   "id": "681925a3",
   "metadata": {
    "papermill": {
     "duration": 0.012506,
     "end_time": "2025-07-30T14:21:17.349260",
     "exception": false,
     "start_time": "2025-07-30T14:21:17.336754",
     "status": "completed"
    },
    "tags": []
   },
   "source": [
    "Load siab_train, siab_test, siab_calib and/or \n",
    "load siab_train_features, siab_train_labels"
   ]
  },
  {
   "cell_type": "code",
   "execution_count": 9,
   "id": "f0496b8a",
   "metadata": {
    "execution": {
     "iopub.execute_input": "2025-07-30T14:21:17.371053Z",
     "iopub.status.busy": "2025-07-30T14:21:17.370494Z",
     "iopub.status.idle": "2025-07-30T14:21:27.191221Z",
     "shell.execute_reply": "2025-07-30T14:21:27.190365Z"
    },
    "papermill": {
     "duration": 9.833093,
     "end_time": "2025-07-30T14:21:27.192568",
     "exception": false,
     "start_time": "2025-07-30T14:21:17.359475",
     "status": "completed"
    },
    "tags": []
   },
   "outputs": [
    {
     "name": "stdout",
     "output_type": "stream",
     "text": [
      "Loading SIAB data from cache: data/siab_cached.csv.gz\n"
     ]
    },
    {
     "name": "stdout",
     "output_type": "stream",
     "text": [
      "(643690, 164)\n"
     ]
    }
   ],
   "source": [
    "from pathlib import Path\n",
    "import pandas as pd\n",
    "\n",
    "# File paths\n",
    "raw_file = Path(\"data/raw/siab.csv\")\n",
    "cache_file = Path(\"data/siab_cached.csv.gz\")\n",
    "\n",
    "# Ensure cache directory exists\n",
    "cache_file.parent.mkdir(parents=True, exist_ok=True)\n",
    "\n",
    "# Load with simple caching\n",
    "if cache_file.exists():\n",
    "    print(f\"Loading SIAB data from cache: {cache_file}\")\n",
    "    siab = pd.read_csv(cache_file, compression='gzip')\n",
    "else:\n",
    "    print(f\"Cache not found. Reading raw SIAB data: {raw_file}\")\n",
    "    siab = pd.read_csv(raw_file)\n",
    "    siab.to_csv(cache_file, index=False, compression='gzip')\n",
    "    print(f\"Cached SIAB data to: {cache_file}\")\n",
    "\n",
    "# Now use `siab` DataFrame as needed\n",
    "print(siab.shape)"
   ]
  },
  {
   "cell_type": "code",
   "execution_count": 10,
   "id": "db0ca512-5f53-4dba-abdb-a2888bca41ba",
   "metadata": {
    "execution": {
     "iopub.execute_input": "2025-07-30T14:21:27.218213Z",
     "iopub.status.busy": "2025-07-30T14:21:27.217664Z",
     "iopub.status.idle": "2025-07-30T14:21:27.222462Z",
     "shell.execute_reply": "2025-07-30T14:21:27.221798Z"
    },
    "papermill": {
     "duration": 0.018238,
     "end_time": "2025-07-30T14:21:27.223969",
     "exception": false,
     "start_time": "2025-07-30T14:21:27.205731",
     "status": "completed"
    },
    "tags": []
   },
   "outputs": [],
   "source": [
    "#siab"
   ]
  },
  {
   "cell_type": "code",
   "execution_count": 11,
   "id": "a0edb063",
   "metadata": {
    "execution": {
     "iopub.execute_input": "2025-07-30T14:21:27.267919Z",
     "iopub.status.busy": "2025-07-30T14:21:27.267450Z",
     "iopub.status.idle": "2025-07-30T14:21:27.272743Z",
     "shell.execute_reply": "2025-07-30T14:21:27.271849Z"
    },
    "papermill": {
     "duration": 0.029639,
     "end_time": "2025-07-30T14:21:27.274307",
     "exception": false,
     "start_time": "2025-07-30T14:21:27.244668",
     "status": "completed"
    },
    "tags": []
   },
   "outputs": [],
   "source": [
    "#import pandas as pd\n",
    "#\n",
    "#X_train = pd.read_csv(\"./data/X_train.csv\")\n",
    "#y_train = pd.read_csv(\"./data/y_train.csv\")"
   ]
  },
  {
   "cell_type": "code",
   "execution_count": 12,
   "id": "63d08085",
   "metadata": {
    "execution": {
     "iopub.execute_input": "2025-07-30T14:21:27.320957Z",
     "iopub.status.busy": "2025-07-30T14:21:27.320492Z",
     "iopub.status.idle": "2025-07-30T14:21:27.325633Z",
     "shell.execute_reply": "2025-07-30T14:21:27.324596Z"
    },
    "papermill": {
     "duration": 0.029965,
     "end_time": "2025-07-30T14:21:27.327382",
     "exception": false,
     "start_time": "2025-07-30T14:21:27.297417",
     "status": "completed"
    },
    "tags": []
   },
   "outputs": [],
   "source": [
    "#X_test = pd.read_csv(\"./data/X_test.csv\")\n",
    "#y_true = pd.read_csv(\"./data/y_test.csv\")"
   ]
  },
  {
   "cell_type": "code",
   "execution_count": 13,
   "id": "98a8d0fa-1d3d-4ed8-bb2c-281470e24add",
   "metadata": {
    "execution": {
     "iopub.execute_input": "2025-07-30T14:21:27.373355Z",
     "iopub.status.busy": "2025-07-30T14:21:27.372970Z",
     "iopub.status.idle": "2025-07-30T14:21:27.377904Z",
     "shell.execute_reply": "2025-07-30T14:21:27.376929Z"
    },
    "papermill": {
     "duration": 0.029887,
     "end_time": "2025-07-30T14:21:27.380074",
     "exception": false,
     "start_time": "2025-07-30T14:21:27.350187",
     "status": "completed"
    },
    "tags": []
   },
   "outputs": [],
   "source": [
    "# Calibration data for conformal\n",
    "#X_calib = pd.read_csv(\"./data/X_calib.csv\")\n",
    "#y_calib = pd.read_csv(\"./data/y_calib.csv\")"
   ]
  },
  {
   "cell_type": "markdown",
   "id": "997051c5-15bd-4b69-9786-c3001a3ce484",
   "metadata": {
    "papermill": {
     "duration": 0.021543,
     "end_time": "2025-07-30T14:21:27.425545",
     "exception": false,
     "start_time": "2025-07-30T14:21:27.404002",
     "status": "completed"
    },
    "tags": []
   },
   "source": [
    "# Splitting Data and Setting Training Data Size"
   ]
  },
  {
   "cell_type": "code",
   "execution_count": 14,
   "id": "e993b61f-042d-41a6-8c81-f55681f86335",
   "metadata": {
    "execution": {
     "iopub.execute_input": "2025-07-30T14:21:27.468324Z",
     "iopub.status.busy": "2025-07-30T14:21:27.467805Z",
     "iopub.status.idle": "2025-07-30T14:21:27.481276Z",
     "shell.execute_reply": "2025-07-30T14:21:27.480138Z"
    },
    "papermill": {
     "duration": 0.036794,
     "end_time": "2025-07-30T14:21:27.483028",
     "exception": false,
     "start_time": "2025-07-30T14:21:27.446234",
     "status": "completed"
    },
    "tags": []
   },
   "outputs": [],
   "source": [
    "def sample_by_year_size(df,\n",
    "                        training_year: str,\n",
    "                        training_size: str,\n",
    "                        random_state: int = 42):\n",
    "    # --- parse training_year into a list of int years ---\n",
    "    if \"_\" in training_year:\n",
    "        start_str, end_str = training_year.split(\"_\", 1)\n",
    "        start = int(start_str)\n",
    "        end   = int(end_str) if len(end_str) == 4 else (int(end_str) + (start // 100)*100)\n",
    "        years = list(range(start, end + 1))\n",
    "    else:\n",
    "        years = [int(training_year)]\n",
    "\n",
    "    df = df[df[\"year\"].isin(years)].reset_index(drop=True)\n",
    "\n",
    "    # --- map training_size to total number of samples ---\n",
    "    total_map = {\"25k\": 25_000, \"5k\": 5_000, \"1k\": 1_000}\n",
    "    if training_size not in total_map:\n",
    "        return df  # e.g. \"all\"\n",
    "\n",
    "    total_samples = total_map[training_size]\n",
    "    n_years       = len(years)\n",
    "    base          = total_samples // n_years\n",
    "    remainder     = total_samples % n_years\n",
    "\n",
    "    # --- build a dict: year -> how many to sample ---\n",
    "    # give +1 to the first `remainder` years in ascending order\n",
    "    quotas = {\n",
    "        year: base + (1 if idx < remainder else 0)\n",
    "        for idx, year in enumerate(sorted(years))\n",
    "    }\n",
    "\n",
    "    # --- sample per‐year according to the quota dict ---\n",
    "    sampled = (\n",
    "        df\n",
    "        .groupby(\"year\", group_keys=False)\n",
    "        .apply(lambda grp: grp.sample(\n",
    "            n=min(len(grp), quotas[grp.name]),\n",
    "            random_state=random_state))\n",
    "        .reset_index(drop=True)\n",
    "    )\n",
    "\n",
    "    return sampled"
   ]
  },
  {
   "cell_type": "code",
   "execution_count": 15,
   "id": "c0ccd338-0e02-41f3-a09d-f56f9266e3fb",
   "metadata": {
    "execution": {
     "iopub.execute_input": "2025-07-30T14:21:27.529051Z",
     "iopub.status.busy": "2025-07-30T14:21:27.528610Z",
     "iopub.status.idle": "2025-07-30T14:21:27.540330Z",
     "shell.execute_reply": "2025-07-30T14:21:27.539275Z"
    },
    "papermill": {
     "duration": 0.036882,
     "end_time": "2025-07-30T14:21:27.542069",
     "exception": false,
     "start_time": "2025-07-30T14:21:27.505187",
     "status": "completed"
    },
    "tags": []
   },
   "outputs": [
    {
     "data": {
      "text/plain": [
       "'1k'"
      ]
     },
     "execution_count": 15,
     "metadata": {},
     "output_type": "execute_result"
    }
   ],
   "source": [
    "universe[\"training_size\"]"
   ]
  },
  {
   "cell_type": "code",
   "execution_count": 16,
   "id": "ca707fd7-8047-4acd-bfa5-66248fbbf8e6",
   "metadata": {
    "execution": {
     "iopub.execute_input": "2025-07-30T14:21:27.588984Z",
     "iopub.status.busy": "2025-07-30T14:21:27.588362Z",
     "iopub.status.idle": "2025-07-30T14:21:27.595874Z",
     "shell.execute_reply": "2025-07-30T14:21:27.594920Z"
    },
    "papermill": {
     "duration": 0.032603,
     "end_time": "2025-07-30T14:21:27.597689",
     "exception": false,
     "start_time": "2025-07-30T14:21:27.565086",
     "status": "completed"
    },
    "tags": []
   },
   "outputs": [
    {
     "data": {
      "text/plain": [
       "'2014'"
      ]
     },
     "execution_count": 16,
     "metadata": {},
     "output_type": "execute_result"
    }
   ],
   "source": [
    "universe[\"training_year\"]"
   ]
  },
  {
   "cell_type": "code",
   "execution_count": 17,
   "id": "aea9c6ef-6f46-42c8-85eb-5a62025c1508",
   "metadata": {
    "execution": {
     "iopub.execute_input": "2025-07-30T14:21:27.646151Z",
     "iopub.status.busy": "2025-07-30T14:21:27.645620Z",
     "iopub.status.idle": "2025-07-30T14:21:27.867649Z",
     "shell.execute_reply": "2025-07-30T14:21:27.866707Z"
    },
    "papermill": {
     "duration": 0.247735,
     "end_time": "2025-07-30T14:21:27.869268",
     "exception": false,
     "start_time": "2025-07-30T14:21:27.621533",
     "status": "completed"
    },
    "tags": []
   },
   "outputs": [],
   "source": [
    "siab_train = sample_by_year_size(siab,\n",
    "                               training_year=universe[\"training_year\"],\n",
    "                               training_size=universe[\"training_size\"])"
   ]
  },
  {
   "cell_type": "code",
   "execution_count": 18,
   "id": "8d3afb32-789d-442c-8d5d-9f5aa8dd2eed",
   "metadata": {
    "execution": {
     "iopub.execute_input": "2025-07-30T14:21:27.912259Z",
     "iopub.status.busy": "2025-07-30T14:21:27.911821Z",
     "iopub.status.idle": "2025-07-30T14:21:27.919840Z",
     "shell.execute_reply": "2025-07-30T14:21:27.918731Z"
    },
    "papermill": {
     "duration": 0.031655,
     "end_time": "2025-07-30T14:21:27.921606",
     "exception": false,
     "start_time": "2025-07-30T14:21:27.889951",
     "status": "completed"
    },
    "tags": []
   },
   "outputs": [
    {
     "data": {
      "text/plain": [
       "(1000, 164)"
      ]
     },
     "execution_count": 18,
     "metadata": {},
     "output_type": "execute_result"
    }
   ],
   "source": [
    "siab_train.shape"
   ]
  },
  {
   "cell_type": "code",
   "execution_count": 19,
   "id": "d582db68-1a4c-47fb-84fc-08518dc1975a",
   "metadata": {
    "execution": {
     "iopub.execute_input": "2025-07-30T14:21:27.985162Z",
     "iopub.status.busy": "2025-07-30T14:21:27.984683Z",
     "iopub.status.idle": "2025-07-30T14:21:27.995946Z",
     "shell.execute_reply": "2025-07-30T14:21:27.994036Z"
    },
    "papermill": {
     "duration": 0.037541,
     "end_time": "2025-07-30T14:21:27.998630",
     "exception": false,
     "start_time": "2025-07-30T14:21:27.961089",
     "status": "completed"
    },
    "tags": []
   },
   "outputs": [
    {
     "data": {
      "text/plain": [
       "year\n",
       "2014    1000\n",
       "dtype: int64"
      ]
     },
     "metadata": {},
     "output_type": "display_data"
    }
   ],
   "source": [
    "display(siab_train.groupby(\"year\").size())"
   ]
  },
  {
   "cell_type": "code",
   "execution_count": 20,
   "id": "a561edb4-d032-42cb-8256-22eac1111c64",
   "metadata": {
    "execution": {
     "iopub.execute_input": "2025-07-30T14:21:28.046679Z",
     "iopub.status.busy": "2025-07-30T14:21:28.046271Z",
     "iopub.status.idle": "2025-07-30T14:21:28.291332Z",
     "shell.execute_reply": "2025-07-30T14:21:28.290421Z"
    },
    "papermill": {
     "duration": 0.271418,
     "end_time": "2025-07-30T14:21:28.293270",
     "exception": false,
     "start_time": "2025-07-30T14:21:28.021852",
     "status": "completed"
    },
    "tags": []
   },
   "outputs": [],
   "source": [
    "#siab_train = siab_s[siab_s.year < 2015]\n",
    "siab_calib = siab[siab.year == 2015]\n",
    "siab_test = siab[siab.year == 2016]"
   ]
  },
  {
   "cell_type": "code",
   "execution_count": 21,
   "id": "472de16f-c3db-4916-846b-1f0de9cf1746",
   "metadata": {
    "execution": {
     "iopub.execute_input": "2025-07-30T14:21:28.342275Z",
     "iopub.status.busy": "2025-07-30T14:21:28.341793Z",
     "iopub.status.idle": "2025-07-30T14:21:28.349076Z",
     "shell.execute_reply": "2025-07-30T14:21:28.347936Z"
    },
    "papermill": {
     "duration": 0.033677,
     "end_time": "2025-07-30T14:21:28.350831",
     "exception": false,
     "start_time": "2025-07-30T14:21:28.317154",
     "status": "completed"
    },
    "tags": []
   },
   "outputs": [],
   "source": [
    "X_train = siab_train.iloc[:,4:164]\n",
    "y_train = siab_train.iloc[:, [3]]"
   ]
  },
  {
   "cell_type": "code",
   "execution_count": 22,
   "id": "828c96af-f43a-4ed6-ba47-8ac73a47d56c",
   "metadata": {
    "execution": {
     "iopub.execute_input": "2025-07-30T14:21:28.399485Z",
     "iopub.status.busy": "2025-07-30T14:21:28.399008Z",
     "iopub.status.idle": "2025-07-30T14:21:28.453932Z",
     "shell.execute_reply": "2025-07-30T14:21:28.453007Z"
    },
    "papermill": {
     "duration": 0.092861,
     "end_time": "2025-07-30T14:21:28.467733",
     "exception": false,
     "start_time": "2025-07-30T14:21:28.374872",
     "status": "completed"
    },
    "tags": []
   },
   "outputs": [],
   "source": [
    "X_calib = siab_calib.iloc[:,4:164]\n",
    "y_calib = siab_calib.iloc[:, [3]]"
   ]
  },
  {
   "cell_type": "code",
   "execution_count": 23,
   "id": "c34be9c3-6bd6-476e-acd3-845840e303be",
   "metadata": {
    "execution": {
     "iopub.execute_input": "2025-07-30T14:21:28.518142Z",
     "iopub.status.busy": "2025-07-30T14:21:28.517654Z",
     "iopub.status.idle": "2025-07-30T14:21:28.572061Z",
     "shell.execute_reply": "2025-07-30T14:21:28.570779Z"
    },
    "papermill": {
     "duration": 0.081528,
     "end_time": "2025-07-30T14:21:28.574093",
     "exception": false,
     "start_time": "2025-07-30T14:21:28.492565",
     "status": "completed"
    },
    "tags": []
   },
   "outputs": [],
   "source": [
    "X_test = siab_test.iloc[:,4:164]\n",
    "y_true = siab_test.iloc[:, [3]]"
   ]
  },
  {
   "cell_type": "markdown",
   "id": "9901737e-04df-44f0-9100-f5ad144ed040",
   "metadata": {
    "papermill": {
     "duration": 0.022206,
     "end_time": "2025-07-30T14:21:28.620619",
     "exception": false,
     "start_time": "2025-07-30T14:21:28.598413",
     "status": "completed"
    },
    "tags": []
   },
   "source": [
    "# Splitting Data and Setting Training Data Size OLD VERSION"
   ]
  },
  {
   "cell_type": "code",
   "execution_count": 24,
   "id": "acbc8f7d-8fc8-4e86-8c59-5dcb0f58384b",
   "metadata": {
    "execution": {
     "iopub.execute_input": "2025-07-30T14:21:28.669577Z",
     "iopub.status.busy": "2025-07-30T14:21:28.668433Z",
     "iopub.status.idle": "2025-07-30T14:21:28.674427Z",
     "shell.execute_reply": "2025-07-30T14:21:28.673155Z"
    },
    "papermill": {
     "duration": 0.031841,
     "end_time": "2025-07-30T14:21:28.675973",
     "exception": false,
     "start_time": "2025-07-30T14:21:28.644132",
     "status": "completed"
    },
    "tags": []
   },
   "outputs": [],
   "source": [
    "#def sample_by_year(df, training_size, random_state=42):\n",
    "#    if training_size == \"2014\":\n",
    "#        return df[df[\"year\"] == 2014].reset_index(drop=True)\n",
    "#    \n",
    "#    size_map = {\n",
    "#        \"25k\": 5000,\n",
    "#        \"5k\": 1000,\n",
    "#        \"1k\": 200\n",
    "#    }\n",
    "#\n",
    "#    if training_size not in size_map:\n",
    "#        return df.reset_index(drop=True)  # use all data\n",
    "#\n",
    "#    n_per_year = size_map[training_size]\n",
    "#    grouped = df.groupby(\"year\")\n",
    "#    sampled = grouped.apply(lambda x: x.sample(n=min(n_per_year, len(x)), random_state=random_state))\n",
    "#    return sampled.reset_index(drop=True)"
   ]
  },
  {
   "cell_type": "code",
   "execution_count": 25,
   "id": "6d931f52-beaf-43ff-9e78-9d44a448d54e",
   "metadata": {
    "execution": {
     "iopub.execute_input": "2025-07-30T14:21:28.725302Z",
     "iopub.status.busy": "2025-07-30T14:21:28.724571Z",
     "iopub.status.idle": "2025-07-30T14:21:28.729780Z",
     "shell.execute_reply": "2025-07-30T14:21:28.728862Z"
    },
    "papermill": {
     "duration": 0.031353,
     "end_time": "2025-07-30T14:21:28.731419",
     "exception": false,
     "start_time": "2025-07-30T14:21:28.700066",
     "status": "completed"
    },
    "tags": []
   },
   "outputs": [],
   "source": [
    "#siab_s = sample_by_year(siab, universe[\"training_size\"])"
   ]
  },
  {
   "cell_type": "code",
   "execution_count": 26,
   "id": "5db0a40e-a4e2-4920-be85-b12ae061d70d",
   "metadata": {
    "execution": {
     "iopub.execute_input": "2025-07-30T14:21:28.781622Z",
     "iopub.status.busy": "2025-07-30T14:21:28.780786Z",
     "iopub.status.idle": "2025-07-30T14:21:28.786654Z",
     "shell.execute_reply": "2025-07-30T14:21:28.785674Z"
    },
    "papermill": {
     "duration": 0.033743,
     "end_time": "2025-07-30T14:21:28.788741",
     "exception": false,
     "start_time": "2025-07-30T14:21:28.754998",
     "status": "completed"
    },
    "tags": []
   },
   "outputs": [],
   "source": [
    "#display(siab_s.groupby(\"year\").size())"
   ]
  },
  {
   "cell_type": "code",
   "execution_count": 27,
   "id": "e6c733c5",
   "metadata": {
    "execution": {
     "iopub.execute_input": "2025-07-30T14:21:28.838282Z",
     "iopub.status.busy": "2025-07-30T14:21:28.837484Z",
     "iopub.status.idle": "2025-07-30T14:21:28.937639Z",
     "shell.execute_reply": "2025-07-30T14:21:28.936322Z"
    },
    "papermill": {
     "duration": 0.125924,
     "end_time": "2025-07-30T14:21:28.939514",
     "exception": false,
     "start_time": "2025-07-30T14:21:28.813590",
     "status": "completed"
    },
    "tags": []
   },
   "outputs": [],
   "source": [
    "# Auxiliary data needed downstream in the pipeline\n",
    "\n",
    "org_train = X_train.copy()\n",
    "org_test = X_test.copy()\n",
    "org_calib = X_calib.copy()"
   ]
  },
  {
   "cell_type": "code",
   "execution_count": 28,
   "id": "1466abac-c6da-4492-a62f-4240ae3783af",
   "metadata": {
    "execution": {
     "iopub.execute_input": "2025-07-30T14:21:28.987745Z",
     "iopub.status.busy": "2025-07-30T14:21:28.987311Z",
     "iopub.status.idle": "2025-07-30T14:21:28.994418Z",
     "shell.execute_reply": "2025-07-30T14:21:28.993470Z"
    },
    "papermill": {
     "duration": 0.032497,
     "end_time": "2025-07-30T14:21:28.996118",
     "exception": false,
     "start_time": "2025-07-30T14:21:28.963621",
     "status": "completed"
    },
    "tags": []
   },
   "outputs": [],
   "source": [
    "# put in other script?\n",
    "# Group sizes\n",
    "\n",
    "#def calculate_percentages(df, df_name):\n",
    "#    total_entries = len(df)\n",
    "#\n",
    "#    female_pct = (df['frau1'] == 1).mean() * 100\n",
    "#    non_german_pct = ((df['maxdeutsch1'] == 0) & (df['maxdeutsch.Missing.'] == 0)).mean() * 100\n",
    "#    non_german_male_pct = ((df['frau1'] == 0) & (df['maxdeutsch1'] == 0) & (df['maxdeutsch.Missing.'] == 0)).mean() * 100\n",
    "#    non_german_female_pct = ((df['frau1'] == 1) & (df['maxdeutsch1'] == 0) & (df['maxdeutsch.Missing.'] == 0)).mean() * 100\n",
    "#\n",
    "#    print(f\"--- {df_name} ---\")\n",
    "#    print(f\"Female: {female_pct:.2f}%\")\n",
    "#    print(f\"Non-German: {non_german_pct:.2f}%\")\n",
    "#    print(f\"Non-German Male: {non_german_male_pct:.2f}%\")\n",
    "#    print(f\"Non-German Female: {non_german_female_pct:.2f}%\\n\")\n",
    "#\n",
    "## Calculate for each DataFrame\n",
    "#calculate_percentages(siab_calib, \"siab_calib\")\n",
    "#calculate_percentages(siab_test, \"siab_test\")\n",
    "#calculate_percentages(siab_train, \"siab_train\")"
   ]
  },
  {
   "cell_type": "markdown",
   "id": "0a4a1b33",
   "metadata": {
    "papermill": {
     "duration": 0.024578,
     "end_time": "2025-07-30T14:21:29.042985",
     "exception": false,
     "start_time": "2025-07-30T14:21:29.018407",
     "status": "completed"
    },
    "tags": []
   },
   "source": [
    "# Preprocessing Data"
   ]
  },
  {
   "cell_type": "code",
   "execution_count": 29,
   "id": "ca879031",
   "metadata": {
    "execution": {
     "iopub.execute_input": "2025-07-30T14:21:29.089544Z",
     "iopub.status.busy": "2025-07-30T14:21:29.089024Z",
     "iopub.status.idle": "2025-07-30T14:21:29.095241Z",
     "shell.execute_reply": "2025-07-30T14:21:29.094194Z"
    },
    "papermill": {
     "duration": 0.031033,
     "end_time": "2025-07-30T14:21:29.096992",
     "exception": false,
     "start_time": "2025-07-30T14:21:29.065959",
     "status": "completed"
    },
    "tags": []
   },
   "outputs": [],
   "source": [
    "# EXCLUDE PROTECTED FEATURES\n",
    "# ----------------------\n",
    "# \"exclude_features\": \"none\", # \"nationality\", \"sex\", \"nationality-sex\"\n",
    "\n",
    "excluded_features = universe[\"exclude_features\"].split(\"-\") # split, e.g.: \"nationality-sex\" -> [\"nationality\", \"sex\"]\n",
    "excluded_features_dictionary = {\n",
    "    \"nationality\": [\"maxdeutsch1\", \"maxdeutsch.Missing.\"],\n",
    "    \"sex\": [\"frau1\"],\n",
    "    \"age\": [\"age\"],\n",
    "}\n"
   ]
  },
  {
   "cell_type": "code",
   "execution_count": 30,
   "id": "b745ac60",
   "metadata": {
    "execution": {
     "iopub.execute_input": "2025-07-30T14:21:29.142357Z",
     "iopub.status.busy": "2025-07-30T14:21:29.141768Z",
     "iopub.status.idle": "2025-07-30T14:21:29.147533Z",
     "shell.execute_reply": "2025-07-30T14:21:29.146564Z"
    },
    "papermill": {
     "duration": 0.030453,
     "end_time": "2025-07-30T14:21:29.149480",
     "exception": false,
     "start_time": "2025-07-30T14:21:29.119027",
     "status": "completed"
    },
    "tags": []
   },
   "outputs": [],
   "source": [
    "# Code nice names to column names\n",
    "\n",
    "excluded_features_columns = [\n",
    "    excluded_features_dictionary[f] for f in excluded_features if len(f) > 0 and f != \"none\"\n",
    "]"
   ]
  },
  {
   "cell_type": "code",
   "execution_count": 31,
   "id": "f84f73a2",
   "metadata": {
    "execution": {
     "iopub.execute_input": "2025-07-30T14:21:29.193580Z",
     "iopub.status.busy": "2025-07-30T14:21:29.193095Z",
     "iopub.status.idle": "2025-07-30T14:21:29.199581Z",
     "shell.execute_reply": "2025-07-30T14:21:29.198631Z"
    },
    "papermill": {
     "duration": 0.029816,
     "end_time": "2025-07-30T14:21:29.201159",
     "exception": false,
     "start_time": "2025-07-30T14:21:29.171343",
     "status": "completed"
    },
    "tags": []
   },
   "outputs": [],
   "source": [
    "from utils import flatten_once\n",
    "\n",
    "excluded_features_columns = flatten_once(excluded_features_columns)"
   ]
  },
  {
   "cell_type": "code",
   "execution_count": 32,
   "id": "884dea22",
   "metadata": {
    "execution": {
     "iopub.execute_input": "2025-07-30T14:21:29.251222Z",
     "iopub.status.busy": "2025-07-30T14:21:29.250388Z",
     "iopub.status.idle": "2025-07-30T14:21:29.258578Z",
     "shell.execute_reply": "2025-07-30T14:21:29.257322Z"
    },
    "papermill": {
     "duration": 0.03522,
     "end_time": "2025-07-30T14:21:29.260486",
     "exception": false,
     "start_time": "2025-07-30T14:21:29.225266",
     "status": "completed"
    },
    "tags": []
   },
   "outputs": [
    {
     "name": "stdout",
     "output_type": "stream",
     "text": [
      "Dropping features: ['frau1']\n"
     ]
    }
   ],
   "source": [
    "if len(excluded_features_columns) > 0:\n",
    "    print(f\"Dropping features: {excluded_features_columns}\")\n",
    "    X_train.drop(excluded_features_columns, axis=1, inplace=True)"
   ]
  },
  {
   "cell_type": "code",
   "execution_count": 33,
   "id": "95ab8b16",
   "metadata": {
    "execution": {
     "iopub.execute_input": "2025-07-30T14:21:29.308758Z",
     "iopub.status.busy": "2025-07-30T14:21:29.308340Z",
     "iopub.status.idle": "2025-07-30T14:21:29.365279Z",
     "shell.execute_reply": "2025-07-30T14:21:29.364267Z"
    },
    "papermill": {
     "duration": 0.08261,
     "end_time": "2025-07-30T14:21:29.367100",
     "exception": false,
     "start_time": "2025-07-30T14:21:29.284490",
     "status": "completed"
    },
    "tags": []
   },
   "outputs": [
    {
     "name": "stdout",
     "output_type": "stream",
     "text": [
      "Dropping features: ['frau1']\n"
     ]
    }
   ],
   "source": [
    "if len(excluded_features_columns) > 0:\n",
    "    print(f\"Dropping features: {excluded_features_columns}\")\n",
    "    X_test.drop(excluded_features_columns, axis=1, inplace=True)"
   ]
  },
  {
   "cell_type": "code",
   "execution_count": 34,
   "id": "1853aaf5-fb9f-46cb-a2b5-8ea4ae2237e4",
   "metadata": {
    "execution": {
     "iopub.execute_input": "2025-07-30T14:21:29.423484Z",
     "iopub.status.busy": "2025-07-30T14:21:29.422784Z",
     "iopub.status.idle": "2025-07-30T14:21:29.491495Z",
     "shell.execute_reply": "2025-07-30T14:21:29.490324Z"
    },
    "papermill": {
     "duration": 0.097566,
     "end_time": "2025-07-30T14:21:29.493339",
     "exception": false,
     "start_time": "2025-07-30T14:21:29.395773",
     "status": "completed"
    },
    "tags": []
   },
   "outputs": [
    {
     "name": "stdout",
     "output_type": "stream",
     "text": [
      "Dropping features: ['frau1']\n"
     ]
    }
   ],
   "source": [
    "if len(excluded_features_columns) > 0:\n",
    "    print(f\"Dropping features: {excluded_features_columns}\")\n",
    "    X_calib.drop(excluded_features_columns, axis=1, inplace=True)"
   ]
  },
  {
   "cell_type": "code",
   "execution_count": 35,
   "id": "6727d079-03e5-481e-9d38-292a90b7a0a8",
   "metadata": {
    "execution": {
     "iopub.execute_input": "2025-07-30T14:21:29.544550Z",
     "iopub.status.busy": "2025-07-30T14:21:29.544019Z",
     "iopub.status.idle": "2025-07-30T14:21:29.548806Z",
     "shell.execute_reply": "2025-07-30T14:21:29.547852Z"
    },
    "papermill": {
     "duration": 0.03247,
     "end_time": "2025-07-30T14:21:29.550373",
     "exception": false,
     "start_time": "2025-07-30T14:21:29.517903",
     "status": "completed"
    },
    "tags": []
   },
   "outputs": [],
   "source": [
    "# SPLIT & STRATIFY DATA\n",
    "# ----------------------"
   ]
  },
  {
   "cell_type": "code",
   "execution_count": 36,
   "id": "76c4dc6d",
   "metadata": {
    "execution": {
     "iopub.execute_input": "2025-07-30T14:21:29.598656Z",
     "iopub.status.busy": "2025-07-30T14:21:29.598181Z",
     "iopub.status.idle": "2025-07-30T14:21:29.604093Z",
     "shell.execute_reply": "2025-07-30T14:21:29.603125Z"
    },
    "papermill": {
     "duration": 0.031012,
     "end_time": "2025-07-30T14:21:29.605821",
     "exception": false,
     "start_time": "2025-07-30T14:21:29.574809",
     "status": "completed"
    },
    "tags": []
   },
   "outputs": [],
   "source": [
    "# EXCLUDE CERTAIN SUBGROUPS\n",
    "# ----------------------\n",
    "\n",
    "mode = universe.get(\"exclude_subgroups\", \"keep-all\") \n",
    "# Fetches the exclude_subgroups setting from the universe dict.\n",
    "# Defaults to \"keep-all\" if the key is missing."
   ]
  },
  {
   "cell_type": "code",
   "execution_count": 37,
   "id": "21994072",
   "metadata": {
    "execution": {
     "iopub.execute_input": "2025-07-30T14:21:29.653611Z",
     "iopub.status.busy": "2025-07-30T14:21:29.653125Z",
     "iopub.status.idle": "2025-07-30T14:21:29.659834Z",
     "shell.execute_reply": "2025-07-30T14:21:29.658878Z"
    },
    "papermill": {
     "duration": 0.032247,
     "end_time": "2025-07-30T14:21:29.661567",
     "exception": false,
     "start_time": "2025-07-30T14:21:29.629320",
     "status": "completed"
    },
    "tags": []
   },
   "outputs": [],
   "source": [
    "if mode == \"keep-all\":\n",
    "    keep_mask = pd.Series(True, index=org_train.index)\n",
    "\n",
    "# org_train contains the original feature columns from features_org (in Simson)\n",
    "# features_org contains unprocessed features, for me X_train at beginning ???\n",
    "# For keep-all, creates a boolean Series (keep_mask) of all True, so no rows are removed.\n",
    "\n",
    "elif mode == \"drop-non-german\":\n",
    "    keep_mask = org_train[\"maxdeutsch1\"] == 1 # ??? what about missing values?\n",
    "\n",
    "else:\n",
    "    raise ValueError(f\"Unsupported mode for exclude_subgroups: {mode}\")\n"
   ]
  },
  {
   "cell_type": "code",
   "execution_count": 38,
   "id": "71651440",
   "metadata": {
    "execution": {
     "iopub.execute_input": "2025-07-30T14:21:29.709770Z",
     "iopub.status.busy": "2025-07-30T14:21:29.709264Z",
     "iopub.status.idle": "2025-07-30T14:21:29.715807Z",
     "shell.execute_reply": "2025-07-30T14:21:29.714961Z"
    },
    "papermill": {
     "duration": 0.031708,
     "end_time": "2025-07-30T14:21:29.717471",
     "exception": false,
     "start_time": "2025-07-30T14:21:29.685763",
     "status": "completed"
    },
    "tags": []
   },
   "outputs": [],
   "source": [
    "n_drop = (~keep_mask).sum() # Calculates how many rows are set to be dropped\n",
    "if n_drop > 0:\n",
    "    pct = n_drop / len(keep_mask) * 100\n",
    "    print(f\"Dropping {n_drop} rows ({pct:.2f}%) where mode='{mode}'\")"
   ]
  },
  {
   "cell_type": "code",
   "execution_count": 39,
   "id": "5fb8eee5",
   "metadata": {
    "execution": {
     "iopub.execute_input": "2025-07-30T14:21:29.766799Z",
     "iopub.status.busy": "2025-07-30T14:21:29.766310Z",
     "iopub.status.idle": "2025-07-30T14:21:29.773205Z",
     "shell.execute_reply": "2025-07-30T14:21:29.772165Z"
    },
    "papermill": {
     "duration": 0.033085,
     "end_time": "2025-07-30T14:21:29.774770",
     "exception": false,
     "start_time": "2025-07-30T14:21:29.741685",
     "status": "completed"
    },
    "tags": []
   },
   "outputs": [],
   "source": [
    "X_train = X_train[keep_mask]"
   ]
  },
  {
   "cell_type": "code",
   "execution_count": 40,
   "id": "b202bb3a",
   "metadata": {
    "execution": {
     "iopub.execute_input": "2025-07-30T14:21:29.826802Z",
     "iopub.status.busy": "2025-07-30T14:21:29.826185Z",
     "iopub.status.idle": "2025-07-30T14:21:29.832250Z",
     "shell.execute_reply": "2025-07-30T14:21:29.831155Z"
    },
    "papermill": {
     "duration": 0.033466,
     "end_time": "2025-07-30T14:21:29.833850",
     "exception": false,
     "start_time": "2025-07-30T14:21:29.800384",
     "status": "completed"
    },
    "tags": []
   },
   "outputs": [],
   "source": [
    "y_train = y_train[keep_mask]"
   ]
  },
  {
   "cell_type": "markdown",
   "id": "493e2ac3",
   "metadata": {
    "papermill": {
     "duration": 0.025534,
     "end_time": "2025-07-30T14:21:29.883365",
     "exception": false,
     "start_time": "2025-07-30T14:21:29.857831",
     "status": "completed"
    },
    "tags": []
   },
   "source": [
    "# Model Training"
   ]
  },
  {
   "cell_type": "code",
   "execution_count": 41,
   "id": "679e1268",
   "metadata": {
    "execution": {
     "iopub.execute_input": "2025-07-30T14:21:29.932432Z",
     "iopub.status.busy": "2025-07-30T14:21:29.931942Z",
     "iopub.status.idle": "2025-07-30T14:21:30.043704Z",
     "shell.execute_reply": "2025-07-30T14:21:30.042728Z"
    },
    "papermill": {
     "duration": 0.138759,
     "end_time": "2025-07-30T14:21:30.045575",
     "exception": false,
     "start_time": "2025-07-30T14:21:29.906816",
     "status": "completed"
    },
    "tags": []
   },
   "outputs": [],
   "source": [
    "from sklearn.linear_model import LogisticRegression\n",
    "from sklearn.ensemble import GradientBoostingClassifier, RandomForestClassifier\n",
    "\n",
    "if (universe[\"model\"] == \"logreg\"):\n",
    "    model = LogisticRegression() #penalty=\"none\") #, solver=\"newton-cg\", max_iter=1) # include random_state=19 ?\n",
    "elif (universe[\"model\"] == \"penalized_logreg\"):\n",
    "    model = LogisticRegression(penalty=\"l2\", C=1.0) #, solver=\"newton-cg\", max_iter=1)\n",
    "elif (universe[\"model\"] == \"rf\"):\n",
    "    model = RandomForestClassifier(n_estimators=100, n_jobs=-1)\n",
    "elif (universe[\"model\"] == \"gbm\"):\n",
    "    model = GradientBoostingClassifier()\n",
    "elif (universe[\"model\"] == \"elasticnet\"):\n",
    "    model = LogisticRegression(penalty = 'elasticnet', solver = 'saga', l1_ratio = 0.5, max_iter=5000) # which solver to use?\n",
    "else:\n",
    "    raise \"Unsupported universe.model\""
   ]
  },
  {
   "cell_type": "code",
   "execution_count": 42,
   "id": "0cc8f744",
   "metadata": {
    "execution": {
     "iopub.execute_input": "2025-07-30T14:21:30.097762Z",
     "iopub.status.busy": "2025-07-30T14:21:30.096876Z",
     "iopub.status.idle": "2025-07-30T14:21:30.103357Z",
     "shell.execute_reply": "2025-07-30T14:21:30.102358Z"
    },
    "papermill": {
     "duration": 0.035838,
     "end_time": "2025-07-30T14:21:30.105163",
     "exception": false,
     "start_time": "2025-07-30T14:21:30.069325",
     "status": "completed"
    },
    "tags": []
   },
   "outputs": [],
   "source": [
    "import numpy as np\n",
    "from sklearn.pipeline import Pipeline\n",
    "from sklearn.preprocessing import StandardScaler\n",
    "\n",
    "model = Pipeline([\n",
    "    #(\"continuous_processor\", continuous_processor),\n",
    "    #(\"categorical_preprocessor\", categorical_preprocessor),\n",
    "    (\"scale\", StandardScaler() if universe[\"scale\"] == \"scale\" else None), \n",
    "    (\"model\", model),\n",
    "])"
   ]
  },
  {
   "cell_type": "code",
   "execution_count": 43,
   "id": "9442c04d",
   "metadata": {
    "execution": {
     "iopub.execute_input": "2025-07-30T14:21:30.155473Z",
     "iopub.status.busy": "2025-07-30T14:21:30.154577Z",
     "iopub.status.idle": "2025-07-30T14:21:30.544043Z",
     "shell.execute_reply": "2025-07-30T14:21:30.543093Z"
    },
    "papermill": {
     "duration": 0.416372,
     "end_time": "2025-07-30T14:21:30.546832",
     "exception": false,
     "start_time": "2025-07-30T14:21:30.130460",
     "status": "completed"
    },
    "tags": []
   },
   "outputs": [
    {
     "data": {
      "text/html": [
       "<style>#sk-container-id-1 {color: black;background-color: white;}#sk-container-id-1 pre{padding: 0;}#sk-container-id-1 div.sk-toggleable {background-color: white;}#sk-container-id-1 label.sk-toggleable__label {cursor: pointer;display: block;width: 100%;margin-bottom: 0;padding: 0.3em;box-sizing: border-box;text-align: center;}#sk-container-id-1 label.sk-toggleable__label-arrow:before {content: \"▸\";float: left;margin-right: 0.25em;color: #696969;}#sk-container-id-1 label.sk-toggleable__label-arrow:hover:before {color: black;}#sk-container-id-1 div.sk-estimator:hover label.sk-toggleable__label-arrow:before {color: black;}#sk-container-id-1 div.sk-toggleable__content {max-height: 0;max-width: 0;overflow: hidden;text-align: left;background-color: #f0f8ff;}#sk-container-id-1 div.sk-toggleable__content pre {margin: 0.2em;color: black;border-radius: 0.25em;background-color: #f0f8ff;}#sk-container-id-1 input.sk-toggleable__control:checked~div.sk-toggleable__content {max-height: 200px;max-width: 100%;overflow: auto;}#sk-container-id-1 input.sk-toggleable__control:checked~label.sk-toggleable__label-arrow:before {content: \"▾\";}#sk-container-id-1 div.sk-estimator input.sk-toggleable__control:checked~label.sk-toggleable__label {background-color: #d4ebff;}#sk-container-id-1 div.sk-label input.sk-toggleable__control:checked~label.sk-toggleable__label {background-color: #d4ebff;}#sk-container-id-1 input.sk-hidden--visually {border: 0;clip: rect(1px 1px 1px 1px);clip: rect(1px, 1px, 1px, 1px);height: 1px;margin: -1px;overflow: hidden;padding: 0;position: absolute;width: 1px;}#sk-container-id-1 div.sk-estimator {font-family: monospace;background-color: #f0f8ff;border: 1px dotted black;border-radius: 0.25em;box-sizing: border-box;margin-bottom: 0.5em;}#sk-container-id-1 div.sk-estimator:hover {background-color: #d4ebff;}#sk-container-id-1 div.sk-parallel-item::after {content: \"\";width: 100%;border-bottom: 1px solid gray;flex-grow: 1;}#sk-container-id-1 div.sk-label:hover label.sk-toggleable__label {background-color: #d4ebff;}#sk-container-id-1 div.sk-serial::before {content: \"\";position: absolute;border-left: 1px solid gray;box-sizing: border-box;top: 0;bottom: 0;left: 50%;z-index: 0;}#sk-container-id-1 div.sk-serial {display: flex;flex-direction: column;align-items: center;background-color: white;padding-right: 0.2em;padding-left: 0.2em;position: relative;}#sk-container-id-1 div.sk-item {position: relative;z-index: 1;}#sk-container-id-1 div.sk-parallel {display: flex;align-items: stretch;justify-content: center;background-color: white;position: relative;}#sk-container-id-1 div.sk-item::before, #sk-container-id-1 div.sk-parallel-item::before {content: \"\";position: absolute;border-left: 1px solid gray;box-sizing: border-box;top: 0;bottom: 0;left: 50%;z-index: -1;}#sk-container-id-1 div.sk-parallel-item {display: flex;flex-direction: column;z-index: 1;position: relative;background-color: white;}#sk-container-id-1 div.sk-parallel-item:first-child::after {align-self: flex-end;width: 50%;}#sk-container-id-1 div.sk-parallel-item:last-child::after {align-self: flex-start;width: 50%;}#sk-container-id-1 div.sk-parallel-item:only-child::after {width: 0;}#sk-container-id-1 div.sk-dashed-wrapped {border: 1px dashed gray;margin: 0 0.4em 0.5em 0.4em;box-sizing: border-box;padding-bottom: 0.4em;background-color: white;}#sk-container-id-1 div.sk-label label {font-family: monospace;font-weight: bold;display: inline-block;line-height: 1.2em;}#sk-container-id-1 div.sk-label-container {text-align: center;}#sk-container-id-1 div.sk-container {/* jupyter's `normalize.less` sets `[hidden] { display: none; }` but bootstrap.min.css set `[hidden] { display: none !important; }` so we also need the `!important` here to be able to override the default hidden behavior on the sphinx rendered scikit-learn.org. See: https://github.com/scikit-learn/scikit-learn/issues/21755 */display: inline-block !important;position: relative;}#sk-container-id-1 div.sk-text-repr-fallback {display: none;}</style><div id=\"sk-container-id-1\" class=\"sk-top-container\"><div class=\"sk-text-repr-fallback\"><pre>Pipeline(steps=[(&#x27;scale&#x27;, StandardScaler()),\n",
       "                (&#x27;model&#x27;, RandomForestClassifier(n_jobs=-1))])</pre><b>In a Jupyter environment, please rerun this cell to show the HTML representation or trust the notebook. <br />On GitHub, the HTML representation is unable to render, please try loading this page with nbviewer.org.</b></div><div class=\"sk-container\" hidden><div class=\"sk-item sk-dashed-wrapped\"><div class=\"sk-label-container\"><div class=\"sk-label sk-toggleable\"><input class=\"sk-toggleable__control sk-hidden--visually\" id=\"sk-estimator-id-1\" type=\"checkbox\" ><label for=\"sk-estimator-id-1\" class=\"sk-toggleable__label sk-toggleable__label-arrow\">Pipeline</label><div class=\"sk-toggleable__content\"><pre>Pipeline(steps=[(&#x27;scale&#x27;, StandardScaler()),\n",
       "                (&#x27;model&#x27;, RandomForestClassifier(n_jobs=-1))])</pre></div></div></div><div class=\"sk-serial\"><div class=\"sk-item\"><div class=\"sk-estimator sk-toggleable\"><input class=\"sk-toggleable__control sk-hidden--visually\" id=\"sk-estimator-id-2\" type=\"checkbox\" ><label for=\"sk-estimator-id-2\" class=\"sk-toggleable__label sk-toggleable__label-arrow\">StandardScaler</label><div class=\"sk-toggleable__content\"><pre>StandardScaler()</pre></div></div></div><div class=\"sk-item\"><div class=\"sk-estimator sk-toggleable\"><input class=\"sk-toggleable__control sk-hidden--visually\" id=\"sk-estimator-id-3\" type=\"checkbox\" ><label for=\"sk-estimator-id-3\" class=\"sk-toggleable__label sk-toggleable__label-arrow\">RandomForestClassifier</label><div class=\"sk-toggleable__content\"><pre>RandomForestClassifier(n_jobs=-1)</pre></div></div></div></div></div></div></div>"
      ],
      "text/plain": [
       "Pipeline(steps=[('scale', StandardScaler()),\n",
       "                ('model', RandomForestClassifier(n_jobs=-1))])"
      ]
     },
     "execution_count": 43,
     "metadata": {},
     "output_type": "execute_result"
    }
   ],
   "source": [
    "model.fit(X_train, y_train.values.ravel())"
   ]
  },
  {
   "cell_type": "code",
   "execution_count": 44,
   "id": "af59f8c0",
   "metadata": {
    "execution": {
     "iopub.execute_input": "2025-07-30T14:21:30.601781Z",
     "iopub.status.busy": "2025-07-30T14:21:30.601331Z",
     "iopub.status.idle": "2025-07-30T14:21:30.606561Z",
     "shell.execute_reply": "2025-07-30T14:21:30.605618Z"
    },
    "papermill": {
     "duration": 0.032586,
     "end_time": "2025-07-30T14:21:30.608570",
     "exception": false,
     "start_time": "2025-07-30T14:21:30.575984",
     "status": "completed"
    },
    "tags": []
   },
   "outputs": [],
   "source": [
    "from fairness_multiverse.universe import predict_w_threshold"
   ]
  },
  {
   "cell_type": "code",
   "execution_count": 45,
   "id": "a7cf2e16",
   "metadata": {
    "execution": {
     "iopub.execute_input": "2025-07-30T14:21:30.657673Z",
     "iopub.status.busy": "2025-07-30T14:21:30.657292Z",
     "iopub.status.idle": "2025-07-30T14:21:31.557225Z",
     "shell.execute_reply": "2025-07-30T14:21:31.555883Z"
    },
    "papermill": {
     "duration": 0.925054,
     "end_time": "2025-07-30T14:21:31.559067",
     "exception": false,
     "start_time": "2025-07-30T14:21:30.634013",
     "status": "completed"
    },
    "tags": []
   },
   "outputs": [
    {
     "data": {
      "text/plain": [
       "0.8613978374763126"
      ]
     },
     "execution_count": 45,
     "metadata": {},
     "output_type": "execute_result"
    }
   ],
   "source": [
    "probs_test = model.predict_proba(X_test)\n",
    "\n",
    "'''\n",
    "Below code returns a boolean array (or binary 0/1 array depending on how it’s used) where each element \n",
    "is True if the probability of class 1 is greater than or equal to the threshold, and False otherwise.\n",
    "'''\n",
    "y_pred_default = predict_w_threshold(probs_test, 0.5)\n",
    "\n",
    "from sklearn.metrics import accuracy_score\n",
    "\n",
    "# Naive prediction\n",
    "accuracy_score(y_true = y_true, y_pred = y_pred_default)"
   ]
  },
  {
   "cell_type": "code",
   "execution_count": 46,
   "id": "081964c3",
   "metadata": {
    "execution": {
     "iopub.execute_input": "2025-07-30T14:21:31.617694Z",
     "iopub.status.busy": "2025-07-30T14:21:31.617226Z",
     "iopub.status.idle": "2025-07-30T14:21:32.697622Z",
     "shell.execute_reply": "2025-07-30T14:21:32.696740Z"
    },
    "papermill": {
     "duration": 1.116335,
     "end_time": "2025-07-30T14:21:32.699309",
     "exception": false,
     "start_time": "2025-07-30T14:21:31.582974",
     "status": "completed"
    },
    "tags": []
   },
   "outputs": [
    {
     "data": {
      "text/plain": [
       "array([0, 0, 0, ..., 0, 0, 0])"
      ]
     },
     "execution_count": 46,
     "metadata": {},
     "output_type": "execute_result"
    }
   ],
   "source": [
    "model.predict(X_test)"
   ]
  },
  {
   "cell_type": "markdown",
   "id": "56c9705b",
   "metadata": {
    "papermill": {
     "duration": 0.035129,
     "end_time": "2025-07-30T14:21:32.787928",
     "exception": false,
     "start_time": "2025-07-30T14:21:32.752799",
     "status": "completed"
    },
    "tags": []
   },
   "source": [
    "# Conformal Prediction"
   ]
  },
  {
   "cell_type": "code",
   "execution_count": 47,
   "id": "160ec6ff",
   "metadata": {
    "execution": {
     "iopub.execute_input": "2025-07-30T14:21:32.918213Z",
     "iopub.status.busy": "2025-07-30T14:21:32.917791Z",
     "iopub.status.idle": "2025-07-30T14:21:32.923596Z",
     "shell.execute_reply": "2025-07-30T14:21:32.922497Z"
    },
    "papermill": {
     "duration": 0.084205,
     "end_time": "2025-07-30T14:21:32.926999",
     "exception": false,
     "start_time": "2025-07-30T14:21:32.842794",
     "status": "completed"
    },
    "tags": []
   },
   "outputs": [],
   "source": [
    "# Miscoverage level for conformal prediction (10% allowed error rate => 90% target coverage)\n",
    "alpha = 0.1"
   ]
  },
  {
   "cell_type": "code",
   "execution_count": 48,
   "id": "eadf4555-3dd3-440e-8e35-f82a4ad9f855",
   "metadata": {
    "execution": {
     "iopub.execute_input": "2025-07-30T14:21:33.109989Z",
     "iopub.status.busy": "2025-07-30T14:21:33.109610Z",
     "iopub.status.idle": "2025-07-30T14:21:34.152180Z",
     "shell.execute_reply": "2025-07-30T14:21:34.151245Z"
    },
    "papermill": {
     "duration": 1.131908,
     "end_time": "2025-07-30T14:21:34.154114",
     "exception": false,
     "start_time": "2025-07-30T14:21:33.022206",
     "status": "completed"
    },
    "tags": []
   },
   "outputs": [],
   "source": [
    "probs_calib = model.predict_proba(X_calib)"
   ]
  },
  {
   "cell_type": "code",
   "execution_count": 49,
   "id": "2ed93547-6d5d-4983-9b36-1ecb300da49a",
   "metadata": {
    "execution": {
     "iopub.execute_input": "2025-07-30T14:21:34.240597Z",
     "iopub.status.busy": "2025-07-30T14:21:34.240195Z",
     "iopub.status.idle": "2025-07-30T14:21:34.246147Z",
     "shell.execute_reply": "2025-07-30T14:21:34.245150Z"
    },
    "papermill": {
     "duration": 0.042187,
     "end_time": "2025-07-30T14:21:34.256017",
     "exception": false,
     "start_time": "2025-07-30T14:21:34.213830",
     "status": "completed"
    },
    "tags": []
   },
   "outputs": [],
   "source": [
    "y_calib = y_calib.values.ravel().astype(int)"
   ]
  },
  {
   "cell_type": "code",
   "execution_count": 50,
   "id": "65d1320d-f588-4b38-9072-62af1ae97f7d",
   "metadata": {
    "execution": {
     "iopub.execute_input": "2025-07-30T14:21:34.355761Z",
     "iopub.status.busy": "2025-07-30T14:21:34.355328Z",
     "iopub.status.idle": "2025-07-30T14:21:34.363810Z",
     "shell.execute_reply": "2025-07-30T14:21:34.362701Z"
    },
    "papermill": {
     "duration": 0.056352,
     "end_time": "2025-07-30T14:21:34.365354",
     "exception": false,
     "start_time": "2025-07-30T14:21:34.309002",
     "status": "completed"
    },
    "tags": []
   },
   "outputs": [],
   "source": [
    "from fairness_multiverse.conformal import compute_nc_scores\n",
    "\n",
    "# Compute nonconformity scores on calibration set (1 - probability of true class)\n",
    "nc_scores = compute_nc_scores(probs_calib, y_calib)"
   ]
  },
  {
   "cell_type": "code",
   "execution_count": 51,
   "id": "df3b8ca3-53b7-43d5-9667-7c85da7aeda2",
   "metadata": {
    "execution": {
     "iopub.execute_input": "2025-07-30T14:21:34.417109Z",
     "iopub.status.busy": "2025-07-30T14:21:34.416754Z",
     "iopub.status.idle": "2025-07-30T14:21:34.423099Z",
     "shell.execute_reply": "2025-07-30T14:21:34.422188Z"
    },
    "papermill": {
     "duration": 0.031536,
     "end_time": "2025-07-30T14:21:34.424626",
     "exception": false,
     "start_time": "2025-07-30T14:21:34.393090",
     "status": "completed"
    },
    "tags": []
   },
   "outputs": [],
   "source": [
    "from fairness_multiverse.conformal import find_threshold\n",
    "\n",
    "# Find conformal threshold q_hat for the given alpha (split conformal method)\n",
    "q_hat = find_threshold(nc_scores, alpha)"
   ]
  },
  {
   "cell_type": "code",
   "execution_count": 52,
   "id": "4d29e6c1-0ef6-4aa4-b8fe-4fe79b0d033a",
   "metadata": {
    "execution": {
     "iopub.execute_input": "2025-07-30T14:21:34.464649Z",
     "iopub.status.busy": "2025-07-30T14:21:34.464245Z",
     "iopub.status.idle": "2025-07-30T14:21:34.470490Z",
     "shell.execute_reply": "2025-07-30T14:21:34.469783Z"
    },
    "papermill": {
     "duration": 0.023326,
     "end_time": "2025-07-30T14:21:34.471880",
     "exception": false,
     "start_time": "2025-07-30T14:21:34.448554",
     "status": "completed"
    },
    "tags": []
   },
   "outputs": [
    {
     "data": {
      "text/plain": [
       "0.6699999999999999"
      ]
     },
     "execution_count": 52,
     "metadata": {},
     "output_type": "execute_result"
    }
   ],
   "source": [
    "q_hat"
   ]
  },
  {
   "cell_type": "code",
   "execution_count": 53,
   "id": "92460794-cdac-4be2-ba28-f28c0515a6fb",
   "metadata": {
    "execution": {
     "iopub.execute_input": "2025-07-30T14:21:34.503396Z",
     "iopub.status.busy": "2025-07-30T14:21:34.502640Z",
     "iopub.status.idle": "2025-07-30T14:21:36.177133Z",
     "shell.execute_reply": "2025-07-30T14:21:36.176104Z"
    },
    "papermill": {
     "duration": 1.693147,
     "end_time": "2025-07-30T14:21:36.179079",
     "exception": false,
     "start_time": "2025-07-30T14:21:34.485932",
     "status": "completed"
    },
    "tags": []
   },
   "outputs": [],
   "source": [
    "from fairness_multiverse.conformal import predict_conformal_sets\n",
    "\n",
    "# Generate prediction sets for each test example\n",
    "pred_sets = predict_conformal_sets(model, X_test, q_hat)"
   ]
  },
  {
   "cell_type": "code",
   "execution_count": 54,
   "id": "d90c9a65-e6db-4f5d-80cd-e68fb7e46829",
   "metadata": {
    "execution": {
     "iopub.execute_input": "2025-07-30T14:21:36.233892Z",
     "iopub.status.busy": "2025-07-30T14:21:36.233167Z",
     "iopub.status.idle": "2025-07-30T14:21:36.239153Z",
     "shell.execute_reply": "2025-07-30T14:21:36.238109Z"
    },
    "papermill": {
     "duration": 0.035301,
     "end_time": "2025-07-30T14:21:36.240955",
     "exception": false,
     "start_time": "2025-07-30T14:21:36.205654",
     "status": "completed"
    },
    "tags": []
   },
   "outputs": [],
   "source": [
    "y_true = y_true.squeeze()"
   ]
  },
  {
   "cell_type": "code",
   "execution_count": 55,
   "id": "3a58a54a-1e68-46b9-927a-df01f18aebc8",
   "metadata": {
    "execution": {
     "iopub.execute_input": "2025-07-30T14:21:36.294688Z",
     "iopub.status.busy": "2025-07-30T14:21:36.294043Z",
     "iopub.status.idle": "2025-07-30T14:21:37.240103Z",
     "shell.execute_reply": "2025-07-30T14:21:37.239116Z"
    },
    "papermill": {
     "duration": 0.973863,
     "end_time": "2025-07-30T14:21:37.241973",
     "exception": false,
     "start_time": "2025-07-30T14:21:36.268110",
     "status": "completed"
    },
    "tags": []
   },
   "outputs": [],
   "source": [
    "from fairness_multiverse.conformal import evaluate_sets\n",
    "\n",
    "# Evaluate coverage and average set size on test data\n",
    "metrics = evaluate_sets(pred_sets, y_true)"
   ]
  },
  {
   "cell_type": "markdown",
   "id": "2b569c12-9aaa-4c88-98c9-bbcd0cf3ebb8",
   "metadata": {
    "papermill": {
     "duration": 0.024196,
     "end_time": "2025-07-30T14:21:37.291623",
     "exception": false,
     "start_time": "2025-07-30T14:21:37.267427",
     "status": "completed"
    },
    "tags": []
   },
   "source": [
    "# CP Metrics"
   ]
  },
  {
   "cell_type": "code",
   "execution_count": 56,
   "id": "5ce0a5cb-201f-45a0-ade5-94c7f0bd6095",
   "metadata": {
    "execution": {
     "iopub.execute_input": "2025-07-30T14:21:37.342567Z",
     "iopub.status.busy": "2025-07-30T14:21:37.342013Z",
     "iopub.status.idle": "2025-07-30T14:21:37.349339Z",
     "shell.execute_reply": "2025-07-30T14:21:37.348317Z"
    },
    "papermill": {
     "duration": 0.03478,
     "end_time": "2025-07-30T14:21:37.351436",
     "exception": false,
     "start_time": "2025-07-30T14:21:37.316656",
     "status": "completed"
    },
    "tags": []
   },
   "outputs": [
    {
     "data": {
      "text/plain": [
       "{'coverage': 0.9134879054731914, 'avg_size': 1.1459257607847508}"
      ]
     },
     "execution_count": 56,
     "metadata": {},
     "output_type": "execute_result"
    }
   ],
   "source": [
    "metrics"
   ]
  },
  {
   "cell_type": "code",
   "execution_count": 57,
   "id": "9b9a838d-31c9-430b-ae14-12baee460d17",
   "metadata": {
    "execution": {
     "iopub.execute_input": "2025-07-30T14:21:37.404756Z",
     "iopub.status.busy": "2025-07-30T14:21:37.404264Z",
     "iopub.status.idle": "2025-07-30T14:21:37.410611Z",
     "shell.execute_reply": "2025-07-30T14:21:37.409769Z"
    },
    "papermill": {
     "duration": 0.033877,
     "end_time": "2025-07-30T14:21:37.412330",
     "exception": false,
     "start_time": "2025-07-30T14:21:37.378453",
     "status": "completed"
    },
    "tags": []
   },
   "outputs": [],
   "source": [
    "example_universe = universe.copy()\n",
    "universe_training_size = example_universe.get(\"training_size\")\n",
    "universe_scale = example_universe.get(\"scale\")\n",
    "universe_model = example_universe.get(\"model\")\n",
    "universe_exclude_features = example_universe.get(\"exclude_features\")\n",
    "universe_exclude_subgroups = example_universe.get(\"exclude_subgroups\")"
   ]
  },
  {
   "cell_type": "code",
   "execution_count": 58,
   "id": "f4b6a8ac-9dc0-4245-8a91-5b3b5999c4f9",
   "metadata": {
    "execution": {
     "iopub.execute_input": "2025-07-30T14:21:37.466875Z",
     "iopub.status.busy": "2025-07-30T14:21:37.466409Z",
     "iopub.status.idle": "2025-07-30T14:21:37.472864Z",
     "shell.execute_reply": "2025-07-30T14:21:37.471873Z"
    },
    "papermill": {
     "duration": 0.035322,
     "end_time": "2025-07-30T14:21:37.474774",
     "exception": false,
     "start_time": "2025-07-30T14:21:37.439452",
     "status": "completed"
    },
    "tags": []
   },
   "outputs": [],
   "source": [
    "cp_metrics_dict = {\n",
    "    \"universe_id\": [universe_id],\n",
    "    \"universe_training_size\": [universe_training_size],\n",
    "    \"universe_scale\": [universe_scale],\n",
    "    \"universe_model\": [universe_model],\n",
    "    \"universe_exclude_features\": [universe_exclude_features],\n",
    "    \"universe_exclude_subgroups\": [universe_exclude_subgroups],\n",
    "    \"q_hat\": [q_hat],\n",
    "    \"coverage\": [metrics[\"coverage\"]],\n",
    "    \"avg_size\": [metrics[\"avg_size\"]],\n",
    "}"
   ]
  },
  {
   "cell_type": "code",
   "execution_count": 59,
   "id": "908acbb1-0371-4915-85ca-3fa520d2efe2",
   "metadata": {
    "execution": {
     "iopub.execute_input": "2025-07-30T14:21:37.528425Z",
     "iopub.status.busy": "2025-07-30T14:21:37.527644Z",
     "iopub.status.idle": "2025-07-30T14:21:37.535125Z",
     "shell.execute_reply": "2025-07-30T14:21:37.534177Z"
    },
    "papermill": {
     "duration": 0.035771,
     "end_time": "2025-07-30T14:21:37.536668",
     "exception": false,
     "start_time": "2025-07-30T14:21:37.500897",
     "status": "completed"
    },
    "tags": []
   },
   "outputs": [
    {
     "data": {
      "text/plain": [
       "{'universe_id': ['bb5ffbc14595629263e25f89a43b1115'],\n",
       " 'universe_training_size': ['1k'],\n",
       " 'universe_scale': ['scale'],\n",
       " 'universe_model': ['rf'],\n",
       " 'universe_exclude_features': ['sex'],\n",
       " 'universe_exclude_subgroups': ['keep-all'],\n",
       " 'q_hat': [0.6699999999999999],\n",
       " 'coverage': [0.9134879054731914],\n",
       " 'avg_size': [1.1459257607847508]}"
      ]
     },
     "execution_count": 59,
     "metadata": {},
     "output_type": "execute_result"
    }
   ],
   "source": [
    "cp_metrics_dict"
   ]
  },
  {
   "cell_type": "code",
   "execution_count": 60,
   "id": "33007efc-14e9-4ec6-97ac-56a455c82265",
   "metadata": {
    "execution": {
     "iopub.execute_input": "2025-07-30T14:21:37.590755Z",
     "iopub.status.busy": "2025-07-30T14:21:37.590305Z",
     "iopub.status.idle": "2025-07-30T14:21:37.596153Z",
     "shell.execute_reply": "2025-07-30T14:21:37.595307Z"
    },
    "papermill": {
     "duration": 0.034889,
     "end_time": "2025-07-30T14:21:37.597798",
     "exception": false,
     "start_time": "2025-07-30T14:21:37.562909",
     "status": "completed"
    },
    "tags": []
   },
   "outputs": [],
   "source": [
    "cp_metrics_df = pd.DataFrame(cp_metrics_dict)"
   ]
  },
  {
   "cell_type": "code",
   "execution_count": 61,
   "id": "db12611b-57b2-4910-b9d0-355adfd6e7bf",
   "metadata": {
    "execution": {
     "iopub.execute_input": "2025-07-30T14:21:37.627935Z",
     "iopub.status.busy": "2025-07-30T14:21:37.627517Z",
     "iopub.status.idle": "2025-07-30T14:21:37.645931Z",
     "shell.execute_reply": "2025-07-30T14:21:37.645125Z"
    },
    "papermill": {
     "duration": 0.033584,
     "end_time": "2025-07-30T14:21:37.647095",
     "exception": false,
     "start_time": "2025-07-30T14:21:37.613511",
     "status": "completed"
    },
    "tags": []
   },
   "outputs": [
    {
     "data": {
      "text/html": [
       "<div>\n",
       "<style scoped>\n",
       "    .dataframe tbody tr th:only-of-type {\n",
       "        vertical-align: middle;\n",
       "    }\n",
       "\n",
       "    .dataframe tbody tr th {\n",
       "        vertical-align: top;\n",
       "    }\n",
       "\n",
       "    .dataframe thead th {\n",
       "        text-align: right;\n",
       "    }\n",
       "</style>\n",
       "<table border=\"1\" class=\"dataframe\">\n",
       "  <thead>\n",
       "    <tr style=\"text-align: right;\">\n",
       "      <th></th>\n",
       "      <th>universe_id</th>\n",
       "      <th>universe_training_size</th>\n",
       "      <th>universe_scale</th>\n",
       "      <th>universe_model</th>\n",
       "      <th>universe_exclude_features</th>\n",
       "      <th>universe_exclude_subgroups</th>\n",
       "      <th>q_hat</th>\n",
       "      <th>coverage</th>\n",
       "      <th>avg_size</th>\n",
       "    </tr>\n",
       "  </thead>\n",
       "  <tbody>\n",
       "    <tr>\n",
       "      <th>0</th>\n",
       "      <td>bb5ffbc14595629263e25f89a43b1115</td>\n",
       "      <td>1k</td>\n",
       "      <td>scale</td>\n",
       "      <td>rf</td>\n",
       "      <td>sex</td>\n",
       "      <td>keep-all</td>\n",
       "      <td>0.67</td>\n",
       "      <td>0.913488</td>\n",
       "      <td>1.145926</td>\n",
       "    </tr>\n",
       "  </tbody>\n",
       "</table>\n",
       "</div>"
      ],
      "text/plain": [
       "                        universe_id universe_training_size universe_scale  \\\n",
       "0  bb5ffbc14595629263e25f89a43b1115                     1k          scale   \n",
       "\n",
       "  universe_model universe_exclude_features universe_exclude_subgroups  q_hat  \\\n",
       "0             rf                       sex                   keep-all   0.67   \n",
       "\n",
       "   coverage  avg_size  \n",
       "0  0.913488  1.145926  "
      ]
     },
     "execution_count": 61,
     "metadata": {},
     "output_type": "execute_result"
    }
   ],
   "source": [
    "cp_metrics_df"
   ]
  },
  {
   "cell_type": "code",
   "execution_count": 62,
   "id": "b7fbde55-a0a1-47e4-9af6-fe4a17fa8c61",
   "metadata": {
    "execution": {
     "iopub.execute_input": "2025-07-30T14:21:37.678126Z",
     "iopub.status.busy": "2025-07-30T14:21:37.677547Z",
     "iopub.status.idle": "2025-07-30T14:21:37.681496Z",
     "shell.execute_reply": "2025-07-30T14:21:37.680821Z"
    },
    "papermill": {
     "duration": 0.022026,
     "end_time": "2025-07-30T14:21:37.682988",
     "exception": false,
     "start_time": "2025-07-30T14:21:37.660962",
     "status": "completed"
    },
    "tags": []
   },
   "outputs": [],
   "source": [
    "# Conditional Coverage & looking at subgroups"
   ]
  },
  {
   "cell_type": "code",
   "execution_count": 63,
   "id": "027ae886-68dd-4141-96c7-805a5450e1ef",
   "metadata": {
    "execution": {
     "iopub.execute_input": "2025-07-30T14:21:37.739474Z",
     "iopub.status.busy": "2025-07-30T14:21:37.738993Z",
     "iopub.status.idle": "2025-07-30T14:21:38.020795Z",
     "shell.execute_reply": "2025-07-30T14:21:38.019682Z"
    },
    "papermill": {
     "duration": 0.3127,
     "end_time": "2025-07-30T14:21:38.022924",
     "exception": false,
     "start_time": "2025-07-30T14:21:37.710224",
     "status": "completed"
    },
    "tags": []
   },
   "outputs": [],
   "source": [
    "from fairness_multiverse.conformal import build_cp_groups\n",
    "\n",
    "cp_groups_df = build_cp_groups(pred_sets, y_true, X_test.index, org_test)\n",
    "#needs universe_id and setting"
   ]
  },
  {
   "cell_type": "code",
   "execution_count": 64,
   "id": "01d5802c-663a-4d1f-9d69-e036faaffbf7",
   "metadata": {
    "execution": {
     "iopub.execute_input": "2025-07-30T14:21:38.079450Z",
     "iopub.status.busy": "2025-07-30T14:21:38.078942Z",
     "iopub.status.idle": "2025-07-30T14:21:38.084265Z",
     "shell.execute_reply": "2025-07-30T14:21:38.083104Z"
    },
    "papermill": {
     "duration": 0.036185,
     "end_time": "2025-07-30T14:21:38.086121",
     "exception": false,
     "start_time": "2025-07-30T14:21:38.049936",
     "status": "completed"
    },
    "tags": []
   },
   "outputs": [],
   "source": [
    "#delete\n",
    "#cp_groups_df"
   ]
  },
  {
   "cell_type": "code",
   "execution_count": 65,
   "id": "fa424af1-d1eb-443d-b717-2d279ada8408",
   "metadata": {
    "execution": {
     "iopub.execute_input": "2025-07-30T14:21:38.143622Z",
     "iopub.status.busy": "2025-07-30T14:21:38.143106Z",
     "iopub.status.idle": "2025-07-30T14:21:38.148007Z",
     "shell.execute_reply": "2025-07-30T14:21:38.147029Z"
    },
    "papermill": {
     "duration": 0.03438,
     "end_time": "2025-07-30T14:21:38.149807",
     "exception": false,
     "start_time": "2025-07-30T14:21:38.115427",
     "status": "completed"
    },
    "tags": []
   },
   "outputs": [],
   "source": [
    "#delete\n",
    "#percentage = (cp_groups_df['nongerman_female'] == 1).mean() * 100\n",
    "#print(percentage)\n"
   ]
  },
  {
   "cell_type": "code",
   "execution_count": 66,
   "id": "6cbdab96-b2b2-45af-ad54-d0516db2e28d",
   "metadata": {
    "execution": {
     "iopub.execute_input": "2025-07-30T14:21:38.207524Z",
     "iopub.status.busy": "2025-07-30T14:21:38.206759Z",
     "iopub.status.idle": "2025-07-30T14:21:40.365907Z",
     "shell.execute_reply": "2025-07-30T14:21:40.364730Z"
    },
    "papermill": {
     "duration": 2.189432,
     "end_time": "2025-07-30T14:21:40.368132",
     "exception": false,
     "start_time": "2025-07-30T14:21:38.178700",
     "status": "completed"
    },
    "tags": []
   },
   "outputs": [],
   "source": [
    "# Define covered = 1 if true_label is in the predicted set\n",
    "cp_groups_df['covered'] = cp_groups_df.apply(\n",
    "    lambda r: int(r['true_label'] in r['pred_set']),\n",
    "    axis=1\n",
    ")"
   ]
  },
  {
   "cell_type": "code",
   "execution_count": 67,
   "id": "338ff529-1a6b-4b87-a931-8e4788d52aad",
   "metadata": {
    "execution": {
     "iopub.execute_input": "2025-07-30T14:21:40.428907Z",
     "iopub.status.busy": "2025-07-30T14:21:40.428371Z",
     "iopub.status.idle": "2025-07-30T14:21:40.433820Z",
     "shell.execute_reply": "2025-07-30T14:21:40.432799Z"
    },
    "papermill": {
     "duration": 0.038153,
     "end_time": "2025-07-30T14:21:40.435762",
     "exception": false,
     "start_time": "2025-07-30T14:21:40.397609",
     "status": "completed"
    },
    "tags": []
   },
   "outputs": [],
   "source": [
    "#cp_groups_df"
   ]
  },
  {
   "cell_type": "code",
   "execution_count": 68,
   "id": "90032e27-66df-4540-9169-4e89cfbaa758",
   "metadata": {
    "execution": {
     "iopub.execute_input": "2025-07-30T14:21:40.494809Z",
     "iopub.status.busy": "2025-07-30T14:21:40.494368Z",
     "iopub.status.idle": "2025-07-30T14:21:40.506479Z",
     "shell.execute_reply": "2025-07-30T14:21:40.505682Z"
    },
    "papermill": {
     "duration": 0.047097,
     "end_time": "2025-07-30T14:21:40.509417",
     "exception": false,
     "start_time": "2025-07-30T14:21:40.462320",
     "status": "completed"
    },
    "tags": []
   },
   "outputs": [],
   "source": [
    "subgroups = ['frau1','nongerman','nongerman_male','nongerman_female']\n",
    "\n",
    "# Conditional coverage for subgroup==1\n",
    "cond_coverage = {\n",
    "    g: cp_groups_df.loc[cp_groups_df[g]==1, 'covered'].mean()\n",
    "    for g in subgroups\n",
    "}"
   ]
  },
  {
   "cell_type": "code",
   "execution_count": 69,
   "id": "1e348fb1-b9c3-45bc-ba23-f016827a7e0d",
   "metadata": {
    "execution": {
     "iopub.execute_input": "2025-07-30T14:21:40.571189Z",
     "iopub.status.busy": "2025-07-30T14:21:40.570727Z",
     "iopub.status.idle": "2025-07-30T14:21:40.577579Z",
     "shell.execute_reply": "2025-07-30T14:21:40.576914Z"
    },
    "papermill": {
     "duration": 0.041208,
     "end_time": "2025-07-30T14:21:40.580476",
     "exception": false,
     "start_time": "2025-07-30T14:21:40.539268",
     "status": "completed"
    },
    "tags": []
   },
   "outputs": [
    {
     "data": {
      "text/plain": [
       "{'frau1': 0.9091252190322145,\n",
       " 'nongerman': 0.9095604333913434,\n",
       " 'nongerman_male': 0.9253354949112852,\n",
       " 'nongerman_female': 0.8834575260804769}"
      ]
     },
     "execution_count": 69,
     "metadata": {},
     "output_type": "execute_result"
    }
   ],
   "source": [
    "cond_coverage"
   ]
  },
  {
   "cell_type": "code",
   "execution_count": 70,
   "id": "f5093324-c3dd-4d63-bc4c-8d945e5c8bbb",
   "metadata": {
    "execution": {
     "iopub.execute_input": "2025-07-30T14:21:40.641698Z",
     "iopub.status.busy": "2025-07-30T14:21:40.641013Z",
     "iopub.status.idle": "2025-07-30T14:21:40.648813Z",
     "shell.execute_reply": "2025-07-30T14:21:40.647761Z"
    },
    "papermill": {
     "duration": 0.040077,
     "end_time": "2025-07-30T14:21:40.650287",
     "exception": false,
     "start_time": "2025-07-30T14:21:40.610210",
     "status": "completed"
    },
    "tags": []
   },
   "outputs": [],
   "source": [
    "for subgroup, cov in cond_coverage.items():\n",
    "    cp_metrics_df[f\"cov_{subgroup}\"] = cov"
   ]
  },
  {
   "cell_type": "code",
   "execution_count": 71,
   "id": "6e872e10-dbe5-49e8-b554-5030c98ff75d",
   "metadata": {
    "execution": {
     "iopub.execute_input": "2025-07-30T14:21:40.705767Z",
     "iopub.status.busy": "2025-07-30T14:21:40.705312Z",
     "iopub.status.idle": "2025-07-30T14:21:40.726345Z",
     "shell.execute_reply": "2025-07-30T14:21:40.725125Z"
    },
    "papermill": {
     "duration": 0.05467,
     "end_time": "2025-07-30T14:21:40.728248",
     "exception": false,
     "start_time": "2025-07-30T14:21:40.673578",
     "status": "completed"
    },
    "tags": []
   },
   "outputs": [
    {
     "data": {
      "text/html": [
       "<div>\n",
       "<style scoped>\n",
       "    .dataframe tbody tr th:only-of-type {\n",
       "        vertical-align: middle;\n",
       "    }\n",
       "\n",
       "    .dataframe tbody tr th {\n",
       "        vertical-align: top;\n",
       "    }\n",
       "\n",
       "    .dataframe thead th {\n",
       "        text-align: right;\n",
       "    }\n",
       "</style>\n",
       "<table border=\"1\" class=\"dataframe\">\n",
       "  <thead>\n",
       "    <tr style=\"text-align: right;\">\n",
       "      <th></th>\n",
       "      <th>universe_id</th>\n",
       "      <th>universe_training_size</th>\n",
       "      <th>universe_scale</th>\n",
       "      <th>universe_model</th>\n",
       "      <th>universe_exclude_features</th>\n",
       "      <th>universe_exclude_subgroups</th>\n",
       "      <th>q_hat</th>\n",
       "      <th>coverage</th>\n",
       "      <th>avg_size</th>\n",
       "      <th>cov_frau1</th>\n",
       "      <th>cov_nongerman</th>\n",
       "      <th>cov_nongerman_male</th>\n",
       "      <th>cov_nongerman_female</th>\n",
       "    </tr>\n",
       "  </thead>\n",
       "  <tbody>\n",
       "    <tr>\n",
       "      <th>0</th>\n",
       "      <td>bb5ffbc14595629263e25f89a43b1115</td>\n",
       "      <td>1k</td>\n",
       "      <td>scale</td>\n",
       "      <td>rf</td>\n",
       "      <td>sex</td>\n",
       "      <td>keep-all</td>\n",
       "      <td>0.67</td>\n",
       "      <td>0.913488</td>\n",
       "      <td>1.145926</td>\n",
       "      <td>0.909125</td>\n",
       "      <td>0.90956</td>\n",
       "      <td>0.925335</td>\n",
       "      <td>0.883458</td>\n",
       "    </tr>\n",
       "  </tbody>\n",
       "</table>\n",
       "</div>"
      ],
      "text/plain": [
       "                        universe_id universe_training_size universe_scale  \\\n",
       "0  bb5ffbc14595629263e25f89a43b1115                     1k          scale   \n",
       "\n",
       "  universe_model universe_exclude_features universe_exclude_subgroups  q_hat  \\\n",
       "0             rf                       sex                   keep-all   0.67   \n",
       "\n",
       "   coverage  avg_size  cov_frau1  cov_nongerman  cov_nongerman_male  \\\n",
       "0  0.913488  1.145926   0.909125        0.90956            0.925335   \n",
       "\n",
       "   cov_nongerman_female  \n",
       "0              0.883458  "
      ]
     },
     "execution_count": 71,
     "metadata": {},
     "output_type": "execute_result"
    }
   ],
   "source": [
    "cp_metrics_df"
   ]
  },
  {
   "cell_type": "markdown",
   "id": "33774451",
   "metadata": {
    "papermill": {
     "duration": 0.029792,
     "end_time": "2025-07-30T14:21:40.788868",
     "exception": false,
     "start_time": "2025-07-30T14:21:40.759076",
     "status": "completed"
    },
    "tags": []
   },
   "source": [
    "# (Fairness) Metrics"
   ]
  },
  {
   "cell_type": "code",
   "execution_count": 72,
   "id": "debc5d62",
   "metadata": {
    "execution": {
     "iopub.execute_input": "2025-07-30T14:21:40.831567Z",
     "iopub.status.busy": "2025-07-30T14:21:40.830455Z",
     "iopub.status.idle": "2025-07-30T14:21:40.863490Z",
     "shell.execute_reply": "2025-07-30T14:21:40.862474Z"
    },
    "papermill": {
     "duration": 0.058028,
     "end_time": "2025-07-30T14:21:40.865435",
     "exception": false,
     "start_time": "2025-07-30T14:21:40.807407",
     "status": "completed"
    },
    "tags": []
   },
   "outputs": [],
   "source": [
    "# do I need to include maxdeutsch1.missing?\n",
    "\n",
    "import numpy as np\n",
    "\n",
    "colname_to_bin = \"maxdeutsch1\"\n",
    "majority_value = org_train[colname_to_bin].mode()[0]\n",
    "\n",
    "org_test[\"majmin\"] = np.where(org_test[colname_to_bin] == majority_value, \"majority\", \"minority\")"
   ]
  },
  {
   "cell_type": "code",
   "execution_count": 73,
   "id": "06a50de5",
   "metadata": {
    "execution": {
     "iopub.execute_input": "2025-07-30T14:21:40.907562Z",
     "iopub.status.busy": "2025-07-30T14:21:40.907223Z",
     "iopub.status.idle": "2025-07-30T14:21:43.165990Z",
     "shell.execute_reply": "2025-07-30T14:21:43.164973Z"
    },
    "papermill": {
     "duration": 2.27496,
     "end_time": "2025-07-30T14:21:43.167426",
     "exception": false,
     "start_time": "2025-07-30T14:21:40.892466",
     "status": "completed"
    },
    "tags": []
   },
   "outputs": [],
   "source": [
    "example_universe = universe.copy()\n",
    "example_universe[\"cutoff\"] = example_universe[\"cutoff\"][0]\n",
    "example_universe[\"eval_fairness_grouping\"] = example_universe[\"eval_fairness_grouping\"][0]\n",
    "fairness_dict, metric_frame = universe_analysis.compute_metrics(\n",
    "    example_universe,\n",
    "    y_pred_prob=probs_test,\n",
    "    y_test=y_true,\n",
    "    org_test=org_test,\n",
    ")"
   ]
  },
  {
   "cell_type": "markdown",
   "id": "f95d4e02",
   "metadata": {
    "papermill": {
     "duration": 0.016558,
     "end_time": "2025-07-30T14:21:43.213204",
     "exception": false,
     "start_time": "2025-07-30T14:21:43.196646",
     "status": "completed"
    },
    "tags": []
   },
   "source": [
    "# Overall"
   ]
  },
  {
   "cell_type": "markdown",
   "id": "bdee4871",
   "metadata": {
    "papermill": {
     "duration": 0.027592,
     "end_time": "2025-07-30T14:21:43.263745",
     "exception": false,
     "start_time": "2025-07-30T14:21:43.236153",
     "status": "completed"
    },
    "tags": []
   },
   "source": [
    "Fairness\n",
    "Main fairness target: Equalized Odds. Seems to be a better fit than equal opportunity, since we're not only interested in Y = 1. Seems to be a better fit than demographic parity, since we also care about accuracy, not just equal distribution of preds.\n",
    "\n",
    "Pick column for computation of fairness metrics\n",
    "\n",
    "Performance\n",
    "Overall performance measures, most interesting in relation to the measures split by group below"
   ]
  },
  {
   "cell_type": "code",
   "execution_count": 74,
   "id": "c4e067c6",
   "metadata": {
    "execution": {
     "iopub.execute_input": "2025-07-30T14:21:43.317683Z",
     "iopub.status.busy": "2025-07-30T14:21:43.317286Z",
     "iopub.status.idle": "2025-07-30T14:21:43.326273Z",
     "shell.execute_reply": "2025-07-30T14:21:43.325196Z"
    },
    "papermill": {
     "duration": 0.042612,
     "end_time": "2025-07-30T14:21:43.330591",
     "exception": false,
     "start_time": "2025-07-30T14:21:43.287979",
     "status": "completed"
    },
    "tags": []
   },
   "outputs": [
    {
     "data": {
      "text/plain": [
       "accuracy                   0.213978\n",
       "balanced accuracy          0.535037\n",
       "f1                         0.239889\n",
       "precision                  0.136931\n",
       "false positive rate        0.896818\n",
       "false negative rate        0.033107\n",
       "selection rate             0.905808\n",
       "count                  89710.000000\n",
       "dtype: float64"
      ]
     },
     "execution_count": 74,
     "metadata": {},
     "output_type": "execute_result"
    }
   ],
   "source": [
    "metric_frame.overall"
   ]
  },
  {
   "cell_type": "markdown",
   "id": "e968fe9d",
   "metadata": {
    "papermill": {
     "duration": 0.025495,
     "end_time": "2025-07-30T14:21:43.379981",
     "exception": false,
     "start_time": "2025-07-30T14:21:43.354486",
     "status": "completed"
    },
    "tags": []
   },
   "source": [
    "By Group"
   ]
  },
  {
   "cell_type": "code",
   "execution_count": 75,
   "id": "ec325bce",
   "metadata": {
    "execution": {
     "iopub.execute_input": "2025-07-30T14:21:43.433955Z",
     "iopub.status.busy": "2025-07-30T14:21:43.433535Z",
     "iopub.status.idle": "2025-07-30T14:21:43.452077Z",
     "shell.execute_reply": "2025-07-30T14:21:43.450945Z"
    },
    "papermill": {
     "duration": 0.046519,
     "end_time": "2025-07-30T14:21:43.453807",
     "exception": false,
     "start_time": "2025-07-30T14:21:43.407288",
     "status": "completed"
    },
    "tags": []
   },
   "outputs": [
    {
     "data": {
      "text/html": [
       "<div>\n",
       "<style scoped>\n",
       "    .dataframe tbody tr th:only-of-type {\n",
       "        vertical-align: middle;\n",
       "    }\n",
       "\n",
       "    .dataframe tbody tr th {\n",
       "        vertical-align: top;\n",
       "    }\n",
       "\n",
       "    .dataframe thead th {\n",
       "        text-align: right;\n",
       "    }\n",
       "</style>\n",
       "<table border=\"1\" class=\"dataframe\">\n",
       "  <thead>\n",
       "    <tr style=\"text-align: right;\">\n",
       "      <th></th>\n",
       "      <th>accuracy</th>\n",
       "      <th>balanced accuracy</th>\n",
       "      <th>f1</th>\n",
       "      <th>precision</th>\n",
       "      <th>false positive rate</th>\n",
       "      <th>false negative rate</th>\n",
       "      <th>selection rate</th>\n",
       "      <th>count</th>\n",
       "    </tr>\n",
       "    <tr>\n",
       "      <th>majmin</th>\n",
       "      <th></th>\n",
       "      <th></th>\n",
       "      <th></th>\n",
       "      <th></th>\n",
       "      <th></th>\n",
       "      <th></th>\n",
       "      <th></th>\n",
       "      <th></th>\n",
       "    </tr>\n",
       "  </thead>\n",
       "  <tbody>\n",
       "    <tr>\n",
       "      <th>majority</th>\n",
       "      <td>0.205465</td>\n",
       "      <td>0.536866</td>\n",
       "      <td>0.247213</td>\n",
       "      <td>0.141296</td>\n",
       "      <td>0.913577</td>\n",
       "      <td>0.012691</td>\n",
       "      <td>0.923319</td>\n",
       "      <td>69170.0</td>\n",
       "    </tr>\n",
       "    <tr>\n",
       "      <th>minority</th>\n",
       "      <td>0.242648</td>\n",
       "      <td>0.523316</td>\n",
       "      <td>0.212833</td>\n",
       "      <td>0.120904</td>\n",
       "      <td>0.841459</td>\n",
       "      <td>0.111909</td>\n",
       "      <td>0.846835</td>\n",
       "      <td>20540.0</td>\n",
       "    </tr>\n",
       "  </tbody>\n",
       "</table>\n",
       "</div>"
      ],
      "text/plain": [
       "          accuracy  balanced accuracy        f1  precision  \\\n",
       "majmin                                                       \n",
       "majority  0.205465           0.536866  0.247213   0.141296   \n",
       "minority  0.242648           0.523316  0.212833   0.120904   \n",
       "\n",
       "          false positive rate  false negative rate  selection rate    count  \n",
       "majmin                                                                       \n",
       "majority             0.913577             0.012691        0.923319  69170.0  \n",
       "minority             0.841459             0.111909        0.846835  20540.0  "
      ]
     },
     "execution_count": 75,
     "metadata": {},
     "output_type": "execute_result"
    }
   ],
   "source": [
    "metric_frame.by_group"
   ]
  },
  {
   "cell_type": "code",
   "execution_count": 76,
   "id": "a9ddbe63",
   "metadata": {
    "execution": {
     "iopub.execute_input": "2025-07-30T14:21:43.521024Z",
     "iopub.status.busy": "2025-07-30T14:21:43.520646Z",
     "iopub.status.idle": "2025-07-30T14:21:46.786928Z",
     "shell.execute_reply": "2025-07-30T14:21:46.785944Z"
    },
    "papermill": {
     "duration": 3.304877,
     "end_time": "2025-07-30T14:21:46.788488",
     "exception": false,
     "start_time": "2025-07-30T14:21:43.483611",
     "status": "completed"
    },
    "tags": []
   },
   "outputs": [
    {
     "data": {
      "text/plain": [
       "array([[<Axes: title={'center': 'accuracy'}, xlabel='majmin'>,\n",
       "        <Axes: title={'center': 'balanced accuracy'}, xlabel='majmin'>,\n",
       "        <Axes: title={'center': 'f1'}, xlabel='majmin'>],\n",
       "       [<Axes: title={'center': 'precision'}, xlabel='majmin'>,\n",
       "        <Axes: title={'center': 'false positive rate'}, xlabel='majmin'>,\n",
       "        <Axes: title={'center': 'false negative rate'}, xlabel='majmin'>],\n",
       "       [<Axes: title={'center': 'selection rate'}, xlabel='majmin'>,\n",
       "        <Axes: title={'center': 'count'}, xlabel='majmin'>,\n",
       "        <Axes: xlabel='majmin'>]], dtype=object)"
      ]
     },
     "execution_count": 76,
     "metadata": {},
     "output_type": "execute_result"
    },
    {
     "data": {
      "image/png": "[encoded data removed]",
      "text/plain": [
       "<Figure size 1200x800 with 9 Axes>"
      ]
     },
     "metadata": {},
     "output_type": "display_data"
    }
   ],
   "source": [
    "# In a graphic\n",
    "metric_frame.by_group.plot.bar(\n",
    "    subplots=True,\n",
    "    layout=[3, 3],\n",
    "    legend=False,\n",
    "    figsize=[12, 8],\n",
    "    title=\"Show all metrics\",\n",
    ")"
   ]
  },
  {
   "cell_type": "markdown",
   "id": "f57a0bac",
   "metadata": {
    "papermill": {
     "duration": 0.052535,
     "end_time": "2025-07-30T14:21:46.881028",
     "exception": false,
     "start_time": "2025-07-30T14:21:46.828493",
     "status": "completed"
    },
    "tags": []
   },
   "source": [
    "# Final Output"
   ]
  },
  {
   "cell_type": "code",
   "execution_count": 77,
   "id": "96d280a3",
   "metadata": {
    "execution": {
     "iopub.execute_input": "2025-07-30T14:21:46.971248Z",
     "iopub.status.busy": "2025-07-30T14:21:46.970706Z",
     "iopub.status.idle": "2025-07-30T14:21:46.978776Z",
     "shell.execute_reply": "2025-07-30T14:21:46.977707Z"
    },
    "papermill": {
     "duration": 0.042378,
     "end_time": "2025-07-30T14:21:46.980341",
     "exception": false,
     "start_time": "2025-07-30T14:21:46.937963",
     "status": "completed"
    },
    "tags": []
   },
   "outputs": [
    {
     "data": {
      "text/plain": [
       "4"
      ]
     },
     "execution_count": 77,
     "metadata": {},
     "output_type": "execute_result"
    }
   ],
   "source": [
    "sub_universes = universe_analysis.generate_sub_universes()\n",
    "len(sub_universes)"
   ]
  },
  {
   "cell_type": "code",
   "execution_count": 78,
   "id": "92adf7ba",
   "metadata": {
    "execution": {
     "iopub.execute_input": "2025-07-30T14:21:47.061047Z",
     "iopub.status.busy": "2025-07-30T14:21:47.060198Z",
     "iopub.status.idle": "2025-07-30T14:21:47.066875Z",
     "shell.execute_reply": "2025-07-30T14:21:47.066003Z"
    },
    "papermill": {
     "duration": 0.040511,
     "end_time": "2025-07-30T14:21:47.068859",
     "exception": false,
     "start_time": "2025-07-30T14:21:47.028348",
     "status": "completed"
    },
    "tags": []
   },
   "outputs": [],
   "source": [
    "def filter_sub_universe_data(sub_universe, org_test):\n",
    "    # Keep all rows — no filtering\n",
    "    keep_rows_mask = np.ones(org_test.shape[0], dtype=bool)\n",
    "\n",
    "    print(f\"[INFO] Keeping all rows: {keep_rows_mask.sum()} rows retained.\")\n",
    "    return keep_rows_mask"
   ]
  },
  {
   "cell_type": "code",
   "execution_count": 79,
   "id": "4a759155",
   "metadata": {
    "execution": {
     "iopub.execute_input": "2025-07-30T14:21:47.137465Z",
     "iopub.status.busy": "2025-07-30T14:21:47.137009Z",
     "iopub.status.idle": "2025-07-30T14:21:56.533155Z",
     "shell.execute_reply": "2025-07-30T14:21:56.532474Z"
    },
    "papermill": {
     "duration": 9.431931,
     "end_time": "2025-07-30T14:21:56.534371",
     "exception": false,
     "start_time": "2025-07-30T14:21:47.102440",
     "status": "completed"
    },
    "tags": []
   },
   "outputs": [
    {
     "name": "stdout",
     "output_type": "stream",
     "text": [
      "Stopping execution_time clock.\n",
      "[INFO] Keeping all rows: 89710 rows retained.\n"
     ]
    },
    {
     "name": "stdout",
     "output_type": "stream",
     "text": [
      "[INFO] Keeping all rows: 89710 rows retained.\n"
     ]
    },
    {
     "name": "stdout",
     "output_type": "stream",
     "text": [
      "[INFO] Keeping all rows: 89710 rows retained.\n"
     ]
    },
    {
     "name": "stdout",
     "output_type": "stream",
     "text": [
      "[INFO] Keeping all rows: 89710 rows retained.\n"
     ]
    },
    {
     "data": {
      "text/html": [
       "<div>\n",
       "<style scoped>\n",
       "    .dataframe tbody tr th:only-of-type {\n",
       "        vertical-align: middle;\n",
       "    }\n",
       "\n",
       "    .dataframe tbody tr th {\n",
       "        vertical-align: top;\n",
       "    }\n",
       "\n",
       "    .dataframe thead th {\n",
       "        text-align: right;\n",
       "    }\n",
       "</style>\n",
       "<table border=\"1\" class=\"dataframe\">\n",
       "  <thead>\n",
       "    <tr style=\"text-align: right;\">\n",
       "      <th></th>\n",
       "      <th>run_no</th>\n",
       "      <th>universe_id</th>\n",
       "      <th>universe_settings</th>\n",
       "      <th>execution_time</th>\n",
       "      <th>test_size_n</th>\n",
       "      <th>test_size_frac</th>\n",
       "      <th>fair_main_equalized_odds_difference</th>\n",
       "      <th>fair_main_equalized_odds_ratio</th>\n",
       "      <th>fair_main_demographic_parity_difference</th>\n",
       "      <th>fair_main_demographic_parity_ratio</th>\n",
       "      <th>...</th>\n",
       "      <th>perf_grp_precision_0</th>\n",
       "      <th>perf_grp_precision_1</th>\n",
       "      <th>perf_grp_false positive rate_0</th>\n",
       "      <th>perf_grp_false positive rate_1</th>\n",
       "      <th>perf_grp_false negative rate_0</th>\n",
       "      <th>perf_grp_false negative rate_1</th>\n",
       "      <th>perf_grp_selection rate_0</th>\n",
       "      <th>perf_grp_selection rate_1</th>\n",
       "      <th>perf_grp_count_0</th>\n",
       "      <th>perf_grp_count_1</th>\n",
       "    </tr>\n",
       "  </thead>\n",
       "  <tbody>\n",
       "    <tr>\n",
       "      <th>0</th>\n",
       "      <td>12</td>\n",
       "      <td>bb5ffbc14595629263e25f89a43b1115</td>\n",
       "      <td>{\"cutoff\": \"quantile_0.1\", \"eval_fairness_grou...</td>\n",
       "      <td>29.908615</td>\n",
       "      <td>89710</td>\n",
       "      <td>1.0</td>\n",
       "      <td>0.099217</td>\n",
       "      <td>0.899507</td>\n",
       "      <td>0.076484</td>\n",
       "      <td>0.917164</td>\n",
       "      <td>...</td>\n",
       "      <td>NaN</td>\n",
       "      <td>NaN</td>\n",
       "      <td>NaN</td>\n",
       "      <td>NaN</td>\n",
       "      <td>NaN</td>\n",
       "      <td>NaN</td>\n",
       "      <td>NaN</td>\n",
       "      <td>NaN</td>\n",
       "      <td>NaN</td>\n",
       "      <td>NaN</td>\n",
       "    </tr>\n",
       "    <tr>\n",
       "      <th>0</th>\n",
       "      <td>12</td>\n",
       "      <td>bb5ffbc14595629263e25f89a43b1115</td>\n",
       "      <td>{\"cutoff\": \"quantile_0.1\", \"eval_fairness_grou...</td>\n",
       "      <td>29.908615</td>\n",
       "      <td>89710</td>\n",
       "      <td>1.0</td>\n",
       "      <td>0.099217</td>\n",
       "      <td>0.899507</td>\n",
       "      <td>0.076484</td>\n",
       "      <td>0.917164</td>\n",
       "      <td>...</td>\n",
       "      <td>0.120904</td>\n",
       "      <td>0.141296</td>\n",
       "      <td>0.841459</td>\n",
       "      <td>0.913577</td>\n",
       "      <td>0.111909</td>\n",
       "      <td>0.012691</td>\n",
       "      <td>0.846835</td>\n",
       "      <td>0.923319</td>\n",
       "      <td>20540.0</td>\n",
       "      <td>69170.0</td>\n",
       "    </tr>\n",
       "    <tr>\n",
       "      <th>0</th>\n",
       "      <td>12</td>\n",
       "      <td>bb5ffbc14595629263e25f89a43b1115</td>\n",
       "      <td>{\"cutoff\": \"quantile_0.25\", \"eval_fairness_gro...</td>\n",
       "      <td>29.908615</td>\n",
       "      <td>89710</td>\n",
       "      <td>1.0</td>\n",
       "      <td>0.123505</td>\n",
       "      <td>0.869348</td>\n",
       "      <td>0.077195</td>\n",
       "      <td>0.900444</td>\n",
       "      <td>...</td>\n",
       "      <td>NaN</td>\n",
       "      <td>NaN</td>\n",
       "      <td>NaN</td>\n",
       "      <td>NaN</td>\n",
       "      <td>NaN</td>\n",
       "      <td>NaN</td>\n",
       "      <td>NaN</td>\n",
       "      <td>NaN</td>\n",
       "      <td>NaN</td>\n",
       "      <td>NaN</td>\n",
       "    </tr>\n",
       "    <tr>\n",
       "      <th>0</th>\n",
       "      <td>12</td>\n",
       "      <td>bb5ffbc14595629263e25f89a43b1115</td>\n",
       "      <td>{\"cutoff\": \"quantile_0.25\", \"eval_fairness_gro...</td>\n",
       "      <td>29.908615</td>\n",
       "      <td>89710</td>\n",
       "      <td>1.0</td>\n",
       "      <td>0.123505</td>\n",
       "      <td>0.869348</td>\n",
       "      <td>0.077195</td>\n",
       "      <td>0.900444</td>\n",
       "      <td>...</td>\n",
       "      <td>0.135695</td>\n",
       "      <td>0.161092</td>\n",
       "      <td>0.682093</td>\n",
       "      <td>0.749525</td>\n",
       "      <td>0.178209</td>\n",
       "      <td>0.054705</td>\n",
       "      <td>0.698199</td>\n",
       "      <td>0.775394</td>\n",
       "      <td>20540.0</td>\n",
       "      <td>69170.0</td>\n",
       "    </tr>\n",
       "  </tbody>\n",
       "</table>\n",
       "<p>4 rows × 50 columns</p>\n",
       "</div>"
      ],
      "text/plain": [
       "  run_no                       universe_id  \\\n",
       "0     12  bb5ffbc14595629263e25f89a43b1115   \n",
       "0     12  bb5ffbc14595629263e25f89a43b1115   \n",
       "0     12  bb5ffbc14595629263e25f89a43b1115   \n",
       "0     12  bb5ffbc14595629263e25f89a43b1115   \n",
       "\n",
       "                                   universe_settings  execution_time  \\\n",
       "0  {\"cutoff\": \"quantile_0.1\", \"eval_fairness_grou...       29.908615   \n",
       "0  {\"cutoff\": \"quantile_0.1\", \"eval_fairness_grou...       29.908615   \n",
       "0  {\"cutoff\": \"quantile_0.25\", \"eval_fairness_gro...       29.908615   \n",
       "0  {\"cutoff\": \"quantile_0.25\", \"eval_fairness_gro...       29.908615   \n",
       "\n",
       "   test_size_n  test_size_frac  fair_main_equalized_odds_difference  \\\n",
       "0        89710             1.0                             0.099217   \n",
       "0        89710             1.0                             0.099217   \n",
       "0        89710             1.0                             0.123505   \n",
       "0        89710             1.0                             0.123505   \n",
       "\n",
       "   fair_main_equalized_odds_ratio  fair_main_demographic_parity_difference  \\\n",
       "0                        0.899507                                 0.076484   \n",
       "0                        0.899507                                 0.076484   \n",
       "0                        0.869348                                 0.077195   \n",
       "0                        0.869348                                 0.077195   \n",
       "\n",
       "   fair_main_demographic_parity_ratio  ...  perf_grp_precision_0  \\\n",
       "0                            0.917164  ...                   NaN   \n",
       "0                            0.917164  ...              0.120904   \n",
       "0                            0.900444  ...                   NaN   \n",
       "0                            0.900444  ...              0.135695   \n",
       "\n",
       "   perf_grp_precision_1  perf_grp_false positive rate_0  \\\n",
       "0                   NaN                             NaN   \n",
       "0              0.141296                        0.841459   \n",
       "0                   NaN                             NaN   \n",
       "0              0.161092                        0.682093   \n",
       "\n",
       "   perf_grp_false positive rate_1  perf_grp_false negative rate_0  \\\n",
       "0                             NaN                             NaN   \n",
       "0                        0.913577                        0.111909   \n",
       "0                             NaN                             NaN   \n",
       "0                        0.749525                        0.178209   \n",
       "\n",
       "   perf_grp_false negative rate_1  perf_grp_selection rate_0  \\\n",
       "0                             NaN                        NaN   \n",
       "0                        0.012691                   0.846835   \n",
       "0                             NaN                        NaN   \n",
       "0                        0.054705                   0.698199   \n",
       "\n",
       "   perf_grp_selection rate_1  perf_grp_count_0  perf_grp_count_1  \n",
       "0                        NaN               NaN               NaN  \n",
       "0                   0.923319           20540.0           69170.0  \n",
       "0                        NaN               NaN               NaN  \n",
       "0                   0.775394           20540.0           69170.0  \n",
       "\n",
       "[4 rows x 50 columns]"
      ]
     },
     "execution_count": 79,
     "metadata": {},
     "output_type": "execute_result"
    }
   ],
   "source": [
    "final_output = universe_analysis.generate_final_output(\n",
    "    y_pred_prob=probs_test,\n",
    "    y_test=y_true,\n",
    "    org_test=org_test,\n",
    "    filter_data=filter_sub_universe_data,\n",
    "    cp_metrics_df=cp_metrics_df,\n",
    "    save=True,\n",
    ")\n",
    "final_output"
   ]
  },
  {
   "cell_type": "code",
   "execution_count": null,
   "id": "721ff514-cb11-46f8-b6fc-50392f74b5cb",
   "metadata": {
    "papermill": {
     "duration": 0.015361,
     "end_time": "2025-07-30T14:21:56.568424",
     "exception": false,
     "start_time": "2025-07-30T14:21:56.553063",
     "status": "completed"
    },
    "tags": []
   },
   "outputs": [],
   "source": []
  }
 ],
 "metadata": {
  "celltoolbar": "Tags",
  "kernelspec": {
   "display_name": "Python (CMA Fairness)",
   "language": "python",
   "name": "cma_fair_env"
  },
  "language_info": {
   "codemirror_mode": {
    "name": "ipython",
    "version": 3
   },
   "file_extension": ".py",
   "mimetype": "text/x-python",
   "name": "python",
   "nbconvert_exporter": "python",
   "pygments_lexer": "ipython3",
   "version": "3.10.12"
  },
  "papermill": {
   "default_parameters": {},
   "duration": 52.803243,
   "end_time": "2025-07-30T14:21:57.202134",
   "environment_variables": {},
   "exception": null,
   "input_path": "universe_analysis.ipynb",
   "output_path": "output/runs/12/notebooks/m_12-bb5ffbc14595629263e25f89a43b1115.ipynb",
   "parameters": {
    "output_dir": "output",
    "run_no": "12",
    "seed": "2023",
    "universe": "{\"cutoff\": [\"quantile_0.1\", \"quantile_0.25\"], \"eval_fairness_grouping\": [\"majority-minority\", \"nationality-all\"], \"exclude_features\": \"sex\", \"exclude_subgroups\": \"keep-all\", \"model\": \"rf\", \"scale\": \"scale\", \"training_size\": \"1k\", \"training_year\": \"2014\"}",
    "universe_id": "bb5ffbc14595629263e25f89a43b1115"
   },
   "start_time": "2025-07-30T14:21:04.398891",
   "version": "2.6.0"
  }
 },
 "nbformat": 4,
 "nbformat_minor": 5
}