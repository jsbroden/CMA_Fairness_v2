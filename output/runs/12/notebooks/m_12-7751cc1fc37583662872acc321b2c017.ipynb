{
 "cells": [
  {
   "cell_type": "code",
   "execution_count": 1,
   "id": "f159f837-637b-42ba-96b5-ec9a68c44524",
   "metadata": {
    "execution": {
     "iopub.execute_input": "2025-07-30T13:10:40.251275Z",
     "iopub.status.busy": "2025-07-30T13:10:40.250518Z",
     "iopub.status.idle": "2025-07-30T13:10:40.266405Z",
     "shell.execute_reply": "2025-07-30T13:10:40.264903Z"
    },
    "papermill": {
     "duration": 0.037838,
     "end_time": "2025-07-30T13:10:40.268259",
     "exception": false,
     "start_time": "2025-07-30T13:10:40.230421",
     "status": "completed"
    },
    "tags": []
   },
   "outputs": [
    {
     "name": "stdout",
     "output_type": "stream",
     "text": [
      "/dss/dsshome1/0C/ra93lal2/cma/CMA_Fairness_v2\n"
     ]
    },
    {
     "name": "stderr",
     "output_type": "stream",
     "text": [
      "/dss/dsshome1/0C/ra93lal2/.local/share/virtualenvs/CMA_Fairness_v2-3j10GkSs/lib/python3.10/site-packages/IPython/core/magics/osm.py:393: UserWarning: This is now an optional IPython functionality, using bookmarks requires you to install the `pickleshare` library.\n",
      "  bkms = self.shell.db.get('bookmarks', {})\n",
      "/dss/dsshome1/0C/ra93lal2/.local/share/virtualenvs/CMA_Fairness_v2-3j10GkSs/lib/python3.10/site-packages/IPython/core/magics/osm.py:417: UserWarning: This is now an optional IPython functionality, setting dhist requires you to install the `pickleshare` library.\n",
      "  self.shell.db['dhist'] = compress_dhist(dhist)[-100:]\n"
     ]
    }
   ],
   "source": [
    "%cd ~/cma/CMA_Fairness_v2"
   ]
  },
  {
   "cell_type": "markdown",
   "id": "de2603b9",
   "metadata": {
    "papermill": {
     "duration": 0.018622,
     "end_time": "2025-07-30T13:10:40.307085",
     "exception": false,
     "start_time": "2025-07-30T13:10:40.288463",
     "status": "completed"
    },
    "tags": []
   },
   "source": [
    "The following cell holds the definition of our parameters, these values can be overriden by rendering the with e.g. the following command:\n",
    "\n",
    "papermill -p alpha 0.2 -p ratio 0.3 universe_analysis.ipynb output/test_run.ipynb"
   ]
  },
  {
   "cell_type": "code",
   "execution_count": 2,
   "id": "a80968a0-40bb-4fa9-85ef-2d5eefb01975",
   "metadata": {
    "execution": {
     "iopub.execute_input": "2025-07-30T13:10:40.347195Z",
     "iopub.status.busy": "2025-07-30T13:10:40.346546Z",
     "iopub.status.idle": "2025-07-30T13:10:40.354086Z",
     "shell.execute_reply": "2025-07-30T13:10:40.352984Z"
    },
    "papermill": {
     "duration": 0.029967,
     "end_time": "2025-07-30T13:10:40.355793",
     "exception": false,
     "start_time": "2025-07-30T13:10:40.325826",
     "status": "completed"
    },
    "tags": []
   },
   "outputs": [
    {
     "name": "stdout",
     "output_type": "stream",
     "text": [
      "Current working directory: /dss/dsshome1/0C/ra93lal2/cma/CMA_Fairness_v2\n"
     ]
    }
   ],
   "source": [
    "import os\n",
    "print(\"Current working directory:\", os.getcwd())"
   ]
  },
  {
   "cell_type": "code",
   "execution_count": 3,
   "id": "2dce4c03",
   "metadata": {
    "execution": {
     "iopub.execute_input": "2025-07-30T13:10:40.397360Z",
     "iopub.status.busy": "2025-07-30T13:10:40.396386Z",
     "iopub.status.idle": "2025-07-30T13:10:40.404694Z",
     "shell.execute_reply": "2025-07-30T13:10:40.403367Z"
    },
    "papermill": {
     "duration": 0.030732,
     "end_time": "2025-07-30T13:10:40.406699",
     "exception": false,
     "start_time": "2025-07-30T13:10:40.375967",
     "status": "completed"
    },
    "tags": [
     "parameters"
    ]
   },
   "outputs": [],
   "source": [
    "run_no = 0\n",
    "universe_id = \"test\"\n",
    "universe = {\n",
    "    \"training_size\": \"25k\", # \"25k\", \"5k\", \"1k\"\n",
    "    \"training_year\": \"2014\", # \"2014\", \"2012_14\", \"2010_14\"\n",
    "    \"scale\": \"scale\", # \"scale\", \"do-not-scale\",\n",
    "    #\"stratify_split\": \"target\", # \"none\", \"target\", \"protected-attribute\", \"both\",\n",
    "    \"model\": \"elasticnet\", # \"logreg\", \"penalized_logreg\", \"rf\", \"gbm\", \"elasticnet\"\n",
    "    \"cutoff\": [\"quantile_0.15\", \"quantile_0.30\"],\n",
    "    \"exclude_features\": \"age\", # \"none\", \"nationality\", \"sex\", \"nationality-sex\", \"age\"\n",
    "    \"exclude_subgroups\": \"keep-all\", # \"keep-all\", \"drop-non-german\"\n",
    "    \"eval_fairness_grouping\": [\"majority-minority\", \"nationality-all\"]\n",
    "}\n",
    "\n",
    "output_dir=\"./output\"\n",
    "seed=0"
   ]
  },
  {
   "cell_type": "code",
   "execution_count": 4,
   "id": "92f8a400",
   "metadata": {
    "execution": {
     "iopub.execute_input": "2025-07-30T13:10:40.448902Z",
     "iopub.status.busy": "2025-07-30T13:10:40.448126Z",
     "iopub.status.idle": "2025-07-30T13:10:40.454875Z",
     "shell.execute_reply": "2025-07-30T13:10:40.453863Z"
    },
    "papermill": {
     "duration": 0.028757,
     "end_time": "2025-07-30T13:10:40.456375",
     "exception": false,
     "start_time": "2025-07-30T13:10:40.427618",
     "status": "completed"
    },
    "tags": [
     "injected-parameters"
    ]
   },
   "outputs": [],
   "source": [
    "# Parameters\n",
    "universe_id = \"7751cc1fc37583662872acc321b2c017\"\n",
    "run_no = \"12\"\n",
    "universe = \"{\\\"cutoff\\\": [\\\"quantile_0.1\\\", \\\"quantile_0.25\\\"], \\\"eval_fairness_grouping\\\": [\\\"majority-minority\\\", \\\"nationality-all\\\"], \\\"exclude_features\\\": \\\"nationality-sex\\\", \\\"exclude_subgroups\\\": \\\"keep-all\\\", \\\"model\\\": \\\"elasticnet\\\", \\\"scale\\\": \\\"scale\\\", \\\"training_size\\\": \\\"25k\\\", \\\"training_year\\\": \\\"2012_14\\\"}\"\n",
    "output_dir = \"output\"\n",
    "seed = \"2023\"\n"
   ]
  },
  {
   "cell_type": "code",
   "execution_count": 5,
   "id": "1650acaf",
   "metadata": {
    "execution": {
     "iopub.execute_input": "2025-07-30T13:10:40.501516Z",
     "iopub.status.busy": "2025-07-30T13:10:40.500831Z",
     "iopub.status.idle": "2025-07-30T13:10:40.507571Z",
     "shell.execute_reply": "2025-07-30T13:10:40.506586Z"
    },
    "papermill": {
     "duration": 0.032493,
     "end_time": "2025-07-30T13:10:40.509372",
     "exception": false,
     "start_time": "2025-07-30T13:10:40.476879",
     "status": "completed"
    },
    "tags": []
   },
   "outputs": [],
   "source": [
    "import json\n",
    "# Parse universe into dict if it is passed as a string\n",
    "if isinstance(universe, str):\n",
    "    universe = json.loads(universe)"
   ]
  },
  {
   "cell_type": "code",
   "execution_count": 6,
   "id": "16620c48",
   "metadata": {
    "execution": {
     "iopub.execute_input": "2025-07-30T13:10:40.551862Z",
     "iopub.status.busy": "2025-07-30T13:10:40.551240Z",
     "iopub.status.idle": "2025-07-30T13:10:40.595313Z",
     "shell.execute_reply": "2025-07-30T13:10:40.594389Z"
    },
    "papermill": {
     "duration": 0.068055,
     "end_time": "2025-07-30T13:10:40.597469",
     "exception": false,
     "start_time": "2025-07-30T13:10:40.529414",
     "status": "completed"
    },
    "tags": []
   },
   "outputs": [],
   "source": [
    "# Auto-reload the custom package\n",
    "%load_ext autoreload\n",
    "%autoreload 1\n",
    "%aimport fairness_multiverse"
   ]
  },
  {
   "cell_type": "code",
   "execution_count": 7,
   "id": "01c5c9f3",
   "metadata": {
    "execution": {
     "iopub.execute_input": "2025-07-30T13:10:40.642191Z",
     "iopub.status.busy": "2025-07-30T13:10:40.641540Z",
     "iopub.status.idle": "2025-07-30T13:10:42.626686Z",
     "shell.execute_reply": "2025-07-30T13:10:42.625669Z"
    },
    "papermill": {
     "duration": 2.009218,
     "end_time": "2025-07-30T13:10:42.628829",
     "exception": false,
     "start_time": "2025-07-30T13:10:40.619611",
     "status": "completed"
    },
    "tags": []
   },
   "outputs": [],
   "source": [
    "from fairness_multiverse.universe import UniverseAnalysis\n",
    "\n",
    "universe_analysis = UniverseAnalysis(\n",
    "    run_no = run_no,\n",
    "    universe_id = universe_id,\n",
    "    universe = universe,\n",
    "    output_dir=output_dir,\n",
    ")"
   ]
  },
  {
   "cell_type": "code",
   "execution_count": 8,
   "id": "106241f5",
   "metadata": {
    "execution": {
     "iopub.execute_input": "2025-07-30T13:10:42.676673Z",
     "iopub.status.busy": "2025-07-30T13:10:42.676144Z",
     "iopub.status.idle": "2025-07-30T13:10:42.682969Z",
     "shell.execute_reply": "2025-07-30T13:10:42.681898Z"
    },
    "papermill": {
     "duration": 0.033519,
     "end_time": "2025-07-30T13:10:42.684926",
     "exception": false,
     "start_time": "2025-07-30T13:10:42.651407",
     "status": "completed"
    },
    "tags": []
   },
   "outputs": [
    {
     "name": "stdout",
     "output_type": "stream",
     "text": [
      "Using Seed: 2023\n"
     ]
    }
   ],
   "source": [
    "import numpy as np\n",
    "parsed_seed = int(seed)\n",
    "np.random.seed(parsed_seed)\n",
    "print(f\"Using Seed: {parsed_seed}\")"
   ]
  },
  {
   "cell_type": "markdown",
   "id": "e0ebdc57",
   "metadata": {
    "papermill": {
     "duration": 0.021659,
     "end_time": "2025-07-30T13:10:42.728998",
     "exception": false,
     "start_time": "2025-07-30T13:10:42.707339",
     "status": "completed"
    },
    "tags": []
   },
   "source": [
    "# Loading Data"
   ]
  },
  {
   "cell_type": "markdown",
   "id": "681925a3",
   "metadata": {
    "papermill": {
     "duration": 0.01948,
     "end_time": "2025-07-30T13:10:42.769344",
     "exception": false,
     "start_time": "2025-07-30T13:10:42.749864",
     "status": "completed"
    },
    "tags": []
   },
   "source": [
    "Load siab_train, siab_test, siab_calib and/or \n",
    "load siab_train_features, siab_train_labels"
   ]
  },
  {
   "cell_type": "code",
   "execution_count": 9,
   "id": "f0496b8a",
   "metadata": {
    "execution": {
     "iopub.execute_input": "2025-07-30T13:10:42.803818Z",
     "iopub.status.busy": "2025-07-30T13:10:42.803424Z",
     "iopub.status.idle": "2025-07-30T13:10:55.353642Z",
     "shell.execute_reply": "2025-07-30T13:10:55.352120Z"
    },
    "papermill": {
     "duration": 12.568077,
     "end_time": "2025-07-30T13:10:55.355541",
     "exception": false,
     "start_time": "2025-07-30T13:10:42.787464",
     "status": "completed"
    },
    "tags": []
   },
   "outputs": [
    {
     "name": "stdout",
     "output_type": "stream",
     "text": [
      "Loading SIAB data from cache: data/siab_cached.csv.gz\n"
     ]
    },
    {
     "name": "stdout",
     "output_type": "stream",
     "text": [
      "(643690, 164)\n"
     ]
    }
   ],
   "source": [
    "from pathlib import Path\n",
    "import pandas as pd\n",
    "\n",
    "# File paths\n",
    "raw_file = Path(\"data/raw/siab.csv\")\n",
    "cache_file = Path(\"data/siab_cached.csv.gz\")\n",
    "\n",
    "# Ensure cache directory exists\n",
    "cache_file.parent.mkdir(parents=True, exist_ok=True)\n",
    "\n",
    "# Load with simple caching\n",
    "if cache_file.exists():\n",
    "    print(f\"Loading SIAB data from cache: {cache_file}\")\n",
    "    siab = pd.read_csv(cache_file, compression='gzip')\n",
    "else:\n",
    "    print(f\"Cache not found. Reading raw SIAB data: {raw_file}\")\n",
    "    siab = pd.read_csv(raw_file)\n",
    "    siab.to_csv(cache_file, index=False, compression='gzip')\n",
    "    print(f\"Cached SIAB data to: {cache_file}\")\n",
    "\n",
    "# Now use `siab` DataFrame as needed\n",
    "print(siab.shape)"
   ]
  },
  {
   "cell_type": "code",
   "execution_count": 10,
   "id": "db0ca512-5f53-4dba-abdb-a2888bca41ba",
   "metadata": {
    "execution": {
     "iopub.execute_input": "2025-07-30T13:10:55.399985Z",
     "iopub.status.busy": "2025-07-30T13:10:55.399607Z",
     "iopub.status.idle": "2025-07-30T13:10:55.404767Z",
     "shell.execute_reply": "2025-07-30T13:10:55.404089Z"
    },
    "papermill": {
     "duration": 0.026433,
     "end_time": "2025-07-30T13:10:55.406095",
     "exception": false,
     "start_time": "2025-07-30T13:10:55.379662",
     "status": "completed"
    },
    "tags": []
   },
   "outputs": [],
   "source": [
    "#siab"
   ]
  },
  {
   "cell_type": "code",
   "execution_count": 11,
   "id": "a0edb063",
   "metadata": {
    "execution": {
     "iopub.execute_input": "2025-07-30T13:10:55.428985Z",
     "iopub.status.busy": "2025-07-30T13:10:55.428565Z",
     "iopub.status.idle": "2025-07-30T13:10:55.433240Z",
     "shell.execute_reply": "2025-07-30T13:10:55.432041Z"
    },
    "papermill": {
     "duration": 0.017398,
     "end_time": "2025-07-30T13:10:55.434816",
     "exception": false,
     "start_time": "2025-07-30T13:10:55.417418",
     "status": "completed"
    },
    "tags": []
   },
   "outputs": [],
   "source": [
    "#import pandas as pd\n",
    "#\n",
    "#X_train = pd.read_csv(\"./data/X_train.csv\")\n",
    "#y_train = pd.read_csv(\"./data/y_train.csv\")"
   ]
  },
  {
   "cell_type": "code",
   "execution_count": 12,
   "id": "63d08085",
   "metadata": {
    "execution": {
     "iopub.execute_input": "2025-07-30T13:10:55.458937Z",
     "iopub.status.busy": "2025-07-30T13:10:55.458646Z",
     "iopub.status.idle": "2025-07-30T13:10:55.462396Z",
     "shell.execute_reply": "2025-07-30T13:10:55.461736Z"
    },
    "papermill": {
     "duration": 0.016431,
     "end_time": "2025-07-30T13:10:55.463713",
     "exception": false,
     "start_time": "2025-07-30T13:10:55.447282",
     "status": "completed"
    },
    "tags": []
   },
   "outputs": [],
   "source": [
    "#X_test = pd.read_csv(\"./data/X_test.csv\")\n",
    "#y_true = pd.read_csv(\"./data/y_test.csv\")"
   ]
  },
  {
   "cell_type": "code",
   "execution_count": 13,
   "id": "98a8d0fa-1d3d-4ed8-bb2c-281470e24add",
   "metadata": {
    "execution": {
     "iopub.execute_input": "2025-07-30T13:10:55.488700Z",
     "iopub.status.busy": "2025-07-30T13:10:55.487905Z",
     "iopub.status.idle": "2025-07-30T13:10:55.493255Z",
     "shell.execute_reply": "2025-07-30T13:10:55.491868Z"
    },
    "papermill": {
     "duration": 0.020008,
     "end_time": "2025-07-30T13:10:55.494980",
     "exception": false,
     "start_time": "2025-07-30T13:10:55.474972",
     "status": "completed"
    },
    "tags": []
   },
   "outputs": [],
   "source": [
    "# Calibration data for conformal\n",
    "#X_calib = pd.read_csv(\"./data/X_calib.csv\")\n",
    "#y_calib = pd.read_csv(\"./data/y_calib.csv\")"
   ]
  },
  {
   "cell_type": "markdown",
   "id": "997051c5-15bd-4b69-9786-c3001a3ce484",
   "metadata": {
    "papermill": {
     "duration": 0.022049,
     "end_time": "2025-07-30T13:10:55.539966",
     "exception": false,
     "start_time": "2025-07-30T13:10:55.517917",
     "status": "completed"
    },
    "tags": []
   },
   "source": [
    "# Splitting Data and Setting Training Data Size"
   ]
  },
  {
   "cell_type": "code",
   "execution_count": 14,
   "id": "e993b61f-042d-41a6-8c81-f55681f86335",
   "metadata": {
    "execution": {
     "iopub.execute_input": "2025-07-30T13:10:55.567936Z",
     "iopub.status.busy": "2025-07-30T13:10:55.567532Z",
     "iopub.status.idle": "2025-07-30T13:10:55.579005Z",
     "shell.execute_reply": "2025-07-30T13:10:55.578311Z"
    },
    "papermill": {
     "duration": 0.025895,
     "end_time": "2025-07-30T13:10:55.580369",
     "exception": false,
     "start_time": "2025-07-30T13:10:55.554474",
     "status": "completed"
    },
    "tags": []
   },
   "outputs": [],
   "source": [
    "def sample_by_year_size(df,\n",
    "                        training_year: str,\n",
    "                        training_size: str,\n",
    "                        random_state: int = 42):\n",
    "    # --- parse training_year into a list of int years ---\n",
    "    if \"_\" in training_year:\n",
    "        start_str, end_str = training_year.split(\"_\", 1)\n",
    "        start = int(start_str)\n",
    "        end   = int(end_str) if len(end_str) == 4 else (int(end_str) + (start // 100)*100)\n",
    "        years = list(range(start, end + 1))\n",
    "    else:\n",
    "        years = [int(training_year)]\n",
    "\n",
    "    df = df[df[\"year\"].isin(years)].reset_index(drop=True)\n",
    "\n",
    "    # --- map training_size to total number of samples ---\n",
    "    total_map = {\"25k\": 25_000, \"5k\": 5_000, \"1k\": 1_000}\n",
    "    if training_size not in total_map:\n",
    "        return df  # e.g. \"all\"\n",
    "\n",
    "    total_samples = total_map[training_size]\n",
    "    n_years       = len(years)\n",
    "    base          = total_samples // n_years\n",
    "    remainder     = total_samples % n_years\n",
    "\n",
    "    # --- build a dict: year -> how many to sample ---\n",
    "    # give +1 to the first `remainder` years in ascending order\n",
    "    quotas = {\n",
    "        year: base + (1 if idx < remainder else 0)\n",
    "        for idx, year in enumerate(sorted(years))\n",
    "    }\n",
    "\n",
    "    # --- sample per‐year according to the quota dict ---\n",
    "    sampled = (\n",
    "        df\n",
    "        .groupby(\"year\", group_keys=False)\n",
    "        .apply(lambda grp: grp.sample(\n",
    "            n=min(len(grp), quotas[grp.name]),\n",
    "            random_state=random_state))\n",
    "        .reset_index(drop=True)\n",
    "    )\n",
    "\n",
    "    return sampled"
   ]
  },
  {
   "cell_type": "code",
   "execution_count": 15,
   "id": "c0ccd338-0e02-41f3-a09d-f56f9266e3fb",
   "metadata": {
    "execution": {
     "iopub.execute_input": "2025-07-30T13:10:55.604856Z",
     "iopub.status.busy": "2025-07-30T13:10:55.604320Z",
     "iopub.status.idle": "2025-07-30T13:10:55.613417Z",
     "shell.execute_reply": "2025-07-30T13:10:55.612683Z"
    },
    "papermill": {
     "duration": 0.022575,
     "end_time": "2025-07-30T13:10:55.614757",
     "exception": false,
     "start_time": "2025-07-30T13:10:55.592182",
     "status": "completed"
    },
    "tags": []
   },
   "outputs": [
    {
     "data": {
      "text/plain": [
       "'25k'"
      ]
     },
     "execution_count": 15,
     "metadata": {},
     "output_type": "execute_result"
    }
   ],
   "source": [
    "universe[\"training_size\"]"
   ]
  },
  {
   "cell_type": "code",
   "execution_count": 16,
   "id": "ca707fd7-8047-4acd-bfa5-66248fbbf8e6",
   "metadata": {
    "execution": {
     "iopub.execute_input": "2025-07-30T13:10:55.639673Z",
     "iopub.status.busy": "2025-07-30T13:10:55.638969Z",
     "iopub.status.idle": "2025-07-30T13:10:55.645089Z",
     "shell.execute_reply": "2025-07-30T13:10:55.644333Z"
    },
    "papermill": {
     "duration": 0.019555,
     "end_time": "2025-07-30T13:10:55.646393",
     "exception": false,
     "start_time": "2025-07-30T13:10:55.626838",
     "status": "completed"
    },
    "tags": []
   },
   "outputs": [
    {
     "data": {
      "text/plain": [
       "'2012_14'"
      ]
     },
     "execution_count": 16,
     "metadata": {},
     "output_type": "execute_result"
    }
   ],
   "source": [
    "universe[\"training_year\"]"
   ]
  },
  {
   "cell_type": "code",
   "execution_count": 17,
   "id": "aea9c6ef-6f46-42c8-85eb-5a62025c1508",
   "metadata": {
    "execution": {
     "iopub.execute_input": "2025-07-30T13:10:55.671219Z",
     "iopub.status.busy": "2025-07-30T13:10:55.670686Z",
     "iopub.status.idle": "2025-07-30T13:10:56.382291Z",
     "shell.execute_reply": "2025-07-30T13:10:56.381537Z"
    },
    "papermill": {
     "duration": 0.725733,
     "end_time": "2025-07-30T13:10:56.384150",
     "exception": false,
     "start_time": "2025-07-30T13:10:55.658417",
     "status": "completed"
    },
    "tags": []
   },
   "outputs": [],
   "source": [
    "siab_train = sample_by_year_size(siab,\n",
    "                               training_year=universe[\"training_year\"],\n",
    "                               training_size=universe[\"training_size\"])"
   ]
  },
  {
   "cell_type": "code",
   "execution_count": 18,
   "id": "8d3afb32-789d-442c-8d5d-9f5aa8dd2eed",
   "metadata": {
    "execution": {
     "iopub.execute_input": "2025-07-30T13:10:56.429805Z",
     "iopub.status.busy": "2025-07-30T13:10:56.429369Z",
     "iopub.status.idle": "2025-07-30T13:10:56.436563Z",
     "shell.execute_reply": "2025-07-30T13:10:56.435586Z"
    },
    "papermill": {
     "duration": 0.032682,
     "end_time": "2025-07-30T13:10:56.438876",
     "exception": false,
     "start_time": "2025-07-30T13:10:56.406194",
     "status": "completed"
    },
    "tags": []
   },
   "outputs": [
    {
     "data": {
      "text/plain": [
       "(25000, 164)"
      ]
     },
     "execution_count": 18,
     "metadata": {},
     "output_type": "execute_result"
    }
   ],
   "source": [
    "siab_train.shape"
   ]
  },
  {
   "cell_type": "code",
   "execution_count": 19,
   "id": "d582db68-1a4c-47fb-84fc-08518dc1975a",
   "metadata": {
    "execution": {
     "iopub.execute_input": "2025-07-30T13:10:56.464237Z",
     "iopub.status.busy": "2025-07-30T13:10:56.463692Z",
     "iopub.status.idle": "2025-07-30T13:10:56.471643Z",
     "shell.execute_reply": "2025-07-30T13:10:56.470931Z"
    },
    "papermill": {
     "duration": 0.021697,
     "end_time": "2025-07-30T13:10:56.472895",
     "exception": false,
     "start_time": "2025-07-30T13:10:56.451198",
     "status": "completed"
    },
    "tags": []
   },
   "outputs": [
    {
     "data": {
      "text/plain": [
       "year\n",
       "2012    8334\n",
       "2013    8333\n",
       "2014    8333\n",
       "dtype: int64"
      ]
     },
     "metadata": {},
     "output_type": "display_data"
    }
   ],
   "source": [
    "display(siab_train.groupby(\"year\").size())"
   ]
  },
  {
   "cell_type": "code",
   "execution_count": 20,
   "id": "a561edb4-d032-42cb-8256-22eac1111c64",
   "metadata": {
    "execution": {
     "iopub.execute_input": "2025-07-30T13:10:56.497622Z",
     "iopub.status.busy": "2025-07-30T13:10:56.497117Z",
     "iopub.status.idle": "2025-07-30T13:10:56.720000Z",
     "shell.execute_reply": "2025-07-30T13:10:56.719235Z"
    },
    "papermill": {
     "duration": 0.236558,
     "end_time": "2025-07-30T13:10:56.721528",
     "exception": false,
     "start_time": "2025-07-30T13:10:56.484970",
     "status": "completed"
    },
    "tags": []
   },
   "outputs": [],
   "source": [
    "#siab_train = siab_s[siab_s.year < 2015]\n",
    "siab_calib = siab[siab.year == 2015]\n",
    "siab_test = siab[siab.year == 2016]"
   ]
  },
  {
   "cell_type": "code",
   "execution_count": 21,
   "id": "472de16f-c3db-4916-846b-1f0de9cf1746",
   "metadata": {
    "execution": {
     "iopub.execute_input": "2025-07-30T13:10:56.749275Z",
     "iopub.status.busy": "2025-07-30T13:10:56.748970Z",
     "iopub.status.idle": "2025-07-30T13:10:56.761469Z",
     "shell.execute_reply": "2025-07-30T13:10:56.760600Z"
    },
    "papermill": {
     "duration": 0.027403,
     "end_time": "2025-07-30T13:10:56.762800",
     "exception": false,
     "start_time": "2025-07-30T13:10:56.735397",
     "status": "completed"
    },
    "tags": []
   },
   "outputs": [],
   "source": [
    "X_train = siab_train.iloc[:,4:164]\n",
    "y_train = siab_train.iloc[:, [3]]"
   ]
  },
  {
   "cell_type": "code",
   "execution_count": 22,
   "id": "828c96af-f43a-4ed6-ba47-8ac73a47d56c",
   "metadata": {
    "execution": {
     "iopub.execute_input": "2025-07-30T13:10:56.791161Z",
     "iopub.status.busy": "2025-07-30T13:10:56.790067Z",
     "iopub.status.idle": "2025-07-30T13:10:56.837235Z",
     "shell.execute_reply": "2025-07-30T13:10:56.836364Z"
    },
    "papermill": {
     "duration": 0.063782,
     "end_time": "2025-07-30T13:10:56.838705",
     "exception": false,
     "start_time": "2025-07-30T13:10:56.774923",
     "status": "completed"
    },
    "tags": []
   },
   "outputs": [],
   "source": [
    "X_calib = siab_calib.iloc[:,4:164]\n",
    "y_calib = siab_calib.iloc[:, [3]]"
   ]
  },
  {
   "cell_type": "code",
   "execution_count": 23,
   "id": "c34be9c3-6bd6-476e-acd3-845840e303be",
   "metadata": {
    "execution": {
     "iopub.execute_input": "2025-07-30T13:10:56.866095Z",
     "iopub.status.busy": "2025-07-30T13:10:56.865010Z",
     "iopub.status.idle": "2025-07-30T13:10:56.918752Z",
     "shell.execute_reply": "2025-07-30T13:10:56.917559Z"
    },
    "papermill": {
     "duration": 0.067912,
     "end_time": "2025-07-30T13:10:56.920639",
     "exception": false,
     "start_time": "2025-07-30T13:10:56.852727",
     "status": "completed"
    },
    "tags": []
   },
   "outputs": [],
   "source": [
    "X_test = siab_test.iloc[:,4:164]\n",
    "y_true = siab_test.iloc[:, [3]]"
   ]
  },
  {
   "cell_type": "markdown",
   "id": "9901737e-04df-44f0-9100-f5ad144ed040",
   "metadata": {
    "papermill": {
     "duration": 0.023162,
     "end_time": "2025-07-30T13:10:56.965353",
     "exception": false,
     "start_time": "2025-07-30T13:10:56.942191",
     "status": "completed"
    },
    "tags": []
   },
   "source": [
    "# Splitting Data and Setting Training Data Size OLD VERSION"
   ]
  },
  {
   "cell_type": "code",
   "execution_count": 24,
   "id": "acbc8f7d-8fc8-4e86-8c59-5dcb0f58384b",
   "metadata": {
    "execution": {
     "iopub.execute_input": "2025-07-30T13:10:57.007084Z",
     "iopub.status.busy": "2025-07-30T13:10:57.006626Z",
     "iopub.status.idle": "2025-07-30T13:10:57.010924Z",
     "shell.execute_reply": "2025-07-30T13:10:57.010201Z"
    },
    "papermill": {
     "duration": 0.023398,
     "end_time": "2025-07-30T13:10:57.012144",
     "exception": false,
     "start_time": "2025-07-30T13:10:56.988746",
     "status": "completed"
    },
    "tags": []
   },
   "outputs": [],
   "source": [
    "#def sample_by_year(df, training_size, random_state=42):\n",
    "#    if training_size == \"2014\":\n",
    "#        return df[df[\"year\"] == 2014].reset_index(drop=True)\n",
    "#    \n",
    "#    size_map = {\n",
    "#        \"25k\": 5000,\n",
    "#        \"5k\": 1000,\n",
    "#        \"1k\": 200\n",
    "#    }\n",
    "#\n",
    "#    if training_size not in size_map:\n",
    "#        return df.reset_index(drop=True)  # use all data\n",
    "#\n",
    "#    n_per_year = size_map[training_size]\n",
    "#    grouped = df.groupby(\"year\")\n",
    "#    sampled = grouped.apply(lambda x: x.sample(n=min(n_per_year, len(x)), random_state=random_state))\n",
    "#    return sampled.reset_index(drop=True)"
   ]
  },
  {
   "cell_type": "code",
   "execution_count": 25,
   "id": "6d931f52-beaf-43ff-9e78-9d44a448d54e",
   "metadata": {
    "execution": {
     "iopub.execute_input": "2025-07-30T13:10:57.041063Z",
     "iopub.status.busy": "2025-07-30T13:10:57.040716Z",
     "iopub.status.idle": "2025-07-30T13:10:57.044766Z",
     "shell.execute_reply": "2025-07-30T13:10:57.044086Z"
    },
    "papermill": {
     "duration": 0.017875,
     "end_time": "2025-07-30T13:10:57.046041",
     "exception": false,
     "start_time": "2025-07-30T13:10:57.028166",
     "status": "completed"
    },
    "tags": []
   },
   "outputs": [],
   "source": [
    "#siab_s = sample_by_year(siab, universe[\"training_size\"])"
   ]
  },
  {
   "cell_type": "code",
   "execution_count": 26,
   "id": "5db0a40e-a4e2-4920-be85-b12ae061d70d",
   "metadata": {
    "execution": {
     "iopub.execute_input": "2025-07-30T13:10:57.093394Z",
     "iopub.status.busy": "2025-07-30T13:10:57.092900Z",
     "iopub.status.idle": "2025-07-30T13:10:57.098628Z",
     "shell.execute_reply": "2025-07-30T13:10:57.097016Z"
    },
    "papermill": {
     "duration": 0.033479,
     "end_time": "2025-07-30T13:10:57.100164",
     "exception": false,
     "start_time": "2025-07-30T13:10:57.066685",
     "status": "completed"
    },
    "tags": []
   },
   "outputs": [],
   "source": [
    "#display(siab_s.groupby(\"year\").size())"
   ]
  },
  {
   "cell_type": "code",
   "execution_count": 27,
   "id": "e6c733c5",
   "metadata": {
    "execution": {
     "iopub.execute_input": "2025-07-30T13:10:57.129374Z",
     "iopub.status.busy": "2025-07-30T13:10:57.128876Z",
     "iopub.status.idle": "2025-07-30T13:10:57.228160Z",
     "shell.execute_reply": "2025-07-30T13:10:57.227160Z"
    },
    "papermill": {
     "duration": 0.115305,
     "end_time": "2025-07-30T13:10:57.230395",
     "exception": false,
     "start_time": "2025-07-30T13:10:57.115090",
     "status": "completed"
    },
    "tags": []
   },
   "outputs": [],
   "source": [
    "# Auxiliary data needed downstream in the pipeline\n",
    "\n",
    "org_train = X_train.copy()\n",
    "org_test = X_test.copy()\n",
    "org_calib = X_calib.copy()"
   ]
  },
  {
   "cell_type": "code",
   "execution_count": 28,
   "id": "1466abac-c6da-4492-a62f-4240ae3783af",
   "metadata": {
    "execution": {
     "iopub.execute_input": "2025-07-30T13:10:57.281128Z",
     "iopub.status.busy": "2025-07-30T13:10:57.280689Z",
     "iopub.status.idle": "2025-07-30T13:10:57.286255Z",
     "shell.execute_reply": "2025-07-30T13:10:57.285285Z"
    },
    "papermill": {
     "duration": 0.033006,
     "end_time": "2025-07-30T13:10:57.288679",
     "exception": false,
     "start_time": "2025-07-30T13:10:57.255673",
     "status": "completed"
    },
    "tags": []
   },
   "outputs": [],
   "source": [
    "# put in other script?\n",
    "# Group sizes\n",
    "\n",
    "#def calculate_percentages(df, df_name):\n",
    "#    total_entries = len(df)\n",
    "#\n",
    "#    female_pct = (df['frau1'] == 1).mean() * 100\n",
    "#    non_german_pct = ((df['maxdeutsch1'] == 0) & (df['maxdeutsch.Missing.'] == 0)).mean() * 100\n",
    "#    non_german_male_pct = ((df['frau1'] == 0) & (df['maxdeutsch1'] == 0) & (df['maxdeutsch.Missing.'] == 0)).mean() * 100\n",
    "#    non_german_female_pct = ((df['frau1'] == 1) & (df['maxdeutsch1'] == 0) & (df['maxdeutsch.Missing.'] == 0)).mean() * 100\n",
    "#\n",
    "#    print(f\"--- {df_name} ---\")\n",
    "#    print(f\"Female: {female_pct:.2f}%\")\n",
    "#    print(f\"Non-German: {non_german_pct:.2f}%\")\n",
    "#    print(f\"Non-German Male: {non_german_male_pct:.2f}%\")\n",
    "#    print(f\"Non-German Female: {non_german_female_pct:.2f}%\\n\")\n",
    "#\n",
    "## Calculate for each DataFrame\n",
    "#calculate_percentages(siab_calib, \"siab_calib\")\n",
    "#calculate_percentages(siab_test, \"siab_test\")\n",
    "#calculate_percentages(siab_train, \"siab_train\")"
   ]
  },
  {
   "cell_type": "markdown",
   "id": "0a4a1b33",
   "metadata": {
    "papermill": {
     "duration": 0.012407,
     "end_time": "2025-07-30T13:10:57.315874",
     "exception": false,
     "start_time": "2025-07-30T13:10:57.303467",
     "status": "completed"
    },
    "tags": []
   },
   "source": [
    "# Preprocessing Data"
   ]
  },
  {
   "cell_type": "code",
   "execution_count": 29,
   "id": "ca879031",
   "metadata": {
    "execution": {
     "iopub.execute_input": "2025-07-30T13:10:57.340523Z",
     "iopub.status.busy": "2025-07-30T13:10:57.340111Z",
     "iopub.status.idle": "2025-07-30T13:10:57.345886Z",
     "shell.execute_reply": "2025-07-30T13:10:57.344969Z"
    },
    "papermill": {
     "duration": 0.020088,
     "end_time": "2025-07-30T13:10:57.347263",
     "exception": false,
     "start_time": "2025-07-30T13:10:57.327175",
     "status": "completed"
    },
    "tags": []
   },
   "outputs": [],
   "source": [
    "# EXCLUDE PROTECTED FEATURES\n",
    "# ----------------------\n",
    "# \"exclude_features\": \"none\", # \"nationality\", \"sex\", \"nationality-sex\"\n",
    "\n",
    "excluded_features = universe[\"exclude_features\"].split(\"-\") # split, e.g.: \"nationality-sex\" -> [\"nationality\", \"sex\"]\n",
    "excluded_features_dictionary = {\n",
    "    \"nationality\": [\"maxdeutsch1\", \"maxdeutsch.Missing.\"],\n",
    "    \"sex\": [\"frau1\"],\n",
    "    \"age\": [\"age\"],\n",
    "}\n"
   ]
  },
  {
   "cell_type": "code",
   "execution_count": 30,
   "id": "b745ac60",
   "metadata": {
    "execution": {
     "iopub.execute_input": "2025-07-30T13:10:57.376860Z",
     "iopub.status.busy": "2025-07-30T13:10:57.376153Z",
     "iopub.status.idle": "2025-07-30T13:10:57.381309Z",
     "shell.execute_reply": "2025-07-30T13:10:57.380591Z"
    },
    "papermill": {
     "duration": 0.019982,
     "end_time": "2025-07-30T13:10:57.382615",
     "exception": false,
     "start_time": "2025-07-30T13:10:57.362633",
     "status": "completed"
    },
    "tags": []
   },
   "outputs": [],
   "source": [
    "# Code nice names to column names\n",
    "\n",
    "excluded_features_columns = [\n",
    "    excluded_features_dictionary[f] for f in excluded_features if len(f) > 0 and f != \"none\"\n",
    "]"
   ]
  },
  {
   "cell_type": "code",
   "execution_count": 31,
   "id": "f84f73a2",
   "metadata": {
    "execution": {
     "iopub.execute_input": "2025-07-30T13:10:57.407771Z",
     "iopub.status.busy": "2025-07-30T13:10:57.407242Z",
     "iopub.status.idle": "2025-07-30T13:10:57.413038Z",
     "shell.execute_reply": "2025-07-30T13:10:57.412293Z"
    },
    "papermill": {
     "duration": 0.019601,
     "end_time": "2025-07-30T13:10:57.414328",
     "exception": false,
     "start_time": "2025-07-30T13:10:57.394727",
     "status": "completed"
    },
    "tags": []
   },
   "outputs": [],
   "source": [
    "from utils import flatten_once\n",
    "\n",
    "excluded_features_columns = flatten_once(excluded_features_columns)"
   ]
  },
  {
   "cell_type": "code",
   "execution_count": 32,
   "id": "884dea22",
   "metadata": {
    "execution": {
     "iopub.execute_input": "2025-07-30T13:10:57.439597Z",
     "iopub.status.busy": "2025-07-30T13:10:57.439111Z",
     "iopub.status.idle": "2025-07-30T13:10:57.453770Z",
     "shell.execute_reply": "2025-07-30T13:10:57.452920Z"
    },
    "papermill": {
     "duration": 0.028479,
     "end_time": "2025-07-30T13:10:57.455051",
     "exception": false,
     "start_time": "2025-07-30T13:10:57.426572",
     "status": "completed"
    },
    "tags": []
   },
   "outputs": [
    {
     "name": "stdout",
     "output_type": "stream",
     "text": [
      "Dropping features: ['maxdeutsch1', 'maxdeutsch.Missing.', 'frau1']\n"
     ]
    }
   ],
   "source": [
    "if len(excluded_features_columns) > 0:\n",
    "    print(f\"Dropping features: {excluded_features_columns}\")\n",
    "    X_train.drop(excluded_features_columns, axis=1, inplace=True)"
   ]
  },
  {
   "cell_type": "code",
   "execution_count": 33,
   "id": "95ab8b16",
   "metadata": {
    "execution": {
     "iopub.execute_input": "2025-07-30T13:10:57.498920Z",
     "iopub.status.busy": "2025-07-30T13:10:57.498473Z",
     "iopub.status.idle": "2025-07-30T13:10:57.556761Z",
     "shell.execute_reply": "2025-07-30T13:10:57.555730Z"
    },
    "papermill": {
     "duration": 0.084831,
     "end_time": "2025-07-30T13:10:57.558439",
     "exception": false,
     "start_time": "2025-07-30T13:10:57.473608",
     "status": "completed"
    },
    "tags": []
   },
   "outputs": [
    {
     "name": "stdout",
     "output_type": "stream",
     "text": [
      "Dropping features: ['maxdeutsch1', 'maxdeutsch.Missing.', 'frau1']\n"
     ]
    }
   ],
   "source": [
    "if len(excluded_features_columns) > 0:\n",
    "    print(f\"Dropping features: {excluded_features_columns}\")\n",
    "    X_test.drop(excluded_features_columns, axis=1, inplace=True)"
   ]
  },
  {
   "cell_type": "code",
   "execution_count": 34,
   "id": "1853aaf5-fb9f-46cb-a2b5-8ea4ae2237e4",
   "metadata": {
    "execution": {
     "iopub.execute_input": "2025-07-30T13:10:57.600721Z",
     "iopub.status.busy": "2025-07-30T13:10:57.600219Z",
     "iopub.status.idle": "2025-07-30T13:10:57.647932Z",
     "shell.execute_reply": "2025-07-30T13:10:57.646933Z"
    },
    "papermill": {
     "duration": 0.068625,
     "end_time": "2025-07-30T13:10:57.652129",
     "exception": false,
     "start_time": "2025-07-30T13:10:57.583504",
     "status": "completed"
    },
    "tags": []
   },
   "outputs": [
    {
     "name": "stdout",
     "output_type": "stream",
     "text": [
      "Dropping features: ['maxdeutsch1', 'maxdeutsch.Missing.', 'frau1']\n"
     ]
    }
   ],
   "source": [
    "if len(excluded_features_columns) > 0:\n",
    "    print(f\"Dropping features: {excluded_features_columns}\")\n",
    "    X_calib.drop(excluded_features_columns, axis=1, inplace=True)"
   ]
  },
  {
   "cell_type": "code",
   "execution_count": 35,
   "id": "6727d079-03e5-481e-9d38-292a90b7a0a8",
   "metadata": {
    "execution": {
     "iopub.execute_input": "2025-07-30T13:10:57.711249Z",
     "iopub.status.busy": "2025-07-30T13:10:57.710792Z",
     "iopub.status.idle": "2025-07-30T13:10:57.716605Z",
     "shell.execute_reply": "2025-07-30T13:10:57.715476Z"
    },
    "papermill": {
     "duration": 0.0341,
     "end_time": "2025-07-30T13:10:57.721564",
     "exception": false,
     "start_time": "2025-07-30T13:10:57.687464",
     "status": "completed"
    },
    "tags": []
   },
   "outputs": [],
   "source": [
    "# SPLIT & STRATIFY DATA\n",
    "# ----------------------"
   ]
  },
  {
   "cell_type": "code",
   "execution_count": 36,
   "id": "76c4dc6d",
   "metadata": {
    "execution": {
     "iopub.execute_input": "2025-07-30T13:10:57.774341Z",
     "iopub.status.busy": "2025-07-30T13:10:57.773832Z",
     "iopub.status.idle": "2025-07-30T13:10:57.779854Z",
     "shell.execute_reply": "2025-07-30T13:10:57.779047Z"
    },
    "papermill": {
     "duration": 0.034458,
     "end_time": "2025-07-30T13:10:57.781277",
     "exception": false,
     "start_time": "2025-07-30T13:10:57.746819",
     "status": "completed"
    },
    "tags": []
   },
   "outputs": [],
   "source": [
    "# EXCLUDE CERTAIN SUBGROUPS\n",
    "# ----------------------\n",
    "\n",
    "mode = universe.get(\"exclude_subgroups\", \"keep-all\") \n",
    "# Fetches the exclude_subgroups setting from the universe dict.\n",
    "# Defaults to \"keep-all\" if the key is missing."
   ]
  },
  {
   "cell_type": "code",
   "execution_count": 37,
   "id": "21994072",
   "metadata": {
    "execution": {
     "iopub.execute_input": "2025-07-30T13:10:57.807019Z",
     "iopub.status.busy": "2025-07-30T13:10:57.806604Z",
     "iopub.status.idle": "2025-07-30T13:10:57.811699Z",
     "shell.execute_reply": "2025-07-30T13:10:57.810915Z"
    },
    "papermill": {
     "duration": 0.019201,
     "end_time": "2025-07-30T13:10:57.813094",
     "exception": false,
     "start_time": "2025-07-30T13:10:57.793893",
     "status": "completed"
    },
    "tags": []
   },
   "outputs": [],
   "source": [
    "if mode == \"keep-all\":\n",
    "    keep_mask = pd.Series(True, index=org_train.index)\n",
    "\n",
    "# org_train contains the original feature columns from features_org (in Simson)\n",
    "# features_org contains unprocessed features, for me X_train at beginning ???\n",
    "# For keep-all, creates a boolean Series (keep_mask) of all True, so no rows are removed.\n",
    "\n",
    "elif mode == \"drop-non-german\":\n",
    "    keep_mask = org_train[\"maxdeutsch1\"] == 1 # ??? what about missing values?\n",
    "\n",
    "else:\n",
    "    raise ValueError(f\"Unsupported mode for exclude_subgroups: {mode}\")\n"
   ]
  },
  {
   "cell_type": "code",
   "execution_count": 38,
   "id": "71651440",
   "metadata": {
    "execution": {
     "iopub.execute_input": "2025-07-30T13:10:57.864974Z",
     "iopub.status.busy": "2025-07-30T13:10:57.864128Z",
     "iopub.status.idle": "2025-07-30T13:10:57.870450Z",
     "shell.execute_reply": "2025-07-30T13:10:57.869435Z"
    },
    "papermill": {
     "duration": 0.034835,
     "end_time": "2025-07-30T13:10:57.872235",
     "exception": false,
     "start_time": "2025-07-30T13:10:57.837400",
     "status": "completed"
    },
    "tags": []
   },
   "outputs": [],
   "source": [
    "n_drop = (~keep_mask).sum() # Calculates how many rows are set to be dropped\n",
    "if n_drop > 0:\n",
    "    pct = n_drop / len(keep_mask) * 100\n",
    "    print(f\"Dropping {n_drop} rows ({pct:.2f}%) where mode='{mode}'\")"
   ]
  },
  {
   "cell_type": "code",
   "execution_count": 39,
   "id": "5fb8eee5",
   "metadata": {
    "execution": {
     "iopub.execute_input": "2025-07-30T13:10:57.926187Z",
     "iopub.status.busy": "2025-07-30T13:10:57.925541Z",
     "iopub.status.idle": "2025-07-30T13:10:57.940169Z",
     "shell.execute_reply": "2025-07-30T13:10:57.939216Z"
    },
    "papermill": {
     "duration": 0.043482,
     "end_time": "2025-07-30T13:10:57.942233",
     "exception": false,
     "start_time": "2025-07-30T13:10:57.898751",
     "status": "completed"
    },
    "tags": []
   },
   "outputs": [],
   "source": [
    "X_train = X_train[keep_mask]"
   ]
  },
  {
   "cell_type": "code",
   "execution_count": 40,
   "id": "b202bb3a",
   "metadata": {
    "execution": {
     "iopub.execute_input": "2025-07-30T13:10:57.971837Z",
     "iopub.status.busy": "2025-07-30T13:10:57.971350Z",
     "iopub.status.idle": "2025-07-30T13:10:57.976894Z",
     "shell.execute_reply": "2025-07-30T13:10:57.976116Z"
    },
    "papermill": {
     "duration": 0.019882,
     "end_time": "2025-07-30T13:10:57.978348",
     "exception": false,
     "start_time": "2025-07-30T13:10:57.958466",
     "status": "completed"
    },
    "tags": []
   },
   "outputs": [],
   "source": [
    "y_train = y_train[keep_mask]"
   ]
  },
  {
   "cell_type": "markdown",
   "id": "493e2ac3",
   "metadata": {
    "papermill": {
     "duration": 0.012408,
     "end_time": "2025-07-30T13:10:58.003465",
     "exception": false,
     "start_time": "2025-07-30T13:10:57.991057",
     "status": "completed"
    },
    "tags": []
   },
   "source": [
    "# Model Training"
   ]
  },
  {
   "cell_type": "code",
   "execution_count": 41,
   "id": "679e1268",
   "metadata": {
    "execution": {
     "iopub.execute_input": "2025-07-30T13:10:58.029119Z",
     "iopub.status.busy": "2025-07-30T13:10:58.028773Z",
     "iopub.status.idle": "2025-07-30T13:10:58.102819Z",
     "shell.execute_reply": "2025-07-30T13:10:58.102003Z"
    },
    "papermill": {
     "duration": 0.08895,
     "end_time": "2025-07-30T13:10:58.104512",
     "exception": false,
     "start_time": "2025-07-30T13:10:58.015562",
     "status": "completed"
    },
    "tags": []
   },
   "outputs": [],
   "source": [
    "from sklearn.linear_model import LogisticRegression\n",
    "from sklearn.ensemble import GradientBoostingClassifier, RandomForestClassifier\n",
    "\n",
    "if (universe[\"model\"] == \"logreg\"):\n",
    "    model = LogisticRegression() #penalty=\"none\") #, solver=\"newton-cg\", max_iter=1) # include random_state=19 ?\n",
    "elif (universe[\"model\"] == \"penalized_logreg\"):\n",
    "    model = LogisticRegression(penalty=\"l2\", C=1.0) #, solver=\"newton-cg\", max_iter=1)\n",
    "elif (universe[\"model\"] == \"rf\"):\n",
    "    model = RandomForestClassifier(n_estimators=100, n_jobs=-1)\n",
    "elif (universe[\"model\"] == \"gbm\"):\n",
    "    model = GradientBoostingClassifier()\n",
    "elif (universe[\"model\"] == \"elasticnet\"):\n",
    "    model = LogisticRegression(penalty = 'elasticnet', solver = 'saga', l1_ratio = 0.5, max_iter=5000) # which solver to use?\n",
    "else:\n",
    "    raise \"Unsupported universe.model\""
   ]
  },
  {
   "cell_type": "code",
   "execution_count": 42,
   "id": "0cc8f744",
   "metadata": {
    "execution": {
     "iopub.execute_input": "2025-07-30T13:10:58.132021Z",
     "iopub.status.busy": "2025-07-30T13:10:58.131229Z",
     "iopub.status.idle": "2025-07-30T13:10:58.136773Z",
     "shell.execute_reply": "2025-07-30T13:10:58.136019Z"
    },
    "papermill": {
     "duration": 0.02011,
     "end_time": "2025-07-30T13:10:58.138060",
     "exception": false,
     "start_time": "2025-07-30T13:10:58.117950",
     "status": "completed"
    },
    "tags": []
   },
   "outputs": [],
   "source": [
    "import numpy as np\n",
    "from sklearn.pipeline import Pipeline\n",
    "from sklearn.preprocessing import StandardScaler\n",
    "\n",
    "model = Pipeline([\n",
    "    #(\"continuous_processor\", continuous_processor),\n",
    "    #(\"categorical_preprocessor\", categorical_preprocessor),\n",
    "    (\"scale\", StandardScaler() if universe[\"scale\"] == \"scale\" else None), \n",
    "    (\"model\", model),\n",
    "])"
   ]
  },
  {
   "cell_type": "code",
   "execution_count": 43,
   "id": "9442c04d",
   "metadata": {
    "execution": {
     "iopub.execute_input": "2025-07-30T13:10:58.165590Z",
     "iopub.status.busy": "2025-07-30T13:10:58.165070Z",
     "iopub.status.idle": "2025-07-30T13:11:20.882878Z",
     "shell.execute_reply": "2025-07-30T13:11:20.881905Z"
    },
    "papermill": {
     "duration": 22.733199,
     "end_time": "2025-07-30T13:11:20.884505",
     "exception": false,
     "start_time": "2025-07-30T13:10:58.151306",
     "status": "completed"
    },
    "tags": []
   },
   "outputs": [
    {
     "data": {
      "text/html": [
       "<style>#sk-container-id-1 {color: black;background-color: white;}#sk-container-id-1 pre{padding: 0;}#sk-container-id-1 div.sk-toggleable {background-color: white;}#sk-container-id-1 label.sk-toggleable__label {cursor: pointer;display: block;width: 100%;margin-bottom: 0;padding: 0.3em;box-sizing: border-box;text-align: center;}#sk-container-id-1 label.sk-toggleable__label-arrow:before {content: \"▸\";float: left;margin-right: 0.25em;color: #696969;}#sk-container-id-1 label.sk-toggleable__label-arrow:hover:before {color: black;}#sk-container-id-1 div.sk-estimator:hover label.sk-toggleable__label-arrow:before {color: black;}#sk-container-id-1 div.sk-toggleable__content {max-height: 0;max-width: 0;overflow: hidden;text-align: left;background-color: #f0f8ff;}#sk-container-id-1 div.sk-toggleable__content pre {margin: 0.2em;color: black;border-radius: 0.25em;background-color: #f0f8ff;}#sk-container-id-1 input.sk-toggleable__control:checked~div.sk-toggleable__content {max-height: 200px;max-width: 100%;overflow: auto;}#sk-container-id-1 input.sk-toggleable__control:checked~label.sk-toggleable__label-arrow:before {content: \"▾\";}#sk-container-id-1 div.sk-estimator input.sk-toggleable__control:checked~label.sk-toggleable__label {background-color: #d4ebff;}#sk-container-id-1 div.sk-label input.sk-toggleable__control:checked~label.sk-toggleable__label {background-color: #d4ebff;}#sk-container-id-1 input.sk-hidden--visually {border: 0;clip: rect(1px 1px 1px 1px);clip: rect(1px, 1px, 1px, 1px);height: 1px;margin: -1px;overflow: hidden;padding: 0;position: absolute;width: 1px;}#sk-container-id-1 div.sk-estimator {font-family: monospace;background-color: #f0f8ff;border: 1px dotted black;border-radius: 0.25em;box-sizing: border-box;margin-bottom: 0.5em;}#sk-container-id-1 div.sk-estimator:hover {background-color: #d4ebff;}#sk-container-id-1 div.sk-parallel-item::after {content: \"\";width: 100%;border-bottom: 1px solid gray;flex-grow: 1;}#sk-container-id-1 div.sk-label:hover label.sk-toggleable__label {background-color: #d4ebff;}#sk-container-id-1 div.sk-serial::before {content: \"\";position: absolute;border-left: 1px solid gray;box-sizing: border-box;top: 0;bottom: 0;left: 50%;z-index: 0;}#sk-container-id-1 div.sk-serial {display: flex;flex-direction: column;align-items: center;background-color: white;padding-right: 0.2em;padding-left: 0.2em;position: relative;}#sk-container-id-1 div.sk-item {position: relative;z-index: 1;}#sk-container-id-1 div.sk-parallel {display: flex;align-items: stretch;justify-content: center;background-color: white;position: relative;}#sk-container-id-1 div.sk-item::before, #sk-container-id-1 div.sk-parallel-item::before {content: \"\";position: absolute;border-left: 1px solid gray;box-sizing: border-box;top: 0;bottom: 0;left: 50%;z-index: -1;}#sk-container-id-1 div.sk-parallel-item {display: flex;flex-direction: column;z-index: 1;position: relative;background-color: white;}#sk-container-id-1 div.sk-parallel-item:first-child::after {align-self: flex-end;width: 50%;}#sk-container-id-1 div.sk-parallel-item:last-child::after {align-self: flex-start;width: 50%;}#sk-container-id-1 div.sk-parallel-item:only-child::after {width: 0;}#sk-container-id-1 div.sk-dashed-wrapped {border: 1px dashed gray;margin: 0 0.4em 0.5em 0.4em;box-sizing: border-box;padding-bottom: 0.4em;background-color: white;}#sk-container-id-1 div.sk-label label {font-family: monospace;font-weight: bold;display: inline-block;line-height: 1.2em;}#sk-container-id-1 div.sk-label-container {text-align: center;}#sk-container-id-1 div.sk-container {/* jupyter's `normalize.less` sets `[hidden] { display: none; }` but bootstrap.min.css set `[hidden] { display: none !important; }` so we also need the `!important` here to be able to override the default hidden behavior on the sphinx rendered scikit-learn.org. See: https://github.com/scikit-learn/scikit-learn/issues/21755 */display: inline-block !important;position: relative;}#sk-container-id-1 div.sk-text-repr-fallback {display: none;}</style><div id=\"sk-container-id-1\" class=\"sk-top-container\"><div class=\"sk-text-repr-fallback\"><pre>Pipeline(steps=[(&#x27;scale&#x27;, StandardScaler()),\n",
       "                (&#x27;model&#x27;,\n",
       "                 LogisticRegression(l1_ratio=0.5, max_iter=5000,\n",
       "                                    penalty=&#x27;elasticnet&#x27;, solver=&#x27;saga&#x27;))])</pre><b>In a Jupyter environment, please rerun this cell to show the HTML representation or trust the notebook. <br />On GitHub, the HTML representation is unable to render, please try loading this page with nbviewer.org.</b></div><div class=\"sk-container\" hidden><div class=\"sk-item sk-dashed-wrapped\"><div class=\"sk-label-container\"><div class=\"sk-label sk-toggleable\"><input class=\"sk-toggleable__control sk-hidden--visually\" id=\"sk-estimator-id-1\" type=\"checkbox\" ><label for=\"sk-estimator-id-1\" class=\"sk-toggleable__label sk-toggleable__label-arrow\">Pipeline</label><div class=\"sk-toggleable__content\"><pre>Pipeline(steps=[(&#x27;scale&#x27;, StandardScaler()),\n",
       "                (&#x27;model&#x27;,\n",
       "                 LogisticRegression(l1_ratio=0.5, max_iter=5000,\n",
       "                                    penalty=&#x27;elasticnet&#x27;, solver=&#x27;saga&#x27;))])</pre></div></div></div><div class=\"sk-serial\"><div class=\"sk-item\"><div class=\"sk-estimator sk-toggleable\"><input class=\"sk-toggleable__control sk-hidden--visually\" id=\"sk-estimator-id-2\" type=\"checkbox\" ><label for=\"sk-estimator-id-2\" class=\"sk-toggleable__label sk-toggleable__label-arrow\">StandardScaler</label><div class=\"sk-toggleable__content\"><pre>StandardScaler()</pre></div></div></div><div class=\"sk-item\"><div class=\"sk-estimator sk-toggleable\"><input class=\"sk-toggleable__control sk-hidden--visually\" id=\"sk-estimator-id-3\" type=\"checkbox\" ><label for=\"sk-estimator-id-3\" class=\"sk-toggleable__label sk-toggleable__label-arrow\">LogisticRegression</label><div class=\"sk-toggleable__content\"><pre>LogisticRegression(l1_ratio=0.5, max_iter=5000, penalty=&#x27;elasticnet&#x27;,\n",
       "                   solver=&#x27;saga&#x27;)</pre></div></div></div></div></div></div></div>"
      ],
      "text/plain": [
       "Pipeline(steps=[('scale', StandardScaler()),\n",
       "                ('model',\n",
       "                 LogisticRegression(l1_ratio=0.5, max_iter=5000,\n",
       "                                    penalty='elasticnet', solver='saga'))])"
      ]
     },
     "execution_count": 43,
     "metadata": {},
     "output_type": "execute_result"
    }
   ],
   "source": [
    "model.fit(X_train, y_train.values.ravel())"
   ]
  },
  {
   "cell_type": "code",
   "execution_count": 44,
   "id": "af59f8c0",
   "metadata": {
    "execution": {
     "iopub.execute_input": "2025-07-30T13:11:20.933124Z",
     "iopub.status.busy": "2025-07-30T13:11:20.932614Z",
     "iopub.status.idle": "2025-07-30T13:11:20.938436Z",
     "shell.execute_reply": "2025-07-30T13:11:20.937609Z"
    },
    "papermill": {
     "duration": 0.030174,
     "end_time": "2025-07-30T13:11:20.939910",
     "exception": false,
     "start_time": "2025-07-30T13:11:20.909736",
     "status": "completed"
    },
    "tags": []
   },
   "outputs": [],
   "source": [
    "from fairness_multiverse.universe import predict_w_threshold"
   ]
  },
  {
   "cell_type": "code",
   "execution_count": 45,
   "id": "a7cf2e16",
   "metadata": {
    "execution": {
     "iopub.execute_input": "2025-07-30T13:11:20.985831Z",
     "iopub.status.busy": "2025-07-30T13:11:20.985190Z",
     "iopub.status.idle": "2025-07-30T13:11:21.173870Z",
     "shell.execute_reply": "2025-07-30T13:11:21.172922Z"
    },
    "papermill": {
     "duration": 0.213137,
     "end_time": "2025-07-30T13:11:21.175427",
     "exception": false,
     "start_time": "2025-07-30T13:11:20.962290",
     "status": "completed"
    },
    "tags": []
   },
   "outputs": [
    {
     "data": {
      "text/plain": [
       "0.8621112473525805"
      ]
     },
     "execution_count": 45,
     "metadata": {},
     "output_type": "execute_result"
    }
   ],
   "source": [
    "probs_test = model.predict_proba(X_test)\n",
    "\n",
    "'''\n",
    "Below code returns a boolean array (or binary 0/1 array depending on how it’s used) where each element \n",
    "is True if the probability of class 1 is greater than or equal to the threshold, and False otherwise.\n",
    "'''\n",
    "y_pred_default = predict_w_threshold(probs_test, 0.5)\n",
    "\n",
    "from sklearn.metrics import accuracy_score\n",
    "\n",
    "# Naive prediction\n",
    "accuracy_score(y_true = y_true, y_pred = y_pred_default)"
   ]
  },
  {
   "cell_type": "code",
   "execution_count": 46,
   "id": "081964c3",
   "metadata": {
    "execution": {
     "iopub.execute_input": "2025-07-30T13:11:21.223173Z",
     "iopub.status.busy": "2025-07-30T13:11:21.222560Z",
     "iopub.status.idle": "2025-07-30T13:11:21.395857Z",
     "shell.execute_reply": "2025-07-30T13:11:21.394966Z"
    },
    "papermill": {
     "duration": 0.19931,
     "end_time": "2025-07-30T13:11:21.397456",
     "exception": false,
     "start_time": "2025-07-30T13:11:21.198146",
     "status": "completed"
    },
    "tags": []
   },
   "outputs": [
    {
     "data": {
      "text/plain": [
       "array([0, 0, 0, ..., 0, 0, 0])"
      ]
     },
     "execution_count": 46,
     "metadata": {},
     "output_type": "execute_result"
    }
   ],
   "source": [
    "model.predict(X_test)"
   ]
  },
  {
   "cell_type": "markdown",
   "id": "56c9705b",
   "metadata": {
    "papermill": {
     "duration": 0.022856,
     "end_time": "2025-07-30T13:11:21.443166",
     "exception": false,
     "start_time": "2025-07-30T13:11:21.420310",
     "status": "completed"
    },
    "tags": []
   },
   "source": [
    "# Conformal Prediction"
   ]
  },
  {
   "cell_type": "code",
   "execution_count": 47,
   "id": "160ec6ff",
   "metadata": {
    "execution": {
     "iopub.execute_input": "2025-07-30T13:11:21.490195Z",
     "iopub.status.busy": "2025-07-30T13:11:21.489736Z",
     "iopub.status.idle": "2025-07-30T13:11:21.494810Z",
     "shell.execute_reply": "2025-07-30T13:11:21.493766Z"
    },
    "papermill": {
     "duration": 0.030926,
     "end_time": "2025-07-30T13:11:21.496686",
     "exception": false,
     "start_time": "2025-07-30T13:11:21.465760",
     "status": "completed"
    },
    "tags": []
   },
   "outputs": [],
   "source": [
    "# Miscoverage level for conformal prediction (10% allowed error rate => 90% target coverage)\n",
    "alpha = 0.1"
   ]
  },
  {
   "cell_type": "code",
   "execution_count": 48,
   "id": "eadf4555-3dd3-440e-8e35-f82a4ad9f855",
   "metadata": {
    "execution": {
     "iopub.execute_input": "2025-07-30T13:11:21.545270Z",
     "iopub.status.busy": "2025-07-30T13:11:21.544410Z",
     "iopub.status.idle": "2025-07-30T13:11:21.719373Z",
     "shell.execute_reply": "2025-07-30T13:11:21.718484Z"
    },
    "papermill": {
     "duration": 0.200936,
     "end_time": "2025-07-30T13:11:21.721203",
     "exception": false,
     "start_time": "2025-07-30T13:11:21.520267",
     "status": "completed"
    },
    "tags": []
   },
   "outputs": [],
   "source": [
    "probs_calib = model.predict_proba(X_calib)"
   ]
  },
  {
   "cell_type": "code",
   "execution_count": 49,
   "id": "2ed93547-6d5d-4983-9b36-1ecb300da49a",
   "metadata": {
    "execution": {
     "iopub.execute_input": "2025-07-30T13:11:21.769021Z",
     "iopub.status.busy": "2025-07-30T13:11:21.768367Z",
     "iopub.status.idle": "2025-07-30T13:11:21.773940Z",
     "shell.execute_reply": "2025-07-30T13:11:21.773000Z"
    },
    "papermill": {
     "duration": 0.030889,
     "end_time": "2025-07-30T13:11:21.775317",
     "exception": false,
     "start_time": "2025-07-30T13:11:21.744428",
     "status": "completed"
    },
    "tags": []
   },
   "outputs": [],
   "source": [
    "y_calib = y_calib.values.ravel().astype(int)"
   ]
  },
  {
   "cell_type": "code",
   "execution_count": 50,
   "id": "65d1320d-f588-4b38-9072-62af1ae97f7d",
   "metadata": {
    "execution": {
     "iopub.execute_input": "2025-07-30T13:11:21.823286Z",
     "iopub.status.busy": "2025-07-30T13:11:21.822628Z",
     "iopub.status.idle": "2025-07-30T13:11:21.831079Z",
     "shell.execute_reply": "2025-07-30T13:11:21.830222Z"
    },
    "papermill": {
     "duration": 0.034032,
     "end_time": "2025-07-30T13:11:21.832801",
     "exception": false,
     "start_time": "2025-07-30T13:11:21.798769",
     "status": "completed"
    },
    "tags": []
   },
   "outputs": [],
   "source": [
    "from fairness_multiverse.conformal import compute_nc_scores\n",
    "\n",
    "# Compute nonconformity scores on calibration set (1 - probability of true class)\n",
    "nc_scores = compute_nc_scores(probs_calib, y_calib)"
   ]
  },
  {
   "cell_type": "code",
   "execution_count": 51,
   "id": "df3b8ca3-53b7-43d5-9667-7c85da7aeda2",
   "metadata": {
    "execution": {
     "iopub.execute_input": "2025-07-30T13:11:21.881033Z",
     "iopub.status.busy": "2025-07-30T13:11:21.880313Z",
     "iopub.status.idle": "2025-07-30T13:11:21.887628Z",
     "shell.execute_reply": "2025-07-30T13:11:21.886751Z"
    },
    "papermill": {
     "duration": 0.033127,
     "end_time": "2025-07-30T13:11:21.889343",
     "exception": false,
     "start_time": "2025-07-30T13:11:21.856216",
     "status": "completed"
    },
    "tags": []
   },
   "outputs": [],
   "source": [
    "from fairness_multiverse.conformal import find_threshold\n",
    "\n",
    "# Find conformal threshold q_hat for the given alpha (split conformal method)\n",
    "q_hat = find_threshold(nc_scores, alpha)"
   ]
  },
  {
   "cell_type": "code",
   "execution_count": 52,
   "id": "4d29e6c1-0ef6-4aa4-b8fe-4fe79b0d033a",
   "metadata": {
    "execution": {
     "iopub.execute_input": "2025-07-30T13:11:21.937861Z",
     "iopub.status.busy": "2025-07-30T13:11:21.937186Z",
     "iopub.status.idle": "2025-07-30T13:11:21.944713Z",
     "shell.execute_reply": "2025-07-30T13:11:21.943780Z"
    },
    "papermill": {
     "duration": 0.033284,
     "end_time": "2025-07-30T13:11:21.946129",
     "exception": false,
     "start_time": "2025-07-30T13:11:21.912845",
     "status": "completed"
    },
    "tags": []
   },
   "outputs": [
    {
     "data": {
      "text/plain": [
       "0.6644558134089023"
      ]
     },
     "execution_count": 52,
     "metadata": {},
     "output_type": "execute_result"
    }
   ],
   "source": [
    "q_hat"
   ]
  },
  {
   "cell_type": "code",
   "execution_count": 53,
   "id": "92460794-cdac-4be2-ba28-f28c0515a6fb",
   "metadata": {
    "execution": {
     "iopub.execute_input": "2025-07-30T13:11:21.995590Z",
     "iopub.status.busy": "2025-07-30T13:11:21.995160Z",
     "iopub.status.idle": "2025-07-30T13:11:22.877834Z",
     "shell.execute_reply": "2025-07-30T13:11:22.876871Z"
    },
    "papermill": {
     "duration": 0.909594,
     "end_time": "2025-07-30T13:11:22.879685",
     "exception": false,
     "start_time": "2025-07-30T13:11:21.970091",
     "status": "completed"
    },
    "tags": []
   },
   "outputs": [],
   "source": [
    "from fairness_multiverse.conformal import predict_conformal_sets\n",
    "\n",
    "# Generate prediction sets for each test example\n",
    "pred_sets = predict_conformal_sets(model, X_test, q_hat)"
   ]
  },
  {
   "cell_type": "code",
   "execution_count": 54,
   "id": "d90c9a65-e6db-4f5d-80cd-e68fb7e46829",
   "metadata": {
    "execution": {
     "iopub.execute_input": "2025-07-30T13:11:22.935829Z",
     "iopub.status.busy": "2025-07-30T13:11:22.935140Z",
     "iopub.status.idle": "2025-07-30T13:11:22.956371Z",
     "shell.execute_reply": "2025-07-30T13:11:22.939671Z"
    },
    "papermill": {
     "duration": 0.05045,
     "end_time": "2025-07-30T13:11:22.957720",
     "exception": false,
     "start_time": "2025-07-30T13:11:22.907270",
     "status": "completed"
    },
    "tags": []
   },
   "outputs": [],
   "source": [
    "y_true = y_true.squeeze()"
   ]
  },
  {
   "cell_type": "code",
   "execution_count": 55,
   "id": "3a58a54a-1e68-46b9-927a-df01f18aebc8",
   "metadata": {
    "execution": {
     "iopub.execute_input": "2025-07-30T13:11:22.987309Z",
     "iopub.status.busy": "2025-07-30T13:11:22.986930Z",
     "iopub.status.idle": "2025-07-30T13:11:23.539001Z",
     "shell.execute_reply": "2025-07-30T13:11:23.538248Z"
    },
    "papermill": {
     "duration": 0.567392,
     "end_time": "2025-07-30T13:11:23.540492",
     "exception": false,
     "start_time": "2025-07-30T13:11:22.973100",
     "status": "completed"
    },
    "tags": []
   },
   "outputs": [],
   "source": [
    "from fairness_multiverse.conformal import evaluate_sets\n",
    "\n",
    "# Evaluate coverage and average set size on test data\n",
    "metrics = evaluate_sets(pred_sets, y_true)"
   ]
  },
  {
   "cell_type": "markdown",
   "id": "2b569c12-9aaa-4c88-98c9-bbcd0cf3ebb8",
   "metadata": {
    "papermill": {
     "duration": 0.012603,
     "end_time": "2025-07-30T13:11:23.566464",
     "exception": false,
     "start_time": "2025-07-30T13:11:23.553861",
     "status": "completed"
    },
    "tags": []
   },
   "source": [
    "# CP Metrics"
   ]
  },
  {
   "cell_type": "code",
   "execution_count": 56,
   "id": "5ce0a5cb-201f-45a0-ade5-94c7f0bd6095",
   "metadata": {
    "execution": {
     "iopub.execute_input": "2025-07-30T13:11:23.593030Z",
     "iopub.status.busy": "2025-07-30T13:11:23.592539Z",
     "iopub.status.idle": "2025-07-30T13:11:23.599184Z",
     "shell.execute_reply": "2025-07-30T13:11:23.598444Z"
    },
    "papermill": {
     "duration": 0.021604,
     "end_time": "2025-07-30T13:11:23.600593",
     "exception": false,
     "start_time": "2025-07-30T13:11:23.578989",
     "status": "completed"
    },
    "tags": []
   },
   "outputs": [
    {
     "data": {
      "text/plain": [
       "{'coverage': 0.9117712629584216, 'avg_size': 1.1250362278452792}"
      ]
     },
     "execution_count": 56,
     "metadata": {},
     "output_type": "execute_result"
    }
   ],
   "source": [
    "metrics"
   ]
  },
  {
   "cell_type": "code",
   "execution_count": 57,
   "id": "9b9a838d-31c9-430b-ae14-12baee460d17",
   "metadata": {
    "execution": {
     "iopub.execute_input": "2025-07-30T13:11:23.651432Z",
     "iopub.status.busy": "2025-07-30T13:11:23.651014Z",
     "iopub.status.idle": "2025-07-30T13:11:23.657199Z",
     "shell.execute_reply": "2025-07-30T13:11:23.656272Z"
    },
    "papermill": {
     "duration": 0.035392,
     "end_time": "2025-07-30T13:11:23.658854",
     "exception": false,
     "start_time": "2025-07-30T13:11:23.623462",
     "status": "completed"
    },
    "tags": []
   },
   "outputs": [],
   "source": [
    "example_universe = universe.copy()\n",
    "universe_training_size = example_universe.get(\"training_size\")\n",
    "universe_scale = example_universe.get(\"scale\")\n",
    "universe_model = example_universe.get(\"model\")\n",
    "universe_exclude_features = example_universe.get(\"exclude_features\")\n",
    "universe_exclude_subgroups = example_universe.get(\"exclude_subgroups\")"
   ]
  },
  {
   "cell_type": "code",
   "execution_count": 58,
   "id": "f4b6a8ac-9dc0-4245-8a91-5b3b5999c4f9",
   "metadata": {
    "execution": {
     "iopub.execute_input": "2025-07-30T13:11:23.689022Z",
     "iopub.status.busy": "2025-07-30T13:11:23.688605Z",
     "iopub.status.idle": "2025-07-30T13:11:23.693437Z",
     "shell.execute_reply": "2025-07-30T13:11:23.692760Z"
    },
    "papermill": {
     "duration": 0.019853,
     "end_time": "2025-07-30T13:11:23.694721",
     "exception": false,
     "start_time": "2025-07-30T13:11:23.674868",
     "status": "completed"
    },
    "tags": []
   },
   "outputs": [],
   "source": [
    "cp_metrics_dict = {\n",
    "    \"universe_id\": [universe_id],\n",
    "    \"universe_training_size\": [universe_training_size],\n",
    "    \"universe_scale\": [universe_scale],\n",
    "    \"universe_model\": [universe_model],\n",
    "    \"universe_exclude_features\": [universe_exclude_features],\n",
    "    \"universe_exclude_subgroups\": [universe_exclude_subgroups],\n",
    "    \"q_hat\": [q_hat],\n",
    "    \"coverage\": [metrics[\"coverage\"]],\n",
    "    \"avg_size\": [metrics[\"avg_size\"]],\n",
    "}"
   ]
  },
  {
   "cell_type": "code",
   "execution_count": 59,
   "id": "908acbb1-0371-4915-85ca-3fa520d2efe2",
   "metadata": {
    "execution": {
     "iopub.execute_input": "2025-07-30T13:11:23.731309Z",
     "iopub.status.busy": "2025-07-30T13:11:23.730926Z",
     "iopub.status.idle": "2025-07-30T13:11:23.737438Z",
     "shell.execute_reply": "2025-07-30T13:11:23.736606Z"
    },
    "papermill": {
     "duration": 0.030904,
     "end_time": "2025-07-30T13:11:23.738968",
     "exception": false,
     "start_time": "2025-07-30T13:11:23.708064",
     "status": "completed"
    },
    "tags": []
   },
   "outputs": [
    {
     "data": {
      "text/plain": [
       "{'universe_id': ['7751cc1fc37583662872acc321b2c017'],\n",
       " 'universe_training_size': ['25k'],\n",
       " 'universe_scale': ['scale'],\n",
       " 'universe_model': ['elasticnet'],\n",
       " 'universe_exclude_features': ['nationality-sex'],\n",
       " 'universe_exclude_subgroups': ['keep-all'],\n",
       " 'q_hat': [0.6644558134089023],\n",
       " 'coverage': [0.9117712629584216],\n",
       " 'avg_size': [1.1250362278452792]}"
      ]
     },
     "execution_count": 59,
     "metadata": {},
     "output_type": "execute_result"
    }
   ],
   "source": [
    "cp_metrics_dict"
   ]
  },
  {
   "cell_type": "code",
   "execution_count": 60,
   "id": "33007efc-14e9-4ec6-97ac-56a455c82265",
   "metadata": {
    "execution": {
     "iopub.execute_input": "2025-07-30T13:11:23.794900Z",
     "iopub.status.busy": "2025-07-30T13:11:23.794466Z",
     "iopub.status.idle": "2025-07-30T13:11:23.801049Z",
     "shell.execute_reply": "2025-07-30T13:11:23.800005Z"
    },
    "papermill": {
     "duration": 0.035889,
     "end_time": "2025-07-30T13:11:23.802651",
     "exception": false,
     "start_time": "2025-07-30T13:11:23.766762",
     "status": "completed"
    },
    "tags": []
   },
   "outputs": [],
   "source": [
    "cp_metrics_df = pd.DataFrame(cp_metrics_dict)"
   ]
  },
  {
   "cell_type": "code",
   "execution_count": 61,
   "id": "db12611b-57b2-4910-b9d0-355adfd6e7bf",
   "metadata": {
    "execution": {
     "iopub.execute_input": "2025-07-30T13:11:23.858686Z",
     "iopub.status.busy": "2025-07-30T13:11:23.858052Z",
     "iopub.status.idle": "2025-07-30T13:11:23.875048Z",
     "shell.execute_reply": "2025-07-30T13:11:23.874090Z"
    },
    "papermill": {
     "duration": 0.046481,
     "end_time": "2025-07-30T13:11:23.876604",
     "exception": false,
     "start_time": "2025-07-30T13:11:23.830123",
     "status": "completed"
    },
    "tags": []
   },
   "outputs": [
    {
     "data": {
      "text/html": [
       "<div>\n",
       "<style scoped>\n",
       "    .dataframe tbody tr th:only-of-type {\n",
       "        vertical-align: middle;\n",
       "    }\n",
       "\n",
       "    .dataframe tbody tr th {\n",
       "        vertical-align: top;\n",
       "    }\n",
       "\n",
       "    .dataframe thead th {\n",
       "        text-align: right;\n",
       "    }\n",
       "</style>\n",
       "<table border=\"1\" class=\"dataframe\">\n",
       "  <thead>\n",
       "    <tr style=\"text-align: right;\">\n",
       "      <th></th>\n",
       "      <th>universe_id</th>\n",
       "      <th>universe_training_size</th>\n",
       "      <th>universe_scale</th>\n",
       "      <th>universe_model</th>\n",
       "      <th>universe_exclude_features</th>\n",
       "      <th>universe_exclude_subgroups</th>\n",
       "      <th>q_hat</th>\n",
       "      <th>coverage</th>\n",
       "      <th>avg_size</th>\n",
       "    </tr>\n",
       "  </thead>\n",
       "  <tbody>\n",
       "    <tr>\n",
       "      <th>0</th>\n",
       "      <td>7751cc1fc37583662872acc321b2c017</td>\n",
       "      <td>25k</td>\n",
       "      <td>scale</td>\n",
       "      <td>elasticnet</td>\n",
       "      <td>nationality-sex</td>\n",
       "      <td>keep-all</td>\n",
       "      <td>0.664456</td>\n",
       "      <td>0.911771</td>\n",
       "      <td>1.125036</td>\n",
       "    </tr>\n",
       "  </tbody>\n",
       "</table>\n",
       "</div>"
      ],
      "text/plain": [
       "                        universe_id universe_training_size universe_scale  \\\n",
       "0  7751cc1fc37583662872acc321b2c017                    25k          scale   \n",
       "\n",
       "  universe_model universe_exclude_features universe_exclude_subgroups  \\\n",
       "0     elasticnet           nationality-sex                   keep-all   \n",
       "\n",
       "      q_hat  coverage  avg_size  \n",
       "0  0.664456  0.911771  1.125036  "
      ]
     },
     "execution_count": 61,
     "metadata": {},
     "output_type": "execute_result"
    }
   ],
   "source": [
    "cp_metrics_df"
   ]
  },
  {
   "cell_type": "code",
   "execution_count": 62,
   "id": "b7fbde55-a0a1-47e4-9af6-fe4a17fa8c61",
   "metadata": {
    "execution": {
     "iopub.execute_input": "2025-07-30T13:11:23.933136Z",
     "iopub.status.busy": "2025-07-30T13:11:23.932496Z",
     "iopub.status.idle": "2025-07-30T13:11:23.937403Z",
     "shell.execute_reply": "2025-07-30T13:11:23.936463Z"
    },
    "papermill": {
     "duration": 0.034698,
     "end_time": "2025-07-30T13:11:23.939020",
     "exception": false,
     "start_time": "2025-07-30T13:11:23.904322",
     "status": "completed"
    },
    "tags": []
   },
   "outputs": [],
   "source": [
    "# Conditional Coverage & looking at subgroups"
   ]
  },
  {
   "cell_type": "code",
   "execution_count": 63,
   "id": "027ae886-68dd-4141-96c7-805a5450e1ef",
   "metadata": {
    "execution": {
     "iopub.execute_input": "2025-07-30T13:11:23.995737Z",
     "iopub.status.busy": "2025-07-30T13:11:23.995111Z",
     "iopub.status.idle": "2025-07-30T13:11:24.239374Z",
     "shell.execute_reply": "2025-07-30T13:11:24.238443Z"
    },
    "papermill": {
     "duration": 0.274568,
     "end_time": "2025-07-30T13:11:24.241415",
     "exception": false,
     "start_time": "2025-07-30T13:11:23.966847",
     "status": "completed"
    },
    "tags": []
   },
   "outputs": [],
   "source": [
    "from fairness_multiverse.conformal import build_cp_groups\n",
    "\n",
    "cp_groups_df = build_cp_groups(pred_sets, y_true, X_test.index, org_test)\n",
    "#needs universe_id and setting"
   ]
  },
  {
   "cell_type": "code",
   "execution_count": 64,
   "id": "01d5802c-663a-4d1f-9d69-e036faaffbf7",
   "metadata": {
    "execution": {
     "iopub.execute_input": "2025-07-30T13:11:24.299516Z",
     "iopub.status.busy": "2025-07-30T13:11:24.298531Z",
     "iopub.status.idle": "2025-07-30T13:11:24.303820Z",
     "shell.execute_reply": "2025-07-30T13:11:24.302811Z"
    },
    "papermill": {
     "duration": 0.035629,
     "end_time": "2025-07-30T13:11:24.305537",
     "exception": false,
     "start_time": "2025-07-30T13:11:24.269908",
     "status": "completed"
    },
    "tags": []
   },
   "outputs": [],
   "source": [
    "#delete\n",
    "#cp_groups_df"
   ]
  },
  {
   "cell_type": "code",
   "execution_count": 65,
   "id": "fa424af1-d1eb-443d-b717-2d279ada8408",
   "metadata": {
    "execution": {
     "iopub.execute_input": "2025-07-30T13:11:24.355962Z",
     "iopub.status.busy": "2025-07-30T13:11:24.355078Z",
     "iopub.status.idle": "2025-07-30T13:11:24.360052Z",
     "shell.execute_reply": "2025-07-30T13:11:24.359106Z"
    },
    "papermill": {
     "duration": 0.030916,
     "end_time": "2025-07-30T13:11:24.361574",
     "exception": false,
     "start_time": "2025-07-30T13:11:24.330658",
     "status": "completed"
    },
    "tags": []
   },
   "outputs": [],
   "source": [
    "#delete\n",
    "#percentage = (cp_groups_df['nongerman_female'] == 1).mean() * 100\n",
    "#print(percentage)\n"
   ]
  },
  {
   "cell_type": "code",
   "execution_count": 66,
   "id": "6cbdab96-b2b2-45af-ad54-d0516db2e28d",
   "metadata": {
    "execution": {
     "iopub.execute_input": "2025-07-30T13:11:24.410915Z",
     "iopub.status.busy": "2025-07-30T13:11:24.410580Z",
     "iopub.status.idle": "2025-07-30T13:11:26.006411Z",
     "shell.execute_reply": "2025-07-30T13:11:26.005493Z"
    },
    "papermill": {
     "duration": 1.611997,
     "end_time": "2025-07-30T13:11:26.008266",
     "exception": false,
     "start_time": "2025-07-30T13:11:24.396269",
     "status": "completed"
    },
    "tags": []
   },
   "outputs": [],
   "source": [
    "# Define covered = 1 if true_label is in the predicted set\n",
    "cp_groups_df['covered'] = cp_groups_df.apply(\n",
    "    lambda r: int(r['true_label'] in r['pred_set']),\n",
    "    axis=1\n",
    ")"
   ]
  },
  {
   "cell_type": "code",
   "execution_count": 67,
   "id": "338ff529-1a6b-4b87-a931-8e4788d52aad",
   "metadata": {
    "execution": {
     "iopub.execute_input": "2025-07-30T13:11:26.059793Z",
     "iopub.status.busy": "2025-07-30T13:11:26.058988Z",
     "iopub.status.idle": "2025-07-30T13:11:26.063953Z",
     "shell.execute_reply": "2025-07-30T13:11:26.062999Z"
    },
    "papermill": {
     "duration": 0.031892,
     "end_time": "2025-07-30T13:11:26.065519",
     "exception": false,
     "start_time": "2025-07-30T13:11:26.033627",
     "status": "completed"
    },
    "tags": []
   },
   "outputs": [],
   "source": [
    "#cp_groups_df"
   ]
  },
  {
   "cell_type": "code",
   "execution_count": 68,
   "id": "90032e27-66df-4540-9169-4e89cfbaa758",
   "metadata": {
    "execution": {
     "iopub.execute_input": "2025-07-30T13:11:26.118704Z",
     "iopub.status.busy": "2025-07-30T13:11:26.118019Z",
     "iopub.status.idle": "2025-07-30T13:11:26.130197Z",
     "shell.execute_reply": "2025-07-30T13:11:26.129224Z"
    },
    "papermill": {
     "duration": 0.040622,
     "end_time": "2025-07-30T13:11:26.132024",
     "exception": false,
     "start_time": "2025-07-30T13:11:26.091402",
     "status": "completed"
    },
    "tags": []
   },
   "outputs": [],
   "source": [
    "subgroups = ['frau1','nongerman','nongerman_male','nongerman_female']\n",
    "\n",
    "# Conditional coverage for subgroup==1\n",
    "cond_coverage = {\n",
    "    g: cp_groups_df.loc[cp_groups_df[g]==1, 'covered'].mean()\n",
    "    for g in subgroups\n",
    "}"
   ]
  },
  {
   "cell_type": "code",
   "execution_count": 69,
   "id": "1e348fb1-b9c3-45bc-ba23-f016827a7e0d",
   "metadata": {
    "execution": {
     "iopub.execute_input": "2025-07-30T13:11:26.244760Z",
     "iopub.status.busy": "2025-07-30T13:11:26.244025Z",
     "iopub.status.idle": "2025-07-30T13:11:26.251309Z",
     "shell.execute_reply": "2025-07-30T13:11:26.250363Z"
    },
    "papermill": {
     "duration": 0.038847,
     "end_time": "2025-07-30T13:11:26.252928",
     "exception": false,
     "start_time": "2025-07-30T13:11:26.214081",
     "status": "completed"
    },
    "tags": []
   },
   "outputs": [
    {
     "data": {
      "text/plain": [
       "{'frau1': 0.9110931392370939,\n",
       " 'nongerman': 0.9101779599169146,\n",
       " 'nongerman_male': 0.9258758893992615,\n",
       " 'nongerman_female': 0.8842026825633383}"
      ]
     },
     "execution_count": 69,
     "metadata": {},
     "output_type": "execute_result"
    }
   ],
   "source": [
    "cond_coverage"
   ]
  },
  {
   "cell_type": "code",
   "execution_count": 70,
   "id": "f5093324-c3dd-4d63-bc4c-8d945e5c8bbb",
   "metadata": {
    "execution": {
     "iopub.execute_input": "2025-07-30T13:11:26.305766Z",
     "iopub.status.busy": "2025-07-30T13:11:26.304980Z",
     "iopub.status.idle": "2025-07-30T13:11:26.311983Z",
     "shell.execute_reply": "2025-07-30T13:11:26.311057Z"
    },
    "papermill": {
     "duration": 0.034581,
     "end_time": "2025-07-30T13:11:26.313670",
     "exception": false,
     "start_time": "2025-07-30T13:11:26.279089",
     "status": "completed"
    },
    "tags": []
   },
   "outputs": [],
   "source": [
    "for subgroup, cov in cond_coverage.items():\n",
    "    cp_metrics_df[f\"cov_{subgroup}\"] = cov"
   ]
  },
  {
   "cell_type": "code",
   "execution_count": 71,
   "id": "6e872e10-dbe5-49e8-b554-5030c98ff75d",
   "metadata": {
    "execution": {
     "iopub.execute_input": "2025-07-30T13:11:26.367030Z",
     "iopub.status.busy": "2025-07-30T13:11:26.366404Z",
     "iopub.status.idle": "2025-07-30T13:11:26.383470Z",
     "shell.execute_reply": "2025-07-30T13:11:26.382577Z"
    },
    "papermill": {
     "duration": 0.0451,
     "end_time": "2025-07-30T13:11:26.385059",
     "exception": false,
     "start_time": "2025-07-30T13:11:26.339959",
     "status": "completed"
    },
    "tags": []
   },
   "outputs": [
    {
     "data": {
      "text/html": [
       "<div>\n",
       "<style scoped>\n",
       "    .dataframe tbody tr th:only-of-type {\n",
       "        vertical-align: middle;\n",
       "    }\n",
       "\n",
       "    .dataframe tbody tr th {\n",
       "        vertical-align: top;\n",
       "    }\n",
       "\n",
       "    .dataframe thead th {\n",
       "        text-align: right;\n",
       "    }\n",
       "</style>\n",
       "<table border=\"1\" class=\"dataframe\">\n",
       "  <thead>\n",
       "    <tr style=\"text-align: right;\">\n",
       "      <th></th>\n",
       "      <th>universe_id</th>\n",
       "      <th>universe_training_size</th>\n",
       "      <th>universe_scale</th>\n",
       "      <th>universe_model</th>\n",
       "      <th>universe_exclude_features</th>\n",
       "      <th>universe_exclude_subgroups</th>\n",
       "      <th>q_hat</th>\n",
       "      <th>coverage</th>\n",
       "      <th>avg_size</th>\n",
       "      <th>cov_frau1</th>\n",
       "      <th>cov_nongerman</th>\n",
       "      <th>cov_nongerman_male</th>\n",
       "      <th>cov_nongerman_female</th>\n",
       "    </tr>\n",
       "  </thead>\n",
       "  <tbody>\n",
       "    <tr>\n",
       "      <th>0</th>\n",
       "      <td>7751cc1fc37583662872acc321b2c017</td>\n",
       "      <td>25k</td>\n",
       "      <td>scale</td>\n",
       "      <td>elasticnet</td>\n",
       "      <td>nationality-sex</td>\n",
       "      <td>keep-all</td>\n",
       "      <td>0.664456</td>\n",
       "      <td>0.911771</td>\n",
       "      <td>1.125036</td>\n",
       "      <td>0.911093</td>\n",
       "      <td>0.910178</td>\n",
       "      <td>0.925876</td>\n",
       "      <td>0.884203</td>\n",
       "    </tr>\n",
       "  </tbody>\n",
       "</table>\n",
       "</div>"
      ],
      "text/plain": [
       "                        universe_id universe_training_size universe_scale  \\\n",
       "0  7751cc1fc37583662872acc321b2c017                    25k          scale   \n",
       "\n",
       "  universe_model universe_exclude_features universe_exclude_subgroups  \\\n",
       "0     elasticnet           nationality-sex                   keep-all   \n",
       "\n",
       "      q_hat  coverage  avg_size  cov_frau1  cov_nongerman  cov_nongerman_male  \\\n",
       "0  0.664456  0.911771  1.125036   0.911093       0.910178            0.925876   \n",
       "\n",
       "   cov_nongerman_female  \n",
       "0              0.884203  "
      ]
     },
     "execution_count": 71,
     "metadata": {},
     "output_type": "execute_result"
    }
   ],
   "source": [
    "cp_metrics_df"
   ]
  },
  {
   "cell_type": "markdown",
   "id": "33774451",
   "metadata": {
    "papermill": {
     "duration": 0.024817,
     "end_time": "2025-07-30T13:11:26.437289",
     "exception": false,
     "start_time": "2025-07-30T13:11:26.412472",
     "status": "completed"
    },
    "tags": []
   },
   "source": [
    "# (Fairness) Metrics"
   ]
  },
  {
   "cell_type": "code",
   "execution_count": 72,
   "id": "debc5d62",
   "metadata": {
    "execution": {
     "iopub.execute_input": "2025-07-30T13:11:26.493683Z",
     "iopub.status.busy": "2025-07-30T13:11:26.493032Z",
     "iopub.status.idle": "2025-07-30T13:11:26.516126Z",
     "shell.execute_reply": "2025-07-30T13:11:26.515208Z"
    },
    "papermill": {
     "duration": 0.0535,
     "end_time": "2025-07-30T13:11:26.518079",
     "exception": false,
     "start_time": "2025-07-30T13:11:26.464579",
     "status": "completed"
    },
    "tags": []
   },
   "outputs": [],
   "source": [
    "# do I need to include maxdeutsch1.missing?\n",
    "\n",
    "import numpy as np\n",
    "\n",
    "colname_to_bin = \"maxdeutsch1\"\n",
    "majority_value = org_train[colname_to_bin].mode()[0]\n",
    "\n",
    "org_test[\"majmin\"] = np.where(org_test[colname_to_bin] == majority_value, \"majority\", \"minority\")"
   ]
  },
  {
   "cell_type": "code",
   "execution_count": 73,
   "id": "06a50de5",
   "metadata": {
    "execution": {
     "iopub.execute_input": "2025-07-30T13:11:26.571460Z",
     "iopub.status.busy": "2025-07-30T13:11:26.571010Z",
     "iopub.status.idle": "2025-07-30T13:11:29.436806Z",
     "shell.execute_reply": "2025-07-30T13:11:29.435840Z"
    },
    "papermill": {
     "duration": 2.894958,
     "end_time": "2025-07-30T13:11:29.438840",
     "exception": false,
     "start_time": "2025-07-30T13:11:26.543882",
     "status": "completed"
    },
    "tags": []
   },
   "outputs": [],
   "source": [
    "example_universe = universe.copy()\n",
    "example_universe[\"cutoff\"] = example_universe[\"cutoff\"][0]\n",
    "example_universe[\"eval_fairness_grouping\"] = example_universe[\"eval_fairness_grouping\"][0]\n",
    "fairness_dict, metric_frame = universe_analysis.compute_metrics(\n",
    "    example_universe,\n",
    "    y_pred_prob=probs_test,\n",
    "    y_test=y_true,\n",
    "    org_test=org_test,\n",
    ")"
   ]
  },
  {
   "cell_type": "markdown",
   "id": "f95d4e02",
   "metadata": {
    "papermill": {
     "duration": 0.028608,
     "end_time": "2025-07-30T13:11:29.498129",
     "exception": false,
     "start_time": "2025-07-30T13:11:29.469521",
     "status": "completed"
    },
    "tags": []
   },
   "source": [
    "# Overall"
   ]
  },
  {
   "cell_type": "markdown",
   "id": "bdee4871",
   "metadata": {
    "papermill": {
     "duration": 0.028687,
     "end_time": "2025-07-30T13:11:29.552356",
     "exception": false,
     "start_time": "2025-07-30T13:11:29.523669",
     "status": "completed"
    },
    "tags": []
   },
   "source": [
    "Fairness\n",
    "Main fairness target: Equalized Odds. Seems to be a better fit than equal opportunity, since we're not only interested in Y = 1. Seems to be a better fit than demographic parity, since we also care about accuracy, not just equal distribution of preds.\n",
    "\n",
    "Pick column for computation of fairness metrics\n",
    "\n",
    "Performance\n",
    "Overall performance measures, most interesting in relation to the measures split by group below"
   ]
  },
  {
   "cell_type": "code",
   "execution_count": 74,
   "id": "c4e067c6",
   "metadata": {
    "execution": {
     "iopub.execute_input": "2025-07-30T13:11:29.608732Z",
     "iopub.status.busy": "2025-07-30T13:11:29.607801Z",
     "iopub.status.idle": "2025-07-30T13:11:29.616536Z",
     "shell.execute_reply": "2025-07-30T13:11:29.615500Z"
    },
    "papermill": {
     "duration": 0.040917,
     "end_time": "2025-07-30T13:11:29.618187",
     "exception": false,
     "start_time": "2025-07-30T13:11:29.577270",
     "status": "completed"
    },
    "tags": []
   },
   "outputs": [
    {
     "data": {
      "text/plain": [
       "accuracy                   0.225426\n",
       "balanced accuracy          0.550978\n",
       "f1                         0.246729\n",
       "precision                  0.140948\n",
       "false positive rate        0.886921\n",
       "false negative rate        0.011123\n",
       "selection rate             0.900000\n",
       "count                  89710.000000\n",
       "dtype: float64"
      ]
     },
     "execution_count": 74,
     "metadata": {},
     "output_type": "execute_result"
    }
   ],
   "source": [
    "metric_frame.overall"
   ]
  },
  {
   "cell_type": "markdown",
   "id": "e968fe9d",
   "metadata": {
    "papermill": {
     "duration": 0.020068,
     "end_time": "2025-07-30T13:11:29.662925",
     "exception": false,
     "start_time": "2025-07-30T13:11:29.642857",
     "status": "completed"
    },
    "tags": []
   },
   "source": [
    "By Group"
   ]
  },
  {
   "cell_type": "code",
   "execution_count": 75,
   "id": "ec325bce",
   "metadata": {
    "execution": {
     "iopub.execute_input": "2025-07-30T13:11:29.694091Z",
     "iopub.status.busy": "2025-07-30T13:11:29.693709Z",
     "iopub.status.idle": "2025-07-30T13:11:29.706196Z",
     "shell.execute_reply": "2025-07-30T13:11:29.705437Z"
    },
    "papermill": {
     "duration": 0.030008,
     "end_time": "2025-07-30T13:11:29.707522",
     "exception": false,
     "start_time": "2025-07-30T13:11:29.677514",
     "status": "completed"
    },
    "tags": []
   },
   "outputs": [
    {
     "data": {
      "text/html": [
       "<div>\n",
       "<style scoped>\n",
       "    .dataframe tbody tr th:only-of-type {\n",
       "        vertical-align: middle;\n",
       "    }\n",
       "\n",
       "    .dataframe tbody tr th {\n",
       "        vertical-align: top;\n",
       "    }\n",
       "\n",
       "    .dataframe thead th {\n",
       "        text-align: right;\n",
       "    }\n",
       "</style>\n",
       "<table border=\"1\" class=\"dataframe\">\n",
       "  <thead>\n",
       "    <tr style=\"text-align: right;\">\n",
       "      <th></th>\n",
       "      <th>accuracy</th>\n",
       "      <th>balanced accuracy</th>\n",
       "      <th>f1</th>\n",
       "      <th>precision</th>\n",
       "      <th>false positive rate</th>\n",
       "      <th>false negative rate</th>\n",
       "      <th>selection rate</th>\n",
       "      <th>count</th>\n",
       "    </tr>\n",
       "    <tr>\n",
       "      <th>majmin</th>\n",
       "      <th></th>\n",
       "      <th></th>\n",
       "      <th></th>\n",
       "      <th></th>\n",
       "      <th></th>\n",
       "      <th></th>\n",
       "      <th></th>\n",
       "      <th></th>\n",
       "    </tr>\n",
       "  </thead>\n",
       "  <tbody>\n",
       "    <tr>\n",
       "      <th>majority</th>\n",
       "      <td>0.247448</td>\n",
       "      <td>0.561239</td>\n",
       "      <td>0.257538</td>\n",
       "      <td>0.148073</td>\n",
       "      <td>0.865267</td>\n",
       "      <td>0.012254</td>\n",
       "      <td>0.881451</td>\n",
       "      <td>69170.0</td>\n",
       "    </tr>\n",
       "    <tr>\n",
       "      <th>minority</th>\n",
       "      <td>0.151266</td>\n",
       "      <td>0.517395</td>\n",
       "      <td>0.212495</td>\n",
       "      <td>0.118974</td>\n",
       "      <td>0.958453</td>\n",
       "      <td>0.006757</td>\n",
       "      <td>0.962463</td>\n",
       "      <td>20540.0</td>\n",
       "    </tr>\n",
       "  </tbody>\n",
       "</table>\n",
       "</div>"
      ],
      "text/plain": [
       "          accuracy  balanced accuracy        f1  precision  \\\n",
       "majmin                                                       \n",
       "majority  0.247448           0.561239  0.257538   0.148073   \n",
       "minority  0.151266           0.517395  0.212495   0.118974   \n",
       "\n",
       "          false positive rate  false negative rate  selection rate    count  \n",
       "majmin                                                                       \n",
       "majority             0.865267             0.012254        0.881451  69170.0  \n",
       "minority             0.958453             0.006757        0.962463  20540.0  "
      ]
     },
     "execution_count": 75,
     "metadata": {},
     "output_type": "execute_result"
    }
   ],
   "source": [
    "metric_frame.by_group"
   ]
  },
  {
   "cell_type": "code",
   "execution_count": 76,
   "id": "a9ddbe63",
   "metadata": {
    "execution": {
     "iopub.execute_input": "2025-07-30T13:11:29.738158Z",
     "iopub.status.busy": "2025-07-30T13:11:29.737469Z",
     "iopub.status.idle": "2025-07-30T13:11:32.052694Z",
     "shell.execute_reply": "2025-07-30T13:11:32.051668Z"
    },
    "papermill": {
     "duration": 2.331827,
     "end_time": "2025-07-30T13:11:32.054459",
     "exception": false,
     "start_time": "2025-07-30T13:11:29.722632",
     "status": "completed"
    },
    "tags": []
   },
   "outputs": [
    {
     "data": {
      "text/plain": [
       "array([[<Axes: title={'center': 'accuracy'}, xlabel='majmin'>,\n",
       "        <Axes: title={'center': 'balanced accuracy'}, xlabel='majmin'>,\n",
       "        <Axes: title={'center': 'f1'}, xlabel='majmin'>],\n",
       "       [<Axes: title={'center': 'precision'}, xlabel='majmin'>,\n",
       "        <Axes: title={'center': 'false positive rate'}, xlabel='majmin'>,\n",
       "        <Axes: title={'center': 'false negative rate'}, xlabel='majmin'>],\n",
       "       [<Axes: title={'center': 'selection rate'}, xlabel='majmin'>,\n",
       "        <Axes: title={'center': 'count'}, xlabel='majmin'>,\n",
       "        <Axes: xlabel='majmin'>]], dtype=object)"
      ]
     },
     "execution_count": 76,
     "metadata": {},
     "output_type": "execute_result"
    },
    {
     "data": {
      "image/png": "[encoded data removed]",
      "text/plain": [
       "<Figure size 1200x800 with 9 Axes>"
      ]
     },
     "metadata": {},
     "output_type": "display_data"
    }
   ],
   "source": [
    "# In a graphic\n",
    "metric_frame.by_group.plot.bar(\n",
    "    subplots=True,\n",
    "    layout=[3, 3],\n",
    "    legend=False,\n",
    "    figsize=[12, 8],\n",
    "    title=\"Show all metrics\",\n",
    ")"
   ]
  },
  {
   "cell_type": "markdown",
   "id": "f57a0bac",
   "metadata": {
    "papermill": {
     "duration": 0.027866,
     "end_time": "2025-07-30T13:11:32.111447",
     "exception": false,
     "start_time": "2025-07-30T13:11:32.083581",
     "status": "completed"
    },
    "tags": []
   },
   "source": [
    "# Final Output"
   ]
  },
  {
   "cell_type": "code",
   "execution_count": 77,
   "id": "96d280a3",
   "metadata": {
    "execution": {
     "iopub.execute_input": "2025-07-30T13:11:32.171279Z",
     "iopub.status.busy": "2025-07-30T13:11:32.170604Z",
     "iopub.status.idle": "2025-07-30T13:11:32.179211Z",
     "shell.execute_reply": "2025-07-30T13:11:32.178248Z"
    },
    "papermill": {
     "duration": 0.040393,
     "end_time": "2025-07-30T13:11:32.180930",
     "exception": false,
     "start_time": "2025-07-30T13:11:32.140537",
     "status": "completed"
    },
    "tags": []
   },
   "outputs": [
    {
     "data": {
      "text/plain": [
       "4"
      ]
     },
     "execution_count": 77,
     "metadata": {},
     "output_type": "execute_result"
    }
   ],
   "source": [
    "sub_universes = universe_analysis.generate_sub_universes()\n",
    "len(sub_universes)"
   ]
  },
  {
   "cell_type": "code",
   "execution_count": 78,
   "id": "92adf7ba",
   "metadata": {
    "execution": {
     "iopub.execute_input": "2025-07-30T13:11:32.241647Z",
     "iopub.status.busy": "2025-07-30T13:11:32.241138Z",
     "iopub.status.idle": "2025-07-30T13:11:32.248206Z",
     "shell.execute_reply": "2025-07-30T13:11:32.247096Z"
    },
    "papermill": {
     "duration": 0.040055,
     "end_time": "2025-07-30T13:11:32.249993",
     "exception": false,
     "start_time": "2025-07-30T13:11:32.209938",
     "status": "completed"
    },
    "tags": []
   },
   "outputs": [],
   "source": [
    "def filter_sub_universe_data(sub_universe, org_test):\n",
    "    # Keep all rows — no filtering\n",
    "    keep_rows_mask = np.ones(org_test.shape[0], dtype=bool)\n",
    "\n",
    "    print(f\"[INFO] Keeping all rows: {keep_rows_mask.sum()} rows retained.\")\n",
    "    return keep_rows_mask"
   ]
  },
  {
   "cell_type": "code",
   "execution_count": 79,
   "id": "4a759155",
   "metadata": {
    "execution": {
     "iopub.execute_input": "2025-07-30T13:11:32.310849Z",
     "iopub.status.busy": "2025-07-30T13:11:32.310391Z",
     "iopub.status.idle": "2025-07-30T13:11:40.665089Z",
     "shell.execute_reply": "2025-07-30T13:11:40.664102Z"
    },
    "papermill": {
     "duration": 8.386814,
     "end_time": "2025-07-30T13:11:40.666478",
     "exception": false,
     "start_time": "2025-07-30T13:11:32.279664",
     "status": "completed"
    },
    "tags": []
   },
   "outputs": [
    {
     "name": "stdout",
     "output_type": "stream",
     "text": [
      "Stopping execution_time clock.\n",
      "[INFO] Keeping all rows: 89710 rows retained.\n"
     ]
    },
    {
     "name": "stdout",
     "output_type": "stream",
     "text": [
      "[INFO] Keeping all rows: 89710 rows retained.\n"
     ]
    },
    {
     "name": "stdout",
     "output_type": "stream",
     "text": [
      "[INFO] Keeping all rows: 89710 rows retained.\n"
     ]
    },
    {
     "name": "stdout",
     "output_type": "stream",
     "text": [
      "[INFO] Keeping all rows: 89710 rows retained.\n"
     ]
    },
    {
     "data": {
      "text/html": [
       "<div>\n",
       "<style scoped>\n",
       "    .dataframe tbody tr th:only-of-type {\n",
       "        vertical-align: middle;\n",
       "    }\n",
       "\n",
       "    .dataframe tbody tr th {\n",
       "        vertical-align: top;\n",
       "    }\n",
       "\n",
       "    .dataframe thead th {\n",
       "        text-align: right;\n",
       "    }\n",
       "</style>\n",
       "<table border=\"1\" class=\"dataframe\">\n",
       "  <thead>\n",
       "    <tr style=\"text-align: right;\">\n",
       "      <th></th>\n",
       "      <th>run_no</th>\n",
       "      <th>universe_id</th>\n",
       "      <th>universe_settings</th>\n",
       "      <th>execution_time</th>\n",
       "      <th>test_size_n</th>\n",
       "      <th>test_size_frac</th>\n",
       "      <th>fair_main_equalized_odds_difference</th>\n",
       "      <th>fair_main_equalized_odds_ratio</th>\n",
       "      <th>fair_main_demographic_parity_difference</th>\n",
       "      <th>fair_main_demographic_parity_ratio</th>\n",
       "      <th>...</th>\n",
       "      <th>perf_grp_precision_0</th>\n",
       "      <th>perf_grp_precision_1</th>\n",
       "      <th>perf_grp_false positive rate_0</th>\n",
       "      <th>perf_grp_false positive rate_1</th>\n",
       "      <th>perf_grp_false negative rate_0</th>\n",
       "      <th>perf_grp_false negative rate_1</th>\n",
       "      <th>perf_grp_selection rate_0</th>\n",
       "      <th>perf_grp_selection rate_1</th>\n",
       "      <th>perf_grp_count_0</th>\n",
       "      <th>perf_grp_count_1</th>\n",
       "    </tr>\n",
       "  </thead>\n",
       "  <tbody>\n",
       "    <tr>\n",
       "      <th>0</th>\n",
       "      <td>12</td>\n",
       "      <td>7751cc1fc37583662872acc321b2c017</td>\n",
       "      <td>{\"cutoff\": \"quantile_0.1\", \"eval_fairness_grou...</td>\n",
       "      <td>49.747865</td>\n",
       "      <td>89710</td>\n",
       "      <td>1.0</td>\n",
       "      <td>0.093185</td>\n",
       "      <td>0.902775</td>\n",
       "      <td>0.081012</td>\n",
       "      <td>0.915829</td>\n",
       "      <td>...</td>\n",
       "      <td>NaN</td>\n",
       "      <td>NaN</td>\n",
       "      <td>NaN</td>\n",
       "      <td>NaN</td>\n",
       "      <td>NaN</td>\n",
       "      <td>NaN</td>\n",
       "      <td>NaN</td>\n",
       "      <td>NaN</td>\n",
       "      <td>NaN</td>\n",
       "      <td>NaN</td>\n",
       "    </tr>\n",
       "    <tr>\n",
       "      <th>0</th>\n",
       "      <td>12</td>\n",
       "      <td>7751cc1fc37583662872acc321b2c017</td>\n",
       "      <td>{\"cutoff\": \"quantile_0.1\", \"eval_fairness_grou...</td>\n",
       "      <td>49.747865</td>\n",
       "      <td>89710</td>\n",
       "      <td>1.0</td>\n",
       "      <td>0.093185</td>\n",
       "      <td>0.902775</td>\n",
       "      <td>0.081012</td>\n",
       "      <td>0.915829</td>\n",
       "      <td>...</td>\n",
       "      <td>0.118974</td>\n",
       "      <td>0.148073</td>\n",
       "      <td>0.958453</td>\n",
       "      <td>0.865267</td>\n",
       "      <td>0.006757</td>\n",
       "      <td>0.012254</td>\n",
       "      <td>0.962463</td>\n",
       "      <td>0.881451</td>\n",
       "      <td>20540.0</td>\n",
       "      <td>69170.0</td>\n",
       "    </tr>\n",
       "    <tr>\n",
       "      <th>0</th>\n",
       "      <td>12</td>\n",
       "      <td>7751cc1fc37583662872acc321b2c017</td>\n",
       "      <td>{\"cutoff\": \"quantile_0.25\", \"eval_fairness_gro...</td>\n",
       "      <td>49.747865</td>\n",
       "      <td>89710</td>\n",
       "      <td>1.0</td>\n",
       "      <td>0.159808</td>\n",
       "      <td>0.810429</td>\n",
       "      <td>0.138668</td>\n",
       "      <td>0.838177</td>\n",
       "      <td>...</td>\n",
       "      <td>NaN</td>\n",
       "      <td>NaN</td>\n",
       "      <td>NaN</td>\n",
       "      <td>NaN</td>\n",
       "      <td>NaN</td>\n",
       "      <td>NaN</td>\n",
       "      <td>NaN</td>\n",
       "      <td>NaN</td>\n",
       "      <td>NaN</td>\n",
       "      <td>NaN</td>\n",
       "    </tr>\n",
       "    <tr>\n",
       "      <th>0</th>\n",
       "      <td>12</td>\n",
       "      <td>7751cc1fc37583662872acc321b2c017</td>\n",
       "      <td>{\"cutoff\": \"quantile_0.25\", \"eval_fairness_gro...</td>\n",
       "      <td>49.747865</td>\n",
       "      <td>89710</td>\n",
       "      <td>1.0</td>\n",
       "      <td>0.159808</td>\n",
       "      <td>0.810429</td>\n",
       "      <td>0.138668</td>\n",
       "      <td>0.838177</td>\n",
       "      <td>...</td>\n",
       "      <td>0.129652</td>\n",
       "      <td>0.174493</td>\n",
       "      <td>0.843000</td>\n",
       "      <td>0.683192</td>\n",
       "      <td>0.036318</td>\n",
       "      <td>0.051532</td>\n",
       "      <td>0.856913</td>\n",
       "      <td>0.718245</td>\n",
       "      <td>20540.0</td>\n",
       "      <td>69170.0</td>\n",
       "    </tr>\n",
       "  </tbody>\n",
       "</table>\n",
       "<p>4 rows × 50 columns</p>\n",
       "</div>"
      ],
      "text/plain": [
       "  run_no                       universe_id  \\\n",
       "0     12  7751cc1fc37583662872acc321b2c017   \n",
       "0     12  7751cc1fc37583662872acc321b2c017   \n",
       "0     12  7751cc1fc37583662872acc321b2c017   \n",
       "0     12  7751cc1fc37583662872acc321b2c017   \n",
       "\n",
       "                                   universe_settings  execution_time  \\\n",
       "0  {\"cutoff\": \"quantile_0.1\", \"eval_fairness_grou...       49.747865   \n",
       "0  {\"cutoff\": \"quantile_0.1\", \"eval_fairness_grou...       49.747865   \n",
       "0  {\"cutoff\": \"quantile_0.25\", \"eval_fairness_gro...       49.747865   \n",
       "0  {\"cutoff\": \"quantile_0.25\", \"eval_fairness_gro...       49.747865   \n",
       "\n",
       "   test_size_n  test_size_frac  fair_main_equalized_odds_difference  \\\n",
       "0        89710             1.0                             0.093185   \n",
       "0        89710             1.0                             0.093185   \n",
       "0        89710             1.0                             0.159808   \n",
       "0        89710             1.0                             0.159808   \n",
       "\n",
       "   fair_main_equalized_odds_ratio  fair_main_demographic_parity_difference  \\\n",
       "0                        0.902775                                 0.081012   \n",
       "0                        0.902775                                 0.081012   \n",
       "0                        0.810429                                 0.138668   \n",
       "0                        0.810429                                 0.138668   \n",
       "\n",
       "   fair_main_demographic_parity_ratio  ...  perf_grp_precision_0  \\\n",
       "0                            0.915829  ...                   NaN   \n",
       "0                            0.915829  ...              0.118974   \n",
       "0                            0.838177  ...                   NaN   \n",
       "0                            0.838177  ...              0.129652   \n",
       "\n",
       "   perf_grp_precision_1  perf_grp_false positive rate_0  \\\n",
       "0                   NaN                             NaN   \n",
       "0              0.148073                        0.958453   \n",
       "0                   NaN                             NaN   \n",
       "0              0.174493                        0.843000   \n",
       "\n",
       "   perf_grp_false positive rate_1  perf_grp_false negative rate_0  \\\n",
       "0                             NaN                             NaN   \n",
       "0                        0.865267                        0.006757   \n",
       "0                             NaN                             NaN   \n",
       "0                        0.683192                        0.036318   \n",
       "\n",
       "   perf_grp_false negative rate_1  perf_grp_selection rate_0  \\\n",
       "0                             NaN                        NaN   \n",
       "0                        0.012254                   0.962463   \n",
       "0                             NaN                        NaN   \n",
       "0                        0.051532                   0.856913   \n",
       "\n",
       "   perf_grp_selection rate_1  perf_grp_count_0  perf_grp_count_1  \n",
       "0                        NaN               NaN               NaN  \n",
       "0                   0.881451           20540.0           69170.0  \n",
       "0                        NaN               NaN               NaN  \n",
       "0                   0.718245           20540.0           69170.0  \n",
       "\n",
       "[4 rows x 50 columns]"
      ]
     },
     "execution_count": 79,
     "metadata": {},
     "output_type": "execute_result"
    }
   ],
   "source": [
    "final_output = universe_analysis.generate_final_output(\n",
    "    y_pred_prob=probs_test,\n",
    "    y_test=y_true,\n",
    "    org_test=org_test,\n",
    "    filter_data=filter_sub_universe_data,\n",
    "    cp_metrics_df=cp_metrics_df,\n",
    "    save=True,\n",
    ")\n",
    "final_output"
   ]
  },
  {
   "cell_type": "code",
   "execution_count": null,
   "id": "721ff514-cb11-46f8-b6fc-50392f74b5cb",
   "metadata": {
    "papermill": {
     "duration": 0.02961,
     "end_time": "2025-07-30T13:11:40.730488",
     "exception": false,
     "start_time": "2025-07-30T13:11:40.700878",
     "status": "completed"
    },
    "tags": []
   },
   "outputs": [],
   "source": []
  }
 ],
 "metadata": {
  "celltoolbar": "Tags",
  "kernelspec": {
   "display_name": "Python (CMA Fairness)",
   "language": "python",
   "name": "cma_fair_env"
  },
  "language_info": {
   "codemirror_mode": {
    "name": "ipython",
    "version": 3
   },
   "file_extension": ".py",
   "mimetype": "text/x-python",
   "name": "python",
   "nbconvert_exporter": "python",
   "pygments_lexer": "ipython3",
   "version": "3.10.12"
  },
  "papermill": {
   "default_parameters": {},
   "duration": 62.461586,
   "end_time": "2025-07-30T13:11:41.581341",
   "environment_variables": {},
   "exception": null,
   "input_path": "universe_analysis.ipynb",
   "output_path": "output/runs/12/notebooks/m_12-7751cc1fc37583662872acc321b2c017.ipynb",
   "parameters": {
    "output_dir": "output",
    "run_no": "12",
    "seed": "2023",
    "universe": "{\"cutoff\": [\"quantile_0.1\", \"quantile_0.25\"], \"eval_fairness_grouping\": [\"majority-minority\", \"nationality-all\"], \"exclude_features\": \"nationality-sex\", \"exclude_subgroups\": \"keep-all\", \"model\": \"elasticnet\", \"scale\": \"scale\", \"training_size\": \"25k\", \"training_year\": \"2012_14\"}",
    "universe_id": "7751cc1fc37583662872acc321b2c017"
   },
   "start_time": "2025-07-30T13:10:39.119755",
   "version": "2.6.0"
  }
 },
 "nbformat": 4,
 "nbformat_minor": 5
}