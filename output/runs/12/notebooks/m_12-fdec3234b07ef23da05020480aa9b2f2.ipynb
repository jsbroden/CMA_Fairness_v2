{
 "cells": [
  {
   "cell_type": "code",
   "execution_count": 1,
   "id": "f159f837-637b-42ba-96b5-ec9a68c44524",
   "metadata": {
    "execution": {
     "iopub.execute_input": "2025-07-30T13:56:07.754268Z",
     "iopub.status.busy": "2025-07-30T13:56:07.753737Z",
     "iopub.status.idle": "2025-07-30T13:56:07.769416Z",
     "shell.execute_reply": "2025-07-30T13:56:07.768155Z"
    },
    "papermill": {
     "duration": 0.047913,
     "end_time": "2025-07-30T13:56:07.771200",
     "exception": false,
     "start_time": "2025-07-30T13:56:07.723287",
     "status": "completed"
    },
    "tags": []
   },
   "outputs": [
    {
     "name": "stdout",
     "output_type": "stream",
     "text": [
      "/dss/dsshome1/0C/ra93lal2/cma/CMA_Fairness_v2\n"
     ]
    },
    {
     "name": "stderr",
     "output_type": "stream",
     "text": [
      "/dss/dsshome1/0C/ra93lal2/.local/share/virtualenvs/CMA_Fairness_v2-3j10GkSs/lib/python3.10/site-packages/IPython/core/magics/osm.py:393: UserWarning: This is now an optional IPython functionality, using bookmarks requires you to install the `pickleshare` library.\n",
      "  bkms = self.shell.db.get('bookmarks', {})\n",
      "/dss/dsshome1/0C/ra93lal2/.local/share/virtualenvs/CMA_Fairness_v2-3j10GkSs/lib/python3.10/site-packages/IPython/core/magics/osm.py:417: UserWarning: This is now an optional IPython functionality, setting dhist requires you to install the `pickleshare` library.\n",
      "  self.shell.db['dhist'] = compress_dhist(dhist)[-100:]\n"
     ]
    }
   ],
   "source": [
    "%cd ~/cma/CMA_Fairness_v2"
   ]
  },
  {
   "cell_type": "markdown",
   "id": "de2603b9",
   "metadata": {
    "papermill": {
     "duration": 0.018718,
     "end_time": "2025-07-30T13:56:07.809874",
     "exception": false,
     "start_time": "2025-07-30T13:56:07.791156",
     "status": "completed"
    },
    "tags": []
   },
   "source": [
    "The following cell holds the definition of our parameters, these values can be overriden by rendering the with e.g. the following command:\n",
    "\n",
    "papermill -p alpha 0.2 -p ratio 0.3 universe_analysis.ipynb output/test_run.ipynb"
   ]
  },
  {
   "cell_type": "code",
   "execution_count": 2,
   "id": "a80968a0-40bb-4fa9-85ef-2d5eefb01975",
   "metadata": {
    "execution": {
     "iopub.execute_input": "2025-07-30T13:56:07.850483Z",
     "iopub.status.busy": "2025-07-30T13:56:07.850037Z",
     "iopub.status.idle": "2025-07-30T13:56:07.855235Z",
     "shell.execute_reply": "2025-07-30T13:56:07.854326Z"
    },
    "papermill": {
     "duration": 0.027474,
     "end_time": "2025-07-30T13:56:07.856771",
     "exception": false,
     "start_time": "2025-07-30T13:56:07.829297",
     "status": "completed"
    },
    "tags": []
   },
   "outputs": [
    {
     "name": "stdout",
     "output_type": "stream",
     "text": [
      "Current working directory: /dss/dsshome1/0C/ra93lal2/cma/CMA_Fairness_v2\n"
     ]
    }
   ],
   "source": [
    "import os\n",
    "print(\"Current working directory:\", os.getcwd())"
   ]
  },
  {
   "cell_type": "code",
   "execution_count": 3,
   "id": "2dce4c03",
   "metadata": {
    "execution": {
     "iopub.execute_input": "2025-07-30T13:56:07.895269Z",
     "iopub.status.busy": "2025-07-30T13:56:07.894671Z",
     "iopub.status.idle": "2025-07-30T13:56:07.901316Z",
     "shell.execute_reply": "2025-07-30T13:56:07.900345Z"
    },
    "papermill": {
     "duration": 0.027443,
     "end_time": "2025-07-30T13:56:07.902929",
     "exception": false,
     "start_time": "2025-07-30T13:56:07.875486",
     "status": "completed"
    },
    "tags": [
     "parameters"
    ]
   },
   "outputs": [],
   "source": [
    "run_no = 0\n",
    "universe_id = \"test\"\n",
    "universe = {\n",
    "    \"training_size\": \"25k\", # \"25k\", \"5k\", \"1k\"\n",
    "    \"training_year\": \"2014\", # \"2014\", \"2012_14\", \"2010_14\"\n",
    "    \"scale\": \"scale\", # \"scale\", \"do-not-scale\",\n",
    "    #\"stratify_split\": \"target\", # \"none\", \"target\", \"protected-attribute\", \"both\",\n",
    "    \"model\": \"elasticnet\", # \"logreg\", \"penalized_logreg\", \"rf\", \"gbm\", \"elasticnet\"\n",
    "    \"cutoff\": [\"quantile_0.15\", \"quantile_0.30\"],\n",
    "    \"exclude_features\": \"age\", # \"none\", \"nationality\", \"sex\", \"nationality-sex\", \"age\"\n",
    "    \"exclude_subgroups\": \"keep-all\", # \"keep-all\", \"drop-non-german\"\n",
    "    \"eval_fairness_grouping\": [\"majority-minority\", \"nationality-all\"]\n",
    "}\n",
    "\n",
    "output_dir=\"./output\"\n",
    "seed=0"
   ]
  },
  {
   "cell_type": "code",
   "execution_count": 4,
   "id": "aca5c40e",
   "metadata": {
    "execution": {
     "iopub.execute_input": "2025-07-30T13:56:07.944445Z",
     "iopub.status.busy": "2025-07-30T13:56:07.943782Z",
     "iopub.status.idle": "2025-07-30T13:56:07.949119Z",
     "shell.execute_reply": "2025-07-30T13:56:07.948231Z"
    },
    "papermill": {
     "duration": 0.028076,
     "end_time": "2025-07-30T13:56:07.950773",
     "exception": false,
     "start_time": "2025-07-30T13:56:07.922697",
     "status": "completed"
    },
    "tags": [
     "injected-parameters"
    ]
   },
   "outputs": [],
   "source": [
    "# Parameters\n",
    "universe_id = \"fdec3234b07ef23da05020480aa9b2f2\"\n",
    "run_no = \"12\"\n",
    "universe = \"{\\\"cutoff\\\": [\\\"quantile_0.1\\\", \\\"quantile_0.25\\\"], \\\"eval_fairness_grouping\\\": [\\\"majority-minority\\\", \\\"nationality-all\\\"], \\\"exclude_features\\\": \\\"sex\\\", \\\"exclude_subgroups\\\": \\\"drop-non-german\\\", \\\"model\\\": \\\"rf\\\", \\\"scale\\\": \\\"scale\\\", \\\"training_size\\\": \\\"5k\\\", \\\"training_year\\\": \\\"2012_14\\\"}\"\n",
    "output_dir = \"output\"\n",
    "seed = \"2023\"\n"
   ]
  },
  {
   "cell_type": "code",
   "execution_count": 5,
   "id": "1650acaf",
   "metadata": {
    "execution": {
     "iopub.execute_input": "2025-07-30T13:56:07.991294Z",
     "iopub.status.busy": "2025-07-30T13:56:07.990460Z",
     "iopub.status.idle": "2025-07-30T13:56:07.995682Z",
     "shell.execute_reply": "2025-07-30T13:56:07.994744Z"
    },
    "papermill": {
     "duration": 0.027486,
     "end_time": "2025-07-30T13:56:07.997638",
     "exception": false,
     "start_time": "2025-07-30T13:56:07.970152",
     "status": "completed"
    },
    "tags": []
   },
   "outputs": [],
   "source": [
    "import json\n",
    "# Parse universe into dict if it is passed as a string\n",
    "if isinstance(universe, str):\n",
    "    universe = json.loads(universe)"
   ]
  },
  {
   "cell_type": "code",
   "execution_count": 6,
   "id": "16620c48",
   "metadata": {
    "execution": {
     "iopub.execute_input": "2025-07-30T13:56:08.038361Z",
     "iopub.status.busy": "2025-07-30T13:56:08.037534Z",
     "iopub.status.idle": "2025-07-30T13:56:08.080356Z",
     "shell.execute_reply": "2025-07-30T13:56:08.079427Z"
    },
    "papermill": {
     "duration": 0.064619,
     "end_time": "2025-07-30T13:56:08.082164",
     "exception": false,
     "start_time": "2025-07-30T13:56:08.017545",
     "status": "completed"
    },
    "tags": []
   },
   "outputs": [],
   "source": [
    "# Auto-reload the custom package\n",
    "%load_ext autoreload\n",
    "%autoreload 1\n",
    "%aimport fairness_multiverse"
   ]
  },
  {
   "cell_type": "code",
   "execution_count": 7,
   "id": "01c5c9f3",
   "metadata": {
    "execution": {
     "iopub.execute_input": "2025-07-30T13:56:08.124048Z",
     "iopub.status.busy": "2025-07-30T13:56:08.123396Z",
     "iopub.status.idle": "2025-07-30T13:56:10.049792Z",
     "shell.execute_reply": "2025-07-30T13:56:10.048726Z"
    },
    "papermill": {
     "duration": 1.949311,
     "end_time": "2025-07-30T13:56:10.051761",
     "exception": false,
     "start_time": "2025-07-30T13:56:08.102450",
     "status": "completed"
    },
    "tags": []
   },
   "outputs": [],
   "source": [
    "from fairness_multiverse.universe import UniverseAnalysis\n",
    "\n",
    "universe_analysis = UniverseAnalysis(\n",
    "    run_no = run_no,\n",
    "    universe_id = universe_id,\n",
    "    universe = universe,\n",
    "    output_dir=output_dir,\n",
    ")"
   ]
  },
  {
   "cell_type": "code",
   "execution_count": 8,
   "id": "106241f5",
   "metadata": {
    "execution": {
     "iopub.execute_input": "2025-07-30T13:56:10.093477Z",
     "iopub.status.busy": "2025-07-30T13:56:10.093016Z",
     "iopub.status.idle": "2025-07-30T13:56:10.100279Z",
     "shell.execute_reply": "2025-07-30T13:56:10.099295Z"
    },
    "papermill": {
     "duration": 0.029527,
     "end_time": "2025-07-30T13:56:10.101949",
     "exception": false,
     "start_time": "2025-07-30T13:56:10.072422",
     "status": "completed"
    },
    "tags": []
   },
   "outputs": [
    {
     "name": "stdout",
     "output_type": "stream",
     "text": [
      "Using Seed: 2023\n"
     ]
    }
   ],
   "source": [
    "import numpy as np\n",
    "parsed_seed = int(seed)\n",
    "np.random.seed(parsed_seed)\n",
    "print(f\"Using Seed: {parsed_seed}\")"
   ]
  },
  {
   "cell_type": "markdown",
   "id": "e0ebdc57",
   "metadata": {
    "papermill": {
     "duration": 0.019184,
     "end_time": "2025-07-30T13:56:10.140874",
     "exception": false,
     "start_time": "2025-07-30T13:56:10.121690",
     "status": "completed"
    },
    "tags": []
   },
   "source": [
    "# Loading Data"
   ]
  },
  {
   "cell_type": "markdown",
   "id": "681925a3",
   "metadata": {
    "papermill": {
     "duration": 0.019842,
     "end_time": "2025-07-30T13:56:10.179680",
     "exception": false,
     "start_time": "2025-07-30T13:56:10.159838",
     "status": "completed"
    },
    "tags": []
   },
   "source": [
    "Load siab_train, siab_test, siab_calib and/or \n",
    "load siab_train_features, siab_train_labels"
   ]
  },
  {
   "cell_type": "code",
   "execution_count": 9,
   "id": "f0496b8a",
   "metadata": {
    "execution": {
     "iopub.execute_input": "2025-07-30T13:56:10.219508Z",
     "iopub.status.busy": "2025-07-30T13:56:10.218950Z",
     "iopub.status.idle": "2025-07-30T13:56:23.833954Z",
     "shell.execute_reply": "2025-07-30T13:56:23.832157Z"
    },
    "papermill": {
     "duration": 13.638373,
     "end_time": "2025-07-30T13:56:23.836610",
     "exception": false,
     "start_time": "2025-07-30T13:56:10.198237",
     "status": "completed"
    },
    "tags": []
   },
   "outputs": [
    {
     "name": "stdout",
     "output_type": "stream",
     "text": [
      "Loading SIAB data from cache: data/siab_cached.csv.gz\n"
     ]
    },
    {
     "name": "stdout",
     "output_type": "stream",
     "text": [
      "(643690, 164)\n"
     ]
    }
   ],
   "source": [
    "from pathlib import Path\n",
    "import pandas as pd\n",
    "\n",
    "# File paths\n",
    "raw_file = Path(\"data/raw/siab.csv\")\n",
    "cache_file = Path(\"data/siab_cached.csv.gz\")\n",
    "\n",
    "# Ensure cache directory exists\n",
    "cache_file.parent.mkdir(parents=True, exist_ok=True)\n",
    "\n",
    "# Load with simple caching\n",
    "if cache_file.exists():\n",
    "    print(f\"Loading SIAB data from cache: {cache_file}\")\n",
    "    siab = pd.read_csv(cache_file, compression='gzip')\n",
    "else:\n",
    "    print(f\"Cache not found. Reading raw SIAB data: {raw_file}\")\n",
    "    siab = pd.read_csv(raw_file)\n",
    "    siab.to_csv(cache_file, index=False, compression='gzip')\n",
    "    print(f\"Cached SIAB data to: {cache_file}\")\n",
    "\n",
    "# Now use `siab` DataFrame as needed\n",
    "print(siab.shape)"
   ]
  },
  {
   "cell_type": "code",
   "execution_count": 10,
   "id": "db0ca512-5f53-4dba-abdb-a2888bca41ba",
   "metadata": {
    "execution": {
     "iopub.execute_input": "2025-07-30T13:56:23.898006Z",
     "iopub.status.busy": "2025-07-30T13:56:23.897431Z",
     "iopub.status.idle": "2025-07-30T13:56:23.904427Z",
     "shell.execute_reply": "2025-07-30T13:56:23.903262Z"
    },
    "papermill": {
     "duration": 0.037975,
     "end_time": "2025-07-30T13:56:23.907654",
     "exception": false,
     "start_time": "2025-07-30T13:56:23.869679",
     "status": "completed"
    },
    "tags": []
   },
   "outputs": [],
   "source": [
    "#siab"
   ]
  },
  {
   "cell_type": "code",
   "execution_count": 11,
   "id": "a0edb063",
   "metadata": {
    "execution": {
     "iopub.execute_input": "2025-07-30T13:56:23.961601Z",
     "iopub.status.busy": "2025-07-30T13:56:23.961162Z",
     "iopub.status.idle": "2025-07-30T13:56:23.967054Z",
     "shell.execute_reply": "2025-07-30T13:56:23.965967Z"
    },
    "papermill": {
     "duration": 0.036634,
     "end_time": "2025-07-30T13:56:23.970824",
     "exception": false,
     "start_time": "2025-07-30T13:56:23.934190",
     "status": "completed"
    },
    "tags": []
   },
   "outputs": [],
   "source": [
    "#import pandas as pd\n",
    "#\n",
    "#X_train = pd.read_csv(\"./data/X_train.csv\")\n",
    "#y_train = pd.read_csv(\"./data/y_train.csv\")"
   ]
  },
  {
   "cell_type": "code",
   "execution_count": 12,
   "id": "63d08085",
   "metadata": {
    "execution": {
     "iopub.execute_input": "2025-07-30T13:56:24.027140Z",
     "iopub.status.busy": "2025-07-30T13:56:24.026650Z",
     "iopub.status.idle": "2025-07-30T13:56:24.032722Z",
     "shell.execute_reply": "2025-07-30T13:56:24.031638Z"
    },
    "papermill": {
     "duration": 0.037958,
     "end_time": "2025-07-30T13:56:24.036727",
     "exception": false,
     "start_time": "2025-07-30T13:56:23.998769",
     "status": "completed"
    },
    "tags": []
   },
   "outputs": [],
   "source": [
    "#X_test = pd.read_csv(\"./data/X_test.csv\")\n",
    "#y_true = pd.read_csv(\"./data/y_test.csv\")"
   ]
  },
  {
   "cell_type": "code",
   "execution_count": 13,
   "id": "98a8d0fa-1d3d-4ed8-bb2c-281470e24add",
   "metadata": {
    "execution": {
     "iopub.execute_input": "2025-07-30T13:56:24.094760Z",
     "iopub.status.busy": "2025-07-30T13:56:24.094243Z",
     "iopub.status.idle": "2025-07-30T13:56:24.100806Z",
     "shell.execute_reply": "2025-07-30T13:56:24.099850Z"
    },
    "papermill": {
     "duration": 0.040105,
     "end_time": "2025-07-30T13:56:24.103730",
     "exception": false,
     "start_time": "2025-07-30T13:56:24.063625",
     "status": "completed"
    },
    "tags": []
   },
   "outputs": [],
   "source": [
    "# Calibration data for conformal\n",
    "#X_calib = pd.read_csv(\"./data/X_calib.csv\")\n",
    "#y_calib = pd.read_csv(\"./data/y_calib.csv\")"
   ]
  },
  {
   "cell_type": "markdown",
   "id": "997051c5-15bd-4b69-9786-c3001a3ce484",
   "metadata": {
    "papermill": {
     "duration": 0.030327,
     "end_time": "2025-07-30T13:56:24.162528",
     "exception": false,
     "start_time": "2025-07-30T13:56:24.132201",
     "status": "completed"
    },
    "tags": []
   },
   "source": [
    "# Splitting Data and Setting Training Data Size"
   ]
  },
  {
   "cell_type": "code",
   "execution_count": 14,
   "id": "e993b61f-042d-41a6-8c81-f55681f86335",
   "metadata": {
    "execution": {
     "iopub.execute_input": "2025-07-30T13:56:24.225222Z",
     "iopub.status.busy": "2025-07-30T13:56:24.224664Z",
     "iopub.status.idle": "2025-07-30T13:56:24.242957Z",
     "shell.execute_reply": "2025-07-30T13:56:24.241538Z"
    },
    "papermill": {
     "duration": 0.053271,
     "end_time": "2025-07-30T13:56:24.245913",
     "exception": false,
     "start_time": "2025-07-30T13:56:24.192642",
     "status": "completed"
    },
    "tags": []
   },
   "outputs": [],
   "source": [
    "def sample_by_year_size(df,\n",
    "                        training_year: str,\n",
    "                        training_size: str,\n",
    "                        random_state: int = 42):\n",
    "    # --- parse training_year into a list of int years ---\n",
    "    if \"_\" in training_year:\n",
    "        start_str, end_str = training_year.split(\"_\", 1)\n",
    "        start = int(start_str)\n",
    "        end   = int(end_str) if len(end_str) == 4 else (int(end_str) + (start // 100)*100)\n",
    "        years = list(range(start, end + 1))\n",
    "    else:\n",
    "        years = [int(training_year)]\n",
    "\n",
    "    df = df[df[\"year\"].isin(years)].reset_index(drop=True)\n",
    "\n",
    "    # --- map training_size to total number of samples ---\n",
    "    total_map = {\"25k\": 25_000, \"5k\": 5_000, \"1k\": 1_000}\n",
    "    if training_size not in total_map:\n",
    "        return df  # e.g. \"all\"\n",
    "\n",
    "    total_samples = total_map[training_size]\n",
    "    n_years       = len(years)\n",
    "    base          = total_samples // n_years\n",
    "    remainder     = total_samples % n_years\n",
    "\n",
    "    # --- build a dict: year -> how many to sample ---\n",
    "    # give +1 to the first `remainder` years in ascending order\n",
    "    quotas = {\n",
    "        year: base + (1 if idx < remainder else 0)\n",
    "        for idx, year in enumerate(sorted(years))\n",
    "    }\n",
    "\n",
    "    # --- sample per‐year according to the quota dict ---\n",
    "    sampled = (\n",
    "        df\n",
    "        .groupby(\"year\", group_keys=False)\n",
    "        .apply(lambda grp: grp.sample(\n",
    "            n=min(len(grp), quotas[grp.name]),\n",
    "            random_state=random_state))\n",
    "        .reset_index(drop=True)\n",
    "    )\n",
    "\n",
    "    return sampled"
   ]
  },
  {
   "cell_type": "code",
   "execution_count": 15,
   "id": "c0ccd338-0e02-41f3-a09d-f56f9266e3fb",
   "metadata": {
    "execution": {
     "iopub.execute_input": "2025-07-30T13:56:24.314741Z",
     "iopub.status.busy": "2025-07-30T13:56:24.314165Z",
     "iopub.status.idle": "2025-07-30T13:56:24.329162Z",
     "shell.execute_reply": "2025-07-30T13:56:24.327702Z"
    },
    "papermill": {
     "duration": 0.053841,
     "end_time": "2025-07-30T13:56:24.332240",
     "exception": false,
     "start_time": "2025-07-30T13:56:24.278399",
     "status": "completed"
    },
    "tags": []
   },
   "outputs": [
    {
     "data": {
      "text/plain": [
       "'5k'"
      ]
     },
     "execution_count": 15,
     "metadata": {},
     "output_type": "execute_result"
    }
   ],
   "source": [
    "universe[\"training_size\"]"
   ]
  },
  {
   "cell_type": "code",
   "execution_count": 16,
   "id": "ca707fd7-8047-4acd-bfa5-66248fbbf8e6",
   "metadata": {
    "execution": {
     "iopub.execute_input": "2025-07-30T13:56:24.397052Z",
     "iopub.status.busy": "2025-07-30T13:56:24.396508Z",
     "iopub.status.idle": "2025-07-30T13:56:24.407311Z",
     "shell.execute_reply": "2025-07-30T13:56:24.405765Z"
    },
    "papermill": {
     "duration": 0.050039,
     "end_time": "2025-07-30T13:56:24.413540",
     "exception": false,
     "start_time": "2025-07-30T13:56:24.363501",
     "status": "completed"
    },
    "tags": []
   },
   "outputs": [
    {
     "data": {
      "text/plain": [
       "'2012_14'"
      ]
     },
     "execution_count": 16,
     "metadata": {},
     "output_type": "execute_result"
    }
   ],
   "source": [
    "universe[\"training_year\"]"
   ]
  },
  {
   "cell_type": "code",
   "execution_count": 17,
   "id": "aea9c6ef-6f46-42c8-85eb-5a62025c1508",
   "metadata": {
    "execution": {
     "iopub.execute_input": "2025-07-30T13:56:24.476430Z",
     "iopub.status.busy": "2025-07-30T13:56:24.475850Z",
     "iopub.status.idle": "2025-07-30T13:56:25.500425Z",
     "shell.execute_reply": "2025-07-30T13:56:25.499256Z"
    },
    "papermill": {
     "duration": 1.062674,
     "end_time": "2025-07-30T13:56:25.506297",
     "exception": false,
     "start_time": "2025-07-30T13:56:24.443623",
     "status": "completed"
    },
    "tags": []
   },
   "outputs": [],
   "source": [
    "siab_train = sample_by_year_size(siab,\n",
    "                               training_year=universe[\"training_year\"],\n",
    "                               training_size=universe[\"training_size\"])"
   ]
  },
  {
   "cell_type": "code",
   "execution_count": 18,
   "id": "8d3afb32-789d-442c-8d5d-9f5aa8dd2eed",
   "metadata": {
    "execution": {
     "iopub.execute_input": "2025-07-30T13:56:25.552964Z",
     "iopub.status.busy": "2025-07-30T13:56:25.552459Z",
     "iopub.status.idle": "2025-07-30T13:56:25.560346Z",
     "shell.execute_reply": "2025-07-30T13:56:25.559397Z"
    },
    "papermill": {
     "duration": 0.034928,
     "end_time": "2025-07-30T13:56:25.562009",
     "exception": false,
     "start_time": "2025-07-30T13:56:25.527081",
     "status": "completed"
    },
    "tags": []
   },
   "outputs": [
    {
     "data": {
      "text/plain": [
       "(5000, 164)"
      ]
     },
     "execution_count": 18,
     "metadata": {},
     "output_type": "execute_result"
    }
   ],
   "source": [
    "siab_train.shape"
   ]
  },
  {
   "cell_type": "code",
   "execution_count": 19,
   "id": "d582db68-1a4c-47fb-84fc-08518dc1975a",
   "metadata": {
    "execution": {
     "iopub.execute_input": "2025-07-30T13:56:25.612454Z",
     "iopub.status.busy": "2025-07-30T13:56:25.612058Z",
     "iopub.status.idle": "2025-07-30T13:56:25.622737Z",
     "shell.execute_reply": "2025-07-30T13:56:25.621776Z"
    },
    "papermill": {
     "duration": 0.044268,
     "end_time": "2025-07-30T13:56:25.629041",
     "exception": false,
     "start_time": "2025-07-30T13:56:25.584773",
     "status": "completed"
    },
    "tags": []
   },
   "outputs": [
    {
     "data": {
      "text/plain": [
       "year\n",
       "2012    1667\n",
       "2013    1667\n",
       "2014    1666\n",
       "dtype: int64"
      ]
     },
     "metadata": {},
     "output_type": "display_data"
    }
   ],
   "source": [
    "display(siab_train.groupby(\"year\").size())"
   ]
  },
  {
   "cell_type": "code",
   "execution_count": 20,
   "id": "a561edb4-d032-42cb-8256-22eac1111c64",
   "metadata": {
    "execution": {
     "iopub.execute_input": "2025-07-30T13:56:25.677424Z",
     "iopub.status.busy": "2025-07-30T13:56:25.677027Z",
     "iopub.status.idle": "2025-07-30T13:56:25.944954Z",
     "shell.execute_reply": "2025-07-30T13:56:25.943903Z"
    },
    "papermill": {
     "duration": 0.290795,
     "end_time": "2025-07-30T13:56:25.947105",
     "exception": false,
     "start_time": "2025-07-30T13:56:25.656310",
     "status": "completed"
    },
    "tags": []
   },
   "outputs": [],
   "source": [
    "#siab_train = siab_s[siab_s.year < 2015]\n",
    "siab_calib = siab[siab.year == 2015]\n",
    "siab_test = siab[siab.year == 2016]"
   ]
  },
  {
   "cell_type": "code",
   "execution_count": 21,
   "id": "472de16f-c3db-4916-846b-1f0de9cf1746",
   "metadata": {
    "execution": {
     "iopub.execute_input": "2025-07-30T13:56:25.991257Z",
     "iopub.status.busy": "2025-07-30T13:56:25.990869Z",
     "iopub.status.idle": "2025-07-30T13:56:25.998916Z",
     "shell.execute_reply": "2025-07-30T13:56:25.998089Z"
    },
    "papermill": {
     "duration": 0.031182,
     "end_time": "2025-07-30T13:56:26.000572",
     "exception": false,
     "start_time": "2025-07-30T13:56:25.969390",
     "status": "completed"
    },
    "tags": []
   },
   "outputs": [],
   "source": [
    "X_train = siab_train.iloc[:,4:164]\n",
    "y_train = siab_train.iloc[:, [3]]"
   ]
  },
  {
   "cell_type": "code",
   "execution_count": 22,
   "id": "828c96af-f43a-4ed6-ba47-8ac73a47d56c",
   "metadata": {
    "execution": {
     "iopub.execute_input": "2025-07-30T13:56:26.046513Z",
     "iopub.status.busy": "2025-07-30T13:56:26.045175Z",
     "iopub.status.idle": "2025-07-30T13:56:26.097014Z",
     "shell.execute_reply": "2025-07-30T13:56:26.095978Z"
    },
    "papermill": {
     "duration": 0.080325,
     "end_time": "2025-07-30T13:56:26.098486",
     "exception": false,
     "start_time": "2025-07-30T13:56:26.018161",
     "status": "completed"
    },
    "tags": []
   },
   "outputs": [],
   "source": [
    "X_calib = siab_calib.iloc[:,4:164]\n",
    "y_calib = siab_calib.iloc[:, [3]]"
   ]
  },
  {
   "cell_type": "code",
   "execution_count": 23,
   "id": "c34be9c3-6bd6-476e-acd3-845840e303be",
   "metadata": {
    "execution": {
     "iopub.execute_input": "2025-07-30T13:56:26.137532Z",
     "iopub.status.busy": "2025-07-30T13:56:26.136840Z",
     "iopub.status.idle": "2025-07-30T13:56:26.195517Z",
     "shell.execute_reply": "2025-07-30T13:56:26.194389Z"
    },
    "papermill": {
     "duration": 0.08695,
     "end_time": "2025-07-30T13:56:26.197920",
     "exception": false,
     "start_time": "2025-07-30T13:56:26.110970",
     "status": "completed"
    },
    "tags": []
   },
   "outputs": [],
   "source": [
    "X_test = siab_test.iloc[:,4:164]\n",
    "y_true = siab_test.iloc[:, [3]]"
   ]
  },
  {
   "cell_type": "markdown",
   "id": "9901737e-04df-44f0-9100-f5ad144ed040",
   "metadata": {
    "papermill": {
     "duration": 0.024458,
     "end_time": "2025-07-30T13:56:26.246389",
     "exception": false,
     "start_time": "2025-07-30T13:56:26.221931",
     "status": "completed"
    },
    "tags": []
   },
   "source": [
    "# Splitting Data and Setting Training Data Size OLD VERSION"
   ]
  },
  {
   "cell_type": "code",
   "execution_count": 24,
   "id": "acbc8f7d-8fc8-4e86-8c59-5dcb0f58384b",
   "metadata": {
    "execution": {
     "iopub.execute_input": "2025-07-30T13:56:26.311930Z",
     "iopub.status.busy": "2025-07-30T13:56:26.310871Z",
     "iopub.status.idle": "2025-07-30T13:56:26.317555Z",
     "shell.execute_reply": "2025-07-30T13:56:26.316235Z"
    },
    "papermill": {
     "duration": 0.042352,
     "end_time": "2025-07-30T13:56:26.319865",
     "exception": false,
     "start_time": "2025-07-30T13:56:26.277513",
     "status": "completed"
    },
    "tags": []
   },
   "outputs": [],
   "source": [
    "#def sample_by_year(df, training_size, random_state=42):\n",
    "#    if training_size == \"2014\":\n",
    "#        return df[df[\"year\"] == 2014].reset_index(drop=True)\n",
    "#    \n",
    "#    size_map = {\n",
    "#        \"25k\": 5000,\n",
    "#        \"5k\": 1000,\n",
    "#        \"1k\": 200\n",
    "#    }\n",
    "#\n",
    "#    if training_size not in size_map:\n",
    "#        return df.reset_index(drop=True)  # use all data\n",
    "#\n",
    "#    n_per_year = size_map[training_size]\n",
    "#    grouped = df.groupby(\"year\")\n",
    "#    sampled = grouped.apply(lambda x: x.sample(n=min(n_per_year, len(x)), random_state=random_state))\n",
    "#    return sampled.reset_index(drop=True)"
   ]
  },
  {
   "cell_type": "code",
   "execution_count": 25,
   "id": "6d931f52-beaf-43ff-9e78-9d44a448d54e",
   "metadata": {
    "execution": {
     "iopub.execute_input": "2025-07-30T13:56:26.386011Z",
     "iopub.status.busy": "2025-07-30T13:56:26.385376Z",
     "iopub.status.idle": "2025-07-30T13:56:26.392645Z",
     "shell.execute_reply": "2025-07-30T13:56:26.391343Z"
    },
    "papermill": {
     "duration": 0.043914,
     "end_time": "2025-07-30T13:56:26.394951",
     "exception": false,
     "start_time": "2025-07-30T13:56:26.351037",
     "status": "completed"
    },
    "tags": []
   },
   "outputs": [],
   "source": [
    "#siab_s = sample_by_year(siab, universe[\"training_size\"])"
   ]
  },
  {
   "cell_type": "code",
   "execution_count": 26,
   "id": "5db0a40e-a4e2-4920-be85-b12ae061d70d",
   "metadata": {
    "execution": {
     "iopub.execute_input": "2025-07-30T13:56:26.445904Z",
     "iopub.status.busy": "2025-07-30T13:56:26.445469Z",
     "iopub.status.idle": "2025-07-30T13:56:26.451655Z",
     "shell.execute_reply": "2025-07-30T13:56:26.450533Z"
    },
    "papermill": {
     "duration": 0.033058,
     "end_time": "2025-07-30T13:56:26.457678",
     "exception": false,
     "start_time": "2025-07-30T13:56:26.424620",
     "status": "completed"
    },
    "tags": []
   },
   "outputs": [],
   "source": [
    "#display(siab_s.groupby(\"year\").size())"
   ]
  },
  {
   "cell_type": "code",
   "execution_count": 27,
   "id": "e6c733c5",
   "metadata": {
    "execution": {
     "iopub.execute_input": "2025-07-30T13:56:26.552342Z",
     "iopub.status.busy": "2025-07-30T13:56:26.551914Z",
     "iopub.status.idle": "2025-07-30T13:56:26.710860Z",
     "shell.execute_reply": "2025-07-30T13:56:26.709804Z"
    },
    "papermill": {
     "duration": 0.199803,
     "end_time": "2025-07-30T13:56:26.712851",
     "exception": false,
     "start_time": "2025-07-30T13:56:26.513048",
     "status": "completed"
    },
    "tags": []
   },
   "outputs": [],
   "source": [
    "# Auxiliary data needed downstream in the pipeline\n",
    "\n",
    "org_train = X_train.copy()\n",
    "org_test = X_test.copy()\n",
    "org_calib = X_calib.copy()"
   ]
  },
  {
   "cell_type": "code",
   "execution_count": 28,
   "id": "1466abac-c6da-4492-a62f-4240ae3783af",
   "metadata": {
    "execution": {
     "iopub.execute_input": "2025-07-30T13:56:26.760747Z",
     "iopub.status.busy": "2025-07-30T13:56:26.760458Z",
     "iopub.status.idle": "2025-07-30T13:56:26.766787Z",
     "shell.execute_reply": "2025-07-30T13:56:26.765710Z"
    },
    "papermill": {
     "duration": 0.046671,
     "end_time": "2025-07-30T13:56:26.781410",
     "exception": false,
     "start_time": "2025-07-30T13:56:26.734739",
     "status": "completed"
    },
    "tags": []
   },
   "outputs": [],
   "source": [
    "# put in other script?\n",
    "# Group sizes\n",
    "\n",
    "#def calculate_percentages(df, df_name):\n",
    "#    total_entries = len(df)\n",
    "#\n",
    "#    female_pct = (df['frau1'] == 1).mean() * 100\n",
    "#    non_german_pct = ((df['maxdeutsch1'] == 0) & (df['maxdeutsch.Missing.'] == 0)).mean() * 100\n",
    "#    non_german_male_pct = ((df['frau1'] == 0) & (df['maxdeutsch1'] == 0) & (df['maxdeutsch.Missing.'] == 0)).mean() * 100\n",
    "#    non_german_female_pct = ((df['frau1'] == 1) & (df['maxdeutsch1'] == 0) & (df['maxdeutsch.Missing.'] == 0)).mean() * 100\n",
    "#\n",
    "#    print(f\"--- {df_name} ---\")\n",
    "#    print(f\"Female: {female_pct:.2f}%\")\n",
    "#    print(f\"Non-German: {non_german_pct:.2f}%\")\n",
    "#    print(f\"Non-German Male: {non_german_male_pct:.2f}%\")\n",
    "#    print(f\"Non-German Female: {non_german_female_pct:.2f}%\\n\")\n",
    "#\n",
    "## Calculate for each DataFrame\n",
    "#calculate_percentages(siab_calib, \"siab_calib\")\n",
    "#calculate_percentages(siab_test, \"siab_test\")\n",
    "#calculate_percentages(siab_train, \"siab_train\")"
   ]
  },
  {
   "cell_type": "markdown",
   "id": "0a4a1b33",
   "metadata": {
    "papermill": {
     "duration": 0.034413,
     "end_time": "2025-07-30T13:56:26.855338",
     "exception": false,
     "start_time": "2025-07-30T13:56:26.820925",
     "status": "completed"
    },
    "tags": []
   },
   "source": [
    "# Preprocessing Data"
   ]
  },
  {
   "cell_type": "code",
   "execution_count": 29,
   "id": "ca879031",
   "metadata": {
    "execution": {
     "iopub.execute_input": "2025-07-30T13:56:26.960385Z",
     "iopub.status.busy": "2025-07-30T13:56:26.959767Z",
     "iopub.status.idle": "2025-07-30T13:56:26.967064Z",
     "shell.execute_reply": "2025-07-30T13:56:26.966115Z"
    },
    "papermill": {
     "duration": 0.036787,
     "end_time": "2025-07-30T13:56:26.968637",
     "exception": false,
     "start_time": "2025-07-30T13:56:26.931850",
     "status": "completed"
    },
    "tags": []
   },
   "outputs": [],
   "source": [
    "# EXCLUDE PROTECTED FEATURES\n",
    "# ----------------------\n",
    "# \"exclude_features\": \"none\", # \"nationality\", \"sex\", \"nationality-sex\"\n",
    "\n",
    "excluded_features = universe[\"exclude_features\"].split(\"-\") # split, e.g.: \"nationality-sex\" -> [\"nationality\", \"sex\"]\n",
    "excluded_features_dictionary = {\n",
    "    \"nationality\": [\"maxdeutsch1\", \"maxdeutsch.Missing.\"],\n",
    "    \"sex\": [\"frau1\"],\n",
    "    \"age\": [\"age\"],\n",
    "}\n"
   ]
  },
  {
   "cell_type": "code",
   "execution_count": 30,
   "id": "b745ac60",
   "metadata": {
    "execution": {
     "iopub.execute_input": "2025-07-30T13:56:27.074068Z",
     "iopub.status.busy": "2025-07-30T13:56:27.073662Z",
     "iopub.status.idle": "2025-07-30T13:56:27.079703Z",
     "shell.execute_reply": "2025-07-30T13:56:27.078798Z"
    },
    "papermill": {
     "duration": 0.076349,
     "end_time": "2025-07-30T13:56:27.090574",
     "exception": false,
     "start_time": "2025-07-30T13:56:27.014225",
     "status": "completed"
    },
    "tags": []
   },
   "outputs": [],
   "source": [
    "# Code nice names to column names\n",
    "\n",
    "excluded_features_columns = [\n",
    "    excluded_features_dictionary[f] for f in excluded_features if len(f) > 0 and f != \"none\"\n",
    "]"
   ]
  },
  {
   "cell_type": "code",
   "execution_count": 31,
   "id": "f84f73a2",
   "metadata": {
    "execution": {
     "iopub.execute_input": "2025-07-30T13:56:27.171829Z",
     "iopub.status.busy": "2025-07-30T13:56:27.171289Z",
     "iopub.status.idle": "2025-07-30T13:56:27.178351Z",
     "shell.execute_reply": "2025-07-30T13:56:27.177434Z"
    },
    "papermill": {
     "duration": 0.036348,
     "end_time": "2025-07-30T13:56:27.180255",
     "exception": false,
     "start_time": "2025-07-30T13:56:27.143907",
     "status": "completed"
    },
    "tags": []
   },
   "outputs": [],
   "source": [
    "from utils import flatten_once\n",
    "\n",
    "excluded_features_columns = flatten_once(excluded_features_columns)"
   ]
  },
  {
   "cell_type": "code",
   "execution_count": 32,
   "id": "884dea22",
   "metadata": {
    "execution": {
     "iopub.execute_input": "2025-07-30T13:56:27.242995Z",
     "iopub.status.busy": "2025-07-30T13:56:27.242371Z",
     "iopub.status.idle": "2025-07-30T13:56:27.253249Z",
     "shell.execute_reply": "2025-07-30T13:56:27.251827Z"
    },
    "papermill": {
     "duration": 0.051523,
     "end_time": "2025-07-30T13:56:27.254977",
     "exception": false,
     "start_time": "2025-07-30T13:56:27.203454",
     "status": "completed"
    },
    "tags": []
   },
   "outputs": [
    {
     "name": "stdout",
     "output_type": "stream",
     "text": [
      "Dropping features: ['frau1']\n"
     ]
    }
   ],
   "source": [
    "if len(excluded_features_columns) > 0:\n",
    "    print(f\"Dropping features: {excluded_features_columns}\")\n",
    "    X_train.drop(excluded_features_columns, axis=1, inplace=True)"
   ]
  },
  {
   "cell_type": "code",
   "execution_count": 33,
   "id": "95ab8b16",
   "metadata": {
    "execution": {
     "iopub.execute_input": "2025-07-30T13:56:27.304416Z",
     "iopub.status.busy": "2025-07-30T13:56:27.303987Z",
     "iopub.status.idle": "2025-07-30T13:56:27.360725Z",
     "shell.execute_reply": "2025-07-30T13:56:27.359563Z"
    },
    "papermill": {
     "duration": 0.081243,
     "end_time": "2025-07-30T13:56:27.362708",
     "exception": false,
     "start_time": "2025-07-30T13:56:27.281465",
     "status": "completed"
    },
    "tags": []
   },
   "outputs": [
    {
     "name": "stdout",
     "output_type": "stream",
     "text": [
      "Dropping features: ['frau1']\n"
     ]
    }
   ],
   "source": [
    "if len(excluded_features_columns) > 0:\n",
    "    print(f\"Dropping features: {excluded_features_columns}\")\n",
    "    X_test.drop(excluded_features_columns, axis=1, inplace=True)"
   ]
  },
  {
   "cell_type": "code",
   "execution_count": 34,
   "id": "1853aaf5-fb9f-46cb-a2b5-8ea4ae2237e4",
   "metadata": {
    "execution": {
     "iopub.execute_input": "2025-07-30T13:56:27.415024Z",
     "iopub.status.busy": "2025-07-30T13:56:27.414568Z",
     "iopub.status.idle": "2025-07-30T13:56:27.472586Z",
     "shell.execute_reply": "2025-07-30T13:56:27.469893Z"
    },
    "papermill": {
     "duration": 0.086841,
     "end_time": "2025-07-30T13:56:27.475121",
     "exception": false,
     "start_time": "2025-07-30T13:56:27.388280",
     "status": "completed"
    },
    "tags": []
   },
   "outputs": [
    {
     "name": "stdout",
     "output_type": "stream",
     "text": [
      "Dropping features: ['frau1']\n"
     ]
    }
   ],
   "source": [
    "if len(excluded_features_columns) > 0:\n",
    "    print(f\"Dropping features: {excluded_features_columns}\")\n",
    "    X_calib.drop(excluded_features_columns, axis=1, inplace=True)"
   ]
  },
  {
   "cell_type": "code",
   "execution_count": 35,
   "id": "6727d079-03e5-481e-9d38-292a90b7a0a8",
   "metadata": {
    "execution": {
     "iopub.execute_input": "2025-07-30T13:56:27.579249Z",
     "iopub.status.busy": "2025-07-30T13:56:27.578862Z",
     "iopub.status.idle": "2025-07-30T13:56:27.583587Z",
     "shell.execute_reply": "2025-07-30T13:56:27.582713Z"
    },
    "papermill": {
     "duration": 0.060568,
     "end_time": "2025-07-30T13:56:27.585235",
     "exception": false,
     "start_time": "2025-07-30T13:56:27.524667",
     "status": "completed"
    },
    "tags": []
   },
   "outputs": [],
   "source": [
    "# SPLIT & STRATIFY DATA\n",
    "# ----------------------"
   ]
  },
  {
   "cell_type": "code",
   "execution_count": 36,
   "id": "76c4dc6d",
   "metadata": {
    "execution": {
     "iopub.execute_input": "2025-07-30T13:56:27.658063Z",
     "iopub.status.busy": "2025-07-30T13:56:27.657669Z",
     "iopub.status.idle": "2025-07-30T13:56:27.663456Z",
     "shell.execute_reply": "2025-07-30T13:56:27.662372Z"
    },
    "papermill": {
     "duration": 0.054583,
     "end_time": "2025-07-30T13:56:27.665501",
     "exception": false,
     "start_time": "2025-07-30T13:56:27.610918",
     "status": "completed"
    },
    "tags": []
   },
   "outputs": [],
   "source": [
    "# EXCLUDE CERTAIN SUBGROUPS\n",
    "# ----------------------\n",
    "\n",
    "mode = universe.get(\"exclude_subgroups\", \"keep-all\") \n",
    "# Fetches the exclude_subgroups setting from the universe dict.\n",
    "# Defaults to \"keep-all\" if the key is missing."
   ]
  },
  {
   "cell_type": "code",
   "execution_count": 37,
   "id": "21994072",
   "metadata": {
    "execution": {
     "iopub.execute_input": "2025-07-30T13:56:27.709409Z",
     "iopub.status.busy": "2025-07-30T13:56:27.708980Z",
     "iopub.status.idle": "2025-07-30T13:56:27.715547Z",
     "shell.execute_reply": "2025-07-30T13:56:27.714582Z"
    },
    "papermill": {
     "duration": 0.034007,
     "end_time": "2025-07-30T13:56:27.718445",
     "exception": false,
     "start_time": "2025-07-30T13:56:27.684438",
     "status": "completed"
    },
    "tags": []
   },
   "outputs": [],
   "source": [
    "if mode == \"keep-all\":\n",
    "    keep_mask = pd.Series(True, index=org_train.index)\n",
    "\n",
    "# org_train contains the original feature columns from features_org (in Simson)\n",
    "# features_org contains unprocessed features, for me X_train at beginning ???\n",
    "# For keep-all, creates a boolean Series (keep_mask) of all True, so no rows are removed.\n",
    "\n",
    "elif mode == \"drop-non-german\":\n",
    "    keep_mask = org_train[\"maxdeutsch1\"] == 1 # ??? what about missing values?\n",
    "\n",
    "else:\n",
    "    raise ValueError(f\"Unsupported mode for exclude_subgroups: {mode}\")\n"
   ]
  },
  {
   "cell_type": "code",
   "execution_count": 38,
   "id": "71651440",
   "metadata": {
    "execution": {
     "iopub.execute_input": "2025-07-30T13:56:27.800634Z",
     "iopub.status.busy": "2025-07-30T13:56:27.800207Z",
     "iopub.status.idle": "2025-07-30T13:56:27.808446Z",
     "shell.execute_reply": "2025-07-30T13:56:27.807481Z"
    },
    "papermill": {
     "duration": 0.066718,
     "end_time": "2025-07-30T13:56:27.810799",
     "exception": false,
     "start_time": "2025-07-30T13:56:27.744081",
     "status": "completed"
    },
    "tags": []
   },
   "outputs": [
    {
     "name": "stdout",
     "output_type": "stream",
     "text": [
      "Dropping 665 rows (13.30%) where mode='drop-non-german'\n"
     ]
    }
   ],
   "source": [
    "n_drop = (~keep_mask).sum() # Calculates how many rows are set to be dropped\n",
    "if n_drop > 0:\n",
    "    pct = n_drop / len(keep_mask) * 100\n",
    "    print(f\"Dropping {n_drop} rows ({pct:.2f}%) where mode='{mode}'\")"
   ]
  },
  {
   "cell_type": "code",
   "execution_count": 39,
   "id": "5fb8eee5",
   "metadata": {
    "execution": {
     "iopub.execute_input": "2025-07-30T13:56:27.890903Z",
     "iopub.status.busy": "2025-07-30T13:56:27.890482Z",
     "iopub.status.idle": "2025-07-30T13:56:27.898325Z",
     "shell.execute_reply": "2025-07-30T13:56:27.897430Z"
    },
    "papermill": {
     "duration": 0.067813,
     "end_time": "2025-07-30T13:56:27.901526",
     "exception": false,
     "start_time": "2025-07-30T13:56:27.833713",
     "status": "completed"
    },
    "tags": []
   },
   "outputs": [],
   "source": [
    "X_train = X_train[keep_mask]"
   ]
  },
  {
   "cell_type": "code",
   "execution_count": 40,
   "id": "b202bb3a",
   "metadata": {
    "execution": {
     "iopub.execute_input": "2025-07-30T13:56:27.956168Z",
     "iopub.status.busy": "2025-07-30T13:56:27.955757Z",
     "iopub.status.idle": "2025-07-30T13:56:27.961669Z",
     "shell.execute_reply": "2025-07-30T13:56:27.960849Z"
    },
    "papermill": {
     "duration": 0.024831,
     "end_time": "2025-07-30T13:56:27.964761",
     "exception": false,
     "start_time": "2025-07-30T13:56:27.939930",
     "status": "completed"
    },
    "tags": []
   },
   "outputs": [],
   "source": [
    "y_train = y_train[keep_mask]"
   ]
  },
  {
   "cell_type": "markdown",
   "id": "493e2ac3",
   "metadata": {
    "papermill": {
     "duration": 0.02232,
     "end_time": "2025-07-30T13:56:28.010733",
     "exception": false,
     "start_time": "2025-07-30T13:56:27.988413",
     "status": "completed"
    },
    "tags": []
   },
   "source": [
    "# Model Training"
   ]
  },
  {
   "cell_type": "code",
   "execution_count": 41,
   "id": "679e1268",
   "metadata": {
    "execution": {
     "iopub.execute_input": "2025-07-30T13:56:28.057383Z",
     "iopub.status.busy": "2025-07-30T13:56:28.056980Z",
     "iopub.status.idle": "2025-07-30T13:56:28.216577Z",
     "shell.execute_reply": "2025-07-30T13:56:28.215691Z"
    },
    "papermill": {
     "duration": 0.184151,
     "end_time": "2025-07-30T13:56:28.217978",
     "exception": false,
     "start_time": "2025-07-30T13:56:28.033827",
     "status": "completed"
    },
    "tags": []
   },
   "outputs": [],
   "source": [
    "from sklearn.linear_model import LogisticRegression\n",
    "from sklearn.ensemble import GradientBoostingClassifier, RandomForestClassifier\n",
    "\n",
    "if (universe[\"model\"] == \"logreg\"):\n",
    "    model = LogisticRegression() #penalty=\"none\") #, solver=\"newton-cg\", max_iter=1) # include random_state=19 ?\n",
    "elif (universe[\"model\"] == \"penalized_logreg\"):\n",
    "    model = LogisticRegression(penalty=\"l2\", C=1.0) #, solver=\"newton-cg\", max_iter=1)\n",
    "elif (universe[\"model\"] == \"rf\"):\n",
    "    model = RandomForestClassifier(n_estimators=100, n_jobs=-1)\n",
    "elif (universe[\"model\"] == \"gbm\"):\n",
    "    model = GradientBoostingClassifier()\n",
    "elif (universe[\"model\"] == \"elasticnet\"):\n",
    "    model = LogisticRegression(penalty = 'elasticnet', solver = 'saga', l1_ratio = 0.5, max_iter=5000) # which solver to use?\n",
    "else:\n",
    "    raise \"Unsupported universe.model\""
   ]
  },
  {
   "cell_type": "code",
   "execution_count": 42,
   "id": "0cc8f744",
   "metadata": {
    "execution": {
     "iopub.execute_input": "2025-07-30T13:56:28.243977Z",
     "iopub.status.busy": "2025-07-30T13:56:28.243482Z",
     "iopub.status.idle": "2025-07-30T13:56:28.248819Z",
     "shell.execute_reply": "2025-07-30T13:56:28.248106Z"
    },
    "papermill": {
     "duration": 0.019521,
     "end_time": "2025-07-30T13:56:28.250096",
     "exception": false,
     "start_time": "2025-07-30T13:56:28.230575",
     "status": "completed"
    },
    "tags": []
   },
   "outputs": [],
   "source": [
    "import numpy as np\n",
    "from sklearn.pipeline import Pipeline\n",
    "from sklearn.preprocessing import StandardScaler\n",
    "\n",
    "model = Pipeline([\n",
    "    #(\"continuous_processor\", continuous_processor),\n",
    "    #(\"categorical_preprocessor\", categorical_preprocessor),\n",
    "    (\"scale\", StandardScaler() if universe[\"scale\"] == \"scale\" else None), \n",
    "    (\"model\", model),\n",
    "])"
   ]
  },
  {
   "cell_type": "code",
   "execution_count": 43,
   "id": "9442c04d",
   "metadata": {
    "execution": {
     "iopub.execute_input": "2025-07-30T13:56:28.303981Z",
     "iopub.status.busy": "2025-07-30T13:56:28.303152Z",
     "iopub.status.idle": "2025-07-30T13:56:29.255952Z",
     "shell.execute_reply": "2025-07-30T13:56:29.254979Z"
    },
    "papermill": {
     "duration": 0.990872,
     "end_time": "2025-07-30T13:56:29.257573",
     "exception": false,
     "start_time": "2025-07-30T13:56:28.266701",
     "status": "completed"
    },
    "tags": []
   },
   "outputs": [
    {
     "data": {
      "text/html": [
       "<style>#sk-container-id-1 {color: black;background-color: white;}#sk-container-id-1 pre{padding: 0;}#sk-container-id-1 div.sk-toggleable {background-color: white;}#sk-container-id-1 label.sk-toggleable__label {cursor: pointer;display: block;width: 100%;margin-bottom: 0;padding: 0.3em;box-sizing: border-box;text-align: center;}#sk-container-id-1 label.sk-toggleable__label-arrow:before {content: \"▸\";float: left;margin-right: 0.25em;color: #696969;}#sk-container-id-1 label.sk-toggleable__label-arrow:hover:before {color: black;}#sk-container-id-1 div.sk-estimator:hover label.sk-toggleable__label-arrow:before {color: black;}#sk-container-id-1 div.sk-toggleable__content {max-height: 0;max-width: 0;overflow: hidden;text-align: left;background-color: #f0f8ff;}#sk-container-id-1 div.sk-toggleable__content pre {margin: 0.2em;color: black;border-radius: 0.25em;background-color: #f0f8ff;}#sk-container-id-1 input.sk-toggleable__control:checked~div.sk-toggleable__content {max-height: 200px;max-width: 100%;overflow: auto;}#sk-container-id-1 input.sk-toggleable__control:checked~label.sk-toggleable__label-arrow:before {content: \"▾\";}#sk-container-id-1 div.sk-estimator input.sk-toggleable__control:checked~label.sk-toggleable__label {background-color: #d4ebff;}#sk-container-id-1 div.sk-label input.sk-toggleable__control:checked~label.sk-toggleable__label {background-color: #d4ebff;}#sk-container-id-1 input.sk-hidden--visually {border: 0;clip: rect(1px 1px 1px 1px);clip: rect(1px, 1px, 1px, 1px);height: 1px;margin: -1px;overflow: hidden;padding: 0;position: absolute;width: 1px;}#sk-container-id-1 div.sk-estimator {font-family: monospace;background-color: #f0f8ff;border: 1px dotted black;border-radius: 0.25em;box-sizing: border-box;margin-bottom: 0.5em;}#sk-container-id-1 div.sk-estimator:hover {background-color: #d4ebff;}#sk-container-id-1 div.sk-parallel-item::after {content: \"\";width: 100%;border-bottom: 1px solid gray;flex-grow: 1;}#sk-container-id-1 div.sk-label:hover label.sk-toggleable__label {background-color: #d4ebff;}#sk-container-id-1 div.sk-serial::before {content: \"\";position: absolute;border-left: 1px solid gray;box-sizing: border-box;top: 0;bottom: 0;left: 50%;z-index: 0;}#sk-container-id-1 div.sk-serial {display: flex;flex-direction: column;align-items: center;background-color: white;padding-right: 0.2em;padding-left: 0.2em;position: relative;}#sk-container-id-1 div.sk-item {position: relative;z-index: 1;}#sk-container-id-1 div.sk-parallel {display: flex;align-items: stretch;justify-content: center;background-color: white;position: relative;}#sk-container-id-1 div.sk-item::before, #sk-container-id-1 div.sk-parallel-item::before {content: \"\";position: absolute;border-left: 1px solid gray;box-sizing: border-box;top: 0;bottom: 0;left: 50%;z-index: -1;}#sk-container-id-1 div.sk-parallel-item {display: flex;flex-direction: column;z-index: 1;position: relative;background-color: white;}#sk-container-id-1 div.sk-parallel-item:first-child::after {align-self: flex-end;width: 50%;}#sk-container-id-1 div.sk-parallel-item:last-child::after {align-self: flex-start;width: 50%;}#sk-container-id-1 div.sk-parallel-item:only-child::after {width: 0;}#sk-container-id-1 div.sk-dashed-wrapped {border: 1px dashed gray;margin: 0 0.4em 0.5em 0.4em;box-sizing: border-box;padding-bottom: 0.4em;background-color: white;}#sk-container-id-1 div.sk-label label {font-family: monospace;font-weight: bold;display: inline-block;line-height: 1.2em;}#sk-container-id-1 div.sk-label-container {text-align: center;}#sk-container-id-1 div.sk-container {/* jupyter's `normalize.less` sets `[hidden] { display: none; }` but bootstrap.min.css set `[hidden] { display: none !important; }` so we also need the `!important` here to be able to override the default hidden behavior on the sphinx rendered scikit-learn.org. See: https://github.com/scikit-learn/scikit-learn/issues/21755 */display: inline-block !important;position: relative;}#sk-container-id-1 div.sk-text-repr-fallback {display: none;}</style><div id=\"sk-container-id-1\" class=\"sk-top-container\"><div class=\"sk-text-repr-fallback\"><pre>Pipeline(steps=[(&#x27;scale&#x27;, StandardScaler()),\n",
       "                (&#x27;model&#x27;, RandomForestClassifier(n_jobs=-1))])</pre><b>In a Jupyter environment, please rerun this cell to show the HTML representation or trust the notebook. <br />On GitHub, the HTML representation is unable to render, please try loading this page with nbviewer.org.</b></div><div class=\"sk-container\" hidden><div class=\"sk-item sk-dashed-wrapped\"><div class=\"sk-label-container\"><div class=\"sk-label sk-toggleable\"><input class=\"sk-toggleable__control sk-hidden--visually\" id=\"sk-estimator-id-1\" type=\"checkbox\" ><label for=\"sk-estimator-id-1\" class=\"sk-toggleable__label sk-toggleable__label-arrow\">Pipeline</label><div class=\"sk-toggleable__content\"><pre>Pipeline(steps=[(&#x27;scale&#x27;, StandardScaler()),\n",
       "                (&#x27;model&#x27;, RandomForestClassifier(n_jobs=-1))])</pre></div></div></div><div class=\"sk-serial\"><div class=\"sk-item\"><div class=\"sk-estimator sk-toggleable\"><input class=\"sk-toggleable__control sk-hidden--visually\" id=\"sk-estimator-id-2\" type=\"checkbox\" ><label for=\"sk-estimator-id-2\" class=\"sk-toggleable__label sk-toggleable__label-arrow\">StandardScaler</label><div class=\"sk-toggleable__content\"><pre>StandardScaler()</pre></div></div></div><div class=\"sk-item\"><div class=\"sk-estimator sk-toggleable\"><input class=\"sk-toggleable__control sk-hidden--visually\" id=\"sk-estimator-id-3\" type=\"checkbox\" ><label for=\"sk-estimator-id-3\" class=\"sk-toggleable__label sk-toggleable__label-arrow\">RandomForestClassifier</label><div class=\"sk-toggleable__content\"><pre>RandomForestClassifier(n_jobs=-1)</pre></div></div></div></div></div></div></div>"
      ],
      "text/plain": [
       "Pipeline(steps=[('scale', StandardScaler()),\n",
       "                ('model', RandomForestClassifier(n_jobs=-1))])"
      ]
     },
     "execution_count": 43,
     "metadata": {},
     "output_type": "execute_result"
    }
   ],
   "source": [
    "model.fit(X_train, y_train.values.ravel())"
   ]
  },
  {
   "cell_type": "code",
   "execution_count": 44,
   "id": "af59f8c0",
   "metadata": {
    "execution": {
     "iopub.execute_input": "2025-07-30T13:56:29.327886Z",
     "iopub.status.busy": "2025-07-30T13:56:29.327513Z",
     "iopub.status.idle": "2025-07-30T13:56:29.333350Z",
     "shell.execute_reply": "2025-07-30T13:56:29.332344Z"
    },
    "papermill": {
     "duration": 0.052757,
     "end_time": "2025-07-30T13:56:29.335621",
     "exception": false,
     "start_time": "2025-07-30T13:56:29.282864",
     "status": "completed"
    },
    "tags": []
   },
   "outputs": [],
   "source": [
    "from fairness_multiverse.universe import predict_w_threshold"
   ]
  },
  {
   "cell_type": "code",
   "execution_count": 45,
   "id": "a7cf2e16",
   "metadata": {
    "execution": {
     "iopub.execute_input": "2025-07-30T13:56:29.392466Z",
     "iopub.status.busy": "2025-07-30T13:56:29.392100Z",
     "iopub.status.idle": "2025-07-30T13:56:30.612122Z",
     "shell.execute_reply": "2025-07-30T13:56:30.611174Z"
    },
    "papermill": {
     "duration": 1.241631,
     "end_time": "2025-07-30T13:56:30.614142",
     "exception": false,
     "start_time": "2025-07-30T13:56:29.372511",
     "status": "completed"
    },
    "tags": []
   },
   "outputs": [
    {
     "data": {
      "text/plain": [
       "0.865622561587337"
      ]
     },
     "execution_count": 45,
     "metadata": {},
     "output_type": "execute_result"
    }
   ],
   "source": [
    "probs_test = model.predict_proba(X_test)\n",
    "\n",
    "'''\n",
    "Below code returns a boolean array (or binary 0/1 array depending on how it’s used) where each element \n",
    "is True if the probability of class 1 is greater than or equal to the threshold, and False otherwise.\n",
    "'''\n",
    "y_pred_default = predict_w_threshold(probs_test, 0.5)\n",
    "\n",
    "from sklearn.metrics import accuracy_score\n",
    "\n",
    "# Naive prediction\n",
    "accuracy_score(y_true = y_true, y_pred = y_pred_default)"
   ]
  },
  {
   "cell_type": "code",
   "execution_count": 46,
   "id": "081964c3",
   "metadata": {
    "execution": {
     "iopub.execute_input": "2025-07-30T13:56:30.731362Z",
     "iopub.status.busy": "2025-07-30T13:56:30.730885Z",
     "iopub.status.idle": "2025-07-30T13:56:32.007196Z",
     "shell.execute_reply": "2025-07-30T13:56:32.005891Z"
    },
    "papermill": {
     "duration": 1.34121,
     "end_time": "2025-07-30T13:56:32.009594",
     "exception": false,
     "start_time": "2025-07-30T13:56:30.668384",
     "status": "completed"
    },
    "tags": []
   },
   "outputs": [
    {
     "data": {
      "text/plain": [
       "array([0, 0, 0, ..., 0, 0, 0])"
      ]
     },
     "execution_count": 46,
     "metadata": {},
     "output_type": "execute_result"
    }
   ],
   "source": [
    "model.predict(X_test)"
   ]
  },
  {
   "cell_type": "markdown",
   "id": "56c9705b",
   "metadata": {
    "papermill": {
     "duration": 0.062559,
     "end_time": "2025-07-30T13:56:32.156862",
     "exception": false,
     "start_time": "2025-07-30T13:56:32.094303",
     "status": "completed"
    },
    "tags": []
   },
   "source": [
    "# Conformal Prediction"
   ]
  },
  {
   "cell_type": "code",
   "execution_count": 47,
   "id": "160ec6ff",
   "metadata": {
    "execution": {
     "iopub.execute_input": "2025-07-30T13:56:32.206971Z",
     "iopub.status.busy": "2025-07-30T13:56:32.206320Z",
     "iopub.status.idle": "2025-07-30T13:56:32.212894Z",
     "shell.execute_reply": "2025-07-30T13:56:32.211534Z"
    },
    "papermill": {
     "duration": 0.033579,
     "end_time": "2025-07-30T13:56:32.215152",
     "exception": false,
     "start_time": "2025-07-30T13:56:32.181573",
     "status": "completed"
    },
    "tags": []
   },
   "outputs": [],
   "source": [
    "# Miscoverage level for conformal prediction (10% allowed error rate => 90% target coverage)\n",
    "alpha = 0.1"
   ]
  },
  {
   "cell_type": "code",
   "execution_count": 48,
   "id": "eadf4555-3dd3-440e-8e35-f82a4ad9f855",
   "metadata": {
    "execution": {
     "iopub.execute_input": "2025-07-30T13:56:32.288842Z",
     "iopub.status.busy": "2025-07-30T13:56:32.288312Z",
     "iopub.status.idle": "2025-07-30T13:56:33.462563Z",
     "shell.execute_reply": "2025-07-30T13:56:33.461786Z"
    },
    "papermill": {
     "duration": 1.213379,
     "end_time": "2025-07-30T13:56:33.464873",
     "exception": false,
     "start_time": "2025-07-30T13:56:32.251494",
     "status": "completed"
    },
    "tags": []
   },
   "outputs": [],
   "source": [
    "probs_calib = model.predict_proba(X_calib)"
   ]
  },
  {
   "cell_type": "code",
   "execution_count": 49,
   "id": "2ed93547-6d5d-4983-9b36-1ecb300da49a",
   "metadata": {
    "execution": {
     "iopub.execute_input": "2025-07-30T13:56:33.516196Z",
     "iopub.status.busy": "2025-07-30T13:56:33.515653Z",
     "iopub.status.idle": "2025-07-30T13:56:33.521702Z",
     "shell.execute_reply": "2025-07-30T13:56:33.520830Z"
    },
    "papermill": {
     "duration": 0.031211,
     "end_time": "2025-07-30T13:56:33.523231",
     "exception": false,
     "start_time": "2025-07-30T13:56:33.492020",
     "status": "completed"
    },
    "tags": []
   },
   "outputs": [],
   "source": [
    "y_calib = y_calib.values.ravel().astype(int)"
   ]
  },
  {
   "cell_type": "code",
   "execution_count": 50,
   "id": "65d1320d-f588-4b38-9072-62af1ae97f7d",
   "metadata": {
    "execution": {
     "iopub.execute_input": "2025-07-30T13:56:33.565062Z",
     "iopub.status.busy": "2025-07-30T13:56:33.564196Z",
     "iopub.status.idle": "2025-07-30T13:56:33.573118Z",
     "shell.execute_reply": "2025-07-30T13:56:33.572068Z"
    },
    "papermill": {
     "duration": 0.033968,
     "end_time": "2025-07-30T13:56:33.574871",
     "exception": false,
     "start_time": "2025-07-30T13:56:33.540903",
     "status": "completed"
    },
    "tags": []
   },
   "outputs": [],
   "source": [
    "from fairness_multiverse.conformal import compute_nc_scores\n",
    "\n",
    "# Compute nonconformity scores on calibration set (1 - probability of true class)\n",
    "nc_scores = compute_nc_scores(probs_calib, y_calib)"
   ]
  },
  {
   "cell_type": "code",
   "execution_count": 51,
   "id": "df3b8ca3-53b7-43d5-9667-7c85da7aeda2",
   "metadata": {
    "execution": {
     "iopub.execute_input": "2025-07-30T13:56:33.629910Z",
     "iopub.status.busy": "2025-07-30T13:56:33.629319Z",
     "iopub.status.idle": "2025-07-30T13:56:33.636667Z",
     "shell.execute_reply": "2025-07-30T13:56:33.635553Z"
    },
    "papermill": {
     "duration": 0.036235,
     "end_time": "2025-07-30T13:56:33.638280",
     "exception": false,
     "start_time": "2025-07-30T13:56:33.602045",
     "status": "completed"
    },
    "tags": []
   },
   "outputs": [],
   "source": [
    "from fairness_multiverse.conformal import find_threshold\n",
    "\n",
    "# Find conformal threshold q_hat for the given alpha (split conformal method)\n",
    "q_hat = find_threshold(nc_scores, alpha)"
   ]
  },
  {
   "cell_type": "code",
   "execution_count": 52,
   "id": "4d29e6c1-0ef6-4aa4-b8fe-4fe79b0d033a",
   "metadata": {
    "execution": {
     "iopub.execute_input": "2025-07-30T13:56:33.689131Z",
     "iopub.status.busy": "2025-07-30T13:56:33.688329Z",
     "iopub.status.idle": "2025-07-30T13:56:33.696862Z",
     "shell.execute_reply": "2025-07-30T13:56:33.696129Z"
    },
    "papermill": {
     "duration": 0.032771,
     "end_time": "2025-07-30T13:56:33.698481",
     "exception": false,
     "start_time": "2025-07-30T13:56:33.665710",
     "status": "completed"
    },
    "tags": []
   },
   "outputs": [
    {
     "data": {
      "text/plain": [
       "0.6699999999999999"
      ]
     },
     "execution_count": 52,
     "metadata": {},
     "output_type": "execute_result"
    }
   ],
   "source": [
    "q_hat"
   ]
  },
  {
   "cell_type": "code",
   "execution_count": 53,
   "id": "92460794-cdac-4be2-ba28-f28c0515a6fb",
   "metadata": {
    "execution": {
     "iopub.execute_input": "2025-07-30T13:56:33.760745Z",
     "iopub.status.busy": "2025-07-30T13:56:33.760319Z",
     "iopub.status.idle": "2025-07-30T13:56:35.677255Z",
     "shell.execute_reply": "2025-07-30T13:56:35.676120Z"
    },
    "papermill": {
     "duration": 1.948099,
     "end_time": "2025-07-30T13:56:35.679125",
     "exception": false,
     "start_time": "2025-07-30T13:56:33.731026",
     "status": "completed"
    },
    "tags": []
   },
   "outputs": [],
   "source": [
    "from fairness_multiverse.conformal import predict_conformal_sets\n",
    "\n",
    "# Generate prediction sets for each test example\n",
    "pred_sets = predict_conformal_sets(model, X_test, q_hat)"
   ]
  },
  {
   "cell_type": "code",
   "execution_count": 54,
   "id": "d90c9a65-e6db-4f5d-80cd-e68fb7e46829",
   "metadata": {
    "execution": {
     "iopub.execute_input": "2025-07-30T13:56:35.747402Z",
     "iopub.status.busy": "2025-07-30T13:56:35.746920Z",
     "iopub.status.idle": "2025-07-30T13:56:35.753183Z",
     "shell.execute_reply": "2025-07-30T13:56:35.752149Z"
    },
    "papermill": {
     "duration": 0.039149,
     "end_time": "2025-07-30T13:56:35.757217",
     "exception": false,
     "start_time": "2025-07-30T13:56:35.718068",
     "status": "completed"
    },
    "tags": []
   },
   "outputs": [],
   "source": [
    "y_true = y_true.squeeze()"
   ]
  },
  {
   "cell_type": "code",
   "execution_count": 55,
   "id": "3a58a54a-1e68-46b9-927a-df01f18aebc8",
   "metadata": {
    "execution": {
     "iopub.execute_input": "2025-07-30T13:56:35.845841Z",
     "iopub.status.busy": "2025-07-30T13:56:35.845408Z",
     "iopub.status.idle": "2025-07-30T13:56:36.814608Z",
     "shell.execute_reply": "2025-07-30T13:56:36.813570Z"
    },
    "papermill": {
     "duration": 1.0015,
     "end_time": "2025-07-30T13:56:36.816778",
     "exception": false,
     "start_time": "2025-07-30T13:56:35.815278",
     "status": "completed"
    },
    "tags": []
   },
   "outputs": [],
   "source": [
    "from fairness_multiverse.conformal import evaluate_sets\n",
    "\n",
    "# Evaluate coverage and average set size on test data\n",
    "metrics = evaluate_sets(pred_sets, y_true)"
   ]
  },
  {
   "cell_type": "markdown",
   "id": "2b569c12-9aaa-4c88-98c9-bbcd0cf3ebb8",
   "metadata": {
    "papermill": {
     "duration": 0.02429,
     "end_time": "2025-07-30T13:56:36.882928",
     "exception": false,
     "start_time": "2025-07-30T13:56:36.858638",
     "status": "completed"
    },
    "tags": []
   },
   "source": [
    "# CP Metrics"
   ]
  },
  {
   "cell_type": "code",
   "execution_count": 56,
   "id": "5ce0a5cb-201f-45a0-ade5-94c7f0bd6095",
   "metadata": {
    "execution": {
     "iopub.execute_input": "2025-07-30T13:56:36.932483Z",
     "iopub.status.busy": "2025-07-30T13:56:36.931507Z",
     "iopub.status.idle": "2025-07-30T13:56:36.938812Z",
     "shell.execute_reply": "2025-07-30T13:56:36.937858Z"
    },
    "papermill": {
     "duration": 0.034008,
     "end_time": "2025-07-30T13:56:36.941294",
     "exception": false,
     "start_time": "2025-07-30T13:56:36.907286",
     "status": "completed"
    },
    "tags": []
   },
   "outputs": [
    {
     "data": {
      "text/plain": [
       "{'coverage': 0.9125515550105897, 'avg_size': 1.1426039460483781}"
      ]
     },
     "execution_count": 56,
     "metadata": {},
     "output_type": "execute_result"
    }
   ],
   "source": [
    "metrics"
   ]
  },
  {
   "cell_type": "code",
   "execution_count": 57,
   "id": "9b9a838d-31c9-430b-ae14-12baee460d17",
   "metadata": {
    "execution": {
     "iopub.execute_input": "2025-07-30T13:56:36.992506Z",
     "iopub.status.busy": "2025-07-30T13:56:36.991891Z",
     "iopub.status.idle": "2025-07-30T13:56:36.999471Z",
     "shell.execute_reply": "2025-07-30T13:56:36.998365Z"
    },
    "papermill": {
     "duration": 0.036083,
     "end_time": "2025-07-30T13:56:37.001899",
     "exception": false,
     "start_time": "2025-07-30T13:56:36.965816",
     "status": "completed"
    },
    "tags": []
   },
   "outputs": [],
   "source": [
    "example_universe = universe.copy()\n",
    "universe_training_size = example_universe.get(\"training_size\")\n",
    "universe_scale = example_universe.get(\"scale\")\n",
    "universe_model = example_universe.get(\"model\")\n",
    "universe_exclude_features = example_universe.get(\"exclude_features\")\n",
    "universe_exclude_subgroups = example_universe.get(\"exclude_subgroups\")"
   ]
  },
  {
   "cell_type": "code",
   "execution_count": 58,
   "id": "f4b6a8ac-9dc0-4245-8a91-5b3b5999c4f9",
   "metadata": {
    "execution": {
     "iopub.execute_input": "2025-07-30T13:56:37.054862Z",
     "iopub.status.busy": "2025-07-30T13:56:37.054401Z",
     "iopub.status.idle": "2025-07-30T13:56:37.060870Z",
     "shell.execute_reply": "2025-07-30T13:56:37.059821Z"
    },
    "papermill": {
     "duration": 0.03392,
     "end_time": "2025-07-30T13:56:37.062696",
     "exception": false,
     "start_time": "2025-07-30T13:56:37.028776",
     "status": "completed"
    },
    "tags": []
   },
   "outputs": [],
   "source": [
    "cp_metrics_dict = {\n",
    "    \"universe_id\": [universe_id],\n",
    "    \"universe_training_size\": [universe_training_size],\n",
    "    \"universe_scale\": [universe_scale],\n",
    "    \"universe_model\": [universe_model],\n",
    "    \"universe_exclude_features\": [universe_exclude_features],\n",
    "    \"universe_exclude_subgroups\": [universe_exclude_subgroups],\n",
    "    \"q_hat\": [q_hat],\n",
    "    \"coverage\": [metrics[\"coverage\"]],\n",
    "    \"avg_size\": [metrics[\"avg_size\"]],\n",
    "}"
   ]
  },
  {
   "cell_type": "code",
   "execution_count": 59,
   "id": "908acbb1-0371-4915-85ca-3fa520d2efe2",
   "metadata": {
    "execution": {
     "iopub.execute_input": "2025-07-30T13:56:37.119175Z",
     "iopub.status.busy": "2025-07-30T13:56:37.118718Z",
     "iopub.status.idle": "2025-07-30T13:56:37.126499Z",
     "shell.execute_reply": "2025-07-30T13:56:37.125396Z"
    },
    "papermill": {
     "duration": 0.038484,
     "end_time": "2025-07-30T13:56:37.128195",
     "exception": false,
     "start_time": "2025-07-30T13:56:37.089711",
     "status": "completed"
    },
    "tags": []
   },
   "outputs": [
    {
     "data": {
      "text/plain": [
       "{'universe_id': ['fdec3234b07ef23da05020480aa9b2f2'],\n",
       " 'universe_training_size': ['5k'],\n",
       " 'universe_scale': ['scale'],\n",
       " 'universe_model': ['rf'],\n",
       " 'universe_exclude_features': ['sex'],\n",
       " 'universe_exclude_subgroups': ['drop-non-german'],\n",
       " 'q_hat': [0.6699999999999999],\n",
       " 'coverage': [0.9125515550105897],\n",
       " 'avg_size': [1.1426039460483781]}"
      ]
     },
     "execution_count": 59,
     "metadata": {},
     "output_type": "execute_result"
    }
   ],
   "source": [
    "cp_metrics_dict"
   ]
  },
  {
   "cell_type": "code",
   "execution_count": 60,
   "id": "33007efc-14e9-4ec6-97ac-56a455c82265",
   "metadata": {
    "execution": {
     "iopub.execute_input": "2025-07-30T13:56:37.183090Z",
     "iopub.status.busy": "2025-07-30T13:56:37.182681Z",
     "iopub.status.idle": "2025-07-30T13:56:37.189258Z",
     "shell.execute_reply": "2025-07-30T13:56:37.188255Z"
    },
    "papermill": {
     "duration": 0.039103,
     "end_time": "2025-07-30T13:56:37.193982",
     "exception": false,
     "start_time": "2025-07-30T13:56:37.154879",
     "status": "completed"
    },
    "tags": []
   },
   "outputs": [],
   "source": [
    "cp_metrics_df = pd.DataFrame(cp_metrics_dict)"
   ]
  },
  {
   "cell_type": "code",
   "execution_count": 61,
   "id": "db12611b-57b2-4910-b9d0-355adfd6e7bf",
   "metadata": {
    "execution": {
     "iopub.execute_input": "2025-07-30T13:56:37.252670Z",
     "iopub.status.busy": "2025-07-30T13:56:37.252208Z",
     "iopub.status.idle": "2025-07-30T13:56:37.274359Z",
     "shell.execute_reply": "2025-07-30T13:56:37.273435Z"
    },
    "papermill": {
     "duration": 0.052817,
     "end_time": "2025-07-30T13:56:37.276008",
     "exception": false,
     "start_time": "2025-07-30T13:56:37.223191",
     "status": "completed"
    },
    "tags": []
   },
   "outputs": [
    {
     "data": {
      "text/html": [
       "<div>\n",
       "<style scoped>\n",
       "    .dataframe tbody tr th:only-of-type {\n",
       "        vertical-align: middle;\n",
       "    }\n",
       "\n",
       "    .dataframe tbody tr th {\n",
       "        vertical-align: top;\n",
       "    }\n",
       "\n",
       "    .dataframe thead th {\n",
       "        text-align: right;\n",
       "    }\n",
       "</style>\n",
       "<table border=\"1\" class=\"dataframe\">\n",
       "  <thead>\n",
       "    <tr style=\"text-align: right;\">\n",
       "      <th></th>\n",
       "      <th>universe_id</th>\n",
       "      <th>universe_training_size</th>\n",
       "      <th>universe_scale</th>\n",
       "      <th>universe_model</th>\n",
       "      <th>universe_exclude_features</th>\n",
       "      <th>universe_exclude_subgroups</th>\n",
       "      <th>q_hat</th>\n",
       "      <th>coverage</th>\n",
       "      <th>avg_size</th>\n",
       "    </tr>\n",
       "  </thead>\n",
       "  <tbody>\n",
       "    <tr>\n",
       "      <th>0</th>\n",
       "      <td>fdec3234b07ef23da05020480aa9b2f2</td>\n",
       "      <td>5k</td>\n",
       "      <td>scale</td>\n",
       "      <td>rf</td>\n",
       "      <td>sex</td>\n",
       "      <td>drop-non-german</td>\n",
       "      <td>0.67</td>\n",
       "      <td>0.912552</td>\n",
       "      <td>1.142604</td>\n",
       "    </tr>\n",
       "  </tbody>\n",
       "</table>\n",
       "</div>"
      ],
      "text/plain": [
       "                        universe_id universe_training_size universe_scale  \\\n",
       "0  fdec3234b07ef23da05020480aa9b2f2                     5k          scale   \n",
       "\n",
       "  universe_model universe_exclude_features universe_exclude_subgroups  q_hat  \\\n",
       "0             rf                       sex            drop-non-german   0.67   \n",
       "\n",
       "   coverage  avg_size  \n",
       "0  0.912552  1.142604  "
      ]
     },
     "execution_count": 61,
     "metadata": {},
     "output_type": "execute_result"
    }
   ],
   "source": [
    "cp_metrics_df"
   ]
  },
  {
   "cell_type": "code",
   "execution_count": 62,
   "id": "b7fbde55-a0a1-47e4-9af6-fe4a17fa8c61",
   "metadata": {
    "execution": {
     "iopub.execute_input": "2025-07-30T13:56:37.335755Z",
     "iopub.status.busy": "2025-07-30T13:56:37.335357Z",
     "iopub.status.idle": "2025-07-30T13:56:37.340454Z",
     "shell.execute_reply": "2025-07-30T13:56:37.339357Z"
    },
    "papermill": {
     "duration": 0.035364,
     "end_time": "2025-07-30T13:56:37.342535",
     "exception": false,
     "start_time": "2025-07-30T13:56:37.307171",
     "status": "completed"
    },
    "tags": []
   },
   "outputs": [],
   "source": [
    "# Conditional Coverage & looking at subgroups"
   ]
  },
  {
   "cell_type": "code",
   "execution_count": 63,
   "id": "027ae886-68dd-4141-96c7-805a5450e1ef",
   "metadata": {
    "execution": {
     "iopub.execute_input": "2025-07-30T13:56:37.401062Z",
     "iopub.status.busy": "2025-07-30T13:56:37.400694Z",
     "iopub.status.idle": "2025-07-30T13:56:37.653627Z",
     "shell.execute_reply": "2025-07-30T13:56:37.652742Z"
    },
    "papermill": {
     "duration": 0.284968,
     "end_time": "2025-07-30T13:56:37.655491",
     "exception": false,
     "start_time": "2025-07-30T13:56:37.370523",
     "status": "completed"
    },
    "tags": []
   },
   "outputs": [],
   "source": [
    "from fairness_multiverse.conformal import build_cp_groups\n",
    "\n",
    "cp_groups_df = build_cp_groups(pred_sets, y_true, X_test.index, org_test)\n",
    "#needs universe_id and setting"
   ]
  },
  {
   "cell_type": "code",
   "execution_count": 64,
   "id": "01d5802c-663a-4d1f-9d69-e036faaffbf7",
   "metadata": {
    "execution": {
     "iopub.execute_input": "2025-07-30T13:56:37.748944Z",
     "iopub.status.busy": "2025-07-30T13:56:37.748417Z",
     "iopub.status.idle": "2025-07-30T13:56:37.754740Z",
     "shell.execute_reply": "2025-07-30T13:56:37.753376Z"
    },
    "papermill": {
     "duration": 0.055921,
     "end_time": "2025-07-30T13:56:37.756593",
     "exception": false,
     "start_time": "2025-07-30T13:56:37.700672",
     "status": "completed"
    },
    "tags": []
   },
   "outputs": [],
   "source": [
    "#delete\n",
    "#cp_groups_df"
   ]
  },
  {
   "cell_type": "code",
   "execution_count": 65,
   "id": "fa424af1-d1eb-443d-b717-2d279ada8408",
   "metadata": {
    "execution": {
     "iopub.execute_input": "2025-07-30T13:56:37.814182Z",
     "iopub.status.busy": "2025-07-30T13:56:37.813445Z",
     "iopub.status.idle": "2025-07-30T13:56:37.821810Z",
     "shell.execute_reply": "2025-07-30T13:56:37.820708Z"
    },
    "papermill": {
     "duration": 0.039823,
     "end_time": "2025-07-30T13:56:37.824933",
     "exception": false,
     "start_time": "2025-07-30T13:56:37.785110",
     "status": "completed"
    },
    "tags": []
   },
   "outputs": [],
   "source": [
    "#delete\n",
    "#percentage = (cp_groups_df['nongerman_female'] == 1).mean() * 100\n",
    "#print(percentage)\n"
   ]
  },
  {
   "cell_type": "code",
   "execution_count": 66,
   "id": "6cbdab96-b2b2-45af-ad54-d0516db2e28d",
   "metadata": {
    "execution": {
     "iopub.execute_input": "2025-07-30T13:56:37.885494Z",
     "iopub.status.busy": "2025-07-30T13:56:37.885004Z",
     "iopub.status.idle": "2025-07-30T13:56:40.039525Z",
     "shell.execute_reply": "2025-07-30T13:56:40.038361Z"
    },
    "papermill": {
     "duration": 2.185759,
     "end_time": "2025-07-30T13:56:40.041510",
     "exception": false,
     "start_time": "2025-07-30T13:56:37.855751",
     "status": "completed"
    },
    "tags": []
   },
   "outputs": [],
   "source": [
    "# Define covered = 1 if true_label is in the predicted set\n",
    "cp_groups_df['covered'] = cp_groups_df.apply(\n",
    "    lambda r: int(r['true_label'] in r['pred_set']),\n",
    "    axis=1\n",
    ")"
   ]
  },
  {
   "cell_type": "code",
   "execution_count": 67,
   "id": "338ff529-1a6b-4b87-a931-8e4788d52aad",
   "metadata": {
    "execution": {
     "iopub.execute_input": "2025-07-30T13:56:40.105461Z",
     "iopub.status.busy": "2025-07-30T13:56:40.104565Z",
     "iopub.status.idle": "2025-07-30T13:56:40.110227Z",
     "shell.execute_reply": "2025-07-30T13:56:40.109217Z"
    },
    "papermill": {
     "duration": 0.0374,
     "end_time": "2025-07-30T13:56:40.114471",
     "exception": false,
     "start_time": "2025-07-30T13:56:40.077071",
     "status": "completed"
    },
    "tags": []
   },
   "outputs": [],
   "source": [
    "#cp_groups_df"
   ]
  },
  {
   "cell_type": "code",
   "execution_count": 68,
   "id": "90032e27-66df-4540-9169-4e89cfbaa758",
   "metadata": {
    "execution": {
     "iopub.execute_input": "2025-07-30T13:56:40.188587Z",
     "iopub.status.busy": "2025-07-30T13:56:40.188172Z",
     "iopub.status.idle": "2025-07-30T13:56:40.200380Z",
     "shell.execute_reply": "2025-07-30T13:56:40.199237Z"
    },
    "papermill": {
     "duration": 0.041187,
     "end_time": "2025-07-30T13:56:40.202463",
     "exception": false,
     "start_time": "2025-07-30T13:56:40.161276",
     "status": "completed"
    },
    "tags": []
   },
   "outputs": [],
   "source": [
    "subgroups = ['frau1','nongerman','nongerman_male','nongerman_female']\n",
    "\n",
    "# Conditional coverage for subgroup==1\n",
    "cond_coverage = {\n",
    "    g: cp_groups_df.loc[cp_groups_df[g]==1, 'covered'].mean()\n",
    "    for g in subgroups\n",
    "}"
   ]
  },
  {
   "cell_type": "code",
   "execution_count": 69,
   "id": "1e348fb1-b9c3-45bc-ba23-f016827a7e0d",
   "metadata": {
    "execution": {
     "iopub.execute_input": "2025-07-30T13:56:40.263320Z",
     "iopub.status.busy": "2025-07-30T13:56:40.262892Z",
     "iopub.status.idle": "2025-07-30T13:56:40.270059Z",
     "shell.execute_reply": "2025-07-30T13:56:40.269134Z"
    },
    "papermill": {
     "duration": 0.04214,
     "end_time": "2025-07-30T13:56:40.273447",
     "exception": false,
     "start_time": "2025-07-30T13:56:40.231307",
     "status": "completed"
    },
    "tags": []
   },
   "outputs": [
    {
     "data": {
      "text/plain": [
       "{'frau1': 0.9078582019140046,\n",
       " 'nongerman': 0.906753494638747,\n",
       " 'nongerman_male': 0.9252454291632892,\n",
       " 'nongerman_female': 0.8761549925484352}"
      ]
     },
     "execution_count": 69,
     "metadata": {},
     "output_type": "execute_result"
    }
   ],
   "source": [
    "cond_coverage"
   ]
  },
  {
   "cell_type": "code",
   "execution_count": 70,
   "id": "f5093324-c3dd-4d63-bc4c-8d945e5c8bbb",
   "metadata": {
    "execution": {
     "iopub.execute_input": "2025-07-30T13:56:40.366199Z",
     "iopub.status.busy": "2025-07-30T13:56:40.365754Z",
     "iopub.status.idle": "2025-07-30T13:56:40.374269Z",
     "shell.execute_reply": "2025-07-30T13:56:40.373247Z"
    },
    "papermill": {
     "duration": 0.064323,
     "end_time": "2025-07-30T13:56:40.376553",
     "exception": false,
     "start_time": "2025-07-30T13:56:40.312230",
     "status": "completed"
    },
    "tags": []
   },
   "outputs": [],
   "source": [
    "for subgroup, cov in cond_coverage.items():\n",
    "    cp_metrics_df[f\"cov_{subgroup}\"] = cov"
   ]
  },
  {
   "cell_type": "code",
   "execution_count": 71,
   "id": "6e872e10-dbe5-49e8-b554-5030c98ff75d",
   "metadata": {
    "execution": {
     "iopub.execute_input": "2025-07-30T13:56:40.493484Z",
     "iopub.status.busy": "2025-07-30T13:56:40.493066Z",
     "iopub.status.idle": "2025-07-30T13:56:40.524555Z",
     "shell.execute_reply": "2025-07-30T13:56:40.523457Z"
    },
    "papermill": {
     "duration": 0.076856,
     "end_time": "2025-07-30T13:56:40.526595",
     "exception": false,
     "start_time": "2025-07-30T13:56:40.449739",
     "status": "completed"
    },
    "tags": []
   },
   "outputs": [
    {
     "data": {
      "text/html": [
       "<div>\n",
       "<style scoped>\n",
       "    .dataframe tbody tr th:only-of-type {\n",
       "        vertical-align: middle;\n",
       "    }\n",
       "\n",
       "    .dataframe tbody tr th {\n",
       "        vertical-align: top;\n",
       "    }\n",
       "\n",
       "    .dataframe thead th {\n",
       "        text-align: right;\n",
       "    }\n",
       "</style>\n",
       "<table border=\"1\" class=\"dataframe\">\n",
       "  <thead>\n",
       "    <tr style=\"text-align: right;\">\n",
       "      <th></th>\n",
       "      <th>universe_id</th>\n",
       "      <th>universe_training_size</th>\n",
       "      <th>universe_scale</th>\n",
       "      <th>universe_model</th>\n",
       "      <th>universe_exclude_features</th>\n",
       "      <th>universe_exclude_subgroups</th>\n",
       "      <th>q_hat</th>\n",
       "      <th>coverage</th>\n",
       "      <th>avg_size</th>\n",
       "      <th>cov_frau1</th>\n",
       "      <th>cov_nongerman</th>\n",
       "      <th>cov_nongerman_male</th>\n",
       "      <th>cov_nongerman_female</th>\n",
       "    </tr>\n",
       "  </thead>\n",
       "  <tbody>\n",
       "    <tr>\n",
       "      <th>0</th>\n",
       "      <td>fdec3234b07ef23da05020480aa9b2f2</td>\n",
       "      <td>5k</td>\n",
       "      <td>scale</td>\n",
       "      <td>rf</td>\n",
       "      <td>sex</td>\n",
       "      <td>drop-non-german</td>\n",
       "      <td>0.67</td>\n",
       "      <td>0.912552</td>\n",
       "      <td>1.142604</td>\n",
       "      <td>0.907858</td>\n",
       "      <td>0.906753</td>\n",
       "      <td>0.925245</td>\n",
       "      <td>0.876155</td>\n",
       "    </tr>\n",
       "  </tbody>\n",
       "</table>\n",
       "</div>"
      ],
      "text/plain": [
       "                        universe_id universe_training_size universe_scale  \\\n",
       "0  fdec3234b07ef23da05020480aa9b2f2                     5k          scale   \n",
       "\n",
       "  universe_model universe_exclude_features universe_exclude_subgroups  q_hat  \\\n",
       "0             rf                       sex            drop-non-german   0.67   \n",
       "\n",
       "   coverage  avg_size  cov_frau1  cov_nongerman  cov_nongerman_male  \\\n",
       "0  0.912552  1.142604   0.907858       0.906753            0.925245   \n",
       "\n",
       "   cov_nongerman_female  \n",
       "0              0.876155  "
      ]
     },
     "execution_count": 71,
     "metadata": {},
     "output_type": "execute_result"
    }
   ],
   "source": [
    "cp_metrics_df"
   ]
  },
  {
   "cell_type": "markdown",
   "id": "33774451",
   "metadata": {
    "papermill": {
     "duration": 0.064606,
     "end_time": "2025-07-30T13:56:40.635555",
     "exception": false,
     "start_time": "2025-07-30T13:56:40.570949",
     "status": "completed"
    },
    "tags": []
   },
   "source": [
    "# (Fairness) Metrics"
   ]
  },
  {
   "cell_type": "code",
   "execution_count": 72,
   "id": "debc5d62",
   "metadata": {
    "execution": {
     "iopub.execute_input": "2025-07-30T13:56:40.743726Z",
     "iopub.status.busy": "2025-07-30T13:56:40.743228Z",
     "iopub.status.idle": "2025-07-30T13:56:40.775791Z",
     "shell.execute_reply": "2025-07-30T13:56:40.774561Z"
    },
    "papermill": {
     "duration": 0.085866,
     "end_time": "2025-07-30T13:56:40.778007",
     "exception": false,
     "start_time": "2025-07-30T13:56:40.692141",
     "status": "completed"
    },
    "tags": []
   },
   "outputs": [],
   "source": [
    "# do I need to include maxdeutsch1.missing?\n",
    "\n",
    "import numpy as np\n",
    "\n",
    "colname_to_bin = \"maxdeutsch1\"\n",
    "majority_value = org_train[colname_to_bin].mode()[0]\n",
    "\n",
    "org_test[\"majmin\"] = np.where(org_test[colname_to_bin] == majority_value, \"majority\", \"minority\")"
   ]
  },
  {
   "cell_type": "code",
   "execution_count": 73,
   "id": "06a50de5",
   "metadata": {
    "execution": {
     "iopub.execute_input": "2025-07-30T13:56:40.841281Z",
     "iopub.status.busy": "2025-07-30T13:56:40.840674Z",
     "iopub.status.idle": "2025-07-30T13:56:43.953971Z",
     "shell.execute_reply": "2025-07-30T13:56:43.952985Z"
    },
    "papermill": {
     "duration": 3.146591,
     "end_time": "2025-07-30T13:56:43.955870",
     "exception": false,
     "start_time": "2025-07-30T13:56:40.809279",
     "status": "completed"
    },
    "tags": []
   },
   "outputs": [],
   "source": [
    "example_universe = universe.copy()\n",
    "example_universe[\"cutoff\"] = example_universe[\"cutoff\"][0]\n",
    "example_universe[\"eval_fairness_grouping\"] = example_universe[\"eval_fairness_grouping\"][0]\n",
    "fairness_dict, metric_frame = universe_analysis.compute_metrics(\n",
    "    example_universe,\n",
    "    y_pred_prob=probs_test,\n",
    "    y_test=y_true,\n",
    "    org_test=org_test,\n",
    ")"
   ]
  },
  {
   "cell_type": "markdown",
   "id": "f95d4e02",
   "metadata": {
    "papermill": {
     "duration": 0.027961,
     "end_time": "2025-07-30T13:56:44.014601",
     "exception": false,
     "start_time": "2025-07-30T13:56:43.986640",
     "status": "completed"
    },
    "tags": []
   },
   "source": [
    "# Overall"
   ]
  },
  {
   "cell_type": "markdown",
   "id": "bdee4871",
   "metadata": {
    "papermill": {
     "duration": 0.021325,
     "end_time": "2025-07-30T13:56:44.061706",
     "exception": false,
     "start_time": "2025-07-30T13:56:44.040381",
     "status": "completed"
    },
    "tags": []
   },
   "source": [
    "Fairness\n",
    "Main fairness target: Equalized Odds. Seems to be a better fit than equal opportunity, since we're not only interested in Y = 1. Seems to be a better fit than demographic parity, since we also care about accuracy, not just equal distribution of preds.\n",
    "\n",
    "Pick column for computation of fairness metrics\n",
    "\n",
    "Performance\n",
    "Overall performance measures, most interesting in relation to the measures split by group below"
   ]
  },
  {
   "cell_type": "code",
   "execution_count": 74,
   "id": "c4e067c6",
   "metadata": {
    "execution": {
     "iopub.execute_input": "2025-07-30T13:56:44.119232Z",
     "iopub.status.busy": "2025-07-30T13:56:44.118728Z",
     "iopub.status.idle": "2025-07-30T13:56:44.128223Z",
     "shell.execute_reply": "2025-07-30T13:56:44.126857Z"
    },
    "papermill": {
     "duration": 0.040181,
     "end_time": "2025-07-30T13:56:44.129922",
     "exception": false,
     "start_time": "2025-07-30T13:56:44.089741",
     "status": "completed"
    },
    "tags": []
   },
   "outputs": [
    {
     "data": {
      "text/plain": [
       "accuracy                   0.204147\n",
       "balanced accuracy          0.536698\n",
       "f1                         0.240823\n",
       "precision                  0.137201\n",
       "false positive rate        0.910616\n",
       "false negative rate        0.015989\n",
       "selection rate             0.920031\n",
       "count                  89710.000000\n",
       "dtype: float64"
      ]
     },
     "execution_count": 74,
     "metadata": {},
     "output_type": "execute_result"
    }
   ],
   "source": [
    "metric_frame.overall"
   ]
  },
  {
   "cell_type": "markdown",
   "id": "e968fe9d",
   "metadata": {
    "papermill": {
     "duration": 0.027799,
     "end_time": "2025-07-30T13:56:44.187040",
     "exception": false,
     "start_time": "2025-07-30T13:56:44.159241",
     "status": "completed"
    },
    "tags": []
   },
   "source": [
    "By Group"
   ]
  },
  {
   "cell_type": "code",
   "execution_count": 75,
   "id": "ec325bce",
   "metadata": {
    "execution": {
     "iopub.execute_input": "2025-07-30T13:56:44.229844Z",
     "iopub.status.busy": "2025-07-30T13:56:44.229342Z",
     "iopub.status.idle": "2025-07-30T13:56:44.242049Z",
     "shell.execute_reply": "2025-07-30T13:56:44.241326Z"
    },
    "papermill": {
     "duration": 0.038284,
     "end_time": "2025-07-30T13:56:44.243388",
     "exception": false,
     "start_time": "2025-07-30T13:56:44.205104",
     "status": "completed"
    },
    "tags": []
   },
   "outputs": [
    {
     "data": {
      "text/html": [
       "<div>\n",
       "<style scoped>\n",
       "    .dataframe tbody tr th:only-of-type {\n",
       "        vertical-align: middle;\n",
       "    }\n",
       "\n",
       "    .dataframe tbody tr th {\n",
       "        vertical-align: top;\n",
       "    }\n",
       "\n",
       "    .dataframe thead th {\n",
       "        text-align: right;\n",
       "    }\n",
       "</style>\n",
       "<table border=\"1\" class=\"dataframe\">\n",
       "  <thead>\n",
       "    <tr style=\"text-align: right;\">\n",
       "      <th></th>\n",
       "      <th>accuracy</th>\n",
       "      <th>balanced accuracy</th>\n",
       "      <th>f1</th>\n",
       "      <th>precision</th>\n",
       "      <th>false positive rate</th>\n",
       "      <th>false negative rate</th>\n",
       "      <th>selection rate</th>\n",
       "      <th>count</th>\n",
       "    </tr>\n",
       "    <tr>\n",
       "      <th>majmin</th>\n",
       "      <th></th>\n",
       "      <th></th>\n",
       "      <th></th>\n",
       "      <th></th>\n",
       "      <th></th>\n",
       "      <th></th>\n",
       "      <th></th>\n",
       "      <th></th>\n",
       "    </tr>\n",
       "  </thead>\n",
       "  <tbody>\n",
       "    <tr>\n",
       "      <th>majority</th>\n",
       "      <td>0.206491</td>\n",
       "      <td>0.537411</td>\n",
       "      <td>0.247433</td>\n",
       "      <td>0.141442</td>\n",
       "      <td>0.912377</td>\n",
       "      <td>0.012801</td>\n",
       "      <td>0.922264</td>\n",
       "      <td>69170.0</td>\n",
       "    </tr>\n",
       "    <tr>\n",
       "      <th>minority</th>\n",
       "      <td>0.196251</td>\n",
       "      <td>0.533454</td>\n",
       "      <td>0.217991</td>\n",
       "      <td>0.122766</td>\n",
       "      <td>0.904799</td>\n",
       "      <td>0.028294</td>\n",
       "      <td>0.912512</td>\n",
       "      <td>20540.0</td>\n",
       "    </tr>\n",
       "  </tbody>\n",
       "</table>\n",
       "</div>"
      ],
      "text/plain": [
       "          accuracy  balanced accuracy        f1  precision  \\\n",
       "majmin                                                       \n",
       "majority  0.206491           0.537411  0.247433   0.141442   \n",
       "minority  0.196251           0.533454  0.217991   0.122766   \n",
       "\n",
       "          false positive rate  false negative rate  selection rate    count  \n",
       "majmin                                                                       \n",
       "majority             0.912377             0.012801        0.922264  69170.0  \n",
       "minority             0.904799             0.028294        0.912512  20540.0  "
      ]
     },
     "execution_count": 75,
     "metadata": {},
     "output_type": "execute_result"
    }
   ],
   "source": [
    "metric_frame.by_group"
   ]
  },
  {
   "cell_type": "code",
   "execution_count": 76,
   "id": "a9ddbe63",
   "metadata": {
    "execution": {
     "iopub.execute_input": "2025-07-30T13:56:44.273033Z",
     "iopub.status.busy": "2025-07-30T13:56:44.272512Z",
     "iopub.status.idle": "2025-07-30T13:56:46.471258Z",
     "shell.execute_reply": "2025-07-30T13:56:46.470553Z"
    },
    "papermill": {
     "duration": 2.214627,
     "end_time": "2025-07-30T13:56:46.472618",
     "exception": false,
     "start_time": "2025-07-30T13:56:44.257991",
     "status": "completed"
    },
    "tags": []
   },
   "outputs": [
    {
     "data": {
      "text/plain": [
       "array([[<Axes: title={'center': 'accuracy'}, xlabel='majmin'>,\n",
       "        <Axes: title={'center': 'balanced accuracy'}, xlabel='majmin'>,\n",
       "        <Axes: title={'center': 'f1'}, xlabel='majmin'>],\n",
       "       [<Axes: title={'center': 'precision'}, xlabel='majmin'>,\n",
       "        <Axes: title={'center': 'false positive rate'}, xlabel='majmin'>,\n",
       "        <Axes: title={'center': 'false negative rate'}, xlabel='majmin'>],\n",
       "       [<Axes: title={'center': 'selection rate'}, xlabel='majmin'>,\n",
       "        <Axes: title={'center': 'count'}, xlabel='majmin'>,\n",
       "        <Axes: xlabel='majmin'>]], dtype=object)"
      ]
     },
     "execution_count": 76,
     "metadata": {},
     "output_type": "execute_result"
    },
    {
     "data": {
      "image/png": "[encoded data removed]",
      "text/plain": [
       "<Figure size 1200x800 with 9 Axes>"
      ]
     },
     "metadata": {},
     "output_type": "display_data"
    }
   ],
   "source": [
    "# In a graphic\n",
    "metric_frame.by_group.plot.bar(\n",
    "    subplots=True,\n",
    "    layout=[3, 3],\n",
    "    legend=False,\n",
    "    figsize=[12, 8],\n",
    "    title=\"Show all metrics\",\n",
    ")"
   ]
  },
  {
   "cell_type": "markdown",
   "id": "f57a0bac",
   "metadata": {
    "papermill": {
     "duration": 0.014621,
     "end_time": "2025-07-30T13:56:46.503123",
     "exception": false,
     "start_time": "2025-07-30T13:56:46.488502",
     "status": "completed"
    },
    "tags": []
   },
   "source": [
    "# Final Output"
   ]
  },
  {
   "cell_type": "code",
   "execution_count": 77,
   "id": "96d280a3",
   "metadata": {
    "execution": {
     "iopub.execute_input": "2025-07-30T13:56:46.533987Z",
     "iopub.status.busy": "2025-07-30T13:56:46.533556Z",
     "iopub.status.idle": "2025-07-30T13:56:46.540649Z",
     "shell.execute_reply": "2025-07-30T13:56:46.539702Z"
    },
    "papermill": {
     "duration": 0.02449,
     "end_time": "2025-07-30T13:56:46.542243",
     "exception": false,
     "start_time": "2025-07-30T13:56:46.517753",
     "status": "completed"
    },
    "tags": []
   },
   "outputs": [
    {
     "data": {
      "text/plain": [
       "4"
      ]
     },
     "execution_count": 77,
     "metadata": {},
     "output_type": "execute_result"
    }
   ],
   "source": [
    "sub_universes = universe_analysis.generate_sub_universes()\n",
    "len(sub_universes)"
   ]
  },
  {
   "cell_type": "code",
   "execution_count": 78,
   "id": "92adf7ba",
   "metadata": {
    "execution": {
     "iopub.execute_input": "2025-07-30T13:56:46.601678Z",
     "iopub.status.busy": "2025-07-30T13:56:46.600992Z",
     "iopub.status.idle": "2025-07-30T13:56:46.607398Z",
     "shell.execute_reply": "2025-07-30T13:56:46.606452Z"
    },
    "papermill": {
     "duration": 0.03813,
     "end_time": "2025-07-30T13:56:46.608963",
     "exception": false,
     "start_time": "2025-07-30T13:56:46.570833",
     "status": "completed"
    },
    "tags": []
   },
   "outputs": [],
   "source": [
    "def filter_sub_universe_data(sub_universe, org_test):\n",
    "    # Keep all rows — no filtering\n",
    "    keep_rows_mask = np.ones(org_test.shape[0], dtype=bool)\n",
    "\n",
    "    print(f\"[INFO] Keeping all rows: {keep_rows_mask.sum()} rows retained.\")\n",
    "    return keep_rows_mask"
   ]
  },
  {
   "cell_type": "code",
   "execution_count": 79,
   "id": "4a759155",
   "metadata": {
    "execution": {
     "iopub.execute_input": "2025-07-30T13:56:46.666365Z",
     "iopub.status.busy": "2025-07-30T13:56:46.665831Z",
     "iopub.status.idle": "2025-07-30T13:56:56.671068Z",
     "shell.execute_reply": "2025-07-30T13:56:56.670254Z"
    },
    "papermill": {
     "duration": 10.034827,
     "end_time": "2025-07-30T13:56:56.672399",
     "exception": false,
     "start_time": "2025-07-30T13:56:46.637572",
     "status": "completed"
    },
    "tags": []
   },
   "outputs": [
    {
     "name": "stdout",
     "output_type": "stream",
     "text": [
      "Stopping execution_time clock.\n",
      "[INFO] Keeping all rows: 89710 rows retained.\n"
     ]
    },
    {
     "name": "stdout",
     "output_type": "stream",
     "text": [
      "[INFO] Keeping all rows: 89710 rows retained.\n"
     ]
    },
    {
     "name": "stdout",
     "output_type": "stream",
     "text": [
      "[INFO] Keeping all rows: 89710 rows retained.\n"
     ]
    },
    {
     "name": "stdout",
     "output_type": "stream",
     "text": [
      "[INFO] Keeping all rows: 89710 rows retained.\n"
     ]
    },
    {
     "data": {
      "text/html": [
       "<div>\n",
       "<style scoped>\n",
       "    .dataframe tbody tr th:only-of-type {\n",
       "        vertical-align: middle;\n",
       "    }\n",
       "\n",
       "    .dataframe tbody tr th {\n",
       "        vertical-align: top;\n",
       "    }\n",
       "\n",
       "    .dataframe thead th {\n",
       "        text-align: right;\n",
       "    }\n",
       "</style>\n",
       "<table border=\"1\" class=\"dataframe\">\n",
       "  <thead>\n",
       "    <tr style=\"text-align: right;\">\n",
       "      <th></th>\n",
       "      <th>run_no</th>\n",
       "      <th>universe_id</th>\n",
       "      <th>universe_settings</th>\n",
       "      <th>execution_time</th>\n",
       "      <th>test_size_n</th>\n",
       "      <th>test_size_frac</th>\n",
       "      <th>fair_main_equalized_odds_difference</th>\n",
       "      <th>fair_main_equalized_odds_ratio</th>\n",
       "      <th>fair_main_demographic_parity_difference</th>\n",
       "      <th>fair_main_demographic_parity_ratio</th>\n",
       "      <th>...</th>\n",
       "      <th>perf_grp_precision_0</th>\n",
       "      <th>perf_grp_precision_1</th>\n",
       "      <th>perf_grp_false positive rate_0</th>\n",
       "      <th>perf_grp_false positive rate_1</th>\n",
       "      <th>perf_grp_false negative rate_0</th>\n",
       "      <th>perf_grp_false negative rate_1</th>\n",
       "      <th>perf_grp_selection rate_0</th>\n",
       "      <th>perf_grp_selection rate_1</th>\n",
       "      <th>perf_grp_count_0</th>\n",
       "      <th>perf_grp_count_1</th>\n",
       "    </tr>\n",
       "  </thead>\n",
       "  <tbody>\n",
       "    <tr>\n",
       "      <th>0</th>\n",
       "      <td>12</td>\n",
       "      <td>fdec3234b07ef23da05020480aa9b2f2</td>\n",
       "      <td>{\"cutoff\": \"quantile_0.1\", \"eval_fairness_grou...</td>\n",
       "      <td>36.679508</td>\n",
       "      <td>89710</td>\n",
       "      <td>1.0</td>\n",
       "      <td>0.015493</td>\n",
       "      <td>0.984306</td>\n",
       "      <td>0.009752</td>\n",
       "      <td>0.989426</td>\n",
       "      <td>...</td>\n",
       "      <td>NaN</td>\n",
       "      <td>NaN</td>\n",
       "      <td>NaN</td>\n",
       "      <td>NaN</td>\n",
       "      <td>NaN</td>\n",
       "      <td>NaN</td>\n",
       "      <td>NaN</td>\n",
       "      <td>NaN</td>\n",
       "      <td>NaN</td>\n",
       "      <td>NaN</td>\n",
       "    </tr>\n",
       "    <tr>\n",
       "      <th>0</th>\n",
       "      <td>12</td>\n",
       "      <td>fdec3234b07ef23da05020480aa9b2f2</td>\n",
       "      <td>{\"cutoff\": \"quantile_0.1\", \"eval_fairness_grou...</td>\n",
       "      <td>36.679508</td>\n",
       "      <td>89710</td>\n",
       "      <td>1.0</td>\n",
       "      <td>0.015493</td>\n",
       "      <td>0.984306</td>\n",
       "      <td>0.009752</td>\n",
       "      <td>0.989426</td>\n",
       "      <td>...</td>\n",
       "      <td>0.122766</td>\n",
       "      <td>0.141442</td>\n",
       "      <td>0.904799</td>\n",
       "      <td>0.912377</td>\n",
       "      <td>0.028294</td>\n",
       "      <td>0.012801</td>\n",
       "      <td>0.912512</td>\n",
       "      <td>0.922264</td>\n",
       "      <td>20540.0</td>\n",
       "      <td>69170.0</td>\n",
       "    </tr>\n",
       "    <tr>\n",
       "      <th>0</th>\n",
       "      <td>12</td>\n",
       "      <td>fdec3234b07ef23da05020480aa9b2f2</td>\n",
       "      <td>{\"cutoff\": \"quantile_0.25\", \"eval_fairness_gro...</td>\n",
       "      <td>36.679508</td>\n",
       "      <td>89710</td>\n",
       "      <td>1.0</td>\n",
       "      <td>0.060944</td>\n",
       "      <td>0.935410</td>\n",
       "      <td>0.003984</td>\n",
       "      <td>0.994731</td>\n",
       "      <td>...</td>\n",
       "      <td>NaN</td>\n",
       "      <td>NaN</td>\n",
       "      <td>NaN</td>\n",
       "      <td>NaN</td>\n",
       "      <td>NaN</td>\n",
       "      <td>NaN</td>\n",
       "      <td>NaN</td>\n",
       "      <td>NaN</td>\n",
       "      <td>NaN</td>\n",
       "      <td>NaN</td>\n",
       "    </tr>\n",
       "    <tr>\n",
       "      <th>0</th>\n",
       "      <td>12</td>\n",
       "      <td>fdec3234b07ef23da05020480aa9b2f2</td>\n",
       "      <td>{\"cutoff\": \"quantile_0.25\", \"eval_fairness_gro...</td>\n",
       "      <td>36.679508</td>\n",
       "      <td>89710</td>\n",
       "      <td>1.0</td>\n",
       "      <td>0.060944</td>\n",
       "      <td>0.935410</td>\n",
       "      <td>0.003984</td>\n",
       "      <td>0.994731</td>\n",
       "      <td>...</td>\n",
       "      <td>0.135266</td>\n",
       "      <td>0.164870</td>\n",
       "      <td>0.735252</td>\n",
       "      <td>0.727703</td>\n",
       "      <td>0.117399</td>\n",
       "      <td>0.056455</td>\n",
       "      <td>0.752240</td>\n",
       "      <td>0.756224</td>\n",
       "      <td>20540.0</td>\n",
       "      <td>69170.0</td>\n",
       "    </tr>\n",
       "  </tbody>\n",
       "</table>\n",
       "<p>4 rows × 50 columns</p>\n",
       "</div>"
      ],
      "text/plain": [
       "  run_no                       universe_id  \\\n",
       "0     12  fdec3234b07ef23da05020480aa9b2f2   \n",
       "0     12  fdec3234b07ef23da05020480aa9b2f2   \n",
       "0     12  fdec3234b07ef23da05020480aa9b2f2   \n",
       "0     12  fdec3234b07ef23da05020480aa9b2f2   \n",
       "\n",
       "                                   universe_settings  execution_time  \\\n",
       "0  {\"cutoff\": \"quantile_0.1\", \"eval_fairness_grou...       36.679508   \n",
       "0  {\"cutoff\": \"quantile_0.1\", \"eval_fairness_grou...       36.679508   \n",
       "0  {\"cutoff\": \"quantile_0.25\", \"eval_fairness_gro...       36.679508   \n",
       "0  {\"cutoff\": \"quantile_0.25\", \"eval_fairness_gro...       36.679508   \n",
       "\n",
       "   test_size_n  test_size_frac  fair_main_equalized_odds_difference  \\\n",
       "0        89710             1.0                             0.015493   \n",
       "0        89710             1.0                             0.015493   \n",
       "0        89710             1.0                             0.060944   \n",
       "0        89710             1.0                             0.060944   \n",
       "\n",
       "   fair_main_equalized_odds_ratio  fair_main_demographic_parity_difference  \\\n",
       "0                        0.984306                                 0.009752   \n",
       "0                        0.984306                                 0.009752   \n",
       "0                        0.935410                                 0.003984   \n",
       "0                        0.935410                                 0.003984   \n",
       "\n",
       "   fair_main_demographic_parity_ratio  ...  perf_grp_precision_0  \\\n",
       "0                            0.989426  ...                   NaN   \n",
       "0                            0.989426  ...              0.122766   \n",
       "0                            0.994731  ...                   NaN   \n",
       "0                            0.994731  ...              0.135266   \n",
       "\n",
       "   perf_grp_precision_1  perf_grp_false positive rate_0  \\\n",
       "0                   NaN                             NaN   \n",
       "0              0.141442                        0.904799   \n",
       "0                   NaN                             NaN   \n",
       "0              0.164870                        0.735252   \n",
       "\n",
       "   perf_grp_false positive rate_1  perf_grp_false negative rate_0  \\\n",
       "0                             NaN                             NaN   \n",
       "0                        0.912377                        0.028294   \n",
       "0                             NaN                             NaN   \n",
       "0                        0.727703                        0.117399   \n",
       "\n",
       "   perf_grp_false negative rate_1  perf_grp_selection rate_0  \\\n",
       "0                             NaN                        NaN   \n",
       "0                        0.012801                   0.912512   \n",
       "0                             NaN                        NaN   \n",
       "0                        0.056455                   0.752240   \n",
       "\n",
       "   perf_grp_selection rate_1  perf_grp_count_0  perf_grp_count_1  \n",
       "0                        NaN               NaN               NaN  \n",
       "0                   0.922264           20540.0           69170.0  \n",
       "0                        NaN               NaN               NaN  \n",
       "0                   0.756224           20540.0           69170.0  \n",
       "\n",
       "[4 rows x 50 columns]"
      ]
     },
     "execution_count": 79,
     "metadata": {},
     "output_type": "execute_result"
    }
   ],
   "source": [
    "final_output = universe_analysis.generate_final_output(\n",
    "    y_pred_prob=probs_test,\n",
    "    y_test=y_true,\n",
    "    org_test=org_test,\n",
    "    filter_data=filter_sub_universe_data,\n",
    "    cp_metrics_df=cp_metrics_df,\n",
    "    save=True,\n",
    ")\n",
    "final_output"
   ]
  },
  {
   "cell_type": "code",
   "execution_count": null,
   "id": "721ff514-cb11-46f8-b6fc-50392f74b5cb",
   "metadata": {
    "papermill": {
     "duration": 0.015554,
     "end_time": "2025-07-30T13:56:56.738633",
     "exception": false,
     "start_time": "2025-07-30T13:56:56.723079",
     "status": "completed"
    },
    "tags": []
   },
   "outputs": [],
   "source": []
  }
 ],
 "metadata": {
  "celltoolbar": "Tags",
  "kernelspec": {
   "display_name": "Python (CMA Fairness)",
   "language": "python",
   "name": "cma_fair_env"
  },
  "language_info": {
   "codemirror_mode": {
    "name": "ipython",
    "version": 3
   },
   "file_extension": ".py",
   "mimetype": "text/x-python",
   "name": "python",
   "nbconvert_exporter": "python",
   "pygments_lexer": "ipython3",
   "version": "3.10.12"
  },
  "papermill": {
   "default_parameters": {},
   "duration": 50.964363,
   "end_time": "2025-07-30T13:56:57.472919",
   "environment_variables": {},
   "exception": null,
   "input_path": "universe_analysis.ipynb",
   "output_path": "output/runs/12/notebooks/m_12-fdec3234b07ef23da05020480aa9b2f2.ipynb",
   "parameters": {
    "output_dir": "output",
    "run_no": "12",
    "seed": "2023",
    "universe": "{\"cutoff\": [\"quantile_0.1\", \"quantile_0.25\"], \"eval_fairness_grouping\": [\"majority-minority\", \"nationality-all\"], \"exclude_features\": \"sex\", \"exclude_subgroups\": \"drop-non-german\", \"model\": \"rf\", \"scale\": \"scale\", \"training_size\": \"5k\", \"training_year\": \"2012_14\"}",
    "universe_id": "fdec3234b07ef23da05020480aa9b2f2"
   },
   "start_time": "2025-07-30T13:56:06.508556",
   "version": "2.6.0"
  }
 },
 "nbformat": 4,
 "nbformat_minor": 5
}