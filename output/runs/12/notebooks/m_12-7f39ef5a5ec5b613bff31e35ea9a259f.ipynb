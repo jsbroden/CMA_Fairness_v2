{
 "cells": [
  {
   "cell_type": "code",
   "execution_count": 1,
   "id": "f159f837-637b-42ba-96b5-ec9a68c44524",
   "metadata": {
    "execution": {
     "iopub.execute_input": "2025-07-30T12:54:16.428515Z",
     "iopub.status.busy": "2025-07-30T12:54:16.427971Z",
     "iopub.status.idle": "2025-07-30T12:54:16.442141Z",
     "shell.execute_reply": "2025-07-30T12:54:16.441281Z"
    },
    "papermill": {
     "duration": 0.038119,
     "end_time": "2025-07-30T12:54:16.443850",
     "exception": false,
     "start_time": "2025-07-30T12:54:16.405731",
     "status": "completed"
    },
    "tags": []
   },
   "outputs": [
    {
     "name": "stdout",
     "output_type": "stream",
     "text": [
      "/dss/dsshome1/0C/ra93lal2/cma/CMA_Fairness_v2\n"
     ]
    },
    {
     "name": "stderr",
     "output_type": "stream",
     "text": [
      "/dss/dsshome1/0C/ra93lal2/.local/share/virtualenvs/CMA_Fairness_v2-3j10GkSs/lib/python3.10/site-packages/IPython/core/magics/osm.py:393: UserWarning: This is now an optional IPython functionality, using bookmarks requires you to install the `pickleshare` library.\n",
      "  bkms = self.shell.db.get('bookmarks', {})\n",
      "/dss/dsshome1/0C/ra93lal2/.local/share/virtualenvs/CMA_Fairness_v2-3j10GkSs/lib/python3.10/site-packages/IPython/core/magics/osm.py:417: UserWarning: This is now an optional IPython functionality, setting dhist requires you to install the `pickleshare` library.\n",
      "  self.shell.db['dhist'] = compress_dhist(dhist)[-100:]\n"
     ]
    }
   ],
   "source": [
    "%cd ~/cma/CMA_Fairness_v2"
   ]
  },
  {
   "cell_type": "markdown",
   "id": "de2603b9",
   "metadata": {
    "papermill": {
     "duration": 0.018577,
     "end_time": "2025-07-30T12:54:16.485177",
     "exception": false,
     "start_time": "2025-07-30T12:54:16.466600",
     "status": "completed"
    },
    "tags": []
   },
   "source": [
    "The following cell holds the definition of our parameters, these values can be overriden by rendering the with e.g. the following command:\n",
    "\n",
    "papermill -p alpha 0.2 -p ratio 0.3 universe_analysis.ipynb output/test_run.ipynb"
   ]
  },
  {
   "cell_type": "code",
   "execution_count": 2,
   "id": "a80968a0-40bb-4fa9-85ef-2d5eefb01975",
   "metadata": {
    "execution": {
     "iopub.execute_input": "2025-07-30T12:54:16.523662Z",
     "iopub.status.busy": "2025-07-30T12:54:16.523174Z",
     "iopub.status.idle": "2025-07-30T12:54:16.529147Z",
     "shell.execute_reply": "2025-07-30T12:54:16.527873Z"
    },
    "papermill": {
     "duration": 0.027837,
     "end_time": "2025-07-30T12:54:16.531073",
     "exception": false,
     "start_time": "2025-07-30T12:54:16.503236",
     "status": "completed"
    },
    "tags": []
   },
   "outputs": [
    {
     "name": "stdout",
     "output_type": "stream",
     "text": [
      "Current working directory: /dss/dsshome1/0C/ra93lal2/cma/CMA_Fairness_v2\n"
     ]
    }
   ],
   "source": [
    "import os\n",
    "print(\"Current working directory:\", os.getcwd())"
   ]
  },
  {
   "cell_type": "code",
   "execution_count": 3,
   "id": "2dce4c03",
   "metadata": {
    "execution": {
     "iopub.execute_input": "2025-07-30T12:54:16.574229Z",
     "iopub.status.busy": "2025-07-30T12:54:16.573700Z",
     "iopub.status.idle": "2025-07-30T12:54:16.580662Z",
     "shell.execute_reply": "2025-07-30T12:54:16.579531Z"
    },
    "papermill": {
     "duration": 0.028476,
     "end_time": "2025-07-30T12:54:16.582285",
     "exception": false,
     "start_time": "2025-07-30T12:54:16.553809",
     "status": "completed"
    },
    "tags": [
     "parameters"
    ]
   },
   "outputs": [],
   "source": [
    "run_no = 0\n",
    "universe_id = \"test\"\n",
    "universe = {\n",
    "    \"training_size\": \"25k\", # \"25k\", \"5k\", \"1k\"\n",
    "    \"training_year\": \"2014\", # \"2014\", \"2012_14\", \"2010_14\"\n",
    "    \"scale\": \"scale\", # \"scale\", \"do-not-scale\",\n",
    "    #\"stratify_split\": \"target\", # \"none\", \"target\", \"protected-attribute\", \"both\",\n",
    "    \"model\": \"elasticnet\", # \"logreg\", \"penalized_logreg\", \"rf\", \"gbm\", \"elasticnet\"\n",
    "    \"cutoff\": [\"quantile_0.15\", \"quantile_0.30\"],\n",
    "    \"exclude_features\": \"age\", # \"none\", \"nationality\", \"sex\", \"nationality-sex\", \"age\"\n",
    "    \"exclude_subgroups\": \"keep-all\", # \"keep-all\", \"drop-non-german\"\n",
    "    \"eval_fairness_grouping\": [\"majority-minority\", \"nationality-all\"]\n",
    "}\n",
    "\n",
    "output_dir=\"./output\"\n",
    "seed=0"
   ]
  },
  {
   "cell_type": "code",
   "execution_count": 4,
   "id": "32c60171",
   "metadata": {
    "execution": {
     "iopub.execute_input": "2025-07-30T12:54:16.627152Z",
     "iopub.status.busy": "2025-07-30T12:54:16.625925Z",
     "iopub.status.idle": "2025-07-30T12:54:16.632590Z",
     "shell.execute_reply": "2025-07-30T12:54:16.631520Z"
    },
    "papermill": {
     "duration": 0.031858,
     "end_time": "2025-07-30T12:54:16.634061",
     "exception": false,
     "start_time": "2025-07-30T12:54:16.602203",
     "status": "completed"
    },
    "tags": [
     "injected-parameters"
    ]
   },
   "outputs": [],
   "source": [
    "# Parameters\n",
    "universe_id = \"7f39ef5a5ec5b613bff31e35ea9a259f\"\n",
    "run_no = \"12\"\n",
    "universe = \"{\\\"cutoff\\\": [\\\"quantile_0.1\\\", \\\"quantile_0.25\\\"], \\\"eval_fairness_grouping\\\": [\\\"majority-minority\\\", \\\"nationality-all\\\"], \\\"exclude_features\\\": \\\"age\\\", \\\"exclude_subgroups\\\": \\\"keep-all\\\", \\\"model\\\": \\\"penalized_logreg\\\", \\\"scale\\\": \\\"do-not-scale\\\", \\\"training_size\\\": \\\"25k\\\", \\\"training_year\\\": \\\"2014\\\"}\"\n",
    "output_dir = \"output\"\n",
    "seed = \"2023\"\n"
   ]
  },
  {
   "cell_type": "code",
   "execution_count": 5,
   "id": "1650acaf",
   "metadata": {
    "execution": {
     "iopub.execute_input": "2025-07-30T12:54:16.658233Z",
     "iopub.status.busy": "2025-07-30T12:54:16.657652Z",
     "iopub.status.idle": "2025-07-30T12:54:16.662028Z",
     "shell.execute_reply": "2025-07-30T12:54:16.661245Z"
    },
    "papermill": {
     "duration": 0.01721,
     "end_time": "2025-07-30T12:54:16.663519",
     "exception": false,
     "start_time": "2025-07-30T12:54:16.646309",
     "status": "completed"
    },
    "tags": []
   },
   "outputs": [],
   "source": [
    "import json\n",
    "# Parse universe into dict if it is passed as a string\n",
    "if isinstance(universe, str):\n",
    "    universe = json.loads(universe)"
   ]
  },
  {
   "cell_type": "code",
   "execution_count": 6,
   "id": "16620c48",
   "metadata": {
    "execution": {
     "iopub.execute_input": "2025-07-30T12:54:16.686120Z",
     "iopub.status.busy": "2025-07-30T12:54:16.685534Z",
     "iopub.status.idle": "2025-07-30T12:54:16.743107Z",
     "shell.execute_reply": "2025-07-30T12:54:16.742198Z"
    },
    "papermill": {
     "duration": 0.070342,
     "end_time": "2025-07-30T12:54:16.745106",
     "exception": false,
     "start_time": "2025-07-30T12:54:16.674764",
     "status": "completed"
    },
    "tags": []
   },
   "outputs": [],
   "source": [
    "# Auto-reload the custom package\n",
    "%load_ext autoreload\n",
    "%autoreload 1\n",
    "%aimport fairness_multiverse"
   ]
  },
  {
   "cell_type": "code",
   "execution_count": 7,
   "id": "01c5c9f3",
   "metadata": {
    "execution": {
     "iopub.execute_input": "2025-07-30T12:54:16.789933Z",
     "iopub.status.busy": "2025-07-30T12:54:16.789138Z",
     "iopub.status.idle": "2025-07-30T12:54:18.793571Z",
     "shell.execute_reply": "2025-07-30T12:54:18.792490Z"
    },
    "papermill": {
     "duration": 2.027016,
     "end_time": "2025-07-30T12:54:18.795670",
     "exception": false,
     "start_time": "2025-07-30T12:54:16.768654",
     "status": "completed"
    },
    "tags": []
   },
   "outputs": [],
   "source": [
    "from fairness_multiverse.universe import UniverseAnalysis\n",
    "\n",
    "universe_analysis = UniverseAnalysis(\n",
    "    run_no = run_no,\n",
    "    universe_id = universe_id,\n",
    "    universe = universe,\n",
    "    output_dir=output_dir,\n",
    ")"
   ]
  },
  {
   "cell_type": "code",
   "execution_count": 8,
   "id": "106241f5",
   "metadata": {
    "execution": {
     "iopub.execute_input": "2025-07-30T12:54:18.839526Z",
     "iopub.status.busy": "2025-07-30T12:54:18.838631Z",
     "iopub.status.idle": "2025-07-30T12:54:18.847879Z",
     "shell.execute_reply": "2025-07-30T12:54:18.846963Z"
    },
    "papermill": {
     "duration": 0.03307,
     "end_time": "2025-07-30T12:54:18.849962",
     "exception": false,
     "start_time": "2025-07-30T12:54:18.816892",
     "status": "completed"
    },
    "tags": []
   },
   "outputs": [
    {
     "name": "stdout",
     "output_type": "stream",
     "text": [
      "Using Seed: 2023\n"
     ]
    }
   ],
   "source": [
    "import numpy as np\n",
    "parsed_seed = int(seed)\n",
    "np.random.seed(parsed_seed)\n",
    "print(f\"Using Seed: {parsed_seed}\")"
   ]
  },
  {
   "cell_type": "markdown",
   "id": "e0ebdc57",
   "metadata": {
    "papermill": {
     "duration": 0.020834,
     "end_time": "2025-07-30T12:54:18.892620",
     "exception": false,
     "start_time": "2025-07-30T12:54:18.871786",
     "status": "completed"
    },
    "tags": []
   },
   "source": [
    "# Loading Data"
   ]
  },
  {
   "cell_type": "markdown",
   "id": "681925a3",
   "metadata": {
    "papermill": {
     "duration": 0.020866,
     "end_time": "2025-07-30T12:54:18.934007",
     "exception": false,
     "start_time": "2025-07-30T12:54:18.913141",
     "status": "completed"
    },
    "tags": []
   },
   "source": [
    "Load siab_train, siab_test, siab_calib and/or \n",
    "load siab_train_features, siab_train_labels"
   ]
  },
  {
   "cell_type": "code",
   "execution_count": 9,
   "id": "f0496b8a",
   "metadata": {
    "execution": {
     "iopub.execute_input": "2025-07-30T12:54:18.975945Z",
     "iopub.status.busy": "2025-07-30T12:54:18.975558Z",
     "iopub.status.idle": "2025-07-30T12:54:31.353132Z",
     "shell.execute_reply": "2025-07-30T12:54:31.351994Z"
    },
    "papermill": {
     "duration": 12.39996,
     "end_time": "2025-07-30T12:54:31.354880",
     "exception": false,
     "start_time": "2025-07-30T12:54:18.954920",
     "status": "completed"
    },
    "tags": []
   },
   "outputs": [
    {
     "name": "stdout",
     "output_type": "stream",
     "text": [
      "Loading SIAB data from cache: data/siab_cached.csv.gz\n"
     ]
    },
    {
     "name": "stdout",
     "output_type": "stream",
     "text": [
      "(643690, 164)\n"
     ]
    }
   ],
   "source": [
    "from pathlib import Path\n",
    "import pandas as pd\n",
    "\n",
    "# File paths\n",
    "raw_file = Path(\"data/raw/siab.csv\")\n",
    "cache_file = Path(\"data/siab_cached.csv.gz\")\n",
    "\n",
    "# Ensure cache directory exists\n",
    "cache_file.parent.mkdir(parents=True, exist_ok=True)\n",
    "\n",
    "# Load with simple caching\n",
    "if cache_file.exists():\n",
    "    print(f\"Loading SIAB data from cache: {cache_file}\")\n",
    "    siab = pd.read_csv(cache_file, compression='gzip')\n",
    "else:\n",
    "    print(f\"Cache not found. Reading raw SIAB data: {raw_file}\")\n",
    "    siab = pd.read_csv(raw_file)\n",
    "    siab.to_csv(cache_file, index=False, compression='gzip')\n",
    "    print(f\"Cached SIAB data to: {cache_file}\")\n",
    "\n",
    "# Now use `siab` DataFrame as needed\n",
    "print(siab.shape)"
   ]
  },
  {
   "cell_type": "code",
   "execution_count": 10,
   "id": "db0ca512-5f53-4dba-abdb-a2888bca41ba",
   "metadata": {
    "execution": {
     "iopub.execute_input": "2025-07-30T12:54:31.403811Z",
     "iopub.status.busy": "2025-07-30T12:54:31.403104Z",
     "iopub.status.idle": "2025-07-30T12:54:31.408943Z",
     "shell.execute_reply": "2025-07-30T12:54:31.407818Z"
    },
    "papermill": {
     "duration": 0.03138,
     "end_time": "2025-07-30T12:54:31.410709",
     "exception": false,
     "start_time": "2025-07-30T12:54:31.379329",
     "status": "completed"
    },
    "tags": []
   },
   "outputs": [],
   "source": [
    "#siab"
   ]
  },
  {
   "cell_type": "code",
   "execution_count": 11,
   "id": "a0edb063",
   "metadata": {
    "execution": {
     "iopub.execute_input": "2025-07-30T12:54:31.456238Z",
     "iopub.status.busy": "2025-07-30T12:54:31.455625Z",
     "iopub.status.idle": "2025-07-30T12:54:31.461151Z",
     "shell.execute_reply": "2025-07-30T12:54:31.460082Z"
    },
    "papermill": {
     "duration": 0.029566,
     "end_time": "2025-07-30T12:54:31.463001",
     "exception": false,
     "start_time": "2025-07-30T12:54:31.433435",
     "status": "completed"
    },
    "tags": []
   },
   "outputs": [],
   "source": [
    "#import pandas as pd\n",
    "#\n",
    "#X_train = pd.read_csv(\"./data/X_train.csv\")\n",
    "#y_train = pd.read_csv(\"./data/y_train.csv\")"
   ]
  },
  {
   "cell_type": "code",
   "execution_count": 12,
   "id": "63d08085",
   "metadata": {
    "execution": {
     "iopub.execute_input": "2025-07-30T12:54:31.508849Z",
     "iopub.status.busy": "2025-07-30T12:54:31.507986Z",
     "iopub.status.idle": "2025-07-30T12:54:31.513360Z",
     "shell.execute_reply": "2025-07-30T12:54:31.512367Z"
    },
    "papermill": {
     "duration": 0.029469,
     "end_time": "2025-07-30T12:54:31.515080",
     "exception": false,
     "start_time": "2025-07-30T12:54:31.485611",
     "status": "completed"
    },
    "tags": []
   },
   "outputs": [],
   "source": [
    "#X_test = pd.read_csv(\"./data/X_test.csv\")\n",
    "#y_true = pd.read_csv(\"./data/y_test.csv\")"
   ]
  },
  {
   "cell_type": "code",
   "execution_count": 13,
   "id": "98a8d0fa-1d3d-4ed8-bb2c-281470e24add",
   "metadata": {
    "execution": {
     "iopub.execute_input": "2025-07-30T12:54:31.563718Z",
     "iopub.status.busy": "2025-07-30T12:54:31.563209Z",
     "iopub.status.idle": "2025-07-30T12:54:31.569175Z",
     "shell.execute_reply": "2025-07-30T12:54:31.568103Z"
    },
    "papermill": {
     "duration": 0.032743,
     "end_time": "2025-07-30T12:54:31.570887",
     "exception": false,
     "start_time": "2025-07-30T12:54:31.538144",
     "status": "completed"
    },
    "tags": []
   },
   "outputs": [],
   "source": [
    "# Calibration data for conformal\n",
    "#X_calib = pd.read_csv(\"./data/X_calib.csv\")\n",
    "#y_calib = pd.read_csv(\"./data/y_calib.csv\")"
   ]
  },
  {
   "cell_type": "markdown",
   "id": "997051c5-15bd-4b69-9786-c3001a3ce484",
   "metadata": {
    "papermill": {
     "duration": 0.010903,
     "end_time": "2025-07-30T12:54:31.597938",
     "exception": false,
     "start_time": "2025-07-30T12:54:31.587035",
     "status": "completed"
    },
    "tags": []
   },
   "source": [
    "# Splitting Data and Setting Training Data Size"
   ]
  },
  {
   "cell_type": "code",
   "execution_count": 14,
   "id": "e993b61f-042d-41a6-8c81-f55681f86335",
   "metadata": {
    "execution": {
     "iopub.execute_input": "2025-07-30T12:54:31.639662Z",
     "iopub.status.busy": "2025-07-30T12:54:31.639318Z",
     "iopub.status.idle": "2025-07-30T12:54:31.651593Z",
     "shell.execute_reply": "2025-07-30T12:54:31.650554Z"
    },
    "papermill": {
     "duration": 0.035615,
     "end_time": "2025-07-30T12:54:31.653268",
     "exception": false,
     "start_time": "2025-07-30T12:54:31.617653",
     "status": "completed"
    },
    "tags": []
   },
   "outputs": [],
   "source": [
    "def sample_by_year_size(df,\n",
    "                        training_year: str,\n",
    "                        training_size: str,\n",
    "                        random_state: int = 42):\n",
    "    # --- parse training_year into a list of int years ---\n",
    "    if \"_\" in training_year:\n",
    "        start_str, end_str = training_year.split(\"_\", 1)\n",
    "        start = int(start_str)\n",
    "        end   = int(end_str) if len(end_str) == 4 else (int(end_str) + (start // 100)*100)\n",
    "        years = list(range(start, end + 1))\n",
    "    else:\n",
    "        years = [int(training_year)]\n",
    "\n",
    "    df = df[df[\"year\"].isin(years)].reset_index(drop=True)\n",
    "\n",
    "    # --- map training_size to total number of samples ---\n",
    "    total_map = {\"25k\": 25_000, \"5k\": 5_000, \"1k\": 1_000}\n",
    "    if training_size not in total_map:\n",
    "        return df  # e.g. \"all\"\n",
    "\n",
    "    total_samples = total_map[training_size]\n",
    "    n_years       = len(years)\n",
    "    base          = total_samples // n_years\n",
    "    remainder     = total_samples % n_years\n",
    "\n",
    "    # --- build a dict: year -> how many to sample ---\n",
    "    # give +1 to the first `remainder` years in ascending order\n",
    "    quotas = {\n",
    "        year: base + (1 if idx < remainder else 0)\n",
    "        for idx, year in enumerate(sorted(years))\n",
    "    }\n",
    "\n",
    "    # --- sample per‐year according to the quota dict ---\n",
    "    sampled = (\n",
    "        df\n",
    "        .groupby(\"year\", group_keys=False)\n",
    "        .apply(lambda grp: grp.sample(\n",
    "            n=min(len(grp), quotas[grp.name]),\n",
    "            random_state=random_state))\n",
    "        .reset_index(drop=True)\n",
    "    )\n",
    "\n",
    "    return sampled"
   ]
  },
  {
   "cell_type": "code",
   "execution_count": 15,
   "id": "c0ccd338-0e02-41f3-a09d-f56f9266e3fb",
   "metadata": {
    "execution": {
     "iopub.execute_input": "2025-07-30T12:54:31.700004Z",
     "iopub.status.busy": "2025-07-30T12:54:31.699242Z",
     "iopub.status.idle": "2025-07-30T12:54:31.711213Z",
     "shell.execute_reply": "2025-07-30T12:54:31.710218Z"
    },
    "papermill": {
     "duration": 0.036888,
     "end_time": "2025-07-30T12:54:31.712822",
     "exception": false,
     "start_time": "2025-07-30T12:54:31.675934",
     "status": "completed"
    },
    "tags": []
   },
   "outputs": [
    {
     "data": {
      "text/plain": [
       "'25k'"
      ]
     },
     "execution_count": 15,
     "metadata": {},
     "output_type": "execute_result"
    }
   ],
   "source": [
    "universe[\"training_size\"]"
   ]
  },
  {
   "cell_type": "code",
   "execution_count": 16,
   "id": "ca707fd7-8047-4acd-bfa5-66248fbbf8e6",
   "metadata": {
    "execution": {
     "iopub.execute_input": "2025-07-30T12:54:31.738387Z",
     "iopub.status.busy": "2025-07-30T12:54:31.737930Z",
     "iopub.status.idle": "2025-07-30T12:54:31.744456Z",
     "shell.execute_reply": "2025-07-30T12:54:31.743777Z"
    },
    "papermill": {
     "duration": 0.019947,
     "end_time": "2025-07-30T12:54:31.745744",
     "exception": false,
     "start_time": "2025-07-30T12:54:31.725797",
     "status": "completed"
    },
    "tags": []
   },
   "outputs": [
    {
     "data": {
      "text/plain": [
       "'2014'"
      ]
     },
     "execution_count": 16,
     "metadata": {},
     "output_type": "execute_result"
    }
   ],
   "source": [
    "universe[\"training_year\"]"
   ]
  },
  {
   "cell_type": "code",
   "execution_count": 17,
   "id": "aea9c6ef-6f46-42c8-85eb-5a62025c1508",
   "metadata": {
    "execution": {
     "iopub.execute_input": "2025-07-30T12:54:31.774191Z",
     "iopub.status.busy": "2025-07-30T12:54:31.773320Z",
     "iopub.status.idle": "2025-07-30T12:54:32.088872Z",
     "shell.execute_reply": "2025-07-30T12:54:32.087859Z"
    },
    "papermill": {
     "duration": 0.333137,
     "end_time": "2025-07-30T12:54:32.090428",
     "exception": false,
     "start_time": "2025-07-30T12:54:31.757291",
     "status": "completed"
    },
    "tags": []
   },
   "outputs": [],
   "source": [
    "siab_train = sample_by_year_size(siab,\n",
    "                               training_year=universe[\"training_year\"],\n",
    "                               training_size=universe[\"training_size\"])"
   ]
  },
  {
   "cell_type": "code",
   "execution_count": 18,
   "id": "8d3afb32-789d-442c-8d5d-9f5aa8dd2eed",
   "metadata": {
    "execution": {
     "iopub.execute_input": "2025-07-30T12:54:32.133101Z",
     "iopub.status.busy": "2025-07-30T12:54:32.132647Z",
     "iopub.status.idle": "2025-07-30T12:54:32.140009Z",
     "shell.execute_reply": "2025-07-30T12:54:32.138960Z"
    },
    "papermill": {
     "duration": 0.030417,
     "end_time": "2025-07-30T12:54:32.141794",
     "exception": false,
     "start_time": "2025-07-30T12:54:32.111377",
     "status": "completed"
    },
    "tags": []
   },
   "outputs": [
    {
     "data": {
      "text/plain": [
       "(25000, 164)"
      ]
     },
     "execution_count": 18,
     "metadata": {},
     "output_type": "execute_result"
    }
   ],
   "source": [
    "siab_train.shape"
   ]
  },
  {
   "cell_type": "code",
   "execution_count": 19,
   "id": "d582db68-1a4c-47fb-84fc-08518dc1975a",
   "metadata": {
    "execution": {
     "iopub.execute_input": "2025-07-30T12:54:32.193910Z",
     "iopub.status.busy": "2025-07-30T12:54:32.193411Z",
     "iopub.status.idle": "2025-07-30T12:54:32.203961Z",
     "shell.execute_reply": "2025-07-30T12:54:32.203037Z"
    },
    "papermill": {
     "duration": 0.038379,
     "end_time": "2025-07-30T12:54:32.205405",
     "exception": false,
     "start_time": "2025-07-30T12:54:32.167026",
     "status": "completed"
    },
    "tags": []
   },
   "outputs": [
    {
     "data": {
      "text/plain": [
       "year\n",
       "2014    25000\n",
       "dtype: int64"
      ]
     },
     "metadata": {},
     "output_type": "display_data"
    }
   ],
   "source": [
    "display(siab_train.groupby(\"year\").size())"
   ]
  },
  {
   "cell_type": "code",
   "execution_count": 20,
   "id": "a561edb4-d032-42cb-8256-22eac1111c64",
   "metadata": {
    "execution": {
     "iopub.execute_input": "2025-07-30T12:54:32.251507Z",
     "iopub.status.busy": "2025-07-30T12:54:32.251041Z",
     "iopub.status.idle": "2025-07-30T12:54:32.502517Z",
     "shell.execute_reply": "2025-07-30T12:54:32.501515Z"
    },
    "papermill": {
     "duration": 0.276637,
     "end_time": "2025-07-30T12:54:32.504138",
     "exception": false,
     "start_time": "2025-07-30T12:54:32.227501",
     "status": "completed"
    },
    "tags": []
   },
   "outputs": [],
   "source": [
    "#siab_train = siab_s[siab_s.year < 2015]\n",
    "siab_calib = siab[siab.year == 2015]\n",
    "siab_test = siab[siab.year == 2016]"
   ]
  },
  {
   "cell_type": "code",
   "execution_count": 21,
   "id": "472de16f-c3db-4916-846b-1f0de9cf1746",
   "metadata": {
    "execution": {
     "iopub.execute_input": "2025-07-30T12:54:32.554282Z",
     "iopub.status.busy": "2025-07-30T12:54:32.553850Z",
     "iopub.status.idle": "2025-07-30T12:54:32.569022Z",
     "shell.execute_reply": "2025-07-30T12:54:32.567713Z"
    },
    "papermill": {
     "duration": 0.042594,
     "end_time": "2025-07-30T12:54:32.571207",
     "exception": false,
     "start_time": "2025-07-30T12:54:32.528613",
     "status": "completed"
    },
    "tags": []
   },
   "outputs": [],
   "source": [
    "X_train = siab_train.iloc[:,4:164]\n",
    "y_train = siab_train.iloc[:, [3]]"
   ]
  },
  {
   "cell_type": "code",
   "execution_count": 22,
   "id": "828c96af-f43a-4ed6-ba47-8ac73a47d56c",
   "metadata": {
    "execution": {
     "iopub.execute_input": "2025-07-30T12:54:32.622627Z",
     "iopub.status.busy": "2025-07-30T12:54:32.621597Z",
     "iopub.status.idle": "2025-07-30T12:54:32.690147Z",
     "shell.execute_reply": "2025-07-30T12:54:32.689089Z"
    },
    "papermill": {
     "duration": 0.095177,
     "end_time": "2025-07-30T12:54:32.693326",
     "exception": false,
     "start_time": "2025-07-30T12:54:32.598149",
     "status": "completed"
    },
    "tags": []
   },
   "outputs": [],
   "source": [
    "X_calib = siab_calib.iloc[:,4:164]\n",
    "y_calib = siab_calib.iloc[:, [3]]"
   ]
  },
  {
   "cell_type": "code",
   "execution_count": 23,
   "id": "c34be9c3-6bd6-476e-acd3-845840e303be",
   "metadata": {
    "execution": {
     "iopub.execute_input": "2025-07-30T12:54:32.723658Z",
     "iopub.status.busy": "2025-07-30T12:54:32.723350Z",
     "iopub.status.idle": "2025-07-30T12:54:32.776646Z",
     "shell.execute_reply": "2025-07-30T12:54:32.775422Z"
    },
    "papermill": {
     "duration": 0.068634,
     "end_time": "2025-07-30T12:54:32.778380",
     "exception": false,
     "start_time": "2025-07-30T12:54:32.709746",
     "status": "completed"
    },
    "tags": []
   },
   "outputs": [],
   "source": [
    "X_test = siab_test.iloc[:,4:164]\n",
    "y_true = siab_test.iloc[:, [3]]"
   ]
  },
  {
   "cell_type": "markdown",
   "id": "9901737e-04df-44f0-9100-f5ad144ed040",
   "metadata": {
    "papermill": {
     "duration": 0.012117,
     "end_time": "2025-07-30T12:54:32.811112",
     "exception": false,
     "start_time": "2025-07-30T12:54:32.798995",
     "status": "completed"
    },
    "tags": []
   },
   "source": [
    "# Splitting Data and Setting Training Data Size OLD VERSION"
   ]
  },
  {
   "cell_type": "code",
   "execution_count": 24,
   "id": "acbc8f7d-8fc8-4e86-8c59-5dcb0f58384b",
   "metadata": {
    "execution": {
     "iopub.execute_input": "2025-07-30T12:54:32.839753Z",
     "iopub.status.busy": "2025-07-30T12:54:32.839329Z",
     "iopub.status.idle": "2025-07-30T12:54:32.845089Z",
     "shell.execute_reply": "2025-07-30T12:54:32.844086Z"
    },
    "papermill": {
     "duration": 0.024542,
     "end_time": "2025-07-30T12:54:32.846972",
     "exception": false,
     "start_time": "2025-07-30T12:54:32.822430",
     "status": "completed"
    },
    "tags": []
   },
   "outputs": [],
   "source": [
    "#def sample_by_year(df, training_size, random_state=42):\n",
    "#    if training_size == \"2014\":\n",
    "#        return df[df[\"year\"] == 2014].reset_index(drop=True)\n",
    "#    \n",
    "#    size_map = {\n",
    "#        \"25k\": 5000,\n",
    "#        \"5k\": 1000,\n",
    "#        \"1k\": 200\n",
    "#    }\n",
    "#\n",
    "#    if training_size not in size_map:\n",
    "#        return df.reset_index(drop=True)  # use all data\n",
    "#\n",
    "#    n_per_year = size_map[training_size]\n",
    "#    grouped = df.groupby(\"year\")\n",
    "#    sampled = grouped.apply(lambda x: x.sample(n=min(n_per_year, len(x)), random_state=random_state))\n",
    "#    return sampled.reset_index(drop=True)"
   ]
  },
  {
   "cell_type": "code",
   "execution_count": 25,
   "id": "6d931f52-beaf-43ff-9e78-9d44a448d54e",
   "metadata": {
    "execution": {
     "iopub.execute_input": "2025-07-30T12:54:32.895291Z",
     "iopub.status.busy": "2025-07-30T12:54:32.894407Z",
     "iopub.status.idle": "2025-07-30T12:54:32.900404Z",
     "shell.execute_reply": "2025-07-30T12:54:32.899346Z"
    },
    "papermill": {
     "duration": 0.032385,
     "end_time": "2025-07-30T12:54:32.902018",
     "exception": false,
     "start_time": "2025-07-30T12:54:32.869633",
     "status": "completed"
    },
    "tags": []
   },
   "outputs": [],
   "source": [
    "#siab_s = sample_by_year(siab, universe[\"training_size\"])"
   ]
  },
  {
   "cell_type": "code",
   "execution_count": 26,
   "id": "5db0a40e-a4e2-4920-be85-b12ae061d70d",
   "metadata": {
    "execution": {
     "iopub.execute_input": "2025-07-30T12:54:32.949708Z",
     "iopub.status.busy": "2025-07-30T12:54:32.949173Z",
     "iopub.status.idle": "2025-07-30T12:54:32.954196Z",
     "shell.execute_reply": "2025-07-30T12:54:32.953284Z"
    },
    "papermill": {
     "duration": 0.029822,
     "end_time": "2025-07-30T12:54:32.955817",
     "exception": false,
     "start_time": "2025-07-30T12:54:32.925995",
     "status": "completed"
    },
    "tags": []
   },
   "outputs": [],
   "source": [
    "#display(siab_s.groupby(\"year\").size())"
   ]
  },
  {
   "cell_type": "code",
   "execution_count": 27,
   "id": "e6c733c5",
   "metadata": {
    "execution": {
     "iopub.execute_input": "2025-07-30T12:54:33.006080Z",
     "iopub.status.busy": "2025-07-30T12:54:33.005504Z",
     "iopub.status.idle": "2025-07-30T12:54:33.110740Z",
     "shell.execute_reply": "2025-07-30T12:54:33.109646Z"
    },
    "papermill": {
     "duration": 0.133193,
     "end_time": "2025-07-30T12:54:33.112745",
     "exception": false,
     "start_time": "2025-07-30T12:54:32.979552",
     "status": "completed"
    },
    "tags": []
   },
   "outputs": [],
   "source": [
    "# Auxiliary data needed downstream in the pipeline\n",
    "\n",
    "org_train = X_train.copy()\n",
    "org_test = X_test.copy()\n",
    "org_calib = X_calib.copy()"
   ]
  },
  {
   "cell_type": "code",
   "execution_count": 28,
   "id": "1466abac-c6da-4492-a62f-4240ae3783af",
   "metadata": {
    "execution": {
     "iopub.execute_input": "2025-07-30T12:54:33.157380Z",
     "iopub.status.busy": "2025-07-30T12:54:33.156878Z",
     "iopub.status.idle": "2025-07-30T12:54:33.162601Z",
     "shell.execute_reply": "2025-07-30T12:54:33.161712Z"
    },
    "papermill": {
     "duration": 0.029445,
     "end_time": "2025-07-30T12:54:33.164091",
     "exception": false,
     "start_time": "2025-07-30T12:54:33.134646",
     "status": "completed"
    },
    "tags": []
   },
   "outputs": [],
   "source": [
    "# put in other script?\n",
    "# Group sizes\n",
    "\n",
    "#def calculate_percentages(df, df_name):\n",
    "#    total_entries = len(df)\n",
    "#\n",
    "#    female_pct = (df['frau1'] == 1).mean() * 100\n",
    "#    non_german_pct = ((df['maxdeutsch1'] == 0) & (df['maxdeutsch.Missing.'] == 0)).mean() * 100\n",
    "#    non_german_male_pct = ((df['frau1'] == 0) & (df['maxdeutsch1'] == 0) & (df['maxdeutsch.Missing.'] == 0)).mean() * 100\n",
    "#    non_german_female_pct = ((df['frau1'] == 1) & (df['maxdeutsch1'] == 0) & (df['maxdeutsch.Missing.'] == 0)).mean() * 100\n",
    "#\n",
    "#    print(f\"--- {df_name} ---\")\n",
    "#    print(f\"Female: {female_pct:.2f}%\")\n",
    "#    print(f\"Non-German: {non_german_pct:.2f}%\")\n",
    "#    print(f\"Non-German Male: {non_german_male_pct:.2f}%\")\n",
    "#    print(f\"Non-German Female: {non_german_female_pct:.2f}%\\n\")\n",
    "#\n",
    "## Calculate for each DataFrame\n",
    "#calculate_percentages(siab_calib, \"siab_calib\")\n",
    "#calculate_percentages(siab_test, \"siab_test\")\n",
    "#calculate_percentages(siab_train, \"siab_train\")"
   ]
  },
  {
   "cell_type": "markdown",
   "id": "0a4a1b33",
   "metadata": {
    "papermill": {
     "duration": 0.022114,
     "end_time": "2025-07-30T12:54:33.210258",
     "exception": false,
     "start_time": "2025-07-30T12:54:33.188144",
     "status": "completed"
    },
    "tags": []
   },
   "source": [
    "# Preprocessing Data"
   ]
  },
  {
   "cell_type": "code",
   "execution_count": 29,
   "id": "ca879031",
   "metadata": {
    "execution": {
     "iopub.execute_input": "2025-07-30T12:54:33.256705Z",
     "iopub.status.busy": "2025-07-30T12:54:33.255762Z",
     "iopub.status.idle": "2025-07-30T12:54:33.262080Z",
     "shell.execute_reply": "2025-07-30T12:54:33.261235Z"
    },
    "papermill": {
     "duration": 0.031918,
     "end_time": "2025-07-30T12:54:33.263766",
     "exception": false,
     "start_time": "2025-07-30T12:54:33.231848",
     "status": "completed"
    },
    "tags": []
   },
   "outputs": [],
   "source": [
    "# EXCLUDE PROTECTED FEATURES\n",
    "# ----------------------\n",
    "# \"exclude_features\": \"none\", # \"nationality\", \"sex\", \"nationality-sex\"\n",
    "\n",
    "excluded_features = universe[\"exclude_features\"].split(\"-\") # split, e.g.: \"nationality-sex\" -> [\"nationality\", \"sex\"]\n",
    "excluded_features_dictionary = {\n",
    "    \"nationality\": [\"maxdeutsch1\", \"maxdeutsch.Missing.\"],\n",
    "    \"sex\": [\"frau1\"],\n",
    "    \"age\": [\"age\"],\n",
    "}\n"
   ]
  },
  {
   "cell_type": "code",
   "execution_count": 30,
   "id": "b745ac60",
   "metadata": {
    "execution": {
     "iopub.execute_input": "2025-07-30T12:54:33.309734Z",
     "iopub.status.busy": "2025-07-30T12:54:33.308831Z",
     "iopub.status.idle": "2025-07-30T12:54:33.314570Z",
     "shell.execute_reply": "2025-07-30T12:54:33.313602Z"
    },
    "papermill": {
     "duration": 0.0302,
     "end_time": "2025-07-30T12:54:33.316392",
     "exception": false,
     "start_time": "2025-07-30T12:54:33.286192",
     "status": "completed"
    },
    "tags": []
   },
   "outputs": [],
   "source": [
    "# Code nice names to column names\n",
    "\n",
    "excluded_features_columns = [\n",
    "    excluded_features_dictionary[f] for f in excluded_features if len(f) > 0 and f != \"none\"\n",
    "]"
   ]
  },
  {
   "cell_type": "code",
   "execution_count": 31,
   "id": "f84f73a2",
   "metadata": {
    "execution": {
     "iopub.execute_input": "2025-07-30T12:54:33.364774Z",
     "iopub.status.busy": "2025-07-30T12:54:33.363938Z",
     "iopub.status.idle": "2025-07-30T12:54:33.370713Z",
     "shell.execute_reply": "2025-07-30T12:54:33.369815Z"
    },
    "papermill": {
     "duration": 0.032348,
     "end_time": "2025-07-30T12:54:33.372264",
     "exception": false,
     "start_time": "2025-07-30T12:54:33.339916",
     "status": "completed"
    },
    "tags": []
   },
   "outputs": [],
   "source": [
    "from utils import flatten_once\n",
    "\n",
    "excluded_features_columns = flatten_once(excluded_features_columns)"
   ]
  },
  {
   "cell_type": "code",
   "execution_count": 32,
   "id": "884dea22",
   "metadata": {
    "execution": {
     "iopub.execute_input": "2025-07-30T12:54:33.418648Z",
     "iopub.status.busy": "2025-07-30T12:54:33.417806Z",
     "iopub.status.idle": "2025-07-30T12:54:33.443500Z",
     "shell.execute_reply": "2025-07-30T12:54:33.442439Z"
    },
    "papermill": {
     "duration": 0.051517,
     "end_time": "2025-07-30T12:54:33.445169",
     "exception": false,
     "start_time": "2025-07-30T12:54:33.393652",
     "status": "completed"
    },
    "tags": []
   },
   "outputs": [
    {
     "name": "stdout",
     "output_type": "stream",
     "text": [
      "Dropping features: ['age']\n"
     ]
    }
   ],
   "source": [
    "if len(excluded_features_columns) > 0:\n",
    "    print(f\"Dropping features: {excluded_features_columns}\")\n",
    "    X_train.drop(excluded_features_columns, axis=1, inplace=True)"
   ]
  },
  {
   "cell_type": "code",
   "execution_count": 33,
   "id": "95ab8b16",
   "metadata": {
    "execution": {
     "iopub.execute_input": "2025-07-30T12:54:33.493140Z",
     "iopub.status.busy": "2025-07-30T12:54:33.492576Z",
     "iopub.status.idle": "2025-07-30T12:54:33.568213Z",
     "shell.execute_reply": "2025-07-30T12:54:33.567008Z"
    },
    "papermill": {
     "duration": 0.101827,
     "end_time": "2025-07-30T12:54:33.570644",
     "exception": false,
     "start_time": "2025-07-30T12:54:33.468817",
     "status": "completed"
    },
    "tags": []
   },
   "outputs": [
    {
     "name": "stdout",
     "output_type": "stream",
     "text": [
      "Dropping features: ['age']\n"
     ]
    }
   ],
   "source": [
    "if len(excluded_features_columns) > 0:\n",
    "    print(f\"Dropping features: {excluded_features_columns}\")\n",
    "    X_test.drop(excluded_features_columns, axis=1, inplace=True)"
   ]
  },
  {
   "cell_type": "code",
   "execution_count": 34,
   "id": "1853aaf5-fb9f-46cb-a2b5-8ea4ae2237e4",
   "metadata": {
    "execution": {
     "iopub.execute_input": "2025-07-30T12:54:33.640132Z",
     "iopub.status.busy": "2025-07-30T12:54:33.639417Z",
     "iopub.status.idle": "2025-07-30T12:54:33.697121Z",
     "shell.execute_reply": "2025-07-30T12:54:33.695932Z"
    },
    "papermill": {
     "duration": 0.09421,
     "end_time": "2025-07-30T12:54:33.699393",
     "exception": false,
     "start_time": "2025-07-30T12:54:33.605183",
     "status": "completed"
    },
    "tags": []
   },
   "outputs": [
    {
     "name": "stdout",
     "output_type": "stream",
     "text": [
      "Dropping features: ['age']\n"
     ]
    }
   ],
   "source": [
    "if len(excluded_features_columns) > 0:\n",
    "    print(f\"Dropping features: {excluded_features_columns}\")\n",
    "    X_calib.drop(excluded_features_columns, axis=1, inplace=True)"
   ]
  },
  {
   "cell_type": "code",
   "execution_count": 35,
   "id": "6727d079-03e5-481e-9d38-292a90b7a0a8",
   "metadata": {
    "execution": {
     "iopub.execute_input": "2025-07-30T12:54:33.774612Z",
     "iopub.status.busy": "2025-07-30T12:54:33.773685Z",
     "iopub.status.idle": "2025-07-30T12:54:33.778811Z",
     "shell.execute_reply": "2025-07-30T12:54:33.777755Z"
    },
    "papermill": {
     "duration": 0.033961,
     "end_time": "2025-07-30T12:54:33.780613",
     "exception": false,
     "start_time": "2025-07-30T12:54:33.746652",
     "status": "completed"
    },
    "tags": []
   },
   "outputs": [],
   "source": [
    "# SPLIT & STRATIFY DATA\n",
    "# ----------------------"
   ]
  },
  {
   "cell_type": "code",
   "execution_count": 36,
   "id": "76c4dc6d",
   "metadata": {
    "execution": {
     "iopub.execute_input": "2025-07-30T12:54:33.823986Z",
     "iopub.status.busy": "2025-07-30T12:54:33.823488Z",
     "iopub.status.idle": "2025-07-30T12:54:33.829099Z",
     "shell.execute_reply": "2025-07-30T12:54:33.827998Z"
    },
    "papermill": {
     "duration": 0.029614,
     "end_time": "2025-07-30T12:54:33.830893",
     "exception": false,
     "start_time": "2025-07-30T12:54:33.801279",
     "status": "completed"
    },
    "tags": []
   },
   "outputs": [],
   "source": [
    "# EXCLUDE CERTAIN SUBGROUPS\n",
    "# ----------------------\n",
    "\n",
    "mode = universe.get(\"exclude_subgroups\", \"keep-all\") \n",
    "# Fetches the exclude_subgroups setting from the universe dict.\n",
    "# Defaults to \"keep-all\" if the key is missing."
   ]
  },
  {
   "cell_type": "code",
   "execution_count": 37,
   "id": "21994072",
   "metadata": {
    "execution": {
     "iopub.execute_input": "2025-07-30T12:54:33.870599Z",
     "iopub.status.busy": "2025-07-30T12:54:33.870157Z",
     "iopub.status.idle": "2025-07-30T12:54:33.876928Z",
     "shell.execute_reply": "2025-07-30T12:54:33.876200Z"
    },
    "papermill": {
     "duration": 0.022147,
     "end_time": "2025-07-30T12:54:33.878251",
     "exception": false,
     "start_time": "2025-07-30T12:54:33.856104",
     "status": "completed"
    },
    "tags": []
   },
   "outputs": [],
   "source": [
    "if mode == \"keep-all\":\n",
    "    keep_mask = pd.Series(True, index=org_train.index)\n",
    "\n",
    "# org_train contains the original feature columns from features_org (in Simson)\n",
    "# features_org contains unprocessed features, for me X_train at beginning ???\n",
    "# For keep-all, creates a boolean Series (keep_mask) of all True, so no rows are removed.\n",
    "\n",
    "elif mode == \"drop-non-german\":\n",
    "    keep_mask = org_train[\"maxdeutsch1\"] == 1 # ??? what about missing values?\n",
    "\n",
    "else:\n",
    "    raise ValueError(f\"Unsupported mode for exclude_subgroups: {mode}\")\n"
   ]
  },
  {
   "cell_type": "code",
   "execution_count": 38,
   "id": "71651440",
   "metadata": {
    "execution": {
     "iopub.execute_input": "2025-07-30T12:54:33.905328Z",
     "iopub.status.busy": "2025-07-30T12:54:33.904827Z",
     "iopub.status.idle": "2025-07-30T12:54:33.913413Z",
     "shell.execute_reply": "2025-07-30T12:54:33.911747Z"
    },
    "papermill": {
     "duration": 0.037011,
     "end_time": "2025-07-30T12:54:33.928718",
     "exception": false,
     "start_time": "2025-07-30T12:54:33.891707",
     "status": "completed"
    },
    "tags": []
   },
   "outputs": [],
   "source": [
    "n_drop = (~keep_mask).sum() # Calculates how many rows are set to be dropped\n",
    "if n_drop > 0:\n",
    "    pct = n_drop / len(keep_mask) * 100\n",
    "    print(f\"Dropping {n_drop} rows ({pct:.2f}%) where mode='{mode}'\")"
   ]
  },
  {
   "cell_type": "code",
   "execution_count": 39,
   "id": "5fb8eee5",
   "metadata": {
    "execution": {
     "iopub.execute_input": "2025-07-30T12:54:33.955536Z",
     "iopub.status.busy": "2025-07-30T12:54:33.955080Z",
     "iopub.status.idle": "2025-07-30T12:54:33.970367Z",
     "shell.execute_reply": "2025-07-30T12:54:33.969243Z"
    },
    "papermill": {
     "duration": 0.03063,
     "end_time": "2025-07-30T12:54:33.971893",
     "exception": false,
     "start_time": "2025-07-30T12:54:33.941263",
     "status": "completed"
    },
    "tags": []
   },
   "outputs": [],
   "source": [
    "X_train = X_train[keep_mask]"
   ]
  },
  {
   "cell_type": "code",
   "execution_count": 40,
   "id": "b202bb3a",
   "metadata": {
    "execution": {
     "iopub.execute_input": "2025-07-30T12:54:33.999913Z",
     "iopub.status.busy": "2025-07-30T12:54:33.999482Z",
     "iopub.status.idle": "2025-07-30T12:54:34.006670Z",
     "shell.execute_reply": "2025-07-30T12:54:34.005734Z"
    },
    "papermill": {
     "duration": 0.021943,
     "end_time": "2025-07-30T12:54:34.008436",
     "exception": false,
     "start_time": "2025-07-30T12:54:33.986493",
     "status": "completed"
    },
    "tags": []
   },
   "outputs": [],
   "source": [
    "y_train = y_train[keep_mask]"
   ]
  },
  {
   "cell_type": "markdown",
   "id": "493e2ac3",
   "metadata": {
    "papermill": {
     "duration": 0.026398,
     "end_time": "2025-07-30T12:54:34.062241",
     "exception": false,
     "start_time": "2025-07-30T12:54:34.035843",
     "status": "completed"
    },
    "tags": []
   },
   "source": [
    "# Model Training"
   ]
  },
  {
   "cell_type": "code",
   "execution_count": 41,
   "id": "679e1268",
   "metadata": {
    "execution": {
     "iopub.execute_input": "2025-07-30T12:54:34.108608Z",
     "iopub.status.busy": "2025-07-30T12:54:34.108125Z",
     "iopub.status.idle": "2025-07-30T12:54:34.220361Z",
     "shell.execute_reply": "2025-07-30T12:54:34.219283Z"
    },
    "papermill": {
     "duration": 0.135789,
     "end_time": "2025-07-30T12:54:34.222232",
     "exception": false,
     "start_time": "2025-07-30T12:54:34.086443",
     "status": "completed"
    },
    "tags": []
   },
   "outputs": [],
   "source": [
    "from sklearn.linear_model import LogisticRegression\n",
    "from sklearn.ensemble import GradientBoostingClassifier, RandomForestClassifier\n",
    "\n",
    "if (universe[\"model\"] == \"logreg\"):\n",
    "    model = LogisticRegression() #penalty=\"none\") #, solver=\"newton-cg\", max_iter=1) # include random_state=19 ?\n",
    "elif (universe[\"model\"] == \"penalized_logreg\"):\n",
    "    model = LogisticRegression(penalty=\"l2\", C=1.0) #, solver=\"newton-cg\", max_iter=1)\n",
    "elif (universe[\"model\"] == \"rf\"):\n",
    "    model = RandomForestClassifier(n_estimators=100, n_jobs=-1)\n",
    "elif (universe[\"model\"] == \"gbm\"):\n",
    "    model = GradientBoostingClassifier()\n",
    "elif (universe[\"model\"] == \"elasticnet\"):\n",
    "    model = LogisticRegression(penalty = 'elasticnet', solver = 'saga', l1_ratio = 0.5, max_iter=5000) # which solver to use?\n",
    "else:\n",
    "    raise \"Unsupported universe.model\""
   ]
  },
  {
   "cell_type": "code",
   "execution_count": 42,
   "id": "0cc8f744",
   "metadata": {
    "execution": {
     "iopub.execute_input": "2025-07-30T12:54:34.273954Z",
     "iopub.status.busy": "2025-07-30T12:54:34.273451Z",
     "iopub.status.idle": "2025-07-30T12:54:34.280625Z",
     "shell.execute_reply": "2025-07-30T12:54:34.279446Z"
    },
    "papermill": {
     "duration": 0.034724,
     "end_time": "2025-07-30T12:54:34.282479",
     "exception": false,
     "start_time": "2025-07-30T12:54:34.247755",
     "status": "completed"
    },
    "tags": []
   },
   "outputs": [],
   "source": [
    "import numpy as np\n",
    "from sklearn.pipeline import Pipeline\n",
    "from sklearn.preprocessing import StandardScaler\n",
    "\n",
    "model = Pipeline([\n",
    "    #(\"continuous_processor\", continuous_processor),\n",
    "    #(\"categorical_preprocessor\", categorical_preprocessor),\n",
    "    (\"scale\", StandardScaler() if universe[\"scale\"] == \"scale\" else None), \n",
    "    (\"model\", model),\n",
    "])"
   ]
  },
  {
   "cell_type": "code",
   "execution_count": 43,
   "id": "9442c04d",
   "metadata": {
    "execution": {
     "iopub.execute_input": "2025-07-30T12:54:34.329975Z",
     "iopub.status.busy": "2025-07-30T12:54:34.329395Z",
     "iopub.status.idle": "2025-07-30T12:54:35.117533Z",
     "shell.execute_reply": "2025-07-30T12:54:35.116551Z"
    },
    "papermill": {
     "duration": 0.809099,
     "end_time": "2025-07-30T12:54:35.119224",
     "exception": false,
     "start_time": "2025-07-30T12:54:34.310125",
     "status": "completed"
    },
    "tags": []
   },
   "outputs": [
    {
     "name": "stderr",
     "output_type": "stream",
     "text": [
      "/dss/dsshome1/0C/ra93lal2/.local/share/virtualenvs/CMA_Fairness_v2-3j10GkSs/lib/python3.10/site-packages/sklearn/linear_model/_logistic.py:444: ConvergenceWarning: lbfgs failed to converge (status=1):\n",
      "STOP: TOTAL NO. of ITERATIONS REACHED LIMIT.\n",
      "\n",
      "Increase the number of iterations (max_iter) or scale the data as shown in:\n",
      "    https://scikit-learn.org/stable/modules/preprocessing.html\n",
      "Please also refer to the documentation for alternative solver options:\n",
      "    https://scikit-learn.org/stable/modules/linear_model.html#logistic-regression\n",
      "  n_iter_i = _check_optimize_result(\n"
     ]
    },
    {
     "data": {
      "text/html": [
       "<style>#sk-container-id-1 {color: black;background-color: white;}#sk-container-id-1 pre{padding: 0;}#sk-container-id-1 div.sk-toggleable {background-color: white;}#sk-container-id-1 label.sk-toggleable__label {cursor: pointer;display: block;width: 100%;margin-bottom: 0;padding: 0.3em;box-sizing: border-box;text-align: center;}#sk-container-id-1 label.sk-toggleable__label-arrow:before {content: \"▸\";float: left;margin-right: 0.25em;color: #696969;}#sk-container-id-1 label.sk-toggleable__label-arrow:hover:before {color: black;}#sk-container-id-1 div.sk-estimator:hover label.sk-toggleable__label-arrow:before {color: black;}#sk-container-id-1 div.sk-toggleable__content {max-height: 0;max-width: 0;overflow: hidden;text-align: left;background-color: #f0f8ff;}#sk-container-id-1 div.sk-toggleable__content pre {margin: 0.2em;color: black;border-radius: 0.25em;background-color: #f0f8ff;}#sk-container-id-1 input.sk-toggleable__control:checked~div.sk-toggleable__content {max-height: 200px;max-width: 100%;overflow: auto;}#sk-container-id-1 input.sk-toggleable__control:checked~label.sk-toggleable__label-arrow:before {content: \"▾\";}#sk-container-id-1 div.sk-estimator input.sk-toggleable__control:checked~label.sk-toggleable__label {background-color: #d4ebff;}#sk-container-id-1 div.sk-label input.sk-toggleable__control:checked~label.sk-toggleable__label {background-color: #d4ebff;}#sk-container-id-1 input.sk-hidden--visually {border: 0;clip: rect(1px 1px 1px 1px);clip: rect(1px, 1px, 1px, 1px);height: 1px;margin: -1px;overflow: hidden;padding: 0;position: absolute;width: 1px;}#sk-container-id-1 div.sk-estimator {font-family: monospace;background-color: #f0f8ff;border: 1px dotted black;border-radius: 0.25em;box-sizing: border-box;margin-bottom: 0.5em;}#sk-container-id-1 div.sk-estimator:hover {background-color: #d4ebff;}#sk-container-id-1 div.sk-parallel-item::after {content: \"\";width: 100%;border-bottom: 1px solid gray;flex-grow: 1;}#sk-container-id-1 div.sk-label:hover label.sk-toggleable__label {background-color: #d4ebff;}#sk-container-id-1 div.sk-serial::before {content: \"\";position: absolute;border-left: 1px solid gray;box-sizing: border-box;top: 0;bottom: 0;left: 50%;z-index: 0;}#sk-container-id-1 div.sk-serial {display: flex;flex-direction: column;align-items: center;background-color: white;padding-right: 0.2em;padding-left: 0.2em;position: relative;}#sk-container-id-1 div.sk-item {position: relative;z-index: 1;}#sk-container-id-1 div.sk-parallel {display: flex;align-items: stretch;justify-content: center;background-color: white;position: relative;}#sk-container-id-1 div.sk-item::before, #sk-container-id-1 div.sk-parallel-item::before {content: \"\";position: absolute;border-left: 1px solid gray;box-sizing: border-box;top: 0;bottom: 0;left: 50%;z-index: -1;}#sk-container-id-1 div.sk-parallel-item {display: flex;flex-direction: column;z-index: 1;position: relative;background-color: white;}#sk-container-id-1 div.sk-parallel-item:first-child::after {align-self: flex-end;width: 50%;}#sk-container-id-1 div.sk-parallel-item:last-child::after {align-self: flex-start;width: 50%;}#sk-container-id-1 div.sk-parallel-item:only-child::after {width: 0;}#sk-container-id-1 div.sk-dashed-wrapped {border: 1px dashed gray;margin: 0 0.4em 0.5em 0.4em;box-sizing: border-box;padding-bottom: 0.4em;background-color: white;}#sk-container-id-1 div.sk-label label {font-family: monospace;font-weight: bold;display: inline-block;line-height: 1.2em;}#sk-container-id-1 div.sk-label-container {text-align: center;}#sk-container-id-1 div.sk-container {/* jupyter's `normalize.less` sets `[hidden] { display: none; }` but bootstrap.min.css set `[hidden] { display: none !important; }` so we also need the `!important` here to be able to override the default hidden behavior on the sphinx rendered scikit-learn.org. See: https://github.com/scikit-learn/scikit-learn/issues/21755 */display: inline-block !important;position: relative;}#sk-container-id-1 div.sk-text-repr-fallback {display: none;}</style><div id=\"sk-container-id-1\" class=\"sk-top-container\"><div class=\"sk-text-repr-fallback\"><pre>Pipeline(steps=[(&#x27;scale&#x27;, None), (&#x27;model&#x27;, LogisticRegression())])</pre><b>In a Jupyter environment, please rerun this cell to show the HTML representation or trust the notebook. <br />On GitHub, the HTML representation is unable to render, please try loading this page with nbviewer.org.</b></div><div class=\"sk-container\" hidden><div class=\"sk-item sk-dashed-wrapped\"><div class=\"sk-label-container\"><div class=\"sk-label sk-toggleable\"><input class=\"sk-toggleable__control sk-hidden--visually\" id=\"sk-estimator-id-1\" type=\"checkbox\" ><label for=\"sk-estimator-id-1\" class=\"sk-toggleable__label sk-toggleable__label-arrow\">Pipeline</label><div class=\"sk-toggleable__content\"><pre>Pipeline(steps=[(&#x27;scale&#x27;, None), (&#x27;model&#x27;, LogisticRegression())])</pre></div></div></div><div class=\"sk-serial\"><div class=\"sk-item\"><div class=\"sk-estimator sk-toggleable\"><input class=\"sk-toggleable__control sk-hidden--visually\" id=\"sk-estimator-id-2\" type=\"checkbox\" ><label for=\"sk-estimator-id-2\" class=\"sk-toggleable__label sk-toggleable__label-arrow\">None</label><div class=\"sk-toggleable__content\"><pre>None</pre></div></div></div><div class=\"sk-item\"><div class=\"sk-estimator sk-toggleable\"><input class=\"sk-toggleable__control sk-hidden--visually\" id=\"sk-estimator-id-3\" type=\"checkbox\" ><label for=\"sk-estimator-id-3\" class=\"sk-toggleable__label sk-toggleable__label-arrow\">LogisticRegression</label><div class=\"sk-toggleable__content\"><pre>LogisticRegression()</pre></div></div></div></div></div></div></div>"
      ],
      "text/plain": [
       "Pipeline(steps=[('scale', None), ('model', LogisticRegression())])"
      ]
     },
     "execution_count": 43,
     "metadata": {},
     "output_type": "execute_result"
    }
   ],
   "source": [
    "model.fit(X_train, y_train.values.ravel())"
   ]
  },
  {
   "cell_type": "code",
   "execution_count": 44,
   "id": "af59f8c0",
   "metadata": {
    "execution": {
     "iopub.execute_input": "2025-07-30T12:54:35.171874Z",
     "iopub.status.busy": "2025-07-30T12:54:35.171008Z",
     "iopub.status.idle": "2025-07-30T12:54:35.176374Z",
     "shell.execute_reply": "2025-07-30T12:54:35.175409Z"
    },
    "papermill": {
     "duration": 0.035222,
     "end_time": "2025-07-30T12:54:35.178204",
     "exception": false,
     "start_time": "2025-07-30T12:54:35.142982",
     "status": "completed"
    },
    "tags": []
   },
   "outputs": [],
   "source": [
    "from fairness_multiverse.universe import predict_w_threshold"
   ]
  },
  {
   "cell_type": "code",
   "execution_count": 45,
   "id": "a7cf2e16",
   "metadata": {
    "execution": {
     "iopub.execute_input": "2025-07-30T12:54:35.236731Z",
     "iopub.status.busy": "2025-07-30T12:54:35.236206Z",
     "iopub.status.idle": "2025-07-30T12:54:35.338456Z",
     "shell.execute_reply": "2025-07-30T12:54:35.337479Z"
    },
    "papermill": {
     "duration": 0.134141,
     "end_time": "2025-07-30T12:54:35.340181",
     "exception": false,
     "start_time": "2025-07-30T12:54:35.206040",
     "status": "completed"
    },
    "tags": []
   },
   "outputs": [
    {
     "data": {
      "text/plain": [
       "0.8640285363950507"
      ]
     },
     "execution_count": 45,
     "metadata": {},
     "output_type": "execute_result"
    }
   ],
   "source": [
    "probs_test = model.predict_proba(X_test)\n",
    "\n",
    "'''\n",
    "Below code returns a boolean array (or binary 0/1 array depending on how it’s used) where each element \n",
    "is True if the probability of class 1 is greater than or equal to the threshold, and False otherwise.\n",
    "'''\n",
    "y_pred_default = predict_w_threshold(probs_test, 0.5)\n",
    "\n",
    "from sklearn.metrics import accuracy_score\n",
    "\n",
    "# Naive prediction\n",
    "accuracy_score(y_true = y_true, y_pred = y_pred_default)"
   ]
  },
  {
   "cell_type": "code",
   "execution_count": 46,
   "id": "081964c3",
   "metadata": {
    "execution": {
     "iopub.execute_input": "2025-07-30T12:54:35.399136Z",
     "iopub.status.busy": "2025-07-30T12:54:35.398599Z",
     "iopub.status.idle": "2025-07-30T12:54:35.486078Z",
     "shell.execute_reply": "2025-07-30T12:54:35.485140Z"
    },
    "papermill": {
     "duration": 0.118584,
     "end_time": "2025-07-30T12:54:35.487831",
     "exception": false,
     "start_time": "2025-07-30T12:54:35.369247",
     "status": "completed"
    },
    "tags": []
   },
   "outputs": [
    {
     "data": {
      "text/plain": [
       "array([0, 0, 0, ..., 0, 0, 0])"
      ]
     },
     "execution_count": 46,
     "metadata": {},
     "output_type": "execute_result"
    }
   ],
   "source": [
    "model.predict(X_test)"
   ]
  },
  {
   "cell_type": "markdown",
   "id": "56c9705b",
   "metadata": {
    "papermill": {
     "duration": 0.028723,
     "end_time": "2025-07-30T12:54:35.544320",
     "exception": false,
     "start_time": "2025-07-30T12:54:35.515597",
     "status": "completed"
    },
    "tags": []
   },
   "source": [
    "# Conformal Prediction"
   ]
  },
  {
   "cell_type": "code",
   "execution_count": 47,
   "id": "160ec6ff",
   "metadata": {
    "execution": {
     "iopub.execute_input": "2025-07-30T12:54:35.602820Z",
     "iopub.status.busy": "2025-07-30T12:54:35.601851Z",
     "iopub.status.idle": "2025-07-30T12:54:35.608696Z",
     "shell.execute_reply": "2025-07-30T12:54:35.606445Z"
    },
    "papermill": {
     "duration": 0.038107,
     "end_time": "2025-07-30T12:54:35.610657",
     "exception": false,
     "start_time": "2025-07-30T12:54:35.572550",
     "status": "completed"
    },
    "tags": []
   },
   "outputs": [],
   "source": [
    "# Miscoverage level for conformal prediction (10% allowed error rate => 90% target coverage)\n",
    "alpha = 0.1"
   ]
  },
  {
   "cell_type": "code",
   "execution_count": 48,
   "id": "eadf4555-3dd3-440e-8e35-f82a4ad9f855",
   "metadata": {
    "execution": {
     "iopub.execute_input": "2025-07-30T12:54:35.686284Z",
     "iopub.status.busy": "2025-07-30T12:54:35.684462Z",
     "iopub.status.idle": "2025-07-30T12:54:35.772980Z",
     "shell.execute_reply": "2025-07-30T12:54:35.771693Z"
    },
    "papermill": {
     "duration": 0.121376,
     "end_time": "2025-07-30T12:54:35.775186",
     "exception": false,
     "start_time": "2025-07-30T12:54:35.653810",
     "status": "completed"
    },
    "tags": []
   },
   "outputs": [],
   "source": [
    "probs_calib = model.predict_proba(X_calib)"
   ]
  },
  {
   "cell_type": "code",
   "execution_count": 49,
   "id": "2ed93547-6d5d-4983-9b36-1ecb300da49a",
   "metadata": {
    "execution": {
     "iopub.execute_input": "2025-07-30T12:54:35.835056Z",
     "iopub.status.busy": "2025-07-30T12:54:35.834538Z",
     "iopub.status.idle": "2025-07-30T12:54:35.841096Z",
     "shell.execute_reply": "2025-07-30T12:54:35.839876Z"
    },
    "papermill": {
     "duration": 0.038506,
     "end_time": "2025-07-30T12:54:35.843153",
     "exception": false,
     "start_time": "2025-07-30T12:54:35.804647",
     "status": "completed"
    },
    "tags": []
   },
   "outputs": [],
   "source": [
    "y_calib = y_calib.values.ravel().astype(int)"
   ]
  },
  {
   "cell_type": "code",
   "execution_count": 50,
   "id": "65d1320d-f588-4b38-9072-62af1ae97f7d",
   "metadata": {
    "execution": {
     "iopub.execute_input": "2025-07-30T12:54:35.900607Z",
     "iopub.status.busy": "2025-07-30T12:54:35.899905Z",
     "iopub.status.idle": "2025-07-30T12:54:35.907030Z",
     "shell.execute_reply": "2025-07-30T12:54:35.906371Z"
    },
    "papermill": {
     "duration": 0.035791,
     "end_time": "2025-07-30T12:54:35.908571",
     "exception": false,
     "start_time": "2025-07-30T12:54:35.872780",
     "status": "completed"
    },
    "tags": []
   },
   "outputs": [],
   "source": [
    "from fairness_multiverse.conformal import compute_nc_scores\n",
    "\n",
    "# Compute nonconformity scores on calibration set (1 - probability of true class)\n",
    "nc_scores = compute_nc_scores(probs_calib, y_calib)"
   ]
  },
  {
   "cell_type": "code",
   "execution_count": 51,
   "id": "df3b8ca3-53b7-43d5-9667-7c85da7aeda2",
   "metadata": {
    "execution": {
     "iopub.execute_input": "2025-07-30T12:54:35.963118Z",
     "iopub.status.busy": "2025-07-30T12:54:35.962545Z",
     "iopub.status.idle": "2025-07-30T12:54:35.969259Z",
     "shell.execute_reply": "2025-07-30T12:54:35.968263Z"
    },
    "papermill": {
     "duration": 0.035775,
     "end_time": "2025-07-30T12:54:35.970667",
     "exception": false,
     "start_time": "2025-07-30T12:54:35.934892",
     "status": "completed"
    },
    "tags": []
   },
   "outputs": [],
   "source": [
    "from fairness_multiverse.conformal import find_threshold\n",
    "\n",
    "# Find conformal threshold q_hat for the given alpha (split conformal method)\n",
    "q_hat = find_threshold(nc_scores, alpha)"
   ]
  },
  {
   "cell_type": "code",
   "execution_count": 52,
   "id": "4d29e6c1-0ef6-4aa4-b8fe-4fe79b0d033a",
   "metadata": {
    "execution": {
     "iopub.execute_input": "2025-07-30T12:54:36.000413Z",
     "iopub.status.busy": "2025-07-30T12:54:35.999719Z",
     "iopub.status.idle": "2025-07-30T12:54:36.005984Z",
     "shell.execute_reply": "2025-07-30T12:54:36.005203Z"
    },
    "papermill": {
     "duration": 0.022158,
     "end_time": "2025-07-30T12:54:36.007243",
     "exception": false,
     "start_time": "2025-07-30T12:54:35.985085",
     "status": "completed"
    },
    "tags": []
   },
   "outputs": [
    {
     "data": {
      "text/plain": [
       "0.652861770335564"
      ]
     },
     "execution_count": 52,
     "metadata": {},
     "output_type": "execute_result"
    }
   ],
   "source": [
    "q_hat"
   ]
  },
  {
   "cell_type": "code",
   "execution_count": 53,
   "id": "92460794-cdac-4be2-ba28-f28c0515a6fb",
   "metadata": {
    "execution": {
     "iopub.execute_input": "2025-07-30T12:54:36.063147Z",
     "iopub.status.busy": "2025-07-30T12:54:36.062605Z",
     "iopub.status.idle": "2025-07-30T12:54:36.826738Z",
     "shell.execute_reply": "2025-07-30T12:54:36.825721Z"
    },
    "papermill": {
     "duration": 0.802216,
     "end_time": "2025-07-30T12:54:36.828594",
     "exception": false,
     "start_time": "2025-07-30T12:54:36.026378",
     "status": "completed"
    },
    "tags": []
   },
   "outputs": [],
   "source": [
    "from fairness_multiverse.conformal import predict_conformal_sets\n",
    "\n",
    "# Generate prediction sets for each test example\n",
    "pred_sets = predict_conformal_sets(model, X_test, q_hat)"
   ]
  },
  {
   "cell_type": "code",
   "execution_count": 54,
   "id": "d90c9a65-e6db-4f5d-80cd-e68fb7e46829",
   "metadata": {
    "execution": {
     "iopub.execute_input": "2025-07-30T12:54:36.886472Z",
     "iopub.status.busy": "2025-07-30T12:54:36.885753Z",
     "iopub.status.idle": "2025-07-30T12:54:36.891816Z",
     "shell.execute_reply": "2025-07-30T12:54:36.890752Z"
    },
    "papermill": {
     "duration": 0.036334,
     "end_time": "2025-07-30T12:54:36.893507",
     "exception": false,
     "start_time": "2025-07-30T12:54:36.857173",
     "status": "completed"
    },
    "tags": []
   },
   "outputs": [],
   "source": [
    "y_true = y_true.squeeze()"
   ]
  },
  {
   "cell_type": "code",
   "execution_count": 55,
   "id": "3a58a54a-1e68-46b9-927a-df01f18aebc8",
   "metadata": {
    "execution": {
     "iopub.execute_input": "2025-07-30T12:54:36.950454Z",
     "iopub.status.busy": "2025-07-30T12:54:36.949961Z",
     "iopub.status.idle": "2025-07-30T12:54:37.747683Z",
     "shell.execute_reply": "2025-07-30T12:54:37.746962Z"
    },
    "papermill": {
     "duration": 0.829099,
     "end_time": "2025-07-30T12:54:37.749204",
     "exception": false,
     "start_time": "2025-07-30T12:54:36.920105",
     "status": "completed"
    },
    "tags": []
   },
   "outputs": [],
   "source": [
    "from fairness_multiverse.conformal import evaluate_sets\n",
    "\n",
    "# Evaluate coverage and average set size on test data\n",
    "metrics = evaluate_sets(pred_sets, y_true)"
   ]
  },
  {
   "cell_type": "markdown",
   "id": "2b569c12-9aaa-4c88-98c9-bbcd0cf3ebb8",
   "metadata": {
    "papermill": {
     "duration": 0.013455,
     "end_time": "2025-07-30T12:54:37.781802",
     "exception": false,
     "start_time": "2025-07-30T12:54:37.768347",
     "status": "completed"
    },
    "tags": []
   },
   "source": [
    "# CP Metrics"
   ]
  },
  {
   "cell_type": "code",
   "execution_count": 56,
   "id": "5ce0a5cb-201f-45a0-ade5-94c7f0bd6095",
   "metadata": {
    "execution": {
     "iopub.execute_input": "2025-07-30T12:54:37.809529Z",
     "iopub.status.busy": "2025-07-30T12:54:37.808839Z",
     "iopub.status.idle": "2025-07-30T12:54:37.815229Z",
     "shell.execute_reply": "2025-07-30T12:54:37.814415Z"
    },
    "papermill": {
     "duration": 0.021973,
     "end_time": "2025-07-30T12:54:37.816652",
     "exception": false,
     "start_time": "2025-07-30T12:54:37.794679",
     "status": "completed"
    },
    "tags": []
   },
   "outputs": [
    {
     "data": {
      "text/plain": [
       "{'coverage': 0.9132984059748077, 'avg_size': 1.2538512986289154}"
      ]
     },
     "execution_count": 56,
     "metadata": {},
     "output_type": "execute_result"
    }
   ],
   "source": [
    "metrics"
   ]
  },
  {
   "cell_type": "code",
   "execution_count": 57,
   "id": "9b9a838d-31c9-430b-ae14-12baee460d17",
   "metadata": {
    "execution": {
     "iopub.execute_input": "2025-07-30T12:54:37.845308Z",
     "iopub.status.busy": "2025-07-30T12:54:37.844542Z",
     "iopub.status.idle": "2025-07-30T12:54:37.849642Z",
     "shell.execute_reply": "2025-07-30T12:54:37.848969Z"
    },
    "papermill": {
     "duration": 0.020316,
     "end_time": "2025-07-30T12:54:37.850934",
     "exception": false,
     "start_time": "2025-07-30T12:54:37.830618",
     "status": "completed"
    },
    "tags": []
   },
   "outputs": [],
   "source": [
    "example_universe = universe.copy()\n",
    "universe_training_size = example_universe.get(\"training_size\")\n",
    "universe_scale = example_universe.get(\"scale\")\n",
    "universe_model = example_universe.get(\"model\")\n",
    "universe_exclude_features = example_universe.get(\"exclude_features\")\n",
    "universe_exclude_subgroups = example_universe.get(\"exclude_subgroups\")"
   ]
  },
  {
   "cell_type": "code",
   "execution_count": 58,
   "id": "f4b6a8ac-9dc0-4245-8a91-5b3b5999c4f9",
   "metadata": {
    "execution": {
     "iopub.execute_input": "2025-07-30T12:54:37.879719Z",
     "iopub.status.busy": "2025-07-30T12:54:37.879310Z",
     "iopub.status.idle": "2025-07-30T12:54:37.884196Z",
     "shell.execute_reply": "2025-07-30T12:54:37.883463Z"
    },
    "papermill": {
     "duration": 0.02085,
     "end_time": "2025-07-30T12:54:37.885544",
     "exception": false,
     "start_time": "2025-07-30T12:54:37.864694",
     "status": "completed"
    },
    "tags": []
   },
   "outputs": [],
   "source": [
    "cp_metrics_dict = {\n",
    "    \"universe_id\": [universe_id],\n",
    "    \"universe_training_size\": [universe_training_size],\n",
    "    \"universe_scale\": [universe_scale],\n",
    "    \"universe_model\": [universe_model],\n",
    "    \"universe_exclude_features\": [universe_exclude_features],\n",
    "    \"universe_exclude_subgroups\": [universe_exclude_subgroups],\n",
    "    \"q_hat\": [q_hat],\n",
    "    \"coverage\": [metrics[\"coverage\"]],\n",
    "    \"avg_size\": [metrics[\"avg_size\"]],\n",
    "}"
   ]
  },
  {
   "cell_type": "code",
   "execution_count": 59,
   "id": "908acbb1-0371-4915-85ca-3fa520d2efe2",
   "metadata": {
    "execution": {
     "iopub.execute_input": "2025-07-30T12:54:37.925070Z",
     "iopub.status.busy": "2025-07-30T12:54:37.924593Z",
     "iopub.status.idle": "2025-07-30T12:54:37.931296Z",
     "shell.execute_reply": "2025-07-30T12:54:37.930360Z"
    },
    "papermill": {
     "duration": 0.023115,
     "end_time": "2025-07-30T12:54:37.932592",
     "exception": false,
     "start_time": "2025-07-30T12:54:37.909477",
     "status": "completed"
    },
    "tags": []
   },
   "outputs": [
    {
     "data": {
      "text/plain": [
       "{'universe_id': ['7f39ef5a5ec5b613bff31e35ea9a259f'],\n",
       " 'universe_training_size': ['25k'],\n",
       " 'universe_scale': ['do-not-scale'],\n",
       " 'universe_model': ['penalized_logreg'],\n",
       " 'universe_exclude_features': ['age'],\n",
       " 'universe_exclude_subgroups': ['keep-all'],\n",
       " 'q_hat': [0.652861770335564],\n",
       " 'coverage': [0.9132984059748077],\n",
       " 'avg_size': [1.2538512986289154]}"
      ]
     },
     "execution_count": 59,
     "metadata": {},
     "output_type": "execute_result"
    }
   ],
   "source": [
    "cp_metrics_dict"
   ]
  },
  {
   "cell_type": "code",
   "execution_count": 60,
   "id": "33007efc-14e9-4ec6-97ac-56a455c82265",
   "metadata": {
    "execution": {
     "iopub.execute_input": "2025-07-30T12:54:37.989409Z",
     "iopub.status.busy": "2025-07-30T12:54:37.988934Z",
     "iopub.status.idle": "2025-07-30T12:54:37.996142Z",
     "shell.execute_reply": "2025-07-30T12:54:37.995038Z"
    },
    "papermill": {
     "duration": 0.039258,
     "end_time": "2025-07-30T12:54:37.997490",
     "exception": false,
     "start_time": "2025-07-30T12:54:37.958232",
     "status": "completed"
    },
    "tags": []
   },
   "outputs": [],
   "source": [
    "cp_metrics_df = pd.DataFrame(cp_metrics_dict)"
   ]
  },
  {
   "cell_type": "code",
   "execution_count": 61,
   "id": "db12611b-57b2-4910-b9d0-355adfd6e7bf",
   "metadata": {
    "execution": {
     "iopub.execute_input": "2025-07-30T12:54:38.028566Z",
     "iopub.status.busy": "2025-07-30T12:54:38.027923Z",
     "iopub.status.idle": "2025-07-30T12:54:38.042976Z",
     "shell.execute_reply": "2025-07-30T12:54:38.042270Z"
    },
    "papermill": {
     "duration": 0.03253,
     "end_time": "2025-07-30T12:54:38.044473",
     "exception": false,
     "start_time": "2025-07-30T12:54:38.011943",
     "status": "completed"
    },
    "tags": []
   },
   "outputs": [
    {
     "data": {
      "text/html": [
       "<div>\n",
       "<style scoped>\n",
       "    .dataframe tbody tr th:only-of-type {\n",
       "        vertical-align: middle;\n",
       "    }\n",
       "\n",
       "    .dataframe tbody tr th {\n",
       "        vertical-align: top;\n",
       "    }\n",
       "\n",
       "    .dataframe thead th {\n",
       "        text-align: right;\n",
       "    }\n",
       "</style>\n",
       "<table border=\"1\" class=\"dataframe\">\n",
       "  <thead>\n",
       "    <tr style=\"text-align: right;\">\n",
       "      <th></th>\n",
       "      <th>universe_id</th>\n",
       "      <th>universe_training_size</th>\n",
       "      <th>universe_scale</th>\n",
       "      <th>universe_model</th>\n",
       "      <th>universe_exclude_features</th>\n",
       "      <th>universe_exclude_subgroups</th>\n",
       "      <th>q_hat</th>\n",
       "      <th>coverage</th>\n",
       "      <th>avg_size</th>\n",
       "    </tr>\n",
       "  </thead>\n",
       "  <tbody>\n",
       "    <tr>\n",
       "      <th>0</th>\n",
       "      <td>7f39ef5a5ec5b613bff31e35ea9a259f</td>\n",
       "      <td>25k</td>\n",
       "      <td>do-not-scale</td>\n",
       "      <td>penalized_logreg</td>\n",
       "      <td>age</td>\n",
       "      <td>keep-all</td>\n",
       "      <td>0.652862</td>\n",
       "      <td>0.913298</td>\n",
       "      <td>1.253851</td>\n",
       "    </tr>\n",
       "  </tbody>\n",
       "</table>\n",
       "</div>"
      ],
      "text/plain": [
       "                        universe_id universe_training_size universe_scale  \\\n",
       "0  7f39ef5a5ec5b613bff31e35ea9a259f                    25k   do-not-scale   \n",
       "\n",
       "     universe_model universe_exclude_features universe_exclude_subgroups  \\\n",
       "0  penalized_logreg                       age                   keep-all   \n",
       "\n",
       "      q_hat  coverage  avg_size  \n",
       "0  0.652862  0.913298  1.253851  "
      ]
     },
     "execution_count": 61,
     "metadata": {},
     "output_type": "execute_result"
    }
   ],
   "source": [
    "cp_metrics_df"
   ]
  },
  {
   "cell_type": "code",
   "execution_count": 62,
   "id": "b7fbde55-a0a1-47e4-9af6-fe4a17fa8c61",
   "metadata": {
    "execution": {
     "iopub.execute_input": "2025-07-30T12:54:38.074633Z",
     "iopub.status.busy": "2025-07-30T12:54:38.074239Z",
     "iopub.status.idle": "2025-07-30T12:54:38.078683Z",
     "shell.execute_reply": "2025-07-30T12:54:38.077724Z"
    },
    "papermill": {
     "duration": 0.019531,
     "end_time": "2025-07-30T12:54:38.079730",
     "exception": false,
     "start_time": "2025-07-30T12:54:38.060199",
     "status": "completed"
    },
    "tags": []
   },
   "outputs": [],
   "source": [
    "# Conditional Coverage & looking at subgroups"
   ]
  },
  {
   "cell_type": "code",
   "execution_count": 63,
   "id": "027ae886-68dd-4141-96c7-805a5450e1ef",
   "metadata": {
    "execution": {
     "iopub.execute_input": "2025-07-30T12:54:38.108666Z",
     "iopub.status.busy": "2025-07-30T12:54:38.107802Z",
     "iopub.status.idle": "2025-07-30T12:54:38.328536Z",
     "shell.execute_reply": "2025-07-30T12:54:38.326811Z"
    },
    "papermill": {
     "duration": 0.236863,
     "end_time": "2025-07-30T12:54:38.330471",
     "exception": false,
     "start_time": "2025-07-30T12:54:38.093608",
     "status": "completed"
    },
    "tags": []
   },
   "outputs": [],
   "source": [
    "from fairness_multiverse.conformal import build_cp_groups\n",
    "\n",
    "cp_groups_df = build_cp_groups(pred_sets, y_true, X_test.index, org_test)\n",
    "#needs universe_id and setting"
   ]
  },
  {
   "cell_type": "code",
   "execution_count": 64,
   "id": "01d5802c-663a-4d1f-9d69-e036faaffbf7",
   "metadata": {
    "execution": {
     "iopub.execute_input": "2025-07-30T12:54:38.391521Z",
     "iopub.status.busy": "2025-07-30T12:54:38.390885Z",
     "iopub.status.idle": "2025-07-30T12:54:38.395569Z",
     "shell.execute_reply": "2025-07-30T12:54:38.394633Z"
    },
    "papermill": {
     "duration": 0.037253,
     "end_time": "2025-07-30T12:54:38.397147",
     "exception": false,
     "start_time": "2025-07-30T12:54:38.359894",
     "status": "completed"
    },
    "tags": []
   },
   "outputs": [],
   "source": [
    "#delete\n",
    "#cp_groups_df"
   ]
  },
  {
   "cell_type": "code",
   "execution_count": 65,
   "id": "fa424af1-d1eb-443d-b717-2d279ada8408",
   "metadata": {
    "execution": {
     "iopub.execute_input": "2025-07-30T12:54:38.432370Z",
     "iopub.status.busy": "2025-07-30T12:54:38.431972Z",
     "iopub.status.idle": "2025-07-30T12:54:38.439565Z",
     "shell.execute_reply": "2025-07-30T12:54:38.438746Z"
    },
    "papermill": {
     "duration": 0.02387,
     "end_time": "2025-07-30T12:54:38.441002",
     "exception": false,
     "start_time": "2025-07-30T12:54:38.417132",
     "status": "completed"
    },
    "tags": []
   },
   "outputs": [],
   "source": [
    "#delete\n",
    "#percentage = (cp_groups_df['nongerman_female'] == 1).mean() * 100\n",
    "#print(percentage)\n"
   ]
  },
  {
   "cell_type": "code",
   "execution_count": 66,
   "id": "6cbdab96-b2b2-45af-ad54-d0516db2e28d",
   "metadata": {
    "execution": {
     "iopub.execute_input": "2025-07-30T12:54:38.481447Z",
     "iopub.status.busy": "2025-07-30T12:54:38.481061Z",
     "iopub.status.idle": "2025-07-30T12:54:40.408564Z",
     "shell.execute_reply": "2025-07-30T12:54:40.407424Z"
    },
    "papermill": {
     "duration": 1.951609,
     "end_time": "2025-07-30T12:54:40.410508",
     "exception": false,
     "start_time": "2025-07-30T12:54:38.458899",
     "status": "completed"
    },
    "tags": []
   },
   "outputs": [],
   "source": [
    "# Define covered = 1 if true_label is in the predicted set\n",
    "cp_groups_df['covered'] = cp_groups_df.apply(\n",
    "    lambda r: int(r['true_label'] in r['pred_set']),\n",
    "    axis=1\n",
    ")"
   ]
  },
  {
   "cell_type": "code",
   "execution_count": 67,
   "id": "338ff529-1a6b-4b87-a931-8e4788d52aad",
   "metadata": {
    "execution": {
     "iopub.execute_input": "2025-07-30T12:54:40.467922Z",
     "iopub.status.busy": "2025-07-30T12:54:40.467296Z",
     "iopub.status.idle": "2025-07-30T12:54:40.472714Z",
     "shell.execute_reply": "2025-07-30T12:54:40.471476Z"
    },
    "papermill": {
     "duration": 0.034422,
     "end_time": "2025-07-30T12:54:40.474425",
     "exception": false,
     "start_time": "2025-07-30T12:54:40.440003",
     "status": "completed"
    },
    "tags": []
   },
   "outputs": [],
   "source": [
    "#cp_groups_df"
   ]
  },
  {
   "cell_type": "code",
   "execution_count": 68,
   "id": "90032e27-66df-4540-9169-4e89cfbaa758",
   "metadata": {
    "execution": {
     "iopub.execute_input": "2025-07-30T12:54:40.529650Z",
     "iopub.status.busy": "2025-07-30T12:54:40.529216Z",
     "iopub.status.idle": "2025-07-30T12:54:40.540427Z",
     "shell.execute_reply": "2025-07-30T12:54:40.539473Z"
    },
    "papermill": {
     "duration": 0.040302,
     "end_time": "2025-07-30T12:54:40.542036",
     "exception": false,
     "start_time": "2025-07-30T12:54:40.501734",
     "status": "completed"
    },
    "tags": []
   },
   "outputs": [],
   "source": [
    "subgroups = ['frau1','nongerman','nongerman_male','nongerman_female']\n",
    "\n",
    "# Conditional coverage for subgroup==1\n",
    "cond_coverage = {\n",
    "    g: cp_groups_df.loc[cp_groups_df[g]==1, 'covered'].mean()\n",
    "    for g in subgroups\n",
    "}"
   ]
  },
  {
   "cell_type": "code",
   "execution_count": 69,
   "id": "1e348fb1-b9c3-45bc-ba23-f016827a7e0d",
   "metadata": {
    "execution": {
     "iopub.execute_input": "2025-07-30T12:54:40.598531Z",
     "iopub.status.busy": "2025-07-30T12:54:40.598062Z",
     "iopub.status.idle": "2025-07-30T12:54:40.605611Z",
     "shell.execute_reply": "2025-07-30T12:54:40.604730Z"
    },
    "papermill": {
     "duration": 0.037263,
     "end_time": "2025-07-30T12:54:40.607155",
     "exception": false,
     "start_time": "2025-07-30T12:54:40.569892",
     "status": "completed"
    },
    "tags": []
   },
   "outputs": [
    {
     "data": {
      "text/plain": [
       "{'frau1': 0.9136002156624882,\n",
       " 'nongerman': 0.9640150451917139,\n",
       " 'nongerman_male': 0.9692875799333514,\n",
       " 'nongerman_female': 0.9552906110283159}"
      ]
     },
     "execution_count": 69,
     "metadata": {},
     "output_type": "execute_result"
    }
   ],
   "source": [
    "cond_coverage"
   ]
  },
  {
   "cell_type": "code",
   "execution_count": 70,
   "id": "f5093324-c3dd-4d63-bc4c-8d945e5c8bbb",
   "metadata": {
    "execution": {
     "iopub.execute_input": "2025-07-30T12:54:40.666166Z",
     "iopub.status.busy": "2025-07-30T12:54:40.665393Z",
     "iopub.status.idle": "2025-07-30T12:54:40.674366Z",
     "shell.execute_reply": "2025-07-30T12:54:40.673313Z"
    },
    "papermill": {
     "duration": 0.042005,
     "end_time": "2025-07-30T12:54:40.677457",
     "exception": false,
     "start_time": "2025-07-30T12:54:40.635452",
     "status": "completed"
    },
    "tags": []
   },
   "outputs": [],
   "source": [
    "for subgroup, cov in cond_coverage.items():\n",
    "    cp_metrics_df[f\"cov_{subgroup}\"] = cov"
   ]
  },
  {
   "cell_type": "code",
   "execution_count": 71,
   "id": "6e872e10-dbe5-49e8-b554-5030c98ff75d",
   "metadata": {
    "execution": {
     "iopub.execute_input": "2025-07-30T12:54:40.708930Z",
     "iopub.status.busy": "2025-07-30T12:54:40.708553Z",
     "iopub.status.idle": "2025-07-30T12:54:40.727470Z",
     "shell.execute_reply": "2025-07-30T12:54:40.726453Z"
    },
    "papermill": {
     "duration": 0.035354,
     "end_time": "2025-07-30T12:54:40.729143",
     "exception": false,
     "start_time": "2025-07-30T12:54:40.693789",
     "status": "completed"
    },
    "tags": []
   },
   "outputs": [
    {
     "data": {
      "text/html": [
       "<div>\n",
       "<style scoped>\n",
       "    .dataframe tbody tr th:only-of-type {\n",
       "        vertical-align: middle;\n",
       "    }\n",
       "\n",
       "    .dataframe tbody tr th {\n",
       "        vertical-align: top;\n",
       "    }\n",
       "\n",
       "    .dataframe thead th {\n",
       "        text-align: right;\n",
       "    }\n",
       "</style>\n",
       "<table border=\"1\" class=\"dataframe\">\n",
       "  <thead>\n",
       "    <tr style=\"text-align: right;\">\n",
       "      <th></th>\n",
       "      <th>universe_id</th>\n",
       "      <th>universe_training_size</th>\n",
       "      <th>universe_scale</th>\n",
       "      <th>universe_model</th>\n",
       "      <th>universe_exclude_features</th>\n",
       "      <th>universe_exclude_subgroups</th>\n",
       "      <th>q_hat</th>\n",
       "      <th>coverage</th>\n",
       "      <th>avg_size</th>\n",
       "      <th>cov_frau1</th>\n",
       "      <th>cov_nongerman</th>\n",
       "      <th>cov_nongerman_male</th>\n",
       "      <th>cov_nongerman_female</th>\n",
       "    </tr>\n",
       "  </thead>\n",
       "  <tbody>\n",
       "    <tr>\n",
       "      <th>0</th>\n",
       "      <td>7f39ef5a5ec5b613bff31e35ea9a259f</td>\n",
       "      <td>25k</td>\n",
       "      <td>do-not-scale</td>\n",
       "      <td>penalized_logreg</td>\n",
       "      <td>age</td>\n",
       "      <td>keep-all</td>\n",
       "      <td>0.652862</td>\n",
       "      <td>0.913298</td>\n",
       "      <td>1.253851</td>\n",
       "      <td>0.9136</td>\n",
       "      <td>0.964015</td>\n",
       "      <td>0.969288</td>\n",
       "      <td>0.955291</td>\n",
       "    </tr>\n",
       "  </tbody>\n",
       "</table>\n",
       "</div>"
      ],
      "text/plain": [
       "                        universe_id universe_training_size universe_scale  \\\n",
       "0  7f39ef5a5ec5b613bff31e35ea9a259f                    25k   do-not-scale   \n",
       "\n",
       "     universe_model universe_exclude_features universe_exclude_subgroups  \\\n",
       "0  penalized_logreg                       age                   keep-all   \n",
       "\n",
       "      q_hat  coverage  avg_size  cov_frau1  cov_nongerman  cov_nongerman_male  \\\n",
       "0  0.652862  0.913298  1.253851     0.9136       0.964015            0.969288   \n",
       "\n",
       "   cov_nongerman_female  \n",
       "0              0.955291  "
      ]
     },
     "execution_count": 71,
     "metadata": {},
     "output_type": "execute_result"
    }
   ],
   "source": [
    "cp_metrics_df"
   ]
  },
  {
   "cell_type": "markdown",
   "id": "33774451",
   "metadata": {
    "papermill": {
     "duration": 0.029549,
     "end_time": "2025-07-30T12:54:40.788147",
     "exception": false,
     "start_time": "2025-07-30T12:54:40.758598",
     "status": "completed"
    },
    "tags": []
   },
   "source": [
    "# (Fairness) Metrics"
   ]
  },
  {
   "cell_type": "code",
   "execution_count": 72,
   "id": "debc5d62",
   "metadata": {
    "execution": {
     "iopub.execute_input": "2025-07-30T12:54:40.839489Z",
     "iopub.status.busy": "2025-07-30T12:54:40.838978Z",
     "iopub.status.idle": "2025-07-30T12:54:40.863682Z",
     "shell.execute_reply": "2025-07-30T12:54:40.862604Z"
    },
    "papermill": {
     "duration": 0.060293,
     "end_time": "2025-07-30T12:54:40.869828",
     "exception": false,
     "start_time": "2025-07-30T12:54:40.809535",
     "status": "completed"
    },
    "tags": []
   },
   "outputs": [],
   "source": [
    "# do I need to include maxdeutsch1.missing?\n",
    "\n",
    "import numpy as np\n",
    "\n",
    "colname_to_bin = \"maxdeutsch1\"\n",
    "majority_value = org_train[colname_to_bin].mode()[0]\n",
    "\n",
    "org_test[\"majmin\"] = np.where(org_test[colname_to_bin] == majority_value, \"majority\", \"minority\")"
   ]
  },
  {
   "cell_type": "code",
   "execution_count": 73,
   "id": "06a50de5",
   "metadata": {
    "execution": {
     "iopub.execute_input": "2025-07-30T12:54:40.943911Z",
     "iopub.status.busy": "2025-07-30T12:54:40.943025Z",
     "iopub.status.idle": "2025-07-30T12:54:43.577097Z",
     "shell.execute_reply": "2025-07-30T12:54:43.576206Z"
    },
    "papermill": {
     "duration": 2.670694,
     "end_time": "2025-07-30T12:54:43.578904",
     "exception": false,
     "start_time": "2025-07-30T12:54:40.908210",
     "status": "completed"
    },
    "tags": []
   },
   "outputs": [],
   "source": [
    "example_universe = universe.copy()\n",
    "example_universe[\"cutoff\"] = example_universe[\"cutoff\"][0]\n",
    "example_universe[\"eval_fairness_grouping\"] = example_universe[\"eval_fairness_grouping\"][0]\n",
    "fairness_dict, metric_frame = universe_analysis.compute_metrics(\n",
    "    example_universe,\n",
    "    y_pred_prob=probs_test,\n",
    "    y_test=y_true,\n",
    "    org_test=org_test,\n",
    ")"
   ]
  },
  {
   "cell_type": "markdown",
   "id": "f95d4e02",
   "metadata": {
    "papermill": {
     "duration": 0.025608,
     "end_time": "2025-07-30T12:54:43.635278",
     "exception": false,
     "start_time": "2025-07-30T12:54:43.609670",
     "status": "completed"
    },
    "tags": []
   },
   "source": [
    "# Overall"
   ]
  },
  {
   "cell_type": "markdown",
   "id": "bdee4871",
   "metadata": {
    "papermill": {
     "duration": 0.025828,
     "end_time": "2025-07-30T12:54:43.688719",
     "exception": false,
     "start_time": "2025-07-30T12:54:43.662891",
     "status": "completed"
    },
    "tags": []
   },
   "source": [
    "Fairness\n",
    "Main fairness target: Equalized Odds. Seems to be a better fit than equal opportunity, since we're not only interested in Y = 1. Seems to be a better fit than demographic parity, since we also care about accuracy, not just equal distribution of preds.\n",
    "\n",
    "Pick column for computation of fairness metrics\n",
    "\n",
    "Performance\n",
    "Overall performance measures, most interesting in relation to the measures split by group below"
   ]
  },
  {
   "cell_type": "code",
   "execution_count": 74,
   "id": "c4e067c6",
   "metadata": {
    "execution": {
     "iopub.execute_input": "2025-07-30T12:54:43.742376Z",
     "iopub.status.busy": "2025-07-30T12:54:43.741214Z",
     "iopub.status.idle": "2025-07-30T12:54:43.750393Z",
     "shell.execute_reply": "2025-07-30T12:54:43.749304Z"
    },
    "papermill": {
     "duration": 0.037356,
     "end_time": "2025-07-30T12:54:43.751916",
     "exception": false,
     "start_time": "2025-07-30T12:54:43.714560",
     "status": "completed"
    },
    "tags": []
   },
   "outputs": [
    {
     "data": {
      "text/plain": [
       "accuracy                   0.216219\n",
       "balanced accuracy          0.530393\n",
       "f1                         0.237775\n",
       "precision                  0.135833\n",
       "false positive rate        0.892202\n",
       "false negative rate        0.047011\n",
       "selection rate             0.900000\n",
       "count                  89710.000000\n",
       "dtype: float64"
      ]
     },
     "execution_count": 74,
     "metadata": {},
     "output_type": "execute_result"
    }
   ],
   "source": [
    "metric_frame.overall"
   ]
  },
  {
   "cell_type": "markdown",
   "id": "e968fe9d",
   "metadata": {
    "papermill": {
     "duration": 0.026641,
     "end_time": "2025-07-30T12:54:43.805685",
     "exception": false,
     "start_time": "2025-07-30T12:54:43.779044",
     "status": "completed"
    },
    "tags": []
   },
   "source": [
    "By Group"
   ]
  },
  {
   "cell_type": "code",
   "execution_count": 75,
   "id": "ec325bce",
   "metadata": {
    "execution": {
     "iopub.execute_input": "2025-07-30T12:54:43.859953Z",
     "iopub.status.busy": "2025-07-30T12:54:43.859291Z",
     "iopub.status.idle": "2025-07-30T12:54:43.874512Z",
     "shell.execute_reply": "2025-07-30T12:54:43.873597Z"
    },
    "papermill": {
     "duration": 0.044101,
     "end_time": "2025-07-30T12:54:43.876194",
     "exception": false,
     "start_time": "2025-07-30T12:54:43.832093",
     "status": "completed"
    },
    "tags": []
   },
   "outputs": [
    {
     "data": {
      "text/html": [
       "<div>\n",
       "<style scoped>\n",
       "    .dataframe tbody tr th:only-of-type {\n",
       "        vertical-align: middle;\n",
       "    }\n",
       "\n",
       "    .dataframe tbody tr th {\n",
       "        vertical-align: top;\n",
       "    }\n",
       "\n",
       "    .dataframe thead th {\n",
       "        text-align: right;\n",
       "    }\n",
       "</style>\n",
       "<table border=\"1\" class=\"dataframe\">\n",
       "  <thead>\n",
       "    <tr style=\"text-align: right;\">\n",
       "      <th></th>\n",
       "      <th>accuracy</th>\n",
       "      <th>balanced accuracy</th>\n",
       "      <th>f1</th>\n",
       "      <th>precision</th>\n",
       "      <th>false positive rate</th>\n",
       "      <th>false negative rate</th>\n",
       "      <th>selection rate</th>\n",
       "      <th>count</th>\n",
       "    </tr>\n",
       "    <tr>\n",
       "      <th>majmin</th>\n",
       "      <th></th>\n",
       "      <th></th>\n",
       "      <th></th>\n",
       "      <th></th>\n",
       "      <th></th>\n",
       "      <th></th>\n",
       "      <th></th>\n",
       "      <th></th>\n",
       "    </tr>\n",
       "  </thead>\n",
       "  <tbody>\n",
       "    <tr>\n",
       "      <th>majority</th>\n",
       "      <td>0.238615</td>\n",
       "      <td>0.537739</td>\n",
       "      <td>0.246857</td>\n",
       "      <td>0.141988</td>\n",
       "      <td>0.868832</td>\n",
       "      <td>0.055689</td>\n",
       "      <td>0.878806</td>\n",
       "      <td>69170.0</td>\n",
       "    </tr>\n",
       "    <tr>\n",
       "      <th>minority</th>\n",
       "      <td>0.140798</td>\n",
       "      <td>0.508542</td>\n",
       "      <td>0.209319</td>\n",
       "      <td>0.117081</td>\n",
       "      <td>0.969403</td>\n",
       "      <td>0.013514</td>\n",
       "      <td>0.971373</td>\n",
       "      <td>20540.0</td>\n",
       "    </tr>\n",
       "  </tbody>\n",
       "</table>\n",
       "</div>"
      ],
      "text/plain": [
       "          accuracy  balanced accuracy        f1  precision  \\\n",
       "majmin                                                       \n",
       "majority  0.238615           0.537739  0.246857   0.141988   \n",
       "minority  0.140798           0.508542  0.209319   0.117081   \n",
       "\n",
       "          false positive rate  false negative rate  selection rate    count  \n",
       "majmin                                                                       \n",
       "majority             0.868832             0.055689        0.878806  69170.0  \n",
       "minority             0.969403             0.013514        0.971373  20540.0  "
      ]
     },
     "execution_count": 75,
     "metadata": {},
     "output_type": "execute_result"
    }
   ],
   "source": [
    "metric_frame.by_group"
   ]
  },
  {
   "cell_type": "code",
   "execution_count": 76,
   "id": "a9ddbe63",
   "metadata": {
    "execution": {
     "iopub.execute_input": "2025-07-30T12:54:43.932206Z",
     "iopub.status.busy": "2025-07-30T12:54:43.931508Z",
     "iopub.status.idle": "2025-07-30T12:54:46.440459Z",
     "shell.execute_reply": "2025-07-30T12:54:46.439394Z"
    },
    "papermill": {
     "duration": 2.5389,
     "end_time": "2025-07-30T12:54:46.442098",
     "exception": false,
     "start_time": "2025-07-30T12:54:43.903198",
     "status": "completed"
    },
    "tags": []
   },
   "outputs": [
    {
     "data": {
      "text/plain": [
       "array([[<Axes: title={'center': 'accuracy'}, xlabel='majmin'>,\n",
       "        <Axes: title={'center': 'balanced accuracy'}, xlabel='majmin'>,\n",
       "        <Axes: title={'center': 'f1'}, xlabel='majmin'>],\n",
       "       [<Axes: title={'center': 'precision'}, xlabel='majmin'>,\n",
       "        <Axes: title={'center': 'false positive rate'}, xlabel='majmin'>,\n",
       "        <Axes: title={'center': 'false negative rate'}, xlabel='majmin'>],\n",
       "       [<Axes: title={'center': 'selection rate'}, xlabel='majmin'>,\n",
       "        <Axes: title={'center': 'count'}, xlabel='majmin'>,\n",
       "        <Axes: xlabel='majmin'>]], dtype=object)"
      ]
     },
     "execution_count": 76,
     "metadata": {},
     "output_type": "execute_result"
    },
    {
     "data": {
      "image/png": "[encoded data removed]",
      "text/plain": [
       "<Figure size 1200x800 with 9 Axes>"
      ]
     },
     "metadata": {},
     "output_type": "display_data"
    }
   ],
   "source": [
    "# In a graphic\n",
    "metric_frame.by_group.plot.bar(\n",
    "    subplots=True,\n",
    "    layout=[3, 3],\n",
    "    legend=False,\n",
    "    figsize=[12, 8],\n",
    "    title=\"Show all metrics\",\n",
    ")"
   ]
  },
  {
   "cell_type": "markdown",
   "id": "f57a0bac",
   "metadata": {
    "papermill": {
     "duration": 0.032228,
     "end_time": "2025-07-30T12:54:46.506407",
     "exception": false,
     "start_time": "2025-07-30T12:54:46.474179",
     "status": "completed"
    },
    "tags": []
   },
   "source": [
    "# Final Output"
   ]
  },
  {
   "cell_type": "code",
   "execution_count": 77,
   "id": "96d280a3",
   "metadata": {
    "execution": {
     "iopub.execute_input": "2025-07-30T12:54:46.568989Z",
     "iopub.status.busy": "2025-07-30T12:54:46.568370Z",
     "iopub.status.idle": "2025-07-30T12:54:46.576437Z",
     "shell.execute_reply": "2025-07-30T12:54:46.575559Z"
    },
    "papermill": {
     "duration": 0.043589,
     "end_time": "2025-07-30T12:54:46.579251",
     "exception": false,
     "start_time": "2025-07-30T12:54:46.535662",
     "status": "completed"
    },
    "tags": []
   },
   "outputs": [
    {
     "data": {
      "text/plain": [
       "4"
      ]
     },
     "execution_count": 77,
     "metadata": {},
     "output_type": "execute_result"
    }
   ],
   "source": [
    "sub_universes = universe_analysis.generate_sub_universes()\n",
    "len(sub_universes)"
   ]
  },
  {
   "cell_type": "code",
   "execution_count": 78,
   "id": "92adf7ba",
   "metadata": {
    "execution": {
     "iopub.execute_input": "2025-07-30T12:54:46.639935Z",
     "iopub.status.busy": "2025-07-30T12:54:46.639423Z",
     "iopub.status.idle": "2025-07-30T12:54:46.646136Z",
     "shell.execute_reply": "2025-07-30T12:54:46.645242Z"
    },
    "papermill": {
     "duration": 0.03894,
     "end_time": "2025-07-30T12:54:46.647695",
     "exception": false,
     "start_time": "2025-07-30T12:54:46.608755",
     "status": "completed"
    },
    "tags": []
   },
   "outputs": [],
   "source": [
    "def filter_sub_universe_data(sub_universe, org_test):\n",
    "    # Keep all rows — no filtering\n",
    "    keep_rows_mask = np.ones(org_test.shape[0], dtype=bool)\n",
    "\n",
    "    print(f\"[INFO] Keeping all rows: {keep_rows_mask.sum()} rows retained.\")\n",
    "    return keep_rows_mask"
   ]
  },
  {
   "cell_type": "code",
   "execution_count": 79,
   "id": "4a759155",
   "metadata": {
    "execution": {
     "iopub.execute_input": "2025-07-30T12:54:46.706118Z",
     "iopub.status.busy": "2025-07-30T12:54:46.705672Z",
     "iopub.status.idle": "2025-07-30T12:54:58.566056Z",
     "shell.execute_reply": "2025-07-30T12:54:58.564891Z"
    },
    "papermill": {
     "duration": 11.891053,
     "end_time": "2025-07-30T12:54:58.567548",
     "exception": false,
     "start_time": "2025-07-30T12:54:46.676495",
     "status": "completed"
    },
    "tags": []
   },
   "outputs": [
    {
     "name": "stdout",
     "output_type": "stream",
     "text": [
      "Stopping execution_time clock.\n",
      "[INFO] Keeping all rows: 89710 rows retained.\n"
     ]
    },
    {
     "name": "stdout",
     "output_type": "stream",
     "text": [
      "[INFO] Keeping all rows: 89710 rows retained.\n"
     ]
    },
    {
     "name": "stdout",
     "output_type": "stream",
     "text": [
      "[INFO] Keeping all rows: 89710 rows retained.\n"
     ]
    },
    {
     "name": "stdout",
     "output_type": "stream",
     "text": [
      "[INFO] Keeping all rows: 89710 rows retained.\n"
     ]
    },
    {
     "data": {
      "text/html": [
       "<div>\n",
       "<style scoped>\n",
       "    .dataframe tbody tr th:only-of-type {\n",
       "        vertical-align: middle;\n",
       "    }\n",
       "\n",
       "    .dataframe tbody tr th {\n",
       "        vertical-align: top;\n",
       "    }\n",
       "\n",
       "    .dataframe thead th {\n",
       "        text-align: right;\n",
       "    }\n",
       "</style>\n",
       "<table border=\"1\" class=\"dataframe\">\n",
       "  <thead>\n",
       "    <tr style=\"text-align: right;\">\n",
       "      <th></th>\n",
       "      <th>run_no</th>\n",
       "      <th>universe_id</th>\n",
       "      <th>universe_settings</th>\n",
       "      <th>execution_time</th>\n",
       "      <th>test_size_n</th>\n",
       "      <th>test_size_frac</th>\n",
       "      <th>fair_main_equalized_odds_difference</th>\n",
       "      <th>fair_main_equalized_odds_ratio</th>\n",
       "      <th>fair_main_demographic_parity_difference</th>\n",
       "      <th>fair_main_demographic_parity_ratio</th>\n",
       "      <th>...</th>\n",
       "      <th>perf_grp_precision_0</th>\n",
       "      <th>perf_grp_precision_1</th>\n",
       "      <th>perf_grp_false positive rate_0</th>\n",
       "      <th>perf_grp_false positive rate_1</th>\n",
       "      <th>perf_grp_false negative rate_0</th>\n",
       "      <th>perf_grp_false negative rate_1</th>\n",
       "      <th>perf_grp_selection rate_0</th>\n",
       "      <th>perf_grp_selection rate_1</th>\n",
       "      <th>perf_grp_count_0</th>\n",
       "      <th>perf_grp_count_1</th>\n",
       "    </tr>\n",
       "  </thead>\n",
       "  <tbody>\n",
       "    <tr>\n",
       "      <th>0</th>\n",
       "      <td>12</td>\n",
       "      <td>7f39ef5a5ec5b613bff31e35ea9a259f</td>\n",
       "      <td>{\"cutoff\": \"quantile_0.1\", \"eval_fairness_grou...</td>\n",
       "      <td>27.979067</td>\n",
       "      <td>89710</td>\n",
       "      <td>1.0</td>\n",
       "      <td>0.100571</td>\n",
       "      <td>0.896255</td>\n",
       "      <td>0.092567</td>\n",
       "      <td>0.904705</td>\n",
       "      <td>...</td>\n",
       "      <td>NaN</td>\n",
       "      <td>NaN</td>\n",
       "      <td>NaN</td>\n",
       "      <td>NaN</td>\n",
       "      <td>NaN</td>\n",
       "      <td>NaN</td>\n",
       "      <td>NaN</td>\n",
       "      <td>NaN</td>\n",
       "      <td>NaN</td>\n",
       "      <td>NaN</td>\n",
       "    </tr>\n",
       "    <tr>\n",
       "      <th>0</th>\n",
       "      <td>12</td>\n",
       "      <td>7f39ef5a5ec5b613bff31e35ea9a259f</td>\n",
       "      <td>{\"cutoff\": \"quantile_0.1\", \"eval_fairness_grou...</td>\n",
       "      <td>27.979067</td>\n",
       "      <td>89710</td>\n",
       "      <td>1.0</td>\n",
       "      <td>0.100571</td>\n",
       "      <td>0.896255</td>\n",
       "      <td>0.092567</td>\n",
       "      <td>0.904705</td>\n",
       "      <td>...</td>\n",
       "      <td>0.117081</td>\n",
       "      <td>0.141988</td>\n",
       "      <td>0.969403</td>\n",
       "      <td>0.868832</td>\n",
       "      <td>0.013514</td>\n",
       "      <td>0.055689</td>\n",
       "      <td>0.971373</td>\n",
       "      <td>0.878806</td>\n",
       "      <td>20540.0</td>\n",
       "      <td>69170.0</td>\n",
       "    </tr>\n",
       "    <tr>\n",
       "      <th>0</th>\n",
       "      <td>12</td>\n",
       "      <td>7f39ef5a5ec5b613bff31e35ea9a259f</td>\n",
       "      <td>{\"cutoff\": \"quantile_0.25\", \"eval_fairness_gro...</td>\n",
       "      <td>27.979067</td>\n",
       "      <td>89710</td>\n",
       "      <td>1.0</td>\n",
       "      <td>0.235952</td>\n",
       "      <td>0.741766</td>\n",
       "      <td>0.218354</td>\n",
       "      <td>0.762233</td>\n",
       "      <td>...</td>\n",
       "      <td>NaN</td>\n",
       "      <td>NaN</td>\n",
       "      <td>NaN</td>\n",
       "      <td>NaN</td>\n",
       "      <td>NaN</td>\n",
       "      <td>NaN</td>\n",
       "      <td>NaN</td>\n",
       "      <td>NaN</td>\n",
       "      <td>NaN</td>\n",
       "      <td>NaN</td>\n",
       "    </tr>\n",
       "    <tr>\n",
       "      <th>0</th>\n",
       "      <td>12</td>\n",
       "      <td>7f39ef5a5ec5b613bff31e35ea9a259f</td>\n",
       "      <td>{\"cutoff\": \"quantile_0.25\", \"eval_fairness_gro...</td>\n",
       "      <td>27.979067</td>\n",
       "      <td>89710</td>\n",
       "      <td>1.0</td>\n",
       "      <td>0.235952</td>\n",
       "      <td>0.741766</td>\n",
       "      <td>0.218354</td>\n",
       "      <td>0.762233</td>\n",
       "      <td>...</td>\n",
       "      <td>0.119758</td>\n",
       "      <td>0.159710</td>\n",
       "      <td>0.913713</td>\n",
       "      <td>0.677761</td>\n",
       "      <td>0.046030</td>\n",
       "      <td>0.153939</td>\n",
       "      <td>0.918354</td>\n",
       "      <td>0.700000</td>\n",
       "      <td>20540.0</td>\n",
       "      <td>69170.0</td>\n",
       "    </tr>\n",
       "  </tbody>\n",
       "</table>\n",
       "<p>4 rows × 50 columns</p>\n",
       "</div>"
      ],
      "text/plain": [
       "  run_no                       universe_id  \\\n",
       "0     12  7f39ef5a5ec5b613bff31e35ea9a259f   \n",
       "0     12  7f39ef5a5ec5b613bff31e35ea9a259f   \n",
       "0     12  7f39ef5a5ec5b613bff31e35ea9a259f   \n",
       "0     12  7f39ef5a5ec5b613bff31e35ea9a259f   \n",
       "\n",
       "                                   universe_settings  execution_time  \\\n",
       "0  {\"cutoff\": \"quantile_0.1\", \"eval_fairness_grou...       27.979067   \n",
       "0  {\"cutoff\": \"quantile_0.1\", \"eval_fairness_grou...       27.979067   \n",
       "0  {\"cutoff\": \"quantile_0.25\", \"eval_fairness_gro...       27.979067   \n",
       "0  {\"cutoff\": \"quantile_0.25\", \"eval_fairness_gro...       27.979067   \n",
       "\n",
       "   test_size_n  test_size_frac  fair_main_equalized_odds_difference  \\\n",
       "0        89710             1.0                             0.100571   \n",
       "0        89710             1.0                             0.100571   \n",
       "0        89710             1.0                             0.235952   \n",
       "0        89710             1.0                             0.235952   \n",
       "\n",
       "   fair_main_equalized_odds_ratio  fair_main_demographic_parity_difference  \\\n",
       "0                        0.896255                                 0.092567   \n",
       "0                        0.896255                                 0.092567   \n",
       "0                        0.741766                                 0.218354   \n",
       "0                        0.741766                                 0.218354   \n",
       "\n",
       "   fair_main_demographic_parity_ratio  ...  perf_grp_precision_0  \\\n",
       "0                            0.904705  ...                   NaN   \n",
       "0                            0.904705  ...              0.117081   \n",
       "0                            0.762233  ...                   NaN   \n",
       "0                            0.762233  ...              0.119758   \n",
       "\n",
       "   perf_grp_precision_1  perf_grp_false positive rate_0  \\\n",
       "0                   NaN                             NaN   \n",
       "0              0.141988                        0.969403   \n",
       "0                   NaN                             NaN   \n",
       "0              0.159710                        0.913713   \n",
       "\n",
       "   perf_grp_false positive rate_1  perf_grp_false negative rate_0  \\\n",
       "0                             NaN                             NaN   \n",
       "0                        0.868832                        0.013514   \n",
       "0                             NaN                             NaN   \n",
       "0                        0.677761                        0.046030   \n",
       "\n",
       "   perf_grp_false negative rate_1  perf_grp_selection rate_0  \\\n",
       "0                             NaN                        NaN   \n",
       "0                        0.055689                   0.971373   \n",
       "0                             NaN                        NaN   \n",
       "0                        0.153939                   0.918354   \n",
       "\n",
       "   perf_grp_selection rate_1  perf_grp_count_0  perf_grp_count_1  \n",
       "0                        NaN               NaN               NaN  \n",
       "0                   0.878806           20540.0           69170.0  \n",
       "0                        NaN               NaN               NaN  \n",
       "0                   0.700000           20540.0           69170.0  \n",
       "\n",
       "[4 rows x 50 columns]"
      ]
     },
     "execution_count": 79,
     "metadata": {},
     "output_type": "execute_result"
    }
   ],
   "source": [
    "final_output = universe_analysis.generate_final_output(\n",
    "    y_pred_prob=probs_test,\n",
    "    y_test=y_true,\n",
    "    org_test=org_test,\n",
    "    filter_data=filter_sub_universe_data,\n",
    "    cp_metrics_df=cp_metrics_df,\n",
    "    save=True,\n",
    ")\n",
    "final_output"
   ]
  },
  {
   "cell_type": "code",
   "execution_count": null,
   "id": "721ff514-cb11-46f8-b6fc-50392f74b5cb",
   "metadata": {
    "papermill": {
     "duration": 0.097485,
     "end_time": "2025-07-30T12:54:58.706224",
     "exception": false,
     "start_time": "2025-07-30T12:54:58.608739",
     "status": "completed"
    },
    "tags": []
   },
   "outputs": [],
   "source": []
  }
 ],
 "metadata": {
  "celltoolbar": "Tags",
  "kernelspec": {
   "display_name": "Python (CMA Fairness)",
   "language": "python",
   "name": "cma_fair_env"
  },
  "language_info": {
   "codemirror_mode": {
    "name": "ipython",
    "version": 3
   },
   "file_extension": ".py",
   "mimetype": "text/x-python",
   "name": "python",
   "nbconvert_exporter": "python",
   "pygments_lexer": "ipython3",
   "version": "3.10.12"
  },
  "papermill": {
   "default_parameters": {},
   "duration": 44.486527,
   "end_time": "2025-07-30T12:54:59.781321",
   "environment_variables": {},
   "exception": null,
   "input_path": "universe_analysis.ipynb",
   "output_path": "output/runs/12/notebooks/m_12-7f39ef5a5ec5b613bff31e35ea9a259f.ipynb",
   "parameters": {
    "output_dir": "output",
    "run_no": "12",
    "seed": "2023",
    "universe": "{\"cutoff\": [\"quantile_0.1\", \"quantile_0.25\"], \"eval_fairness_grouping\": [\"majority-minority\", \"nationality-all\"], \"exclude_features\": \"age\", \"exclude_subgroups\": \"keep-all\", \"model\": \"penalized_logreg\", \"scale\": \"do-not-scale\", \"training_size\": \"25k\", \"training_year\": \"2014\"}",
    "universe_id": "7f39ef5a5ec5b613bff31e35ea9a259f"
   },
   "start_time": "2025-07-30T12:54:15.294794",
   "version": "2.6.0"
  }
 },
 "nbformat": 4,
 "nbformat_minor": 5
}