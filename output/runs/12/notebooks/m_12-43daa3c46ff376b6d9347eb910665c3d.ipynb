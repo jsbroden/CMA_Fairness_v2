{
 "cells": [
  {
   "cell_type": "code",
   "execution_count": 1,
   "id": "f159f837-637b-42ba-96b5-ec9a68c44524",
   "metadata": {
    "execution": {
     "iopub.execute_input": "2025-07-30T14:22:43.521999Z",
     "iopub.status.busy": "2025-07-30T14:22:43.521473Z",
     "iopub.status.idle": "2025-07-30T14:22:43.535501Z",
     "shell.execute_reply": "2025-07-30T14:22:43.534498Z"
    },
    "papermill": {
     "duration": 0.039954,
     "end_time": "2025-07-30T14:22:43.540377",
     "exception": false,
     "start_time": "2025-07-30T14:22:43.500423",
     "status": "completed"
    },
    "tags": []
   },
   "outputs": [
    {
     "name": "stdout",
     "output_type": "stream",
     "text": [
      "/dss/dsshome1/0C/ra93lal2/cma/CMA_Fairness_v2\n"
     ]
    },
    {
     "name": "stderr",
     "output_type": "stream",
     "text": [
      "/dss/dsshome1/0C/ra93lal2/.local/share/virtualenvs/CMA_Fairness_v2-3j10GkSs/lib/python3.10/site-packages/IPython/core/magics/osm.py:393: UserWarning: This is now an optional IPython functionality, using bookmarks requires you to install the `pickleshare` library.\n",
      "  bkms = self.shell.db.get('bookmarks', {})\n",
      "/dss/dsshome1/0C/ra93lal2/.local/share/virtualenvs/CMA_Fairness_v2-3j10GkSs/lib/python3.10/site-packages/IPython/core/magics/osm.py:417: UserWarning: This is now an optional IPython functionality, setting dhist requires you to install the `pickleshare` library.\n",
      "  self.shell.db['dhist'] = compress_dhist(dhist)[-100:]\n"
     ]
    }
   ],
   "source": [
    "%cd ~/cma/CMA_Fairness_v2"
   ]
  },
  {
   "cell_type": "markdown",
   "id": "de2603b9",
   "metadata": {
    "papermill": {
     "duration": 0.021219,
     "end_time": "2025-07-30T14:22:43.581798",
     "exception": false,
     "start_time": "2025-07-30T14:22:43.560579",
     "status": "completed"
    },
    "tags": []
   },
   "source": [
    "The following cell holds the definition of our parameters, these values can be overriden by rendering the with e.g. the following command:\n",
    "\n",
    "papermill -p alpha 0.2 -p ratio 0.3 universe_analysis.ipynb output/test_run.ipynb"
   ]
  },
  {
   "cell_type": "code",
   "execution_count": 2,
   "id": "a80968a0-40bb-4fa9-85ef-2d5eefb01975",
   "metadata": {
    "execution": {
     "iopub.execute_input": "2025-07-30T14:22:43.625891Z",
     "iopub.status.busy": "2025-07-30T14:22:43.625437Z",
     "iopub.status.idle": "2025-07-30T14:22:43.631174Z",
     "shell.execute_reply": "2025-07-30T14:22:43.630264Z"
    },
    "papermill": {
     "duration": 0.030053,
     "end_time": "2025-07-30T14:22:43.633178",
     "exception": false,
     "start_time": "2025-07-30T14:22:43.603125",
     "status": "completed"
    },
    "tags": []
   },
   "outputs": [
    {
     "name": "stdout",
     "output_type": "stream",
     "text": [
      "Current working directory: /dss/dsshome1/0C/ra93lal2/cma/CMA_Fairness_v2\n"
     ]
    }
   ],
   "source": [
    "import os\n",
    "print(\"Current working directory:\", os.getcwd())"
   ]
  },
  {
   "cell_type": "code",
   "execution_count": 3,
   "id": "2dce4c03",
   "metadata": {
    "execution": {
     "iopub.execute_input": "2025-07-30T14:22:43.674831Z",
     "iopub.status.busy": "2025-07-30T14:22:43.673982Z",
     "iopub.status.idle": "2025-07-30T14:22:43.679495Z",
     "shell.execute_reply": "2025-07-30T14:22:43.678845Z"
    },
    "papermill": {
     "duration": 0.030266,
     "end_time": "2025-07-30T14:22:43.683889",
     "exception": false,
     "start_time": "2025-07-30T14:22:43.653623",
     "status": "completed"
    },
    "tags": [
     "parameters"
    ]
   },
   "outputs": [],
   "source": [
    "run_no = 0\n",
    "universe_id = \"test\"\n",
    "universe = {\n",
    "    \"training_size\": \"25k\", # \"25k\", \"5k\", \"1k\"\n",
    "    \"training_year\": \"2014\", # \"2014\", \"2012_14\", \"2010_14\"\n",
    "    \"scale\": \"scale\", # \"scale\", \"do-not-scale\",\n",
    "    #\"stratify_split\": \"target\", # \"none\", \"target\", \"protected-attribute\", \"both\",\n",
    "    \"model\": \"elasticnet\", # \"logreg\", \"penalized_logreg\", \"rf\", \"gbm\", \"elasticnet\"\n",
    "    \"cutoff\": [\"quantile_0.15\", \"quantile_0.30\"],\n",
    "    \"exclude_features\": \"age\", # \"none\", \"nationality\", \"sex\", \"nationality-sex\", \"age\"\n",
    "    \"exclude_subgroups\": \"keep-all\", # \"keep-all\", \"drop-non-german\"\n",
    "    \"eval_fairness_grouping\": [\"majority-minority\", \"nationality-all\"]\n",
    "}\n",
    "\n",
    "output_dir=\"./output\"\n",
    "seed=0"
   ]
  },
  {
   "cell_type": "code",
   "execution_count": 4,
   "id": "b9c49970",
   "metadata": {
    "execution": {
     "iopub.execute_input": "2025-07-30T14:22:43.727236Z",
     "iopub.status.busy": "2025-07-30T14:22:43.726737Z",
     "iopub.status.idle": "2025-07-30T14:22:43.732245Z",
     "shell.execute_reply": "2025-07-30T14:22:43.731313Z"
    },
    "papermill": {
     "duration": 0.027849,
     "end_time": "2025-07-30T14:22:43.733804",
     "exception": false,
     "start_time": "2025-07-30T14:22:43.705955",
     "status": "completed"
    },
    "tags": [
     "injected-parameters"
    ]
   },
   "outputs": [],
   "source": [
    "# Parameters\n",
    "universe_id = \"43daa3c46ff376b6d9347eb910665c3d\"\n",
    "run_no = \"12\"\n",
    "universe = \"{\\\"cutoff\\\": [\\\"quantile_0.1\\\", \\\"quantile_0.25\\\"], \\\"eval_fairness_grouping\\\": [\\\"majority-minority\\\", \\\"nationality-all\\\"], \\\"exclude_features\\\": \\\"age\\\", \\\"exclude_subgroups\\\": \\\"drop-non-german\\\", \\\"model\\\": \\\"gbm\\\", \\\"scale\\\": \\\"scale\\\", \\\"training_size\\\": \\\"1k\\\", \\\"training_year\\\": \\\"2014\\\"}\"\n",
    "output_dir = \"output\"\n",
    "seed = \"2023\"\n"
   ]
  },
  {
   "cell_type": "code",
   "execution_count": 5,
   "id": "1650acaf",
   "metadata": {
    "execution": {
     "iopub.execute_input": "2025-07-30T14:22:43.773577Z",
     "iopub.status.busy": "2025-07-30T14:22:43.773148Z",
     "iopub.status.idle": "2025-07-30T14:22:43.780197Z",
     "shell.execute_reply": "2025-07-30T14:22:43.777327Z"
    },
    "papermill": {
     "duration": 0.029351,
     "end_time": "2025-07-30T14:22:43.782415",
     "exception": false,
     "start_time": "2025-07-30T14:22:43.753064",
     "status": "completed"
    },
    "tags": []
   },
   "outputs": [],
   "source": [
    "import json\n",
    "# Parse universe into dict if it is passed as a string\n",
    "if isinstance(universe, str):\n",
    "    universe = json.loads(universe)"
   ]
  },
  {
   "cell_type": "code",
   "execution_count": 6,
   "id": "16620c48",
   "metadata": {
    "execution": {
     "iopub.execute_input": "2025-07-30T14:22:43.825888Z",
     "iopub.status.busy": "2025-07-30T14:22:43.825405Z",
     "iopub.status.idle": "2025-07-30T14:22:43.872604Z",
     "shell.execute_reply": "2025-07-30T14:22:43.871432Z"
    },
    "papermill": {
     "duration": 0.072266,
     "end_time": "2025-07-30T14:22:43.874536",
     "exception": false,
     "start_time": "2025-07-30T14:22:43.802270",
     "status": "completed"
    },
    "tags": []
   },
   "outputs": [],
   "source": [
    "# Auto-reload the custom package\n",
    "%load_ext autoreload\n",
    "%autoreload 1\n",
    "%aimport fairness_multiverse"
   ]
  },
  {
   "cell_type": "code",
   "execution_count": 7,
   "id": "01c5c9f3",
   "metadata": {
    "execution": {
     "iopub.execute_input": "2025-07-30T14:22:43.925559Z",
     "iopub.status.busy": "2025-07-30T14:22:43.924889Z",
     "iopub.status.idle": "2025-07-30T14:22:45.810883Z",
     "shell.execute_reply": "2025-07-30T14:22:45.809892Z"
    },
    "papermill": {
     "duration": 1.91371,
     "end_time": "2025-07-30T14:22:45.812890",
     "exception": false,
     "start_time": "2025-07-30T14:22:43.899180",
     "status": "completed"
    },
    "tags": []
   },
   "outputs": [],
   "source": [
    "from fairness_multiverse.universe import UniverseAnalysis\n",
    "\n",
    "universe_analysis = UniverseAnalysis(\n",
    "    run_no = run_no,\n",
    "    universe_id = universe_id,\n",
    "    universe = universe,\n",
    "    output_dir=output_dir,\n",
    ")"
   ]
  },
  {
   "cell_type": "code",
   "execution_count": 8,
   "id": "106241f5",
   "metadata": {
    "execution": {
     "iopub.execute_input": "2025-07-30T14:22:45.855667Z",
     "iopub.status.busy": "2025-07-30T14:22:45.855069Z",
     "iopub.status.idle": "2025-07-30T14:22:45.861982Z",
     "shell.execute_reply": "2025-07-30T14:22:45.861103Z"
    },
    "papermill": {
     "duration": 0.029407,
     "end_time": "2025-07-30T14:22:45.863564",
     "exception": false,
     "start_time": "2025-07-30T14:22:45.834157",
     "status": "completed"
    },
    "tags": []
   },
   "outputs": [
    {
     "name": "stdout",
     "output_type": "stream",
     "text": [
      "Using Seed: 2023\n"
     ]
    }
   ],
   "source": [
    "import numpy as np\n",
    "parsed_seed = int(seed)\n",
    "np.random.seed(parsed_seed)\n",
    "print(f\"Using Seed: {parsed_seed}\")"
   ]
  },
  {
   "cell_type": "markdown",
   "id": "e0ebdc57",
   "metadata": {
    "papermill": {
     "duration": 0.020621,
     "end_time": "2025-07-30T14:22:45.903192",
     "exception": false,
     "start_time": "2025-07-30T14:22:45.882571",
     "status": "completed"
    },
    "tags": []
   },
   "source": [
    "# Loading Data"
   ]
  },
  {
   "cell_type": "markdown",
   "id": "681925a3",
   "metadata": {
    "papermill": {
     "duration": 0.018544,
     "end_time": "2025-07-30T14:22:45.940626",
     "exception": false,
     "start_time": "2025-07-30T14:22:45.922082",
     "status": "completed"
    },
    "tags": []
   },
   "source": [
    "Load siab_train, siab_test, siab_calib and/or \n",
    "load siab_train_features, siab_train_labels"
   ]
  },
  {
   "cell_type": "code",
   "execution_count": 9,
   "id": "f0496b8a",
   "metadata": {
    "execution": {
     "iopub.execute_input": "2025-07-30T14:22:45.981327Z",
     "iopub.status.busy": "2025-07-30T14:22:45.980866Z",
     "iopub.status.idle": "2025-07-30T14:22:56.675594Z",
     "shell.execute_reply": "2025-07-30T14:22:56.674339Z"
    },
    "papermill": {
     "duration": 10.717353,
     "end_time": "2025-07-30T14:22:56.677320",
     "exception": false,
     "start_time": "2025-07-30T14:22:45.959967",
     "status": "completed"
    },
    "tags": []
   },
   "outputs": [
    {
     "name": "stdout",
     "output_type": "stream",
     "text": [
      "Loading SIAB data from cache: data/siab_cached.csv.gz\n"
     ]
    },
    {
     "name": "stdout",
     "output_type": "stream",
     "text": [
      "(643690, 164)\n"
     ]
    }
   ],
   "source": [
    "from pathlib import Path\n",
    "import pandas as pd\n",
    "\n",
    "# File paths\n",
    "raw_file = Path(\"data/raw/siab.csv\")\n",
    "cache_file = Path(\"data/siab_cached.csv.gz\")\n",
    "\n",
    "# Ensure cache directory exists\n",
    "cache_file.parent.mkdir(parents=True, exist_ok=True)\n",
    "\n",
    "# Load with simple caching\n",
    "if cache_file.exists():\n",
    "    print(f\"Loading SIAB data from cache: {cache_file}\")\n",
    "    siab = pd.read_csv(cache_file, compression='gzip')\n",
    "else:\n",
    "    print(f\"Cache not found. Reading raw SIAB data: {raw_file}\")\n",
    "    siab = pd.read_csv(raw_file)\n",
    "    siab.to_csv(cache_file, index=False, compression='gzip')\n",
    "    print(f\"Cached SIAB data to: {cache_file}\")\n",
    "\n",
    "# Now use `siab` DataFrame as needed\n",
    "print(siab.shape)"
   ]
  },
  {
   "cell_type": "code",
   "execution_count": 10,
   "id": "db0ca512-5f53-4dba-abdb-a2888bca41ba",
   "metadata": {
    "execution": {
     "iopub.execute_input": "2025-07-30T14:22:56.722809Z",
     "iopub.status.busy": "2025-07-30T14:22:56.722272Z",
     "iopub.status.idle": "2025-07-30T14:22:56.727945Z",
     "shell.execute_reply": "2025-07-30T14:22:56.726989Z"
    },
    "papermill": {
     "duration": 0.028065,
     "end_time": "2025-07-30T14:22:56.729628",
     "exception": false,
     "start_time": "2025-07-30T14:22:56.701563",
     "status": "completed"
    },
    "tags": []
   },
   "outputs": [],
   "source": [
    "#siab"
   ]
  },
  {
   "cell_type": "code",
   "execution_count": 11,
   "id": "a0edb063",
   "metadata": {
    "execution": {
     "iopub.execute_input": "2025-07-30T14:22:56.775934Z",
     "iopub.status.busy": "2025-07-30T14:22:56.775270Z",
     "iopub.status.idle": "2025-07-30T14:22:56.780525Z",
     "shell.execute_reply": "2025-07-30T14:22:56.779503Z"
    },
    "papermill": {
     "duration": 0.029736,
     "end_time": "2025-07-30T14:22:56.782308",
     "exception": false,
     "start_time": "2025-07-30T14:22:56.752572",
     "status": "completed"
    },
    "tags": []
   },
   "outputs": [],
   "source": [
    "#import pandas as pd\n",
    "#\n",
    "#X_train = pd.read_csv(\"./data/X_train.csv\")\n",
    "#y_train = pd.read_csv(\"./data/y_train.csv\")"
   ]
  },
  {
   "cell_type": "code",
   "execution_count": 12,
   "id": "63d08085",
   "metadata": {
    "execution": {
     "iopub.execute_input": "2025-07-30T14:22:56.826745Z",
     "iopub.status.busy": "2025-07-30T14:22:56.826221Z",
     "iopub.status.idle": "2025-07-30T14:22:56.831527Z",
     "shell.execute_reply": "2025-07-30T14:22:56.830504Z"
    },
    "papermill": {
     "duration": 0.029091,
     "end_time": "2025-07-30T14:22:56.833281",
     "exception": false,
     "start_time": "2025-07-30T14:22:56.804190",
     "status": "completed"
    },
    "tags": []
   },
   "outputs": [],
   "source": [
    "#X_test = pd.read_csv(\"./data/X_test.csv\")\n",
    "#y_true = pd.read_csv(\"./data/y_test.csv\")"
   ]
  },
  {
   "cell_type": "code",
   "execution_count": 13,
   "id": "98a8d0fa-1d3d-4ed8-bb2c-281470e24add",
   "metadata": {
    "execution": {
     "iopub.execute_input": "2025-07-30T14:22:56.877277Z",
     "iopub.status.busy": "2025-07-30T14:22:56.876770Z",
     "iopub.status.idle": "2025-07-30T14:22:56.882032Z",
     "shell.execute_reply": "2025-07-30T14:22:56.880992Z"
    },
    "papermill": {
     "duration": 0.029224,
     "end_time": "2025-07-30T14:22:56.883690",
     "exception": false,
     "start_time": "2025-07-30T14:22:56.854466",
     "status": "completed"
    },
    "tags": []
   },
   "outputs": [],
   "source": [
    "# Calibration data for conformal\n",
    "#X_calib = pd.read_csv(\"./data/X_calib.csv\")\n",
    "#y_calib = pd.read_csv(\"./data/y_calib.csv\")"
   ]
  },
  {
   "cell_type": "markdown",
   "id": "997051c5-15bd-4b69-9786-c3001a3ce484",
   "metadata": {
    "papermill": {
     "duration": 0.011294,
     "end_time": "2025-07-30T14:22:56.911927",
     "exception": false,
     "start_time": "2025-07-30T14:22:56.900633",
     "status": "completed"
    },
    "tags": []
   },
   "source": [
    "# Splitting Data and Setting Training Data Size"
   ]
  },
  {
   "cell_type": "code",
   "execution_count": 14,
   "id": "e993b61f-042d-41a6-8c81-f55681f86335",
   "metadata": {
    "execution": {
     "iopub.execute_input": "2025-07-30T14:22:56.934030Z",
     "iopub.status.busy": "2025-07-30T14:22:56.933685Z",
     "iopub.status.idle": "2025-07-30T14:22:56.942975Z",
     "shell.execute_reply": "2025-07-30T14:22:56.942270Z"
    },
    "papermill": {
     "duration": 0.022167,
     "end_time": "2025-07-30T14:22:56.944344",
     "exception": false,
     "start_time": "2025-07-30T14:22:56.922177",
     "status": "completed"
    },
    "tags": []
   },
   "outputs": [],
   "source": [
    "def sample_by_year_size(df,\n",
    "                        training_year: str,\n",
    "                        training_size: str,\n",
    "                        random_state: int = 42):\n",
    "    # --- parse training_year into a list of int years ---\n",
    "    if \"_\" in training_year:\n",
    "        start_str, end_str = training_year.split(\"_\", 1)\n",
    "        start = int(start_str)\n",
    "        end   = int(end_str) if len(end_str) == 4 else (int(end_str) + (start // 100)*100)\n",
    "        years = list(range(start, end + 1))\n",
    "    else:\n",
    "        years = [int(training_year)]\n",
    "\n",
    "    df = df[df[\"year\"].isin(years)].reset_index(drop=True)\n",
    "\n",
    "    # --- map training_size to total number of samples ---\n",
    "    total_map = {\"25k\": 25_000, \"5k\": 5_000, \"1k\": 1_000}\n",
    "    if training_size not in total_map:\n",
    "        return df  # e.g. \"all\"\n",
    "\n",
    "    total_samples = total_map[training_size]\n",
    "    n_years       = len(years)\n",
    "    base          = total_samples // n_years\n",
    "    remainder     = total_samples % n_years\n",
    "\n",
    "    # --- build a dict: year -> how many to sample ---\n",
    "    # give +1 to the first `remainder` years in ascending order\n",
    "    quotas = {\n",
    "        year: base + (1 if idx < remainder else 0)\n",
    "        for idx, year in enumerate(sorted(years))\n",
    "    }\n",
    "\n",
    "    # --- sample per‐year according to the quota dict ---\n",
    "    sampled = (\n",
    "        df\n",
    "        .groupby(\"year\", group_keys=False)\n",
    "        .apply(lambda grp: grp.sample(\n",
    "            n=min(len(grp), quotas[grp.name]),\n",
    "            random_state=random_state))\n",
    "        .reset_index(drop=True)\n",
    "    )\n",
    "\n",
    "    return sampled"
   ]
  },
  {
   "cell_type": "code",
   "execution_count": 15,
   "id": "c0ccd338-0e02-41f3-a09d-f56f9266e3fb",
   "metadata": {
    "execution": {
     "iopub.execute_input": "2025-07-30T14:22:56.995418Z",
     "iopub.status.busy": "2025-07-30T14:22:56.994423Z",
     "iopub.status.idle": "2025-07-30T14:22:57.007116Z",
     "shell.execute_reply": "2025-07-30T14:22:57.005977Z"
    },
    "papermill": {
     "duration": 0.043843,
     "end_time": "2025-07-30T14:22:57.010043",
     "exception": false,
     "start_time": "2025-07-30T14:22:56.966200",
     "status": "completed"
    },
    "tags": []
   },
   "outputs": [
    {
     "data": {
      "text/plain": [
       "'1k'"
      ]
     },
     "execution_count": 15,
     "metadata": {},
     "output_type": "execute_result"
    }
   ],
   "source": [
    "universe[\"training_size\"]"
   ]
  },
  {
   "cell_type": "code",
   "execution_count": 16,
   "id": "ca707fd7-8047-4acd-bfa5-66248fbbf8e6",
   "metadata": {
    "execution": {
     "iopub.execute_input": "2025-07-30T14:22:57.063676Z",
     "iopub.status.busy": "2025-07-30T14:22:57.063158Z",
     "iopub.status.idle": "2025-07-30T14:22:57.071641Z",
     "shell.execute_reply": "2025-07-30T14:22:57.070392Z"
    },
    "papermill": {
     "duration": 0.039311,
     "end_time": "2025-07-30T14:22:57.074009",
     "exception": false,
     "start_time": "2025-07-30T14:22:57.034698",
     "status": "completed"
    },
    "tags": []
   },
   "outputs": [
    {
     "data": {
      "text/plain": [
       "'2014'"
      ]
     },
     "execution_count": 16,
     "metadata": {},
     "output_type": "execute_result"
    }
   ],
   "source": [
    "universe[\"training_year\"]"
   ]
  },
  {
   "cell_type": "code",
   "execution_count": 17,
   "id": "aea9c6ef-6f46-42c8-85eb-5a62025c1508",
   "metadata": {
    "execution": {
     "iopub.execute_input": "2025-07-30T14:22:57.131548Z",
     "iopub.status.busy": "2025-07-30T14:22:57.130793Z",
     "iopub.status.idle": "2025-07-30T14:22:57.312991Z",
     "shell.execute_reply": "2025-07-30T14:22:57.311965Z"
    },
    "papermill": {
     "duration": 0.213428,
     "end_time": "2025-07-30T14:22:57.315273",
     "exception": false,
     "start_time": "2025-07-30T14:22:57.101845",
     "status": "completed"
    },
    "tags": []
   },
   "outputs": [],
   "source": [
    "siab_train = sample_by_year_size(siab,\n",
    "                               training_year=universe[\"training_year\"],\n",
    "                               training_size=universe[\"training_size\"])"
   ]
  },
  {
   "cell_type": "code",
   "execution_count": 18,
   "id": "8d3afb32-789d-442c-8d5d-9f5aa8dd2eed",
   "metadata": {
    "execution": {
     "iopub.execute_input": "2025-07-30T14:22:57.373395Z",
     "iopub.status.busy": "2025-07-30T14:22:57.372879Z",
     "iopub.status.idle": "2025-07-30T14:22:57.381387Z",
     "shell.execute_reply": "2025-07-30T14:22:57.380405Z"
    },
    "papermill": {
     "duration": 0.04564,
     "end_time": "2025-07-30T14:22:57.383202",
     "exception": false,
     "start_time": "2025-07-30T14:22:57.337562",
     "status": "completed"
    },
    "tags": []
   },
   "outputs": [
    {
     "data": {
      "text/plain": [
       "(1000, 164)"
      ]
     },
     "execution_count": 18,
     "metadata": {},
     "output_type": "execute_result"
    }
   ],
   "source": [
    "siab_train.shape"
   ]
  },
  {
   "cell_type": "code",
   "execution_count": 19,
   "id": "d582db68-1a4c-47fb-84fc-08518dc1975a",
   "metadata": {
    "execution": {
     "iopub.execute_input": "2025-07-30T14:22:57.421102Z",
     "iopub.status.busy": "2025-07-30T14:22:57.420702Z",
     "iopub.status.idle": "2025-07-30T14:22:57.431532Z",
     "shell.execute_reply": "2025-07-30T14:22:57.430753Z"
    },
    "papermill": {
     "duration": 0.027352,
     "end_time": "2025-07-30T14:22:57.433205",
     "exception": false,
     "start_time": "2025-07-30T14:22:57.405853",
     "status": "completed"
    },
    "tags": []
   },
   "outputs": [
    {
     "data": {
      "text/plain": [
       "year\n",
       "2014    1000\n",
       "dtype: int64"
      ]
     },
     "metadata": {},
     "output_type": "display_data"
    }
   ],
   "source": [
    "display(siab_train.groupby(\"year\").size())"
   ]
  },
  {
   "cell_type": "code",
   "execution_count": 20,
   "id": "a561edb4-d032-42cb-8256-22eac1111c64",
   "metadata": {
    "execution": {
     "iopub.execute_input": "2025-07-30T14:22:57.480994Z",
     "iopub.status.busy": "2025-07-30T14:22:57.480500Z",
     "iopub.status.idle": "2025-07-30T14:22:57.677006Z",
     "shell.execute_reply": "2025-07-30T14:22:57.676140Z"
    },
    "papermill": {
     "duration": 0.222305,
     "end_time": "2025-07-30T14:22:57.678900",
     "exception": false,
     "start_time": "2025-07-30T14:22:57.456595",
     "status": "completed"
    },
    "tags": []
   },
   "outputs": [],
   "source": [
    "#siab_train = siab_s[siab_s.year < 2015]\n",
    "siab_calib = siab[siab.year == 2015]\n",
    "siab_test = siab[siab.year == 2016]"
   ]
  },
  {
   "cell_type": "code",
   "execution_count": 21,
   "id": "472de16f-c3db-4916-846b-1f0de9cf1746",
   "metadata": {
    "execution": {
     "iopub.execute_input": "2025-07-30T14:22:57.725196Z",
     "iopub.status.busy": "2025-07-30T14:22:57.724852Z",
     "iopub.status.idle": "2025-07-30T14:22:57.731201Z",
     "shell.execute_reply": "2025-07-30T14:22:57.730192Z"
    },
    "papermill": {
     "duration": 0.030503,
     "end_time": "2025-07-30T14:22:57.733041",
     "exception": false,
     "start_time": "2025-07-30T14:22:57.702538",
     "status": "completed"
    },
    "tags": []
   },
   "outputs": [],
   "source": [
    "X_train = siab_train.iloc[:,4:164]\n",
    "y_train = siab_train.iloc[:, [3]]"
   ]
  },
  {
   "cell_type": "code",
   "execution_count": 22,
   "id": "828c96af-f43a-4ed6-ba47-8ac73a47d56c",
   "metadata": {
    "execution": {
     "iopub.execute_input": "2025-07-30T14:22:57.780566Z",
     "iopub.status.busy": "2025-07-30T14:22:57.779989Z",
     "iopub.status.idle": "2025-07-30T14:22:57.836402Z",
     "shell.execute_reply": "2025-07-30T14:22:57.835320Z"
    },
    "papermill": {
     "duration": 0.082305,
     "end_time": "2025-07-30T14:22:57.838024",
     "exception": false,
     "start_time": "2025-07-30T14:22:57.755719",
     "status": "completed"
    },
    "tags": []
   },
   "outputs": [],
   "source": [
    "X_calib = siab_calib.iloc[:,4:164]\n",
    "y_calib = siab_calib.iloc[:, [3]]"
   ]
  },
  {
   "cell_type": "code",
   "execution_count": 23,
   "id": "c34be9c3-6bd6-476e-acd3-845840e303be",
   "metadata": {
    "execution": {
     "iopub.execute_input": "2025-07-30T14:22:57.889504Z",
     "iopub.status.busy": "2025-07-30T14:22:57.888726Z",
     "iopub.status.idle": "2025-07-30T14:22:57.943898Z",
     "shell.execute_reply": "2025-07-30T14:22:57.942802Z"
    },
    "papermill": {
     "duration": 0.084267,
     "end_time": "2025-07-30T14:22:57.945917",
     "exception": false,
     "start_time": "2025-07-30T14:22:57.861650",
     "status": "completed"
    },
    "tags": []
   },
   "outputs": [],
   "source": [
    "X_test = siab_test.iloc[:,4:164]\n",
    "y_true = siab_test.iloc[:, [3]]"
   ]
  },
  {
   "cell_type": "markdown",
   "id": "9901737e-04df-44f0-9100-f5ad144ed040",
   "metadata": {
    "papermill": {
     "duration": 0.023919,
     "end_time": "2025-07-30T14:22:57.991735",
     "exception": false,
     "start_time": "2025-07-30T14:22:57.967816",
     "status": "completed"
    },
    "tags": []
   },
   "source": [
    "# Splitting Data and Setting Training Data Size OLD VERSION"
   ]
  },
  {
   "cell_type": "code",
   "execution_count": 24,
   "id": "acbc8f7d-8fc8-4e86-8c59-5dcb0f58384b",
   "metadata": {
    "execution": {
     "iopub.execute_input": "2025-07-30T14:22:58.039472Z",
     "iopub.status.busy": "2025-07-30T14:22:58.038521Z",
     "iopub.status.idle": "2025-07-30T14:22:58.044089Z",
     "shell.execute_reply": "2025-07-30T14:22:58.043178Z"
    },
    "papermill": {
     "duration": 0.032055,
     "end_time": "2025-07-30T14:22:58.045812",
     "exception": false,
     "start_time": "2025-07-30T14:22:58.013757",
     "status": "completed"
    },
    "tags": []
   },
   "outputs": [],
   "source": [
    "#def sample_by_year(df, training_size, random_state=42):\n",
    "#    if training_size == \"2014\":\n",
    "#        return df[df[\"year\"] == 2014].reset_index(drop=True)\n",
    "#    \n",
    "#    size_map = {\n",
    "#        \"25k\": 5000,\n",
    "#        \"5k\": 1000,\n",
    "#        \"1k\": 200\n",
    "#    }\n",
    "#\n",
    "#    if training_size not in size_map:\n",
    "#        return df.reset_index(drop=True)  # use all data\n",
    "#\n",
    "#    n_per_year = size_map[training_size]\n",
    "#    grouped = df.groupby(\"year\")\n",
    "#    sampled = grouped.apply(lambda x: x.sample(n=min(n_per_year, len(x)), random_state=random_state))\n",
    "#    return sampled.reset_index(drop=True)"
   ]
  },
  {
   "cell_type": "code",
   "execution_count": 25,
   "id": "6d931f52-beaf-43ff-9e78-9d44a448d54e",
   "metadata": {
    "execution": {
     "iopub.execute_input": "2025-07-30T14:22:58.075049Z",
     "iopub.status.busy": "2025-07-30T14:22:58.074705Z",
     "iopub.status.idle": "2025-07-30T14:22:58.078801Z",
     "shell.execute_reply": "2025-07-30T14:22:58.078101Z"
    },
    "papermill": {
     "duration": 0.018178,
     "end_time": "2025-07-30T14:22:58.080189",
     "exception": false,
     "start_time": "2025-07-30T14:22:58.062011",
     "status": "completed"
    },
    "tags": []
   },
   "outputs": [],
   "source": [
    "#siab_s = sample_by_year(siab, universe[\"training_size\"])"
   ]
  },
  {
   "cell_type": "code",
   "execution_count": 26,
   "id": "5db0a40e-a4e2-4920-be85-b12ae061d70d",
   "metadata": {
    "execution": {
     "iopub.execute_input": "2025-07-30T14:22:58.118397Z",
     "iopub.status.busy": "2025-07-30T14:22:58.117943Z",
     "iopub.status.idle": "2025-07-30T14:22:58.123111Z",
     "shell.execute_reply": "2025-07-30T14:22:58.122165Z"
    },
    "papermill": {
     "duration": 0.029996,
     "end_time": "2025-07-30T14:22:58.124783",
     "exception": false,
     "start_time": "2025-07-30T14:22:58.094787",
     "status": "completed"
    },
    "tags": []
   },
   "outputs": [],
   "source": [
    "#display(siab_s.groupby(\"year\").size())"
   ]
  },
  {
   "cell_type": "code",
   "execution_count": 27,
   "id": "e6c733c5",
   "metadata": {
    "execution": {
     "iopub.execute_input": "2025-07-30T14:22:58.162522Z",
     "iopub.status.busy": "2025-07-30T14:22:58.162061Z",
     "iopub.status.idle": "2025-07-30T14:22:58.255536Z",
     "shell.execute_reply": "2025-07-30T14:22:58.254186Z"
    },
    "papermill": {
     "duration": 0.110749,
     "end_time": "2025-07-30T14:22:58.257435",
     "exception": false,
     "start_time": "2025-07-30T14:22:58.146686",
     "status": "completed"
    },
    "tags": []
   },
   "outputs": [],
   "source": [
    "# Auxiliary data needed downstream in the pipeline\n",
    "\n",
    "org_train = X_train.copy()\n",
    "org_test = X_test.copy()\n",
    "org_calib = X_calib.copy()"
   ]
  },
  {
   "cell_type": "code",
   "execution_count": 28,
   "id": "1466abac-c6da-4492-a62f-4240ae3783af",
   "metadata": {
    "execution": {
     "iopub.execute_input": "2025-07-30T14:22:58.304824Z",
     "iopub.status.busy": "2025-07-30T14:22:58.304454Z",
     "iopub.status.idle": "2025-07-30T14:22:58.309324Z",
     "shell.execute_reply": "2025-07-30T14:22:58.308504Z"
    },
    "papermill": {
     "duration": 0.029631,
     "end_time": "2025-07-30T14:22:58.310605",
     "exception": false,
     "start_time": "2025-07-30T14:22:58.280974",
     "status": "completed"
    },
    "tags": []
   },
   "outputs": [],
   "source": [
    "# put in other script?\n",
    "# Group sizes\n",
    "\n",
    "#def calculate_percentages(df, df_name):\n",
    "#    total_entries = len(df)\n",
    "#\n",
    "#    female_pct = (df['frau1'] == 1).mean() * 100\n",
    "#    non_german_pct = ((df['maxdeutsch1'] == 0) & (df['maxdeutsch.Missing.'] == 0)).mean() * 100\n",
    "#    non_german_male_pct = ((df['frau1'] == 0) & (df['maxdeutsch1'] == 0) & (df['maxdeutsch.Missing.'] == 0)).mean() * 100\n",
    "#    non_german_female_pct = ((df['frau1'] == 1) & (df['maxdeutsch1'] == 0) & (df['maxdeutsch.Missing.'] == 0)).mean() * 100\n",
    "#\n",
    "#    print(f\"--- {df_name} ---\")\n",
    "#    print(f\"Female: {female_pct:.2f}%\")\n",
    "#    print(f\"Non-German: {non_german_pct:.2f}%\")\n",
    "#    print(f\"Non-German Male: {non_german_male_pct:.2f}%\")\n",
    "#    print(f\"Non-German Female: {non_german_female_pct:.2f}%\\n\")\n",
    "#\n",
    "## Calculate for each DataFrame\n",
    "#calculate_percentages(siab_calib, \"siab_calib\")\n",
    "#calculate_percentages(siab_test, \"siab_test\")\n",
    "#calculate_percentages(siab_train, \"siab_train\")"
   ]
  },
  {
   "cell_type": "markdown",
   "id": "0a4a1b33",
   "metadata": {
    "papermill": {
     "duration": 0.011808,
     "end_time": "2025-07-30T14:22:58.338431",
     "exception": false,
     "start_time": "2025-07-30T14:22:58.326623",
     "status": "completed"
    },
    "tags": []
   },
   "source": [
    "# Preprocessing Data"
   ]
  },
  {
   "cell_type": "code",
   "execution_count": 29,
   "id": "ca879031",
   "metadata": {
    "execution": {
     "iopub.execute_input": "2025-07-30T14:22:58.368734Z",
     "iopub.status.busy": "2025-07-30T14:22:58.367852Z",
     "iopub.status.idle": "2025-07-30T14:22:58.374106Z",
     "shell.execute_reply": "2025-07-30T14:22:58.373419Z"
    },
    "papermill": {
     "duration": 0.025571,
     "end_time": "2025-07-30T14:22:58.375409",
     "exception": false,
     "start_time": "2025-07-30T14:22:58.349838",
     "status": "completed"
    },
    "tags": []
   },
   "outputs": [],
   "source": [
    "# EXCLUDE PROTECTED FEATURES\n",
    "# ----------------------\n",
    "# \"exclude_features\": \"none\", # \"nationality\", \"sex\", \"nationality-sex\"\n",
    "\n",
    "excluded_features = universe[\"exclude_features\"].split(\"-\") # split, e.g.: \"nationality-sex\" -> [\"nationality\", \"sex\"]\n",
    "excluded_features_dictionary = {\n",
    "    \"nationality\": [\"maxdeutsch1\", \"maxdeutsch.Missing.\"],\n",
    "    \"sex\": [\"frau1\"],\n",
    "    \"age\": [\"age\"],\n",
    "}\n"
   ]
  },
  {
   "cell_type": "code",
   "execution_count": 30,
   "id": "b745ac60",
   "metadata": {
    "execution": {
     "iopub.execute_input": "2025-07-30T14:22:58.400572Z",
     "iopub.status.busy": "2025-07-30T14:22:58.400023Z",
     "iopub.status.idle": "2025-07-30T14:22:58.404662Z",
     "shell.execute_reply": "2025-07-30T14:22:58.403989Z"
    },
    "papermill": {
     "duration": 0.018179,
     "end_time": "2025-07-30T14:22:58.405917",
     "exception": false,
     "start_time": "2025-07-30T14:22:58.387738",
     "status": "completed"
    },
    "tags": []
   },
   "outputs": [],
   "source": [
    "# Code nice names to column names\n",
    "\n",
    "excluded_features_columns = [\n",
    "    excluded_features_dictionary[f] for f in excluded_features if len(f) > 0 and f != \"none\"\n",
    "]"
   ]
  },
  {
   "cell_type": "code",
   "execution_count": 31,
   "id": "f84f73a2",
   "metadata": {
    "execution": {
     "iopub.execute_input": "2025-07-30T14:22:58.433874Z",
     "iopub.status.busy": "2025-07-30T14:22:58.433361Z",
     "iopub.status.idle": "2025-07-30T14:22:58.438801Z",
     "shell.execute_reply": "2025-07-30T14:22:58.438048Z"
    },
    "papermill": {
     "duration": 0.018867,
     "end_time": "2025-07-30T14:22:58.440109",
     "exception": false,
     "start_time": "2025-07-30T14:22:58.421242",
     "status": "completed"
    },
    "tags": []
   },
   "outputs": [],
   "source": [
    "from utils import flatten_once\n",
    "\n",
    "excluded_features_columns = flatten_once(excluded_features_columns)"
   ]
  },
  {
   "cell_type": "code",
   "execution_count": 32,
   "id": "884dea22",
   "metadata": {
    "execution": {
     "iopub.execute_input": "2025-07-30T14:22:58.473403Z",
     "iopub.status.busy": "2025-07-30T14:22:58.472937Z",
     "iopub.status.idle": "2025-07-30T14:22:58.478955Z",
     "shell.execute_reply": "2025-07-30T14:22:58.478305Z"
    },
    "papermill": {
     "duration": 0.028317,
     "end_time": "2025-07-30T14:22:58.480435",
     "exception": false,
     "start_time": "2025-07-30T14:22:58.452118",
     "status": "completed"
    },
    "tags": []
   },
   "outputs": [
    {
     "name": "stdout",
     "output_type": "stream",
     "text": [
      "Dropping features: ['age']\n"
     ]
    }
   ],
   "source": [
    "if len(excluded_features_columns) > 0:\n",
    "    print(f\"Dropping features: {excluded_features_columns}\")\n",
    "    X_train.drop(excluded_features_columns, axis=1, inplace=True)"
   ]
  },
  {
   "cell_type": "code",
   "execution_count": 33,
   "id": "95ab8b16",
   "metadata": {
    "execution": {
     "iopub.execute_input": "2025-07-30T14:22:58.506089Z",
     "iopub.status.busy": "2025-07-30T14:22:58.505484Z",
     "iopub.status.idle": "2025-07-30T14:22:58.559896Z",
     "shell.execute_reply": "2025-07-30T14:22:58.558878Z"
    },
    "papermill": {
     "duration": 0.068746,
     "end_time": "2025-07-30T14:22:58.561562",
     "exception": false,
     "start_time": "2025-07-30T14:22:58.492816",
     "status": "completed"
    },
    "tags": []
   },
   "outputs": [
    {
     "name": "stdout",
     "output_type": "stream",
     "text": [
      "Dropping features: ['age']\n"
     ]
    }
   ],
   "source": [
    "if len(excluded_features_columns) > 0:\n",
    "    print(f\"Dropping features: {excluded_features_columns}\")\n",
    "    X_test.drop(excluded_features_columns, axis=1, inplace=True)"
   ]
  },
  {
   "cell_type": "code",
   "execution_count": 34,
   "id": "1853aaf5-fb9f-46cb-a2b5-8ea4ae2237e4",
   "metadata": {
    "execution": {
     "iopub.execute_input": "2025-07-30T14:22:58.611290Z",
     "iopub.status.busy": "2025-07-30T14:22:58.610888Z",
     "iopub.status.idle": "2025-07-30T14:22:58.666272Z",
     "shell.execute_reply": "2025-07-30T14:22:58.665182Z"
    },
    "papermill": {
     "duration": 0.081986,
     "end_time": "2025-07-30T14:22:58.668172",
     "exception": false,
     "start_time": "2025-07-30T14:22:58.586186",
     "status": "completed"
    },
    "tags": []
   },
   "outputs": [
    {
     "name": "stdout",
     "output_type": "stream",
     "text": [
      "Dropping features: ['age']\n"
     ]
    }
   ],
   "source": [
    "if len(excluded_features_columns) > 0:\n",
    "    print(f\"Dropping features: {excluded_features_columns}\")\n",
    "    X_calib.drop(excluded_features_columns, axis=1, inplace=True)"
   ]
  },
  {
   "cell_type": "code",
   "execution_count": 35,
   "id": "6727d079-03e5-481e-9d38-292a90b7a0a8",
   "metadata": {
    "execution": {
     "iopub.execute_input": "2025-07-30T14:22:58.717722Z",
     "iopub.status.busy": "2025-07-30T14:22:58.717051Z",
     "iopub.status.idle": "2025-07-30T14:22:58.722420Z",
     "shell.execute_reply": "2025-07-30T14:22:58.721472Z"
    },
    "papermill": {
     "duration": 0.032222,
     "end_time": "2025-07-30T14:22:58.724176",
     "exception": false,
     "start_time": "2025-07-30T14:22:58.691954",
     "status": "completed"
    },
    "tags": []
   },
   "outputs": [],
   "source": [
    "# SPLIT & STRATIFY DATA\n",
    "# ----------------------"
   ]
  },
  {
   "cell_type": "code",
   "execution_count": 36,
   "id": "76c4dc6d",
   "metadata": {
    "execution": {
     "iopub.execute_input": "2025-07-30T14:22:58.774514Z",
     "iopub.status.busy": "2025-07-30T14:22:58.773820Z",
     "iopub.status.idle": "2025-07-30T14:22:58.780561Z",
     "shell.execute_reply": "2025-07-30T14:22:58.779327Z"
    },
    "papermill": {
     "duration": 0.032947,
     "end_time": "2025-07-30T14:22:58.782326",
     "exception": false,
     "start_time": "2025-07-30T14:22:58.749379",
     "status": "completed"
    },
    "tags": []
   },
   "outputs": [],
   "source": [
    "# EXCLUDE CERTAIN SUBGROUPS\n",
    "# ----------------------\n",
    "\n",
    "mode = universe.get(\"exclude_subgroups\", \"keep-all\") \n",
    "# Fetches the exclude_subgroups setting from the universe dict.\n",
    "# Defaults to \"keep-all\" if the key is missing."
   ]
  },
  {
   "cell_type": "code",
   "execution_count": 37,
   "id": "21994072",
   "metadata": {
    "execution": {
     "iopub.execute_input": "2025-07-30T14:22:58.833937Z",
     "iopub.status.busy": "2025-07-30T14:22:58.833066Z",
     "iopub.status.idle": "2025-07-30T14:22:58.840581Z",
     "shell.execute_reply": "2025-07-30T14:22:58.839627Z"
    },
    "papermill": {
     "duration": 0.034771,
     "end_time": "2025-07-30T14:22:58.842252",
     "exception": false,
     "start_time": "2025-07-30T14:22:58.807481",
     "status": "completed"
    },
    "tags": []
   },
   "outputs": [],
   "source": [
    "if mode == \"keep-all\":\n",
    "    keep_mask = pd.Series(True, index=org_train.index)\n",
    "\n",
    "# org_train contains the original feature columns from features_org (in Simson)\n",
    "# features_org contains unprocessed features, for me X_train at beginning ???\n",
    "# For keep-all, creates a boolean Series (keep_mask) of all True, so no rows are removed.\n",
    "\n",
    "elif mode == \"drop-non-german\":\n",
    "    keep_mask = org_train[\"maxdeutsch1\"] == 1 # ??? what about missing values?\n",
    "\n",
    "else:\n",
    "    raise ValueError(f\"Unsupported mode for exclude_subgroups: {mode}\")\n"
   ]
  },
  {
   "cell_type": "code",
   "execution_count": 38,
   "id": "71651440",
   "metadata": {
    "execution": {
     "iopub.execute_input": "2025-07-30T14:22:58.890227Z",
     "iopub.status.busy": "2025-07-30T14:22:58.889748Z",
     "iopub.status.idle": "2025-07-30T14:22:58.898527Z",
     "shell.execute_reply": "2025-07-30T14:22:58.897648Z"
    },
    "papermill": {
     "duration": 0.034753,
     "end_time": "2025-07-30T14:22:58.900248",
     "exception": false,
     "start_time": "2025-07-30T14:22:58.865495",
     "status": "completed"
    },
    "tags": []
   },
   "outputs": [
    {
     "name": "stdout",
     "output_type": "stream",
     "text": [
      "Dropping 147 rows (14.70%) where mode='drop-non-german'\n"
     ]
    }
   ],
   "source": [
    "n_drop = (~keep_mask).sum() # Calculates how many rows are set to be dropped\n",
    "if n_drop > 0:\n",
    "    pct = n_drop / len(keep_mask) * 100\n",
    "    print(f\"Dropping {n_drop} rows ({pct:.2f}%) where mode='{mode}'\")"
   ]
  },
  {
   "cell_type": "code",
   "execution_count": 39,
   "id": "5fb8eee5",
   "metadata": {
    "execution": {
     "iopub.execute_input": "2025-07-30T14:22:58.947120Z",
     "iopub.status.busy": "2025-07-30T14:22:58.946592Z",
     "iopub.status.idle": "2025-07-30T14:22:58.952796Z",
     "shell.execute_reply": "2025-07-30T14:22:58.951894Z"
    },
    "papermill": {
     "duration": 0.029927,
     "end_time": "2025-07-30T14:22:58.954155",
     "exception": false,
     "start_time": "2025-07-30T14:22:58.924228",
     "status": "completed"
    },
    "tags": []
   },
   "outputs": [],
   "source": [
    "X_train = X_train[keep_mask]"
   ]
  },
  {
   "cell_type": "code",
   "execution_count": 40,
   "id": "b202bb3a",
   "metadata": {
    "execution": {
     "iopub.execute_input": "2025-07-30T14:22:59.002794Z",
     "iopub.status.busy": "2025-07-30T14:22:59.002194Z",
     "iopub.status.idle": "2025-07-30T14:22:59.008389Z",
     "shell.execute_reply": "2025-07-30T14:22:59.007389Z"
    },
    "papermill": {
     "duration": 0.033195,
     "end_time": "2025-07-30T14:22:59.010206",
     "exception": false,
     "start_time": "2025-07-30T14:22:58.977011",
     "status": "completed"
    },
    "tags": []
   },
   "outputs": [],
   "source": [
    "y_train = y_train[keep_mask]"
   ]
  },
  {
   "cell_type": "markdown",
   "id": "493e2ac3",
   "metadata": {
    "papermill": {
     "duration": 0.0246,
     "end_time": "2025-07-30T14:22:59.057640",
     "exception": false,
     "start_time": "2025-07-30T14:22:59.033040",
     "status": "completed"
    },
    "tags": []
   },
   "source": [
    "# Model Training"
   ]
  },
  {
   "cell_type": "code",
   "execution_count": 41,
   "id": "679e1268",
   "metadata": {
    "execution": {
     "iopub.execute_input": "2025-07-30T14:22:59.106385Z",
     "iopub.status.busy": "2025-07-30T14:22:59.105892Z",
     "iopub.status.idle": "2025-07-30T14:22:59.218959Z",
     "shell.execute_reply": "2025-07-30T14:22:59.217981Z"
    },
    "papermill": {
     "duration": 0.140855,
     "end_time": "2025-07-30T14:22:59.221193",
     "exception": false,
     "start_time": "2025-07-30T14:22:59.080338",
     "status": "completed"
    },
    "tags": []
   },
   "outputs": [],
   "source": [
    "from sklearn.linear_model import LogisticRegression\n",
    "from sklearn.ensemble import GradientBoostingClassifier, RandomForestClassifier\n",
    "\n",
    "if (universe[\"model\"] == \"logreg\"):\n",
    "    model = LogisticRegression() #penalty=\"none\") #, solver=\"newton-cg\", max_iter=1) # include random_state=19 ?\n",
    "elif (universe[\"model\"] == \"penalized_logreg\"):\n",
    "    model = LogisticRegression(penalty=\"l2\", C=1.0) #, solver=\"newton-cg\", max_iter=1)\n",
    "elif (universe[\"model\"] == \"rf\"):\n",
    "    model = RandomForestClassifier(n_estimators=100, n_jobs=-1)\n",
    "elif (universe[\"model\"] == \"gbm\"):\n",
    "    model = GradientBoostingClassifier()\n",
    "elif (universe[\"model\"] == \"elasticnet\"):\n",
    "    model = LogisticRegression(penalty = 'elasticnet', solver = 'saga', l1_ratio = 0.5, max_iter=5000) # which solver to use?\n",
    "else:\n",
    "    raise \"Unsupported universe.model\""
   ]
  },
  {
   "cell_type": "code",
   "execution_count": 42,
   "id": "0cc8f744",
   "metadata": {
    "execution": {
     "iopub.execute_input": "2025-07-30T14:22:59.268662Z",
     "iopub.status.busy": "2025-07-30T14:22:59.267714Z",
     "iopub.status.idle": "2025-07-30T14:22:59.274123Z",
     "shell.execute_reply": "2025-07-30T14:22:59.273279Z"
    },
    "papermill": {
     "duration": 0.031724,
     "end_time": "2025-07-30T14:22:59.275540",
     "exception": false,
     "start_time": "2025-07-30T14:22:59.243816",
     "status": "completed"
    },
    "tags": []
   },
   "outputs": [],
   "source": [
    "import numpy as np\n",
    "from sklearn.pipeline import Pipeline\n",
    "from sklearn.preprocessing import StandardScaler\n",
    "\n",
    "model = Pipeline([\n",
    "    #(\"continuous_processor\", continuous_processor),\n",
    "    #(\"categorical_preprocessor\", categorical_preprocessor),\n",
    "    (\"scale\", StandardScaler() if universe[\"scale\"] == \"scale\" else None), \n",
    "    (\"model\", model),\n",
    "])"
   ]
  },
  {
   "cell_type": "code",
   "execution_count": 43,
   "id": "9442c04d",
   "metadata": {
    "execution": {
     "iopub.execute_input": "2025-07-30T14:22:59.321992Z",
     "iopub.status.busy": "2025-07-30T14:22:59.321496Z",
     "iopub.status.idle": "2025-07-30T14:23:00.279935Z",
     "shell.execute_reply": "2025-07-30T14:23:00.278807Z"
    },
    "papermill": {
     "duration": 0.98425,
     "end_time": "2025-07-30T14:23:00.281705",
     "exception": false,
     "start_time": "2025-07-30T14:22:59.297455",
     "status": "completed"
    },
    "tags": []
   },
   "outputs": [
    {
     "data": {
      "text/html": [
       "<style>#sk-container-id-1 {color: black;background-color: white;}#sk-container-id-1 pre{padding: 0;}#sk-container-id-1 div.sk-toggleable {background-color: white;}#sk-container-id-1 label.sk-toggleable__label {cursor: pointer;display: block;width: 100%;margin-bottom: 0;padding: 0.3em;box-sizing: border-box;text-align: center;}#sk-container-id-1 label.sk-toggleable__label-arrow:before {content: \"▸\";float: left;margin-right: 0.25em;color: #696969;}#sk-container-id-1 label.sk-toggleable__label-arrow:hover:before {color: black;}#sk-container-id-1 div.sk-estimator:hover label.sk-toggleable__label-arrow:before {color: black;}#sk-container-id-1 div.sk-toggleable__content {max-height: 0;max-width: 0;overflow: hidden;text-align: left;background-color: #f0f8ff;}#sk-container-id-1 div.sk-toggleable__content pre {margin: 0.2em;color: black;border-radius: 0.25em;background-color: #f0f8ff;}#sk-container-id-1 input.sk-toggleable__control:checked~div.sk-toggleable__content {max-height: 200px;max-width: 100%;overflow: auto;}#sk-container-id-1 input.sk-toggleable__control:checked~label.sk-toggleable__label-arrow:before {content: \"▾\";}#sk-container-id-1 div.sk-estimator input.sk-toggleable__control:checked~label.sk-toggleable__label {background-color: #d4ebff;}#sk-container-id-1 div.sk-label input.sk-toggleable__control:checked~label.sk-toggleable__label {background-color: #d4ebff;}#sk-container-id-1 input.sk-hidden--visually {border: 0;clip: rect(1px 1px 1px 1px);clip: rect(1px, 1px, 1px, 1px);height: 1px;margin: -1px;overflow: hidden;padding: 0;position: absolute;width: 1px;}#sk-container-id-1 div.sk-estimator {font-family: monospace;background-color: #f0f8ff;border: 1px dotted black;border-radius: 0.25em;box-sizing: border-box;margin-bottom: 0.5em;}#sk-container-id-1 div.sk-estimator:hover {background-color: #d4ebff;}#sk-container-id-1 div.sk-parallel-item::after {content: \"\";width: 100%;border-bottom: 1px solid gray;flex-grow: 1;}#sk-container-id-1 div.sk-label:hover label.sk-toggleable__label {background-color: #d4ebff;}#sk-container-id-1 div.sk-serial::before {content: \"\";position: absolute;border-left: 1px solid gray;box-sizing: border-box;top: 0;bottom: 0;left: 50%;z-index: 0;}#sk-container-id-1 div.sk-serial {display: flex;flex-direction: column;align-items: center;background-color: white;padding-right: 0.2em;padding-left: 0.2em;position: relative;}#sk-container-id-1 div.sk-item {position: relative;z-index: 1;}#sk-container-id-1 div.sk-parallel {display: flex;align-items: stretch;justify-content: center;background-color: white;position: relative;}#sk-container-id-1 div.sk-item::before, #sk-container-id-1 div.sk-parallel-item::before {content: \"\";position: absolute;border-left: 1px solid gray;box-sizing: border-box;top: 0;bottom: 0;left: 50%;z-index: -1;}#sk-container-id-1 div.sk-parallel-item {display: flex;flex-direction: column;z-index: 1;position: relative;background-color: white;}#sk-container-id-1 div.sk-parallel-item:first-child::after {align-self: flex-end;width: 50%;}#sk-container-id-1 div.sk-parallel-item:last-child::after {align-self: flex-start;width: 50%;}#sk-container-id-1 div.sk-parallel-item:only-child::after {width: 0;}#sk-container-id-1 div.sk-dashed-wrapped {border: 1px dashed gray;margin: 0 0.4em 0.5em 0.4em;box-sizing: border-box;padding-bottom: 0.4em;background-color: white;}#sk-container-id-1 div.sk-label label {font-family: monospace;font-weight: bold;display: inline-block;line-height: 1.2em;}#sk-container-id-1 div.sk-label-container {text-align: center;}#sk-container-id-1 div.sk-container {/* jupyter's `normalize.less` sets `[hidden] { display: none; }` but bootstrap.min.css set `[hidden] { display: none !important; }` so we also need the `!important` here to be able to override the default hidden behavior on the sphinx rendered scikit-learn.org. See: https://github.com/scikit-learn/scikit-learn/issues/21755 */display: inline-block !important;position: relative;}#sk-container-id-1 div.sk-text-repr-fallback {display: none;}</style><div id=\"sk-container-id-1\" class=\"sk-top-container\"><div class=\"sk-text-repr-fallback\"><pre>Pipeline(steps=[(&#x27;scale&#x27;, StandardScaler()),\n",
       "                (&#x27;model&#x27;, GradientBoostingClassifier())])</pre><b>In a Jupyter environment, please rerun this cell to show the HTML representation or trust the notebook. <br />On GitHub, the HTML representation is unable to render, please try loading this page with nbviewer.org.</b></div><div class=\"sk-container\" hidden><div class=\"sk-item sk-dashed-wrapped\"><div class=\"sk-label-container\"><div class=\"sk-label sk-toggleable\"><input class=\"sk-toggleable__control sk-hidden--visually\" id=\"sk-estimator-id-1\" type=\"checkbox\" ><label for=\"sk-estimator-id-1\" class=\"sk-toggleable__label sk-toggleable__label-arrow\">Pipeline</label><div class=\"sk-toggleable__content\"><pre>Pipeline(steps=[(&#x27;scale&#x27;, StandardScaler()),\n",
       "                (&#x27;model&#x27;, GradientBoostingClassifier())])</pre></div></div></div><div class=\"sk-serial\"><div class=\"sk-item\"><div class=\"sk-estimator sk-toggleable\"><input class=\"sk-toggleable__control sk-hidden--visually\" id=\"sk-estimator-id-2\" type=\"checkbox\" ><label for=\"sk-estimator-id-2\" class=\"sk-toggleable__label sk-toggleable__label-arrow\">StandardScaler</label><div class=\"sk-toggleable__content\"><pre>StandardScaler()</pre></div></div></div><div class=\"sk-item\"><div class=\"sk-estimator sk-toggleable\"><input class=\"sk-toggleable__control sk-hidden--visually\" id=\"sk-estimator-id-3\" type=\"checkbox\" ><label for=\"sk-estimator-id-3\" class=\"sk-toggleable__label sk-toggleable__label-arrow\">GradientBoostingClassifier</label><div class=\"sk-toggleable__content\"><pre>GradientBoostingClassifier()</pre></div></div></div></div></div></div></div>"
      ],
      "text/plain": [
       "Pipeline(steps=[('scale', StandardScaler()),\n",
       "                ('model', GradientBoostingClassifier())])"
      ]
     },
     "execution_count": 43,
     "metadata": {},
     "output_type": "execute_result"
    }
   ],
   "source": [
    "model.fit(X_train, y_train.values.ravel())"
   ]
  },
  {
   "cell_type": "code",
   "execution_count": 44,
   "id": "af59f8c0",
   "metadata": {
    "execution": {
     "iopub.execute_input": "2025-07-30T14:23:00.333841Z",
     "iopub.status.busy": "2025-07-30T14:23:00.333349Z",
     "iopub.status.idle": "2025-07-30T14:23:00.339064Z",
     "shell.execute_reply": "2025-07-30T14:23:00.338186Z"
    },
    "papermill": {
     "duration": 0.033436,
     "end_time": "2025-07-30T14:23:00.340834",
     "exception": false,
     "start_time": "2025-07-30T14:23:00.307398",
     "status": "completed"
    },
    "tags": []
   },
   "outputs": [],
   "source": [
    "from fairness_multiverse.universe import predict_w_threshold"
   ]
  },
  {
   "cell_type": "code",
   "execution_count": 45,
   "id": "a7cf2e16",
   "metadata": {
    "execution": {
     "iopub.execute_input": "2025-07-30T14:23:00.392202Z",
     "iopub.status.busy": "2025-07-30T14:23:00.391520Z",
     "iopub.status.idle": "2025-07-30T14:23:01.177559Z",
     "shell.execute_reply": "2025-07-30T14:23:01.176590Z"
    },
    "papermill": {
     "duration": 0.813517,
     "end_time": "2025-07-30T14:23:01.179176",
     "exception": false,
     "start_time": "2025-07-30T14:23:00.365659",
     "status": "completed"
    },
    "tags": []
   },
   "outputs": [
    {
     "data": {
      "text/plain": [
       "0.8476201092408873"
      ]
     },
     "execution_count": 45,
     "metadata": {},
     "output_type": "execute_result"
    }
   ],
   "source": [
    "probs_test = model.predict_proba(X_test)\n",
    "\n",
    "'''\n",
    "Below code returns a boolean array (or binary 0/1 array depending on how it’s used) where each element \n",
    "is True if the probability of class 1 is greater than or equal to the threshold, and False otherwise.\n",
    "'''\n",
    "y_pred_default = predict_w_threshold(probs_test, 0.5)\n",
    "\n",
    "from sklearn.metrics import accuracy_score\n",
    "\n",
    "# Naive prediction\n",
    "accuracy_score(y_true = y_true, y_pred = y_pred_default)"
   ]
  },
  {
   "cell_type": "code",
   "execution_count": 46,
   "id": "081964c3",
   "metadata": {
    "execution": {
     "iopub.execute_input": "2025-07-30T14:23:01.230560Z",
     "iopub.status.busy": "2025-07-30T14:23:01.229842Z",
     "iopub.status.idle": "2025-07-30T14:23:01.983366Z",
     "shell.execute_reply": "2025-07-30T14:23:01.982376Z"
    },
    "papermill": {
     "duration": 0.781096,
     "end_time": "2025-07-30T14:23:01.984959",
     "exception": false,
     "start_time": "2025-07-30T14:23:01.203863",
     "status": "completed"
    },
    "tags": []
   },
   "outputs": [
    {
     "data": {
      "text/plain": [
       "array([0, 0, 0, ..., 0, 0, 0])"
      ]
     },
     "execution_count": 46,
     "metadata": {},
     "output_type": "execute_result"
    }
   ],
   "source": [
    "model.predict(X_test)"
   ]
  },
  {
   "cell_type": "markdown",
   "id": "56c9705b",
   "metadata": {
    "papermill": {
     "duration": 0.02445,
     "end_time": "2025-07-30T14:23:02.034143",
     "exception": false,
     "start_time": "2025-07-30T14:23:02.009693",
     "status": "completed"
    },
    "tags": []
   },
   "source": [
    "# Conformal Prediction"
   ]
  },
  {
   "cell_type": "code",
   "execution_count": 47,
   "id": "160ec6ff",
   "metadata": {
    "execution": {
     "iopub.execute_input": "2025-07-30T14:23:02.085676Z",
     "iopub.status.busy": "2025-07-30T14:23:02.084746Z",
     "iopub.status.idle": "2025-07-30T14:23:02.090032Z",
     "shell.execute_reply": "2025-07-30T14:23:02.089111Z"
    },
    "papermill": {
     "duration": 0.032914,
     "end_time": "2025-07-30T14:23:02.091734",
     "exception": false,
     "start_time": "2025-07-30T14:23:02.058820",
     "status": "completed"
    },
    "tags": []
   },
   "outputs": [],
   "source": [
    "# Miscoverage level for conformal prediction (10% allowed error rate => 90% target coverage)\n",
    "alpha = 0.1"
   ]
  },
  {
   "cell_type": "code",
   "execution_count": 48,
   "id": "eadf4555-3dd3-440e-8e35-f82a4ad9f855",
   "metadata": {
    "execution": {
     "iopub.execute_input": "2025-07-30T14:23:02.143310Z",
     "iopub.status.busy": "2025-07-30T14:23:02.142410Z",
     "iopub.status.idle": "2025-07-30T14:23:02.924983Z",
     "shell.execute_reply": "2025-07-30T14:23:02.923753Z"
    },
    "papermill": {
     "duration": 0.809219,
     "end_time": "2025-07-30T14:23:02.926644",
     "exception": false,
     "start_time": "2025-07-30T14:23:02.117425",
     "status": "completed"
    },
    "tags": []
   },
   "outputs": [],
   "source": [
    "probs_calib = model.predict_proba(X_calib)"
   ]
  },
  {
   "cell_type": "code",
   "execution_count": 49,
   "id": "2ed93547-6d5d-4983-9b36-1ecb300da49a",
   "metadata": {
    "execution": {
     "iopub.execute_input": "2025-07-30T14:23:02.979146Z",
     "iopub.status.busy": "2025-07-30T14:23:02.978659Z",
     "iopub.status.idle": "2025-07-30T14:23:02.983755Z",
     "shell.execute_reply": "2025-07-30T14:23:02.982918Z"
    },
    "papermill": {
     "duration": 0.033755,
     "end_time": "2025-07-30T14:23:02.985294",
     "exception": false,
     "start_time": "2025-07-30T14:23:02.951539",
     "status": "completed"
    },
    "tags": []
   },
   "outputs": [],
   "source": [
    "y_calib = y_calib.values.ravel().astype(int)"
   ]
  },
  {
   "cell_type": "code",
   "execution_count": 50,
   "id": "65d1320d-f588-4b38-9072-62af1ae97f7d",
   "metadata": {
    "execution": {
     "iopub.execute_input": "2025-07-30T14:23:03.037444Z",
     "iopub.status.busy": "2025-07-30T14:23:03.036930Z",
     "iopub.status.idle": "2025-07-30T14:23:03.046330Z",
     "shell.execute_reply": "2025-07-30T14:23:03.045287Z"
    },
    "papermill": {
     "duration": 0.038499,
     "end_time": "2025-07-30T14:23:03.048261",
     "exception": false,
     "start_time": "2025-07-30T14:23:03.009762",
     "status": "completed"
    },
    "tags": []
   },
   "outputs": [],
   "source": [
    "from fairness_multiverse.conformal import compute_nc_scores\n",
    "\n",
    "# Compute nonconformity scores on calibration set (1 - probability of true class)\n",
    "nc_scores = compute_nc_scores(probs_calib, y_calib)"
   ]
  },
  {
   "cell_type": "code",
   "execution_count": 51,
   "id": "df3b8ca3-53b7-43d5-9667-7c85da7aeda2",
   "metadata": {
    "execution": {
     "iopub.execute_input": "2025-07-30T14:23:03.101948Z",
     "iopub.status.busy": "2025-07-30T14:23:03.101232Z",
     "iopub.status.idle": "2025-07-30T14:23:03.108123Z",
     "shell.execute_reply": "2025-07-30T14:23:03.107107Z"
    },
    "papermill": {
     "duration": 0.035755,
     "end_time": "2025-07-30T14:23:03.109910",
     "exception": false,
     "start_time": "2025-07-30T14:23:03.074155",
     "status": "completed"
    },
    "tags": []
   },
   "outputs": [],
   "source": [
    "from fairness_multiverse.conformal import find_threshold\n",
    "\n",
    "# Find conformal threshold q_hat for the given alpha (split conformal method)\n",
    "q_hat = find_threshold(nc_scores, alpha)"
   ]
  },
  {
   "cell_type": "code",
   "execution_count": 52,
   "id": "4d29e6c1-0ef6-4aa4-b8fe-4fe79b0d033a",
   "metadata": {
    "execution": {
     "iopub.execute_input": "2025-07-30T14:23:03.162704Z",
     "iopub.status.busy": "2025-07-30T14:23:03.162037Z",
     "iopub.status.idle": "2025-07-30T14:23:03.169400Z",
     "shell.execute_reply": "2025-07-30T14:23:03.168261Z"
    },
    "papermill": {
     "duration": 0.035321,
     "end_time": "2025-07-30T14:23:03.171013",
     "exception": false,
     "start_time": "2025-07-30T14:23:03.135692",
     "status": "completed"
    },
    "tags": []
   },
   "outputs": [
    {
     "data": {
      "text/plain": [
       "0.7592787514101293"
      ]
     },
     "execution_count": 52,
     "metadata": {},
     "output_type": "execute_result"
    }
   ],
   "source": [
    "q_hat"
   ]
  },
  {
   "cell_type": "code",
   "execution_count": 53,
   "id": "92460794-cdac-4be2-ba28-f28c0515a6fb",
   "metadata": {
    "execution": {
     "iopub.execute_input": "2025-07-30T14:23:03.224194Z",
     "iopub.status.busy": "2025-07-30T14:23:03.223491Z",
     "iopub.status.idle": "2025-07-30T14:23:04.766436Z",
     "shell.execute_reply": "2025-07-30T14:23:04.765352Z"
    },
    "papermill": {
     "duration": 1.570828,
     "end_time": "2025-07-30T14:23:04.768365",
     "exception": false,
     "start_time": "2025-07-30T14:23:03.197537",
     "status": "completed"
    },
    "tags": []
   },
   "outputs": [],
   "source": [
    "from fairness_multiverse.conformal import predict_conformal_sets\n",
    "\n",
    "# Generate prediction sets for each test example\n",
    "pred_sets = predict_conformal_sets(model, X_test, q_hat)"
   ]
  },
  {
   "cell_type": "code",
   "execution_count": 54,
   "id": "d90c9a65-e6db-4f5d-80cd-e68fb7e46829",
   "metadata": {
    "execution": {
     "iopub.execute_input": "2025-07-30T14:23:04.822287Z",
     "iopub.status.busy": "2025-07-30T14:23:04.821443Z",
     "iopub.status.idle": "2025-07-30T14:23:04.827551Z",
     "shell.execute_reply": "2025-07-30T14:23:04.826512Z"
    },
    "papermill": {
     "duration": 0.034899,
     "end_time": "2025-07-30T14:23:04.829830",
     "exception": false,
     "start_time": "2025-07-30T14:23:04.794931",
     "status": "completed"
    },
    "tags": []
   },
   "outputs": [],
   "source": [
    "y_true = y_true.squeeze()"
   ]
  },
  {
   "cell_type": "code",
   "execution_count": 55,
   "id": "3a58a54a-1e68-46b9-927a-df01f18aebc8",
   "metadata": {
    "execution": {
     "iopub.execute_input": "2025-07-30T14:23:04.893554Z",
     "iopub.status.busy": "2025-07-30T14:23:04.892872Z",
     "iopub.status.idle": "2025-07-30T14:23:05.880907Z",
     "shell.execute_reply": "2025-07-30T14:23:05.879920Z"
    },
    "papermill": {
     "duration": 1.022768,
     "end_time": "2025-07-30T14:23:05.882423",
     "exception": false,
     "start_time": "2025-07-30T14:23:04.859655",
     "status": "completed"
    },
    "tags": []
   },
   "outputs": [],
   "source": [
    "from fairness_multiverse.conformal import evaluate_sets\n",
    "\n",
    "# Evaluate coverage and average set size on test data\n",
    "metrics = evaluate_sets(pred_sets, y_true)"
   ]
  },
  {
   "cell_type": "markdown",
   "id": "2b569c12-9aaa-4c88-98c9-bbcd0cf3ebb8",
   "metadata": {
    "papermill": {
     "duration": 0.026095,
     "end_time": "2025-07-30T14:23:05.931221",
     "exception": false,
     "start_time": "2025-07-30T14:23:05.905126",
     "status": "completed"
    },
    "tags": []
   },
   "source": [
    "# CP Metrics"
   ]
  },
  {
   "cell_type": "code",
   "execution_count": 56,
   "id": "5ce0a5cb-201f-45a0-ade5-94c7f0bd6095",
   "metadata": {
    "execution": {
     "iopub.execute_input": "2025-07-30T14:23:05.990543Z",
     "iopub.status.busy": "2025-07-30T14:23:05.990066Z",
     "iopub.status.idle": "2025-07-30T14:23:05.997332Z",
     "shell.execute_reply": "2025-07-30T14:23:05.996325Z"
    },
    "papermill": {
     "duration": 0.041657,
     "end_time": "2025-07-30T14:23:05.999047",
     "exception": false,
     "start_time": "2025-07-30T14:23:05.957390",
     "status": "completed"
    },
    "tags": []
   },
   "outputs": [
    {
     "data": {
      "text/plain": [
       "{'coverage': 0.908516330397949, 'avg_size': 1.1628803923754318}"
      ]
     },
     "execution_count": 56,
     "metadata": {},
     "output_type": "execute_result"
    }
   ],
   "source": [
    "metrics"
   ]
  },
  {
   "cell_type": "code",
   "execution_count": 57,
   "id": "9b9a838d-31c9-430b-ae14-12baee460d17",
   "metadata": {
    "execution": {
     "iopub.execute_input": "2025-07-30T14:23:06.056779Z",
     "iopub.status.busy": "2025-07-30T14:23:06.056290Z",
     "iopub.status.idle": "2025-07-30T14:23:06.063019Z",
     "shell.execute_reply": "2025-07-30T14:23:06.061698Z"
    },
    "papermill": {
     "duration": 0.037172,
     "end_time": "2025-07-30T14:23:06.064815",
     "exception": false,
     "start_time": "2025-07-30T14:23:06.027643",
     "status": "completed"
    },
    "tags": []
   },
   "outputs": [],
   "source": [
    "example_universe = universe.copy()\n",
    "universe_training_size = example_universe.get(\"training_size\")\n",
    "universe_scale = example_universe.get(\"scale\")\n",
    "universe_model = example_universe.get(\"model\")\n",
    "universe_exclude_features = example_universe.get(\"exclude_features\")\n",
    "universe_exclude_subgroups = example_universe.get(\"exclude_subgroups\")"
   ]
  },
  {
   "cell_type": "code",
   "execution_count": 58,
   "id": "f4b6a8ac-9dc0-4245-8a91-5b3b5999c4f9",
   "metadata": {
    "execution": {
     "iopub.execute_input": "2025-07-30T14:23:06.094931Z",
     "iopub.status.busy": "2025-07-30T14:23:06.094530Z",
     "iopub.status.idle": "2025-07-30T14:23:06.099136Z",
     "shell.execute_reply": "2025-07-30T14:23:06.098445Z"
    },
    "papermill": {
     "duration": 0.019562,
     "end_time": "2025-07-30T14:23:06.100431",
     "exception": false,
     "start_time": "2025-07-30T14:23:06.080869",
     "status": "completed"
    },
    "tags": []
   },
   "outputs": [],
   "source": [
    "cp_metrics_dict = {\n",
    "    \"universe_id\": [universe_id],\n",
    "    \"universe_training_size\": [universe_training_size],\n",
    "    \"universe_scale\": [universe_scale],\n",
    "    \"universe_model\": [universe_model],\n",
    "    \"universe_exclude_features\": [universe_exclude_features],\n",
    "    \"universe_exclude_subgroups\": [universe_exclude_subgroups],\n",
    "    \"q_hat\": [q_hat],\n",
    "    \"coverage\": [metrics[\"coverage\"]],\n",
    "    \"avg_size\": [metrics[\"avg_size\"]],\n",
    "}"
   ]
  },
  {
   "cell_type": "code",
   "execution_count": 59,
   "id": "908acbb1-0371-4915-85ca-3fa520d2efe2",
   "metadata": {
    "execution": {
     "iopub.execute_input": "2025-07-30T14:23:06.130937Z",
     "iopub.status.busy": "2025-07-30T14:23:06.130441Z",
     "iopub.status.idle": "2025-07-30T14:23:06.136788Z",
     "shell.execute_reply": "2025-07-30T14:23:06.136060Z"
    },
    "papermill": {
     "duration": 0.022119,
     "end_time": "2025-07-30T14:23:06.138028",
     "exception": false,
     "start_time": "2025-07-30T14:23:06.115909",
     "status": "completed"
    },
    "tags": []
   },
   "outputs": [
    {
     "data": {
      "text/plain": [
       "{'universe_id': ['43daa3c46ff376b6d9347eb910665c3d'],\n",
       " 'universe_training_size': ['1k'],\n",
       " 'universe_scale': ['scale'],\n",
       " 'universe_model': ['gbm'],\n",
       " 'universe_exclude_features': ['age'],\n",
       " 'universe_exclude_subgroups': ['drop-non-german'],\n",
       " 'q_hat': [0.7592787514101293],\n",
       " 'coverage': [0.908516330397949],\n",
       " 'avg_size': [1.1628803923754318]}"
      ]
     },
     "execution_count": 59,
     "metadata": {},
     "output_type": "execute_result"
    }
   ],
   "source": [
    "cp_metrics_dict"
   ]
  },
  {
   "cell_type": "code",
   "execution_count": 60,
   "id": "33007efc-14e9-4ec6-97ac-56a455c82265",
   "metadata": {
    "execution": {
     "iopub.execute_input": "2025-07-30T14:23:06.165694Z",
     "iopub.status.busy": "2025-07-30T14:23:06.165176Z",
     "iopub.status.idle": "2025-07-30T14:23:06.171029Z",
     "shell.execute_reply": "2025-07-30T14:23:06.170347Z"
    },
    "papermill": {
     "duration": 0.021381,
     "end_time": "2025-07-30T14:23:06.172398",
     "exception": false,
     "start_time": "2025-07-30T14:23:06.151017",
     "status": "completed"
    },
    "tags": []
   },
   "outputs": [],
   "source": [
    "cp_metrics_df = pd.DataFrame(cp_metrics_dict)"
   ]
  },
  {
   "cell_type": "code",
   "execution_count": 61,
   "id": "db12611b-57b2-4910-b9d0-355adfd6e7bf",
   "metadata": {
    "execution": {
     "iopub.execute_input": "2025-07-30T14:23:06.200711Z",
     "iopub.status.busy": "2025-07-30T14:23:06.200026Z",
     "iopub.status.idle": "2025-07-30T14:23:06.212962Z",
     "shell.execute_reply": "2025-07-30T14:23:06.212250Z"
    },
    "papermill": {
     "duration": 0.02776,
     "end_time": "2025-07-30T14:23:06.214249",
     "exception": false,
     "start_time": "2025-07-30T14:23:06.186489",
     "status": "completed"
    },
    "tags": []
   },
   "outputs": [
    {
     "data": {
      "text/html": [
       "<div>\n",
       "<style scoped>\n",
       "    .dataframe tbody tr th:only-of-type {\n",
       "        vertical-align: middle;\n",
       "    }\n",
       "\n",
       "    .dataframe tbody tr th {\n",
       "        vertical-align: top;\n",
       "    }\n",
       "\n",
       "    .dataframe thead th {\n",
       "        text-align: right;\n",
       "    }\n",
       "</style>\n",
       "<table border=\"1\" class=\"dataframe\">\n",
       "  <thead>\n",
       "    <tr style=\"text-align: right;\">\n",
       "      <th></th>\n",
       "      <th>universe_id</th>\n",
       "      <th>universe_training_size</th>\n",
       "      <th>universe_scale</th>\n",
       "      <th>universe_model</th>\n",
       "      <th>universe_exclude_features</th>\n",
       "      <th>universe_exclude_subgroups</th>\n",
       "      <th>q_hat</th>\n",
       "      <th>coverage</th>\n",
       "      <th>avg_size</th>\n",
       "    </tr>\n",
       "  </thead>\n",
       "  <tbody>\n",
       "    <tr>\n",
       "      <th>0</th>\n",
       "      <td>43daa3c46ff376b6d9347eb910665c3d</td>\n",
       "      <td>1k</td>\n",
       "      <td>scale</td>\n",
       "      <td>gbm</td>\n",
       "      <td>age</td>\n",
       "      <td>drop-non-german</td>\n",
       "      <td>0.759279</td>\n",
       "      <td>0.908516</td>\n",
       "      <td>1.16288</td>\n",
       "    </tr>\n",
       "  </tbody>\n",
       "</table>\n",
       "</div>"
      ],
      "text/plain": [
       "                        universe_id universe_training_size universe_scale  \\\n",
       "0  43daa3c46ff376b6d9347eb910665c3d                     1k          scale   \n",
       "\n",
       "  universe_model universe_exclude_features universe_exclude_subgroups  \\\n",
       "0            gbm                       age            drop-non-german   \n",
       "\n",
       "      q_hat  coverage  avg_size  \n",
       "0  0.759279  0.908516   1.16288  "
      ]
     },
     "execution_count": 61,
     "metadata": {},
     "output_type": "execute_result"
    }
   ],
   "source": [
    "cp_metrics_df"
   ]
  },
  {
   "cell_type": "code",
   "execution_count": 62,
   "id": "b7fbde55-a0a1-47e4-9af6-fe4a17fa8c61",
   "metadata": {
    "execution": {
     "iopub.execute_input": "2025-07-30T14:23:06.245744Z",
     "iopub.status.busy": "2025-07-30T14:23:06.245129Z",
     "iopub.status.idle": "2025-07-30T14:23:06.249970Z",
     "shell.execute_reply": "2025-07-30T14:23:06.249054Z"
    },
    "papermill": {
     "duration": 0.020209,
     "end_time": "2025-07-30T14:23:06.251646",
     "exception": false,
     "start_time": "2025-07-30T14:23:06.231437",
     "status": "completed"
    },
    "tags": []
   },
   "outputs": [],
   "source": [
    "# Conditional Coverage & looking at subgroups"
   ]
  },
  {
   "cell_type": "code",
   "execution_count": 63,
   "id": "027ae886-68dd-4141-96c7-805a5450e1ef",
   "metadata": {
    "execution": {
     "iopub.execute_input": "2025-07-30T14:23:06.304471Z",
     "iopub.status.busy": "2025-07-30T14:23:06.303691Z",
     "iopub.status.idle": "2025-07-30T14:23:06.586769Z",
     "shell.execute_reply": "2025-07-30T14:23:06.585720Z"
    },
    "papermill": {
     "duration": 0.310748,
     "end_time": "2025-07-30T14:23:06.588701",
     "exception": false,
     "start_time": "2025-07-30T14:23:06.277953",
     "status": "completed"
    },
    "tags": []
   },
   "outputs": [],
   "source": [
    "from fairness_multiverse.conformal import build_cp_groups\n",
    "\n",
    "cp_groups_df = build_cp_groups(pred_sets, y_true, X_test.index, org_test)\n",
    "#needs universe_id and setting"
   ]
  },
  {
   "cell_type": "code",
   "execution_count": 64,
   "id": "01d5802c-663a-4d1f-9d69-e036faaffbf7",
   "metadata": {
    "execution": {
     "iopub.execute_input": "2025-07-30T14:23:06.643493Z",
     "iopub.status.busy": "2025-07-30T14:23:06.642971Z",
     "iopub.status.idle": "2025-07-30T14:23:06.648699Z",
     "shell.execute_reply": "2025-07-30T14:23:06.647591Z"
    },
    "papermill": {
     "duration": 0.035929,
     "end_time": "2025-07-30T14:23:06.650748",
     "exception": false,
     "start_time": "2025-07-30T14:23:06.614819",
     "status": "completed"
    },
    "tags": []
   },
   "outputs": [],
   "source": [
    "#delete\n",
    "#cp_groups_df"
   ]
  },
  {
   "cell_type": "code",
   "execution_count": 65,
   "id": "fa424af1-d1eb-443d-b717-2d279ada8408",
   "metadata": {
    "execution": {
     "iopub.execute_input": "2025-07-30T14:23:06.704529Z",
     "iopub.status.busy": "2025-07-30T14:23:06.703843Z",
     "iopub.status.idle": "2025-07-30T14:23:06.709144Z",
     "shell.execute_reply": "2025-07-30T14:23:06.708185Z"
    },
    "papermill": {
     "duration": 0.033251,
     "end_time": "2025-07-30T14:23:06.710771",
     "exception": false,
     "start_time": "2025-07-30T14:23:06.677520",
     "status": "completed"
    },
    "tags": []
   },
   "outputs": [],
   "source": [
    "#delete\n",
    "#percentage = (cp_groups_df['nongerman_female'] == 1).mean() * 100\n",
    "#print(percentage)\n"
   ]
  },
  {
   "cell_type": "code",
   "execution_count": 66,
   "id": "6cbdab96-b2b2-45af-ad54-d0516db2e28d",
   "metadata": {
    "execution": {
     "iopub.execute_input": "2025-07-30T14:23:06.764642Z",
     "iopub.status.busy": "2025-07-30T14:23:06.763808Z",
     "iopub.status.idle": "2025-07-30T14:23:08.473576Z",
     "shell.execute_reply": "2025-07-30T14:23:08.472592Z"
    },
    "papermill": {
     "duration": 1.737875,
     "end_time": "2025-07-30T14:23:08.475427",
     "exception": false,
     "start_time": "2025-07-30T14:23:06.737552",
     "status": "completed"
    },
    "tags": []
   },
   "outputs": [],
   "source": [
    "# Define covered = 1 if true_label is in the predicted set\n",
    "cp_groups_df['covered'] = cp_groups_df.apply(\n",
    "    lambda r: int(r['true_label'] in r['pred_set']),\n",
    "    axis=1\n",
    ")"
   ]
  },
  {
   "cell_type": "code",
   "execution_count": 67,
   "id": "338ff529-1a6b-4b87-a931-8e4788d52aad",
   "metadata": {
    "execution": {
     "iopub.execute_input": "2025-07-30T14:23:08.537420Z",
     "iopub.status.busy": "2025-07-30T14:23:08.536711Z",
     "iopub.status.idle": "2025-07-30T14:23:08.541942Z",
     "shell.execute_reply": "2025-07-30T14:23:08.540982Z"
    },
    "papermill": {
     "duration": 0.037554,
     "end_time": "2025-07-30T14:23:08.543607",
     "exception": false,
     "start_time": "2025-07-30T14:23:08.506053",
     "status": "completed"
    },
    "tags": []
   },
   "outputs": [],
   "source": [
    "#cp_groups_df"
   ]
  },
  {
   "cell_type": "code",
   "execution_count": 68,
   "id": "90032e27-66df-4540-9169-4e89cfbaa758",
   "metadata": {
    "execution": {
     "iopub.execute_input": "2025-07-30T14:23:08.599051Z",
     "iopub.status.busy": "2025-07-30T14:23:08.598398Z",
     "iopub.status.idle": "2025-07-30T14:23:08.613846Z",
     "shell.execute_reply": "2025-07-30T14:23:08.612567Z"
    },
    "papermill": {
     "duration": 0.044974,
     "end_time": "2025-07-30T14:23:08.615608",
     "exception": false,
     "start_time": "2025-07-30T14:23:08.570634",
     "status": "completed"
    },
    "tags": []
   },
   "outputs": [],
   "source": [
    "subgroups = ['frau1','nongerman','nongerman_male','nongerman_female']\n",
    "\n",
    "# Conditional coverage for subgroup==1\n",
    "cond_coverage = {\n",
    "    g: cp_groups_df.loc[cp_groups_df[g]==1, 'covered'].mean()\n",
    "    for g in subgroups\n",
    "}"
   ]
  },
  {
   "cell_type": "code",
   "execution_count": 69,
   "id": "1e348fb1-b9c3-45bc-ba23-f016827a7e0d",
   "metadata": {
    "execution": {
     "iopub.execute_input": "2025-07-30T14:23:08.672488Z",
     "iopub.status.busy": "2025-07-30T14:23:08.671875Z",
     "iopub.status.idle": "2025-07-30T14:23:08.679788Z",
     "shell.execute_reply": "2025-07-30T14:23:08.678865Z"
    },
    "papermill": {
     "duration": 0.038851,
     "end_time": "2025-07-30T14:23:08.681514",
     "exception": false,
     "start_time": "2025-07-30T14:23:08.642663",
     "status": "completed"
    },
    "tags": []
   },
   "outputs": [
    {
     "data": {
      "text/plain": [
       "{'frau1': 0.9077234128588758,\n",
       " 'nongerman': 0.9072026048391624,\n",
       " 'nongerman_male': 0.9234441142033685,\n",
       " 'nongerman_female': 0.8803278688524591}"
      ]
     },
     "execution_count": 69,
     "metadata": {},
     "output_type": "execute_result"
    }
   ],
   "source": [
    "cond_coverage"
   ]
  },
  {
   "cell_type": "code",
   "execution_count": 70,
   "id": "f5093324-c3dd-4d63-bc4c-8d945e5c8bbb",
   "metadata": {
    "execution": {
     "iopub.execute_input": "2025-07-30T14:23:08.737685Z",
     "iopub.status.busy": "2025-07-30T14:23:08.736971Z",
     "iopub.status.idle": "2025-07-30T14:23:08.746655Z",
     "shell.execute_reply": "2025-07-30T14:23:08.744624Z"
    },
    "papermill": {
     "duration": 0.042641,
     "end_time": "2025-07-30T14:23:08.751262",
     "exception": false,
     "start_time": "2025-07-30T14:23:08.708621",
     "status": "completed"
    },
    "tags": []
   },
   "outputs": [],
   "source": [
    "for subgroup, cov in cond_coverage.items():\n",
    "    cp_metrics_df[f\"cov_{subgroup}\"] = cov"
   ]
  },
  {
   "cell_type": "code",
   "execution_count": 71,
   "id": "6e872e10-dbe5-49e8-b554-5030c98ff75d",
   "metadata": {
    "execution": {
     "iopub.execute_input": "2025-07-30T14:23:08.808229Z",
     "iopub.status.busy": "2025-07-30T14:23:08.807249Z",
     "iopub.status.idle": "2025-07-30T14:23:08.837710Z",
     "shell.execute_reply": "2025-07-30T14:23:08.836503Z"
    },
    "papermill": {
     "duration": 0.060665,
     "end_time": "2025-07-30T14:23:08.839790",
     "exception": false,
     "start_time": "2025-07-30T14:23:08.779125",
     "status": "completed"
    },
    "tags": []
   },
   "outputs": [
    {
     "data": {
      "text/html": [
       "<div>\n",
       "<style scoped>\n",
       "    .dataframe tbody tr th:only-of-type {\n",
       "        vertical-align: middle;\n",
       "    }\n",
       "\n",
       "    .dataframe tbody tr th {\n",
       "        vertical-align: top;\n",
       "    }\n",
       "\n",
       "    .dataframe thead th {\n",
       "        text-align: right;\n",
       "    }\n",
       "</style>\n",
       "<table border=\"1\" class=\"dataframe\">\n",
       "  <thead>\n",
       "    <tr style=\"text-align: right;\">\n",
       "      <th></th>\n",
       "      <th>universe_id</th>\n",
       "      <th>universe_training_size</th>\n",
       "      <th>universe_scale</th>\n",
       "      <th>universe_model</th>\n",
       "      <th>universe_exclude_features</th>\n",
       "      <th>universe_exclude_subgroups</th>\n",
       "      <th>q_hat</th>\n",
       "      <th>coverage</th>\n",
       "      <th>avg_size</th>\n",
       "      <th>cov_frau1</th>\n",
       "      <th>cov_nongerman</th>\n",
       "      <th>cov_nongerman_male</th>\n",
       "      <th>cov_nongerman_female</th>\n",
       "    </tr>\n",
       "  </thead>\n",
       "  <tbody>\n",
       "    <tr>\n",
       "      <th>0</th>\n",
       "      <td>43daa3c46ff376b6d9347eb910665c3d</td>\n",
       "      <td>1k</td>\n",
       "      <td>scale</td>\n",
       "      <td>gbm</td>\n",
       "      <td>age</td>\n",
       "      <td>drop-non-german</td>\n",
       "      <td>0.759279</td>\n",
       "      <td>0.908516</td>\n",
       "      <td>1.16288</td>\n",
       "      <td>0.907723</td>\n",
       "      <td>0.907203</td>\n",
       "      <td>0.923444</td>\n",
       "      <td>0.880328</td>\n",
       "    </tr>\n",
       "  </tbody>\n",
       "</table>\n",
       "</div>"
      ],
      "text/plain": [
       "                        universe_id universe_training_size universe_scale  \\\n",
       "0  43daa3c46ff376b6d9347eb910665c3d                     1k          scale   \n",
       "\n",
       "  universe_model universe_exclude_features universe_exclude_subgroups  \\\n",
       "0            gbm                       age            drop-non-german   \n",
       "\n",
       "      q_hat  coverage  avg_size  cov_frau1  cov_nongerman  cov_nongerman_male  \\\n",
       "0  0.759279  0.908516   1.16288   0.907723       0.907203            0.923444   \n",
       "\n",
       "   cov_nongerman_female  \n",
       "0              0.880328  "
      ]
     },
     "execution_count": 71,
     "metadata": {},
     "output_type": "execute_result"
    }
   ],
   "source": [
    "cp_metrics_df"
   ]
  },
  {
   "cell_type": "markdown",
   "id": "33774451",
   "metadata": {
    "papermill": {
     "duration": 0.026869,
     "end_time": "2025-07-30T14:23:08.895970",
     "exception": false,
     "start_time": "2025-07-30T14:23:08.869101",
     "status": "completed"
    },
    "tags": []
   },
   "source": [
    "# (Fairness) Metrics"
   ]
  },
  {
   "cell_type": "code",
   "execution_count": 72,
   "id": "debc5d62",
   "metadata": {
    "execution": {
     "iopub.execute_input": "2025-07-30T14:23:08.955791Z",
     "iopub.status.busy": "2025-07-30T14:23:08.955139Z",
     "iopub.status.idle": "2025-07-30T14:23:08.976086Z",
     "shell.execute_reply": "2025-07-30T14:23:08.975142Z"
    },
    "papermill": {
     "duration": 0.054192,
     "end_time": "2025-07-30T14:23:08.978099",
     "exception": false,
     "start_time": "2025-07-30T14:23:08.923907",
     "status": "completed"
    },
    "tags": []
   },
   "outputs": [],
   "source": [
    "# do I need to include maxdeutsch1.missing?\n",
    "\n",
    "import numpy as np\n",
    "\n",
    "colname_to_bin = \"maxdeutsch1\"\n",
    "majority_value = org_train[colname_to_bin].mode()[0]\n",
    "\n",
    "org_test[\"majmin\"] = np.where(org_test[colname_to_bin] == majority_value, \"majority\", \"minority\")"
   ]
  },
  {
   "cell_type": "code",
   "execution_count": 73,
   "id": "06a50de5",
   "metadata": {
    "execution": {
     "iopub.execute_input": "2025-07-30T14:23:09.035305Z",
     "iopub.status.busy": "2025-07-30T14:23:09.034812Z",
     "iopub.status.idle": "2025-07-30T14:23:11.840225Z",
     "shell.execute_reply": "2025-07-30T14:23:11.839135Z"
    },
    "papermill": {
     "duration": 2.835721,
     "end_time": "2025-07-30T14:23:11.842219",
     "exception": false,
     "start_time": "2025-07-30T14:23:09.006498",
     "status": "completed"
    },
    "tags": []
   },
   "outputs": [],
   "source": [
    "example_universe = universe.copy()\n",
    "example_universe[\"cutoff\"] = example_universe[\"cutoff\"][0]\n",
    "example_universe[\"eval_fairness_grouping\"] = example_universe[\"eval_fairness_grouping\"][0]\n",
    "fairness_dict, metric_frame = universe_analysis.compute_metrics(\n",
    "    example_universe,\n",
    "    y_pred_prob=probs_test,\n",
    "    y_test=y_true,\n",
    "    org_test=org_test,\n",
    ")"
   ]
  },
  {
   "cell_type": "markdown",
   "id": "f95d4e02",
   "metadata": {
    "papermill": {
     "duration": 0.027859,
     "end_time": "2025-07-30T14:23:11.911578",
     "exception": false,
     "start_time": "2025-07-30T14:23:11.883719",
     "status": "completed"
    },
    "tags": []
   },
   "source": [
    "# Overall"
   ]
  },
  {
   "cell_type": "markdown",
   "id": "bdee4871",
   "metadata": {
    "papermill": {
     "duration": 0.029572,
     "end_time": "2025-07-30T14:23:11.968598",
     "exception": false,
     "start_time": "2025-07-30T14:23:11.939026",
     "status": "completed"
    },
    "tags": []
   },
   "source": [
    "Fairness\n",
    "Main fairness target: Equalized Odds. Seems to be a better fit than equal opportunity, since we're not only interested in Y = 1. Seems to be a better fit than demographic parity, since we also care about accuracy, not just equal distribution of preds.\n",
    "\n",
    "Pick column for computation of fairness metrics\n",
    "\n",
    "Performance\n",
    "Overall performance measures, most interesting in relation to the measures split by group below"
   ]
  },
  {
   "cell_type": "code",
   "execution_count": 74,
   "id": "c4e067c6",
   "metadata": {
    "execution": {
     "iopub.execute_input": "2025-07-30T14:23:12.026920Z",
     "iopub.status.busy": "2025-07-30T14:23:12.025626Z",
     "iopub.status.idle": "2025-07-30T14:23:12.036921Z",
     "shell.execute_reply": "2025-07-30T14:23:12.035706Z"
    },
    "papermill": {
     "duration": 0.041523,
     "end_time": "2025-07-30T14:23:12.038687",
     "exception": false,
     "start_time": "2025-07-30T14:23:11.997164",
     "status": "completed"
    },
    "tags": []
   },
   "outputs": [
    {
     "data": {
      "text/plain": [
       "accuracy                   0.220522\n",
       "balanced accuracy          0.540013\n",
       "f1                         0.241959\n",
       "precision                  0.138223\n",
       "false positive rate        0.889734\n",
       "false negative rate        0.030240\n",
       "selection rate             0.900000\n",
       "count                  89710.000000\n",
       "dtype: float64"
      ]
     },
     "execution_count": 74,
     "metadata": {},
     "output_type": "execute_result"
    }
   ],
   "source": [
    "metric_frame.overall"
   ]
  },
  {
   "cell_type": "markdown",
   "id": "e968fe9d",
   "metadata": {
    "papermill": {
     "duration": 0.029694,
     "end_time": "2025-07-30T14:23:12.097856",
     "exception": false,
     "start_time": "2025-07-30T14:23:12.068162",
     "status": "completed"
    },
    "tags": []
   },
   "source": [
    "By Group"
   ]
  },
  {
   "cell_type": "code",
   "execution_count": 75,
   "id": "ec325bce",
   "metadata": {
    "execution": {
     "iopub.execute_input": "2025-07-30T14:23:12.157028Z",
     "iopub.status.busy": "2025-07-30T14:23:12.156554Z",
     "iopub.status.idle": "2025-07-30T14:23:12.172582Z",
     "shell.execute_reply": "2025-07-30T14:23:12.171519Z"
    },
    "papermill": {
     "duration": 0.047305,
     "end_time": "2025-07-30T14:23:12.174247",
     "exception": false,
     "start_time": "2025-07-30T14:23:12.126942",
     "status": "completed"
    },
    "tags": []
   },
   "outputs": [
    {
     "data": {
      "text/html": [
       "<div>\n",
       "<style scoped>\n",
       "    .dataframe tbody tr th:only-of-type {\n",
       "        vertical-align: middle;\n",
       "    }\n",
       "\n",
       "    .dataframe tbody tr th {\n",
       "        vertical-align: top;\n",
       "    }\n",
       "\n",
       "    .dataframe thead th {\n",
       "        text-align: right;\n",
       "    }\n",
       "</style>\n",
       "<table border=\"1\" class=\"dataframe\">\n",
       "  <thead>\n",
       "    <tr style=\"text-align: right;\">\n",
       "      <th></th>\n",
       "      <th>accuracy</th>\n",
       "      <th>balanced accuracy</th>\n",
       "      <th>f1</th>\n",
       "      <th>precision</th>\n",
       "      <th>false positive rate</th>\n",
       "      <th>false negative rate</th>\n",
       "      <th>selection rate</th>\n",
       "      <th>count</th>\n",
       "    </tr>\n",
       "    <tr>\n",
       "      <th>majmin</th>\n",
       "      <th></th>\n",
       "      <th></th>\n",
       "      <th></th>\n",
       "      <th></th>\n",
       "      <th></th>\n",
       "      <th></th>\n",
       "      <th></th>\n",
       "      <th></th>\n",
       "    </tr>\n",
       "  </thead>\n",
       "  <tbody>\n",
       "    <tr>\n",
       "      <th>majority</th>\n",
       "      <td>0.238788</td>\n",
       "      <td>0.547207</td>\n",
       "      <td>0.251227</td>\n",
       "      <td>0.144380</td>\n",
       "      <td>0.871997</td>\n",
       "      <td>0.033589</td>\n",
       "      <td>0.884473</td>\n",
       "      <td>69170.0</td>\n",
       "    </tr>\n",
       "    <tr>\n",
       "      <th>minority</th>\n",
       "      <td>0.159007</td>\n",
       "      <td>0.517179</td>\n",
       "      <td>0.212240</td>\n",
       "      <td>0.118967</td>\n",
       "      <td>0.948327</td>\n",
       "      <td>0.017314</td>\n",
       "      <td>0.952288</td>\n",
       "      <td>20540.0</td>\n",
       "    </tr>\n",
       "  </tbody>\n",
       "</table>\n",
       "</div>"
      ],
      "text/plain": [
       "          accuracy  balanced accuracy        f1  precision  \\\n",
       "majmin                                                       \n",
       "majority  0.238788           0.547207  0.251227   0.144380   \n",
       "minority  0.159007           0.517179  0.212240   0.118967   \n",
       "\n",
       "          false positive rate  false negative rate  selection rate    count  \n",
       "majmin                                                                       \n",
       "majority             0.871997             0.033589        0.884473  69170.0  \n",
       "minority             0.948327             0.017314        0.952288  20540.0  "
      ]
     },
     "execution_count": 75,
     "metadata": {},
     "output_type": "execute_result"
    }
   ],
   "source": [
    "metric_frame.by_group"
   ]
  },
  {
   "cell_type": "code",
   "execution_count": 76,
   "id": "a9ddbe63",
   "metadata": {
    "execution": {
     "iopub.execute_input": "2025-07-30T14:23:12.230121Z",
     "iopub.status.busy": "2025-07-30T14:23:12.229611Z",
     "iopub.status.idle": "2025-07-30T14:23:14.496361Z",
     "shell.execute_reply": "2025-07-30T14:23:14.495414Z"
    },
    "papermill": {
     "duration": 2.297109,
     "end_time": "2025-07-30T14:23:14.498086",
     "exception": false,
     "start_time": "2025-07-30T14:23:12.200977",
     "status": "completed"
    },
    "tags": []
   },
   "outputs": [
    {
     "data": {
      "text/plain": [
       "array([[<Axes: title={'center': 'accuracy'}, xlabel='majmin'>,\n",
       "        <Axes: title={'center': 'balanced accuracy'}, xlabel='majmin'>,\n",
       "        <Axes: title={'center': 'f1'}, xlabel='majmin'>],\n",
       "       [<Axes: title={'center': 'precision'}, xlabel='majmin'>,\n",
       "        <Axes: title={'center': 'false positive rate'}, xlabel='majmin'>,\n",
       "        <Axes: title={'center': 'false negative rate'}, xlabel='majmin'>],\n",
       "       [<Axes: title={'center': 'selection rate'}, xlabel='majmin'>,\n",
       "        <Axes: title={'center': 'count'}, xlabel='majmin'>,\n",
       "        <Axes: xlabel='majmin'>]], dtype=object)"
      ]
     },
     "execution_count": 76,
     "metadata": {},
     "output_type": "execute_result"
    },
    {
     "data": {
      "image/png": "[encoded data removed]",
      "text/plain": [
       "<Figure size 1200x800 with 9 Axes>"
      ]
     },
     "metadata": {},
     "output_type": "display_data"
    }
   ],
   "source": [
    "# In a graphic\n",
    "metric_frame.by_group.plot.bar(\n",
    "    subplots=True,\n",
    "    layout=[3, 3],\n",
    "    legend=False,\n",
    "    figsize=[12, 8],\n",
    "    title=\"Show all metrics\",\n",
    ")"
   ]
  },
  {
   "cell_type": "markdown",
   "id": "f57a0bac",
   "metadata": {
    "papermill": {
     "duration": 0.03105,
     "end_time": "2025-07-30T14:23:14.564188",
     "exception": false,
     "start_time": "2025-07-30T14:23:14.533138",
     "status": "completed"
    },
    "tags": []
   },
   "source": [
    "# Final Output"
   ]
  },
  {
   "cell_type": "code",
   "execution_count": 77,
   "id": "96d280a3",
   "metadata": {
    "execution": {
     "iopub.execute_input": "2025-07-30T14:23:14.628379Z",
     "iopub.status.busy": "2025-07-30T14:23:14.627547Z",
     "iopub.status.idle": "2025-07-30T14:23:14.635517Z",
     "shell.execute_reply": "2025-07-30T14:23:14.634655Z"
    },
    "papermill": {
     "duration": 0.041747,
     "end_time": "2025-07-30T14:23:14.637140",
     "exception": false,
     "start_time": "2025-07-30T14:23:14.595393",
     "status": "completed"
    },
    "tags": []
   },
   "outputs": [
    {
     "data": {
      "text/plain": [
       "4"
      ]
     },
     "execution_count": 77,
     "metadata": {},
     "output_type": "execute_result"
    }
   ],
   "source": [
    "sub_universes = universe_analysis.generate_sub_universes()\n",
    "len(sub_universes)"
   ]
  },
  {
   "cell_type": "code",
   "execution_count": 78,
   "id": "92adf7ba",
   "metadata": {
    "execution": {
     "iopub.execute_input": "2025-07-30T14:23:14.701224Z",
     "iopub.status.busy": "2025-07-30T14:23:14.700404Z",
     "iopub.status.idle": "2025-07-30T14:23:14.706260Z",
     "shell.execute_reply": "2025-07-30T14:23:14.705341Z"
    },
    "papermill": {
     "duration": 0.039442,
     "end_time": "2025-07-30T14:23:14.707888",
     "exception": false,
     "start_time": "2025-07-30T14:23:14.668446",
     "status": "completed"
    },
    "tags": []
   },
   "outputs": [],
   "source": [
    "def filter_sub_universe_data(sub_universe, org_test):\n",
    "    # Keep all rows — no filtering\n",
    "    keep_rows_mask = np.ones(org_test.shape[0], dtype=bool)\n",
    "\n",
    "    print(f\"[INFO] Keeping all rows: {keep_rows_mask.sum()} rows retained.\")\n",
    "    return keep_rows_mask"
   ]
  },
  {
   "cell_type": "code",
   "execution_count": null,
   "id": "4a759155",
   "metadata": {
    "papermill": {
     "duration": null,
     "end_time": null,
     "exception": false,
     "start_time": "2025-07-30T14:23:14.739204",
     "status": "running"
    },
    "tags": []
   },
   "outputs": [],
   "source": [
    "final_output = universe_analysis.generate_final_output(\n",
    "    y_pred_prob=probs_test,\n",
    "    y_test=y_true,\n",
    "    org_test=org_test,\n",
    "    filter_data=filter_sub_universe_data,\n",
    "    cp_metrics_df=cp_metrics_df,\n",
    "    save=True,\n",
    ")\n",
    "final_output"
   ]
  },
  {
   "cell_type": "code",
   "execution_count": null,
   "id": "721ff514-cb11-46f8-b6fc-50392f74b5cb",
   "metadata": {
    "papermill": {
     "duration": null,
     "end_time": null,
     "exception": null,
     "start_time": null,
     "status": "pending"
    },
    "tags": []
   },
   "outputs": [],
   "source": []
  }
 ],
 "metadata": {
  "celltoolbar": "Tags",
  "kernelspec": {
   "display_name": "Python (CMA Fairness)",
   "language": "python",
   "name": "cma_fair_env"
  },
  "language_info": {
   "codemirror_mode": {
    "name": "ipython",
    "version": 3
   },
   "file_extension": ".py",
   "mimetype": "text/x-python",
   "name": "python",
   "nbconvert_exporter": "python",
   "pygments_lexer": "ipython3",
   "version": "3.10.12"
  },
  "papermill": {
   "default_parameters": {},
   "duration": null,
   "end_time": null,
   "environment_variables": {},
   "exception": null,
   "input_path": "universe_analysis.ipynb",
   "output_path": "output/runs/12/notebooks/m_12-43daa3c46ff376b6d9347eb910665c3d.ipynb",
   "parameters": {
    "output_dir": "output",
    "run_no": "12",
    "seed": "2023",
    "universe": "{\"cutoff\": [\"quantile_0.1\", \"quantile_0.25\"], \"eval_fairness_grouping\": [\"majority-minority\", \"nationality-all\"], \"exclude_features\": \"age\", \"exclude_subgroups\": \"drop-non-german\", \"model\": \"gbm\", \"scale\": \"scale\", \"training_size\": \"1k\", \"training_year\": \"2014\"}",
    "universe_id": "43daa3c46ff376b6d9347eb910665c3d"
   },
   "start_time": "2025-07-30T14:22:42.454623",
   "version": "2.6.0"
  }
 },
 "nbformat": 4,
 "nbformat_minor": 5
}