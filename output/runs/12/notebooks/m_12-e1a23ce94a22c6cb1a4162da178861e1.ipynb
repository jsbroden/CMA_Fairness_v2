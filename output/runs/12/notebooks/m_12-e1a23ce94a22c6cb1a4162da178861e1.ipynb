{
 "cells": [
  {
   "cell_type": "code",
   "execution_count": 1,
   "id": "f159f837-637b-42ba-96b5-ec9a68c44524",
   "metadata": {
    "execution": {
     "iopub.execute_input": "2025-07-30T12:51:42.668001Z",
     "iopub.status.busy": "2025-07-30T12:51:42.667609Z",
     "iopub.status.idle": "2025-07-30T12:51:42.679454Z",
     "shell.execute_reply": "2025-07-30T12:51:42.678664Z"
    },
    "papermill": {
     "duration": 0.0244,
     "end_time": "2025-07-30T12:51:42.680753",
     "exception": false,
     "start_time": "2025-07-30T12:51:42.656353",
     "status": "completed"
    },
    "tags": []
   },
   "outputs": [
    {
     "name": "stdout",
     "output_type": "stream",
     "text": [
      "/dss/dsshome1/0C/ra93lal2/cma/CMA_Fairness_v2\n"
     ]
    },
    {
     "name": "stderr",
     "output_type": "stream",
     "text": [
      "/dss/dsshome1/0C/ra93lal2/.local/share/virtualenvs/CMA_Fairness_v2-3j10GkSs/lib/python3.10/site-packages/IPython/core/magics/osm.py:393: UserWarning: This is now an optional IPython functionality, using bookmarks requires you to install the `pickleshare` library.\n",
      "  bkms = self.shell.db.get('bookmarks', {})\n",
      "/dss/dsshome1/0C/ra93lal2/.local/share/virtualenvs/CMA_Fairness_v2-3j10GkSs/lib/python3.10/site-packages/IPython/core/magics/osm.py:417: UserWarning: This is now an optional IPython functionality, setting dhist requires you to install the `pickleshare` library.\n",
      "  self.shell.db['dhist'] = compress_dhist(dhist)[-100:]\n"
     ]
    }
   ],
   "source": [
    "%cd ~/cma/CMA_Fairness_v2"
   ]
  },
  {
   "cell_type": "markdown",
   "id": "de2603b9",
   "metadata": {
    "papermill": {
     "duration": 0.018116,
     "end_time": "2025-07-30T12:51:42.710423",
     "exception": false,
     "start_time": "2025-07-30T12:51:42.692307",
     "status": "completed"
    },
    "tags": []
   },
   "source": [
    "The following cell holds the definition of our parameters, these values can be overriden by rendering the with e.g. the following command:\n",
    "\n",
    "papermill -p alpha 0.2 -p ratio 0.3 universe_analysis.ipynb output/test_run.ipynb"
   ]
  },
  {
   "cell_type": "code",
   "execution_count": 2,
   "id": "a80968a0-40bb-4fa9-85ef-2d5eefb01975",
   "metadata": {
    "execution": {
     "iopub.execute_input": "2025-07-30T12:51:42.748566Z",
     "iopub.status.busy": "2025-07-30T12:51:42.748235Z",
     "iopub.status.idle": "2025-07-30T12:51:42.752302Z",
     "shell.execute_reply": "2025-07-30T12:51:42.751522Z"
    },
    "papermill": {
     "duration": 0.024441,
     "end_time": "2025-07-30T12:51:42.754790",
     "exception": false,
     "start_time": "2025-07-30T12:51:42.730349",
     "status": "completed"
    },
    "tags": []
   },
   "outputs": [
    {
     "name": "stdout",
     "output_type": "stream",
     "text": [
      "Current working directory: /dss/dsshome1/0C/ra93lal2/cma/CMA_Fairness_v2\n"
     ]
    }
   ],
   "source": [
    "import os\n",
    "print(\"Current working directory:\", os.getcwd())"
   ]
  },
  {
   "cell_type": "code",
   "execution_count": 3,
   "id": "2dce4c03",
   "metadata": {
    "execution": {
     "iopub.execute_input": "2025-07-30T12:51:42.779443Z",
     "iopub.status.busy": "2025-07-30T12:51:42.778936Z",
     "iopub.status.idle": "2025-07-30T12:51:42.785498Z",
     "shell.execute_reply": "2025-07-30T12:51:42.784381Z"
    },
    "papermill": {
     "duration": 0.021756,
     "end_time": "2025-07-30T12:51:42.787086",
     "exception": false,
     "start_time": "2025-07-30T12:51:42.765330",
     "status": "completed"
    },
    "tags": [
     "parameters"
    ]
   },
   "outputs": [],
   "source": [
    "run_no = 0\n",
    "universe_id = \"test\"\n",
    "universe = {\n",
    "    \"training_size\": \"25k\", # \"25k\", \"5k\", \"1k\"\n",
    "    \"training_year\": \"2014\", # \"2014\", \"2012_14\", \"2010_14\"\n",
    "    \"scale\": \"scale\", # \"scale\", \"do-not-scale\",\n",
    "    #\"stratify_split\": \"target\", # \"none\", \"target\", \"protected-attribute\", \"both\",\n",
    "    \"model\": \"elasticnet\", # \"logreg\", \"penalized_logreg\", \"rf\", \"gbm\", \"elasticnet\"\n",
    "    \"cutoff\": [\"quantile_0.15\", \"quantile_0.30\"],\n",
    "    \"exclude_features\": \"age\", # \"none\", \"nationality\", \"sex\", \"nationality-sex\", \"age\"\n",
    "    \"exclude_subgroups\": \"keep-all\", # \"keep-all\", \"drop-non-german\"\n",
    "    \"eval_fairness_grouping\": [\"majority-minority\", \"nationality-all\"]\n",
    "}\n",
    "\n",
    "output_dir=\"./output\"\n",
    "seed=0"
   ]
  },
  {
   "cell_type": "code",
   "execution_count": 4,
   "id": "256b1da1",
   "metadata": {
    "execution": {
     "iopub.execute_input": "2025-07-30T12:51:42.827466Z",
     "iopub.status.busy": "2025-07-30T12:51:42.827023Z",
     "iopub.status.idle": "2025-07-30T12:51:42.832338Z",
     "shell.execute_reply": "2025-07-30T12:51:42.831241Z"
    },
    "papermill": {
     "duration": 0.027021,
     "end_time": "2025-07-30T12:51:42.834067",
     "exception": false,
     "start_time": "2025-07-30T12:51:42.807046",
     "status": "completed"
    },
    "tags": [
     "injected-parameters"
    ]
   },
   "outputs": [],
   "source": [
    "# Parameters\n",
    "universe_id = \"e1a23ce94a22c6cb1a4162da178861e1\"\n",
    "run_no = \"12\"\n",
    "universe = \"{\\\"cutoff\\\": [\\\"quantile_0.1\\\", \\\"quantile_0.25\\\"], \\\"eval_fairness_grouping\\\": [\\\"majority-minority\\\", \\\"nationality-all\\\"], \\\"exclude_features\\\": \\\"nationality-sex\\\", \\\"exclude_subgroups\\\": \\\"keep-all\\\", \\\"model\\\": \\\"elasticnet\\\", \\\"scale\\\": \\\"scale\\\", \\\"training_size\\\": \\\"25k\\\", \\\"training_year\\\": \\\"2014\\\"}\"\n",
    "output_dir = \"output\"\n",
    "seed = \"2023\"\n"
   ]
  },
  {
   "cell_type": "code",
   "execution_count": 5,
   "id": "1650acaf",
   "metadata": {
    "execution": {
     "iopub.execute_input": "2025-07-30T12:51:42.877429Z",
     "iopub.status.busy": "2025-07-30T12:51:42.877026Z",
     "iopub.status.idle": "2025-07-30T12:51:42.881804Z",
     "shell.execute_reply": "2025-07-30T12:51:42.880972Z"
    },
    "papermill": {
     "duration": 0.027678,
     "end_time": "2025-07-30T12:51:42.883489",
     "exception": false,
     "start_time": "2025-07-30T12:51:42.855811",
     "status": "completed"
    },
    "tags": []
   },
   "outputs": [],
   "source": [
    "import json\n",
    "# Parse universe into dict if it is passed as a string\n",
    "if isinstance(universe, str):\n",
    "    universe = json.loads(universe)"
   ]
  },
  {
   "cell_type": "code",
   "execution_count": 6,
   "id": "16620c48",
   "metadata": {
    "execution": {
     "iopub.execute_input": "2025-07-30T12:51:42.925060Z",
     "iopub.status.busy": "2025-07-30T12:51:42.924444Z",
     "iopub.status.idle": "2025-07-30T12:51:42.970860Z",
     "shell.execute_reply": "2025-07-30T12:51:42.969751Z"
    },
    "papermill": {
     "duration": 0.068783,
     "end_time": "2025-07-30T12:51:42.973253",
     "exception": false,
     "start_time": "2025-07-30T12:51:42.904470",
     "status": "completed"
    },
    "tags": []
   },
   "outputs": [],
   "source": [
    "# Auto-reload the custom package\n",
    "%load_ext autoreload\n",
    "%autoreload 1\n",
    "%aimport fairness_multiverse"
   ]
  },
  {
   "cell_type": "code",
   "execution_count": 7,
   "id": "01c5c9f3",
   "metadata": {
    "execution": {
     "iopub.execute_input": "2025-07-30T12:51:43.016073Z",
     "iopub.status.busy": "2025-07-30T12:51:43.015236Z",
     "iopub.status.idle": "2025-07-30T12:51:45.040731Z",
     "shell.execute_reply": "2025-07-30T12:51:45.039503Z"
    },
    "papermill": {
     "duration": 2.048771,
     "end_time": "2025-07-30T12:51:45.042740",
     "exception": false,
     "start_time": "2025-07-30T12:51:42.993969",
     "status": "completed"
    },
    "tags": []
   },
   "outputs": [],
   "source": [
    "from fairness_multiverse.universe import UniverseAnalysis\n",
    "\n",
    "universe_analysis = UniverseAnalysis(\n",
    "    run_no = run_no,\n",
    "    universe_id = universe_id,\n",
    "    universe = universe,\n",
    "    output_dir=output_dir,\n",
    ")"
   ]
  },
  {
   "cell_type": "code",
   "execution_count": 8,
   "id": "106241f5",
   "metadata": {
    "execution": {
     "iopub.execute_input": "2025-07-30T12:51:45.082835Z",
     "iopub.status.busy": "2025-07-30T12:51:45.082341Z",
     "iopub.status.idle": "2025-07-30T12:51:45.088883Z",
     "shell.execute_reply": "2025-07-30T12:51:45.087861Z"
    },
    "papermill": {
     "duration": 0.028473,
     "end_time": "2025-07-30T12:51:45.090477",
     "exception": false,
     "start_time": "2025-07-30T12:51:45.062004",
     "status": "completed"
    },
    "tags": []
   },
   "outputs": [
    {
     "name": "stdout",
     "output_type": "stream",
     "text": [
      "Using Seed: 2023\n"
     ]
    }
   ],
   "source": [
    "import numpy as np\n",
    "parsed_seed = int(seed)\n",
    "np.random.seed(parsed_seed)\n",
    "print(f\"Using Seed: {parsed_seed}\")"
   ]
  },
  {
   "cell_type": "markdown",
   "id": "e0ebdc57",
   "metadata": {
    "papermill": {
     "duration": 0.018211,
     "end_time": "2025-07-30T12:51:45.127417",
     "exception": false,
     "start_time": "2025-07-30T12:51:45.109206",
     "status": "completed"
    },
    "tags": []
   },
   "source": [
    "# Loading Data"
   ]
  },
  {
   "cell_type": "markdown",
   "id": "681925a3",
   "metadata": {
    "papermill": {
     "duration": 0.01793,
     "end_time": "2025-07-30T12:51:45.163502",
     "exception": false,
     "start_time": "2025-07-30T12:51:45.145572",
     "status": "completed"
    },
    "tags": []
   },
   "source": [
    "Load siab_train, siab_test, siab_calib and/or \n",
    "load siab_train_features, siab_train_labels"
   ]
  },
  {
   "cell_type": "code",
   "execution_count": 9,
   "id": "f0496b8a",
   "metadata": {
    "execution": {
     "iopub.execute_input": "2025-07-30T12:51:45.201702Z",
     "iopub.status.busy": "2025-07-30T12:51:45.201233Z",
     "iopub.status.idle": "2025-07-30T12:51:57.756297Z",
     "shell.execute_reply": "2025-07-30T12:51:57.748735Z"
    },
    "papermill": {
     "duration": 12.576164,
     "end_time": "2025-07-30T12:51:57.758124",
     "exception": false,
     "start_time": "2025-07-30T12:51:45.181960",
     "status": "completed"
    },
    "tags": []
   },
   "outputs": [
    {
     "name": "stdout",
     "output_type": "stream",
     "text": [
      "Loading SIAB data from cache: data/siab_cached.csv.gz\n"
     ]
    },
    {
     "name": "stdout",
     "output_type": "stream",
     "text": [
      "(643690, 164)\n"
     ]
    }
   ],
   "source": [
    "from pathlib import Path\n",
    "import pandas as pd\n",
    "\n",
    "# File paths\n",
    "raw_file = Path(\"data/raw/siab.csv\")\n",
    "cache_file = Path(\"data/siab_cached.csv.gz\")\n",
    "\n",
    "# Ensure cache directory exists\n",
    "cache_file.parent.mkdir(parents=True, exist_ok=True)\n",
    "\n",
    "# Load with simple caching\n",
    "if cache_file.exists():\n",
    "    print(f\"Loading SIAB data from cache: {cache_file}\")\n",
    "    siab = pd.read_csv(cache_file, compression='gzip')\n",
    "else:\n",
    "    print(f\"Cache not found. Reading raw SIAB data: {raw_file}\")\n",
    "    siab = pd.read_csv(raw_file)\n",
    "    siab.to_csv(cache_file, index=False, compression='gzip')\n",
    "    print(f\"Cached SIAB data to: {cache_file}\")\n",
    "\n",
    "# Now use `siab` DataFrame as needed\n",
    "print(siab.shape)"
   ]
  },
  {
   "cell_type": "code",
   "execution_count": 10,
   "id": "db0ca512-5f53-4dba-abdb-a2888bca41ba",
   "metadata": {
    "execution": {
     "iopub.execute_input": "2025-07-30T12:51:57.803330Z",
     "iopub.status.busy": "2025-07-30T12:51:57.802394Z",
     "iopub.status.idle": "2025-07-30T12:51:57.809791Z",
     "shell.execute_reply": "2025-07-30T12:51:57.808606Z"
    },
    "papermill": {
     "duration": 0.029214,
     "end_time": "2025-07-30T12:51:57.811908",
     "exception": false,
     "start_time": "2025-07-30T12:51:57.782694",
     "status": "completed"
    },
    "tags": []
   },
   "outputs": [],
   "source": [
    "#siab"
   ]
  },
  {
   "cell_type": "code",
   "execution_count": 11,
   "id": "a0edb063",
   "metadata": {
    "execution": {
     "iopub.execute_input": "2025-07-30T12:51:57.856669Z",
     "iopub.status.busy": "2025-07-30T12:51:57.855933Z",
     "iopub.status.idle": "2025-07-30T12:51:57.861114Z",
     "shell.execute_reply": "2025-07-30T12:51:57.860310Z"
    },
    "papermill": {
     "duration": 0.028096,
     "end_time": "2025-07-30T12:51:57.862638",
     "exception": false,
     "start_time": "2025-07-30T12:51:57.834542",
     "status": "completed"
    },
    "tags": []
   },
   "outputs": [],
   "source": [
    "#import pandas as pd\n",
    "#\n",
    "#X_train = pd.read_csv(\"./data/X_train.csv\")\n",
    "#y_train = pd.read_csv(\"./data/y_train.csv\")"
   ]
  },
  {
   "cell_type": "code",
   "execution_count": 12,
   "id": "63d08085",
   "metadata": {
    "execution": {
     "iopub.execute_input": "2025-07-30T12:51:57.886376Z",
     "iopub.status.busy": "2025-07-30T12:51:57.886041Z",
     "iopub.status.idle": "2025-07-30T12:51:57.889949Z",
     "shell.execute_reply": "2025-07-30T12:51:57.889257Z"
    },
    "papermill": {
     "duration": 0.016675,
     "end_time": "2025-07-30T12:51:57.891229",
     "exception": false,
     "start_time": "2025-07-30T12:51:57.874554",
     "status": "completed"
    },
    "tags": []
   },
   "outputs": [],
   "source": [
    "#X_test = pd.read_csv(\"./data/X_test.csv\")\n",
    "#y_true = pd.read_csv(\"./data/y_test.csv\")"
   ]
  },
  {
   "cell_type": "code",
   "execution_count": 13,
   "id": "98a8d0fa-1d3d-4ed8-bb2c-281470e24add",
   "metadata": {
    "execution": {
     "iopub.execute_input": "2025-07-30T12:51:57.932884Z",
     "iopub.status.busy": "2025-07-30T12:51:57.932373Z",
     "iopub.status.idle": "2025-07-30T12:51:57.937461Z",
     "shell.execute_reply": "2025-07-30T12:51:57.936501Z"
    },
    "papermill": {
     "duration": 0.03144,
     "end_time": "2025-07-30T12:51:57.939175",
     "exception": false,
     "start_time": "2025-07-30T12:51:57.907735",
     "status": "completed"
    },
    "tags": []
   },
   "outputs": [],
   "source": [
    "# Calibration data for conformal\n",
    "#X_calib = pd.read_csv(\"./data/X_calib.csv\")\n",
    "#y_calib = pd.read_csv(\"./data/y_calib.csv\")"
   ]
  },
  {
   "cell_type": "markdown",
   "id": "997051c5-15bd-4b69-9786-c3001a3ce484",
   "metadata": {
    "papermill": {
     "duration": 0.022702,
     "end_time": "2025-07-30T12:51:57.984812",
     "exception": false,
     "start_time": "2025-07-30T12:51:57.962110",
     "status": "completed"
    },
    "tags": []
   },
   "source": [
    "# Splitting Data and Setting Training Data Size"
   ]
  },
  {
   "cell_type": "code",
   "execution_count": 14,
   "id": "e993b61f-042d-41a6-8c81-f55681f86335",
   "metadata": {
    "execution": {
     "iopub.execute_input": "2025-07-30T12:51:58.030327Z",
     "iopub.status.busy": "2025-07-30T12:51:58.029792Z",
     "iopub.status.idle": "2025-07-30T12:51:58.044364Z",
     "shell.execute_reply": "2025-07-30T12:51:58.043269Z"
    },
    "papermill": {
     "duration": 0.039639,
     "end_time": "2025-07-30T12:51:58.046086",
     "exception": false,
     "start_time": "2025-07-30T12:51:58.006447",
     "status": "completed"
    },
    "tags": []
   },
   "outputs": [],
   "source": [
    "def sample_by_year_size(df,\n",
    "                        training_year: str,\n",
    "                        training_size: str,\n",
    "                        random_state: int = 42):\n",
    "    # --- parse training_year into a list of int years ---\n",
    "    if \"_\" in training_year:\n",
    "        start_str, end_str = training_year.split(\"_\", 1)\n",
    "        start = int(start_str)\n",
    "        end   = int(end_str) if len(end_str) == 4 else (int(end_str) + (start // 100)*100)\n",
    "        years = list(range(start, end + 1))\n",
    "    else:\n",
    "        years = [int(training_year)]\n",
    "\n",
    "    df = df[df[\"year\"].isin(years)].reset_index(drop=True)\n",
    "\n",
    "    # --- map training_size to total number of samples ---\n",
    "    total_map = {\"25k\": 25_000, \"5k\": 5_000, \"1k\": 1_000}\n",
    "    if training_size not in total_map:\n",
    "        return df  # e.g. \"all\"\n",
    "\n",
    "    total_samples = total_map[training_size]\n",
    "    n_years       = len(years)\n",
    "    base          = total_samples // n_years\n",
    "    remainder     = total_samples % n_years\n",
    "\n",
    "    # --- build a dict: year -> how many to sample ---\n",
    "    # give +1 to the first `remainder` years in ascending order\n",
    "    quotas = {\n",
    "        year: base + (1 if idx < remainder else 0)\n",
    "        for idx, year in enumerate(sorted(years))\n",
    "    }\n",
    "\n",
    "    # --- sample per‐year according to the quota dict ---\n",
    "    sampled = (\n",
    "        df\n",
    "        .groupby(\"year\", group_keys=False)\n",
    "        .apply(lambda grp: grp.sample(\n",
    "            n=min(len(grp), quotas[grp.name]),\n",
    "            random_state=random_state))\n",
    "        .reset_index(drop=True)\n",
    "    )\n",
    "\n",
    "    return sampled"
   ]
  },
  {
   "cell_type": "code",
   "execution_count": 15,
   "id": "c0ccd338-0e02-41f3-a09d-f56f9266e3fb",
   "metadata": {
    "execution": {
     "iopub.execute_input": "2025-07-30T12:51:58.091588Z",
     "iopub.status.busy": "2025-07-30T12:51:58.090964Z",
     "iopub.status.idle": "2025-07-30T12:51:58.107363Z",
     "shell.execute_reply": "2025-07-30T12:51:58.106040Z"
    },
    "papermill": {
     "duration": 0.041585,
     "end_time": "2025-07-30T12:51:58.109354",
     "exception": false,
     "start_time": "2025-07-30T12:51:58.067769",
     "status": "completed"
    },
    "tags": []
   },
   "outputs": [
    {
     "data": {
      "text/plain": [
       "'25k'"
      ]
     },
     "execution_count": 15,
     "metadata": {},
     "output_type": "execute_result"
    }
   ],
   "source": [
    "universe[\"training_size\"]"
   ]
  },
  {
   "cell_type": "code",
   "execution_count": 16,
   "id": "ca707fd7-8047-4acd-bfa5-66248fbbf8e6",
   "metadata": {
    "execution": {
     "iopub.execute_input": "2025-07-30T12:51:58.154001Z",
     "iopub.status.busy": "2025-07-30T12:51:58.153500Z",
     "iopub.status.idle": "2025-07-30T12:51:58.160959Z",
     "shell.execute_reply": "2025-07-30T12:51:58.160086Z"
    },
    "papermill": {
     "duration": 0.031687,
     "end_time": "2025-07-30T12:51:58.162748",
     "exception": false,
     "start_time": "2025-07-30T12:51:58.131061",
     "status": "completed"
    },
    "tags": []
   },
   "outputs": [
    {
     "data": {
      "text/plain": [
       "'2014'"
      ]
     },
     "execution_count": 16,
     "metadata": {},
     "output_type": "execute_result"
    }
   ],
   "source": [
    "universe[\"training_year\"]"
   ]
  },
  {
   "cell_type": "code",
   "execution_count": 17,
   "id": "aea9c6ef-6f46-42c8-85eb-5a62025c1508",
   "metadata": {
    "execution": {
     "iopub.execute_input": "2025-07-30T12:51:58.206903Z",
     "iopub.status.busy": "2025-07-30T12:51:58.206388Z",
     "iopub.status.idle": "2025-07-30T12:51:58.534092Z",
     "shell.execute_reply": "2025-07-30T12:51:58.532983Z"
    },
    "papermill": {
     "duration": 0.352435,
     "end_time": "2025-07-30T12:51:58.536443",
     "exception": false,
     "start_time": "2025-07-30T12:51:58.184008",
     "status": "completed"
    },
    "tags": []
   },
   "outputs": [],
   "source": [
    "siab_train = sample_by_year_size(siab,\n",
    "                               training_year=universe[\"training_year\"],\n",
    "                               training_size=universe[\"training_size\"])"
   ]
  },
  {
   "cell_type": "code",
   "execution_count": 18,
   "id": "8d3afb32-789d-442c-8d5d-9f5aa8dd2eed",
   "metadata": {
    "execution": {
     "iopub.execute_input": "2025-07-30T12:51:58.582213Z",
     "iopub.status.busy": "2025-07-30T12:51:58.581652Z",
     "iopub.status.idle": "2025-07-30T12:51:58.588757Z",
     "shell.execute_reply": "2025-07-30T12:51:58.587788Z"
    },
    "papermill": {
     "duration": 0.031885,
     "end_time": "2025-07-30T12:51:58.590445",
     "exception": false,
     "start_time": "2025-07-30T12:51:58.558560",
     "status": "completed"
    },
    "tags": []
   },
   "outputs": [
    {
     "data": {
      "text/plain": [
       "(25000, 164)"
      ]
     },
     "execution_count": 18,
     "metadata": {},
     "output_type": "execute_result"
    }
   ],
   "source": [
    "siab_train.shape"
   ]
  },
  {
   "cell_type": "code",
   "execution_count": 19,
   "id": "d582db68-1a4c-47fb-84fc-08518dc1975a",
   "metadata": {
    "execution": {
     "iopub.execute_input": "2025-07-30T12:51:58.638915Z",
     "iopub.status.busy": "2025-07-30T12:51:58.638474Z",
     "iopub.status.idle": "2025-07-30T12:51:58.657457Z",
     "shell.execute_reply": "2025-07-30T12:51:58.656289Z"
    },
    "papermill": {
     "duration": 0.045127,
     "end_time": "2025-07-30T12:51:58.659238",
     "exception": false,
     "start_time": "2025-07-30T12:51:58.614111",
     "status": "completed"
    },
    "tags": []
   },
   "outputs": [
    {
     "data": {
      "text/plain": [
       "year\n",
       "2014    25000\n",
       "dtype: int64"
      ]
     },
     "metadata": {},
     "output_type": "display_data"
    }
   ],
   "source": [
    "display(siab_train.groupby(\"year\").size())"
   ]
  },
  {
   "cell_type": "code",
   "execution_count": 20,
   "id": "a561edb4-d032-42cb-8256-22eac1111c64",
   "metadata": {
    "execution": {
     "iopub.execute_input": "2025-07-30T12:51:58.707095Z",
     "iopub.status.busy": "2025-07-30T12:51:58.706601Z",
     "iopub.status.idle": "2025-07-30T12:51:58.957786Z",
     "shell.execute_reply": "2025-07-30T12:51:58.956779Z"
    },
    "papermill": {
     "duration": 0.277357,
     "end_time": "2025-07-30T12:51:58.959813",
     "exception": false,
     "start_time": "2025-07-30T12:51:58.682456",
     "status": "completed"
    },
    "tags": []
   },
   "outputs": [],
   "source": [
    "#siab_train = siab_s[siab_s.year < 2015]\n",
    "siab_calib = siab[siab.year == 2015]\n",
    "siab_test = siab[siab.year == 2016]"
   ]
  },
  {
   "cell_type": "code",
   "execution_count": 21,
   "id": "472de16f-c3db-4916-846b-1f0de9cf1746",
   "metadata": {
    "execution": {
     "iopub.execute_input": "2025-07-30T12:51:59.006340Z",
     "iopub.status.busy": "2025-07-30T12:51:59.005826Z",
     "iopub.status.idle": "2025-07-30T12:51:59.034183Z",
     "shell.execute_reply": "2025-07-30T12:51:59.033156Z"
    },
    "papermill": {
     "duration": 0.053219,
     "end_time": "2025-07-30T12:51:59.035619",
     "exception": false,
     "start_time": "2025-07-30T12:51:58.982400",
     "status": "completed"
    },
    "tags": []
   },
   "outputs": [],
   "source": [
    "X_train = siab_train.iloc[:,4:164]\n",
    "y_train = siab_train.iloc[:, [3]]"
   ]
  },
  {
   "cell_type": "code",
   "execution_count": 22,
   "id": "828c96af-f43a-4ed6-ba47-8ac73a47d56c",
   "metadata": {
    "execution": {
     "iopub.execute_input": "2025-07-30T12:51:59.065109Z",
     "iopub.status.busy": "2025-07-30T12:51:59.064481Z",
     "iopub.status.idle": "2025-07-30T12:51:59.119688Z",
     "shell.execute_reply": "2025-07-30T12:51:59.118212Z"
    },
    "papermill": {
     "duration": 0.073486,
     "end_time": "2025-07-30T12:51:59.121651",
     "exception": false,
     "start_time": "2025-07-30T12:51:59.048165",
     "status": "completed"
    },
    "tags": []
   },
   "outputs": [],
   "source": [
    "X_calib = siab_calib.iloc[:,4:164]\n",
    "y_calib = siab_calib.iloc[:, [3]]"
   ]
  },
  {
   "cell_type": "code",
   "execution_count": 23,
   "id": "c34be9c3-6bd6-476e-acd3-845840e303be",
   "metadata": {
    "execution": {
     "iopub.execute_input": "2025-07-30T12:51:59.172137Z",
     "iopub.status.busy": "2025-07-30T12:51:59.171263Z",
     "iopub.status.idle": "2025-07-30T12:51:59.228298Z",
     "shell.execute_reply": "2025-07-30T12:51:59.227043Z"
    },
    "papermill": {
     "duration": 0.082622,
     "end_time": "2025-07-30T12:51:59.229797",
     "exception": false,
     "start_time": "2025-07-30T12:51:59.147175",
     "status": "completed"
    },
    "tags": []
   },
   "outputs": [],
   "source": [
    "X_test = siab_test.iloc[:,4:164]\n",
    "y_true = siab_test.iloc[:, [3]]"
   ]
  },
  {
   "cell_type": "markdown",
   "id": "9901737e-04df-44f0-9100-f5ad144ed040",
   "metadata": {
    "papermill": {
     "duration": 0.015901,
     "end_time": "2025-07-30T12:51:59.261082",
     "exception": false,
     "start_time": "2025-07-30T12:51:59.245181",
     "status": "completed"
    },
    "tags": []
   },
   "source": [
    "# Splitting Data and Setting Training Data Size OLD VERSION"
   ]
  },
  {
   "cell_type": "code",
   "execution_count": 24,
   "id": "acbc8f7d-8fc8-4e86-8c59-5dcb0f58384b",
   "metadata": {
    "execution": {
     "iopub.execute_input": "2025-07-30T12:51:59.292997Z",
     "iopub.status.busy": "2025-07-30T12:51:59.290872Z",
     "iopub.status.idle": "2025-07-30T12:51:59.300572Z",
     "shell.execute_reply": "2025-07-30T12:51:59.297431Z"
    },
    "papermill": {
     "duration": 0.028878,
     "end_time": "2025-07-30T12:51:59.302296",
     "exception": false,
     "start_time": "2025-07-30T12:51:59.273418",
     "status": "completed"
    },
    "tags": []
   },
   "outputs": [],
   "source": [
    "#def sample_by_year(df, training_size, random_state=42):\n",
    "#    if training_size == \"2014\":\n",
    "#        return df[df[\"year\"] == 2014].reset_index(drop=True)\n",
    "#    \n",
    "#    size_map = {\n",
    "#        \"25k\": 5000,\n",
    "#        \"5k\": 1000,\n",
    "#        \"1k\": 200\n",
    "#    }\n",
    "#\n",
    "#    if training_size not in size_map:\n",
    "#        return df.reset_index(drop=True)  # use all data\n",
    "#\n",
    "#    n_per_year = size_map[training_size]\n",
    "#    grouped = df.groupby(\"year\")\n",
    "#    sampled = grouped.apply(lambda x: x.sample(n=min(n_per_year, len(x)), random_state=random_state))\n",
    "#    return sampled.reset_index(drop=True)"
   ]
  },
  {
   "cell_type": "code",
   "execution_count": 25,
   "id": "6d931f52-beaf-43ff-9e78-9d44a448d54e",
   "metadata": {
    "execution": {
     "iopub.execute_input": "2025-07-30T12:51:59.426456Z",
     "iopub.status.busy": "2025-07-30T12:51:59.425940Z",
     "iopub.status.idle": "2025-07-30T12:51:59.431699Z",
     "shell.execute_reply": "2025-07-30T12:51:59.430746Z"
    },
    "papermill": {
     "duration": 0.109412,
     "end_time": "2025-07-30T12:51:59.433566",
     "exception": false,
     "start_time": "2025-07-30T12:51:59.324154",
     "status": "completed"
    },
    "tags": []
   },
   "outputs": [],
   "source": [
    "#siab_s = sample_by_year(siab, universe[\"training_size\"])"
   ]
  },
  {
   "cell_type": "code",
   "execution_count": 26,
   "id": "5db0a40e-a4e2-4920-be85-b12ae061d70d",
   "metadata": {
    "execution": {
     "iopub.execute_input": "2025-07-30T12:51:59.478881Z",
     "iopub.status.busy": "2025-07-30T12:51:59.478320Z",
     "iopub.status.idle": "2025-07-30T12:51:59.483734Z",
     "shell.execute_reply": "2025-07-30T12:51:59.482659Z"
    },
    "papermill": {
     "duration": 0.029888,
     "end_time": "2025-07-30T12:51:59.485312",
     "exception": false,
     "start_time": "2025-07-30T12:51:59.455424",
     "status": "completed"
    },
    "tags": []
   },
   "outputs": [],
   "source": [
    "#display(siab_s.groupby(\"year\").size())"
   ]
  },
  {
   "cell_type": "code",
   "execution_count": 27,
   "id": "e6c733c5",
   "metadata": {
    "execution": {
     "iopub.execute_input": "2025-07-30T12:51:59.529058Z",
     "iopub.status.busy": "2025-07-30T12:51:59.528704Z",
     "iopub.status.idle": "2025-07-30T12:51:59.648898Z",
     "shell.execute_reply": "2025-07-30T12:51:59.647903Z"
    },
    "papermill": {
     "duration": 0.144919,
     "end_time": "2025-07-30T12:51:59.651653",
     "exception": false,
     "start_time": "2025-07-30T12:51:59.506734",
     "status": "completed"
    },
    "tags": []
   },
   "outputs": [],
   "source": [
    "# Auxiliary data needed downstream in the pipeline\n",
    "\n",
    "org_train = X_train.copy()\n",
    "org_test = X_test.copy()\n",
    "org_calib = X_calib.copy()"
   ]
  },
  {
   "cell_type": "code",
   "execution_count": 28,
   "id": "1466abac-c6da-4492-a62f-4240ae3783af",
   "metadata": {
    "execution": {
     "iopub.execute_input": "2025-07-30T12:51:59.695499Z",
     "iopub.status.busy": "2025-07-30T12:51:59.694999Z",
     "iopub.status.idle": "2025-07-30T12:51:59.701126Z",
     "shell.execute_reply": "2025-07-30T12:51:59.700072Z"
    },
    "papermill": {
     "duration": 0.029807,
     "end_time": "2025-07-30T12:51:59.702676",
     "exception": false,
     "start_time": "2025-07-30T12:51:59.672869",
     "status": "completed"
    },
    "tags": []
   },
   "outputs": [],
   "source": [
    "# put in other script?\n",
    "# Group sizes\n",
    "\n",
    "#def calculate_percentages(df, df_name):\n",
    "#    total_entries = len(df)\n",
    "#\n",
    "#    female_pct = (df['frau1'] == 1).mean() * 100\n",
    "#    non_german_pct = ((df['maxdeutsch1'] == 0) & (df['maxdeutsch.Missing.'] == 0)).mean() * 100\n",
    "#    non_german_male_pct = ((df['frau1'] == 0) & (df['maxdeutsch1'] == 0) & (df['maxdeutsch.Missing.'] == 0)).mean() * 100\n",
    "#    non_german_female_pct = ((df['frau1'] == 1) & (df['maxdeutsch1'] == 0) & (df['maxdeutsch.Missing.'] == 0)).mean() * 100\n",
    "#\n",
    "#    print(f\"--- {df_name} ---\")\n",
    "#    print(f\"Female: {female_pct:.2f}%\")\n",
    "#    print(f\"Non-German: {non_german_pct:.2f}%\")\n",
    "#    print(f\"Non-German Male: {non_german_male_pct:.2f}%\")\n",
    "#    print(f\"Non-German Female: {non_german_female_pct:.2f}%\\n\")\n",
    "#\n",
    "## Calculate for each DataFrame\n",
    "#calculate_percentages(siab_calib, \"siab_calib\")\n",
    "#calculate_percentages(siab_test, \"siab_test\")\n",
    "#calculate_percentages(siab_train, \"siab_train\")"
   ]
  },
  {
   "cell_type": "markdown",
   "id": "0a4a1b33",
   "metadata": {
    "papermill": {
     "duration": 0.022961,
     "end_time": "2025-07-30T12:51:59.756619",
     "exception": false,
     "start_time": "2025-07-30T12:51:59.733658",
     "status": "completed"
    },
    "tags": []
   },
   "source": [
    "# Preprocessing Data"
   ]
  },
  {
   "cell_type": "code",
   "execution_count": 29,
   "id": "ca879031",
   "metadata": {
    "execution": {
     "iopub.execute_input": "2025-07-30T12:51:59.808003Z",
     "iopub.status.busy": "2025-07-30T12:51:59.807505Z",
     "iopub.status.idle": "2025-07-30T12:51:59.814110Z",
     "shell.execute_reply": "2025-07-30T12:51:59.812956Z"
    },
    "papermill": {
     "duration": 0.034574,
     "end_time": "2025-07-30T12:51:59.815931",
     "exception": false,
     "start_time": "2025-07-30T12:51:59.781357",
     "status": "completed"
    },
    "tags": []
   },
   "outputs": [],
   "source": [
    "# EXCLUDE PROTECTED FEATURES\n",
    "# ----------------------\n",
    "# \"exclude_features\": \"none\", # \"nationality\", \"sex\", \"nationality-sex\"\n",
    "\n",
    "excluded_features = universe[\"exclude_features\"].split(\"-\") # split, e.g.: \"nationality-sex\" -> [\"nationality\", \"sex\"]\n",
    "excluded_features_dictionary = {\n",
    "    \"nationality\": [\"maxdeutsch1\", \"maxdeutsch.Missing.\"],\n",
    "    \"sex\": [\"frau1\"],\n",
    "    \"age\": [\"age\"],\n",
    "}\n"
   ]
  },
  {
   "cell_type": "code",
   "execution_count": 30,
   "id": "b745ac60",
   "metadata": {
    "execution": {
     "iopub.execute_input": "2025-07-30T12:51:59.866264Z",
     "iopub.status.busy": "2025-07-30T12:51:59.865455Z",
     "iopub.status.idle": "2025-07-30T12:51:59.871319Z",
     "shell.execute_reply": "2025-07-30T12:51:59.870342Z"
    },
    "papermill": {
     "duration": 0.033289,
     "end_time": "2025-07-30T12:51:59.873119",
     "exception": false,
     "start_time": "2025-07-30T12:51:59.839830",
     "status": "completed"
    },
    "tags": []
   },
   "outputs": [],
   "source": [
    "# Code nice names to column names\n",
    "\n",
    "excluded_features_columns = [\n",
    "    excluded_features_dictionary[f] for f in excluded_features if len(f) > 0 and f != \"none\"\n",
    "]"
   ]
  },
  {
   "cell_type": "code",
   "execution_count": 31,
   "id": "f84f73a2",
   "metadata": {
    "execution": {
     "iopub.execute_input": "2025-07-30T12:51:59.912000Z",
     "iopub.status.busy": "2025-07-30T12:51:59.911467Z",
     "iopub.status.idle": "2025-07-30T12:51:59.918761Z",
     "shell.execute_reply": "2025-07-30T12:51:59.917628Z"
    },
    "papermill": {
     "duration": 0.026738,
     "end_time": "2025-07-30T12:51:59.921026",
     "exception": false,
     "start_time": "2025-07-30T12:51:59.894288",
     "status": "completed"
    },
    "tags": []
   },
   "outputs": [],
   "source": [
    "from utils import flatten_once\n",
    "\n",
    "excluded_features_columns = flatten_once(excluded_features_columns)"
   ]
  },
  {
   "cell_type": "code",
   "execution_count": 32,
   "id": "884dea22",
   "metadata": {
    "execution": {
     "iopub.execute_input": "2025-07-30T12:51:59.980692Z",
     "iopub.status.busy": "2025-07-30T12:51:59.980147Z",
     "iopub.status.idle": "2025-07-30T12:52:00.005242Z",
     "shell.execute_reply": "2025-07-30T12:52:00.004177Z"
    },
    "papermill": {
     "duration": 0.052696,
     "end_time": "2025-07-30T12:52:00.006828",
     "exception": false,
     "start_time": "2025-07-30T12:51:59.954132",
     "status": "completed"
    },
    "tags": []
   },
   "outputs": [
    {
     "name": "stdout",
     "output_type": "stream",
     "text": [
      "Dropping features: ['maxdeutsch1', 'maxdeutsch.Missing.', 'frau1']\n"
     ]
    }
   ],
   "source": [
    "if len(excluded_features_columns) > 0:\n",
    "    print(f\"Dropping features: {excluded_features_columns}\")\n",
    "    X_train.drop(excluded_features_columns, axis=1, inplace=True)"
   ]
  },
  {
   "cell_type": "code",
   "execution_count": 33,
   "id": "95ab8b16",
   "metadata": {
    "execution": {
     "iopub.execute_input": "2025-07-30T12:52:00.052341Z",
     "iopub.status.busy": "2025-07-30T12:52:00.051833Z",
     "iopub.status.idle": "2025-07-30T12:52:00.124696Z",
     "shell.execute_reply": "2025-07-30T12:52:00.123703Z"
    },
    "papermill": {
     "duration": 0.096857,
     "end_time": "2025-07-30T12:52:00.126531",
     "exception": false,
     "start_time": "2025-07-30T12:52:00.029674",
     "status": "completed"
    },
    "tags": []
   },
   "outputs": [
    {
     "name": "stdout",
     "output_type": "stream",
     "text": [
      "Dropping features: ['maxdeutsch1', 'maxdeutsch.Missing.', 'frau1']\n"
     ]
    }
   ],
   "source": [
    "if len(excluded_features_columns) > 0:\n",
    "    print(f\"Dropping features: {excluded_features_columns}\")\n",
    "    X_test.drop(excluded_features_columns, axis=1, inplace=True)"
   ]
  },
  {
   "cell_type": "code",
   "execution_count": 34,
   "id": "1853aaf5-fb9f-46cb-a2b5-8ea4ae2237e4",
   "metadata": {
    "execution": {
     "iopub.execute_input": "2025-07-30T12:52:00.180477Z",
     "iopub.status.busy": "2025-07-30T12:52:00.179756Z",
     "iopub.status.idle": "2025-07-30T12:52:00.232008Z",
     "shell.execute_reply": "2025-07-30T12:52:00.231148Z"
    },
    "papermill": {
     "duration": 0.080302,
     "end_time": "2025-07-30T12:52:00.233683",
     "exception": false,
     "start_time": "2025-07-30T12:52:00.153381",
     "status": "completed"
    },
    "tags": []
   },
   "outputs": [
    {
     "name": "stdout",
     "output_type": "stream",
     "text": [
      "Dropping features: ['maxdeutsch1', 'maxdeutsch.Missing.', 'frau1']\n"
     ]
    }
   ],
   "source": [
    "if len(excluded_features_columns) > 0:\n",
    "    print(f\"Dropping features: {excluded_features_columns}\")\n",
    "    X_calib.drop(excluded_features_columns, axis=1, inplace=True)"
   ]
  },
  {
   "cell_type": "code",
   "execution_count": 35,
   "id": "6727d079-03e5-481e-9d38-292a90b7a0a8",
   "metadata": {
    "execution": {
     "iopub.execute_input": "2025-07-30T12:52:00.279181Z",
     "iopub.status.busy": "2025-07-30T12:52:00.278727Z",
     "iopub.status.idle": "2025-07-30T12:52:00.283407Z",
     "shell.execute_reply": "2025-07-30T12:52:00.282497Z"
    },
    "papermill": {
     "duration": 0.029026,
     "end_time": "2025-07-30T12:52:00.285043",
     "exception": false,
     "start_time": "2025-07-30T12:52:00.256017",
     "status": "completed"
    },
    "tags": []
   },
   "outputs": [],
   "source": [
    "# SPLIT & STRATIFY DATA\n",
    "# ----------------------"
   ]
  },
  {
   "cell_type": "code",
   "execution_count": 36,
   "id": "76c4dc6d",
   "metadata": {
    "execution": {
     "iopub.execute_input": "2025-07-30T12:52:00.328763Z",
     "iopub.status.busy": "2025-07-30T12:52:00.328364Z",
     "iopub.status.idle": "2025-07-30T12:52:00.333332Z",
     "shell.execute_reply": "2025-07-30T12:52:00.332425Z"
    },
    "papermill": {
     "duration": 0.028684,
     "end_time": "2025-07-30T12:52:00.334941",
     "exception": false,
     "start_time": "2025-07-30T12:52:00.306257",
     "status": "completed"
    },
    "tags": []
   },
   "outputs": [],
   "source": [
    "# EXCLUDE CERTAIN SUBGROUPS\n",
    "# ----------------------\n",
    "\n",
    "mode = universe.get(\"exclude_subgroups\", \"keep-all\") \n",
    "# Fetches the exclude_subgroups setting from the universe dict.\n",
    "# Defaults to \"keep-all\" if the key is missing."
   ]
  },
  {
   "cell_type": "code",
   "execution_count": 37,
   "id": "21994072",
   "metadata": {
    "execution": {
     "iopub.execute_input": "2025-07-30T12:52:00.382581Z",
     "iopub.status.busy": "2025-07-30T12:52:00.382130Z",
     "iopub.status.idle": "2025-07-30T12:52:00.389765Z",
     "shell.execute_reply": "2025-07-30T12:52:00.388864Z"
    },
    "papermill": {
     "duration": 0.035208,
     "end_time": "2025-07-30T12:52:00.391351",
     "exception": false,
     "start_time": "2025-07-30T12:52:00.356143",
     "status": "completed"
    },
    "tags": []
   },
   "outputs": [],
   "source": [
    "if mode == \"keep-all\":\n",
    "    keep_mask = pd.Series(True, index=org_train.index)\n",
    "\n",
    "# org_train contains the original feature columns from features_org (in Simson)\n",
    "# features_org contains unprocessed features, for me X_train at beginning ???\n",
    "# For keep-all, creates a boolean Series (keep_mask) of all True, so no rows are removed.\n",
    "\n",
    "elif mode == \"drop-non-german\":\n",
    "    keep_mask = org_train[\"maxdeutsch1\"] == 1 # ??? what about missing values?\n",
    "\n",
    "else:\n",
    "    raise ValueError(f\"Unsupported mode for exclude_subgroups: {mode}\")\n"
   ]
  },
  {
   "cell_type": "code",
   "execution_count": 38,
   "id": "71651440",
   "metadata": {
    "execution": {
     "iopub.execute_input": "2025-07-30T12:52:00.444480Z",
     "iopub.status.busy": "2025-07-30T12:52:00.443385Z",
     "iopub.status.idle": "2025-07-30T12:52:00.450215Z",
     "shell.execute_reply": "2025-07-30T12:52:00.449328Z"
    },
    "papermill": {
     "duration": 0.036673,
     "end_time": "2025-07-30T12:52:00.451910",
     "exception": false,
     "start_time": "2025-07-30T12:52:00.415237",
     "status": "completed"
    },
    "tags": []
   },
   "outputs": [],
   "source": [
    "n_drop = (~keep_mask).sum() # Calculates how many rows are set to be dropped\n",
    "if n_drop > 0:\n",
    "    pct = n_drop / len(keep_mask) * 100\n",
    "    print(f\"Dropping {n_drop} rows ({pct:.2f}%) where mode='{mode}'\")"
   ]
  },
  {
   "cell_type": "code",
   "execution_count": 39,
   "id": "5fb8eee5",
   "metadata": {
    "execution": {
     "iopub.execute_input": "2025-07-30T12:52:00.497690Z",
     "iopub.status.busy": "2025-07-30T12:52:00.497074Z",
     "iopub.status.idle": "2025-07-30T12:52:00.512824Z",
     "shell.execute_reply": "2025-07-30T12:52:00.511735Z"
    },
    "papermill": {
     "duration": 0.040668,
     "end_time": "2025-07-30T12:52:00.514645",
     "exception": false,
     "start_time": "2025-07-30T12:52:00.473977",
     "status": "completed"
    },
    "tags": []
   },
   "outputs": [],
   "source": [
    "X_train = X_train[keep_mask]"
   ]
  },
  {
   "cell_type": "code",
   "execution_count": 40,
   "id": "b202bb3a",
   "metadata": {
    "execution": {
     "iopub.execute_input": "2025-07-30T12:52:00.565935Z",
     "iopub.status.busy": "2025-07-30T12:52:00.565127Z",
     "iopub.status.idle": "2025-07-30T12:52:00.571969Z",
     "shell.execute_reply": "2025-07-30T12:52:00.570928Z"
    },
    "papermill": {
     "duration": 0.035598,
     "end_time": "2025-07-30T12:52:00.573776",
     "exception": false,
     "start_time": "2025-07-30T12:52:00.538178",
     "status": "completed"
    },
    "tags": []
   },
   "outputs": [],
   "source": [
    "y_train = y_train[keep_mask]"
   ]
  },
  {
   "cell_type": "markdown",
   "id": "493e2ac3",
   "metadata": {
    "papermill": {
     "duration": 0.025471,
     "end_time": "2025-07-30T12:52:00.624127",
     "exception": false,
     "start_time": "2025-07-30T12:52:00.598656",
     "status": "completed"
    },
    "tags": []
   },
   "source": [
    "# Model Training"
   ]
  },
  {
   "cell_type": "code",
   "execution_count": 41,
   "id": "679e1268",
   "metadata": {
    "execution": {
     "iopub.execute_input": "2025-07-30T12:52:00.675470Z",
     "iopub.status.busy": "2025-07-30T12:52:00.674952Z",
     "iopub.status.idle": "2025-07-30T12:52:00.789052Z",
     "shell.execute_reply": "2025-07-30T12:52:00.788154Z"
    },
    "papermill": {
     "duration": 0.140549,
     "end_time": "2025-07-30T12:52:00.790909",
     "exception": false,
     "start_time": "2025-07-30T12:52:00.650360",
     "status": "completed"
    },
    "tags": []
   },
   "outputs": [],
   "source": [
    "from sklearn.linear_model import LogisticRegression\n",
    "from sklearn.ensemble import GradientBoostingClassifier, RandomForestClassifier\n",
    "\n",
    "if (universe[\"model\"] == \"logreg\"):\n",
    "    model = LogisticRegression() #penalty=\"none\") #, solver=\"newton-cg\", max_iter=1) # include random_state=19 ?\n",
    "elif (universe[\"model\"] == \"penalized_logreg\"):\n",
    "    model = LogisticRegression(penalty=\"l2\", C=1.0) #, solver=\"newton-cg\", max_iter=1)\n",
    "elif (universe[\"model\"] == \"rf\"):\n",
    "    model = RandomForestClassifier(n_estimators=100, n_jobs=-1)\n",
    "elif (universe[\"model\"] == \"gbm\"):\n",
    "    model = GradientBoostingClassifier()\n",
    "elif (universe[\"model\"] == \"elasticnet\"):\n",
    "    model = LogisticRegression(penalty = 'elasticnet', solver = 'saga', l1_ratio = 0.5, max_iter=5000) # which solver to use?\n",
    "else:\n",
    "    raise \"Unsupported universe.model\""
   ]
  },
  {
   "cell_type": "code",
   "execution_count": 42,
   "id": "0cc8f744",
   "metadata": {
    "execution": {
     "iopub.execute_input": "2025-07-30T12:52:00.843166Z",
     "iopub.status.busy": "2025-07-30T12:52:00.842630Z",
     "iopub.status.idle": "2025-07-30T12:52:00.849434Z",
     "shell.execute_reply": "2025-07-30T12:52:00.848277Z"
    },
    "papermill": {
     "duration": 0.035533,
     "end_time": "2025-07-30T12:52:00.850983",
     "exception": false,
     "start_time": "2025-07-30T12:52:00.815450",
     "status": "completed"
    },
    "tags": []
   },
   "outputs": [],
   "source": [
    "import numpy as np\n",
    "from sklearn.pipeline import Pipeline\n",
    "from sklearn.preprocessing import StandardScaler\n",
    "\n",
    "model = Pipeline([\n",
    "    #(\"continuous_processor\", continuous_processor),\n",
    "    #(\"categorical_preprocessor\", categorical_preprocessor),\n",
    "    (\"scale\", StandardScaler() if universe[\"scale\"] == \"scale\" else None), \n",
    "    (\"model\", model),\n",
    "])"
   ]
  },
  {
   "cell_type": "code",
   "execution_count": 43,
   "id": "9442c04d",
   "metadata": {
    "execution": {
     "iopub.execute_input": "2025-07-30T12:52:00.901705Z",
     "iopub.status.busy": "2025-07-30T12:52:00.900753Z",
     "iopub.status.idle": "2025-07-30T12:52:25.464999Z",
     "shell.execute_reply": "2025-07-30T12:52:25.463977Z"
    },
    "papermill": {
     "duration": 24.592089,
     "end_time": "2025-07-30T12:52:25.466772",
     "exception": false,
     "start_time": "2025-07-30T12:52:00.874683",
     "status": "completed"
    },
    "tags": []
   },
   "outputs": [
    {
     "data": {
      "text/html": [
       "<style>#sk-container-id-1 {color: black;background-color: white;}#sk-container-id-1 pre{padding: 0;}#sk-container-id-1 div.sk-toggleable {background-color: white;}#sk-container-id-1 label.sk-toggleable__label {cursor: pointer;display: block;width: 100%;margin-bottom: 0;padding: 0.3em;box-sizing: border-box;text-align: center;}#sk-container-id-1 label.sk-toggleable__label-arrow:before {content: \"▸\";float: left;margin-right: 0.25em;color: #696969;}#sk-container-id-1 label.sk-toggleable__label-arrow:hover:before {color: black;}#sk-container-id-1 div.sk-estimator:hover label.sk-toggleable__label-arrow:before {color: black;}#sk-container-id-1 div.sk-toggleable__content {max-height: 0;max-width: 0;overflow: hidden;text-align: left;background-color: #f0f8ff;}#sk-container-id-1 div.sk-toggleable__content pre {margin: 0.2em;color: black;border-radius: 0.25em;background-color: #f0f8ff;}#sk-container-id-1 input.sk-toggleable__control:checked~div.sk-toggleable__content {max-height: 200px;max-width: 100%;overflow: auto;}#sk-container-id-1 input.sk-toggleable__control:checked~label.sk-toggleable__label-arrow:before {content: \"▾\";}#sk-container-id-1 div.sk-estimator input.sk-toggleable__control:checked~label.sk-toggleable__label {background-color: #d4ebff;}#sk-container-id-1 div.sk-label input.sk-toggleable__control:checked~label.sk-toggleable__label {background-color: #d4ebff;}#sk-container-id-1 input.sk-hidden--visually {border: 0;clip: rect(1px 1px 1px 1px);clip: rect(1px, 1px, 1px, 1px);height: 1px;margin: -1px;overflow: hidden;padding: 0;position: absolute;width: 1px;}#sk-container-id-1 div.sk-estimator {font-family: monospace;background-color: #f0f8ff;border: 1px dotted black;border-radius: 0.25em;box-sizing: border-box;margin-bottom: 0.5em;}#sk-container-id-1 div.sk-estimator:hover {background-color: #d4ebff;}#sk-container-id-1 div.sk-parallel-item::after {content: \"\";width: 100%;border-bottom: 1px solid gray;flex-grow: 1;}#sk-container-id-1 div.sk-label:hover label.sk-toggleable__label {background-color: #d4ebff;}#sk-container-id-1 div.sk-serial::before {content: \"\";position: absolute;border-left: 1px solid gray;box-sizing: border-box;top: 0;bottom: 0;left: 50%;z-index: 0;}#sk-container-id-1 div.sk-serial {display: flex;flex-direction: column;align-items: center;background-color: white;padding-right: 0.2em;padding-left: 0.2em;position: relative;}#sk-container-id-1 div.sk-item {position: relative;z-index: 1;}#sk-container-id-1 div.sk-parallel {display: flex;align-items: stretch;justify-content: center;background-color: white;position: relative;}#sk-container-id-1 div.sk-item::before, #sk-container-id-1 div.sk-parallel-item::before {content: \"\";position: absolute;border-left: 1px solid gray;box-sizing: border-box;top: 0;bottom: 0;left: 50%;z-index: -1;}#sk-container-id-1 div.sk-parallel-item {display: flex;flex-direction: column;z-index: 1;position: relative;background-color: white;}#sk-container-id-1 div.sk-parallel-item:first-child::after {align-self: flex-end;width: 50%;}#sk-container-id-1 div.sk-parallel-item:last-child::after {align-self: flex-start;width: 50%;}#sk-container-id-1 div.sk-parallel-item:only-child::after {width: 0;}#sk-container-id-1 div.sk-dashed-wrapped {border: 1px dashed gray;margin: 0 0.4em 0.5em 0.4em;box-sizing: border-box;padding-bottom: 0.4em;background-color: white;}#sk-container-id-1 div.sk-label label {font-family: monospace;font-weight: bold;display: inline-block;line-height: 1.2em;}#sk-container-id-1 div.sk-label-container {text-align: center;}#sk-container-id-1 div.sk-container {/* jupyter's `normalize.less` sets `[hidden] { display: none; }` but bootstrap.min.css set `[hidden] { display: none !important; }` so we also need the `!important` here to be able to override the default hidden behavior on the sphinx rendered scikit-learn.org. See: https://github.com/scikit-learn/scikit-learn/issues/21755 */display: inline-block !important;position: relative;}#sk-container-id-1 div.sk-text-repr-fallback {display: none;}</style><div id=\"sk-container-id-1\" class=\"sk-top-container\"><div class=\"sk-text-repr-fallback\"><pre>Pipeline(steps=[(&#x27;scale&#x27;, StandardScaler()),\n",
       "                (&#x27;model&#x27;,\n",
       "                 LogisticRegression(l1_ratio=0.5, max_iter=5000,\n",
       "                                    penalty=&#x27;elasticnet&#x27;, solver=&#x27;saga&#x27;))])</pre><b>In a Jupyter environment, please rerun this cell to show the HTML representation or trust the notebook. <br />On GitHub, the HTML representation is unable to render, please try loading this page with nbviewer.org.</b></div><div class=\"sk-container\" hidden><div class=\"sk-item sk-dashed-wrapped\"><div class=\"sk-label-container\"><div class=\"sk-label sk-toggleable\"><input class=\"sk-toggleable__control sk-hidden--visually\" id=\"sk-estimator-id-1\" type=\"checkbox\" ><label for=\"sk-estimator-id-1\" class=\"sk-toggleable__label sk-toggleable__label-arrow\">Pipeline</label><div class=\"sk-toggleable__content\"><pre>Pipeline(steps=[(&#x27;scale&#x27;, StandardScaler()),\n",
       "                (&#x27;model&#x27;,\n",
       "                 LogisticRegression(l1_ratio=0.5, max_iter=5000,\n",
       "                                    penalty=&#x27;elasticnet&#x27;, solver=&#x27;saga&#x27;))])</pre></div></div></div><div class=\"sk-serial\"><div class=\"sk-item\"><div class=\"sk-estimator sk-toggleable\"><input class=\"sk-toggleable__control sk-hidden--visually\" id=\"sk-estimator-id-2\" type=\"checkbox\" ><label for=\"sk-estimator-id-2\" class=\"sk-toggleable__label sk-toggleable__label-arrow\">StandardScaler</label><div class=\"sk-toggleable__content\"><pre>StandardScaler()</pre></div></div></div><div class=\"sk-item\"><div class=\"sk-estimator sk-toggleable\"><input class=\"sk-toggleable__control sk-hidden--visually\" id=\"sk-estimator-id-3\" type=\"checkbox\" ><label for=\"sk-estimator-id-3\" class=\"sk-toggleable__label sk-toggleable__label-arrow\">LogisticRegression</label><div class=\"sk-toggleable__content\"><pre>LogisticRegression(l1_ratio=0.5, max_iter=5000, penalty=&#x27;elasticnet&#x27;,\n",
       "                   solver=&#x27;saga&#x27;)</pre></div></div></div></div></div></div></div>"
      ],
      "text/plain": [
       "Pipeline(steps=[('scale', StandardScaler()),\n",
       "                ('model',\n",
       "                 LogisticRegression(l1_ratio=0.5, max_iter=5000,\n",
       "                                    penalty='elasticnet', solver='saga'))])"
      ]
     },
     "execution_count": 43,
     "metadata": {},
     "output_type": "execute_result"
    }
   ],
   "source": [
    "model.fit(X_train, y_train.values.ravel())"
   ]
  },
  {
   "cell_type": "code",
   "execution_count": 44,
   "id": "af59f8c0",
   "metadata": {
    "execution": {
     "iopub.execute_input": "2025-07-30T12:52:25.521416Z",
     "iopub.status.busy": "2025-07-30T12:52:25.520883Z",
     "iopub.status.idle": "2025-07-30T12:52:25.526709Z",
     "shell.execute_reply": "2025-07-30T12:52:25.525865Z"
    },
    "papermill": {
     "duration": 0.034971,
     "end_time": "2025-07-30T12:52:25.528283",
     "exception": false,
     "start_time": "2025-07-30T12:52:25.493312",
     "status": "completed"
    },
    "tags": []
   },
   "outputs": [],
   "source": [
    "from fairness_multiverse.universe import predict_w_threshold"
   ]
  },
  {
   "cell_type": "code",
   "execution_count": 45,
   "id": "a7cf2e16",
   "metadata": {
    "execution": {
     "iopub.execute_input": "2025-07-30T12:52:25.580687Z",
     "iopub.status.busy": "2025-07-30T12:52:25.579573Z",
     "iopub.status.idle": "2025-07-30T12:52:25.786901Z",
     "shell.execute_reply": "2025-07-30T12:52:25.785921Z"
    },
    "papermill": {
     "duration": 0.234802,
     "end_time": "2025-07-30T12:52:25.788552",
     "exception": false,
     "start_time": "2025-07-30T12:52:25.553750",
     "status": "completed"
    },
    "tags": []
   },
   "outputs": [
    {
     "data": {
      "text/plain": [
       "0.8653773269423699"
      ]
     },
     "execution_count": 45,
     "metadata": {},
     "output_type": "execute_result"
    }
   ],
   "source": [
    "probs_test = model.predict_proba(X_test)\n",
    "\n",
    "'''\n",
    "Below code returns a boolean array (or binary 0/1 array depending on how it’s used) where each element \n",
    "is True if the probability of class 1 is greater than or equal to the threshold, and False otherwise.\n",
    "'''\n",
    "y_pred_default = predict_w_threshold(probs_test, 0.5)\n",
    "\n",
    "from sklearn.metrics import accuracy_score\n",
    "\n",
    "# Naive prediction\n",
    "accuracy_score(y_true = y_true, y_pred = y_pred_default)"
   ]
  },
  {
   "cell_type": "code",
   "execution_count": 46,
   "id": "081964c3",
   "metadata": {
    "execution": {
     "iopub.execute_input": "2025-07-30T12:52:25.839616Z",
     "iopub.status.busy": "2025-07-30T12:52:25.839162Z",
     "iopub.status.idle": "2025-07-30T12:52:26.006106Z",
     "shell.execute_reply": "2025-07-30T12:52:26.005399Z"
    },
    "papermill": {
     "duration": 0.193527,
     "end_time": "2025-07-30T12:52:26.007335",
     "exception": false,
     "start_time": "2025-07-30T12:52:25.813808",
     "status": "completed"
    },
    "tags": []
   },
   "outputs": [
    {
     "data": {
      "text/plain": [
       "array([0, 0, 0, ..., 0, 0, 0])"
      ]
     },
     "execution_count": 46,
     "metadata": {},
     "output_type": "execute_result"
    }
   ],
   "source": [
    "model.predict(X_test)"
   ]
  },
  {
   "cell_type": "markdown",
   "id": "56c9705b",
   "metadata": {
    "papermill": {
     "duration": 0.012843,
     "end_time": "2025-07-30T12:52:26.033298",
     "exception": false,
     "start_time": "2025-07-30T12:52:26.020455",
     "status": "completed"
    },
    "tags": []
   },
   "source": [
    "# Conformal Prediction"
   ]
  },
  {
   "cell_type": "code",
   "execution_count": 47,
   "id": "160ec6ff",
   "metadata": {
    "execution": {
     "iopub.execute_input": "2025-07-30T12:52:26.060899Z",
     "iopub.status.busy": "2025-07-30T12:52:26.060398Z",
     "iopub.status.idle": "2025-07-30T12:52:26.064914Z",
     "shell.execute_reply": "2025-07-30T12:52:26.064197Z"
    },
    "papermill": {
     "duration": 0.019882,
     "end_time": "2025-07-30T12:52:26.066323",
     "exception": false,
     "start_time": "2025-07-30T12:52:26.046441",
     "status": "completed"
    },
    "tags": []
   },
   "outputs": [],
   "source": [
    "# Miscoverage level for conformal prediction (10% allowed error rate => 90% target coverage)\n",
    "alpha = 0.1"
   ]
  },
  {
   "cell_type": "code",
   "execution_count": 48,
   "id": "eadf4555-3dd3-440e-8e35-f82a4ad9f855",
   "metadata": {
    "execution": {
     "iopub.execute_input": "2025-07-30T12:52:26.094792Z",
     "iopub.status.busy": "2025-07-30T12:52:26.094247Z",
     "iopub.status.idle": "2025-07-30T12:52:26.256060Z",
     "shell.execute_reply": "2025-07-30T12:52:26.255301Z"
    },
    "papermill": {
     "duration": 0.177237,
     "end_time": "2025-07-30T12:52:26.257530",
     "exception": false,
     "start_time": "2025-07-30T12:52:26.080293",
     "status": "completed"
    },
    "tags": []
   },
   "outputs": [],
   "source": [
    "probs_calib = model.predict_proba(X_calib)"
   ]
  },
  {
   "cell_type": "code",
   "execution_count": 49,
   "id": "2ed93547-6d5d-4983-9b36-1ecb300da49a",
   "metadata": {
    "execution": {
     "iopub.execute_input": "2025-07-30T12:52:26.284233Z",
     "iopub.status.busy": "2025-07-30T12:52:26.283860Z",
     "iopub.status.idle": "2025-07-30T12:52:26.289112Z",
     "shell.execute_reply": "2025-07-30T12:52:26.288220Z"
    },
    "papermill": {
     "duration": 0.019828,
     "end_time": "2025-07-30T12:52:26.290360",
     "exception": false,
     "start_time": "2025-07-30T12:52:26.270532",
     "status": "completed"
    },
    "tags": []
   },
   "outputs": [],
   "source": [
    "y_calib = y_calib.values.ravel().astype(int)"
   ]
  },
  {
   "cell_type": "code",
   "execution_count": 50,
   "id": "65d1320d-f588-4b38-9072-62af1ae97f7d",
   "metadata": {
    "execution": {
     "iopub.execute_input": "2025-07-30T12:52:26.317462Z",
     "iopub.status.busy": "2025-07-30T12:52:26.316750Z",
     "iopub.status.idle": "2025-07-30T12:52:26.323770Z",
     "shell.execute_reply": "2025-07-30T12:52:26.323087Z"
    },
    "papermill": {
     "duration": 0.021532,
     "end_time": "2025-07-30T12:52:26.325178",
     "exception": false,
     "start_time": "2025-07-30T12:52:26.303646",
     "status": "completed"
    },
    "tags": []
   },
   "outputs": [],
   "source": [
    "from fairness_multiverse.conformal import compute_nc_scores\n",
    "\n",
    "# Compute nonconformity scores on calibration set (1 - probability of true class)\n",
    "nc_scores = compute_nc_scores(probs_calib, y_calib)"
   ]
  },
  {
   "cell_type": "code",
   "execution_count": 51,
   "id": "df3b8ca3-53b7-43d5-9667-7c85da7aeda2",
   "metadata": {
    "execution": {
     "iopub.execute_input": "2025-07-30T12:52:26.351857Z",
     "iopub.status.busy": "2025-07-30T12:52:26.351392Z",
     "iopub.status.idle": "2025-07-30T12:52:26.357625Z",
     "shell.execute_reply": "2025-07-30T12:52:26.356920Z"
    },
    "papermill": {
     "duration": 0.020765,
     "end_time": "2025-07-30T12:52:26.358937",
     "exception": false,
     "start_time": "2025-07-30T12:52:26.338172",
     "status": "completed"
    },
    "tags": []
   },
   "outputs": [],
   "source": [
    "from fairness_multiverse.conformal import find_threshold\n",
    "\n",
    "# Find conformal threshold q_hat for the given alpha (split conformal method)\n",
    "q_hat = find_threshold(nc_scores, alpha)"
   ]
  },
  {
   "cell_type": "code",
   "execution_count": 52,
   "id": "4d29e6c1-0ef6-4aa4-b8fe-4fe79b0d033a",
   "metadata": {
    "execution": {
     "iopub.execute_input": "2025-07-30T12:52:26.387974Z",
     "iopub.status.busy": "2025-07-30T12:52:26.387476Z",
     "iopub.status.idle": "2025-07-30T12:52:26.394280Z",
     "shell.execute_reply": "2025-07-30T12:52:26.393502Z"
    },
    "papermill": {
     "duration": 0.022845,
     "end_time": "2025-07-30T12:52:26.395586",
     "exception": false,
     "start_time": "2025-07-30T12:52:26.372741",
     "status": "completed"
    },
    "tags": []
   },
   "outputs": [
    {
     "data": {
      "text/plain": [
       "0.675710114828449"
      ]
     },
     "execution_count": 52,
     "metadata": {},
     "output_type": "execute_result"
    }
   ],
   "source": [
    "q_hat"
   ]
  },
  {
   "cell_type": "code",
   "execution_count": 53,
   "id": "92460794-cdac-4be2-ba28-f28c0515a6fb",
   "metadata": {
    "execution": {
     "iopub.execute_input": "2025-07-30T12:52:26.423860Z",
     "iopub.status.busy": "2025-07-30T12:52:26.423361Z",
     "iopub.status.idle": "2025-07-30T12:52:27.377132Z",
     "shell.execute_reply": "2025-07-30T12:52:27.376114Z"
    },
    "papermill": {
     "duration": 0.969147,
     "end_time": "2025-07-30T12:52:27.378660",
     "exception": false,
     "start_time": "2025-07-30T12:52:26.409513",
     "status": "completed"
    },
    "tags": []
   },
   "outputs": [],
   "source": [
    "from fairness_multiverse.conformal import predict_conformal_sets\n",
    "\n",
    "# Generate prediction sets for each test example\n",
    "pred_sets = predict_conformal_sets(model, X_test, q_hat)"
   ]
  },
  {
   "cell_type": "code",
   "execution_count": 54,
   "id": "d90c9a65-e6db-4f5d-80cd-e68fb7e46829",
   "metadata": {
    "execution": {
     "iopub.execute_input": "2025-07-30T12:52:27.437448Z",
     "iopub.status.busy": "2025-07-30T12:52:27.436777Z",
     "iopub.status.idle": "2025-07-30T12:52:27.442791Z",
     "shell.execute_reply": "2025-07-30T12:52:27.441796Z"
    },
    "papermill": {
     "duration": 0.03679,
     "end_time": "2025-07-30T12:52:27.444437",
     "exception": false,
     "start_time": "2025-07-30T12:52:27.407647",
     "status": "completed"
    },
    "tags": []
   },
   "outputs": [],
   "source": [
    "y_true = y_true.squeeze()"
   ]
  },
  {
   "cell_type": "code",
   "execution_count": 55,
   "id": "3a58a54a-1e68-46b9-927a-df01f18aebc8",
   "metadata": {
    "execution": {
     "iopub.execute_input": "2025-07-30T12:52:27.502998Z",
     "iopub.status.busy": "2025-07-30T12:52:27.502084Z",
     "iopub.status.idle": "2025-07-30T12:52:28.610061Z",
     "shell.execute_reply": "2025-07-30T12:52:28.608695Z"
    },
    "papermill": {
     "duration": 1.139426,
     "end_time": "2025-07-30T12:52:28.612217",
     "exception": false,
     "start_time": "2025-07-30T12:52:27.472791",
     "status": "completed"
    },
    "tags": []
   },
   "outputs": [],
   "source": [
    "from fairness_multiverse.conformal import evaluate_sets\n",
    "\n",
    "# Evaluate coverage and average set size on test data\n",
    "metrics = evaluate_sets(pred_sets, y_true)"
   ]
  },
  {
   "cell_type": "markdown",
   "id": "2b569c12-9aaa-4c88-98c9-bbcd0cf3ebb8",
   "metadata": {
    "papermill": {
     "duration": 0.027333,
     "end_time": "2025-07-30T12:52:28.668528",
     "exception": false,
     "start_time": "2025-07-30T12:52:28.641195",
     "status": "completed"
    },
    "tags": []
   },
   "source": [
    "# CP Metrics"
   ]
  },
  {
   "cell_type": "code",
   "execution_count": 56,
   "id": "5ce0a5cb-201f-45a0-ade5-94c7f0bd6095",
   "metadata": {
    "execution": {
     "iopub.execute_input": "2025-07-30T12:52:28.722554Z",
     "iopub.status.busy": "2025-07-30T12:52:28.721556Z",
     "iopub.status.idle": "2025-07-30T12:52:28.728799Z",
     "shell.execute_reply": "2025-07-30T12:52:28.727835Z"
    },
    "papermill": {
     "duration": 0.034655,
     "end_time": "2025-07-30T12:52:28.730350",
     "exception": false,
     "start_time": "2025-07-30T12:52:28.695695",
     "status": "completed"
    },
    "tags": []
   },
   "outputs": [
    {
     "data": {
      "text/plain": [
       "{'coverage': 0.9124289376881061, 'avg_size': 1.1253260506075131}"
      ]
     },
     "execution_count": 56,
     "metadata": {},
     "output_type": "execute_result"
    }
   ],
   "source": [
    "metrics"
   ]
  },
  {
   "cell_type": "code",
   "execution_count": 57,
   "id": "9b9a838d-31c9-430b-ae14-12baee460d17",
   "metadata": {
    "execution": {
     "iopub.execute_input": "2025-07-30T12:52:28.784877Z",
     "iopub.status.busy": "2025-07-30T12:52:28.784440Z",
     "iopub.status.idle": "2025-07-30T12:52:28.789473Z",
     "shell.execute_reply": "2025-07-30T12:52:28.788671Z"
    },
    "papermill": {
     "duration": 0.032892,
     "end_time": "2025-07-30T12:52:28.790752",
     "exception": false,
     "start_time": "2025-07-30T12:52:28.757860",
     "status": "completed"
    },
    "tags": []
   },
   "outputs": [],
   "source": [
    "example_universe = universe.copy()\n",
    "universe_training_size = example_universe.get(\"training_size\")\n",
    "universe_scale = example_universe.get(\"scale\")\n",
    "universe_model = example_universe.get(\"model\")\n",
    "universe_exclude_features = example_universe.get(\"exclude_features\")\n",
    "universe_exclude_subgroups = example_universe.get(\"exclude_subgroups\")"
   ]
  },
  {
   "cell_type": "code",
   "execution_count": 58,
   "id": "f4b6a8ac-9dc0-4245-8a91-5b3b5999c4f9",
   "metadata": {
    "execution": {
     "iopub.execute_input": "2025-07-30T12:52:28.820635Z",
     "iopub.status.busy": "2025-07-30T12:52:28.820090Z",
     "iopub.status.idle": "2025-07-30T12:52:28.825555Z",
     "shell.execute_reply": "2025-07-30T12:52:28.824835Z"
    },
    "papermill": {
     "duration": 0.021479,
     "end_time": "2025-07-30T12:52:28.826915",
     "exception": false,
     "start_time": "2025-07-30T12:52:28.805436",
     "status": "completed"
    },
    "tags": []
   },
   "outputs": [],
   "source": [
    "cp_metrics_dict = {\n",
    "    \"universe_id\": [universe_id],\n",
    "    \"universe_training_size\": [universe_training_size],\n",
    "    \"universe_scale\": [universe_scale],\n",
    "    \"universe_model\": [universe_model],\n",
    "    \"universe_exclude_features\": [universe_exclude_features],\n",
    "    \"universe_exclude_subgroups\": [universe_exclude_subgroups],\n",
    "    \"q_hat\": [q_hat],\n",
    "    \"coverage\": [metrics[\"coverage\"]],\n",
    "    \"avg_size\": [metrics[\"avg_size\"]],\n",
    "}"
   ]
  },
  {
   "cell_type": "code",
   "execution_count": 59,
   "id": "908acbb1-0371-4915-85ca-3fa520d2efe2",
   "metadata": {
    "execution": {
     "iopub.execute_input": "2025-07-30T12:52:28.855655Z",
     "iopub.status.busy": "2025-07-30T12:52:28.855122Z",
     "iopub.status.idle": "2025-07-30T12:52:28.861845Z",
     "shell.execute_reply": "2025-07-30T12:52:28.861176Z"
    },
    "papermill": {
     "duration": 0.02194,
     "end_time": "2025-07-30T12:52:28.863154",
     "exception": false,
     "start_time": "2025-07-30T12:52:28.841214",
     "status": "completed"
    },
    "tags": []
   },
   "outputs": [
    {
     "data": {
      "text/plain": [
       "{'universe_id': ['e1a23ce94a22c6cb1a4162da178861e1'],\n",
       " 'universe_training_size': ['25k'],\n",
       " 'universe_scale': ['scale'],\n",
       " 'universe_model': ['elasticnet'],\n",
       " 'universe_exclude_features': ['nationality-sex'],\n",
       " 'universe_exclude_subgroups': ['keep-all'],\n",
       " 'q_hat': [0.675710114828449],\n",
       " 'coverage': [0.9124289376881061],\n",
       " 'avg_size': [1.1253260506075131]}"
      ]
     },
     "execution_count": 59,
     "metadata": {},
     "output_type": "execute_result"
    }
   ],
   "source": [
    "cp_metrics_dict"
   ]
  },
  {
   "cell_type": "code",
   "execution_count": 60,
   "id": "33007efc-14e9-4ec6-97ac-56a455c82265",
   "metadata": {
    "execution": {
     "iopub.execute_input": "2025-07-30T12:52:28.892166Z",
     "iopub.status.busy": "2025-07-30T12:52:28.891655Z",
     "iopub.status.idle": "2025-07-30T12:52:28.896879Z",
     "shell.execute_reply": "2025-07-30T12:52:28.895866Z"
    },
    "papermill": {
     "duration": 0.020997,
     "end_time": "2025-07-30T12:52:28.898220",
     "exception": false,
     "start_time": "2025-07-30T12:52:28.877223",
     "status": "completed"
    },
    "tags": []
   },
   "outputs": [],
   "source": [
    "cp_metrics_df = pd.DataFrame(cp_metrics_dict)"
   ]
  },
  {
   "cell_type": "code",
   "execution_count": 61,
   "id": "db12611b-57b2-4910-b9d0-355adfd6e7bf",
   "metadata": {
    "execution": {
     "iopub.execute_input": "2025-07-30T12:52:28.938712Z",
     "iopub.status.busy": "2025-07-30T12:52:28.937277Z",
     "iopub.status.idle": "2025-07-30T12:52:28.955883Z",
     "shell.execute_reply": "2025-07-30T12:52:28.954949Z"
    },
    "papermill": {
     "duration": 0.044577,
     "end_time": "2025-07-30T12:52:28.957293",
     "exception": false,
     "start_time": "2025-07-30T12:52:28.912716",
     "status": "completed"
    },
    "tags": []
   },
   "outputs": [
    {
     "data": {
      "text/html": [
       "<div>\n",
       "<style scoped>\n",
       "    .dataframe tbody tr th:only-of-type {\n",
       "        vertical-align: middle;\n",
       "    }\n",
       "\n",
       "    .dataframe tbody tr th {\n",
       "        vertical-align: top;\n",
       "    }\n",
       "\n",
       "    .dataframe thead th {\n",
       "        text-align: right;\n",
       "    }\n",
       "</style>\n",
       "<table border=\"1\" class=\"dataframe\">\n",
       "  <thead>\n",
       "    <tr style=\"text-align: right;\">\n",
       "      <th></th>\n",
       "      <th>universe_id</th>\n",
       "      <th>universe_training_size</th>\n",
       "      <th>universe_scale</th>\n",
       "      <th>universe_model</th>\n",
       "      <th>universe_exclude_features</th>\n",
       "      <th>universe_exclude_subgroups</th>\n",
       "      <th>q_hat</th>\n",
       "      <th>coverage</th>\n",
       "      <th>avg_size</th>\n",
       "    </tr>\n",
       "  </thead>\n",
       "  <tbody>\n",
       "    <tr>\n",
       "      <th>0</th>\n",
       "      <td>e1a23ce94a22c6cb1a4162da178861e1</td>\n",
       "      <td>25k</td>\n",
       "      <td>scale</td>\n",
       "      <td>elasticnet</td>\n",
       "      <td>nationality-sex</td>\n",
       "      <td>keep-all</td>\n",
       "      <td>0.67571</td>\n",
       "      <td>0.912429</td>\n",
       "      <td>1.125326</td>\n",
       "    </tr>\n",
       "  </tbody>\n",
       "</table>\n",
       "</div>"
      ],
      "text/plain": [
       "                        universe_id universe_training_size universe_scale  \\\n",
       "0  e1a23ce94a22c6cb1a4162da178861e1                    25k          scale   \n",
       "\n",
       "  universe_model universe_exclude_features universe_exclude_subgroups  \\\n",
       "0     elasticnet           nationality-sex                   keep-all   \n",
       "\n",
       "     q_hat  coverage  avg_size  \n",
       "0  0.67571  0.912429  1.125326  "
      ]
     },
     "execution_count": 61,
     "metadata": {},
     "output_type": "execute_result"
    }
   ],
   "source": [
    "cp_metrics_df"
   ]
  },
  {
   "cell_type": "code",
   "execution_count": 62,
   "id": "b7fbde55-a0a1-47e4-9af6-fe4a17fa8c61",
   "metadata": {
    "execution": {
     "iopub.execute_input": "2025-07-30T12:52:29.008799Z",
     "iopub.status.busy": "2025-07-30T12:52:29.008292Z",
     "iopub.status.idle": "2025-07-30T12:52:29.013489Z",
     "shell.execute_reply": "2025-07-30T12:52:29.012282Z"
    },
    "papermill": {
     "duration": 0.0331,
     "end_time": "2025-07-30T12:52:29.014773",
     "exception": false,
     "start_time": "2025-07-30T12:52:28.981673",
     "status": "completed"
    },
    "tags": []
   },
   "outputs": [],
   "source": [
    "# Conditional Coverage & looking at subgroups"
   ]
  },
  {
   "cell_type": "code",
   "execution_count": 63,
   "id": "027ae886-68dd-4141-96c7-805a5450e1ef",
   "metadata": {
    "execution": {
     "iopub.execute_input": "2025-07-30T12:52:29.045338Z",
     "iopub.status.busy": "2025-07-30T12:52:29.044582Z",
     "iopub.status.idle": "2025-07-30T12:52:29.324520Z",
     "shell.execute_reply": "2025-07-30T12:52:29.323749Z"
    },
    "papermill": {
     "duration": 0.296791,
     "end_time": "2025-07-30T12:52:29.325971",
     "exception": false,
     "start_time": "2025-07-30T12:52:29.029180",
     "status": "completed"
    },
    "tags": []
   },
   "outputs": [],
   "source": [
    "from fairness_multiverse.conformal import build_cp_groups\n",
    "\n",
    "cp_groups_df = build_cp_groups(pred_sets, y_true, X_test.index, org_test)\n",
    "#needs universe_id and setting"
   ]
  },
  {
   "cell_type": "code",
   "execution_count": 64,
   "id": "01d5802c-663a-4d1f-9d69-e036faaffbf7",
   "metadata": {
    "execution": {
     "iopub.execute_input": "2025-07-30T12:52:29.380174Z",
     "iopub.status.busy": "2025-07-30T12:52:29.379716Z",
     "iopub.status.idle": "2025-07-30T12:52:29.384508Z",
     "shell.execute_reply": "2025-07-30T12:52:29.383552Z"
    },
    "papermill": {
     "duration": 0.03721,
     "end_time": "2025-07-30T12:52:29.386308",
     "exception": false,
     "start_time": "2025-07-30T12:52:29.349098",
     "status": "completed"
    },
    "tags": []
   },
   "outputs": [],
   "source": [
    "#delete\n",
    "#cp_groups_df"
   ]
  },
  {
   "cell_type": "code",
   "execution_count": 65,
   "id": "fa424af1-d1eb-443d-b717-2d279ada8408",
   "metadata": {
    "execution": {
     "iopub.execute_input": "2025-07-30T12:52:29.445176Z",
     "iopub.status.busy": "2025-07-30T12:52:29.444661Z",
     "iopub.status.idle": "2025-07-30T12:52:29.449938Z",
     "shell.execute_reply": "2025-07-30T12:52:29.448980Z"
    },
    "papermill": {
     "duration": 0.036856,
     "end_time": "2025-07-30T12:52:29.451722",
     "exception": false,
     "start_time": "2025-07-30T12:52:29.414866",
     "status": "completed"
    },
    "tags": []
   },
   "outputs": [],
   "source": [
    "#delete\n",
    "#percentage = (cp_groups_df['nongerman_female'] == 1).mean() * 100\n",
    "#print(percentage)\n"
   ]
  },
  {
   "cell_type": "code",
   "execution_count": 66,
   "id": "6cbdab96-b2b2-45af-ad54-d0516db2e28d",
   "metadata": {
    "execution": {
     "iopub.execute_input": "2025-07-30T12:52:29.500584Z",
     "iopub.status.busy": "2025-07-30T12:52:29.500173Z",
     "iopub.status.idle": "2025-07-30T12:52:31.007302Z",
     "shell.execute_reply": "2025-07-30T12:52:31.006106Z"
    },
    "papermill": {
     "duration": 1.528868,
     "end_time": "2025-07-30T12:52:31.009865",
     "exception": false,
     "start_time": "2025-07-30T12:52:29.480997",
     "status": "completed"
    },
    "tags": []
   },
   "outputs": [],
   "source": [
    "# Define covered = 1 if true_label is in the predicted set\n",
    "cp_groups_df['covered'] = cp_groups_df.apply(\n",
    "    lambda r: int(r['true_label'] in r['pred_set']),\n",
    "    axis=1\n",
    ")"
   ]
  },
  {
   "cell_type": "code",
   "execution_count": 67,
   "id": "338ff529-1a6b-4b87-a931-8e4788d52aad",
   "metadata": {
    "execution": {
     "iopub.execute_input": "2025-07-30T12:52:31.073715Z",
     "iopub.status.busy": "2025-07-30T12:52:31.073220Z",
     "iopub.status.idle": "2025-07-30T12:52:31.078574Z",
     "shell.execute_reply": "2025-07-30T12:52:31.077657Z"
    },
    "papermill": {
     "duration": 0.036654,
     "end_time": "2025-07-30T12:52:31.080230",
     "exception": false,
     "start_time": "2025-07-30T12:52:31.043576",
     "status": "completed"
    },
    "tags": []
   },
   "outputs": [],
   "source": [
    "#cp_groups_df"
   ]
  },
  {
   "cell_type": "code",
   "execution_count": 68,
   "id": "90032e27-66df-4540-9169-4e89cfbaa758",
   "metadata": {
    "execution": {
     "iopub.execute_input": "2025-07-30T12:52:31.127628Z",
     "iopub.status.busy": "2025-07-30T12:52:31.127113Z",
     "iopub.status.idle": "2025-07-30T12:52:31.140008Z",
     "shell.execute_reply": "2025-07-30T12:52:31.139036Z"
    },
    "papermill": {
     "duration": 0.041179,
     "end_time": "2025-07-30T12:52:31.141681",
     "exception": false,
     "start_time": "2025-07-30T12:52:31.100502",
     "status": "completed"
    },
    "tags": []
   },
   "outputs": [],
   "source": [
    "subgroups = ['frau1','nongerman','nongerman_male','nongerman_female']\n",
    "\n",
    "# Conditional coverage for subgroup==1\n",
    "cond_coverage = {\n",
    "    g: cp_groups_df.loc[cp_groups_df[g]==1, 'covered'].mean()\n",
    "    for g in subgroups\n",
    "}"
   ]
  },
  {
   "cell_type": "code",
   "execution_count": 69,
   "id": "1e348fb1-b9c3-45bc-ba23-f016827a7e0d",
   "metadata": {
    "execution": {
     "iopub.execute_input": "2025-07-30T12:52:31.195608Z",
     "iopub.status.busy": "2025-07-30T12:52:31.195152Z",
     "iopub.status.idle": "2025-07-30T12:52:31.202628Z",
     "shell.execute_reply": "2025-07-30T12:52:31.201688Z"
    },
    "papermill": {
     "duration": 0.035897,
     "end_time": "2025-07-30T12:52:31.204425",
     "exception": false,
     "start_time": "2025-07-30T12:52:31.168528",
     "status": "completed"
    },
    "tags": []
   },
   "outputs": [
    {
     "data": {
      "text/plain": [
       "{'frau1': 0.912360156355304,\n",
       " 'nongerman': 0.9124235109189918,\n",
       " 'nongerman_male': 0.927316941367198,\n",
       " 'nongerman_female': 0.887779433681073}"
      ]
     },
     "execution_count": 69,
     "metadata": {},
     "output_type": "execute_result"
    }
   ],
   "source": [
    "cond_coverage"
   ]
  },
  {
   "cell_type": "code",
   "execution_count": 70,
   "id": "f5093324-c3dd-4d63-bc4c-8d945e5c8bbb",
   "metadata": {
    "execution": {
     "iopub.execute_input": "2025-07-30T12:52:31.258715Z",
     "iopub.status.busy": "2025-07-30T12:52:31.257966Z",
     "iopub.status.idle": "2025-07-30T12:52:31.266552Z",
     "shell.execute_reply": "2025-07-30T12:52:31.265633Z"
    },
    "papermill": {
     "duration": 0.03729,
     "end_time": "2025-07-30T12:52:31.268189",
     "exception": false,
     "start_time": "2025-07-30T12:52:31.230899",
     "status": "completed"
    },
    "tags": []
   },
   "outputs": [],
   "source": [
    "for subgroup, cov in cond_coverage.items():\n",
    "    cp_metrics_df[f\"cov_{subgroup}\"] = cov"
   ]
  },
  {
   "cell_type": "code",
   "execution_count": 71,
   "id": "6e872e10-dbe5-49e8-b554-5030c98ff75d",
   "metadata": {
    "execution": {
     "iopub.execute_input": "2025-07-30T12:52:31.321086Z",
     "iopub.status.busy": "2025-07-30T12:52:31.320569Z",
     "iopub.status.idle": "2025-07-30T12:52:31.341094Z",
     "shell.execute_reply": "2025-07-30T12:52:31.340066Z"
    },
    "papermill": {
     "duration": 0.048571,
     "end_time": "2025-07-30T12:52:31.343040",
     "exception": false,
     "start_time": "2025-07-30T12:52:31.294469",
     "status": "completed"
    },
    "tags": []
   },
   "outputs": [
    {
     "data": {
      "text/html": [
       "<div>\n",
       "<style scoped>\n",
       "    .dataframe tbody tr th:only-of-type {\n",
       "        vertical-align: middle;\n",
       "    }\n",
       "\n",
       "    .dataframe tbody tr th {\n",
       "        vertical-align: top;\n",
       "    }\n",
       "\n",
       "    .dataframe thead th {\n",
       "        text-align: right;\n",
       "    }\n",
       "</style>\n",
       "<table border=\"1\" class=\"dataframe\">\n",
       "  <thead>\n",
       "    <tr style=\"text-align: right;\">\n",
       "      <th></th>\n",
       "      <th>universe_id</th>\n",
       "      <th>universe_training_size</th>\n",
       "      <th>universe_scale</th>\n",
       "      <th>universe_model</th>\n",
       "      <th>universe_exclude_features</th>\n",
       "      <th>universe_exclude_subgroups</th>\n",
       "      <th>q_hat</th>\n",
       "      <th>coverage</th>\n",
       "      <th>avg_size</th>\n",
       "      <th>cov_frau1</th>\n",
       "      <th>cov_nongerman</th>\n",
       "      <th>cov_nongerman_male</th>\n",
       "      <th>cov_nongerman_female</th>\n",
       "    </tr>\n",
       "  </thead>\n",
       "  <tbody>\n",
       "    <tr>\n",
       "      <th>0</th>\n",
       "      <td>e1a23ce94a22c6cb1a4162da178861e1</td>\n",
       "      <td>25k</td>\n",
       "      <td>scale</td>\n",
       "      <td>elasticnet</td>\n",
       "      <td>nationality-sex</td>\n",
       "      <td>keep-all</td>\n",
       "      <td>0.67571</td>\n",
       "      <td>0.912429</td>\n",
       "      <td>1.125326</td>\n",
       "      <td>0.91236</td>\n",
       "      <td>0.912424</td>\n",
       "      <td>0.927317</td>\n",
       "      <td>0.887779</td>\n",
       "    </tr>\n",
       "  </tbody>\n",
       "</table>\n",
       "</div>"
      ],
      "text/plain": [
       "                        universe_id universe_training_size universe_scale  \\\n",
       "0  e1a23ce94a22c6cb1a4162da178861e1                    25k          scale   \n",
       "\n",
       "  universe_model universe_exclude_features universe_exclude_subgroups  \\\n",
       "0     elasticnet           nationality-sex                   keep-all   \n",
       "\n",
       "     q_hat  coverage  avg_size  cov_frau1  cov_nongerman  cov_nongerman_male  \\\n",
       "0  0.67571  0.912429  1.125326    0.91236       0.912424            0.927317   \n",
       "\n",
       "   cov_nongerman_female  \n",
       "0              0.887779  "
      ]
     },
     "execution_count": 71,
     "metadata": {},
     "output_type": "execute_result"
    }
   ],
   "source": [
    "cp_metrics_df"
   ]
  },
  {
   "cell_type": "markdown",
   "id": "33774451",
   "metadata": {
    "papermill": {
     "duration": 0.033033,
     "end_time": "2025-07-30T12:52:31.406300",
     "exception": false,
     "start_time": "2025-07-30T12:52:31.373267",
     "status": "completed"
    },
    "tags": []
   },
   "source": [
    "# (Fairness) Metrics"
   ]
  },
  {
   "cell_type": "code",
   "execution_count": 72,
   "id": "debc5d62",
   "metadata": {
    "execution": {
     "iopub.execute_input": "2025-07-30T12:52:31.468176Z",
     "iopub.status.busy": "2025-07-30T12:52:31.467628Z",
     "iopub.status.idle": "2025-07-30T12:52:31.489373Z",
     "shell.execute_reply": "2025-07-30T12:52:31.488407Z"
    },
    "papermill": {
     "duration": 0.055129,
     "end_time": "2025-07-30T12:52:31.491382",
     "exception": false,
     "start_time": "2025-07-30T12:52:31.436253",
     "status": "completed"
    },
    "tags": []
   },
   "outputs": [],
   "source": [
    "# do I need to include maxdeutsch1.missing?\n",
    "\n",
    "import numpy as np\n",
    "\n",
    "colname_to_bin = \"maxdeutsch1\"\n",
    "majority_value = org_train[colname_to_bin].mode()[0]\n",
    "\n",
    "org_test[\"majmin\"] = np.where(org_test[colname_to_bin] == majority_value, \"majority\", \"minority\")"
   ]
  },
  {
   "cell_type": "code",
   "execution_count": 73,
   "id": "06a50de5",
   "metadata": {
    "execution": {
     "iopub.execute_input": "2025-07-30T12:52:31.552712Z",
     "iopub.status.busy": "2025-07-30T12:52:31.552250Z",
     "iopub.status.idle": "2025-07-30T12:52:34.441242Z",
     "shell.execute_reply": "2025-07-30T12:52:34.440171Z"
    },
    "papermill": {
     "duration": 2.921127,
     "end_time": "2025-07-30T12:52:34.443075",
     "exception": false,
     "start_time": "2025-07-30T12:52:31.521948",
     "status": "completed"
    },
    "tags": []
   },
   "outputs": [],
   "source": [
    "example_universe = universe.copy()\n",
    "example_universe[\"cutoff\"] = example_universe[\"cutoff\"][0]\n",
    "example_universe[\"eval_fairness_grouping\"] = example_universe[\"eval_fairness_grouping\"][0]\n",
    "fairness_dict, metric_frame = universe_analysis.compute_metrics(\n",
    "    example_universe,\n",
    "    y_pred_prob=probs_test,\n",
    "    y_test=y_true,\n",
    "    org_test=org_test,\n",
    ")"
   ]
  },
  {
   "cell_type": "markdown",
   "id": "f95d4e02",
   "metadata": {
    "papermill": {
     "duration": 0.026236,
     "end_time": "2025-07-30T12:52:34.499466",
     "exception": false,
     "start_time": "2025-07-30T12:52:34.473230",
     "status": "completed"
    },
    "tags": []
   },
   "source": [
    "# Overall"
   ]
  },
  {
   "cell_type": "markdown",
   "id": "bdee4871",
   "metadata": {
    "papermill": {
     "duration": 0.025542,
     "end_time": "2025-07-30T12:52:34.551793",
     "exception": false,
     "start_time": "2025-07-30T12:52:34.526251",
     "status": "completed"
    },
    "tags": []
   },
   "source": [
    "Fairness\n",
    "Main fairness target: Equalized Odds. Seems to be a better fit than equal opportunity, since we're not only interested in Y = 1. Seems to be a better fit than demographic parity, since we also care about accuracy, not just equal distribution of preds.\n",
    "\n",
    "Pick column for computation of fairness metrics\n",
    "\n",
    "Performance\n",
    "Overall performance measures, most interesting in relation to the measures split by group below"
   ]
  },
  {
   "cell_type": "code",
   "execution_count": 74,
   "id": "c4e067c6",
   "metadata": {
    "execution": {
     "iopub.execute_input": "2025-07-30T12:52:34.605626Z",
     "iopub.status.busy": "2025-07-30T12:52:34.604707Z",
     "iopub.status.idle": "2025-07-30T12:52:34.614137Z",
     "shell.execute_reply": "2025-07-30T12:52:34.613284Z"
    },
    "papermill": {
     "duration": 0.038537,
     "end_time": "2025-07-30T12:52:34.615775",
     "exception": false,
     "start_time": "2025-07-30T12:52:34.577238",
     "status": "completed"
    },
    "tags": []
   },
   "outputs": [
    {
     "data": {
      "text/plain": [
       "accuracy                   0.225516\n",
       "balanced accuracy          0.551177\n",
       "f1                         0.246816\n",
       "precision                  0.140998\n",
       "false positive rate        0.886870\n",
       "false negative rate        0.010775\n",
       "selection rate             0.900000\n",
       "count                  89710.000000\n",
       "dtype: float64"
      ]
     },
     "execution_count": 74,
     "metadata": {},
     "output_type": "execute_result"
    }
   ],
   "source": [
    "metric_frame.overall"
   ]
  },
  {
   "cell_type": "markdown",
   "id": "e968fe9d",
   "metadata": {
    "papermill": {
     "duration": 0.025599,
     "end_time": "2025-07-30T12:52:34.668585",
     "exception": false,
     "start_time": "2025-07-30T12:52:34.642986",
     "status": "completed"
    },
    "tags": []
   },
   "source": [
    "By Group"
   ]
  },
  {
   "cell_type": "code",
   "execution_count": 75,
   "id": "ec325bce",
   "metadata": {
    "execution": {
     "iopub.execute_input": "2025-07-30T12:52:34.721285Z",
     "iopub.status.busy": "2025-07-30T12:52:34.720823Z",
     "iopub.status.idle": "2025-07-30T12:52:34.736499Z",
     "shell.execute_reply": "2025-07-30T12:52:34.735573Z"
    },
    "papermill": {
     "duration": 0.044079,
     "end_time": "2025-07-30T12:52:34.738085",
     "exception": false,
     "start_time": "2025-07-30T12:52:34.694006",
     "status": "completed"
    },
    "tags": []
   },
   "outputs": [
    {
     "data": {
      "text/html": [
       "<div>\n",
       "<style scoped>\n",
       "    .dataframe tbody tr th:only-of-type {\n",
       "        vertical-align: middle;\n",
       "    }\n",
       "\n",
       "    .dataframe tbody tr th {\n",
       "        vertical-align: top;\n",
       "    }\n",
       "\n",
       "    .dataframe thead th {\n",
       "        text-align: right;\n",
       "    }\n",
       "</style>\n",
       "<table border=\"1\" class=\"dataframe\">\n",
       "  <thead>\n",
       "    <tr style=\"text-align: right;\">\n",
       "      <th></th>\n",
       "      <th>accuracy</th>\n",
       "      <th>balanced accuracy</th>\n",
       "      <th>f1</th>\n",
       "      <th>precision</th>\n",
       "      <th>false positive rate</th>\n",
       "      <th>false negative rate</th>\n",
       "      <th>selection rate</th>\n",
       "      <th>count</th>\n",
       "    </tr>\n",
       "    <tr>\n",
       "      <th>majmin</th>\n",
       "      <th></th>\n",
       "      <th></th>\n",
       "      <th></th>\n",
       "      <th></th>\n",
       "      <th></th>\n",
       "      <th></th>\n",
       "      <th></th>\n",
       "      <th></th>\n",
       "    </tr>\n",
       "  </thead>\n",
       "  <tbody>\n",
       "    <tr>\n",
       "      <th>majority</th>\n",
       "      <td>0.247289</td>\n",
       "      <td>0.561241</td>\n",
       "      <td>0.25754</td>\n",
       "      <td>0.148069</td>\n",
       "      <td>0.865484</td>\n",
       "      <td>0.012035</td>\n",
       "      <td>0.881668</td>\n",
       "      <td>69170.0</td>\n",
       "    </tr>\n",
       "    <tr>\n",
       "      <th>minority</th>\n",
       "      <td>0.152191</td>\n",
       "      <td>0.518285</td>\n",
       "      <td>0.21282</td>\n",
       "      <td>0.119166</td>\n",
       "      <td>0.957517</td>\n",
       "      <td>0.005912</td>\n",
       "      <td>0.961733</td>\n",
       "      <td>20540.0</td>\n",
       "    </tr>\n",
       "  </tbody>\n",
       "</table>\n",
       "</div>"
      ],
      "text/plain": [
       "          accuracy  balanced accuracy       f1  precision  \\\n",
       "majmin                                                      \n",
       "majority  0.247289           0.561241  0.25754   0.148069   \n",
       "minority  0.152191           0.518285  0.21282   0.119166   \n",
       "\n",
       "          false positive rate  false negative rate  selection rate    count  \n",
       "majmin                                                                       \n",
       "majority             0.865484             0.012035        0.881668  69170.0  \n",
       "minority             0.957517             0.005912        0.961733  20540.0  "
      ]
     },
     "execution_count": 75,
     "metadata": {},
     "output_type": "execute_result"
    }
   ],
   "source": [
    "metric_frame.by_group"
   ]
  },
  {
   "cell_type": "code",
   "execution_count": 76,
   "id": "a9ddbe63",
   "metadata": {
    "execution": {
     "iopub.execute_input": "2025-07-30T12:52:34.792174Z",
     "iopub.status.busy": "2025-07-30T12:52:34.791489Z",
     "iopub.status.idle": "2025-07-30T12:52:37.142383Z",
     "shell.execute_reply": "2025-07-30T12:52:37.141410Z"
    },
    "papermill": {
     "duration": 2.379673,
     "end_time": "2025-07-30T12:52:37.144290",
     "exception": false,
     "start_time": "2025-07-30T12:52:34.764617",
     "status": "completed"
    },
    "tags": []
   },
   "outputs": [
    {
     "data": {
      "text/plain": [
       "array([[<Axes: title={'center': 'accuracy'}, xlabel='majmin'>,\n",
       "        <Axes: title={'center': 'balanced accuracy'}, xlabel='majmin'>,\n",
       "        <Axes: title={'center': 'f1'}, xlabel='majmin'>],\n",
       "       [<Axes: title={'center': 'precision'}, xlabel='majmin'>,\n",
       "        <Axes: title={'center': 'false positive rate'}, xlabel='majmin'>,\n",
       "        <Axes: title={'center': 'false negative rate'}, xlabel='majmin'>],\n",
       "       [<Axes: title={'center': 'selection rate'}, xlabel='majmin'>,\n",
       "        <Axes: title={'center': 'count'}, xlabel='majmin'>,\n",
       "        <Axes: xlabel='majmin'>]], dtype=object)"
      ]
     },
     "execution_count": 76,
     "metadata": {},
     "output_type": "execute_result"
    },
    {
     "data": {
      "image/png": "[encoded data removed]",
      "text/plain": [
       "<Figure size 1200x800 with 9 Axes>"
      ]
     },
     "metadata": {},
     "output_type": "display_data"
    }
   ],
   "source": [
    "# In a graphic\n",
    "metric_frame.by_group.plot.bar(\n",
    "    subplots=True,\n",
    "    layout=[3, 3],\n",
    "    legend=False,\n",
    "    figsize=[12, 8],\n",
    "    title=\"Show all metrics\",\n",
    ")"
   ]
  },
  {
   "cell_type": "markdown",
   "id": "f57a0bac",
   "metadata": {
    "papermill": {
     "duration": 0.026946,
     "end_time": "2025-07-30T12:52:37.201418",
     "exception": false,
     "start_time": "2025-07-30T12:52:37.174472",
     "status": "completed"
    },
    "tags": []
   },
   "source": [
    "# Final Output"
   ]
  },
  {
   "cell_type": "code",
   "execution_count": 77,
   "id": "96d280a3",
   "metadata": {
    "execution": {
     "iopub.execute_input": "2025-07-30T12:52:37.257987Z",
     "iopub.status.busy": "2025-07-30T12:52:37.257462Z",
     "iopub.status.idle": "2025-07-30T12:52:37.265979Z",
     "shell.execute_reply": "2025-07-30T12:52:37.264995Z"
    },
    "papermill": {
     "duration": 0.038427,
     "end_time": "2025-07-30T12:52:37.267788",
     "exception": false,
     "start_time": "2025-07-30T12:52:37.229361",
     "status": "completed"
    },
    "tags": []
   },
   "outputs": [
    {
     "data": {
      "text/plain": [
       "4"
      ]
     },
     "execution_count": 77,
     "metadata": {},
     "output_type": "execute_result"
    }
   ],
   "source": [
    "sub_universes = universe_analysis.generate_sub_universes()\n",
    "len(sub_universes)"
   ]
  },
  {
   "cell_type": "code",
   "execution_count": 78,
   "id": "92adf7ba",
   "metadata": {
    "execution": {
     "iopub.execute_input": "2025-07-30T12:52:37.336638Z",
     "iopub.status.busy": "2025-07-30T12:52:37.336188Z",
     "iopub.status.idle": "2025-07-30T12:52:37.342760Z",
     "shell.execute_reply": "2025-07-30T12:52:37.341809Z"
    },
    "papermill": {
     "duration": 0.044062,
     "end_time": "2025-07-30T12:52:37.344633",
     "exception": false,
     "start_time": "2025-07-30T12:52:37.300571",
     "status": "completed"
    },
    "tags": []
   },
   "outputs": [],
   "source": [
    "def filter_sub_universe_data(sub_universe, org_test):\n",
    "    # Keep all rows — no filtering\n",
    "    keep_rows_mask = np.ones(org_test.shape[0], dtype=bool)\n",
    "\n",
    "    print(f\"[INFO] Keeping all rows: {keep_rows_mask.sum()} rows retained.\")\n",
    "    return keep_rows_mask"
   ]
  },
  {
   "cell_type": "code",
   "execution_count": 79,
   "id": "4a759155",
   "metadata": {
    "execution": {
     "iopub.execute_input": "2025-07-30T12:52:37.415305Z",
     "iopub.status.busy": "2025-07-30T12:52:37.414276Z",
     "iopub.status.idle": "2025-07-30T12:52:48.185491Z",
     "shell.execute_reply": "2025-07-30T12:52:48.184400Z"
    },
    "papermill": {
     "duration": 10.807395,
     "end_time": "2025-07-30T12:52:48.187323",
     "exception": false,
     "start_time": "2025-07-30T12:52:37.379928",
     "status": "completed"
    },
    "tags": []
   },
   "outputs": [
    {
     "name": "stdout",
     "output_type": "stream",
     "text": [
      "Stopping execution_time clock.\n",
      "[INFO] Keeping all rows: 89710 rows retained.\n"
     ]
    },
    {
     "name": "stdout",
     "output_type": "stream",
     "text": [
      "[INFO] Keeping all rows: 89710 rows retained.\n"
     ]
    },
    {
     "name": "stdout",
     "output_type": "stream",
     "text": [
      "[INFO] Keeping all rows: 89710 rows retained.\n"
     ]
    },
    {
     "name": "stdout",
     "output_type": "stream",
     "text": [
      "[INFO] Keeping all rows: 89710 rows retained.\n"
     ]
    },
    {
     "data": {
      "text/html": [
       "<div>\n",
       "<style scoped>\n",
       "    .dataframe tbody tr th:only-of-type {\n",
       "        vertical-align: middle;\n",
       "    }\n",
       "\n",
       "    .dataframe tbody tr th {\n",
       "        vertical-align: top;\n",
       "    }\n",
       "\n",
       "    .dataframe thead th {\n",
       "        text-align: right;\n",
       "    }\n",
       "</style>\n",
       "<table border=\"1\" class=\"dataframe\">\n",
       "  <thead>\n",
       "    <tr style=\"text-align: right;\">\n",
       "      <th></th>\n",
       "      <th>run_no</th>\n",
       "      <th>universe_id</th>\n",
       "      <th>universe_settings</th>\n",
       "      <th>execution_time</th>\n",
       "      <th>test_size_n</th>\n",
       "      <th>test_size_frac</th>\n",
       "      <th>fair_main_equalized_odds_difference</th>\n",
       "      <th>fair_main_equalized_odds_ratio</th>\n",
       "      <th>fair_main_demographic_parity_difference</th>\n",
       "      <th>fair_main_demographic_parity_ratio</th>\n",
       "      <th>...</th>\n",
       "      <th>perf_grp_precision_0</th>\n",
       "      <th>perf_grp_precision_1</th>\n",
       "      <th>perf_grp_false positive rate_0</th>\n",
       "      <th>perf_grp_false positive rate_1</th>\n",
       "      <th>perf_grp_false negative rate_0</th>\n",
       "      <th>perf_grp_false negative rate_1</th>\n",
       "      <th>perf_grp_selection rate_0</th>\n",
       "      <th>perf_grp_selection rate_1</th>\n",
       "      <th>perf_grp_count_0</th>\n",
       "      <th>perf_grp_count_1</th>\n",
       "    </tr>\n",
       "  </thead>\n",
       "  <tbody>\n",
       "    <tr>\n",
       "      <th>0</th>\n",
       "      <td>12</td>\n",
       "      <td>e1a23ce94a22c6cb1a4162da178861e1</td>\n",
       "      <td>{\"cutoff\": \"quantile_0.1\", \"eval_fairness_grou...</td>\n",
       "      <td>52.445899</td>\n",
       "      <td>89710</td>\n",
       "      <td>1.0</td>\n",
       "      <td>0.092033</td>\n",
       "      <td>0.903884</td>\n",
       "      <td>0.080065</td>\n",
       "      <td>0.916749</td>\n",
       "      <td>...</td>\n",
       "      <td>NaN</td>\n",
       "      <td>NaN</td>\n",
       "      <td>NaN</td>\n",
       "      <td>NaN</td>\n",
       "      <td>NaN</td>\n",
       "      <td>NaN</td>\n",
       "      <td>NaN</td>\n",
       "      <td>NaN</td>\n",
       "      <td>NaN</td>\n",
       "      <td>NaN</td>\n",
       "    </tr>\n",
       "    <tr>\n",
       "      <th>0</th>\n",
       "      <td>12</td>\n",
       "      <td>e1a23ce94a22c6cb1a4162da178861e1</td>\n",
       "      <td>{\"cutoff\": \"quantile_0.1\", \"eval_fairness_grou...</td>\n",
       "      <td>52.445899</td>\n",
       "      <td>89710</td>\n",
       "      <td>1.0</td>\n",
       "      <td>0.092033</td>\n",
       "      <td>0.903884</td>\n",
       "      <td>0.080065</td>\n",
       "      <td>0.916749</td>\n",
       "      <td>...</td>\n",
       "      <td>0.119166</td>\n",
       "      <td>0.148069</td>\n",
       "      <td>0.957517</td>\n",
       "      <td>0.865484</td>\n",
       "      <td>0.005912</td>\n",
       "      <td>0.012035</td>\n",
       "      <td>0.961733</td>\n",
       "      <td>0.881668</td>\n",
       "      <td>20540.0</td>\n",
       "      <td>69170.0</td>\n",
       "    </tr>\n",
       "    <tr>\n",
       "      <th>0</th>\n",
       "      <td>12</td>\n",
       "      <td>e1a23ce94a22c6cb1a4162da178861e1</td>\n",
       "      <td>{\"cutoff\": \"quantile_0.25\", \"eval_fairness_gro...</td>\n",
       "      <td>52.445899</td>\n",
       "      <td>89710</td>\n",
       "      <td>1.0</td>\n",
       "      <td>0.169565</td>\n",
       "      <td>0.800600</td>\n",
       "      <td>0.147193</td>\n",
       "      <td>0.829537</td>\n",
       "      <td>...</td>\n",
       "      <td>NaN</td>\n",
       "      <td>NaN</td>\n",
       "      <td>NaN</td>\n",
       "      <td>NaN</td>\n",
       "      <td>NaN</td>\n",
       "      <td>NaN</td>\n",
       "      <td>NaN</td>\n",
       "      <td>NaN</td>\n",
       "      <td>NaN</td>\n",
       "      <td>NaN</td>\n",
       "    </tr>\n",
       "    <tr>\n",
       "      <th>0</th>\n",
       "      <td>12</td>\n",
       "      <td>e1a23ce94a22c6cb1a4162da178861e1</td>\n",
       "      <td>{\"cutoff\": \"quantile_0.25\", \"eval_fairness_gro...</td>\n",
       "      <td>52.445899</td>\n",
       "      <td>89710</td>\n",
       "      <td>1.0</td>\n",
       "      <td>0.169565</td>\n",
       "      <td>0.800600</td>\n",
       "      <td>0.147193</td>\n",
       "      <td>0.829537</td>\n",
       "      <td>...</td>\n",
       "      <td>0.128721</td>\n",
       "      <td>0.175130</td>\n",
       "      <td>0.850374</td>\n",
       "      <td>0.680810</td>\n",
       "      <td>0.035895</td>\n",
       "      <td>0.050656</td>\n",
       "      <td>0.863486</td>\n",
       "      <td>0.716293</td>\n",
       "      <td>20540.0</td>\n",
       "      <td>69170.0</td>\n",
       "    </tr>\n",
       "  </tbody>\n",
       "</table>\n",
       "<p>4 rows × 50 columns</p>\n",
       "</div>"
      ],
      "text/plain": [
       "  run_no                       universe_id  \\\n",
       "0     12  e1a23ce94a22c6cb1a4162da178861e1   \n",
       "0     12  e1a23ce94a22c6cb1a4162da178861e1   \n",
       "0     12  e1a23ce94a22c6cb1a4162da178861e1   \n",
       "0     12  e1a23ce94a22c6cb1a4162da178861e1   \n",
       "\n",
       "                                   universe_settings  execution_time  \\\n",
       "0  {\"cutoff\": \"quantile_0.1\", \"eval_fairness_grou...       52.445899   \n",
       "0  {\"cutoff\": \"quantile_0.1\", \"eval_fairness_grou...       52.445899   \n",
       "0  {\"cutoff\": \"quantile_0.25\", \"eval_fairness_gro...       52.445899   \n",
       "0  {\"cutoff\": \"quantile_0.25\", \"eval_fairness_gro...       52.445899   \n",
       "\n",
       "   test_size_n  test_size_frac  fair_main_equalized_odds_difference  \\\n",
       "0        89710             1.0                             0.092033   \n",
       "0        89710             1.0                             0.092033   \n",
       "0        89710             1.0                             0.169565   \n",
       "0        89710             1.0                             0.169565   \n",
       "\n",
       "   fair_main_equalized_odds_ratio  fair_main_demographic_parity_difference  \\\n",
       "0                        0.903884                                 0.080065   \n",
       "0                        0.903884                                 0.080065   \n",
       "0                        0.800600                                 0.147193   \n",
       "0                        0.800600                                 0.147193   \n",
       "\n",
       "   fair_main_demographic_parity_ratio  ...  perf_grp_precision_0  \\\n",
       "0                            0.916749  ...                   NaN   \n",
       "0                            0.916749  ...              0.119166   \n",
       "0                            0.829537  ...                   NaN   \n",
       "0                            0.829537  ...              0.128721   \n",
       "\n",
       "   perf_grp_precision_1  perf_grp_false positive rate_0  \\\n",
       "0                   NaN                             NaN   \n",
       "0              0.148069                        0.957517   \n",
       "0                   NaN                             NaN   \n",
       "0              0.175130                        0.850374   \n",
       "\n",
       "   perf_grp_false positive rate_1  perf_grp_false negative rate_0  \\\n",
       "0                             NaN                             NaN   \n",
       "0                        0.865484                        0.005912   \n",
       "0                             NaN                             NaN   \n",
       "0                        0.680810                        0.035895   \n",
       "\n",
       "   perf_grp_false negative rate_1  perf_grp_selection rate_0  \\\n",
       "0                             NaN                        NaN   \n",
       "0                        0.012035                   0.961733   \n",
       "0                             NaN                        NaN   \n",
       "0                        0.050656                   0.863486   \n",
       "\n",
       "   perf_grp_selection rate_1  perf_grp_count_0  perf_grp_count_1  \n",
       "0                        NaN               NaN               NaN  \n",
       "0                   0.881668           20540.0           69170.0  \n",
       "0                        NaN               NaN               NaN  \n",
       "0                   0.716293           20540.0           69170.0  \n",
       "\n",
       "[4 rows x 50 columns]"
      ]
     },
     "execution_count": 79,
     "metadata": {},
     "output_type": "execute_result"
    }
   ],
   "source": [
    "final_output = universe_analysis.generate_final_output(\n",
    "    y_pred_prob=probs_test,\n",
    "    y_test=y_true,\n",
    "    org_test=org_test,\n",
    "    filter_data=filter_sub_universe_data,\n",
    "    cp_metrics_df=cp_metrics_df,\n",
    "    save=True,\n",
    ")\n",
    "final_output"
   ]
  },
  {
   "cell_type": "code",
   "execution_count": null,
   "id": "721ff514-cb11-46f8-b6fc-50392f74b5cb",
   "metadata": {
    "papermill": {
     "duration": 0.030474,
     "end_time": "2025-07-30T12:52:48.254485",
     "exception": false,
     "start_time": "2025-07-30T12:52:48.224011",
     "status": "completed"
    },
    "tags": []
   },
   "outputs": [],
   "source": []
  }
 ],
 "metadata": {
  "celltoolbar": "Tags",
  "kernelspec": {
   "display_name": "Python (CMA Fairness)",
   "language": "python",
   "name": "cma_fair_env"
  },
  "language_info": {
   "codemirror_mode": {
    "name": "ipython",
    "version": 3
   },
   "file_extension": ".py",
   "mimetype": "text/x-python",
   "name": "python",
   "nbconvert_exporter": "python",
   "pygments_lexer": "ipython3",
   "version": "3.10.12"
  },
  "papermill": {
   "default_parameters": {},
   "duration": 67.35234,
   "end_time": "2025-07-30T12:52:48.903349",
   "environment_variables": {},
   "exception": null,
   "input_path": "universe_analysis.ipynb",
   "output_path": "output/runs/12/notebooks/m_12-e1a23ce94a22c6cb1a4162da178861e1.ipynb",
   "parameters": {
    "output_dir": "output",
    "run_no": "12",
    "seed": "2023",
    "universe": "{\"cutoff\": [\"quantile_0.1\", \"quantile_0.25\"], \"eval_fairness_grouping\": [\"majority-minority\", \"nationality-all\"], \"exclude_features\": \"nationality-sex\", \"exclude_subgroups\": \"keep-all\", \"model\": \"elasticnet\", \"scale\": \"scale\", \"training_size\": \"25k\", \"training_year\": \"2014\"}",
    "universe_id": "e1a23ce94a22c6cb1a4162da178861e1"
   },
   "start_time": "2025-07-30T12:51:41.551009",
   "version": "2.6.0"
  }
 },
 "nbformat": 4,
 "nbformat_minor": 5
}