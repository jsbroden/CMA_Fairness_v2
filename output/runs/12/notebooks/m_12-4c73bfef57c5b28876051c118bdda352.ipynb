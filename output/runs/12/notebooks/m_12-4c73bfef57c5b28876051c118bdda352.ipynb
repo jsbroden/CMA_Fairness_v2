{
 "cells": [
  {
   "cell_type": "code",
   "execution_count": 1,
   "id": "f159f837-637b-42ba-96b5-ec9a68c44524",
   "metadata": {
    "execution": {
     "iopub.execute_input": "2025-07-30T13:56:45.136790Z",
     "iopub.status.busy": "2025-07-30T13:56:45.136312Z",
     "iopub.status.idle": "2025-07-30T13:56:45.149304Z",
     "shell.execute_reply": "2025-07-30T13:56:45.148420Z"
    },
    "papermill": {
     "duration": 0.034074,
     "end_time": "2025-07-30T13:56:45.151706",
     "exception": false,
     "start_time": "2025-07-30T13:56:45.117632",
     "status": "completed"
    },
    "tags": []
   },
   "outputs": [
    {
     "name": "stdout",
     "output_type": "stream",
     "text": [
      "/dss/dsshome1/0C/ra93lal2/cma/CMA_Fairness_v2\n"
     ]
    },
    {
     "name": "stderr",
     "output_type": "stream",
     "text": [
      "/dss/dsshome1/0C/ra93lal2/.local/share/virtualenvs/CMA_Fairness_v2-3j10GkSs/lib/python3.10/site-packages/IPython/core/magics/osm.py:393: UserWarning: This is now an optional IPython functionality, using bookmarks requires you to install the `pickleshare` library.\n",
      "  bkms = self.shell.db.get('bookmarks', {})\n",
      "/dss/dsshome1/0C/ra93lal2/.local/share/virtualenvs/CMA_Fairness_v2-3j10GkSs/lib/python3.10/site-packages/IPython/core/magics/osm.py:417: UserWarning: This is now an optional IPython functionality, setting dhist requires you to install the `pickleshare` library.\n",
      "  self.shell.db['dhist'] = compress_dhist(dhist)[-100:]\n"
     ]
    }
   ],
   "source": [
    "%cd ~/cma/CMA_Fairness_v2"
   ]
  },
  {
   "cell_type": "markdown",
   "id": "de2603b9",
   "metadata": {
    "papermill": {
     "duration": 0.01927,
     "end_time": "2025-07-30T13:56:45.193507",
     "exception": false,
     "start_time": "2025-07-30T13:56:45.174237",
     "status": "completed"
    },
    "tags": []
   },
   "source": [
    "The following cell holds the definition of our parameters, these values can be overriden by rendering the with e.g. the following command:\n",
    "\n",
    "papermill -p alpha 0.2 -p ratio 0.3 universe_analysis.ipynb output/test_run.ipynb"
   ]
  },
  {
   "cell_type": "code",
   "execution_count": 2,
   "id": "a80968a0-40bb-4fa9-85ef-2d5eefb01975",
   "metadata": {
    "execution": {
     "iopub.execute_input": "2025-07-30T13:56:45.233427Z",
     "iopub.status.busy": "2025-07-30T13:56:45.232733Z",
     "iopub.status.idle": "2025-07-30T13:56:45.238758Z",
     "shell.execute_reply": "2025-07-30T13:56:45.237874Z"
    },
    "papermill": {
     "duration": 0.027868,
     "end_time": "2025-07-30T13:56:45.240449",
     "exception": false,
     "start_time": "2025-07-30T13:56:45.212581",
     "status": "completed"
    },
    "tags": []
   },
   "outputs": [
    {
     "name": "stdout",
     "output_type": "stream",
     "text": [
      "Current working directory: /dss/dsshome1/0C/ra93lal2/cma/CMA_Fairness_v2\n"
     ]
    }
   ],
   "source": [
    "import os\n",
    "print(\"Current working directory:\", os.getcwd())"
   ]
  },
  {
   "cell_type": "code",
   "execution_count": 3,
   "id": "2dce4c03",
   "metadata": {
    "execution": {
     "iopub.execute_input": "2025-07-30T13:56:45.281736Z",
     "iopub.status.busy": "2025-07-30T13:56:45.281028Z",
     "iopub.status.idle": "2025-07-30T13:56:45.288247Z",
     "shell.execute_reply": "2025-07-30T13:56:45.287268Z"
    },
    "papermill": {
     "duration": 0.0385,
     "end_time": "2025-07-30T13:56:45.298362",
     "exception": false,
     "start_time": "2025-07-30T13:56:45.259862",
     "status": "completed"
    },
    "tags": [
     "parameters"
    ]
   },
   "outputs": [],
   "source": [
    "run_no = 0\n",
    "universe_id = \"test\"\n",
    "universe = {\n",
    "    \"training_size\": \"25k\", # \"25k\", \"5k\", \"1k\"\n",
    "    \"training_year\": \"2014\", # \"2014\", \"2012_14\", \"2010_14\"\n",
    "    \"scale\": \"scale\", # \"scale\", \"do-not-scale\",\n",
    "    #\"stratify_split\": \"target\", # \"none\", \"target\", \"protected-attribute\", \"both\",\n",
    "    \"model\": \"elasticnet\", # \"logreg\", \"penalized_logreg\", \"rf\", \"gbm\", \"elasticnet\"\n",
    "    \"cutoff\": [\"quantile_0.15\", \"quantile_0.30\"],\n",
    "    \"exclude_features\": \"age\", # \"none\", \"nationality\", \"sex\", \"nationality-sex\", \"age\"\n",
    "    \"exclude_subgroups\": \"keep-all\", # \"keep-all\", \"drop-non-german\"\n",
    "    \"eval_fairness_grouping\": [\"majority-minority\", \"nationality-all\"]\n",
    "}\n",
    "\n",
    "output_dir=\"./output\"\n",
    "seed=0"
   ]
  },
  {
   "cell_type": "code",
   "execution_count": 4,
   "id": "4e9f2409",
   "metadata": {
    "execution": {
     "iopub.execute_input": "2025-07-30T13:56:45.340561Z",
     "iopub.status.busy": "2025-07-30T13:56:45.340089Z",
     "iopub.status.idle": "2025-07-30T13:56:45.345370Z",
     "shell.execute_reply": "2025-07-30T13:56:45.344399Z"
    },
    "papermill": {
     "duration": 0.027716,
     "end_time": "2025-07-30T13:56:45.346979",
     "exception": false,
     "start_time": "2025-07-30T13:56:45.319263",
     "status": "completed"
    },
    "tags": [
     "injected-parameters"
    ]
   },
   "outputs": [],
   "source": [
    "# Parameters\n",
    "universe_id = \"4c73bfef57c5b28876051c118bdda352\"\n",
    "run_no = \"12\"\n",
    "universe = \"{\\\"cutoff\\\": [\\\"quantile_0.1\\\", \\\"quantile_0.25\\\"], \\\"eval_fairness_grouping\\\": [\\\"majority-minority\\\", \\\"nationality-all\\\"], \\\"exclude_features\\\": \\\"age\\\", \\\"exclude_subgroups\\\": \\\"drop-non-german\\\", \\\"model\\\": \\\"rf\\\", \\\"scale\\\": \\\"scale\\\", \\\"training_size\\\": \\\"5k\\\", \\\"training_year\\\": \\\"2012_14\\\"}\"\n",
    "output_dir = \"output\"\n",
    "seed = \"2023\"\n"
   ]
  },
  {
   "cell_type": "code",
   "execution_count": 5,
   "id": "1650acaf",
   "metadata": {
    "execution": {
     "iopub.execute_input": "2025-07-30T13:56:45.392248Z",
     "iopub.status.busy": "2025-07-30T13:56:45.391632Z",
     "iopub.status.idle": "2025-07-30T13:56:45.396678Z",
     "shell.execute_reply": "2025-07-30T13:56:45.395679Z"
    },
    "papermill": {
     "duration": 0.031065,
     "end_time": "2025-07-30T13:56:45.399380",
     "exception": false,
     "start_time": "2025-07-30T13:56:45.368315",
     "status": "completed"
    },
    "tags": []
   },
   "outputs": [],
   "source": [
    "import json\n",
    "# Parse universe into dict if it is passed as a string\n",
    "if isinstance(universe, str):\n",
    "    universe = json.loads(universe)"
   ]
  },
  {
   "cell_type": "code",
   "execution_count": 6,
   "id": "16620c48",
   "metadata": {
    "execution": {
     "iopub.execute_input": "2025-07-30T13:56:45.445165Z",
     "iopub.status.busy": "2025-07-30T13:56:45.444618Z",
     "iopub.status.idle": "2025-07-30T13:56:45.495156Z",
     "shell.execute_reply": "2025-07-30T13:56:45.494209Z"
    },
    "papermill": {
     "duration": 0.075789,
     "end_time": "2025-07-30T13:56:45.497157",
     "exception": false,
     "start_time": "2025-07-30T13:56:45.421368",
     "status": "completed"
    },
    "tags": []
   },
   "outputs": [],
   "source": [
    "# Auto-reload the custom package\n",
    "%load_ext autoreload\n",
    "%autoreload 1\n",
    "%aimport fairness_multiverse"
   ]
  },
  {
   "cell_type": "code",
   "execution_count": 7,
   "id": "01c5c9f3",
   "metadata": {
    "execution": {
     "iopub.execute_input": "2025-07-30T13:56:45.544406Z",
     "iopub.status.busy": "2025-07-30T13:56:45.543502Z",
     "iopub.status.idle": "2025-07-30T13:56:47.340442Z",
     "shell.execute_reply": "2025-07-30T13:56:47.339602Z"
    },
    "papermill": {
     "duration": 1.821973,
     "end_time": "2025-07-30T13:56:47.341908",
     "exception": false,
     "start_time": "2025-07-30T13:56:45.519935",
     "status": "completed"
    },
    "tags": []
   },
   "outputs": [],
   "source": [
    "from fairness_multiverse.universe import UniverseAnalysis\n",
    "\n",
    "universe_analysis = UniverseAnalysis(\n",
    "    run_no = run_no,\n",
    "    universe_id = universe_id,\n",
    "    universe = universe,\n",
    "    output_dir=output_dir,\n",
    ")"
   ]
  },
  {
   "cell_type": "code",
   "execution_count": 8,
   "id": "106241f5",
   "metadata": {
    "execution": {
     "iopub.execute_input": "2025-07-30T13:56:47.369361Z",
     "iopub.status.busy": "2025-07-30T13:56:47.368859Z",
     "iopub.status.idle": "2025-07-30T13:56:47.375571Z",
     "shell.execute_reply": "2025-07-30T13:56:47.374641Z"
    },
    "papermill": {
     "duration": 0.024565,
     "end_time": "2025-07-30T13:56:47.377372",
     "exception": false,
     "start_time": "2025-07-30T13:56:47.352807",
     "status": "completed"
    },
    "tags": []
   },
   "outputs": [
    {
     "name": "stdout",
     "output_type": "stream",
     "text": [
      "Using Seed: 2023\n"
     ]
    }
   ],
   "source": [
    "import numpy as np\n",
    "parsed_seed = int(seed)\n",
    "np.random.seed(parsed_seed)\n",
    "print(f\"Using Seed: {parsed_seed}\")"
   ]
  },
  {
   "cell_type": "markdown",
   "id": "e0ebdc57",
   "metadata": {
    "papermill": {
     "duration": 0.020793,
     "end_time": "2025-07-30T13:56:47.419901",
     "exception": false,
     "start_time": "2025-07-30T13:56:47.399108",
     "status": "completed"
    },
    "tags": []
   },
   "source": [
    "# Loading Data"
   ]
  },
  {
   "cell_type": "markdown",
   "id": "681925a3",
   "metadata": {
    "papermill": {
     "duration": 0.020678,
     "end_time": "2025-07-30T13:56:47.452997",
     "exception": false,
     "start_time": "2025-07-30T13:56:47.432319",
     "status": "completed"
    },
    "tags": []
   },
   "source": [
    "Load siab_train, siab_test, siab_calib and/or \n",
    "load siab_train_features, siab_train_labels"
   ]
  },
  {
   "cell_type": "code",
   "execution_count": 9,
   "id": "f0496b8a",
   "metadata": {
    "execution": {
     "iopub.execute_input": "2025-07-30T13:56:47.497801Z",
     "iopub.status.busy": "2025-07-30T13:56:47.496553Z",
     "iopub.status.idle": "2025-07-30T13:56:59.740513Z",
     "shell.execute_reply": "2025-07-30T13:56:59.739184Z"
    },
    "papermill": {
     "duration": 12.268222,
     "end_time": "2025-07-30T13:56:59.742416",
     "exception": false,
     "start_time": "2025-07-30T13:56:47.474194",
     "status": "completed"
    },
    "tags": []
   },
   "outputs": [
    {
     "name": "stdout",
     "output_type": "stream",
     "text": [
      "Loading SIAB data from cache: data/siab_cached.csv.gz\n"
     ]
    },
    {
     "name": "stdout",
     "output_type": "stream",
     "text": [
      "(643690, 164)\n"
     ]
    }
   ],
   "source": [
    "from pathlib import Path\n",
    "import pandas as pd\n",
    "\n",
    "# File paths\n",
    "raw_file = Path(\"data/raw/siab.csv\")\n",
    "cache_file = Path(\"data/siab_cached.csv.gz\")\n",
    "\n",
    "# Ensure cache directory exists\n",
    "cache_file.parent.mkdir(parents=True, exist_ok=True)\n",
    "\n",
    "# Load with simple caching\n",
    "if cache_file.exists():\n",
    "    print(f\"Loading SIAB data from cache: {cache_file}\")\n",
    "    siab = pd.read_csv(cache_file, compression='gzip')\n",
    "else:\n",
    "    print(f\"Cache not found. Reading raw SIAB data: {raw_file}\")\n",
    "    siab = pd.read_csv(raw_file)\n",
    "    siab.to_csv(cache_file, index=False, compression='gzip')\n",
    "    print(f\"Cached SIAB data to: {cache_file}\")\n",
    "\n",
    "# Now use `siab` DataFrame as needed\n",
    "print(siab.shape)"
   ]
  },
  {
   "cell_type": "code",
   "execution_count": 10,
   "id": "db0ca512-5f53-4dba-abdb-a2888bca41ba",
   "metadata": {
    "execution": {
     "iopub.execute_input": "2025-07-30T13:56:59.790324Z",
     "iopub.status.busy": "2025-07-30T13:56:59.789439Z",
     "iopub.status.idle": "2025-07-30T13:56:59.795997Z",
     "shell.execute_reply": "2025-07-30T13:56:59.794973Z"
    },
    "papermill": {
     "duration": 0.031256,
     "end_time": "2025-07-30T13:56:59.797745",
     "exception": false,
     "start_time": "2025-07-30T13:56:59.766489",
     "status": "completed"
    },
    "tags": []
   },
   "outputs": [],
   "source": [
    "#siab"
   ]
  },
  {
   "cell_type": "code",
   "execution_count": 11,
   "id": "a0edb063",
   "metadata": {
    "execution": {
     "iopub.execute_input": "2025-07-30T13:56:59.843431Z",
     "iopub.status.busy": "2025-07-30T13:56:59.842919Z",
     "iopub.status.idle": "2025-07-30T13:56:59.848153Z",
     "shell.execute_reply": "2025-07-30T13:56:59.847206Z"
    },
    "papermill": {
     "duration": 0.029097,
     "end_time": "2025-07-30T13:56:59.849947",
     "exception": false,
     "start_time": "2025-07-30T13:56:59.820850",
     "status": "completed"
    },
    "tags": []
   },
   "outputs": [],
   "source": [
    "#import pandas as pd\n",
    "#\n",
    "#X_train = pd.read_csv(\"./data/X_train.csv\")\n",
    "#y_train = pd.read_csv(\"./data/y_train.csv\")"
   ]
  },
  {
   "cell_type": "code",
   "execution_count": 12,
   "id": "63d08085",
   "metadata": {
    "execution": {
     "iopub.execute_input": "2025-07-30T13:56:59.896738Z",
     "iopub.status.busy": "2025-07-30T13:56:59.895903Z",
     "iopub.status.idle": "2025-07-30T13:56:59.901154Z",
     "shell.execute_reply": "2025-07-30T13:56:59.900113Z"
    },
    "papermill": {
     "duration": 0.029959,
     "end_time": "2025-07-30T13:56:59.902953",
     "exception": false,
     "start_time": "2025-07-30T13:56:59.872994",
     "status": "completed"
    },
    "tags": []
   },
   "outputs": [],
   "source": [
    "#X_test = pd.read_csv(\"./data/X_test.csv\")\n",
    "#y_true = pd.read_csv(\"./data/y_test.csv\")"
   ]
  },
  {
   "cell_type": "code",
   "execution_count": 13,
   "id": "98a8d0fa-1d3d-4ed8-bb2c-281470e24add",
   "metadata": {
    "execution": {
     "iopub.execute_input": "2025-07-30T13:56:59.948312Z",
     "iopub.status.busy": "2025-07-30T13:56:59.947793Z",
     "iopub.status.idle": "2025-07-30T13:56:59.952748Z",
     "shell.execute_reply": "2025-07-30T13:56:59.951724Z"
    },
    "papermill": {
     "duration": 0.029718,
     "end_time": "2025-07-30T13:56:59.954396",
     "exception": false,
     "start_time": "2025-07-30T13:56:59.924678",
     "status": "completed"
    },
    "tags": []
   },
   "outputs": [],
   "source": [
    "# Calibration data for conformal\n",
    "#X_calib = pd.read_csv(\"./data/X_calib.csv\")\n",
    "#y_calib = pd.read_csv(\"./data/y_calib.csv\")"
   ]
  },
  {
   "cell_type": "markdown",
   "id": "997051c5-15bd-4b69-9786-c3001a3ce484",
   "metadata": {
    "papermill": {
     "duration": 0.019569,
     "end_time": "2025-07-30T13:56:59.996105",
     "exception": false,
     "start_time": "2025-07-30T13:56:59.976536",
     "status": "completed"
    },
    "tags": []
   },
   "source": [
    "# Splitting Data and Setting Training Data Size"
   ]
  },
  {
   "cell_type": "code",
   "execution_count": 14,
   "id": "e993b61f-042d-41a6-8c81-f55681f86335",
   "metadata": {
    "execution": {
     "iopub.execute_input": "2025-07-30T13:57:00.038885Z",
     "iopub.status.busy": "2025-07-30T13:57:00.038397Z",
     "iopub.status.idle": "2025-07-30T13:57:00.051284Z",
     "shell.execute_reply": "2025-07-30T13:57:00.050389Z"
    },
    "papermill": {
     "duration": 0.036152,
     "end_time": "2025-07-30T13:57:00.052982",
     "exception": false,
     "start_time": "2025-07-30T13:57:00.016830",
     "status": "completed"
    },
    "tags": []
   },
   "outputs": [],
   "source": [
    "def sample_by_year_size(df,\n",
    "                        training_year: str,\n",
    "                        training_size: str,\n",
    "                        random_state: int = 42):\n",
    "    # --- parse training_year into a list of int years ---\n",
    "    if \"_\" in training_year:\n",
    "        start_str, end_str = training_year.split(\"_\", 1)\n",
    "        start = int(start_str)\n",
    "        end   = int(end_str) if len(end_str) == 4 else (int(end_str) + (start // 100)*100)\n",
    "        years = list(range(start, end + 1))\n",
    "    else:\n",
    "        years = [int(training_year)]\n",
    "\n",
    "    df = df[df[\"year\"].isin(years)].reset_index(drop=True)\n",
    "\n",
    "    # --- map training_size to total number of samples ---\n",
    "    total_map = {\"25k\": 25_000, \"5k\": 5_000, \"1k\": 1_000}\n",
    "    if training_size not in total_map:\n",
    "        return df  # e.g. \"all\"\n",
    "\n",
    "    total_samples = total_map[training_size]\n",
    "    n_years       = len(years)\n",
    "    base          = total_samples // n_years\n",
    "    remainder     = total_samples % n_years\n",
    "\n",
    "    # --- build a dict: year -> how many to sample ---\n",
    "    # give +1 to the first `remainder` years in ascending order\n",
    "    quotas = {\n",
    "        year: base + (1 if idx < remainder else 0)\n",
    "        for idx, year in enumerate(sorted(years))\n",
    "    }\n",
    "\n",
    "    # --- sample per‐year according to the quota dict ---\n",
    "    sampled = (\n",
    "        df\n",
    "        .groupby(\"year\", group_keys=False)\n",
    "        .apply(lambda grp: grp.sample(\n",
    "            n=min(len(grp), quotas[grp.name]),\n",
    "            random_state=random_state))\n",
    "        .reset_index(drop=True)\n",
    "    )\n",
    "\n",
    "    return sampled"
   ]
  },
  {
   "cell_type": "code",
   "execution_count": 15,
   "id": "c0ccd338-0e02-41f3-a09d-f56f9266e3fb",
   "metadata": {
    "execution": {
     "iopub.execute_input": "2025-07-30T13:57:00.098945Z",
     "iopub.status.busy": "2025-07-30T13:57:00.098572Z",
     "iopub.status.idle": "2025-07-30T13:57:00.110369Z",
     "shell.execute_reply": "2025-07-30T13:57:00.109371Z"
    },
    "papermill": {
     "duration": 0.03627,
     "end_time": "2025-07-30T13:57:00.112112",
     "exception": false,
     "start_time": "2025-07-30T13:57:00.075842",
     "status": "completed"
    },
    "tags": []
   },
   "outputs": [
    {
     "data": {
      "text/plain": [
       "'5k'"
      ]
     },
     "execution_count": 15,
     "metadata": {},
     "output_type": "execute_result"
    }
   ],
   "source": [
    "universe[\"training_size\"]"
   ]
  },
  {
   "cell_type": "code",
   "execution_count": 16,
   "id": "ca707fd7-8047-4acd-bfa5-66248fbbf8e6",
   "metadata": {
    "execution": {
     "iopub.execute_input": "2025-07-30T13:57:00.157072Z",
     "iopub.status.busy": "2025-07-30T13:57:00.156173Z",
     "iopub.status.idle": "2025-07-30T13:57:00.163885Z",
     "shell.execute_reply": "2025-07-30T13:57:00.162900Z"
    },
    "papermill": {
     "duration": 0.031884,
     "end_time": "2025-07-30T13:57:00.165625",
     "exception": false,
     "start_time": "2025-07-30T13:57:00.133741",
     "status": "completed"
    },
    "tags": []
   },
   "outputs": [
    {
     "data": {
      "text/plain": [
       "'2012_14'"
      ]
     },
     "execution_count": 16,
     "metadata": {},
     "output_type": "execute_result"
    }
   ],
   "source": [
    "universe[\"training_year\"]"
   ]
  },
  {
   "cell_type": "code",
   "execution_count": 17,
   "id": "aea9c6ef-6f46-42c8-85eb-5a62025c1508",
   "metadata": {
    "execution": {
     "iopub.execute_input": "2025-07-30T13:57:00.210144Z",
     "iopub.status.busy": "2025-07-30T13:57:00.209223Z",
     "iopub.status.idle": "2025-07-30T13:57:00.826266Z",
     "shell.execute_reply": "2025-07-30T13:57:00.819659Z"
    },
    "papermill": {
     "duration": 0.640935,
     "end_time": "2025-07-30T13:57:00.828158",
     "exception": false,
     "start_time": "2025-07-30T13:57:00.187223",
     "status": "completed"
    },
    "tags": []
   },
   "outputs": [],
   "source": [
    "siab_train = sample_by_year_size(siab,\n",
    "                               training_year=universe[\"training_year\"],\n",
    "                               training_size=universe[\"training_size\"])"
   ]
  },
  {
   "cell_type": "code",
   "execution_count": 18,
   "id": "8d3afb32-789d-442c-8d5d-9f5aa8dd2eed",
   "metadata": {
    "execution": {
     "iopub.execute_input": "2025-07-30T13:57:00.872977Z",
     "iopub.status.busy": "2025-07-30T13:57:00.871690Z",
     "iopub.status.idle": "2025-07-30T13:57:00.880314Z",
     "shell.execute_reply": "2025-07-30T13:57:00.879300Z"
    },
    "papermill": {
     "duration": 0.032905,
     "end_time": "2025-07-30T13:57:00.882067",
     "exception": false,
     "start_time": "2025-07-30T13:57:00.849162",
     "status": "completed"
    },
    "tags": []
   },
   "outputs": [
    {
     "data": {
      "text/plain": [
       "(5000, 164)"
      ]
     },
     "execution_count": 18,
     "metadata": {},
     "output_type": "execute_result"
    }
   ],
   "source": [
    "siab_train.shape"
   ]
  },
  {
   "cell_type": "code",
   "execution_count": 19,
   "id": "d582db68-1a4c-47fb-84fc-08518dc1975a",
   "metadata": {
    "execution": {
     "iopub.execute_input": "2025-07-30T13:57:00.923950Z",
     "iopub.status.busy": "2025-07-30T13:57:00.923332Z",
     "iopub.status.idle": "2025-07-30T13:57:00.933055Z",
     "shell.execute_reply": "2025-07-30T13:57:00.932145Z"
    },
    "papermill": {
     "duration": 0.031995,
     "end_time": "2025-07-30T13:57:00.934689",
     "exception": false,
     "start_time": "2025-07-30T13:57:00.902694",
     "status": "completed"
    },
    "tags": []
   },
   "outputs": [
    {
     "data": {
      "text/plain": [
       "year\n",
       "2012    1667\n",
       "2013    1667\n",
       "2014    1666\n",
       "dtype: int64"
      ]
     },
     "metadata": {},
     "output_type": "display_data"
    }
   ],
   "source": [
    "display(siab_train.groupby(\"year\").size())"
   ]
  },
  {
   "cell_type": "code",
   "execution_count": 20,
   "id": "a561edb4-d032-42cb-8256-22eac1111c64",
   "metadata": {
    "execution": {
     "iopub.execute_input": "2025-07-30T13:57:00.978287Z",
     "iopub.status.busy": "2025-07-30T13:57:00.977793Z",
     "iopub.status.idle": "2025-07-30T13:57:01.244362Z",
     "shell.execute_reply": "2025-07-30T13:57:01.243364Z"
    },
    "papermill": {
     "duration": 0.290931,
     "end_time": "2025-07-30T13:57:01.246157",
     "exception": false,
     "start_time": "2025-07-30T13:57:00.955226",
     "status": "completed"
    },
    "tags": []
   },
   "outputs": [],
   "source": [
    "#siab_train = siab_s[siab_s.year < 2015]\n",
    "siab_calib = siab[siab.year == 2015]\n",
    "siab_test = siab[siab.year == 2016]"
   ]
  },
  {
   "cell_type": "code",
   "execution_count": 21,
   "id": "472de16f-c3db-4916-846b-1f0de9cf1746",
   "metadata": {
    "execution": {
     "iopub.execute_input": "2025-07-30T13:57:01.290884Z",
     "iopub.status.busy": "2025-07-30T13:57:01.290014Z",
     "iopub.status.idle": "2025-07-30T13:57:01.298287Z",
     "shell.execute_reply": "2025-07-30T13:57:01.297285Z"
    },
    "papermill": {
     "duration": 0.032592,
     "end_time": "2025-07-30T13:57:01.300225",
     "exception": false,
     "start_time": "2025-07-30T13:57:01.267633",
     "status": "completed"
    },
    "tags": []
   },
   "outputs": [],
   "source": [
    "X_train = siab_train.iloc[:,4:164]\n",
    "y_train = siab_train.iloc[:, [3]]"
   ]
  },
  {
   "cell_type": "code",
   "execution_count": 22,
   "id": "828c96af-f43a-4ed6-ba47-8ac73a47d56c",
   "metadata": {
    "execution": {
     "iopub.execute_input": "2025-07-30T13:57:01.347294Z",
     "iopub.status.busy": "2025-07-30T13:57:01.346755Z",
     "iopub.status.idle": "2025-07-30T13:57:01.408547Z",
     "shell.execute_reply": "2025-07-30T13:57:01.407422Z"
    },
    "papermill": {
     "duration": 0.0869,
     "end_time": "2025-07-30T13:57:01.410358",
     "exception": false,
     "start_time": "2025-07-30T13:57:01.323458",
     "status": "completed"
    },
    "tags": []
   },
   "outputs": [],
   "source": [
    "X_calib = siab_calib.iloc[:,4:164]\n",
    "y_calib = siab_calib.iloc[:, [3]]"
   ]
  },
  {
   "cell_type": "code",
   "execution_count": 23,
   "id": "c34be9c3-6bd6-476e-acd3-845840e303be",
   "metadata": {
    "execution": {
     "iopub.execute_input": "2025-07-30T13:57:01.458188Z",
     "iopub.status.busy": "2025-07-30T13:57:01.457194Z",
     "iopub.status.idle": "2025-07-30T13:57:01.513341Z",
     "shell.execute_reply": "2025-07-30T13:57:01.512166Z"
    },
    "papermill": {
     "duration": 0.081691,
     "end_time": "2025-07-30T13:57:01.515588",
     "exception": false,
     "start_time": "2025-07-30T13:57:01.433897",
     "status": "completed"
    },
    "tags": []
   },
   "outputs": [],
   "source": [
    "X_test = siab_test.iloc[:,4:164]\n",
    "y_true = siab_test.iloc[:, [3]]"
   ]
  },
  {
   "cell_type": "markdown",
   "id": "9901737e-04df-44f0-9100-f5ad144ed040",
   "metadata": {
    "papermill": {
     "duration": 0.022282,
     "end_time": "2025-07-30T13:57:01.560863",
     "exception": false,
     "start_time": "2025-07-30T13:57:01.538581",
     "status": "completed"
    },
    "tags": []
   },
   "source": [
    "# Splitting Data and Setting Training Data Size OLD VERSION"
   ]
  },
  {
   "cell_type": "code",
   "execution_count": 24,
   "id": "acbc8f7d-8fc8-4e86-8c59-5dcb0f58384b",
   "metadata": {
    "execution": {
     "iopub.execute_input": "2025-07-30T13:57:01.609636Z",
     "iopub.status.busy": "2025-07-30T13:57:01.609130Z",
     "iopub.status.idle": "2025-07-30T13:57:01.614569Z",
     "shell.execute_reply": "2025-07-30T13:57:01.613726Z"
    },
    "papermill": {
     "duration": 0.03107,
     "end_time": "2025-07-30T13:57:01.615987",
     "exception": false,
     "start_time": "2025-07-30T13:57:01.584917",
     "status": "completed"
    },
    "tags": []
   },
   "outputs": [],
   "source": [
    "#def sample_by_year(df, training_size, random_state=42):\n",
    "#    if training_size == \"2014\":\n",
    "#        return df[df[\"year\"] == 2014].reset_index(drop=True)\n",
    "#    \n",
    "#    size_map = {\n",
    "#        \"25k\": 5000,\n",
    "#        \"5k\": 1000,\n",
    "#        \"1k\": 200\n",
    "#    }\n",
    "#\n",
    "#    if training_size not in size_map:\n",
    "#        return df.reset_index(drop=True)  # use all data\n",
    "#\n",
    "#    n_per_year = size_map[training_size]\n",
    "#    grouped = df.groupby(\"year\")\n",
    "#    sampled = grouped.apply(lambda x: x.sample(n=min(n_per_year, len(x)), random_state=random_state))\n",
    "#    return sampled.reset_index(drop=True)"
   ]
  },
  {
   "cell_type": "code",
   "execution_count": 25,
   "id": "6d931f52-beaf-43ff-9e78-9d44a448d54e",
   "metadata": {
    "execution": {
     "iopub.execute_input": "2025-07-30T13:57:01.665078Z",
     "iopub.status.busy": "2025-07-30T13:57:01.664590Z",
     "iopub.status.idle": "2025-07-30T13:57:01.669835Z",
     "shell.execute_reply": "2025-07-30T13:57:01.668726Z"
    },
    "papermill": {
     "duration": 0.031207,
     "end_time": "2025-07-30T13:57:01.671414",
     "exception": false,
     "start_time": "2025-07-30T13:57:01.640207",
     "status": "completed"
    },
    "tags": []
   },
   "outputs": [],
   "source": [
    "#siab_s = sample_by_year(siab, universe[\"training_size\"])"
   ]
  },
  {
   "cell_type": "code",
   "execution_count": 26,
   "id": "5db0a40e-a4e2-4920-be85-b12ae061d70d",
   "metadata": {
    "execution": {
     "iopub.execute_input": "2025-07-30T13:57:01.721998Z",
     "iopub.status.busy": "2025-07-30T13:57:01.721297Z",
     "iopub.status.idle": "2025-07-30T13:57:01.726843Z",
     "shell.execute_reply": "2025-07-30T13:57:01.725933Z"
    },
    "papermill": {
     "duration": 0.03414,
     "end_time": "2025-07-30T13:57:01.728666",
     "exception": false,
     "start_time": "2025-07-30T13:57:01.694526",
     "status": "completed"
    },
    "tags": []
   },
   "outputs": [],
   "source": [
    "#display(siab_s.groupby(\"year\").size())"
   ]
  },
  {
   "cell_type": "code",
   "execution_count": 27,
   "id": "e6c733c5",
   "metadata": {
    "execution": {
     "iopub.execute_input": "2025-07-30T13:57:01.776257Z",
     "iopub.status.busy": "2025-07-30T13:57:01.775503Z",
     "iopub.status.idle": "2025-07-30T13:57:01.874540Z",
     "shell.execute_reply": "2025-07-30T13:57:01.873552Z"
    },
    "papermill": {
     "duration": 0.124233,
     "end_time": "2025-07-30T13:57:01.876510",
     "exception": false,
     "start_time": "2025-07-30T13:57:01.752277",
     "status": "completed"
    },
    "tags": []
   },
   "outputs": [],
   "source": [
    "# Auxiliary data needed downstream in the pipeline\n",
    "\n",
    "org_train = X_train.copy()\n",
    "org_test = X_test.copy()\n",
    "org_calib = X_calib.copy()"
   ]
  },
  {
   "cell_type": "code",
   "execution_count": 28,
   "id": "1466abac-c6da-4492-a62f-4240ae3783af",
   "metadata": {
    "execution": {
     "iopub.execute_input": "2025-07-30T13:57:01.923674Z",
     "iopub.status.busy": "2025-07-30T13:57:01.922771Z",
     "iopub.status.idle": "2025-07-30T13:57:01.928921Z",
     "shell.execute_reply": "2025-07-30T13:57:01.928016Z"
    },
    "papermill": {
     "duration": 0.030892,
     "end_time": "2025-07-30T13:57:01.930594",
     "exception": false,
     "start_time": "2025-07-30T13:57:01.899702",
     "status": "completed"
    },
    "tags": []
   },
   "outputs": [],
   "source": [
    "# put in other script?\n",
    "# Group sizes\n",
    "\n",
    "#def calculate_percentages(df, df_name):\n",
    "#    total_entries = len(df)\n",
    "#\n",
    "#    female_pct = (df['frau1'] == 1).mean() * 100\n",
    "#    non_german_pct = ((df['maxdeutsch1'] == 0) & (df['maxdeutsch.Missing.'] == 0)).mean() * 100\n",
    "#    non_german_male_pct = ((df['frau1'] == 0) & (df['maxdeutsch1'] == 0) & (df['maxdeutsch.Missing.'] == 0)).mean() * 100\n",
    "#    non_german_female_pct = ((df['frau1'] == 1) & (df['maxdeutsch1'] == 0) & (df['maxdeutsch.Missing.'] == 0)).mean() * 100\n",
    "#\n",
    "#    print(f\"--- {df_name} ---\")\n",
    "#    print(f\"Female: {female_pct:.2f}%\")\n",
    "#    print(f\"Non-German: {non_german_pct:.2f}%\")\n",
    "#    print(f\"Non-German Male: {non_german_male_pct:.2f}%\")\n",
    "#    print(f\"Non-German Female: {non_german_female_pct:.2f}%\\n\")\n",
    "#\n",
    "## Calculate for each DataFrame\n",
    "#calculate_percentages(siab_calib, \"siab_calib\")\n",
    "#calculate_percentages(siab_test, \"siab_test\")\n",
    "#calculate_percentages(siab_train, \"siab_train\")"
   ]
  },
  {
   "cell_type": "markdown",
   "id": "0a4a1b33",
   "metadata": {
    "papermill": {
     "duration": 0.022955,
     "end_time": "2025-07-30T13:57:01.977534",
     "exception": false,
     "start_time": "2025-07-30T13:57:01.954579",
     "status": "completed"
    },
    "tags": []
   },
   "source": [
    "# Preprocessing Data"
   ]
  },
  {
   "cell_type": "code",
   "execution_count": 29,
   "id": "ca879031",
   "metadata": {
    "execution": {
     "iopub.execute_input": "2025-07-30T13:57:02.022823Z",
     "iopub.status.busy": "2025-07-30T13:57:02.022362Z",
     "iopub.status.idle": "2025-07-30T13:57:02.028530Z",
     "shell.execute_reply": "2025-07-30T13:57:02.027696Z"
    },
    "papermill": {
     "duration": 0.031481,
     "end_time": "2025-07-30T13:57:02.030493",
     "exception": false,
     "start_time": "2025-07-30T13:57:01.999012",
     "status": "completed"
    },
    "tags": []
   },
   "outputs": [],
   "source": [
    "# EXCLUDE PROTECTED FEATURES\n",
    "# ----------------------\n",
    "# \"exclude_features\": \"none\", # \"nationality\", \"sex\", \"nationality-sex\"\n",
    "\n",
    "excluded_features = universe[\"exclude_features\"].split(\"-\") # split, e.g.: \"nationality-sex\" -> [\"nationality\", \"sex\"]\n",
    "excluded_features_dictionary = {\n",
    "    \"nationality\": [\"maxdeutsch1\", \"maxdeutsch.Missing.\"],\n",
    "    \"sex\": [\"frau1\"],\n",
    "    \"age\": [\"age\"],\n",
    "}\n"
   ]
  },
  {
   "cell_type": "code",
   "execution_count": 30,
   "id": "b745ac60",
   "metadata": {
    "execution": {
     "iopub.execute_input": "2025-07-30T13:57:02.076719Z",
     "iopub.status.busy": "2025-07-30T13:57:02.076193Z",
     "iopub.status.idle": "2025-07-30T13:57:02.082073Z",
     "shell.execute_reply": "2025-07-30T13:57:02.081123Z"
    },
    "papermill": {
     "duration": 0.030146,
     "end_time": "2025-07-30T13:57:02.083892",
     "exception": false,
     "start_time": "2025-07-30T13:57:02.053746",
     "status": "completed"
    },
    "tags": []
   },
   "outputs": [],
   "source": [
    "# Code nice names to column names\n",
    "\n",
    "excluded_features_columns = [\n",
    "    excluded_features_dictionary[f] for f in excluded_features if len(f) > 0 and f != \"none\"\n",
    "]"
   ]
  },
  {
   "cell_type": "code",
   "execution_count": 31,
   "id": "f84f73a2",
   "metadata": {
    "execution": {
     "iopub.execute_input": "2025-07-30T13:57:02.130456Z",
     "iopub.status.busy": "2025-07-30T13:57:02.130002Z",
     "iopub.status.idle": "2025-07-30T13:57:02.142719Z",
     "shell.execute_reply": "2025-07-30T13:57:02.141702Z"
    },
    "papermill": {
     "duration": 0.037565,
     "end_time": "2025-07-30T13:57:02.144520",
     "exception": false,
     "start_time": "2025-07-30T13:57:02.106955",
     "status": "completed"
    },
    "tags": []
   },
   "outputs": [],
   "source": [
    "from utils import flatten_once\n",
    "\n",
    "excluded_features_columns = flatten_once(excluded_features_columns)"
   ]
  },
  {
   "cell_type": "code",
   "execution_count": 32,
   "id": "884dea22",
   "metadata": {
    "execution": {
     "iopub.execute_input": "2025-07-30T13:57:02.193114Z",
     "iopub.status.busy": "2025-07-30T13:57:02.192470Z",
     "iopub.status.idle": "2025-07-30T13:57:02.201752Z",
     "shell.execute_reply": "2025-07-30T13:57:02.200743Z"
    },
    "papermill": {
     "duration": 0.035602,
     "end_time": "2025-07-30T13:57:02.203473",
     "exception": false,
     "start_time": "2025-07-30T13:57:02.167871",
     "status": "completed"
    },
    "tags": []
   },
   "outputs": [
    {
     "name": "stdout",
     "output_type": "stream",
     "text": [
      "Dropping features: ['age']\n"
     ]
    }
   ],
   "source": [
    "if len(excluded_features_columns) > 0:\n",
    "    print(f\"Dropping features: {excluded_features_columns}\")\n",
    "    X_train.drop(excluded_features_columns, axis=1, inplace=True)"
   ]
  },
  {
   "cell_type": "code",
   "execution_count": 33,
   "id": "95ab8b16",
   "metadata": {
    "execution": {
     "iopub.execute_input": "2025-07-30T13:57:02.251963Z",
     "iopub.status.busy": "2025-07-30T13:57:02.251469Z",
     "iopub.status.idle": "2025-07-30T13:57:02.308858Z",
     "shell.execute_reply": "2025-07-30T13:57:02.307734Z"
    },
    "papermill": {
     "duration": 0.082895,
     "end_time": "2025-07-30T13:57:02.310512",
     "exception": false,
     "start_time": "2025-07-30T13:57:02.227617",
     "status": "completed"
    },
    "tags": []
   },
   "outputs": [
    {
     "name": "stdout",
     "output_type": "stream",
     "text": [
      "Dropping features: ['age']\n"
     ]
    }
   ],
   "source": [
    "if len(excluded_features_columns) > 0:\n",
    "    print(f\"Dropping features: {excluded_features_columns}\")\n",
    "    X_test.drop(excluded_features_columns, axis=1, inplace=True)"
   ]
  },
  {
   "cell_type": "code",
   "execution_count": 34,
   "id": "1853aaf5-fb9f-46cb-a2b5-8ea4ae2237e4",
   "metadata": {
    "execution": {
     "iopub.execute_input": "2025-07-30T13:57:02.357201Z",
     "iopub.status.busy": "2025-07-30T13:57:02.356708Z",
     "iopub.status.idle": "2025-07-30T13:57:02.408455Z",
     "shell.execute_reply": "2025-07-30T13:57:02.407459Z"
    },
    "papermill": {
     "duration": 0.076533,
     "end_time": "2025-07-30T13:57:02.410255",
     "exception": false,
     "start_time": "2025-07-30T13:57:02.333722",
     "status": "completed"
    },
    "tags": []
   },
   "outputs": [
    {
     "name": "stdout",
     "output_type": "stream",
     "text": [
      "Dropping features: ['age']\n"
     ]
    }
   ],
   "source": [
    "if len(excluded_features_columns) > 0:\n",
    "    print(f\"Dropping features: {excluded_features_columns}\")\n",
    "    X_calib.drop(excluded_features_columns, axis=1, inplace=True)"
   ]
  },
  {
   "cell_type": "code",
   "execution_count": 35,
   "id": "6727d079-03e5-481e-9d38-292a90b7a0a8",
   "metadata": {
    "execution": {
     "iopub.execute_input": "2025-07-30T13:57:02.472085Z",
     "iopub.status.busy": "2025-07-30T13:57:02.471233Z",
     "iopub.status.idle": "2025-07-30T13:57:02.477201Z",
     "shell.execute_reply": "2025-07-30T13:57:02.476186Z"
    },
    "papermill": {
     "duration": 0.031934,
     "end_time": "2025-07-30T13:57:02.479119",
     "exception": false,
     "start_time": "2025-07-30T13:57:02.447185",
     "status": "completed"
    },
    "tags": []
   },
   "outputs": [],
   "source": [
    "# SPLIT & STRATIFY DATA\n",
    "# ----------------------"
   ]
  },
  {
   "cell_type": "code",
   "execution_count": 36,
   "id": "76c4dc6d",
   "metadata": {
    "execution": {
     "iopub.execute_input": "2025-07-30T13:57:02.527192Z",
     "iopub.status.busy": "2025-07-30T13:57:02.526721Z",
     "iopub.status.idle": "2025-07-30T13:57:02.531961Z",
     "shell.execute_reply": "2025-07-30T13:57:02.531051Z"
    },
    "papermill": {
     "duration": 0.03038,
     "end_time": "2025-07-30T13:57:02.533743",
     "exception": false,
     "start_time": "2025-07-30T13:57:02.503363",
     "status": "completed"
    },
    "tags": []
   },
   "outputs": [],
   "source": [
    "# EXCLUDE CERTAIN SUBGROUPS\n",
    "# ----------------------\n",
    "\n",
    "mode = universe.get(\"exclude_subgroups\", \"keep-all\") \n",
    "# Fetches the exclude_subgroups setting from the universe dict.\n",
    "# Defaults to \"keep-all\" if the key is missing."
   ]
  },
  {
   "cell_type": "code",
   "execution_count": 37,
   "id": "21994072",
   "metadata": {
    "execution": {
     "iopub.execute_input": "2025-07-30T13:57:02.581595Z",
     "iopub.status.busy": "2025-07-30T13:57:02.581146Z",
     "iopub.status.idle": "2025-07-30T13:57:02.587906Z",
     "shell.execute_reply": "2025-07-30T13:57:02.586959Z"
    },
    "papermill": {
     "duration": 0.03189,
     "end_time": "2025-07-30T13:57:02.589694",
     "exception": false,
     "start_time": "2025-07-30T13:57:02.557804",
     "status": "completed"
    },
    "tags": []
   },
   "outputs": [],
   "source": [
    "if mode == \"keep-all\":\n",
    "    keep_mask = pd.Series(True, index=org_train.index)\n",
    "\n",
    "# org_train contains the original feature columns from features_org (in Simson)\n",
    "# features_org contains unprocessed features, for me X_train at beginning ???\n",
    "# For keep-all, creates a boolean Series (keep_mask) of all True, so no rows are removed.\n",
    "\n",
    "elif mode == \"drop-non-german\":\n",
    "    keep_mask = org_train[\"maxdeutsch1\"] == 1 # ??? what about missing values?\n",
    "\n",
    "else:\n",
    "    raise ValueError(f\"Unsupported mode for exclude_subgroups: {mode}\")\n"
   ]
  },
  {
   "cell_type": "code",
   "execution_count": 38,
   "id": "71651440",
   "metadata": {
    "execution": {
     "iopub.execute_input": "2025-07-30T13:57:02.639526Z",
     "iopub.status.busy": "2025-07-30T13:57:02.639052Z",
     "iopub.status.idle": "2025-07-30T13:57:02.646403Z",
     "shell.execute_reply": "2025-07-30T13:57:02.645608Z"
    },
    "papermill": {
     "duration": 0.033468,
     "end_time": "2025-07-30T13:57:02.647893",
     "exception": false,
     "start_time": "2025-07-30T13:57:02.614425",
     "status": "completed"
    },
    "tags": []
   },
   "outputs": [
    {
     "name": "stdout",
     "output_type": "stream",
     "text": [
      "Dropping 665 rows (13.30%) where mode='drop-non-german'\n"
     ]
    }
   ],
   "source": [
    "n_drop = (~keep_mask).sum() # Calculates how many rows are set to be dropped\n",
    "if n_drop > 0:\n",
    "    pct = n_drop / len(keep_mask) * 100\n",
    "    print(f\"Dropping {n_drop} rows ({pct:.2f}%) where mode='{mode}'\")"
   ]
  },
  {
   "cell_type": "code",
   "execution_count": 39,
   "id": "5fb8eee5",
   "metadata": {
    "execution": {
     "iopub.execute_input": "2025-07-30T13:57:02.697387Z",
     "iopub.status.busy": "2025-07-30T13:57:02.696627Z",
     "iopub.status.idle": "2025-07-30T13:57:02.705778Z",
     "shell.execute_reply": "2025-07-30T13:57:02.704781Z"
    },
    "papermill": {
     "duration": 0.035874,
     "end_time": "2025-07-30T13:57:02.707494",
     "exception": false,
     "start_time": "2025-07-30T13:57:02.671620",
     "status": "completed"
    },
    "tags": []
   },
   "outputs": [],
   "source": [
    "X_train = X_train[keep_mask]"
   ]
  },
  {
   "cell_type": "code",
   "execution_count": 40,
   "id": "b202bb3a",
   "metadata": {
    "execution": {
     "iopub.execute_input": "2025-07-30T13:57:02.757187Z",
     "iopub.status.busy": "2025-07-30T13:57:02.756546Z",
     "iopub.status.idle": "2025-07-30T13:57:02.763375Z",
     "shell.execute_reply": "2025-07-30T13:57:02.762514Z"
    },
    "papermill": {
     "duration": 0.033993,
     "end_time": "2025-07-30T13:57:02.765089",
     "exception": false,
     "start_time": "2025-07-30T13:57:02.731096",
     "status": "completed"
    },
    "tags": []
   },
   "outputs": [],
   "source": [
    "y_train = y_train[keep_mask]"
   ]
  },
  {
   "cell_type": "markdown",
   "id": "493e2ac3",
   "metadata": {
    "papermill": {
     "duration": 0.024158,
     "end_time": "2025-07-30T13:57:02.812923",
     "exception": false,
     "start_time": "2025-07-30T13:57:02.788765",
     "status": "completed"
    },
    "tags": []
   },
   "source": [
    "# Model Training"
   ]
  },
  {
   "cell_type": "code",
   "execution_count": 41,
   "id": "679e1268",
   "metadata": {
    "execution": {
     "iopub.execute_input": "2025-07-30T13:57:02.862452Z",
     "iopub.status.busy": "2025-07-30T13:57:02.861804Z",
     "iopub.status.idle": "2025-07-30T13:57:02.962046Z",
     "shell.execute_reply": "2025-07-30T13:57:02.961127Z"
    },
    "papermill": {
     "duration": 0.126785,
     "end_time": "2025-07-30T13:57:02.963935",
     "exception": false,
     "start_time": "2025-07-30T13:57:02.837150",
     "status": "completed"
    },
    "tags": []
   },
   "outputs": [],
   "source": [
    "from sklearn.linear_model import LogisticRegression\n",
    "from sklearn.ensemble import GradientBoostingClassifier, RandomForestClassifier\n",
    "\n",
    "if (universe[\"model\"] == \"logreg\"):\n",
    "    model = LogisticRegression() #penalty=\"none\") #, solver=\"newton-cg\", max_iter=1) # include random_state=19 ?\n",
    "elif (universe[\"model\"] == \"penalized_logreg\"):\n",
    "    model = LogisticRegression(penalty=\"l2\", C=1.0) #, solver=\"newton-cg\", max_iter=1)\n",
    "elif (universe[\"model\"] == \"rf\"):\n",
    "    model = RandomForestClassifier(n_estimators=100, n_jobs=-1)\n",
    "elif (universe[\"model\"] == \"gbm\"):\n",
    "    model = GradientBoostingClassifier()\n",
    "elif (universe[\"model\"] == \"elasticnet\"):\n",
    "    model = LogisticRegression(penalty = 'elasticnet', solver = 'saga', l1_ratio = 0.5, max_iter=5000) # which solver to use?\n",
    "else:\n",
    "    raise \"Unsupported universe.model\""
   ]
  },
  {
   "cell_type": "code",
   "execution_count": 42,
   "id": "0cc8f744",
   "metadata": {
    "execution": {
     "iopub.execute_input": "2025-07-30T13:57:03.014084Z",
     "iopub.status.busy": "2025-07-30T13:57:03.013618Z",
     "iopub.status.idle": "2025-07-30T13:57:03.020242Z",
     "shell.execute_reply": "2025-07-30T13:57:03.019219Z"
    },
    "papermill": {
     "duration": 0.033134,
     "end_time": "2025-07-30T13:57:03.021998",
     "exception": false,
     "start_time": "2025-07-30T13:57:02.988864",
     "status": "completed"
    },
    "tags": []
   },
   "outputs": [],
   "source": [
    "import numpy as np\n",
    "from sklearn.pipeline import Pipeline\n",
    "from sklearn.preprocessing import StandardScaler\n",
    "\n",
    "model = Pipeline([\n",
    "    #(\"continuous_processor\", continuous_processor),\n",
    "    #(\"categorical_preprocessor\", categorical_preprocessor),\n",
    "    (\"scale\", StandardScaler() if universe[\"scale\"] == \"scale\" else None), \n",
    "    (\"model\", model),\n",
    "])"
   ]
  },
  {
   "cell_type": "code",
   "execution_count": 43,
   "id": "9442c04d",
   "metadata": {
    "execution": {
     "iopub.execute_input": "2025-07-30T13:57:03.072129Z",
     "iopub.status.busy": "2025-07-30T13:57:03.071450Z",
     "iopub.status.idle": "2025-07-30T13:57:03.864184Z",
     "shell.execute_reply": "2025-07-30T13:57:03.863446Z"
    },
    "papermill": {
     "duration": 0.81904,
     "end_time": "2025-07-30T13:57:03.865471",
     "exception": false,
     "start_time": "2025-07-30T13:57:03.046431",
     "status": "completed"
    },
    "tags": []
   },
   "outputs": [
    {
     "data": {
      "text/html": [
       "<style>#sk-container-id-1 {color: black;background-color: white;}#sk-container-id-1 pre{padding: 0;}#sk-container-id-1 div.sk-toggleable {background-color: white;}#sk-container-id-1 label.sk-toggleable__label {cursor: pointer;display: block;width: 100%;margin-bottom: 0;padding: 0.3em;box-sizing: border-box;text-align: center;}#sk-container-id-1 label.sk-toggleable__label-arrow:before {content: \"▸\";float: left;margin-right: 0.25em;color: #696969;}#sk-container-id-1 label.sk-toggleable__label-arrow:hover:before {color: black;}#sk-container-id-1 div.sk-estimator:hover label.sk-toggleable__label-arrow:before {color: black;}#sk-container-id-1 div.sk-toggleable__content {max-height: 0;max-width: 0;overflow: hidden;text-align: left;background-color: #f0f8ff;}#sk-container-id-1 div.sk-toggleable__content pre {margin: 0.2em;color: black;border-radius: 0.25em;background-color: #f0f8ff;}#sk-container-id-1 input.sk-toggleable__control:checked~div.sk-toggleable__content {max-height: 200px;max-width: 100%;overflow: auto;}#sk-container-id-1 input.sk-toggleable__control:checked~label.sk-toggleable__label-arrow:before {content: \"▾\";}#sk-container-id-1 div.sk-estimator input.sk-toggleable__control:checked~label.sk-toggleable__label {background-color: #d4ebff;}#sk-container-id-1 div.sk-label input.sk-toggleable__control:checked~label.sk-toggleable__label {background-color: #d4ebff;}#sk-container-id-1 input.sk-hidden--visually {border: 0;clip: rect(1px 1px 1px 1px);clip: rect(1px, 1px, 1px, 1px);height: 1px;margin: -1px;overflow: hidden;padding: 0;position: absolute;width: 1px;}#sk-container-id-1 div.sk-estimator {font-family: monospace;background-color: #f0f8ff;border: 1px dotted black;border-radius: 0.25em;box-sizing: border-box;margin-bottom: 0.5em;}#sk-container-id-1 div.sk-estimator:hover {background-color: #d4ebff;}#sk-container-id-1 div.sk-parallel-item::after {content: \"\";width: 100%;border-bottom: 1px solid gray;flex-grow: 1;}#sk-container-id-1 div.sk-label:hover label.sk-toggleable__label {background-color: #d4ebff;}#sk-container-id-1 div.sk-serial::before {content: \"\";position: absolute;border-left: 1px solid gray;box-sizing: border-box;top: 0;bottom: 0;left: 50%;z-index: 0;}#sk-container-id-1 div.sk-serial {display: flex;flex-direction: column;align-items: center;background-color: white;padding-right: 0.2em;padding-left: 0.2em;position: relative;}#sk-container-id-1 div.sk-item {position: relative;z-index: 1;}#sk-container-id-1 div.sk-parallel {display: flex;align-items: stretch;justify-content: center;background-color: white;position: relative;}#sk-container-id-1 div.sk-item::before, #sk-container-id-1 div.sk-parallel-item::before {content: \"\";position: absolute;border-left: 1px solid gray;box-sizing: border-box;top: 0;bottom: 0;left: 50%;z-index: -1;}#sk-container-id-1 div.sk-parallel-item {display: flex;flex-direction: column;z-index: 1;position: relative;background-color: white;}#sk-container-id-1 div.sk-parallel-item:first-child::after {align-self: flex-end;width: 50%;}#sk-container-id-1 div.sk-parallel-item:last-child::after {align-self: flex-start;width: 50%;}#sk-container-id-1 div.sk-parallel-item:only-child::after {width: 0;}#sk-container-id-1 div.sk-dashed-wrapped {border: 1px dashed gray;margin: 0 0.4em 0.5em 0.4em;box-sizing: border-box;padding-bottom: 0.4em;background-color: white;}#sk-container-id-1 div.sk-label label {font-family: monospace;font-weight: bold;display: inline-block;line-height: 1.2em;}#sk-container-id-1 div.sk-label-container {text-align: center;}#sk-container-id-1 div.sk-container {/* jupyter's `normalize.less` sets `[hidden] { display: none; }` but bootstrap.min.css set `[hidden] { display: none !important; }` so we also need the `!important` here to be able to override the default hidden behavior on the sphinx rendered scikit-learn.org. See: https://github.com/scikit-learn/scikit-learn/issues/21755 */display: inline-block !important;position: relative;}#sk-container-id-1 div.sk-text-repr-fallback {display: none;}</style><div id=\"sk-container-id-1\" class=\"sk-top-container\"><div class=\"sk-text-repr-fallback\"><pre>Pipeline(steps=[(&#x27;scale&#x27;, StandardScaler()),\n",
       "                (&#x27;model&#x27;, RandomForestClassifier(n_jobs=-1))])</pre><b>In a Jupyter environment, please rerun this cell to show the HTML representation or trust the notebook. <br />On GitHub, the HTML representation is unable to render, please try loading this page with nbviewer.org.</b></div><div class=\"sk-container\" hidden><div class=\"sk-item sk-dashed-wrapped\"><div class=\"sk-label-container\"><div class=\"sk-label sk-toggleable\"><input class=\"sk-toggleable__control sk-hidden--visually\" id=\"sk-estimator-id-1\" type=\"checkbox\" ><label for=\"sk-estimator-id-1\" class=\"sk-toggleable__label sk-toggleable__label-arrow\">Pipeline</label><div class=\"sk-toggleable__content\"><pre>Pipeline(steps=[(&#x27;scale&#x27;, StandardScaler()),\n",
       "                (&#x27;model&#x27;, RandomForestClassifier(n_jobs=-1))])</pre></div></div></div><div class=\"sk-serial\"><div class=\"sk-item\"><div class=\"sk-estimator sk-toggleable\"><input class=\"sk-toggleable__control sk-hidden--visually\" id=\"sk-estimator-id-2\" type=\"checkbox\" ><label for=\"sk-estimator-id-2\" class=\"sk-toggleable__label sk-toggleable__label-arrow\">StandardScaler</label><div class=\"sk-toggleable__content\"><pre>StandardScaler()</pre></div></div></div><div class=\"sk-item\"><div class=\"sk-estimator sk-toggleable\"><input class=\"sk-toggleable__control sk-hidden--visually\" id=\"sk-estimator-id-3\" type=\"checkbox\" ><label for=\"sk-estimator-id-3\" class=\"sk-toggleable__label sk-toggleable__label-arrow\">RandomForestClassifier</label><div class=\"sk-toggleable__content\"><pre>RandomForestClassifier(n_jobs=-1)</pre></div></div></div></div></div></div></div>"
      ],
      "text/plain": [
       "Pipeline(steps=[('scale', StandardScaler()),\n",
       "                ('model', RandomForestClassifier(n_jobs=-1))])"
      ]
     },
     "execution_count": 43,
     "metadata": {},
     "output_type": "execute_result"
    }
   ],
   "source": [
    "model.fit(X_train, y_train.values.ravel())"
   ]
  },
  {
   "cell_type": "code",
   "execution_count": 44,
   "id": "af59f8c0",
   "metadata": {
    "execution": {
     "iopub.execute_input": "2025-07-30T13:57:03.892529Z",
     "iopub.status.busy": "2025-07-30T13:57:03.892000Z",
     "iopub.status.idle": "2025-07-30T13:57:03.896580Z",
     "shell.execute_reply": "2025-07-30T13:57:03.895806Z"
    },
    "papermill": {
     "duration": 0.019415,
     "end_time": "2025-07-30T13:57:03.897957",
     "exception": false,
     "start_time": "2025-07-30T13:57:03.878542",
     "status": "completed"
    },
    "tags": []
   },
   "outputs": [],
   "source": [
    "from fairness_multiverse.universe import predict_w_threshold"
   ]
  },
  {
   "cell_type": "code",
   "execution_count": 45,
   "id": "a7cf2e16",
   "metadata": {
    "execution": {
     "iopub.execute_input": "2025-07-30T13:57:03.925934Z",
     "iopub.status.busy": "2025-07-30T13:57:03.925435Z",
     "iopub.status.idle": "2025-07-30T13:57:04.822827Z",
     "shell.execute_reply": "2025-07-30T13:57:04.822114Z"
    },
    "papermill": {
     "duration": 0.912467,
     "end_time": "2025-07-30T13:57:04.824175",
     "exception": false,
     "start_time": "2025-07-30T13:57:03.911708",
     "status": "completed"
    },
    "tags": []
   },
   "outputs": [
    {
     "data": {
      "text/plain": [
       "0.8644186824211347"
      ]
     },
     "execution_count": 45,
     "metadata": {},
     "output_type": "execute_result"
    }
   ],
   "source": [
    "probs_test = model.predict_proba(X_test)\n",
    "\n",
    "'''\n",
    "Below code returns a boolean array (or binary 0/1 array depending on how it’s used) where each element \n",
    "is True if the probability of class 1 is greater than or equal to the threshold, and False otherwise.\n",
    "'''\n",
    "y_pred_default = predict_w_threshold(probs_test, 0.5)\n",
    "\n",
    "from sklearn.metrics import accuracy_score\n",
    "\n",
    "# Naive prediction\n",
    "accuracy_score(y_true = y_true, y_pred = y_pred_default)"
   ]
  },
  {
   "cell_type": "code",
   "execution_count": 46,
   "id": "081964c3",
   "metadata": {
    "execution": {
     "iopub.execute_input": "2025-07-30T13:57:04.858426Z",
     "iopub.status.busy": "2025-07-30T13:57:04.858084Z",
     "iopub.status.idle": "2025-07-30T13:57:05.763421Z",
     "shell.execute_reply": "2025-07-30T13:57:05.762087Z"
    },
    "papermill": {
     "duration": 0.920705,
     "end_time": "2025-07-30T13:57:05.765024",
     "exception": false,
     "start_time": "2025-07-30T13:57:04.844319",
     "status": "completed"
    },
    "tags": []
   },
   "outputs": [
    {
     "data": {
      "text/plain": [
       "array([0, 0, 0, ..., 0, 0, 0])"
      ]
     },
     "execution_count": 46,
     "metadata": {},
     "output_type": "execute_result"
    }
   ],
   "source": [
    "model.predict(X_test)"
   ]
  },
  {
   "cell_type": "markdown",
   "id": "56c9705b",
   "metadata": {
    "papermill": {
     "duration": 0.025585,
     "end_time": "2025-07-30T13:57:05.816892",
     "exception": false,
     "start_time": "2025-07-30T13:57:05.791307",
     "status": "completed"
    },
    "tags": []
   },
   "source": [
    "# Conformal Prediction"
   ]
  },
  {
   "cell_type": "code",
   "execution_count": 47,
   "id": "160ec6ff",
   "metadata": {
    "execution": {
     "iopub.execute_input": "2025-07-30T13:57:05.868118Z",
     "iopub.status.busy": "2025-07-30T13:57:05.867552Z",
     "iopub.status.idle": "2025-07-30T13:57:05.873374Z",
     "shell.execute_reply": "2025-07-30T13:57:05.872401Z"
    },
    "papermill": {
     "duration": 0.033697,
     "end_time": "2025-07-30T13:57:05.875149",
     "exception": false,
     "start_time": "2025-07-30T13:57:05.841452",
     "status": "completed"
    },
    "tags": []
   },
   "outputs": [],
   "source": [
    "# Miscoverage level for conformal prediction (10% allowed error rate => 90% target coverage)\n",
    "alpha = 0.1"
   ]
  },
  {
   "cell_type": "code",
   "execution_count": 48,
   "id": "eadf4555-3dd3-440e-8e35-f82a4ad9f855",
   "metadata": {
    "execution": {
     "iopub.execute_input": "2025-07-30T13:57:05.940813Z",
     "iopub.status.busy": "2025-07-30T13:57:05.940295Z",
     "iopub.status.idle": "2025-07-30T13:57:06.875538Z",
     "shell.execute_reply": "2025-07-30T13:57:06.874540Z"
    },
    "papermill": {
     "duration": 0.970118,
     "end_time": "2025-07-30T13:57:06.876929",
     "exception": false,
     "start_time": "2025-07-30T13:57:05.906811",
     "status": "completed"
    },
    "tags": []
   },
   "outputs": [],
   "source": [
    "probs_calib = model.predict_proba(X_calib)"
   ]
  },
  {
   "cell_type": "code",
   "execution_count": 49,
   "id": "2ed93547-6d5d-4983-9b36-1ecb300da49a",
   "metadata": {
    "execution": {
     "iopub.execute_input": "2025-07-30T13:57:06.930646Z",
     "iopub.status.busy": "2025-07-30T13:57:06.930144Z",
     "iopub.status.idle": "2025-07-30T13:57:06.936596Z",
     "shell.execute_reply": "2025-07-30T13:57:06.935423Z"
    },
    "papermill": {
     "duration": 0.036461,
     "end_time": "2025-07-30T13:57:06.938359",
     "exception": false,
     "start_time": "2025-07-30T13:57:06.901898",
     "status": "completed"
    },
    "tags": []
   },
   "outputs": [],
   "source": [
    "y_calib = y_calib.values.ravel().astype(int)"
   ]
  },
  {
   "cell_type": "code",
   "execution_count": 50,
   "id": "65d1320d-f588-4b38-9072-62af1ae97f7d",
   "metadata": {
    "execution": {
     "iopub.execute_input": "2025-07-30T13:57:06.992583Z",
     "iopub.status.busy": "2025-07-30T13:57:06.991876Z",
     "iopub.status.idle": "2025-07-30T13:57:07.000689Z",
     "shell.execute_reply": "2025-07-30T13:57:06.999593Z"
    },
    "papermill": {
     "duration": 0.038467,
     "end_time": "2025-07-30T13:57:07.002454",
     "exception": false,
     "start_time": "2025-07-30T13:57:06.963987",
     "status": "completed"
    },
    "tags": []
   },
   "outputs": [],
   "source": [
    "from fairness_multiverse.conformal import compute_nc_scores\n",
    "\n",
    "# Compute nonconformity scores on calibration set (1 - probability of true class)\n",
    "nc_scores = compute_nc_scores(probs_calib, y_calib)"
   ]
  },
  {
   "cell_type": "code",
   "execution_count": 51,
   "id": "df3b8ca3-53b7-43d5-9667-7c85da7aeda2",
   "metadata": {
    "execution": {
     "iopub.execute_input": "2025-07-30T13:57:07.057590Z",
     "iopub.status.busy": "2025-07-30T13:57:07.056575Z",
     "iopub.status.idle": "2025-07-30T13:57:07.063629Z",
     "shell.execute_reply": "2025-07-30T13:57:07.062715Z"
    },
    "papermill": {
     "duration": 0.036619,
     "end_time": "2025-07-30T13:57:07.065346",
     "exception": false,
     "start_time": "2025-07-30T13:57:07.028727",
     "status": "completed"
    },
    "tags": []
   },
   "outputs": [],
   "source": [
    "from fairness_multiverse.conformal import find_threshold\n",
    "\n",
    "# Find conformal threshold q_hat for the given alpha (split conformal method)\n",
    "q_hat = find_threshold(nc_scores, alpha)"
   ]
  },
  {
   "cell_type": "code",
   "execution_count": 52,
   "id": "4d29e6c1-0ef6-4aa4-b8fe-4fe79b0d033a",
   "metadata": {
    "execution": {
     "iopub.execute_input": "2025-07-30T13:57:07.121302Z",
     "iopub.status.busy": "2025-07-30T13:57:07.120733Z",
     "iopub.status.idle": "2025-07-30T13:57:07.128024Z",
     "shell.execute_reply": "2025-07-30T13:57:07.127124Z"
    },
    "papermill": {
     "duration": 0.037213,
     "end_time": "2025-07-30T13:57:07.129525",
     "exception": false,
     "start_time": "2025-07-30T13:57:07.092312",
     "status": "completed"
    },
    "tags": []
   },
   "outputs": [
    {
     "data": {
      "text/plain": [
       "0.6799999999999999"
      ]
     },
     "execution_count": 52,
     "metadata": {},
     "output_type": "execute_result"
    }
   ],
   "source": [
    "q_hat"
   ]
  },
  {
   "cell_type": "code",
   "execution_count": 53,
   "id": "92460794-cdac-4be2-ba28-f28c0515a6fb",
   "metadata": {
    "execution": {
     "iopub.execute_input": "2025-07-30T13:57:07.184689Z",
     "iopub.status.busy": "2025-07-30T13:57:07.183613Z",
     "iopub.status.idle": "2025-07-30T13:57:08.856969Z",
     "shell.execute_reply": "2025-07-30T13:57:08.856006Z"
    },
    "papermill": {
     "duration": 1.702186,
     "end_time": "2025-07-30T13:57:08.858922",
     "exception": false,
     "start_time": "2025-07-30T13:57:07.156736",
     "status": "completed"
    },
    "tags": []
   },
   "outputs": [],
   "source": [
    "from fairness_multiverse.conformal import predict_conformal_sets\n",
    "\n",
    "# Generate prediction sets for each test example\n",
    "pred_sets = predict_conformal_sets(model, X_test, q_hat)"
   ]
  },
  {
   "cell_type": "code",
   "execution_count": 54,
   "id": "d90c9a65-e6db-4f5d-80cd-e68fb7e46829",
   "metadata": {
    "execution": {
     "iopub.execute_input": "2025-07-30T13:57:08.911856Z",
     "iopub.status.busy": "2025-07-30T13:57:08.911208Z",
     "iopub.status.idle": "2025-07-30T13:57:08.916964Z",
     "shell.execute_reply": "2025-07-30T13:57:08.916004Z"
    },
    "papermill": {
     "duration": 0.033451,
     "end_time": "2025-07-30T13:57:08.918543",
     "exception": false,
     "start_time": "2025-07-30T13:57:08.885092",
     "status": "completed"
    },
    "tags": []
   },
   "outputs": [],
   "source": [
    "y_true = y_true.squeeze()"
   ]
  },
  {
   "cell_type": "code",
   "execution_count": 55,
   "id": "3a58a54a-1e68-46b9-927a-df01f18aebc8",
   "metadata": {
    "execution": {
     "iopub.execute_input": "2025-07-30T13:57:08.973182Z",
     "iopub.status.busy": "2025-07-30T13:57:08.971984Z",
     "iopub.status.idle": "2025-07-30T13:57:10.113363Z",
     "shell.execute_reply": "2025-07-30T13:57:10.112620Z"
    },
    "papermill": {
     "duration": 1.169845,
     "end_time": "2025-07-30T13:57:10.114763",
     "exception": false,
     "start_time": "2025-07-30T13:57:08.944918",
     "status": "completed"
    },
    "tags": []
   },
   "outputs": [],
   "source": [
    "from fairness_multiverse.conformal import evaluate_sets\n",
    "\n",
    "# Evaluate coverage and average set size on test data\n",
    "metrics = evaluate_sets(pred_sets, y_true)"
   ]
  },
  {
   "cell_type": "markdown",
   "id": "2b569c12-9aaa-4c88-98c9-bbcd0cf3ebb8",
   "metadata": {
    "papermill": {
     "duration": 0.014684,
     "end_time": "2025-07-30T13:57:10.144975",
     "exception": false,
     "start_time": "2025-07-30T13:57:10.130291",
     "status": "completed"
    },
    "tags": []
   },
   "source": [
    "# CP Metrics"
   ]
  },
  {
   "cell_type": "code",
   "execution_count": 56,
   "id": "5ce0a5cb-201f-45a0-ade5-94c7f0bd6095",
   "metadata": {
    "execution": {
     "iopub.execute_input": "2025-07-30T13:57:10.172098Z",
     "iopub.status.busy": "2025-07-30T13:57:10.171580Z",
     "iopub.status.idle": "2025-07-30T13:57:10.177993Z",
     "shell.execute_reply": "2025-07-30T13:57:10.177253Z"
    },
    "papermill": {
     "duration": 0.021301,
     "end_time": "2025-07-30T13:57:10.179294",
     "exception": false,
     "start_time": "2025-07-30T13:57:10.157993",
     "status": "completed"
    },
    "tags": []
   },
   "outputs": [
    {
     "data": {
      "text/plain": [
       "{'coverage': 0.9145134321703267, 'avg_size': 1.148801694348456}"
      ]
     },
     "execution_count": 56,
     "metadata": {},
     "output_type": "execute_result"
    }
   ],
   "source": [
    "metrics"
   ]
  },
  {
   "cell_type": "code",
   "execution_count": 57,
   "id": "9b9a838d-31c9-430b-ae14-12baee460d17",
   "metadata": {
    "execution": {
     "iopub.execute_input": "2025-07-30T13:57:10.207083Z",
     "iopub.status.busy": "2025-07-30T13:57:10.206613Z",
     "iopub.status.idle": "2025-07-30T13:57:10.212097Z",
     "shell.execute_reply": "2025-07-30T13:57:10.211227Z"
    },
    "papermill": {
     "duration": 0.020764,
     "end_time": "2025-07-30T13:57:10.213525",
     "exception": false,
     "start_time": "2025-07-30T13:57:10.192761",
     "status": "completed"
    },
    "tags": []
   },
   "outputs": [],
   "source": [
    "example_universe = universe.copy()\n",
    "universe_training_size = example_universe.get(\"training_size\")\n",
    "universe_scale = example_universe.get(\"scale\")\n",
    "universe_model = example_universe.get(\"model\")\n",
    "universe_exclude_features = example_universe.get(\"exclude_features\")\n",
    "universe_exclude_subgroups = example_universe.get(\"exclude_subgroups\")"
   ]
  },
  {
   "cell_type": "code",
   "execution_count": 58,
   "id": "f4b6a8ac-9dc0-4245-8a91-5b3b5999c4f9",
   "metadata": {
    "execution": {
     "iopub.execute_input": "2025-07-30T13:57:10.251806Z",
     "iopub.status.busy": "2025-07-30T13:57:10.251101Z",
     "iopub.status.idle": "2025-07-30T13:57:10.256527Z",
     "shell.execute_reply": "2025-07-30T13:57:10.255772Z"
    },
    "papermill": {
     "duration": 0.021995,
     "end_time": "2025-07-30T13:57:10.257768",
     "exception": false,
     "start_time": "2025-07-30T13:57:10.235773",
     "status": "completed"
    },
    "tags": []
   },
   "outputs": [],
   "source": [
    "cp_metrics_dict = {\n",
    "    \"universe_id\": [universe_id],\n",
    "    \"universe_training_size\": [universe_training_size],\n",
    "    \"universe_scale\": [universe_scale],\n",
    "    \"universe_model\": [universe_model],\n",
    "    \"universe_exclude_features\": [universe_exclude_features],\n",
    "    \"universe_exclude_subgroups\": [universe_exclude_subgroups],\n",
    "    \"q_hat\": [q_hat],\n",
    "    \"coverage\": [metrics[\"coverage\"]],\n",
    "    \"avg_size\": [metrics[\"avg_size\"]],\n",
    "}"
   ]
  },
  {
   "cell_type": "code",
   "execution_count": 59,
   "id": "908acbb1-0371-4915-85ca-3fa520d2efe2",
   "metadata": {
    "execution": {
     "iopub.execute_input": "2025-07-30T13:57:10.292900Z",
     "iopub.status.busy": "2025-07-30T13:57:10.292537Z",
     "iopub.status.idle": "2025-07-30T13:57:10.298917Z",
     "shell.execute_reply": "2025-07-30T13:57:10.298243Z"
    },
    "papermill": {
     "duration": 0.029001,
     "end_time": "2025-07-30T13:57:10.300240",
     "exception": false,
     "start_time": "2025-07-30T13:57:10.271239",
     "status": "completed"
    },
    "tags": []
   },
   "outputs": [
    {
     "data": {
      "text/plain": [
       "{'universe_id': ['4c73bfef57c5b28876051c118bdda352'],\n",
       " 'universe_training_size': ['5k'],\n",
       " 'universe_scale': ['scale'],\n",
       " 'universe_model': ['rf'],\n",
       " 'universe_exclude_features': ['age'],\n",
       " 'universe_exclude_subgroups': ['drop-non-german'],\n",
       " 'q_hat': [0.6799999999999999],\n",
       " 'coverage': [0.9145134321703267],\n",
       " 'avg_size': [1.148801694348456]}"
      ]
     },
     "execution_count": 59,
     "metadata": {},
     "output_type": "execute_result"
    }
   ],
   "source": [
    "cp_metrics_dict"
   ]
  },
  {
   "cell_type": "code",
   "execution_count": 60,
   "id": "33007efc-14e9-4ec6-97ac-56a455c82265",
   "metadata": {
    "execution": {
     "iopub.execute_input": "2025-07-30T13:57:10.328174Z",
     "iopub.status.busy": "2025-07-30T13:57:10.327839Z",
     "iopub.status.idle": "2025-07-30T13:57:10.333094Z",
     "shell.execute_reply": "2025-07-30T13:57:10.332003Z"
    },
    "papermill": {
     "duration": 0.020786,
     "end_time": "2025-07-30T13:57:10.334976",
     "exception": false,
     "start_time": "2025-07-30T13:57:10.314190",
     "status": "completed"
    },
    "tags": []
   },
   "outputs": [],
   "source": [
    "cp_metrics_df = pd.DataFrame(cp_metrics_dict)"
   ]
  },
  {
   "cell_type": "code",
   "execution_count": 61,
   "id": "db12611b-57b2-4910-b9d0-355adfd6e7bf",
   "metadata": {
    "execution": {
     "iopub.execute_input": "2025-07-30T13:57:10.389872Z",
     "iopub.status.busy": "2025-07-30T13:57:10.389460Z",
     "iopub.status.idle": "2025-07-30T13:57:10.405019Z",
     "shell.execute_reply": "2025-07-30T13:57:10.404307Z"
    },
    "papermill": {
     "duration": 0.044923,
     "end_time": "2025-07-30T13:57:10.406381",
     "exception": false,
     "start_time": "2025-07-30T13:57:10.361458",
     "status": "completed"
    },
    "tags": []
   },
   "outputs": [
    {
     "data": {
      "text/html": [
       "<div>\n",
       "<style scoped>\n",
       "    .dataframe tbody tr th:only-of-type {\n",
       "        vertical-align: middle;\n",
       "    }\n",
       "\n",
       "    .dataframe tbody tr th {\n",
       "        vertical-align: top;\n",
       "    }\n",
       "\n",
       "    .dataframe thead th {\n",
       "        text-align: right;\n",
       "    }\n",
       "</style>\n",
       "<table border=\"1\" class=\"dataframe\">\n",
       "  <thead>\n",
       "    <tr style=\"text-align: right;\">\n",
       "      <th></th>\n",
       "      <th>universe_id</th>\n",
       "      <th>universe_training_size</th>\n",
       "      <th>universe_scale</th>\n",
       "      <th>universe_model</th>\n",
       "      <th>universe_exclude_features</th>\n",
       "      <th>universe_exclude_subgroups</th>\n",
       "      <th>q_hat</th>\n",
       "      <th>coverage</th>\n",
       "      <th>avg_size</th>\n",
       "    </tr>\n",
       "  </thead>\n",
       "  <tbody>\n",
       "    <tr>\n",
       "      <th>0</th>\n",
       "      <td>4c73bfef57c5b28876051c118bdda352</td>\n",
       "      <td>5k</td>\n",
       "      <td>scale</td>\n",
       "      <td>rf</td>\n",
       "      <td>age</td>\n",
       "      <td>drop-non-german</td>\n",
       "      <td>0.68</td>\n",
       "      <td>0.914513</td>\n",
       "      <td>1.148802</td>\n",
       "    </tr>\n",
       "  </tbody>\n",
       "</table>\n",
       "</div>"
      ],
      "text/plain": [
       "                        universe_id universe_training_size universe_scale  \\\n",
       "0  4c73bfef57c5b28876051c118bdda352                     5k          scale   \n",
       "\n",
       "  universe_model universe_exclude_features universe_exclude_subgroups  q_hat  \\\n",
       "0             rf                       age            drop-non-german   0.68   \n",
       "\n",
       "   coverage  avg_size  \n",
       "0  0.914513  1.148802  "
      ]
     },
     "execution_count": 61,
     "metadata": {},
     "output_type": "execute_result"
    }
   ],
   "source": [
    "cp_metrics_df"
   ]
  },
  {
   "cell_type": "code",
   "execution_count": 62,
   "id": "b7fbde55-a0a1-47e4-9af6-fe4a17fa8c61",
   "metadata": {
    "execution": {
     "iopub.execute_input": "2025-07-30T13:57:10.437928Z",
     "iopub.status.busy": "2025-07-30T13:57:10.437427Z",
     "iopub.status.idle": "2025-07-30T13:57:10.442109Z",
     "shell.execute_reply": "2025-07-30T13:57:10.441406Z"
    },
    "papermill": {
     "duration": 0.022193,
     "end_time": "2025-07-30T13:57:10.443473",
     "exception": false,
     "start_time": "2025-07-30T13:57:10.421280",
     "status": "completed"
    },
    "tags": []
   },
   "outputs": [],
   "source": [
    "# Conditional Coverage & looking at subgroups"
   ]
  },
  {
   "cell_type": "code",
   "execution_count": 63,
   "id": "027ae886-68dd-4141-96c7-805a5450e1ef",
   "metadata": {
    "execution": {
     "iopub.execute_input": "2025-07-30T13:57:10.473838Z",
     "iopub.status.busy": "2025-07-30T13:57:10.473335Z",
     "iopub.status.idle": "2025-07-30T13:57:10.659640Z",
     "shell.execute_reply": "2025-07-30T13:57:10.658887Z"
    },
    "papermill": {
     "duration": 0.203066,
     "end_time": "2025-07-30T13:57:10.661181",
     "exception": false,
     "start_time": "2025-07-30T13:57:10.458115",
     "status": "completed"
    },
    "tags": []
   },
   "outputs": [],
   "source": [
    "from fairness_multiverse.conformal import build_cp_groups\n",
    "\n",
    "cp_groups_df = build_cp_groups(pred_sets, y_true, X_test.index, org_test)\n",
    "#needs universe_id and setting"
   ]
  },
  {
   "cell_type": "code",
   "execution_count": 64,
   "id": "01d5802c-663a-4d1f-9d69-e036faaffbf7",
   "metadata": {
    "execution": {
     "iopub.execute_input": "2025-07-30T13:57:10.690301Z",
     "iopub.status.busy": "2025-07-30T13:57:10.689949Z",
     "iopub.status.idle": "2025-07-30T13:57:10.694122Z",
     "shell.execute_reply": "2025-07-30T13:57:10.693267Z"
    },
    "papermill": {
     "duration": 0.020264,
     "end_time": "2025-07-30T13:57:10.695475",
     "exception": false,
     "start_time": "2025-07-30T13:57:10.675211",
     "status": "completed"
    },
    "tags": []
   },
   "outputs": [],
   "source": [
    "#delete\n",
    "#cp_groups_df"
   ]
  },
  {
   "cell_type": "code",
   "execution_count": 65,
   "id": "fa424af1-d1eb-443d-b717-2d279ada8408",
   "metadata": {
    "execution": {
     "iopub.execute_input": "2025-07-30T13:57:10.725535Z",
     "iopub.status.busy": "2025-07-30T13:57:10.725029Z",
     "iopub.status.idle": "2025-07-30T13:57:10.729517Z",
     "shell.execute_reply": "2025-07-30T13:57:10.728752Z"
    },
    "papermill": {
     "duration": 0.020689,
     "end_time": "2025-07-30T13:57:10.730776",
     "exception": false,
     "start_time": "2025-07-30T13:57:10.710087",
     "status": "completed"
    },
    "tags": []
   },
   "outputs": [],
   "source": [
    "#delete\n",
    "#percentage = (cp_groups_df['nongerman_female'] == 1).mean() * 100\n",
    "#print(percentage)\n"
   ]
  },
  {
   "cell_type": "code",
   "execution_count": 66,
   "id": "6cbdab96-b2b2-45af-ad54-d0516db2e28d",
   "metadata": {
    "execution": {
     "iopub.execute_input": "2025-07-30T13:57:10.760376Z",
     "iopub.status.busy": "2025-07-30T13:57:10.759862Z",
     "iopub.status.idle": "2025-07-30T13:57:12.059146Z",
     "shell.execute_reply": "2025-07-30T13:57:12.058417Z"
    },
    "papermill": {
     "duration": 1.31589,
     "end_time": "2025-07-30T13:57:12.061007",
     "exception": false,
     "start_time": "2025-07-30T13:57:10.745117",
     "status": "completed"
    },
    "tags": []
   },
   "outputs": [],
   "source": [
    "# Define covered = 1 if true_label is in the predicted set\n",
    "cp_groups_df['covered'] = cp_groups_df.apply(\n",
    "    lambda r: int(r['true_label'] in r['pred_set']),\n",
    "    axis=1\n",
    ")"
   ]
  },
  {
   "cell_type": "code",
   "execution_count": 67,
   "id": "338ff529-1a6b-4b87-a931-8e4788d52aad",
   "metadata": {
    "execution": {
     "iopub.execute_input": "2025-07-30T13:57:12.118054Z",
     "iopub.status.busy": "2025-07-30T13:57:12.117707Z",
     "iopub.status.idle": "2025-07-30T13:57:12.121742Z",
     "shell.execute_reply": "2025-07-30T13:57:12.120941Z"
    },
    "papermill": {
     "duration": 0.021369,
     "end_time": "2025-07-30T13:57:12.123079",
     "exception": false,
     "start_time": "2025-07-30T13:57:12.101710",
     "status": "completed"
    },
    "tags": []
   },
   "outputs": [],
   "source": [
    "#cp_groups_df"
   ]
  },
  {
   "cell_type": "code",
   "execution_count": 68,
   "id": "90032e27-66df-4540-9169-4e89cfbaa758",
   "metadata": {
    "execution": {
     "iopub.execute_input": "2025-07-30T13:57:12.152893Z",
     "iopub.status.busy": "2025-07-30T13:57:12.152539Z",
     "iopub.status.idle": "2025-07-30T13:57:12.161489Z",
     "shell.execute_reply": "2025-07-30T13:57:12.160720Z"
    },
    "papermill": {
     "duration": 0.025187,
     "end_time": "2025-07-30T13:57:12.162761",
     "exception": false,
     "start_time": "2025-07-30T13:57:12.137574",
     "status": "completed"
    },
    "tags": []
   },
   "outputs": [],
   "source": [
    "subgroups = ['frau1','nongerman','nongerman_male','nongerman_female']\n",
    "\n",
    "# Conditional coverage for subgroup==1\n",
    "cond_coverage = {\n",
    "    g: cp_groups_df.loc[cp_groups_df[g]==1, 'covered'].mean()\n",
    "    for g in subgroups\n",
    "}"
   ]
  },
  {
   "cell_type": "code",
   "execution_count": 69,
   "id": "1e348fb1-b9c3-45bc-ba23-f016827a7e0d",
   "metadata": {
    "execution": {
     "iopub.execute_input": "2025-07-30T13:57:12.192551Z",
     "iopub.status.busy": "2025-07-30T13:57:12.192174Z",
     "iopub.status.idle": "2025-07-30T13:57:12.199950Z",
     "shell.execute_reply": "2025-07-30T13:57:12.198912Z"
    },
    "papermill": {
     "duration": 0.024031,
     "end_time": "2025-07-30T13:57:12.201360",
     "exception": false,
     "start_time": "2025-07-30T13:57:12.177329",
     "status": "completed"
    },
    "tags": []
   },
   "outputs": [
    {
     "data": {
      "text/plain": [
       "{'frau1': 0.9087747674888799,\n",
       " 'nongerman': 0.906697355863695,\n",
       " 'nongerman_male': 0.9249752319193011,\n",
       " 'nongerman_female': 0.8764530551415798}"
      ]
     },
     "execution_count": 69,
     "metadata": {},
     "output_type": "execute_result"
    }
   ],
   "source": [
    "cond_coverage"
   ]
  },
  {
   "cell_type": "code",
   "execution_count": 70,
   "id": "f5093324-c3dd-4d63-bc4c-8d945e5c8bbb",
   "metadata": {
    "execution": {
     "iopub.execute_input": "2025-07-30T13:57:12.232859Z",
     "iopub.status.busy": "2025-07-30T13:57:12.232511Z",
     "iopub.status.idle": "2025-07-30T13:57:12.238275Z",
     "shell.execute_reply": "2025-07-30T13:57:12.237497Z"
    },
    "papermill": {
     "duration": 0.022213,
     "end_time": "2025-07-30T13:57:12.239554",
     "exception": false,
     "start_time": "2025-07-30T13:57:12.217341",
     "status": "completed"
    },
    "tags": []
   },
   "outputs": [],
   "source": [
    "for subgroup, cov in cond_coverage.items():\n",
    "    cp_metrics_df[f\"cov_{subgroup}\"] = cov"
   ]
  },
  {
   "cell_type": "code",
   "execution_count": 71,
   "id": "6e872e10-dbe5-49e8-b554-5030c98ff75d",
   "metadata": {
    "execution": {
     "iopub.execute_input": "2025-07-30T13:57:12.274230Z",
     "iopub.status.busy": "2025-07-30T13:57:12.273728Z",
     "iopub.status.idle": "2025-07-30T13:57:12.287747Z",
     "shell.execute_reply": "2025-07-30T13:57:12.287010Z"
    },
    "papermill": {
     "duration": 0.03074,
     "end_time": "2025-07-30T13:57:12.288989",
     "exception": false,
     "start_time": "2025-07-30T13:57:12.258249",
     "status": "completed"
    },
    "tags": []
   },
   "outputs": [
    {
     "data": {
      "text/html": [
       "<div>\n",
       "<style scoped>\n",
       "    .dataframe tbody tr th:only-of-type {\n",
       "        vertical-align: middle;\n",
       "    }\n",
       "\n",
       "    .dataframe tbody tr th {\n",
       "        vertical-align: top;\n",
       "    }\n",
       "\n",
       "    .dataframe thead th {\n",
       "        text-align: right;\n",
       "    }\n",
       "</style>\n",
       "<table border=\"1\" class=\"dataframe\">\n",
       "  <thead>\n",
       "    <tr style=\"text-align: right;\">\n",
       "      <th></th>\n",
       "      <th>universe_id</th>\n",
       "      <th>universe_training_size</th>\n",
       "      <th>universe_scale</th>\n",
       "      <th>universe_model</th>\n",
       "      <th>universe_exclude_features</th>\n",
       "      <th>universe_exclude_subgroups</th>\n",
       "      <th>q_hat</th>\n",
       "      <th>coverage</th>\n",
       "      <th>avg_size</th>\n",
       "      <th>cov_frau1</th>\n",
       "      <th>cov_nongerman</th>\n",
       "      <th>cov_nongerman_male</th>\n",
       "      <th>cov_nongerman_female</th>\n",
       "    </tr>\n",
       "  </thead>\n",
       "  <tbody>\n",
       "    <tr>\n",
       "      <th>0</th>\n",
       "      <td>4c73bfef57c5b28876051c118bdda352</td>\n",
       "      <td>5k</td>\n",
       "      <td>scale</td>\n",
       "      <td>rf</td>\n",
       "      <td>age</td>\n",
       "      <td>drop-non-german</td>\n",
       "      <td>0.68</td>\n",
       "      <td>0.914513</td>\n",
       "      <td>1.148802</td>\n",
       "      <td>0.908775</td>\n",
       "      <td>0.906697</td>\n",
       "      <td>0.924975</td>\n",
       "      <td>0.876453</td>\n",
       "    </tr>\n",
       "  </tbody>\n",
       "</table>\n",
       "</div>"
      ],
      "text/plain": [
       "                        universe_id universe_training_size universe_scale  \\\n",
       "0  4c73bfef57c5b28876051c118bdda352                     5k          scale   \n",
       "\n",
       "  universe_model universe_exclude_features universe_exclude_subgroups  q_hat  \\\n",
       "0             rf                       age            drop-non-german   0.68   \n",
       "\n",
       "   coverage  avg_size  cov_frau1  cov_nongerman  cov_nongerman_male  \\\n",
       "0  0.914513  1.148802   0.908775       0.906697            0.924975   \n",
       "\n",
       "   cov_nongerman_female  \n",
       "0              0.876453  "
      ]
     },
     "execution_count": 71,
     "metadata": {},
     "output_type": "execute_result"
    }
   ],
   "source": [
    "cp_metrics_df"
   ]
  },
  {
   "cell_type": "markdown",
   "id": "33774451",
   "metadata": {
    "papermill": {
     "duration": 0.01762,
     "end_time": "2025-07-30T13:57:12.323052",
     "exception": false,
     "start_time": "2025-07-30T13:57:12.305432",
     "status": "completed"
    },
    "tags": []
   },
   "source": [
    "# (Fairness) Metrics"
   ]
  },
  {
   "cell_type": "code",
   "execution_count": 72,
   "id": "debc5d62",
   "metadata": {
    "execution": {
     "iopub.execute_input": "2025-07-30T13:57:12.353625Z",
     "iopub.status.busy": "2025-07-30T13:57:12.353117Z",
     "iopub.status.idle": "2025-07-30T13:57:12.370164Z",
     "shell.execute_reply": "2025-07-30T13:57:12.369350Z"
    },
    "papermill": {
     "duration": 0.033742,
     "end_time": "2025-07-30T13:57:12.371670",
     "exception": false,
     "start_time": "2025-07-30T13:57:12.337928",
     "status": "completed"
    },
    "tags": []
   },
   "outputs": [],
   "source": [
    "# do I need to include maxdeutsch1.missing?\n",
    "\n",
    "import numpy as np\n",
    "\n",
    "colname_to_bin = \"maxdeutsch1\"\n",
    "majority_value = org_train[colname_to_bin].mode()[0]\n",
    "\n",
    "org_test[\"majmin\"] = np.where(org_test[colname_to_bin] == majority_value, \"majority\", \"minority\")"
   ]
  },
  {
   "cell_type": "code",
   "execution_count": 73,
   "id": "06a50de5",
   "metadata": {
    "execution": {
     "iopub.execute_input": "2025-07-30T13:57:12.403662Z",
     "iopub.status.busy": "2025-07-30T13:57:12.403159Z",
     "iopub.status.idle": "2025-07-30T13:57:14.589357Z",
     "shell.execute_reply": "2025-07-30T13:57:14.588602Z"
    },
    "papermill": {
     "duration": 2.203005,
     "end_time": "2025-07-30T13:57:14.590802",
     "exception": false,
     "start_time": "2025-07-30T13:57:12.387797",
     "status": "completed"
    },
    "tags": []
   },
   "outputs": [],
   "source": [
    "example_universe = universe.copy()\n",
    "example_universe[\"cutoff\"] = example_universe[\"cutoff\"][0]\n",
    "example_universe[\"eval_fairness_grouping\"] = example_universe[\"eval_fairness_grouping\"][0]\n",
    "fairness_dict, metric_frame = universe_analysis.compute_metrics(\n",
    "    example_universe,\n",
    "    y_pred_prob=probs_test,\n",
    "    y_test=y_true,\n",
    "    org_test=org_test,\n",
    ")"
   ]
  },
  {
   "cell_type": "markdown",
   "id": "f95d4e02",
   "metadata": {
    "papermill": {
     "duration": 0.015047,
     "end_time": "2025-07-30T13:57:14.620685",
     "exception": false,
     "start_time": "2025-07-30T13:57:14.605638",
     "status": "completed"
    },
    "tags": []
   },
   "source": [
    "# Overall"
   ]
  },
  {
   "cell_type": "markdown",
   "id": "bdee4871",
   "metadata": {
    "papermill": {
     "duration": 0.014724,
     "end_time": "2025-07-30T13:57:14.650749",
     "exception": false,
     "start_time": "2025-07-30T13:57:14.636025",
     "status": "completed"
    },
    "tags": []
   },
   "source": [
    "Fairness\n",
    "Main fairness target: Equalized Odds. Seems to be a better fit than equal opportunity, since we're not only interested in Y = 1. Seems to be a better fit than demographic parity, since we also care about accuracy, not just equal distribution of preds.\n",
    "\n",
    "Pick column for computation of fairness metrics\n",
    "\n",
    "Performance\n",
    "Overall performance measures, most interesting in relation to the measures split by group below"
   ]
  },
  {
   "cell_type": "code",
   "execution_count": 74,
   "id": "c4e067c6",
   "metadata": {
    "execution": {
     "iopub.execute_input": "2025-07-30T13:57:14.682038Z",
     "iopub.status.busy": "2025-07-30T13:57:14.681533Z",
     "iopub.status.idle": "2025-07-30T13:57:14.688917Z",
     "shell.execute_reply": "2025-07-30T13:57:14.688077Z"
    },
    "papermill": {
     "duration": 0.024634,
     "end_time": "2025-07-30T13:57:14.690241",
     "exception": false,
     "start_time": "2025-07-30T13:57:14.665607",
     "status": "completed"
    },
    "tags": []
   },
   "outputs": [
    {
     "data": {
      "text/plain": [
       "accuracy                   0.211370\n",
       "balanced accuracy          0.537580\n",
       "f1                         0.241064\n",
       "precision                  0.137507\n",
       "false positive rate        0.901205\n",
       "false negative rate        0.023636\n",
       "selection rate             0.910846\n",
       "count                  89710.000000\n",
       "dtype: float64"
      ]
     },
     "execution_count": 74,
     "metadata": {},
     "output_type": "execute_result"
    }
   ],
   "source": [
    "metric_frame.overall"
   ]
  },
  {
   "cell_type": "markdown",
   "id": "e968fe9d",
   "metadata": {
    "papermill": {
     "duration": 0.015373,
     "end_time": "2025-07-30T13:57:14.721166",
     "exception": false,
     "start_time": "2025-07-30T13:57:14.705793",
     "status": "completed"
    },
    "tags": []
   },
   "source": [
    "By Group"
   ]
  },
  {
   "cell_type": "code",
   "execution_count": 75,
   "id": "ec325bce",
   "metadata": {
    "execution": {
     "iopub.execute_input": "2025-07-30T13:57:14.753137Z",
     "iopub.status.busy": "2025-07-30T13:57:14.752619Z",
     "iopub.status.idle": "2025-07-30T13:57:14.765614Z",
     "shell.execute_reply": "2025-07-30T13:57:14.764835Z"
    },
    "papermill": {
     "duration": 0.030754,
     "end_time": "2025-07-30T13:57:14.767027",
     "exception": false,
     "start_time": "2025-07-30T13:57:14.736273",
     "status": "completed"
    },
    "tags": []
   },
   "outputs": [
    {
     "data": {
      "text/html": [
       "<div>\n",
       "<style scoped>\n",
       "    .dataframe tbody tr th:only-of-type {\n",
       "        vertical-align: middle;\n",
       "    }\n",
       "\n",
       "    .dataframe tbody tr th {\n",
       "        vertical-align: top;\n",
       "    }\n",
       "\n",
       "    .dataframe thead th {\n",
       "        text-align: right;\n",
       "    }\n",
       "</style>\n",
       "<table border=\"1\" class=\"dataframe\">\n",
       "  <thead>\n",
       "    <tr style=\"text-align: right;\">\n",
       "      <th></th>\n",
       "      <th>accuracy</th>\n",
       "      <th>balanced accuracy</th>\n",
       "      <th>f1</th>\n",
       "      <th>precision</th>\n",
       "      <th>false positive rate</th>\n",
       "      <th>false negative rate</th>\n",
       "      <th>selection rate</th>\n",
       "      <th>count</th>\n",
       "    </tr>\n",
       "    <tr>\n",
       "      <th>majmin</th>\n",
       "      <th></th>\n",
       "      <th></th>\n",
       "      <th></th>\n",
       "      <th></th>\n",
       "      <th></th>\n",
       "      <th></th>\n",
       "      <th></th>\n",
       "      <th></th>\n",
       "    </tr>\n",
       "  </thead>\n",
       "  <tbody>\n",
       "    <tr>\n",
       "      <th>majority</th>\n",
       "      <td>0.207633</td>\n",
       "      <td>0.538023</td>\n",
       "      <td>0.24768</td>\n",
       "      <td>0.141606</td>\n",
       "      <td>0.911044</td>\n",
       "      <td>0.012910</td>\n",
       "      <td>0.921093</td>\n",
       "      <td>69170.0</td>\n",
       "    </tr>\n",
       "    <tr>\n",
       "      <th>minority</th>\n",
       "      <td>0.223953</td>\n",
       "      <td>0.533134</td>\n",
       "      <td>0.21740</td>\n",
       "      <td>0.123000</td>\n",
       "      <td>0.868699</td>\n",
       "      <td>0.065034</td>\n",
       "      <td>0.876339</td>\n",
       "      <td>20540.0</td>\n",
       "    </tr>\n",
       "  </tbody>\n",
       "</table>\n",
       "</div>"
      ],
      "text/plain": [
       "          accuracy  balanced accuracy       f1  precision  \\\n",
       "majmin                                                      \n",
       "majority  0.207633           0.538023  0.24768   0.141606   \n",
       "minority  0.223953           0.533134  0.21740   0.123000   \n",
       "\n",
       "          false positive rate  false negative rate  selection rate    count  \n",
       "majmin                                                                       \n",
       "majority             0.911044             0.012910        0.921093  69170.0  \n",
       "minority             0.868699             0.065034        0.876339  20540.0  "
      ]
     },
     "execution_count": 75,
     "metadata": {},
     "output_type": "execute_result"
    }
   ],
   "source": [
    "metric_frame.by_group"
   ]
  },
  {
   "cell_type": "code",
   "execution_count": 76,
   "id": "a9ddbe63",
   "metadata": {
    "execution": {
     "iopub.execute_input": "2025-07-30T13:57:14.800300Z",
     "iopub.status.busy": "2025-07-30T13:57:14.799757Z",
     "iopub.status.idle": "2025-07-30T13:57:17.165174Z",
     "shell.execute_reply": "2025-07-30T13:57:17.164101Z"
    },
    "papermill": {
     "duration": 2.383921,
     "end_time": "2025-07-30T13:57:17.166907",
     "exception": false,
     "start_time": "2025-07-30T13:57:14.782986",
     "status": "completed"
    },
    "tags": []
   },
   "outputs": [
    {
     "data": {
      "text/plain": [
       "array([[<Axes: title={'center': 'accuracy'}, xlabel='majmin'>,\n",
       "        <Axes: title={'center': 'balanced accuracy'}, xlabel='majmin'>,\n",
       "        <Axes: title={'center': 'f1'}, xlabel='majmin'>],\n",
       "       [<Axes: title={'center': 'precision'}, xlabel='majmin'>,\n",
       "        <Axes: title={'center': 'false positive rate'}, xlabel='majmin'>,\n",
       "        <Axes: title={'center': 'false negative rate'}, xlabel='majmin'>],\n",
       "       [<Axes: title={'center': 'selection rate'}, xlabel='majmin'>,\n",
       "        <Axes: title={'center': 'count'}, xlabel='majmin'>,\n",
       "        <Axes: xlabel='majmin'>]], dtype=object)"
      ]
     },
     "execution_count": 76,
     "metadata": {},
     "output_type": "execute_result"
    },
    {
     "data": {
      "image/png": "[encoded data removed]",
      "text/plain": [
       "<Figure size 1200x800 with 9 Axes>"
      ]
     },
     "metadata": {},
     "output_type": "display_data"
    }
   ],
   "source": [
    "# In a graphic\n",
    "metric_frame.by_group.plot.bar(\n",
    "    subplots=True,\n",
    "    layout=[3, 3],\n",
    "    legend=False,\n",
    "    figsize=[12, 8],\n",
    "    title=\"Show all metrics\",\n",
    ")"
   ]
  },
  {
   "cell_type": "markdown",
   "id": "f57a0bac",
   "metadata": {
    "papermill": {
     "duration": 0.031345,
     "end_time": "2025-07-30T13:57:17.233029",
     "exception": false,
     "start_time": "2025-07-30T13:57:17.201684",
     "status": "completed"
    },
    "tags": []
   },
   "source": [
    "# Final Output"
   ]
  },
  {
   "cell_type": "code",
   "execution_count": 77,
   "id": "96d280a3",
   "metadata": {
    "execution": {
     "iopub.execute_input": "2025-07-30T13:57:17.296318Z",
     "iopub.status.busy": "2025-07-30T13:57:17.295552Z",
     "iopub.status.idle": "2025-07-30T13:57:17.304532Z",
     "shell.execute_reply": "2025-07-30T13:57:17.303436Z"
    },
    "papermill": {
     "duration": 0.041992,
     "end_time": "2025-07-30T13:57:17.306185",
     "exception": false,
     "start_time": "2025-07-30T13:57:17.264193",
     "status": "completed"
    },
    "tags": []
   },
   "outputs": [
    {
     "data": {
      "text/plain": [
       "4"
      ]
     },
     "execution_count": 77,
     "metadata": {},
     "output_type": "execute_result"
    }
   ],
   "source": [
    "sub_universes = universe_analysis.generate_sub_universes()\n",
    "len(sub_universes)"
   ]
  },
  {
   "cell_type": "code",
   "execution_count": 78,
   "id": "92adf7ba",
   "metadata": {
    "execution": {
     "iopub.execute_input": "2025-07-30T13:57:17.371254Z",
     "iopub.status.busy": "2025-07-30T13:57:17.370560Z",
     "iopub.status.idle": "2025-07-30T13:57:17.377480Z",
     "shell.execute_reply": "2025-07-30T13:57:17.376441Z"
    },
    "papermill": {
     "duration": 0.040998,
     "end_time": "2025-07-30T13:57:17.379325",
     "exception": false,
     "start_time": "2025-07-30T13:57:17.338327",
     "status": "completed"
    },
    "tags": []
   },
   "outputs": [],
   "source": [
    "def filter_sub_universe_data(sub_universe, org_test):\n",
    "    # Keep all rows — no filtering\n",
    "    keep_rows_mask = np.ones(org_test.shape[0], dtype=bool)\n",
    "\n",
    "    print(f\"[INFO] Keeping all rows: {keep_rows_mask.sum()} rows retained.\")\n",
    "    return keep_rows_mask"
   ]
  },
  {
   "cell_type": "code",
   "execution_count": 79,
   "id": "4a759155",
   "metadata": {
    "execution": {
     "iopub.execute_input": "2025-07-30T13:57:17.444095Z",
     "iopub.status.busy": "2025-07-30T13:57:17.443340Z",
     "iopub.status.idle": "2025-07-30T13:57:27.507630Z",
     "shell.execute_reply": "2025-07-30T13:57:27.506626Z"
    },
    "papermill": {
     "duration": 10.098364,
     "end_time": "2025-07-30T13:57:27.509617",
     "exception": false,
     "start_time": "2025-07-30T13:57:17.411253",
     "status": "completed"
    },
    "tags": []
   },
   "outputs": [
    {
     "name": "stdout",
     "output_type": "stream",
     "text": [
      "Stopping execution_time clock.\n",
      "[INFO] Keeping all rows: 89710 rows retained.\n"
     ]
    },
    {
     "name": "stdout",
     "output_type": "stream",
     "text": [
      "[INFO] Keeping all rows: 89710 rows retained.\n"
     ]
    },
    {
     "name": "stdout",
     "output_type": "stream",
     "text": [
      "[INFO] Keeping all rows: 89710 rows retained.\n"
     ]
    },
    {
     "name": "stdout",
     "output_type": "stream",
     "text": [
      "[INFO] Keeping all rows: 89710 rows retained.\n"
     ]
    },
    {
     "data": {
      "text/html": [
       "<div>\n",
       "<style scoped>\n",
       "    .dataframe tbody tr th:only-of-type {\n",
       "        vertical-align: middle;\n",
       "    }\n",
       "\n",
       "    .dataframe tbody tr th {\n",
       "        vertical-align: top;\n",
       "    }\n",
       "\n",
       "    .dataframe thead th {\n",
       "        text-align: right;\n",
       "    }\n",
       "</style>\n",
       "<table border=\"1\" class=\"dataframe\">\n",
       "  <thead>\n",
       "    <tr style=\"text-align: right;\">\n",
       "      <th></th>\n",
       "      <th>run_no</th>\n",
       "      <th>universe_id</th>\n",
       "      <th>universe_settings</th>\n",
       "      <th>execution_time</th>\n",
       "      <th>test_size_n</th>\n",
       "      <th>test_size_frac</th>\n",
       "      <th>fair_main_equalized_odds_difference</th>\n",
       "      <th>fair_main_equalized_odds_ratio</th>\n",
       "      <th>fair_main_demographic_parity_difference</th>\n",
       "      <th>fair_main_demographic_parity_ratio</th>\n",
       "      <th>...</th>\n",
       "      <th>perf_grp_precision_0</th>\n",
       "      <th>perf_grp_precision_1</th>\n",
       "      <th>perf_grp_false positive rate_0</th>\n",
       "      <th>perf_grp_false positive rate_1</th>\n",
       "      <th>perf_grp_false negative rate_0</th>\n",
       "      <th>perf_grp_false negative rate_1</th>\n",
       "      <th>perf_grp_selection rate_0</th>\n",
       "      <th>perf_grp_selection rate_1</th>\n",
       "      <th>perf_grp_count_0</th>\n",
       "      <th>perf_grp_count_1</th>\n",
       "    </tr>\n",
       "  </thead>\n",
       "  <tbody>\n",
       "    <tr>\n",
       "      <th>0</th>\n",
       "      <td>12</td>\n",
       "      <td>4c73bfef57c5b28876051c118bdda352</td>\n",
       "      <td>{\"cutoff\": \"quantile_0.1\", \"eval_fairness_grou...</td>\n",
       "      <td>30.141309</td>\n",
       "      <td>89710</td>\n",
       "      <td>1.0</td>\n",
       "      <td>0.052123</td>\n",
       "      <td>0.947195</td>\n",
       "      <td>0.044754</td>\n",
       "      <td>0.951412</td>\n",
       "      <td>...</td>\n",
       "      <td>NaN</td>\n",
       "      <td>NaN</td>\n",
       "      <td>NaN</td>\n",
       "      <td>NaN</td>\n",
       "      <td>NaN</td>\n",
       "      <td>NaN</td>\n",
       "      <td>NaN</td>\n",
       "      <td>NaN</td>\n",
       "      <td>NaN</td>\n",
       "      <td>NaN</td>\n",
       "    </tr>\n",
       "    <tr>\n",
       "      <th>0</th>\n",
       "      <td>12</td>\n",
       "      <td>4c73bfef57c5b28876051c118bdda352</td>\n",
       "      <td>{\"cutoff\": \"quantile_0.1\", \"eval_fairness_grou...</td>\n",
       "      <td>30.141309</td>\n",
       "      <td>89710</td>\n",
       "      <td>1.0</td>\n",
       "      <td>0.052123</td>\n",
       "      <td>0.947195</td>\n",
       "      <td>0.044754</td>\n",
       "      <td>0.951412</td>\n",
       "      <td>...</td>\n",
       "      <td>0.12300</td>\n",
       "      <td>0.141606</td>\n",
       "      <td>0.868699</td>\n",
       "      <td>0.911044</td>\n",
       "      <td>0.065034</td>\n",
       "      <td>0.012910</td>\n",
       "      <td>0.876339</td>\n",
       "      <td>0.921093</td>\n",
       "      <td>20540.0</td>\n",
       "      <td>69170.0</td>\n",
       "    </tr>\n",
       "    <tr>\n",
       "      <th>0</th>\n",
       "      <td>12</td>\n",
       "      <td>4c73bfef57c5b28876051c118bdda352</td>\n",
       "      <td>{\"cutoff\": \"quantile_0.25\", \"eval_fairness_gro...</td>\n",
       "      <td>30.141309</td>\n",
       "      <td>89710</td>\n",
       "      <td>1.0</td>\n",
       "      <td>0.104386</td>\n",
       "      <td>0.890586</td>\n",
       "      <td>0.058101</td>\n",
       "      <td>0.927069</td>\n",
       "      <td>...</td>\n",
       "      <td>NaN</td>\n",
       "      <td>NaN</td>\n",
       "      <td>NaN</td>\n",
       "      <td>NaN</td>\n",
       "      <td>NaN</td>\n",
       "      <td>NaN</td>\n",
       "      <td>NaN</td>\n",
       "      <td>NaN</td>\n",
       "      <td>NaN</td>\n",
       "      <td>NaN</td>\n",
       "    </tr>\n",
       "    <tr>\n",
       "      <th>0</th>\n",
       "      <td>12</td>\n",
       "      <td>4c73bfef57c5b28876051c118bdda352</td>\n",
       "      <td>{\"cutoff\": \"quantile_0.25\", \"eval_fairness_gro...</td>\n",
       "      <td>30.141309</td>\n",
       "      <td>89710</td>\n",
       "      <td>1.0</td>\n",
       "      <td>0.104386</td>\n",
       "      <td>0.890586</td>\n",
       "      <td>0.058101</td>\n",
       "      <td>0.927069</td>\n",
       "      <td>...</td>\n",
       "      <td>0.13263</td>\n",
       "      <td>0.158243</td>\n",
       "      <td>0.724081</td>\n",
       "      <td>0.772697</td>\n",
       "      <td>0.150338</td>\n",
       "      <td>0.045952</td>\n",
       "      <td>0.738559</td>\n",
       "      <td>0.796660</td>\n",
       "      <td>20540.0</td>\n",
       "      <td>69170.0</td>\n",
       "    </tr>\n",
       "  </tbody>\n",
       "</table>\n",
       "<p>4 rows × 50 columns</p>\n",
       "</div>"
      ],
      "text/plain": [
       "  run_no                       universe_id  \\\n",
       "0     12  4c73bfef57c5b28876051c118bdda352   \n",
       "0     12  4c73bfef57c5b28876051c118bdda352   \n",
       "0     12  4c73bfef57c5b28876051c118bdda352   \n",
       "0     12  4c73bfef57c5b28876051c118bdda352   \n",
       "\n",
       "                                   universe_settings  execution_time  \\\n",
       "0  {\"cutoff\": \"quantile_0.1\", \"eval_fairness_grou...       30.141309   \n",
       "0  {\"cutoff\": \"quantile_0.1\", \"eval_fairness_grou...       30.141309   \n",
       "0  {\"cutoff\": \"quantile_0.25\", \"eval_fairness_gro...       30.141309   \n",
       "0  {\"cutoff\": \"quantile_0.25\", \"eval_fairness_gro...       30.141309   \n",
       "\n",
       "   test_size_n  test_size_frac  fair_main_equalized_odds_difference  \\\n",
       "0        89710             1.0                             0.052123   \n",
       "0        89710             1.0                             0.052123   \n",
       "0        89710             1.0                             0.104386   \n",
       "0        89710             1.0                             0.104386   \n",
       "\n",
       "   fair_main_equalized_odds_ratio  fair_main_demographic_parity_difference  \\\n",
       "0                        0.947195                                 0.044754   \n",
       "0                        0.947195                                 0.044754   \n",
       "0                        0.890586                                 0.058101   \n",
       "0                        0.890586                                 0.058101   \n",
       "\n",
       "   fair_main_demographic_parity_ratio  ...  perf_grp_precision_0  \\\n",
       "0                            0.951412  ...                   NaN   \n",
       "0                            0.951412  ...               0.12300   \n",
       "0                            0.927069  ...                   NaN   \n",
       "0                            0.927069  ...               0.13263   \n",
       "\n",
       "   perf_grp_precision_1  perf_grp_false positive rate_0  \\\n",
       "0                   NaN                             NaN   \n",
       "0              0.141606                        0.868699   \n",
       "0                   NaN                             NaN   \n",
       "0              0.158243                        0.724081   \n",
       "\n",
       "   perf_grp_false positive rate_1  perf_grp_false negative rate_0  \\\n",
       "0                             NaN                             NaN   \n",
       "0                        0.911044                        0.065034   \n",
       "0                             NaN                             NaN   \n",
       "0                        0.772697                        0.150338   \n",
       "\n",
       "   perf_grp_false negative rate_1  perf_grp_selection rate_0  \\\n",
       "0                             NaN                        NaN   \n",
       "0                        0.012910                   0.876339   \n",
       "0                             NaN                        NaN   \n",
       "0                        0.045952                   0.738559   \n",
       "\n",
       "   perf_grp_selection rate_1  perf_grp_count_0  perf_grp_count_1  \n",
       "0                        NaN               NaN               NaN  \n",
       "0                   0.921093           20540.0           69170.0  \n",
       "0                        NaN               NaN               NaN  \n",
       "0                   0.796660           20540.0           69170.0  \n",
       "\n",
       "[4 rows x 50 columns]"
      ]
     },
     "execution_count": 79,
     "metadata": {},
     "output_type": "execute_result"
    }
   ],
   "source": [
    "final_output = universe_analysis.generate_final_output(\n",
    "    y_pred_prob=probs_test,\n",
    "    y_test=y_true,\n",
    "    org_test=org_test,\n",
    "    filter_data=filter_sub_universe_data,\n",
    "    cp_metrics_df=cp_metrics_df,\n",
    "    save=True,\n",
    ")\n",
    "final_output"
   ]
  },
  {
   "cell_type": "code",
   "execution_count": null,
   "id": "721ff514-cb11-46f8-b6fc-50392f74b5cb",
   "metadata": {
    "papermill": {
     "duration": 0.016334,
     "end_time": "2025-07-30T13:57:27.577326",
     "exception": false,
     "start_time": "2025-07-30T13:57:27.560992",
     "status": "completed"
    },
    "tags": []
   },
   "outputs": [],
   "source": []
  }
 ],
 "metadata": {
  "celltoolbar": "Tags",
  "kernelspec": {
   "display_name": "Python (CMA Fairness)",
   "language": "python",
   "name": "cma_fair_env"
  },
  "language_info": {
   "codemirror_mode": {
    "name": "ipython",
    "version": 3
   },
   "file_extension": ".py",
   "mimetype": "text/x-python",
   "name": "python",
   "nbconvert_exporter": "python",
   "pygments_lexer": "ipython3",
   "version": "3.10.12"
  },
  "papermill": {
   "default_parameters": {},
   "duration": 44.204612,
   "end_time": "2025-07-30T13:57:28.213474",
   "environment_variables": {},
   "exception": null,
   "input_path": "universe_analysis.ipynb",
   "output_path": "output/runs/12/notebooks/m_12-4c73bfef57c5b28876051c118bdda352.ipynb",
   "parameters": {
    "output_dir": "output",
    "run_no": "12",
    "seed": "2023",
    "universe": "{\"cutoff\": [\"quantile_0.1\", \"quantile_0.25\"], \"eval_fairness_grouping\": [\"majority-minority\", \"nationality-all\"], \"exclude_features\": \"age\", \"exclude_subgroups\": \"drop-non-german\", \"model\": \"rf\", \"scale\": \"scale\", \"training_size\": \"5k\", \"training_year\": \"2012_14\"}",
    "universe_id": "4c73bfef57c5b28876051c118bdda352"
   },
   "start_time": "2025-07-30T13:56:44.008862",
   "version": "2.6.0"
  }
 },
 "nbformat": 4,
 "nbformat_minor": 5
}