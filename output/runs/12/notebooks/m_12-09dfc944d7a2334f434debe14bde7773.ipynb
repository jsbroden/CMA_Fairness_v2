{
 "cells": [
  {
   "cell_type": "code",
   "execution_count": 1,
   "id": "f159f837-637b-42ba-96b5-ec9a68c44524",
   "metadata": {
    "execution": {
     "iopub.execute_input": "2025-07-30T13:49:52.636245Z",
     "iopub.status.busy": "2025-07-30T13:49:52.635723Z",
     "iopub.status.idle": "2025-07-30T13:49:52.650957Z",
     "shell.execute_reply": "2025-07-30T13:49:52.649816Z"
    },
    "papermill": {
     "duration": 0.05161,
     "end_time": "2025-07-30T13:49:52.652670",
     "exception": false,
     "start_time": "2025-07-30T13:49:52.601060",
     "status": "completed"
    },
    "tags": []
   },
   "outputs": [
    {
     "name": "stdout",
     "output_type": "stream",
     "text": [
      "/dss/dsshome1/0C/ra93lal2/cma/CMA_Fairness_v2\n"
     ]
    },
    {
     "name": "stderr",
     "output_type": "stream",
     "text": [
      "/dss/dsshome1/0C/ra93lal2/.local/share/virtualenvs/CMA_Fairness_v2-3j10GkSs/lib/python3.10/site-packages/IPython/core/magics/osm.py:393: UserWarning: This is now an optional IPython functionality, using bookmarks requires you to install the `pickleshare` library.\n",
      "  bkms = self.shell.db.get('bookmarks', {})\n",
      "/dss/dsshome1/0C/ra93lal2/.local/share/virtualenvs/CMA_Fairness_v2-3j10GkSs/lib/python3.10/site-packages/IPython/core/magics/osm.py:417: UserWarning: This is now an optional IPython functionality, setting dhist requires you to install the `pickleshare` library.\n",
      "  self.shell.db['dhist'] = compress_dhist(dhist)[-100:]\n"
     ]
    }
   ],
   "source": [
    "%cd ~/cma/CMA_Fairness_v2"
   ]
  },
  {
   "cell_type": "markdown",
   "id": "de2603b9",
   "metadata": {
    "papermill": {
     "duration": 0.028804,
     "end_time": "2025-07-30T13:49:52.720880",
     "exception": false,
     "start_time": "2025-07-30T13:49:52.692076",
     "status": "completed"
    },
    "tags": []
   },
   "source": [
    "The following cell holds the definition of our parameters, these values can be overriden by rendering the with e.g. the following command:\n",
    "\n",
    "papermill -p alpha 0.2 -p ratio 0.3 universe_analysis.ipynb output/test_run.ipynb"
   ]
  },
  {
   "cell_type": "code",
   "execution_count": 2,
   "id": "a80968a0-40bb-4fa9-85ef-2d5eefb01975",
   "metadata": {
    "execution": {
     "iopub.execute_input": "2025-07-30T13:49:52.811498Z",
     "iopub.status.busy": "2025-07-30T13:49:52.810993Z",
     "iopub.status.idle": "2025-07-30T13:49:52.816617Z",
     "shell.execute_reply": "2025-07-30T13:49:52.815694Z"
    },
    "papermill": {
     "duration": 0.068853,
     "end_time": "2025-07-30T13:49:52.818192",
     "exception": false,
     "start_time": "2025-07-30T13:49:52.749339",
     "status": "completed"
    },
    "tags": []
   },
   "outputs": [
    {
     "name": "stdout",
     "output_type": "stream",
     "text": [
      "Current working directory: /dss/dsshome1/0C/ra93lal2/cma/CMA_Fairness_v2\n"
     ]
    }
   ],
   "source": [
    "import os\n",
    "print(\"Current working directory:\", os.getcwd())"
   ]
  },
  {
   "cell_type": "code",
   "execution_count": 3,
   "id": "2dce4c03",
   "metadata": {
    "execution": {
     "iopub.execute_input": "2025-07-30T13:49:52.861489Z",
     "iopub.status.busy": "2025-07-30T13:49:52.860996Z",
     "iopub.status.idle": "2025-07-30T13:49:52.867356Z",
     "shell.execute_reply": "2025-07-30T13:49:52.866392Z"
    },
    "papermill": {
     "duration": 0.029438,
     "end_time": "2025-07-30T13:49:52.868887",
     "exception": false,
     "start_time": "2025-07-30T13:49:52.839449",
     "status": "completed"
    },
    "tags": [
     "parameters"
    ]
   },
   "outputs": [],
   "source": [
    "run_no = 0\n",
    "universe_id = \"test\"\n",
    "universe = {\n",
    "    \"training_size\": \"25k\", # \"25k\", \"5k\", \"1k\"\n",
    "    \"training_year\": \"2014\", # \"2014\", \"2012_14\", \"2010_14\"\n",
    "    \"scale\": \"scale\", # \"scale\", \"do-not-scale\",\n",
    "    #\"stratify_split\": \"target\", # \"none\", \"target\", \"protected-attribute\", \"both\",\n",
    "    \"model\": \"elasticnet\", # \"logreg\", \"penalized_logreg\", \"rf\", \"gbm\", \"elasticnet\"\n",
    "    \"cutoff\": [\"quantile_0.15\", \"quantile_0.30\"],\n",
    "    \"exclude_features\": \"age\", # \"none\", \"nationality\", \"sex\", \"nationality-sex\", \"age\"\n",
    "    \"exclude_subgroups\": \"keep-all\", # \"keep-all\", \"drop-non-german\"\n",
    "    \"eval_fairness_grouping\": [\"majority-minority\", \"nationality-all\"]\n",
    "}\n",
    "\n",
    "output_dir=\"./output\"\n",
    "seed=0"
   ]
  },
  {
   "cell_type": "code",
   "execution_count": 4,
   "id": "c13b401b",
   "metadata": {
    "execution": {
     "iopub.execute_input": "2025-07-30T13:49:52.920986Z",
     "iopub.status.busy": "2025-07-30T13:49:52.920571Z",
     "iopub.status.idle": "2025-07-30T13:49:52.926154Z",
     "shell.execute_reply": "2025-07-30T13:49:52.925182Z"
    },
    "papermill": {
     "duration": 0.031045,
     "end_time": "2025-07-30T13:49:52.929015",
     "exception": false,
     "start_time": "2025-07-30T13:49:52.897970",
     "status": "completed"
    },
    "tags": [
     "injected-parameters"
    ]
   },
   "outputs": [],
   "source": [
    "# Parameters\n",
    "universe_id = \"09dfc944d7a2334f434debe14bde7773\"\n",
    "run_no = \"12\"\n",
    "universe = \"{\\\"cutoff\\\": [\\\"quantile_0.1\\\", \\\"quantile_0.25\\\"], \\\"eval_fairness_grouping\\\": [\\\"majority-minority\\\", \\\"nationality-all\\\"], \\\"exclude_features\\\": \\\"none\\\", \\\"exclude_subgroups\\\": \\\"keep-all\\\", \\\"model\\\": \\\"gbm\\\", \\\"scale\\\": \\\"do-not-scale\\\", \\\"training_size\\\": \\\"5k\\\", \\\"training_year\\\": \\\"2014\\\"}\"\n",
    "output_dir = \"output\"\n",
    "seed = \"2023\"\n"
   ]
  },
  {
   "cell_type": "code",
   "execution_count": 5,
   "id": "1650acaf",
   "metadata": {
    "execution": {
     "iopub.execute_input": "2025-07-30T13:49:52.970860Z",
     "iopub.status.busy": "2025-07-30T13:49:52.970500Z",
     "iopub.status.idle": "2025-07-30T13:49:52.976635Z",
     "shell.execute_reply": "2025-07-30T13:49:52.975732Z"
    },
    "papermill": {
     "duration": 0.029905,
     "end_time": "2025-07-30T13:49:52.979662",
     "exception": false,
     "start_time": "2025-07-30T13:49:52.949757",
     "status": "completed"
    },
    "tags": []
   },
   "outputs": [],
   "source": [
    "import json\n",
    "# Parse universe into dict if it is passed as a string\n",
    "if isinstance(universe, str):\n",
    "    universe = json.loads(universe)"
   ]
  },
  {
   "cell_type": "code",
   "execution_count": 6,
   "id": "16620c48",
   "metadata": {
    "execution": {
     "iopub.execute_input": "2025-07-30T13:49:53.022963Z",
     "iopub.status.busy": "2025-07-30T13:49:53.022548Z",
     "iopub.status.idle": "2025-07-30T13:49:53.070531Z",
     "shell.execute_reply": "2025-07-30T13:49:53.069558Z"
    },
    "papermill": {
     "duration": 0.071636,
     "end_time": "2025-07-30T13:49:53.072393",
     "exception": false,
     "start_time": "2025-07-30T13:49:53.000757",
     "status": "completed"
    },
    "tags": []
   },
   "outputs": [],
   "source": [
    "# Auto-reload the custom package\n",
    "%load_ext autoreload\n",
    "%autoreload 1\n",
    "%aimport fairness_multiverse"
   ]
  },
  {
   "cell_type": "code",
   "execution_count": 7,
   "id": "01c5c9f3",
   "metadata": {
    "execution": {
     "iopub.execute_input": "2025-07-30T13:49:53.114554Z",
     "iopub.status.busy": "2025-07-30T13:49:53.113827Z",
     "iopub.status.idle": "2025-07-30T13:49:55.024337Z",
     "shell.execute_reply": "2025-07-30T13:49:55.023239Z"
    },
    "papermill": {
     "duration": 1.9334,
     "end_time": "2025-07-30T13:49:55.026306",
     "exception": false,
     "start_time": "2025-07-30T13:49:53.092906",
     "status": "completed"
    },
    "tags": []
   },
   "outputs": [],
   "source": [
    "from fairness_multiverse.universe import UniverseAnalysis\n",
    "\n",
    "universe_analysis = UniverseAnalysis(\n",
    "    run_no = run_no,\n",
    "    universe_id = universe_id,\n",
    "    universe = universe,\n",
    "    output_dir=output_dir,\n",
    ")"
   ]
  },
  {
   "cell_type": "code",
   "execution_count": 8,
   "id": "106241f5",
   "metadata": {
    "execution": {
     "iopub.execute_input": "2025-07-30T13:49:55.071665Z",
     "iopub.status.busy": "2025-07-30T13:49:55.070808Z",
     "iopub.status.idle": "2025-07-30T13:49:55.077299Z",
     "shell.execute_reply": "2025-07-30T13:49:55.076418Z"
    },
    "papermill": {
     "duration": 0.030541,
     "end_time": "2025-07-30T13:49:55.078686",
     "exception": false,
     "start_time": "2025-07-30T13:49:55.048145",
     "status": "completed"
    },
    "tags": []
   },
   "outputs": [
    {
     "name": "stdout",
     "output_type": "stream",
     "text": [
      "Using Seed: 2023\n"
     ]
    }
   ],
   "source": [
    "import numpy as np\n",
    "parsed_seed = int(seed)\n",
    "np.random.seed(parsed_seed)\n",
    "print(f\"Using Seed: {parsed_seed}\")"
   ]
  },
  {
   "cell_type": "markdown",
   "id": "e0ebdc57",
   "metadata": {
    "papermill": {
     "duration": 0.010223,
     "end_time": "2025-07-30T13:49:55.100889",
     "exception": false,
     "start_time": "2025-07-30T13:49:55.090666",
     "status": "completed"
    },
    "tags": []
   },
   "source": [
    "# Loading Data"
   ]
  },
  {
   "cell_type": "markdown",
   "id": "681925a3",
   "metadata": {
    "papermill": {
     "duration": 0.010518,
     "end_time": "2025-07-30T13:49:55.121744",
     "exception": false,
     "start_time": "2025-07-30T13:49:55.111226",
     "status": "completed"
    },
    "tags": []
   },
   "source": [
    "Load siab_train, siab_test, siab_calib and/or \n",
    "load siab_train_features, siab_train_labels"
   ]
  },
  {
   "cell_type": "code",
   "execution_count": 9,
   "id": "f0496b8a",
   "metadata": {
    "execution": {
     "iopub.execute_input": "2025-07-30T13:49:55.153369Z",
     "iopub.status.busy": "2025-07-30T13:49:55.152882Z",
     "iopub.status.idle": "2025-07-30T13:50:07.536133Z",
     "shell.execute_reply": "2025-07-30T13:50:07.535032Z"
    },
    "papermill": {
     "duration": 12.405955,
     "end_time": "2025-07-30T13:50:07.537714",
     "exception": false,
     "start_time": "2025-07-30T13:49:55.131759",
     "status": "completed"
    },
    "tags": []
   },
   "outputs": [
    {
     "name": "stdout",
     "output_type": "stream",
     "text": [
      "Loading SIAB data from cache: data/siab_cached.csv.gz\n"
     ]
    },
    {
     "name": "stdout",
     "output_type": "stream",
     "text": [
      "(643690, 164)\n"
     ]
    }
   ],
   "source": [
    "from pathlib import Path\n",
    "import pandas as pd\n",
    "\n",
    "# File paths\n",
    "raw_file = Path(\"data/raw/siab.csv\")\n",
    "cache_file = Path(\"data/siab_cached.csv.gz\")\n",
    "\n",
    "# Ensure cache directory exists\n",
    "cache_file.parent.mkdir(parents=True, exist_ok=True)\n",
    "\n",
    "# Load with simple caching\n",
    "if cache_file.exists():\n",
    "    print(f\"Loading SIAB data from cache: {cache_file}\")\n",
    "    siab = pd.read_csv(cache_file, compression='gzip')\n",
    "else:\n",
    "    print(f\"Cache not found. Reading raw SIAB data: {raw_file}\")\n",
    "    siab = pd.read_csv(raw_file)\n",
    "    siab.to_csv(cache_file, index=False, compression='gzip')\n",
    "    print(f\"Cached SIAB data to: {cache_file}\")\n",
    "\n",
    "# Now use `siab` DataFrame as needed\n",
    "print(siab.shape)"
   ]
  },
  {
   "cell_type": "code",
   "execution_count": 10,
   "id": "db0ca512-5f53-4dba-abdb-a2888bca41ba",
   "metadata": {
    "execution": {
     "iopub.execute_input": "2025-07-30T13:50:07.599568Z",
     "iopub.status.busy": "2025-07-30T13:50:07.599145Z",
     "iopub.status.idle": "2025-07-30T13:50:07.604787Z",
     "shell.execute_reply": "2025-07-30T13:50:07.603803Z"
    },
    "papermill": {
     "duration": 0.02965,
     "end_time": "2025-07-30T13:50:07.606683",
     "exception": false,
     "start_time": "2025-07-30T13:50:07.577033",
     "status": "completed"
    },
    "tags": []
   },
   "outputs": [],
   "source": [
    "#siab"
   ]
  },
  {
   "cell_type": "code",
   "execution_count": 11,
   "id": "a0edb063",
   "metadata": {
    "execution": {
     "iopub.execute_input": "2025-07-30T13:50:07.647091Z",
     "iopub.status.busy": "2025-07-30T13:50:07.646589Z",
     "iopub.status.idle": "2025-07-30T13:50:07.651487Z",
     "shell.execute_reply": "2025-07-30T13:50:07.650577Z"
    },
    "papermill": {
     "duration": 0.027916,
     "end_time": "2025-07-30T13:50:07.654238",
     "exception": false,
     "start_time": "2025-07-30T13:50:07.626322",
     "status": "completed"
    },
    "tags": []
   },
   "outputs": [],
   "source": [
    "#import pandas as pd\n",
    "#\n",
    "#X_train = pd.read_csv(\"./data/X_train.csv\")\n",
    "#y_train = pd.read_csv(\"./data/y_train.csv\")"
   ]
  },
  {
   "cell_type": "code",
   "execution_count": 12,
   "id": "63d08085",
   "metadata": {
    "execution": {
     "iopub.execute_input": "2025-07-30T13:50:07.702676Z",
     "iopub.status.busy": "2025-07-30T13:50:07.702114Z",
     "iopub.status.idle": "2025-07-30T13:50:07.711798Z",
     "shell.execute_reply": "2025-07-30T13:50:07.710723Z"
    },
    "papermill": {
     "duration": 0.039791,
     "end_time": "2025-07-30T13:50:07.713873",
     "exception": false,
     "start_time": "2025-07-30T13:50:07.674082",
     "status": "completed"
    },
    "tags": []
   },
   "outputs": [],
   "source": [
    "#X_test = pd.read_csv(\"./data/X_test.csv\")\n",
    "#y_true = pd.read_csv(\"./data/y_test.csv\")"
   ]
  },
  {
   "cell_type": "code",
   "execution_count": 13,
   "id": "98a8d0fa-1d3d-4ed8-bb2c-281470e24add",
   "metadata": {
    "execution": {
     "iopub.execute_input": "2025-07-30T13:50:07.755974Z",
     "iopub.status.busy": "2025-07-30T13:50:07.755543Z",
     "iopub.status.idle": "2025-07-30T13:50:07.761501Z",
     "shell.execute_reply": "2025-07-30T13:50:07.760475Z"
    },
    "papermill": {
     "duration": 0.031184,
     "end_time": "2025-07-30T13:50:07.765403",
     "exception": false,
     "start_time": "2025-07-30T13:50:07.734219",
     "status": "completed"
    },
    "tags": []
   },
   "outputs": [],
   "source": [
    "# Calibration data for conformal\n",
    "#X_calib = pd.read_csv(\"./data/X_calib.csv\")\n",
    "#y_calib = pd.read_csv(\"./data/y_calib.csv\")"
   ]
  },
  {
   "cell_type": "markdown",
   "id": "997051c5-15bd-4b69-9786-c3001a3ce484",
   "metadata": {
    "papermill": {
     "duration": 0.020768,
     "end_time": "2025-07-30T13:50:07.807887",
     "exception": false,
     "start_time": "2025-07-30T13:50:07.787119",
     "status": "completed"
    },
    "tags": []
   },
   "source": [
    "# Splitting Data and Setting Training Data Size"
   ]
  },
  {
   "cell_type": "code",
   "execution_count": 14,
   "id": "e993b61f-042d-41a6-8c81-f55681f86335",
   "metadata": {
    "execution": {
     "iopub.execute_input": "2025-07-30T13:50:07.850265Z",
     "iopub.status.busy": "2025-07-30T13:50:07.849876Z",
     "iopub.status.idle": "2025-07-30T13:50:07.864355Z",
     "shell.execute_reply": "2025-07-30T13:50:07.863211Z"
    },
    "papermill": {
     "duration": 0.038305,
     "end_time": "2025-07-30T13:50:07.866025",
     "exception": false,
     "start_time": "2025-07-30T13:50:07.827720",
     "status": "completed"
    },
    "tags": []
   },
   "outputs": [],
   "source": [
    "def sample_by_year_size(df,\n",
    "                        training_year: str,\n",
    "                        training_size: str,\n",
    "                        random_state: int = 42):\n",
    "    # --- parse training_year into a list of int years ---\n",
    "    if \"_\" in training_year:\n",
    "        start_str, end_str = training_year.split(\"_\", 1)\n",
    "        start = int(start_str)\n",
    "        end   = int(end_str) if len(end_str) == 4 else (int(end_str) + (start // 100)*100)\n",
    "        years = list(range(start, end + 1))\n",
    "    else:\n",
    "        years = [int(training_year)]\n",
    "\n",
    "    df = df[df[\"year\"].isin(years)].reset_index(drop=True)\n",
    "\n",
    "    # --- map training_size to total number of samples ---\n",
    "    total_map = {\"25k\": 25_000, \"5k\": 5_000, \"1k\": 1_000}\n",
    "    if training_size not in total_map:\n",
    "        return df  # e.g. \"all\"\n",
    "\n",
    "    total_samples = total_map[training_size]\n",
    "    n_years       = len(years)\n",
    "    base          = total_samples // n_years\n",
    "    remainder     = total_samples % n_years\n",
    "\n",
    "    # --- build a dict: year -> how many to sample ---\n",
    "    # give +1 to the first `remainder` years in ascending order\n",
    "    quotas = {\n",
    "        year: base + (1 if idx < remainder else 0)\n",
    "        for idx, year in enumerate(sorted(years))\n",
    "    }\n",
    "\n",
    "    # --- sample per‐year according to the quota dict ---\n",
    "    sampled = (\n",
    "        df\n",
    "        .groupby(\"year\", group_keys=False)\n",
    "        .apply(lambda grp: grp.sample(\n",
    "            n=min(len(grp), quotas[grp.name]),\n",
    "            random_state=random_state))\n",
    "        .reset_index(drop=True)\n",
    "    )\n",
    "\n",
    "    return sampled"
   ]
  },
  {
   "cell_type": "code",
   "execution_count": 15,
   "id": "c0ccd338-0e02-41f3-a09d-f56f9266e3fb",
   "metadata": {
    "execution": {
     "iopub.execute_input": "2025-07-30T13:50:07.914097Z",
     "iopub.status.busy": "2025-07-30T13:50:07.913702Z",
     "iopub.status.idle": "2025-07-30T13:50:07.925083Z",
     "shell.execute_reply": "2025-07-30T13:50:07.924077Z"
    },
    "papermill": {
     "duration": 0.039805,
     "end_time": "2025-07-30T13:50:07.928870",
     "exception": false,
     "start_time": "2025-07-30T13:50:07.889065",
     "status": "completed"
    },
    "tags": []
   },
   "outputs": [
    {
     "data": {
      "text/plain": [
       "'5k'"
      ]
     },
     "execution_count": 15,
     "metadata": {},
     "output_type": "execute_result"
    }
   ],
   "source": [
    "universe[\"training_size\"]"
   ]
  },
  {
   "cell_type": "code",
   "execution_count": 16,
   "id": "ca707fd7-8047-4acd-bfa5-66248fbbf8e6",
   "metadata": {
    "execution": {
     "iopub.execute_input": "2025-07-30T13:50:07.990778Z",
     "iopub.status.busy": "2025-07-30T13:50:07.989708Z",
     "iopub.status.idle": "2025-07-30T13:50:07.996980Z",
     "shell.execute_reply": "2025-07-30T13:50:07.995932Z"
    },
    "papermill": {
     "duration": 0.048869,
     "end_time": "2025-07-30T13:50:07.998692",
     "exception": false,
     "start_time": "2025-07-30T13:50:07.949823",
     "status": "completed"
    },
    "tags": []
   },
   "outputs": [
    {
     "data": {
      "text/plain": [
       "'2014'"
      ]
     },
     "execution_count": 16,
     "metadata": {},
     "output_type": "execute_result"
    }
   ],
   "source": [
    "universe[\"training_year\"]"
   ]
  },
  {
   "cell_type": "code",
   "execution_count": 17,
   "id": "aea9c6ef-6f46-42c8-85eb-5a62025c1508",
   "metadata": {
    "execution": {
     "iopub.execute_input": "2025-07-30T13:50:08.042675Z",
     "iopub.status.busy": "2025-07-30T13:50:08.042286Z",
     "iopub.status.idle": "2025-07-30T13:50:08.274870Z",
     "shell.execute_reply": "2025-07-30T13:50:08.273865Z"
    },
    "papermill": {
     "duration": 0.255763,
     "end_time": "2025-07-30T13:50:08.276699",
     "exception": false,
     "start_time": "2025-07-30T13:50:08.020936",
     "status": "completed"
    },
    "tags": []
   },
   "outputs": [],
   "source": [
    "siab_train = sample_by_year_size(siab,\n",
    "                               training_year=universe[\"training_year\"],\n",
    "                               training_size=universe[\"training_size\"])"
   ]
  },
  {
   "cell_type": "code",
   "execution_count": 18,
   "id": "8d3afb32-789d-442c-8d5d-9f5aa8dd2eed",
   "metadata": {
    "execution": {
     "iopub.execute_input": "2025-07-30T13:50:08.323842Z",
     "iopub.status.busy": "2025-07-30T13:50:08.322903Z",
     "iopub.status.idle": "2025-07-30T13:50:08.330413Z",
     "shell.execute_reply": "2025-07-30T13:50:08.329492Z"
    },
    "papermill": {
     "duration": 0.034376,
     "end_time": "2025-07-30T13:50:08.334491",
     "exception": false,
     "start_time": "2025-07-30T13:50:08.300115",
     "status": "completed"
    },
    "tags": []
   },
   "outputs": [
    {
     "data": {
      "text/plain": [
       "(5000, 164)"
      ]
     },
     "execution_count": 18,
     "metadata": {},
     "output_type": "execute_result"
    }
   ],
   "source": [
    "siab_train.shape"
   ]
  },
  {
   "cell_type": "code",
   "execution_count": 19,
   "id": "d582db68-1a4c-47fb-84fc-08518dc1975a",
   "metadata": {
    "execution": {
     "iopub.execute_input": "2025-07-30T13:50:08.378261Z",
     "iopub.status.busy": "2025-07-30T13:50:08.377880Z",
     "iopub.status.idle": "2025-07-30T13:50:08.389539Z",
     "shell.execute_reply": "2025-07-30T13:50:08.388287Z"
    },
    "papermill": {
     "duration": 0.04247,
     "end_time": "2025-07-30T13:50:08.398342",
     "exception": false,
     "start_time": "2025-07-30T13:50:08.355872",
     "status": "completed"
    },
    "tags": []
   },
   "outputs": [
    {
     "data": {
      "text/plain": [
       "year\n",
       "2014    5000\n",
       "dtype: int64"
      ]
     },
     "metadata": {},
     "output_type": "display_data"
    }
   ],
   "source": [
    "display(siab_train.groupby(\"year\").size())"
   ]
  },
  {
   "cell_type": "code",
   "execution_count": 20,
   "id": "a561edb4-d032-42cb-8256-22eac1111c64",
   "metadata": {
    "execution": {
     "iopub.execute_input": "2025-07-30T13:50:08.456196Z",
     "iopub.status.busy": "2025-07-30T13:50:08.455732Z",
     "iopub.status.idle": "2025-07-30T13:50:08.773349Z",
     "shell.execute_reply": "2025-07-30T13:50:08.772118Z"
    },
    "papermill": {
     "duration": 0.344659,
     "end_time": "2025-07-30T13:50:08.777258",
     "exception": false,
     "start_time": "2025-07-30T13:50:08.432599",
     "status": "completed"
    },
    "tags": []
   },
   "outputs": [],
   "source": [
    "#siab_train = siab_s[siab_s.year < 2015]\n",
    "siab_calib = siab[siab.year == 2015]\n",
    "siab_test = siab[siab.year == 2016]"
   ]
  },
  {
   "cell_type": "code",
   "execution_count": 21,
   "id": "472de16f-c3db-4916-846b-1f0de9cf1746",
   "metadata": {
    "execution": {
     "iopub.execute_input": "2025-07-30T13:50:08.854875Z",
     "iopub.status.busy": "2025-07-30T13:50:08.854465Z",
     "iopub.status.idle": "2025-07-30T13:50:08.865743Z",
     "shell.execute_reply": "2025-07-30T13:50:08.864628Z"
    },
    "papermill": {
     "duration": 0.040538,
     "end_time": "2025-07-30T13:50:08.867278",
     "exception": false,
     "start_time": "2025-07-30T13:50:08.826740",
     "status": "completed"
    },
    "tags": []
   },
   "outputs": [],
   "source": [
    "X_train = siab_train.iloc[:,4:164]\n",
    "y_train = siab_train.iloc[:, [3]]"
   ]
  },
  {
   "cell_type": "code",
   "execution_count": 22,
   "id": "828c96af-f43a-4ed6-ba47-8ac73a47d56c",
   "metadata": {
    "execution": {
     "iopub.execute_input": "2025-07-30T13:50:08.949334Z",
     "iopub.status.busy": "2025-07-30T13:50:08.948859Z",
     "iopub.status.idle": "2025-07-30T13:50:09.000622Z",
     "shell.execute_reply": "2025-07-30T13:50:08.999484Z"
    },
    "papermill": {
     "duration": 0.086266,
     "end_time": "2025-07-30T13:50:09.002434",
     "exception": false,
     "start_time": "2025-07-30T13:50:08.916168",
     "status": "completed"
    },
    "tags": []
   },
   "outputs": [],
   "source": [
    "X_calib = siab_calib.iloc[:,4:164]\n",
    "y_calib = siab_calib.iloc[:, [3]]"
   ]
  },
  {
   "cell_type": "code",
   "execution_count": 23,
   "id": "c34be9c3-6bd6-476e-acd3-845840e303be",
   "metadata": {
    "execution": {
     "iopub.execute_input": "2025-07-30T13:50:09.046605Z",
     "iopub.status.busy": "2025-07-30T13:50:09.045886Z",
     "iopub.status.idle": "2025-07-30T13:50:09.100757Z",
     "shell.execute_reply": "2025-07-30T13:50:09.099686Z"
    },
    "papermill": {
     "duration": 0.078677,
     "end_time": "2025-07-30T13:50:09.102677",
     "exception": false,
     "start_time": "2025-07-30T13:50:09.024000",
     "status": "completed"
    },
    "tags": []
   },
   "outputs": [],
   "source": [
    "X_test = siab_test.iloc[:,4:164]\n",
    "y_true = siab_test.iloc[:, [3]]"
   ]
  },
  {
   "cell_type": "markdown",
   "id": "9901737e-04df-44f0-9100-f5ad144ed040",
   "metadata": {
    "papermill": {
     "duration": 0.023571,
     "end_time": "2025-07-30T13:50:09.147727",
     "exception": false,
     "start_time": "2025-07-30T13:50:09.124156",
     "status": "completed"
    },
    "tags": []
   },
   "source": [
    "# Splitting Data and Setting Training Data Size OLD VERSION"
   ]
  },
  {
   "cell_type": "code",
   "execution_count": 24,
   "id": "acbc8f7d-8fc8-4e86-8c59-5dcb0f58384b",
   "metadata": {
    "execution": {
     "iopub.execute_input": "2025-07-30T13:50:09.196015Z",
     "iopub.status.busy": "2025-07-30T13:50:09.195391Z",
     "iopub.status.idle": "2025-07-30T13:50:09.202626Z",
     "shell.execute_reply": "2025-07-30T13:50:09.201570Z"
    },
    "papermill": {
     "duration": 0.032402,
     "end_time": "2025-07-30T13:50:09.204333",
     "exception": false,
     "start_time": "2025-07-30T13:50:09.171931",
     "status": "completed"
    },
    "tags": []
   },
   "outputs": [],
   "source": [
    "#def sample_by_year(df, training_size, random_state=42):\n",
    "#    if training_size == \"2014\":\n",
    "#        return df[df[\"year\"] == 2014].reset_index(drop=True)\n",
    "#    \n",
    "#    size_map = {\n",
    "#        \"25k\": 5000,\n",
    "#        \"5k\": 1000,\n",
    "#        \"1k\": 200\n",
    "#    }\n",
    "#\n",
    "#    if training_size not in size_map:\n",
    "#        return df.reset_index(drop=True)  # use all data\n",
    "#\n",
    "#    n_per_year = size_map[training_size]\n",
    "#    grouped = df.groupby(\"year\")\n",
    "#    sampled = grouped.apply(lambda x: x.sample(n=min(n_per_year, len(x)), random_state=random_state))\n",
    "#    return sampled.reset_index(drop=True)"
   ]
  },
  {
   "cell_type": "code",
   "execution_count": 25,
   "id": "6d931f52-beaf-43ff-9e78-9d44a448d54e",
   "metadata": {
    "execution": {
     "iopub.execute_input": "2025-07-30T13:50:09.250429Z",
     "iopub.status.busy": "2025-07-30T13:50:09.250039Z",
     "iopub.status.idle": "2025-07-30T13:50:09.255397Z",
     "shell.execute_reply": "2025-07-30T13:50:09.254403Z"
    },
    "papermill": {
     "duration": 0.032018,
     "end_time": "2025-07-30T13:50:09.258575",
     "exception": false,
     "start_time": "2025-07-30T13:50:09.226557",
     "status": "completed"
    },
    "tags": []
   },
   "outputs": [],
   "source": [
    "#siab_s = sample_by_year(siab, universe[\"training_size\"])"
   ]
  },
  {
   "cell_type": "code",
   "execution_count": 26,
   "id": "5db0a40e-a4e2-4920-be85-b12ae061d70d",
   "metadata": {
    "execution": {
     "iopub.execute_input": "2025-07-30T13:50:09.304309Z",
     "iopub.status.busy": "2025-07-30T13:50:09.303828Z",
     "iopub.status.idle": "2025-07-30T13:50:09.309246Z",
     "shell.execute_reply": "2025-07-30T13:50:09.308273Z"
    },
    "papermill": {
     "duration": 0.029916,
     "end_time": "2025-07-30T13:50:09.310991",
     "exception": false,
     "start_time": "2025-07-30T13:50:09.281075",
     "status": "completed"
    },
    "tags": []
   },
   "outputs": [],
   "source": [
    "#display(siab_s.groupby(\"year\").size())"
   ]
  },
  {
   "cell_type": "code",
   "execution_count": 27,
   "id": "e6c733c5",
   "metadata": {
    "execution": {
     "iopub.execute_input": "2025-07-30T13:50:09.356685Z",
     "iopub.status.busy": "2025-07-30T13:50:09.356239Z",
     "iopub.status.idle": "2025-07-30T13:50:09.456133Z",
     "shell.execute_reply": "2025-07-30T13:50:09.455140Z"
    },
    "papermill": {
     "duration": 0.124832,
     "end_time": "2025-07-30T13:50:09.458209",
     "exception": false,
     "start_time": "2025-07-30T13:50:09.333377",
     "status": "completed"
    },
    "tags": []
   },
   "outputs": [],
   "source": [
    "# Auxiliary data needed downstream in the pipeline\n",
    "\n",
    "org_train = X_train.copy()\n",
    "org_test = X_test.copy()\n",
    "org_calib = X_calib.copy()"
   ]
  },
  {
   "cell_type": "code",
   "execution_count": 28,
   "id": "1466abac-c6da-4492-a62f-4240ae3783af",
   "metadata": {
    "execution": {
     "iopub.execute_input": "2025-07-30T13:50:09.504791Z",
     "iopub.status.busy": "2025-07-30T13:50:09.504365Z",
     "iopub.status.idle": "2025-07-30T13:50:09.510424Z",
     "shell.execute_reply": "2025-07-30T13:50:09.509393Z"
    },
    "papermill": {
     "duration": 0.032254,
     "end_time": "2025-07-30T13:50:09.513188",
     "exception": false,
     "start_time": "2025-07-30T13:50:09.480934",
     "status": "completed"
    },
    "tags": []
   },
   "outputs": [],
   "source": [
    "# put in other script?\n",
    "# Group sizes\n",
    "\n",
    "#def calculate_percentages(df, df_name):\n",
    "#    total_entries = len(df)\n",
    "#\n",
    "#    female_pct = (df['frau1'] == 1).mean() * 100\n",
    "#    non_german_pct = ((df['maxdeutsch1'] == 0) & (df['maxdeutsch.Missing.'] == 0)).mean() * 100\n",
    "#    non_german_male_pct = ((df['frau1'] == 0) & (df['maxdeutsch1'] == 0) & (df['maxdeutsch.Missing.'] == 0)).mean() * 100\n",
    "#    non_german_female_pct = ((df['frau1'] == 1) & (df['maxdeutsch1'] == 0) & (df['maxdeutsch.Missing.'] == 0)).mean() * 100\n",
    "#\n",
    "#    print(f\"--- {df_name} ---\")\n",
    "#    print(f\"Female: {female_pct:.2f}%\")\n",
    "#    print(f\"Non-German: {non_german_pct:.2f}%\")\n",
    "#    print(f\"Non-German Male: {non_german_male_pct:.2f}%\")\n",
    "#    print(f\"Non-German Female: {non_german_female_pct:.2f}%\\n\")\n",
    "#\n",
    "## Calculate for each DataFrame\n",
    "#calculate_percentages(siab_calib, \"siab_calib\")\n",
    "#calculate_percentages(siab_test, \"siab_test\")\n",
    "#calculate_percentages(siab_train, \"siab_train\")"
   ]
  },
  {
   "cell_type": "markdown",
   "id": "0a4a1b33",
   "metadata": {
    "papermill": {
     "duration": 0.020837,
     "end_time": "2025-07-30T13:50:09.556778",
     "exception": false,
     "start_time": "2025-07-30T13:50:09.535941",
     "status": "completed"
    },
    "tags": []
   },
   "source": [
    "# Preprocessing Data"
   ]
  },
  {
   "cell_type": "code",
   "execution_count": 29,
   "id": "ca879031",
   "metadata": {
    "execution": {
     "iopub.execute_input": "2025-07-30T13:50:09.600166Z",
     "iopub.status.busy": "2025-07-30T13:50:09.599755Z",
     "iopub.status.idle": "2025-07-30T13:50:09.605976Z",
     "shell.execute_reply": "2025-07-30T13:50:09.605157Z"
    },
    "papermill": {
     "duration": 0.031736,
     "end_time": "2025-07-30T13:50:09.609105",
     "exception": false,
     "start_time": "2025-07-30T13:50:09.577369",
     "status": "completed"
    },
    "tags": []
   },
   "outputs": [],
   "source": [
    "# EXCLUDE PROTECTED FEATURES\n",
    "# ----------------------\n",
    "# \"exclude_features\": \"none\", # \"nationality\", \"sex\", \"nationality-sex\"\n",
    "\n",
    "excluded_features = universe[\"exclude_features\"].split(\"-\") # split, e.g.: \"nationality-sex\" -> [\"nationality\", \"sex\"]\n",
    "excluded_features_dictionary = {\n",
    "    \"nationality\": [\"maxdeutsch1\", \"maxdeutsch.Missing.\"],\n",
    "    \"sex\": [\"frau1\"],\n",
    "    \"age\": [\"age\"],\n",
    "}\n"
   ]
  },
  {
   "cell_type": "code",
   "execution_count": 30,
   "id": "b745ac60",
   "metadata": {
    "execution": {
     "iopub.execute_input": "2025-07-30T13:50:09.655070Z",
     "iopub.status.busy": "2025-07-30T13:50:09.654686Z",
     "iopub.status.idle": "2025-07-30T13:50:09.660561Z",
     "shell.execute_reply": "2025-07-30T13:50:09.659634Z"
    },
    "papermill": {
     "duration": 0.031009,
     "end_time": "2025-07-30T13:50:09.663633",
     "exception": false,
     "start_time": "2025-07-30T13:50:09.632624",
     "status": "completed"
    },
    "tags": []
   },
   "outputs": [],
   "source": [
    "# Code nice names to column names\n",
    "\n",
    "excluded_features_columns = [\n",
    "    excluded_features_dictionary[f] for f in excluded_features if len(f) > 0 and f != \"none\"\n",
    "]"
   ]
  },
  {
   "cell_type": "code",
   "execution_count": 31,
   "id": "f84f73a2",
   "metadata": {
    "execution": {
     "iopub.execute_input": "2025-07-30T13:50:09.709210Z",
     "iopub.status.busy": "2025-07-30T13:50:09.708769Z",
     "iopub.status.idle": "2025-07-30T13:50:09.715660Z",
     "shell.execute_reply": "2025-07-30T13:50:09.714814Z"
    },
    "papermill": {
     "duration": 0.030469,
     "end_time": "2025-07-30T13:50:09.717245",
     "exception": false,
     "start_time": "2025-07-30T13:50:09.686776",
     "status": "completed"
    },
    "tags": []
   },
   "outputs": [],
   "source": [
    "from utils import flatten_once\n",
    "\n",
    "excluded_features_columns = flatten_once(excluded_features_columns)"
   ]
  },
  {
   "cell_type": "code",
   "execution_count": 32,
   "id": "884dea22",
   "metadata": {
    "execution": {
     "iopub.execute_input": "2025-07-30T13:50:09.763931Z",
     "iopub.status.busy": "2025-07-30T13:50:09.763526Z",
     "iopub.status.idle": "2025-07-30T13:50:09.770690Z",
     "shell.execute_reply": "2025-07-30T13:50:09.769703Z"
    },
    "papermill": {
     "duration": 0.032752,
     "end_time": "2025-07-30T13:50:09.773265",
     "exception": false,
     "start_time": "2025-07-30T13:50:09.740513",
     "status": "completed"
    },
    "tags": []
   },
   "outputs": [],
   "source": [
    "if len(excluded_features_columns) > 0:\n",
    "    print(f\"Dropping features: {excluded_features_columns}\")\n",
    "    X_train.drop(excluded_features_columns, axis=1, inplace=True)"
   ]
  },
  {
   "cell_type": "code",
   "execution_count": 33,
   "id": "95ab8b16",
   "metadata": {
    "execution": {
     "iopub.execute_input": "2025-07-30T13:50:09.820083Z",
     "iopub.status.busy": "2025-07-30T13:50:09.819667Z",
     "iopub.status.idle": "2025-07-30T13:50:09.825822Z",
     "shell.execute_reply": "2025-07-30T13:50:09.824816Z"
    },
    "papermill": {
     "duration": 0.032585,
     "end_time": "2025-07-30T13:50:09.829262",
     "exception": false,
     "start_time": "2025-07-30T13:50:09.796677",
     "status": "completed"
    },
    "tags": []
   },
   "outputs": [],
   "source": [
    "if len(excluded_features_columns) > 0:\n",
    "    print(f\"Dropping features: {excluded_features_columns}\")\n",
    "    X_test.drop(excluded_features_columns, axis=1, inplace=True)"
   ]
  },
  {
   "cell_type": "code",
   "execution_count": 34,
   "id": "1853aaf5-fb9f-46cb-a2b5-8ea4ae2237e4",
   "metadata": {
    "execution": {
     "iopub.execute_input": "2025-07-30T13:50:09.876519Z",
     "iopub.status.busy": "2025-07-30T13:50:09.876113Z",
     "iopub.status.idle": "2025-07-30T13:50:09.882240Z",
     "shell.execute_reply": "2025-07-30T13:50:09.881288Z"
    },
    "papermill": {
     "duration": 0.032572,
     "end_time": "2025-07-30T13:50:09.885388",
     "exception": false,
     "start_time": "2025-07-30T13:50:09.852816",
     "status": "completed"
    },
    "tags": []
   },
   "outputs": [],
   "source": [
    "if len(excluded_features_columns) > 0:\n",
    "    print(f\"Dropping features: {excluded_features_columns}\")\n",
    "    X_calib.drop(excluded_features_columns, axis=1, inplace=True)"
   ]
  },
  {
   "cell_type": "code",
   "execution_count": 35,
   "id": "6727d079-03e5-481e-9d38-292a90b7a0a8",
   "metadata": {
    "execution": {
     "iopub.execute_input": "2025-07-30T13:50:09.936932Z",
     "iopub.status.busy": "2025-07-30T13:50:09.936485Z",
     "iopub.status.idle": "2025-07-30T13:50:09.942542Z",
     "shell.execute_reply": "2025-07-30T13:50:09.941459Z"
    },
    "papermill": {
     "duration": 0.037045,
     "end_time": "2025-07-30T13:50:09.946220",
     "exception": false,
     "start_time": "2025-07-30T13:50:09.909175",
     "status": "completed"
    },
    "tags": []
   },
   "outputs": [],
   "source": [
    "# SPLIT & STRATIFY DATA\n",
    "# ----------------------"
   ]
  },
  {
   "cell_type": "code",
   "execution_count": 36,
   "id": "76c4dc6d",
   "metadata": {
    "execution": {
     "iopub.execute_input": "2025-07-30T13:50:10.018561Z",
     "iopub.status.busy": "2025-07-30T13:50:10.018170Z",
     "iopub.status.idle": "2025-07-30T13:50:10.025552Z",
     "shell.execute_reply": "2025-07-30T13:50:10.024439Z"
    },
    "papermill": {
     "duration": 0.036553,
     "end_time": "2025-07-30T13:50:10.027949",
     "exception": false,
     "start_time": "2025-07-30T13:50:09.991396",
     "status": "completed"
    },
    "tags": []
   },
   "outputs": [],
   "source": [
    "# EXCLUDE CERTAIN SUBGROUPS\n",
    "# ----------------------\n",
    "\n",
    "mode = universe.get(\"exclude_subgroups\", \"keep-all\") \n",
    "# Fetches the exclude_subgroups setting from the universe dict.\n",
    "# Defaults to \"keep-all\" if the key is missing."
   ]
  },
  {
   "cell_type": "code",
   "execution_count": 37,
   "id": "21994072",
   "metadata": {
    "execution": {
     "iopub.execute_input": "2025-07-30T13:50:10.068935Z",
     "iopub.status.busy": "2025-07-30T13:50:10.068159Z",
     "iopub.status.idle": "2025-07-30T13:50:10.073836Z",
     "shell.execute_reply": "2025-07-30T13:50:10.073055Z"
    },
    "papermill": {
     "duration": 0.033677,
     "end_time": "2025-07-30T13:50:10.086277",
     "exception": false,
     "start_time": "2025-07-30T13:50:10.052600",
     "status": "completed"
    },
    "tags": []
   },
   "outputs": [],
   "source": [
    "if mode == \"keep-all\":\n",
    "    keep_mask = pd.Series(True, index=org_train.index)\n",
    "\n",
    "# org_train contains the original feature columns from features_org (in Simson)\n",
    "# features_org contains unprocessed features, for me X_train at beginning ???\n",
    "# For keep-all, creates a boolean Series (keep_mask) of all True, so no rows are removed.\n",
    "\n",
    "elif mode == \"drop-non-german\":\n",
    "    keep_mask = org_train[\"maxdeutsch1\"] == 1 # ??? what about missing values?\n",
    "\n",
    "else:\n",
    "    raise ValueError(f\"Unsupported mode for exclude_subgroups: {mode}\")\n"
   ]
  },
  {
   "cell_type": "code",
   "execution_count": 38,
   "id": "71651440",
   "metadata": {
    "execution": {
     "iopub.execute_input": "2025-07-30T13:50:10.140892Z",
     "iopub.status.busy": "2025-07-30T13:50:10.140229Z",
     "iopub.status.idle": "2025-07-30T13:50:10.148472Z",
     "shell.execute_reply": "2025-07-30T13:50:10.147249Z"
    },
    "papermill": {
     "duration": 0.036697,
     "end_time": "2025-07-30T13:50:10.150273",
     "exception": false,
     "start_time": "2025-07-30T13:50:10.113576",
     "status": "completed"
    },
    "tags": []
   },
   "outputs": [],
   "source": [
    "n_drop = (~keep_mask).sum() # Calculates how many rows are set to be dropped\n",
    "if n_drop > 0:\n",
    "    pct = n_drop / len(keep_mask) * 100\n",
    "    print(f\"Dropping {n_drop} rows ({pct:.2f}%) where mode='{mode}'\")"
   ]
  },
  {
   "cell_type": "code",
   "execution_count": 39,
   "id": "5fb8eee5",
   "metadata": {
    "execution": {
     "iopub.execute_input": "2025-07-30T13:50:10.201938Z",
     "iopub.status.busy": "2025-07-30T13:50:10.201380Z",
     "iopub.status.idle": "2025-07-30T13:50:10.209741Z",
     "shell.execute_reply": "2025-07-30T13:50:10.208795Z"
    },
    "papermill": {
     "duration": 0.036744,
     "end_time": "2025-07-30T13:50:10.211435",
     "exception": false,
     "start_time": "2025-07-30T13:50:10.174691",
     "status": "completed"
    },
    "tags": []
   },
   "outputs": [],
   "source": [
    "X_train = X_train[keep_mask]"
   ]
  },
  {
   "cell_type": "code",
   "execution_count": 40,
   "id": "b202bb3a",
   "metadata": {
    "execution": {
     "iopub.execute_input": "2025-07-30T13:50:10.263498Z",
     "iopub.status.busy": "2025-07-30T13:50:10.262771Z",
     "iopub.status.idle": "2025-07-30T13:50:10.269405Z",
     "shell.execute_reply": "2025-07-30T13:50:10.268328Z"
    },
    "papermill": {
     "duration": 0.035579,
     "end_time": "2025-07-30T13:50:10.271385",
     "exception": false,
     "start_time": "2025-07-30T13:50:10.235806",
     "status": "completed"
    },
    "tags": []
   },
   "outputs": [],
   "source": [
    "y_train = y_train[keep_mask]"
   ]
  },
  {
   "cell_type": "markdown",
   "id": "493e2ac3",
   "metadata": {
    "papermill": {
     "duration": 0.02259,
     "end_time": "2025-07-30T13:50:10.320122",
     "exception": false,
     "start_time": "2025-07-30T13:50:10.297532",
     "status": "completed"
    },
    "tags": []
   },
   "source": [
    "# Model Training"
   ]
  },
  {
   "cell_type": "code",
   "execution_count": 41,
   "id": "679e1268",
   "metadata": {
    "execution": {
     "iopub.execute_input": "2025-07-30T13:50:10.373058Z",
     "iopub.status.busy": "2025-07-30T13:50:10.371985Z",
     "iopub.status.idle": "2025-07-30T13:50:10.567671Z",
     "shell.execute_reply": "2025-07-30T13:50:10.566702Z"
    },
    "papermill": {
     "duration": 0.22412,
     "end_time": "2025-07-30T13:50:10.569749",
     "exception": false,
     "start_time": "2025-07-30T13:50:10.345629",
     "status": "completed"
    },
    "tags": []
   },
   "outputs": [],
   "source": [
    "from sklearn.linear_model import LogisticRegression\n",
    "from sklearn.ensemble import GradientBoostingClassifier, RandomForestClassifier\n",
    "\n",
    "if (universe[\"model\"] == \"logreg\"):\n",
    "    model = LogisticRegression() #penalty=\"none\") #, solver=\"newton-cg\", max_iter=1) # include random_state=19 ?\n",
    "elif (universe[\"model\"] == \"penalized_logreg\"):\n",
    "    model = LogisticRegression(penalty=\"l2\", C=1.0) #, solver=\"newton-cg\", max_iter=1)\n",
    "elif (universe[\"model\"] == \"rf\"):\n",
    "    model = RandomForestClassifier(n_estimators=100, n_jobs=-1)\n",
    "elif (universe[\"model\"] == \"gbm\"):\n",
    "    model = GradientBoostingClassifier()\n",
    "elif (universe[\"model\"] == \"elasticnet\"):\n",
    "    model = LogisticRegression(penalty = 'elasticnet', solver = 'saga', l1_ratio = 0.5, max_iter=5000) # which solver to use?\n",
    "else:\n",
    "    raise \"Unsupported universe.model\""
   ]
  },
  {
   "cell_type": "code",
   "execution_count": 42,
   "id": "0cc8f744",
   "metadata": {
    "execution": {
     "iopub.execute_input": "2025-07-30T13:50:10.638122Z",
     "iopub.status.busy": "2025-07-30T13:50:10.637776Z",
     "iopub.status.idle": "2025-07-30T13:50:10.643429Z",
     "shell.execute_reply": "2025-07-30T13:50:10.642398Z"
    },
    "papermill": {
     "duration": 0.04095,
     "end_time": "2025-07-30T13:50:10.645668",
     "exception": false,
     "start_time": "2025-07-30T13:50:10.604718",
     "status": "completed"
    },
    "tags": []
   },
   "outputs": [],
   "source": [
    "import numpy as np\n",
    "from sklearn.pipeline import Pipeline\n",
    "from sklearn.preprocessing import StandardScaler\n",
    "\n",
    "model = Pipeline([\n",
    "    #(\"continuous_processor\", continuous_processor),\n",
    "    #(\"categorical_preprocessor\", categorical_preprocessor),\n",
    "    (\"scale\", StandardScaler() if universe[\"scale\"] == \"scale\" else None), \n",
    "    (\"model\", model),\n",
    "])"
   ]
  },
  {
   "cell_type": "code",
   "execution_count": 43,
   "id": "9442c04d",
   "metadata": {
    "execution": {
     "iopub.execute_input": "2025-07-30T13:50:10.726648Z",
     "iopub.status.busy": "2025-07-30T13:50:10.726259Z",
     "iopub.status.idle": "2025-07-30T13:50:16.539421Z",
     "shell.execute_reply": "2025-07-30T13:50:16.538565Z"
    },
    "papermill": {
     "duration": 5.869556,
     "end_time": "2025-07-30T13:50:16.541022",
     "exception": false,
     "start_time": "2025-07-30T13:50:10.671466",
     "status": "completed"
    },
    "tags": []
   },
   "outputs": [
    {
     "data": {
      "text/html": [
       "<style>#sk-container-id-1 {color: black;background-color: white;}#sk-container-id-1 pre{padding: 0;}#sk-container-id-1 div.sk-toggleable {background-color: white;}#sk-container-id-1 label.sk-toggleable__label {cursor: pointer;display: block;width: 100%;margin-bottom: 0;padding: 0.3em;box-sizing: border-box;text-align: center;}#sk-container-id-1 label.sk-toggleable__label-arrow:before {content: \"▸\";float: left;margin-right: 0.25em;color: #696969;}#sk-container-id-1 label.sk-toggleable__label-arrow:hover:before {color: black;}#sk-container-id-1 div.sk-estimator:hover label.sk-toggleable__label-arrow:before {color: black;}#sk-container-id-1 div.sk-toggleable__content {max-height: 0;max-width: 0;overflow: hidden;text-align: left;background-color: #f0f8ff;}#sk-container-id-1 div.sk-toggleable__content pre {margin: 0.2em;color: black;border-radius: 0.25em;background-color: #f0f8ff;}#sk-container-id-1 input.sk-toggleable__control:checked~div.sk-toggleable__content {max-height: 200px;max-width: 100%;overflow: auto;}#sk-container-id-1 input.sk-toggleable__control:checked~label.sk-toggleable__label-arrow:before {content: \"▾\";}#sk-container-id-1 div.sk-estimator input.sk-toggleable__control:checked~label.sk-toggleable__label {background-color: #d4ebff;}#sk-container-id-1 div.sk-label input.sk-toggleable__control:checked~label.sk-toggleable__label {background-color: #d4ebff;}#sk-container-id-1 input.sk-hidden--visually {border: 0;clip: rect(1px 1px 1px 1px);clip: rect(1px, 1px, 1px, 1px);height: 1px;margin: -1px;overflow: hidden;padding: 0;position: absolute;width: 1px;}#sk-container-id-1 div.sk-estimator {font-family: monospace;background-color: #f0f8ff;border: 1px dotted black;border-radius: 0.25em;box-sizing: border-box;margin-bottom: 0.5em;}#sk-container-id-1 div.sk-estimator:hover {background-color: #d4ebff;}#sk-container-id-1 div.sk-parallel-item::after {content: \"\";width: 100%;border-bottom: 1px solid gray;flex-grow: 1;}#sk-container-id-1 div.sk-label:hover label.sk-toggleable__label {background-color: #d4ebff;}#sk-container-id-1 div.sk-serial::before {content: \"\";position: absolute;border-left: 1px solid gray;box-sizing: border-box;top: 0;bottom: 0;left: 50%;z-index: 0;}#sk-container-id-1 div.sk-serial {display: flex;flex-direction: column;align-items: center;background-color: white;padding-right: 0.2em;padding-left: 0.2em;position: relative;}#sk-container-id-1 div.sk-item {position: relative;z-index: 1;}#sk-container-id-1 div.sk-parallel {display: flex;align-items: stretch;justify-content: center;background-color: white;position: relative;}#sk-container-id-1 div.sk-item::before, #sk-container-id-1 div.sk-parallel-item::before {content: \"\";position: absolute;border-left: 1px solid gray;box-sizing: border-box;top: 0;bottom: 0;left: 50%;z-index: -1;}#sk-container-id-1 div.sk-parallel-item {display: flex;flex-direction: column;z-index: 1;position: relative;background-color: white;}#sk-container-id-1 div.sk-parallel-item:first-child::after {align-self: flex-end;width: 50%;}#sk-container-id-1 div.sk-parallel-item:last-child::after {align-self: flex-start;width: 50%;}#sk-container-id-1 div.sk-parallel-item:only-child::after {width: 0;}#sk-container-id-1 div.sk-dashed-wrapped {border: 1px dashed gray;margin: 0 0.4em 0.5em 0.4em;box-sizing: border-box;padding-bottom: 0.4em;background-color: white;}#sk-container-id-1 div.sk-label label {font-family: monospace;font-weight: bold;display: inline-block;line-height: 1.2em;}#sk-container-id-1 div.sk-label-container {text-align: center;}#sk-container-id-1 div.sk-container {/* jupyter's `normalize.less` sets `[hidden] { display: none; }` but bootstrap.min.css set `[hidden] { display: none !important; }` so we also need the `!important` here to be able to override the default hidden behavior on the sphinx rendered scikit-learn.org. See: https://github.com/scikit-learn/scikit-learn/issues/21755 */display: inline-block !important;position: relative;}#sk-container-id-1 div.sk-text-repr-fallback {display: none;}</style><div id=\"sk-container-id-1\" class=\"sk-top-container\"><div class=\"sk-text-repr-fallback\"><pre>Pipeline(steps=[(&#x27;scale&#x27;, None), (&#x27;model&#x27;, GradientBoostingClassifier())])</pre><b>In a Jupyter environment, please rerun this cell to show the HTML representation or trust the notebook. <br />On GitHub, the HTML representation is unable to render, please try loading this page with nbviewer.org.</b></div><div class=\"sk-container\" hidden><div class=\"sk-item sk-dashed-wrapped\"><div class=\"sk-label-container\"><div class=\"sk-label sk-toggleable\"><input class=\"sk-toggleable__control sk-hidden--visually\" id=\"sk-estimator-id-1\" type=\"checkbox\" ><label for=\"sk-estimator-id-1\" class=\"sk-toggleable__label sk-toggleable__label-arrow\">Pipeline</label><div class=\"sk-toggleable__content\"><pre>Pipeline(steps=[(&#x27;scale&#x27;, None), (&#x27;model&#x27;, GradientBoostingClassifier())])</pre></div></div></div><div class=\"sk-serial\"><div class=\"sk-item\"><div class=\"sk-estimator sk-toggleable\"><input class=\"sk-toggleable__control sk-hidden--visually\" id=\"sk-estimator-id-2\" type=\"checkbox\" ><label for=\"sk-estimator-id-2\" class=\"sk-toggleable__label sk-toggleable__label-arrow\">None</label><div class=\"sk-toggleable__content\"><pre>None</pre></div></div></div><div class=\"sk-item\"><div class=\"sk-estimator sk-toggleable\"><input class=\"sk-toggleable__control sk-hidden--visually\" id=\"sk-estimator-id-3\" type=\"checkbox\" ><label for=\"sk-estimator-id-3\" class=\"sk-toggleable__label sk-toggleable__label-arrow\">GradientBoostingClassifier</label><div class=\"sk-toggleable__content\"><pre>GradientBoostingClassifier()</pre></div></div></div></div></div></div></div>"
      ],
      "text/plain": [
       "Pipeline(steps=[('scale', None), ('model', GradientBoostingClassifier())])"
      ]
     },
     "execution_count": 43,
     "metadata": {},
     "output_type": "execute_result"
    }
   ],
   "source": [
    "model.fit(X_train, y_train.values.ravel())"
   ]
  },
  {
   "cell_type": "code",
   "execution_count": 44,
   "id": "af59f8c0",
   "metadata": {
    "execution": {
     "iopub.execute_input": "2025-07-30T13:50:16.594860Z",
     "iopub.status.busy": "2025-07-30T13:50:16.593960Z",
     "iopub.status.idle": "2025-07-30T13:50:16.599882Z",
     "shell.execute_reply": "2025-07-30T13:50:16.598887Z"
    },
    "papermill": {
     "duration": 0.032725,
     "end_time": "2025-07-30T13:50:16.601478",
     "exception": false,
     "start_time": "2025-07-30T13:50:16.568753",
     "status": "completed"
    },
    "tags": []
   },
   "outputs": [],
   "source": [
    "from fairness_multiverse.universe import predict_w_threshold"
   ]
  },
  {
   "cell_type": "code",
   "execution_count": 45,
   "id": "a7cf2e16",
   "metadata": {
    "execution": {
     "iopub.execute_input": "2025-07-30T13:50:16.650743Z",
     "iopub.status.busy": "2025-07-30T13:50:16.650142Z",
     "iopub.status.idle": "2025-07-30T13:50:17.371985Z",
     "shell.execute_reply": "2025-07-30T13:50:17.371059Z"
    },
    "papermill": {
     "duration": 0.748077,
     "end_time": "2025-07-30T13:50:17.373752",
     "exception": false,
     "start_time": "2025-07-30T13:50:16.625675",
     "status": "completed"
    },
    "tags": []
   },
   "outputs": [
    {
     "data": {
      "text/plain": [
       "0.8665923531378887"
      ]
     },
     "execution_count": 45,
     "metadata": {},
     "output_type": "execute_result"
    }
   ],
   "source": [
    "probs_test = model.predict_proba(X_test)\n",
    "\n",
    "'''\n",
    "Below code returns a boolean array (or binary 0/1 array depending on how it’s used) where each element \n",
    "is True if the probability of class 1 is greater than or equal to the threshold, and False otherwise.\n",
    "'''\n",
    "y_pred_default = predict_w_threshold(probs_test, 0.5)\n",
    "\n",
    "from sklearn.metrics import accuracy_score\n",
    "\n",
    "# Naive prediction\n",
    "accuracy_score(y_true = y_true, y_pred = y_pred_default)"
   ]
  },
  {
   "cell_type": "code",
   "execution_count": 46,
   "id": "081964c3",
   "metadata": {
    "execution": {
     "iopub.execute_input": "2025-07-30T13:50:17.425848Z",
     "iopub.status.busy": "2025-07-30T13:50:17.425321Z",
     "iopub.status.idle": "2025-07-30T13:50:18.059616Z",
     "shell.execute_reply": "2025-07-30T13:50:18.058709Z"
    },
    "papermill": {
     "duration": 0.660231,
     "end_time": "2025-07-30T13:50:18.061249",
     "exception": false,
     "start_time": "2025-07-30T13:50:17.401018",
     "status": "completed"
    },
    "tags": []
   },
   "outputs": [
    {
     "data": {
      "text/plain": [
       "array([0, 0, 0, ..., 0, 0, 0])"
      ]
     },
     "execution_count": 46,
     "metadata": {},
     "output_type": "execute_result"
    }
   ],
   "source": [
    "model.predict(X_test)"
   ]
  },
  {
   "cell_type": "markdown",
   "id": "56c9705b",
   "metadata": {
    "papermill": {
     "duration": 0.026059,
     "end_time": "2025-07-30T13:50:18.111933",
     "exception": false,
     "start_time": "2025-07-30T13:50:18.085874",
     "status": "completed"
    },
    "tags": []
   },
   "source": [
    "# Conformal Prediction"
   ]
  },
  {
   "cell_type": "code",
   "execution_count": 47,
   "id": "160ec6ff",
   "metadata": {
    "execution": {
     "iopub.execute_input": "2025-07-30T13:50:18.162572Z",
     "iopub.status.busy": "2025-07-30T13:50:18.162053Z",
     "iopub.status.idle": "2025-07-30T13:50:18.167339Z",
     "shell.execute_reply": "2025-07-30T13:50:18.166297Z"
    },
    "papermill": {
     "duration": 0.033094,
     "end_time": "2025-07-30T13:50:18.169103",
     "exception": false,
     "start_time": "2025-07-30T13:50:18.136009",
     "status": "completed"
    },
    "tags": []
   },
   "outputs": [],
   "source": [
    "# Miscoverage level for conformal prediction (10% allowed error rate => 90% target coverage)\n",
    "alpha = 0.1"
   ]
  },
  {
   "cell_type": "code",
   "execution_count": 48,
   "id": "eadf4555-3dd3-440e-8e35-f82a4ad9f855",
   "metadata": {
    "execution": {
     "iopub.execute_input": "2025-07-30T13:50:18.221713Z",
     "iopub.status.busy": "2025-07-30T13:50:18.221003Z",
     "iopub.status.idle": "2025-07-30T13:50:18.839079Z",
     "shell.execute_reply": "2025-07-30T13:50:18.838107Z"
    },
    "papermill": {
     "duration": 0.646663,
     "end_time": "2025-07-30T13:50:18.841123",
     "exception": false,
     "start_time": "2025-07-30T13:50:18.194460",
     "status": "completed"
    },
    "tags": []
   },
   "outputs": [],
   "source": [
    "probs_calib = model.predict_proba(X_calib)"
   ]
  },
  {
   "cell_type": "code",
   "execution_count": 49,
   "id": "2ed93547-6d5d-4983-9b36-1ecb300da49a",
   "metadata": {
    "execution": {
     "iopub.execute_input": "2025-07-30T13:50:18.892317Z",
     "iopub.status.busy": "2025-07-30T13:50:18.891627Z",
     "iopub.status.idle": "2025-07-30T13:50:18.897583Z",
     "shell.execute_reply": "2025-07-30T13:50:18.896664Z"
    },
    "papermill": {
     "duration": 0.032834,
     "end_time": "2025-07-30T13:50:18.899227",
     "exception": false,
     "start_time": "2025-07-30T13:50:18.866393",
     "status": "completed"
    },
    "tags": []
   },
   "outputs": [],
   "source": [
    "y_calib = y_calib.values.ravel().astype(int)"
   ]
  },
  {
   "cell_type": "code",
   "execution_count": 50,
   "id": "65d1320d-f588-4b38-9072-62af1ae97f7d",
   "metadata": {
    "execution": {
     "iopub.execute_input": "2025-07-30T13:50:18.950877Z",
     "iopub.status.busy": "2025-07-30T13:50:18.950389Z",
     "iopub.status.idle": "2025-07-30T13:50:18.958539Z",
     "shell.execute_reply": "2025-07-30T13:50:18.957587Z"
    },
    "papermill": {
     "duration": 0.035449,
     "end_time": "2025-07-30T13:50:18.960170",
     "exception": false,
     "start_time": "2025-07-30T13:50:18.924721",
     "status": "completed"
    },
    "tags": []
   },
   "outputs": [],
   "source": [
    "from fairness_multiverse.conformal import compute_nc_scores\n",
    "\n",
    "# Compute nonconformity scores on calibration set (1 - probability of true class)\n",
    "nc_scores = compute_nc_scores(probs_calib, y_calib)"
   ]
  },
  {
   "cell_type": "code",
   "execution_count": 51,
   "id": "df3b8ca3-53b7-43d5-9667-7c85da7aeda2",
   "metadata": {
    "execution": {
     "iopub.execute_input": "2025-07-30T13:50:19.012511Z",
     "iopub.status.busy": "2025-07-30T13:50:19.011793Z",
     "iopub.status.idle": "2025-07-30T13:50:19.019142Z",
     "shell.execute_reply": "2025-07-30T13:50:19.018166Z"
    },
    "papermill": {
     "duration": 0.035896,
     "end_time": "2025-07-30T13:50:19.021247",
     "exception": false,
     "start_time": "2025-07-30T13:50:18.985351",
     "status": "completed"
    },
    "tags": []
   },
   "outputs": [],
   "source": [
    "from fairness_multiverse.conformal import find_threshold\n",
    "\n",
    "# Find conformal threshold q_hat for the given alpha (split conformal method)\n",
    "q_hat = find_threshold(nc_scores, alpha)"
   ]
  },
  {
   "cell_type": "code",
   "execution_count": 52,
   "id": "4d29e6c1-0ef6-4aa4-b8fe-4fe79b0d033a",
   "metadata": {
    "execution": {
     "iopub.execute_input": "2025-07-30T13:50:19.074303Z",
     "iopub.status.busy": "2025-07-30T13:50:19.073602Z",
     "iopub.status.idle": "2025-07-30T13:50:19.081099Z",
     "shell.execute_reply": "2025-07-30T13:50:19.080025Z"
    },
    "papermill": {
     "duration": 0.034833,
     "end_time": "2025-07-30T13:50:19.082819",
     "exception": false,
     "start_time": "2025-07-30T13:50:19.047986",
     "status": "completed"
    },
    "tags": []
   },
   "outputs": [
    {
     "data": {
      "text/plain": [
       "0.7241566002664576"
      ]
     },
     "execution_count": 52,
     "metadata": {},
     "output_type": "execute_result"
    }
   ],
   "source": [
    "q_hat"
   ]
  },
  {
   "cell_type": "code",
   "execution_count": 53,
   "id": "92460794-cdac-4be2-ba28-f28c0515a6fb",
   "metadata": {
    "execution": {
     "iopub.execute_input": "2025-07-30T13:50:19.140349Z",
     "iopub.status.busy": "2025-07-30T13:50:19.135386Z",
     "iopub.status.idle": "2025-07-30T13:50:20.466219Z",
     "shell.execute_reply": "2025-07-30T13:50:20.465261Z"
    },
    "papermill": {
     "duration": 1.359208,
     "end_time": "2025-07-30T13:50:20.468098",
     "exception": false,
     "start_time": "2025-07-30T13:50:19.108890",
     "status": "completed"
    },
    "tags": []
   },
   "outputs": [],
   "source": [
    "from fairness_multiverse.conformal import predict_conformal_sets\n",
    "\n",
    "# Generate prediction sets for each test example\n",
    "pred_sets = predict_conformal_sets(model, X_test, q_hat)"
   ]
  },
  {
   "cell_type": "code",
   "execution_count": 54,
   "id": "d90c9a65-e6db-4f5d-80cd-e68fb7e46829",
   "metadata": {
    "execution": {
     "iopub.execute_input": "2025-07-30T13:50:20.518705Z",
     "iopub.status.busy": "2025-07-30T13:50:20.517939Z",
     "iopub.status.idle": "2025-07-30T13:50:20.523845Z",
     "shell.execute_reply": "2025-07-30T13:50:20.522868Z"
    },
    "papermill": {
     "duration": 0.032493,
     "end_time": "2025-07-30T13:50:20.525662",
     "exception": false,
     "start_time": "2025-07-30T13:50:20.493169",
     "status": "completed"
    },
    "tags": []
   },
   "outputs": [],
   "source": [
    "y_true = y_true.squeeze()"
   ]
  },
  {
   "cell_type": "code",
   "execution_count": 55,
   "id": "3a58a54a-1e68-46b9-927a-df01f18aebc8",
   "metadata": {
    "execution": {
     "iopub.execute_input": "2025-07-30T13:50:20.575310Z",
     "iopub.status.busy": "2025-07-30T13:50:20.574788Z",
     "iopub.status.idle": "2025-07-30T13:50:21.547448Z",
     "shell.execute_reply": "2025-07-30T13:50:21.546492Z"
    },
    "papermill": {
     "duration": 0.99913,
     "end_time": "2025-07-30T13:50:21.549250",
     "exception": false,
     "start_time": "2025-07-30T13:50:20.550120",
     "status": "completed"
    },
    "tags": []
   },
   "outputs": [],
   "source": [
    "from fairness_multiverse.conformal import evaluate_sets\n",
    "\n",
    "# Evaluate coverage and average set size on test data\n",
    "metrics = evaluate_sets(pred_sets, y_true)"
   ]
  },
  {
   "cell_type": "markdown",
   "id": "2b569c12-9aaa-4c88-98c9-bbcd0cf3ebb8",
   "metadata": {
    "papermill": {
     "duration": 0.025461,
     "end_time": "2025-07-30T13:50:21.600674",
     "exception": false,
     "start_time": "2025-07-30T13:50:21.575213",
     "status": "completed"
    },
    "tags": []
   },
   "source": [
    "# CP Metrics"
   ]
  },
  {
   "cell_type": "code",
   "execution_count": 56,
   "id": "5ce0a5cb-201f-45a0-ade5-94c7f0bd6095",
   "metadata": {
    "execution": {
     "iopub.execute_input": "2025-07-30T13:50:21.642367Z",
     "iopub.status.busy": "2025-07-30T13:50:21.641913Z",
     "iopub.status.idle": "2025-07-30T13:50:21.648261Z",
     "shell.execute_reply": "2025-07-30T13:50:21.647281Z"
    },
    "papermill": {
     "duration": 0.025019,
     "end_time": "2025-07-30T13:50:21.649465",
     "exception": false,
     "start_time": "2025-07-30T13:50:21.624446",
     "status": "completed"
    },
    "tags": []
   },
   "outputs": [
    {
     "data": {
      "text/plain": [
       "{'coverage': 0.9113030877271208, 'avg_size': 1.1302641845948054}"
      ]
     },
     "execution_count": 56,
     "metadata": {},
     "output_type": "execute_result"
    }
   ],
   "source": [
    "metrics"
   ]
  },
  {
   "cell_type": "code",
   "execution_count": 57,
   "id": "9b9a838d-31c9-430b-ae14-12baee460d17",
   "metadata": {
    "execution": {
     "iopub.execute_input": "2025-07-30T13:50:21.676923Z",
     "iopub.status.busy": "2025-07-30T13:50:21.676410Z",
     "iopub.status.idle": "2025-07-30T13:50:21.682451Z",
     "shell.execute_reply": "2025-07-30T13:50:21.681781Z"
    },
    "papermill": {
     "duration": 0.020767,
     "end_time": "2025-07-30T13:50:21.683718",
     "exception": false,
     "start_time": "2025-07-30T13:50:21.662951",
     "status": "completed"
    },
    "tags": []
   },
   "outputs": [],
   "source": [
    "example_universe = universe.copy()\n",
    "universe_training_size = example_universe.get(\"training_size\")\n",
    "universe_scale = example_universe.get(\"scale\")\n",
    "universe_model = example_universe.get(\"model\")\n",
    "universe_exclude_features = example_universe.get(\"exclude_features\")\n",
    "universe_exclude_subgroups = example_universe.get(\"exclude_subgroups\")"
   ]
  },
  {
   "cell_type": "code",
   "execution_count": 58,
   "id": "f4b6a8ac-9dc0-4245-8a91-5b3b5999c4f9",
   "metadata": {
    "execution": {
     "iopub.execute_input": "2025-07-30T13:50:21.723211Z",
     "iopub.status.busy": "2025-07-30T13:50:21.722861Z",
     "iopub.status.idle": "2025-07-30T13:50:21.728012Z",
     "shell.execute_reply": "2025-07-30T13:50:21.727328Z"
    },
    "papermill": {
     "duration": 0.028355,
     "end_time": "2025-07-30T13:50:21.729431",
     "exception": false,
     "start_time": "2025-07-30T13:50:21.701076",
     "status": "completed"
    },
    "tags": []
   },
   "outputs": [],
   "source": [
    "cp_metrics_dict = {\n",
    "    \"universe_id\": [universe_id],\n",
    "    \"universe_training_size\": [universe_training_size],\n",
    "    \"universe_scale\": [universe_scale],\n",
    "    \"universe_model\": [universe_model],\n",
    "    \"universe_exclude_features\": [universe_exclude_features],\n",
    "    \"universe_exclude_subgroups\": [universe_exclude_subgroups],\n",
    "    \"q_hat\": [q_hat],\n",
    "    \"coverage\": [metrics[\"coverage\"]],\n",
    "    \"avg_size\": [metrics[\"avg_size\"]],\n",
    "}"
   ]
  },
  {
   "cell_type": "code",
   "execution_count": 59,
   "id": "908acbb1-0371-4915-85ca-3fa520d2efe2",
   "metadata": {
    "execution": {
     "iopub.execute_input": "2025-07-30T13:50:21.758667Z",
     "iopub.status.busy": "2025-07-30T13:50:21.758161Z",
     "iopub.status.idle": "2025-07-30T13:50:21.764854Z",
     "shell.execute_reply": "2025-07-30T13:50:21.764157Z"
    },
    "papermill": {
     "duration": 0.022805,
     "end_time": "2025-07-30T13:50:21.766191",
     "exception": false,
     "start_time": "2025-07-30T13:50:21.743386",
     "status": "completed"
    },
    "tags": []
   },
   "outputs": [
    {
     "data": {
      "text/plain": [
       "{'universe_id': ['09dfc944d7a2334f434debe14bde7773'],\n",
       " 'universe_training_size': ['5k'],\n",
       " 'universe_scale': ['do-not-scale'],\n",
       " 'universe_model': ['gbm'],\n",
       " 'universe_exclude_features': ['none'],\n",
       " 'universe_exclude_subgroups': ['keep-all'],\n",
       " 'q_hat': [0.7241566002664576],\n",
       " 'coverage': [0.9113030877271208],\n",
       " 'avg_size': [1.1302641845948054]}"
      ]
     },
     "execution_count": 59,
     "metadata": {},
     "output_type": "execute_result"
    }
   ],
   "source": [
    "cp_metrics_dict"
   ]
  },
  {
   "cell_type": "code",
   "execution_count": 60,
   "id": "33007efc-14e9-4ec6-97ac-56a455c82265",
   "metadata": {
    "execution": {
     "iopub.execute_input": "2025-07-30T13:50:21.798499Z",
     "iopub.status.busy": "2025-07-30T13:50:21.798000Z",
     "iopub.status.idle": "2025-07-30T13:50:21.803244Z",
     "shell.execute_reply": "2025-07-30T13:50:21.802510Z"
    },
    "papermill": {
     "duration": 0.0207,
     "end_time": "2025-07-30T13:50:21.804620",
     "exception": false,
     "start_time": "2025-07-30T13:50:21.783920",
     "status": "completed"
    },
    "tags": []
   },
   "outputs": [],
   "source": [
    "cp_metrics_df = pd.DataFrame(cp_metrics_dict)"
   ]
  },
  {
   "cell_type": "code",
   "execution_count": 61,
   "id": "db12611b-57b2-4910-b9d0-355adfd6e7bf",
   "metadata": {
    "execution": {
     "iopub.execute_input": "2025-07-30T13:50:21.833023Z",
     "iopub.status.busy": "2025-07-30T13:50:21.832598Z",
     "iopub.status.idle": "2025-07-30T13:50:21.850262Z",
     "shell.execute_reply": "2025-07-30T13:50:21.849358Z"
    },
    "papermill": {
     "duration": 0.033199,
     "end_time": "2025-07-30T13:50:21.851664",
     "exception": false,
     "start_time": "2025-07-30T13:50:21.818465",
     "status": "completed"
    },
    "tags": []
   },
   "outputs": [
    {
     "data": {
      "text/html": [
       "<div>\n",
       "<style scoped>\n",
       "    .dataframe tbody tr th:only-of-type {\n",
       "        vertical-align: middle;\n",
       "    }\n",
       "\n",
       "    .dataframe tbody tr th {\n",
       "        vertical-align: top;\n",
       "    }\n",
       "\n",
       "    .dataframe thead th {\n",
       "        text-align: right;\n",
       "    }\n",
       "</style>\n",
       "<table border=\"1\" class=\"dataframe\">\n",
       "  <thead>\n",
       "    <tr style=\"text-align: right;\">\n",
       "      <th></th>\n",
       "      <th>universe_id</th>\n",
       "      <th>universe_training_size</th>\n",
       "      <th>universe_scale</th>\n",
       "      <th>universe_model</th>\n",
       "      <th>universe_exclude_features</th>\n",
       "      <th>universe_exclude_subgroups</th>\n",
       "      <th>q_hat</th>\n",
       "      <th>coverage</th>\n",
       "      <th>avg_size</th>\n",
       "    </tr>\n",
       "  </thead>\n",
       "  <tbody>\n",
       "    <tr>\n",
       "      <th>0</th>\n",
       "      <td>09dfc944d7a2334f434debe14bde7773</td>\n",
       "      <td>5k</td>\n",
       "      <td>do-not-scale</td>\n",
       "      <td>gbm</td>\n",
       "      <td>none</td>\n",
       "      <td>keep-all</td>\n",
       "      <td>0.724157</td>\n",
       "      <td>0.911303</td>\n",
       "      <td>1.130264</td>\n",
       "    </tr>\n",
       "  </tbody>\n",
       "</table>\n",
       "</div>"
      ],
      "text/plain": [
       "                        universe_id universe_training_size universe_scale  \\\n",
       "0  09dfc944d7a2334f434debe14bde7773                     5k   do-not-scale   \n",
       "\n",
       "  universe_model universe_exclude_features universe_exclude_subgroups  \\\n",
       "0            gbm                      none                   keep-all   \n",
       "\n",
       "      q_hat  coverage  avg_size  \n",
       "0  0.724157  0.911303  1.130264  "
      ]
     },
     "execution_count": 61,
     "metadata": {},
     "output_type": "execute_result"
    }
   ],
   "source": [
    "cp_metrics_df"
   ]
  },
  {
   "cell_type": "code",
   "execution_count": 62,
   "id": "b7fbde55-a0a1-47e4-9af6-fe4a17fa8c61",
   "metadata": {
    "execution": {
     "iopub.execute_input": "2025-07-30T13:50:21.908234Z",
     "iopub.status.busy": "2025-07-30T13:50:21.907680Z",
     "iopub.status.idle": "2025-07-30T13:50:21.913705Z",
     "shell.execute_reply": "2025-07-30T13:50:21.912755Z"
    },
    "papermill": {
     "duration": 0.036909,
     "end_time": "2025-07-30T13:50:21.915495",
     "exception": false,
     "start_time": "2025-07-30T13:50:21.878586",
     "status": "completed"
    },
    "tags": []
   },
   "outputs": [],
   "source": [
    "# Conditional Coverage & looking at subgroups"
   ]
  },
  {
   "cell_type": "code",
   "execution_count": 63,
   "id": "027ae886-68dd-4141-96c7-805a5450e1ef",
   "metadata": {
    "execution": {
     "iopub.execute_input": "2025-07-30T13:50:21.969616Z",
     "iopub.status.busy": "2025-07-30T13:50:21.969117Z",
     "iopub.status.idle": "2025-07-30T13:50:22.249067Z",
     "shell.execute_reply": "2025-07-30T13:50:22.247941Z"
    },
    "papermill": {
     "duration": 0.308243,
     "end_time": "2025-07-30T13:50:22.250656",
     "exception": false,
     "start_time": "2025-07-30T13:50:21.942413",
     "status": "completed"
    },
    "tags": []
   },
   "outputs": [],
   "source": [
    "from fairness_multiverse.conformal import build_cp_groups\n",
    "\n",
    "cp_groups_df = build_cp_groups(pred_sets, y_true, X_test.index, org_test)\n",
    "#needs universe_id and setting"
   ]
  },
  {
   "cell_type": "code",
   "execution_count": 64,
   "id": "01d5802c-663a-4d1f-9d69-e036faaffbf7",
   "metadata": {
    "execution": {
     "iopub.execute_input": "2025-07-30T13:50:22.310835Z",
     "iopub.status.busy": "2025-07-30T13:50:22.310183Z",
     "iopub.status.idle": "2025-07-30T13:50:22.315494Z",
     "shell.execute_reply": "2025-07-30T13:50:22.314409Z"
    },
    "papermill": {
     "duration": 0.037951,
     "end_time": "2025-07-30T13:50:22.317279",
     "exception": false,
     "start_time": "2025-07-30T13:50:22.279328",
     "status": "completed"
    },
    "tags": []
   },
   "outputs": [],
   "source": [
    "#delete\n",
    "#cp_groups_df"
   ]
  },
  {
   "cell_type": "code",
   "execution_count": 65,
   "id": "fa424af1-d1eb-443d-b717-2d279ada8408",
   "metadata": {
    "execution": {
     "iopub.execute_input": "2025-07-30T13:50:22.378862Z",
     "iopub.status.busy": "2025-07-30T13:50:22.378341Z",
     "iopub.status.idle": "2025-07-30T13:50:22.383953Z",
     "shell.execute_reply": "2025-07-30T13:50:22.382988Z"
    },
    "papermill": {
     "duration": 0.037264,
     "end_time": "2025-07-30T13:50:22.385983",
     "exception": false,
     "start_time": "2025-07-30T13:50:22.348719",
     "status": "completed"
    },
    "tags": []
   },
   "outputs": [],
   "source": [
    "#delete\n",
    "#percentage = (cp_groups_df['nongerman_female'] == 1).mean() * 100\n",
    "#print(percentage)\n"
   ]
  },
  {
   "cell_type": "code",
   "execution_count": 66,
   "id": "6cbdab96-b2b2-45af-ad54-d0516db2e28d",
   "metadata": {
    "execution": {
     "iopub.execute_input": "2025-07-30T13:50:22.445873Z",
     "iopub.status.busy": "2025-07-30T13:50:22.445437Z",
     "iopub.status.idle": "2025-07-30T13:50:24.086073Z",
     "shell.execute_reply": "2025-07-30T13:50:24.085020Z"
    },
    "papermill": {
     "duration": 1.672188,
     "end_time": "2025-07-30T13:50:24.088046",
     "exception": false,
     "start_time": "2025-07-30T13:50:22.415858",
     "status": "completed"
    },
    "tags": []
   },
   "outputs": [],
   "source": [
    "# Define covered = 1 if true_label is in the predicted set\n",
    "cp_groups_df['covered'] = cp_groups_df.apply(\n",
    "    lambda r: int(r['true_label'] in r['pred_set']),\n",
    "    axis=1\n",
    ")"
   ]
  },
  {
   "cell_type": "code",
   "execution_count": 67,
   "id": "338ff529-1a6b-4b87-a931-8e4788d52aad",
   "metadata": {
    "execution": {
     "iopub.execute_input": "2025-07-30T13:50:24.142611Z",
     "iopub.status.busy": "2025-07-30T13:50:24.142032Z",
     "iopub.status.idle": "2025-07-30T13:50:24.147124Z",
     "shell.execute_reply": "2025-07-30T13:50:24.146152Z"
    },
    "papermill": {
     "duration": 0.033679,
     "end_time": "2025-07-30T13:50:24.148930",
     "exception": false,
     "start_time": "2025-07-30T13:50:24.115251",
     "status": "completed"
    },
    "tags": []
   },
   "outputs": [],
   "source": [
    "#cp_groups_df"
   ]
  },
  {
   "cell_type": "code",
   "execution_count": 68,
   "id": "90032e27-66df-4540-9169-4e89cfbaa758",
   "metadata": {
    "execution": {
     "iopub.execute_input": "2025-07-30T13:50:24.201835Z",
     "iopub.status.busy": "2025-07-30T13:50:24.201194Z",
     "iopub.status.idle": "2025-07-30T13:50:24.213402Z",
     "shell.execute_reply": "2025-07-30T13:50:24.212474Z"
    },
    "papermill": {
     "duration": 0.039665,
     "end_time": "2025-07-30T13:50:24.215061",
     "exception": false,
     "start_time": "2025-07-30T13:50:24.175396",
     "status": "completed"
    },
    "tags": []
   },
   "outputs": [],
   "source": [
    "subgroups = ['frau1','nongerman','nongerman_male','nongerman_female']\n",
    "\n",
    "# Conditional coverage for subgroup==1\n",
    "cond_coverage = {\n",
    "    g: cp_groups_df.loc[cp_groups_df[g]==1, 'covered'].mean()\n",
    "    for g in subgroups\n",
    "}"
   ]
  },
  {
   "cell_type": "code",
   "execution_count": 69,
   "id": "1e348fb1-b9c3-45bc-ba23-f016827a7e0d",
   "metadata": {
    "execution": {
     "iopub.execute_input": "2025-07-30T13:50:24.268735Z",
     "iopub.status.busy": "2025-07-30T13:50:24.267662Z",
     "iopub.status.idle": "2025-07-30T13:50:24.276722Z",
     "shell.execute_reply": "2025-07-30T13:50:24.275683Z"
    },
    "papermill": {
     "duration": 0.036711,
     "end_time": "2025-07-30T13:50:24.278442",
     "exception": false,
     "start_time": "2025-07-30T13:50:24.241731",
     "status": "completed"
    },
    "tags": []
   },
   "outputs": [
    {
     "data": {
      "text/plain": [
       "{'frau1': 0.9077773284809274,\n",
       " 'nongerman': 0.9112445966429013,\n",
       " 'nongerman_male': 0.9275871386111861,\n",
       " 'nongerman_female': 0.8842026825633383}"
      ]
     },
     "execution_count": 69,
     "metadata": {},
     "output_type": "execute_result"
    }
   ],
   "source": [
    "cond_coverage"
   ]
  },
  {
   "cell_type": "code",
   "execution_count": 70,
   "id": "f5093324-c3dd-4d63-bc4c-8d945e5c8bbb",
   "metadata": {
    "execution": {
     "iopub.execute_input": "2025-07-30T13:50:24.332556Z",
     "iopub.status.busy": "2025-07-30T13:50:24.331633Z",
     "iopub.status.idle": "2025-07-30T13:50:24.339017Z",
     "shell.execute_reply": "2025-07-30T13:50:24.337957Z"
    },
    "papermill": {
     "duration": 0.035711,
     "end_time": "2025-07-30T13:50:24.340695",
     "exception": false,
     "start_time": "2025-07-30T13:50:24.304984",
     "status": "completed"
    },
    "tags": []
   },
   "outputs": [],
   "source": [
    "for subgroup, cov in cond_coverage.items():\n",
    "    cp_metrics_df[f\"cov_{subgroup}\"] = cov"
   ]
  },
  {
   "cell_type": "code",
   "execution_count": 71,
   "id": "6e872e10-dbe5-49e8-b554-5030c98ff75d",
   "metadata": {
    "execution": {
     "iopub.execute_input": "2025-07-30T13:50:24.394428Z",
     "iopub.status.busy": "2025-07-30T13:50:24.393862Z",
     "iopub.status.idle": "2025-07-30T13:50:24.412529Z",
     "shell.execute_reply": "2025-07-30T13:50:24.411542Z"
    },
    "papermill": {
     "duration": 0.046995,
     "end_time": "2025-07-30T13:50:24.414347",
     "exception": false,
     "start_time": "2025-07-30T13:50:24.367352",
     "status": "completed"
    },
    "tags": []
   },
   "outputs": [
    {
     "data": {
      "text/html": [
       "<div>\n",
       "<style scoped>\n",
       "    .dataframe tbody tr th:only-of-type {\n",
       "        vertical-align: middle;\n",
       "    }\n",
       "\n",
       "    .dataframe tbody tr th {\n",
       "        vertical-align: top;\n",
       "    }\n",
       "\n",
       "    .dataframe thead th {\n",
       "        text-align: right;\n",
       "    }\n",
       "</style>\n",
       "<table border=\"1\" class=\"dataframe\">\n",
       "  <thead>\n",
       "    <tr style=\"text-align: right;\">\n",
       "      <th></th>\n",
       "      <th>universe_id</th>\n",
       "      <th>universe_training_size</th>\n",
       "      <th>universe_scale</th>\n",
       "      <th>universe_model</th>\n",
       "      <th>universe_exclude_features</th>\n",
       "      <th>universe_exclude_subgroups</th>\n",
       "      <th>q_hat</th>\n",
       "      <th>coverage</th>\n",
       "      <th>avg_size</th>\n",
       "      <th>cov_frau1</th>\n",
       "      <th>cov_nongerman</th>\n",
       "      <th>cov_nongerman_male</th>\n",
       "      <th>cov_nongerman_female</th>\n",
       "    </tr>\n",
       "  </thead>\n",
       "  <tbody>\n",
       "    <tr>\n",
       "      <th>0</th>\n",
       "      <td>09dfc944d7a2334f434debe14bde7773</td>\n",
       "      <td>5k</td>\n",
       "      <td>do-not-scale</td>\n",
       "      <td>gbm</td>\n",
       "      <td>none</td>\n",
       "      <td>keep-all</td>\n",
       "      <td>0.724157</td>\n",
       "      <td>0.911303</td>\n",
       "      <td>1.130264</td>\n",
       "      <td>0.907777</td>\n",
       "      <td>0.911245</td>\n",
       "      <td>0.927587</td>\n",
       "      <td>0.884203</td>\n",
       "    </tr>\n",
       "  </tbody>\n",
       "</table>\n",
       "</div>"
      ],
      "text/plain": [
       "                        universe_id universe_training_size universe_scale  \\\n",
       "0  09dfc944d7a2334f434debe14bde7773                     5k   do-not-scale   \n",
       "\n",
       "  universe_model universe_exclude_features universe_exclude_subgroups  \\\n",
       "0            gbm                      none                   keep-all   \n",
       "\n",
       "      q_hat  coverage  avg_size  cov_frau1  cov_nongerman  cov_nongerman_male  \\\n",
       "0  0.724157  0.911303  1.130264   0.907777       0.911245            0.927587   \n",
       "\n",
       "   cov_nongerman_female  \n",
       "0              0.884203  "
      ]
     },
     "execution_count": 71,
     "metadata": {},
     "output_type": "execute_result"
    }
   ],
   "source": [
    "cp_metrics_df"
   ]
  },
  {
   "cell_type": "markdown",
   "id": "33774451",
   "metadata": {
    "papermill": {
     "duration": 0.025892,
     "end_time": "2025-07-30T13:50:24.467454",
     "exception": false,
     "start_time": "2025-07-30T13:50:24.441562",
     "status": "completed"
    },
    "tags": []
   },
   "source": [
    "# (Fairness) Metrics"
   ]
  },
  {
   "cell_type": "code",
   "execution_count": 72,
   "id": "debc5d62",
   "metadata": {
    "execution": {
     "iopub.execute_input": "2025-07-30T13:50:24.522801Z",
     "iopub.status.busy": "2025-07-30T13:50:24.522126Z",
     "iopub.status.idle": "2025-07-30T13:50:24.545643Z",
     "shell.execute_reply": "2025-07-30T13:50:24.544646Z"
    },
    "papermill": {
     "duration": 0.052662,
     "end_time": "2025-07-30T13:50:24.547750",
     "exception": false,
     "start_time": "2025-07-30T13:50:24.495088",
     "status": "completed"
    },
    "tags": []
   },
   "outputs": [],
   "source": [
    "# do I need to include maxdeutsch1.missing?\n",
    "\n",
    "import numpy as np\n",
    "\n",
    "colname_to_bin = \"maxdeutsch1\"\n",
    "majority_value = org_train[colname_to_bin].mode()[0]\n",
    "\n",
    "org_test[\"majmin\"] = np.where(org_test[colname_to_bin] == majority_value, \"majority\", \"minority\")"
   ]
  },
  {
   "cell_type": "code",
   "execution_count": 73,
   "id": "06a50de5",
   "metadata": {
    "execution": {
     "iopub.execute_input": "2025-07-30T13:50:24.609173Z",
     "iopub.status.busy": "2025-07-30T13:50:24.608598Z",
     "iopub.status.idle": "2025-07-30T13:50:27.313989Z",
     "shell.execute_reply": "2025-07-30T13:50:27.313010Z"
    },
    "papermill": {
     "duration": 2.736892,
     "end_time": "2025-07-30T13:50:27.315937",
     "exception": false,
     "start_time": "2025-07-30T13:50:24.579045",
     "status": "completed"
    },
    "tags": []
   },
   "outputs": [],
   "source": [
    "example_universe = universe.copy()\n",
    "example_universe[\"cutoff\"] = example_universe[\"cutoff\"][0]\n",
    "example_universe[\"eval_fairness_grouping\"] = example_universe[\"eval_fairness_grouping\"][0]\n",
    "fairness_dict, metric_frame = universe_analysis.compute_metrics(\n",
    "    example_universe,\n",
    "    y_pred_prob=probs_test,\n",
    "    y_test=y_true,\n",
    "    org_test=org_test,\n",
    ")"
   ]
  },
  {
   "cell_type": "markdown",
   "id": "f95d4e02",
   "metadata": {
    "papermill": {
     "duration": 0.030117,
     "end_time": "2025-07-30T13:50:27.379068",
     "exception": false,
     "start_time": "2025-07-30T13:50:27.348951",
     "status": "completed"
    },
    "tags": []
   },
   "source": [
    "# Overall"
   ]
  },
  {
   "cell_type": "markdown",
   "id": "bdee4871",
   "metadata": {
    "papermill": {
     "duration": 0.029785,
     "end_time": "2025-07-30T13:50:27.439167",
     "exception": false,
     "start_time": "2025-07-30T13:50:27.409382",
     "status": "completed"
    },
    "tags": []
   },
   "source": [
    "Fairness\n",
    "Main fairness target: Equalized Odds. Seems to be a better fit than equal opportunity, since we're not only interested in Y = 1. Seems to be a better fit than demographic parity, since we also care about accuracy, not just equal distribution of preds.\n",
    "\n",
    "Pick column for computation of fairness metrics\n",
    "\n",
    "Performance\n",
    "Overall performance measures, most interesting in relation to the measures split by group below"
   ]
  },
  {
   "cell_type": "code",
   "execution_count": 74,
   "id": "c4e067c6",
   "metadata": {
    "execution": {
     "iopub.execute_input": "2025-07-30T13:50:27.501129Z",
     "iopub.status.busy": "2025-07-30T13:50:27.500472Z",
     "iopub.status.idle": "2025-07-30T13:50:27.509059Z",
     "shell.execute_reply": "2025-07-30T13:50:27.508097Z"
    },
    "papermill": {
     "duration": 0.040387,
     "end_time": "2025-07-30T13:50:27.510667",
     "exception": false,
     "start_time": "2025-07-30T13:50:27.470280",
     "status": "completed"
    },
    "tags": []
   },
   "outputs": [
    {
     "data": {
      "text/plain": [
       "accuracy                   0.224758\n",
       "balanced accuracy          0.549483\n",
       "f1                         0.246078\n",
       "precision                  0.140576\n",
       "false positive rate        0.887305\n",
       "false negative rate        0.013730\n",
       "selection rate             0.900000\n",
       "count                  89710.000000\n",
       "dtype: float64"
      ]
     },
     "execution_count": 74,
     "metadata": {},
     "output_type": "execute_result"
    }
   ],
   "source": [
    "metric_frame.overall"
   ]
  },
  {
   "cell_type": "markdown",
   "id": "e968fe9d",
   "metadata": {
    "papermill": {
     "duration": 0.026901,
     "end_time": "2025-07-30T13:50:27.565393",
     "exception": false,
     "start_time": "2025-07-30T13:50:27.538492",
     "status": "completed"
    },
    "tags": []
   },
   "source": [
    "By Group"
   ]
  },
  {
   "cell_type": "code",
   "execution_count": 75,
   "id": "ec325bce",
   "metadata": {
    "execution": {
     "iopub.execute_input": "2025-07-30T13:50:27.621681Z",
     "iopub.status.busy": "2025-07-30T13:50:27.621035Z",
     "iopub.status.idle": "2025-07-30T13:50:27.638807Z",
     "shell.execute_reply": "2025-07-30T13:50:27.637830Z"
    },
    "papermill": {
     "duration": 0.047273,
     "end_time": "2025-07-30T13:50:27.640409",
     "exception": false,
     "start_time": "2025-07-30T13:50:27.593136",
     "status": "completed"
    },
    "tags": []
   },
   "outputs": [
    {
     "data": {
      "text/html": [
       "<div>\n",
       "<style scoped>\n",
       "    .dataframe tbody tr th:only-of-type {\n",
       "        vertical-align: middle;\n",
       "    }\n",
       "\n",
       "    .dataframe tbody tr th {\n",
       "        vertical-align: top;\n",
       "    }\n",
       "\n",
       "    .dataframe thead th {\n",
       "        text-align: right;\n",
       "    }\n",
       "</style>\n",
       "<table border=\"1\" class=\"dataframe\">\n",
       "  <thead>\n",
       "    <tr style=\"text-align: right;\">\n",
       "      <th></th>\n",
       "      <th>accuracy</th>\n",
       "      <th>balanced accuracy</th>\n",
       "      <th>f1</th>\n",
       "      <th>precision</th>\n",
       "      <th>false positive rate</th>\n",
       "      <th>false negative rate</th>\n",
       "      <th>selection rate</th>\n",
       "      <th>count</th>\n",
       "    </tr>\n",
       "    <tr>\n",
       "      <th>majmin</th>\n",
       "      <th></th>\n",
       "      <th></th>\n",
       "      <th></th>\n",
       "      <th></th>\n",
       "      <th></th>\n",
       "      <th></th>\n",
       "      <th></th>\n",
       "      <th></th>\n",
       "    </tr>\n",
       "  </thead>\n",
       "  <tbody>\n",
       "    <tr>\n",
       "      <th>majority</th>\n",
       "      <td>0.247174</td>\n",
       "      <td>0.559412</td>\n",
       "      <td>0.256705</td>\n",
       "      <td>0.147611</td>\n",
       "      <td>0.864984</td>\n",
       "      <td>0.016193</td>\n",
       "      <td>0.880685</td>\n",
       "      <td>69170.0</td>\n",
       "    </tr>\n",
       "    <tr>\n",
       "      <th>minority</th>\n",
       "      <td>0.149270</td>\n",
       "      <td>0.517369</td>\n",
       "      <td>0.212528</td>\n",
       "      <td>0.118959</td>\n",
       "      <td>0.961039</td>\n",
       "      <td>0.004223</td>\n",
       "      <td>0.965044</td>\n",
       "      <td>20540.0</td>\n",
       "    </tr>\n",
       "  </tbody>\n",
       "</table>\n",
       "</div>"
      ],
      "text/plain": [
       "          accuracy  balanced accuracy        f1  precision  \\\n",
       "majmin                                                       \n",
       "majority  0.247174           0.559412  0.256705   0.147611   \n",
       "minority  0.149270           0.517369  0.212528   0.118959   \n",
       "\n",
       "          false positive rate  false negative rate  selection rate    count  \n",
       "majmin                                                                       \n",
       "majority             0.864984             0.016193        0.880685  69170.0  \n",
       "minority             0.961039             0.004223        0.965044  20540.0  "
      ]
     },
     "execution_count": 75,
     "metadata": {},
     "output_type": "execute_result"
    }
   ],
   "source": [
    "metric_frame.by_group"
   ]
  },
  {
   "cell_type": "code",
   "execution_count": 76,
   "id": "a9ddbe63",
   "metadata": {
    "execution": {
     "iopub.execute_input": "2025-07-30T13:50:27.689836Z",
     "iopub.status.busy": "2025-07-30T13:50:27.689312Z",
     "iopub.status.idle": "2025-07-30T13:50:30.340394Z",
     "shell.execute_reply": "2025-07-30T13:50:30.339307Z"
    },
    "papermill": {
     "duration": 2.681077,
     "end_time": "2025-07-30T13:50:30.342054",
     "exception": false,
     "start_time": "2025-07-30T13:50:27.660977",
     "status": "completed"
    },
    "tags": []
   },
   "outputs": [
    {
     "data": {
      "text/plain": [
       "array([[<Axes: title={'center': 'accuracy'}, xlabel='majmin'>,\n",
       "        <Axes: title={'center': 'balanced accuracy'}, xlabel='majmin'>,\n",
       "        <Axes: title={'center': 'f1'}, xlabel='majmin'>],\n",
       "       [<Axes: title={'center': 'precision'}, xlabel='majmin'>,\n",
       "        <Axes: title={'center': 'false positive rate'}, xlabel='majmin'>,\n",
       "        <Axes: title={'center': 'false negative rate'}, xlabel='majmin'>],\n",
       "       [<Axes: title={'center': 'selection rate'}, xlabel='majmin'>,\n",
       "        <Axes: title={'center': 'count'}, xlabel='majmin'>,\n",
       "        <Axes: xlabel='majmin'>]], dtype=object)"
      ]
     },
     "execution_count": 76,
     "metadata": {},
     "output_type": "execute_result"
    },
    {
     "data": {
      "image/png": "[encoded data removed]",
      "text/plain": [
       "<Figure size 1200x800 with 9 Axes>"
      ]
     },
     "metadata": {},
     "output_type": "display_data"
    }
   ],
   "source": [
    "# In a graphic\n",
    "metric_frame.by_group.plot.bar(\n",
    "    subplots=True,\n",
    "    layout=[3, 3],\n",
    "    legend=False,\n",
    "    figsize=[12, 8],\n",
    "    title=\"Show all metrics\",\n",
    ")"
   ]
  },
  {
   "cell_type": "markdown",
   "id": "f57a0bac",
   "metadata": {
    "papermill": {
     "duration": 0.029311,
     "end_time": "2025-07-30T13:50:30.401295",
     "exception": false,
     "start_time": "2025-07-30T13:50:30.371984",
     "status": "completed"
    },
    "tags": []
   },
   "source": [
    "# Final Output"
   ]
  },
  {
   "cell_type": "code",
   "execution_count": 77,
   "id": "96d280a3",
   "metadata": {
    "execution": {
     "iopub.execute_input": "2025-07-30T13:50:30.459259Z",
     "iopub.status.busy": "2025-07-30T13:50:30.458272Z",
     "iopub.status.idle": "2025-07-30T13:50:30.466543Z",
     "shell.execute_reply": "2025-07-30T13:50:30.465601Z"
    },
    "papermill": {
     "duration": 0.037377,
     "end_time": "2025-07-30T13:50:30.468311",
     "exception": false,
     "start_time": "2025-07-30T13:50:30.430934",
     "status": "completed"
    },
    "tags": []
   },
   "outputs": [
    {
     "data": {
      "text/plain": [
       "4"
      ]
     },
     "execution_count": 77,
     "metadata": {},
     "output_type": "execute_result"
    }
   ],
   "source": [
    "sub_universes = universe_analysis.generate_sub_universes()\n",
    "len(sub_universes)"
   ]
  },
  {
   "cell_type": "code",
   "execution_count": 78,
   "id": "92adf7ba",
   "metadata": {
    "execution": {
     "iopub.execute_input": "2025-07-30T13:50:30.530867Z",
     "iopub.status.busy": "2025-07-30T13:50:30.530364Z",
     "iopub.status.idle": "2025-07-30T13:50:30.536459Z",
     "shell.execute_reply": "2025-07-30T13:50:30.535521Z"
    },
    "papermill": {
     "duration": 0.039761,
     "end_time": "2025-07-30T13:50:30.538540",
     "exception": false,
     "start_time": "2025-07-30T13:50:30.498779",
     "status": "completed"
    },
    "tags": []
   },
   "outputs": [],
   "source": [
    "def filter_sub_universe_data(sub_universe, org_test):\n",
    "    # Keep all rows — no filtering\n",
    "    keep_rows_mask = np.ones(org_test.shape[0], dtype=bool)\n",
    "\n",
    "    print(f\"[INFO] Keeping all rows: {keep_rows_mask.sum()} rows retained.\")\n",
    "    return keep_rows_mask"
   ]
  },
  {
   "cell_type": "code",
   "execution_count": 79,
   "id": "4a759155",
   "metadata": {
    "execution": {
     "iopub.execute_input": "2025-07-30T13:50:30.604655Z",
     "iopub.status.busy": "2025-07-30T13:50:30.603908Z",
     "iopub.status.idle": "2025-07-30T13:50:40.756905Z",
     "shell.execute_reply": "2025-07-30T13:50:40.755943Z"
    },
    "papermill": {
     "duration": 10.188103,
     "end_time": "2025-07-30T13:50:40.758450",
     "exception": false,
     "start_time": "2025-07-30T13:50:30.570347",
     "status": "completed"
    },
    "tags": []
   },
   "outputs": [
    {
     "name": "stdout",
     "output_type": "stream",
     "text": [
      "Stopping execution_time clock.\n",
      "[INFO] Keeping all rows: 89710 rows retained.\n"
     ]
    },
    {
     "name": "stdout",
     "output_type": "stream",
     "text": [
      "[INFO] Keeping all rows: 89710 rows retained.\n"
     ]
    },
    {
     "name": "stdout",
     "output_type": "stream",
     "text": [
      "[INFO] Keeping all rows: 89710 rows retained.\n"
     ]
    },
    {
     "name": "stdout",
     "output_type": "stream",
     "text": [
      "[INFO] Keeping all rows: 89710 rows retained.\n"
     ]
    },
    {
     "data": {
      "text/html": [
       "<div>\n",
       "<style scoped>\n",
       "    .dataframe tbody tr th:only-of-type {\n",
       "        vertical-align: middle;\n",
       "    }\n",
       "\n",
       "    .dataframe tbody tr th {\n",
       "        vertical-align: top;\n",
       "    }\n",
       "\n",
       "    .dataframe thead th {\n",
       "        text-align: right;\n",
       "    }\n",
       "</style>\n",
       "<table border=\"1\" class=\"dataframe\">\n",
       "  <thead>\n",
       "    <tr style=\"text-align: right;\">\n",
       "      <th></th>\n",
       "      <th>run_no</th>\n",
       "      <th>universe_id</th>\n",
       "      <th>universe_settings</th>\n",
       "      <th>execution_time</th>\n",
       "      <th>test_size_n</th>\n",
       "      <th>test_size_frac</th>\n",
       "      <th>fair_main_equalized_odds_difference</th>\n",
       "      <th>fair_main_equalized_odds_ratio</th>\n",
       "      <th>fair_main_demographic_parity_difference</th>\n",
       "      <th>fair_main_demographic_parity_ratio</th>\n",
       "      <th>...</th>\n",
       "      <th>perf_grp_precision_0</th>\n",
       "      <th>perf_grp_precision_1</th>\n",
       "      <th>perf_grp_false positive rate_0</th>\n",
       "      <th>perf_grp_false positive rate_1</th>\n",
       "      <th>perf_grp_false negative rate_0</th>\n",
       "      <th>perf_grp_false negative rate_1</th>\n",
       "      <th>perf_grp_selection rate_0</th>\n",
       "      <th>perf_grp_selection rate_1</th>\n",
       "      <th>perf_grp_count_0</th>\n",
       "      <th>perf_grp_count_1</th>\n",
       "    </tr>\n",
       "  </thead>\n",
       "  <tbody>\n",
       "    <tr>\n",
       "      <th>0</th>\n",
       "      <td>12</td>\n",
       "      <td>09dfc944d7a2334f434debe14bde7773</td>\n",
       "      <td>{\"cutoff\": \"quantile_0.1\", \"eval_fairness_grou...</td>\n",
       "      <td>35.640411</td>\n",
       "      <td>89710</td>\n",
       "      <td>1.0</td>\n",
       "      <td>0.096055</td>\n",
       "      <td>0.900051</td>\n",
       "      <td>0.084359</td>\n",
       "      <td>0.912586</td>\n",
       "      <td>...</td>\n",
       "      <td>NaN</td>\n",
       "      <td>NaN</td>\n",
       "      <td>NaN</td>\n",
       "      <td>NaN</td>\n",
       "      <td>NaN</td>\n",
       "      <td>NaN</td>\n",
       "      <td>NaN</td>\n",
       "      <td>NaN</td>\n",
       "      <td>NaN</td>\n",
       "      <td>NaN</td>\n",
       "    </tr>\n",
       "    <tr>\n",
       "      <th>0</th>\n",
       "      <td>12</td>\n",
       "      <td>09dfc944d7a2334f434debe14bde7773</td>\n",
       "      <td>{\"cutoff\": \"quantile_0.1\", \"eval_fairness_grou...</td>\n",
       "      <td>35.640411</td>\n",
       "      <td>89710</td>\n",
       "      <td>1.0</td>\n",
       "      <td>0.096055</td>\n",
       "      <td>0.900051</td>\n",
       "      <td>0.084359</td>\n",
       "      <td>0.912586</td>\n",
       "      <td>...</td>\n",
       "      <td>0.118959</td>\n",
       "      <td>0.147611</td>\n",
       "      <td>0.961039</td>\n",
       "      <td>0.864984</td>\n",
       "      <td>0.004223</td>\n",
       "      <td>0.016193</td>\n",
       "      <td>0.965044</td>\n",
       "      <td>0.880685</td>\n",
       "      <td>20540.0</td>\n",
       "      <td>69170.0</td>\n",
       "    </tr>\n",
       "    <tr>\n",
       "      <th>0</th>\n",
       "      <td>12</td>\n",
       "      <td>09dfc944d7a2334f434debe14bde7773</td>\n",
       "      <td>{\"cutoff\": \"quantile_0.25\", \"eval_fairness_gro...</td>\n",
       "      <td>35.640411</td>\n",
       "      <td>89710</td>\n",
       "      <td>1.0</td>\n",
       "      <td>0.071475</td>\n",
       "      <td>0.907974</td>\n",
       "      <td>0.058035</td>\n",
       "      <td>0.926976</td>\n",
       "      <td>...</td>\n",
       "      <td>NaN</td>\n",
       "      <td>NaN</td>\n",
       "      <td>NaN</td>\n",
       "      <td>NaN</td>\n",
       "      <td>NaN</td>\n",
       "      <td>NaN</td>\n",
       "      <td>NaN</td>\n",
       "      <td>NaN</td>\n",
       "      <td>NaN</td>\n",
       "      <td>NaN</td>\n",
       "    </tr>\n",
       "    <tr>\n",
       "      <th>0</th>\n",
       "      <td>12</td>\n",
       "      <td>09dfc944d7a2334f434debe14bde7773</td>\n",
       "      <td>{\"cutoff\": \"quantile_0.25\", \"eval_fairness_gro...</td>\n",
       "      <td>35.640411</td>\n",
       "      <td>89710</td>\n",
       "      <td>1.0</td>\n",
       "      <td>0.071475</td>\n",
       "      <td>0.907974</td>\n",
       "      <td>0.058035</td>\n",
       "      <td>0.926976</td>\n",
       "      <td>...</td>\n",
       "      <td>0.135383</td>\n",
       "      <td>0.169237</td>\n",
       "      <td>0.776689</td>\n",
       "      <td>0.705214</td>\n",
       "      <td>0.066723</td>\n",
       "      <td>0.056455</td>\n",
       "      <td>0.794742</td>\n",
       "      <td>0.736707</td>\n",
       "      <td>20540.0</td>\n",
       "      <td>69170.0</td>\n",
       "    </tr>\n",
       "  </tbody>\n",
       "</table>\n",
       "<p>4 rows × 50 columns</p>\n",
       "</div>"
      ],
      "text/plain": [
       "  run_no                       universe_id  \\\n",
       "0     12  09dfc944d7a2334f434debe14bde7773   \n",
       "0     12  09dfc944d7a2334f434debe14bde7773   \n",
       "0     12  09dfc944d7a2334f434debe14bde7773   \n",
       "0     12  09dfc944d7a2334f434debe14bde7773   \n",
       "\n",
       "                                   universe_settings  execution_time  \\\n",
       "0  {\"cutoff\": \"quantile_0.1\", \"eval_fairness_grou...       35.640411   \n",
       "0  {\"cutoff\": \"quantile_0.1\", \"eval_fairness_grou...       35.640411   \n",
       "0  {\"cutoff\": \"quantile_0.25\", \"eval_fairness_gro...       35.640411   \n",
       "0  {\"cutoff\": \"quantile_0.25\", \"eval_fairness_gro...       35.640411   \n",
       "\n",
       "   test_size_n  test_size_frac  fair_main_equalized_odds_difference  \\\n",
       "0        89710             1.0                             0.096055   \n",
       "0        89710             1.0                             0.096055   \n",
       "0        89710             1.0                             0.071475   \n",
       "0        89710             1.0                             0.071475   \n",
       "\n",
       "   fair_main_equalized_odds_ratio  fair_main_demographic_parity_difference  \\\n",
       "0                        0.900051                                 0.084359   \n",
       "0                        0.900051                                 0.084359   \n",
       "0                        0.907974                                 0.058035   \n",
       "0                        0.907974                                 0.058035   \n",
       "\n",
       "   fair_main_demographic_parity_ratio  ...  perf_grp_precision_0  \\\n",
       "0                            0.912586  ...                   NaN   \n",
       "0                            0.912586  ...              0.118959   \n",
       "0                            0.926976  ...                   NaN   \n",
       "0                            0.926976  ...              0.135383   \n",
       "\n",
       "   perf_grp_precision_1  perf_grp_false positive rate_0  \\\n",
       "0                   NaN                             NaN   \n",
       "0              0.147611                        0.961039   \n",
       "0                   NaN                             NaN   \n",
       "0              0.169237                        0.776689   \n",
       "\n",
       "   perf_grp_false positive rate_1  perf_grp_false negative rate_0  \\\n",
       "0                             NaN                             NaN   \n",
       "0                        0.864984                        0.004223   \n",
       "0                             NaN                             NaN   \n",
       "0                        0.705214                        0.066723   \n",
       "\n",
       "   perf_grp_false negative rate_1  perf_grp_selection rate_0  \\\n",
       "0                             NaN                        NaN   \n",
       "0                        0.016193                   0.965044   \n",
       "0                             NaN                        NaN   \n",
       "0                        0.056455                   0.794742   \n",
       "\n",
       "   perf_grp_selection rate_1  perf_grp_count_0  perf_grp_count_1  \n",
       "0                        NaN               NaN               NaN  \n",
       "0                   0.880685           20540.0           69170.0  \n",
       "0                        NaN               NaN               NaN  \n",
       "0                   0.736707           20540.0           69170.0  \n",
       "\n",
       "[4 rows x 50 columns]"
      ]
     },
     "execution_count": 79,
     "metadata": {},
     "output_type": "execute_result"
    }
   ],
   "source": [
    "final_output = universe_analysis.generate_final_output(\n",
    "    y_pred_prob=probs_test,\n",
    "    y_test=y_true,\n",
    "    org_test=org_test,\n",
    "    filter_data=filter_sub_universe_data,\n",
    "    cp_metrics_df=cp_metrics_df,\n",
    "    save=True,\n",
    ")\n",
    "final_output"
   ]
  },
  {
   "cell_type": "code",
   "execution_count": null,
   "id": "721ff514-cb11-46f8-b6fc-50392f74b5cb",
   "metadata": {
    "papermill": {
     "duration": 0.029023,
     "end_time": "2025-07-30T13:50:40.818787",
     "exception": false,
     "start_time": "2025-07-30T13:50:40.789764",
     "status": "completed"
    },
    "tags": []
   },
   "outputs": [],
   "source": []
  }
 ],
 "metadata": {
  "celltoolbar": "Tags",
  "kernelspec": {
   "display_name": "Python (CMA Fairness)",
   "language": "python",
   "name": "cma_fair_env"
  },
  "language_info": {
   "codemirror_mode": {
    "name": "ipython",
    "version": 3
   },
   "file_extension": ".py",
   "mimetype": "text/x-python",
   "name": "python",
   "nbconvert_exporter": "python",
   "pygments_lexer": "ipython3",
   "version": "3.10.12"
  },
  "papermill": {
   "default_parameters": {},
   "duration": 50.557599,
   "end_time": "2025-07-30T13:50:41.667381",
   "environment_variables": {},
   "exception": null,
   "input_path": "universe_analysis.ipynb",
   "output_path": "output/runs/12/notebooks/m_12-09dfc944d7a2334f434debe14bde7773.ipynb",
   "parameters": {
    "output_dir": "output",
    "run_no": "12",
    "seed": "2023",
    "universe": "{\"cutoff\": [\"quantile_0.1\", \"quantile_0.25\"], \"eval_fairness_grouping\": [\"majority-minority\", \"nationality-all\"], \"exclude_features\": \"none\", \"exclude_subgroups\": \"keep-all\", \"model\": \"gbm\", \"scale\": \"do-not-scale\", \"training_size\": \"5k\", \"training_year\": \"2014\"}",
    "universe_id": "09dfc944d7a2334f434debe14bde7773"
   },
   "start_time": "2025-07-30T13:49:51.109782",
   "version": "2.6.0"
  }
 },
 "nbformat": 4,
 "nbformat_minor": 5
}