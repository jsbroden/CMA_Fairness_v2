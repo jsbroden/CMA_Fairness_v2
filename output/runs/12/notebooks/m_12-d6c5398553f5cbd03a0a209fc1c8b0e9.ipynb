{
 "cells": [
  {
   "cell_type": "code",
   "execution_count": 1,
   "id": "f159f837-637b-42ba-96b5-ec9a68c44524",
   "metadata": {
    "execution": {
     "iopub.execute_input": "2025-07-30T13:49:41.915358Z",
     "iopub.status.busy": "2025-07-30T13:49:41.914732Z",
     "iopub.status.idle": "2025-07-30T13:49:41.927897Z",
     "shell.execute_reply": "2025-07-30T13:49:41.926991Z"
    },
    "papermill": {
     "duration": 0.038099,
     "end_time": "2025-07-30T13:49:41.929495",
     "exception": false,
     "start_time": "2025-07-30T13:49:41.891396",
     "status": "completed"
    },
    "tags": []
   },
   "outputs": [
    {
     "name": "stdout",
     "output_type": "stream",
     "text": [
      "/dss/dsshome1/0C/ra93lal2/cma/CMA_Fairness_v2\n"
     ]
    },
    {
     "name": "stderr",
     "output_type": "stream",
     "text": [
      "/dss/dsshome1/0C/ra93lal2/.local/share/virtualenvs/CMA_Fairness_v2-3j10GkSs/lib/python3.10/site-packages/IPython/core/magics/osm.py:393: UserWarning: This is now an optional IPython functionality, using bookmarks requires you to install the `pickleshare` library.\n",
      "  bkms = self.shell.db.get('bookmarks', {})\n",
      "/dss/dsshome1/0C/ra93lal2/.local/share/virtualenvs/CMA_Fairness_v2-3j10GkSs/lib/python3.10/site-packages/IPython/core/magics/osm.py:417: UserWarning: This is now an optional IPython functionality, setting dhist requires you to install the `pickleshare` library.\n",
      "  self.shell.db['dhist'] = compress_dhist(dhist)[-100:]\n"
     ]
    }
   ],
   "source": [
    "%cd ~/cma/CMA_Fairness_v2"
   ]
  },
  {
   "cell_type": "markdown",
   "id": "de2603b9",
   "metadata": {
    "papermill": {
     "duration": 0.020127,
     "end_time": "2025-07-30T13:49:41.968432",
     "exception": false,
     "start_time": "2025-07-30T13:49:41.948305",
     "status": "completed"
    },
    "tags": []
   },
   "source": [
    "The following cell holds the definition of our parameters, these values can be overriden by rendering the with e.g. the following command:\n",
    "\n",
    "papermill -p alpha 0.2 -p ratio 0.3 universe_analysis.ipynb output/test_run.ipynb"
   ]
  },
  {
   "cell_type": "code",
   "execution_count": 2,
   "id": "a80968a0-40bb-4fa9-85ef-2d5eefb01975",
   "metadata": {
    "execution": {
     "iopub.execute_input": "2025-07-30T13:49:42.010218Z",
     "iopub.status.busy": "2025-07-30T13:49:42.009763Z",
     "iopub.status.idle": "2025-07-30T13:49:42.015070Z",
     "shell.execute_reply": "2025-07-30T13:49:42.014262Z"
    },
    "papermill": {
     "duration": 0.028867,
     "end_time": "2025-07-30T13:49:42.016953",
     "exception": false,
     "start_time": "2025-07-30T13:49:41.988086",
     "status": "completed"
    },
    "tags": []
   },
   "outputs": [
    {
     "name": "stdout",
     "output_type": "stream",
     "text": [
      "Current working directory: /dss/dsshome1/0C/ra93lal2/cma/CMA_Fairness_v2\n"
     ]
    }
   ],
   "source": [
    "import os\n",
    "print(\"Current working directory:\", os.getcwd())"
   ]
  },
  {
   "cell_type": "code",
   "execution_count": 3,
   "id": "2dce4c03",
   "metadata": {
    "execution": {
     "iopub.execute_input": "2025-07-30T13:49:42.060567Z",
     "iopub.status.busy": "2025-07-30T13:49:42.059577Z",
     "iopub.status.idle": "2025-07-30T13:49:42.066991Z",
     "shell.execute_reply": "2025-07-30T13:49:42.065914Z"
    },
    "papermill": {
     "duration": 0.031186,
     "end_time": "2025-07-30T13:49:42.069046",
     "exception": false,
     "start_time": "2025-07-30T13:49:42.037860",
     "status": "completed"
    },
    "tags": [
     "parameters"
    ]
   },
   "outputs": [],
   "source": [
    "run_no = 0\n",
    "universe_id = \"test\"\n",
    "universe = {\n",
    "    \"training_size\": \"25k\", # \"25k\", \"5k\", \"1k\"\n",
    "    \"training_year\": \"2014\", # \"2014\", \"2012_14\", \"2010_14\"\n",
    "    \"scale\": \"scale\", # \"scale\", \"do-not-scale\",\n",
    "    #\"stratify_split\": \"target\", # \"none\", \"target\", \"protected-attribute\", \"both\",\n",
    "    \"model\": \"elasticnet\", # \"logreg\", \"penalized_logreg\", \"rf\", \"gbm\", \"elasticnet\"\n",
    "    \"cutoff\": [\"quantile_0.15\", \"quantile_0.30\"],\n",
    "    \"exclude_features\": \"age\", # \"none\", \"nationality\", \"sex\", \"nationality-sex\", \"age\"\n",
    "    \"exclude_subgroups\": \"keep-all\", # \"keep-all\", \"drop-non-german\"\n",
    "    \"eval_fairness_grouping\": [\"majority-minority\", \"nationality-all\"]\n",
    "}\n",
    "\n",
    "output_dir=\"./output\"\n",
    "seed=0"
   ]
  },
  {
   "cell_type": "code",
   "execution_count": 4,
   "id": "b3bb3a18",
   "metadata": {
    "execution": {
     "iopub.execute_input": "2025-07-30T13:49:42.114347Z",
     "iopub.status.busy": "2025-07-30T13:49:42.113878Z",
     "iopub.status.idle": "2025-07-30T13:49:42.119090Z",
     "shell.execute_reply": "2025-07-30T13:49:42.118120Z"
    },
    "papermill": {
     "duration": 0.030294,
     "end_time": "2025-07-30T13:49:42.120775",
     "exception": false,
     "start_time": "2025-07-30T13:49:42.090481",
     "status": "completed"
    },
    "tags": [
     "injected-parameters"
    ]
   },
   "outputs": [],
   "source": [
    "# Parameters\n",
    "universe_id = \"d6c5398553f5cbd03a0a209fc1c8b0e9\"\n",
    "run_no = \"12\"\n",
    "universe = \"{\\\"cutoff\\\": [\\\"quantile_0.1\\\", \\\"quantile_0.25\\\"], \\\"eval_fairness_grouping\\\": [\\\"majority-minority\\\", \\\"nationality-all\\\"], \\\"exclude_features\\\": \\\"age\\\", \\\"exclude_subgroups\\\": \\\"keep-all\\\", \\\"model\\\": \\\"rf\\\", \\\"scale\\\": \\\"do-not-scale\\\", \\\"training_size\\\": \\\"5k\\\", \\\"training_year\\\": \\\"2014\\\"}\"\n",
    "output_dir = \"output\"\n",
    "seed = \"2023\"\n"
   ]
  },
  {
   "cell_type": "code",
   "execution_count": 5,
   "id": "1650acaf",
   "metadata": {
    "execution": {
     "iopub.execute_input": "2025-07-30T13:49:42.165697Z",
     "iopub.status.busy": "2025-07-30T13:49:42.165222Z",
     "iopub.status.idle": "2025-07-30T13:49:42.170115Z",
     "shell.execute_reply": "2025-07-30T13:49:42.169244Z"
    },
    "papermill": {
     "duration": 0.029428,
     "end_time": "2025-07-30T13:49:42.171743",
     "exception": false,
     "start_time": "2025-07-30T13:49:42.142315",
     "status": "completed"
    },
    "tags": []
   },
   "outputs": [],
   "source": [
    "import json\n",
    "# Parse universe into dict if it is passed as a string\n",
    "if isinstance(universe, str):\n",
    "    universe = json.loads(universe)"
   ]
  },
  {
   "cell_type": "code",
   "execution_count": 6,
   "id": "16620c48",
   "metadata": {
    "execution": {
     "iopub.execute_input": "2025-07-30T13:49:42.217705Z",
     "iopub.status.busy": "2025-07-30T13:49:42.217243Z",
     "iopub.status.idle": "2025-07-30T13:49:42.274380Z",
     "shell.execute_reply": "2025-07-30T13:49:42.273467Z"
    },
    "papermill": {
     "duration": 0.082461,
     "end_time": "2025-07-30T13:49:42.276289",
     "exception": false,
     "start_time": "2025-07-30T13:49:42.193828",
     "status": "completed"
    },
    "tags": []
   },
   "outputs": [],
   "source": [
    "# Auto-reload the custom package\n",
    "%load_ext autoreload\n",
    "%autoreload 1\n",
    "%aimport fairness_multiverse"
   ]
  },
  {
   "cell_type": "code",
   "execution_count": 7,
   "id": "01c5c9f3",
   "metadata": {
    "execution": {
     "iopub.execute_input": "2025-07-30T13:49:42.322529Z",
     "iopub.status.busy": "2025-07-30T13:49:42.321747Z",
     "iopub.status.idle": "2025-07-30T13:49:44.458334Z",
     "shell.execute_reply": "2025-07-30T13:49:44.457327Z"
    },
    "papermill": {
     "duration": 2.161836,
     "end_time": "2025-07-30T13:49:44.460451",
     "exception": false,
     "start_time": "2025-07-30T13:49:42.298615",
     "status": "completed"
    },
    "tags": []
   },
   "outputs": [],
   "source": [
    "from fairness_multiverse.universe import UniverseAnalysis\n",
    "\n",
    "universe_analysis = UniverseAnalysis(\n",
    "    run_no = run_no,\n",
    "    universe_id = universe_id,\n",
    "    universe = universe,\n",
    "    output_dir=output_dir,\n",
    ")"
   ]
  },
  {
   "cell_type": "code",
   "execution_count": 8,
   "id": "106241f5",
   "metadata": {
    "execution": {
     "iopub.execute_input": "2025-07-30T13:49:44.538697Z",
     "iopub.status.busy": "2025-07-30T13:49:44.538248Z",
     "iopub.status.idle": "2025-07-30T13:49:44.544432Z",
     "shell.execute_reply": "2025-07-30T13:49:44.543369Z"
    },
    "papermill": {
     "duration": 0.045358,
     "end_time": "2025-07-30T13:49:44.545897",
     "exception": false,
     "start_time": "2025-07-30T13:49:44.500539",
     "status": "completed"
    },
    "tags": []
   },
   "outputs": [
    {
     "name": "stdout",
     "output_type": "stream",
     "text": [
      "Using Seed: 2023\n"
     ]
    }
   ],
   "source": [
    "import numpy as np\n",
    "parsed_seed = int(seed)\n",
    "np.random.seed(parsed_seed)\n",
    "print(f\"Using Seed: {parsed_seed}\")"
   ]
  },
  {
   "cell_type": "markdown",
   "id": "e0ebdc57",
   "metadata": {
    "papermill": {
     "duration": 0.030455,
     "end_time": "2025-07-30T13:49:44.613582",
     "exception": false,
     "start_time": "2025-07-30T13:49:44.583127",
     "status": "completed"
    },
    "tags": []
   },
   "source": [
    "# Loading Data"
   ]
  },
  {
   "cell_type": "markdown",
   "id": "681925a3",
   "metadata": {
    "papermill": {
     "duration": 0.058449,
     "end_time": "2025-07-30T13:49:44.742628",
     "exception": false,
     "start_time": "2025-07-30T13:49:44.684179",
     "status": "completed"
    },
    "tags": []
   },
   "source": [
    "Load siab_train, siab_test, siab_calib and/or \n",
    "load siab_train_features, siab_train_labels"
   ]
  },
  {
   "cell_type": "code",
   "execution_count": 9,
   "id": "f0496b8a",
   "metadata": {
    "execution": {
     "iopub.execute_input": "2025-07-30T13:49:44.844596Z",
     "iopub.status.busy": "2025-07-30T13:49:44.844175Z",
     "iopub.status.idle": "2025-07-30T13:49:57.698748Z",
     "shell.execute_reply": "2025-07-30T13:49:57.697554Z"
    },
    "papermill": {
     "duration": 12.89625,
     "end_time": "2025-07-30T13:49:57.700413",
     "exception": false,
     "start_time": "2025-07-30T13:49:44.804163",
     "status": "completed"
    },
    "tags": []
   },
   "outputs": [
    {
     "name": "stdout",
     "output_type": "stream",
     "text": [
      "Loading SIAB data from cache: data/siab_cached.csv.gz\n"
     ]
    },
    {
     "name": "stdout",
     "output_type": "stream",
     "text": [
      "(643690, 164)\n"
     ]
    }
   ],
   "source": [
    "from pathlib import Path\n",
    "import pandas as pd\n",
    "\n",
    "# File paths\n",
    "raw_file = Path(\"data/raw/siab.csv\")\n",
    "cache_file = Path(\"data/siab_cached.csv.gz\")\n",
    "\n",
    "# Ensure cache directory exists\n",
    "cache_file.parent.mkdir(parents=True, exist_ok=True)\n",
    "\n",
    "# Load with simple caching\n",
    "if cache_file.exists():\n",
    "    print(f\"Loading SIAB data from cache: {cache_file}\")\n",
    "    siab = pd.read_csv(cache_file, compression='gzip')\n",
    "else:\n",
    "    print(f\"Cache not found. Reading raw SIAB data: {raw_file}\")\n",
    "    siab = pd.read_csv(raw_file)\n",
    "    siab.to_csv(cache_file, index=False, compression='gzip')\n",
    "    print(f\"Cached SIAB data to: {cache_file}\")\n",
    "\n",
    "# Now use `siab` DataFrame as needed\n",
    "print(siab.shape)"
   ]
  },
  {
   "cell_type": "code",
   "execution_count": 10,
   "id": "db0ca512-5f53-4dba-abdb-a2888bca41ba",
   "metadata": {
    "execution": {
     "iopub.execute_input": "2025-07-30T13:49:57.748099Z",
     "iopub.status.busy": "2025-07-30T13:49:57.747527Z",
     "iopub.status.idle": "2025-07-30T13:49:57.753335Z",
     "shell.execute_reply": "2025-07-30T13:49:57.752424Z"
    },
    "papermill": {
     "duration": 0.031297,
     "end_time": "2025-07-30T13:49:57.754785",
     "exception": false,
     "start_time": "2025-07-30T13:49:57.723488",
     "status": "completed"
    },
    "tags": []
   },
   "outputs": [],
   "source": [
    "#siab"
   ]
  },
  {
   "cell_type": "code",
   "execution_count": 11,
   "id": "a0edb063",
   "metadata": {
    "execution": {
     "iopub.execute_input": "2025-07-30T13:49:57.796165Z",
     "iopub.status.busy": "2025-07-30T13:49:57.795327Z",
     "iopub.status.idle": "2025-07-30T13:49:57.800850Z",
     "shell.execute_reply": "2025-07-30T13:49:57.799914Z"
    },
    "papermill": {
     "duration": 0.027356,
     "end_time": "2025-07-30T13:49:57.802495",
     "exception": false,
     "start_time": "2025-07-30T13:49:57.775139",
     "status": "completed"
    },
    "tags": []
   },
   "outputs": [],
   "source": [
    "#import pandas as pd\n",
    "#\n",
    "#X_train = pd.read_csv(\"./data/X_train.csv\")\n",
    "#y_train = pd.read_csv(\"./data/y_train.csv\")"
   ]
  },
  {
   "cell_type": "code",
   "execution_count": 12,
   "id": "63d08085",
   "metadata": {
    "execution": {
     "iopub.execute_input": "2025-07-30T13:49:57.844408Z",
     "iopub.status.busy": "2025-07-30T13:49:57.843833Z",
     "iopub.status.idle": "2025-07-30T13:49:57.848724Z",
     "shell.execute_reply": "2025-07-30T13:49:57.847781Z"
    },
    "papermill": {
     "duration": 0.027849,
     "end_time": "2025-07-30T13:49:57.850226",
     "exception": false,
     "start_time": "2025-07-30T13:49:57.822377",
     "status": "completed"
    },
    "tags": []
   },
   "outputs": [],
   "source": [
    "#X_test = pd.read_csv(\"./data/X_test.csv\")\n",
    "#y_true = pd.read_csv(\"./data/y_test.csv\")"
   ]
  },
  {
   "cell_type": "code",
   "execution_count": 13,
   "id": "98a8d0fa-1d3d-4ed8-bb2c-281470e24add",
   "metadata": {
    "execution": {
     "iopub.execute_input": "2025-07-30T13:49:57.894728Z",
     "iopub.status.busy": "2025-07-30T13:49:57.893860Z",
     "iopub.status.idle": "2025-07-30T13:49:57.899161Z",
     "shell.execute_reply": "2025-07-30T13:49:57.898286Z"
    },
    "papermill": {
     "duration": 0.030595,
     "end_time": "2025-07-30T13:49:57.900807",
     "exception": false,
     "start_time": "2025-07-30T13:49:57.870212",
     "status": "completed"
    },
    "tags": []
   },
   "outputs": [],
   "source": [
    "# Calibration data for conformal\n",
    "#X_calib = pd.read_csv(\"./data/X_calib.csv\")\n",
    "#y_calib = pd.read_csv(\"./data/y_calib.csv\")"
   ]
  },
  {
   "cell_type": "markdown",
   "id": "997051c5-15bd-4b69-9786-c3001a3ce484",
   "metadata": {
    "papermill": {
     "duration": 0.020621,
     "end_time": "2025-07-30T13:49:57.942054",
     "exception": false,
     "start_time": "2025-07-30T13:49:57.921433",
     "status": "completed"
    },
    "tags": []
   },
   "source": [
    "# Splitting Data and Setting Training Data Size"
   ]
  },
  {
   "cell_type": "code",
   "execution_count": 14,
   "id": "e993b61f-042d-41a6-8c81-f55681f86335",
   "metadata": {
    "execution": {
     "iopub.execute_input": "2025-07-30T13:49:57.984203Z",
     "iopub.status.busy": "2025-07-30T13:49:57.983591Z",
     "iopub.status.idle": "2025-07-30T13:49:57.996895Z",
     "shell.execute_reply": "2025-07-30T13:49:57.995676Z"
    },
    "papermill": {
     "duration": 0.036184,
     "end_time": "2025-07-30T13:49:57.998617",
     "exception": false,
     "start_time": "2025-07-30T13:49:57.962433",
     "status": "completed"
    },
    "tags": []
   },
   "outputs": [],
   "source": [
    "def sample_by_year_size(df,\n",
    "                        training_year: str,\n",
    "                        training_size: str,\n",
    "                        random_state: int = 42):\n",
    "    # --- parse training_year into a list of int years ---\n",
    "    if \"_\" in training_year:\n",
    "        start_str, end_str = training_year.split(\"_\", 1)\n",
    "        start = int(start_str)\n",
    "        end   = int(end_str) if len(end_str) == 4 else (int(end_str) + (start // 100)*100)\n",
    "        years = list(range(start, end + 1))\n",
    "    else:\n",
    "        years = [int(training_year)]\n",
    "\n",
    "    df = df[df[\"year\"].isin(years)].reset_index(drop=True)\n",
    "\n",
    "    # --- map training_size to total number of samples ---\n",
    "    total_map = {\"25k\": 25_000, \"5k\": 5_000, \"1k\": 1_000}\n",
    "    if training_size not in total_map:\n",
    "        return df  # e.g. \"all\"\n",
    "\n",
    "    total_samples = total_map[training_size]\n",
    "    n_years       = len(years)\n",
    "    base          = total_samples // n_years\n",
    "    remainder     = total_samples % n_years\n",
    "\n",
    "    # --- build a dict: year -> how many to sample ---\n",
    "    # give +1 to the first `remainder` years in ascending order\n",
    "    quotas = {\n",
    "        year: base + (1 if idx < remainder else 0)\n",
    "        for idx, year in enumerate(sorted(years))\n",
    "    }\n",
    "\n",
    "    # --- sample per‐year according to the quota dict ---\n",
    "    sampled = (\n",
    "        df\n",
    "        .groupby(\"year\", group_keys=False)\n",
    "        .apply(lambda grp: grp.sample(\n",
    "            n=min(len(grp), quotas[grp.name]),\n",
    "            random_state=random_state))\n",
    "        .reset_index(drop=True)\n",
    "    )\n",
    "\n",
    "    return sampled"
   ]
  },
  {
   "cell_type": "code",
   "execution_count": 15,
   "id": "c0ccd338-0e02-41f3-a09d-f56f9266e3fb",
   "metadata": {
    "execution": {
     "iopub.execute_input": "2025-07-30T13:49:58.041763Z",
     "iopub.status.busy": "2025-07-30T13:49:58.041119Z",
     "iopub.status.idle": "2025-07-30T13:49:58.052931Z",
     "shell.execute_reply": "2025-07-30T13:49:58.051982Z"
    },
    "papermill": {
     "duration": 0.034624,
     "end_time": "2025-07-30T13:49:58.054463",
     "exception": false,
     "start_time": "2025-07-30T13:49:58.019839",
     "status": "completed"
    },
    "tags": []
   },
   "outputs": [
    {
     "data": {
      "text/plain": [
       "'5k'"
      ]
     },
     "execution_count": 15,
     "metadata": {},
     "output_type": "execute_result"
    }
   ],
   "source": [
    "universe[\"training_size\"]"
   ]
  },
  {
   "cell_type": "code",
   "execution_count": 16,
   "id": "ca707fd7-8047-4acd-bfa5-66248fbbf8e6",
   "metadata": {
    "execution": {
     "iopub.execute_input": "2025-07-30T13:49:58.098785Z",
     "iopub.status.busy": "2025-07-30T13:49:58.097915Z",
     "iopub.status.idle": "2025-07-30T13:49:58.105504Z",
     "shell.execute_reply": "2025-07-30T13:49:58.104590Z"
    },
    "papermill": {
     "duration": 0.031063,
     "end_time": "2025-07-30T13:49:58.107158",
     "exception": false,
     "start_time": "2025-07-30T13:49:58.076095",
     "status": "completed"
    },
    "tags": []
   },
   "outputs": [
    {
     "data": {
      "text/plain": [
       "'2014'"
      ]
     },
     "execution_count": 16,
     "metadata": {},
     "output_type": "execute_result"
    }
   ],
   "source": [
    "universe[\"training_year\"]"
   ]
  },
  {
   "cell_type": "code",
   "execution_count": 17,
   "id": "aea9c6ef-6f46-42c8-85eb-5a62025c1508",
   "metadata": {
    "execution": {
     "iopub.execute_input": "2025-07-30T13:49:58.151417Z",
     "iopub.status.busy": "2025-07-30T13:49:58.150792Z",
     "iopub.status.idle": "2025-07-30T13:49:58.340962Z",
     "shell.execute_reply": "2025-07-30T13:49:58.340073Z"
    },
    "papermill": {
     "duration": 0.214405,
     "end_time": "2025-07-30T13:49:58.342761",
     "exception": false,
     "start_time": "2025-07-30T13:49:58.128356",
     "status": "completed"
    },
    "tags": []
   },
   "outputs": [],
   "source": [
    "siab_train = sample_by_year_size(siab,\n",
    "                               training_year=universe[\"training_year\"],\n",
    "                               training_size=universe[\"training_size\"])"
   ]
  },
  {
   "cell_type": "code",
   "execution_count": 18,
   "id": "8d3afb32-789d-442c-8d5d-9f5aa8dd2eed",
   "metadata": {
    "execution": {
     "iopub.execute_input": "2025-07-30T13:49:58.385090Z",
     "iopub.status.busy": "2025-07-30T13:49:58.384458Z",
     "iopub.status.idle": "2025-07-30T13:49:58.391628Z",
     "shell.execute_reply": "2025-07-30T13:49:58.390754Z"
    },
    "papermill": {
     "duration": 0.030003,
     "end_time": "2025-07-30T13:49:58.393171",
     "exception": false,
     "start_time": "2025-07-30T13:49:58.363168",
     "status": "completed"
    },
    "tags": []
   },
   "outputs": [
    {
     "data": {
      "text/plain": [
       "(5000, 164)"
      ]
     },
     "execution_count": 18,
     "metadata": {},
     "output_type": "execute_result"
    }
   ],
   "source": [
    "siab_train.shape"
   ]
  },
  {
   "cell_type": "code",
   "execution_count": 19,
   "id": "d582db68-1a4c-47fb-84fc-08518dc1975a",
   "metadata": {
    "execution": {
     "iopub.execute_input": "2025-07-30T13:49:58.437131Z",
     "iopub.status.busy": "2025-07-30T13:49:58.436548Z",
     "iopub.status.idle": "2025-07-30T13:49:58.446522Z",
     "shell.execute_reply": "2025-07-30T13:49:58.445647Z"
    },
    "papermill": {
     "duration": 0.033225,
     "end_time": "2025-07-30T13:49:58.448300",
     "exception": false,
     "start_time": "2025-07-30T13:49:58.415075",
     "status": "completed"
    },
    "tags": []
   },
   "outputs": [
    {
     "data": {
      "text/plain": [
       "year\n",
       "2014    5000\n",
       "dtype: int64"
      ]
     },
     "metadata": {},
     "output_type": "display_data"
    }
   ],
   "source": [
    "display(siab_train.groupby(\"year\").size())"
   ]
  },
  {
   "cell_type": "code",
   "execution_count": 20,
   "id": "a561edb4-d032-42cb-8256-22eac1111c64",
   "metadata": {
    "execution": {
     "iopub.execute_input": "2025-07-30T13:49:58.491367Z",
     "iopub.status.busy": "2025-07-30T13:49:58.490461Z",
     "iopub.status.idle": "2025-07-30T13:49:58.723188Z",
     "shell.execute_reply": "2025-07-30T13:49:58.722282Z"
    },
    "papermill": {
     "duration": 0.255852,
     "end_time": "2025-07-30T13:49:58.725109",
     "exception": false,
     "start_time": "2025-07-30T13:49:58.469257",
     "status": "completed"
    },
    "tags": []
   },
   "outputs": [],
   "source": [
    "#siab_train = siab_s[siab_s.year < 2015]\n",
    "siab_calib = siab[siab.year == 2015]\n",
    "siab_test = siab[siab.year == 2016]"
   ]
  },
  {
   "cell_type": "code",
   "execution_count": 21,
   "id": "472de16f-c3db-4916-846b-1f0de9cf1746",
   "metadata": {
    "execution": {
     "iopub.execute_input": "2025-07-30T13:49:58.768843Z",
     "iopub.status.busy": "2025-07-30T13:49:58.768184Z",
     "iopub.status.idle": "2025-07-30T13:49:58.776405Z",
     "shell.execute_reply": "2025-07-30T13:49:58.775492Z"
    },
    "papermill": {
     "duration": 0.032098,
     "end_time": "2025-07-30T13:49:58.778006",
     "exception": false,
     "start_time": "2025-07-30T13:49:58.745908",
     "status": "completed"
    },
    "tags": []
   },
   "outputs": [],
   "source": [
    "X_train = siab_train.iloc[:,4:164]\n",
    "y_train = siab_train.iloc[:, [3]]"
   ]
  },
  {
   "cell_type": "code",
   "execution_count": 22,
   "id": "828c96af-f43a-4ed6-ba47-8ac73a47d56c",
   "metadata": {
    "execution": {
     "iopub.execute_input": "2025-07-30T13:49:58.821491Z",
     "iopub.status.busy": "2025-07-30T13:49:58.821025Z",
     "iopub.status.idle": "2025-07-30T13:49:58.896317Z",
     "shell.execute_reply": "2025-07-30T13:49:58.895303Z"
    },
    "papermill": {
     "duration": 0.099019,
     "end_time": "2025-07-30T13:49:58.898028",
     "exception": false,
     "start_time": "2025-07-30T13:49:58.799009",
     "status": "completed"
    },
    "tags": []
   },
   "outputs": [],
   "source": [
    "X_calib = siab_calib.iloc[:,4:164]\n",
    "y_calib = siab_calib.iloc[:, [3]]"
   ]
  },
  {
   "cell_type": "code",
   "execution_count": 23,
   "id": "c34be9c3-6bd6-476e-acd3-845840e303be",
   "metadata": {
    "execution": {
     "iopub.execute_input": "2025-07-30T13:49:58.943710Z",
     "iopub.status.busy": "2025-07-30T13:49:58.943065Z",
     "iopub.status.idle": "2025-07-30T13:49:58.993357Z",
     "shell.execute_reply": "2025-07-30T13:49:58.992251Z"
    },
    "papermill": {
     "duration": 0.074602,
     "end_time": "2025-07-30T13:49:58.995015",
     "exception": false,
     "start_time": "2025-07-30T13:49:58.920413",
     "status": "completed"
    },
    "tags": []
   },
   "outputs": [],
   "source": [
    "X_test = siab_test.iloc[:,4:164]\n",
    "y_true = siab_test.iloc[:, [3]]"
   ]
  },
  {
   "cell_type": "markdown",
   "id": "9901737e-04df-44f0-9100-f5ad144ed040",
   "metadata": {
    "papermill": {
     "duration": 0.020629,
     "end_time": "2025-07-30T13:49:59.037037",
     "exception": false,
     "start_time": "2025-07-30T13:49:59.016408",
     "status": "completed"
    },
    "tags": []
   },
   "source": [
    "# Splitting Data and Setting Training Data Size OLD VERSION"
   ]
  },
  {
   "cell_type": "code",
   "execution_count": 24,
   "id": "acbc8f7d-8fc8-4e86-8c59-5dcb0f58384b",
   "metadata": {
    "execution": {
     "iopub.execute_input": "2025-07-30T13:49:59.080261Z",
     "iopub.status.busy": "2025-07-30T13:49:59.079562Z",
     "iopub.status.idle": "2025-07-30T13:49:59.085293Z",
     "shell.execute_reply": "2025-07-30T13:49:59.084348Z"
    },
    "papermill": {
     "duration": 0.029184,
     "end_time": "2025-07-30T13:49:59.086963",
     "exception": false,
     "start_time": "2025-07-30T13:49:59.057779",
     "status": "completed"
    },
    "tags": []
   },
   "outputs": [],
   "source": [
    "#def sample_by_year(df, training_size, random_state=42):\n",
    "#    if training_size == \"2014\":\n",
    "#        return df[df[\"year\"] == 2014].reset_index(drop=True)\n",
    "#    \n",
    "#    size_map = {\n",
    "#        \"25k\": 5000,\n",
    "#        \"5k\": 1000,\n",
    "#        \"1k\": 200\n",
    "#    }\n",
    "#\n",
    "#    if training_size not in size_map:\n",
    "#        return df.reset_index(drop=True)  # use all data\n",
    "#\n",
    "#    n_per_year = size_map[training_size]\n",
    "#    grouped = df.groupby(\"year\")\n",
    "#    sampled = grouped.apply(lambda x: x.sample(n=min(n_per_year, len(x)), random_state=random_state))\n",
    "#    return sampled.reset_index(drop=True)"
   ]
  },
  {
   "cell_type": "code",
   "execution_count": 25,
   "id": "6d931f52-beaf-43ff-9e78-9d44a448d54e",
   "metadata": {
    "execution": {
     "iopub.execute_input": "2025-07-30T13:49:59.132742Z",
     "iopub.status.busy": "2025-07-30T13:49:59.132212Z",
     "iopub.status.idle": "2025-07-30T13:49:59.137710Z",
     "shell.execute_reply": "2025-07-30T13:49:59.136766Z"
    },
    "papermill": {
     "duration": 0.029914,
     "end_time": "2025-07-30T13:49:59.139301",
     "exception": false,
     "start_time": "2025-07-30T13:49:59.109387",
     "status": "completed"
    },
    "tags": []
   },
   "outputs": [],
   "source": [
    "#siab_s = sample_by_year(siab, universe[\"training_size\"])"
   ]
  },
  {
   "cell_type": "code",
   "execution_count": 26,
   "id": "5db0a40e-a4e2-4920-be85-b12ae061d70d",
   "metadata": {
    "execution": {
     "iopub.execute_input": "2025-07-30T13:49:59.184041Z",
     "iopub.status.busy": "2025-07-30T13:49:59.183352Z",
     "iopub.status.idle": "2025-07-30T13:49:59.188387Z",
     "shell.execute_reply": "2025-07-30T13:49:59.187405Z"
    },
    "papermill": {
     "duration": 0.028184,
     "end_time": "2025-07-30T13:49:59.190071",
     "exception": false,
     "start_time": "2025-07-30T13:49:59.161887",
     "status": "completed"
    },
    "tags": []
   },
   "outputs": [],
   "source": [
    "#display(siab_s.groupby(\"year\").size())"
   ]
  },
  {
   "cell_type": "code",
   "execution_count": 27,
   "id": "e6c733c5",
   "metadata": {
    "execution": {
     "iopub.execute_input": "2025-07-30T13:49:59.233625Z",
     "iopub.status.busy": "2025-07-30T13:49:59.233136Z",
     "iopub.status.idle": "2025-07-30T13:49:59.327023Z",
     "shell.execute_reply": "2025-07-30T13:49:59.326079Z"
    },
    "papermill": {
     "duration": 0.117164,
     "end_time": "2025-07-30T13:49:59.328653",
     "exception": false,
     "start_time": "2025-07-30T13:49:59.211489",
     "status": "completed"
    },
    "tags": []
   },
   "outputs": [],
   "source": [
    "# Auxiliary data needed downstream in the pipeline\n",
    "\n",
    "org_train = X_train.copy()\n",
    "org_test = X_test.copy()\n",
    "org_calib = X_calib.copy()"
   ]
  },
  {
   "cell_type": "code",
   "execution_count": 28,
   "id": "1466abac-c6da-4492-a62f-4240ae3783af",
   "metadata": {
    "execution": {
     "iopub.execute_input": "2025-07-30T13:49:59.356684Z",
     "iopub.status.busy": "2025-07-30T13:49:59.356261Z",
     "iopub.status.idle": "2025-07-30T13:49:59.361419Z",
     "shell.execute_reply": "2025-07-30T13:49:59.360586Z"
    },
    "papermill": {
     "duration": 0.021531,
     "end_time": "2025-07-30T13:49:59.362914",
     "exception": false,
     "start_time": "2025-07-30T13:49:59.341383",
     "status": "completed"
    },
    "tags": []
   },
   "outputs": [],
   "source": [
    "# put in other script?\n",
    "# Group sizes\n",
    "\n",
    "#def calculate_percentages(df, df_name):\n",
    "#    total_entries = len(df)\n",
    "#\n",
    "#    female_pct = (df['frau1'] == 1).mean() * 100\n",
    "#    non_german_pct = ((df['maxdeutsch1'] == 0) & (df['maxdeutsch.Missing.'] == 0)).mean() * 100\n",
    "#    non_german_male_pct = ((df['frau1'] == 0) & (df['maxdeutsch1'] == 0) & (df['maxdeutsch.Missing.'] == 0)).mean() * 100\n",
    "#    non_german_female_pct = ((df['frau1'] == 1) & (df['maxdeutsch1'] == 0) & (df['maxdeutsch.Missing.'] == 0)).mean() * 100\n",
    "#\n",
    "#    print(f\"--- {df_name} ---\")\n",
    "#    print(f\"Female: {female_pct:.2f}%\")\n",
    "#    print(f\"Non-German: {non_german_pct:.2f}%\")\n",
    "#    print(f\"Non-German Male: {non_german_male_pct:.2f}%\")\n",
    "#    print(f\"Non-German Female: {non_german_female_pct:.2f}%\\n\")\n",
    "#\n",
    "## Calculate for each DataFrame\n",
    "#calculate_percentages(siab_calib, \"siab_calib\")\n",
    "#calculate_percentages(siab_test, \"siab_test\")\n",
    "#calculate_percentages(siab_train, \"siab_train\")"
   ]
  },
  {
   "cell_type": "markdown",
   "id": "0a4a1b33",
   "metadata": {
    "papermill": {
     "duration": 0.022812,
     "end_time": "2025-07-30T13:49:59.407667",
     "exception": false,
     "start_time": "2025-07-30T13:49:59.384855",
     "status": "completed"
    },
    "tags": []
   },
   "source": [
    "# Preprocessing Data"
   ]
  },
  {
   "cell_type": "code",
   "execution_count": 29,
   "id": "ca879031",
   "metadata": {
    "execution": {
     "iopub.execute_input": "2025-07-30T13:49:59.453386Z",
     "iopub.status.busy": "2025-07-30T13:49:59.452890Z",
     "iopub.status.idle": "2025-07-30T13:49:59.459302Z",
     "shell.execute_reply": "2025-07-30T13:49:59.458394Z"
    },
    "papermill": {
     "duration": 0.031468,
     "end_time": "2025-07-30T13:49:59.461220",
     "exception": false,
     "start_time": "2025-07-30T13:49:59.429752",
     "status": "completed"
    },
    "tags": []
   },
   "outputs": [],
   "source": [
    "# EXCLUDE PROTECTED FEATURES\n",
    "# ----------------------\n",
    "# \"exclude_features\": \"none\", # \"nationality\", \"sex\", \"nationality-sex\"\n",
    "\n",
    "excluded_features = universe[\"exclude_features\"].split(\"-\") # split, e.g.: \"nationality-sex\" -> [\"nationality\", \"sex\"]\n",
    "excluded_features_dictionary = {\n",
    "    \"nationality\": [\"maxdeutsch1\", \"maxdeutsch.Missing.\"],\n",
    "    \"sex\": [\"frau1\"],\n",
    "    \"age\": [\"age\"],\n",
    "}\n"
   ]
  },
  {
   "cell_type": "code",
   "execution_count": 30,
   "id": "b745ac60",
   "metadata": {
    "execution": {
     "iopub.execute_input": "2025-07-30T13:49:59.509935Z",
     "iopub.status.busy": "2025-07-30T13:49:59.509133Z",
     "iopub.status.idle": "2025-07-30T13:49:59.514974Z",
     "shell.execute_reply": "2025-07-30T13:49:59.514032Z"
    },
    "papermill": {
     "duration": 0.03211,
     "end_time": "2025-07-30T13:49:59.516597",
     "exception": false,
     "start_time": "2025-07-30T13:49:59.484487",
     "status": "completed"
    },
    "tags": []
   },
   "outputs": [],
   "source": [
    "# Code nice names to column names\n",
    "\n",
    "excluded_features_columns = [\n",
    "    excluded_features_dictionary[f] for f in excluded_features if len(f) > 0 and f != \"none\"\n",
    "]"
   ]
  },
  {
   "cell_type": "code",
   "execution_count": 31,
   "id": "f84f73a2",
   "metadata": {
    "execution": {
     "iopub.execute_input": "2025-07-30T13:49:59.557333Z",
     "iopub.status.busy": "2025-07-30T13:49:59.556832Z",
     "iopub.status.idle": "2025-07-30T13:49:59.565687Z",
     "shell.execute_reply": "2025-07-30T13:49:59.564689Z"
    },
    "papermill": {
     "duration": 0.027346,
     "end_time": "2025-07-30T13:49:59.567309",
     "exception": false,
     "start_time": "2025-07-30T13:49:59.539963",
     "status": "completed"
    },
    "tags": []
   },
   "outputs": [],
   "source": [
    "from utils import flatten_once\n",
    "\n",
    "excluded_features_columns = flatten_once(excluded_features_columns)"
   ]
  },
  {
   "cell_type": "code",
   "execution_count": 32,
   "id": "884dea22",
   "metadata": {
    "execution": {
     "iopub.execute_input": "2025-07-30T13:49:59.614429Z",
     "iopub.status.busy": "2025-07-30T13:49:59.613600Z",
     "iopub.status.idle": "2025-07-30T13:49:59.623139Z",
     "shell.execute_reply": "2025-07-30T13:49:59.622072Z"
    },
    "papermill": {
     "duration": 0.035318,
     "end_time": "2025-07-30T13:49:59.625097",
     "exception": false,
     "start_time": "2025-07-30T13:49:59.589779",
     "status": "completed"
    },
    "tags": []
   },
   "outputs": [
    {
     "name": "stdout",
     "output_type": "stream",
     "text": [
      "Dropping features: ['age']\n"
     ]
    }
   ],
   "source": [
    "if len(excluded_features_columns) > 0:\n",
    "    print(f\"Dropping features: {excluded_features_columns}\")\n",
    "    X_train.drop(excluded_features_columns, axis=1, inplace=True)"
   ]
  },
  {
   "cell_type": "code",
   "execution_count": 33,
   "id": "95ab8b16",
   "metadata": {
    "execution": {
     "iopub.execute_input": "2025-07-30T13:49:59.673939Z",
     "iopub.status.busy": "2025-07-30T13:49:59.673325Z",
     "iopub.status.idle": "2025-07-30T13:49:59.728865Z",
     "shell.execute_reply": "2025-07-30T13:49:59.727852Z"
    },
    "papermill": {
     "duration": 0.08107,
     "end_time": "2025-07-30T13:49:59.730596",
     "exception": false,
     "start_time": "2025-07-30T13:49:59.649526",
     "status": "completed"
    },
    "tags": []
   },
   "outputs": [
    {
     "name": "stdout",
     "output_type": "stream",
     "text": [
      "Dropping features: ['age']\n"
     ]
    }
   ],
   "source": [
    "if len(excluded_features_columns) > 0:\n",
    "    print(f\"Dropping features: {excluded_features_columns}\")\n",
    "    X_test.drop(excluded_features_columns, axis=1, inplace=True)"
   ]
  },
  {
   "cell_type": "code",
   "execution_count": 34,
   "id": "1853aaf5-fb9f-46cb-a2b5-8ea4ae2237e4",
   "metadata": {
    "execution": {
     "iopub.execute_input": "2025-07-30T13:49:59.779952Z",
     "iopub.status.busy": "2025-07-30T13:49:59.779277Z",
     "iopub.status.idle": "2025-07-30T13:49:59.846153Z",
     "shell.execute_reply": "2025-07-30T13:49:59.845065Z"
    },
    "papermill": {
     "duration": 0.093371,
     "end_time": "2025-07-30T13:49:59.848126",
     "exception": false,
     "start_time": "2025-07-30T13:49:59.754755",
     "status": "completed"
    },
    "tags": []
   },
   "outputs": [
    {
     "name": "stdout",
     "output_type": "stream",
     "text": [
      "Dropping features: ['age']\n"
     ]
    }
   ],
   "source": [
    "if len(excluded_features_columns) > 0:\n",
    "    print(f\"Dropping features: {excluded_features_columns}\")\n",
    "    X_calib.drop(excluded_features_columns, axis=1, inplace=True)"
   ]
  },
  {
   "cell_type": "code",
   "execution_count": 35,
   "id": "6727d079-03e5-481e-9d38-292a90b7a0a8",
   "metadata": {
    "execution": {
     "iopub.execute_input": "2025-07-30T13:49:59.903279Z",
     "iopub.status.busy": "2025-07-30T13:49:59.902641Z",
     "iopub.status.idle": "2025-07-30T13:49:59.907692Z",
     "shell.execute_reply": "2025-07-30T13:49:59.906796Z"
    },
    "papermill": {
     "duration": 0.031151,
     "end_time": "2025-07-30T13:49:59.909217",
     "exception": false,
     "start_time": "2025-07-30T13:49:59.878066",
     "status": "completed"
    },
    "tags": []
   },
   "outputs": [],
   "source": [
    "# SPLIT & STRATIFY DATA\n",
    "# ----------------------"
   ]
  },
  {
   "cell_type": "code",
   "execution_count": 36,
   "id": "76c4dc6d",
   "metadata": {
    "execution": {
     "iopub.execute_input": "2025-07-30T13:49:59.957210Z",
     "iopub.status.busy": "2025-07-30T13:49:59.956804Z",
     "iopub.status.idle": "2025-07-30T13:49:59.962355Z",
     "shell.execute_reply": "2025-07-30T13:49:59.961530Z"
    },
    "papermill": {
     "duration": 0.031786,
     "end_time": "2025-07-30T13:49:59.963802",
     "exception": false,
     "start_time": "2025-07-30T13:49:59.932016",
     "status": "completed"
    },
    "tags": []
   },
   "outputs": [],
   "source": [
    "# EXCLUDE CERTAIN SUBGROUPS\n",
    "# ----------------------\n",
    "\n",
    "mode = universe.get(\"exclude_subgroups\", \"keep-all\") \n",
    "# Fetches the exclude_subgroups setting from the universe dict.\n",
    "# Defaults to \"keep-all\" if the key is missing."
   ]
  },
  {
   "cell_type": "code",
   "execution_count": 37,
   "id": "21994072",
   "metadata": {
    "execution": {
     "iopub.execute_input": "2025-07-30T13:50:00.012003Z",
     "iopub.status.busy": "2025-07-30T13:50:00.011483Z",
     "iopub.status.idle": "2025-07-30T13:50:00.020004Z",
     "shell.execute_reply": "2025-07-30T13:50:00.018837Z"
    },
    "papermill": {
     "duration": 0.035022,
     "end_time": "2025-07-30T13:50:00.021733",
     "exception": false,
     "start_time": "2025-07-30T13:49:59.986711",
     "status": "completed"
    },
    "tags": []
   },
   "outputs": [],
   "source": [
    "if mode == \"keep-all\":\n",
    "    keep_mask = pd.Series(True, index=org_train.index)\n",
    "\n",
    "# org_train contains the original feature columns from features_org (in Simson)\n",
    "# features_org contains unprocessed features, for me X_train at beginning ???\n",
    "# For keep-all, creates a boolean Series (keep_mask) of all True, so no rows are removed.\n",
    "\n",
    "elif mode == \"drop-non-german\":\n",
    "    keep_mask = org_train[\"maxdeutsch1\"] == 1 # ??? what about missing values?\n",
    "\n",
    "else:\n",
    "    raise ValueError(f\"Unsupported mode for exclude_subgroups: {mode}\")\n"
   ]
  },
  {
   "cell_type": "code",
   "execution_count": 38,
   "id": "71651440",
   "metadata": {
    "execution": {
     "iopub.execute_input": "2025-07-30T13:50:00.074300Z",
     "iopub.status.busy": "2025-07-30T13:50:00.073767Z",
     "iopub.status.idle": "2025-07-30T13:50:00.080517Z",
     "shell.execute_reply": "2025-07-30T13:50:00.079344Z"
    },
    "papermill": {
     "duration": 0.035507,
     "end_time": "2025-07-30T13:50:00.082350",
     "exception": false,
     "start_time": "2025-07-30T13:50:00.046843",
     "status": "completed"
    },
    "tags": []
   },
   "outputs": [],
   "source": [
    "n_drop = (~keep_mask).sum() # Calculates how many rows are set to be dropped\n",
    "if n_drop > 0:\n",
    "    pct = n_drop / len(keep_mask) * 100\n",
    "    print(f\"Dropping {n_drop} rows ({pct:.2f}%) where mode='{mode}'\")"
   ]
  },
  {
   "cell_type": "code",
   "execution_count": 39,
   "id": "5fb8eee5",
   "metadata": {
    "execution": {
     "iopub.execute_input": "2025-07-30T13:50:00.130992Z",
     "iopub.status.busy": "2025-07-30T13:50:00.130498Z",
     "iopub.status.idle": "2025-07-30T13:50:00.138208Z",
     "shell.execute_reply": "2025-07-30T13:50:00.137208Z"
    },
    "papermill": {
     "duration": 0.034134,
     "end_time": "2025-07-30T13:50:00.139832",
     "exception": false,
     "start_time": "2025-07-30T13:50:00.105698",
     "status": "completed"
    },
    "tags": []
   },
   "outputs": [],
   "source": [
    "X_train = X_train[keep_mask]"
   ]
  },
  {
   "cell_type": "code",
   "execution_count": 40,
   "id": "b202bb3a",
   "metadata": {
    "execution": {
     "iopub.execute_input": "2025-07-30T13:50:00.188828Z",
     "iopub.status.busy": "2025-07-30T13:50:00.187819Z",
     "iopub.status.idle": "2025-07-30T13:50:00.194428Z",
     "shell.execute_reply": "2025-07-30T13:50:00.193452Z"
    },
    "papermill": {
     "duration": 0.031956,
     "end_time": "2025-07-30T13:50:00.196181",
     "exception": false,
     "start_time": "2025-07-30T13:50:00.164225",
     "status": "completed"
    },
    "tags": []
   },
   "outputs": [],
   "source": [
    "y_train = y_train[keep_mask]"
   ]
  },
  {
   "cell_type": "markdown",
   "id": "493e2ac3",
   "metadata": {
    "papermill": {
     "duration": 0.022685,
     "end_time": "2025-07-30T13:50:00.243253",
     "exception": false,
     "start_time": "2025-07-30T13:50:00.220568",
     "status": "completed"
    },
    "tags": []
   },
   "source": [
    "# Model Training"
   ]
  },
  {
   "cell_type": "code",
   "execution_count": 41,
   "id": "679e1268",
   "metadata": {
    "execution": {
     "iopub.execute_input": "2025-07-30T13:50:00.291489Z",
     "iopub.status.busy": "2025-07-30T13:50:00.290674Z",
     "iopub.status.idle": "2025-07-30T13:50:00.400267Z",
     "shell.execute_reply": "2025-07-30T13:50:00.399293Z"
    },
    "papermill": {
     "duration": 0.136307,
     "end_time": "2025-07-30T13:50:00.402263",
     "exception": false,
     "start_time": "2025-07-30T13:50:00.265956",
     "status": "completed"
    },
    "tags": []
   },
   "outputs": [],
   "source": [
    "from sklearn.linear_model import LogisticRegression\n",
    "from sklearn.ensemble import GradientBoostingClassifier, RandomForestClassifier\n",
    "\n",
    "if (universe[\"model\"] == \"logreg\"):\n",
    "    model = LogisticRegression() #penalty=\"none\") #, solver=\"newton-cg\", max_iter=1) # include random_state=19 ?\n",
    "elif (universe[\"model\"] == \"penalized_logreg\"):\n",
    "    model = LogisticRegression(penalty=\"l2\", C=1.0) #, solver=\"newton-cg\", max_iter=1)\n",
    "elif (universe[\"model\"] == \"rf\"):\n",
    "    model = RandomForestClassifier(n_estimators=100, n_jobs=-1)\n",
    "elif (universe[\"model\"] == \"gbm\"):\n",
    "    model = GradientBoostingClassifier()\n",
    "elif (universe[\"model\"] == \"elasticnet\"):\n",
    "    model = LogisticRegression(penalty = 'elasticnet', solver = 'saga', l1_ratio = 0.5, max_iter=5000) # which solver to use?\n",
    "else:\n",
    "    raise \"Unsupported universe.model\""
   ]
  },
  {
   "cell_type": "code",
   "execution_count": 42,
   "id": "0cc8f744",
   "metadata": {
    "execution": {
     "iopub.execute_input": "2025-07-30T13:50:00.452335Z",
     "iopub.status.busy": "2025-07-30T13:50:00.451345Z",
     "iopub.status.idle": "2025-07-30T13:50:00.458537Z",
     "shell.execute_reply": "2025-07-30T13:50:00.457488Z"
    },
    "papermill": {
     "duration": 0.033502,
     "end_time": "2025-07-30T13:50:00.460237",
     "exception": false,
     "start_time": "2025-07-30T13:50:00.426735",
     "status": "completed"
    },
    "tags": []
   },
   "outputs": [],
   "source": [
    "import numpy as np\n",
    "from sklearn.pipeline import Pipeline\n",
    "from sklearn.preprocessing import StandardScaler\n",
    "\n",
    "model = Pipeline([\n",
    "    #(\"continuous_processor\", continuous_processor),\n",
    "    #(\"categorical_preprocessor\", categorical_preprocessor),\n",
    "    (\"scale\", StandardScaler() if universe[\"scale\"] == \"scale\" else None), \n",
    "    (\"model\", model),\n",
    "])"
   ]
  },
  {
   "cell_type": "code",
   "execution_count": 43,
   "id": "9442c04d",
   "metadata": {
    "execution": {
     "iopub.execute_input": "2025-07-30T13:50:00.509698Z",
     "iopub.status.busy": "2025-07-30T13:50:00.508748Z",
     "iopub.status.idle": "2025-07-30T13:50:01.440898Z",
     "shell.execute_reply": "2025-07-30T13:50:01.440221Z"
    },
    "papermill": {
     "duration": 0.958402,
     "end_time": "2025-07-30T13:50:01.442108",
     "exception": false,
     "start_time": "2025-07-30T13:50:00.483706",
     "status": "completed"
    },
    "tags": []
   },
   "outputs": [
    {
     "data": {
      "text/html": [
       "<style>#sk-container-id-1 {color: black;background-color: white;}#sk-container-id-1 pre{padding: 0;}#sk-container-id-1 div.sk-toggleable {background-color: white;}#sk-container-id-1 label.sk-toggleable__label {cursor: pointer;display: block;width: 100%;margin-bottom: 0;padding: 0.3em;box-sizing: border-box;text-align: center;}#sk-container-id-1 label.sk-toggleable__label-arrow:before {content: \"▸\";float: left;margin-right: 0.25em;color: #696969;}#sk-container-id-1 label.sk-toggleable__label-arrow:hover:before {color: black;}#sk-container-id-1 div.sk-estimator:hover label.sk-toggleable__label-arrow:before {color: black;}#sk-container-id-1 div.sk-toggleable__content {max-height: 0;max-width: 0;overflow: hidden;text-align: left;background-color: #f0f8ff;}#sk-container-id-1 div.sk-toggleable__content pre {margin: 0.2em;color: black;border-radius: 0.25em;background-color: #f0f8ff;}#sk-container-id-1 input.sk-toggleable__control:checked~div.sk-toggleable__content {max-height: 200px;max-width: 100%;overflow: auto;}#sk-container-id-1 input.sk-toggleable__control:checked~label.sk-toggleable__label-arrow:before {content: \"▾\";}#sk-container-id-1 div.sk-estimator input.sk-toggleable__control:checked~label.sk-toggleable__label {background-color: #d4ebff;}#sk-container-id-1 div.sk-label input.sk-toggleable__control:checked~label.sk-toggleable__label {background-color: #d4ebff;}#sk-container-id-1 input.sk-hidden--visually {border: 0;clip: rect(1px 1px 1px 1px);clip: rect(1px, 1px, 1px, 1px);height: 1px;margin: -1px;overflow: hidden;padding: 0;position: absolute;width: 1px;}#sk-container-id-1 div.sk-estimator {font-family: monospace;background-color: #f0f8ff;border: 1px dotted black;border-radius: 0.25em;box-sizing: border-box;margin-bottom: 0.5em;}#sk-container-id-1 div.sk-estimator:hover {background-color: #d4ebff;}#sk-container-id-1 div.sk-parallel-item::after {content: \"\";width: 100%;border-bottom: 1px solid gray;flex-grow: 1;}#sk-container-id-1 div.sk-label:hover label.sk-toggleable__label {background-color: #d4ebff;}#sk-container-id-1 div.sk-serial::before {content: \"\";position: absolute;border-left: 1px solid gray;box-sizing: border-box;top: 0;bottom: 0;left: 50%;z-index: 0;}#sk-container-id-1 div.sk-serial {display: flex;flex-direction: column;align-items: center;background-color: white;padding-right: 0.2em;padding-left: 0.2em;position: relative;}#sk-container-id-1 div.sk-item {position: relative;z-index: 1;}#sk-container-id-1 div.sk-parallel {display: flex;align-items: stretch;justify-content: center;background-color: white;position: relative;}#sk-container-id-1 div.sk-item::before, #sk-container-id-1 div.sk-parallel-item::before {content: \"\";position: absolute;border-left: 1px solid gray;box-sizing: border-box;top: 0;bottom: 0;left: 50%;z-index: -1;}#sk-container-id-1 div.sk-parallel-item {display: flex;flex-direction: column;z-index: 1;position: relative;background-color: white;}#sk-container-id-1 div.sk-parallel-item:first-child::after {align-self: flex-end;width: 50%;}#sk-container-id-1 div.sk-parallel-item:last-child::after {align-self: flex-start;width: 50%;}#sk-container-id-1 div.sk-parallel-item:only-child::after {width: 0;}#sk-container-id-1 div.sk-dashed-wrapped {border: 1px dashed gray;margin: 0 0.4em 0.5em 0.4em;box-sizing: border-box;padding-bottom: 0.4em;background-color: white;}#sk-container-id-1 div.sk-label label {font-family: monospace;font-weight: bold;display: inline-block;line-height: 1.2em;}#sk-container-id-1 div.sk-label-container {text-align: center;}#sk-container-id-1 div.sk-container {/* jupyter's `normalize.less` sets `[hidden] { display: none; }` but bootstrap.min.css set `[hidden] { display: none !important; }` so we also need the `!important` here to be able to override the default hidden behavior on the sphinx rendered scikit-learn.org. See: https://github.com/scikit-learn/scikit-learn/issues/21755 */display: inline-block !important;position: relative;}#sk-container-id-1 div.sk-text-repr-fallback {display: none;}</style><div id=\"sk-container-id-1\" class=\"sk-top-container\"><div class=\"sk-text-repr-fallback\"><pre>Pipeline(steps=[(&#x27;scale&#x27;, None), (&#x27;model&#x27;, RandomForestClassifier(n_jobs=-1))])</pre><b>In a Jupyter environment, please rerun this cell to show the HTML representation or trust the notebook. <br />On GitHub, the HTML representation is unable to render, please try loading this page with nbviewer.org.</b></div><div class=\"sk-container\" hidden><div class=\"sk-item sk-dashed-wrapped\"><div class=\"sk-label-container\"><div class=\"sk-label sk-toggleable\"><input class=\"sk-toggleable__control sk-hidden--visually\" id=\"sk-estimator-id-1\" type=\"checkbox\" ><label for=\"sk-estimator-id-1\" class=\"sk-toggleable__label sk-toggleable__label-arrow\">Pipeline</label><div class=\"sk-toggleable__content\"><pre>Pipeline(steps=[(&#x27;scale&#x27;, None), (&#x27;model&#x27;, RandomForestClassifier(n_jobs=-1))])</pre></div></div></div><div class=\"sk-serial\"><div class=\"sk-item\"><div class=\"sk-estimator sk-toggleable\"><input class=\"sk-toggleable__control sk-hidden--visually\" id=\"sk-estimator-id-2\" type=\"checkbox\" ><label for=\"sk-estimator-id-2\" class=\"sk-toggleable__label sk-toggleable__label-arrow\">None</label><div class=\"sk-toggleable__content\"><pre>None</pre></div></div></div><div class=\"sk-item\"><div class=\"sk-estimator sk-toggleable\"><input class=\"sk-toggleable__control sk-hidden--visually\" id=\"sk-estimator-id-3\" type=\"checkbox\" ><label for=\"sk-estimator-id-3\" class=\"sk-toggleable__label sk-toggleable__label-arrow\">RandomForestClassifier</label><div class=\"sk-toggleable__content\"><pre>RandomForestClassifier(n_jobs=-1)</pre></div></div></div></div></div></div></div>"
      ],
      "text/plain": [
       "Pipeline(steps=[('scale', None), ('model', RandomForestClassifier(n_jobs=-1))])"
      ]
     },
     "execution_count": 43,
     "metadata": {},
     "output_type": "execute_result"
    }
   ],
   "source": [
    "model.fit(X_train, y_train.values.ravel())"
   ]
  },
  {
   "cell_type": "code",
   "execution_count": 44,
   "id": "af59f8c0",
   "metadata": {
    "execution": {
     "iopub.execute_input": "2025-07-30T13:50:01.471251Z",
     "iopub.status.busy": "2025-07-30T13:50:01.470741Z",
     "iopub.status.idle": "2025-07-30T13:50:01.475305Z",
     "shell.execute_reply": "2025-07-30T13:50:01.474631Z"
    },
    "papermill": {
     "duration": 0.019661,
     "end_time": "2025-07-30T13:50:01.476647",
     "exception": false,
     "start_time": "2025-07-30T13:50:01.456986",
     "status": "completed"
    },
    "tags": []
   },
   "outputs": [],
   "source": [
    "from fairness_multiverse.universe import predict_w_threshold"
   ]
  },
  {
   "cell_type": "code",
   "execution_count": 45,
   "id": "a7cf2e16",
   "metadata": {
    "execution": {
     "iopub.execute_input": "2025-07-30T13:50:01.503919Z",
     "iopub.status.busy": "2025-07-30T13:50:01.503413Z",
     "iopub.status.idle": "2025-07-30T13:50:02.621585Z",
     "shell.execute_reply": "2025-07-30T13:50:02.620453Z"
    },
    "papermill": {
     "duration": 1.1327,
     "end_time": "2025-07-30T13:50:02.622922",
     "exception": false,
     "start_time": "2025-07-30T13:50:01.490222",
     "status": "completed"
    },
    "tags": []
   },
   "outputs": [
    {
     "data": {
      "text/plain": [
       "0.8669490580760227"
      ]
     },
     "execution_count": 45,
     "metadata": {},
     "output_type": "execute_result"
    }
   ],
   "source": [
    "probs_test = model.predict_proba(X_test)\n",
    "\n",
    "'''\n",
    "Below code returns a boolean array (or binary 0/1 array depending on how it’s used) where each element \n",
    "is True if the probability of class 1 is greater than or equal to the threshold, and False otherwise.\n",
    "'''\n",
    "y_pred_default = predict_w_threshold(probs_test, 0.5)\n",
    "\n",
    "from sklearn.metrics import accuracy_score\n",
    "\n",
    "# Naive prediction\n",
    "accuracy_score(y_true = y_true, y_pred = y_pred_default)"
   ]
  },
  {
   "cell_type": "code",
   "execution_count": 46,
   "id": "081964c3",
   "metadata": {
    "execution": {
     "iopub.execute_input": "2025-07-30T13:50:02.677317Z",
     "iopub.status.busy": "2025-07-30T13:50:02.676751Z",
     "iopub.status.idle": "2025-07-30T13:50:03.605306Z",
     "shell.execute_reply": "2025-07-30T13:50:03.604369Z"
    },
    "papermill": {
     "duration": 0.95733,
     "end_time": "2025-07-30T13:50:03.607041",
     "exception": false,
     "start_time": "2025-07-30T13:50:02.649711",
     "status": "completed"
    },
    "tags": []
   },
   "outputs": [
    {
     "data": {
      "text/plain": [
       "array([0, 0, 0, ..., 0, 0, 0])"
      ]
     },
     "execution_count": 46,
     "metadata": {},
     "output_type": "execute_result"
    }
   ],
   "source": [
    "model.predict(X_test)"
   ]
  },
  {
   "cell_type": "markdown",
   "id": "56c9705b",
   "metadata": {
    "papermill": {
     "duration": 0.016842,
     "end_time": "2025-07-30T13:50:03.649666",
     "exception": false,
     "start_time": "2025-07-30T13:50:03.632824",
     "status": "completed"
    },
    "tags": []
   },
   "source": [
    "# Conformal Prediction"
   ]
  },
  {
   "cell_type": "code",
   "execution_count": 47,
   "id": "160ec6ff",
   "metadata": {
    "execution": {
     "iopub.execute_input": "2025-07-30T13:50:03.678908Z",
     "iopub.status.busy": "2025-07-30T13:50:03.678551Z",
     "iopub.status.idle": "2025-07-30T13:50:03.683178Z",
     "shell.execute_reply": "2025-07-30T13:50:03.682401Z"
    },
    "papermill": {
     "duration": 0.020289,
     "end_time": "2025-07-30T13:50:03.684587",
     "exception": false,
     "start_time": "2025-07-30T13:50:03.664298",
     "status": "completed"
    },
    "tags": []
   },
   "outputs": [],
   "source": [
    "# Miscoverage level for conformal prediction (10% allowed error rate => 90% target coverage)\n",
    "alpha = 0.1"
   ]
  },
  {
   "cell_type": "code",
   "execution_count": 48,
   "id": "eadf4555-3dd3-440e-8e35-f82a4ad9f855",
   "metadata": {
    "execution": {
     "iopub.execute_input": "2025-07-30T13:50:03.713239Z",
     "iopub.status.busy": "2025-07-30T13:50:03.712924Z",
     "iopub.status.idle": "2025-07-30T13:50:04.670099Z",
     "shell.execute_reply": "2025-07-30T13:50:04.669324Z"
    },
    "papermill": {
     "duration": 0.973489,
     "end_time": "2025-07-30T13:50:04.672024",
     "exception": false,
     "start_time": "2025-07-30T13:50:03.698535",
     "status": "completed"
    },
    "tags": []
   },
   "outputs": [],
   "source": [
    "probs_calib = model.predict_proba(X_calib)"
   ]
  },
  {
   "cell_type": "code",
   "execution_count": 49,
   "id": "2ed93547-6d5d-4983-9b36-1ecb300da49a",
   "metadata": {
    "execution": {
     "iopub.execute_input": "2025-07-30T13:50:04.719053Z",
     "iopub.status.busy": "2025-07-30T13:50:04.718695Z",
     "iopub.status.idle": "2025-07-30T13:50:04.723546Z",
     "shell.execute_reply": "2025-07-30T13:50:04.722886Z"
    },
    "papermill": {
     "duration": 0.022792,
     "end_time": "2025-07-30T13:50:04.725001",
     "exception": false,
     "start_time": "2025-07-30T13:50:04.702209",
     "status": "completed"
    },
    "tags": []
   },
   "outputs": [],
   "source": [
    "y_calib = y_calib.values.ravel().astype(int)"
   ]
  },
  {
   "cell_type": "code",
   "execution_count": 50,
   "id": "65d1320d-f588-4b38-9072-62af1ae97f7d",
   "metadata": {
    "execution": {
     "iopub.execute_input": "2025-07-30T13:50:04.752595Z",
     "iopub.status.busy": "2025-07-30T13:50:04.752236Z",
     "iopub.status.idle": "2025-07-30T13:50:04.758929Z",
     "shell.execute_reply": "2025-07-30T13:50:04.758210Z"
    },
    "papermill": {
     "duration": 0.021586,
     "end_time": "2025-07-30T13:50:04.760273",
     "exception": false,
     "start_time": "2025-07-30T13:50:04.738687",
     "status": "completed"
    },
    "tags": []
   },
   "outputs": [],
   "source": [
    "from fairness_multiverse.conformal import compute_nc_scores\n",
    "\n",
    "# Compute nonconformity scores on calibration set (1 - probability of true class)\n",
    "nc_scores = compute_nc_scores(probs_calib, y_calib)"
   ]
  },
  {
   "cell_type": "code",
   "execution_count": 51,
   "id": "df3b8ca3-53b7-43d5-9667-7c85da7aeda2",
   "metadata": {
    "execution": {
     "iopub.execute_input": "2025-07-30T13:50:04.788319Z",
     "iopub.status.busy": "2025-07-30T13:50:04.787672Z",
     "iopub.status.idle": "2025-07-30T13:50:04.794480Z",
     "shell.execute_reply": "2025-07-30T13:50:04.793754Z"
    },
    "papermill": {
     "duration": 0.021849,
     "end_time": "2025-07-30T13:50:04.795750",
     "exception": false,
     "start_time": "2025-07-30T13:50:04.773901",
     "status": "completed"
    },
    "tags": []
   },
   "outputs": [],
   "source": [
    "from fairness_multiverse.conformal import find_threshold\n",
    "\n",
    "# Find conformal threshold q_hat for the given alpha (split conformal method)\n",
    "q_hat = find_threshold(nc_scores, alpha)"
   ]
  },
  {
   "cell_type": "code",
   "execution_count": 52,
   "id": "4d29e6c1-0ef6-4aa4-b8fe-4fe79b0d033a",
   "metadata": {
    "execution": {
     "iopub.execute_input": "2025-07-30T13:50:04.823243Z",
     "iopub.status.busy": "2025-07-30T13:50:04.822593Z",
     "iopub.status.idle": "2025-07-30T13:50:04.828560Z",
     "shell.execute_reply": "2025-07-30T13:50:04.827796Z"
    },
    "papermill": {
     "duration": 0.020602,
     "end_time": "2025-07-30T13:50:04.829867",
     "exception": false,
     "start_time": "2025-07-30T13:50:04.809265",
     "status": "completed"
    },
    "tags": []
   },
   "outputs": [
    {
     "data": {
      "text/plain": [
       "0.6699999999999999"
      ]
     },
     "execution_count": 52,
     "metadata": {},
     "output_type": "execute_result"
    }
   ],
   "source": [
    "q_hat"
   ]
  },
  {
   "cell_type": "code",
   "execution_count": 53,
   "id": "92460794-cdac-4be2-ba28-f28c0515a6fb",
   "metadata": {
    "execution": {
     "iopub.execute_input": "2025-07-30T13:50:04.860952Z",
     "iopub.status.busy": "2025-07-30T13:50:04.860173Z",
     "iopub.status.idle": "2025-07-30T13:50:06.349299Z",
     "shell.execute_reply": "2025-07-30T13:50:06.348450Z"
    },
    "papermill": {
     "duration": 1.505433,
     "end_time": "2025-07-30T13:50:06.351156",
     "exception": false,
     "start_time": "2025-07-30T13:50:04.845723",
     "status": "completed"
    },
    "tags": []
   },
   "outputs": [],
   "source": [
    "from fairness_multiverse.conformal import predict_conformal_sets\n",
    "\n",
    "# Generate prediction sets for each test example\n",
    "pred_sets = predict_conformal_sets(model, X_test, q_hat)"
   ]
  },
  {
   "cell_type": "code",
   "execution_count": 54,
   "id": "d90c9a65-e6db-4f5d-80cd-e68fb7e46829",
   "metadata": {
    "execution": {
     "iopub.execute_input": "2025-07-30T13:50:06.403911Z",
     "iopub.status.busy": "2025-07-30T13:50:06.403527Z",
     "iopub.status.idle": "2025-07-30T13:50:06.408933Z",
     "shell.execute_reply": "2025-07-30T13:50:06.408071Z"
    },
    "papermill": {
     "duration": 0.033232,
     "end_time": "2025-07-30T13:50:06.411386",
     "exception": false,
     "start_time": "2025-07-30T13:50:06.378154",
     "status": "completed"
    },
    "tags": []
   },
   "outputs": [],
   "source": [
    "y_true = y_true.squeeze()"
   ]
  },
  {
   "cell_type": "code",
   "execution_count": 55,
   "id": "3a58a54a-1e68-46b9-927a-df01f18aebc8",
   "metadata": {
    "execution": {
     "iopub.execute_input": "2025-07-30T13:50:06.463218Z",
     "iopub.status.busy": "2025-07-30T13:50:06.462837Z",
     "iopub.status.idle": "2025-07-30T13:50:07.374756Z",
     "shell.execute_reply": "2025-07-30T13:50:07.373840Z"
    },
    "papermill": {
     "duration": 0.940623,
     "end_time": "2025-07-30T13:50:07.376844",
     "exception": false,
     "start_time": "2025-07-30T13:50:06.436221",
     "status": "completed"
    },
    "tags": []
   },
   "outputs": [],
   "source": [
    "from fairness_multiverse.conformal import evaluate_sets\n",
    "\n",
    "# Evaluate coverage and average set size on test data\n",
    "metrics = evaluate_sets(pred_sets, y_true)"
   ]
  },
  {
   "cell_type": "markdown",
   "id": "2b569c12-9aaa-4c88-98c9-bbcd0cf3ebb8",
   "metadata": {
    "papermill": {
     "duration": 0.024893,
     "end_time": "2025-07-30T13:50:07.445195",
     "exception": false,
     "start_time": "2025-07-30T13:50:07.420302",
     "status": "completed"
    },
    "tags": []
   },
   "source": [
    "# CP Metrics"
   ]
  },
  {
   "cell_type": "code",
   "execution_count": 56,
   "id": "5ce0a5cb-201f-45a0-ade5-94c7f0bd6095",
   "metadata": {
    "execution": {
     "iopub.execute_input": "2025-07-30T13:50:07.496817Z",
     "iopub.status.busy": "2025-07-30T13:50:07.496430Z",
     "iopub.status.idle": "2025-07-30T13:50:07.503309Z",
     "shell.execute_reply": "2025-07-30T13:50:07.502459Z"
    },
    "papermill": {
     "duration": 0.038141,
     "end_time": "2025-07-30T13:50:07.507950",
     "exception": false,
     "start_time": "2025-07-30T13:50:07.469809",
     "status": "completed"
    },
    "tags": []
   },
   "outputs": [
    {
     "data": {
      "text/plain": [
       "{'coverage': 0.9147029316687103, 'avg_size': 1.1453795563482332}"
      ]
     },
     "execution_count": 56,
     "metadata": {},
     "output_type": "execute_result"
    }
   ],
   "source": [
    "metrics"
   ]
  },
  {
   "cell_type": "code",
   "execution_count": 57,
   "id": "9b9a838d-31c9-430b-ae14-12baee460d17",
   "metadata": {
    "execution": {
     "iopub.execute_input": "2025-07-30T13:50:07.574802Z",
     "iopub.status.busy": "2025-07-30T13:50:07.574270Z",
     "iopub.status.idle": "2025-07-30T13:50:07.582962Z",
     "shell.execute_reply": "2025-07-30T13:50:07.582023Z"
    },
    "papermill": {
     "duration": 0.037996,
     "end_time": "2025-07-30T13:50:07.586225",
     "exception": false,
     "start_time": "2025-07-30T13:50:07.548229",
     "status": "completed"
    },
    "tags": []
   },
   "outputs": [],
   "source": [
    "example_universe = universe.copy()\n",
    "universe_training_size = example_universe.get(\"training_size\")\n",
    "universe_scale = example_universe.get(\"scale\")\n",
    "universe_model = example_universe.get(\"model\")\n",
    "universe_exclude_features = example_universe.get(\"exclude_features\")\n",
    "universe_exclude_subgroups = example_universe.get(\"exclude_subgroups\")"
   ]
  },
  {
   "cell_type": "code",
   "execution_count": 58,
   "id": "f4b6a8ac-9dc0-4245-8a91-5b3b5999c4f9",
   "metadata": {
    "execution": {
     "iopub.execute_input": "2025-07-30T13:50:07.684662Z",
     "iopub.status.busy": "2025-07-30T13:50:07.683655Z",
     "iopub.status.idle": "2025-07-30T13:50:07.690858Z",
     "shell.execute_reply": "2025-07-30T13:50:07.689850Z"
    },
    "papermill": {
     "duration": 0.048362,
     "end_time": "2025-07-30T13:50:07.692955",
     "exception": false,
     "start_time": "2025-07-30T13:50:07.644593",
     "status": "completed"
    },
    "tags": []
   },
   "outputs": [],
   "source": [
    "cp_metrics_dict = {\n",
    "    \"universe_id\": [universe_id],\n",
    "    \"universe_training_size\": [universe_training_size],\n",
    "    \"universe_scale\": [universe_scale],\n",
    "    \"universe_model\": [universe_model],\n",
    "    \"universe_exclude_features\": [universe_exclude_features],\n",
    "    \"universe_exclude_subgroups\": [universe_exclude_subgroups],\n",
    "    \"q_hat\": [q_hat],\n",
    "    \"coverage\": [metrics[\"coverage\"]],\n",
    "    \"avg_size\": [metrics[\"avg_size\"]],\n",
    "}"
   ]
  },
  {
   "cell_type": "code",
   "execution_count": 59,
   "id": "908acbb1-0371-4915-85ca-3fa520d2efe2",
   "metadata": {
    "execution": {
     "iopub.execute_input": "2025-07-30T13:50:07.777716Z",
     "iopub.status.busy": "2025-07-30T13:50:07.777231Z",
     "iopub.status.idle": "2025-07-30T13:50:07.786158Z",
     "shell.execute_reply": "2025-07-30T13:50:07.785308Z"
    },
    "papermill": {
     "duration": 0.066095,
     "end_time": "2025-07-30T13:50:07.788891",
     "exception": false,
     "start_time": "2025-07-30T13:50:07.722796",
     "status": "completed"
    },
    "tags": []
   },
   "outputs": [
    {
     "data": {
      "text/plain": [
       "{'universe_id': ['d6c5398553f5cbd03a0a209fc1c8b0e9'],\n",
       " 'universe_training_size': ['5k'],\n",
       " 'universe_scale': ['do-not-scale'],\n",
       " 'universe_model': ['rf'],\n",
       " 'universe_exclude_features': ['age'],\n",
       " 'universe_exclude_subgroups': ['keep-all'],\n",
       " 'q_hat': [0.6699999999999999],\n",
       " 'coverage': [0.9147029316687103],\n",
       " 'avg_size': [1.1453795563482332]}"
      ]
     },
     "execution_count": 59,
     "metadata": {},
     "output_type": "execute_result"
    }
   ],
   "source": [
    "cp_metrics_dict"
   ]
  },
  {
   "cell_type": "code",
   "execution_count": 60,
   "id": "33007efc-14e9-4ec6-97ac-56a455c82265",
   "metadata": {
    "execution": {
     "iopub.execute_input": "2025-07-30T13:50:07.856243Z",
     "iopub.status.busy": "2025-07-30T13:50:07.855770Z",
     "iopub.status.idle": "2025-07-30T13:50:07.862233Z",
     "shell.execute_reply": "2025-07-30T13:50:07.861409Z"
    },
    "papermill": {
     "duration": 0.052145,
     "end_time": "2025-07-30T13:50:07.865015",
     "exception": false,
     "start_time": "2025-07-30T13:50:07.812870",
     "status": "completed"
    },
    "tags": []
   },
   "outputs": [],
   "source": [
    "cp_metrics_df = pd.DataFrame(cp_metrics_dict)"
   ]
  },
  {
   "cell_type": "code",
   "execution_count": 61,
   "id": "db12611b-57b2-4910-b9d0-355adfd6e7bf",
   "metadata": {
    "execution": {
     "iopub.execute_input": "2025-07-30T13:50:07.968301Z",
     "iopub.status.busy": "2025-07-30T13:50:07.967887Z",
     "iopub.status.idle": "2025-07-30T13:50:07.990457Z",
     "shell.execute_reply": "2025-07-30T13:50:07.987724Z"
    },
    "papermill": {
     "duration": 0.097698,
     "end_time": "2025-07-30T13:50:07.993280",
     "exception": false,
     "start_time": "2025-07-30T13:50:07.895582",
     "status": "completed"
    },
    "tags": []
   },
   "outputs": [
    {
     "data": {
      "text/html": [
       "<div>\n",
       "<style scoped>\n",
       "    .dataframe tbody tr th:only-of-type {\n",
       "        vertical-align: middle;\n",
       "    }\n",
       "\n",
       "    .dataframe tbody tr th {\n",
       "        vertical-align: top;\n",
       "    }\n",
       "\n",
       "    .dataframe thead th {\n",
       "        text-align: right;\n",
       "    }\n",
       "</style>\n",
       "<table border=\"1\" class=\"dataframe\">\n",
       "  <thead>\n",
       "    <tr style=\"text-align: right;\">\n",
       "      <th></th>\n",
       "      <th>universe_id</th>\n",
       "      <th>universe_training_size</th>\n",
       "      <th>universe_scale</th>\n",
       "      <th>universe_model</th>\n",
       "      <th>universe_exclude_features</th>\n",
       "      <th>universe_exclude_subgroups</th>\n",
       "      <th>q_hat</th>\n",
       "      <th>coverage</th>\n",
       "      <th>avg_size</th>\n",
       "    </tr>\n",
       "  </thead>\n",
       "  <tbody>\n",
       "    <tr>\n",
       "      <th>0</th>\n",
       "      <td>d6c5398553f5cbd03a0a209fc1c8b0e9</td>\n",
       "      <td>5k</td>\n",
       "      <td>do-not-scale</td>\n",
       "      <td>rf</td>\n",
       "      <td>age</td>\n",
       "      <td>keep-all</td>\n",
       "      <td>0.67</td>\n",
       "      <td>0.914703</td>\n",
       "      <td>1.14538</td>\n",
       "    </tr>\n",
       "  </tbody>\n",
       "</table>\n",
       "</div>"
      ],
      "text/plain": [
       "                        universe_id universe_training_size universe_scale  \\\n",
       "0  d6c5398553f5cbd03a0a209fc1c8b0e9                     5k   do-not-scale   \n",
       "\n",
       "  universe_model universe_exclude_features universe_exclude_subgroups  q_hat  \\\n",
       "0             rf                       age                   keep-all   0.67   \n",
       "\n",
       "   coverage  avg_size  \n",
       "0  0.914703   1.14538  "
      ]
     },
     "execution_count": 61,
     "metadata": {},
     "output_type": "execute_result"
    }
   ],
   "source": [
    "cp_metrics_df"
   ]
  },
  {
   "cell_type": "code",
   "execution_count": 62,
   "id": "b7fbde55-a0a1-47e4-9af6-fe4a17fa8c61",
   "metadata": {
    "execution": {
     "iopub.execute_input": "2025-07-30T13:50:08.089161Z",
     "iopub.status.busy": "2025-07-30T13:50:08.088676Z",
     "iopub.status.idle": "2025-07-30T13:50:08.095244Z",
     "shell.execute_reply": "2025-07-30T13:50:08.093091Z"
    },
    "papermill": {
     "duration": 0.040331,
     "end_time": "2025-07-30T13:50:08.097111",
     "exception": false,
     "start_time": "2025-07-30T13:50:08.056780",
     "status": "completed"
    },
    "tags": []
   },
   "outputs": [],
   "source": [
    "# Conditional Coverage & looking at subgroups"
   ]
  },
  {
   "cell_type": "code",
   "execution_count": 63,
   "id": "027ae886-68dd-4141-96c7-805a5450e1ef",
   "metadata": {
    "execution": {
     "iopub.execute_input": "2025-07-30T13:50:08.153395Z",
     "iopub.status.busy": "2025-07-30T13:50:08.152895Z",
     "iopub.status.idle": "2025-07-30T13:50:08.614988Z",
     "shell.execute_reply": "2025-07-30T13:50:08.614044Z"
    },
    "papermill": {
     "duration": 0.493902,
     "end_time": "2025-07-30T13:50:08.616900",
     "exception": false,
     "start_time": "2025-07-30T13:50:08.122998",
     "status": "completed"
    },
    "tags": []
   },
   "outputs": [],
   "source": [
    "from fairness_multiverse.conformal import build_cp_groups\n",
    "\n",
    "cp_groups_df = build_cp_groups(pred_sets, y_true, X_test.index, org_test)\n",
    "#needs universe_id and setting"
   ]
  },
  {
   "cell_type": "code",
   "execution_count": 64,
   "id": "01d5802c-663a-4d1f-9d69-e036faaffbf7",
   "metadata": {
    "execution": {
     "iopub.execute_input": "2025-07-30T13:50:08.709966Z",
     "iopub.status.busy": "2025-07-30T13:50:08.709547Z",
     "iopub.status.idle": "2025-07-30T13:50:08.714888Z",
     "shell.execute_reply": "2025-07-30T13:50:08.713817Z"
    },
    "papermill": {
     "duration": 0.060992,
     "end_time": "2025-07-30T13:50:08.716587",
     "exception": false,
     "start_time": "2025-07-30T13:50:08.655595",
     "status": "completed"
    },
    "tags": []
   },
   "outputs": [],
   "source": [
    "#delete\n",
    "#cp_groups_df"
   ]
  },
  {
   "cell_type": "code",
   "execution_count": 65,
   "id": "fa424af1-d1eb-443d-b717-2d279ada8408",
   "metadata": {
    "execution": {
     "iopub.execute_input": "2025-07-30T13:50:08.796498Z",
     "iopub.status.busy": "2025-07-30T13:50:08.795925Z",
     "iopub.status.idle": "2025-07-30T13:50:08.801113Z",
     "shell.execute_reply": "2025-07-30T13:50:08.800150Z"
    },
    "papermill": {
     "duration": 0.04865,
     "end_time": "2025-07-30T13:50:08.817356",
     "exception": false,
     "start_time": "2025-07-30T13:50:08.768706",
     "status": "completed"
    },
    "tags": []
   },
   "outputs": [],
   "source": [
    "#delete\n",
    "#percentage = (cp_groups_df['nongerman_female'] == 1).mean() * 100\n",
    "#print(percentage)\n"
   ]
  },
  {
   "cell_type": "code",
   "execution_count": 66,
   "id": "6cbdab96-b2b2-45af-ad54-d0516db2e28d",
   "metadata": {
    "execution": {
     "iopub.execute_input": "2025-07-30T13:50:08.871837Z",
     "iopub.status.busy": "2025-07-30T13:50:08.871381Z",
     "iopub.status.idle": "2025-07-30T13:50:10.475716Z",
     "shell.execute_reply": "2025-07-30T13:50:10.470833Z"
    },
    "papermill": {
     "duration": 1.63468,
     "end_time": "2025-07-30T13:50:10.478022",
     "exception": false,
     "start_time": "2025-07-30T13:50:08.843342",
     "status": "completed"
    },
    "tags": []
   },
   "outputs": [],
   "source": [
    "# Define covered = 1 if true_label is in the predicted set\n",
    "cp_groups_df['covered'] = cp_groups_df.apply(\n",
    "    lambda r: int(r['true_label'] in r['pred_set']),\n",
    "    axis=1\n",
    ")"
   ]
  },
  {
   "cell_type": "code",
   "execution_count": 67,
   "id": "338ff529-1a6b-4b87-a931-8e4788d52aad",
   "metadata": {
    "execution": {
     "iopub.execute_input": "2025-07-30T13:50:10.554153Z",
     "iopub.status.busy": "2025-07-30T13:50:10.553763Z",
     "iopub.status.idle": "2025-07-30T13:50:10.559054Z",
     "shell.execute_reply": "2025-07-30T13:50:10.558171Z"
    },
    "papermill": {
     "duration": 0.056473,
     "end_time": "2025-07-30T13:50:10.560829",
     "exception": false,
     "start_time": "2025-07-30T13:50:10.504356",
     "status": "completed"
    },
    "tags": []
   },
   "outputs": [],
   "source": [
    "#cp_groups_df"
   ]
  },
  {
   "cell_type": "code",
   "execution_count": 68,
   "id": "90032e27-66df-4540-9169-4e89cfbaa758",
   "metadata": {
    "execution": {
     "iopub.execute_input": "2025-07-30T13:50:10.630250Z",
     "iopub.status.busy": "2025-07-30T13:50:10.629854Z",
     "iopub.status.idle": "2025-07-30T13:50:10.643579Z",
     "shell.execute_reply": "2025-07-30T13:50:10.642620Z"
    },
    "papermill": {
     "duration": 0.056979,
     "end_time": "2025-07-30T13:50:10.645616",
     "exception": false,
     "start_time": "2025-07-30T13:50:10.588637",
     "status": "completed"
    },
    "tags": []
   },
   "outputs": [],
   "source": [
    "subgroups = ['frau1','nongerman','nongerman_male','nongerman_female']\n",
    "\n",
    "# Conditional coverage for subgroup==1\n",
    "cond_coverage = {\n",
    "    g: cp_groups_df.loc[cp_groups_df[g]==1, 'covered'].mean()\n",
    "    for g in subgroups\n",
    "}"
   ]
  },
  {
   "cell_type": "code",
   "execution_count": 69,
   "id": "1e348fb1-b9c3-45bc-ba23-f016827a7e0d",
   "metadata": {
    "execution": {
     "iopub.execute_input": "2025-07-30T13:50:10.709110Z",
     "iopub.status.busy": "2025-07-30T13:50:10.708677Z",
     "iopub.status.idle": "2025-07-30T13:50:10.716747Z",
     "shell.execute_reply": "2025-07-30T13:50:10.715647Z"
    },
    "papermill": {
     "duration": 0.042815,
     "end_time": "2025-07-30T13:50:10.721246",
     "exception": false,
     "start_time": "2025-07-30T13:50:10.678431",
     "status": "completed"
    },
    "tags": []
   },
   "outputs": [
    {
     "data": {
      "text/plain": [
       "{'frau1': 0.912252325111201,\n",
       " 'nongerman': 0.9095604333913434,\n",
       " 'nongerman_male': 0.9258758893992615,\n",
       " 'nongerman_female': 0.8825633383010432}"
      ]
     },
     "execution_count": 69,
     "metadata": {},
     "output_type": "execute_result"
    }
   ],
   "source": [
    "cond_coverage"
   ]
  },
  {
   "cell_type": "code",
   "execution_count": 70,
   "id": "f5093324-c3dd-4d63-bc4c-8d945e5c8bbb",
   "metadata": {
    "execution": {
     "iopub.execute_input": "2025-07-30T13:50:10.783322Z",
     "iopub.status.busy": "2025-07-30T13:50:10.782356Z",
     "iopub.status.idle": "2025-07-30T13:50:10.790636Z",
     "shell.execute_reply": "2025-07-30T13:50:10.789636Z"
    },
    "papermill": {
     "duration": 0.041813,
     "end_time": "2025-07-30T13:50:10.793040",
     "exception": false,
     "start_time": "2025-07-30T13:50:10.751227",
     "status": "completed"
    },
    "tags": []
   },
   "outputs": [],
   "source": [
    "for subgroup, cov in cond_coverage.items():\n",
    "    cp_metrics_df[f\"cov_{subgroup}\"] = cov"
   ]
  },
  {
   "cell_type": "code",
   "execution_count": 71,
   "id": "6e872e10-dbe5-49e8-b554-5030c98ff75d",
   "metadata": {
    "execution": {
     "iopub.execute_input": "2025-07-30T13:50:10.849240Z",
     "iopub.status.busy": "2025-07-30T13:50:10.848819Z",
     "iopub.status.idle": "2025-07-30T13:50:10.884357Z",
     "shell.execute_reply": "2025-07-30T13:50:10.883375Z"
    },
    "papermill": {
     "duration": 0.065094,
     "end_time": "2025-07-30T13:50:10.886536",
     "exception": false,
     "start_time": "2025-07-30T13:50:10.821442",
     "status": "completed"
    },
    "tags": []
   },
   "outputs": [
    {
     "data": {
      "text/html": [
       "<div>\n",
       "<style scoped>\n",
       "    .dataframe tbody tr th:only-of-type {\n",
       "        vertical-align: middle;\n",
       "    }\n",
       "\n",
       "    .dataframe tbody tr th {\n",
       "        vertical-align: top;\n",
       "    }\n",
       "\n",
       "    .dataframe thead th {\n",
       "        text-align: right;\n",
       "    }\n",
       "</style>\n",
       "<table border=\"1\" class=\"dataframe\">\n",
       "  <thead>\n",
       "    <tr style=\"text-align: right;\">\n",
       "      <th></th>\n",
       "      <th>universe_id</th>\n",
       "      <th>universe_training_size</th>\n",
       "      <th>universe_scale</th>\n",
       "      <th>universe_model</th>\n",
       "      <th>universe_exclude_features</th>\n",
       "      <th>universe_exclude_subgroups</th>\n",
       "      <th>q_hat</th>\n",
       "      <th>coverage</th>\n",
       "      <th>avg_size</th>\n",
       "      <th>cov_frau1</th>\n",
       "      <th>cov_nongerman</th>\n",
       "      <th>cov_nongerman_male</th>\n",
       "      <th>cov_nongerman_female</th>\n",
       "    </tr>\n",
       "  </thead>\n",
       "  <tbody>\n",
       "    <tr>\n",
       "      <th>0</th>\n",
       "      <td>d6c5398553f5cbd03a0a209fc1c8b0e9</td>\n",
       "      <td>5k</td>\n",
       "      <td>do-not-scale</td>\n",
       "      <td>rf</td>\n",
       "      <td>age</td>\n",
       "      <td>keep-all</td>\n",
       "      <td>0.67</td>\n",
       "      <td>0.914703</td>\n",
       "      <td>1.14538</td>\n",
       "      <td>0.912252</td>\n",
       "      <td>0.90956</td>\n",
       "      <td>0.925876</td>\n",
       "      <td>0.882563</td>\n",
       "    </tr>\n",
       "  </tbody>\n",
       "</table>\n",
       "</div>"
      ],
      "text/plain": [
       "                        universe_id universe_training_size universe_scale  \\\n",
       "0  d6c5398553f5cbd03a0a209fc1c8b0e9                     5k   do-not-scale   \n",
       "\n",
       "  universe_model universe_exclude_features universe_exclude_subgroups  q_hat  \\\n",
       "0             rf                       age                   keep-all   0.67   \n",
       "\n",
       "   coverage  avg_size  cov_frau1  cov_nongerman  cov_nongerman_male  \\\n",
       "0  0.914703   1.14538   0.912252        0.90956            0.925876   \n",
       "\n",
       "   cov_nongerman_female  \n",
       "0              0.882563  "
      ]
     },
     "execution_count": 71,
     "metadata": {},
     "output_type": "execute_result"
    }
   ],
   "source": [
    "cp_metrics_df"
   ]
  },
  {
   "cell_type": "markdown",
   "id": "33774451",
   "metadata": {
    "papermill": {
     "duration": 0.030011,
     "end_time": "2025-07-30T13:50:10.948405",
     "exception": false,
     "start_time": "2025-07-30T13:50:10.918394",
     "status": "completed"
    },
    "tags": []
   },
   "source": [
    "# (Fairness) Metrics"
   ]
  },
  {
   "cell_type": "code",
   "execution_count": 72,
   "id": "debc5d62",
   "metadata": {
    "execution": {
     "iopub.execute_input": "2025-07-30T13:50:11.006065Z",
     "iopub.status.busy": "2025-07-30T13:50:11.005025Z",
     "iopub.status.idle": "2025-07-30T13:50:11.027089Z",
     "shell.execute_reply": "2025-07-30T13:50:11.026163Z"
    },
    "papermill": {
     "duration": 0.053611,
     "end_time": "2025-07-30T13:50:11.028823",
     "exception": false,
     "start_time": "2025-07-30T13:50:10.975212",
     "status": "completed"
    },
    "tags": []
   },
   "outputs": [],
   "source": [
    "# do I need to include maxdeutsch1.missing?\n",
    "\n",
    "import numpy as np\n",
    "\n",
    "colname_to_bin = \"maxdeutsch1\"\n",
    "majority_value = org_train[colname_to_bin].mode()[0]\n",
    "\n",
    "org_test[\"majmin\"] = np.where(org_test[colname_to_bin] == majority_value, \"majority\", \"minority\")"
   ]
  },
  {
   "cell_type": "code",
   "execution_count": 73,
   "id": "06a50de5",
   "metadata": {
    "execution": {
     "iopub.execute_input": "2025-07-30T13:50:11.083541Z",
     "iopub.status.busy": "2025-07-30T13:50:11.083185Z",
     "iopub.status.idle": "2025-07-30T13:50:13.431830Z",
     "shell.execute_reply": "2025-07-30T13:50:13.430834Z"
    },
    "papermill": {
     "duration": 2.37802,
     "end_time": "2025-07-30T13:50:13.433905",
     "exception": false,
     "start_time": "2025-07-30T13:50:11.055885",
     "status": "completed"
    },
    "tags": []
   },
   "outputs": [],
   "source": [
    "example_universe = universe.copy()\n",
    "example_universe[\"cutoff\"] = example_universe[\"cutoff\"][0]\n",
    "example_universe[\"eval_fairness_grouping\"] = example_universe[\"eval_fairness_grouping\"][0]\n",
    "fairness_dict, metric_frame = universe_analysis.compute_metrics(\n",
    "    example_universe,\n",
    "    y_pred_prob=probs_test,\n",
    "    y_test=y_true,\n",
    "    org_test=org_test,\n",
    ")"
   ]
  },
  {
   "cell_type": "markdown",
   "id": "f95d4e02",
   "metadata": {
    "papermill": {
     "duration": 0.029289,
     "end_time": "2025-07-30T13:50:13.492502",
     "exception": false,
     "start_time": "2025-07-30T13:50:13.463213",
     "status": "completed"
    },
    "tags": []
   },
   "source": [
    "# Overall"
   ]
  },
  {
   "cell_type": "markdown",
   "id": "bdee4871",
   "metadata": {
    "papermill": {
     "duration": 0.0288,
     "end_time": "2025-07-30T13:50:13.550220",
     "exception": false,
     "start_time": "2025-07-30T13:50:13.521420",
     "status": "completed"
    },
    "tags": []
   },
   "source": [
    "Fairness\n",
    "Main fairness target: Equalized Odds. Seems to be a better fit than equal opportunity, since we're not only interested in Y = 1. Seems to be a better fit than demographic parity, since we also care about accuracy, not just equal distribution of preds.\n",
    "\n",
    "Pick column for computation of fairness metrics\n",
    "\n",
    "Performance\n",
    "Overall performance measures, most interesting in relation to the measures split by group below"
   ]
  },
  {
   "cell_type": "code",
   "execution_count": 74,
   "id": "c4e067c6",
   "metadata": {
    "execution": {
     "iopub.execute_input": "2025-07-30T13:50:13.610477Z",
     "iopub.status.busy": "2025-07-30T13:50:13.609560Z",
     "iopub.status.idle": "2025-07-30T13:50:13.618837Z",
     "shell.execute_reply": "2025-07-30T13:50:13.617875Z"
    },
    "papermill": {
     "duration": 0.041596,
     "end_time": "2025-07-30T13:50:13.620628",
     "exception": false,
     "start_time": "2025-07-30T13:50:13.579032",
     "status": "completed"
    },
    "tags": []
   },
   "outputs": [
    {
     "data": {
      "text/plain": [
       "accuracy                   0.201304\n",
       "balanced accuracy          0.534660\n",
       "f1                         0.239995\n",
       "precision                  0.136682\n",
       "false positive rate        0.913736\n",
       "false negative rate        0.016945\n",
       "selection rate             0.922628\n",
       "count                  89710.000000\n",
       "dtype: float64"
      ]
     },
     "execution_count": 74,
     "metadata": {},
     "output_type": "execute_result"
    }
   ],
   "source": [
    "metric_frame.overall"
   ]
  },
  {
   "cell_type": "markdown",
   "id": "e968fe9d",
   "metadata": {
    "papermill": {
     "duration": 0.039481,
     "end_time": "2025-07-30T13:50:13.690560",
     "exception": false,
     "start_time": "2025-07-30T13:50:13.651079",
     "status": "completed"
    },
    "tags": []
   },
   "source": [
    "By Group"
   ]
  },
  {
   "cell_type": "code",
   "execution_count": 75,
   "id": "ec325bce",
   "metadata": {
    "execution": {
     "iopub.execute_input": "2025-07-30T13:50:13.753080Z",
     "iopub.status.busy": "2025-07-30T13:50:13.752563Z",
     "iopub.status.idle": "2025-07-30T13:50:13.769046Z",
     "shell.execute_reply": "2025-07-30T13:50:13.768008Z"
    },
    "papermill": {
     "duration": 0.051457,
     "end_time": "2025-07-30T13:50:13.770659",
     "exception": false,
     "start_time": "2025-07-30T13:50:13.719202",
     "status": "completed"
    },
    "tags": []
   },
   "outputs": [
    {
     "data": {
      "text/html": [
       "<div>\n",
       "<style scoped>\n",
       "    .dataframe tbody tr th:only-of-type {\n",
       "        vertical-align: middle;\n",
       "    }\n",
       "\n",
       "    .dataframe tbody tr th {\n",
       "        vertical-align: top;\n",
       "    }\n",
       "\n",
       "    .dataframe thead th {\n",
       "        text-align: right;\n",
       "    }\n",
       "</style>\n",
       "<table border=\"1\" class=\"dataframe\">\n",
       "  <thead>\n",
       "    <tr style=\"text-align: right;\">\n",
       "      <th></th>\n",
       "      <th>accuracy</th>\n",
       "      <th>balanced accuracy</th>\n",
       "      <th>f1</th>\n",
       "      <th>precision</th>\n",
       "      <th>false positive rate</th>\n",
       "      <th>false negative rate</th>\n",
       "      <th>selection rate</th>\n",
       "      <th>count</th>\n",
       "    </tr>\n",
       "    <tr>\n",
       "      <th>majmin</th>\n",
       "      <th></th>\n",
       "      <th></th>\n",
       "      <th></th>\n",
       "      <th></th>\n",
       "      <th></th>\n",
       "      <th></th>\n",
       "      <th></th>\n",
       "      <th></th>\n",
       "    </tr>\n",
       "  </thead>\n",
       "  <tbody>\n",
       "    <tr>\n",
       "      <th>majority</th>\n",
       "      <td>0.195012</td>\n",
       "      <td>0.532606</td>\n",
       "      <td>0.245566</td>\n",
       "      <td>0.140138</td>\n",
       "      <td>0.926254</td>\n",
       "      <td>0.008534</td>\n",
       "      <td>0.934871</td>\n",
       "      <td>69170.0</td>\n",
       "    </tr>\n",
       "    <tr>\n",
       "      <th>minority</th>\n",
       "      <td>0.222493</td>\n",
       "      <td>0.539103</td>\n",
       "      <td>0.219910</td>\n",
       "      <td>0.124337</td>\n",
       "      <td>0.872386</td>\n",
       "      <td>0.049409</td>\n",
       "      <td>0.881402</td>\n",
       "      <td>20540.0</td>\n",
       "    </tr>\n",
       "  </tbody>\n",
       "</table>\n",
       "</div>"
      ],
      "text/plain": [
       "          accuracy  balanced accuracy        f1  precision  \\\n",
       "majmin                                                       \n",
       "majority  0.195012           0.532606  0.245566   0.140138   \n",
       "minority  0.222493           0.539103  0.219910   0.124337   \n",
       "\n",
       "          false positive rate  false negative rate  selection rate    count  \n",
       "majmin                                                                       \n",
       "majority             0.926254             0.008534        0.934871  69170.0  \n",
       "minority             0.872386             0.049409        0.881402  20540.0  "
      ]
     },
     "execution_count": 75,
     "metadata": {},
     "output_type": "execute_result"
    }
   ],
   "source": [
    "metric_frame.by_group"
   ]
  },
  {
   "cell_type": "code",
   "execution_count": 76,
   "id": "a9ddbe63",
   "metadata": {
    "execution": {
     "iopub.execute_input": "2025-07-30T13:50:13.833915Z",
     "iopub.status.busy": "2025-07-30T13:50:13.833415Z",
     "iopub.status.idle": "2025-07-30T13:50:16.011188Z",
     "shell.execute_reply": "2025-07-30T13:50:16.008706Z"
    },
    "papermill": {
     "duration": 2.219645,
     "end_time": "2025-07-30T13:50:16.020994",
     "exception": false,
     "start_time": "2025-07-30T13:50:13.801349",
     "status": "completed"
    },
    "tags": []
   },
   "outputs": [
    {
     "data": {
      "text/plain": [
       "array([[<Axes: title={'center': 'accuracy'}, xlabel='majmin'>,\n",
       "        <Axes: title={'center': 'balanced accuracy'}, xlabel='majmin'>,\n",
       "        <Axes: title={'center': 'f1'}, xlabel='majmin'>],\n",
       "       [<Axes: title={'center': 'precision'}, xlabel='majmin'>,\n",
       "        <Axes: title={'center': 'false positive rate'}, xlabel='majmin'>,\n",
       "        <Axes: title={'center': 'false negative rate'}, xlabel='majmin'>],\n",
       "       [<Axes: title={'center': 'selection rate'}, xlabel='majmin'>,\n",
       "        <Axes: title={'center': 'count'}, xlabel='majmin'>,\n",
       "        <Axes: xlabel='majmin'>]], dtype=object)"
      ]
     },
     "execution_count": 76,
     "metadata": {},
     "output_type": "execute_result"
    },
    {
     "data": {
      "image/png": "[encoded data removed]",
      "text/plain": [
       "<Figure size 1200x800 with 9 Axes>"
      ]
     },
     "metadata": {},
     "output_type": "display_data"
    }
   ],
   "source": [
    "# In a graphic\n",
    "metric_frame.by_group.plot.bar(\n",
    "    subplots=True,\n",
    "    layout=[3, 3],\n",
    "    legend=False,\n",
    "    figsize=[12, 8],\n",
    "    title=\"Show all metrics\",\n",
    ")"
   ]
  },
  {
   "cell_type": "markdown",
   "id": "f57a0bac",
   "metadata": {
    "papermill": {
     "duration": 0.019597,
     "end_time": "2025-07-30T13:50:16.061103",
     "exception": false,
     "start_time": "2025-07-30T13:50:16.041506",
     "status": "completed"
    },
    "tags": []
   },
   "source": [
    "# Final Output"
   ]
  },
  {
   "cell_type": "code",
   "execution_count": 77,
   "id": "96d280a3",
   "metadata": {
    "execution": {
     "iopub.execute_input": "2025-07-30T13:50:16.094503Z",
     "iopub.status.busy": "2025-07-30T13:50:16.093837Z",
     "iopub.status.idle": "2025-07-30T13:50:16.101912Z",
     "shell.execute_reply": "2025-07-30T13:50:16.101038Z"
    },
    "papermill": {
     "duration": 0.027198,
     "end_time": "2025-07-30T13:50:16.103584",
     "exception": false,
     "start_time": "2025-07-30T13:50:16.076386",
     "status": "completed"
    },
    "tags": []
   },
   "outputs": [
    {
     "data": {
      "text/plain": [
       "4"
      ]
     },
     "execution_count": 77,
     "metadata": {},
     "output_type": "execute_result"
    }
   ],
   "source": [
    "sub_universes = universe_analysis.generate_sub_universes()\n",
    "len(sub_universes)"
   ]
  },
  {
   "cell_type": "code",
   "execution_count": 78,
   "id": "92adf7ba",
   "metadata": {
    "execution": {
     "iopub.execute_input": "2025-07-30T13:50:16.168110Z",
     "iopub.status.busy": "2025-07-30T13:50:16.167653Z",
     "iopub.status.idle": "2025-07-30T13:50:16.183258Z",
     "shell.execute_reply": "2025-07-30T13:50:16.182213Z"
    },
    "papermill": {
     "duration": 0.051242,
     "end_time": "2025-07-30T13:50:16.185157",
     "exception": false,
     "start_time": "2025-07-30T13:50:16.133915",
     "status": "completed"
    },
    "tags": []
   },
   "outputs": [],
   "source": [
    "def filter_sub_universe_data(sub_universe, org_test):\n",
    "    # Keep all rows — no filtering\n",
    "    keep_rows_mask = np.ones(org_test.shape[0], dtype=bool)\n",
    "\n",
    "    print(f\"[INFO] Keeping all rows: {keep_rows_mask.sum()} rows retained.\")\n",
    "    return keep_rows_mask"
   ]
  },
  {
   "cell_type": "code",
   "execution_count": 79,
   "id": "4a759155",
   "metadata": {
    "execution": {
     "iopub.execute_input": "2025-07-30T13:50:16.251245Z",
     "iopub.status.busy": "2025-07-30T13:50:16.250765Z",
     "iopub.status.idle": "2025-07-30T13:50:26.598698Z",
     "shell.execute_reply": "2025-07-30T13:50:26.597331Z"
    },
    "papermill": {
     "duration": 10.381206,
     "end_time": "2025-07-30T13:50:26.600451",
     "exception": false,
     "start_time": "2025-07-30T13:50:16.219245",
     "status": "completed"
    },
    "tags": []
   },
   "outputs": [
    {
     "name": "stdout",
     "output_type": "stream",
     "text": [
      "Stopping execution_time clock.\n",
      "[INFO] Keeping all rows: 89710 rows retained.\n"
     ]
    },
    {
     "name": "stdout",
     "output_type": "stream",
     "text": [
      "[INFO] Keeping all rows: 89710 rows retained.\n"
     ]
    },
    {
     "name": "stdout",
     "output_type": "stream",
     "text": [
      "[INFO] Keeping all rows: 89710 rows retained.\n"
     ]
    },
    {
     "name": "stdout",
     "output_type": "stream",
     "text": [
      "[INFO] Keeping all rows: 89710 rows retained.\n"
     ]
    },
    {
     "data": {
      "text/html": [
       "<div>\n",
       "<style scoped>\n",
       "    .dataframe tbody tr th:only-of-type {\n",
       "        vertical-align: middle;\n",
       "    }\n",
       "\n",
       "    .dataframe tbody tr th {\n",
       "        vertical-align: top;\n",
       "    }\n",
       "\n",
       "    .dataframe thead th {\n",
       "        text-align: right;\n",
       "    }\n",
       "</style>\n",
       "<table border=\"1\" class=\"dataframe\">\n",
       "  <thead>\n",
       "    <tr style=\"text-align: right;\">\n",
       "      <th></th>\n",
       "      <th>run_no</th>\n",
       "      <th>universe_id</th>\n",
       "      <th>universe_settings</th>\n",
       "      <th>execution_time</th>\n",
       "      <th>test_size_n</th>\n",
       "      <th>test_size_frac</th>\n",
       "      <th>fair_main_equalized_odds_difference</th>\n",
       "      <th>fair_main_equalized_odds_ratio</th>\n",
       "      <th>fair_main_demographic_parity_difference</th>\n",
       "      <th>fair_main_demographic_parity_ratio</th>\n",
       "      <th>...</th>\n",
       "      <th>perf_grp_precision_0</th>\n",
       "      <th>perf_grp_precision_1</th>\n",
       "      <th>perf_grp_false positive rate_0</th>\n",
       "      <th>perf_grp_false positive rate_1</th>\n",
       "      <th>perf_grp_false negative rate_0</th>\n",
       "      <th>perf_grp_false negative rate_1</th>\n",
       "      <th>perf_grp_selection rate_0</th>\n",
       "      <th>perf_grp_selection rate_1</th>\n",
       "      <th>perf_grp_count_0</th>\n",
       "      <th>perf_grp_count_1</th>\n",
       "    </tr>\n",
       "  </thead>\n",
       "  <tbody>\n",
       "    <tr>\n",
       "      <th>0</th>\n",
       "      <td>12</td>\n",
       "      <td>d6c5398553f5cbd03a0a209fc1c8b0e9</td>\n",
       "      <td>{\"cutoff\": \"quantile_0.1\", \"eval_fairness_grou...</td>\n",
       "      <td>31.906681</td>\n",
       "      <td>89710</td>\n",
       "      <td>1.0</td>\n",
       "      <td>0.053867</td>\n",
       "      <td>0.941844</td>\n",
       "      <td>0.053468</td>\n",
       "      <td>0.942807</td>\n",
       "      <td>...</td>\n",
       "      <td>NaN</td>\n",
       "      <td>NaN</td>\n",
       "      <td>NaN</td>\n",
       "      <td>NaN</td>\n",
       "      <td>NaN</td>\n",
       "      <td>NaN</td>\n",
       "      <td>NaN</td>\n",
       "      <td>NaN</td>\n",
       "      <td>NaN</td>\n",
       "      <td>NaN</td>\n",
       "    </tr>\n",
       "    <tr>\n",
       "      <th>0</th>\n",
       "      <td>12</td>\n",
       "      <td>d6c5398553f5cbd03a0a209fc1c8b0e9</td>\n",
       "      <td>{\"cutoff\": \"quantile_0.1\", \"eval_fairness_grou...</td>\n",
       "      <td>31.906681</td>\n",
       "      <td>89710</td>\n",
       "      <td>1.0</td>\n",
       "      <td>0.053867</td>\n",
       "      <td>0.941844</td>\n",
       "      <td>0.053468</td>\n",
       "      <td>0.942807</td>\n",
       "      <td>...</td>\n",
       "      <td>0.124337</td>\n",
       "      <td>0.140138</td>\n",
       "      <td>0.872386</td>\n",
       "      <td>0.926254</td>\n",
       "      <td>0.049409</td>\n",
       "      <td>0.008534</td>\n",
       "      <td>0.881402</td>\n",
       "      <td>0.934871</td>\n",
       "      <td>20540.0</td>\n",
       "      <td>69170.0</td>\n",
       "    </tr>\n",
       "    <tr>\n",
       "      <th>0</th>\n",
       "      <td>12</td>\n",
       "      <td>d6c5398553f5cbd03a0a209fc1c8b0e9</td>\n",
       "      <td>{\"cutoff\": \"quantile_0.25\", \"eval_fairness_gro...</td>\n",
       "      <td>31.906681</td>\n",
       "      <td>89710</td>\n",
       "      <td>1.0</td>\n",
       "      <td>0.094677</td>\n",
       "      <td>0.900144</td>\n",
       "      <td>0.069334</td>\n",
       "      <td>0.910787</td>\n",
       "      <td>...</td>\n",
       "      <td>NaN</td>\n",
       "      <td>NaN</td>\n",
       "      <td>NaN</td>\n",
       "      <td>NaN</td>\n",
       "      <td>NaN</td>\n",
       "      <td>NaN</td>\n",
       "      <td>NaN</td>\n",
       "      <td>NaN</td>\n",
       "      <td>NaN</td>\n",
       "      <td>NaN</td>\n",
       "    </tr>\n",
       "    <tr>\n",
       "      <th>0</th>\n",
       "      <td>12</td>\n",
       "      <td>d6c5398553f5cbd03a0a209fc1c8b0e9</td>\n",
       "      <td>{\"cutoff\": \"quantile_0.25\", \"eval_fairness_gro...</td>\n",
       "      <td>31.906681</td>\n",
       "      <td>89710</td>\n",
       "      <td>1.0</td>\n",
       "      <td>0.094677</td>\n",
       "      <td>0.900144</td>\n",
       "      <td>0.069334</td>\n",
       "      <td>0.910787</td>\n",
       "      <td>...</td>\n",
       "      <td>0.139005</td>\n",
       "      <td>0.161207</td>\n",
       "      <td>0.688862</td>\n",
       "      <td>0.751141</td>\n",
       "      <td>0.146537</td>\n",
       "      <td>0.051860</td>\n",
       "      <td>0.707838</td>\n",
       "      <td>0.777172</td>\n",
       "      <td>20540.0</td>\n",
       "      <td>69170.0</td>\n",
       "    </tr>\n",
       "  </tbody>\n",
       "</table>\n",
       "<p>4 rows × 50 columns</p>\n",
       "</div>"
      ],
      "text/plain": [
       "  run_no                       universe_id  \\\n",
       "0     12  d6c5398553f5cbd03a0a209fc1c8b0e9   \n",
       "0     12  d6c5398553f5cbd03a0a209fc1c8b0e9   \n",
       "0     12  d6c5398553f5cbd03a0a209fc1c8b0e9   \n",
       "0     12  d6c5398553f5cbd03a0a209fc1c8b0e9   \n",
       "\n",
       "                                   universe_settings  execution_time  \\\n",
       "0  {\"cutoff\": \"quantile_0.1\", \"eval_fairness_grou...       31.906681   \n",
       "0  {\"cutoff\": \"quantile_0.1\", \"eval_fairness_grou...       31.906681   \n",
       "0  {\"cutoff\": \"quantile_0.25\", \"eval_fairness_gro...       31.906681   \n",
       "0  {\"cutoff\": \"quantile_0.25\", \"eval_fairness_gro...       31.906681   \n",
       "\n",
       "   test_size_n  test_size_frac  fair_main_equalized_odds_difference  \\\n",
       "0        89710             1.0                             0.053867   \n",
       "0        89710             1.0                             0.053867   \n",
       "0        89710             1.0                             0.094677   \n",
       "0        89710             1.0                             0.094677   \n",
       "\n",
       "   fair_main_equalized_odds_ratio  fair_main_demographic_parity_difference  \\\n",
       "0                        0.941844                                 0.053468   \n",
       "0                        0.941844                                 0.053468   \n",
       "0                        0.900144                                 0.069334   \n",
       "0                        0.900144                                 0.069334   \n",
       "\n",
       "   fair_main_demographic_parity_ratio  ...  perf_grp_precision_0  \\\n",
       "0                            0.942807  ...                   NaN   \n",
       "0                            0.942807  ...              0.124337   \n",
       "0                            0.910787  ...                   NaN   \n",
       "0                            0.910787  ...              0.139005   \n",
       "\n",
       "   perf_grp_precision_1  perf_grp_false positive rate_0  \\\n",
       "0                   NaN                             NaN   \n",
       "0              0.140138                        0.872386   \n",
       "0                   NaN                             NaN   \n",
       "0              0.161207                        0.688862   \n",
       "\n",
       "   perf_grp_false positive rate_1  perf_grp_false negative rate_0  \\\n",
       "0                             NaN                             NaN   \n",
       "0                        0.926254                        0.049409   \n",
       "0                             NaN                             NaN   \n",
       "0                        0.751141                        0.146537   \n",
       "\n",
       "   perf_grp_false negative rate_1  perf_grp_selection rate_0  \\\n",
       "0                             NaN                        NaN   \n",
       "0                        0.008534                   0.881402   \n",
       "0                             NaN                        NaN   \n",
       "0                        0.051860                   0.707838   \n",
       "\n",
       "   perf_grp_selection rate_1  perf_grp_count_0  perf_grp_count_1  \n",
       "0                        NaN               NaN               NaN  \n",
       "0                   0.934871           20540.0           69170.0  \n",
       "0                        NaN               NaN               NaN  \n",
       "0                   0.777172           20540.0           69170.0  \n",
       "\n",
       "[4 rows x 50 columns]"
      ]
     },
     "execution_count": 79,
     "metadata": {},
     "output_type": "execute_result"
    }
   ],
   "source": [
    "final_output = universe_analysis.generate_final_output(\n",
    "    y_pred_prob=probs_test,\n",
    "    y_test=y_true,\n",
    "    org_test=org_test,\n",
    "    filter_data=filter_sub_universe_data,\n",
    "    cp_metrics_df=cp_metrics_df,\n",
    "    save=True,\n",
    ")\n",
    "final_output"
   ]
  },
  {
   "cell_type": "code",
   "execution_count": null,
   "id": "721ff514-cb11-46f8-b6fc-50392f74b5cb",
   "metadata": {
    "papermill": {
     "duration": 0.030483,
     "end_time": "2025-07-30T13:50:26.663488",
     "exception": false,
     "start_time": "2025-07-30T13:50:26.633005",
     "status": "completed"
    },
    "tags": []
   },
   "outputs": [],
   "source": []
  }
 ],
 "metadata": {
  "celltoolbar": "Tags",
  "kernelspec": {
   "display_name": "Python (CMA Fairness)",
   "language": "python",
   "name": "cma_fair_env"
  },
  "language_info": {
   "codemirror_mode": {
    "name": "ipython",
    "version": 3
   },
   "file_extension": ".py",
   "mimetype": "text/x-python",
   "name": "python",
   "nbconvert_exporter": "python",
   "pygments_lexer": "ipython3",
   "version": "3.10.12"
  },
  "papermill": {
   "default_parameters": {},
   "duration": 46.671604,
   "end_time": "2025-07-30T13:50:27.513651",
   "environment_variables": {},
   "exception": null,
   "input_path": "universe_analysis.ipynb",
   "output_path": "output/runs/12/notebooks/m_12-d6c5398553f5cbd03a0a209fc1c8b0e9.ipynb",
   "parameters": {
    "output_dir": "output",
    "run_no": "12",
    "seed": "2023",
    "universe": "{\"cutoff\": [\"quantile_0.1\", \"quantile_0.25\"], \"eval_fairness_grouping\": [\"majority-minority\", \"nationality-all\"], \"exclude_features\": \"age\", \"exclude_subgroups\": \"keep-all\", \"model\": \"rf\", \"scale\": \"do-not-scale\", \"training_size\": \"5k\", \"training_year\": \"2014\"}",
    "universe_id": "d6c5398553f5cbd03a0a209fc1c8b0e9"
   },
   "start_time": "2025-07-30T13:49:40.842047",
   "version": "2.6.0"
  }
 },
 "nbformat": 4,
 "nbformat_minor": 5
}