{
 "cells": [
  {
   "cell_type": "code",
   "execution_count": 1,
   "id": "f159f837-637b-42ba-96b5-ec9a68c44524",
   "metadata": {
    "execution": {
     "iopub.execute_input": "2025-07-30T13:57:49.007061Z",
     "iopub.status.busy": "2025-07-30T13:57:49.006381Z",
     "iopub.status.idle": "2025-07-30T13:57:49.020257Z",
     "shell.execute_reply": "2025-07-30T13:57:49.019340Z"
    },
    "papermill": {
     "duration": 0.036105,
     "end_time": "2025-07-30T13:57:49.021803",
     "exception": false,
     "start_time": "2025-07-30T13:57:48.985698",
     "status": "completed"
    },
    "tags": []
   },
   "outputs": [
    {
     "name": "stdout",
     "output_type": "stream",
     "text": [
      "/dss/dsshome1/0C/ra93lal2/cma/CMA_Fairness_v2\n"
     ]
    },
    {
     "name": "stderr",
     "output_type": "stream",
     "text": [
      "/dss/dsshome1/0C/ra93lal2/.local/share/virtualenvs/CMA_Fairness_v2-3j10GkSs/lib/python3.10/site-packages/IPython/core/magics/osm.py:393: UserWarning: This is now an optional IPython functionality, using bookmarks requires you to install the `pickleshare` library.\n",
      "  bkms = self.shell.db.get('bookmarks', {})\n",
      "/dss/dsshome1/0C/ra93lal2/.local/share/virtualenvs/CMA_Fairness_v2-3j10GkSs/lib/python3.10/site-packages/IPython/core/magics/osm.py:417: UserWarning: This is now an optional IPython functionality, setting dhist requires you to install the `pickleshare` library.\n",
      "  self.shell.db['dhist'] = compress_dhist(dhist)[-100:]\n"
     ]
    }
   ],
   "source": [
    "%cd ~/cma/CMA_Fairness_v2"
   ]
  },
  {
   "cell_type": "markdown",
   "id": "de2603b9",
   "metadata": {
    "papermill": {
     "duration": 0.019293,
     "end_time": "2025-07-30T13:57:49.060703",
     "exception": false,
     "start_time": "2025-07-30T13:57:49.041410",
     "status": "completed"
    },
    "tags": []
   },
   "source": [
    "The following cell holds the definition of our parameters, these values can be overriden by rendering the with e.g. the following command:\n",
    "\n",
    "papermill -p alpha 0.2 -p ratio 0.3 universe_analysis.ipynb output/test_run.ipynb"
   ]
  },
  {
   "cell_type": "code",
   "execution_count": 2,
   "id": "a80968a0-40bb-4fa9-85ef-2d5eefb01975",
   "metadata": {
    "execution": {
     "iopub.execute_input": "2025-07-30T13:57:49.101366Z",
     "iopub.status.busy": "2025-07-30T13:57:49.100469Z",
     "iopub.status.idle": "2025-07-30T13:57:49.106752Z",
     "shell.execute_reply": "2025-07-30T13:57:49.105684Z"
    },
    "papermill": {
     "duration": 0.028833,
     "end_time": "2025-07-30T13:57:49.108431",
     "exception": false,
     "start_time": "2025-07-30T13:57:49.079598",
     "status": "completed"
    },
    "tags": []
   },
   "outputs": [
    {
     "name": "stdout",
     "output_type": "stream",
     "text": [
      "Current working directory: /dss/dsshome1/0C/ra93lal2/cma/CMA_Fairness_v2\n"
     ]
    }
   ],
   "source": [
    "import os\n",
    "print(\"Current working directory:\", os.getcwd())"
   ]
  },
  {
   "cell_type": "code",
   "execution_count": 3,
   "id": "2dce4c03",
   "metadata": {
    "execution": {
     "iopub.execute_input": "2025-07-30T13:57:49.151020Z",
     "iopub.status.busy": "2025-07-30T13:57:49.150411Z",
     "iopub.status.idle": "2025-07-30T13:57:49.157000Z",
     "shell.execute_reply": "2025-07-30T13:57:49.156069Z"
    },
    "papermill": {
     "duration": 0.029823,
     "end_time": "2025-07-30T13:57:49.158733",
     "exception": false,
     "start_time": "2025-07-30T13:57:49.128910",
     "status": "completed"
    },
    "tags": [
     "parameters"
    ]
   },
   "outputs": [],
   "source": [
    "run_no = 0\n",
    "universe_id = \"test\"\n",
    "universe = {\n",
    "    \"training_size\": \"25k\", # \"25k\", \"5k\", \"1k\"\n",
    "    \"training_year\": \"2014\", # \"2014\", \"2012_14\", \"2010_14\"\n",
    "    \"scale\": \"scale\", # \"scale\", \"do-not-scale\",\n",
    "    #\"stratify_split\": \"target\", # \"none\", \"target\", \"protected-attribute\", \"both\",\n",
    "    \"model\": \"elasticnet\", # \"logreg\", \"penalized_logreg\", \"rf\", \"gbm\", \"elasticnet\"\n",
    "    \"cutoff\": [\"quantile_0.15\", \"quantile_0.30\"],\n",
    "    \"exclude_features\": \"age\", # \"none\", \"nationality\", \"sex\", \"nationality-sex\", \"age\"\n",
    "    \"exclude_subgroups\": \"keep-all\", # \"keep-all\", \"drop-non-german\"\n",
    "    \"eval_fairness_grouping\": [\"majority-minority\", \"nationality-all\"]\n",
    "}\n",
    "\n",
    "output_dir=\"./output\"\n",
    "seed=0"
   ]
  },
  {
   "cell_type": "code",
   "execution_count": 4,
   "id": "2a1623b6",
   "metadata": {
    "execution": {
     "iopub.execute_input": "2025-07-30T13:57:49.200179Z",
     "iopub.status.busy": "2025-07-30T13:57:49.199376Z",
     "iopub.status.idle": "2025-07-30T13:57:49.205743Z",
     "shell.execute_reply": "2025-07-30T13:57:49.204820Z"
    },
    "papermill": {
     "duration": 0.028476,
     "end_time": "2025-07-30T13:57:49.207320",
     "exception": false,
     "start_time": "2025-07-30T13:57:49.178844",
     "status": "completed"
    },
    "tags": [
     "injected-parameters"
    ]
   },
   "outputs": [],
   "source": [
    "# Parameters\n",
    "universe_id = \"7170ab0067abcca7ad911b3aeac6b314\"\n",
    "run_no = \"12\"\n",
    "universe = \"{\\\"cutoff\\\": [\\\"quantile_0.1\\\", \\\"quantile_0.25\\\"], \\\"eval_fairness_grouping\\\": [\\\"majority-minority\\\", \\\"nationality-all\\\"], \\\"exclude_features\\\": \\\"none\\\", \\\"exclude_subgroups\\\": \\\"keep-all\\\", \\\"model\\\": \\\"elasticnet\\\", \\\"scale\\\": \\\"scale\\\", \\\"training_size\\\": \\\"5k\\\", \\\"training_year\\\": \\\"2012_14\\\"}\"\n",
    "output_dir = \"output\"\n",
    "seed = \"2023\"\n"
   ]
  },
  {
   "cell_type": "code",
   "execution_count": 5,
   "id": "1650acaf",
   "metadata": {
    "execution": {
     "iopub.execute_input": "2025-07-30T13:57:49.248098Z",
     "iopub.status.busy": "2025-07-30T13:57:49.247616Z",
     "iopub.status.idle": "2025-07-30T13:57:49.253667Z",
     "shell.execute_reply": "2025-07-30T13:57:49.252603Z"
    },
    "papermill": {
     "duration": 0.028099,
     "end_time": "2025-07-30T13:57:49.255099",
     "exception": false,
     "start_time": "2025-07-30T13:57:49.227000",
     "status": "completed"
    },
    "tags": []
   },
   "outputs": [],
   "source": [
    "import json\n",
    "# Parse universe into dict if it is passed as a string\n",
    "if isinstance(universe, str):\n",
    "    universe = json.loads(universe)"
   ]
  },
  {
   "cell_type": "code",
   "execution_count": 6,
   "id": "16620c48",
   "metadata": {
    "execution": {
     "iopub.execute_input": "2025-07-30T13:57:49.295449Z",
     "iopub.status.busy": "2025-07-30T13:57:49.294850Z",
     "iopub.status.idle": "2025-07-30T13:57:49.338941Z",
     "shell.execute_reply": "2025-07-30T13:57:49.338052Z"
    },
    "papermill": {
     "duration": 0.067,
     "end_time": "2025-07-30T13:57:49.340719",
     "exception": false,
     "start_time": "2025-07-30T13:57:49.273719",
     "status": "completed"
    },
    "tags": []
   },
   "outputs": [],
   "source": [
    "# Auto-reload the custom package\n",
    "%load_ext autoreload\n",
    "%autoreload 1\n",
    "%aimport fairness_multiverse"
   ]
  },
  {
   "cell_type": "code",
   "execution_count": 7,
   "id": "01c5c9f3",
   "metadata": {
    "execution": {
     "iopub.execute_input": "2025-07-30T13:57:49.422885Z",
     "iopub.status.busy": "2025-07-30T13:57:49.422370Z",
     "iopub.status.idle": "2025-07-30T13:57:51.214400Z",
     "shell.execute_reply": "2025-07-30T13:57:51.213247Z"
    },
    "papermill": {
     "duration": 1.857157,
     "end_time": "2025-07-30T13:57:51.216521",
     "exception": false,
     "start_time": "2025-07-30T13:57:49.359364",
     "status": "completed"
    },
    "tags": []
   },
   "outputs": [],
   "source": [
    "from fairness_multiverse.universe import UniverseAnalysis\n",
    "\n",
    "universe_analysis = UniverseAnalysis(\n",
    "    run_no = run_no,\n",
    "    universe_id = universe_id,\n",
    "    universe = universe,\n",
    "    output_dir=output_dir,\n",
    ")"
   ]
  },
  {
   "cell_type": "code",
   "execution_count": 8,
   "id": "106241f5",
   "metadata": {
    "execution": {
     "iopub.execute_input": "2025-07-30T13:57:51.262014Z",
     "iopub.status.busy": "2025-07-30T13:57:51.261270Z",
     "iopub.status.idle": "2025-07-30T13:57:51.268123Z",
     "shell.execute_reply": "2025-07-30T13:57:51.267057Z"
    },
    "papermill": {
     "duration": 0.030075,
     "end_time": "2025-07-30T13:57:51.269649",
     "exception": false,
     "start_time": "2025-07-30T13:57:51.239574",
     "status": "completed"
    },
    "tags": []
   },
   "outputs": [
    {
     "name": "stdout",
     "output_type": "stream",
     "text": [
      "Using Seed: 2023\n"
     ]
    }
   ],
   "source": [
    "import numpy as np\n",
    "parsed_seed = int(seed)\n",
    "np.random.seed(parsed_seed)\n",
    "print(f\"Using Seed: {parsed_seed}\")"
   ]
  },
  {
   "cell_type": "markdown",
   "id": "e0ebdc57",
   "metadata": {
    "papermill": {
     "duration": 0.020346,
     "end_time": "2025-07-30T13:57:51.311380",
     "exception": false,
     "start_time": "2025-07-30T13:57:51.291034",
     "status": "completed"
    },
    "tags": []
   },
   "source": [
    "# Loading Data"
   ]
  },
  {
   "cell_type": "markdown",
   "id": "681925a3",
   "metadata": {
    "papermill": {
     "duration": 0.021063,
     "end_time": "2025-07-30T13:57:51.353108",
     "exception": false,
     "start_time": "2025-07-30T13:57:51.332045",
     "status": "completed"
    },
    "tags": []
   },
   "source": [
    "Load siab_train, siab_test, siab_calib and/or \n",
    "load siab_train_features, siab_train_labels"
   ]
  },
  {
   "cell_type": "code",
   "execution_count": 9,
   "id": "f0496b8a",
   "metadata": {
    "execution": {
     "iopub.execute_input": "2025-07-30T13:57:51.395768Z",
     "iopub.status.busy": "2025-07-30T13:57:51.395117Z",
     "iopub.status.idle": "2025-07-30T13:58:04.823738Z",
     "shell.execute_reply": "2025-07-30T13:58:04.822511Z"
    },
    "papermill": {
     "duration": 13.451568,
     "end_time": "2025-07-30T13:58:04.825548",
     "exception": false,
     "start_time": "2025-07-30T13:57:51.373980",
     "status": "completed"
    },
    "tags": []
   },
   "outputs": [
    {
     "name": "stdout",
     "output_type": "stream",
     "text": [
      "Loading SIAB data from cache: data/siab_cached.csv.gz\n"
     ]
    },
    {
     "name": "stdout",
     "output_type": "stream",
     "text": [
      "(643690, 164)\n"
     ]
    }
   ],
   "source": [
    "from pathlib import Path\n",
    "import pandas as pd\n",
    "\n",
    "# File paths\n",
    "raw_file = Path(\"data/raw/siab.csv\")\n",
    "cache_file = Path(\"data/siab_cached.csv.gz\")\n",
    "\n",
    "# Ensure cache directory exists\n",
    "cache_file.parent.mkdir(parents=True, exist_ok=True)\n",
    "\n",
    "# Load with simple caching\n",
    "if cache_file.exists():\n",
    "    print(f\"Loading SIAB data from cache: {cache_file}\")\n",
    "    siab = pd.read_csv(cache_file, compression='gzip')\n",
    "else:\n",
    "    print(f\"Cache not found. Reading raw SIAB data: {raw_file}\")\n",
    "    siab = pd.read_csv(raw_file)\n",
    "    siab.to_csv(cache_file, index=False, compression='gzip')\n",
    "    print(f\"Cached SIAB data to: {cache_file}\")\n",
    "\n",
    "# Now use `siab` DataFrame as needed\n",
    "print(siab.shape)"
   ]
  },
  {
   "cell_type": "code",
   "execution_count": 10,
   "id": "db0ca512-5f53-4dba-abdb-a2888bca41ba",
   "metadata": {
    "execution": {
     "iopub.execute_input": "2025-07-30T13:58:04.876138Z",
     "iopub.status.busy": "2025-07-30T13:58:04.875619Z",
     "iopub.status.idle": "2025-07-30T13:58:04.881371Z",
     "shell.execute_reply": "2025-07-30T13:58:04.880455Z"
    },
    "papermill": {
     "duration": 0.03124,
     "end_time": "2025-07-30T13:58:04.882994",
     "exception": false,
     "start_time": "2025-07-30T13:58:04.851754",
     "status": "completed"
    },
    "tags": []
   },
   "outputs": [],
   "source": [
    "#siab"
   ]
  },
  {
   "cell_type": "code",
   "execution_count": 11,
   "id": "a0edb063",
   "metadata": {
    "execution": {
     "iopub.execute_input": "2025-07-30T13:58:04.916215Z",
     "iopub.status.busy": "2025-07-30T13:58:04.915790Z",
     "iopub.status.idle": "2025-07-30T13:58:04.920308Z",
     "shell.execute_reply": "2025-07-30T13:58:04.919489Z"
    },
    "papermill": {
     "duration": 0.018419,
     "end_time": "2025-07-30T13:58:04.921605",
     "exception": false,
     "start_time": "2025-07-30T13:58:04.903186",
     "status": "completed"
    },
    "tags": []
   },
   "outputs": [],
   "source": [
    "#import pandas as pd\n",
    "#\n",
    "#X_train = pd.read_csv(\"./data/X_train.csv\")\n",
    "#y_train = pd.read_csv(\"./data/y_train.csv\")"
   ]
  },
  {
   "cell_type": "code",
   "execution_count": 12,
   "id": "63d08085",
   "metadata": {
    "execution": {
     "iopub.execute_input": "2025-07-30T13:58:04.946444Z",
     "iopub.status.busy": "2025-07-30T13:58:04.945946Z",
     "iopub.status.idle": "2025-07-30T13:58:04.950518Z",
     "shell.execute_reply": "2025-07-30T13:58:04.949806Z"
    },
    "papermill": {
     "duration": 0.01857,
     "end_time": "2025-07-30T13:58:04.951879",
     "exception": false,
     "start_time": "2025-07-30T13:58:04.933309",
     "status": "completed"
    },
    "tags": []
   },
   "outputs": [],
   "source": [
    "#X_test = pd.read_csv(\"./data/X_test.csv\")\n",
    "#y_true = pd.read_csv(\"./data/y_test.csv\")"
   ]
  },
  {
   "cell_type": "code",
   "execution_count": 13,
   "id": "98a8d0fa-1d3d-4ed8-bb2c-281470e24add",
   "metadata": {
    "execution": {
     "iopub.execute_input": "2025-07-30T13:58:04.998018Z",
     "iopub.status.busy": "2025-07-30T13:58:04.997521Z",
     "iopub.status.idle": "2025-07-30T13:58:05.002645Z",
     "shell.execute_reply": "2025-07-30T13:58:05.001735Z"
    },
    "papermill": {
     "duration": 0.030154,
     "end_time": "2025-07-30T13:58:05.004282",
     "exception": false,
     "start_time": "2025-07-30T13:58:04.974128",
     "status": "completed"
    },
    "tags": []
   },
   "outputs": [],
   "source": [
    "# Calibration data for conformal\n",
    "#X_calib = pd.read_csv(\"./data/X_calib.csv\")\n",
    "#y_calib = pd.read_csv(\"./data/y_calib.csv\")"
   ]
  },
  {
   "cell_type": "markdown",
   "id": "997051c5-15bd-4b69-9786-c3001a3ce484",
   "metadata": {
    "papermill": {
     "duration": 0.011421,
     "end_time": "2025-07-30T13:58:05.029220",
     "exception": false,
     "start_time": "2025-07-30T13:58:05.017799",
     "status": "completed"
    },
    "tags": []
   },
   "source": [
    "# Splitting Data and Setting Training Data Size"
   ]
  },
  {
   "cell_type": "code",
   "execution_count": 14,
   "id": "e993b61f-042d-41a6-8c81-f55681f86335",
   "metadata": {
    "execution": {
     "iopub.execute_input": "2025-07-30T13:58:05.052747Z",
     "iopub.status.busy": "2025-07-30T13:58:05.052397Z",
     "iopub.status.idle": "2025-07-30T13:58:05.065291Z",
     "shell.execute_reply": "2025-07-30T13:58:05.064251Z"
    },
    "papermill": {
     "duration": 0.026641,
     "end_time": "2025-07-30T13:58:05.066950",
     "exception": false,
     "start_time": "2025-07-30T13:58:05.040309",
     "status": "completed"
    },
    "tags": []
   },
   "outputs": [],
   "source": [
    "def sample_by_year_size(df,\n",
    "                        training_year: str,\n",
    "                        training_size: str,\n",
    "                        random_state: int = 42):\n",
    "    # --- parse training_year into a list of int years ---\n",
    "    if \"_\" in training_year:\n",
    "        start_str, end_str = training_year.split(\"_\", 1)\n",
    "        start = int(start_str)\n",
    "        end   = int(end_str) if len(end_str) == 4 else (int(end_str) + (start // 100)*100)\n",
    "        years = list(range(start, end + 1))\n",
    "    else:\n",
    "        years = [int(training_year)]\n",
    "\n",
    "    df = df[df[\"year\"].isin(years)].reset_index(drop=True)\n",
    "\n",
    "    # --- map training_size to total number of samples ---\n",
    "    total_map = {\"25k\": 25_000, \"5k\": 5_000, \"1k\": 1_000}\n",
    "    if training_size not in total_map:\n",
    "        return df  # e.g. \"all\"\n",
    "\n",
    "    total_samples = total_map[training_size]\n",
    "    n_years       = len(years)\n",
    "    base          = total_samples // n_years\n",
    "    remainder     = total_samples % n_years\n",
    "\n",
    "    # --- build a dict: year -> how many to sample ---\n",
    "    # give +1 to the first `remainder` years in ascending order\n",
    "    quotas = {\n",
    "        year: base + (1 if idx < remainder else 0)\n",
    "        for idx, year in enumerate(sorted(years))\n",
    "    }\n",
    "\n",
    "    # --- sample per‐year according to the quota dict ---\n",
    "    sampled = (\n",
    "        df\n",
    "        .groupby(\"year\", group_keys=False)\n",
    "        .apply(lambda grp: grp.sample(\n",
    "            n=min(len(grp), quotas[grp.name]),\n",
    "            random_state=random_state))\n",
    "        .reset_index(drop=True)\n",
    "    )\n",
    "\n",
    "    return sampled"
   ]
  },
  {
   "cell_type": "code",
   "execution_count": 15,
   "id": "c0ccd338-0e02-41f3-a09d-f56f9266e3fb",
   "metadata": {
    "execution": {
     "iopub.execute_input": "2025-07-30T13:58:05.113981Z",
     "iopub.status.busy": "2025-07-30T13:58:05.113539Z",
     "iopub.status.idle": "2025-07-30T13:58:05.132975Z",
     "shell.execute_reply": "2025-07-30T13:58:05.132118Z"
    },
    "papermill": {
     "duration": 0.044709,
     "end_time": "2025-07-30T13:58:05.134370",
     "exception": false,
     "start_time": "2025-07-30T13:58:05.089661",
     "status": "completed"
    },
    "tags": []
   },
   "outputs": [
    {
     "data": {
      "text/plain": [
       "'5k'"
      ]
     },
     "execution_count": 15,
     "metadata": {},
     "output_type": "execute_result"
    }
   ],
   "source": [
    "universe[\"training_size\"]"
   ]
  },
  {
   "cell_type": "code",
   "execution_count": 16,
   "id": "ca707fd7-8047-4acd-bfa5-66248fbbf8e6",
   "metadata": {
    "execution": {
     "iopub.execute_input": "2025-07-30T13:58:05.159736Z",
     "iopub.status.busy": "2025-07-30T13:58:05.159190Z",
     "iopub.status.idle": "2025-07-30T13:58:05.165820Z",
     "shell.execute_reply": "2025-07-30T13:58:05.165054Z"
    },
    "papermill": {
     "duration": 0.020512,
     "end_time": "2025-07-30T13:58:05.167159",
     "exception": false,
     "start_time": "2025-07-30T13:58:05.146647",
     "status": "completed"
    },
    "tags": []
   },
   "outputs": [
    {
     "data": {
      "text/plain": [
       "'2012_14'"
      ]
     },
     "execution_count": 16,
     "metadata": {},
     "output_type": "execute_result"
    }
   ],
   "source": [
    "universe[\"training_year\"]"
   ]
  },
  {
   "cell_type": "code",
   "execution_count": 17,
   "id": "aea9c6ef-6f46-42c8-85eb-5a62025c1508",
   "metadata": {
    "execution": {
     "iopub.execute_input": "2025-07-30T13:58:05.196143Z",
     "iopub.status.busy": "2025-07-30T13:58:05.195604Z",
     "iopub.status.idle": "2025-07-30T13:58:05.772381Z",
     "shell.execute_reply": "2025-07-30T13:58:05.771373Z"
    },
    "papermill": {
     "duration": 0.591178,
     "end_time": "2025-07-30T13:58:05.774001",
     "exception": false,
     "start_time": "2025-07-30T13:58:05.182823",
     "status": "completed"
    },
    "tags": []
   },
   "outputs": [],
   "source": [
    "siab_train = sample_by_year_size(siab,\n",
    "                               training_year=universe[\"training_year\"],\n",
    "                               training_size=universe[\"training_size\"])"
   ]
  },
  {
   "cell_type": "code",
   "execution_count": 18,
   "id": "8d3afb32-789d-442c-8d5d-9f5aa8dd2eed",
   "metadata": {
    "execution": {
     "iopub.execute_input": "2025-07-30T13:58:05.815794Z",
     "iopub.status.busy": "2025-07-30T13:58:05.815210Z",
     "iopub.status.idle": "2025-07-30T13:58:05.821395Z",
     "shell.execute_reply": "2025-07-30T13:58:05.820463Z"
    },
    "papermill": {
     "duration": 0.027785,
     "end_time": "2025-07-30T13:58:05.822679",
     "exception": false,
     "start_time": "2025-07-30T13:58:05.794894",
     "status": "completed"
    },
    "tags": []
   },
   "outputs": [
    {
     "data": {
      "text/plain": [
       "(5000, 164)"
      ]
     },
     "execution_count": 18,
     "metadata": {},
     "output_type": "execute_result"
    }
   ],
   "source": [
    "siab_train.shape"
   ]
  },
  {
   "cell_type": "code",
   "execution_count": 19,
   "id": "d582db68-1a4c-47fb-84fc-08518dc1975a",
   "metadata": {
    "execution": {
     "iopub.execute_input": "2025-07-30T13:58:05.848010Z",
     "iopub.status.busy": "2025-07-30T13:58:05.847517Z",
     "iopub.status.idle": "2025-07-30T13:58:05.855463Z",
     "shell.execute_reply": "2025-07-30T13:58:05.854776Z"
    },
    "papermill": {
     "duration": 0.021285,
     "end_time": "2025-07-30T13:58:05.856810",
     "exception": false,
     "start_time": "2025-07-30T13:58:05.835525",
     "status": "completed"
    },
    "tags": []
   },
   "outputs": [
    {
     "data": {
      "text/plain": [
       "year\n",
       "2012    1667\n",
       "2013    1667\n",
       "2014    1666\n",
       "dtype: int64"
      ]
     },
     "metadata": {},
     "output_type": "display_data"
    }
   ],
   "source": [
    "display(siab_train.groupby(\"year\").size())"
   ]
  },
  {
   "cell_type": "code",
   "execution_count": 20,
   "id": "a561edb4-d032-42cb-8256-22eac1111c64",
   "metadata": {
    "execution": {
     "iopub.execute_input": "2025-07-30T13:58:05.881231Z",
     "iopub.status.busy": "2025-07-30T13:58:05.880730Z",
     "iopub.status.idle": "2025-07-30T13:58:06.099929Z",
     "shell.execute_reply": "2025-07-30T13:58:06.099162Z"
    },
    "papermill": {
     "duration": 0.232829,
     "end_time": "2025-07-30T13:58:06.101416",
     "exception": false,
     "start_time": "2025-07-30T13:58:05.868587",
     "status": "completed"
    },
    "tags": []
   },
   "outputs": [],
   "source": [
    "#siab_train = siab_s[siab_s.year < 2015]\n",
    "siab_calib = siab[siab.year == 2015]\n",
    "siab_test = siab[siab.year == 2016]"
   ]
  },
  {
   "cell_type": "code",
   "execution_count": 21,
   "id": "472de16f-c3db-4916-846b-1f0de9cf1746",
   "metadata": {
    "execution": {
     "iopub.execute_input": "2025-07-30T13:58:06.126403Z",
     "iopub.status.busy": "2025-07-30T13:58:06.125672Z",
     "iopub.status.idle": "2025-07-30T13:58:06.132522Z",
     "shell.execute_reply": "2025-07-30T13:58:06.131845Z"
    },
    "papermill": {
     "duration": 0.020735,
     "end_time": "2025-07-30T13:58:06.133772",
     "exception": false,
     "start_time": "2025-07-30T13:58:06.113037",
     "status": "completed"
    },
    "tags": []
   },
   "outputs": [],
   "source": [
    "X_train = siab_train.iloc[:,4:164]\n",
    "y_train = siab_train.iloc[:, [3]]"
   ]
  },
  {
   "cell_type": "code",
   "execution_count": 22,
   "id": "828c96af-f43a-4ed6-ba47-8ac73a47d56c",
   "metadata": {
    "execution": {
     "iopub.execute_input": "2025-07-30T13:58:06.158512Z",
     "iopub.status.busy": "2025-07-30T13:58:06.157786Z",
     "iopub.status.idle": "2025-07-30T13:58:06.207021Z",
     "shell.execute_reply": "2025-07-30T13:58:06.206182Z"
    },
    "papermill": {
     "duration": 0.062656,
     "end_time": "2025-07-30T13:58:06.208386",
     "exception": false,
     "start_time": "2025-07-30T13:58:06.145730",
     "status": "completed"
    },
    "tags": []
   },
   "outputs": [],
   "source": [
    "X_calib = siab_calib.iloc[:,4:164]\n",
    "y_calib = siab_calib.iloc[:, [3]]"
   ]
  },
  {
   "cell_type": "code",
   "execution_count": 23,
   "id": "c34be9c3-6bd6-476e-acd3-845840e303be",
   "metadata": {
    "execution": {
     "iopub.execute_input": "2025-07-30T13:58:06.233306Z",
     "iopub.status.busy": "2025-07-30T13:58:06.232812Z",
     "iopub.status.idle": "2025-07-30T13:58:06.280011Z",
     "shell.execute_reply": "2025-07-30T13:58:06.279203Z"
    },
    "papermill": {
     "duration": 0.060959,
     "end_time": "2025-07-30T13:58:06.281497",
     "exception": false,
     "start_time": "2025-07-30T13:58:06.220538",
     "status": "completed"
    },
    "tags": []
   },
   "outputs": [],
   "source": [
    "X_test = siab_test.iloc[:,4:164]\n",
    "y_true = siab_test.iloc[:, [3]]"
   ]
  },
  {
   "cell_type": "markdown",
   "id": "9901737e-04df-44f0-9100-f5ad144ed040",
   "metadata": {
    "papermill": {
     "duration": 0.010914,
     "end_time": "2025-07-30T13:58:06.304536",
     "exception": false,
     "start_time": "2025-07-30T13:58:06.293622",
     "status": "completed"
    },
    "tags": []
   },
   "source": [
    "# Splitting Data and Setting Training Data Size OLD VERSION"
   ]
  },
  {
   "cell_type": "code",
   "execution_count": 24,
   "id": "acbc8f7d-8fc8-4e86-8c59-5dcb0f58384b",
   "metadata": {
    "execution": {
     "iopub.execute_input": "2025-07-30T13:58:06.328118Z",
     "iopub.status.busy": "2025-07-30T13:58:06.327607Z",
     "iopub.status.idle": "2025-07-30T13:58:06.332396Z",
     "shell.execute_reply": "2025-07-30T13:58:06.331638Z"
    },
    "papermill": {
     "duration": 0.018252,
     "end_time": "2025-07-30T13:58:06.333735",
     "exception": false,
     "start_time": "2025-07-30T13:58:06.315483",
     "status": "completed"
    },
    "tags": []
   },
   "outputs": [],
   "source": [
    "#def sample_by_year(df, training_size, random_state=42):\n",
    "#    if training_size == \"2014\":\n",
    "#        return df[df[\"year\"] == 2014].reset_index(drop=True)\n",
    "#    \n",
    "#    size_map = {\n",
    "#        \"25k\": 5000,\n",
    "#        \"5k\": 1000,\n",
    "#        \"1k\": 200\n",
    "#    }\n",
    "#\n",
    "#    if training_size not in size_map:\n",
    "#        return df.reset_index(drop=True)  # use all data\n",
    "#\n",
    "#    n_per_year = size_map[training_size]\n",
    "#    grouped = df.groupby(\"year\")\n",
    "#    sampled = grouped.apply(lambda x: x.sample(n=min(n_per_year, len(x)), random_state=random_state))\n",
    "#    return sampled.reset_index(drop=True)"
   ]
  },
  {
   "cell_type": "code",
   "execution_count": 25,
   "id": "6d931f52-beaf-43ff-9e78-9d44a448d54e",
   "metadata": {
    "execution": {
     "iopub.execute_input": "2025-07-30T13:58:06.358664Z",
     "iopub.status.busy": "2025-07-30T13:58:06.358160Z",
     "iopub.status.idle": "2025-07-30T13:58:06.362471Z",
     "shell.execute_reply": "2025-07-30T13:58:06.361775Z"
    },
    "papermill": {
     "duration": 0.017668,
     "end_time": "2025-07-30T13:58:06.363765",
     "exception": false,
     "start_time": "2025-07-30T13:58:06.346097",
     "status": "completed"
    },
    "tags": []
   },
   "outputs": [],
   "source": [
    "#siab_s = sample_by_year(siab, universe[\"training_size\"])"
   ]
  },
  {
   "cell_type": "code",
   "execution_count": 26,
   "id": "5db0a40e-a4e2-4920-be85-b12ae061d70d",
   "metadata": {
    "execution": {
     "iopub.execute_input": "2025-07-30T13:58:06.390180Z",
     "iopub.status.busy": "2025-07-30T13:58:06.389685Z",
     "iopub.status.idle": "2025-07-30T13:58:06.393868Z",
     "shell.execute_reply": "2025-07-30T13:58:06.393121Z"
    },
    "papermill": {
     "duration": 0.018862,
     "end_time": "2025-07-30T13:58:06.395233",
     "exception": false,
     "start_time": "2025-07-30T13:58:06.376371",
     "status": "completed"
    },
    "tags": []
   },
   "outputs": [],
   "source": [
    "#display(siab_s.groupby(\"year\").size())"
   ]
  },
  {
   "cell_type": "code",
   "execution_count": 27,
   "id": "e6c733c5",
   "metadata": {
    "execution": {
     "iopub.execute_input": "2025-07-30T13:58:06.421349Z",
     "iopub.status.busy": "2025-07-30T13:58:06.420845Z",
     "iopub.status.idle": "2025-07-30T13:58:06.509855Z",
     "shell.execute_reply": "2025-07-30T13:58:06.509111Z"
    },
    "papermill": {
     "duration": 0.103462,
     "end_time": "2025-07-30T13:58:06.511333",
     "exception": false,
     "start_time": "2025-07-30T13:58:06.407871",
     "status": "completed"
    },
    "tags": []
   },
   "outputs": [],
   "source": [
    "# Auxiliary data needed downstream in the pipeline\n",
    "\n",
    "org_train = X_train.copy()\n",
    "org_test = X_test.copy()\n",
    "org_calib = X_calib.copy()"
   ]
  },
  {
   "cell_type": "code",
   "execution_count": 28,
   "id": "1466abac-c6da-4492-a62f-4240ae3783af",
   "metadata": {
    "execution": {
     "iopub.execute_input": "2025-07-30T13:58:06.536296Z",
     "iopub.status.busy": "2025-07-30T13:58:06.535798Z",
     "iopub.status.idle": "2025-07-30T13:58:06.540404Z",
     "shell.execute_reply": "2025-07-30T13:58:06.539680Z"
    },
    "papermill": {
     "duration": 0.018289,
     "end_time": "2025-07-30T13:58:06.541781",
     "exception": false,
     "start_time": "2025-07-30T13:58:06.523492",
     "status": "completed"
    },
    "tags": []
   },
   "outputs": [],
   "source": [
    "# put in other script?\n",
    "# Group sizes\n",
    "\n",
    "#def calculate_percentages(df, df_name):\n",
    "#    total_entries = len(df)\n",
    "#\n",
    "#    female_pct = (df['frau1'] == 1).mean() * 100\n",
    "#    non_german_pct = ((df['maxdeutsch1'] == 0) & (df['maxdeutsch.Missing.'] == 0)).mean() * 100\n",
    "#    non_german_male_pct = ((df['frau1'] == 0) & (df['maxdeutsch1'] == 0) & (df['maxdeutsch.Missing.'] == 0)).mean() * 100\n",
    "#    non_german_female_pct = ((df['frau1'] == 1) & (df['maxdeutsch1'] == 0) & (df['maxdeutsch.Missing.'] == 0)).mean() * 100\n",
    "#\n",
    "#    print(f\"--- {df_name} ---\")\n",
    "#    print(f\"Female: {female_pct:.2f}%\")\n",
    "#    print(f\"Non-German: {non_german_pct:.2f}%\")\n",
    "#    print(f\"Non-German Male: {non_german_male_pct:.2f}%\")\n",
    "#    print(f\"Non-German Female: {non_german_female_pct:.2f}%\\n\")\n",
    "#\n",
    "## Calculate for each DataFrame\n",
    "#calculate_percentages(siab_calib, \"siab_calib\")\n",
    "#calculate_percentages(siab_test, \"siab_test\")\n",
    "#calculate_percentages(siab_train, \"siab_train\")"
   ]
  },
  {
   "cell_type": "markdown",
   "id": "0a4a1b33",
   "metadata": {
    "papermill": {
     "duration": 0.011652,
     "end_time": "2025-07-30T13:58:06.565888",
     "exception": false,
     "start_time": "2025-07-30T13:58:06.554236",
     "status": "completed"
    },
    "tags": []
   },
   "source": [
    "# Preprocessing Data"
   ]
  },
  {
   "cell_type": "code",
   "execution_count": 29,
   "id": "ca879031",
   "metadata": {
    "execution": {
     "iopub.execute_input": "2025-07-30T13:58:06.590261Z",
     "iopub.status.busy": "2025-07-30T13:58:06.589640Z",
     "iopub.status.idle": "2025-07-30T13:58:06.594710Z",
     "shell.execute_reply": "2025-07-30T13:58:06.594031Z"
    },
    "papermill": {
     "duration": 0.018835,
     "end_time": "2025-07-30T13:58:06.596004",
     "exception": false,
     "start_time": "2025-07-30T13:58:06.577169",
     "status": "completed"
    },
    "tags": []
   },
   "outputs": [],
   "source": [
    "# EXCLUDE PROTECTED FEATURES\n",
    "# ----------------------\n",
    "# \"exclude_features\": \"none\", # \"nationality\", \"sex\", \"nationality-sex\"\n",
    "\n",
    "excluded_features = universe[\"exclude_features\"].split(\"-\") # split, e.g.: \"nationality-sex\" -> [\"nationality\", \"sex\"]\n",
    "excluded_features_dictionary = {\n",
    "    \"nationality\": [\"maxdeutsch1\", \"maxdeutsch.Missing.\"],\n",
    "    \"sex\": [\"frau1\"],\n",
    "    \"age\": [\"age\"],\n",
    "}\n"
   ]
  },
  {
   "cell_type": "code",
   "execution_count": 30,
   "id": "b745ac60",
   "metadata": {
    "execution": {
     "iopub.execute_input": "2025-07-30T13:58:06.621255Z",
     "iopub.status.busy": "2025-07-30T13:58:06.620761Z",
     "iopub.status.idle": "2025-07-30T13:58:06.625670Z",
     "shell.execute_reply": "2025-07-30T13:58:06.624947Z"
    },
    "papermill": {
     "duration": 0.019012,
     "end_time": "2025-07-30T13:58:06.627349",
     "exception": false,
     "start_time": "2025-07-30T13:58:06.608337",
     "status": "completed"
    },
    "tags": []
   },
   "outputs": [],
   "source": [
    "# Code nice names to column names\n",
    "\n",
    "excluded_features_columns = [\n",
    "    excluded_features_dictionary[f] for f in excluded_features if len(f) > 0 and f != \"none\"\n",
    "]"
   ]
  },
  {
   "cell_type": "code",
   "execution_count": 31,
   "id": "f84f73a2",
   "metadata": {
    "execution": {
     "iopub.execute_input": "2025-07-30T13:58:06.677883Z",
     "iopub.status.busy": "2025-07-30T13:58:06.676849Z",
     "iopub.status.idle": "2025-07-30T13:58:06.684681Z",
     "shell.execute_reply": "2025-07-30T13:58:06.683481Z"
    },
    "papermill": {
     "duration": 0.034862,
     "end_time": "2025-07-30T13:58:06.686352",
     "exception": false,
     "start_time": "2025-07-30T13:58:06.651490",
     "status": "completed"
    },
    "tags": []
   },
   "outputs": [],
   "source": [
    "from utils import flatten_once\n",
    "\n",
    "excluded_features_columns = flatten_once(excluded_features_columns)"
   ]
  },
  {
   "cell_type": "code",
   "execution_count": 32,
   "id": "884dea22",
   "metadata": {
    "execution": {
     "iopub.execute_input": "2025-07-30T13:58:06.737461Z",
     "iopub.status.busy": "2025-07-30T13:58:06.736434Z",
     "iopub.status.idle": "2025-07-30T13:58:06.746428Z",
     "shell.execute_reply": "2025-07-30T13:58:06.742258Z"
    },
    "papermill": {
     "duration": 0.038647,
     "end_time": "2025-07-30T13:58:06.749237",
     "exception": false,
     "start_time": "2025-07-30T13:58:06.710590",
     "status": "completed"
    },
    "tags": []
   },
   "outputs": [],
   "source": [
    "if len(excluded_features_columns) > 0:\n",
    "    print(f\"Dropping features: {excluded_features_columns}\")\n",
    "    X_train.drop(excluded_features_columns, axis=1, inplace=True)"
   ]
  },
  {
   "cell_type": "code",
   "execution_count": 33,
   "id": "95ab8b16",
   "metadata": {
    "execution": {
     "iopub.execute_input": "2025-07-30T13:58:06.777950Z",
     "iopub.status.busy": "2025-07-30T13:58:06.777367Z",
     "iopub.status.idle": "2025-07-30T13:58:06.782679Z",
     "shell.execute_reply": "2025-07-30T13:58:06.781854Z"
    },
    "papermill": {
     "duration": 0.019626,
     "end_time": "2025-07-30T13:58:06.783930",
     "exception": false,
     "start_time": "2025-07-30T13:58:06.764304",
     "status": "completed"
    },
    "tags": []
   },
   "outputs": [],
   "source": [
    "if len(excluded_features_columns) > 0:\n",
    "    print(f\"Dropping features: {excluded_features_columns}\")\n",
    "    X_test.drop(excluded_features_columns, axis=1, inplace=True)"
   ]
  },
  {
   "cell_type": "code",
   "execution_count": 34,
   "id": "1853aaf5-fb9f-46cb-a2b5-8ea4ae2237e4",
   "metadata": {
    "execution": {
     "iopub.execute_input": "2025-07-30T13:58:06.810485Z",
     "iopub.status.busy": "2025-07-30T13:58:06.809996Z",
     "iopub.status.idle": "2025-07-30T13:58:06.815019Z",
     "shell.execute_reply": "2025-07-30T13:58:06.814313Z"
    },
    "papermill": {
     "duration": 0.018986,
     "end_time": "2025-07-30T13:58:06.816404",
     "exception": false,
     "start_time": "2025-07-30T13:58:06.797418",
     "status": "completed"
    },
    "tags": []
   },
   "outputs": [],
   "source": [
    "if len(excluded_features_columns) > 0:\n",
    "    print(f\"Dropping features: {excluded_features_columns}\")\n",
    "    X_calib.drop(excluded_features_columns, axis=1, inplace=True)"
   ]
  },
  {
   "cell_type": "code",
   "execution_count": 35,
   "id": "6727d079-03e5-481e-9d38-292a90b7a0a8",
   "metadata": {
    "execution": {
     "iopub.execute_input": "2025-07-30T13:58:06.842357Z",
     "iopub.status.busy": "2025-07-30T13:58:06.842015Z",
     "iopub.status.idle": "2025-07-30T13:58:06.846102Z",
     "shell.execute_reply": "2025-07-30T13:58:06.845319Z"
    },
    "papermill": {
     "duration": 0.01828,
     "end_time": "2025-07-30T13:58:06.847280",
     "exception": false,
     "start_time": "2025-07-30T13:58:06.829000",
     "status": "completed"
    },
    "tags": []
   },
   "outputs": [],
   "source": [
    "# SPLIT & STRATIFY DATA\n",
    "# ----------------------"
   ]
  },
  {
   "cell_type": "code",
   "execution_count": 36,
   "id": "76c4dc6d",
   "metadata": {
    "execution": {
     "iopub.execute_input": "2025-07-30T13:58:06.872676Z",
     "iopub.status.busy": "2025-07-30T13:58:06.872286Z",
     "iopub.status.idle": "2025-07-30T13:58:06.877067Z",
     "shell.execute_reply": "2025-07-30T13:58:06.876315Z"
    },
    "papermill": {
     "duration": 0.018719,
     "end_time": "2025-07-30T13:58:06.878353",
     "exception": false,
     "start_time": "2025-07-30T13:58:06.859634",
     "status": "completed"
    },
    "tags": []
   },
   "outputs": [],
   "source": [
    "# EXCLUDE CERTAIN SUBGROUPS\n",
    "# ----------------------\n",
    "\n",
    "mode = universe.get(\"exclude_subgroups\", \"keep-all\") \n",
    "# Fetches the exclude_subgroups setting from the universe dict.\n",
    "# Defaults to \"keep-all\" if the key is missing."
   ]
  },
  {
   "cell_type": "code",
   "execution_count": 37,
   "id": "21994072",
   "metadata": {
    "execution": {
     "iopub.execute_input": "2025-07-30T13:58:06.924661Z",
     "iopub.status.busy": "2025-07-30T13:58:06.923831Z",
     "iopub.status.idle": "2025-07-30T13:58:06.930166Z",
     "shell.execute_reply": "2025-07-30T13:58:06.929210Z"
    },
    "papermill": {
     "duration": 0.03295,
     "end_time": "2025-07-30T13:58:06.933234",
     "exception": false,
     "start_time": "2025-07-30T13:58:06.900284",
     "status": "completed"
    },
    "tags": []
   },
   "outputs": [],
   "source": [
    "if mode == \"keep-all\":\n",
    "    keep_mask = pd.Series(True, index=org_train.index)\n",
    "\n",
    "# org_train contains the original feature columns from features_org (in Simson)\n",
    "# features_org contains unprocessed features, for me X_train at beginning ???\n",
    "# For keep-all, creates a boolean Series (keep_mask) of all True, so no rows are removed.\n",
    "\n",
    "elif mode == \"drop-non-german\":\n",
    "    keep_mask = org_train[\"maxdeutsch1\"] == 1 # ??? what about missing values?\n",
    "\n",
    "else:\n",
    "    raise ValueError(f\"Unsupported mode for exclude_subgroups: {mode}\")\n"
   ]
  },
  {
   "cell_type": "code",
   "execution_count": 38,
   "id": "71651440",
   "metadata": {
    "execution": {
     "iopub.execute_input": "2025-07-30T13:58:06.982769Z",
     "iopub.status.busy": "2025-07-30T13:58:06.982414Z",
     "iopub.status.idle": "2025-07-30T13:58:06.988889Z",
     "shell.execute_reply": "2025-07-30T13:58:06.987673Z"
    },
    "papermill": {
     "duration": 0.033012,
     "end_time": "2025-07-30T13:58:06.991016",
     "exception": false,
     "start_time": "2025-07-30T13:58:06.958004",
     "status": "completed"
    },
    "tags": []
   },
   "outputs": [],
   "source": [
    "n_drop = (~keep_mask).sum() # Calculates how many rows are set to be dropped\n",
    "if n_drop > 0:\n",
    "    pct = n_drop / len(keep_mask) * 100\n",
    "    print(f\"Dropping {n_drop} rows ({pct:.2f}%) where mode='{mode}'\")"
   ]
  },
  {
   "cell_type": "code",
   "execution_count": 39,
   "id": "5fb8eee5",
   "metadata": {
    "execution": {
     "iopub.execute_input": "2025-07-30T13:58:07.055332Z",
     "iopub.status.busy": "2025-07-30T13:58:07.054649Z",
     "iopub.status.idle": "2025-07-30T13:58:07.065081Z",
     "shell.execute_reply": "2025-07-30T13:58:07.064076Z"
    },
    "papermill": {
     "duration": 0.044431,
     "end_time": "2025-07-30T13:58:07.067440",
     "exception": false,
     "start_time": "2025-07-30T13:58:07.023009",
     "status": "completed"
    },
    "tags": []
   },
   "outputs": [],
   "source": [
    "X_train = X_train[keep_mask]"
   ]
  },
  {
   "cell_type": "code",
   "execution_count": 40,
   "id": "b202bb3a",
   "metadata": {
    "execution": {
     "iopub.execute_input": "2025-07-30T13:58:07.133746Z",
     "iopub.status.busy": "2025-07-30T13:58:07.133062Z",
     "iopub.status.idle": "2025-07-30T13:58:07.140964Z",
     "shell.execute_reply": "2025-07-30T13:58:07.139952Z"
    },
    "papermill": {
     "duration": 0.043739,
     "end_time": "2025-07-30T13:58:07.142624",
     "exception": false,
     "start_time": "2025-07-30T13:58:07.098885",
     "status": "completed"
    },
    "tags": []
   },
   "outputs": [],
   "source": [
    "y_train = y_train[keep_mask]"
   ]
  },
  {
   "cell_type": "markdown",
   "id": "493e2ac3",
   "metadata": {
    "papermill": {
     "duration": 0.021496,
     "end_time": "2025-07-30T13:58:07.186123",
     "exception": false,
     "start_time": "2025-07-30T13:58:07.164627",
     "status": "completed"
    },
    "tags": []
   },
   "source": [
    "# Model Training"
   ]
  },
  {
   "cell_type": "code",
   "execution_count": 41,
   "id": "679e1268",
   "metadata": {
    "execution": {
     "iopub.execute_input": "2025-07-30T13:58:07.231430Z",
     "iopub.status.busy": "2025-07-30T13:58:07.230763Z",
     "iopub.status.idle": "2025-07-30T13:58:07.336439Z",
     "shell.execute_reply": "2025-07-30T13:58:07.335536Z"
    },
    "papermill": {
     "duration": 0.130578,
     "end_time": "2025-07-30T13:58:07.338404",
     "exception": false,
     "start_time": "2025-07-30T13:58:07.207826",
     "status": "completed"
    },
    "tags": []
   },
   "outputs": [],
   "source": [
    "from sklearn.linear_model import LogisticRegression\n",
    "from sklearn.ensemble import GradientBoostingClassifier, RandomForestClassifier\n",
    "\n",
    "if (universe[\"model\"] == \"logreg\"):\n",
    "    model = LogisticRegression() #penalty=\"none\") #, solver=\"newton-cg\", max_iter=1) # include random_state=19 ?\n",
    "elif (universe[\"model\"] == \"penalized_logreg\"):\n",
    "    model = LogisticRegression(penalty=\"l2\", C=1.0) #, solver=\"newton-cg\", max_iter=1)\n",
    "elif (universe[\"model\"] == \"rf\"):\n",
    "    model = RandomForestClassifier(n_estimators=100, n_jobs=-1)\n",
    "elif (universe[\"model\"] == \"gbm\"):\n",
    "    model = GradientBoostingClassifier()\n",
    "elif (universe[\"model\"] == \"elasticnet\"):\n",
    "    model = LogisticRegression(penalty = 'elasticnet', solver = 'saga', l1_ratio = 0.5, max_iter=5000) # which solver to use?\n",
    "else:\n",
    "    raise \"Unsupported universe.model\""
   ]
  },
  {
   "cell_type": "code",
   "execution_count": 42,
   "id": "0cc8f744",
   "metadata": {
    "execution": {
     "iopub.execute_input": "2025-07-30T13:58:07.388844Z",
     "iopub.status.busy": "2025-07-30T13:58:07.388309Z",
     "iopub.status.idle": "2025-07-30T13:58:07.395104Z",
     "shell.execute_reply": "2025-07-30T13:58:07.394132Z"
    },
    "papermill": {
     "duration": 0.033128,
     "end_time": "2025-07-30T13:58:07.396848",
     "exception": false,
     "start_time": "2025-07-30T13:58:07.363720",
     "status": "completed"
    },
    "tags": []
   },
   "outputs": [],
   "source": [
    "import numpy as np\n",
    "from sklearn.pipeline import Pipeline\n",
    "from sklearn.preprocessing import StandardScaler\n",
    "\n",
    "model = Pipeline([\n",
    "    #(\"continuous_processor\", continuous_processor),\n",
    "    #(\"categorical_preprocessor\", categorical_preprocessor),\n",
    "    (\"scale\", StandardScaler() if universe[\"scale\"] == \"scale\" else None), \n",
    "    (\"model\", model),\n",
    "])"
   ]
  },
  {
   "cell_type": "code",
   "execution_count": 43,
   "id": "9442c04d",
   "metadata": {
    "execution": {
     "iopub.execute_input": "2025-07-30T13:58:07.446616Z",
     "iopub.status.busy": "2025-07-30T13:58:07.446117Z",
     "iopub.status.idle": "2025-07-30T13:58:20.511234Z",
     "shell.execute_reply": "2025-07-30T13:58:20.510353Z"
    },
    "papermill": {
     "duration": 13.091381,
     "end_time": "2025-07-30T13:58:20.512778",
     "exception": false,
     "start_time": "2025-07-30T13:58:07.421397",
     "status": "completed"
    },
    "tags": []
   },
   "outputs": [
    {
     "data": {
      "text/html": [
       "<style>#sk-container-id-1 {color: black;background-color: white;}#sk-container-id-1 pre{padding: 0;}#sk-container-id-1 div.sk-toggleable {background-color: white;}#sk-container-id-1 label.sk-toggleable__label {cursor: pointer;display: block;width: 100%;margin-bottom: 0;padding: 0.3em;box-sizing: border-box;text-align: center;}#sk-container-id-1 label.sk-toggleable__label-arrow:before {content: \"▸\";float: left;margin-right: 0.25em;color: #696969;}#sk-container-id-1 label.sk-toggleable__label-arrow:hover:before {color: black;}#sk-container-id-1 div.sk-estimator:hover label.sk-toggleable__label-arrow:before {color: black;}#sk-container-id-1 div.sk-toggleable__content {max-height: 0;max-width: 0;overflow: hidden;text-align: left;background-color: #f0f8ff;}#sk-container-id-1 div.sk-toggleable__content pre {margin: 0.2em;color: black;border-radius: 0.25em;background-color: #f0f8ff;}#sk-container-id-1 input.sk-toggleable__control:checked~div.sk-toggleable__content {max-height: 200px;max-width: 100%;overflow: auto;}#sk-container-id-1 input.sk-toggleable__control:checked~label.sk-toggleable__label-arrow:before {content: \"▾\";}#sk-container-id-1 div.sk-estimator input.sk-toggleable__control:checked~label.sk-toggleable__label {background-color: #d4ebff;}#sk-container-id-1 div.sk-label input.sk-toggleable__control:checked~label.sk-toggleable__label {background-color: #d4ebff;}#sk-container-id-1 input.sk-hidden--visually {border: 0;clip: rect(1px 1px 1px 1px);clip: rect(1px, 1px, 1px, 1px);height: 1px;margin: -1px;overflow: hidden;padding: 0;position: absolute;width: 1px;}#sk-container-id-1 div.sk-estimator {font-family: monospace;background-color: #f0f8ff;border: 1px dotted black;border-radius: 0.25em;box-sizing: border-box;margin-bottom: 0.5em;}#sk-container-id-1 div.sk-estimator:hover {background-color: #d4ebff;}#sk-container-id-1 div.sk-parallel-item::after {content: \"\";width: 100%;border-bottom: 1px solid gray;flex-grow: 1;}#sk-container-id-1 div.sk-label:hover label.sk-toggleable__label {background-color: #d4ebff;}#sk-container-id-1 div.sk-serial::before {content: \"\";position: absolute;border-left: 1px solid gray;box-sizing: border-box;top: 0;bottom: 0;left: 50%;z-index: 0;}#sk-container-id-1 div.sk-serial {display: flex;flex-direction: column;align-items: center;background-color: white;padding-right: 0.2em;padding-left: 0.2em;position: relative;}#sk-container-id-1 div.sk-item {position: relative;z-index: 1;}#sk-container-id-1 div.sk-parallel {display: flex;align-items: stretch;justify-content: center;background-color: white;position: relative;}#sk-container-id-1 div.sk-item::before, #sk-container-id-1 div.sk-parallel-item::before {content: \"\";position: absolute;border-left: 1px solid gray;box-sizing: border-box;top: 0;bottom: 0;left: 50%;z-index: -1;}#sk-container-id-1 div.sk-parallel-item {display: flex;flex-direction: column;z-index: 1;position: relative;background-color: white;}#sk-container-id-1 div.sk-parallel-item:first-child::after {align-self: flex-end;width: 50%;}#sk-container-id-1 div.sk-parallel-item:last-child::after {align-self: flex-start;width: 50%;}#sk-container-id-1 div.sk-parallel-item:only-child::after {width: 0;}#sk-container-id-1 div.sk-dashed-wrapped {border: 1px dashed gray;margin: 0 0.4em 0.5em 0.4em;box-sizing: border-box;padding-bottom: 0.4em;background-color: white;}#sk-container-id-1 div.sk-label label {font-family: monospace;font-weight: bold;display: inline-block;line-height: 1.2em;}#sk-container-id-1 div.sk-label-container {text-align: center;}#sk-container-id-1 div.sk-container {/* jupyter's `normalize.less` sets `[hidden] { display: none; }` but bootstrap.min.css set `[hidden] { display: none !important; }` so we also need the `!important` here to be able to override the default hidden behavior on the sphinx rendered scikit-learn.org. See: https://github.com/scikit-learn/scikit-learn/issues/21755 */display: inline-block !important;position: relative;}#sk-container-id-1 div.sk-text-repr-fallback {display: none;}</style><div id=\"sk-container-id-1\" class=\"sk-top-container\"><div class=\"sk-text-repr-fallback\"><pre>Pipeline(steps=[(&#x27;scale&#x27;, StandardScaler()),\n",
       "                (&#x27;model&#x27;,\n",
       "                 LogisticRegression(l1_ratio=0.5, max_iter=5000,\n",
       "                                    penalty=&#x27;elasticnet&#x27;, solver=&#x27;saga&#x27;))])</pre><b>In a Jupyter environment, please rerun this cell to show the HTML representation or trust the notebook. <br />On GitHub, the HTML representation is unable to render, please try loading this page with nbviewer.org.</b></div><div class=\"sk-container\" hidden><div class=\"sk-item sk-dashed-wrapped\"><div class=\"sk-label-container\"><div class=\"sk-label sk-toggleable\"><input class=\"sk-toggleable__control sk-hidden--visually\" id=\"sk-estimator-id-1\" type=\"checkbox\" ><label for=\"sk-estimator-id-1\" class=\"sk-toggleable__label sk-toggleable__label-arrow\">Pipeline</label><div class=\"sk-toggleable__content\"><pre>Pipeline(steps=[(&#x27;scale&#x27;, StandardScaler()),\n",
       "                (&#x27;model&#x27;,\n",
       "                 LogisticRegression(l1_ratio=0.5, max_iter=5000,\n",
       "                                    penalty=&#x27;elasticnet&#x27;, solver=&#x27;saga&#x27;))])</pre></div></div></div><div class=\"sk-serial\"><div class=\"sk-item\"><div class=\"sk-estimator sk-toggleable\"><input class=\"sk-toggleable__control sk-hidden--visually\" id=\"sk-estimator-id-2\" type=\"checkbox\" ><label for=\"sk-estimator-id-2\" class=\"sk-toggleable__label sk-toggleable__label-arrow\">StandardScaler</label><div class=\"sk-toggleable__content\"><pre>StandardScaler()</pre></div></div></div><div class=\"sk-item\"><div class=\"sk-estimator sk-toggleable\"><input class=\"sk-toggleable__control sk-hidden--visually\" id=\"sk-estimator-id-3\" type=\"checkbox\" ><label for=\"sk-estimator-id-3\" class=\"sk-toggleable__label sk-toggleable__label-arrow\">LogisticRegression</label><div class=\"sk-toggleable__content\"><pre>LogisticRegression(l1_ratio=0.5, max_iter=5000, penalty=&#x27;elasticnet&#x27;,\n",
       "                   solver=&#x27;saga&#x27;)</pre></div></div></div></div></div></div></div>"
      ],
      "text/plain": [
       "Pipeline(steps=[('scale', StandardScaler()),\n",
       "                ('model',\n",
       "                 LogisticRegression(l1_ratio=0.5, max_iter=5000,\n",
       "                                    penalty='elasticnet', solver='saga'))])"
      ]
     },
     "execution_count": 43,
     "metadata": {},
     "output_type": "execute_result"
    }
   ],
   "source": [
    "model.fit(X_train, y_train.values.ravel())"
   ]
  },
  {
   "cell_type": "code",
   "execution_count": 44,
   "id": "af59f8c0",
   "metadata": {
    "execution": {
     "iopub.execute_input": "2025-07-30T13:58:20.565416Z",
     "iopub.status.busy": "2025-07-30T13:58:20.564965Z",
     "iopub.status.idle": "2025-07-30T13:58:20.570310Z",
     "shell.execute_reply": "2025-07-30T13:58:20.569431Z"
    },
    "papermill": {
     "duration": 0.03165,
     "end_time": "2025-07-30T13:58:20.571858",
     "exception": false,
     "start_time": "2025-07-30T13:58:20.540208",
     "status": "completed"
    },
    "tags": []
   },
   "outputs": [],
   "source": [
    "from fairness_multiverse.universe import predict_w_threshold"
   ]
  },
  {
   "cell_type": "code",
   "execution_count": 45,
   "id": "a7cf2e16",
   "metadata": {
    "execution": {
     "iopub.execute_input": "2025-07-30T13:58:20.621216Z",
     "iopub.status.busy": "2025-07-30T13:58:20.620579Z",
     "iopub.status.idle": "2025-07-30T13:58:20.812121Z",
     "shell.execute_reply": "2025-07-30T13:58:20.811219Z"
    },
    "papermill": {
     "duration": 0.218006,
     "end_time": "2025-07-30T13:58:20.813775",
     "exception": false,
     "start_time": "2025-07-30T13:58:20.595769",
     "status": "completed"
    },
    "tags": []
   },
   "outputs": [
    {
     "data": {
      "text/plain": [
       "0.8574517890982053"
      ]
     },
     "execution_count": 45,
     "metadata": {},
     "output_type": "execute_result"
    }
   ],
   "source": [
    "probs_test = model.predict_proba(X_test)\n",
    "\n",
    "'''\n",
    "Below code returns a boolean array (or binary 0/1 array depending on how it’s used) where each element \n",
    "is True if the probability of class 1 is greater than or equal to the threshold, and False otherwise.\n",
    "'''\n",
    "y_pred_default = predict_w_threshold(probs_test, 0.5)\n",
    "\n",
    "from sklearn.metrics import accuracy_score\n",
    "\n",
    "# Naive prediction\n",
    "accuracy_score(y_true = y_true, y_pred = y_pred_default)"
   ]
  },
  {
   "cell_type": "code",
   "execution_count": 46,
   "id": "081964c3",
   "metadata": {
    "execution": {
     "iopub.execute_input": "2025-07-30T13:58:20.864961Z",
     "iopub.status.busy": "2025-07-30T13:58:20.864321Z",
     "iopub.status.idle": "2025-07-30T13:58:21.041657Z",
     "shell.execute_reply": "2025-07-30T13:58:21.040772Z"
    },
    "papermill": {
     "duration": 0.204249,
     "end_time": "2025-07-30T13:58:21.043290",
     "exception": false,
     "start_time": "2025-07-30T13:58:20.839041",
     "status": "completed"
    },
    "tags": []
   },
   "outputs": [
    {
     "data": {
      "text/plain": [
       "array([0, 0, 0, ..., 0, 0, 0])"
      ]
     },
     "execution_count": 46,
     "metadata": {},
     "output_type": "execute_result"
    }
   ],
   "source": [
    "model.predict(X_test)"
   ]
  },
  {
   "cell_type": "markdown",
   "id": "56c9705b",
   "metadata": {
    "papermill": {
     "duration": 0.023921,
     "end_time": "2025-07-30T13:58:21.091249",
     "exception": false,
     "start_time": "2025-07-30T13:58:21.067328",
     "status": "completed"
    },
    "tags": []
   },
   "source": [
    "# Conformal Prediction"
   ]
  },
  {
   "cell_type": "code",
   "execution_count": 47,
   "id": "160ec6ff",
   "metadata": {
    "execution": {
     "iopub.execute_input": "2025-07-30T13:58:21.139600Z",
     "iopub.status.busy": "2025-07-30T13:58:21.138814Z",
     "iopub.status.idle": "2025-07-30T13:58:21.144226Z",
     "shell.execute_reply": "2025-07-30T13:58:21.143280Z"
    },
    "papermill": {
     "duration": 0.031203,
     "end_time": "2025-07-30T13:58:21.145898",
     "exception": false,
     "start_time": "2025-07-30T13:58:21.114695",
     "status": "completed"
    },
    "tags": []
   },
   "outputs": [],
   "source": [
    "# Miscoverage level for conformal prediction (10% allowed error rate => 90% target coverage)\n",
    "alpha = 0.1"
   ]
  },
  {
   "cell_type": "code",
   "execution_count": 48,
   "id": "eadf4555-3dd3-440e-8e35-f82a4ad9f855",
   "metadata": {
    "execution": {
     "iopub.execute_input": "2025-07-30T13:58:21.195027Z",
     "iopub.status.busy": "2025-07-30T13:58:21.194602Z",
     "iopub.status.idle": "2025-07-30T13:58:21.366464Z",
     "shell.execute_reply": "2025-07-30T13:58:21.365519Z"
    },
    "papermill": {
     "duration": 0.197977,
     "end_time": "2025-07-30T13:58:21.368461",
     "exception": false,
     "start_time": "2025-07-30T13:58:21.170484",
     "status": "completed"
    },
    "tags": []
   },
   "outputs": [],
   "source": [
    "probs_calib = model.predict_proba(X_calib)"
   ]
  },
  {
   "cell_type": "code",
   "execution_count": 49,
   "id": "2ed93547-6d5d-4983-9b36-1ecb300da49a",
   "metadata": {
    "execution": {
     "iopub.execute_input": "2025-07-30T13:58:21.420328Z",
     "iopub.status.busy": "2025-07-30T13:58:21.419780Z",
     "iopub.status.idle": "2025-07-30T13:58:21.425346Z",
     "shell.execute_reply": "2025-07-30T13:58:21.424441Z"
    },
    "papermill": {
     "duration": 0.034129,
     "end_time": "2025-07-30T13:58:21.427162",
     "exception": false,
     "start_time": "2025-07-30T13:58:21.393033",
     "status": "completed"
    },
    "tags": []
   },
   "outputs": [],
   "source": [
    "y_calib = y_calib.values.ravel().astype(int)"
   ]
  },
  {
   "cell_type": "code",
   "execution_count": 50,
   "id": "65d1320d-f588-4b38-9072-62af1ae97f7d",
   "metadata": {
    "execution": {
     "iopub.execute_input": "2025-07-30T13:58:21.474519Z",
     "iopub.status.busy": "2025-07-30T13:58:21.473744Z",
     "iopub.status.idle": "2025-07-30T13:58:21.482097Z",
     "shell.execute_reply": "2025-07-30T13:58:21.481314Z"
    },
    "papermill": {
     "duration": 0.033444,
     "end_time": "2025-07-30T13:58:21.483456",
     "exception": false,
     "start_time": "2025-07-30T13:58:21.450012",
     "status": "completed"
    },
    "tags": []
   },
   "outputs": [],
   "source": [
    "from fairness_multiverse.conformal import compute_nc_scores\n",
    "\n",
    "# Compute nonconformity scores on calibration set (1 - probability of true class)\n",
    "nc_scores = compute_nc_scores(probs_calib, y_calib)"
   ]
  },
  {
   "cell_type": "code",
   "execution_count": 51,
   "id": "df3b8ca3-53b7-43d5-9667-7c85da7aeda2",
   "metadata": {
    "execution": {
     "iopub.execute_input": "2025-07-30T13:58:21.531824Z",
     "iopub.status.busy": "2025-07-30T13:58:21.531175Z",
     "iopub.status.idle": "2025-07-30T13:58:21.538154Z",
     "shell.execute_reply": "2025-07-30T13:58:21.537245Z"
    },
    "papermill": {
     "duration": 0.033788,
     "end_time": "2025-07-30T13:58:21.539692",
     "exception": false,
     "start_time": "2025-07-30T13:58:21.505904",
     "status": "completed"
    },
    "tags": []
   },
   "outputs": [],
   "source": [
    "from fairness_multiverse.conformal import find_threshold\n",
    "\n",
    "# Find conformal threshold q_hat for the given alpha (split conformal method)\n",
    "q_hat = find_threshold(nc_scores, alpha)"
   ]
  },
  {
   "cell_type": "code",
   "execution_count": 52,
   "id": "4d29e6c1-0ef6-4aa4-b8fe-4fe79b0d033a",
   "metadata": {
    "execution": {
     "iopub.execute_input": "2025-07-30T13:58:21.587932Z",
     "iopub.status.busy": "2025-07-30T13:58:21.587328Z",
     "iopub.status.idle": "2025-07-30T13:58:21.594218Z",
     "shell.execute_reply": "2025-07-30T13:58:21.593293Z"
    },
    "papermill": {
     "duration": 0.032544,
     "end_time": "2025-07-30T13:58:21.595856",
     "exception": false,
     "start_time": "2025-07-30T13:58:21.563312",
     "status": "completed"
    },
    "tags": []
   },
   "outputs": [
    {
     "data": {
      "text/plain": [
       "0.6853819344708706"
      ]
     },
     "execution_count": 52,
     "metadata": {},
     "output_type": "execute_result"
    }
   ],
   "source": [
    "q_hat"
   ]
  },
  {
   "cell_type": "code",
   "execution_count": 53,
   "id": "92460794-cdac-4be2-ba28-f28c0515a6fb",
   "metadata": {
    "execution": {
     "iopub.execute_input": "2025-07-30T13:58:21.644365Z",
     "iopub.status.busy": "2025-07-30T13:58:21.643691Z",
     "iopub.status.idle": "2025-07-30T13:58:22.539576Z",
     "shell.execute_reply": "2025-07-30T13:58:22.538547Z"
    },
    "papermill": {
     "duration": 0.922164,
     "end_time": "2025-07-30T13:58:22.541476",
     "exception": false,
     "start_time": "2025-07-30T13:58:21.619312",
     "status": "completed"
    },
    "tags": []
   },
   "outputs": [],
   "source": [
    "from fairness_multiverse.conformal import predict_conformal_sets\n",
    "\n",
    "# Generate prediction sets for each test example\n",
    "pred_sets = predict_conformal_sets(model, X_test, q_hat)"
   ]
  },
  {
   "cell_type": "code",
   "execution_count": 54,
   "id": "d90c9a65-e6db-4f5d-80cd-e68fb7e46829",
   "metadata": {
    "execution": {
     "iopub.execute_input": "2025-07-30T13:58:22.599154Z",
     "iopub.status.busy": "2025-07-30T13:58:22.598495Z",
     "iopub.status.idle": "2025-07-30T13:58:22.603900Z",
     "shell.execute_reply": "2025-07-30T13:58:22.603037Z"
    },
    "papermill": {
     "duration": 0.033962,
     "end_time": "2025-07-30T13:58:22.605595",
     "exception": false,
     "start_time": "2025-07-30T13:58:22.571633",
     "status": "completed"
    },
    "tags": []
   },
   "outputs": [],
   "source": [
    "y_true = y_true.squeeze()"
   ]
  },
  {
   "cell_type": "code",
   "execution_count": 55,
   "id": "3a58a54a-1e68-46b9-927a-df01f18aebc8",
   "metadata": {
    "execution": {
     "iopub.execute_input": "2025-07-30T13:58:22.655813Z",
     "iopub.status.busy": "2025-07-30T13:58:22.655341Z",
     "iopub.status.idle": "2025-07-30T13:58:23.592170Z",
     "shell.execute_reply": "2025-07-30T13:58:23.591204Z"
    },
    "papermill": {
     "duration": 0.964936,
     "end_time": "2025-07-30T13:58:23.594228",
     "exception": false,
     "start_time": "2025-07-30T13:58:22.629292",
     "status": "completed"
    },
    "tags": []
   },
   "outputs": [],
   "source": [
    "from fairness_multiverse.conformal import evaluate_sets\n",
    "\n",
    "# Evaluate coverage and average set size on test data\n",
    "metrics = evaluate_sets(pred_sets, y_true)"
   ]
  },
  {
   "cell_type": "markdown",
   "id": "2b569c12-9aaa-4c88-98c9-bbcd0cf3ebb8",
   "metadata": {
    "papermill": {
     "duration": 0.022966,
     "end_time": "2025-07-30T13:58:23.640701",
     "exception": false,
     "start_time": "2025-07-30T13:58:23.617735",
     "status": "completed"
    },
    "tags": []
   },
   "source": [
    "# CP Metrics"
   ]
  },
  {
   "cell_type": "code",
   "execution_count": 56,
   "id": "5ce0a5cb-201f-45a0-ade5-94c7f0bd6095",
   "metadata": {
    "execution": {
     "iopub.execute_input": "2025-07-30T13:58:23.688723Z",
     "iopub.status.busy": "2025-07-30T13:58:23.688007Z",
     "iopub.status.idle": "2025-07-30T13:58:23.695359Z",
     "shell.execute_reply": "2025-07-30T13:58:23.694447Z"
    },
    "papermill": {
     "duration": 0.032782,
     "end_time": "2025-07-30T13:58:23.696880",
     "exception": false,
     "start_time": "2025-07-30T13:58:23.664098",
     "status": "completed"
    },
    "tags": []
   },
   "outputs": [
    {
     "data": {
      "text/plain": [
       "{'coverage': 0.911113588228737, 'avg_size': 1.1369412551555012}"
      ]
     },
     "execution_count": 56,
     "metadata": {},
     "output_type": "execute_result"
    }
   ],
   "source": [
    "metrics"
   ]
  },
  {
   "cell_type": "code",
   "execution_count": 57,
   "id": "9b9a838d-31c9-430b-ae14-12baee460d17",
   "metadata": {
    "execution": {
     "iopub.execute_input": "2025-07-30T13:58:23.744652Z",
     "iopub.status.busy": "2025-07-30T13:58:23.744242Z",
     "iopub.status.idle": "2025-07-30T13:58:23.749864Z",
     "shell.execute_reply": "2025-07-30T13:58:23.749007Z"
    },
    "papermill": {
     "duration": 0.031549,
     "end_time": "2025-07-30T13:58:23.751405",
     "exception": false,
     "start_time": "2025-07-30T13:58:23.719856",
     "status": "completed"
    },
    "tags": []
   },
   "outputs": [],
   "source": [
    "example_universe = universe.copy()\n",
    "universe_training_size = example_universe.get(\"training_size\")\n",
    "universe_scale = example_universe.get(\"scale\")\n",
    "universe_model = example_universe.get(\"model\")\n",
    "universe_exclude_features = example_universe.get(\"exclude_features\")\n",
    "universe_exclude_subgroups = example_universe.get(\"exclude_subgroups\")"
   ]
  },
  {
   "cell_type": "code",
   "execution_count": 58,
   "id": "f4b6a8ac-9dc0-4245-8a91-5b3b5999c4f9",
   "metadata": {
    "execution": {
     "iopub.execute_input": "2025-07-30T13:58:23.798583Z",
     "iopub.status.busy": "2025-07-30T13:58:23.798165Z",
     "iopub.status.idle": "2025-07-30T13:58:23.804633Z",
     "shell.execute_reply": "2025-07-30T13:58:23.803676Z"
    },
    "papermill": {
     "duration": 0.03172,
     "end_time": "2025-07-30T13:58:23.806331",
     "exception": false,
     "start_time": "2025-07-30T13:58:23.774611",
     "status": "completed"
    },
    "tags": []
   },
   "outputs": [],
   "source": [
    "cp_metrics_dict = {\n",
    "    \"universe_id\": [universe_id],\n",
    "    \"universe_training_size\": [universe_training_size],\n",
    "    \"universe_scale\": [universe_scale],\n",
    "    \"universe_model\": [universe_model],\n",
    "    \"universe_exclude_features\": [universe_exclude_features],\n",
    "    \"universe_exclude_subgroups\": [universe_exclude_subgroups],\n",
    "    \"q_hat\": [q_hat],\n",
    "    \"coverage\": [metrics[\"coverage\"]],\n",
    "    \"avg_size\": [metrics[\"avg_size\"]],\n",
    "}"
   ]
  },
  {
   "cell_type": "code",
   "execution_count": 59,
   "id": "908acbb1-0371-4915-85ca-3fa520d2efe2",
   "metadata": {
    "execution": {
     "iopub.execute_input": "2025-07-30T13:58:23.863207Z",
     "iopub.status.busy": "2025-07-30T13:58:23.862514Z",
     "iopub.status.idle": "2025-07-30T13:58:23.870891Z",
     "shell.execute_reply": "2025-07-30T13:58:23.869906Z"
    },
    "papermill": {
     "duration": 0.038199,
     "end_time": "2025-07-30T13:58:23.872573",
     "exception": false,
     "start_time": "2025-07-30T13:58:23.834374",
     "status": "completed"
    },
    "tags": []
   },
   "outputs": [
    {
     "data": {
      "text/plain": [
       "{'universe_id': ['7170ab0067abcca7ad911b3aeac6b314'],\n",
       " 'universe_training_size': ['5k'],\n",
       " 'universe_scale': ['scale'],\n",
       " 'universe_model': ['elasticnet'],\n",
       " 'universe_exclude_features': ['none'],\n",
       " 'universe_exclude_subgroups': ['keep-all'],\n",
       " 'q_hat': [0.6853819344708706],\n",
       " 'coverage': [0.911113588228737],\n",
       " 'avg_size': [1.1369412551555012]}"
      ]
     },
     "execution_count": 59,
     "metadata": {},
     "output_type": "execute_result"
    }
   ],
   "source": [
    "cp_metrics_dict"
   ]
  },
  {
   "cell_type": "code",
   "execution_count": 60,
   "id": "33007efc-14e9-4ec6-97ac-56a455c82265",
   "metadata": {
    "execution": {
     "iopub.execute_input": "2025-07-30T13:58:23.907072Z",
     "iopub.status.busy": "2025-07-30T13:58:23.906450Z",
     "iopub.status.idle": "2025-07-30T13:58:23.934217Z",
     "shell.execute_reply": "2025-07-30T13:58:23.933260Z"
    },
    "papermill": {
     "duration": 0.043381,
     "end_time": "2025-07-30T13:58:23.935938",
     "exception": false,
     "start_time": "2025-07-30T13:58:23.892557",
     "status": "completed"
    },
    "tags": []
   },
   "outputs": [],
   "source": [
    "cp_metrics_df = pd.DataFrame(cp_metrics_dict)"
   ]
  },
  {
   "cell_type": "code",
   "execution_count": 61,
   "id": "db12611b-57b2-4910-b9d0-355adfd6e7bf",
   "metadata": {
    "execution": {
     "iopub.execute_input": "2025-07-30T13:58:24.005339Z",
     "iopub.status.busy": "2025-07-30T13:58:24.004846Z",
     "iopub.status.idle": "2025-07-30T13:58:24.019160Z",
     "shell.execute_reply": "2025-07-30T13:58:24.018474Z"
    },
    "papermill": {
     "duration": 0.057254,
     "end_time": "2025-07-30T13:58:24.020485",
     "exception": false,
     "start_time": "2025-07-30T13:58:23.963231",
     "status": "completed"
    },
    "tags": []
   },
   "outputs": [
    {
     "data": {
      "text/html": [
       "<div>\n",
       "<style scoped>\n",
       "    .dataframe tbody tr th:only-of-type {\n",
       "        vertical-align: middle;\n",
       "    }\n",
       "\n",
       "    .dataframe tbody tr th {\n",
       "        vertical-align: top;\n",
       "    }\n",
       "\n",
       "    .dataframe thead th {\n",
       "        text-align: right;\n",
       "    }\n",
       "</style>\n",
       "<table border=\"1\" class=\"dataframe\">\n",
       "  <thead>\n",
       "    <tr style=\"text-align: right;\">\n",
       "      <th></th>\n",
       "      <th>universe_id</th>\n",
       "      <th>universe_training_size</th>\n",
       "      <th>universe_scale</th>\n",
       "      <th>universe_model</th>\n",
       "      <th>universe_exclude_features</th>\n",
       "      <th>universe_exclude_subgroups</th>\n",
       "      <th>q_hat</th>\n",
       "      <th>coverage</th>\n",
       "      <th>avg_size</th>\n",
       "    </tr>\n",
       "  </thead>\n",
       "  <tbody>\n",
       "    <tr>\n",
       "      <th>0</th>\n",
       "      <td>7170ab0067abcca7ad911b3aeac6b314</td>\n",
       "      <td>5k</td>\n",
       "      <td>scale</td>\n",
       "      <td>elasticnet</td>\n",
       "      <td>none</td>\n",
       "      <td>keep-all</td>\n",
       "      <td>0.685382</td>\n",
       "      <td>0.911114</td>\n",
       "      <td>1.136941</td>\n",
       "    </tr>\n",
       "  </tbody>\n",
       "</table>\n",
       "</div>"
      ],
      "text/plain": [
       "                        universe_id universe_training_size universe_scale  \\\n",
       "0  7170ab0067abcca7ad911b3aeac6b314                     5k          scale   \n",
       "\n",
       "  universe_model universe_exclude_features universe_exclude_subgroups  \\\n",
       "0     elasticnet                      none                   keep-all   \n",
       "\n",
       "      q_hat  coverage  avg_size  \n",
       "0  0.685382  0.911114  1.136941  "
      ]
     },
     "execution_count": 61,
     "metadata": {},
     "output_type": "execute_result"
    }
   ],
   "source": [
    "cp_metrics_df"
   ]
  },
  {
   "cell_type": "code",
   "execution_count": 62,
   "id": "b7fbde55-a0a1-47e4-9af6-fe4a17fa8c61",
   "metadata": {
    "execution": {
     "iopub.execute_input": "2025-07-30T13:58:24.050531Z",
     "iopub.status.busy": "2025-07-30T13:58:24.050030Z",
     "iopub.status.idle": "2025-07-30T13:58:24.054641Z",
     "shell.execute_reply": "2025-07-30T13:58:24.053936Z"
    },
    "papermill": {
     "duration": 0.02075,
     "end_time": "2025-07-30T13:58:24.055995",
     "exception": false,
     "start_time": "2025-07-30T13:58:24.035245",
     "status": "completed"
    },
    "tags": []
   },
   "outputs": [],
   "source": [
    "# Conditional Coverage & looking at subgroups"
   ]
  },
  {
   "cell_type": "code",
   "execution_count": 63,
   "id": "027ae886-68dd-4141-96c7-805a5450e1ef",
   "metadata": {
    "execution": {
     "iopub.execute_input": "2025-07-30T13:58:24.085408Z",
     "iopub.status.busy": "2025-07-30T13:58:24.084913Z",
     "iopub.status.idle": "2025-07-30T13:58:24.267174Z",
     "shell.execute_reply": "2025-07-30T13:58:24.266092Z"
    },
    "papermill": {
     "duration": 0.198023,
     "end_time": "2025-07-30T13:58:24.268961",
     "exception": false,
     "start_time": "2025-07-30T13:58:24.070938",
     "status": "completed"
    },
    "tags": []
   },
   "outputs": [],
   "source": [
    "from fairness_multiverse.conformal import build_cp_groups\n",
    "\n",
    "cp_groups_df = build_cp_groups(pred_sets, y_true, X_test.index, org_test)\n",
    "#needs universe_id and setting"
   ]
  },
  {
   "cell_type": "code",
   "execution_count": 64,
   "id": "01d5802c-663a-4d1f-9d69-e036faaffbf7",
   "metadata": {
    "execution": {
     "iopub.execute_input": "2025-07-30T13:58:24.308893Z",
     "iopub.status.busy": "2025-07-30T13:58:24.308462Z",
     "iopub.status.idle": "2025-07-30T13:58:24.313460Z",
     "shell.execute_reply": "2025-07-30T13:58:24.312602Z"
    },
    "papermill": {
     "duration": 0.032173,
     "end_time": "2025-07-30T13:58:24.315305",
     "exception": false,
     "start_time": "2025-07-30T13:58:24.283132",
     "status": "completed"
    },
    "tags": []
   },
   "outputs": [],
   "source": [
    "#delete\n",
    "#cp_groups_df"
   ]
  },
  {
   "cell_type": "code",
   "execution_count": 65,
   "id": "fa424af1-d1eb-443d-b717-2d279ada8408",
   "metadata": {
    "execution": {
     "iopub.execute_input": "2025-07-30T13:58:24.368910Z",
     "iopub.status.busy": "2025-07-30T13:58:24.368415Z",
     "iopub.status.idle": "2025-07-30T13:58:24.373435Z",
     "shell.execute_reply": "2025-07-30T13:58:24.372571Z"
    },
    "papermill": {
     "duration": 0.03321,
     "end_time": "2025-07-30T13:58:24.375239",
     "exception": false,
     "start_time": "2025-07-30T13:58:24.342029",
     "status": "completed"
    },
    "tags": []
   },
   "outputs": [],
   "source": [
    "#delete\n",
    "#percentage = (cp_groups_df['nongerman_female'] == 1).mean() * 100\n",
    "#print(percentage)\n"
   ]
  },
  {
   "cell_type": "code",
   "execution_count": 66,
   "id": "6cbdab96-b2b2-45af-ad54-d0516db2e28d",
   "metadata": {
    "execution": {
     "iopub.execute_input": "2025-07-30T13:58:24.426867Z",
     "iopub.status.busy": "2025-07-30T13:58:24.426058Z",
     "iopub.status.idle": "2025-07-30T13:58:26.135528Z",
     "shell.execute_reply": "2025-07-30T13:58:26.134283Z"
    },
    "papermill": {
     "duration": 1.737696,
     "end_time": "2025-07-30T13:58:26.137493",
     "exception": false,
     "start_time": "2025-07-30T13:58:24.399797",
     "status": "completed"
    },
    "tags": []
   },
   "outputs": [],
   "source": [
    "# Define covered = 1 if true_label is in the predicted set\n",
    "cp_groups_df['covered'] = cp_groups_df.apply(\n",
    "    lambda r: int(r['true_label'] in r['pred_set']),\n",
    "    axis=1\n",
    ")"
   ]
  },
  {
   "cell_type": "code",
   "execution_count": 67,
   "id": "338ff529-1a6b-4b87-a931-8e4788d52aad",
   "metadata": {
    "execution": {
     "iopub.execute_input": "2025-07-30T13:58:26.197681Z",
     "iopub.status.busy": "2025-07-30T13:58:26.196990Z",
     "iopub.status.idle": "2025-07-30T13:58:26.214042Z",
     "shell.execute_reply": "2025-07-30T13:58:26.213084Z"
    },
    "papermill": {
     "duration": 0.051291,
     "end_time": "2025-07-30T13:58:26.215657",
     "exception": false,
     "start_time": "2025-07-30T13:58:26.164366",
     "status": "completed"
    },
    "tags": []
   },
   "outputs": [],
   "source": [
    "#cp_groups_df"
   ]
  },
  {
   "cell_type": "code",
   "execution_count": 68,
   "id": "90032e27-66df-4540-9169-4e89cfbaa758",
   "metadata": {
    "execution": {
     "iopub.execute_input": "2025-07-30T13:58:26.269554Z",
     "iopub.status.busy": "2025-07-30T13:58:26.269052Z",
     "iopub.status.idle": "2025-07-30T13:58:26.281069Z",
     "shell.execute_reply": "2025-07-30T13:58:26.280138Z"
    },
    "papermill": {
     "duration": 0.041894,
     "end_time": "2025-07-30T13:58:26.282705",
     "exception": false,
     "start_time": "2025-07-30T13:58:26.240811",
     "status": "completed"
    },
    "tags": []
   },
   "outputs": [],
   "source": [
    "subgroups = ['frau1','nongerman','nongerman_male','nongerman_female']\n",
    "\n",
    "# Conditional coverage for subgroup==1\n",
    "cond_coverage = {\n",
    "    g: cp_groups_df.loc[cp_groups_df[g]==1, 'covered'].mean()\n",
    "    for g in subgroups\n",
    "}"
   ]
  },
  {
   "cell_type": "code",
   "execution_count": 69,
   "id": "1e348fb1-b9c3-45bc-ba23-f016827a7e0d",
   "metadata": {
    "execution": {
     "iopub.execute_input": "2025-07-30T13:58:26.316242Z",
     "iopub.status.busy": "2025-07-30T13:58:26.315887Z",
     "iopub.status.idle": "2025-07-30T13:58:26.322104Z",
     "shell.execute_reply": "2025-07-30T13:58:26.321358Z"
    },
    "papermill": {
     "duration": 0.026228,
     "end_time": "2025-07-30T13:58:26.323360",
     "exception": false,
     "start_time": "2025-07-30T13:58:26.297132",
     "status": "completed"
    },
    "tags": []
   },
   "outputs": [
    {
     "data": {
      "text/plain": [
       "{'frau1': 0.9055667879768163,\n",
       " 'nongerman': 0.9125919272441475,\n",
       " 'nongerman_male': 0.9299288480590832,\n",
       " 'nongerman_female': 0.8839046199701938}"
      ]
     },
     "execution_count": 69,
     "metadata": {},
     "output_type": "execute_result"
    }
   ],
   "source": [
    "cond_coverage"
   ]
  },
  {
   "cell_type": "code",
   "execution_count": 70,
   "id": "f5093324-c3dd-4d63-bc4c-8d945e5c8bbb",
   "metadata": {
    "execution": {
     "iopub.execute_input": "2025-07-30T13:58:26.353333Z",
     "iopub.status.busy": "2025-07-30T13:58:26.352830Z",
     "iopub.status.idle": "2025-07-30T13:58:26.358724Z",
     "shell.execute_reply": "2025-07-30T13:58:26.358045Z"
    },
    "papermill": {
     "duration": 0.022514,
     "end_time": "2025-07-30T13:58:26.360170",
     "exception": false,
     "start_time": "2025-07-30T13:58:26.337656",
     "status": "completed"
    },
    "tags": []
   },
   "outputs": [],
   "source": [
    "for subgroup, cov in cond_coverage.items():\n",
    "    cp_metrics_df[f\"cov_{subgroup}\"] = cov"
   ]
  },
  {
   "cell_type": "code",
   "execution_count": 71,
   "id": "6e872e10-dbe5-49e8-b554-5030c98ff75d",
   "metadata": {
    "execution": {
     "iopub.execute_input": "2025-07-30T13:58:26.417469Z",
     "iopub.status.busy": "2025-07-30T13:58:26.417026Z",
     "iopub.status.idle": "2025-07-30T13:58:26.435704Z",
     "shell.execute_reply": "2025-07-30T13:58:26.434705Z"
    },
    "papermill": {
     "duration": 0.048929,
     "end_time": "2025-07-30T13:58:26.437518",
     "exception": false,
     "start_time": "2025-07-30T13:58:26.388589",
     "status": "completed"
    },
    "tags": []
   },
   "outputs": [
    {
     "data": {
      "text/html": [
       "<div>\n",
       "<style scoped>\n",
       "    .dataframe tbody tr th:only-of-type {\n",
       "        vertical-align: middle;\n",
       "    }\n",
       "\n",
       "    .dataframe tbody tr th {\n",
       "        vertical-align: top;\n",
       "    }\n",
       "\n",
       "    .dataframe thead th {\n",
       "        text-align: right;\n",
       "    }\n",
       "</style>\n",
       "<table border=\"1\" class=\"dataframe\">\n",
       "  <thead>\n",
       "    <tr style=\"text-align: right;\">\n",
       "      <th></th>\n",
       "      <th>universe_id</th>\n",
       "      <th>universe_training_size</th>\n",
       "      <th>universe_scale</th>\n",
       "      <th>universe_model</th>\n",
       "      <th>universe_exclude_features</th>\n",
       "      <th>universe_exclude_subgroups</th>\n",
       "      <th>q_hat</th>\n",
       "      <th>coverage</th>\n",
       "      <th>avg_size</th>\n",
       "      <th>cov_frau1</th>\n",
       "      <th>cov_nongerman</th>\n",
       "      <th>cov_nongerman_male</th>\n",
       "      <th>cov_nongerman_female</th>\n",
       "    </tr>\n",
       "  </thead>\n",
       "  <tbody>\n",
       "    <tr>\n",
       "      <th>0</th>\n",
       "      <td>7170ab0067abcca7ad911b3aeac6b314</td>\n",
       "      <td>5k</td>\n",
       "      <td>scale</td>\n",
       "      <td>elasticnet</td>\n",
       "      <td>none</td>\n",
       "      <td>keep-all</td>\n",
       "      <td>0.685382</td>\n",
       "      <td>0.911114</td>\n",
       "      <td>1.136941</td>\n",
       "      <td>0.905567</td>\n",
       "      <td>0.912592</td>\n",
       "      <td>0.929929</td>\n",
       "      <td>0.883905</td>\n",
       "    </tr>\n",
       "  </tbody>\n",
       "</table>\n",
       "</div>"
      ],
      "text/plain": [
       "                        universe_id universe_training_size universe_scale  \\\n",
       "0  7170ab0067abcca7ad911b3aeac6b314                     5k          scale   \n",
       "\n",
       "  universe_model universe_exclude_features universe_exclude_subgroups  \\\n",
       "0     elasticnet                      none                   keep-all   \n",
       "\n",
       "      q_hat  coverage  avg_size  cov_frau1  cov_nongerman  cov_nongerman_male  \\\n",
       "0  0.685382  0.911114  1.136941   0.905567       0.912592            0.929929   \n",
       "\n",
       "   cov_nongerman_female  \n",
       "0              0.883905  "
      ]
     },
     "execution_count": 71,
     "metadata": {},
     "output_type": "execute_result"
    }
   ],
   "source": [
    "cp_metrics_df"
   ]
  },
  {
   "cell_type": "markdown",
   "id": "33774451",
   "metadata": {
    "papermill": {
     "duration": 0.028237,
     "end_time": "2025-07-30T13:58:26.494855",
     "exception": false,
     "start_time": "2025-07-30T13:58:26.466618",
     "status": "completed"
    },
    "tags": []
   },
   "source": [
    "# (Fairness) Metrics"
   ]
  },
  {
   "cell_type": "code",
   "execution_count": 72,
   "id": "debc5d62",
   "metadata": {
    "execution": {
     "iopub.execute_input": "2025-07-30T13:58:26.550850Z",
     "iopub.status.busy": "2025-07-30T13:58:26.550153Z",
     "iopub.status.idle": "2025-07-30T13:58:26.571662Z",
     "shell.execute_reply": "2025-07-30T13:58:26.570694Z"
    },
    "papermill": {
     "duration": 0.051132,
     "end_time": "2025-07-30T13:58:26.573375",
     "exception": false,
     "start_time": "2025-07-30T13:58:26.522243",
     "status": "completed"
    },
    "tags": []
   },
   "outputs": [],
   "source": [
    "# do I need to include maxdeutsch1.missing?\n",
    "\n",
    "import numpy as np\n",
    "\n",
    "colname_to_bin = \"maxdeutsch1\"\n",
    "majority_value = org_train[colname_to_bin].mode()[0]\n",
    "\n",
    "org_test[\"majmin\"] = np.where(org_test[colname_to_bin] == majority_value, \"majority\", \"minority\")"
   ]
  },
  {
   "cell_type": "code",
   "execution_count": 73,
   "id": "06a50de5",
   "metadata": {
    "execution": {
     "iopub.execute_input": "2025-07-30T13:58:26.630976Z",
     "iopub.status.busy": "2025-07-30T13:58:26.630230Z",
     "iopub.status.idle": "2025-07-30T13:58:29.524738Z",
     "shell.execute_reply": "2025-07-30T13:58:29.523549Z"
    },
    "papermill": {
     "duration": 2.926768,
     "end_time": "2025-07-30T13:58:29.527199",
     "exception": false,
     "start_time": "2025-07-30T13:58:26.600431",
     "status": "completed"
    },
    "tags": []
   },
   "outputs": [],
   "source": [
    "example_universe = universe.copy()\n",
    "example_universe[\"cutoff\"] = example_universe[\"cutoff\"][0]\n",
    "example_universe[\"eval_fairness_grouping\"] = example_universe[\"eval_fairness_grouping\"][0]\n",
    "fairness_dict, metric_frame = universe_analysis.compute_metrics(\n",
    "    example_universe,\n",
    "    y_pred_prob=probs_test,\n",
    "    y_test=y_true,\n",
    "    org_test=org_test,\n",
    ")"
   ]
  },
  {
   "cell_type": "markdown",
   "id": "f95d4e02",
   "metadata": {
    "papermill": {
     "duration": 0.035947,
     "end_time": "2025-07-30T13:58:29.598860",
     "exception": false,
     "start_time": "2025-07-30T13:58:29.562913",
     "status": "completed"
    },
    "tags": []
   },
   "source": [
    "# Overall"
   ]
  },
  {
   "cell_type": "markdown",
   "id": "bdee4871",
   "metadata": {
    "papermill": {
     "duration": 0.03601,
     "end_time": "2025-07-30T13:58:29.670226",
     "exception": false,
     "start_time": "2025-07-30T13:58:29.634216",
     "status": "completed"
    },
    "tags": []
   },
   "source": [
    "Fairness\n",
    "Main fairness target: Equalized Odds. Seems to be a better fit than equal opportunity, since we're not only interested in Y = 1. Seems to be a better fit than demographic parity, since we also care about accuracy, not just equal distribution of preds.\n",
    "\n",
    "Pick column for computation of fairness metrics\n",
    "\n",
    "Performance\n",
    "Overall performance measures, most interesting in relation to the measures split by group below"
   ]
  },
  {
   "cell_type": "code",
   "execution_count": 74,
   "id": "c4e067c6",
   "metadata": {
    "execution": {
     "iopub.execute_input": "2025-07-30T13:58:29.740259Z",
     "iopub.status.busy": "2025-07-30T13:58:29.739690Z",
     "iopub.status.idle": "2025-07-30T13:58:29.749426Z",
     "shell.execute_reply": "2025-07-30T13:58:29.748422Z"
    },
    "papermill": {
     "duration": 0.044798,
     "end_time": "2025-07-30T13:58:29.751005",
     "exception": false,
     "start_time": "2025-07-30T13:58:29.706207",
     "status": "completed"
    },
    "tags": []
   },
   "outputs": [
    {
     "data": {
      "text/plain": [
       "accuracy                   0.224022\n",
       "balanced accuracy          0.547838\n",
       "f1                         0.245363\n",
       "precision                  0.140168\n",
       "false positive rate        0.887727\n",
       "false negative rate        0.016597\n",
       "selection rate             0.900000\n",
       "count                  89710.000000\n",
       "dtype: float64"
      ]
     },
     "execution_count": 74,
     "metadata": {},
     "output_type": "execute_result"
    }
   ],
   "source": [
    "metric_frame.overall"
   ]
  },
  {
   "cell_type": "markdown",
   "id": "e968fe9d",
   "metadata": {
    "papermill": {
     "duration": 0.027715,
     "end_time": "2025-07-30T13:58:29.809336",
     "exception": false,
     "start_time": "2025-07-30T13:58:29.781621",
     "status": "completed"
    },
    "tags": []
   },
   "source": [
    "By Group"
   ]
  },
  {
   "cell_type": "code",
   "execution_count": 75,
   "id": "ec325bce",
   "metadata": {
    "execution": {
     "iopub.execute_input": "2025-07-30T13:58:29.863253Z",
     "iopub.status.busy": "2025-07-30T13:58:29.862755Z",
     "iopub.status.idle": "2025-07-30T13:58:29.879370Z",
     "shell.execute_reply": "2025-07-30T13:58:29.878473Z"
    },
    "papermill": {
     "duration": 0.044931,
     "end_time": "2025-07-30T13:58:29.880734",
     "exception": false,
     "start_time": "2025-07-30T13:58:29.835803",
     "status": "completed"
    },
    "tags": []
   },
   "outputs": [
    {
     "data": {
      "text/html": [
       "<div>\n",
       "<style scoped>\n",
       "    .dataframe tbody tr th:only-of-type {\n",
       "        vertical-align: middle;\n",
       "    }\n",
       "\n",
       "    .dataframe tbody tr th {\n",
       "        vertical-align: top;\n",
       "    }\n",
       "\n",
       "    .dataframe thead th {\n",
       "        text-align: right;\n",
       "    }\n",
       "</style>\n",
       "<table border=\"1\" class=\"dataframe\">\n",
       "  <thead>\n",
       "    <tr style=\"text-align: right;\">\n",
       "      <th></th>\n",
       "      <th>accuracy</th>\n",
       "      <th>balanced accuracy</th>\n",
       "      <th>f1</th>\n",
       "      <th>precision</th>\n",
       "      <th>false positive rate</th>\n",
       "      <th>false negative rate</th>\n",
       "      <th>selection rate</th>\n",
       "      <th>count</th>\n",
       "    </tr>\n",
       "    <tr>\n",
       "      <th>majmin</th>\n",
       "      <th></th>\n",
       "      <th></th>\n",
       "      <th></th>\n",
       "      <th></th>\n",
       "      <th></th>\n",
       "      <th></th>\n",
       "      <th></th>\n",
       "      <th></th>\n",
       "    </tr>\n",
       "  </thead>\n",
       "  <tbody>\n",
       "    <tr>\n",
       "      <th>majority</th>\n",
       "      <td>0.247607</td>\n",
       "      <td>0.558456</td>\n",
       "      <td>0.256263</td>\n",
       "      <td>0.147382</td>\n",
       "      <td>0.864051</td>\n",
       "      <td>0.019037</td>\n",
       "      <td>0.879500</td>\n",
       "      <td>69170.0</td>\n",
       "    </tr>\n",
       "    <tr>\n",
       "      <th>minority</th>\n",
       "      <td>0.144596</td>\n",
       "      <td>0.513442</td>\n",
       "      <td>0.211117</td>\n",
       "      <td>0.118117</td>\n",
       "      <td>0.965937</td>\n",
       "      <td>0.007179</td>\n",
       "      <td>0.969036</td>\n",
       "      <td>20540.0</td>\n",
       "    </tr>\n",
       "  </tbody>\n",
       "</table>\n",
       "</div>"
      ],
      "text/plain": [
       "          accuracy  balanced accuracy        f1  precision  \\\n",
       "majmin                                                       \n",
       "majority  0.247607           0.558456  0.256263   0.147382   \n",
       "minority  0.144596           0.513442  0.211117   0.118117   \n",
       "\n",
       "          false positive rate  false negative rate  selection rate    count  \n",
       "majmin                                                                       \n",
       "majority             0.864051             0.019037        0.879500  69170.0  \n",
       "minority             0.965937             0.007179        0.969036  20540.0  "
      ]
     },
     "execution_count": 75,
     "metadata": {},
     "output_type": "execute_result"
    }
   ],
   "source": [
    "metric_frame.by_group"
   ]
  },
  {
   "cell_type": "code",
   "execution_count": 76,
   "id": "a9ddbe63",
   "metadata": {
    "execution": {
     "iopub.execute_input": "2025-07-30T13:58:29.910344Z",
     "iopub.status.busy": "2025-07-30T13:58:29.909622Z",
     "iopub.status.idle": "2025-07-30T13:58:32.023067Z",
     "shell.execute_reply": "2025-07-30T13:58:32.022100Z"
    },
    "papermill": {
     "duration": 2.129459,
     "end_time": "2025-07-30T13:58:32.024629",
     "exception": false,
     "start_time": "2025-07-30T13:58:29.895170",
     "status": "completed"
    },
    "tags": []
   },
   "outputs": [
    {
     "data": {
      "text/plain": [
       "array([[<Axes: title={'center': 'accuracy'}, xlabel='majmin'>,\n",
       "        <Axes: title={'center': 'balanced accuracy'}, xlabel='majmin'>,\n",
       "        <Axes: title={'center': 'f1'}, xlabel='majmin'>],\n",
       "       [<Axes: title={'center': 'precision'}, xlabel='majmin'>,\n",
       "        <Axes: title={'center': 'false positive rate'}, xlabel='majmin'>,\n",
       "        <Axes: title={'center': 'false negative rate'}, xlabel='majmin'>],\n",
       "       [<Axes: title={'center': 'selection rate'}, xlabel='majmin'>,\n",
       "        <Axes: title={'center': 'count'}, xlabel='majmin'>,\n",
       "        <Axes: xlabel='majmin'>]], dtype=object)"
      ]
     },
     "execution_count": 76,
     "metadata": {},
     "output_type": "execute_result"
    },
    {
     "data": {
      "image/png": "[encoded data removed]",
      "text/plain": [
       "<Figure size 1200x800 with 9 Axes>"
      ]
     },
     "metadata": {},
     "output_type": "display_data"
    }
   ],
   "source": [
    "# In a graphic\n",
    "metric_frame.by_group.plot.bar(\n",
    "    subplots=True,\n",
    "    layout=[3, 3],\n",
    "    legend=False,\n",
    "    figsize=[12, 8],\n",
    "    title=\"Show all metrics\",\n",
    ")"
   ]
  },
  {
   "cell_type": "markdown",
   "id": "f57a0bac",
   "metadata": {
    "papermill": {
     "duration": 0.026775,
     "end_time": "2025-07-30T13:58:32.082261",
     "exception": false,
     "start_time": "2025-07-30T13:58:32.055486",
     "status": "completed"
    },
    "tags": []
   },
   "source": [
    "# Final Output"
   ]
  },
  {
   "cell_type": "code",
   "execution_count": 77,
   "id": "96d280a3",
   "metadata": {
    "execution": {
     "iopub.execute_input": "2025-07-30T13:58:32.137232Z",
     "iopub.status.busy": "2025-07-30T13:58:32.136586Z",
     "iopub.status.idle": "2025-07-30T13:58:32.145304Z",
     "shell.execute_reply": "2025-07-30T13:58:32.144251Z"
    },
    "papermill": {
     "duration": 0.038175,
     "end_time": "2025-07-30T13:58:32.146912",
     "exception": false,
     "start_time": "2025-07-30T13:58:32.108737",
     "status": "completed"
    },
    "tags": []
   },
   "outputs": [
    {
     "data": {
      "text/plain": [
       "4"
      ]
     },
     "execution_count": 77,
     "metadata": {},
     "output_type": "execute_result"
    }
   ],
   "source": [
    "sub_universes = universe_analysis.generate_sub_universes()\n",
    "len(sub_universes)"
   ]
  },
  {
   "cell_type": "code",
   "execution_count": 78,
   "id": "92adf7ba",
   "metadata": {
    "execution": {
     "iopub.execute_input": "2025-07-30T13:58:32.207410Z",
     "iopub.status.busy": "2025-07-30T13:58:32.206507Z",
     "iopub.status.idle": "2025-07-30T13:58:32.213091Z",
     "shell.execute_reply": "2025-07-30T13:58:32.211995Z"
    },
    "papermill": {
     "duration": 0.038388,
     "end_time": "2025-07-30T13:58:32.214786",
     "exception": false,
     "start_time": "2025-07-30T13:58:32.176398",
     "status": "completed"
    },
    "tags": []
   },
   "outputs": [],
   "source": [
    "def filter_sub_universe_data(sub_universe, org_test):\n",
    "    # Keep all rows — no filtering\n",
    "    keep_rows_mask = np.ones(org_test.shape[0], dtype=bool)\n",
    "\n",
    "    print(f\"[INFO] Keeping all rows: {keep_rows_mask.sum()} rows retained.\")\n",
    "    return keep_rows_mask"
   ]
  },
  {
   "cell_type": "code",
   "execution_count": 79,
   "id": "4a759155",
   "metadata": {
    "execution": {
     "iopub.execute_input": "2025-07-30T13:58:32.276209Z",
     "iopub.status.busy": "2025-07-30T13:58:32.275708Z",
     "iopub.status.idle": "2025-07-30T13:58:40.594684Z",
     "shell.execute_reply": "2025-07-30T13:58:40.593608Z"
    },
    "papermill": {
     "duration": 8.351192,
     "end_time": "2025-07-30T13:58:40.596369",
     "exception": false,
     "start_time": "2025-07-30T13:58:32.245177",
     "status": "completed"
    },
    "tags": []
   },
   "outputs": [
    {
     "name": "stdout",
     "output_type": "stream",
     "text": [
      "Stopping execution_time clock.\n",
      "[INFO] Keeping all rows: 89710 rows retained.\n"
     ]
    },
    {
     "name": "stdout",
     "output_type": "stream",
     "text": [
      "[INFO] Keeping all rows: 89710 rows retained.\n"
     ]
    },
    {
     "name": "stdout",
     "output_type": "stream",
     "text": [
      "[INFO] Keeping all rows: 89710 rows retained.\n"
     ]
    },
    {
     "name": "stdout",
     "output_type": "stream",
     "text": [
      "[INFO] Keeping all rows: 89710 rows retained.\n"
     ]
    },
    {
     "data": {
      "text/html": [
       "<div>\n",
       "<style scoped>\n",
       "    .dataframe tbody tr th:only-of-type {\n",
       "        vertical-align: middle;\n",
       "    }\n",
       "\n",
       "    .dataframe tbody tr th {\n",
       "        vertical-align: top;\n",
       "    }\n",
       "\n",
       "    .dataframe thead th {\n",
       "        text-align: right;\n",
       "    }\n",
       "</style>\n",
       "<table border=\"1\" class=\"dataframe\">\n",
       "  <thead>\n",
       "    <tr style=\"text-align: right;\">\n",
       "      <th></th>\n",
       "      <th>run_no</th>\n",
       "      <th>universe_id</th>\n",
       "      <th>universe_settings</th>\n",
       "      <th>execution_time</th>\n",
       "      <th>test_size_n</th>\n",
       "      <th>test_size_frac</th>\n",
       "      <th>fair_main_equalized_odds_difference</th>\n",
       "      <th>fair_main_equalized_odds_ratio</th>\n",
       "      <th>fair_main_demographic_parity_difference</th>\n",
       "      <th>fair_main_demographic_parity_ratio</th>\n",
       "      <th>...</th>\n",
       "      <th>perf_grp_precision_0</th>\n",
       "      <th>perf_grp_precision_1</th>\n",
       "      <th>perf_grp_false positive rate_0</th>\n",
       "      <th>perf_grp_false positive rate_1</th>\n",
       "      <th>perf_grp_false negative rate_0</th>\n",
       "      <th>perf_grp_false negative rate_1</th>\n",
       "      <th>perf_grp_selection rate_0</th>\n",
       "      <th>perf_grp_selection rate_1</th>\n",
       "      <th>perf_grp_count_0</th>\n",
       "      <th>perf_grp_count_1</th>\n",
       "    </tr>\n",
       "  </thead>\n",
       "  <tbody>\n",
       "    <tr>\n",
       "      <th>0</th>\n",
       "      <td>12</td>\n",
       "      <td>7170ab0067abcca7ad911b3aeac6b314</td>\n",
       "      <td>{\"cutoff\": \"quantile_0.1\", \"eval_fairness_grou...</td>\n",
       "      <td>41.125556</td>\n",
       "      <td>89710</td>\n",
       "      <td>1.0</td>\n",
       "      <td>0.101885</td>\n",
       "      <td>0.894522</td>\n",
       "      <td>0.089536</td>\n",
       "      <td>0.907603</td>\n",
       "      <td>...</td>\n",
       "      <td>NaN</td>\n",
       "      <td>NaN</td>\n",
       "      <td>NaN</td>\n",
       "      <td>NaN</td>\n",
       "      <td>NaN</td>\n",
       "      <td>NaN</td>\n",
       "      <td>NaN</td>\n",
       "      <td>NaN</td>\n",
       "      <td>NaN</td>\n",
       "      <td>NaN</td>\n",
       "    </tr>\n",
       "    <tr>\n",
       "      <th>0</th>\n",
       "      <td>12</td>\n",
       "      <td>7170ab0067abcca7ad911b3aeac6b314</td>\n",
       "      <td>{\"cutoff\": \"quantile_0.1\", \"eval_fairness_grou...</td>\n",
       "      <td>41.125556</td>\n",
       "      <td>89710</td>\n",
       "      <td>1.0</td>\n",
       "      <td>0.101885</td>\n",
       "      <td>0.894522</td>\n",
       "      <td>0.089536</td>\n",
       "      <td>0.907603</td>\n",
       "      <td>...</td>\n",
       "      <td>0.118117</td>\n",
       "      <td>0.147382</td>\n",
       "      <td>0.965937</td>\n",
       "      <td>0.864051</td>\n",
       "      <td>0.007179</td>\n",
       "      <td>0.019037</td>\n",
       "      <td>0.969036</td>\n",
       "      <td>0.879500</td>\n",
       "      <td>20540.0</td>\n",
       "      <td>69170.0</td>\n",
       "    </tr>\n",
       "    <tr>\n",
       "      <th>0</th>\n",
       "      <td>12</td>\n",
       "      <td>7170ab0067abcca7ad911b3aeac6b314</td>\n",
       "      <td>{\"cutoff\": \"quantile_0.25\", \"eval_fairness_gro...</td>\n",
       "      <td>41.125556</td>\n",
       "      <td>89710</td>\n",
       "      <td>1.0</td>\n",
       "      <td>0.198606</td>\n",
       "      <td>0.773001</td>\n",
       "      <td>0.175165</td>\n",
       "      <td>0.802086</td>\n",
       "      <td>...</td>\n",
       "      <td>NaN</td>\n",
       "      <td>NaN</td>\n",
       "      <td>NaN</td>\n",
       "      <td>NaN</td>\n",
       "      <td>NaN</td>\n",
       "      <td>NaN</td>\n",
       "      <td>NaN</td>\n",
       "      <td>NaN</td>\n",
       "      <td>NaN</td>\n",
       "      <td>NaN</td>\n",
       "    </tr>\n",
       "    <tr>\n",
       "      <th>0</th>\n",
       "      <td>12</td>\n",
       "      <td>7170ab0067abcca7ad911b3aeac6b314</td>\n",
       "      <td>{\"cutoff\": \"quantile_0.25\", \"eval_fairness_gro...</td>\n",
       "      <td>41.125556</td>\n",
       "      <td>89710</td>\n",
       "      <td>1.0</td>\n",
       "      <td>0.198606</td>\n",
       "      <td>0.773001</td>\n",
       "      <td>0.175165</td>\n",
       "      <td>0.802086</td>\n",
       "      <td>...</td>\n",
       "      <td>0.125419</td>\n",
       "      <td>0.173187</td>\n",
       "      <td>0.874917</td>\n",
       "      <td>0.676312</td>\n",
       "      <td>0.037162</td>\n",
       "      <td>0.069584</td>\n",
       "      <td>0.885054</td>\n",
       "      <td>0.709889</td>\n",
       "      <td>20540.0</td>\n",
       "      <td>69170.0</td>\n",
       "    </tr>\n",
       "  </tbody>\n",
       "</table>\n",
       "<p>4 rows × 50 columns</p>\n",
       "</div>"
      ],
      "text/plain": [
       "  run_no                       universe_id  \\\n",
       "0     12  7170ab0067abcca7ad911b3aeac6b314   \n",
       "0     12  7170ab0067abcca7ad911b3aeac6b314   \n",
       "0     12  7170ab0067abcca7ad911b3aeac6b314   \n",
       "0     12  7170ab0067abcca7ad911b3aeac6b314   \n",
       "\n",
       "                                   universe_settings  execution_time  \\\n",
       "0  {\"cutoff\": \"quantile_0.1\", \"eval_fairness_grou...       41.125556   \n",
       "0  {\"cutoff\": \"quantile_0.1\", \"eval_fairness_grou...       41.125556   \n",
       "0  {\"cutoff\": \"quantile_0.25\", \"eval_fairness_gro...       41.125556   \n",
       "0  {\"cutoff\": \"quantile_0.25\", \"eval_fairness_gro...       41.125556   \n",
       "\n",
       "   test_size_n  test_size_frac  fair_main_equalized_odds_difference  \\\n",
       "0        89710             1.0                             0.101885   \n",
       "0        89710             1.0                             0.101885   \n",
       "0        89710             1.0                             0.198606   \n",
       "0        89710             1.0                             0.198606   \n",
       "\n",
       "   fair_main_equalized_odds_ratio  fair_main_demographic_parity_difference  \\\n",
       "0                        0.894522                                 0.089536   \n",
       "0                        0.894522                                 0.089536   \n",
       "0                        0.773001                                 0.175165   \n",
       "0                        0.773001                                 0.175165   \n",
       "\n",
       "   fair_main_demographic_parity_ratio  ...  perf_grp_precision_0  \\\n",
       "0                            0.907603  ...                   NaN   \n",
       "0                            0.907603  ...              0.118117   \n",
       "0                            0.802086  ...                   NaN   \n",
       "0                            0.802086  ...              0.125419   \n",
       "\n",
       "   perf_grp_precision_1  perf_grp_false positive rate_0  \\\n",
       "0                   NaN                             NaN   \n",
       "0              0.147382                        0.965937   \n",
       "0                   NaN                             NaN   \n",
       "0              0.173187                        0.874917   \n",
       "\n",
       "   perf_grp_false positive rate_1  perf_grp_false negative rate_0  \\\n",
       "0                             NaN                             NaN   \n",
       "0                        0.864051                        0.007179   \n",
       "0                             NaN                             NaN   \n",
       "0                        0.676312                        0.037162   \n",
       "\n",
       "   perf_grp_false negative rate_1  perf_grp_selection rate_0  \\\n",
       "0                             NaN                        NaN   \n",
       "0                        0.019037                   0.969036   \n",
       "0                             NaN                        NaN   \n",
       "0                        0.069584                   0.885054   \n",
       "\n",
       "   perf_grp_selection rate_1  perf_grp_count_0  perf_grp_count_1  \n",
       "0                        NaN               NaN               NaN  \n",
       "0                   0.879500           20540.0           69170.0  \n",
       "0                        NaN               NaN               NaN  \n",
       "0                   0.709889           20540.0           69170.0  \n",
       "\n",
       "[4 rows x 50 columns]"
      ]
     },
     "execution_count": 79,
     "metadata": {},
     "output_type": "execute_result"
    }
   ],
   "source": [
    "final_output = universe_analysis.generate_final_output(\n",
    "    y_pred_prob=probs_test,\n",
    "    y_test=y_true,\n",
    "    org_test=org_test,\n",
    "    filter_data=filter_sub_universe_data,\n",
    "    cp_metrics_df=cp_metrics_df,\n",
    "    save=True,\n",
    ")\n",
    "final_output"
   ]
  },
  {
   "cell_type": "code",
   "execution_count": null,
   "id": "721ff514-cb11-46f8-b6fc-50392f74b5cb",
   "metadata": {
    "papermill": {
     "duration": 0.052825,
     "end_time": "2025-07-30T13:58:40.682483",
     "exception": false,
     "start_time": "2025-07-30T13:58:40.629658",
     "status": "completed"
    },
    "tags": []
   },
   "outputs": [],
   "source": []
  }
 ],
 "metadata": {
  "celltoolbar": "Tags",
  "kernelspec": {
   "display_name": "Python (CMA Fairness)",
   "language": "python",
   "name": "cma_fair_env"
  },
  "language_info": {
   "codemirror_mode": {
    "name": "ipython",
    "version": 3
   },
   "file_extension": ".py",
   "mimetype": "text/x-python",
   "name": "python",
   "nbconvert_exporter": "python",
   "pygments_lexer": "ipython3",
   "version": "3.10.12"
  },
  "papermill": {
   "default_parameters": {},
   "duration": 53.688437,
   "end_time": "2025-07-30T13:58:41.532118",
   "environment_variables": {},
   "exception": null,
   "input_path": "universe_analysis.ipynb",
   "output_path": "output/runs/12/notebooks/m_12-7170ab0067abcca7ad911b3aeac6b314.ipynb",
   "parameters": {
    "output_dir": "output",
    "run_no": "12",
    "seed": "2023",
    "universe": "{\"cutoff\": [\"quantile_0.1\", \"quantile_0.25\"], \"eval_fairness_grouping\": [\"majority-minority\", \"nationality-all\"], \"exclude_features\": \"none\", \"exclude_subgroups\": \"keep-all\", \"model\": \"elasticnet\", \"scale\": \"scale\", \"training_size\": \"5k\", \"training_year\": \"2012_14\"}",
    "universe_id": "7170ab0067abcca7ad911b3aeac6b314"
   },
   "start_time": "2025-07-30T13:57:47.843681",
   "version": "2.6.0"
  }
 },
 "nbformat": 4,
 "nbformat_minor": 5
}