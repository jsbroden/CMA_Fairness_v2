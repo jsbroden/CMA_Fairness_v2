{
 "cells": [
  {
   "cell_type": "code",
   "execution_count": 1,
   "id": "f159f837-637b-42ba-96b5-ec9a68c44524",
   "metadata": {
    "execution": {
     "iopub.execute_input": "2025-07-30T12:47:33.227110Z",
     "iopub.status.busy": "2025-07-30T12:47:33.226604Z",
     "iopub.status.idle": "2025-07-30T12:47:33.241469Z",
     "shell.execute_reply": "2025-07-30T12:47:33.240457Z"
    },
    "papermill": {
     "duration": 0.039809,
     "end_time": "2025-07-30T12:47:33.243256",
     "exception": false,
     "start_time": "2025-07-30T12:47:33.203447",
     "status": "completed"
    },
    "tags": []
   },
   "outputs": [
    {
     "name": "stdout",
     "output_type": "stream",
     "text": [
      "/dss/dsshome1/0C/ra93lal2/cma/CMA_Fairness_v2\n"
     ]
    },
    {
     "name": "stderr",
     "output_type": "stream",
     "text": [
      "/dss/dsshome1/0C/ra93lal2/.local/share/virtualenvs/CMA_Fairness_v2-3j10GkSs/lib/python3.10/site-packages/IPython/core/magics/osm.py:393: UserWarning: This is now an optional IPython functionality, using bookmarks requires you to install the `pickleshare` library.\n",
      "  bkms = self.shell.db.get('bookmarks', {})\n",
      "/dss/dsshome1/0C/ra93lal2/.local/share/virtualenvs/CMA_Fairness_v2-3j10GkSs/lib/python3.10/site-packages/IPython/core/magics/osm.py:417: UserWarning: This is now an optional IPython functionality, setting dhist requires you to install the `pickleshare` library.\n",
      "  self.shell.db['dhist'] = compress_dhist(dhist)[-100:]\n"
     ]
    }
   ],
   "source": [
    "%cd ~/cma/CMA_Fairness_v2"
   ]
  },
  {
   "cell_type": "markdown",
   "id": "de2603b9",
   "metadata": {
    "papermill": {
     "duration": 0.022055,
     "end_time": "2025-07-30T12:47:33.287069",
     "exception": false,
     "start_time": "2025-07-30T12:47:33.265014",
     "status": "completed"
    },
    "tags": []
   },
   "source": [
    "The following cell holds the definition of our parameters, these values can be overriden by rendering the with e.g. the following command:\n",
    "\n",
    "papermill -p alpha 0.2 -p ratio 0.3 universe_analysis.ipynb output/test_run.ipynb"
   ]
  },
  {
   "cell_type": "code",
   "execution_count": 2,
   "id": "a80968a0-40bb-4fa9-85ef-2d5eefb01975",
   "metadata": {
    "execution": {
     "iopub.execute_input": "2025-07-30T12:47:33.332166Z",
     "iopub.status.busy": "2025-07-30T12:47:33.331100Z",
     "iopub.status.idle": "2025-07-30T12:47:33.337169Z",
     "shell.execute_reply": "2025-07-30T12:47:33.336088Z"
    },
    "papermill": {
     "duration": 0.030113,
     "end_time": "2025-07-30T12:47:33.338987",
     "exception": false,
     "start_time": "2025-07-30T12:47:33.308874",
     "status": "completed"
    },
    "tags": []
   },
   "outputs": [
    {
     "name": "stdout",
     "output_type": "stream",
     "text": [
      "Current working directory: /dss/dsshome1/0C/ra93lal2/cma/CMA_Fairness_v2\n"
     ]
    }
   ],
   "source": [
    "import os\n",
    "print(\"Current working directory:\", os.getcwd())"
   ]
  },
  {
   "cell_type": "code",
   "execution_count": 3,
   "id": "2dce4c03",
   "metadata": {
    "execution": {
     "iopub.execute_input": "2025-07-30T12:47:33.385724Z",
     "iopub.status.busy": "2025-07-30T12:47:33.384933Z",
     "iopub.status.idle": "2025-07-30T12:47:33.392138Z",
     "shell.execute_reply": "2025-07-30T12:47:33.391068Z"
    },
    "papermill": {
     "duration": 0.032698,
     "end_time": "2025-07-30T12:47:33.394211",
     "exception": false,
     "start_time": "2025-07-30T12:47:33.361513",
     "status": "completed"
    },
    "tags": [
     "parameters"
    ]
   },
   "outputs": [],
   "source": [
    "run_no = 0\n",
    "universe_id = \"test\"\n",
    "universe = {\n",
    "    \"training_size\": \"25k\", # \"25k\", \"5k\", \"1k\"\n",
    "    \"training_year\": \"2014\", # \"2014\", \"2012_14\", \"2010_14\"\n",
    "    \"scale\": \"scale\", # \"scale\", \"do-not-scale\",\n",
    "    #\"stratify_split\": \"target\", # \"none\", \"target\", \"protected-attribute\", \"both\",\n",
    "    \"model\": \"elasticnet\", # \"logreg\", \"penalized_logreg\", \"rf\", \"gbm\", \"elasticnet\"\n",
    "    \"cutoff\": [\"quantile_0.15\", \"quantile_0.30\"],\n",
    "    \"exclude_features\": \"age\", # \"none\", \"nationality\", \"sex\", \"nationality-sex\", \"age\"\n",
    "    \"exclude_subgroups\": \"keep-all\", # \"keep-all\", \"drop-non-german\"\n",
    "    \"eval_fairness_grouping\": [\"majority-minority\", \"nationality-all\"]\n",
    "}\n",
    "\n",
    "output_dir=\"./output\"\n",
    "seed=0"
   ]
  },
  {
   "cell_type": "code",
   "execution_count": 4,
   "id": "34e038a1",
   "metadata": {
    "execution": {
     "iopub.execute_input": "2025-07-30T12:47:33.439462Z",
     "iopub.status.busy": "2025-07-30T12:47:33.438998Z",
     "iopub.status.idle": "2025-07-30T12:47:33.444895Z",
     "shell.execute_reply": "2025-07-30T12:47:33.443762Z"
    },
    "papermill": {
     "duration": 0.030494,
     "end_time": "2025-07-30T12:47:33.446634",
     "exception": false,
     "start_time": "2025-07-30T12:47:33.416140",
     "status": "completed"
    },
    "tags": [
     "injected-parameters"
    ]
   },
   "outputs": [],
   "source": [
    "# Parameters\n",
    "universe_id = \"c14f35365e2a6f71fff55f9f30f12e75\"\n",
    "run_no = \"12\"\n",
    "universe = \"{\\\"cutoff\\\": [\\\"quantile_0.1\\\", \\\"quantile_0.25\\\"], \\\"eval_fairness_grouping\\\": [\\\"majority-minority\\\", \\\"nationality-all\\\"], \\\"exclude_features\\\": \\\"none\\\", \\\"exclude_subgroups\\\": \\\"keep-all\\\", \\\"model\\\": \\\"rf\\\", \\\"scale\\\": \\\"scale\\\", \\\"training_size\\\": \\\"25k\\\", \\\"training_year\\\": \\\"2014\\\"}\"\n",
    "output_dir = \"output\"\n",
    "seed = \"2023\"\n"
   ]
  },
  {
   "cell_type": "code",
   "execution_count": 5,
   "id": "1650acaf",
   "metadata": {
    "execution": {
     "iopub.execute_input": "2025-07-30T12:47:33.491700Z",
     "iopub.status.busy": "2025-07-30T12:47:33.490815Z",
     "iopub.status.idle": "2025-07-30T12:47:33.496255Z",
     "shell.execute_reply": "2025-07-30T12:47:33.495257Z"
    },
    "papermill": {
     "duration": 0.029121,
     "end_time": "2025-07-30T12:47:33.497720",
     "exception": false,
     "start_time": "2025-07-30T12:47:33.468599",
     "status": "completed"
    },
    "tags": []
   },
   "outputs": [],
   "source": [
    "import json\n",
    "# Parse universe into dict if it is passed as a string\n",
    "if isinstance(universe, str):\n",
    "    universe = json.loads(universe)"
   ]
  },
  {
   "cell_type": "code",
   "execution_count": 6,
   "id": "16620c48",
   "metadata": {
    "execution": {
     "iopub.execute_input": "2025-07-30T12:47:33.521388Z",
     "iopub.status.busy": "2025-07-30T12:47:33.520656Z",
     "iopub.status.idle": "2025-07-30T12:47:33.550923Z",
     "shell.execute_reply": "2025-07-30T12:47:33.550237Z"
    },
    "papermill": {
     "duration": 0.04316,
     "end_time": "2025-07-30T12:47:33.552362",
     "exception": false,
     "start_time": "2025-07-30T12:47:33.509202",
     "status": "completed"
    },
    "tags": []
   },
   "outputs": [],
   "source": [
    "# Auto-reload the custom package\n",
    "%load_ext autoreload\n",
    "%autoreload 1\n",
    "%aimport fairness_multiverse"
   ]
  },
  {
   "cell_type": "code",
   "execution_count": 7,
   "id": "01c5c9f3",
   "metadata": {
    "execution": {
     "iopub.execute_input": "2025-07-30T12:47:33.575894Z",
     "iopub.status.busy": "2025-07-30T12:47:33.575099Z",
     "iopub.status.idle": "2025-07-30T12:47:35.299050Z",
     "shell.execute_reply": "2025-07-30T12:47:35.297914Z"
    },
    "papermill": {
     "duration": 1.73765,
     "end_time": "2025-07-30T12:47:35.301102",
     "exception": false,
     "start_time": "2025-07-30T12:47:33.563452",
     "status": "completed"
    },
    "tags": []
   },
   "outputs": [],
   "source": [
    "from fairness_multiverse.universe import UniverseAnalysis\n",
    "\n",
    "universe_analysis = UniverseAnalysis(\n",
    "    run_no = run_no,\n",
    "    universe_id = universe_id,\n",
    "    universe = universe,\n",
    "    output_dir=output_dir,\n",
    ")"
   ]
  },
  {
   "cell_type": "code",
   "execution_count": 8,
   "id": "106241f5",
   "metadata": {
    "execution": {
     "iopub.execute_input": "2025-07-30T12:47:35.345455Z",
     "iopub.status.busy": "2025-07-30T12:47:35.344939Z",
     "iopub.status.idle": "2025-07-30T12:47:35.352155Z",
     "shell.execute_reply": "2025-07-30T12:47:35.351021Z"
    },
    "papermill": {
     "duration": 0.031298,
     "end_time": "2025-07-30T12:47:35.353783",
     "exception": false,
     "start_time": "2025-07-30T12:47:35.322485",
     "status": "completed"
    },
    "tags": []
   },
   "outputs": [
    {
     "name": "stdout",
     "output_type": "stream",
     "text": [
      "Using Seed: 2023\n"
     ]
    }
   ],
   "source": [
    "import numpy as np\n",
    "parsed_seed = int(seed)\n",
    "np.random.seed(parsed_seed)\n",
    "print(f\"Using Seed: {parsed_seed}\")"
   ]
  },
  {
   "cell_type": "markdown",
   "id": "e0ebdc57",
   "metadata": {
    "papermill": {
     "duration": 0.020701,
     "end_time": "2025-07-30T12:47:35.395591",
     "exception": false,
     "start_time": "2025-07-30T12:47:35.374890",
     "status": "completed"
    },
    "tags": []
   },
   "source": [
    "# Loading Data"
   ]
  },
  {
   "cell_type": "markdown",
   "id": "681925a3",
   "metadata": {
    "papermill": {
     "duration": 0.020187,
     "end_time": "2025-07-30T12:47:35.437025",
     "exception": false,
     "start_time": "2025-07-30T12:47:35.416838",
     "status": "completed"
    },
    "tags": []
   },
   "source": [
    "Load siab_train, siab_test, siab_calib and/or \n",
    "load siab_train_features, siab_train_labels"
   ]
  },
  {
   "cell_type": "code",
   "execution_count": 9,
   "id": "f0496b8a",
   "metadata": {
    "execution": {
     "iopub.execute_input": "2025-07-30T12:47:35.480285Z",
     "iopub.status.busy": "2025-07-30T12:47:35.479568Z",
     "iopub.status.idle": "2025-07-30T12:47:49.485541Z",
     "shell.execute_reply": "2025-07-30T12:47:49.483884Z"
    },
    "papermill": {
     "duration": 14.030234,
     "end_time": "2025-07-30T12:47:49.487437",
     "exception": false,
     "start_time": "2025-07-30T12:47:35.457203",
     "status": "completed"
    },
    "tags": []
   },
   "outputs": [
    {
     "name": "stdout",
     "output_type": "stream",
     "text": [
      "Loading SIAB data from cache: data/siab_cached.csv.gz\n"
     ]
    },
    {
     "name": "stdout",
     "output_type": "stream",
     "text": [
      "(643690, 164)\n"
     ]
    }
   ],
   "source": [
    "from pathlib import Path\n",
    "import pandas as pd\n",
    "\n",
    "# File paths\n",
    "raw_file = Path(\"data/raw/siab.csv\")\n",
    "cache_file = Path(\"data/siab_cached.csv.gz\")\n",
    "\n",
    "# Ensure cache directory exists\n",
    "cache_file.parent.mkdir(parents=True, exist_ok=True)\n",
    "\n",
    "# Load with simple caching\n",
    "if cache_file.exists():\n",
    "    print(f\"Loading SIAB data from cache: {cache_file}\")\n",
    "    siab = pd.read_csv(cache_file, compression='gzip')\n",
    "else:\n",
    "    print(f\"Cache not found. Reading raw SIAB data: {raw_file}\")\n",
    "    siab = pd.read_csv(raw_file)\n",
    "    siab.to_csv(cache_file, index=False, compression='gzip')\n",
    "    print(f\"Cached SIAB data to: {cache_file}\")\n",
    "\n",
    "# Now use `siab` DataFrame as needed\n",
    "print(siab.shape)"
   ]
  },
  {
   "cell_type": "code",
   "execution_count": 10,
   "id": "db0ca512-5f53-4dba-abdb-a2888bca41ba",
   "metadata": {
    "execution": {
     "iopub.execute_input": "2025-07-30T12:47:49.535850Z",
     "iopub.status.busy": "2025-07-30T12:47:49.535448Z",
     "iopub.status.idle": "2025-07-30T12:47:49.541036Z",
     "shell.execute_reply": "2025-07-30T12:47:49.540070Z"
    },
    "papermill": {
     "duration": 0.031683,
     "end_time": "2025-07-30T12:47:49.543200",
     "exception": false,
     "start_time": "2025-07-30T12:47:49.511517",
     "status": "completed"
    },
    "tags": []
   },
   "outputs": [],
   "source": [
    "#siab"
   ]
  },
  {
   "cell_type": "code",
   "execution_count": 11,
   "id": "a0edb063",
   "metadata": {
    "execution": {
     "iopub.execute_input": "2025-07-30T12:47:49.592946Z",
     "iopub.status.busy": "2025-07-30T12:47:49.592349Z",
     "iopub.status.idle": "2025-07-30T12:47:49.598431Z",
     "shell.execute_reply": "2025-07-30T12:47:49.597229Z"
    },
    "papermill": {
     "duration": 0.030378,
     "end_time": "2025-07-30T12:47:49.600499",
     "exception": false,
     "start_time": "2025-07-30T12:47:49.570121",
     "status": "completed"
    },
    "tags": []
   },
   "outputs": [],
   "source": [
    "#import pandas as pd\n",
    "#\n",
    "#X_train = pd.read_csv(\"./data/X_train.csv\")\n",
    "#y_train = pd.read_csv(\"./data/y_train.csv\")"
   ]
  },
  {
   "cell_type": "code",
   "execution_count": 12,
   "id": "63d08085",
   "metadata": {
    "execution": {
     "iopub.execute_input": "2025-07-30T12:47:49.661001Z",
     "iopub.status.busy": "2025-07-30T12:47:49.660442Z",
     "iopub.status.idle": "2025-07-30T12:47:49.665838Z",
     "shell.execute_reply": "2025-07-30T12:47:49.664753Z"
    },
    "papermill": {
     "duration": 0.051432,
     "end_time": "2025-07-30T12:47:49.681165",
     "exception": false,
     "start_time": "2025-07-30T12:47:49.629733",
     "status": "completed"
    },
    "tags": []
   },
   "outputs": [],
   "source": [
    "#X_test = pd.read_csv(\"./data/X_test.csv\")\n",
    "#y_true = pd.read_csv(\"./data/y_test.csv\")"
   ]
  },
  {
   "cell_type": "code",
   "execution_count": 13,
   "id": "98a8d0fa-1d3d-4ed8-bb2c-281470e24add",
   "metadata": {
    "execution": {
     "iopub.execute_input": "2025-07-30T12:47:49.711705Z",
     "iopub.status.busy": "2025-07-30T12:47:49.710744Z",
     "iopub.status.idle": "2025-07-30T12:47:49.716187Z",
     "shell.execute_reply": "2025-07-30T12:47:49.715090Z"
    },
    "papermill": {
     "duration": 0.024455,
     "end_time": "2025-07-30T12:47:49.717995",
     "exception": false,
     "start_time": "2025-07-30T12:47:49.693540",
     "status": "completed"
    },
    "tags": []
   },
   "outputs": [],
   "source": [
    "# Calibration data for conformal\n",
    "#X_calib = pd.read_csv(\"./data/X_calib.csv\")\n",
    "#y_calib = pd.read_csv(\"./data/y_calib.csv\")"
   ]
  },
  {
   "cell_type": "markdown",
   "id": "997051c5-15bd-4b69-9786-c3001a3ce484",
   "metadata": {
    "papermill": {
     "duration": 0.017814,
     "end_time": "2025-07-30T12:47:49.758336",
     "exception": false,
     "start_time": "2025-07-30T12:47:49.740522",
     "status": "completed"
    },
    "tags": []
   },
   "source": [
    "# Splitting Data and Setting Training Data Size"
   ]
  },
  {
   "cell_type": "code",
   "execution_count": 14,
   "id": "e993b61f-042d-41a6-8c81-f55681f86335",
   "metadata": {
    "execution": {
     "iopub.execute_input": "2025-07-30T12:47:49.781800Z",
     "iopub.status.busy": "2025-07-30T12:47:49.781434Z",
     "iopub.status.idle": "2025-07-30T12:47:49.791197Z",
     "shell.execute_reply": "2025-07-30T12:47:49.790242Z"
    },
    "papermill": {
     "duration": 0.024532,
     "end_time": "2025-07-30T12:47:49.793868",
     "exception": false,
     "start_time": "2025-07-30T12:47:49.769336",
     "status": "completed"
    },
    "tags": []
   },
   "outputs": [],
   "source": [
    "def sample_by_year_size(df,\n",
    "                        training_year: str,\n",
    "                        training_size: str,\n",
    "                        random_state: int = 42):\n",
    "    # --- parse training_year into a list of int years ---\n",
    "    if \"_\" in training_year:\n",
    "        start_str, end_str = training_year.split(\"_\", 1)\n",
    "        start = int(start_str)\n",
    "        end   = int(end_str) if len(end_str) == 4 else (int(end_str) + (start // 100)*100)\n",
    "        years = list(range(start, end + 1))\n",
    "    else:\n",
    "        years = [int(training_year)]\n",
    "\n",
    "    df = df[df[\"year\"].isin(years)].reset_index(drop=True)\n",
    "\n",
    "    # --- map training_size to total number of samples ---\n",
    "    total_map = {\"25k\": 25_000, \"5k\": 5_000, \"1k\": 1_000}\n",
    "    if training_size not in total_map:\n",
    "        return df  # e.g. \"all\"\n",
    "\n",
    "    total_samples = total_map[training_size]\n",
    "    n_years       = len(years)\n",
    "    base          = total_samples // n_years\n",
    "    remainder     = total_samples % n_years\n",
    "\n",
    "    # --- build a dict: year -> how many to sample ---\n",
    "    # give +1 to the first `remainder` years in ascending order\n",
    "    quotas = {\n",
    "        year: base + (1 if idx < remainder else 0)\n",
    "        for idx, year in enumerate(sorted(years))\n",
    "    }\n",
    "\n",
    "    # --- sample per‐year according to the quota dict ---\n",
    "    sampled = (\n",
    "        df\n",
    "        .groupby(\"year\", group_keys=False)\n",
    "        .apply(lambda grp: grp.sample(\n",
    "            n=min(len(grp), quotas[grp.name]),\n",
    "            random_state=random_state))\n",
    "        .reset_index(drop=True)\n",
    "    )\n",
    "\n",
    "    return sampled"
   ]
  },
  {
   "cell_type": "code",
   "execution_count": 15,
   "id": "c0ccd338-0e02-41f3-a09d-f56f9266e3fb",
   "metadata": {
    "execution": {
     "iopub.execute_input": "2025-07-30T12:47:49.837825Z",
     "iopub.status.busy": "2025-07-30T12:47:49.837223Z",
     "iopub.status.idle": "2025-07-30T12:47:49.852004Z",
     "shell.execute_reply": "2025-07-30T12:47:49.850796Z"
    },
    "papermill": {
     "duration": 0.040424,
     "end_time": "2025-07-30T12:47:49.854207",
     "exception": false,
     "start_time": "2025-07-30T12:47:49.813783",
     "status": "completed"
    },
    "tags": []
   },
   "outputs": [
    {
     "data": {
      "text/plain": [
       "'25k'"
      ]
     },
     "execution_count": 15,
     "metadata": {},
     "output_type": "execute_result"
    }
   ],
   "source": [
    "universe[\"training_size\"]"
   ]
  },
  {
   "cell_type": "code",
   "execution_count": 16,
   "id": "ca707fd7-8047-4acd-bfa5-66248fbbf8e6",
   "metadata": {
    "execution": {
     "iopub.execute_input": "2025-07-30T12:47:49.901502Z",
     "iopub.status.busy": "2025-07-30T12:47:49.900961Z",
     "iopub.status.idle": "2025-07-30T12:47:49.909570Z",
     "shell.execute_reply": "2025-07-30T12:47:49.908515Z"
    },
    "papermill": {
     "duration": 0.033743,
     "end_time": "2025-07-30T12:47:49.911012",
     "exception": false,
     "start_time": "2025-07-30T12:47:49.877269",
     "status": "completed"
    },
    "tags": []
   },
   "outputs": [
    {
     "data": {
      "text/plain": [
       "'2014'"
      ]
     },
     "execution_count": 16,
     "metadata": {},
     "output_type": "execute_result"
    }
   ],
   "source": [
    "universe[\"training_year\"]"
   ]
  },
  {
   "cell_type": "code",
   "execution_count": 17,
   "id": "aea9c6ef-6f46-42c8-85eb-5a62025c1508",
   "metadata": {
    "execution": {
     "iopub.execute_input": "2025-07-30T12:47:49.961582Z",
     "iopub.status.busy": "2025-07-30T12:47:49.961047Z",
     "iopub.status.idle": "2025-07-30T12:47:50.312278Z",
     "shell.execute_reply": "2025-07-30T12:47:50.311185Z"
    },
    "papermill": {
     "duration": 0.378815,
     "end_time": "2025-07-30T12:47:50.314026",
     "exception": false,
     "start_time": "2025-07-30T12:47:49.935211",
     "status": "completed"
    },
    "tags": []
   },
   "outputs": [],
   "source": [
    "siab_train = sample_by_year_size(siab,\n",
    "                               training_year=universe[\"training_year\"],\n",
    "                               training_size=universe[\"training_size\"])"
   ]
  },
  {
   "cell_type": "code",
   "execution_count": 18,
   "id": "8d3afb32-789d-442c-8d5d-9f5aa8dd2eed",
   "metadata": {
    "execution": {
     "iopub.execute_input": "2025-07-30T12:47:50.361018Z",
     "iopub.status.busy": "2025-07-30T12:47:50.360661Z",
     "iopub.status.idle": "2025-07-30T12:47:50.367075Z",
     "shell.execute_reply": "2025-07-30T12:47:50.366339Z"
    },
    "papermill": {
     "duration": 0.035033,
     "end_time": "2025-07-30T12:47:50.369884",
     "exception": false,
     "start_time": "2025-07-30T12:47:50.334851",
     "status": "completed"
    },
    "tags": []
   },
   "outputs": [
    {
     "data": {
      "text/plain": [
       "(25000, 164)"
      ]
     },
     "execution_count": 18,
     "metadata": {},
     "output_type": "execute_result"
    }
   ],
   "source": [
    "siab_train.shape"
   ]
  },
  {
   "cell_type": "code",
   "execution_count": 19,
   "id": "d582db68-1a4c-47fb-84fc-08518dc1975a",
   "metadata": {
    "execution": {
     "iopub.execute_input": "2025-07-30T12:47:50.396416Z",
     "iopub.status.busy": "2025-07-30T12:47:50.396062Z",
     "iopub.status.idle": "2025-07-30T12:47:50.404887Z",
     "shell.execute_reply": "2025-07-30T12:47:50.403644Z"
    },
    "papermill": {
     "duration": 0.023727,
     "end_time": "2025-07-30T12:47:50.407113",
     "exception": false,
     "start_time": "2025-07-30T12:47:50.383386",
     "status": "completed"
    },
    "tags": []
   },
   "outputs": [
    {
     "data": {
      "text/plain": [
       "year\n",
       "2014    25000\n",
       "dtype: int64"
      ]
     },
     "metadata": {},
     "output_type": "display_data"
    }
   ],
   "source": [
    "display(siab_train.groupby(\"year\").size())"
   ]
  },
  {
   "cell_type": "code",
   "execution_count": 20,
   "id": "a561edb4-d032-42cb-8256-22eac1111c64",
   "metadata": {
    "execution": {
     "iopub.execute_input": "2025-07-30T12:47:50.454758Z",
     "iopub.status.busy": "2025-07-30T12:47:50.453832Z",
     "iopub.status.idle": "2025-07-30T12:47:50.745131Z",
     "shell.execute_reply": "2025-07-30T12:47:50.744113Z"
    },
    "papermill": {
     "duration": 0.313713,
     "end_time": "2025-07-30T12:47:50.746940",
     "exception": false,
     "start_time": "2025-07-30T12:47:50.433227",
     "status": "completed"
    },
    "tags": []
   },
   "outputs": [],
   "source": [
    "#siab_train = siab_s[siab_s.year < 2015]\n",
    "siab_calib = siab[siab.year == 2015]\n",
    "siab_test = siab[siab.year == 2016]"
   ]
  },
  {
   "cell_type": "code",
   "execution_count": 21,
   "id": "472de16f-c3db-4916-846b-1f0de9cf1746",
   "metadata": {
    "execution": {
     "iopub.execute_input": "2025-07-30T12:47:50.778872Z",
     "iopub.status.busy": "2025-07-30T12:47:50.778497Z",
     "iopub.status.idle": "2025-07-30T12:47:50.791806Z",
     "shell.execute_reply": "2025-07-30T12:47:50.790666Z"
    },
    "papermill": {
     "duration": 0.029113,
     "end_time": "2025-07-30T12:47:50.793772",
     "exception": false,
     "start_time": "2025-07-30T12:47:50.764659",
     "status": "completed"
    },
    "tags": []
   },
   "outputs": [],
   "source": [
    "X_train = siab_train.iloc[:,4:164]\n",
    "y_train = siab_train.iloc[:, [3]]"
   ]
  },
  {
   "cell_type": "code",
   "execution_count": 22,
   "id": "828c96af-f43a-4ed6-ba47-8ac73a47d56c",
   "metadata": {
    "execution": {
     "iopub.execute_input": "2025-07-30T12:47:50.848276Z",
     "iopub.status.busy": "2025-07-30T12:47:50.845582Z",
     "iopub.status.idle": "2025-07-30T12:47:50.904612Z",
     "shell.execute_reply": "2025-07-30T12:47:50.903366Z"
    },
    "papermill": {
     "duration": 0.086511,
     "end_time": "2025-07-30T12:47:50.906403",
     "exception": false,
     "start_time": "2025-07-30T12:47:50.819892",
     "status": "completed"
    },
    "tags": []
   },
   "outputs": [],
   "source": [
    "X_calib = siab_calib.iloc[:,4:164]\n",
    "y_calib = siab_calib.iloc[:, [3]]"
   ]
  },
  {
   "cell_type": "code",
   "execution_count": 23,
   "id": "c34be9c3-6bd6-476e-acd3-845840e303be",
   "metadata": {
    "execution": {
     "iopub.execute_input": "2025-07-30T12:47:50.970989Z",
     "iopub.status.busy": "2025-07-30T12:47:50.970445Z",
     "iopub.status.idle": "2025-07-30T12:47:51.029573Z",
     "shell.execute_reply": "2025-07-30T12:47:51.028531Z"
    },
    "papermill": {
     "duration": 0.094466,
     "end_time": "2025-07-30T12:47:51.031057",
     "exception": false,
     "start_time": "2025-07-30T12:47:50.936591",
     "status": "completed"
    },
    "tags": []
   },
   "outputs": [],
   "source": [
    "X_test = siab_test.iloc[:,4:164]\n",
    "y_true = siab_test.iloc[:, [3]]"
   ]
  },
  {
   "cell_type": "markdown",
   "id": "9901737e-04df-44f0-9100-f5ad144ed040",
   "metadata": {
    "papermill": {
     "duration": 0.024036,
     "end_time": "2025-07-30T12:47:51.076830",
     "exception": false,
     "start_time": "2025-07-30T12:47:51.052794",
     "status": "completed"
    },
    "tags": []
   },
   "source": [
    "# Splitting Data and Setting Training Data Size OLD VERSION"
   ]
  },
  {
   "cell_type": "code",
   "execution_count": 24,
   "id": "acbc8f7d-8fc8-4e86-8c59-5dcb0f58384b",
   "metadata": {
    "execution": {
     "iopub.execute_input": "2025-07-30T12:47:51.115868Z",
     "iopub.status.busy": "2025-07-30T12:47:51.114908Z",
     "iopub.status.idle": "2025-07-30T12:47:51.120903Z",
     "shell.execute_reply": "2025-07-30T12:47:51.119793Z"
    },
    "papermill": {
     "duration": 0.031371,
     "end_time": "2025-07-30T12:47:51.123299",
     "exception": false,
     "start_time": "2025-07-30T12:47:51.091928",
     "status": "completed"
    },
    "tags": []
   },
   "outputs": [],
   "source": [
    "#def sample_by_year(df, training_size, random_state=42):\n",
    "#    if training_size == \"2014\":\n",
    "#        return df[df[\"year\"] == 2014].reset_index(drop=True)\n",
    "#    \n",
    "#    size_map = {\n",
    "#        \"25k\": 5000,\n",
    "#        \"5k\": 1000,\n",
    "#        \"1k\": 200\n",
    "#    }\n",
    "#\n",
    "#    if training_size not in size_map:\n",
    "#        return df.reset_index(drop=True)  # use all data\n",
    "#\n",
    "#    n_per_year = size_map[training_size]\n",
    "#    grouped = df.groupby(\"year\")\n",
    "#    sampled = grouped.apply(lambda x: x.sample(n=min(n_per_year, len(x)), random_state=random_state))\n",
    "#    return sampled.reset_index(drop=True)"
   ]
  },
  {
   "cell_type": "code",
   "execution_count": 25,
   "id": "6d931f52-beaf-43ff-9e78-9d44a448d54e",
   "metadata": {
    "execution": {
     "iopub.execute_input": "2025-07-30T12:47:51.172148Z",
     "iopub.status.busy": "2025-07-30T12:47:51.171642Z",
     "iopub.status.idle": "2025-07-30T12:47:51.177190Z",
     "shell.execute_reply": "2025-07-30T12:47:51.176101Z"
    },
    "papermill": {
     "duration": 0.030399,
     "end_time": "2025-07-30T12:47:51.179583",
     "exception": false,
     "start_time": "2025-07-30T12:47:51.149184",
     "status": "completed"
    },
    "tags": []
   },
   "outputs": [],
   "source": [
    "#siab_s = sample_by_year(siab, universe[\"training_size\"])"
   ]
  },
  {
   "cell_type": "code",
   "execution_count": 26,
   "id": "5db0a40e-a4e2-4920-be85-b12ae061d70d",
   "metadata": {
    "execution": {
     "iopub.execute_input": "2025-07-30T12:47:51.213649Z",
     "iopub.status.busy": "2025-07-30T12:47:51.212887Z",
     "iopub.status.idle": "2025-07-30T12:47:51.218562Z",
     "shell.execute_reply": "2025-07-30T12:47:51.217491Z"
    },
    "papermill": {
     "duration": 0.022464,
     "end_time": "2025-07-30T12:47:51.220565",
     "exception": false,
     "start_time": "2025-07-30T12:47:51.198101",
     "status": "completed"
    },
    "tags": []
   },
   "outputs": [],
   "source": [
    "#display(siab_s.groupby(\"year\").size())"
   ]
  },
  {
   "cell_type": "code",
   "execution_count": 27,
   "id": "e6c733c5",
   "metadata": {
    "execution": {
     "iopub.execute_input": "2025-07-30T12:47:51.273374Z",
     "iopub.status.busy": "2025-07-30T12:47:51.272846Z",
     "iopub.status.idle": "2025-07-30T12:47:51.384974Z",
     "shell.execute_reply": "2025-07-30T12:47:51.383733Z"
    },
    "papermill": {
     "duration": 0.141172,
     "end_time": "2025-07-30T12:47:51.387088",
     "exception": false,
     "start_time": "2025-07-30T12:47:51.245916",
     "status": "completed"
    },
    "tags": []
   },
   "outputs": [],
   "source": [
    "# Auxiliary data needed downstream in the pipeline\n",
    "\n",
    "org_train = X_train.copy()\n",
    "org_test = X_test.copy()\n",
    "org_calib = X_calib.copy()"
   ]
  },
  {
   "cell_type": "code",
   "execution_count": 28,
   "id": "1466abac-c6da-4492-a62f-4240ae3783af",
   "metadata": {
    "execution": {
     "iopub.execute_input": "2025-07-30T12:47:51.439840Z",
     "iopub.status.busy": "2025-07-30T12:47:51.439327Z",
     "iopub.status.idle": "2025-07-30T12:47:51.445734Z",
     "shell.execute_reply": "2025-07-30T12:47:51.444538Z"
    },
    "papermill": {
     "duration": 0.036031,
     "end_time": "2025-07-30T12:47:51.448177",
     "exception": false,
     "start_time": "2025-07-30T12:47:51.412146",
     "status": "completed"
    },
    "tags": []
   },
   "outputs": [],
   "source": [
    "# put in other script?\n",
    "# Group sizes\n",
    "\n",
    "#def calculate_percentages(df, df_name):\n",
    "#    total_entries = len(df)\n",
    "#\n",
    "#    female_pct = (df['frau1'] == 1).mean() * 100\n",
    "#    non_german_pct = ((df['maxdeutsch1'] == 0) & (df['maxdeutsch.Missing.'] == 0)).mean() * 100\n",
    "#    non_german_male_pct = ((df['frau1'] == 0) & (df['maxdeutsch1'] == 0) & (df['maxdeutsch.Missing.'] == 0)).mean() * 100\n",
    "#    non_german_female_pct = ((df['frau1'] == 1) & (df['maxdeutsch1'] == 0) & (df['maxdeutsch.Missing.'] == 0)).mean() * 100\n",
    "#\n",
    "#    print(f\"--- {df_name} ---\")\n",
    "#    print(f\"Female: {female_pct:.2f}%\")\n",
    "#    print(f\"Non-German: {non_german_pct:.2f}%\")\n",
    "#    print(f\"Non-German Male: {non_german_male_pct:.2f}%\")\n",
    "#    print(f\"Non-German Female: {non_german_female_pct:.2f}%\\n\")\n",
    "#\n",
    "## Calculate for each DataFrame\n",
    "#calculate_percentages(siab_calib, \"siab_calib\")\n",
    "#calculate_percentages(siab_test, \"siab_test\")\n",
    "#calculate_percentages(siab_train, \"siab_train\")"
   ]
  },
  {
   "cell_type": "markdown",
   "id": "0a4a1b33",
   "metadata": {
    "papermill": {
     "duration": 0.011667,
     "end_time": "2025-07-30T12:47:51.485279",
     "exception": false,
     "start_time": "2025-07-30T12:47:51.473612",
     "status": "completed"
    },
    "tags": []
   },
   "source": [
    "# Preprocessing Data"
   ]
  },
  {
   "cell_type": "code",
   "execution_count": 29,
   "id": "ca879031",
   "metadata": {
    "execution": {
     "iopub.execute_input": "2025-07-30T12:47:51.528166Z",
     "iopub.status.busy": "2025-07-30T12:47:51.527670Z",
     "iopub.status.idle": "2025-07-30T12:47:51.536176Z",
     "shell.execute_reply": "2025-07-30T12:47:51.534881Z"
    },
    "papermill": {
     "duration": 0.03843,
     "end_time": "2025-07-30T12:47:51.538029",
     "exception": false,
     "start_time": "2025-07-30T12:47:51.499599",
     "status": "completed"
    },
    "tags": []
   },
   "outputs": [],
   "source": [
    "# EXCLUDE PROTECTED FEATURES\n",
    "# ----------------------\n",
    "# \"exclude_features\": \"none\", # \"nationality\", \"sex\", \"nationality-sex\"\n",
    "\n",
    "excluded_features = universe[\"exclude_features\"].split(\"-\") # split, e.g.: \"nationality-sex\" -> [\"nationality\", \"sex\"]\n",
    "excluded_features_dictionary = {\n",
    "    \"nationality\": [\"maxdeutsch1\", \"maxdeutsch.Missing.\"],\n",
    "    \"sex\": [\"frau1\"],\n",
    "    \"age\": [\"age\"],\n",
    "}\n"
   ]
  },
  {
   "cell_type": "code",
   "execution_count": 30,
   "id": "b745ac60",
   "metadata": {
    "execution": {
     "iopub.execute_input": "2025-07-30T12:47:51.593453Z",
     "iopub.status.busy": "2025-07-30T12:47:51.592903Z",
     "iopub.status.idle": "2025-07-30T12:47:51.599133Z",
     "shell.execute_reply": "2025-07-30T12:47:51.598067Z"
    },
    "papermill": {
     "duration": 0.037272,
     "end_time": "2025-07-30T12:47:51.601053",
     "exception": false,
     "start_time": "2025-07-30T12:47:51.563781",
     "status": "completed"
    },
    "tags": []
   },
   "outputs": [],
   "source": [
    "# Code nice names to column names\n",
    "\n",
    "excluded_features_columns = [\n",
    "    excluded_features_dictionary[f] for f in excluded_features if len(f) > 0 and f != \"none\"\n",
    "]"
   ]
  },
  {
   "cell_type": "code",
   "execution_count": 31,
   "id": "f84f73a2",
   "metadata": {
    "execution": {
     "iopub.execute_input": "2025-07-30T12:47:51.653624Z",
     "iopub.status.busy": "2025-07-30T12:47:51.653083Z",
     "iopub.status.idle": "2025-07-30T12:47:51.659979Z",
     "shell.execute_reply": "2025-07-30T12:47:51.659028Z"
    },
    "papermill": {
     "duration": 0.036682,
     "end_time": "2025-07-30T12:47:51.661932",
     "exception": false,
     "start_time": "2025-07-30T12:47:51.625250",
     "status": "completed"
    },
    "tags": []
   },
   "outputs": [],
   "source": [
    "from utils import flatten_once\n",
    "\n",
    "excluded_features_columns = flatten_once(excluded_features_columns)"
   ]
  },
  {
   "cell_type": "code",
   "execution_count": 32,
   "id": "884dea22",
   "metadata": {
    "execution": {
     "iopub.execute_input": "2025-07-30T12:47:51.710993Z",
     "iopub.status.busy": "2025-07-30T12:47:51.710560Z",
     "iopub.status.idle": "2025-07-30T12:47:51.716887Z",
     "shell.execute_reply": "2025-07-30T12:47:51.715686Z"
    },
    "papermill": {
     "duration": 0.034412,
     "end_time": "2025-07-30T12:47:51.718859",
     "exception": false,
     "start_time": "2025-07-30T12:47:51.684447",
     "status": "completed"
    },
    "tags": []
   },
   "outputs": [],
   "source": [
    "if len(excluded_features_columns) > 0:\n",
    "    print(f\"Dropping features: {excluded_features_columns}\")\n",
    "    X_train.drop(excluded_features_columns, axis=1, inplace=True)"
   ]
  },
  {
   "cell_type": "code",
   "execution_count": 33,
   "id": "95ab8b16",
   "metadata": {
    "execution": {
     "iopub.execute_input": "2025-07-30T12:47:51.759882Z",
     "iopub.status.busy": "2025-07-30T12:47:51.759431Z",
     "iopub.status.idle": "2025-07-30T12:47:51.764553Z",
     "shell.execute_reply": "2025-07-30T12:47:51.763728Z"
    },
    "papermill": {
     "duration": 0.022516,
     "end_time": "2025-07-30T12:47:51.765977",
     "exception": false,
     "start_time": "2025-07-30T12:47:51.743461",
     "status": "completed"
    },
    "tags": []
   },
   "outputs": [],
   "source": [
    "if len(excluded_features_columns) > 0:\n",
    "    print(f\"Dropping features: {excluded_features_columns}\")\n",
    "    X_test.drop(excluded_features_columns, axis=1, inplace=True)"
   ]
  },
  {
   "cell_type": "code",
   "execution_count": 34,
   "id": "1853aaf5-fb9f-46cb-a2b5-8ea4ae2237e4",
   "metadata": {
    "execution": {
     "iopub.execute_input": "2025-07-30T12:47:51.807366Z",
     "iopub.status.busy": "2025-07-30T12:47:51.806836Z",
     "iopub.status.idle": "2025-07-30T12:47:51.813557Z",
     "shell.execute_reply": "2025-07-30T12:47:51.812302Z"
    },
    "papermill": {
     "duration": 0.035059,
     "end_time": "2025-07-30T12:47:51.815663",
     "exception": false,
     "start_time": "2025-07-30T12:47:51.780604",
     "status": "completed"
    },
    "tags": []
   },
   "outputs": [],
   "source": [
    "if len(excluded_features_columns) > 0:\n",
    "    print(f\"Dropping features: {excluded_features_columns}\")\n",
    "    X_calib.drop(excluded_features_columns, axis=1, inplace=True)"
   ]
  },
  {
   "cell_type": "code",
   "execution_count": 35,
   "id": "6727d079-03e5-481e-9d38-292a90b7a0a8",
   "metadata": {
    "execution": {
     "iopub.execute_input": "2025-07-30T12:47:51.866605Z",
     "iopub.status.busy": "2025-07-30T12:47:51.865583Z",
     "iopub.status.idle": "2025-07-30T12:47:51.871761Z",
     "shell.execute_reply": "2025-07-30T12:47:51.870519Z"
    },
    "papermill": {
     "duration": 0.033232,
     "end_time": "2025-07-30T12:47:51.873623",
     "exception": false,
     "start_time": "2025-07-30T12:47:51.840391",
     "status": "completed"
    },
    "tags": []
   },
   "outputs": [],
   "source": [
    "# SPLIT & STRATIFY DATA\n",
    "# ----------------------"
   ]
  },
  {
   "cell_type": "code",
   "execution_count": 36,
   "id": "76c4dc6d",
   "metadata": {
    "execution": {
     "iopub.execute_input": "2025-07-30T12:47:51.901843Z",
     "iopub.status.busy": "2025-07-30T12:47:51.901498Z",
     "iopub.status.idle": "2025-07-30T12:47:51.907852Z",
     "shell.execute_reply": "2025-07-30T12:47:51.906221Z"
    },
    "papermill": {
     "duration": 0.025626,
     "end_time": "2025-07-30T12:47:51.913470",
     "exception": false,
     "start_time": "2025-07-30T12:47:51.887844",
     "status": "completed"
    },
    "tags": []
   },
   "outputs": [],
   "source": [
    "# EXCLUDE CERTAIN SUBGROUPS\n",
    "# ----------------------\n",
    "\n",
    "mode = universe.get(\"exclude_subgroups\", \"keep-all\") \n",
    "# Fetches the exclude_subgroups setting from the universe dict.\n",
    "# Defaults to \"keep-all\" if the key is missing."
   ]
  },
  {
   "cell_type": "code",
   "execution_count": 37,
   "id": "21994072",
   "metadata": {
    "execution": {
     "iopub.execute_input": "2025-07-30T12:47:51.961136Z",
     "iopub.status.busy": "2025-07-30T12:47:51.960579Z",
     "iopub.status.idle": "2025-07-30T12:47:51.968690Z",
     "shell.execute_reply": "2025-07-30T12:47:51.967373Z"
    },
    "papermill": {
     "duration": 0.033737,
     "end_time": "2025-07-30T12:47:51.970575",
     "exception": false,
     "start_time": "2025-07-30T12:47:51.936838",
     "status": "completed"
    },
    "tags": []
   },
   "outputs": [],
   "source": [
    "if mode == \"keep-all\":\n",
    "    keep_mask = pd.Series(True, index=org_train.index)\n",
    "\n",
    "# org_train contains the original feature columns from features_org (in Simson)\n",
    "# features_org contains unprocessed features, for me X_train at beginning ???\n",
    "# For keep-all, creates a boolean Series (keep_mask) of all True, so no rows are removed.\n",
    "\n",
    "elif mode == \"drop-non-german\":\n",
    "    keep_mask = org_train[\"maxdeutsch1\"] == 1 # ??? what about missing values?\n",
    "\n",
    "else:\n",
    "    raise ValueError(f\"Unsupported mode for exclude_subgroups: {mode}\")\n"
   ]
  },
  {
   "cell_type": "code",
   "execution_count": 38,
   "id": "71651440",
   "metadata": {
    "execution": {
     "iopub.execute_input": "2025-07-30T12:47:52.021397Z",
     "iopub.status.busy": "2025-07-30T12:47:52.020896Z",
     "iopub.status.idle": "2025-07-30T12:47:52.027782Z",
     "shell.execute_reply": "2025-07-30T12:47:52.026801Z"
    },
    "papermill": {
     "duration": 0.034697,
     "end_time": "2025-07-30T12:47:52.029793",
     "exception": false,
     "start_time": "2025-07-30T12:47:51.995096",
     "status": "completed"
    },
    "tags": []
   },
   "outputs": [],
   "source": [
    "n_drop = (~keep_mask).sum() # Calculates how many rows are set to be dropped\n",
    "if n_drop > 0:\n",
    "    pct = n_drop / len(keep_mask) * 100\n",
    "    print(f\"Dropping {n_drop} rows ({pct:.2f}%) where mode='{mode}'\")"
   ]
  },
  {
   "cell_type": "code",
   "execution_count": 39,
   "id": "5fb8eee5",
   "metadata": {
    "execution": {
     "iopub.execute_input": "2025-07-30T12:47:52.083135Z",
     "iopub.status.busy": "2025-07-30T12:47:52.082149Z",
     "iopub.status.idle": "2025-07-30T12:47:52.098416Z",
     "shell.execute_reply": "2025-07-30T12:47:52.097321Z"
    },
    "papermill": {
     "duration": 0.045146,
     "end_time": "2025-07-30T12:47:52.100656",
     "exception": false,
     "start_time": "2025-07-30T12:47:52.055510",
     "status": "completed"
    },
    "tags": []
   },
   "outputs": [],
   "source": [
    "X_train = X_train[keep_mask]"
   ]
  },
  {
   "cell_type": "code",
   "execution_count": 40,
   "id": "b202bb3a",
   "metadata": {
    "execution": {
     "iopub.execute_input": "2025-07-30T12:47:52.154158Z",
     "iopub.status.busy": "2025-07-30T12:47:52.153480Z",
     "iopub.status.idle": "2025-07-30T12:47:52.160334Z",
     "shell.execute_reply": "2025-07-30T12:47:52.159203Z"
    },
    "papermill": {
     "duration": 0.03575,
     "end_time": "2025-07-30T12:47:52.162304",
     "exception": false,
     "start_time": "2025-07-30T12:47:52.126554",
     "status": "completed"
    },
    "tags": []
   },
   "outputs": [],
   "source": [
    "y_train = y_train[keep_mask]"
   ]
  },
  {
   "cell_type": "markdown",
   "id": "493e2ac3",
   "metadata": {
    "papermill": {
     "duration": 0.027505,
     "end_time": "2025-07-30T12:47:52.216236",
     "exception": false,
     "start_time": "2025-07-30T12:47:52.188731",
     "status": "completed"
    },
    "tags": []
   },
   "source": [
    "# Model Training"
   ]
  },
  {
   "cell_type": "code",
   "execution_count": 41,
   "id": "679e1268",
   "metadata": {
    "execution": {
     "iopub.execute_input": "2025-07-30T12:47:52.273649Z",
     "iopub.status.busy": "2025-07-30T12:47:52.273148Z",
     "iopub.status.idle": "2025-07-30T12:47:52.378053Z",
     "shell.execute_reply": "2025-07-30T12:47:52.377325Z"
    },
    "papermill": {
     "duration": 0.13519,
     "end_time": "2025-07-30T12:47:52.379491",
     "exception": false,
     "start_time": "2025-07-30T12:47:52.244301",
     "status": "completed"
    },
    "tags": []
   },
   "outputs": [],
   "source": [
    "from sklearn.linear_model import LogisticRegression\n",
    "from sklearn.ensemble import GradientBoostingClassifier, RandomForestClassifier\n",
    "\n",
    "if (universe[\"model\"] == \"logreg\"):\n",
    "    model = LogisticRegression() #penalty=\"none\") #, solver=\"newton-cg\", max_iter=1) # include random_state=19 ?\n",
    "elif (universe[\"model\"] == \"penalized_logreg\"):\n",
    "    model = LogisticRegression(penalty=\"l2\", C=1.0) #, solver=\"newton-cg\", max_iter=1)\n",
    "elif (universe[\"model\"] == \"rf\"):\n",
    "    model = RandomForestClassifier(n_estimators=100, n_jobs=-1)\n",
    "elif (universe[\"model\"] == \"gbm\"):\n",
    "    model = GradientBoostingClassifier()\n",
    "elif (universe[\"model\"] == \"elasticnet\"):\n",
    "    model = LogisticRegression(penalty = 'elasticnet', solver = 'saga', l1_ratio = 0.5, max_iter=5000) # which solver to use?\n",
    "else:\n",
    "    raise \"Unsupported universe.model\""
   ]
  },
  {
   "cell_type": "code",
   "execution_count": 42,
   "id": "0cc8f744",
   "metadata": {
    "execution": {
     "iopub.execute_input": "2025-07-30T12:47:52.405978Z",
     "iopub.status.busy": "2025-07-30T12:47:52.405478Z",
     "iopub.status.idle": "2025-07-30T12:47:52.411028Z",
     "shell.execute_reply": "2025-07-30T12:47:52.410145Z"
    },
    "papermill": {
     "duration": 0.020648,
     "end_time": "2025-07-30T12:47:52.412929",
     "exception": false,
     "start_time": "2025-07-30T12:47:52.392281",
     "status": "completed"
    },
    "tags": []
   },
   "outputs": [],
   "source": [
    "import numpy as np\n",
    "from sklearn.pipeline import Pipeline\n",
    "from sklearn.preprocessing import StandardScaler\n",
    "\n",
    "model = Pipeline([\n",
    "    #(\"continuous_processor\", continuous_processor),\n",
    "    #(\"categorical_preprocessor\", categorical_preprocessor),\n",
    "    (\"scale\", StandardScaler() if universe[\"scale\"] == \"scale\" else None), \n",
    "    (\"model\", model),\n",
    "])"
   ]
  },
  {
   "cell_type": "code",
   "execution_count": 43,
   "id": "9442c04d",
   "metadata": {
    "execution": {
     "iopub.execute_input": "2025-07-30T12:47:52.442437Z",
     "iopub.status.busy": "2025-07-30T12:47:52.441953Z",
     "iopub.status.idle": "2025-07-30T12:47:55.424489Z",
     "shell.execute_reply": "2025-07-30T12:47:55.423453Z"
    },
    "papermill": {
     "duration": 2.998491,
     "end_time": "2025-07-30T12:47:55.426245",
     "exception": false,
     "start_time": "2025-07-30T12:47:52.427754",
     "status": "completed"
    },
    "tags": []
   },
   "outputs": [
    {
     "data": {
      "text/html": [
       "<style>#sk-container-id-1 {color: black;background-color: white;}#sk-container-id-1 pre{padding: 0;}#sk-container-id-1 div.sk-toggleable {background-color: white;}#sk-container-id-1 label.sk-toggleable__label {cursor: pointer;display: block;width: 100%;margin-bottom: 0;padding: 0.3em;box-sizing: border-box;text-align: center;}#sk-container-id-1 label.sk-toggleable__label-arrow:before {content: \"▸\";float: left;margin-right: 0.25em;color: #696969;}#sk-container-id-1 label.sk-toggleable__label-arrow:hover:before {color: black;}#sk-container-id-1 div.sk-estimator:hover label.sk-toggleable__label-arrow:before {color: black;}#sk-container-id-1 div.sk-toggleable__content {max-height: 0;max-width: 0;overflow: hidden;text-align: left;background-color: #f0f8ff;}#sk-container-id-1 div.sk-toggleable__content pre {margin: 0.2em;color: black;border-radius: 0.25em;background-color: #f0f8ff;}#sk-container-id-1 input.sk-toggleable__control:checked~div.sk-toggleable__content {max-height: 200px;max-width: 100%;overflow: auto;}#sk-container-id-1 input.sk-toggleable__control:checked~label.sk-toggleable__label-arrow:before {content: \"▾\";}#sk-container-id-1 div.sk-estimator input.sk-toggleable__control:checked~label.sk-toggleable__label {background-color: #d4ebff;}#sk-container-id-1 div.sk-label input.sk-toggleable__control:checked~label.sk-toggleable__label {background-color: #d4ebff;}#sk-container-id-1 input.sk-hidden--visually {border: 0;clip: rect(1px 1px 1px 1px);clip: rect(1px, 1px, 1px, 1px);height: 1px;margin: -1px;overflow: hidden;padding: 0;position: absolute;width: 1px;}#sk-container-id-1 div.sk-estimator {font-family: monospace;background-color: #f0f8ff;border: 1px dotted black;border-radius: 0.25em;box-sizing: border-box;margin-bottom: 0.5em;}#sk-container-id-1 div.sk-estimator:hover {background-color: #d4ebff;}#sk-container-id-1 div.sk-parallel-item::after {content: \"\";width: 100%;border-bottom: 1px solid gray;flex-grow: 1;}#sk-container-id-1 div.sk-label:hover label.sk-toggleable__label {background-color: #d4ebff;}#sk-container-id-1 div.sk-serial::before {content: \"\";position: absolute;border-left: 1px solid gray;box-sizing: border-box;top: 0;bottom: 0;left: 50%;z-index: 0;}#sk-container-id-1 div.sk-serial {display: flex;flex-direction: column;align-items: center;background-color: white;padding-right: 0.2em;padding-left: 0.2em;position: relative;}#sk-container-id-1 div.sk-item {position: relative;z-index: 1;}#sk-container-id-1 div.sk-parallel {display: flex;align-items: stretch;justify-content: center;background-color: white;position: relative;}#sk-container-id-1 div.sk-item::before, #sk-container-id-1 div.sk-parallel-item::before {content: \"\";position: absolute;border-left: 1px solid gray;box-sizing: border-box;top: 0;bottom: 0;left: 50%;z-index: -1;}#sk-container-id-1 div.sk-parallel-item {display: flex;flex-direction: column;z-index: 1;position: relative;background-color: white;}#sk-container-id-1 div.sk-parallel-item:first-child::after {align-self: flex-end;width: 50%;}#sk-container-id-1 div.sk-parallel-item:last-child::after {align-self: flex-start;width: 50%;}#sk-container-id-1 div.sk-parallel-item:only-child::after {width: 0;}#sk-container-id-1 div.sk-dashed-wrapped {border: 1px dashed gray;margin: 0 0.4em 0.5em 0.4em;box-sizing: border-box;padding-bottom: 0.4em;background-color: white;}#sk-container-id-1 div.sk-label label {font-family: monospace;font-weight: bold;display: inline-block;line-height: 1.2em;}#sk-container-id-1 div.sk-label-container {text-align: center;}#sk-container-id-1 div.sk-container {/* jupyter's `normalize.less` sets `[hidden] { display: none; }` but bootstrap.min.css set `[hidden] { display: none !important; }` so we also need the `!important` here to be able to override the default hidden behavior on the sphinx rendered scikit-learn.org. See: https://github.com/scikit-learn/scikit-learn/issues/21755 */display: inline-block !important;position: relative;}#sk-container-id-1 div.sk-text-repr-fallback {display: none;}</style><div id=\"sk-container-id-1\" class=\"sk-top-container\"><div class=\"sk-text-repr-fallback\"><pre>Pipeline(steps=[(&#x27;scale&#x27;, StandardScaler()),\n",
       "                (&#x27;model&#x27;, RandomForestClassifier(n_jobs=-1))])</pre><b>In a Jupyter environment, please rerun this cell to show the HTML representation or trust the notebook. <br />On GitHub, the HTML representation is unable to render, please try loading this page with nbviewer.org.</b></div><div class=\"sk-container\" hidden><div class=\"sk-item sk-dashed-wrapped\"><div class=\"sk-label-container\"><div class=\"sk-label sk-toggleable\"><input class=\"sk-toggleable__control sk-hidden--visually\" id=\"sk-estimator-id-1\" type=\"checkbox\" ><label for=\"sk-estimator-id-1\" class=\"sk-toggleable__label sk-toggleable__label-arrow\">Pipeline</label><div class=\"sk-toggleable__content\"><pre>Pipeline(steps=[(&#x27;scale&#x27;, StandardScaler()),\n",
       "                (&#x27;model&#x27;, RandomForestClassifier(n_jobs=-1))])</pre></div></div></div><div class=\"sk-serial\"><div class=\"sk-item\"><div class=\"sk-estimator sk-toggleable\"><input class=\"sk-toggleable__control sk-hidden--visually\" id=\"sk-estimator-id-2\" type=\"checkbox\" ><label for=\"sk-estimator-id-2\" class=\"sk-toggleable__label sk-toggleable__label-arrow\">StandardScaler</label><div class=\"sk-toggleable__content\"><pre>StandardScaler()</pre></div></div></div><div class=\"sk-item\"><div class=\"sk-estimator sk-toggleable\"><input class=\"sk-toggleable__control sk-hidden--visually\" id=\"sk-estimator-id-3\" type=\"checkbox\" ><label for=\"sk-estimator-id-3\" class=\"sk-toggleable__label sk-toggleable__label-arrow\">RandomForestClassifier</label><div class=\"sk-toggleable__content\"><pre>RandomForestClassifier(n_jobs=-1)</pre></div></div></div></div></div></div></div>"
      ],
      "text/plain": [
       "Pipeline(steps=[('scale', StandardScaler()),\n",
       "                ('model', RandomForestClassifier(n_jobs=-1))])"
      ]
     },
     "execution_count": 43,
     "metadata": {},
     "output_type": "execute_result"
    }
   ],
   "source": [
    "model.fit(X_train, y_train.values.ravel())"
   ]
  },
  {
   "cell_type": "code",
   "execution_count": 44,
   "id": "af59f8c0",
   "metadata": {
    "execution": {
     "iopub.execute_input": "2025-07-30T12:47:55.482794Z",
     "iopub.status.busy": "2025-07-30T12:47:55.482250Z",
     "iopub.status.idle": "2025-07-30T12:47:55.488227Z",
     "shell.execute_reply": "2025-07-30T12:47:55.487092Z"
    },
    "papermill": {
     "duration": 0.035477,
     "end_time": "2025-07-30T12:47:55.490120",
     "exception": false,
     "start_time": "2025-07-30T12:47:55.454643",
     "status": "completed"
    },
    "tags": []
   },
   "outputs": [],
   "source": [
    "from fairness_multiverse.universe import predict_w_threshold"
   ]
  },
  {
   "cell_type": "code",
   "execution_count": 45,
   "id": "a7cf2e16",
   "metadata": {
    "execution": {
     "iopub.execute_input": "2025-07-30T12:47:55.546148Z",
     "iopub.status.busy": "2025-07-30T12:47:55.545644Z",
     "iopub.status.idle": "2025-07-30T12:47:56.652444Z",
     "shell.execute_reply": "2025-07-30T12:47:56.651367Z"
    },
    "papermill": {
     "duration": 1.136877,
     "end_time": "2025-07-30T12:47:56.654200",
     "exception": false,
     "start_time": "2025-07-30T12:47:55.517323",
     "status": "completed"
    },
    "tags": []
   },
   "outputs": [
    {
     "data": {
      "text/plain": [
       "0.8668264407535392"
      ]
     },
     "execution_count": 45,
     "metadata": {},
     "output_type": "execute_result"
    }
   ],
   "source": [
    "probs_test = model.predict_proba(X_test)\n",
    "\n",
    "'''\n",
    "Below code returns a boolean array (or binary 0/1 array depending on how it’s used) where each element \n",
    "is True if the probability of class 1 is greater than or equal to the threshold, and False otherwise.\n",
    "'''\n",
    "y_pred_default = predict_w_threshold(probs_test, 0.5)\n",
    "\n",
    "from sklearn.metrics import accuracy_score\n",
    "\n",
    "# Naive prediction\n",
    "accuracy_score(y_true = y_true, y_pred = y_pred_default)"
   ]
  },
  {
   "cell_type": "code",
   "execution_count": 46,
   "id": "081964c3",
   "metadata": {
    "execution": {
     "iopub.execute_input": "2025-07-30T12:47:56.709507Z",
     "iopub.status.busy": "2025-07-30T12:47:56.708422Z",
     "iopub.status.idle": "2025-07-30T12:47:57.809782Z",
     "shell.execute_reply": "2025-07-30T12:47:57.808809Z"
    },
    "papermill": {
     "duration": 1.13085,
     "end_time": "2025-07-30T12:47:57.811555",
     "exception": false,
     "start_time": "2025-07-30T12:47:56.680705",
     "status": "completed"
    },
    "tags": []
   },
   "outputs": [
    {
     "data": {
      "text/plain": [
       "array([0, 0, 0, ..., 0, 0, 0])"
      ]
     },
     "execution_count": 46,
     "metadata": {},
     "output_type": "execute_result"
    }
   ],
   "source": [
    "model.predict(X_test)"
   ]
  },
  {
   "cell_type": "markdown",
   "id": "56c9705b",
   "metadata": {
    "papermill": {
     "duration": 0.024498,
     "end_time": "2025-07-30T12:47:57.858577",
     "exception": false,
     "start_time": "2025-07-30T12:47:57.834079",
     "status": "completed"
    },
    "tags": []
   },
   "source": [
    "# Conformal Prediction"
   ]
  },
  {
   "cell_type": "code",
   "execution_count": 47,
   "id": "160ec6ff",
   "metadata": {
    "execution": {
     "iopub.execute_input": "2025-07-30T12:47:57.902425Z",
     "iopub.status.busy": "2025-07-30T12:47:57.902011Z",
     "iopub.status.idle": "2025-07-30T12:47:57.907029Z",
     "shell.execute_reply": "2025-07-30T12:47:57.906291Z"
    },
    "papermill": {
     "duration": 0.024266,
     "end_time": "2025-07-30T12:47:57.908499",
     "exception": false,
     "start_time": "2025-07-30T12:47:57.884233",
     "status": "completed"
    },
    "tags": []
   },
   "outputs": [],
   "source": [
    "# Miscoverage level for conformal prediction (10% allowed error rate => 90% target coverage)\n",
    "alpha = 0.1"
   ]
  },
  {
   "cell_type": "code",
   "execution_count": 48,
   "id": "eadf4555-3dd3-440e-8e35-f82a4ad9f855",
   "metadata": {
    "execution": {
     "iopub.execute_input": "2025-07-30T12:47:57.955417Z",
     "iopub.status.busy": "2025-07-30T12:47:57.954937Z",
     "iopub.status.idle": "2025-07-30T12:47:59.089904Z",
     "shell.execute_reply": "2025-07-30T12:47:59.089074Z"
    },
    "papermill": {
     "duration": 1.159724,
     "end_time": "2025-07-30T12:47:59.091410",
     "exception": false,
     "start_time": "2025-07-30T12:47:57.931686",
     "status": "completed"
    },
    "tags": []
   },
   "outputs": [],
   "source": [
    "probs_calib = model.predict_proba(X_calib)"
   ]
  },
  {
   "cell_type": "code",
   "execution_count": 49,
   "id": "2ed93547-6d5d-4983-9b36-1ecb300da49a",
   "metadata": {
    "execution": {
     "iopub.execute_input": "2025-07-30T12:47:59.130427Z",
     "iopub.status.busy": "2025-07-30T12:47:59.129942Z",
     "iopub.status.idle": "2025-07-30T12:47:59.135726Z",
     "shell.execute_reply": "2025-07-30T12:47:59.134627Z"
    },
    "papermill": {
     "duration": 0.031712,
     "end_time": "2025-07-30T12:47:59.137427",
     "exception": false,
     "start_time": "2025-07-30T12:47:59.105715",
     "status": "completed"
    },
    "tags": []
   },
   "outputs": [],
   "source": [
    "y_calib = y_calib.values.ravel().astype(int)"
   ]
  },
  {
   "cell_type": "code",
   "execution_count": 50,
   "id": "65d1320d-f588-4b38-9072-62af1ae97f7d",
   "metadata": {
    "execution": {
     "iopub.execute_input": "2025-07-30T12:47:59.186892Z",
     "iopub.status.busy": "2025-07-30T12:47:59.186038Z",
     "iopub.status.idle": "2025-07-30T12:47:59.195917Z",
     "shell.execute_reply": "2025-07-30T12:47:59.194913Z"
    },
    "papermill": {
     "duration": 0.0358,
     "end_time": "2025-07-30T12:47:59.197733",
     "exception": false,
     "start_time": "2025-07-30T12:47:59.161933",
     "status": "completed"
    },
    "tags": []
   },
   "outputs": [],
   "source": [
    "from fairness_multiverse.conformal import compute_nc_scores\n",
    "\n",
    "# Compute nonconformity scores on calibration set (1 - probability of true class)\n",
    "nc_scores = compute_nc_scores(probs_calib, y_calib)"
   ]
  },
  {
   "cell_type": "code",
   "execution_count": 51,
   "id": "df3b8ca3-53b7-43d5-9667-7c85da7aeda2",
   "metadata": {
    "execution": {
     "iopub.execute_input": "2025-07-30T12:47:59.246496Z",
     "iopub.status.busy": "2025-07-30T12:47:59.246055Z",
     "iopub.status.idle": "2025-07-30T12:47:59.252457Z",
     "shell.execute_reply": "2025-07-30T12:47:59.251318Z"
    },
    "papermill": {
     "duration": 0.032308,
     "end_time": "2025-07-30T12:47:59.254420",
     "exception": false,
     "start_time": "2025-07-30T12:47:59.222112",
     "status": "completed"
    },
    "tags": []
   },
   "outputs": [],
   "source": [
    "from fairness_multiverse.conformal import find_threshold\n",
    "\n",
    "# Find conformal threshold q_hat for the given alpha (split conformal method)\n",
    "q_hat = find_threshold(nc_scores, alpha)"
   ]
  },
  {
   "cell_type": "code",
   "execution_count": 52,
   "id": "4d29e6c1-0ef6-4aa4-b8fe-4fe79b0d033a",
   "metadata": {
    "execution": {
     "iopub.execute_input": "2025-07-30T12:47:59.302980Z",
     "iopub.status.busy": "2025-07-30T12:47:59.302218Z",
     "iopub.status.idle": "2025-07-30T12:47:59.310376Z",
     "shell.execute_reply": "2025-07-30T12:47:59.309272Z"
    },
    "papermill": {
     "duration": 0.033495,
     "end_time": "2025-07-30T12:47:59.312109",
     "exception": false,
     "start_time": "2025-07-30T12:47:59.278614",
     "status": "completed"
    },
    "tags": []
   },
   "outputs": [
    {
     "data": {
      "text/plain": [
       "0.6699999999999999"
      ]
     },
     "execution_count": 52,
     "metadata": {},
     "output_type": "execute_result"
    }
   ],
   "source": [
    "q_hat"
   ]
  },
  {
   "cell_type": "code",
   "execution_count": 53,
   "id": "92460794-cdac-4be2-ba28-f28c0515a6fb",
   "metadata": {
    "execution": {
     "iopub.execute_input": "2025-07-30T12:47:59.369638Z",
     "iopub.status.busy": "2025-07-30T12:47:59.369176Z",
     "iopub.status.idle": "2025-07-30T12:48:01.202472Z",
     "shell.execute_reply": "2025-07-30T12:48:01.201345Z"
    },
    "papermill": {
     "duration": 1.864822,
     "end_time": "2025-07-30T12:48:01.204796",
     "exception": false,
     "start_time": "2025-07-30T12:47:59.339974",
     "status": "completed"
    },
    "tags": []
   },
   "outputs": [],
   "source": [
    "from fairness_multiverse.conformal import predict_conformal_sets\n",
    "\n",
    "# Generate prediction sets for each test example\n",
    "pred_sets = predict_conformal_sets(model, X_test, q_hat)"
   ]
  },
  {
   "cell_type": "code",
   "execution_count": 54,
   "id": "d90c9a65-e6db-4f5d-80cd-e68fb7e46829",
   "metadata": {
    "execution": {
     "iopub.execute_input": "2025-07-30T12:48:01.263113Z",
     "iopub.status.busy": "2025-07-30T12:48:01.262458Z",
     "iopub.status.idle": "2025-07-30T12:48:01.268529Z",
     "shell.execute_reply": "2025-07-30T12:48:01.267398Z"
    },
    "papermill": {
     "duration": 0.036039,
     "end_time": "2025-07-30T12:48:01.270189",
     "exception": false,
     "start_time": "2025-07-30T12:48:01.234150",
     "status": "completed"
    },
    "tags": []
   },
   "outputs": [],
   "source": [
    "y_true = y_true.squeeze()"
   ]
  },
  {
   "cell_type": "code",
   "execution_count": 55,
   "id": "3a58a54a-1e68-46b9-927a-df01f18aebc8",
   "metadata": {
    "execution": {
     "iopub.execute_input": "2025-07-30T12:48:01.326544Z",
     "iopub.status.busy": "2025-07-30T12:48:01.326111Z",
     "iopub.status.idle": "2025-07-30T12:48:02.378393Z",
     "shell.execute_reply": "2025-07-30T12:48:02.377403Z"
    },
    "papermill": {
     "duration": 1.084235,
     "end_time": "2025-07-30T12:48:02.380487",
     "exception": false,
     "start_time": "2025-07-30T12:48:01.296252",
     "status": "completed"
    },
    "tags": []
   },
   "outputs": [],
   "source": [
    "from fairness_multiverse.conformal import evaluate_sets\n",
    "\n",
    "# Evaluate coverage and average set size on test data\n",
    "metrics = evaluate_sets(pred_sets, y_true)"
   ]
  },
  {
   "cell_type": "markdown",
   "id": "2b569c12-9aaa-4c88-98c9-bbcd0cf3ebb8",
   "metadata": {
    "papermill": {
     "duration": 0.026652,
     "end_time": "2025-07-30T12:48:02.434981",
     "exception": false,
     "start_time": "2025-07-30T12:48:02.408329",
     "status": "completed"
    },
    "tags": []
   },
   "source": [
    "# CP Metrics"
   ]
  },
  {
   "cell_type": "code",
   "execution_count": 56,
   "id": "5ce0a5cb-201f-45a0-ade5-94c7f0bd6095",
   "metadata": {
    "execution": {
     "iopub.execute_input": "2025-07-30T12:48:02.490366Z",
     "iopub.status.busy": "2025-07-30T12:48:02.489667Z",
     "iopub.status.idle": "2025-07-30T12:48:02.496955Z",
     "shell.execute_reply": "2025-07-30T12:48:02.495770Z"
    },
    "papermill": {
     "duration": 0.037074,
     "end_time": "2025-07-30T12:48:02.498674",
     "exception": false,
     "start_time": "2025-07-30T12:48:02.461600",
     "status": "completed"
    },
    "tags": []
   },
   "outputs": [
    {
     "data": {
      "text/plain": [
       "{'coverage': 0.9166982499163973, 'avg_size': 1.152223832348679}"
      ]
     },
     "execution_count": 56,
     "metadata": {},
     "output_type": "execute_result"
    }
   ],
   "source": [
    "metrics"
   ]
  },
  {
   "cell_type": "code",
   "execution_count": 57,
   "id": "9b9a838d-31c9-430b-ae14-12baee460d17",
   "metadata": {
    "execution": {
     "iopub.execute_input": "2025-07-30T12:48:02.554775Z",
     "iopub.status.busy": "2025-07-30T12:48:02.553862Z",
     "iopub.status.idle": "2025-07-30T12:48:02.560465Z",
     "shell.execute_reply": "2025-07-30T12:48:02.559437Z"
    },
    "papermill": {
     "duration": 0.036208,
     "end_time": "2025-07-30T12:48:02.562232",
     "exception": false,
     "start_time": "2025-07-30T12:48:02.526024",
     "status": "completed"
    },
    "tags": []
   },
   "outputs": [],
   "source": [
    "example_universe = universe.copy()\n",
    "universe_training_size = example_universe.get(\"training_size\")\n",
    "universe_scale = example_universe.get(\"scale\")\n",
    "universe_model = example_universe.get(\"model\")\n",
    "universe_exclude_features = example_universe.get(\"exclude_features\")\n",
    "universe_exclude_subgroups = example_universe.get(\"exclude_subgroups\")"
   ]
  },
  {
   "cell_type": "code",
   "execution_count": 58,
   "id": "f4b6a8ac-9dc0-4245-8a91-5b3b5999c4f9",
   "metadata": {
    "execution": {
     "iopub.execute_input": "2025-07-30T12:48:02.610684Z",
     "iopub.status.busy": "2025-07-30T12:48:02.610087Z",
     "iopub.status.idle": "2025-07-30T12:48:02.616251Z",
     "shell.execute_reply": "2025-07-30T12:48:02.615278Z"
    },
    "papermill": {
     "duration": 0.031699,
     "end_time": "2025-07-30T12:48:02.618005",
     "exception": false,
     "start_time": "2025-07-30T12:48:02.586306",
     "status": "completed"
    },
    "tags": []
   },
   "outputs": [],
   "source": [
    "cp_metrics_dict = {\n",
    "    \"universe_id\": [universe_id],\n",
    "    \"universe_training_size\": [universe_training_size],\n",
    "    \"universe_scale\": [universe_scale],\n",
    "    \"universe_model\": [universe_model],\n",
    "    \"universe_exclude_features\": [universe_exclude_features],\n",
    "    \"universe_exclude_subgroups\": [universe_exclude_subgroups],\n",
    "    \"q_hat\": [q_hat],\n",
    "    \"coverage\": [metrics[\"coverage\"]],\n",
    "    \"avg_size\": [metrics[\"avg_size\"]],\n",
    "}"
   ]
  },
  {
   "cell_type": "code",
   "execution_count": 59,
   "id": "908acbb1-0371-4915-85ca-3fa520d2efe2",
   "metadata": {
    "execution": {
     "iopub.execute_input": "2025-07-30T12:48:02.667398Z",
     "iopub.status.busy": "2025-07-30T12:48:02.666616Z",
     "iopub.status.idle": "2025-07-30T12:48:02.673467Z",
     "shell.execute_reply": "2025-07-30T12:48:02.672520Z"
    },
    "papermill": {
     "duration": 0.032665,
     "end_time": "2025-07-30T12:48:02.675075",
     "exception": false,
     "start_time": "2025-07-30T12:48:02.642410",
     "status": "completed"
    },
    "tags": []
   },
   "outputs": [
    {
     "data": {
      "text/plain": [
       "{'universe_id': ['c14f35365e2a6f71fff55f9f30f12e75'],\n",
       " 'universe_training_size': ['25k'],\n",
       " 'universe_scale': ['scale'],\n",
       " 'universe_model': ['rf'],\n",
       " 'universe_exclude_features': ['none'],\n",
       " 'universe_exclude_subgroups': ['keep-all'],\n",
       " 'q_hat': [0.6699999999999999],\n",
       " 'coverage': [0.9166982499163973],\n",
       " 'avg_size': [1.152223832348679]}"
      ]
     },
     "execution_count": 59,
     "metadata": {},
     "output_type": "execute_result"
    }
   ],
   "source": [
    "cp_metrics_dict"
   ]
  },
  {
   "cell_type": "code",
   "execution_count": 60,
   "id": "33007efc-14e9-4ec6-97ac-56a455c82265",
   "metadata": {
    "execution": {
     "iopub.execute_input": "2025-07-30T12:48:02.724763Z",
     "iopub.status.busy": "2025-07-30T12:48:02.724082Z",
     "iopub.status.idle": "2025-07-30T12:48:02.730059Z",
     "shell.execute_reply": "2025-07-30T12:48:02.729073Z"
    },
    "papermill": {
     "duration": 0.031984,
     "end_time": "2025-07-30T12:48:02.731569",
     "exception": false,
     "start_time": "2025-07-30T12:48:02.699585",
     "status": "completed"
    },
    "tags": []
   },
   "outputs": [],
   "source": [
    "cp_metrics_df = pd.DataFrame(cp_metrics_dict)"
   ]
  },
  {
   "cell_type": "code",
   "execution_count": 61,
   "id": "db12611b-57b2-4910-b9d0-355adfd6e7bf",
   "metadata": {
    "execution": {
     "iopub.execute_input": "2025-07-30T12:48:02.782043Z",
     "iopub.status.busy": "2025-07-30T12:48:02.781360Z",
     "iopub.status.idle": "2025-07-30T12:48:02.801443Z",
     "shell.execute_reply": "2025-07-30T12:48:02.800472Z"
    },
    "papermill": {
     "duration": 0.047734,
     "end_time": "2025-07-30T12:48:02.803050",
     "exception": false,
     "start_time": "2025-07-30T12:48:02.755316",
     "status": "completed"
    },
    "tags": []
   },
   "outputs": [
    {
     "data": {
      "text/html": [
       "<div>\n",
       "<style scoped>\n",
       "    .dataframe tbody tr th:only-of-type {\n",
       "        vertical-align: middle;\n",
       "    }\n",
       "\n",
       "    .dataframe tbody tr th {\n",
       "        vertical-align: top;\n",
       "    }\n",
       "\n",
       "    .dataframe thead th {\n",
       "        text-align: right;\n",
       "    }\n",
       "</style>\n",
       "<table border=\"1\" class=\"dataframe\">\n",
       "  <thead>\n",
       "    <tr style=\"text-align: right;\">\n",
       "      <th></th>\n",
       "      <th>universe_id</th>\n",
       "      <th>universe_training_size</th>\n",
       "      <th>universe_scale</th>\n",
       "      <th>universe_model</th>\n",
       "      <th>universe_exclude_features</th>\n",
       "      <th>universe_exclude_subgroups</th>\n",
       "      <th>q_hat</th>\n",
       "      <th>coverage</th>\n",
       "      <th>avg_size</th>\n",
       "    </tr>\n",
       "  </thead>\n",
       "  <tbody>\n",
       "    <tr>\n",
       "      <th>0</th>\n",
       "      <td>c14f35365e2a6f71fff55f9f30f12e75</td>\n",
       "      <td>25k</td>\n",
       "      <td>scale</td>\n",
       "      <td>rf</td>\n",
       "      <td>none</td>\n",
       "      <td>keep-all</td>\n",
       "      <td>0.67</td>\n",
       "      <td>0.916698</td>\n",
       "      <td>1.152224</td>\n",
       "    </tr>\n",
       "  </tbody>\n",
       "</table>\n",
       "</div>"
      ],
      "text/plain": [
       "                        universe_id universe_training_size universe_scale  \\\n",
       "0  c14f35365e2a6f71fff55f9f30f12e75                    25k          scale   \n",
       "\n",
       "  universe_model universe_exclude_features universe_exclude_subgroups  q_hat  \\\n",
       "0             rf                      none                   keep-all   0.67   \n",
       "\n",
       "   coverage  avg_size  \n",
       "0  0.916698  1.152224  "
      ]
     },
     "execution_count": 61,
     "metadata": {},
     "output_type": "execute_result"
    }
   ],
   "source": [
    "cp_metrics_df"
   ]
  },
  {
   "cell_type": "code",
   "execution_count": 62,
   "id": "b7fbde55-a0a1-47e4-9af6-fe4a17fa8c61",
   "metadata": {
    "execution": {
     "iopub.execute_input": "2025-07-30T12:48:02.852880Z",
     "iopub.status.busy": "2025-07-30T12:48:02.852310Z",
     "iopub.status.idle": "2025-07-30T12:48:02.857398Z",
     "shell.execute_reply": "2025-07-30T12:48:02.856393Z"
    },
    "papermill": {
     "duration": 0.031401,
     "end_time": "2025-07-30T12:48:02.859124",
     "exception": false,
     "start_time": "2025-07-30T12:48:02.827723",
     "status": "completed"
    },
    "tags": []
   },
   "outputs": [],
   "source": [
    "# Conditional Coverage & looking at subgroups"
   ]
  },
  {
   "cell_type": "code",
   "execution_count": 63,
   "id": "027ae886-68dd-4141-96c7-805a5450e1ef",
   "metadata": {
    "execution": {
     "iopub.execute_input": "2025-07-30T12:48:02.909685Z",
     "iopub.status.busy": "2025-07-30T12:48:02.908904Z",
     "iopub.status.idle": "2025-07-30T12:48:03.191154Z",
     "shell.execute_reply": "2025-07-30T12:48:03.189971Z"
    },
    "papermill": {
     "duration": 0.30943,
     "end_time": "2025-07-30T12:48:03.192944",
     "exception": false,
     "start_time": "2025-07-30T12:48:02.883514",
     "status": "completed"
    },
    "tags": []
   },
   "outputs": [],
   "source": [
    "from fairness_multiverse.conformal import build_cp_groups\n",
    "\n",
    "cp_groups_df = build_cp_groups(pred_sets, y_true, X_test.index, org_test)\n",
    "#needs universe_id and setting"
   ]
  },
  {
   "cell_type": "code",
   "execution_count": 64,
   "id": "01d5802c-663a-4d1f-9d69-e036faaffbf7",
   "metadata": {
    "execution": {
     "iopub.execute_input": "2025-07-30T12:48:03.250804Z",
     "iopub.status.busy": "2025-07-30T12:48:03.250292Z",
     "iopub.status.idle": "2025-07-30T12:48:03.255611Z",
     "shell.execute_reply": "2025-07-30T12:48:03.254441Z"
    },
    "papermill": {
     "duration": 0.039183,
     "end_time": "2025-07-30T12:48:03.257652",
     "exception": false,
     "start_time": "2025-07-30T12:48:03.218469",
     "status": "completed"
    },
    "tags": []
   },
   "outputs": [],
   "source": [
    "#delete\n",
    "#cp_groups_df"
   ]
  },
  {
   "cell_type": "code",
   "execution_count": 65,
   "id": "fa424af1-d1eb-443d-b717-2d279ada8408",
   "metadata": {
    "execution": {
     "iopub.execute_input": "2025-07-30T12:48:03.315490Z",
     "iopub.status.busy": "2025-07-30T12:48:03.314997Z",
     "iopub.status.idle": "2025-07-30T12:48:03.320547Z",
     "shell.execute_reply": "2025-07-30T12:48:03.319159Z"
    },
    "papermill": {
     "duration": 0.036666,
     "end_time": "2025-07-30T12:48:03.322289",
     "exception": false,
     "start_time": "2025-07-30T12:48:03.285623",
     "status": "completed"
    },
    "tags": []
   },
   "outputs": [],
   "source": [
    "#delete\n",
    "#percentage = (cp_groups_df['nongerman_female'] == 1).mean() * 100\n",
    "#print(percentage)\n"
   ]
  },
  {
   "cell_type": "code",
   "execution_count": 66,
   "id": "6cbdab96-b2b2-45af-ad54-d0516db2e28d",
   "metadata": {
    "execution": {
     "iopub.execute_input": "2025-07-30T12:48:03.377783Z",
     "iopub.status.busy": "2025-07-30T12:48:03.377191Z",
     "iopub.status.idle": "2025-07-30T12:48:05.237651Z",
     "shell.execute_reply": "2025-07-30T12:48:05.236661Z"
    },
    "papermill": {
     "duration": 1.89004,
     "end_time": "2025-07-30T12:48:05.239854",
     "exception": false,
     "start_time": "2025-07-30T12:48:03.349814",
     "status": "completed"
    },
    "tags": []
   },
   "outputs": [],
   "source": [
    "# Define covered = 1 if true_label is in the predicted set\n",
    "cp_groups_df['covered'] = cp_groups_df.apply(\n",
    "    lambda r: int(r['true_label'] in r['pred_set']),\n",
    "    axis=1\n",
    ")"
   ]
  },
  {
   "cell_type": "code",
   "execution_count": 67,
   "id": "338ff529-1a6b-4b87-a931-8e4788d52aad",
   "metadata": {
    "execution": {
     "iopub.execute_input": "2025-07-30T12:48:05.300288Z",
     "iopub.status.busy": "2025-07-30T12:48:05.299595Z",
     "iopub.status.idle": "2025-07-30T12:48:05.304466Z",
     "shell.execute_reply": "2025-07-30T12:48:05.303471Z"
    },
    "papermill": {
     "duration": 0.036445,
     "end_time": "2025-07-30T12:48:05.306272",
     "exception": false,
     "start_time": "2025-07-30T12:48:05.269827",
     "status": "completed"
    },
    "tags": []
   },
   "outputs": [],
   "source": [
    "#cp_groups_df"
   ]
  },
  {
   "cell_type": "code",
   "execution_count": 68,
   "id": "90032e27-66df-4540-9169-4e89cfbaa758",
   "metadata": {
    "execution": {
     "iopub.execute_input": "2025-07-30T12:48:05.368248Z",
     "iopub.status.busy": "2025-07-30T12:48:05.367571Z",
     "iopub.status.idle": "2025-07-30T12:48:05.379893Z",
     "shell.execute_reply": "2025-07-30T12:48:05.378887Z"
    },
    "papermill": {
     "duration": 0.044942,
     "end_time": "2025-07-30T12:48:05.381810",
     "exception": false,
     "start_time": "2025-07-30T12:48:05.336868",
     "status": "completed"
    },
    "tags": []
   },
   "outputs": [],
   "source": [
    "subgroups = ['frau1','nongerman','nongerman_male','nongerman_female']\n",
    "\n",
    "# Conditional coverage for subgroup==1\n",
    "cond_coverage = {\n",
    "    g: cp_groups_df.loc[cp_groups_df[g]==1, 'covered'].mean()\n",
    "    for g in subgroups\n",
    "}"
   ]
  },
  {
   "cell_type": "code",
   "execution_count": 69,
   "id": "1e348fb1-b9c3-45bc-ba23-f016827a7e0d",
   "metadata": {
    "execution": {
     "iopub.execute_input": "2025-07-30T12:48:05.444150Z",
     "iopub.status.busy": "2025-07-30T12:48:05.443259Z",
     "iopub.status.idle": "2025-07-30T12:48:05.450337Z",
     "shell.execute_reply": "2025-07-30T12:48:05.449460Z"
    },
    "papermill": {
     "duration": 0.039496,
     "end_time": "2025-07-30T12:48:05.451814",
     "exception": false,
     "start_time": "2025-07-30T12:48:05.412318",
     "status": "completed"
    },
    "tags": []
   },
   "outputs": [
    {
     "data": {
      "text/plain": [
       "{'frau1': 0.9167273217414746,\n",
       " 'nongerman': 0.9157356986470555,\n",
       " 'nongerman_male': 0.9285778618391426,\n",
       " 'nongerman_female': 0.8944858420268257}"
      ]
     },
     "execution_count": 69,
     "metadata": {},
     "output_type": "execute_result"
    }
   ],
   "source": [
    "cond_coverage"
   ]
  },
  {
   "cell_type": "code",
   "execution_count": 70,
   "id": "f5093324-c3dd-4d63-bc4c-8d945e5c8bbb",
   "metadata": {
    "execution": {
     "iopub.execute_input": "2025-07-30T12:48:05.501483Z",
     "iopub.status.busy": "2025-07-30T12:48:05.500870Z",
     "iopub.status.idle": "2025-07-30T12:48:05.524455Z",
     "shell.execute_reply": "2025-07-30T12:48:05.507864Z"
    },
    "papermill": {
     "duration": 0.04984,
     "end_time": "2025-07-30T12:48:05.526136",
     "exception": false,
     "start_time": "2025-07-30T12:48:05.476296",
     "status": "completed"
    },
    "tags": []
   },
   "outputs": [],
   "source": [
    "for subgroup, cov in cond_coverage.items():\n",
    "    cp_metrics_df[f\"cov_{subgroup}\"] = cov"
   ]
  },
  {
   "cell_type": "code",
   "execution_count": 71,
   "id": "6e872e10-dbe5-49e8-b554-5030c98ff75d",
   "metadata": {
    "execution": {
     "iopub.execute_input": "2025-07-30T12:48:05.577713Z",
     "iopub.status.busy": "2025-07-30T12:48:05.577361Z",
     "iopub.status.idle": "2025-07-30T12:48:05.594567Z",
     "shell.execute_reply": "2025-07-30T12:48:05.593698Z"
    },
    "papermill": {
     "duration": 0.045835,
     "end_time": "2025-07-30T12:48:05.596350",
     "exception": false,
     "start_time": "2025-07-30T12:48:05.550515",
     "status": "completed"
    },
    "tags": []
   },
   "outputs": [
    {
     "data": {
      "text/html": [
       "<div>\n",
       "<style scoped>\n",
       "    .dataframe tbody tr th:only-of-type {\n",
       "        vertical-align: middle;\n",
       "    }\n",
       "\n",
       "    .dataframe tbody tr th {\n",
       "        vertical-align: top;\n",
       "    }\n",
       "\n",
       "    .dataframe thead th {\n",
       "        text-align: right;\n",
       "    }\n",
       "</style>\n",
       "<table border=\"1\" class=\"dataframe\">\n",
       "  <thead>\n",
       "    <tr style=\"text-align: right;\">\n",
       "      <th></th>\n",
       "      <th>universe_id</th>\n",
       "      <th>universe_training_size</th>\n",
       "      <th>universe_scale</th>\n",
       "      <th>universe_model</th>\n",
       "      <th>universe_exclude_features</th>\n",
       "      <th>universe_exclude_subgroups</th>\n",
       "      <th>q_hat</th>\n",
       "      <th>coverage</th>\n",
       "      <th>avg_size</th>\n",
       "      <th>cov_frau1</th>\n",
       "      <th>cov_nongerman</th>\n",
       "      <th>cov_nongerman_male</th>\n",
       "      <th>cov_nongerman_female</th>\n",
       "    </tr>\n",
       "  </thead>\n",
       "  <tbody>\n",
       "    <tr>\n",
       "      <th>0</th>\n",
       "      <td>c14f35365e2a6f71fff55f9f30f12e75</td>\n",
       "      <td>25k</td>\n",
       "      <td>scale</td>\n",
       "      <td>rf</td>\n",
       "      <td>none</td>\n",
       "      <td>keep-all</td>\n",
       "      <td>0.67</td>\n",
       "      <td>0.916698</td>\n",
       "      <td>1.152224</td>\n",
       "      <td>0.916727</td>\n",
       "      <td>0.915736</td>\n",
       "      <td>0.928578</td>\n",
       "      <td>0.894486</td>\n",
       "    </tr>\n",
       "  </tbody>\n",
       "</table>\n",
       "</div>"
      ],
      "text/plain": [
       "                        universe_id universe_training_size universe_scale  \\\n",
       "0  c14f35365e2a6f71fff55f9f30f12e75                    25k          scale   \n",
       "\n",
       "  universe_model universe_exclude_features universe_exclude_subgroups  q_hat  \\\n",
       "0             rf                      none                   keep-all   0.67   \n",
       "\n",
       "   coverage  avg_size  cov_frau1  cov_nongerman  cov_nongerman_male  \\\n",
       "0  0.916698  1.152224   0.916727       0.915736            0.928578   \n",
       "\n",
       "   cov_nongerman_female  \n",
       "0              0.894486  "
      ]
     },
     "execution_count": 71,
     "metadata": {},
     "output_type": "execute_result"
    }
   ],
   "source": [
    "cp_metrics_df"
   ]
  },
  {
   "cell_type": "markdown",
   "id": "33774451",
   "metadata": {
    "papermill": {
     "duration": 0.02519,
     "end_time": "2025-07-30T12:48:05.653003",
     "exception": false,
     "start_time": "2025-07-30T12:48:05.627813",
     "status": "completed"
    },
    "tags": []
   },
   "source": [
    "# (Fairness) Metrics"
   ]
  },
  {
   "cell_type": "code",
   "execution_count": 72,
   "id": "debc5d62",
   "metadata": {
    "execution": {
     "iopub.execute_input": "2025-07-30T12:48:05.704778Z",
     "iopub.status.busy": "2025-07-30T12:48:05.704325Z",
     "iopub.status.idle": "2025-07-30T12:48:05.724966Z",
     "shell.execute_reply": "2025-07-30T12:48:05.724145Z"
    },
    "papermill": {
     "duration": 0.048173,
     "end_time": "2025-07-30T12:48:05.726391",
     "exception": false,
     "start_time": "2025-07-30T12:48:05.678218",
     "status": "completed"
    },
    "tags": []
   },
   "outputs": [],
   "source": [
    "# do I need to include maxdeutsch1.missing?\n",
    "\n",
    "import numpy as np\n",
    "\n",
    "colname_to_bin = \"maxdeutsch1\"\n",
    "majority_value = org_train[colname_to_bin].mode()[0]\n",
    "\n",
    "org_test[\"majmin\"] = np.where(org_test[colname_to_bin] == majority_value, \"majority\", \"minority\")"
   ]
  },
  {
   "cell_type": "code",
   "execution_count": 73,
   "id": "06a50de5",
   "metadata": {
    "execution": {
     "iopub.execute_input": "2025-07-30T12:48:05.778434Z",
     "iopub.status.busy": "2025-07-30T12:48:05.778003Z",
     "iopub.status.idle": "2025-07-30T12:48:08.685143Z",
     "shell.execute_reply": "2025-07-30T12:48:08.684241Z"
    },
    "papermill": {
     "duration": 2.93476,
     "end_time": "2025-07-30T12:48:08.686944",
     "exception": false,
     "start_time": "2025-07-30T12:48:05.752184",
     "status": "completed"
    },
    "tags": []
   },
   "outputs": [],
   "source": [
    "example_universe = universe.copy()\n",
    "example_universe[\"cutoff\"] = example_universe[\"cutoff\"][0]\n",
    "example_universe[\"eval_fairness_grouping\"] = example_universe[\"eval_fairness_grouping\"][0]\n",
    "fairness_dict, metric_frame = universe_analysis.compute_metrics(\n",
    "    example_universe,\n",
    "    y_pred_prob=probs_test,\n",
    "    y_test=y_true,\n",
    "    org_test=org_test,\n",
    ")"
   ]
  },
  {
   "cell_type": "markdown",
   "id": "f95d4e02",
   "metadata": {
    "papermill": {
     "duration": 0.026577,
     "end_time": "2025-07-30T12:48:08.740723",
     "exception": false,
     "start_time": "2025-07-30T12:48:08.714146",
     "status": "completed"
    },
    "tags": []
   },
   "source": [
    "# Overall"
   ]
  },
  {
   "cell_type": "markdown",
   "id": "bdee4871",
   "metadata": {
    "papermill": {
     "duration": 0.031921,
     "end_time": "2025-07-30T12:48:08.803218",
     "exception": false,
     "start_time": "2025-07-30T12:48:08.771297",
     "status": "completed"
    },
    "tags": []
   },
   "source": [
    "Fairness\n",
    "Main fairness target: Equalized Odds. Seems to be a better fit than equal opportunity, since we're not only interested in Y = 1. Seems to be a better fit than demographic parity, since we also care about accuracy, not just equal distribution of preds.\n",
    "\n",
    "Pick column for computation of fairness metrics\n",
    "\n",
    "Performance\n",
    "Overall performance measures, most interesting in relation to the measures split by group below"
   ]
  },
  {
   "cell_type": "code",
   "execution_count": 74,
   "id": "c4e067c6",
   "metadata": {
    "execution": {
     "iopub.execute_input": "2025-07-30T12:48:08.868913Z",
     "iopub.status.busy": "2025-07-30T12:48:08.868401Z",
     "iopub.status.idle": "2025-07-30T12:48:08.877406Z",
     "shell.execute_reply": "2025-07-30T12:48:08.876448Z"
    },
    "papermill": {
     "duration": 0.039255,
     "end_time": "2025-07-30T12:48:08.879005",
     "exception": false,
     "start_time": "2025-07-30T12:48:08.839750",
     "status": "completed"
    },
    "tags": []
   },
   "outputs": [
    {
     "data": {
      "text/plain": [
       "accuracy                   0.204481\n",
       "balanced accuracy          0.534814\n",
       "f1                         0.239995\n",
       "precision                  0.136758\n",
       "false positive rate        0.909516\n",
       "false negative rate        0.020855\n",
       "selection rate             0.918448\n",
       "count                  89710.000000\n",
       "dtype: float64"
      ]
     },
     "execution_count": 74,
     "metadata": {},
     "output_type": "execute_result"
    }
   ],
   "source": [
    "metric_frame.overall"
   ]
  },
  {
   "cell_type": "markdown",
   "id": "e968fe9d",
   "metadata": {
    "papermill": {
     "duration": 0.025421,
     "end_time": "2025-07-30T12:48:08.930330",
     "exception": false,
     "start_time": "2025-07-30T12:48:08.904909",
     "status": "completed"
    },
    "tags": []
   },
   "source": [
    "By Group"
   ]
  },
  {
   "cell_type": "code",
   "execution_count": 75,
   "id": "ec325bce",
   "metadata": {
    "execution": {
     "iopub.execute_input": "2025-07-30T12:48:08.986980Z",
     "iopub.status.busy": "2025-07-30T12:48:08.986234Z",
     "iopub.status.idle": "2025-07-30T12:48:09.004188Z",
     "shell.execute_reply": "2025-07-30T12:48:09.003087Z"
    },
    "papermill": {
     "duration": 0.047189,
     "end_time": "2025-07-30T12:48:09.005891",
     "exception": false,
     "start_time": "2025-07-30T12:48:08.958702",
     "status": "completed"
    },
    "tags": []
   },
   "outputs": [
    {
     "data": {
      "text/html": [
       "<div>\n",
       "<style scoped>\n",
       "    .dataframe tbody tr th:only-of-type {\n",
       "        vertical-align: middle;\n",
       "    }\n",
       "\n",
       "    .dataframe tbody tr th {\n",
       "        vertical-align: top;\n",
       "    }\n",
       "\n",
       "    .dataframe thead th {\n",
       "        text-align: right;\n",
       "    }\n",
       "</style>\n",
       "<table border=\"1\" class=\"dataframe\">\n",
       "  <thead>\n",
       "    <tr style=\"text-align: right;\">\n",
       "      <th></th>\n",
       "      <th>accuracy</th>\n",
       "      <th>balanced accuracy</th>\n",
       "      <th>f1</th>\n",
       "      <th>precision</th>\n",
       "      <th>false positive rate</th>\n",
       "      <th>false negative rate</th>\n",
       "      <th>selection rate</th>\n",
       "      <th>count</th>\n",
       "    </tr>\n",
       "    <tr>\n",
       "      <th>majmin</th>\n",
       "      <th></th>\n",
       "      <th></th>\n",
       "      <th></th>\n",
       "      <th></th>\n",
       "      <th></th>\n",
       "      <th></th>\n",
       "      <th></th>\n",
       "      <th></th>\n",
       "    </tr>\n",
       "  </thead>\n",
       "  <tbody>\n",
       "    <tr>\n",
       "      <th>majority</th>\n",
       "      <td>0.199234</td>\n",
       "      <td>0.534204</td>\n",
       "      <td>0.246172</td>\n",
       "      <td>0.140572</td>\n",
       "      <td>0.921089</td>\n",
       "      <td>0.010503</td>\n",
       "      <td>0.930129</td>\n",
       "      <td>69170.0</td>\n",
       "    </tr>\n",
       "    <tr>\n",
       "      <th>minority</th>\n",
       "      <td>0.222152</td>\n",
       "      <td>0.533952</td>\n",
       "      <td>0.217772</td>\n",
       "      <td>0.123166</td>\n",
       "      <td>0.871285</td>\n",
       "      <td>0.060811</td>\n",
       "      <td>0.879114</td>\n",
       "      <td>20540.0</td>\n",
       "    </tr>\n",
       "  </tbody>\n",
       "</table>\n",
       "</div>"
      ],
      "text/plain": [
       "          accuracy  balanced accuracy        f1  precision  \\\n",
       "majmin                                                       \n",
       "majority  0.199234           0.534204  0.246172   0.140572   \n",
       "minority  0.222152           0.533952  0.217772   0.123166   \n",
       "\n",
       "          false positive rate  false negative rate  selection rate    count  \n",
       "majmin                                                                       \n",
       "majority             0.921089             0.010503        0.930129  69170.0  \n",
       "minority             0.871285             0.060811        0.879114  20540.0  "
      ]
     },
     "execution_count": 75,
     "metadata": {},
     "output_type": "execute_result"
    }
   ],
   "source": [
    "metric_frame.by_group"
   ]
  },
  {
   "cell_type": "code",
   "execution_count": 76,
   "id": "a9ddbe63",
   "metadata": {
    "execution": {
     "iopub.execute_input": "2025-07-30T12:48:09.063144Z",
     "iopub.status.busy": "2025-07-30T12:48:09.062452Z",
     "iopub.status.idle": "2025-07-30T12:48:11.455917Z",
     "shell.execute_reply": "2025-07-30T12:48:11.454713Z"
    },
    "papermill": {
     "duration": 2.424644,
     "end_time": "2025-07-30T12:48:11.457796",
     "exception": false,
     "start_time": "2025-07-30T12:48:09.033152",
     "status": "completed"
    },
    "tags": []
   },
   "outputs": [
    {
     "data": {
      "text/plain": [
       "array([[<Axes: title={'center': 'accuracy'}, xlabel='majmin'>,\n",
       "        <Axes: title={'center': 'balanced accuracy'}, xlabel='majmin'>,\n",
       "        <Axes: title={'center': 'f1'}, xlabel='majmin'>],\n",
       "       [<Axes: title={'center': 'precision'}, xlabel='majmin'>,\n",
       "        <Axes: title={'center': 'false positive rate'}, xlabel='majmin'>,\n",
       "        <Axes: title={'center': 'false negative rate'}, xlabel='majmin'>],\n",
       "       [<Axes: title={'center': 'selection rate'}, xlabel='majmin'>,\n",
       "        <Axes: title={'center': 'count'}, xlabel='majmin'>,\n",
       "        <Axes: xlabel='majmin'>]], dtype=object)"
      ]
     },
     "execution_count": 76,
     "metadata": {},
     "output_type": "execute_result"
    },
    {
     "data": {
      "image/png": "[encoded data removed]",
      "text/plain": [
       "<Figure size 1200x800 with 9 Axes>"
      ]
     },
     "metadata": {},
     "output_type": "display_data"
    }
   ],
   "source": [
    "# In a graphic\n",
    "metric_frame.by_group.plot.bar(\n",
    "    subplots=True,\n",
    "    layout=[3, 3],\n",
    "    legend=False,\n",
    "    figsize=[12, 8],\n",
    "    title=\"Show all metrics\",\n",
    ")"
   ]
  },
  {
   "cell_type": "markdown",
   "id": "f57a0bac",
   "metadata": {
    "papermill": {
     "duration": 0.027729,
     "end_time": "2025-07-30T12:48:11.515595",
     "exception": false,
     "start_time": "2025-07-30T12:48:11.487866",
     "status": "completed"
    },
    "tags": []
   },
   "source": [
    "# Final Output"
   ]
  },
  {
   "cell_type": "code",
   "execution_count": 77,
   "id": "96d280a3",
   "metadata": {
    "execution": {
     "iopub.execute_input": "2025-07-30T12:48:11.575424Z",
     "iopub.status.busy": "2025-07-30T12:48:11.574735Z",
     "iopub.status.idle": "2025-07-30T12:48:11.583160Z",
     "shell.execute_reply": "2025-07-30T12:48:11.582255Z"
    },
    "papermill": {
     "duration": 0.039838,
     "end_time": "2025-07-30T12:48:11.584903",
     "exception": false,
     "start_time": "2025-07-30T12:48:11.545065",
     "status": "completed"
    },
    "tags": []
   },
   "outputs": [
    {
     "data": {
      "text/plain": [
       "4"
      ]
     },
     "execution_count": 77,
     "metadata": {},
     "output_type": "execute_result"
    }
   ],
   "source": [
    "sub_universes = universe_analysis.generate_sub_universes()\n",
    "len(sub_universes)"
   ]
  },
  {
   "cell_type": "code",
   "execution_count": 78,
   "id": "92adf7ba",
   "metadata": {
    "execution": {
     "iopub.execute_input": "2025-07-30T12:48:11.646199Z",
     "iopub.status.busy": "2025-07-30T12:48:11.645696Z",
     "iopub.status.idle": "2025-07-30T12:48:11.651564Z",
     "shell.execute_reply": "2025-07-30T12:48:11.650713Z"
    },
    "papermill": {
     "duration": 0.039715,
     "end_time": "2025-07-30T12:48:11.653344",
     "exception": false,
     "start_time": "2025-07-30T12:48:11.613629",
     "status": "completed"
    },
    "tags": []
   },
   "outputs": [],
   "source": [
    "def filter_sub_universe_data(sub_universe, org_test):\n",
    "    # Keep all rows — no filtering\n",
    "    keep_rows_mask = np.ones(org_test.shape[0], dtype=bool)\n",
    "\n",
    "    print(f\"[INFO] Keeping all rows: {keep_rows_mask.sum()} rows retained.\")\n",
    "    return keep_rows_mask"
   ]
  },
  {
   "cell_type": "code",
   "execution_count": 79,
   "id": "4a759155",
   "metadata": {
    "execution": {
     "iopub.execute_input": "2025-07-30T12:48:11.716876Z",
     "iopub.status.busy": "2025-07-30T12:48:11.716488Z",
     "iopub.status.idle": "2025-07-30T12:48:22.437416Z",
     "shell.execute_reply": "2025-07-30T12:48:22.436219Z"
    },
    "papermill": {
     "duration": 10.754489,
     "end_time": "2025-07-30T12:48:22.439122",
     "exception": false,
     "start_time": "2025-07-30T12:48:11.684633",
     "status": "completed"
    },
    "tags": []
   },
   "outputs": [
    {
     "name": "stdout",
     "output_type": "stream",
     "text": [
      "Stopping execution_time clock.\n",
      "[INFO] Keeping all rows: 89710 rows retained.\n"
     ]
    },
    {
     "name": "stdout",
     "output_type": "stream",
     "text": [
      "[INFO] Keeping all rows: 89710 rows retained.\n"
     ]
    },
    {
     "name": "stdout",
     "output_type": "stream",
     "text": [
      "[INFO] Keeping all rows: 89710 rows retained.\n"
     ]
    },
    {
     "name": "stdout",
     "output_type": "stream",
     "text": [
      "[INFO] Keeping all rows: 89710 rows retained.\n"
     ]
    },
    {
     "data": {
      "text/html": [
       "<div>\n",
       "<style scoped>\n",
       "    .dataframe tbody tr th:only-of-type {\n",
       "        vertical-align: middle;\n",
       "    }\n",
       "\n",
       "    .dataframe tbody tr th {\n",
       "        vertical-align: top;\n",
       "    }\n",
       "\n",
       "    .dataframe thead th {\n",
       "        text-align: right;\n",
       "    }\n",
       "</style>\n",
       "<table border=\"1\" class=\"dataframe\">\n",
       "  <thead>\n",
       "    <tr style=\"text-align: right;\">\n",
       "      <th></th>\n",
       "      <th>run_no</th>\n",
       "      <th>universe_id</th>\n",
       "      <th>universe_settings</th>\n",
       "      <th>execution_time</th>\n",
       "      <th>test_size_n</th>\n",
       "      <th>test_size_frac</th>\n",
       "      <th>fair_main_equalized_odds_difference</th>\n",
       "      <th>fair_main_equalized_odds_ratio</th>\n",
       "      <th>fair_main_demographic_parity_difference</th>\n",
       "      <th>fair_main_demographic_parity_ratio</th>\n",
       "      <th>...</th>\n",
       "      <th>perf_grp_precision_0</th>\n",
       "      <th>perf_grp_precision_1</th>\n",
       "      <th>perf_grp_false positive rate_0</th>\n",
       "      <th>perf_grp_false positive rate_1</th>\n",
       "      <th>perf_grp_false negative rate_0</th>\n",
       "      <th>perf_grp_false negative rate_1</th>\n",
       "      <th>perf_grp_selection rate_0</th>\n",
       "      <th>perf_grp_selection rate_1</th>\n",
       "      <th>perf_grp_count_0</th>\n",
       "      <th>perf_grp_count_1</th>\n",
       "    </tr>\n",
       "  </thead>\n",
       "  <tbody>\n",
       "    <tr>\n",
       "      <th>0</th>\n",
       "      <td>12</td>\n",
       "      <td>c14f35365e2a6f71fff55f9f30f12e75</td>\n",
       "      <td>{\"cutoff\": \"quantile_0.1\", \"eval_fairness_grou...</td>\n",
       "      <td>36.484504</td>\n",
       "      <td>89710</td>\n",
       "      <td>1.0</td>\n",
       "      <td>0.050308</td>\n",
       "      <td>0.945929</td>\n",
       "      <td>0.051015</td>\n",
       "      <td>0.945153</td>\n",
       "      <td>...</td>\n",
       "      <td>NaN</td>\n",
       "      <td>NaN</td>\n",
       "      <td>NaN</td>\n",
       "      <td>NaN</td>\n",
       "      <td>NaN</td>\n",
       "      <td>NaN</td>\n",
       "      <td>NaN</td>\n",
       "      <td>NaN</td>\n",
       "      <td>NaN</td>\n",
       "      <td>NaN</td>\n",
       "    </tr>\n",
       "    <tr>\n",
       "      <th>0</th>\n",
       "      <td>12</td>\n",
       "      <td>c14f35365e2a6f71fff55f9f30f12e75</td>\n",
       "      <td>{\"cutoff\": \"quantile_0.1\", \"eval_fairness_grou...</td>\n",
       "      <td>36.484504</td>\n",
       "      <td>89710</td>\n",
       "      <td>1.0</td>\n",
       "      <td>0.050308</td>\n",
       "      <td>0.945929</td>\n",
       "      <td>0.051015</td>\n",
       "      <td>0.945153</td>\n",
       "      <td>...</td>\n",
       "      <td>0.123166</td>\n",
       "      <td>0.140572</td>\n",
       "      <td>0.871285</td>\n",
       "      <td>0.921089</td>\n",
       "      <td>0.060811</td>\n",
       "      <td>0.010503</td>\n",
       "      <td>0.879114</td>\n",
       "      <td>0.930129</td>\n",
       "      <td>20540.0</td>\n",
       "      <td>69170.0</td>\n",
       "    </tr>\n",
       "    <tr>\n",
       "      <th>0</th>\n",
       "      <td>12</td>\n",
       "      <td>c14f35365e2a6f71fff55f9f30f12e75</td>\n",
       "      <td>{\"cutoff\": \"quantile_0.25\", \"eval_fairness_gro...</td>\n",
       "      <td>36.484504</td>\n",
       "      <td>89710</td>\n",
       "      <td>1.0</td>\n",
       "      <td>0.092546</td>\n",
       "      <td>0.902952</td>\n",
       "      <td>0.059563</td>\n",
       "      <td>0.922315</td>\n",
       "      <td>...</td>\n",
       "      <td>NaN</td>\n",
       "      <td>NaN</td>\n",
       "      <td>NaN</td>\n",
       "      <td>NaN</td>\n",
       "      <td>NaN</td>\n",
       "      <td>NaN</td>\n",
       "      <td>NaN</td>\n",
       "      <td>NaN</td>\n",
       "      <td>NaN</td>\n",
       "      <td>NaN</td>\n",
       "    </tr>\n",
       "    <tr>\n",
       "      <th>0</th>\n",
       "      <td>12</td>\n",
       "      <td>c14f35365e2a6f71fff55f9f30f12e75</td>\n",
       "      <td>{\"cutoff\": \"quantile_0.25\", \"eval_fairness_gro...</td>\n",
       "      <td>36.484504</td>\n",
       "      <td>89710</td>\n",
       "      <td>1.0</td>\n",
       "      <td>0.092546</td>\n",
       "      <td>0.902952</td>\n",
       "      <td>0.059563</td>\n",
       "      <td>0.922315</td>\n",
       "      <td>...</td>\n",
       "      <td>0.140379</td>\n",
       "      <td>0.164347</td>\n",
       "      <td>0.687101</td>\n",
       "      <td>0.738264</td>\n",
       "      <td>0.138936</td>\n",
       "      <td>0.046389</td>\n",
       "      <td>0.707157</td>\n",
       "      <td>0.766720</td>\n",
       "      <td>20540.0</td>\n",
       "      <td>69170.0</td>\n",
       "    </tr>\n",
       "  </tbody>\n",
       "</table>\n",
       "<p>4 rows × 50 columns</p>\n",
       "</div>"
      ],
      "text/plain": [
       "  run_no                       universe_id  \\\n",
       "0     12  c14f35365e2a6f71fff55f9f30f12e75   \n",
       "0     12  c14f35365e2a6f71fff55f9f30f12e75   \n",
       "0     12  c14f35365e2a6f71fff55f9f30f12e75   \n",
       "0     12  c14f35365e2a6f71fff55f9f30f12e75   \n",
       "\n",
       "                                   universe_settings  execution_time  \\\n",
       "0  {\"cutoff\": \"quantile_0.1\", \"eval_fairness_grou...       36.484504   \n",
       "0  {\"cutoff\": \"quantile_0.1\", \"eval_fairness_grou...       36.484504   \n",
       "0  {\"cutoff\": \"quantile_0.25\", \"eval_fairness_gro...       36.484504   \n",
       "0  {\"cutoff\": \"quantile_0.25\", \"eval_fairness_gro...       36.484504   \n",
       "\n",
       "   test_size_n  test_size_frac  fair_main_equalized_odds_difference  \\\n",
       "0        89710             1.0                             0.050308   \n",
       "0        89710             1.0                             0.050308   \n",
       "0        89710             1.0                             0.092546   \n",
       "0        89710             1.0                             0.092546   \n",
       "\n",
       "   fair_main_equalized_odds_ratio  fair_main_demographic_parity_difference  \\\n",
       "0                        0.945929                                 0.051015   \n",
       "0                        0.945929                                 0.051015   \n",
       "0                        0.902952                                 0.059563   \n",
       "0                        0.902952                                 0.059563   \n",
       "\n",
       "   fair_main_demographic_parity_ratio  ...  perf_grp_precision_0  \\\n",
       "0                            0.945153  ...                   NaN   \n",
       "0                            0.945153  ...              0.123166   \n",
       "0                            0.922315  ...                   NaN   \n",
       "0                            0.922315  ...              0.140379   \n",
       "\n",
       "   perf_grp_precision_1  perf_grp_false positive rate_0  \\\n",
       "0                   NaN                             NaN   \n",
       "0              0.140572                        0.871285   \n",
       "0                   NaN                             NaN   \n",
       "0              0.164347                        0.687101   \n",
       "\n",
       "   perf_grp_false positive rate_1  perf_grp_false negative rate_0  \\\n",
       "0                             NaN                             NaN   \n",
       "0                        0.921089                        0.060811   \n",
       "0                             NaN                             NaN   \n",
       "0                        0.738264                        0.138936   \n",
       "\n",
       "   perf_grp_false negative rate_1  perf_grp_selection rate_0  \\\n",
       "0                             NaN                        NaN   \n",
       "0                        0.010503                   0.879114   \n",
       "0                             NaN                        NaN   \n",
       "0                        0.046389                   0.707157   \n",
       "\n",
       "   perf_grp_selection rate_1  perf_grp_count_0  perf_grp_count_1  \n",
       "0                        NaN               NaN               NaN  \n",
       "0                   0.930129           20540.0           69170.0  \n",
       "0                        NaN               NaN               NaN  \n",
       "0                   0.766720           20540.0           69170.0  \n",
       "\n",
       "[4 rows x 50 columns]"
      ]
     },
     "execution_count": 79,
     "metadata": {},
     "output_type": "execute_result"
    }
   ],
   "source": [
    "final_output = universe_analysis.generate_final_output(\n",
    "    y_pred_prob=probs_test,\n",
    "    y_test=y_true,\n",
    "    org_test=org_test,\n",
    "    filter_data=filter_sub_universe_data,\n",
    "    cp_metrics_df=cp_metrics_df,\n",
    "    save=True,\n",
    ")\n",
    "final_output"
   ]
  },
  {
   "cell_type": "code",
   "execution_count": null,
   "id": "721ff514-cb11-46f8-b6fc-50392f74b5cb",
   "metadata": {
    "papermill": {
     "duration": 0.030515,
     "end_time": "2025-07-30T12:48:22.503483",
     "exception": false,
     "start_time": "2025-07-30T12:48:22.472968",
     "status": "completed"
    },
    "tags": []
   },
   "outputs": [],
   "source": []
  }
 ],
 "metadata": {
  "celltoolbar": "Tags",
  "kernelspec": {
   "display_name": "Python (CMA Fairness)",
   "language": "python",
   "name": "cma_fair_env"
  },
  "language_info": {
   "codemirror_mode": {
    "name": "ipython",
    "version": 3
   },
   "file_extension": ".py",
   "mimetype": "text/x-python",
   "name": "python",
   "nbconvert_exporter": "python",
   "pygments_lexer": "ipython3",
   "version": "3.10.12"
  },
  "papermill": {
   "default_parameters": {},
   "duration": 51.317861,
   "end_time": "2025-07-30T12:48:23.354473",
   "environment_variables": {},
   "exception": null,
   "input_path": "universe_analysis.ipynb",
   "output_path": "output/runs/12/notebooks/m_12-c14f35365e2a6f71fff55f9f30f12e75.ipynb",
   "parameters": {
    "output_dir": "output",
    "run_no": "12",
    "seed": "2023",
    "universe": "{\"cutoff\": [\"quantile_0.1\", \"quantile_0.25\"], \"eval_fairness_grouping\": [\"majority-minority\", \"nationality-all\"], \"exclude_features\": \"none\", \"exclude_subgroups\": \"keep-all\", \"model\": \"rf\", \"scale\": \"scale\", \"training_size\": \"25k\", \"training_year\": \"2014\"}",
    "universe_id": "c14f35365e2a6f71fff55f9f30f12e75"
   },
   "start_time": "2025-07-30T12:47:32.036612",
   "version": "2.6.0"
  }
 },
 "nbformat": 4,
 "nbformat_minor": 5
}