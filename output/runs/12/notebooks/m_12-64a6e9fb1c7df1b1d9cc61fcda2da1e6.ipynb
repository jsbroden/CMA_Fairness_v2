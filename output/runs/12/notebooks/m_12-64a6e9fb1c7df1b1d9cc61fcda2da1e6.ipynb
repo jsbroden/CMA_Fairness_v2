{
 "cells": [
  {
   "cell_type": "code",
   "execution_count": 1,
   "id": "f159f837-637b-42ba-96b5-ec9a68c44524",
   "metadata": {
    "execution": {
     "iopub.execute_input": "2025-07-30T13:42:59.962272Z",
     "iopub.status.busy": "2025-07-30T13:42:59.961810Z",
     "iopub.status.idle": "2025-07-30T13:42:59.976903Z",
     "shell.execute_reply": "2025-07-30T13:42:59.975840Z"
    },
    "papermill": {
     "duration": 0.028891,
     "end_time": "2025-07-30T13:42:59.978858",
     "exception": false,
     "start_time": "2025-07-30T13:42:59.949967",
     "status": "completed"
    },
    "tags": []
   },
   "outputs": [
    {
     "name": "stdout",
     "output_type": "stream",
     "text": [
      "/dss/dsshome1/0C/ra93lal2/cma/CMA_Fairness_v2\n"
     ]
    },
    {
     "name": "stderr",
     "output_type": "stream",
     "text": [
      "/dss/dsshome1/0C/ra93lal2/.local/share/virtualenvs/CMA_Fairness_v2-3j10GkSs/lib/python3.10/site-packages/IPython/core/magics/osm.py:393: UserWarning: This is now an optional IPython functionality, using bookmarks requires you to install the `pickleshare` library.\n",
      "  bkms = self.shell.db.get('bookmarks', {})\n",
      "/dss/dsshome1/0C/ra93lal2/.local/share/virtualenvs/CMA_Fairness_v2-3j10GkSs/lib/python3.10/site-packages/IPython/core/magics/osm.py:417: UserWarning: This is now an optional IPython functionality, setting dhist requires you to install the `pickleshare` library.\n",
      "  self.shell.db['dhist'] = compress_dhist(dhist)[-100:]\n"
     ]
    }
   ],
   "source": [
    "%cd ~/cma/CMA_Fairness_v2"
   ]
  },
  {
   "cell_type": "markdown",
   "id": "de2603b9",
   "metadata": {
    "papermill": {
     "duration": 0.018594,
     "end_time": "2025-07-30T13:43:00.015950",
     "exception": false,
     "start_time": "2025-07-30T13:42:59.997356",
     "status": "completed"
    },
    "tags": []
   },
   "source": [
    "The following cell holds the definition of our parameters, these values can be overriden by rendering the with e.g. the following command:\n",
    "\n",
    "papermill -p alpha 0.2 -p ratio 0.3 universe_analysis.ipynb output/test_run.ipynb"
   ]
  },
  {
   "cell_type": "code",
   "execution_count": 2,
   "id": "a80968a0-40bb-4fa9-85ef-2d5eefb01975",
   "metadata": {
    "execution": {
     "iopub.execute_input": "2025-07-30T13:43:00.054689Z",
     "iopub.status.busy": "2025-07-30T13:43:00.054315Z",
     "iopub.status.idle": "2025-07-30T13:43:00.059438Z",
     "shell.execute_reply": "2025-07-30T13:43:00.058627Z"
    },
    "papermill": {
     "duration": 0.027438,
     "end_time": "2025-07-30T13:43:00.061661",
     "exception": false,
     "start_time": "2025-07-30T13:43:00.034223",
     "status": "completed"
    },
    "tags": []
   },
   "outputs": [
    {
     "name": "stdout",
     "output_type": "stream",
     "text": [
      "Current working directory: /dss/dsshome1/0C/ra93lal2/cma/CMA_Fairness_v2\n"
     ]
    }
   ],
   "source": [
    "import os\n",
    "print(\"Current working directory:\", os.getcwd())"
   ]
  },
  {
   "cell_type": "code",
   "execution_count": 3,
   "id": "2dce4c03",
   "metadata": {
    "execution": {
     "iopub.execute_input": "2025-07-30T13:43:00.115756Z",
     "iopub.status.busy": "2025-07-30T13:43:00.115297Z",
     "iopub.status.idle": "2025-07-30T13:43:00.121367Z",
     "shell.execute_reply": "2025-07-30T13:43:00.120484Z"
    },
    "papermill": {
     "duration": 0.034996,
     "end_time": "2025-07-30T13:43:00.123305",
     "exception": false,
     "start_time": "2025-07-30T13:43:00.088309",
     "status": "completed"
    },
    "tags": [
     "parameters"
    ]
   },
   "outputs": [],
   "source": [
    "run_no = 0\n",
    "universe_id = \"test\"\n",
    "universe = {\n",
    "    \"training_size\": \"25k\", # \"25k\", \"5k\", \"1k\"\n",
    "    \"training_year\": \"2014\", # \"2014\", \"2012_14\", \"2010_14\"\n",
    "    \"scale\": \"scale\", # \"scale\", \"do-not-scale\",\n",
    "    #\"stratify_split\": \"target\", # \"none\", \"target\", \"protected-attribute\", \"both\",\n",
    "    \"model\": \"elasticnet\", # \"logreg\", \"penalized_logreg\", \"rf\", \"gbm\", \"elasticnet\"\n",
    "    \"cutoff\": [\"quantile_0.15\", \"quantile_0.30\"],\n",
    "    \"exclude_features\": \"age\", # \"none\", \"nationality\", \"sex\", \"nationality-sex\", \"age\"\n",
    "    \"exclude_subgroups\": \"keep-all\", # \"keep-all\", \"drop-non-german\"\n",
    "    \"eval_fairness_grouping\": [\"majority-minority\", \"nationality-all\"]\n",
    "}\n",
    "\n",
    "output_dir=\"./output\"\n",
    "seed=0"
   ]
  },
  {
   "cell_type": "code",
   "execution_count": 4,
   "id": "eddb9915",
   "metadata": {
    "execution": {
     "iopub.execute_input": "2025-07-30T13:43:00.179064Z",
     "iopub.status.busy": "2025-07-30T13:43:00.178589Z",
     "iopub.status.idle": "2025-07-30T13:43:00.185807Z",
     "shell.execute_reply": "2025-07-30T13:43:00.185001Z"
    },
    "papermill": {
     "duration": 0.036994,
     "end_time": "2025-07-30T13:43:00.187330",
     "exception": false,
     "start_time": "2025-07-30T13:43:00.150336",
     "status": "completed"
    },
    "tags": [
     "injected-parameters"
    ]
   },
   "outputs": [],
   "source": [
    "# Parameters\n",
    "universe_id = \"64a6e9fb1c7df1b1d9cc61fcda2da1e6\"\n",
    "run_no = \"12\"\n",
    "universe = \"{\\\"cutoff\\\": [\\\"quantile_0.1\\\", \\\"quantile_0.25\\\"], \\\"eval_fairness_grouping\\\": [\\\"majority-minority\\\", \\\"nationality-all\\\"], \\\"exclude_features\\\": \\\"sex\\\", \\\"exclude_subgroups\\\": \\\"drop-non-german\\\", \\\"model\\\": \\\"rf\\\", \\\"scale\\\": \\\"scale\\\", \\\"training_size\\\": \\\"5k\\\", \\\"training_year\\\": \\\"2014\\\"}\"\n",
    "output_dir = \"output\"\n",
    "seed = \"2023\"\n"
   ]
  },
  {
   "cell_type": "code",
   "execution_count": 5,
   "id": "1650acaf",
   "metadata": {
    "execution": {
     "iopub.execute_input": "2025-07-30T13:43:00.228193Z",
     "iopub.status.busy": "2025-07-30T13:43:00.227678Z",
     "iopub.status.idle": "2025-07-30T13:43:00.233058Z",
     "shell.execute_reply": "2025-07-30T13:43:00.232146Z"
    },
    "papermill": {
     "duration": 0.028594,
     "end_time": "2025-07-30T13:43:00.234720",
     "exception": false,
     "start_time": "2025-07-30T13:43:00.206126",
     "status": "completed"
    },
    "tags": []
   },
   "outputs": [],
   "source": [
    "import json\n",
    "# Parse universe into dict if it is passed as a string\n",
    "if isinstance(universe, str):\n",
    "    universe = json.loads(universe)"
   ]
  },
  {
   "cell_type": "code",
   "execution_count": 6,
   "id": "16620c48",
   "metadata": {
    "execution": {
     "iopub.execute_input": "2025-07-30T13:43:00.274108Z",
     "iopub.status.busy": "2025-07-30T13:43:00.273454Z",
     "iopub.status.idle": "2025-07-30T13:43:00.326480Z",
     "shell.execute_reply": "2025-07-30T13:43:00.325591Z"
    },
    "papermill": {
     "duration": 0.075022,
     "end_time": "2025-07-30T13:43:00.328267",
     "exception": false,
     "start_time": "2025-07-30T13:43:00.253245",
     "status": "completed"
    },
    "tags": []
   },
   "outputs": [],
   "source": [
    "# Auto-reload the custom package\n",
    "%load_ext autoreload\n",
    "%autoreload 1\n",
    "%aimport fairness_multiverse"
   ]
  },
  {
   "cell_type": "code",
   "execution_count": 7,
   "id": "01c5c9f3",
   "metadata": {
    "execution": {
     "iopub.execute_input": "2025-07-30T13:43:00.368621Z",
     "iopub.status.busy": "2025-07-30T13:43:00.367618Z",
     "iopub.status.idle": "2025-07-30T13:43:02.247955Z",
     "shell.execute_reply": "2025-07-30T13:43:02.247022Z"
    },
    "papermill": {
     "duration": 1.902755,
     "end_time": "2025-07-30T13:43:02.249940",
     "exception": false,
     "start_time": "2025-07-30T13:43:00.347185",
     "status": "completed"
    },
    "tags": []
   },
   "outputs": [],
   "source": [
    "from fairness_multiverse.universe import UniverseAnalysis\n",
    "\n",
    "universe_analysis = UniverseAnalysis(\n",
    "    run_no = run_no,\n",
    "    universe_id = universe_id,\n",
    "    universe = universe,\n",
    "    output_dir=output_dir,\n",
    ")"
   ]
  },
  {
   "cell_type": "code",
   "execution_count": 8,
   "id": "106241f5",
   "metadata": {
    "execution": {
     "iopub.execute_input": "2025-07-30T13:43:02.290395Z",
     "iopub.status.busy": "2025-07-30T13:43:02.290024Z",
     "iopub.status.idle": "2025-07-30T13:43:02.296411Z",
     "shell.execute_reply": "2025-07-30T13:43:02.295447Z"
    },
    "papermill": {
     "duration": 0.028949,
     "end_time": "2025-07-30T13:43:02.299878",
     "exception": false,
     "start_time": "2025-07-30T13:43:02.270929",
     "status": "completed"
    },
    "tags": []
   },
   "outputs": [
    {
     "name": "stdout",
     "output_type": "stream",
     "text": [
      "Using Seed: 2023\n"
     ]
    }
   ],
   "source": [
    "import numpy as np\n",
    "parsed_seed = int(seed)\n",
    "np.random.seed(parsed_seed)\n",
    "print(f\"Using Seed: {parsed_seed}\")"
   ]
  },
  {
   "cell_type": "markdown",
   "id": "e0ebdc57",
   "metadata": {
    "papermill": {
     "duration": 0.018444,
     "end_time": "2025-07-30T13:43:02.336791",
     "exception": false,
     "start_time": "2025-07-30T13:43:02.318347",
     "status": "completed"
    },
    "tags": []
   },
   "source": [
    "# Loading Data"
   ]
  },
  {
   "cell_type": "markdown",
   "id": "681925a3",
   "metadata": {
    "papermill": {
     "duration": 0.018292,
     "end_time": "2025-07-30T13:43:02.373477",
     "exception": false,
     "start_time": "2025-07-30T13:43:02.355185",
     "status": "completed"
    },
    "tags": []
   },
   "source": [
    "Load siab_train, siab_test, siab_calib and/or \n",
    "load siab_train_features, siab_train_labels"
   ]
  },
  {
   "cell_type": "code",
   "execution_count": 9,
   "id": "f0496b8a",
   "metadata": {
    "execution": {
     "iopub.execute_input": "2025-07-30T13:43:02.411179Z",
     "iopub.status.busy": "2025-07-30T13:43:02.410800Z",
     "iopub.status.idle": "2025-07-30T13:43:15.134272Z",
     "shell.execute_reply": "2025-07-30T13:43:15.133120Z"
    },
    "papermill": {
     "duration": 12.744232,
     "end_time": "2025-07-30T13:43:15.135651",
     "exception": false,
     "start_time": "2025-07-30T13:43:02.391419",
     "status": "completed"
    },
    "tags": []
   },
   "outputs": [
    {
     "name": "stdout",
     "output_type": "stream",
     "text": [
      "Loading SIAB data from cache: data/siab_cached.csv.gz\n"
     ]
    },
    {
     "name": "stdout",
     "output_type": "stream",
     "text": [
      "(643690, 164)\n"
     ]
    }
   ],
   "source": [
    "from pathlib import Path\n",
    "import pandas as pd\n",
    "\n",
    "# File paths\n",
    "raw_file = Path(\"data/raw/siab.csv\")\n",
    "cache_file = Path(\"data/siab_cached.csv.gz\")\n",
    "\n",
    "# Ensure cache directory exists\n",
    "cache_file.parent.mkdir(parents=True, exist_ok=True)\n",
    "\n",
    "# Load with simple caching\n",
    "if cache_file.exists():\n",
    "    print(f\"Loading SIAB data from cache: {cache_file}\")\n",
    "    siab = pd.read_csv(cache_file, compression='gzip')\n",
    "else:\n",
    "    print(f\"Cache not found. Reading raw SIAB data: {raw_file}\")\n",
    "    siab = pd.read_csv(raw_file)\n",
    "    siab.to_csv(cache_file, index=False, compression='gzip')\n",
    "    print(f\"Cached SIAB data to: {cache_file}\")\n",
    "\n",
    "# Now use `siab` DataFrame as needed\n",
    "print(siab.shape)"
   ]
  },
  {
   "cell_type": "code",
   "execution_count": 10,
   "id": "db0ca512-5f53-4dba-abdb-a2888bca41ba",
   "metadata": {
    "execution": {
     "iopub.execute_input": "2025-07-30T13:43:15.182822Z",
     "iopub.status.busy": "2025-07-30T13:43:15.182375Z",
     "iopub.status.idle": "2025-07-30T13:43:15.188244Z",
     "shell.execute_reply": "2025-07-30T13:43:15.187249Z"
    },
    "papermill": {
     "duration": 0.029805,
     "end_time": "2025-07-30T13:43:15.189919",
     "exception": false,
     "start_time": "2025-07-30T13:43:15.160114",
     "status": "completed"
    },
    "tags": []
   },
   "outputs": [],
   "source": [
    "#siab"
   ]
  },
  {
   "cell_type": "code",
   "execution_count": 11,
   "id": "a0edb063",
   "metadata": {
    "execution": {
     "iopub.execute_input": "2025-07-30T13:43:15.233144Z",
     "iopub.status.busy": "2025-07-30T13:43:15.232254Z",
     "iopub.status.idle": "2025-07-30T13:43:15.237771Z",
     "shell.execute_reply": "2025-07-30T13:43:15.236783Z"
    },
    "papermill": {
     "duration": 0.028478,
     "end_time": "2025-07-30T13:43:15.239567",
     "exception": false,
     "start_time": "2025-07-30T13:43:15.211089",
     "status": "completed"
    },
    "tags": []
   },
   "outputs": [],
   "source": [
    "#import pandas as pd\n",
    "#\n",
    "#X_train = pd.read_csv(\"./data/X_train.csv\")\n",
    "#y_train = pd.read_csv(\"./data/y_train.csv\")"
   ]
  },
  {
   "cell_type": "code",
   "execution_count": 12,
   "id": "63d08085",
   "metadata": {
    "execution": {
     "iopub.execute_input": "2025-07-30T13:43:15.283977Z",
     "iopub.status.busy": "2025-07-30T13:43:15.283308Z",
     "iopub.status.idle": "2025-07-30T13:43:15.288276Z",
     "shell.execute_reply": "2025-07-30T13:43:15.287318Z"
    },
    "papermill": {
     "duration": 0.028453,
     "end_time": "2025-07-30T13:43:15.289806",
     "exception": false,
     "start_time": "2025-07-30T13:43:15.261353",
     "status": "completed"
    },
    "tags": []
   },
   "outputs": [],
   "source": [
    "#X_test = pd.read_csv(\"./data/X_test.csv\")\n",
    "#y_true = pd.read_csv(\"./data/y_test.csv\")"
   ]
  },
  {
   "cell_type": "code",
   "execution_count": 13,
   "id": "98a8d0fa-1d3d-4ed8-bb2c-281470e24add",
   "metadata": {
    "execution": {
     "iopub.execute_input": "2025-07-30T13:43:15.333692Z",
     "iopub.status.busy": "2025-07-30T13:43:15.333027Z",
     "iopub.status.idle": "2025-07-30T13:43:15.338132Z",
     "shell.execute_reply": "2025-07-30T13:43:15.337102Z"
    },
    "papermill": {
     "duration": 0.029107,
     "end_time": "2025-07-30T13:43:15.339849",
     "exception": false,
     "start_time": "2025-07-30T13:43:15.310742",
     "status": "completed"
    },
    "tags": []
   },
   "outputs": [],
   "source": [
    "# Calibration data for conformal\n",
    "#X_calib = pd.read_csv(\"./data/X_calib.csv\")\n",
    "#y_calib = pd.read_csv(\"./data/y_calib.csv\")"
   ]
  },
  {
   "cell_type": "markdown",
   "id": "997051c5-15bd-4b69-9786-c3001a3ce484",
   "metadata": {
    "papermill": {
     "duration": 0.020152,
     "end_time": "2025-07-30T13:43:15.381483",
     "exception": false,
     "start_time": "2025-07-30T13:43:15.361331",
     "status": "completed"
    },
    "tags": []
   },
   "source": [
    "# Splitting Data and Setting Training Data Size"
   ]
  },
  {
   "cell_type": "code",
   "execution_count": 14,
   "id": "e993b61f-042d-41a6-8c81-f55681f86335",
   "metadata": {
    "execution": {
     "iopub.execute_input": "2025-07-30T13:43:15.424686Z",
     "iopub.status.busy": "2025-07-30T13:43:15.424043Z",
     "iopub.status.idle": "2025-07-30T13:43:15.438849Z",
     "shell.execute_reply": "2025-07-30T13:43:15.437772Z"
    },
    "papermill": {
     "duration": 0.038565,
     "end_time": "2025-07-30T13:43:15.440729",
     "exception": false,
     "start_time": "2025-07-30T13:43:15.402164",
     "status": "completed"
    },
    "tags": []
   },
   "outputs": [],
   "source": [
    "def sample_by_year_size(df,\n",
    "                        training_year: str,\n",
    "                        training_size: str,\n",
    "                        random_state: int = 42):\n",
    "    # --- parse training_year into a list of int years ---\n",
    "    if \"_\" in training_year:\n",
    "        start_str, end_str = training_year.split(\"_\", 1)\n",
    "        start = int(start_str)\n",
    "        end   = int(end_str) if len(end_str) == 4 else (int(end_str) + (start // 100)*100)\n",
    "        years = list(range(start, end + 1))\n",
    "    else:\n",
    "        years = [int(training_year)]\n",
    "\n",
    "    df = df[df[\"year\"].isin(years)].reset_index(drop=True)\n",
    "\n",
    "    # --- map training_size to total number of samples ---\n",
    "    total_map = {\"25k\": 25_000, \"5k\": 5_000, \"1k\": 1_000}\n",
    "    if training_size not in total_map:\n",
    "        return df  # e.g. \"all\"\n",
    "\n",
    "    total_samples = total_map[training_size]\n",
    "    n_years       = len(years)\n",
    "    base          = total_samples // n_years\n",
    "    remainder     = total_samples % n_years\n",
    "\n",
    "    # --- build a dict: year -> how many to sample ---\n",
    "    # give +1 to the first `remainder` years in ascending order\n",
    "    quotas = {\n",
    "        year: base + (1 if idx < remainder else 0)\n",
    "        for idx, year in enumerate(sorted(years))\n",
    "    }\n",
    "\n",
    "    # --- sample per‐year according to the quota dict ---\n",
    "    sampled = (\n",
    "        df\n",
    "        .groupby(\"year\", group_keys=False)\n",
    "        .apply(lambda grp: grp.sample(\n",
    "            n=min(len(grp), quotas[grp.name]),\n",
    "            random_state=random_state))\n",
    "        .reset_index(drop=True)\n",
    "    )\n",
    "\n",
    "    return sampled"
   ]
  },
  {
   "cell_type": "code",
   "execution_count": 15,
   "id": "c0ccd338-0e02-41f3-a09d-f56f9266e3fb",
   "metadata": {
    "execution": {
     "iopub.execute_input": "2025-07-30T13:43:15.484619Z",
     "iopub.status.busy": "2025-07-30T13:43:15.484092Z",
     "iopub.status.idle": "2025-07-30T13:43:15.495766Z",
     "shell.execute_reply": "2025-07-30T13:43:15.494743Z"
    },
    "papermill": {
     "duration": 0.034978,
     "end_time": "2025-07-30T13:43:15.497542",
     "exception": false,
     "start_time": "2025-07-30T13:43:15.462564",
     "status": "completed"
    },
    "tags": []
   },
   "outputs": [
    {
     "data": {
      "text/plain": [
       "'5k'"
      ]
     },
     "execution_count": 15,
     "metadata": {},
     "output_type": "execute_result"
    }
   ],
   "source": [
    "universe[\"training_size\"]"
   ]
  },
  {
   "cell_type": "code",
   "execution_count": 16,
   "id": "ca707fd7-8047-4acd-bfa5-66248fbbf8e6",
   "metadata": {
    "execution": {
     "iopub.execute_input": "2025-07-30T13:43:15.542192Z",
     "iopub.status.busy": "2025-07-30T13:43:15.541480Z",
     "iopub.status.idle": "2025-07-30T13:43:15.549367Z",
     "shell.execute_reply": "2025-07-30T13:43:15.548490Z"
    },
    "papermill": {
     "duration": 0.031176,
     "end_time": "2025-07-30T13:43:15.551044",
     "exception": false,
     "start_time": "2025-07-30T13:43:15.519868",
     "status": "completed"
    },
    "tags": []
   },
   "outputs": [
    {
     "data": {
      "text/plain": [
       "'2014'"
      ]
     },
     "execution_count": 16,
     "metadata": {},
     "output_type": "execute_result"
    }
   ],
   "source": [
    "universe[\"training_year\"]"
   ]
  },
  {
   "cell_type": "code",
   "execution_count": 17,
   "id": "aea9c6ef-6f46-42c8-85eb-5a62025c1508",
   "metadata": {
    "execution": {
     "iopub.execute_input": "2025-07-30T13:43:15.598911Z",
     "iopub.status.busy": "2025-07-30T13:43:15.598015Z",
     "iopub.status.idle": "2025-07-30T13:43:15.822682Z",
     "shell.execute_reply": "2025-07-30T13:43:15.821710Z"
    },
    "papermill": {
     "duration": 0.248849,
     "end_time": "2025-07-30T13:43:15.824590",
     "exception": false,
     "start_time": "2025-07-30T13:43:15.575741",
     "status": "completed"
    },
    "tags": []
   },
   "outputs": [],
   "source": [
    "siab_train = sample_by_year_size(siab,\n",
    "                               training_year=universe[\"training_year\"],\n",
    "                               training_size=universe[\"training_size\"])"
   ]
  },
  {
   "cell_type": "code",
   "execution_count": 18,
   "id": "8d3afb32-789d-442c-8d5d-9f5aa8dd2eed",
   "metadata": {
    "execution": {
     "iopub.execute_input": "2025-07-30T13:43:15.869568Z",
     "iopub.status.busy": "2025-07-30T13:43:15.868748Z",
     "iopub.status.idle": "2025-07-30T13:43:15.876693Z",
     "shell.execute_reply": "2025-07-30T13:43:15.875606Z"
    },
    "papermill": {
     "duration": 0.032354,
     "end_time": "2025-07-30T13:43:15.878363",
     "exception": false,
     "start_time": "2025-07-30T13:43:15.846009",
     "status": "completed"
    },
    "tags": []
   },
   "outputs": [
    {
     "data": {
      "text/plain": [
       "(5000, 164)"
      ]
     },
     "execution_count": 18,
     "metadata": {},
     "output_type": "execute_result"
    }
   ],
   "source": [
    "siab_train.shape"
   ]
  },
  {
   "cell_type": "code",
   "execution_count": 19,
   "id": "d582db68-1a4c-47fb-84fc-08518dc1975a",
   "metadata": {
    "execution": {
     "iopub.execute_input": "2025-07-30T13:43:15.923087Z",
     "iopub.status.busy": "2025-07-30T13:43:15.922421Z",
     "iopub.status.idle": "2025-07-30T13:43:15.932695Z",
     "shell.execute_reply": "2025-07-30T13:43:15.931692Z"
    },
    "papermill": {
     "duration": 0.034074,
     "end_time": "2025-07-30T13:43:15.934424",
     "exception": false,
     "start_time": "2025-07-30T13:43:15.900350",
     "status": "completed"
    },
    "tags": []
   },
   "outputs": [
    {
     "data": {
      "text/plain": [
       "year\n",
       "2014    5000\n",
       "dtype: int64"
      ]
     },
     "metadata": {},
     "output_type": "display_data"
    }
   ],
   "source": [
    "display(siab_train.groupby(\"year\").size())"
   ]
  },
  {
   "cell_type": "code",
   "execution_count": 20,
   "id": "a561edb4-d032-42cb-8256-22eac1111c64",
   "metadata": {
    "execution": {
     "iopub.execute_input": "2025-07-30T13:43:15.980573Z",
     "iopub.status.busy": "2025-07-30T13:43:15.979585Z",
     "iopub.status.idle": "2025-07-30T13:43:16.240005Z",
     "shell.execute_reply": "2025-07-30T13:43:16.239022Z"
    },
    "papermill": {
     "duration": 0.284727,
     "end_time": "2025-07-30T13:43:16.241844",
     "exception": false,
     "start_time": "2025-07-30T13:43:15.957117",
     "status": "completed"
    },
    "tags": []
   },
   "outputs": [],
   "source": [
    "#siab_train = siab_s[siab_s.year < 2015]\n",
    "siab_calib = siab[siab.year == 2015]\n",
    "siab_test = siab[siab.year == 2016]"
   ]
  },
  {
   "cell_type": "code",
   "execution_count": 21,
   "id": "472de16f-c3db-4916-846b-1f0de9cf1746",
   "metadata": {
    "execution": {
     "iopub.execute_input": "2025-07-30T13:43:16.288240Z",
     "iopub.status.busy": "2025-07-30T13:43:16.287335Z",
     "iopub.status.idle": "2025-07-30T13:43:16.295798Z",
     "shell.execute_reply": "2025-07-30T13:43:16.294818Z"
    },
    "papermill": {
     "duration": 0.033516,
     "end_time": "2025-07-30T13:43:16.297673",
     "exception": false,
     "start_time": "2025-07-30T13:43:16.264157",
     "status": "completed"
    },
    "tags": []
   },
   "outputs": [],
   "source": [
    "X_train = siab_train.iloc[:,4:164]\n",
    "y_train = siab_train.iloc[:, [3]]"
   ]
  },
  {
   "cell_type": "code",
   "execution_count": 22,
   "id": "828c96af-f43a-4ed6-ba47-8ac73a47d56c",
   "metadata": {
    "execution": {
     "iopub.execute_input": "2025-07-30T13:43:16.344079Z",
     "iopub.status.busy": "2025-07-30T13:43:16.343388Z",
     "iopub.status.idle": "2025-07-30T13:43:16.407129Z",
     "shell.execute_reply": "2025-07-30T13:43:16.405967Z"
    },
    "papermill": {
     "duration": 0.088808,
     "end_time": "2025-07-30T13:43:16.408956",
     "exception": false,
     "start_time": "2025-07-30T13:43:16.320148",
     "status": "completed"
    },
    "tags": []
   },
   "outputs": [],
   "source": [
    "X_calib = siab_calib.iloc[:,4:164]\n",
    "y_calib = siab_calib.iloc[:, [3]]"
   ]
  },
  {
   "cell_type": "code",
   "execution_count": 23,
   "id": "c34be9c3-6bd6-476e-acd3-845840e303be",
   "metadata": {
    "execution": {
     "iopub.execute_input": "2025-07-30T13:43:16.456932Z",
     "iopub.status.busy": "2025-07-30T13:43:16.456231Z",
     "iopub.status.idle": "2025-07-30T13:43:16.509340Z",
     "shell.execute_reply": "2025-07-30T13:43:16.508272Z"
    },
    "papermill": {
     "duration": 0.079137,
     "end_time": "2025-07-30T13:43:16.511318",
     "exception": false,
     "start_time": "2025-07-30T13:43:16.432181",
     "status": "completed"
    },
    "tags": []
   },
   "outputs": [],
   "source": [
    "X_test = siab_test.iloc[:,4:164]\n",
    "y_true = siab_test.iloc[:, [3]]"
   ]
  },
  {
   "cell_type": "markdown",
   "id": "9901737e-04df-44f0-9100-f5ad144ed040",
   "metadata": {
    "papermill": {
     "duration": 0.021071,
     "end_time": "2025-07-30T13:43:16.555685",
     "exception": false,
     "start_time": "2025-07-30T13:43:16.534614",
     "status": "completed"
    },
    "tags": []
   },
   "source": [
    "# Splitting Data and Setting Training Data Size OLD VERSION"
   ]
  },
  {
   "cell_type": "code",
   "execution_count": 24,
   "id": "acbc8f7d-8fc8-4e86-8c59-5dcb0f58384b",
   "metadata": {
    "execution": {
     "iopub.execute_input": "2025-07-30T13:43:16.602141Z",
     "iopub.status.busy": "2025-07-30T13:43:16.601218Z",
     "iopub.status.idle": "2025-07-30T13:43:16.606800Z",
     "shell.execute_reply": "2025-07-30T13:43:16.605857Z"
    },
    "papermill": {
     "duration": 0.030604,
     "end_time": "2025-07-30T13:43:16.608349",
     "exception": false,
     "start_time": "2025-07-30T13:43:16.577745",
     "status": "completed"
    },
    "tags": []
   },
   "outputs": [],
   "source": [
    "#def sample_by_year(df, training_size, random_state=42):\n",
    "#    if training_size == \"2014\":\n",
    "#        return df[df[\"year\"] == 2014].reset_index(drop=True)\n",
    "#    \n",
    "#    size_map = {\n",
    "#        \"25k\": 5000,\n",
    "#        \"5k\": 1000,\n",
    "#        \"1k\": 200\n",
    "#    }\n",
    "#\n",
    "#    if training_size not in size_map:\n",
    "#        return df.reset_index(drop=True)  # use all data\n",
    "#\n",
    "#    n_per_year = size_map[training_size]\n",
    "#    grouped = df.groupby(\"year\")\n",
    "#    sampled = grouped.apply(lambda x: x.sample(n=min(n_per_year, len(x)), random_state=random_state))\n",
    "#    return sampled.reset_index(drop=True)"
   ]
  },
  {
   "cell_type": "code",
   "execution_count": 25,
   "id": "6d931f52-beaf-43ff-9e78-9d44a448d54e",
   "metadata": {
    "execution": {
     "iopub.execute_input": "2025-07-30T13:43:16.655401Z",
     "iopub.status.busy": "2025-07-30T13:43:16.654824Z",
     "iopub.status.idle": "2025-07-30T13:43:16.660075Z",
     "shell.execute_reply": "2025-07-30T13:43:16.658991Z"
    },
    "papermill": {
     "duration": 0.030837,
     "end_time": "2025-07-30T13:43:16.661721",
     "exception": false,
     "start_time": "2025-07-30T13:43:16.630884",
     "status": "completed"
    },
    "tags": []
   },
   "outputs": [],
   "source": [
    "#siab_s = sample_by_year(siab, universe[\"training_size\"])"
   ]
  },
  {
   "cell_type": "code",
   "execution_count": 26,
   "id": "5db0a40e-a4e2-4920-be85-b12ae061d70d",
   "metadata": {
    "execution": {
     "iopub.execute_input": "2025-07-30T13:43:16.707888Z",
     "iopub.status.busy": "2025-07-30T13:43:16.707215Z",
     "iopub.status.idle": "2025-07-30T13:43:16.712338Z",
     "shell.execute_reply": "2025-07-30T13:43:16.711351Z"
    },
    "papermill": {
     "duration": 0.029446,
     "end_time": "2025-07-30T13:43:16.714045",
     "exception": false,
     "start_time": "2025-07-30T13:43:16.684599",
     "status": "completed"
    },
    "tags": []
   },
   "outputs": [],
   "source": [
    "#display(siab_s.groupby(\"year\").size())"
   ]
  },
  {
   "cell_type": "code",
   "execution_count": 27,
   "id": "e6c733c5",
   "metadata": {
    "execution": {
     "iopub.execute_input": "2025-07-30T13:43:16.761240Z",
     "iopub.status.busy": "2025-07-30T13:43:16.760414Z",
     "iopub.status.idle": "2025-07-30T13:43:16.858781Z",
     "shell.execute_reply": "2025-07-30T13:43:16.857776Z"
    },
    "papermill": {
     "duration": 0.123157,
     "end_time": "2025-07-30T13:43:16.860789",
     "exception": false,
     "start_time": "2025-07-30T13:43:16.737632",
     "status": "completed"
    },
    "tags": []
   },
   "outputs": [],
   "source": [
    "# Auxiliary data needed downstream in the pipeline\n",
    "\n",
    "org_train = X_train.copy()\n",
    "org_test = X_test.copy()\n",
    "org_calib = X_calib.copy()"
   ]
  },
  {
   "cell_type": "code",
   "execution_count": 28,
   "id": "1466abac-c6da-4492-a62f-4240ae3783af",
   "metadata": {
    "execution": {
     "iopub.execute_input": "2025-07-30T13:43:16.908086Z",
     "iopub.status.busy": "2025-07-30T13:43:16.907352Z",
     "iopub.status.idle": "2025-07-30T13:43:16.913211Z",
     "shell.execute_reply": "2025-07-30T13:43:16.912248Z"
    },
    "papermill": {
     "duration": 0.030711,
     "end_time": "2025-07-30T13:43:16.914817",
     "exception": false,
     "start_time": "2025-07-30T13:43:16.884106",
     "status": "completed"
    },
    "tags": []
   },
   "outputs": [],
   "source": [
    "# put in other script?\n",
    "# Group sizes\n",
    "\n",
    "#def calculate_percentages(df, df_name):\n",
    "#    total_entries = len(df)\n",
    "#\n",
    "#    female_pct = (df['frau1'] == 1).mean() * 100\n",
    "#    non_german_pct = ((df['maxdeutsch1'] == 0) & (df['maxdeutsch.Missing.'] == 0)).mean() * 100\n",
    "#    non_german_male_pct = ((df['frau1'] == 0) & (df['maxdeutsch1'] == 0) & (df['maxdeutsch.Missing.'] == 0)).mean() * 100\n",
    "#    non_german_female_pct = ((df['frau1'] == 1) & (df['maxdeutsch1'] == 0) & (df['maxdeutsch.Missing.'] == 0)).mean() * 100\n",
    "#\n",
    "#    print(f\"--- {df_name} ---\")\n",
    "#    print(f\"Female: {female_pct:.2f}%\")\n",
    "#    print(f\"Non-German: {non_german_pct:.2f}%\")\n",
    "#    print(f\"Non-German Male: {non_german_male_pct:.2f}%\")\n",
    "#    print(f\"Non-German Female: {non_german_female_pct:.2f}%\\n\")\n",
    "#\n",
    "## Calculate for each DataFrame\n",
    "#calculate_percentages(siab_calib, \"siab_calib\")\n",
    "#calculate_percentages(siab_test, \"siab_test\")\n",
    "#calculate_percentages(siab_train, \"siab_train\")"
   ]
  },
  {
   "cell_type": "markdown",
   "id": "0a4a1b33",
   "metadata": {
    "papermill": {
     "duration": 0.022654,
     "end_time": "2025-07-30T13:43:16.961464",
     "exception": false,
     "start_time": "2025-07-30T13:43:16.938810",
     "status": "completed"
    },
    "tags": []
   },
   "source": [
    "# Preprocessing Data"
   ]
  },
  {
   "cell_type": "code",
   "execution_count": 29,
   "id": "ca879031",
   "metadata": {
    "execution": {
     "iopub.execute_input": "2025-07-30T13:43:17.007777Z",
     "iopub.status.busy": "2025-07-30T13:43:17.007116Z",
     "iopub.status.idle": "2025-07-30T13:43:17.013666Z",
     "shell.execute_reply": "2025-07-30T13:43:17.012583Z"
    },
    "papermill": {
     "duration": 0.03184,
     "end_time": "2025-07-30T13:43:17.015551",
     "exception": false,
     "start_time": "2025-07-30T13:43:16.983711",
     "status": "completed"
    },
    "tags": []
   },
   "outputs": [],
   "source": [
    "# EXCLUDE PROTECTED FEATURES\n",
    "# ----------------------\n",
    "# \"exclude_features\": \"none\", # \"nationality\", \"sex\", \"nationality-sex\"\n",
    "\n",
    "excluded_features = universe[\"exclude_features\"].split(\"-\") # split, e.g.: \"nationality-sex\" -> [\"nationality\", \"sex\"]\n",
    "excluded_features_dictionary = {\n",
    "    \"nationality\": [\"maxdeutsch1\", \"maxdeutsch.Missing.\"],\n",
    "    \"sex\": [\"frau1\"],\n",
    "    \"age\": [\"age\"],\n",
    "}\n"
   ]
  },
  {
   "cell_type": "code",
   "execution_count": 30,
   "id": "b745ac60",
   "metadata": {
    "execution": {
     "iopub.execute_input": "2025-07-30T13:43:17.062430Z",
     "iopub.status.busy": "2025-07-30T13:43:17.061737Z",
     "iopub.status.idle": "2025-07-30T13:43:17.067848Z",
     "shell.execute_reply": "2025-07-30T13:43:17.066865Z"
    },
    "papermill": {
     "duration": 0.030706,
     "end_time": "2025-07-30T13:43:17.069561",
     "exception": false,
     "start_time": "2025-07-30T13:43:17.038855",
     "status": "completed"
    },
    "tags": []
   },
   "outputs": [],
   "source": [
    "# Code nice names to column names\n",
    "\n",
    "excluded_features_columns = [\n",
    "    excluded_features_dictionary[f] for f in excluded_features if len(f) > 0 and f != \"none\"\n",
    "]"
   ]
  },
  {
   "cell_type": "code",
   "execution_count": 31,
   "id": "f84f73a2",
   "metadata": {
    "execution": {
     "iopub.execute_input": "2025-07-30T13:43:17.117023Z",
     "iopub.status.busy": "2025-07-30T13:43:17.116118Z",
     "iopub.status.idle": "2025-07-30T13:43:17.123060Z",
     "shell.execute_reply": "2025-07-30T13:43:17.122037Z"
    },
    "papermill": {
     "duration": 0.031504,
     "end_time": "2025-07-30T13:43:17.124849",
     "exception": false,
     "start_time": "2025-07-30T13:43:17.093345",
     "status": "completed"
    },
    "tags": []
   },
   "outputs": [],
   "source": [
    "from utils import flatten_once\n",
    "\n",
    "excluded_features_columns = flatten_once(excluded_features_columns)"
   ]
  },
  {
   "cell_type": "code",
   "execution_count": 32,
   "id": "884dea22",
   "metadata": {
    "execution": {
     "iopub.execute_input": "2025-07-30T13:43:17.172904Z",
     "iopub.status.busy": "2025-07-30T13:43:17.172313Z",
     "iopub.status.idle": "2025-07-30T13:43:17.181352Z",
     "shell.execute_reply": "2025-07-30T13:43:17.180353Z"
    },
    "papermill": {
     "duration": 0.034198,
     "end_time": "2025-07-30T13:43:17.183024",
     "exception": false,
     "start_time": "2025-07-30T13:43:17.148826",
     "status": "completed"
    },
    "tags": []
   },
   "outputs": [
    {
     "name": "stdout",
     "output_type": "stream",
     "text": [
      "Dropping features: ['frau1']\n"
     ]
    }
   ],
   "source": [
    "if len(excluded_features_columns) > 0:\n",
    "    print(f\"Dropping features: {excluded_features_columns}\")\n",
    "    X_train.drop(excluded_features_columns, axis=1, inplace=True)"
   ]
  },
  {
   "cell_type": "code",
   "execution_count": 33,
   "id": "95ab8b16",
   "metadata": {
    "execution": {
     "iopub.execute_input": "2025-07-30T13:43:17.231299Z",
     "iopub.status.busy": "2025-07-30T13:43:17.230641Z",
     "iopub.status.idle": "2025-07-30T13:43:17.283975Z",
     "shell.execute_reply": "2025-07-30T13:43:17.282652Z"
    },
    "papermill": {
     "duration": 0.080031,
     "end_time": "2025-07-30T13:43:17.286590",
     "exception": false,
     "start_time": "2025-07-30T13:43:17.206559",
     "status": "completed"
    },
    "tags": []
   },
   "outputs": [
    {
     "name": "stdout",
     "output_type": "stream",
     "text": [
      "Dropping features: ['frau1']\n"
     ]
    }
   ],
   "source": [
    "if len(excluded_features_columns) > 0:\n",
    "    print(f\"Dropping features: {excluded_features_columns}\")\n",
    "    X_test.drop(excluded_features_columns, axis=1, inplace=True)"
   ]
  },
  {
   "cell_type": "code",
   "execution_count": 34,
   "id": "1853aaf5-fb9f-46cb-a2b5-8ea4ae2237e4",
   "metadata": {
    "execution": {
     "iopub.execute_input": "2025-07-30T13:43:17.335479Z",
     "iopub.status.busy": "2025-07-30T13:43:17.334520Z",
     "iopub.status.idle": "2025-07-30T13:43:17.387339Z",
     "shell.execute_reply": "2025-07-30T13:43:17.386249Z"
    },
    "papermill": {
     "duration": 0.079191,
     "end_time": "2025-07-30T13:43:17.389262",
     "exception": false,
     "start_time": "2025-07-30T13:43:17.310071",
     "status": "completed"
    },
    "tags": []
   },
   "outputs": [
    {
     "name": "stdout",
     "output_type": "stream",
     "text": [
      "Dropping features: ['frau1']\n"
     ]
    }
   ],
   "source": [
    "if len(excluded_features_columns) > 0:\n",
    "    print(f\"Dropping features: {excluded_features_columns}\")\n",
    "    X_calib.drop(excluded_features_columns, axis=1, inplace=True)"
   ]
  },
  {
   "cell_type": "code",
   "execution_count": 35,
   "id": "6727d079-03e5-481e-9d38-292a90b7a0a8",
   "metadata": {
    "execution": {
     "iopub.execute_input": "2025-07-30T13:43:17.437455Z",
     "iopub.status.busy": "2025-07-30T13:43:17.436803Z",
     "iopub.status.idle": "2025-07-30T13:43:17.441697Z",
     "shell.execute_reply": "2025-07-30T13:43:17.440762Z"
    },
    "papermill": {
     "duration": 0.029906,
     "end_time": "2025-07-30T13:43:17.443355",
     "exception": false,
     "start_time": "2025-07-30T13:43:17.413449",
     "status": "completed"
    },
    "tags": []
   },
   "outputs": [],
   "source": [
    "# SPLIT & STRATIFY DATA\n",
    "# ----------------------"
   ]
  },
  {
   "cell_type": "code",
   "execution_count": 36,
   "id": "76c4dc6d",
   "metadata": {
    "execution": {
     "iopub.execute_input": "2025-07-30T13:43:17.492701Z",
     "iopub.status.busy": "2025-07-30T13:43:17.492015Z",
     "iopub.status.idle": "2025-07-30T13:43:17.499195Z",
     "shell.execute_reply": "2025-07-30T13:43:17.496976Z"
    },
    "papermill": {
     "duration": 0.033066,
     "end_time": "2025-07-30T13:43:17.500726",
     "exception": false,
     "start_time": "2025-07-30T13:43:17.467660",
     "status": "completed"
    },
    "tags": []
   },
   "outputs": [],
   "source": [
    "# EXCLUDE CERTAIN SUBGROUPS\n",
    "# ----------------------\n",
    "\n",
    "mode = universe.get(\"exclude_subgroups\", \"keep-all\") \n",
    "# Fetches the exclude_subgroups setting from the universe dict.\n",
    "# Defaults to \"keep-all\" if the key is missing."
   ]
  },
  {
   "cell_type": "code",
   "execution_count": 37,
   "id": "21994072",
   "metadata": {
    "execution": {
     "iopub.execute_input": "2025-07-30T13:43:17.549296Z",
     "iopub.status.busy": "2025-07-30T13:43:17.548608Z",
     "iopub.status.idle": "2025-07-30T13:43:17.555505Z",
     "shell.execute_reply": "2025-07-30T13:43:17.554452Z"
    },
    "papermill": {
     "duration": 0.033174,
     "end_time": "2025-07-30T13:43:17.557339",
     "exception": false,
     "start_time": "2025-07-30T13:43:17.524165",
     "status": "completed"
    },
    "tags": []
   },
   "outputs": [],
   "source": [
    "if mode == \"keep-all\":\n",
    "    keep_mask = pd.Series(True, index=org_train.index)\n",
    "\n",
    "# org_train contains the original feature columns from features_org (in Simson)\n",
    "# features_org contains unprocessed features, for me X_train at beginning ???\n",
    "# For keep-all, creates a boolean Series (keep_mask) of all True, so no rows are removed.\n",
    "\n",
    "elif mode == \"drop-non-german\":\n",
    "    keep_mask = org_train[\"maxdeutsch1\"] == 1 # ??? what about missing values?\n",
    "\n",
    "else:\n",
    "    raise ValueError(f\"Unsupported mode for exclude_subgroups: {mode}\")\n"
   ]
  },
  {
   "cell_type": "code",
   "execution_count": 38,
   "id": "71651440",
   "metadata": {
    "execution": {
     "iopub.execute_input": "2025-07-30T13:43:17.607268Z",
     "iopub.status.busy": "2025-07-30T13:43:17.606611Z",
     "iopub.status.idle": "2025-07-30T13:43:17.614807Z",
     "shell.execute_reply": "2025-07-30T13:43:17.613885Z"
    },
    "papermill": {
     "duration": 0.034452,
     "end_time": "2025-07-30T13:43:17.616554",
     "exception": false,
     "start_time": "2025-07-30T13:43:17.582102",
     "status": "completed"
    },
    "tags": []
   },
   "outputs": [
    {
     "name": "stdout",
     "output_type": "stream",
     "text": [
      "Dropping 741 rows (14.82%) where mode='drop-non-german'\n"
     ]
    }
   ],
   "source": [
    "n_drop = (~keep_mask).sum() # Calculates how many rows are set to be dropped\n",
    "if n_drop > 0:\n",
    "    pct = n_drop / len(keep_mask) * 100\n",
    "    print(f\"Dropping {n_drop} rows ({pct:.2f}%) where mode='{mode}'\")"
   ]
  },
  {
   "cell_type": "code",
   "execution_count": 39,
   "id": "5fb8eee5",
   "metadata": {
    "execution": {
     "iopub.execute_input": "2025-07-30T13:43:17.666652Z",
     "iopub.status.busy": "2025-07-30T13:43:17.665404Z",
     "iopub.status.idle": "2025-07-30T13:43:17.675052Z",
     "shell.execute_reply": "2025-07-30T13:43:17.674024Z"
    },
    "papermill": {
     "duration": 0.035778,
     "end_time": "2025-07-30T13:43:17.676864",
     "exception": false,
     "start_time": "2025-07-30T13:43:17.641086",
     "status": "completed"
    },
    "tags": []
   },
   "outputs": [],
   "source": [
    "X_train = X_train[keep_mask]"
   ]
  },
  {
   "cell_type": "code",
   "execution_count": 40,
   "id": "b202bb3a",
   "metadata": {
    "execution": {
     "iopub.execute_input": "2025-07-30T13:43:17.729132Z",
     "iopub.status.busy": "2025-07-30T13:43:17.728156Z",
     "iopub.status.idle": "2025-07-30T13:43:17.734388Z",
     "shell.execute_reply": "2025-07-30T13:43:17.733522Z"
    },
    "papermill": {
     "duration": 0.033948,
     "end_time": "2025-07-30T13:43:17.736253",
     "exception": false,
     "start_time": "2025-07-30T13:43:17.702305",
     "status": "completed"
    },
    "tags": []
   },
   "outputs": [],
   "source": [
    "y_train = y_train[keep_mask]"
   ]
  },
  {
   "cell_type": "markdown",
   "id": "493e2ac3",
   "metadata": {
    "papermill": {
     "duration": 0.023997,
     "end_time": "2025-07-30T13:43:17.784621",
     "exception": false,
     "start_time": "2025-07-30T13:43:17.760624",
     "status": "completed"
    },
    "tags": []
   },
   "source": [
    "# Model Training"
   ]
  },
  {
   "cell_type": "code",
   "execution_count": 41,
   "id": "679e1268",
   "metadata": {
    "execution": {
     "iopub.execute_input": "2025-07-30T13:43:17.832674Z",
     "iopub.status.busy": "2025-07-30T13:43:17.832166Z",
     "iopub.status.idle": "2025-07-30T13:43:17.934120Z",
     "shell.execute_reply": "2025-07-30T13:43:17.933159Z"
    },
    "papermill": {
     "duration": 0.128331,
     "end_time": "2025-07-30T13:43:17.936122",
     "exception": false,
     "start_time": "2025-07-30T13:43:17.807791",
     "status": "completed"
    },
    "tags": []
   },
   "outputs": [],
   "source": [
    "from sklearn.linear_model import LogisticRegression\n",
    "from sklearn.ensemble import GradientBoostingClassifier, RandomForestClassifier\n",
    "\n",
    "if (universe[\"model\"] == \"logreg\"):\n",
    "    model = LogisticRegression() #penalty=\"none\") #, solver=\"newton-cg\", max_iter=1) # include random_state=19 ?\n",
    "elif (universe[\"model\"] == \"penalized_logreg\"):\n",
    "    model = LogisticRegression(penalty=\"l2\", C=1.0) #, solver=\"newton-cg\", max_iter=1)\n",
    "elif (universe[\"model\"] == \"rf\"):\n",
    "    model = RandomForestClassifier(n_estimators=100, n_jobs=-1)\n",
    "elif (universe[\"model\"] == \"gbm\"):\n",
    "    model = GradientBoostingClassifier()\n",
    "elif (universe[\"model\"] == \"elasticnet\"):\n",
    "    model = LogisticRegression(penalty = 'elasticnet', solver = 'saga', l1_ratio = 0.5, max_iter=5000) # which solver to use?\n",
    "else:\n",
    "    raise \"Unsupported universe.model\""
   ]
  },
  {
   "cell_type": "code",
   "execution_count": 42,
   "id": "0cc8f744",
   "metadata": {
    "execution": {
     "iopub.execute_input": "2025-07-30T13:43:17.984874Z",
     "iopub.status.busy": "2025-07-30T13:43:17.984299Z",
     "iopub.status.idle": "2025-07-30T13:43:17.991057Z",
     "shell.execute_reply": "2025-07-30T13:43:17.990050Z"
    },
    "papermill": {
     "duration": 0.032958,
     "end_time": "2025-07-30T13:43:17.992711",
     "exception": false,
     "start_time": "2025-07-30T13:43:17.959753",
     "status": "completed"
    },
    "tags": []
   },
   "outputs": [],
   "source": [
    "import numpy as np\n",
    "from sklearn.pipeline import Pipeline\n",
    "from sklearn.preprocessing import StandardScaler\n",
    "\n",
    "model = Pipeline([\n",
    "    #(\"continuous_processor\", continuous_processor),\n",
    "    #(\"categorical_preprocessor\", categorical_preprocessor),\n",
    "    (\"scale\", StandardScaler() if universe[\"scale\"] == \"scale\" else None), \n",
    "    (\"model\", model),\n",
    "])"
   ]
  },
  {
   "cell_type": "code",
   "execution_count": 43,
   "id": "9442c04d",
   "metadata": {
    "execution": {
     "iopub.execute_input": "2025-07-30T13:43:18.041964Z",
     "iopub.status.busy": "2025-07-30T13:43:18.041052Z",
     "iopub.status.idle": "2025-07-30T13:43:18.878885Z",
     "shell.execute_reply": "2025-07-30T13:43:18.878101Z"
    },
    "papermill": {
     "duration": 0.862926,
     "end_time": "2025-07-30T13:43:18.880208",
     "exception": false,
     "start_time": "2025-07-30T13:43:18.017282",
     "status": "completed"
    },
    "tags": []
   },
   "outputs": [
    {
     "data": {
      "text/html": [
       "<style>#sk-container-id-1 {color: black;background-color: white;}#sk-container-id-1 pre{padding: 0;}#sk-container-id-1 div.sk-toggleable {background-color: white;}#sk-container-id-1 label.sk-toggleable__label {cursor: pointer;display: block;width: 100%;margin-bottom: 0;padding: 0.3em;box-sizing: border-box;text-align: center;}#sk-container-id-1 label.sk-toggleable__label-arrow:before {content: \"▸\";float: left;margin-right: 0.25em;color: #696969;}#sk-container-id-1 label.sk-toggleable__label-arrow:hover:before {color: black;}#sk-container-id-1 div.sk-estimator:hover label.sk-toggleable__label-arrow:before {color: black;}#sk-container-id-1 div.sk-toggleable__content {max-height: 0;max-width: 0;overflow: hidden;text-align: left;background-color: #f0f8ff;}#sk-container-id-1 div.sk-toggleable__content pre {margin: 0.2em;color: black;border-radius: 0.25em;background-color: #f0f8ff;}#sk-container-id-1 input.sk-toggleable__control:checked~div.sk-toggleable__content {max-height: 200px;max-width: 100%;overflow: auto;}#sk-container-id-1 input.sk-toggleable__control:checked~label.sk-toggleable__label-arrow:before {content: \"▾\";}#sk-container-id-1 div.sk-estimator input.sk-toggleable__control:checked~label.sk-toggleable__label {background-color: #d4ebff;}#sk-container-id-1 div.sk-label input.sk-toggleable__control:checked~label.sk-toggleable__label {background-color: #d4ebff;}#sk-container-id-1 input.sk-hidden--visually {border: 0;clip: rect(1px 1px 1px 1px);clip: rect(1px, 1px, 1px, 1px);height: 1px;margin: -1px;overflow: hidden;padding: 0;position: absolute;width: 1px;}#sk-container-id-1 div.sk-estimator {font-family: monospace;background-color: #f0f8ff;border: 1px dotted black;border-radius: 0.25em;box-sizing: border-box;margin-bottom: 0.5em;}#sk-container-id-1 div.sk-estimator:hover {background-color: #d4ebff;}#sk-container-id-1 div.sk-parallel-item::after {content: \"\";width: 100%;border-bottom: 1px solid gray;flex-grow: 1;}#sk-container-id-1 div.sk-label:hover label.sk-toggleable__label {background-color: #d4ebff;}#sk-container-id-1 div.sk-serial::before {content: \"\";position: absolute;border-left: 1px solid gray;box-sizing: border-box;top: 0;bottom: 0;left: 50%;z-index: 0;}#sk-container-id-1 div.sk-serial {display: flex;flex-direction: column;align-items: center;background-color: white;padding-right: 0.2em;padding-left: 0.2em;position: relative;}#sk-container-id-1 div.sk-item {position: relative;z-index: 1;}#sk-container-id-1 div.sk-parallel {display: flex;align-items: stretch;justify-content: center;background-color: white;position: relative;}#sk-container-id-1 div.sk-item::before, #sk-container-id-1 div.sk-parallel-item::before {content: \"\";position: absolute;border-left: 1px solid gray;box-sizing: border-box;top: 0;bottom: 0;left: 50%;z-index: -1;}#sk-container-id-1 div.sk-parallel-item {display: flex;flex-direction: column;z-index: 1;position: relative;background-color: white;}#sk-container-id-1 div.sk-parallel-item:first-child::after {align-self: flex-end;width: 50%;}#sk-container-id-1 div.sk-parallel-item:last-child::after {align-self: flex-start;width: 50%;}#sk-container-id-1 div.sk-parallel-item:only-child::after {width: 0;}#sk-container-id-1 div.sk-dashed-wrapped {border: 1px dashed gray;margin: 0 0.4em 0.5em 0.4em;box-sizing: border-box;padding-bottom: 0.4em;background-color: white;}#sk-container-id-1 div.sk-label label {font-family: monospace;font-weight: bold;display: inline-block;line-height: 1.2em;}#sk-container-id-1 div.sk-label-container {text-align: center;}#sk-container-id-1 div.sk-container {/* jupyter's `normalize.less` sets `[hidden] { display: none; }` but bootstrap.min.css set `[hidden] { display: none !important; }` so we also need the `!important` here to be able to override the default hidden behavior on the sphinx rendered scikit-learn.org. See: https://github.com/scikit-learn/scikit-learn/issues/21755 */display: inline-block !important;position: relative;}#sk-container-id-1 div.sk-text-repr-fallback {display: none;}</style><div id=\"sk-container-id-1\" class=\"sk-top-container\"><div class=\"sk-text-repr-fallback\"><pre>Pipeline(steps=[(&#x27;scale&#x27;, StandardScaler()),\n",
       "                (&#x27;model&#x27;, RandomForestClassifier(n_jobs=-1))])</pre><b>In a Jupyter environment, please rerun this cell to show the HTML representation or trust the notebook. <br />On GitHub, the HTML representation is unable to render, please try loading this page with nbviewer.org.</b></div><div class=\"sk-container\" hidden><div class=\"sk-item sk-dashed-wrapped\"><div class=\"sk-label-container\"><div class=\"sk-label sk-toggleable\"><input class=\"sk-toggleable__control sk-hidden--visually\" id=\"sk-estimator-id-1\" type=\"checkbox\" ><label for=\"sk-estimator-id-1\" class=\"sk-toggleable__label sk-toggleable__label-arrow\">Pipeline</label><div class=\"sk-toggleable__content\"><pre>Pipeline(steps=[(&#x27;scale&#x27;, StandardScaler()),\n",
       "                (&#x27;model&#x27;, RandomForestClassifier(n_jobs=-1))])</pre></div></div></div><div class=\"sk-serial\"><div class=\"sk-item\"><div class=\"sk-estimator sk-toggleable\"><input class=\"sk-toggleable__control sk-hidden--visually\" id=\"sk-estimator-id-2\" type=\"checkbox\" ><label for=\"sk-estimator-id-2\" class=\"sk-toggleable__label sk-toggleable__label-arrow\">StandardScaler</label><div class=\"sk-toggleable__content\"><pre>StandardScaler()</pre></div></div></div><div class=\"sk-item\"><div class=\"sk-estimator sk-toggleable\"><input class=\"sk-toggleable__control sk-hidden--visually\" id=\"sk-estimator-id-3\" type=\"checkbox\" ><label for=\"sk-estimator-id-3\" class=\"sk-toggleable__label sk-toggleable__label-arrow\">RandomForestClassifier</label><div class=\"sk-toggleable__content\"><pre>RandomForestClassifier(n_jobs=-1)</pre></div></div></div></div></div></div></div>"
      ],
      "text/plain": [
       "Pipeline(steps=[('scale', StandardScaler()),\n",
       "                ('model', RandomForestClassifier(n_jobs=-1))])"
      ]
     },
     "execution_count": 43,
     "metadata": {},
     "output_type": "execute_result"
    }
   ],
   "source": [
    "model.fit(X_train, y_train.values.ravel())"
   ]
  },
  {
   "cell_type": "code",
   "execution_count": 44,
   "id": "af59f8c0",
   "metadata": {
    "execution": {
     "iopub.execute_input": "2025-07-30T13:43:18.906891Z",
     "iopub.status.busy": "2025-07-30T13:43:18.906390Z",
     "iopub.status.idle": "2025-07-30T13:43:18.911078Z",
     "shell.execute_reply": "2025-07-30T13:43:18.910357Z"
    },
    "papermill": {
     "duration": 0.019346,
     "end_time": "2025-07-30T13:43:18.912434",
     "exception": false,
     "start_time": "2025-07-30T13:43:18.893088",
     "status": "completed"
    },
    "tags": []
   },
   "outputs": [],
   "source": [
    "from fairness_multiverse.universe import predict_w_threshold"
   ]
  },
  {
   "cell_type": "code",
   "execution_count": 45,
   "id": "a7cf2e16",
   "metadata": {
    "execution": {
     "iopub.execute_input": "2025-07-30T13:43:18.940083Z",
     "iopub.status.busy": "2025-07-30T13:43:18.939568Z",
     "iopub.status.idle": "2025-07-30T13:43:20.218683Z",
     "shell.execute_reply": "2025-07-30T13:43:20.217891Z"
    },
    "papermill": {
     "duration": 1.29359,
     "end_time": "2025-07-30T13:43:20.219921",
     "exception": false,
     "start_time": "2025-07-30T13:43:18.926331",
     "status": "completed"
    },
    "tags": []
   },
   "outputs": [
    {
     "data": {
      "text/plain": [
       "0.8632593913721993"
      ]
     },
     "execution_count": 45,
     "metadata": {},
     "output_type": "execute_result"
    }
   ],
   "source": [
    "probs_test = model.predict_proba(X_test)\n",
    "\n",
    "'''\n",
    "Below code returns a boolean array (or binary 0/1 array depending on how it’s used) where each element \n",
    "is True if the probability of class 1 is greater than or equal to the threshold, and False otherwise.\n",
    "'''\n",
    "y_pred_default = predict_w_threshold(probs_test, 0.5)\n",
    "\n",
    "from sklearn.metrics import accuracy_score\n",
    "\n",
    "# Naive prediction\n",
    "accuracy_score(y_true = y_true, y_pred = y_pred_default)"
   ]
  },
  {
   "cell_type": "code",
   "execution_count": 46,
   "id": "081964c3",
   "metadata": {
    "execution": {
     "iopub.execute_input": "2025-07-30T13:43:20.247479Z",
     "iopub.status.busy": "2025-07-30T13:43:20.246971Z",
     "iopub.status.idle": "2025-07-30T13:43:21.240569Z",
     "shell.execute_reply": "2025-07-30T13:43:21.238628Z"
    },
    "papermill": {
     "duration": 1.009478,
     "end_time": "2025-07-30T13:43:21.242743",
     "exception": false,
     "start_time": "2025-07-30T13:43:20.233265",
     "status": "completed"
    },
    "tags": []
   },
   "outputs": [
    {
     "data": {
      "text/plain": [
       "array([0, 0, 0, ..., 0, 0, 0])"
      ]
     },
     "execution_count": 46,
     "metadata": {},
     "output_type": "execute_result"
    }
   ],
   "source": [
    "model.predict(X_test)"
   ]
  },
  {
   "cell_type": "markdown",
   "id": "56c9705b",
   "metadata": {
    "papermill": {
     "duration": 0.029231,
     "end_time": "2025-07-30T13:43:21.308422",
     "exception": false,
     "start_time": "2025-07-30T13:43:21.279191",
     "status": "completed"
    },
    "tags": []
   },
   "source": [
    "# Conformal Prediction"
   ]
  },
  {
   "cell_type": "code",
   "execution_count": 47,
   "id": "160ec6ff",
   "metadata": {
    "execution": {
     "iopub.execute_input": "2025-07-30T13:43:21.358791Z",
     "iopub.status.busy": "2025-07-30T13:43:21.357705Z",
     "iopub.status.idle": "2025-07-30T13:43:21.364716Z",
     "shell.execute_reply": "2025-07-30T13:43:21.363439Z"
    },
    "papermill": {
     "duration": 0.034722,
     "end_time": "2025-07-30T13:43:21.366702",
     "exception": false,
     "start_time": "2025-07-30T13:43:21.331980",
     "status": "completed"
    },
    "tags": []
   },
   "outputs": [],
   "source": [
    "# Miscoverage level for conformal prediction (10% allowed error rate => 90% target coverage)\n",
    "alpha = 0.1"
   ]
  },
  {
   "cell_type": "code",
   "execution_count": 48,
   "id": "eadf4555-3dd3-440e-8e35-f82a4ad9f855",
   "metadata": {
    "execution": {
     "iopub.execute_input": "2025-07-30T13:43:21.400577Z",
     "iopub.status.busy": "2025-07-30T13:43:21.400190Z",
     "iopub.status.idle": "2025-07-30T13:43:22.435442Z",
     "shell.execute_reply": "2025-07-30T13:43:22.434633Z"
    },
    "papermill": {
     "duration": 1.051633,
     "end_time": "2025-07-30T13:43:22.437203",
     "exception": false,
     "start_time": "2025-07-30T13:43:21.385570",
     "status": "completed"
    },
    "tags": []
   },
   "outputs": [],
   "source": [
    "probs_calib = model.predict_proba(X_calib)"
   ]
  },
  {
   "cell_type": "code",
   "execution_count": 49,
   "id": "2ed93547-6d5d-4983-9b36-1ecb300da49a",
   "metadata": {
    "execution": {
     "iopub.execute_input": "2025-07-30T13:43:22.495427Z",
     "iopub.status.busy": "2025-07-30T13:43:22.494979Z",
     "iopub.status.idle": "2025-07-30T13:43:22.501286Z",
     "shell.execute_reply": "2025-07-30T13:43:22.500444Z"
    },
    "papermill": {
     "duration": 0.037971,
     "end_time": "2025-07-30T13:43:22.502646",
     "exception": false,
     "start_time": "2025-07-30T13:43:22.464675",
     "status": "completed"
    },
    "tags": []
   },
   "outputs": [],
   "source": [
    "y_calib = y_calib.values.ravel().astype(int)"
   ]
  },
  {
   "cell_type": "code",
   "execution_count": 50,
   "id": "65d1320d-f588-4b38-9072-62af1ae97f7d",
   "metadata": {
    "execution": {
     "iopub.execute_input": "2025-07-30T13:43:22.532109Z",
     "iopub.status.busy": "2025-07-30T13:43:22.531744Z",
     "iopub.status.idle": "2025-07-30T13:43:22.538788Z",
     "shell.execute_reply": "2025-07-30T13:43:22.538020Z"
    },
    "papermill": {
     "duration": 0.022722,
     "end_time": "2025-07-30T13:43:22.540331",
     "exception": false,
     "start_time": "2025-07-30T13:43:22.517609",
     "status": "completed"
    },
    "tags": []
   },
   "outputs": [],
   "source": [
    "from fairness_multiverse.conformal import compute_nc_scores\n",
    "\n",
    "# Compute nonconformity scores on calibration set (1 - probability of true class)\n",
    "nc_scores = compute_nc_scores(probs_calib, y_calib)"
   ]
  },
  {
   "cell_type": "code",
   "execution_count": 51,
   "id": "df3b8ca3-53b7-43d5-9667-7c85da7aeda2",
   "metadata": {
    "execution": {
     "iopub.execute_input": "2025-07-30T13:43:22.578095Z",
     "iopub.status.busy": "2025-07-30T13:43:22.577580Z",
     "iopub.status.idle": "2025-07-30T13:43:22.585512Z",
     "shell.execute_reply": "2025-07-30T13:43:22.584083Z"
    },
    "papermill": {
     "duration": 0.033577,
     "end_time": "2025-07-30T13:43:22.587917",
     "exception": false,
     "start_time": "2025-07-30T13:43:22.554340",
     "status": "completed"
    },
    "tags": []
   },
   "outputs": [],
   "source": [
    "from fairness_multiverse.conformal import find_threshold\n",
    "\n",
    "# Find conformal threshold q_hat for the given alpha (split conformal method)\n",
    "q_hat = find_threshold(nc_scores, alpha)"
   ]
  },
  {
   "cell_type": "code",
   "execution_count": 52,
   "id": "4d29e6c1-0ef6-4aa4-b8fe-4fe79b0d033a",
   "metadata": {
    "execution": {
     "iopub.execute_input": "2025-07-30T13:43:22.662946Z",
     "iopub.status.busy": "2025-07-30T13:43:22.662433Z",
     "iopub.status.idle": "2025-07-30T13:43:22.669540Z",
     "shell.execute_reply": "2025-07-30T13:43:22.668796Z"
    },
    "papermill": {
     "duration": 0.045446,
     "end_time": "2025-07-30T13:43:22.670844",
     "exception": false,
     "start_time": "2025-07-30T13:43:22.625398",
     "status": "completed"
    },
    "tags": []
   },
   "outputs": [
    {
     "data": {
      "text/plain": [
       "0.65"
      ]
     },
     "execution_count": 52,
     "metadata": {},
     "output_type": "execute_result"
    }
   ],
   "source": [
    "q_hat"
   ]
  },
  {
   "cell_type": "code",
   "execution_count": 53,
   "id": "92460794-cdac-4be2-ba28-f28c0515a6fb",
   "metadata": {
    "execution": {
     "iopub.execute_input": "2025-07-30T13:43:22.700281Z",
     "iopub.status.busy": "2025-07-30T13:43:22.699914Z",
     "iopub.status.idle": "2025-07-30T13:43:24.371877Z",
     "shell.execute_reply": "2025-07-30T13:43:24.370856Z"
    },
    "papermill": {
     "duration": 1.688883,
     "end_time": "2025-07-30T13:43:24.374032",
     "exception": false,
     "start_time": "2025-07-30T13:43:22.685149",
     "status": "completed"
    },
    "tags": []
   },
   "outputs": [],
   "source": [
    "from fairness_multiverse.conformal import predict_conformal_sets\n",
    "\n",
    "# Generate prediction sets for each test example\n",
    "pred_sets = predict_conformal_sets(model, X_test, q_hat)"
   ]
  },
  {
   "cell_type": "code",
   "execution_count": 54,
   "id": "d90c9a65-e6db-4f5d-80cd-e68fb7e46829",
   "metadata": {
    "execution": {
     "iopub.execute_input": "2025-07-30T13:43:24.422552Z",
     "iopub.status.busy": "2025-07-30T13:43:24.422105Z",
     "iopub.status.idle": "2025-07-30T13:43:24.427334Z",
     "shell.execute_reply": "2025-07-30T13:43:24.426433Z"
    },
    "papermill": {
     "duration": 0.030436,
     "end_time": "2025-07-30T13:43:24.429248",
     "exception": false,
     "start_time": "2025-07-30T13:43:24.398812",
     "status": "completed"
    },
    "tags": []
   },
   "outputs": [],
   "source": [
    "y_true = y_true.squeeze()"
   ]
  },
  {
   "cell_type": "code",
   "execution_count": 55,
   "id": "3a58a54a-1e68-46b9-927a-df01f18aebc8",
   "metadata": {
    "execution": {
     "iopub.execute_input": "2025-07-30T13:43:24.480528Z",
     "iopub.status.busy": "2025-07-30T13:43:24.480245Z",
     "iopub.status.idle": "2025-07-30T13:43:25.441929Z",
     "shell.execute_reply": "2025-07-30T13:43:25.440960Z"
    },
    "papermill": {
     "duration": 0.991687,
     "end_time": "2025-07-30T13:43:25.443728",
     "exception": false,
     "start_time": "2025-07-30T13:43:24.452041",
     "status": "completed"
    },
    "tags": []
   },
   "outputs": [],
   "source": [
    "from fairness_multiverse.conformal import evaluate_sets\n",
    "\n",
    "# Evaluate coverage and average set size on test data\n",
    "metrics = evaluate_sets(pred_sets, y_true)"
   ]
  },
  {
   "cell_type": "markdown",
   "id": "2b569c12-9aaa-4c88-98c9-bbcd0cf3ebb8",
   "metadata": {
    "papermill": {
     "duration": 0.060134,
     "end_time": "2025-07-30T13:43:25.524495",
     "exception": false,
     "start_time": "2025-07-30T13:43:25.464361",
     "status": "completed"
    },
    "tags": []
   },
   "source": [
    "# CP Metrics"
   ]
  },
  {
   "cell_type": "code",
   "execution_count": 56,
   "id": "5ce0a5cb-201f-45a0-ade5-94c7f0bd6095",
   "metadata": {
    "execution": {
     "iopub.execute_input": "2025-07-30T13:43:25.578082Z",
     "iopub.status.busy": "2025-07-30T13:43:25.577641Z",
     "iopub.status.idle": "2025-07-30T13:43:25.588771Z",
     "shell.execute_reply": "2025-07-30T13:43:25.587591Z"
    },
    "papermill": {
     "duration": 0.046158,
     "end_time": "2025-07-30T13:43:25.590773",
     "exception": false,
     "start_time": "2025-07-30T13:43:25.544615",
     "status": "completed"
    },
    "tags": []
   },
   "outputs": [
    {
     "data": {
      "text/plain": [
       "{'coverage': 0.9124512317467395, 'avg_size': 1.1380448110578532}"
      ]
     },
     "execution_count": 56,
     "metadata": {},
     "output_type": "execute_result"
    }
   ],
   "source": [
    "metrics"
   ]
  },
  {
   "cell_type": "code",
   "execution_count": 57,
   "id": "9b9a838d-31c9-430b-ae14-12baee460d17",
   "metadata": {
    "execution": {
     "iopub.execute_input": "2025-07-30T13:43:25.690120Z",
     "iopub.status.busy": "2025-07-30T13:43:25.689713Z",
     "iopub.status.idle": "2025-07-30T13:43:25.696807Z",
     "shell.execute_reply": "2025-07-30T13:43:25.695736Z"
    },
    "papermill": {
     "duration": 0.076904,
     "end_time": "2025-07-30T13:43:25.698968",
     "exception": false,
     "start_time": "2025-07-30T13:43:25.622064",
     "status": "completed"
    },
    "tags": []
   },
   "outputs": [],
   "source": [
    "example_universe = universe.copy()\n",
    "universe_training_size = example_universe.get(\"training_size\")\n",
    "universe_scale = example_universe.get(\"scale\")\n",
    "universe_model = example_universe.get(\"model\")\n",
    "universe_exclude_features = example_universe.get(\"exclude_features\")\n",
    "universe_exclude_subgroups = example_universe.get(\"exclude_subgroups\")"
   ]
  },
  {
   "cell_type": "code",
   "execution_count": 58,
   "id": "f4b6a8ac-9dc0-4245-8a91-5b3b5999c4f9",
   "metadata": {
    "execution": {
     "iopub.execute_input": "2025-07-30T13:43:25.828891Z",
     "iopub.status.busy": "2025-07-30T13:43:25.828372Z",
     "iopub.status.idle": "2025-07-30T13:43:25.836767Z",
     "shell.execute_reply": "2025-07-30T13:43:25.835145Z"
    },
    "papermill": {
     "duration": 0.067744,
     "end_time": "2025-07-30T13:43:25.840473",
     "exception": false,
     "start_time": "2025-07-30T13:43:25.772729",
     "status": "completed"
    },
    "tags": []
   },
   "outputs": [],
   "source": [
    "cp_metrics_dict = {\n",
    "    \"universe_id\": [universe_id],\n",
    "    \"universe_training_size\": [universe_training_size],\n",
    "    \"universe_scale\": [universe_scale],\n",
    "    \"universe_model\": [universe_model],\n",
    "    \"universe_exclude_features\": [universe_exclude_features],\n",
    "    \"universe_exclude_subgroups\": [universe_exclude_subgroups],\n",
    "    \"q_hat\": [q_hat],\n",
    "    \"coverage\": [metrics[\"coverage\"]],\n",
    "    \"avg_size\": [metrics[\"avg_size\"]],\n",
    "}"
   ]
  },
  {
   "cell_type": "code",
   "execution_count": 59,
   "id": "908acbb1-0371-4915-85ca-3fa520d2efe2",
   "metadata": {
    "execution": {
     "iopub.execute_input": "2025-07-30T13:43:25.974062Z",
     "iopub.status.busy": "2025-07-30T13:43:25.973585Z",
     "iopub.status.idle": "2025-07-30T13:43:25.982656Z",
     "shell.execute_reply": "2025-07-30T13:43:25.981688Z"
    },
    "papermill": {
     "duration": 0.062239,
     "end_time": "2025-07-30T13:43:25.986880",
     "exception": false,
     "start_time": "2025-07-30T13:43:25.924641",
     "status": "completed"
    },
    "tags": []
   },
   "outputs": [
    {
     "data": {
      "text/plain": [
       "{'universe_id': ['64a6e9fb1c7df1b1d9cc61fcda2da1e6'],\n",
       " 'universe_training_size': ['5k'],\n",
       " 'universe_scale': ['scale'],\n",
       " 'universe_model': ['rf'],\n",
       " 'universe_exclude_features': ['sex'],\n",
       " 'universe_exclude_subgroups': ['drop-non-german'],\n",
       " 'q_hat': [0.65],\n",
       " 'coverage': [0.9124512317467395],\n",
       " 'avg_size': [1.1380448110578532]}"
      ]
     },
     "execution_count": 59,
     "metadata": {},
     "output_type": "execute_result"
    }
   ],
   "source": [
    "cp_metrics_dict"
   ]
  },
  {
   "cell_type": "code",
   "execution_count": 60,
   "id": "33007efc-14e9-4ec6-97ac-56a455c82265",
   "metadata": {
    "execution": {
     "iopub.execute_input": "2025-07-30T13:43:26.060453Z",
     "iopub.status.busy": "2025-07-30T13:43:26.060047Z",
     "iopub.status.idle": "2025-07-30T13:43:26.066773Z",
     "shell.execute_reply": "2025-07-30T13:43:26.065757Z"
    },
    "papermill": {
     "duration": 0.036871,
     "end_time": "2025-07-30T13:43:26.070234",
     "exception": false,
     "start_time": "2025-07-30T13:43:26.033363",
     "status": "completed"
    },
    "tags": []
   },
   "outputs": [],
   "source": [
    "cp_metrics_df = pd.DataFrame(cp_metrics_dict)"
   ]
  },
  {
   "cell_type": "code",
   "execution_count": 61,
   "id": "db12611b-57b2-4910-b9d0-355adfd6e7bf",
   "metadata": {
    "execution": {
     "iopub.execute_input": "2025-07-30T13:43:26.129061Z",
     "iopub.status.busy": "2025-07-30T13:43:26.128665Z",
     "iopub.status.idle": "2025-07-30T13:43:26.152814Z",
     "shell.execute_reply": "2025-07-30T13:43:26.151790Z"
    },
    "papermill": {
     "duration": 0.058434,
     "end_time": "2025-07-30T13:43:26.154764",
     "exception": false,
     "start_time": "2025-07-30T13:43:26.096330",
     "status": "completed"
    },
    "tags": []
   },
   "outputs": [
    {
     "data": {
      "text/html": [
       "<div>\n",
       "<style scoped>\n",
       "    .dataframe tbody tr th:only-of-type {\n",
       "        vertical-align: middle;\n",
       "    }\n",
       "\n",
       "    .dataframe tbody tr th {\n",
       "        vertical-align: top;\n",
       "    }\n",
       "\n",
       "    .dataframe thead th {\n",
       "        text-align: right;\n",
       "    }\n",
       "</style>\n",
       "<table border=\"1\" class=\"dataframe\">\n",
       "  <thead>\n",
       "    <tr style=\"text-align: right;\">\n",
       "      <th></th>\n",
       "      <th>universe_id</th>\n",
       "      <th>universe_training_size</th>\n",
       "      <th>universe_scale</th>\n",
       "      <th>universe_model</th>\n",
       "      <th>universe_exclude_features</th>\n",
       "      <th>universe_exclude_subgroups</th>\n",
       "      <th>q_hat</th>\n",
       "      <th>coverage</th>\n",
       "      <th>avg_size</th>\n",
       "    </tr>\n",
       "  </thead>\n",
       "  <tbody>\n",
       "    <tr>\n",
       "      <th>0</th>\n",
       "      <td>64a6e9fb1c7df1b1d9cc61fcda2da1e6</td>\n",
       "      <td>5k</td>\n",
       "      <td>scale</td>\n",
       "      <td>rf</td>\n",
       "      <td>sex</td>\n",
       "      <td>drop-non-german</td>\n",
       "      <td>0.65</td>\n",
       "      <td>0.912451</td>\n",
       "      <td>1.138045</td>\n",
       "    </tr>\n",
       "  </tbody>\n",
       "</table>\n",
       "</div>"
      ],
      "text/plain": [
       "                        universe_id universe_training_size universe_scale  \\\n",
       "0  64a6e9fb1c7df1b1d9cc61fcda2da1e6                     5k          scale   \n",
       "\n",
       "  universe_model universe_exclude_features universe_exclude_subgroups  q_hat  \\\n",
       "0             rf                       sex            drop-non-german   0.65   \n",
       "\n",
       "   coverage  avg_size  \n",
       "0  0.912451  1.138045  "
      ]
     },
     "execution_count": 61,
     "metadata": {},
     "output_type": "execute_result"
    }
   ],
   "source": [
    "cp_metrics_df"
   ]
  },
  {
   "cell_type": "code",
   "execution_count": 62,
   "id": "b7fbde55-a0a1-47e4-9af6-fe4a17fa8c61",
   "metadata": {
    "execution": {
     "iopub.execute_input": "2025-07-30T13:43:26.209853Z",
     "iopub.status.busy": "2025-07-30T13:43:26.209453Z",
     "iopub.status.idle": "2025-07-30T13:43:26.214683Z",
     "shell.execute_reply": "2025-07-30T13:43:26.213674Z"
    },
    "papermill": {
     "duration": 0.038251,
     "end_time": "2025-07-30T13:43:26.220317",
     "exception": false,
     "start_time": "2025-07-30T13:43:26.182066",
     "status": "completed"
    },
    "tags": []
   },
   "outputs": [],
   "source": [
    "# Conditional Coverage & looking at subgroups"
   ]
  },
  {
   "cell_type": "code",
   "execution_count": 63,
   "id": "027ae886-68dd-4141-96c7-805a5450e1ef",
   "metadata": {
    "execution": {
     "iopub.execute_input": "2025-07-30T13:43:26.287432Z",
     "iopub.status.busy": "2025-07-30T13:43:26.287013Z",
     "iopub.status.idle": "2025-07-30T13:43:26.597734Z",
     "shell.execute_reply": "2025-07-30T13:43:26.596814Z"
    },
    "papermill": {
     "duration": 0.340221,
     "end_time": "2025-07-30T13:43:26.599764",
     "exception": false,
     "start_time": "2025-07-30T13:43:26.259543",
     "status": "completed"
    },
    "tags": []
   },
   "outputs": [],
   "source": [
    "from fairness_multiverse.conformal import build_cp_groups\n",
    "\n",
    "cp_groups_df = build_cp_groups(pred_sets, y_true, X_test.index, org_test)\n",
    "#needs universe_id and setting"
   ]
  },
  {
   "cell_type": "code",
   "execution_count": 64,
   "id": "01d5802c-663a-4d1f-9d69-e036faaffbf7",
   "metadata": {
    "execution": {
     "iopub.execute_input": "2025-07-30T13:43:26.651961Z",
     "iopub.status.busy": "2025-07-30T13:43:26.651571Z",
     "iopub.status.idle": "2025-07-30T13:43:26.656547Z",
     "shell.execute_reply": "2025-07-30T13:43:26.655623Z"
    },
    "papermill": {
     "duration": 0.033256,
     "end_time": "2025-07-30T13:43:26.659421",
     "exception": false,
     "start_time": "2025-07-30T13:43:26.626165",
     "status": "completed"
    },
    "tags": []
   },
   "outputs": [],
   "source": [
    "#delete\n",
    "#cp_groups_df"
   ]
  },
  {
   "cell_type": "code",
   "execution_count": 65,
   "id": "fa424af1-d1eb-443d-b717-2d279ada8408",
   "metadata": {
    "execution": {
     "iopub.execute_input": "2025-07-30T13:43:26.712240Z",
     "iopub.status.busy": "2025-07-30T13:43:26.711821Z",
     "iopub.status.idle": "2025-07-30T13:43:26.716828Z",
     "shell.execute_reply": "2025-07-30T13:43:26.715896Z"
    },
    "papermill": {
     "duration": 0.033731,
     "end_time": "2025-07-30T13:43:26.718742",
     "exception": false,
     "start_time": "2025-07-30T13:43:26.685011",
     "status": "completed"
    },
    "tags": []
   },
   "outputs": [],
   "source": [
    "#delete\n",
    "#percentage = (cp_groups_df['nongerman_female'] == 1).mean() * 100\n",
    "#print(percentage)\n"
   ]
  },
  {
   "cell_type": "code",
   "execution_count": 66,
   "id": "6cbdab96-b2b2-45af-ad54-d0516db2e28d",
   "metadata": {
    "execution": {
     "iopub.execute_input": "2025-07-30T13:43:26.825918Z",
     "iopub.status.busy": "2025-07-30T13:43:26.825532Z",
     "iopub.status.idle": "2025-07-30T13:43:28.562819Z",
     "shell.execute_reply": "2025-07-30T13:43:28.561547Z"
    },
    "papermill": {
     "duration": 1.776317,
     "end_time": "2025-07-30T13:43:28.564966",
     "exception": false,
     "start_time": "2025-07-30T13:43:26.788649",
     "status": "completed"
    },
    "tags": []
   },
   "outputs": [],
   "source": [
    "# Define covered = 1 if true_label is in the predicted set\n",
    "cp_groups_df['covered'] = cp_groups_df.apply(\n",
    "    lambda r: int(r['true_label'] in r['pred_set']),\n",
    "    axis=1\n",
    ")"
   ]
  },
  {
   "cell_type": "code",
   "execution_count": 67,
   "id": "338ff529-1a6b-4b87-a931-8e4788d52aad",
   "metadata": {
    "execution": {
     "iopub.execute_input": "2025-07-30T13:43:28.655501Z",
     "iopub.status.busy": "2025-07-30T13:43:28.654993Z",
     "iopub.status.idle": "2025-07-30T13:43:28.660724Z",
     "shell.execute_reply": "2025-07-30T13:43:28.659604Z"
    },
    "papermill": {
     "duration": 0.054784,
     "end_time": "2025-07-30T13:43:28.663035",
     "exception": false,
     "start_time": "2025-07-30T13:43:28.608251",
     "status": "completed"
    },
    "tags": []
   },
   "outputs": [],
   "source": [
    "#cp_groups_df"
   ]
  },
  {
   "cell_type": "code",
   "execution_count": 68,
   "id": "90032e27-66df-4540-9169-4e89cfbaa758",
   "metadata": {
    "execution": {
     "iopub.execute_input": "2025-07-30T13:43:28.785570Z",
     "iopub.status.busy": "2025-07-30T13:43:28.785132Z",
     "iopub.status.idle": "2025-07-30T13:43:28.798003Z",
     "shell.execute_reply": "2025-07-30T13:43:28.797020Z"
    },
    "papermill": {
     "duration": 0.070987,
     "end_time": "2025-07-30T13:43:28.800374",
     "exception": false,
     "start_time": "2025-07-30T13:43:28.729387",
     "status": "completed"
    },
    "tags": []
   },
   "outputs": [],
   "source": [
    "subgroups = ['frau1','nongerman','nongerman_male','nongerman_female']\n",
    "\n",
    "# Conditional coverage for subgroup==1\n",
    "cond_coverage = {\n",
    "    g: cp_groups_df.loc[cp_groups_df[g]==1, 'covered'].mean()\n",
    "    for g in subgroups\n",
    "}"
   ]
  },
  {
   "cell_type": "code",
   "execution_count": 69,
   "id": "1e348fb1-b9c3-45bc-ba23-f016827a7e0d",
   "metadata": {
    "execution": {
     "iopub.execute_input": "2025-07-30T13:43:28.864228Z",
     "iopub.status.busy": "2025-07-30T13:43:28.863685Z",
     "iopub.status.idle": "2025-07-30T13:43:28.871142Z",
     "shell.execute_reply": "2025-07-30T13:43:28.870231Z"
    },
    "papermill": {
     "duration": 0.043937,
     "end_time": "2025-07-30T13:43:28.875460",
     "exception": false,
     "start_time": "2025-07-30T13:43:28.831523",
     "status": "completed"
    },
    "tags": []
   },
   "outputs": [
    {
     "data": {
      "text/plain": [
       "{'frau1': 0.9103652783393988,\n",
       " 'nongerman': 0.9110761803177455,\n",
       " 'nongerman_male': 0.9266864811312258,\n",
       " 'nongerman_female': 0.8852459016393442}"
      ]
     },
     "execution_count": 69,
     "metadata": {},
     "output_type": "execute_result"
    }
   ],
   "source": [
    "cond_coverage"
   ]
  },
  {
   "cell_type": "code",
   "execution_count": 70,
   "id": "f5093324-c3dd-4d63-bc4c-8d945e5c8bbb",
   "metadata": {
    "execution": {
     "iopub.execute_input": "2025-07-30T13:43:28.934189Z",
     "iopub.status.busy": "2025-07-30T13:43:28.933789Z",
     "iopub.status.idle": "2025-07-30T13:43:28.941224Z",
     "shell.execute_reply": "2025-07-30T13:43:28.940152Z"
    },
    "papermill": {
     "duration": 0.038953,
     "end_time": "2025-07-30T13:43:28.945688",
     "exception": false,
     "start_time": "2025-07-30T13:43:28.906735",
     "status": "completed"
    },
    "tags": []
   },
   "outputs": [],
   "source": [
    "for subgroup, cov in cond_coverage.items():\n",
    "    cp_metrics_df[f\"cov_{subgroup}\"] = cov"
   ]
  },
  {
   "cell_type": "code",
   "execution_count": 71,
   "id": "6e872e10-dbe5-49e8-b554-5030c98ff75d",
   "metadata": {
    "execution": {
     "iopub.execute_input": "2025-07-30T13:43:29.005492Z",
     "iopub.status.busy": "2025-07-30T13:43:29.004995Z",
     "iopub.status.idle": "2025-07-30T13:43:29.030890Z",
     "shell.execute_reply": "2025-07-30T13:43:29.029024Z"
    },
    "papermill": {
     "duration": 0.05566,
     "end_time": "2025-07-30T13:43:29.032700",
     "exception": false,
     "start_time": "2025-07-30T13:43:28.977040",
     "status": "completed"
    },
    "tags": []
   },
   "outputs": [
    {
     "data": {
      "text/html": [
       "<div>\n",
       "<style scoped>\n",
       "    .dataframe tbody tr th:only-of-type {\n",
       "        vertical-align: middle;\n",
       "    }\n",
       "\n",
       "    .dataframe tbody tr th {\n",
       "        vertical-align: top;\n",
       "    }\n",
       "\n",
       "    .dataframe thead th {\n",
       "        text-align: right;\n",
       "    }\n",
       "</style>\n",
       "<table border=\"1\" class=\"dataframe\">\n",
       "  <thead>\n",
       "    <tr style=\"text-align: right;\">\n",
       "      <th></th>\n",
       "      <th>universe_id</th>\n",
       "      <th>universe_training_size</th>\n",
       "      <th>universe_scale</th>\n",
       "      <th>universe_model</th>\n",
       "      <th>universe_exclude_features</th>\n",
       "      <th>universe_exclude_subgroups</th>\n",
       "      <th>q_hat</th>\n",
       "      <th>coverage</th>\n",
       "      <th>avg_size</th>\n",
       "      <th>cov_frau1</th>\n",
       "      <th>cov_nongerman</th>\n",
       "      <th>cov_nongerman_male</th>\n",
       "      <th>cov_nongerman_female</th>\n",
       "    </tr>\n",
       "  </thead>\n",
       "  <tbody>\n",
       "    <tr>\n",
       "      <th>0</th>\n",
       "      <td>64a6e9fb1c7df1b1d9cc61fcda2da1e6</td>\n",
       "      <td>5k</td>\n",
       "      <td>scale</td>\n",
       "      <td>rf</td>\n",
       "      <td>sex</td>\n",
       "      <td>drop-non-german</td>\n",
       "      <td>0.65</td>\n",
       "      <td>0.912451</td>\n",
       "      <td>1.138045</td>\n",
       "      <td>0.910365</td>\n",
       "      <td>0.911076</td>\n",
       "      <td>0.926686</td>\n",
       "      <td>0.885246</td>\n",
       "    </tr>\n",
       "  </tbody>\n",
       "</table>\n",
       "</div>"
      ],
      "text/plain": [
       "                        universe_id universe_training_size universe_scale  \\\n",
       "0  64a6e9fb1c7df1b1d9cc61fcda2da1e6                     5k          scale   \n",
       "\n",
       "  universe_model universe_exclude_features universe_exclude_subgroups  q_hat  \\\n",
       "0             rf                       sex            drop-non-german   0.65   \n",
       "\n",
       "   coverage  avg_size  cov_frau1  cov_nongerman  cov_nongerman_male  \\\n",
       "0  0.912451  1.138045   0.910365       0.911076            0.926686   \n",
       "\n",
       "   cov_nongerman_female  \n",
       "0              0.885246  "
      ]
     },
     "execution_count": 71,
     "metadata": {},
     "output_type": "execute_result"
    }
   ],
   "source": [
    "cp_metrics_df"
   ]
  },
  {
   "cell_type": "markdown",
   "id": "33774451",
   "metadata": {
    "papermill": {
     "duration": 0.065956,
     "end_time": "2025-07-30T13:43:29.138233",
     "exception": false,
     "start_time": "2025-07-30T13:43:29.072277",
     "status": "completed"
    },
    "tags": []
   },
   "source": [
    "# (Fairness) Metrics"
   ]
  },
  {
   "cell_type": "code",
   "execution_count": 72,
   "id": "debc5d62",
   "metadata": {
    "execution": {
     "iopub.execute_input": "2025-07-30T13:43:29.197501Z",
     "iopub.status.busy": "2025-07-30T13:43:29.197112Z",
     "iopub.status.idle": "2025-07-30T13:43:29.229983Z",
     "shell.execute_reply": "2025-07-30T13:43:29.228970Z"
    },
    "papermill": {
     "duration": 0.066924,
     "end_time": "2025-07-30T13:43:29.231811",
     "exception": false,
     "start_time": "2025-07-30T13:43:29.164887",
     "status": "completed"
    },
    "tags": []
   },
   "outputs": [],
   "source": [
    "# do I need to include maxdeutsch1.missing?\n",
    "\n",
    "import numpy as np\n",
    "\n",
    "colname_to_bin = \"maxdeutsch1\"\n",
    "majority_value = org_train[colname_to_bin].mode()[0]\n",
    "\n",
    "org_test[\"majmin\"] = np.where(org_test[colname_to_bin] == majority_value, \"majority\", \"minority\")"
   ]
  },
  {
   "cell_type": "code",
   "execution_count": 73,
   "id": "06a50de5",
   "metadata": {
    "execution": {
     "iopub.execute_input": "2025-07-30T13:43:29.303052Z",
     "iopub.status.busy": "2025-07-30T13:43:29.302082Z",
     "iopub.status.idle": "2025-07-30T13:43:32.298229Z",
     "shell.execute_reply": "2025-07-30T13:43:32.297321Z"
    },
    "papermill": {
     "duration": 3.026181,
     "end_time": "2025-07-30T13:43:32.300244",
     "exception": false,
     "start_time": "2025-07-30T13:43:29.274063",
     "status": "completed"
    },
    "tags": []
   },
   "outputs": [],
   "source": [
    "example_universe = universe.copy()\n",
    "example_universe[\"cutoff\"] = example_universe[\"cutoff\"][0]\n",
    "example_universe[\"eval_fairness_grouping\"] = example_universe[\"eval_fairness_grouping\"][0]\n",
    "fairness_dict, metric_frame = universe_analysis.compute_metrics(\n",
    "    example_universe,\n",
    "    y_pred_prob=probs_test,\n",
    "    y_test=y_true,\n",
    "    org_test=org_test,\n",
    ")"
   ]
  },
  {
   "cell_type": "markdown",
   "id": "f95d4e02",
   "metadata": {
    "papermill": {
     "duration": 0.04361,
     "end_time": "2025-07-30T13:43:32.371786",
     "exception": false,
     "start_time": "2025-07-30T13:43:32.328176",
     "status": "completed"
    },
    "tags": []
   },
   "source": [
    "# Overall"
   ]
  },
  {
   "cell_type": "markdown",
   "id": "bdee4871",
   "metadata": {
    "papermill": {
     "duration": 0.036914,
     "end_time": "2025-07-30T13:43:32.526292",
     "exception": false,
     "start_time": "2025-07-30T13:43:32.489378",
     "status": "completed"
    },
    "tags": []
   },
   "source": [
    "Fairness\n",
    "Main fairness target: Equalized Odds. Seems to be a better fit than equal opportunity, since we're not only interested in Y = 1. Seems to be a better fit than demographic parity, since we also care about accuracy, not just equal distribution of preds.\n",
    "\n",
    "Pick column for computation of fairness metrics\n",
    "\n",
    "Performance\n",
    "Overall performance measures, most interesting in relation to the measures split by group below"
   ]
  },
  {
   "cell_type": "code",
   "execution_count": 74,
   "id": "c4e067c6",
   "metadata": {
    "execution": {
     "iopub.execute_input": "2025-07-30T13:43:32.609765Z",
     "iopub.status.busy": "2025-07-30T13:43:32.609376Z",
     "iopub.status.idle": "2025-07-30T13:43:32.617926Z",
     "shell.execute_reply": "2025-07-30T13:43:32.616574Z"
    },
    "papermill": {
     "duration": 0.045489,
     "end_time": "2025-07-30T13:43:32.621600",
     "exception": false,
     "start_time": "2025-07-30T13:43:32.576111",
     "status": "completed"
    },
    "tags": []
   },
   "outputs": [
    {
     "data": {
      "text/plain": [
       "accuracy                   0.199443\n",
       "balanced accuracy          0.534518\n",
       "f1                         0.239973\n",
       "precision                  0.136625\n",
       "false positive rate        0.916191\n",
       "false negative rate        0.014772\n",
       "selection rate             0.925047\n",
       "count                  89710.000000\n",
       "dtype: float64"
      ]
     },
     "execution_count": 74,
     "metadata": {},
     "output_type": "execute_result"
    }
   ],
   "source": [
    "metric_frame.overall"
   ]
  },
  {
   "cell_type": "markdown",
   "id": "e968fe9d",
   "metadata": {
    "papermill": {
     "duration": 0.027294,
     "end_time": "2025-07-30T13:43:32.675129",
     "exception": false,
     "start_time": "2025-07-30T13:43:32.647835",
     "status": "completed"
    },
    "tags": []
   },
   "source": [
    "By Group"
   ]
  },
  {
   "cell_type": "code",
   "execution_count": 75,
   "id": "ec325bce",
   "metadata": {
    "execution": {
     "iopub.execute_input": "2025-07-30T13:43:32.759408Z",
     "iopub.status.busy": "2025-07-30T13:43:32.759009Z",
     "iopub.status.idle": "2025-07-30T13:43:32.781753Z",
     "shell.execute_reply": "2025-07-30T13:43:32.780894Z"
    },
    "papermill": {
     "duration": 0.077968,
     "end_time": "2025-07-30T13:43:32.783468",
     "exception": false,
     "start_time": "2025-07-30T13:43:32.705500",
     "status": "completed"
    },
    "tags": []
   },
   "outputs": [
    {
     "data": {
      "text/html": [
       "<div>\n",
       "<style scoped>\n",
       "    .dataframe tbody tr th:only-of-type {\n",
       "        vertical-align: middle;\n",
       "    }\n",
       "\n",
       "    .dataframe tbody tr th {\n",
       "        vertical-align: top;\n",
       "    }\n",
       "\n",
       "    .dataframe thead th {\n",
       "        text-align: right;\n",
       "    }\n",
       "</style>\n",
       "<table border=\"1\" class=\"dataframe\">\n",
       "  <thead>\n",
       "    <tr style=\"text-align: right;\">\n",
       "      <th></th>\n",
       "      <th>accuracy</th>\n",
       "      <th>balanced accuracy</th>\n",
       "      <th>f1</th>\n",
       "      <th>precision</th>\n",
       "      <th>false positive rate</th>\n",
       "      <th>false negative rate</th>\n",
       "      <th>selection rate</th>\n",
       "      <th>count</th>\n",
       "    </tr>\n",
       "    <tr>\n",
       "      <th>majmin</th>\n",
       "      <th></th>\n",
       "      <th></th>\n",
       "      <th></th>\n",
       "      <th></th>\n",
       "      <th></th>\n",
       "      <th></th>\n",
       "      <th></th>\n",
       "      <th></th>\n",
       "    </tr>\n",
       "  </thead>\n",
       "  <tbody>\n",
       "    <tr>\n",
       "      <th>majority</th>\n",
       "      <td>0.203889</td>\n",
       "      <td>0.536561</td>\n",
       "      <td>0.247112</td>\n",
       "      <td>0.141201</td>\n",
       "      <td>0.915609</td>\n",
       "      <td>0.011269</td>\n",
       "      <td>0.925271</td>\n",
       "      <td>69170.0</td>\n",
       "    </tr>\n",
       "    <tr>\n",
       "      <th>minority</th>\n",
       "      <td>0.184469</td>\n",
       "      <td>0.526795</td>\n",
       "      <td>0.215520</td>\n",
       "      <td>0.121201</td>\n",
       "      <td>0.918116</td>\n",
       "      <td>0.028294</td>\n",
       "      <td>0.924294</td>\n",
       "      <td>20540.0</td>\n",
       "    </tr>\n",
       "  </tbody>\n",
       "</table>\n",
       "</div>"
      ],
      "text/plain": [
       "          accuracy  balanced accuracy        f1  precision  \\\n",
       "majmin                                                       \n",
       "majority  0.203889           0.536561  0.247112   0.141201   \n",
       "minority  0.184469           0.526795  0.215520   0.121201   \n",
       "\n",
       "          false positive rate  false negative rate  selection rate    count  \n",
       "majmin                                                                       \n",
       "majority             0.915609             0.011269        0.925271  69170.0  \n",
       "minority             0.918116             0.028294        0.924294  20540.0  "
      ]
     },
     "execution_count": 75,
     "metadata": {},
     "output_type": "execute_result"
    }
   ],
   "source": [
    "metric_frame.by_group"
   ]
  },
  {
   "cell_type": "code",
   "execution_count": 76,
   "id": "a9ddbe63",
   "metadata": {
    "execution": {
     "iopub.execute_input": "2025-07-30T13:43:32.837124Z",
     "iopub.status.busy": "2025-07-30T13:43:32.836615Z",
     "iopub.status.idle": "2025-07-30T13:43:35.307205Z",
     "shell.execute_reply": "2025-07-30T13:43:35.306302Z"
    },
    "papermill": {
     "duration": 2.498777,
     "end_time": "2025-07-30T13:43:35.308902",
     "exception": false,
     "start_time": "2025-07-30T13:43:32.810125",
     "status": "completed"
    },
    "tags": []
   },
   "outputs": [
    {
     "data": {
      "text/plain": [
       "array([[<Axes: title={'center': 'accuracy'}, xlabel='majmin'>,\n",
       "        <Axes: title={'center': 'balanced accuracy'}, xlabel='majmin'>,\n",
       "        <Axes: title={'center': 'f1'}, xlabel='majmin'>],\n",
       "       [<Axes: title={'center': 'precision'}, xlabel='majmin'>,\n",
       "        <Axes: title={'center': 'false positive rate'}, xlabel='majmin'>,\n",
       "        <Axes: title={'center': 'false negative rate'}, xlabel='majmin'>],\n",
       "       [<Axes: title={'center': 'selection rate'}, xlabel='majmin'>,\n",
       "        <Axes: title={'center': 'count'}, xlabel='majmin'>,\n",
       "        <Axes: xlabel='majmin'>]], dtype=object)"
      ]
     },
     "execution_count": 76,
     "metadata": {},
     "output_type": "execute_result"
    },
    {
     "data": {
      "image/png": "[encoded data removed]",
      "text/plain": [
       "<Figure size 1200x800 with 9 Axes>"
      ]
     },
     "metadata": {},
     "output_type": "display_data"
    }
   ],
   "source": [
    "# In a graphic\n",
    "metric_frame.by_group.plot.bar(\n",
    "    subplots=True,\n",
    "    layout=[3, 3],\n",
    "    legend=False,\n",
    "    figsize=[12, 8],\n",
    "    title=\"Show all metrics\",\n",
    ")"
   ]
  },
  {
   "cell_type": "markdown",
   "id": "f57a0bac",
   "metadata": {
    "papermill": {
     "duration": 0.028263,
     "end_time": "2025-07-30T13:43:35.364656",
     "exception": false,
     "start_time": "2025-07-30T13:43:35.336393",
     "status": "completed"
    },
    "tags": []
   },
   "source": [
    "# Final Output"
   ]
  },
  {
   "cell_type": "code",
   "execution_count": 77,
   "id": "96d280a3",
   "metadata": {
    "execution": {
     "iopub.execute_input": "2025-07-30T13:43:35.422734Z",
     "iopub.status.busy": "2025-07-30T13:43:35.422104Z",
     "iopub.status.idle": "2025-07-30T13:43:35.429856Z",
     "shell.execute_reply": "2025-07-30T13:43:35.428888Z"
    },
    "papermill": {
     "duration": 0.038656,
     "end_time": "2025-07-30T13:43:35.431325",
     "exception": false,
     "start_time": "2025-07-30T13:43:35.392669",
     "status": "completed"
    },
    "tags": []
   },
   "outputs": [
    {
     "data": {
      "text/plain": [
       "4"
      ]
     },
     "execution_count": 77,
     "metadata": {},
     "output_type": "execute_result"
    }
   ],
   "source": [
    "sub_universes = universe_analysis.generate_sub_universes()\n",
    "len(sub_universes)"
   ]
  },
  {
   "cell_type": "code",
   "execution_count": 78,
   "id": "92adf7ba",
   "metadata": {
    "execution": {
     "iopub.execute_input": "2025-07-30T13:43:35.556151Z",
     "iopub.status.busy": "2025-07-30T13:43:35.555757Z",
     "iopub.status.idle": "2025-07-30T13:43:35.562049Z",
     "shell.execute_reply": "2025-07-30T13:43:35.561178Z"
    },
    "papermill": {
     "duration": 0.103103,
     "end_time": "2025-07-30T13:43:35.564936",
     "exception": false,
     "start_time": "2025-07-30T13:43:35.461833",
     "status": "completed"
    },
    "tags": []
   },
   "outputs": [],
   "source": [
    "def filter_sub_universe_data(sub_universe, org_test):\n",
    "    # Keep all rows — no filtering\n",
    "    keep_rows_mask = np.ones(org_test.shape[0], dtype=bool)\n",
    "\n",
    "    print(f\"[INFO] Keeping all rows: {keep_rows_mask.sum()} rows retained.\")\n",
    "    return keep_rows_mask"
   ]
  },
  {
   "cell_type": "code",
   "execution_count": 79,
   "id": "4a759155",
   "metadata": {
    "execution": {
     "iopub.execute_input": "2025-07-30T13:43:35.673050Z",
     "iopub.status.busy": "2025-07-30T13:43:35.672662Z",
     "iopub.status.idle": "2025-07-30T13:43:46.753690Z",
     "shell.execute_reply": "2025-07-30T13:43:46.752618Z"
    },
    "papermill": {
     "duration": 11.113098,
     "end_time": "2025-07-30T13:43:46.755618",
     "exception": false,
     "start_time": "2025-07-30T13:43:35.642520",
     "status": "completed"
    },
    "tags": []
   },
   "outputs": [
    {
     "name": "stdout",
     "output_type": "stream",
     "text": [
      "Stopping execution_time clock.\n",
      "[INFO] Keeping all rows: 89710 rows retained.\n"
     ]
    },
    {
     "name": "stdout",
     "output_type": "stream",
     "text": [
      "[INFO] Keeping all rows: 89710 rows retained.\n"
     ]
    },
    {
     "name": "stdout",
     "output_type": "stream",
     "text": [
      "[INFO] Keeping all rows: 89710 rows retained.\n"
     ]
    },
    {
     "name": "stdout",
     "output_type": "stream",
     "text": [
      "[INFO] Keeping all rows: 89710 rows retained.\n"
     ]
    },
    {
     "data": {
      "text/html": [
       "<div>\n",
       "<style scoped>\n",
       "    .dataframe tbody tr th:only-of-type {\n",
       "        vertical-align: middle;\n",
       "    }\n",
       "\n",
       "    .dataframe tbody tr th {\n",
       "        vertical-align: top;\n",
       "    }\n",
       "\n",
       "    .dataframe thead th {\n",
       "        text-align: right;\n",
       "    }\n",
       "</style>\n",
       "<table border=\"1\" class=\"dataframe\">\n",
       "  <thead>\n",
       "    <tr style=\"text-align: right;\">\n",
       "      <th></th>\n",
       "      <th>run_no</th>\n",
       "      <th>universe_id</th>\n",
       "      <th>universe_settings</th>\n",
       "      <th>execution_time</th>\n",
       "      <th>test_size_n</th>\n",
       "      <th>test_size_frac</th>\n",
       "      <th>fair_main_equalized_odds_difference</th>\n",
       "      <th>fair_main_equalized_odds_ratio</th>\n",
       "      <th>fair_main_demographic_parity_difference</th>\n",
       "      <th>fair_main_demographic_parity_ratio</th>\n",
       "      <th>...</th>\n",
       "      <th>perf_grp_precision_0</th>\n",
       "      <th>perf_grp_precision_1</th>\n",
       "      <th>perf_grp_false positive rate_0</th>\n",
       "      <th>perf_grp_false positive rate_1</th>\n",
       "      <th>perf_grp_false negative rate_0</th>\n",
       "      <th>perf_grp_false negative rate_1</th>\n",
       "      <th>perf_grp_selection rate_0</th>\n",
       "      <th>perf_grp_selection rate_1</th>\n",
       "      <th>perf_grp_count_0</th>\n",
       "      <th>perf_grp_count_1</th>\n",
       "    </tr>\n",
       "  </thead>\n",
       "  <tbody>\n",
       "    <tr>\n",
       "      <th>0</th>\n",
       "      <td>12</td>\n",
       "      <td>64a6e9fb1c7df1b1d9cc61fcda2da1e6</td>\n",
       "      <td>{\"cutoff\": \"quantile_0.1\", \"eval_fairness_grou...</td>\n",
       "      <td>33.481072</td>\n",
       "      <td>89710</td>\n",
       "      <td>1.0</td>\n",
       "      <td>0.017025</td>\n",
       "      <td>0.982781</td>\n",
       "      <td>0.000977</td>\n",
       "      <td>0.998944</td>\n",
       "      <td>...</td>\n",
       "      <td>NaN</td>\n",
       "      <td>NaN</td>\n",
       "      <td>NaN</td>\n",
       "      <td>NaN</td>\n",
       "      <td>NaN</td>\n",
       "      <td>NaN</td>\n",
       "      <td>NaN</td>\n",
       "      <td>NaN</td>\n",
       "      <td>NaN</td>\n",
       "      <td>NaN</td>\n",
       "    </tr>\n",
       "    <tr>\n",
       "      <th>0</th>\n",
       "      <td>12</td>\n",
       "      <td>64a6e9fb1c7df1b1d9cc61fcda2da1e6</td>\n",
       "      <td>{\"cutoff\": \"quantile_0.1\", \"eval_fairness_grou...</td>\n",
       "      <td>33.481072</td>\n",
       "      <td>89710</td>\n",
       "      <td>1.0</td>\n",
       "      <td>0.017025</td>\n",
       "      <td>0.982781</td>\n",
       "      <td>0.000977</td>\n",
       "      <td>0.998944</td>\n",
       "      <td>...</td>\n",
       "      <td>0.121201</td>\n",
       "      <td>0.141201</td>\n",
       "      <td>0.918116</td>\n",
       "      <td>0.915609</td>\n",
       "      <td>0.028294</td>\n",
       "      <td>0.011269</td>\n",
       "      <td>0.924294</td>\n",
       "      <td>0.925271</td>\n",
       "      <td>20540.0</td>\n",
       "      <td>69170.0</td>\n",
       "    </tr>\n",
       "    <tr>\n",
       "      <th>0</th>\n",
       "      <td>12</td>\n",
       "      <td>64a6e9fb1c7df1b1d9cc61fcda2da1e6</td>\n",
       "      <td>{\"cutoff\": \"quantile_0.25\", \"eval_fairness_gro...</td>\n",
       "      <td>33.481072</td>\n",
       "      <td>89710</td>\n",
       "      <td>1.0</td>\n",
       "      <td>0.045833</td>\n",
       "      <td>0.951560</td>\n",
       "      <td>0.010205</td>\n",
       "      <td>0.986697</td>\n",
       "      <td>...</td>\n",
       "      <td>NaN</td>\n",
       "      <td>NaN</td>\n",
       "      <td>NaN</td>\n",
       "      <td>NaN</td>\n",
       "      <td>NaN</td>\n",
       "      <td>NaN</td>\n",
       "      <td>NaN</td>\n",
       "      <td>NaN</td>\n",
       "      <td>NaN</td>\n",
       "      <td>NaN</td>\n",
       "    </tr>\n",
       "    <tr>\n",
       "      <th>0</th>\n",
       "      <td>12</td>\n",
       "      <td>64a6e9fb1c7df1b1d9cc61fcda2da1e6</td>\n",
       "      <td>{\"cutoff\": \"quantile_0.25\", \"eval_fairness_gro...</td>\n",
       "      <td>33.481072</td>\n",
       "      <td>89710</td>\n",
       "      <td>1.0</td>\n",
       "      <td>0.045833</td>\n",
       "      <td>0.951560</td>\n",
       "      <td>0.010205</td>\n",
       "      <td>0.986697</td>\n",
       "      <td>...</td>\n",
       "      <td>0.135305</td>\n",
       "      <td>0.165174</td>\n",
       "      <td>0.749780</td>\n",
       "      <td>0.728119</td>\n",
       "      <td>0.099662</td>\n",
       "      <td>0.053829</td>\n",
       "      <td>0.767137</td>\n",
       "      <td>0.756932</td>\n",
       "      <td>20540.0</td>\n",
       "      <td>69170.0</td>\n",
       "    </tr>\n",
       "  </tbody>\n",
       "</table>\n",
       "<p>4 rows × 50 columns</p>\n",
       "</div>"
      ],
      "text/plain": [
       "  run_no                       universe_id  \\\n",
       "0     12  64a6e9fb1c7df1b1d9cc61fcda2da1e6   \n",
       "0     12  64a6e9fb1c7df1b1d9cc61fcda2da1e6   \n",
       "0     12  64a6e9fb1c7df1b1d9cc61fcda2da1e6   \n",
       "0     12  64a6e9fb1c7df1b1d9cc61fcda2da1e6   \n",
       "\n",
       "                                   universe_settings  execution_time  \\\n",
       "0  {\"cutoff\": \"quantile_0.1\", \"eval_fairness_grou...       33.481072   \n",
       "0  {\"cutoff\": \"quantile_0.1\", \"eval_fairness_grou...       33.481072   \n",
       "0  {\"cutoff\": \"quantile_0.25\", \"eval_fairness_gro...       33.481072   \n",
       "0  {\"cutoff\": \"quantile_0.25\", \"eval_fairness_gro...       33.481072   \n",
       "\n",
       "   test_size_n  test_size_frac  fair_main_equalized_odds_difference  \\\n",
       "0        89710             1.0                             0.017025   \n",
       "0        89710             1.0                             0.017025   \n",
       "0        89710             1.0                             0.045833   \n",
       "0        89710             1.0                             0.045833   \n",
       "\n",
       "   fair_main_equalized_odds_ratio  fair_main_demographic_parity_difference  \\\n",
       "0                        0.982781                                 0.000977   \n",
       "0                        0.982781                                 0.000977   \n",
       "0                        0.951560                                 0.010205   \n",
       "0                        0.951560                                 0.010205   \n",
       "\n",
       "   fair_main_demographic_parity_ratio  ...  perf_grp_precision_0  \\\n",
       "0                            0.998944  ...                   NaN   \n",
       "0                            0.998944  ...              0.121201   \n",
       "0                            0.986697  ...                   NaN   \n",
       "0                            0.986697  ...              0.135305   \n",
       "\n",
       "   perf_grp_precision_1  perf_grp_false positive rate_0  \\\n",
       "0                   NaN                             NaN   \n",
       "0              0.141201                        0.918116   \n",
       "0                   NaN                             NaN   \n",
       "0              0.165174                        0.749780   \n",
       "\n",
       "   perf_grp_false positive rate_1  perf_grp_false negative rate_0  \\\n",
       "0                             NaN                             NaN   \n",
       "0                        0.915609                        0.028294   \n",
       "0                             NaN                             NaN   \n",
       "0                        0.728119                        0.099662   \n",
       "\n",
       "   perf_grp_false negative rate_1  perf_grp_selection rate_0  \\\n",
       "0                             NaN                        NaN   \n",
       "0                        0.011269                   0.924294   \n",
       "0                             NaN                        NaN   \n",
       "0                        0.053829                   0.767137   \n",
       "\n",
       "   perf_grp_selection rate_1  perf_grp_count_0  perf_grp_count_1  \n",
       "0                        NaN               NaN               NaN  \n",
       "0                   0.925271           20540.0           69170.0  \n",
       "0                        NaN               NaN               NaN  \n",
       "0                   0.756932           20540.0           69170.0  \n",
       "\n",
       "[4 rows x 50 columns]"
      ]
     },
     "execution_count": 79,
     "metadata": {},
     "output_type": "execute_result"
    }
   ],
   "source": [
    "final_output = universe_analysis.generate_final_output(\n",
    "    y_pred_prob=probs_test,\n",
    "    y_test=y_true,\n",
    "    org_test=org_test,\n",
    "    filter_data=filter_sub_universe_data,\n",
    "    cp_metrics_df=cp_metrics_df,\n",
    "    save=True,\n",
    ")\n",
    "final_output"
   ]
  },
  {
   "cell_type": "code",
   "execution_count": null,
   "id": "721ff514-cb11-46f8-b6fc-50392f74b5cb",
   "metadata": {
    "papermill": {
     "duration": 0.053669,
     "end_time": "2025-07-30T13:43:46.850923",
     "exception": false,
     "start_time": "2025-07-30T13:43:46.797254",
     "status": "completed"
    },
    "tags": []
   },
   "outputs": [],
   "source": []
  }
 ],
 "metadata": {
  "celltoolbar": "Tags",
  "kernelspec": {
   "display_name": "Python (CMA Fairness)",
   "language": "python",
   "name": "cma_fair_env"
  },
  "language_info": {
   "codemirror_mode": {
    "name": "ipython",
    "version": 3
   },
   "file_extension": ".py",
   "mimetype": "text/x-python",
   "name": "python",
   "nbconvert_exporter": "python",
   "pygments_lexer": "ipython3",
   "version": "3.10.12"
  },
  "papermill": {
   "default_parameters": {},
   "duration": 48.95518,
   "end_time": "2025-07-30T13:43:47.742428",
   "environment_variables": {},
   "exception": null,
   "input_path": "universe_analysis.ipynb",
   "output_path": "output/runs/12/notebooks/m_12-64a6e9fb1c7df1b1d9cc61fcda2da1e6.ipynb",
   "parameters": {
    "output_dir": "output",
    "run_no": "12",
    "seed": "2023",
    "universe": "{\"cutoff\": [\"quantile_0.1\", \"quantile_0.25\"], \"eval_fairness_grouping\": [\"majority-minority\", \"nationality-all\"], \"exclude_features\": \"sex\", \"exclude_subgroups\": \"drop-non-german\", \"model\": \"rf\", \"scale\": \"scale\", \"training_size\": \"5k\", \"training_year\": \"2014\"}",
    "universe_id": "64a6e9fb1c7df1b1d9cc61fcda2da1e6"
   },
   "start_time": "2025-07-30T13:42:58.787248",
   "version": "2.6.0"
  }
 },
 "nbformat": 4,
 "nbformat_minor": 5
}