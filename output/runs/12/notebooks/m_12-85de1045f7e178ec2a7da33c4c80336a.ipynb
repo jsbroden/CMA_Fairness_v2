{
 "cells": [
  {
   "cell_type": "code",
   "execution_count": 1,
   "id": "f159f837-637b-42ba-96b5-ec9a68c44524",
   "metadata": {
    "execution": {
     "iopub.execute_input": "2025-07-30T12:49:12.062902Z",
     "iopub.status.busy": "2025-07-30T12:49:12.061990Z",
     "iopub.status.idle": "2025-07-30T12:49:12.075612Z",
     "shell.execute_reply": "2025-07-30T12:49:12.074854Z"
    },
    "papermill": {
     "duration": 0.035739,
     "end_time": "2025-07-30T12:49:12.076931",
     "exception": false,
     "start_time": "2025-07-30T12:49:12.041192",
     "status": "completed"
    },
    "tags": []
   },
   "outputs": [
    {
     "name": "stdout",
     "output_type": "stream",
     "text": [
      "/dss/dsshome1/0C/ra93lal2/cma/CMA_Fairness_v2\n"
     ]
    },
    {
     "name": "stderr",
     "output_type": "stream",
     "text": [
      "/dss/dsshome1/0C/ra93lal2/.local/share/virtualenvs/CMA_Fairness_v2-3j10GkSs/lib/python3.10/site-packages/IPython/core/magics/osm.py:393: UserWarning: This is now an optional IPython functionality, using bookmarks requires you to install the `pickleshare` library.\n",
      "  bkms = self.shell.db.get('bookmarks', {})\n",
      "/dss/dsshome1/0C/ra93lal2/.local/share/virtualenvs/CMA_Fairness_v2-3j10GkSs/lib/python3.10/site-packages/IPython/core/magics/osm.py:417: UserWarning: This is now an optional IPython functionality, setting dhist requires you to install the `pickleshare` library.\n",
      "  self.shell.db['dhist'] = compress_dhist(dhist)[-100:]\n"
     ]
    }
   ],
   "source": [
    "%cd ~/cma/CMA_Fairness_v2"
   ]
  },
  {
   "cell_type": "markdown",
   "id": "de2603b9",
   "metadata": {
    "papermill": {
     "duration": 0.020357,
     "end_time": "2025-07-30T12:49:12.115311",
     "exception": false,
     "start_time": "2025-07-30T12:49:12.094954",
     "status": "completed"
    },
    "tags": []
   },
   "source": [
    "The following cell holds the definition of our parameters, these values can be overriden by rendering the with e.g. the following command:\n",
    "\n",
    "papermill -p alpha 0.2 -p ratio 0.3 universe_analysis.ipynb output/test_run.ipynb"
   ]
  },
  {
   "cell_type": "code",
   "execution_count": 2,
   "id": "a80968a0-40bb-4fa9-85ef-2d5eefb01975",
   "metadata": {
    "execution": {
     "iopub.execute_input": "2025-07-30T12:49:12.155891Z",
     "iopub.status.busy": "2025-07-30T12:49:12.155474Z",
     "iopub.status.idle": "2025-07-30T12:49:12.160938Z",
     "shell.execute_reply": "2025-07-30T12:49:12.159934Z"
    },
    "papermill": {
     "duration": 0.027986,
     "end_time": "2025-07-30T12:49:12.162640",
     "exception": false,
     "start_time": "2025-07-30T12:49:12.134654",
     "status": "completed"
    },
    "tags": []
   },
   "outputs": [
    {
     "name": "stdout",
     "output_type": "stream",
     "text": [
      "Current working directory: /dss/dsshome1/0C/ra93lal2/cma/CMA_Fairness_v2\n"
     ]
    }
   ],
   "source": [
    "import os\n",
    "print(\"Current working directory:\", os.getcwd())"
   ]
  },
  {
   "cell_type": "code",
   "execution_count": 3,
   "id": "2dce4c03",
   "metadata": {
    "execution": {
     "iopub.execute_input": "2025-07-30T12:49:12.203569Z",
     "iopub.status.busy": "2025-07-30T12:49:12.203193Z",
     "iopub.status.idle": "2025-07-30T12:49:12.209130Z",
     "shell.execute_reply": "2025-07-30T12:49:12.208111Z"
    },
    "papermill": {
     "duration": 0.028021,
     "end_time": "2025-07-30T12:49:12.210743",
     "exception": false,
     "start_time": "2025-07-30T12:49:12.182722",
     "status": "completed"
    },
    "tags": [
     "parameters"
    ]
   },
   "outputs": [],
   "source": [
    "run_no = 0\n",
    "universe_id = \"test\"\n",
    "universe = {\n",
    "    \"training_size\": \"25k\", # \"25k\", \"5k\", \"1k\"\n",
    "    \"training_year\": \"2014\", # \"2014\", \"2012_14\", \"2010_14\"\n",
    "    \"scale\": \"scale\", # \"scale\", \"do-not-scale\",\n",
    "    #\"stratify_split\": \"target\", # \"none\", \"target\", \"protected-attribute\", \"both\",\n",
    "    \"model\": \"elasticnet\", # \"logreg\", \"penalized_logreg\", \"rf\", \"gbm\", \"elasticnet\"\n",
    "    \"cutoff\": [\"quantile_0.15\", \"quantile_0.30\"],\n",
    "    \"exclude_features\": \"age\", # \"none\", \"nationality\", \"sex\", \"nationality-sex\", \"age\"\n",
    "    \"exclude_subgroups\": \"keep-all\", # \"keep-all\", \"drop-non-german\"\n",
    "    \"eval_fairness_grouping\": [\"majority-minority\", \"nationality-all\"]\n",
    "}\n",
    "\n",
    "output_dir=\"./output\"\n",
    "seed=0"
   ]
  },
  {
   "cell_type": "code",
   "execution_count": 4,
   "id": "5ddd156b",
   "metadata": {
    "execution": {
     "iopub.execute_input": "2025-07-30T12:49:12.249551Z",
     "iopub.status.busy": "2025-07-30T12:49:12.249217Z",
     "iopub.status.idle": "2025-07-30T12:49:12.253920Z",
     "shell.execute_reply": "2025-07-30T12:49:12.253007Z"
    },
    "papermill": {
     "duration": 0.025968,
     "end_time": "2025-07-30T12:49:12.255618",
     "exception": false,
     "start_time": "2025-07-30T12:49:12.229650",
     "status": "completed"
    },
    "tags": [
     "injected-parameters"
    ]
   },
   "outputs": [],
   "source": [
    "# Parameters\n",
    "universe_id = \"85de1045f7e178ec2a7da33c4c80336a\"\n",
    "run_no = \"12\"\n",
    "universe = \"{\\\"cutoff\\\": [\\\"quantile_0.1\\\", \\\"quantile_0.25\\\"], \\\"eval_fairness_grouping\\\": [\\\"majority-minority\\\", \\\"nationality-all\\\"], \\\"exclude_features\\\": \\\"age\\\", \\\"exclude_subgroups\\\": \\\"keep-all\\\", \\\"model\\\": \\\"rf\\\", \\\"scale\\\": \\\"scale\\\", \\\"training_size\\\": \\\"25k\\\", \\\"training_year\\\": \\\"2014\\\"}\"\n",
    "output_dir = \"output\"\n",
    "seed = \"2023\"\n"
   ]
  },
  {
   "cell_type": "code",
   "execution_count": 5,
   "id": "1650acaf",
   "metadata": {
    "execution": {
     "iopub.execute_input": "2025-07-30T12:49:12.298208Z",
     "iopub.status.busy": "2025-07-30T12:49:12.297109Z",
     "iopub.status.idle": "2025-07-30T12:49:12.302920Z",
     "shell.execute_reply": "2025-07-30T12:49:12.301981Z"
    },
    "papermill": {
     "duration": 0.028778,
     "end_time": "2025-07-30T12:49:12.304780",
     "exception": false,
     "start_time": "2025-07-30T12:49:12.276002",
     "status": "completed"
    },
    "tags": []
   },
   "outputs": [],
   "source": [
    "import json\n",
    "# Parse universe into dict if it is passed as a string\n",
    "if isinstance(universe, str):\n",
    "    universe = json.loads(universe)"
   ]
  },
  {
   "cell_type": "code",
   "execution_count": 6,
   "id": "16620c48",
   "metadata": {
    "execution": {
     "iopub.execute_input": "2025-07-30T12:49:12.346698Z",
     "iopub.status.busy": "2025-07-30T12:49:12.346264Z",
     "iopub.status.idle": "2025-07-30T12:49:12.396620Z",
     "shell.execute_reply": "2025-07-30T12:49:12.395566Z"
    },
    "papermill": {
     "duration": 0.073297,
     "end_time": "2025-07-30T12:49:12.398540",
     "exception": false,
     "start_time": "2025-07-30T12:49:12.325243",
     "status": "completed"
    },
    "tags": []
   },
   "outputs": [],
   "source": [
    "# Auto-reload the custom package\n",
    "%load_ext autoreload\n",
    "%autoreload 1\n",
    "%aimport fairness_multiverse"
   ]
  },
  {
   "cell_type": "code",
   "execution_count": 7,
   "id": "01c5c9f3",
   "metadata": {
    "execution": {
     "iopub.execute_input": "2025-07-30T12:49:12.442324Z",
     "iopub.status.busy": "2025-07-30T12:49:12.441617Z",
     "iopub.status.idle": "2025-07-30T12:49:15.119959Z",
     "shell.execute_reply": "2025-07-30T12:49:15.119166Z"
    },
    "papermill": {
     "duration": 2.701654,
     "end_time": "2025-07-30T12:49:15.121417",
     "exception": false,
     "start_time": "2025-07-30T12:49:12.419763",
     "status": "completed"
    },
    "tags": []
   },
   "outputs": [],
   "source": [
    "from fairness_multiverse.universe import UniverseAnalysis\n",
    "\n",
    "universe_analysis = UniverseAnalysis(\n",
    "    run_no = run_no,\n",
    "    universe_id = universe_id,\n",
    "    universe = universe,\n",
    "    output_dir=output_dir,\n",
    ")"
   ]
  },
  {
   "cell_type": "code",
   "execution_count": 8,
   "id": "106241f5",
   "metadata": {
    "execution": {
     "iopub.execute_input": "2025-07-30T12:49:15.143551Z",
     "iopub.status.busy": "2025-07-30T12:49:15.143218Z",
     "iopub.status.idle": "2025-07-30T12:49:15.149472Z",
     "shell.execute_reply": "2025-07-30T12:49:15.148303Z"
    },
    "papermill": {
     "duration": 0.021548,
     "end_time": "2025-07-30T12:49:15.153727",
     "exception": false,
     "start_time": "2025-07-30T12:49:15.132179",
     "status": "completed"
    },
    "tags": []
   },
   "outputs": [
    {
     "name": "stdout",
     "output_type": "stream",
     "text": [
      "Using Seed: 2023\n"
     ]
    }
   ],
   "source": [
    "import numpy as np\n",
    "parsed_seed = int(seed)\n",
    "np.random.seed(parsed_seed)\n",
    "print(f\"Using Seed: {parsed_seed}\")"
   ]
  },
  {
   "cell_type": "markdown",
   "id": "e0ebdc57",
   "metadata": {
    "papermill": {
     "duration": 0.020236,
     "end_time": "2025-07-30T12:49:15.193746",
     "exception": false,
     "start_time": "2025-07-30T12:49:15.173510",
     "status": "completed"
    },
    "tags": []
   },
   "source": [
    "# Loading Data"
   ]
  },
  {
   "cell_type": "markdown",
   "id": "681925a3",
   "metadata": {
    "papermill": {
     "duration": 0.019131,
     "end_time": "2025-07-30T12:49:15.231992",
     "exception": false,
     "start_time": "2025-07-30T12:49:15.212861",
     "status": "completed"
    },
    "tags": []
   },
   "source": [
    "Load siab_train, siab_test, siab_calib and/or \n",
    "load siab_train_features, siab_train_labels"
   ]
  },
  {
   "cell_type": "code",
   "execution_count": 9,
   "id": "f0496b8a",
   "metadata": {
    "execution": {
     "iopub.execute_input": "2025-07-30T12:49:15.271933Z",
     "iopub.status.busy": "2025-07-30T12:49:15.271110Z",
     "iopub.status.idle": "2025-07-30T12:49:26.724684Z",
     "shell.execute_reply": "2025-07-30T12:49:26.723205Z"
    },
    "papermill": {
     "duration": 11.47648,
     "end_time": "2025-07-30T12:49:26.726906",
     "exception": false,
     "start_time": "2025-07-30T12:49:15.250426",
     "status": "completed"
    },
    "tags": []
   },
   "outputs": [
    {
     "name": "stdout",
     "output_type": "stream",
     "text": [
      "Loading SIAB data from cache: data/siab_cached.csv.gz\n"
     ]
    },
    {
     "name": "stdout",
     "output_type": "stream",
     "text": [
      "(643690, 164)\n"
     ]
    }
   ],
   "source": [
    "from pathlib import Path\n",
    "import pandas as pd\n",
    "\n",
    "# File paths\n",
    "raw_file = Path(\"data/raw/siab.csv\")\n",
    "cache_file = Path(\"data/siab_cached.csv.gz\")\n",
    "\n",
    "# Ensure cache directory exists\n",
    "cache_file.parent.mkdir(parents=True, exist_ok=True)\n",
    "\n",
    "# Load with simple caching\n",
    "if cache_file.exists():\n",
    "    print(f\"Loading SIAB data from cache: {cache_file}\")\n",
    "    siab = pd.read_csv(cache_file, compression='gzip')\n",
    "else:\n",
    "    print(f\"Cache not found. Reading raw SIAB data: {raw_file}\")\n",
    "    siab = pd.read_csv(raw_file)\n",
    "    siab.to_csv(cache_file, index=False, compression='gzip')\n",
    "    print(f\"Cached SIAB data to: {cache_file}\")\n",
    "\n",
    "# Now use `siab` DataFrame as needed\n",
    "print(siab.shape)"
   ]
  },
  {
   "cell_type": "code",
   "execution_count": 10,
   "id": "db0ca512-5f53-4dba-abdb-a2888bca41ba",
   "metadata": {
    "execution": {
     "iopub.execute_input": "2025-07-30T12:49:26.791911Z",
     "iopub.status.busy": "2025-07-30T12:49:26.791175Z",
     "iopub.status.idle": "2025-07-30T12:49:26.797678Z",
     "shell.execute_reply": "2025-07-30T12:49:26.796609Z"
    },
    "papermill": {
     "duration": 0.040662,
     "end_time": "2025-07-30T12:49:26.799873",
     "exception": false,
     "start_time": "2025-07-30T12:49:26.759211",
     "status": "completed"
    },
    "tags": []
   },
   "outputs": [],
   "source": [
    "#siab"
   ]
  },
  {
   "cell_type": "code",
   "execution_count": 11,
   "id": "a0edb063",
   "metadata": {
    "execution": {
     "iopub.execute_input": "2025-07-30T12:49:26.856783Z",
     "iopub.status.busy": "2025-07-30T12:49:26.856108Z",
     "iopub.status.idle": "2025-07-30T12:49:26.861926Z",
     "shell.execute_reply": "2025-07-30T12:49:26.860730Z"
    },
    "papermill": {
     "duration": 0.03633,
     "end_time": "2025-07-30T12:49:26.863952",
     "exception": false,
     "start_time": "2025-07-30T12:49:26.827622",
     "status": "completed"
    },
    "tags": []
   },
   "outputs": [],
   "source": [
    "#import pandas as pd\n",
    "#\n",
    "#X_train = pd.read_csv(\"./data/X_train.csv\")\n",
    "#y_train = pd.read_csv(\"./data/y_train.csv\")"
   ]
  },
  {
   "cell_type": "code",
   "execution_count": 12,
   "id": "63d08085",
   "metadata": {
    "execution": {
     "iopub.execute_input": "2025-07-30T12:49:26.923068Z",
     "iopub.status.busy": "2025-07-30T12:49:26.922267Z",
     "iopub.status.idle": "2025-07-30T12:49:26.928386Z",
     "shell.execute_reply": "2025-07-30T12:49:26.927199Z"
    },
    "papermill": {
     "duration": 0.039269,
     "end_time": "2025-07-30T12:49:26.930916",
     "exception": false,
     "start_time": "2025-07-30T12:49:26.891647",
     "status": "completed"
    },
    "tags": []
   },
   "outputs": [],
   "source": [
    "#X_test = pd.read_csv(\"./data/X_test.csv\")\n",
    "#y_true = pd.read_csv(\"./data/y_test.csv\")"
   ]
  },
  {
   "cell_type": "code",
   "execution_count": 13,
   "id": "98a8d0fa-1d3d-4ed8-bb2c-281470e24add",
   "metadata": {
    "execution": {
     "iopub.execute_input": "2025-07-30T12:49:26.996790Z",
     "iopub.status.busy": "2025-07-30T12:49:26.995903Z",
     "iopub.status.idle": "2025-07-30T12:49:27.002481Z",
     "shell.execute_reply": "2025-07-30T12:49:27.001276Z"
    },
    "papermill": {
     "duration": 0.042036,
     "end_time": "2025-07-30T12:49:27.004479",
     "exception": false,
     "start_time": "2025-07-30T12:49:26.962443",
     "status": "completed"
    },
    "tags": []
   },
   "outputs": [],
   "source": [
    "# Calibration data for conformal\n",
    "#X_calib = pd.read_csv(\"./data/X_calib.csv\")\n",
    "#y_calib = pd.read_csv(\"./data/y_calib.csv\")"
   ]
  },
  {
   "cell_type": "markdown",
   "id": "997051c5-15bd-4b69-9786-c3001a3ce484",
   "metadata": {
    "papermill": {
     "duration": 0.021784,
     "end_time": "2025-07-30T12:49:27.050020",
     "exception": false,
     "start_time": "2025-07-30T12:49:27.028236",
     "status": "completed"
    },
    "tags": []
   },
   "source": [
    "# Splitting Data and Setting Training Data Size"
   ]
  },
  {
   "cell_type": "code",
   "execution_count": 14,
   "id": "e993b61f-042d-41a6-8c81-f55681f86335",
   "metadata": {
    "execution": {
     "iopub.execute_input": "2025-07-30T12:49:27.099334Z",
     "iopub.status.busy": "2025-07-30T12:49:27.098164Z",
     "iopub.status.idle": "2025-07-30T12:49:27.117288Z",
     "shell.execute_reply": "2025-07-30T12:49:27.115780Z"
    },
    "papermill": {
     "duration": 0.046963,
     "end_time": "2025-07-30T12:49:27.119636",
     "exception": false,
     "start_time": "2025-07-30T12:49:27.072673",
     "status": "completed"
    },
    "tags": []
   },
   "outputs": [],
   "source": [
    "def sample_by_year_size(df,\n",
    "                        training_year: str,\n",
    "                        training_size: str,\n",
    "                        random_state: int = 42):\n",
    "    # --- parse training_year into a list of int years ---\n",
    "    if \"_\" in training_year:\n",
    "        start_str, end_str = training_year.split(\"_\", 1)\n",
    "        start = int(start_str)\n",
    "        end   = int(end_str) if len(end_str) == 4 else (int(end_str) + (start // 100)*100)\n",
    "        years = list(range(start, end + 1))\n",
    "    else:\n",
    "        years = [int(training_year)]\n",
    "\n",
    "    df = df[df[\"year\"].isin(years)].reset_index(drop=True)\n",
    "\n",
    "    # --- map training_size to total number of samples ---\n",
    "    total_map = {\"25k\": 25_000, \"5k\": 5_000, \"1k\": 1_000}\n",
    "    if training_size not in total_map:\n",
    "        return df  # e.g. \"all\"\n",
    "\n",
    "    total_samples = total_map[training_size]\n",
    "    n_years       = len(years)\n",
    "    base          = total_samples // n_years\n",
    "    remainder     = total_samples % n_years\n",
    "\n",
    "    # --- build a dict: year -> how many to sample ---\n",
    "    # give +1 to the first `remainder` years in ascending order\n",
    "    quotas = {\n",
    "        year: base + (1 if idx < remainder else 0)\n",
    "        for idx, year in enumerate(sorted(years))\n",
    "    }\n",
    "\n",
    "    # --- sample per‐year according to the quota dict ---\n",
    "    sampled = (\n",
    "        df\n",
    "        .groupby(\"year\", group_keys=False)\n",
    "        .apply(lambda grp: grp.sample(\n",
    "            n=min(len(grp), quotas[grp.name]),\n",
    "            random_state=random_state))\n",
    "        .reset_index(drop=True)\n",
    "    )\n",
    "\n",
    "    return sampled"
   ]
  },
  {
   "cell_type": "code",
   "execution_count": 15,
   "id": "c0ccd338-0e02-41f3-a09d-f56f9266e3fb",
   "metadata": {
    "execution": {
     "iopub.execute_input": "2025-07-30T12:49:27.166882Z",
     "iopub.status.busy": "2025-07-30T12:49:27.165589Z",
     "iopub.status.idle": "2025-07-30T12:49:27.181393Z",
     "shell.execute_reply": "2025-07-30T12:49:27.179996Z"
    },
    "papermill": {
     "duration": 0.041549,
     "end_time": "2025-07-30T12:49:27.183335",
     "exception": false,
     "start_time": "2025-07-30T12:49:27.141786",
     "status": "completed"
    },
    "tags": []
   },
   "outputs": [
    {
     "data": {
      "text/plain": [
       "'25k'"
      ]
     },
     "execution_count": 15,
     "metadata": {},
     "output_type": "execute_result"
    }
   ],
   "source": [
    "universe[\"training_size\"]"
   ]
  },
  {
   "cell_type": "code",
   "execution_count": 16,
   "id": "ca707fd7-8047-4acd-bfa5-66248fbbf8e6",
   "metadata": {
    "execution": {
     "iopub.execute_input": "2025-07-30T12:49:27.230588Z",
     "iopub.status.busy": "2025-07-30T12:49:27.229816Z",
     "iopub.status.idle": "2025-07-30T12:49:27.239661Z",
     "shell.execute_reply": "2025-07-30T12:49:27.238484Z"
    },
    "papermill": {
     "duration": 0.035898,
     "end_time": "2025-07-30T12:49:27.241496",
     "exception": false,
     "start_time": "2025-07-30T12:49:27.205598",
     "status": "completed"
    },
    "tags": []
   },
   "outputs": [
    {
     "data": {
      "text/plain": [
       "'2014'"
      ]
     },
     "execution_count": 16,
     "metadata": {},
     "output_type": "execute_result"
    }
   ],
   "source": [
    "universe[\"training_year\"]"
   ]
  },
  {
   "cell_type": "code",
   "execution_count": 17,
   "id": "aea9c6ef-6f46-42c8-85eb-5a62025c1508",
   "metadata": {
    "execution": {
     "iopub.execute_input": "2025-07-30T12:49:27.288738Z",
     "iopub.status.busy": "2025-07-30T12:49:27.287409Z",
     "iopub.status.idle": "2025-07-30T12:49:27.889392Z",
     "shell.execute_reply": "2025-07-30T12:49:27.888010Z"
    },
    "papermill": {
     "duration": 0.627835,
     "end_time": "2025-07-30T12:49:27.891657",
     "exception": false,
     "start_time": "2025-07-30T12:49:27.263822",
     "status": "completed"
    },
    "tags": []
   },
   "outputs": [],
   "source": [
    "siab_train = sample_by_year_size(siab,\n",
    "                               training_year=universe[\"training_year\"],\n",
    "                               training_size=universe[\"training_size\"])"
   ]
  },
  {
   "cell_type": "code",
   "execution_count": 18,
   "id": "8d3afb32-789d-442c-8d5d-9f5aa8dd2eed",
   "metadata": {
    "execution": {
     "iopub.execute_input": "2025-07-30T12:49:27.941524Z",
     "iopub.status.busy": "2025-07-30T12:49:27.940908Z",
     "iopub.status.idle": "2025-07-30T12:49:27.949645Z",
     "shell.execute_reply": "2025-07-30T12:49:27.948199Z"
    },
    "papermill": {
     "duration": 0.034653,
     "end_time": "2025-07-30T12:49:27.951381",
     "exception": false,
     "start_time": "2025-07-30T12:49:27.916728",
     "status": "completed"
    },
    "tags": []
   },
   "outputs": [
    {
     "data": {
      "text/plain": [
       "(25000, 164)"
      ]
     },
     "execution_count": 18,
     "metadata": {},
     "output_type": "execute_result"
    }
   ],
   "source": [
    "siab_train.shape"
   ]
  },
  {
   "cell_type": "code",
   "execution_count": 19,
   "id": "d582db68-1a4c-47fb-84fc-08518dc1975a",
   "metadata": {
    "execution": {
     "iopub.execute_input": "2025-07-30T12:49:28.001616Z",
     "iopub.status.busy": "2025-07-30T12:49:28.000439Z",
     "iopub.status.idle": "2025-07-30T12:49:28.013755Z",
     "shell.execute_reply": "2025-07-30T12:49:28.012460Z"
    },
    "papermill": {
     "duration": 0.040137,
     "end_time": "2025-07-30T12:49:28.015499",
     "exception": false,
     "start_time": "2025-07-30T12:49:27.975362",
     "status": "completed"
    },
    "tags": []
   },
   "outputs": [
    {
     "data": {
      "text/plain": [
       "year\n",
       "2014    25000\n",
       "dtype: int64"
      ]
     },
     "metadata": {},
     "output_type": "display_data"
    }
   ],
   "source": [
    "display(siab_train.groupby(\"year\").size())"
   ]
  },
  {
   "cell_type": "code",
   "execution_count": 20,
   "id": "a561edb4-d032-42cb-8256-22eac1111c64",
   "metadata": {
    "execution": {
     "iopub.execute_input": "2025-07-30T12:49:28.066641Z",
     "iopub.status.busy": "2025-07-30T12:49:28.066036Z",
     "iopub.status.idle": "2025-07-30T12:49:28.348524Z",
     "shell.execute_reply": "2025-07-30T12:49:28.347057Z"
    },
    "papermill": {
     "duration": 0.311296,
     "end_time": "2025-07-30T12:49:28.350955",
     "exception": false,
     "start_time": "2025-07-30T12:49:28.039659",
     "status": "completed"
    },
    "tags": []
   },
   "outputs": [],
   "source": [
    "#siab_train = siab_s[siab_s.year < 2015]\n",
    "siab_calib = siab[siab.year == 2015]\n",
    "siab_test = siab[siab.year == 2016]"
   ]
  },
  {
   "cell_type": "code",
   "execution_count": 21,
   "id": "472de16f-c3db-4916-846b-1f0de9cf1746",
   "metadata": {
    "execution": {
     "iopub.execute_input": "2025-07-30T12:49:28.402428Z",
     "iopub.status.busy": "2025-07-30T12:49:28.402004Z",
     "iopub.status.idle": "2025-07-30T12:49:28.418406Z",
     "shell.execute_reply": "2025-07-30T12:49:28.417239Z"
    },
    "papermill": {
     "duration": 0.044622,
     "end_time": "2025-07-30T12:49:28.420416",
     "exception": false,
     "start_time": "2025-07-30T12:49:28.375794",
     "status": "completed"
    },
    "tags": []
   },
   "outputs": [],
   "source": [
    "X_train = siab_train.iloc[:,4:164]\n",
    "y_train = siab_train.iloc[:, [3]]"
   ]
  },
  {
   "cell_type": "code",
   "execution_count": 22,
   "id": "828c96af-f43a-4ed6-ba47-8ac73a47d56c",
   "metadata": {
    "execution": {
     "iopub.execute_input": "2025-07-30T12:49:28.470267Z",
     "iopub.status.busy": "2025-07-30T12:49:28.469705Z",
     "iopub.status.idle": "2025-07-30T12:49:28.522956Z",
     "shell.execute_reply": "2025-07-30T12:49:28.522031Z"
    },
    "papermill": {
     "duration": 0.081166,
     "end_time": "2025-07-30T12:49:28.526098",
     "exception": false,
     "start_time": "2025-07-30T12:49:28.444932",
     "status": "completed"
    },
    "tags": []
   },
   "outputs": [],
   "source": [
    "X_calib = siab_calib.iloc[:,4:164]\n",
    "y_calib = siab_calib.iloc[:, [3]]"
   ]
  },
  {
   "cell_type": "code",
   "execution_count": 23,
   "id": "c34be9c3-6bd6-476e-acd3-845840e303be",
   "metadata": {
    "execution": {
     "iopub.execute_input": "2025-07-30T12:49:28.576526Z",
     "iopub.status.busy": "2025-07-30T12:49:28.575677Z",
     "iopub.status.idle": "2025-07-30T12:49:28.635333Z",
     "shell.execute_reply": "2025-07-30T12:49:28.633997Z"
    },
    "papermill": {
     "duration": 0.086191,
     "end_time": "2025-07-30T12:49:28.637789",
     "exception": false,
     "start_time": "2025-07-30T12:49:28.551598",
     "status": "completed"
    },
    "tags": []
   },
   "outputs": [],
   "source": [
    "X_test = siab_test.iloc[:,4:164]\n",
    "y_true = siab_test.iloc[:, [3]]"
   ]
  },
  {
   "cell_type": "markdown",
   "id": "9901737e-04df-44f0-9100-f5ad144ed040",
   "metadata": {
    "papermill": {
     "duration": 0.031001,
     "end_time": "2025-07-30T12:49:28.699535",
     "exception": false,
     "start_time": "2025-07-30T12:49:28.668534",
     "status": "completed"
    },
    "tags": []
   },
   "source": [
    "# Splitting Data and Setting Training Data Size OLD VERSION"
   ]
  },
  {
   "cell_type": "code",
   "execution_count": 24,
   "id": "acbc8f7d-8fc8-4e86-8c59-5dcb0f58384b",
   "metadata": {
    "execution": {
     "iopub.execute_input": "2025-07-30T12:49:28.766081Z",
     "iopub.status.busy": "2025-07-30T12:49:28.765498Z",
     "iopub.status.idle": "2025-07-30T12:49:28.772312Z",
     "shell.execute_reply": "2025-07-30T12:49:28.771111Z"
    },
    "papermill": {
     "duration": 0.043795,
     "end_time": "2025-07-30T12:49:28.774797",
     "exception": false,
     "start_time": "2025-07-30T12:49:28.731002",
     "status": "completed"
    },
    "tags": []
   },
   "outputs": [],
   "source": [
    "#def sample_by_year(df, training_size, random_state=42):\n",
    "#    if training_size == \"2014\":\n",
    "#        return df[df[\"year\"] == 2014].reset_index(drop=True)\n",
    "#    \n",
    "#    size_map = {\n",
    "#        \"25k\": 5000,\n",
    "#        \"5k\": 1000,\n",
    "#        \"1k\": 200\n",
    "#    }\n",
    "#\n",
    "#    if training_size not in size_map:\n",
    "#        return df.reset_index(drop=True)  # use all data\n",
    "#\n",
    "#    n_per_year = size_map[training_size]\n",
    "#    grouped = df.groupby(\"year\")\n",
    "#    sampled = grouped.apply(lambda x: x.sample(n=min(n_per_year, len(x)), random_state=random_state))\n",
    "#    return sampled.reset_index(drop=True)"
   ]
  },
  {
   "cell_type": "code",
   "execution_count": 25,
   "id": "6d931f52-beaf-43ff-9e78-9d44a448d54e",
   "metadata": {
    "execution": {
     "iopub.execute_input": "2025-07-30T12:49:28.836336Z",
     "iopub.status.busy": "2025-07-30T12:49:28.835757Z",
     "iopub.status.idle": "2025-07-30T12:49:28.841856Z",
     "shell.execute_reply": "2025-07-30T12:49:28.840735Z"
    },
    "papermill": {
     "duration": 0.03648,
     "end_time": "2025-07-30T12:49:28.843800",
     "exception": false,
     "start_time": "2025-07-30T12:49:28.807320",
     "status": "completed"
    },
    "tags": []
   },
   "outputs": [],
   "source": [
    "#siab_s = sample_by_year(siab, universe[\"training_size\"])"
   ]
  },
  {
   "cell_type": "code",
   "execution_count": 26,
   "id": "5db0a40e-a4e2-4920-be85-b12ae061d70d",
   "metadata": {
    "execution": {
     "iopub.execute_input": "2025-07-30T12:49:28.903849Z",
     "iopub.status.busy": "2025-07-30T12:49:28.903393Z",
     "iopub.status.idle": "2025-07-30T12:49:28.909779Z",
     "shell.execute_reply": "2025-07-30T12:49:28.908684Z"
    },
    "papermill": {
     "duration": 0.040804,
     "end_time": "2025-07-30T12:49:28.911377",
     "exception": false,
     "start_time": "2025-07-30T12:49:28.870573",
     "status": "completed"
    },
    "tags": []
   },
   "outputs": [],
   "source": [
    "#display(siab_s.groupby(\"year\").size())"
   ]
  },
  {
   "cell_type": "code",
   "execution_count": 27,
   "id": "e6c733c5",
   "metadata": {
    "execution": {
     "iopub.execute_input": "2025-07-30T12:49:28.951349Z",
     "iopub.status.busy": "2025-07-30T12:49:28.950851Z",
     "iopub.status.idle": "2025-07-30T12:49:29.054420Z",
     "shell.execute_reply": "2025-07-30T12:49:29.053320Z"
    },
    "papermill": {
     "duration": 0.13054,
     "end_time": "2025-07-30T12:49:29.056539",
     "exception": false,
     "start_time": "2025-07-30T12:49:28.925999",
     "status": "completed"
    },
    "tags": []
   },
   "outputs": [],
   "source": [
    "# Auxiliary data needed downstream in the pipeline\n",
    "\n",
    "org_train = X_train.copy()\n",
    "org_test = X_test.copy()\n",
    "org_calib = X_calib.copy()"
   ]
  },
  {
   "cell_type": "code",
   "execution_count": 28,
   "id": "1466abac-c6da-4492-a62f-4240ae3783af",
   "metadata": {
    "execution": {
     "iopub.execute_input": "2025-07-30T12:49:29.108932Z",
     "iopub.status.busy": "2025-07-30T12:49:29.108307Z",
     "iopub.status.idle": "2025-07-30T12:49:29.115173Z",
     "shell.execute_reply": "2025-07-30T12:49:29.114058Z"
    },
    "papermill": {
     "duration": 0.042864,
     "end_time": "2025-07-30T12:49:29.123339",
     "exception": false,
     "start_time": "2025-07-30T12:49:29.080475",
     "status": "completed"
    },
    "tags": []
   },
   "outputs": [],
   "source": [
    "# put in other script?\n",
    "# Group sizes\n",
    "\n",
    "#def calculate_percentages(df, df_name):\n",
    "#    total_entries = len(df)\n",
    "#\n",
    "#    female_pct = (df['frau1'] == 1).mean() * 100\n",
    "#    non_german_pct = ((df['maxdeutsch1'] == 0) & (df['maxdeutsch.Missing.'] == 0)).mean() * 100\n",
    "#    non_german_male_pct = ((df['frau1'] == 0) & (df['maxdeutsch1'] == 0) & (df['maxdeutsch.Missing.'] == 0)).mean() * 100\n",
    "#    non_german_female_pct = ((df['frau1'] == 1) & (df['maxdeutsch1'] == 0) & (df['maxdeutsch.Missing.'] == 0)).mean() * 100\n",
    "#\n",
    "#    print(f\"--- {df_name} ---\")\n",
    "#    print(f\"Female: {female_pct:.2f}%\")\n",
    "#    print(f\"Non-German: {non_german_pct:.2f}%\")\n",
    "#    print(f\"Non-German Male: {non_german_male_pct:.2f}%\")\n",
    "#    print(f\"Non-German Female: {non_german_female_pct:.2f}%\\n\")\n",
    "#\n",
    "## Calculate for each DataFrame\n",
    "#calculate_percentages(siab_calib, \"siab_calib\")\n",
    "#calculate_percentages(siab_test, \"siab_test\")\n",
    "#calculate_percentages(siab_train, \"siab_train\")"
   ]
  },
  {
   "cell_type": "markdown",
   "id": "0a4a1b33",
   "metadata": {
    "papermill": {
     "duration": 0.029752,
     "end_time": "2025-07-30T12:49:29.183750",
     "exception": false,
     "start_time": "2025-07-30T12:49:29.153998",
     "status": "completed"
    },
    "tags": []
   },
   "source": [
    "# Preprocessing Data"
   ]
  },
  {
   "cell_type": "code",
   "execution_count": 29,
   "id": "ca879031",
   "metadata": {
    "execution": {
     "iopub.execute_input": "2025-07-30T12:49:29.247273Z",
     "iopub.status.busy": "2025-07-30T12:49:29.246769Z",
     "iopub.status.idle": "2025-07-30T12:49:29.253481Z",
     "shell.execute_reply": "2025-07-30T12:49:29.252444Z"
    },
    "papermill": {
     "duration": 0.042981,
     "end_time": "2025-07-30T12:49:29.255928",
     "exception": false,
     "start_time": "2025-07-30T12:49:29.212947",
     "status": "completed"
    },
    "tags": []
   },
   "outputs": [],
   "source": [
    "# EXCLUDE PROTECTED FEATURES\n",
    "# ----------------------\n",
    "# \"exclude_features\": \"none\", # \"nationality\", \"sex\", \"nationality-sex\"\n",
    "\n",
    "excluded_features = universe[\"exclude_features\"].split(\"-\") # split, e.g.: \"nationality-sex\" -> [\"nationality\", \"sex\"]\n",
    "excluded_features_dictionary = {\n",
    "    \"nationality\": [\"maxdeutsch1\", \"maxdeutsch.Missing.\"],\n",
    "    \"sex\": [\"frau1\"],\n",
    "    \"age\": [\"age\"],\n",
    "}\n"
   ]
  },
  {
   "cell_type": "code",
   "execution_count": 30,
   "id": "b745ac60",
   "metadata": {
    "execution": {
     "iopub.execute_input": "2025-07-30T12:49:29.321847Z",
     "iopub.status.busy": "2025-07-30T12:49:29.321009Z",
     "iopub.status.idle": "2025-07-30T12:49:29.328908Z",
     "shell.execute_reply": "2025-07-30T12:49:29.327468Z"
    },
    "papermill": {
     "duration": 0.044106,
     "end_time": "2025-07-30T12:49:29.331001",
     "exception": false,
     "start_time": "2025-07-30T12:49:29.286895",
     "status": "completed"
    },
    "tags": []
   },
   "outputs": [],
   "source": [
    "# Code nice names to column names\n",
    "\n",
    "excluded_features_columns = [\n",
    "    excluded_features_dictionary[f] for f in excluded_features if len(f) > 0 and f != \"none\"\n",
    "]"
   ]
  },
  {
   "cell_type": "code",
   "execution_count": 31,
   "id": "f84f73a2",
   "metadata": {
    "execution": {
     "iopub.execute_input": "2025-07-30T12:49:29.367094Z",
     "iopub.status.busy": "2025-07-30T12:49:29.366654Z",
     "iopub.status.idle": "2025-07-30T12:49:29.378081Z",
     "shell.execute_reply": "2025-07-30T12:49:29.377010Z"
    },
    "papermill": {
     "duration": 0.027641,
     "end_time": "2025-07-30T12:49:29.380092",
     "exception": false,
     "start_time": "2025-07-30T12:49:29.352451",
     "status": "completed"
    },
    "tags": []
   },
   "outputs": [],
   "source": [
    "from utils import flatten_once\n",
    "\n",
    "excluded_features_columns = flatten_once(excluded_features_columns)"
   ]
  },
  {
   "cell_type": "code",
   "execution_count": 32,
   "id": "884dea22",
   "metadata": {
    "execution": {
     "iopub.execute_input": "2025-07-30T12:49:29.426676Z",
     "iopub.status.busy": "2025-07-30T12:49:29.425914Z",
     "iopub.status.idle": "2025-07-30T12:49:29.442263Z",
     "shell.execute_reply": "2025-07-30T12:49:29.441182Z"
    },
    "papermill": {
     "duration": 0.040315,
     "end_time": "2025-07-30T12:49:29.444207",
     "exception": false,
     "start_time": "2025-07-30T12:49:29.403892",
     "status": "completed"
    },
    "tags": []
   },
   "outputs": [
    {
     "name": "stdout",
     "output_type": "stream",
     "text": [
      "Dropping features: ['age']\n"
     ]
    }
   ],
   "source": [
    "if len(excluded_features_columns) > 0:\n",
    "    print(f\"Dropping features: {excluded_features_columns}\")\n",
    "    X_train.drop(excluded_features_columns, axis=1, inplace=True)"
   ]
  },
  {
   "cell_type": "code",
   "execution_count": 33,
   "id": "95ab8b16",
   "metadata": {
    "execution": {
     "iopub.execute_input": "2025-07-30T12:49:29.493477Z",
     "iopub.status.busy": "2025-07-30T12:49:29.492897Z",
     "iopub.status.idle": "2025-07-30T12:49:29.555213Z",
     "shell.execute_reply": "2025-07-30T12:49:29.554209Z"
    },
    "papermill": {
     "duration": 0.090235,
     "end_time": "2025-07-30T12:49:29.557068",
     "exception": false,
     "start_time": "2025-07-30T12:49:29.466833",
     "status": "completed"
    },
    "tags": []
   },
   "outputs": [
    {
     "name": "stdout",
     "output_type": "stream",
     "text": [
      "Dropping features: ['age']\n"
     ]
    }
   ],
   "source": [
    "if len(excluded_features_columns) > 0:\n",
    "    print(f\"Dropping features: {excluded_features_columns}\")\n",
    "    X_test.drop(excluded_features_columns, axis=1, inplace=True)"
   ]
  },
  {
   "cell_type": "code",
   "execution_count": 34,
   "id": "1853aaf5-fb9f-46cb-a2b5-8ea4ae2237e4",
   "metadata": {
    "execution": {
     "iopub.execute_input": "2025-07-30T12:49:29.620168Z",
     "iopub.status.busy": "2025-07-30T12:49:29.619716Z",
     "iopub.status.idle": "2025-07-30T12:49:29.673513Z",
     "shell.execute_reply": "2025-07-30T12:49:29.672395Z"
    },
    "papermill": {
     "duration": 0.082128,
     "end_time": "2025-07-30T12:49:29.675543",
     "exception": false,
     "start_time": "2025-07-30T12:49:29.593415",
     "status": "completed"
    },
    "tags": []
   },
   "outputs": [
    {
     "name": "stdout",
     "output_type": "stream",
     "text": [
      "Dropping features: ['age']\n"
     ]
    }
   ],
   "source": [
    "if len(excluded_features_columns) > 0:\n",
    "    print(f\"Dropping features: {excluded_features_columns}\")\n",
    "    X_calib.drop(excluded_features_columns, axis=1, inplace=True)"
   ]
  },
  {
   "cell_type": "code",
   "execution_count": 35,
   "id": "6727d079-03e5-481e-9d38-292a90b7a0a8",
   "metadata": {
    "execution": {
     "iopub.execute_input": "2025-07-30T12:49:29.724648Z",
     "iopub.status.busy": "2025-07-30T12:49:29.723746Z",
     "iopub.status.idle": "2025-07-30T12:49:29.729155Z",
     "shell.execute_reply": "2025-07-30T12:49:29.728120Z"
    },
    "papermill": {
     "duration": 0.031242,
     "end_time": "2025-07-30T12:49:29.730918",
     "exception": false,
     "start_time": "2025-07-30T12:49:29.699676",
     "status": "completed"
    },
    "tags": []
   },
   "outputs": [],
   "source": [
    "# SPLIT & STRATIFY DATA\n",
    "# ----------------------"
   ]
  },
  {
   "cell_type": "code",
   "execution_count": 36,
   "id": "76c4dc6d",
   "metadata": {
    "execution": {
     "iopub.execute_input": "2025-07-30T12:49:29.781464Z",
     "iopub.status.busy": "2025-07-30T12:49:29.780584Z",
     "iopub.status.idle": "2025-07-30T12:49:29.786486Z",
     "shell.execute_reply": "2025-07-30T12:49:29.785489Z"
    },
    "papermill": {
     "duration": 0.034651,
     "end_time": "2025-07-30T12:49:29.790368",
     "exception": false,
     "start_time": "2025-07-30T12:49:29.755717",
     "status": "completed"
    },
    "tags": []
   },
   "outputs": [],
   "source": [
    "# EXCLUDE CERTAIN SUBGROUPS\n",
    "# ----------------------\n",
    "\n",
    "mode = universe.get(\"exclude_subgroups\", \"keep-all\") \n",
    "# Fetches the exclude_subgroups setting from the universe dict.\n",
    "# Defaults to \"keep-all\" if the key is missing."
   ]
  },
  {
   "cell_type": "code",
   "execution_count": 37,
   "id": "21994072",
   "metadata": {
    "execution": {
     "iopub.execute_input": "2025-07-30T12:49:29.839836Z",
     "iopub.status.busy": "2025-07-30T12:49:29.839412Z",
     "iopub.status.idle": "2025-07-30T12:49:29.846574Z",
     "shell.execute_reply": "2025-07-30T12:49:29.845441Z"
    },
    "papermill": {
     "duration": 0.033459,
     "end_time": "2025-07-30T12:49:29.848265",
     "exception": false,
     "start_time": "2025-07-30T12:49:29.814806",
     "status": "completed"
    },
    "tags": []
   },
   "outputs": [],
   "source": [
    "if mode == \"keep-all\":\n",
    "    keep_mask = pd.Series(True, index=org_train.index)\n",
    "\n",
    "# org_train contains the original feature columns from features_org (in Simson)\n",
    "# features_org contains unprocessed features, for me X_train at beginning ???\n",
    "# For keep-all, creates a boolean Series (keep_mask) of all True, so no rows are removed.\n",
    "\n",
    "elif mode == \"drop-non-german\":\n",
    "    keep_mask = org_train[\"maxdeutsch1\"] == 1 # ??? what about missing values?\n",
    "\n",
    "else:\n",
    "    raise ValueError(f\"Unsupported mode for exclude_subgroups: {mode}\")\n"
   ]
  },
  {
   "cell_type": "code",
   "execution_count": 38,
   "id": "71651440",
   "metadata": {
    "execution": {
     "iopub.execute_input": "2025-07-30T12:49:29.898589Z",
     "iopub.status.busy": "2025-07-30T12:49:29.897634Z",
     "iopub.status.idle": "2025-07-30T12:49:29.904558Z",
     "shell.execute_reply": "2025-07-30T12:49:29.903540Z"
    },
    "papermill": {
     "duration": 0.033528,
     "end_time": "2025-07-30T12:49:29.906201",
     "exception": false,
     "start_time": "2025-07-30T12:49:29.872673",
     "status": "completed"
    },
    "tags": []
   },
   "outputs": [],
   "source": [
    "n_drop = (~keep_mask).sum() # Calculates how many rows are set to be dropped\n",
    "if n_drop > 0:\n",
    "    pct = n_drop / len(keep_mask) * 100\n",
    "    print(f\"Dropping {n_drop} rows ({pct:.2f}%) where mode='{mode}'\")"
   ]
  },
  {
   "cell_type": "code",
   "execution_count": 39,
   "id": "5fb8eee5",
   "metadata": {
    "execution": {
     "iopub.execute_input": "2025-07-30T12:49:29.957172Z",
     "iopub.status.busy": "2025-07-30T12:49:29.956429Z",
     "iopub.status.idle": "2025-07-30T12:49:29.971972Z",
     "shell.execute_reply": "2025-07-30T12:49:29.971031Z"
    },
    "papermill": {
     "duration": 0.043193,
     "end_time": "2025-07-30T12:49:29.973936",
     "exception": false,
     "start_time": "2025-07-30T12:49:29.930743",
     "status": "completed"
    },
    "tags": []
   },
   "outputs": [],
   "source": [
    "X_train = X_train[keep_mask]"
   ]
  },
  {
   "cell_type": "code",
   "execution_count": 40,
   "id": "b202bb3a",
   "metadata": {
    "execution": {
     "iopub.execute_input": "2025-07-30T12:49:30.024121Z",
     "iopub.status.busy": "2025-07-30T12:49:30.023307Z",
     "iopub.status.idle": "2025-07-30T12:49:30.029984Z",
     "shell.execute_reply": "2025-07-30T12:49:30.028950Z"
    },
    "papermill": {
     "duration": 0.034144,
     "end_time": "2025-07-30T12:49:30.031638",
     "exception": false,
     "start_time": "2025-07-30T12:49:29.997494",
     "status": "completed"
    },
    "tags": []
   },
   "outputs": [],
   "source": [
    "y_train = y_train[keep_mask]"
   ]
  },
  {
   "cell_type": "markdown",
   "id": "493e2ac3",
   "metadata": {
    "papermill": {
     "duration": 0.024805,
     "end_time": "2025-07-30T12:49:30.079780",
     "exception": false,
     "start_time": "2025-07-30T12:49:30.054975",
     "status": "completed"
    },
    "tags": []
   },
   "source": [
    "# Model Training"
   ]
  },
  {
   "cell_type": "code",
   "execution_count": 41,
   "id": "679e1268",
   "metadata": {
    "execution": {
     "iopub.execute_input": "2025-07-30T12:49:30.129309Z",
     "iopub.status.busy": "2025-07-30T12:49:30.128836Z",
     "iopub.status.idle": "2025-07-30T12:49:30.334066Z",
     "shell.execute_reply": "2025-07-30T12:49:30.333197Z"
    },
    "papermill": {
     "duration": 0.231163,
     "end_time": "2025-07-30T12:49:30.335632",
     "exception": false,
     "start_time": "2025-07-30T12:49:30.104469",
     "status": "completed"
    },
    "tags": []
   },
   "outputs": [],
   "source": [
    "from sklearn.linear_model import LogisticRegression\n",
    "from sklearn.ensemble import GradientBoostingClassifier, RandomForestClassifier\n",
    "\n",
    "if (universe[\"model\"] == \"logreg\"):\n",
    "    model = LogisticRegression() #penalty=\"none\") #, solver=\"newton-cg\", max_iter=1) # include random_state=19 ?\n",
    "elif (universe[\"model\"] == \"penalized_logreg\"):\n",
    "    model = LogisticRegression(penalty=\"l2\", C=1.0) #, solver=\"newton-cg\", max_iter=1)\n",
    "elif (universe[\"model\"] == \"rf\"):\n",
    "    model = RandomForestClassifier(n_estimators=100, n_jobs=-1)\n",
    "elif (universe[\"model\"] == \"gbm\"):\n",
    "    model = GradientBoostingClassifier()\n",
    "elif (universe[\"model\"] == \"elasticnet\"):\n",
    "    model = LogisticRegression(penalty = 'elasticnet', solver = 'saga', l1_ratio = 0.5, max_iter=5000) # which solver to use?\n",
    "else:\n",
    "    raise \"Unsupported universe.model\""
   ]
  },
  {
   "cell_type": "code",
   "execution_count": 42,
   "id": "0cc8f744",
   "metadata": {
    "execution": {
     "iopub.execute_input": "2025-07-30T12:49:30.364088Z",
     "iopub.status.busy": "2025-07-30T12:49:30.363706Z",
     "iopub.status.idle": "2025-07-30T12:49:30.369050Z",
     "shell.execute_reply": "2025-07-30T12:49:30.368104Z"
    },
    "papermill": {
     "duration": 0.021133,
     "end_time": "2025-07-30T12:49:30.370736",
     "exception": false,
     "start_time": "2025-07-30T12:49:30.349603",
     "status": "completed"
    },
    "tags": []
   },
   "outputs": [],
   "source": [
    "import numpy as np\n",
    "from sklearn.pipeline import Pipeline\n",
    "from sklearn.preprocessing import StandardScaler\n",
    "\n",
    "model = Pipeline([\n",
    "    #(\"continuous_processor\", continuous_processor),\n",
    "    #(\"categorical_preprocessor\", categorical_preprocessor),\n",
    "    (\"scale\", StandardScaler() if universe[\"scale\"] == \"scale\" else None), \n",
    "    (\"model\", model),\n",
    "])"
   ]
  },
  {
   "cell_type": "code",
   "execution_count": 43,
   "id": "9442c04d",
   "metadata": {
    "execution": {
     "iopub.execute_input": "2025-07-30T12:49:30.421081Z",
     "iopub.status.busy": "2025-07-30T12:49:30.420371Z",
     "iopub.status.idle": "2025-07-30T12:49:34.685750Z",
     "shell.execute_reply": "2025-07-30T12:49:34.685054Z"
    },
    "papermill": {
     "duration": 4.293214,
     "end_time": "2025-07-30T12:49:34.686952",
     "exception": false,
     "start_time": "2025-07-30T12:49:30.393738",
     "status": "completed"
    },
    "tags": []
   },
   "outputs": [
    {
     "data": {
      "text/html": [
       "<style>#sk-container-id-1 {color: black;background-color: white;}#sk-container-id-1 pre{padding: 0;}#sk-container-id-1 div.sk-toggleable {background-color: white;}#sk-container-id-1 label.sk-toggleable__label {cursor: pointer;display: block;width: 100%;margin-bottom: 0;padding: 0.3em;box-sizing: border-box;text-align: center;}#sk-container-id-1 label.sk-toggleable__label-arrow:before {content: \"▸\";float: left;margin-right: 0.25em;color: #696969;}#sk-container-id-1 label.sk-toggleable__label-arrow:hover:before {color: black;}#sk-container-id-1 div.sk-estimator:hover label.sk-toggleable__label-arrow:before {color: black;}#sk-container-id-1 div.sk-toggleable__content {max-height: 0;max-width: 0;overflow: hidden;text-align: left;background-color: #f0f8ff;}#sk-container-id-1 div.sk-toggleable__content pre {margin: 0.2em;color: black;border-radius: 0.25em;background-color: #f0f8ff;}#sk-container-id-1 input.sk-toggleable__control:checked~div.sk-toggleable__content {max-height: 200px;max-width: 100%;overflow: auto;}#sk-container-id-1 input.sk-toggleable__control:checked~label.sk-toggleable__label-arrow:before {content: \"▾\";}#sk-container-id-1 div.sk-estimator input.sk-toggleable__control:checked~label.sk-toggleable__label {background-color: #d4ebff;}#sk-container-id-1 div.sk-label input.sk-toggleable__control:checked~label.sk-toggleable__label {background-color: #d4ebff;}#sk-container-id-1 input.sk-hidden--visually {border: 0;clip: rect(1px 1px 1px 1px);clip: rect(1px, 1px, 1px, 1px);height: 1px;margin: -1px;overflow: hidden;padding: 0;position: absolute;width: 1px;}#sk-container-id-1 div.sk-estimator {font-family: monospace;background-color: #f0f8ff;border: 1px dotted black;border-radius: 0.25em;box-sizing: border-box;margin-bottom: 0.5em;}#sk-container-id-1 div.sk-estimator:hover {background-color: #d4ebff;}#sk-container-id-1 div.sk-parallel-item::after {content: \"\";width: 100%;border-bottom: 1px solid gray;flex-grow: 1;}#sk-container-id-1 div.sk-label:hover label.sk-toggleable__label {background-color: #d4ebff;}#sk-container-id-1 div.sk-serial::before {content: \"\";position: absolute;border-left: 1px solid gray;box-sizing: border-box;top: 0;bottom: 0;left: 50%;z-index: 0;}#sk-container-id-1 div.sk-serial {display: flex;flex-direction: column;align-items: center;background-color: white;padding-right: 0.2em;padding-left: 0.2em;position: relative;}#sk-container-id-1 div.sk-item {position: relative;z-index: 1;}#sk-container-id-1 div.sk-parallel {display: flex;align-items: stretch;justify-content: center;background-color: white;position: relative;}#sk-container-id-1 div.sk-item::before, #sk-container-id-1 div.sk-parallel-item::before {content: \"\";position: absolute;border-left: 1px solid gray;box-sizing: border-box;top: 0;bottom: 0;left: 50%;z-index: -1;}#sk-container-id-1 div.sk-parallel-item {display: flex;flex-direction: column;z-index: 1;position: relative;background-color: white;}#sk-container-id-1 div.sk-parallel-item:first-child::after {align-self: flex-end;width: 50%;}#sk-container-id-1 div.sk-parallel-item:last-child::after {align-self: flex-start;width: 50%;}#sk-container-id-1 div.sk-parallel-item:only-child::after {width: 0;}#sk-container-id-1 div.sk-dashed-wrapped {border: 1px dashed gray;margin: 0 0.4em 0.5em 0.4em;box-sizing: border-box;padding-bottom: 0.4em;background-color: white;}#sk-container-id-1 div.sk-label label {font-family: monospace;font-weight: bold;display: inline-block;line-height: 1.2em;}#sk-container-id-1 div.sk-label-container {text-align: center;}#sk-container-id-1 div.sk-container {/* jupyter's `normalize.less` sets `[hidden] { display: none; }` but bootstrap.min.css set `[hidden] { display: none !important; }` so we also need the `!important` here to be able to override the default hidden behavior on the sphinx rendered scikit-learn.org. See: https://github.com/scikit-learn/scikit-learn/issues/21755 */display: inline-block !important;position: relative;}#sk-container-id-1 div.sk-text-repr-fallback {display: none;}</style><div id=\"sk-container-id-1\" class=\"sk-top-container\"><div class=\"sk-text-repr-fallback\"><pre>Pipeline(steps=[(&#x27;scale&#x27;, StandardScaler()),\n",
       "                (&#x27;model&#x27;, RandomForestClassifier(n_jobs=-1))])</pre><b>In a Jupyter environment, please rerun this cell to show the HTML representation or trust the notebook. <br />On GitHub, the HTML representation is unable to render, please try loading this page with nbviewer.org.</b></div><div class=\"sk-container\" hidden><div class=\"sk-item sk-dashed-wrapped\"><div class=\"sk-label-container\"><div class=\"sk-label sk-toggleable\"><input class=\"sk-toggleable__control sk-hidden--visually\" id=\"sk-estimator-id-1\" type=\"checkbox\" ><label for=\"sk-estimator-id-1\" class=\"sk-toggleable__label sk-toggleable__label-arrow\">Pipeline</label><div class=\"sk-toggleable__content\"><pre>Pipeline(steps=[(&#x27;scale&#x27;, StandardScaler()),\n",
       "                (&#x27;model&#x27;, RandomForestClassifier(n_jobs=-1))])</pre></div></div></div><div class=\"sk-serial\"><div class=\"sk-item\"><div class=\"sk-estimator sk-toggleable\"><input class=\"sk-toggleable__control sk-hidden--visually\" id=\"sk-estimator-id-2\" type=\"checkbox\" ><label for=\"sk-estimator-id-2\" class=\"sk-toggleable__label sk-toggleable__label-arrow\">StandardScaler</label><div class=\"sk-toggleable__content\"><pre>StandardScaler()</pre></div></div></div><div class=\"sk-item\"><div class=\"sk-estimator sk-toggleable\"><input class=\"sk-toggleable__control sk-hidden--visually\" id=\"sk-estimator-id-3\" type=\"checkbox\" ><label for=\"sk-estimator-id-3\" class=\"sk-toggleable__label sk-toggleable__label-arrow\">RandomForestClassifier</label><div class=\"sk-toggleable__content\"><pre>RandomForestClassifier(n_jobs=-1)</pre></div></div></div></div></div></div></div>"
      ],
      "text/plain": [
       "Pipeline(steps=[('scale', StandardScaler()),\n",
       "                ('model', RandomForestClassifier(n_jobs=-1))])"
      ]
     },
     "execution_count": 43,
     "metadata": {},
     "output_type": "execute_result"
    }
   ],
   "source": [
    "model.fit(X_train, y_train.values.ravel())"
   ]
  },
  {
   "cell_type": "code",
   "execution_count": 44,
   "id": "af59f8c0",
   "metadata": {
    "execution": {
     "iopub.execute_input": "2025-07-30T12:49:34.716746Z",
     "iopub.status.busy": "2025-07-30T12:49:34.715975Z",
     "iopub.status.idle": "2025-07-30T12:49:34.720799Z",
     "shell.execute_reply": "2025-07-30T12:49:34.719972Z"
    },
    "papermill": {
     "duration": 0.020194,
     "end_time": "2025-07-30T12:49:34.722165",
     "exception": false,
     "start_time": "2025-07-30T12:49:34.701971",
     "status": "completed"
    },
    "tags": []
   },
   "outputs": [],
   "source": [
    "from fairness_multiverse.universe import predict_w_threshold"
   ]
  },
  {
   "cell_type": "code",
   "execution_count": 45,
   "id": "a7cf2e16",
   "metadata": {
    "execution": {
     "iopub.execute_input": "2025-07-30T12:49:34.750743Z",
     "iopub.status.busy": "2025-07-30T12:49:34.750351Z",
     "iopub.status.idle": "2025-07-30T12:49:36.202740Z",
     "shell.execute_reply": "2025-07-30T12:49:36.200117Z"
    },
    "papermill": {
     "duration": 1.477057,
     "end_time": "2025-07-30T12:49:36.213390",
     "exception": false,
     "start_time": "2025-07-30T12:49:34.736333",
     "status": "completed"
    },
    "tags": []
   },
   "outputs": [
    {
     "data": {
      "text/plain": [
       "0.8676401738936573"
      ]
     },
     "execution_count": 45,
     "metadata": {},
     "output_type": "execute_result"
    }
   ],
   "source": [
    "probs_test = model.predict_proba(X_test)\n",
    "\n",
    "'''\n",
    "Below code returns a boolean array (or binary 0/1 array depending on how it’s used) where each element \n",
    "is True if the probability of class 1 is greater than or equal to the threshold, and False otherwise.\n",
    "'''\n",
    "y_pred_default = predict_w_threshold(probs_test, 0.5)\n",
    "\n",
    "from sklearn.metrics import accuracy_score\n",
    "\n",
    "# Naive prediction\n",
    "accuracy_score(y_true = y_true, y_pred = y_pred_default)"
   ]
  },
  {
   "cell_type": "code",
   "execution_count": 46,
   "id": "081964c3",
   "metadata": {
    "execution": {
     "iopub.execute_input": "2025-07-30T12:49:36.306176Z",
     "iopub.status.busy": "2025-07-30T12:49:36.305521Z",
     "iopub.status.idle": "2025-07-30T12:49:37.691680Z",
     "shell.execute_reply": "2025-07-30T12:49:37.690732Z"
    },
    "papermill": {
     "duration": 1.413159,
     "end_time": "2025-07-30T12:49:37.693515",
     "exception": false,
     "start_time": "2025-07-30T12:49:36.280356",
     "status": "completed"
    },
    "tags": []
   },
   "outputs": [
    {
     "data": {
      "text/plain": [
       "array([0, 0, 0, ..., 0, 0, 0])"
      ]
     },
     "execution_count": 46,
     "metadata": {},
     "output_type": "execute_result"
    }
   ],
   "source": [
    "model.predict(X_test)"
   ]
  },
  {
   "cell_type": "markdown",
   "id": "56c9705b",
   "metadata": {
    "papermill": {
     "duration": 0.029285,
     "end_time": "2025-07-30T12:49:37.778167",
     "exception": false,
     "start_time": "2025-07-30T12:49:37.748882",
     "status": "completed"
    },
    "tags": []
   },
   "source": [
    "# Conformal Prediction"
   ]
  },
  {
   "cell_type": "code",
   "execution_count": 47,
   "id": "160ec6ff",
   "metadata": {
    "execution": {
     "iopub.execute_input": "2025-07-30T12:49:37.879058Z",
     "iopub.status.busy": "2025-07-30T12:49:37.878026Z",
     "iopub.status.idle": "2025-07-30T12:49:37.884269Z",
     "shell.execute_reply": "2025-07-30T12:49:37.883160Z"
    },
    "papermill": {
     "duration": 0.066079,
     "end_time": "2025-07-30T12:49:37.886284",
     "exception": false,
     "start_time": "2025-07-30T12:49:37.820205",
     "status": "completed"
    },
    "tags": []
   },
   "outputs": [],
   "source": [
    "# Miscoverage level for conformal prediction (10% allowed error rate => 90% target coverage)\n",
    "alpha = 0.1"
   ]
  },
  {
   "cell_type": "code",
   "execution_count": 48,
   "id": "eadf4555-3dd3-440e-8e35-f82a4ad9f855",
   "metadata": {
    "execution": {
     "iopub.execute_input": "2025-07-30T12:49:37.950594Z",
     "iopub.status.busy": "2025-07-30T12:49:37.950171Z",
     "iopub.status.idle": "2025-07-30T12:49:39.354773Z",
     "shell.execute_reply": "2025-07-30T12:49:39.353766Z"
    },
    "papermill": {
     "duration": 1.432451,
     "end_time": "2025-07-30T12:49:39.357246",
     "exception": false,
     "start_time": "2025-07-30T12:49:37.924795",
     "status": "completed"
    },
    "tags": []
   },
   "outputs": [],
   "source": [
    "probs_calib = model.predict_proba(X_calib)"
   ]
  },
  {
   "cell_type": "code",
   "execution_count": 49,
   "id": "2ed93547-6d5d-4983-9b36-1ecb300da49a",
   "metadata": {
    "execution": {
     "iopub.execute_input": "2025-07-30T12:49:39.462139Z",
     "iopub.status.busy": "2025-07-30T12:49:39.461718Z",
     "iopub.status.idle": "2025-07-30T12:49:39.467235Z",
     "shell.execute_reply": "2025-07-30T12:49:39.466177Z"
    },
    "papermill": {
     "duration": 0.072648,
     "end_time": "2025-07-30T12:49:39.469173",
     "exception": false,
     "start_time": "2025-07-30T12:49:39.396525",
     "status": "completed"
    },
    "tags": []
   },
   "outputs": [],
   "source": [
    "y_calib = y_calib.values.ravel().astype(int)"
   ]
  },
  {
   "cell_type": "code",
   "execution_count": 50,
   "id": "65d1320d-f588-4b38-9072-62af1ae97f7d",
   "metadata": {
    "execution": {
     "iopub.execute_input": "2025-07-30T12:49:39.524501Z",
     "iopub.status.busy": "2025-07-30T12:49:39.524021Z",
     "iopub.status.idle": "2025-07-30T12:49:39.533485Z",
     "shell.execute_reply": "2025-07-30T12:49:39.532369Z"
    },
    "papermill": {
     "duration": 0.040228,
     "end_time": "2025-07-30T12:49:39.535452",
     "exception": false,
     "start_time": "2025-07-30T12:49:39.495224",
     "status": "completed"
    },
    "tags": []
   },
   "outputs": [],
   "source": [
    "from fairness_multiverse.conformal import compute_nc_scores\n",
    "\n",
    "# Compute nonconformity scores on calibration set (1 - probability of true class)\n",
    "nc_scores = compute_nc_scores(probs_calib, y_calib)"
   ]
  },
  {
   "cell_type": "code",
   "execution_count": 51,
   "id": "df3b8ca3-53b7-43d5-9667-7c85da7aeda2",
   "metadata": {
    "execution": {
     "iopub.execute_input": "2025-07-30T12:49:39.572624Z",
     "iopub.status.busy": "2025-07-30T12:49:39.572106Z",
     "iopub.status.idle": "2025-07-30T12:49:39.577851Z",
     "shell.execute_reply": "2025-07-30T12:49:39.577123Z"
    },
    "papermill": {
     "duration": 0.021826,
     "end_time": "2025-07-30T12:49:39.579236",
     "exception": false,
     "start_time": "2025-07-30T12:49:39.557410",
     "status": "completed"
    },
    "tags": []
   },
   "outputs": [],
   "source": [
    "from fairness_multiverse.conformal import find_threshold\n",
    "\n",
    "# Find conformal threshold q_hat for the given alpha (split conformal method)\n",
    "q_hat = find_threshold(nc_scores, alpha)"
   ]
  },
  {
   "cell_type": "code",
   "execution_count": 52,
   "id": "4d29e6c1-0ef6-4aa4-b8fe-4fe79b0d033a",
   "metadata": {
    "execution": {
     "iopub.execute_input": "2025-07-30T12:49:39.626070Z",
     "iopub.status.busy": "2025-07-30T12:49:39.625175Z",
     "iopub.status.idle": "2025-07-30T12:49:39.632429Z",
     "shell.execute_reply": "2025-07-30T12:49:39.631559Z"
    },
    "papermill": {
     "duration": 0.035202,
     "end_time": "2025-07-30T12:49:39.633890",
     "exception": false,
     "start_time": "2025-07-30T12:49:39.598688",
     "status": "completed"
    },
    "tags": []
   },
   "outputs": [
    {
     "data": {
      "text/plain": [
       "0.6699999999999999"
      ]
     },
     "execution_count": 52,
     "metadata": {},
     "output_type": "execute_result"
    }
   ],
   "source": [
    "q_hat"
   ]
  },
  {
   "cell_type": "code",
   "execution_count": 53,
   "id": "92460794-cdac-4be2-ba28-f28c0515a6fb",
   "metadata": {
    "execution": {
     "iopub.execute_input": "2025-07-30T12:49:39.669064Z",
     "iopub.status.busy": "2025-07-30T12:49:39.668478Z",
     "iopub.status.idle": "2025-07-30T12:49:41.665354Z",
     "shell.execute_reply": "2025-07-30T12:49:41.664558Z"
    },
    "papermill": {
     "duration": 2.01714,
     "end_time": "2025-07-30T12:49:41.666809",
     "exception": false,
     "start_time": "2025-07-30T12:49:39.649669",
     "status": "completed"
    },
    "tags": []
   },
   "outputs": [],
   "source": [
    "from fairness_multiverse.conformal import predict_conformal_sets\n",
    "\n",
    "# Generate prediction sets for each test example\n",
    "pred_sets = predict_conformal_sets(model, X_test, q_hat)"
   ]
  },
  {
   "cell_type": "code",
   "execution_count": 54,
   "id": "d90c9a65-e6db-4f5d-80cd-e68fb7e46829",
   "metadata": {
    "execution": {
     "iopub.execute_input": "2025-07-30T12:49:41.735321Z",
     "iopub.status.busy": "2025-07-30T12:49:41.734879Z",
     "iopub.status.idle": "2025-07-30T12:49:41.741446Z",
     "shell.execute_reply": "2025-07-30T12:49:41.740238Z"
    },
    "papermill": {
     "duration": 0.050381,
     "end_time": "2025-07-30T12:49:41.744009",
     "exception": false,
     "start_time": "2025-07-30T12:49:41.693628",
     "status": "completed"
    },
    "tags": []
   },
   "outputs": [],
   "source": [
    "y_true = y_true.squeeze()"
   ]
  },
  {
   "cell_type": "code",
   "execution_count": 55,
   "id": "3a58a54a-1e68-46b9-927a-df01f18aebc8",
   "metadata": {
    "execution": {
     "iopub.execute_input": "2025-07-30T12:49:41.792154Z",
     "iopub.status.busy": "2025-07-30T12:49:41.791770Z",
     "iopub.status.idle": "2025-07-30T12:49:42.489447Z",
     "shell.execute_reply": "2025-07-30T12:49:42.488576Z"
    },
    "papermill": {
     "duration": 0.713277,
     "end_time": "2025-07-30T12:49:42.490921",
     "exception": false,
     "start_time": "2025-07-30T12:49:41.777644",
     "status": "completed"
    },
    "tags": []
   },
   "outputs": [],
   "source": [
    "from fairness_multiverse.conformal import evaluate_sets\n",
    "\n",
    "# Evaluate coverage and average set size on test data\n",
    "metrics = evaluate_sets(pred_sets, y_true)"
   ]
  },
  {
   "cell_type": "markdown",
   "id": "2b569c12-9aaa-4c88-98c9-bbcd0cf3ebb8",
   "metadata": {
    "papermill": {
     "duration": 0.016202,
     "end_time": "2025-07-30T12:49:42.520516",
     "exception": false,
     "start_time": "2025-07-30T12:49:42.504314",
     "status": "completed"
    },
    "tags": []
   },
   "source": [
    "# CP Metrics"
   ]
  },
  {
   "cell_type": "code",
   "execution_count": 56,
   "id": "5ce0a5cb-201f-45a0-ade5-94c7f0bd6095",
   "metadata": {
    "execution": {
     "iopub.execute_input": "2025-07-30T12:49:42.561957Z",
     "iopub.status.busy": "2025-07-30T12:49:42.561048Z",
     "iopub.status.idle": "2025-07-30T12:49:42.568329Z",
     "shell.execute_reply": "2025-07-30T12:49:42.567325Z"
    },
    "papermill": {
     "duration": 0.036146,
     "end_time": "2025-07-30T12:49:42.570035",
     "exception": false,
     "start_time": "2025-07-30T12:49:42.533889",
     "status": "completed"
    },
    "tags": []
   },
   "outputs": [
    {
     "data": {
      "text/plain": [
       "{'coverage': 0.914892431167094, 'avg_size': 1.1441087950061308}"
      ]
     },
     "execution_count": 56,
     "metadata": {},
     "output_type": "execute_result"
    }
   ],
   "source": [
    "metrics"
   ]
  },
  {
   "cell_type": "code",
   "execution_count": 57,
   "id": "9b9a838d-31c9-430b-ae14-12baee460d17",
   "metadata": {
    "execution": {
     "iopub.execute_input": "2025-07-30T12:49:42.624415Z",
     "iopub.status.busy": "2025-07-30T12:49:42.623835Z",
     "iopub.status.idle": "2025-07-30T12:49:42.630211Z",
     "shell.execute_reply": "2025-07-30T12:49:42.629239Z"
    },
    "papermill": {
     "duration": 0.034112,
     "end_time": "2025-07-30T12:49:42.631853",
     "exception": false,
     "start_time": "2025-07-30T12:49:42.597741",
     "status": "completed"
    },
    "tags": []
   },
   "outputs": [],
   "source": [
    "example_universe = universe.copy()\n",
    "universe_training_size = example_universe.get(\"training_size\")\n",
    "universe_scale = example_universe.get(\"scale\")\n",
    "universe_model = example_universe.get(\"model\")\n",
    "universe_exclude_features = example_universe.get(\"exclude_features\")\n",
    "universe_exclude_subgroups = example_universe.get(\"exclude_subgroups\")"
   ]
  },
  {
   "cell_type": "code",
   "execution_count": 58,
   "id": "f4b6a8ac-9dc0-4245-8a91-5b3b5999c4f9",
   "metadata": {
    "execution": {
     "iopub.execute_input": "2025-07-30T12:49:42.677293Z",
     "iopub.status.busy": "2025-07-30T12:49:42.676599Z",
     "iopub.status.idle": "2025-07-30T12:49:42.683441Z",
     "shell.execute_reply": "2025-07-30T12:49:42.682479Z"
    },
    "papermill": {
     "duration": 0.027387,
     "end_time": "2025-07-30T12:49:42.685303",
     "exception": false,
     "start_time": "2025-07-30T12:49:42.657916",
     "status": "completed"
    },
    "tags": []
   },
   "outputs": [],
   "source": [
    "cp_metrics_dict = {\n",
    "    \"universe_id\": [universe_id],\n",
    "    \"universe_training_size\": [universe_training_size],\n",
    "    \"universe_scale\": [universe_scale],\n",
    "    \"universe_model\": [universe_model],\n",
    "    \"universe_exclude_features\": [universe_exclude_features],\n",
    "    \"universe_exclude_subgroups\": [universe_exclude_subgroups],\n",
    "    \"q_hat\": [q_hat],\n",
    "    \"coverage\": [metrics[\"coverage\"]],\n",
    "    \"avg_size\": [metrics[\"avg_size\"]],\n",
    "}"
   ]
  },
  {
   "cell_type": "code",
   "execution_count": 59,
   "id": "908acbb1-0371-4915-85ca-3fa520d2efe2",
   "metadata": {
    "execution": {
     "iopub.execute_input": "2025-07-30T12:49:42.739344Z",
     "iopub.status.busy": "2025-07-30T12:49:42.738465Z",
     "iopub.status.idle": "2025-07-30T12:49:42.746294Z",
     "shell.execute_reply": "2025-07-30T12:49:42.745387Z"
    },
    "papermill": {
     "duration": 0.034476,
     "end_time": "2025-07-30T12:49:42.747911",
     "exception": false,
     "start_time": "2025-07-30T12:49:42.713435",
     "status": "completed"
    },
    "tags": []
   },
   "outputs": [
    {
     "data": {
      "text/plain": [
       "{'universe_id': ['85de1045f7e178ec2a7da33c4c80336a'],\n",
       " 'universe_training_size': ['25k'],\n",
       " 'universe_scale': ['scale'],\n",
       " 'universe_model': ['rf'],\n",
       " 'universe_exclude_features': ['age'],\n",
       " 'universe_exclude_subgroups': ['keep-all'],\n",
       " 'q_hat': [0.6699999999999999],\n",
       " 'coverage': [0.914892431167094],\n",
       " 'avg_size': [1.1441087950061308]}"
      ]
     },
     "execution_count": 59,
     "metadata": {},
     "output_type": "execute_result"
    }
   ],
   "source": [
    "cp_metrics_dict"
   ]
  },
  {
   "cell_type": "code",
   "execution_count": 60,
   "id": "33007efc-14e9-4ec6-97ac-56a455c82265",
   "metadata": {
    "execution": {
     "iopub.execute_input": "2025-07-30T12:49:42.802760Z",
     "iopub.status.busy": "2025-07-30T12:49:42.801912Z",
     "iopub.status.idle": "2025-07-30T12:49:42.808917Z",
     "shell.execute_reply": "2025-07-30T12:49:42.807823Z"
    },
    "papermill": {
     "duration": 0.036391,
     "end_time": "2025-07-30T12:49:42.810648",
     "exception": false,
     "start_time": "2025-07-30T12:49:42.774257",
     "status": "completed"
    },
    "tags": []
   },
   "outputs": [],
   "source": [
    "cp_metrics_df = pd.DataFrame(cp_metrics_dict)"
   ]
  },
  {
   "cell_type": "code",
   "execution_count": 61,
   "id": "db12611b-57b2-4910-b9d0-355adfd6e7bf",
   "metadata": {
    "execution": {
     "iopub.execute_input": "2025-07-30T12:49:42.875043Z",
     "iopub.status.busy": "2025-07-30T12:49:42.874487Z",
     "iopub.status.idle": "2025-07-30T12:49:42.895205Z",
     "shell.execute_reply": "2025-07-30T12:49:42.894252Z"
    },
    "papermill": {
     "duration": 0.0544,
     "end_time": "2025-07-30T12:49:42.896634",
     "exception": false,
     "start_time": "2025-07-30T12:49:42.842234",
     "status": "completed"
    },
    "tags": []
   },
   "outputs": [
    {
     "data": {
      "text/html": [
       "<div>\n",
       "<style scoped>\n",
       "    .dataframe tbody tr th:only-of-type {\n",
       "        vertical-align: middle;\n",
       "    }\n",
       "\n",
       "    .dataframe tbody tr th {\n",
       "        vertical-align: top;\n",
       "    }\n",
       "\n",
       "    .dataframe thead th {\n",
       "        text-align: right;\n",
       "    }\n",
       "</style>\n",
       "<table border=\"1\" class=\"dataframe\">\n",
       "  <thead>\n",
       "    <tr style=\"text-align: right;\">\n",
       "      <th></th>\n",
       "      <th>universe_id</th>\n",
       "      <th>universe_training_size</th>\n",
       "      <th>universe_scale</th>\n",
       "      <th>universe_model</th>\n",
       "      <th>universe_exclude_features</th>\n",
       "      <th>universe_exclude_subgroups</th>\n",
       "      <th>q_hat</th>\n",
       "      <th>coverage</th>\n",
       "      <th>avg_size</th>\n",
       "    </tr>\n",
       "  </thead>\n",
       "  <tbody>\n",
       "    <tr>\n",
       "      <th>0</th>\n",
       "      <td>85de1045f7e178ec2a7da33c4c80336a</td>\n",
       "      <td>25k</td>\n",
       "      <td>scale</td>\n",
       "      <td>rf</td>\n",
       "      <td>age</td>\n",
       "      <td>keep-all</td>\n",
       "      <td>0.67</td>\n",
       "      <td>0.914892</td>\n",
       "      <td>1.144109</td>\n",
       "    </tr>\n",
       "  </tbody>\n",
       "</table>\n",
       "</div>"
      ],
      "text/plain": [
       "                        universe_id universe_training_size universe_scale  \\\n",
       "0  85de1045f7e178ec2a7da33c4c80336a                    25k          scale   \n",
       "\n",
       "  universe_model universe_exclude_features universe_exclude_subgroups  q_hat  \\\n",
       "0             rf                       age                   keep-all   0.67   \n",
       "\n",
       "   coverage  avg_size  \n",
       "0  0.914892  1.144109  "
      ]
     },
     "execution_count": 61,
     "metadata": {},
     "output_type": "execute_result"
    }
   ],
   "source": [
    "cp_metrics_df"
   ]
  },
  {
   "cell_type": "code",
   "execution_count": 62,
   "id": "b7fbde55-a0a1-47e4-9af6-fe4a17fa8c61",
   "metadata": {
    "execution": {
     "iopub.execute_input": "2025-07-30T12:49:42.927883Z",
     "iopub.status.busy": "2025-07-30T12:49:42.927566Z",
     "iopub.status.idle": "2025-07-30T12:49:42.932800Z",
     "shell.execute_reply": "2025-07-30T12:49:42.931679Z"
    },
    "papermill": {
     "duration": 0.026075,
     "end_time": "2025-07-30T12:49:42.938239",
     "exception": false,
     "start_time": "2025-07-30T12:49:42.912164",
     "status": "completed"
    },
    "tags": []
   },
   "outputs": [],
   "source": [
    "# Conditional Coverage & looking at subgroups"
   ]
  },
  {
   "cell_type": "code",
   "execution_count": 63,
   "id": "027ae886-68dd-4141-96c7-805a5450e1ef",
   "metadata": {
    "execution": {
     "iopub.execute_input": "2025-07-30T12:49:42.991175Z",
     "iopub.status.busy": "2025-07-30T12:49:42.990693Z",
     "iopub.status.idle": "2025-07-30T12:49:43.294495Z",
     "shell.execute_reply": "2025-07-30T12:49:43.293517Z"
    },
    "papermill": {
     "duration": 0.330094,
     "end_time": "2025-07-30T12:49:43.296447",
     "exception": false,
     "start_time": "2025-07-30T12:49:42.966353",
     "status": "completed"
    },
    "tags": []
   },
   "outputs": [],
   "source": [
    "from fairness_multiverse.conformal import build_cp_groups\n",
    "\n",
    "cp_groups_df = build_cp_groups(pred_sets, y_true, X_test.index, org_test)\n",
    "#needs universe_id and setting"
   ]
  },
  {
   "cell_type": "code",
   "execution_count": 64,
   "id": "01d5802c-663a-4d1f-9d69-e036faaffbf7",
   "metadata": {
    "execution": {
     "iopub.execute_input": "2025-07-30T12:49:43.353761Z",
     "iopub.status.busy": "2025-07-30T12:49:43.353231Z",
     "iopub.status.idle": "2025-07-30T12:49:43.358161Z",
     "shell.execute_reply": "2025-07-30T12:49:43.357188Z"
    },
    "papermill": {
     "duration": 0.035426,
     "end_time": "2025-07-30T12:49:43.360064",
     "exception": false,
     "start_time": "2025-07-30T12:49:43.324638",
     "status": "completed"
    },
    "tags": []
   },
   "outputs": [],
   "source": [
    "#delete\n",
    "#cp_groups_df"
   ]
  },
  {
   "cell_type": "code",
   "execution_count": 65,
   "id": "fa424af1-d1eb-443d-b717-2d279ada8408",
   "metadata": {
    "execution": {
     "iopub.execute_input": "2025-07-30T12:49:43.419089Z",
     "iopub.status.busy": "2025-07-30T12:49:43.418356Z",
     "iopub.status.idle": "2025-07-30T12:49:43.423714Z",
     "shell.execute_reply": "2025-07-30T12:49:43.422757Z"
    },
    "papermill": {
     "duration": 0.036385,
     "end_time": "2025-07-30T12:49:43.425471",
     "exception": false,
     "start_time": "2025-07-30T12:49:43.389086",
     "status": "completed"
    },
    "tags": []
   },
   "outputs": [],
   "source": [
    "#delete\n",
    "#percentage = (cp_groups_df['nongerman_female'] == 1).mean() * 100\n",
    "#print(percentage)\n"
   ]
  },
  {
   "cell_type": "code",
   "execution_count": 66,
   "id": "6cbdab96-b2b2-45af-ad54-d0516db2e28d",
   "metadata": {
    "execution": {
     "iopub.execute_input": "2025-07-30T12:49:43.482637Z",
     "iopub.status.busy": "2025-07-30T12:49:43.481939Z",
     "iopub.status.idle": "2025-07-30T12:49:44.599066Z",
     "shell.execute_reply": "2025-07-30T12:49:44.598149Z"
    },
    "papermill": {
     "duration": 1.147478,
     "end_time": "2025-07-30T12:49:44.600685",
     "exception": false,
     "start_time": "2025-07-30T12:49:43.453207",
     "status": "completed"
    },
    "tags": []
   },
   "outputs": [],
   "source": [
    "# Define covered = 1 if true_label is in the predicted set\n",
    "cp_groups_df['covered'] = cp_groups_df.apply(\n",
    "    lambda r: int(r['true_label'] in r['pred_set']),\n",
    "    axis=1\n",
    ")"
   ]
  },
  {
   "cell_type": "code",
   "execution_count": 67,
   "id": "338ff529-1a6b-4b87-a931-8e4788d52aad",
   "metadata": {
    "execution": {
     "iopub.execute_input": "2025-07-30T12:49:44.633977Z",
     "iopub.status.busy": "2025-07-30T12:49:44.633543Z",
     "iopub.status.idle": "2025-07-30T12:49:44.638297Z",
     "shell.execute_reply": "2025-07-30T12:49:44.637568Z"
    },
    "papermill": {
     "duration": 0.023605,
     "end_time": "2025-07-30T12:49:44.639678",
     "exception": false,
     "start_time": "2025-07-30T12:49:44.616073",
     "status": "completed"
    },
    "tags": []
   },
   "outputs": [],
   "source": [
    "#cp_groups_df"
   ]
  },
  {
   "cell_type": "code",
   "execution_count": 68,
   "id": "90032e27-66df-4540-9169-4e89cfbaa758",
   "metadata": {
    "execution": {
     "iopub.execute_input": "2025-07-30T12:49:44.672829Z",
     "iopub.status.busy": "2025-07-30T12:49:44.672155Z",
     "iopub.status.idle": "2025-07-30T12:49:44.682786Z",
     "shell.execute_reply": "2025-07-30T12:49:44.682033Z"
    },
    "papermill": {
     "duration": 0.029161,
     "end_time": "2025-07-30T12:49:44.684149",
     "exception": false,
     "start_time": "2025-07-30T12:49:44.654988",
     "status": "completed"
    },
    "tags": []
   },
   "outputs": [],
   "source": [
    "subgroups = ['frau1','nongerman','nongerman_male','nongerman_female']\n",
    "\n",
    "# Conditional coverage for subgroup==1\n",
    "cond_coverage = {\n",
    "    g: cp_groups_df.loc[cp_groups_df[g]==1, 'covered'].mean()\n",
    "    for g in subgroups\n",
    "}"
   ]
  },
  {
   "cell_type": "code",
   "execution_count": 69,
   "id": "1e348fb1-b9c3-45bc-ba23-f016827a7e0d",
   "metadata": {
    "execution": {
     "iopub.execute_input": "2025-07-30T12:49:44.714291Z",
     "iopub.status.busy": "2025-07-30T12:49:44.713872Z",
     "iopub.status.idle": "2025-07-30T12:49:44.720797Z",
     "shell.execute_reply": "2025-07-30T12:49:44.719966Z"
    },
    "papermill": {
     "duration": 0.022896,
     "end_time": "2025-07-30T12:49:44.722069",
     "exception": false,
     "start_time": "2025-07-30T12:49:44.699173",
     "status": "completed"
    },
    "tags": []
   },
   "outputs": [
    {
     "data": {
      "text/plain": [
       "{'frau1': 0.9144359078042863,\n",
       " 'nongerman': 0.9127042047942514,\n",
       " 'nongerman_male': 0.9265063496352337,\n",
       " 'nongerman_female': 0.889865871833085}"
      ]
     },
     "execution_count": 69,
     "metadata": {},
     "output_type": "execute_result"
    }
   ],
   "source": [
    "cond_coverage"
   ]
  },
  {
   "cell_type": "code",
   "execution_count": 70,
   "id": "f5093324-c3dd-4d63-bc4c-8d945e5c8bbb",
   "metadata": {
    "execution": {
     "iopub.execute_input": "2025-07-30T12:49:44.755760Z",
     "iopub.status.busy": "2025-07-30T12:49:44.755235Z",
     "iopub.status.idle": "2025-07-30T12:49:44.761605Z",
     "shell.execute_reply": "2025-07-30T12:49:44.760699Z"
    },
    "papermill": {
     "duration": 0.023984,
     "end_time": "2025-07-30T12:49:44.762967",
     "exception": false,
     "start_time": "2025-07-30T12:49:44.738983",
     "status": "completed"
    },
    "tags": []
   },
   "outputs": [],
   "source": [
    "for subgroup, cov in cond_coverage.items():\n",
    "    cp_metrics_df[f\"cov_{subgroup}\"] = cov"
   ]
  },
  {
   "cell_type": "code",
   "execution_count": 71,
   "id": "6e872e10-dbe5-49e8-b554-5030c98ff75d",
   "metadata": {
    "execution": {
     "iopub.execute_input": "2025-07-30T12:49:44.830784Z",
     "iopub.status.busy": "2025-07-30T12:49:44.830282Z",
     "iopub.status.idle": "2025-07-30T12:49:44.847850Z",
     "shell.execute_reply": "2025-07-30T12:49:44.846976Z"
    },
    "papermill": {
     "duration": 0.070657,
     "end_time": "2025-07-30T12:49:44.849196",
     "exception": false,
     "start_time": "2025-07-30T12:49:44.778539",
     "status": "completed"
    },
    "tags": []
   },
   "outputs": [
    {
     "data": {
      "text/html": [
       "<div>\n",
       "<style scoped>\n",
       "    .dataframe tbody tr th:only-of-type {\n",
       "        vertical-align: middle;\n",
       "    }\n",
       "\n",
       "    .dataframe tbody tr th {\n",
       "        vertical-align: top;\n",
       "    }\n",
       "\n",
       "    .dataframe thead th {\n",
       "        text-align: right;\n",
       "    }\n",
       "</style>\n",
       "<table border=\"1\" class=\"dataframe\">\n",
       "  <thead>\n",
       "    <tr style=\"text-align: right;\">\n",
       "      <th></th>\n",
       "      <th>universe_id</th>\n",
       "      <th>universe_training_size</th>\n",
       "      <th>universe_scale</th>\n",
       "      <th>universe_model</th>\n",
       "      <th>universe_exclude_features</th>\n",
       "      <th>universe_exclude_subgroups</th>\n",
       "      <th>q_hat</th>\n",
       "      <th>coverage</th>\n",
       "      <th>avg_size</th>\n",
       "      <th>cov_frau1</th>\n",
       "      <th>cov_nongerman</th>\n",
       "      <th>cov_nongerman_male</th>\n",
       "      <th>cov_nongerman_female</th>\n",
       "    </tr>\n",
       "  </thead>\n",
       "  <tbody>\n",
       "    <tr>\n",
       "      <th>0</th>\n",
       "      <td>85de1045f7e178ec2a7da33c4c80336a</td>\n",
       "      <td>25k</td>\n",
       "      <td>scale</td>\n",
       "      <td>rf</td>\n",
       "      <td>age</td>\n",
       "      <td>keep-all</td>\n",
       "      <td>0.67</td>\n",
       "      <td>0.914892</td>\n",
       "      <td>1.144109</td>\n",
       "      <td>0.914436</td>\n",
       "      <td>0.912704</td>\n",
       "      <td>0.926506</td>\n",
       "      <td>0.889866</td>\n",
       "    </tr>\n",
       "  </tbody>\n",
       "</table>\n",
       "</div>"
      ],
      "text/plain": [
       "                        universe_id universe_training_size universe_scale  \\\n",
       "0  85de1045f7e178ec2a7da33c4c80336a                    25k          scale   \n",
       "\n",
       "  universe_model universe_exclude_features universe_exclude_subgroups  q_hat  \\\n",
       "0             rf                       age                   keep-all   0.67   \n",
       "\n",
       "   coverage  avg_size  cov_frau1  cov_nongerman  cov_nongerman_male  \\\n",
       "0  0.914892  1.144109   0.914436       0.912704            0.926506   \n",
       "\n",
       "   cov_nongerman_female  \n",
       "0              0.889866  "
      ]
     },
     "execution_count": 71,
     "metadata": {},
     "output_type": "execute_result"
    }
   ],
   "source": [
    "cp_metrics_df"
   ]
  },
  {
   "cell_type": "markdown",
   "id": "33774451",
   "metadata": {
    "papermill": {
     "duration": 0.0147,
     "end_time": "2025-07-30T12:49:44.879864",
     "exception": false,
     "start_time": "2025-07-30T12:49:44.865164",
     "status": "completed"
    },
    "tags": []
   },
   "source": [
    "# (Fairness) Metrics"
   ]
  },
  {
   "cell_type": "code",
   "execution_count": 72,
   "id": "debc5d62",
   "metadata": {
    "execution": {
     "iopub.execute_input": "2025-07-30T12:49:44.910468Z",
     "iopub.status.busy": "2025-07-30T12:49:44.910058Z",
     "iopub.status.idle": "2025-07-30T12:49:44.925197Z",
     "shell.execute_reply": "2025-07-30T12:49:44.924429Z"
    },
    "papermill": {
     "duration": 0.031813,
     "end_time": "2025-07-30T12:49:44.926562",
     "exception": false,
     "start_time": "2025-07-30T12:49:44.894749",
     "status": "completed"
    },
    "tags": []
   },
   "outputs": [],
   "source": [
    "# do I need to include maxdeutsch1.missing?\n",
    "\n",
    "import numpy as np\n",
    "\n",
    "colname_to_bin = \"maxdeutsch1\"\n",
    "majority_value = org_train[colname_to_bin].mode()[0]\n",
    "\n",
    "org_test[\"majmin\"] = np.where(org_test[colname_to_bin] == majority_value, \"majority\", \"minority\")"
   ]
  },
  {
   "cell_type": "code",
   "execution_count": 73,
   "id": "06a50de5",
   "metadata": {
    "execution": {
     "iopub.execute_input": "2025-07-30T12:49:45.024731Z",
     "iopub.status.busy": "2025-07-30T12:49:45.023997Z",
     "iopub.status.idle": "2025-07-30T12:49:46.982676Z",
     "shell.execute_reply": "2025-07-30T12:49:46.981954Z"
    },
    "papermill": {
     "duration": 1.978837,
     "end_time": "2025-07-30T12:49:46.984180",
     "exception": false,
     "start_time": "2025-07-30T12:49:45.005343",
     "status": "completed"
    },
    "tags": []
   },
   "outputs": [],
   "source": [
    "example_universe = universe.copy()\n",
    "example_universe[\"cutoff\"] = example_universe[\"cutoff\"][0]\n",
    "example_universe[\"eval_fairness_grouping\"] = example_universe[\"eval_fairness_grouping\"][0]\n",
    "fairness_dict, metric_frame = universe_analysis.compute_metrics(\n",
    "    example_universe,\n",
    "    y_pred_prob=probs_test,\n",
    "    y_test=y_true,\n",
    "    org_test=org_test,\n",
    ")"
   ]
  },
  {
   "cell_type": "markdown",
   "id": "f95d4e02",
   "metadata": {
    "papermill": {
     "duration": 0.022155,
     "end_time": "2025-07-30T12:49:47.020995",
     "exception": false,
     "start_time": "2025-07-30T12:49:46.998840",
     "status": "completed"
    },
    "tags": []
   },
   "source": [
    "# Overall"
   ]
  },
  {
   "cell_type": "markdown",
   "id": "bdee4871",
   "metadata": {
    "papermill": {
     "duration": 0.037782,
     "end_time": "2025-07-30T12:49:47.096425",
     "exception": false,
     "start_time": "2025-07-30T12:49:47.058643",
     "status": "completed"
    },
    "tags": []
   },
   "source": [
    "Fairness\n",
    "Main fairness target: Equalized Odds. Seems to be a better fit than equal opportunity, since we're not only interested in Y = 1. Seems to be a better fit than demographic parity, since we also care about accuracy, not just equal distribution of preds.\n",
    "\n",
    "Pick column for computation of fairness metrics\n",
    "\n",
    "Performance\n",
    "Overall performance measures, most interesting in relation to the measures split by group below"
   ]
  },
  {
   "cell_type": "code",
   "execution_count": 74,
   "id": "c4e067c6",
   "metadata": {
    "execution": {
     "iopub.execute_input": "2025-07-30T12:49:47.169174Z",
     "iopub.status.busy": "2025-07-30T12:49:47.168280Z",
     "iopub.status.idle": "2025-07-30T12:49:47.178498Z",
     "shell.execute_reply": "2025-07-30T12:49:47.177427Z"
    },
    "papermill": {
     "duration": 0.049407,
     "end_time": "2025-07-30T12:49:47.180223",
     "exception": false,
     "start_time": "2025-07-30T12:49:47.130816",
     "status": "completed"
    },
    "tags": []
   },
   "outputs": [
    {
     "data": {
      "text/plain": [
       "accuracy                   0.196333\n",
       "balanced accuracy          0.532364\n",
       "f1                         0.239106\n",
       "precision                  0.136080\n",
       "false positive rate        0.919631\n",
       "false negative rate        0.015641\n",
       "selection rate             0.927934\n",
       "count                  89710.000000\n",
       "dtype: float64"
      ]
     },
     "execution_count": 74,
     "metadata": {},
     "output_type": "execute_result"
    }
   ],
   "source": [
    "metric_frame.overall"
   ]
  },
  {
   "cell_type": "markdown",
   "id": "e968fe9d",
   "metadata": {
    "papermill": {
     "duration": 0.03033,
     "end_time": "2025-07-30T12:49:47.240008",
     "exception": false,
     "start_time": "2025-07-30T12:49:47.209678",
     "status": "completed"
    },
    "tags": []
   },
   "source": [
    "By Group"
   ]
  },
  {
   "cell_type": "code",
   "execution_count": 75,
   "id": "ec325bce",
   "metadata": {
    "execution": {
     "iopub.execute_input": "2025-07-30T12:49:47.275866Z",
     "iopub.status.busy": "2025-07-30T12:49:47.275371Z",
     "iopub.status.idle": "2025-07-30T12:49:47.288288Z",
     "shell.execute_reply": "2025-07-30T12:49:47.287542Z"
    },
    "papermill": {
     "duration": 0.029585,
     "end_time": "2025-07-30T12:49:47.289735",
     "exception": false,
     "start_time": "2025-07-30T12:49:47.260150",
     "status": "completed"
    },
    "tags": []
   },
   "outputs": [
    {
     "data": {
      "text/html": [
       "<div>\n",
       "<style scoped>\n",
       "    .dataframe tbody tr th:only-of-type {\n",
       "        vertical-align: middle;\n",
       "    }\n",
       "\n",
       "    .dataframe tbody tr th {\n",
       "        vertical-align: top;\n",
       "    }\n",
       "\n",
       "    .dataframe thead th {\n",
       "        text-align: right;\n",
       "    }\n",
       "</style>\n",
       "<table border=\"1\" class=\"dataframe\">\n",
       "  <thead>\n",
       "    <tr style=\"text-align: right;\">\n",
       "      <th></th>\n",
       "      <th>accuracy</th>\n",
       "      <th>balanced accuracy</th>\n",
       "      <th>f1</th>\n",
       "      <th>precision</th>\n",
       "      <th>false positive rate</th>\n",
       "      <th>false negative rate</th>\n",
       "      <th>selection rate</th>\n",
       "      <th>count</th>\n",
       "    </tr>\n",
       "    <tr>\n",
       "      <th>majmin</th>\n",
       "      <th></th>\n",
       "      <th></th>\n",
       "      <th></th>\n",
       "      <th></th>\n",
       "      <th></th>\n",
       "      <th></th>\n",
       "      <th></th>\n",
       "      <th></th>\n",
       "    </tr>\n",
       "  </thead>\n",
       "  <tbody>\n",
       "    <tr>\n",
       "      <th>majority</th>\n",
       "      <td>0.193191</td>\n",
       "      <td>0.531047</td>\n",
       "      <td>0.244923</td>\n",
       "      <td>0.139743</td>\n",
       "      <td>0.928169</td>\n",
       "      <td>0.009737</td>\n",
       "      <td>0.936374</td>\n",
       "      <td>69170.0</td>\n",
       "    </tr>\n",
       "    <tr>\n",
       "      <th>minority</th>\n",
       "      <td>0.206913</td>\n",
       "      <td>0.535072</td>\n",
       "      <td>0.218480</td>\n",
       "      <td>0.123241</td>\n",
       "      <td>0.891426</td>\n",
       "      <td>0.038429</td>\n",
       "      <td>0.899513</td>\n",
       "      <td>20540.0</td>\n",
       "    </tr>\n",
       "  </tbody>\n",
       "</table>\n",
       "</div>"
      ],
      "text/plain": [
       "          accuracy  balanced accuracy        f1  precision  \\\n",
       "majmin                                                       \n",
       "majority  0.193191           0.531047  0.244923   0.139743   \n",
       "minority  0.206913           0.535072  0.218480   0.123241   \n",
       "\n",
       "          false positive rate  false negative rate  selection rate    count  \n",
       "majmin                                                                       \n",
       "majority             0.928169             0.009737        0.936374  69170.0  \n",
       "minority             0.891426             0.038429        0.899513  20540.0  "
      ]
     },
     "execution_count": 75,
     "metadata": {},
     "output_type": "execute_result"
    }
   ],
   "source": [
    "metric_frame.by_group"
   ]
  },
  {
   "cell_type": "code",
   "execution_count": 76,
   "id": "a9ddbe63",
   "metadata": {
    "execution": {
     "iopub.execute_input": "2025-07-30T12:49:47.340823Z",
     "iopub.status.busy": "2025-07-30T12:49:47.339857Z",
     "iopub.status.idle": "2025-07-30T12:49:49.642224Z",
     "shell.execute_reply": "2025-07-30T12:49:49.641292Z"
    },
    "papermill": {
     "duration": 2.335192,
     "end_time": "2025-07-30T12:49:49.643954",
     "exception": false,
     "start_time": "2025-07-30T12:49:47.308762",
     "status": "completed"
    },
    "tags": []
   },
   "outputs": [
    {
     "data": {
      "text/plain": [
       "array([[<Axes: title={'center': 'accuracy'}, xlabel='majmin'>,\n",
       "        <Axes: title={'center': 'balanced accuracy'}, xlabel='majmin'>,\n",
       "        <Axes: title={'center': 'f1'}, xlabel='majmin'>],\n",
       "       [<Axes: title={'center': 'precision'}, xlabel='majmin'>,\n",
       "        <Axes: title={'center': 'false positive rate'}, xlabel='majmin'>,\n",
       "        <Axes: title={'center': 'false negative rate'}, xlabel='majmin'>],\n",
       "       [<Axes: title={'center': 'selection rate'}, xlabel='majmin'>,\n",
       "        <Axes: title={'center': 'count'}, xlabel='majmin'>,\n",
       "        <Axes: xlabel='majmin'>]], dtype=object)"
      ]
     },
     "execution_count": 76,
     "metadata": {},
     "output_type": "execute_result"
    },
    {
     "data": {
      "image/png": "[encoded data removed]",
      "text/plain": [
       "<Figure size 1200x800 with 9 Axes>"
      ]
     },
     "metadata": {},
     "output_type": "display_data"
    }
   ],
   "source": [
    "# In a graphic\n",
    "metric_frame.by_group.plot.bar(\n",
    "    subplots=True,\n",
    "    layout=[3, 3],\n",
    "    legend=False,\n",
    "    figsize=[12, 8],\n",
    "    title=\"Show all metrics\",\n",
    ")"
   ]
  },
  {
   "cell_type": "markdown",
   "id": "f57a0bac",
   "metadata": {
    "papermill": {
     "duration": 0.030534,
     "end_time": "2025-07-30T12:49:49.705251",
     "exception": false,
     "start_time": "2025-07-30T12:49:49.674717",
     "status": "completed"
    },
    "tags": []
   },
   "source": [
    "# Final Output"
   ]
  },
  {
   "cell_type": "code",
   "execution_count": 77,
   "id": "96d280a3",
   "metadata": {
    "execution": {
     "iopub.execute_input": "2025-07-30T12:49:49.769097Z",
     "iopub.status.busy": "2025-07-30T12:49:49.767918Z",
     "iopub.status.idle": "2025-07-30T12:49:49.775968Z",
     "shell.execute_reply": "2025-07-30T12:49:49.775059Z"
    },
    "papermill": {
     "duration": 0.042126,
     "end_time": "2025-07-30T12:49:49.777626",
     "exception": false,
     "start_time": "2025-07-30T12:49:49.735500",
     "status": "completed"
    },
    "tags": []
   },
   "outputs": [
    {
     "data": {
      "text/plain": [
       "4"
      ]
     },
     "execution_count": 77,
     "metadata": {},
     "output_type": "execute_result"
    }
   ],
   "source": [
    "sub_universes = universe_analysis.generate_sub_universes()\n",
    "len(sub_universes)"
   ]
  },
  {
   "cell_type": "code",
   "execution_count": 78,
   "id": "92adf7ba",
   "metadata": {
    "execution": {
     "iopub.execute_input": "2025-07-30T12:49:49.841472Z",
     "iopub.status.busy": "2025-07-30T12:49:49.840904Z",
     "iopub.status.idle": "2025-07-30T12:49:49.847153Z",
     "shell.execute_reply": "2025-07-30T12:49:49.846206Z"
    },
    "papermill": {
     "duration": 0.040328,
     "end_time": "2025-07-30T12:49:49.849151",
     "exception": false,
     "start_time": "2025-07-30T12:49:49.808823",
     "status": "completed"
    },
    "tags": []
   },
   "outputs": [],
   "source": [
    "def filter_sub_universe_data(sub_universe, org_test):\n",
    "    # Keep all rows — no filtering\n",
    "    keep_rows_mask = np.ones(org_test.shape[0], dtype=bool)\n",
    "\n",
    "    print(f\"[INFO] Keeping all rows: {keep_rows_mask.sum()} rows retained.\")\n",
    "    return keep_rows_mask"
   ]
  },
  {
   "cell_type": "code",
   "execution_count": 79,
   "id": "4a759155",
   "metadata": {
    "execution": {
     "iopub.execute_input": "2025-07-30T12:49:49.912884Z",
     "iopub.status.busy": "2025-07-30T12:49:49.912286Z",
     "iopub.status.idle": "2025-07-30T12:50:01.346040Z",
     "shell.execute_reply": "2025-07-30T12:50:01.345100Z"
    },
    "papermill": {
     "duration": 11.467719,
     "end_time": "2025-07-30T12:50:01.347736",
     "exception": false,
     "start_time": "2025-07-30T12:49:49.880017",
     "status": "completed"
    },
    "tags": []
   },
   "outputs": [
    {
     "name": "stdout",
     "output_type": "stream",
     "text": [
      "Stopping execution_time clock.\n",
      "[INFO] Keeping all rows: 89710 rows retained.\n"
     ]
    },
    {
     "name": "stdout",
     "output_type": "stream",
     "text": [
      "[INFO] Keeping all rows: 89710 rows retained.\n"
     ]
    },
    {
     "name": "stdout",
     "output_type": "stream",
     "text": [
      "[INFO] Keeping all rows: 89710 rows retained.\n"
     ]
    },
    {
     "name": "stdout",
     "output_type": "stream",
     "text": [
      "[INFO] Keeping all rows: 89710 rows retained.\n"
     ]
    },
    {
     "data": {
      "text/html": [
       "<div>\n",
       "<style scoped>\n",
       "    .dataframe tbody tr th:only-of-type {\n",
       "        vertical-align: middle;\n",
       "    }\n",
       "\n",
       "    .dataframe tbody tr th {\n",
       "        vertical-align: top;\n",
       "    }\n",
       "\n",
       "    .dataframe thead th {\n",
       "        text-align: right;\n",
       "    }\n",
       "</style>\n",
       "<table border=\"1\" class=\"dataframe\">\n",
       "  <thead>\n",
       "    <tr style=\"text-align: right;\">\n",
       "      <th></th>\n",
       "      <th>run_no</th>\n",
       "      <th>universe_id</th>\n",
       "      <th>universe_settings</th>\n",
       "      <th>execution_time</th>\n",
       "      <th>test_size_n</th>\n",
       "      <th>test_size_frac</th>\n",
       "      <th>fair_main_equalized_odds_difference</th>\n",
       "      <th>fair_main_equalized_odds_ratio</th>\n",
       "      <th>fair_main_demographic_parity_difference</th>\n",
       "      <th>fair_main_demographic_parity_ratio</th>\n",
       "      <th>...</th>\n",
       "      <th>perf_grp_precision_0</th>\n",
       "      <th>perf_grp_precision_1</th>\n",
       "      <th>perf_grp_false positive rate_0</th>\n",
       "      <th>perf_grp_false positive rate_1</th>\n",
       "      <th>perf_grp_false negative rate_0</th>\n",
       "      <th>perf_grp_false negative rate_1</th>\n",
       "      <th>perf_grp_selection rate_0</th>\n",
       "      <th>perf_grp_selection rate_1</th>\n",
       "      <th>perf_grp_count_0</th>\n",
       "      <th>perf_grp_count_1</th>\n",
       "    </tr>\n",
       "  </thead>\n",
       "  <tbody>\n",
       "    <tr>\n",
       "      <th>0</th>\n",
       "      <td>12</td>\n",
       "      <td>85de1045f7e178ec2a7da33c4c80336a</td>\n",
       "      <td>{\"cutoff\": \"quantile_0.1\", \"eval_fairness_grou...</td>\n",
       "      <td>34.835139</td>\n",
       "      <td>89710</td>\n",
       "      <td>1.0</td>\n",
       "      <td>0.036743</td>\n",
       "      <td>0.960414</td>\n",
       "      <td>0.036861</td>\n",
       "      <td>0.960634</td>\n",
       "      <td>...</td>\n",
       "      <td>NaN</td>\n",
       "      <td>NaN</td>\n",
       "      <td>NaN</td>\n",
       "      <td>NaN</td>\n",
       "      <td>NaN</td>\n",
       "      <td>NaN</td>\n",
       "      <td>NaN</td>\n",
       "      <td>NaN</td>\n",
       "      <td>NaN</td>\n",
       "      <td>NaN</td>\n",
       "    </tr>\n",
       "    <tr>\n",
       "      <th>0</th>\n",
       "      <td>12</td>\n",
       "      <td>85de1045f7e178ec2a7da33c4c80336a</td>\n",
       "      <td>{\"cutoff\": \"quantile_0.1\", \"eval_fairness_grou...</td>\n",
       "      <td>34.835139</td>\n",
       "      <td>89710</td>\n",
       "      <td>1.0</td>\n",
       "      <td>0.036743</td>\n",
       "      <td>0.960414</td>\n",
       "      <td>0.036861</td>\n",
       "      <td>0.960634</td>\n",
       "      <td>...</td>\n",
       "      <td>0.123241</td>\n",
       "      <td>0.139743</td>\n",
       "      <td>0.891426</td>\n",
       "      <td>0.928169</td>\n",
       "      <td>0.038429</td>\n",
       "      <td>0.009737</td>\n",
       "      <td>0.899513</td>\n",
       "      <td>0.936374</td>\n",
       "      <td>20540.0</td>\n",
       "      <td>69170.0</td>\n",
       "    </tr>\n",
       "    <tr>\n",
       "      <th>0</th>\n",
       "      <td>12</td>\n",
       "      <td>85de1045f7e178ec2a7da33c4c80336a</td>\n",
       "      <td>{\"cutoff\": \"quantile_0.25\", \"eval_fairness_gro...</td>\n",
       "      <td>34.835139</td>\n",
       "      <td>89710</td>\n",
       "      <td>1.0</td>\n",
       "      <td>0.056102</td>\n",
       "      <td>0.941317</td>\n",
       "      <td>0.027091</td>\n",
       "      <td>0.965136</td>\n",
       "      <td>...</td>\n",
       "      <td>NaN</td>\n",
       "      <td>NaN</td>\n",
       "      <td>NaN</td>\n",
       "      <td>NaN</td>\n",
       "      <td>NaN</td>\n",
       "      <td>NaN</td>\n",
       "      <td>NaN</td>\n",
       "      <td>NaN</td>\n",
       "      <td>NaN</td>\n",
       "      <td>NaN</td>\n",
       "    </tr>\n",
       "    <tr>\n",
       "      <th>0</th>\n",
       "      <td>12</td>\n",
       "      <td>85de1045f7e178ec2a7da33c4c80336a</td>\n",
       "      <td>{\"cutoff\": \"quantile_0.25\", \"eval_fairness_gro...</td>\n",
       "      <td>34.835139</td>\n",
       "      <td>89710</td>\n",
       "      <td>1.0</td>\n",
       "      <td>0.056102</td>\n",
       "      <td>0.941317</td>\n",
       "      <td>0.027091</td>\n",
       "      <td>0.965136</td>\n",
       "      <td>...</td>\n",
       "      <td>0.138341</td>\n",
       "      <td>0.162573</td>\n",
       "      <td>0.730409</td>\n",
       "      <td>0.749792</td>\n",
       "      <td>0.100084</td>\n",
       "      <td>0.043982</td>\n",
       "      <td>0.749951</td>\n",
       "      <td>0.777042</td>\n",
       "      <td>20540.0</td>\n",
       "      <td>69170.0</td>\n",
       "    </tr>\n",
       "  </tbody>\n",
       "</table>\n",
       "<p>4 rows × 50 columns</p>\n",
       "</div>"
      ],
      "text/plain": [
       "  run_no                       universe_id  \\\n",
       "0     12  85de1045f7e178ec2a7da33c4c80336a   \n",
       "0     12  85de1045f7e178ec2a7da33c4c80336a   \n",
       "0     12  85de1045f7e178ec2a7da33c4c80336a   \n",
       "0     12  85de1045f7e178ec2a7da33c4c80336a   \n",
       "\n",
       "                                   universe_settings  execution_time  \\\n",
       "0  {\"cutoff\": \"quantile_0.1\", \"eval_fairness_grou...       34.835139   \n",
       "0  {\"cutoff\": \"quantile_0.1\", \"eval_fairness_grou...       34.835139   \n",
       "0  {\"cutoff\": \"quantile_0.25\", \"eval_fairness_gro...       34.835139   \n",
       "0  {\"cutoff\": \"quantile_0.25\", \"eval_fairness_gro...       34.835139   \n",
       "\n",
       "   test_size_n  test_size_frac  fair_main_equalized_odds_difference  \\\n",
       "0        89710             1.0                             0.036743   \n",
       "0        89710             1.0                             0.036743   \n",
       "0        89710             1.0                             0.056102   \n",
       "0        89710             1.0                             0.056102   \n",
       "\n",
       "   fair_main_equalized_odds_ratio  fair_main_demographic_parity_difference  \\\n",
       "0                        0.960414                                 0.036861   \n",
       "0                        0.960414                                 0.036861   \n",
       "0                        0.941317                                 0.027091   \n",
       "0                        0.941317                                 0.027091   \n",
       "\n",
       "   fair_main_demographic_parity_ratio  ...  perf_grp_precision_0  \\\n",
       "0                            0.960634  ...                   NaN   \n",
       "0                            0.960634  ...              0.123241   \n",
       "0                            0.965136  ...                   NaN   \n",
       "0                            0.965136  ...              0.138341   \n",
       "\n",
       "   perf_grp_precision_1  perf_grp_false positive rate_0  \\\n",
       "0                   NaN                             NaN   \n",
       "0              0.139743                        0.891426   \n",
       "0                   NaN                             NaN   \n",
       "0              0.162573                        0.730409   \n",
       "\n",
       "   perf_grp_false positive rate_1  perf_grp_false negative rate_0  \\\n",
       "0                             NaN                             NaN   \n",
       "0                        0.928169                        0.038429   \n",
       "0                             NaN                             NaN   \n",
       "0                        0.749792                        0.100084   \n",
       "\n",
       "   perf_grp_false negative rate_1  perf_grp_selection rate_0  \\\n",
       "0                             NaN                        NaN   \n",
       "0                        0.009737                   0.899513   \n",
       "0                             NaN                        NaN   \n",
       "0                        0.043982                   0.749951   \n",
       "\n",
       "   perf_grp_selection rate_1  perf_grp_count_0  perf_grp_count_1  \n",
       "0                        NaN               NaN               NaN  \n",
       "0                   0.936374           20540.0           69170.0  \n",
       "0                        NaN               NaN               NaN  \n",
       "0                   0.777042           20540.0           69170.0  \n",
       "\n",
       "[4 rows x 50 columns]"
      ]
     },
     "execution_count": 79,
     "metadata": {},
     "output_type": "execute_result"
    }
   ],
   "source": [
    "final_output = universe_analysis.generate_final_output(\n",
    "    y_pred_prob=probs_test,\n",
    "    y_test=y_true,\n",
    "    org_test=org_test,\n",
    "    filter_data=filter_sub_universe_data,\n",
    "    cp_metrics_df=cp_metrics_df,\n",
    "    save=True,\n",
    ")\n",
    "final_output"
   ]
  },
  {
   "cell_type": "code",
   "execution_count": null,
   "id": "721ff514-cb11-46f8-b6fc-50392f74b5cb",
   "metadata": {
    "papermill": {
     "duration": 0.031491,
     "end_time": "2025-07-30T12:50:01.414929",
     "exception": false,
     "start_time": "2025-07-30T12:50:01.383438",
     "status": "completed"
    },
    "tags": []
   },
   "outputs": [],
   "source": []
  }
 ],
 "metadata": {
  "celltoolbar": "Tags",
  "kernelspec": {
   "display_name": "Python (CMA Fairness)",
   "language": "python",
   "name": "cma_fair_env"
  },
  "language_info": {
   "codemirror_mode": {
    "name": "ipython",
    "version": 3
   },
   "file_extension": ".py",
   "mimetype": "text/x-python",
   "name": "python",
   "nbconvert_exporter": "python",
   "pygments_lexer": "ipython3",
   "version": "3.10.12"
  },
  "papermill": {
   "default_parameters": {},
   "duration": 51.621635,
   "end_time": "2025-07-30T12:50:02.266492",
   "environment_variables": {},
   "exception": null,
   "input_path": "universe_analysis.ipynb",
   "output_path": "output/runs/12/notebooks/m_12-85de1045f7e178ec2a7da33c4c80336a.ipynb",
   "parameters": {
    "output_dir": "output",
    "run_no": "12",
    "seed": "2023",
    "universe": "{\"cutoff\": [\"quantile_0.1\", \"quantile_0.25\"], \"eval_fairness_grouping\": [\"majority-minority\", \"nationality-all\"], \"exclude_features\": \"age\", \"exclude_subgroups\": \"keep-all\", \"model\": \"rf\", \"scale\": \"scale\", \"training_size\": \"25k\", \"training_year\": \"2014\"}",
    "universe_id": "85de1045f7e178ec2a7da33c4c80336a"
   },
   "start_time": "2025-07-30T12:49:10.644857",
   "version": "2.6.0"
  }
 },
 "nbformat": 4,
 "nbformat_minor": 5
}