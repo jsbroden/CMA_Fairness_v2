{
 "cells": [
  {
   "cell_type": "code",
   "execution_count": 1,
   "id": "f159f837-637b-42ba-96b5-ec9a68c44524",
   "metadata": {
    "execution": {
     "iopub.execute_input": "2025-07-30T13:52:53.028587Z",
     "iopub.status.busy": "2025-07-30T13:52:53.027703Z",
     "iopub.status.idle": "2025-07-30T13:52:53.040498Z",
     "shell.execute_reply": "2025-07-30T13:52:53.039601Z"
    },
    "papermill": {
     "duration": 0.043767,
     "end_time": "2025-07-30T13:52:53.051773",
     "exception": false,
     "start_time": "2025-07-30T13:52:53.008006",
     "status": "completed"
    },
    "tags": []
   },
   "outputs": [
    {
     "name": "stdout",
     "output_type": "stream",
     "text": [
      "/dss/dsshome1/0C/ra93lal2/cma/CMA_Fairness_v2\n"
     ]
    },
    {
     "name": "stderr",
     "output_type": "stream",
     "text": [
      "/dss/dsshome1/0C/ra93lal2/.local/share/virtualenvs/CMA_Fairness_v2-3j10GkSs/lib/python3.10/site-packages/IPython/core/magics/osm.py:393: UserWarning: This is now an optional IPython functionality, using bookmarks requires you to install the `pickleshare` library.\n",
      "  bkms = self.shell.db.get('bookmarks', {})\n",
      "/dss/dsshome1/0C/ra93lal2/.local/share/virtualenvs/CMA_Fairness_v2-3j10GkSs/lib/python3.10/site-packages/IPython/core/magics/osm.py:417: UserWarning: This is now an optional IPython functionality, setting dhist requires you to install the `pickleshare` library.\n",
      "  self.shell.db['dhist'] = compress_dhist(dhist)[-100:]\n"
     ]
    }
   ],
   "source": [
    "%cd ~/cma/CMA_Fairness_v2"
   ]
  },
  {
   "cell_type": "markdown",
   "id": "de2603b9",
   "metadata": {
    "papermill": {
     "duration": 0.018436,
     "end_time": "2025-07-30T13:52:53.088761",
     "exception": false,
     "start_time": "2025-07-30T13:52:53.070325",
     "status": "completed"
    },
    "tags": []
   },
   "source": [
    "The following cell holds the definition of our parameters, these values can be overriden by rendering the with e.g. the following command:\n",
    "\n",
    "papermill -p alpha 0.2 -p ratio 0.3 universe_analysis.ipynb output/test_run.ipynb"
   ]
  },
  {
   "cell_type": "code",
   "execution_count": 2,
   "id": "a80968a0-40bb-4fa9-85ef-2d5eefb01975",
   "metadata": {
    "execution": {
     "iopub.execute_input": "2025-07-30T13:52:53.126263Z",
     "iopub.status.busy": "2025-07-30T13:52:53.125817Z",
     "iopub.status.idle": "2025-07-30T13:52:53.132962Z",
     "shell.execute_reply": "2025-07-30T13:52:53.132156Z"
    },
    "papermill": {
     "duration": 0.027916,
     "end_time": "2025-07-30T13:52:53.134714",
     "exception": false,
     "start_time": "2025-07-30T13:52:53.106798",
     "status": "completed"
    },
    "tags": []
   },
   "outputs": [
    {
     "name": "stdout",
     "output_type": "stream",
     "text": [
      "Current working directory: /dss/dsshome1/0C/ra93lal2/cma/CMA_Fairness_v2\n"
     ]
    }
   ],
   "source": [
    "import os\n",
    "print(\"Current working directory:\", os.getcwd())"
   ]
  },
  {
   "cell_type": "code",
   "execution_count": 3,
   "id": "2dce4c03",
   "metadata": {
    "execution": {
     "iopub.execute_input": "2025-07-30T13:52:53.174045Z",
     "iopub.status.busy": "2025-07-30T13:52:53.173547Z",
     "iopub.status.idle": "2025-07-30T13:52:53.180209Z",
     "shell.execute_reply": "2025-07-30T13:52:53.179231Z"
    },
    "papermill": {
     "duration": 0.028231,
     "end_time": "2025-07-30T13:52:53.181874",
     "exception": false,
     "start_time": "2025-07-30T13:52:53.153643",
     "status": "completed"
    },
    "tags": [
     "parameters"
    ]
   },
   "outputs": [],
   "source": [
    "run_no = 0\n",
    "universe_id = \"test\"\n",
    "universe = {\n",
    "    \"training_size\": \"25k\", # \"25k\", \"5k\", \"1k\"\n",
    "    \"training_year\": \"2014\", # \"2014\", \"2012_14\", \"2010_14\"\n",
    "    \"scale\": \"scale\", # \"scale\", \"do-not-scale\",\n",
    "    #\"stratify_split\": \"target\", # \"none\", \"target\", \"protected-attribute\", \"both\",\n",
    "    \"model\": \"elasticnet\", # \"logreg\", \"penalized_logreg\", \"rf\", \"gbm\", \"elasticnet\"\n",
    "    \"cutoff\": [\"quantile_0.15\", \"quantile_0.30\"],\n",
    "    \"exclude_features\": \"age\", # \"none\", \"nationality\", \"sex\", \"nationality-sex\", \"age\"\n",
    "    \"exclude_subgroups\": \"keep-all\", # \"keep-all\", \"drop-non-german\"\n",
    "    \"eval_fairness_grouping\": [\"majority-minority\", \"nationality-all\"]\n",
    "}\n",
    "\n",
    "output_dir=\"./output\"\n",
    "seed=0"
   ]
  },
  {
   "cell_type": "code",
   "execution_count": 4,
   "id": "cdd132aa",
   "metadata": {
    "execution": {
     "iopub.execute_input": "2025-07-30T13:52:53.221173Z",
     "iopub.status.busy": "2025-07-30T13:52:53.220769Z",
     "iopub.status.idle": "2025-07-30T13:52:53.224895Z",
     "shell.execute_reply": "2025-07-30T13:52:53.224153Z"
    },
    "papermill": {
     "duration": 0.025441,
     "end_time": "2025-07-30T13:52:53.226308",
     "exception": false,
     "start_time": "2025-07-30T13:52:53.200867",
     "status": "completed"
    },
    "tags": [
     "injected-parameters"
    ]
   },
   "outputs": [],
   "source": [
    "# Parameters\n",
    "universe_id = \"6df84b9af6ef602494825180d40fdfc7\"\n",
    "run_no = \"12\"\n",
    "universe = \"{\\\"cutoff\\\": [\\\"quantile_0.1\\\", \\\"quantile_0.25\\\"], \\\"eval_fairness_grouping\\\": [\\\"majority-minority\\\", \\\"nationality-all\\\"], \\\"exclude_features\\\": \\\"nationality-sex\\\", \\\"exclude_subgroups\\\": \\\"drop-non-german\\\", \\\"model\\\": \\\"elasticnet\\\", \\\"scale\\\": \\\"do-not-scale\\\", \\\"training_size\\\": \\\"5k\\\", \\\"training_year\\\": \\\"2014\\\"}\"\n",
    "output_dir = \"output\"\n",
    "seed = \"2023\"\n"
   ]
  },
  {
   "cell_type": "code",
   "execution_count": 5,
   "id": "1650acaf",
   "metadata": {
    "execution": {
     "iopub.execute_input": "2025-07-30T13:52:53.271612Z",
     "iopub.status.busy": "2025-07-30T13:52:53.271159Z",
     "iopub.status.idle": "2025-07-30T13:52:53.276010Z",
     "shell.execute_reply": "2025-07-30T13:52:53.275217Z"
    },
    "papermill": {
     "duration": 0.032114,
     "end_time": "2025-07-30T13:52:53.277421",
     "exception": false,
     "start_time": "2025-07-30T13:52:53.245307",
     "status": "completed"
    },
    "tags": []
   },
   "outputs": [],
   "source": [
    "import json\n",
    "# Parse universe into dict if it is passed as a string\n",
    "if isinstance(universe, str):\n",
    "    universe = json.loads(universe)"
   ]
  },
  {
   "cell_type": "code",
   "execution_count": 6,
   "id": "16620c48",
   "metadata": {
    "execution": {
     "iopub.execute_input": "2025-07-30T13:52:53.316251Z",
     "iopub.status.busy": "2025-07-30T13:52:53.315412Z",
     "iopub.status.idle": "2025-07-30T13:52:53.358603Z",
     "shell.execute_reply": "2025-07-30T13:52:53.357695Z"
    },
    "papermill": {
     "duration": 0.06439,
     "end_time": "2025-07-30T13:52:53.360402",
     "exception": false,
     "start_time": "2025-07-30T13:52:53.296012",
     "status": "completed"
    },
    "tags": []
   },
   "outputs": [],
   "source": [
    "# Auto-reload the custom package\n",
    "%load_ext autoreload\n",
    "%autoreload 1\n",
    "%aimport fairness_multiverse"
   ]
  },
  {
   "cell_type": "code",
   "execution_count": 7,
   "id": "01c5c9f3",
   "metadata": {
    "execution": {
     "iopub.execute_input": "2025-07-30T13:52:53.399933Z",
     "iopub.status.busy": "2025-07-30T13:52:53.399158Z",
     "iopub.status.idle": "2025-07-30T13:52:54.740676Z",
     "shell.execute_reply": "2025-07-30T13:52:54.739771Z"
    },
    "papermill": {
     "duration": 1.362762,
     "end_time": "2025-07-30T13:52:54.742129",
     "exception": false,
     "start_time": "2025-07-30T13:52:53.379367",
     "status": "completed"
    },
    "tags": []
   },
   "outputs": [],
   "source": [
    "from fairness_multiverse.universe import UniverseAnalysis\n",
    "\n",
    "universe_analysis = UniverseAnalysis(\n",
    "    run_no = run_no,\n",
    "    universe_id = universe_id,\n",
    "    universe = universe,\n",
    "    output_dir=output_dir,\n",
    ")"
   ]
  },
  {
   "cell_type": "code",
   "execution_count": 8,
   "id": "106241f5",
   "metadata": {
    "execution": {
     "iopub.execute_input": "2025-07-30T13:52:54.764119Z",
     "iopub.status.busy": "2025-07-30T13:52:54.763762Z",
     "iopub.status.idle": "2025-07-30T13:52:54.769775Z",
     "shell.execute_reply": "2025-07-30T13:52:54.769082Z"
    },
    "papermill": {
     "duration": 0.018102,
     "end_time": "2025-07-30T13:52:54.770947",
     "exception": false,
     "start_time": "2025-07-30T13:52:54.752845",
     "status": "completed"
    },
    "tags": []
   },
   "outputs": [
    {
     "name": "stdout",
     "output_type": "stream",
     "text": [
      "Using Seed: 2023\n"
     ]
    }
   ],
   "source": [
    "import numpy as np\n",
    "parsed_seed = int(seed)\n",
    "np.random.seed(parsed_seed)\n",
    "print(f\"Using Seed: {parsed_seed}\")"
   ]
  },
  {
   "cell_type": "markdown",
   "id": "e0ebdc57",
   "metadata": {
    "papermill": {
     "duration": 0.009839,
     "end_time": "2025-07-30T13:52:54.790987",
     "exception": false,
     "start_time": "2025-07-30T13:52:54.781148",
     "status": "completed"
    },
    "tags": []
   },
   "source": [
    "# Loading Data"
   ]
  },
  {
   "cell_type": "markdown",
   "id": "681925a3",
   "metadata": {
    "papermill": {
     "duration": 0.009826,
     "end_time": "2025-07-30T13:52:54.810615",
     "exception": false,
     "start_time": "2025-07-30T13:52:54.800789",
     "status": "completed"
    },
    "tags": []
   },
   "source": [
    "Load siab_train, siab_test, siab_calib and/or \n",
    "load siab_train_features, siab_train_labels"
   ]
  },
  {
   "cell_type": "code",
   "execution_count": 9,
   "id": "f0496b8a",
   "metadata": {
    "execution": {
     "iopub.execute_input": "2025-07-30T13:52:54.831721Z",
     "iopub.status.busy": "2025-07-30T13:52:54.831331Z",
     "iopub.status.idle": "2025-07-30T13:53:06.643748Z",
     "shell.execute_reply": "2025-07-30T13:53:06.642902Z"
    },
    "papermill": {
     "duration": 11.824537,
     "end_time": "2025-07-30T13:53:06.645074",
     "exception": false,
     "start_time": "2025-07-30T13:52:54.820537",
     "status": "completed"
    },
    "tags": []
   },
   "outputs": [
    {
     "name": "stdout",
     "output_type": "stream",
     "text": [
      "Loading SIAB data from cache: data/siab_cached.csv.gz\n"
     ]
    },
    {
     "name": "stdout",
     "output_type": "stream",
     "text": [
      "(643690, 164)\n"
     ]
    }
   ],
   "source": [
    "from pathlib import Path\n",
    "import pandas as pd\n",
    "\n",
    "# File paths\n",
    "raw_file = Path(\"data/raw/siab.csv\")\n",
    "cache_file = Path(\"data/siab_cached.csv.gz\")\n",
    "\n",
    "# Ensure cache directory exists\n",
    "cache_file.parent.mkdir(parents=True, exist_ok=True)\n",
    "\n",
    "# Load with simple caching\n",
    "if cache_file.exists():\n",
    "    print(f\"Loading SIAB data from cache: {cache_file}\")\n",
    "    siab = pd.read_csv(cache_file, compression='gzip')\n",
    "else:\n",
    "    print(f\"Cache not found. Reading raw SIAB data: {raw_file}\")\n",
    "    siab = pd.read_csv(raw_file)\n",
    "    siab.to_csv(cache_file, index=False, compression='gzip')\n",
    "    print(f\"Cached SIAB data to: {cache_file}\")\n",
    "\n",
    "# Now use `siab` DataFrame as needed\n",
    "print(siab.shape)"
   ]
  },
  {
   "cell_type": "code",
   "execution_count": 10,
   "id": "db0ca512-5f53-4dba-abdb-a2888bca41ba",
   "metadata": {
    "execution": {
     "iopub.execute_input": "2025-07-30T13:53:06.668950Z",
     "iopub.status.busy": "2025-07-30T13:53:06.668614Z",
     "iopub.status.idle": "2025-07-30T13:53:06.673191Z",
     "shell.execute_reply": "2025-07-30T13:53:06.672297Z"
    },
    "papermill": {
     "duration": 0.016789,
     "end_time": "2025-07-30T13:53:06.674472",
     "exception": false,
     "start_time": "2025-07-30T13:53:06.657683",
     "status": "completed"
    },
    "tags": []
   },
   "outputs": [],
   "source": [
    "#siab"
   ]
  },
  {
   "cell_type": "code",
   "execution_count": 11,
   "id": "a0edb063",
   "metadata": {
    "execution": {
     "iopub.execute_input": "2025-07-30T13:53:06.697096Z",
     "iopub.status.busy": "2025-07-30T13:53:06.696610Z",
     "iopub.status.idle": "2025-07-30T13:53:06.700502Z",
     "shell.execute_reply": "2025-07-30T13:53:06.699650Z"
    },
    "papermill": {
     "duration": 0.016279,
     "end_time": "2025-07-30T13:53:06.701846",
     "exception": false,
     "start_time": "2025-07-30T13:53:06.685567",
     "status": "completed"
    },
    "tags": []
   },
   "outputs": [],
   "source": [
    "#import pandas as pd\n",
    "#\n",
    "#X_train = pd.read_csv(\"./data/X_train.csv\")\n",
    "#y_train = pd.read_csv(\"./data/y_train.csv\")"
   ]
  },
  {
   "cell_type": "code",
   "execution_count": 12,
   "id": "63d08085",
   "metadata": {
    "execution": {
     "iopub.execute_input": "2025-07-30T13:53:06.723968Z",
     "iopub.status.busy": "2025-07-30T13:53:06.723584Z",
     "iopub.status.idle": "2025-07-30T13:53:06.727605Z",
     "shell.execute_reply": "2025-07-30T13:53:06.726880Z"
    },
    "papermill": {
     "duration": 0.016052,
     "end_time": "2025-07-30T13:53:06.728923",
     "exception": false,
     "start_time": "2025-07-30T13:53:06.712871",
     "status": "completed"
    },
    "tags": []
   },
   "outputs": [],
   "source": [
    "#X_test = pd.read_csv(\"./data/X_test.csv\")\n",
    "#y_true = pd.read_csv(\"./data/y_test.csv\")"
   ]
  },
  {
   "cell_type": "code",
   "execution_count": 13,
   "id": "98a8d0fa-1d3d-4ed8-bb2c-281470e24add",
   "metadata": {
    "execution": {
     "iopub.execute_input": "2025-07-30T13:53:06.761207Z",
     "iopub.status.busy": "2025-07-30T13:53:06.760965Z",
     "iopub.status.idle": "2025-07-30T13:53:06.764876Z",
     "shell.execute_reply": "2025-07-30T13:53:06.764099Z"
    },
    "papermill": {
     "duration": 0.022666,
     "end_time": "2025-07-30T13:53:06.766040",
     "exception": false,
     "start_time": "2025-07-30T13:53:06.743374",
     "status": "completed"
    },
    "tags": []
   },
   "outputs": [],
   "source": [
    "# Calibration data for conformal\n",
    "#X_calib = pd.read_csv(\"./data/X_calib.csv\")\n",
    "#y_calib = pd.read_csv(\"./data/y_calib.csv\")"
   ]
  },
  {
   "cell_type": "markdown",
   "id": "997051c5-15bd-4b69-9786-c3001a3ce484",
   "metadata": {
    "papermill": {
     "duration": 0.010222,
     "end_time": "2025-07-30T13:53:06.787525",
     "exception": false,
     "start_time": "2025-07-30T13:53:06.777303",
     "status": "completed"
    },
    "tags": []
   },
   "source": [
    "# Splitting Data and Setting Training Data Size"
   ]
  },
  {
   "cell_type": "code",
   "execution_count": 14,
   "id": "e993b61f-042d-41a6-8c81-f55681f86335",
   "metadata": {
    "execution": {
     "iopub.execute_input": "2025-07-30T13:53:06.809313Z",
     "iopub.status.busy": "2025-07-30T13:53:06.809004Z",
     "iopub.status.idle": "2025-07-30T13:53:06.819564Z",
     "shell.execute_reply": "2025-07-30T13:53:06.818569Z"
    },
    "papermill": {
     "duration": 0.023197,
     "end_time": "2025-07-30T13:53:06.821066",
     "exception": false,
     "start_time": "2025-07-30T13:53:06.797869",
     "status": "completed"
    },
    "tags": []
   },
   "outputs": [],
   "source": [
    "def sample_by_year_size(df,\n",
    "                        training_year: str,\n",
    "                        training_size: str,\n",
    "                        random_state: int = 42):\n",
    "    # --- parse training_year into a list of int years ---\n",
    "    if \"_\" in training_year:\n",
    "        start_str, end_str = training_year.split(\"_\", 1)\n",
    "        start = int(start_str)\n",
    "        end   = int(end_str) if len(end_str) == 4 else (int(end_str) + (start // 100)*100)\n",
    "        years = list(range(start, end + 1))\n",
    "    else:\n",
    "        years = [int(training_year)]\n",
    "\n",
    "    df = df[df[\"year\"].isin(years)].reset_index(drop=True)\n",
    "\n",
    "    # --- map training_size to total number of samples ---\n",
    "    total_map = {\"25k\": 25_000, \"5k\": 5_000, \"1k\": 1_000}\n",
    "    if training_size not in total_map:\n",
    "        return df  # e.g. \"all\"\n",
    "\n",
    "    total_samples = total_map[training_size]\n",
    "    n_years       = len(years)\n",
    "    base          = total_samples // n_years\n",
    "    remainder     = total_samples % n_years\n",
    "\n",
    "    # --- build a dict: year -> how many to sample ---\n",
    "    # give +1 to the first `remainder` years in ascending order\n",
    "    quotas = {\n",
    "        year: base + (1 if idx < remainder else 0)\n",
    "        for idx, year in enumerate(sorted(years))\n",
    "    }\n",
    "\n",
    "    # --- sample per‐year according to the quota dict ---\n",
    "    sampled = (\n",
    "        df\n",
    "        .groupby(\"year\", group_keys=False)\n",
    "        .apply(lambda grp: grp.sample(\n",
    "            n=min(len(grp), quotas[grp.name]),\n",
    "            random_state=random_state))\n",
    "        .reset_index(drop=True)\n",
    "    )\n",
    "\n",
    "    return sampled"
   ]
  },
  {
   "cell_type": "code",
   "execution_count": 15,
   "id": "c0ccd338-0e02-41f3-a09d-f56f9266e3fb",
   "metadata": {
    "execution": {
     "iopub.execute_input": "2025-07-30T13:53:06.846114Z",
     "iopub.status.busy": "2025-07-30T13:53:06.845786Z",
     "iopub.status.idle": "2025-07-30T13:53:06.854327Z",
     "shell.execute_reply": "2025-07-30T13:53:06.853545Z"
    },
    "papermill": {
     "duration": 0.022541,
     "end_time": "2025-07-30T13:53:06.855561",
     "exception": false,
     "start_time": "2025-07-30T13:53:06.833020",
     "status": "completed"
    },
    "tags": []
   },
   "outputs": [
    {
     "data": {
      "text/plain": [
       "'5k'"
      ]
     },
     "execution_count": 15,
     "metadata": {},
     "output_type": "execute_result"
    }
   ],
   "source": [
    "universe[\"training_size\"]"
   ]
  },
  {
   "cell_type": "code",
   "execution_count": 16,
   "id": "ca707fd7-8047-4acd-bfa5-66248fbbf8e6",
   "metadata": {
    "execution": {
     "iopub.execute_input": "2025-07-30T13:53:06.879532Z",
     "iopub.status.busy": "2025-07-30T13:53:06.879015Z",
     "iopub.status.idle": "2025-07-30T13:53:06.884961Z",
     "shell.execute_reply": "2025-07-30T13:53:06.884257Z"
    },
    "papermill": {
     "duration": 0.01914,
     "end_time": "2025-07-30T13:53:06.886336",
     "exception": false,
     "start_time": "2025-07-30T13:53:06.867196",
     "status": "completed"
    },
    "tags": []
   },
   "outputs": [
    {
     "data": {
      "text/plain": [
       "'2014'"
      ]
     },
     "execution_count": 16,
     "metadata": {},
     "output_type": "execute_result"
    }
   ],
   "source": [
    "universe[\"training_year\"]"
   ]
  },
  {
   "cell_type": "code",
   "execution_count": 17,
   "id": "aea9c6ef-6f46-42c8-85eb-5a62025c1508",
   "metadata": {
    "execution": {
     "iopub.execute_input": "2025-07-30T13:53:06.909812Z",
     "iopub.status.busy": "2025-07-30T13:53:06.909321Z",
     "iopub.status.idle": "2025-07-30T13:53:07.129740Z",
     "shell.execute_reply": "2025-07-30T13:53:07.128769Z"
    },
    "papermill": {
     "duration": 0.233297,
     "end_time": "2025-07-30T13:53:07.131338",
     "exception": false,
     "start_time": "2025-07-30T13:53:06.898041",
     "status": "completed"
    },
    "tags": []
   },
   "outputs": [],
   "source": [
    "siab_train = sample_by_year_size(siab,\n",
    "                               training_year=universe[\"training_year\"],\n",
    "                               training_size=universe[\"training_size\"])"
   ]
  },
  {
   "cell_type": "code",
   "execution_count": 18,
   "id": "8d3afb32-789d-442c-8d5d-9f5aa8dd2eed",
   "metadata": {
    "execution": {
     "iopub.execute_input": "2025-07-30T13:53:07.181224Z",
     "iopub.status.busy": "2025-07-30T13:53:07.180789Z",
     "iopub.status.idle": "2025-07-30T13:53:07.189845Z",
     "shell.execute_reply": "2025-07-30T13:53:07.188862Z"
    },
    "papermill": {
     "duration": 0.036312,
     "end_time": "2025-07-30T13:53:07.191614",
     "exception": false,
     "start_time": "2025-07-30T13:53:07.155302",
     "status": "completed"
    },
    "tags": []
   },
   "outputs": [
    {
     "data": {
      "text/plain": [
       "(5000, 164)"
      ]
     },
     "execution_count": 18,
     "metadata": {},
     "output_type": "execute_result"
    }
   ],
   "source": [
    "siab_train.shape"
   ]
  },
  {
   "cell_type": "code",
   "execution_count": 19,
   "id": "d582db68-1a4c-47fb-84fc-08518dc1975a",
   "metadata": {
    "execution": {
     "iopub.execute_input": "2025-07-30T13:53:07.240810Z",
     "iopub.status.busy": "2025-07-30T13:53:07.239862Z",
     "iopub.status.idle": "2025-07-30T13:53:07.250321Z",
     "shell.execute_reply": "2025-07-30T13:53:07.249250Z"
    },
    "papermill": {
     "duration": 0.036706,
     "end_time": "2025-07-30T13:53:07.252471",
     "exception": false,
     "start_time": "2025-07-30T13:53:07.215765",
     "status": "completed"
    },
    "tags": []
   },
   "outputs": [
    {
     "data": {
      "text/plain": [
       "year\n",
       "2014    5000\n",
       "dtype: int64"
      ]
     },
     "metadata": {},
     "output_type": "display_data"
    }
   ],
   "source": [
    "display(siab_train.groupby(\"year\").size())"
   ]
  },
  {
   "cell_type": "code",
   "execution_count": 20,
   "id": "a561edb4-d032-42cb-8256-22eac1111c64",
   "metadata": {
    "execution": {
     "iopub.execute_input": "2025-07-30T13:53:07.298051Z",
     "iopub.status.busy": "2025-07-30T13:53:07.297344Z",
     "iopub.status.idle": "2025-07-30T13:53:07.540805Z",
     "shell.execute_reply": "2025-07-30T13:53:07.539783Z"
    },
    "papermill": {
     "duration": 0.267908,
     "end_time": "2025-07-30T13:53:07.542859",
     "exception": false,
     "start_time": "2025-07-30T13:53:07.274951",
     "status": "completed"
    },
    "tags": []
   },
   "outputs": [],
   "source": [
    "#siab_train = siab_s[siab_s.year < 2015]\n",
    "siab_calib = siab[siab.year == 2015]\n",
    "siab_test = siab[siab.year == 2016]"
   ]
  },
  {
   "cell_type": "code",
   "execution_count": 21,
   "id": "472de16f-c3db-4916-846b-1f0de9cf1746",
   "metadata": {
    "execution": {
     "iopub.execute_input": "2025-07-30T13:53:07.587467Z",
     "iopub.status.busy": "2025-07-30T13:53:07.586898Z",
     "iopub.status.idle": "2025-07-30T13:53:07.595112Z",
     "shell.execute_reply": "2025-07-30T13:53:07.594139Z"
    },
    "papermill": {
     "duration": 0.031731,
     "end_time": "2025-07-30T13:53:07.596791",
     "exception": false,
     "start_time": "2025-07-30T13:53:07.565060",
     "status": "completed"
    },
    "tags": []
   },
   "outputs": [],
   "source": [
    "X_train = siab_train.iloc[:,4:164]\n",
    "y_train = siab_train.iloc[:, [3]]"
   ]
  },
  {
   "cell_type": "code",
   "execution_count": 22,
   "id": "828c96af-f43a-4ed6-ba47-8ac73a47d56c",
   "metadata": {
    "execution": {
     "iopub.execute_input": "2025-07-30T13:53:07.642882Z",
     "iopub.status.busy": "2025-07-30T13:53:07.642368Z",
     "iopub.status.idle": "2025-07-30T13:53:07.695852Z",
     "shell.execute_reply": "2025-07-30T13:53:07.694767Z"
    },
    "papermill": {
     "duration": 0.077585,
     "end_time": "2025-07-30T13:53:07.697774",
     "exception": false,
     "start_time": "2025-07-30T13:53:07.620189",
     "status": "completed"
    },
    "tags": []
   },
   "outputs": [],
   "source": [
    "X_calib = siab_calib.iloc[:,4:164]\n",
    "y_calib = siab_calib.iloc[:, [3]]"
   ]
  },
  {
   "cell_type": "code",
   "execution_count": 23,
   "id": "c34be9c3-6bd6-476e-acd3-845840e303be",
   "metadata": {
    "execution": {
     "iopub.execute_input": "2025-07-30T13:53:07.748387Z",
     "iopub.status.busy": "2025-07-30T13:53:07.747450Z",
     "iopub.status.idle": "2025-07-30T13:53:07.800300Z",
     "shell.execute_reply": "2025-07-30T13:53:07.799044Z"
    },
    "papermill": {
     "duration": 0.080164,
     "end_time": "2025-07-30T13:53:07.802566",
     "exception": false,
     "start_time": "2025-07-30T13:53:07.722402",
     "status": "completed"
    },
    "tags": []
   },
   "outputs": [],
   "source": [
    "X_test = siab_test.iloc[:,4:164]\n",
    "y_true = siab_test.iloc[:, [3]]"
   ]
  },
  {
   "cell_type": "markdown",
   "id": "9901737e-04df-44f0-9100-f5ad144ed040",
   "metadata": {
    "papermill": {
     "duration": 0.024474,
     "end_time": "2025-07-30T13:53:07.852569",
     "exception": false,
     "start_time": "2025-07-30T13:53:07.828095",
     "status": "completed"
    },
    "tags": []
   },
   "source": [
    "# Splitting Data and Setting Training Data Size OLD VERSION"
   ]
  },
  {
   "cell_type": "code",
   "execution_count": 24,
   "id": "acbc8f7d-8fc8-4e86-8c59-5dcb0f58384b",
   "metadata": {
    "execution": {
     "iopub.execute_input": "2025-07-30T13:53:07.902324Z",
     "iopub.status.busy": "2025-07-30T13:53:07.901392Z",
     "iopub.status.idle": "2025-07-30T13:53:07.907345Z",
     "shell.execute_reply": "2025-07-30T13:53:07.906346Z"
    },
    "papermill": {
     "duration": 0.032282,
     "end_time": "2025-07-30T13:53:07.909117",
     "exception": false,
     "start_time": "2025-07-30T13:53:07.876835",
     "status": "completed"
    },
    "tags": []
   },
   "outputs": [],
   "source": [
    "#def sample_by_year(df, training_size, random_state=42):\n",
    "#    if training_size == \"2014\":\n",
    "#        return df[df[\"year\"] == 2014].reset_index(drop=True)\n",
    "#    \n",
    "#    size_map = {\n",
    "#        \"25k\": 5000,\n",
    "#        \"5k\": 1000,\n",
    "#        \"1k\": 200\n",
    "#    }\n",
    "#\n",
    "#    if training_size not in size_map:\n",
    "#        return df.reset_index(drop=True)  # use all data\n",
    "#\n",
    "#    n_per_year = size_map[training_size]\n",
    "#    grouped = df.groupby(\"year\")\n",
    "#    sampled = grouped.apply(lambda x: x.sample(n=min(n_per_year, len(x)), random_state=random_state))\n",
    "#    return sampled.reset_index(drop=True)"
   ]
  },
  {
   "cell_type": "code",
   "execution_count": 25,
   "id": "6d931f52-beaf-43ff-9e78-9d44a448d54e",
   "metadata": {
    "execution": {
     "iopub.execute_input": "2025-07-30T13:53:07.961941Z",
     "iopub.status.busy": "2025-07-30T13:53:07.961019Z",
     "iopub.status.idle": "2025-07-30T13:53:07.966216Z",
     "shell.execute_reply": "2025-07-30T13:53:07.965231Z"
    },
    "papermill": {
     "duration": 0.033767,
     "end_time": "2025-07-30T13:53:07.968236",
     "exception": false,
     "start_time": "2025-07-30T13:53:07.934469",
     "status": "completed"
    },
    "tags": []
   },
   "outputs": [],
   "source": [
    "#siab_s = sample_by_year(siab, universe[\"training_size\"])"
   ]
  },
  {
   "cell_type": "code",
   "execution_count": 26,
   "id": "5db0a40e-a4e2-4920-be85-b12ae061d70d",
   "metadata": {
    "execution": {
     "iopub.execute_input": "2025-07-30T13:53:08.021458Z",
     "iopub.status.busy": "2025-07-30T13:53:08.020984Z",
     "iopub.status.idle": "2025-07-30T13:53:08.026221Z",
     "shell.execute_reply": "2025-07-30T13:53:08.025279Z"
    },
    "papermill": {
     "duration": 0.033744,
     "end_time": "2025-07-30T13:53:08.027933",
     "exception": false,
     "start_time": "2025-07-30T13:53:07.994189",
     "status": "completed"
    },
    "tags": []
   },
   "outputs": [],
   "source": [
    "#display(siab_s.groupby(\"year\").size())"
   ]
  },
  {
   "cell_type": "code",
   "execution_count": 27,
   "id": "e6c733c5",
   "metadata": {
    "execution": {
     "iopub.execute_input": "2025-07-30T13:53:08.080642Z",
     "iopub.status.busy": "2025-07-30T13:53:08.080107Z",
     "iopub.status.idle": "2025-07-30T13:53:08.178592Z",
     "shell.execute_reply": "2025-07-30T13:53:08.177241Z"
    },
    "papermill": {
     "duration": 0.129415,
     "end_time": "2025-07-30T13:53:08.182925",
     "exception": false,
     "start_time": "2025-07-30T13:53:08.053510",
     "status": "completed"
    },
    "tags": []
   },
   "outputs": [],
   "source": [
    "# Auxiliary data needed downstream in the pipeline\n",
    "\n",
    "org_train = X_train.copy()\n",
    "org_test = X_test.copy()\n",
    "org_calib = X_calib.copy()"
   ]
  },
  {
   "cell_type": "code",
   "execution_count": 28,
   "id": "1466abac-c6da-4492-a62f-4240ae3783af",
   "metadata": {
    "execution": {
     "iopub.execute_input": "2025-07-30T13:53:08.237962Z",
     "iopub.status.busy": "2025-07-30T13:53:08.237279Z",
     "iopub.status.idle": "2025-07-30T13:53:08.243577Z",
     "shell.execute_reply": "2025-07-30T13:53:08.242557Z"
    },
    "papermill": {
     "duration": 0.035776,
     "end_time": "2025-07-30T13:53:08.245478",
     "exception": false,
     "start_time": "2025-07-30T13:53:08.209702",
     "status": "completed"
    },
    "tags": []
   },
   "outputs": [],
   "source": [
    "# put in other script?\n",
    "# Group sizes\n",
    "\n",
    "#def calculate_percentages(df, df_name):\n",
    "#    total_entries = len(df)\n",
    "#\n",
    "#    female_pct = (df['frau1'] == 1).mean() * 100\n",
    "#    non_german_pct = ((df['maxdeutsch1'] == 0) & (df['maxdeutsch.Missing.'] == 0)).mean() * 100\n",
    "#    non_german_male_pct = ((df['frau1'] == 0) & (df['maxdeutsch1'] == 0) & (df['maxdeutsch.Missing.'] == 0)).mean() * 100\n",
    "#    non_german_female_pct = ((df['frau1'] == 1) & (df['maxdeutsch1'] == 0) & (df['maxdeutsch.Missing.'] == 0)).mean() * 100\n",
    "#\n",
    "#    print(f\"--- {df_name} ---\")\n",
    "#    print(f\"Female: {female_pct:.2f}%\")\n",
    "#    print(f\"Non-German: {non_german_pct:.2f}%\")\n",
    "#    print(f\"Non-German Male: {non_german_male_pct:.2f}%\")\n",
    "#    print(f\"Non-German Female: {non_german_female_pct:.2f}%\\n\")\n",
    "#\n",
    "## Calculate for each DataFrame\n",
    "#calculate_percentages(siab_calib, \"siab_calib\")\n",
    "#calculate_percentages(siab_test, \"siab_test\")\n",
    "#calculate_percentages(siab_train, \"siab_train\")"
   ]
  },
  {
   "cell_type": "markdown",
   "id": "0a4a1b33",
   "metadata": {
    "papermill": {
     "duration": 0.025577,
     "end_time": "2025-07-30T13:53:08.298200",
     "exception": false,
     "start_time": "2025-07-30T13:53:08.272623",
     "status": "completed"
    },
    "tags": []
   },
   "source": [
    "# Preprocessing Data"
   ]
  },
  {
   "cell_type": "code",
   "execution_count": 29,
   "id": "ca879031",
   "metadata": {
    "execution": {
     "iopub.execute_input": "2025-07-30T13:53:08.350747Z",
     "iopub.status.busy": "2025-07-30T13:53:08.350003Z",
     "iopub.status.idle": "2025-07-30T13:53:08.356685Z",
     "shell.execute_reply": "2025-07-30T13:53:08.355676Z"
    },
    "papermill": {
     "duration": 0.034954,
     "end_time": "2025-07-30T13:53:08.358453",
     "exception": false,
     "start_time": "2025-07-30T13:53:08.323499",
     "status": "completed"
    },
    "tags": []
   },
   "outputs": [],
   "source": [
    "# EXCLUDE PROTECTED FEATURES\n",
    "# ----------------------\n",
    "# \"exclude_features\": \"none\", # \"nationality\", \"sex\", \"nationality-sex\"\n",
    "\n",
    "excluded_features = universe[\"exclude_features\"].split(\"-\") # split, e.g.: \"nationality-sex\" -> [\"nationality\", \"sex\"]\n",
    "excluded_features_dictionary = {\n",
    "    \"nationality\": [\"maxdeutsch1\", \"maxdeutsch.Missing.\"],\n",
    "    \"sex\": [\"frau1\"],\n",
    "    \"age\": [\"age\"],\n",
    "}\n"
   ]
  },
  {
   "cell_type": "code",
   "execution_count": 30,
   "id": "b745ac60",
   "metadata": {
    "execution": {
     "iopub.execute_input": "2025-07-30T13:53:08.413432Z",
     "iopub.status.busy": "2025-07-30T13:53:08.412930Z",
     "iopub.status.idle": "2025-07-30T13:53:08.418957Z",
     "shell.execute_reply": "2025-07-30T13:53:08.418042Z"
    },
    "papermill": {
     "duration": 0.034891,
     "end_time": "2025-07-30T13:53:08.420768",
     "exception": false,
     "start_time": "2025-07-30T13:53:08.385877",
     "status": "completed"
    },
    "tags": []
   },
   "outputs": [],
   "source": [
    "# Code nice names to column names\n",
    "\n",
    "excluded_features_columns = [\n",
    "    excluded_features_dictionary[f] for f in excluded_features if len(f) > 0 and f != \"none\"\n",
    "]"
   ]
  },
  {
   "cell_type": "code",
   "execution_count": 31,
   "id": "f84f73a2",
   "metadata": {
    "execution": {
     "iopub.execute_input": "2025-07-30T13:53:08.475035Z",
     "iopub.status.busy": "2025-07-30T13:53:08.474527Z",
     "iopub.status.idle": "2025-07-30T13:53:08.481767Z",
     "shell.execute_reply": "2025-07-30T13:53:08.480840Z"
    },
    "papermill": {
     "duration": 0.03697,
     "end_time": "2025-07-30T13:53:08.483981",
     "exception": false,
     "start_time": "2025-07-30T13:53:08.447011",
     "status": "completed"
    },
    "tags": []
   },
   "outputs": [],
   "source": [
    "from utils import flatten_once\n",
    "\n",
    "excluded_features_columns = flatten_once(excluded_features_columns)"
   ]
  },
  {
   "cell_type": "code",
   "execution_count": 32,
   "id": "884dea22",
   "metadata": {
    "execution": {
     "iopub.execute_input": "2025-07-30T13:53:08.536937Z",
     "iopub.status.busy": "2025-07-30T13:53:08.536242Z",
     "iopub.status.idle": "2025-07-30T13:53:08.546175Z",
     "shell.execute_reply": "2025-07-30T13:53:08.545157Z"
    },
    "papermill": {
     "duration": 0.038009,
     "end_time": "2025-07-30T13:53:08.547682",
     "exception": false,
     "start_time": "2025-07-30T13:53:08.509673",
     "status": "completed"
    },
    "tags": []
   },
   "outputs": [
    {
     "name": "stdout",
     "output_type": "stream",
     "text": [
      "Dropping features: ['maxdeutsch1', 'maxdeutsch.Missing.', 'frau1']\n"
     ]
    }
   ],
   "source": [
    "if len(excluded_features_columns) > 0:\n",
    "    print(f\"Dropping features: {excluded_features_columns}\")\n",
    "    X_train.drop(excluded_features_columns, axis=1, inplace=True)"
   ]
  },
  {
   "cell_type": "code",
   "execution_count": 33,
   "id": "95ab8b16",
   "metadata": {
    "execution": {
     "iopub.execute_input": "2025-07-30T13:53:08.592433Z",
     "iopub.status.busy": "2025-07-30T13:53:08.591623Z",
     "iopub.status.idle": "2025-07-30T13:53:08.647585Z",
     "shell.execute_reply": "2025-07-30T13:53:08.646500Z"
    },
    "papermill": {
     "duration": 0.07987,
     "end_time": "2025-07-30T13:53:08.649504",
     "exception": false,
     "start_time": "2025-07-30T13:53:08.569634",
     "status": "completed"
    },
    "tags": []
   },
   "outputs": [
    {
     "name": "stdout",
     "output_type": "stream",
     "text": [
      "Dropping features: ['maxdeutsch1', 'maxdeutsch.Missing.', 'frau1']\n"
     ]
    }
   ],
   "source": [
    "if len(excluded_features_columns) > 0:\n",
    "    print(f\"Dropping features: {excluded_features_columns}\")\n",
    "    X_test.drop(excluded_features_columns, axis=1, inplace=True)"
   ]
  },
  {
   "cell_type": "code",
   "execution_count": 34,
   "id": "1853aaf5-fb9f-46cb-a2b5-8ea4ae2237e4",
   "metadata": {
    "execution": {
     "iopub.execute_input": "2025-07-30T13:53:08.704405Z",
     "iopub.status.busy": "2025-07-30T13:53:08.703445Z",
     "iopub.status.idle": "2025-07-30T13:53:08.755645Z",
     "shell.execute_reply": "2025-07-30T13:53:08.754619Z"
    },
    "papermill": {
     "duration": 0.080787,
     "end_time": "2025-07-30T13:53:08.757408",
     "exception": false,
     "start_time": "2025-07-30T13:53:08.676621",
     "status": "completed"
    },
    "tags": []
   },
   "outputs": [
    {
     "name": "stdout",
     "output_type": "stream",
     "text": [
      "Dropping features: ['maxdeutsch1', 'maxdeutsch.Missing.', 'frau1']\n"
     ]
    }
   ],
   "source": [
    "if len(excluded_features_columns) > 0:\n",
    "    print(f\"Dropping features: {excluded_features_columns}\")\n",
    "    X_calib.drop(excluded_features_columns, axis=1, inplace=True)"
   ]
  },
  {
   "cell_type": "code",
   "execution_count": 35,
   "id": "6727d079-03e5-481e-9d38-292a90b7a0a8",
   "metadata": {
    "execution": {
     "iopub.execute_input": "2025-07-30T13:53:08.813040Z",
     "iopub.status.busy": "2025-07-30T13:53:08.812348Z",
     "iopub.status.idle": "2025-07-30T13:53:08.817995Z",
     "shell.execute_reply": "2025-07-30T13:53:08.816911Z"
    },
    "papermill": {
     "duration": 0.034645,
     "end_time": "2025-07-30T13:53:08.819780",
     "exception": false,
     "start_time": "2025-07-30T13:53:08.785135",
     "status": "completed"
    },
    "tags": []
   },
   "outputs": [],
   "source": [
    "# SPLIT & STRATIFY DATA\n",
    "# ----------------------"
   ]
  },
  {
   "cell_type": "code",
   "execution_count": 36,
   "id": "76c4dc6d",
   "metadata": {
    "execution": {
     "iopub.execute_input": "2025-07-30T13:53:08.875308Z",
     "iopub.status.busy": "2025-07-30T13:53:08.874501Z",
     "iopub.status.idle": "2025-07-30T13:53:08.881227Z",
     "shell.execute_reply": "2025-07-30T13:53:08.880105Z"
    },
    "papermill": {
     "duration": 0.045935,
     "end_time": "2025-07-30T13:53:08.893334",
     "exception": false,
     "start_time": "2025-07-30T13:53:08.847399",
     "status": "completed"
    },
    "tags": []
   },
   "outputs": [],
   "source": [
    "# EXCLUDE CERTAIN SUBGROUPS\n",
    "# ----------------------\n",
    "\n",
    "mode = universe.get(\"exclude_subgroups\", \"keep-all\") \n",
    "# Fetches the exclude_subgroups setting from the universe dict.\n",
    "# Defaults to \"keep-all\" if the key is missing."
   ]
  },
  {
   "cell_type": "code",
   "execution_count": 37,
   "id": "21994072",
   "metadata": {
    "execution": {
     "iopub.execute_input": "2025-07-30T13:53:08.948571Z",
     "iopub.status.busy": "2025-07-30T13:53:08.948093Z",
     "iopub.status.idle": "2025-07-30T13:53:08.954955Z",
     "shell.execute_reply": "2025-07-30T13:53:08.953801Z"
    },
    "papermill": {
     "duration": 0.036359,
     "end_time": "2025-07-30T13:53:08.956520",
     "exception": false,
     "start_time": "2025-07-30T13:53:08.920161",
     "status": "completed"
    },
    "tags": []
   },
   "outputs": [],
   "source": [
    "if mode == \"keep-all\":\n",
    "    keep_mask = pd.Series(True, index=org_train.index)\n",
    "\n",
    "# org_train contains the original feature columns from features_org (in Simson)\n",
    "# features_org contains unprocessed features, for me X_train at beginning ???\n",
    "# For keep-all, creates a boolean Series (keep_mask) of all True, so no rows are removed.\n",
    "\n",
    "elif mode == \"drop-non-german\":\n",
    "    keep_mask = org_train[\"maxdeutsch1\"] == 1 # ??? what about missing values?\n",
    "\n",
    "else:\n",
    "    raise ValueError(f\"Unsupported mode for exclude_subgroups: {mode}\")\n"
   ]
  },
  {
   "cell_type": "code",
   "execution_count": 38,
   "id": "71651440",
   "metadata": {
    "execution": {
     "iopub.execute_input": "2025-07-30T13:53:09.002703Z",
     "iopub.status.busy": "2025-07-30T13:53:09.002061Z",
     "iopub.status.idle": "2025-07-30T13:53:09.009577Z",
     "shell.execute_reply": "2025-07-30T13:53:09.008693Z"
    },
    "papermill": {
     "duration": 0.031694,
     "end_time": "2025-07-30T13:53:09.011122",
     "exception": false,
     "start_time": "2025-07-30T13:53:08.979428",
     "status": "completed"
    },
    "tags": []
   },
   "outputs": [
    {
     "name": "stdout",
     "output_type": "stream",
     "text": [
      "Dropping 741 rows (14.82%) where mode='drop-non-german'\n"
     ]
    }
   ],
   "source": [
    "n_drop = (~keep_mask).sum() # Calculates how many rows are set to be dropped\n",
    "if n_drop > 0:\n",
    "    pct = n_drop / len(keep_mask) * 100\n",
    "    print(f\"Dropping {n_drop} rows ({pct:.2f}%) where mode='{mode}'\")"
   ]
  },
  {
   "cell_type": "code",
   "execution_count": 39,
   "id": "5fb8eee5",
   "metadata": {
    "execution": {
     "iopub.execute_input": "2025-07-30T13:53:09.058612Z",
     "iopub.status.busy": "2025-07-30T13:53:09.057820Z",
     "iopub.status.idle": "2025-07-30T13:53:09.064866Z",
     "shell.execute_reply": "2025-07-30T13:53:09.063800Z"
    },
    "papermill": {
     "duration": 0.031823,
     "end_time": "2025-07-30T13:53:09.066954",
     "exception": false,
     "start_time": "2025-07-30T13:53:09.035131",
     "status": "completed"
    },
    "tags": []
   },
   "outputs": [],
   "source": [
    "X_train = X_train[keep_mask]"
   ]
  },
  {
   "cell_type": "code",
   "execution_count": 40,
   "id": "b202bb3a",
   "metadata": {
    "execution": {
     "iopub.execute_input": "2025-07-30T13:53:09.114224Z",
     "iopub.status.busy": "2025-07-30T13:53:09.113761Z",
     "iopub.status.idle": "2025-07-30T13:53:09.119899Z",
     "shell.execute_reply": "2025-07-30T13:53:09.119014Z"
    },
    "papermill": {
     "duration": 0.03001,
     "end_time": "2025-07-30T13:53:09.121713",
     "exception": false,
     "start_time": "2025-07-30T13:53:09.091703",
     "status": "completed"
    },
    "tags": []
   },
   "outputs": [],
   "source": [
    "y_train = y_train[keep_mask]"
   ]
  },
  {
   "cell_type": "markdown",
   "id": "493e2ac3",
   "metadata": {
    "papermill": {
     "duration": 0.023315,
     "end_time": "2025-07-30T13:53:09.168081",
     "exception": false,
     "start_time": "2025-07-30T13:53:09.144766",
     "status": "completed"
    },
    "tags": []
   },
   "source": [
    "# Model Training"
   ]
  },
  {
   "cell_type": "code",
   "execution_count": 41,
   "id": "679e1268",
   "metadata": {
    "execution": {
     "iopub.execute_input": "2025-07-30T13:53:09.214313Z",
     "iopub.status.busy": "2025-07-30T13:53:09.213710Z",
     "iopub.status.idle": "2025-07-30T13:53:09.331083Z",
     "shell.execute_reply": "2025-07-30T13:53:09.329991Z"
    },
    "papermill": {
     "duration": 0.14294,
     "end_time": "2025-07-30T13:53:09.333373",
     "exception": false,
     "start_time": "2025-07-30T13:53:09.190433",
     "status": "completed"
    },
    "tags": []
   },
   "outputs": [],
   "source": [
    "from sklearn.linear_model import LogisticRegression\n",
    "from sklearn.ensemble import GradientBoostingClassifier, RandomForestClassifier\n",
    "\n",
    "if (universe[\"model\"] == \"logreg\"):\n",
    "    model = LogisticRegression() #penalty=\"none\") #, solver=\"newton-cg\", max_iter=1) # include random_state=19 ?\n",
    "elif (universe[\"model\"] == \"penalized_logreg\"):\n",
    "    model = LogisticRegression(penalty=\"l2\", C=1.0) #, solver=\"newton-cg\", max_iter=1)\n",
    "elif (universe[\"model\"] == \"rf\"):\n",
    "    model = RandomForestClassifier(n_estimators=100, n_jobs=-1)\n",
    "elif (universe[\"model\"] == \"gbm\"):\n",
    "    model = GradientBoostingClassifier()\n",
    "elif (universe[\"model\"] == \"elasticnet\"):\n",
    "    model = LogisticRegression(penalty = 'elasticnet', solver = 'saga', l1_ratio = 0.5, max_iter=5000) # which solver to use?\n",
    "else:\n",
    "    raise \"Unsupported universe.model\""
   ]
  },
  {
   "cell_type": "code",
   "execution_count": 42,
   "id": "0cc8f744",
   "metadata": {
    "execution": {
     "iopub.execute_input": "2025-07-30T13:53:09.403244Z",
     "iopub.status.busy": "2025-07-30T13:53:09.402397Z",
     "iopub.status.idle": "2025-07-30T13:53:09.410173Z",
     "shell.execute_reply": "2025-07-30T13:53:09.409039Z"
    },
    "papermill": {
     "duration": 0.045847,
     "end_time": "2025-07-30T13:53:09.411905",
     "exception": false,
     "start_time": "2025-07-30T13:53:09.366058",
     "status": "completed"
    },
    "tags": []
   },
   "outputs": [],
   "source": [
    "import numpy as np\n",
    "from sklearn.pipeline import Pipeline\n",
    "from sklearn.preprocessing import StandardScaler\n",
    "\n",
    "model = Pipeline([\n",
    "    #(\"continuous_processor\", continuous_processor),\n",
    "    #(\"categorical_preprocessor\", categorical_preprocessor),\n",
    "    (\"scale\", StandardScaler() if universe[\"scale\"] == \"scale\" else None), \n",
    "    (\"model\", model),\n",
    "])"
   ]
  },
  {
   "cell_type": "code",
   "execution_count": 43,
   "id": "9442c04d",
   "metadata": {
    "execution": {
     "iopub.execute_input": "2025-07-30T13:53:09.462249Z",
     "iopub.status.busy": "2025-07-30T13:53:09.461347Z",
     "iopub.status.idle": "2025-07-30T13:54:20.634201Z",
     "shell.execute_reply": "2025-07-30T13:54:20.633004Z"
    },
    "papermill": {
     "duration": 71.210257,
     "end_time": "2025-07-30T13:54:20.646935",
     "exception": false,
     "start_time": "2025-07-30T13:53:09.436678",
     "status": "completed"
    },
    "tags": []
   },
   "outputs": [
    {
     "data": {
      "text/html": [
       "<style>#sk-container-id-1 {color: black;background-color: white;}#sk-container-id-1 pre{padding: 0;}#sk-container-id-1 div.sk-toggleable {background-color: white;}#sk-container-id-1 label.sk-toggleable__label {cursor: pointer;display: block;width: 100%;margin-bottom: 0;padding: 0.3em;box-sizing: border-box;text-align: center;}#sk-container-id-1 label.sk-toggleable__label-arrow:before {content: \"▸\";float: left;margin-right: 0.25em;color: #696969;}#sk-container-id-1 label.sk-toggleable__label-arrow:hover:before {color: black;}#sk-container-id-1 div.sk-estimator:hover label.sk-toggleable__label-arrow:before {color: black;}#sk-container-id-1 div.sk-toggleable__content {max-height: 0;max-width: 0;overflow: hidden;text-align: left;background-color: #f0f8ff;}#sk-container-id-1 div.sk-toggleable__content pre {margin: 0.2em;color: black;border-radius: 0.25em;background-color: #f0f8ff;}#sk-container-id-1 input.sk-toggleable__control:checked~div.sk-toggleable__content {max-height: 200px;max-width: 100%;overflow: auto;}#sk-container-id-1 input.sk-toggleable__control:checked~label.sk-toggleable__label-arrow:before {content: \"▾\";}#sk-container-id-1 div.sk-estimator input.sk-toggleable__control:checked~label.sk-toggleable__label {background-color: #d4ebff;}#sk-container-id-1 div.sk-label input.sk-toggleable__control:checked~label.sk-toggleable__label {background-color: #d4ebff;}#sk-container-id-1 input.sk-hidden--visually {border: 0;clip: rect(1px 1px 1px 1px);clip: rect(1px, 1px, 1px, 1px);height: 1px;margin: -1px;overflow: hidden;padding: 0;position: absolute;width: 1px;}#sk-container-id-1 div.sk-estimator {font-family: monospace;background-color: #f0f8ff;border: 1px dotted black;border-radius: 0.25em;box-sizing: border-box;margin-bottom: 0.5em;}#sk-container-id-1 div.sk-estimator:hover {background-color: #d4ebff;}#sk-container-id-1 div.sk-parallel-item::after {content: \"\";width: 100%;border-bottom: 1px solid gray;flex-grow: 1;}#sk-container-id-1 div.sk-label:hover label.sk-toggleable__label {background-color: #d4ebff;}#sk-container-id-1 div.sk-serial::before {content: \"\";position: absolute;border-left: 1px solid gray;box-sizing: border-box;top: 0;bottom: 0;left: 50%;z-index: 0;}#sk-container-id-1 div.sk-serial {display: flex;flex-direction: column;align-items: center;background-color: white;padding-right: 0.2em;padding-left: 0.2em;position: relative;}#sk-container-id-1 div.sk-item {position: relative;z-index: 1;}#sk-container-id-1 div.sk-parallel {display: flex;align-items: stretch;justify-content: center;background-color: white;position: relative;}#sk-container-id-1 div.sk-item::before, #sk-container-id-1 div.sk-parallel-item::before {content: \"\";position: absolute;border-left: 1px solid gray;box-sizing: border-box;top: 0;bottom: 0;left: 50%;z-index: -1;}#sk-container-id-1 div.sk-parallel-item {display: flex;flex-direction: column;z-index: 1;position: relative;background-color: white;}#sk-container-id-1 div.sk-parallel-item:first-child::after {align-self: flex-end;width: 50%;}#sk-container-id-1 div.sk-parallel-item:last-child::after {align-self: flex-start;width: 50%;}#sk-container-id-1 div.sk-parallel-item:only-child::after {width: 0;}#sk-container-id-1 div.sk-dashed-wrapped {border: 1px dashed gray;margin: 0 0.4em 0.5em 0.4em;box-sizing: border-box;padding-bottom: 0.4em;background-color: white;}#sk-container-id-1 div.sk-label label {font-family: monospace;font-weight: bold;display: inline-block;line-height: 1.2em;}#sk-container-id-1 div.sk-label-container {text-align: center;}#sk-container-id-1 div.sk-container {/* jupyter's `normalize.less` sets `[hidden] { display: none; }` but bootstrap.min.css set `[hidden] { display: none !important; }` so we also need the `!important` here to be able to override the default hidden behavior on the sphinx rendered scikit-learn.org. See: https://github.com/scikit-learn/scikit-learn/issues/21755 */display: inline-block !important;position: relative;}#sk-container-id-1 div.sk-text-repr-fallback {display: none;}</style><div id=\"sk-container-id-1\" class=\"sk-top-container\"><div class=\"sk-text-repr-fallback\"><pre>Pipeline(steps=[(&#x27;scale&#x27;, None),\n",
       "                (&#x27;model&#x27;,\n",
       "                 LogisticRegression(l1_ratio=0.5, max_iter=5000,\n",
       "                                    penalty=&#x27;elasticnet&#x27;, solver=&#x27;saga&#x27;))])</pre><b>In a Jupyter environment, please rerun this cell to show the HTML representation or trust the notebook. <br />On GitHub, the HTML representation is unable to render, please try loading this page with nbviewer.org.</b></div><div class=\"sk-container\" hidden><div class=\"sk-item sk-dashed-wrapped\"><div class=\"sk-label-container\"><div class=\"sk-label sk-toggleable\"><input class=\"sk-toggleable__control sk-hidden--visually\" id=\"sk-estimator-id-1\" type=\"checkbox\" ><label for=\"sk-estimator-id-1\" class=\"sk-toggleable__label sk-toggleable__label-arrow\">Pipeline</label><div class=\"sk-toggleable__content\"><pre>Pipeline(steps=[(&#x27;scale&#x27;, None),\n",
       "                (&#x27;model&#x27;,\n",
       "                 LogisticRegression(l1_ratio=0.5, max_iter=5000,\n",
       "                                    penalty=&#x27;elasticnet&#x27;, solver=&#x27;saga&#x27;))])</pre></div></div></div><div class=\"sk-serial\"><div class=\"sk-item\"><div class=\"sk-estimator sk-toggleable\"><input class=\"sk-toggleable__control sk-hidden--visually\" id=\"sk-estimator-id-2\" type=\"checkbox\" ><label for=\"sk-estimator-id-2\" class=\"sk-toggleable__label sk-toggleable__label-arrow\">None</label><div class=\"sk-toggleable__content\"><pre>None</pre></div></div></div><div class=\"sk-item\"><div class=\"sk-estimator sk-toggleable\"><input class=\"sk-toggleable__control sk-hidden--visually\" id=\"sk-estimator-id-3\" type=\"checkbox\" ><label for=\"sk-estimator-id-3\" class=\"sk-toggleable__label sk-toggleable__label-arrow\">LogisticRegression</label><div class=\"sk-toggleable__content\"><pre>LogisticRegression(l1_ratio=0.5, max_iter=5000, penalty=&#x27;elasticnet&#x27;,\n",
       "                   solver=&#x27;saga&#x27;)</pre></div></div></div></div></div></div></div>"
      ],
      "text/plain": [
       "Pipeline(steps=[('scale', None),\n",
       "                ('model',\n",
       "                 LogisticRegression(l1_ratio=0.5, max_iter=5000,\n",
       "                                    penalty='elasticnet', solver='saga'))])"
      ]
     },
     "execution_count": 43,
     "metadata": {},
     "output_type": "execute_result"
    }
   ],
   "source": [
    "model.fit(X_train, y_train.values.ravel())"
   ]
  },
  {
   "cell_type": "code",
   "execution_count": 44,
   "id": "af59f8c0",
   "metadata": {
    "execution": {
     "iopub.execute_input": "2025-07-30T13:54:20.675607Z",
     "iopub.status.busy": "2025-07-30T13:54:20.674659Z",
     "iopub.status.idle": "2025-07-30T13:54:20.679705Z",
     "shell.execute_reply": "2025-07-30T13:54:20.678984Z"
    },
    "papermill": {
     "duration": 0.021157,
     "end_time": "2025-07-30T13:54:20.681253",
     "exception": false,
     "start_time": "2025-07-30T13:54:20.660096",
     "status": "completed"
    },
    "tags": []
   },
   "outputs": [],
   "source": [
    "from fairness_multiverse.universe import predict_w_threshold"
   ]
  },
  {
   "cell_type": "code",
   "execution_count": 45,
   "id": "a7cf2e16",
   "metadata": {
    "execution": {
     "iopub.execute_input": "2025-07-30T13:54:20.722915Z",
     "iopub.status.busy": "2025-07-30T13:54:20.722377Z",
     "iopub.status.idle": "2025-07-30T13:54:20.852036Z",
     "shell.execute_reply": "2025-07-30T13:54:20.850032Z"
    },
    "papermill": {
     "duration": 0.158166,
     "end_time": "2025-07-30T13:54:20.853787",
     "exception": false,
     "start_time": "2025-07-30T13:54:20.695621",
     "status": "completed"
    },
    "tags": []
   },
   "outputs": [
    {
     "data": {
      "text/plain": [
       "0.8587559915282578"
      ]
     },
     "execution_count": 45,
     "metadata": {},
     "output_type": "execute_result"
    }
   ],
   "source": [
    "probs_test = model.predict_proba(X_test)\n",
    "\n",
    "'''\n",
    "Below code returns a boolean array (or binary 0/1 array depending on how it’s used) where each element \n",
    "is True if the probability of class 1 is greater than or equal to the threshold, and False otherwise.\n",
    "'''\n",
    "y_pred_default = predict_w_threshold(probs_test, 0.5)\n",
    "\n",
    "from sklearn.metrics import accuracy_score\n",
    "\n",
    "# Naive prediction\n",
    "accuracy_score(y_true = y_true, y_pred = y_pred_default)"
   ]
  },
  {
   "cell_type": "code",
   "execution_count": 46,
   "id": "081964c3",
   "metadata": {
    "execution": {
     "iopub.execute_input": "2025-07-30T13:54:20.895753Z",
     "iopub.status.busy": "2025-07-30T13:54:20.895180Z",
     "iopub.status.idle": "2025-07-30T13:54:20.972588Z",
     "shell.execute_reply": "2025-07-30T13:54:20.971678Z"
    },
    "papermill": {
     "duration": 0.094833,
     "end_time": "2025-07-30T13:54:20.974104",
     "exception": false,
     "start_time": "2025-07-30T13:54:20.879271",
     "status": "completed"
    },
    "tags": []
   },
   "outputs": [
    {
     "data": {
      "text/plain": [
       "array([0, 0, 0, ..., 0, 0, 0])"
      ]
     },
     "execution_count": 46,
     "metadata": {},
     "output_type": "execute_result"
    }
   ],
   "source": [
    "model.predict(X_test)"
   ]
  },
  {
   "cell_type": "markdown",
   "id": "56c9705b",
   "metadata": {
    "papermill": {
     "duration": 0.017889,
     "end_time": "2025-07-30T13:54:21.014434",
     "exception": false,
     "start_time": "2025-07-30T13:54:20.996545",
     "status": "completed"
    },
    "tags": []
   },
   "source": [
    "# Conformal Prediction"
   ]
  },
  {
   "cell_type": "code",
   "execution_count": 47,
   "id": "160ec6ff",
   "metadata": {
    "execution": {
     "iopub.execute_input": "2025-07-30T13:54:21.082823Z",
     "iopub.status.busy": "2025-07-30T13:54:21.082297Z",
     "iopub.status.idle": "2025-07-30T13:54:21.086747Z",
     "shell.execute_reply": "2025-07-30T13:54:21.085980Z"
    },
    "papermill": {
     "duration": 0.039026,
     "end_time": "2025-07-30T13:54:21.088064",
     "exception": false,
     "start_time": "2025-07-30T13:54:21.049038",
     "status": "completed"
    },
    "tags": []
   },
   "outputs": [],
   "source": [
    "# Miscoverage level for conformal prediction (10% allowed error rate => 90% target coverage)\n",
    "alpha = 0.1"
   ]
  },
  {
   "cell_type": "code",
   "execution_count": 48,
   "id": "eadf4555-3dd3-440e-8e35-f82a4ad9f855",
   "metadata": {
    "execution": {
     "iopub.execute_input": "2025-07-30T13:54:21.118688Z",
     "iopub.status.busy": "2025-07-30T13:54:21.118317Z",
     "iopub.status.idle": "2025-07-30T13:54:21.203825Z",
     "shell.execute_reply": "2025-07-30T13:54:21.202814Z"
    },
    "papermill": {
     "duration": 0.10163,
     "end_time": "2025-07-30T13:54:21.205464",
     "exception": false,
     "start_time": "2025-07-30T13:54:21.103834",
     "status": "completed"
    },
    "tags": []
   },
   "outputs": [],
   "source": [
    "probs_calib = model.predict_proba(X_calib)"
   ]
  },
  {
   "cell_type": "code",
   "execution_count": 49,
   "id": "2ed93547-6d5d-4983-9b36-1ecb300da49a",
   "metadata": {
    "execution": {
     "iopub.execute_input": "2025-07-30T13:54:21.255103Z",
     "iopub.status.busy": "2025-07-30T13:54:21.254677Z",
     "iopub.status.idle": "2025-07-30T13:54:21.260279Z",
     "shell.execute_reply": "2025-07-30T13:54:21.259220Z"
    },
    "papermill": {
     "duration": 0.034638,
     "end_time": "2025-07-30T13:54:21.262106",
     "exception": false,
     "start_time": "2025-07-30T13:54:21.227468",
     "status": "completed"
    },
    "tags": []
   },
   "outputs": [],
   "source": [
    "y_calib = y_calib.values.ravel().astype(int)"
   ]
  },
  {
   "cell_type": "code",
   "execution_count": 50,
   "id": "65d1320d-f588-4b38-9072-62af1ae97f7d",
   "metadata": {
    "execution": {
     "iopub.execute_input": "2025-07-30T13:54:21.317094Z",
     "iopub.status.busy": "2025-07-30T13:54:21.316390Z",
     "iopub.status.idle": "2025-07-30T13:54:21.325191Z",
     "shell.execute_reply": "2025-07-30T13:54:21.324508Z"
    },
    "papermill": {
     "duration": 0.036692,
     "end_time": "2025-07-30T13:54:21.326392",
     "exception": false,
     "start_time": "2025-07-30T13:54:21.289700",
     "status": "completed"
    },
    "tags": []
   },
   "outputs": [],
   "source": [
    "from fairness_multiverse.conformal import compute_nc_scores\n",
    "\n",
    "# Compute nonconformity scores on calibration set (1 - probability of true class)\n",
    "nc_scores = compute_nc_scores(probs_calib, y_calib)"
   ]
  },
  {
   "cell_type": "code",
   "execution_count": 51,
   "id": "df3b8ca3-53b7-43d5-9667-7c85da7aeda2",
   "metadata": {
    "execution": {
     "iopub.execute_input": "2025-07-30T13:54:21.390226Z",
     "iopub.status.busy": "2025-07-30T13:54:21.389584Z",
     "iopub.status.idle": "2025-07-30T13:54:21.441124Z",
     "shell.execute_reply": "2025-07-30T13:54:21.439822Z"
    },
    "papermill": {
     "duration": 0.085652,
     "end_time": "2025-07-30T13:54:21.444189",
     "exception": false,
     "start_time": "2025-07-30T13:54:21.358537",
     "status": "completed"
    },
    "tags": []
   },
   "outputs": [],
   "source": [
    "from fairness_multiverse.conformal import find_threshold\n",
    "\n",
    "# Find conformal threshold q_hat for the given alpha (split conformal method)\n",
    "q_hat = find_threshold(nc_scores, alpha)"
   ]
  },
  {
   "cell_type": "code",
   "execution_count": 52,
   "id": "4d29e6c1-0ef6-4aa4-b8fe-4fe79b0d033a",
   "metadata": {
    "execution": {
     "iopub.execute_input": "2025-07-30T13:54:21.519753Z",
     "iopub.status.busy": "2025-07-30T13:54:21.519391Z",
     "iopub.status.idle": "2025-07-30T13:54:21.526458Z",
     "shell.execute_reply": "2025-07-30T13:54:21.525176Z"
    },
    "papermill": {
     "duration": 0.046613,
     "end_time": "2025-07-30T13:54:21.528275",
     "exception": false,
     "start_time": "2025-07-30T13:54:21.481662",
     "status": "completed"
    },
    "tags": []
   },
   "outputs": [
    {
     "data": {
      "text/plain": [
       "0.6834166676079328"
      ]
     },
     "execution_count": 52,
     "metadata": {},
     "output_type": "execute_result"
    }
   ],
   "source": [
    "q_hat"
   ]
  },
  {
   "cell_type": "code",
   "execution_count": 53,
   "id": "92460794-cdac-4be2-ba28-f28c0515a6fb",
   "metadata": {
    "execution": {
     "iopub.execute_input": "2025-07-30T13:54:21.582994Z",
     "iopub.status.busy": "2025-07-30T13:54:21.582608Z",
     "iopub.status.idle": "2025-07-30T13:54:22.395911Z",
     "shell.execute_reply": "2025-07-30T13:54:22.395014Z"
    },
    "papermill": {
     "duration": 0.84098,
     "end_time": "2025-07-30T13:54:22.397998",
     "exception": false,
     "start_time": "2025-07-30T13:54:21.557018",
     "status": "completed"
    },
    "tags": []
   },
   "outputs": [],
   "source": [
    "from fairness_multiverse.conformal import predict_conformal_sets\n",
    "\n",
    "# Generate prediction sets for each test example\n",
    "pred_sets = predict_conformal_sets(model, X_test, q_hat)"
   ]
  },
  {
   "cell_type": "code",
   "execution_count": 54,
   "id": "d90c9a65-e6db-4f5d-80cd-e68fb7e46829",
   "metadata": {
    "execution": {
     "iopub.execute_input": "2025-07-30T13:54:22.458552Z",
     "iopub.status.busy": "2025-07-30T13:54:22.458112Z",
     "iopub.status.idle": "2025-07-30T13:54:22.463231Z",
     "shell.execute_reply": "2025-07-30T13:54:22.462330Z"
    },
    "papermill": {
     "duration": 0.033599,
     "end_time": "2025-07-30T13:54:22.465111",
     "exception": false,
     "start_time": "2025-07-30T13:54:22.431512",
     "status": "completed"
    },
    "tags": []
   },
   "outputs": [],
   "source": [
    "y_true = y_true.squeeze()"
   ]
  },
  {
   "cell_type": "code",
   "execution_count": 55,
   "id": "3a58a54a-1e68-46b9-927a-df01f18aebc8",
   "metadata": {
    "execution": {
     "iopub.execute_input": "2025-07-30T13:54:22.526849Z",
     "iopub.status.busy": "2025-07-30T13:54:22.525960Z",
     "iopub.status.idle": "2025-07-30T13:54:23.404094Z",
     "shell.execute_reply": "2025-07-30T13:54:23.403213Z"
    },
    "papermill": {
     "duration": 0.909716,
     "end_time": "2025-07-30T13:54:23.405905",
     "exception": false,
     "start_time": "2025-07-30T13:54:22.496189",
     "status": "completed"
    },
    "tags": []
   },
   "outputs": [],
   "source": [
    "from fairness_multiverse.conformal import evaluate_sets\n",
    "\n",
    "# Evaluate coverage and average set size on test data\n",
    "metrics = evaluate_sets(pred_sets, y_true)"
   ]
  },
  {
   "cell_type": "markdown",
   "id": "2b569c12-9aaa-4c88-98c9-bbcd0cf3ebb8",
   "metadata": {
    "papermill": {
     "duration": 0.025146,
     "end_time": "2025-07-30T13:54:23.455046",
     "exception": false,
     "start_time": "2025-07-30T13:54:23.429900",
     "status": "completed"
    },
    "tags": []
   },
   "source": [
    "# CP Metrics"
   ]
  },
  {
   "cell_type": "code",
   "execution_count": 56,
   "id": "5ce0a5cb-201f-45a0-ade5-94c7f0bd6095",
   "metadata": {
    "execution": {
     "iopub.execute_input": "2025-07-30T13:54:23.506164Z",
     "iopub.status.busy": "2025-07-30T13:54:23.505670Z",
     "iopub.status.idle": "2025-07-30T13:54:23.513571Z",
     "shell.execute_reply": "2025-07-30T13:54:23.512524Z"
    },
    "papermill": {
     "duration": 0.035514,
     "end_time": "2025-07-30T13:54:23.515437",
     "exception": false,
     "start_time": "2025-07-30T13:54:23.479923",
     "status": "completed"
    },
    "tags": []
   },
   "outputs": [
    {
     "data": {
      "text/plain": [
       "{'coverage': 0.9096644744175677, 'avg_size': 1.1519563036450786}"
      ]
     },
     "execution_count": 56,
     "metadata": {},
     "output_type": "execute_result"
    }
   ],
   "source": [
    "metrics"
   ]
  },
  {
   "cell_type": "code",
   "execution_count": 57,
   "id": "9b9a838d-31c9-430b-ae14-12baee460d17",
   "metadata": {
    "execution": {
     "iopub.execute_input": "2025-07-30T13:54:23.568843Z",
     "iopub.status.busy": "2025-07-30T13:54:23.568072Z",
     "iopub.status.idle": "2025-07-30T13:54:23.575139Z",
     "shell.execute_reply": "2025-07-30T13:54:23.574146Z"
    },
    "papermill": {
     "duration": 0.035792,
     "end_time": "2025-07-30T13:54:23.576812",
     "exception": false,
     "start_time": "2025-07-30T13:54:23.541020",
     "status": "completed"
    },
    "tags": []
   },
   "outputs": [],
   "source": [
    "example_universe = universe.copy()\n",
    "universe_training_size = example_universe.get(\"training_size\")\n",
    "universe_scale = example_universe.get(\"scale\")\n",
    "universe_model = example_universe.get(\"model\")\n",
    "universe_exclude_features = example_universe.get(\"exclude_features\")\n",
    "universe_exclude_subgroups = example_universe.get(\"exclude_subgroups\")"
   ]
  },
  {
   "cell_type": "code",
   "execution_count": 58,
   "id": "f4b6a8ac-9dc0-4245-8a91-5b3b5999c4f9",
   "metadata": {
    "execution": {
     "iopub.execute_input": "2025-07-30T13:54:23.628139Z",
     "iopub.status.busy": "2025-07-30T13:54:23.627643Z",
     "iopub.status.idle": "2025-07-30T13:54:23.633833Z",
     "shell.execute_reply": "2025-07-30T13:54:23.632960Z"
    },
    "papermill": {
     "duration": 0.033354,
     "end_time": "2025-07-30T13:54:23.635277",
     "exception": false,
     "start_time": "2025-07-30T13:54:23.601923",
     "status": "completed"
    },
    "tags": []
   },
   "outputs": [],
   "source": [
    "cp_metrics_dict = {\n",
    "    \"universe_id\": [universe_id],\n",
    "    \"universe_training_size\": [universe_training_size],\n",
    "    \"universe_scale\": [universe_scale],\n",
    "    \"universe_model\": [universe_model],\n",
    "    \"universe_exclude_features\": [universe_exclude_features],\n",
    "    \"universe_exclude_subgroups\": [universe_exclude_subgroups],\n",
    "    \"q_hat\": [q_hat],\n",
    "    \"coverage\": [metrics[\"coverage\"]],\n",
    "    \"avg_size\": [metrics[\"avg_size\"]],\n",
    "}"
   ]
  },
  {
   "cell_type": "code",
   "execution_count": 59,
   "id": "908acbb1-0371-4915-85ca-3fa520d2efe2",
   "metadata": {
    "execution": {
     "iopub.execute_input": "2025-07-30T13:54:23.686693Z",
     "iopub.status.busy": "2025-07-30T13:54:23.685919Z",
     "iopub.status.idle": "2025-07-30T13:54:23.693180Z",
     "shell.execute_reply": "2025-07-30T13:54:23.692212Z"
    },
    "papermill": {
     "duration": 0.035566,
     "end_time": "2025-07-30T13:54:23.694715",
     "exception": false,
     "start_time": "2025-07-30T13:54:23.659149",
     "status": "completed"
    },
    "tags": []
   },
   "outputs": [
    {
     "data": {
      "text/plain": [
       "{'universe_id': ['6df84b9af6ef602494825180d40fdfc7'],\n",
       " 'universe_training_size': ['5k'],\n",
       " 'universe_scale': ['do-not-scale'],\n",
       " 'universe_model': ['elasticnet'],\n",
       " 'universe_exclude_features': ['nationality-sex'],\n",
       " 'universe_exclude_subgroups': ['drop-non-german'],\n",
       " 'q_hat': [0.6834166676079328],\n",
       " 'coverage': [0.9096644744175677],\n",
       " 'avg_size': [1.1519563036450786]}"
      ]
     },
     "execution_count": 59,
     "metadata": {},
     "output_type": "execute_result"
    }
   ],
   "source": [
    "cp_metrics_dict"
   ]
  },
  {
   "cell_type": "code",
   "execution_count": 60,
   "id": "33007efc-14e9-4ec6-97ac-56a455c82265",
   "metadata": {
    "execution": {
     "iopub.execute_input": "2025-07-30T13:54:23.745342Z",
     "iopub.status.busy": "2025-07-30T13:54:23.744713Z",
     "iopub.status.idle": "2025-07-30T13:54:23.751202Z",
     "shell.execute_reply": "2025-07-30T13:54:23.750274Z"
    },
    "papermill": {
     "duration": 0.0333,
     "end_time": "2025-07-30T13:54:23.752840",
     "exception": false,
     "start_time": "2025-07-30T13:54:23.719540",
     "status": "completed"
    },
    "tags": []
   },
   "outputs": [],
   "source": [
    "cp_metrics_df = pd.DataFrame(cp_metrics_dict)"
   ]
  },
  {
   "cell_type": "code",
   "execution_count": 61,
   "id": "db12611b-57b2-4910-b9d0-355adfd6e7bf",
   "metadata": {
    "execution": {
     "iopub.execute_input": "2025-07-30T13:54:23.808440Z",
     "iopub.status.busy": "2025-07-30T13:54:23.807604Z",
     "iopub.status.idle": "2025-07-30T13:54:23.826792Z",
     "shell.execute_reply": "2025-07-30T13:54:23.825671Z"
    },
    "papermill": {
     "duration": 0.048976,
     "end_time": "2025-07-30T13:54:23.828422",
     "exception": false,
     "start_time": "2025-07-30T13:54:23.779446",
     "status": "completed"
    },
    "tags": []
   },
   "outputs": [
    {
     "data": {
      "text/html": [
       "<div>\n",
       "<style scoped>\n",
       "    .dataframe tbody tr th:only-of-type {\n",
       "        vertical-align: middle;\n",
       "    }\n",
       "\n",
       "    .dataframe tbody tr th {\n",
       "        vertical-align: top;\n",
       "    }\n",
       "\n",
       "    .dataframe thead th {\n",
       "        text-align: right;\n",
       "    }\n",
       "</style>\n",
       "<table border=\"1\" class=\"dataframe\">\n",
       "  <thead>\n",
       "    <tr style=\"text-align: right;\">\n",
       "      <th></th>\n",
       "      <th>universe_id</th>\n",
       "      <th>universe_training_size</th>\n",
       "      <th>universe_scale</th>\n",
       "      <th>universe_model</th>\n",
       "      <th>universe_exclude_features</th>\n",
       "      <th>universe_exclude_subgroups</th>\n",
       "      <th>q_hat</th>\n",
       "      <th>coverage</th>\n",
       "      <th>avg_size</th>\n",
       "    </tr>\n",
       "  </thead>\n",
       "  <tbody>\n",
       "    <tr>\n",
       "      <th>0</th>\n",
       "      <td>6df84b9af6ef602494825180d40fdfc7</td>\n",
       "      <td>5k</td>\n",
       "      <td>do-not-scale</td>\n",
       "      <td>elasticnet</td>\n",
       "      <td>nationality-sex</td>\n",
       "      <td>drop-non-german</td>\n",
       "      <td>0.683417</td>\n",
       "      <td>0.909664</td>\n",
       "      <td>1.151956</td>\n",
       "    </tr>\n",
       "  </tbody>\n",
       "</table>\n",
       "</div>"
      ],
      "text/plain": [
       "                        universe_id universe_training_size universe_scale  \\\n",
       "0  6df84b9af6ef602494825180d40fdfc7                     5k   do-not-scale   \n",
       "\n",
       "  universe_model universe_exclude_features universe_exclude_subgroups  \\\n",
       "0     elasticnet           nationality-sex            drop-non-german   \n",
       "\n",
       "      q_hat  coverage  avg_size  \n",
       "0  0.683417  0.909664  1.151956  "
      ]
     },
     "execution_count": 61,
     "metadata": {},
     "output_type": "execute_result"
    }
   ],
   "source": [
    "cp_metrics_df"
   ]
  },
  {
   "cell_type": "code",
   "execution_count": 62,
   "id": "b7fbde55-a0a1-47e4-9af6-fe4a17fa8c61",
   "metadata": {
    "execution": {
     "iopub.execute_input": "2025-07-30T13:54:23.879714Z",
     "iopub.status.busy": "2025-07-30T13:54:23.879067Z",
     "iopub.status.idle": "2025-07-30T13:54:23.883959Z",
     "shell.execute_reply": "2025-07-30T13:54:23.883088Z"
    },
    "papermill": {
     "duration": 0.032396,
     "end_time": "2025-07-30T13:54:23.885648",
     "exception": false,
     "start_time": "2025-07-30T13:54:23.853252",
     "status": "completed"
    },
    "tags": []
   },
   "outputs": [],
   "source": [
    "# Conditional Coverage & looking at subgroups"
   ]
  },
  {
   "cell_type": "code",
   "execution_count": 63,
   "id": "027ae886-68dd-4141-96c7-805a5450e1ef",
   "metadata": {
    "execution": {
     "iopub.execute_input": "2025-07-30T13:54:23.938438Z",
     "iopub.status.busy": "2025-07-30T13:54:23.937781Z",
     "iopub.status.idle": "2025-07-30T13:54:24.195345Z",
     "shell.execute_reply": "2025-07-30T13:54:24.194306Z"
    },
    "papermill": {
     "duration": 0.28617,
     "end_time": "2025-07-30T13:54:24.197652",
     "exception": false,
     "start_time": "2025-07-30T13:54:23.911482",
     "status": "completed"
    },
    "tags": []
   },
   "outputs": [],
   "source": [
    "from fairness_multiverse.conformal import build_cp_groups\n",
    "\n",
    "cp_groups_df = build_cp_groups(pred_sets, y_true, X_test.index, org_test)\n",
    "#needs universe_id and setting"
   ]
  },
  {
   "cell_type": "code",
   "execution_count": 64,
   "id": "01d5802c-663a-4d1f-9d69-e036faaffbf7",
   "metadata": {
    "execution": {
     "iopub.execute_input": "2025-07-30T13:54:24.247880Z",
     "iopub.status.busy": "2025-07-30T13:54:24.247432Z",
     "iopub.status.idle": "2025-07-30T13:54:24.264488Z",
     "shell.execute_reply": "2025-07-30T13:54:24.263595Z"
    },
    "papermill": {
     "duration": 0.043413,
     "end_time": "2025-07-30T13:54:24.265958",
     "exception": false,
     "start_time": "2025-07-30T13:54:24.222545",
     "status": "completed"
    },
    "tags": []
   },
   "outputs": [],
   "source": [
    "#delete\n",
    "#cp_groups_df"
   ]
  },
  {
   "cell_type": "code",
   "execution_count": 65,
   "id": "fa424af1-d1eb-443d-b717-2d279ada8408",
   "metadata": {
    "execution": {
     "iopub.execute_input": "2025-07-30T13:54:24.323893Z",
     "iopub.status.busy": "2025-07-30T13:54:24.323409Z",
     "iopub.status.idle": "2025-07-30T13:54:24.329106Z",
     "shell.execute_reply": "2025-07-30T13:54:24.327929Z"
    },
    "papermill": {
     "duration": 0.03768,
     "end_time": "2025-07-30T13:54:24.331412",
     "exception": false,
     "start_time": "2025-07-30T13:54:24.293732",
     "status": "completed"
    },
    "tags": []
   },
   "outputs": [],
   "source": [
    "#delete\n",
    "#percentage = (cp_groups_df['nongerman_female'] == 1).mean() * 100\n",
    "#print(percentage)\n"
   ]
  },
  {
   "cell_type": "code",
   "execution_count": 66,
   "id": "6cbdab96-b2b2-45af-ad54-d0516db2e28d",
   "metadata": {
    "execution": {
     "iopub.execute_input": "2025-07-30T13:54:24.388215Z",
     "iopub.status.busy": "2025-07-30T13:54:24.387693Z",
     "iopub.status.idle": "2025-07-30T13:54:25.907312Z",
     "shell.execute_reply": "2025-07-30T13:54:25.906170Z"
    },
    "papermill": {
     "duration": 1.548785,
     "end_time": "2025-07-30T13:54:25.909164",
     "exception": false,
     "start_time": "2025-07-30T13:54:24.360379",
     "status": "completed"
    },
    "tags": []
   },
   "outputs": [],
   "source": [
    "# Define covered = 1 if true_label is in the predicted set\n",
    "cp_groups_df['covered'] = cp_groups_df.apply(\n",
    "    lambda r: int(r['true_label'] in r['pred_set']),\n",
    "    axis=1\n",
    ")"
   ]
  },
  {
   "cell_type": "code",
   "execution_count": 67,
   "id": "338ff529-1a6b-4b87-a931-8e4788d52aad",
   "metadata": {
    "execution": {
     "iopub.execute_input": "2025-07-30T13:54:25.969426Z",
     "iopub.status.busy": "2025-07-30T13:54:25.968889Z",
     "iopub.status.idle": "2025-07-30T13:54:25.974520Z",
     "shell.execute_reply": "2025-07-30T13:54:25.973542Z"
    },
    "papermill": {
     "duration": 0.036393,
     "end_time": "2025-07-30T13:54:25.976354",
     "exception": false,
     "start_time": "2025-07-30T13:54:25.939961",
     "status": "completed"
    },
    "tags": []
   },
   "outputs": [],
   "source": [
    "#cp_groups_df"
   ]
  },
  {
   "cell_type": "code",
   "execution_count": 68,
   "id": "90032e27-66df-4540-9169-4e89cfbaa758",
   "metadata": {
    "execution": {
     "iopub.execute_input": "2025-07-30T13:54:26.033857Z",
     "iopub.status.busy": "2025-07-30T13:54:26.033124Z",
     "iopub.status.idle": "2025-07-30T13:54:26.046102Z",
     "shell.execute_reply": "2025-07-30T13:54:26.045059Z"
    },
    "papermill": {
     "duration": 0.042368,
     "end_time": "2025-07-30T13:54:26.048172",
     "exception": false,
     "start_time": "2025-07-30T13:54:26.005804",
     "status": "completed"
    },
    "tags": []
   },
   "outputs": [],
   "source": [
    "subgroups = ['frau1','nongerman','nongerman_male','nongerman_female']\n",
    "\n",
    "# Conditional coverage for subgroup==1\n",
    "cond_coverage = {\n",
    "    g: cp_groups_df.loc[cp_groups_df[g]==1, 'covered'].mean()\n",
    "    for g in subgroups\n",
    "}"
   ]
  },
  {
   "cell_type": "code",
   "execution_count": 69,
   "id": "1e348fb1-b9c3-45bc-ba23-f016827a7e0d",
   "metadata": {
    "execution": {
     "iopub.execute_input": "2025-07-30T13:54:26.100217Z",
     "iopub.status.busy": "2025-07-30T13:54:26.099736Z",
     "iopub.status.idle": "2025-07-30T13:54:26.107476Z",
     "shell.execute_reply": "2025-07-30T13:54:26.106245Z"
    },
    "papermill": {
     "duration": 0.035536,
     "end_time": "2025-07-30T13:54:26.109448",
     "exception": false,
     "start_time": "2025-07-30T13:54:26.073912",
     "status": "completed"
    },
    "tags": []
   },
   "outputs": [
    {
     "data": {
      "text/plain": [
       "{'frau1': 0.9067259738509234,\n",
       " 'nongerman': 0.910683208892382,\n",
       " 'nongerman_male': 0.92704674412321,\n",
       " 'nongerman_female': 0.8836065573770492}"
      ]
     },
     "execution_count": 69,
     "metadata": {},
     "output_type": "execute_result"
    }
   ],
   "source": [
    "cond_coverage"
   ]
  },
  {
   "cell_type": "code",
   "execution_count": 70,
   "id": "f5093324-c3dd-4d63-bc4c-8d945e5c8bbb",
   "metadata": {
    "execution": {
     "iopub.execute_input": "2025-07-30T13:54:26.168328Z",
     "iopub.status.busy": "2025-07-30T13:54:26.167734Z",
     "iopub.status.idle": "2025-07-30T13:54:26.174976Z",
     "shell.execute_reply": "2025-07-30T13:54:26.173903Z"
    },
    "papermill": {
     "duration": 0.040261,
     "end_time": "2025-07-30T13:54:26.176981",
     "exception": false,
     "start_time": "2025-07-30T13:54:26.136720",
     "status": "completed"
    },
    "tags": []
   },
   "outputs": [],
   "source": [
    "for subgroup, cov in cond_coverage.items():\n",
    "    cp_metrics_df[f\"cov_{subgroup}\"] = cov"
   ]
  },
  {
   "cell_type": "code",
   "execution_count": 71,
   "id": "6e872e10-dbe5-49e8-b554-5030c98ff75d",
   "metadata": {
    "execution": {
     "iopub.execute_input": "2025-07-30T13:54:26.239397Z",
     "iopub.status.busy": "2025-07-30T13:54:26.238916Z",
     "iopub.status.idle": "2025-07-30T13:54:26.259646Z",
     "shell.execute_reply": "2025-07-30T13:54:26.258488Z"
    },
    "papermill": {
     "duration": 0.052705,
     "end_time": "2025-07-30T13:54:26.261348",
     "exception": false,
     "start_time": "2025-07-30T13:54:26.208643",
     "status": "completed"
    },
    "tags": []
   },
   "outputs": [
    {
     "data": {
      "text/html": [
       "<div>\n",
       "<style scoped>\n",
       "    .dataframe tbody tr th:only-of-type {\n",
       "        vertical-align: middle;\n",
       "    }\n",
       "\n",
       "    .dataframe tbody tr th {\n",
       "        vertical-align: top;\n",
       "    }\n",
       "\n",
       "    .dataframe thead th {\n",
       "        text-align: right;\n",
       "    }\n",
       "</style>\n",
       "<table border=\"1\" class=\"dataframe\">\n",
       "  <thead>\n",
       "    <tr style=\"text-align: right;\">\n",
       "      <th></th>\n",
       "      <th>universe_id</th>\n",
       "      <th>universe_training_size</th>\n",
       "      <th>universe_scale</th>\n",
       "      <th>universe_model</th>\n",
       "      <th>universe_exclude_features</th>\n",
       "      <th>universe_exclude_subgroups</th>\n",
       "      <th>q_hat</th>\n",
       "      <th>coverage</th>\n",
       "      <th>avg_size</th>\n",
       "      <th>cov_frau1</th>\n",
       "      <th>cov_nongerman</th>\n",
       "      <th>cov_nongerman_male</th>\n",
       "      <th>cov_nongerman_female</th>\n",
       "    </tr>\n",
       "  </thead>\n",
       "  <tbody>\n",
       "    <tr>\n",
       "      <th>0</th>\n",
       "      <td>6df84b9af6ef602494825180d40fdfc7</td>\n",
       "      <td>5k</td>\n",
       "      <td>do-not-scale</td>\n",
       "      <td>elasticnet</td>\n",
       "      <td>nationality-sex</td>\n",
       "      <td>drop-non-german</td>\n",
       "      <td>0.683417</td>\n",
       "      <td>0.909664</td>\n",
       "      <td>1.151956</td>\n",
       "      <td>0.906726</td>\n",
       "      <td>0.910683</td>\n",
       "      <td>0.927047</td>\n",
       "      <td>0.883607</td>\n",
       "    </tr>\n",
       "  </tbody>\n",
       "</table>\n",
       "</div>"
      ],
      "text/plain": [
       "                        universe_id universe_training_size universe_scale  \\\n",
       "0  6df84b9af6ef602494825180d40fdfc7                     5k   do-not-scale   \n",
       "\n",
       "  universe_model universe_exclude_features universe_exclude_subgroups  \\\n",
       "0     elasticnet           nationality-sex            drop-non-german   \n",
       "\n",
       "      q_hat  coverage  avg_size  cov_frau1  cov_nongerman  cov_nongerman_male  \\\n",
       "0  0.683417  0.909664  1.151956   0.906726       0.910683            0.927047   \n",
       "\n",
       "   cov_nongerman_female  \n",
       "0              0.883607  "
      ]
     },
     "execution_count": 71,
     "metadata": {},
     "output_type": "execute_result"
    }
   ],
   "source": [
    "cp_metrics_df"
   ]
  },
  {
   "cell_type": "markdown",
   "id": "33774451",
   "metadata": {
    "papermill": {
     "duration": 0.025803,
     "end_time": "2025-07-30T13:54:26.316159",
     "exception": false,
     "start_time": "2025-07-30T13:54:26.290356",
     "status": "completed"
    },
    "tags": []
   },
   "source": [
    "# (Fairness) Metrics"
   ]
  },
  {
   "cell_type": "code",
   "execution_count": 72,
   "id": "debc5d62",
   "metadata": {
    "execution": {
     "iopub.execute_input": "2025-07-30T13:54:26.371842Z",
     "iopub.status.busy": "2025-07-30T13:54:26.371401Z",
     "iopub.status.idle": "2025-07-30T13:54:26.394840Z",
     "shell.execute_reply": "2025-07-30T13:54:26.393825Z"
    },
    "papermill": {
     "duration": 0.054296,
     "end_time": "2025-07-30T13:54:26.397579",
     "exception": false,
     "start_time": "2025-07-30T13:54:26.343283",
     "status": "completed"
    },
    "tags": []
   },
   "outputs": [],
   "source": [
    "# do I need to include maxdeutsch1.missing?\n",
    "\n",
    "import numpy as np\n",
    "\n",
    "colname_to_bin = \"maxdeutsch1\"\n",
    "majority_value = org_train[colname_to_bin].mode()[0]\n",
    "\n",
    "org_test[\"majmin\"] = np.where(org_test[colname_to_bin] == majority_value, \"majority\", \"minority\")"
   ]
  },
  {
   "cell_type": "code",
   "execution_count": 73,
   "id": "06a50de5",
   "metadata": {
    "execution": {
     "iopub.execute_input": "2025-07-30T13:54:26.460558Z",
     "iopub.status.busy": "2025-07-30T13:54:26.459560Z",
     "iopub.status.idle": "2025-07-30T13:54:29.040235Z",
     "shell.execute_reply": "2025-07-30T13:54:29.039489Z"
    },
    "papermill": {
     "duration": 2.612838,
     "end_time": "2025-07-30T13:54:29.041682",
     "exception": false,
     "start_time": "2025-07-30T13:54:26.428844",
     "status": "completed"
    },
    "tags": []
   },
   "outputs": [],
   "source": [
    "example_universe = universe.copy()\n",
    "example_universe[\"cutoff\"] = example_universe[\"cutoff\"][0]\n",
    "example_universe[\"eval_fairness_grouping\"] = example_universe[\"eval_fairness_grouping\"][0]\n",
    "fairness_dict, metric_frame = universe_analysis.compute_metrics(\n",
    "    example_universe,\n",
    "    y_pred_prob=probs_test,\n",
    "    y_test=y_true,\n",
    "    org_test=org_test,\n",
    ")"
   ]
  },
  {
   "cell_type": "markdown",
   "id": "f95d4e02",
   "metadata": {
    "papermill": {
     "duration": 0.026351,
     "end_time": "2025-07-30T13:54:29.084308",
     "exception": false,
     "start_time": "2025-07-30T13:54:29.057957",
     "status": "completed"
    },
    "tags": []
   },
   "source": [
    "# Overall"
   ]
  },
  {
   "cell_type": "markdown",
   "id": "bdee4871",
   "metadata": {
    "papermill": {
     "duration": 0.025648,
     "end_time": "2025-07-30T13:54:29.134995",
     "exception": false,
     "start_time": "2025-07-30T13:54:29.109347",
     "status": "completed"
    },
    "tags": []
   },
   "source": [
    "Fairness\n",
    "Main fairness target: Equalized Odds. Seems to be a better fit than equal opportunity, since we're not only interested in Y = 1. Seems to be a better fit than demographic parity, since we also care about accuracy, not just equal distribution of preds.\n",
    "\n",
    "Pick column for computation of fairness metrics\n",
    "\n",
    "Performance\n",
    "Overall performance measures, most interesting in relation to the measures split by group below"
   ]
  },
  {
   "cell_type": "code",
   "execution_count": 74,
   "id": "c4e067c6",
   "metadata": {
    "execution": {
     "iopub.execute_input": "2025-07-30T13:54:29.187512Z",
     "iopub.status.busy": "2025-07-30T13:54:29.186669Z",
     "iopub.status.idle": "2025-07-30T13:54:29.195235Z",
     "shell.execute_reply": "2025-07-30T13:54:29.194319Z"
    },
    "papermill": {
     "duration": 0.03671,
     "end_time": "2025-07-30T13:54:29.196948",
     "exception": false,
     "start_time": "2025-07-30T13:54:29.160238",
     "status": "completed"
    },
    "tags": []
   },
   "outputs": [
    {
     "data": {
      "text/plain": [
       "accuracy                   0.219474\n",
       "balanced accuracy          0.537670\n",
       "f1                         0.240940\n",
       "precision                  0.137641\n",
       "false positive rate        0.890335\n",
       "false negative rate        0.034324\n",
       "selection rate             0.900000\n",
       "count                  89710.000000\n",
       "dtype: float64"
      ]
     },
     "execution_count": 74,
     "metadata": {},
     "output_type": "execute_result"
    }
   ],
   "source": [
    "metric_frame.overall"
   ]
  },
  {
   "cell_type": "markdown",
   "id": "e968fe9d",
   "metadata": {
    "papermill": {
     "duration": 0.025573,
     "end_time": "2025-07-30T13:54:29.248462",
     "exception": false,
     "start_time": "2025-07-30T13:54:29.222889",
     "status": "completed"
    },
    "tags": []
   },
   "source": [
    "By Group"
   ]
  },
  {
   "cell_type": "code",
   "execution_count": 75,
   "id": "ec325bce",
   "metadata": {
    "execution": {
     "iopub.execute_input": "2025-07-30T13:54:29.302156Z",
     "iopub.status.busy": "2025-07-30T13:54:29.301477Z",
     "iopub.status.idle": "2025-07-30T13:54:29.317450Z",
     "shell.execute_reply": "2025-07-30T13:54:29.316436Z"
    },
    "papermill": {
     "duration": 0.045226,
     "end_time": "2025-07-30T13:54:29.319072",
     "exception": false,
     "start_time": "2025-07-30T13:54:29.273846",
     "status": "completed"
    },
    "tags": []
   },
   "outputs": [
    {
     "data": {
      "text/html": [
       "<div>\n",
       "<style scoped>\n",
       "    .dataframe tbody tr th:only-of-type {\n",
       "        vertical-align: middle;\n",
       "    }\n",
       "\n",
       "    .dataframe tbody tr th {\n",
       "        vertical-align: top;\n",
       "    }\n",
       "\n",
       "    .dataframe thead th {\n",
       "        text-align: right;\n",
       "    }\n",
       "</style>\n",
       "<table border=\"1\" class=\"dataframe\">\n",
       "  <thead>\n",
       "    <tr style=\"text-align: right;\">\n",
       "      <th></th>\n",
       "      <th>accuracy</th>\n",
       "      <th>balanced accuracy</th>\n",
       "      <th>f1</th>\n",
       "      <th>precision</th>\n",
       "      <th>false positive rate</th>\n",
       "      <th>false negative rate</th>\n",
       "      <th>selection rate</th>\n",
       "      <th>count</th>\n",
       "    </tr>\n",
       "    <tr>\n",
       "      <th>majmin</th>\n",
       "      <th></th>\n",
       "      <th></th>\n",
       "      <th></th>\n",
       "      <th></th>\n",
       "      <th></th>\n",
       "      <th></th>\n",
       "      <th></th>\n",
       "      <th></th>\n",
       "    </tr>\n",
       "  </thead>\n",
       "  <tbody>\n",
       "    <tr>\n",
       "      <th>majority</th>\n",
       "      <td>0.241318</td>\n",
       "      <td>0.546346</td>\n",
       "      <td>0.250785</td>\n",
       "      <td>0.144211</td>\n",
       "      <td>0.868249</td>\n",
       "      <td>0.039059</td>\n",
       "      <td>0.880497</td>\n",
       "      <td>69170.0</td>\n",
       "    </tr>\n",
       "    <tr>\n",
       "      <th>minority</th>\n",
       "      <td>0.145910</td>\n",
       "      <td>0.510329</td>\n",
       "      <td>0.209882</td>\n",
       "      <td>0.117469</td>\n",
       "      <td>0.963295</td>\n",
       "      <td>0.016047</td>\n",
       "      <td>0.965677</td>\n",
       "      <td>20540.0</td>\n",
       "    </tr>\n",
       "  </tbody>\n",
       "</table>\n",
       "</div>"
      ],
      "text/plain": [
       "          accuracy  balanced accuracy        f1  precision  \\\n",
       "majmin                                                       \n",
       "majority  0.241318           0.546346  0.250785   0.144211   \n",
       "minority  0.145910           0.510329  0.209882   0.117469   \n",
       "\n",
       "          false positive rate  false negative rate  selection rate    count  \n",
       "majmin                                                                       \n",
       "majority             0.868249             0.039059        0.880497  69170.0  \n",
       "minority             0.963295             0.016047        0.965677  20540.0  "
      ]
     },
     "execution_count": 75,
     "metadata": {},
     "output_type": "execute_result"
    }
   ],
   "source": [
    "metric_frame.by_group"
   ]
  },
  {
   "cell_type": "code",
   "execution_count": 76,
   "id": "a9ddbe63",
   "metadata": {
    "execution": {
     "iopub.execute_input": "2025-07-30T13:54:29.376039Z",
     "iopub.status.busy": "2025-07-30T13:54:29.375383Z",
     "iopub.status.idle": "2025-07-30T13:54:31.672498Z",
     "shell.execute_reply": "2025-07-30T13:54:31.671764Z"
    },
    "papermill": {
     "duration": 2.326399,
     "end_time": "2025-07-30T13:54:31.673818",
     "exception": false,
     "start_time": "2025-07-30T13:54:29.347419",
     "status": "completed"
    },
    "tags": []
   },
   "outputs": [
    {
     "data": {
      "text/plain": [
       "array([[<Axes: title={'center': 'accuracy'}, xlabel='majmin'>,\n",
       "        <Axes: title={'center': 'balanced accuracy'}, xlabel='majmin'>,\n",
       "        <Axes: title={'center': 'f1'}, xlabel='majmin'>],\n",
       "       [<Axes: title={'center': 'precision'}, xlabel='majmin'>,\n",
       "        <Axes: title={'center': 'false positive rate'}, xlabel='majmin'>,\n",
       "        <Axes: title={'center': 'false negative rate'}, xlabel='majmin'>],\n",
       "       [<Axes: title={'center': 'selection rate'}, xlabel='majmin'>,\n",
       "        <Axes: title={'center': 'count'}, xlabel='majmin'>,\n",
       "        <Axes: xlabel='majmin'>]], dtype=object)"
      ]
     },
     "execution_count": 76,
     "metadata": {},
     "output_type": "execute_result"
    },
    {
     "data": {
      "image/png": "[encoded data removed]",
      "text/plain": [
       "<Figure size 1200x800 with 9 Axes>"
      ]
     },
     "metadata": {},
     "output_type": "display_data"
    }
   ],
   "source": [
    "# In a graphic\n",
    "metric_frame.by_group.plot.bar(\n",
    "    subplots=True,\n",
    "    layout=[3, 3],\n",
    "    legend=False,\n",
    "    figsize=[12, 8],\n",
    "    title=\"Show all metrics\",\n",
    ")"
   ]
  },
  {
   "cell_type": "markdown",
   "id": "f57a0bac",
   "metadata": {
    "papermill": {
     "duration": 0.017624,
     "end_time": "2025-07-30T13:54:31.709280",
     "exception": false,
     "start_time": "2025-07-30T13:54:31.691656",
     "status": "completed"
    },
    "tags": []
   },
   "source": [
    "# Final Output"
   ]
  },
  {
   "cell_type": "code",
   "execution_count": 77,
   "id": "96d280a3",
   "metadata": {
    "execution": {
     "iopub.execute_input": "2025-07-30T13:54:31.741441Z",
     "iopub.status.busy": "2025-07-30T13:54:31.741014Z",
     "iopub.status.idle": "2025-07-30T13:54:31.747688Z",
     "shell.execute_reply": "2025-07-30T13:54:31.746615Z"
    },
    "papermill": {
     "duration": 0.024039,
     "end_time": "2025-07-30T13:54:31.749393",
     "exception": false,
     "start_time": "2025-07-30T13:54:31.725354",
     "status": "completed"
    },
    "tags": []
   },
   "outputs": [
    {
     "data": {
      "text/plain": [
       "4"
      ]
     },
     "execution_count": 77,
     "metadata": {},
     "output_type": "execute_result"
    }
   ],
   "source": [
    "sub_universes = universe_analysis.generate_sub_universes()\n",
    "len(sub_universes)"
   ]
  },
  {
   "cell_type": "code",
   "execution_count": 78,
   "id": "92adf7ba",
   "metadata": {
    "execution": {
     "iopub.execute_input": "2025-07-30T13:54:31.812981Z",
     "iopub.status.busy": "2025-07-30T13:54:31.812451Z",
     "iopub.status.idle": "2025-07-30T13:54:31.818946Z",
     "shell.execute_reply": "2025-07-30T13:54:31.817845Z"
    },
    "papermill": {
     "duration": 0.039853,
     "end_time": "2025-07-30T13:54:31.820889",
     "exception": false,
     "start_time": "2025-07-30T13:54:31.781036",
     "status": "completed"
    },
    "tags": []
   },
   "outputs": [],
   "source": [
    "def filter_sub_universe_data(sub_universe, org_test):\n",
    "    # Keep all rows — no filtering\n",
    "    keep_rows_mask = np.ones(org_test.shape[0], dtype=bool)\n",
    "\n",
    "    print(f\"[INFO] Keeping all rows: {keep_rows_mask.sum()} rows retained.\")\n",
    "    return keep_rows_mask"
   ]
  },
  {
   "cell_type": "code",
   "execution_count": 79,
   "id": "4a759155",
   "metadata": {
    "execution": {
     "iopub.execute_input": "2025-07-30T13:54:31.890534Z",
     "iopub.status.busy": "2025-07-30T13:54:31.890057Z",
     "iopub.status.idle": "2025-07-30T13:54:41.787815Z",
     "shell.execute_reply": "2025-07-30T13:54:41.786795Z"
    },
    "papermill": {
     "duration": 9.93325,
     "end_time": "2025-07-30T13:54:41.789146",
     "exception": false,
     "start_time": "2025-07-30T13:54:31.855896",
     "status": "completed"
    },
    "tags": []
   },
   "outputs": [
    {
     "name": "stdout",
     "output_type": "stream",
     "text": [
      "Stopping execution_time clock.\n",
      "[INFO] Keeping all rows: 89710 rows retained.\n"
     ]
    },
    {
     "name": "stdout",
     "output_type": "stream",
     "text": [
      "[INFO] Keeping all rows: 89710 rows retained.\n"
     ]
    },
    {
     "name": "stdout",
     "output_type": "stream",
     "text": [
      "[INFO] Keeping all rows: 89710 rows retained.\n"
     ]
    },
    {
     "name": "stdout",
     "output_type": "stream",
     "text": [
      "[INFO] Keeping all rows: 89710 rows retained.\n"
     ]
    },
    {
     "data": {
      "text/html": [
       "<div>\n",
       "<style scoped>\n",
       "    .dataframe tbody tr th:only-of-type {\n",
       "        vertical-align: middle;\n",
       "    }\n",
       "\n",
       "    .dataframe tbody tr th {\n",
       "        vertical-align: top;\n",
       "    }\n",
       "\n",
       "    .dataframe thead th {\n",
       "        text-align: right;\n",
       "    }\n",
       "</style>\n",
       "<table border=\"1\" class=\"dataframe\">\n",
       "  <thead>\n",
       "    <tr style=\"text-align: right;\">\n",
       "      <th></th>\n",
       "      <th>run_no</th>\n",
       "      <th>universe_id</th>\n",
       "      <th>universe_settings</th>\n",
       "      <th>execution_time</th>\n",
       "      <th>test_size_n</th>\n",
       "      <th>test_size_frac</th>\n",
       "      <th>fair_main_equalized_odds_difference</th>\n",
       "      <th>fair_main_equalized_odds_ratio</th>\n",
       "      <th>fair_main_demographic_parity_difference</th>\n",
       "      <th>fair_main_demographic_parity_ratio</th>\n",
       "      <th>...</th>\n",
       "      <th>perf_grp_precision_0</th>\n",
       "      <th>perf_grp_precision_1</th>\n",
       "      <th>perf_grp_false positive rate_0</th>\n",
       "      <th>perf_grp_false positive rate_1</th>\n",
       "      <th>perf_grp_false negative rate_0</th>\n",
       "      <th>perf_grp_false negative rate_1</th>\n",
       "      <th>perf_grp_selection rate_0</th>\n",
       "      <th>perf_grp_selection rate_1</th>\n",
       "      <th>perf_grp_count_0</th>\n",
       "      <th>perf_grp_count_1</th>\n",
       "    </tr>\n",
       "  </thead>\n",
       "  <tbody>\n",
       "    <tr>\n",
       "      <th>0</th>\n",
       "      <td>12</td>\n",
       "      <td>6df84b9af6ef602494825180d40fdfc7</td>\n",
       "      <td>{\"cutoff\": \"quantile_0.1\", \"eval_fairness_grou...</td>\n",
       "      <td>97.190142</td>\n",
       "      <td>89710</td>\n",
       "      <td>1.0</td>\n",
       "      <td>0.095046</td>\n",
       "      <td>0.901332</td>\n",
       "      <td>0.085179</td>\n",
       "      <td>0.911793</td>\n",
       "      <td>...</td>\n",
       "      <td>NaN</td>\n",
       "      <td>NaN</td>\n",
       "      <td>NaN</td>\n",
       "      <td>NaN</td>\n",
       "      <td>NaN</td>\n",
       "      <td>NaN</td>\n",
       "      <td>NaN</td>\n",
       "      <td>NaN</td>\n",
       "      <td>NaN</td>\n",
       "      <td>NaN</td>\n",
       "    </tr>\n",
       "    <tr>\n",
       "      <th>0</th>\n",
       "      <td>12</td>\n",
       "      <td>6df84b9af6ef602494825180d40fdfc7</td>\n",
       "      <td>{\"cutoff\": \"quantile_0.1\", \"eval_fairness_grou...</td>\n",
       "      <td>97.190142</td>\n",
       "      <td>89710</td>\n",
       "      <td>1.0</td>\n",
       "      <td>0.095046</td>\n",
       "      <td>0.901332</td>\n",
       "      <td>0.085179</td>\n",
       "      <td>0.911793</td>\n",
       "      <td>...</td>\n",
       "      <td>0.117469</td>\n",
       "      <td>0.144211</td>\n",
       "      <td>0.963295</td>\n",
       "      <td>0.868249</td>\n",
       "      <td>0.016047</td>\n",
       "      <td>0.039059</td>\n",
       "      <td>0.965677</td>\n",
       "      <td>0.880497</td>\n",
       "      <td>20540.0</td>\n",
       "      <td>69170.0</td>\n",
       "    </tr>\n",
       "    <tr>\n",
       "      <th>0</th>\n",
       "      <td>12</td>\n",
       "      <td>6df84b9af6ef602494825180d40fdfc7</td>\n",
       "      <td>{\"cutoff\": \"quantile_0.25\", \"eval_fairness_gro...</td>\n",
       "      <td>97.190142</td>\n",
       "      <td>89710</td>\n",
       "      <td>1.0</td>\n",
       "      <td>0.214580</td>\n",
       "      <td>0.759818</td>\n",
       "      <td>0.194360</td>\n",
       "      <td>0.784009</td>\n",
       "      <td>...</td>\n",
       "      <td>NaN</td>\n",
       "      <td>NaN</td>\n",
       "      <td>NaN</td>\n",
       "      <td>NaN</td>\n",
       "      <td>NaN</td>\n",
       "      <td>NaN</td>\n",
       "      <td>NaN</td>\n",
       "      <td>NaN</td>\n",
       "      <td>NaN</td>\n",
       "      <td>NaN</td>\n",
       "    </tr>\n",
       "    <tr>\n",
       "      <th>0</th>\n",
       "      <td>12</td>\n",
       "      <td>6df84b9af6ef602494825180d40fdfc7</td>\n",
       "      <td>{\"cutoff\": \"quantile_0.25\", \"eval_fairness_gro...</td>\n",
       "      <td>97.190142</td>\n",
       "      <td>89710</td>\n",
       "      <td>1.0</td>\n",
       "      <td>0.214580</td>\n",
       "      <td>0.759818</td>\n",
       "      <td>0.194360</td>\n",
       "      <td>0.784009</td>\n",
       "      <td>...</td>\n",
       "      <td>0.121625</td>\n",
       "      <td>0.164942</td>\n",
       "      <td>0.893407</td>\n",
       "      <td>0.678827</td>\n",
       "      <td>0.050676</td>\n",
       "      <td>0.119365</td>\n",
       "      <td>0.899854</td>\n",
       "      <td>0.705494</td>\n",
       "      <td>20540.0</td>\n",
       "      <td>69170.0</td>\n",
       "    </tr>\n",
       "  </tbody>\n",
       "</table>\n",
       "<p>4 rows × 50 columns</p>\n",
       "</div>"
      ],
      "text/plain": [
       "  run_no                       universe_id  \\\n",
       "0     12  6df84b9af6ef602494825180d40fdfc7   \n",
       "0     12  6df84b9af6ef602494825180d40fdfc7   \n",
       "0     12  6df84b9af6ef602494825180d40fdfc7   \n",
       "0     12  6df84b9af6ef602494825180d40fdfc7   \n",
       "\n",
       "                                   universe_settings  execution_time  \\\n",
       "0  {\"cutoff\": \"quantile_0.1\", \"eval_fairness_grou...       97.190142   \n",
       "0  {\"cutoff\": \"quantile_0.1\", \"eval_fairness_grou...       97.190142   \n",
       "0  {\"cutoff\": \"quantile_0.25\", \"eval_fairness_gro...       97.190142   \n",
       "0  {\"cutoff\": \"quantile_0.25\", \"eval_fairness_gro...       97.190142   \n",
       "\n",
       "   test_size_n  test_size_frac  fair_main_equalized_odds_difference  \\\n",
       "0        89710             1.0                             0.095046   \n",
       "0        89710             1.0                             0.095046   \n",
       "0        89710             1.0                             0.214580   \n",
       "0        89710             1.0                             0.214580   \n",
       "\n",
       "   fair_main_equalized_odds_ratio  fair_main_demographic_parity_difference  \\\n",
       "0                        0.901332                                 0.085179   \n",
       "0                        0.901332                                 0.085179   \n",
       "0                        0.759818                                 0.194360   \n",
       "0                        0.759818                                 0.194360   \n",
       "\n",
       "   fair_main_demographic_parity_ratio  ...  perf_grp_precision_0  \\\n",
       "0                            0.911793  ...                   NaN   \n",
       "0                            0.911793  ...              0.117469   \n",
       "0                            0.784009  ...                   NaN   \n",
       "0                            0.784009  ...              0.121625   \n",
       "\n",
       "   perf_grp_precision_1  perf_grp_false positive rate_0  \\\n",
       "0                   NaN                             NaN   \n",
       "0              0.144211                        0.963295   \n",
       "0                   NaN                             NaN   \n",
       "0              0.164942                        0.893407   \n",
       "\n",
       "   perf_grp_false positive rate_1  perf_grp_false negative rate_0  \\\n",
       "0                             NaN                             NaN   \n",
       "0                        0.868249                        0.016047   \n",
       "0                             NaN                             NaN   \n",
       "0                        0.678827                        0.050676   \n",
       "\n",
       "   perf_grp_false negative rate_1  perf_grp_selection rate_0  \\\n",
       "0                             NaN                        NaN   \n",
       "0                        0.039059                   0.965677   \n",
       "0                             NaN                        NaN   \n",
       "0                        0.119365                   0.899854   \n",
       "\n",
       "   perf_grp_selection rate_1  perf_grp_count_0  perf_grp_count_1  \n",
       "0                        NaN               NaN               NaN  \n",
       "0                   0.880497           20540.0           69170.0  \n",
       "0                        NaN               NaN               NaN  \n",
       "0                   0.705494           20540.0           69170.0  \n",
       "\n",
       "[4 rows x 50 columns]"
      ]
     },
     "execution_count": 79,
     "metadata": {},
     "output_type": "execute_result"
    }
   ],
   "source": [
    "final_output = universe_analysis.generate_final_output(\n",
    "    y_pred_prob=probs_test,\n",
    "    y_test=y_true,\n",
    "    org_test=org_test,\n",
    "    filter_data=filter_sub_universe_data,\n",
    "    cp_metrics_df=cp_metrics_df,\n",
    "    save=True,\n",
    ")\n",
    "final_output"
   ]
  },
  {
   "cell_type": "code",
   "execution_count": null,
   "id": "721ff514-cb11-46f8-b6fc-50392f74b5cb",
   "metadata": {
    "papermill": {
     "duration": 0.028317,
     "end_time": "2025-07-30T13:54:41.850474",
     "exception": false,
     "start_time": "2025-07-30T13:54:41.822157",
     "status": "completed"
    },
    "tags": []
   },
   "outputs": [],
   "source": []
  }
 ],
 "metadata": {
  "celltoolbar": "Tags",
  "kernelspec": {
   "display_name": "Python (CMA Fairness)",
   "language": "python",
   "name": "cma_fair_env"
  },
  "language_info": {
   "codemirror_mode": {
    "name": "ipython",
    "version": 3
   },
   "file_extension": ".py",
   "mimetype": "text/x-python",
   "name": "python",
   "nbconvert_exporter": "python",
   "pygments_lexer": "ipython3",
   "version": "3.10.12"
  },
  "papermill": {
   "default_parameters": {},
   "duration": 110.581689,
   "end_time": "2025-07-30T13:54:42.485169",
   "environment_variables": {},
   "exception": null,
   "input_path": "universe_analysis.ipynb",
   "output_path": "output/runs/12/notebooks/m_12-6df84b9af6ef602494825180d40fdfc7.ipynb",
   "parameters": {
    "output_dir": "output",
    "run_no": "12",
    "seed": "2023",
    "universe": "{\"cutoff\": [\"quantile_0.1\", \"quantile_0.25\"], \"eval_fairness_grouping\": [\"majority-minority\", \"nationality-all\"], \"exclude_features\": \"nationality-sex\", \"exclude_subgroups\": \"drop-non-german\", \"model\": \"elasticnet\", \"scale\": \"do-not-scale\", \"training_size\": \"5k\", \"training_year\": \"2014\"}",
    "universe_id": "6df84b9af6ef602494825180d40fdfc7"
   },
   "start_time": "2025-07-30T13:52:51.903480",
   "version": "2.6.0"
  }
 },
 "nbformat": 4,
 "nbformat_minor": 5
}