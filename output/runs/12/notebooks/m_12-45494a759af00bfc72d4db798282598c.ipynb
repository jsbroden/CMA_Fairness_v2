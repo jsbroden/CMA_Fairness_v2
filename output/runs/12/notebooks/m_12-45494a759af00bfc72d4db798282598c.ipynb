{
 "cells": [
  {
   "cell_type": "code",
   "execution_count": 1,
   "id": "f159f837-637b-42ba-96b5-ec9a68c44524",
   "metadata": {
    "execution": {
     "iopub.execute_input": "2025-07-30T13:29:10.262132Z",
     "iopub.status.busy": "2025-07-30T13:29:10.261641Z",
     "iopub.status.idle": "2025-07-30T13:29:10.276445Z",
     "shell.execute_reply": "2025-07-30T13:29:10.275455Z"
    },
    "papermill": {
     "duration": 0.040894,
     "end_time": "2025-07-30T13:29:10.278443",
     "exception": false,
     "start_time": "2025-07-30T13:29:10.237549",
     "status": "completed"
    },
    "tags": []
   },
   "outputs": [
    {
     "name": "stdout",
     "output_type": "stream",
     "text": [
      "/dss/dsshome1/0C/ra93lal2/cma/CMA_Fairness_v2\n"
     ]
    },
    {
     "name": "stderr",
     "output_type": "stream",
     "text": [
      "/dss/dsshome1/0C/ra93lal2/.local/share/virtualenvs/CMA_Fairness_v2-3j10GkSs/lib/python3.10/site-packages/IPython/core/magics/osm.py:393: UserWarning: This is now an optional IPython functionality, using bookmarks requires you to install the `pickleshare` library.\n",
      "  bkms = self.shell.db.get('bookmarks', {})\n",
      "/dss/dsshome1/0C/ra93lal2/.local/share/virtualenvs/CMA_Fairness_v2-3j10GkSs/lib/python3.10/site-packages/IPython/core/magics/osm.py:417: UserWarning: This is now an optional IPython functionality, setting dhist requires you to install the `pickleshare` library.\n",
      "  self.shell.db['dhist'] = compress_dhist(dhist)[-100:]\n"
     ]
    }
   ],
   "source": [
    "%cd ~/cma/CMA_Fairness_v2"
   ]
  },
  {
   "cell_type": "markdown",
   "id": "de2603b9",
   "metadata": {
    "papermill": {
     "duration": 0.023696,
     "end_time": "2025-07-30T13:29:10.323675",
     "exception": false,
     "start_time": "2025-07-30T13:29:10.299979",
     "status": "completed"
    },
    "tags": []
   },
   "source": [
    "The following cell holds the definition of our parameters, these values can be overriden by rendering the with e.g. the following command:\n",
    "\n",
    "papermill -p alpha 0.2 -p ratio 0.3 universe_analysis.ipynb output/test_run.ipynb"
   ]
  },
  {
   "cell_type": "code",
   "execution_count": 2,
   "id": "a80968a0-40bb-4fa9-85ef-2d5eefb01975",
   "metadata": {
    "execution": {
     "iopub.execute_input": "2025-07-30T13:29:10.363918Z",
     "iopub.status.busy": "2025-07-30T13:29:10.363396Z",
     "iopub.status.idle": "2025-07-30T13:29:10.370057Z",
     "shell.execute_reply": "2025-07-30T13:29:10.368459Z"
    },
    "papermill": {
     "duration": 0.029434,
     "end_time": "2025-07-30T13:29:10.372418",
     "exception": false,
     "start_time": "2025-07-30T13:29:10.342984",
     "status": "completed"
    },
    "tags": []
   },
   "outputs": [
    {
     "name": "stdout",
     "output_type": "stream",
     "text": [
      "Current working directory: /dss/dsshome1/0C/ra93lal2/cma/CMA_Fairness_v2\n"
     ]
    }
   ],
   "source": [
    "import os\n",
    "print(\"Current working directory:\", os.getcwd())"
   ]
  },
  {
   "cell_type": "code",
   "execution_count": 3,
   "id": "2dce4c03",
   "metadata": {
    "execution": {
     "iopub.execute_input": "2025-07-30T13:29:10.420665Z",
     "iopub.status.busy": "2025-07-30T13:29:10.419270Z",
     "iopub.status.idle": "2025-07-30T13:29:10.425920Z",
     "shell.execute_reply": "2025-07-30T13:29:10.424927Z"
    },
    "papermill": {
     "duration": 0.03433,
     "end_time": "2025-07-30T13:29:10.429467",
     "exception": false,
     "start_time": "2025-07-30T13:29:10.395137",
     "status": "completed"
    },
    "tags": [
     "parameters"
    ]
   },
   "outputs": [],
   "source": [
    "run_no = 0\n",
    "universe_id = \"test\"\n",
    "universe = {\n",
    "    \"training_size\": \"25k\", # \"25k\", \"5k\", \"1k\"\n",
    "    \"training_year\": \"2014\", # \"2014\", \"2012_14\", \"2010_14\"\n",
    "    \"scale\": \"scale\", # \"scale\", \"do-not-scale\",\n",
    "    #\"stratify_split\": \"target\", # \"none\", \"target\", \"protected-attribute\", \"both\",\n",
    "    \"model\": \"elasticnet\", # \"logreg\", \"penalized_logreg\", \"rf\", \"gbm\", \"elasticnet\"\n",
    "    \"cutoff\": [\"quantile_0.15\", \"quantile_0.30\"],\n",
    "    \"exclude_features\": \"age\", # \"none\", \"nationality\", \"sex\", \"nationality-sex\", \"age\"\n",
    "    \"exclude_subgroups\": \"keep-all\", # \"keep-all\", \"drop-non-german\"\n",
    "    \"eval_fairness_grouping\": [\"majority-minority\", \"nationality-all\"]\n",
    "}\n",
    "\n",
    "output_dir=\"./output\"\n",
    "seed=0"
   ]
  },
  {
   "cell_type": "code",
   "execution_count": 4,
   "id": "c42217ce",
   "metadata": {
    "execution": {
     "iopub.execute_input": "2025-07-30T13:29:10.475957Z",
     "iopub.status.busy": "2025-07-30T13:29:10.475508Z",
     "iopub.status.idle": "2025-07-30T13:29:10.480709Z",
     "shell.execute_reply": "2025-07-30T13:29:10.479833Z"
    },
    "papermill": {
     "duration": 0.03059,
     "end_time": "2025-07-30T13:29:10.482273",
     "exception": false,
     "start_time": "2025-07-30T13:29:10.451683",
     "status": "completed"
    },
    "tags": [
     "injected-parameters"
    ]
   },
   "outputs": [],
   "source": [
    "# Parameters\n",
    "universe_id = \"45494a759af00bfc72d4db798282598c\"\n",
    "run_no = \"12\"\n",
    "universe = \"{\\\"cutoff\\\": [\\\"quantile_0.1\\\", \\\"quantile_0.25\\\"], \\\"eval_fairness_grouping\\\": [\\\"majority-minority\\\", \\\"nationality-all\\\"], \\\"exclude_features\\\": \\\"nationality-sex\\\", \\\"exclude_subgroups\\\": \\\"keep-all\\\", \\\"model\\\": \\\"elasticnet\\\", \\\"scale\\\": \\\"scale\\\", \\\"training_size\\\": \\\"25k\\\", \\\"training_year\\\": \\\"2010_14\\\"}\"\n",
    "output_dir = \"output\"\n",
    "seed = \"2023\"\n"
   ]
  },
  {
   "cell_type": "code",
   "execution_count": 5,
   "id": "1650acaf",
   "metadata": {
    "execution": {
     "iopub.execute_input": "2025-07-30T13:29:10.526661Z",
     "iopub.status.busy": "2025-07-30T13:29:10.526212Z",
     "iopub.status.idle": "2025-07-30T13:29:10.531302Z",
     "shell.execute_reply": "2025-07-30T13:29:10.530351Z"
    },
    "papermill": {
     "duration": 0.030941,
     "end_time": "2025-07-30T13:29:10.532958",
     "exception": false,
     "start_time": "2025-07-30T13:29:10.502017",
     "status": "completed"
    },
    "tags": []
   },
   "outputs": [],
   "source": [
    "import json\n",
    "# Parse universe into dict if it is passed as a string\n",
    "if isinstance(universe, str):\n",
    "    universe = json.loads(universe)"
   ]
  },
  {
   "cell_type": "code",
   "execution_count": 6,
   "id": "16620c48",
   "metadata": {
    "execution": {
     "iopub.execute_input": "2025-07-30T13:29:10.574262Z",
     "iopub.status.busy": "2025-07-30T13:29:10.573532Z",
     "iopub.status.idle": "2025-07-30T13:29:10.622625Z",
     "shell.execute_reply": "2025-07-30T13:29:10.621620Z"
    },
    "papermill": {
     "duration": 0.072507,
     "end_time": "2025-07-30T13:29:10.624521",
     "exception": false,
     "start_time": "2025-07-30T13:29:10.552014",
     "status": "completed"
    },
    "tags": []
   },
   "outputs": [],
   "source": [
    "# Auto-reload the custom package\n",
    "%load_ext autoreload\n",
    "%autoreload 1\n",
    "%aimport fairness_multiverse"
   ]
  },
  {
   "cell_type": "code",
   "execution_count": 7,
   "id": "01c5c9f3",
   "metadata": {
    "execution": {
     "iopub.execute_input": "2025-07-30T13:29:10.665163Z",
     "iopub.status.busy": "2025-07-30T13:29:10.664445Z",
     "iopub.status.idle": "2025-07-30T13:29:12.749576Z",
     "shell.execute_reply": "2025-07-30T13:29:12.748219Z"
    },
    "papermill": {
     "duration": 2.107287,
     "end_time": "2025-07-30T13:29:12.751577",
     "exception": false,
     "start_time": "2025-07-30T13:29:10.644290",
     "status": "completed"
    },
    "tags": []
   },
   "outputs": [],
   "source": [
    "from fairness_multiverse.universe import UniverseAnalysis\n",
    "\n",
    "universe_analysis = UniverseAnalysis(\n",
    "    run_no = run_no,\n",
    "    universe_id = universe_id,\n",
    "    universe = universe,\n",
    "    output_dir=output_dir,\n",
    ")"
   ]
  },
  {
   "cell_type": "code",
   "execution_count": 8,
   "id": "106241f5",
   "metadata": {
    "execution": {
     "iopub.execute_input": "2025-07-30T13:29:12.794030Z",
     "iopub.status.busy": "2025-07-30T13:29:12.793530Z",
     "iopub.status.idle": "2025-07-30T13:29:12.799913Z",
     "shell.execute_reply": "2025-07-30T13:29:12.798992Z"
    },
    "papermill": {
     "duration": 0.029424,
     "end_time": "2025-07-30T13:29:12.802255",
     "exception": false,
     "start_time": "2025-07-30T13:29:12.772831",
     "status": "completed"
    },
    "tags": []
   },
   "outputs": [
    {
     "name": "stdout",
     "output_type": "stream",
     "text": [
      "Using Seed: 2023\n"
     ]
    }
   ],
   "source": [
    "import numpy as np\n",
    "parsed_seed = int(seed)\n",
    "np.random.seed(parsed_seed)\n",
    "print(f\"Using Seed: {parsed_seed}\")"
   ]
  },
  {
   "cell_type": "markdown",
   "id": "e0ebdc57",
   "metadata": {
    "papermill": {
     "duration": 0.020237,
     "end_time": "2025-07-30T13:29:12.843126",
     "exception": false,
     "start_time": "2025-07-30T13:29:12.822889",
     "status": "completed"
    },
    "tags": []
   },
   "source": [
    "# Loading Data"
   ]
  },
  {
   "cell_type": "markdown",
   "id": "681925a3",
   "metadata": {
    "papermill": {
     "duration": 0.018649,
     "end_time": "2025-07-30T13:29:12.880935",
     "exception": false,
     "start_time": "2025-07-30T13:29:12.862286",
     "status": "completed"
    },
    "tags": []
   },
   "source": [
    "Load siab_train, siab_test, siab_calib and/or \n",
    "load siab_train_features, siab_train_labels"
   ]
  },
  {
   "cell_type": "code",
   "execution_count": 9,
   "id": "f0496b8a",
   "metadata": {
    "execution": {
     "iopub.execute_input": "2025-07-30T13:29:12.921872Z",
     "iopub.status.busy": "2025-07-30T13:29:12.921224Z",
     "iopub.status.idle": "2025-07-30T13:29:25.115891Z",
     "shell.execute_reply": "2025-07-30T13:29:25.114562Z"
    },
    "papermill": {
     "duration": 12.216571,
     "end_time": "2025-07-30T13:29:25.117589",
     "exception": false,
     "start_time": "2025-07-30T13:29:12.901018",
     "status": "completed"
    },
    "tags": []
   },
   "outputs": [
    {
     "name": "stdout",
     "output_type": "stream",
     "text": [
      "Loading SIAB data from cache: data/siab_cached.csv.gz\n"
     ]
    },
    {
     "name": "stdout",
     "output_type": "stream",
     "text": [
      "(643690, 164)\n"
     ]
    }
   ],
   "source": [
    "from pathlib import Path\n",
    "import pandas as pd\n",
    "\n",
    "# File paths\n",
    "raw_file = Path(\"data/raw/siab.csv\")\n",
    "cache_file = Path(\"data/siab_cached.csv.gz\")\n",
    "\n",
    "# Ensure cache directory exists\n",
    "cache_file.parent.mkdir(parents=True, exist_ok=True)\n",
    "\n",
    "# Load with simple caching\n",
    "if cache_file.exists():\n",
    "    print(f\"Loading SIAB data from cache: {cache_file}\")\n",
    "    siab = pd.read_csv(cache_file, compression='gzip')\n",
    "else:\n",
    "    print(f\"Cache not found. Reading raw SIAB data: {raw_file}\")\n",
    "    siab = pd.read_csv(raw_file)\n",
    "    siab.to_csv(cache_file, index=False, compression='gzip')\n",
    "    print(f\"Cached SIAB data to: {cache_file}\")\n",
    "\n",
    "# Now use `siab` DataFrame as needed\n",
    "print(siab.shape)"
   ]
  },
  {
   "cell_type": "code",
   "execution_count": 10,
   "id": "db0ca512-5f53-4dba-abdb-a2888bca41ba",
   "metadata": {
    "execution": {
     "iopub.execute_input": "2025-07-30T13:29:25.165950Z",
     "iopub.status.busy": "2025-07-30T13:29:25.165370Z",
     "iopub.status.idle": "2025-07-30T13:29:25.171216Z",
     "shell.execute_reply": "2025-07-30T13:29:25.170279Z"
    },
    "papermill": {
     "duration": 0.03313,
     "end_time": "2025-07-30T13:29:25.174066",
     "exception": false,
     "start_time": "2025-07-30T13:29:25.140936",
     "status": "completed"
    },
    "tags": []
   },
   "outputs": [],
   "source": [
    "#siab"
   ]
  },
  {
   "cell_type": "code",
   "execution_count": 11,
   "id": "a0edb063",
   "metadata": {
    "execution": {
     "iopub.execute_input": "2025-07-30T13:29:25.217191Z",
     "iopub.status.busy": "2025-07-30T13:29:25.216518Z",
     "iopub.status.idle": "2025-07-30T13:29:25.222058Z",
     "shell.execute_reply": "2025-07-30T13:29:25.221233Z"
    },
    "papermill": {
     "duration": 0.029038,
     "end_time": "2025-07-30T13:29:25.223830",
     "exception": false,
     "start_time": "2025-07-30T13:29:25.194792",
     "status": "completed"
    },
    "tags": []
   },
   "outputs": [],
   "source": [
    "#import pandas as pd\n",
    "#\n",
    "#X_train = pd.read_csv(\"./data/X_train.csv\")\n",
    "#y_train = pd.read_csv(\"./data/y_train.csv\")"
   ]
  },
  {
   "cell_type": "code",
   "execution_count": 12,
   "id": "63d08085",
   "metadata": {
    "execution": {
     "iopub.execute_input": "2025-07-30T13:29:25.268805Z",
     "iopub.status.busy": "2025-07-30T13:29:25.268128Z",
     "iopub.status.idle": "2025-07-30T13:29:25.273437Z",
     "shell.execute_reply": "2025-07-30T13:29:25.272523Z"
    },
    "papermill": {
     "duration": 0.030029,
     "end_time": "2025-07-30T13:29:25.275042",
     "exception": false,
     "start_time": "2025-07-30T13:29:25.245013",
     "status": "completed"
    },
    "tags": []
   },
   "outputs": [],
   "source": [
    "#X_test = pd.read_csv(\"./data/X_test.csv\")\n",
    "#y_true = pd.read_csv(\"./data/y_test.csv\")"
   ]
  },
  {
   "cell_type": "code",
   "execution_count": 13,
   "id": "98a8d0fa-1d3d-4ed8-bb2c-281470e24add",
   "metadata": {
    "execution": {
     "iopub.execute_input": "2025-07-30T13:29:25.319061Z",
     "iopub.status.busy": "2025-07-30T13:29:25.318397Z",
     "iopub.status.idle": "2025-07-30T13:29:25.323808Z",
     "shell.execute_reply": "2025-07-30T13:29:25.322905Z"
    },
    "papermill": {
     "duration": 0.029083,
     "end_time": "2025-07-30T13:29:25.325412",
     "exception": false,
     "start_time": "2025-07-30T13:29:25.296329",
     "status": "completed"
    },
    "tags": []
   },
   "outputs": [],
   "source": [
    "# Calibration data for conformal\n",
    "#X_calib = pd.read_csv(\"./data/X_calib.csv\")\n",
    "#y_calib = pd.read_csv(\"./data/y_calib.csv\")"
   ]
  },
  {
   "cell_type": "markdown",
   "id": "997051c5-15bd-4b69-9786-c3001a3ce484",
   "metadata": {
    "papermill": {
     "duration": 0.021243,
     "end_time": "2025-07-30T13:29:25.368796",
     "exception": false,
     "start_time": "2025-07-30T13:29:25.347553",
     "status": "completed"
    },
    "tags": []
   },
   "source": [
    "# Splitting Data and Setting Training Data Size"
   ]
  },
  {
   "cell_type": "code",
   "execution_count": 14,
   "id": "e993b61f-042d-41a6-8c81-f55681f86335",
   "metadata": {
    "execution": {
     "iopub.execute_input": "2025-07-30T13:29:25.413299Z",
     "iopub.status.busy": "2025-07-30T13:29:25.412582Z",
     "iopub.status.idle": "2025-07-30T13:29:25.426514Z",
     "shell.execute_reply": "2025-07-30T13:29:25.425584Z"
    },
    "papermill": {
     "duration": 0.03882,
     "end_time": "2025-07-30T13:29:25.428779",
     "exception": false,
     "start_time": "2025-07-30T13:29:25.389959",
     "status": "completed"
    },
    "tags": []
   },
   "outputs": [],
   "source": [
    "def sample_by_year_size(df,\n",
    "                        training_year: str,\n",
    "                        training_size: str,\n",
    "                        random_state: int = 42):\n",
    "    # --- parse training_year into a list of int years ---\n",
    "    if \"_\" in training_year:\n",
    "        start_str, end_str = training_year.split(\"_\", 1)\n",
    "        start = int(start_str)\n",
    "        end   = int(end_str) if len(end_str) == 4 else (int(end_str) + (start // 100)*100)\n",
    "        years = list(range(start, end + 1))\n",
    "    else:\n",
    "        years = [int(training_year)]\n",
    "\n",
    "    df = df[df[\"year\"].isin(years)].reset_index(drop=True)\n",
    "\n",
    "    # --- map training_size to total number of samples ---\n",
    "    total_map = {\"25k\": 25_000, \"5k\": 5_000, \"1k\": 1_000}\n",
    "    if training_size not in total_map:\n",
    "        return df  # e.g. \"all\"\n",
    "\n",
    "    total_samples = total_map[training_size]\n",
    "    n_years       = len(years)\n",
    "    base          = total_samples // n_years\n",
    "    remainder     = total_samples % n_years\n",
    "\n",
    "    # --- build a dict: year -> how many to sample ---\n",
    "    # give +1 to the first `remainder` years in ascending order\n",
    "    quotas = {\n",
    "        year: base + (1 if idx < remainder else 0)\n",
    "        for idx, year in enumerate(sorted(years))\n",
    "    }\n",
    "\n",
    "    # --- sample per‐year according to the quota dict ---\n",
    "    sampled = (\n",
    "        df\n",
    "        .groupby(\"year\", group_keys=False)\n",
    "        .apply(lambda grp: grp.sample(\n",
    "            n=min(len(grp), quotas[grp.name]),\n",
    "            random_state=random_state))\n",
    "        .reset_index(drop=True)\n",
    "    )\n",
    "\n",
    "    return sampled"
   ]
  },
  {
   "cell_type": "code",
   "execution_count": 15,
   "id": "c0ccd338-0e02-41f3-a09d-f56f9266e3fb",
   "metadata": {
    "execution": {
     "iopub.execute_input": "2025-07-30T13:29:25.496425Z",
     "iopub.status.busy": "2025-07-30T13:29:25.491851Z",
     "iopub.status.idle": "2025-07-30T13:29:25.510727Z",
     "shell.execute_reply": "2025-07-30T13:29:25.509519Z"
    },
    "papermill": {
     "duration": 0.053164,
     "end_time": "2025-07-30T13:29:25.513067",
     "exception": false,
     "start_time": "2025-07-30T13:29:25.459903",
     "status": "completed"
    },
    "tags": []
   },
   "outputs": [
    {
     "data": {
      "text/plain": [
       "'25k'"
      ]
     },
     "execution_count": 15,
     "metadata": {},
     "output_type": "execute_result"
    }
   ],
   "source": [
    "universe[\"training_size\"]"
   ]
  },
  {
   "cell_type": "code",
   "execution_count": 16,
   "id": "ca707fd7-8047-4acd-bfa5-66248fbbf8e6",
   "metadata": {
    "execution": {
     "iopub.execute_input": "2025-07-30T13:29:25.577799Z",
     "iopub.status.busy": "2025-07-30T13:29:25.577255Z",
     "iopub.status.idle": "2025-07-30T13:29:25.585856Z",
     "shell.execute_reply": "2025-07-30T13:29:25.584670Z"
    },
    "papermill": {
     "duration": 0.043773,
     "end_time": "2025-07-30T13:29:25.588220",
     "exception": false,
     "start_time": "2025-07-30T13:29:25.544447",
     "status": "completed"
    },
    "tags": []
   },
   "outputs": [
    {
     "data": {
      "text/plain": [
       "'2010_14'"
      ]
     },
     "execution_count": 16,
     "metadata": {},
     "output_type": "execute_result"
    }
   ],
   "source": [
    "universe[\"training_year\"]"
   ]
  },
  {
   "cell_type": "code",
   "execution_count": 17,
   "id": "aea9c6ef-6f46-42c8-85eb-5a62025c1508",
   "metadata": {
    "execution": {
     "iopub.execute_input": "2025-07-30T13:29:25.653621Z",
     "iopub.status.busy": "2025-07-30T13:29:25.652859Z",
     "iopub.status.idle": "2025-07-30T13:29:26.777046Z",
     "shell.execute_reply": "2025-07-30T13:29:26.775960Z"
    },
    "papermill": {
     "duration": 1.158909,
     "end_time": "2025-07-30T13:29:26.779059",
     "exception": false,
     "start_time": "2025-07-30T13:29:25.620150",
     "status": "completed"
    },
    "tags": []
   },
   "outputs": [],
   "source": [
    "siab_train = sample_by_year_size(siab,\n",
    "                               training_year=universe[\"training_year\"],\n",
    "                               training_size=universe[\"training_size\"])"
   ]
  },
  {
   "cell_type": "code",
   "execution_count": 18,
   "id": "8d3afb32-789d-442c-8d5d-9f5aa8dd2eed",
   "metadata": {
    "execution": {
     "iopub.execute_input": "2025-07-30T13:29:26.825262Z",
     "iopub.status.busy": "2025-07-30T13:29:26.824755Z",
     "iopub.status.idle": "2025-07-30T13:29:26.831329Z",
     "shell.execute_reply": "2025-07-30T13:29:26.830596Z"
    },
    "papermill": {
     "duration": 0.031385,
     "end_time": "2025-07-30T13:29:26.833019",
     "exception": false,
     "start_time": "2025-07-30T13:29:26.801634",
     "status": "completed"
    },
    "tags": []
   },
   "outputs": [
    {
     "data": {
      "text/plain": [
       "(25000, 164)"
      ]
     },
     "execution_count": 18,
     "metadata": {},
     "output_type": "execute_result"
    }
   ],
   "source": [
    "siab_train.shape"
   ]
  },
  {
   "cell_type": "code",
   "execution_count": 19,
   "id": "d582db68-1a4c-47fb-84fc-08518dc1975a",
   "metadata": {
    "execution": {
     "iopub.execute_input": "2025-07-30T13:29:26.880945Z",
     "iopub.status.busy": "2025-07-30T13:29:26.880218Z",
     "iopub.status.idle": "2025-07-30T13:29:26.889982Z",
     "shell.execute_reply": "2025-07-30T13:29:26.888874Z"
    },
    "papermill": {
     "duration": 0.035512,
     "end_time": "2025-07-30T13:29:26.891614",
     "exception": false,
     "start_time": "2025-07-30T13:29:26.856102",
     "status": "completed"
    },
    "tags": []
   },
   "outputs": [
    {
     "data": {
      "text/plain": [
       "year\n",
       "2010    5000\n",
       "2011    5000\n",
       "2012    5000\n",
       "2013    5000\n",
       "2014    5000\n",
       "dtype: int64"
      ]
     },
     "metadata": {},
     "output_type": "display_data"
    }
   ],
   "source": [
    "display(siab_train.groupby(\"year\").size())"
   ]
  },
  {
   "cell_type": "code",
   "execution_count": 20,
   "id": "a561edb4-d032-42cb-8256-22eac1111c64",
   "metadata": {
    "execution": {
     "iopub.execute_input": "2025-07-30T13:29:26.931326Z",
     "iopub.status.busy": "2025-07-30T13:29:26.930959Z",
     "iopub.status.idle": "2025-07-30T13:29:27.162454Z",
     "shell.execute_reply": "2025-07-30T13:29:27.161396Z"
    },
    "papermill": {
     "duration": 0.249256,
     "end_time": "2025-07-30T13:29:27.163981",
     "exception": false,
     "start_time": "2025-07-30T13:29:26.914725",
     "status": "completed"
    },
    "tags": []
   },
   "outputs": [],
   "source": [
    "#siab_train = siab_s[siab_s.year < 2015]\n",
    "siab_calib = siab[siab.year == 2015]\n",
    "siab_test = siab[siab.year == 2016]"
   ]
  },
  {
   "cell_type": "code",
   "execution_count": 21,
   "id": "472de16f-c3db-4916-846b-1f0de9cf1746",
   "metadata": {
    "execution": {
     "iopub.execute_input": "2025-07-30T13:29:27.212214Z",
     "iopub.status.busy": "2025-07-30T13:29:27.211748Z",
     "iopub.status.idle": "2025-07-30T13:29:27.226850Z",
     "shell.execute_reply": "2025-07-30T13:29:27.225821Z"
    },
    "papermill": {
     "duration": 0.041628,
     "end_time": "2025-07-30T13:29:27.228702",
     "exception": false,
     "start_time": "2025-07-30T13:29:27.187074",
     "status": "completed"
    },
    "tags": []
   },
   "outputs": [],
   "source": [
    "X_train = siab_train.iloc[:,4:164]\n",
    "y_train = siab_train.iloc[:, [3]]"
   ]
  },
  {
   "cell_type": "code",
   "execution_count": 22,
   "id": "828c96af-f43a-4ed6-ba47-8ac73a47d56c",
   "metadata": {
    "execution": {
     "iopub.execute_input": "2025-07-30T13:29:27.270144Z",
     "iopub.status.busy": "2025-07-30T13:29:27.269783Z",
     "iopub.status.idle": "2025-07-30T13:29:27.320207Z",
     "shell.execute_reply": "2025-07-30T13:29:27.319125Z"
    },
    "papermill": {
     "duration": 0.066463,
     "end_time": "2025-07-30T13:29:27.321933",
     "exception": false,
     "start_time": "2025-07-30T13:29:27.255470",
     "status": "completed"
    },
    "tags": []
   },
   "outputs": [],
   "source": [
    "X_calib = siab_calib.iloc[:,4:164]\n",
    "y_calib = siab_calib.iloc[:, [3]]"
   ]
  },
  {
   "cell_type": "code",
   "execution_count": 23,
   "id": "c34be9c3-6bd6-476e-acd3-845840e303be",
   "metadata": {
    "execution": {
     "iopub.execute_input": "2025-07-30T13:29:27.374365Z",
     "iopub.status.busy": "2025-07-30T13:29:27.373319Z",
     "iopub.status.idle": "2025-07-30T13:29:27.426846Z",
     "shell.execute_reply": "2025-07-30T13:29:27.425804Z"
    },
    "papermill": {
     "duration": 0.082336,
     "end_time": "2025-07-30T13:29:27.429494",
     "exception": false,
     "start_time": "2025-07-30T13:29:27.347158",
     "status": "completed"
    },
    "tags": []
   },
   "outputs": [],
   "source": [
    "X_test = siab_test.iloc[:,4:164]\n",
    "y_true = siab_test.iloc[:, [3]]"
   ]
  },
  {
   "cell_type": "markdown",
   "id": "9901737e-04df-44f0-9100-f5ad144ed040",
   "metadata": {
    "papermill": {
     "duration": 0.024046,
     "end_time": "2025-07-30T13:29:27.479150",
     "exception": false,
     "start_time": "2025-07-30T13:29:27.455104",
     "status": "completed"
    },
    "tags": []
   },
   "source": [
    "# Splitting Data and Setting Training Data Size OLD VERSION"
   ]
  },
  {
   "cell_type": "code",
   "execution_count": 24,
   "id": "acbc8f7d-8fc8-4e86-8c59-5dcb0f58384b",
   "metadata": {
    "execution": {
     "iopub.execute_input": "2025-07-30T13:29:27.533353Z",
     "iopub.status.busy": "2025-07-30T13:29:27.532901Z",
     "iopub.status.idle": "2025-07-30T13:29:27.538209Z",
     "shell.execute_reply": "2025-07-30T13:29:27.537329Z"
    },
    "papermill": {
     "duration": 0.036862,
     "end_time": "2025-07-30T13:29:27.539785",
     "exception": false,
     "start_time": "2025-07-30T13:29:27.502923",
     "status": "completed"
    },
    "tags": []
   },
   "outputs": [],
   "source": [
    "#def sample_by_year(df, training_size, random_state=42):\n",
    "#    if training_size == \"2014\":\n",
    "#        return df[df[\"year\"] == 2014].reset_index(drop=True)\n",
    "#    \n",
    "#    size_map = {\n",
    "#        \"25k\": 5000,\n",
    "#        \"5k\": 1000,\n",
    "#        \"1k\": 200\n",
    "#    }\n",
    "#\n",
    "#    if training_size not in size_map:\n",
    "#        return df.reset_index(drop=True)  # use all data\n",
    "#\n",
    "#    n_per_year = size_map[training_size]\n",
    "#    grouped = df.groupby(\"year\")\n",
    "#    sampled = grouped.apply(lambda x: x.sample(n=min(n_per_year, len(x)), random_state=random_state))\n",
    "#    return sampled.reset_index(drop=True)"
   ]
  },
  {
   "cell_type": "code",
   "execution_count": 25,
   "id": "6d931f52-beaf-43ff-9e78-9d44a448d54e",
   "metadata": {
    "execution": {
     "iopub.execute_input": "2025-07-30T13:29:27.588482Z",
     "iopub.status.busy": "2025-07-30T13:29:27.587759Z",
     "iopub.status.idle": "2025-07-30T13:29:27.592927Z",
     "shell.execute_reply": "2025-07-30T13:29:27.591948Z"
    },
    "papermill": {
     "duration": 0.030991,
     "end_time": "2025-07-30T13:29:27.594498",
     "exception": false,
     "start_time": "2025-07-30T13:29:27.563507",
     "status": "completed"
    },
    "tags": []
   },
   "outputs": [],
   "source": [
    "#siab_s = sample_by_year(siab, universe[\"training_size\"])"
   ]
  },
  {
   "cell_type": "code",
   "execution_count": 26,
   "id": "5db0a40e-a4e2-4920-be85-b12ae061d70d",
   "metadata": {
    "execution": {
     "iopub.execute_input": "2025-07-30T13:29:27.640510Z",
     "iopub.status.busy": "2025-07-30T13:29:27.639299Z",
     "iopub.status.idle": "2025-07-30T13:29:27.645369Z",
     "shell.execute_reply": "2025-07-30T13:29:27.644241Z"
    },
    "papermill": {
     "duration": 0.030923,
     "end_time": "2025-07-30T13:29:27.647330",
     "exception": false,
     "start_time": "2025-07-30T13:29:27.616407",
     "status": "completed"
    },
    "tags": []
   },
   "outputs": [],
   "source": [
    "#display(siab_s.groupby(\"year\").size())"
   ]
  },
  {
   "cell_type": "code",
   "execution_count": 27,
   "id": "e6c733c5",
   "metadata": {
    "execution": {
     "iopub.execute_input": "2025-07-30T13:29:27.693571Z",
     "iopub.status.busy": "2025-07-30T13:29:27.692976Z",
     "iopub.status.idle": "2025-07-30T13:29:27.802897Z",
     "shell.execute_reply": "2025-07-30T13:29:27.801727Z"
    },
    "papermill": {
     "duration": 0.135118,
     "end_time": "2025-07-30T13:29:27.805072",
     "exception": false,
     "start_time": "2025-07-30T13:29:27.669954",
     "status": "completed"
    },
    "tags": []
   },
   "outputs": [],
   "source": [
    "# Auxiliary data needed downstream in the pipeline\n",
    "\n",
    "org_train = X_train.copy()\n",
    "org_test = X_test.copy()\n",
    "org_calib = X_calib.copy()"
   ]
  },
  {
   "cell_type": "code",
   "execution_count": 28,
   "id": "1466abac-c6da-4492-a62f-4240ae3783af",
   "metadata": {
    "execution": {
     "iopub.execute_input": "2025-07-30T13:29:27.854368Z",
     "iopub.status.busy": "2025-07-30T13:29:27.853937Z",
     "iopub.status.idle": "2025-07-30T13:29:27.860713Z",
     "shell.execute_reply": "2025-07-30T13:29:27.859562Z"
    },
    "papermill": {
     "duration": 0.034704,
     "end_time": "2025-07-30T13:29:27.864192",
     "exception": false,
     "start_time": "2025-07-30T13:29:27.829488",
     "status": "completed"
    },
    "tags": []
   },
   "outputs": [],
   "source": [
    "# put in other script?\n",
    "# Group sizes\n",
    "\n",
    "#def calculate_percentages(df, df_name):\n",
    "#    total_entries = len(df)\n",
    "#\n",
    "#    female_pct = (df['frau1'] == 1).mean() * 100\n",
    "#    non_german_pct = ((df['maxdeutsch1'] == 0) & (df['maxdeutsch.Missing.'] == 0)).mean() * 100\n",
    "#    non_german_male_pct = ((df['frau1'] == 0) & (df['maxdeutsch1'] == 0) & (df['maxdeutsch.Missing.'] == 0)).mean() * 100\n",
    "#    non_german_female_pct = ((df['frau1'] == 1) & (df['maxdeutsch1'] == 0) & (df['maxdeutsch.Missing.'] == 0)).mean() * 100\n",
    "#\n",
    "#    print(f\"--- {df_name} ---\")\n",
    "#    print(f\"Female: {female_pct:.2f}%\")\n",
    "#    print(f\"Non-German: {non_german_pct:.2f}%\")\n",
    "#    print(f\"Non-German Male: {non_german_male_pct:.2f}%\")\n",
    "#    print(f\"Non-German Female: {non_german_female_pct:.2f}%\\n\")\n",
    "#\n",
    "## Calculate for each DataFrame\n",
    "#calculate_percentages(siab_calib, \"siab_calib\")\n",
    "#calculate_percentages(siab_test, \"siab_test\")\n",
    "#calculate_percentages(siab_train, \"siab_train\")"
   ]
  },
  {
   "cell_type": "markdown",
   "id": "0a4a1b33",
   "metadata": {
    "papermill": {
     "duration": 0.023129,
     "end_time": "2025-07-30T13:29:27.913208",
     "exception": false,
     "start_time": "2025-07-30T13:29:27.890079",
     "status": "completed"
    },
    "tags": []
   },
   "source": [
    "# Preprocessing Data"
   ]
  },
  {
   "cell_type": "code",
   "execution_count": 29,
   "id": "ca879031",
   "metadata": {
    "execution": {
     "iopub.execute_input": "2025-07-30T13:29:27.973849Z",
     "iopub.status.busy": "2025-07-30T13:29:27.973383Z",
     "iopub.status.idle": "2025-07-30T13:29:27.980148Z",
     "shell.execute_reply": "2025-07-30T13:29:27.978951Z"
    },
    "papermill": {
     "duration": 0.033286,
     "end_time": "2025-07-30T13:29:27.982152",
     "exception": false,
     "start_time": "2025-07-30T13:29:27.948866",
     "status": "completed"
    },
    "tags": []
   },
   "outputs": [],
   "source": [
    "# EXCLUDE PROTECTED FEATURES\n",
    "# ----------------------\n",
    "# \"exclude_features\": \"none\", # \"nationality\", \"sex\", \"nationality-sex\"\n",
    "\n",
    "excluded_features = universe[\"exclude_features\"].split(\"-\") # split, e.g.: \"nationality-sex\" -> [\"nationality\", \"sex\"]\n",
    "excluded_features_dictionary = {\n",
    "    \"nationality\": [\"maxdeutsch1\", \"maxdeutsch.Missing.\"],\n",
    "    \"sex\": [\"frau1\"],\n",
    "    \"age\": [\"age\"],\n",
    "}\n"
   ]
  },
  {
   "cell_type": "code",
   "execution_count": 30,
   "id": "b745ac60",
   "metadata": {
    "execution": {
     "iopub.execute_input": "2025-07-30T13:29:28.028678Z",
     "iopub.status.busy": "2025-07-30T13:29:28.028255Z",
     "iopub.status.idle": "2025-07-30T13:29:28.034356Z",
     "shell.execute_reply": "2025-07-30T13:29:28.033235Z"
    },
    "papermill": {
     "duration": 0.032463,
     "end_time": "2025-07-30T13:29:28.037374",
     "exception": false,
     "start_time": "2025-07-30T13:29:28.004911",
     "status": "completed"
    },
    "tags": []
   },
   "outputs": [],
   "source": [
    "# Code nice names to column names\n",
    "\n",
    "excluded_features_columns = [\n",
    "    excluded_features_dictionary[f] for f in excluded_features if len(f) > 0 and f != \"none\"\n",
    "]"
   ]
  },
  {
   "cell_type": "code",
   "execution_count": 31,
   "id": "f84f73a2",
   "metadata": {
    "execution": {
     "iopub.execute_input": "2025-07-30T13:29:28.087050Z",
     "iopub.status.busy": "2025-07-30T13:29:28.086520Z",
     "iopub.status.idle": "2025-07-30T13:29:28.093581Z",
     "shell.execute_reply": "2025-07-30T13:29:28.092477Z"
    },
    "papermill": {
     "duration": 0.033608,
     "end_time": "2025-07-30T13:29:28.095857",
     "exception": false,
     "start_time": "2025-07-30T13:29:28.062249",
     "status": "completed"
    },
    "tags": []
   },
   "outputs": [],
   "source": [
    "from utils import flatten_once\n",
    "\n",
    "excluded_features_columns = flatten_once(excluded_features_columns)"
   ]
  },
  {
   "cell_type": "code",
   "execution_count": 32,
   "id": "884dea22",
   "metadata": {
    "execution": {
     "iopub.execute_input": "2025-07-30T13:29:28.145762Z",
     "iopub.status.busy": "2025-07-30T13:29:28.145264Z",
     "iopub.status.idle": "2025-07-30T13:29:28.164248Z",
     "shell.execute_reply": "2025-07-30T13:29:28.163042Z"
    },
    "papermill": {
     "duration": 0.045259,
     "end_time": "2025-07-30T13:29:28.165972",
     "exception": false,
     "start_time": "2025-07-30T13:29:28.120713",
     "status": "completed"
    },
    "tags": []
   },
   "outputs": [
    {
     "name": "stdout",
     "output_type": "stream",
     "text": [
      "Dropping features: ['maxdeutsch1', 'maxdeutsch.Missing.', 'frau1']\n"
     ]
    }
   ],
   "source": [
    "if len(excluded_features_columns) > 0:\n",
    "    print(f\"Dropping features: {excluded_features_columns}\")\n",
    "    X_train.drop(excluded_features_columns, axis=1, inplace=True)"
   ]
  },
  {
   "cell_type": "code",
   "execution_count": 33,
   "id": "95ab8b16",
   "metadata": {
    "execution": {
     "iopub.execute_input": "2025-07-30T13:29:28.215267Z",
     "iopub.status.busy": "2025-07-30T13:29:28.214887Z",
     "iopub.status.idle": "2025-07-30T13:29:28.272163Z",
     "shell.execute_reply": "2025-07-30T13:29:28.271034Z"
    },
    "papermill": {
     "duration": 0.082571,
     "end_time": "2025-07-30T13:29:28.274205",
     "exception": false,
     "start_time": "2025-07-30T13:29:28.191634",
     "status": "completed"
    },
    "tags": []
   },
   "outputs": [
    {
     "name": "stdout",
     "output_type": "stream",
     "text": [
      "Dropping features: ['maxdeutsch1', 'maxdeutsch.Missing.', 'frau1']\n"
     ]
    }
   ],
   "source": [
    "if len(excluded_features_columns) > 0:\n",
    "    print(f\"Dropping features: {excluded_features_columns}\")\n",
    "    X_test.drop(excluded_features_columns, axis=1, inplace=True)"
   ]
  },
  {
   "cell_type": "code",
   "execution_count": 34,
   "id": "1853aaf5-fb9f-46cb-a2b5-8ea4ae2237e4",
   "metadata": {
    "execution": {
     "iopub.execute_input": "2025-07-30T13:29:28.322681Z",
     "iopub.status.busy": "2025-07-30T13:29:28.322296Z",
     "iopub.status.idle": "2025-07-30T13:29:28.377324Z",
     "shell.execute_reply": "2025-07-30T13:29:28.376246Z"
    },
    "papermill": {
     "duration": 0.081269,
     "end_time": "2025-07-30T13:29:28.379350",
     "exception": false,
     "start_time": "2025-07-30T13:29:28.298081",
     "status": "completed"
    },
    "tags": []
   },
   "outputs": [
    {
     "name": "stdout",
     "output_type": "stream",
     "text": [
      "Dropping features: ['maxdeutsch1', 'maxdeutsch.Missing.', 'frau1']\n"
     ]
    }
   ],
   "source": [
    "if len(excluded_features_columns) > 0:\n",
    "    print(f\"Dropping features: {excluded_features_columns}\")\n",
    "    X_calib.drop(excluded_features_columns, axis=1, inplace=True)"
   ]
  },
  {
   "cell_type": "code",
   "execution_count": 35,
   "id": "6727d079-03e5-481e-9d38-292a90b7a0a8",
   "metadata": {
    "execution": {
     "iopub.execute_input": "2025-07-30T13:29:28.427606Z",
     "iopub.status.busy": "2025-07-30T13:29:28.427227Z",
     "iopub.status.idle": "2025-07-30T13:29:28.432027Z",
     "shell.execute_reply": "2025-07-30T13:29:28.431138Z"
    },
    "papermill": {
     "duration": 0.029702,
     "end_time": "2025-07-30T13:29:28.434143",
     "exception": false,
     "start_time": "2025-07-30T13:29:28.404441",
     "status": "completed"
    },
    "tags": []
   },
   "outputs": [],
   "source": [
    "# SPLIT & STRATIFY DATA\n",
    "# ----------------------"
   ]
  },
  {
   "cell_type": "code",
   "execution_count": 36,
   "id": "76c4dc6d",
   "metadata": {
    "execution": {
     "iopub.execute_input": "2025-07-30T13:29:28.480803Z",
     "iopub.status.busy": "2025-07-30T13:29:28.480428Z",
     "iopub.status.idle": "2025-07-30T13:29:28.485742Z",
     "shell.execute_reply": "2025-07-30T13:29:28.484799Z"
    },
    "papermill": {
     "duration": 0.030571,
     "end_time": "2025-07-30T13:29:28.487901",
     "exception": false,
     "start_time": "2025-07-30T13:29:28.457330",
     "status": "completed"
    },
    "tags": []
   },
   "outputs": [],
   "source": [
    "# EXCLUDE CERTAIN SUBGROUPS\n",
    "# ----------------------\n",
    "\n",
    "mode = universe.get(\"exclude_subgroups\", \"keep-all\") \n",
    "# Fetches the exclude_subgroups setting from the universe dict.\n",
    "# Defaults to \"keep-all\" if the key is missing."
   ]
  },
  {
   "cell_type": "code",
   "execution_count": 37,
   "id": "21994072",
   "metadata": {
    "execution": {
     "iopub.execute_input": "2025-07-30T13:29:28.536288Z",
     "iopub.status.busy": "2025-07-30T13:29:28.535803Z",
     "iopub.status.idle": "2025-07-30T13:29:28.542622Z",
     "shell.execute_reply": "2025-07-30T13:29:28.541725Z"
    },
    "papermill": {
     "duration": 0.032877,
     "end_time": "2025-07-30T13:29:28.545155",
     "exception": false,
     "start_time": "2025-07-30T13:29:28.512278",
     "status": "completed"
    },
    "tags": []
   },
   "outputs": [],
   "source": [
    "if mode == \"keep-all\":\n",
    "    keep_mask = pd.Series(True, index=org_train.index)\n",
    "\n",
    "# org_train contains the original feature columns from features_org (in Simson)\n",
    "# features_org contains unprocessed features, for me X_train at beginning ???\n",
    "# For keep-all, creates a boolean Series (keep_mask) of all True, so no rows are removed.\n",
    "\n",
    "elif mode == \"drop-non-german\":\n",
    "    keep_mask = org_train[\"maxdeutsch1\"] == 1 # ??? what about missing values?\n",
    "\n",
    "else:\n",
    "    raise ValueError(f\"Unsupported mode for exclude_subgroups: {mode}\")\n"
   ]
  },
  {
   "cell_type": "code",
   "execution_count": 38,
   "id": "71651440",
   "metadata": {
    "execution": {
     "iopub.execute_input": "2025-07-30T13:29:28.594232Z",
     "iopub.status.busy": "2025-07-30T13:29:28.593708Z",
     "iopub.status.idle": "2025-07-30T13:29:28.600735Z",
     "shell.execute_reply": "2025-07-30T13:29:28.599824Z"
    },
    "papermill": {
     "duration": 0.034114,
     "end_time": "2025-07-30T13:29:28.603254",
     "exception": false,
     "start_time": "2025-07-30T13:29:28.569140",
     "status": "completed"
    },
    "tags": []
   },
   "outputs": [],
   "source": [
    "n_drop = (~keep_mask).sum() # Calculates how many rows are set to be dropped\n",
    "if n_drop > 0:\n",
    "    pct = n_drop / len(keep_mask) * 100\n",
    "    print(f\"Dropping {n_drop} rows ({pct:.2f}%) where mode='{mode}'\")"
   ]
  },
  {
   "cell_type": "code",
   "execution_count": 39,
   "id": "5fb8eee5",
   "metadata": {
    "execution": {
     "iopub.execute_input": "2025-07-30T13:29:28.651030Z",
     "iopub.status.busy": "2025-07-30T13:29:28.650639Z",
     "iopub.status.idle": "2025-07-30T13:29:28.680406Z",
     "shell.execute_reply": "2025-07-30T13:29:28.665379Z"
    },
    "papermill": {
     "duration": 0.056232,
     "end_time": "2025-07-30T13:29:28.682660",
     "exception": false,
     "start_time": "2025-07-30T13:29:28.626428",
     "status": "completed"
    },
    "tags": []
   },
   "outputs": [],
   "source": [
    "X_train = X_train[keep_mask]"
   ]
  },
  {
   "cell_type": "code",
   "execution_count": 40,
   "id": "b202bb3a",
   "metadata": {
    "execution": {
     "iopub.execute_input": "2025-07-30T13:29:28.734786Z",
     "iopub.status.busy": "2025-07-30T13:29:28.734326Z",
     "iopub.status.idle": "2025-07-30T13:29:28.740719Z",
     "shell.execute_reply": "2025-07-30T13:29:28.739637Z"
    },
    "papermill": {
     "duration": 0.034489,
     "end_time": "2025-07-30T13:29:28.742556",
     "exception": false,
     "start_time": "2025-07-30T13:29:28.708067",
     "status": "completed"
    },
    "tags": []
   },
   "outputs": [],
   "source": [
    "y_train = y_train[keep_mask]"
   ]
  },
  {
   "cell_type": "markdown",
   "id": "493e2ac3",
   "metadata": {
    "papermill": {
     "duration": 0.024295,
     "end_time": "2025-07-30T13:29:28.791513",
     "exception": false,
     "start_time": "2025-07-30T13:29:28.767218",
     "status": "completed"
    },
    "tags": []
   },
   "source": [
    "# Model Training"
   ]
  },
  {
   "cell_type": "code",
   "execution_count": 41,
   "id": "679e1268",
   "metadata": {
    "execution": {
     "iopub.execute_input": "2025-07-30T13:29:28.840593Z",
     "iopub.status.busy": "2025-07-30T13:29:28.840150Z",
     "iopub.status.idle": "2025-07-30T13:29:28.947799Z",
     "shell.execute_reply": "2025-07-30T13:29:28.946751Z"
    },
    "papermill": {
     "duration": 0.135229,
     "end_time": "2025-07-30T13:29:28.949905",
     "exception": false,
     "start_time": "2025-07-30T13:29:28.814676",
     "status": "completed"
    },
    "tags": []
   },
   "outputs": [],
   "source": [
    "from sklearn.linear_model import LogisticRegression\n",
    "from sklearn.ensemble import GradientBoostingClassifier, RandomForestClassifier\n",
    "\n",
    "if (universe[\"model\"] == \"logreg\"):\n",
    "    model = LogisticRegression() #penalty=\"none\") #, solver=\"newton-cg\", max_iter=1) # include random_state=19 ?\n",
    "elif (universe[\"model\"] == \"penalized_logreg\"):\n",
    "    model = LogisticRegression(penalty=\"l2\", C=1.0) #, solver=\"newton-cg\", max_iter=1)\n",
    "elif (universe[\"model\"] == \"rf\"):\n",
    "    model = RandomForestClassifier(n_estimators=100, n_jobs=-1)\n",
    "elif (universe[\"model\"] == \"gbm\"):\n",
    "    model = GradientBoostingClassifier()\n",
    "elif (universe[\"model\"] == \"elasticnet\"):\n",
    "    model = LogisticRegression(penalty = 'elasticnet', solver = 'saga', l1_ratio = 0.5, max_iter=5000) # which solver to use?\n",
    "else:\n",
    "    raise \"Unsupported universe.model\""
   ]
  },
  {
   "cell_type": "code",
   "execution_count": 42,
   "id": "0cc8f744",
   "metadata": {
    "execution": {
     "iopub.execute_input": "2025-07-30T13:29:29.005632Z",
     "iopub.status.busy": "2025-07-30T13:29:29.004937Z",
     "iopub.status.idle": "2025-07-30T13:29:29.011655Z",
     "shell.execute_reply": "2025-07-30T13:29:29.010947Z"
    },
    "papermill": {
     "duration": 0.038042,
     "end_time": "2025-07-30T13:29:29.013042",
     "exception": false,
     "start_time": "2025-07-30T13:29:28.975000",
     "status": "completed"
    },
    "tags": []
   },
   "outputs": [],
   "source": [
    "import numpy as np\n",
    "from sklearn.pipeline import Pipeline\n",
    "from sklearn.preprocessing import StandardScaler\n",
    "\n",
    "model = Pipeline([\n",
    "    #(\"continuous_processor\", continuous_processor),\n",
    "    #(\"categorical_preprocessor\", categorical_preprocessor),\n",
    "    (\"scale\", StandardScaler() if universe[\"scale\"] == \"scale\" else None), \n",
    "    (\"model\", model),\n",
    "])"
   ]
  },
  {
   "cell_type": "code",
   "execution_count": 43,
   "id": "9442c04d",
   "metadata": {
    "execution": {
     "iopub.execute_input": "2025-07-30T13:29:29.040148Z",
     "iopub.status.busy": "2025-07-30T13:29:29.039790Z",
     "iopub.status.idle": "2025-07-30T13:29:55.294252Z",
     "shell.execute_reply": "2025-07-30T13:29:55.293069Z"
    },
    "papermill": {
     "duration": 26.269188,
     "end_time": "2025-07-30T13:29:55.295845",
     "exception": false,
     "start_time": "2025-07-30T13:29:29.026657",
     "status": "completed"
    },
    "tags": []
   },
   "outputs": [
    {
     "data": {
      "text/html": [
       "<style>#sk-container-id-1 {color: black;background-color: white;}#sk-container-id-1 pre{padding: 0;}#sk-container-id-1 div.sk-toggleable {background-color: white;}#sk-container-id-1 label.sk-toggleable__label {cursor: pointer;display: block;width: 100%;margin-bottom: 0;padding: 0.3em;box-sizing: border-box;text-align: center;}#sk-container-id-1 label.sk-toggleable__label-arrow:before {content: \"▸\";float: left;margin-right: 0.25em;color: #696969;}#sk-container-id-1 label.sk-toggleable__label-arrow:hover:before {color: black;}#sk-container-id-1 div.sk-estimator:hover label.sk-toggleable__label-arrow:before {color: black;}#sk-container-id-1 div.sk-toggleable__content {max-height: 0;max-width: 0;overflow: hidden;text-align: left;background-color: #f0f8ff;}#sk-container-id-1 div.sk-toggleable__content pre {margin: 0.2em;color: black;border-radius: 0.25em;background-color: #f0f8ff;}#sk-container-id-1 input.sk-toggleable__control:checked~div.sk-toggleable__content {max-height: 200px;max-width: 100%;overflow: auto;}#sk-container-id-1 input.sk-toggleable__control:checked~label.sk-toggleable__label-arrow:before {content: \"▾\";}#sk-container-id-1 div.sk-estimator input.sk-toggleable__control:checked~label.sk-toggleable__label {background-color: #d4ebff;}#sk-container-id-1 div.sk-label input.sk-toggleable__control:checked~label.sk-toggleable__label {background-color: #d4ebff;}#sk-container-id-1 input.sk-hidden--visually {border: 0;clip: rect(1px 1px 1px 1px);clip: rect(1px, 1px, 1px, 1px);height: 1px;margin: -1px;overflow: hidden;padding: 0;position: absolute;width: 1px;}#sk-container-id-1 div.sk-estimator {font-family: monospace;background-color: #f0f8ff;border: 1px dotted black;border-radius: 0.25em;box-sizing: border-box;margin-bottom: 0.5em;}#sk-container-id-1 div.sk-estimator:hover {background-color: #d4ebff;}#sk-container-id-1 div.sk-parallel-item::after {content: \"\";width: 100%;border-bottom: 1px solid gray;flex-grow: 1;}#sk-container-id-1 div.sk-label:hover label.sk-toggleable__label {background-color: #d4ebff;}#sk-container-id-1 div.sk-serial::before {content: \"\";position: absolute;border-left: 1px solid gray;box-sizing: border-box;top: 0;bottom: 0;left: 50%;z-index: 0;}#sk-container-id-1 div.sk-serial {display: flex;flex-direction: column;align-items: center;background-color: white;padding-right: 0.2em;padding-left: 0.2em;position: relative;}#sk-container-id-1 div.sk-item {position: relative;z-index: 1;}#sk-container-id-1 div.sk-parallel {display: flex;align-items: stretch;justify-content: center;background-color: white;position: relative;}#sk-container-id-1 div.sk-item::before, #sk-container-id-1 div.sk-parallel-item::before {content: \"\";position: absolute;border-left: 1px solid gray;box-sizing: border-box;top: 0;bottom: 0;left: 50%;z-index: -1;}#sk-container-id-1 div.sk-parallel-item {display: flex;flex-direction: column;z-index: 1;position: relative;background-color: white;}#sk-container-id-1 div.sk-parallel-item:first-child::after {align-self: flex-end;width: 50%;}#sk-container-id-1 div.sk-parallel-item:last-child::after {align-self: flex-start;width: 50%;}#sk-container-id-1 div.sk-parallel-item:only-child::after {width: 0;}#sk-container-id-1 div.sk-dashed-wrapped {border: 1px dashed gray;margin: 0 0.4em 0.5em 0.4em;box-sizing: border-box;padding-bottom: 0.4em;background-color: white;}#sk-container-id-1 div.sk-label label {font-family: monospace;font-weight: bold;display: inline-block;line-height: 1.2em;}#sk-container-id-1 div.sk-label-container {text-align: center;}#sk-container-id-1 div.sk-container {/* jupyter's `normalize.less` sets `[hidden] { display: none; }` but bootstrap.min.css set `[hidden] { display: none !important; }` so we also need the `!important` here to be able to override the default hidden behavior on the sphinx rendered scikit-learn.org. See: https://github.com/scikit-learn/scikit-learn/issues/21755 */display: inline-block !important;position: relative;}#sk-container-id-1 div.sk-text-repr-fallback {display: none;}</style><div id=\"sk-container-id-1\" class=\"sk-top-container\"><div class=\"sk-text-repr-fallback\"><pre>Pipeline(steps=[(&#x27;scale&#x27;, StandardScaler()),\n",
       "                (&#x27;model&#x27;,\n",
       "                 LogisticRegression(l1_ratio=0.5, max_iter=5000,\n",
       "                                    penalty=&#x27;elasticnet&#x27;, solver=&#x27;saga&#x27;))])</pre><b>In a Jupyter environment, please rerun this cell to show the HTML representation or trust the notebook. <br />On GitHub, the HTML representation is unable to render, please try loading this page with nbviewer.org.</b></div><div class=\"sk-container\" hidden><div class=\"sk-item sk-dashed-wrapped\"><div class=\"sk-label-container\"><div class=\"sk-label sk-toggleable\"><input class=\"sk-toggleable__control sk-hidden--visually\" id=\"sk-estimator-id-1\" type=\"checkbox\" ><label for=\"sk-estimator-id-1\" class=\"sk-toggleable__label sk-toggleable__label-arrow\">Pipeline</label><div class=\"sk-toggleable__content\"><pre>Pipeline(steps=[(&#x27;scale&#x27;, StandardScaler()),\n",
       "                (&#x27;model&#x27;,\n",
       "                 LogisticRegression(l1_ratio=0.5, max_iter=5000,\n",
       "                                    penalty=&#x27;elasticnet&#x27;, solver=&#x27;saga&#x27;))])</pre></div></div></div><div class=\"sk-serial\"><div class=\"sk-item\"><div class=\"sk-estimator sk-toggleable\"><input class=\"sk-toggleable__control sk-hidden--visually\" id=\"sk-estimator-id-2\" type=\"checkbox\" ><label for=\"sk-estimator-id-2\" class=\"sk-toggleable__label sk-toggleable__label-arrow\">StandardScaler</label><div class=\"sk-toggleable__content\"><pre>StandardScaler()</pre></div></div></div><div class=\"sk-item\"><div class=\"sk-estimator sk-toggleable\"><input class=\"sk-toggleable__control sk-hidden--visually\" id=\"sk-estimator-id-3\" type=\"checkbox\" ><label for=\"sk-estimator-id-3\" class=\"sk-toggleable__label sk-toggleable__label-arrow\">LogisticRegression</label><div class=\"sk-toggleable__content\"><pre>LogisticRegression(l1_ratio=0.5, max_iter=5000, penalty=&#x27;elasticnet&#x27;,\n",
       "                   solver=&#x27;saga&#x27;)</pre></div></div></div></div></div></div></div>"
      ],
      "text/plain": [
       "Pipeline(steps=[('scale', StandardScaler()),\n",
       "                ('model',\n",
       "                 LogisticRegression(l1_ratio=0.5, max_iter=5000,\n",
       "                                    penalty='elasticnet', solver='saga'))])"
      ]
     },
     "execution_count": 43,
     "metadata": {},
     "output_type": "execute_result"
    }
   ],
   "source": [
    "model.fit(X_train, y_train.values.ravel())"
   ]
  },
  {
   "cell_type": "code",
   "execution_count": 44,
   "id": "af59f8c0",
   "metadata": {
    "execution": {
     "iopub.execute_input": "2025-07-30T13:29:55.346504Z",
     "iopub.status.busy": "2025-07-30T13:29:55.346044Z",
     "iopub.status.idle": "2025-07-30T13:29:55.352367Z",
     "shell.execute_reply": "2025-07-30T13:29:55.351321Z"
    },
    "papermill": {
     "duration": 0.034345,
     "end_time": "2025-07-30T13:29:55.355347",
     "exception": false,
     "start_time": "2025-07-30T13:29:55.321002",
     "status": "completed"
    },
    "tags": []
   },
   "outputs": [],
   "source": [
    "from fairness_multiverse.universe import predict_w_threshold"
   ]
  },
  {
   "cell_type": "code",
   "execution_count": 45,
   "id": "a7cf2e16",
   "metadata": {
    "execution": {
     "iopub.execute_input": "2025-07-30T13:29:55.408462Z",
     "iopub.status.busy": "2025-07-30T13:29:55.407967Z",
     "iopub.status.idle": "2025-07-30T13:29:55.621213Z",
     "shell.execute_reply": "2025-07-30T13:29:55.620186Z"
    },
    "papermill": {
     "duration": 0.241568,
     "end_time": "2025-07-30T13:29:55.623146",
     "exception": false,
     "start_time": "2025-07-30T13:29:55.381578",
     "status": "completed"
    },
    "tags": []
   },
   "outputs": [
    {
     "data": {
      "text/plain": [
       "0.8604837810723442"
      ]
     },
     "execution_count": 45,
     "metadata": {},
     "output_type": "execute_result"
    }
   ],
   "source": [
    "probs_test = model.predict_proba(X_test)\n",
    "\n",
    "'''\n",
    "Below code returns a boolean array (or binary 0/1 array depending on how it’s used) where each element \n",
    "is True if the probability of class 1 is greater than or equal to the threshold, and False otherwise.\n",
    "'''\n",
    "y_pred_default = predict_w_threshold(probs_test, 0.5)\n",
    "\n",
    "from sklearn.metrics import accuracy_score\n",
    "\n",
    "# Naive prediction\n",
    "accuracy_score(y_true = y_true, y_pred = y_pred_default)"
   ]
  },
  {
   "cell_type": "code",
   "execution_count": 46,
   "id": "081964c3",
   "metadata": {
    "execution": {
     "iopub.execute_input": "2025-07-30T13:29:55.678853Z",
     "iopub.status.busy": "2025-07-30T13:29:55.678345Z",
     "iopub.status.idle": "2025-07-30T13:29:55.868004Z",
     "shell.execute_reply": "2025-07-30T13:29:55.866983Z"
    },
    "papermill": {
     "duration": 0.219633,
     "end_time": "2025-07-30T13:29:55.869847",
     "exception": false,
     "start_time": "2025-07-30T13:29:55.650214",
     "status": "completed"
    },
    "tags": []
   },
   "outputs": [
    {
     "data": {
      "text/plain": [
       "array([0, 0, 0, ..., 0, 0, 0])"
      ]
     },
     "execution_count": 46,
     "metadata": {},
     "output_type": "execute_result"
    }
   ],
   "source": [
    "model.predict(X_test)"
   ]
  },
  {
   "cell_type": "markdown",
   "id": "56c9705b",
   "metadata": {
    "papermill": {
     "duration": 0.013197,
     "end_time": "2025-07-30T13:29:55.904134",
     "exception": false,
     "start_time": "2025-07-30T13:29:55.890937",
     "status": "completed"
    },
    "tags": []
   },
   "source": [
    "# Conformal Prediction"
   ]
  },
  {
   "cell_type": "code",
   "execution_count": 47,
   "id": "160ec6ff",
   "metadata": {
    "execution": {
     "iopub.execute_input": "2025-07-30T13:29:55.966013Z",
     "iopub.status.busy": "2025-07-30T13:29:55.965045Z",
     "iopub.status.idle": "2025-07-30T13:29:55.970411Z",
     "shell.execute_reply": "2025-07-30T13:29:55.969386Z"
    },
    "papermill": {
     "duration": 0.042247,
     "end_time": "2025-07-30T13:29:55.972252",
     "exception": false,
     "start_time": "2025-07-30T13:29:55.930005",
     "status": "completed"
    },
    "tags": []
   },
   "outputs": [],
   "source": [
    "# Miscoverage level for conformal prediction (10% allowed error rate => 90% target coverage)\n",
    "alpha = 0.1"
   ]
  },
  {
   "cell_type": "code",
   "execution_count": 48,
   "id": "eadf4555-3dd3-440e-8e35-f82a4ad9f855",
   "metadata": {
    "execution": {
     "iopub.execute_input": "2025-07-30T13:29:56.021837Z",
     "iopub.status.busy": "2025-07-30T13:29:56.021409Z",
     "iopub.status.idle": "2025-07-30T13:29:56.193994Z",
     "shell.execute_reply": "2025-07-30T13:29:56.193231Z"
    },
    "papermill": {
     "duration": 0.197039,
     "end_time": "2025-07-30T13:29:56.195743",
     "exception": false,
     "start_time": "2025-07-30T13:29:55.998704",
     "status": "completed"
    },
    "tags": []
   },
   "outputs": [],
   "source": [
    "probs_calib = model.predict_proba(X_calib)"
   ]
  },
  {
   "cell_type": "code",
   "execution_count": 49,
   "id": "2ed93547-6d5d-4983-9b36-1ecb300da49a",
   "metadata": {
    "execution": {
     "iopub.execute_input": "2025-07-30T13:29:56.238088Z",
     "iopub.status.busy": "2025-07-30T13:29:56.237504Z",
     "iopub.status.idle": "2025-07-30T13:29:56.242994Z",
     "shell.execute_reply": "2025-07-30T13:29:56.242073Z"
    },
    "papermill": {
     "duration": 0.02084,
     "end_time": "2025-07-30T13:29:56.244758",
     "exception": false,
     "start_time": "2025-07-30T13:29:56.223918",
     "status": "completed"
    },
    "tags": []
   },
   "outputs": [],
   "source": [
    "y_calib = y_calib.values.ravel().astype(int)"
   ]
  },
  {
   "cell_type": "code",
   "execution_count": 50,
   "id": "65d1320d-f588-4b38-9072-62af1ae97f7d",
   "metadata": {
    "execution": {
     "iopub.execute_input": "2025-07-30T13:29:56.272159Z",
     "iopub.status.busy": "2025-07-30T13:29:56.271820Z",
     "iopub.status.idle": "2025-07-30T13:29:56.278433Z",
     "shell.execute_reply": "2025-07-30T13:29:56.277768Z"
    },
    "papermill": {
     "duration": 0.021716,
     "end_time": "2025-07-30T13:29:56.279720",
     "exception": false,
     "start_time": "2025-07-30T13:29:56.258004",
     "status": "completed"
    },
    "tags": []
   },
   "outputs": [],
   "source": [
    "from fairness_multiverse.conformal import compute_nc_scores\n",
    "\n",
    "# Compute nonconformity scores on calibration set (1 - probability of true class)\n",
    "nc_scores = compute_nc_scores(probs_calib, y_calib)"
   ]
  },
  {
   "cell_type": "code",
   "execution_count": 51,
   "id": "df3b8ca3-53b7-43d5-9667-7c85da7aeda2",
   "metadata": {
    "execution": {
     "iopub.execute_input": "2025-07-30T13:29:56.320547Z",
     "iopub.status.busy": "2025-07-30T13:29:56.320168Z",
     "iopub.status.idle": "2025-07-30T13:29:56.327315Z",
     "shell.execute_reply": "2025-07-30T13:29:56.326339Z"
    },
    "papermill": {
     "duration": 0.037067,
     "end_time": "2025-07-30T13:29:56.329447",
     "exception": false,
     "start_time": "2025-07-30T13:29:56.292380",
     "status": "completed"
    },
    "tags": []
   },
   "outputs": [],
   "source": [
    "from fairness_multiverse.conformal import find_threshold\n",
    "\n",
    "# Find conformal threshold q_hat for the given alpha (split conformal method)\n",
    "q_hat = find_threshold(nc_scores, alpha)"
   ]
  },
  {
   "cell_type": "code",
   "execution_count": 52,
   "id": "4d29e6c1-0ef6-4aa4-b8fe-4fe79b0d033a",
   "metadata": {
    "execution": {
     "iopub.execute_input": "2025-07-30T13:29:56.396590Z",
     "iopub.status.busy": "2025-07-30T13:29:56.395986Z",
     "iopub.status.idle": "2025-07-30T13:29:56.403457Z",
     "shell.execute_reply": "2025-07-30T13:29:56.402454Z"
    },
    "papermill": {
     "duration": 0.040979,
     "end_time": "2025-07-30T13:29:56.405231",
     "exception": false,
     "start_time": "2025-07-30T13:29:56.364252",
     "status": "completed"
    },
    "tags": []
   },
   "outputs": [
    {
     "data": {
      "text/plain": [
       "0.6597822292789473"
      ]
     },
     "execution_count": 52,
     "metadata": {},
     "output_type": "execute_result"
    }
   ],
   "source": [
    "q_hat"
   ]
  },
  {
   "cell_type": "code",
   "execution_count": 53,
   "id": "92460794-cdac-4be2-ba28-f28c0515a6fb",
   "metadata": {
    "execution": {
     "iopub.execute_input": "2025-07-30T13:29:56.465960Z",
     "iopub.status.busy": "2025-07-30T13:29:56.459937Z",
     "iopub.status.idle": "2025-07-30T13:29:57.351628Z",
     "shell.execute_reply": "2025-07-30T13:29:57.350595Z"
    },
    "papermill": {
     "duration": 0.921661,
     "end_time": "2025-07-30T13:29:57.353656",
     "exception": false,
     "start_time": "2025-07-30T13:29:56.431995",
     "status": "completed"
    },
    "tags": []
   },
   "outputs": [],
   "source": [
    "from fairness_multiverse.conformal import predict_conformal_sets\n",
    "\n",
    "# Generate prediction sets for each test example\n",
    "pred_sets = predict_conformal_sets(model, X_test, q_hat)"
   ]
  },
  {
   "cell_type": "code",
   "execution_count": 54,
   "id": "d90c9a65-e6db-4f5d-80cd-e68fb7e46829",
   "metadata": {
    "execution": {
     "iopub.execute_input": "2025-07-30T13:29:57.408640Z",
     "iopub.status.busy": "2025-07-30T13:29:57.407974Z",
     "iopub.status.idle": "2025-07-30T13:29:57.413786Z",
     "shell.execute_reply": "2025-07-30T13:29:57.412769Z"
    },
    "papermill": {
     "duration": 0.034559,
     "end_time": "2025-07-30T13:29:57.415366",
     "exception": false,
     "start_time": "2025-07-30T13:29:57.380807",
     "status": "completed"
    },
    "tags": []
   },
   "outputs": [],
   "source": [
    "y_true = y_true.squeeze()"
   ]
  },
  {
   "cell_type": "code",
   "execution_count": 55,
   "id": "3a58a54a-1e68-46b9-927a-df01f18aebc8",
   "metadata": {
    "execution": {
     "iopub.execute_input": "2025-07-30T13:29:57.465129Z",
     "iopub.status.busy": "2025-07-30T13:29:57.464499Z",
     "iopub.status.idle": "2025-07-30T13:29:58.391062Z",
     "shell.execute_reply": "2025-07-30T13:29:58.390022Z"
    },
    "papermill": {
     "duration": 0.951937,
     "end_time": "2025-07-30T13:29:58.393161",
     "exception": false,
     "start_time": "2025-07-30T13:29:57.441224",
     "status": "completed"
    },
    "tags": []
   },
   "outputs": [],
   "source": [
    "from fairness_multiverse.conformal import evaluate_sets\n",
    "\n",
    "# Evaluate coverage and average set size on test data\n",
    "metrics = evaluate_sets(pred_sets, y_true)"
   ]
  },
  {
   "cell_type": "markdown",
   "id": "2b569c12-9aaa-4c88-98c9-bbcd0cf3ebb8",
   "metadata": {
    "papermill": {
     "duration": 0.029318,
     "end_time": "2025-07-30T13:29:58.452960",
     "exception": false,
     "start_time": "2025-07-30T13:29:58.423642",
     "status": "completed"
    },
    "tags": []
   },
   "source": [
    "# CP Metrics"
   ]
  },
  {
   "cell_type": "code",
   "execution_count": 56,
   "id": "5ce0a5cb-201f-45a0-ade5-94c7f0bd6095",
   "metadata": {
    "execution": {
     "iopub.execute_input": "2025-07-30T13:29:58.512113Z",
     "iopub.status.busy": "2025-07-30T13:29:58.511587Z",
     "iopub.status.idle": "2025-07-30T13:29:58.519653Z",
     "shell.execute_reply": "2025-07-30T13:29:58.518617Z"
    },
    "papermill": {
     "duration": 0.040251,
     "end_time": "2025-07-30T13:29:58.521724",
     "exception": false,
     "start_time": "2025-07-30T13:29:58.481473",
     "status": "completed"
    },
    "tags": []
   },
   "outputs": [
    {
     "data": {
      "text/plain": [
       "{'coverage': 0.9103444432058856, 'avg_size': 1.1249470516107458}"
      ]
     },
     "execution_count": 56,
     "metadata": {},
     "output_type": "execute_result"
    }
   ],
   "source": [
    "metrics"
   ]
  },
  {
   "cell_type": "code",
   "execution_count": 57,
   "id": "9b9a838d-31c9-430b-ae14-12baee460d17",
   "metadata": {
    "execution": {
     "iopub.execute_input": "2025-07-30T13:29:58.582154Z",
     "iopub.status.busy": "2025-07-30T13:29:58.581681Z",
     "iopub.status.idle": "2025-07-30T13:29:58.588508Z",
     "shell.execute_reply": "2025-07-30T13:29:58.587362Z"
    },
    "papermill": {
     "duration": 0.039712,
     "end_time": "2025-07-30T13:29:58.590536",
     "exception": false,
     "start_time": "2025-07-30T13:29:58.550824",
     "status": "completed"
    },
    "tags": []
   },
   "outputs": [],
   "source": [
    "example_universe = universe.copy()\n",
    "universe_training_size = example_universe.get(\"training_size\")\n",
    "universe_scale = example_universe.get(\"scale\")\n",
    "universe_model = example_universe.get(\"model\")\n",
    "universe_exclude_features = example_universe.get(\"exclude_features\")\n",
    "universe_exclude_subgroups = example_universe.get(\"exclude_subgroups\")"
   ]
  },
  {
   "cell_type": "code",
   "execution_count": 58,
   "id": "f4b6a8ac-9dc0-4245-8a91-5b3b5999c4f9",
   "metadata": {
    "execution": {
     "iopub.execute_input": "2025-07-30T13:29:58.650902Z",
     "iopub.status.busy": "2025-07-30T13:29:58.650408Z",
     "iopub.status.idle": "2025-07-30T13:29:58.656995Z",
     "shell.execute_reply": "2025-07-30T13:29:58.656074Z"
    },
    "papermill": {
     "duration": 0.041602,
     "end_time": "2025-07-30T13:29:58.661718",
     "exception": false,
     "start_time": "2025-07-30T13:29:58.620116",
     "status": "completed"
    },
    "tags": []
   },
   "outputs": [],
   "source": [
    "cp_metrics_dict = {\n",
    "    \"universe_id\": [universe_id],\n",
    "    \"universe_training_size\": [universe_training_size],\n",
    "    \"universe_scale\": [universe_scale],\n",
    "    \"universe_model\": [universe_model],\n",
    "    \"universe_exclude_features\": [universe_exclude_features],\n",
    "    \"universe_exclude_subgroups\": [universe_exclude_subgroups],\n",
    "    \"q_hat\": [q_hat],\n",
    "    \"coverage\": [metrics[\"coverage\"]],\n",
    "    \"avg_size\": [metrics[\"avg_size\"]],\n",
    "}"
   ]
  },
  {
   "cell_type": "code",
   "execution_count": 59,
   "id": "908acbb1-0371-4915-85ca-3fa520d2efe2",
   "metadata": {
    "execution": {
     "iopub.execute_input": "2025-07-30T13:29:58.719839Z",
     "iopub.status.busy": "2025-07-30T13:29:58.719384Z",
     "iopub.status.idle": "2025-07-30T13:29:58.727320Z",
     "shell.execute_reply": "2025-07-30T13:29:58.726283Z"
    },
    "papermill": {
     "duration": 0.040028,
     "end_time": "2025-07-30T13:29:58.729108",
     "exception": false,
     "start_time": "2025-07-30T13:29:58.689080",
     "status": "completed"
    },
    "tags": []
   },
   "outputs": [
    {
     "data": {
      "text/plain": [
       "{'universe_id': ['45494a759af00bfc72d4db798282598c'],\n",
       " 'universe_training_size': ['25k'],\n",
       " 'universe_scale': ['scale'],\n",
       " 'universe_model': ['elasticnet'],\n",
       " 'universe_exclude_features': ['nationality-sex'],\n",
       " 'universe_exclude_subgroups': ['keep-all'],\n",
       " 'q_hat': [0.6597822292789473],\n",
       " 'coverage': [0.9103444432058856],\n",
       " 'avg_size': [1.1249470516107458]}"
      ]
     },
     "execution_count": 59,
     "metadata": {},
     "output_type": "execute_result"
    }
   ],
   "source": [
    "cp_metrics_dict"
   ]
  },
  {
   "cell_type": "code",
   "execution_count": 60,
   "id": "33007efc-14e9-4ec6-97ac-56a455c82265",
   "metadata": {
    "execution": {
     "iopub.execute_input": "2025-07-30T13:29:58.789149Z",
     "iopub.status.busy": "2025-07-30T13:29:58.788538Z",
     "iopub.status.idle": "2025-07-30T13:29:58.797838Z",
     "shell.execute_reply": "2025-07-30T13:29:58.796177Z"
    },
    "papermill": {
     "duration": 0.042335,
     "end_time": "2025-07-30T13:29:58.800134",
     "exception": false,
     "start_time": "2025-07-30T13:29:58.757799",
     "status": "completed"
    },
    "tags": []
   },
   "outputs": [],
   "source": [
    "cp_metrics_df = pd.DataFrame(cp_metrics_dict)"
   ]
  },
  {
   "cell_type": "code",
   "execution_count": 61,
   "id": "db12611b-57b2-4910-b9d0-355adfd6e7bf",
   "metadata": {
    "execution": {
     "iopub.execute_input": "2025-07-30T13:29:58.857768Z",
     "iopub.status.busy": "2025-07-30T13:29:58.857185Z",
     "iopub.status.idle": "2025-07-30T13:29:58.873080Z",
     "shell.execute_reply": "2025-07-30T13:29:58.872101Z"
    },
    "papermill": {
     "duration": 0.040402,
     "end_time": "2025-07-30T13:29:58.874727",
     "exception": false,
     "start_time": "2025-07-30T13:29:58.834325",
     "status": "completed"
    },
    "tags": []
   },
   "outputs": [
    {
     "data": {
      "text/html": [
       "<div>\n",
       "<style scoped>\n",
       "    .dataframe tbody tr th:only-of-type {\n",
       "        vertical-align: middle;\n",
       "    }\n",
       "\n",
       "    .dataframe tbody tr th {\n",
       "        vertical-align: top;\n",
       "    }\n",
       "\n",
       "    .dataframe thead th {\n",
       "        text-align: right;\n",
       "    }\n",
       "</style>\n",
       "<table border=\"1\" class=\"dataframe\">\n",
       "  <thead>\n",
       "    <tr style=\"text-align: right;\">\n",
       "      <th></th>\n",
       "      <th>universe_id</th>\n",
       "      <th>universe_training_size</th>\n",
       "      <th>universe_scale</th>\n",
       "      <th>universe_model</th>\n",
       "      <th>universe_exclude_features</th>\n",
       "      <th>universe_exclude_subgroups</th>\n",
       "      <th>q_hat</th>\n",
       "      <th>coverage</th>\n",
       "      <th>avg_size</th>\n",
       "    </tr>\n",
       "  </thead>\n",
       "  <tbody>\n",
       "    <tr>\n",
       "      <th>0</th>\n",
       "      <td>45494a759af00bfc72d4db798282598c</td>\n",
       "      <td>25k</td>\n",
       "      <td>scale</td>\n",
       "      <td>elasticnet</td>\n",
       "      <td>nationality-sex</td>\n",
       "      <td>keep-all</td>\n",
       "      <td>0.659782</td>\n",
       "      <td>0.910344</td>\n",
       "      <td>1.124947</td>\n",
       "    </tr>\n",
       "  </tbody>\n",
       "</table>\n",
       "</div>"
      ],
      "text/plain": [
       "                        universe_id universe_training_size universe_scale  \\\n",
       "0  45494a759af00bfc72d4db798282598c                    25k          scale   \n",
       "\n",
       "  universe_model universe_exclude_features universe_exclude_subgroups  \\\n",
       "0     elasticnet           nationality-sex                   keep-all   \n",
       "\n",
       "      q_hat  coverage  avg_size  \n",
       "0  0.659782  0.910344  1.124947  "
      ]
     },
     "execution_count": 61,
     "metadata": {},
     "output_type": "execute_result"
    }
   ],
   "source": [
    "cp_metrics_df"
   ]
  },
  {
   "cell_type": "code",
   "execution_count": 62,
   "id": "b7fbde55-a0a1-47e4-9af6-fe4a17fa8c61",
   "metadata": {
    "execution": {
     "iopub.execute_input": "2025-07-30T13:29:58.934596Z",
     "iopub.status.busy": "2025-07-30T13:29:58.933830Z",
     "iopub.status.idle": "2025-07-30T13:29:58.939186Z",
     "shell.execute_reply": "2025-07-30T13:29:58.938197Z"
    },
    "papermill": {
     "duration": 0.036626,
     "end_time": "2025-07-30T13:29:58.941022",
     "exception": false,
     "start_time": "2025-07-30T13:29:58.904396",
     "status": "completed"
    },
    "tags": []
   },
   "outputs": [],
   "source": [
    "# Conditional Coverage & looking at subgroups"
   ]
  },
  {
   "cell_type": "code",
   "execution_count": 63,
   "id": "027ae886-68dd-4141-96c7-805a5450e1ef",
   "metadata": {
    "execution": {
     "iopub.execute_input": "2025-07-30T13:29:58.999438Z",
     "iopub.status.busy": "2025-07-30T13:29:58.998738Z",
     "iopub.status.idle": "2025-07-30T13:29:59.291758Z",
     "shell.execute_reply": "2025-07-30T13:29:59.291038Z"
    },
    "papermill": {
     "duration": 0.326251,
     "end_time": "2025-07-30T13:29:59.293621",
     "exception": false,
     "start_time": "2025-07-30T13:29:58.967370",
     "status": "completed"
    },
    "tags": []
   },
   "outputs": [],
   "source": [
    "from fairness_multiverse.conformal import build_cp_groups\n",
    "\n",
    "cp_groups_df = build_cp_groups(pred_sets, y_true, X_test.index, org_test)\n",
    "#needs universe_id and setting"
   ]
  },
  {
   "cell_type": "code",
   "execution_count": 64,
   "id": "01d5802c-663a-4d1f-9d69-e036faaffbf7",
   "metadata": {
    "execution": {
     "iopub.execute_input": "2025-07-30T13:29:59.348715Z",
     "iopub.status.busy": "2025-07-30T13:29:59.348277Z",
     "iopub.status.idle": "2025-07-30T13:29:59.352634Z",
     "shell.execute_reply": "2025-07-30T13:29:59.351793Z"
    },
    "papermill": {
     "duration": 0.03194,
     "end_time": "2025-07-30T13:29:59.354029",
     "exception": false,
     "start_time": "2025-07-30T13:29:59.322089",
     "status": "completed"
    },
    "tags": []
   },
   "outputs": [],
   "source": [
    "#delete\n",
    "#cp_groups_df"
   ]
  },
  {
   "cell_type": "code",
   "execution_count": 65,
   "id": "fa424af1-d1eb-443d-b717-2d279ada8408",
   "metadata": {
    "execution": {
     "iopub.execute_input": "2025-07-30T13:29:59.385730Z",
     "iopub.status.busy": "2025-07-30T13:29:59.385222Z",
     "iopub.status.idle": "2025-07-30T13:29:59.389535Z",
     "shell.execute_reply": "2025-07-30T13:29:59.388836Z"
    },
    "papermill": {
     "duration": 0.020775,
     "end_time": "2025-07-30T13:29:59.390940",
     "exception": false,
     "start_time": "2025-07-30T13:29:59.370165",
     "status": "completed"
    },
    "tags": []
   },
   "outputs": [],
   "source": [
    "#delete\n",
    "#percentage = (cp_groups_df['nongerman_female'] == 1).mean() * 100\n",
    "#print(percentage)\n"
   ]
  },
  {
   "cell_type": "code",
   "execution_count": 66,
   "id": "6cbdab96-b2b2-45af-ad54-d0516db2e28d",
   "metadata": {
    "execution": {
     "iopub.execute_input": "2025-07-30T13:29:59.426582Z",
     "iopub.status.busy": "2025-07-30T13:29:59.425576Z",
     "iopub.status.idle": "2025-07-30T13:30:01.301784Z",
     "shell.execute_reply": "2025-07-30T13:30:01.300795Z"
    },
    "papermill": {
     "duration": 1.897886,
     "end_time": "2025-07-30T13:30:01.303752",
     "exception": false,
     "start_time": "2025-07-30T13:29:59.405866",
     "status": "completed"
    },
    "tags": []
   },
   "outputs": [],
   "source": [
    "# Define covered = 1 if true_label is in the predicted set\n",
    "cp_groups_df['covered'] = cp_groups_df.apply(\n",
    "    lambda r: int(r['true_label'] in r['pred_set']),\n",
    "    axis=1\n",
    ")"
   ]
  },
  {
   "cell_type": "code",
   "execution_count": 67,
   "id": "338ff529-1a6b-4b87-a931-8e4788d52aad",
   "metadata": {
    "execution": {
     "iopub.execute_input": "2025-07-30T13:30:01.363304Z",
     "iopub.status.busy": "2025-07-30T13:30:01.362661Z",
     "iopub.status.idle": "2025-07-30T13:30:01.367908Z",
     "shell.execute_reply": "2025-07-30T13:30:01.366877Z"
    },
    "papermill": {
     "duration": 0.0359,
     "end_time": "2025-07-30T13:30:01.370601",
     "exception": false,
     "start_time": "2025-07-30T13:30:01.334701",
     "status": "completed"
    },
    "tags": []
   },
   "outputs": [],
   "source": [
    "#cp_groups_df"
   ]
  },
  {
   "cell_type": "code",
   "execution_count": 68,
   "id": "90032e27-66df-4540-9169-4e89cfbaa758",
   "metadata": {
    "execution": {
     "iopub.execute_input": "2025-07-30T13:30:01.427114Z",
     "iopub.status.busy": "2025-07-30T13:30:01.426367Z",
     "iopub.status.idle": "2025-07-30T13:30:01.438220Z",
     "shell.execute_reply": "2025-07-30T13:30:01.437176Z"
    },
    "papermill": {
     "duration": 0.041555,
     "end_time": "2025-07-30T13:30:01.440207",
     "exception": false,
     "start_time": "2025-07-30T13:30:01.398652",
     "status": "completed"
    },
    "tags": []
   },
   "outputs": [],
   "source": [
    "subgroups = ['frau1','nongerman','nongerman_male','nongerman_female']\n",
    "\n",
    "# Conditional coverage for subgroup==1\n",
    "cond_coverage = {\n",
    "    g: cp_groups_df.loc[cp_groups_df[g]==1, 'covered'].mean()\n",
    "    for g in subgroups\n",
    "}"
   ]
  },
  {
   "cell_type": "code",
   "execution_count": 69,
   "id": "1e348fb1-b9c3-45bc-ba23-f016827a7e0d",
   "metadata": {
    "execution": {
     "iopub.execute_input": "2025-07-30T13:30:01.498308Z",
     "iopub.status.busy": "2025-07-30T13:30:01.497740Z",
     "iopub.status.idle": "2025-07-30T13:30:01.504973Z",
     "shell.execute_reply": "2025-07-30T13:30:01.504230Z"
    },
    "papermill": {
     "duration": 0.036398,
     "end_time": "2025-07-30T13:30:01.506252",
     "exception": false,
     "start_time": "2025-07-30T13:30:01.469854",
     "status": "completed"
    },
    "tags": []
   },
   "outputs": [
    {
     "data": {
      "text/plain": [
       "{'frau1': 0.9104731095835018,\n",
       " 'nongerman': 0.9118621231684725,\n",
       " 'nongerman_male': 0.927136809871206,\n",
       " 'nongerman_female': 0.8865871833084947}"
      ]
     },
     "execution_count": 69,
     "metadata": {},
     "output_type": "execute_result"
    }
   ],
   "source": [
    "cond_coverage"
   ]
  },
  {
   "cell_type": "code",
   "execution_count": 70,
   "id": "f5093324-c3dd-4d63-bc4c-8d945e5c8bbb",
   "metadata": {
    "execution": {
     "iopub.execute_input": "2025-07-30T13:30:01.564757Z",
     "iopub.status.busy": "2025-07-30T13:30:01.564290Z",
     "iopub.status.idle": "2025-07-30T13:30:01.572388Z",
     "shell.execute_reply": "2025-07-30T13:30:01.570841Z"
    },
    "papermill": {
     "duration": 0.037963,
     "end_time": "2025-07-30T13:30:01.574046",
     "exception": false,
     "start_time": "2025-07-30T13:30:01.536083",
     "status": "completed"
    },
    "tags": []
   },
   "outputs": [],
   "source": [
    "for subgroup, cov in cond_coverage.items():\n",
    "    cp_metrics_df[f\"cov_{subgroup}\"] = cov"
   ]
  },
  {
   "cell_type": "code",
   "execution_count": 71,
   "id": "6e872e10-dbe5-49e8-b554-5030c98ff75d",
   "metadata": {
    "execution": {
     "iopub.execute_input": "2025-07-30T13:30:01.634654Z",
     "iopub.status.busy": "2025-07-30T13:30:01.634131Z",
     "iopub.status.idle": "2025-07-30T13:30:01.650498Z",
     "shell.execute_reply": "2025-07-30T13:30:01.649719Z"
    },
    "papermill": {
     "duration": 0.048384,
     "end_time": "2025-07-30T13:30:01.651825",
     "exception": false,
     "start_time": "2025-07-30T13:30:01.603441",
     "status": "completed"
    },
    "tags": []
   },
   "outputs": [
    {
     "data": {
      "text/html": [
       "<div>\n",
       "<style scoped>\n",
       "    .dataframe tbody tr th:only-of-type {\n",
       "        vertical-align: middle;\n",
       "    }\n",
       "\n",
       "    .dataframe tbody tr th {\n",
       "        vertical-align: top;\n",
       "    }\n",
       "\n",
       "    .dataframe thead th {\n",
       "        text-align: right;\n",
       "    }\n",
       "</style>\n",
       "<table border=\"1\" class=\"dataframe\">\n",
       "  <thead>\n",
       "    <tr style=\"text-align: right;\">\n",
       "      <th></th>\n",
       "      <th>universe_id</th>\n",
       "      <th>universe_training_size</th>\n",
       "      <th>universe_scale</th>\n",
       "      <th>universe_model</th>\n",
       "      <th>universe_exclude_features</th>\n",
       "      <th>universe_exclude_subgroups</th>\n",
       "      <th>q_hat</th>\n",
       "      <th>coverage</th>\n",
       "      <th>avg_size</th>\n",
       "      <th>cov_frau1</th>\n",
       "      <th>cov_nongerman</th>\n",
       "      <th>cov_nongerman_male</th>\n",
       "      <th>cov_nongerman_female</th>\n",
       "    </tr>\n",
       "  </thead>\n",
       "  <tbody>\n",
       "    <tr>\n",
       "      <th>0</th>\n",
       "      <td>45494a759af00bfc72d4db798282598c</td>\n",
       "      <td>25k</td>\n",
       "      <td>scale</td>\n",
       "      <td>elasticnet</td>\n",
       "      <td>nationality-sex</td>\n",
       "      <td>keep-all</td>\n",
       "      <td>0.659782</td>\n",
       "      <td>0.910344</td>\n",
       "      <td>1.124947</td>\n",
       "      <td>0.910473</td>\n",
       "      <td>0.911862</td>\n",
       "      <td>0.927137</td>\n",
       "      <td>0.886587</td>\n",
       "    </tr>\n",
       "  </tbody>\n",
       "</table>\n",
       "</div>"
      ],
      "text/plain": [
       "                        universe_id universe_training_size universe_scale  \\\n",
       "0  45494a759af00bfc72d4db798282598c                    25k          scale   \n",
       "\n",
       "  universe_model universe_exclude_features universe_exclude_subgroups  \\\n",
       "0     elasticnet           nationality-sex                   keep-all   \n",
       "\n",
       "      q_hat  coverage  avg_size  cov_frau1  cov_nongerman  cov_nongerman_male  \\\n",
       "0  0.659782  0.910344  1.124947   0.910473       0.911862            0.927137   \n",
       "\n",
       "   cov_nongerman_female  \n",
       "0              0.886587  "
      ]
     },
     "execution_count": 71,
     "metadata": {},
     "output_type": "execute_result"
    }
   ],
   "source": [
    "cp_metrics_df"
   ]
  },
  {
   "cell_type": "markdown",
   "id": "33774451",
   "metadata": {
    "papermill": {
     "duration": 0.020594,
     "end_time": "2025-07-30T13:30:01.686809",
     "exception": false,
     "start_time": "2025-07-30T13:30:01.666215",
     "status": "completed"
    },
    "tags": []
   },
   "source": [
    "# (Fairness) Metrics"
   ]
  },
  {
   "cell_type": "code",
   "execution_count": 72,
   "id": "debc5d62",
   "metadata": {
    "execution": {
     "iopub.execute_input": "2025-07-30T13:30:01.755091Z",
     "iopub.status.busy": "2025-07-30T13:30:01.754612Z",
     "iopub.status.idle": "2025-07-30T13:30:01.778847Z",
     "shell.execute_reply": "2025-07-30T13:30:01.777908Z"
    },
    "papermill": {
     "duration": 0.056428,
     "end_time": "2025-07-30T13:30:01.780910",
     "exception": false,
     "start_time": "2025-07-30T13:30:01.724482",
     "status": "completed"
    },
    "tags": []
   },
   "outputs": [],
   "source": [
    "# do I need to include maxdeutsch1.missing?\n",
    "\n",
    "import numpy as np\n",
    "\n",
    "colname_to_bin = \"maxdeutsch1\"\n",
    "majority_value = org_train[colname_to_bin].mode()[0]\n",
    "\n",
    "org_test[\"majmin\"] = np.where(org_test[colname_to_bin] == majority_value, \"majority\", \"minority\")"
   ]
  },
  {
   "cell_type": "code",
   "execution_count": 73,
   "id": "06a50de5",
   "metadata": {
    "execution": {
     "iopub.execute_input": "2025-07-30T13:30:01.841113Z",
     "iopub.status.busy": "2025-07-30T13:30:01.840463Z",
     "iopub.status.idle": "2025-07-30T13:30:04.848604Z",
     "shell.execute_reply": "2025-07-30T13:30:04.847647Z"
    },
    "papermill": {
     "duration": 3.040179,
     "end_time": "2025-07-30T13:30:04.850089",
     "exception": false,
     "start_time": "2025-07-30T13:30:01.809910",
     "status": "completed"
    },
    "tags": []
   },
   "outputs": [],
   "source": [
    "example_universe = universe.copy()\n",
    "example_universe[\"cutoff\"] = example_universe[\"cutoff\"][0]\n",
    "example_universe[\"eval_fairness_grouping\"] = example_universe[\"eval_fairness_grouping\"][0]\n",
    "fairness_dict, metric_frame = universe_analysis.compute_metrics(\n",
    "    example_universe,\n",
    "    y_pred_prob=probs_test,\n",
    "    y_test=y_true,\n",
    "    org_test=org_test,\n",
    ")"
   ]
  },
  {
   "cell_type": "markdown",
   "id": "f95d4e02",
   "metadata": {
    "papermill": {
     "duration": 0.013754,
     "end_time": "2025-07-30T13:30:04.880706",
     "exception": false,
     "start_time": "2025-07-30T13:30:04.866952",
     "status": "completed"
    },
    "tags": []
   },
   "source": [
    "# Overall"
   ]
  },
  {
   "cell_type": "markdown",
   "id": "bdee4871",
   "metadata": {
    "papermill": {
     "duration": 0.013492,
     "end_time": "2025-07-30T13:30:04.908140",
     "exception": false,
     "start_time": "2025-07-30T13:30:04.894648",
     "status": "completed"
    },
    "tags": []
   },
   "source": [
    "Fairness\n",
    "Main fairness target: Equalized Odds. Seems to be a better fit than equal opportunity, since we're not only interested in Y = 1. Seems to be a better fit than demographic parity, since we also care about accuracy, not just equal distribution of preds.\n",
    "\n",
    "Pick column for computation of fairness metrics\n",
    "\n",
    "Performance\n",
    "Overall performance measures, most interesting in relation to the measures split by group below"
   ]
  },
  {
   "cell_type": "code",
   "execution_count": 74,
   "id": "c4e067c6",
   "metadata": {
    "execution": {
     "iopub.execute_input": "2025-07-30T13:30:04.935972Z",
     "iopub.status.busy": "2025-07-30T13:30:04.935617Z",
     "iopub.status.idle": "2025-07-30T13:30:04.942489Z",
     "shell.execute_reply": "2025-07-30T13:30:04.941704Z"
    },
    "papermill": {
     "duration": 0.022565,
     "end_time": "2025-07-30T13:30:04.943936",
     "exception": false,
     "start_time": "2025-07-30T13:30:04.921371",
     "status": "completed"
    },
    "tags": []
   },
   "outputs": [
    {
     "data": {
      "text/plain": [
       "accuracy                   0.225560\n",
       "balanced accuracy          0.551277\n",
       "f1                         0.246859\n",
       "precision                  0.141022\n",
       "false positive rate        0.886844\n",
       "false negative rate        0.010601\n",
       "selection rate             0.900000\n",
       "count                  89710.000000\n",
       "dtype: float64"
      ]
     },
     "execution_count": 74,
     "metadata": {},
     "output_type": "execute_result"
    }
   ],
   "source": [
    "metric_frame.overall"
   ]
  },
  {
   "cell_type": "markdown",
   "id": "e968fe9d",
   "metadata": {
    "papermill": {
     "duration": 0.013801,
     "end_time": "2025-07-30T13:30:04.972294",
     "exception": false,
     "start_time": "2025-07-30T13:30:04.958493",
     "status": "completed"
    },
    "tags": []
   },
   "source": [
    "By Group"
   ]
  },
  {
   "cell_type": "code",
   "execution_count": 75,
   "id": "ec325bce",
   "metadata": {
    "execution": {
     "iopub.execute_input": "2025-07-30T13:30:05.000804Z",
     "iopub.status.busy": "2025-07-30T13:30:05.000358Z",
     "iopub.status.idle": "2025-07-30T13:30:05.016236Z",
     "shell.execute_reply": "2025-07-30T13:30:05.015152Z"
    },
    "papermill": {
     "duration": 0.032033,
     "end_time": "2025-07-30T13:30:05.017857",
     "exception": false,
     "start_time": "2025-07-30T13:30:04.985824",
     "status": "completed"
    },
    "tags": []
   },
   "outputs": [
    {
     "data": {
      "text/html": [
       "<div>\n",
       "<style scoped>\n",
       "    .dataframe tbody tr th:only-of-type {\n",
       "        vertical-align: middle;\n",
       "    }\n",
       "\n",
       "    .dataframe tbody tr th {\n",
       "        vertical-align: top;\n",
       "    }\n",
       "\n",
       "    .dataframe thead th {\n",
       "        text-align: right;\n",
       "    }\n",
       "</style>\n",
       "<table border=\"1\" class=\"dataframe\">\n",
       "  <thead>\n",
       "    <tr style=\"text-align: right;\">\n",
       "      <th></th>\n",
       "      <th>accuracy</th>\n",
       "      <th>balanced accuracy</th>\n",
       "      <th>f1</th>\n",
       "      <th>precision</th>\n",
       "      <th>false positive rate</th>\n",
       "      <th>false negative rate</th>\n",
       "      <th>selection rate</th>\n",
       "      <th>count</th>\n",
       "    </tr>\n",
       "    <tr>\n",
       "      <th>majmin</th>\n",
       "      <th></th>\n",
       "      <th></th>\n",
       "      <th></th>\n",
       "      <th></th>\n",
       "      <th></th>\n",
       "      <th></th>\n",
       "      <th></th>\n",
       "      <th></th>\n",
       "    </tr>\n",
       "  </thead>\n",
       "  <tbody>\n",
       "    <tr>\n",
       "      <th>majority</th>\n",
       "      <td>0.246740</td>\n",
       "      <td>0.561295</td>\n",
       "      <td>0.257570</td>\n",
       "      <td>0.148069</td>\n",
       "      <td>0.866250</td>\n",
       "      <td>0.011160</td>\n",
       "      <td>0.882449</td>\n",
       "      <td>69170.0</td>\n",
       "    </tr>\n",
       "    <tr>\n",
       "      <th>minority</th>\n",
       "      <td>0.154236</td>\n",
       "      <td>0.518339</td>\n",
       "      <td>0.212797</td>\n",
       "      <td>0.119188</td>\n",
       "      <td>0.954876</td>\n",
       "      <td>0.008446</td>\n",
       "      <td>0.959104</td>\n",
       "      <td>20540.0</td>\n",
       "    </tr>\n",
       "  </tbody>\n",
       "</table>\n",
       "</div>"
      ],
      "text/plain": [
       "          accuracy  balanced accuracy        f1  precision  \\\n",
       "majmin                                                       \n",
       "majority  0.246740           0.561295  0.257570   0.148069   \n",
       "minority  0.154236           0.518339  0.212797   0.119188   \n",
       "\n",
       "          false positive rate  false negative rate  selection rate    count  \n",
       "majmin                                                                       \n",
       "majority             0.866250             0.011160        0.882449  69170.0  \n",
       "minority             0.954876             0.008446        0.959104  20540.0  "
      ]
     },
     "execution_count": 75,
     "metadata": {},
     "output_type": "execute_result"
    }
   ],
   "source": [
    "metric_frame.by_group"
   ]
  },
  {
   "cell_type": "code",
   "execution_count": 76,
   "id": "a9ddbe63",
   "metadata": {
    "execution": {
     "iopub.execute_input": "2025-07-30T13:30:05.054819Z",
     "iopub.status.busy": "2025-07-30T13:30:05.054515Z",
     "iopub.status.idle": "2025-07-30T13:30:07.161676Z",
     "shell.execute_reply": "2025-07-30T13:30:07.160893Z"
    },
    "papermill": {
     "duration": 2.123166,
     "end_time": "2025-07-30T13:30:07.162879",
     "exception": false,
     "start_time": "2025-07-30T13:30:05.039713",
     "status": "completed"
    },
    "tags": []
   },
   "outputs": [
    {
     "data": {
      "text/plain": [
       "array([[<Axes: title={'center': 'accuracy'}, xlabel='majmin'>,\n",
       "        <Axes: title={'center': 'balanced accuracy'}, xlabel='majmin'>,\n",
       "        <Axes: title={'center': 'f1'}, xlabel='majmin'>],\n",
       "       [<Axes: title={'center': 'precision'}, xlabel='majmin'>,\n",
       "        <Axes: title={'center': 'false positive rate'}, xlabel='majmin'>,\n",
       "        <Axes: title={'center': 'false negative rate'}, xlabel='majmin'>],\n",
       "       [<Axes: title={'center': 'selection rate'}, xlabel='majmin'>,\n",
       "        <Axes: title={'center': 'count'}, xlabel='majmin'>,\n",
       "        <Axes: xlabel='majmin'>]], dtype=object)"
      ]
     },
     "execution_count": 76,
     "metadata": {},
     "output_type": "execute_result"
    },
    {
     "data": {
      "image/png": "[encoded data removed]",
      "text/plain": [
       "<Figure size 1200x800 with 9 Axes>"
      ]
     },
     "metadata": {},
     "output_type": "display_data"
    }
   ],
   "source": [
    "# In a graphic\n",
    "metric_frame.by_group.plot.bar(\n",
    "    subplots=True,\n",
    "    layout=[3, 3],\n",
    "    legend=False,\n",
    "    figsize=[12, 8],\n",
    "    title=\"Show all metrics\",\n",
    ")"
   ]
  },
  {
   "cell_type": "markdown",
   "id": "f57a0bac",
   "metadata": {
    "papermill": {
     "duration": 0.014936,
     "end_time": "2025-07-30T13:30:07.193672",
     "exception": false,
     "start_time": "2025-07-30T13:30:07.178736",
     "status": "completed"
    },
    "tags": []
   },
   "source": [
    "# Final Output"
   ]
  },
  {
   "cell_type": "code",
   "execution_count": 77,
   "id": "96d280a3",
   "metadata": {
    "execution": {
     "iopub.execute_input": "2025-07-30T13:30:07.224699Z",
     "iopub.status.busy": "2025-07-30T13:30:07.224244Z",
     "iopub.status.idle": "2025-07-30T13:30:07.231544Z",
     "shell.execute_reply": "2025-07-30T13:30:07.230774Z"
    },
    "papermill": {
     "duration": 0.024514,
     "end_time": "2025-07-30T13:30:07.232812",
     "exception": false,
     "start_time": "2025-07-30T13:30:07.208298",
     "status": "completed"
    },
    "tags": []
   },
   "outputs": [
    {
     "data": {
      "text/plain": [
       "4"
      ]
     },
     "execution_count": 77,
     "metadata": {},
     "output_type": "execute_result"
    }
   ],
   "source": [
    "sub_universes = universe_analysis.generate_sub_universes()\n",
    "len(sub_universes)"
   ]
  },
  {
   "cell_type": "code",
   "execution_count": 78,
   "id": "92adf7ba",
   "metadata": {
    "execution": {
     "iopub.execute_input": "2025-07-30T13:30:07.264576Z",
     "iopub.status.busy": "2025-07-30T13:30:07.264056Z",
     "iopub.status.idle": "2025-07-30T13:30:07.273687Z",
     "shell.execute_reply": "2025-07-30T13:30:07.272897Z"
    },
    "papermill": {
     "duration": 0.027243,
     "end_time": "2025-07-30T13:30:07.275198",
     "exception": false,
     "start_time": "2025-07-30T13:30:07.247955",
     "status": "completed"
    },
    "tags": []
   },
   "outputs": [],
   "source": [
    "def filter_sub_universe_data(sub_universe, org_test):\n",
    "    # Keep all rows — no filtering\n",
    "    keep_rows_mask = np.ones(org_test.shape[0], dtype=bool)\n",
    "\n",
    "    print(f\"[INFO] Keeping all rows: {keep_rows_mask.sum()} rows retained.\")\n",
    "    return keep_rows_mask"
   ]
  },
  {
   "cell_type": "code",
   "execution_count": 79,
   "id": "4a759155",
   "metadata": {
    "execution": {
     "iopub.execute_input": "2025-07-30T13:30:07.308928Z",
     "iopub.status.busy": "2025-07-30T13:30:07.308416Z",
     "iopub.status.idle": "2025-07-30T13:30:15.445853Z",
     "shell.execute_reply": "2025-07-30T13:30:15.444918Z"
    },
    "papermill": {
     "duration": 8.155385,
     "end_time": "2025-07-30T13:30:15.447259",
     "exception": false,
     "start_time": "2025-07-30T13:30:07.291874",
     "status": "completed"
    },
    "tags": []
   },
   "outputs": [
    {
     "name": "stdout",
     "output_type": "stream",
     "text": [
      "Stopping execution_time clock.\n",
      "[INFO] Keeping all rows: 89710 rows retained.\n"
     ]
    },
    {
     "name": "stdout",
     "output_type": "stream",
     "text": [
      "[INFO] Keeping all rows: 89710 rows retained.\n"
     ]
    },
    {
     "name": "stdout",
     "output_type": "stream",
     "text": [
      "[INFO] Keeping all rows: 89710 rows retained.\n"
     ]
    },
    {
     "name": "stdout",
     "output_type": "stream",
     "text": [
      "[INFO] Keeping all rows: 89710 rows retained.\n"
     ]
    },
    {
     "data": {
      "text/html": [
       "<div>\n",
       "<style scoped>\n",
       "    .dataframe tbody tr th:only-of-type {\n",
       "        vertical-align: middle;\n",
       "    }\n",
       "\n",
       "    .dataframe tbody tr th {\n",
       "        vertical-align: top;\n",
       "    }\n",
       "\n",
       "    .dataframe thead th {\n",
       "        text-align: right;\n",
       "    }\n",
       "</style>\n",
       "<table border=\"1\" class=\"dataframe\">\n",
       "  <thead>\n",
       "    <tr style=\"text-align: right;\">\n",
       "      <th></th>\n",
       "      <th>run_no</th>\n",
       "      <th>universe_id</th>\n",
       "      <th>universe_settings</th>\n",
       "      <th>execution_time</th>\n",
       "      <th>test_size_n</th>\n",
       "      <th>test_size_frac</th>\n",
       "      <th>fair_main_equalized_odds_difference</th>\n",
       "      <th>fair_main_equalized_odds_ratio</th>\n",
       "      <th>fair_main_demographic_parity_difference</th>\n",
       "      <th>fair_main_demographic_parity_ratio</th>\n",
       "      <th>...</th>\n",
       "      <th>perf_grp_precision_0</th>\n",
       "      <th>perf_grp_precision_1</th>\n",
       "      <th>perf_grp_false positive rate_0</th>\n",
       "      <th>perf_grp_false positive rate_1</th>\n",
       "      <th>perf_grp_false negative rate_0</th>\n",
       "      <th>perf_grp_false negative rate_1</th>\n",
       "      <th>perf_grp_selection rate_0</th>\n",
       "      <th>perf_grp_selection rate_1</th>\n",
       "      <th>perf_grp_count_0</th>\n",
       "      <th>perf_grp_count_1</th>\n",
       "    </tr>\n",
       "  </thead>\n",
       "  <tbody>\n",
       "    <tr>\n",
       "      <th>0</th>\n",
       "      <td>12</td>\n",
       "      <td>45494a759af00bfc72d4db798282598c</td>\n",
       "      <td>{\"cutoff\": \"quantile_0.1\", \"eval_fairness_grou...</td>\n",
       "      <td>54.621781</td>\n",
       "      <td>89710</td>\n",
       "      <td>1.0</td>\n",
       "      <td>0.088625</td>\n",
       "      <td>0.907186</td>\n",
       "      <td>0.076655</td>\n",
       "      <td>0.920076</td>\n",
       "      <td>...</td>\n",
       "      <td>NaN</td>\n",
       "      <td>NaN</td>\n",
       "      <td>NaN</td>\n",
       "      <td>NaN</td>\n",
       "      <td>NaN</td>\n",
       "      <td>NaN</td>\n",
       "      <td>NaN</td>\n",
       "      <td>NaN</td>\n",
       "      <td>NaN</td>\n",
       "      <td>NaN</td>\n",
       "    </tr>\n",
       "    <tr>\n",
       "      <th>0</th>\n",
       "      <td>12</td>\n",
       "      <td>45494a759af00bfc72d4db798282598c</td>\n",
       "      <td>{\"cutoff\": \"quantile_0.1\", \"eval_fairness_grou...</td>\n",
       "      <td>54.621781</td>\n",
       "      <td>89710</td>\n",
       "      <td>1.0</td>\n",
       "      <td>0.088625</td>\n",
       "      <td>0.907186</td>\n",
       "      <td>0.076655</td>\n",
       "      <td>0.920076</td>\n",
       "      <td>...</td>\n",
       "      <td>0.119188</td>\n",
       "      <td>0.148069</td>\n",
       "      <td>0.954876</td>\n",
       "      <td>0.866250</td>\n",
       "      <td>0.008446</td>\n",
       "      <td>0.011160</td>\n",
       "      <td>0.959104</td>\n",
       "      <td>0.882449</td>\n",
       "      <td>20540.0</td>\n",
       "      <td>69170.0</td>\n",
       "    </tr>\n",
       "    <tr>\n",
       "      <th>0</th>\n",
       "      <td>12</td>\n",
       "      <td>45494a759af00bfc72d4db798282598c</td>\n",
       "      <td>{\"cutoff\": \"quantile_0.25\", \"eval_fairness_gro...</td>\n",
       "      <td>54.621781</td>\n",
       "      <td>89710</td>\n",
       "      <td>1.0</td>\n",
       "      <td>0.153528</td>\n",
       "      <td>0.816815</td>\n",
       "      <td>0.132607</td>\n",
       "      <td>0.844402</td>\n",
       "      <td>...</td>\n",
       "      <td>NaN</td>\n",
       "      <td>NaN</td>\n",
       "      <td>NaN</td>\n",
       "      <td>NaN</td>\n",
       "      <td>NaN</td>\n",
       "      <td>NaN</td>\n",
       "      <td>NaN</td>\n",
       "      <td>NaN</td>\n",
       "      <td>NaN</td>\n",
       "      <td>NaN</td>\n",
       "    </tr>\n",
       "    <tr>\n",
       "      <th>0</th>\n",
       "      <td>12</td>\n",
       "      <td>45494a759af00bfc72d4db798282598c</td>\n",
       "      <td>{\"cutoff\": \"quantile_0.25\", \"eval_fairness_gro...</td>\n",
       "      <td>54.621781</td>\n",
       "      <td>89710</td>\n",
       "      <td>1.0</td>\n",
       "      <td>0.153528</td>\n",
       "      <td>0.816815</td>\n",
       "      <td>0.132607</td>\n",
       "      <td>0.844402</td>\n",
       "      <td>...</td>\n",
       "      <td>0.129963</td>\n",
       "      <td>0.174418</td>\n",
       "      <td>0.838103</td>\n",
       "      <td>0.684574</td>\n",
       "      <td>0.039274</td>\n",
       "      <td>0.050109</td>\n",
       "      <td>0.852240</td>\n",
       "      <td>0.719633</td>\n",
       "      <td>20540.0</td>\n",
       "      <td>69170.0</td>\n",
       "    </tr>\n",
       "  </tbody>\n",
       "</table>\n",
       "<p>4 rows × 50 columns</p>\n",
       "</div>"
      ],
      "text/plain": [
       "  run_no                       universe_id  \\\n",
       "0     12  45494a759af00bfc72d4db798282598c   \n",
       "0     12  45494a759af00bfc72d4db798282598c   \n",
       "0     12  45494a759af00bfc72d4db798282598c   \n",
       "0     12  45494a759af00bfc72d4db798282598c   \n",
       "\n",
       "                                   universe_settings  execution_time  \\\n",
       "0  {\"cutoff\": \"quantile_0.1\", \"eval_fairness_grou...       54.621781   \n",
       "0  {\"cutoff\": \"quantile_0.1\", \"eval_fairness_grou...       54.621781   \n",
       "0  {\"cutoff\": \"quantile_0.25\", \"eval_fairness_gro...       54.621781   \n",
       "0  {\"cutoff\": \"quantile_0.25\", \"eval_fairness_gro...       54.621781   \n",
       "\n",
       "   test_size_n  test_size_frac  fair_main_equalized_odds_difference  \\\n",
       "0        89710             1.0                             0.088625   \n",
       "0        89710             1.0                             0.088625   \n",
       "0        89710             1.0                             0.153528   \n",
       "0        89710             1.0                             0.153528   \n",
       "\n",
       "   fair_main_equalized_odds_ratio  fair_main_demographic_parity_difference  \\\n",
       "0                        0.907186                                 0.076655   \n",
       "0                        0.907186                                 0.076655   \n",
       "0                        0.816815                                 0.132607   \n",
       "0                        0.816815                                 0.132607   \n",
       "\n",
       "   fair_main_demographic_parity_ratio  ...  perf_grp_precision_0  \\\n",
       "0                            0.920076  ...                   NaN   \n",
       "0                            0.920076  ...              0.119188   \n",
       "0                            0.844402  ...                   NaN   \n",
       "0                            0.844402  ...              0.129963   \n",
       "\n",
       "   perf_grp_precision_1  perf_grp_false positive rate_0  \\\n",
       "0                   NaN                             NaN   \n",
       "0              0.148069                        0.954876   \n",
       "0                   NaN                             NaN   \n",
       "0              0.174418                        0.838103   \n",
       "\n",
       "   perf_grp_false positive rate_1  perf_grp_false negative rate_0  \\\n",
       "0                             NaN                             NaN   \n",
       "0                        0.866250                        0.008446   \n",
       "0                             NaN                             NaN   \n",
       "0                        0.684574                        0.039274   \n",
       "\n",
       "   perf_grp_false negative rate_1  perf_grp_selection rate_0  \\\n",
       "0                             NaN                        NaN   \n",
       "0                        0.011160                   0.959104   \n",
       "0                             NaN                        NaN   \n",
       "0                        0.050109                   0.852240   \n",
       "\n",
       "   perf_grp_selection rate_1  perf_grp_count_0  perf_grp_count_1  \n",
       "0                        NaN               NaN               NaN  \n",
       "0                   0.882449           20540.0           69170.0  \n",
       "0                        NaN               NaN               NaN  \n",
       "0                   0.719633           20540.0           69170.0  \n",
       "\n",
       "[4 rows x 50 columns]"
      ]
     },
     "execution_count": 79,
     "metadata": {},
     "output_type": "execute_result"
    }
   ],
   "source": [
    "final_output = universe_analysis.generate_final_output(\n",
    "    y_pred_prob=probs_test,\n",
    "    y_test=y_true,\n",
    "    org_test=org_test,\n",
    "    filter_data=filter_sub_universe_data,\n",
    "    cp_metrics_df=cp_metrics_df,\n",
    "    save=True,\n",
    ")\n",
    "final_output"
   ]
  },
  {
   "cell_type": "code",
   "execution_count": null,
   "id": "721ff514-cb11-46f8-b6fc-50392f74b5cb",
   "metadata": {
    "papermill": {
     "duration": 0.015978,
     "end_time": "2025-07-30T13:30:15.482527",
     "exception": false,
     "start_time": "2025-07-30T13:30:15.466549",
     "status": "completed"
    },
    "tags": []
   },
   "outputs": [],
   "source": []
  }
 ],
 "metadata": {
  "celltoolbar": "Tags",
  "kernelspec": {
   "display_name": "Python (CMA Fairness)",
   "language": "python",
   "name": "cma_fair_env"
  },
  "language_info": {
   "codemirror_mode": {
    "name": "ipython",
    "version": 3
   },
   "file_extension": ".py",
   "mimetype": "text/x-python",
   "name": "python",
   "nbconvert_exporter": "python",
   "pygments_lexer": "ipython3",
   "version": "3.10.12"
  },
  "papermill": {
   "default_parameters": {},
   "duration": 67.217176,
   "end_time": "2025-07-30T13:30:16.317846",
   "environment_variables": {},
   "exception": null,
   "input_path": "universe_analysis.ipynb",
   "output_path": "output/runs/12/notebooks/m_12-45494a759af00bfc72d4db798282598c.ipynb",
   "parameters": {
    "output_dir": "output",
    "run_no": "12",
    "seed": "2023",
    "universe": "{\"cutoff\": [\"quantile_0.1\", \"quantile_0.25\"], \"eval_fairness_grouping\": [\"majority-minority\", \"nationality-all\"], \"exclude_features\": \"nationality-sex\", \"exclude_subgroups\": \"keep-all\", \"model\": \"elasticnet\", \"scale\": \"scale\", \"training_size\": \"25k\", \"training_year\": \"2010_14\"}",
    "universe_id": "45494a759af00bfc72d4db798282598c"
   },
   "start_time": "2025-07-30T13:29:09.100670",
   "version": "2.6.0"
  }
 },
 "nbformat": 4,
 "nbformat_minor": 5
}