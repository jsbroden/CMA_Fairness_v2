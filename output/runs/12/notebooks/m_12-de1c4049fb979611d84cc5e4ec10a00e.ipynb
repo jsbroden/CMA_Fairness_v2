{
 "cells": [
  {
   "cell_type": "code",
   "execution_count": 1,
   "id": "f159f837-637b-42ba-96b5-ec9a68c44524",
   "metadata": {
    "execution": {
     "iopub.execute_input": "2025-07-30T14:21:37.699070Z",
     "iopub.status.busy": "2025-07-30T14:21:37.698598Z",
     "iopub.status.idle": "2025-07-30T14:21:37.714206Z",
     "shell.execute_reply": "2025-07-30T14:21:37.713222Z"
    },
    "papermill": {
     "duration": 0.029741,
     "end_time": "2025-07-30T14:21:37.716299",
     "exception": false,
     "start_time": "2025-07-30T14:21:37.686558",
     "status": "completed"
    },
    "tags": []
   },
   "outputs": [
    {
     "name": "stdout",
     "output_type": "stream",
     "text": [
      "/dss/dsshome1/0C/ra93lal2/cma/CMA_Fairness_v2\n"
     ]
    },
    {
     "name": "stderr",
     "output_type": "stream",
     "text": [
      "/dss/dsshome1/0C/ra93lal2/.local/share/virtualenvs/CMA_Fairness_v2-3j10GkSs/lib/python3.10/site-packages/IPython/core/magics/osm.py:393: UserWarning: This is now an optional IPython functionality, using bookmarks requires you to install the `pickleshare` library.\n",
      "  bkms = self.shell.db.get('bookmarks', {})\n",
      "/dss/dsshome1/0C/ra93lal2/.local/share/virtualenvs/CMA_Fairness_v2-3j10GkSs/lib/python3.10/site-packages/IPython/core/magics/osm.py:417: UserWarning: This is now an optional IPython functionality, setting dhist requires you to install the `pickleshare` library.\n",
      "  self.shell.db['dhist'] = compress_dhist(dhist)[-100:]\n"
     ]
    }
   ],
   "source": [
    "%cd ~/cma/CMA_Fairness_v2"
   ]
  },
  {
   "cell_type": "markdown",
   "id": "de2603b9",
   "metadata": {
    "papermill": {
     "duration": 0.021206,
     "end_time": "2025-07-30T14:21:37.758798",
     "exception": false,
     "start_time": "2025-07-30T14:21:37.737592",
     "status": "completed"
    },
    "tags": []
   },
   "source": [
    "The following cell holds the definition of our parameters, these values can be overriden by rendering the with e.g. the following command:\n",
    "\n",
    "papermill -p alpha 0.2 -p ratio 0.3 universe_analysis.ipynb output/test_run.ipynb"
   ]
  },
  {
   "cell_type": "code",
   "execution_count": 2,
   "id": "a80968a0-40bb-4fa9-85ef-2d5eefb01975",
   "metadata": {
    "execution": {
     "iopub.execute_input": "2025-07-30T14:21:37.799358Z",
     "iopub.status.busy": "2025-07-30T14:21:37.798890Z",
     "iopub.status.idle": "2025-07-30T14:21:37.804500Z",
     "shell.execute_reply": "2025-07-30T14:21:37.803473Z"
    },
    "papermill": {
     "duration": 0.03077,
     "end_time": "2025-07-30T14:21:37.805981",
     "exception": false,
     "start_time": "2025-07-30T14:21:37.775211",
     "status": "completed"
    },
    "tags": []
   },
   "outputs": [
    {
     "name": "stdout",
     "output_type": "stream",
     "text": [
      "Current working directory: /dss/dsshome1/0C/ra93lal2/cma/CMA_Fairness_v2\n"
     ]
    }
   ],
   "source": [
    "import os\n",
    "print(\"Current working directory:\", os.getcwd())"
   ]
  },
  {
   "cell_type": "code",
   "execution_count": 3,
   "id": "2dce4c03",
   "metadata": {
    "execution": {
     "iopub.execute_input": "2025-07-30T14:21:37.849361Z",
     "iopub.status.busy": "2025-07-30T14:21:37.848870Z",
     "iopub.status.idle": "2025-07-30T14:21:37.858066Z",
     "shell.execute_reply": "2025-07-30T14:21:37.856722Z"
    },
    "papermill": {
     "duration": 0.033212,
     "end_time": "2025-07-30T14:21:37.859762",
     "exception": false,
     "start_time": "2025-07-30T14:21:37.826550",
     "status": "completed"
    },
    "tags": [
     "parameters"
    ]
   },
   "outputs": [],
   "source": [
    "run_no = 0\n",
    "universe_id = \"test\"\n",
    "universe = {\n",
    "    \"training_size\": \"25k\", # \"25k\", \"5k\", \"1k\"\n",
    "    \"training_year\": \"2014\", # \"2014\", \"2012_14\", \"2010_14\"\n",
    "    \"scale\": \"scale\", # \"scale\", \"do-not-scale\",\n",
    "    #\"stratify_split\": \"target\", # \"none\", \"target\", \"protected-attribute\", \"both\",\n",
    "    \"model\": \"elasticnet\", # \"logreg\", \"penalized_logreg\", \"rf\", \"gbm\", \"elasticnet\"\n",
    "    \"cutoff\": [\"quantile_0.15\", \"quantile_0.30\"],\n",
    "    \"exclude_features\": \"age\", # \"none\", \"nationality\", \"sex\", \"nationality-sex\", \"age\"\n",
    "    \"exclude_subgroups\": \"keep-all\", # \"keep-all\", \"drop-non-german\"\n",
    "    \"eval_fairness_grouping\": [\"majority-minority\", \"nationality-all\"]\n",
    "}\n",
    "\n",
    "output_dir=\"./output\"\n",
    "seed=0"
   ]
  },
  {
   "cell_type": "code",
   "execution_count": 4,
   "id": "da946f03",
   "metadata": {
    "execution": {
     "iopub.execute_input": "2025-07-30T14:21:37.901973Z",
     "iopub.status.busy": "2025-07-30T14:21:37.900849Z",
     "iopub.status.idle": "2025-07-30T14:21:37.906618Z",
     "shell.execute_reply": "2025-07-30T14:21:37.905754Z"
    },
    "papermill": {
     "duration": 0.025814,
     "end_time": "2025-07-30T14:21:37.908378",
     "exception": false,
     "start_time": "2025-07-30T14:21:37.882564",
     "status": "completed"
    },
    "tags": [
     "injected-parameters"
    ]
   },
   "outputs": [],
   "source": [
    "# Parameters\n",
    "universe_id = \"de1c4049fb979611d84cc5e4ec10a00e\"\n",
    "run_no = \"12\"\n",
    "universe = \"{\\\"cutoff\\\": [\\\"quantile_0.1\\\", \\\"quantile_0.25\\\"], \\\"eval_fairness_grouping\\\": [\\\"majority-minority\\\", \\\"nationality-all\\\"], \\\"exclude_features\\\": \\\"none\\\", \\\"exclude_subgroups\\\": \\\"keep-all\\\", \\\"model\\\": \\\"gbm\\\", \\\"scale\\\": \\\"scale\\\", \\\"training_size\\\": \\\"1k\\\", \\\"training_year\\\": \\\"2014\\\"}\"\n",
    "output_dir = \"output\"\n",
    "seed = \"2023\"\n"
   ]
  },
  {
   "cell_type": "code",
   "execution_count": 5,
   "id": "1650acaf",
   "metadata": {
    "execution": {
     "iopub.execute_input": "2025-07-30T14:21:37.951456Z",
     "iopub.status.busy": "2025-07-30T14:21:37.950633Z",
     "iopub.status.idle": "2025-07-30T14:21:37.956156Z",
     "shell.execute_reply": "2025-07-30T14:21:37.955108Z"
    },
    "papermill": {
     "duration": 0.028232,
     "end_time": "2025-07-30T14:21:37.958021",
     "exception": false,
     "start_time": "2025-07-30T14:21:37.929789",
     "status": "completed"
    },
    "tags": []
   },
   "outputs": [],
   "source": [
    "import json\n",
    "# Parse universe into dict if it is passed as a string\n",
    "if isinstance(universe, str):\n",
    "    universe = json.loads(universe)"
   ]
  },
  {
   "cell_type": "code",
   "execution_count": 6,
   "id": "16620c48",
   "metadata": {
    "execution": {
     "iopub.execute_input": "2025-07-30T14:21:38.001404Z",
     "iopub.status.busy": "2025-07-30T14:21:38.000934Z",
     "iopub.status.idle": "2025-07-30T14:21:38.046431Z",
     "shell.execute_reply": "2025-07-30T14:21:38.045548Z"
    },
    "papermill": {
     "duration": 0.069174,
     "end_time": "2025-07-30T14:21:38.048283",
     "exception": false,
     "start_time": "2025-07-30T14:21:37.979109",
     "status": "completed"
    },
    "tags": []
   },
   "outputs": [],
   "source": [
    "# Auto-reload the custom package\n",
    "%load_ext autoreload\n",
    "%autoreload 1\n",
    "%aimport fairness_multiverse"
   ]
  },
  {
   "cell_type": "code",
   "execution_count": 7,
   "id": "01c5c9f3",
   "metadata": {
    "execution": {
     "iopub.execute_input": "2025-07-30T14:21:38.094212Z",
     "iopub.status.busy": "2025-07-30T14:21:38.093720Z",
     "iopub.status.idle": "2025-07-30T14:21:40.256215Z",
     "shell.execute_reply": "2025-07-30T14:21:40.255131Z"
    },
    "papermill": {
     "duration": 2.189064,
     "end_time": "2025-07-30T14:21:40.258365",
     "exception": false,
     "start_time": "2025-07-30T14:21:38.069301",
     "status": "completed"
    },
    "tags": []
   },
   "outputs": [],
   "source": [
    "from fairness_multiverse.universe import UniverseAnalysis\n",
    "\n",
    "universe_analysis = UniverseAnalysis(\n",
    "    run_no = run_no,\n",
    "    universe_id = universe_id,\n",
    "    universe = universe,\n",
    "    output_dir=output_dir,\n",
    ")"
   ]
  },
  {
   "cell_type": "code",
   "execution_count": 8,
   "id": "106241f5",
   "metadata": {
    "execution": {
     "iopub.execute_input": "2025-07-30T14:21:40.308270Z",
     "iopub.status.busy": "2025-07-30T14:21:40.307536Z",
     "iopub.status.idle": "2025-07-30T14:21:40.315054Z",
     "shell.execute_reply": "2025-07-30T14:21:40.313300Z"
    },
    "papermill": {
     "duration": 0.03294,
     "end_time": "2025-07-30T14:21:40.316895",
     "exception": false,
     "start_time": "2025-07-30T14:21:40.283955",
     "status": "completed"
    },
    "tags": []
   },
   "outputs": [
    {
     "name": "stdout",
     "output_type": "stream",
     "text": [
      "Using Seed: 2023\n"
     ]
    }
   ],
   "source": [
    "import numpy as np\n",
    "parsed_seed = int(seed)\n",
    "np.random.seed(parsed_seed)\n",
    "print(f\"Using Seed: {parsed_seed}\")"
   ]
  },
  {
   "cell_type": "markdown",
   "id": "e0ebdc57",
   "metadata": {
    "papermill": {
     "duration": 0.0219,
     "end_time": "2025-07-30T14:21:40.361712",
     "exception": false,
     "start_time": "2025-07-30T14:21:40.339812",
     "status": "completed"
    },
    "tags": []
   },
   "source": [
    "# Loading Data"
   ]
  },
  {
   "cell_type": "markdown",
   "id": "681925a3",
   "metadata": {
    "papermill": {
     "duration": 0.014656,
     "end_time": "2025-07-30T14:21:40.389435",
     "exception": false,
     "start_time": "2025-07-30T14:21:40.374779",
     "status": "completed"
    },
    "tags": []
   },
   "source": [
    "Load siab_train, siab_test, siab_calib and/or \n",
    "load siab_train_features, siab_train_labels"
   ]
  },
  {
   "cell_type": "code",
   "execution_count": 9,
   "id": "f0496b8a",
   "metadata": {
    "execution": {
     "iopub.execute_input": "2025-07-30T14:21:40.436844Z",
     "iopub.status.busy": "2025-07-30T14:21:40.436428Z",
     "iopub.status.idle": "2025-07-30T14:21:53.584764Z",
     "shell.execute_reply": "2025-07-30T14:21:53.583768Z"
    },
    "papermill": {
     "duration": 13.173412,
     "end_time": "2025-07-30T14:21:53.586062",
     "exception": false,
     "start_time": "2025-07-30T14:21:40.412650",
     "status": "completed"
    },
    "tags": []
   },
   "outputs": [
    {
     "name": "stdout",
     "output_type": "stream",
     "text": [
      "Loading SIAB data from cache: data/siab_cached.csv.gz\n"
     ]
    },
    {
     "name": "stdout",
     "output_type": "stream",
     "text": [
      "(643690, 164)\n"
     ]
    }
   ],
   "source": [
    "from pathlib import Path\n",
    "import pandas as pd\n",
    "\n",
    "# File paths\n",
    "raw_file = Path(\"data/raw/siab.csv\")\n",
    "cache_file = Path(\"data/siab_cached.csv.gz\")\n",
    "\n",
    "# Ensure cache directory exists\n",
    "cache_file.parent.mkdir(parents=True, exist_ok=True)\n",
    "\n",
    "# Load with simple caching\n",
    "if cache_file.exists():\n",
    "    print(f\"Loading SIAB data from cache: {cache_file}\")\n",
    "    siab = pd.read_csv(cache_file, compression='gzip')\n",
    "else:\n",
    "    print(f\"Cache not found. Reading raw SIAB data: {raw_file}\")\n",
    "    siab = pd.read_csv(raw_file)\n",
    "    siab.to_csv(cache_file, index=False, compression='gzip')\n",
    "    print(f\"Cached SIAB data to: {cache_file}\")\n",
    "\n",
    "# Now use `siab` DataFrame as needed\n",
    "print(siab.shape)"
   ]
  },
  {
   "cell_type": "code",
   "execution_count": 10,
   "id": "db0ca512-5f53-4dba-abdb-a2888bca41ba",
   "metadata": {
    "execution": {
     "iopub.execute_input": "2025-07-30T14:21:53.620138Z",
     "iopub.status.busy": "2025-07-30T14:21:53.619779Z",
     "iopub.status.idle": "2025-07-30T14:21:53.624179Z",
     "shell.execute_reply": "2025-07-30T14:21:53.623309Z"
    },
    "papermill": {
     "duration": 0.024435,
     "end_time": "2025-07-30T14:21:53.625457",
     "exception": false,
     "start_time": "2025-07-30T14:21:53.601022",
     "status": "completed"
    },
    "tags": []
   },
   "outputs": [],
   "source": [
    "#siab"
   ]
  },
  {
   "cell_type": "code",
   "execution_count": 11,
   "id": "a0edb063",
   "metadata": {
    "execution": {
     "iopub.execute_input": "2025-07-30T14:21:53.648530Z",
     "iopub.status.busy": "2025-07-30T14:21:53.647872Z",
     "iopub.status.idle": "2025-07-30T14:21:53.651948Z",
     "shell.execute_reply": "2025-07-30T14:21:53.651272Z"
    },
    "papermill": {
     "duration": 0.016512,
     "end_time": "2025-07-30T14:21:53.653284",
     "exception": false,
     "start_time": "2025-07-30T14:21:53.636772",
     "status": "completed"
    },
    "tags": []
   },
   "outputs": [],
   "source": [
    "#import pandas as pd\n",
    "#\n",
    "#X_train = pd.read_csv(\"./data/X_train.csv\")\n",
    "#y_train = pd.read_csv(\"./data/y_train.csv\")"
   ]
  },
  {
   "cell_type": "code",
   "execution_count": 12,
   "id": "63d08085",
   "metadata": {
    "execution": {
     "iopub.execute_input": "2025-07-30T14:21:53.675924Z",
     "iopub.status.busy": "2025-07-30T14:21:53.675398Z",
     "iopub.status.idle": "2025-07-30T14:21:53.679464Z",
     "shell.execute_reply": "2025-07-30T14:21:53.678713Z"
    },
    "papermill": {
     "duration": 0.016198,
     "end_time": "2025-07-30T14:21:53.680714",
     "exception": false,
     "start_time": "2025-07-30T14:21:53.664516",
     "status": "completed"
    },
    "tags": []
   },
   "outputs": [],
   "source": [
    "#X_test = pd.read_csv(\"./data/X_test.csv\")\n",
    "#y_true = pd.read_csv(\"./data/y_test.csv\")"
   ]
  },
  {
   "cell_type": "code",
   "execution_count": 13,
   "id": "98a8d0fa-1d3d-4ed8-bb2c-281470e24add",
   "metadata": {
    "execution": {
     "iopub.execute_input": "2025-07-30T14:21:53.703773Z",
     "iopub.status.busy": "2025-07-30T14:21:53.703030Z",
     "iopub.status.idle": "2025-07-30T14:21:53.707155Z",
     "shell.execute_reply": "2025-07-30T14:21:53.706398Z"
    },
    "papermill": {
     "duration": 0.016491,
     "end_time": "2025-07-30T14:21:53.708497",
     "exception": false,
     "start_time": "2025-07-30T14:21:53.692006",
     "status": "completed"
    },
    "tags": []
   },
   "outputs": [],
   "source": [
    "# Calibration data for conformal\n",
    "#X_calib = pd.read_csv(\"./data/X_calib.csv\")\n",
    "#y_calib = pd.read_csv(\"./data/y_calib.csv\")"
   ]
  },
  {
   "cell_type": "markdown",
   "id": "997051c5-15bd-4b69-9786-c3001a3ce484",
   "metadata": {
    "papermill": {
     "duration": 0.021005,
     "end_time": "2025-07-30T14:21:53.741003",
     "exception": false,
     "start_time": "2025-07-30T14:21:53.719998",
     "status": "completed"
    },
    "tags": []
   },
   "source": [
    "# Splitting Data and Setting Training Data Size"
   ]
  },
  {
   "cell_type": "code",
   "execution_count": 14,
   "id": "e993b61f-042d-41a6-8c81-f55681f86335",
   "metadata": {
    "execution": {
     "iopub.execute_input": "2025-07-30T14:21:53.763805Z",
     "iopub.status.busy": "2025-07-30T14:21:53.763466Z",
     "iopub.status.idle": "2025-07-30T14:21:53.772942Z",
     "shell.execute_reply": "2025-07-30T14:21:53.772131Z"
    },
    "papermill": {
     "duration": 0.022035,
     "end_time": "2025-07-30T14:21:53.774197",
     "exception": false,
     "start_time": "2025-07-30T14:21:53.752162",
     "status": "completed"
    },
    "tags": []
   },
   "outputs": [],
   "source": [
    "def sample_by_year_size(df,\n",
    "                        training_year: str,\n",
    "                        training_size: str,\n",
    "                        random_state: int = 42):\n",
    "    # --- parse training_year into a list of int years ---\n",
    "    if \"_\" in training_year:\n",
    "        start_str, end_str = training_year.split(\"_\", 1)\n",
    "        start = int(start_str)\n",
    "        end   = int(end_str) if len(end_str) == 4 else (int(end_str) + (start // 100)*100)\n",
    "        years = list(range(start, end + 1))\n",
    "    else:\n",
    "        years = [int(training_year)]\n",
    "\n",
    "    df = df[df[\"year\"].isin(years)].reset_index(drop=True)\n",
    "\n",
    "    # --- map training_size to total number of samples ---\n",
    "    total_map = {\"25k\": 25_000, \"5k\": 5_000, \"1k\": 1_000}\n",
    "    if training_size not in total_map:\n",
    "        return df  # e.g. \"all\"\n",
    "\n",
    "    total_samples = total_map[training_size]\n",
    "    n_years       = len(years)\n",
    "    base          = total_samples // n_years\n",
    "    remainder     = total_samples % n_years\n",
    "\n",
    "    # --- build a dict: year -> how many to sample ---\n",
    "    # give +1 to the first `remainder` years in ascending order\n",
    "    quotas = {\n",
    "        year: base + (1 if idx < remainder else 0)\n",
    "        for idx, year in enumerate(sorted(years))\n",
    "    }\n",
    "\n",
    "    # --- sample per‐year according to the quota dict ---\n",
    "    sampled = (\n",
    "        df\n",
    "        .groupby(\"year\", group_keys=False)\n",
    "        .apply(lambda grp: grp.sample(\n",
    "            n=min(len(grp), quotas[grp.name]),\n",
    "            random_state=random_state))\n",
    "        .reset_index(drop=True)\n",
    "    )\n",
    "\n",
    "    return sampled"
   ]
  },
  {
   "cell_type": "code",
   "execution_count": 15,
   "id": "c0ccd338-0e02-41f3-a09d-f56f9266e3fb",
   "metadata": {
    "execution": {
     "iopub.execute_input": "2025-07-30T14:21:53.797563Z",
     "iopub.status.busy": "2025-07-30T14:21:53.796965Z",
     "iopub.status.idle": "2025-07-30T14:21:53.805803Z",
     "shell.execute_reply": "2025-07-30T14:21:53.804722Z"
    },
    "papermill": {
     "duration": 0.021555,
     "end_time": "2025-07-30T14:21:53.807222",
     "exception": false,
     "start_time": "2025-07-30T14:21:53.785667",
     "status": "completed"
    },
    "tags": []
   },
   "outputs": [
    {
     "data": {
      "text/plain": [
       "'1k'"
      ]
     },
     "execution_count": 15,
     "metadata": {},
     "output_type": "execute_result"
    }
   ],
   "source": [
    "universe[\"training_size\"]"
   ]
  },
  {
   "cell_type": "code",
   "execution_count": 16,
   "id": "ca707fd7-8047-4acd-bfa5-66248fbbf8e6",
   "metadata": {
    "execution": {
     "iopub.execute_input": "2025-07-30T14:21:53.832922Z",
     "iopub.status.busy": "2025-07-30T14:21:53.832597Z",
     "iopub.status.idle": "2025-07-30T14:21:53.838121Z",
     "shell.execute_reply": "2025-07-30T14:21:53.837483Z"
    },
    "papermill": {
     "duration": 0.018788,
     "end_time": "2025-07-30T14:21:53.839337",
     "exception": false,
     "start_time": "2025-07-30T14:21:53.820549",
     "status": "completed"
    },
    "tags": []
   },
   "outputs": [
    {
     "data": {
      "text/plain": [
       "'2014'"
      ]
     },
     "execution_count": 16,
     "metadata": {},
     "output_type": "execute_result"
    }
   ],
   "source": [
    "universe[\"training_year\"]"
   ]
  },
  {
   "cell_type": "code",
   "execution_count": 17,
   "id": "aea9c6ef-6f46-42c8-85eb-5a62025c1508",
   "metadata": {
    "execution": {
     "iopub.execute_input": "2025-07-30T14:21:53.861307Z",
     "iopub.status.busy": "2025-07-30T14:21:53.861024Z",
     "iopub.status.idle": "2025-07-30T14:21:54.073879Z",
     "shell.execute_reply": "2025-07-30T14:21:54.073156Z"
    },
    "papermill": {
     "duration": 0.225416,
     "end_time": "2025-07-30T14:21:54.075318",
     "exception": false,
     "start_time": "2025-07-30T14:21:53.849902",
     "status": "completed"
    },
    "tags": []
   },
   "outputs": [],
   "source": [
    "siab_train = sample_by_year_size(siab,\n",
    "                               training_year=universe[\"training_year\"],\n",
    "                               training_size=universe[\"training_size\"])"
   ]
  },
  {
   "cell_type": "code",
   "execution_count": 18,
   "id": "8d3afb32-789d-442c-8d5d-9f5aa8dd2eed",
   "metadata": {
    "execution": {
     "iopub.execute_input": "2025-07-30T14:21:54.099106Z",
     "iopub.status.busy": "2025-07-30T14:21:54.098347Z",
     "iopub.status.idle": "2025-07-30T14:21:54.105045Z",
     "shell.execute_reply": "2025-07-30T14:21:54.104128Z"
    },
    "papermill": {
     "duration": 0.019901,
     "end_time": "2025-07-30T14:21:54.106656",
     "exception": false,
     "start_time": "2025-07-30T14:21:54.086755",
     "status": "completed"
    },
    "tags": []
   },
   "outputs": [
    {
     "data": {
      "text/plain": [
       "(1000, 164)"
      ]
     },
     "execution_count": 18,
     "metadata": {},
     "output_type": "execute_result"
    }
   ],
   "source": [
    "siab_train.shape"
   ]
  },
  {
   "cell_type": "code",
   "execution_count": 19,
   "id": "d582db68-1a4c-47fb-84fc-08518dc1975a",
   "metadata": {
    "execution": {
     "iopub.execute_input": "2025-07-30T14:21:54.148838Z",
     "iopub.status.busy": "2025-07-30T14:21:54.148243Z",
     "iopub.status.idle": "2025-07-30T14:21:54.157231Z",
     "shell.execute_reply": "2025-07-30T14:21:54.156318Z"
    },
    "papermill": {
     "duration": 0.031337,
     "end_time": "2025-07-30T14:21:54.159022",
     "exception": false,
     "start_time": "2025-07-30T14:21:54.127685",
     "status": "completed"
    },
    "tags": []
   },
   "outputs": [
    {
     "data": {
      "text/plain": [
       "year\n",
       "2014    1000\n",
       "dtype: int64"
      ]
     },
     "metadata": {},
     "output_type": "display_data"
    }
   ],
   "source": [
    "display(siab_train.groupby(\"year\").size())"
   ]
  },
  {
   "cell_type": "code",
   "execution_count": 20,
   "id": "a561edb4-d032-42cb-8256-22eac1111c64",
   "metadata": {
    "execution": {
     "iopub.execute_input": "2025-07-30T14:21:54.202750Z",
     "iopub.status.busy": "2025-07-30T14:21:54.202143Z",
     "iopub.status.idle": "2025-07-30T14:21:54.430081Z",
     "shell.execute_reply": "2025-07-30T14:21:54.429196Z"
    },
    "papermill": {
     "duration": 0.250274,
     "end_time": "2025-07-30T14:21:54.431842",
     "exception": false,
     "start_time": "2025-07-30T14:21:54.181568",
     "status": "completed"
    },
    "tags": []
   },
   "outputs": [],
   "source": [
    "#siab_train = siab_s[siab_s.year < 2015]\n",
    "siab_calib = siab[siab.year == 2015]\n",
    "siab_test = siab[siab.year == 2016]"
   ]
  },
  {
   "cell_type": "code",
   "execution_count": 21,
   "id": "472de16f-c3db-4916-846b-1f0de9cf1746",
   "metadata": {
    "execution": {
     "iopub.execute_input": "2025-07-30T14:21:54.477075Z",
     "iopub.status.busy": "2025-07-30T14:21:54.476482Z",
     "iopub.status.idle": "2025-07-30T14:21:54.483145Z",
     "shell.execute_reply": "2025-07-30T14:21:54.482141Z"
    },
    "papermill": {
     "duration": 0.030228,
     "end_time": "2025-07-30T14:21:54.484751",
     "exception": false,
     "start_time": "2025-07-30T14:21:54.454523",
     "status": "completed"
    },
    "tags": []
   },
   "outputs": [],
   "source": [
    "X_train = siab_train.iloc[:,4:164]\n",
    "y_train = siab_train.iloc[:, [3]]"
   ]
  },
  {
   "cell_type": "code",
   "execution_count": 22,
   "id": "828c96af-f43a-4ed6-ba47-8ac73a47d56c",
   "metadata": {
    "execution": {
     "iopub.execute_input": "2025-07-30T14:21:54.527952Z",
     "iopub.status.busy": "2025-07-30T14:21:54.527291Z",
     "iopub.status.idle": "2025-07-30T14:21:54.581581Z",
     "shell.execute_reply": "2025-07-30T14:21:54.580594Z"
    },
    "papermill": {
     "duration": 0.076527,
     "end_time": "2025-07-30T14:21:54.583423",
     "exception": false,
     "start_time": "2025-07-30T14:21:54.506896",
     "status": "completed"
    },
    "tags": []
   },
   "outputs": [],
   "source": [
    "X_calib = siab_calib.iloc[:,4:164]\n",
    "y_calib = siab_calib.iloc[:, [3]]"
   ]
  },
  {
   "cell_type": "code",
   "execution_count": 23,
   "id": "c34be9c3-6bd6-476e-acd3-845840e303be",
   "metadata": {
    "execution": {
     "iopub.execute_input": "2025-07-30T14:21:54.629498Z",
     "iopub.status.busy": "2025-07-30T14:21:54.628861Z",
     "iopub.status.idle": "2025-07-30T14:21:54.683798Z",
     "shell.execute_reply": "2025-07-30T14:21:54.682693Z"
    },
    "papermill": {
     "duration": 0.078828,
     "end_time": "2025-07-30T14:21:54.686318",
     "exception": false,
     "start_time": "2025-07-30T14:21:54.607490",
     "status": "completed"
    },
    "tags": []
   },
   "outputs": [],
   "source": [
    "X_test = siab_test.iloc[:,4:164]\n",
    "y_true = siab_test.iloc[:, [3]]"
   ]
  },
  {
   "cell_type": "markdown",
   "id": "9901737e-04df-44f0-9100-f5ad144ed040",
   "metadata": {
    "papermill": {
     "duration": 0.02054,
     "end_time": "2025-07-30T14:21:54.728800",
     "exception": false,
     "start_time": "2025-07-30T14:21:54.708260",
     "status": "completed"
    },
    "tags": []
   },
   "source": [
    "# Splitting Data and Setting Training Data Size OLD VERSION"
   ]
  },
  {
   "cell_type": "code",
   "execution_count": 24,
   "id": "acbc8f7d-8fc8-4e86-8c59-5dcb0f58384b",
   "metadata": {
    "execution": {
     "iopub.execute_input": "2025-07-30T14:21:54.773410Z",
     "iopub.status.busy": "2025-07-30T14:21:54.772513Z",
     "iopub.status.idle": "2025-07-30T14:21:54.778264Z",
     "shell.execute_reply": "2025-07-30T14:21:54.777218Z"
    },
    "papermill": {
     "duration": 0.031589,
     "end_time": "2025-07-30T14:21:54.780825",
     "exception": false,
     "start_time": "2025-07-30T14:21:54.749236",
     "status": "completed"
    },
    "tags": []
   },
   "outputs": [],
   "source": [
    "#def sample_by_year(df, training_size, random_state=42):\n",
    "#    if training_size == \"2014\":\n",
    "#        return df[df[\"year\"] == 2014].reset_index(drop=True)\n",
    "#    \n",
    "#    size_map = {\n",
    "#        \"25k\": 5000,\n",
    "#        \"5k\": 1000,\n",
    "#        \"1k\": 200\n",
    "#    }\n",
    "#\n",
    "#    if training_size not in size_map:\n",
    "#        return df.reset_index(drop=True)  # use all data\n",
    "#\n",
    "#    n_per_year = size_map[training_size]\n",
    "#    grouped = df.groupby(\"year\")\n",
    "#    sampled = grouped.apply(lambda x: x.sample(n=min(n_per_year, len(x)), random_state=random_state))\n",
    "#    return sampled.reset_index(drop=True)"
   ]
  },
  {
   "cell_type": "code",
   "execution_count": 25,
   "id": "6d931f52-beaf-43ff-9e78-9d44a448d54e",
   "metadata": {
    "execution": {
     "iopub.execute_input": "2025-07-30T14:21:54.835016Z",
     "iopub.status.busy": "2025-07-30T14:21:54.834378Z",
     "iopub.status.idle": "2025-07-30T14:21:54.839358Z",
     "shell.execute_reply": "2025-07-30T14:21:54.838368Z"
    },
    "papermill": {
     "duration": 0.02962,
     "end_time": "2025-07-30T14:21:54.840989",
     "exception": false,
     "start_time": "2025-07-30T14:21:54.811369",
     "status": "completed"
    },
    "tags": []
   },
   "outputs": [],
   "source": [
    "#siab_s = sample_by_year(siab, universe[\"training_size\"])"
   ]
  },
  {
   "cell_type": "code",
   "execution_count": 26,
   "id": "5db0a40e-a4e2-4920-be85-b12ae061d70d",
   "metadata": {
    "execution": {
     "iopub.execute_input": "2025-07-30T14:21:54.886262Z",
     "iopub.status.busy": "2025-07-30T14:21:54.885624Z",
     "iopub.status.idle": "2025-07-30T14:21:54.890711Z",
     "shell.execute_reply": "2025-07-30T14:21:54.889774Z"
    },
    "papermill": {
     "duration": 0.029271,
     "end_time": "2025-07-30T14:21:54.892435",
     "exception": false,
     "start_time": "2025-07-30T14:21:54.863164",
     "status": "completed"
    },
    "tags": []
   },
   "outputs": [],
   "source": [
    "#display(siab_s.groupby(\"year\").size())"
   ]
  },
  {
   "cell_type": "code",
   "execution_count": 27,
   "id": "e6c733c5",
   "metadata": {
    "execution": {
     "iopub.execute_input": "2025-07-30T14:21:54.938141Z",
     "iopub.status.busy": "2025-07-30T14:21:54.937499Z",
     "iopub.status.idle": "2025-07-30T14:21:55.033245Z",
     "shell.execute_reply": "2025-07-30T14:21:55.032366Z"
    },
    "papermill": {
     "duration": 0.120355,
     "end_time": "2025-07-30T14:21:55.035074",
     "exception": false,
     "start_time": "2025-07-30T14:21:54.914719",
     "status": "completed"
    },
    "tags": []
   },
   "outputs": [],
   "source": [
    "# Auxiliary data needed downstream in the pipeline\n",
    "\n",
    "org_train = X_train.copy()\n",
    "org_test = X_test.copy()\n",
    "org_calib = X_calib.copy()"
   ]
  },
  {
   "cell_type": "code",
   "execution_count": 28,
   "id": "1466abac-c6da-4492-a62f-4240ae3783af",
   "metadata": {
    "execution": {
     "iopub.execute_input": "2025-07-30T14:21:55.078550Z",
     "iopub.status.busy": "2025-07-30T14:21:55.077946Z",
     "iopub.status.idle": "2025-07-30T14:21:55.083407Z",
     "shell.execute_reply": "2025-07-30T14:21:55.082548Z"
    },
    "papermill": {
     "duration": 0.028484,
     "end_time": "2025-07-30T14:21:55.085111",
     "exception": false,
     "start_time": "2025-07-30T14:21:55.056627",
     "status": "completed"
    },
    "tags": []
   },
   "outputs": [],
   "source": [
    "# put in other script?\n",
    "# Group sizes\n",
    "\n",
    "#def calculate_percentages(df, df_name):\n",
    "#    total_entries = len(df)\n",
    "#\n",
    "#    female_pct = (df['frau1'] == 1).mean() * 100\n",
    "#    non_german_pct = ((df['maxdeutsch1'] == 0) & (df['maxdeutsch.Missing.'] == 0)).mean() * 100\n",
    "#    non_german_male_pct = ((df['frau1'] == 0) & (df['maxdeutsch1'] == 0) & (df['maxdeutsch.Missing.'] == 0)).mean() * 100\n",
    "#    non_german_female_pct = ((df['frau1'] == 1) & (df['maxdeutsch1'] == 0) & (df['maxdeutsch.Missing.'] == 0)).mean() * 100\n",
    "#\n",
    "#    print(f\"--- {df_name} ---\")\n",
    "#    print(f\"Female: {female_pct:.2f}%\")\n",
    "#    print(f\"Non-German: {non_german_pct:.2f}%\")\n",
    "#    print(f\"Non-German Male: {non_german_male_pct:.2f}%\")\n",
    "#    print(f\"Non-German Female: {non_german_female_pct:.2f}%\\n\")\n",
    "#\n",
    "## Calculate for each DataFrame\n",
    "#calculate_percentages(siab_calib, \"siab_calib\")\n",
    "#calculate_percentages(siab_test, \"siab_test\")\n",
    "#calculate_percentages(siab_train, \"siab_train\")"
   ]
  },
  {
   "cell_type": "markdown",
   "id": "0a4a1b33",
   "metadata": {
    "papermill": {
     "duration": 0.020363,
     "end_time": "2025-07-30T14:21:55.128646",
     "exception": false,
     "start_time": "2025-07-30T14:21:55.108283",
     "status": "completed"
    },
    "tags": []
   },
   "source": [
    "# Preprocessing Data"
   ]
  },
  {
   "cell_type": "code",
   "execution_count": 29,
   "id": "ca879031",
   "metadata": {
    "execution": {
     "iopub.execute_input": "2025-07-30T14:21:55.172982Z",
     "iopub.status.busy": "2025-07-30T14:21:55.172335Z",
     "iopub.status.idle": "2025-07-30T14:21:55.178300Z",
     "shell.execute_reply": "2025-07-30T14:21:55.177306Z"
    },
    "papermill": {
     "duration": 0.030014,
     "end_time": "2025-07-30T14:21:55.179815",
     "exception": false,
     "start_time": "2025-07-30T14:21:55.149801",
     "status": "completed"
    },
    "tags": []
   },
   "outputs": [],
   "source": [
    "# EXCLUDE PROTECTED FEATURES\n",
    "# ----------------------\n",
    "# \"exclude_features\": \"none\", # \"nationality\", \"sex\", \"nationality-sex\"\n",
    "\n",
    "excluded_features = universe[\"exclude_features\"].split(\"-\") # split, e.g.: \"nationality-sex\" -> [\"nationality\", \"sex\"]\n",
    "excluded_features_dictionary = {\n",
    "    \"nationality\": [\"maxdeutsch1\", \"maxdeutsch.Missing.\"],\n",
    "    \"sex\": [\"frau1\"],\n",
    "    \"age\": [\"age\"],\n",
    "}\n"
   ]
  },
  {
   "cell_type": "code",
   "execution_count": 30,
   "id": "b745ac60",
   "metadata": {
    "execution": {
     "iopub.execute_input": "2025-07-30T14:21:55.223318Z",
     "iopub.status.busy": "2025-07-30T14:21:55.222745Z",
     "iopub.status.idle": "2025-07-30T14:21:55.228480Z",
     "shell.execute_reply": "2025-07-30T14:21:55.227424Z"
    },
    "papermill": {
     "duration": 0.028854,
     "end_time": "2025-07-30T14:21:55.230265",
     "exception": false,
     "start_time": "2025-07-30T14:21:55.201411",
     "status": "completed"
    },
    "tags": []
   },
   "outputs": [],
   "source": [
    "# Code nice names to column names\n",
    "\n",
    "excluded_features_columns = [\n",
    "    excluded_features_dictionary[f] for f in excluded_features if len(f) > 0 and f != \"none\"\n",
    "]"
   ]
  },
  {
   "cell_type": "code",
   "execution_count": 31,
   "id": "f84f73a2",
   "metadata": {
    "execution": {
     "iopub.execute_input": "2025-07-30T14:21:55.274597Z",
     "iopub.status.busy": "2025-07-30T14:21:55.273862Z",
     "iopub.status.idle": "2025-07-30T14:21:55.279955Z",
     "shell.execute_reply": "2025-07-30T14:21:55.279143Z"
    },
    "papermill": {
     "duration": 0.029114,
     "end_time": "2025-07-30T14:21:55.281469",
     "exception": false,
     "start_time": "2025-07-30T14:21:55.252355",
     "status": "completed"
    },
    "tags": []
   },
   "outputs": [],
   "source": [
    "from utils import flatten_once\n",
    "\n",
    "excluded_features_columns = flatten_once(excluded_features_columns)"
   ]
  },
  {
   "cell_type": "code",
   "execution_count": 32,
   "id": "884dea22",
   "metadata": {
    "execution": {
     "iopub.execute_input": "2025-07-30T14:21:55.327027Z",
     "iopub.status.busy": "2025-07-30T14:21:55.326441Z",
     "iopub.status.idle": "2025-07-30T14:21:55.332381Z",
     "shell.execute_reply": "2025-07-30T14:21:55.331486Z"
    },
    "papermill": {
     "duration": 0.031272,
     "end_time": "2025-07-30T14:21:55.334166",
     "exception": false,
     "start_time": "2025-07-30T14:21:55.302894",
     "status": "completed"
    },
    "tags": []
   },
   "outputs": [],
   "source": [
    "if len(excluded_features_columns) > 0:\n",
    "    print(f\"Dropping features: {excluded_features_columns}\")\n",
    "    X_train.drop(excluded_features_columns, axis=1, inplace=True)"
   ]
  },
  {
   "cell_type": "code",
   "execution_count": 33,
   "id": "95ab8b16",
   "metadata": {
    "execution": {
     "iopub.execute_input": "2025-07-30T14:21:55.378132Z",
     "iopub.status.busy": "2025-07-30T14:21:55.377724Z",
     "iopub.status.idle": "2025-07-30T14:21:55.383274Z",
     "shell.execute_reply": "2025-07-30T14:21:55.382175Z"
    },
    "papermill": {
     "duration": 0.028922,
     "end_time": "2025-07-30T14:21:55.385009",
     "exception": false,
     "start_time": "2025-07-30T14:21:55.356087",
     "status": "completed"
    },
    "tags": []
   },
   "outputs": [],
   "source": [
    "if len(excluded_features_columns) > 0:\n",
    "    print(f\"Dropping features: {excluded_features_columns}\")\n",
    "    X_test.drop(excluded_features_columns, axis=1, inplace=True)"
   ]
  },
  {
   "cell_type": "code",
   "execution_count": 34,
   "id": "1853aaf5-fb9f-46cb-a2b5-8ea4ae2237e4",
   "metadata": {
    "execution": {
     "iopub.execute_input": "2025-07-30T14:21:55.429688Z",
     "iopub.status.busy": "2025-07-30T14:21:55.428934Z",
     "iopub.status.idle": "2025-07-30T14:21:55.435294Z",
     "shell.execute_reply": "2025-07-30T14:21:55.434246Z"
    },
    "papermill": {
     "duration": 0.030451,
     "end_time": "2025-07-30T14:21:55.437282",
     "exception": false,
     "start_time": "2025-07-30T14:21:55.406831",
     "status": "completed"
    },
    "tags": []
   },
   "outputs": [],
   "source": [
    "if len(excluded_features_columns) > 0:\n",
    "    print(f\"Dropping features: {excluded_features_columns}\")\n",
    "    X_calib.drop(excluded_features_columns, axis=1, inplace=True)"
   ]
  },
  {
   "cell_type": "code",
   "execution_count": 35,
   "id": "6727d079-03e5-481e-9d38-292a90b7a0a8",
   "metadata": {
    "execution": {
     "iopub.execute_input": "2025-07-30T14:21:55.484474Z",
     "iopub.status.busy": "2025-07-30T14:21:55.483975Z",
     "iopub.status.idle": "2025-07-30T14:21:55.488755Z",
     "shell.execute_reply": "2025-07-30T14:21:55.487768Z"
    },
    "papermill": {
     "duration": 0.031112,
     "end_time": "2025-07-30T14:21:55.493017",
     "exception": false,
     "start_time": "2025-07-30T14:21:55.461905",
     "status": "completed"
    },
    "tags": []
   },
   "outputs": [],
   "source": [
    "# SPLIT & STRATIFY DATA\n",
    "# ----------------------"
   ]
  },
  {
   "cell_type": "code",
   "execution_count": 36,
   "id": "76c4dc6d",
   "metadata": {
    "execution": {
     "iopub.execute_input": "2025-07-30T14:21:55.517731Z",
     "iopub.status.busy": "2025-07-30T14:21:55.517352Z",
     "iopub.status.idle": "2025-07-30T14:21:55.521474Z",
     "shell.execute_reply": "2025-07-30T14:21:55.520779Z"
    },
    "papermill": {
     "duration": 0.017592,
     "end_time": "2025-07-30T14:21:55.522761",
     "exception": false,
     "start_time": "2025-07-30T14:21:55.505169",
     "status": "completed"
    },
    "tags": []
   },
   "outputs": [],
   "source": [
    "# EXCLUDE CERTAIN SUBGROUPS\n",
    "# ----------------------\n",
    "\n",
    "mode = universe.get(\"exclude_subgroups\", \"keep-all\") \n",
    "# Fetches the exclude_subgroups setting from the universe dict.\n",
    "# Defaults to \"keep-all\" if the key is missing."
   ]
  },
  {
   "cell_type": "code",
   "execution_count": 37,
   "id": "21994072",
   "metadata": {
    "execution": {
     "iopub.execute_input": "2025-07-30T14:21:55.547559Z",
     "iopub.status.busy": "2025-07-30T14:21:55.547082Z",
     "iopub.status.idle": "2025-07-30T14:21:55.552111Z",
     "shell.execute_reply": "2025-07-30T14:21:55.551326Z"
    },
    "papermill": {
     "duration": 0.018255,
     "end_time": "2025-07-30T14:21:55.553376",
     "exception": false,
     "start_time": "2025-07-30T14:21:55.535121",
     "status": "completed"
    },
    "tags": []
   },
   "outputs": [],
   "source": [
    "if mode == \"keep-all\":\n",
    "    keep_mask = pd.Series(True, index=org_train.index)\n",
    "\n",
    "# org_train contains the original feature columns from features_org (in Simson)\n",
    "# features_org contains unprocessed features, for me X_train at beginning ???\n",
    "# For keep-all, creates a boolean Series (keep_mask) of all True, so no rows are removed.\n",
    "\n",
    "elif mode == \"drop-non-german\":\n",
    "    keep_mask = org_train[\"maxdeutsch1\"] == 1 # ??? what about missing values?\n",
    "\n",
    "else:\n",
    "    raise ValueError(f\"Unsupported mode for exclude_subgroups: {mode}\")\n"
   ]
  },
  {
   "cell_type": "code",
   "execution_count": 38,
   "id": "71651440",
   "metadata": {
    "execution": {
     "iopub.execute_input": "2025-07-30T14:21:55.584774Z",
     "iopub.status.busy": "2025-07-30T14:21:55.584383Z",
     "iopub.status.idle": "2025-07-30T14:21:55.589160Z",
     "shell.execute_reply": "2025-07-30T14:21:55.588429Z"
    },
    "papermill": {
     "duration": 0.024568,
     "end_time": "2025-07-30T14:21:55.590511",
     "exception": false,
     "start_time": "2025-07-30T14:21:55.565943",
     "status": "completed"
    },
    "tags": []
   },
   "outputs": [],
   "source": [
    "n_drop = (~keep_mask).sum() # Calculates how many rows are set to be dropped\n",
    "if n_drop > 0:\n",
    "    pct = n_drop / len(keep_mask) * 100\n",
    "    print(f\"Dropping {n_drop} rows ({pct:.2f}%) where mode='{mode}'\")"
   ]
  },
  {
   "cell_type": "code",
   "execution_count": 39,
   "id": "5fb8eee5",
   "metadata": {
    "execution": {
     "iopub.execute_input": "2025-07-30T14:21:55.616561Z",
     "iopub.status.busy": "2025-07-30T14:21:55.615766Z",
     "iopub.status.idle": "2025-07-30T14:21:55.620791Z",
     "shell.execute_reply": "2025-07-30T14:21:55.620036Z"
    },
    "papermill": {
     "duration": 0.018964,
     "end_time": "2025-07-30T14:21:55.622196",
     "exception": false,
     "start_time": "2025-07-30T14:21:55.603232",
     "status": "completed"
    },
    "tags": []
   },
   "outputs": [],
   "source": [
    "X_train = X_train[keep_mask]"
   ]
  },
  {
   "cell_type": "code",
   "execution_count": 40,
   "id": "b202bb3a",
   "metadata": {
    "execution": {
     "iopub.execute_input": "2025-07-30T14:21:55.647647Z",
     "iopub.status.busy": "2025-07-30T14:21:55.647165Z",
     "iopub.status.idle": "2025-07-30T14:21:55.652144Z",
     "shell.execute_reply": "2025-07-30T14:21:55.651359Z"
    },
    "papermill": {
     "duration": 0.018448,
     "end_time": "2025-07-30T14:21:55.653542",
     "exception": false,
     "start_time": "2025-07-30T14:21:55.635094",
     "status": "completed"
    },
    "tags": []
   },
   "outputs": [],
   "source": [
    "y_train = y_train[keep_mask]"
   ]
  },
  {
   "cell_type": "markdown",
   "id": "493e2ac3",
   "metadata": {
    "papermill": {
     "duration": 0.011699,
     "end_time": "2025-07-30T14:21:55.678170",
     "exception": false,
     "start_time": "2025-07-30T14:21:55.666471",
     "status": "completed"
    },
    "tags": []
   },
   "source": [
    "# Model Training"
   ]
  },
  {
   "cell_type": "code",
   "execution_count": 41,
   "id": "679e1268",
   "metadata": {
    "execution": {
     "iopub.execute_input": "2025-07-30T14:21:55.714116Z",
     "iopub.status.busy": "2025-07-30T14:21:55.713761Z",
     "iopub.status.idle": "2025-07-30T14:21:55.799145Z",
     "shell.execute_reply": "2025-07-30T14:21:55.798189Z"
    },
    "papermill": {
     "duration": 0.104707,
     "end_time": "2025-07-30T14:21:55.801029",
     "exception": false,
     "start_time": "2025-07-30T14:21:55.696322",
     "status": "completed"
    },
    "tags": []
   },
   "outputs": [],
   "source": [
    "from sklearn.linear_model import LogisticRegression\n",
    "from sklearn.ensemble import GradientBoostingClassifier, RandomForestClassifier\n",
    "\n",
    "if (universe[\"model\"] == \"logreg\"):\n",
    "    model = LogisticRegression() #penalty=\"none\") #, solver=\"newton-cg\", max_iter=1) # include random_state=19 ?\n",
    "elif (universe[\"model\"] == \"penalized_logreg\"):\n",
    "    model = LogisticRegression(penalty=\"l2\", C=1.0) #, solver=\"newton-cg\", max_iter=1)\n",
    "elif (universe[\"model\"] == \"rf\"):\n",
    "    model = RandomForestClassifier(n_estimators=100, n_jobs=-1)\n",
    "elif (universe[\"model\"] == \"gbm\"):\n",
    "    model = GradientBoostingClassifier()\n",
    "elif (universe[\"model\"] == \"elasticnet\"):\n",
    "    model = LogisticRegression(penalty = 'elasticnet', solver = 'saga', l1_ratio = 0.5, max_iter=5000) # which solver to use?\n",
    "else:\n",
    "    raise \"Unsupported universe.model\""
   ]
  },
  {
   "cell_type": "code",
   "execution_count": 42,
   "id": "0cc8f744",
   "metadata": {
    "execution": {
     "iopub.execute_input": "2025-07-30T14:21:55.847793Z",
     "iopub.status.busy": "2025-07-30T14:21:55.847031Z",
     "iopub.status.idle": "2025-07-30T14:21:55.853889Z",
     "shell.execute_reply": "2025-07-30T14:21:55.852877Z"
    },
    "papermill": {
     "duration": 0.031169,
     "end_time": "2025-07-30T14:21:55.855644",
     "exception": false,
     "start_time": "2025-07-30T14:21:55.824475",
     "status": "completed"
    },
    "tags": []
   },
   "outputs": [],
   "source": [
    "import numpy as np\n",
    "from sklearn.pipeline import Pipeline\n",
    "from sklearn.preprocessing import StandardScaler\n",
    "\n",
    "model = Pipeline([\n",
    "    #(\"continuous_processor\", continuous_processor),\n",
    "    #(\"categorical_preprocessor\", categorical_preprocessor),\n",
    "    (\"scale\", StandardScaler() if universe[\"scale\"] == \"scale\" else None), \n",
    "    (\"model\", model),\n",
    "])"
   ]
  },
  {
   "cell_type": "code",
   "execution_count": 43,
   "id": "9442c04d",
   "metadata": {
    "execution": {
     "iopub.execute_input": "2025-07-30T14:21:55.903198Z",
     "iopub.status.busy": "2025-07-30T14:21:55.902522Z",
     "iopub.status.idle": "2025-07-30T14:21:57.001711Z",
     "shell.execute_reply": "2025-07-30T14:21:57.000725Z"
    },
    "papermill": {
     "duration": 1.124318,
     "end_time": "2025-07-30T14:21:57.003526",
     "exception": false,
     "start_time": "2025-07-30T14:21:55.879208",
     "status": "completed"
    },
    "tags": []
   },
   "outputs": [
    {
     "data": {
      "text/html": [
       "<style>#sk-container-id-1 {color: black;background-color: white;}#sk-container-id-1 pre{padding: 0;}#sk-container-id-1 div.sk-toggleable {background-color: white;}#sk-container-id-1 label.sk-toggleable__label {cursor: pointer;display: block;width: 100%;margin-bottom: 0;padding: 0.3em;box-sizing: border-box;text-align: center;}#sk-container-id-1 label.sk-toggleable__label-arrow:before {content: \"▸\";float: left;margin-right: 0.25em;color: #696969;}#sk-container-id-1 label.sk-toggleable__label-arrow:hover:before {color: black;}#sk-container-id-1 div.sk-estimator:hover label.sk-toggleable__label-arrow:before {color: black;}#sk-container-id-1 div.sk-toggleable__content {max-height: 0;max-width: 0;overflow: hidden;text-align: left;background-color: #f0f8ff;}#sk-container-id-1 div.sk-toggleable__content pre {margin: 0.2em;color: black;border-radius: 0.25em;background-color: #f0f8ff;}#sk-container-id-1 input.sk-toggleable__control:checked~div.sk-toggleable__content {max-height: 200px;max-width: 100%;overflow: auto;}#sk-container-id-1 input.sk-toggleable__control:checked~label.sk-toggleable__label-arrow:before {content: \"▾\";}#sk-container-id-1 div.sk-estimator input.sk-toggleable__control:checked~label.sk-toggleable__label {background-color: #d4ebff;}#sk-container-id-1 div.sk-label input.sk-toggleable__control:checked~label.sk-toggleable__label {background-color: #d4ebff;}#sk-container-id-1 input.sk-hidden--visually {border: 0;clip: rect(1px 1px 1px 1px);clip: rect(1px, 1px, 1px, 1px);height: 1px;margin: -1px;overflow: hidden;padding: 0;position: absolute;width: 1px;}#sk-container-id-1 div.sk-estimator {font-family: monospace;background-color: #f0f8ff;border: 1px dotted black;border-radius: 0.25em;box-sizing: border-box;margin-bottom: 0.5em;}#sk-container-id-1 div.sk-estimator:hover {background-color: #d4ebff;}#sk-container-id-1 div.sk-parallel-item::after {content: \"\";width: 100%;border-bottom: 1px solid gray;flex-grow: 1;}#sk-container-id-1 div.sk-label:hover label.sk-toggleable__label {background-color: #d4ebff;}#sk-container-id-1 div.sk-serial::before {content: \"\";position: absolute;border-left: 1px solid gray;box-sizing: border-box;top: 0;bottom: 0;left: 50%;z-index: 0;}#sk-container-id-1 div.sk-serial {display: flex;flex-direction: column;align-items: center;background-color: white;padding-right: 0.2em;padding-left: 0.2em;position: relative;}#sk-container-id-1 div.sk-item {position: relative;z-index: 1;}#sk-container-id-1 div.sk-parallel {display: flex;align-items: stretch;justify-content: center;background-color: white;position: relative;}#sk-container-id-1 div.sk-item::before, #sk-container-id-1 div.sk-parallel-item::before {content: \"\";position: absolute;border-left: 1px solid gray;box-sizing: border-box;top: 0;bottom: 0;left: 50%;z-index: -1;}#sk-container-id-1 div.sk-parallel-item {display: flex;flex-direction: column;z-index: 1;position: relative;background-color: white;}#sk-container-id-1 div.sk-parallel-item:first-child::after {align-self: flex-end;width: 50%;}#sk-container-id-1 div.sk-parallel-item:last-child::after {align-self: flex-start;width: 50%;}#sk-container-id-1 div.sk-parallel-item:only-child::after {width: 0;}#sk-container-id-1 div.sk-dashed-wrapped {border: 1px dashed gray;margin: 0 0.4em 0.5em 0.4em;box-sizing: border-box;padding-bottom: 0.4em;background-color: white;}#sk-container-id-1 div.sk-label label {font-family: monospace;font-weight: bold;display: inline-block;line-height: 1.2em;}#sk-container-id-1 div.sk-label-container {text-align: center;}#sk-container-id-1 div.sk-container {/* jupyter's `normalize.less` sets `[hidden] { display: none; }` but bootstrap.min.css set `[hidden] { display: none !important; }` so we also need the `!important` here to be able to override the default hidden behavior on the sphinx rendered scikit-learn.org. See: https://github.com/scikit-learn/scikit-learn/issues/21755 */display: inline-block !important;position: relative;}#sk-container-id-1 div.sk-text-repr-fallback {display: none;}</style><div id=\"sk-container-id-1\" class=\"sk-top-container\"><div class=\"sk-text-repr-fallback\"><pre>Pipeline(steps=[(&#x27;scale&#x27;, StandardScaler()),\n",
       "                (&#x27;model&#x27;, GradientBoostingClassifier())])</pre><b>In a Jupyter environment, please rerun this cell to show the HTML representation or trust the notebook. <br />On GitHub, the HTML representation is unable to render, please try loading this page with nbviewer.org.</b></div><div class=\"sk-container\" hidden><div class=\"sk-item sk-dashed-wrapped\"><div class=\"sk-label-container\"><div class=\"sk-label sk-toggleable\"><input class=\"sk-toggleable__control sk-hidden--visually\" id=\"sk-estimator-id-1\" type=\"checkbox\" ><label for=\"sk-estimator-id-1\" class=\"sk-toggleable__label sk-toggleable__label-arrow\">Pipeline</label><div class=\"sk-toggleable__content\"><pre>Pipeline(steps=[(&#x27;scale&#x27;, StandardScaler()),\n",
       "                (&#x27;model&#x27;, GradientBoostingClassifier())])</pre></div></div></div><div class=\"sk-serial\"><div class=\"sk-item\"><div class=\"sk-estimator sk-toggleable\"><input class=\"sk-toggleable__control sk-hidden--visually\" id=\"sk-estimator-id-2\" type=\"checkbox\" ><label for=\"sk-estimator-id-2\" class=\"sk-toggleable__label sk-toggleable__label-arrow\">StandardScaler</label><div class=\"sk-toggleable__content\"><pre>StandardScaler()</pre></div></div></div><div class=\"sk-item\"><div class=\"sk-estimator sk-toggleable\"><input class=\"sk-toggleable__control sk-hidden--visually\" id=\"sk-estimator-id-3\" type=\"checkbox\" ><label for=\"sk-estimator-id-3\" class=\"sk-toggleable__label sk-toggleable__label-arrow\">GradientBoostingClassifier</label><div class=\"sk-toggleable__content\"><pre>GradientBoostingClassifier()</pre></div></div></div></div></div></div></div>"
      ],
      "text/plain": [
       "Pipeline(steps=[('scale', StandardScaler()),\n",
       "                ('model', GradientBoostingClassifier())])"
      ]
     },
     "execution_count": 43,
     "metadata": {},
     "output_type": "execute_result"
    }
   ],
   "source": [
    "model.fit(X_train, y_train.values.ravel())"
   ]
  },
  {
   "cell_type": "code",
   "execution_count": 44,
   "id": "af59f8c0",
   "metadata": {
    "execution": {
     "iopub.execute_input": "2025-07-30T14:21:57.055011Z",
     "iopub.status.busy": "2025-07-30T14:21:57.054141Z",
     "iopub.status.idle": "2025-07-30T14:21:57.059949Z",
     "shell.execute_reply": "2025-07-30T14:21:57.058788Z"
    },
    "papermill": {
     "duration": 0.031744,
     "end_time": "2025-07-30T14:21:57.061849",
     "exception": false,
     "start_time": "2025-07-30T14:21:57.030105",
     "status": "completed"
    },
    "tags": []
   },
   "outputs": [],
   "source": [
    "from fairness_multiverse.universe import predict_w_threshold"
   ]
  },
  {
   "cell_type": "code",
   "execution_count": 45,
   "id": "a7cf2e16",
   "metadata": {
    "execution": {
     "iopub.execute_input": "2025-07-30T14:21:57.103601Z",
     "iopub.status.busy": "2025-07-30T14:21:57.103104Z",
     "iopub.status.idle": "2025-07-30T14:21:57.775931Z",
     "shell.execute_reply": "2025-07-30T14:21:57.774966Z"
    },
    "papermill": {
     "duration": 0.689324,
     "end_time": "2025-07-30T14:21:57.777665",
     "exception": false,
     "start_time": "2025-07-30T14:21:57.088341",
     "status": "completed"
    },
    "tags": []
   },
   "outputs": [
    {
     "data": {
      "text/plain": [
       "0.850373425482109"
      ]
     },
     "execution_count": 45,
     "metadata": {},
     "output_type": "execute_result"
    }
   ],
   "source": [
    "probs_test = model.predict_proba(X_test)\n",
    "\n",
    "'''\n",
    "Below code returns a boolean array (or binary 0/1 array depending on how it’s used) where each element \n",
    "is True if the probability of class 1 is greater than or equal to the threshold, and False otherwise.\n",
    "'''\n",
    "y_pred_default = predict_w_threshold(probs_test, 0.5)\n",
    "\n",
    "from sklearn.metrics import accuracy_score\n",
    "\n",
    "# Naive prediction\n",
    "accuracy_score(y_true = y_true, y_pred = y_pred_default)"
   ]
  },
  {
   "cell_type": "code",
   "execution_count": 46,
   "id": "081964c3",
   "metadata": {
    "execution": {
     "iopub.execute_input": "2025-07-30T14:21:57.831573Z",
     "iopub.status.busy": "2025-07-30T14:21:57.830707Z",
     "iopub.status.idle": "2025-07-30T14:21:58.340127Z",
     "shell.execute_reply": "2025-07-30T14:21:58.339393Z"
    },
    "papermill": {
     "duration": 0.537202,
     "end_time": "2025-07-30T14:21:58.341391",
     "exception": false,
     "start_time": "2025-07-30T14:21:57.804189",
     "status": "completed"
    },
    "tags": []
   },
   "outputs": [
    {
     "data": {
      "text/plain": [
       "array([0, 0, 0, ..., 0, 0, 0])"
      ]
     },
     "execution_count": 46,
     "metadata": {},
     "output_type": "execute_result"
    }
   ],
   "source": [
    "model.predict(X_test)"
   ]
  },
  {
   "cell_type": "markdown",
   "id": "56c9705b",
   "metadata": {
    "papermill": {
     "duration": 0.024353,
     "end_time": "2025-07-30T14:21:58.378803",
     "exception": false,
     "start_time": "2025-07-30T14:21:58.354450",
     "status": "completed"
    },
    "tags": []
   },
   "source": [
    "# Conformal Prediction"
   ]
  },
  {
   "cell_type": "code",
   "execution_count": 47,
   "id": "160ec6ff",
   "metadata": {
    "execution": {
     "iopub.execute_input": "2025-07-30T14:21:58.426414Z",
     "iopub.status.busy": "2025-07-30T14:21:58.425989Z",
     "iopub.status.idle": "2025-07-30T14:21:58.431029Z",
     "shell.execute_reply": "2025-07-30T14:21:58.430021Z"
    },
    "papermill": {
     "duration": 0.032738,
     "end_time": "2025-07-30T14:21:58.432645",
     "exception": false,
     "start_time": "2025-07-30T14:21:58.399907",
     "status": "completed"
    },
    "tags": []
   },
   "outputs": [],
   "source": [
    "# Miscoverage level for conformal prediction (10% allowed error rate => 90% target coverage)\n",
    "alpha = 0.1"
   ]
  },
  {
   "cell_type": "code",
   "execution_count": 48,
   "id": "eadf4555-3dd3-440e-8e35-f82a4ad9f855",
   "metadata": {
    "execution": {
     "iopub.execute_input": "2025-07-30T14:21:58.485447Z",
     "iopub.status.busy": "2025-07-30T14:21:58.484894Z",
     "iopub.status.idle": "2025-07-30T14:21:59.210952Z",
     "shell.execute_reply": "2025-07-30T14:21:59.209876Z"
    },
    "papermill": {
     "duration": 0.753178,
     "end_time": "2025-07-30T14:21:59.212894",
     "exception": false,
     "start_time": "2025-07-30T14:21:58.459716",
     "status": "completed"
    },
    "tags": []
   },
   "outputs": [],
   "source": [
    "probs_calib = model.predict_proba(X_calib)"
   ]
  },
  {
   "cell_type": "code",
   "execution_count": 49,
   "id": "2ed93547-6d5d-4983-9b36-1ecb300da49a",
   "metadata": {
    "execution": {
     "iopub.execute_input": "2025-07-30T14:21:59.268450Z",
     "iopub.status.busy": "2025-07-30T14:21:59.267502Z",
     "iopub.status.idle": "2025-07-30T14:21:59.273535Z",
     "shell.execute_reply": "2025-07-30T14:21:59.272583Z"
    },
    "papermill": {
     "duration": 0.035793,
     "end_time": "2025-07-30T14:21:59.275488",
     "exception": false,
     "start_time": "2025-07-30T14:21:59.239695",
     "status": "completed"
    },
    "tags": []
   },
   "outputs": [],
   "source": [
    "y_calib = y_calib.values.ravel().astype(int)"
   ]
  },
  {
   "cell_type": "code",
   "execution_count": 50,
   "id": "65d1320d-f588-4b38-9072-62af1ae97f7d",
   "metadata": {
    "execution": {
     "iopub.execute_input": "2025-07-30T14:21:59.321020Z",
     "iopub.status.busy": "2025-07-30T14:21:59.320130Z",
     "iopub.status.idle": "2025-07-30T14:21:59.327703Z",
     "shell.execute_reply": "2025-07-30T14:21:59.326872Z"
    },
    "papermill": {
     "duration": 0.036671,
     "end_time": "2025-07-30T14:21:59.329185",
     "exception": false,
     "start_time": "2025-07-30T14:21:59.292514",
     "status": "completed"
    },
    "tags": []
   },
   "outputs": [],
   "source": [
    "from fairness_multiverse.conformal import compute_nc_scores\n",
    "\n",
    "# Compute nonconformity scores on calibration set (1 - probability of true class)\n",
    "nc_scores = compute_nc_scores(probs_calib, y_calib)"
   ]
  },
  {
   "cell_type": "code",
   "execution_count": 51,
   "id": "df3b8ca3-53b7-43d5-9667-7c85da7aeda2",
   "metadata": {
    "execution": {
     "iopub.execute_input": "2025-07-30T14:21:59.357454Z",
     "iopub.status.busy": "2025-07-30T14:21:59.356902Z",
     "iopub.status.idle": "2025-07-30T14:21:59.362156Z",
     "shell.execute_reply": "2025-07-30T14:21:59.361364Z"
    },
    "papermill": {
     "duration": 0.020411,
     "end_time": "2025-07-30T14:21:59.363843",
     "exception": false,
     "start_time": "2025-07-30T14:21:59.343432",
     "status": "completed"
    },
    "tags": []
   },
   "outputs": [],
   "source": [
    "from fairness_multiverse.conformal import find_threshold\n",
    "\n",
    "# Find conformal threshold q_hat for the given alpha (split conformal method)\n",
    "q_hat = find_threshold(nc_scores, alpha)"
   ]
  },
  {
   "cell_type": "code",
   "execution_count": 52,
   "id": "4d29e6c1-0ef6-4aa4-b8fe-4fe79b0d033a",
   "metadata": {
    "execution": {
     "iopub.execute_input": "2025-07-30T14:21:59.394415Z",
     "iopub.status.busy": "2025-07-30T14:21:59.393868Z",
     "iopub.status.idle": "2025-07-30T14:21:59.401109Z",
     "shell.execute_reply": "2025-07-30T14:21:59.400116Z"
    },
    "papermill": {
     "duration": 0.024819,
     "end_time": "2025-07-30T14:21:59.403645",
     "exception": false,
     "start_time": "2025-07-30T14:21:59.378826",
     "status": "completed"
    },
    "tags": []
   },
   "outputs": [
    {
     "data": {
      "text/plain": [
       "0.7418336171636242"
      ]
     },
     "execution_count": 52,
     "metadata": {},
     "output_type": "execute_result"
    }
   ],
   "source": [
    "q_hat"
   ]
  },
  {
   "cell_type": "code",
   "execution_count": 53,
   "id": "92460794-cdac-4be2-ba28-f28c0515a6fb",
   "metadata": {
    "execution": {
     "iopub.execute_input": "2025-07-30T14:21:59.464169Z",
     "iopub.status.busy": "2025-07-30T14:21:59.463601Z",
     "iopub.status.idle": "2025-07-30T14:22:00.653247Z",
     "shell.execute_reply": "2025-07-30T14:22:00.652157Z"
    },
    "papermill": {
     "duration": 1.220983,
     "end_time": "2025-07-30T14:22:00.655077",
     "exception": false,
     "start_time": "2025-07-30T14:21:59.434094",
     "status": "completed"
    },
    "tags": []
   },
   "outputs": [],
   "source": [
    "from fairness_multiverse.conformal import predict_conformal_sets\n",
    "\n",
    "# Generate prediction sets for each test example\n",
    "pred_sets = predict_conformal_sets(model, X_test, q_hat)"
   ]
  },
  {
   "cell_type": "code",
   "execution_count": 54,
   "id": "d90c9a65-e6db-4f5d-80cd-e68fb7e46829",
   "metadata": {
    "execution": {
     "iopub.execute_input": "2025-07-30T14:22:00.709568Z",
     "iopub.status.busy": "2025-07-30T14:22:00.708699Z",
     "iopub.status.idle": "2025-07-30T14:22:00.713564Z",
     "shell.execute_reply": "2025-07-30T14:22:00.712838Z"
    },
    "papermill": {
     "duration": 0.032066,
     "end_time": "2025-07-30T14:22:00.714993",
     "exception": false,
     "start_time": "2025-07-30T14:22:00.682927",
     "status": "completed"
    },
    "tags": []
   },
   "outputs": [],
   "source": [
    "y_true = y_true.squeeze()"
   ]
  },
  {
   "cell_type": "code",
   "execution_count": 55,
   "id": "3a58a54a-1e68-46b9-927a-df01f18aebc8",
   "metadata": {
    "execution": {
     "iopub.execute_input": "2025-07-30T14:22:00.755585Z",
     "iopub.status.busy": "2025-07-30T14:22:00.755050Z",
     "iopub.status.idle": "2025-07-30T14:22:01.301781Z",
     "shell.execute_reply": "2025-07-30T14:22:01.301022Z"
    },
    "papermill": {
     "duration": 0.574271,
     "end_time": "2025-07-30T14:22:01.303181",
     "exception": false,
     "start_time": "2025-07-30T14:22:00.728910",
     "status": "completed"
    },
    "tags": []
   },
   "outputs": [],
   "source": [
    "from fairness_multiverse.conformal import evaluate_sets\n",
    "\n",
    "# Evaluate coverage and average set size on test data\n",
    "metrics = evaluate_sets(pred_sets, y_true)"
   ]
  },
  {
   "cell_type": "markdown",
   "id": "2b569c12-9aaa-4c88-98c9-bbcd0cf3ebb8",
   "metadata": {
    "papermill": {
     "duration": 0.012746,
     "end_time": "2025-07-30T14:22:01.329330",
     "exception": false,
     "start_time": "2025-07-30T14:22:01.316584",
     "status": "completed"
    },
    "tags": []
   },
   "source": [
    "# CP Metrics"
   ]
  },
  {
   "cell_type": "code",
   "execution_count": 56,
   "id": "5ce0a5cb-201f-45a0-ade5-94c7f0bd6095",
   "metadata": {
    "execution": {
     "iopub.execute_input": "2025-07-30T14:22:01.356871Z",
     "iopub.status.busy": "2025-07-30T14:22:01.356330Z",
     "iopub.status.idle": "2025-07-30T14:22:01.362947Z",
     "shell.execute_reply": "2025-07-30T14:22:01.362114Z"
    },
    "papermill": {
     "duration": 0.022133,
     "end_time": "2025-07-30T14:22:01.364420",
     "exception": false,
     "start_time": "2025-07-30T14:22:01.342287",
     "status": "completed"
    },
    "tags": []
   },
   "outputs": [
    {
     "data": {
      "text/plain": [
       "{'coverage': 0.9102441199420355, 'avg_size': 1.1564931445769702}"
      ]
     },
     "execution_count": 56,
     "metadata": {},
     "output_type": "execute_result"
    }
   ],
   "source": [
    "metrics"
   ]
  },
  {
   "cell_type": "code",
   "execution_count": 57,
   "id": "9b9a838d-31c9-430b-ae14-12baee460d17",
   "metadata": {
    "execution": {
     "iopub.execute_input": "2025-07-30T14:22:01.392569Z",
     "iopub.status.busy": "2025-07-30T14:22:01.391956Z",
     "iopub.status.idle": "2025-07-30T14:22:01.397985Z",
     "shell.execute_reply": "2025-07-30T14:22:01.396915Z"
    },
    "papermill": {
     "duration": 0.021427,
     "end_time": "2025-07-30T14:22:01.399561",
     "exception": false,
     "start_time": "2025-07-30T14:22:01.378134",
     "status": "completed"
    },
    "tags": []
   },
   "outputs": [],
   "source": [
    "example_universe = universe.copy()\n",
    "universe_training_size = example_universe.get(\"training_size\")\n",
    "universe_scale = example_universe.get(\"scale\")\n",
    "universe_model = example_universe.get(\"model\")\n",
    "universe_exclude_features = example_universe.get(\"exclude_features\")\n",
    "universe_exclude_subgroups = example_universe.get(\"exclude_subgroups\")"
   ]
  },
  {
   "cell_type": "code",
   "execution_count": 58,
   "id": "f4b6a8ac-9dc0-4245-8a91-5b3b5999c4f9",
   "metadata": {
    "execution": {
     "iopub.execute_input": "2025-07-30T14:22:01.448963Z",
     "iopub.status.busy": "2025-07-30T14:22:01.448050Z",
     "iopub.status.idle": "2025-07-30T14:22:01.454827Z",
     "shell.execute_reply": "2025-07-30T14:22:01.453954Z"
    },
    "papermill": {
     "duration": 0.032888,
     "end_time": "2025-07-30T14:22:01.456584",
     "exception": false,
     "start_time": "2025-07-30T14:22:01.423696",
     "status": "completed"
    },
    "tags": []
   },
   "outputs": [],
   "source": [
    "cp_metrics_dict = {\n",
    "    \"universe_id\": [universe_id],\n",
    "    \"universe_training_size\": [universe_training_size],\n",
    "    \"universe_scale\": [universe_scale],\n",
    "    \"universe_model\": [universe_model],\n",
    "    \"universe_exclude_features\": [universe_exclude_features],\n",
    "    \"universe_exclude_subgroups\": [universe_exclude_subgroups],\n",
    "    \"q_hat\": [q_hat],\n",
    "    \"coverage\": [metrics[\"coverage\"]],\n",
    "    \"avg_size\": [metrics[\"avg_size\"]],\n",
    "}"
   ]
  },
  {
   "cell_type": "code",
   "execution_count": 59,
   "id": "908acbb1-0371-4915-85ca-3fa520d2efe2",
   "metadata": {
    "execution": {
     "iopub.execute_input": "2025-07-30T14:22:01.507516Z",
     "iopub.status.busy": "2025-07-30T14:22:01.506548Z",
     "iopub.status.idle": "2025-07-30T14:22:01.514352Z",
     "shell.execute_reply": "2025-07-30T14:22:01.513428Z"
    },
    "papermill": {
     "duration": 0.033925,
     "end_time": "2025-07-30T14:22:01.515997",
     "exception": false,
     "start_time": "2025-07-30T14:22:01.482072",
     "status": "completed"
    },
    "tags": []
   },
   "outputs": [
    {
     "data": {
      "text/plain": [
       "{'universe_id': ['de1c4049fb979611d84cc5e4ec10a00e'],\n",
       " 'universe_training_size': ['1k'],\n",
       " 'universe_scale': ['scale'],\n",
       " 'universe_model': ['gbm'],\n",
       " 'universe_exclude_features': ['none'],\n",
       " 'universe_exclude_subgroups': ['keep-all'],\n",
       " 'q_hat': [0.7418336171636242],\n",
       " 'coverage': [0.9102441199420355],\n",
       " 'avg_size': [1.1564931445769702]}"
      ]
     },
     "execution_count": 59,
     "metadata": {},
     "output_type": "execute_result"
    }
   ],
   "source": [
    "cp_metrics_dict"
   ]
  },
  {
   "cell_type": "code",
   "execution_count": 60,
   "id": "33007efc-14e9-4ec6-97ac-56a455c82265",
   "metadata": {
    "execution": {
     "iopub.execute_input": "2025-07-30T14:22:01.566602Z",
     "iopub.status.busy": "2025-07-30T14:22:01.565910Z",
     "iopub.status.idle": "2025-07-30T14:22:01.572417Z",
     "shell.execute_reply": "2025-07-30T14:22:01.571623Z"
    },
    "papermill": {
     "duration": 0.032354,
     "end_time": "2025-07-30T14:22:01.573889",
     "exception": false,
     "start_time": "2025-07-30T14:22:01.541535",
     "status": "completed"
    },
    "tags": []
   },
   "outputs": [],
   "source": [
    "cp_metrics_df = pd.DataFrame(cp_metrics_dict)"
   ]
  },
  {
   "cell_type": "code",
   "execution_count": 61,
   "id": "db12611b-57b2-4910-b9d0-355adfd6e7bf",
   "metadata": {
    "execution": {
     "iopub.execute_input": "2025-07-30T14:22:01.621241Z",
     "iopub.status.busy": "2025-07-30T14:22:01.620788Z",
     "iopub.status.idle": "2025-07-30T14:22:01.639943Z",
     "shell.execute_reply": "2025-07-30T14:22:01.638956Z"
    },
    "papermill": {
     "duration": 0.047412,
     "end_time": "2025-07-30T14:22:01.641680",
     "exception": false,
     "start_time": "2025-07-30T14:22:01.594268",
     "status": "completed"
    },
    "tags": []
   },
   "outputs": [
    {
     "data": {
      "text/html": [
       "<div>\n",
       "<style scoped>\n",
       "    .dataframe tbody tr th:only-of-type {\n",
       "        vertical-align: middle;\n",
       "    }\n",
       "\n",
       "    .dataframe tbody tr th {\n",
       "        vertical-align: top;\n",
       "    }\n",
       "\n",
       "    .dataframe thead th {\n",
       "        text-align: right;\n",
       "    }\n",
       "</style>\n",
       "<table border=\"1\" class=\"dataframe\">\n",
       "  <thead>\n",
       "    <tr style=\"text-align: right;\">\n",
       "      <th></th>\n",
       "      <th>universe_id</th>\n",
       "      <th>universe_training_size</th>\n",
       "      <th>universe_scale</th>\n",
       "      <th>universe_model</th>\n",
       "      <th>universe_exclude_features</th>\n",
       "      <th>universe_exclude_subgroups</th>\n",
       "      <th>q_hat</th>\n",
       "      <th>coverage</th>\n",
       "      <th>avg_size</th>\n",
       "    </tr>\n",
       "  </thead>\n",
       "  <tbody>\n",
       "    <tr>\n",
       "      <th>0</th>\n",
       "      <td>de1c4049fb979611d84cc5e4ec10a00e</td>\n",
       "      <td>1k</td>\n",
       "      <td>scale</td>\n",
       "      <td>gbm</td>\n",
       "      <td>none</td>\n",
       "      <td>keep-all</td>\n",
       "      <td>0.741834</td>\n",
       "      <td>0.910244</td>\n",
       "      <td>1.156493</td>\n",
       "    </tr>\n",
       "  </tbody>\n",
       "</table>\n",
       "</div>"
      ],
      "text/plain": [
       "                        universe_id universe_training_size universe_scale  \\\n",
       "0  de1c4049fb979611d84cc5e4ec10a00e                     1k          scale   \n",
       "\n",
       "  universe_model universe_exclude_features universe_exclude_subgroups  \\\n",
       "0            gbm                      none                   keep-all   \n",
       "\n",
       "      q_hat  coverage  avg_size  \n",
       "0  0.741834  0.910244  1.156493  "
      ]
     },
     "execution_count": 61,
     "metadata": {},
     "output_type": "execute_result"
    }
   ],
   "source": [
    "cp_metrics_df"
   ]
  },
  {
   "cell_type": "code",
   "execution_count": 62,
   "id": "b7fbde55-a0a1-47e4-9af6-fe4a17fa8c61",
   "metadata": {
    "execution": {
     "iopub.execute_input": "2025-07-30T14:22:01.691708Z",
     "iopub.status.busy": "2025-07-30T14:22:01.690849Z",
     "iopub.status.idle": "2025-07-30T14:22:01.696167Z",
     "shell.execute_reply": "2025-07-30T14:22:01.695188Z"
    },
    "papermill": {
     "duration": 0.031921,
     "end_time": "2025-07-30T14:22:01.698011",
     "exception": false,
     "start_time": "2025-07-30T14:22:01.666090",
     "status": "completed"
    },
    "tags": []
   },
   "outputs": [],
   "source": [
    "# Conditional Coverage & looking at subgroups"
   ]
  },
  {
   "cell_type": "code",
   "execution_count": 63,
   "id": "027ae886-68dd-4141-96c7-805a5450e1ef",
   "metadata": {
    "execution": {
     "iopub.execute_input": "2025-07-30T14:22:01.761417Z",
     "iopub.status.busy": "2025-07-30T14:22:01.760642Z",
     "iopub.status.idle": "2025-07-30T14:22:02.032154Z",
     "shell.execute_reply": "2025-07-30T14:22:02.031140Z"
    },
    "papermill": {
     "duration": 0.30661,
     "end_time": "2025-07-30T14:22:02.034191",
     "exception": false,
     "start_time": "2025-07-30T14:22:01.727581",
     "status": "completed"
    },
    "tags": []
   },
   "outputs": [],
   "source": [
    "from fairness_multiverse.conformal import build_cp_groups\n",
    "\n",
    "cp_groups_df = build_cp_groups(pred_sets, y_true, X_test.index, org_test)\n",
    "#needs universe_id and setting"
   ]
  },
  {
   "cell_type": "code",
   "execution_count": 64,
   "id": "01d5802c-663a-4d1f-9d69-e036faaffbf7",
   "metadata": {
    "execution": {
     "iopub.execute_input": "2025-07-30T14:22:02.089535Z",
     "iopub.status.busy": "2025-07-30T14:22:02.088578Z",
     "iopub.status.idle": "2025-07-30T14:22:02.093661Z",
     "shell.execute_reply": "2025-07-30T14:22:02.092803Z"
    },
    "papermill": {
     "duration": 0.032631,
     "end_time": "2025-07-30T14:22:02.095300",
     "exception": false,
     "start_time": "2025-07-30T14:22:02.062669",
     "status": "completed"
    },
    "tags": []
   },
   "outputs": [],
   "source": [
    "#delete\n",
    "#cp_groups_df"
   ]
  },
  {
   "cell_type": "code",
   "execution_count": 65,
   "id": "fa424af1-d1eb-443d-b717-2d279ada8408",
   "metadata": {
    "execution": {
     "iopub.execute_input": "2025-07-30T14:22:02.146477Z",
     "iopub.status.busy": "2025-07-30T14:22:02.145918Z",
     "iopub.status.idle": "2025-07-30T14:22:02.151427Z",
     "shell.execute_reply": "2025-07-30T14:22:02.150338Z"
    },
    "papermill": {
     "duration": 0.032162,
     "end_time": "2025-07-30T14:22:02.153071",
     "exception": false,
     "start_time": "2025-07-30T14:22:02.120909",
     "status": "completed"
    },
    "tags": []
   },
   "outputs": [],
   "source": [
    "#delete\n",
    "#percentage = (cp_groups_df['nongerman_female'] == 1).mean() * 100\n",
    "#print(percentage)\n"
   ]
  },
  {
   "cell_type": "code",
   "execution_count": 66,
   "id": "6cbdab96-b2b2-45af-ad54-d0516db2e28d",
   "metadata": {
    "execution": {
     "iopub.execute_input": "2025-07-30T14:22:02.204262Z",
     "iopub.status.busy": "2025-07-30T14:22:02.203578Z",
     "iopub.status.idle": "2025-07-30T14:22:03.839941Z",
     "shell.execute_reply": "2025-07-30T14:22:03.838861Z"
    },
    "papermill": {
     "duration": 1.662886,
     "end_time": "2025-07-30T14:22:03.841793",
     "exception": false,
     "start_time": "2025-07-30T14:22:02.178907",
     "status": "completed"
    },
    "tags": []
   },
   "outputs": [],
   "source": [
    "# Define covered = 1 if true_label is in the predicted set\n",
    "cp_groups_df['covered'] = cp_groups_df.apply(\n",
    "    lambda r: int(r['true_label'] in r['pred_set']),\n",
    "    axis=1\n",
    ")"
   ]
  },
  {
   "cell_type": "code",
   "execution_count": 67,
   "id": "338ff529-1a6b-4b87-a931-8e4788d52aad",
   "metadata": {
    "execution": {
     "iopub.execute_input": "2025-07-30T14:22:03.896373Z",
     "iopub.status.busy": "2025-07-30T14:22:03.895507Z",
     "iopub.status.idle": "2025-07-30T14:22:03.900648Z",
     "shell.execute_reply": "2025-07-30T14:22:03.899569Z"
    },
    "papermill": {
     "duration": 0.032408,
     "end_time": "2025-07-30T14:22:03.902274",
     "exception": false,
     "start_time": "2025-07-30T14:22:03.869866",
     "status": "completed"
    },
    "tags": []
   },
   "outputs": [],
   "source": [
    "#cp_groups_df"
   ]
  },
  {
   "cell_type": "code",
   "execution_count": 68,
   "id": "90032e27-66df-4540-9169-4e89cfbaa758",
   "metadata": {
    "execution": {
     "iopub.execute_input": "2025-07-30T14:22:03.956800Z",
     "iopub.status.busy": "2025-07-30T14:22:03.956125Z",
     "iopub.status.idle": "2025-07-30T14:22:03.968071Z",
     "shell.execute_reply": "2025-07-30T14:22:03.967023Z"
    },
    "papermill": {
     "duration": 0.040016,
     "end_time": "2025-07-30T14:22:03.969948",
     "exception": false,
     "start_time": "2025-07-30T14:22:03.929932",
     "status": "completed"
    },
    "tags": []
   },
   "outputs": [],
   "source": [
    "subgroups = ['frau1','nongerman','nongerman_male','nongerman_female']\n",
    "\n",
    "# Conditional coverage for subgroup==1\n",
    "cond_coverage = {\n",
    "    g: cp_groups_df.loc[cp_groups_df[g]==1, 'covered'].mean()\n",
    "    for g in subgroups\n",
    "}"
   ]
  },
  {
   "cell_type": "code",
   "execution_count": 69,
   "id": "1e348fb1-b9c3-45bc-ba23-f016827a7e0d",
   "metadata": {
    "execution": {
     "iopub.execute_input": "2025-07-30T14:22:04.021103Z",
     "iopub.status.busy": "2025-07-30T14:22:04.020309Z",
     "iopub.status.idle": "2025-07-30T14:22:04.028042Z",
     "shell.execute_reply": "2025-07-30T14:22:04.027111Z"
    },
    "papermill": {
     "duration": 0.034618,
     "end_time": "2025-07-30T14:22:04.029654",
     "exception": false,
     "start_time": "2025-07-30T14:22:03.995036",
     "status": "completed"
    },
    "tags": []
   },
   "outputs": [
    {
     "data": {
      "text/plain": [
       "{'frau1': 0.9071572988273352,\n",
       " 'nongerman': 0.9072587436142143,\n",
       " 'nongerman_male': 0.9252454291632892,\n",
       " 'nongerman_female': 0.8774962742175857}"
      ]
     },
     "execution_count": 69,
     "metadata": {},
     "output_type": "execute_result"
    }
   ],
   "source": [
    "cond_coverage"
   ]
  },
  {
   "cell_type": "code",
   "execution_count": 70,
   "id": "f5093324-c3dd-4d63-bc4c-8d945e5c8bbb",
   "metadata": {
    "execution": {
     "iopub.execute_input": "2025-07-30T14:22:04.081109Z",
     "iopub.status.busy": "2025-07-30T14:22:04.080473Z",
     "iopub.status.idle": "2025-07-30T14:22:04.087626Z",
     "shell.execute_reply": "2025-07-30T14:22:04.086674Z"
    },
    "papermill": {
     "duration": 0.033788,
     "end_time": "2025-07-30T14:22:04.089311",
     "exception": false,
     "start_time": "2025-07-30T14:22:04.055523",
     "status": "completed"
    },
    "tags": []
   },
   "outputs": [],
   "source": [
    "for subgroup, cov in cond_coverage.items():\n",
    "    cp_metrics_df[f\"cov_{subgroup}\"] = cov"
   ]
  },
  {
   "cell_type": "code",
   "execution_count": 71,
   "id": "6e872e10-dbe5-49e8-b554-5030c98ff75d",
   "metadata": {
    "execution": {
     "iopub.execute_input": "2025-07-30T14:22:04.142731Z",
     "iopub.status.busy": "2025-07-30T14:22:04.141832Z",
     "iopub.status.idle": "2025-07-30T14:22:04.160683Z",
     "shell.execute_reply": "2025-07-30T14:22:04.159663Z"
    },
    "papermill": {
     "duration": 0.04769,
     "end_time": "2025-07-30T14:22:04.162519",
     "exception": false,
     "start_time": "2025-07-30T14:22:04.114829",
     "status": "completed"
    },
    "tags": []
   },
   "outputs": [
    {
     "data": {
      "text/html": [
       "<div>\n",
       "<style scoped>\n",
       "    .dataframe tbody tr th:only-of-type {\n",
       "        vertical-align: middle;\n",
       "    }\n",
       "\n",
       "    .dataframe tbody tr th {\n",
       "        vertical-align: top;\n",
       "    }\n",
       "\n",
       "    .dataframe thead th {\n",
       "        text-align: right;\n",
       "    }\n",
       "</style>\n",
       "<table border=\"1\" class=\"dataframe\">\n",
       "  <thead>\n",
       "    <tr style=\"text-align: right;\">\n",
       "      <th></th>\n",
       "      <th>universe_id</th>\n",
       "      <th>universe_training_size</th>\n",
       "      <th>universe_scale</th>\n",
       "      <th>universe_model</th>\n",
       "      <th>universe_exclude_features</th>\n",
       "      <th>universe_exclude_subgroups</th>\n",
       "      <th>q_hat</th>\n",
       "      <th>coverage</th>\n",
       "      <th>avg_size</th>\n",
       "      <th>cov_frau1</th>\n",
       "      <th>cov_nongerman</th>\n",
       "      <th>cov_nongerman_male</th>\n",
       "      <th>cov_nongerman_female</th>\n",
       "    </tr>\n",
       "  </thead>\n",
       "  <tbody>\n",
       "    <tr>\n",
       "      <th>0</th>\n",
       "      <td>de1c4049fb979611d84cc5e4ec10a00e</td>\n",
       "      <td>1k</td>\n",
       "      <td>scale</td>\n",
       "      <td>gbm</td>\n",
       "      <td>none</td>\n",
       "      <td>keep-all</td>\n",
       "      <td>0.741834</td>\n",
       "      <td>0.910244</td>\n",
       "      <td>1.156493</td>\n",
       "      <td>0.907157</td>\n",
       "      <td>0.907259</td>\n",
       "      <td>0.925245</td>\n",
       "      <td>0.877496</td>\n",
       "    </tr>\n",
       "  </tbody>\n",
       "</table>\n",
       "</div>"
      ],
      "text/plain": [
       "                        universe_id universe_training_size universe_scale  \\\n",
       "0  de1c4049fb979611d84cc5e4ec10a00e                     1k          scale   \n",
       "\n",
       "  universe_model universe_exclude_features universe_exclude_subgroups  \\\n",
       "0            gbm                      none                   keep-all   \n",
       "\n",
       "      q_hat  coverage  avg_size  cov_frau1  cov_nongerman  cov_nongerman_male  \\\n",
       "0  0.741834  0.910244  1.156493   0.907157       0.907259            0.925245   \n",
       "\n",
       "   cov_nongerman_female  \n",
       "0              0.877496  "
      ]
     },
     "execution_count": 71,
     "metadata": {},
     "output_type": "execute_result"
    }
   ],
   "source": [
    "cp_metrics_df"
   ]
  },
  {
   "cell_type": "markdown",
   "id": "33774451",
   "metadata": {
    "papermill": {
     "duration": 0.024635,
     "end_time": "2025-07-30T14:22:04.216237",
     "exception": false,
     "start_time": "2025-07-30T14:22:04.191602",
     "status": "completed"
    },
    "tags": []
   },
   "source": [
    "# (Fairness) Metrics"
   ]
  },
  {
   "cell_type": "code",
   "execution_count": 72,
   "id": "debc5d62",
   "metadata": {
    "execution": {
     "iopub.execute_input": "2025-07-30T14:22:04.268100Z",
     "iopub.status.busy": "2025-07-30T14:22:04.267359Z",
     "iopub.status.idle": "2025-07-30T14:22:04.288534Z",
     "shell.execute_reply": "2025-07-30T14:22:04.287568Z"
    },
    "papermill": {
     "duration": 0.049164,
     "end_time": "2025-07-30T14:22:04.290410",
     "exception": false,
     "start_time": "2025-07-30T14:22:04.241246",
     "status": "completed"
    },
    "tags": []
   },
   "outputs": [],
   "source": [
    "# do I need to include maxdeutsch1.missing?\n",
    "\n",
    "import numpy as np\n",
    "\n",
    "colname_to_bin = \"maxdeutsch1\"\n",
    "majority_value = org_train[colname_to_bin].mode()[0]\n",
    "\n",
    "org_test[\"majmin\"] = np.where(org_test[colname_to_bin] == majority_value, \"majority\", \"minority\")"
   ]
  },
  {
   "cell_type": "code",
   "execution_count": 73,
   "id": "06a50de5",
   "metadata": {
    "execution": {
     "iopub.execute_input": "2025-07-30T14:22:04.342100Z",
     "iopub.status.busy": "2025-07-30T14:22:04.341617Z",
     "iopub.status.idle": "2025-07-30T14:22:07.100198Z",
     "shell.execute_reply": "2025-07-30T14:22:07.099224Z"
    },
    "papermill": {
     "duration": 2.786161,
     "end_time": "2025-07-30T14:22:07.101745",
     "exception": false,
     "start_time": "2025-07-30T14:22:04.315584",
     "status": "completed"
    },
    "tags": []
   },
   "outputs": [],
   "source": [
    "example_universe = universe.copy()\n",
    "example_universe[\"cutoff\"] = example_universe[\"cutoff\"][0]\n",
    "example_universe[\"eval_fairness_grouping\"] = example_universe[\"eval_fairness_grouping\"][0]\n",
    "fairness_dict, metric_frame = universe_analysis.compute_metrics(\n",
    "    example_universe,\n",
    "    y_pred_prob=probs_test,\n",
    "    y_test=y_true,\n",
    "    org_test=org_test,\n",
    ")"
   ]
  },
  {
   "cell_type": "markdown",
   "id": "f95d4e02",
   "metadata": {
    "papermill": {
     "duration": 0.026611,
     "end_time": "2025-07-30T14:22:07.156343",
     "exception": false,
     "start_time": "2025-07-30T14:22:07.129732",
     "status": "completed"
    },
    "tags": []
   },
   "source": [
    "# Overall"
   ]
  },
  {
   "cell_type": "markdown",
   "id": "bdee4871",
   "metadata": {
    "papermill": {
     "duration": 0.025914,
     "end_time": "2025-07-30T14:22:07.209218",
     "exception": false,
     "start_time": "2025-07-30T14:22:07.183304",
     "status": "completed"
    },
    "tags": []
   },
   "source": [
    "Fairness\n",
    "Main fairness target: Equalized Odds. Seems to be a better fit than equal opportunity, since we're not only interested in Y = 1. Seems to be a better fit than demographic parity, since we also care about accuracy, not just equal distribution of preds.\n",
    "\n",
    "Pick column for computation of fairness metrics\n",
    "\n",
    "Performance\n",
    "Overall performance measures, most interesting in relation to the measures split by group below"
   ]
  },
  {
   "cell_type": "code",
   "execution_count": 74,
   "id": "c4e067c6",
   "metadata": {
    "execution": {
     "iopub.execute_input": "2025-07-30T14:22:07.263877Z",
     "iopub.status.busy": "2025-07-30T14:22:07.263393Z",
     "iopub.status.idle": "2025-07-30T14:22:07.272287Z",
     "shell.execute_reply": "2025-07-30T14:22:07.271256Z"
    },
    "papermill": {
     "duration": 0.037739,
     "end_time": "2025-07-30T14:22:07.273948",
     "exception": false,
     "start_time": "2025-07-30T14:22:07.236209",
     "status": "completed"
    },
    "tags": []
   },
   "outputs": [
    {
     "data": {
      "text/plain": [
       "accuracy                   0.221792\n",
       "balanced accuracy          0.542854\n",
       "f1                         0.243195\n",
       "precision                  0.138929\n",
       "false positive rate        0.889005\n",
       "false negative rate        0.025287\n",
       "selection rate             0.900000\n",
       "count                  89710.000000\n",
       "dtype: float64"
      ]
     },
     "execution_count": 74,
     "metadata": {},
     "output_type": "execute_result"
    }
   ],
   "source": [
    "metric_frame.overall"
   ]
  },
  {
   "cell_type": "markdown",
   "id": "e968fe9d",
   "metadata": {
    "papermill": {
     "duration": 0.027258,
     "end_time": "2025-07-30T14:22:07.329224",
     "exception": false,
     "start_time": "2025-07-30T14:22:07.301966",
     "status": "completed"
    },
    "tags": []
   },
   "source": [
    "By Group"
   ]
  },
  {
   "cell_type": "code",
   "execution_count": 75,
   "id": "ec325bce",
   "metadata": {
    "execution": {
     "iopub.execute_input": "2025-07-30T14:22:07.385297Z",
     "iopub.status.busy": "2025-07-30T14:22:07.384578Z",
     "iopub.status.idle": "2025-07-30T14:22:07.397201Z",
     "shell.execute_reply": "2025-07-30T14:22:07.396365Z"
    },
    "papermill": {
     "duration": 0.042801,
     "end_time": "2025-07-30T14:22:07.398606",
     "exception": false,
     "start_time": "2025-07-30T14:22:07.355805",
     "status": "completed"
    },
    "tags": []
   },
   "outputs": [
    {
     "data": {
      "text/html": [
       "<div>\n",
       "<style scoped>\n",
       "    .dataframe tbody tr th:only-of-type {\n",
       "        vertical-align: middle;\n",
       "    }\n",
       "\n",
       "    .dataframe tbody tr th {\n",
       "        vertical-align: top;\n",
       "    }\n",
       "\n",
       "    .dataframe thead th {\n",
       "        text-align: right;\n",
       "    }\n",
       "</style>\n",
       "<table border=\"1\" class=\"dataframe\">\n",
       "  <thead>\n",
       "    <tr style=\"text-align: right;\">\n",
       "      <th></th>\n",
       "      <th>accuracy</th>\n",
       "      <th>balanced accuracy</th>\n",
       "      <th>f1</th>\n",
       "      <th>precision</th>\n",
       "      <th>false positive rate</th>\n",
       "      <th>false negative rate</th>\n",
       "      <th>selection rate</th>\n",
       "      <th>count</th>\n",
       "    </tr>\n",
       "    <tr>\n",
       "      <th>majmin</th>\n",
       "      <th></th>\n",
       "      <th></th>\n",
       "      <th></th>\n",
       "      <th></th>\n",
       "      <th></th>\n",
       "      <th></th>\n",
       "      <th></th>\n",
       "      <th></th>\n",
       "    </tr>\n",
       "  </thead>\n",
       "  <tbody>\n",
       "    <tr>\n",
       "      <th>majority</th>\n",
       "      <td>0.243386</td>\n",
       "      <td>0.551479</td>\n",
       "      <td>0.253115</td>\n",
       "      <td>0.145542</td>\n",
       "      <td>0.867283</td>\n",
       "      <td>0.029759</td>\n",
       "      <td>0.880888</td>\n",
       "      <td>69170.0</td>\n",
       "    </tr>\n",
       "    <tr>\n",
       "      <th>minority</th>\n",
       "      <td>0.149075</td>\n",
       "      <td>0.515606</td>\n",
       "      <td>0.211851</td>\n",
       "      <td>0.118588</td>\n",
       "      <td>0.960764</td>\n",
       "      <td>0.008024</td>\n",
       "      <td>0.964362</td>\n",
       "      <td>20540.0</td>\n",
       "    </tr>\n",
       "  </tbody>\n",
       "</table>\n",
       "</div>"
      ],
      "text/plain": [
       "          accuracy  balanced accuracy        f1  precision  \\\n",
       "majmin                                                       \n",
       "majority  0.243386           0.551479  0.253115   0.145542   \n",
       "minority  0.149075           0.515606  0.211851   0.118588   \n",
       "\n",
       "          false positive rate  false negative rate  selection rate    count  \n",
       "majmin                                                                       \n",
       "majority             0.867283             0.029759        0.880888  69170.0  \n",
       "minority             0.960764             0.008024        0.964362  20540.0  "
      ]
     },
     "execution_count": 75,
     "metadata": {},
     "output_type": "execute_result"
    }
   ],
   "source": [
    "metric_frame.by_group"
   ]
  },
  {
   "cell_type": "code",
   "execution_count": 76,
   "id": "a9ddbe63",
   "metadata": {
    "execution": {
     "iopub.execute_input": "2025-07-30T14:22:07.430247Z",
     "iopub.status.busy": "2025-07-30T14:22:07.429761Z",
     "iopub.status.idle": "2025-07-30T14:22:09.106310Z",
     "shell.execute_reply": "2025-07-30T14:22:09.105342Z"
    },
    "papermill": {
     "duration": 1.693498,
     "end_time": "2025-07-30T14:22:09.108055",
     "exception": false,
     "start_time": "2025-07-30T14:22:07.414557",
     "status": "completed"
    },
    "tags": []
   },
   "outputs": [
    {
     "data": {
      "text/plain": [
       "array([[<Axes: title={'center': 'accuracy'}, xlabel='majmin'>,\n",
       "        <Axes: title={'center': 'balanced accuracy'}, xlabel='majmin'>,\n",
       "        <Axes: title={'center': 'f1'}, xlabel='majmin'>],\n",
       "       [<Axes: title={'center': 'precision'}, xlabel='majmin'>,\n",
       "        <Axes: title={'center': 'false positive rate'}, xlabel='majmin'>,\n",
       "        <Axes: title={'center': 'false negative rate'}, xlabel='majmin'>],\n",
       "       [<Axes: title={'center': 'selection rate'}, xlabel='majmin'>,\n",
       "        <Axes: title={'center': 'count'}, xlabel='majmin'>,\n",
       "        <Axes: xlabel='majmin'>]], dtype=object)"
      ]
     },
     "execution_count": 76,
     "metadata": {},
     "output_type": "execute_result"
    },
    {
     "data": {
      "image/png": "[encoded data removed]",
      "text/plain": [
       "<Figure size 1200x800 with 9 Axes>"
      ]
     },
     "metadata": {},
     "output_type": "display_data"
    }
   ],
   "source": [
    "# In a graphic\n",
    "metric_frame.by_group.plot.bar(\n",
    "    subplots=True,\n",
    "    layout=[3, 3],\n",
    "    legend=False,\n",
    "    figsize=[12, 8],\n",
    "    title=\"Show all metrics\",\n",
    ")"
   ]
  },
  {
   "cell_type": "markdown",
   "id": "f57a0bac",
   "metadata": {
    "papermill": {
     "duration": 0.028893,
     "end_time": "2025-07-30T14:22:09.168405",
     "exception": false,
     "start_time": "2025-07-30T14:22:09.139512",
     "status": "completed"
    },
    "tags": []
   },
   "source": [
    "# Final Output"
   ]
  },
  {
   "cell_type": "code",
   "execution_count": 77,
   "id": "96d280a3",
   "metadata": {
    "execution": {
     "iopub.execute_input": "2025-07-30T14:22:09.228807Z",
     "iopub.status.busy": "2025-07-30T14:22:09.228156Z",
     "iopub.status.idle": "2025-07-30T14:22:09.236691Z",
     "shell.execute_reply": "2025-07-30T14:22:09.235114Z"
    },
    "papermill": {
     "duration": 0.039949,
     "end_time": "2025-07-30T14:22:09.238703",
     "exception": false,
     "start_time": "2025-07-30T14:22:09.198754",
     "status": "completed"
    },
    "tags": []
   },
   "outputs": [
    {
     "data": {
      "text/plain": [
       "4"
      ]
     },
     "execution_count": 77,
     "metadata": {},
     "output_type": "execute_result"
    }
   ],
   "source": [
    "sub_universes = universe_analysis.generate_sub_universes()\n",
    "len(sub_universes)"
   ]
  },
  {
   "cell_type": "code",
   "execution_count": 78,
   "id": "92adf7ba",
   "metadata": {
    "execution": {
     "iopub.execute_input": "2025-07-30T14:22:09.300397Z",
     "iopub.status.busy": "2025-07-30T14:22:09.299594Z",
     "iopub.status.idle": "2025-07-30T14:22:09.305995Z",
     "shell.execute_reply": "2025-07-30T14:22:09.305049Z"
    },
    "papermill": {
     "duration": 0.038238,
     "end_time": "2025-07-30T14:22:09.307642",
     "exception": false,
     "start_time": "2025-07-30T14:22:09.269404",
     "status": "completed"
    },
    "tags": []
   },
   "outputs": [],
   "source": [
    "def filter_sub_universe_data(sub_universe, org_test):\n",
    "    # Keep all rows — no filtering\n",
    "    keep_rows_mask = np.ones(org_test.shape[0], dtype=bool)\n",
    "\n",
    "    print(f\"[INFO] Keeping all rows: {keep_rows_mask.sum()} rows retained.\")\n",
    "    return keep_rows_mask"
   ]
  },
  {
   "cell_type": "code",
   "execution_count": 79,
   "id": "4a759155",
   "metadata": {
    "execution": {
     "iopub.execute_input": "2025-07-30T14:22:09.369200Z",
     "iopub.status.busy": "2025-07-30T14:22:09.368742Z",
     "iopub.status.idle": "2025-07-30T14:22:18.656443Z",
     "shell.execute_reply": "2025-07-30T14:22:18.655575Z"
    },
    "papermill": {
     "duration": 9.319363,
     "end_time": "2025-07-30T14:22:18.657882",
     "exception": false,
     "start_time": "2025-07-30T14:22:09.338519",
     "status": "completed"
    },
    "tags": []
   },
   "outputs": [
    {
     "name": "stdout",
     "output_type": "stream",
     "text": [
      "Stopping execution_time clock.\n",
      "[INFO] Keeping all rows: 89710 rows retained.\n"
     ]
    },
    {
     "name": "stdout",
     "output_type": "stream",
     "text": [
      "[INFO] Keeping all rows: 89710 rows retained.\n"
     ]
    },
    {
     "name": "stdout",
     "output_type": "stream",
     "text": [
      "[INFO] Keeping all rows: 89710 rows retained.\n"
     ]
    },
    {
     "name": "stdout",
     "output_type": "stream",
     "text": [
      "[INFO] Keeping all rows: 89710 rows retained.\n"
     ]
    },
    {
     "data": {
      "text/html": [
       "<div>\n",
       "<style scoped>\n",
       "    .dataframe tbody tr th:only-of-type {\n",
       "        vertical-align: middle;\n",
       "    }\n",
       "\n",
       "    .dataframe tbody tr th {\n",
       "        vertical-align: top;\n",
       "    }\n",
       "\n",
       "    .dataframe thead th {\n",
       "        text-align: right;\n",
       "    }\n",
       "</style>\n",
       "<table border=\"1\" class=\"dataframe\">\n",
       "  <thead>\n",
       "    <tr style=\"text-align: right;\">\n",
       "      <th></th>\n",
       "      <th>run_no</th>\n",
       "      <th>universe_id</th>\n",
       "      <th>universe_settings</th>\n",
       "      <th>execution_time</th>\n",
       "      <th>test_size_n</th>\n",
       "      <th>test_size_frac</th>\n",
       "      <th>fair_main_equalized_odds_difference</th>\n",
       "      <th>fair_main_equalized_odds_ratio</th>\n",
       "      <th>fair_main_demographic_parity_difference</th>\n",
       "      <th>fair_main_demographic_parity_ratio</th>\n",
       "      <th>...</th>\n",
       "      <th>perf_grp_precision_0</th>\n",
       "      <th>perf_grp_precision_1</th>\n",
       "      <th>perf_grp_false positive rate_0</th>\n",
       "      <th>perf_grp_false positive rate_1</th>\n",
       "      <th>perf_grp_false negative rate_0</th>\n",
       "      <th>perf_grp_false negative rate_1</th>\n",
       "      <th>perf_grp_selection rate_0</th>\n",
       "      <th>perf_grp_selection rate_1</th>\n",
       "      <th>perf_grp_count_0</th>\n",
       "      <th>perf_grp_count_1</th>\n",
       "    </tr>\n",
       "  </thead>\n",
       "  <tbody>\n",
       "    <tr>\n",
       "      <th>0</th>\n",
       "      <td>12</td>\n",
       "      <td>de1c4049fb979611d84cc5e4ec10a00e</td>\n",
       "      <td>{\"cutoff\": \"quantile_0.1\", \"eval_fairness_grou...</td>\n",
       "      <td>29.177721</td>\n",
       "      <td>89710</td>\n",
       "      <td>1.0</td>\n",
       "      <td>0.093481</td>\n",
       "      <td>0.902702</td>\n",
       "      <td>0.083475</td>\n",
       "      <td>0.913441</td>\n",
       "      <td>...</td>\n",
       "      <td>NaN</td>\n",
       "      <td>NaN</td>\n",
       "      <td>NaN</td>\n",
       "      <td>NaN</td>\n",
       "      <td>NaN</td>\n",
       "      <td>NaN</td>\n",
       "      <td>NaN</td>\n",
       "      <td>NaN</td>\n",
       "      <td>NaN</td>\n",
       "      <td>NaN</td>\n",
       "    </tr>\n",
       "    <tr>\n",
       "      <th>0</th>\n",
       "      <td>12</td>\n",
       "      <td>de1c4049fb979611d84cc5e4ec10a00e</td>\n",
       "      <td>{\"cutoff\": \"quantile_0.1\", \"eval_fairness_grou...</td>\n",
       "      <td>29.177721</td>\n",
       "      <td>89710</td>\n",
       "      <td>1.0</td>\n",
       "      <td>0.093481</td>\n",
       "      <td>0.902702</td>\n",
       "      <td>0.083475</td>\n",
       "      <td>0.913441</td>\n",
       "      <td>...</td>\n",
       "      <td>0.118588</td>\n",
       "      <td>0.145542</td>\n",
       "      <td>0.960764</td>\n",
       "      <td>0.867283</td>\n",
       "      <td>0.008024</td>\n",
       "      <td>0.029759</td>\n",
       "      <td>0.964362</td>\n",
       "      <td>0.880888</td>\n",
       "      <td>20540.0</td>\n",
       "      <td>69170.0</td>\n",
       "    </tr>\n",
       "    <tr>\n",
       "      <th>0</th>\n",
       "      <td>12</td>\n",
       "      <td>de1c4049fb979611d84cc5e4ec10a00e</td>\n",
       "      <td>{\"cutoff\": \"quantile_0.25\", \"eval_fairness_gro...</td>\n",
       "      <td>29.177721</td>\n",
       "      <td>89710</td>\n",
       "      <td>1.0</td>\n",
       "      <td>0.114462</td>\n",
       "      <td>0.859250</td>\n",
       "      <td>0.099141</td>\n",
       "      <td>0.880038</td>\n",
       "      <td>...</td>\n",
       "      <td>NaN</td>\n",
       "      <td>NaN</td>\n",
       "      <td>NaN</td>\n",
       "      <td>NaN</td>\n",
       "      <td>NaN</td>\n",
       "      <td>NaN</td>\n",
       "      <td>NaN</td>\n",
       "      <td>NaN</td>\n",
       "      <td>NaN</td>\n",
       "      <td>NaN</td>\n",
       "    </tr>\n",
       "    <tr>\n",
       "      <th>0</th>\n",
       "      <td>12</td>\n",
       "      <td>de1c4049fb979611d84cc5e4ec10a00e</td>\n",
       "      <td>{\"cutoff\": \"quantile_0.25\", \"eval_fairness_gro...</td>\n",
       "      <td>29.177721</td>\n",
       "      <td>89710</td>\n",
       "      <td>1.0</td>\n",
       "      <td>0.114462</td>\n",
       "      <td>0.859250</td>\n",
       "      <td>0.099141</td>\n",
       "      <td>0.880038</td>\n",
       "      <td>...</td>\n",
       "      <td>0.129426</td>\n",
       "      <td>0.166180</td>\n",
       "      <td>0.813229</td>\n",
       "      <td>0.698767</td>\n",
       "      <td>0.072213</td>\n",
       "      <td>0.085339</td>\n",
       "      <td>0.826436</td>\n",
       "      <td>0.727295</td>\n",
       "      <td>20540.0</td>\n",
       "      <td>69170.0</td>\n",
       "    </tr>\n",
       "  </tbody>\n",
       "</table>\n",
       "<p>4 rows × 50 columns</p>\n",
       "</div>"
      ],
      "text/plain": [
       "  run_no                       universe_id  \\\n",
       "0     12  de1c4049fb979611d84cc5e4ec10a00e   \n",
       "0     12  de1c4049fb979611d84cc5e4ec10a00e   \n",
       "0     12  de1c4049fb979611d84cc5e4ec10a00e   \n",
       "0     12  de1c4049fb979611d84cc5e4ec10a00e   \n",
       "\n",
       "                                   universe_settings  execution_time  \\\n",
       "0  {\"cutoff\": \"quantile_0.1\", \"eval_fairness_grou...       29.177721   \n",
       "0  {\"cutoff\": \"quantile_0.1\", \"eval_fairness_grou...       29.177721   \n",
       "0  {\"cutoff\": \"quantile_0.25\", \"eval_fairness_gro...       29.177721   \n",
       "0  {\"cutoff\": \"quantile_0.25\", \"eval_fairness_gro...       29.177721   \n",
       "\n",
       "   test_size_n  test_size_frac  fair_main_equalized_odds_difference  \\\n",
       "0        89710             1.0                             0.093481   \n",
       "0        89710             1.0                             0.093481   \n",
       "0        89710             1.0                             0.114462   \n",
       "0        89710             1.0                             0.114462   \n",
       "\n",
       "   fair_main_equalized_odds_ratio  fair_main_demographic_parity_difference  \\\n",
       "0                        0.902702                                 0.083475   \n",
       "0                        0.902702                                 0.083475   \n",
       "0                        0.859250                                 0.099141   \n",
       "0                        0.859250                                 0.099141   \n",
       "\n",
       "   fair_main_demographic_parity_ratio  ...  perf_grp_precision_0  \\\n",
       "0                            0.913441  ...                   NaN   \n",
       "0                            0.913441  ...              0.118588   \n",
       "0                            0.880038  ...                   NaN   \n",
       "0                            0.880038  ...              0.129426   \n",
       "\n",
       "   perf_grp_precision_1  perf_grp_false positive rate_0  \\\n",
       "0                   NaN                             NaN   \n",
       "0              0.145542                        0.960764   \n",
       "0                   NaN                             NaN   \n",
       "0              0.166180                        0.813229   \n",
       "\n",
       "   perf_grp_false positive rate_1  perf_grp_false negative rate_0  \\\n",
       "0                             NaN                             NaN   \n",
       "0                        0.867283                        0.008024   \n",
       "0                             NaN                             NaN   \n",
       "0                        0.698767                        0.072213   \n",
       "\n",
       "   perf_grp_false negative rate_1  perf_grp_selection rate_0  \\\n",
       "0                             NaN                        NaN   \n",
       "0                        0.029759                   0.964362   \n",
       "0                             NaN                        NaN   \n",
       "0                        0.085339                   0.826436   \n",
       "\n",
       "   perf_grp_selection rate_1  perf_grp_count_0  perf_grp_count_1  \n",
       "0                        NaN               NaN               NaN  \n",
       "0                   0.880888           20540.0           69170.0  \n",
       "0                        NaN               NaN               NaN  \n",
       "0                   0.727295           20540.0           69170.0  \n",
       "\n",
       "[4 rows x 50 columns]"
      ]
     },
     "execution_count": 79,
     "metadata": {},
     "output_type": "execute_result"
    }
   ],
   "source": [
    "final_output = universe_analysis.generate_final_output(\n",
    "    y_pred_prob=probs_test,\n",
    "    y_test=y_true,\n",
    "    org_test=org_test,\n",
    "    filter_data=filter_sub_universe_data,\n",
    "    cp_metrics_df=cp_metrics_df,\n",
    "    save=True,\n",
    ")\n",
    "final_output"
   ]
  },
  {
   "cell_type": "code",
   "execution_count": null,
   "id": "721ff514-cb11-46f8-b6fc-50392f74b5cb",
   "metadata": {
    "papermill": {
     "duration": 0.017003,
     "end_time": "2025-07-30T14:22:18.694300",
     "exception": false,
     "start_time": "2025-07-30T14:22:18.677297",
     "status": "completed"
    },
    "tags": []
   },
   "outputs": [],
   "source": []
  }
 ],
 "metadata": {
  "celltoolbar": "Tags",
  "kernelspec": {
   "display_name": "Python (CMA Fairness)",
   "language": "python",
   "name": "cma_fair_env"
  },
  "language_info": {
   "codemirror_mode": {
    "name": "ipython",
    "version": 3
   },
   "file_extension": ".py",
   "mimetype": "text/x-python",
   "name": "python",
   "nbconvert_exporter": "python",
   "pygments_lexer": "ipython3",
   "version": "3.10.12"
  },
  "papermill": {
   "default_parameters": {},
   "duration": 42.963217,
   "end_time": "2025-07-30T14:22:19.530377",
   "environment_variables": {},
   "exception": null,
   "input_path": "universe_analysis.ipynb",
   "output_path": "output/runs/12/notebooks/m_12-de1c4049fb979611d84cc5e4ec10a00e.ipynb",
   "parameters": {
    "output_dir": "output",
    "run_no": "12",
    "seed": "2023",
    "universe": "{\"cutoff\": [\"quantile_0.1\", \"quantile_0.25\"], \"eval_fairness_grouping\": [\"majority-minority\", \"nationality-all\"], \"exclude_features\": \"none\", \"exclude_subgroups\": \"keep-all\", \"model\": \"gbm\", \"scale\": \"scale\", \"training_size\": \"1k\", \"training_year\": \"2014\"}",
    "universe_id": "de1c4049fb979611d84cc5e4ec10a00e"
   },
   "start_time": "2025-07-30T14:21:36.567160",
   "version": "2.6.0"
  }
 },
 "nbformat": 4,
 "nbformat_minor": 5
}