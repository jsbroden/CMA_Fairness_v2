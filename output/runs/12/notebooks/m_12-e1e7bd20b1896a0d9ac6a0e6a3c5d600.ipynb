{
 "cells": [
  {
   "cell_type": "code",
   "execution_count": 1,
   "id": "f159f837-637b-42ba-96b5-ec9a68c44524",
   "metadata": {
    "execution": {
     "iopub.execute_input": "2025-07-30T14:20:15.439440Z",
     "iopub.status.busy": "2025-07-30T14:20:15.438876Z",
     "iopub.status.idle": "2025-07-30T14:20:15.454975Z",
     "shell.execute_reply": "2025-07-30T14:20:15.453800Z"
    },
    "papermill": {
     "duration": 0.038864,
     "end_time": "2025-07-30T14:20:15.456895",
     "exception": false,
     "start_time": "2025-07-30T14:20:15.418031",
     "status": "completed"
    },
    "tags": []
   },
   "outputs": [
    {
     "name": "stdout",
     "output_type": "stream",
     "text": [
      "/dss/dsshome1/0C/ra93lal2/cma/CMA_Fairness_v2\n"
     ]
    },
    {
     "name": "stderr",
     "output_type": "stream",
     "text": [
      "/dss/dsshome1/0C/ra93lal2/.local/share/virtualenvs/CMA_Fairness_v2-3j10GkSs/lib/python3.10/site-packages/IPython/core/magics/osm.py:393: UserWarning: This is now an optional IPython functionality, using bookmarks requires you to install the `pickleshare` library.\n",
      "  bkms = self.shell.db.get('bookmarks', {})\n",
      "/dss/dsshome1/0C/ra93lal2/.local/share/virtualenvs/CMA_Fairness_v2-3j10GkSs/lib/python3.10/site-packages/IPython/core/magics/osm.py:417: UserWarning: This is now an optional IPython functionality, setting dhist requires you to install the `pickleshare` library.\n",
      "  self.shell.db['dhist'] = compress_dhist(dhist)[-100:]\n"
     ]
    }
   ],
   "source": [
    "%cd ~/cma/CMA_Fairness_v2"
   ]
  },
  {
   "cell_type": "markdown",
   "id": "de2603b9",
   "metadata": {
    "papermill": {
     "duration": 0.020323,
     "end_time": "2025-07-30T14:20:15.497791",
     "exception": false,
     "start_time": "2025-07-30T14:20:15.477468",
     "status": "completed"
    },
    "tags": []
   },
   "source": [
    "The following cell holds the definition of our parameters, these values can be overriden by rendering the with e.g. the following command:\n",
    "\n",
    "papermill -p alpha 0.2 -p ratio 0.3 universe_analysis.ipynb output/test_run.ipynb"
   ]
  },
  {
   "cell_type": "code",
   "execution_count": 2,
   "id": "a80968a0-40bb-4fa9-85ef-2d5eefb01975",
   "metadata": {
    "execution": {
     "iopub.execute_input": "2025-07-30T14:20:15.540826Z",
     "iopub.status.busy": "2025-07-30T14:20:15.540470Z",
     "iopub.status.idle": "2025-07-30T14:20:15.545653Z",
     "shell.execute_reply": "2025-07-30T14:20:15.544681Z"
    },
    "papermill": {
     "duration": 0.027373,
     "end_time": "2025-07-30T14:20:15.547564",
     "exception": false,
     "start_time": "2025-07-30T14:20:15.520191",
     "status": "completed"
    },
    "tags": []
   },
   "outputs": [
    {
     "name": "stdout",
     "output_type": "stream",
     "text": [
      "Current working directory: /dss/dsshome1/0C/ra93lal2/cma/CMA_Fairness_v2\n"
     ]
    }
   ],
   "source": [
    "import os\n",
    "print(\"Current working directory:\", os.getcwd())"
   ]
  },
  {
   "cell_type": "code",
   "execution_count": 3,
   "id": "2dce4c03",
   "metadata": {
    "execution": {
     "iopub.execute_input": "2025-07-30T14:20:15.599065Z",
     "iopub.status.busy": "2025-07-30T14:20:15.598100Z",
     "iopub.status.idle": "2025-07-30T14:20:15.606162Z",
     "shell.execute_reply": "2025-07-30T14:20:15.604953Z"
    },
    "papermill": {
     "duration": 0.037528,
     "end_time": "2025-07-30T14:20:15.608297",
     "exception": false,
     "start_time": "2025-07-30T14:20:15.570769",
     "status": "completed"
    },
    "tags": [
     "parameters"
    ]
   },
   "outputs": [],
   "source": [
    "run_no = 0\n",
    "universe_id = \"test\"\n",
    "universe = {\n",
    "    \"training_size\": \"25k\", # \"25k\", \"5k\", \"1k\"\n",
    "    \"training_year\": \"2014\", # \"2014\", \"2012_14\", \"2010_14\"\n",
    "    \"scale\": \"scale\", # \"scale\", \"do-not-scale\",\n",
    "    #\"stratify_split\": \"target\", # \"none\", \"target\", \"protected-attribute\", \"both\",\n",
    "    \"model\": \"elasticnet\", # \"logreg\", \"penalized_logreg\", \"rf\", \"gbm\", \"elasticnet\"\n",
    "    \"cutoff\": [\"quantile_0.15\", \"quantile_0.30\"],\n",
    "    \"exclude_features\": \"age\", # \"none\", \"nationality\", \"sex\", \"nationality-sex\", \"age\"\n",
    "    \"exclude_subgroups\": \"keep-all\", # \"keep-all\", \"drop-non-german\"\n",
    "    \"eval_fairness_grouping\": [\"majority-minority\", \"nationality-all\"]\n",
    "}\n",
    "\n",
    "output_dir=\"./output\"\n",
    "seed=0"
   ]
  },
  {
   "cell_type": "code",
   "execution_count": 4,
   "id": "07570fc6",
   "metadata": {
    "execution": {
     "iopub.execute_input": "2025-07-30T14:20:15.663190Z",
     "iopub.status.busy": "2025-07-30T14:20:15.662754Z",
     "iopub.status.idle": "2025-07-30T14:20:15.666750Z",
     "shell.execute_reply": "2025-07-30T14:20:15.666018Z"
    },
    "papermill": {
     "duration": 0.028891,
     "end_time": "2025-07-30T14:20:15.668162",
     "exception": false,
     "start_time": "2025-07-30T14:20:15.639271",
     "status": "completed"
    },
    "tags": [
     "injected-parameters"
    ]
   },
   "outputs": [],
   "source": [
    "# Parameters\n",
    "universe_id = \"e1e7bd20b1896a0d9ac6a0e6a3c5d600\"\n",
    "run_no = \"12\"\n",
    "universe = \"{\\\"cutoff\\\": [\\\"quantile_0.1\\\", \\\"quantile_0.25\\\"], \\\"eval_fairness_grouping\\\": [\\\"majority-minority\\\", \\\"nationality-all\\\"], \\\"exclude_features\\\": \\\"nationality-sex\\\", \\\"exclude_subgroups\\\": \\\"keep-all\\\", \\\"model\\\": \\\"penalized_logreg\\\", \\\"scale\\\": \\\"scale\\\", \\\"training_size\\\": \\\"1k\\\", \\\"training_year\\\": \\\"2014\\\"}\"\n",
    "output_dir = \"output\"\n",
    "seed = \"2023\"\n"
   ]
  },
  {
   "cell_type": "code",
   "execution_count": 5,
   "id": "1650acaf",
   "metadata": {
    "execution": {
     "iopub.execute_input": "2025-07-30T14:20:15.708405Z",
     "iopub.status.busy": "2025-07-30T14:20:15.708026Z",
     "iopub.status.idle": "2025-07-30T14:20:15.784254Z",
     "shell.execute_reply": "2025-07-30T14:20:15.782959Z"
    },
    "papermill": {
     "duration": 0.098286,
     "end_time": "2025-07-30T14:20:15.786343",
     "exception": false,
     "start_time": "2025-07-30T14:20:15.688057",
     "status": "completed"
    },
    "tags": []
   },
   "outputs": [],
   "source": [
    "import json\n",
    "# Parse universe into dict if it is passed as a string\n",
    "if isinstance(universe, str):\n",
    "    universe = json.loads(universe)"
   ]
  },
  {
   "cell_type": "code",
   "execution_count": 6,
   "id": "16620c48",
   "metadata": {
    "execution": {
     "iopub.execute_input": "2025-07-30T14:20:15.827853Z",
     "iopub.status.busy": "2025-07-30T14:20:15.827037Z",
     "iopub.status.idle": "2025-07-30T14:20:15.876685Z",
     "shell.execute_reply": "2025-07-30T14:20:15.875689Z"
    },
    "papermill": {
     "duration": 0.072215,
     "end_time": "2025-07-30T14:20:15.878801",
     "exception": false,
     "start_time": "2025-07-30T14:20:15.806586",
     "status": "completed"
    },
    "tags": []
   },
   "outputs": [],
   "source": [
    "# Auto-reload the custom package\n",
    "%load_ext autoreload\n",
    "%autoreload 1\n",
    "%aimport fairness_multiverse"
   ]
  },
  {
   "cell_type": "code",
   "execution_count": 7,
   "id": "01c5c9f3",
   "metadata": {
    "execution": {
     "iopub.execute_input": "2025-07-30T14:20:15.921246Z",
     "iopub.status.busy": "2025-07-30T14:20:15.920450Z",
     "iopub.status.idle": "2025-07-30T14:20:17.814386Z",
     "shell.execute_reply": "2025-07-30T14:20:17.813530Z"
    },
    "papermill": {
     "duration": 1.91683,
     "end_time": "2025-07-30T14:20:17.815985",
     "exception": false,
     "start_time": "2025-07-30T14:20:15.899155",
     "status": "completed"
    },
    "tags": []
   },
   "outputs": [],
   "source": [
    "from fairness_multiverse.universe import UniverseAnalysis\n",
    "\n",
    "universe_analysis = UniverseAnalysis(\n",
    "    run_no = run_no,\n",
    "    universe_id = universe_id,\n",
    "    universe = universe,\n",
    "    output_dir=output_dir,\n",
    ")"
   ]
  },
  {
   "cell_type": "code",
   "execution_count": 8,
   "id": "106241f5",
   "metadata": {
    "execution": {
     "iopub.execute_input": "2025-07-30T14:20:17.865878Z",
     "iopub.status.busy": "2025-07-30T14:20:17.865393Z",
     "iopub.status.idle": "2025-07-30T14:20:17.873721Z",
     "shell.execute_reply": "2025-07-30T14:20:17.872688Z"
    },
    "papermill": {
     "duration": 0.040263,
     "end_time": "2025-07-30T14:20:17.875455",
     "exception": false,
     "start_time": "2025-07-30T14:20:17.835192",
     "status": "completed"
    },
    "tags": []
   },
   "outputs": [
    {
     "name": "stdout",
     "output_type": "stream",
     "text": [
      "Using Seed: 2023\n"
     ]
    }
   ],
   "source": [
    "import numpy as np\n",
    "parsed_seed = int(seed)\n",
    "np.random.seed(parsed_seed)\n",
    "print(f\"Using Seed: {parsed_seed}\")"
   ]
  },
  {
   "cell_type": "markdown",
   "id": "e0ebdc57",
   "metadata": {
    "papermill": {
     "duration": 0.019263,
     "end_time": "2025-07-30T14:20:17.915018",
     "exception": false,
     "start_time": "2025-07-30T14:20:17.895755",
     "status": "completed"
    },
    "tags": []
   },
   "source": [
    "# Loading Data"
   ]
  },
  {
   "cell_type": "markdown",
   "id": "681925a3",
   "metadata": {
    "papermill": {
     "duration": 0.019502,
     "end_time": "2025-07-30T14:20:17.953694",
     "exception": false,
     "start_time": "2025-07-30T14:20:17.934192",
     "status": "completed"
    },
    "tags": []
   },
   "source": [
    "Load siab_train, siab_test, siab_calib and/or \n",
    "load siab_train_features, siab_train_labels"
   ]
  },
  {
   "cell_type": "code",
   "execution_count": 9,
   "id": "f0496b8a",
   "metadata": {
    "execution": {
     "iopub.execute_input": "2025-07-30T14:20:17.997383Z",
     "iopub.status.busy": "2025-07-30T14:20:17.996874Z",
     "iopub.status.idle": "2025-07-30T14:20:29.984055Z",
     "shell.execute_reply": "2025-07-30T14:20:29.982906Z"
    },
    "papermill": {
     "duration": 12.010957,
     "end_time": "2025-07-30T14:20:29.985732",
     "exception": false,
     "start_time": "2025-07-30T14:20:17.974775",
     "status": "completed"
    },
    "tags": []
   },
   "outputs": [
    {
     "name": "stdout",
     "output_type": "stream",
     "text": [
      "Loading SIAB data from cache: data/siab_cached.csv.gz\n"
     ]
    },
    {
     "name": "stdout",
     "output_type": "stream",
     "text": [
      "(643690, 164)\n"
     ]
    }
   ],
   "source": [
    "from pathlib import Path\n",
    "import pandas as pd\n",
    "\n",
    "# File paths\n",
    "raw_file = Path(\"data/raw/siab.csv\")\n",
    "cache_file = Path(\"data/siab_cached.csv.gz\")\n",
    "\n",
    "# Ensure cache directory exists\n",
    "cache_file.parent.mkdir(parents=True, exist_ok=True)\n",
    "\n",
    "# Load with simple caching\n",
    "if cache_file.exists():\n",
    "    print(f\"Loading SIAB data from cache: {cache_file}\")\n",
    "    siab = pd.read_csv(cache_file, compression='gzip')\n",
    "else:\n",
    "    print(f\"Cache not found. Reading raw SIAB data: {raw_file}\")\n",
    "    siab = pd.read_csv(raw_file)\n",
    "    siab.to_csv(cache_file, index=False, compression='gzip')\n",
    "    print(f\"Cached SIAB data to: {cache_file}\")\n",
    "\n",
    "# Now use `siab` DataFrame as needed\n",
    "print(siab.shape)"
   ]
  },
  {
   "cell_type": "code",
   "execution_count": 10,
   "id": "db0ca512-5f53-4dba-abdb-a2888bca41ba",
   "metadata": {
    "execution": {
     "iopub.execute_input": "2025-07-30T14:20:30.031338Z",
     "iopub.status.busy": "2025-07-30T14:20:30.030624Z",
     "iopub.status.idle": "2025-07-30T14:20:30.036877Z",
     "shell.execute_reply": "2025-07-30T14:20:30.035856Z"
    },
    "papermill": {
     "duration": 0.029637,
     "end_time": "2025-07-30T14:20:30.038774",
     "exception": false,
     "start_time": "2025-07-30T14:20:30.009137",
     "status": "completed"
    },
    "tags": []
   },
   "outputs": [],
   "source": [
    "#siab"
   ]
  },
  {
   "cell_type": "code",
   "execution_count": 11,
   "id": "a0edb063",
   "metadata": {
    "execution": {
     "iopub.execute_input": "2025-07-30T14:20:30.083579Z",
     "iopub.status.busy": "2025-07-30T14:20:30.082912Z",
     "iopub.status.idle": "2025-07-30T14:20:30.088020Z",
     "shell.execute_reply": "2025-07-30T14:20:30.087126Z"
    },
    "papermill": {
     "duration": 0.028109,
     "end_time": "2025-07-30T14:20:30.089574",
     "exception": false,
     "start_time": "2025-07-30T14:20:30.061465",
     "status": "completed"
    },
    "tags": []
   },
   "outputs": [],
   "source": [
    "#import pandas as pd\n",
    "#\n",
    "#X_train = pd.read_csv(\"./data/X_train.csv\")\n",
    "#y_train = pd.read_csv(\"./data/y_train.csv\")"
   ]
  },
  {
   "cell_type": "code",
   "execution_count": 12,
   "id": "63d08085",
   "metadata": {
    "execution": {
     "iopub.execute_input": "2025-07-30T14:20:30.133826Z",
     "iopub.status.busy": "2025-07-30T14:20:30.133149Z",
     "iopub.status.idle": "2025-07-30T14:20:30.138083Z",
     "shell.execute_reply": "2025-07-30T14:20:30.137202Z"
    },
    "papermill": {
     "duration": 0.028724,
     "end_time": "2025-07-30T14:20:30.139674",
     "exception": false,
     "start_time": "2025-07-30T14:20:30.110950",
     "status": "completed"
    },
    "tags": []
   },
   "outputs": [],
   "source": [
    "#X_test = pd.read_csv(\"./data/X_test.csv\")\n",
    "#y_true = pd.read_csv(\"./data/y_test.csv\")"
   ]
  },
  {
   "cell_type": "code",
   "execution_count": 13,
   "id": "98a8d0fa-1d3d-4ed8-bb2c-281470e24add",
   "metadata": {
    "execution": {
     "iopub.execute_input": "2025-07-30T14:20:30.184054Z",
     "iopub.status.busy": "2025-07-30T14:20:30.183375Z",
     "iopub.status.idle": "2025-07-30T14:20:30.188397Z",
     "shell.execute_reply": "2025-07-30T14:20:30.187471Z"
    },
    "papermill": {
     "duration": 0.028404,
     "end_time": "2025-07-30T14:20:30.190336",
     "exception": false,
     "start_time": "2025-07-30T14:20:30.161932",
     "status": "completed"
    },
    "tags": []
   },
   "outputs": [],
   "source": [
    "# Calibration data for conformal\n",
    "#X_calib = pd.read_csv(\"./data/X_calib.csv\")\n",
    "#y_calib = pd.read_csv(\"./data/y_calib.csv\")"
   ]
  },
  {
   "cell_type": "markdown",
   "id": "997051c5-15bd-4b69-9786-c3001a3ce484",
   "metadata": {
    "papermill": {
     "duration": 0.020471,
     "end_time": "2025-07-30T14:20:30.233451",
     "exception": false,
     "start_time": "2025-07-30T14:20:30.212980",
     "status": "completed"
    },
    "tags": []
   },
   "source": [
    "# Splitting Data and Setting Training Data Size"
   ]
  },
  {
   "cell_type": "code",
   "execution_count": 14,
   "id": "e993b61f-042d-41a6-8c81-f55681f86335",
   "metadata": {
    "execution": {
     "iopub.execute_input": "2025-07-30T14:20:30.275981Z",
     "iopub.status.busy": "2025-07-30T14:20:30.275519Z",
     "iopub.status.idle": "2025-07-30T14:20:30.288505Z",
     "shell.execute_reply": "2025-07-30T14:20:30.287582Z"
    },
    "papermill": {
     "duration": 0.036813,
     "end_time": "2025-07-30T14:20:30.290335",
     "exception": false,
     "start_time": "2025-07-30T14:20:30.253522",
     "status": "completed"
    },
    "tags": []
   },
   "outputs": [],
   "source": [
    "def sample_by_year_size(df,\n",
    "                        training_year: str,\n",
    "                        training_size: str,\n",
    "                        random_state: int = 42):\n",
    "    # --- parse training_year into a list of int years ---\n",
    "    if \"_\" in training_year:\n",
    "        start_str, end_str = training_year.split(\"_\", 1)\n",
    "        start = int(start_str)\n",
    "        end   = int(end_str) if len(end_str) == 4 else (int(end_str) + (start // 100)*100)\n",
    "        years = list(range(start, end + 1))\n",
    "    else:\n",
    "        years = [int(training_year)]\n",
    "\n",
    "    df = df[df[\"year\"].isin(years)].reset_index(drop=True)\n",
    "\n",
    "    # --- map training_size to total number of samples ---\n",
    "    total_map = {\"25k\": 25_000, \"5k\": 5_000, \"1k\": 1_000}\n",
    "    if training_size not in total_map:\n",
    "        return df  # e.g. \"all\"\n",
    "\n",
    "    total_samples = total_map[training_size]\n",
    "    n_years       = len(years)\n",
    "    base          = total_samples // n_years\n",
    "    remainder     = total_samples % n_years\n",
    "\n",
    "    # --- build a dict: year -> how many to sample ---\n",
    "    # give +1 to the first `remainder` years in ascending order\n",
    "    quotas = {\n",
    "        year: base + (1 if idx < remainder else 0)\n",
    "        for idx, year in enumerate(sorted(years))\n",
    "    }\n",
    "\n",
    "    # --- sample per‐year according to the quota dict ---\n",
    "    sampled = (\n",
    "        df\n",
    "        .groupby(\"year\", group_keys=False)\n",
    "        .apply(lambda grp: grp.sample(\n",
    "            n=min(len(grp), quotas[grp.name]),\n",
    "            random_state=random_state))\n",
    "        .reset_index(drop=True)\n",
    "    )\n",
    "\n",
    "    return sampled"
   ]
  },
  {
   "cell_type": "code",
   "execution_count": 15,
   "id": "c0ccd338-0e02-41f3-a09d-f56f9266e3fb",
   "metadata": {
    "execution": {
     "iopub.execute_input": "2025-07-30T14:20:30.335283Z",
     "iopub.status.busy": "2025-07-30T14:20:30.334619Z",
     "iopub.status.idle": "2025-07-30T14:20:30.345746Z",
     "shell.execute_reply": "2025-07-30T14:20:30.344788Z"
    },
    "papermill": {
     "duration": 0.034881,
     "end_time": "2025-07-30T14:20:30.347548",
     "exception": false,
     "start_time": "2025-07-30T14:20:30.312667",
     "status": "completed"
    },
    "tags": []
   },
   "outputs": [
    {
     "data": {
      "text/plain": [
       "'1k'"
      ]
     },
     "execution_count": 15,
     "metadata": {},
     "output_type": "execute_result"
    }
   ],
   "source": [
    "universe[\"training_size\"]"
   ]
  },
  {
   "cell_type": "code",
   "execution_count": 16,
   "id": "ca707fd7-8047-4acd-bfa5-66248fbbf8e6",
   "metadata": {
    "execution": {
     "iopub.execute_input": "2025-07-30T14:20:30.391970Z",
     "iopub.status.busy": "2025-07-30T14:20:30.391594Z",
     "iopub.status.idle": "2025-07-30T14:20:30.398537Z",
     "shell.execute_reply": "2025-07-30T14:20:30.397527Z"
    },
    "papermill": {
     "duration": 0.030806,
     "end_time": "2025-07-30T14:20:30.400294",
     "exception": false,
     "start_time": "2025-07-30T14:20:30.369488",
     "status": "completed"
    },
    "tags": []
   },
   "outputs": [
    {
     "data": {
      "text/plain": [
       "'2014'"
      ]
     },
     "execution_count": 16,
     "metadata": {},
     "output_type": "execute_result"
    }
   ],
   "source": [
    "universe[\"training_year\"]"
   ]
  },
  {
   "cell_type": "code",
   "execution_count": 17,
   "id": "aea9c6ef-6f46-42c8-85eb-5a62025c1508",
   "metadata": {
    "execution": {
     "iopub.execute_input": "2025-07-30T14:20:30.446988Z",
     "iopub.status.busy": "2025-07-30T14:20:30.446302Z",
     "iopub.status.idle": "2025-07-30T14:20:30.703333Z",
     "shell.execute_reply": "2025-07-30T14:20:30.702411Z"
    },
    "papermill": {
     "duration": 0.281832,
     "end_time": "2025-07-30T14:20:30.705332",
     "exception": false,
     "start_time": "2025-07-30T14:20:30.423500",
     "status": "completed"
    },
    "tags": []
   },
   "outputs": [],
   "source": [
    "siab_train = sample_by_year_size(siab,\n",
    "                               training_year=universe[\"training_year\"],\n",
    "                               training_size=universe[\"training_size\"])"
   ]
  },
  {
   "cell_type": "code",
   "execution_count": 18,
   "id": "8d3afb32-789d-442c-8d5d-9f5aa8dd2eed",
   "metadata": {
    "execution": {
     "iopub.execute_input": "2025-07-30T14:20:30.749601Z",
     "iopub.status.busy": "2025-07-30T14:20:30.748900Z",
     "iopub.status.idle": "2025-07-30T14:20:30.756806Z",
     "shell.execute_reply": "2025-07-30T14:20:30.755724Z"
    },
    "papermill": {
     "duration": 0.031995,
     "end_time": "2025-07-30T14:20:30.758702",
     "exception": false,
     "start_time": "2025-07-30T14:20:30.726707",
     "status": "completed"
    },
    "tags": []
   },
   "outputs": [
    {
     "data": {
      "text/plain": [
       "(1000, 164)"
      ]
     },
     "execution_count": 18,
     "metadata": {},
     "output_type": "execute_result"
    }
   ],
   "source": [
    "siab_train.shape"
   ]
  },
  {
   "cell_type": "code",
   "execution_count": 19,
   "id": "d582db68-1a4c-47fb-84fc-08518dc1975a",
   "metadata": {
    "execution": {
     "iopub.execute_input": "2025-07-30T14:20:30.803913Z",
     "iopub.status.busy": "2025-07-30T14:20:30.802950Z",
     "iopub.status.idle": "2025-07-30T14:20:30.813176Z",
     "shell.execute_reply": "2025-07-30T14:20:30.812153Z"
    },
    "papermill": {
     "duration": 0.034175,
     "end_time": "2025-07-30T14:20:30.814871",
     "exception": false,
     "start_time": "2025-07-30T14:20:30.780696",
     "status": "completed"
    },
    "tags": []
   },
   "outputs": [
    {
     "data": {
      "text/plain": [
       "year\n",
       "2014    1000\n",
       "dtype: int64"
      ]
     },
     "metadata": {},
     "output_type": "display_data"
    }
   ],
   "source": [
    "display(siab_train.groupby(\"year\").size())"
   ]
  },
  {
   "cell_type": "code",
   "execution_count": 20,
   "id": "a561edb4-d032-42cb-8256-22eac1111c64",
   "metadata": {
    "execution": {
     "iopub.execute_input": "2025-07-30T14:20:30.859833Z",
     "iopub.status.busy": "2025-07-30T14:20:30.859281Z",
     "iopub.status.idle": "2025-07-30T14:20:31.100577Z",
     "shell.execute_reply": "2025-07-30T14:20:31.099544Z"
    },
    "papermill": {
     "duration": 0.265002,
     "end_time": "2025-07-30T14:20:31.102481",
     "exception": false,
     "start_time": "2025-07-30T14:20:30.837479",
     "status": "completed"
    },
    "tags": []
   },
   "outputs": [],
   "source": [
    "#siab_train = siab_s[siab_s.year < 2015]\n",
    "siab_calib = siab[siab.year == 2015]\n",
    "siab_test = siab[siab.year == 2016]"
   ]
  },
  {
   "cell_type": "code",
   "execution_count": 21,
   "id": "472de16f-c3db-4916-846b-1f0de9cf1746",
   "metadata": {
    "execution": {
     "iopub.execute_input": "2025-07-30T14:20:31.146990Z",
     "iopub.status.busy": "2025-07-30T14:20:31.146287Z",
     "iopub.status.idle": "2025-07-30T14:20:31.153432Z",
     "shell.execute_reply": "2025-07-30T14:20:31.152476Z"
    },
    "papermill": {
     "duration": 0.030559,
     "end_time": "2025-07-30T14:20:31.154998",
     "exception": false,
     "start_time": "2025-07-30T14:20:31.124439",
     "status": "completed"
    },
    "tags": []
   },
   "outputs": [],
   "source": [
    "X_train = siab_train.iloc[:,4:164]\n",
    "y_train = siab_train.iloc[:, [3]]"
   ]
  },
  {
   "cell_type": "code",
   "execution_count": 22,
   "id": "828c96af-f43a-4ed6-ba47-8ac73a47d56c",
   "metadata": {
    "execution": {
     "iopub.execute_input": "2025-07-30T14:20:31.201032Z",
     "iopub.status.busy": "2025-07-30T14:20:31.200122Z",
     "iopub.status.idle": "2025-07-30T14:20:31.250933Z",
     "shell.execute_reply": "2025-07-30T14:20:31.249946Z"
    },
    "papermill": {
     "duration": 0.075231,
     "end_time": "2025-07-30T14:20:31.253298",
     "exception": false,
     "start_time": "2025-07-30T14:20:31.178067",
     "status": "completed"
    },
    "tags": []
   },
   "outputs": [],
   "source": [
    "X_calib = siab_calib.iloc[:,4:164]\n",
    "y_calib = siab_calib.iloc[:, [3]]"
   ]
  },
  {
   "cell_type": "code",
   "execution_count": 23,
   "id": "c34be9c3-6bd6-476e-acd3-845840e303be",
   "metadata": {
    "execution": {
     "iopub.execute_input": "2025-07-30T14:20:31.304328Z",
     "iopub.status.busy": "2025-07-30T14:20:31.303432Z",
     "iopub.status.idle": "2025-07-30T14:20:31.360280Z",
     "shell.execute_reply": "2025-07-30T14:20:31.359274Z"
    },
    "papermill": {
     "duration": 0.081798,
     "end_time": "2025-07-30T14:20:31.362469",
     "exception": false,
     "start_time": "2025-07-30T14:20:31.280671",
     "status": "completed"
    },
    "tags": []
   },
   "outputs": [],
   "source": [
    "X_test = siab_test.iloc[:,4:164]\n",
    "y_true = siab_test.iloc[:, [3]]"
   ]
  },
  {
   "cell_type": "markdown",
   "id": "9901737e-04df-44f0-9100-f5ad144ed040",
   "metadata": {
    "papermill": {
     "duration": 0.021579,
     "end_time": "2025-07-30T14:20:31.407890",
     "exception": false,
     "start_time": "2025-07-30T14:20:31.386311",
     "status": "completed"
    },
    "tags": []
   },
   "source": [
    "# Splitting Data and Setting Training Data Size OLD VERSION"
   ]
  },
  {
   "cell_type": "code",
   "execution_count": 24,
   "id": "acbc8f7d-8fc8-4e86-8c59-5dcb0f58384b",
   "metadata": {
    "execution": {
     "iopub.execute_input": "2025-07-30T14:20:31.452786Z",
     "iopub.status.busy": "2025-07-30T14:20:31.452133Z",
     "iopub.status.idle": "2025-07-30T14:20:31.457883Z",
     "shell.execute_reply": "2025-07-30T14:20:31.456923Z"
    },
    "papermill": {
     "duration": 0.030602,
     "end_time": "2025-07-30T14:20:31.459688",
     "exception": false,
     "start_time": "2025-07-30T14:20:31.429086",
     "status": "completed"
    },
    "tags": []
   },
   "outputs": [],
   "source": [
    "#def sample_by_year(df, training_size, random_state=42):\n",
    "#    if training_size == \"2014\":\n",
    "#        return df[df[\"year\"] == 2014].reset_index(drop=True)\n",
    "#    \n",
    "#    size_map = {\n",
    "#        \"25k\": 5000,\n",
    "#        \"5k\": 1000,\n",
    "#        \"1k\": 200\n",
    "#    }\n",
    "#\n",
    "#    if training_size not in size_map:\n",
    "#        return df.reset_index(drop=True)  # use all data\n",
    "#\n",
    "#    n_per_year = size_map[training_size]\n",
    "#    grouped = df.groupby(\"year\")\n",
    "#    sampled = grouped.apply(lambda x: x.sample(n=min(n_per_year, len(x)), random_state=random_state))\n",
    "#    return sampled.reset_index(drop=True)"
   ]
  },
  {
   "cell_type": "code",
   "execution_count": 25,
   "id": "6d931f52-beaf-43ff-9e78-9d44a448d54e",
   "metadata": {
    "execution": {
     "iopub.execute_input": "2025-07-30T14:20:31.507238Z",
     "iopub.status.busy": "2025-07-30T14:20:31.506666Z",
     "iopub.status.idle": "2025-07-30T14:20:31.511764Z",
     "shell.execute_reply": "2025-07-30T14:20:31.510820Z"
    },
    "papermill": {
     "duration": 0.029584,
     "end_time": "2025-07-30T14:20:31.513438",
     "exception": false,
     "start_time": "2025-07-30T14:20:31.483854",
     "status": "completed"
    },
    "tags": []
   },
   "outputs": [],
   "source": [
    "#siab_s = sample_by_year(siab, universe[\"training_size\"])"
   ]
  },
  {
   "cell_type": "code",
   "execution_count": 26,
   "id": "5db0a40e-a4e2-4920-be85-b12ae061d70d",
   "metadata": {
    "execution": {
     "iopub.execute_input": "2025-07-30T14:20:31.559757Z",
     "iopub.status.busy": "2025-07-30T14:20:31.558904Z",
     "iopub.status.idle": "2025-07-30T14:20:31.563969Z",
     "shell.execute_reply": "2025-07-30T14:20:31.563122Z"
    },
    "papermill": {
     "duration": 0.029863,
     "end_time": "2025-07-30T14:20:31.565849",
     "exception": false,
     "start_time": "2025-07-30T14:20:31.535986",
     "status": "completed"
    },
    "tags": []
   },
   "outputs": [],
   "source": [
    "#display(siab_s.groupby(\"year\").size())"
   ]
  },
  {
   "cell_type": "code",
   "execution_count": 27,
   "id": "e6c733c5",
   "metadata": {
    "execution": {
     "iopub.execute_input": "2025-07-30T14:20:31.612491Z",
     "iopub.status.busy": "2025-07-30T14:20:31.611836Z",
     "iopub.status.idle": "2025-07-30T14:20:31.707572Z",
     "shell.execute_reply": "2025-07-30T14:20:31.706614Z"
    },
    "papermill": {
     "duration": 0.120312,
     "end_time": "2025-07-30T14:20:31.709527",
     "exception": false,
     "start_time": "2025-07-30T14:20:31.589215",
     "status": "completed"
    },
    "tags": []
   },
   "outputs": [],
   "source": [
    "# Auxiliary data needed downstream in the pipeline\n",
    "\n",
    "org_train = X_train.copy()\n",
    "org_test = X_test.copy()\n",
    "org_calib = X_calib.copy()"
   ]
  },
  {
   "cell_type": "code",
   "execution_count": 28,
   "id": "1466abac-c6da-4492-a62f-4240ae3783af",
   "metadata": {
    "execution": {
     "iopub.execute_input": "2025-07-30T14:20:31.755452Z",
     "iopub.status.busy": "2025-07-30T14:20:31.754529Z",
     "iopub.status.idle": "2025-07-30T14:20:31.760945Z",
     "shell.execute_reply": "2025-07-30T14:20:31.759845Z"
    },
    "papermill": {
     "duration": 0.030688,
     "end_time": "2025-07-30T14:20:31.762881",
     "exception": false,
     "start_time": "2025-07-30T14:20:31.732193",
     "status": "completed"
    },
    "tags": []
   },
   "outputs": [],
   "source": [
    "# put in other script?\n",
    "# Group sizes\n",
    "\n",
    "#def calculate_percentages(df, df_name):\n",
    "#    total_entries = len(df)\n",
    "#\n",
    "#    female_pct = (df['frau1'] == 1).mean() * 100\n",
    "#    non_german_pct = ((df['maxdeutsch1'] == 0) & (df['maxdeutsch.Missing.'] == 0)).mean() * 100\n",
    "#    non_german_male_pct = ((df['frau1'] == 0) & (df['maxdeutsch1'] == 0) & (df['maxdeutsch.Missing.'] == 0)).mean() * 100\n",
    "#    non_german_female_pct = ((df['frau1'] == 1) & (df['maxdeutsch1'] == 0) & (df['maxdeutsch.Missing.'] == 0)).mean() * 100\n",
    "#\n",
    "#    print(f\"--- {df_name} ---\")\n",
    "#    print(f\"Female: {female_pct:.2f}%\")\n",
    "#    print(f\"Non-German: {non_german_pct:.2f}%\")\n",
    "#    print(f\"Non-German Male: {non_german_male_pct:.2f}%\")\n",
    "#    print(f\"Non-German Female: {non_german_female_pct:.2f}%\\n\")\n",
    "#\n",
    "## Calculate for each DataFrame\n",
    "#calculate_percentages(siab_calib, \"siab_calib\")\n",
    "#calculate_percentages(siab_test, \"siab_test\")\n",
    "#calculate_percentages(siab_train, \"siab_train\")"
   ]
  },
  {
   "cell_type": "markdown",
   "id": "0a4a1b33",
   "metadata": {
    "papermill": {
     "duration": 0.021295,
     "end_time": "2025-07-30T14:20:31.808196",
     "exception": false,
     "start_time": "2025-07-30T14:20:31.786901",
     "status": "completed"
    },
    "tags": []
   },
   "source": [
    "# Preprocessing Data"
   ]
  },
  {
   "cell_type": "code",
   "execution_count": 29,
   "id": "ca879031",
   "metadata": {
    "execution": {
     "iopub.execute_input": "2025-07-30T14:20:31.854121Z",
     "iopub.status.busy": "2025-07-30T14:20:31.853242Z",
     "iopub.status.idle": "2025-07-30T14:20:31.859382Z",
     "shell.execute_reply": "2025-07-30T14:20:31.858547Z"
    },
    "papermill": {
     "duration": 0.031052,
     "end_time": "2025-07-30T14:20:31.861020",
     "exception": false,
     "start_time": "2025-07-30T14:20:31.829968",
     "status": "completed"
    },
    "tags": []
   },
   "outputs": [],
   "source": [
    "# EXCLUDE PROTECTED FEATURES\n",
    "# ----------------------\n",
    "# \"exclude_features\": \"none\", # \"nationality\", \"sex\", \"nationality-sex\"\n",
    "\n",
    "excluded_features = universe[\"exclude_features\"].split(\"-\") # split, e.g.: \"nationality-sex\" -> [\"nationality\", \"sex\"]\n",
    "excluded_features_dictionary = {\n",
    "    \"nationality\": [\"maxdeutsch1\", \"maxdeutsch.Missing.\"],\n",
    "    \"sex\": [\"frau1\"],\n",
    "    \"age\": [\"age\"],\n",
    "}\n"
   ]
  },
  {
   "cell_type": "code",
   "execution_count": 30,
   "id": "b745ac60",
   "metadata": {
    "execution": {
     "iopub.execute_input": "2025-07-30T14:20:31.908925Z",
     "iopub.status.busy": "2025-07-30T14:20:31.908039Z",
     "iopub.status.idle": "2025-07-30T14:20:31.913803Z",
     "shell.execute_reply": "2025-07-30T14:20:31.912902Z"
    },
    "papermill": {
     "duration": 0.030945,
     "end_time": "2025-07-30T14:20:31.915539",
     "exception": false,
     "start_time": "2025-07-30T14:20:31.884594",
     "status": "completed"
    },
    "tags": []
   },
   "outputs": [],
   "source": [
    "# Code nice names to column names\n",
    "\n",
    "excluded_features_columns = [\n",
    "    excluded_features_dictionary[f] for f in excluded_features if len(f) > 0 and f != \"none\"\n",
    "]"
   ]
  },
  {
   "cell_type": "code",
   "execution_count": 31,
   "id": "f84f73a2",
   "metadata": {
    "execution": {
     "iopub.execute_input": "2025-07-30T14:20:31.962418Z",
     "iopub.status.busy": "2025-07-30T14:20:31.961728Z",
     "iopub.status.idle": "2025-07-30T14:20:31.969067Z",
     "shell.execute_reply": "2025-07-30T14:20:31.968080Z"
    },
    "papermill": {
     "duration": 0.031729,
     "end_time": "2025-07-30T14:20:31.970782",
     "exception": false,
     "start_time": "2025-07-30T14:20:31.939053",
     "status": "completed"
    },
    "tags": []
   },
   "outputs": [],
   "source": [
    "from utils import flatten_once\n",
    "\n",
    "excluded_features_columns = flatten_once(excluded_features_columns)"
   ]
  },
  {
   "cell_type": "code",
   "execution_count": 32,
   "id": "884dea22",
   "metadata": {
    "execution": {
     "iopub.execute_input": "2025-07-30T14:20:32.019262Z",
     "iopub.status.busy": "2025-07-30T14:20:32.018388Z",
     "iopub.status.idle": "2025-07-30T14:20:32.026926Z",
     "shell.execute_reply": "2025-07-30T14:20:32.025920Z"
    },
    "papermill": {
     "duration": 0.034303,
     "end_time": "2025-07-30T14:20:32.028505",
     "exception": false,
     "start_time": "2025-07-30T14:20:31.994202",
     "status": "completed"
    },
    "tags": []
   },
   "outputs": [
    {
     "name": "stdout",
     "output_type": "stream",
     "text": [
      "Dropping features: ['maxdeutsch1', 'maxdeutsch.Missing.', 'frau1']\n"
     ]
    }
   ],
   "source": [
    "if len(excluded_features_columns) > 0:\n",
    "    print(f\"Dropping features: {excluded_features_columns}\")\n",
    "    X_train.drop(excluded_features_columns, axis=1, inplace=True)"
   ]
  },
  {
   "cell_type": "code",
   "execution_count": 33,
   "id": "95ab8b16",
   "metadata": {
    "execution": {
     "iopub.execute_input": "2025-07-30T14:20:32.076266Z",
     "iopub.status.busy": "2025-07-30T14:20:32.075343Z",
     "iopub.status.idle": "2025-07-30T14:20:32.127501Z",
     "shell.execute_reply": "2025-07-30T14:20:32.126348Z"
    },
    "papermill": {
     "duration": 0.077899,
     "end_time": "2025-07-30T14:20:32.129506",
     "exception": false,
     "start_time": "2025-07-30T14:20:32.051607",
     "status": "completed"
    },
    "tags": []
   },
   "outputs": [
    {
     "name": "stdout",
     "output_type": "stream",
     "text": [
      "Dropping features: ['maxdeutsch1', 'maxdeutsch.Missing.', 'frau1']\n"
     ]
    }
   ],
   "source": [
    "if len(excluded_features_columns) > 0:\n",
    "    print(f\"Dropping features: {excluded_features_columns}\")\n",
    "    X_test.drop(excluded_features_columns, axis=1, inplace=True)"
   ]
  },
  {
   "cell_type": "code",
   "execution_count": 34,
   "id": "1853aaf5-fb9f-46cb-a2b5-8ea4ae2237e4",
   "metadata": {
    "execution": {
     "iopub.execute_input": "2025-07-30T14:20:32.177381Z",
     "iopub.status.busy": "2025-07-30T14:20:32.176498Z",
     "iopub.status.idle": "2025-07-30T14:20:32.228038Z",
     "shell.execute_reply": "2025-07-30T14:20:32.226890Z"
    },
    "papermill": {
     "duration": 0.07673,
     "end_time": "2025-07-30T14:20:32.230133",
     "exception": false,
     "start_time": "2025-07-30T14:20:32.153403",
     "status": "completed"
    },
    "tags": []
   },
   "outputs": [
    {
     "name": "stdout",
     "output_type": "stream",
     "text": [
      "Dropping features: ['maxdeutsch1', 'maxdeutsch.Missing.', 'frau1']\n"
     ]
    }
   ],
   "source": [
    "if len(excluded_features_columns) > 0:\n",
    "    print(f\"Dropping features: {excluded_features_columns}\")\n",
    "    X_calib.drop(excluded_features_columns, axis=1, inplace=True)"
   ]
  },
  {
   "cell_type": "code",
   "execution_count": 35,
   "id": "6727d079-03e5-481e-9d38-292a90b7a0a8",
   "metadata": {
    "execution": {
     "iopub.execute_input": "2025-07-30T14:20:32.278239Z",
     "iopub.status.busy": "2025-07-30T14:20:32.277776Z",
     "iopub.status.idle": "2025-07-30T14:20:32.290853Z",
     "shell.execute_reply": "2025-07-30T14:20:32.289756Z"
    },
    "papermill": {
     "duration": 0.038131,
     "end_time": "2025-07-30T14:20:32.292470",
     "exception": false,
     "start_time": "2025-07-30T14:20:32.254339",
     "status": "completed"
    },
    "tags": []
   },
   "outputs": [],
   "source": [
    "# SPLIT & STRATIFY DATA\n",
    "# ----------------------"
   ]
  },
  {
   "cell_type": "code",
   "execution_count": 36,
   "id": "76c4dc6d",
   "metadata": {
    "execution": {
     "iopub.execute_input": "2025-07-30T14:20:32.337061Z",
     "iopub.status.busy": "2025-07-30T14:20:32.336497Z",
     "iopub.status.idle": "2025-07-30T14:20:32.342109Z",
     "shell.execute_reply": "2025-07-30T14:20:32.341119Z"
    },
    "papermill": {
     "duration": 0.029618,
     "end_time": "2025-07-30T14:20:32.343775",
     "exception": false,
     "start_time": "2025-07-30T14:20:32.314157",
     "status": "completed"
    },
    "tags": []
   },
   "outputs": [],
   "source": [
    "# EXCLUDE CERTAIN SUBGROUPS\n",
    "# ----------------------\n",
    "\n",
    "mode = universe.get(\"exclude_subgroups\", \"keep-all\") \n",
    "# Fetches the exclude_subgroups setting from the universe dict.\n",
    "# Defaults to \"keep-all\" if the key is missing."
   ]
  },
  {
   "cell_type": "code",
   "execution_count": 37,
   "id": "21994072",
   "metadata": {
    "execution": {
     "iopub.execute_input": "2025-07-30T14:20:32.390574Z",
     "iopub.status.busy": "2025-07-30T14:20:32.389662Z",
     "iopub.status.idle": "2025-07-30T14:20:32.396895Z",
     "shell.execute_reply": "2025-07-30T14:20:32.396055Z"
    },
    "papermill": {
     "duration": 0.031167,
     "end_time": "2025-07-30T14:20:32.398333",
     "exception": false,
     "start_time": "2025-07-30T14:20:32.367166",
     "status": "completed"
    },
    "tags": []
   },
   "outputs": [],
   "source": [
    "if mode == \"keep-all\":\n",
    "    keep_mask = pd.Series(True, index=org_train.index)\n",
    "\n",
    "# org_train contains the original feature columns from features_org (in Simson)\n",
    "# features_org contains unprocessed features, for me X_train at beginning ???\n",
    "# For keep-all, creates a boolean Series (keep_mask) of all True, so no rows are removed.\n",
    "\n",
    "elif mode == \"drop-non-german\":\n",
    "    keep_mask = org_train[\"maxdeutsch1\"] == 1 # ??? what about missing values?\n",
    "\n",
    "else:\n",
    "    raise ValueError(f\"Unsupported mode for exclude_subgroups: {mode}\")\n"
   ]
  },
  {
   "cell_type": "code",
   "execution_count": 38,
   "id": "71651440",
   "metadata": {
    "execution": {
     "iopub.execute_input": "2025-07-30T14:20:32.446862Z",
     "iopub.status.busy": "2025-07-30T14:20:32.446287Z",
     "iopub.status.idle": "2025-07-30T14:20:32.452573Z",
     "shell.execute_reply": "2025-07-30T14:20:32.451649Z"
    },
    "papermill": {
     "duration": 0.03096,
     "end_time": "2025-07-30T14:20:32.454176",
     "exception": false,
     "start_time": "2025-07-30T14:20:32.423216",
     "status": "completed"
    },
    "tags": []
   },
   "outputs": [],
   "source": [
    "n_drop = (~keep_mask).sum() # Calculates how many rows are set to be dropped\n",
    "if n_drop > 0:\n",
    "    pct = n_drop / len(keep_mask) * 100\n",
    "    print(f\"Dropping {n_drop} rows ({pct:.2f}%) where mode='{mode}'\")"
   ]
  },
  {
   "cell_type": "code",
   "execution_count": 39,
   "id": "5fb8eee5",
   "metadata": {
    "execution": {
     "iopub.execute_input": "2025-07-30T14:20:32.502585Z",
     "iopub.status.busy": "2025-07-30T14:20:32.501946Z",
     "iopub.status.idle": "2025-07-30T14:20:32.508773Z",
     "shell.execute_reply": "2025-07-30T14:20:32.507828Z"
    },
    "papermill": {
     "duration": 0.033432,
     "end_time": "2025-07-30T14:20:32.510461",
     "exception": false,
     "start_time": "2025-07-30T14:20:32.477029",
     "status": "completed"
    },
    "tags": []
   },
   "outputs": [],
   "source": [
    "X_train = X_train[keep_mask]"
   ]
  },
  {
   "cell_type": "code",
   "execution_count": 40,
   "id": "b202bb3a",
   "metadata": {
    "execution": {
     "iopub.execute_input": "2025-07-30T14:20:32.569451Z",
     "iopub.status.busy": "2025-07-30T14:20:32.568958Z",
     "iopub.status.idle": "2025-07-30T14:20:32.574991Z",
     "shell.execute_reply": "2025-07-30T14:20:32.574128Z"
    },
    "papermill": {
     "duration": 0.043634,
     "end_time": "2025-07-30T14:20:32.576635",
     "exception": false,
     "start_time": "2025-07-30T14:20:32.533001",
     "status": "completed"
    },
    "tags": []
   },
   "outputs": [],
   "source": [
    "y_train = y_train[keep_mask]"
   ]
  },
  {
   "cell_type": "markdown",
   "id": "493e2ac3",
   "metadata": {
    "papermill": {
     "duration": 0.022409,
     "end_time": "2025-07-30T14:20:32.621770",
     "exception": false,
     "start_time": "2025-07-30T14:20:32.599361",
     "status": "completed"
    },
    "tags": []
   },
   "source": [
    "# Model Training"
   ]
  },
  {
   "cell_type": "code",
   "execution_count": 41,
   "id": "679e1268",
   "metadata": {
    "execution": {
     "iopub.execute_input": "2025-07-30T14:20:32.667846Z",
     "iopub.status.busy": "2025-07-30T14:20:32.667352Z",
     "iopub.status.idle": "2025-07-30T14:20:32.771359Z",
     "shell.execute_reply": "2025-07-30T14:20:32.770481Z"
    },
    "papermill": {
     "duration": 0.129358,
     "end_time": "2025-07-30T14:20:32.773217",
     "exception": false,
     "start_time": "2025-07-30T14:20:32.643859",
     "status": "completed"
    },
    "tags": []
   },
   "outputs": [],
   "source": [
    "from sklearn.linear_model import LogisticRegression\n",
    "from sklearn.ensemble import GradientBoostingClassifier, RandomForestClassifier\n",
    "\n",
    "if (universe[\"model\"] == \"logreg\"):\n",
    "    model = LogisticRegression() #penalty=\"none\") #, solver=\"newton-cg\", max_iter=1) # include random_state=19 ?\n",
    "elif (universe[\"model\"] == \"penalized_logreg\"):\n",
    "    model = LogisticRegression(penalty=\"l2\", C=1.0) #, solver=\"newton-cg\", max_iter=1)\n",
    "elif (universe[\"model\"] == \"rf\"):\n",
    "    model = RandomForestClassifier(n_estimators=100, n_jobs=-1)\n",
    "elif (universe[\"model\"] == \"gbm\"):\n",
    "    model = GradientBoostingClassifier()\n",
    "elif (universe[\"model\"] == \"elasticnet\"):\n",
    "    model = LogisticRegression(penalty = 'elasticnet', solver = 'saga', l1_ratio = 0.5, max_iter=5000) # which solver to use?\n",
    "else:\n",
    "    raise \"Unsupported universe.model\""
   ]
  },
  {
   "cell_type": "code",
   "execution_count": 42,
   "id": "0cc8f744",
   "metadata": {
    "execution": {
     "iopub.execute_input": "2025-07-30T14:20:32.820395Z",
     "iopub.status.busy": "2025-07-30T14:20:32.819415Z",
     "iopub.status.idle": "2025-07-30T14:20:32.825890Z",
     "shell.execute_reply": "2025-07-30T14:20:32.824979Z"
    },
    "papermill": {
     "duration": 0.030819,
     "end_time": "2025-07-30T14:20:32.827528",
     "exception": false,
     "start_time": "2025-07-30T14:20:32.796709",
     "status": "completed"
    },
    "tags": []
   },
   "outputs": [],
   "source": [
    "import numpy as np\n",
    "from sklearn.pipeline import Pipeline\n",
    "from sklearn.preprocessing import StandardScaler\n",
    "\n",
    "model = Pipeline([\n",
    "    #(\"continuous_processor\", continuous_processor),\n",
    "    #(\"categorical_preprocessor\", categorical_preprocessor),\n",
    "    (\"scale\", StandardScaler() if universe[\"scale\"] == \"scale\" else None), \n",
    "    (\"model\", model),\n",
    "])"
   ]
  },
  {
   "cell_type": "code",
   "execution_count": 43,
   "id": "9442c04d",
   "metadata": {
    "execution": {
     "iopub.execute_input": "2025-07-30T14:20:32.877404Z",
     "iopub.status.busy": "2025-07-30T14:20:32.876768Z",
     "iopub.status.idle": "2025-07-30T14:20:32.946160Z",
     "shell.execute_reply": "2025-07-30T14:20:32.945127Z"
    },
    "papermill": {
     "duration": 0.097065,
     "end_time": "2025-07-30T14:20:32.949445",
     "exception": false,
     "start_time": "2025-07-30T14:20:32.852380",
     "status": "completed"
    },
    "tags": []
   },
   "outputs": [
    {
     "name": "stderr",
     "output_type": "stream",
     "text": [
      "/dss/dsshome1/0C/ra93lal2/.local/share/virtualenvs/CMA_Fairness_v2-3j10GkSs/lib/python3.10/site-packages/sklearn/linear_model/_logistic.py:444: ConvergenceWarning: lbfgs failed to converge (status=1):\n",
      "STOP: TOTAL NO. of ITERATIONS REACHED LIMIT.\n",
      "\n",
      "Increase the number of iterations (max_iter) or scale the data as shown in:\n",
      "    https://scikit-learn.org/stable/modules/preprocessing.html\n",
      "Please also refer to the documentation for alternative solver options:\n",
      "    https://scikit-learn.org/stable/modules/linear_model.html#logistic-regression\n",
      "  n_iter_i = _check_optimize_result(\n"
     ]
    },
    {
     "data": {
      "text/html": [
       "<style>#sk-container-id-1 {color: black;background-color: white;}#sk-container-id-1 pre{padding: 0;}#sk-container-id-1 div.sk-toggleable {background-color: white;}#sk-container-id-1 label.sk-toggleable__label {cursor: pointer;display: block;width: 100%;margin-bottom: 0;padding: 0.3em;box-sizing: border-box;text-align: center;}#sk-container-id-1 label.sk-toggleable__label-arrow:before {content: \"▸\";float: left;margin-right: 0.25em;color: #696969;}#sk-container-id-1 label.sk-toggleable__label-arrow:hover:before {color: black;}#sk-container-id-1 div.sk-estimator:hover label.sk-toggleable__label-arrow:before {color: black;}#sk-container-id-1 div.sk-toggleable__content {max-height: 0;max-width: 0;overflow: hidden;text-align: left;background-color: #f0f8ff;}#sk-container-id-1 div.sk-toggleable__content pre {margin: 0.2em;color: black;border-radius: 0.25em;background-color: #f0f8ff;}#sk-container-id-1 input.sk-toggleable__control:checked~div.sk-toggleable__content {max-height: 200px;max-width: 100%;overflow: auto;}#sk-container-id-1 input.sk-toggleable__control:checked~label.sk-toggleable__label-arrow:before {content: \"▾\";}#sk-container-id-1 div.sk-estimator input.sk-toggleable__control:checked~label.sk-toggleable__label {background-color: #d4ebff;}#sk-container-id-1 div.sk-label input.sk-toggleable__control:checked~label.sk-toggleable__label {background-color: #d4ebff;}#sk-container-id-1 input.sk-hidden--visually {border: 0;clip: rect(1px 1px 1px 1px);clip: rect(1px, 1px, 1px, 1px);height: 1px;margin: -1px;overflow: hidden;padding: 0;position: absolute;width: 1px;}#sk-container-id-1 div.sk-estimator {font-family: monospace;background-color: #f0f8ff;border: 1px dotted black;border-radius: 0.25em;box-sizing: border-box;margin-bottom: 0.5em;}#sk-container-id-1 div.sk-estimator:hover {background-color: #d4ebff;}#sk-container-id-1 div.sk-parallel-item::after {content: \"\";width: 100%;border-bottom: 1px solid gray;flex-grow: 1;}#sk-container-id-1 div.sk-label:hover label.sk-toggleable__label {background-color: #d4ebff;}#sk-container-id-1 div.sk-serial::before {content: \"\";position: absolute;border-left: 1px solid gray;box-sizing: border-box;top: 0;bottom: 0;left: 50%;z-index: 0;}#sk-container-id-1 div.sk-serial {display: flex;flex-direction: column;align-items: center;background-color: white;padding-right: 0.2em;padding-left: 0.2em;position: relative;}#sk-container-id-1 div.sk-item {position: relative;z-index: 1;}#sk-container-id-1 div.sk-parallel {display: flex;align-items: stretch;justify-content: center;background-color: white;position: relative;}#sk-container-id-1 div.sk-item::before, #sk-container-id-1 div.sk-parallel-item::before {content: \"\";position: absolute;border-left: 1px solid gray;box-sizing: border-box;top: 0;bottom: 0;left: 50%;z-index: -1;}#sk-container-id-1 div.sk-parallel-item {display: flex;flex-direction: column;z-index: 1;position: relative;background-color: white;}#sk-container-id-1 div.sk-parallel-item:first-child::after {align-self: flex-end;width: 50%;}#sk-container-id-1 div.sk-parallel-item:last-child::after {align-self: flex-start;width: 50%;}#sk-container-id-1 div.sk-parallel-item:only-child::after {width: 0;}#sk-container-id-1 div.sk-dashed-wrapped {border: 1px dashed gray;margin: 0 0.4em 0.5em 0.4em;box-sizing: border-box;padding-bottom: 0.4em;background-color: white;}#sk-container-id-1 div.sk-label label {font-family: monospace;font-weight: bold;display: inline-block;line-height: 1.2em;}#sk-container-id-1 div.sk-label-container {text-align: center;}#sk-container-id-1 div.sk-container {/* jupyter's `normalize.less` sets `[hidden] { display: none; }` but bootstrap.min.css set `[hidden] { display: none !important; }` so we also need the `!important` here to be able to override the default hidden behavior on the sphinx rendered scikit-learn.org. See: https://github.com/scikit-learn/scikit-learn/issues/21755 */display: inline-block !important;position: relative;}#sk-container-id-1 div.sk-text-repr-fallback {display: none;}</style><div id=\"sk-container-id-1\" class=\"sk-top-container\"><div class=\"sk-text-repr-fallback\"><pre>Pipeline(steps=[(&#x27;scale&#x27;, StandardScaler()), (&#x27;model&#x27;, LogisticRegression())])</pre><b>In a Jupyter environment, please rerun this cell to show the HTML representation or trust the notebook. <br />On GitHub, the HTML representation is unable to render, please try loading this page with nbviewer.org.</b></div><div class=\"sk-container\" hidden><div class=\"sk-item sk-dashed-wrapped\"><div class=\"sk-label-container\"><div class=\"sk-label sk-toggleable\"><input class=\"sk-toggleable__control sk-hidden--visually\" id=\"sk-estimator-id-1\" type=\"checkbox\" ><label for=\"sk-estimator-id-1\" class=\"sk-toggleable__label sk-toggleable__label-arrow\">Pipeline</label><div class=\"sk-toggleable__content\"><pre>Pipeline(steps=[(&#x27;scale&#x27;, StandardScaler()), (&#x27;model&#x27;, LogisticRegression())])</pre></div></div></div><div class=\"sk-serial\"><div class=\"sk-item\"><div class=\"sk-estimator sk-toggleable\"><input class=\"sk-toggleable__control sk-hidden--visually\" id=\"sk-estimator-id-2\" type=\"checkbox\" ><label for=\"sk-estimator-id-2\" class=\"sk-toggleable__label sk-toggleable__label-arrow\">StandardScaler</label><div class=\"sk-toggleable__content\"><pre>StandardScaler()</pre></div></div></div><div class=\"sk-item\"><div class=\"sk-estimator sk-toggleable\"><input class=\"sk-toggleable__control sk-hidden--visually\" id=\"sk-estimator-id-3\" type=\"checkbox\" ><label for=\"sk-estimator-id-3\" class=\"sk-toggleable__label sk-toggleable__label-arrow\">LogisticRegression</label><div class=\"sk-toggleable__content\"><pre>LogisticRegression()</pre></div></div></div></div></div></div></div>"
      ],
      "text/plain": [
       "Pipeline(steps=[('scale', StandardScaler()), ('model', LogisticRegression())])"
      ]
     },
     "execution_count": 43,
     "metadata": {},
     "output_type": "execute_result"
    }
   ],
   "source": [
    "model.fit(X_train, y_train.values.ravel())"
   ]
  },
  {
   "cell_type": "code",
   "execution_count": 44,
   "id": "af59f8c0",
   "metadata": {
    "execution": {
     "iopub.execute_input": "2025-07-30T14:20:33.001388Z",
     "iopub.status.busy": "2025-07-30T14:20:33.000723Z",
     "iopub.status.idle": "2025-07-30T14:20:33.005247Z",
     "shell.execute_reply": "2025-07-30T14:20:33.004537Z"
    },
    "papermill": {
     "duration": 0.032034,
     "end_time": "2025-07-30T14:20:33.006590",
     "exception": false,
     "start_time": "2025-07-30T14:20:32.974556",
     "status": "completed"
    },
    "tags": []
   },
   "outputs": [],
   "source": [
    "from fairness_multiverse.universe import predict_w_threshold"
   ]
  },
  {
   "cell_type": "code",
   "execution_count": 45,
   "id": "a7cf2e16",
   "metadata": {
    "execution": {
     "iopub.execute_input": "2025-07-30T14:20:33.033649Z",
     "iopub.status.busy": "2025-07-30T14:20:33.033275Z",
     "iopub.status.idle": "2025-07-30T14:20:33.212479Z",
     "shell.execute_reply": "2025-07-30T14:20:33.211779Z"
    },
    "papermill": {
     "duration": 0.19351,
     "end_time": "2025-07-30T14:20:33.213713",
     "exception": false,
     "start_time": "2025-07-30T14:20:33.020203",
     "status": "completed"
    },
    "tags": []
   },
   "outputs": [
    {
     "data": {
      "text/plain": [
       "0.8173001894994983"
      ]
     },
     "execution_count": 45,
     "metadata": {},
     "output_type": "execute_result"
    }
   ],
   "source": [
    "probs_test = model.predict_proba(X_test)\n",
    "\n",
    "'''\n",
    "Below code returns a boolean array (or binary 0/1 array depending on how it’s used) where each element \n",
    "is True if the probability of class 1 is greater than or equal to the threshold, and False otherwise.\n",
    "'''\n",
    "y_pred_default = predict_w_threshold(probs_test, 0.5)\n",
    "\n",
    "from sklearn.metrics import accuracy_score\n",
    "\n",
    "# Naive prediction\n",
    "accuracy_score(y_true = y_true, y_pred = y_pred_default)"
   ]
  },
  {
   "cell_type": "code",
   "execution_count": 46,
   "id": "081964c3",
   "metadata": {
    "execution": {
     "iopub.execute_input": "2025-07-30T14:20:33.240504Z",
     "iopub.status.busy": "2025-07-30T14:20:33.240132Z",
     "iopub.status.idle": "2025-07-30T14:20:33.405087Z",
     "shell.execute_reply": "2025-07-30T14:20:33.404223Z"
    },
    "papermill": {
     "duration": 0.179904,
     "end_time": "2025-07-30T14:20:33.406450",
     "exception": false,
     "start_time": "2025-07-30T14:20:33.226546",
     "status": "completed"
    },
    "tags": []
   },
   "outputs": [
    {
     "data": {
      "text/plain": [
       "array([0, 0, 0, ..., 0, 0, 0])"
      ]
     },
     "execution_count": 46,
     "metadata": {},
     "output_type": "execute_result"
    }
   ],
   "source": [
    "model.predict(X_test)"
   ]
  },
  {
   "cell_type": "markdown",
   "id": "56c9705b",
   "metadata": {
    "papermill": {
     "duration": 0.01268,
     "end_time": "2025-07-30T14:20:33.432398",
     "exception": false,
     "start_time": "2025-07-30T14:20:33.419718",
     "status": "completed"
    },
    "tags": []
   },
   "source": [
    "# Conformal Prediction"
   ]
  },
  {
   "cell_type": "code",
   "execution_count": 47,
   "id": "160ec6ff",
   "metadata": {
    "execution": {
     "iopub.execute_input": "2025-07-30T14:20:33.459084Z",
     "iopub.status.busy": "2025-07-30T14:20:33.458589Z",
     "iopub.status.idle": "2025-07-30T14:20:33.463576Z",
     "shell.execute_reply": "2025-07-30T14:20:33.462783Z"
    },
    "papermill": {
     "duration": 0.020102,
     "end_time": "2025-07-30T14:20:33.465025",
     "exception": false,
     "start_time": "2025-07-30T14:20:33.444923",
     "status": "completed"
    },
    "tags": []
   },
   "outputs": [],
   "source": [
    "# Miscoverage level for conformal prediction (10% allowed error rate => 90% target coverage)\n",
    "alpha = 0.1"
   ]
  },
  {
   "cell_type": "code",
   "execution_count": 48,
   "id": "eadf4555-3dd3-440e-8e35-f82a4ad9f855",
   "metadata": {
    "execution": {
     "iopub.execute_input": "2025-07-30T14:20:33.493497Z",
     "iopub.status.busy": "2025-07-30T14:20:33.492991Z",
     "iopub.status.idle": "2025-07-30T14:20:33.650281Z",
     "shell.execute_reply": "2025-07-30T14:20:33.649538Z"
    },
    "papermill": {
     "duration": 0.172583,
     "end_time": "2025-07-30T14:20:33.651754",
     "exception": false,
     "start_time": "2025-07-30T14:20:33.479171",
     "status": "completed"
    },
    "tags": []
   },
   "outputs": [],
   "source": [
    "probs_calib = model.predict_proba(X_calib)"
   ]
  },
  {
   "cell_type": "code",
   "execution_count": 49,
   "id": "2ed93547-6d5d-4983-9b36-1ecb300da49a",
   "metadata": {
    "execution": {
     "iopub.execute_input": "2025-07-30T14:20:33.678547Z",
     "iopub.status.busy": "2025-07-30T14:20:33.678204Z",
     "iopub.status.idle": "2025-07-30T14:20:33.682849Z",
     "shell.execute_reply": "2025-07-30T14:20:33.681888Z"
    },
    "papermill": {
     "duration": 0.019315,
     "end_time": "2025-07-30T14:20:33.684193",
     "exception": false,
     "start_time": "2025-07-30T14:20:33.664878",
     "status": "completed"
    },
    "tags": []
   },
   "outputs": [],
   "source": [
    "y_calib = y_calib.values.ravel().astype(int)"
   ]
  },
  {
   "cell_type": "code",
   "execution_count": 50,
   "id": "65d1320d-f588-4b38-9072-62af1ae97f7d",
   "metadata": {
    "execution": {
     "iopub.execute_input": "2025-07-30T14:20:33.718702Z",
     "iopub.status.busy": "2025-07-30T14:20:33.718199Z",
     "iopub.status.idle": "2025-07-30T14:20:33.724988Z",
     "shell.execute_reply": "2025-07-30T14:20:33.724164Z"
    },
    "papermill": {
     "duration": 0.025229,
     "end_time": "2025-07-30T14:20:33.726346",
     "exception": false,
     "start_time": "2025-07-30T14:20:33.701117",
     "status": "completed"
    },
    "tags": []
   },
   "outputs": [],
   "source": [
    "from fairness_multiverse.conformal import compute_nc_scores\n",
    "\n",
    "# Compute nonconformity scores on calibration set (1 - probability of true class)\n",
    "nc_scores = compute_nc_scores(probs_calib, y_calib)"
   ]
  },
  {
   "cell_type": "code",
   "execution_count": 51,
   "id": "df3b8ca3-53b7-43d5-9667-7c85da7aeda2",
   "metadata": {
    "execution": {
     "iopub.execute_input": "2025-07-30T14:20:33.754126Z",
     "iopub.status.busy": "2025-07-30T14:20:33.753633Z",
     "iopub.status.idle": "2025-07-30T14:20:33.759821Z",
     "shell.execute_reply": "2025-07-30T14:20:33.759057Z"
    },
    "papermill": {
     "duration": 0.021228,
     "end_time": "2025-07-30T14:20:33.761282",
     "exception": false,
     "start_time": "2025-07-30T14:20:33.740054",
     "status": "completed"
    },
    "tags": []
   },
   "outputs": [],
   "source": [
    "from fairness_multiverse.conformal import find_threshold\n",
    "\n",
    "# Find conformal threshold q_hat for the given alpha (split conformal method)\n",
    "q_hat = find_threshold(nc_scores, alpha)"
   ]
  },
  {
   "cell_type": "code",
   "execution_count": 52,
   "id": "4d29e6c1-0ef6-4aa4-b8fe-4fe79b0d033a",
   "metadata": {
    "execution": {
     "iopub.execute_input": "2025-07-30T14:20:33.789669Z",
     "iopub.status.busy": "2025-07-30T14:20:33.788942Z",
     "iopub.status.idle": "2025-07-30T14:20:33.795241Z",
     "shell.execute_reply": "2025-07-30T14:20:33.794561Z"
    },
    "papermill": {
     "duration": 0.021425,
     "end_time": "2025-07-30T14:20:33.796715",
     "exception": false,
     "start_time": "2025-07-30T14:20:33.775290",
     "status": "completed"
    },
    "tags": []
   },
   "outputs": [
    {
     "data": {
      "text/plain": [
       "0.8016065159278607"
      ]
     },
     "execution_count": 52,
     "metadata": {},
     "output_type": "execute_result"
    }
   ],
   "source": [
    "q_hat"
   ]
  },
  {
   "cell_type": "code",
   "execution_count": 53,
   "id": "92460794-cdac-4be2-ba28-f28c0515a6fb",
   "metadata": {
    "execution": {
     "iopub.execute_input": "2025-07-30T14:20:33.825349Z",
     "iopub.status.busy": "2025-07-30T14:20:33.824591Z",
     "iopub.status.idle": "2025-07-30T14:20:34.702671Z",
     "shell.execute_reply": "2025-07-30T14:20:34.701633Z"
    },
    "papermill": {
     "duration": 0.89355,
     "end_time": "2025-07-30T14:20:34.704523",
     "exception": false,
     "start_time": "2025-07-30T14:20:33.810973",
     "status": "completed"
    },
    "tags": []
   },
   "outputs": [],
   "source": [
    "from fairness_multiverse.conformal import predict_conformal_sets\n",
    "\n",
    "# Generate prediction sets for each test example\n",
    "pred_sets = predict_conformal_sets(model, X_test, q_hat)"
   ]
  },
  {
   "cell_type": "code",
   "execution_count": 54,
   "id": "d90c9a65-e6db-4f5d-80cd-e68fb7e46829",
   "metadata": {
    "execution": {
     "iopub.execute_input": "2025-07-30T14:20:34.759002Z",
     "iopub.status.busy": "2025-07-30T14:20:34.758261Z",
     "iopub.status.idle": "2025-07-30T14:20:34.764219Z",
     "shell.execute_reply": "2025-07-30T14:20:34.763105Z"
    },
    "papermill": {
     "duration": 0.03436,
     "end_time": "2025-07-30T14:20:34.765946",
     "exception": false,
     "start_time": "2025-07-30T14:20:34.731586",
     "status": "completed"
    },
    "tags": []
   },
   "outputs": [],
   "source": [
    "y_true = y_true.squeeze()"
   ]
  },
  {
   "cell_type": "code",
   "execution_count": 55,
   "id": "3a58a54a-1e68-46b9-927a-df01f18aebc8",
   "metadata": {
    "execution": {
     "iopub.execute_input": "2025-07-30T14:20:34.820404Z",
     "iopub.status.busy": "2025-07-30T14:20:34.819857Z",
     "iopub.status.idle": "2025-07-30T14:20:35.386312Z",
     "shell.execute_reply": "2025-07-30T14:20:35.385576Z"
    },
    "papermill": {
     "duration": 0.594847,
     "end_time": "2025-07-30T14:20:35.387780",
     "exception": false,
     "start_time": "2025-07-30T14:20:34.792933",
     "status": "completed"
    },
    "tags": []
   },
   "outputs": [],
   "source": [
    "from fairness_multiverse.conformal import evaluate_sets\n",
    "\n",
    "# Evaluate coverage and average set size on test data\n",
    "metrics = evaluate_sets(pred_sets, y_true)"
   ]
  },
  {
   "cell_type": "markdown",
   "id": "2b569c12-9aaa-4c88-98c9-bbcd0cf3ebb8",
   "metadata": {
    "papermill": {
     "duration": 0.017171,
     "end_time": "2025-07-30T14:20:35.418674",
     "exception": false,
     "start_time": "2025-07-30T14:20:35.401503",
     "status": "completed"
    },
    "tags": []
   },
   "source": [
    "# CP Metrics"
   ]
  },
  {
   "cell_type": "code",
   "execution_count": 56,
   "id": "5ce0a5cb-201f-45a0-ade5-94c7f0bd6095",
   "metadata": {
    "execution": {
     "iopub.execute_input": "2025-07-30T14:20:35.446136Z",
     "iopub.status.busy": "2025-07-30T14:20:35.445787Z",
     "iopub.status.idle": "2025-07-30T14:20:35.451933Z",
     "shell.execute_reply": "2025-07-30T14:20:35.451144Z"
    },
    "papermill": {
     "duration": 0.021673,
     "end_time": "2025-07-30T14:20:35.453341",
     "exception": false,
     "start_time": "2025-07-30T14:20:35.431668",
     "status": "completed"
    },
    "tags": []
   },
   "outputs": [
    {
     "data": {
      "text/plain": [
       "{'coverage': 0.9064095418570951, 'avg_size': 1.2380893991751198}"
      ]
     },
     "execution_count": 56,
     "metadata": {},
     "output_type": "execute_result"
    }
   ],
   "source": [
    "metrics"
   ]
  },
  {
   "cell_type": "code",
   "execution_count": 57,
   "id": "9b9a838d-31c9-430b-ae14-12baee460d17",
   "metadata": {
    "execution": {
     "iopub.execute_input": "2025-07-30T14:20:35.486493Z",
     "iopub.status.busy": "2025-07-30T14:20:35.486140Z",
     "iopub.status.idle": "2025-07-30T14:20:35.491142Z",
     "shell.execute_reply": "2025-07-30T14:20:35.490369Z"
    },
    "papermill": {
     "duration": 0.02219,
     "end_time": "2025-07-30T14:20:35.492494",
     "exception": false,
     "start_time": "2025-07-30T14:20:35.470304",
     "status": "completed"
    },
    "tags": []
   },
   "outputs": [],
   "source": [
    "example_universe = universe.copy()\n",
    "universe_training_size = example_universe.get(\"training_size\")\n",
    "universe_scale = example_universe.get(\"scale\")\n",
    "universe_model = example_universe.get(\"model\")\n",
    "universe_exclude_features = example_universe.get(\"exclude_features\")\n",
    "universe_exclude_subgroups = example_universe.get(\"exclude_subgroups\")"
   ]
  },
  {
   "cell_type": "code",
   "execution_count": 58,
   "id": "f4b6a8ac-9dc0-4245-8a91-5b3b5999c4f9",
   "metadata": {
    "execution": {
     "iopub.execute_input": "2025-07-30T14:20:35.522173Z",
     "iopub.status.busy": "2025-07-30T14:20:35.521704Z",
     "iopub.status.idle": "2025-07-30T14:20:35.528691Z",
     "shell.execute_reply": "2025-07-30T14:20:35.527856Z"
    },
    "papermill": {
     "duration": 0.022803,
     "end_time": "2025-07-30T14:20:35.530096",
     "exception": false,
     "start_time": "2025-07-30T14:20:35.507293",
     "status": "completed"
    },
    "tags": []
   },
   "outputs": [],
   "source": [
    "cp_metrics_dict = {\n",
    "    \"universe_id\": [universe_id],\n",
    "    \"universe_training_size\": [universe_training_size],\n",
    "    \"universe_scale\": [universe_scale],\n",
    "    \"universe_model\": [universe_model],\n",
    "    \"universe_exclude_features\": [universe_exclude_features],\n",
    "    \"universe_exclude_subgroups\": [universe_exclude_subgroups],\n",
    "    \"q_hat\": [q_hat],\n",
    "    \"coverage\": [metrics[\"coverage\"]],\n",
    "    \"avg_size\": [metrics[\"avg_size\"]],\n",
    "}"
   ]
  },
  {
   "cell_type": "code",
   "execution_count": 59,
   "id": "908acbb1-0371-4915-85ca-3fa520d2efe2",
   "metadata": {
    "execution": {
     "iopub.execute_input": "2025-07-30T14:20:35.559786Z",
     "iopub.status.busy": "2025-07-30T14:20:35.559293Z",
     "iopub.status.idle": "2025-07-30T14:20:35.565462Z",
     "shell.execute_reply": "2025-07-30T14:20:35.564785Z"
    },
    "papermill": {
     "duration": 0.02245,
     "end_time": "2025-07-30T14:20:35.566759",
     "exception": false,
     "start_time": "2025-07-30T14:20:35.544309",
     "status": "completed"
    },
    "tags": []
   },
   "outputs": [
    {
     "data": {
      "text/plain": [
       "{'universe_id': ['e1e7bd20b1896a0d9ac6a0e6a3c5d600'],\n",
       " 'universe_training_size': ['1k'],\n",
       " 'universe_scale': ['scale'],\n",
       " 'universe_model': ['penalized_logreg'],\n",
       " 'universe_exclude_features': ['nationality-sex'],\n",
       " 'universe_exclude_subgroups': ['keep-all'],\n",
       " 'q_hat': [0.8016065159278607],\n",
       " 'coverage': [0.9064095418570951],\n",
       " 'avg_size': [1.2380893991751198]}"
      ]
     },
     "execution_count": 59,
     "metadata": {},
     "output_type": "execute_result"
    }
   ],
   "source": [
    "cp_metrics_dict"
   ]
  },
  {
   "cell_type": "code",
   "execution_count": 60,
   "id": "33007efc-14e9-4ec6-97ac-56a455c82265",
   "metadata": {
    "execution": {
     "iopub.execute_input": "2025-07-30T14:20:35.618877Z",
     "iopub.status.busy": "2025-07-30T14:20:35.618379Z",
     "iopub.status.idle": "2025-07-30T14:20:35.624839Z",
     "shell.execute_reply": "2025-07-30T14:20:35.623783Z"
    },
    "papermill": {
     "duration": 0.03614,
     "end_time": "2025-07-30T14:20:35.626388",
     "exception": false,
     "start_time": "2025-07-30T14:20:35.590248",
     "status": "completed"
    },
    "tags": []
   },
   "outputs": [],
   "source": [
    "cp_metrics_df = pd.DataFrame(cp_metrics_dict)"
   ]
  },
  {
   "cell_type": "code",
   "execution_count": 61,
   "id": "db12611b-57b2-4910-b9d0-355adfd6e7bf",
   "metadata": {
    "execution": {
     "iopub.execute_input": "2025-07-30T14:20:35.656555Z",
     "iopub.status.busy": "2025-07-30T14:20:35.656171Z",
     "iopub.status.idle": "2025-07-30T14:20:35.669991Z",
     "shell.execute_reply": "2025-07-30T14:20:35.669205Z"
    },
    "papermill": {
     "duration": 0.030347,
     "end_time": "2025-07-30T14:20:35.671347",
     "exception": false,
     "start_time": "2025-07-30T14:20:35.641000",
     "status": "completed"
    },
    "tags": []
   },
   "outputs": [
    {
     "data": {
      "text/html": [
       "<div>\n",
       "<style scoped>\n",
       "    .dataframe tbody tr th:only-of-type {\n",
       "        vertical-align: middle;\n",
       "    }\n",
       "\n",
       "    .dataframe tbody tr th {\n",
       "        vertical-align: top;\n",
       "    }\n",
       "\n",
       "    .dataframe thead th {\n",
       "        text-align: right;\n",
       "    }\n",
       "</style>\n",
       "<table border=\"1\" class=\"dataframe\">\n",
       "  <thead>\n",
       "    <tr style=\"text-align: right;\">\n",
       "      <th></th>\n",
       "      <th>universe_id</th>\n",
       "      <th>universe_training_size</th>\n",
       "      <th>universe_scale</th>\n",
       "      <th>universe_model</th>\n",
       "      <th>universe_exclude_features</th>\n",
       "      <th>universe_exclude_subgroups</th>\n",
       "      <th>q_hat</th>\n",
       "      <th>coverage</th>\n",
       "      <th>avg_size</th>\n",
       "    </tr>\n",
       "  </thead>\n",
       "  <tbody>\n",
       "    <tr>\n",
       "      <th>0</th>\n",
       "      <td>e1e7bd20b1896a0d9ac6a0e6a3c5d600</td>\n",
       "      <td>1k</td>\n",
       "      <td>scale</td>\n",
       "      <td>penalized_logreg</td>\n",
       "      <td>nationality-sex</td>\n",
       "      <td>keep-all</td>\n",
       "      <td>0.801607</td>\n",
       "      <td>0.90641</td>\n",
       "      <td>1.238089</td>\n",
       "    </tr>\n",
       "  </tbody>\n",
       "</table>\n",
       "</div>"
      ],
      "text/plain": [
       "                        universe_id universe_training_size universe_scale  \\\n",
       "0  e1e7bd20b1896a0d9ac6a0e6a3c5d600                     1k          scale   \n",
       "\n",
       "     universe_model universe_exclude_features universe_exclude_subgroups  \\\n",
       "0  penalized_logreg           nationality-sex                   keep-all   \n",
       "\n",
       "      q_hat  coverage  avg_size  \n",
       "0  0.801607   0.90641  1.238089  "
      ]
     },
     "execution_count": 61,
     "metadata": {},
     "output_type": "execute_result"
    }
   ],
   "source": [
    "cp_metrics_df"
   ]
  },
  {
   "cell_type": "code",
   "execution_count": 62,
   "id": "b7fbde55-a0a1-47e4-9af6-fe4a17fa8c61",
   "metadata": {
    "execution": {
     "iopub.execute_input": "2025-07-30T14:20:35.700888Z",
     "iopub.status.busy": "2025-07-30T14:20:35.700437Z",
     "iopub.status.idle": "2025-07-30T14:20:35.706786Z",
     "shell.execute_reply": "2025-07-30T14:20:35.705994Z"
    },
    "papermill": {
     "duration": 0.023086,
     "end_time": "2025-07-30T14:20:35.708823",
     "exception": false,
     "start_time": "2025-07-30T14:20:35.685737",
     "status": "completed"
    },
    "tags": []
   },
   "outputs": [],
   "source": [
    "# Conditional Coverage & looking at subgroups"
   ]
  },
  {
   "cell_type": "code",
   "execution_count": 63,
   "id": "027ae886-68dd-4141-96c7-805a5450e1ef",
   "metadata": {
    "execution": {
     "iopub.execute_input": "2025-07-30T14:20:35.777501Z",
     "iopub.status.busy": "2025-07-30T14:20:35.777004Z",
     "iopub.status.idle": "2025-07-30T14:20:36.074092Z",
     "shell.execute_reply": "2025-07-30T14:20:36.072991Z"
    },
    "papermill": {
     "duration": 0.332319,
     "end_time": "2025-07-30T14:20:36.076542",
     "exception": false,
     "start_time": "2025-07-30T14:20:35.744223",
     "status": "completed"
    },
    "tags": []
   },
   "outputs": [],
   "source": [
    "from fairness_multiverse.conformal import build_cp_groups\n",
    "\n",
    "cp_groups_df = build_cp_groups(pred_sets, y_true, X_test.index, org_test)\n",
    "#needs universe_id and setting"
   ]
  },
  {
   "cell_type": "code",
   "execution_count": 64,
   "id": "01d5802c-663a-4d1f-9d69-e036faaffbf7",
   "metadata": {
    "execution": {
     "iopub.execute_input": "2025-07-30T14:20:36.153122Z",
     "iopub.status.busy": "2025-07-30T14:20:36.152719Z",
     "iopub.status.idle": "2025-07-30T14:20:36.157420Z",
     "shell.execute_reply": "2025-07-30T14:20:36.156308Z"
    },
    "papermill": {
     "duration": 0.046387,
     "end_time": "2025-07-30T14:20:36.159766",
     "exception": false,
     "start_time": "2025-07-30T14:20:36.113379",
     "status": "completed"
    },
    "tags": []
   },
   "outputs": [],
   "source": [
    "#delete\n",
    "#cp_groups_df"
   ]
  },
  {
   "cell_type": "code",
   "execution_count": 65,
   "id": "fa424af1-d1eb-443d-b717-2d279ada8408",
   "metadata": {
    "execution": {
     "iopub.execute_input": "2025-07-30T14:20:36.236745Z",
     "iopub.status.busy": "2025-07-30T14:20:36.235597Z",
     "iopub.status.idle": "2025-07-30T14:20:36.241908Z",
     "shell.execute_reply": "2025-07-30T14:20:36.241014Z"
    },
    "papermill": {
     "duration": 0.046442,
     "end_time": "2025-07-30T14:20:36.243669",
     "exception": false,
     "start_time": "2025-07-30T14:20:36.197227",
     "status": "completed"
    },
    "tags": []
   },
   "outputs": [],
   "source": [
    "#delete\n",
    "#percentage = (cp_groups_df['nongerman_female'] == 1).mean() * 100\n",
    "#print(percentage)\n"
   ]
  },
  {
   "cell_type": "code",
   "execution_count": 66,
   "id": "6cbdab96-b2b2-45af-ad54-d0516db2e28d",
   "metadata": {
    "execution": {
     "iopub.execute_input": "2025-07-30T14:20:36.273896Z",
     "iopub.status.busy": "2025-07-30T14:20:36.273548Z",
     "iopub.status.idle": "2025-07-30T14:20:37.341531Z",
     "shell.execute_reply": "2025-07-30T14:20:37.340545Z"
    },
    "papermill": {
     "duration": 1.084496,
     "end_time": "2025-07-30T14:20:37.343389",
     "exception": false,
     "start_time": "2025-07-30T14:20:36.258893",
     "status": "completed"
    },
    "tags": []
   },
   "outputs": [],
   "source": [
    "# Define covered = 1 if true_label is in the predicted set\n",
    "cp_groups_df['covered'] = cp_groups_df.apply(\n",
    "    lambda r: int(r['true_label'] in r['pred_set']),\n",
    "    axis=1\n",
    ")"
   ]
  },
  {
   "cell_type": "code",
   "execution_count": 67,
   "id": "338ff529-1a6b-4b87-a931-8e4788d52aad",
   "metadata": {
    "execution": {
     "iopub.execute_input": "2025-07-30T14:20:37.401441Z",
     "iopub.status.busy": "2025-07-30T14:20:37.400820Z",
     "iopub.status.idle": "2025-07-30T14:20:37.406606Z",
     "shell.execute_reply": "2025-07-30T14:20:37.405581Z"
    },
    "papermill": {
     "duration": 0.038198,
     "end_time": "2025-07-30T14:20:37.408751",
     "exception": false,
     "start_time": "2025-07-30T14:20:37.370553",
     "status": "completed"
    },
    "tags": []
   },
   "outputs": [],
   "source": [
    "#cp_groups_df"
   ]
  },
  {
   "cell_type": "code",
   "execution_count": 68,
   "id": "90032e27-66df-4540-9169-4e89cfbaa758",
   "metadata": {
    "execution": {
     "iopub.execute_input": "2025-07-30T14:20:37.482736Z",
     "iopub.status.busy": "2025-07-30T14:20:37.481066Z",
     "iopub.status.idle": "2025-07-30T14:20:37.492611Z",
     "shell.execute_reply": "2025-07-30T14:20:37.491780Z"
    },
    "papermill": {
     "duration": 0.052404,
     "end_time": "2025-07-30T14:20:37.497068",
     "exception": false,
     "start_time": "2025-07-30T14:20:37.444664",
     "status": "completed"
    },
    "tags": []
   },
   "outputs": [],
   "source": [
    "subgroups = ['frau1','nongerman','nongerman_male','nongerman_female']\n",
    "\n",
    "# Conditional coverage for subgroup==1\n",
    "cond_coverage = {\n",
    "    g: cp_groups_df.loc[cp_groups_df[g]==1, 'covered'].mean()\n",
    "    for g in subgroups\n",
    "}"
   ]
  },
  {
   "cell_type": "code",
   "execution_count": 69,
   "id": "1e348fb1-b9c3-45bc-ba23-f016827a7e0d",
   "metadata": {
    "execution": {
     "iopub.execute_input": "2025-07-30T14:20:37.528318Z",
     "iopub.status.busy": "2025-07-30T14:20:37.527808Z",
     "iopub.status.idle": "2025-07-30T14:20:37.534077Z",
     "shell.execute_reply": "2025-07-30T14:20:37.533274Z"
    },
    "papermill": {
     "duration": 0.022657,
     "end_time": "2025-07-30T14:20:37.535489",
     "exception": false,
     "start_time": "2025-07-30T14:20:37.512832",
     "status": "completed"
    },
    "tags": []
   },
   "outputs": [
    {
     "data": {
      "text/plain": [
       "{'frau1': 0.9050815473783529,\n",
       " 'nongerman': 0.9120305394936282,\n",
       " 'nongerman_male': 0.9268666126272179,\n",
       " 'nongerman_female': 0.8874813710879285}"
      ]
     },
     "execution_count": 69,
     "metadata": {},
     "output_type": "execute_result"
    }
   ],
   "source": [
    "cond_coverage"
   ]
  },
  {
   "cell_type": "code",
   "execution_count": 70,
   "id": "f5093324-c3dd-4d63-bc4c-8d945e5c8bbb",
   "metadata": {
    "execution": {
     "iopub.execute_input": "2025-07-30T14:20:37.566624Z",
     "iopub.status.busy": "2025-07-30T14:20:37.566121Z",
     "iopub.status.idle": "2025-07-30T14:20:37.572384Z",
     "shell.execute_reply": "2025-07-30T14:20:37.571637Z"
    },
    "papermill": {
     "duration": 0.022994,
     "end_time": "2025-07-30T14:20:37.573766",
     "exception": false,
     "start_time": "2025-07-30T14:20:37.550772",
     "status": "completed"
    },
    "tags": []
   },
   "outputs": [],
   "source": [
    "for subgroup, cov in cond_coverage.items():\n",
    "    cp_metrics_df[f\"cov_{subgroup}\"] = cov"
   ]
  },
  {
   "cell_type": "code",
   "execution_count": 71,
   "id": "6e872e10-dbe5-49e8-b554-5030c98ff75d",
   "metadata": {
    "execution": {
     "iopub.execute_input": "2025-07-30T14:20:37.605689Z",
     "iopub.status.busy": "2025-07-30T14:20:37.605229Z",
     "iopub.status.idle": "2025-07-30T14:20:37.619979Z",
     "shell.execute_reply": "2025-07-30T14:20:37.619221Z"
    },
    "papermill": {
     "duration": 0.031978,
     "end_time": "2025-07-30T14:20:37.621433",
     "exception": false,
     "start_time": "2025-07-30T14:20:37.589455",
     "status": "completed"
    },
    "tags": []
   },
   "outputs": [
    {
     "data": {
      "text/html": [
       "<div>\n",
       "<style scoped>\n",
       "    .dataframe tbody tr th:only-of-type {\n",
       "        vertical-align: middle;\n",
       "    }\n",
       "\n",
       "    .dataframe tbody tr th {\n",
       "        vertical-align: top;\n",
       "    }\n",
       "\n",
       "    .dataframe thead th {\n",
       "        text-align: right;\n",
       "    }\n",
       "</style>\n",
       "<table border=\"1\" class=\"dataframe\">\n",
       "  <thead>\n",
       "    <tr style=\"text-align: right;\">\n",
       "      <th></th>\n",
       "      <th>universe_id</th>\n",
       "      <th>universe_training_size</th>\n",
       "      <th>universe_scale</th>\n",
       "      <th>universe_model</th>\n",
       "      <th>universe_exclude_features</th>\n",
       "      <th>universe_exclude_subgroups</th>\n",
       "      <th>q_hat</th>\n",
       "      <th>coverage</th>\n",
       "      <th>avg_size</th>\n",
       "      <th>cov_frau1</th>\n",
       "      <th>cov_nongerman</th>\n",
       "      <th>cov_nongerman_male</th>\n",
       "      <th>cov_nongerman_female</th>\n",
       "    </tr>\n",
       "  </thead>\n",
       "  <tbody>\n",
       "    <tr>\n",
       "      <th>0</th>\n",
       "      <td>e1e7bd20b1896a0d9ac6a0e6a3c5d600</td>\n",
       "      <td>1k</td>\n",
       "      <td>scale</td>\n",
       "      <td>penalized_logreg</td>\n",
       "      <td>nationality-sex</td>\n",
       "      <td>keep-all</td>\n",
       "      <td>0.801607</td>\n",
       "      <td>0.90641</td>\n",
       "      <td>1.238089</td>\n",
       "      <td>0.905082</td>\n",
       "      <td>0.912031</td>\n",
       "      <td>0.926867</td>\n",
       "      <td>0.887481</td>\n",
       "    </tr>\n",
       "  </tbody>\n",
       "</table>\n",
       "</div>"
      ],
      "text/plain": [
       "                        universe_id universe_training_size universe_scale  \\\n",
       "0  e1e7bd20b1896a0d9ac6a0e6a3c5d600                     1k          scale   \n",
       "\n",
       "     universe_model universe_exclude_features universe_exclude_subgroups  \\\n",
       "0  penalized_logreg           nationality-sex                   keep-all   \n",
       "\n",
       "      q_hat  coverage  avg_size  cov_frau1  cov_nongerman  cov_nongerman_male  \\\n",
       "0  0.801607   0.90641  1.238089   0.905082       0.912031            0.926867   \n",
       "\n",
       "   cov_nongerman_female  \n",
       "0              0.887481  "
      ]
     },
     "execution_count": 71,
     "metadata": {},
     "output_type": "execute_result"
    }
   ],
   "source": [
    "cp_metrics_df"
   ]
  },
  {
   "cell_type": "markdown",
   "id": "33774451",
   "metadata": {
    "papermill": {
     "duration": 0.013672,
     "end_time": "2025-07-30T14:20:37.650080",
     "exception": false,
     "start_time": "2025-07-30T14:20:37.636408",
     "status": "completed"
    },
    "tags": []
   },
   "source": [
    "# (Fairness) Metrics"
   ]
  },
  {
   "cell_type": "code",
   "execution_count": 72,
   "id": "debc5d62",
   "metadata": {
    "execution": {
     "iopub.execute_input": "2025-07-30T14:20:37.683459Z",
     "iopub.status.busy": "2025-07-30T14:20:37.682778Z",
     "iopub.status.idle": "2025-07-30T14:20:37.705639Z",
     "shell.execute_reply": "2025-07-30T14:20:37.704449Z"
    },
    "papermill": {
     "duration": 0.038868,
     "end_time": "2025-07-30T14:20:37.706995",
     "exception": false,
     "start_time": "2025-07-30T14:20:37.668127",
     "status": "completed"
    },
    "tags": []
   },
   "outputs": [],
   "source": [
    "# do I need to include maxdeutsch1.missing?\n",
    "\n",
    "import numpy as np\n",
    "\n",
    "colname_to_bin = \"maxdeutsch1\"\n",
    "majority_value = org_train[colname_to_bin].mode()[0]\n",
    "\n",
    "org_test[\"majmin\"] = np.where(org_test[colname_to_bin] == majority_value, \"majority\", \"minority\")"
   ]
  },
  {
   "cell_type": "code",
   "execution_count": 73,
   "id": "06a50de5",
   "metadata": {
    "execution": {
     "iopub.execute_input": "2025-07-30T14:20:37.737211Z",
     "iopub.status.busy": "2025-07-30T14:20:37.736594Z",
     "iopub.status.idle": "2025-07-30T14:20:39.802229Z",
     "shell.execute_reply": "2025-07-30T14:20:39.801489Z"
    },
    "papermill": {
     "duration": 2.081591,
     "end_time": "2025-07-30T14:20:39.803679",
     "exception": false,
     "start_time": "2025-07-30T14:20:37.722088",
     "status": "completed"
    },
    "tags": []
   },
   "outputs": [],
   "source": [
    "example_universe = universe.copy()\n",
    "example_universe[\"cutoff\"] = example_universe[\"cutoff\"][0]\n",
    "example_universe[\"eval_fairness_grouping\"] = example_universe[\"eval_fairness_grouping\"][0]\n",
    "fairness_dict, metric_frame = universe_analysis.compute_metrics(\n",
    "    example_universe,\n",
    "    y_pred_prob=probs_test,\n",
    "    y_test=y_true,\n",
    "    org_test=org_test,\n",
    ")"
   ]
  },
  {
   "cell_type": "markdown",
   "id": "f95d4e02",
   "metadata": {
    "papermill": {
     "duration": 0.024626,
     "end_time": "2025-07-30T14:20:39.846300",
     "exception": false,
     "start_time": "2025-07-30T14:20:39.821674",
     "status": "completed"
    },
    "tags": []
   },
   "source": [
    "# Overall"
   ]
  },
  {
   "cell_type": "markdown",
   "id": "bdee4871",
   "metadata": {
    "papermill": {
     "duration": 0.026945,
     "end_time": "2025-07-30T14:20:39.902534",
     "exception": false,
     "start_time": "2025-07-30T14:20:39.875589",
     "status": "completed"
    },
    "tags": []
   },
   "source": [
    "Fairness\n",
    "Main fairness target: Equalized Odds. Seems to be a better fit than equal opportunity, since we're not only interested in Y = 1. Seems to be a better fit than demographic parity, since we also care about accuracy, not just equal distribution of preds.\n",
    "\n",
    "Pick column for computation of fairness metrics\n",
    "\n",
    "Performance\n",
    "Overall performance measures, most interesting in relation to the measures split by group below"
   ]
  },
  {
   "cell_type": "code",
   "execution_count": 74,
   "id": "c4e067c6",
   "metadata": {
    "execution": {
     "iopub.execute_input": "2025-07-30T14:20:39.959194Z",
     "iopub.status.busy": "2025-07-30T14:20:39.958765Z",
     "iopub.status.idle": "2025-07-30T14:20:39.967497Z",
     "shell.execute_reply": "2025-07-30T14:20:39.966487Z"
    },
    "papermill": {
     "duration": 0.03794,
     "end_time": "2025-07-30T14:20:39.969703",
     "exception": false,
     "start_time": "2025-07-30T14:20:39.931763",
     "status": "completed"
    },
    "tags": []
   },
   "outputs": [
    {
     "data": {
      "text/plain": [
       "accuracy                   0.218203\n",
       "balanced accuracy          0.534829\n",
       "f1                         0.239704\n",
       "precision                  0.136935\n",
       "false positive rate        0.891064\n",
       "false negative rate        0.039277\n",
       "selection rate             0.900000\n",
       "count                  89710.000000\n",
       "dtype: float64"
      ]
     },
     "execution_count": 74,
     "metadata": {},
     "output_type": "execute_result"
    }
   ],
   "source": [
    "metric_frame.overall"
   ]
  },
  {
   "cell_type": "markdown",
   "id": "e968fe9d",
   "metadata": {
    "papermill": {
     "duration": 0.038788,
     "end_time": "2025-07-30T14:20:40.047079",
     "exception": false,
     "start_time": "2025-07-30T14:20:40.008291",
     "status": "completed"
    },
    "tags": []
   },
   "source": [
    "By Group"
   ]
  },
  {
   "cell_type": "code",
   "execution_count": 75,
   "id": "ec325bce",
   "metadata": {
    "execution": {
     "iopub.execute_input": "2025-07-30T14:20:40.125505Z",
     "iopub.status.busy": "2025-07-30T14:20:40.125005Z",
     "iopub.status.idle": "2025-07-30T14:20:40.142832Z",
     "shell.execute_reply": "2025-07-30T14:20:40.141813Z"
    },
    "papermill": {
     "duration": 0.058168,
     "end_time": "2025-07-30T14:20:40.144666",
     "exception": false,
     "start_time": "2025-07-30T14:20:40.086498",
     "status": "completed"
    },
    "tags": []
   },
   "outputs": [
    {
     "data": {
      "text/html": [
       "<div>\n",
       "<style scoped>\n",
       "    .dataframe tbody tr th:only-of-type {\n",
       "        vertical-align: middle;\n",
       "    }\n",
       "\n",
       "    .dataframe tbody tr th {\n",
       "        vertical-align: top;\n",
       "    }\n",
       "\n",
       "    .dataframe thead th {\n",
       "        text-align: right;\n",
       "    }\n",
       "</style>\n",
       "<table border=\"1\" class=\"dataframe\">\n",
       "  <thead>\n",
       "    <tr style=\"text-align: right;\">\n",
       "      <th></th>\n",
       "      <th>accuracy</th>\n",
       "      <th>balanced accuracy</th>\n",
       "      <th>f1</th>\n",
       "      <th>precision</th>\n",
       "      <th>false positive rate</th>\n",
       "      <th>false negative rate</th>\n",
       "      <th>selection rate</th>\n",
       "      <th>count</th>\n",
       "    </tr>\n",
       "    <tr>\n",
       "      <th>majmin</th>\n",
       "      <th></th>\n",
       "      <th></th>\n",
       "      <th></th>\n",
       "      <th></th>\n",
       "      <th></th>\n",
       "      <th></th>\n",
       "      <th></th>\n",
       "      <th></th>\n",
       "    </tr>\n",
       "  </thead>\n",
       "  <tbody>\n",
       "    <tr>\n",
       "      <th>majority</th>\n",
       "      <td>0.233844</td>\n",
       "      <td>0.540370</td>\n",
       "      <td>0.248181</td>\n",
       "      <td>0.142578</td>\n",
       "      <td>0.876262</td>\n",
       "      <td>0.042998</td>\n",
       "      <td>0.886931</td>\n",
       "      <td>69170.0</td>\n",
       "    </tr>\n",
       "    <tr>\n",
       "      <th>minority</th>\n",
       "      <td>0.165531</td>\n",
       "      <td>0.517561</td>\n",
       "      <td>0.212244</td>\n",
       "      <td>0.119082</td>\n",
       "      <td>0.939963</td>\n",
       "      <td>0.024916</td>\n",
       "      <td>0.944012</td>\n",
       "      <td>20540.0</td>\n",
       "    </tr>\n",
       "  </tbody>\n",
       "</table>\n",
       "</div>"
      ],
      "text/plain": [
       "          accuracy  balanced accuracy        f1  precision  \\\n",
       "majmin                                                       \n",
       "majority  0.233844           0.540370  0.248181   0.142578   \n",
       "minority  0.165531           0.517561  0.212244   0.119082   \n",
       "\n",
       "          false positive rate  false negative rate  selection rate    count  \n",
       "majmin                                                                       \n",
       "majority             0.876262             0.042998        0.886931  69170.0  \n",
       "minority             0.939963             0.024916        0.944012  20540.0  "
      ]
     },
     "execution_count": 75,
     "metadata": {},
     "output_type": "execute_result"
    }
   ],
   "source": [
    "metric_frame.by_group"
   ]
  },
  {
   "cell_type": "code",
   "execution_count": 76,
   "id": "a9ddbe63",
   "metadata": {
    "execution": {
     "iopub.execute_input": "2025-07-30T14:20:40.208002Z",
     "iopub.status.busy": "2025-07-30T14:20:40.207436Z",
     "iopub.status.idle": "2025-07-30T14:20:42.601183Z",
     "shell.execute_reply": "2025-07-30T14:20:42.600479Z"
    },
    "papermill": {
     "duration": 2.426947,
     "end_time": "2025-07-30T14:20:42.602831",
     "exception": false,
     "start_time": "2025-07-30T14:20:40.175884",
     "status": "completed"
    },
    "tags": []
   },
   "outputs": [
    {
     "data": {
      "text/plain": [
       "array([[<Axes: title={'center': 'accuracy'}, xlabel='majmin'>,\n",
       "        <Axes: title={'center': 'balanced accuracy'}, xlabel='majmin'>,\n",
       "        <Axes: title={'center': 'f1'}, xlabel='majmin'>],\n",
       "       [<Axes: title={'center': 'precision'}, xlabel='majmin'>,\n",
       "        <Axes: title={'center': 'false positive rate'}, xlabel='majmin'>,\n",
       "        <Axes: title={'center': 'false negative rate'}, xlabel='majmin'>],\n",
       "       [<Axes: title={'center': 'selection rate'}, xlabel='majmin'>,\n",
       "        <Axes: title={'center': 'count'}, xlabel='majmin'>,\n",
       "        <Axes: xlabel='majmin'>]], dtype=object)"
      ]
     },
     "execution_count": 76,
     "metadata": {},
     "output_type": "execute_result"
    },
    {
     "data": {
      "image/png": "[encoded data removed]",
      "text/plain": [
       "<Figure size 1200x800 with 9 Axes>"
      ]
     },
     "metadata": {},
     "output_type": "display_data"
    }
   ],
   "source": [
    "# In a graphic\n",
    "metric_frame.by_group.plot.bar(\n",
    "    subplots=True,\n",
    "    layout=[3, 3],\n",
    "    legend=False,\n",
    "    figsize=[12, 8],\n",
    "    title=\"Show all metrics\",\n",
    ")"
   ]
  },
  {
   "cell_type": "markdown",
   "id": "f57a0bac",
   "metadata": {
    "papermill": {
     "duration": 0.037329,
     "end_time": "2025-07-30T14:20:42.682452",
     "exception": false,
     "start_time": "2025-07-30T14:20:42.645123",
     "status": "completed"
    },
    "tags": []
   },
   "source": [
    "# Final Output"
   ]
  },
  {
   "cell_type": "code",
   "execution_count": 77,
   "id": "96d280a3",
   "metadata": {
    "execution": {
     "iopub.execute_input": "2025-07-30T14:20:42.749596Z",
     "iopub.status.busy": "2025-07-30T14:20:42.748348Z",
     "iopub.status.idle": "2025-07-30T14:20:42.756519Z",
     "shell.execute_reply": "2025-07-30T14:20:42.755526Z"
    },
    "papermill": {
     "duration": 0.038367,
     "end_time": "2025-07-30T14:20:42.758494",
     "exception": false,
     "start_time": "2025-07-30T14:20:42.720127",
     "status": "completed"
    },
    "tags": []
   },
   "outputs": [
    {
     "data": {
      "text/plain": [
       "4"
      ]
     },
     "execution_count": 77,
     "metadata": {},
     "output_type": "execute_result"
    }
   ],
   "source": [
    "sub_universes = universe_analysis.generate_sub_universes()\n",
    "len(sub_universes)"
   ]
  },
  {
   "cell_type": "code",
   "execution_count": 78,
   "id": "92adf7ba",
   "metadata": {
    "execution": {
     "iopub.execute_input": "2025-07-30T14:20:42.826443Z",
     "iopub.status.busy": "2025-07-30T14:20:42.825930Z",
     "iopub.status.idle": "2025-07-30T14:20:42.832548Z",
     "shell.execute_reply": "2025-07-30T14:20:42.831463Z"
    },
    "papermill": {
     "duration": 0.044346,
     "end_time": "2025-07-30T14:20:42.834282",
     "exception": false,
     "start_time": "2025-07-30T14:20:42.789936",
     "status": "completed"
    },
    "tags": []
   },
   "outputs": [],
   "source": [
    "def filter_sub_universe_data(sub_universe, org_test):\n",
    "    # Keep all rows — no filtering\n",
    "    keep_rows_mask = np.ones(org_test.shape[0], dtype=bool)\n",
    "\n",
    "    print(f\"[INFO] Keeping all rows: {keep_rows_mask.sum()} rows retained.\")\n",
    "    return keep_rows_mask"
   ]
  },
  {
   "cell_type": "code",
   "execution_count": 79,
   "id": "4a759155",
   "metadata": {
    "execution": {
     "iopub.execute_input": "2025-07-30T14:20:42.902103Z",
     "iopub.status.busy": "2025-07-30T14:20:42.901568Z",
     "iopub.status.idle": "2025-07-30T14:20:52.302892Z",
     "shell.execute_reply": "2025-07-30T14:20:52.301777Z"
    },
    "papermill": {
     "duration": 9.437309,
     "end_time": "2025-07-30T14:20:52.304585",
     "exception": false,
     "start_time": "2025-07-30T14:20:42.867276",
     "status": "completed"
    },
    "tags": []
   },
   "outputs": [
    {
     "name": "stdout",
     "output_type": "stream",
     "text": [
      "Stopping execution_time clock.\n",
      "[INFO] Keeping all rows: 89710 rows retained.\n"
     ]
    },
    {
     "name": "stdout",
     "output_type": "stream",
     "text": [
      "[INFO] Keeping all rows: 89710 rows retained.\n"
     ]
    },
    {
     "name": "stdout",
     "output_type": "stream",
     "text": [
      "[INFO] Keeping all rows: 89710 rows retained.\n"
     ]
    },
    {
     "name": "stdout",
     "output_type": "stream",
     "text": [
      "[INFO] Keeping all rows: 89710 rows retained.\n"
     ]
    },
    {
     "data": {
      "text/html": [
       "<div>\n",
       "<style scoped>\n",
       "    .dataframe tbody tr th:only-of-type {\n",
       "        vertical-align: middle;\n",
       "    }\n",
       "\n",
       "    .dataframe tbody tr th {\n",
       "        vertical-align: top;\n",
       "    }\n",
       "\n",
       "    .dataframe thead th {\n",
       "        text-align: right;\n",
       "    }\n",
       "</style>\n",
       "<table border=\"1\" class=\"dataframe\">\n",
       "  <thead>\n",
       "    <tr style=\"text-align: right;\">\n",
       "      <th></th>\n",
       "      <th>run_no</th>\n",
       "      <th>universe_id</th>\n",
       "      <th>universe_settings</th>\n",
       "      <th>execution_time</th>\n",
       "      <th>test_size_n</th>\n",
       "      <th>test_size_frac</th>\n",
       "      <th>fair_main_equalized_odds_difference</th>\n",
       "      <th>fair_main_equalized_odds_ratio</th>\n",
       "      <th>fair_main_demographic_parity_difference</th>\n",
       "      <th>fair_main_demographic_parity_ratio</th>\n",
       "      <th>...</th>\n",
       "      <th>perf_grp_precision_0</th>\n",
       "      <th>perf_grp_precision_1</th>\n",
       "      <th>perf_grp_false positive rate_0</th>\n",
       "      <th>perf_grp_false positive rate_1</th>\n",
       "      <th>perf_grp_false negative rate_0</th>\n",
       "      <th>perf_grp_false negative rate_1</th>\n",
       "      <th>perf_grp_selection rate_0</th>\n",
       "      <th>perf_grp_selection rate_1</th>\n",
       "      <th>perf_grp_count_0</th>\n",
       "      <th>perf_grp_count_1</th>\n",
       "    </tr>\n",
       "  </thead>\n",
       "  <tbody>\n",
       "    <tr>\n",
       "      <th>0</th>\n",
       "      <td>12</td>\n",
       "      <td>e1e7bd20b1896a0d9ac6a0e6a3c5d600</td>\n",
       "      <td>{\"cutoff\": \"quantile_0.1\", \"eval_fairness_grou...</td>\n",
       "      <td>25.127197</td>\n",
       "      <td>89710</td>\n",
       "      <td>1.0</td>\n",
       "      <td>0.063701</td>\n",
       "      <td>0.932231</td>\n",
       "      <td>0.057081</td>\n",
       "      <td>0.939534</td>\n",
       "      <td>...</td>\n",
       "      <td>NaN</td>\n",
       "      <td>NaN</td>\n",
       "      <td>NaN</td>\n",
       "      <td>NaN</td>\n",
       "      <td>NaN</td>\n",
       "      <td>NaN</td>\n",
       "      <td>NaN</td>\n",
       "      <td>NaN</td>\n",
       "      <td>NaN</td>\n",
       "      <td>NaN</td>\n",
       "    </tr>\n",
       "    <tr>\n",
       "      <th>0</th>\n",
       "      <td>12</td>\n",
       "      <td>e1e7bd20b1896a0d9ac6a0e6a3c5d600</td>\n",
       "      <td>{\"cutoff\": \"quantile_0.1\", \"eval_fairness_grou...</td>\n",
       "      <td>25.127197</td>\n",
       "      <td>89710</td>\n",
       "      <td>1.0</td>\n",
       "      <td>0.063701</td>\n",
       "      <td>0.932231</td>\n",
       "      <td>0.057081</td>\n",
       "      <td>0.939534</td>\n",
       "      <td>...</td>\n",
       "      <td>0.119082</td>\n",
       "      <td>0.142578</td>\n",
       "      <td>0.939963</td>\n",
       "      <td>0.876262</td>\n",
       "      <td>0.024916</td>\n",
       "      <td>0.042998</td>\n",
       "      <td>0.944012</td>\n",
       "      <td>0.886931</td>\n",
       "      <td>20540.0</td>\n",
       "      <td>69170.0</td>\n",
       "    </tr>\n",
       "    <tr>\n",
       "      <th>0</th>\n",
       "      <td>12</td>\n",
       "      <td>e1e7bd20b1896a0d9ac6a0e6a3c5d600</td>\n",
       "      <td>{\"cutoff\": \"quantile_0.25\", \"eval_fairness_gro...</td>\n",
       "      <td>25.127197</td>\n",
       "      <td>89710</td>\n",
       "      <td>1.0</td>\n",
       "      <td>0.062080</td>\n",
       "      <td>0.920257</td>\n",
       "      <td>0.052858</td>\n",
       "      <td>0.933155</td>\n",
       "      <td>...</td>\n",
       "      <td>NaN</td>\n",
       "      <td>NaN</td>\n",
       "      <td>NaN</td>\n",
       "      <td>NaN</td>\n",
       "      <td>NaN</td>\n",
       "      <td>NaN</td>\n",
       "      <td>NaN</td>\n",
       "      <td>NaN</td>\n",
       "      <td>NaN</td>\n",
       "      <td>NaN</td>\n",
       "    </tr>\n",
       "    <tr>\n",
       "      <th>0</th>\n",
       "      <td>12</td>\n",
       "      <td>e1e7bd20b1896a0d9ac6a0e6a3c5d600</td>\n",
       "      <td>{\"cutoff\": \"quantile_0.25\", \"eval_fairness_gro...</td>\n",
       "      <td>25.127197</td>\n",
       "      <td>89710</td>\n",
       "      <td>1.0</td>\n",
       "      <td>0.062080</td>\n",
       "      <td>0.920257</td>\n",
       "      <td>0.052858</td>\n",
       "      <td>0.933155</td>\n",
       "      <td>...</td>\n",
       "      <td>0.128987</td>\n",
       "      <td>0.157386</td>\n",
       "      <td>0.778505</td>\n",
       "      <td>0.716425</td>\n",
       "      <td>0.115287</td>\n",
       "      <td>0.121116</td>\n",
       "      <td>0.790750</td>\n",
       "      <td>0.737892</td>\n",
       "      <td>20540.0</td>\n",
       "      <td>69170.0</td>\n",
       "    </tr>\n",
       "  </tbody>\n",
       "</table>\n",
       "<p>4 rows × 50 columns</p>\n",
       "</div>"
      ],
      "text/plain": [
       "  run_no                       universe_id  \\\n",
       "0     12  e1e7bd20b1896a0d9ac6a0e6a3c5d600   \n",
       "0     12  e1e7bd20b1896a0d9ac6a0e6a3c5d600   \n",
       "0     12  e1e7bd20b1896a0d9ac6a0e6a3c5d600   \n",
       "0     12  e1e7bd20b1896a0d9ac6a0e6a3c5d600   \n",
       "\n",
       "                                   universe_settings  execution_time  \\\n",
       "0  {\"cutoff\": \"quantile_0.1\", \"eval_fairness_grou...       25.127197   \n",
       "0  {\"cutoff\": \"quantile_0.1\", \"eval_fairness_grou...       25.127197   \n",
       "0  {\"cutoff\": \"quantile_0.25\", \"eval_fairness_gro...       25.127197   \n",
       "0  {\"cutoff\": \"quantile_0.25\", \"eval_fairness_gro...       25.127197   \n",
       "\n",
       "   test_size_n  test_size_frac  fair_main_equalized_odds_difference  \\\n",
       "0        89710             1.0                             0.063701   \n",
       "0        89710             1.0                             0.063701   \n",
       "0        89710             1.0                             0.062080   \n",
       "0        89710             1.0                             0.062080   \n",
       "\n",
       "   fair_main_equalized_odds_ratio  fair_main_demographic_parity_difference  \\\n",
       "0                        0.932231                                 0.057081   \n",
       "0                        0.932231                                 0.057081   \n",
       "0                        0.920257                                 0.052858   \n",
       "0                        0.920257                                 0.052858   \n",
       "\n",
       "   fair_main_demographic_parity_ratio  ...  perf_grp_precision_0  \\\n",
       "0                            0.939534  ...                   NaN   \n",
       "0                            0.939534  ...              0.119082   \n",
       "0                            0.933155  ...                   NaN   \n",
       "0                            0.933155  ...              0.128987   \n",
       "\n",
       "   perf_grp_precision_1  perf_grp_false positive rate_0  \\\n",
       "0                   NaN                             NaN   \n",
       "0              0.142578                        0.939963   \n",
       "0                   NaN                             NaN   \n",
       "0              0.157386                        0.778505   \n",
       "\n",
       "   perf_grp_false positive rate_1  perf_grp_false negative rate_0  \\\n",
       "0                             NaN                             NaN   \n",
       "0                        0.876262                        0.024916   \n",
       "0                             NaN                             NaN   \n",
       "0                        0.716425                        0.115287   \n",
       "\n",
       "   perf_grp_false negative rate_1  perf_grp_selection rate_0  \\\n",
       "0                             NaN                        NaN   \n",
       "0                        0.042998                   0.944012   \n",
       "0                             NaN                        NaN   \n",
       "0                        0.121116                   0.790750   \n",
       "\n",
       "   perf_grp_selection rate_1  perf_grp_count_0  perf_grp_count_1  \n",
       "0                        NaN               NaN               NaN  \n",
       "0                   0.886931           20540.0           69170.0  \n",
       "0                        NaN               NaN               NaN  \n",
       "0                   0.737892           20540.0           69170.0  \n",
       "\n",
       "[4 rows x 50 columns]"
      ]
     },
     "execution_count": 79,
     "metadata": {},
     "output_type": "execute_result"
    }
   ],
   "source": [
    "final_output = universe_analysis.generate_final_output(\n",
    "    y_pred_prob=probs_test,\n",
    "    y_test=y_true,\n",
    "    org_test=org_test,\n",
    "    filter_data=filter_sub_universe_data,\n",
    "    cp_metrics_df=cp_metrics_df,\n",
    "    save=True,\n",
    ")\n",
    "final_output"
   ]
  },
  {
   "cell_type": "code",
   "execution_count": null,
   "id": "721ff514-cb11-46f8-b6fc-50392f74b5cb",
   "metadata": {
    "papermill": {
     "duration": 0.036215,
     "end_time": "2025-07-30T14:20:52.376996",
     "exception": false,
     "start_time": "2025-07-30T14:20:52.340781",
     "status": "completed"
    },
    "tags": []
   },
   "outputs": [],
   "source": []
  }
 ],
 "metadata": {
  "celltoolbar": "Tags",
  "kernelspec": {
   "display_name": "Python (CMA Fairness)",
   "language": "python",
   "name": "cma_fair_env"
  },
  "language_info": {
   "codemirror_mode": {
    "name": "ipython",
    "version": 3
   },
   "file_extension": ".py",
   "mimetype": "text/x-python",
   "name": "python",
   "nbconvert_exporter": "python",
   "pygments_lexer": "ipython3",
   "version": "3.10.12"
  },
  "papermill": {
   "default_parameters": {},
   "duration": 38.989868,
   "end_time": "2025-07-30T14:20:53.255510",
   "environment_variables": {},
   "exception": null,
   "input_path": "universe_analysis.ipynb",
   "output_path": "output/runs/12/notebooks/m_12-e1e7bd20b1896a0d9ac6a0e6a3c5d600.ipynb",
   "parameters": {
    "output_dir": "output",
    "run_no": "12",
    "seed": "2023",
    "universe": "{\"cutoff\": [\"quantile_0.1\", \"quantile_0.25\"], \"eval_fairness_grouping\": [\"majority-minority\", \"nationality-all\"], \"exclude_features\": \"nationality-sex\", \"exclude_subgroups\": \"keep-all\", \"model\": \"penalized_logreg\", \"scale\": \"scale\", \"training_size\": \"1k\", \"training_year\": \"2014\"}",
    "universe_id": "e1e7bd20b1896a0d9ac6a0e6a3c5d600"
   },
   "start_time": "2025-07-30T14:20:14.265642",
   "version": "2.6.0"
  }
 },
 "nbformat": 4,
 "nbformat_minor": 5
}