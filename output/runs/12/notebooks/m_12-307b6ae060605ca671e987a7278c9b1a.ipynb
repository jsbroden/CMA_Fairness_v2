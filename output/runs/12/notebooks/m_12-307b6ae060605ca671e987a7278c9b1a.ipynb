{
 "cells": [
  {
   "cell_type": "code",
   "execution_count": 1,
   "id": "f159f837-637b-42ba-96b5-ec9a68c44524",
   "metadata": {
    "execution": {
     "iopub.execute_input": "2025-07-30T13:58:35.621408Z",
     "iopub.status.busy": "2025-07-30T13:58:35.620934Z",
     "iopub.status.idle": "2025-07-30T13:58:35.633732Z",
     "shell.execute_reply": "2025-07-30T13:58:35.632873Z"
    },
    "papermill": {
     "duration": 0.034432,
     "end_time": "2025-07-30T13:58:35.635328",
     "exception": false,
     "start_time": "2025-07-30T13:58:35.600896",
     "status": "completed"
    },
    "tags": []
   },
   "outputs": [
    {
     "name": "stdout",
     "output_type": "stream",
     "text": [
      "/dss/dsshome1/0C/ra93lal2/cma/CMA_Fairness_v2\n"
     ]
    },
    {
     "name": "stderr",
     "output_type": "stream",
     "text": [
      "/dss/dsshome1/0C/ra93lal2/.local/share/virtualenvs/CMA_Fairness_v2-3j10GkSs/lib/python3.10/site-packages/IPython/core/magics/osm.py:393: UserWarning: This is now an optional IPython functionality, using bookmarks requires you to install the `pickleshare` library.\n",
      "  bkms = self.shell.db.get('bookmarks', {})\n",
      "/dss/dsshome1/0C/ra93lal2/.local/share/virtualenvs/CMA_Fairness_v2-3j10GkSs/lib/python3.10/site-packages/IPython/core/magics/osm.py:417: UserWarning: This is now an optional IPython functionality, setting dhist requires you to install the `pickleshare` library.\n",
      "  self.shell.db['dhist'] = compress_dhist(dhist)[-100:]\n"
     ]
    }
   ],
   "source": [
    "%cd ~/cma/CMA_Fairness_v2"
   ]
  },
  {
   "cell_type": "markdown",
   "id": "de2603b9",
   "metadata": {
    "papermill": {
     "duration": 0.017705,
     "end_time": "2025-07-30T13:58:35.672470",
     "exception": false,
     "start_time": "2025-07-30T13:58:35.654765",
     "status": "completed"
    },
    "tags": []
   },
   "source": [
    "The following cell holds the definition of our parameters, these values can be overriden by rendering the with e.g. the following command:\n",
    "\n",
    "papermill -p alpha 0.2 -p ratio 0.3 universe_analysis.ipynb output/test_run.ipynb"
   ]
  },
  {
   "cell_type": "code",
   "execution_count": 2,
   "id": "a80968a0-40bb-4fa9-85ef-2d5eefb01975",
   "metadata": {
    "execution": {
     "iopub.execute_input": "2025-07-30T13:58:35.710807Z",
     "iopub.status.busy": "2025-07-30T13:58:35.710010Z",
     "iopub.status.idle": "2025-07-30T13:58:35.715127Z",
     "shell.execute_reply": "2025-07-30T13:58:35.714294Z"
    },
    "papermill": {
     "duration": 0.02582,
     "end_time": "2025-07-30T13:58:35.716572",
     "exception": false,
     "start_time": "2025-07-30T13:58:35.690752",
     "status": "completed"
    },
    "tags": []
   },
   "outputs": [
    {
     "name": "stdout",
     "output_type": "stream",
     "text": [
      "Current working directory: /dss/dsshome1/0C/ra93lal2/cma/CMA_Fairness_v2\n"
     ]
    }
   ],
   "source": [
    "import os\n",
    "print(\"Current working directory:\", os.getcwd())"
   ]
  },
  {
   "cell_type": "code",
   "execution_count": 3,
   "id": "2dce4c03",
   "metadata": {
    "execution": {
     "iopub.execute_input": "2025-07-30T13:58:35.757493Z",
     "iopub.status.busy": "2025-07-30T13:58:35.756525Z",
     "iopub.status.idle": "2025-07-30T13:58:35.762804Z",
     "shell.execute_reply": "2025-07-30T13:58:35.761993Z"
    },
    "papermill": {
     "duration": 0.029248,
     "end_time": "2025-07-30T13:58:35.764365",
     "exception": false,
     "start_time": "2025-07-30T13:58:35.735117",
     "status": "completed"
    },
    "tags": [
     "parameters"
    ]
   },
   "outputs": [],
   "source": [
    "run_no = 0\n",
    "universe_id = \"test\"\n",
    "universe = {\n",
    "    \"training_size\": \"25k\", # \"25k\", \"5k\", \"1k\"\n",
    "    \"training_year\": \"2014\", # \"2014\", \"2012_14\", \"2010_14\"\n",
    "    \"scale\": \"scale\", # \"scale\", \"do-not-scale\",\n",
    "    #\"stratify_split\": \"target\", # \"none\", \"target\", \"protected-attribute\", \"both\",\n",
    "    \"model\": \"elasticnet\", # \"logreg\", \"penalized_logreg\", \"rf\", \"gbm\", \"elasticnet\"\n",
    "    \"cutoff\": [\"quantile_0.15\", \"quantile_0.30\"],\n",
    "    \"exclude_features\": \"age\", # \"none\", \"nationality\", \"sex\", \"nationality-sex\", \"age\"\n",
    "    \"exclude_subgroups\": \"keep-all\", # \"keep-all\", \"drop-non-german\"\n",
    "    \"eval_fairness_grouping\": [\"majority-minority\", \"nationality-all\"]\n",
    "}\n",
    "\n",
    "output_dir=\"./output\"\n",
    "seed=0"
   ]
  },
  {
   "cell_type": "code",
   "execution_count": 4,
   "id": "96ff8985",
   "metadata": {
    "execution": {
     "iopub.execute_input": "2025-07-30T13:58:35.803519Z",
     "iopub.status.busy": "2025-07-30T13:58:35.802895Z",
     "iopub.status.idle": "2025-07-30T13:58:35.807996Z",
     "shell.execute_reply": "2025-07-30T13:58:35.807044Z"
    },
    "papermill": {
     "duration": 0.027622,
     "end_time": "2025-07-30T13:58:35.811535",
     "exception": false,
     "start_time": "2025-07-30T13:58:35.783913",
     "status": "completed"
    },
    "tags": [
     "injected-parameters"
    ]
   },
   "outputs": [],
   "source": [
    "# Parameters\n",
    "universe_id = \"307b6ae060605ca671e987a7278c9b1a\"\n",
    "run_no = \"12\"\n",
    "universe = \"{\\\"cutoff\\\": [\\\"quantile_0.1\\\", \\\"quantile_0.25\\\"], \\\"eval_fairness_grouping\\\": [\\\"majority-minority\\\", \\\"nationality-all\\\"], \\\"exclude_features\\\": \\\"nationality-sex\\\", \\\"exclude_subgroups\\\": \\\"keep-all\\\", \\\"model\\\": \\\"elasticnet\\\", \\\"scale\\\": \\\"scale\\\", \\\"training_size\\\": \\\"5k\\\", \\\"training_year\\\": \\\"2012_14\\\"}\"\n",
    "output_dir = \"output\"\n",
    "seed = \"2023\"\n"
   ]
  },
  {
   "cell_type": "code",
   "execution_count": 5,
   "id": "1650acaf",
   "metadata": {
    "execution": {
     "iopub.execute_input": "2025-07-30T13:58:35.852213Z",
     "iopub.status.busy": "2025-07-30T13:58:35.851718Z",
     "iopub.status.idle": "2025-07-30T13:58:35.856658Z",
     "shell.execute_reply": "2025-07-30T13:58:35.855714Z"
    },
    "papermill": {
     "duration": 0.026448,
     "end_time": "2025-07-30T13:58:35.858310",
     "exception": false,
     "start_time": "2025-07-30T13:58:35.831862",
     "status": "completed"
    },
    "tags": []
   },
   "outputs": [],
   "source": [
    "import json\n",
    "# Parse universe into dict if it is passed as a string\n",
    "if isinstance(universe, str):\n",
    "    universe = json.loads(universe)"
   ]
  },
  {
   "cell_type": "code",
   "execution_count": 6,
   "id": "16620c48",
   "metadata": {
    "execution": {
     "iopub.execute_input": "2025-07-30T13:58:35.898831Z",
     "iopub.status.busy": "2025-07-30T13:58:35.898352Z",
     "iopub.status.idle": "2025-07-30T13:58:35.941499Z",
     "shell.execute_reply": "2025-07-30T13:58:35.940570Z"
    },
    "papermill": {
     "duration": 0.065307,
     "end_time": "2025-07-30T13:58:35.943267",
     "exception": false,
     "start_time": "2025-07-30T13:58:35.877960",
     "status": "completed"
    },
    "tags": []
   },
   "outputs": [],
   "source": [
    "# Auto-reload the custom package\n",
    "%load_ext autoreload\n",
    "%autoreload 1\n",
    "%aimport fairness_multiverse"
   ]
  },
  {
   "cell_type": "code",
   "execution_count": 7,
   "id": "01c5c9f3",
   "metadata": {
    "execution": {
     "iopub.execute_input": "2025-07-30T13:58:35.981566Z",
     "iopub.status.busy": "2025-07-30T13:58:35.980952Z",
     "iopub.status.idle": "2025-07-30T13:58:37.855879Z",
     "shell.execute_reply": "2025-07-30T13:58:37.854835Z"
    },
    "papermill": {
     "duration": 1.895796,
     "end_time": "2025-07-30T13:58:37.857692",
     "exception": false,
     "start_time": "2025-07-30T13:58:35.961896",
     "status": "completed"
    },
    "tags": []
   },
   "outputs": [],
   "source": [
    "from fairness_multiverse.universe import UniverseAnalysis\n",
    "\n",
    "universe_analysis = UniverseAnalysis(\n",
    "    run_no = run_no,\n",
    "    universe_id = universe_id,\n",
    "    universe = universe,\n",
    "    output_dir=output_dir,\n",
    ")"
   ]
  },
  {
   "cell_type": "code",
   "execution_count": 8,
   "id": "106241f5",
   "metadata": {
    "execution": {
     "iopub.execute_input": "2025-07-30T13:58:37.897803Z",
     "iopub.status.busy": "2025-07-30T13:58:37.897128Z",
     "iopub.status.idle": "2025-07-30T13:58:37.903814Z",
     "shell.execute_reply": "2025-07-30T13:58:37.902837Z"
    },
    "papermill": {
     "duration": 0.027933,
     "end_time": "2025-07-30T13:58:37.905522",
     "exception": false,
     "start_time": "2025-07-30T13:58:37.877589",
     "status": "completed"
    },
    "tags": []
   },
   "outputs": [
    {
     "name": "stdout",
     "output_type": "stream",
     "text": [
      "Using Seed: 2023\n"
     ]
    }
   ],
   "source": [
    "import numpy as np\n",
    "parsed_seed = int(seed)\n",
    "np.random.seed(parsed_seed)\n",
    "print(f\"Using Seed: {parsed_seed}\")"
   ]
  },
  {
   "cell_type": "markdown",
   "id": "e0ebdc57",
   "metadata": {
    "papermill": {
     "duration": 0.019147,
     "end_time": "2025-07-30T13:58:37.944803",
     "exception": false,
     "start_time": "2025-07-30T13:58:37.925656",
     "status": "completed"
    },
    "tags": []
   },
   "source": [
    "# Loading Data"
   ]
  },
  {
   "cell_type": "markdown",
   "id": "681925a3",
   "metadata": {
    "papermill": {
     "duration": 0.019561,
     "end_time": "2025-07-30T13:58:37.983549",
     "exception": false,
     "start_time": "2025-07-30T13:58:37.963988",
     "status": "completed"
    },
    "tags": []
   },
   "source": [
    "Load siab_train, siab_test, siab_calib and/or \n",
    "load siab_train_features, siab_train_labels"
   ]
  },
  {
   "cell_type": "code",
   "execution_count": 9,
   "id": "f0496b8a",
   "metadata": {
    "execution": {
     "iopub.execute_input": "2025-07-30T13:58:38.023233Z",
     "iopub.status.busy": "2025-07-30T13:58:38.022577Z",
     "iopub.status.idle": "2025-07-30T13:58:49.941720Z",
     "shell.execute_reply": "2025-07-30T13:58:49.940356Z"
    },
    "papermill": {
     "duration": 11.940877,
     "end_time": "2025-07-30T13:58:49.943413",
     "exception": false,
     "start_time": "2025-07-30T13:58:38.002536",
     "status": "completed"
    },
    "tags": []
   },
   "outputs": [
    {
     "name": "stdout",
     "output_type": "stream",
     "text": [
      "Loading SIAB data from cache: data/siab_cached.csv.gz\n"
     ]
    },
    {
     "name": "stdout",
     "output_type": "stream",
     "text": [
      "(643690, 164)\n"
     ]
    }
   ],
   "source": [
    "from pathlib import Path\n",
    "import pandas as pd\n",
    "\n",
    "# File paths\n",
    "raw_file = Path(\"data/raw/siab.csv\")\n",
    "cache_file = Path(\"data/siab_cached.csv.gz\")\n",
    "\n",
    "# Ensure cache directory exists\n",
    "cache_file.parent.mkdir(parents=True, exist_ok=True)\n",
    "\n",
    "# Load with simple caching\n",
    "if cache_file.exists():\n",
    "    print(f\"Loading SIAB data from cache: {cache_file}\")\n",
    "    siab = pd.read_csv(cache_file, compression='gzip')\n",
    "else:\n",
    "    print(f\"Cache not found. Reading raw SIAB data: {raw_file}\")\n",
    "    siab = pd.read_csv(raw_file)\n",
    "    siab.to_csv(cache_file, index=False, compression='gzip')\n",
    "    print(f\"Cached SIAB data to: {cache_file}\")\n",
    "\n",
    "# Now use `siab` DataFrame as needed\n",
    "print(siab.shape)"
   ]
  },
  {
   "cell_type": "code",
   "execution_count": 10,
   "id": "db0ca512-5f53-4dba-abdb-a2888bca41ba",
   "metadata": {
    "execution": {
     "iopub.execute_input": "2025-07-30T13:58:49.990849Z",
     "iopub.status.busy": "2025-07-30T13:58:49.990311Z",
     "iopub.status.idle": "2025-07-30T13:58:49.996221Z",
     "shell.execute_reply": "2025-07-30T13:58:49.995115Z"
    },
    "papermill": {
     "duration": 0.030161,
     "end_time": "2025-07-30T13:58:49.997894",
     "exception": false,
     "start_time": "2025-07-30T13:58:49.967733",
     "status": "completed"
    },
    "tags": []
   },
   "outputs": [],
   "source": [
    "#siab"
   ]
  },
  {
   "cell_type": "code",
   "execution_count": 11,
   "id": "a0edb063",
   "metadata": {
    "execution": {
     "iopub.execute_input": "2025-07-30T13:58:50.043823Z",
     "iopub.status.busy": "2025-07-30T13:58:50.043170Z",
     "iopub.status.idle": "2025-07-30T13:58:50.049236Z",
     "shell.execute_reply": "2025-07-30T13:58:50.048266Z"
    },
    "papermill": {
     "duration": 0.030623,
     "end_time": "2025-07-30T13:58:50.050992",
     "exception": false,
     "start_time": "2025-07-30T13:58:50.020369",
     "status": "completed"
    },
    "tags": []
   },
   "outputs": [],
   "source": [
    "#import pandas as pd\n",
    "#\n",
    "#X_train = pd.read_csv(\"./data/X_train.csv\")\n",
    "#y_train = pd.read_csv(\"./data/y_train.csv\")"
   ]
  },
  {
   "cell_type": "code",
   "execution_count": 12,
   "id": "63d08085",
   "metadata": {
    "execution": {
     "iopub.execute_input": "2025-07-30T13:58:50.093663Z",
     "iopub.status.busy": "2025-07-30T13:58:50.093217Z",
     "iopub.status.idle": "2025-07-30T13:58:50.098017Z",
     "shell.execute_reply": "2025-07-30T13:58:50.097053Z"
    },
    "papermill": {
     "duration": 0.027965,
     "end_time": "2025-07-30T13:58:50.099970",
     "exception": false,
     "start_time": "2025-07-30T13:58:50.072005",
     "status": "completed"
    },
    "tags": []
   },
   "outputs": [],
   "source": [
    "#X_test = pd.read_csv(\"./data/X_test.csv\")\n",
    "#y_true = pd.read_csv(\"./data/y_test.csv\")"
   ]
  },
  {
   "cell_type": "code",
   "execution_count": 13,
   "id": "98a8d0fa-1d3d-4ed8-bb2c-281470e24add",
   "metadata": {
    "execution": {
     "iopub.execute_input": "2025-07-30T13:58:50.142962Z",
     "iopub.status.busy": "2025-07-30T13:58:50.142506Z",
     "iopub.status.idle": "2025-07-30T13:58:50.147600Z",
     "shell.execute_reply": "2025-07-30T13:58:50.146690Z"
    },
    "papermill": {
     "duration": 0.027633,
     "end_time": "2025-07-30T13:58:50.149184",
     "exception": false,
     "start_time": "2025-07-30T13:58:50.121551",
     "status": "completed"
    },
    "tags": []
   },
   "outputs": [],
   "source": [
    "# Calibration data for conformal\n",
    "#X_calib = pd.read_csv(\"./data/X_calib.csv\")\n",
    "#y_calib = pd.read_csv(\"./data/y_calib.csv\")"
   ]
  },
  {
   "cell_type": "markdown",
   "id": "997051c5-15bd-4b69-9786-c3001a3ce484",
   "metadata": {
    "papermill": {
     "duration": 0.020414,
     "end_time": "2025-07-30T13:58:50.191723",
     "exception": false,
     "start_time": "2025-07-30T13:58:50.171309",
     "status": "completed"
    },
    "tags": []
   },
   "source": [
    "# Splitting Data and Setting Training Data Size"
   ]
  },
  {
   "cell_type": "code",
   "execution_count": 14,
   "id": "e993b61f-042d-41a6-8c81-f55681f86335",
   "metadata": {
    "execution": {
     "iopub.execute_input": "2025-07-30T13:58:50.234271Z",
     "iopub.status.busy": "2025-07-30T13:58:50.233815Z",
     "iopub.status.idle": "2025-07-30T13:58:50.247117Z",
     "shell.execute_reply": "2025-07-30T13:58:50.246008Z"
    },
    "papermill": {
     "duration": 0.0371,
     "end_time": "2025-07-30T13:58:50.248860",
     "exception": false,
     "start_time": "2025-07-30T13:58:50.211760",
     "status": "completed"
    },
    "tags": []
   },
   "outputs": [],
   "source": [
    "def sample_by_year_size(df,\n",
    "                        training_year: str,\n",
    "                        training_size: str,\n",
    "                        random_state: int = 42):\n",
    "    # --- parse training_year into a list of int years ---\n",
    "    if \"_\" in training_year:\n",
    "        start_str, end_str = training_year.split(\"_\", 1)\n",
    "        start = int(start_str)\n",
    "        end   = int(end_str) if len(end_str) == 4 else (int(end_str) + (start // 100)*100)\n",
    "        years = list(range(start, end + 1))\n",
    "    else:\n",
    "        years = [int(training_year)]\n",
    "\n",
    "    df = df[df[\"year\"].isin(years)].reset_index(drop=True)\n",
    "\n",
    "    # --- map training_size to total number of samples ---\n",
    "    total_map = {\"25k\": 25_000, \"5k\": 5_000, \"1k\": 1_000}\n",
    "    if training_size not in total_map:\n",
    "        return df  # e.g. \"all\"\n",
    "\n",
    "    total_samples = total_map[training_size]\n",
    "    n_years       = len(years)\n",
    "    base          = total_samples // n_years\n",
    "    remainder     = total_samples % n_years\n",
    "\n",
    "    # --- build a dict: year -> how many to sample ---\n",
    "    # give +1 to the first `remainder` years in ascending order\n",
    "    quotas = {\n",
    "        year: base + (1 if idx < remainder else 0)\n",
    "        for idx, year in enumerate(sorted(years))\n",
    "    }\n",
    "\n",
    "    # --- sample per‐year according to the quota dict ---\n",
    "    sampled = (\n",
    "        df\n",
    "        .groupby(\"year\", group_keys=False)\n",
    "        .apply(lambda grp: grp.sample(\n",
    "            n=min(len(grp), quotas[grp.name]),\n",
    "            random_state=random_state))\n",
    "        .reset_index(drop=True)\n",
    "    )\n",
    "\n",
    "    return sampled"
   ]
  },
  {
   "cell_type": "code",
   "execution_count": 15,
   "id": "c0ccd338-0e02-41f3-a09d-f56f9266e3fb",
   "metadata": {
    "execution": {
     "iopub.execute_input": "2025-07-30T13:58:50.290947Z",
     "iopub.status.busy": "2025-07-30T13:58:50.290465Z",
     "iopub.status.idle": "2025-07-30T13:58:50.301285Z",
     "shell.execute_reply": "2025-07-30T13:58:50.300293Z"
    },
    "papermill": {
     "duration": 0.034043,
     "end_time": "2025-07-30T13:58:50.302996",
     "exception": false,
     "start_time": "2025-07-30T13:58:50.268953",
     "status": "completed"
    },
    "tags": []
   },
   "outputs": [
    {
     "data": {
      "text/plain": [
       "'5k'"
      ]
     },
     "execution_count": 15,
     "metadata": {},
     "output_type": "execute_result"
    }
   ],
   "source": [
    "universe[\"training_size\"]"
   ]
  },
  {
   "cell_type": "code",
   "execution_count": 16,
   "id": "ca707fd7-8047-4acd-bfa5-66248fbbf8e6",
   "metadata": {
    "execution": {
     "iopub.execute_input": "2025-07-30T13:58:50.344191Z",
     "iopub.status.busy": "2025-07-30T13:58:50.343526Z",
     "iopub.status.idle": "2025-07-30T13:58:50.350871Z",
     "shell.execute_reply": "2025-07-30T13:58:50.349926Z"
    },
    "papermill": {
     "duration": 0.029149,
     "end_time": "2025-07-30T13:58:50.352543",
     "exception": false,
     "start_time": "2025-07-30T13:58:50.323394",
     "status": "completed"
    },
    "tags": []
   },
   "outputs": [
    {
     "data": {
      "text/plain": [
       "'2012_14'"
      ]
     },
     "execution_count": 16,
     "metadata": {},
     "output_type": "execute_result"
    }
   ],
   "source": [
    "universe[\"training_year\"]"
   ]
  },
  {
   "cell_type": "code",
   "execution_count": 17,
   "id": "aea9c6ef-6f46-42c8-85eb-5a62025c1508",
   "metadata": {
    "execution": {
     "iopub.execute_input": "2025-07-30T13:58:50.395191Z",
     "iopub.status.busy": "2025-07-30T13:58:50.394557Z",
     "iopub.status.idle": "2025-07-30T13:58:50.954709Z",
     "shell.execute_reply": "2025-07-30T13:58:50.953722Z"
    },
    "papermill": {
     "duration": 0.582908,
     "end_time": "2025-07-30T13:58:50.956733",
     "exception": false,
     "start_time": "2025-07-30T13:58:50.373825",
     "status": "completed"
    },
    "tags": []
   },
   "outputs": [],
   "source": [
    "siab_train = sample_by_year_size(siab,\n",
    "                               training_year=universe[\"training_year\"],\n",
    "                               training_size=universe[\"training_size\"])"
   ]
  },
  {
   "cell_type": "code",
   "execution_count": 18,
   "id": "8d3afb32-789d-442c-8d5d-9f5aa8dd2eed",
   "metadata": {
    "execution": {
     "iopub.execute_input": "2025-07-30T13:58:50.983267Z",
     "iopub.status.busy": "2025-07-30T13:58:50.982895Z",
     "iopub.status.idle": "2025-07-30T13:58:50.989601Z",
     "shell.execute_reply": "2025-07-30T13:58:50.988692Z"
    },
    "papermill": {
     "duration": 0.020179,
     "end_time": "2025-07-30T13:58:50.991467",
     "exception": false,
     "start_time": "2025-07-30T13:58:50.971288",
     "status": "completed"
    },
    "tags": []
   },
   "outputs": [
    {
     "data": {
      "text/plain": [
       "(5000, 164)"
      ]
     },
     "execution_count": 18,
     "metadata": {},
     "output_type": "execute_result"
    }
   ],
   "source": [
    "siab_train.shape"
   ]
  },
  {
   "cell_type": "code",
   "execution_count": 19,
   "id": "d582db68-1a4c-47fb-84fc-08518dc1975a",
   "metadata": {
    "execution": {
     "iopub.execute_input": "2025-07-30T13:58:51.032930Z",
     "iopub.status.busy": "2025-07-30T13:58:51.032101Z",
     "iopub.status.idle": "2025-07-30T13:58:51.041604Z",
     "shell.execute_reply": "2025-07-30T13:58:51.040652Z"
    },
    "papermill": {
     "duration": 0.028461,
     "end_time": "2025-07-30T13:58:51.043325",
     "exception": false,
     "start_time": "2025-07-30T13:58:51.014864",
     "status": "completed"
    },
    "tags": []
   },
   "outputs": [
    {
     "data": {
      "text/plain": [
       "year\n",
       "2012    1667\n",
       "2013    1667\n",
       "2014    1666\n",
       "dtype: int64"
      ]
     },
     "metadata": {},
     "output_type": "display_data"
    }
   ],
   "source": [
    "display(siab_train.groupby(\"year\").size())"
   ]
  },
  {
   "cell_type": "code",
   "execution_count": 20,
   "id": "a561edb4-d032-42cb-8256-22eac1111c64",
   "metadata": {
    "execution": {
     "iopub.execute_input": "2025-07-30T13:58:51.089341Z",
     "iopub.status.busy": "2025-07-30T13:58:51.088674Z",
     "iopub.status.idle": "2025-07-30T13:58:51.310332Z",
     "shell.execute_reply": "2025-07-30T13:58:51.309368Z"
    },
    "papermill": {
     "duration": 0.246151,
     "end_time": "2025-07-30T13:58:51.311891",
     "exception": false,
     "start_time": "2025-07-30T13:58:51.065740",
     "status": "completed"
    },
    "tags": []
   },
   "outputs": [],
   "source": [
    "#siab_train = siab_s[siab_s.year < 2015]\n",
    "siab_calib = siab[siab.year == 2015]\n",
    "siab_test = siab[siab.year == 2016]"
   ]
  },
  {
   "cell_type": "code",
   "execution_count": 21,
   "id": "472de16f-c3db-4916-846b-1f0de9cf1746",
   "metadata": {
    "execution": {
     "iopub.execute_input": "2025-07-30T13:58:51.360096Z",
     "iopub.status.busy": "2025-07-30T13:58:51.359419Z",
     "iopub.status.idle": "2025-07-30T13:58:51.367627Z",
     "shell.execute_reply": "2025-07-30T13:58:51.366681Z"
    },
    "papermill": {
     "duration": 0.034243,
     "end_time": "2025-07-30T13:58:51.369221",
     "exception": false,
     "start_time": "2025-07-30T13:58:51.334978",
     "status": "completed"
    },
    "tags": []
   },
   "outputs": [],
   "source": [
    "X_train = siab_train.iloc[:,4:164]\n",
    "y_train = siab_train.iloc[:, [3]]"
   ]
  },
  {
   "cell_type": "code",
   "execution_count": 22,
   "id": "828c96af-f43a-4ed6-ba47-8ac73a47d56c",
   "metadata": {
    "execution": {
     "iopub.execute_input": "2025-07-30T13:58:51.412628Z",
     "iopub.status.busy": "2025-07-30T13:58:51.411647Z",
     "iopub.status.idle": "2025-07-30T13:58:51.464818Z",
     "shell.execute_reply": "2025-07-30T13:58:51.463730Z"
    },
    "papermill": {
     "duration": 0.076379,
     "end_time": "2025-07-30T13:58:51.466966",
     "exception": false,
     "start_time": "2025-07-30T13:58:51.390587",
     "status": "completed"
    },
    "tags": []
   },
   "outputs": [],
   "source": [
    "X_calib = siab_calib.iloc[:,4:164]\n",
    "y_calib = siab_calib.iloc[:, [3]]"
   ]
  },
  {
   "cell_type": "code",
   "execution_count": 23,
   "id": "c34be9c3-6bd6-476e-acd3-845840e303be",
   "metadata": {
    "execution": {
     "iopub.execute_input": "2025-07-30T13:58:51.509830Z",
     "iopub.status.busy": "2025-07-30T13:58:51.508969Z",
     "iopub.status.idle": "2025-07-30T13:58:51.566957Z",
     "shell.execute_reply": "2025-07-30T13:58:51.565844Z"
    },
    "papermill": {
     "duration": 0.080386,
     "end_time": "2025-07-30T13:58:51.568666",
     "exception": false,
     "start_time": "2025-07-30T13:58:51.488280",
     "status": "completed"
    },
    "tags": []
   },
   "outputs": [],
   "source": [
    "X_test = siab_test.iloc[:,4:164]\n",
    "y_true = siab_test.iloc[:, [3]]"
   ]
  },
  {
   "cell_type": "markdown",
   "id": "9901737e-04df-44f0-9100-f5ad144ed040",
   "metadata": {
    "papermill": {
     "duration": 0.019856,
     "end_time": "2025-07-30T13:58:51.610150",
     "exception": false,
     "start_time": "2025-07-30T13:58:51.590294",
     "status": "completed"
    },
    "tags": []
   },
   "source": [
    "# Splitting Data and Setting Training Data Size OLD VERSION"
   ]
  },
  {
   "cell_type": "code",
   "execution_count": 24,
   "id": "acbc8f7d-8fc8-4e86-8c59-5dcb0f58384b",
   "metadata": {
    "execution": {
     "iopub.execute_input": "2025-07-30T13:58:51.651812Z",
     "iopub.status.busy": "2025-07-30T13:58:51.650971Z",
     "iopub.status.idle": "2025-07-30T13:58:51.656473Z",
     "shell.execute_reply": "2025-07-30T13:58:51.655571Z"
    },
    "papermill": {
     "duration": 0.028288,
     "end_time": "2025-07-30T13:58:51.658103",
     "exception": false,
     "start_time": "2025-07-30T13:58:51.629815",
     "status": "completed"
    },
    "tags": []
   },
   "outputs": [],
   "source": [
    "#def sample_by_year(df, training_size, random_state=42):\n",
    "#    if training_size == \"2014\":\n",
    "#        return df[df[\"year\"] == 2014].reset_index(drop=True)\n",
    "#    \n",
    "#    size_map = {\n",
    "#        \"25k\": 5000,\n",
    "#        \"5k\": 1000,\n",
    "#        \"1k\": 200\n",
    "#    }\n",
    "#\n",
    "#    if training_size not in size_map:\n",
    "#        return df.reset_index(drop=True)  # use all data\n",
    "#\n",
    "#    n_per_year = size_map[training_size]\n",
    "#    grouped = df.groupby(\"year\")\n",
    "#    sampled = grouped.apply(lambda x: x.sample(n=min(n_per_year, len(x)), random_state=random_state))\n",
    "#    return sampled.reset_index(drop=True)"
   ]
  },
  {
   "cell_type": "code",
   "execution_count": 25,
   "id": "6d931f52-beaf-43ff-9e78-9d44a448d54e",
   "metadata": {
    "execution": {
     "iopub.execute_input": "2025-07-30T13:58:51.708975Z",
     "iopub.status.busy": "2025-07-30T13:58:51.708324Z",
     "iopub.status.idle": "2025-07-30T13:58:51.713777Z",
     "shell.execute_reply": "2025-07-30T13:58:51.712783Z"
    },
    "papermill": {
     "duration": 0.031932,
     "end_time": "2025-07-30T13:58:51.715458",
     "exception": false,
     "start_time": "2025-07-30T13:58:51.683526",
     "status": "completed"
    },
    "tags": []
   },
   "outputs": [],
   "source": [
    "#siab_s = sample_by_year(siab, universe[\"training_size\"])"
   ]
  },
  {
   "cell_type": "code",
   "execution_count": 26,
   "id": "5db0a40e-a4e2-4920-be85-b12ae061d70d",
   "metadata": {
    "execution": {
     "iopub.execute_input": "2025-07-30T13:58:51.765970Z",
     "iopub.status.busy": "2025-07-30T13:58:51.765318Z",
     "iopub.status.idle": "2025-07-30T13:58:51.770696Z",
     "shell.execute_reply": "2025-07-30T13:58:51.769741Z"
    },
    "papermill": {
     "duration": 0.032247,
     "end_time": "2025-07-30T13:58:51.772681",
     "exception": false,
     "start_time": "2025-07-30T13:58:51.740434",
     "status": "completed"
    },
    "tags": []
   },
   "outputs": [],
   "source": [
    "#display(siab_s.groupby(\"year\").size())"
   ]
  },
  {
   "cell_type": "code",
   "execution_count": 27,
   "id": "e6c733c5",
   "metadata": {
    "execution": {
     "iopub.execute_input": "2025-07-30T13:58:51.823516Z",
     "iopub.status.busy": "2025-07-30T13:58:51.823063Z",
     "iopub.status.idle": "2025-07-30T13:58:51.922452Z",
     "shell.execute_reply": "2025-07-30T13:58:51.921525Z"
    },
    "papermill": {
     "duration": 0.126773,
     "end_time": "2025-07-30T13:58:51.924720",
     "exception": false,
     "start_time": "2025-07-30T13:58:51.797947",
     "status": "completed"
    },
    "tags": []
   },
   "outputs": [],
   "source": [
    "# Auxiliary data needed downstream in the pipeline\n",
    "\n",
    "org_train = X_train.copy()\n",
    "org_test = X_test.copy()\n",
    "org_calib = X_calib.copy()"
   ]
  },
  {
   "cell_type": "code",
   "execution_count": 28,
   "id": "1466abac-c6da-4492-a62f-4240ae3783af",
   "metadata": {
    "execution": {
     "iopub.execute_input": "2025-07-30T13:58:51.952799Z",
     "iopub.status.busy": "2025-07-30T13:58:51.952466Z",
     "iopub.status.idle": "2025-07-30T13:58:51.956933Z",
     "shell.execute_reply": "2025-07-30T13:58:51.956075Z"
    },
    "papermill": {
     "duration": 0.017711,
     "end_time": "2025-07-30T13:58:51.958224",
     "exception": false,
     "start_time": "2025-07-30T13:58:51.940513",
     "status": "completed"
    },
    "tags": []
   },
   "outputs": [],
   "source": [
    "# put in other script?\n",
    "# Group sizes\n",
    "\n",
    "#def calculate_percentages(df, df_name):\n",
    "#    total_entries = len(df)\n",
    "#\n",
    "#    female_pct = (df['frau1'] == 1).mean() * 100\n",
    "#    non_german_pct = ((df['maxdeutsch1'] == 0) & (df['maxdeutsch.Missing.'] == 0)).mean() * 100\n",
    "#    non_german_male_pct = ((df['frau1'] == 0) & (df['maxdeutsch1'] == 0) & (df['maxdeutsch.Missing.'] == 0)).mean() * 100\n",
    "#    non_german_female_pct = ((df['frau1'] == 1) & (df['maxdeutsch1'] == 0) & (df['maxdeutsch.Missing.'] == 0)).mean() * 100\n",
    "#\n",
    "#    print(f\"--- {df_name} ---\")\n",
    "#    print(f\"Female: {female_pct:.2f}%\")\n",
    "#    print(f\"Non-German: {non_german_pct:.2f}%\")\n",
    "#    print(f\"Non-German Male: {non_german_male_pct:.2f}%\")\n",
    "#    print(f\"Non-German Female: {non_german_female_pct:.2f}%\\n\")\n",
    "#\n",
    "## Calculate for each DataFrame\n",
    "#calculate_percentages(siab_calib, \"siab_calib\")\n",
    "#calculate_percentages(siab_test, \"siab_test\")\n",
    "#calculate_percentages(siab_train, \"siab_train\")"
   ]
  },
  {
   "cell_type": "markdown",
   "id": "0a4a1b33",
   "metadata": {
    "papermill": {
     "duration": 0.011058,
     "end_time": "2025-07-30T13:58:51.981851",
     "exception": false,
     "start_time": "2025-07-30T13:58:51.970793",
     "status": "completed"
    },
    "tags": []
   },
   "source": [
    "# Preprocessing Data"
   ]
  },
  {
   "cell_type": "code",
   "execution_count": 29,
   "id": "ca879031",
   "metadata": {
    "execution": {
     "iopub.execute_input": "2025-07-30T13:58:52.005620Z",
     "iopub.status.busy": "2025-07-30T13:58:52.005124Z",
     "iopub.status.idle": "2025-07-30T13:58:52.010523Z",
     "shell.execute_reply": "2025-07-30T13:58:52.009743Z"
    },
    "papermill": {
     "duration": 0.018816,
     "end_time": "2025-07-30T13:58:52.011787",
     "exception": false,
     "start_time": "2025-07-30T13:58:51.992971",
     "status": "completed"
    },
    "tags": []
   },
   "outputs": [],
   "source": [
    "# EXCLUDE PROTECTED FEATURES\n",
    "# ----------------------\n",
    "# \"exclude_features\": \"none\", # \"nationality\", \"sex\", \"nationality-sex\"\n",
    "\n",
    "excluded_features = universe[\"exclude_features\"].split(\"-\") # split, e.g.: \"nationality-sex\" -> [\"nationality\", \"sex\"]\n",
    "excluded_features_dictionary = {\n",
    "    \"nationality\": [\"maxdeutsch1\", \"maxdeutsch.Missing.\"],\n",
    "    \"sex\": [\"frau1\"],\n",
    "    \"age\": [\"age\"],\n",
    "}\n"
   ]
  },
  {
   "cell_type": "code",
   "execution_count": 30,
   "id": "b745ac60",
   "metadata": {
    "execution": {
     "iopub.execute_input": "2025-07-30T13:58:52.036800Z",
     "iopub.status.busy": "2025-07-30T13:58:52.036247Z",
     "iopub.status.idle": "2025-07-30T13:58:52.041061Z",
     "shell.execute_reply": "2025-07-30T13:58:52.040288Z"
    },
    "papermill": {
     "duration": 0.018059,
     "end_time": "2025-07-30T13:58:52.042367",
     "exception": false,
     "start_time": "2025-07-30T13:58:52.024308",
     "status": "completed"
    },
    "tags": []
   },
   "outputs": [],
   "source": [
    "# Code nice names to column names\n",
    "\n",
    "excluded_features_columns = [\n",
    "    excluded_features_dictionary[f] for f in excluded_features if len(f) > 0 and f != \"none\"\n",
    "]"
   ]
  },
  {
   "cell_type": "code",
   "execution_count": 31,
   "id": "f84f73a2",
   "metadata": {
    "execution": {
     "iopub.execute_input": "2025-07-30T13:58:52.067681Z",
     "iopub.status.busy": "2025-07-30T13:58:52.067023Z",
     "iopub.status.idle": "2025-07-30T13:58:52.072470Z",
     "shell.execute_reply": "2025-07-30T13:58:52.071779Z"
    },
    "papermill": {
     "duration": 0.018878,
     "end_time": "2025-07-30T13:58:52.073947",
     "exception": false,
     "start_time": "2025-07-30T13:58:52.055069",
     "status": "completed"
    },
    "tags": []
   },
   "outputs": [],
   "source": [
    "from utils import flatten_once\n",
    "\n",
    "excluded_features_columns = flatten_once(excluded_features_columns)"
   ]
  },
  {
   "cell_type": "code",
   "execution_count": 32,
   "id": "884dea22",
   "metadata": {
    "execution": {
     "iopub.execute_input": "2025-07-30T13:58:52.098752Z",
     "iopub.status.busy": "2025-07-30T13:58:52.098436Z",
     "iopub.status.idle": "2025-07-30T13:58:52.106033Z",
     "shell.execute_reply": "2025-07-30T13:58:52.105147Z"
    },
    "papermill": {
     "duration": 0.021015,
     "end_time": "2025-07-30T13:58:52.107457",
     "exception": false,
     "start_time": "2025-07-30T13:58:52.086442",
     "status": "completed"
    },
    "tags": []
   },
   "outputs": [
    {
     "name": "stdout",
     "output_type": "stream",
     "text": [
      "Dropping features: ['maxdeutsch1', 'maxdeutsch.Missing.', 'frau1']\n"
     ]
    }
   ],
   "source": [
    "if len(excluded_features_columns) > 0:\n",
    "    print(f\"Dropping features: {excluded_features_columns}\")\n",
    "    X_train.drop(excluded_features_columns, axis=1, inplace=True)"
   ]
  },
  {
   "cell_type": "code",
   "execution_count": 33,
   "id": "95ab8b16",
   "metadata": {
    "execution": {
     "iopub.execute_input": "2025-07-30T13:58:52.132566Z",
     "iopub.status.busy": "2025-07-30T13:58:52.132221Z",
     "iopub.status.idle": "2025-07-30T13:58:52.181016Z",
     "shell.execute_reply": "2025-07-30T13:58:52.180169Z"
    },
    "papermill": {
     "duration": 0.062081,
     "end_time": "2025-07-30T13:58:52.182325",
     "exception": false,
     "start_time": "2025-07-30T13:58:52.120244",
     "status": "completed"
    },
    "tags": []
   },
   "outputs": [
    {
     "name": "stdout",
     "output_type": "stream",
     "text": [
      "Dropping features: ['maxdeutsch1', 'maxdeutsch.Missing.', 'frau1']\n"
     ]
    }
   ],
   "source": [
    "if len(excluded_features_columns) > 0:\n",
    "    print(f\"Dropping features: {excluded_features_columns}\")\n",
    "    X_test.drop(excluded_features_columns, axis=1, inplace=True)"
   ]
  },
  {
   "cell_type": "code",
   "execution_count": 34,
   "id": "1853aaf5-fb9f-46cb-a2b5-8ea4ae2237e4",
   "metadata": {
    "execution": {
     "iopub.execute_input": "2025-07-30T13:58:52.208120Z",
     "iopub.status.busy": "2025-07-30T13:58:52.207614Z",
     "iopub.status.idle": "2025-07-30T13:58:52.253604Z",
     "shell.execute_reply": "2025-07-30T13:58:52.252581Z"
    },
    "papermill": {
     "duration": 0.059689,
     "end_time": "2025-07-30T13:58:52.255178",
     "exception": false,
     "start_time": "2025-07-30T13:58:52.195489",
     "status": "completed"
    },
    "tags": []
   },
   "outputs": [
    {
     "name": "stdout",
     "output_type": "stream",
     "text": [
      "Dropping features: ['maxdeutsch1', 'maxdeutsch.Missing.', 'frau1']\n"
     ]
    }
   ],
   "source": [
    "if len(excluded_features_columns) > 0:\n",
    "    print(f\"Dropping features: {excluded_features_columns}\")\n",
    "    X_calib.drop(excluded_features_columns, axis=1, inplace=True)"
   ]
  },
  {
   "cell_type": "code",
   "execution_count": 35,
   "id": "6727d079-03e5-481e-9d38-292a90b7a0a8",
   "metadata": {
    "execution": {
     "iopub.execute_input": "2025-07-30T13:58:52.281150Z",
     "iopub.status.busy": "2025-07-30T13:58:52.280439Z",
     "iopub.status.idle": "2025-07-30T13:58:52.284746Z",
     "shell.execute_reply": "2025-07-30T13:58:52.284016Z"
    },
    "papermill": {
     "duration": 0.017654,
     "end_time": "2025-07-30T13:58:52.285999",
     "exception": false,
     "start_time": "2025-07-30T13:58:52.268345",
     "status": "completed"
    },
    "tags": []
   },
   "outputs": [],
   "source": [
    "# SPLIT & STRATIFY DATA\n",
    "# ----------------------"
   ]
  },
  {
   "cell_type": "code",
   "execution_count": 36,
   "id": "76c4dc6d",
   "metadata": {
    "execution": {
     "iopub.execute_input": "2025-07-30T13:58:52.311833Z",
     "iopub.status.busy": "2025-07-30T13:58:52.311178Z",
     "iopub.status.idle": "2025-07-30T13:58:52.315883Z",
     "shell.execute_reply": "2025-07-30T13:58:52.315122Z"
    },
    "papermill": {
     "duration": 0.018404,
     "end_time": "2025-07-30T13:58:52.317194",
     "exception": false,
     "start_time": "2025-07-30T13:58:52.298790",
     "status": "completed"
    },
    "tags": []
   },
   "outputs": [],
   "source": [
    "# EXCLUDE CERTAIN SUBGROUPS\n",
    "# ----------------------\n",
    "\n",
    "mode = universe.get(\"exclude_subgroups\", \"keep-all\") \n",
    "# Fetches the exclude_subgroups setting from the universe dict.\n",
    "# Defaults to \"keep-all\" if the key is missing."
   ]
  },
  {
   "cell_type": "code",
   "execution_count": 37,
   "id": "21994072",
   "metadata": {
    "execution": {
     "iopub.execute_input": "2025-07-30T13:58:52.342904Z",
     "iopub.status.busy": "2025-07-30T13:58:52.342584Z",
     "iopub.status.idle": "2025-07-30T13:58:52.347636Z",
     "shell.execute_reply": "2025-07-30T13:58:52.346824Z"
    },
    "papermill": {
     "duration": 0.01867,
     "end_time": "2025-07-30T13:58:52.348912",
     "exception": false,
     "start_time": "2025-07-30T13:58:52.330242",
     "status": "completed"
    },
    "tags": []
   },
   "outputs": [],
   "source": [
    "if mode == \"keep-all\":\n",
    "    keep_mask = pd.Series(True, index=org_train.index)\n",
    "\n",
    "# org_train contains the original feature columns from features_org (in Simson)\n",
    "# features_org contains unprocessed features, for me X_train at beginning ???\n",
    "# For keep-all, creates a boolean Series (keep_mask) of all True, so no rows are removed.\n",
    "\n",
    "elif mode == \"drop-non-german\":\n",
    "    keep_mask = org_train[\"maxdeutsch1\"] == 1 # ??? what about missing values?\n",
    "\n",
    "else:\n",
    "    raise ValueError(f\"Unsupported mode for exclude_subgroups: {mode}\")\n"
   ]
  },
  {
   "cell_type": "code",
   "execution_count": 38,
   "id": "71651440",
   "metadata": {
    "execution": {
     "iopub.execute_input": "2025-07-30T13:58:52.374440Z",
     "iopub.status.busy": "2025-07-30T13:58:52.374127Z",
     "iopub.status.idle": "2025-07-30T13:58:52.379027Z",
     "shell.execute_reply": "2025-07-30T13:58:52.378198Z"
    },
    "papermill": {
     "duration": 0.018587,
     "end_time": "2025-07-30T13:58:52.380415",
     "exception": false,
     "start_time": "2025-07-30T13:58:52.361828",
     "status": "completed"
    },
    "tags": []
   },
   "outputs": [],
   "source": [
    "n_drop = (~keep_mask).sum() # Calculates how many rows are set to be dropped\n",
    "if n_drop > 0:\n",
    "    pct = n_drop / len(keep_mask) * 100\n",
    "    print(f\"Dropping {n_drop} rows ({pct:.2f}%) where mode='{mode}'\")"
   ]
  },
  {
   "cell_type": "code",
   "execution_count": 39,
   "id": "5fb8eee5",
   "metadata": {
    "execution": {
     "iopub.execute_input": "2025-07-30T13:58:52.406832Z",
     "iopub.status.busy": "2025-07-30T13:58:52.406204Z",
     "iopub.status.idle": "2025-07-30T13:58:52.412765Z",
     "shell.execute_reply": "2025-07-30T13:58:52.412003Z"
    },
    "papermill": {
     "duration": 0.02067,
     "end_time": "2025-07-30T13:58:52.414325",
     "exception": false,
     "start_time": "2025-07-30T13:58:52.393655",
     "status": "completed"
    },
    "tags": []
   },
   "outputs": [],
   "source": [
    "X_train = X_train[keep_mask]"
   ]
  },
  {
   "cell_type": "code",
   "execution_count": 40,
   "id": "b202bb3a",
   "metadata": {
    "execution": {
     "iopub.execute_input": "2025-07-30T13:58:52.439954Z",
     "iopub.status.busy": "2025-07-30T13:58:52.439641Z",
     "iopub.status.idle": "2025-07-30T13:58:52.444677Z",
     "shell.execute_reply": "2025-07-30T13:58:52.443886Z"
    },
    "papermill": {
     "duration": 0.018818,
     "end_time": "2025-07-30T13:58:52.446053",
     "exception": false,
     "start_time": "2025-07-30T13:58:52.427235",
     "status": "completed"
    },
    "tags": []
   },
   "outputs": [],
   "source": [
    "y_train = y_train[keep_mask]"
   ]
  },
  {
   "cell_type": "markdown",
   "id": "493e2ac3",
   "metadata": {
    "papermill": {
     "duration": 0.01159,
     "end_time": "2025-07-30T13:58:52.471048",
     "exception": false,
     "start_time": "2025-07-30T13:58:52.459458",
     "status": "completed"
    },
    "tags": []
   },
   "source": [
    "# Model Training"
   ]
  },
  {
   "cell_type": "code",
   "execution_count": 41,
   "id": "679e1268",
   "metadata": {
    "execution": {
     "iopub.execute_input": "2025-07-30T13:58:52.495671Z",
     "iopub.status.busy": "2025-07-30T13:58:52.494976Z",
     "iopub.status.idle": "2025-07-30T13:58:52.565950Z",
     "shell.execute_reply": "2025-07-30T13:58:52.565214Z"
    },
    "papermill": {
     "duration": 0.08475,
     "end_time": "2025-07-30T13:58:52.567359",
     "exception": false,
     "start_time": "2025-07-30T13:58:52.482609",
     "status": "completed"
    },
    "tags": []
   },
   "outputs": [],
   "source": [
    "from sklearn.linear_model import LogisticRegression\n",
    "from sklearn.ensemble import GradientBoostingClassifier, RandomForestClassifier\n",
    "\n",
    "if (universe[\"model\"] == \"logreg\"):\n",
    "    model = LogisticRegression() #penalty=\"none\") #, solver=\"newton-cg\", max_iter=1) # include random_state=19 ?\n",
    "elif (universe[\"model\"] == \"penalized_logreg\"):\n",
    "    model = LogisticRegression(penalty=\"l2\", C=1.0) #, solver=\"newton-cg\", max_iter=1)\n",
    "elif (universe[\"model\"] == \"rf\"):\n",
    "    model = RandomForestClassifier(n_estimators=100, n_jobs=-1)\n",
    "elif (universe[\"model\"] == \"gbm\"):\n",
    "    model = GradientBoostingClassifier()\n",
    "elif (universe[\"model\"] == \"elasticnet\"):\n",
    "    model = LogisticRegression(penalty = 'elasticnet', solver = 'saga', l1_ratio = 0.5, max_iter=5000) # which solver to use?\n",
    "else:\n",
    "    raise \"Unsupported universe.model\""
   ]
  },
  {
   "cell_type": "code",
   "execution_count": 42,
   "id": "0cc8f744",
   "metadata": {
    "execution": {
     "iopub.execute_input": "2025-07-30T13:58:52.593148Z",
     "iopub.status.busy": "2025-07-30T13:58:52.592488Z",
     "iopub.status.idle": "2025-07-30T13:58:52.597961Z",
     "shell.execute_reply": "2025-07-30T13:58:52.597146Z"
    },
    "papermill": {
     "duration": 0.019311,
     "end_time": "2025-07-30T13:58:52.599212",
     "exception": false,
     "start_time": "2025-07-30T13:58:52.579901",
     "status": "completed"
    },
    "tags": []
   },
   "outputs": [],
   "source": [
    "import numpy as np\n",
    "from sklearn.pipeline import Pipeline\n",
    "from sklearn.preprocessing import StandardScaler\n",
    "\n",
    "model = Pipeline([\n",
    "    #(\"continuous_processor\", continuous_processor),\n",
    "    #(\"categorical_preprocessor\", categorical_preprocessor),\n",
    "    (\"scale\", StandardScaler() if universe[\"scale\"] == \"scale\" else None), \n",
    "    (\"model\", model),\n",
    "])"
   ]
  },
  {
   "cell_type": "code",
   "execution_count": 43,
   "id": "9442c04d",
   "metadata": {
    "execution": {
     "iopub.execute_input": "2025-07-30T13:58:52.625671Z",
     "iopub.status.busy": "2025-07-30T13:58:52.625124Z",
     "iopub.status.idle": "2025-07-30T13:59:00.688351Z",
     "shell.execute_reply": "2025-07-30T13:59:00.687608Z"
    },
    "papermill": {
     "duration": 8.077254,
     "end_time": "2025-07-30T13:59:00.689927",
     "exception": false,
     "start_time": "2025-07-30T13:58:52.612673",
     "status": "completed"
    },
    "tags": []
   },
   "outputs": [
    {
     "data": {
      "text/html": [
       "<style>#sk-container-id-1 {color: black;background-color: white;}#sk-container-id-1 pre{padding: 0;}#sk-container-id-1 div.sk-toggleable {background-color: white;}#sk-container-id-1 label.sk-toggleable__label {cursor: pointer;display: block;width: 100%;margin-bottom: 0;padding: 0.3em;box-sizing: border-box;text-align: center;}#sk-container-id-1 label.sk-toggleable__label-arrow:before {content: \"▸\";float: left;margin-right: 0.25em;color: #696969;}#sk-container-id-1 label.sk-toggleable__label-arrow:hover:before {color: black;}#sk-container-id-1 div.sk-estimator:hover label.sk-toggleable__label-arrow:before {color: black;}#sk-container-id-1 div.sk-toggleable__content {max-height: 0;max-width: 0;overflow: hidden;text-align: left;background-color: #f0f8ff;}#sk-container-id-1 div.sk-toggleable__content pre {margin: 0.2em;color: black;border-radius: 0.25em;background-color: #f0f8ff;}#sk-container-id-1 input.sk-toggleable__control:checked~div.sk-toggleable__content {max-height: 200px;max-width: 100%;overflow: auto;}#sk-container-id-1 input.sk-toggleable__control:checked~label.sk-toggleable__label-arrow:before {content: \"▾\";}#sk-container-id-1 div.sk-estimator input.sk-toggleable__control:checked~label.sk-toggleable__label {background-color: #d4ebff;}#sk-container-id-1 div.sk-label input.sk-toggleable__control:checked~label.sk-toggleable__label {background-color: #d4ebff;}#sk-container-id-1 input.sk-hidden--visually {border: 0;clip: rect(1px 1px 1px 1px);clip: rect(1px, 1px, 1px, 1px);height: 1px;margin: -1px;overflow: hidden;padding: 0;position: absolute;width: 1px;}#sk-container-id-1 div.sk-estimator {font-family: monospace;background-color: #f0f8ff;border: 1px dotted black;border-radius: 0.25em;box-sizing: border-box;margin-bottom: 0.5em;}#sk-container-id-1 div.sk-estimator:hover {background-color: #d4ebff;}#sk-container-id-1 div.sk-parallel-item::after {content: \"\";width: 100%;border-bottom: 1px solid gray;flex-grow: 1;}#sk-container-id-1 div.sk-label:hover label.sk-toggleable__label {background-color: #d4ebff;}#sk-container-id-1 div.sk-serial::before {content: \"\";position: absolute;border-left: 1px solid gray;box-sizing: border-box;top: 0;bottom: 0;left: 50%;z-index: 0;}#sk-container-id-1 div.sk-serial {display: flex;flex-direction: column;align-items: center;background-color: white;padding-right: 0.2em;padding-left: 0.2em;position: relative;}#sk-container-id-1 div.sk-item {position: relative;z-index: 1;}#sk-container-id-1 div.sk-parallel {display: flex;align-items: stretch;justify-content: center;background-color: white;position: relative;}#sk-container-id-1 div.sk-item::before, #sk-container-id-1 div.sk-parallel-item::before {content: \"\";position: absolute;border-left: 1px solid gray;box-sizing: border-box;top: 0;bottom: 0;left: 50%;z-index: -1;}#sk-container-id-1 div.sk-parallel-item {display: flex;flex-direction: column;z-index: 1;position: relative;background-color: white;}#sk-container-id-1 div.sk-parallel-item:first-child::after {align-self: flex-end;width: 50%;}#sk-container-id-1 div.sk-parallel-item:last-child::after {align-self: flex-start;width: 50%;}#sk-container-id-1 div.sk-parallel-item:only-child::after {width: 0;}#sk-container-id-1 div.sk-dashed-wrapped {border: 1px dashed gray;margin: 0 0.4em 0.5em 0.4em;box-sizing: border-box;padding-bottom: 0.4em;background-color: white;}#sk-container-id-1 div.sk-label label {font-family: monospace;font-weight: bold;display: inline-block;line-height: 1.2em;}#sk-container-id-1 div.sk-label-container {text-align: center;}#sk-container-id-1 div.sk-container {/* jupyter's `normalize.less` sets `[hidden] { display: none; }` but bootstrap.min.css set `[hidden] { display: none !important; }` so we also need the `!important` here to be able to override the default hidden behavior on the sphinx rendered scikit-learn.org. See: https://github.com/scikit-learn/scikit-learn/issues/21755 */display: inline-block !important;position: relative;}#sk-container-id-1 div.sk-text-repr-fallback {display: none;}</style><div id=\"sk-container-id-1\" class=\"sk-top-container\"><div class=\"sk-text-repr-fallback\"><pre>Pipeline(steps=[(&#x27;scale&#x27;, StandardScaler()),\n",
       "                (&#x27;model&#x27;,\n",
       "                 LogisticRegression(l1_ratio=0.5, max_iter=5000,\n",
       "                                    penalty=&#x27;elasticnet&#x27;, solver=&#x27;saga&#x27;))])</pre><b>In a Jupyter environment, please rerun this cell to show the HTML representation or trust the notebook. <br />On GitHub, the HTML representation is unable to render, please try loading this page with nbviewer.org.</b></div><div class=\"sk-container\" hidden><div class=\"sk-item sk-dashed-wrapped\"><div class=\"sk-label-container\"><div class=\"sk-label sk-toggleable\"><input class=\"sk-toggleable__control sk-hidden--visually\" id=\"sk-estimator-id-1\" type=\"checkbox\" ><label for=\"sk-estimator-id-1\" class=\"sk-toggleable__label sk-toggleable__label-arrow\">Pipeline</label><div class=\"sk-toggleable__content\"><pre>Pipeline(steps=[(&#x27;scale&#x27;, StandardScaler()),\n",
       "                (&#x27;model&#x27;,\n",
       "                 LogisticRegression(l1_ratio=0.5, max_iter=5000,\n",
       "                                    penalty=&#x27;elasticnet&#x27;, solver=&#x27;saga&#x27;))])</pre></div></div></div><div class=\"sk-serial\"><div class=\"sk-item\"><div class=\"sk-estimator sk-toggleable\"><input class=\"sk-toggleable__control sk-hidden--visually\" id=\"sk-estimator-id-2\" type=\"checkbox\" ><label for=\"sk-estimator-id-2\" class=\"sk-toggleable__label sk-toggleable__label-arrow\">StandardScaler</label><div class=\"sk-toggleable__content\"><pre>StandardScaler()</pre></div></div></div><div class=\"sk-item\"><div class=\"sk-estimator sk-toggleable\"><input class=\"sk-toggleable__control sk-hidden--visually\" id=\"sk-estimator-id-3\" type=\"checkbox\" ><label for=\"sk-estimator-id-3\" class=\"sk-toggleable__label sk-toggleable__label-arrow\">LogisticRegression</label><div class=\"sk-toggleable__content\"><pre>LogisticRegression(l1_ratio=0.5, max_iter=5000, penalty=&#x27;elasticnet&#x27;,\n",
       "                   solver=&#x27;saga&#x27;)</pre></div></div></div></div></div></div></div>"
      ],
      "text/plain": [
       "Pipeline(steps=[('scale', StandardScaler()),\n",
       "                ('model',\n",
       "                 LogisticRegression(l1_ratio=0.5, max_iter=5000,\n",
       "                                    penalty='elasticnet', solver='saga'))])"
      ]
     },
     "execution_count": 43,
     "metadata": {},
     "output_type": "execute_result"
    }
   ],
   "source": [
    "model.fit(X_train, y_train.values.ravel())"
   ]
  },
  {
   "cell_type": "code",
   "execution_count": 44,
   "id": "af59f8c0",
   "metadata": {
    "execution": {
     "iopub.execute_input": "2025-07-30T13:59:00.754590Z",
     "iopub.status.busy": "2025-07-30T13:59:00.754196Z",
     "iopub.status.idle": "2025-07-30T13:59:00.759223Z",
     "shell.execute_reply": "2025-07-30T13:59:00.758457Z"
    },
    "papermill": {
     "duration": 0.026041,
     "end_time": "2025-07-30T13:59:00.760504",
     "exception": false,
     "start_time": "2025-07-30T13:59:00.734463",
     "status": "completed"
    },
    "tags": []
   },
   "outputs": [],
   "source": [
    "from fairness_multiverse.universe import predict_w_threshold"
   ]
  },
  {
   "cell_type": "code",
   "execution_count": 45,
   "id": "a7cf2e16",
   "metadata": {
    "execution": {
     "iopub.execute_input": "2025-07-30T13:59:00.790890Z",
     "iopub.status.busy": "2025-07-30T13:59:00.790380Z",
     "iopub.status.idle": "2025-07-30T13:59:00.998813Z",
     "shell.execute_reply": "2025-07-30T13:59:00.997885Z"
    },
    "papermill": {
     "duration": 0.226729,
     "end_time": "2025-07-30T13:59:01.000425",
     "exception": false,
     "start_time": "2025-07-30T13:59:00.773696",
     "status": "completed"
    },
    "tags": []
   },
   "outputs": [
    {
     "data": {
      "text/plain": [
       "0.8574183480102553"
      ]
     },
     "execution_count": 45,
     "metadata": {},
     "output_type": "execute_result"
    }
   ],
   "source": [
    "probs_test = model.predict_proba(X_test)\n",
    "\n",
    "'''\n",
    "Below code returns a boolean array (or binary 0/1 array depending on how it’s used) where each element \n",
    "is True if the probability of class 1 is greater than or equal to the threshold, and False otherwise.\n",
    "'''\n",
    "y_pred_default = predict_w_threshold(probs_test, 0.5)\n",
    "\n",
    "from sklearn.metrics import accuracy_score\n",
    "\n",
    "# Naive prediction\n",
    "accuracy_score(y_true = y_true, y_pred = y_pred_default)"
   ]
  },
  {
   "cell_type": "code",
   "execution_count": 46,
   "id": "081964c3",
   "metadata": {
    "execution": {
     "iopub.execute_input": "2025-07-30T13:59:01.050924Z",
     "iopub.status.busy": "2025-07-30T13:59:01.050201Z",
     "iopub.status.idle": "2025-07-30T13:59:01.231324Z",
     "shell.execute_reply": "2025-07-30T13:59:01.230340Z"
    },
    "papermill": {
     "duration": 0.209147,
     "end_time": "2025-07-30T13:59:01.233105",
     "exception": false,
     "start_time": "2025-07-30T13:59:01.023958",
     "status": "completed"
    },
    "tags": []
   },
   "outputs": [
    {
     "data": {
      "text/plain": [
       "array([0, 0, 0, ..., 0, 0, 0])"
      ]
     },
     "execution_count": 46,
     "metadata": {},
     "output_type": "execute_result"
    }
   ],
   "source": [
    "model.predict(X_test)"
   ]
  },
  {
   "cell_type": "markdown",
   "id": "56c9705b",
   "metadata": {
    "papermill": {
     "duration": 0.024208,
     "end_time": "2025-07-30T13:59:01.281115",
     "exception": false,
     "start_time": "2025-07-30T13:59:01.256907",
     "status": "completed"
    },
    "tags": []
   },
   "source": [
    "# Conformal Prediction"
   ]
  },
  {
   "cell_type": "code",
   "execution_count": 47,
   "id": "160ec6ff",
   "metadata": {
    "execution": {
     "iopub.execute_input": "2025-07-30T13:59:01.331474Z",
     "iopub.status.busy": "2025-07-30T13:59:01.331008Z",
     "iopub.status.idle": "2025-07-30T13:59:01.336328Z",
     "shell.execute_reply": "2025-07-30T13:59:01.335371Z"
    },
    "papermill": {
     "duration": 0.033428,
     "end_time": "2025-07-30T13:59:01.338268",
     "exception": false,
     "start_time": "2025-07-30T13:59:01.304840",
     "status": "completed"
    },
    "tags": []
   },
   "outputs": [],
   "source": [
    "# Miscoverage level for conformal prediction (10% allowed error rate => 90% target coverage)\n",
    "alpha = 0.1"
   ]
  },
  {
   "cell_type": "code",
   "execution_count": 48,
   "id": "eadf4555-3dd3-440e-8e35-f82a4ad9f855",
   "metadata": {
    "execution": {
     "iopub.execute_input": "2025-07-30T13:59:01.394686Z",
     "iopub.status.busy": "2025-07-30T13:59:01.393653Z",
     "iopub.status.idle": "2025-07-30T13:59:01.564693Z",
     "shell.execute_reply": "2025-07-30T13:59:01.563674Z"
    },
    "papermill": {
     "duration": 0.197855,
     "end_time": "2025-07-30T13:59:01.566506",
     "exception": false,
     "start_time": "2025-07-30T13:59:01.368651",
     "status": "completed"
    },
    "tags": []
   },
   "outputs": [],
   "source": [
    "probs_calib = model.predict_proba(X_calib)"
   ]
  },
  {
   "cell_type": "code",
   "execution_count": 49,
   "id": "2ed93547-6d5d-4983-9b36-1ecb300da49a",
   "metadata": {
    "execution": {
     "iopub.execute_input": "2025-07-30T13:59:01.612679Z",
     "iopub.status.busy": "2025-07-30T13:59:01.611853Z",
     "iopub.status.idle": "2025-07-30T13:59:01.617661Z",
     "shell.execute_reply": "2025-07-30T13:59:01.616747Z"
    },
    "papermill": {
     "duration": 0.022651,
     "end_time": "2025-07-30T13:59:01.619180",
     "exception": false,
     "start_time": "2025-07-30T13:59:01.596529",
     "status": "completed"
    },
    "tags": []
   },
   "outputs": [],
   "source": [
    "y_calib = y_calib.values.ravel().astype(int)"
   ]
  },
  {
   "cell_type": "code",
   "execution_count": 50,
   "id": "65d1320d-f588-4b38-9072-62af1ae97f7d",
   "metadata": {
    "execution": {
     "iopub.execute_input": "2025-07-30T13:59:01.652785Z",
     "iopub.status.busy": "2025-07-30T13:59:01.652404Z",
     "iopub.status.idle": "2025-07-30T13:59:01.664723Z",
     "shell.execute_reply": "2025-07-30T13:59:01.663504Z"
    },
    "papermill": {
     "duration": 0.02829,
     "end_time": "2025-07-30T13:59:01.666283",
     "exception": false,
     "start_time": "2025-07-30T13:59:01.637993",
     "status": "completed"
    },
    "tags": []
   },
   "outputs": [],
   "source": [
    "from fairness_multiverse.conformal import compute_nc_scores\n",
    "\n",
    "# Compute nonconformity scores on calibration set (1 - probability of true class)\n",
    "nc_scores = compute_nc_scores(probs_calib, y_calib)"
   ]
  },
  {
   "cell_type": "code",
   "execution_count": 51,
   "id": "df3b8ca3-53b7-43d5-9667-7c85da7aeda2",
   "metadata": {
    "execution": {
     "iopub.execute_input": "2025-07-30T13:59:01.720333Z",
     "iopub.status.busy": "2025-07-30T13:59:01.719915Z",
     "iopub.status.idle": "2025-07-30T13:59:01.726322Z",
     "shell.execute_reply": "2025-07-30T13:59:01.725269Z"
    },
    "papermill": {
     "duration": 0.035462,
     "end_time": "2025-07-30T13:59:01.728023",
     "exception": false,
     "start_time": "2025-07-30T13:59:01.692561",
     "status": "completed"
    },
    "tags": []
   },
   "outputs": [],
   "source": [
    "from fairness_multiverse.conformal import find_threshold\n",
    "\n",
    "# Find conformal threshold q_hat for the given alpha (split conformal method)\n",
    "q_hat = find_threshold(nc_scores, alpha)"
   ]
  },
  {
   "cell_type": "code",
   "execution_count": 52,
   "id": "4d29e6c1-0ef6-4aa4-b8fe-4fe79b0d033a",
   "metadata": {
    "execution": {
     "iopub.execute_input": "2025-07-30T13:59:01.782504Z",
     "iopub.status.busy": "2025-07-30T13:59:01.782116Z",
     "iopub.status.idle": "2025-07-30T13:59:01.789913Z",
     "shell.execute_reply": "2025-07-30T13:59:01.788812Z"
    },
    "papermill": {
     "duration": 0.036643,
     "end_time": "2025-07-30T13:59:01.791769",
     "exception": false,
     "start_time": "2025-07-30T13:59:01.755126",
     "status": "completed"
    },
    "tags": []
   },
   "outputs": [
    {
     "data": {
      "text/plain": [
       "0.6854503293435141"
      ]
     },
     "execution_count": 52,
     "metadata": {},
     "output_type": "execute_result"
    }
   ],
   "source": [
    "q_hat"
   ]
  },
  {
   "cell_type": "code",
   "execution_count": 53,
   "id": "92460794-cdac-4be2-ba28-f28c0515a6fb",
   "metadata": {
    "execution": {
     "iopub.execute_input": "2025-07-30T13:59:01.845597Z",
     "iopub.status.busy": "2025-07-30T13:59:01.845009Z",
     "iopub.status.idle": "2025-07-30T13:59:02.746487Z",
     "shell.execute_reply": "2025-07-30T13:59:02.745609Z"
    },
    "papermill": {
     "duration": 0.93123,
     "end_time": "2025-07-30T13:59:02.748249",
     "exception": false,
     "start_time": "2025-07-30T13:59:01.817019",
     "status": "completed"
    },
    "tags": []
   },
   "outputs": [],
   "source": [
    "from fairness_multiverse.conformal import predict_conformal_sets\n",
    "\n",
    "# Generate prediction sets for each test example\n",
    "pred_sets = predict_conformal_sets(model, X_test, q_hat)"
   ]
  },
  {
   "cell_type": "code",
   "execution_count": 54,
   "id": "d90c9a65-e6db-4f5d-80cd-e68fb7e46829",
   "metadata": {
    "execution": {
     "iopub.execute_input": "2025-07-30T13:59:02.806843Z",
     "iopub.status.busy": "2025-07-30T13:59:02.805942Z",
     "iopub.status.idle": "2025-07-30T13:59:02.811194Z",
     "shell.execute_reply": "2025-07-30T13:59:02.810326Z"
    },
    "papermill": {
     "duration": 0.038989,
     "end_time": "2025-07-30T13:59:02.812759",
     "exception": false,
     "start_time": "2025-07-30T13:59:02.773770",
     "status": "completed"
    },
    "tags": []
   },
   "outputs": [],
   "source": [
    "y_true = y_true.squeeze()"
   ]
  },
  {
   "cell_type": "code",
   "execution_count": 55,
   "id": "3a58a54a-1e68-46b9-927a-df01f18aebc8",
   "metadata": {
    "execution": {
     "iopub.execute_input": "2025-07-30T13:59:02.866007Z",
     "iopub.status.busy": "2025-07-30T13:59:02.865548Z",
     "iopub.status.idle": "2025-07-30T13:59:03.744289Z",
     "shell.execute_reply": "2025-07-30T13:59:03.743282Z"
    },
    "papermill": {
     "duration": 0.90548,
     "end_time": "2025-07-30T13:59:03.746201",
     "exception": false,
     "start_time": "2025-07-30T13:59:02.840721",
     "status": "completed"
    },
    "tags": []
   },
   "outputs": [],
   "source": [
    "from fairness_multiverse.conformal import evaluate_sets\n",
    "\n",
    "# Evaluate coverage and average set size on test data\n",
    "metrics = evaluate_sets(pred_sets, y_true)"
   ]
  },
  {
   "cell_type": "markdown",
   "id": "2b569c12-9aaa-4c88-98c9-bbcd0cf3ebb8",
   "metadata": {
    "papermill": {
     "duration": 0.022809,
     "end_time": "2025-07-30T13:59:03.796641",
     "exception": false,
     "start_time": "2025-07-30T13:59:03.773832",
     "status": "completed"
    },
    "tags": []
   },
   "source": [
    "# CP Metrics"
   ]
  },
  {
   "cell_type": "code",
   "execution_count": 56,
   "id": "5ce0a5cb-201f-45a0-ade5-94c7f0bd6095",
   "metadata": {
    "execution": {
     "iopub.execute_input": "2025-07-30T13:59:03.844453Z",
     "iopub.status.busy": "2025-07-30T13:59:03.843996Z",
     "iopub.status.idle": "2025-07-30T13:59:03.852479Z",
     "shell.execute_reply": "2025-07-30T13:59:03.849797Z"
    },
    "papermill": {
     "duration": 0.033804,
     "end_time": "2025-07-30T13:59:03.854109",
     "exception": false,
     "start_time": "2025-07-30T13:59:03.820305",
     "status": "completed"
    },
    "tags": []
   },
   "outputs": [
    {
     "data": {
      "text/plain": [
       "{'coverage': 0.9109909709062535, 'avg_size': 1.1358822873704157}"
      ]
     },
     "execution_count": 56,
     "metadata": {},
     "output_type": "execute_result"
    }
   ],
   "source": [
    "metrics"
   ]
  },
  {
   "cell_type": "code",
   "execution_count": 57,
   "id": "9b9a838d-31c9-430b-ae14-12baee460d17",
   "metadata": {
    "execution": {
     "iopub.execute_input": "2025-07-30T13:59:03.902543Z",
     "iopub.status.busy": "2025-07-30T13:59:03.902213Z",
     "iopub.status.idle": "2025-07-30T13:59:03.907912Z",
     "shell.execute_reply": "2025-07-30T13:59:03.906957Z"
    },
    "papermill": {
     "duration": 0.031852,
     "end_time": "2025-07-30T13:59:03.909661",
     "exception": false,
     "start_time": "2025-07-30T13:59:03.877809",
     "status": "completed"
    },
    "tags": []
   },
   "outputs": [],
   "source": [
    "example_universe = universe.copy()\n",
    "universe_training_size = example_universe.get(\"training_size\")\n",
    "universe_scale = example_universe.get(\"scale\")\n",
    "universe_model = example_universe.get(\"model\")\n",
    "universe_exclude_features = example_universe.get(\"exclude_features\")\n",
    "universe_exclude_subgroups = example_universe.get(\"exclude_subgroups\")"
   ]
  },
  {
   "cell_type": "code",
   "execution_count": 58,
   "id": "f4b6a8ac-9dc0-4245-8a91-5b3b5999c4f9",
   "metadata": {
    "execution": {
     "iopub.execute_input": "2025-07-30T13:59:03.960314Z",
     "iopub.status.busy": "2025-07-30T13:59:03.959518Z",
     "iopub.status.idle": "2025-07-30T13:59:03.967072Z",
     "shell.execute_reply": "2025-07-30T13:59:03.965864Z"
    },
    "papermill": {
     "duration": 0.034872,
     "end_time": "2025-07-30T13:59:03.969023",
     "exception": false,
     "start_time": "2025-07-30T13:59:03.934151",
     "status": "completed"
    },
    "tags": []
   },
   "outputs": [],
   "source": [
    "cp_metrics_dict = {\n",
    "    \"universe_id\": [universe_id],\n",
    "    \"universe_training_size\": [universe_training_size],\n",
    "    \"universe_scale\": [universe_scale],\n",
    "    \"universe_model\": [universe_model],\n",
    "    \"universe_exclude_features\": [universe_exclude_features],\n",
    "    \"universe_exclude_subgroups\": [universe_exclude_subgroups],\n",
    "    \"q_hat\": [q_hat],\n",
    "    \"coverage\": [metrics[\"coverage\"]],\n",
    "    \"avg_size\": [metrics[\"avg_size\"]],\n",
    "}"
   ]
  },
  {
   "cell_type": "code",
   "execution_count": 59,
   "id": "908acbb1-0371-4915-85ca-3fa520d2efe2",
   "metadata": {
    "execution": {
     "iopub.execute_input": "2025-07-30T13:59:04.019943Z",
     "iopub.status.busy": "2025-07-30T13:59:04.018913Z",
     "iopub.status.idle": "2025-07-30T13:59:04.027108Z",
     "shell.execute_reply": "2025-07-30T13:59:04.026098Z"
    },
    "papermill": {
     "duration": 0.035321,
     "end_time": "2025-07-30T13:59:04.029028",
     "exception": false,
     "start_time": "2025-07-30T13:59:03.993707",
     "status": "completed"
    },
    "tags": []
   },
   "outputs": [
    {
     "data": {
      "text/plain": [
       "{'universe_id': ['307b6ae060605ca671e987a7278c9b1a'],\n",
       " 'universe_training_size': ['5k'],\n",
       " 'universe_scale': ['scale'],\n",
       " 'universe_model': ['elasticnet'],\n",
       " 'universe_exclude_features': ['nationality-sex'],\n",
       " 'universe_exclude_subgroups': ['keep-all'],\n",
       " 'q_hat': [0.6854503293435141],\n",
       " 'coverage': [0.9109909709062535],\n",
       " 'avg_size': [1.1358822873704157]}"
      ]
     },
     "execution_count": 59,
     "metadata": {},
     "output_type": "execute_result"
    }
   ],
   "source": [
    "cp_metrics_dict"
   ]
  },
  {
   "cell_type": "code",
   "execution_count": 60,
   "id": "33007efc-14e9-4ec6-97ac-56a455c82265",
   "metadata": {
    "execution": {
     "iopub.execute_input": "2025-07-30T13:59:04.081550Z",
     "iopub.status.busy": "2025-07-30T13:59:04.080842Z",
     "iopub.status.idle": "2025-07-30T13:59:04.086910Z",
     "shell.execute_reply": "2025-07-30T13:59:04.086049Z"
    },
    "papermill": {
     "duration": 0.034812,
     "end_time": "2025-07-30T13:59:04.088799",
     "exception": false,
     "start_time": "2025-07-30T13:59:04.053987",
     "status": "completed"
    },
    "tags": []
   },
   "outputs": [],
   "source": [
    "cp_metrics_df = pd.DataFrame(cp_metrics_dict)"
   ]
  },
  {
   "cell_type": "code",
   "execution_count": 61,
   "id": "db12611b-57b2-4910-b9d0-355adfd6e7bf",
   "metadata": {
    "execution": {
     "iopub.execute_input": "2025-07-30T13:59:04.140540Z",
     "iopub.status.busy": "2025-07-30T13:59:04.139953Z",
     "iopub.status.idle": "2025-07-30T13:59:04.157269Z",
     "shell.execute_reply": "2025-07-30T13:59:04.156360Z"
    },
    "papermill": {
     "duration": 0.044837,
     "end_time": "2025-07-30T13:59:04.158875",
     "exception": false,
     "start_time": "2025-07-30T13:59:04.114038",
     "status": "completed"
    },
    "tags": []
   },
   "outputs": [
    {
     "data": {
      "text/html": [
       "<div>\n",
       "<style scoped>\n",
       "    .dataframe tbody tr th:only-of-type {\n",
       "        vertical-align: middle;\n",
       "    }\n",
       "\n",
       "    .dataframe tbody tr th {\n",
       "        vertical-align: top;\n",
       "    }\n",
       "\n",
       "    .dataframe thead th {\n",
       "        text-align: right;\n",
       "    }\n",
       "</style>\n",
       "<table border=\"1\" class=\"dataframe\">\n",
       "  <thead>\n",
       "    <tr style=\"text-align: right;\">\n",
       "      <th></th>\n",
       "      <th>universe_id</th>\n",
       "      <th>universe_training_size</th>\n",
       "      <th>universe_scale</th>\n",
       "      <th>universe_model</th>\n",
       "      <th>universe_exclude_features</th>\n",
       "      <th>universe_exclude_subgroups</th>\n",
       "      <th>q_hat</th>\n",
       "      <th>coverage</th>\n",
       "      <th>avg_size</th>\n",
       "    </tr>\n",
       "  </thead>\n",
       "  <tbody>\n",
       "    <tr>\n",
       "      <th>0</th>\n",
       "      <td>307b6ae060605ca671e987a7278c9b1a</td>\n",
       "      <td>5k</td>\n",
       "      <td>scale</td>\n",
       "      <td>elasticnet</td>\n",
       "      <td>nationality-sex</td>\n",
       "      <td>keep-all</td>\n",
       "      <td>0.68545</td>\n",
       "      <td>0.910991</td>\n",
       "      <td>1.135882</td>\n",
       "    </tr>\n",
       "  </tbody>\n",
       "</table>\n",
       "</div>"
      ],
      "text/plain": [
       "                        universe_id universe_training_size universe_scale  \\\n",
       "0  307b6ae060605ca671e987a7278c9b1a                     5k          scale   \n",
       "\n",
       "  universe_model universe_exclude_features universe_exclude_subgroups  \\\n",
       "0     elasticnet           nationality-sex                   keep-all   \n",
       "\n",
       "     q_hat  coverage  avg_size  \n",
       "0  0.68545  0.910991  1.135882  "
      ]
     },
     "execution_count": 61,
     "metadata": {},
     "output_type": "execute_result"
    }
   ],
   "source": [
    "cp_metrics_df"
   ]
  },
  {
   "cell_type": "code",
   "execution_count": 62,
   "id": "b7fbde55-a0a1-47e4-9af6-fe4a17fa8c61",
   "metadata": {
    "execution": {
     "iopub.execute_input": "2025-07-30T13:59:04.210823Z",
     "iopub.status.busy": "2025-07-30T13:59:04.210142Z",
     "iopub.status.idle": "2025-07-30T13:59:04.215859Z",
     "shell.execute_reply": "2025-07-30T13:59:04.214923Z"
    },
    "papermill": {
     "duration": 0.04109,
     "end_time": "2025-07-30T13:59:04.225284",
     "exception": false,
     "start_time": "2025-07-30T13:59:04.184194",
     "status": "completed"
    },
    "tags": []
   },
   "outputs": [],
   "source": [
    "# Conditional Coverage & looking at subgroups"
   ]
  },
  {
   "cell_type": "code",
   "execution_count": 63,
   "id": "027ae886-68dd-4141-96c7-805a5450e1ef",
   "metadata": {
    "execution": {
     "iopub.execute_input": "2025-07-30T13:59:04.276640Z",
     "iopub.status.busy": "2025-07-30T13:59:04.275976Z",
     "iopub.status.idle": "2025-07-30T13:59:04.541529Z",
     "shell.execute_reply": "2025-07-30T13:59:04.540661Z"
    },
    "papermill": {
     "duration": 0.29305,
     "end_time": "2025-07-30T13:59:04.543378",
     "exception": false,
     "start_time": "2025-07-30T13:59:04.250328",
     "status": "completed"
    },
    "tags": []
   },
   "outputs": [],
   "source": [
    "from fairness_multiverse.conformal import build_cp_groups\n",
    "\n",
    "cp_groups_df = build_cp_groups(pred_sets, y_true, X_test.index, org_test)\n",
    "#needs universe_id and setting"
   ]
  },
  {
   "cell_type": "code",
   "execution_count": 64,
   "id": "01d5802c-663a-4d1f-9d69-e036faaffbf7",
   "metadata": {
    "execution": {
     "iopub.execute_input": "2025-07-30T13:59:04.595438Z",
     "iopub.status.busy": "2025-07-30T13:59:04.594521Z",
     "iopub.status.idle": "2025-07-30T13:59:04.599638Z",
     "shell.execute_reply": "2025-07-30T13:59:04.598619Z"
    },
    "papermill": {
     "duration": 0.033152,
     "end_time": "2025-07-30T13:59:04.601571",
     "exception": false,
     "start_time": "2025-07-30T13:59:04.568419",
     "status": "completed"
    },
    "tags": []
   },
   "outputs": [],
   "source": [
    "#delete\n",
    "#cp_groups_df"
   ]
  },
  {
   "cell_type": "code",
   "execution_count": 65,
   "id": "fa424af1-d1eb-443d-b717-2d279ada8408",
   "metadata": {
    "execution": {
     "iopub.execute_input": "2025-07-30T13:59:04.653551Z",
     "iopub.status.busy": "2025-07-30T13:59:04.652866Z",
     "iopub.status.idle": "2025-07-30T13:59:04.658278Z",
     "shell.execute_reply": "2025-07-30T13:59:04.657220Z"
    },
    "papermill": {
     "duration": 0.032905,
     "end_time": "2025-07-30T13:59:04.659986",
     "exception": false,
     "start_time": "2025-07-30T13:59:04.627081",
     "status": "completed"
    },
    "tags": []
   },
   "outputs": [],
   "source": [
    "#delete\n",
    "#percentage = (cp_groups_df['nongerman_female'] == 1).mean() * 100\n",
    "#print(percentage)\n"
   ]
  },
  {
   "cell_type": "code",
   "execution_count": 66,
   "id": "6cbdab96-b2b2-45af-ad54-d0516db2e28d",
   "metadata": {
    "execution": {
     "iopub.execute_input": "2025-07-30T13:59:04.713770Z",
     "iopub.status.busy": "2025-07-30T13:59:04.713271Z",
     "iopub.status.idle": "2025-07-30T13:59:05.943686Z",
     "shell.execute_reply": "2025-07-30T13:59:05.942945Z"
    },
    "papermill": {
     "duration": 1.2593,
     "end_time": "2025-07-30T13:59:05.945206",
     "exception": false,
     "start_time": "2025-07-30T13:59:04.685906",
     "status": "completed"
    },
    "tags": []
   },
   "outputs": [],
   "source": [
    "# Define covered = 1 if true_label is in the predicted set\n",
    "cp_groups_df['covered'] = cp_groups_df.apply(\n",
    "    lambda r: int(r['true_label'] in r['pred_set']),\n",
    "    axis=1\n",
    ")"
   ]
  },
  {
   "cell_type": "code",
   "execution_count": 67,
   "id": "338ff529-1a6b-4b87-a931-8e4788d52aad",
   "metadata": {
    "execution": {
     "iopub.execute_input": "2025-07-30T13:59:05.974261Z",
     "iopub.status.busy": "2025-07-30T13:59:05.973533Z",
     "iopub.status.idle": "2025-07-30T13:59:05.977832Z",
     "shell.execute_reply": "2025-07-30T13:59:05.977048Z"
    },
    "papermill": {
     "duration": 0.019712,
     "end_time": "2025-07-30T13:59:05.979008",
     "exception": false,
     "start_time": "2025-07-30T13:59:05.959296",
     "status": "completed"
    },
    "tags": []
   },
   "outputs": [],
   "source": [
    "#cp_groups_df"
   ]
  },
  {
   "cell_type": "code",
   "execution_count": 68,
   "id": "90032e27-66df-4540-9169-4e89cfbaa758",
   "metadata": {
    "execution": {
     "iopub.execute_input": "2025-07-30T13:59:06.029978Z",
     "iopub.status.busy": "2025-07-30T13:59:06.029561Z",
     "iopub.status.idle": "2025-07-30T13:59:06.040583Z",
     "shell.execute_reply": "2025-07-30T13:59:06.039617Z"
    },
    "papermill": {
     "duration": 0.041639,
     "end_time": "2025-07-30T13:59:06.042222",
     "exception": false,
     "start_time": "2025-07-30T13:59:06.000583",
     "status": "completed"
    },
    "tags": []
   },
   "outputs": [],
   "source": [
    "subgroups = ['frau1','nongerman','nongerman_male','nongerman_female']\n",
    "\n",
    "# Conditional coverage for subgroup==1\n",
    "cond_coverage = {\n",
    "    g: cp_groups_df.loc[cp_groups_df[g]==1, 'covered'].mean()\n",
    "    for g in subgroups\n",
    "}"
   ]
  },
  {
   "cell_type": "code",
   "execution_count": 69,
   "id": "1e348fb1-b9c3-45bc-ba23-f016827a7e0d",
   "metadata": {
    "execution": {
     "iopub.execute_input": "2025-07-30T13:59:06.102014Z",
     "iopub.status.busy": "2025-07-30T13:59:06.101082Z",
     "iopub.status.idle": "2025-07-30T13:59:06.109560Z",
     "shell.execute_reply": "2025-07-30T13:59:06.108675Z"
    },
    "papermill": {
     "duration": 0.040945,
     "end_time": "2025-07-30T13:59:06.111275",
     "exception": false,
     "start_time": "2025-07-30T13:59:06.070330",
     "status": "completed"
    },
    "tags": []
   },
   "outputs": [
    {
     "data": {
      "text/plain": [
       "{'frau1': 0.9079660331581075,\n",
       " 'nongerman': 0.9104025150171223,\n",
       " 'nongerman_male': 0.9266864811312258,\n",
       " 'nongerman_female': 0.8834575260804769}"
      ]
     },
     "execution_count": 69,
     "metadata": {},
     "output_type": "execute_result"
    }
   ],
   "source": [
    "cond_coverage"
   ]
  },
  {
   "cell_type": "code",
   "execution_count": 70,
   "id": "f5093324-c3dd-4d63-bc4c-8d945e5c8bbb",
   "metadata": {
    "execution": {
     "iopub.execute_input": "2025-07-30T13:59:06.164167Z",
     "iopub.status.busy": "2025-07-30T13:59:06.163320Z",
     "iopub.status.idle": "2025-07-30T13:59:06.170392Z",
     "shell.execute_reply": "2025-07-30T13:59:06.169494Z"
    },
    "papermill": {
     "duration": 0.035279,
     "end_time": "2025-07-30T13:59:06.172004",
     "exception": false,
     "start_time": "2025-07-30T13:59:06.136725",
     "status": "completed"
    },
    "tags": []
   },
   "outputs": [],
   "source": [
    "for subgroup, cov in cond_coverage.items():\n",
    "    cp_metrics_df[f\"cov_{subgroup}\"] = cov"
   ]
  },
  {
   "cell_type": "code",
   "execution_count": 71,
   "id": "6e872e10-dbe5-49e8-b554-5030c98ff75d",
   "metadata": {
    "execution": {
     "iopub.execute_input": "2025-07-30T13:59:06.223134Z",
     "iopub.status.busy": "2025-07-30T13:59:06.222545Z",
     "iopub.status.idle": "2025-07-30T13:59:06.241827Z",
     "shell.execute_reply": "2025-07-30T13:59:06.240768Z"
    },
    "papermill": {
     "duration": 0.046384,
     "end_time": "2025-07-30T13:59:06.243488",
     "exception": false,
     "start_time": "2025-07-30T13:59:06.197104",
     "status": "completed"
    },
    "tags": []
   },
   "outputs": [
    {
     "data": {
      "text/html": [
       "<div>\n",
       "<style scoped>\n",
       "    .dataframe tbody tr th:only-of-type {\n",
       "        vertical-align: middle;\n",
       "    }\n",
       "\n",
       "    .dataframe tbody tr th {\n",
       "        vertical-align: top;\n",
       "    }\n",
       "\n",
       "    .dataframe thead th {\n",
       "        text-align: right;\n",
       "    }\n",
       "</style>\n",
       "<table border=\"1\" class=\"dataframe\">\n",
       "  <thead>\n",
       "    <tr style=\"text-align: right;\">\n",
       "      <th></th>\n",
       "      <th>universe_id</th>\n",
       "      <th>universe_training_size</th>\n",
       "      <th>universe_scale</th>\n",
       "      <th>universe_model</th>\n",
       "      <th>universe_exclude_features</th>\n",
       "      <th>universe_exclude_subgroups</th>\n",
       "      <th>q_hat</th>\n",
       "      <th>coverage</th>\n",
       "      <th>avg_size</th>\n",
       "      <th>cov_frau1</th>\n",
       "      <th>cov_nongerman</th>\n",
       "      <th>cov_nongerman_male</th>\n",
       "      <th>cov_nongerman_female</th>\n",
       "    </tr>\n",
       "  </thead>\n",
       "  <tbody>\n",
       "    <tr>\n",
       "      <th>0</th>\n",
       "      <td>307b6ae060605ca671e987a7278c9b1a</td>\n",
       "      <td>5k</td>\n",
       "      <td>scale</td>\n",
       "      <td>elasticnet</td>\n",
       "      <td>nationality-sex</td>\n",
       "      <td>keep-all</td>\n",
       "      <td>0.68545</td>\n",
       "      <td>0.910991</td>\n",
       "      <td>1.135882</td>\n",
       "      <td>0.907966</td>\n",
       "      <td>0.910403</td>\n",
       "      <td>0.926686</td>\n",
       "      <td>0.883458</td>\n",
       "    </tr>\n",
       "  </tbody>\n",
       "</table>\n",
       "</div>"
      ],
      "text/plain": [
       "                        universe_id universe_training_size universe_scale  \\\n",
       "0  307b6ae060605ca671e987a7278c9b1a                     5k          scale   \n",
       "\n",
       "  universe_model universe_exclude_features universe_exclude_subgroups  \\\n",
       "0     elasticnet           nationality-sex                   keep-all   \n",
       "\n",
       "     q_hat  coverage  avg_size  cov_frau1  cov_nongerman  cov_nongerman_male  \\\n",
       "0  0.68545  0.910991  1.135882   0.907966       0.910403            0.926686   \n",
       "\n",
       "   cov_nongerman_female  \n",
       "0              0.883458  "
      ]
     },
     "execution_count": 71,
     "metadata": {},
     "output_type": "execute_result"
    }
   ],
   "source": [
    "cp_metrics_df"
   ]
  },
  {
   "cell_type": "markdown",
   "id": "33774451",
   "metadata": {
    "papermill": {
     "duration": 0.02233,
     "end_time": "2025-07-30T13:59:06.294827",
     "exception": false,
     "start_time": "2025-07-30T13:59:06.272497",
     "status": "completed"
    },
    "tags": []
   },
   "source": [
    "# (Fairness) Metrics"
   ]
  },
  {
   "cell_type": "code",
   "execution_count": 72,
   "id": "debc5d62",
   "metadata": {
    "execution": {
     "iopub.execute_input": "2025-07-30T13:59:06.353378Z",
     "iopub.status.busy": "2025-07-30T13:59:06.352763Z",
     "iopub.status.idle": "2025-07-30T13:59:06.378593Z",
     "shell.execute_reply": "2025-07-30T13:59:06.377388Z"
    },
    "papermill": {
     "duration": 0.058394,
     "end_time": "2025-07-30T13:59:06.380287",
     "exception": false,
     "start_time": "2025-07-30T13:59:06.321893",
     "status": "completed"
    },
    "tags": []
   },
   "outputs": [],
   "source": [
    "# do I need to include maxdeutsch1.missing?\n",
    "\n",
    "import numpy as np\n",
    "\n",
    "colname_to_bin = \"maxdeutsch1\"\n",
    "majority_value = org_train[colname_to_bin].mode()[0]\n",
    "\n",
    "org_test[\"majmin\"] = np.where(org_test[colname_to_bin] == majority_value, \"majority\", \"minority\")"
   ]
  },
  {
   "cell_type": "code",
   "execution_count": 73,
   "id": "06a50de5",
   "metadata": {
    "execution": {
     "iopub.execute_input": "2025-07-30T13:59:06.437133Z",
     "iopub.status.busy": "2025-07-30T13:59:06.436751Z",
     "iopub.status.idle": "2025-07-30T13:59:09.184665Z",
     "shell.execute_reply": "2025-07-30T13:59:09.183797Z"
    },
    "papermill": {
     "duration": 2.779187,
     "end_time": "2025-07-30T13:59:09.186460",
     "exception": false,
     "start_time": "2025-07-30T13:59:06.407273",
     "status": "completed"
    },
    "tags": []
   },
   "outputs": [],
   "source": [
    "example_universe = universe.copy()\n",
    "example_universe[\"cutoff\"] = example_universe[\"cutoff\"][0]\n",
    "example_universe[\"eval_fairness_grouping\"] = example_universe[\"eval_fairness_grouping\"][0]\n",
    "fairness_dict, metric_frame = universe_analysis.compute_metrics(\n",
    "    example_universe,\n",
    "    y_pred_prob=probs_test,\n",
    "    y_test=y_true,\n",
    "    org_test=org_test,\n",
    ")"
   ]
  },
  {
   "cell_type": "markdown",
   "id": "f95d4e02",
   "metadata": {
    "papermill": {
     "duration": 0.024742,
     "end_time": "2025-07-30T13:59:09.238709",
     "exception": false,
     "start_time": "2025-07-30T13:59:09.213967",
     "status": "completed"
    },
    "tags": []
   },
   "source": [
    "# Overall"
   ]
  },
  {
   "cell_type": "markdown",
   "id": "bdee4871",
   "metadata": {
    "papermill": {
     "duration": 0.024689,
     "end_time": "2025-07-30T13:59:09.287760",
     "exception": false,
     "start_time": "2025-07-30T13:59:09.263071",
     "status": "completed"
    },
    "tags": []
   },
   "source": [
    "Fairness\n",
    "Main fairness target: Equalized Odds. Seems to be a better fit than equal opportunity, since we're not only interested in Y = 1. Seems to be a better fit than demographic parity, since we also care about accuracy, not just equal distribution of preds.\n",
    "\n",
    "Pick column for computation of fairness metrics\n",
    "\n",
    "Performance\n",
    "Overall performance measures, most interesting in relation to the measures split by group below"
   ]
  },
  {
   "cell_type": "code",
   "execution_count": 74,
   "id": "c4e067c6",
   "metadata": {
    "execution": {
     "iopub.execute_input": "2025-07-30T13:59:09.338440Z",
     "iopub.status.busy": "2025-07-30T13:59:09.337787Z",
     "iopub.status.idle": "2025-07-30T13:59:09.346028Z",
     "shell.execute_reply": "2025-07-30T13:59:09.345148Z"
    },
    "papermill": {
     "duration": 0.035361,
     "end_time": "2025-07-30T13:59:09.347560",
     "exception": false,
     "start_time": "2025-07-30T13:59:09.312199",
     "status": "completed"
    },
    "tags": []
   },
   "outputs": [
    {
     "data": {
      "text/plain": [
       "accuracy                   0.223977\n",
       "balanced accuracy          0.547738\n",
       "f1                         0.245320\n",
       "precision                  0.140143\n",
       "false positive rate        0.887752\n",
       "false negative rate        0.016771\n",
       "selection rate             0.900000\n",
       "count                  89710.000000\n",
       "dtype: float64"
      ]
     },
     "execution_count": 74,
     "metadata": {},
     "output_type": "execute_result"
    }
   ],
   "source": [
    "metric_frame.overall"
   ]
  },
  {
   "cell_type": "markdown",
   "id": "e968fe9d",
   "metadata": {
    "papermill": {
     "duration": 0.02484,
     "end_time": "2025-07-30T13:59:09.398010",
     "exception": false,
     "start_time": "2025-07-30T13:59:09.373170",
     "status": "completed"
    },
    "tags": []
   },
   "source": [
    "By Group"
   ]
  },
  {
   "cell_type": "code",
   "execution_count": 75,
   "id": "ec325bce",
   "metadata": {
    "execution": {
     "iopub.execute_input": "2025-07-30T13:59:09.449337Z",
     "iopub.status.busy": "2025-07-30T13:59:09.448683Z",
     "iopub.status.idle": "2025-07-30T13:59:09.463338Z",
     "shell.execute_reply": "2025-07-30T13:59:09.462472Z"
    },
    "papermill": {
     "duration": 0.04211,
     "end_time": "2025-07-30T13:59:09.464880",
     "exception": false,
     "start_time": "2025-07-30T13:59:09.422770",
     "status": "completed"
    },
    "tags": []
   },
   "outputs": [
    {
     "data": {
      "text/html": [
       "<div>\n",
       "<style scoped>\n",
       "    .dataframe tbody tr th:only-of-type {\n",
       "        vertical-align: middle;\n",
       "    }\n",
       "\n",
       "    .dataframe tbody tr th {\n",
       "        vertical-align: top;\n",
       "    }\n",
       "\n",
       "    .dataframe thead th {\n",
       "        text-align: right;\n",
       "    }\n",
       "</style>\n",
       "<table border=\"1\" class=\"dataframe\">\n",
       "  <thead>\n",
       "    <tr style=\"text-align: right;\">\n",
       "      <th></th>\n",
       "      <th>accuracy</th>\n",
       "      <th>balanced accuracy</th>\n",
       "      <th>f1</th>\n",
       "      <th>precision</th>\n",
       "      <th>false positive rate</th>\n",
       "      <th>false negative rate</th>\n",
       "      <th>selection rate</th>\n",
       "      <th>count</th>\n",
       "    </tr>\n",
       "    <tr>\n",
       "      <th>majmin</th>\n",
       "      <th></th>\n",
       "      <th></th>\n",
       "      <th></th>\n",
       "      <th></th>\n",
       "      <th></th>\n",
       "      <th></th>\n",
       "      <th></th>\n",
       "      <th></th>\n",
       "    </tr>\n",
       "  </thead>\n",
       "  <tbody>\n",
       "    <tr>\n",
       "      <th>majority</th>\n",
       "      <td>0.244441</td>\n",
       "      <td>0.556956</td>\n",
       "      <td>0.255612</td>\n",
       "      <td>0.146935</td>\n",
       "      <td>0.867816</td>\n",
       "      <td>0.018271</td>\n",
       "      <td>0.882868</td>\n",
       "      <td>69170.0</td>\n",
       "    </tr>\n",
       "    <tr>\n",
       "      <th>minority</th>\n",
       "      <td>0.155063</td>\n",
       "      <td>0.517705</td>\n",
       "      <td>0.212532</td>\n",
       "      <td>0.119059</td>\n",
       "      <td>0.953610</td>\n",
       "      <td>0.010980</td>\n",
       "      <td>0.957692</td>\n",
       "      <td>20540.0</td>\n",
       "    </tr>\n",
       "  </tbody>\n",
       "</table>\n",
       "</div>"
      ],
      "text/plain": [
       "          accuracy  balanced accuracy        f1  precision  \\\n",
       "majmin                                                       \n",
       "majority  0.244441           0.556956  0.255612   0.146935   \n",
       "minority  0.155063           0.517705  0.212532   0.119059   \n",
       "\n",
       "          false positive rate  false negative rate  selection rate    count  \n",
       "majmin                                                                       \n",
       "majority             0.867816             0.018271        0.882868  69170.0  \n",
       "minority             0.953610             0.010980        0.957692  20540.0  "
      ]
     },
     "execution_count": 75,
     "metadata": {},
     "output_type": "execute_result"
    }
   ],
   "source": [
    "metric_frame.by_group"
   ]
  },
  {
   "cell_type": "code",
   "execution_count": 76,
   "id": "a9ddbe63",
   "metadata": {
    "execution": {
     "iopub.execute_input": "2025-07-30T13:59:09.517611Z",
     "iopub.status.busy": "2025-07-30T13:59:09.516965Z",
     "iopub.status.idle": "2025-07-30T13:59:11.187685Z",
     "shell.execute_reply": "2025-07-30T13:59:11.186956Z"
    },
    "papermill": {
     "duration": 1.698047,
     "end_time": "2025-07-30T13:59:11.189002",
     "exception": false,
     "start_time": "2025-07-30T13:59:09.490955",
     "status": "completed"
    },
    "tags": []
   },
   "outputs": [
    {
     "data": {
      "text/plain": [
       "array([[<Axes: title={'center': 'accuracy'}, xlabel='majmin'>,\n",
       "        <Axes: title={'center': 'balanced accuracy'}, xlabel='majmin'>,\n",
       "        <Axes: title={'center': 'f1'}, xlabel='majmin'>],\n",
       "       [<Axes: title={'center': 'precision'}, xlabel='majmin'>,\n",
       "        <Axes: title={'center': 'false positive rate'}, xlabel='majmin'>,\n",
       "        <Axes: title={'center': 'false negative rate'}, xlabel='majmin'>],\n",
       "       [<Axes: title={'center': 'selection rate'}, xlabel='majmin'>,\n",
       "        <Axes: title={'center': 'count'}, xlabel='majmin'>,\n",
       "        <Axes: xlabel='majmin'>]], dtype=object)"
      ]
     },
     "execution_count": 76,
     "metadata": {},
     "output_type": "execute_result"
    },
    {
     "data": {
      "image/png": "[encoded data removed]",
      "text/plain": [
       "<Figure size 1200x800 with 9 Axes>"
      ]
     },
     "metadata": {},
     "output_type": "display_data"
    }
   ],
   "source": [
    "# In a graphic\n",
    "metric_frame.by_group.plot.bar(\n",
    "    subplots=True,\n",
    "    layout=[3, 3],\n",
    "    legend=False,\n",
    "    figsize=[12, 8],\n",
    "    title=\"Show all metrics\",\n",
    ")"
   ]
  },
  {
   "cell_type": "markdown",
   "id": "f57a0bac",
   "metadata": {
    "papermill": {
     "duration": 0.015505,
     "end_time": "2025-07-30T13:59:11.220430",
     "exception": false,
     "start_time": "2025-07-30T13:59:11.204925",
     "status": "completed"
    },
    "tags": []
   },
   "source": [
    "# Final Output"
   ]
  },
  {
   "cell_type": "code",
   "execution_count": 77,
   "id": "96d280a3",
   "metadata": {
    "execution": {
     "iopub.execute_input": "2025-07-30T13:59:11.257581Z",
     "iopub.status.busy": "2025-07-30T13:59:11.256928Z",
     "iopub.status.idle": "2025-07-30T13:59:11.265388Z",
     "shell.execute_reply": "2025-07-30T13:59:11.264400Z"
    },
    "papermill": {
     "duration": 0.030779,
     "end_time": "2025-07-30T13:59:11.267024",
     "exception": false,
     "start_time": "2025-07-30T13:59:11.236245",
     "status": "completed"
    },
    "tags": []
   },
   "outputs": [
    {
     "data": {
      "text/plain": [
       "4"
      ]
     },
     "execution_count": 77,
     "metadata": {},
     "output_type": "execute_result"
    }
   ],
   "source": [
    "sub_universes = universe_analysis.generate_sub_universes()\n",
    "len(sub_universes)"
   ]
  },
  {
   "cell_type": "code",
   "execution_count": 78,
   "id": "92adf7ba",
   "metadata": {
    "execution": {
     "iopub.execute_input": "2025-07-30T13:59:11.318689Z",
     "iopub.status.busy": "2025-07-30T13:59:11.318072Z",
     "iopub.status.idle": "2025-07-30T13:59:11.323391Z",
     "shell.execute_reply": "2025-07-30T13:59:11.322670Z"
    },
    "papermill": {
     "duration": 0.027092,
     "end_time": "2025-07-30T13:59:11.324777",
     "exception": false,
     "start_time": "2025-07-30T13:59:11.297685",
     "status": "completed"
    },
    "tags": []
   },
   "outputs": [],
   "source": [
    "def filter_sub_universe_data(sub_universe, org_test):\n",
    "    # Keep all rows — no filtering\n",
    "    keep_rows_mask = np.ones(org_test.shape[0], dtype=bool)\n",
    "\n",
    "    print(f\"[INFO] Keeping all rows: {keep_rows_mask.sum()} rows retained.\")\n",
    "    return keep_rows_mask"
   ]
  },
  {
   "cell_type": "code",
   "execution_count": 79,
   "id": "4a759155",
   "metadata": {
    "execution": {
     "iopub.execute_input": "2025-07-30T13:59:11.359479Z",
     "iopub.status.busy": "2025-07-30T13:59:11.358983Z",
     "iopub.status.idle": "2025-07-30T13:59:22.021774Z",
     "shell.execute_reply": "2025-07-30T13:59:22.020681Z"
    },
    "papermill": {
     "duration": 10.681106,
     "end_time": "2025-07-30T13:59:22.023282",
     "exception": false,
     "start_time": "2025-07-30T13:59:11.342176",
     "status": "completed"
    },
    "tags": []
   },
   "outputs": [
    {
     "name": "stdout",
     "output_type": "stream",
     "text": [
      "Stopping execution_time clock.\n",
      "[INFO] Keeping all rows: 89710 rows retained.\n"
     ]
    },
    {
     "name": "stdout",
     "output_type": "stream",
     "text": [
      "[INFO] Keeping all rows: 89710 rows retained.\n"
     ]
    },
    {
     "name": "stdout",
     "output_type": "stream",
     "text": [
      "[INFO] Keeping all rows: 89710 rows retained.\n"
     ]
    },
    {
     "name": "stdout",
     "output_type": "stream",
     "text": [
      "[INFO] Keeping all rows: 89710 rows retained.\n"
     ]
    },
    {
     "data": {
      "text/html": [
       "<div>\n",
       "<style scoped>\n",
       "    .dataframe tbody tr th:only-of-type {\n",
       "        vertical-align: middle;\n",
       "    }\n",
       "\n",
       "    .dataframe tbody tr th {\n",
       "        vertical-align: top;\n",
       "    }\n",
       "\n",
       "    .dataframe thead th {\n",
       "        text-align: right;\n",
       "    }\n",
       "</style>\n",
       "<table border=\"1\" class=\"dataframe\">\n",
       "  <thead>\n",
       "    <tr style=\"text-align: right;\">\n",
       "      <th></th>\n",
       "      <th>run_no</th>\n",
       "      <th>universe_id</th>\n",
       "      <th>universe_settings</th>\n",
       "      <th>execution_time</th>\n",
       "      <th>test_size_n</th>\n",
       "      <th>test_size_frac</th>\n",
       "      <th>fair_main_equalized_odds_difference</th>\n",
       "      <th>fair_main_equalized_odds_ratio</th>\n",
       "      <th>fair_main_demographic_parity_difference</th>\n",
       "      <th>fair_main_demographic_parity_ratio</th>\n",
       "      <th>...</th>\n",
       "      <th>perf_grp_precision_0</th>\n",
       "      <th>perf_grp_precision_1</th>\n",
       "      <th>perf_grp_false positive rate_0</th>\n",
       "      <th>perf_grp_false positive rate_1</th>\n",
       "      <th>perf_grp_false negative rate_0</th>\n",
       "      <th>perf_grp_false negative rate_1</th>\n",
       "      <th>perf_grp_selection rate_0</th>\n",
       "      <th>perf_grp_selection rate_1</th>\n",
       "      <th>perf_grp_count_0</th>\n",
       "      <th>perf_grp_count_1</th>\n",
       "    </tr>\n",
       "  </thead>\n",
       "  <tbody>\n",
       "    <tr>\n",
       "      <th>0</th>\n",
       "      <td>12</td>\n",
       "      <td>307b6ae060605ca671e987a7278c9b1a</td>\n",
       "      <td>{\"cutoff\": \"quantile_0.1\", \"eval_fairness_grou...</td>\n",
       "      <td>33.561021</td>\n",
       "      <td>89710</td>\n",
       "      <td>1.0</td>\n",
       "      <td>0.085794</td>\n",
       "      <td>0.910033</td>\n",
       "      <td>0.074824</td>\n",
       "      <td>0.921871</td>\n",
       "      <td>...</td>\n",
       "      <td>NaN</td>\n",
       "      <td>NaN</td>\n",
       "      <td>NaN</td>\n",
       "      <td>NaN</td>\n",
       "      <td>NaN</td>\n",
       "      <td>NaN</td>\n",
       "      <td>NaN</td>\n",
       "      <td>NaN</td>\n",
       "      <td>NaN</td>\n",
       "      <td>NaN</td>\n",
       "    </tr>\n",
       "    <tr>\n",
       "      <th>0</th>\n",
       "      <td>12</td>\n",
       "      <td>307b6ae060605ca671e987a7278c9b1a</td>\n",
       "      <td>{\"cutoff\": \"quantile_0.1\", \"eval_fairness_grou...</td>\n",
       "      <td>33.561021</td>\n",
       "      <td>89710</td>\n",
       "      <td>1.0</td>\n",
       "      <td>0.085794</td>\n",
       "      <td>0.910033</td>\n",
       "      <td>0.074824</td>\n",
       "      <td>0.921871</td>\n",
       "      <td>...</td>\n",
       "      <td>0.119059</td>\n",
       "      <td>0.146935</td>\n",
       "      <td>0.953610</td>\n",
       "      <td>0.867816</td>\n",
       "      <td>0.010980</td>\n",
       "      <td>0.018271</td>\n",
       "      <td>0.957692</td>\n",
       "      <td>0.882868</td>\n",
       "      <td>20540.0</td>\n",
       "      <td>69170.0</td>\n",
       "    </tr>\n",
       "    <tr>\n",
       "      <th>0</th>\n",
       "      <td>12</td>\n",
       "      <td>307b6ae060605ca671e987a7278c9b1a</td>\n",
       "      <td>{\"cutoff\": \"quantile_0.25\", \"eval_fairness_gro...</td>\n",
       "      <td>33.561021</td>\n",
       "      <td>89710</td>\n",
       "      <td>1.0</td>\n",
       "      <td>0.159756</td>\n",
       "      <td>0.810973</td>\n",
       "      <td>0.139300</td>\n",
       "      <td>0.837532</td>\n",
       "      <td>...</td>\n",
       "      <td>NaN</td>\n",
       "      <td>NaN</td>\n",
       "      <td>NaN</td>\n",
       "      <td>NaN</td>\n",
       "      <td>NaN</td>\n",
       "      <td>NaN</td>\n",
       "      <td>NaN</td>\n",
       "      <td>NaN</td>\n",
       "      <td>NaN</td>\n",
       "      <td>NaN</td>\n",
       "    </tr>\n",
       "    <tr>\n",
       "      <th>0</th>\n",
       "      <td>12</td>\n",
       "      <td>307b6ae060605ca671e987a7278c9b1a</td>\n",
       "      <td>{\"cutoff\": \"quantile_0.25\", \"eval_fairness_gro...</td>\n",
       "      <td>33.561021</td>\n",
       "      <td>89710</td>\n",
       "      <td>1.0</td>\n",
       "      <td>0.159756</td>\n",
       "      <td>0.810973</td>\n",
       "      <td>0.139300</td>\n",
       "      <td>0.837532</td>\n",
       "      <td>...</td>\n",
       "      <td>0.127931</td>\n",
       "      <td>0.171670</td>\n",
       "      <td>0.845146</td>\n",
       "      <td>0.685391</td>\n",
       "      <td>0.048564</td>\n",
       "      <td>0.067068</td>\n",
       "      <td>0.857400</td>\n",
       "      <td>0.718100</td>\n",
       "      <td>20540.0</td>\n",
       "      <td>69170.0</td>\n",
       "    </tr>\n",
       "  </tbody>\n",
       "</table>\n",
       "<p>4 rows × 50 columns</p>\n",
       "</div>"
      ],
      "text/plain": [
       "  run_no                       universe_id  \\\n",
       "0     12  307b6ae060605ca671e987a7278c9b1a   \n",
       "0     12  307b6ae060605ca671e987a7278c9b1a   \n",
       "0     12  307b6ae060605ca671e987a7278c9b1a   \n",
       "0     12  307b6ae060605ca671e987a7278c9b1a   \n",
       "\n",
       "                                   universe_settings  execution_time  \\\n",
       "0  {\"cutoff\": \"quantile_0.1\", \"eval_fairness_grou...       33.561021   \n",
       "0  {\"cutoff\": \"quantile_0.1\", \"eval_fairness_grou...       33.561021   \n",
       "0  {\"cutoff\": \"quantile_0.25\", \"eval_fairness_gro...       33.561021   \n",
       "0  {\"cutoff\": \"quantile_0.25\", \"eval_fairness_gro...       33.561021   \n",
       "\n",
       "   test_size_n  test_size_frac  fair_main_equalized_odds_difference  \\\n",
       "0        89710             1.0                             0.085794   \n",
       "0        89710             1.0                             0.085794   \n",
       "0        89710             1.0                             0.159756   \n",
       "0        89710             1.0                             0.159756   \n",
       "\n",
       "   fair_main_equalized_odds_ratio  fair_main_demographic_parity_difference  \\\n",
       "0                        0.910033                                 0.074824   \n",
       "0                        0.910033                                 0.074824   \n",
       "0                        0.810973                                 0.139300   \n",
       "0                        0.810973                                 0.139300   \n",
       "\n",
       "   fair_main_demographic_parity_ratio  ...  perf_grp_precision_0  \\\n",
       "0                            0.921871  ...                   NaN   \n",
       "0                            0.921871  ...              0.119059   \n",
       "0                            0.837532  ...                   NaN   \n",
       "0                            0.837532  ...              0.127931   \n",
       "\n",
       "   perf_grp_precision_1  perf_grp_false positive rate_0  \\\n",
       "0                   NaN                             NaN   \n",
       "0              0.146935                        0.953610   \n",
       "0                   NaN                             NaN   \n",
       "0              0.171670                        0.845146   \n",
       "\n",
       "   perf_grp_false positive rate_1  perf_grp_false negative rate_0  \\\n",
       "0                             NaN                             NaN   \n",
       "0                        0.867816                        0.010980   \n",
       "0                             NaN                             NaN   \n",
       "0                        0.685391                        0.048564   \n",
       "\n",
       "   perf_grp_false negative rate_1  perf_grp_selection rate_0  \\\n",
       "0                             NaN                        NaN   \n",
       "0                        0.018271                   0.957692   \n",
       "0                             NaN                        NaN   \n",
       "0                        0.067068                   0.857400   \n",
       "\n",
       "   perf_grp_selection rate_1  perf_grp_count_0  perf_grp_count_1  \n",
       "0                        NaN               NaN               NaN  \n",
       "0                   0.882868           20540.0           69170.0  \n",
       "0                        NaN               NaN               NaN  \n",
       "0                   0.718100           20540.0           69170.0  \n",
       "\n",
       "[4 rows x 50 columns]"
      ]
     },
     "execution_count": 79,
     "metadata": {},
     "output_type": "execute_result"
    }
   ],
   "source": [
    "final_output = universe_analysis.generate_final_output(\n",
    "    y_pred_prob=probs_test,\n",
    "    y_test=y_true,\n",
    "    org_test=org_test,\n",
    "    filter_data=filter_sub_universe_data,\n",
    "    cp_metrics_df=cp_metrics_df,\n",
    "    save=True,\n",
    ")\n",
    "final_output"
   ]
  },
  {
   "cell_type": "code",
   "execution_count": null,
   "id": "721ff514-cb11-46f8-b6fc-50392f74b5cb",
   "metadata": {
    "papermill": {
     "duration": 0.030257,
     "end_time": "2025-07-30T13:59:22.085511",
     "exception": false,
     "start_time": "2025-07-30T13:59:22.055254",
     "status": "completed"
    },
    "tags": []
   },
   "outputs": [],
   "source": []
  }
 ],
 "metadata": {
  "celltoolbar": "Tags",
  "kernelspec": {
   "display_name": "Python (CMA Fairness)",
   "language": "python",
   "name": "cma_fair_env"
  },
  "language_info": {
   "codemirror_mode": {
    "name": "ipython",
    "version": 3
   },
   "file_extension": ".py",
   "mimetype": "text/x-python",
   "name": "python",
   "nbconvert_exporter": "python",
   "pygments_lexer": "ipython3",
   "version": "3.10.12"
  },
  "papermill": {
   "default_parameters": {},
   "duration": 48.412403,
   "end_time": "2025-07-30T13:59:22.934500",
   "environment_variables": {},
   "exception": null,
   "input_path": "universe_analysis.ipynb",
   "output_path": "output/runs/12/notebooks/m_12-307b6ae060605ca671e987a7278c9b1a.ipynb",
   "parameters": {
    "output_dir": "output",
    "run_no": "12",
    "seed": "2023",
    "universe": "{\"cutoff\": [\"quantile_0.1\", \"quantile_0.25\"], \"eval_fairness_grouping\": [\"majority-minority\", \"nationality-all\"], \"exclude_features\": \"nationality-sex\", \"exclude_subgroups\": \"keep-all\", \"model\": \"elasticnet\", \"scale\": \"scale\", \"training_size\": \"5k\", \"training_year\": \"2012_14\"}",
    "universe_id": "307b6ae060605ca671e987a7278c9b1a"
   },
   "start_time": "2025-07-30T13:58:34.522097",
   "version": "2.6.0"
  }
 },
 "nbformat": 4,
 "nbformat_minor": 5
}