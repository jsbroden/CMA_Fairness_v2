{
 "cells": [
  {
   "cell_type": "code",
   "execution_count": 1,
   "id": "f159f837-637b-42ba-96b5-ec9a68c44524",
   "metadata": {
    "execution": {
     "iopub.execute_input": "2025-07-30T12:53:29.638860Z",
     "iopub.status.busy": "2025-07-30T12:53:29.638280Z",
     "iopub.status.idle": "2025-07-30T12:53:29.653890Z",
     "shell.execute_reply": "2025-07-30T12:53:29.652692Z"
    },
    "papermill": {
     "duration": 0.038525,
     "end_time": "2025-07-30T12:53:29.655697",
     "exception": false,
     "start_time": "2025-07-30T12:53:29.617172",
     "status": "completed"
    },
    "tags": []
   },
   "outputs": [
    {
     "name": "stdout",
     "output_type": "stream",
     "text": [
      "/dss/dsshome1/0C/ra93lal2/cma/CMA_Fairness_v2\n"
     ]
    },
    {
     "name": "stderr",
     "output_type": "stream",
     "text": [
      "/dss/dsshome1/0C/ra93lal2/.local/share/virtualenvs/CMA_Fairness_v2-3j10GkSs/lib/python3.10/site-packages/IPython/core/magics/osm.py:393: UserWarning: This is now an optional IPython functionality, using bookmarks requires you to install the `pickleshare` library.\n",
      "  bkms = self.shell.db.get('bookmarks', {})\n",
      "/dss/dsshome1/0C/ra93lal2/.local/share/virtualenvs/CMA_Fairness_v2-3j10GkSs/lib/python3.10/site-packages/IPython/core/magics/osm.py:417: UserWarning: This is now an optional IPython functionality, setting dhist requires you to install the `pickleshare` library.\n",
      "  self.shell.db['dhist'] = compress_dhist(dhist)[-100:]\n"
     ]
    }
   ],
   "source": [
    "%cd ~/cma/CMA_Fairness_v2"
   ]
  },
  {
   "cell_type": "markdown",
   "id": "de2603b9",
   "metadata": {
    "papermill": {
     "duration": 0.020548,
     "end_time": "2025-07-30T12:53:29.698252",
     "exception": false,
     "start_time": "2025-07-30T12:53:29.677704",
     "status": "completed"
    },
    "tags": []
   },
   "source": [
    "The following cell holds the definition of our parameters, these values can be overriden by rendering the with e.g. the following command:\n",
    "\n",
    "papermill -p alpha 0.2 -p ratio 0.3 universe_analysis.ipynb output/test_run.ipynb"
   ]
  },
  {
   "cell_type": "code",
   "execution_count": 2,
   "id": "a80968a0-40bb-4fa9-85ef-2d5eefb01975",
   "metadata": {
    "execution": {
     "iopub.execute_input": "2025-07-30T12:53:29.739282Z",
     "iopub.status.busy": "2025-07-30T12:53:29.738744Z",
     "iopub.status.idle": "2025-07-30T12:53:29.744735Z",
     "shell.execute_reply": "2025-07-30T12:53:29.743669Z"
    },
    "papermill": {
     "duration": 0.029794,
     "end_time": "2025-07-30T12:53:29.747243",
     "exception": false,
     "start_time": "2025-07-30T12:53:29.717449",
     "status": "completed"
    },
    "tags": []
   },
   "outputs": [
    {
     "name": "stdout",
     "output_type": "stream",
     "text": [
      "Current working directory: /dss/dsshome1/0C/ra93lal2/cma/CMA_Fairness_v2\n"
     ]
    }
   ],
   "source": [
    "import os\n",
    "print(\"Current working directory:\", os.getcwd())"
   ]
  },
  {
   "cell_type": "code",
   "execution_count": 3,
   "id": "2dce4c03",
   "metadata": {
    "execution": {
     "iopub.execute_input": "2025-07-30T12:53:29.790944Z",
     "iopub.status.busy": "2025-07-30T12:53:29.790455Z",
     "iopub.status.idle": "2025-07-30T12:53:29.797047Z",
     "shell.execute_reply": "2025-07-30T12:53:29.796088Z"
    },
    "papermill": {
     "duration": 0.02889,
     "end_time": "2025-07-30T12:53:29.798716",
     "exception": false,
     "start_time": "2025-07-30T12:53:29.769826",
     "status": "completed"
    },
    "tags": [
     "parameters"
    ]
   },
   "outputs": [],
   "source": [
    "run_no = 0\n",
    "universe_id = \"test\"\n",
    "universe = {\n",
    "    \"training_size\": \"25k\", # \"25k\", \"5k\", \"1k\"\n",
    "    \"training_year\": \"2014\", # \"2014\", \"2012_14\", \"2010_14\"\n",
    "    \"scale\": \"scale\", # \"scale\", \"do-not-scale\",\n",
    "    #\"stratify_split\": \"target\", # \"none\", \"target\", \"protected-attribute\", \"both\",\n",
    "    \"model\": \"elasticnet\", # \"logreg\", \"penalized_logreg\", \"rf\", \"gbm\", \"elasticnet\"\n",
    "    \"cutoff\": [\"quantile_0.15\", \"quantile_0.30\"],\n",
    "    \"exclude_features\": \"age\", # \"none\", \"nationality\", \"sex\", \"nationality-sex\", \"age\"\n",
    "    \"exclude_subgroups\": \"keep-all\", # \"keep-all\", \"drop-non-german\"\n",
    "    \"eval_fairness_grouping\": [\"majority-minority\", \"nationality-all\"]\n",
    "}\n",
    "\n",
    "output_dir=\"./output\"\n",
    "seed=0"
   ]
  },
  {
   "cell_type": "code",
   "execution_count": 4,
   "id": "486eb49e",
   "metadata": {
    "execution": {
     "iopub.execute_input": "2025-07-30T12:53:29.840422Z",
     "iopub.status.busy": "2025-07-30T12:53:29.839885Z",
     "iopub.status.idle": "2025-07-30T12:53:29.846291Z",
     "shell.execute_reply": "2025-07-30T12:53:29.845202Z"
    },
    "papermill": {
     "duration": 0.029525,
     "end_time": "2025-07-30T12:53:29.848085",
     "exception": false,
     "start_time": "2025-07-30T12:53:29.818560",
     "status": "completed"
    },
    "tags": [
     "injected-parameters"
    ]
   },
   "outputs": [],
   "source": [
    "# Parameters\n",
    "universe_id = \"c58184faf0c60f9885c5bf5457bc83cb\"\n",
    "run_no = \"12\"\n",
    "universe = \"{\\\"cutoff\\\": [\\\"quantile_0.1\\\", \\\"quantile_0.25\\\"], \\\"eval_fairness_grouping\\\": [\\\"majority-minority\\\", \\\"nationality-all\\\"], \\\"exclude_features\\\": \\\"age\\\", \\\"exclude_subgroups\\\": \\\"keep-all\\\", \\\"model\\\": \\\"logreg\\\", \\\"scale\\\": \\\"do-not-scale\\\", \\\"training_size\\\": \\\"25k\\\", \\\"training_year\\\": \\\"2014\\\"}\"\n",
    "output_dir = \"output\"\n",
    "seed = \"2023\"\n"
   ]
  },
  {
   "cell_type": "code",
   "execution_count": 5,
   "id": "1650acaf",
   "metadata": {
    "execution": {
     "iopub.execute_input": "2025-07-30T12:53:29.891347Z",
     "iopub.status.busy": "2025-07-30T12:53:29.890821Z",
     "iopub.status.idle": "2025-07-30T12:53:29.896482Z",
     "shell.execute_reply": "2025-07-30T12:53:29.895510Z"
    },
    "papermill": {
     "duration": 0.028954,
     "end_time": "2025-07-30T12:53:29.898038",
     "exception": false,
     "start_time": "2025-07-30T12:53:29.869084",
     "status": "completed"
    },
    "tags": []
   },
   "outputs": [],
   "source": [
    "import json\n",
    "# Parse universe into dict if it is passed as a string\n",
    "if isinstance(universe, str):\n",
    "    universe = json.loads(universe)"
   ]
  },
  {
   "cell_type": "code",
   "execution_count": 6,
   "id": "16620c48",
   "metadata": {
    "execution": {
     "iopub.execute_input": "2025-07-30T12:53:29.939974Z",
     "iopub.status.busy": "2025-07-30T12:53:29.939355Z",
     "iopub.status.idle": "2025-07-30T12:53:29.986983Z",
     "shell.execute_reply": "2025-07-30T12:53:29.986323Z"
    },
    "papermill": {
     "duration": 0.071237,
     "end_time": "2025-07-30T12:53:29.988687",
     "exception": false,
     "start_time": "2025-07-30T12:53:29.917450",
     "status": "completed"
    },
    "tags": []
   },
   "outputs": [],
   "source": [
    "# Auto-reload the custom package\n",
    "%load_ext autoreload\n",
    "%autoreload 1\n",
    "%aimport fairness_multiverse"
   ]
  },
  {
   "cell_type": "code",
   "execution_count": 7,
   "id": "01c5c9f3",
   "metadata": {
    "execution": {
     "iopub.execute_input": "2025-07-30T12:53:30.032342Z",
     "iopub.status.busy": "2025-07-30T12:53:30.031841Z",
     "iopub.status.idle": "2025-07-30T12:53:31.899464Z",
     "shell.execute_reply": "2025-07-30T12:53:31.898329Z"
    },
    "papermill": {
     "duration": 1.892018,
     "end_time": "2025-07-30T12:53:31.901699",
     "exception": false,
     "start_time": "2025-07-30T12:53:30.009681",
     "status": "completed"
    },
    "tags": []
   },
   "outputs": [],
   "source": [
    "from fairness_multiverse.universe import UniverseAnalysis\n",
    "\n",
    "universe_analysis = UniverseAnalysis(\n",
    "    run_no = run_no,\n",
    "    universe_id = universe_id,\n",
    "    universe = universe,\n",
    "    output_dir=output_dir,\n",
    ")"
   ]
  },
  {
   "cell_type": "code",
   "execution_count": 8,
   "id": "106241f5",
   "metadata": {
    "execution": {
     "iopub.execute_input": "2025-07-30T12:53:31.948210Z",
     "iopub.status.busy": "2025-07-30T12:53:31.947615Z",
     "iopub.status.idle": "2025-07-30T12:53:31.955345Z",
     "shell.execute_reply": "2025-07-30T12:53:31.954271Z"
    },
    "papermill": {
     "duration": 0.032706,
     "end_time": "2025-07-30T12:53:31.956978",
     "exception": false,
     "start_time": "2025-07-30T12:53:31.924272",
     "status": "completed"
    },
    "tags": []
   },
   "outputs": [
    {
     "name": "stdout",
     "output_type": "stream",
     "text": [
      "Using Seed: 2023\n"
     ]
    }
   ],
   "source": [
    "import numpy as np\n",
    "parsed_seed = int(seed)\n",
    "np.random.seed(parsed_seed)\n",
    "print(f\"Using Seed: {parsed_seed}\")"
   ]
  },
  {
   "cell_type": "markdown",
   "id": "e0ebdc57",
   "metadata": {
    "papermill": {
     "duration": 0.045555,
     "end_time": "2025-07-30T12:53:32.024704",
     "exception": false,
     "start_time": "2025-07-30T12:53:31.979149",
     "status": "completed"
    },
    "tags": []
   },
   "source": [
    "# Loading Data"
   ]
  },
  {
   "cell_type": "markdown",
   "id": "681925a3",
   "metadata": {
    "papermill": {
     "duration": 0.021429,
     "end_time": "2025-07-30T12:53:32.069041",
     "exception": false,
     "start_time": "2025-07-30T12:53:32.047612",
     "status": "completed"
    },
    "tags": []
   },
   "source": [
    "Load siab_train, siab_test, siab_calib and/or \n",
    "load siab_train_features, siab_train_labels"
   ]
  },
  {
   "cell_type": "code",
   "execution_count": 9,
   "id": "f0496b8a",
   "metadata": {
    "execution": {
     "iopub.execute_input": "2025-07-30T12:53:32.110235Z",
     "iopub.status.busy": "2025-07-30T12:53:32.109691Z",
     "iopub.status.idle": "2025-07-30T12:53:43.339924Z",
     "shell.execute_reply": "2025-07-30T12:53:43.338716Z"
    },
    "papermill": {
     "duration": 11.253079,
     "end_time": "2025-07-30T12:53:43.341500",
     "exception": false,
     "start_time": "2025-07-30T12:53:32.088421",
     "status": "completed"
    },
    "tags": []
   },
   "outputs": [
    {
     "name": "stdout",
     "output_type": "stream",
     "text": [
      "Loading SIAB data from cache: data/siab_cached.csv.gz\n"
     ]
    },
    {
     "name": "stdout",
     "output_type": "stream",
     "text": [
      "(643690, 164)\n"
     ]
    }
   ],
   "source": [
    "from pathlib import Path\n",
    "import pandas as pd\n",
    "\n",
    "# File paths\n",
    "raw_file = Path(\"data/raw/siab.csv\")\n",
    "cache_file = Path(\"data/siab_cached.csv.gz\")\n",
    "\n",
    "# Ensure cache directory exists\n",
    "cache_file.parent.mkdir(parents=True, exist_ok=True)\n",
    "\n",
    "# Load with simple caching\n",
    "if cache_file.exists():\n",
    "    print(f\"Loading SIAB data from cache: {cache_file}\")\n",
    "    siab = pd.read_csv(cache_file, compression='gzip')\n",
    "else:\n",
    "    print(f\"Cache not found. Reading raw SIAB data: {raw_file}\")\n",
    "    siab = pd.read_csv(raw_file)\n",
    "    siab.to_csv(cache_file, index=False, compression='gzip')\n",
    "    print(f\"Cached SIAB data to: {cache_file}\")\n",
    "\n",
    "# Now use `siab` DataFrame as needed\n",
    "print(siab.shape)"
   ]
  },
  {
   "cell_type": "code",
   "execution_count": 10,
   "id": "db0ca512-5f53-4dba-abdb-a2888bca41ba",
   "metadata": {
    "execution": {
     "iopub.execute_input": "2025-07-30T12:53:43.387083Z",
     "iopub.status.busy": "2025-07-30T12:53:43.386389Z",
     "iopub.status.idle": "2025-07-30T12:53:43.392149Z",
     "shell.execute_reply": "2025-07-30T12:53:43.391193Z"
    },
    "papermill": {
     "duration": 0.029507,
     "end_time": "2025-07-30T12:53:43.393733",
     "exception": false,
     "start_time": "2025-07-30T12:53:43.364226",
     "status": "completed"
    },
    "tags": []
   },
   "outputs": [],
   "source": [
    "#siab"
   ]
  },
  {
   "cell_type": "code",
   "execution_count": 11,
   "id": "a0edb063",
   "metadata": {
    "execution": {
     "iopub.execute_input": "2025-07-30T12:53:43.436179Z",
     "iopub.status.busy": "2025-07-30T12:53:43.435492Z",
     "iopub.status.idle": "2025-07-30T12:53:43.440775Z",
     "shell.execute_reply": "2025-07-30T12:53:43.439847Z"
    },
    "papermill": {
     "duration": 0.027781,
     "end_time": "2025-07-30T12:53:43.442408",
     "exception": false,
     "start_time": "2025-07-30T12:53:43.414627",
     "status": "completed"
    },
    "tags": []
   },
   "outputs": [],
   "source": [
    "#import pandas as pd\n",
    "#\n",
    "#X_train = pd.read_csv(\"./data/X_train.csv\")\n",
    "#y_train = pd.read_csv(\"./data/y_train.csv\")"
   ]
  },
  {
   "cell_type": "code",
   "execution_count": 12,
   "id": "63d08085",
   "metadata": {
    "execution": {
     "iopub.execute_input": "2025-07-30T12:53:43.485136Z",
     "iopub.status.busy": "2025-07-30T12:53:43.484503Z",
     "iopub.status.idle": "2025-07-30T12:53:43.489430Z",
     "shell.execute_reply": "2025-07-30T12:53:43.488513Z"
    },
    "papermill": {
     "duration": 0.027167,
     "end_time": "2025-07-30T12:53:43.490830",
     "exception": false,
     "start_time": "2025-07-30T12:53:43.463663",
     "status": "completed"
    },
    "tags": []
   },
   "outputs": [],
   "source": [
    "#X_test = pd.read_csv(\"./data/X_test.csv\")\n",
    "#y_true = pd.read_csv(\"./data/y_test.csv\")"
   ]
  },
  {
   "cell_type": "code",
   "execution_count": 13,
   "id": "98a8d0fa-1d3d-4ed8-bb2c-281470e24add",
   "metadata": {
    "execution": {
     "iopub.execute_input": "2025-07-30T12:53:43.534765Z",
     "iopub.status.busy": "2025-07-30T12:53:43.534098Z",
     "iopub.status.idle": "2025-07-30T12:53:43.539297Z",
     "shell.execute_reply": "2025-07-30T12:53:43.538335Z"
    },
    "papermill": {
     "duration": 0.028448,
     "end_time": "2025-07-30T12:53:43.540990",
     "exception": false,
     "start_time": "2025-07-30T12:53:43.512542",
     "status": "completed"
    },
    "tags": []
   },
   "outputs": [],
   "source": [
    "# Calibration data for conformal\n",
    "#X_calib = pd.read_csv(\"./data/X_calib.csv\")\n",
    "#y_calib = pd.read_csv(\"./data/y_calib.csv\")"
   ]
  },
  {
   "cell_type": "markdown",
   "id": "997051c5-15bd-4b69-9786-c3001a3ce484",
   "metadata": {
    "papermill": {
     "duration": 0.020478,
     "end_time": "2025-07-30T12:53:43.581905",
     "exception": false,
     "start_time": "2025-07-30T12:53:43.561427",
     "status": "completed"
    },
    "tags": []
   },
   "source": [
    "# Splitting Data and Setting Training Data Size"
   ]
  },
  {
   "cell_type": "code",
   "execution_count": 14,
   "id": "e993b61f-042d-41a6-8c81-f55681f86335",
   "metadata": {
    "execution": {
     "iopub.execute_input": "2025-07-30T12:53:43.624575Z",
     "iopub.status.busy": "2025-07-30T12:53:43.623873Z",
     "iopub.status.idle": "2025-07-30T12:53:43.637482Z",
     "shell.execute_reply": "2025-07-30T12:53:43.636513Z"
    },
    "papermill": {
     "duration": 0.036556,
     "end_time": "2025-07-30T12:53:43.639132",
     "exception": false,
     "start_time": "2025-07-30T12:53:43.602576",
     "status": "completed"
    },
    "tags": []
   },
   "outputs": [],
   "source": [
    "def sample_by_year_size(df,\n",
    "                        training_year: str,\n",
    "                        training_size: str,\n",
    "                        random_state: int = 42):\n",
    "    # --- parse training_year into a list of int years ---\n",
    "    if \"_\" in training_year:\n",
    "        start_str, end_str = training_year.split(\"_\", 1)\n",
    "        start = int(start_str)\n",
    "        end   = int(end_str) if len(end_str) == 4 else (int(end_str) + (start // 100)*100)\n",
    "        years = list(range(start, end + 1))\n",
    "    else:\n",
    "        years = [int(training_year)]\n",
    "\n",
    "    df = df[df[\"year\"].isin(years)].reset_index(drop=True)\n",
    "\n",
    "    # --- map training_size to total number of samples ---\n",
    "    total_map = {\"25k\": 25_000, \"5k\": 5_000, \"1k\": 1_000}\n",
    "    if training_size not in total_map:\n",
    "        return df  # e.g. \"all\"\n",
    "\n",
    "    total_samples = total_map[training_size]\n",
    "    n_years       = len(years)\n",
    "    base          = total_samples // n_years\n",
    "    remainder     = total_samples % n_years\n",
    "\n",
    "    # --- build a dict: year -> how many to sample ---\n",
    "    # give +1 to the first `remainder` years in ascending order\n",
    "    quotas = {\n",
    "        year: base + (1 if idx < remainder else 0)\n",
    "        for idx, year in enumerate(sorted(years))\n",
    "    }\n",
    "\n",
    "    # --- sample per‐year according to the quota dict ---\n",
    "    sampled = (\n",
    "        df\n",
    "        .groupby(\"year\", group_keys=False)\n",
    "        .apply(lambda grp: grp.sample(\n",
    "            n=min(len(grp), quotas[grp.name]),\n",
    "            random_state=random_state))\n",
    "        .reset_index(drop=True)\n",
    "    )\n",
    "\n",
    "    return sampled"
   ]
  },
  {
   "cell_type": "code",
   "execution_count": 15,
   "id": "c0ccd338-0e02-41f3-a09d-f56f9266e3fb",
   "metadata": {
    "execution": {
     "iopub.execute_input": "2025-07-30T12:53:43.683052Z",
     "iopub.status.busy": "2025-07-30T12:53:43.682418Z",
     "iopub.status.idle": "2025-07-30T12:53:43.693261Z",
     "shell.execute_reply": "2025-07-30T12:53:43.692377Z"
    },
    "papermill": {
     "duration": 0.033685,
     "end_time": "2025-07-30T12:53:43.694850",
     "exception": false,
     "start_time": "2025-07-30T12:53:43.661165",
     "status": "completed"
    },
    "tags": []
   },
   "outputs": [
    {
     "data": {
      "text/plain": [
       "'25k'"
      ]
     },
     "execution_count": 15,
     "metadata": {},
     "output_type": "execute_result"
    }
   ],
   "source": [
    "universe[\"training_size\"]"
   ]
  },
  {
   "cell_type": "code",
   "execution_count": 16,
   "id": "ca707fd7-8047-4acd-bfa5-66248fbbf8e6",
   "metadata": {
    "execution": {
     "iopub.execute_input": "2025-07-30T12:53:43.743394Z",
     "iopub.status.busy": "2025-07-30T12:53:43.742732Z",
     "iopub.status.idle": "2025-07-30T12:53:43.749978Z",
     "shell.execute_reply": "2025-07-30T12:53:43.748983Z"
    },
    "papermill": {
     "duration": 0.03358,
     "end_time": "2025-07-30T12:53:43.751920",
     "exception": false,
     "start_time": "2025-07-30T12:53:43.718340",
     "status": "completed"
    },
    "tags": []
   },
   "outputs": [
    {
     "data": {
      "text/plain": [
       "'2014'"
      ]
     },
     "execution_count": 16,
     "metadata": {},
     "output_type": "execute_result"
    }
   ],
   "source": [
    "universe[\"training_year\"]"
   ]
  },
  {
   "cell_type": "code",
   "execution_count": 17,
   "id": "aea9c6ef-6f46-42c8-85eb-5a62025c1508",
   "metadata": {
    "execution": {
     "iopub.execute_input": "2025-07-30T12:53:43.793748Z",
     "iopub.status.busy": "2025-07-30T12:53:43.793204Z",
     "iopub.status.idle": "2025-07-30T12:53:44.085268Z",
     "shell.execute_reply": "2025-07-30T12:53:44.084161Z"
    },
    "papermill": {
     "duration": 0.312223,
     "end_time": "2025-07-30T12:53:44.087207",
     "exception": false,
     "start_time": "2025-07-30T12:53:43.774984",
     "status": "completed"
    },
    "tags": []
   },
   "outputs": [],
   "source": [
    "siab_train = sample_by_year_size(siab,\n",
    "                               training_year=universe[\"training_year\"],\n",
    "                               training_size=universe[\"training_size\"])"
   ]
  },
  {
   "cell_type": "code",
   "execution_count": 18,
   "id": "8d3afb32-789d-442c-8d5d-9f5aa8dd2eed",
   "metadata": {
    "execution": {
     "iopub.execute_input": "2025-07-30T12:53:44.132205Z",
     "iopub.status.busy": "2025-07-30T12:53:44.131528Z",
     "iopub.status.idle": "2025-07-30T12:53:44.138831Z",
     "shell.execute_reply": "2025-07-30T12:53:44.137821Z"
    },
    "papermill": {
     "duration": 0.031654,
     "end_time": "2025-07-30T12:53:44.140476",
     "exception": false,
     "start_time": "2025-07-30T12:53:44.108822",
     "status": "completed"
    },
    "tags": []
   },
   "outputs": [
    {
     "data": {
      "text/plain": [
       "(25000, 164)"
      ]
     },
     "execution_count": 18,
     "metadata": {},
     "output_type": "execute_result"
    }
   ],
   "source": [
    "siab_train.shape"
   ]
  },
  {
   "cell_type": "code",
   "execution_count": 19,
   "id": "d582db68-1a4c-47fb-84fc-08518dc1975a",
   "metadata": {
    "execution": {
     "iopub.execute_input": "2025-07-30T12:53:44.186677Z",
     "iopub.status.busy": "2025-07-30T12:53:44.185816Z",
     "iopub.status.idle": "2025-07-30T12:53:44.196024Z",
     "shell.execute_reply": "2025-07-30T12:53:44.194910Z"
    },
    "papermill": {
     "duration": 0.035067,
     "end_time": "2025-07-30T12:53:44.197886",
     "exception": false,
     "start_time": "2025-07-30T12:53:44.162819",
     "status": "completed"
    },
    "tags": []
   },
   "outputs": [
    {
     "data": {
      "text/plain": [
       "year\n",
       "2014    25000\n",
       "dtype: int64"
      ]
     },
     "metadata": {},
     "output_type": "display_data"
    }
   ],
   "source": [
    "display(siab_train.groupby(\"year\").size())"
   ]
  },
  {
   "cell_type": "code",
   "execution_count": 20,
   "id": "a561edb4-d032-42cb-8256-22eac1111c64",
   "metadata": {
    "execution": {
     "iopub.execute_input": "2025-07-30T12:53:44.243390Z",
     "iopub.status.busy": "2025-07-30T12:53:44.242455Z",
     "iopub.status.idle": "2025-07-30T12:53:44.489034Z",
     "shell.execute_reply": "2025-07-30T12:53:44.488082Z"
    },
    "papermill": {
     "duration": 0.270631,
     "end_time": "2025-07-30T12:53:44.490865",
     "exception": false,
     "start_time": "2025-07-30T12:53:44.220234",
     "status": "completed"
    },
    "tags": []
   },
   "outputs": [],
   "source": [
    "#siab_train = siab_s[siab_s.year < 2015]\n",
    "siab_calib = siab[siab.year == 2015]\n",
    "siab_test = siab[siab.year == 2016]"
   ]
  },
  {
   "cell_type": "code",
   "execution_count": 21,
   "id": "472de16f-c3db-4916-846b-1f0de9cf1746",
   "metadata": {
    "execution": {
     "iopub.execute_input": "2025-07-30T12:53:44.537743Z",
     "iopub.status.busy": "2025-07-30T12:53:44.537013Z",
     "iopub.status.idle": "2025-07-30T12:53:44.552276Z",
     "shell.execute_reply": "2025-07-30T12:53:44.551098Z"
    },
    "papermill": {
     "duration": 0.040842,
     "end_time": "2025-07-30T12:53:44.554391",
     "exception": false,
     "start_time": "2025-07-30T12:53:44.513549",
     "status": "completed"
    },
    "tags": []
   },
   "outputs": [],
   "source": [
    "X_train = siab_train.iloc[:,4:164]\n",
    "y_train = siab_train.iloc[:, [3]]"
   ]
  },
  {
   "cell_type": "code",
   "execution_count": 22,
   "id": "828c96af-f43a-4ed6-ba47-8ac73a47d56c",
   "metadata": {
    "execution": {
     "iopub.execute_input": "2025-07-30T12:53:44.600987Z",
     "iopub.status.busy": "2025-07-30T12:53:44.600003Z",
     "iopub.status.idle": "2025-07-30T12:53:44.657102Z",
     "shell.execute_reply": "2025-07-30T12:53:44.655924Z"
    },
    "papermill": {
     "duration": 0.082568,
     "end_time": "2025-07-30T12:53:44.659101",
     "exception": false,
     "start_time": "2025-07-30T12:53:44.576533",
     "status": "completed"
    },
    "tags": []
   },
   "outputs": [],
   "source": [
    "X_calib = siab_calib.iloc[:,4:164]\n",
    "y_calib = siab_calib.iloc[:, [3]]"
   ]
  },
  {
   "cell_type": "code",
   "execution_count": 23,
   "id": "c34be9c3-6bd6-476e-acd3-845840e303be",
   "metadata": {
    "execution": {
     "iopub.execute_input": "2025-07-30T12:53:44.705345Z",
     "iopub.status.busy": "2025-07-30T12:53:44.704553Z",
     "iopub.status.idle": "2025-07-30T12:53:44.752144Z",
     "shell.execute_reply": "2025-07-30T12:53:44.751237Z"
    },
    "papermill": {
     "duration": 0.0722,
     "end_time": "2025-07-30T12:53:44.753978",
     "exception": false,
     "start_time": "2025-07-30T12:53:44.681778",
     "status": "completed"
    },
    "tags": []
   },
   "outputs": [],
   "source": [
    "X_test = siab_test.iloc[:,4:164]\n",
    "y_true = siab_test.iloc[:, [3]]"
   ]
  },
  {
   "cell_type": "markdown",
   "id": "9901737e-04df-44f0-9100-f5ad144ed040",
   "metadata": {
    "papermill": {
     "duration": 0.011258,
     "end_time": "2025-07-30T12:53:44.804091",
     "exception": false,
     "start_time": "2025-07-30T12:53:44.792833",
     "status": "completed"
    },
    "tags": []
   },
   "source": [
    "# Splitting Data and Setting Training Data Size OLD VERSION"
   ]
  },
  {
   "cell_type": "code",
   "execution_count": 24,
   "id": "acbc8f7d-8fc8-4e86-8c59-5dcb0f58384b",
   "metadata": {
    "execution": {
     "iopub.execute_input": "2025-07-30T12:53:44.829447Z",
     "iopub.status.busy": "2025-07-30T12:53:44.829079Z",
     "iopub.status.idle": "2025-07-30T12:53:44.833585Z",
     "shell.execute_reply": "2025-07-30T12:53:44.832899Z"
    },
    "papermill": {
     "duration": 0.0182,
     "end_time": "2025-07-30T12:53:44.834947",
     "exception": false,
     "start_time": "2025-07-30T12:53:44.816747",
     "status": "completed"
    },
    "tags": []
   },
   "outputs": [],
   "source": [
    "#def sample_by_year(df, training_size, random_state=42):\n",
    "#    if training_size == \"2014\":\n",
    "#        return df[df[\"year\"] == 2014].reset_index(drop=True)\n",
    "#    \n",
    "#    size_map = {\n",
    "#        \"25k\": 5000,\n",
    "#        \"5k\": 1000,\n",
    "#        \"1k\": 200\n",
    "#    }\n",
    "#\n",
    "#    if training_size not in size_map:\n",
    "#        return df.reset_index(drop=True)  # use all data\n",
    "#\n",
    "#    n_per_year = size_map[training_size]\n",
    "#    grouped = df.groupby(\"year\")\n",
    "#    sampled = grouped.apply(lambda x: x.sample(n=min(n_per_year, len(x)), random_state=random_state))\n",
    "#    return sampled.reset_index(drop=True)"
   ]
  },
  {
   "cell_type": "code",
   "execution_count": 25,
   "id": "6d931f52-beaf-43ff-9e78-9d44a448d54e",
   "metadata": {
    "execution": {
     "iopub.execute_input": "2025-07-30T12:53:44.868213Z",
     "iopub.status.busy": "2025-07-30T12:53:44.867833Z",
     "iopub.status.idle": "2025-07-30T12:53:44.872182Z",
     "shell.execute_reply": "2025-07-30T12:53:44.871453Z"
    },
    "papermill": {
     "duration": 0.02242,
     "end_time": "2025-07-30T12:53:44.873550",
     "exception": false,
     "start_time": "2025-07-30T12:53:44.851130",
     "status": "completed"
    },
    "tags": []
   },
   "outputs": [],
   "source": [
    "#siab_s = sample_by_year(siab, universe[\"training_size\"])"
   ]
  },
  {
   "cell_type": "code",
   "execution_count": 26,
   "id": "5db0a40e-a4e2-4920-be85-b12ae061d70d",
   "metadata": {
    "execution": {
     "iopub.execute_input": "2025-07-30T12:53:44.898270Z",
     "iopub.status.busy": "2025-07-30T12:53:44.897924Z",
     "iopub.status.idle": "2025-07-30T12:53:44.902645Z",
     "shell.execute_reply": "2025-07-30T12:53:44.901932Z"
    },
    "papermill": {
     "duration": 0.01826,
     "end_time": "2025-07-30T12:53:44.904008",
     "exception": false,
     "start_time": "2025-07-30T12:53:44.885748",
     "status": "completed"
    },
    "tags": []
   },
   "outputs": [],
   "source": [
    "#display(siab_s.groupby(\"year\").size())"
   ]
  },
  {
   "cell_type": "code",
   "execution_count": 27,
   "id": "e6c733c5",
   "metadata": {
    "execution": {
     "iopub.execute_input": "2025-07-30T12:53:44.929038Z",
     "iopub.status.busy": "2025-07-30T12:53:44.928534Z",
     "iopub.status.idle": "2025-07-30T12:53:45.025582Z",
     "shell.execute_reply": "2025-07-30T12:53:45.024827Z"
    },
    "papermill": {
     "duration": 0.110763,
     "end_time": "2025-07-30T12:53:45.027044",
     "exception": false,
     "start_time": "2025-07-30T12:53:44.916281",
     "status": "completed"
    },
    "tags": []
   },
   "outputs": [],
   "source": [
    "# Auxiliary data needed downstream in the pipeline\n",
    "\n",
    "org_train = X_train.copy()\n",
    "org_test = X_test.copy()\n",
    "org_calib = X_calib.copy()"
   ]
  },
  {
   "cell_type": "code",
   "execution_count": 28,
   "id": "1466abac-c6da-4492-a62f-4240ae3783af",
   "metadata": {
    "execution": {
     "iopub.execute_input": "2025-07-30T12:53:45.064190Z",
     "iopub.status.busy": "2025-07-30T12:53:45.063737Z",
     "iopub.status.idle": "2025-07-30T12:53:45.068735Z",
     "shell.execute_reply": "2025-07-30T12:53:45.067841Z"
    },
    "papermill": {
     "duration": 0.030861,
     "end_time": "2025-07-30T12:53:45.070031",
     "exception": false,
     "start_time": "2025-07-30T12:53:45.039170",
     "status": "completed"
    },
    "tags": []
   },
   "outputs": [],
   "source": [
    "# put in other script?\n",
    "# Group sizes\n",
    "\n",
    "#def calculate_percentages(df, df_name):\n",
    "#    total_entries = len(df)\n",
    "#\n",
    "#    female_pct = (df['frau1'] == 1).mean() * 100\n",
    "#    non_german_pct = ((df['maxdeutsch1'] == 0) & (df['maxdeutsch.Missing.'] == 0)).mean() * 100\n",
    "#    non_german_male_pct = ((df['frau1'] == 0) & (df['maxdeutsch1'] == 0) & (df['maxdeutsch.Missing.'] == 0)).mean() * 100\n",
    "#    non_german_female_pct = ((df['frau1'] == 1) & (df['maxdeutsch1'] == 0) & (df['maxdeutsch.Missing.'] == 0)).mean() * 100\n",
    "#\n",
    "#    print(f\"--- {df_name} ---\")\n",
    "#    print(f\"Female: {female_pct:.2f}%\")\n",
    "#    print(f\"Non-German: {non_german_pct:.2f}%\")\n",
    "#    print(f\"Non-German Male: {non_german_male_pct:.2f}%\")\n",
    "#    print(f\"Non-German Female: {non_german_female_pct:.2f}%\\n\")\n",
    "#\n",
    "## Calculate for each DataFrame\n",
    "#calculate_percentages(siab_calib, \"siab_calib\")\n",
    "#calculate_percentages(siab_test, \"siab_test\")\n",
    "#calculate_percentages(siab_train, \"siab_train\")"
   ]
  },
  {
   "cell_type": "markdown",
   "id": "0a4a1b33",
   "metadata": {
    "papermill": {
     "duration": 0.023603,
     "end_time": "2025-07-30T12:53:45.114439",
     "exception": false,
     "start_time": "2025-07-30T12:53:45.090836",
     "status": "completed"
    },
    "tags": []
   },
   "source": [
    "# Preprocessing Data"
   ]
  },
  {
   "cell_type": "code",
   "execution_count": 29,
   "id": "ca879031",
   "metadata": {
    "execution": {
     "iopub.execute_input": "2025-07-30T12:53:45.162915Z",
     "iopub.status.busy": "2025-07-30T12:53:45.162568Z",
     "iopub.status.idle": "2025-07-30T12:53:45.167762Z",
     "shell.execute_reply": "2025-07-30T12:53:45.167105Z"
    },
    "papermill": {
     "duration": 0.030985,
     "end_time": "2025-07-30T12:53:45.169174",
     "exception": false,
     "start_time": "2025-07-30T12:53:45.138189",
     "status": "completed"
    },
    "tags": []
   },
   "outputs": [],
   "source": [
    "# EXCLUDE PROTECTED FEATURES\n",
    "# ----------------------\n",
    "# \"exclude_features\": \"none\", # \"nationality\", \"sex\", \"nationality-sex\"\n",
    "\n",
    "excluded_features = universe[\"exclude_features\"].split(\"-\") # split, e.g.: \"nationality-sex\" -> [\"nationality\", \"sex\"]\n",
    "excluded_features_dictionary = {\n",
    "    \"nationality\": [\"maxdeutsch1\", \"maxdeutsch.Missing.\"],\n",
    "    \"sex\": [\"frau1\"],\n",
    "    \"age\": [\"age\"],\n",
    "}\n"
   ]
  },
  {
   "cell_type": "code",
   "execution_count": 30,
   "id": "b745ac60",
   "metadata": {
    "execution": {
     "iopub.execute_input": "2025-07-30T12:53:45.195119Z",
     "iopub.status.busy": "2025-07-30T12:53:45.194555Z",
     "iopub.status.idle": "2025-07-30T12:53:45.199601Z",
     "shell.execute_reply": "2025-07-30T12:53:45.198804Z"
    },
    "papermill": {
     "duration": 0.019301,
     "end_time": "2025-07-30T12:53:45.201040",
     "exception": false,
     "start_time": "2025-07-30T12:53:45.181739",
     "status": "completed"
    },
    "tags": []
   },
   "outputs": [],
   "source": [
    "# Code nice names to column names\n",
    "\n",
    "excluded_features_columns = [\n",
    "    excluded_features_dictionary[f] for f in excluded_features if len(f) > 0 and f != \"none\"\n",
    "]"
   ]
  },
  {
   "cell_type": "code",
   "execution_count": 31,
   "id": "f84f73a2",
   "metadata": {
    "execution": {
     "iopub.execute_input": "2025-07-30T12:53:45.226911Z",
     "iopub.status.busy": "2025-07-30T12:53:45.226557Z",
     "iopub.status.idle": "2025-07-30T12:53:45.232505Z",
     "shell.execute_reply": "2025-07-30T12:53:45.231677Z"
    },
    "papermill": {
     "duration": 0.019886,
     "end_time": "2025-07-30T12:53:45.233818",
     "exception": false,
     "start_time": "2025-07-30T12:53:45.213932",
     "status": "completed"
    },
    "tags": []
   },
   "outputs": [],
   "source": [
    "from utils import flatten_once\n",
    "\n",
    "excluded_features_columns = flatten_once(excluded_features_columns)"
   ]
  },
  {
   "cell_type": "code",
   "execution_count": 32,
   "id": "884dea22",
   "metadata": {
    "execution": {
     "iopub.execute_input": "2025-07-30T12:53:45.259808Z",
     "iopub.status.busy": "2025-07-30T12:53:45.259302Z",
     "iopub.status.idle": "2025-07-30T12:53:45.273435Z",
     "shell.execute_reply": "2025-07-30T12:53:45.272436Z"
    },
    "papermill": {
     "duration": 0.028315,
     "end_time": "2025-07-30T12:53:45.274702",
     "exception": false,
     "start_time": "2025-07-30T12:53:45.246387",
     "status": "completed"
    },
    "tags": []
   },
   "outputs": [
    {
     "name": "stdout",
     "output_type": "stream",
     "text": [
      "Dropping features: ['age']\n"
     ]
    }
   ],
   "source": [
    "if len(excluded_features_columns) > 0:\n",
    "    print(f\"Dropping features: {excluded_features_columns}\")\n",
    "    X_train.drop(excluded_features_columns, axis=1, inplace=True)"
   ]
  },
  {
   "cell_type": "code",
   "execution_count": 33,
   "id": "95ab8b16",
   "metadata": {
    "execution": {
     "iopub.execute_input": "2025-07-30T12:53:45.308131Z",
     "iopub.status.busy": "2025-07-30T12:53:45.307749Z",
     "iopub.status.idle": "2025-07-30T12:53:45.357702Z",
     "shell.execute_reply": "2025-07-30T12:53:45.356970Z"
    },
    "papermill": {
     "duration": 0.064545,
     "end_time": "2025-07-30T12:53:45.359374",
     "exception": false,
     "start_time": "2025-07-30T12:53:45.294829",
     "status": "completed"
    },
    "tags": []
   },
   "outputs": [
    {
     "name": "stdout",
     "output_type": "stream",
     "text": [
      "Dropping features: ['age']\n"
     ]
    }
   ],
   "source": [
    "if len(excluded_features_columns) > 0:\n",
    "    print(f\"Dropping features: {excluded_features_columns}\")\n",
    "    X_test.drop(excluded_features_columns, axis=1, inplace=True)"
   ]
  },
  {
   "cell_type": "code",
   "execution_count": 34,
   "id": "1853aaf5-fb9f-46cb-a2b5-8ea4ae2237e4",
   "metadata": {
    "execution": {
     "iopub.execute_input": "2025-07-30T12:53:45.386027Z",
     "iopub.status.busy": "2025-07-30T12:53:45.385485Z",
     "iopub.status.idle": "2025-07-30T12:53:45.432930Z",
     "shell.execute_reply": "2025-07-30T12:53:45.431928Z"
    },
    "papermill": {
     "duration": 0.062476,
     "end_time": "2025-07-30T12:53:45.434772",
     "exception": false,
     "start_time": "2025-07-30T12:53:45.372296",
     "status": "completed"
    },
    "tags": []
   },
   "outputs": [
    {
     "name": "stdout",
     "output_type": "stream",
     "text": [
      "Dropping features: ['age']\n"
     ]
    }
   ],
   "source": [
    "if len(excluded_features_columns) > 0:\n",
    "    print(f\"Dropping features: {excluded_features_columns}\")\n",
    "    X_calib.drop(excluded_features_columns, axis=1, inplace=True)"
   ]
  },
  {
   "cell_type": "code",
   "execution_count": 35,
   "id": "6727d079-03e5-481e-9d38-292a90b7a0a8",
   "metadata": {
    "execution": {
     "iopub.execute_input": "2025-07-30T12:53:45.461053Z",
     "iopub.status.busy": "2025-07-30T12:53:45.460551Z",
     "iopub.status.idle": "2025-07-30T12:53:45.465976Z",
     "shell.execute_reply": "2025-07-30T12:53:45.465092Z"
    },
    "papermill": {
     "duration": 0.020138,
     "end_time": "2025-07-30T12:53:45.467744",
     "exception": false,
     "start_time": "2025-07-30T12:53:45.447606",
     "status": "completed"
    },
    "tags": []
   },
   "outputs": [],
   "source": [
    "# SPLIT & STRATIFY DATA\n",
    "# ----------------------"
   ]
  },
  {
   "cell_type": "code",
   "execution_count": 36,
   "id": "76c4dc6d",
   "metadata": {
    "execution": {
     "iopub.execute_input": "2025-07-30T12:53:45.519048Z",
     "iopub.status.busy": "2025-07-30T12:53:45.518391Z",
     "iopub.status.idle": "2025-07-30T12:53:45.523936Z",
     "shell.execute_reply": "2025-07-30T12:53:45.522821Z"
    },
    "papermill": {
     "duration": 0.032612,
     "end_time": "2025-07-30T12:53:45.525579",
     "exception": false,
     "start_time": "2025-07-30T12:53:45.492967",
     "status": "completed"
    },
    "tags": []
   },
   "outputs": [],
   "source": [
    "# EXCLUDE CERTAIN SUBGROUPS\n",
    "# ----------------------\n",
    "\n",
    "mode = universe.get(\"exclude_subgroups\", \"keep-all\") \n",
    "# Fetches the exclude_subgroups setting from the universe dict.\n",
    "# Defaults to \"keep-all\" if the key is missing."
   ]
  },
  {
   "cell_type": "code",
   "execution_count": 37,
   "id": "21994072",
   "metadata": {
    "execution": {
     "iopub.execute_input": "2025-07-30T12:53:45.629781Z",
     "iopub.status.busy": "2025-07-30T12:53:45.629405Z",
     "iopub.status.idle": "2025-07-30T12:53:45.634886Z",
     "shell.execute_reply": "2025-07-30T12:53:45.634050Z"
    },
    "papermill": {
     "duration": 0.086156,
     "end_time": "2025-07-30T12:53:45.636712",
     "exception": false,
     "start_time": "2025-07-30T12:53:45.550556",
     "status": "completed"
    },
    "tags": []
   },
   "outputs": [],
   "source": [
    "if mode == \"keep-all\":\n",
    "    keep_mask = pd.Series(True, index=org_train.index)\n",
    "\n",
    "# org_train contains the original feature columns from features_org (in Simson)\n",
    "# features_org contains unprocessed features, for me X_train at beginning ???\n",
    "# For keep-all, creates a boolean Series (keep_mask) of all True, so no rows are removed.\n",
    "\n",
    "elif mode == \"drop-non-german\":\n",
    "    keep_mask = org_train[\"maxdeutsch1\"] == 1 # ??? what about missing values?\n",
    "\n",
    "else:\n",
    "    raise ValueError(f\"Unsupported mode for exclude_subgroups: {mode}\")\n"
   ]
  },
  {
   "cell_type": "code",
   "execution_count": 38,
   "id": "71651440",
   "metadata": {
    "execution": {
     "iopub.execute_input": "2025-07-30T12:53:45.663624Z",
     "iopub.status.busy": "2025-07-30T12:53:45.663278Z",
     "iopub.status.idle": "2025-07-30T12:53:45.668869Z",
     "shell.execute_reply": "2025-07-30T12:53:45.668114Z"
    },
    "papermill": {
     "duration": 0.02022,
     "end_time": "2025-07-30T12:53:45.670196",
     "exception": false,
     "start_time": "2025-07-30T12:53:45.649976",
     "status": "completed"
    },
    "tags": []
   },
   "outputs": [],
   "source": [
    "n_drop = (~keep_mask).sum() # Calculates how many rows are set to be dropped\n",
    "if n_drop > 0:\n",
    "    pct = n_drop / len(keep_mask) * 100\n",
    "    print(f\"Dropping {n_drop} rows ({pct:.2f}%) where mode='{mode}'\")"
   ]
  },
  {
   "cell_type": "code",
   "execution_count": 39,
   "id": "5fb8eee5",
   "metadata": {
    "execution": {
     "iopub.execute_input": "2025-07-30T12:53:45.697498Z",
     "iopub.status.busy": "2025-07-30T12:53:45.696974Z",
     "iopub.status.idle": "2025-07-30T12:53:45.710597Z",
     "shell.execute_reply": "2025-07-30T12:53:45.709813Z"
    },
    "papermill": {
     "duration": 0.028536,
     "end_time": "2025-07-30T12:53:45.712111",
     "exception": false,
     "start_time": "2025-07-30T12:53:45.683575",
     "status": "completed"
    },
    "tags": []
   },
   "outputs": [],
   "source": [
    "X_train = X_train[keep_mask]"
   ]
  },
  {
   "cell_type": "code",
   "execution_count": 40,
   "id": "b202bb3a",
   "metadata": {
    "execution": {
     "iopub.execute_input": "2025-07-30T12:53:45.740984Z",
     "iopub.status.busy": "2025-07-30T12:53:45.740522Z",
     "iopub.status.idle": "2025-07-30T12:53:45.746735Z",
     "shell.execute_reply": "2025-07-30T12:53:45.745808Z"
    },
    "papermill": {
     "duration": 0.023338,
     "end_time": "2025-07-30T12:53:45.748737",
     "exception": false,
     "start_time": "2025-07-30T12:53:45.725399",
     "status": "completed"
    },
    "tags": []
   },
   "outputs": [],
   "source": [
    "y_train = y_train[keep_mask]"
   ]
  },
  {
   "cell_type": "markdown",
   "id": "493e2ac3",
   "metadata": {
    "papermill": {
     "duration": 0.015932,
     "end_time": "2025-07-30T12:53:45.790897",
     "exception": false,
     "start_time": "2025-07-30T12:53:45.774965",
     "status": "completed"
    },
    "tags": []
   },
   "source": [
    "# Model Training"
   ]
  },
  {
   "cell_type": "code",
   "execution_count": 41,
   "id": "679e1268",
   "metadata": {
    "execution": {
     "iopub.execute_input": "2025-07-30T12:53:45.817077Z",
     "iopub.status.busy": "2025-07-30T12:53:45.816651Z",
     "iopub.status.idle": "2025-07-30T12:53:45.892788Z",
     "shell.execute_reply": "2025-07-30T12:53:45.891960Z"
    },
    "papermill": {
     "duration": 0.091114,
     "end_time": "2025-07-30T12:53:45.894260",
     "exception": false,
     "start_time": "2025-07-30T12:53:45.803146",
     "status": "completed"
    },
    "tags": []
   },
   "outputs": [],
   "source": [
    "from sklearn.linear_model import LogisticRegression\n",
    "from sklearn.ensemble import GradientBoostingClassifier, RandomForestClassifier\n",
    "\n",
    "if (universe[\"model\"] == \"logreg\"):\n",
    "    model = LogisticRegression() #penalty=\"none\") #, solver=\"newton-cg\", max_iter=1) # include random_state=19 ?\n",
    "elif (universe[\"model\"] == \"penalized_logreg\"):\n",
    "    model = LogisticRegression(penalty=\"l2\", C=1.0) #, solver=\"newton-cg\", max_iter=1)\n",
    "elif (universe[\"model\"] == \"rf\"):\n",
    "    model = RandomForestClassifier(n_estimators=100, n_jobs=-1)\n",
    "elif (universe[\"model\"] == \"gbm\"):\n",
    "    model = GradientBoostingClassifier()\n",
    "elif (universe[\"model\"] == \"elasticnet\"):\n",
    "    model = LogisticRegression(penalty = 'elasticnet', solver = 'saga', l1_ratio = 0.5, max_iter=5000) # which solver to use?\n",
    "else:\n",
    "    raise \"Unsupported universe.model\""
   ]
  },
  {
   "cell_type": "code",
   "execution_count": 42,
   "id": "0cc8f744",
   "metadata": {
    "execution": {
     "iopub.execute_input": "2025-07-30T12:53:45.920912Z",
     "iopub.status.busy": "2025-07-30T12:53:45.920474Z",
     "iopub.status.idle": "2025-07-30T12:53:45.927057Z",
     "shell.execute_reply": "2025-07-30T12:53:45.926308Z"
    },
    "papermill": {
     "duration": 0.021763,
     "end_time": "2025-07-30T12:53:45.928704",
     "exception": false,
     "start_time": "2025-07-30T12:53:45.906941",
     "status": "completed"
    },
    "tags": []
   },
   "outputs": [],
   "source": [
    "import numpy as np\n",
    "from sklearn.pipeline import Pipeline\n",
    "from sklearn.preprocessing import StandardScaler\n",
    "\n",
    "model = Pipeline([\n",
    "    #(\"continuous_processor\", continuous_processor),\n",
    "    #(\"categorical_preprocessor\", categorical_preprocessor),\n",
    "    (\"scale\", StandardScaler() if universe[\"scale\"] == \"scale\" else None), \n",
    "    (\"model\", model),\n",
    "])"
   ]
  },
  {
   "cell_type": "code",
   "execution_count": 43,
   "id": "9442c04d",
   "metadata": {
    "execution": {
     "iopub.execute_input": "2025-07-30T12:53:45.978211Z",
     "iopub.status.busy": "2025-07-30T12:53:45.977846Z",
     "iopub.status.idle": "2025-07-30T12:53:47.093545Z",
     "shell.execute_reply": "2025-07-30T12:53:47.092481Z"
    },
    "papermill": {
     "duration": 1.143102,
     "end_time": "2025-07-30T12:53:47.095686",
     "exception": false,
     "start_time": "2025-07-30T12:53:45.952584",
     "status": "completed"
    },
    "tags": []
   },
   "outputs": [
    {
     "name": "stderr",
     "output_type": "stream",
     "text": [
      "/dss/dsshome1/0C/ra93lal2/.local/share/virtualenvs/CMA_Fairness_v2-3j10GkSs/lib/python3.10/site-packages/sklearn/linear_model/_logistic.py:444: ConvergenceWarning: lbfgs failed to converge (status=1):\n",
      "STOP: TOTAL NO. of ITERATIONS REACHED LIMIT.\n",
      "\n",
      "Increase the number of iterations (max_iter) or scale the data as shown in:\n",
      "    https://scikit-learn.org/stable/modules/preprocessing.html\n",
      "Please also refer to the documentation for alternative solver options:\n",
      "    https://scikit-learn.org/stable/modules/linear_model.html#logistic-regression\n",
      "  n_iter_i = _check_optimize_result(\n"
     ]
    },
    {
     "data": {
      "text/html": [
       "<style>#sk-container-id-1 {color: black;background-color: white;}#sk-container-id-1 pre{padding: 0;}#sk-container-id-1 div.sk-toggleable {background-color: white;}#sk-container-id-1 label.sk-toggleable__label {cursor: pointer;display: block;width: 100%;margin-bottom: 0;padding: 0.3em;box-sizing: border-box;text-align: center;}#sk-container-id-1 label.sk-toggleable__label-arrow:before {content: \"▸\";float: left;margin-right: 0.25em;color: #696969;}#sk-container-id-1 label.sk-toggleable__label-arrow:hover:before {color: black;}#sk-container-id-1 div.sk-estimator:hover label.sk-toggleable__label-arrow:before {color: black;}#sk-container-id-1 div.sk-toggleable__content {max-height: 0;max-width: 0;overflow: hidden;text-align: left;background-color: #f0f8ff;}#sk-container-id-1 div.sk-toggleable__content pre {margin: 0.2em;color: black;border-radius: 0.25em;background-color: #f0f8ff;}#sk-container-id-1 input.sk-toggleable__control:checked~div.sk-toggleable__content {max-height: 200px;max-width: 100%;overflow: auto;}#sk-container-id-1 input.sk-toggleable__control:checked~label.sk-toggleable__label-arrow:before {content: \"▾\";}#sk-container-id-1 div.sk-estimator input.sk-toggleable__control:checked~label.sk-toggleable__label {background-color: #d4ebff;}#sk-container-id-1 div.sk-label input.sk-toggleable__control:checked~label.sk-toggleable__label {background-color: #d4ebff;}#sk-container-id-1 input.sk-hidden--visually {border: 0;clip: rect(1px 1px 1px 1px);clip: rect(1px, 1px, 1px, 1px);height: 1px;margin: -1px;overflow: hidden;padding: 0;position: absolute;width: 1px;}#sk-container-id-1 div.sk-estimator {font-family: monospace;background-color: #f0f8ff;border: 1px dotted black;border-radius: 0.25em;box-sizing: border-box;margin-bottom: 0.5em;}#sk-container-id-1 div.sk-estimator:hover {background-color: #d4ebff;}#sk-container-id-1 div.sk-parallel-item::after {content: \"\";width: 100%;border-bottom: 1px solid gray;flex-grow: 1;}#sk-container-id-1 div.sk-label:hover label.sk-toggleable__label {background-color: #d4ebff;}#sk-container-id-1 div.sk-serial::before {content: \"\";position: absolute;border-left: 1px solid gray;box-sizing: border-box;top: 0;bottom: 0;left: 50%;z-index: 0;}#sk-container-id-1 div.sk-serial {display: flex;flex-direction: column;align-items: center;background-color: white;padding-right: 0.2em;padding-left: 0.2em;position: relative;}#sk-container-id-1 div.sk-item {position: relative;z-index: 1;}#sk-container-id-1 div.sk-parallel {display: flex;align-items: stretch;justify-content: center;background-color: white;position: relative;}#sk-container-id-1 div.sk-item::before, #sk-container-id-1 div.sk-parallel-item::before {content: \"\";position: absolute;border-left: 1px solid gray;box-sizing: border-box;top: 0;bottom: 0;left: 50%;z-index: -1;}#sk-container-id-1 div.sk-parallel-item {display: flex;flex-direction: column;z-index: 1;position: relative;background-color: white;}#sk-container-id-1 div.sk-parallel-item:first-child::after {align-self: flex-end;width: 50%;}#sk-container-id-1 div.sk-parallel-item:last-child::after {align-self: flex-start;width: 50%;}#sk-container-id-1 div.sk-parallel-item:only-child::after {width: 0;}#sk-container-id-1 div.sk-dashed-wrapped {border: 1px dashed gray;margin: 0 0.4em 0.5em 0.4em;box-sizing: border-box;padding-bottom: 0.4em;background-color: white;}#sk-container-id-1 div.sk-label label {font-family: monospace;font-weight: bold;display: inline-block;line-height: 1.2em;}#sk-container-id-1 div.sk-label-container {text-align: center;}#sk-container-id-1 div.sk-container {/* jupyter's `normalize.less` sets `[hidden] { display: none; }` but bootstrap.min.css set `[hidden] { display: none !important; }` so we also need the `!important` here to be able to override the default hidden behavior on the sphinx rendered scikit-learn.org. See: https://github.com/scikit-learn/scikit-learn/issues/21755 */display: inline-block !important;position: relative;}#sk-container-id-1 div.sk-text-repr-fallback {display: none;}</style><div id=\"sk-container-id-1\" class=\"sk-top-container\"><div class=\"sk-text-repr-fallback\"><pre>Pipeline(steps=[(&#x27;scale&#x27;, None), (&#x27;model&#x27;, LogisticRegression())])</pre><b>In a Jupyter environment, please rerun this cell to show the HTML representation or trust the notebook. <br />On GitHub, the HTML representation is unable to render, please try loading this page with nbviewer.org.</b></div><div class=\"sk-container\" hidden><div class=\"sk-item sk-dashed-wrapped\"><div class=\"sk-label-container\"><div class=\"sk-label sk-toggleable\"><input class=\"sk-toggleable__control sk-hidden--visually\" id=\"sk-estimator-id-1\" type=\"checkbox\" ><label for=\"sk-estimator-id-1\" class=\"sk-toggleable__label sk-toggleable__label-arrow\">Pipeline</label><div class=\"sk-toggleable__content\"><pre>Pipeline(steps=[(&#x27;scale&#x27;, None), (&#x27;model&#x27;, LogisticRegression())])</pre></div></div></div><div class=\"sk-serial\"><div class=\"sk-item\"><div class=\"sk-estimator sk-toggleable\"><input class=\"sk-toggleable__control sk-hidden--visually\" id=\"sk-estimator-id-2\" type=\"checkbox\" ><label for=\"sk-estimator-id-2\" class=\"sk-toggleable__label sk-toggleable__label-arrow\">None</label><div class=\"sk-toggleable__content\"><pre>None</pre></div></div></div><div class=\"sk-item\"><div class=\"sk-estimator sk-toggleable\"><input class=\"sk-toggleable__control sk-hidden--visually\" id=\"sk-estimator-id-3\" type=\"checkbox\" ><label for=\"sk-estimator-id-3\" class=\"sk-toggleable__label sk-toggleable__label-arrow\">LogisticRegression</label><div class=\"sk-toggleable__content\"><pre>LogisticRegression()</pre></div></div></div></div></div></div></div>"
      ],
      "text/plain": [
       "Pipeline(steps=[('scale', None), ('model', LogisticRegression())])"
      ]
     },
     "execution_count": 43,
     "metadata": {},
     "output_type": "execute_result"
    }
   ],
   "source": [
    "model.fit(X_train, y_train.values.ravel())"
   ]
  },
  {
   "cell_type": "code",
   "execution_count": 44,
   "id": "af59f8c0",
   "metadata": {
    "execution": {
     "iopub.execute_input": "2025-07-30T12:53:47.137322Z",
     "iopub.status.busy": "2025-07-30T12:53:47.136818Z",
     "iopub.status.idle": "2025-07-30T12:53:47.142392Z",
     "shell.execute_reply": "2025-07-30T12:53:47.141692Z"
    },
    "papermill": {
     "duration": 0.020604,
     "end_time": "2025-07-30T12:53:47.143696",
     "exception": false,
     "start_time": "2025-07-30T12:53:47.123092",
     "status": "completed"
    },
    "tags": []
   },
   "outputs": [],
   "source": [
    "from fairness_multiverse.universe import predict_w_threshold"
   ]
  },
  {
   "cell_type": "code",
   "execution_count": 45,
   "id": "a7cf2e16",
   "metadata": {
    "execution": {
     "iopub.execute_input": "2025-07-30T12:53:47.179033Z",
     "iopub.status.busy": "2025-07-30T12:53:47.178195Z",
     "iopub.status.idle": "2025-07-30T12:53:47.273472Z",
     "shell.execute_reply": "2025-07-30T12:53:47.272415Z"
    },
    "papermill": {
     "duration": 0.117734,
     "end_time": "2025-07-30T12:53:47.275251",
     "exception": false,
     "start_time": "2025-07-30T12:53:47.157517",
     "status": "completed"
    },
    "tags": []
   },
   "outputs": [
    {
     "data": {
      "text/plain": [
       "0.8640285363950507"
      ]
     },
     "execution_count": 45,
     "metadata": {},
     "output_type": "execute_result"
    }
   ],
   "source": [
    "probs_test = model.predict_proba(X_test)\n",
    "\n",
    "'''\n",
    "Below code returns a boolean array (or binary 0/1 array depending on how it’s used) where each element \n",
    "is True if the probability of class 1 is greater than or equal to the threshold, and False otherwise.\n",
    "'''\n",
    "y_pred_default = predict_w_threshold(probs_test, 0.5)\n",
    "\n",
    "from sklearn.metrics import accuracy_score\n",
    "\n",
    "# Naive prediction\n",
    "accuracy_score(y_true = y_true, y_pred = y_pred_default)"
   ]
  },
  {
   "cell_type": "code",
   "execution_count": 46,
   "id": "081964c3",
   "metadata": {
    "execution": {
     "iopub.execute_input": "2025-07-30T12:53:47.330168Z",
     "iopub.status.busy": "2025-07-30T12:53:47.329806Z",
     "iopub.status.idle": "2025-07-30T12:53:47.419126Z",
     "shell.execute_reply": "2025-07-30T12:53:47.418156Z"
    },
    "papermill": {
     "duration": 0.11987,
     "end_time": "2025-07-30T12:53:47.420866",
     "exception": false,
     "start_time": "2025-07-30T12:53:47.300996",
     "status": "completed"
    },
    "tags": []
   },
   "outputs": [
    {
     "data": {
      "text/plain": [
       "array([0, 0, 0, ..., 0, 0, 0])"
      ]
     },
     "execution_count": 46,
     "metadata": {},
     "output_type": "execute_result"
    }
   ],
   "source": [
    "model.predict(X_test)"
   ]
  },
  {
   "cell_type": "markdown",
   "id": "56c9705b",
   "metadata": {
    "papermill": {
     "duration": 0.027683,
     "end_time": "2025-07-30T12:53:47.476823",
     "exception": false,
     "start_time": "2025-07-30T12:53:47.449140",
     "status": "completed"
    },
    "tags": []
   },
   "source": [
    "# Conformal Prediction"
   ]
  },
  {
   "cell_type": "code",
   "execution_count": 47,
   "id": "160ec6ff",
   "metadata": {
    "execution": {
     "iopub.execute_input": "2025-07-30T12:53:47.510552Z",
     "iopub.status.busy": "2025-07-30T12:53:47.510115Z",
     "iopub.status.idle": "2025-07-30T12:53:47.515450Z",
     "shell.execute_reply": "2025-07-30T12:53:47.514686Z"
    },
    "papermill": {
     "duration": 0.020566,
     "end_time": "2025-07-30T12:53:47.516864",
     "exception": false,
     "start_time": "2025-07-30T12:53:47.496298",
     "status": "completed"
    },
    "tags": []
   },
   "outputs": [],
   "source": [
    "# Miscoverage level for conformal prediction (10% allowed error rate => 90% target coverage)\n",
    "alpha = 0.1"
   ]
  },
  {
   "cell_type": "code",
   "execution_count": 48,
   "id": "eadf4555-3dd3-440e-8e35-f82a4ad9f855",
   "metadata": {
    "execution": {
     "iopub.execute_input": "2025-07-30T12:53:47.559398Z",
     "iopub.status.busy": "2025-07-30T12:53:47.558899Z",
     "iopub.status.idle": "2025-07-30T12:53:47.647746Z",
     "shell.execute_reply": "2025-07-30T12:53:47.646763Z"
    },
    "papermill": {
     "duration": 0.122589,
     "end_time": "2025-07-30T12:53:47.653394",
     "exception": false,
     "start_time": "2025-07-30T12:53:47.530805",
     "status": "completed"
    },
    "tags": []
   },
   "outputs": [],
   "source": [
    "probs_calib = model.predict_proba(X_calib)"
   ]
  },
  {
   "cell_type": "code",
   "execution_count": 49,
   "id": "2ed93547-6d5d-4983-9b36-1ecb300da49a",
   "metadata": {
    "execution": {
     "iopub.execute_input": "2025-07-30T12:53:47.725870Z",
     "iopub.status.busy": "2025-07-30T12:53:47.724959Z",
     "iopub.status.idle": "2025-07-30T12:53:47.731911Z",
     "shell.execute_reply": "2025-07-30T12:53:47.730747Z"
    },
    "papermill": {
     "duration": 0.054508,
     "end_time": "2025-07-30T12:53:47.734026",
     "exception": false,
     "start_time": "2025-07-30T12:53:47.679518",
     "status": "completed"
    },
    "tags": []
   },
   "outputs": [],
   "source": [
    "y_calib = y_calib.values.ravel().astype(int)"
   ]
  },
  {
   "cell_type": "code",
   "execution_count": 50,
   "id": "65d1320d-f588-4b38-9072-62af1ae97f7d",
   "metadata": {
    "execution": {
     "iopub.execute_input": "2025-07-30T12:53:47.802571Z",
     "iopub.status.busy": "2025-07-30T12:53:47.801806Z",
     "iopub.status.idle": "2025-07-30T12:53:47.811248Z",
     "shell.execute_reply": "2025-07-30T12:53:47.810137Z"
    },
    "papermill": {
     "duration": 0.046636,
     "end_time": "2025-07-30T12:53:47.813554",
     "exception": false,
     "start_time": "2025-07-30T12:53:47.766918",
     "status": "completed"
    },
    "tags": []
   },
   "outputs": [],
   "source": [
    "from fairness_multiverse.conformal import compute_nc_scores\n",
    "\n",
    "# Compute nonconformity scores on calibration set (1 - probability of true class)\n",
    "nc_scores = compute_nc_scores(probs_calib, y_calib)"
   ]
  },
  {
   "cell_type": "code",
   "execution_count": 51,
   "id": "df3b8ca3-53b7-43d5-9667-7c85da7aeda2",
   "metadata": {
    "execution": {
     "iopub.execute_input": "2025-07-30T12:53:47.887891Z",
     "iopub.status.busy": "2025-07-30T12:53:47.887410Z",
     "iopub.status.idle": "2025-07-30T12:53:47.894776Z",
     "shell.execute_reply": "2025-07-30T12:53:47.893423Z"
    },
    "papermill": {
     "duration": 0.048477,
     "end_time": "2025-07-30T12:53:47.896899",
     "exception": false,
     "start_time": "2025-07-30T12:53:47.848422",
     "status": "completed"
    },
    "tags": []
   },
   "outputs": [],
   "source": [
    "from fairness_multiverse.conformal import find_threshold\n",
    "\n",
    "# Find conformal threshold q_hat for the given alpha (split conformal method)\n",
    "q_hat = find_threshold(nc_scores, alpha)"
   ]
  },
  {
   "cell_type": "code",
   "execution_count": 52,
   "id": "4d29e6c1-0ef6-4aa4-b8fe-4fe79b0d033a",
   "metadata": {
    "execution": {
     "iopub.execute_input": "2025-07-30T12:53:47.959712Z",
     "iopub.status.busy": "2025-07-30T12:53:47.959184Z",
     "iopub.status.idle": "2025-07-30T12:53:47.966639Z",
     "shell.execute_reply": "2025-07-30T12:53:47.965599Z"
    },
    "papermill": {
     "duration": 0.037323,
     "end_time": "2025-07-30T12:53:47.968565",
     "exception": false,
     "start_time": "2025-07-30T12:53:47.931242",
     "status": "completed"
    },
    "tags": []
   },
   "outputs": [
    {
     "data": {
      "text/plain": [
       "0.652861770335564"
      ]
     },
     "execution_count": 52,
     "metadata": {},
     "output_type": "execute_result"
    }
   ],
   "source": [
    "q_hat"
   ]
  },
  {
   "cell_type": "code",
   "execution_count": 53,
   "id": "92460794-cdac-4be2-ba28-f28c0515a6fb",
   "metadata": {
    "execution": {
     "iopub.execute_input": "2025-07-30T12:53:48.039301Z",
     "iopub.status.busy": "2025-07-30T12:53:48.038689Z",
     "iopub.status.idle": "2025-07-30T12:53:48.794986Z",
     "shell.execute_reply": "2025-07-30T12:53:48.793742Z"
    },
    "papermill": {
     "duration": 0.800448,
     "end_time": "2025-07-30T12:53:48.797133",
     "exception": false,
     "start_time": "2025-07-30T12:53:47.996685",
     "status": "completed"
    },
    "tags": []
   },
   "outputs": [],
   "source": [
    "from fairness_multiverse.conformal import predict_conformal_sets\n",
    "\n",
    "# Generate prediction sets for each test example\n",
    "pred_sets = predict_conformal_sets(model, X_test, q_hat)"
   ]
  },
  {
   "cell_type": "code",
   "execution_count": 54,
   "id": "d90c9a65-e6db-4f5d-80cd-e68fb7e46829",
   "metadata": {
    "execution": {
     "iopub.execute_input": "2025-07-30T12:53:48.869381Z",
     "iopub.status.busy": "2025-07-30T12:53:48.868238Z",
     "iopub.status.idle": "2025-07-30T12:53:48.874115Z",
     "shell.execute_reply": "2025-07-30T12:53:48.873187Z"
    },
    "papermill": {
     "duration": 0.035376,
     "end_time": "2025-07-30T12:53:48.875694",
     "exception": false,
     "start_time": "2025-07-30T12:53:48.840318",
     "status": "completed"
    },
    "tags": []
   },
   "outputs": [],
   "source": [
    "y_true = y_true.squeeze()"
   ]
  },
  {
   "cell_type": "code",
   "execution_count": 55,
   "id": "3a58a54a-1e68-46b9-927a-df01f18aebc8",
   "metadata": {
    "execution": {
     "iopub.execute_input": "2025-07-30T12:53:48.948081Z",
     "iopub.status.busy": "2025-07-30T12:53:48.947536Z",
     "iopub.status.idle": "2025-07-30T12:53:49.926477Z",
     "shell.execute_reply": "2025-07-30T12:53:49.925469Z"
    },
    "papermill": {
     "duration": 1.025591,
     "end_time": "2025-07-30T12:53:49.928373",
     "exception": false,
     "start_time": "2025-07-30T12:53:48.902782",
     "status": "completed"
    },
    "tags": []
   },
   "outputs": [],
   "source": [
    "from fairness_multiverse.conformal import evaluate_sets\n",
    "\n",
    "# Evaluate coverage and average set size on test data\n",
    "metrics = evaluate_sets(pred_sets, y_true)"
   ]
  },
  {
   "cell_type": "markdown",
   "id": "2b569c12-9aaa-4c88-98c9-bbcd0cf3ebb8",
   "metadata": {
    "papermill": {
     "duration": 0.017577,
     "end_time": "2025-07-30T12:53:49.972904",
     "exception": false,
     "start_time": "2025-07-30T12:53:49.955327",
     "status": "completed"
    },
    "tags": []
   },
   "source": [
    "# CP Metrics"
   ]
  },
  {
   "cell_type": "code",
   "execution_count": 56,
   "id": "5ce0a5cb-201f-45a0-ade5-94c7f0bd6095",
   "metadata": {
    "execution": {
     "iopub.execute_input": "2025-07-30T12:53:50.007671Z",
     "iopub.status.busy": "2025-07-30T12:53:50.007106Z",
     "iopub.status.idle": "2025-07-30T12:53:50.014956Z",
     "shell.execute_reply": "2025-07-30T12:53:50.013890Z"
    },
    "papermill": {
     "duration": 0.033224,
     "end_time": "2025-07-30T12:53:50.019544",
     "exception": false,
     "start_time": "2025-07-30T12:53:49.986320",
     "status": "completed"
    },
    "tags": []
   },
   "outputs": [
    {
     "data": {
      "text/plain": [
       "{'coverage': 0.9132984059748077, 'avg_size': 1.2538512986289154}"
      ]
     },
     "execution_count": 56,
     "metadata": {},
     "output_type": "execute_result"
    }
   ],
   "source": [
    "metrics"
   ]
  },
  {
   "cell_type": "code",
   "execution_count": 57,
   "id": "9b9a838d-31c9-430b-ae14-12baee460d17",
   "metadata": {
    "execution": {
     "iopub.execute_input": "2025-07-30T12:53:50.075597Z",
     "iopub.status.busy": "2025-07-30T12:53:50.074819Z",
     "iopub.status.idle": "2025-07-30T12:53:50.081364Z",
     "shell.execute_reply": "2025-07-30T12:53:50.080455Z"
    },
    "papermill": {
     "duration": 0.03458,
     "end_time": "2025-07-30T12:53:50.083071",
     "exception": false,
     "start_time": "2025-07-30T12:53:50.048491",
     "status": "completed"
    },
    "tags": []
   },
   "outputs": [],
   "source": [
    "example_universe = universe.copy()\n",
    "universe_training_size = example_universe.get(\"training_size\")\n",
    "universe_scale = example_universe.get(\"scale\")\n",
    "universe_model = example_universe.get(\"model\")\n",
    "universe_exclude_features = example_universe.get(\"exclude_features\")\n",
    "universe_exclude_subgroups = example_universe.get(\"exclude_subgroups\")"
   ]
  },
  {
   "cell_type": "code",
   "execution_count": 58,
   "id": "f4b6a8ac-9dc0-4245-8a91-5b3b5999c4f9",
   "metadata": {
    "execution": {
     "iopub.execute_input": "2025-07-30T12:53:50.131897Z",
     "iopub.status.busy": "2025-07-30T12:53:50.131533Z",
     "iopub.status.idle": "2025-07-30T12:53:50.136753Z",
     "shell.execute_reply": "2025-07-30T12:53:50.135862Z"
    },
    "papermill": {
     "duration": 0.027178,
     "end_time": "2025-07-30T12:53:50.138184",
     "exception": false,
     "start_time": "2025-07-30T12:53:50.111006",
     "status": "completed"
    },
    "tags": []
   },
   "outputs": [],
   "source": [
    "cp_metrics_dict = {\n",
    "    \"universe_id\": [universe_id],\n",
    "    \"universe_training_size\": [universe_training_size],\n",
    "    \"universe_scale\": [universe_scale],\n",
    "    \"universe_model\": [universe_model],\n",
    "    \"universe_exclude_features\": [universe_exclude_features],\n",
    "    \"universe_exclude_subgroups\": [universe_exclude_subgroups],\n",
    "    \"q_hat\": [q_hat],\n",
    "    \"coverage\": [metrics[\"coverage\"]],\n",
    "    \"avg_size\": [metrics[\"avg_size\"]],\n",
    "}"
   ]
  },
  {
   "cell_type": "code",
   "execution_count": 59,
   "id": "908acbb1-0371-4915-85ca-3fa520d2efe2",
   "metadata": {
    "execution": {
     "iopub.execute_input": "2025-07-30T12:53:50.169973Z",
     "iopub.status.busy": "2025-07-30T12:53:50.169469Z",
     "iopub.status.idle": "2025-07-30T12:53:50.177604Z",
     "shell.execute_reply": "2025-07-30T12:53:50.176438Z"
    },
    "papermill": {
     "duration": 0.026505,
     "end_time": "2025-07-30T12:53:50.179881",
     "exception": false,
     "start_time": "2025-07-30T12:53:50.153376",
     "status": "completed"
    },
    "tags": []
   },
   "outputs": [
    {
     "data": {
      "text/plain": [
       "{'universe_id': ['c58184faf0c60f9885c5bf5457bc83cb'],\n",
       " 'universe_training_size': ['25k'],\n",
       " 'universe_scale': ['do-not-scale'],\n",
       " 'universe_model': ['logreg'],\n",
       " 'universe_exclude_features': ['age'],\n",
       " 'universe_exclude_subgroups': ['keep-all'],\n",
       " 'q_hat': [0.652861770335564],\n",
       " 'coverage': [0.9132984059748077],\n",
       " 'avg_size': [1.2538512986289154]}"
      ]
     },
     "execution_count": 59,
     "metadata": {},
     "output_type": "execute_result"
    }
   ],
   "source": [
    "cp_metrics_dict"
   ]
  },
  {
   "cell_type": "code",
   "execution_count": 60,
   "id": "33007efc-14e9-4ec6-97ac-56a455c82265",
   "metadata": {
    "execution": {
     "iopub.execute_input": "2025-07-30T12:53:50.227471Z",
     "iopub.status.busy": "2025-07-30T12:53:50.227067Z",
     "iopub.status.idle": "2025-07-30T12:53:50.232983Z",
     "shell.execute_reply": "2025-07-30T12:53:50.232117Z"
    },
    "papermill": {
     "duration": 0.023924,
     "end_time": "2025-07-30T12:53:50.234294",
     "exception": false,
     "start_time": "2025-07-30T12:53:50.210370",
     "status": "completed"
    },
    "tags": []
   },
   "outputs": [],
   "source": [
    "cp_metrics_df = pd.DataFrame(cp_metrics_dict)"
   ]
  },
  {
   "cell_type": "code",
   "execution_count": 61,
   "id": "db12611b-57b2-4910-b9d0-355adfd6e7bf",
   "metadata": {
    "execution": {
     "iopub.execute_input": "2025-07-30T12:53:50.268939Z",
     "iopub.status.busy": "2025-07-30T12:53:50.268499Z",
     "iopub.status.idle": "2025-07-30T12:53:50.303254Z",
     "shell.execute_reply": "2025-07-30T12:53:50.302221Z"
    },
    "papermill": {
     "duration": 0.055408,
     "end_time": "2025-07-30T12:53:50.305339",
     "exception": false,
     "start_time": "2025-07-30T12:53:50.249931",
     "status": "completed"
    },
    "tags": []
   },
   "outputs": [
    {
     "data": {
      "text/html": [
       "<div>\n",
       "<style scoped>\n",
       "    .dataframe tbody tr th:only-of-type {\n",
       "        vertical-align: middle;\n",
       "    }\n",
       "\n",
       "    .dataframe tbody tr th {\n",
       "        vertical-align: top;\n",
       "    }\n",
       "\n",
       "    .dataframe thead th {\n",
       "        text-align: right;\n",
       "    }\n",
       "</style>\n",
       "<table border=\"1\" class=\"dataframe\">\n",
       "  <thead>\n",
       "    <tr style=\"text-align: right;\">\n",
       "      <th></th>\n",
       "      <th>universe_id</th>\n",
       "      <th>universe_training_size</th>\n",
       "      <th>universe_scale</th>\n",
       "      <th>universe_model</th>\n",
       "      <th>universe_exclude_features</th>\n",
       "      <th>universe_exclude_subgroups</th>\n",
       "      <th>q_hat</th>\n",
       "      <th>coverage</th>\n",
       "      <th>avg_size</th>\n",
       "    </tr>\n",
       "  </thead>\n",
       "  <tbody>\n",
       "    <tr>\n",
       "      <th>0</th>\n",
       "      <td>c58184faf0c60f9885c5bf5457bc83cb</td>\n",
       "      <td>25k</td>\n",
       "      <td>do-not-scale</td>\n",
       "      <td>logreg</td>\n",
       "      <td>age</td>\n",
       "      <td>keep-all</td>\n",
       "      <td>0.652862</td>\n",
       "      <td>0.913298</td>\n",
       "      <td>1.253851</td>\n",
       "    </tr>\n",
       "  </tbody>\n",
       "</table>\n",
       "</div>"
      ],
      "text/plain": [
       "                        universe_id universe_training_size universe_scale  \\\n",
       "0  c58184faf0c60f9885c5bf5457bc83cb                    25k   do-not-scale   \n",
       "\n",
       "  universe_model universe_exclude_features universe_exclude_subgroups  \\\n",
       "0         logreg                       age                   keep-all   \n",
       "\n",
       "      q_hat  coverage  avg_size  \n",
       "0  0.652862  0.913298  1.253851  "
      ]
     },
     "execution_count": 61,
     "metadata": {},
     "output_type": "execute_result"
    }
   ],
   "source": [
    "cp_metrics_df"
   ]
  },
  {
   "cell_type": "code",
   "execution_count": 62,
   "id": "b7fbde55-a0a1-47e4-9af6-fe4a17fa8c61",
   "metadata": {
    "execution": {
     "iopub.execute_input": "2025-07-30T12:53:50.351218Z",
     "iopub.status.busy": "2025-07-30T12:53:50.350748Z",
     "iopub.status.idle": "2025-07-30T12:53:50.355343Z",
     "shell.execute_reply": "2025-07-30T12:53:50.354451Z"
    },
    "papermill": {
     "duration": 0.02501,
     "end_time": "2025-07-30T12:53:50.356851",
     "exception": false,
     "start_time": "2025-07-30T12:53:50.331841",
     "status": "completed"
    },
    "tags": []
   },
   "outputs": [],
   "source": [
    "# Conditional Coverage & looking at subgroups"
   ]
  },
  {
   "cell_type": "code",
   "execution_count": 63,
   "id": "027ae886-68dd-4141-96c7-805a5450e1ef",
   "metadata": {
    "execution": {
     "iopub.execute_input": "2025-07-30T12:53:50.386581Z",
     "iopub.status.busy": "2025-07-30T12:53:50.386238Z",
     "iopub.status.idle": "2025-07-30T12:53:50.697211Z",
     "shell.execute_reply": "2025-07-30T12:53:50.696170Z"
    },
    "papermill": {
     "duration": 0.327552,
     "end_time": "2025-07-30T12:53:50.699185",
     "exception": false,
     "start_time": "2025-07-30T12:53:50.371633",
     "status": "completed"
    },
    "tags": []
   },
   "outputs": [],
   "source": [
    "from fairness_multiverse.conformal import build_cp_groups\n",
    "\n",
    "cp_groups_df = build_cp_groups(pred_sets, y_true, X_test.index, org_test)\n",
    "#needs universe_id and setting"
   ]
  },
  {
   "cell_type": "code",
   "execution_count": 64,
   "id": "01d5802c-663a-4d1f-9d69-e036faaffbf7",
   "metadata": {
    "execution": {
     "iopub.execute_input": "2025-07-30T12:53:50.758605Z",
     "iopub.status.busy": "2025-07-30T12:53:50.758050Z",
     "iopub.status.idle": "2025-07-30T12:53:50.763468Z",
     "shell.execute_reply": "2025-07-30T12:53:50.762368Z"
    },
    "papermill": {
     "duration": 0.035395,
     "end_time": "2025-07-30T12:53:50.765135",
     "exception": false,
     "start_time": "2025-07-30T12:53:50.729740",
     "status": "completed"
    },
    "tags": []
   },
   "outputs": [],
   "source": [
    "#delete\n",
    "#cp_groups_df"
   ]
  },
  {
   "cell_type": "code",
   "execution_count": 65,
   "id": "fa424af1-d1eb-443d-b717-2d279ada8408",
   "metadata": {
    "execution": {
     "iopub.execute_input": "2025-07-30T12:53:50.798649Z",
     "iopub.status.busy": "2025-07-30T12:53:50.798294Z",
     "iopub.status.idle": "2025-07-30T12:53:50.803050Z",
     "shell.execute_reply": "2025-07-30T12:53:50.802313Z"
    },
    "papermill": {
     "duration": 0.023498,
     "end_time": "2025-07-30T12:53:50.804547",
     "exception": false,
     "start_time": "2025-07-30T12:53:50.781049",
     "status": "completed"
    },
    "tags": []
   },
   "outputs": [],
   "source": [
    "#delete\n",
    "#percentage = (cp_groups_df['nongerman_female'] == 1).mean() * 100\n",
    "#print(percentage)\n"
   ]
  },
  {
   "cell_type": "code",
   "execution_count": 66,
   "id": "6cbdab96-b2b2-45af-ad54-d0516db2e28d",
   "metadata": {
    "execution": {
     "iopub.execute_input": "2025-07-30T12:53:50.856224Z",
     "iopub.status.busy": "2025-07-30T12:53:50.855119Z",
     "iopub.status.idle": "2025-07-30T12:53:52.249258Z",
     "shell.execute_reply": "2025-07-30T12:53:52.248107Z"
    },
    "papermill": {
     "duration": 1.427809,
     "end_time": "2025-07-30T12:53:52.251752",
     "exception": false,
     "start_time": "2025-07-30T12:53:50.823943",
     "status": "completed"
    },
    "tags": []
   },
   "outputs": [],
   "source": [
    "# Define covered = 1 if true_label is in the predicted set\n",
    "cp_groups_df['covered'] = cp_groups_df.apply(\n",
    "    lambda r: int(r['true_label'] in r['pred_set']),\n",
    "    axis=1\n",
    ")"
   ]
  },
  {
   "cell_type": "code",
   "execution_count": 67,
   "id": "338ff529-1a6b-4b87-a931-8e4788d52aad",
   "metadata": {
    "execution": {
     "iopub.execute_input": "2025-07-30T12:53:52.311817Z",
     "iopub.status.busy": "2025-07-30T12:53:52.311136Z",
     "iopub.status.idle": "2025-07-30T12:53:52.316196Z",
     "shell.execute_reply": "2025-07-30T12:53:52.315255Z"
    },
    "papermill": {
     "duration": 0.03691,
     "end_time": "2025-07-30T12:53:52.318034",
     "exception": false,
     "start_time": "2025-07-30T12:53:52.281124",
     "status": "completed"
    },
    "tags": []
   },
   "outputs": [],
   "source": [
    "#cp_groups_df"
   ]
  },
  {
   "cell_type": "code",
   "execution_count": 68,
   "id": "90032e27-66df-4540-9169-4e89cfbaa758",
   "metadata": {
    "execution": {
     "iopub.execute_input": "2025-07-30T12:53:52.379337Z",
     "iopub.status.busy": "2025-07-30T12:53:52.378708Z",
     "iopub.status.idle": "2025-07-30T12:53:52.394507Z",
     "shell.execute_reply": "2025-07-30T12:53:52.393322Z"
    },
    "papermill": {
     "duration": 0.051021,
     "end_time": "2025-07-30T12:53:52.396546",
     "exception": false,
     "start_time": "2025-07-30T12:53:52.345525",
     "status": "completed"
    },
    "tags": []
   },
   "outputs": [],
   "source": [
    "subgroups = ['frau1','nongerman','nongerman_male','nongerman_female']\n",
    "\n",
    "# Conditional coverage for subgroup==1\n",
    "cond_coverage = {\n",
    "    g: cp_groups_df.loc[cp_groups_df[g]==1, 'covered'].mean()\n",
    "    for g in subgroups\n",
    "}"
   ]
  },
  {
   "cell_type": "code",
   "execution_count": 69,
   "id": "1e348fb1-b9c3-45bc-ba23-f016827a7e0d",
   "metadata": {
    "execution": {
     "iopub.execute_input": "2025-07-30T12:53:52.450552Z",
     "iopub.status.busy": "2025-07-30T12:53:52.449597Z",
     "iopub.status.idle": "2025-07-30T12:53:52.457958Z",
     "shell.execute_reply": "2025-07-30T12:53:52.456859Z"
    },
    "papermill": {
     "duration": 0.037178,
     "end_time": "2025-07-30T12:53:52.459712",
     "exception": false,
     "start_time": "2025-07-30T12:53:52.422534",
     "status": "completed"
    },
    "tags": []
   },
   "outputs": [
    {
     "data": {
      "text/plain": [
       "{'frau1': 0.9136002156624882,\n",
       " 'nongerman': 0.9640150451917139,\n",
       " 'nongerman_male': 0.9692875799333514,\n",
       " 'nongerman_female': 0.9552906110283159}"
      ]
     },
     "execution_count": 69,
     "metadata": {},
     "output_type": "execute_result"
    }
   ],
   "source": [
    "cond_coverage"
   ]
  },
  {
   "cell_type": "code",
   "execution_count": 70,
   "id": "f5093324-c3dd-4d63-bc4c-8d945e5c8bbb",
   "metadata": {
    "execution": {
     "iopub.execute_input": "2025-07-30T12:53:52.511464Z",
     "iopub.status.busy": "2025-07-30T12:53:52.510845Z",
     "iopub.status.idle": "2025-07-30T12:53:52.517821Z",
     "shell.execute_reply": "2025-07-30T12:53:52.517077Z"
    },
    "papermill": {
     "duration": 0.040032,
     "end_time": "2025-07-30T12:53:52.525237",
     "exception": false,
     "start_time": "2025-07-30T12:53:52.485205",
     "status": "completed"
    },
    "tags": []
   },
   "outputs": [],
   "source": [
    "for subgroup, cov in cond_coverage.items():\n",
    "    cp_metrics_df[f\"cov_{subgroup}\"] = cov"
   ]
  },
  {
   "cell_type": "code",
   "execution_count": 71,
   "id": "6e872e10-dbe5-49e8-b554-5030c98ff75d",
   "metadata": {
    "execution": {
     "iopub.execute_input": "2025-07-30T12:53:52.585488Z",
     "iopub.status.busy": "2025-07-30T12:53:52.584941Z",
     "iopub.status.idle": "2025-07-30T12:53:52.609303Z",
     "shell.execute_reply": "2025-07-30T12:53:52.607892Z"
    },
    "papermill": {
     "duration": 0.056532,
     "end_time": "2025-07-30T12:53:52.611098",
     "exception": false,
     "start_time": "2025-07-30T12:53:52.554566",
     "status": "completed"
    },
    "tags": []
   },
   "outputs": [
    {
     "data": {
      "text/html": [
       "<div>\n",
       "<style scoped>\n",
       "    .dataframe tbody tr th:only-of-type {\n",
       "        vertical-align: middle;\n",
       "    }\n",
       "\n",
       "    .dataframe tbody tr th {\n",
       "        vertical-align: top;\n",
       "    }\n",
       "\n",
       "    .dataframe thead th {\n",
       "        text-align: right;\n",
       "    }\n",
       "</style>\n",
       "<table border=\"1\" class=\"dataframe\">\n",
       "  <thead>\n",
       "    <tr style=\"text-align: right;\">\n",
       "      <th></th>\n",
       "      <th>universe_id</th>\n",
       "      <th>universe_training_size</th>\n",
       "      <th>universe_scale</th>\n",
       "      <th>universe_model</th>\n",
       "      <th>universe_exclude_features</th>\n",
       "      <th>universe_exclude_subgroups</th>\n",
       "      <th>q_hat</th>\n",
       "      <th>coverage</th>\n",
       "      <th>avg_size</th>\n",
       "      <th>cov_frau1</th>\n",
       "      <th>cov_nongerman</th>\n",
       "      <th>cov_nongerman_male</th>\n",
       "      <th>cov_nongerman_female</th>\n",
       "    </tr>\n",
       "  </thead>\n",
       "  <tbody>\n",
       "    <tr>\n",
       "      <th>0</th>\n",
       "      <td>c58184faf0c60f9885c5bf5457bc83cb</td>\n",
       "      <td>25k</td>\n",
       "      <td>do-not-scale</td>\n",
       "      <td>logreg</td>\n",
       "      <td>age</td>\n",
       "      <td>keep-all</td>\n",
       "      <td>0.652862</td>\n",
       "      <td>0.913298</td>\n",
       "      <td>1.253851</td>\n",
       "      <td>0.9136</td>\n",
       "      <td>0.964015</td>\n",
       "      <td>0.969288</td>\n",
       "      <td>0.955291</td>\n",
       "    </tr>\n",
       "  </tbody>\n",
       "</table>\n",
       "</div>"
      ],
      "text/plain": [
       "                        universe_id universe_training_size universe_scale  \\\n",
       "0  c58184faf0c60f9885c5bf5457bc83cb                    25k   do-not-scale   \n",
       "\n",
       "  universe_model universe_exclude_features universe_exclude_subgroups  \\\n",
       "0         logreg                       age                   keep-all   \n",
       "\n",
       "      q_hat  coverage  avg_size  cov_frau1  cov_nongerman  cov_nongerman_male  \\\n",
       "0  0.652862  0.913298  1.253851     0.9136       0.964015            0.969288   \n",
       "\n",
       "   cov_nongerman_female  \n",
       "0              0.955291  "
      ]
     },
     "execution_count": 71,
     "metadata": {},
     "output_type": "execute_result"
    }
   ],
   "source": [
    "cp_metrics_df"
   ]
  },
  {
   "cell_type": "markdown",
   "id": "33774451",
   "metadata": {
    "papermill": {
     "duration": 0.027843,
     "end_time": "2025-07-30T12:53:52.669312",
     "exception": false,
     "start_time": "2025-07-30T12:53:52.641469",
     "status": "completed"
    },
    "tags": []
   },
   "source": [
    "# (Fairness) Metrics"
   ]
  },
  {
   "cell_type": "code",
   "execution_count": 72,
   "id": "debc5d62",
   "metadata": {
    "execution": {
     "iopub.execute_input": "2025-07-30T12:53:52.727249Z",
     "iopub.status.busy": "2025-07-30T12:53:52.726744Z",
     "iopub.status.idle": "2025-07-30T12:53:52.749954Z",
     "shell.execute_reply": "2025-07-30T12:53:52.748806Z"
    },
    "papermill": {
     "duration": 0.05549,
     "end_time": "2025-07-30T12:53:52.753554",
     "exception": false,
     "start_time": "2025-07-30T12:53:52.698064",
     "status": "completed"
    },
    "tags": []
   },
   "outputs": [],
   "source": [
    "# do I need to include maxdeutsch1.missing?\n",
    "\n",
    "import numpy as np\n",
    "\n",
    "colname_to_bin = \"maxdeutsch1\"\n",
    "majority_value = org_train[colname_to_bin].mode()[0]\n",
    "\n",
    "org_test[\"majmin\"] = np.where(org_test[colname_to_bin] == majority_value, \"majority\", \"minority\")"
   ]
  },
  {
   "cell_type": "code",
   "execution_count": 73,
   "id": "06a50de5",
   "metadata": {
    "execution": {
     "iopub.execute_input": "2025-07-30T12:53:52.818027Z",
     "iopub.status.busy": "2025-07-30T12:53:52.816721Z",
     "iopub.status.idle": "2025-07-30T12:53:55.661806Z",
     "shell.execute_reply": "2025-07-30T12:53:55.660842Z"
    },
    "papermill": {
     "duration": 2.879133,
     "end_time": "2025-07-30T12:53:55.663618",
     "exception": false,
     "start_time": "2025-07-30T12:53:52.784485",
     "status": "completed"
    },
    "tags": []
   },
   "outputs": [],
   "source": [
    "example_universe = universe.copy()\n",
    "example_universe[\"cutoff\"] = example_universe[\"cutoff\"][0]\n",
    "example_universe[\"eval_fairness_grouping\"] = example_universe[\"eval_fairness_grouping\"][0]\n",
    "fairness_dict, metric_frame = universe_analysis.compute_metrics(\n",
    "    example_universe,\n",
    "    y_pred_prob=probs_test,\n",
    "    y_test=y_true,\n",
    "    org_test=org_test,\n",
    ")"
   ]
  },
  {
   "cell_type": "markdown",
   "id": "f95d4e02",
   "metadata": {
    "papermill": {
     "duration": 0.032482,
     "end_time": "2025-07-30T12:53:55.726898",
     "exception": false,
     "start_time": "2025-07-30T12:53:55.694416",
     "status": "completed"
    },
    "tags": []
   },
   "source": [
    "# Overall"
   ]
  },
  {
   "cell_type": "markdown",
   "id": "bdee4871",
   "metadata": {
    "papermill": {
     "duration": 0.030406,
     "end_time": "2025-07-30T12:53:55.786701",
     "exception": false,
     "start_time": "2025-07-30T12:53:55.756295",
     "status": "completed"
    },
    "tags": []
   },
   "source": [
    "Fairness\n",
    "Main fairness target: Equalized Odds. Seems to be a better fit than equal opportunity, since we're not only interested in Y = 1. Seems to be a better fit than demographic parity, since we also care about accuracy, not just equal distribution of preds.\n",
    "\n",
    "Pick column for computation of fairness metrics\n",
    "\n",
    "Performance\n",
    "Overall performance measures, most interesting in relation to the measures split by group below"
   ]
  },
  {
   "cell_type": "code",
   "execution_count": 74,
   "id": "c4e067c6",
   "metadata": {
    "execution": {
     "iopub.execute_input": "2025-07-30T12:53:55.848643Z",
     "iopub.status.busy": "2025-07-30T12:53:55.848152Z",
     "iopub.status.idle": "2025-07-30T12:53:55.856733Z",
     "shell.execute_reply": "2025-07-30T12:53:55.855782Z"
    },
    "papermill": {
     "duration": 0.041627,
     "end_time": "2025-07-30T12:53:55.858492",
     "exception": false,
     "start_time": "2025-07-30T12:53:55.816865",
     "status": "completed"
    },
    "tags": []
   },
   "outputs": [
    {
     "data": {
      "text/plain": [
       "accuracy                   0.216219\n",
       "balanced accuracy          0.530393\n",
       "f1                         0.237775\n",
       "precision                  0.135833\n",
       "false positive rate        0.892202\n",
       "false negative rate        0.047011\n",
       "selection rate             0.900000\n",
       "count                  89710.000000\n",
       "dtype: float64"
      ]
     },
     "execution_count": 74,
     "metadata": {},
     "output_type": "execute_result"
    }
   ],
   "source": [
    "metric_frame.overall"
   ]
  },
  {
   "cell_type": "markdown",
   "id": "e968fe9d",
   "metadata": {
    "papermill": {
     "duration": 0.014314,
     "end_time": "2025-07-30T12:53:55.888602",
     "exception": false,
     "start_time": "2025-07-30T12:53:55.874288",
     "status": "completed"
    },
    "tags": []
   },
   "source": [
    "By Group"
   ]
  },
  {
   "cell_type": "code",
   "execution_count": 75,
   "id": "ec325bce",
   "metadata": {
    "execution": {
     "iopub.execute_input": "2025-07-30T12:53:55.919639Z",
     "iopub.status.busy": "2025-07-30T12:53:55.919291Z",
     "iopub.status.idle": "2025-07-30T12:53:55.931715Z",
     "shell.execute_reply": "2025-07-30T12:53:55.931048Z"
    },
    "papermill": {
     "duration": 0.029533,
     "end_time": "2025-07-30T12:53:55.933377",
     "exception": false,
     "start_time": "2025-07-30T12:53:55.903844",
     "status": "completed"
    },
    "tags": []
   },
   "outputs": [
    {
     "data": {
      "text/html": [
       "<div>\n",
       "<style scoped>\n",
       "    .dataframe tbody tr th:only-of-type {\n",
       "        vertical-align: middle;\n",
       "    }\n",
       "\n",
       "    .dataframe tbody tr th {\n",
       "        vertical-align: top;\n",
       "    }\n",
       "\n",
       "    .dataframe thead th {\n",
       "        text-align: right;\n",
       "    }\n",
       "</style>\n",
       "<table border=\"1\" class=\"dataframe\">\n",
       "  <thead>\n",
       "    <tr style=\"text-align: right;\">\n",
       "      <th></th>\n",
       "      <th>accuracy</th>\n",
       "      <th>balanced accuracy</th>\n",
       "      <th>f1</th>\n",
       "      <th>precision</th>\n",
       "      <th>false positive rate</th>\n",
       "      <th>false negative rate</th>\n",
       "      <th>selection rate</th>\n",
       "      <th>count</th>\n",
       "    </tr>\n",
       "    <tr>\n",
       "      <th>majmin</th>\n",
       "      <th></th>\n",
       "      <th></th>\n",
       "      <th></th>\n",
       "      <th></th>\n",
       "      <th></th>\n",
       "      <th></th>\n",
       "      <th></th>\n",
       "      <th></th>\n",
       "    </tr>\n",
       "  </thead>\n",
       "  <tbody>\n",
       "    <tr>\n",
       "      <th>majority</th>\n",
       "      <td>0.238615</td>\n",
       "      <td>0.537739</td>\n",
       "      <td>0.246857</td>\n",
       "      <td>0.141988</td>\n",
       "      <td>0.868832</td>\n",
       "      <td>0.055689</td>\n",
       "      <td>0.878806</td>\n",
       "      <td>69170.0</td>\n",
       "    </tr>\n",
       "    <tr>\n",
       "      <th>minority</th>\n",
       "      <td>0.140798</td>\n",
       "      <td>0.508542</td>\n",
       "      <td>0.209319</td>\n",
       "      <td>0.117081</td>\n",
       "      <td>0.969403</td>\n",
       "      <td>0.013514</td>\n",
       "      <td>0.971373</td>\n",
       "      <td>20540.0</td>\n",
       "    </tr>\n",
       "  </tbody>\n",
       "</table>\n",
       "</div>"
      ],
      "text/plain": [
       "          accuracy  balanced accuracy        f1  precision  \\\n",
       "majmin                                                       \n",
       "majority  0.238615           0.537739  0.246857   0.141988   \n",
       "minority  0.140798           0.508542  0.209319   0.117081   \n",
       "\n",
       "          false positive rate  false negative rate  selection rate    count  \n",
       "majmin                                                                       \n",
       "majority             0.868832             0.055689        0.878806  69170.0  \n",
       "minority             0.969403             0.013514        0.971373  20540.0  "
      ]
     },
     "execution_count": 75,
     "metadata": {},
     "output_type": "execute_result"
    }
   ],
   "source": [
    "metric_frame.by_group"
   ]
  },
  {
   "cell_type": "code",
   "execution_count": 76,
   "id": "a9ddbe63",
   "metadata": {
    "execution": {
     "iopub.execute_input": "2025-07-30T12:53:55.991185Z",
     "iopub.status.busy": "2025-07-30T12:53:55.990745Z",
     "iopub.status.idle": "2025-07-30T12:53:58.234123Z",
     "shell.execute_reply": "2025-07-30T12:53:58.233225Z"
    },
    "papermill": {
     "duration": 2.273503,
     "end_time": "2025-07-30T12:53:58.235733",
     "exception": false,
     "start_time": "2025-07-30T12:53:55.962230",
     "status": "completed"
    },
    "tags": []
   },
   "outputs": [
    {
     "data": {
      "text/plain": [
       "array([[<Axes: title={'center': 'accuracy'}, xlabel='majmin'>,\n",
       "        <Axes: title={'center': 'balanced accuracy'}, xlabel='majmin'>,\n",
       "        <Axes: title={'center': 'f1'}, xlabel='majmin'>],\n",
       "       [<Axes: title={'center': 'precision'}, xlabel='majmin'>,\n",
       "        <Axes: title={'center': 'false positive rate'}, xlabel='majmin'>,\n",
       "        <Axes: title={'center': 'false negative rate'}, xlabel='majmin'>],\n",
       "       [<Axes: title={'center': 'selection rate'}, xlabel='majmin'>,\n",
       "        <Axes: title={'center': 'count'}, xlabel='majmin'>,\n",
       "        <Axes: xlabel='majmin'>]], dtype=object)"
      ]
     },
     "execution_count": 76,
     "metadata": {},
     "output_type": "execute_result"
    },
    {
     "data": {
      "image/png": "[encoded data removed]",
      "text/plain": [
       "<Figure size 1200x800 with 9 Axes>"
      ]
     },
     "metadata": {},
     "output_type": "display_data"
    }
   ],
   "source": [
    "# In a graphic\n",
    "metric_frame.by_group.plot.bar(\n",
    "    subplots=True,\n",
    "    layout=[3, 3],\n",
    "    legend=False,\n",
    "    figsize=[12, 8],\n",
    "    title=\"Show all metrics\",\n",
    ")"
   ]
  },
  {
   "cell_type": "markdown",
   "id": "f57a0bac",
   "metadata": {
    "papermill": {
     "duration": 0.028255,
     "end_time": "2025-07-30T12:53:58.294522",
     "exception": false,
     "start_time": "2025-07-30T12:53:58.266267",
     "status": "completed"
    },
    "tags": []
   },
   "source": [
    "# Final Output"
   ]
  },
  {
   "cell_type": "code",
   "execution_count": 77,
   "id": "96d280a3",
   "metadata": {
    "execution": {
     "iopub.execute_input": "2025-07-30T12:53:58.355327Z",
     "iopub.status.busy": "2025-07-30T12:53:58.354655Z",
     "iopub.status.idle": "2025-07-30T12:53:58.362690Z",
     "shell.execute_reply": "2025-07-30T12:53:58.361720Z"
    },
    "papermill": {
     "duration": 0.037755,
     "end_time": "2025-07-30T12:53:58.364124",
     "exception": false,
     "start_time": "2025-07-30T12:53:58.326369",
     "status": "completed"
    },
    "tags": []
   },
   "outputs": [
    {
     "data": {
      "text/plain": [
       "4"
      ]
     },
     "execution_count": 77,
     "metadata": {},
     "output_type": "execute_result"
    }
   ],
   "source": [
    "sub_universes = universe_analysis.generate_sub_universes()\n",
    "len(sub_universes)"
   ]
  },
  {
   "cell_type": "code",
   "execution_count": 78,
   "id": "92adf7ba",
   "metadata": {
    "execution": {
     "iopub.execute_input": "2025-07-30T12:53:58.422466Z",
     "iopub.status.busy": "2025-07-30T12:53:58.421693Z",
     "iopub.status.idle": "2025-07-30T12:53:58.442532Z",
     "shell.execute_reply": "2025-07-30T12:53:58.441488Z"
    },
    "papermill": {
     "duration": 0.051483,
     "end_time": "2025-07-30T12:53:58.444472",
     "exception": false,
     "start_time": "2025-07-30T12:53:58.392989",
     "status": "completed"
    },
    "tags": []
   },
   "outputs": [],
   "source": [
    "def filter_sub_universe_data(sub_universe, org_test):\n",
    "    # Keep all rows — no filtering\n",
    "    keep_rows_mask = np.ones(org_test.shape[0], dtype=bool)\n",
    "\n",
    "    print(f\"[INFO] Keeping all rows: {keep_rows_mask.sum()} rows retained.\")\n",
    "    return keep_rows_mask"
   ]
  },
  {
   "cell_type": "code",
   "execution_count": 79,
   "id": "4a759155",
   "metadata": {
    "execution": {
     "iopub.execute_input": "2025-07-30T12:53:58.503325Z",
     "iopub.status.busy": "2025-07-30T12:53:58.502838Z",
     "iopub.status.idle": "2025-07-30T12:54:08.453111Z",
     "shell.execute_reply": "2025-07-30T12:54:08.452276Z"
    },
    "papermill": {
     "duration": 9.981351,
     "end_time": "2025-07-30T12:54:08.454830",
     "exception": false,
     "start_time": "2025-07-30T12:53:58.473479",
     "status": "completed"
    },
    "tags": []
   },
   "outputs": [
    {
     "name": "stdout",
     "output_type": "stream",
     "text": [
      "Stopping execution_time clock.\n",
      "[INFO] Keeping all rows: 89710 rows retained.\n"
     ]
    },
    {
     "name": "stdout",
     "output_type": "stream",
     "text": [
      "[INFO] Keeping all rows: 89710 rows retained.\n"
     ]
    },
    {
     "name": "stdout",
     "output_type": "stream",
     "text": [
      "[INFO] Keeping all rows: 89710 rows retained.\n"
     ]
    },
    {
     "name": "stdout",
     "output_type": "stream",
     "text": [
      "[INFO] Keeping all rows: 89710 rows retained.\n"
     ]
    },
    {
     "data": {
      "text/html": [
       "<div>\n",
       "<style scoped>\n",
       "    .dataframe tbody tr th:only-of-type {\n",
       "        vertical-align: middle;\n",
       "    }\n",
       "\n",
       "    .dataframe tbody tr th {\n",
       "        vertical-align: top;\n",
       "    }\n",
       "\n",
       "    .dataframe thead th {\n",
       "        text-align: right;\n",
       "    }\n",
       "</style>\n",
       "<table border=\"1\" class=\"dataframe\">\n",
       "  <thead>\n",
       "    <tr style=\"text-align: right;\">\n",
       "      <th></th>\n",
       "      <th>run_no</th>\n",
       "      <th>universe_id</th>\n",
       "      <th>universe_settings</th>\n",
       "      <th>execution_time</th>\n",
       "      <th>test_size_n</th>\n",
       "      <th>test_size_frac</th>\n",
       "      <th>fair_main_equalized_odds_difference</th>\n",
       "      <th>fair_main_equalized_odds_ratio</th>\n",
       "      <th>fair_main_demographic_parity_difference</th>\n",
       "      <th>fair_main_demographic_parity_ratio</th>\n",
       "      <th>...</th>\n",
       "      <th>perf_grp_precision_0</th>\n",
       "      <th>perf_grp_precision_1</th>\n",
       "      <th>perf_grp_false positive rate_0</th>\n",
       "      <th>perf_grp_false positive rate_1</th>\n",
       "      <th>perf_grp_false negative rate_0</th>\n",
       "      <th>perf_grp_false negative rate_1</th>\n",
       "      <th>perf_grp_selection rate_0</th>\n",
       "      <th>perf_grp_selection rate_1</th>\n",
       "      <th>perf_grp_count_0</th>\n",
       "      <th>perf_grp_count_1</th>\n",
       "    </tr>\n",
       "  </thead>\n",
       "  <tbody>\n",
       "    <tr>\n",
       "      <th>0</th>\n",
       "      <td>12</td>\n",
       "      <td>c58184faf0c60f9885c5bf5457bc83cb</td>\n",
       "      <td>{\"cutoff\": \"quantile_0.1\", \"eval_fairness_grou...</td>\n",
       "      <td>26.674141</td>\n",
       "      <td>89710</td>\n",
       "      <td>1.0</td>\n",
       "      <td>0.100571</td>\n",
       "      <td>0.896255</td>\n",
       "      <td>0.092567</td>\n",
       "      <td>0.904705</td>\n",
       "      <td>...</td>\n",
       "      <td>NaN</td>\n",
       "      <td>NaN</td>\n",
       "      <td>NaN</td>\n",
       "      <td>NaN</td>\n",
       "      <td>NaN</td>\n",
       "      <td>NaN</td>\n",
       "      <td>NaN</td>\n",
       "      <td>NaN</td>\n",
       "      <td>NaN</td>\n",
       "      <td>NaN</td>\n",
       "    </tr>\n",
       "    <tr>\n",
       "      <th>0</th>\n",
       "      <td>12</td>\n",
       "      <td>c58184faf0c60f9885c5bf5457bc83cb</td>\n",
       "      <td>{\"cutoff\": \"quantile_0.1\", \"eval_fairness_grou...</td>\n",
       "      <td>26.674141</td>\n",
       "      <td>89710</td>\n",
       "      <td>1.0</td>\n",
       "      <td>0.100571</td>\n",
       "      <td>0.896255</td>\n",
       "      <td>0.092567</td>\n",
       "      <td>0.904705</td>\n",
       "      <td>...</td>\n",
       "      <td>0.117081</td>\n",
       "      <td>0.141988</td>\n",
       "      <td>0.969403</td>\n",
       "      <td>0.868832</td>\n",
       "      <td>0.013514</td>\n",
       "      <td>0.055689</td>\n",
       "      <td>0.971373</td>\n",
       "      <td>0.878806</td>\n",
       "      <td>20540.0</td>\n",
       "      <td>69170.0</td>\n",
       "    </tr>\n",
       "    <tr>\n",
       "      <th>0</th>\n",
       "      <td>12</td>\n",
       "      <td>c58184faf0c60f9885c5bf5457bc83cb</td>\n",
       "      <td>{\"cutoff\": \"quantile_0.25\", \"eval_fairness_gro...</td>\n",
       "      <td>26.674141</td>\n",
       "      <td>89710</td>\n",
       "      <td>1.0</td>\n",
       "      <td>0.235952</td>\n",
       "      <td>0.741766</td>\n",
       "      <td>0.218354</td>\n",
       "      <td>0.762233</td>\n",
       "      <td>...</td>\n",
       "      <td>NaN</td>\n",
       "      <td>NaN</td>\n",
       "      <td>NaN</td>\n",
       "      <td>NaN</td>\n",
       "      <td>NaN</td>\n",
       "      <td>NaN</td>\n",
       "      <td>NaN</td>\n",
       "      <td>NaN</td>\n",
       "      <td>NaN</td>\n",
       "      <td>NaN</td>\n",
       "    </tr>\n",
       "    <tr>\n",
       "      <th>0</th>\n",
       "      <td>12</td>\n",
       "      <td>c58184faf0c60f9885c5bf5457bc83cb</td>\n",
       "      <td>{\"cutoff\": \"quantile_0.25\", \"eval_fairness_gro...</td>\n",
       "      <td>26.674141</td>\n",
       "      <td>89710</td>\n",
       "      <td>1.0</td>\n",
       "      <td>0.235952</td>\n",
       "      <td>0.741766</td>\n",
       "      <td>0.218354</td>\n",
       "      <td>0.762233</td>\n",
       "      <td>...</td>\n",
       "      <td>0.119758</td>\n",
       "      <td>0.159710</td>\n",
       "      <td>0.913713</td>\n",
       "      <td>0.677761</td>\n",
       "      <td>0.046030</td>\n",
       "      <td>0.153939</td>\n",
       "      <td>0.918354</td>\n",
       "      <td>0.700000</td>\n",
       "      <td>20540.0</td>\n",
       "      <td>69170.0</td>\n",
       "    </tr>\n",
       "  </tbody>\n",
       "</table>\n",
       "<p>4 rows × 50 columns</p>\n",
       "</div>"
      ],
      "text/plain": [
       "  run_no                       universe_id  \\\n",
       "0     12  c58184faf0c60f9885c5bf5457bc83cb   \n",
       "0     12  c58184faf0c60f9885c5bf5457bc83cb   \n",
       "0     12  c58184faf0c60f9885c5bf5457bc83cb   \n",
       "0     12  c58184faf0c60f9885c5bf5457bc83cb   \n",
       "\n",
       "                                   universe_settings  execution_time  \\\n",
       "0  {\"cutoff\": \"quantile_0.1\", \"eval_fairness_grou...       26.674141   \n",
       "0  {\"cutoff\": \"quantile_0.1\", \"eval_fairness_grou...       26.674141   \n",
       "0  {\"cutoff\": \"quantile_0.25\", \"eval_fairness_gro...       26.674141   \n",
       "0  {\"cutoff\": \"quantile_0.25\", \"eval_fairness_gro...       26.674141   \n",
       "\n",
       "   test_size_n  test_size_frac  fair_main_equalized_odds_difference  \\\n",
       "0        89710             1.0                             0.100571   \n",
       "0        89710             1.0                             0.100571   \n",
       "0        89710             1.0                             0.235952   \n",
       "0        89710             1.0                             0.235952   \n",
       "\n",
       "   fair_main_equalized_odds_ratio  fair_main_demographic_parity_difference  \\\n",
       "0                        0.896255                                 0.092567   \n",
       "0                        0.896255                                 0.092567   \n",
       "0                        0.741766                                 0.218354   \n",
       "0                        0.741766                                 0.218354   \n",
       "\n",
       "   fair_main_demographic_parity_ratio  ...  perf_grp_precision_0  \\\n",
       "0                            0.904705  ...                   NaN   \n",
       "0                            0.904705  ...              0.117081   \n",
       "0                            0.762233  ...                   NaN   \n",
       "0                            0.762233  ...              0.119758   \n",
       "\n",
       "   perf_grp_precision_1  perf_grp_false positive rate_0  \\\n",
       "0                   NaN                             NaN   \n",
       "0              0.141988                        0.969403   \n",
       "0                   NaN                             NaN   \n",
       "0              0.159710                        0.913713   \n",
       "\n",
       "   perf_grp_false positive rate_1  perf_grp_false negative rate_0  \\\n",
       "0                             NaN                             NaN   \n",
       "0                        0.868832                        0.013514   \n",
       "0                             NaN                             NaN   \n",
       "0                        0.677761                        0.046030   \n",
       "\n",
       "   perf_grp_false negative rate_1  perf_grp_selection rate_0  \\\n",
       "0                             NaN                        NaN   \n",
       "0                        0.055689                   0.971373   \n",
       "0                             NaN                        NaN   \n",
       "0                        0.153939                   0.918354   \n",
       "\n",
       "   perf_grp_selection rate_1  perf_grp_count_0  perf_grp_count_1  \n",
       "0                        NaN               NaN               NaN  \n",
       "0                   0.878806           20540.0           69170.0  \n",
       "0                        NaN               NaN               NaN  \n",
       "0                   0.700000           20540.0           69170.0  \n",
       "\n",
       "[4 rows x 50 columns]"
      ]
     },
     "execution_count": 79,
     "metadata": {},
     "output_type": "execute_result"
    }
   ],
   "source": [
    "final_output = universe_analysis.generate_final_output(\n",
    "    y_pred_prob=probs_test,\n",
    "    y_test=y_true,\n",
    "    org_test=org_test,\n",
    "    filter_data=filter_sub_universe_data,\n",
    "    cp_metrics_df=cp_metrics_df,\n",
    "    save=True,\n",
    ")\n",
    "final_output"
   ]
  },
  {
   "cell_type": "code",
   "execution_count": null,
   "id": "721ff514-cb11-46f8-b6fc-50392f74b5cb",
   "metadata": {
    "papermill": {
     "duration": 0.028784,
     "end_time": "2025-07-30T12:54:08.516697",
     "exception": false,
     "start_time": "2025-07-30T12:54:08.487913",
     "status": "completed"
    },
    "tags": []
   },
   "outputs": [],
   "source": []
  }
 ],
 "metadata": {
  "celltoolbar": "Tags",
  "kernelspec": {
   "display_name": "Python (CMA Fairness)",
   "language": "python",
   "name": "cma_fair_env"
  },
  "language_info": {
   "codemirror_mode": {
    "name": "ipython",
    "version": 3
   },
   "file_extension": ".py",
   "mimetype": "text/x-python",
   "name": "python",
   "nbconvert_exporter": "python",
   "pygments_lexer": "ipython3",
   "version": "3.10.12"
  },
  "papermill": {
   "default_parameters": {},
   "duration": 40.842522,
   "end_time": "2025-07-30T12:54:09.366400",
   "environment_variables": {},
   "exception": null,
   "input_path": "universe_analysis.ipynb",
   "output_path": "output/runs/12/notebooks/m_12-c58184faf0c60f9885c5bf5457bc83cb.ipynb",
   "parameters": {
    "output_dir": "output",
    "run_no": "12",
    "seed": "2023",
    "universe": "{\"cutoff\": [\"quantile_0.1\", \"quantile_0.25\"], \"eval_fairness_grouping\": [\"majority-minority\", \"nationality-all\"], \"exclude_features\": \"age\", \"exclude_subgroups\": \"keep-all\", \"model\": \"logreg\", \"scale\": \"do-not-scale\", \"training_size\": \"25k\", \"training_year\": \"2014\"}",
    "universe_id": "c58184faf0c60f9885c5bf5457bc83cb"
   },
   "start_time": "2025-07-30T12:53:28.523878",
   "version": "2.6.0"
  }
 },
 "nbformat": 4,
 "nbformat_minor": 5
}