{
 "cells": [
  {
   "cell_type": "code",
   "execution_count": 1,
   "id": "f159f837-637b-42ba-96b5-ec9a68c44524",
   "metadata": {
    "execution": {
     "iopub.execute_input": "2025-07-30T13:09:44.600928Z",
     "iopub.status.busy": "2025-07-30T13:09:44.600504Z",
     "iopub.status.idle": "2025-07-30T13:09:44.613073Z",
     "shell.execute_reply": "2025-07-30T13:09:44.612132Z"
    },
    "papermill": {
     "duration": 0.027488,
     "end_time": "2025-07-30T13:09:44.615240",
     "exception": false,
     "start_time": "2025-07-30T13:09:44.587752",
     "status": "completed"
    },
    "tags": []
   },
   "outputs": [
    {
     "name": "stdout",
     "output_type": "stream",
     "text": [
      "/dss/dsshome1/0C/ra93lal2/cma/CMA_Fairness_v2\n"
     ]
    },
    {
     "name": "stderr",
     "output_type": "stream",
     "text": [
      "/dss/dsshome1/0C/ra93lal2/.local/share/virtualenvs/CMA_Fairness_v2-3j10GkSs/lib/python3.10/site-packages/IPython/core/magics/osm.py:393: UserWarning: This is now an optional IPython functionality, using bookmarks requires you to install the `pickleshare` library.\n",
      "  bkms = self.shell.db.get('bookmarks', {})\n",
      "/dss/dsshome1/0C/ra93lal2/.local/share/virtualenvs/CMA_Fairness_v2-3j10GkSs/lib/python3.10/site-packages/IPython/core/magics/osm.py:417: UserWarning: This is now an optional IPython functionality, setting dhist requires you to install the `pickleshare` library.\n",
      "  self.shell.db['dhist'] = compress_dhist(dhist)[-100:]\n"
     ]
    }
   ],
   "source": [
    "%cd ~/cma/CMA_Fairness_v2"
   ]
  },
  {
   "cell_type": "markdown",
   "id": "de2603b9",
   "metadata": {
    "papermill": {
     "duration": 0.01006,
     "end_time": "2025-07-30T13:09:44.643849",
     "exception": false,
     "start_time": "2025-07-30T13:09:44.633789",
     "status": "completed"
    },
    "tags": []
   },
   "source": [
    "The following cell holds the definition of our parameters, these values can be overriden by rendering the with e.g. the following command:\n",
    "\n",
    "papermill -p alpha 0.2 -p ratio 0.3 universe_analysis.ipynb output/test_run.ipynb"
   ]
  },
  {
   "cell_type": "code",
   "execution_count": 2,
   "id": "a80968a0-40bb-4fa9-85ef-2d5eefb01975",
   "metadata": {
    "execution": {
     "iopub.execute_input": "2025-07-30T13:09:44.665480Z",
     "iopub.status.busy": "2025-07-30T13:09:44.665117Z",
     "iopub.status.idle": "2025-07-30T13:09:44.670012Z",
     "shell.execute_reply": "2025-07-30T13:09:44.669164Z"
    },
    "papermill": {
     "duration": 0.017314,
     "end_time": "2025-07-30T13:09:44.671420",
     "exception": false,
     "start_time": "2025-07-30T13:09:44.654106",
     "status": "completed"
    },
    "tags": []
   },
   "outputs": [
    {
     "name": "stdout",
     "output_type": "stream",
     "text": [
      "Current working directory: /dss/dsshome1/0C/ra93lal2/cma/CMA_Fairness_v2\n"
     ]
    }
   ],
   "source": [
    "import os\n",
    "print(\"Current working directory:\", os.getcwd())"
   ]
  },
  {
   "cell_type": "code",
   "execution_count": 3,
   "id": "2dce4c03",
   "metadata": {
    "execution": {
     "iopub.execute_input": "2025-07-30T13:09:44.696578Z",
     "iopub.status.busy": "2025-07-30T13:09:44.696131Z",
     "iopub.status.idle": "2025-07-30T13:09:44.701025Z",
     "shell.execute_reply": "2025-07-30T13:09:44.700244Z"
    },
    "papermill": {
     "duration": 0.020518,
     "end_time": "2025-07-30T13:09:44.702341",
     "exception": false,
     "start_time": "2025-07-30T13:09:44.681823",
     "status": "completed"
    },
    "tags": [
     "parameters"
    ]
   },
   "outputs": [],
   "source": [
    "run_no = 0\n",
    "universe_id = \"test\"\n",
    "universe = {\n",
    "    \"training_size\": \"25k\", # \"25k\", \"5k\", \"1k\"\n",
    "    \"training_year\": \"2014\", # \"2014\", \"2012_14\", \"2010_14\"\n",
    "    \"scale\": \"scale\", # \"scale\", \"do-not-scale\",\n",
    "    #\"stratify_split\": \"target\", # \"none\", \"target\", \"protected-attribute\", \"both\",\n",
    "    \"model\": \"elasticnet\", # \"logreg\", \"penalized_logreg\", \"rf\", \"gbm\", \"elasticnet\"\n",
    "    \"cutoff\": [\"quantile_0.15\", \"quantile_0.30\"],\n",
    "    \"exclude_features\": \"age\", # \"none\", \"nationality\", \"sex\", \"nationality-sex\", \"age\"\n",
    "    \"exclude_subgroups\": \"keep-all\", # \"keep-all\", \"drop-non-german\"\n",
    "    \"eval_fairness_grouping\": [\"majority-minority\", \"nationality-all\"]\n",
    "}\n",
    "\n",
    "output_dir=\"./output\"\n",
    "seed=0"
   ]
  },
  {
   "cell_type": "code",
   "execution_count": 4,
   "id": "b6648dc4",
   "metadata": {
    "execution": {
     "iopub.execute_input": "2025-07-30T13:09:44.725089Z",
     "iopub.status.busy": "2025-07-30T13:09:44.724758Z",
     "iopub.status.idle": "2025-07-30T13:09:44.728956Z",
     "shell.execute_reply": "2025-07-30T13:09:44.728083Z"
    },
    "papermill": {
     "duration": 0.016767,
     "end_time": "2025-07-30T13:09:44.730280",
     "exception": false,
     "start_time": "2025-07-30T13:09:44.713513",
     "status": "completed"
    },
    "tags": [
     "injected-parameters"
    ]
   },
   "outputs": [],
   "source": [
    "# Parameters\n",
    "universe_id = \"555b8a20cedd6a1c7ba8e4809b67955f\"\n",
    "run_no = \"12\"\n",
    "universe = \"{\\\"cutoff\\\": [\\\"quantile_0.1\\\", \\\"quantile_0.25\\\"], \\\"eval_fairness_grouping\\\": [\\\"majority-minority\\\", \\\"nationality-all\\\"], \\\"exclude_features\\\": \\\"none\\\", \\\"exclude_subgroups\\\": \\\"keep-all\\\", \\\"model\\\": \\\"elasticnet\\\", \\\"scale\\\": \\\"scale\\\", \\\"training_size\\\": \\\"25k\\\", \\\"training_year\\\": \\\"2012_14\\\"}\"\n",
    "output_dir = \"output\"\n",
    "seed = \"2023\"\n"
   ]
  },
  {
   "cell_type": "code",
   "execution_count": 5,
   "id": "1650acaf",
   "metadata": {
    "execution": {
     "iopub.execute_input": "2025-07-30T13:09:44.752930Z",
     "iopub.status.busy": "2025-07-30T13:09:44.752245Z",
     "iopub.status.idle": "2025-07-30T13:09:44.757385Z",
     "shell.execute_reply": "2025-07-30T13:09:44.756230Z"
    },
    "papermill": {
     "duration": 0.018665,
     "end_time": "2025-07-30T13:09:44.759792",
     "exception": false,
     "start_time": "2025-07-30T13:09:44.741127",
     "status": "completed"
    },
    "tags": []
   },
   "outputs": [],
   "source": [
    "import json\n",
    "# Parse universe into dict if it is passed as a string\n",
    "if isinstance(universe, str):\n",
    "    universe = json.loads(universe)"
   ]
  },
  {
   "cell_type": "code",
   "execution_count": 6,
   "id": "16620c48",
   "metadata": {
    "execution": {
     "iopub.execute_input": "2025-07-30T13:09:44.802280Z",
     "iopub.status.busy": "2025-07-30T13:09:44.801810Z",
     "iopub.status.idle": "2025-07-30T13:09:44.847002Z",
     "shell.execute_reply": "2025-07-30T13:09:44.846048Z"
    },
    "papermill": {
     "duration": 0.06983,
     "end_time": "2025-07-30T13:09:44.849062",
     "exception": false,
     "start_time": "2025-07-30T13:09:44.779232",
     "status": "completed"
    },
    "tags": []
   },
   "outputs": [],
   "source": [
    "# Auto-reload the custom package\n",
    "%load_ext autoreload\n",
    "%autoreload 1\n",
    "%aimport fairness_multiverse"
   ]
  },
  {
   "cell_type": "code",
   "execution_count": 7,
   "id": "01c5c9f3",
   "metadata": {
    "execution": {
     "iopub.execute_input": "2025-07-30T13:09:44.893316Z",
     "iopub.status.busy": "2025-07-30T13:09:44.892634Z",
     "iopub.status.idle": "2025-07-30T13:09:46.223662Z",
     "shell.execute_reply": "2025-07-30T13:09:46.222794Z"
    },
    "papermill": {
     "duration": 1.35554,
     "end_time": "2025-07-30T13:09:46.225283",
     "exception": false,
     "start_time": "2025-07-30T13:09:44.869743",
     "status": "completed"
    },
    "tags": []
   },
   "outputs": [],
   "source": [
    "from fairness_multiverse.universe import UniverseAnalysis\n",
    "\n",
    "universe_analysis = UniverseAnalysis(\n",
    "    run_no = run_no,\n",
    "    universe_id = universe_id,\n",
    "    universe = universe,\n",
    "    output_dir=output_dir,\n",
    ")"
   ]
  },
  {
   "cell_type": "code",
   "execution_count": 8,
   "id": "106241f5",
   "metadata": {
    "execution": {
     "iopub.execute_input": "2025-07-30T13:09:46.247662Z",
     "iopub.status.busy": "2025-07-30T13:09:46.247348Z",
     "iopub.status.idle": "2025-07-30T13:09:46.253131Z",
     "shell.execute_reply": "2025-07-30T13:09:46.252314Z"
    },
    "papermill": {
     "duration": 0.017809,
     "end_time": "2025-07-30T13:09:46.254488",
     "exception": false,
     "start_time": "2025-07-30T13:09:46.236679",
     "status": "completed"
    },
    "tags": []
   },
   "outputs": [
    {
     "name": "stdout",
     "output_type": "stream",
     "text": [
      "Using Seed: 2023\n"
     ]
    }
   ],
   "source": [
    "import numpy as np\n",
    "parsed_seed = int(seed)\n",
    "np.random.seed(parsed_seed)\n",
    "print(f\"Using Seed: {parsed_seed}\")"
   ]
  },
  {
   "cell_type": "markdown",
   "id": "e0ebdc57",
   "metadata": {
    "papermill": {
     "duration": 0.010115,
     "end_time": "2025-07-30T13:09:46.275490",
     "exception": false,
     "start_time": "2025-07-30T13:09:46.265375",
     "status": "completed"
    },
    "tags": []
   },
   "source": [
    "# Loading Data"
   ]
  },
  {
   "cell_type": "markdown",
   "id": "681925a3",
   "metadata": {
    "papermill": {
     "duration": 0.009916,
     "end_time": "2025-07-30T13:09:46.295503",
     "exception": false,
     "start_time": "2025-07-30T13:09:46.285587",
     "status": "completed"
    },
    "tags": []
   },
   "source": [
    "Load siab_train, siab_test, siab_calib and/or \n",
    "load siab_train_features, siab_train_labels"
   ]
  },
  {
   "cell_type": "code",
   "execution_count": 9,
   "id": "f0496b8a",
   "metadata": {
    "execution": {
     "iopub.execute_input": "2025-07-30T13:09:46.316983Z",
     "iopub.status.busy": "2025-07-30T13:09:46.316496Z",
     "iopub.status.idle": "2025-07-30T13:09:58.040018Z",
     "shell.execute_reply": "2025-07-30T13:09:58.039025Z"
    },
    "papermill": {
     "duration": 11.735758,
     "end_time": "2025-07-30T13:09:58.041340",
     "exception": false,
     "start_time": "2025-07-30T13:09:46.305582",
     "status": "completed"
    },
    "tags": []
   },
   "outputs": [
    {
     "name": "stdout",
     "output_type": "stream",
     "text": [
      "Loading SIAB data from cache: data/siab_cached.csv.gz\n"
     ]
    },
    {
     "name": "stdout",
     "output_type": "stream",
     "text": [
      "(643690, 164)\n"
     ]
    }
   ],
   "source": [
    "from pathlib import Path\n",
    "import pandas as pd\n",
    "\n",
    "# File paths\n",
    "raw_file = Path(\"data/raw/siab.csv\")\n",
    "cache_file = Path(\"data/siab_cached.csv.gz\")\n",
    "\n",
    "# Ensure cache directory exists\n",
    "cache_file.parent.mkdir(parents=True, exist_ok=True)\n",
    "\n",
    "# Load with simple caching\n",
    "if cache_file.exists():\n",
    "    print(f\"Loading SIAB data from cache: {cache_file}\")\n",
    "    siab = pd.read_csv(cache_file, compression='gzip')\n",
    "else:\n",
    "    print(f\"Cache not found. Reading raw SIAB data: {raw_file}\")\n",
    "    siab = pd.read_csv(raw_file)\n",
    "    siab.to_csv(cache_file, index=False, compression='gzip')\n",
    "    print(f\"Cached SIAB data to: {cache_file}\")\n",
    "\n",
    "# Now use `siab` DataFrame as needed\n",
    "print(siab.shape)"
   ]
  },
  {
   "cell_type": "code",
   "execution_count": 10,
   "id": "db0ca512-5f53-4dba-abdb-a2888bca41ba",
   "metadata": {
    "execution": {
     "iopub.execute_input": "2025-07-30T13:09:58.066039Z",
     "iopub.status.busy": "2025-07-30T13:09:58.065694Z",
     "iopub.status.idle": "2025-07-30T13:09:58.070219Z",
     "shell.execute_reply": "2025-07-30T13:09:58.069314Z"
    },
    "papermill": {
     "duration": 0.017295,
     "end_time": "2025-07-30T13:09:58.071753",
     "exception": false,
     "start_time": "2025-07-30T13:09:58.054458",
     "status": "completed"
    },
    "tags": []
   },
   "outputs": [],
   "source": [
    "#siab"
   ]
  },
  {
   "cell_type": "code",
   "execution_count": 11,
   "id": "a0edb063",
   "metadata": {
    "execution": {
     "iopub.execute_input": "2025-07-30T13:09:58.114900Z",
     "iopub.status.busy": "2025-07-30T13:09:58.113933Z",
     "iopub.status.idle": "2025-07-30T13:09:58.119289Z",
     "shell.execute_reply": "2025-07-30T13:09:58.118381Z"
    },
    "papermill": {
     "duration": 0.028138,
     "end_time": "2025-07-30T13:09:58.120922",
     "exception": false,
     "start_time": "2025-07-30T13:09:58.092784",
     "status": "completed"
    },
    "tags": []
   },
   "outputs": [],
   "source": [
    "#import pandas as pd\n",
    "#\n",
    "#X_train = pd.read_csv(\"./data/X_train.csv\")\n",
    "#y_train = pd.read_csv(\"./data/y_train.csv\")"
   ]
  },
  {
   "cell_type": "code",
   "execution_count": 12,
   "id": "63d08085",
   "metadata": {
    "execution": {
     "iopub.execute_input": "2025-07-30T13:09:58.163239Z",
     "iopub.status.busy": "2025-07-30T13:09:58.162570Z",
     "iopub.status.idle": "2025-07-30T13:09:58.167512Z",
     "shell.execute_reply": "2025-07-30T13:09:58.166576Z"
    },
    "papermill": {
     "duration": 0.02778,
     "end_time": "2025-07-30T13:09:58.169176",
     "exception": false,
     "start_time": "2025-07-30T13:09:58.141396",
     "status": "completed"
    },
    "tags": []
   },
   "outputs": [],
   "source": [
    "#X_test = pd.read_csv(\"./data/X_test.csv\")\n",
    "#y_true = pd.read_csv(\"./data/y_test.csv\")"
   ]
  },
  {
   "cell_type": "code",
   "execution_count": 13,
   "id": "98a8d0fa-1d3d-4ed8-bb2c-281470e24add",
   "metadata": {
    "execution": {
     "iopub.execute_input": "2025-07-30T13:09:58.211939Z",
     "iopub.status.busy": "2025-07-30T13:09:58.211198Z",
     "iopub.status.idle": "2025-07-30T13:09:58.216428Z",
     "shell.execute_reply": "2025-07-30T13:09:58.215439Z"
    },
    "papermill": {
     "duration": 0.028199,
     "end_time": "2025-07-30T13:09:58.217978",
     "exception": false,
     "start_time": "2025-07-30T13:09:58.189779",
     "status": "completed"
    },
    "tags": []
   },
   "outputs": [],
   "source": [
    "# Calibration data for conformal\n",
    "#X_calib = pd.read_csv(\"./data/X_calib.csv\")\n",
    "#y_calib = pd.read_csv(\"./data/y_calib.csv\")"
   ]
  },
  {
   "cell_type": "markdown",
   "id": "997051c5-15bd-4b69-9786-c3001a3ce484",
   "metadata": {
    "papermill": {
     "duration": 0.020652,
     "end_time": "2025-07-30T13:09:58.306327",
     "exception": false,
     "start_time": "2025-07-30T13:09:58.285675",
     "status": "completed"
    },
    "tags": []
   },
   "source": [
    "# Splitting Data and Setting Training Data Size"
   ]
  },
  {
   "cell_type": "code",
   "execution_count": 14,
   "id": "e993b61f-042d-41a6-8c81-f55681f86335",
   "metadata": {
    "execution": {
     "iopub.execute_input": "2025-07-30T13:09:58.349146Z",
     "iopub.status.busy": "2025-07-30T13:09:58.348461Z",
     "iopub.status.idle": "2025-07-30T13:09:58.362827Z",
     "shell.execute_reply": "2025-07-30T13:09:58.361734Z"
    },
    "papermill": {
     "duration": 0.037713,
     "end_time": "2025-07-30T13:09:58.364566",
     "exception": false,
     "start_time": "2025-07-30T13:09:58.326853",
     "status": "completed"
    },
    "tags": []
   },
   "outputs": [],
   "source": [
    "def sample_by_year_size(df,\n",
    "                        training_year: str,\n",
    "                        training_size: str,\n",
    "                        random_state: int = 42):\n",
    "    # --- parse training_year into a list of int years ---\n",
    "    if \"_\" in training_year:\n",
    "        start_str, end_str = training_year.split(\"_\", 1)\n",
    "        start = int(start_str)\n",
    "        end   = int(end_str) if len(end_str) == 4 else (int(end_str) + (start // 100)*100)\n",
    "        years = list(range(start, end + 1))\n",
    "    else:\n",
    "        years = [int(training_year)]\n",
    "\n",
    "    df = df[df[\"year\"].isin(years)].reset_index(drop=True)\n",
    "\n",
    "    # --- map training_size to total number of samples ---\n",
    "    total_map = {\"25k\": 25_000, \"5k\": 5_000, \"1k\": 1_000}\n",
    "    if training_size not in total_map:\n",
    "        return df  # e.g. \"all\"\n",
    "\n",
    "    total_samples = total_map[training_size]\n",
    "    n_years       = len(years)\n",
    "    base          = total_samples // n_years\n",
    "    remainder     = total_samples % n_years\n",
    "\n",
    "    # --- build a dict: year -> how many to sample ---\n",
    "    # give +1 to the first `remainder` years in ascending order\n",
    "    quotas = {\n",
    "        year: base + (1 if idx < remainder else 0)\n",
    "        for idx, year in enumerate(sorted(years))\n",
    "    }\n",
    "\n",
    "    # --- sample per‐year according to the quota dict ---\n",
    "    sampled = (\n",
    "        df\n",
    "        .groupby(\"year\", group_keys=False)\n",
    "        .apply(lambda grp: grp.sample(\n",
    "            n=min(len(grp), quotas[grp.name]),\n",
    "            random_state=random_state))\n",
    "        .reset_index(drop=True)\n",
    "    )\n",
    "\n",
    "    return sampled"
   ]
  },
  {
   "cell_type": "code",
   "execution_count": 15,
   "id": "c0ccd338-0e02-41f3-a09d-f56f9266e3fb",
   "metadata": {
    "execution": {
     "iopub.execute_input": "2025-07-30T13:09:58.409311Z",
     "iopub.status.busy": "2025-07-30T13:09:58.408799Z",
     "iopub.status.idle": "2025-07-30T13:09:58.420603Z",
     "shell.execute_reply": "2025-07-30T13:09:58.419650Z"
    },
    "papermill": {
     "duration": 0.036154,
     "end_time": "2025-07-30T13:09:58.422473",
     "exception": false,
     "start_time": "2025-07-30T13:09:58.386319",
     "status": "completed"
    },
    "tags": []
   },
   "outputs": [
    {
     "data": {
      "text/plain": [
       "'25k'"
      ]
     },
     "execution_count": 15,
     "metadata": {},
     "output_type": "execute_result"
    }
   ],
   "source": [
    "universe[\"training_size\"]"
   ]
  },
  {
   "cell_type": "code",
   "execution_count": 16,
   "id": "ca707fd7-8047-4acd-bfa5-66248fbbf8e6",
   "metadata": {
    "execution": {
     "iopub.execute_input": "2025-07-30T13:09:58.468009Z",
     "iopub.status.busy": "2025-07-30T13:09:58.467334Z",
     "iopub.status.idle": "2025-07-30T13:09:58.475669Z",
     "shell.execute_reply": "2025-07-30T13:09:58.474620Z"
    },
    "papermill": {
     "duration": 0.032997,
     "end_time": "2025-07-30T13:09:58.477402",
     "exception": false,
     "start_time": "2025-07-30T13:09:58.444405",
     "status": "completed"
    },
    "tags": []
   },
   "outputs": [
    {
     "data": {
      "text/plain": [
       "'2012_14'"
      ]
     },
     "execution_count": 16,
     "metadata": {},
     "output_type": "execute_result"
    }
   ],
   "source": [
    "universe[\"training_year\"]"
   ]
  },
  {
   "cell_type": "code",
   "execution_count": 17,
   "id": "aea9c6ef-6f46-42c8-85eb-5a62025c1508",
   "metadata": {
    "execution": {
     "iopub.execute_input": "2025-07-30T13:09:58.524409Z",
     "iopub.status.busy": "2025-07-30T13:09:58.523921Z",
     "iopub.status.idle": "2025-07-30T13:09:59.193022Z",
     "shell.execute_reply": "2025-07-30T13:09:59.191944Z"
    },
    "papermill": {
     "duration": 0.693987,
     "end_time": "2025-07-30T13:09:59.194626",
     "exception": false,
     "start_time": "2025-07-30T13:09:58.500639",
     "status": "completed"
    },
    "tags": []
   },
   "outputs": [],
   "source": [
    "siab_train = sample_by_year_size(siab,\n",
    "                               training_year=universe[\"training_year\"],\n",
    "                               training_size=universe[\"training_size\"])"
   ]
  },
  {
   "cell_type": "code",
   "execution_count": 18,
   "id": "8d3afb32-789d-442c-8d5d-9f5aa8dd2eed",
   "metadata": {
    "execution": {
     "iopub.execute_input": "2025-07-30T13:09:59.239205Z",
     "iopub.status.busy": "2025-07-30T13:09:59.238559Z",
     "iopub.status.idle": "2025-07-30T13:09:59.246008Z",
     "shell.execute_reply": "2025-07-30T13:09:59.245079Z"
    },
    "papermill": {
     "duration": 0.032176,
     "end_time": "2025-07-30T13:09:59.247621",
     "exception": false,
     "start_time": "2025-07-30T13:09:59.215445",
     "status": "completed"
    },
    "tags": []
   },
   "outputs": [
    {
     "data": {
      "text/plain": [
       "(25000, 164)"
      ]
     },
     "execution_count": 18,
     "metadata": {},
     "output_type": "execute_result"
    }
   ],
   "source": [
    "siab_train.shape"
   ]
  },
  {
   "cell_type": "code",
   "execution_count": 19,
   "id": "d582db68-1a4c-47fb-84fc-08518dc1975a",
   "metadata": {
    "execution": {
     "iopub.execute_input": "2025-07-30T13:09:59.285238Z",
     "iopub.status.busy": "2025-07-30T13:09:59.284792Z",
     "iopub.status.idle": "2025-07-30T13:09:59.293817Z",
     "shell.execute_reply": "2025-07-30T13:09:59.292880Z"
    },
    "papermill": {
     "duration": 0.025681,
     "end_time": "2025-07-30T13:09:59.295237",
     "exception": false,
     "start_time": "2025-07-30T13:09:59.269556",
     "status": "completed"
    },
    "tags": []
   },
   "outputs": [
    {
     "data": {
      "text/plain": [
       "year\n",
       "2012    8334\n",
       "2013    8333\n",
       "2014    8333\n",
       "dtype: int64"
      ]
     },
     "metadata": {},
     "output_type": "display_data"
    }
   ],
   "source": [
    "display(siab_train.groupby(\"year\").size())"
   ]
  },
  {
   "cell_type": "code",
   "execution_count": 20,
   "id": "a561edb4-d032-42cb-8256-22eac1111c64",
   "metadata": {
    "execution": {
     "iopub.execute_input": "2025-07-30T13:09:59.319583Z",
     "iopub.status.busy": "2025-07-30T13:09:59.319048Z",
     "iopub.status.idle": "2025-07-30T13:09:59.595441Z",
     "shell.execute_reply": "2025-07-30T13:09:59.594318Z"
    },
    "papermill": {
     "duration": 0.289924,
     "end_time": "2025-07-30T13:09:59.597069",
     "exception": false,
     "start_time": "2025-07-30T13:09:59.307145",
     "status": "completed"
    },
    "tags": []
   },
   "outputs": [],
   "source": [
    "#siab_train = siab_s[siab_s.year < 2015]\n",
    "siab_calib = siab[siab.year == 2015]\n",
    "siab_test = siab[siab.year == 2016]"
   ]
  },
  {
   "cell_type": "code",
   "execution_count": 21,
   "id": "472de16f-c3db-4916-846b-1f0de9cf1746",
   "metadata": {
    "execution": {
     "iopub.execute_input": "2025-07-30T13:09:59.648302Z",
     "iopub.status.busy": "2025-07-30T13:09:59.647824Z",
     "iopub.status.idle": "2025-07-30T13:09:59.665268Z",
     "shell.execute_reply": "2025-07-30T13:09:59.664383Z"
    },
    "papermill": {
     "duration": 0.046366,
     "end_time": "2025-07-30T13:09:59.666858",
     "exception": false,
     "start_time": "2025-07-30T13:09:59.620492",
     "status": "completed"
    },
    "tags": []
   },
   "outputs": [],
   "source": [
    "X_train = siab_train.iloc[:,4:164]\n",
    "y_train = siab_train.iloc[:, [3]]"
   ]
  },
  {
   "cell_type": "code",
   "execution_count": 22,
   "id": "828c96af-f43a-4ed6-ba47-8ac73a47d56c",
   "metadata": {
    "execution": {
     "iopub.execute_input": "2025-07-30T13:09:59.716647Z",
     "iopub.status.busy": "2025-07-30T13:09:59.715656Z",
     "iopub.status.idle": "2025-07-30T13:09:59.755473Z",
     "shell.execute_reply": "2025-07-30T13:09:59.754361Z"
    },
    "papermill": {
     "duration": 0.066821,
     "end_time": "2025-07-30T13:09:59.757583",
     "exception": false,
     "start_time": "2025-07-30T13:09:59.690762",
     "status": "completed"
    },
    "tags": []
   },
   "outputs": [],
   "source": [
    "X_calib = siab_calib.iloc[:,4:164]\n",
    "y_calib = siab_calib.iloc[:, [3]]"
   ]
  },
  {
   "cell_type": "code",
   "execution_count": 23,
   "id": "c34be9c3-6bd6-476e-acd3-845840e303be",
   "metadata": {
    "execution": {
     "iopub.execute_input": "2025-07-30T13:09:59.810104Z",
     "iopub.status.busy": "2025-07-30T13:09:59.809558Z",
     "iopub.status.idle": "2025-07-30T13:09:59.872980Z",
     "shell.execute_reply": "2025-07-30T13:09:59.871824Z"
    },
    "papermill": {
     "duration": 0.090413,
     "end_time": "2025-07-30T13:09:59.874730",
     "exception": false,
     "start_time": "2025-07-30T13:09:59.784317",
     "status": "completed"
    },
    "tags": []
   },
   "outputs": [],
   "source": [
    "X_test = siab_test.iloc[:,4:164]\n",
    "y_true = siab_test.iloc[:, [3]]"
   ]
  },
  {
   "cell_type": "markdown",
   "id": "9901737e-04df-44f0-9100-f5ad144ed040",
   "metadata": {
    "papermill": {
     "duration": 0.022688,
     "end_time": "2025-07-30T13:09:59.921105",
     "exception": false,
     "start_time": "2025-07-30T13:09:59.898417",
     "status": "completed"
    },
    "tags": []
   },
   "source": [
    "# Splitting Data and Setting Training Data Size OLD VERSION"
   ]
  },
  {
   "cell_type": "code",
   "execution_count": 24,
   "id": "acbc8f7d-8fc8-4e86-8c59-5dcb0f58384b",
   "metadata": {
    "execution": {
     "iopub.execute_input": "2025-07-30T13:09:59.968553Z",
     "iopub.status.busy": "2025-07-30T13:09:59.967662Z",
     "iopub.status.idle": "2025-07-30T13:09:59.973572Z",
     "shell.execute_reply": "2025-07-30T13:09:59.972641Z"
    },
    "papermill": {
     "duration": 0.031694,
     "end_time": "2025-07-30T13:09:59.975285",
     "exception": false,
     "start_time": "2025-07-30T13:09:59.943591",
     "status": "completed"
    },
    "tags": []
   },
   "outputs": [],
   "source": [
    "#def sample_by_year(df, training_size, random_state=42):\n",
    "#    if training_size == \"2014\":\n",
    "#        return df[df[\"year\"] == 2014].reset_index(drop=True)\n",
    "#    \n",
    "#    size_map = {\n",
    "#        \"25k\": 5000,\n",
    "#        \"5k\": 1000,\n",
    "#        \"1k\": 200\n",
    "#    }\n",
    "#\n",
    "#    if training_size not in size_map:\n",
    "#        return df.reset_index(drop=True)  # use all data\n",
    "#\n",
    "#    n_per_year = size_map[training_size]\n",
    "#    grouped = df.groupby(\"year\")\n",
    "#    sampled = grouped.apply(lambda x: x.sample(n=min(n_per_year, len(x)), random_state=random_state))\n",
    "#    return sampled.reset_index(drop=True)"
   ]
  },
  {
   "cell_type": "code",
   "execution_count": 25,
   "id": "6d931f52-beaf-43ff-9e78-9d44a448d54e",
   "metadata": {
    "execution": {
     "iopub.execute_input": "2025-07-30T13:10:00.022579Z",
     "iopub.status.busy": "2025-07-30T13:10:00.022075Z",
     "iopub.status.idle": "2025-07-30T13:10:00.028693Z",
     "shell.execute_reply": "2025-07-30T13:10:00.027575Z"
    },
    "papermill": {
     "duration": 0.032319,
     "end_time": "2025-07-30T13:10:00.030233",
     "exception": false,
     "start_time": "2025-07-30T13:09:59.997914",
     "status": "completed"
    },
    "tags": []
   },
   "outputs": [],
   "source": [
    "#siab_s = sample_by_year(siab, universe[\"training_size\"])"
   ]
  },
  {
   "cell_type": "code",
   "execution_count": 26,
   "id": "5db0a40e-a4e2-4920-be85-b12ae061d70d",
   "metadata": {
    "execution": {
     "iopub.execute_input": "2025-07-30T13:10:00.079673Z",
     "iopub.status.busy": "2025-07-30T13:10:00.079115Z",
     "iopub.status.idle": "2025-07-30T13:10:00.084580Z",
     "shell.execute_reply": "2025-07-30T13:10:00.083604Z"
    },
    "papermill": {
     "duration": 0.032144,
     "end_time": "2025-07-30T13:10:00.086237",
     "exception": false,
     "start_time": "2025-07-30T13:10:00.054093",
     "status": "completed"
    },
    "tags": []
   },
   "outputs": [],
   "source": [
    "#display(siab_s.groupby(\"year\").size())"
   ]
  },
  {
   "cell_type": "code",
   "execution_count": 27,
   "id": "e6c733c5",
   "metadata": {
    "execution": {
     "iopub.execute_input": "2025-07-30T13:10:00.135086Z",
     "iopub.status.busy": "2025-07-30T13:10:00.134708Z",
     "iopub.status.idle": "2025-07-30T13:10:00.232753Z",
     "shell.execute_reply": "2025-07-30T13:10:00.231886Z"
    },
    "papermill": {
     "duration": 0.124378,
     "end_time": "2025-07-30T13:10:00.234577",
     "exception": false,
     "start_time": "2025-07-30T13:10:00.110199",
     "status": "completed"
    },
    "tags": []
   },
   "outputs": [],
   "source": [
    "# Auxiliary data needed downstream in the pipeline\n",
    "\n",
    "org_train = X_train.copy()\n",
    "org_test = X_test.copy()\n",
    "org_calib = X_calib.copy()"
   ]
  },
  {
   "cell_type": "code",
   "execution_count": 28,
   "id": "1466abac-c6da-4492-a62f-4240ae3783af",
   "metadata": {
    "execution": {
     "iopub.execute_input": "2025-07-30T13:10:00.279565Z",
     "iopub.status.busy": "2025-07-30T13:10:00.279231Z",
     "iopub.status.idle": "2025-07-30T13:10:00.283290Z",
     "shell.execute_reply": "2025-07-30T13:10:00.282645Z"
    },
    "papermill": {
     "duration": 0.027901,
     "end_time": "2025-07-30T13:10:00.284774",
     "exception": false,
     "start_time": "2025-07-30T13:10:00.256873",
     "status": "completed"
    },
    "tags": []
   },
   "outputs": [],
   "source": [
    "# put in other script?\n",
    "# Group sizes\n",
    "\n",
    "#def calculate_percentages(df, df_name):\n",
    "#    total_entries = len(df)\n",
    "#\n",
    "#    female_pct = (df['frau1'] == 1).mean() * 100\n",
    "#    non_german_pct = ((df['maxdeutsch1'] == 0) & (df['maxdeutsch.Missing.'] == 0)).mean() * 100\n",
    "#    non_german_male_pct = ((df['frau1'] == 0) & (df['maxdeutsch1'] == 0) & (df['maxdeutsch.Missing.'] == 0)).mean() * 100\n",
    "#    non_german_female_pct = ((df['frau1'] == 1) & (df['maxdeutsch1'] == 0) & (df['maxdeutsch.Missing.'] == 0)).mean() * 100\n",
    "#\n",
    "#    print(f\"--- {df_name} ---\")\n",
    "#    print(f\"Female: {female_pct:.2f}%\")\n",
    "#    print(f\"Non-German: {non_german_pct:.2f}%\")\n",
    "#    print(f\"Non-German Male: {non_german_male_pct:.2f}%\")\n",
    "#    print(f\"Non-German Female: {non_german_female_pct:.2f}%\\n\")\n",
    "#\n",
    "## Calculate for each DataFrame\n",
    "#calculate_percentages(siab_calib, \"siab_calib\")\n",
    "#calculate_percentages(siab_test, \"siab_test\")\n",
    "#calculate_percentages(siab_train, \"siab_train\")"
   ]
  },
  {
   "cell_type": "markdown",
   "id": "0a4a1b33",
   "metadata": {
    "papermill": {
     "duration": 0.021481,
     "end_time": "2025-07-30T13:10:00.328276",
     "exception": false,
     "start_time": "2025-07-30T13:10:00.306795",
     "status": "completed"
    },
    "tags": []
   },
   "source": [
    "# Preprocessing Data"
   ]
  },
  {
   "cell_type": "code",
   "execution_count": 29,
   "id": "ca879031",
   "metadata": {
    "execution": {
     "iopub.execute_input": "2025-07-30T13:10:00.373318Z",
     "iopub.status.busy": "2025-07-30T13:10:00.372780Z",
     "iopub.status.idle": "2025-07-30T13:10:00.379117Z",
     "shell.execute_reply": "2025-07-30T13:10:00.378172Z"
    },
    "papermill": {
     "duration": 0.031171,
     "end_time": "2025-07-30T13:10:00.380788",
     "exception": false,
     "start_time": "2025-07-30T13:10:00.349617",
     "status": "completed"
    },
    "tags": []
   },
   "outputs": [],
   "source": [
    "# EXCLUDE PROTECTED FEATURES\n",
    "# ----------------------\n",
    "# \"exclude_features\": \"none\", # \"nationality\", \"sex\", \"nationality-sex\"\n",
    "\n",
    "excluded_features = universe[\"exclude_features\"].split(\"-\") # split, e.g.: \"nationality-sex\" -> [\"nationality\", \"sex\"]\n",
    "excluded_features_dictionary = {\n",
    "    \"nationality\": [\"maxdeutsch1\", \"maxdeutsch.Missing.\"],\n",
    "    \"sex\": [\"frau1\"],\n",
    "    \"age\": [\"age\"],\n",
    "}\n"
   ]
  },
  {
   "cell_type": "code",
   "execution_count": 30,
   "id": "b745ac60",
   "metadata": {
    "execution": {
     "iopub.execute_input": "2025-07-30T13:10:00.429072Z",
     "iopub.status.busy": "2025-07-30T13:10:00.428208Z",
     "iopub.status.idle": "2025-07-30T13:10:00.434048Z",
     "shell.execute_reply": "2025-07-30T13:10:00.433224Z"
    },
    "papermill": {
     "duration": 0.031336,
     "end_time": "2025-07-30T13:10:00.435822",
     "exception": false,
     "start_time": "2025-07-30T13:10:00.404486",
     "status": "completed"
    },
    "tags": []
   },
   "outputs": [],
   "source": [
    "# Code nice names to column names\n",
    "\n",
    "excluded_features_columns = [\n",
    "    excluded_features_dictionary[f] for f in excluded_features if len(f) > 0 and f != \"none\"\n",
    "]"
   ]
  },
  {
   "cell_type": "code",
   "execution_count": 31,
   "id": "f84f73a2",
   "metadata": {
    "execution": {
     "iopub.execute_input": "2025-07-30T13:10:00.482009Z",
     "iopub.status.busy": "2025-07-30T13:10:00.481657Z",
     "iopub.status.idle": "2025-07-30T13:10:00.488193Z",
     "shell.execute_reply": "2025-07-30T13:10:00.487253Z"
    },
    "papermill": {
     "duration": 0.031084,
     "end_time": "2025-07-30T13:10:00.489931",
     "exception": false,
     "start_time": "2025-07-30T13:10:00.458847",
     "status": "completed"
    },
    "tags": []
   },
   "outputs": [],
   "source": [
    "from utils import flatten_once\n",
    "\n",
    "excluded_features_columns = flatten_once(excluded_features_columns)"
   ]
  },
  {
   "cell_type": "code",
   "execution_count": 32,
   "id": "884dea22",
   "metadata": {
    "execution": {
     "iopub.execute_input": "2025-07-30T13:10:00.540219Z",
     "iopub.status.busy": "2025-07-30T13:10:00.539425Z",
     "iopub.status.idle": "2025-07-30T13:10:00.545881Z",
     "shell.execute_reply": "2025-07-30T13:10:00.544651Z"
    },
    "papermill": {
     "duration": 0.035848,
     "end_time": "2025-07-30T13:10:00.549817",
     "exception": false,
     "start_time": "2025-07-30T13:10:00.513969",
     "status": "completed"
    },
    "tags": []
   },
   "outputs": [],
   "source": [
    "if len(excluded_features_columns) > 0:\n",
    "    print(f\"Dropping features: {excluded_features_columns}\")\n",
    "    X_train.drop(excluded_features_columns, axis=1, inplace=True)"
   ]
  },
  {
   "cell_type": "code",
   "execution_count": 33,
   "id": "95ab8b16",
   "metadata": {
    "execution": {
     "iopub.execute_input": "2025-07-30T13:10:00.602269Z",
     "iopub.status.busy": "2025-07-30T13:10:00.601672Z",
     "iopub.status.idle": "2025-07-30T13:10:00.609288Z",
     "shell.execute_reply": "2025-07-30T13:10:00.607514Z"
    },
    "papermill": {
     "duration": 0.035802,
     "end_time": "2025-07-30T13:10:00.610943",
     "exception": false,
     "start_time": "2025-07-30T13:10:00.575141",
     "status": "completed"
    },
    "tags": []
   },
   "outputs": [],
   "source": [
    "if len(excluded_features_columns) > 0:\n",
    "    print(f\"Dropping features: {excluded_features_columns}\")\n",
    "    X_test.drop(excluded_features_columns, axis=1, inplace=True)"
   ]
  },
  {
   "cell_type": "code",
   "execution_count": 34,
   "id": "1853aaf5-fb9f-46cb-a2b5-8ea4ae2237e4",
   "metadata": {
    "execution": {
     "iopub.execute_input": "2025-07-30T13:10:00.660264Z",
     "iopub.status.busy": "2025-07-30T13:10:00.659453Z",
     "iopub.status.idle": "2025-07-30T13:10:00.666079Z",
     "shell.execute_reply": "2025-07-30T13:10:00.664923Z"
    },
    "papermill": {
     "duration": 0.032279,
     "end_time": "2025-07-30T13:10:00.667804",
     "exception": false,
     "start_time": "2025-07-30T13:10:00.635525",
     "status": "completed"
    },
    "tags": []
   },
   "outputs": [],
   "source": [
    "if len(excluded_features_columns) > 0:\n",
    "    print(f\"Dropping features: {excluded_features_columns}\")\n",
    "    X_calib.drop(excluded_features_columns, axis=1, inplace=True)"
   ]
  },
  {
   "cell_type": "code",
   "execution_count": 35,
   "id": "6727d079-03e5-481e-9d38-292a90b7a0a8",
   "metadata": {
    "execution": {
     "iopub.execute_input": "2025-07-30T13:10:00.718130Z",
     "iopub.status.busy": "2025-07-30T13:10:00.717206Z",
     "iopub.status.idle": "2025-07-30T13:10:00.722615Z",
     "shell.execute_reply": "2025-07-30T13:10:00.721634Z"
    },
    "papermill": {
     "duration": 0.031985,
     "end_time": "2025-07-30T13:10:00.724364",
     "exception": false,
     "start_time": "2025-07-30T13:10:00.692379",
     "status": "completed"
    },
    "tags": []
   },
   "outputs": [],
   "source": [
    "# SPLIT & STRATIFY DATA\n",
    "# ----------------------"
   ]
  },
  {
   "cell_type": "code",
   "execution_count": 36,
   "id": "76c4dc6d",
   "metadata": {
    "execution": {
     "iopub.execute_input": "2025-07-30T13:10:00.773904Z",
     "iopub.status.busy": "2025-07-30T13:10:00.773035Z",
     "iopub.status.idle": "2025-07-30T13:10:00.778690Z",
     "shell.execute_reply": "2025-07-30T13:10:00.777811Z"
    },
    "papermill": {
     "duration": 0.031975,
     "end_time": "2025-07-30T13:10:00.780319",
     "exception": false,
     "start_time": "2025-07-30T13:10:00.748344",
     "status": "completed"
    },
    "tags": []
   },
   "outputs": [],
   "source": [
    "# EXCLUDE CERTAIN SUBGROUPS\n",
    "# ----------------------\n",
    "\n",
    "mode = universe.get(\"exclude_subgroups\", \"keep-all\") \n",
    "# Fetches the exclude_subgroups setting from the universe dict.\n",
    "# Defaults to \"keep-all\" if the key is missing."
   ]
  },
  {
   "cell_type": "code",
   "execution_count": 37,
   "id": "21994072",
   "metadata": {
    "execution": {
     "iopub.execute_input": "2025-07-30T13:10:00.830534Z",
     "iopub.status.busy": "2025-07-30T13:10:00.829798Z",
     "iopub.status.idle": "2025-07-30T13:10:00.837088Z",
     "shell.execute_reply": "2025-07-30T13:10:00.836125Z"
    },
    "papermill": {
     "duration": 0.035802,
     "end_time": "2025-07-30T13:10:00.839081",
     "exception": false,
     "start_time": "2025-07-30T13:10:00.803279",
     "status": "completed"
    },
    "tags": []
   },
   "outputs": [],
   "source": [
    "if mode == \"keep-all\":\n",
    "    keep_mask = pd.Series(True, index=org_train.index)\n",
    "\n",
    "# org_train contains the original feature columns from features_org (in Simson)\n",
    "# features_org contains unprocessed features, for me X_train at beginning ???\n",
    "# For keep-all, creates a boolean Series (keep_mask) of all True, so no rows are removed.\n",
    "\n",
    "elif mode == \"drop-non-german\":\n",
    "    keep_mask = org_train[\"maxdeutsch1\"] == 1 # ??? what about missing values?\n",
    "\n",
    "else:\n",
    "    raise ValueError(f\"Unsupported mode for exclude_subgroups: {mode}\")\n"
   ]
  },
  {
   "cell_type": "code",
   "execution_count": 38,
   "id": "71651440",
   "metadata": {
    "execution": {
     "iopub.execute_input": "2025-07-30T13:10:00.890986Z",
     "iopub.status.busy": "2025-07-30T13:10:00.890180Z",
     "iopub.status.idle": "2025-07-30T13:10:00.897682Z",
     "shell.execute_reply": "2025-07-30T13:10:00.896466Z"
    },
    "papermill": {
     "duration": 0.035038,
     "end_time": "2025-07-30T13:10:00.899493",
     "exception": false,
     "start_time": "2025-07-30T13:10:00.864455",
     "status": "completed"
    },
    "tags": []
   },
   "outputs": [],
   "source": [
    "n_drop = (~keep_mask).sum() # Calculates how many rows are set to be dropped\n",
    "if n_drop > 0:\n",
    "    pct = n_drop / len(keep_mask) * 100\n",
    "    print(f\"Dropping {n_drop} rows ({pct:.2f}%) where mode='{mode}'\")"
   ]
  },
  {
   "cell_type": "code",
   "execution_count": 39,
   "id": "5fb8eee5",
   "metadata": {
    "execution": {
     "iopub.execute_input": "2025-07-30T13:10:00.951513Z",
     "iopub.status.busy": "2025-07-30T13:10:00.950821Z",
     "iopub.status.idle": "2025-07-30T13:10:00.967376Z",
     "shell.execute_reply": "2025-07-30T13:10:00.966315Z"
    },
    "papermill": {
     "duration": 0.044819,
     "end_time": "2025-07-30T13:10:00.969421",
     "exception": false,
     "start_time": "2025-07-30T13:10:00.924602",
     "status": "completed"
    },
    "tags": []
   },
   "outputs": [],
   "source": [
    "X_train = X_train[keep_mask]"
   ]
  },
  {
   "cell_type": "code",
   "execution_count": 40,
   "id": "b202bb3a",
   "metadata": {
    "execution": {
     "iopub.execute_input": "2025-07-30T13:10:01.019578Z",
     "iopub.status.busy": "2025-07-30T13:10:01.018657Z",
     "iopub.status.idle": "2025-07-30T13:10:01.025629Z",
     "shell.execute_reply": "2025-07-30T13:10:01.024661Z"
    },
    "papermill": {
     "duration": 0.033683,
     "end_time": "2025-07-30T13:10:01.027397",
     "exception": false,
     "start_time": "2025-07-30T13:10:00.993714",
     "status": "completed"
    },
    "tags": []
   },
   "outputs": [],
   "source": [
    "y_train = y_train[keep_mask]"
   ]
  },
  {
   "cell_type": "markdown",
   "id": "493e2ac3",
   "metadata": {
    "papermill": {
     "duration": 0.023675,
     "end_time": "2025-07-30T13:10:01.075262",
     "exception": false,
     "start_time": "2025-07-30T13:10:01.051587",
     "status": "completed"
    },
    "tags": []
   },
   "source": [
    "# Model Training"
   ]
  },
  {
   "cell_type": "code",
   "execution_count": 41,
   "id": "679e1268",
   "metadata": {
    "execution": {
     "iopub.execute_input": "2025-07-30T13:10:01.125224Z",
     "iopub.status.busy": "2025-07-30T13:10:01.124721Z",
     "iopub.status.idle": "2025-07-30T13:10:01.236734Z",
     "shell.execute_reply": "2025-07-30T13:10:01.235629Z"
    },
    "papermill": {
     "duration": 0.13938,
     "end_time": "2025-07-30T13:10:01.238687",
     "exception": false,
     "start_time": "2025-07-30T13:10:01.099307",
     "status": "completed"
    },
    "tags": []
   },
   "outputs": [],
   "source": [
    "from sklearn.linear_model import LogisticRegression\n",
    "from sklearn.ensemble import GradientBoostingClassifier, RandomForestClassifier\n",
    "\n",
    "if (universe[\"model\"] == \"logreg\"):\n",
    "    model = LogisticRegression() #penalty=\"none\") #, solver=\"newton-cg\", max_iter=1) # include random_state=19 ?\n",
    "elif (universe[\"model\"] == \"penalized_logreg\"):\n",
    "    model = LogisticRegression(penalty=\"l2\", C=1.0) #, solver=\"newton-cg\", max_iter=1)\n",
    "elif (universe[\"model\"] == \"rf\"):\n",
    "    model = RandomForestClassifier(n_estimators=100, n_jobs=-1)\n",
    "elif (universe[\"model\"] == \"gbm\"):\n",
    "    model = GradientBoostingClassifier()\n",
    "elif (universe[\"model\"] == \"elasticnet\"):\n",
    "    model = LogisticRegression(penalty = 'elasticnet', solver = 'saga', l1_ratio = 0.5, max_iter=5000) # which solver to use?\n",
    "else:\n",
    "    raise \"Unsupported universe.model\""
   ]
  },
  {
   "cell_type": "code",
   "execution_count": 42,
   "id": "0cc8f744",
   "metadata": {
    "execution": {
     "iopub.execute_input": "2025-07-30T13:10:01.278732Z",
     "iopub.status.busy": "2025-07-30T13:10:01.278272Z",
     "iopub.status.idle": "2025-07-30T13:10:01.284146Z",
     "shell.execute_reply": "2025-07-30T13:10:01.283351Z"
    },
    "papermill": {
     "duration": 0.023357,
     "end_time": "2025-07-30T13:10:01.285506",
     "exception": false,
     "start_time": "2025-07-30T13:10:01.262149",
     "status": "completed"
    },
    "tags": []
   },
   "outputs": [],
   "source": [
    "import numpy as np\n",
    "from sklearn.pipeline import Pipeline\n",
    "from sklearn.preprocessing import StandardScaler\n",
    "\n",
    "model = Pipeline([\n",
    "    #(\"continuous_processor\", continuous_processor),\n",
    "    #(\"categorical_preprocessor\", categorical_preprocessor),\n",
    "    (\"scale\", StandardScaler() if universe[\"scale\"] == \"scale\" else None), \n",
    "    (\"model\", model),\n",
    "])"
   ]
  },
  {
   "cell_type": "code",
   "execution_count": 43,
   "id": "9442c04d",
   "metadata": {
    "execution": {
     "iopub.execute_input": "2025-07-30T13:10:01.313272Z",
     "iopub.status.busy": "2025-07-30T13:10:01.312854Z",
     "iopub.status.idle": "2025-07-30T13:10:21.899152Z",
     "shell.execute_reply": "2025-07-30T13:10:21.898029Z"
    },
    "papermill": {
     "duration": 20.601539,
     "end_time": "2025-07-30T13:10:21.900716",
     "exception": false,
     "start_time": "2025-07-30T13:10:01.299177",
     "status": "completed"
    },
    "tags": []
   },
   "outputs": [
    {
     "data": {
      "text/html": [
       "<style>#sk-container-id-1 {color: black;background-color: white;}#sk-container-id-1 pre{padding: 0;}#sk-container-id-1 div.sk-toggleable {background-color: white;}#sk-container-id-1 label.sk-toggleable__label {cursor: pointer;display: block;width: 100%;margin-bottom: 0;padding: 0.3em;box-sizing: border-box;text-align: center;}#sk-container-id-1 label.sk-toggleable__label-arrow:before {content: \"▸\";float: left;margin-right: 0.25em;color: #696969;}#sk-container-id-1 label.sk-toggleable__label-arrow:hover:before {color: black;}#sk-container-id-1 div.sk-estimator:hover label.sk-toggleable__label-arrow:before {color: black;}#sk-container-id-1 div.sk-toggleable__content {max-height: 0;max-width: 0;overflow: hidden;text-align: left;background-color: #f0f8ff;}#sk-container-id-1 div.sk-toggleable__content pre {margin: 0.2em;color: black;border-radius: 0.25em;background-color: #f0f8ff;}#sk-container-id-1 input.sk-toggleable__control:checked~div.sk-toggleable__content {max-height: 200px;max-width: 100%;overflow: auto;}#sk-container-id-1 input.sk-toggleable__control:checked~label.sk-toggleable__label-arrow:before {content: \"▾\";}#sk-container-id-1 div.sk-estimator input.sk-toggleable__control:checked~label.sk-toggleable__label {background-color: #d4ebff;}#sk-container-id-1 div.sk-label input.sk-toggleable__control:checked~label.sk-toggleable__label {background-color: #d4ebff;}#sk-container-id-1 input.sk-hidden--visually {border: 0;clip: rect(1px 1px 1px 1px);clip: rect(1px, 1px, 1px, 1px);height: 1px;margin: -1px;overflow: hidden;padding: 0;position: absolute;width: 1px;}#sk-container-id-1 div.sk-estimator {font-family: monospace;background-color: #f0f8ff;border: 1px dotted black;border-radius: 0.25em;box-sizing: border-box;margin-bottom: 0.5em;}#sk-container-id-1 div.sk-estimator:hover {background-color: #d4ebff;}#sk-container-id-1 div.sk-parallel-item::after {content: \"\";width: 100%;border-bottom: 1px solid gray;flex-grow: 1;}#sk-container-id-1 div.sk-label:hover label.sk-toggleable__label {background-color: #d4ebff;}#sk-container-id-1 div.sk-serial::before {content: \"\";position: absolute;border-left: 1px solid gray;box-sizing: border-box;top: 0;bottom: 0;left: 50%;z-index: 0;}#sk-container-id-1 div.sk-serial {display: flex;flex-direction: column;align-items: center;background-color: white;padding-right: 0.2em;padding-left: 0.2em;position: relative;}#sk-container-id-1 div.sk-item {position: relative;z-index: 1;}#sk-container-id-1 div.sk-parallel {display: flex;align-items: stretch;justify-content: center;background-color: white;position: relative;}#sk-container-id-1 div.sk-item::before, #sk-container-id-1 div.sk-parallel-item::before {content: \"\";position: absolute;border-left: 1px solid gray;box-sizing: border-box;top: 0;bottom: 0;left: 50%;z-index: -1;}#sk-container-id-1 div.sk-parallel-item {display: flex;flex-direction: column;z-index: 1;position: relative;background-color: white;}#sk-container-id-1 div.sk-parallel-item:first-child::after {align-self: flex-end;width: 50%;}#sk-container-id-1 div.sk-parallel-item:last-child::after {align-self: flex-start;width: 50%;}#sk-container-id-1 div.sk-parallel-item:only-child::after {width: 0;}#sk-container-id-1 div.sk-dashed-wrapped {border: 1px dashed gray;margin: 0 0.4em 0.5em 0.4em;box-sizing: border-box;padding-bottom: 0.4em;background-color: white;}#sk-container-id-1 div.sk-label label {font-family: monospace;font-weight: bold;display: inline-block;line-height: 1.2em;}#sk-container-id-1 div.sk-label-container {text-align: center;}#sk-container-id-1 div.sk-container {/* jupyter's `normalize.less` sets `[hidden] { display: none; }` but bootstrap.min.css set `[hidden] { display: none !important; }` so we also need the `!important` here to be able to override the default hidden behavior on the sphinx rendered scikit-learn.org. See: https://github.com/scikit-learn/scikit-learn/issues/21755 */display: inline-block !important;position: relative;}#sk-container-id-1 div.sk-text-repr-fallback {display: none;}</style><div id=\"sk-container-id-1\" class=\"sk-top-container\"><div class=\"sk-text-repr-fallback\"><pre>Pipeline(steps=[(&#x27;scale&#x27;, StandardScaler()),\n",
       "                (&#x27;model&#x27;,\n",
       "                 LogisticRegression(l1_ratio=0.5, max_iter=5000,\n",
       "                                    penalty=&#x27;elasticnet&#x27;, solver=&#x27;saga&#x27;))])</pre><b>In a Jupyter environment, please rerun this cell to show the HTML representation or trust the notebook. <br />On GitHub, the HTML representation is unable to render, please try loading this page with nbviewer.org.</b></div><div class=\"sk-container\" hidden><div class=\"sk-item sk-dashed-wrapped\"><div class=\"sk-label-container\"><div class=\"sk-label sk-toggleable\"><input class=\"sk-toggleable__control sk-hidden--visually\" id=\"sk-estimator-id-1\" type=\"checkbox\" ><label for=\"sk-estimator-id-1\" class=\"sk-toggleable__label sk-toggleable__label-arrow\">Pipeline</label><div class=\"sk-toggleable__content\"><pre>Pipeline(steps=[(&#x27;scale&#x27;, StandardScaler()),\n",
       "                (&#x27;model&#x27;,\n",
       "                 LogisticRegression(l1_ratio=0.5, max_iter=5000,\n",
       "                                    penalty=&#x27;elasticnet&#x27;, solver=&#x27;saga&#x27;))])</pre></div></div></div><div class=\"sk-serial\"><div class=\"sk-item\"><div class=\"sk-estimator sk-toggleable\"><input class=\"sk-toggleable__control sk-hidden--visually\" id=\"sk-estimator-id-2\" type=\"checkbox\" ><label for=\"sk-estimator-id-2\" class=\"sk-toggleable__label sk-toggleable__label-arrow\">StandardScaler</label><div class=\"sk-toggleable__content\"><pre>StandardScaler()</pre></div></div></div><div class=\"sk-item\"><div class=\"sk-estimator sk-toggleable\"><input class=\"sk-toggleable__control sk-hidden--visually\" id=\"sk-estimator-id-3\" type=\"checkbox\" ><label for=\"sk-estimator-id-3\" class=\"sk-toggleable__label sk-toggleable__label-arrow\">LogisticRegression</label><div class=\"sk-toggleable__content\"><pre>LogisticRegression(l1_ratio=0.5, max_iter=5000, penalty=&#x27;elasticnet&#x27;,\n",
       "                   solver=&#x27;saga&#x27;)</pre></div></div></div></div></div></div></div>"
      ],
      "text/plain": [
       "Pipeline(steps=[('scale', StandardScaler()),\n",
       "                ('model',\n",
       "                 LogisticRegression(l1_ratio=0.5, max_iter=5000,\n",
       "                                    penalty='elasticnet', solver='saga'))])"
      ]
     },
     "execution_count": 43,
     "metadata": {},
     "output_type": "execute_result"
    }
   ],
   "source": [
    "model.fit(X_train, y_train.values.ravel())"
   ]
  },
  {
   "cell_type": "code",
   "execution_count": 44,
   "id": "af59f8c0",
   "metadata": {
    "execution": {
     "iopub.execute_input": "2025-07-30T13:10:21.965749Z",
     "iopub.status.busy": "2025-07-30T13:10:21.965062Z",
     "iopub.status.idle": "2025-07-30T13:10:21.970703Z",
     "shell.execute_reply": "2025-07-30T13:10:21.969766Z"
    },
    "papermill": {
     "duration": 0.031231,
     "end_time": "2025-07-30T13:10:21.972302",
     "exception": false,
     "start_time": "2025-07-30T13:10:21.941071",
     "status": "completed"
    },
    "tags": []
   },
   "outputs": [],
   "source": [
    "from fairness_multiverse.universe import predict_w_threshold"
   ]
  },
  {
   "cell_type": "code",
   "execution_count": 45,
   "id": "a7cf2e16",
   "metadata": {
    "execution": {
     "iopub.execute_input": "2025-07-30T13:10:22.018994Z",
     "iopub.status.busy": "2025-07-30T13:10:22.018365Z",
     "iopub.status.idle": "2025-07-30T13:10:22.212463Z",
     "shell.execute_reply": "2025-07-30T13:10:22.211513Z"
    },
    "papermill": {
     "duration": 0.218391,
     "end_time": "2025-07-30T13:10:22.214185",
     "exception": false,
     "start_time": "2025-07-30T13:10:21.995794",
     "status": "completed"
    },
    "tags": []
   },
   "outputs": [
    {
     "data": {
      "text/plain": [
       "0.8621001003232639"
      ]
     },
     "execution_count": 45,
     "metadata": {},
     "output_type": "execute_result"
    }
   ],
   "source": [
    "probs_test = model.predict_proba(X_test)\n",
    "\n",
    "'''\n",
    "Below code returns a boolean array (or binary 0/1 array depending on how it’s used) where each element \n",
    "is True if the probability of class 1 is greater than or equal to the threshold, and False otherwise.\n",
    "'''\n",
    "y_pred_default = predict_w_threshold(probs_test, 0.5)\n",
    "\n",
    "from sklearn.metrics import accuracy_score\n",
    "\n",
    "# Naive prediction\n",
    "accuracy_score(y_true = y_true, y_pred = y_pred_default)"
   ]
  },
  {
   "cell_type": "code",
   "execution_count": 46,
   "id": "081964c3",
   "metadata": {
    "execution": {
     "iopub.execute_input": "2025-07-30T13:10:22.259850Z",
     "iopub.status.busy": "2025-07-30T13:10:22.259205Z",
     "iopub.status.idle": "2025-07-30T13:10:22.435261Z",
     "shell.execute_reply": "2025-07-30T13:10:22.434377Z"
    },
    "papermill": {
     "duration": 0.200296,
     "end_time": "2025-07-30T13:10:22.437024",
     "exception": false,
     "start_time": "2025-07-30T13:10:22.236728",
     "status": "completed"
    },
    "tags": []
   },
   "outputs": [
    {
     "data": {
      "text/plain": [
       "array([0, 0, 0, ..., 0, 0, 0])"
      ]
     },
     "execution_count": 46,
     "metadata": {},
     "output_type": "execute_result"
    }
   ],
   "source": [
    "model.predict(X_test)"
   ]
  },
  {
   "cell_type": "markdown",
   "id": "56c9705b",
   "metadata": {
    "papermill": {
     "duration": 0.021594,
     "end_time": "2025-07-30T13:10:22.481052",
     "exception": false,
     "start_time": "2025-07-30T13:10:22.459458",
     "status": "completed"
    },
    "tags": []
   },
   "source": [
    "# Conformal Prediction"
   ]
  },
  {
   "cell_type": "code",
   "execution_count": 47,
   "id": "160ec6ff",
   "metadata": {
    "execution": {
     "iopub.execute_input": "2025-07-30T13:10:22.525872Z",
     "iopub.status.busy": "2025-07-30T13:10:22.525227Z",
     "iopub.status.idle": "2025-07-30T13:10:22.530661Z",
     "shell.execute_reply": "2025-07-30T13:10:22.529750Z"
    },
    "papermill": {
     "duration": 0.02983,
     "end_time": "2025-07-30T13:10:22.532226",
     "exception": false,
     "start_time": "2025-07-30T13:10:22.502396",
     "status": "completed"
    },
    "tags": []
   },
   "outputs": [],
   "source": [
    "# Miscoverage level for conformal prediction (10% allowed error rate => 90% target coverage)\n",
    "alpha = 0.1"
   ]
  },
  {
   "cell_type": "code",
   "execution_count": 48,
   "id": "eadf4555-3dd3-440e-8e35-f82a4ad9f855",
   "metadata": {
    "execution": {
     "iopub.execute_input": "2025-07-30T13:10:22.577990Z",
     "iopub.status.busy": "2025-07-30T13:10:22.577546Z",
     "iopub.status.idle": "2025-07-30T13:10:22.777521Z",
     "shell.execute_reply": "2025-07-30T13:10:22.776609Z"
    },
    "papermill": {
     "duration": 0.224864,
     "end_time": "2025-07-30T13:10:22.779430",
     "exception": false,
     "start_time": "2025-07-30T13:10:22.554566",
     "status": "completed"
    },
    "tags": []
   },
   "outputs": [],
   "source": [
    "probs_calib = model.predict_proba(X_calib)"
   ]
  },
  {
   "cell_type": "code",
   "execution_count": 49,
   "id": "2ed93547-6d5d-4983-9b36-1ecb300da49a",
   "metadata": {
    "execution": {
     "iopub.execute_input": "2025-07-30T13:10:22.825830Z",
     "iopub.status.busy": "2025-07-30T13:10:22.825195Z",
     "iopub.status.idle": "2025-07-30T13:10:22.830862Z",
     "shell.execute_reply": "2025-07-30T13:10:22.829963Z"
    },
    "papermill": {
     "duration": 0.029874,
     "end_time": "2025-07-30T13:10:22.832301",
     "exception": false,
     "start_time": "2025-07-30T13:10:22.802427",
     "status": "completed"
    },
    "tags": []
   },
   "outputs": [],
   "source": [
    "y_calib = y_calib.values.ravel().astype(int)"
   ]
  },
  {
   "cell_type": "code",
   "execution_count": 50,
   "id": "65d1320d-f588-4b38-9072-62af1ae97f7d",
   "metadata": {
    "execution": {
     "iopub.execute_input": "2025-07-30T13:10:22.878192Z",
     "iopub.status.busy": "2025-07-30T13:10:22.877385Z",
     "iopub.status.idle": "2025-07-30T13:10:22.885589Z",
     "shell.execute_reply": "2025-07-30T13:10:22.884765Z"
    },
    "papermill": {
     "duration": 0.032235,
     "end_time": "2025-07-30T13:10:22.887165",
     "exception": false,
     "start_time": "2025-07-30T13:10:22.854930",
     "status": "completed"
    },
    "tags": []
   },
   "outputs": [],
   "source": [
    "from fairness_multiverse.conformal import compute_nc_scores\n",
    "\n",
    "# Compute nonconformity scores on calibration set (1 - probability of true class)\n",
    "nc_scores = compute_nc_scores(probs_calib, y_calib)"
   ]
  },
  {
   "cell_type": "code",
   "execution_count": 51,
   "id": "df3b8ca3-53b7-43d5-9667-7c85da7aeda2",
   "metadata": {
    "execution": {
     "iopub.execute_input": "2025-07-30T13:10:22.933019Z",
     "iopub.status.busy": "2025-07-30T13:10:22.932324Z",
     "iopub.status.idle": "2025-07-30T13:10:22.938835Z",
     "shell.execute_reply": "2025-07-30T13:10:22.938050Z"
    },
    "papermill": {
     "duration": 0.031032,
     "end_time": "2025-07-30T13:10:22.940447",
     "exception": false,
     "start_time": "2025-07-30T13:10:22.909415",
     "status": "completed"
    },
    "tags": []
   },
   "outputs": [],
   "source": [
    "from fairness_multiverse.conformal import find_threshold\n",
    "\n",
    "# Find conformal threshold q_hat for the given alpha (split conformal method)\n",
    "q_hat = find_threshold(nc_scores, alpha)"
   ]
  },
  {
   "cell_type": "code",
   "execution_count": 52,
   "id": "4d29e6c1-0ef6-4aa4-b8fe-4fe79b0d033a",
   "metadata": {
    "execution": {
     "iopub.execute_input": "2025-07-30T13:10:23.014201Z",
     "iopub.status.busy": "2025-07-30T13:10:23.013513Z",
     "iopub.status.idle": "2025-07-30T13:10:23.022521Z",
     "shell.execute_reply": "2025-07-30T13:10:23.021363Z"
    },
    "papermill": {
     "duration": 0.044901,
     "end_time": "2025-07-30T13:10:23.024264",
     "exception": false,
     "start_time": "2025-07-30T13:10:22.979363",
     "status": "completed"
    },
    "tags": []
   },
   "outputs": [
    {
     "data": {
      "text/plain": [
       "0.6638789299557568"
      ]
     },
     "execution_count": 52,
     "metadata": {},
     "output_type": "execute_result"
    }
   ],
   "source": [
    "q_hat"
   ]
  },
  {
   "cell_type": "code",
   "execution_count": 53,
   "id": "92460794-cdac-4be2-ba28-f28c0515a6fb",
   "metadata": {
    "execution": {
     "iopub.execute_input": "2025-07-30T13:10:23.071012Z",
     "iopub.status.busy": "2025-07-30T13:10:23.070007Z",
     "iopub.status.idle": "2025-07-30T13:10:23.964900Z",
     "shell.execute_reply": "2025-07-30T13:10:23.963989Z"
    },
    "papermill": {
     "duration": 0.919778,
     "end_time": "2025-07-30T13:10:23.966810",
     "exception": false,
     "start_time": "2025-07-30T13:10:23.047032",
     "status": "completed"
    },
    "tags": []
   },
   "outputs": [],
   "source": [
    "from fairness_multiverse.conformal import predict_conformal_sets\n",
    "\n",
    "# Generate prediction sets for each test example\n",
    "pred_sets = predict_conformal_sets(model, X_test, q_hat)"
   ]
  },
  {
   "cell_type": "code",
   "execution_count": 54,
   "id": "d90c9a65-e6db-4f5d-80cd-e68fb7e46829",
   "metadata": {
    "execution": {
     "iopub.execute_input": "2025-07-30T13:10:24.014702Z",
     "iopub.status.busy": "2025-07-30T13:10:24.014226Z",
     "iopub.status.idle": "2025-07-30T13:10:24.019884Z",
     "shell.execute_reply": "2025-07-30T13:10:24.019020Z"
    },
    "papermill": {
     "duration": 0.031572,
     "end_time": "2025-07-30T13:10:24.021635",
     "exception": false,
     "start_time": "2025-07-30T13:10:23.990063",
     "status": "completed"
    },
    "tags": []
   },
   "outputs": [],
   "source": [
    "y_true = y_true.squeeze()"
   ]
  },
  {
   "cell_type": "code",
   "execution_count": 55,
   "id": "3a58a54a-1e68-46b9-927a-df01f18aebc8",
   "metadata": {
    "execution": {
     "iopub.execute_input": "2025-07-30T13:10:24.069043Z",
     "iopub.status.busy": "2025-07-30T13:10:24.068581Z",
     "iopub.status.idle": "2025-07-30T13:10:24.950359Z",
     "shell.execute_reply": "2025-07-30T13:10:24.949370Z"
    },
    "papermill": {
     "duration": 0.907035,
     "end_time": "2025-07-30T13:10:24.952161",
     "exception": false,
     "start_time": "2025-07-30T13:10:24.045126",
     "status": "completed"
    },
    "tags": []
   },
   "outputs": [],
   "source": [
    "from fairness_multiverse.conformal import evaluate_sets\n",
    "\n",
    "# Evaluate coverage and average set size on test data\n",
    "metrics = evaluate_sets(pred_sets, y_true)"
   ]
  },
  {
   "cell_type": "markdown",
   "id": "2b569c12-9aaa-4c88-98c9-bbcd0cf3ebb8",
   "metadata": {
    "papermill": {
     "duration": 0.022919,
     "end_time": "2025-07-30T13:10:24.998289",
     "exception": false,
     "start_time": "2025-07-30T13:10:24.975370",
     "status": "completed"
    },
    "tags": []
   },
   "source": [
    "# CP Metrics"
   ]
  },
  {
   "cell_type": "code",
   "execution_count": 56,
   "id": "5ce0a5cb-201f-45a0-ade5-94c7f0bd6095",
   "metadata": {
    "execution": {
     "iopub.execute_input": "2025-07-30T13:10:25.045698Z",
     "iopub.status.busy": "2025-07-30T13:10:25.045188Z",
     "iopub.status.idle": "2025-07-30T13:10:25.052489Z",
     "shell.execute_reply": "2025-07-30T13:10:25.051783Z"
    },
    "papermill": {
     "duration": 0.032861,
     "end_time": "2025-07-30T13:10:25.053916",
     "exception": false,
     "start_time": "2025-07-30T13:10:25.021055",
     "status": "completed"
    },
    "tags": []
   },
   "outputs": [
    {
     "data": {
      "text/plain": [
       "{'coverage': 0.9115706164307212, 'avg_size': 1.1250139337866458}"
      ]
     },
     "execution_count": 56,
     "metadata": {},
     "output_type": "execute_result"
    }
   ],
   "source": [
    "metrics"
   ]
  },
  {
   "cell_type": "code",
   "execution_count": 57,
   "id": "9b9a838d-31c9-430b-ae14-12baee460d17",
   "metadata": {
    "execution": {
     "iopub.execute_input": "2025-07-30T13:10:25.102882Z",
     "iopub.status.busy": "2025-07-30T13:10:25.102171Z",
     "iopub.status.idle": "2025-07-30T13:10:25.108410Z",
     "shell.execute_reply": "2025-07-30T13:10:25.107558Z"
    },
    "papermill": {
     "duration": 0.031965,
     "end_time": "2025-07-30T13:10:25.109906",
     "exception": false,
     "start_time": "2025-07-30T13:10:25.077941",
     "status": "completed"
    },
    "tags": []
   },
   "outputs": [],
   "source": [
    "example_universe = universe.copy()\n",
    "universe_training_size = example_universe.get(\"training_size\")\n",
    "universe_scale = example_universe.get(\"scale\")\n",
    "universe_model = example_universe.get(\"model\")\n",
    "universe_exclude_features = example_universe.get(\"exclude_features\")\n",
    "universe_exclude_subgroups = example_universe.get(\"exclude_subgroups\")"
   ]
  },
  {
   "cell_type": "code",
   "execution_count": 58,
   "id": "f4b6a8ac-9dc0-4245-8a91-5b3b5999c4f9",
   "metadata": {
    "execution": {
     "iopub.execute_input": "2025-07-30T13:10:25.158821Z",
     "iopub.status.busy": "2025-07-30T13:10:25.157853Z",
     "iopub.status.idle": "2025-07-30T13:10:25.164414Z",
     "shell.execute_reply": "2025-07-30T13:10:25.163433Z"
    },
    "papermill": {
     "duration": 0.032416,
     "end_time": "2025-07-30T13:10:25.165945",
     "exception": false,
     "start_time": "2025-07-30T13:10:25.133529",
     "status": "completed"
    },
    "tags": []
   },
   "outputs": [],
   "source": [
    "cp_metrics_dict = {\n",
    "    \"universe_id\": [universe_id],\n",
    "    \"universe_training_size\": [universe_training_size],\n",
    "    \"universe_scale\": [universe_scale],\n",
    "    \"universe_model\": [universe_model],\n",
    "    \"universe_exclude_features\": [universe_exclude_features],\n",
    "    \"universe_exclude_subgroups\": [universe_exclude_subgroups],\n",
    "    \"q_hat\": [q_hat],\n",
    "    \"coverage\": [metrics[\"coverage\"]],\n",
    "    \"avg_size\": [metrics[\"avg_size\"]],\n",
    "}"
   ]
  },
  {
   "cell_type": "code",
   "execution_count": 59,
   "id": "908acbb1-0371-4915-85ca-3fa520d2efe2",
   "metadata": {
    "execution": {
     "iopub.execute_input": "2025-07-30T13:10:25.215082Z",
     "iopub.status.busy": "2025-07-30T13:10:25.214074Z",
     "iopub.status.idle": "2025-07-30T13:10:25.221767Z",
     "shell.execute_reply": "2025-07-30T13:10:25.220883Z"
    },
    "papermill": {
     "duration": 0.033764,
     "end_time": "2025-07-30T13:10:25.223297",
     "exception": false,
     "start_time": "2025-07-30T13:10:25.189533",
     "status": "completed"
    },
    "tags": []
   },
   "outputs": [
    {
     "data": {
      "text/plain": [
       "{'universe_id': ['555b8a20cedd6a1c7ba8e4809b67955f'],\n",
       " 'universe_training_size': ['25k'],\n",
       " 'universe_scale': ['scale'],\n",
       " 'universe_model': ['elasticnet'],\n",
       " 'universe_exclude_features': ['none'],\n",
       " 'universe_exclude_subgroups': ['keep-all'],\n",
       " 'q_hat': [0.6638789299557568],\n",
       " 'coverage': [0.9115706164307212],\n",
       " 'avg_size': [1.1250139337866458]}"
      ]
     },
     "execution_count": 59,
     "metadata": {},
     "output_type": "execute_result"
    }
   ],
   "source": [
    "cp_metrics_dict"
   ]
  },
  {
   "cell_type": "code",
   "execution_count": 60,
   "id": "33007efc-14e9-4ec6-97ac-56a455c82265",
   "metadata": {
    "execution": {
     "iopub.execute_input": "2025-07-30T13:10:25.277235Z",
     "iopub.status.busy": "2025-07-30T13:10:25.276582Z",
     "iopub.status.idle": "2025-07-30T13:10:25.282933Z",
     "shell.execute_reply": "2025-07-30T13:10:25.281982Z"
    },
    "papermill": {
     "duration": 0.035677,
     "end_time": "2025-07-30T13:10:25.284608",
     "exception": false,
     "start_time": "2025-07-30T13:10:25.248931",
     "status": "completed"
    },
    "tags": []
   },
   "outputs": [],
   "source": [
    "cp_metrics_df = pd.DataFrame(cp_metrics_dict)"
   ]
  },
  {
   "cell_type": "code",
   "execution_count": 61,
   "id": "db12611b-57b2-4910-b9d0-355adfd6e7bf",
   "metadata": {
    "execution": {
     "iopub.execute_input": "2025-07-30T13:10:25.340557Z",
     "iopub.status.busy": "2025-07-30T13:10:25.339894Z",
     "iopub.status.idle": "2025-07-30T13:10:25.357338Z",
     "shell.execute_reply": "2025-07-30T13:10:25.356383Z"
    },
    "papermill": {
     "duration": 0.045727,
     "end_time": "2025-07-30T13:10:25.358966",
     "exception": false,
     "start_time": "2025-07-30T13:10:25.313239",
     "status": "completed"
    },
    "tags": []
   },
   "outputs": [
    {
     "data": {
      "text/html": [
       "<div>\n",
       "<style scoped>\n",
       "    .dataframe tbody tr th:only-of-type {\n",
       "        vertical-align: middle;\n",
       "    }\n",
       "\n",
       "    .dataframe tbody tr th {\n",
       "        vertical-align: top;\n",
       "    }\n",
       "\n",
       "    .dataframe thead th {\n",
       "        text-align: right;\n",
       "    }\n",
       "</style>\n",
       "<table border=\"1\" class=\"dataframe\">\n",
       "  <thead>\n",
       "    <tr style=\"text-align: right;\">\n",
       "      <th></th>\n",
       "      <th>universe_id</th>\n",
       "      <th>universe_training_size</th>\n",
       "      <th>universe_scale</th>\n",
       "      <th>universe_model</th>\n",
       "      <th>universe_exclude_features</th>\n",
       "      <th>universe_exclude_subgroups</th>\n",
       "      <th>q_hat</th>\n",
       "      <th>coverage</th>\n",
       "      <th>avg_size</th>\n",
       "    </tr>\n",
       "  </thead>\n",
       "  <tbody>\n",
       "    <tr>\n",
       "      <th>0</th>\n",
       "      <td>555b8a20cedd6a1c7ba8e4809b67955f</td>\n",
       "      <td>25k</td>\n",
       "      <td>scale</td>\n",
       "      <td>elasticnet</td>\n",
       "      <td>none</td>\n",
       "      <td>keep-all</td>\n",
       "      <td>0.663879</td>\n",
       "      <td>0.911571</td>\n",
       "      <td>1.125014</td>\n",
       "    </tr>\n",
       "  </tbody>\n",
       "</table>\n",
       "</div>"
      ],
      "text/plain": [
       "                        universe_id universe_training_size universe_scale  \\\n",
       "0  555b8a20cedd6a1c7ba8e4809b67955f                    25k          scale   \n",
       "\n",
       "  universe_model universe_exclude_features universe_exclude_subgroups  \\\n",
       "0     elasticnet                      none                   keep-all   \n",
       "\n",
       "      q_hat  coverage  avg_size  \n",
       "0  0.663879  0.911571  1.125014  "
      ]
     },
     "execution_count": 61,
     "metadata": {},
     "output_type": "execute_result"
    }
   ],
   "source": [
    "cp_metrics_df"
   ]
  },
  {
   "cell_type": "code",
   "execution_count": 62,
   "id": "b7fbde55-a0a1-47e4-9af6-fe4a17fa8c61",
   "metadata": {
    "execution": {
     "iopub.execute_input": "2025-07-30T13:10:25.412878Z",
     "iopub.status.busy": "2025-07-30T13:10:25.412428Z",
     "iopub.status.idle": "2025-07-30T13:10:25.417347Z",
     "shell.execute_reply": "2025-07-30T13:10:25.416479Z"
    },
    "papermill": {
     "duration": 0.032242,
     "end_time": "2025-07-30T13:10:25.418884",
     "exception": false,
     "start_time": "2025-07-30T13:10:25.386642",
     "status": "completed"
    },
    "tags": []
   },
   "outputs": [],
   "source": [
    "# Conditional Coverage & looking at subgroups"
   ]
  },
  {
   "cell_type": "code",
   "execution_count": 63,
   "id": "027ae886-68dd-4141-96c7-805a5450e1ef",
   "metadata": {
    "execution": {
     "iopub.execute_input": "2025-07-30T13:10:25.469725Z",
     "iopub.status.busy": "2025-07-30T13:10:25.468743Z",
     "iopub.status.idle": "2025-07-30T13:10:25.704510Z",
     "shell.execute_reply": "2025-07-30T13:10:25.703511Z"
    },
    "papermill": {
     "duration": 0.263395,
     "end_time": "2025-07-30T13:10:25.706305",
     "exception": false,
     "start_time": "2025-07-30T13:10:25.442910",
     "status": "completed"
    },
    "tags": []
   },
   "outputs": [],
   "source": [
    "from fairness_multiverse.conformal import build_cp_groups\n",
    "\n",
    "cp_groups_df = build_cp_groups(pred_sets, y_true, X_test.index, org_test)\n",
    "#needs universe_id and setting"
   ]
  },
  {
   "cell_type": "code",
   "execution_count": 64,
   "id": "01d5802c-663a-4d1f-9d69-e036faaffbf7",
   "metadata": {
    "execution": {
     "iopub.execute_input": "2025-07-30T13:10:25.772423Z",
     "iopub.status.busy": "2025-07-30T13:10:25.771491Z",
     "iopub.status.idle": "2025-07-30T13:10:25.776619Z",
     "shell.execute_reply": "2025-07-30T13:10:25.775691Z"
    },
    "papermill": {
     "duration": 0.03109,
     "end_time": "2025-07-30T13:10:25.778057",
     "exception": false,
     "start_time": "2025-07-30T13:10:25.746967",
     "status": "completed"
    },
    "tags": []
   },
   "outputs": [],
   "source": [
    "#delete\n",
    "#cp_groups_df"
   ]
  },
  {
   "cell_type": "code",
   "execution_count": 65,
   "id": "fa424af1-d1eb-443d-b717-2d279ada8408",
   "metadata": {
    "execution": {
     "iopub.execute_input": "2025-07-30T13:10:25.826094Z",
     "iopub.status.busy": "2025-07-30T13:10:25.825594Z",
     "iopub.status.idle": "2025-07-30T13:10:25.830905Z",
     "shell.execute_reply": "2025-07-30T13:10:25.829997Z"
    },
    "papermill": {
     "duration": 0.031049,
     "end_time": "2025-07-30T13:10:25.832469",
     "exception": false,
     "start_time": "2025-07-30T13:10:25.801420",
     "status": "completed"
    },
    "tags": []
   },
   "outputs": [],
   "source": [
    "#delete\n",
    "#percentage = (cp_groups_df['nongerman_female'] == 1).mean() * 100\n",
    "#print(percentage)\n"
   ]
  },
  {
   "cell_type": "code",
   "execution_count": 66,
   "id": "6cbdab96-b2b2-45af-ad54-d0516db2e28d",
   "metadata": {
    "execution": {
     "iopub.execute_input": "2025-07-30T13:10:25.881339Z",
     "iopub.status.busy": "2025-07-30T13:10:25.880889Z",
     "iopub.status.idle": "2025-07-30T13:10:27.402244Z",
     "shell.execute_reply": "2025-07-30T13:10:27.401137Z"
    },
    "papermill": {
     "duration": 1.547638,
     "end_time": "2025-07-30T13:10:27.404223",
     "exception": false,
     "start_time": "2025-07-30T13:10:25.856585",
     "status": "completed"
    },
    "tags": []
   },
   "outputs": [],
   "source": [
    "# Define covered = 1 if true_label is in the predicted set\n",
    "cp_groups_df['covered'] = cp_groups_df.apply(\n",
    "    lambda r: int(r['true_label'] in r['pred_set']),\n",
    "    axis=1\n",
    ")"
   ]
  },
  {
   "cell_type": "code",
   "execution_count": 67,
   "id": "338ff529-1a6b-4b87-a931-8e4788d52aad",
   "metadata": {
    "execution": {
     "iopub.execute_input": "2025-07-30T13:10:27.455454Z",
     "iopub.status.busy": "2025-07-30T13:10:27.454807Z",
     "iopub.status.idle": "2025-07-30T13:10:27.459832Z",
     "shell.execute_reply": "2025-07-30T13:10:27.458970Z"
    },
    "papermill": {
     "duration": 0.031882,
     "end_time": "2025-07-30T13:10:27.461291",
     "exception": false,
     "start_time": "2025-07-30T13:10:27.429409",
     "status": "completed"
    },
    "tags": []
   },
   "outputs": [],
   "source": [
    "#cp_groups_df"
   ]
  },
  {
   "cell_type": "code",
   "execution_count": 68,
   "id": "90032e27-66df-4540-9169-4e89cfbaa758",
   "metadata": {
    "execution": {
     "iopub.execute_input": "2025-07-30T13:10:27.512220Z",
     "iopub.status.busy": "2025-07-30T13:10:27.511576Z",
     "iopub.status.idle": "2025-07-30T13:10:27.523656Z",
     "shell.execute_reply": "2025-07-30T13:10:27.522721Z"
    },
    "papermill": {
     "duration": 0.039279,
     "end_time": "2025-07-30T13:10:27.525317",
     "exception": false,
     "start_time": "2025-07-30T13:10:27.486038",
     "status": "completed"
    },
    "tags": []
   },
   "outputs": [],
   "source": [
    "subgroups = ['frau1','nongerman','nongerman_male','nongerman_female']\n",
    "\n",
    "# Conditional coverage for subgroup==1\n",
    "cond_coverage = {\n",
    "    g: cp_groups_df.loc[cp_groups_df[g]==1, 'covered'].mean()\n",
    "    for g in subgroups\n",
    "}"
   ]
  },
  {
   "cell_type": "code",
   "execution_count": 69,
   "id": "1e348fb1-b9c3-45bc-ba23-f016827a7e0d",
   "metadata": {
    "execution": {
     "iopub.execute_input": "2025-07-30T13:10:27.576846Z",
     "iopub.status.busy": "2025-07-30T13:10:27.575984Z",
     "iopub.status.idle": "2025-07-30T13:10:27.583134Z",
     "shell.execute_reply": "2025-07-30T13:10:27.582214Z"
    },
    "papermill": {
     "duration": 0.034241,
     "end_time": "2025-07-30T13:10:27.584855",
     "exception": false,
     "start_time": "2025-07-30T13:10:27.550614",
     "status": "completed"
    },
    "tags": []
   },
   "outputs": [
    {
     "data": {
      "text/plain": [
       "{'frau1': 0.909718290874781,\n",
       " 'nongerman': 0.9105709313422781,\n",
       " 'nongerman_male': 0.9269566783752139,\n",
       " 'nongerman_female': 0.8834575260804769}"
      ]
     },
     "execution_count": 69,
     "metadata": {},
     "output_type": "execute_result"
    }
   ],
   "source": [
    "cond_coverage"
   ]
  },
  {
   "cell_type": "code",
   "execution_count": 70,
   "id": "f5093324-c3dd-4d63-bc4c-8d945e5c8bbb",
   "metadata": {
    "execution": {
     "iopub.execute_input": "2025-07-30T13:10:27.636517Z",
     "iopub.status.busy": "2025-07-30T13:10:27.635818Z",
     "iopub.status.idle": "2025-07-30T13:10:27.643338Z",
     "shell.execute_reply": "2025-07-30T13:10:27.642405Z"
    },
    "papermill": {
     "duration": 0.034342,
     "end_time": "2025-07-30T13:10:27.644844",
     "exception": false,
     "start_time": "2025-07-30T13:10:27.610502",
     "status": "completed"
    },
    "tags": []
   },
   "outputs": [],
   "source": [
    "for subgroup, cov in cond_coverage.items():\n",
    "    cp_metrics_df[f\"cov_{subgroup}\"] = cov"
   ]
  },
  {
   "cell_type": "code",
   "execution_count": 71,
   "id": "6e872e10-dbe5-49e8-b554-5030c98ff75d",
   "metadata": {
    "execution": {
     "iopub.execute_input": "2025-07-30T13:10:27.696750Z",
     "iopub.status.busy": "2025-07-30T13:10:27.696259Z",
     "iopub.status.idle": "2025-07-30T13:10:27.714441Z",
     "shell.execute_reply": "2025-07-30T13:10:27.713529Z"
    },
    "papermill": {
     "duration": 0.045854,
     "end_time": "2025-07-30T13:10:27.715958",
     "exception": false,
     "start_time": "2025-07-30T13:10:27.670104",
     "status": "completed"
    },
    "tags": []
   },
   "outputs": [
    {
     "data": {
      "text/html": [
       "<div>\n",
       "<style scoped>\n",
       "    .dataframe tbody tr th:only-of-type {\n",
       "        vertical-align: middle;\n",
       "    }\n",
       "\n",
       "    .dataframe tbody tr th {\n",
       "        vertical-align: top;\n",
       "    }\n",
       "\n",
       "    .dataframe thead th {\n",
       "        text-align: right;\n",
       "    }\n",
       "</style>\n",
       "<table border=\"1\" class=\"dataframe\">\n",
       "  <thead>\n",
       "    <tr style=\"text-align: right;\">\n",
       "      <th></th>\n",
       "      <th>universe_id</th>\n",
       "      <th>universe_training_size</th>\n",
       "      <th>universe_scale</th>\n",
       "      <th>universe_model</th>\n",
       "      <th>universe_exclude_features</th>\n",
       "      <th>universe_exclude_subgroups</th>\n",
       "      <th>q_hat</th>\n",
       "      <th>coverage</th>\n",
       "      <th>avg_size</th>\n",
       "      <th>cov_frau1</th>\n",
       "      <th>cov_nongerman</th>\n",
       "      <th>cov_nongerman_male</th>\n",
       "      <th>cov_nongerman_female</th>\n",
       "    </tr>\n",
       "  </thead>\n",
       "  <tbody>\n",
       "    <tr>\n",
       "      <th>0</th>\n",
       "      <td>555b8a20cedd6a1c7ba8e4809b67955f</td>\n",
       "      <td>25k</td>\n",
       "      <td>scale</td>\n",
       "      <td>elasticnet</td>\n",
       "      <td>none</td>\n",
       "      <td>keep-all</td>\n",
       "      <td>0.663879</td>\n",
       "      <td>0.911571</td>\n",
       "      <td>1.125014</td>\n",
       "      <td>0.909718</td>\n",
       "      <td>0.910571</td>\n",
       "      <td>0.926957</td>\n",
       "      <td>0.883458</td>\n",
       "    </tr>\n",
       "  </tbody>\n",
       "</table>\n",
       "</div>"
      ],
      "text/plain": [
       "                        universe_id universe_training_size universe_scale  \\\n",
       "0  555b8a20cedd6a1c7ba8e4809b67955f                    25k          scale   \n",
       "\n",
       "  universe_model universe_exclude_features universe_exclude_subgroups  \\\n",
       "0     elasticnet                      none                   keep-all   \n",
       "\n",
       "      q_hat  coverage  avg_size  cov_frau1  cov_nongerman  cov_nongerman_male  \\\n",
       "0  0.663879  0.911571  1.125014   0.909718       0.910571            0.926957   \n",
       "\n",
       "   cov_nongerman_female  \n",
       "0              0.883458  "
      ]
     },
     "execution_count": 71,
     "metadata": {},
     "output_type": "execute_result"
    }
   ],
   "source": [
    "cp_metrics_df"
   ]
  },
  {
   "cell_type": "markdown",
   "id": "33774451",
   "metadata": {
    "papermill": {
     "duration": 0.024562,
     "end_time": "2025-07-30T13:10:27.765704",
     "exception": false,
     "start_time": "2025-07-30T13:10:27.741142",
     "status": "completed"
    },
    "tags": []
   },
   "source": [
    "# (Fairness) Metrics"
   ]
  },
  {
   "cell_type": "code",
   "execution_count": 72,
   "id": "debc5d62",
   "metadata": {
    "execution": {
     "iopub.execute_input": "2025-07-30T13:10:27.817920Z",
     "iopub.status.busy": "2025-07-30T13:10:27.817444Z",
     "iopub.status.idle": "2025-07-30T13:10:27.839514Z",
     "shell.execute_reply": "2025-07-30T13:10:27.838700Z"
    },
    "papermill": {
     "duration": 0.050072,
     "end_time": "2025-07-30T13:10:27.841021",
     "exception": false,
     "start_time": "2025-07-30T13:10:27.790949",
     "status": "completed"
    },
    "tags": []
   },
   "outputs": [],
   "source": [
    "# do I need to include maxdeutsch1.missing?\n",
    "\n",
    "import numpy as np\n",
    "\n",
    "colname_to_bin = \"maxdeutsch1\"\n",
    "majority_value = org_train[colname_to_bin].mode()[0]\n",
    "\n",
    "org_test[\"majmin\"] = np.where(org_test[colname_to_bin] == majority_value, \"majority\", \"minority\")"
   ]
  },
  {
   "cell_type": "code",
   "execution_count": 73,
   "id": "06a50de5",
   "metadata": {
    "execution": {
     "iopub.execute_input": "2025-07-30T13:10:27.905258Z",
     "iopub.status.busy": "2025-07-30T13:10:27.904778Z",
     "iopub.status.idle": "2025-07-30T13:10:30.789491Z",
     "shell.execute_reply": "2025-07-30T13:10:30.788615Z"
    },
    "papermill": {
     "duration": 2.923737,
     "end_time": "2025-07-30T13:10:30.791343",
     "exception": false,
     "start_time": "2025-07-30T13:10:27.867606",
     "status": "completed"
    },
    "tags": []
   },
   "outputs": [],
   "source": [
    "example_universe = universe.copy()\n",
    "example_universe[\"cutoff\"] = example_universe[\"cutoff\"][0]\n",
    "example_universe[\"eval_fairness_grouping\"] = example_universe[\"eval_fairness_grouping\"][0]\n",
    "fairness_dict, metric_frame = universe_analysis.compute_metrics(\n",
    "    example_universe,\n",
    "    y_pred_prob=probs_test,\n",
    "    y_test=y_true,\n",
    "    org_test=org_test,\n",
    ")"
   ]
  },
  {
   "cell_type": "markdown",
   "id": "f95d4e02",
   "metadata": {
    "papermill": {
     "duration": 0.025016,
     "end_time": "2025-07-30T13:10:30.842189",
     "exception": false,
     "start_time": "2025-07-30T13:10:30.817173",
     "status": "completed"
    },
    "tags": []
   },
   "source": [
    "# Overall"
   ]
  },
  {
   "cell_type": "markdown",
   "id": "bdee4871",
   "metadata": {
    "papermill": {
     "duration": 0.02464,
     "end_time": "2025-07-30T13:10:30.892924",
     "exception": false,
     "start_time": "2025-07-30T13:10:30.868284",
     "status": "completed"
    },
    "tags": []
   },
   "source": [
    "Fairness\n",
    "Main fairness target: Equalized Odds. Seems to be a better fit than equal opportunity, since we're not only interested in Y = 1. Seems to be a better fit than demographic parity, since we also care about accuracy, not just equal distribution of preds.\n",
    "\n",
    "Pick column for computation of fairness metrics\n",
    "\n",
    "Performance\n",
    "Overall performance measures, most interesting in relation to the measures split by group below"
   ]
  },
  {
   "cell_type": "code",
   "execution_count": 74,
   "id": "c4e067c6",
   "metadata": {
    "execution": {
     "iopub.execute_input": "2025-07-30T13:10:30.944970Z",
     "iopub.status.busy": "2025-07-30T13:10:30.943918Z",
     "iopub.status.idle": "2025-07-30T13:10:30.952260Z",
     "shell.execute_reply": "2025-07-30T13:10:30.951341Z"
    },
    "papermill": {
     "duration": 0.035994,
     "end_time": "2025-07-30T13:10:30.953762",
     "exception": false,
     "start_time": "2025-07-30T13:10:30.917768",
     "status": "completed"
    },
    "tags": []
   },
   "outputs": [
    {
     "data": {
      "text/plain": [
       "accuracy                   0.225382\n",
       "balanced accuracy          0.550878\n",
       "f1                         0.246686\n",
       "precision                  0.140923\n",
       "false positive rate        0.886947\n",
       "false negative rate        0.011296\n",
       "selection rate             0.900000\n",
       "count                  89710.000000\n",
       "dtype: float64"
      ]
     },
     "execution_count": 74,
     "metadata": {},
     "output_type": "execute_result"
    }
   ],
   "source": [
    "metric_frame.overall"
   ]
  },
  {
   "cell_type": "markdown",
   "id": "e968fe9d",
   "metadata": {
    "papermill": {
     "duration": 0.024541,
     "end_time": "2025-07-30T13:10:31.003726",
     "exception": false,
     "start_time": "2025-07-30T13:10:30.979185",
     "status": "completed"
    },
    "tags": []
   },
   "source": [
    "By Group"
   ]
  },
  {
   "cell_type": "code",
   "execution_count": 75,
   "id": "ec325bce",
   "metadata": {
    "execution": {
     "iopub.execute_input": "2025-07-30T13:10:31.054404Z",
     "iopub.status.busy": "2025-07-30T13:10:31.053752Z",
     "iopub.status.idle": "2025-07-30T13:10:31.069372Z",
     "shell.execute_reply": "2025-07-30T13:10:31.068477Z"
    },
    "papermill": {
     "duration": 0.042795,
     "end_time": "2025-07-30T13:10:31.070903",
     "exception": false,
     "start_time": "2025-07-30T13:10:31.028108",
     "status": "completed"
    },
    "tags": []
   },
   "outputs": [
    {
     "data": {
      "text/html": [
       "<div>\n",
       "<style scoped>\n",
       "    .dataframe tbody tr th:only-of-type {\n",
       "        vertical-align: middle;\n",
       "    }\n",
       "\n",
       "    .dataframe tbody tr th {\n",
       "        vertical-align: top;\n",
       "    }\n",
       "\n",
       "    .dataframe thead th {\n",
       "        text-align: right;\n",
       "    }\n",
       "</style>\n",
       "<table border=\"1\" class=\"dataframe\">\n",
       "  <thead>\n",
       "    <tr style=\"text-align: right;\">\n",
       "      <th></th>\n",
       "      <th>accuracy</th>\n",
       "      <th>balanced accuracy</th>\n",
       "      <th>f1</th>\n",
       "      <th>precision</th>\n",
       "      <th>false positive rate</th>\n",
       "      <th>false negative rate</th>\n",
       "      <th>selection rate</th>\n",
       "      <th>count</th>\n",
       "    </tr>\n",
       "    <tr>\n",
       "      <th>majmin</th>\n",
       "      <th></th>\n",
       "      <th></th>\n",
       "      <th></th>\n",
       "      <th></th>\n",
       "      <th></th>\n",
       "      <th></th>\n",
       "      <th></th>\n",
       "      <th></th>\n",
       "    </tr>\n",
       "  </thead>\n",
       "  <tbody>\n",
       "    <tr>\n",
       "      <th>majority</th>\n",
       "      <td>0.247145</td>\n",
       "      <td>0.560972</td>\n",
       "      <td>0.257419</td>\n",
       "      <td>0.147999</td>\n",
       "      <td>0.865584</td>\n",
       "      <td>0.012473</td>\n",
       "      <td>0.881697</td>\n",
       "      <td>69170.0</td>\n",
       "    </tr>\n",
       "    <tr>\n",
       "      <th>minority</th>\n",
       "      <td>0.152093</td>\n",
       "      <td>0.517863</td>\n",
       "      <td>0.212658</td>\n",
       "      <td>0.119077</td>\n",
       "      <td>0.957517</td>\n",
       "      <td>0.006757</td>\n",
       "      <td>0.961636</td>\n",
       "      <td>20540.0</td>\n",
       "    </tr>\n",
       "  </tbody>\n",
       "</table>\n",
       "</div>"
      ],
      "text/plain": [
       "          accuracy  balanced accuracy        f1  precision  \\\n",
       "majmin                                                       \n",
       "majority  0.247145           0.560972  0.257419   0.147999   \n",
       "minority  0.152093           0.517863  0.212658   0.119077   \n",
       "\n",
       "          false positive rate  false negative rate  selection rate    count  \n",
       "majmin                                                                       \n",
       "majority             0.865584             0.012473        0.881697  69170.0  \n",
       "minority             0.957517             0.006757        0.961636  20540.0  "
      ]
     },
     "execution_count": 75,
     "metadata": {},
     "output_type": "execute_result"
    }
   ],
   "source": [
    "metric_frame.by_group"
   ]
  },
  {
   "cell_type": "code",
   "execution_count": 76,
   "id": "a9ddbe63",
   "metadata": {
    "execution": {
     "iopub.execute_input": "2025-07-30T13:10:31.125624Z",
     "iopub.status.busy": "2025-07-30T13:10:31.124976Z",
     "iopub.status.idle": "2025-07-30T13:10:33.384752Z",
     "shell.execute_reply": "2025-07-30T13:10:33.383837Z"
    },
    "papermill": {
     "duration": 2.288976,
     "end_time": "2025-07-30T13:10:33.386341",
     "exception": false,
     "start_time": "2025-07-30T13:10:31.097365",
     "status": "completed"
    },
    "tags": []
   },
   "outputs": [
    {
     "data": {
      "text/plain": [
       "array([[<Axes: title={'center': 'accuracy'}, xlabel='majmin'>,\n",
       "        <Axes: title={'center': 'balanced accuracy'}, xlabel='majmin'>,\n",
       "        <Axes: title={'center': 'f1'}, xlabel='majmin'>],\n",
       "       [<Axes: title={'center': 'precision'}, xlabel='majmin'>,\n",
       "        <Axes: title={'center': 'false positive rate'}, xlabel='majmin'>,\n",
       "        <Axes: title={'center': 'false negative rate'}, xlabel='majmin'>],\n",
       "       [<Axes: title={'center': 'selection rate'}, xlabel='majmin'>,\n",
       "        <Axes: title={'center': 'count'}, xlabel='majmin'>,\n",
       "        <Axes: xlabel='majmin'>]], dtype=object)"
      ]
     },
     "execution_count": 76,
     "metadata": {},
     "output_type": "execute_result"
    },
    {
     "data": {
      "image/png": "[encoded data removed]",
      "text/plain": [
       "<Figure size 1200x800 with 9 Axes>"
      ]
     },
     "metadata": {},
     "output_type": "display_data"
    }
   ],
   "source": [
    "# In a graphic\n",
    "metric_frame.by_group.plot.bar(\n",
    "    subplots=True,\n",
    "    layout=[3, 3],\n",
    "    legend=False,\n",
    "    figsize=[12, 8],\n",
    "    title=\"Show all metrics\",\n",
    ")"
   ]
  },
  {
   "cell_type": "markdown",
   "id": "f57a0bac",
   "metadata": {
    "papermill": {
     "duration": 0.027489,
     "end_time": "2025-07-30T13:10:33.443194",
     "exception": false,
     "start_time": "2025-07-30T13:10:33.415705",
     "status": "completed"
    },
    "tags": []
   },
   "source": [
    "# Final Output"
   ]
  },
  {
   "cell_type": "code",
   "execution_count": 77,
   "id": "96d280a3",
   "metadata": {
    "execution": {
     "iopub.execute_input": "2025-07-30T13:10:33.500008Z",
     "iopub.status.busy": "2025-07-30T13:10:33.499409Z",
     "iopub.status.idle": "2025-07-30T13:10:33.507255Z",
     "shell.execute_reply": "2025-07-30T13:10:33.506450Z"
    },
    "papermill": {
     "duration": 0.037422,
     "end_time": "2025-07-30T13:10:33.508710",
     "exception": false,
     "start_time": "2025-07-30T13:10:33.471288",
     "status": "completed"
    },
    "tags": []
   },
   "outputs": [
    {
     "data": {
      "text/plain": [
       "4"
      ]
     },
     "execution_count": 77,
     "metadata": {},
     "output_type": "execute_result"
    }
   ],
   "source": [
    "sub_universes = universe_analysis.generate_sub_universes()\n",
    "len(sub_universes)"
   ]
  },
  {
   "cell_type": "code",
   "execution_count": 78,
   "id": "92adf7ba",
   "metadata": {
    "execution": {
     "iopub.execute_input": "2025-07-30T13:10:33.568249Z",
     "iopub.status.busy": "2025-07-30T13:10:33.567577Z",
     "iopub.status.idle": "2025-07-30T13:10:33.573722Z",
     "shell.execute_reply": "2025-07-30T13:10:33.572792Z"
    },
    "papermill": {
     "duration": 0.036458,
     "end_time": "2025-07-30T13:10:33.575421",
     "exception": false,
     "start_time": "2025-07-30T13:10:33.538963",
     "status": "completed"
    },
    "tags": []
   },
   "outputs": [],
   "source": [
    "def filter_sub_universe_data(sub_universe, org_test):\n",
    "    # Keep all rows — no filtering\n",
    "    keep_rows_mask = np.ones(org_test.shape[0], dtype=bool)\n",
    "\n",
    "    print(f\"[INFO] Keeping all rows: {keep_rows_mask.sum()} rows retained.\")\n",
    "    return keep_rows_mask"
   ]
  },
  {
   "cell_type": "code",
   "execution_count": 79,
   "id": "4a759155",
   "metadata": {
    "execution": {
     "iopub.execute_input": "2025-07-30T13:10:33.633426Z",
     "iopub.status.busy": "2025-07-30T13:10:33.632772Z",
     "iopub.status.idle": "2025-07-30T13:10:43.338085Z",
     "shell.execute_reply": "2025-07-30T13:10:43.336998Z"
    },
    "papermill": {
     "duration": 9.736624,
     "end_time": "2025-07-30T13:10:43.339954",
     "exception": false,
     "start_time": "2025-07-30T13:10:33.603330",
     "status": "completed"
    },
    "tags": []
   },
   "outputs": [
    {
     "name": "stdout",
     "output_type": "stream",
     "text": [
      "Stopping execution_time clock.\n",
      "[INFO] Keeping all rows: 89710 rows retained.\n"
     ]
    },
    {
     "name": "stdout",
     "output_type": "stream",
     "text": [
      "[INFO] Keeping all rows: 89710 rows retained.\n"
     ]
    },
    {
     "name": "stdout",
     "output_type": "stream",
     "text": [
      "[INFO] Keeping all rows: 89710 rows retained.\n"
     ]
    },
    {
     "name": "stdout",
     "output_type": "stream",
     "text": [
      "[INFO] Keeping all rows: 89710 rows retained.\n"
     ]
    },
    {
     "data": {
      "text/html": [
       "<div>\n",
       "<style scoped>\n",
       "    .dataframe tbody tr th:only-of-type {\n",
       "        vertical-align: middle;\n",
       "    }\n",
       "\n",
       "    .dataframe tbody tr th {\n",
       "        vertical-align: top;\n",
       "    }\n",
       "\n",
       "    .dataframe thead th {\n",
       "        text-align: right;\n",
       "    }\n",
       "</style>\n",
       "<table border=\"1\" class=\"dataframe\">\n",
       "  <thead>\n",
       "    <tr style=\"text-align: right;\">\n",
       "      <th></th>\n",
       "      <th>run_no</th>\n",
       "      <th>universe_id</th>\n",
       "      <th>universe_settings</th>\n",
       "      <th>execution_time</th>\n",
       "      <th>test_size_n</th>\n",
       "      <th>test_size_frac</th>\n",
       "      <th>fair_main_equalized_odds_difference</th>\n",
       "      <th>fair_main_equalized_odds_ratio</th>\n",
       "      <th>fair_main_demographic_parity_difference</th>\n",
       "      <th>fair_main_demographic_parity_ratio</th>\n",
       "      <th>...</th>\n",
       "      <th>perf_grp_precision_0</th>\n",
       "      <th>perf_grp_precision_1</th>\n",
       "      <th>perf_grp_false positive rate_0</th>\n",
       "      <th>perf_grp_false positive rate_1</th>\n",
       "      <th>perf_grp_false negative rate_0</th>\n",
       "      <th>perf_grp_false negative rate_1</th>\n",
       "      <th>perf_grp_selection rate_0</th>\n",
       "      <th>perf_grp_selection rate_1</th>\n",
       "      <th>perf_grp_count_0</th>\n",
       "      <th>perf_grp_count_1</th>\n",
       "    </tr>\n",
       "  </thead>\n",
       "  <tbody>\n",
       "    <tr>\n",
       "      <th>0</th>\n",
       "      <td>12</td>\n",
       "      <td>555b8a20cedd6a1c7ba8e4809b67955f</td>\n",
       "      <td>{\"cutoff\": \"quantile_0.1\", \"eval_fairness_grou...</td>\n",
       "      <td>47.451781</td>\n",
       "      <td>89710</td>\n",
       "      <td>1.0</td>\n",
       "      <td>0.091933</td>\n",
       "      <td>0.903988</td>\n",
       "      <td>0.079939</td>\n",
       "      <td>0.916872</td>\n",
       "      <td>...</td>\n",
       "      <td>NaN</td>\n",
       "      <td>NaN</td>\n",
       "      <td>NaN</td>\n",
       "      <td>NaN</td>\n",
       "      <td>NaN</td>\n",
       "      <td>NaN</td>\n",
       "      <td>NaN</td>\n",
       "      <td>NaN</td>\n",
       "      <td>NaN</td>\n",
       "      <td>NaN</td>\n",
       "    </tr>\n",
       "    <tr>\n",
       "      <th>0</th>\n",
       "      <td>12</td>\n",
       "      <td>555b8a20cedd6a1c7ba8e4809b67955f</td>\n",
       "      <td>{\"cutoff\": \"quantile_0.1\", \"eval_fairness_grou...</td>\n",
       "      <td>47.451781</td>\n",
       "      <td>89710</td>\n",
       "      <td>1.0</td>\n",
       "      <td>0.091933</td>\n",
       "      <td>0.903988</td>\n",
       "      <td>0.079939</td>\n",
       "      <td>0.916872</td>\n",
       "      <td>...</td>\n",
       "      <td>0.119077</td>\n",
       "      <td>0.147999</td>\n",
       "      <td>0.957517</td>\n",
       "      <td>0.865584</td>\n",
       "      <td>0.006757</td>\n",
       "      <td>0.012473</td>\n",
       "      <td>0.961636</td>\n",
       "      <td>0.881697</td>\n",
       "      <td>20540.0</td>\n",
       "      <td>69170.0</td>\n",
       "    </tr>\n",
       "    <tr>\n",
       "      <th>0</th>\n",
       "      <td>12</td>\n",
       "      <td>555b8a20cedd6a1c7ba8e4809b67955f</td>\n",
       "      <td>{\"cutoff\": \"quantile_0.25\", \"eval_fairness_gro...</td>\n",
       "      <td>47.451781</td>\n",
       "      <td>89710</td>\n",
       "      <td>1.0</td>\n",
       "      <td>0.161914</td>\n",
       "      <td>0.808319</td>\n",
       "      <td>0.140247</td>\n",
       "      <td>0.836567</td>\n",
       "      <td>...</td>\n",
       "      <td>NaN</td>\n",
       "      <td>NaN</td>\n",
       "      <td>NaN</td>\n",
       "      <td>NaN</td>\n",
       "      <td>NaN</td>\n",
       "      <td>NaN</td>\n",
       "      <td>NaN</td>\n",
       "      <td>NaN</td>\n",
       "      <td>NaN</td>\n",
       "      <td>NaN</td>\n",
       "    </tr>\n",
       "    <tr>\n",
       "      <th>0</th>\n",
       "      <td>12</td>\n",
       "      <td>555b8a20cedd6a1c7ba8e4809b67955f</td>\n",
       "      <td>{\"cutoff\": \"quantile_0.25\", \"eval_fairness_gro...</td>\n",
       "      <td>47.451781</td>\n",
       "      <td>89710</td>\n",
       "      <td>1.0</td>\n",
       "      <td>0.161914</td>\n",
       "      <td>0.808319</td>\n",
       "      <td>0.140247</td>\n",
       "      <td>0.836567</td>\n",
       "      <td>...</td>\n",
       "      <td>0.129127</td>\n",
       "      <td>0.174561</td>\n",
       "      <td>0.844706</td>\n",
       "      <td>0.682792</td>\n",
       "      <td>0.038851</td>\n",
       "      <td>0.051641</td>\n",
       "      <td>0.858130</td>\n",
       "      <td>0.717883</td>\n",
       "      <td>20540.0</td>\n",
       "      <td>69170.0</td>\n",
       "    </tr>\n",
       "  </tbody>\n",
       "</table>\n",
       "<p>4 rows × 50 columns</p>\n",
       "</div>"
      ],
      "text/plain": [
       "  run_no                       universe_id  \\\n",
       "0     12  555b8a20cedd6a1c7ba8e4809b67955f   \n",
       "0     12  555b8a20cedd6a1c7ba8e4809b67955f   \n",
       "0     12  555b8a20cedd6a1c7ba8e4809b67955f   \n",
       "0     12  555b8a20cedd6a1c7ba8e4809b67955f   \n",
       "\n",
       "                                   universe_settings  execution_time  \\\n",
       "0  {\"cutoff\": \"quantile_0.1\", \"eval_fairness_grou...       47.451781   \n",
       "0  {\"cutoff\": \"quantile_0.1\", \"eval_fairness_grou...       47.451781   \n",
       "0  {\"cutoff\": \"quantile_0.25\", \"eval_fairness_gro...       47.451781   \n",
       "0  {\"cutoff\": \"quantile_0.25\", \"eval_fairness_gro...       47.451781   \n",
       "\n",
       "   test_size_n  test_size_frac  fair_main_equalized_odds_difference  \\\n",
       "0        89710             1.0                             0.091933   \n",
       "0        89710             1.0                             0.091933   \n",
       "0        89710             1.0                             0.161914   \n",
       "0        89710             1.0                             0.161914   \n",
       "\n",
       "   fair_main_equalized_odds_ratio  fair_main_demographic_parity_difference  \\\n",
       "0                        0.903988                                 0.079939   \n",
       "0                        0.903988                                 0.079939   \n",
       "0                        0.808319                                 0.140247   \n",
       "0                        0.808319                                 0.140247   \n",
       "\n",
       "   fair_main_demographic_parity_ratio  ...  perf_grp_precision_0  \\\n",
       "0                            0.916872  ...                   NaN   \n",
       "0                            0.916872  ...              0.119077   \n",
       "0                            0.836567  ...                   NaN   \n",
       "0                            0.836567  ...              0.129127   \n",
       "\n",
       "   perf_grp_precision_1  perf_grp_false positive rate_0  \\\n",
       "0                   NaN                             NaN   \n",
       "0              0.147999                        0.957517   \n",
       "0                   NaN                             NaN   \n",
       "0              0.174561                        0.844706   \n",
       "\n",
       "   perf_grp_false positive rate_1  perf_grp_false negative rate_0  \\\n",
       "0                             NaN                             NaN   \n",
       "0                        0.865584                        0.006757   \n",
       "0                             NaN                             NaN   \n",
       "0                        0.682792                        0.038851   \n",
       "\n",
       "   perf_grp_false negative rate_1  perf_grp_selection rate_0  \\\n",
       "0                             NaN                        NaN   \n",
       "0                        0.012473                   0.961636   \n",
       "0                             NaN                        NaN   \n",
       "0                        0.051641                   0.858130   \n",
       "\n",
       "   perf_grp_selection rate_1  perf_grp_count_0  perf_grp_count_1  \n",
       "0                        NaN               NaN               NaN  \n",
       "0                   0.881697           20540.0           69170.0  \n",
       "0                        NaN               NaN               NaN  \n",
       "0                   0.717883           20540.0           69170.0  \n",
       "\n",
       "[4 rows x 50 columns]"
      ]
     },
     "execution_count": 79,
     "metadata": {},
     "output_type": "execute_result"
    }
   ],
   "source": [
    "final_output = universe_analysis.generate_final_output(\n",
    "    y_pred_prob=probs_test,\n",
    "    y_test=y_true,\n",
    "    org_test=org_test,\n",
    "    filter_data=filter_sub_universe_data,\n",
    "    cp_metrics_df=cp_metrics_df,\n",
    "    save=True,\n",
    ")\n",
    "final_output"
   ]
  },
  {
   "cell_type": "code",
   "execution_count": null,
   "id": "721ff514-cb11-46f8-b6fc-50392f74b5cb",
   "metadata": {
    "papermill": {
     "duration": 0.043909,
     "end_time": "2025-07-30T13:10:43.418458",
     "exception": false,
     "start_time": "2025-07-30T13:10:43.374549",
     "status": "completed"
    },
    "tags": []
   },
   "outputs": [],
   "source": []
  }
 ],
 "metadata": {
  "celltoolbar": "Tags",
  "kernelspec": {
   "display_name": "Python (CMA Fairness)",
   "language": "python",
   "name": "cma_fair_env"
  },
  "language_info": {
   "codemirror_mode": {
    "name": "ipython",
    "version": 3
   },
   "file_extension": ".py",
   "mimetype": "text/x-python",
   "name": "python",
   "nbconvert_exporter": "python",
   "pygments_lexer": "ipython3",
   "version": "3.10.12"
  },
  "papermill": {
   "default_parameters": {},
   "duration": 60.684101,
   "end_time": "2025-07-30T13:10:44.152025",
   "environment_variables": {},
   "exception": null,
   "input_path": "universe_analysis.ipynb",
   "output_path": "output/runs/12/notebooks/m_12-555b8a20cedd6a1c7ba8e4809b67955f.ipynb",
   "parameters": {
    "output_dir": "output",
    "run_no": "12",
    "seed": "2023",
    "universe": "{\"cutoff\": [\"quantile_0.1\", \"quantile_0.25\"], \"eval_fairness_grouping\": [\"majority-minority\", \"nationality-all\"], \"exclude_features\": \"none\", \"exclude_subgroups\": \"keep-all\", \"model\": \"elasticnet\", \"scale\": \"scale\", \"training_size\": \"25k\", \"training_year\": \"2012_14\"}",
    "universe_id": "555b8a20cedd6a1c7ba8e4809b67955f"
   },
   "start_time": "2025-07-30T13:09:43.467924",
   "version": "2.6.0"
  }
 },
 "nbformat": 4,
 "nbformat_minor": 5
}