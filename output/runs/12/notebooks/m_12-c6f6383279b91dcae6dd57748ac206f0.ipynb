{
 "cells": [
  {
   "cell_type": "code",
   "execution_count": 1,
   "id": "f159f837-637b-42ba-96b5-ec9a68c44524",
   "metadata": {
    "execution": {
     "iopub.execute_input": "2025-07-30T13:52:54.849900Z",
     "iopub.status.busy": "2025-07-30T13:52:54.849368Z",
     "iopub.status.idle": "2025-07-30T13:52:54.862931Z",
     "shell.execute_reply": "2025-07-30T13:52:54.861959Z"
    },
    "papermill": {
     "duration": 0.036033,
     "end_time": "2025-07-30T13:52:54.864606",
     "exception": false,
     "start_time": "2025-07-30T13:52:54.828573",
     "status": "completed"
    },
    "tags": []
   },
   "outputs": [
    {
     "name": "stdout",
     "output_type": "stream",
     "text": [
      "/dss/dsshome1/0C/ra93lal2/cma/CMA_Fairness_v2\n"
     ]
    },
    {
     "name": "stderr",
     "output_type": "stream",
     "text": [
      "/dss/dsshome1/0C/ra93lal2/.local/share/virtualenvs/CMA_Fairness_v2-3j10GkSs/lib/python3.10/site-packages/IPython/core/magics/osm.py:393: UserWarning: This is now an optional IPython functionality, using bookmarks requires you to install the `pickleshare` library.\n",
      "  bkms = self.shell.db.get('bookmarks', {})\n",
      "/dss/dsshome1/0C/ra93lal2/.local/share/virtualenvs/CMA_Fairness_v2-3j10GkSs/lib/python3.10/site-packages/IPython/core/magics/osm.py:417: UserWarning: This is now an optional IPython functionality, setting dhist requires you to install the `pickleshare` library.\n",
      "  self.shell.db['dhist'] = compress_dhist(dhist)[-100:]\n"
     ]
    }
   ],
   "source": [
    "%cd ~/cma/CMA_Fairness_v2"
   ]
  },
  {
   "cell_type": "markdown",
   "id": "de2603b9",
   "metadata": {
    "papermill": {
     "duration": 0.017233,
     "end_time": "2025-07-30T13:52:54.900214",
     "exception": false,
     "start_time": "2025-07-30T13:52:54.882981",
     "status": "completed"
    },
    "tags": []
   },
   "source": [
    "The following cell holds the definition of our parameters, these values can be overriden by rendering the with e.g. the following command:\n",
    "\n",
    "papermill -p alpha 0.2 -p ratio 0.3 universe_analysis.ipynb output/test_run.ipynb"
   ]
  },
  {
   "cell_type": "code",
   "execution_count": 2,
   "id": "a80968a0-40bb-4fa9-85ef-2d5eefb01975",
   "metadata": {
    "execution": {
     "iopub.execute_input": "2025-07-30T13:52:54.936749Z",
     "iopub.status.busy": "2025-07-30T13:52:54.936256Z",
     "iopub.status.idle": "2025-07-30T13:52:54.943131Z",
     "shell.execute_reply": "2025-07-30T13:52:54.942252Z"
    },
    "papermill": {
     "duration": 0.027117,
     "end_time": "2025-07-30T13:52:54.944656",
     "exception": false,
     "start_time": "2025-07-30T13:52:54.917539",
     "status": "completed"
    },
    "tags": []
   },
   "outputs": [
    {
     "name": "stdout",
     "output_type": "stream",
     "text": [
      "Current working directory: /dss/dsshome1/0C/ra93lal2/cma/CMA_Fairness_v2\n"
     ]
    }
   ],
   "source": [
    "import os\n",
    "print(\"Current working directory:\", os.getcwd())"
   ]
  },
  {
   "cell_type": "code",
   "execution_count": 3,
   "id": "2dce4c03",
   "metadata": {
    "execution": {
     "iopub.execute_input": "2025-07-30T13:52:54.982535Z",
     "iopub.status.busy": "2025-07-30T13:52:54.981726Z",
     "iopub.status.idle": "2025-07-30T13:52:54.987766Z",
     "shell.execute_reply": "2025-07-30T13:52:54.986868Z"
    },
    "papermill": {
     "duration": 0.02647,
     "end_time": "2025-07-30T13:52:54.989523",
     "exception": false,
     "start_time": "2025-07-30T13:52:54.963053",
     "status": "completed"
    },
    "tags": [
     "parameters"
    ]
   },
   "outputs": [],
   "source": [
    "run_no = 0\n",
    "universe_id = \"test\"\n",
    "universe = {\n",
    "    \"training_size\": \"25k\", # \"25k\", \"5k\", \"1k\"\n",
    "    \"training_year\": \"2014\", # \"2014\", \"2012_14\", \"2010_14\"\n",
    "    \"scale\": \"scale\", # \"scale\", \"do-not-scale\",\n",
    "    #\"stratify_split\": \"target\", # \"none\", \"target\", \"protected-attribute\", \"both\",\n",
    "    \"model\": \"elasticnet\", # \"logreg\", \"penalized_logreg\", \"rf\", \"gbm\", \"elasticnet\"\n",
    "    \"cutoff\": [\"quantile_0.15\", \"quantile_0.30\"],\n",
    "    \"exclude_features\": \"age\", # \"none\", \"nationality\", \"sex\", \"nationality-sex\", \"age\"\n",
    "    \"exclude_subgroups\": \"keep-all\", # \"keep-all\", \"drop-non-german\"\n",
    "    \"eval_fairness_grouping\": [\"majority-minority\", \"nationality-all\"]\n",
    "}\n",
    "\n",
    "output_dir=\"./output\"\n",
    "seed=0"
   ]
  },
  {
   "cell_type": "code",
   "execution_count": 4,
   "id": "76d88869",
   "metadata": {
    "execution": {
     "iopub.execute_input": "2025-07-30T13:52:55.029983Z",
     "iopub.status.busy": "2025-07-30T13:52:55.029193Z",
     "iopub.status.idle": "2025-07-30T13:52:55.034482Z",
     "shell.execute_reply": "2025-07-30T13:52:55.033621Z"
    },
    "papermill": {
     "duration": 0.025903,
     "end_time": "2025-07-30T13:52:55.036183",
     "exception": false,
     "start_time": "2025-07-30T13:52:55.010280",
     "status": "completed"
    },
    "tags": [
     "injected-parameters"
    ]
   },
   "outputs": [],
   "source": [
    "# Parameters\n",
    "universe_id = \"c6f6383279b91dcae6dd57748ac206f0\"\n",
    "run_no = \"12\"\n",
    "universe = \"{\\\"cutoff\\\": [\\\"quantile_0.1\\\", \\\"quantile_0.25\\\"], \\\"eval_fairness_grouping\\\": [\\\"majority-minority\\\", \\\"nationality-all\\\"], \\\"exclude_features\\\": \\\"age\\\", \\\"exclude_subgroups\\\": \\\"keep-all\\\", \\\"model\\\": \\\"elasticnet\\\", \\\"scale\\\": \\\"do-not-scale\\\", \\\"training_size\\\": \\\"5k\\\", \\\"training_year\\\": \\\"2014\\\"}\"\n",
    "output_dir = \"output\"\n",
    "seed = \"2023\"\n"
   ]
  },
  {
   "cell_type": "code",
   "execution_count": 5,
   "id": "1650acaf",
   "metadata": {
    "execution": {
     "iopub.execute_input": "2025-07-30T13:52:55.085258Z",
     "iopub.status.busy": "2025-07-30T13:52:55.084784Z",
     "iopub.status.idle": "2025-07-30T13:52:55.090091Z",
     "shell.execute_reply": "2025-07-30T13:52:55.089067Z"
    },
    "papermill": {
     "duration": 0.035568,
     "end_time": "2025-07-30T13:52:55.092018",
     "exception": false,
     "start_time": "2025-07-30T13:52:55.056450",
     "status": "completed"
    },
    "tags": []
   },
   "outputs": [],
   "source": [
    "import json\n",
    "# Parse universe into dict if it is passed as a string\n",
    "if isinstance(universe, str):\n",
    "    universe = json.loads(universe)"
   ]
  },
  {
   "cell_type": "code",
   "execution_count": 6,
   "id": "16620c48",
   "metadata": {
    "execution": {
     "iopub.execute_input": "2025-07-30T13:52:55.132821Z",
     "iopub.status.busy": "2025-07-30T13:52:55.132379Z",
     "iopub.status.idle": "2025-07-30T13:52:55.179055Z",
     "shell.execute_reply": "2025-07-30T13:52:55.178206Z"
    },
    "papermill": {
     "duration": 0.06872,
     "end_time": "2025-07-30T13:52:55.180816",
     "exception": false,
     "start_time": "2025-07-30T13:52:55.112096",
     "status": "completed"
    },
    "tags": []
   },
   "outputs": [],
   "source": [
    "# Auto-reload the custom package\n",
    "%load_ext autoreload\n",
    "%autoreload 1\n",
    "%aimport fairness_multiverse"
   ]
  },
  {
   "cell_type": "code",
   "execution_count": 7,
   "id": "01c5c9f3",
   "metadata": {
    "execution": {
     "iopub.execute_input": "2025-07-30T13:52:55.221225Z",
     "iopub.status.busy": "2025-07-30T13:52:55.220792Z",
     "iopub.status.idle": "2025-07-30T13:52:56.986646Z",
     "shell.execute_reply": "2025-07-30T13:52:56.985885Z"
    },
    "papermill": {
     "duration": 1.788498,
     "end_time": "2025-07-30T13:52:56.988079",
     "exception": false,
     "start_time": "2025-07-30T13:52:55.199581",
     "status": "completed"
    },
    "tags": []
   },
   "outputs": [],
   "source": [
    "from fairness_multiverse.universe import UniverseAnalysis\n",
    "\n",
    "universe_analysis = UniverseAnalysis(\n",
    "    run_no = run_no,\n",
    "    universe_id = universe_id,\n",
    "    universe = universe,\n",
    "    output_dir=output_dir,\n",
    ")"
   ]
  },
  {
   "cell_type": "code",
   "execution_count": 8,
   "id": "106241f5",
   "metadata": {
    "execution": {
     "iopub.execute_input": "2025-07-30T13:52:57.011027Z",
     "iopub.status.busy": "2025-07-30T13:52:57.010404Z",
     "iopub.status.idle": "2025-07-30T13:52:57.016642Z",
     "shell.execute_reply": "2025-07-30T13:52:57.015829Z"
    },
    "papermill": {
     "duration": 0.018713,
     "end_time": "2025-07-30T13:52:57.017940",
     "exception": false,
     "start_time": "2025-07-30T13:52:56.999227",
     "status": "completed"
    },
    "tags": []
   },
   "outputs": [
    {
     "name": "stdout",
     "output_type": "stream",
     "text": [
      "Using Seed: 2023\n"
     ]
    }
   ],
   "source": [
    "import numpy as np\n",
    "parsed_seed = int(seed)\n",
    "np.random.seed(parsed_seed)\n",
    "print(f\"Using Seed: {parsed_seed}\")"
   ]
  },
  {
   "cell_type": "markdown",
   "id": "e0ebdc57",
   "metadata": {
    "papermill": {
     "duration": 0.010346,
     "end_time": "2025-07-30T13:52:57.039450",
     "exception": false,
     "start_time": "2025-07-30T13:52:57.029104",
     "status": "completed"
    },
    "tags": []
   },
   "source": [
    "# Loading Data"
   ]
  },
  {
   "cell_type": "markdown",
   "id": "681925a3",
   "metadata": {
    "papermill": {
     "duration": 0.011024,
     "end_time": "2025-07-30T13:52:57.061255",
     "exception": false,
     "start_time": "2025-07-30T13:52:57.050231",
     "status": "completed"
    },
    "tags": []
   },
   "source": [
    "Load siab_train, siab_test, siab_calib and/or \n",
    "load siab_train_features, siab_train_labels"
   ]
  },
  {
   "cell_type": "code",
   "execution_count": 9,
   "id": "f0496b8a",
   "metadata": {
    "execution": {
     "iopub.execute_input": "2025-07-30T13:52:57.083348Z",
     "iopub.status.busy": "2025-07-30T13:52:57.082594Z",
     "iopub.status.idle": "2025-07-30T13:53:08.878624Z",
     "shell.execute_reply": "2025-07-30T13:53:08.876724Z"
    },
    "papermill": {
     "duration": 11.809131,
     "end_time": "2025-07-30T13:53:08.880574",
     "exception": false,
     "start_time": "2025-07-30T13:52:57.071443",
     "status": "completed"
    },
    "tags": []
   },
   "outputs": [
    {
     "name": "stdout",
     "output_type": "stream",
     "text": [
      "Loading SIAB data from cache: data/siab_cached.csv.gz\n"
     ]
    },
    {
     "name": "stdout",
     "output_type": "stream",
     "text": [
      "(643690, 164)\n"
     ]
    }
   ],
   "source": [
    "from pathlib import Path\n",
    "import pandas as pd\n",
    "\n",
    "# File paths\n",
    "raw_file = Path(\"data/raw/siab.csv\")\n",
    "cache_file = Path(\"data/siab_cached.csv.gz\")\n",
    "\n",
    "# Ensure cache directory exists\n",
    "cache_file.parent.mkdir(parents=True, exist_ok=True)\n",
    "\n",
    "# Load with simple caching\n",
    "if cache_file.exists():\n",
    "    print(f\"Loading SIAB data from cache: {cache_file}\")\n",
    "    siab = pd.read_csv(cache_file, compression='gzip')\n",
    "else:\n",
    "    print(f\"Cache not found. Reading raw SIAB data: {raw_file}\")\n",
    "    siab = pd.read_csv(raw_file)\n",
    "    siab.to_csv(cache_file, index=False, compression='gzip')\n",
    "    print(f\"Cached SIAB data to: {cache_file}\")\n",
    "\n",
    "# Now use `siab` DataFrame as needed\n",
    "print(siab.shape)"
   ]
  },
  {
   "cell_type": "code",
   "execution_count": 10,
   "id": "db0ca512-5f53-4dba-abdb-a2888bca41ba",
   "metadata": {
    "execution": {
     "iopub.execute_input": "2025-07-30T13:53:08.923157Z",
     "iopub.status.busy": "2025-07-30T13:53:08.922489Z",
     "iopub.status.idle": "2025-07-30T13:53:08.928117Z",
     "shell.execute_reply": "2025-07-30T13:53:08.927148Z"
    },
    "papermill": {
     "duration": 0.027516,
     "end_time": "2025-07-30T13:53:08.929867",
     "exception": false,
     "start_time": "2025-07-30T13:53:08.902351",
     "status": "completed"
    },
    "tags": []
   },
   "outputs": [],
   "source": [
    "#siab"
   ]
  },
  {
   "cell_type": "code",
   "execution_count": 11,
   "id": "a0edb063",
   "metadata": {
    "execution": {
     "iopub.execute_input": "2025-07-30T13:53:08.971245Z",
     "iopub.status.busy": "2025-07-30T13:53:08.970344Z",
     "iopub.status.idle": "2025-07-30T13:53:08.975708Z",
     "shell.execute_reply": "2025-07-30T13:53:08.974588Z"
    },
    "papermill": {
     "duration": 0.027654,
     "end_time": "2025-07-30T13:53:08.977636",
     "exception": false,
     "start_time": "2025-07-30T13:53:08.949982",
     "status": "completed"
    },
    "tags": []
   },
   "outputs": [],
   "source": [
    "#import pandas as pd\n",
    "#\n",
    "#X_train = pd.read_csv(\"./data/X_train.csv\")\n",
    "#y_train = pd.read_csv(\"./data/y_train.csv\")"
   ]
  },
  {
   "cell_type": "code",
   "execution_count": 12,
   "id": "63d08085",
   "metadata": {
    "execution": {
     "iopub.execute_input": "2025-07-30T13:53:09.017895Z",
     "iopub.status.busy": "2025-07-30T13:53:09.017164Z",
     "iopub.status.idle": "2025-07-30T13:53:09.022656Z",
     "shell.execute_reply": "2025-07-30T13:53:09.021423Z"
    },
    "papermill": {
     "duration": 0.027543,
     "end_time": "2025-07-30T13:53:09.024551",
     "exception": false,
     "start_time": "2025-07-30T13:53:08.997008",
     "status": "completed"
    },
    "tags": []
   },
   "outputs": [],
   "source": [
    "#X_test = pd.read_csv(\"./data/X_test.csv\")\n",
    "#y_true = pd.read_csv(\"./data/y_test.csv\")"
   ]
  },
  {
   "cell_type": "code",
   "execution_count": 13,
   "id": "98a8d0fa-1d3d-4ed8-bb2c-281470e24add",
   "metadata": {
    "execution": {
     "iopub.execute_input": "2025-07-30T13:53:09.066484Z",
     "iopub.status.busy": "2025-07-30T13:53:09.066041Z",
     "iopub.status.idle": "2025-07-30T13:53:09.071154Z",
     "shell.execute_reply": "2025-07-30T13:53:09.070201Z"
    },
    "papermill": {
     "duration": 0.027128,
     "end_time": "2025-07-30T13:53:09.072722",
     "exception": false,
     "start_time": "2025-07-30T13:53:09.045594",
     "status": "completed"
    },
    "tags": []
   },
   "outputs": [],
   "source": [
    "# Calibration data for conformal\n",
    "#X_calib = pd.read_csv(\"./data/X_calib.csv\")\n",
    "#y_calib = pd.read_csv(\"./data/y_calib.csv\")"
   ]
  },
  {
   "cell_type": "markdown",
   "id": "997051c5-15bd-4b69-9786-c3001a3ce484",
   "metadata": {
    "papermill": {
     "duration": 0.020887,
     "end_time": "2025-07-30T13:53:09.115522",
     "exception": false,
     "start_time": "2025-07-30T13:53:09.094635",
     "status": "completed"
    },
    "tags": []
   },
   "source": [
    "# Splitting Data and Setting Training Data Size"
   ]
  },
  {
   "cell_type": "code",
   "execution_count": 14,
   "id": "e993b61f-042d-41a6-8c81-f55681f86335",
   "metadata": {
    "execution": {
     "iopub.execute_input": "2025-07-30T13:53:09.139685Z",
     "iopub.status.busy": "2025-07-30T13:53:09.139345Z",
     "iopub.status.idle": "2025-07-30T13:53:09.148568Z",
     "shell.execute_reply": "2025-07-30T13:53:09.147793Z"
    },
    "papermill": {
     "duration": 0.021698,
     "end_time": "2025-07-30T13:53:09.149907",
     "exception": false,
     "start_time": "2025-07-30T13:53:09.128209",
     "status": "completed"
    },
    "tags": []
   },
   "outputs": [],
   "source": [
    "def sample_by_year_size(df,\n",
    "                        training_year: str,\n",
    "                        training_size: str,\n",
    "                        random_state: int = 42):\n",
    "    # --- parse training_year into a list of int years ---\n",
    "    if \"_\" in training_year:\n",
    "        start_str, end_str = training_year.split(\"_\", 1)\n",
    "        start = int(start_str)\n",
    "        end   = int(end_str) if len(end_str) == 4 else (int(end_str) + (start // 100)*100)\n",
    "        years = list(range(start, end + 1))\n",
    "    else:\n",
    "        years = [int(training_year)]\n",
    "\n",
    "    df = df[df[\"year\"].isin(years)].reset_index(drop=True)\n",
    "\n",
    "    # --- map training_size to total number of samples ---\n",
    "    total_map = {\"25k\": 25_000, \"5k\": 5_000, \"1k\": 1_000}\n",
    "    if training_size not in total_map:\n",
    "        return df  # e.g. \"all\"\n",
    "\n",
    "    total_samples = total_map[training_size]\n",
    "    n_years       = len(years)\n",
    "    base          = total_samples // n_years\n",
    "    remainder     = total_samples % n_years\n",
    "\n",
    "    # --- build a dict: year -> how many to sample ---\n",
    "    # give +1 to the first `remainder` years in ascending order\n",
    "    quotas = {\n",
    "        year: base + (1 if idx < remainder else 0)\n",
    "        for idx, year in enumerate(sorted(years))\n",
    "    }\n",
    "\n",
    "    # --- sample per‐year according to the quota dict ---\n",
    "    sampled = (\n",
    "        df\n",
    "        .groupby(\"year\", group_keys=False)\n",
    "        .apply(lambda grp: grp.sample(\n",
    "            n=min(len(grp), quotas[grp.name]),\n",
    "            random_state=random_state))\n",
    "        .reset_index(drop=True)\n",
    "    )\n",
    "\n",
    "    return sampled"
   ]
  },
  {
   "cell_type": "code",
   "execution_count": 15,
   "id": "c0ccd338-0e02-41f3-a09d-f56f9266e3fb",
   "metadata": {
    "execution": {
     "iopub.execute_input": "2025-07-30T13:53:09.173182Z",
     "iopub.status.busy": "2025-07-30T13:53:09.172473Z",
     "iopub.status.idle": "2025-07-30T13:53:09.180812Z",
     "shell.execute_reply": "2025-07-30T13:53:09.180112Z"
    },
    "papermill": {
     "duration": 0.020617,
     "end_time": "2025-07-30T13:53:09.182217",
     "exception": false,
     "start_time": "2025-07-30T13:53:09.161600",
     "status": "completed"
    },
    "tags": []
   },
   "outputs": [
    {
     "data": {
      "text/plain": [
       "'5k'"
      ]
     },
     "execution_count": 15,
     "metadata": {},
     "output_type": "execute_result"
    }
   ],
   "source": [
    "universe[\"training_size\"]"
   ]
  },
  {
   "cell_type": "code",
   "execution_count": 16,
   "id": "ca707fd7-8047-4acd-bfa5-66248fbbf8e6",
   "metadata": {
    "execution": {
     "iopub.execute_input": "2025-07-30T13:53:09.204804Z",
     "iopub.status.busy": "2025-07-30T13:53:09.204312Z",
     "iopub.status.idle": "2025-07-30T13:53:09.210178Z",
     "shell.execute_reply": "2025-07-30T13:53:09.209497Z"
    },
    "papermill": {
     "duration": 0.018037,
     "end_time": "2025-07-30T13:53:09.211424",
     "exception": false,
     "start_time": "2025-07-30T13:53:09.193387",
     "status": "completed"
    },
    "tags": []
   },
   "outputs": [
    {
     "data": {
      "text/plain": [
       "'2014'"
      ]
     },
     "execution_count": 16,
     "metadata": {},
     "output_type": "execute_result"
    }
   ],
   "source": [
    "universe[\"training_year\"]"
   ]
  },
  {
   "cell_type": "code",
   "execution_count": 17,
   "id": "aea9c6ef-6f46-42c8-85eb-5a62025c1508",
   "metadata": {
    "execution": {
     "iopub.execute_input": "2025-07-30T13:53:09.243801Z",
     "iopub.status.busy": "2025-07-30T13:53:09.243143Z",
     "iopub.status.idle": "2025-07-30T13:53:09.455497Z",
     "shell.execute_reply": "2025-07-30T13:53:09.454760Z"
    },
    "papermill": {
     "duration": 0.226631,
     "end_time": "2025-07-30T13:53:09.457461",
     "exception": false,
     "start_time": "2025-07-30T13:53:09.230830",
     "status": "completed"
    },
    "tags": []
   },
   "outputs": [],
   "source": [
    "siab_train = sample_by_year_size(siab,\n",
    "                               training_year=universe[\"training_year\"],\n",
    "                               training_size=universe[\"training_size\"])"
   ]
  },
  {
   "cell_type": "code",
   "execution_count": 18,
   "id": "8d3afb32-789d-442c-8d5d-9f5aa8dd2eed",
   "metadata": {
    "execution": {
     "iopub.execute_input": "2025-07-30T13:53:09.500474Z",
     "iopub.status.busy": "2025-07-30T13:53:09.499924Z",
     "iopub.status.idle": "2025-07-30T13:53:09.507184Z",
     "shell.execute_reply": "2025-07-30T13:53:09.506216Z"
    },
    "papermill": {
     "duration": 0.030266,
     "end_time": "2025-07-30T13:53:09.508865",
     "exception": false,
     "start_time": "2025-07-30T13:53:09.478599",
     "status": "completed"
    },
    "tags": []
   },
   "outputs": [
    {
     "data": {
      "text/plain": [
       "(5000, 164)"
      ]
     },
     "execution_count": 18,
     "metadata": {},
     "output_type": "execute_result"
    }
   ],
   "source": [
    "siab_train.shape"
   ]
  },
  {
   "cell_type": "code",
   "execution_count": 19,
   "id": "d582db68-1a4c-47fb-84fc-08518dc1975a",
   "metadata": {
    "execution": {
     "iopub.execute_input": "2025-07-30T13:53:09.552786Z",
     "iopub.status.busy": "2025-07-30T13:53:09.552145Z",
     "iopub.status.idle": "2025-07-30T13:53:09.561815Z",
     "shell.execute_reply": "2025-07-30T13:53:09.560964Z"
    },
    "papermill": {
     "duration": 0.032893,
     "end_time": "2025-07-30T13:53:09.563897",
     "exception": false,
     "start_time": "2025-07-30T13:53:09.531004",
     "status": "completed"
    },
    "tags": []
   },
   "outputs": [
    {
     "data": {
      "text/plain": [
       "year\n",
       "2014    5000\n",
       "dtype: int64"
      ]
     },
     "metadata": {},
     "output_type": "display_data"
    }
   ],
   "source": [
    "display(siab_train.groupby(\"year\").size())"
   ]
  },
  {
   "cell_type": "code",
   "execution_count": 20,
   "id": "a561edb4-d032-42cb-8256-22eac1111c64",
   "metadata": {
    "execution": {
     "iopub.execute_input": "2025-07-30T13:53:09.674089Z",
     "iopub.status.busy": "2025-07-30T13:53:09.673594Z",
     "iopub.status.idle": "2025-07-30T13:53:09.901345Z",
     "shell.execute_reply": "2025-07-30T13:53:09.900385Z"
    },
    "papermill": {
     "duration": 0.313126,
     "end_time": "2025-07-30T13:53:09.903384",
     "exception": false,
     "start_time": "2025-07-30T13:53:09.590258",
     "status": "completed"
    },
    "tags": []
   },
   "outputs": [],
   "source": [
    "#siab_train = siab_s[siab_s.year < 2015]\n",
    "siab_calib = siab[siab.year == 2015]\n",
    "siab_test = siab[siab.year == 2016]"
   ]
  },
  {
   "cell_type": "code",
   "execution_count": 21,
   "id": "472de16f-c3db-4916-846b-1f0de9cf1746",
   "metadata": {
    "execution": {
     "iopub.execute_input": "2025-07-30T13:53:09.947315Z",
     "iopub.status.busy": "2025-07-30T13:53:09.946862Z",
     "iopub.status.idle": "2025-07-30T13:53:09.955282Z",
     "shell.execute_reply": "2025-07-30T13:53:09.954226Z"
    },
    "papermill": {
     "duration": 0.032052,
     "end_time": "2025-07-30T13:53:09.957305",
     "exception": false,
     "start_time": "2025-07-30T13:53:09.925253",
     "status": "completed"
    },
    "tags": []
   },
   "outputs": [],
   "source": [
    "X_train = siab_train.iloc[:,4:164]\n",
    "y_train = siab_train.iloc[:, [3]]"
   ]
  },
  {
   "cell_type": "code",
   "execution_count": 22,
   "id": "828c96af-f43a-4ed6-ba47-8ac73a47d56c",
   "metadata": {
    "execution": {
     "iopub.execute_input": "2025-07-30T13:53:10.002088Z",
     "iopub.status.busy": "2025-07-30T13:53:10.001440Z",
     "iopub.status.idle": "2025-07-30T13:53:10.063497Z",
     "shell.execute_reply": "2025-07-30T13:53:10.062357Z"
    },
    "papermill": {
     "duration": 0.088604,
     "end_time": "2025-07-30T13:53:10.068002",
     "exception": false,
     "start_time": "2025-07-30T13:53:09.979398",
     "status": "completed"
    },
    "tags": []
   },
   "outputs": [],
   "source": [
    "X_calib = siab_calib.iloc[:,4:164]\n",
    "y_calib = siab_calib.iloc[:, [3]]"
   ]
  },
  {
   "cell_type": "code",
   "execution_count": 23,
   "id": "c34be9c3-6bd6-476e-acd3-845840e303be",
   "metadata": {
    "execution": {
     "iopub.execute_input": "2025-07-30T13:53:10.121316Z",
     "iopub.status.busy": "2025-07-30T13:53:10.120647Z",
     "iopub.status.idle": "2025-07-30T13:53:10.175545Z",
     "shell.execute_reply": "2025-07-30T13:53:10.174482Z"
    },
    "papermill": {
     "duration": 0.079554,
     "end_time": "2025-07-30T13:53:10.177298",
     "exception": false,
     "start_time": "2025-07-30T13:53:10.097744",
     "status": "completed"
    },
    "tags": []
   },
   "outputs": [],
   "source": [
    "X_test = siab_test.iloc[:,4:164]\n",
    "y_true = siab_test.iloc[:, [3]]"
   ]
  },
  {
   "cell_type": "markdown",
   "id": "9901737e-04df-44f0-9100-f5ad144ed040",
   "metadata": {
    "papermill": {
     "duration": 0.020933,
     "end_time": "2025-07-30T13:53:10.221506",
     "exception": false,
     "start_time": "2025-07-30T13:53:10.200573",
     "status": "completed"
    },
    "tags": []
   },
   "source": [
    "# Splitting Data and Setting Training Data Size OLD VERSION"
   ]
  },
  {
   "cell_type": "code",
   "execution_count": 24,
   "id": "acbc8f7d-8fc8-4e86-8c59-5dcb0f58384b",
   "metadata": {
    "execution": {
     "iopub.execute_input": "2025-07-30T13:53:10.265143Z",
     "iopub.status.busy": "2025-07-30T13:53:10.264491Z",
     "iopub.status.idle": "2025-07-30T13:53:10.270166Z",
     "shell.execute_reply": "2025-07-30T13:53:10.269229Z"
    },
    "papermill": {
     "duration": 0.029261,
     "end_time": "2025-07-30T13:53:10.271800",
     "exception": false,
     "start_time": "2025-07-30T13:53:10.242539",
     "status": "completed"
    },
    "tags": []
   },
   "outputs": [],
   "source": [
    "#def sample_by_year(df, training_size, random_state=42):\n",
    "#    if training_size == \"2014\":\n",
    "#        return df[df[\"year\"] == 2014].reset_index(drop=True)\n",
    "#    \n",
    "#    size_map = {\n",
    "#        \"25k\": 5000,\n",
    "#        \"5k\": 1000,\n",
    "#        \"1k\": 200\n",
    "#    }\n",
    "#\n",
    "#    if training_size not in size_map:\n",
    "#        return df.reset_index(drop=True)  # use all data\n",
    "#\n",
    "#    n_per_year = size_map[training_size]\n",
    "#    grouped = df.groupby(\"year\")\n",
    "#    sampled = grouped.apply(lambda x: x.sample(n=min(n_per_year, len(x)), random_state=random_state))\n",
    "#    return sampled.reset_index(drop=True)"
   ]
  },
  {
   "cell_type": "code",
   "execution_count": 25,
   "id": "6d931f52-beaf-43ff-9e78-9d44a448d54e",
   "metadata": {
    "execution": {
     "iopub.execute_input": "2025-07-30T13:53:10.316956Z",
     "iopub.status.busy": "2025-07-30T13:53:10.316498Z",
     "iopub.status.idle": "2025-07-30T13:53:10.321516Z",
     "shell.execute_reply": "2025-07-30T13:53:10.320577Z"
    },
    "papermill": {
     "duration": 0.02872,
     "end_time": "2025-07-30T13:53:10.323051",
     "exception": false,
     "start_time": "2025-07-30T13:53:10.294331",
     "status": "completed"
    },
    "tags": []
   },
   "outputs": [],
   "source": [
    "#siab_s = sample_by_year(siab, universe[\"training_size\"])"
   ]
  },
  {
   "cell_type": "code",
   "execution_count": 26,
   "id": "5db0a40e-a4e2-4920-be85-b12ae061d70d",
   "metadata": {
    "execution": {
     "iopub.execute_input": "2025-07-30T13:53:10.369397Z",
     "iopub.status.busy": "2025-07-30T13:53:10.368743Z",
     "iopub.status.idle": "2025-07-30T13:53:10.374094Z",
     "shell.execute_reply": "2025-07-30T13:53:10.373139Z"
    },
    "papermill": {
     "duration": 0.030247,
     "end_time": "2025-07-30T13:53:10.375819",
     "exception": false,
     "start_time": "2025-07-30T13:53:10.345572",
     "status": "completed"
    },
    "tags": []
   },
   "outputs": [],
   "source": [
    "#display(siab_s.groupby(\"year\").size())"
   ]
  },
  {
   "cell_type": "code",
   "execution_count": 27,
   "id": "e6c733c5",
   "metadata": {
    "execution": {
     "iopub.execute_input": "2025-07-30T13:53:10.420355Z",
     "iopub.status.busy": "2025-07-30T13:53:10.419752Z",
     "iopub.status.idle": "2025-07-30T13:53:10.516849Z",
     "shell.execute_reply": "2025-07-30T13:53:10.515932Z"
    },
    "papermill": {
     "duration": 0.120797,
     "end_time": "2025-07-30T13:53:10.518692",
     "exception": false,
     "start_time": "2025-07-30T13:53:10.397895",
     "status": "completed"
    },
    "tags": []
   },
   "outputs": [],
   "source": [
    "# Auxiliary data needed downstream in the pipeline\n",
    "\n",
    "org_train = X_train.copy()\n",
    "org_test = X_test.copy()\n",
    "org_calib = X_calib.copy()"
   ]
  },
  {
   "cell_type": "code",
   "execution_count": 28,
   "id": "1466abac-c6da-4492-a62f-4240ae3783af",
   "metadata": {
    "execution": {
     "iopub.execute_input": "2025-07-30T13:53:10.562918Z",
     "iopub.status.busy": "2025-07-30T13:53:10.562240Z",
     "iopub.status.idle": "2025-07-30T13:53:10.568101Z",
     "shell.execute_reply": "2025-07-30T13:53:10.567119Z"
    },
    "papermill": {
     "duration": 0.030027,
     "end_time": "2025-07-30T13:53:10.569735",
     "exception": false,
     "start_time": "2025-07-30T13:53:10.539708",
     "status": "completed"
    },
    "tags": []
   },
   "outputs": [],
   "source": [
    "# put in other script?\n",
    "# Group sizes\n",
    "\n",
    "#def calculate_percentages(df, df_name):\n",
    "#    total_entries = len(df)\n",
    "#\n",
    "#    female_pct = (df['frau1'] == 1).mean() * 100\n",
    "#    non_german_pct = ((df['maxdeutsch1'] == 0) & (df['maxdeutsch.Missing.'] == 0)).mean() * 100\n",
    "#    non_german_male_pct = ((df['frau1'] == 0) & (df['maxdeutsch1'] == 0) & (df['maxdeutsch.Missing.'] == 0)).mean() * 100\n",
    "#    non_german_female_pct = ((df['frau1'] == 1) & (df['maxdeutsch1'] == 0) & (df['maxdeutsch.Missing.'] == 0)).mean() * 100\n",
    "#\n",
    "#    print(f\"--- {df_name} ---\")\n",
    "#    print(f\"Female: {female_pct:.2f}%\")\n",
    "#    print(f\"Non-German: {non_german_pct:.2f}%\")\n",
    "#    print(f\"Non-German Male: {non_german_male_pct:.2f}%\")\n",
    "#    print(f\"Non-German Female: {non_german_female_pct:.2f}%\\n\")\n",
    "#\n",
    "## Calculate for each DataFrame\n",
    "#calculate_percentages(siab_calib, \"siab_calib\")\n",
    "#calculate_percentages(siab_test, \"siab_test\")\n",
    "#calculate_percentages(siab_train, \"siab_train\")"
   ]
  },
  {
   "cell_type": "markdown",
   "id": "0a4a1b33",
   "metadata": {
    "papermill": {
     "duration": 0.021339,
     "end_time": "2025-07-30T13:53:10.613463",
     "exception": false,
     "start_time": "2025-07-30T13:53:10.592124",
     "status": "completed"
    },
    "tags": []
   },
   "source": [
    "# Preprocessing Data"
   ]
  },
  {
   "cell_type": "code",
   "execution_count": 29,
   "id": "ca879031",
   "metadata": {
    "execution": {
     "iopub.execute_input": "2025-07-30T13:53:10.657354Z",
     "iopub.status.busy": "2025-07-30T13:53:10.656721Z",
     "iopub.status.idle": "2025-07-30T13:53:10.662729Z",
     "shell.execute_reply": "2025-07-30T13:53:10.661784Z"
    },
    "papermill": {
     "duration": 0.02986,
     "end_time": "2025-07-30T13:53:10.664387",
     "exception": false,
     "start_time": "2025-07-30T13:53:10.634527",
     "status": "completed"
    },
    "tags": []
   },
   "outputs": [],
   "source": [
    "# EXCLUDE PROTECTED FEATURES\n",
    "# ----------------------\n",
    "# \"exclude_features\": \"none\", # \"nationality\", \"sex\", \"nationality-sex\"\n",
    "\n",
    "excluded_features = universe[\"exclude_features\"].split(\"-\") # split, e.g.: \"nationality-sex\" -> [\"nationality\", \"sex\"]\n",
    "excluded_features_dictionary = {\n",
    "    \"nationality\": [\"maxdeutsch1\", \"maxdeutsch.Missing.\"],\n",
    "    \"sex\": [\"frau1\"],\n",
    "    \"age\": [\"age\"],\n",
    "}\n"
   ]
  },
  {
   "cell_type": "code",
   "execution_count": 30,
   "id": "b745ac60",
   "metadata": {
    "execution": {
     "iopub.execute_input": "2025-07-30T13:53:10.709586Z",
     "iopub.status.busy": "2025-07-30T13:53:10.709211Z",
     "iopub.status.idle": "2025-07-30T13:53:10.714502Z",
     "shell.execute_reply": "2025-07-30T13:53:10.713532Z"
    },
    "papermill": {
     "duration": 0.031799,
     "end_time": "2025-07-30T13:53:10.718307",
     "exception": false,
     "start_time": "2025-07-30T13:53:10.686508",
     "status": "completed"
    },
    "tags": []
   },
   "outputs": [],
   "source": [
    "# Code nice names to column names\n",
    "\n",
    "excluded_features_columns = [\n",
    "    excluded_features_dictionary[f] for f in excluded_features if len(f) > 0 and f != \"none\"\n",
    "]"
   ]
  },
  {
   "cell_type": "code",
   "execution_count": 31,
   "id": "f84f73a2",
   "metadata": {
    "execution": {
     "iopub.execute_input": "2025-07-30T13:53:10.763467Z",
     "iopub.status.busy": "2025-07-30T13:53:10.763011Z",
     "iopub.status.idle": "2025-07-30T13:53:10.769611Z",
     "shell.execute_reply": "2025-07-30T13:53:10.768685Z"
    },
    "papermill": {
     "duration": 0.030844,
     "end_time": "2025-07-30T13:53:10.771220",
     "exception": false,
     "start_time": "2025-07-30T13:53:10.740376",
     "status": "completed"
    },
    "tags": []
   },
   "outputs": [],
   "source": [
    "from utils import flatten_once\n",
    "\n",
    "excluded_features_columns = flatten_once(excluded_features_columns)"
   ]
  },
  {
   "cell_type": "code",
   "execution_count": 32,
   "id": "884dea22",
   "metadata": {
    "execution": {
     "iopub.execute_input": "2025-07-30T13:53:10.818517Z",
     "iopub.status.busy": "2025-07-30T13:53:10.817999Z",
     "iopub.status.idle": "2025-07-30T13:53:10.829483Z",
     "shell.execute_reply": "2025-07-30T13:53:10.828485Z"
    },
    "papermill": {
     "duration": 0.037091,
     "end_time": "2025-07-30T13:53:10.831189",
     "exception": false,
     "start_time": "2025-07-30T13:53:10.794098",
     "status": "completed"
    },
    "tags": []
   },
   "outputs": [
    {
     "name": "stdout",
     "output_type": "stream",
     "text": [
      "Dropping features: ['age']\n"
     ]
    }
   ],
   "source": [
    "if len(excluded_features_columns) > 0:\n",
    "    print(f\"Dropping features: {excluded_features_columns}\")\n",
    "    X_train.drop(excluded_features_columns, axis=1, inplace=True)"
   ]
  },
  {
   "cell_type": "code",
   "execution_count": 33,
   "id": "95ab8b16",
   "metadata": {
    "execution": {
     "iopub.execute_input": "2025-07-30T13:53:10.876921Z",
     "iopub.status.busy": "2025-07-30T13:53:10.876460Z",
     "iopub.status.idle": "2025-07-30T13:53:10.932157Z",
     "shell.execute_reply": "2025-07-30T13:53:10.931224Z"
    },
    "papermill": {
     "duration": 0.079258,
     "end_time": "2025-07-30T13:53:10.933715",
     "exception": false,
     "start_time": "2025-07-30T13:53:10.854457",
     "status": "completed"
    },
    "tags": []
   },
   "outputs": [
    {
     "name": "stdout",
     "output_type": "stream",
     "text": [
      "Dropping features: ['age']\n"
     ]
    }
   ],
   "source": [
    "if len(excluded_features_columns) > 0:\n",
    "    print(f\"Dropping features: {excluded_features_columns}\")\n",
    "    X_test.drop(excluded_features_columns, axis=1, inplace=True)"
   ]
  },
  {
   "cell_type": "code",
   "execution_count": 34,
   "id": "1853aaf5-fb9f-46cb-a2b5-8ea4ae2237e4",
   "metadata": {
    "execution": {
     "iopub.execute_input": "2025-07-30T13:53:10.977819Z",
     "iopub.status.busy": "2025-07-30T13:53:10.977344Z",
     "iopub.status.idle": "2025-07-30T13:53:11.009916Z",
     "shell.execute_reply": "2025-07-30T13:53:11.008782Z"
    },
    "papermill": {
     "duration": 0.056103,
     "end_time": "2025-07-30T13:53:11.011497",
     "exception": false,
     "start_time": "2025-07-30T13:53:10.955394",
     "status": "completed"
    },
    "tags": []
   },
   "outputs": [
    {
     "name": "stdout",
     "output_type": "stream",
     "text": [
      "Dropping features: ['age']\n"
     ]
    }
   ],
   "source": [
    "if len(excluded_features_columns) > 0:\n",
    "    print(f\"Dropping features: {excluded_features_columns}\")\n",
    "    X_calib.drop(excluded_features_columns, axis=1, inplace=True)"
   ]
  },
  {
   "cell_type": "code",
   "execution_count": 35,
   "id": "6727d079-03e5-481e-9d38-292a90b7a0a8",
   "metadata": {
    "execution": {
     "iopub.execute_input": "2025-07-30T13:53:11.057361Z",
     "iopub.status.busy": "2025-07-30T13:53:11.056723Z",
     "iopub.status.idle": "2025-07-30T13:53:11.061490Z",
     "shell.execute_reply": "2025-07-30T13:53:11.060429Z"
    },
    "papermill": {
     "duration": 0.028978,
     "end_time": "2025-07-30T13:53:11.063155",
     "exception": false,
     "start_time": "2025-07-30T13:53:11.034177",
     "status": "completed"
    },
    "tags": []
   },
   "outputs": [],
   "source": [
    "# SPLIT & STRATIFY DATA\n",
    "# ----------------------"
   ]
  },
  {
   "cell_type": "code",
   "execution_count": 36,
   "id": "76c4dc6d",
   "metadata": {
    "execution": {
     "iopub.execute_input": "2025-07-30T13:53:11.109875Z",
     "iopub.status.busy": "2025-07-30T13:53:11.109236Z",
     "iopub.status.idle": "2025-07-30T13:53:11.114423Z",
     "shell.execute_reply": "2025-07-30T13:53:11.113561Z"
    },
    "papermill": {
     "duration": 0.029636,
     "end_time": "2025-07-30T13:53:11.116002",
     "exception": false,
     "start_time": "2025-07-30T13:53:11.086366",
     "status": "completed"
    },
    "tags": []
   },
   "outputs": [],
   "source": [
    "# EXCLUDE CERTAIN SUBGROUPS\n",
    "# ----------------------\n",
    "\n",
    "mode = universe.get(\"exclude_subgroups\", \"keep-all\") \n",
    "# Fetches the exclude_subgroups setting from the universe dict.\n",
    "# Defaults to \"keep-all\" if the key is missing."
   ]
  },
  {
   "cell_type": "code",
   "execution_count": 37,
   "id": "21994072",
   "metadata": {
    "execution": {
     "iopub.execute_input": "2025-07-30T13:53:11.177259Z",
     "iopub.status.busy": "2025-07-30T13:53:11.176787Z",
     "iopub.status.idle": "2025-07-30T13:53:11.183065Z",
     "shell.execute_reply": "2025-07-30T13:53:11.182182Z"
    },
    "papermill": {
     "duration": 0.045101,
     "end_time": "2025-07-30T13:53:11.184630",
     "exception": false,
     "start_time": "2025-07-30T13:53:11.139529",
     "status": "completed"
    },
    "tags": []
   },
   "outputs": [],
   "source": [
    "if mode == \"keep-all\":\n",
    "    keep_mask = pd.Series(True, index=org_train.index)\n",
    "\n",
    "# org_train contains the original feature columns from features_org (in Simson)\n",
    "# features_org contains unprocessed features, for me X_train at beginning ???\n",
    "# For keep-all, creates a boolean Series (keep_mask) of all True, so no rows are removed.\n",
    "\n",
    "elif mode == \"drop-non-german\":\n",
    "    keep_mask = org_train[\"maxdeutsch1\"] == 1 # ??? what about missing values?\n",
    "\n",
    "else:\n",
    "    raise ValueError(f\"Unsupported mode for exclude_subgroups: {mode}\")\n"
   ]
  },
  {
   "cell_type": "code",
   "execution_count": 38,
   "id": "71651440",
   "metadata": {
    "execution": {
     "iopub.execute_input": "2025-07-30T13:53:11.232022Z",
     "iopub.status.busy": "2025-07-30T13:53:11.231595Z",
     "iopub.status.idle": "2025-07-30T13:53:11.237571Z",
     "shell.execute_reply": "2025-07-30T13:53:11.236556Z"
    },
    "papermill": {
     "duration": 0.031608,
     "end_time": "2025-07-30T13:53:11.239051",
     "exception": false,
     "start_time": "2025-07-30T13:53:11.207443",
     "status": "completed"
    },
    "tags": []
   },
   "outputs": [],
   "source": [
    "n_drop = (~keep_mask).sum() # Calculates how many rows are set to be dropped\n",
    "if n_drop > 0:\n",
    "    pct = n_drop / len(keep_mask) * 100\n",
    "    print(f\"Dropping {n_drop} rows ({pct:.2f}%) where mode='{mode}'\")"
   ]
  },
  {
   "cell_type": "code",
   "execution_count": 39,
   "id": "5fb8eee5",
   "metadata": {
    "execution": {
     "iopub.execute_input": "2025-07-30T13:53:11.285164Z",
     "iopub.status.busy": "2025-07-30T13:53:11.284474Z",
     "iopub.status.idle": "2025-07-30T13:53:11.292377Z",
     "shell.execute_reply": "2025-07-30T13:53:11.291391Z"
    },
    "papermill": {
     "duration": 0.031883,
     "end_time": "2025-07-30T13:53:11.294011",
     "exception": false,
     "start_time": "2025-07-30T13:53:11.262128",
     "status": "completed"
    },
    "tags": []
   },
   "outputs": [],
   "source": [
    "X_train = X_train[keep_mask]"
   ]
  },
  {
   "cell_type": "code",
   "execution_count": 40,
   "id": "b202bb3a",
   "metadata": {
    "execution": {
     "iopub.execute_input": "2025-07-30T13:53:11.340718Z",
     "iopub.status.busy": "2025-07-30T13:53:11.339799Z",
     "iopub.status.idle": "2025-07-30T13:53:11.345238Z",
     "shell.execute_reply": "2025-07-30T13:53:11.344401Z"
    },
    "papermill": {
     "duration": 0.03067,
     "end_time": "2025-07-30T13:53:11.348265",
     "exception": false,
     "start_time": "2025-07-30T13:53:11.317595",
     "status": "completed"
    },
    "tags": []
   },
   "outputs": [],
   "source": [
    "y_train = y_train[keep_mask]"
   ]
  },
  {
   "cell_type": "markdown",
   "id": "493e2ac3",
   "metadata": {
    "papermill": {
     "duration": 0.024885,
     "end_time": "2025-07-30T13:53:11.396980",
     "exception": false,
     "start_time": "2025-07-30T13:53:11.372095",
     "status": "completed"
    },
    "tags": []
   },
   "source": [
    "# Model Training"
   ]
  },
  {
   "cell_type": "code",
   "execution_count": 41,
   "id": "679e1268",
   "metadata": {
    "execution": {
     "iopub.execute_input": "2025-07-30T13:53:11.446472Z",
     "iopub.status.busy": "2025-07-30T13:53:11.445985Z",
     "iopub.status.idle": "2025-07-30T13:53:11.551008Z",
     "shell.execute_reply": "2025-07-30T13:53:11.550168Z"
    },
    "papermill": {
     "duration": 0.133781,
     "end_time": "2025-07-30T13:53:11.552792",
     "exception": false,
     "start_time": "2025-07-30T13:53:11.419011",
     "status": "completed"
    },
    "tags": []
   },
   "outputs": [],
   "source": [
    "from sklearn.linear_model import LogisticRegression\n",
    "from sklearn.ensemble import GradientBoostingClassifier, RandomForestClassifier\n",
    "\n",
    "if (universe[\"model\"] == \"logreg\"):\n",
    "    model = LogisticRegression() #penalty=\"none\") #, solver=\"newton-cg\", max_iter=1) # include random_state=19 ?\n",
    "elif (universe[\"model\"] == \"penalized_logreg\"):\n",
    "    model = LogisticRegression(penalty=\"l2\", C=1.0) #, solver=\"newton-cg\", max_iter=1)\n",
    "elif (universe[\"model\"] == \"rf\"):\n",
    "    model = RandomForestClassifier(n_estimators=100, n_jobs=-1)\n",
    "elif (universe[\"model\"] == \"gbm\"):\n",
    "    model = GradientBoostingClassifier()\n",
    "elif (universe[\"model\"] == \"elasticnet\"):\n",
    "    model = LogisticRegression(penalty = 'elasticnet', solver = 'saga', l1_ratio = 0.5, max_iter=5000) # which solver to use?\n",
    "else:\n",
    "    raise \"Unsupported universe.model\""
   ]
  },
  {
   "cell_type": "code",
   "execution_count": 42,
   "id": "0cc8f744",
   "metadata": {
    "execution": {
     "iopub.execute_input": "2025-07-30T13:53:11.599130Z",
     "iopub.status.busy": "2025-07-30T13:53:11.598779Z",
     "iopub.status.idle": "2025-07-30T13:53:11.604695Z",
     "shell.execute_reply": "2025-07-30T13:53:11.603837Z"
    },
    "papermill": {
     "duration": 0.031139,
     "end_time": "2025-07-30T13:53:11.606364",
     "exception": false,
     "start_time": "2025-07-30T13:53:11.575225",
     "status": "completed"
    },
    "tags": []
   },
   "outputs": [],
   "source": [
    "import numpy as np\n",
    "from sklearn.pipeline import Pipeline\n",
    "from sklearn.preprocessing import StandardScaler\n",
    "\n",
    "model = Pipeline([\n",
    "    #(\"continuous_processor\", continuous_processor),\n",
    "    #(\"categorical_preprocessor\", categorical_preprocessor),\n",
    "    (\"scale\", StandardScaler() if universe[\"scale\"] == \"scale\" else None), \n",
    "    (\"model\", model),\n",
    "])"
   ]
  },
  {
   "cell_type": "code",
   "execution_count": 43,
   "id": "9442c04d",
   "metadata": {
    "execution": {
     "iopub.execute_input": "2025-07-30T13:53:11.654156Z",
     "iopub.status.busy": "2025-07-30T13:53:11.653671Z",
     "iopub.status.idle": "2025-07-30T13:54:28.006461Z",
     "shell.execute_reply": "2025-07-30T13:54:28.004965Z"
    },
    "papermill": {
     "duration": 76.401652,
     "end_time": "2025-07-30T13:54:28.031306",
     "exception": false,
     "start_time": "2025-07-30T13:53:11.629654",
     "status": "completed"
    },
    "tags": []
   },
   "outputs": [
    {
     "data": {
      "text/html": [
       "<style>#sk-container-id-1 {color: black;background-color: white;}#sk-container-id-1 pre{padding: 0;}#sk-container-id-1 div.sk-toggleable {background-color: white;}#sk-container-id-1 label.sk-toggleable__label {cursor: pointer;display: block;width: 100%;margin-bottom: 0;padding: 0.3em;box-sizing: border-box;text-align: center;}#sk-container-id-1 label.sk-toggleable__label-arrow:before {content: \"▸\";float: left;margin-right: 0.25em;color: #696969;}#sk-container-id-1 label.sk-toggleable__label-arrow:hover:before {color: black;}#sk-container-id-1 div.sk-estimator:hover label.sk-toggleable__label-arrow:before {color: black;}#sk-container-id-1 div.sk-toggleable__content {max-height: 0;max-width: 0;overflow: hidden;text-align: left;background-color: #f0f8ff;}#sk-container-id-1 div.sk-toggleable__content pre {margin: 0.2em;color: black;border-radius: 0.25em;background-color: #f0f8ff;}#sk-container-id-1 input.sk-toggleable__control:checked~div.sk-toggleable__content {max-height: 200px;max-width: 100%;overflow: auto;}#sk-container-id-1 input.sk-toggleable__control:checked~label.sk-toggleable__label-arrow:before {content: \"▾\";}#sk-container-id-1 div.sk-estimator input.sk-toggleable__control:checked~label.sk-toggleable__label {background-color: #d4ebff;}#sk-container-id-1 div.sk-label input.sk-toggleable__control:checked~label.sk-toggleable__label {background-color: #d4ebff;}#sk-container-id-1 input.sk-hidden--visually {border: 0;clip: rect(1px 1px 1px 1px);clip: rect(1px, 1px, 1px, 1px);height: 1px;margin: -1px;overflow: hidden;padding: 0;position: absolute;width: 1px;}#sk-container-id-1 div.sk-estimator {font-family: monospace;background-color: #f0f8ff;border: 1px dotted black;border-radius: 0.25em;box-sizing: border-box;margin-bottom: 0.5em;}#sk-container-id-1 div.sk-estimator:hover {background-color: #d4ebff;}#sk-container-id-1 div.sk-parallel-item::after {content: \"\";width: 100%;border-bottom: 1px solid gray;flex-grow: 1;}#sk-container-id-1 div.sk-label:hover label.sk-toggleable__label {background-color: #d4ebff;}#sk-container-id-1 div.sk-serial::before {content: \"\";position: absolute;border-left: 1px solid gray;box-sizing: border-box;top: 0;bottom: 0;left: 50%;z-index: 0;}#sk-container-id-1 div.sk-serial {display: flex;flex-direction: column;align-items: center;background-color: white;padding-right: 0.2em;padding-left: 0.2em;position: relative;}#sk-container-id-1 div.sk-item {position: relative;z-index: 1;}#sk-container-id-1 div.sk-parallel {display: flex;align-items: stretch;justify-content: center;background-color: white;position: relative;}#sk-container-id-1 div.sk-item::before, #sk-container-id-1 div.sk-parallel-item::before {content: \"\";position: absolute;border-left: 1px solid gray;box-sizing: border-box;top: 0;bottom: 0;left: 50%;z-index: -1;}#sk-container-id-1 div.sk-parallel-item {display: flex;flex-direction: column;z-index: 1;position: relative;background-color: white;}#sk-container-id-1 div.sk-parallel-item:first-child::after {align-self: flex-end;width: 50%;}#sk-container-id-1 div.sk-parallel-item:last-child::after {align-self: flex-start;width: 50%;}#sk-container-id-1 div.sk-parallel-item:only-child::after {width: 0;}#sk-container-id-1 div.sk-dashed-wrapped {border: 1px dashed gray;margin: 0 0.4em 0.5em 0.4em;box-sizing: border-box;padding-bottom: 0.4em;background-color: white;}#sk-container-id-1 div.sk-label label {font-family: monospace;font-weight: bold;display: inline-block;line-height: 1.2em;}#sk-container-id-1 div.sk-label-container {text-align: center;}#sk-container-id-1 div.sk-container {/* jupyter's `normalize.less` sets `[hidden] { display: none; }` but bootstrap.min.css set `[hidden] { display: none !important; }` so we also need the `!important` here to be able to override the default hidden behavior on the sphinx rendered scikit-learn.org. See: https://github.com/scikit-learn/scikit-learn/issues/21755 */display: inline-block !important;position: relative;}#sk-container-id-1 div.sk-text-repr-fallback {display: none;}</style><div id=\"sk-container-id-1\" class=\"sk-top-container\"><div class=\"sk-text-repr-fallback\"><pre>Pipeline(steps=[(&#x27;scale&#x27;, None),\n",
       "                (&#x27;model&#x27;,\n",
       "                 LogisticRegression(l1_ratio=0.5, max_iter=5000,\n",
       "                                    penalty=&#x27;elasticnet&#x27;, solver=&#x27;saga&#x27;))])</pre><b>In a Jupyter environment, please rerun this cell to show the HTML representation or trust the notebook. <br />On GitHub, the HTML representation is unable to render, please try loading this page with nbviewer.org.</b></div><div class=\"sk-container\" hidden><div class=\"sk-item sk-dashed-wrapped\"><div class=\"sk-label-container\"><div class=\"sk-label sk-toggleable\"><input class=\"sk-toggleable__control sk-hidden--visually\" id=\"sk-estimator-id-1\" type=\"checkbox\" ><label for=\"sk-estimator-id-1\" class=\"sk-toggleable__label sk-toggleable__label-arrow\">Pipeline</label><div class=\"sk-toggleable__content\"><pre>Pipeline(steps=[(&#x27;scale&#x27;, None),\n",
       "                (&#x27;model&#x27;,\n",
       "                 LogisticRegression(l1_ratio=0.5, max_iter=5000,\n",
       "                                    penalty=&#x27;elasticnet&#x27;, solver=&#x27;saga&#x27;))])</pre></div></div></div><div class=\"sk-serial\"><div class=\"sk-item\"><div class=\"sk-estimator sk-toggleable\"><input class=\"sk-toggleable__control sk-hidden--visually\" id=\"sk-estimator-id-2\" type=\"checkbox\" ><label for=\"sk-estimator-id-2\" class=\"sk-toggleable__label sk-toggleable__label-arrow\">None</label><div class=\"sk-toggleable__content\"><pre>None</pre></div></div></div><div class=\"sk-item\"><div class=\"sk-estimator sk-toggleable\"><input class=\"sk-toggleable__control sk-hidden--visually\" id=\"sk-estimator-id-3\" type=\"checkbox\" ><label for=\"sk-estimator-id-3\" class=\"sk-toggleable__label sk-toggleable__label-arrow\">LogisticRegression</label><div class=\"sk-toggleable__content\"><pre>LogisticRegression(l1_ratio=0.5, max_iter=5000, penalty=&#x27;elasticnet&#x27;,\n",
       "                   solver=&#x27;saga&#x27;)</pre></div></div></div></div></div></div></div>"
      ],
      "text/plain": [
       "Pipeline(steps=[('scale', None),\n",
       "                ('model',\n",
       "                 LogisticRegression(l1_ratio=0.5, max_iter=5000,\n",
       "                                    penalty='elasticnet', solver='saga'))])"
      ]
     },
     "execution_count": 43,
     "metadata": {},
     "output_type": "execute_result"
    }
   ],
   "source": [
    "model.fit(X_train, y_train.values.ravel())"
   ]
  },
  {
   "cell_type": "code",
   "execution_count": 44,
   "id": "af59f8c0",
   "metadata": {
    "execution": {
     "iopub.execute_input": "2025-07-30T13:54:28.077988Z",
     "iopub.status.busy": "2025-07-30T13:54:28.077508Z",
     "iopub.status.idle": "2025-07-30T13:54:28.083476Z",
     "shell.execute_reply": "2025-07-30T13:54:28.082290Z"
    },
    "papermill": {
     "duration": 0.030811,
     "end_time": "2025-07-30T13:54:28.085576",
     "exception": false,
     "start_time": "2025-07-30T13:54:28.054765",
     "status": "completed"
    },
    "tags": []
   },
   "outputs": [],
   "source": [
    "from fairness_multiverse.universe import predict_w_threshold"
   ]
  },
  {
   "cell_type": "code",
   "execution_count": 45,
   "id": "a7cf2e16",
   "metadata": {
    "execution": {
     "iopub.execute_input": "2025-07-30T13:54:28.132724Z",
     "iopub.status.busy": "2025-07-30T13:54:28.132191Z",
     "iopub.status.idle": "2025-07-30T13:54:28.236834Z",
     "shell.execute_reply": "2025-07-30T13:54:28.235867Z"
    },
    "papermill": {
     "duration": 0.129015,
     "end_time": "2025-07-30T13:54:28.238521",
     "exception": false,
     "start_time": "2025-07-30T13:54:28.109506",
     "status": "completed"
    },
    "tags": []
   },
   "outputs": [
    {
     "data": {
      "text/plain": [
       "0.8593356370527254"
      ]
     },
     "execution_count": 45,
     "metadata": {},
     "output_type": "execute_result"
    }
   ],
   "source": [
    "probs_test = model.predict_proba(X_test)\n",
    "\n",
    "'''\n",
    "Below code returns a boolean array (or binary 0/1 array depending on how it’s used) where each element \n",
    "is True if the probability of class 1 is greater than or equal to the threshold, and False otherwise.\n",
    "'''\n",
    "y_pred_default = predict_w_threshold(probs_test, 0.5)\n",
    "\n",
    "from sklearn.metrics import accuracy_score\n",
    "\n",
    "# Naive prediction\n",
    "accuracy_score(y_true = y_true, y_pred = y_pred_default)"
   ]
  },
  {
   "cell_type": "code",
   "execution_count": 46,
   "id": "081964c3",
   "metadata": {
    "execution": {
     "iopub.execute_input": "2025-07-30T13:54:28.289344Z",
     "iopub.status.busy": "2025-07-30T13:54:28.288820Z",
     "iopub.status.idle": "2025-07-30T13:54:28.372984Z",
     "shell.execute_reply": "2025-07-30T13:54:28.371834Z"
    },
    "papermill": {
     "duration": 0.112923,
     "end_time": "2025-07-30T13:54:28.374545",
     "exception": false,
     "start_time": "2025-07-30T13:54:28.261622",
     "status": "completed"
    },
    "tags": []
   },
   "outputs": [
    {
     "data": {
      "text/plain": [
       "array([0, 0, 0, ..., 0, 0, 0])"
      ]
     },
     "execution_count": 46,
     "metadata": {},
     "output_type": "execute_result"
    }
   ],
   "source": [
    "model.predict(X_test)"
   ]
  },
  {
   "cell_type": "markdown",
   "id": "56c9705b",
   "metadata": {
    "papermill": {
     "duration": 0.023209,
     "end_time": "2025-07-30T13:54:28.436480",
     "exception": false,
     "start_time": "2025-07-30T13:54:28.413271",
     "status": "completed"
    },
    "tags": []
   },
   "source": [
    "# Conformal Prediction"
   ]
  },
  {
   "cell_type": "code",
   "execution_count": 47,
   "id": "160ec6ff",
   "metadata": {
    "execution": {
     "iopub.execute_input": "2025-07-30T13:54:28.483355Z",
     "iopub.status.busy": "2025-07-30T13:54:28.482957Z",
     "iopub.status.idle": "2025-07-30T13:54:28.488181Z",
     "shell.execute_reply": "2025-07-30T13:54:28.487282Z"
    },
    "papermill": {
     "duration": 0.030966,
     "end_time": "2025-07-30T13:54:28.489889",
     "exception": false,
     "start_time": "2025-07-30T13:54:28.458923",
     "status": "completed"
    },
    "tags": []
   },
   "outputs": [],
   "source": [
    "# Miscoverage level for conformal prediction (10% allowed error rate => 90% target coverage)\n",
    "alpha = 0.1"
   ]
  },
  {
   "cell_type": "code",
   "execution_count": 48,
   "id": "eadf4555-3dd3-440e-8e35-f82a4ad9f855",
   "metadata": {
    "execution": {
     "iopub.execute_input": "2025-07-30T13:54:28.539058Z",
     "iopub.status.busy": "2025-07-30T13:54:28.538293Z",
     "iopub.status.idle": "2025-07-30T13:54:28.655993Z",
     "shell.execute_reply": "2025-07-30T13:54:28.655079Z"
    },
    "papermill": {
     "duration": 0.143415,
     "end_time": "2025-07-30T13:54:28.657917",
     "exception": false,
     "start_time": "2025-07-30T13:54:28.514502",
     "status": "completed"
    },
    "tags": []
   },
   "outputs": [],
   "source": [
    "probs_calib = model.predict_proba(X_calib)"
   ]
  },
  {
   "cell_type": "code",
   "execution_count": 49,
   "id": "2ed93547-6d5d-4983-9b36-1ecb300da49a",
   "metadata": {
    "execution": {
     "iopub.execute_input": "2025-07-30T13:54:28.710317Z",
     "iopub.status.busy": "2025-07-30T13:54:28.709842Z",
     "iopub.status.idle": "2025-07-30T13:54:28.715499Z",
     "shell.execute_reply": "2025-07-30T13:54:28.714624Z"
    },
    "papermill": {
     "duration": 0.033441,
     "end_time": "2025-07-30T13:54:28.717232",
     "exception": false,
     "start_time": "2025-07-30T13:54:28.683791",
     "status": "completed"
    },
    "tags": []
   },
   "outputs": [],
   "source": [
    "y_calib = y_calib.values.ravel().astype(int)"
   ]
  },
  {
   "cell_type": "code",
   "execution_count": 50,
   "id": "65d1320d-f588-4b38-9072-62af1ae97f7d",
   "metadata": {
    "execution": {
     "iopub.execute_input": "2025-07-30T13:54:28.765736Z",
     "iopub.status.busy": "2025-07-30T13:54:28.764947Z",
     "iopub.status.idle": "2025-07-30T13:54:28.773915Z",
     "shell.execute_reply": "2025-07-30T13:54:28.772846Z"
    },
    "papermill": {
     "duration": 0.034364,
     "end_time": "2025-07-30T13:54:28.775670",
     "exception": false,
     "start_time": "2025-07-30T13:54:28.741306",
     "status": "completed"
    },
    "tags": []
   },
   "outputs": [],
   "source": [
    "from fairness_multiverse.conformal import compute_nc_scores\n",
    "\n",
    "# Compute nonconformity scores on calibration set (1 - probability of true class)\n",
    "nc_scores = compute_nc_scores(probs_calib, y_calib)"
   ]
  },
  {
   "cell_type": "code",
   "execution_count": 51,
   "id": "df3b8ca3-53b7-43d5-9667-7c85da7aeda2",
   "metadata": {
    "execution": {
     "iopub.execute_input": "2025-07-30T13:54:28.824461Z",
     "iopub.status.busy": "2025-07-30T13:54:28.823652Z",
     "iopub.status.idle": "2025-07-30T13:54:28.830467Z",
     "shell.execute_reply": "2025-07-30T13:54:28.829537Z"
    },
    "papermill": {
     "duration": 0.031972,
     "end_time": "2025-07-30T13:54:28.831940",
     "exception": false,
     "start_time": "2025-07-30T13:54:28.799968",
     "status": "completed"
    },
    "tags": []
   },
   "outputs": [],
   "source": [
    "from fairness_multiverse.conformal import find_threshold\n",
    "\n",
    "# Find conformal threshold q_hat for the given alpha (split conformal method)\n",
    "q_hat = find_threshold(nc_scores, alpha)"
   ]
  },
  {
   "cell_type": "code",
   "execution_count": 52,
   "id": "4d29e6c1-0ef6-4aa4-b8fe-4fe79b0d033a",
   "metadata": {
    "execution": {
     "iopub.execute_input": "2025-07-30T13:54:28.879931Z",
     "iopub.status.busy": "2025-07-30T13:54:28.879509Z",
     "iopub.status.idle": "2025-07-30T13:54:28.886426Z",
     "shell.execute_reply": "2025-07-30T13:54:28.885528Z"
    },
    "papermill": {
     "duration": 0.032764,
     "end_time": "2025-07-30T13:54:28.887950",
     "exception": false,
     "start_time": "2025-07-30T13:54:28.855186",
     "status": "completed"
    },
    "tags": []
   },
   "outputs": [
    {
     "data": {
      "text/plain": [
       "0.6469070649282647"
      ]
     },
     "execution_count": 52,
     "metadata": {},
     "output_type": "execute_result"
    }
   ],
   "source": [
    "q_hat"
   ]
  },
  {
   "cell_type": "code",
   "execution_count": 53,
   "id": "92460794-cdac-4be2-ba28-f28c0515a6fb",
   "metadata": {
    "execution": {
     "iopub.execute_input": "2025-07-30T13:54:28.938989Z",
     "iopub.status.busy": "2025-07-30T13:54:28.938334Z",
     "iopub.status.idle": "2025-07-30T13:54:29.782089Z",
     "shell.execute_reply": "2025-07-30T13:54:29.781122Z"
    },
    "papermill": {
     "duration": 0.872083,
     "end_time": "2025-07-30T13:54:29.783911",
     "exception": false,
     "start_time": "2025-07-30T13:54:28.911828",
     "status": "completed"
    },
    "tags": []
   },
   "outputs": [],
   "source": [
    "from fairness_multiverse.conformal import predict_conformal_sets\n",
    "\n",
    "# Generate prediction sets for each test example\n",
    "pred_sets = predict_conformal_sets(model, X_test, q_hat)"
   ]
  },
  {
   "cell_type": "code",
   "execution_count": 54,
   "id": "d90c9a65-e6db-4f5d-80cd-e68fb7e46829",
   "metadata": {
    "execution": {
     "iopub.execute_input": "2025-07-30T13:54:29.833245Z",
     "iopub.status.busy": "2025-07-30T13:54:29.832798Z",
     "iopub.status.idle": "2025-07-30T13:54:29.838588Z",
     "shell.execute_reply": "2025-07-30T13:54:29.837650Z"
    },
    "papermill": {
     "duration": 0.032595,
     "end_time": "2025-07-30T13:54:29.840786",
     "exception": false,
     "start_time": "2025-07-30T13:54:29.808191",
     "status": "completed"
    },
    "tags": []
   },
   "outputs": [],
   "source": [
    "y_true = y_true.squeeze()"
   ]
  },
  {
   "cell_type": "code",
   "execution_count": 55,
   "id": "3a58a54a-1e68-46b9-927a-df01f18aebc8",
   "metadata": {
    "execution": {
     "iopub.execute_input": "2025-07-30T13:54:29.889788Z",
     "iopub.status.busy": "2025-07-30T13:54:29.889147Z",
     "iopub.status.idle": "2025-07-30T13:54:30.809831Z",
     "shell.execute_reply": "2025-07-30T13:54:30.808906Z"
    },
    "papermill": {
     "duration": 0.946165,
     "end_time": "2025-07-30T13:54:30.811658",
     "exception": false,
     "start_time": "2025-07-30T13:54:29.865493",
     "status": "completed"
    },
    "tags": []
   },
   "outputs": [],
   "source": [
    "from fairness_multiverse.conformal import evaluate_sets\n",
    "\n",
    "# Evaluate coverage and average set size on test data\n",
    "metrics = evaluate_sets(pred_sets, y_true)"
   ]
  },
  {
   "cell_type": "markdown",
   "id": "2b569c12-9aaa-4c88-98c9-bbcd0cf3ebb8",
   "metadata": {
    "papermill": {
     "duration": 0.027886,
     "end_time": "2025-07-30T13:54:30.866498",
     "exception": false,
     "start_time": "2025-07-30T13:54:30.838612",
     "status": "completed"
    },
    "tags": []
   },
   "source": [
    "# CP Metrics"
   ]
  },
  {
   "cell_type": "code",
   "execution_count": 56,
   "id": "5ce0a5cb-201f-45a0-ade5-94c7f0bd6095",
   "metadata": {
    "execution": {
     "iopub.execute_input": "2025-07-30T13:54:30.907188Z",
     "iopub.status.busy": "2025-07-30T13:54:30.906754Z",
     "iopub.status.idle": "2025-07-30T13:54:30.913498Z",
     "shell.execute_reply": "2025-07-30T13:54:30.912431Z"
    },
    "papermill": {
     "duration": 0.029193,
     "end_time": "2025-07-30T13:54:30.915065",
     "exception": false,
     "start_time": "2025-07-30T13:54:30.885872",
     "status": "completed"
    },
    "tags": []
   },
   "outputs": [
    {
     "data": {
      "text/plain": [
       "{'coverage': 0.9127744955969235, 'avg_size': 1.2480436963549215}"
      ]
     },
     "execution_count": 56,
     "metadata": {},
     "output_type": "execute_result"
    }
   ],
   "source": [
    "metrics"
   ]
  },
  {
   "cell_type": "code",
   "execution_count": 57,
   "id": "9b9a838d-31c9-430b-ae14-12baee460d17",
   "metadata": {
    "execution": {
     "iopub.execute_input": "2025-07-30T13:54:30.961653Z",
     "iopub.status.busy": "2025-07-30T13:54:30.961242Z",
     "iopub.status.idle": "2025-07-30T13:54:30.967765Z",
     "shell.execute_reply": "2025-07-30T13:54:30.966683Z"
    },
    "papermill": {
     "duration": 0.028389,
     "end_time": "2025-07-30T13:54:30.970059",
     "exception": false,
     "start_time": "2025-07-30T13:54:30.941670",
     "status": "completed"
    },
    "tags": []
   },
   "outputs": [],
   "source": [
    "example_universe = universe.copy()\n",
    "universe_training_size = example_universe.get(\"training_size\")\n",
    "universe_scale = example_universe.get(\"scale\")\n",
    "universe_model = example_universe.get(\"model\")\n",
    "universe_exclude_features = example_universe.get(\"exclude_features\")\n",
    "universe_exclude_subgroups = example_universe.get(\"exclude_subgroups\")"
   ]
  },
  {
   "cell_type": "code",
   "execution_count": 58,
   "id": "f4b6a8ac-9dc0-4245-8a91-5b3b5999c4f9",
   "metadata": {
    "execution": {
     "iopub.execute_input": "2025-07-30T13:54:31.025019Z",
     "iopub.status.busy": "2025-07-30T13:54:31.024558Z",
     "iopub.status.idle": "2025-07-30T13:54:31.031140Z",
     "shell.execute_reply": "2025-07-30T13:54:31.030286Z"
    },
    "papermill": {
     "duration": 0.036358,
     "end_time": "2025-07-30T13:54:31.033073",
     "exception": false,
     "start_time": "2025-07-30T13:54:30.996715",
     "status": "completed"
    },
    "tags": []
   },
   "outputs": [],
   "source": [
    "cp_metrics_dict = {\n",
    "    \"universe_id\": [universe_id],\n",
    "    \"universe_training_size\": [universe_training_size],\n",
    "    \"universe_scale\": [universe_scale],\n",
    "    \"universe_model\": [universe_model],\n",
    "    \"universe_exclude_features\": [universe_exclude_features],\n",
    "    \"universe_exclude_subgroups\": [universe_exclude_subgroups],\n",
    "    \"q_hat\": [q_hat],\n",
    "    \"coverage\": [metrics[\"coverage\"]],\n",
    "    \"avg_size\": [metrics[\"avg_size\"]],\n",
    "}"
   ]
  },
  {
   "cell_type": "code",
   "execution_count": 59,
   "id": "908acbb1-0371-4915-85ca-3fa520d2efe2",
   "metadata": {
    "execution": {
     "iopub.execute_input": "2025-07-30T13:54:31.084114Z",
     "iopub.status.busy": "2025-07-30T13:54:31.083189Z",
     "iopub.status.idle": "2025-07-30T13:54:31.090841Z",
     "shell.execute_reply": "2025-07-30T13:54:31.089865Z"
    },
    "papermill": {
     "duration": 0.034548,
     "end_time": "2025-07-30T13:54:31.092583",
     "exception": false,
     "start_time": "2025-07-30T13:54:31.058035",
     "status": "completed"
    },
    "tags": []
   },
   "outputs": [
    {
     "data": {
      "text/plain": [
       "{'universe_id': ['c6f6383279b91dcae6dd57748ac206f0'],\n",
       " 'universe_training_size': ['5k'],\n",
       " 'universe_scale': ['do-not-scale'],\n",
       " 'universe_model': ['elasticnet'],\n",
       " 'universe_exclude_features': ['age'],\n",
       " 'universe_exclude_subgroups': ['keep-all'],\n",
       " 'q_hat': [0.6469070649282647],\n",
       " 'coverage': [0.9127744955969235],\n",
       " 'avg_size': [1.2480436963549215]}"
      ]
     },
     "execution_count": 59,
     "metadata": {},
     "output_type": "execute_result"
    }
   ],
   "source": [
    "cp_metrics_dict"
   ]
  },
  {
   "cell_type": "code",
   "execution_count": 60,
   "id": "33007efc-14e9-4ec6-97ac-56a455c82265",
   "metadata": {
    "execution": {
     "iopub.execute_input": "2025-07-30T13:54:31.151454Z",
     "iopub.status.busy": "2025-07-30T13:54:31.150772Z",
     "iopub.status.idle": "2025-07-30T13:54:31.157486Z",
     "shell.execute_reply": "2025-07-30T13:54:31.156233Z"
    },
    "papermill": {
     "duration": 0.03835,
     "end_time": "2025-07-30T13:54:31.159327",
     "exception": false,
     "start_time": "2025-07-30T13:54:31.120977",
     "status": "completed"
    },
    "tags": []
   },
   "outputs": [],
   "source": [
    "cp_metrics_df = pd.DataFrame(cp_metrics_dict)"
   ]
  },
  {
   "cell_type": "code",
   "execution_count": 61,
   "id": "db12611b-57b2-4910-b9d0-355adfd6e7bf",
   "metadata": {
    "execution": {
     "iopub.execute_input": "2025-07-30T13:54:31.213686Z",
     "iopub.status.busy": "2025-07-30T13:54:31.213004Z",
     "iopub.status.idle": "2025-07-30T13:54:31.232620Z",
     "shell.execute_reply": "2025-07-30T13:54:31.231452Z"
    },
    "papermill": {
     "duration": 0.047442,
     "end_time": "2025-07-30T13:54:31.234445",
     "exception": false,
     "start_time": "2025-07-30T13:54:31.187003",
     "status": "completed"
    },
    "tags": []
   },
   "outputs": [
    {
     "data": {
      "text/html": [
       "<div>\n",
       "<style scoped>\n",
       "    .dataframe tbody tr th:only-of-type {\n",
       "        vertical-align: middle;\n",
       "    }\n",
       "\n",
       "    .dataframe tbody tr th {\n",
       "        vertical-align: top;\n",
       "    }\n",
       "\n",
       "    .dataframe thead th {\n",
       "        text-align: right;\n",
       "    }\n",
       "</style>\n",
       "<table border=\"1\" class=\"dataframe\">\n",
       "  <thead>\n",
       "    <tr style=\"text-align: right;\">\n",
       "      <th></th>\n",
       "      <th>universe_id</th>\n",
       "      <th>universe_training_size</th>\n",
       "      <th>universe_scale</th>\n",
       "      <th>universe_model</th>\n",
       "      <th>universe_exclude_features</th>\n",
       "      <th>universe_exclude_subgroups</th>\n",
       "      <th>q_hat</th>\n",
       "      <th>coverage</th>\n",
       "      <th>avg_size</th>\n",
       "    </tr>\n",
       "  </thead>\n",
       "  <tbody>\n",
       "    <tr>\n",
       "      <th>0</th>\n",
       "      <td>c6f6383279b91dcae6dd57748ac206f0</td>\n",
       "      <td>5k</td>\n",
       "      <td>do-not-scale</td>\n",
       "      <td>elasticnet</td>\n",
       "      <td>age</td>\n",
       "      <td>keep-all</td>\n",
       "      <td>0.646907</td>\n",
       "      <td>0.912774</td>\n",
       "      <td>1.248044</td>\n",
       "    </tr>\n",
       "  </tbody>\n",
       "</table>\n",
       "</div>"
      ],
      "text/plain": [
       "                        universe_id universe_training_size universe_scale  \\\n",
       "0  c6f6383279b91dcae6dd57748ac206f0                     5k   do-not-scale   \n",
       "\n",
       "  universe_model universe_exclude_features universe_exclude_subgroups  \\\n",
       "0     elasticnet                       age                   keep-all   \n",
       "\n",
       "      q_hat  coverage  avg_size  \n",
       "0  0.646907  0.912774  1.248044  "
      ]
     },
     "execution_count": 61,
     "metadata": {},
     "output_type": "execute_result"
    }
   ],
   "source": [
    "cp_metrics_df"
   ]
  },
  {
   "cell_type": "code",
   "execution_count": 62,
   "id": "b7fbde55-a0a1-47e4-9af6-fe4a17fa8c61",
   "metadata": {
    "execution": {
     "iopub.execute_input": "2025-07-30T13:54:31.296932Z",
     "iopub.status.busy": "2025-07-30T13:54:31.296235Z",
     "iopub.status.idle": "2025-07-30T13:54:31.301725Z",
     "shell.execute_reply": "2025-07-30T13:54:31.300741Z"
    },
    "papermill": {
     "duration": 0.038599,
     "end_time": "2025-07-30T13:54:31.303567",
     "exception": false,
     "start_time": "2025-07-30T13:54:31.264968",
     "status": "completed"
    },
    "tags": []
   },
   "outputs": [],
   "source": [
    "# Conditional Coverage & looking at subgroups"
   ]
  },
  {
   "cell_type": "code",
   "execution_count": 63,
   "id": "027ae886-68dd-4141-96c7-805a5450e1ef",
   "metadata": {
    "execution": {
     "iopub.execute_input": "2025-07-30T13:54:31.363204Z",
     "iopub.status.busy": "2025-07-30T13:54:31.362511Z",
     "iopub.status.idle": "2025-07-30T13:54:31.631373Z",
     "shell.execute_reply": "2025-07-30T13:54:31.630504Z"
    },
    "papermill": {
     "duration": 0.300225,
     "end_time": "2025-07-30T13:54:31.633205",
     "exception": false,
     "start_time": "2025-07-30T13:54:31.332980",
     "status": "completed"
    },
    "tags": []
   },
   "outputs": [],
   "source": [
    "from fairness_multiverse.conformal import build_cp_groups\n",
    "\n",
    "cp_groups_df = build_cp_groups(pred_sets, y_true, X_test.index, org_test)\n",
    "#needs universe_id and setting"
   ]
  },
  {
   "cell_type": "code",
   "execution_count": 64,
   "id": "01d5802c-663a-4d1f-9d69-e036faaffbf7",
   "metadata": {
    "execution": {
     "iopub.execute_input": "2025-07-30T13:54:31.693386Z",
     "iopub.status.busy": "2025-07-30T13:54:31.692910Z",
     "iopub.status.idle": "2025-07-30T13:54:31.697769Z",
     "shell.execute_reply": "2025-07-30T13:54:31.696787Z"
    },
    "papermill": {
     "duration": 0.03645,
     "end_time": "2025-07-30T13:54:31.699745",
     "exception": false,
     "start_time": "2025-07-30T13:54:31.663295",
     "status": "completed"
    },
    "tags": []
   },
   "outputs": [],
   "source": [
    "#delete\n",
    "#cp_groups_df"
   ]
  },
  {
   "cell_type": "code",
   "execution_count": 65,
   "id": "fa424af1-d1eb-443d-b717-2d279ada8408",
   "metadata": {
    "execution": {
     "iopub.execute_input": "2025-07-30T13:54:31.759746Z",
     "iopub.status.busy": "2025-07-30T13:54:31.759248Z",
     "iopub.status.idle": "2025-07-30T13:54:31.764376Z",
     "shell.execute_reply": "2025-07-30T13:54:31.763381Z"
    },
    "papermill": {
     "duration": 0.037965,
     "end_time": "2025-07-30T13:54:31.767169",
     "exception": false,
     "start_time": "2025-07-30T13:54:31.729204",
     "status": "completed"
    },
    "tags": []
   },
   "outputs": [],
   "source": [
    "#delete\n",
    "#percentage = (cp_groups_df['nongerman_female'] == 1).mean() * 100\n",
    "#print(percentage)\n"
   ]
  },
  {
   "cell_type": "code",
   "execution_count": 66,
   "id": "6cbdab96-b2b2-45af-ad54-d0516db2e28d",
   "metadata": {
    "execution": {
     "iopub.execute_input": "2025-07-30T13:54:31.829830Z",
     "iopub.status.busy": "2025-07-30T13:54:31.829352Z",
     "iopub.status.idle": "2025-07-30T13:54:33.231804Z",
     "shell.execute_reply": "2025-07-30T13:54:33.230802Z"
    },
    "papermill": {
     "duration": 1.436477,
     "end_time": "2025-07-30T13:54:33.234027",
     "exception": false,
     "start_time": "2025-07-30T13:54:31.797550",
     "status": "completed"
    },
    "tags": []
   },
   "outputs": [],
   "source": [
    "# Define covered = 1 if true_label is in the predicted set\n",
    "cp_groups_df['covered'] = cp_groups_df.apply(\n",
    "    lambda r: int(r['true_label'] in r['pred_set']),\n",
    "    axis=1\n",
    ")"
   ]
  },
  {
   "cell_type": "code",
   "execution_count": 67,
   "id": "338ff529-1a6b-4b87-a931-8e4788d52aad",
   "metadata": {
    "execution": {
     "iopub.execute_input": "2025-07-30T13:54:33.280180Z",
     "iopub.status.busy": "2025-07-30T13:54:33.279693Z",
     "iopub.status.idle": "2025-07-30T13:54:33.285063Z",
     "shell.execute_reply": "2025-07-30T13:54:33.283936Z"
    },
    "papermill": {
     "duration": 0.03704,
     "end_time": "2025-07-30T13:54:33.287006",
     "exception": false,
     "start_time": "2025-07-30T13:54:33.249966",
     "status": "completed"
    },
    "tags": []
   },
   "outputs": [],
   "source": [
    "#cp_groups_df"
   ]
  },
  {
   "cell_type": "code",
   "execution_count": 68,
   "id": "90032e27-66df-4540-9169-4e89cfbaa758",
   "metadata": {
    "execution": {
     "iopub.execute_input": "2025-07-30T13:54:33.347425Z",
     "iopub.status.busy": "2025-07-30T13:54:33.346486Z",
     "iopub.status.idle": "2025-07-30T13:54:33.358241Z",
     "shell.execute_reply": "2025-07-30T13:54:33.357259Z"
    },
    "papermill": {
     "duration": 0.043141,
     "end_time": "2025-07-30T13:54:33.359936",
     "exception": false,
     "start_time": "2025-07-30T13:54:33.316795",
     "status": "completed"
    },
    "tags": []
   },
   "outputs": [],
   "source": [
    "subgroups = ['frau1','nongerman','nongerman_male','nongerman_female']\n",
    "\n",
    "# Conditional coverage for subgroup==1\n",
    "cond_coverage = {\n",
    "    g: cp_groups_df.loc[cp_groups_df[g]==1, 'covered'].mean()\n",
    "    for g in subgroups\n",
    "}"
   ]
  },
  {
   "cell_type": "code",
   "execution_count": 69,
   "id": "1e348fb1-b9c3-45bc-ba23-f016827a7e0d",
   "metadata": {
    "execution": {
     "iopub.execute_input": "2025-07-30T13:54:33.419647Z",
     "iopub.status.busy": "2025-07-30T13:54:33.418682Z",
     "iopub.status.idle": "2025-07-30T13:54:33.426417Z",
     "shell.execute_reply": "2025-07-30T13:54:33.425372Z"
    },
    "papermill": {
     "duration": 0.039087,
     "end_time": "2025-07-30T13:54:33.428120",
     "exception": false,
     "start_time": "2025-07-30T13:54:33.389033",
     "status": "completed"
    },
    "tags": []
   },
   "outputs": [
    {
     "data": {
      "text/plain": [
       "{'frau1': 0.9116322954576088,\n",
       " 'nongerman': 0.9604221635883905,\n",
       " 'nongerman_male': 0.9673061334774385,\n",
       " 'nongerman_female': 0.9490312965722801}"
      ]
     },
     "execution_count": 69,
     "metadata": {},
     "output_type": "execute_result"
    }
   ],
   "source": [
    "cond_coverage"
   ]
  },
  {
   "cell_type": "code",
   "execution_count": 70,
   "id": "f5093324-c3dd-4d63-bc4c-8d945e5c8bbb",
   "metadata": {
    "execution": {
     "iopub.execute_input": "2025-07-30T13:54:33.488329Z",
     "iopub.status.busy": "2025-07-30T13:54:33.487533Z",
     "iopub.status.idle": "2025-07-30T13:54:33.495711Z",
     "shell.execute_reply": "2025-07-30T13:54:33.494629Z"
    },
    "papermill": {
     "duration": 0.039539,
     "end_time": "2025-07-30T13:54:33.497527",
     "exception": false,
     "start_time": "2025-07-30T13:54:33.457988",
     "status": "completed"
    },
    "tags": []
   },
   "outputs": [],
   "source": [
    "for subgroup, cov in cond_coverage.items():\n",
    "    cp_metrics_df[f\"cov_{subgroup}\"] = cov"
   ]
  },
  {
   "cell_type": "code",
   "execution_count": 71,
   "id": "6e872e10-dbe5-49e8-b554-5030c98ff75d",
   "metadata": {
    "execution": {
     "iopub.execute_input": "2025-07-30T13:54:33.556608Z",
     "iopub.status.busy": "2025-07-30T13:54:33.555773Z",
     "iopub.status.idle": "2025-07-30T13:54:33.575542Z",
     "shell.execute_reply": "2025-07-30T13:54:33.574519Z"
    },
    "papermill": {
     "duration": 0.050801,
     "end_time": "2025-07-30T13:54:33.577389",
     "exception": false,
     "start_time": "2025-07-30T13:54:33.526588",
     "status": "completed"
    },
    "tags": []
   },
   "outputs": [
    {
     "data": {
      "text/html": [
       "<div>\n",
       "<style scoped>\n",
       "    .dataframe tbody tr th:only-of-type {\n",
       "        vertical-align: middle;\n",
       "    }\n",
       "\n",
       "    .dataframe tbody tr th {\n",
       "        vertical-align: top;\n",
       "    }\n",
       "\n",
       "    .dataframe thead th {\n",
       "        text-align: right;\n",
       "    }\n",
       "</style>\n",
       "<table border=\"1\" class=\"dataframe\">\n",
       "  <thead>\n",
       "    <tr style=\"text-align: right;\">\n",
       "      <th></th>\n",
       "      <th>universe_id</th>\n",
       "      <th>universe_training_size</th>\n",
       "      <th>universe_scale</th>\n",
       "      <th>universe_model</th>\n",
       "      <th>universe_exclude_features</th>\n",
       "      <th>universe_exclude_subgroups</th>\n",
       "      <th>q_hat</th>\n",
       "      <th>coverage</th>\n",
       "      <th>avg_size</th>\n",
       "      <th>cov_frau1</th>\n",
       "      <th>cov_nongerman</th>\n",
       "      <th>cov_nongerman_male</th>\n",
       "      <th>cov_nongerman_female</th>\n",
       "    </tr>\n",
       "  </thead>\n",
       "  <tbody>\n",
       "    <tr>\n",
       "      <th>0</th>\n",
       "      <td>c6f6383279b91dcae6dd57748ac206f0</td>\n",
       "      <td>5k</td>\n",
       "      <td>do-not-scale</td>\n",
       "      <td>elasticnet</td>\n",
       "      <td>age</td>\n",
       "      <td>keep-all</td>\n",
       "      <td>0.646907</td>\n",
       "      <td>0.912774</td>\n",
       "      <td>1.248044</td>\n",
       "      <td>0.911632</td>\n",
       "      <td>0.960422</td>\n",
       "      <td>0.967306</td>\n",
       "      <td>0.949031</td>\n",
       "    </tr>\n",
       "  </tbody>\n",
       "</table>\n",
       "</div>"
      ],
      "text/plain": [
       "                        universe_id universe_training_size universe_scale  \\\n",
       "0  c6f6383279b91dcae6dd57748ac206f0                     5k   do-not-scale   \n",
       "\n",
       "  universe_model universe_exclude_features universe_exclude_subgroups  \\\n",
       "0     elasticnet                       age                   keep-all   \n",
       "\n",
       "      q_hat  coverage  avg_size  cov_frau1  cov_nongerman  cov_nongerman_male  \\\n",
       "0  0.646907  0.912774  1.248044   0.911632       0.960422            0.967306   \n",
       "\n",
       "   cov_nongerman_female  \n",
       "0              0.949031  "
      ]
     },
     "execution_count": 71,
     "metadata": {},
     "output_type": "execute_result"
    }
   ],
   "source": [
    "cp_metrics_df"
   ]
  },
  {
   "cell_type": "markdown",
   "id": "33774451",
   "metadata": {
    "papermill": {
     "duration": 0.028206,
     "end_time": "2025-07-30T13:54:33.635366",
     "exception": false,
     "start_time": "2025-07-30T13:54:33.607160",
     "status": "completed"
    },
    "tags": []
   },
   "source": [
    "# (Fairness) Metrics"
   ]
  },
  {
   "cell_type": "code",
   "execution_count": 72,
   "id": "debc5d62",
   "metadata": {
    "execution": {
     "iopub.execute_input": "2025-07-30T13:54:33.694462Z",
     "iopub.status.busy": "2025-07-30T13:54:33.693878Z",
     "iopub.status.idle": "2025-07-30T13:54:33.716178Z",
     "shell.execute_reply": "2025-07-30T13:54:33.715133Z"
    },
    "papermill": {
     "duration": 0.053731,
     "end_time": "2025-07-30T13:54:33.718128",
     "exception": false,
     "start_time": "2025-07-30T13:54:33.664397",
     "status": "completed"
    },
    "tags": []
   },
   "outputs": [],
   "source": [
    "# do I need to include maxdeutsch1.missing?\n",
    "\n",
    "import numpy as np\n",
    "\n",
    "colname_to_bin = \"maxdeutsch1\"\n",
    "majority_value = org_train[colname_to_bin].mode()[0]\n",
    "\n",
    "org_test[\"majmin\"] = np.where(org_test[colname_to_bin] == majority_value, \"majority\", \"minority\")"
   ]
  },
  {
   "cell_type": "code",
   "execution_count": 73,
   "id": "06a50de5",
   "metadata": {
    "execution": {
     "iopub.execute_input": "2025-07-30T13:54:33.778526Z",
     "iopub.status.busy": "2025-07-30T13:54:33.777804Z",
     "iopub.status.idle": "2025-07-30T13:54:35.528919Z",
     "shell.execute_reply": "2025-07-30T13:54:35.528122Z"
    },
    "papermill": {
     "duration": 1.782929,
     "end_time": "2025-07-30T13:54:35.530928",
     "exception": false,
     "start_time": "2025-07-30T13:54:33.747999",
     "status": "completed"
    },
    "tags": []
   },
   "outputs": [],
   "source": [
    "example_universe = universe.copy()\n",
    "example_universe[\"cutoff\"] = example_universe[\"cutoff\"][0]\n",
    "example_universe[\"eval_fairness_grouping\"] = example_universe[\"eval_fairness_grouping\"][0]\n",
    "fairness_dict, metric_frame = universe_analysis.compute_metrics(\n",
    "    example_universe,\n",
    "    y_pred_prob=probs_test,\n",
    "    y_test=y_true,\n",
    "    org_test=org_test,\n",
    ")"
   ]
  },
  {
   "cell_type": "markdown",
   "id": "f95d4e02",
   "metadata": {
    "papermill": {
     "duration": 0.028985,
     "end_time": "2025-07-30T13:54:35.589873",
     "exception": false,
     "start_time": "2025-07-30T13:54:35.560888",
     "status": "completed"
    },
    "tags": []
   },
   "source": [
    "# Overall"
   ]
  },
  {
   "cell_type": "markdown",
   "id": "bdee4871",
   "metadata": {
    "papermill": {
     "duration": 0.028033,
     "end_time": "2025-07-30T13:54:35.645845",
     "exception": false,
     "start_time": "2025-07-30T13:54:35.617812",
     "status": "completed"
    },
    "tags": []
   },
   "source": [
    "Fairness\n",
    "Main fairness target: Equalized Odds. Seems to be a better fit than equal opportunity, since we're not only interested in Y = 1. Seems to be a better fit than demographic parity, since we also care about accuracy, not just equal distribution of preds.\n",
    "\n",
    "Pick column for computation of fairness metrics\n",
    "\n",
    "Performance\n",
    "Overall performance measures, most interesting in relation to the measures split by group below"
   ]
  },
  {
   "cell_type": "code",
   "execution_count": 74,
   "id": "c4e067c6",
   "metadata": {
    "execution": {
     "iopub.execute_input": "2025-07-30T13:54:35.702242Z",
     "iopub.status.busy": "2025-07-30T13:54:35.701343Z",
     "iopub.status.idle": "2025-07-30T13:54:35.711294Z",
     "shell.execute_reply": "2025-07-30T13:54:35.710227Z"
    },
    "papermill": {
     "duration": 0.040816,
     "end_time": "2025-07-30T13:54:35.713191",
     "exception": false,
     "start_time": "2025-07-30T13:54:35.672375",
     "status": "completed"
    },
    "tags": []
   },
   "outputs": [
    {
     "data": {
      "text/plain": [
       "accuracy                   0.217690\n",
       "balanced accuracy          0.533683\n",
       "f1                         0.239206\n",
       "precision                  0.136650\n",
       "false positive rate        0.891358\n",
       "false negative rate        0.041276\n",
       "selection rate             0.900000\n",
       "count                  89710.000000\n",
       "dtype: float64"
      ]
     },
     "execution_count": 74,
     "metadata": {},
     "output_type": "execute_result"
    }
   ],
   "source": [
    "metric_frame.overall"
   ]
  },
  {
   "cell_type": "markdown",
   "id": "e968fe9d",
   "metadata": {
    "papermill": {
     "duration": 0.028803,
     "end_time": "2025-07-30T13:54:35.771663",
     "exception": false,
     "start_time": "2025-07-30T13:54:35.742860",
     "status": "completed"
    },
    "tags": []
   },
   "source": [
    "By Group"
   ]
  },
  {
   "cell_type": "code",
   "execution_count": 75,
   "id": "ec325bce",
   "metadata": {
    "execution": {
     "iopub.execute_input": "2025-07-30T13:54:35.831178Z",
     "iopub.status.busy": "2025-07-30T13:54:35.830603Z",
     "iopub.status.idle": "2025-07-30T13:54:35.847130Z",
     "shell.execute_reply": "2025-07-30T13:54:35.846131Z"
    },
    "papermill": {
     "duration": 0.048281,
     "end_time": "2025-07-30T13:54:35.848738",
     "exception": false,
     "start_time": "2025-07-30T13:54:35.800457",
     "status": "completed"
    },
    "tags": []
   },
   "outputs": [
    {
     "data": {
      "text/html": [
       "<div>\n",
       "<style scoped>\n",
       "    .dataframe tbody tr th:only-of-type {\n",
       "        vertical-align: middle;\n",
       "    }\n",
       "\n",
       "    .dataframe tbody tr th {\n",
       "        vertical-align: top;\n",
       "    }\n",
       "\n",
       "    .dataframe thead th {\n",
       "        text-align: right;\n",
       "    }\n",
       "</style>\n",
       "<table border=\"1\" class=\"dataframe\">\n",
       "  <thead>\n",
       "    <tr style=\"text-align: right;\">\n",
       "      <th></th>\n",
       "      <th>accuracy</th>\n",
       "      <th>balanced accuracy</th>\n",
       "      <th>f1</th>\n",
       "      <th>precision</th>\n",
       "      <th>false positive rate</th>\n",
       "      <th>false negative rate</th>\n",
       "      <th>selection rate</th>\n",
       "      <th>count</th>\n",
       "    </tr>\n",
       "    <tr>\n",
       "      <th>majmin</th>\n",
       "      <th></th>\n",
       "      <th></th>\n",
       "      <th></th>\n",
       "      <th></th>\n",
       "      <th></th>\n",
       "      <th></th>\n",
       "      <th></th>\n",
       "      <th></th>\n",
       "    </tr>\n",
       "  </thead>\n",
       "  <tbody>\n",
       "    <tr>\n",
       "      <th>majority</th>\n",
       "      <td>0.240061</td>\n",
       "      <td>0.541726</td>\n",
       "      <td>0.248674</td>\n",
       "      <td>0.143022</td>\n",
       "      <td>0.868299</td>\n",
       "      <td>0.048249</td>\n",
       "      <td>0.879326</td>\n",
       "      <td>69170.0</td>\n",
       "    </tr>\n",
       "    <tr>\n",
       "      <th>minority</th>\n",
       "      <td>0.142356</td>\n",
       "      <td>0.509055</td>\n",
       "      <td>0.209478</td>\n",
       "      <td>0.117192</td>\n",
       "      <td>0.967532</td>\n",
       "      <td>0.014358</td>\n",
       "      <td>0.969620</td>\n",
       "      <td>20540.0</td>\n",
       "    </tr>\n",
       "  </tbody>\n",
       "</table>\n",
       "</div>"
      ],
      "text/plain": [
       "          accuracy  balanced accuracy        f1  precision  \\\n",
       "majmin                                                       \n",
       "majority  0.240061           0.541726  0.248674   0.143022   \n",
       "minority  0.142356           0.509055  0.209478   0.117192   \n",
       "\n",
       "          false positive rate  false negative rate  selection rate    count  \n",
       "majmin                                                                       \n",
       "majority             0.868299             0.048249        0.879326  69170.0  \n",
       "minority             0.967532             0.014358        0.969620  20540.0  "
      ]
     },
     "execution_count": 75,
     "metadata": {},
     "output_type": "execute_result"
    }
   ],
   "source": [
    "metric_frame.by_group"
   ]
  },
  {
   "cell_type": "code",
   "execution_count": 76,
   "id": "a9ddbe63",
   "metadata": {
    "execution": {
     "iopub.execute_input": "2025-07-30T13:54:35.909753Z",
     "iopub.status.busy": "2025-07-30T13:54:35.909088Z",
     "iopub.status.idle": "2025-07-30T13:54:38.327133Z",
     "shell.execute_reply": "2025-07-30T13:54:38.326204Z"
    },
    "papermill": {
     "duration": 2.450053,
     "end_time": "2025-07-30T13:54:38.328844",
     "exception": false,
     "start_time": "2025-07-30T13:54:35.878791",
     "status": "completed"
    },
    "tags": []
   },
   "outputs": [
    {
     "data": {
      "text/plain": [
       "array([[<Axes: title={'center': 'accuracy'}, xlabel='majmin'>,\n",
       "        <Axes: title={'center': 'balanced accuracy'}, xlabel='majmin'>,\n",
       "        <Axes: title={'center': 'f1'}, xlabel='majmin'>],\n",
       "       [<Axes: title={'center': 'precision'}, xlabel='majmin'>,\n",
       "        <Axes: title={'center': 'false positive rate'}, xlabel='majmin'>,\n",
       "        <Axes: title={'center': 'false negative rate'}, xlabel='majmin'>],\n",
       "       [<Axes: title={'center': 'selection rate'}, xlabel='majmin'>,\n",
       "        <Axes: title={'center': 'count'}, xlabel='majmin'>,\n",
       "        <Axes: xlabel='majmin'>]], dtype=object)"
      ]
     },
     "execution_count": 76,
     "metadata": {},
     "output_type": "execute_result"
    },
    {
     "data": {
      "image/png": "[encoded data removed]",
      "text/plain": [
       "<Figure size 1200x800 with 9 Axes>"
      ]
     },
     "metadata": {},
     "output_type": "display_data"
    }
   ],
   "source": [
    "# In a graphic\n",
    "metric_frame.by_group.plot.bar(\n",
    "    subplots=True,\n",
    "    layout=[3, 3],\n",
    "    legend=False,\n",
    "    figsize=[12, 8],\n",
    "    title=\"Show all metrics\",\n",
    ")"
   ]
  },
  {
   "cell_type": "markdown",
   "id": "f57a0bac",
   "metadata": {
    "papermill": {
     "duration": 0.028599,
     "end_time": "2025-07-30T13:54:38.390364",
     "exception": false,
     "start_time": "2025-07-30T13:54:38.361765",
     "status": "completed"
    },
    "tags": []
   },
   "source": [
    "# Final Output"
   ]
  },
  {
   "cell_type": "code",
   "execution_count": 77,
   "id": "96d280a3",
   "metadata": {
    "execution": {
     "iopub.execute_input": "2025-07-30T13:54:38.450983Z",
     "iopub.status.busy": "2025-07-30T13:54:38.450176Z",
     "iopub.status.idle": "2025-07-30T13:54:38.458511Z",
     "shell.execute_reply": "2025-07-30T13:54:38.457582Z"
    },
    "papermill": {
     "duration": 0.039756,
     "end_time": "2025-07-30T13:54:38.460261",
     "exception": false,
     "start_time": "2025-07-30T13:54:38.420505",
     "status": "completed"
    },
    "tags": []
   },
   "outputs": [
    {
     "data": {
      "text/plain": [
       "4"
      ]
     },
     "execution_count": 77,
     "metadata": {},
     "output_type": "execute_result"
    }
   ],
   "source": [
    "sub_universes = universe_analysis.generate_sub_universes()\n",
    "len(sub_universes)"
   ]
  },
  {
   "cell_type": "code",
   "execution_count": 78,
   "id": "92adf7ba",
   "metadata": {
    "execution": {
     "iopub.execute_input": "2025-07-30T13:54:38.521648Z",
     "iopub.status.busy": "2025-07-30T13:54:38.521062Z",
     "iopub.status.idle": "2025-07-30T13:54:38.527357Z",
     "shell.execute_reply": "2025-07-30T13:54:38.526314Z"
    },
    "papermill": {
     "duration": 0.038326,
     "end_time": "2025-07-30T13:54:38.529226",
     "exception": false,
     "start_time": "2025-07-30T13:54:38.490900",
     "status": "completed"
    },
    "tags": []
   },
   "outputs": [],
   "source": [
    "def filter_sub_universe_data(sub_universe, org_test):\n",
    "    # Keep all rows — no filtering\n",
    "    keep_rows_mask = np.ones(org_test.shape[0], dtype=bool)\n",
    "\n",
    "    print(f\"[INFO] Keeping all rows: {keep_rows_mask.sum()} rows retained.\")\n",
    "    return keep_rows_mask"
   ]
  },
  {
   "cell_type": "code",
   "execution_count": 79,
   "id": "4a759155",
   "metadata": {
    "execution": {
     "iopub.execute_input": "2025-07-30T13:54:38.590025Z",
     "iopub.status.busy": "2025-07-30T13:54:38.589388Z",
     "iopub.status.idle": "2025-07-30T13:54:48.425751Z",
     "shell.execute_reply": "2025-07-30T13:54:48.424755Z"
    },
    "papermill": {
     "duration": 9.866775,
     "end_time": "2025-07-30T13:54:48.427309",
     "exception": false,
     "start_time": "2025-07-30T13:54:38.560534",
     "status": "completed"
    },
    "tags": []
   },
   "outputs": [
    {
     "name": "stdout",
     "output_type": "stream",
     "text": [
      "Stopping execution_time clock.\n",
      "[INFO] Keeping all rows: 89710 rows retained.\n"
     ]
    },
    {
     "name": "stdout",
     "output_type": "stream",
     "text": [
      "[INFO] Keeping all rows: 89710 rows retained.\n"
     ]
    },
    {
     "name": "stdout",
     "output_type": "stream",
     "text": [
      "[INFO] Keeping all rows: 89710 rows retained.\n"
     ]
    },
    {
     "name": "stdout",
     "output_type": "stream",
     "text": [
      "[INFO] Keeping all rows: 89710 rows retained.\n"
     ]
    },
    {
     "data": {
      "text/html": [
       "<div>\n",
       "<style scoped>\n",
       "    .dataframe tbody tr th:only-of-type {\n",
       "        vertical-align: middle;\n",
       "    }\n",
       "\n",
       "    .dataframe tbody tr th {\n",
       "        vertical-align: top;\n",
       "    }\n",
       "\n",
       "    .dataframe thead th {\n",
       "        text-align: right;\n",
       "    }\n",
       "</style>\n",
       "<table border=\"1\" class=\"dataframe\">\n",
       "  <thead>\n",
       "    <tr style=\"text-align: right;\">\n",
       "      <th></th>\n",
       "      <th>run_no</th>\n",
       "      <th>universe_id</th>\n",
       "      <th>universe_settings</th>\n",
       "      <th>execution_time</th>\n",
       "      <th>test_size_n</th>\n",
       "      <th>test_size_frac</th>\n",
       "      <th>fair_main_equalized_odds_difference</th>\n",
       "      <th>fair_main_equalized_odds_ratio</th>\n",
       "      <th>fair_main_demographic_parity_difference</th>\n",
       "      <th>fair_main_demographic_parity_ratio</th>\n",
       "      <th>...</th>\n",
       "      <th>perf_grp_precision_0</th>\n",
       "      <th>perf_grp_precision_1</th>\n",
       "      <th>perf_grp_false positive rate_0</th>\n",
       "      <th>perf_grp_false positive rate_1</th>\n",
       "      <th>perf_grp_false negative rate_0</th>\n",
       "      <th>perf_grp_false negative rate_1</th>\n",
       "      <th>perf_grp_selection rate_0</th>\n",
       "      <th>perf_grp_selection rate_1</th>\n",
       "      <th>perf_grp_count_0</th>\n",
       "      <th>perf_grp_count_1</th>\n",
       "    </tr>\n",
       "  </thead>\n",
       "  <tbody>\n",
       "    <tr>\n",
       "      <th>0</th>\n",
       "      <td>12</td>\n",
       "      <td>c6f6383279b91dcae6dd57748ac206f0</td>\n",
       "      <td>{\"cutoff\": \"quantile_0.1\", \"eval_fairness_grou...</td>\n",
       "      <td>101.644214</td>\n",
       "      <td>89710</td>\n",
       "      <td>1.0</td>\n",
       "      <td>0.099233</td>\n",
       "      <td>0.897437</td>\n",
       "      <td>0.090294</td>\n",
       "      <td>0.906877</td>\n",
       "      <td>...</td>\n",
       "      <td>NaN</td>\n",
       "      <td>NaN</td>\n",
       "      <td>NaN</td>\n",
       "      <td>NaN</td>\n",
       "      <td>NaN</td>\n",
       "      <td>NaN</td>\n",
       "      <td>NaN</td>\n",
       "      <td>NaN</td>\n",
       "      <td>NaN</td>\n",
       "      <td>NaN</td>\n",
       "    </tr>\n",
       "    <tr>\n",
       "      <th>0</th>\n",
       "      <td>12</td>\n",
       "      <td>c6f6383279b91dcae6dd57748ac206f0</td>\n",
       "      <td>{\"cutoff\": \"quantile_0.1\", \"eval_fairness_grou...</td>\n",
       "      <td>101.644214</td>\n",
       "      <td>89710</td>\n",
       "      <td>1.0</td>\n",
       "      <td>0.099233</td>\n",
       "      <td>0.897437</td>\n",
       "      <td>0.090294</td>\n",
       "      <td>0.906877</td>\n",
       "      <td>...</td>\n",
       "      <td>0.117192</td>\n",
       "      <td>0.143022</td>\n",
       "      <td>0.967532</td>\n",
       "      <td>0.868299</td>\n",
       "      <td>0.014358</td>\n",
       "      <td>0.048249</td>\n",
       "      <td>0.96962</td>\n",
       "      <td>0.879326</td>\n",
       "      <td>20540.0</td>\n",
       "      <td>69170.0</td>\n",
       "    </tr>\n",
       "    <tr>\n",
       "      <th>0</th>\n",
       "      <td>12</td>\n",
       "      <td>c6f6383279b91dcae6dd57748ac206f0</td>\n",
       "      <td>{\"cutoff\": \"quantile_0.25\", \"eval_fairness_gro...</td>\n",
       "      <td>101.644214</td>\n",
       "      <td>89710</td>\n",
       "      <td>1.0</td>\n",
       "      <td>0.235639</td>\n",
       "      <td>0.741657</td>\n",
       "      <td>0.216650</td>\n",
       "      <td>0.763751</td>\n",
       "      <td>...</td>\n",
       "      <td>NaN</td>\n",
       "      <td>NaN</td>\n",
       "      <td>NaN</td>\n",
       "      <td>NaN</td>\n",
       "      <td>NaN</td>\n",
       "      <td>NaN</td>\n",
       "      <td>NaN</td>\n",
       "      <td>NaN</td>\n",
       "      <td>NaN</td>\n",
       "      <td>NaN</td>\n",
       "    </tr>\n",
       "    <tr>\n",
       "      <th>0</th>\n",
       "      <td>12</td>\n",
       "      <td>c6f6383279b91dcae6dd57748ac206f0</td>\n",
       "      <td>{\"cutoff\": \"quantile_0.25\", \"eval_fairness_gro...</td>\n",
       "      <td>101.644214</td>\n",
       "      <td>89710</td>\n",
       "      <td>1.0</td>\n",
       "      <td>0.235639</td>\n",
       "      <td>0.741657</td>\n",
       "      <td>0.216650</td>\n",
       "      <td>0.763751</td>\n",
       "      <td>...</td>\n",
       "      <td>0.120036</td>\n",
       "      <td>0.161768</td>\n",
       "      <td>0.912118</td>\n",
       "      <td>0.676478</td>\n",
       "      <td>0.045186</td>\n",
       "      <td>0.142560</td>\n",
       "      <td>0.91704</td>\n",
       "      <td>0.700390</td>\n",
       "      <td>20540.0</td>\n",
       "      <td>69170.0</td>\n",
       "    </tr>\n",
       "  </tbody>\n",
       "</table>\n",
       "<p>4 rows × 50 columns</p>\n",
       "</div>"
      ],
      "text/plain": [
       "  run_no                       universe_id  \\\n",
       "0     12  c6f6383279b91dcae6dd57748ac206f0   \n",
       "0     12  c6f6383279b91dcae6dd57748ac206f0   \n",
       "0     12  c6f6383279b91dcae6dd57748ac206f0   \n",
       "0     12  c6f6383279b91dcae6dd57748ac206f0   \n",
       "\n",
       "                                   universe_settings  execution_time  \\\n",
       "0  {\"cutoff\": \"quantile_0.1\", \"eval_fairness_grou...      101.644214   \n",
       "0  {\"cutoff\": \"quantile_0.1\", \"eval_fairness_grou...      101.644214   \n",
       "0  {\"cutoff\": \"quantile_0.25\", \"eval_fairness_gro...      101.644214   \n",
       "0  {\"cutoff\": \"quantile_0.25\", \"eval_fairness_gro...      101.644214   \n",
       "\n",
       "   test_size_n  test_size_frac  fair_main_equalized_odds_difference  \\\n",
       "0        89710             1.0                             0.099233   \n",
       "0        89710             1.0                             0.099233   \n",
       "0        89710             1.0                             0.235639   \n",
       "0        89710             1.0                             0.235639   \n",
       "\n",
       "   fair_main_equalized_odds_ratio  fair_main_demographic_parity_difference  \\\n",
       "0                        0.897437                                 0.090294   \n",
       "0                        0.897437                                 0.090294   \n",
       "0                        0.741657                                 0.216650   \n",
       "0                        0.741657                                 0.216650   \n",
       "\n",
       "   fair_main_demographic_parity_ratio  ...  perf_grp_precision_0  \\\n",
       "0                            0.906877  ...                   NaN   \n",
       "0                            0.906877  ...              0.117192   \n",
       "0                            0.763751  ...                   NaN   \n",
       "0                            0.763751  ...              0.120036   \n",
       "\n",
       "   perf_grp_precision_1  perf_grp_false positive rate_0  \\\n",
       "0                   NaN                             NaN   \n",
       "0              0.143022                        0.967532   \n",
       "0                   NaN                             NaN   \n",
       "0              0.161768                        0.912118   \n",
       "\n",
       "   perf_grp_false positive rate_1  perf_grp_false negative rate_0  \\\n",
       "0                             NaN                             NaN   \n",
       "0                        0.868299                        0.014358   \n",
       "0                             NaN                             NaN   \n",
       "0                        0.676478                        0.045186   \n",
       "\n",
       "   perf_grp_false negative rate_1  perf_grp_selection rate_0  \\\n",
       "0                             NaN                        NaN   \n",
       "0                        0.048249                    0.96962   \n",
       "0                             NaN                        NaN   \n",
       "0                        0.142560                    0.91704   \n",
       "\n",
       "   perf_grp_selection rate_1  perf_grp_count_0  perf_grp_count_1  \n",
       "0                        NaN               NaN               NaN  \n",
       "0                   0.879326           20540.0           69170.0  \n",
       "0                        NaN               NaN               NaN  \n",
       "0                   0.700390           20540.0           69170.0  \n",
       "\n",
       "[4 rows x 50 columns]"
      ]
     },
     "execution_count": 79,
     "metadata": {},
     "output_type": "execute_result"
    }
   ],
   "source": [
    "final_output = universe_analysis.generate_final_output(\n",
    "    y_pred_prob=probs_test,\n",
    "    y_test=y_true,\n",
    "    org_test=org_test,\n",
    "    filter_data=filter_sub_universe_data,\n",
    "    cp_metrics_df=cp_metrics_df,\n",
    "    save=True,\n",
    ")\n",
    "final_output"
   ]
  },
  {
   "cell_type": "code",
   "execution_count": null,
   "id": "721ff514-cb11-46f8-b6fc-50392f74b5cb",
   "metadata": {
    "papermill": {
     "duration": 0.032948,
     "end_time": "2025-07-30T13:54:48.496537",
     "exception": false,
     "start_time": "2025-07-30T13:54:48.463589",
     "status": "completed"
    },
    "tags": []
   },
   "outputs": [],
   "source": []
  }
 ],
 "metadata": {
  "celltoolbar": "Tags",
  "kernelspec": {
   "display_name": "Python (CMA Fairness)",
   "language": "python",
   "name": "cma_fair_env"
  },
  "language_info": {
   "codemirror_mode": {
    "name": "ipython",
    "version": 3
   },
   "file_extension": ".py",
   "mimetype": "text/x-python",
   "name": "python",
   "nbconvert_exporter": "python",
   "pygments_lexer": "ipython3",
   "version": "3.10.12"
  },
  "papermill": {
   "default_parameters": {},
   "duration": 115.631282,
   "end_time": "2025-07-30T13:54:49.349634",
   "environment_variables": {},
   "exception": null,
   "input_path": "universe_analysis.ipynb",
   "output_path": "output/runs/12/notebooks/m_12-c6f6383279b91dcae6dd57748ac206f0.ipynb",
   "parameters": {
    "output_dir": "output",
    "run_no": "12",
    "seed": "2023",
    "universe": "{\"cutoff\": [\"quantile_0.1\", \"quantile_0.25\"], \"eval_fairness_grouping\": [\"majority-minority\", \"nationality-all\"], \"exclude_features\": \"age\", \"exclude_subgroups\": \"keep-all\", \"model\": \"elasticnet\", \"scale\": \"do-not-scale\", \"training_size\": \"5k\", \"training_year\": \"2014\"}",
    "universe_id": "c6f6383279b91dcae6dd57748ac206f0"
   },
   "start_time": "2025-07-30T13:52:53.718352",
   "version": "2.6.0"
  }
 },
 "nbformat": 4,
 "nbformat_minor": 5
}