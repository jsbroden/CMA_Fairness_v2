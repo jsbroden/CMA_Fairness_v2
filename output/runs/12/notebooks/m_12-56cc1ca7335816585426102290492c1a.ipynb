{
 "cells": [
  {
   "cell_type": "code",
   "execution_count": 1,
   "id": "f159f837-637b-42ba-96b5-ec9a68c44524",
   "metadata": {
    "execution": {
     "iopub.execute_input": "2025-07-30T12:54:55.359809Z",
     "iopub.status.busy": "2025-07-30T12:54:55.359326Z",
     "iopub.status.idle": "2025-07-30T12:54:55.372684Z",
     "shell.execute_reply": "2025-07-30T12:54:55.371748Z"
    },
    "papermill": {
     "duration": 0.03776,
     "end_time": "2025-07-30T12:54:55.374330",
     "exception": false,
     "start_time": "2025-07-30T12:54:55.336570",
     "status": "completed"
    },
    "tags": []
   },
   "outputs": [
    {
     "name": "stdout",
     "output_type": "stream",
     "text": [
      "/dss/dsshome1/0C/ra93lal2/cma/CMA_Fairness_v2\n"
     ]
    },
    {
     "name": "stderr",
     "output_type": "stream",
     "text": [
      "/dss/dsshome1/0C/ra93lal2/.local/share/virtualenvs/CMA_Fairness_v2-3j10GkSs/lib/python3.10/site-packages/IPython/core/magics/osm.py:393: UserWarning: This is now an optional IPython functionality, using bookmarks requires you to install the `pickleshare` library.\n",
      "  bkms = self.shell.db.get('bookmarks', {})\n",
      "/dss/dsshome1/0C/ra93lal2/.local/share/virtualenvs/CMA_Fairness_v2-3j10GkSs/lib/python3.10/site-packages/IPython/core/magics/osm.py:417: UserWarning: This is now an optional IPython functionality, setting dhist requires you to install the `pickleshare` library.\n",
      "  self.shell.db['dhist'] = compress_dhist(dhist)[-100:]\n"
     ]
    }
   ],
   "source": [
    "%cd ~/cma/CMA_Fairness_v2"
   ]
  },
  {
   "cell_type": "markdown",
   "id": "de2603b9",
   "metadata": {
    "papermill": {
     "duration": 0.02064,
     "end_time": "2025-07-30T12:54:55.413976",
     "exception": false,
     "start_time": "2025-07-30T12:54:55.393336",
     "status": "completed"
    },
    "tags": []
   },
   "source": [
    "The following cell holds the definition of our parameters, these values can be overriden by rendering the with e.g. the following command:\n",
    "\n",
    "papermill -p alpha 0.2 -p ratio 0.3 universe_analysis.ipynb output/test_run.ipynb"
   ]
  },
  {
   "cell_type": "code",
   "execution_count": 2,
   "id": "a80968a0-40bb-4fa9-85ef-2d5eefb01975",
   "metadata": {
    "execution": {
     "iopub.execute_input": "2025-07-30T12:54:55.455155Z",
     "iopub.status.busy": "2025-07-30T12:54:55.454771Z",
     "iopub.status.idle": "2025-07-30T12:54:55.459918Z",
     "shell.execute_reply": "2025-07-30T12:54:55.458946Z"
    },
    "papermill": {
     "duration": 0.027652,
     "end_time": "2025-07-30T12:54:55.461537",
     "exception": false,
     "start_time": "2025-07-30T12:54:55.433885",
     "status": "completed"
    },
    "tags": []
   },
   "outputs": [
    {
     "name": "stdout",
     "output_type": "stream",
     "text": [
      "Current working directory: /dss/dsshome1/0C/ra93lal2/cma/CMA_Fairness_v2\n"
     ]
    }
   ],
   "source": [
    "import os\n",
    "print(\"Current working directory:\", os.getcwd())"
   ]
  },
  {
   "cell_type": "code",
   "execution_count": 3,
   "id": "2dce4c03",
   "metadata": {
    "execution": {
     "iopub.execute_input": "2025-07-30T12:54:55.502062Z",
     "iopub.status.busy": "2025-07-30T12:54:55.501452Z",
     "iopub.status.idle": "2025-07-30T12:54:55.507644Z",
     "shell.execute_reply": "2025-07-30T12:54:55.506587Z"
    },
    "papermill": {
     "duration": 0.027119,
     "end_time": "2025-07-30T12:54:55.509492",
     "exception": false,
     "start_time": "2025-07-30T12:54:55.482373",
     "status": "completed"
    },
    "tags": [
     "parameters"
    ]
   },
   "outputs": [],
   "source": [
    "run_no = 0\n",
    "universe_id = \"test\"\n",
    "universe = {\n",
    "    \"training_size\": \"25k\", # \"25k\", \"5k\", \"1k\"\n",
    "    \"training_year\": \"2014\", # \"2014\", \"2012_14\", \"2010_14\"\n",
    "    \"scale\": \"scale\", # \"scale\", \"do-not-scale\",\n",
    "    #\"stratify_split\": \"target\", # \"none\", \"target\", \"protected-attribute\", \"both\",\n",
    "    \"model\": \"elasticnet\", # \"logreg\", \"penalized_logreg\", \"rf\", \"gbm\", \"elasticnet\"\n",
    "    \"cutoff\": [\"quantile_0.15\", \"quantile_0.30\"],\n",
    "    \"exclude_features\": \"age\", # \"none\", \"nationality\", \"sex\", \"nationality-sex\", \"age\"\n",
    "    \"exclude_subgroups\": \"keep-all\", # \"keep-all\", \"drop-non-german\"\n",
    "    \"eval_fairness_grouping\": [\"majority-minority\", \"nationality-all\"]\n",
    "}\n",
    "\n",
    "output_dir=\"./output\"\n",
    "seed=0"
   ]
  },
  {
   "cell_type": "code",
   "execution_count": 4,
   "id": "db24e74a",
   "metadata": {
    "execution": {
     "iopub.execute_input": "2025-07-30T12:54:55.557159Z",
     "iopub.status.busy": "2025-07-30T12:54:55.556020Z",
     "iopub.status.idle": "2025-07-30T12:54:55.562162Z",
     "shell.execute_reply": "2025-07-30T12:54:55.560915Z"
    },
    "papermill": {
     "duration": 0.031597,
     "end_time": "2025-07-30T12:54:55.564151",
     "exception": false,
     "start_time": "2025-07-30T12:54:55.532554",
     "status": "completed"
    },
    "tags": [
     "injected-parameters"
    ]
   },
   "outputs": [],
   "source": [
    "# Parameters\n",
    "universe_id = \"56cc1ca7335816585426102290492c1a\"\n",
    "run_no = \"12\"\n",
    "universe = \"{\\\"cutoff\\\": [\\\"quantile_0.1\\\", \\\"quantile_0.25\\\"], \\\"eval_fairness_grouping\\\": [\\\"majority-minority\\\", \\\"nationality-all\\\"], \\\"exclude_features\\\": \\\"nationality\\\", \\\"exclude_subgroups\\\": \\\"drop-non-german\\\", \\\"model\\\": \\\"rf\\\", \\\"scale\\\": \\\"do-not-scale\\\", \\\"training_size\\\": \\\"25k\\\", \\\"training_year\\\": \\\"2014\\\"}\"\n",
    "output_dir = \"output\"\n",
    "seed = \"2023\"\n"
   ]
  },
  {
   "cell_type": "code",
   "execution_count": 5,
   "id": "1650acaf",
   "metadata": {
    "execution": {
     "iopub.execute_input": "2025-07-30T12:54:55.602814Z",
     "iopub.status.busy": "2025-07-30T12:54:55.602490Z",
     "iopub.status.idle": "2025-07-30T12:54:55.607284Z",
     "shell.execute_reply": "2025-07-30T12:54:55.606282Z"
    },
    "papermill": {
     "duration": 0.025646,
     "end_time": "2025-07-30T12:54:55.608900",
     "exception": false,
     "start_time": "2025-07-30T12:54:55.583254",
     "status": "completed"
    },
    "tags": []
   },
   "outputs": [],
   "source": [
    "import json\n",
    "# Parse universe into dict if it is passed as a string\n",
    "if isinstance(universe, str):\n",
    "    universe = json.loads(universe)"
   ]
  },
  {
   "cell_type": "code",
   "execution_count": 6,
   "id": "16620c48",
   "metadata": {
    "execution": {
     "iopub.execute_input": "2025-07-30T12:54:55.648632Z",
     "iopub.status.busy": "2025-07-30T12:54:55.648117Z",
     "iopub.status.idle": "2025-07-30T12:54:55.682586Z",
     "shell.execute_reply": "2025-07-30T12:54:55.681881Z"
    },
    "papermill": {
     "duration": 0.05639,
     "end_time": "2025-07-30T12:54:55.684246",
     "exception": false,
     "start_time": "2025-07-30T12:54:55.627856",
     "status": "completed"
    },
    "tags": []
   },
   "outputs": [],
   "source": [
    "# Auto-reload the custom package\n",
    "%load_ext autoreload\n",
    "%autoreload 1\n",
    "%aimport fairness_multiverse"
   ]
  },
  {
   "cell_type": "code",
   "execution_count": 7,
   "id": "01c5c9f3",
   "metadata": {
    "execution": {
     "iopub.execute_input": "2025-07-30T12:54:55.733890Z",
     "iopub.status.busy": "2025-07-30T12:54:55.732968Z",
     "iopub.status.idle": "2025-07-30T12:54:58.243352Z",
     "shell.execute_reply": "2025-07-30T12:54:58.242281Z"
    },
    "papermill": {
     "duration": 2.541024,
     "end_time": "2025-07-30T12:54:58.245252",
     "exception": false,
     "start_time": "2025-07-30T12:54:55.704228",
     "status": "completed"
    },
    "tags": []
   },
   "outputs": [],
   "source": [
    "from fairness_multiverse.universe import UniverseAnalysis\n",
    "\n",
    "universe_analysis = UniverseAnalysis(\n",
    "    run_no = run_no,\n",
    "    universe_id = universe_id,\n",
    "    universe = universe,\n",
    "    output_dir=output_dir,\n",
    ")"
   ]
  },
  {
   "cell_type": "code",
   "execution_count": 8,
   "id": "106241f5",
   "metadata": {
    "execution": {
     "iopub.execute_input": "2025-07-30T12:54:58.316832Z",
     "iopub.status.busy": "2025-07-30T12:54:58.315728Z",
     "iopub.status.idle": "2025-07-30T12:54:58.322943Z",
     "shell.execute_reply": "2025-07-30T12:54:58.321932Z"
    },
    "papermill": {
     "duration": 0.034048,
     "end_time": "2025-07-30T12:54:58.325016",
     "exception": false,
     "start_time": "2025-07-30T12:54:58.290968",
     "status": "completed"
    },
    "tags": []
   },
   "outputs": [
    {
     "name": "stdout",
     "output_type": "stream",
     "text": [
      "Using Seed: 2023\n"
     ]
    }
   ],
   "source": [
    "import numpy as np\n",
    "parsed_seed = int(seed)\n",
    "np.random.seed(parsed_seed)\n",
    "print(f\"Using Seed: {parsed_seed}\")"
   ]
  },
  {
   "cell_type": "markdown",
   "id": "e0ebdc57",
   "metadata": {
    "papermill": {
     "duration": 0.020604,
     "end_time": "2025-07-30T12:54:58.367169",
     "exception": false,
     "start_time": "2025-07-30T12:54:58.346565",
     "status": "completed"
    },
    "tags": []
   },
   "source": [
    "# Loading Data"
   ]
  },
  {
   "cell_type": "markdown",
   "id": "681925a3",
   "metadata": {
    "papermill": {
     "duration": 0.036173,
     "end_time": "2025-07-30T12:54:58.436641",
     "exception": false,
     "start_time": "2025-07-30T12:54:58.400468",
     "status": "completed"
    },
    "tags": []
   },
   "source": [
    "Load siab_train, siab_test, siab_calib and/or \n",
    "load siab_train_features, siab_train_labels"
   ]
  },
  {
   "cell_type": "code",
   "execution_count": 9,
   "id": "f0496b8a",
   "metadata": {
    "execution": {
     "iopub.execute_input": "2025-07-30T12:54:58.491147Z",
     "iopub.status.busy": "2025-07-30T12:54:58.490610Z",
     "iopub.status.idle": "2025-07-30T12:55:11.836986Z",
     "shell.execute_reply": "2025-07-30T12:55:11.835756Z"
    },
    "papermill": {
     "duration": 13.369584,
     "end_time": "2025-07-30T12:55:11.838504",
     "exception": false,
     "start_time": "2025-07-30T12:54:58.468920",
     "status": "completed"
    },
    "tags": []
   },
   "outputs": [
    {
     "name": "stdout",
     "output_type": "stream",
     "text": [
      "Loading SIAB data from cache: data/siab_cached.csv.gz\n"
     ]
    },
    {
     "name": "stdout",
     "output_type": "stream",
     "text": [
      "(643690, 164)\n"
     ]
    }
   ],
   "source": [
    "from pathlib import Path\n",
    "import pandas as pd\n",
    "\n",
    "# File paths\n",
    "raw_file = Path(\"data/raw/siab.csv\")\n",
    "cache_file = Path(\"data/siab_cached.csv.gz\")\n",
    "\n",
    "# Ensure cache directory exists\n",
    "cache_file.parent.mkdir(parents=True, exist_ok=True)\n",
    "\n",
    "# Load with simple caching\n",
    "if cache_file.exists():\n",
    "    print(f\"Loading SIAB data from cache: {cache_file}\")\n",
    "    siab = pd.read_csv(cache_file, compression='gzip')\n",
    "else:\n",
    "    print(f\"Cache not found. Reading raw SIAB data: {raw_file}\")\n",
    "    siab = pd.read_csv(raw_file)\n",
    "    siab.to_csv(cache_file, index=False, compression='gzip')\n",
    "    print(f\"Cached SIAB data to: {cache_file}\")\n",
    "\n",
    "# Now use `siab` DataFrame as needed\n",
    "print(siab.shape)"
   ]
  },
  {
   "cell_type": "code",
   "execution_count": 10,
   "id": "db0ca512-5f53-4dba-abdb-a2888bca41ba",
   "metadata": {
    "execution": {
     "iopub.execute_input": "2025-07-30T12:55:11.886354Z",
     "iopub.status.busy": "2025-07-30T12:55:11.885362Z",
     "iopub.status.idle": "2025-07-30T12:55:11.891210Z",
     "shell.execute_reply": "2025-07-30T12:55:11.890227Z"
    },
    "papermill": {
     "duration": 0.030562,
     "end_time": "2025-07-30T12:55:11.892999",
     "exception": false,
     "start_time": "2025-07-30T12:55:11.862437",
     "status": "completed"
    },
    "tags": []
   },
   "outputs": [],
   "source": [
    "#siab"
   ]
  },
  {
   "cell_type": "code",
   "execution_count": 11,
   "id": "a0edb063",
   "metadata": {
    "execution": {
     "iopub.execute_input": "2025-07-30T12:55:11.922610Z",
     "iopub.status.busy": "2025-07-30T12:55:11.922261Z",
     "iopub.status.idle": "2025-07-30T12:55:11.926352Z",
     "shell.execute_reply": "2025-07-30T12:55:11.925666Z"
    },
    "papermill": {
     "duration": 0.017376,
     "end_time": "2025-07-30T12:55:11.927807",
     "exception": false,
     "start_time": "2025-07-30T12:55:11.910431",
     "status": "completed"
    },
    "tags": []
   },
   "outputs": [],
   "source": [
    "#import pandas as pd\n",
    "#\n",
    "#X_train = pd.read_csv(\"./data/X_train.csv\")\n",
    "#y_train = pd.read_csv(\"./data/y_train.csv\")"
   ]
  },
  {
   "cell_type": "code",
   "execution_count": 12,
   "id": "63d08085",
   "metadata": {
    "execution": {
     "iopub.execute_input": "2025-07-30T12:55:11.951303Z",
     "iopub.status.busy": "2025-07-30T12:55:11.950640Z",
     "iopub.status.idle": "2025-07-30T12:55:11.955371Z",
     "shell.execute_reply": "2025-07-30T12:55:11.954459Z"
    },
    "papermill": {
     "duration": 0.017872,
     "end_time": "2025-07-30T12:55:11.956963",
     "exception": false,
     "start_time": "2025-07-30T12:55:11.939091",
     "status": "completed"
    },
    "tags": []
   },
   "outputs": [],
   "source": [
    "#X_test = pd.read_csv(\"./data/X_test.csv\")\n",
    "#y_true = pd.read_csv(\"./data/y_test.csv\")"
   ]
  },
  {
   "cell_type": "code",
   "execution_count": 13,
   "id": "98a8d0fa-1d3d-4ed8-bb2c-281470e24add",
   "metadata": {
    "execution": {
     "iopub.execute_input": "2025-07-30T12:55:12.001523Z",
     "iopub.status.busy": "2025-07-30T12:55:12.000755Z",
     "iopub.status.idle": "2025-07-30T12:55:12.005708Z",
     "shell.execute_reply": "2025-07-30T12:55:12.005020Z"
    },
    "papermill": {
     "duration": 0.03008,
     "end_time": "2025-07-30T12:55:12.007414",
     "exception": false,
     "start_time": "2025-07-30T12:55:11.977334",
     "status": "completed"
    },
    "tags": []
   },
   "outputs": [],
   "source": [
    "# Calibration data for conformal\n",
    "#X_calib = pd.read_csv(\"./data/X_calib.csv\")\n",
    "#y_calib = pd.read_csv(\"./data/y_calib.csv\")"
   ]
  },
  {
   "cell_type": "markdown",
   "id": "997051c5-15bd-4b69-9786-c3001a3ce484",
   "metadata": {
    "papermill": {
     "duration": 0.022903,
     "end_time": "2025-07-30T12:55:12.053758",
     "exception": false,
     "start_time": "2025-07-30T12:55:12.030855",
     "status": "completed"
    },
    "tags": []
   },
   "source": [
    "# Splitting Data and Setting Training Data Size"
   ]
  },
  {
   "cell_type": "code",
   "execution_count": 14,
   "id": "e993b61f-042d-41a6-8c81-f55681f86335",
   "metadata": {
    "execution": {
     "iopub.execute_input": "2025-07-30T12:55:12.102300Z",
     "iopub.status.busy": "2025-07-30T12:55:12.101889Z",
     "iopub.status.idle": "2025-07-30T12:55:12.116026Z",
     "shell.execute_reply": "2025-07-30T12:55:12.115010Z"
    },
    "papermill": {
     "duration": 0.0415,
     "end_time": "2025-07-30T12:55:12.117756",
     "exception": false,
     "start_time": "2025-07-30T12:55:12.076256",
     "status": "completed"
    },
    "tags": []
   },
   "outputs": [],
   "source": [
    "def sample_by_year_size(df,\n",
    "                        training_year: str,\n",
    "                        training_size: str,\n",
    "                        random_state: int = 42):\n",
    "    # --- parse training_year into a list of int years ---\n",
    "    if \"_\" in training_year:\n",
    "        start_str, end_str = training_year.split(\"_\", 1)\n",
    "        start = int(start_str)\n",
    "        end   = int(end_str) if len(end_str) == 4 else (int(end_str) + (start // 100)*100)\n",
    "        years = list(range(start, end + 1))\n",
    "    else:\n",
    "        years = [int(training_year)]\n",
    "\n",
    "    df = df[df[\"year\"].isin(years)].reset_index(drop=True)\n",
    "\n",
    "    # --- map training_size to total number of samples ---\n",
    "    total_map = {\"25k\": 25_000, \"5k\": 5_000, \"1k\": 1_000}\n",
    "    if training_size not in total_map:\n",
    "        return df  # e.g. \"all\"\n",
    "\n",
    "    total_samples = total_map[training_size]\n",
    "    n_years       = len(years)\n",
    "    base          = total_samples // n_years\n",
    "    remainder     = total_samples % n_years\n",
    "\n",
    "    # --- build a dict: year -> how many to sample ---\n",
    "    # give +1 to the first `remainder` years in ascending order\n",
    "    quotas = {\n",
    "        year: base + (1 if idx < remainder else 0)\n",
    "        for idx, year in enumerate(sorted(years))\n",
    "    }\n",
    "\n",
    "    # --- sample per‐year according to the quota dict ---\n",
    "    sampled = (\n",
    "        df\n",
    "        .groupby(\"year\", group_keys=False)\n",
    "        .apply(lambda grp: grp.sample(\n",
    "            n=min(len(grp), quotas[grp.name]),\n",
    "            random_state=random_state))\n",
    "        .reset_index(drop=True)\n",
    "    )\n",
    "\n",
    "    return sampled"
   ]
  },
  {
   "cell_type": "code",
   "execution_count": 15,
   "id": "c0ccd338-0e02-41f3-a09d-f56f9266e3fb",
   "metadata": {
    "execution": {
     "iopub.execute_input": "2025-07-30T12:55:12.161541Z",
     "iopub.status.busy": "2025-07-30T12:55:12.160839Z",
     "iopub.status.idle": "2025-07-30T12:55:12.172793Z",
     "shell.execute_reply": "2025-07-30T12:55:12.171823Z"
    },
    "papermill": {
     "duration": 0.036467,
     "end_time": "2025-07-30T12:55:12.174410",
     "exception": false,
     "start_time": "2025-07-30T12:55:12.137943",
     "status": "completed"
    },
    "tags": []
   },
   "outputs": [
    {
     "data": {
      "text/plain": [
       "'25k'"
      ]
     },
     "execution_count": 15,
     "metadata": {},
     "output_type": "execute_result"
    }
   ],
   "source": [
    "universe[\"training_size\"]"
   ]
  },
  {
   "cell_type": "code",
   "execution_count": 16,
   "id": "ca707fd7-8047-4acd-bfa5-66248fbbf8e6",
   "metadata": {
    "execution": {
     "iopub.execute_input": "2025-07-30T12:55:12.216223Z",
     "iopub.status.busy": "2025-07-30T12:55:12.215708Z",
     "iopub.status.idle": "2025-07-30T12:55:12.223169Z",
     "shell.execute_reply": "2025-07-30T12:55:12.222267Z"
    },
    "papermill": {
     "duration": 0.031076,
     "end_time": "2025-07-30T12:55:12.224753",
     "exception": false,
     "start_time": "2025-07-30T12:55:12.193677",
     "status": "completed"
    },
    "tags": []
   },
   "outputs": [
    {
     "data": {
      "text/plain": [
       "'2014'"
      ]
     },
     "execution_count": 16,
     "metadata": {},
     "output_type": "execute_result"
    }
   ],
   "source": [
    "universe[\"training_year\"]"
   ]
  },
  {
   "cell_type": "code",
   "execution_count": 17,
   "id": "aea9c6ef-6f46-42c8-85eb-5a62025c1508",
   "metadata": {
    "execution": {
     "iopub.execute_input": "2025-07-30T12:55:12.272950Z",
     "iopub.status.busy": "2025-07-30T12:55:12.272505Z",
     "iopub.status.idle": "2025-07-30T12:55:12.591328Z",
     "shell.execute_reply": "2025-07-30T12:55:12.590300Z"
    },
    "papermill": {
     "duration": 0.344126,
     "end_time": "2025-07-30T12:55:12.593470",
     "exception": false,
     "start_time": "2025-07-30T12:55:12.249344",
     "status": "completed"
    },
    "tags": []
   },
   "outputs": [],
   "source": [
    "siab_train = sample_by_year_size(siab,\n",
    "                               training_year=universe[\"training_year\"],\n",
    "                               training_size=universe[\"training_size\"])"
   ]
  },
  {
   "cell_type": "code",
   "execution_count": 18,
   "id": "8d3afb32-789d-442c-8d5d-9f5aa8dd2eed",
   "metadata": {
    "execution": {
     "iopub.execute_input": "2025-07-30T12:55:12.746373Z",
     "iopub.status.busy": "2025-07-30T12:55:12.745950Z",
     "iopub.status.idle": "2025-07-30T12:55:12.755809Z",
     "shell.execute_reply": "2025-07-30T12:55:12.754823Z"
    },
    "papermill": {
     "duration": 0.107268,
     "end_time": "2025-07-30T12:55:12.759372",
     "exception": false,
     "start_time": "2025-07-30T12:55:12.652104",
     "status": "completed"
    },
    "tags": []
   },
   "outputs": [
    {
     "data": {
      "text/plain": [
       "(25000, 164)"
      ]
     },
     "execution_count": 18,
     "metadata": {},
     "output_type": "execute_result"
    }
   ],
   "source": [
    "siab_train.shape"
   ]
  },
  {
   "cell_type": "code",
   "execution_count": 19,
   "id": "d582db68-1a4c-47fb-84fc-08518dc1975a",
   "metadata": {
    "execution": {
     "iopub.execute_input": "2025-07-30T12:55:12.862990Z",
     "iopub.status.busy": "2025-07-30T12:55:12.862580Z",
     "iopub.status.idle": "2025-07-30T12:55:12.875478Z",
     "shell.execute_reply": "2025-07-30T12:55:12.874418Z"
    },
    "papermill": {
     "duration": 0.065214,
     "end_time": "2025-07-30T12:55:12.877305",
     "exception": false,
     "start_time": "2025-07-30T12:55:12.812091",
     "status": "completed"
    },
    "tags": []
   },
   "outputs": [
    {
     "data": {
      "text/plain": [
       "year\n",
       "2014    25000\n",
       "dtype: int64"
      ]
     },
     "metadata": {},
     "output_type": "display_data"
    }
   ],
   "source": [
    "display(siab_train.groupby(\"year\").size())"
   ]
  },
  {
   "cell_type": "code",
   "execution_count": 20,
   "id": "a561edb4-d032-42cb-8256-22eac1111c64",
   "metadata": {
    "execution": {
     "iopub.execute_input": "2025-07-30T12:55:12.932372Z",
     "iopub.status.busy": "2025-07-30T12:55:12.931928Z",
     "iopub.status.idle": "2025-07-30T12:55:13.177749Z",
     "shell.execute_reply": "2025-07-30T12:55:13.176786Z"
    },
    "papermill": {
     "duration": 0.271616,
     "end_time": "2025-07-30T12:55:13.179724",
     "exception": false,
     "start_time": "2025-07-30T12:55:12.908108",
     "status": "completed"
    },
    "tags": []
   },
   "outputs": [],
   "source": [
    "#siab_train = siab_s[siab_s.year < 2015]\n",
    "siab_calib = siab[siab.year == 2015]\n",
    "siab_test = siab[siab.year == 2016]"
   ]
  },
  {
   "cell_type": "code",
   "execution_count": 21,
   "id": "472de16f-c3db-4916-846b-1f0de9cf1746",
   "metadata": {
    "execution": {
     "iopub.execute_input": "2025-07-30T12:55:13.225946Z",
     "iopub.status.busy": "2025-07-30T12:55:13.225538Z",
     "iopub.status.idle": "2025-07-30T12:55:13.244299Z",
     "shell.execute_reply": "2025-07-30T12:55:13.241332Z"
    },
    "papermill": {
     "duration": 0.044642,
     "end_time": "2025-07-30T12:55:13.246269",
     "exception": false,
     "start_time": "2025-07-30T12:55:13.201627",
     "status": "completed"
    },
    "tags": []
   },
   "outputs": [],
   "source": [
    "X_train = siab_train.iloc[:,4:164]\n",
    "y_train = siab_train.iloc[:, [3]]"
   ]
  },
  {
   "cell_type": "code",
   "execution_count": 22,
   "id": "828c96af-f43a-4ed6-ba47-8ac73a47d56c",
   "metadata": {
    "execution": {
     "iopub.execute_input": "2025-07-30T12:55:13.306428Z",
     "iopub.status.busy": "2025-07-30T12:55:13.306030Z",
     "iopub.status.idle": "2025-07-30T12:55:13.407891Z",
     "shell.execute_reply": "2025-07-30T12:55:13.406791Z"
    },
    "papermill": {
     "duration": 0.140038,
     "end_time": "2025-07-30T12:55:13.410443",
     "exception": false,
     "start_time": "2025-07-30T12:55:13.270405",
     "status": "completed"
    },
    "tags": []
   },
   "outputs": [],
   "source": [
    "X_calib = siab_calib.iloc[:,4:164]\n",
    "y_calib = siab_calib.iloc[:, [3]]"
   ]
  },
  {
   "cell_type": "code",
   "execution_count": 23,
   "id": "c34be9c3-6bd6-476e-acd3-845840e303be",
   "metadata": {
    "execution": {
     "iopub.execute_input": "2025-07-30T12:55:13.502658Z",
     "iopub.status.busy": "2025-07-30T12:55:13.502212Z",
     "iopub.status.idle": "2025-07-30T12:55:13.555816Z",
     "shell.execute_reply": "2025-07-30T12:55:13.554819Z"
    },
    "papermill": {
     "duration": 0.105198,
     "end_time": "2025-07-30T12:55:13.557969",
     "exception": false,
     "start_time": "2025-07-30T12:55:13.452771",
     "status": "completed"
    },
    "tags": []
   },
   "outputs": [],
   "source": [
    "X_test = siab_test.iloc[:,4:164]\n",
    "y_true = siab_test.iloc[:, [3]]"
   ]
  },
  {
   "cell_type": "markdown",
   "id": "9901737e-04df-44f0-9100-f5ad144ed040",
   "metadata": {
    "papermill": {
     "duration": 0.025722,
     "end_time": "2025-07-30T12:55:13.606570",
     "exception": false,
     "start_time": "2025-07-30T12:55:13.580848",
     "status": "completed"
    },
    "tags": []
   },
   "source": [
    "# Splitting Data and Setting Training Data Size OLD VERSION"
   ]
  },
  {
   "cell_type": "code",
   "execution_count": 24,
   "id": "acbc8f7d-8fc8-4e86-8c59-5dcb0f58384b",
   "metadata": {
    "execution": {
     "iopub.execute_input": "2025-07-30T12:55:13.655948Z",
     "iopub.status.busy": "2025-07-30T12:55:13.655508Z",
     "iopub.status.idle": "2025-07-30T12:55:13.661861Z",
     "shell.execute_reply": "2025-07-30T12:55:13.660731Z"
    },
    "papermill": {
     "duration": 0.033441,
     "end_time": "2025-07-30T12:55:13.664893",
     "exception": false,
     "start_time": "2025-07-30T12:55:13.631452",
     "status": "completed"
    },
    "tags": []
   },
   "outputs": [],
   "source": [
    "#def sample_by_year(df, training_size, random_state=42):\n",
    "#    if training_size == \"2014\":\n",
    "#        return df[df[\"year\"] == 2014].reset_index(drop=True)\n",
    "#    \n",
    "#    size_map = {\n",
    "#        \"25k\": 5000,\n",
    "#        \"5k\": 1000,\n",
    "#        \"1k\": 200\n",
    "#    }\n",
    "#\n",
    "#    if training_size not in size_map:\n",
    "#        return df.reset_index(drop=True)  # use all data\n",
    "#\n",
    "#    n_per_year = size_map[training_size]\n",
    "#    grouped = df.groupby(\"year\")\n",
    "#    sampled = grouped.apply(lambda x: x.sample(n=min(n_per_year, len(x)), random_state=random_state))\n",
    "#    return sampled.reset_index(drop=True)"
   ]
  },
  {
   "cell_type": "code",
   "execution_count": 25,
   "id": "6d931f52-beaf-43ff-9e78-9d44a448d54e",
   "metadata": {
    "execution": {
     "iopub.execute_input": "2025-07-30T12:55:13.712947Z",
     "iopub.status.busy": "2025-07-30T12:55:13.712554Z",
     "iopub.status.idle": "2025-07-30T12:55:13.717691Z",
     "shell.execute_reply": "2025-07-30T12:55:13.716864Z"
    },
    "papermill": {
     "duration": 0.03144,
     "end_time": "2025-07-30T12:55:13.720807",
     "exception": false,
     "start_time": "2025-07-30T12:55:13.689367",
     "status": "completed"
    },
    "tags": []
   },
   "outputs": [],
   "source": [
    "#siab_s = sample_by_year(siab, universe[\"training_size\"])"
   ]
  },
  {
   "cell_type": "code",
   "execution_count": 26,
   "id": "5db0a40e-a4e2-4920-be85-b12ae061d70d",
   "metadata": {
    "execution": {
     "iopub.execute_input": "2025-07-30T12:55:13.767793Z",
     "iopub.status.busy": "2025-07-30T12:55:13.767380Z",
     "iopub.status.idle": "2025-07-30T12:55:13.772643Z",
     "shell.execute_reply": "2025-07-30T12:55:13.771740Z"
    },
    "papermill": {
     "duration": 0.031649,
     "end_time": "2025-07-30T12:55:13.775698",
     "exception": false,
     "start_time": "2025-07-30T12:55:13.744049",
     "status": "completed"
    },
    "tags": []
   },
   "outputs": [],
   "source": [
    "#display(siab_s.groupby(\"year\").size())"
   ]
  },
  {
   "cell_type": "code",
   "execution_count": 27,
   "id": "e6c733c5",
   "metadata": {
    "execution": {
     "iopub.execute_input": "2025-07-30T12:55:13.836526Z",
     "iopub.status.busy": "2025-07-30T12:55:13.835589Z",
     "iopub.status.idle": "2025-07-30T12:55:13.936430Z",
     "shell.execute_reply": "2025-07-30T12:55:13.935379Z"
    },
    "papermill": {
     "duration": 0.139887,
     "end_time": "2025-07-30T12:55:13.938430",
     "exception": false,
     "start_time": "2025-07-30T12:55:13.798543",
     "status": "completed"
    },
    "tags": []
   },
   "outputs": [],
   "source": [
    "# Auxiliary data needed downstream in the pipeline\n",
    "\n",
    "org_train = X_train.copy()\n",
    "org_test = X_test.copy()\n",
    "org_calib = X_calib.copy()"
   ]
  },
  {
   "cell_type": "code",
   "execution_count": 28,
   "id": "1466abac-c6da-4492-a62f-4240ae3783af",
   "metadata": {
    "execution": {
     "iopub.execute_input": "2025-07-30T12:55:13.985767Z",
     "iopub.status.busy": "2025-07-30T12:55:13.985340Z",
     "iopub.status.idle": "2025-07-30T12:55:13.991693Z",
     "shell.execute_reply": "2025-07-30T12:55:13.990641Z"
    },
    "papermill": {
     "duration": 0.033758,
     "end_time": "2025-07-30T12:55:13.994567",
     "exception": false,
     "start_time": "2025-07-30T12:55:13.960809",
     "status": "completed"
    },
    "tags": []
   },
   "outputs": [],
   "source": [
    "# put in other script?\n",
    "# Group sizes\n",
    "\n",
    "#def calculate_percentages(df, df_name):\n",
    "#    total_entries = len(df)\n",
    "#\n",
    "#    female_pct = (df['frau1'] == 1).mean() * 100\n",
    "#    non_german_pct = ((df['maxdeutsch1'] == 0) & (df['maxdeutsch.Missing.'] == 0)).mean() * 100\n",
    "#    non_german_male_pct = ((df['frau1'] == 0) & (df['maxdeutsch1'] == 0) & (df['maxdeutsch.Missing.'] == 0)).mean() * 100\n",
    "#    non_german_female_pct = ((df['frau1'] == 1) & (df['maxdeutsch1'] == 0) & (df['maxdeutsch.Missing.'] == 0)).mean() * 100\n",
    "#\n",
    "#    print(f\"--- {df_name} ---\")\n",
    "#    print(f\"Female: {female_pct:.2f}%\")\n",
    "#    print(f\"Non-German: {non_german_pct:.2f}%\")\n",
    "#    print(f\"Non-German Male: {non_german_male_pct:.2f}%\")\n",
    "#    print(f\"Non-German Female: {non_german_female_pct:.2f}%\\n\")\n",
    "#\n",
    "## Calculate for each DataFrame\n",
    "#calculate_percentages(siab_calib, \"siab_calib\")\n",
    "#calculate_percentages(siab_test, \"siab_test\")\n",
    "#calculate_percentages(siab_train, \"siab_train\")"
   ]
  },
  {
   "cell_type": "markdown",
   "id": "0a4a1b33",
   "metadata": {
    "papermill": {
     "duration": 0.022976,
     "end_time": "2025-07-30T12:55:14.041361",
     "exception": false,
     "start_time": "2025-07-30T12:55:14.018385",
     "status": "completed"
    },
    "tags": []
   },
   "source": [
    "# Preprocessing Data"
   ]
  },
  {
   "cell_type": "code",
   "execution_count": 29,
   "id": "ca879031",
   "metadata": {
    "execution": {
     "iopub.execute_input": "2025-07-30T12:55:14.118925Z",
     "iopub.status.busy": "2025-07-30T12:55:14.118561Z",
     "iopub.status.idle": "2025-07-30T12:55:14.126118Z",
     "shell.execute_reply": "2025-07-30T12:55:14.124569Z"
    },
    "papermill": {
     "duration": 0.051494,
     "end_time": "2025-07-30T12:55:14.145887",
     "exception": false,
     "start_time": "2025-07-30T12:55:14.094393",
     "status": "completed"
    },
    "tags": []
   },
   "outputs": [],
   "source": [
    "# EXCLUDE PROTECTED FEATURES\n",
    "# ----------------------\n",
    "# \"exclude_features\": \"none\", # \"nationality\", \"sex\", \"nationality-sex\"\n",
    "\n",
    "excluded_features = universe[\"exclude_features\"].split(\"-\") # split, e.g.: \"nationality-sex\" -> [\"nationality\", \"sex\"]\n",
    "excluded_features_dictionary = {\n",
    "    \"nationality\": [\"maxdeutsch1\", \"maxdeutsch.Missing.\"],\n",
    "    \"sex\": [\"frau1\"],\n",
    "    \"age\": [\"age\"],\n",
    "}\n"
   ]
  },
  {
   "cell_type": "code",
   "execution_count": 30,
   "id": "b745ac60",
   "metadata": {
    "execution": {
     "iopub.execute_input": "2025-07-30T12:55:14.274581Z",
     "iopub.status.busy": "2025-07-30T12:55:14.273654Z",
     "iopub.status.idle": "2025-07-30T12:55:14.280146Z",
     "shell.execute_reply": "2025-07-30T12:55:14.279009Z"
    },
    "papermill": {
     "duration": 0.073002,
     "end_time": "2025-07-30T12:55:14.283043",
     "exception": false,
     "start_time": "2025-07-30T12:55:14.210041",
     "status": "completed"
    },
    "tags": []
   },
   "outputs": [],
   "source": [
    "# Code nice names to column names\n",
    "\n",
    "excluded_features_columns = [\n",
    "    excluded_features_dictionary[f] for f in excluded_features if len(f) > 0 and f != \"none\"\n",
    "]"
   ]
  },
  {
   "cell_type": "code",
   "execution_count": 31,
   "id": "f84f73a2",
   "metadata": {
    "execution": {
     "iopub.execute_input": "2025-07-30T12:55:14.386860Z",
     "iopub.status.busy": "2025-07-30T12:55:14.386439Z",
     "iopub.status.idle": "2025-07-30T12:55:14.394798Z",
     "shell.execute_reply": "2025-07-30T12:55:14.393805Z"
    },
    "papermill": {
     "duration": 0.088686,
     "end_time": "2025-07-30T12:55:14.396692",
     "exception": false,
     "start_time": "2025-07-30T12:55:14.308006",
     "status": "completed"
    },
    "tags": []
   },
   "outputs": [],
   "source": [
    "from utils import flatten_once\n",
    "\n",
    "excluded_features_columns = flatten_once(excluded_features_columns)"
   ]
  },
  {
   "cell_type": "code",
   "execution_count": 32,
   "id": "884dea22",
   "metadata": {
    "execution": {
     "iopub.execute_input": "2025-07-30T12:55:14.488840Z",
     "iopub.status.busy": "2025-07-30T12:55:14.488431Z",
     "iopub.status.idle": "2025-07-30T12:55:14.522190Z",
     "shell.execute_reply": "2025-07-30T12:55:14.521222Z"
    },
    "papermill": {
     "duration": 0.075311,
     "end_time": "2025-07-30T12:55:14.523913",
     "exception": false,
     "start_time": "2025-07-30T12:55:14.448602",
     "status": "completed"
    },
    "tags": []
   },
   "outputs": [
    {
     "name": "stdout",
     "output_type": "stream",
     "text": [
      "Dropping features: ['maxdeutsch1', 'maxdeutsch.Missing.']\n"
     ]
    }
   ],
   "source": [
    "if len(excluded_features_columns) > 0:\n",
    "    print(f\"Dropping features: {excluded_features_columns}\")\n",
    "    X_train.drop(excluded_features_columns, axis=1, inplace=True)"
   ]
  },
  {
   "cell_type": "code",
   "execution_count": 33,
   "id": "95ab8b16",
   "metadata": {
    "execution": {
     "iopub.execute_input": "2025-07-30T12:55:14.618554Z",
     "iopub.status.busy": "2025-07-30T12:55:14.617995Z",
     "iopub.status.idle": "2025-07-30T12:55:14.719739Z",
     "shell.execute_reply": "2025-07-30T12:55:14.718649Z"
    },
    "papermill": {
     "duration": 0.154749,
     "end_time": "2025-07-30T12:55:14.721948",
     "exception": false,
     "start_time": "2025-07-30T12:55:14.567199",
     "status": "completed"
    },
    "tags": []
   },
   "outputs": [
    {
     "name": "stdout",
     "output_type": "stream",
     "text": [
      "Dropping features: ['maxdeutsch1', 'maxdeutsch.Missing.']\n"
     ]
    }
   ],
   "source": [
    "if len(excluded_features_columns) > 0:\n",
    "    print(f\"Dropping features: {excluded_features_columns}\")\n",
    "    X_test.drop(excluded_features_columns, axis=1, inplace=True)"
   ]
  },
  {
   "cell_type": "code",
   "execution_count": 34,
   "id": "1853aaf5-fb9f-46cb-a2b5-8ea4ae2237e4",
   "metadata": {
    "execution": {
     "iopub.execute_input": "2025-07-30T12:55:14.826855Z",
     "iopub.status.busy": "2025-07-30T12:55:14.826437Z",
     "iopub.status.idle": "2025-07-30T12:55:14.883192Z",
     "shell.execute_reply": "2025-07-30T12:55:14.882092Z"
    },
    "papermill": {
     "duration": 0.1044,
     "end_time": "2025-07-30T12:55:14.885156",
     "exception": false,
     "start_time": "2025-07-30T12:55:14.780756",
     "status": "completed"
    },
    "tags": []
   },
   "outputs": [
    {
     "name": "stdout",
     "output_type": "stream",
     "text": [
      "Dropping features: ['maxdeutsch1', 'maxdeutsch.Missing.']\n"
     ]
    }
   ],
   "source": [
    "if len(excluded_features_columns) > 0:\n",
    "    print(f\"Dropping features: {excluded_features_columns}\")\n",
    "    X_calib.drop(excluded_features_columns, axis=1, inplace=True)"
   ]
  },
  {
   "cell_type": "code",
   "execution_count": 35,
   "id": "6727d079-03e5-481e-9d38-292a90b7a0a8",
   "metadata": {
    "execution": {
     "iopub.execute_input": "2025-07-30T12:55:14.976154Z",
     "iopub.status.busy": "2025-07-30T12:55:14.975725Z",
     "iopub.status.idle": "2025-07-30T12:55:14.981165Z",
     "shell.execute_reply": "2025-07-30T12:55:14.980084Z"
    },
    "papermill": {
     "duration": 0.061372,
     "end_time": "2025-07-30T12:55:14.986164",
     "exception": false,
     "start_time": "2025-07-30T12:55:14.924792",
     "status": "completed"
    },
    "tags": []
   },
   "outputs": [],
   "source": [
    "# SPLIT & STRATIFY DATA\n",
    "# ----------------------"
   ]
  },
  {
   "cell_type": "code",
   "execution_count": 36,
   "id": "76c4dc6d",
   "metadata": {
    "execution": {
     "iopub.execute_input": "2025-07-30T12:55:15.087683Z",
     "iopub.status.busy": "2025-07-30T12:55:15.087263Z",
     "iopub.status.idle": "2025-07-30T12:55:15.093096Z",
     "shell.execute_reply": "2025-07-30T12:55:15.092068Z"
    },
    "papermill": {
     "duration": 0.04936,
     "end_time": "2025-07-30T12:55:15.101814",
     "exception": false,
     "start_time": "2025-07-30T12:55:15.052454",
     "status": "completed"
    },
    "tags": []
   },
   "outputs": [],
   "source": [
    "# EXCLUDE CERTAIN SUBGROUPS\n",
    "# ----------------------\n",
    "\n",
    "mode = universe.get(\"exclude_subgroups\", \"keep-all\") \n",
    "# Fetches the exclude_subgroups setting from the universe dict.\n",
    "# Defaults to \"keep-all\" if the key is missing."
   ]
  },
  {
   "cell_type": "code",
   "execution_count": 37,
   "id": "21994072",
   "metadata": {
    "execution": {
     "iopub.execute_input": "2025-07-30T12:55:15.191538Z",
     "iopub.status.busy": "2025-07-30T12:55:15.191097Z",
     "iopub.status.idle": "2025-07-30T12:55:15.198791Z",
     "shell.execute_reply": "2025-07-30T12:55:15.197778Z"
    },
    "papermill": {
     "duration": 0.045909,
     "end_time": "2025-07-30T12:55:15.202202",
     "exception": false,
     "start_time": "2025-07-30T12:55:15.156293",
     "status": "completed"
    },
    "tags": []
   },
   "outputs": [],
   "source": [
    "if mode == \"keep-all\":\n",
    "    keep_mask = pd.Series(True, index=org_train.index)\n",
    "\n",
    "# org_train contains the original feature columns from features_org (in Simson)\n",
    "# features_org contains unprocessed features, for me X_train at beginning ???\n",
    "# For keep-all, creates a boolean Series (keep_mask) of all True, so no rows are removed.\n",
    "\n",
    "elif mode == \"drop-non-german\":\n",
    "    keep_mask = org_train[\"maxdeutsch1\"] == 1 # ??? what about missing values?\n",
    "\n",
    "else:\n",
    "    raise ValueError(f\"Unsupported mode for exclude_subgroups: {mode}\")\n"
   ]
  },
  {
   "cell_type": "code",
   "execution_count": 38,
   "id": "71651440",
   "metadata": {
    "execution": {
     "iopub.execute_input": "2025-07-30T12:55:15.311960Z",
     "iopub.status.busy": "2025-07-30T12:55:15.311543Z",
     "iopub.status.idle": "2025-07-30T12:55:15.321203Z",
     "shell.execute_reply": "2025-07-30T12:55:15.320060Z"
    },
    "papermill": {
     "duration": 0.0754,
     "end_time": "2025-07-30T12:55:15.323561",
     "exception": false,
     "start_time": "2025-07-30T12:55:15.248161",
     "status": "completed"
    },
    "tags": []
   },
   "outputs": [
    {
     "name": "stdout",
     "output_type": "stream",
     "text": [
      "Dropping 3688 rows (14.75%) where mode='drop-non-german'\n"
     ]
    }
   ],
   "source": [
    "n_drop = (~keep_mask).sum() # Calculates how many rows are set to be dropped\n",
    "if n_drop > 0:\n",
    "    pct = n_drop / len(keep_mask) * 100\n",
    "    print(f\"Dropping {n_drop} rows ({pct:.2f}%) where mode='{mode}'\")"
   ]
  },
  {
   "cell_type": "code",
   "execution_count": 39,
   "id": "5fb8eee5",
   "metadata": {
    "execution": {
     "iopub.execute_input": "2025-07-30T12:55:15.399379Z",
     "iopub.status.busy": "2025-07-30T12:55:15.398952Z",
     "iopub.status.idle": "2025-07-30T12:55:15.450355Z",
     "shell.execute_reply": "2025-07-30T12:55:15.449285Z"
    },
    "papermill": {
     "duration": 0.082504,
     "end_time": "2025-07-30T12:55:15.452160",
     "exception": false,
     "start_time": "2025-07-30T12:55:15.369656",
     "status": "completed"
    },
    "tags": []
   },
   "outputs": [],
   "source": [
    "X_train = X_train[keep_mask]"
   ]
  },
  {
   "cell_type": "code",
   "execution_count": 40,
   "id": "b202bb3a",
   "metadata": {
    "execution": {
     "iopub.execute_input": "2025-07-30T12:55:15.518347Z",
     "iopub.status.busy": "2025-07-30T12:55:15.517910Z",
     "iopub.status.idle": "2025-07-30T12:55:15.524572Z",
     "shell.execute_reply": "2025-07-30T12:55:15.523645Z"
    },
    "papermill": {
     "duration": 0.035638,
     "end_time": "2025-07-30T12:55:15.527696",
     "exception": false,
     "start_time": "2025-07-30T12:55:15.492058",
     "status": "completed"
    },
    "tags": []
   },
   "outputs": [],
   "source": [
    "y_train = y_train[keep_mask]"
   ]
  },
  {
   "cell_type": "markdown",
   "id": "493e2ac3",
   "metadata": {
    "papermill": {
     "duration": 0.02426,
     "end_time": "2025-07-30T12:55:15.577241",
     "exception": false,
     "start_time": "2025-07-30T12:55:15.552981",
     "status": "completed"
    },
    "tags": []
   },
   "source": [
    "# Model Training"
   ]
  },
  {
   "cell_type": "code",
   "execution_count": 41,
   "id": "679e1268",
   "metadata": {
    "execution": {
     "iopub.execute_input": "2025-07-30T12:55:15.620710Z",
     "iopub.status.busy": "2025-07-30T12:55:15.620278Z",
     "iopub.status.idle": "2025-07-30T12:55:15.709432Z",
     "shell.execute_reply": "2025-07-30T12:55:15.708399Z"
    },
    "papermill": {
     "duration": 0.109758,
     "end_time": "2025-07-30T12:55:15.710972",
     "exception": false,
     "start_time": "2025-07-30T12:55:15.601214",
     "status": "completed"
    },
    "tags": []
   },
   "outputs": [],
   "source": [
    "from sklearn.linear_model import LogisticRegression\n",
    "from sklearn.ensemble import GradientBoostingClassifier, RandomForestClassifier\n",
    "\n",
    "if (universe[\"model\"] == \"logreg\"):\n",
    "    model = LogisticRegression() #penalty=\"none\") #, solver=\"newton-cg\", max_iter=1) # include random_state=19 ?\n",
    "elif (universe[\"model\"] == \"penalized_logreg\"):\n",
    "    model = LogisticRegression(penalty=\"l2\", C=1.0) #, solver=\"newton-cg\", max_iter=1)\n",
    "elif (universe[\"model\"] == \"rf\"):\n",
    "    model = RandomForestClassifier(n_estimators=100, n_jobs=-1)\n",
    "elif (universe[\"model\"] == \"gbm\"):\n",
    "    model = GradientBoostingClassifier()\n",
    "elif (universe[\"model\"] == \"elasticnet\"):\n",
    "    model = LogisticRegression(penalty = 'elasticnet', solver = 'saga', l1_ratio = 0.5, max_iter=5000) # which solver to use?\n",
    "else:\n",
    "    raise \"Unsupported universe.model\""
   ]
  },
  {
   "cell_type": "code",
   "execution_count": 42,
   "id": "0cc8f744",
   "metadata": {
    "execution": {
     "iopub.execute_input": "2025-07-30T12:55:15.763782Z",
     "iopub.status.busy": "2025-07-30T12:55:15.763094Z",
     "iopub.status.idle": "2025-07-30T12:55:15.770134Z",
     "shell.execute_reply": "2025-07-30T12:55:15.769080Z"
    },
    "papermill": {
     "duration": 0.03601,
     "end_time": "2025-07-30T12:55:15.771969",
     "exception": false,
     "start_time": "2025-07-30T12:55:15.735959",
     "status": "completed"
    },
    "tags": []
   },
   "outputs": [],
   "source": [
    "import numpy as np\n",
    "from sklearn.pipeline import Pipeline\n",
    "from sklearn.preprocessing import StandardScaler\n",
    "\n",
    "model = Pipeline([\n",
    "    #(\"continuous_processor\", continuous_processor),\n",
    "    #(\"categorical_preprocessor\", categorical_preprocessor),\n",
    "    (\"scale\", StandardScaler() if universe[\"scale\"] == \"scale\" else None), \n",
    "    (\"model\", model),\n",
    "])"
   ]
  },
  {
   "cell_type": "code",
   "execution_count": 43,
   "id": "9442c04d",
   "metadata": {
    "execution": {
     "iopub.execute_input": "2025-07-30T12:55:15.824522Z",
     "iopub.status.busy": "2025-07-30T12:55:15.823488Z",
     "iopub.status.idle": "2025-07-30T12:55:19.744344Z",
     "shell.execute_reply": "2025-07-30T12:55:19.743351Z"
    },
    "papermill": {
     "duration": 3.947661,
     "end_time": "2025-07-30T12:55:19.745996",
     "exception": false,
     "start_time": "2025-07-30T12:55:15.798335",
     "status": "completed"
    },
    "tags": []
   },
   "outputs": [
    {
     "data": {
      "text/html": [
       "<style>#sk-container-id-1 {color: black;background-color: white;}#sk-container-id-1 pre{padding: 0;}#sk-container-id-1 div.sk-toggleable {background-color: white;}#sk-container-id-1 label.sk-toggleable__label {cursor: pointer;display: block;width: 100%;margin-bottom: 0;padding: 0.3em;box-sizing: border-box;text-align: center;}#sk-container-id-1 label.sk-toggleable__label-arrow:before {content: \"▸\";float: left;margin-right: 0.25em;color: #696969;}#sk-container-id-1 label.sk-toggleable__label-arrow:hover:before {color: black;}#sk-container-id-1 div.sk-estimator:hover label.sk-toggleable__label-arrow:before {color: black;}#sk-container-id-1 div.sk-toggleable__content {max-height: 0;max-width: 0;overflow: hidden;text-align: left;background-color: #f0f8ff;}#sk-container-id-1 div.sk-toggleable__content pre {margin: 0.2em;color: black;border-radius: 0.25em;background-color: #f0f8ff;}#sk-container-id-1 input.sk-toggleable__control:checked~div.sk-toggleable__content {max-height: 200px;max-width: 100%;overflow: auto;}#sk-container-id-1 input.sk-toggleable__control:checked~label.sk-toggleable__label-arrow:before {content: \"▾\";}#sk-container-id-1 div.sk-estimator input.sk-toggleable__control:checked~label.sk-toggleable__label {background-color: #d4ebff;}#sk-container-id-1 div.sk-label input.sk-toggleable__control:checked~label.sk-toggleable__label {background-color: #d4ebff;}#sk-container-id-1 input.sk-hidden--visually {border: 0;clip: rect(1px 1px 1px 1px);clip: rect(1px, 1px, 1px, 1px);height: 1px;margin: -1px;overflow: hidden;padding: 0;position: absolute;width: 1px;}#sk-container-id-1 div.sk-estimator {font-family: monospace;background-color: #f0f8ff;border: 1px dotted black;border-radius: 0.25em;box-sizing: border-box;margin-bottom: 0.5em;}#sk-container-id-1 div.sk-estimator:hover {background-color: #d4ebff;}#sk-container-id-1 div.sk-parallel-item::after {content: \"\";width: 100%;border-bottom: 1px solid gray;flex-grow: 1;}#sk-container-id-1 div.sk-label:hover label.sk-toggleable__label {background-color: #d4ebff;}#sk-container-id-1 div.sk-serial::before {content: \"\";position: absolute;border-left: 1px solid gray;box-sizing: border-box;top: 0;bottom: 0;left: 50%;z-index: 0;}#sk-container-id-1 div.sk-serial {display: flex;flex-direction: column;align-items: center;background-color: white;padding-right: 0.2em;padding-left: 0.2em;position: relative;}#sk-container-id-1 div.sk-item {position: relative;z-index: 1;}#sk-container-id-1 div.sk-parallel {display: flex;align-items: stretch;justify-content: center;background-color: white;position: relative;}#sk-container-id-1 div.sk-item::before, #sk-container-id-1 div.sk-parallel-item::before {content: \"\";position: absolute;border-left: 1px solid gray;box-sizing: border-box;top: 0;bottom: 0;left: 50%;z-index: -1;}#sk-container-id-1 div.sk-parallel-item {display: flex;flex-direction: column;z-index: 1;position: relative;background-color: white;}#sk-container-id-1 div.sk-parallel-item:first-child::after {align-self: flex-end;width: 50%;}#sk-container-id-1 div.sk-parallel-item:last-child::after {align-self: flex-start;width: 50%;}#sk-container-id-1 div.sk-parallel-item:only-child::after {width: 0;}#sk-container-id-1 div.sk-dashed-wrapped {border: 1px dashed gray;margin: 0 0.4em 0.5em 0.4em;box-sizing: border-box;padding-bottom: 0.4em;background-color: white;}#sk-container-id-1 div.sk-label label {font-family: monospace;font-weight: bold;display: inline-block;line-height: 1.2em;}#sk-container-id-1 div.sk-label-container {text-align: center;}#sk-container-id-1 div.sk-container {/* jupyter's `normalize.less` sets `[hidden] { display: none; }` but bootstrap.min.css set `[hidden] { display: none !important; }` so we also need the `!important` here to be able to override the default hidden behavior on the sphinx rendered scikit-learn.org. See: https://github.com/scikit-learn/scikit-learn/issues/21755 */display: inline-block !important;position: relative;}#sk-container-id-1 div.sk-text-repr-fallback {display: none;}</style><div id=\"sk-container-id-1\" class=\"sk-top-container\"><div class=\"sk-text-repr-fallback\"><pre>Pipeline(steps=[(&#x27;scale&#x27;, None), (&#x27;model&#x27;, RandomForestClassifier(n_jobs=-1))])</pre><b>In a Jupyter environment, please rerun this cell to show the HTML representation or trust the notebook. <br />On GitHub, the HTML representation is unable to render, please try loading this page with nbviewer.org.</b></div><div class=\"sk-container\" hidden><div class=\"sk-item sk-dashed-wrapped\"><div class=\"sk-label-container\"><div class=\"sk-label sk-toggleable\"><input class=\"sk-toggleable__control sk-hidden--visually\" id=\"sk-estimator-id-1\" type=\"checkbox\" ><label for=\"sk-estimator-id-1\" class=\"sk-toggleable__label sk-toggleable__label-arrow\">Pipeline</label><div class=\"sk-toggleable__content\"><pre>Pipeline(steps=[(&#x27;scale&#x27;, None), (&#x27;model&#x27;, RandomForestClassifier(n_jobs=-1))])</pre></div></div></div><div class=\"sk-serial\"><div class=\"sk-item\"><div class=\"sk-estimator sk-toggleable\"><input class=\"sk-toggleable__control sk-hidden--visually\" id=\"sk-estimator-id-2\" type=\"checkbox\" ><label for=\"sk-estimator-id-2\" class=\"sk-toggleable__label sk-toggleable__label-arrow\">None</label><div class=\"sk-toggleable__content\"><pre>None</pre></div></div></div><div class=\"sk-item\"><div class=\"sk-estimator sk-toggleable\"><input class=\"sk-toggleable__control sk-hidden--visually\" id=\"sk-estimator-id-3\" type=\"checkbox\" ><label for=\"sk-estimator-id-3\" class=\"sk-toggleable__label sk-toggleable__label-arrow\">RandomForestClassifier</label><div class=\"sk-toggleable__content\"><pre>RandomForestClassifier(n_jobs=-1)</pre></div></div></div></div></div></div></div>"
      ],
      "text/plain": [
       "Pipeline(steps=[('scale', None), ('model', RandomForestClassifier(n_jobs=-1))])"
      ]
     },
     "execution_count": 43,
     "metadata": {},
     "output_type": "execute_result"
    }
   ],
   "source": [
    "model.fit(X_train, y_train.values.ravel())"
   ]
  },
  {
   "cell_type": "code",
   "execution_count": 44,
   "id": "af59f8c0",
   "metadata": {
    "execution": {
     "iopub.execute_input": "2025-07-30T12:55:19.842720Z",
     "iopub.status.busy": "2025-07-30T12:55:19.842224Z",
     "iopub.status.idle": "2025-07-30T12:55:19.848458Z",
     "shell.execute_reply": "2025-07-30T12:55:19.847443Z"
    },
    "papermill": {
     "duration": 0.059701,
     "end_time": "2025-07-30T12:55:19.850534",
     "exception": false,
     "start_time": "2025-07-30T12:55:19.790833",
     "status": "completed"
    },
    "tags": []
   },
   "outputs": [],
   "source": [
    "from fairness_multiverse.universe import predict_w_threshold"
   ]
  },
  {
   "cell_type": "code",
   "execution_count": 45,
   "id": "a7cf2e16",
   "metadata": {
    "execution": {
     "iopub.execute_input": "2025-07-30T12:55:19.906524Z",
     "iopub.status.busy": "2025-07-30T12:55:19.906095Z",
     "iopub.status.idle": "2025-07-30T12:55:21.560208Z",
     "shell.execute_reply": "2025-07-30T12:55:21.559290Z"
    },
    "papermill": {
     "duration": 1.682413,
     "end_time": "2025-07-30T12:55:21.561900",
     "exception": false,
     "start_time": "2025-07-30T12:55:19.879487",
     "status": "completed"
    },
    "tags": []
   },
   "outputs": [
    {
     "data": {
      "text/plain": [
       "0.8626908928770483"
      ]
     },
     "execution_count": 45,
     "metadata": {},
     "output_type": "execute_result"
    }
   ],
   "source": [
    "probs_test = model.predict_proba(X_test)\n",
    "\n",
    "'''\n",
    "Below code returns a boolean array (or binary 0/1 array depending on how it’s used) where each element \n",
    "is True if the probability of class 1 is greater than or equal to the threshold, and False otherwise.\n",
    "'''\n",
    "y_pred_default = predict_w_threshold(probs_test, 0.5)\n",
    "\n",
    "from sklearn.metrics import accuracy_score\n",
    "\n",
    "# Naive prediction\n",
    "accuracy_score(y_true = y_true, y_pred = y_pred_default)"
   ]
  },
  {
   "cell_type": "code",
   "execution_count": 46,
   "id": "081964c3",
   "metadata": {
    "execution": {
     "iopub.execute_input": "2025-07-30T12:55:21.702032Z",
     "iopub.status.busy": "2025-07-30T12:55:21.701630Z",
     "iopub.status.idle": "2025-07-30T12:55:23.241956Z",
     "shell.execute_reply": "2025-07-30T12:55:23.240822Z"
    },
    "papermill": {
     "duration": 1.610519,
     "end_time": "2025-07-30T12:55:23.243656",
     "exception": false,
     "start_time": "2025-07-30T12:55:21.633137",
     "status": "completed"
    },
    "tags": []
   },
   "outputs": [
    {
     "data": {
      "text/plain": [
       "array([0, 0, 0, ..., 0, 0, 0])"
      ]
     },
     "execution_count": 46,
     "metadata": {},
     "output_type": "execute_result"
    }
   ],
   "source": [
    "model.predict(X_test)"
   ]
  },
  {
   "cell_type": "markdown",
   "id": "56c9705b",
   "metadata": {
    "papermill": {
     "duration": 0.025232,
     "end_time": "2025-07-30T12:55:23.308689",
     "exception": false,
     "start_time": "2025-07-30T12:55:23.283457",
     "status": "completed"
    },
    "tags": []
   },
   "source": [
    "# Conformal Prediction"
   ]
  },
  {
   "cell_type": "code",
   "execution_count": 47,
   "id": "160ec6ff",
   "metadata": {
    "execution": {
     "iopub.execute_input": "2025-07-30T12:55:23.359018Z",
     "iopub.status.busy": "2025-07-30T12:55:23.358492Z",
     "iopub.status.idle": "2025-07-30T12:55:23.364262Z",
     "shell.execute_reply": "2025-07-30T12:55:23.363310Z"
    },
    "papermill": {
     "duration": 0.036322,
     "end_time": "2025-07-30T12:55:23.368855",
     "exception": false,
     "start_time": "2025-07-30T12:55:23.332533",
     "status": "completed"
    },
    "tags": []
   },
   "outputs": [],
   "source": [
    "# Miscoverage level for conformal prediction (10% allowed error rate => 90% target coverage)\n",
    "alpha = 0.1"
   ]
  },
  {
   "cell_type": "code",
   "execution_count": 48,
   "id": "eadf4555-3dd3-440e-8e35-f82a4ad9f855",
   "metadata": {
    "execution": {
     "iopub.execute_input": "2025-07-30T12:55:23.422856Z",
     "iopub.status.busy": "2025-07-30T12:55:23.422463Z",
     "iopub.status.idle": "2025-07-30T12:55:24.761004Z",
     "shell.execute_reply": "2025-07-30T12:55:24.759998Z"
    },
    "papermill": {
     "duration": 1.368384,
     "end_time": "2025-07-30T12:55:24.763513",
     "exception": false,
     "start_time": "2025-07-30T12:55:23.395129",
     "status": "completed"
    },
    "tags": []
   },
   "outputs": [],
   "source": [
    "probs_calib = model.predict_proba(X_calib)"
   ]
  },
  {
   "cell_type": "code",
   "execution_count": 49,
   "id": "2ed93547-6d5d-4983-9b36-1ecb300da49a",
   "metadata": {
    "execution": {
     "iopub.execute_input": "2025-07-30T12:55:24.812873Z",
     "iopub.status.busy": "2025-07-30T12:55:24.812391Z",
     "iopub.status.idle": "2025-07-30T12:55:24.818449Z",
     "shell.execute_reply": "2025-07-30T12:55:24.817457Z"
    },
    "papermill": {
     "duration": 0.035511,
     "end_time": "2025-07-30T12:55:24.821399",
     "exception": false,
     "start_time": "2025-07-30T12:55:24.785888",
     "status": "completed"
    },
    "tags": []
   },
   "outputs": [],
   "source": [
    "y_calib = y_calib.values.ravel().astype(int)"
   ]
  },
  {
   "cell_type": "code",
   "execution_count": 50,
   "id": "65d1320d-f588-4b38-9072-62af1ae97f7d",
   "metadata": {
    "execution": {
     "iopub.execute_input": "2025-07-30T12:55:24.875668Z",
     "iopub.status.busy": "2025-07-30T12:55:24.875261Z",
     "iopub.status.idle": "2025-07-30T12:55:24.883884Z",
     "shell.execute_reply": "2025-07-30T12:55:24.882741Z"
    },
    "papermill": {
     "duration": 0.037896,
     "end_time": "2025-07-30T12:55:24.886946",
     "exception": false,
     "start_time": "2025-07-30T12:55:24.849050",
     "status": "completed"
    },
    "tags": []
   },
   "outputs": [],
   "source": [
    "from fairness_multiverse.conformal import compute_nc_scores\n",
    "\n",
    "# Compute nonconformity scores on calibration set (1 - probability of true class)\n",
    "nc_scores = compute_nc_scores(probs_calib, y_calib)"
   ]
  },
  {
   "cell_type": "code",
   "execution_count": 51,
   "id": "df3b8ca3-53b7-43d5-9667-7c85da7aeda2",
   "metadata": {
    "execution": {
     "iopub.execute_input": "2025-07-30T12:55:24.944271Z",
     "iopub.status.busy": "2025-07-30T12:55:24.943844Z",
     "iopub.status.idle": "2025-07-30T12:55:24.951415Z",
     "shell.execute_reply": "2025-07-30T12:55:24.950237Z"
    },
    "papermill": {
     "duration": 0.039585,
     "end_time": "2025-07-30T12:55:24.954565",
     "exception": false,
     "start_time": "2025-07-30T12:55:24.914980",
     "status": "completed"
    },
    "tags": []
   },
   "outputs": [],
   "source": [
    "from fairness_multiverse.conformal import find_threshold\n",
    "\n",
    "# Find conformal threshold q_hat for the given alpha (split conformal method)\n",
    "q_hat = find_threshold(nc_scores, alpha)"
   ]
  },
  {
   "cell_type": "code",
   "execution_count": 52,
   "id": "4d29e6c1-0ef6-4aa4-b8fe-4fe79b0d033a",
   "metadata": {
    "execution": {
     "iopub.execute_input": "2025-07-30T12:55:25.012992Z",
     "iopub.status.busy": "2025-07-30T12:55:25.012532Z",
     "iopub.status.idle": "2025-07-30T12:55:25.020680Z",
     "shell.execute_reply": "2025-07-30T12:55:25.019478Z"
    },
    "papermill": {
     "duration": 0.041218,
     "end_time": "2025-07-30T12:55:25.023755",
     "exception": false,
     "start_time": "2025-07-30T12:55:24.982537",
     "status": "completed"
    },
    "tags": []
   },
   "outputs": [
    {
     "data": {
      "text/plain": [
       "0.6699999999999999"
      ]
     },
     "execution_count": 52,
     "metadata": {},
     "output_type": "execute_result"
    }
   ],
   "source": [
    "q_hat"
   ]
  },
  {
   "cell_type": "code",
   "execution_count": 53,
   "id": "92460794-cdac-4be2-ba28-f28c0515a6fb",
   "metadata": {
    "execution": {
     "iopub.execute_input": "2025-07-30T12:55:25.084828Z",
     "iopub.status.busy": "2025-07-30T12:55:25.084313Z",
     "iopub.status.idle": "2025-07-30T12:55:27.584918Z",
     "shell.execute_reply": "2025-07-30T12:55:27.583775Z"
    },
    "papermill": {
     "duration": 2.536526,
     "end_time": "2025-07-30T12:55:27.586935",
     "exception": false,
     "start_time": "2025-07-30T12:55:25.050409",
     "status": "completed"
    },
    "tags": []
   },
   "outputs": [],
   "source": [
    "from fairness_multiverse.conformal import predict_conformal_sets\n",
    "\n",
    "# Generate prediction sets for each test example\n",
    "pred_sets = predict_conformal_sets(model, X_test, q_hat)"
   ]
  },
  {
   "cell_type": "code",
   "execution_count": 54,
   "id": "d90c9a65-e6db-4f5d-80cd-e68fb7e46829",
   "metadata": {
    "execution": {
     "iopub.execute_input": "2025-07-30T12:55:27.685726Z",
     "iopub.status.busy": "2025-07-30T12:55:27.685278Z",
     "iopub.status.idle": "2025-07-30T12:55:27.691182Z",
     "shell.execute_reply": "2025-07-30T12:55:27.690256Z"
    },
    "papermill": {
     "duration": 0.076185,
     "end_time": "2025-07-30T12:55:27.694074",
     "exception": false,
     "start_time": "2025-07-30T12:55:27.617889",
     "status": "completed"
    },
    "tags": []
   },
   "outputs": [],
   "source": [
    "y_true = y_true.squeeze()"
   ]
  },
  {
   "cell_type": "code",
   "execution_count": 55,
   "id": "3a58a54a-1e68-46b9-927a-df01f18aebc8",
   "metadata": {
    "execution": {
     "iopub.execute_input": "2025-07-30T12:55:27.801403Z",
     "iopub.status.busy": "2025-07-30T12:55:27.800976Z",
     "iopub.status.idle": "2025-07-30T12:55:28.854410Z",
     "shell.execute_reply": "2025-07-30T12:55:28.853461Z"
    },
    "papermill": {
     "duration": 1.115292,
     "end_time": "2025-07-30T12:55:28.856200",
     "exception": false,
     "start_time": "2025-07-30T12:55:27.740908",
     "status": "completed"
    },
    "tags": []
   },
   "outputs": [],
   "source": [
    "from fairness_multiverse.conformal import evaluate_sets\n",
    "\n",
    "# Evaluate coverage and average set size on test data\n",
    "metrics = evaluate_sets(pred_sets, y_true)"
   ]
  },
  {
   "cell_type": "markdown",
   "id": "2b569c12-9aaa-4c88-98c9-bbcd0cf3ebb8",
   "metadata": {
    "papermill": {
     "duration": 0.028522,
     "end_time": "2025-07-30T12:55:28.919896",
     "exception": false,
     "start_time": "2025-07-30T12:55:28.891374",
     "status": "completed"
    },
    "tags": []
   },
   "source": [
    "# CP Metrics"
   ]
  },
  {
   "cell_type": "code",
   "execution_count": 56,
   "id": "5ce0a5cb-201f-45a0-ade5-94c7f0bd6095",
   "metadata": {
    "execution": {
     "iopub.execute_input": "2025-07-30T12:55:28.977812Z",
     "iopub.status.busy": "2025-07-30T12:55:28.977379Z",
     "iopub.status.idle": "2025-07-30T12:55:28.985208Z",
     "shell.execute_reply": "2025-07-30T12:55:28.984091Z"
    },
    "papermill": {
     "duration": 0.040404,
     "end_time": "2025-07-30T12:55:28.987885",
     "exception": false,
     "start_time": "2025-07-30T12:55:28.947481",
     "status": "completed"
    },
    "tags": []
   },
   "outputs": [
    {
     "data": {
      "text/plain": [
       "{'coverage': 0.9162858098316798, 'avg_size': 1.1569724668375878}"
      ]
     },
     "execution_count": 56,
     "metadata": {},
     "output_type": "execute_result"
    }
   ],
   "source": [
    "metrics"
   ]
  },
  {
   "cell_type": "code",
   "execution_count": 57,
   "id": "9b9a838d-31c9-430b-ae14-12baee460d17",
   "metadata": {
    "execution": {
     "iopub.execute_input": "2025-07-30T12:55:29.080873Z",
     "iopub.status.busy": "2025-07-30T12:55:29.080467Z",
     "iopub.status.idle": "2025-07-30T12:55:29.087304Z",
     "shell.execute_reply": "2025-07-30T12:55:29.086345Z"
    },
    "papermill": {
     "duration": 0.046563,
     "end_time": "2025-07-30T12:55:29.096218",
     "exception": false,
     "start_time": "2025-07-30T12:55:29.049655",
     "status": "completed"
    },
    "tags": []
   },
   "outputs": [],
   "source": [
    "example_universe = universe.copy()\n",
    "universe_training_size = example_universe.get(\"training_size\")\n",
    "universe_scale = example_universe.get(\"scale\")\n",
    "universe_model = example_universe.get(\"model\")\n",
    "universe_exclude_features = example_universe.get(\"exclude_features\")\n",
    "universe_exclude_subgroups = example_universe.get(\"exclude_subgroups\")"
   ]
  },
  {
   "cell_type": "code",
   "execution_count": 58,
   "id": "f4b6a8ac-9dc0-4245-8a91-5b3b5999c4f9",
   "metadata": {
    "execution": {
     "iopub.execute_input": "2025-07-30T12:55:29.161552Z",
     "iopub.status.busy": "2025-07-30T12:55:29.161159Z",
     "iopub.status.idle": "2025-07-30T12:55:29.167810Z",
     "shell.execute_reply": "2025-07-30T12:55:29.166848Z"
    },
    "papermill": {
     "duration": 0.033696,
     "end_time": "2025-07-30T12:55:29.169424",
     "exception": false,
     "start_time": "2025-07-30T12:55:29.135728",
     "status": "completed"
    },
    "tags": []
   },
   "outputs": [],
   "source": [
    "cp_metrics_dict = {\n",
    "    \"universe_id\": [universe_id],\n",
    "    \"universe_training_size\": [universe_training_size],\n",
    "    \"universe_scale\": [universe_scale],\n",
    "    \"universe_model\": [universe_model],\n",
    "    \"universe_exclude_features\": [universe_exclude_features],\n",
    "    \"universe_exclude_subgroups\": [universe_exclude_subgroups],\n",
    "    \"q_hat\": [q_hat],\n",
    "    \"coverage\": [metrics[\"coverage\"]],\n",
    "    \"avg_size\": [metrics[\"avg_size\"]],\n",
    "}"
   ]
  },
  {
   "cell_type": "code",
   "execution_count": 59,
   "id": "908acbb1-0371-4915-85ca-3fa520d2efe2",
   "metadata": {
    "execution": {
     "iopub.execute_input": "2025-07-30T12:55:29.264940Z",
     "iopub.status.busy": "2025-07-30T12:55:29.264501Z",
     "iopub.status.idle": "2025-07-30T12:55:29.273526Z",
     "shell.execute_reply": "2025-07-30T12:55:29.272610Z"
    },
    "papermill": {
     "duration": 0.056236,
     "end_time": "2025-07-30T12:55:29.275319",
     "exception": false,
     "start_time": "2025-07-30T12:55:29.219083",
     "status": "completed"
    },
    "tags": []
   },
   "outputs": [
    {
     "data": {
      "text/plain": [
       "{'universe_id': ['56cc1ca7335816585426102290492c1a'],\n",
       " 'universe_training_size': ['25k'],\n",
       " 'universe_scale': ['do-not-scale'],\n",
       " 'universe_model': ['rf'],\n",
       " 'universe_exclude_features': ['nationality'],\n",
       " 'universe_exclude_subgroups': ['drop-non-german'],\n",
       " 'q_hat': [0.6699999999999999],\n",
       " 'coverage': [0.9162858098316798],\n",
       " 'avg_size': [1.1569724668375878]}"
      ]
     },
     "execution_count": 59,
     "metadata": {},
     "output_type": "execute_result"
    }
   ],
   "source": [
    "cp_metrics_dict"
   ]
  },
  {
   "cell_type": "code",
   "execution_count": 60,
   "id": "33007efc-14e9-4ec6-97ac-56a455c82265",
   "metadata": {
    "execution": {
     "iopub.execute_input": "2025-07-30T12:55:29.383712Z",
     "iopub.status.busy": "2025-07-30T12:55:29.383321Z",
     "iopub.status.idle": "2025-07-30T12:55:29.391232Z",
     "shell.execute_reply": "2025-07-30T12:55:29.390324Z"
    },
    "papermill": {
     "duration": 0.083392,
     "end_time": "2025-07-30T12:55:29.392985",
     "exception": false,
     "start_time": "2025-07-30T12:55:29.309593",
     "status": "completed"
    },
    "tags": []
   },
   "outputs": [],
   "source": [
    "cp_metrics_df = pd.DataFrame(cp_metrics_dict)"
   ]
  },
  {
   "cell_type": "code",
   "execution_count": 61,
   "id": "db12611b-57b2-4910-b9d0-355adfd6e7bf",
   "metadata": {
    "execution": {
     "iopub.execute_input": "2025-07-30T12:55:29.551861Z",
     "iopub.status.busy": "2025-07-30T12:55:29.550813Z",
     "iopub.status.idle": "2025-07-30T12:55:29.585712Z",
     "shell.execute_reply": "2025-07-30T12:55:29.584694Z"
    },
    "papermill": {
     "duration": 0.140677,
     "end_time": "2025-07-30T12:55:29.601586",
     "exception": false,
     "start_time": "2025-07-30T12:55:29.460909",
     "status": "completed"
    },
    "tags": []
   },
   "outputs": [
    {
     "data": {
      "text/html": [
       "<div>\n",
       "<style scoped>\n",
       "    .dataframe tbody tr th:only-of-type {\n",
       "        vertical-align: middle;\n",
       "    }\n",
       "\n",
       "    .dataframe tbody tr th {\n",
       "        vertical-align: top;\n",
       "    }\n",
       "\n",
       "    .dataframe thead th {\n",
       "        text-align: right;\n",
       "    }\n",
       "</style>\n",
       "<table border=\"1\" class=\"dataframe\">\n",
       "  <thead>\n",
       "    <tr style=\"text-align: right;\">\n",
       "      <th></th>\n",
       "      <th>universe_id</th>\n",
       "      <th>universe_training_size</th>\n",
       "      <th>universe_scale</th>\n",
       "      <th>universe_model</th>\n",
       "      <th>universe_exclude_features</th>\n",
       "      <th>universe_exclude_subgroups</th>\n",
       "      <th>q_hat</th>\n",
       "      <th>coverage</th>\n",
       "      <th>avg_size</th>\n",
       "    </tr>\n",
       "  </thead>\n",
       "  <tbody>\n",
       "    <tr>\n",
       "      <th>0</th>\n",
       "      <td>56cc1ca7335816585426102290492c1a</td>\n",
       "      <td>25k</td>\n",
       "      <td>do-not-scale</td>\n",
       "      <td>rf</td>\n",
       "      <td>nationality</td>\n",
       "      <td>drop-non-german</td>\n",
       "      <td>0.67</td>\n",
       "      <td>0.916286</td>\n",
       "      <td>1.156972</td>\n",
       "    </tr>\n",
       "  </tbody>\n",
       "</table>\n",
       "</div>"
      ],
      "text/plain": [
       "                        universe_id universe_training_size universe_scale  \\\n",
       "0  56cc1ca7335816585426102290492c1a                    25k   do-not-scale   \n",
       "\n",
       "  universe_model universe_exclude_features universe_exclude_subgroups  q_hat  \\\n",
       "0             rf               nationality            drop-non-german   0.67   \n",
       "\n",
       "   coverage  avg_size  \n",
       "0  0.916286  1.156972  "
      ]
     },
     "execution_count": 61,
     "metadata": {},
     "output_type": "execute_result"
    }
   ],
   "source": [
    "cp_metrics_df"
   ]
  },
  {
   "cell_type": "code",
   "execution_count": 62,
   "id": "b7fbde55-a0a1-47e4-9af6-fe4a17fa8c61",
   "metadata": {
    "execution": {
     "iopub.execute_input": "2025-07-30T12:55:29.656351Z",
     "iopub.status.busy": "2025-07-30T12:55:29.655888Z",
     "iopub.status.idle": "2025-07-30T12:55:29.661257Z",
     "shell.execute_reply": "2025-07-30T12:55:29.660275Z"
    },
    "papermill": {
     "duration": 0.033619,
     "end_time": "2025-07-30T12:55:29.663159",
     "exception": false,
     "start_time": "2025-07-30T12:55:29.629540",
     "status": "completed"
    },
    "tags": []
   },
   "outputs": [],
   "source": [
    "# Conditional Coverage & looking at subgroups"
   ]
  },
  {
   "cell_type": "code",
   "execution_count": 63,
   "id": "027ae886-68dd-4141-96c7-805a5450e1ef",
   "metadata": {
    "execution": {
     "iopub.execute_input": "2025-07-30T12:55:29.716559Z",
     "iopub.status.busy": "2025-07-30T12:55:29.716165Z",
     "iopub.status.idle": "2025-07-30T12:55:29.997825Z",
     "shell.execute_reply": "2025-07-30T12:55:29.996765Z"
    },
    "papermill": {
     "duration": 0.309826,
     "end_time": "2025-07-30T12:55:30.000020",
     "exception": false,
     "start_time": "2025-07-30T12:55:29.690194",
     "status": "completed"
    },
    "tags": []
   },
   "outputs": [],
   "source": [
    "from fairness_multiverse.conformal import build_cp_groups\n",
    "\n",
    "cp_groups_df = build_cp_groups(pred_sets, y_true, X_test.index, org_test)\n",
    "#needs universe_id and setting"
   ]
  },
  {
   "cell_type": "code",
   "execution_count": 64,
   "id": "01d5802c-663a-4d1f-9d69-e036faaffbf7",
   "metadata": {
    "execution": {
     "iopub.execute_input": "2025-07-30T12:55:30.118442Z",
     "iopub.status.busy": "2025-07-30T12:55:30.118031Z",
     "iopub.status.idle": "2025-07-30T12:55:30.123561Z",
     "shell.execute_reply": "2025-07-30T12:55:30.122403Z"
    },
    "papermill": {
     "duration": 0.061321,
     "end_time": "2025-07-30T12:55:30.125666",
     "exception": false,
     "start_time": "2025-07-30T12:55:30.064345",
     "status": "completed"
    },
    "tags": []
   },
   "outputs": [],
   "source": [
    "#delete\n",
    "#cp_groups_df"
   ]
  },
  {
   "cell_type": "code",
   "execution_count": 65,
   "id": "fa424af1-d1eb-443d-b717-2d279ada8408",
   "metadata": {
    "execution": {
     "iopub.execute_input": "2025-07-30T12:55:30.185400Z",
     "iopub.status.busy": "2025-07-30T12:55:30.184841Z",
     "iopub.status.idle": "2025-07-30T12:55:30.190168Z",
     "shell.execute_reply": "2025-07-30T12:55:30.189245Z"
    },
    "papermill": {
     "duration": 0.037455,
     "end_time": "2025-07-30T12:55:30.192960",
     "exception": false,
     "start_time": "2025-07-30T12:55:30.155505",
     "status": "completed"
    },
    "tags": []
   },
   "outputs": [],
   "source": [
    "#delete\n",
    "#percentage = (cp_groups_df['nongerman_female'] == 1).mean() * 100\n",
    "#print(percentage)\n"
   ]
  },
  {
   "cell_type": "code",
   "execution_count": 66,
   "id": "6cbdab96-b2b2-45af-ad54-d0516db2e28d",
   "metadata": {
    "execution": {
     "iopub.execute_input": "2025-07-30T12:55:30.253937Z",
     "iopub.status.busy": "2025-07-30T12:55:30.253058Z",
     "iopub.status.idle": "2025-07-30T12:55:32.808907Z",
     "shell.execute_reply": "2025-07-30T12:55:32.805332Z"
    },
    "papermill": {
     "duration": 2.587919,
     "end_time": "2025-07-30T12:55:32.811096",
     "exception": false,
     "start_time": "2025-07-30T12:55:30.223177",
     "status": "completed"
    },
    "tags": []
   },
   "outputs": [],
   "source": [
    "# Define covered = 1 if true_label is in the predicted set\n",
    "cp_groups_df['covered'] = cp_groups_df.apply(\n",
    "    lambda r: int(r['true_label'] in r['pred_set']),\n",
    "    axis=1\n",
    ")"
   ]
  },
  {
   "cell_type": "code",
   "execution_count": 67,
   "id": "338ff529-1a6b-4b87-a931-8e4788d52aad",
   "metadata": {
    "execution": {
     "iopub.execute_input": "2025-07-30T12:55:32.940644Z",
     "iopub.status.busy": "2025-07-30T12:55:32.940205Z",
     "iopub.status.idle": "2025-07-30T12:55:32.945358Z",
     "shell.execute_reply": "2025-07-30T12:55:32.944462Z"
    },
    "papermill": {
     "duration": 0.080036,
     "end_time": "2025-07-30T12:55:32.947336",
     "exception": false,
     "start_time": "2025-07-30T12:55:32.867300",
     "status": "completed"
    },
    "tags": []
   },
   "outputs": [],
   "source": [
    "#cp_groups_df"
   ]
  },
  {
   "cell_type": "code",
   "execution_count": 68,
   "id": "90032e27-66df-4540-9169-4e89cfbaa758",
   "metadata": {
    "execution": {
     "iopub.execute_input": "2025-07-30T12:55:33.010805Z",
     "iopub.status.busy": "2025-07-30T12:55:33.010372Z",
     "iopub.status.idle": "2025-07-30T12:55:33.020671Z",
     "shell.execute_reply": "2025-07-30T12:55:33.019606Z"
    },
    "papermill": {
     "duration": 0.040868,
     "end_time": "2025-07-30T12:55:33.022785",
     "exception": false,
     "start_time": "2025-07-30T12:55:32.981917",
     "status": "completed"
    },
    "tags": []
   },
   "outputs": [],
   "source": [
    "subgroups = ['frau1','nongerman','nongerman_male','nongerman_female']\n",
    "\n",
    "# Conditional coverage for subgroup==1\n",
    "cond_coverage = {\n",
    "    g: cp_groups_df.loc[cp_groups_df[g]==1, 'covered'].mean()\n",
    "    for g in subgroups\n",
    "}"
   ]
  },
  {
   "cell_type": "code",
   "execution_count": 69,
   "id": "1e348fb1-b9c3-45bc-ba23-f016827a7e0d",
   "metadata": {
    "execution": {
     "iopub.execute_input": "2025-07-30T12:55:33.079031Z",
     "iopub.status.busy": "2025-07-30T12:55:33.078605Z",
     "iopub.status.idle": "2025-07-30T12:55:33.086854Z",
     "shell.execute_reply": "2025-07-30T12:55:33.085873Z"
    },
    "papermill": {
     "duration": 0.03928,
     "end_time": "2025-07-30T12:55:33.089351",
     "exception": false,
     "start_time": "2025-07-30T12:55:33.050071",
     "status": "completed"
    },
    "tags": []
   },
   "outputs": [
    {
     "data": {
      "text/plain": [
       "{'frau1': 0.9164847014422429,\n",
       " 'nongerman': 0.9142199517206534,\n",
       " 'nongerman_male': 0.9278573358551743,\n",
       " 'nongerman_female': 0.8916542473919523}"
      ]
     },
     "execution_count": 69,
     "metadata": {},
     "output_type": "execute_result"
    }
   ],
   "source": [
    "cond_coverage"
   ]
  },
  {
   "cell_type": "code",
   "execution_count": 70,
   "id": "f5093324-c3dd-4d63-bc4c-8d945e5c8bbb",
   "metadata": {
    "execution": {
     "iopub.execute_input": "2025-07-30T12:55:33.149117Z",
     "iopub.status.busy": "2025-07-30T12:55:33.148707Z",
     "iopub.status.idle": "2025-07-30T12:55:33.170989Z",
     "shell.execute_reply": "2025-07-30T12:55:33.169806Z"
    },
    "papermill": {
     "duration": 0.079394,
     "end_time": "2025-07-30T12:55:33.198520",
     "exception": false,
     "start_time": "2025-07-30T12:55:33.119126",
     "status": "completed"
    },
    "tags": []
   },
   "outputs": [],
   "source": [
    "for subgroup, cov in cond_coverage.items():\n",
    "    cp_metrics_df[f\"cov_{subgroup}\"] = cov"
   ]
  },
  {
   "cell_type": "code",
   "execution_count": 71,
   "id": "6e872e10-dbe5-49e8-b554-5030c98ff75d",
   "metadata": {
    "execution": {
     "iopub.execute_input": "2025-07-30T12:55:33.259599Z",
     "iopub.status.busy": "2025-07-30T12:55:33.259183Z",
     "iopub.status.idle": "2025-07-30T12:55:33.282094Z",
     "shell.execute_reply": "2025-07-30T12:55:33.281039Z"
    },
    "papermill": {
     "duration": 0.052386,
     "end_time": "2025-07-30T12:55:33.284005",
     "exception": false,
     "start_time": "2025-07-30T12:55:33.231619",
     "status": "completed"
    },
    "tags": []
   },
   "outputs": [
    {
     "data": {
      "text/html": [
       "<div>\n",
       "<style scoped>\n",
       "    .dataframe tbody tr th:only-of-type {\n",
       "        vertical-align: middle;\n",
       "    }\n",
       "\n",
       "    .dataframe tbody tr th {\n",
       "        vertical-align: top;\n",
       "    }\n",
       "\n",
       "    .dataframe thead th {\n",
       "        text-align: right;\n",
       "    }\n",
       "</style>\n",
       "<table border=\"1\" class=\"dataframe\">\n",
       "  <thead>\n",
       "    <tr style=\"text-align: right;\">\n",
       "      <th></th>\n",
       "      <th>universe_id</th>\n",
       "      <th>universe_training_size</th>\n",
       "      <th>universe_scale</th>\n",
       "      <th>universe_model</th>\n",
       "      <th>universe_exclude_features</th>\n",
       "      <th>universe_exclude_subgroups</th>\n",
       "      <th>q_hat</th>\n",
       "      <th>coverage</th>\n",
       "      <th>avg_size</th>\n",
       "      <th>cov_frau1</th>\n",
       "      <th>cov_nongerman</th>\n",
       "      <th>cov_nongerman_male</th>\n",
       "      <th>cov_nongerman_female</th>\n",
       "    </tr>\n",
       "  </thead>\n",
       "  <tbody>\n",
       "    <tr>\n",
       "      <th>0</th>\n",
       "      <td>56cc1ca7335816585426102290492c1a</td>\n",
       "      <td>25k</td>\n",
       "      <td>do-not-scale</td>\n",
       "      <td>rf</td>\n",
       "      <td>nationality</td>\n",
       "      <td>drop-non-german</td>\n",
       "      <td>0.67</td>\n",
       "      <td>0.916286</td>\n",
       "      <td>1.156972</td>\n",
       "      <td>0.916485</td>\n",
       "      <td>0.91422</td>\n",
       "      <td>0.927857</td>\n",
       "      <td>0.891654</td>\n",
       "    </tr>\n",
       "  </tbody>\n",
       "</table>\n",
       "</div>"
      ],
      "text/plain": [
       "                        universe_id universe_training_size universe_scale  \\\n",
       "0  56cc1ca7335816585426102290492c1a                    25k   do-not-scale   \n",
       "\n",
       "  universe_model universe_exclude_features universe_exclude_subgroups  q_hat  \\\n",
       "0             rf               nationality            drop-non-german   0.67   \n",
       "\n",
       "   coverage  avg_size  cov_frau1  cov_nongerman  cov_nongerman_male  \\\n",
       "0  0.916286  1.156972   0.916485        0.91422            0.927857   \n",
       "\n",
       "   cov_nongerman_female  \n",
       "0              0.891654  "
      ]
     },
     "execution_count": 71,
     "metadata": {},
     "output_type": "execute_result"
    }
   ],
   "source": [
    "cp_metrics_df"
   ]
  },
  {
   "cell_type": "markdown",
   "id": "33774451",
   "metadata": {
    "papermill": {
     "duration": 0.039901,
     "end_time": "2025-07-30T12:55:33.352313",
     "exception": false,
     "start_time": "2025-07-30T12:55:33.312412",
     "status": "completed"
    },
    "tags": []
   },
   "source": [
    "# (Fairness) Metrics"
   ]
  },
  {
   "cell_type": "code",
   "execution_count": 72,
   "id": "debc5d62",
   "metadata": {
    "execution": {
     "iopub.execute_input": "2025-07-30T12:55:33.447649Z",
     "iopub.status.busy": "2025-07-30T12:55:33.447254Z",
     "iopub.status.idle": "2025-07-30T12:55:33.501687Z",
     "shell.execute_reply": "2025-07-30T12:55:33.500676Z"
    },
    "papermill": {
     "duration": 0.098838,
     "end_time": "2025-07-30T12:55:33.503576",
     "exception": false,
     "start_time": "2025-07-30T12:55:33.404738",
     "status": "completed"
    },
    "tags": []
   },
   "outputs": [],
   "source": [
    "# do I need to include maxdeutsch1.missing?\n",
    "\n",
    "import numpy as np\n",
    "\n",
    "colname_to_bin = \"maxdeutsch1\"\n",
    "majority_value = org_train[colname_to_bin].mode()[0]\n",
    "\n",
    "org_test[\"majmin\"] = np.where(org_test[colname_to_bin] == majority_value, \"majority\", \"minority\")"
   ]
  },
  {
   "cell_type": "code",
   "execution_count": 73,
   "id": "06a50de5",
   "metadata": {
    "execution": {
     "iopub.execute_input": "2025-07-30T12:55:33.561192Z",
     "iopub.status.busy": "2025-07-30T12:55:33.560745Z",
     "iopub.status.idle": "2025-07-30T12:55:36.511446Z",
     "shell.execute_reply": "2025-07-30T12:55:36.510591Z"
    },
    "papermill": {
     "duration": 2.981472,
     "end_time": "2025-07-30T12:55:36.513230",
     "exception": false,
     "start_time": "2025-07-30T12:55:33.531758",
     "status": "completed"
    },
    "tags": []
   },
   "outputs": [],
   "source": [
    "example_universe = universe.copy()\n",
    "example_universe[\"cutoff\"] = example_universe[\"cutoff\"][0]\n",
    "example_universe[\"eval_fairness_grouping\"] = example_universe[\"eval_fairness_grouping\"][0]\n",
    "fairness_dict, metric_frame = universe_analysis.compute_metrics(\n",
    "    example_universe,\n",
    "    y_pred_prob=probs_test,\n",
    "    y_test=y_true,\n",
    "    org_test=org_test,\n",
    ")"
   ]
  },
  {
   "cell_type": "markdown",
   "id": "f95d4e02",
   "metadata": {
    "papermill": {
     "duration": 0.02778,
     "end_time": "2025-07-30T12:55:36.569675",
     "exception": false,
     "start_time": "2025-07-30T12:55:36.541895",
     "status": "completed"
    },
    "tags": []
   },
   "source": [
    "# Overall"
   ]
  },
  {
   "cell_type": "markdown",
   "id": "bdee4871",
   "metadata": {
    "papermill": {
     "duration": 0.032761,
     "end_time": "2025-07-30T12:55:36.628991",
     "exception": false,
     "start_time": "2025-07-30T12:55:36.596230",
     "status": "completed"
    },
    "tags": []
   },
   "source": [
    "Fairness\n",
    "Main fairness target: Equalized Odds. Seems to be a better fit than equal opportunity, since we're not only interested in Y = 1. Seems to be a better fit than demographic parity, since we also care about accuracy, not just equal distribution of preds.\n",
    "\n",
    "Pick column for computation of fairness metrics\n",
    "\n",
    "Performance\n",
    "Overall performance measures, most interesting in relation to the measures split by group below"
   ]
  },
  {
   "cell_type": "code",
   "execution_count": 74,
   "id": "c4e067c6",
   "metadata": {
    "execution": {
     "iopub.execute_input": "2025-07-30T12:55:36.687846Z",
     "iopub.status.busy": "2025-07-30T12:55:36.687352Z",
     "iopub.status.idle": "2025-07-30T12:55:36.696453Z",
     "shell.execute_reply": "2025-07-30T12:55:36.695502Z"
    },
    "papermill": {
     "duration": 0.042715,
     "end_time": "2025-07-30T12:55:36.698113",
     "exception": false,
     "start_time": "2025-07-30T12:55:36.655398",
     "status": "completed"
    },
    "tags": []
   },
   "outputs": [
    {
     "data": {
      "text/plain": [
       "accuracy                   0.204816\n",
       "balanced accuracy          0.535858\n",
       "f1                         0.240444\n",
       "precision                  0.137010\n",
       "false positive rate        0.909427\n",
       "false negative rate        0.018856\n",
       "selection rate             0.918627\n",
       "count                  89710.000000\n",
       "dtype: float64"
      ]
     },
     "execution_count": 74,
     "metadata": {},
     "output_type": "execute_result"
    }
   ],
   "source": [
    "metric_frame.overall"
   ]
  },
  {
   "cell_type": "markdown",
   "id": "e968fe9d",
   "metadata": {
    "papermill": {
     "duration": 0.029191,
     "end_time": "2025-07-30T12:55:36.756197",
     "exception": false,
     "start_time": "2025-07-30T12:55:36.727006",
     "status": "completed"
    },
    "tags": []
   },
   "source": [
    "By Group"
   ]
  },
  {
   "cell_type": "code",
   "execution_count": 75,
   "id": "ec325bce",
   "metadata": {
    "execution": {
     "iopub.execute_input": "2025-07-30T12:55:36.813163Z",
     "iopub.status.busy": "2025-07-30T12:55:36.812746Z",
     "iopub.status.idle": "2025-07-30T12:55:36.833219Z",
     "shell.execute_reply": "2025-07-30T12:55:36.831045Z"
    },
    "papermill": {
     "duration": 0.051393,
     "end_time": "2025-07-30T12:55:36.835125",
     "exception": false,
     "start_time": "2025-07-30T12:55:36.783732",
     "status": "completed"
    },
    "tags": []
   },
   "outputs": [
    {
     "data": {
      "text/html": [
       "<div>\n",
       "<style scoped>\n",
       "    .dataframe tbody tr th:only-of-type {\n",
       "        vertical-align: middle;\n",
       "    }\n",
       "\n",
       "    .dataframe tbody tr th {\n",
       "        vertical-align: top;\n",
       "    }\n",
       "\n",
       "    .dataframe thead th {\n",
       "        text-align: right;\n",
       "    }\n",
       "</style>\n",
       "<table border=\"1\" class=\"dataframe\">\n",
       "  <thead>\n",
       "    <tr style=\"text-align: right;\">\n",
       "      <th></th>\n",
       "      <th>accuracy</th>\n",
       "      <th>balanced accuracy</th>\n",
       "      <th>f1</th>\n",
       "      <th>precision</th>\n",
       "      <th>false positive rate</th>\n",
       "      <th>false negative rate</th>\n",
       "      <th>selection rate</th>\n",
       "      <th>count</th>\n",
       "    </tr>\n",
       "    <tr>\n",
       "      <th>majmin</th>\n",
       "      <th></th>\n",
       "      <th></th>\n",
       "      <th></th>\n",
       "      <th></th>\n",
       "      <th></th>\n",
       "      <th></th>\n",
       "      <th></th>\n",
       "      <th></th>\n",
       "    </tr>\n",
       "  </thead>\n",
       "  <tbody>\n",
       "    <tr>\n",
       "      <th>majority</th>\n",
       "      <td>0.200173</td>\n",
       "      <td>0.535070</td>\n",
       "      <td>0.246534</td>\n",
       "      <td>0.140793</td>\n",
       "      <td>0.920123</td>\n",
       "      <td>0.009737</td>\n",
       "      <td>0.929391</td>\n",
       "      <td>69170.0</td>\n",
       "    </tr>\n",
       "    <tr>\n",
       "      <th>minority</th>\n",
       "      <td>0.220448</td>\n",
       "      <td>0.535927</td>\n",
       "      <td>0.218622</td>\n",
       "      <td>0.123593</td>\n",
       "      <td>0.874092</td>\n",
       "      <td>0.054054</td>\n",
       "      <td>0.882376</td>\n",
       "      <td>20540.0</td>\n",
       "    </tr>\n",
       "  </tbody>\n",
       "</table>\n",
       "</div>"
      ],
      "text/plain": [
       "          accuracy  balanced accuracy        f1  precision  \\\n",
       "majmin                                                       \n",
       "majority  0.200173           0.535070  0.246534   0.140793   \n",
       "minority  0.220448           0.535927  0.218622   0.123593   \n",
       "\n",
       "          false positive rate  false negative rate  selection rate    count  \n",
       "majmin                                                                       \n",
       "majority             0.920123             0.009737        0.929391  69170.0  \n",
       "minority             0.874092             0.054054        0.882376  20540.0  "
      ]
     },
     "execution_count": 75,
     "metadata": {},
     "output_type": "execute_result"
    }
   ],
   "source": [
    "metric_frame.by_group"
   ]
  },
  {
   "cell_type": "code",
   "execution_count": 76,
   "id": "a9ddbe63",
   "metadata": {
    "execution": {
     "iopub.execute_input": "2025-07-30T12:55:36.893821Z",
     "iopub.status.busy": "2025-07-30T12:55:36.893395Z",
     "iopub.status.idle": "2025-07-30T12:55:39.538210Z",
     "shell.execute_reply": "2025-07-30T12:55:39.537300Z"
    },
    "papermill": {
     "duration": 2.676391,
     "end_time": "2025-07-30T12:55:39.539993",
     "exception": false,
     "start_time": "2025-07-30T12:55:36.863602",
     "status": "completed"
    },
    "tags": []
   },
   "outputs": [
    {
     "data": {
      "text/plain": [
       "array([[<Axes: title={'center': 'accuracy'}, xlabel='majmin'>,\n",
       "        <Axes: title={'center': 'balanced accuracy'}, xlabel='majmin'>,\n",
       "        <Axes: title={'center': 'f1'}, xlabel='majmin'>],\n",
       "       [<Axes: title={'center': 'precision'}, xlabel='majmin'>,\n",
       "        <Axes: title={'center': 'false positive rate'}, xlabel='majmin'>,\n",
       "        <Axes: title={'center': 'false negative rate'}, xlabel='majmin'>],\n",
       "       [<Axes: title={'center': 'selection rate'}, xlabel='majmin'>,\n",
       "        <Axes: title={'center': 'count'}, xlabel='majmin'>,\n",
       "        <Axes: xlabel='majmin'>]], dtype=object)"
      ]
     },
     "execution_count": 76,
     "metadata": {},
     "output_type": "execute_result"
    },
    {
     "data": {
      "image/png": "[encoded data removed]",
      "text/plain": [
       "<Figure size 1200x800 with 9 Axes>"
      ]
     },
     "metadata": {},
     "output_type": "display_data"
    }
   ],
   "source": [
    "# In a graphic\n",
    "metric_frame.by_group.plot.bar(\n",
    "    subplots=True,\n",
    "    layout=[3, 3],\n",
    "    legend=False,\n",
    "    figsize=[12, 8],\n",
    "    title=\"Show all metrics\",\n",
    ")"
   ]
  },
  {
   "cell_type": "markdown",
   "id": "f57a0bac",
   "metadata": {
    "papermill": {
     "duration": 0.030457,
     "end_time": "2025-07-30T12:55:39.600696",
     "exception": false,
     "start_time": "2025-07-30T12:55:39.570239",
     "status": "completed"
    },
    "tags": []
   },
   "source": [
    "# Final Output"
   ]
  },
  {
   "cell_type": "code",
   "execution_count": 77,
   "id": "96d280a3",
   "metadata": {
    "execution": {
     "iopub.execute_input": "2025-07-30T12:55:39.661767Z",
     "iopub.status.busy": "2025-07-30T12:55:39.660716Z",
     "iopub.status.idle": "2025-07-30T12:55:39.669112Z",
     "shell.execute_reply": "2025-07-30T12:55:39.668246Z"
    },
    "papermill": {
     "duration": 0.041316,
     "end_time": "2025-07-30T12:55:39.670524",
     "exception": false,
     "start_time": "2025-07-30T12:55:39.629208",
     "status": "completed"
    },
    "tags": []
   },
   "outputs": [
    {
     "data": {
      "text/plain": [
       "4"
      ]
     },
     "execution_count": 77,
     "metadata": {},
     "output_type": "execute_result"
    }
   ],
   "source": [
    "sub_universes = universe_analysis.generate_sub_universes()\n",
    "len(sub_universes)"
   ]
  },
  {
   "cell_type": "code",
   "execution_count": 78,
   "id": "92adf7ba",
   "metadata": {
    "execution": {
     "iopub.execute_input": "2025-07-30T12:55:39.728695Z",
     "iopub.status.busy": "2025-07-30T12:55:39.727848Z",
     "iopub.status.idle": "2025-07-30T12:55:39.734679Z",
     "shell.execute_reply": "2025-07-30T12:55:39.733746Z"
    },
    "papermill": {
     "duration": 0.037498,
     "end_time": "2025-07-30T12:55:39.736189",
     "exception": false,
     "start_time": "2025-07-30T12:55:39.698691",
     "status": "completed"
    },
    "tags": []
   },
   "outputs": [],
   "source": [
    "def filter_sub_universe_data(sub_universe, org_test):\n",
    "    # Keep all rows — no filtering\n",
    "    keep_rows_mask = np.ones(org_test.shape[0], dtype=bool)\n",
    "\n",
    "    print(f\"[INFO] Keeping all rows: {keep_rows_mask.sum()} rows retained.\")\n",
    "    return keep_rows_mask"
   ]
  },
  {
   "cell_type": "code",
   "execution_count": 79,
   "id": "4a759155",
   "metadata": {
    "execution": {
     "iopub.execute_input": "2025-07-30T12:55:39.795345Z",
     "iopub.status.busy": "2025-07-30T12:55:39.794549Z",
     "iopub.status.idle": "2025-07-30T12:55:50.677983Z",
     "shell.execute_reply": "2025-07-30T12:55:50.676622Z"
    },
    "papermill": {
     "duration": 10.914893,
     "end_time": "2025-07-30T12:55:50.679969",
     "exception": false,
     "start_time": "2025-07-30T12:55:39.765076",
     "status": "completed"
    },
    "tags": []
   },
   "outputs": [
    {
     "name": "stdout",
     "output_type": "stream",
     "text": [
      "Stopping execution_time clock.\n",
      "[INFO] Keeping all rows: 89710 rows retained.\n"
     ]
    },
    {
     "name": "stdout",
     "output_type": "stream",
     "text": [
      "[INFO] Keeping all rows: 89710 rows retained.\n"
     ]
    },
    {
     "name": "stdout",
     "output_type": "stream",
     "text": [
      "[INFO] Keeping all rows: 89710 rows retained.\n"
     ]
    },
    {
     "name": "stdout",
     "output_type": "stream",
     "text": [
      "[INFO] Keeping all rows: 89710 rows retained.\n"
     ]
    },
    {
     "data": {
      "text/html": [
       "<div>\n",
       "<style scoped>\n",
       "    .dataframe tbody tr th:only-of-type {\n",
       "        vertical-align: middle;\n",
       "    }\n",
       "\n",
       "    .dataframe tbody tr th {\n",
       "        vertical-align: top;\n",
       "    }\n",
       "\n",
       "    .dataframe thead th {\n",
       "        text-align: right;\n",
       "    }\n",
       "</style>\n",
       "<table border=\"1\" class=\"dataframe\">\n",
       "  <thead>\n",
       "    <tr style=\"text-align: right;\">\n",
       "      <th></th>\n",
       "      <th>run_no</th>\n",
       "      <th>universe_id</th>\n",
       "      <th>universe_settings</th>\n",
       "      <th>execution_time</th>\n",
       "      <th>test_size_n</th>\n",
       "      <th>test_size_frac</th>\n",
       "      <th>fair_main_equalized_odds_difference</th>\n",
       "      <th>fair_main_equalized_odds_ratio</th>\n",
       "      <th>fair_main_demographic_parity_difference</th>\n",
       "      <th>fair_main_demographic_parity_ratio</th>\n",
       "      <th>...</th>\n",
       "      <th>perf_grp_precision_0</th>\n",
       "      <th>perf_grp_precision_1</th>\n",
       "      <th>perf_grp_false positive rate_0</th>\n",
       "      <th>perf_grp_false positive rate_1</th>\n",
       "      <th>perf_grp_false negative rate_0</th>\n",
       "      <th>perf_grp_false negative rate_1</th>\n",
       "      <th>perf_grp_selection rate_0</th>\n",
       "      <th>perf_grp_selection rate_1</th>\n",
       "      <th>perf_grp_count_0</th>\n",
       "      <th>perf_grp_count_1</th>\n",
       "    </tr>\n",
       "  </thead>\n",
       "  <tbody>\n",
       "    <tr>\n",
       "      <th>0</th>\n",
       "      <td>12</td>\n",
       "      <td>56cc1ca7335816585426102290492c1a</td>\n",
       "      <td>{\"cutoff\": \"quantile_0.1\", \"eval_fairness_grou...</td>\n",
       "      <td>41.627658</td>\n",
       "      <td>89710</td>\n",
       "      <td>1.0</td>\n",
       "      <td>0.046031</td>\n",
       "      <td>0.949973</td>\n",
       "      <td>0.047016</td>\n",
       "      <td>0.949413</td>\n",
       "      <td>...</td>\n",
       "      <td>NaN</td>\n",
       "      <td>NaN</td>\n",
       "      <td>NaN</td>\n",
       "      <td>NaN</td>\n",
       "      <td>NaN</td>\n",
       "      <td>NaN</td>\n",
       "      <td>NaN</td>\n",
       "      <td>NaN</td>\n",
       "      <td>NaN</td>\n",
       "      <td>NaN</td>\n",
       "    </tr>\n",
       "    <tr>\n",
       "      <th>0</th>\n",
       "      <td>12</td>\n",
       "      <td>56cc1ca7335816585426102290492c1a</td>\n",
       "      <td>{\"cutoff\": \"quantile_0.1\", \"eval_fairness_grou...</td>\n",
       "      <td>41.627658</td>\n",
       "      <td>89710</td>\n",
       "      <td>1.0</td>\n",
       "      <td>0.046031</td>\n",
       "      <td>0.949973</td>\n",
       "      <td>0.047016</td>\n",
       "      <td>0.949413</td>\n",
       "      <td>...</td>\n",
       "      <td>0.123593</td>\n",
       "      <td>0.140793</td>\n",
       "      <td>0.874092</td>\n",
       "      <td>0.920123</td>\n",
       "      <td>0.054054</td>\n",
       "      <td>0.009737</td>\n",
       "      <td>0.882376</td>\n",
       "      <td>0.929391</td>\n",
       "      <td>20540.0</td>\n",
       "      <td>69170.0</td>\n",
       "    </tr>\n",
       "    <tr>\n",
       "      <th>0</th>\n",
       "      <td>12</td>\n",
       "      <td>56cc1ca7335816585426102290492c1a</td>\n",
       "      <td>{\"cutoff\": \"quantile_0.25\", \"eval_fairness_gro...</td>\n",
       "      <td>41.627658</td>\n",
       "      <td>89710</td>\n",
       "      <td>1.0</td>\n",
       "      <td>0.069431</td>\n",
       "      <td>0.926973</td>\n",
       "      <td>0.030867</td>\n",
       "      <td>0.959421</td>\n",
       "      <td>...</td>\n",
       "      <td>NaN</td>\n",
       "      <td>NaN</td>\n",
       "      <td>NaN</td>\n",
       "      <td>NaN</td>\n",
       "      <td>NaN</td>\n",
       "      <td>NaN</td>\n",
       "      <td>NaN</td>\n",
       "      <td>NaN</td>\n",
       "      <td>NaN</td>\n",
       "      <td>NaN</td>\n",
       "    </tr>\n",
       "    <tr>\n",
       "      <th>0</th>\n",
       "      <td>12</td>\n",
       "      <td>56cc1ca7335816585426102290492c1a</td>\n",
       "      <td>{\"cutoff\": \"quantile_0.25\", \"eval_fairness_gro...</td>\n",
       "      <td>41.627658</td>\n",
       "      <td>89710</td>\n",
       "      <td>1.0</td>\n",
       "      <td>0.069431</td>\n",
       "      <td>0.926973</td>\n",
       "      <td>0.030867</td>\n",
       "      <td>0.959421</td>\n",
       "      <td>...</td>\n",
       "      <td>0.139226</td>\n",
       "      <td>0.165162</td>\n",
       "      <td>0.710048</td>\n",
       "      <td>0.731717</td>\n",
       "      <td>0.118666</td>\n",
       "      <td>0.049234</td>\n",
       "      <td>0.729796</td>\n",
       "      <td>0.760662</td>\n",
       "      <td>20540.0</td>\n",
       "      <td>69170.0</td>\n",
       "    </tr>\n",
       "  </tbody>\n",
       "</table>\n",
       "<p>4 rows × 50 columns</p>\n",
       "</div>"
      ],
      "text/plain": [
       "  run_no                       universe_id  \\\n",
       "0     12  56cc1ca7335816585426102290492c1a   \n",
       "0     12  56cc1ca7335816585426102290492c1a   \n",
       "0     12  56cc1ca7335816585426102290492c1a   \n",
       "0     12  56cc1ca7335816585426102290492c1a   \n",
       "\n",
       "                                   universe_settings  execution_time  \\\n",
       "0  {\"cutoff\": \"quantile_0.1\", \"eval_fairness_grou...       41.627658   \n",
       "0  {\"cutoff\": \"quantile_0.1\", \"eval_fairness_grou...       41.627658   \n",
       "0  {\"cutoff\": \"quantile_0.25\", \"eval_fairness_gro...       41.627658   \n",
       "0  {\"cutoff\": \"quantile_0.25\", \"eval_fairness_gro...       41.627658   \n",
       "\n",
       "   test_size_n  test_size_frac  fair_main_equalized_odds_difference  \\\n",
       "0        89710             1.0                             0.046031   \n",
       "0        89710             1.0                             0.046031   \n",
       "0        89710             1.0                             0.069431   \n",
       "0        89710             1.0                             0.069431   \n",
       "\n",
       "   fair_main_equalized_odds_ratio  fair_main_demographic_parity_difference  \\\n",
       "0                        0.949973                                 0.047016   \n",
       "0                        0.949973                                 0.047016   \n",
       "0                        0.926973                                 0.030867   \n",
       "0                        0.926973                                 0.030867   \n",
       "\n",
       "   fair_main_demographic_parity_ratio  ...  perf_grp_precision_0  \\\n",
       "0                            0.949413  ...                   NaN   \n",
       "0                            0.949413  ...              0.123593   \n",
       "0                            0.959421  ...                   NaN   \n",
       "0                            0.959421  ...              0.139226   \n",
       "\n",
       "   perf_grp_precision_1  perf_grp_false positive rate_0  \\\n",
       "0                   NaN                             NaN   \n",
       "0              0.140793                        0.874092   \n",
       "0                   NaN                             NaN   \n",
       "0              0.165162                        0.710048   \n",
       "\n",
       "   perf_grp_false positive rate_1  perf_grp_false negative rate_0  \\\n",
       "0                             NaN                             NaN   \n",
       "0                        0.920123                        0.054054   \n",
       "0                             NaN                             NaN   \n",
       "0                        0.731717                        0.118666   \n",
       "\n",
       "   perf_grp_false negative rate_1  perf_grp_selection rate_0  \\\n",
       "0                             NaN                        NaN   \n",
       "0                        0.009737                   0.882376   \n",
       "0                             NaN                        NaN   \n",
       "0                        0.049234                   0.729796   \n",
       "\n",
       "   perf_grp_selection rate_1  perf_grp_count_0  perf_grp_count_1  \n",
       "0                        NaN               NaN               NaN  \n",
       "0                   0.929391           20540.0           69170.0  \n",
       "0                        NaN               NaN               NaN  \n",
       "0                   0.760662           20540.0           69170.0  \n",
       "\n",
       "[4 rows x 50 columns]"
      ]
     },
     "execution_count": 79,
     "metadata": {},
     "output_type": "execute_result"
    }
   ],
   "source": [
    "final_output = universe_analysis.generate_final_output(\n",
    "    y_pred_prob=probs_test,\n",
    "    y_test=y_true,\n",
    "    org_test=org_test,\n",
    "    filter_data=filter_sub_universe_data,\n",
    "    cp_metrics_df=cp_metrics_df,\n",
    "    save=True,\n",
    ")\n",
    "final_output"
   ]
  },
  {
   "cell_type": "code",
   "execution_count": null,
   "id": "721ff514-cb11-46f8-b6fc-50392f74b5cb",
   "metadata": {
    "papermill": {
     "duration": 0.06246,
     "end_time": "2025-07-30T12:55:50.803708",
     "exception": false,
     "start_time": "2025-07-30T12:55:50.741248",
     "status": "completed"
    },
    "tags": []
   },
   "outputs": [],
   "source": []
  }
 ],
 "metadata": {
  "celltoolbar": "Tags",
  "kernelspec": {
   "display_name": "Python (CMA Fairness)",
   "language": "python",
   "name": "cma_fair_env"
  },
  "language_info": {
   "codemirror_mode": {
    "name": "ipython",
    "version": 3
   },
   "file_extension": ".py",
   "mimetype": "text/x-python",
   "name": "python",
   "nbconvert_exporter": "python",
   "pygments_lexer": "ipython3",
   "version": "3.10.12"
  },
  "papermill": {
   "default_parameters": {},
   "duration": 58.161631,
   "end_time": "2025-07-30T12:55:51.886681",
   "environment_variables": {},
   "exception": null,
   "input_path": "universe_analysis.ipynb",
   "output_path": "output/runs/12/notebooks/m_12-56cc1ca7335816585426102290492c1a.ipynb",
   "parameters": {
    "output_dir": "output",
    "run_no": "12",
    "seed": "2023",
    "universe": "{\"cutoff\": [\"quantile_0.1\", \"quantile_0.25\"], \"eval_fairness_grouping\": [\"majority-minority\", \"nationality-all\"], \"exclude_features\": \"nationality\", \"exclude_subgroups\": \"drop-non-german\", \"model\": \"rf\", \"scale\": \"do-not-scale\", \"training_size\": \"25k\", \"training_year\": \"2014\"}",
    "universe_id": "56cc1ca7335816585426102290492c1a"
   },
   "start_time": "2025-07-30T12:54:53.725050",
   "version": "2.6.0"
  }
 },
 "nbformat": 4,
 "nbformat_minor": 5
}