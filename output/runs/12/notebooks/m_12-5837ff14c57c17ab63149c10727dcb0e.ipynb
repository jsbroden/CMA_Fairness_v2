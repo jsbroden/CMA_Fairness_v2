{
 "cells": [
  {
   "cell_type": "code",
   "execution_count": 1,
   "id": "f159f837-637b-42ba-96b5-ec9a68c44524",
   "metadata": {
    "execution": {
     "iopub.execute_input": "2025-07-30T13:16:21.150539Z",
     "iopub.status.busy": "2025-07-30T13:16:21.149997Z",
     "iopub.status.idle": "2025-07-30T13:16:21.167559Z",
     "shell.execute_reply": "2025-07-30T13:16:21.166463Z"
    },
    "papermill": {
     "duration": 0.04062,
     "end_time": "2025-07-30T13:16:21.169561",
     "exception": false,
     "start_time": "2025-07-30T13:16:21.128941",
     "status": "completed"
    },
    "tags": []
   },
   "outputs": [
    {
     "name": "stdout",
     "output_type": "stream",
     "text": [
      "/dss/dsshome1/0C/ra93lal2/cma/CMA_Fairness_v2\n"
     ]
    },
    {
     "name": "stderr",
     "output_type": "stream",
     "text": [
      "/dss/dsshome1/0C/ra93lal2/.local/share/virtualenvs/CMA_Fairness_v2-3j10GkSs/lib/python3.10/site-packages/IPython/core/magics/osm.py:393: UserWarning: This is now an optional IPython functionality, using bookmarks requires you to install the `pickleshare` library.\n",
      "  bkms = self.shell.db.get('bookmarks', {})\n",
      "/dss/dsshome1/0C/ra93lal2/.local/share/virtualenvs/CMA_Fairness_v2-3j10GkSs/lib/python3.10/site-packages/IPython/core/magics/osm.py:417: UserWarning: This is now an optional IPython functionality, setting dhist requires you to install the `pickleshare` library.\n",
      "  self.shell.db['dhist'] = compress_dhist(dhist)[-100:]\n"
     ]
    }
   ],
   "source": [
    "%cd ~/cma/CMA_Fairness_v2"
   ]
  },
  {
   "cell_type": "markdown",
   "id": "de2603b9",
   "metadata": {
    "papermill": {
     "duration": 0.024906,
     "end_time": "2025-07-30T13:16:21.219480",
     "exception": false,
     "start_time": "2025-07-30T13:16:21.194574",
     "status": "completed"
    },
    "tags": []
   },
   "source": [
    "The following cell holds the definition of our parameters, these values can be overriden by rendering the with e.g. the following command:\n",
    "\n",
    "papermill -p alpha 0.2 -p ratio 0.3 universe_analysis.ipynb output/test_run.ipynb"
   ]
  },
  {
   "cell_type": "code",
   "execution_count": 2,
   "id": "a80968a0-40bb-4fa9-85ef-2d5eefb01975",
   "metadata": {
    "execution": {
     "iopub.execute_input": "2025-07-30T13:16:21.270689Z",
     "iopub.status.busy": "2025-07-30T13:16:21.270220Z",
     "iopub.status.idle": "2025-07-30T13:16:21.276406Z",
     "shell.execute_reply": "2025-07-30T13:16:21.275298Z"
    },
    "papermill": {
     "duration": 0.034321,
     "end_time": "2025-07-30T13:16:21.278431",
     "exception": false,
     "start_time": "2025-07-30T13:16:21.244110",
     "status": "completed"
    },
    "tags": []
   },
   "outputs": [
    {
     "name": "stdout",
     "output_type": "stream",
     "text": [
      "Current working directory: /dss/dsshome1/0C/ra93lal2/cma/CMA_Fairness_v2\n"
     ]
    }
   ],
   "source": [
    "import os\n",
    "print(\"Current working directory:\", os.getcwd())"
   ]
  },
  {
   "cell_type": "code",
   "execution_count": 3,
   "id": "2dce4c03",
   "metadata": {
    "execution": {
     "iopub.execute_input": "2025-07-30T13:16:21.329668Z",
     "iopub.status.busy": "2025-07-30T13:16:21.329196Z",
     "iopub.status.idle": "2025-07-30T13:16:21.335904Z",
     "shell.execute_reply": "2025-07-30T13:16:21.334797Z"
    },
    "papermill": {
     "duration": 0.034809,
     "end_time": "2025-07-30T13:16:21.338114",
     "exception": false,
     "start_time": "2025-07-30T13:16:21.303305",
     "status": "completed"
    },
    "tags": [
     "parameters"
    ]
   },
   "outputs": [],
   "source": [
    "run_no = 0\n",
    "universe_id = \"test\"\n",
    "universe = {\n",
    "    \"training_size\": \"25k\", # \"25k\", \"5k\", \"1k\"\n",
    "    \"training_year\": \"2014\", # \"2014\", \"2012_14\", \"2010_14\"\n",
    "    \"scale\": \"scale\", # \"scale\", \"do-not-scale\",\n",
    "    #\"stratify_split\": \"target\", # \"none\", \"target\", \"protected-attribute\", \"both\",\n",
    "    \"model\": \"elasticnet\", # \"logreg\", \"penalized_logreg\", \"rf\", \"gbm\", \"elasticnet\"\n",
    "    \"cutoff\": [\"quantile_0.15\", \"quantile_0.30\"],\n",
    "    \"exclude_features\": \"age\", # \"none\", \"nationality\", \"sex\", \"nationality-sex\", \"age\"\n",
    "    \"exclude_subgroups\": \"keep-all\", # \"keep-all\", \"drop-non-german\"\n",
    "    \"eval_fairness_grouping\": [\"majority-minority\", \"nationality-all\"]\n",
    "}\n",
    "\n",
    "output_dir=\"./output\"\n",
    "seed=0"
   ]
  },
  {
   "cell_type": "code",
   "execution_count": 4,
   "id": "b80af484",
   "metadata": {
    "execution": {
     "iopub.execute_input": "2025-07-30T13:16:21.388841Z",
     "iopub.status.busy": "2025-07-30T13:16:21.388315Z",
     "iopub.status.idle": "2025-07-30T13:16:21.394002Z",
     "shell.execute_reply": "2025-07-30T13:16:21.392999Z"
    },
    "papermill": {
     "duration": 0.032616,
     "end_time": "2025-07-30T13:16:21.395642",
     "exception": false,
     "start_time": "2025-07-30T13:16:21.363026",
     "status": "completed"
    },
    "tags": [
     "injected-parameters"
    ]
   },
   "outputs": [],
   "source": [
    "# Parameters\n",
    "universe_id = \"5837ff14c57c17ab63149c10727dcb0e\"\n",
    "run_no = \"12\"\n",
    "universe = \"{\\\"cutoff\\\": [\\\"quantile_0.1\\\", \\\"quantile_0.25\\\"], \\\"eval_fairness_grouping\\\": [\\\"majority-minority\\\", \\\"nationality-all\\\"], \\\"exclude_features\\\": \\\"nationality\\\", \\\"exclude_subgroups\\\": \\\"keep-all\\\", \\\"model\\\": \\\"elasticnet\\\", \\\"scale\\\": \\\"do-not-scale\\\", \\\"training_size\\\": \\\"25k\\\", \\\"training_year\\\": \\\"2012_14\\\"}\"\n",
    "output_dir = \"output\"\n",
    "seed = \"2023\"\n"
   ]
  },
  {
   "cell_type": "code",
   "execution_count": 5,
   "id": "1650acaf",
   "metadata": {
    "execution": {
     "iopub.execute_input": "2025-07-30T13:16:21.438217Z",
     "iopub.status.busy": "2025-07-30T13:16:21.437710Z",
     "iopub.status.idle": "2025-07-30T13:16:21.443069Z",
     "shell.execute_reply": "2025-07-30T13:16:21.441904Z"
    },
    "papermill": {
     "duration": 0.028518,
     "end_time": "2025-07-30T13:16:21.444965",
     "exception": false,
     "start_time": "2025-07-30T13:16:21.416447",
     "status": "completed"
    },
    "tags": []
   },
   "outputs": [],
   "source": [
    "import json\n",
    "# Parse universe into dict if it is passed as a string\n",
    "if isinstance(universe, str):\n",
    "    universe = json.loads(universe)"
   ]
  },
  {
   "cell_type": "code",
   "execution_count": 6,
   "id": "16620c48",
   "metadata": {
    "execution": {
     "iopub.execute_input": "2025-07-30T13:16:21.496000Z",
     "iopub.status.busy": "2025-07-30T13:16:21.495261Z",
     "iopub.status.idle": "2025-07-30T13:16:21.540797Z",
     "shell.execute_reply": "2025-07-30T13:16:21.539699Z"
    },
    "papermill": {
     "duration": 0.073487,
     "end_time": "2025-07-30T13:16:21.543341",
     "exception": false,
     "start_time": "2025-07-30T13:16:21.469854",
     "status": "completed"
    },
    "tags": []
   },
   "outputs": [],
   "source": [
    "# Auto-reload the custom package\n",
    "%load_ext autoreload\n",
    "%autoreload 1\n",
    "%aimport fairness_multiverse"
   ]
  },
  {
   "cell_type": "code",
   "execution_count": 7,
   "id": "01c5c9f3",
   "metadata": {
    "execution": {
     "iopub.execute_input": "2025-07-30T13:16:21.603699Z",
     "iopub.status.busy": "2025-07-30T13:16:21.603186Z",
     "iopub.status.idle": "2025-07-30T13:16:23.714315Z",
     "shell.execute_reply": "2025-07-30T13:16:23.713475Z"
    },
    "papermill": {
     "duration": 2.143255,
     "end_time": "2025-07-30T13:16:23.715792",
     "exception": false,
     "start_time": "2025-07-30T13:16:21.572537",
     "status": "completed"
    },
    "tags": []
   },
   "outputs": [],
   "source": [
    "from fairness_multiverse.universe import UniverseAnalysis\n",
    "\n",
    "universe_analysis = UniverseAnalysis(\n",
    "    run_no = run_no,\n",
    "    universe_id = universe_id,\n",
    "    universe = universe,\n",
    "    output_dir=output_dir,\n",
    ")"
   ]
  },
  {
   "cell_type": "code",
   "execution_count": 8,
   "id": "106241f5",
   "metadata": {
    "execution": {
     "iopub.execute_input": "2025-07-30T13:16:23.740250Z",
     "iopub.status.busy": "2025-07-30T13:16:23.739710Z",
     "iopub.status.idle": "2025-07-30T13:16:23.746255Z",
     "shell.execute_reply": "2025-07-30T13:16:23.745551Z"
    },
    "papermill": {
     "duration": 0.020028,
     "end_time": "2025-07-30T13:16:23.747543",
     "exception": false,
     "start_time": "2025-07-30T13:16:23.727515",
     "status": "completed"
    },
    "tags": []
   },
   "outputs": [
    {
     "name": "stdout",
     "output_type": "stream",
     "text": [
      "Using Seed: 2023\n"
     ]
    }
   ],
   "source": [
    "import numpy as np\n",
    "parsed_seed = int(seed)\n",
    "np.random.seed(parsed_seed)\n",
    "print(f\"Using Seed: {parsed_seed}\")"
   ]
  },
  {
   "cell_type": "markdown",
   "id": "e0ebdc57",
   "metadata": {
    "papermill": {
     "duration": 0.01099,
     "end_time": "2025-07-30T13:16:23.770279",
     "exception": false,
     "start_time": "2025-07-30T13:16:23.759289",
     "status": "completed"
    },
    "tags": []
   },
   "source": [
    "# Loading Data"
   ]
  },
  {
   "cell_type": "markdown",
   "id": "681925a3",
   "metadata": {
    "papermill": {
     "duration": 0.011019,
     "end_time": "2025-07-30T13:16:23.792352",
     "exception": false,
     "start_time": "2025-07-30T13:16:23.781333",
     "status": "completed"
    },
    "tags": []
   },
   "source": [
    "Load siab_train, siab_test, siab_calib and/or \n",
    "load siab_train_features, siab_train_labels"
   ]
  },
  {
   "cell_type": "code",
   "execution_count": 9,
   "id": "f0496b8a",
   "metadata": {
    "execution": {
     "iopub.execute_input": "2025-07-30T13:16:23.816178Z",
     "iopub.status.busy": "2025-07-30T13:16:23.815648Z",
     "iopub.status.idle": "2025-07-30T13:16:35.316463Z",
     "shell.execute_reply": "2025-07-30T13:16:35.315374Z"
    },
    "papermill": {
     "duration": 11.514868,
     "end_time": "2025-07-30T13:16:35.318009",
     "exception": false,
     "start_time": "2025-07-30T13:16:23.803141",
     "status": "completed"
    },
    "tags": []
   },
   "outputs": [
    {
     "name": "stdout",
     "output_type": "stream",
     "text": [
      "Loading SIAB data from cache: data/siab_cached.csv.gz\n"
     ]
    },
    {
     "name": "stdout",
     "output_type": "stream",
     "text": [
      "(643690, 164)\n"
     ]
    }
   ],
   "source": [
    "from pathlib import Path\n",
    "import pandas as pd\n",
    "\n",
    "# File paths\n",
    "raw_file = Path(\"data/raw/siab.csv\")\n",
    "cache_file = Path(\"data/siab_cached.csv.gz\")\n",
    "\n",
    "# Ensure cache directory exists\n",
    "cache_file.parent.mkdir(parents=True, exist_ok=True)\n",
    "\n",
    "# Load with simple caching\n",
    "if cache_file.exists():\n",
    "    print(f\"Loading SIAB data from cache: {cache_file}\")\n",
    "    siab = pd.read_csv(cache_file, compression='gzip')\n",
    "else:\n",
    "    print(f\"Cache not found. Reading raw SIAB data: {raw_file}\")\n",
    "    siab = pd.read_csv(raw_file)\n",
    "    siab.to_csv(cache_file, index=False, compression='gzip')\n",
    "    print(f\"Cached SIAB data to: {cache_file}\")\n",
    "\n",
    "# Now use `siab` DataFrame as needed\n",
    "print(siab.shape)"
   ]
  },
  {
   "cell_type": "code",
   "execution_count": 10,
   "id": "db0ca512-5f53-4dba-abdb-a2888bca41ba",
   "metadata": {
    "execution": {
     "iopub.execute_input": "2025-07-30T13:16:35.360830Z",
     "iopub.status.busy": "2025-07-30T13:16:35.360289Z",
     "iopub.status.idle": "2025-07-30T13:16:35.366398Z",
     "shell.execute_reply": "2025-07-30T13:16:35.365487Z"
    },
    "papermill": {
     "duration": 0.028431,
     "end_time": "2025-07-30T13:16:35.367910",
     "exception": false,
     "start_time": "2025-07-30T13:16:35.339479",
     "status": "completed"
    },
    "tags": []
   },
   "outputs": [],
   "source": [
    "#siab"
   ]
  },
  {
   "cell_type": "code",
   "execution_count": 11,
   "id": "a0edb063",
   "metadata": {
    "execution": {
     "iopub.execute_input": "2025-07-30T13:16:35.408240Z",
     "iopub.status.busy": "2025-07-30T13:16:35.407555Z",
     "iopub.status.idle": "2025-07-30T13:16:35.412602Z",
     "shell.execute_reply": "2025-07-30T13:16:35.411628Z"
    },
    "papermill": {
     "duration": 0.026741,
     "end_time": "2025-07-30T13:16:35.414210",
     "exception": false,
     "start_time": "2025-07-30T13:16:35.387469",
     "status": "completed"
    },
    "tags": []
   },
   "outputs": [],
   "source": [
    "#import pandas as pd\n",
    "#\n",
    "#X_train = pd.read_csv(\"./data/X_train.csv\")\n",
    "#y_train = pd.read_csv(\"./data/y_train.csv\")"
   ]
  },
  {
   "cell_type": "code",
   "execution_count": 12,
   "id": "63d08085",
   "metadata": {
    "execution": {
     "iopub.execute_input": "2025-07-30T13:16:35.454745Z",
     "iopub.status.busy": "2025-07-30T13:16:35.454086Z",
     "iopub.status.idle": "2025-07-30T13:16:35.459210Z",
     "shell.execute_reply": "2025-07-30T13:16:35.458378Z"
    },
    "papermill": {
     "duration": 0.026827,
     "end_time": "2025-07-30T13:16:35.460812",
     "exception": false,
     "start_time": "2025-07-30T13:16:35.433985",
     "status": "completed"
    },
    "tags": []
   },
   "outputs": [],
   "source": [
    "#X_test = pd.read_csv(\"./data/X_test.csv\")\n",
    "#y_true = pd.read_csv(\"./data/y_test.csv\")"
   ]
  },
  {
   "cell_type": "code",
   "execution_count": 13,
   "id": "98a8d0fa-1d3d-4ed8-bb2c-281470e24add",
   "metadata": {
    "execution": {
     "iopub.execute_input": "2025-07-30T13:16:35.501592Z",
     "iopub.status.busy": "2025-07-30T13:16:35.500932Z",
     "iopub.status.idle": "2025-07-30T13:16:35.506181Z",
     "shell.execute_reply": "2025-07-30T13:16:35.505289Z"
    },
    "papermill": {
     "duration": 0.027079,
     "end_time": "2025-07-30T13:16:35.507719",
     "exception": false,
     "start_time": "2025-07-30T13:16:35.480640",
     "status": "completed"
    },
    "tags": []
   },
   "outputs": [],
   "source": [
    "# Calibration data for conformal\n",
    "#X_calib = pd.read_csv(\"./data/X_calib.csv\")\n",
    "#y_calib = pd.read_csv(\"./data/y_calib.csv\")"
   ]
  },
  {
   "cell_type": "markdown",
   "id": "997051c5-15bd-4b69-9786-c3001a3ce484",
   "metadata": {
    "papermill": {
     "duration": 0.018842,
     "end_time": "2025-07-30T13:16:35.546189",
     "exception": false,
     "start_time": "2025-07-30T13:16:35.527347",
     "status": "completed"
    },
    "tags": []
   },
   "source": [
    "# Splitting Data and Setting Training Data Size"
   ]
  },
  {
   "cell_type": "code",
   "execution_count": 14,
   "id": "e993b61f-042d-41a6-8c81-f55681f86335",
   "metadata": {
    "execution": {
     "iopub.execute_input": "2025-07-30T13:16:35.586253Z",
     "iopub.status.busy": "2025-07-30T13:16:35.585417Z",
     "iopub.status.idle": "2025-07-30T13:16:35.598647Z",
     "shell.execute_reply": "2025-07-30T13:16:35.597768Z"
    },
    "papermill": {
     "duration": 0.035207,
     "end_time": "2025-07-30T13:16:35.600265",
     "exception": false,
     "start_time": "2025-07-30T13:16:35.565058",
     "status": "completed"
    },
    "tags": []
   },
   "outputs": [],
   "source": [
    "def sample_by_year_size(df,\n",
    "                        training_year: str,\n",
    "                        training_size: str,\n",
    "                        random_state: int = 42):\n",
    "    # --- parse training_year into a list of int years ---\n",
    "    if \"_\" in training_year:\n",
    "        start_str, end_str = training_year.split(\"_\", 1)\n",
    "        start = int(start_str)\n",
    "        end   = int(end_str) if len(end_str) == 4 else (int(end_str) + (start // 100)*100)\n",
    "        years = list(range(start, end + 1))\n",
    "    else:\n",
    "        years = [int(training_year)]\n",
    "\n",
    "    df = df[df[\"year\"].isin(years)].reset_index(drop=True)\n",
    "\n",
    "    # --- map training_size to total number of samples ---\n",
    "    total_map = {\"25k\": 25_000, \"5k\": 5_000, \"1k\": 1_000}\n",
    "    if training_size not in total_map:\n",
    "        return df  # e.g. \"all\"\n",
    "\n",
    "    total_samples = total_map[training_size]\n",
    "    n_years       = len(years)\n",
    "    base          = total_samples // n_years\n",
    "    remainder     = total_samples % n_years\n",
    "\n",
    "    # --- build a dict: year -> how many to sample ---\n",
    "    # give +1 to the first `remainder` years in ascending order\n",
    "    quotas = {\n",
    "        year: base + (1 if idx < remainder else 0)\n",
    "        for idx, year in enumerate(sorted(years))\n",
    "    }\n",
    "\n",
    "    # --- sample per‐year according to the quota dict ---\n",
    "    sampled = (\n",
    "        df\n",
    "        .groupby(\"year\", group_keys=False)\n",
    "        .apply(lambda grp: grp.sample(\n",
    "            n=min(len(grp), quotas[grp.name]),\n",
    "            random_state=random_state))\n",
    "        .reset_index(drop=True)\n",
    "    )\n",
    "\n",
    "    return sampled"
   ]
  },
  {
   "cell_type": "code",
   "execution_count": 15,
   "id": "c0ccd338-0e02-41f3-a09d-f56f9266e3fb",
   "metadata": {
    "execution": {
     "iopub.execute_input": "2025-07-30T13:16:35.641018Z",
     "iopub.status.busy": "2025-07-30T13:16:35.640368Z",
     "iopub.status.idle": "2025-07-30T13:16:35.651335Z",
     "shell.execute_reply": "2025-07-30T13:16:35.650491Z"
    },
    "papermill": {
     "duration": 0.032774,
     "end_time": "2025-07-30T13:16:35.652864",
     "exception": false,
     "start_time": "2025-07-30T13:16:35.620090",
     "status": "completed"
    },
    "tags": []
   },
   "outputs": [
    {
     "data": {
      "text/plain": [
       "'25k'"
      ]
     },
     "execution_count": 15,
     "metadata": {},
     "output_type": "execute_result"
    }
   ],
   "source": [
    "universe[\"training_size\"]"
   ]
  },
  {
   "cell_type": "code",
   "execution_count": 16,
   "id": "ca707fd7-8047-4acd-bfa5-66248fbbf8e6",
   "metadata": {
    "execution": {
     "iopub.execute_input": "2025-07-30T13:16:35.693806Z",
     "iopub.status.busy": "2025-07-30T13:16:35.693165Z",
     "iopub.status.idle": "2025-07-30T13:16:35.700858Z",
     "shell.execute_reply": "2025-07-30T13:16:35.699868Z"
    },
    "papermill": {
     "duration": 0.029416,
     "end_time": "2025-07-30T13:16:35.702381",
     "exception": false,
     "start_time": "2025-07-30T13:16:35.672965",
     "status": "completed"
    },
    "tags": []
   },
   "outputs": [
    {
     "data": {
      "text/plain": [
       "'2012_14'"
      ]
     },
     "execution_count": 16,
     "metadata": {},
     "output_type": "execute_result"
    }
   ],
   "source": [
    "universe[\"training_year\"]"
   ]
  },
  {
   "cell_type": "code",
   "execution_count": 17,
   "id": "aea9c6ef-6f46-42c8-85eb-5a62025c1508",
   "metadata": {
    "execution": {
     "iopub.execute_input": "2025-07-30T13:16:35.743529Z",
     "iopub.status.busy": "2025-07-30T13:16:35.742889Z",
     "iopub.status.idle": "2025-07-30T13:16:36.379999Z",
     "shell.execute_reply": "2025-07-30T13:16:36.379109Z"
    },
    "papermill": {
     "duration": 0.659093,
     "end_time": "2025-07-30T13:16:36.381512",
     "exception": false,
     "start_time": "2025-07-30T13:16:35.722419",
     "status": "completed"
    },
    "tags": []
   },
   "outputs": [],
   "source": [
    "siab_train = sample_by_year_size(siab,\n",
    "                               training_year=universe[\"training_year\"],\n",
    "                               training_size=universe[\"training_size\"])"
   ]
  },
  {
   "cell_type": "code",
   "execution_count": 18,
   "id": "8d3afb32-789d-442c-8d5d-9f5aa8dd2eed",
   "metadata": {
    "execution": {
     "iopub.execute_input": "2025-07-30T13:16:36.421403Z",
     "iopub.status.busy": "2025-07-30T13:16:36.420761Z",
     "iopub.status.idle": "2025-07-30T13:16:36.427859Z",
     "shell.execute_reply": "2025-07-30T13:16:36.427000Z"
    },
    "papermill": {
     "duration": 0.029807,
     "end_time": "2025-07-30T13:16:36.429546",
     "exception": false,
     "start_time": "2025-07-30T13:16:36.399739",
     "status": "completed"
    },
    "tags": []
   },
   "outputs": [
    {
     "data": {
      "text/plain": [
       "(25000, 164)"
      ]
     },
     "execution_count": 18,
     "metadata": {},
     "output_type": "execute_result"
    }
   ],
   "source": [
    "siab_train.shape"
   ]
  },
  {
   "cell_type": "code",
   "execution_count": 19,
   "id": "d582db68-1a4c-47fb-84fc-08518dc1975a",
   "metadata": {
    "execution": {
     "iopub.execute_input": "2025-07-30T13:16:36.471919Z",
     "iopub.status.busy": "2025-07-30T13:16:36.471274Z",
     "iopub.status.idle": "2025-07-30T13:16:36.480823Z",
     "shell.execute_reply": "2025-07-30T13:16:36.479855Z"
    },
    "papermill": {
     "duration": 0.032234,
     "end_time": "2025-07-30T13:16:36.482232",
     "exception": false,
     "start_time": "2025-07-30T13:16:36.449998",
     "status": "completed"
    },
    "tags": []
   },
   "outputs": [
    {
     "data": {
      "text/plain": [
       "year\n",
       "2012    8334\n",
       "2013    8333\n",
       "2014    8333\n",
       "dtype: int64"
      ]
     },
     "metadata": {},
     "output_type": "display_data"
    }
   ],
   "source": [
    "display(siab_train.groupby(\"year\").size())"
   ]
  },
  {
   "cell_type": "code",
   "execution_count": 20,
   "id": "a561edb4-d032-42cb-8256-22eac1111c64",
   "metadata": {
    "execution": {
     "iopub.execute_input": "2025-07-30T13:16:36.525107Z",
     "iopub.status.busy": "2025-07-30T13:16:36.524466Z",
     "iopub.status.idle": "2025-07-30T13:16:36.747180Z",
     "shell.execute_reply": "2025-07-30T13:16:36.746305Z"
    },
    "papermill": {
     "duration": 0.246131,
     "end_time": "2025-07-30T13:16:36.749154",
     "exception": false,
     "start_time": "2025-07-30T13:16:36.503023",
     "status": "completed"
    },
    "tags": []
   },
   "outputs": [],
   "source": [
    "#siab_train = siab_s[siab_s.year < 2015]\n",
    "siab_calib = siab[siab.year == 2015]\n",
    "siab_test = siab[siab.year == 2016]"
   ]
  },
  {
   "cell_type": "code",
   "execution_count": 21,
   "id": "472de16f-c3db-4916-846b-1f0de9cf1746",
   "metadata": {
    "execution": {
     "iopub.execute_input": "2025-07-30T13:16:36.792175Z",
     "iopub.status.busy": "2025-07-30T13:16:36.791481Z",
     "iopub.status.idle": "2025-07-30T13:16:36.805554Z",
     "shell.execute_reply": "2025-07-30T13:16:36.804596Z"
    },
    "papermill": {
     "duration": 0.037367,
     "end_time": "2025-07-30T13:16:36.807214",
     "exception": false,
     "start_time": "2025-07-30T13:16:36.769847",
     "status": "completed"
    },
    "tags": []
   },
   "outputs": [],
   "source": [
    "X_train = siab_train.iloc[:,4:164]\n",
    "y_train = siab_train.iloc[:, [3]]"
   ]
  },
  {
   "cell_type": "code",
   "execution_count": 22,
   "id": "828c96af-f43a-4ed6-ba47-8ac73a47d56c",
   "metadata": {
    "execution": {
     "iopub.execute_input": "2025-07-30T13:16:36.850069Z",
     "iopub.status.busy": "2025-07-30T13:16:36.849477Z",
     "iopub.status.idle": "2025-07-30T13:16:36.938715Z",
     "shell.execute_reply": "2025-07-30T13:16:36.937722Z"
    },
    "papermill": {
     "duration": 0.112399,
     "end_time": "2025-07-30T13:16:36.940533",
     "exception": false,
     "start_time": "2025-07-30T13:16:36.828134",
     "status": "completed"
    },
    "tags": []
   },
   "outputs": [],
   "source": [
    "X_calib = siab_calib.iloc[:,4:164]\n",
    "y_calib = siab_calib.iloc[:, [3]]"
   ]
  },
  {
   "cell_type": "code",
   "execution_count": 23,
   "id": "c34be9c3-6bd6-476e-acd3-845840e303be",
   "metadata": {
    "execution": {
     "iopub.execute_input": "2025-07-30T13:16:36.984944Z",
     "iopub.status.busy": "2025-07-30T13:16:36.984275Z",
     "iopub.status.idle": "2025-07-30T13:16:37.035681Z",
     "shell.execute_reply": "2025-07-30T13:16:37.034777Z"
    },
    "papermill": {
     "duration": 0.075575,
     "end_time": "2025-07-30T13:16:37.037453",
     "exception": false,
     "start_time": "2025-07-30T13:16:36.961878",
     "status": "completed"
    },
    "tags": []
   },
   "outputs": [],
   "source": [
    "X_test = siab_test.iloc[:,4:164]\n",
    "y_true = siab_test.iloc[:, [3]]"
   ]
  },
  {
   "cell_type": "markdown",
   "id": "9901737e-04df-44f0-9100-f5ad144ed040",
   "metadata": {
    "papermill": {
     "duration": 0.020816,
     "end_time": "2025-07-30T13:16:37.079240",
     "exception": false,
     "start_time": "2025-07-30T13:16:37.058424",
     "status": "completed"
    },
    "tags": []
   },
   "source": [
    "# Splitting Data and Setting Training Data Size OLD VERSION"
   ]
  },
  {
   "cell_type": "code",
   "execution_count": 24,
   "id": "acbc8f7d-8fc8-4e86-8c59-5dcb0f58384b",
   "metadata": {
    "execution": {
     "iopub.execute_input": "2025-07-30T13:16:37.122034Z",
     "iopub.status.busy": "2025-07-30T13:16:37.121384Z",
     "iopub.status.idle": "2025-07-30T13:16:37.126768Z",
     "shell.execute_reply": "2025-07-30T13:16:37.125866Z"
    },
    "papermill": {
     "duration": 0.028904,
     "end_time": "2025-07-30T13:16:37.128479",
     "exception": false,
     "start_time": "2025-07-30T13:16:37.099575",
     "status": "completed"
    },
    "tags": []
   },
   "outputs": [],
   "source": [
    "#def sample_by_year(df, training_size, random_state=42):\n",
    "#    if training_size == \"2014\":\n",
    "#        return df[df[\"year\"] == 2014].reset_index(drop=True)\n",
    "#    \n",
    "#    size_map = {\n",
    "#        \"25k\": 5000,\n",
    "#        \"5k\": 1000,\n",
    "#        \"1k\": 200\n",
    "#    }\n",
    "#\n",
    "#    if training_size not in size_map:\n",
    "#        return df.reset_index(drop=True)  # use all data\n",
    "#\n",
    "#    n_per_year = size_map[training_size]\n",
    "#    grouped = df.groupby(\"year\")\n",
    "#    sampled = grouped.apply(lambda x: x.sample(n=min(n_per_year, len(x)), random_state=random_state))\n",
    "#    return sampled.reset_index(drop=True)"
   ]
  },
  {
   "cell_type": "code",
   "execution_count": 25,
   "id": "6d931f52-beaf-43ff-9e78-9d44a448d54e",
   "metadata": {
    "execution": {
     "iopub.execute_input": "2025-07-30T13:16:37.171832Z",
     "iopub.status.busy": "2025-07-30T13:16:37.171173Z",
     "iopub.status.idle": "2025-07-30T13:16:37.176021Z",
     "shell.execute_reply": "2025-07-30T13:16:37.175214Z"
    },
    "papermill": {
     "duration": 0.028133,
     "end_time": "2025-07-30T13:16:37.177595",
     "exception": false,
     "start_time": "2025-07-30T13:16:37.149462",
     "status": "completed"
    },
    "tags": []
   },
   "outputs": [],
   "source": [
    "#siab_s = sample_by_year(siab, universe[\"training_size\"])"
   ]
  },
  {
   "cell_type": "code",
   "execution_count": 26,
   "id": "5db0a40e-a4e2-4920-be85-b12ae061d70d",
   "metadata": {
    "execution": {
     "iopub.execute_input": "2025-07-30T13:16:37.220925Z",
     "iopub.status.busy": "2025-07-30T13:16:37.220219Z",
     "iopub.status.idle": "2025-07-30T13:16:37.225247Z",
     "shell.execute_reply": "2025-07-30T13:16:37.224382Z"
    },
    "papermill": {
     "duration": 0.028382,
     "end_time": "2025-07-30T13:16:37.226797",
     "exception": false,
     "start_time": "2025-07-30T13:16:37.198415",
     "status": "completed"
    },
    "tags": []
   },
   "outputs": [],
   "source": [
    "#display(siab_s.groupby(\"year\").size())"
   ]
  },
  {
   "cell_type": "code",
   "execution_count": 27,
   "id": "e6c733c5",
   "metadata": {
    "execution": {
     "iopub.execute_input": "2025-07-30T13:16:37.270336Z",
     "iopub.status.busy": "2025-07-30T13:16:37.269687Z",
     "iopub.status.idle": "2025-07-30T13:16:37.377681Z",
     "shell.execute_reply": "2025-07-30T13:16:37.376785Z"
    },
    "papermill": {
     "duration": 0.131584,
     "end_time": "2025-07-30T13:16:37.379509",
     "exception": false,
     "start_time": "2025-07-30T13:16:37.247925",
     "status": "completed"
    },
    "tags": []
   },
   "outputs": [],
   "source": [
    "# Auxiliary data needed downstream in the pipeline\n",
    "\n",
    "org_train = X_train.copy()\n",
    "org_test = X_test.copy()\n",
    "org_calib = X_calib.copy()"
   ]
  },
  {
   "cell_type": "code",
   "execution_count": 28,
   "id": "1466abac-c6da-4492-a62f-4240ae3783af",
   "metadata": {
    "execution": {
     "iopub.execute_input": "2025-07-30T13:16:37.423184Z",
     "iopub.status.busy": "2025-07-30T13:16:37.422503Z",
     "iopub.status.idle": "2025-07-30T13:16:37.428211Z",
     "shell.execute_reply": "2025-07-30T13:16:37.427365Z"
    },
    "papermill": {
     "duration": 0.029142,
     "end_time": "2025-07-30T13:16:37.429849",
     "exception": false,
     "start_time": "2025-07-30T13:16:37.400707",
     "status": "completed"
    },
    "tags": []
   },
   "outputs": [],
   "source": [
    "# put in other script?\n",
    "# Group sizes\n",
    "\n",
    "#def calculate_percentages(df, df_name):\n",
    "#    total_entries = len(df)\n",
    "#\n",
    "#    female_pct = (df['frau1'] == 1).mean() * 100\n",
    "#    non_german_pct = ((df['maxdeutsch1'] == 0) & (df['maxdeutsch.Missing.'] == 0)).mean() * 100\n",
    "#    non_german_male_pct = ((df['frau1'] == 0) & (df['maxdeutsch1'] == 0) & (df['maxdeutsch.Missing.'] == 0)).mean() * 100\n",
    "#    non_german_female_pct = ((df['frau1'] == 1) & (df['maxdeutsch1'] == 0) & (df['maxdeutsch.Missing.'] == 0)).mean() * 100\n",
    "#\n",
    "#    print(f\"--- {df_name} ---\")\n",
    "#    print(f\"Female: {female_pct:.2f}%\")\n",
    "#    print(f\"Non-German: {non_german_pct:.2f}%\")\n",
    "#    print(f\"Non-German Male: {non_german_male_pct:.2f}%\")\n",
    "#    print(f\"Non-German Female: {non_german_female_pct:.2f}%\\n\")\n",
    "#\n",
    "## Calculate for each DataFrame\n",
    "#calculate_percentages(siab_calib, \"siab_calib\")\n",
    "#calculate_percentages(siab_test, \"siab_test\")\n",
    "#calculate_percentages(siab_train, \"siab_train\")"
   ]
  },
  {
   "cell_type": "markdown",
   "id": "0a4a1b33",
   "metadata": {
    "papermill": {
     "duration": 0.020568,
     "end_time": "2025-07-30T13:16:37.471345",
     "exception": false,
     "start_time": "2025-07-30T13:16:37.450777",
     "status": "completed"
    },
    "tags": []
   },
   "source": [
    "# Preprocessing Data"
   ]
  },
  {
   "cell_type": "code",
   "execution_count": 29,
   "id": "ca879031",
   "metadata": {
    "execution": {
     "iopub.execute_input": "2025-07-30T13:16:37.514687Z",
     "iopub.status.busy": "2025-07-30T13:16:37.514044Z",
     "iopub.status.idle": "2025-07-30T13:16:37.519794Z",
     "shell.execute_reply": "2025-07-30T13:16:37.518997Z"
    },
    "papermill": {
     "duration": 0.029045,
     "end_time": "2025-07-30T13:16:37.521328",
     "exception": false,
     "start_time": "2025-07-30T13:16:37.492283",
     "status": "completed"
    },
    "tags": []
   },
   "outputs": [],
   "source": [
    "# EXCLUDE PROTECTED FEATURES\n",
    "# ----------------------\n",
    "# \"exclude_features\": \"none\", # \"nationality\", \"sex\", \"nationality-sex\"\n",
    "\n",
    "excluded_features = universe[\"exclude_features\"].split(\"-\") # split, e.g.: \"nationality-sex\" -> [\"nationality\", \"sex\"]\n",
    "excluded_features_dictionary = {\n",
    "    \"nationality\": [\"maxdeutsch1\", \"maxdeutsch.Missing.\"],\n",
    "    \"sex\": [\"frau1\"],\n",
    "    \"age\": [\"age\"],\n",
    "}\n"
   ]
  },
  {
   "cell_type": "code",
   "execution_count": 30,
   "id": "b745ac60",
   "metadata": {
    "execution": {
     "iopub.execute_input": "2025-07-30T13:16:37.564533Z",
     "iopub.status.busy": "2025-07-30T13:16:37.563874Z",
     "iopub.status.idle": "2025-07-30T13:16:37.569313Z",
     "shell.execute_reply": "2025-07-30T13:16:37.568490Z"
    },
    "papermill": {
     "duration": 0.028579,
     "end_time": "2025-07-30T13:16:37.570834",
     "exception": false,
     "start_time": "2025-07-30T13:16:37.542255",
     "status": "completed"
    },
    "tags": []
   },
   "outputs": [],
   "source": [
    "# Code nice names to column names\n",
    "\n",
    "excluded_features_columns = [\n",
    "    excluded_features_dictionary[f] for f in excluded_features if len(f) > 0 and f != \"none\"\n",
    "]"
   ]
  },
  {
   "cell_type": "code",
   "execution_count": 31,
   "id": "f84f73a2",
   "metadata": {
    "execution": {
     "iopub.execute_input": "2025-07-30T13:16:37.614714Z",
     "iopub.status.busy": "2025-07-30T13:16:37.614045Z",
     "iopub.status.idle": "2025-07-30T13:16:37.620642Z",
     "shell.execute_reply": "2025-07-30T13:16:37.619815Z"
    },
    "papermill": {
     "duration": 0.029927,
     "end_time": "2025-07-30T13:16:37.622078",
     "exception": false,
     "start_time": "2025-07-30T13:16:37.592151",
     "status": "completed"
    },
    "tags": []
   },
   "outputs": [],
   "source": [
    "from utils import flatten_once\n",
    "\n",
    "excluded_features_columns = flatten_once(excluded_features_columns)"
   ]
  },
  {
   "cell_type": "code",
   "execution_count": 32,
   "id": "884dea22",
   "metadata": {
    "execution": {
     "iopub.execute_input": "2025-07-30T13:16:37.666016Z",
     "iopub.status.busy": "2025-07-30T13:16:37.665364Z",
     "iopub.status.idle": "2025-07-30T13:16:37.680245Z",
     "shell.execute_reply": "2025-07-30T13:16:37.679147Z"
    },
    "papermill": {
     "duration": 0.038486,
     "end_time": "2025-07-30T13:16:37.681848",
     "exception": false,
     "start_time": "2025-07-30T13:16:37.643362",
     "status": "completed"
    },
    "tags": []
   },
   "outputs": [
    {
     "name": "stdout",
     "output_type": "stream",
     "text": [
      "Dropping features: ['maxdeutsch1', 'maxdeutsch.Missing.']\n"
     ]
    }
   ],
   "source": [
    "if len(excluded_features_columns) > 0:\n",
    "    print(f\"Dropping features: {excluded_features_columns}\")\n",
    "    X_train.drop(excluded_features_columns, axis=1, inplace=True)"
   ]
  },
  {
   "cell_type": "code",
   "execution_count": 33,
   "id": "95ab8b16",
   "metadata": {
    "execution": {
     "iopub.execute_input": "2025-07-30T13:16:37.726048Z",
     "iopub.status.busy": "2025-07-30T13:16:37.725383Z",
     "iopub.status.idle": "2025-07-30T13:16:37.778079Z",
     "shell.execute_reply": "2025-07-30T13:16:37.777162Z"
    },
    "papermill": {
     "duration": 0.076421,
     "end_time": "2025-07-30T13:16:37.779684",
     "exception": false,
     "start_time": "2025-07-30T13:16:37.703263",
     "status": "completed"
    },
    "tags": []
   },
   "outputs": [
    {
     "name": "stdout",
     "output_type": "stream",
     "text": [
      "Dropping features: ['maxdeutsch1', 'maxdeutsch.Missing.']\n"
     ]
    }
   ],
   "source": [
    "if len(excluded_features_columns) > 0:\n",
    "    print(f\"Dropping features: {excluded_features_columns}\")\n",
    "    X_test.drop(excluded_features_columns, axis=1, inplace=True)"
   ]
  },
  {
   "cell_type": "code",
   "execution_count": 34,
   "id": "1853aaf5-fb9f-46cb-a2b5-8ea4ae2237e4",
   "metadata": {
    "execution": {
     "iopub.execute_input": "2025-07-30T13:16:37.824424Z",
     "iopub.status.busy": "2025-07-30T13:16:37.823710Z",
     "iopub.status.idle": "2025-07-30T13:16:37.873132Z",
     "shell.execute_reply": "2025-07-30T13:16:37.872155Z"
    },
    "papermill": {
     "duration": 0.074072,
     "end_time": "2025-07-30T13:16:37.875566",
     "exception": false,
     "start_time": "2025-07-30T13:16:37.801494",
     "status": "completed"
    },
    "tags": []
   },
   "outputs": [
    {
     "name": "stdout",
     "output_type": "stream",
     "text": [
      "Dropping features: ['maxdeutsch1', 'maxdeutsch.Missing.']\n"
     ]
    }
   ],
   "source": [
    "if len(excluded_features_columns) > 0:\n",
    "    print(f\"Dropping features: {excluded_features_columns}\")\n",
    "    X_calib.drop(excluded_features_columns, axis=1, inplace=True)"
   ]
  },
  {
   "cell_type": "code",
   "execution_count": 35,
   "id": "6727d079-03e5-481e-9d38-292a90b7a0a8",
   "metadata": {
    "execution": {
     "iopub.execute_input": "2025-07-30T13:16:37.920201Z",
     "iopub.status.busy": "2025-07-30T13:16:37.919548Z",
     "iopub.status.idle": "2025-07-30T13:16:37.924129Z",
     "shell.execute_reply": "2025-07-30T13:16:37.923325Z"
    },
    "papermill": {
     "duration": 0.028266,
     "end_time": "2025-07-30T13:16:37.925569",
     "exception": false,
     "start_time": "2025-07-30T13:16:37.897303",
     "status": "completed"
    },
    "tags": []
   },
   "outputs": [],
   "source": [
    "# SPLIT & STRATIFY DATA\n",
    "# ----------------------"
   ]
  },
  {
   "cell_type": "code",
   "execution_count": 36,
   "id": "76c4dc6d",
   "metadata": {
    "execution": {
     "iopub.execute_input": "2025-07-30T13:16:37.969809Z",
     "iopub.status.busy": "2025-07-30T13:16:37.969163Z",
     "iopub.status.idle": "2025-07-30T13:16:37.974491Z",
     "shell.execute_reply": "2025-07-30T13:16:37.973611Z"
    },
    "papermill": {
     "duration": 0.029512,
     "end_time": "2025-07-30T13:16:37.976909",
     "exception": false,
     "start_time": "2025-07-30T13:16:37.947397",
     "status": "completed"
    },
    "tags": []
   },
   "outputs": [],
   "source": [
    "# EXCLUDE CERTAIN SUBGROUPS\n",
    "# ----------------------\n",
    "\n",
    "mode = universe.get(\"exclude_subgroups\", \"keep-all\") \n",
    "# Fetches the exclude_subgroups setting from the universe dict.\n",
    "# Defaults to \"keep-all\" if the key is missing."
   ]
  },
  {
   "cell_type": "code",
   "execution_count": 37,
   "id": "21994072",
   "metadata": {
    "execution": {
     "iopub.execute_input": "2025-07-30T13:16:38.021136Z",
     "iopub.status.busy": "2025-07-30T13:16:38.020283Z",
     "iopub.status.idle": "2025-07-30T13:16:38.027538Z",
     "shell.execute_reply": "2025-07-30T13:16:38.026395Z"
    },
    "papermill": {
     "duration": 0.030829,
     "end_time": "2025-07-30T13:16:38.029106",
     "exception": false,
     "start_time": "2025-07-30T13:16:37.998277",
     "status": "completed"
    },
    "tags": []
   },
   "outputs": [],
   "source": [
    "if mode == \"keep-all\":\n",
    "    keep_mask = pd.Series(True, index=org_train.index)\n",
    "\n",
    "# org_train contains the original feature columns from features_org (in Simson)\n",
    "# features_org contains unprocessed features, for me X_train at beginning ???\n",
    "# For keep-all, creates a boolean Series (keep_mask) of all True, so no rows are removed.\n",
    "\n",
    "elif mode == \"drop-non-german\":\n",
    "    keep_mask = org_train[\"maxdeutsch1\"] == 1 # ??? what about missing values?\n",
    "\n",
    "else:\n",
    "    raise ValueError(f\"Unsupported mode for exclude_subgroups: {mode}\")\n"
   ]
  },
  {
   "cell_type": "code",
   "execution_count": 38,
   "id": "71651440",
   "metadata": {
    "execution": {
     "iopub.execute_input": "2025-07-30T13:16:38.073764Z",
     "iopub.status.busy": "2025-07-30T13:16:38.073291Z",
     "iopub.status.idle": "2025-07-30T13:16:38.079656Z",
     "shell.execute_reply": "2025-07-30T13:16:38.078823Z"
    },
    "papermill": {
     "duration": 0.03043,
     "end_time": "2025-07-30T13:16:38.081194",
     "exception": false,
     "start_time": "2025-07-30T13:16:38.050764",
     "status": "completed"
    },
    "tags": []
   },
   "outputs": [],
   "source": [
    "n_drop = (~keep_mask).sum() # Calculates how many rows are set to be dropped\n",
    "if n_drop > 0:\n",
    "    pct = n_drop / len(keep_mask) * 100\n",
    "    print(f\"Dropping {n_drop} rows ({pct:.2f}%) where mode='{mode}'\")"
   ]
  },
  {
   "cell_type": "code",
   "execution_count": 39,
   "id": "5fb8eee5",
   "metadata": {
    "execution": {
     "iopub.execute_input": "2025-07-30T13:16:38.125961Z",
     "iopub.status.busy": "2025-07-30T13:16:38.125219Z",
     "iopub.status.idle": "2025-07-30T13:16:38.141293Z",
     "shell.execute_reply": "2025-07-30T13:16:38.140182Z"
    },
    "papermill": {
     "duration": 0.040018,
     "end_time": "2025-07-30T13:16:38.143065",
     "exception": false,
     "start_time": "2025-07-30T13:16:38.103047",
     "status": "completed"
    },
    "tags": []
   },
   "outputs": [],
   "source": [
    "X_train = X_train[keep_mask]"
   ]
  },
  {
   "cell_type": "code",
   "execution_count": 40,
   "id": "b202bb3a",
   "metadata": {
    "execution": {
     "iopub.execute_input": "2025-07-30T13:16:38.188484Z",
     "iopub.status.busy": "2025-07-30T13:16:38.187671Z",
     "iopub.status.idle": "2025-07-30T13:16:38.194316Z",
     "shell.execute_reply": "2025-07-30T13:16:38.193366Z"
    },
    "papermill": {
     "duration": 0.030693,
     "end_time": "2025-07-30T13:16:38.195878",
     "exception": false,
     "start_time": "2025-07-30T13:16:38.165185",
     "status": "completed"
    },
    "tags": []
   },
   "outputs": [],
   "source": [
    "y_train = y_train[keep_mask]"
   ]
  },
  {
   "cell_type": "markdown",
   "id": "493e2ac3",
   "metadata": {
    "papermill": {
     "duration": 0.021023,
     "end_time": "2025-07-30T13:16:38.238315",
     "exception": false,
     "start_time": "2025-07-30T13:16:38.217292",
     "status": "completed"
    },
    "tags": []
   },
   "source": [
    "# Model Training"
   ]
  },
  {
   "cell_type": "code",
   "execution_count": 41,
   "id": "679e1268",
   "metadata": {
    "execution": {
     "iopub.execute_input": "2025-07-30T13:16:38.283015Z",
     "iopub.status.busy": "2025-07-30T13:16:38.282225Z",
     "iopub.status.idle": "2025-07-30T13:16:38.385373Z",
     "shell.execute_reply": "2025-07-30T13:16:38.384493Z"
    },
    "papermill": {
     "duration": 0.127674,
     "end_time": "2025-07-30T13:16:38.387215",
     "exception": false,
     "start_time": "2025-07-30T13:16:38.259541",
     "status": "completed"
    },
    "tags": []
   },
   "outputs": [],
   "source": [
    "from sklearn.linear_model import LogisticRegression\n",
    "from sklearn.ensemble import GradientBoostingClassifier, RandomForestClassifier\n",
    "\n",
    "if (universe[\"model\"] == \"logreg\"):\n",
    "    model = LogisticRegression() #penalty=\"none\") #, solver=\"newton-cg\", max_iter=1) # include random_state=19 ?\n",
    "elif (universe[\"model\"] == \"penalized_logreg\"):\n",
    "    model = LogisticRegression(penalty=\"l2\", C=1.0) #, solver=\"newton-cg\", max_iter=1)\n",
    "elif (universe[\"model\"] == \"rf\"):\n",
    "    model = RandomForestClassifier(n_estimators=100, n_jobs=-1)\n",
    "elif (universe[\"model\"] == \"gbm\"):\n",
    "    model = GradientBoostingClassifier()\n",
    "elif (universe[\"model\"] == \"elasticnet\"):\n",
    "    model = LogisticRegression(penalty = 'elasticnet', solver = 'saga', l1_ratio = 0.5, max_iter=5000) # which solver to use?\n",
    "else:\n",
    "    raise \"Unsupported universe.model\""
   ]
  },
  {
   "cell_type": "code",
   "execution_count": 42,
   "id": "0cc8f744",
   "metadata": {
    "execution": {
     "iopub.execute_input": "2025-07-30T13:16:38.437766Z",
     "iopub.status.busy": "2025-07-30T13:16:38.437282Z",
     "iopub.status.idle": "2025-07-30T13:16:38.444015Z",
     "shell.execute_reply": "2025-07-30T13:16:38.443143Z"
    },
    "papermill": {
     "duration": 0.03383,
     "end_time": "2025-07-30T13:16:38.445678",
     "exception": false,
     "start_time": "2025-07-30T13:16:38.411848",
     "status": "completed"
    },
    "tags": []
   },
   "outputs": [],
   "source": [
    "import numpy as np\n",
    "from sklearn.pipeline import Pipeline\n",
    "from sklearn.preprocessing import StandardScaler\n",
    "\n",
    "model = Pipeline([\n",
    "    #(\"continuous_processor\", continuous_processor),\n",
    "    #(\"categorical_preprocessor\", categorical_preprocessor),\n",
    "    (\"scale\", StandardScaler() if universe[\"scale\"] == \"scale\" else None), \n",
    "    (\"model\", model),\n",
    "])"
   ]
  },
  {
   "cell_type": "code",
   "execution_count": 43,
   "id": "9442c04d",
   "metadata": {
    "execution": {
     "iopub.execute_input": "2025-07-30T13:16:38.497354Z",
     "iopub.status.busy": "2025-07-30T13:16:38.496708Z",
     "iopub.status.idle": "2025-07-30T13:20:06.658039Z",
     "shell.execute_reply": "2025-07-30T13:20:06.656993Z"
    },
    "papermill": {
     "duration": 208.211454,
     "end_time": "2025-07-30T13:20:06.681914",
     "exception": false,
     "start_time": "2025-07-30T13:16:38.470460",
     "status": "completed"
    },
    "tags": []
   },
   "outputs": [
    {
     "data": {
      "text/html": [
       "<style>#sk-container-id-1 {color: black;background-color: white;}#sk-container-id-1 pre{padding: 0;}#sk-container-id-1 div.sk-toggleable {background-color: white;}#sk-container-id-1 label.sk-toggleable__label {cursor: pointer;display: block;width: 100%;margin-bottom: 0;padding: 0.3em;box-sizing: border-box;text-align: center;}#sk-container-id-1 label.sk-toggleable__label-arrow:before {content: \"▸\";float: left;margin-right: 0.25em;color: #696969;}#sk-container-id-1 label.sk-toggleable__label-arrow:hover:before {color: black;}#sk-container-id-1 div.sk-estimator:hover label.sk-toggleable__label-arrow:before {color: black;}#sk-container-id-1 div.sk-toggleable__content {max-height: 0;max-width: 0;overflow: hidden;text-align: left;background-color: #f0f8ff;}#sk-container-id-1 div.sk-toggleable__content pre {margin: 0.2em;color: black;border-radius: 0.25em;background-color: #f0f8ff;}#sk-container-id-1 input.sk-toggleable__control:checked~div.sk-toggleable__content {max-height: 200px;max-width: 100%;overflow: auto;}#sk-container-id-1 input.sk-toggleable__control:checked~label.sk-toggleable__label-arrow:before {content: \"▾\";}#sk-container-id-1 div.sk-estimator input.sk-toggleable__control:checked~label.sk-toggleable__label {background-color: #d4ebff;}#sk-container-id-1 div.sk-label input.sk-toggleable__control:checked~label.sk-toggleable__label {background-color: #d4ebff;}#sk-container-id-1 input.sk-hidden--visually {border: 0;clip: rect(1px 1px 1px 1px);clip: rect(1px, 1px, 1px, 1px);height: 1px;margin: -1px;overflow: hidden;padding: 0;position: absolute;width: 1px;}#sk-container-id-1 div.sk-estimator {font-family: monospace;background-color: #f0f8ff;border: 1px dotted black;border-radius: 0.25em;box-sizing: border-box;margin-bottom: 0.5em;}#sk-container-id-1 div.sk-estimator:hover {background-color: #d4ebff;}#sk-container-id-1 div.sk-parallel-item::after {content: \"\";width: 100%;border-bottom: 1px solid gray;flex-grow: 1;}#sk-container-id-1 div.sk-label:hover label.sk-toggleable__label {background-color: #d4ebff;}#sk-container-id-1 div.sk-serial::before {content: \"\";position: absolute;border-left: 1px solid gray;box-sizing: border-box;top: 0;bottom: 0;left: 50%;z-index: 0;}#sk-container-id-1 div.sk-serial {display: flex;flex-direction: column;align-items: center;background-color: white;padding-right: 0.2em;padding-left: 0.2em;position: relative;}#sk-container-id-1 div.sk-item {position: relative;z-index: 1;}#sk-container-id-1 div.sk-parallel {display: flex;align-items: stretch;justify-content: center;background-color: white;position: relative;}#sk-container-id-1 div.sk-item::before, #sk-container-id-1 div.sk-parallel-item::before {content: \"\";position: absolute;border-left: 1px solid gray;box-sizing: border-box;top: 0;bottom: 0;left: 50%;z-index: -1;}#sk-container-id-1 div.sk-parallel-item {display: flex;flex-direction: column;z-index: 1;position: relative;background-color: white;}#sk-container-id-1 div.sk-parallel-item:first-child::after {align-self: flex-end;width: 50%;}#sk-container-id-1 div.sk-parallel-item:last-child::after {align-self: flex-start;width: 50%;}#sk-container-id-1 div.sk-parallel-item:only-child::after {width: 0;}#sk-container-id-1 div.sk-dashed-wrapped {border: 1px dashed gray;margin: 0 0.4em 0.5em 0.4em;box-sizing: border-box;padding-bottom: 0.4em;background-color: white;}#sk-container-id-1 div.sk-label label {font-family: monospace;font-weight: bold;display: inline-block;line-height: 1.2em;}#sk-container-id-1 div.sk-label-container {text-align: center;}#sk-container-id-1 div.sk-container {/* jupyter's `normalize.less` sets `[hidden] { display: none; }` but bootstrap.min.css set `[hidden] { display: none !important; }` so we also need the `!important` here to be able to override the default hidden behavior on the sphinx rendered scikit-learn.org. See: https://github.com/scikit-learn/scikit-learn/issues/21755 */display: inline-block !important;position: relative;}#sk-container-id-1 div.sk-text-repr-fallback {display: none;}</style><div id=\"sk-container-id-1\" class=\"sk-top-container\"><div class=\"sk-text-repr-fallback\"><pre>Pipeline(steps=[(&#x27;scale&#x27;, None),\n",
       "                (&#x27;model&#x27;,\n",
       "                 LogisticRegression(l1_ratio=0.5, max_iter=5000,\n",
       "                                    penalty=&#x27;elasticnet&#x27;, solver=&#x27;saga&#x27;))])</pre><b>In a Jupyter environment, please rerun this cell to show the HTML representation or trust the notebook. <br />On GitHub, the HTML representation is unable to render, please try loading this page with nbviewer.org.</b></div><div class=\"sk-container\" hidden><div class=\"sk-item sk-dashed-wrapped\"><div class=\"sk-label-container\"><div class=\"sk-label sk-toggleable\"><input class=\"sk-toggleable__control sk-hidden--visually\" id=\"sk-estimator-id-1\" type=\"checkbox\" ><label for=\"sk-estimator-id-1\" class=\"sk-toggleable__label sk-toggleable__label-arrow\">Pipeline</label><div class=\"sk-toggleable__content\"><pre>Pipeline(steps=[(&#x27;scale&#x27;, None),\n",
       "                (&#x27;model&#x27;,\n",
       "                 LogisticRegression(l1_ratio=0.5, max_iter=5000,\n",
       "                                    penalty=&#x27;elasticnet&#x27;, solver=&#x27;saga&#x27;))])</pre></div></div></div><div class=\"sk-serial\"><div class=\"sk-item\"><div class=\"sk-estimator sk-toggleable\"><input class=\"sk-toggleable__control sk-hidden--visually\" id=\"sk-estimator-id-2\" type=\"checkbox\" ><label for=\"sk-estimator-id-2\" class=\"sk-toggleable__label sk-toggleable__label-arrow\">None</label><div class=\"sk-toggleable__content\"><pre>None</pre></div></div></div><div class=\"sk-item\"><div class=\"sk-estimator sk-toggleable\"><input class=\"sk-toggleable__control sk-hidden--visually\" id=\"sk-estimator-id-3\" type=\"checkbox\" ><label for=\"sk-estimator-id-3\" class=\"sk-toggleable__label sk-toggleable__label-arrow\">LogisticRegression</label><div class=\"sk-toggleable__content\"><pre>LogisticRegression(l1_ratio=0.5, max_iter=5000, penalty=&#x27;elasticnet&#x27;,\n",
       "                   solver=&#x27;saga&#x27;)</pre></div></div></div></div></div></div></div>"
      ],
      "text/plain": [
       "Pipeline(steps=[('scale', None),\n",
       "                ('model',\n",
       "                 LogisticRegression(l1_ratio=0.5, max_iter=5000,\n",
       "                                    penalty='elasticnet', solver='saga'))])"
      ]
     },
     "execution_count": 43,
     "metadata": {},
     "output_type": "execute_result"
    }
   ],
   "source": [
    "model.fit(X_train, y_train.values.ravel())"
   ]
  },
  {
   "cell_type": "code",
   "execution_count": 44,
   "id": "af59f8c0",
   "metadata": {
    "execution": {
     "iopub.execute_input": "2025-07-30T13:20:06.727389Z",
     "iopub.status.busy": "2025-07-30T13:20:06.726686Z",
     "iopub.status.idle": "2025-07-30T13:20:06.732439Z",
     "shell.execute_reply": "2025-07-30T13:20:06.731497Z"
    },
    "papermill": {
     "duration": 0.030498,
     "end_time": "2025-07-30T13:20:06.733988",
     "exception": false,
     "start_time": "2025-07-30T13:20:06.703490",
     "status": "completed"
    },
    "tags": []
   },
   "outputs": [],
   "source": [
    "from fairness_multiverse.universe import predict_w_threshold"
   ]
  },
  {
   "cell_type": "code",
   "execution_count": 45,
   "id": "a7cf2e16",
   "metadata": {
    "execution": {
     "iopub.execute_input": "2025-07-30T13:20:06.779930Z",
     "iopub.status.busy": "2025-07-30T13:20:06.779292Z",
     "iopub.status.idle": "2025-07-30T13:20:06.879317Z",
     "shell.execute_reply": "2025-07-30T13:20:06.878449Z"
    },
    "papermill": {
     "duration": 0.124677,
     "end_time": "2025-07-30T13:20:06.881019",
     "exception": false,
     "start_time": "2025-07-30T13:20:06.756342",
     "status": "completed"
    },
    "tags": []
   },
   "outputs": [
    {
     "data": {
      "text/plain": [
       "0.854364061977483"
      ]
     },
     "execution_count": 45,
     "metadata": {},
     "output_type": "execute_result"
    }
   ],
   "source": [
    "probs_test = model.predict_proba(X_test)\n",
    "\n",
    "'''\n",
    "Below code returns a boolean array (or binary 0/1 array depending on how it’s used) where each element \n",
    "is True if the probability of class 1 is greater than or equal to the threshold, and False otherwise.\n",
    "'''\n",
    "y_pred_default = predict_w_threshold(probs_test, 0.5)\n",
    "\n",
    "from sklearn.metrics import accuracy_score\n",
    "\n",
    "# Naive prediction\n",
    "accuracy_score(y_true = y_true, y_pred = y_pred_default)"
   ]
  },
  {
   "cell_type": "code",
   "execution_count": 46,
   "id": "081964c3",
   "metadata": {
    "execution": {
     "iopub.execute_input": "2025-07-30T13:20:06.926869Z",
     "iopub.status.busy": "2025-07-30T13:20:06.926185Z",
     "iopub.status.idle": "2025-07-30T13:20:07.006091Z",
     "shell.execute_reply": "2025-07-30T13:20:07.005220Z"
    },
    "papermill": {
     "duration": 0.104249,
     "end_time": "2025-07-30T13:20:07.007660",
     "exception": false,
     "start_time": "2025-07-30T13:20:06.903411",
     "status": "completed"
    },
    "tags": []
   },
   "outputs": [
    {
     "data": {
      "text/plain": [
       "array([0, 0, 0, ..., 0, 0, 0])"
      ]
     },
     "execution_count": 46,
     "metadata": {},
     "output_type": "execute_result"
    }
   ],
   "source": [
    "model.predict(X_test)"
   ]
  },
  {
   "cell_type": "markdown",
   "id": "56c9705b",
   "metadata": {
    "papermill": {
     "duration": 0.025424,
     "end_time": "2025-07-30T13:20:07.055997",
     "exception": false,
     "start_time": "2025-07-30T13:20:07.030573",
     "status": "completed"
    },
    "tags": []
   },
   "source": [
    "# Conformal Prediction"
   ]
  },
  {
   "cell_type": "code",
   "execution_count": 47,
   "id": "160ec6ff",
   "metadata": {
    "execution": {
     "iopub.execute_input": "2025-07-30T13:20:07.102942Z",
     "iopub.status.busy": "2025-07-30T13:20:07.102302Z",
     "iopub.status.idle": "2025-07-30T13:20:07.107360Z",
     "shell.execute_reply": "2025-07-30T13:20:07.106555Z"
    },
    "papermill": {
     "duration": 0.030105,
     "end_time": "2025-07-30T13:20:07.108918",
     "exception": false,
     "start_time": "2025-07-30T13:20:07.078813",
     "status": "completed"
    },
    "tags": []
   },
   "outputs": [],
   "source": [
    "# Miscoverage level for conformal prediction (10% allowed error rate => 90% target coverage)\n",
    "alpha = 0.1"
   ]
  },
  {
   "cell_type": "code",
   "execution_count": 48,
   "id": "eadf4555-3dd3-440e-8e35-f82a4ad9f855",
   "metadata": {
    "execution": {
     "iopub.execute_input": "2025-07-30T13:20:07.155416Z",
     "iopub.status.busy": "2025-07-30T13:20:07.154742Z",
     "iopub.status.idle": "2025-07-30T13:20:07.237396Z",
     "shell.execute_reply": "2025-07-30T13:20:07.236483Z"
    },
    "papermill": {
     "duration": 0.107851,
     "end_time": "2025-07-30T13:20:07.239267",
     "exception": false,
     "start_time": "2025-07-30T13:20:07.131416",
     "status": "completed"
    },
    "tags": []
   },
   "outputs": [],
   "source": [
    "probs_calib = model.predict_proba(X_calib)"
   ]
  },
  {
   "cell_type": "code",
   "execution_count": 49,
   "id": "2ed93547-6d5d-4983-9b36-1ecb300da49a",
   "metadata": {
    "execution": {
     "iopub.execute_input": "2025-07-30T13:20:07.285782Z",
     "iopub.status.busy": "2025-07-30T13:20:07.285140Z",
     "iopub.status.idle": "2025-07-30T13:20:07.290975Z",
     "shell.execute_reply": "2025-07-30T13:20:07.290115Z"
    },
    "papermill": {
     "duration": 0.030716,
     "end_time": "2025-07-30T13:20:07.292591",
     "exception": false,
     "start_time": "2025-07-30T13:20:07.261875",
     "status": "completed"
    },
    "tags": []
   },
   "outputs": [],
   "source": [
    "y_calib = y_calib.values.ravel().astype(int)"
   ]
  },
  {
   "cell_type": "code",
   "execution_count": 50,
   "id": "65d1320d-f588-4b38-9072-62af1ae97f7d",
   "metadata": {
    "execution": {
     "iopub.execute_input": "2025-07-30T13:20:07.339036Z",
     "iopub.status.busy": "2025-07-30T13:20:07.338356Z",
     "iopub.status.idle": "2025-07-30T13:20:07.347267Z",
     "shell.execute_reply": "2025-07-30T13:20:07.346483Z"
    },
    "papermill": {
     "duration": 0.033836,
     "end_time": "2025-07-30T13:20:07.348882",
     "exception": false,
     "start_time": "2025-07-30T13:20:07.315046",
     "status": "completed"
    },
    "tags": []
   },
   "outputs": [],
   "source": [
    "from fairness_multiverse.conformal import compute_nc_scores\n",
    "\n",
    "# Compute nonconformity scores on calibration set (1 - probability of true class)\n",
    "nc_scores = compute_nc_scores(probs_calib, y_calib)"
   ]
  },
  {
   "cell_type": "code",
   "execution_count": 51,
   "id": "df3b8ca3-53b7-43d5-9667-7c85da7aeda2",
   "metadata": {
    "execution": {
     "iopub.execute_input": "2025-07-30T13:20:07.396143Z",
     "iopub.status.busy": "2025-07-30T13:20:07.395493Z",
     "iopub.status.idle": "2025-07-30T13:20:07.402321Z",
     "shell.execute_reply": "2025-07-30T13:20:07.401473Z"
    },
    "papermill": {
     "duration": 0.031927,
     "end_time": "2025-07-30T13:20:07.403750",
     "exception": false,
     "start_time": "2025-07-30T13:20:07.371823",
     "status": "completed"
    },
    "tags": []
   },
   "outputs": [],
   "source": [
    "from fairness_multiverse.conformal import find_threshold\n",
    "\n",
    "# Find conformal threshold q_hat for the given alpha (split conformal method)\n",
    "q_hat = find_threshold(nc_scores, alpha)"
   ]
  },
  {
   "cell_type": "code",
   "execution_count": 52,
   "id": "4d29e6c1-0ef6-4aa4-b8fe-4fe79b0d033a",
   "metadata": {
    "execution": {
     "iopub.execute_input": "2025-07-30T13:20:07.450639Z",
     "iopub.status.busy": "2025-07-30T13:20:07.449986Z",
     "iopub.status.idle": "2025-07-30T13:20:07.457066Z",
     "shell.execute_reply": "2025-07-30T13:20:07.456178Z"
    },
    "papermill": {
     "duration": 0.031953,
     "end_time": "2025-07-30T13:20:07.458508",
     "exception": false,
     "start_time": "2025-07-30T13:20:07.426555",
     "status": "completed"
    },
    "tags": []
   },
   "outputs": [
    {
     "data": {
      "text/plain": [
       "0.6844136588632683"
      ]
     },
     "execution_count": 52,
     "metadata": {},
     "output_type": "execute_result"
    }
   ],
   "source": [
    "q_hat"
   ]
  },
  {
   "cell_type": "code",
   "execution_count": 53,
   "id": "92460794-cdac-4be2-ba28-f28c0515a6fb",
   "metadata": {
    "execution": {
     "iopub.execute_input": "2025-07-30T13:20:07.505796Z",
     "iopub.status.busy": "2025-07-30T13:20:07.505157Z",
     "iopub.status.idle": "2025-07-30T13:20:08.256814Z",
     "shell.execute_reply": "2025-07-30T13:20:08.255834Z"
    },
    "papermill": {
     "duration": 0.776962,
     "end_time": "2025-07-30T13:20:08.258578",
     "exception": false,
     "start_time": "2025-07-30T13:20:07.481616",
     "status": "completed"
    },
    "tags": []
   },
   "outputs": [],
   "source": [
    "from fairness_multiverse.conformal import predict_conformal_sets\n",
    "\n",
    "# Generate prediction sets for each test example\n",
    "pred_sets = predict_conformal_sets(model, X_test, q_hat)"
   ]
  },
  {
   "cell_type": "code",
   "execution_count": 54,
   "id": "d90c9a65-e6db-4f5d-80cd-e68fb7e46829",
   "metadata": {
    "execution": {
     "iopub.execute_input": "2025-07-30T13:20:08.306420Z",
     "iopub.status.busy": "2025-07-30T13:20:08.305757Z",
     "iopub.status.idle": "2025-07-30T13:20:08.311220Z",
     "shell.execute_reply": "2025-07-30T13:20:08.310358Z"
    },
    "papermill": {
     "duration": 0.030752,
     "end_time": "2025-07-30T13:20:08.312854",
     "exception": false,
     "start_time": "2025-07-30T13:20:08.282102",
     "status": "completed"
    },
    "tags": []
   },
   "outputs": [],
   "source": [
    "y_true = y_true.squeeze()"
   ]
  },
  {
   "cell_type": "code",
   "execution_count": 55,
   "id": "3a58a54a-1e68-46b9-927a-df01f18aebc8",
   "metadata": {
    "execution": {
     "iopub.execute_input": "2025-07-30T13:20:08.360569Z",
     "iopub.status.busy": "2025-07-30T13:20:08.359915Z",
     "iopub.status.idle": "2025-07-30T13:20:09.217473Z",
     "shell.execute_reply": "2025-07-30T13:20:09.216589Z"
    },
    "papermill": {
     "duration": 0.88337,
     "end_time": "2025-07-30T13:20:09.219300",
     "exception": false,
     "start_time": "2025-07-30T13:20:08.335930",
     "status": "completed"
    },
    "tags": []
   },
   "outputs": [],
   "source": [
    "from fairness_multiverse.conformal import evaluate_sets\n",
    "\n",
    "# Evaluate coverage and average set size on test data\n",
    "metrics = evaluate_sets(pred_sets, y_true)"
   ]
  },
  {
   "cell_type": "markdown",
   "id": "2b569c12-9aaa-4c88-98c9-bbcd0cf3ebb8",
   "metadata": {
    "papermill": {
     "duration": 0.022842,
     "end_time": "2025-07-30T13:20:09.265822",
     "exception": false,
     "start_time": "2025-07-30T13:20:09.242980",
     "status": "completed"
    },
    "tags": []
   },
   "source": [
    "# CP Metrics"
   ]
  },
  {
   "cell_type": "code",
   "execution_count": 56,
   "id": "5ce0a5cb-201f-45a0-ade5-94c7f0bd6095",
   "metadata": {
    "execution": {
     "iopub.execute_input": "2025-07-30T13:20:09.313089Z",
     "iopub.status.busy": "2025-07-30T13:20:09.312414Z",
     "iopub.status.idle": "2025-07-30T13:20:09.319641Z",
     "shell.execute_reply": "2025-07-30T13:20:09.318807Z"
    },
    "papermill": {
     "duration": 0.032644,
     "end_time": "2025-07-30T13:20:09.321199",
     "exception": false,
     "start_time": "2025-07-30T13:20:09.288555",
     "status": "completed"
    },
    "tags": []
   },
   "outputs": [
    {
     "data": {
      "text/plain": [
       "{'coverage': 0.9094861219485008, 'avg_size': 1.1324935904581428}"
      ]
     },
     "execution_count": 56,
     "metadata": {},
     "output_type": "execute_result"
    }
   ],
   "source": [
    "metrics"
   ]
  },
  {
   "cell_type": "code",
   "execution_count": 57,
   "id": "9b9a838d-31c9-430b-ae14-12baee460d17",
   "metadata": {
    "execution": {
     "iopub.execute_input": "2025-07-30T13:20:09.369130Z",
     "iopub.status.busy": "2025-07-30T13:20:09.368488Z",
     "iopub.status.idle": "2025-07-30T13:20:09.374667Z",
     "shell.execute_reply": "2025-07-30T13:20:09.373820Z"
    },
    "papermill": {
     "duration": 0.031854,
     "end_time": "2025-07-30T13:20:09.376269",
     "exception": false,
     "start_time": "2025-07-30T13:20:09.344415",
     "status": "completed"
    },
    "tags": []
   },
   "outputs": [],
   "source": [
    "example_universe = universe.copy()\n",
    "universe_training_size = example_universe.get(\"training_size\")\n",
    "universe_scale = example_universe.get(\"scale\")\n",
    "universe_model = example_universe.get(\"model\")\n",
    "universe_exclude_features = example_universe.get(\"exclude_features\")\n",
    "universe_exclude_subgroups = example_universe.get(\"exclude_subgroups\")"
   ]
  },
  {
   "cell_type": "code",
   "execution_count": 58,
   "id": "f4b6a8ac-9dc0-4245-8a91-5b3b5999c4f9",
   "metadata": {
    "execution": {
     "iopub.execute_input": "2025-07-30T13:20:09.424236Z",
     "iopub.status.busy": "2025-07-30T13:20:09.423568Z",
     "iopub.status.idle": "2025-07-30T13:20:09.429761Z",
     "shell.execute_reply": "2025-07-30T13:20:09.428901Z"
    },
    "papermill": {
     "duration": 0.031844,
     "end_time": "2025-07-30T13:20:09.431363",
     "exception": false,
     "start_time": "2025-07-30T13:20:09.399519",
     "status": "completed"
    },
    "tags": []
   },
   "outputs": [],
   "source": [
    "cp_metrics_dict = {\n",
    "    \"universe_id\": [universe_id],\n",
    "    \"universe_training_size\": [universe_training_size],\n",
    "    \"universe_scale\": [universe_scale],\n",
    "    \"universe_model\": [universe_model],\n",
    "    \"universe_exclude_features\": [universe_exclude_features],\n",
    "    \"universe_exclude_subgroups\": [universe_exclude_subgroups],\n",
    "    \"q_hat\": [q_hat],\n",
    "    \"coverage\": [metrics[\"coverage\"]],\n",
    "    \"avg_size\": [metrics[\"avg_size\"]],\n",
    "}"
   ]
  },
  {
   "cell_type": "code",
   "execution_count": 59,
   "id": "908acbb1-0371-4915-85ca-3fa520d2efe2",
   "metadata": {
    "execution": {
     "iopub.execute_input": "2025-07-30T13:20:09.479795Z",
     "iopub.status.busy": "2025-07-30T13:20:09.479152Z",
     "iopub.status.idle": "2025-07-30T13:20:09.486391Z",
     "shell.execute_reply": "2025-07-30T13:20:09.485483Z"
    },
    "papermill": {
     "duration": 0.032717,
     "end_time": "2025-07-30T13:20:09.487780",
     "exception": false,
     "start_time": "2025-07-30T13:20:09.455063",
     "status": "completed"
    },
    "tags": []
   },
   "outputs": [
    {
     "data": {
      "text/plain": [
       "{'universe_id': ['5837ff14c57c17ab63149c10727dcb0e'],\n",
       " 'universe_training_size': ['25k'],\n",
       " 'universe_scale': ['do-not-scale'],\n",
       " 'universe_model': ['elasticnet'],\n",
       " 'universe_exclude_features': ['nationality'],\n",
       " 'universe_exclude_subgroups': ['keep-all'],\n",
       " 'q_hat': [0.6844136588632683],\n",
       " 'coverage': [0.9094861219485008],\n",
       " 'avg_size': [1.1324935904581428]}"
      ]
     },
     "execution_count": 59,
     "metadata": {},
     "output_type": "execute_result"
    }
   ],
   "source": [
    "cp_metrics_dict"
   ]
  },
  {
   "cell_type": "code",
   "execution_count": 60,
   "id": "33007efc-14e9-4ec6-97ac-56a455c82265",
   "metadata": {
    "execution": {
     "iopub.execute_input": "2025-07-30T13:20:09.536494Z",
     "iopub.status.busy": "2025-07-30T13:20:09.535787Z",
     "iopub.status.idle": "2025-07-30T13:20:09.542312Z",
     "shell.execute_reply": "2025-07-30T13:20:09.541428Z"
    },
    "papermill": {
     "duration": 0.032279,
     "end_time": "2025-07-30T13:20:09.543810",
     "exception": false,
     "start_time": "2025-07-30T13:20:09.511531",
     "status": "completed"
    },
    "tags": []
   },
   "outputs": [],
   "source": [
    "cp_metrics_df = pd.DataFrame(cp_metrics_dict)"
   ]
  },
  {
   "cell_type": "code",
   "execution_count": 61,
   "id": "db12611b-57b2-4910-b9d0-355adfd6e7bf",
   "metadata": {
    "execution": {
     "iopub.execute_input": "2025-07-30T13:20:09.592676Z",
     "iopub.status.busy": "2025-07-30T13:20:09.592004Z",
     "iopub.status.idle": "2025-07-30T13:20:09.609216Z",
     "shell.execute_reply": "2025-07-30T13:20:09.608384Z"
    },
    "papermill": {
     "duration": 0.042838,
     "end_time": "2025-07-30T13:20:09.610680",
     "exception": false,
     "start_time": "2025-07-30T13:20:09.567842",
     "status": "completed"
    },
    "tags": []
   },
   "outputs": [
    {
     "data": {
      "text/html": [
       "<div>\n",
       "<style scoped>\n",
       "    .dataframe tbody tr th:only-of-type {\n",
       "        vertical-align: middle;\n",
       "    }\n",
       "\n",
       "    .dataframe tbody tr th {\n",
       "        vertical-align: top;\n",
       "    }\n",
       "\n",
       "    .dataframe thead th {\n",
       "        text-align: right;\n",
       "    }\n",
       "</style>\n",
       "<table border=\"1\" class=\"dataframe\">\n",
       "  <thead>\n",
       "    <tr style=\"text-align: right;\">\n",
       "      <th></th>\n",
       "      <th>universe_id</th>\n",
       "      <th>universe_training_size</th>\n",
       "      <th>universe_scale</th>\n",
       "      <th>universe_model</th>\n",
       "      <th>universe_exclude_features</th>\n",
       "      <th>universe_exclude_subgroups</th>\n",
       "      <th>q_hat</th>\n",
       "      <th>coverage</th>\n",
       "      <th>avg_size</th>\n",
       "    </tr>\n",
       "  </thead>\n",
       "  <tbody>\n",
       "    <tr>\n",
       "      <th>0</th>\n",
       "      <td>5837ff14c57c17ab63149c10727dcb0e</td>\n",
       "      <td>25k</td>\n",
       "      <td>do-not-scale</td>\n",
       "      <td>elasticnet</td>\n",
       "      <td>nationality</td>\n",
       "      <td>keep-all</td>\n",
       "      <td>0.684414</td>\n",
       "      <td>0.909486</td>\n",
       "      <td>1.132494</td>\n",
       "    </tr>\n",
       "  </tbody>\n",
       "</table>\n",
       "</div>"
      ],
      "text/plain": [
       "                        universe_id universe_training_size universe_scale  \\\n",
       "0  5837ff14c57c17ab63149c10727dcb0e                    25k   do-not-scale   \n",
       "\n",
       "  universe_model universe_exclude_features universe_exclude_subgroups  \\\n",
       "0     elasticnet               nationality                   keep-all   \n",
       "\n",
       "      q_hat  coverage  avg_size  \n",
       "0  0.684414  0.909486  1.132494  "
      ]
     },
     "execution_count": 61,
     "metadata": {},
     "output_type": "execute_result"
    }
   ],
   "source": [
    "cp_metrics_df"
   ]
  },
  {
   "cell_type": "code",
   "execution_count": 62,
   "id": "b7fbde55-a0a1-47e4-9af6-fe4a17fa8c61",
   "metadata": {
    "execution": {
     "iopub.execute_input": "2025-07-30T13:20:09.660242Z",
     "iopub.status.busy": "2025-07-30T13:20:09.659593Z",
     "iopub.status.idle": "2025-07-30T13:20:09.664742Z",
     "shell.execute_reply": "2025-07-30T13:20:09.663836Z"
    },
    "papermill": {
     "duration": 0.03116,
     "end_time": "2025-07-30T13:20:09.666244",
     "exception": false,
     "start_time": "2025-07-30T13:20:09.635084",
     "status": "completed"
    },
    "tags": []
   },
   "outputs": [],
   "source": [
    "# Conditional Coverage & looking at subgroups"
   ]
  },
  {
   "cell_type": "code",
   "execution_count": 63,
   "id": "027ae886-68dd-4141-96c7-805a5450e1ef",
   "metadata": {
    "execution": {
     "iopub.execute_input": "2025-07-30T13:20:09.715524Z",
     "iopub.status.busy": "2025-07-30T13:20:09.714868Z",
     "iopub.status.idle": "2025-07-30T13:20:09.968014Z",
     "shell.execute_reply": "2025-07-30T13:20:09.967112Z"
    },
    "papermill": {
     "duration": 0.279568,
     "end_time": "2025-07-30T13:20:09.969903",
     "exception": false,
     "start_time": "2025-07-30T13:20:09.690335",
     "status": "completed"
    },
    "tags": []
   },
   "outputs": [],
   "source": [
    "from fairness_multiverse.conformal import build_cp_groups\n",
    "\n",
    "cp_groups_df = build_cp_groups(pred_sets, y_true, X_test.index, org_test)\n",
    "#needs universe_id and setting"
   ]
  },
  {
   "cell_type": "code",
   "execution_count": 64,
   "id": "01d5802c-663a-4d1f-9d69-e036faaffbf7",
   "metadata": {
    "execution": {
     "iopub.execute_input": "2025-07-30T13:20:10.019653Z",
     "iopub.status.busy": "2025-07-30T13:20:10.019004Z",
     "iopub.status.idle": "2025-07-30T13:20:10.023894Z",
     "shell.execute_reply": "2025-07-30T13:20:10.023049Z"
    },
    "papermill": {
     "duration": 0.031453,
     "end_time": "2025-07-30T13:20:10.025465",
     "exception": false,
     "start_time": "2025-07-30T13:20:09.994012",
     "status": "completed"
    },
    "tags": []
   },
   "outputs": [],
   "source": [
    "#delete\n",
    "#cp_groups_df"
   ]
  },
  {
   "cell_type": "code",
   "execution_count": 65,
   "id": "fa424af1-d1eb-443d-b717-2d279ada8408",
   "metadata": {
    "execution": {
     "iopub.execute_input": "2025-07-30T13:20:10.075119Z",
     "iopub.status.busy": "2025-07-30T13:20:10.074469Z",
     "iopub.status.idle": "2025-07-30T13:20:10.079373Z",
     "shell.execute_reply": "2025-07-30T13:20:10.078556Z"
    },
    "papermill": {
     "duration": 0.031393,
     "end_time": "2025-07-30T13:20:10.080981",
     "exception": false,
     "start_time": "2025-07-30T13:20:10.049588",
     "status": "completed"
    },
    "tags": []
   },
   "outputs": [],
   "source": [
    "#delete\n",
    "#percentage = (cp_groups_df['nongerman_female'] == 1).mean() * 100\n",
    "#print(percentage)\n"
   ]
  },
  {
   "cell_type": "code",
   "execution_count": 66,
   "id": "6cbdab96-b2b2-45af-ad54-d0516db2e28d",
   "metadata": {
    "execution": {
     "iopub.execute_input": "2025-07-30T13:20:10.131260Z",
     "iopub.status.busy": "2025-07-30T13:20:10.130620Z",
     "iopub.status.idle": "2025-07-30T13:20:11.628995Z",
     "shell.execute_reply": "2025-07-30T13:20:11.628084Z"
    },
    "papermill": {
     "duration": 1.5252,
     "end_time": "2025-07-30T13:20:11.630748",
     "exception": false,
     "start_time": "2025-07-30T13:20:10.105548",
     "status": "completed"
    },
    "tags": []
   },
   "outputs": [],
   "source": [
    "# Define covered = 1 if true_label is in the predicted set\n",
    "cp_groups_df['covered'] = cp_groups_df.apply(\n",
    "    lambda r: int(r['true_label'] in r['pred_set']),\n",
    "    axis=1\n",
    ")"
   ]
  },
  {
   "cell_type": "code",
   "execution_count": 67,
   "id": "338ff529-1a6b-4b87-a931-8e4788d52aad",
   "metadata": {
    "execution": {
     "iopub.execute_input": "2025-07-30T13:20:11.682262Z",
     "iopub.status.busy": "2025-07-30T13:20:11.681625Z",
     "iopub.status.idle": "2025-07-30T13:20:11.686559Z",
     "shell.execute_reply": "2025-07-30T13:20:11.685713Z"
    },
    "papermill": {
     "duration": 0.031205,
     "end_time": "2025-07-30T13:20:11.687973",
     "exception": false,
     "start_time": "2025-07-30T13:20:11.656768",
     "status": "completed"
    },
    "tags": []
   },
   "outputs": [],
   "source": [
    "#cp_groups_df"
   ]
  },
  {
   "cell_type": "code",
   "execution_count": 68,
   "id": "90032e27-66df-4540-9169-4e89cfbaa758",
   "metadata": {
    "execution": {
     "iopub.execute_input": "2025-07-30T13:20:11.737467Z",
     "iopub.status.busy": "2025-07-30T13:20:11.736831Z",
     "iopub.status.idle": "2025-07-30T13:20:11.748162Z",
     "shell.execute_reply": "2025-07-30T13:20:11.747277Z"
    },
    "papermill": {
     "duration": 0.037582,
     "end_time": "2025-07-30T13:20:11.749703",
     "exception": false,
     "start_time": "2025-07-30T13:20:11.712121",
     "status": "completed"
    },
    "tags": []
   },
   "outputs": [],
   "source": [
    "subgroups = ['frau1','nongerman','nongerman_male','nongerman_female']\n",
    "\n",
    "# Conditional coverage for subgroup==1\n",
    "cond_coverage = {\n",
    "    g: cp_groups_df.loc[cp_groups_df[g]==1, 'covered'].mean()\n",
    "    for g in subgroups\n",
    "}"
   ]
  },
  {
   "cell_type": "code",
   "execution_count": 69,
   "id": "1e348fb1-b9c3-45bc-ba23-f016827a7e0d",
   "metadata": {
    "execution": {
     "iopub.execute_input": "2025-07-30T13:20:11.799875Z",
     "iopub.status.busy": "2025-07-30T13:20:11.799237Z",
     "iopub.status.idle": "2025-07-30T13:20:11.806122Z",
     "shell.execute_reply": "2025-07-30T13:20:11.805291Z"
    },
    "papermill": {
     "duration": 0.033715,
     "end_time": "2025-07-30T13:20:11.807787",
     "exception": false,
     "start_time": "2025-07-30T13:20:11.774072",
     "status": "completed"
    },
    "tags": []
   },
   "outputs": [
    {
     "data": {
      "text/plain": [
       "{'frau1': 0.9076694972368243,\n",
       " 'nongerman': 0.907483298714422,\n",
       " 'nongerman_male': 0.9232639827073764,\n",
       " 'nongerman_female': 0.881371087928465}"
      ]
     },
     "execution_count": 69,
     "metadata": {},
     "output_type": "execute_result"
    }
   ],
   "source": [
    "cond_coverage"
   ]
  },
  {
   "cell_type": "code",
   "execution_count": 70,
   "id": "f5093324-c3dd-4d63-bc4c-8d945e5c8bbb",
   "metadata": {
    "execution": {
     "iopub.execute_input": "2025-07-30T13:20:11.858483Z",
     "iopub.status.busy": "2025-07-30T13:20:11.858033Z",
     "iopub.status.idle": "2025-07-30T13:20:11.865233Z",
     "shell.execute_reply": "2025-07-30T13:20:11.864377Z"
    },
    "papermill": {
     "duration": 0.034463,
     "end_time": "2025-07-30T13:20:11.866869",
     "exception": false,
     "start_time": "2025-07-30T13:20:11.832406",
     "status": "completed"
    },
    "tags": []
   },
   "outputs": [],
   "source": [
    "for subgroup, cov in cond_coverage.items():\n",
    "    cp_metrics_df[f\"cov_{subgroup}\"] = cov"
   ]
  },
  {
   "cell_type": "code",
   "execution_count": 71,
   "id": "6e872e10-dbe5-49e8-b554-5030c98ff75d",
   "metadata": {
    "execution": {
     "iopub.execute_input": "2025-07-30T13:20:11.917570Z",
     "iopub.status.busy": "2025-07-30T13:20:11.916929Z",
     "iopub.status.idle": "2025-07-30T13:20:11.934013Z",
     "shell.execute_reply": "2025-07-30T13:20:11.933125Z"
    },
    "papermill": {
     "duration": 0.044067,
     "end_time": "2025-07-30T13:20:11.935464",
     "exception": false,
     "start_time": "2025-07-30T13:20:11.891397",
     "status": "completed"
    },
    "tags": []
   },
   "outputs": [
    {
     "data": {
      "text/html": [
       "<div>\n",
       "<style scoped>\n",
       "    .dataframe tbody tr th:only-of-type {\n",
       "        vertical-align: middle;\n",
       "    }\n",
       "\n",
       "    .dataframe tbody tr th {\n",
       "        vertical-align: top;\n",
       "    }\n",
       "\n",
       "    .dataframe thead th {\n",
       "        text-align: right;\n",
       "    }\n",
       "</style>\n",
       "<table border=\"1\" class=\"dataframe\">\n",
       "  <thead>\n",
       "    <tr style=\"text-align: right;\">\n",
       "      <th></th>\n",
       "      <th>universe_id</th>\n",
       "      <th>universe_training_size</th>\n",
       "      <th>universe_scale</th>\n",
       "      <th>universe_model</th>\n",
       "      <th>universe_exclude_features</th>\n",
       "      <th>universe_exclude_subgroups</th>\n",
       "      <th>q_hat</th>\n",
       "      <th>coverage</th>\n",
       "      <th>avg_size</th>\n",
       "      <th>cov_frau1</th>\n",
       "      <th>cov_nongerman</th>\n",
       "      <th>cov_nongerman_male</th>\n",
       "      <th>cov_nongerman_female</th>\n",
       "    </tr>\n",
       "  </thead>\n",
       "  <tbody>\n",
       "    <tr>\n",
       "      <th>0</th>\n",
       "      <td>5837ff14c57c17ab63149c10727dcb0e</td>\n",
       "      <td>25k</td>\n",
       "      <td>do-not-scale</td>\n",
       "      <td>elasticnet</td>\n",
       "      <td>nationality</td>\n",
       "      <td>keep-all</td>\n",
       "      <td>0.684414</td>\n",
       "      <td>0.909486</td>\n",
       "      <td>1.132494</td>\n",
       "      <td>0.907669</td>\n",
       "      <td>0.907483</td>\n",
       "      <td>0.923264</td>\n",
       "      <td>0.881371</td>\n",
       "    </tr>\n",
       "  </tbody>\n",
       "</table>\n",
       "</div>"
      ],
      "text/plain": [
       "                        universe_id universe_training_size universe_scale  \\\n",
       "0  5837ff14c57c17ab63149c10727dcb0e                    25k   do-not-scale   \n",
       "\n",
       "  universe_model universe_exclude_features universe_exclude_subgroups  \\\n",
       "0     elasticnet               nationality                   keep-all   \n",
       "\n",
       "      q_hat  coverage  avg_size  cov_frau1  cov_nongerman  cov_nongerman_male  \\\n",
       "0  0.684414  0.909486  1.132494   0.907669       0.907483            0.923264   \n",
       "\n",
       "   cov_nongerman_female  \n",
       "0              0.881371  "
      ]
     },
     "execution_count": 71,
     "metadata": {},
     "output_type": "execute_result"
    }
   ],
   "source": [
    "cp_metrics_df"
   ]
  },
  {
   "cell_type": "markdown",
   "id": "33774451",
   "metadata": {
    "papermill": {
     "duration": 0.024523,
     "end_time": "2025-07-30T13:20:11.985111",
     "exception": false,
     "start_time": "2025-07-30T13:20:11.960588",
     "status": "completed"
    },
    "tags": []
   },
   "source": [
    "# (Fairness) Metrics"
   ]
  },
  {
   "cell_type": "code",
   "execution_count": 72,
   "id": "debc5d62",
   "metadata": {
    "execution": {
     "iopub.execute_input": "2025-07-30T13:20:12.035867Z",
     "iopub.status.busy": "2025-07-30T13:20:12.035207Z",
     "iopub.status.idle": "2025-07-30T13:20:12.056175Z",
     "shell.execute_reply": "2025-07-30T13:20:12.055303Z"
    },
    "papermill": {
     "duration": 0.048137,
     "end_time": "2025-07-30T13:20:12.057702",
     "exception": false,
     "start_time": "2025-07-30T13:20:12.009565",
     "status": "completed"
    },
    "tags": []
   },
   "outputs": [],
   "source": [
    "# do I need to include maxdeutsch1.missing?\n",
    "\n",
    "import numpy as np\n",
    "\n",
    "colname_to_bin = \"maxdeutsch1\"\n",
    "majority_value = org_train[colname_to_bin].mode()[0]\n",
    "\n",
    "org_test[\"majmin\"] = np.where(org_test[colname_to_bin] == majority_value, \"majority\", \"minority\")"
   ]
  },
  {
   "cell_type": "code",
   "execution_count": 73,
   "id": "06a50de5",
   "metadata": {
    "execution": {
     "iopub.execute_input": "2025-07-30T13:20:12.109337Z",
     "iopub.status.busy": "2025-07-30T13:20:12.108698Z",
     "iopub.status.idle": "2025-07-30T13:20:15.024349Z",
     "shell.execute_reply": "2025-07-30T13:20:15.023350Z"
    },
    "papermill": {
     "duration": 2.943257,
     "end_time": "2025-07-30T13:20:15.026220",
     "exception": false,
     "start_time": "2025-07-30T13:20:12.082963",
     "status": "completed"
    },
    "tags": []
   },
   "outputs": [],
   "source": [
    "example_universe = universe.copy()\n",
    "example_universe[\"cutoff\"] = example_universe[\"cutoff\"][0]\n",
    "example_universe[\"eval_fairness_grouping\"] = example_universe[\"eval_fairness_grouping\"][0]\n",
    "fairness_dict, metric_frame = universe_analysis.compute_metrics(\n",
    "    example_universe,\n",
    "    y_pred_prob=probs_test,\n",
    "    y_test=y_true,\n",
    "    org_test=org_test,\n",
    ")"
   ]
  },
  {
   "cell_type": "markdown",
   "id": "f95d4e02",
   "metadata": {
    "papermill": {
     "duration": 0.024667,
     "end_time": "2025-07-30T13:20:15.076631",
     "exception": false,
     "start_time": "2025-07-30T13:20:15.051964",
     "status": "completed"
    },
    "tags": []
   },
   "source": [
    "# Overall"
   ]
  },
  {
   "cell_type": "markdown",
   "id": "bdee4871",
   "metadata": {
    "papermill": {
     "duration": 0.024552,
     "end_time": "2025-07-30T13:20:15.126221",
     "exception": false,
     "start_time": "2025-07-30T13:20:15.101669",
     "status": "completed"
    },
    "tags": []
   },
   "source": [
    "Fairness\n",
    "Main fairness target: Equalized Odds. Seems to be a better fit than equal opportunity, since we're not only interested in Y = 1. Seems to be a better fit than demographic parity, since we also care about accuracy, not just equal distribution of preds.\n",
    "\n",
    "Pick column for computation of fairness metrics\n",
    "\n",
    "Performance\n",
    "Overall performance measures, most interesting in relation to the measures split by group below"
   ]
  },
  {
   "cell_type": "code",
   "execution_count": 74,
   "id": "c4e067c6",
   "metadata": {
    "execution": {
     "iopub.execute_input": "2025-07-30T13:20:15.177526Z",
     "iopub.status.busy": "2025-07-30T13:20:15.176869Z",
     "iopub.status.idle": "2025-07-30T13:20:15.185358Z",
     "shell.execute_reply": "2025-07-30T13:20:15.184522Z"
    },
    "papermill": {
     "duration": 0.036029,
     "end_time": "2025-07-30T13:20:15.186859",
     "exception": false,
     "start_time": "2025-07-30T13:20:15.150830",
     "status": "completed"
    },
    "tags": []
   },
   "outputs": [
    {
     "data": {
      "text/plain": [
       "accuracy                   0.220611\n",
       "balanced accuracy          0.540212\n",
       "f1                         0.242046\n",
       "precision                  0.138273\n",
       "false positive rate        0.889683\n",
       "false negative rate        0.029892\n",
       "selection rate             0.900000\n",
       "count                  89710.000000\n",
       "dtype: float64"
      ]
     },
     "execution_count": 74,
     "metadata": {},
     "output_type": "execute_result"
    }
   ],
   "source": [
    "metric_frame.overall"
   ]
  },
  {
   "cell_type": "markdown",
   "id": "e968fe9d",
   "metadata": {
    "papermill": {
     "duration": 0.024731,
     "end_time": "2025-07-30T13:20:15.237125",
     "exception": false,
     "start_time": "2025-07-30T13:20:15.212394",
     "status": "completed"
    },
    "tags": []
   },
   "source": [
    "By Group"
   ]
  },
  {
   "cell_type": "code",
   "execution_count": 75,
   "id": "ec325bce",
   "metadata": {
    "execution": {
     "iopub.execute_input": "2025-07-30T13:20:15.288411Z",
     "iopub.status.busy": "2025-07-30T13:20:15.287715Z",
     "iopub.status.idle": "2025-07-30T13:20:15.303168Z",
     "shell.execute_reply": "2025-07-30T13:20:15.302358Z"
    },
    "papermill": {
     "duration": 0.042638,
     "end_time": "2025-07-30T13:20:15.304582",
     "exception": false,
     "start_time": "2025-07-30T13:20:15.261944",
     "status": "completed"
    },
    "tags": []
   },
   "outputs": [
    {
     "data": {
      "text/html": [
       "<div>\n",
       "<style scoped>\n",
       "    .dataframe tbody tr th:only-of-type {\n",
       "        vertical-align: middle;\n",
       "    }\n",
       "\n",
       "    .dataframe tbody tr th {\n",
       "        vertical-align: top;\n",
       "    }\n",
       "\n",
       "    .dataframe thead th {\n",
       "        text-align: right;\n",
       "    }\n",
       "</style>\n",
       "<table border=\"1\" class=\"dataframe\">\n",
       "  <thead>\n",
       "    <tr style=\"text-align: right;\">\n",
       "      <th></th>\n",
       "      <th>accuracy</th>\n",
       "      <th>balanced accuracy</th>\n",
       "      <th>f1</th>\n",
       "      <th>precision</th>\n",
       "      <th>false positive rate</th>\n",
       "      <th>false negative rate</th>\n",
       "      <th>selection rate</th>\n",
       "      <th>count</th>\n",
       "    </tr>\n",
       "    <tr>\n",
       "      <th>majmin</th>\n",
       "      <th></th>\n",
       "      <th></th>\n",
       "      <th></th>\n",
       "      <th></th>\n",
       "      <th></th>\n",
       "      <th></th>\n",
       "      <th></th>\n",
       "      <th></th>\n",
       "    </tr>\n",
       "  </thead>\n",
       "  <tbody>\n",
       "    <tr>\n",
       "      <th>majority</th>\n",
       "      <td>0.242258</td>\n",
       "      <td>0.549252</td>\n",
       "      <td>0.252108</td>\n",
       "      <td>0.144960</td>\n",
       "      <td>0.868016</td>\n",
       "      <td>0.033479</td>\n",
       "      <td>0.881032</td>\n",
       "      <td>69170.0</td>\n",
       "    </tr>\n",
       "    <tr>\n",
       "      <th>minority</th>\n",
       "      <td>0.147712</td>\n",
       "      <td>0.511347</td>\n",
       "      <td>0.210232</td>\n",
       "      <td>0.117689</td>\n",
       "      <td>0.961259</td>\n",
       "      <td>0.016047</td>\n",
       "      <td>0.963875</td>\n",
       "      <td>20540.0</td>\n",
       "    </tr>\n",
       "  </tbody>\n",
       "</table>\n",
       "</div>"
      ],
      "text/plain": [
       "          accuracy  balanced accuracy        f1  precision  \\\n",
       "majmin                                                       \n",
       "majority  0.242258           0.549252  0.252108   0.144960   \n",
       "minority  0.147712           0.511347  0.210232   0.117689   \n",
       "\n",
       "          false positive rate  false negative rate  selection rate    count  \n",
       "majmin                                                                       \n",
       "majority             0.868016             0.033479        0.881032  69170.0  \n",
       "minority             0.961259             0.016047        0.963875  20540.0  "
      ]
     },
     "execution_count": 75,
     "metadata": {},
     "output_type": "execute_result"
    }
   ],
   "source": [
    "metric_frame.by_group"
   ]
  },
  {
   "cell_type": "code",
   "execution_count": 76,
   "id": "a9ddbe63",
   "metadata": {
    "execution": {
     "iopub.execute_input": "2025-07-30T13:20:15.357080Z",
     "iopub.status.busy": "2025-07-30T13:20:15.356433Z",
     "iopub.status.idle": "2025-07-30T13:20:17.595361Z",
     "shell.execute_reply": "2025-07-30T13:20:17.594515Z"
    },
    "papermill": {
     "duration": 2.266829,
     "end_time": "2025-07-30T13:20:17.596983",
     "exception": false,
     "start_time": "2025-07-30T13:20:15.330154",
     "status": "completed"
    },
    "tags": []
   },
   "outputs": [
    {
     "data": {
      "text/plain": [
       "array([[<Axes: title={'center': 'accuracy'}, xlabel='majmin'>,\n",
       "        <Axes: title={'center': 'balanced accuracy'}, xlabel='majmin'>,\n",
       "        <Axes: title={'center': 'f1'}, xlabel='majmin'>],\n",
       "       [<Axes: title={'center': 'precision'}, xlabel='majmin'>,\n",
       "        <Axes: title={'center': 'false positive rate'}, xlabel='majmin'>,\n",
       "        <Axes: title={'center': 'false negative rate'}, xlabel='majmin'>],\n",
       "       [<Axes: title={'center': 'selection rate'}, xlabel='majmin'>,\n",
       "        <Axes: title={'center': 'count'}, xlabel='majmin'>,\n",
       "        <Axes: xlabel='majmin'>]], dtype=object)"
      ]
     },
     "execution_count": 76,
     "metadata": {},
     "output_type": "execute_result"
    },
    {
     "data": {
      "image/png": "[encoded data removed]",
      "text/plain": [
       "<Figure size 1200x800 with 9 Axes>"
      ]
     },
     "metadata": {},
     "output_type": "display_data"
    }
   ],
   "source": [
    "# In a graphic\n",
    "metric_frame.by_group.plot.bar(\n",
    "    subplots=True,\n",
    "    layout=[3, 3],\n",
    "    legend=False,\n",
    "    figsize=[12, 8],\n",
    "    title=\"Show all metrics\",\n",
    ")"
   ]
  },
  {
   "cell_type": "markdown",
   "id": "f57a0bac",
   "metadata": {
    "papermill": {
     "duration": 0.027365,
     "end_time": "2025-07-30T13:20:17.653025",
     "exception": false,
     "start_time": "2025-07-30T13:20:17.625660",
     "status": "completed"
    },
    "tags": []
   },
   "source": [
    "# Final Output"
   ]
  },
  {
   "cell_type": "code",
   "execution_count": 77,
   "id": "96d280a3",
   "metadata": {
    "execution": {
     "iopub.execute_input": "2025-07-30T13:20:17.709477Z",
     "iopub.status.busy": "2025-07-30T13:20:17.708686Z",
     "iopub.status.idle": "2025-07-30T13:20:17.716454Z",
     "shell.execute_reply": "2025-07-30T13:20:17.715616Z"
    },
    "papermill": {
     "duration": 0.037484,
     "end_time": "2025-07-30T13:20:17.717872",
     "exception": false,
     "start_time": "2025-07-30T13:20:17.680388",
     "status": "completed"
    },
    "tags": []
   },
   "outputs": [
    {
     "data": {
      "text/plain": [
       "4"
      ]
     },
     "execution_count": 77,
     "metadata": {},
     "output_type": "execute_result"
    }
   ],
   "source": [
    "sub_universes = universe_analysis.generate_sub_universes()\n",
    "len(sub_universes)"
   ]
  },
  {
   "cell_type": "code",
   "execution_count": 78,
   "id": "92adf7ba",
   "metadata": {
    "execution": {
     "iopub.execute_input": "2025-07-30T13:20:17.838906Z",
     "iopub.status.busy": "2025-07-30T13:20:17.838442Z",
     "iopub.status.idle": "2025-07-30T13:20:17.844388Z",
     "shell.execute_reply": "2025-07-30T13:20:17.843492Z"
    },
    "papermill": {
     "duration": 0.100248,
     "end_time": "2025-07-30T13:20:17.845889",
     "exception": false,
     "start_time": "2025-07-30T13:20:17.745641",
     "status": "completed"
    },
    "tags": []
   },
   "outputs": [],
   "source": [
    "def filter_sub_universe_data(sub_universe, org_test):\n",
    "    # Keep all rows — no filtering\n",
    "    keep_rows_mask = np.ones(org_test.shape[0], dtype=bool)\n",
    "\n",
    "    print(f\"[INFO] Keeping all rows: {keep_rows_mask.sum()} rows retained.\")\n",
    "    return keep_rows_mask"
   ]
  },
  {
   "cell_type": "code",
   "execution_count": 79,
   "id": "4a759155",
   "metadata": {
    "execution": {
     "iopub.execute_input": "2025-07-30T13:20:17.903518Z",
     "iopub.status.busy": "2025-07-30T13:20:17.902867Z",
     "iopub.status.idle": "2025-07-30T13:20:29.154366Z",
     "shell.execute_reply": "2025-07-30T13:20:29.153331Z"
    },
    "papermill": {
     "duration": 11.281997,
     "end_time": "2025-07-30T13:20:29.156009",
     "exception": false,
     "start_time": "2025-07-30T13:20:17.874012",
     "status": "completed"
    },
    "tags": []
   },
   "outputs": [
    {
     "name": "stdout",
     "output_type": "stream",
     "text": [
      "Stopping execution_time clock.\n",
      "[INFO] Keeping all rows: 89710 rows retained.\n"
     ]
    },
    {
     "name": "stdout",
     "output_type": "stream",
     "text": [
      "[INFO] Keeping all rows: 89710 rows retained.\n"
     ]
    },
    {
     "name": "stdout",
     "output_type": "stream",
     "text": [
      "[INFO] Keeping all rows: 89710 rows retained.\n"
     ]
    },
    {
     "name": "stdout",
     "output_type": "stream",
     "text": [
      "[INFO] Keeping all rows: 89710 rows retained.\n"
     ]
    },
    {
     "data": {
      "text/html": [
       "<div>\n",
       "<style scoped>\n",
       "    .dataframe tbody tr th:only-of-type {\n",
       "        vertical-align: middle;\n",
       "    }\n",
       "\n",
       "    .dataframe tbody tr th {\n",
       "        vertical-align: top;\n",
       "    }\n",
       "\n",
       "    .dataframe thead th {\n",
       "        text-align: right;\n",
       "    }\n",
       "</style>\n",
       "<table border=\"1\" class=\"dataframe\">\n",
       "  <thead>\n",
       "    <tr style=\"text-align: right;\">\n",
       "      <th></th>\n",
       "      <th>run_no</th>\n",
       "      <th>universe_id</th>\n",
       "      <th>universe_settings</th>\n",
       "      <th>execution_time</th>\n",
       "      <th>test_size_n</th>\n",
       "      <th>test_size_frac</th>\n",
       "      <th>fair_main_equalized_odds_difference</th>\n",
       "      <th>fair_main_equalized_odds_ratio</th>\n",
       "      <th>fair_main_demographic_parity_difference</th>\n",
       "      <th>fair_main_demographic_parity_ratio</th>\n",
       "      <th>...</th>\n",
       "      <th>perf_grp_precision_0</th>\n",
       "      <th>perf_grp_precision_1</th>\n",
       "      <th>perf_grp_false positive rate_0</th>\n",
       "      <th>perf_grp_false positive rate_1</th>\n",
       "      <th>perf_grp_false negative rate_0</th>\n",
       "      <th>perf_grp_false negative rate_1</th>\n",
       "      <th>perf_grp_selection rate_0</th>\n",
       "      <th>perf_grp_selection rate_1</th>\n",
       "      <th>perf_grp_count_0</th>\n",
       "      <th>perf_grp_count_1</th>\n",
       "    </tr>\n",
       "  </thead>\n",
       "  <tbody>\n",
       "    <tr>\n",
       "      <th>0</th>\n",
       "      <td>12</td>\n",
       "      <td>5837ff14c57c17ab63149c10727dcb0e</td>\n",
       "      <td>{\"cutoff\": \"quantile_0.1\", \"eval_fairness_grou...</td>\n",
       "      <td>234.22959</td>\n",
       "      <td>89710</td>\n",
       "      <td>1.0</td>\n",
       "      <td>0.093243</td>\n",
       "      <td>0.902999</td>\n",
       "      <td>0.082843</td>\n",
       "      <td>0.914052</td>\n",
       "      <td>...</td>\n",
       "      <td>NaN</td>\n",
       "      <td>NaN</td>\n",
       "      <td>NaN</td>\n",
       "      <td>NaN</td>\n",
       "      <td>NaN</td>\n",
       "      <td>NaN</td>\n",
       "      <td>NaN</td>\n",
       "      <td>NaN</td>\n",
       "      <td>NaN</td>\n",
       "      <td>NaN</td>\n",
       "    </tr>\n",
       "    <tr>\n",
       "      <th>0</th>\n",
       "      <td>12</td>\n",
       "      <td>5837ff14c57c17ab63149c10727dcb0e</td>\n",
       "      <td>{\"cutoff\": \"quantile_0.1\", \"eval_fairness_grou...</td>\n",
       "      <td>234.22959</td>\n",
       "      <td>89710</td>\n",
       "      <td>1.0</td>\n",
       "      <td>0.093243</td>\n",
       "      <td>0.902999</td>\n",
       "      <td>0.082843</td>\n",
       "      <td>0.914052</td>\n",
       "      <td>...</td>\n",
       "      <td>0.117689</td>\n",
       "      <td>0.144960</td>\n",
       "      <td>0.961259</td>\n",
       "      <td>0.868016</td>\n",
       "      <td>0.016047</td>\n",
       "      <td>0.033479</td>\n",
       "      <td>0.963875</td>\n",
       "      <td>0.881032</td>\n",
       "      <td>20540.0</td>\n",
       "      <td>69170.0</td>\n",
       "    </tr>\n",
       "    <tr>\n",
       "      <th>0</th>\n",
       "      <td>12</td>\n",
       "      <td>5837ff14c57c17ab63149c10727dcb0e</td>\n",
       "      <td>{\"cutoff\": \"quantile_0.25\", \"eval_fairness_gro...</td>\n",
       "      <td>234.22959</td>\n",
       "      <td>89710</td>\n",
       "      <td>1.0</td>\n",
       "      <td>0.197820</td>\n",
       "      <td>0.774918</td>\n",
       "      <td>0.174597</td>\n",
       "      <td>0.802630</td>\n",
       "      <td>...</td>\n",
       "      <td>NaN</td>\n",
       "      <td>NaN</td>\n",
       "      <td>NaN</td>\n",
       "      <td>NaN</td>\n",
       "      <td>NaN</td>\n",
       "      <td>NaN</td>\n",
       "      <td>NaN</td>\n",
       "      <td>NaN</td>\n",
       "      <td>NaN</td>\n",
       "      <td>NaN</td>\n",
       "    </tr>\n",
       "    <tr>\n",
       "      <th>0</th>\n",
       "      <td>12</td>\n",
       "      <td>5837ff14c57c17ab63149c10727dcb0e</td>\n",
       "      <td>{\"cutoff\": \"quantile_0.25\", \"eval_fairness_gro...</td>\n",
       "      <td>234.22959</td>\n",
       "      <td>89710</td>\n",
       "      <td>1.0</td>\n",
       "      <td>0.197820</td>\n",
       "      <td>0.774918</td>\n",
       "      <td>0.174597</td>\n",
       "      <td>0.802630</td>\n",
       "      <td>...</td>\n",
       "      <td>0.121024</td>\n",
       "      <td>0.167535</td>\n",
       "      <td>0.878880</td>\n",
       "      <td>0.681059</td>\n",
       "      <td>0.071368</td>\n",
       "      <td>0.099781</td>\n",
       "      <td>0.884615</td>\n",
       "      <td>0.710019</td>\n",
       "      <td>20540.0</td>\n",
       "      <td>69170.0</td>\n",
       "    </tr>\n",
       "  </tbody>\n",
       "</table>\n",
       "<p>4 rows × 50 columns</p>\n",
       "</div>"
      ],
      "text/plain": [
       "  run_no                       universe_id  \\\n",
       "0     12  5837ff14c57c17ab63149c10727dcb0e   \n",
       "0     12  5837ff14c57c17ab63149c10727dcb0e   \n",
       "0     12  5837ff14c57c17ab63149c10727dcb0e   \n",
       "0     12  5837ff14c57c17ab63149c10727dcb0e   \n",
       "\n",
       "                                   universe_settings  execution_time  \\\n",
       "0  {\"cutoff\": \"quantile_0.1\", \"eval_fairness_grou...       234.22959   \n",
       "0  {\"cutoff\": \"quantile_0.1\", \"eval_fairness_grou...       234.22959   \n",
       "0  {\"cutoff\": \"quantile_0.25\", \"eval_fairness_gro...       234.22959   \n",
       "0  {\"cutoff\": \"quantile_0.25\", \"eval_fairness_gro...       234.22959   \n",
       "\n",
       "   test_size_n  test_size_frac  fair_main_equalized_odds_difference  \\\n",
       "0        89710             1.0                             0.093243   \n",
       "0        89710             1.0                             0.093243   \n",
       "0        89710             1.0                             0.197820   \n",
       "0        89710             1.0                             0.197820   \n",
       "\n",
       "   fair_main_equalized_odds_ratio  fair_main_demographic_parity_difference  \\\n",
       "0                        0.902999                                 0.082843   \n",
       "0                        0.902999                                 0.082843   \n",
       "0                        0.774918                                 0.174597   \n",
       "0                        0.774918                                 0.174597   \n",
       "\n",
       "   fair_main_demographic_parity_ratio  ...  perf_grp_precision_0  \\\n",
       "0                            0.914052  ...                   NaN   \n",
       "0                            0.914052  ...              0.117689   \n",
       "0                            0.802630  ...                   NaN   \n",
       "0                            0.802630  ...              0.121024   \n",
       "\n",
       "   perf_grp_precision_1  perf_grp_false positive rate_0  \\\n",
       "0                   NaN                             NaN   \n",
       "0              0.144960                        0.961259   \n",
       "0                   NaN                             NaN   \n",
       "0              0.167535                        0.878880   \n",
       "\n",
       "   perf_grp_false positive rate_1  perf_grp_false negative rate_0  \\\n",
       "0                             NaN                             NaN   \n",
       "0                        0.868016                        0.016047   \n",
       "0                             NaN                             NaN   \n",
       "0                        0.681059                        0.071368   \n",
       "\n",
       "   perf_grp_false negative rate_1  perf_grp_selection rate_0  \\\n",
       "0                             NaN                        NaN   \n",
       "0                        0.033479                   0.963875   \n",
       "0                             NaN                        NaN   \n",
       "0                        0.099781                   0.884615   \n",
       "\n",
       "   perf_grp_selection rate_1  perf_grp_count_0  perf_grp_count_1  \n",
       "0                        NaN               NaN               NaN  \n",
       "0                   0.881032           20540.0           69170.0  \n",
       "0                        NaN               NaN               NaN  \n",
       "0                   0.710019           20540.0           69170.0  \n",
       "\n",
       "[4 rows x 50 columns]"
      ]
     },
     "execution_count": 79,
     "metadata": {},
     "output_type": "execute_result"
    }
   ],
   "source": [
    "final_output = universe_analysis.generate_final_output(\n",
    "    y_pred_prob=probs_test,\n",
    "    y_test=y_true,\n",
    "    org_test=org_test,\n",
    "    filter_data=filter_sub_universe_data,\n",
    "    cp_metrics_df=cp_metrics_df,\n",
    "    save=True,\n",
    ")\n",
    "final_output"
   ]
  },
  {
   "cell_type": "code",
   "execution_count": null,
   "id": "721ff514-cb11-46f8-b6fc-50392f74b5cb",
   "metadata": {
    "papermill": {
     "duration": 0.041163,
     "end_time": "2025-07-30T13:20:29.241461",
     "exception": false,
     "start_time": "2025-07-30T13:20:29.200298",
     "status": "completed"
    },
    "tags": []
   },
   "outputs": [],
   "source": []
  }
 ],
 "metadata": {
  "celltoolbar": "Tags",
  "kernelspec": {
   "display_name": "Python (CMA Fairness)",
   "language": "python",
   "name": "cma_fair_env"
  },
  "language_info": {
   "codemirror_mode": {
    "name": "ipython",
    "version": 3
   },
   "file_extension": ".py",
   "mimetype": "text/x-python",
   "name": "python",
   "nbconvert_exporter": "python",
   "pygments_lexer": "ipython3",
   "version": "3.10.12"
  },
  "papermill": {
   "default_parameters": {},
   "duration": 249.997699,
   "end_time": "2025-07-30T13:20:29.993513",
   "environment_variables": {},
   "exception": null,
   "input_path": "universe_analysis.ipynb",
   "output_path": "output/runs/12/notebooks/m_12-5837ff14c57c17ab63149c10727dcb0e.ipynb",
   "parameters": {
    "output_dir": "output",
    "run_no": "12",
    "seed": "2023",
    "universe": "{\"cutoff\": [\"quantile_0.1\", \"quantile_0.25\"], \"eval_fairness_grouping\": [\"majority-minority\", \"nationality-all\"], \"exclude_features\": \"nationality\", \"exclude_subgroups\": \"keep-all\", \"model\": \"elasticnet\", \"scale\": \"do-not-scale\", \"training_size\": \"25k\", \"training_year\": \"2012_14\"}",
    "universe_id": "5837ff14c57c17ab63149c10727dcb0e"
   },
   "start_time": "2025-07-30T13:16:19.995814",
   "version": "2.6.0"
  }
 },
 "nbformat": 4,
 "nbformat_minor": 5
}