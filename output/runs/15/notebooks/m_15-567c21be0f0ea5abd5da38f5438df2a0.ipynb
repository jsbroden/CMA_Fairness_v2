{
 "cells": [
  {
   "cell_type": "code",
   "execution_count": 1,
   "id": "f159f837-637b-42ba-96b5-ec9a68c44524",
   "metadata": {
    "execution": {
     "iopub.execute_input": "2025-08-05T15:30:18.670264Z",
     "iopub.status.busy": "2025-08-05T15:30:18.669435Z",
     "iopub.status.idle": "2025-08-05T15:30:18.682841Z",
     "shell.execute_reply": "2025-08-05T15:30:18.681837Z"
    },
    "papermill": {
     "duration": 0.033524,
     "end_time": "2025-08-05T15:30:18.684386",
     "exception": false,
     "start_time": "2025-08-05T15:30:18.650862",
     "status": "completed"
    },
    "tags": []
   },
   "outputs": [
    {
     "name": "stdout",
     "output_type": "stream",
     "text": [
      "/dss/dsshome1/0C/ra93lal2/cma/CMA_Fairness_v2\n"
     ]
    },
    {
     "name": "stderr",
     "output_type": "stream",
     "text": [
      "/dss/dsshome1/0C/ra93lal2/.local/share/virtualenvs/CMA_Fairness_v2-3j10GkSs/lib/python3.10/site-packages/IPython/core/magics/osm.py:393: UserWarning: This is now an optional IPython functionality, using bookmarks requires you to install the `pickleshare` library.\n",
      "  bkms = self.shell.db.get('bookmarks', {})\n",
      "/dss/dsshome1/0C/ra93lal2/.local/share/virtualenvs/CMA_Fairness_v2-3j10GkSs/lib/python3.10/site-packages/IPython/core/magics/osm.py:417: UserWarning: This is now an optional IPython functionality, setting dhist requires you to install the `pickleshare` library.\n",
      "  self.shell.db['dhist'] = compress_dhist(dhist)[-100:]\n"
     ]
    }
   ],
   "source": [
    "%cd ~/cma/CMA_Fairness_v2"
   ]
  },
  {
   "cell_type": "markdown",
   "id": "de2603b9",
   "metadata": {
    "papermill": {
     "duration": 0.015997,
     "end_time": "2025-08-05T15:30:18.717202",
     "exception": false,
     "start_time": "2025-08-05T15:30:18.701205",
     "status": "completed"
    },
    "tags": []
   },
   "source": [
    "The following cell holds the definition of our parameters, these values can be overriden by rendering the with e.g. the following command:\n",
    "\n",
    "papermill -p alpha 0.2 -p ratio 0.3 universe_analysis.ipynb output/test_run.ipynb"
   ]
  },
  {
   "cell_type": "code",
   "execution_count": 2,
   "id": "a80968a0-40bb-4fa9-85ef-2d5eefb01975",
   "metadata": {
    "execution": {
     "iopub.execute_input": "2025-08-05T15:30:18.752715Z",
     "iopub.status.busy": "2025-08-05T15:30:18.751745Z",
     "iopub.status.idle": "2025-08-05T15:30:18.757331Z",
     "shell.execute_reply": "2025-08-05T15:30:18.756341Z"
    },
    "papermill": {
     "duration": 0.025144,
     "end_time": "2025-08-05T15:30:18.758959",
     "exception": false,
     "start_time": "2025-08-05T15:30:18.733815",
     "status": "completed"
    },
    "tags": []
   },
   "outputs": [
    {
     "name": "stdout",
     "output_type": "stream",
     "text": [
      "Current working directory: /dss/dsshome1/0C/ra93lal2/cma/CMA_Fairness_v2\n"
     ]
    }
   ],
   "source": [
    "import os\n",
    "print(\"Current working directory:\", os.getcwd())"
   ]
  },
  {
   "cell_type": "code",
   "execution_count": 3,
   "id": "2dce4c03",
   "metadata": {
    "execution": {
     "iopub.execute_input": "2025-08-05T15:30:18.790813Z",
     "iopub.status.busy": "2025-08-05T15:30:18.790125Z",
     "iopub.status.idle": "2025-08-05T15:30:18.796452Z",
     "shell.execute_reply": "2025-08-05T15:30:18.795426Z"
    },
    "papermill": {
     "duration": 0.023963,
     "end_time": "2025-08-05T15:30:18.798140",
     "exception": false,
     "start_time": "2025-08-05T15:30:18.774177",
     "status": "completed"
    },
    "tags": [
     "parameters"
    ]
   },
   "outputs": [],
   "source": [
    "run_no = 0\n",
    "universe_id = \"test\"\n",
    "universe = {\n",
    "    \"training_size\": \"25k\", # \"25k\", \"5k\", \"1k\"\n",
    "    \"training_year\": \"2014\", # \"2014\", \"2012_14\", \"2010_14\"\n",
    "    \"scale\": \"scale\", # \"scale\", \"do-not-scale\",\n",
    "    \"model\": \"elasticnet\", # \"logreg\", \"penalized_logreg\", \"rf\", \"gbm\", \"elasticnet\"\n",
    "    \"cutoff\": [\"quantile_0.15\", \"quantile_0.30\"],\n",
    "    \"exclude_features\": \"age\", # \"none\", \"nationality\", \"sex\", \"nationality-sex\", \"age\"\n",
    "    \"exclude_subgroups\": \"keep-all\", # \"keep-all\", \"drop-non-german\"\n",
    "    \"eval_fairness_grouping\": [\"majority-minority\", \"nationality-all\"]\n",
    "}\n",
    "\n",
    "output_dir=\"./output\"\n",
    "seed=0"
   ]
  },
  {
   "cell_type": "code",
   "execution_count": 4,
   "id": "f32815c4",
   "metadata": {
    "execution": {
     "iopub.execute_input": "2025-08-05T15:30:18.903131Z",
     "iopub.status.busy": "2025-08-05T15:30:18.902658Z",
     "iopub.status.idle": "2025-08-05T15:30:18.907913Z",
     "shell.execute_reply": "2025-08-05T15:30:18.906868Z"
    },
    "papermill": {
     "duration": 0.024029,
     "end_time": "2025-08-05T15:30:18.910049",
     "exception": false,
     "start_time": "2025-08-05T15:30:18.886020",
     "status": "completed"
    },
    "tags": [
     "injected-parameters"
    ]
   },
   "outputs": [],
   "source": [
    "# Parameters\n",
    "universe_id = \"567c21be0f0ea5abd5da38f5438df2a0\"\n",
    "run_no = \"15\"\n",
    "universe = \"{\\\"cutoff\\\": [\\\"quantile_0.1\\\", \\\"quantile_0.25\\\"], \\\"eval_fairness_grouping\\\": [\\\"majority-minority\\\", \\\"nationality-all\\\"], \\\"exclude_features\\\": \\\"sex\\\", \\\"exclude_subgroups\\\": \\\"drop-non-german\\\", \\\"model\\\": \\\"rf\\\", \\\"scale\\\": \\\"do-not-scale\\\", \\\"training_size\\\": \\\"5k\\\", \\\"training_year\\\": \\\"2014\\\"}\"\n",
    "output_dir = \"output\"\n",
    "seed = \"2023\"\n"
   ]
  },
  {
   "cell_type": "code",
   "execution_count": 5,
   "id": "1650acaf",
   "metadata": {
    "execution": {
     "iopub.execute_input": "2025-08-05T15:30:18.945765Z",
     "iopub.status.busy": "2025-08-05T15:30:18.945274Z",
     "iopub.status.idle": "2025-08-05T15:30:18.950443Z",
     "shell.execute_reply": "2025-08-05T15:30:18.949449Z"
    },
    "papermill": {
     "duration": 0.02467,
     "end_time": "2025-08-05T15:30:18.952300",
     "exception": false,
     "start_time": "2025-08-05T15:30:18.927630",
     "status": "completed"
    },
    "tags": []
   },
   "outputs": [],
   "source": [
    "import json\n",
    "if isinstance(universe, str):\n",
    "    universe = json.loads(universe)"
   ]
  },
  {
   "cell_type": "code",
   "execution_count": 6,
   "id": "16620c48",
   "metadata": {
    "execution": {
     "iopub.execute_input": "2025-08-05T15:30:18.988793Z",
     "iopub.status.busy": "2025-08-05T15:30:18.988366Z",
     "iopub.status.idle": "2025-08-05T15:30:19.034499Z",
     "shell.execute_reply": "2025-08-05T15:30:19.033583Z"
    },
    "papermill": {
     "duration": 0.065896,
     "end_time": "2025-08-05T15:30:19.036219",
     "exception": false,
     "start_time": "2025-08-05T15:30:18.970323",
     "status": "completed"
    },
    "tags": []
   },
   "outputs": [],
   "source": [
    "# Auto-reload the custom package\n",
    "%load_ext autoreload\n",
    "%autoreload 1\n",
    "%aimport fairness_multiverse"
   ]
  },
  {
   "cell_type": "code",
   "execution_count": 7,
   "id": "01c5c9f3",
   "metadata": {
    "execution": {
     "iopub.execute_input": "2025-08-05T15:30:19.072779Z",
     "iopub.status.busy": "2025-08-05T15:30:19.072300Z",
     "iopub.status.idle": "2025-08-05T15:30:20.981240Z",
     "shell.execute_reply": "2025-08-05T15:30:20.980196Z"
    },
    "papermill": {
     "duration": 1.929444,
     "end_time": "2025-08-05T15:30:20.983106",
     "exception": false,
     "start_time": "2025-08-05T15:30:19.053662",
     "status": "completed"
    },
    "tags": []
   },
   "outputs": [],
   "source": [
    "from fairness_multiverse.universe import UniverseAnalysis\n",
    "\n",
    "universe_analysis = UniverseAnalysis(\n",
    "    run_no = run_no,\n",
    "    universe_id = universe_id,\n",
    "    universe = universe,\n",
    "    output_dir=output_dir,\n",
    ")"
   ]
  },
  {
   "cell_type": "code",
   "execution_count": 8,
   "id": "106241f5",
   "metadata": {
    "execution": {
     "iopub.execute_input": "2025-08-05T15:30:21.019839Z",
     "iopub.status.busy": "2025-08-05T15:30:21.019292Z",
     "iopub.status.idle": "2025-08-05T15:30:21.026873Z",
     "shell.execute_reply": "2025-08-05T15:30:21.025649Z"
    },
    "papermill": {
     "duration": 0.027159,
     "end_time": "2025-08-05T15:30:21.029020",
     "exception": false,
     "start_time": "2025-08-05T15:30:21.001861",
     "status": "completed"
    },
    "tags": []
   },
   "outputs": [
    {
     "name": "stdout",
     "output_type": "stream",
     "text": [
      "Using Seed: 2023\n"
     ]
    }
   ],
   "source": [
    "import numpy as np\n",
    "parsed_seed = int(seed)\n",
    "np.random.seed(parsed_seed)\n",
    "print(f\"Using Seed: {parsed_seed}\")"
   ]
  },
  {
   "cell_type": "markdown",
   "id": "e0ebdc57",
   "metadata": {
    "papermill": {
     "duration": 0.020921,
     "end_time": "2025-08-05T15:30:21.070292",
     "exception": false,
     "start_time": "2025-08-05T15:30:21.049371",
     "status": "completed"
    },
    "tags": []
   },
   "source": [
    "# Loading Data"
   ]
  },
  {
   "cell_type": "code",
   "execution_count": 9,
   "id": "f0496b8a",
   "metadata": {
    "execution": {
     "iopub.execute_input": "2025-08-05T15:30:21.109254Z",
     "iopub.status.busy": "2025-08-05T15:30:21.108268Z",
     "iopub.status.idle": "2025-08-05T15:30:33.760095Z",
     "shell.execute_reply": "2025-08-05T15:30:33.758867Z"
    },
    "papermill": {
     "duration": 12.673966,
     "end_time": "2025-08-05T15:30:33.761798",
     "exception": false,
     "start_time": "2025-08-05T15:30:21.087832",
     "status": "completed"
    },
    "tags": []
   },
   "outputs": [
    {
     "name": "stdout",
     "output_type": "stream",
     "text": [
      "Loading SIAB data from cache: data/siab_cached.csv.gz\n"
     ]
    },
    {
     "name": "stdout",
     "output_type": "stream",
     "text": [
      "(643690, 164)\n"
     ]
    }
   ],
   "source": [
    "from pathlib import Path\n",
    "import pandas as pd\n",
    "\n",
    "# File paths\n",
    "raw_file = Path(\"data/raw/siab.csv\")\n",
    "cache_file = Path(\"data/siab_cached.csv.gz\")\n",
    "\n",
    "# Ensure cache directory exists\n",
    "cache_file.parent.mkdir(parents=True, exist_ok=True)\n",
    "\n",
    "# Load with simple caching\n",
    "if cache_file.exists():\n",
    "    print(f\"Loading SIAB data from cache: {cache_file}\")\n",
    "    siab = pd.read_csv(cache_file, compression='gzip')\n",
    "else:\n",
    "    print(f\"Cache not found. Reading raw SIAB data: {raw_file}\")\n",
    "    siab = pd.read_csv(raw_file)\n",
    "    siab.to_csv(cache_file, index=False, compression='gzip')\n",
    "    print(f\"Cached SIAB data to: {cache_file}\")\n",
    "\n",
    "print(siab.shape)"
   ]
  },
  {
   "cell_type": "code",
   "execution_count": 10,
   "id": "db0ca512-5f53-4dba-abdb-a2888bca41ba",
   "metadata": {
    "execution": {
     "iopub.execute_input": "2025-08-05T15:30:33.801414Z",
     "iopub.status.busy": "2025-08-05T15:30:33.800885Z",
     "iopub.status.idle": "2025-08-05T15:30:33.807090Z",
     "shell.execute_reply": "2025-08-05T15:30:33.806111Z"
    },
    "papermill": {
     "duration": 0.026376,
     "end_time": "2025-08-05T15:30:33.808968",
     "exception": false,
     "start_time": "2025-08-05T15:30:33.782592",
     "status": "completed"
    },
    "tags": []
   },
   "outputs": [],
   "source": [
    "#siab"
   ]
  },
  {
   "cell_type": "markdown",
   "id": "997051c5-15bd-4b69-9786-c3001a3ce484",
   "metadata": {
    "papermill": {
     "duration": 0.019299,
     "end_time": "2025-08-05T15:30:33.848245",
     "exception": false,
     "start_time": "2025-08-05T15:30:33.828946",
     "status": "completed"
    },
    "tags": []
   },
   "source": [
    "# Splitting Data and Setting Training Data Size"
   ]
  },
  {
   "cell_type": "code",
   "execution_count": 11,
   "id": "aea9c6ef-6f46-42c8-85eb-5a62025c1508",
   "metadata": {
    "execution": {
     "iopub.execute_input": "2025-08-05T15:30:33.888435Z",
     "iopub.status.busy": "2025-08-05T15:30:33.887766Z",
     "iopub.status.idle": "2025-08-05T15:30:34.117121Z",
     "shell.execute_reply": "2025-08-05T15:30:34.116131Z"
    },
    "papermill": {
     "duration": 0.251976,
     "end_time": "2025-08-05T15:30:34.119212",
     "exception": false,
     "start_time": "2025-08-05T15:30:33.867236",
     "status": "completed"
    },
    "tags": []
   },
   "outputs": [],
   "source": [
    "from fairness_multiverse.universe import sample_by_year_size\n",
    "\n",
    "siab_train = sample_by_year_size(siab,\n",
    "                               training_year=universe[\"training_year\"],\n",
    "                               training_size=universe[\"training_size\"])"
   ]
  },
  {
   "cell_type": "code",
   "execution_count": 12,
   "id": "8d3afb32-789d-442c-8d5d-9f5aa8dd2eed",
   "metadata": {
    "execution": {
     "iopub.execute_input": "2025-08-05T15:30:34.160497Z",
     "iopub.status.busy": "2025-08-05T15:30:34.159857Z",
     "iopub.status.idle": "2025-08-05T15:30:34.164746Z",
     "shell.execute_reply": "2025-08-05T15:30:34.163761Z"
    },
    "papermill": {
     "duration": 0.027276,
     "end_time": "2025-08-05T15:30:34.166610",
     "exception": false,
     "start_time": "2025-08-05T15:30:34.139334",
     "status": "completed"
    },
    "tags": []
   },
   "outputs": [],
   "source": [
    "#siab_train.shape"
   ]
  },
  {
   "cell_type": "code",
   "execution_count": 13,
   "id": "d582db68-1a4c-47fb-84fc-08518dc1975a",
   "metadata": {
    "execution": {
     "iopub.execute_input": "2025-08-05T15:30:34.208141Z",
     "iopub.status.busy": "2025-08-05T15:30:34.207362Z",
     "iopub.status.idle": "2025-08-05T15:30:34.212610Z",
     "shell.execute_reply": "2025-08-05T15:30:34.211571Z"
    },
    "papermill": {
     "duration": 0.027774,
     "end_time": "2025-08-05T15:30:34.214431",
     "exception": false,
     "start_time": "2025-08-05T15:30:34.186657",
     "status": "completed"
    },
    "tags": []
   },
   "outputs": [],
   "source": [
    "#display(siab_train.groupby(\"year\").size())"
   ]
  },
  {
   "cell_type": "code",
   "execution_count": 14,
   "id": "a561edb4-d032-42cb-8256-22eac1111c64",
   "metadata": {
    "execution": {
     "iopub.execute_input": "2025-08-05T15:30:34.256165Z",
     "iopub.status.busy": "2025-08-05T15:30:34.255389Z",
     "iopub.status.idle": "2025-08-05T15:30:34.488907Z",
     "shell.execute_reply": "2025-08-05T15:30:34.487901Z"
    },
    "papermill": {
     "duration": 0.256587,
     "end_time": "2025-08-05T15:30:34.491299",
     "exception": false,
     "start_time": "2025-08-05T15:30:34.234712",
     "status": "completed"
    },
    "tags": []
   },
   "outputs": [],
   "source": [
    "#siab_train = siab_s[siab_s.year < 2015]\n",
    "siab_calib = siab[siab.year == 2015]\n",
    "siab_test = siab[siab.year == 2016]"
   ]
  },
  {
   "cell_type": "code",
   "execution_count": 15,
   "id": "472de16f-c3db-4916-846b-1f0de9cf1746",
   "metadata": {
    "execution": {
     "iopub.execute_input": "2025-08-05T15:30:34.527592Z",
     "iopub.status.busy": "2025-08-05T15:30:34.527229Z",
     "iopub.status.idle": "2025-08-05T15:30:34.534665Z",
     "shell.execute_reply": "2025-08-05T15:30:34.533822Z"
    },
    "papermill": {
     "duration": 0.022835,
     "end_time": "2025-08-05T15:30:34.536237",
     "exception": false,
     "start_time": "2025-08-05T15:30:34.513402",
     "status": "completed"
    },
    "tags": []
   },
   "outputs": [],
   "source": [
    "X_train = siab_train.iloc[:,4:164]\n",
    "y_train = siab_train.iloc[:, [3]]"
   ]
  },
  {
   "cell_type": "code",
   "execution_count": 16,
   "id": "828c96af-f43a-4ed6-ba47-8ac73a47d56c",
   "metadata": {
    "execution": {
     "iopub.execute_input": "2025-08-05T15:30:34.556448Z",
     "iopub.status.busy": "2025-08-05T15:30:34.556123Z",
     "iopub.status.idle": "2025-08-05T15:30:34.604629Z",
     "shell.execute_reply": "2025-08-05T15:30:34.603516Z"
    },
    "papermill": {
     "duration": 0.059847,
     "end_time": "2025-08-05T15:30:34.606372",
     "exception": false,
     "start_time": "2025-08-05T15:30:34.546525",
     "status": "completed"
    },
    "tags": []
   },
   "outputs": [],
   "source": [
    "X_calib = siab_calib.iloc[:,4:164]\n",
    "y_calib = siab_calib.iloc[:, [3]]"
   ]
  },
  {
   "cell_type": "code",
   "execution_count": 17,
   "id": "c34be9c3-6bd6-476e-acd3-845840e303be",
   "metadata": {
    "execution": {
     "iopub.execute_input": "2025-08-05T15:30:34.639629Z",
     "iopub.status.busy": "2025-08-05T15:30:34.639257Z",
     "iopub.status.idle": "2025-08-05T15:30:34.712793Z",
     "shell.execute_reply": "2025-08-05T15:30:34.711368Z"
    },
    "papermill": {
     "duration": 0.098839,
     "end_time": "2025-08-05T15:30:34.715170",
     "exception": false,
     "start_time": "2025-08-05T15:30:34.616331",
     "status": "completed"
    },
    "tags": []
   },
   "outputs": [],
   "source": [
    "X_test = siab_test.iloc[:,4:164]\n",
    "y_true = siab_test.iloc[:, [3]]"
   ]
  },
  {
   "cell_type": "code",
   "execution_count": 18,
   "id": "e6c733c5",
   "metadata": {
    "execution": {
     "iopub.execute_input": "2025-08-05T15:30:34.753361Z",
     "iopub.status.busy": "2025-08-05T15:30:34.752675Z",
     "iopub.status.idle": "2025-08-05T15:30:34.853574Z",
     "shell.execute_reply": "2025-08-05T15:30:34.852581Z"
    },
    "papermill": {
     "duration": 0.120983,
     "end_time": "2025-08-05T15:30:34.855599",
     "exception": false,
     "start_time": "2025-08-05T15:30:34.734616",
     "status": "completed"
    },
    "tags": []
   },
   "outputs": [],
   "source": [
    "# Auxiliary data needed downstream in the pipeline\n",
    "\n",
    "org_train = X_train.copy()\n",
    "org_test = X_test.copy()\n",
    "org_calib = X_calib.copy()"
   ]
  },
  {
   "cell_type": "markdown",
   "id": "0a4a1b33",
   "metadata": {
    "papermill": {
     "duration": 0.016859,
     "end_time": "2025-08-05T15:30:34.890925",
     "exception": false,
     "start_time": "2025-08-05T15:30:34.874066",
     "status": "completed"
    },
    "tags": []
   },
   "source": [
    "# Preprocessing Data"
   ]
  },
  {
   "cell_type": "code",
   "execution_count": 19,
   "id": "ca879031",
   "metadata": {
    "execution": {
     "iopub.execute_input": "2025-08-05T15:30:34.927918Z",
     "iopub.status.busy": "2025-08-05T15:30:34.927235Z",
     "iopub.status.idle": "2025-08-05T15:30:34.933665Z",
     "shell.execute_reply": "2025-08-05T15:30:34.932438Z"
    },
    "papermill": {
     "duration": 0.027187,
     "end_time": "2025-08-05T15:30:34.935418",
     "exception": false,
     "start_time": "2025-08-05T15:30:34.908231",
     "status": "completed"
    },
    "tags": []
   },
   "outputs": [],
   "source": [
    "# EXCLUDE PROTECTED FEATURES\n",
    "# ----------------------\n",
    "# \"exclude_features\": \"none\", # \"nationality\", \"sex\", \"nationality-sex\"\n",
    "\n",
    "excluded_features = universe[\"exclude_features\"].split(\"-\") # split, e.g.: \"nationality-sex\" -> [\"nationality\", \"sex\"]\n",
    "excluded_features_dictionary = {\n",
    "    \"nationality\": [\"maxdeutsch1\", \"maxdeutsch.Missing.\"],\n",
    "    \"sex\": [\"frau1\"],\n",
    "    \"age\": [\"age\"],\n",
    "}"
   ]
  },
  {
   "cell_type": "code",
   "execution_count": 20,
   "id": "b745ac60",
   "metadata": {
    "execution": {
     "iopub.execute_input": "2025-08-05T15:30:34.971781Z",
     "iopub.status.busy": "2025-08-05T15:30:34.971086Z",
     "iopub.status.idle": "2025-08-05T15:30:34.976840Z",
     "shell.execute_reply": "2025-08-05T15:30:34.975827Z"
    },
    "papermill": {
     "duration": 0.025614,
     "end_time": "2025-08-05T15:30:34.978699",
     "exception": false,
     "start_time": "2025-08-05T15:30:34.953085",
     "status": "completed"
    },
    "tags": []
   },
   "outputs": [],
   "source": [
    "# Code nice names to column names\n",
    "\n",
    "excluded_features_columns = [\n",
    "    excluded_features_dictionary[f] for f in excluded_features if len(f) > 0 and f != \"none\"\n",
    "]"
   ]
  },
  {
   "cell_type": "code",
   "execution_count": 21,
   "id": "f84f73a2",
   "metadata": {
    "execution": {
     "iopub.execute_input": "2025-08-05T15:30:35.017803Z",
     "iopub.status.busy": "2025-08-05T15:30:35.016719Z",
     "iopub.status.idle": "2025-08-05T15:30:35.023321Z",
     "shell.execute_reply": "2025-08-05T15:30:35.022281Z"
    },
    "papermill": {
     "duration": 0.027521,
     "end_time": "2025-08-05T15:30:35.025078",
     "exception": false,
     "start_time": "2025-08-05T15:30:34.997557",
     "status": "completed"
    },
    "tags": []
   },
   "outputs": [],
   "source": [
    "from utils import flatten_once\n",
    "\n",
    "excluded_features_columns = flatten_once(excluded_features_columns)"
   ]
  },
  {
   "cell_type": "code",
   "execution_count": 22,
   "id": "884dea22",
   "metadata": {
    "execution": {
     "iopub.execute_input": "2025-08-05T15:30:35.063972Z",
     "iopub.status.busy": "2025-08-05T15:30:35.063099Z",
     "iopub.status.idle": "2025-08-05T15:30:35.072789Z",
     "shell.execute_reply": "2025-08-05T15:30:35.071699Z"
    },
    "papermill": {
     "duration": 0.030935,
     "end_time": "2025-08-05T15:30:35.074747",
     "exception": false,
     "start_time": "2025-08-05T15:30:35.043812",
     "status": "completed"
    },
    "tags": []
   },
   "outputs": [
    {
     "name": "stdout",
     "output_type": "stream",
     "text": [
      "Dropping features: ['frau1']\n"
     ]
    }
   ],
   "source": [
    "if len(excluded_features_columns) > 0:\n",
    "    print(f\"Dropping features: {excluded_features_columns}\")\n",
    "    X_train.drop(excluded_features_columns, axis=1, inplace=True)"
   ]
  },
  {
   "cell_type": "code",
   "execution_count": 23,
   "id": "95ab8b16",
   "metadata": {
    "execution": {
     "iopub.execute_input": "2025-08-05T15:30:35.114192Z",
     "iopub.status.busy": "2025-08-05T15:30:35.113307Z",
     "iopub.status.idle": "2025-08-05T15:30:35.167900Z",
     "shell.execute_reply": "2025-08-05T15:30:35.166710Z"
    },
    "papermill": {
     "duration": 0.076398,
     "end_time": "2025-08-05T15:30:35.169851",
     "exception": false,
     "start_time": "2025-08-05T15:30:35.093453",
     "status": "completed"
    },
    "tags": []
   },
   "outputs": [
    {
     "name": "stdout",
     "output_type": "stream",
     "text": [
      "Dropping features: ['frau1']\n"
     ]
    }
   ],
   "source": [
    "if len(excluded_features_columns) > 0:\n",
    "    print(f\"Dropping features: {excluded_features_columns}\")\n",
    "    X_test.drop(excluded_features_columns, axis=1, inplace=True)"
   ]
  },
  {
   "cell_type": "code",
   "execution_count": 24,
   "id": "1853aaf5-fb9f-46cb-a2b5-8ea4ae2237e4",
   "metadata": {
    "execution": {
     "iopub.execute_input": "2025-08-05T15:30:35.207909Z",
     "iopub.status.busy": "2025-08-05T15:30:35.207235Z",
     "iopub.status.idle": "2025-08-05T15:30:35.258788Z",
     "shell.execute_reply": "2025-08-05T15:30:35.257541Z"
    },
    "papermill": {
     "duration": 0.072115,
     "end_time": "2025-08-05T15:30:35.260874",
     "exception": false,
     "start_time": "2025-08-05T15:30:35.188759",
     "status": "completed"
    },
    "tags": []
   },
   "outputs": [
    {
     "name": "stdout",
     "output_type": "stream",
     "text": [
      "Dropping features: ['frau1']\n"
     ]
    }
   ],
   "source": [
    "if len(excluded_features_columns) > 0:\n",
    "    print(f\"Dropping features: {excluded_features_columns}\")\n",
    "    X_calib.drop(excluded_features_columns, axis=1, inplace=True)"
   ]
  },
  {
   "cell_type": "code",
   "execution_count": 25,
   "id": "76c4dc6d",
   "metadata": {
    "execution": {
     "iopub.execute_input": "2025-08-05T15:30:35.300494Z",
     "iopub.status.busy": "2025-08-05T15:30:35.299803Z",
     "iopub.status.idle": "2025-08-05T15:30:35.305556Z",
     "shell.execute_reply": "2025-08-05T15:30:35.304583Z"
    },
    "papermill": {
     "duration": 0.02711,
     "end_time": "2025-08-05T15:30:35.307330",
     "exception": false,
     "start_time": "2025-08-05T15:30:35.280220",
     "status": "completed"
    },
    "tags": []
   },
   "outputs": [],
   "source": [
    "# EXCLUDE CERTAIN SUBGROUPS\n",
    "# ----------------------\n",
    "\n",
    "mode = universe.get(\"exclude_subgroups\", \"keep-all\") \n",
    "# Fetches the exclude_subgroups setting from the universe dict.\n",
    "# Defaults to \"keep-all\" if the key is missing."
   ]
  },
  {
   "cell_type": "code",
   "execution_count": 26,
   "id": "21994072",
   "metadata": {
    "execution": {
     "iopub.execute_input": "2025-08-05T15:30:35.345691Z",
     "iopub.status.busy": "2025-08-05T15:30:35.344998Z",
     "iopub.status.idle": "2025-08-05T15:30:35.355448Z",
     "shell.execute_reply": "2025-08-05T15:30:35.354474Z"
    },
    "papermill": {
     "duration": 0.041863,
     "end_time": "2025-08-05T15:30:35.367203",
     "exception": false,
     "start_time": "2025-08-05T15:30:35.325340",
     "status": "completed"
    },
    "tags": []
   },
   "outputs": [],
   "source": [
    "if mode == \"keep-all\":\n",
    "    keep_mask = pd.Series(True, index=org_train.index)\n",
    "\n",
    "# org_train contains the original feature columns from features_org (in Simson)\n",
    "# features_org contains unprocessed features, for me X_train at beginning ???\n",
    "# For keep-all, creates a boolean Series (keep_mask) of all True, so no rows are removed.\n",
    "\n",
    "elif mode == \"drop-non-german\":\n",
    "    keep_mask = org_train[\"maxdeutsch1\"] == 1 # ??? what about missing values?\n",
    "\n",
    "else:\n",
    "    raise ValueError(f\"Unsupported mode for exclude_subgroups: {mode}\")"
   ]
  },
  {
   "cell_type": "code",
   "execution_count": 27,
   "id": "71651440",
   "metadata": {
    "execution": {
     "iopub.execute_input": "2025-08-05T15:30:35.405899Z",
     "iopub.status.busy": "2025-08-05T15:30:35.405418Z",
     "iopub.status.idle": "2025-08-05T15:30:35.412520Z",
     "shell.execute_reply": "2025-08-05T15:30:35.411535Z"
    },
    "papermill": {
     "duration": 0.029023,
     "end_time": "2025-08-05T15:30:35.414297",
     "exception": false,
     "start_time": "2025-08-05T15:30:35.385274",
     "status": "completed"
    },
    "tags": []
   },
   "outputs": [
    {
     "name": "stdout",
     "output_type": "stream",
     "text": [
      "Dropping 741 rows (14.82%) where mode='drop-non-german'\n"
     ]
    }
   ],
   "source": [
    "n_drop = (~keep_mask).sum() # Calculates how many rows are set to be dropped\n",
    "if n_drop > 0:\n",
    "    pct = n_drop / len(keep_mask) * 100\n",
    "    print(f\"Dropping {n_drop} rows ({pct:.2f}%) where mode='{mode}'\")"
   ]
  },
  {
   "cell_type": "code",
   "execution_count": 28,
   "id": "5fb8eee5",
   "metadata": {
    "execution": {
     "iopub.execute_input": "2025-08-05T15:30:35.452825Z",
     "iopub.status.busy": "2025-08-05T15:30:35.452333Z",
     "iopub.status.idle": "2025-08-05T15:30:35.459886Z",
     "shell.execute_reply": "2025-08-05T15:30:35.458918Z"
    },
    "papermill": {
     "duration": 0.02844,
     "end_time": "2025-08-05T15:30:35.461524",
     "exception": false,
     "start_time": "2025-08-05T15:30:35.433084",
     "status": "completed"
    },
    "tags": []
   },
   "outputs": [],
   "source": [
    "X_train = X_train[keep_mask]"
   ]
  },
  {
   "cell_type": "code",
   "execution_count": 29,
   "id": "b202bb3a",
   "metadata": {
    "execution": {
     "iopub.execute_input": "2025-08-05T15:30:35.502392Z",
     "iopub.status.busy": "2025-08-05T15:30:35.501538Z",
     "iopub.status.idle": "2025-08-05T15:30:35.507364Z",
     "shell.execute_reply": "2025-08-05T15:30:35.506541Z"
    },
    "papermill": {
     "duration": 0.027417,
     "end_time": "2025-08-05T15:30:35.508923",
     "exception": false,
     "start_time": "2025-08-05T15:30:35.481506",
     "status": "completed"
    },
    "tags": []
   },
   "outputs": [],
   "source": [
    "y_train = y_train[keep_mask]"
   ]
  },
  {
   "cell_type": "markdown",
   "id": "493e2ac3",
   "metadata": {
    "papermill": {
     "duration": 0.019334,
     "end_time": "2025-08-05T15:30:35.547029",
     "exception": false,
     "start_time": "2025-08-05T15:30:35.527695",
     "status": "completed"
    },
    "tags": []
   },
   "source": [
    "# Model Training"
   ]
  },
  {
   "cell_type": "code",
   "execution_count": 30,
   "id": "679e1268",
   "metadata": {
    "execution": {
     "iopub.execute_input": "2025-08-05T15:30:35.585770Z",
     "iopub.status.busy": "2025-08-05T15:30:35.585286Z",
     "iopub.status.idle": "2025-08-05T15:30:35.689473Z",
     "shell.execute_reply": "2025-08-05T15:30:35.688233Z"
    },
    "papermill": {
     "duration": 0.125211,
     "end_time": "2025-08-05T15:30:35.691545",
     "exception": false,
     "start_time": "2025-08-05T15:30:35.566334",
     "status": "completed"
    },
    "tags": []
   },
   "outputs": [],
   "source": [
    "from sklearn.linear_model import LogisticRegression\n",
    "from sklearn.ensemble import GradientBoostingClassifier, RandomForestClassifier\n",
    "\n",
    "if (universe[\"model\"] == \"logreg\"):\n",
    "    model = LogisticRegression() #penalty=\"none\", solver=\"newton-cg\", max_iter=1) # include random_state=19 ?\n",
    "elif (universe[\"model\"] == \"penalized_logreg\"):\n",
    "    model = LogisticRegression(penalty=\"l2\", C=0.1) #, solver=\"newton-cg\", max_iter=1)\n",
    "elif (universe[\"model\"] == \"rf\"):\n",
    "    model = RandomForestClassifier() # n_estimators=100, n_jobs=-1\n",
    "elif (universe[\"model\"] == \"gbm\"):\n",
    "    model = GradientBoostingClassifier()\n",
    "elif (universe[\"model\"] == \"elasticnet\"):\n",
    "    model = LogisticRegression(penalty = 'elasticnet', solver = 'saga', l1_ratio = 0.5) # max_iter=5000\n",
    "else:\n",
    "    raise \"Unsupported universe.model\""
   ]
  },
  {
   "cell_type": "code",
   "execution_count": 31,
   "id": "0cc8f744",
   "metadata": {
    "execution": {
     "iopub.execute_input": "2025-08-05T15:30:35.730641Z",
     "iopub.status.busy": "2025-08-05T15:30:35.729953Z",
     "iopub.status.idle": "2025-08-05T15:30:35.736665Z",
     "shell.execute_reply": "2025-08-05T15:30:35.735659Z"
    },
    "papermill": {
     "duration": 0.02777,
     "end_time": "2025-08-05T15:30:35.738523",
     "exception": false,
     "start_time": "2025-08-05T15:30:35.710753",
     "status": "completed"
    },
    "tags": []
   },
   "outputs": [],
   "source": [
    "import numpy as np\n",
    "from sklearn.pipeline import Pipeline\n",
    "from sklearn.preprocessing import StandardScaler\n",
    "\n",
    "model = Pipeline([\n",
    "    #(\"continuous_processor\", continuous_processor),\n",
    "    #(\"categorical_preprocessor\", categorical_preprocessor),\n",
    "    (\"scale\", StandardScaler() if universe[\"scale\"] == \"scale\" else None), \n",
    "    (\"model\", model),\n",
    "])"
   ]
  },
  {
   "cell_type": "code",
   "execution_count": 32,
   "id": "9442c04d",
   "metadata": {
    "execution": {
     "iopub.execute_input": "2025-08-05T15:30:35.779024Z",
     "iopub.status.busy": "2025-08-05T15:30:35.778348Z",
     "iopub.status.idle": "2025-08-05T15:30:37.355083Z",
     "shell.execute_reply": "2025-08-05T15:30:37.353927Z"
    },
    "papermill": {
     "duration": 1.598546,
     "end_time": "2025-08-05T15:30:37.356991",
     "exception": false,
     "start_time": "2025-08-05T15:30:35.758445",
     "status": "completed"
    },
    "tags": []
   },
   "outputs": [
    {
     "data": {
      "text/html": [
       "<style>#sk-container-id-1 {color: black;background-color: white;}#sk-container-id-1 pre{padding: 0;}#sk-container-id-1 div.sk-toggleable {background-color: white;}#sk-container-id-1 label.sk-toggleable__label {cursor: pointer;display: block;width: 100%;margin-bottom: 0;padding: 0.3em;box-sizing: border-box;text-align: center;}#sk-container-id-1 label.sk-toggleable__label-arrow:before {content: \"▸\";float: left;margin-right: 0.25em;color: #696969;}#sk-container-id-1 label.sk-toggleable__label-arrow:hover:before {color: black;}#sk-container-id-1 div.sk-estimator:hover label.sk-toggleable__label-arrow:before {color: black;}#sk-container-id-1 div.sk-toggleable__content {max-height: 0;max-width: 0;overflow: hidden;text-align: left;background-color: #f0f8ff;}#sk-container-id-1 div.sk-toggleable__content pre {margin: 0.2em;color: black;border-radius: 0.25em;background-color: #f0f8ff;}#sk-container-id-1 input.sk-toggleable__control:checked~div.sk-toggleable__content {max-height: 200px;max-width: 100%;overflow: auto;}#sk-container-id-1 input.sk-toggleable__control:checked~label.sk-toggleable__label-arrow:before {content: \"▾\";}#sk-container-id-1 div.sk-estimator input.sk-toggleable__control:checked~label.sk-toggleable__label {background-color: #d4ebff;}#sk-container-id-1 div.sk-label input.sk-toggleable__control:checked~label.sk-toggleable__label {background-color: #d4ebff;}#sk-container-id-1 input.sk-hidden--visually {border: 0;clip: rect(1px 1px 1px 1px);clip: rect(1px, 1px, 1px, 1px);height: 1px;margin: -1px;overflow: hidden;padding: 0;position: absolute;width: 1px;}#sk-container-id-1 div.sk-estimator {font-family: monospace;background-color: #f0f8ff;border: 1px dotted black;border-radius: 0.25em;box-sizing: border-box;margin-bottom: 0.5em;}#sk-container-id-1 div.sk-estimator:hover {background-color: #d4ebff;}#sk-container-id-1 div.sk-parallel-item::after {content: \"\";width: 100%;border-bottom: 1px solid gray;flex-grow: 1;}#sk-container-id-1 div.sk-label:hover label.sk-toggleable__label {background-color: #d4ebff;}#sk-container-id-1 div.sk-serial::before {content: \"\";position: absolute;border-left: 1px solid gray;box-sizing: border-box;top: 0;bottom: 0;left: 50%;z-index: 0;}#sk-container-id-1 div.sk-serial {display: flex;flex-direction: column;align-items: center;background-color: white;padding-right: 0.2em;padding-left: 0.2em;position: relative;}#sk-container-id-1 div.sk-item {position: relative;z-index: 1;}#sk-container-id-1 div.sk-parallel {display: flex;align-items: stretch;justify-content: center;background-color: white;position: relative;}#sk-container-id-1 div.sk-item::before, #sk-container-id-1 div.sk-parallel-item::before {content: \"\";position: absolute;border-left: 1px solid gray;box-sizing: border-box;top: 0;bottom: 0;left: 50%;z-index: -1;}#sk-container-id-1 div.sk-parallel-item {display: flex;flex-direction: column;z-index: 1;position: relative;background-color: white;}#sk-container-id-1 div.sk-parallel-item:first-child::after {align-self: flex-end;width: 50%;}#sk-container-id-1 div.sk-parallel-item:last-child::after {align-self: flex-start;width: 50%;}#sk-container-id-1 div.sk-parallel-item:only-child::after {width: 0;}#sk-container-id-1 div.sk-dashed-wrapped {border: 1px dashed gray;margin: 0 0.4em 0.5em 0.4em;box-sizing: border-box;padding-bottom: 0.4em;background-color: white;}#sk-container-id-1 div.sk-label label {font-family: monospace;font-weight: bold;display: inline-block;line-height: 1.2em;}#sk-container-id-1 div.sk-label-container {text-align: center;}#sk-container-id-1 div.sk-container {/* jupyter's `normalize.less` sets `[hidden] { display: none; }` but bootstrap.min.css set `[hidden] { display: none !important; }` so we also need the `!important` here to be able to override the default hidden behavior on the sphinx rendered scikit-learn.org. See: https://github.com/scikit-learn/scikit-learn/issues/21755 */display: inline-block !important;position: relative;}#sk-container-id-1 div.sk-text-repr-fallback {display: none;}</style><div id=\"sk-container-id-1\" class=\"sk-top-container\"><div class=\"sk-text-repr-fallback\"><pre>Pipeline(steps=[(&#x27;scale&#x27;, None), (&#x27;model&#x27;, RandomForestClassifier())])</pre><b>In a Jupyter environment, please rerun this cell to show the HTML representation or trust the notebook. <br />On GitHub, the HTML representation is unable to render, please try loading this page with nbviewer.org.</b></div><div class=\"sk-container\" hidden><div class=\"sk-item sk-dashed-wrapped\"><div class=\"sk-label-container\"><div class=\"sk-label sk-toggleable\"><input class=\"sk-toggleable__control sk-hidden--visually\" id=\"sk-estimator-id-1\" type=\"checkbox\" ><label for=\"sk-estimator-id-1\" class=\"sk-toggleable__label sk-toggleable__label-arrow\">Pipeline</label><div class=\"sk-toggleable__content\"><pre>Pipeline(steps=[(&#x27;scale&#x27;, None), (&#x27;model&#x27;, RandomForestClassifier())])</pre></div></div></div><div class=\"sk-serial\"><div class=\"sk-item\"><div class=\"sk-estimator sk-toggleable\"><input class=\"sk-toggleable__control sk-hidden--visually\" id=\"sk-estimator-id-2\" type=\"checkbox\" ><label for=\"sk-estimator-id-2\" class=\"sk-toggleable__label sk-toggleable__label-arrow\">None</label><div class=\"sk-toggleable__content\"><pre>None</pre></div></div></div><div class=\"sk-item\"><div class=\"sk-estimator sk-toggleable\"><input class=\"sk-toggleable__control sk-hidden--visually\" id=\"sk-estimator-id-3\" type=\"checkbox\" ><label for=\"sk-estimator-id-3\" class=\"sk-toggleable__label sk-toggleable__label-arrow\">RandomForestClassifier</label><div class=\"sk-toggleable__content\"><pre>RandomForestClassifier()</pre></div></div></div></div></div></div></div>"
      ],
      "text/plain": [
       "Pipeline(steps=[('scale', None), ('model', RandomForestClassifier())])"
      ]
     },
     "execution_count": 32,
     "metadata": {},
     "output_type": "execute_result"
    }
   ],
   "source": [
    "model.fit(X_train, y_train.values.ravel())"
   ]
  },
  {
   "cell_type": "code",
   "execution_count": 33,
   "id": "af59f8c0",
   "metadata": {
    "execution": {
     "iopub.execute_input": "2025-08-05T15:30:37.399900Z",
     "iopub.status.busy": "2025-08-05T15:30:37.399308Z",
     "iopub.status.idle": "2025-08-05T15:30:37.406483Z",
     "shell.execute_reply": "2025-08-05T15:30:37.405204Z"
    },
    "papermill": {
     "duration": 0.031423,
     "end_time": "2025-08-05T15:30:37.408546",
     "exception": false,
     "start_time": "2025-08-05T15:30:37.377123",
     "status": "completed"
    },
    "tags": []
   },
   "outputs": [],
   "source": [
    "from fairness_multiverse.universe import predict_w_threshold"
   ]
  },
  {
   "cell_type": "code",
   "execution_count": 34,
   "id": "a7cf2e16",
   "metadata": {
    "execution": {
     "iopub.execute_input": "2025-08-05T15:30:37.451467Z",
     "iopub.status.busy": "2025-08-05T15:30:37.450456Z",
     "iopub.status.idle": "2025-08-05T15:30:39.589848Z",
     "shell.execute_reply": "2025-08-05T15:30:39.588785Z"
    },
    "papermill": {
     "duration": 2.162376,
     "end_time": "2025-08-05T15:30:39.591542",
     "exception": false,
     "start_time": "2025-08-05T15:30:37.429166",
     "status": "completed"
    },
    "tags": []
   },
   "outputs": [
    {
     "data": {
      "text/plain": [
       "0.8631813621669825"
      ]
     },
     "execution_count": 34,
     "metadata": {},
     "output_type": "execute_result"
    }
   ],
   "source": [
    "probs_test = model.predict_proba(X_test)\n",
    "\n",
    "'''\n",
    "Below code returns a boolean array (or binary 0/1 array depending on how it’s used) where each element \n",
    "is True if the probability of class 1 is greater than or equal to the threshold, and False otherwise.\n",
    "'''\n",
    "y_pred_default = predict_w_threshold(probs_test, 0.5)\n",
    "\n",
    "from sklearn.metrics import accuracy_score\n",
    "\n",
    "# Naive prediction\n",
    "accuracy_score(y_true = y_true, y_pred = y_pred_default)"
   ]
  },
  {
   "cell_type": "code",
   "execution_count": 35,
   "id": "081964c3",
   "metadata": {
    "execution": {
     "iopub.execute_input": "2025-08-05T15:30:39.639149Z",
     "iopub.status.busy": "2025-08-05T15:30:39.638503Z",
     "iopub.status.idle": "2025-08-05T15:30:41.787075Z",
     "shell.execute_reply": "2025-08-05T15:30:41.786379Z"
    },
    "papermill": {
     "duration": 2.172395,
     "end_time": "2025-08-05T15:30:41.788289",
     "exception": false,
     "start_time": "2025-08-05T15:30:39.615894",
     "status": "completed"
    },
    "tags": []
   },
   "outputs": [
    {
     "data": {
      "text/plain": [
       "array([0, 0, 0, ..., 0, 0, 0])"
      ]
     },
     "execution_count": 35,
     "metadata": {},
     "output_type": "execute_result"
    }
   ],
   "source": [
    "model.predict(X_test)"
   ]
  },
  {
   "cell_type": "markdown",
   "id": "56c9705b",
   "metadata": {
    "papermill": {
     "duration": 0.009777,
     "end_time": "2025-08-05T15:30:41.808746",
     "exception": false,
     "start_time": "2025-08-05T15:30:41.798969",
     "status": "completed"
    },
    "tags": []
   },
   "source": [
    "# Conformal Prediction"
   ]
  },
  {
   "cell_type": "code",
   "execution_count": 36,
   "id": "160ec6ff",
   "metadata": {
    "execution": {
     "iopub.execute_input": "2025-08-05T15:30:41.830281Z",
     "iopub.status.busy": "2025-08-05T15:30:41.829781Z",
     "iopub.status.idle": "2025-08-05T15:30:41.834271Z",
     "shell.execute_reply": "2025-08-05T15:30:41.833569Z"
    },
    "papermill": {
     "duration": 0.016758,
     "end_time": "2025-08-05T15:30:41.835777",
     "exception": false,
     "start_time": "2025-08-05T15:30:41.819019",
     "status": "completed"
    },
    "tags": []
   },
   "outputs": [],
   "source": [
    "# Miscoverage level for conformal prediction (10% allowed error rate => 90% target coverage)\n",
    "alpha = 0.1"
   ]
  },
  {
   "cell_type": "code",
   "execution_count": 37,
   "id": "eadf4555-3dd3-440e-8e35-f82a4ad9f855",
   "metadata": {
    "execution": {
     "iopub.execute_input": "2025-08-05T15:30:41.858249Z",
     "iopub.status.busy": "2025-08-05T15:30:41.857746Z",
     "iopub.status.idle": "2025-08-05T15:30:43.583522Z",
     "shell.execute_reply": "2025-08-05T15:30:43.582799Z"
    },
    "papermill": {
     "duration": 1.738116,
     "end_time": "2025-08-05T15:30:43.584872",
     "exception": false,
     "start_time": "2025-08-05T15:30:41.846756",
     "status": "completed"
    },
    "tags": []
   },
   "outputs": [],
   "source": [
    "probs_calib = model.predict_proba(X_calib)"
   ]
  },
  {
   "cell_type": "code",
   "execution_count": 38,
   "id": "2ed93547-6d5d-4983-9b36-1ecb300da49a",
   "metadata": {
    "execution": {
     "iopub.execute_input": "2025-08-05T15:30:43.607006Z",
     "iopub.status.busy": "2025-08-05T15:30:43.606605Z",
     "iopub.status.idle": "2025-08-05T15:30:43.611468Z",
     "shell.execute_reply": "2025-08-05T15:30:43.610717Z"
    },
    "papermill": {
     "duration": 0.0169,
     "end_time": "2025-08-05T15:30:43.612833",
     "exception": false,
     "start_time": "2025-08-05T15:30:43.595933",
     "status": "completed"
    },
    "tags": []
   },
   "outputs": [],
   "source": [
    "y_calib = y_calib.values.ravel().astype(int)"
   ]
  },
  {
   "cell_type": "code",
   "execution_count": 39,
   "id": "65d1320d-f588-4b38-9072-62af1ae97f7d",
   "metadata": {
    "execution": {
     "iopub.execute_input": "2025-08-05T15:30:43.634580Z",
     "iopub.status.busy": "2025-08-05T15:30:43.634101Z",
     "iopub.status.idle": "2025-08-05T15:30:43.639585Z",
     "shell.execute_reply": "2025-08-05T15:30:43.638876Z"
    },
    "papermill": {
     "duration": 0.017584,
     "end_time": "2025-08-05T15:30:43.640998",
     "exception": false,
     "start_time": "2025-08-05T15:30:43.623414",
     "status": "completed"
    },
    "tags": []
   },
   "outputs": [],
   "source": [
    "from fairness_multiverse.conformal import compute_nc_scores\n",
    "\n",
    "# Compute nonconformity scores on calibration set (1 - probability of true class)\n",
    "nc_scores = compute_nc_scores(probs_calib, y_calib)"
   ]
  },
  {
   "cell_type": "code",
   "execution_count": 40,
   "id": "df3b8ca3-53b7-43d5-9667-7c85da7aeda2",
   "metadata": {
    "execution": {
     "iopub.execute_input": "2025-08-05T15:30:43.662776Z",
     "iopub.status.busy": "2025-08-05T15:30:43.662274Z",
     "iopub.status.idle": "2025-08-05T15:30:43.667661Z",
     "shell.execute_reply": "2025-08-05T15:30:43.666888Z"
    },
    "papermill": {
     "duration": 0.017653,
     "end_time": "2025-08-05T15:30:43.669028",
     "exception": false,
     "start_time": "2025-08-05T15:30:43.651375",
     "status": "completed"
    },
    "tags": []
   },
   "outputs": [],
   "source": [
    "from fairness_multiverse.conformal import find_threshold\n",
    "\n",
    "# Find conformal threshold q_hat for the given alpha (split conformal method)\n",
    "q_hat = find_threshold(nc_scores, alpha)"
   ]
  },
  {
   "cell_type": "code",
   "execution_count": 41,
   "id": "4d29e6c1-0ef6-4aa4-b8fe-4fe79b0d033a",
   "metadata": {
    "execution": {
     "iopub.execute_input": "2025-08-05T15:30:43.691054Z",
     "iopub.status.busy": "2025-08-05T15:30:43.690329Z",
     "iopub.status.idle": "2025-08-05T15:30:43.696045Z",
     "shell.execute_reply": "2025-08-05T15:30:43.695321Z"
    },
    "papermill": {
     "duration": 0.01781,
     "end_time": "2025-08-05T15:30:43.697474",
     "exception": false,
     "start_time": "2025-08-05T15:30:43.679664",
     "status": "completed"
    },
    "tags": []
   },
   "outputs": [
    {
     "data": {
      "text/plain": [
       "0.65"
      ]
     },
     "execution_count": 41,
     "metadata": {},
     "output_type": "execute_result"
    }
   ],
   "source": [
    "q_hat"
   ]
  },
  {
   "cell_type": "code",
   "execution_count": 42,
   "id": "92460794-cdac-4be2-ba28-f28c0515a6fb",
   "metadata": {
    "execution": {
     "iopub.execute_input": "2025-08-05T15:30:43.719291Z",
     "iopub.status.busy": "2025-08-05T15:30:43.718804Z",
     "iopub.status.idle": "2025-08-05T15:30:46.531737Z",
     "shell.execute_reply": "2025-08-05T15:30:46.530789Z"
    },
    "papermill": {
     "duration": 2.825583,
     "end_time": "2025-08-05T15:30:46.533685",
     "exception": false,
     "start_time": "2025-08-05T15:30:43.708102",
     "status": "completed"
    },
    "tags": []
   },
   "outputs": [],
   "source": [
    "from fairness_multiverse.conformal import predict_conformal_sets\n",
    "\n",
    "# Generate prediction sets for each test example\n",
    "pred_sets = predict_conformal_sets(model, X_test, q_hat)"
   ]
  },
  {
   "cell_type": "code",
   "execution_count": 43,
   "id": "d90c9a65-e6db-4f5d-80cd-e68fb7e46829",
   "metadata": {
    "execution": {
     "iopub.execute_input": "2025-08-05T15:30:46.578314Z",
     "iopub.status.busy": "2025-08-05T15:30:46.577596Z",
     "iopub.status.idle": "2025-08-05T15:30:46.583317Z",
     "shell.execute_reply": "2025-08-05T15:30:46.582332Z"
    },
    "papermill": {
     "duration": 0.029196,
     "end_time": "2025-08-05T15:30:46.585157",
     "exception": false,
     "start_time": "2025-08-05T15:30:46.555961",
     "status": "completed"
    },
    "tags": []
   },
   "outputs": [],
   "source": [
    "y_true = y_true.squeeze()"
   ]
  },
  {
   "cell_type": "code",
   "execution_count": 44,
   "id": "3a58a54a-1e68-46b9-927a-df01f18aebc8",
   "metadata": {
    "execution": {
     "iopub.execute_input": "2025-08-05T15:30:46.630718Z",
     "iopub.status.busy": "2025-08-05T15:30:46.629858Z",
     "iopub.status.idle": "2025-08-05T15:30:47.642326Z",
     "shell.execute_reply": "2025-08-05T15:30:47.641201Z"
    },
    "papermill": {
     "duration": 1.036837,
     "end_time": "2025-08-05T15:30:47.644384",
     "exception": false,
     "start_time": "2025-08-05T15:30:46.607547",
     "status": "completed"
    },
    "tags": []
   },
   "outputs": [],
   "source": [
    "from fairness_multiverse.conformal import evaluate_sets\n",
    "\n",
    "# Evaluate coverage and average set size on test data\n",
    "metrics = evaluate_sets(pred_sets, y_true)"
   ]
  },
  {
   "cell_type": "markdown",
   "id": "2b569c12-9aaa-4c88-98c9-bbcd0cf3ebb8",
   "metadata": {
    "papermill": {
     "duration": 0.024629,
     "end_time": "2025-08-05T15:30:47.694394",
     "exception": false,
     "start_time": "2025-08-05T15:30:47.669765",
     "status": "completed"
    },
    "tags": []
   },
   "source": [
    "# CP Metrics"
   ]
  },
  {
   "cell_type": "code",
   "execution_count": 45,
   "id": "5ce0a5cb-201f-45a0-ade5-94c7f0bd6095",
   "metadata": {
    "execution": {
     "iopub.execute_input": "2025-08-05T15:30:47.742621Z",
     "iopub.status.busy": "2025-08-05T15:30:47.742136Z",
     "iopub.status.idle": "2025-08-05T15:30:47.750161Z",
     "shell.execute_reply": "2025-08-05T15:30:47.749030Z"
    },
    "papermill": {
     "duration": 0.032452,
     "end_time": "2025-08-05T15:30:47.751752",
     "exception": false,
     "start_time": "2025-08-05T15:30:47.719300",
     "status": "completed"
    },
    "tags": []
   },
   "outputs": [
    {
     "data": {
      "text/plain": [
       "{'coverage': 0.9124177906587895, 'avg_size': 1.1377326942369859}"
      ]
     },
     "execution_count": 45,
     "metadata": {},
     "output_type": "execute_result"
    }
   ],
   "source": [
    "metrics"
   ]
  },
  {
   "cell_type": "code",
   "execution_count": 46,
   "id": "9b9a838d-31c9-430b-ae14-12baee460d17",
   "metadata": {
    "execution": {
     "iopub.execute_input": "2025-08-05T15:30:47.794019Z",
     "iopub.status.busy": "2025-08-05T15:30:47.793645Z",
     "iopub.status.idle": "2025-08-05T15:30:47.798741Z",
     "shell.execute_reply": "2025-08-05T15:30:47.797698Z"
    },
    "papermill": {
     "duration": 0.026732,
     "end_time": "2025-08-05T15:30:47.800333",
     "exception": false,
     "start_time": "2025-08-05T15:30:47.773601",
     "status": "completed"
    },
    "tags": []
   },
   "outputs": [],
   "source": [
    "example_universe = universe.copy()\n",
    "universe_training_year = example_universe.get(\"training_year\")\n",
    "universe_training_size = example_universe.get(\"training_size\")\n",
    "universe_scale = example_universe.get(\"scale\")\n",
    "universe_model = example_universe.get(\"model\")\n",
    "universe_exclude_features = example_universe.get(\"exclude_features\")\n",
    "universe_exclude_subgroups = example_universe.get(\"exclude_subgroups\")"
   ]
  },
  {
   "cell_type": "code",
   "execution_count": 47,
   "id": "f4b6a8ac-9dc0-4245-8a91-5b3b5999c4f9",
   "metadata": {
    "execution": {
     "iopub.execute_input": "2025-08-05T15:30:47.827206Z",
     "iopub.status.busy": "2025-08-05T15:30:47.826597Z",
     "iopub.status.idle": "2025-08-05T15:30:47.831782Z",
     "shell.execute_reply": "2025-08-05T15:30:47.830986Z"
    },
    "papermill": {
     "duration": 0.018405,
     "end_time": "2025-08-05T15:30:47.833305",
     "exception": false,
     "start_time": "2025-08-05T15:30:47.814900",
     "status": "completed"
    },
    "tags": []
   },
   "outputs": [],
   "source": [
    "cp_metrics_dict = {\n",
    "    \"universe_id\": [universe_id],\n",
    "    \"universe_training_year\": [universe_training_year],\n",
    "    \"universe_training_size\": [universe_training_size],\n",
    "    \"universe_scale\": [universe_scale],\n",
    "    \"universe_model\": [universe_model],\n",
    "    \"universe_exclude_features\": [universe_exclude_features],\n",
    "    \"universe_exclude_subgroups\": [universe_exclude_subgroups],\n",
    "    \"q_hat\": [q_hat],\n",
    "    \"coverage\": [metrics[\"coverage\"]],\n",
    "    \"avg_size\": [metrics[\"avg_size\"]],\n",
    "}"
   ]
  },
  {
   "cell_type": "code",
   "execution_count": 48,
   "id": "908acbb1-0371-4915-85ca-3fa520d2efe2",
   "metadata": {
    "execution": {
     "iopub.execute_input": "2025-08-05T15:30:47.857619Z",
     "iopub.status.busy": "2025-08-05T15:30:47.856904Z",
     "iopub.status.idle": "2025-08-05T15:30:47.866175Z",
     "shell.execute_reply": "2025-08-05T15:30:47.865437Z"
    },
    "papermill": {
     "duration": 0.022476,
     "end_time": "2025-08-05T15:30:47.867487",
     "exception": false,
     "start_time": "2025-08-05T15:30:47.845011",
     "status": "completed"
    },
    "tags": []
   },
   "outputs": [
    {
     "data": {
      "text/plain": [
       "{'universe_id': ['567c21be0f0ea5abd5da38f5438df2a0'],\n",
       " 'universe_training_year': ['2014'],\n",
       " 'universe_training_size': ['5k'],\n",
       " 'universe_scale': ['do-not-scale'],\n",
       " 'universe_model': ['rf'],\n",
       " 'universe_exclude_features': ['sex'],\n",
       " 'universe_exclude_subgroups': ['drop-non-german'],\n",
       " 'q_hat': [0.65],\n",
       " 'coverage': [0.9124177906587895],\n",
       " 'avg_size': [1.1377326942369859]}"
      ]
     },
     "execution_count": 48,
     "metadata": {},
     "output_type": "execute_result"
    }
   ],
   "source": [
    "cp_metrics_dict"
   ]
  },
  {
   "cell_type": "code",
   "execution_count": 49,
   "id": "33007efc-14e9-4ec6-97ac-56a455c82265",
   "metadata": {
    "execution": {
     "iopub.execute_input": "2025-08-05T15:30:47.891935Z",
     "iopub.status.busy": "2025-08-05T15:30:47.891278Z",
     "iopub.status.idle": "2025-08-05T15:30:47.897372Z",
     "shell.execute_reply": "2025-08-05T15:30:47.896532Z"
    },
    "papermill": {
     "duration": 0.020468,
     "end_time": "2025-08-05T15:30:47.899216",
     "exception": false,
     "start_time": "2025-08-05T15:30:47.878748",
     "status": "completed"
    },
    "tags": []
   },
   "outputs": [],
   "source": [
    "cp_metrics_df = pd.DataFrame(cp_metrics_dict)"
   ]
  },
  {
   "cell_type": "code",
   "execution_count": 50,
   "id": "db12611b-57b2-4910-b9d0-355adfd6e7bf",
   "metadata": {
    "execution": {
     "iopub.execute_input": "2025-08-05T15:30:47.933466Z",
     "iopub.status.busy": "2025-08-05T15:30:47.932839Z",
     "iopub.status.idle": "2025-08-05T15:30:47.946404Z",
     "shell.execute_reply": "2025-08-05T15:30:47.945561Z"
    },
    "papermill": {
     "duration": 0.034902,
     "end_time": "2025-08-05T15:30:47.949994",
     "exception": false,
     "start_time": "2025-08-05T15:30:47.915092",
     "status": "completed"
    },
    "tags": []
   },
   "outputs": [
    {
     "data": {
      "text/html": [
       "<div>\n",
       "<style scoped>\n",
       "    .dataframe tbody tr th:only-of-type {\n",
       "        vertical-align: middle;\n",
       "    }\n",
       "\n",
       "    .dataframe tbody tr th {\n",
       "        vertical-align: top;\n",
       "    }\n",
       "\n",
       "    .dataframe thead th {\n",
       "        text-align: right;\n",
       "    }\n",
       "</style>\n",
       "<table border=\"1\" class=\"dataframe\">\n",
       "  <thead>\n",
       "    <tr style=\"text-align: right;\">\n",
       "      <th></th>\n",
       "      <th>universe_id</th>\n",
       "      <th>universe_training_year</th>\n",
       "      <th>universe_training_size</th>\n",
       "      <th>universe_scale</th>\n",
       "      <th>universe_model</th>\n",
       "      <th>universe_exclude_features</th>\n",
       "      <th>universe_exclude_subgroups</th>\n",
       "      <th>q_hat</th>\n",
       "      <th>coverage</th>\n",
       "      <th>avg_size</th>\n",
       "    </tr>\n",
       "  </thead>\n",
       "  <tbody>\n",
       "    <tr>\n",
       "      <th>0</th>\n",
       "      <td>567c21be0f0ea5abd5da38f5438df2a0</td>\n",
       "      <td>2014</td>\n",
       "      <td>5k</td>\n",
       "      <td>do-not-scale</td>\n",
       "      <td>rf</td>\n",
       "      <td>sex</td>\n",
       "      <td>drop-non-german</td>\n",
       "      <td>0.65</td>\n",
       "      <td>0.912418</td>\n",
       "      <td>1.137733</td>\n",
       "    </tr>\n",
       "  </tbody>\n",
       "</table>\n",
       "</div>"
      ],
      "text/plain": [
       "                        universe_id universe_training_year  \\\n",
       "0  567c21be0f0ea5abd5da38f5438df2a0                   2014   \n",
       "\n",
       "  universe_training_size universe_scale universe_model  \\\n",
       "0                     5k   do-not-scale             rf   \n",
       "\n",
       "  universe_exclude_features universe_exclude_subgroups  q_hat  coverage  \\\n",
       "0                       sex            drop-non-german   0.65  0.912418   \n",
       "\n",
       "   avg_size  \n",
       "0  1.137733  "
      ]
     },
     "execution_count": 50,
     "metadata": {},
     "output_type": "execute_result"
    }
   ],
   "source": [
    "cp_metrics_df"
   ]
  },
  {
   "cell_type": "code",
   "execution_count": 51,
   "id": "b7fbde55-a0a1-47e4-9af6-fe4a17fa8c61",
   "metadata": {
    "execution": {
     "iopub.execute_input": "2025-08-05T15:30:47.998231Z",
     "iopub.status.busy": "2025-08-05T15:30:47.997449Z",
     "iopub.status.idle": "2025-08-05T15:30:48.030950Z",
     "shell.execute_reply": "2025-08-05T15:30:48.028882Z"
    },
    "papermill": {
     "duration": 0.059351,
     "end_time": "2025-08-05T15:30:48.032744",
     "exception": false,
     "start_time": "2025-08-05T15:30:47.973393",
     "status": "completed"
    },
    "tags": []
   },
   "outputs": [],
   "source": [
    "# Conditional Coverage & looking at subgroups"
   ]
  },
  {
   "cell_type": "code",
   "execution_count": 52,
   "id": "027ae886-68dd-4141-96c7-805a5450e1ef",
   "metadata": {
    "execution": {
     "iopub.execute_input": "2025-08-05T15:30:48.083519Z",
     "iopub.status.busy": "2025-08-05T15:30:48.083060Z",
     "iopub.status.idle": "2025-08-05T15:30:48.258908Z",
     "shell.execute_reply": "2025-08-05T15:30:48.258115Z"
    },
    "papermill": {
     "duration": 0.203109,
     "end_time": "2025-08-05T15:30:48.260463",
     "exception": false,
     "start_time": "2025-08-05T15:30:48.057354",
     "status": "completed"
    },
    "tags": []
   },
   "outputs": [],
   "source": [
    "from fairness_multiverse.conformal import build_cp_groups\n",
    "\n",
    "cp_groups_df = build_cp_groups(pred_sets, y_true, X_test.index, org_test)\n",
    "#needs universe_id and setting"
   ]
  },
  {
   "cell_type": "code",
   "execution_count": 53,
   "id": "6cbdab96-b2b2-45af-ad54-d0516db2e28d",
   "metadata": {
    "execution": {
     "iopub.execute_input": "2025-08-05T15:30:48.285194Z",
     "iopub.status.busy": "2025-08-05T15:30:48.284720Z",
     "iopub.status.idle": "2025-08-05T15:30:49.186822Z",
     "shell.execute_reply": "2025-08-05T15:30:49.186042Z"
    },
    "papermill": {
     "duration": 0.915281,
     "end_time": "2025-08-05T15:30:49.188314",
     "exception": false,
     "start_time": "2025-08-05T15:30:48.273033",
     "status": "completed"
    },
    "tags": []
   },
   "outputs": [],
   "source": [
    "# Define covered = 1 if true_label is in the predicted set\n",
    "cp_groups_df['covered'] = cp_groups_df.apply(\n",
    "    lambda r: int(r['true_label'] in r['pred_set']),\n",
    "    axis=1\n",
    ")"
   ]
  },
  {
   "cell_type": "code",
   "execution_count": 54,
   "id": "338ff529-1a6b-4b87-a931-8e4788d52aad",
   "metadata": {
    "execution": {
     "iopub.execute_input": "2025-08-05T15:30:49.212288Z",
     "iopub.status.busy": "2025-08-05T15:30:49.211939Z",
     "iopub.status.idle": "2025-08-05T15:30:49.216241Z",
     "shell.execute_reply": "2025-08-05T15:30:49.215329Z"
    },
    "papermill": {
     "duration": 0.017808,
     "end_time": "2025-08-05T15:30:49.217817",
     "exception": false,
     "start_time": "2025-08-05T15:30:49.200009",
     "status": "completed"
    },
    "tags": []
   },
   "outputs": [],
   "source": [
    "#cp_groups_df"
   ]
  },
  {
   "cell_type": "code",
   "execution_count": 55,
   "id": "90032e27-66df-4540-9169-4e89cfbaa758",
   "metadata": {
    "execution": {
     "iopub.execute_input": "2025-08-05T15:30:49.242696Z",
     "iopub.status.busy": "2025-08-05T15:30:49.241991Z",
     "iopub.status.idle": "2025-08-05T15:30:49.251588Z",
     "shell.execute_reply": "2025-08-05T15:30:49.250891Z"
    },
    "papermill": {
     "duration": 0.022877,
     "end_time": "2025-08-05T15:30:49.252947",
     "exception": false,
     "start_time": "2025-08-05T15:30:49.230070",
     "status": "completed"
    },
    "tags": []
   },
   "outputs": [],
   "source": [
    "subgroups = ['frau1','nongerman','nongerman_male','nongerman_female']\n",
    "\n",
    "# Conditional coverage for subgroup==1\n",
    "cond_coverage = {\n",
    "    g: cp_groups_df.loc[cp_groups_df[g]==1, 'covered'].mean()\n",
    "    for g in subgroups\n",
    "}"
   ]
  },
  {
   "cell_type": "code",
   "execution_count": 56,
   "id": "1e348fb1-b9c3-45bc-ba23-f016827a7e0d",
   "metadata": {
    "execution": {
     "iopub.execute_input": "2025-08-05T15:30:49.276747Z",
     "iopub.status.busy": "2025-08-05T15:30:49.276106Z",
     "iopub.status.idle": "2025-08-05T15:30:49.282516Z",
     "shell.execute_reply": "2025-08-05T15:30:49.281648Z"
    },
    "papermill": {
     "duration": 0.019545,
     "end_time": "2025-08-05T15:30:49.283939",
     "exception": false,
     "start_time": "2025-08-05T15:30:49.264394",
     "status": "completed"
    },
    "tags": []
   },
   "outputs": [
    {
     "data": {
      "text/plain": [
       "{'frau1': 0.9103113627173474,\n",
       " 'nongerman': 0.9110761803177455,\n",
       " 'nongerman_male': 0.9265964153832298,\n",
       " 'nongerman_female': 0.8853949329359165}"
      ]
     },
     "execution_count": 56,
     "metadata": {},
     "output_type": "execute_result"
    }
   ],
   "source": [
    "cond_coverage"
   ]
  },
  {
   "cell_type": "code",
   "execution_count": 57,
   "id": "f5093324-c3dd-4d63-bc4c-8d945e5c8bbb",
   "metadata": {
    "execution": {
     "iopub.execute_input": "2025-08-05T15:30:49.307924Z",
     "iopub.status.busy": "2025-08-05T15:30:49.307425Z",
     "iopub.status.idle": "2025-08-05T15:30:49.313609Z",
     "shell.execute_reply": "2025-08-05T15:30:49.312707Z"
    },
    "papermill": {
     "duration": 0.019396,
     "end_time": "2025-08-05T15:30:49.315085",
     "exception": false,
     "start_time": "2025-08-05T15:30:49.295689",
     "status": "completed"
    },
    "tags": []
   },
   "outputs": [],
   "source": [
    "for subgroup, cov in cond_coverage.items():\n",
    "    cp_metrics_df[f\"cov_{subgroup}\"] = cov"
   ]
  },
  {
   "cell_type": "code",
   "execution_count": 58,
   "id": "6e872e10-dbe5-49e8-b554-5030c98ff75d",
   "metadata": {
    "execution": {
     "iopub.execute_input": "2025-08-05T15:30:49.339181Z",
     "iopub.status.busy": "2025-08-05T15:30:49.338522Z",
     "iopub.status.idle": "2025-08-05T15:30:49.352366Z",
     "shell.execute_reply": "2025-08-05T15:30:49.351431Z"
    },
    "papermill": {
     "duration": 0.027198,
     "end_time": "2025-08-05T15:30:49.353974",
     "exception": false,
     "start_time": "2025-08-05T15:30:49.326776",
     "status": "completed"
    },
    "tags": []
   },
   "outputs": [
    {
     "data": {
      "text/html": [
       "<div>\n",
       "<style scoped>\n",
       "    .dataframe tbody tr th:only-of-type {\n",
       "        vertical-align: middle;\n",
       "    }\n",
       "\n",
       "    .dataframe tbody tr th {\n",
       "        vertical-align: top;\n",
       "    }\n",
       "\n",
       "    .dataframe thead th {\n",
       "        text-align: right;\n",
       "    }\n",
       "</style>\n",
       "<table border=\"1\" class=\"dataframe\">\n",
       "  <thead>\n",
       "    <tr style=\"text-align: right;\">\n",
       "      <th></th>\n",
       "      <th>universe_id</th>\n",
       "      <th>universe_training_year</th>\n",
       "      <th>universe_training_size</th>\n",
       "      <th>universe_scale</th>\n",
       "      <th>universe_model</th>\n",
       "      <th>universe_exclude_features</th>\n",
       "      <th>universe_exclude_subgroups</th>\n",
       "      <th>q_hat</th>\n",
       "      <th>coverage</th>\n",
       "      <th>avg_size</th>\n",
       "      <th>cov_frau1</th>\n",
       "      <th>cov_nongerman</th>\n",
       "      <th>cov_nongerman_male</th>\n",
       "      <th>cov_nongerman_female</th>\n",
       "    </tr>\n",
       "  </thead>\n",
       "  <tbody>\n",
       "    <tr>\n",
       "      <th>0</th>\n",
       "      <td>567c21be0f0ea5abd5da38f5438df2a0</td>\n",
       "      <td>2014</td>\n",
       "      <td>5k</td>\n",
       "      <td>do-not-scale</td>\n",
       "      <td>rf</td>\n",
       "      <td>sex</td>\n",
       "      <td>drop-non-german</td>\n",
       "      <td>0.65</td>\n",
       "      <td>0.912418</td>\n",
       "      <td>1.137733</td>\n",
       "      <td>0.910311</td>\n",
       "      <td>0.911076</td>\n",
       "      <td>0.926596</td>\n",
       "      <td>0.885395</td>\n",
       "    </tr>\n",
       "  </tbody>\n",
       "</table>\n",
       "</div>"
      ],
      "text/plain": [
       "                        universe_id universe_training_year  \\\n",
       "0  567c21be0f0ea5abd5da38f5438df2a0                   2014   \n",
       "\n",
       "  universe_training_size universe_scale universe_model  \\\n",
       "0                     5k   do-not-scale             rf   \n",
       "\n",
       "  universe_exclude_features universe_exclude_subgroups  q_hat  coverage  \\\n",
       "0                       sex            drop-non-german   0.65  0.912418   \n",
       "\n",
       "   avg_size  cov_frau1  cov_nongerman  cov_nongerman_male  \\\n",
       "0  1.137733   0.910311       0.911076            0.926596   \n",
       "\n",
       "   cov_nongerman_female  \n",
       "0              0.885395  "
      ]
     },
     "execution_count": 58,
     "metadata": {},
     "output_type": "execute_result"
    }
   ],
   "source": [
    "cp_metrics_df"
   ]
  },
  {
   "cell_type": "markdown",
   "id": "33774451",
   "metadata": {
    "papermill": {
     "duration": 0.011104,
     "end_time": "2025-08-05T15:30:49.377013",
     "exception": false,
     "start_time": "2025-08-05T15:30:49.365909",
     "status": "completed"
    },
    "tags": []
   },
   "source": [
    "# (Fairness) Metrics"
   ]
  },
  {
   "cell_type": "code",
   "execution_count": 59,
   "id": "debc5d62",
   "metadata": {
    "execution": {
     "iopub.execute_input": "2025-08-05T15:30:49.400940Z",
     "iopub.status.busy": "2025-08-05T15:30:49.400245Z",
     "iopub.status.idle": "2025-08-05T15:30:49.415195Z",
     "shell.execute_reply": "2025-08-05T15:30:49.414412Z"
    },
    "papermill": {
     "duration": 0.028709,
     "end_time": "2025-08-05T15:30:49.416810",
     "exception": false,
     "start_time": "2025-08-05T15:30:49.388101",
     "status": "completed"
    },
    "tags": []
   },
   "outputs": [],
   "source": [
    "# do I need to include maxdeutsch1.missing?\n",
    "\n",
    "import numpy as np\n",
    "\n",
    "colname_to_bin = \"maxdeutsch1\"\n",
    "majority_value = org_train[colname_to_bin].mode()[0]\n",
    "\n",
    "org_test[\"majmin\"] = np.where(org_test[colname_to_bin] == majority_value, \"majority\", \"minority\")"
   ]
  },
  {
   "cell_type": "code",
   "execution_count": 60,
   "id": "06a50de5",
   "metadata": {
    "execution": {
     "iopub.execute_input": "2025-08-05T15:30:49.443409Z",
     "iopub.status.busy": "2025-08-05T15:30:49.442912Z",
     "iopub.status.idle": "2025-08-05T15:30:50.904125Z",
     "shell.execute_reply": "2025-08-05T15:30:50.902853Z"
    },
    "papermill": {
     "duration": 1.475353,
     "end_time": "2025-08-05T15:30:50.906216",
     "exception": false,
     "start_time": "2025-08-05T15:30:49.430863",
     "status": "completed"
    },
    "tags": []
   },
   "outputs": [],
   "source": [
    "example_universe = universe.copy()\n",
    "example_universe[\"cutoff\"] = example_universe[\"cutoff\"][0]\n",
    "example_universe[\"eval_fairness_grouping\"] = example_universe[\"eval_fairness_grouping\"][0]\n",
    "fairness_dict, metric_frame = universe_analysis.compute_metrics(\n",
    "    example_universe,\n",
    "    y_pred_prob=probs_test,\n",
    "    y_test=y_true,\n",
    "    org_test=org_test,\n",
    ")"
   ]
  },
  {
   "cell_type": "markdown",
   "id": "f95d4e02",
   "metadata": {
    "papermill": {
     "duration": 0.022231,
     "end_time": "2025-08-05T15:30:50.951587",
     "exception": false,
     "start_time": "2025-08-05T15:30:50.929356",
     "status": "completed"
    },
    "tags": []
   },
   "source": [
    "# Overall"
   ]
  },
  {
   "cell_type": "markdown",
   "id": "bdee4871",
   "metadata": {
    "papermill": {
     "duration": 0.023419,
     "end_time": "2025-08-05T15:30:50.997870",
     "exception": false,
     "start_time": "2025-08-05T15:30:50.974451",
     "status": "completed"
    },
    "tags": []
   },
   "source": [
    "Fairness\n",
    "Main fairness target: Equalized Odds. Seems to be a better fit than equal opportunity, since we're not only interested in Y = 1. Seems to be a better fit than demographic parity, since we also care about accuracy, not just equal distribution of preds.\n",
    "\n",
    "Pick column for computation of fairness metrics\n",
    "\n",
    "Performance\n",
    "Overall performance measures, most interesting in relation to the measures split by group below"
   ]
  },
  {
   "cell_type": "code",
   "execution_count": 61,
   "id": "c4e067c6",
   "metadata": {
    "execution": {
     "iopub.execute_input": "2025-08-05T15:30:51.044140Z",
     "iopub.status.busy": "2025-08-05T15:30:51.043212Z",
     "iopub.status.idle": "2025-08-05T15:30:51.050334Z",
     "shell.execute_reply": "2025-08-05T15:30:51.049467Z"
    },
    "papermill": {
     "duration": 0.032922,
     "end_time": "2025-08-05T15:30:51.052954",
     "exception": false,
     "start_time": "2025-08-05T15:30:51.020032",
     "status": "completed"
    },
    "tags": []
   },
   "outputs": [
    {
     "data": {
      "text/plain": [
       "accuracy                   0.199632\n",
       "balanced accuracy          0.534516\n",
       "f1                         0.239968\n",
       "precision                  0.136627\n",
       "false positive rate        0.915936\n",
       "false negative rate        0.015033\n",
       "selection rate             0.924791\n",
       "count                  89710.000000\n",
       "dtype: float64"
      ]
     },
     "execution_count": 61,
     "metadata": {},
     "output_type": "execute_result"
    }
   ],
   "source": [
    "metric_frame.overall"
   ]
  },
  {
   "cell_type": "markdown",
   "id": "e968fe9d",
   "metadata": {
    "papermill": {
     "duration": 0.022335,
     "end_time": "2025-08-05T15:30:51.096968",
     "exception": false,
     "start_time": "2025-08-05T15:30:51.074633",
     "status": "completed"
    },
    "tags": []
   },
   "source": [
    "By Group"
   ]
  },
  {
   "cell_type": "code",
   "execution_count": 62,
   "id": "ec325bce",
   "metadata": {
    "execution": {
     "iopub.execute_input": "2025-08-05T15:30:51.142692Z",
     "iopub.status.busy": "2025-08-05T15:30:51.142170Z",
     "iopub.status.idle": "2025-08-05T15:30:51.160102Z",
     "shell.execute_reply": "2025-08-05T15:30:51.158942Z"
    },
    "papermill": {
     "duration": 0.04351,
     "end_time": "2025-08-05T15:30:51.162011",
     "exception": false,
     "start_time": "2025-08-05T15:30:51.118501",
     "status": "completed"
    },
    "tags": []
   },
   "outputs": [
    {
     "data": {
      "text/html": [
       "<div>\n",
       "<style scoped>\n",
       "    .dataframe tbody tr th:only-of-type {\n",
       "        vertical-align: middle;\n",
       "    }\n",
       "\n",
       "    .dataframe tbody tr th {\n",
       "        vertical-align: top;\n",
       "    }\n",
       "\n",
       "    .dataframe thead th {\n",
       "        text-align: right;\n",
       "    }\n",
       "</style>\n",
       "<table border=\"1\" class=\"dataframe\">\n",
       "  <thead>\n",
       "    <tr style=\"text-align: right;\">\n",
       "      <th></th>\n",
       "      <th>accuracy</th>\n",
       "      <th>balanced accuracy</th>\n",
       "      <th>f1</th>\n",
       "      <th>precision</th>\n",
       "      <th>false positive rate</th>\n",
       "      <th>false negative rate</th>\n",
       "      <th>selection rate</th>\n",
       "      <th>count</th>\n",
       "    </tr>\n",
       "    <tr>\n",
       "      <th>majmin</th>\n",
       "      <th></th>\n",
       "      <th></th>\n",
       "      <th></th>\n",
       "      <th></th>\n",
       "      <th></th>\n",
       "      <th></th>\n",
       "      <th></th>\n",
       "      <th></th>\n",
       "    </tr>\n",
       "  </thead>\n",
       "  <tbody>\n",
       "    <tr>\n",
       "      <th>majority</th>\n",
       "      <td>0.203846</td>\n",
       "      <td>0.536490</td>\n",
       "      <td>0.247081</td>\n",
       "      <td>0.141183</td>\n",
       "      <td>0.915642</td>\n",
       "      <td>0.011379</td>\n",
       "      <td>0.925286</td>\n",
       "      <td>69170.0</td>\n",
       "    </tr>\n",
       "    <tr>\n",
       "      <th>minority</th>\n",
       "      <td>0.185443</td>\n",
       "      <td>0.526978</td>\n",
       "      <td>0.215575</td>\n",
       "      <td>0.121249</td>\n",
       "      <td>0.916905</td>\n",
       "      <td>0.029139</td>\n",
       "      <td>0.923126</td>\n",
       "      <td>20540.0</td>\n",
       "    </tr>\n",
       "  </tbody>\n",
       "</table>\n",
       "</div>"
      ],
      "text/plain": [
       "          accuracy  balanced accuracy        f1  precision  \\\n",
       "majmin                                                       \n",
       "majority  0.203846           0.536490  0.247081   0.141183   \n",
       "minority  0.185443           0.526978  0.215575   0.121249   \n",
       "\n",
       "          false positive rate  false negative rate  selection rate    count  \n",
       "majmin                                                                       \n",
       "majority             0.915642             0.011379        0.925286  69170.0  \n",
       "minority             0.916905             0.029139        0.923126  20540.0  "
      ]
     },
     "execution_count": 62,
     "metadata": {},
     "output_type": "execute_result"
    }
   ],
   "source": [
    "metric_frame.by_group"
   ]
  },
  {
   "cell_type": "code",
   "execution_count": 63,
   "id": "a9ddbe63",
   "metadata": {
    "execution": {
     "iopub.execute_input": "2025-08-05T15:30:51.208651Z",
     "iopub.status.busy": "2025-08-05T15:30:51.207809Z",
     "iopub.status.idle": "2025-08-05T15:30:53.429463Z",
     "shell.execute_reply": "2025-08-05T15:30:53.428620Z"
    },
    "papermill": {
     "duration": 2.246318,
     "end_time": "2025-08-05T15:30:53.431061",
     "exception": false,
     "start_time": "2025-08-05T15:30:51.184743",
     "status": "completed"
    },
    "tags": []
   },
   "outputs": [
    {
     "data": {
      "text/plain": [
       "array([[<Axes: title={'center': 'accuracy'}, xlabel='majmin'>,\n",
       "        <Axes: title={'center': 'balanced accuracy'}, xlabel='majmin'>,\n",
       "        <Axes: title={'center': 'f1'}, xlabel='majmin'>],\n",
       "       [<Axes: title={'center': 'precision'}, xlabel='majmin'>,\n",
       "        <Axes: title={'center': 'false positive rate'}, xlabel='majmin'>,\n",
       "        <Axes: title={'center': 'false negative rate'}, xlabel='majmin'>],\n",
       "       [<Axes: title={'center': 'selection rate'}, xlabel='majmin'>,\n",
       "        <Axes: title={'center': 'count'}, xlabel='majmin'>,\n",
       "        <Axes: xlabel='majmin'>]], dtype=object)"
      ]
     },
     "execution_count": 63,
     "metadata": {},
     "output_type": "execute_result"
    },
    {
     "data": {
      "image/png": "[encoded data removed]",
      "text/plain": [
       "<Figure size 1200x800 with 9 Axes>"
      ]
     },
     "metadata": {},
     "output_type": "display_data"
    }
   ],
   "source": [
    "# In a graphic\n",
    "metric_frame.by_group.plot.bar(\n",
    "    subplots=True,\n",
    "    layout=[3, 3],\n",
    "    legend=False,\n",
    "    figsize=[12, 8],\n",
    "    title=\"Show all metrics\",\n",
    ")"
   ]
  },
  {
   "cell_type": "markdown",
   "id": "f57a0bac",
   "metadata": {
    "papermill": {
     "duration": 0.022969,
     "end_time": "2025-08-05T15:30:53.477652",
     "exception": false,
     "start_time": "2025-08-05T15:30:53.454683",
     "status": "completed"
    },
    "tags": []
   },
   "source": [
    "# Final Output"
   ]
  },
  {
   "cell_type": "code",
   "execution_count": 64,
   "id": "96d280a3",
   "metadata": {
    "execution": {
     "iopub.execute_input": "2025-08-05T15:30:53.524629Z",
     "iopub.status.busy": "2025-08-05T15:30:53.524043Z",
     "iopub.status.idle": "2025-08-05T15:30:53.532381Z",
     "shell.execute_reply": "2025-08-05T15:30:53.531443Z"
    },
    "papermill": {
     "duration": 0.033199,
     "end_time": "2025-08-05T15:30:53.533898",
     "exception": false,
     "start_time": "2025-08-05T15:30:53.500699",
     "status": "completed"
    },
    "tags": []
   },
   "outputs": [
    {
     "data": {
      "text/plain": [
       "4"
      ]
     },
     "execution_count": 64,
     "metadata": {},
     "output_type": "execute_result"
    }
   ],
   "source": [
    "sub_universes = universe_analysis.generate_sub_universes()\n",
    "len(sub_universes)"
   ]
  },
  {
   "cell_type": "code",
   "execution_count": 65,
   "id": "92adf7ba",
   "metadata": {
    "execution": {
     "iopub.execute_input": "2025-08-05T15:30:53.581084Z",
     "iopub.status.busy": "2025-08-05T15:30:53.580615Z",
     "iopub.status.idle": "2025-08-05T15:30:53.586395Z",
     "shell.execute_reply": "2025-08-05T15:30:53.585378Z"
    },
    "papermill": {
     "duration": 0.031455,
     "end_time": "2025-08-05T15:30:53.588071",
     "exception": false,
     "start_time": "2025-08-05T15:30:53.556616",
     "status": "completed"
    },
    "tags": []
   },
   "outputs": [],
   "source": [
    "def filter_sub_universe_data(sub_universe, org_test):\n",
    "    # Keep all rows — no filtering\n",
    "    keep_rows_mask = np.ones(org_test.shape[0], dtype=bool)\n",
    "\n",
    "    print(f\"[INFO] Keeping all rows: {keep_rows_mask.sum()} rows retained.\")\n",
    "    return keep_rows_mask"
   ]
  },
  {
   "cell_type": "code",
   "execution_count": 66,
   "id": "4a759155",
   "metadata": {
    "execution": {
     "iopub.execute_input": "2025-08-05T15:30:53.638222Z",
     "iopub.status.busy": "2025-08-05T15:30:53.637598Z",
     "iopub.status.idle": "2025-08-05T15:31:02.322207Z",
     "shell.execute_reply": "2025-08-05T15:31:02.321289Z"
    },
    "papermill": {
     "duration": 8.71141,
     "end_time": "2025-08-05T15:31:02.323574",
     "exception": false,
     "start_time": "2025-08-05T15:30:53.612164",
     "status": "completed"
    },
    "tags": []
   },
   "outputs": [
    {
     "name": "stdout",
     "output_type": "stream",
     "text": [
      "Stopping execution_time clock.\n",
      "[INFO] Keeping all rows: 89710 rows retained.\n"
     ]
    },
    {
     "name": "stdout",
     "output_type": "stream",
     "text": [
      "[INFO] Keeping all rows: 89710 rows retained.\n"
     ]
    },
    {
     "name": "stdout",
     "output_type": "stream",
     "text": [
      "[INFO] Keeping all rows: 89710 rows retained.\n"
     ]
    },
    {
     "name": "stdout",
     "output_type": "stream",
     "text": [
      "[INFO] Keeping all rows: 89710 rows retained.\n"
     ]
    },
    {
     "data": {
      "text/html": [
       "<div>\n",
       "<style scoped>\n",
       "    .dataframe tbody tr th:only-of-type {\n",
       "        vertical-align: middle;\n",
       "    }\n",
       "\n",
       "    .dataframe tbody tr th {\n",
       "        vertical-align: top;\n",
       "    }\n",
       "\n",
       "    .dataframe thead th {\n",
       "        text-align: right;\n",
       "    }\n",
       "</style>\n",
       "<table border=\"1\" class=\"dataframe\">\n",
       "  <thead>\n",
       "    <tr style=\"text-align: right;\">\n",
       "      <th></th>\n",
       "      <th>run_no</th>\n",
       "      <th>universe_id</th>\n",
       "      <th>universe_settings</th>\n",
       "      <th>execution_time</th>\n",
       "      <th>test_size_n</th>\n",
       "      <th>test_size_frac</th>\n",
       "      <th>fair_main_equalized_odds_difference</th>\n",
       "      <th>fair_main_equalized_odds_ratio</th>\n",
       "      <th>fair_main_demographic_parity_difference</th>\n",
       "      <th>fair_main_demographic_parity_ratio</th>\n",
       "      <th>...</th>\n",
       "      <th>perf_grp_precision_0</th>\n",
       "      <th>perf_grp_precision_1</th>\n",
       "      <th>perf_grp_false positive rate_0</th>\n",
       "      <th>perf_grp_false positive rate_1</th>\n",
       "      <th>perf_grp_false negative rate_0</th>\n",
       "      <th>perf_grp_false negative rate_1</th>\n",
       "      <th>perf_grp_selection rate_0</th>\n",
       "      <th>perf_grp_selection rate_1</th>\n",
       "      <th>perf_grp_count_0</th>\n",
       "      <th>perf_grp_count_1</th>\n",
       "    </tr>\n",
       "  </thead>\n",
       "  <tbody>\n",
       "    <tr>\n",
       "      <th>0</th>\n",
       "      <td>15</td>\n",
       "      <td>567c21be0f0ea5abd5da38f5438df2a0</td>\n",
       "      <td>{\"cutoff\": \"quantile_0.1\", \"eval_fairness_grou...</td>\n",
       "      <td>32.715246</td>\n",
       "      <td>89710</td>\n",
       "      <td>1.0</td>\n",
       "      <td>0.017760</td>\n",
       "      <td>0.982036</td>\n",
       "      <td>0.002160</td>\n",
       "      <td>0.997666</td>\n",
       "      <td>...</td>\n",
       "      <td>NaN</td>\n",
       "      <td>NaN</td>\n",
       "      <td>NaN</td>\n",
       "      <td>NaN</td>\n",
       "      <td>NaN</td>\n",
       "      <td>NaN</td>\n",
       "      <td>NaN</td>\n",
       "      <td>NaN</td>\n",
       "      <td>NaN</td>\n",
       "      <td>NaN</td>\n",
       "    </tr>\n",
       "    <tr>\n",
       "      <th>0</th>\n",
       "      <td>15</td>\n",
       "      <td>567c21be0f0ea5abd5da38f5438df2a0</td>\n",
       "      <td>{\"cutoff\": \"quantile_0.1\", \"eval_fairness_grou...</td>\n",
       "      <td>32.715246</td>\n",
       "      <td>89710</td>\n",
       "      <td>1.0</td>\n",
       "      <td>0.017760</td>\n",
       "      <td>0.982036</td>\n",
       "      <td>0.002160</td>\n",
       "      <td>0.997666</td>\n",
       "      <td>...</td>\n",
       "      <td>0.121249</td>\n",
       "      <td>0.141183</td>\n",
       "      <td>0.916905</td>\n",
       "      <td>0.915642</td>\n",
       "      <td>0.029139</td>\n",
       "      <td>0.011379</td>\n",
       "      <td>0.923126</td>\n",
       "      <td>0.925286</td>\n",
       "      <td>20540.0</td>\n",
       "      <td>69170.0</td>\n",
       "    </tr>\n",
       "    <tr>\n",
       "      <th>0</th>\n",
       "      <td>15</td>\n",
       "      <td>567c21be0f0ea5abd5da38f5438df2a0</td>\n",
       "      <td>{\"cutoff\": \"quantile_0.25\", \"eval_fairness_gro...</td>\n",
       "      <td>32.715246</td>\n",
       "      <td>89710</td>\n",
       "      <td>1.0</td>\n",
       "      <td>0.047726</td>\n",
       "      <td>0.949548</td>\n",
       "      <td>0.007057</td>\n",
       "      <td>0.990759</td>\n",
       "      <td>...</td>\n",
       "      <td>NaN</td>\n",
       "      <td>NaN</td>\n",
       "      <td>NaN</td>\n",
       "      <td>NaN</td>\n",
       "      <td>NaN</td>\n",
       "      <td>NaN</td>\n",
       "      <td>NaN</td>\n",
       "      <td>NaN</td>\n",
       "      <td>NaN</td>\n",
       "      <td>NaN</td>\n",
       "    </tr>\n",
       "    <tr>\n",
       "      <th>0</th>\n",
       "      <td>15</td>\n",
       "      <td>567c21be0f0ea5abd5da38f5438df2a0</td>\n",
       "      <td>{\"cutoff\": \"quantile_0.25\", \"eval_fairness_gro...</td>\n",
       "      <td>32.715246</td>\n",
       "      <td>89710</td>\n",
       "      <td>1.0</td>\n",
       "      <td>0.047726</td>\n",
       "      <td>0.949548</td>\n",
       "      <td>0.007057</td>\n",
       "      <td>0.990759</td>\n",
       "      <td>...</td>\n",
       "      <td>0.135590</td>\n",
       "      <td>0.165192</td>\n",
       "      <td>0.746203</td>\n",
       "      <td>0.727853</td>\n",
       "      <td>0.101774</td>\n",
       "      <td>0.054048</td>\n",
       "      <td>0.763729</td>\n",
       "      <td>0.756672</td>\n",
       "      <td>20540.0</td>\n",
       "      <td>69170.0</td>\n",
       "    </tr>\n",
       "  </tbody>\n",
       "</table>\n",
       "<p>4 rows × 50 columns</p>\n",
       "</div>"
      ],
      "text/plain": [
       "  run_no                       universe_id  \\\n",
       "0     15  567c21be0f0ea5abd5da38f5438df2a0   \n",
       "0     15  567c21be0f0ea5abd5da38f5438df2a0   \n",
       "0     15  567c21be0f0ea5abd5da38f5438df2a0   \n",
       "0     15  567c21be0f0ea5abd5da38f5438df2a0   \n",
       "\n",
       "                                   universe_settings  execution_time  \\\n",
       "0  {\"cutoff\": \"quantile_0.1\", \"eval_fairness_grou...       32.715246   \n",
       "0  {\"cutoff\": \"quantile_0.1\", \"eval_fairness_grou...       32.715246   \n",
       "0  {\"cutoff\": \"quantile_0.25\", \"eval_fairness_gro...       32.715246   \n",
       "0  {\"cutoff\": \"quantile_0.25\", \"eval_fairness_gro...       32.715246   \n",
       "\n",
       "   test_size_n  test_size_frac  fair_main_equalized_odds_difference  \\\n",
       "0        89710             1.0                             0.017760   \n",
       "0        89710             1.0                             0.017760   \n",
       "0        89710             1.0                             0.047726   \n",
       "0        89710             1.0                             0.047726   \n",
       "\n",
       "   fair_main_equalized_odds_ratio  fair_main_demographic_parity_difference  \\\n",
       "0                        0.982036                                 0.002160   \n",
       "0                        0.982036                                 0.002160   \n",
       "0                        0.949548                                 0.007057   \n",
       "0                        0.949548                                 0.007057   \n",
       "\n",
       "   fair_main_demographic_parity_ratio  ...  perf_grp_precision_0  \\\n",
       "0                            0.997666  ...                   NaN   \n",
       "0                            0.997666  ...              0.121249   \n",
       "0                            0.990759  ...                   NaN   \n",
       "0                            0.990759  ...              0.135590   \n",
       "\n",
       "   perf_grp_precision_1  perf_grp_false positive rate_0  \\\n",
       "0                   NaN                             NaN   \n",
       "0              0.141183                        0.916905   \n",
       "0                   NaN                             NaN   \n",
       "0              0.165192                        0.746203   \n",
       "\n",
       "   perf_grp_false positive rate_1  perf_grp_false negative rate_0  \\\n",
       "0                             NaN                             NaN   \n",
       "0                        0.915642                        0.029139   \n",
       "0                             NaN                             NaN   \n",
       "0                        0.727853                        0.101774   \n",
       "\n",
       "   perf_grp_false negative rate_1  perf_grp_selection rate_0  \\\n",
       "0                             NaN                        NaN   \n",
       "0                        0.011379                   0.923126   \n",
       "0                             NaN                        NaN   \n",
       "0                        0.054048                   0.763729   \n",
       "\n",
       "   perf_grp_selection rate_1  perf_grp_count_0  perf_grp_count_1  \n",
       "0                        NaN               NaN               NaN  \n",
       "0                   0.925286           20540.0           69170.0  \n",
       "0                        NaN               NaN               NaN  \n",
       "0                   0.756672           20540.0           69170.0  \n",
       "\n",
       "[4 rows x 50 columns]"
      ]
     },
     "execution_count": 66,
     "metadata": {},
     "output_type": "execute_result"
    }
   ],
   "source": [
    "final_output = universe_analysis.generate_final_output(\n",
    "    y_pred_prob=probs_test,\n",
    "    y_test=y_true,\n",
    "    org_test=org_test,\n",
    "    filter_data=filter_sub_universe_data,\n",
    "    cp_metrics_df=cp_metrics_df,\n",
    "    save=True,\n",
    ")\n",
    "final_output"
   ]
  }
 ],
 "metadata": {
  "celltoolbar": "Tags",
  "kernelspec": {
   "display_name": "Python (CMA Fairness)",
   "language": "python",
   "name": "cma_fair_env"
  },
  "language_info": {
   "codemirror_mode": {
    "name": "ipython",
    "version": 3
   },
   "file_extension": ".py",
   "mimetype": "text/x-python",
   "name": "python",
   "nbconvert_exporter": "python",
   "pygments_lexer": "ipython3",
   "version": "3.10.12"
  },
  "papermill": {
   "default_parameters": {},
   "duration": 45.61785,
   "end_time": "2025-08-05T15:31:03.158157",
   "environment_variables": {},
   "exception": null,
   "input_path": "universe_analysis.ipynb",
   "output_path": "output/runs/15/notebooks/m_15-567c21be0f0ea5abd5da38f5438df2a0.ipynb",
   "parameters": {
    "output_dir": "output",
    "run_no": "15",
    "seed": "2023",
    "universe": "{\"cutoff\": [\"quantile_0.1\", \"quantile_0.25\"], \"eval_fairness_grouping\": [\"majority-minority\", \"nationality-all\"], \"exclude_features\": \"sex\", \"exclude_subgroups\": \"drop-non-german\", \"model\": \"rf\", \"scale\": \"do-not-scale\", \"training_size\": \"5k\", \"training_year\": \"2014\"}",
    "universe_id": "567c21be0f0ea5abd5da38f5438df2a0"
   },
   "start_time": "2025-08-05T15:30:17.540307",
   "version": "2.6.0"
  }
 },
 "nbformat": 4,
 "nbformat_minor": 5
}