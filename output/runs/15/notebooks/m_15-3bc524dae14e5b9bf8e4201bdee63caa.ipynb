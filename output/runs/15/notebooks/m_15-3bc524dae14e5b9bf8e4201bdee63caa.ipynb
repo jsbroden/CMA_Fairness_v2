{
 "cells": [
  {
   "cell_type": "code",
   "execution_count": 1,
   "id": "f159f837-637b-42ba-96b5-ec9a68c44524",
   "metadata": {
    "execution": {
     "iopub.execute_input": "2025-08-05T16:11:11.311995Z",
     "iopub.status.busy": "2025-08-05T16:11:11.311344Z",
     "iopub.status.idle": "2025-08-05T16:11:11.324834Z",
     "shell.execute_reply": "2025-08-05T16:11:11.323669Z"
    },
    "papermill": {
     "duration": 0.032007,
     "end_time": "2025-08-05T16:11:11.326710",
     "exception": false,
     "start_time": "2025-08-05T16:11:11.294703",
     "status": "completed"
    },
    "tags": []
   },
   "outputs": [
    {
     "name": "stdout",
     "output_type": "stream",
     "text": [
      "/dss/dsshome1/0C/ra93lal2/cma/CMA_Fairness_v2\n"
     ]
    },
    {
     "name": "stderr",
     "output_type": "stream",
     "text": [
      "/dss/dsshome1/0C/ra93lal2/.local/share/virtualenvs/CMA_Fairness_v2-3j10GkSs/lib/python3.10/site-packages/IPython/core/magics/osm.py:393: UserWarning: This is now an optional IPython functionality, using bookmarks requires you to install the `pickleshare` library.\n",
      "  bkms = self.shell.db.get('bookmarks', {})\n",
      "/dss/dsshome1/0C/ra93lal2/.local/share/virtualenvs/CMA_Fairness_v2-3j10GkSs/lib/python3.10/site-packages/IPython/core/magics/osm.py:417: UserWarning: This is now an optional IPython functionality, setting dhist requires you to install the `pickleshare` library.\n",
      "  self.shell.db['dhist'] = compress_dhist(dhist)[-100:]\n"
     ]
    }
   ],
   "source": [
    "%cd ~/cma/CMA_Fairness_v2"
   ]
  },
  {
   "cell_type": "markdown",
   "id": "de2603b9",
   "metadata": {
    "papermill": {
     "duration": 0.014375,
     "end_time": "2025-08-05T16:11:11.356615",
     "exception": false,
     "start_time": "2025-08-05T16:11:11.342240",
     "status": "completed"
    },
    "tags": []
   },
   "source": [
    "The following cell holds the definition of our parameters, these values can be overriden by rendering the with e.g. the following command:\n",
    "\n",
    "papermill -p alpha 0.2 -p ratio 0.3 universe_analysis.ipynb output/test_run.ipynb"
   ]
  },
  {
   "cell_type": "code",
   "execution_count": 2,
   "id": "a80968a0-40bb-4fa9-85ef-2d5eefb01975",
   "metadata": {
    "execution": {
     "iopub.execute_input": "2025-08-05T16:11:11.388216Z",
     "iopub.status.busy": "2025-08-05T16:11:11.387441Z",
     "iopub.status.idle": "2025-08-05T16:11:11.392871Z",
     "shell.execute_reply": "2025-08-05T16:11:11.391865Z"
    },
    "papermill": {
     "duration": 0.023319,
     "end_time": "2025-08-05T16:11:11.394810",
     "exception": false,
     "start_time": "2025-08-05T16:11:11.371491",
     "status": "completed"
    },
    "tags": []
   },
   "outputs": [
    {
     "name": "stdout",
     "output_type": "stream",
     "text": [
      "Current working directory: /dss/dsshome1/0C/ra93lal2/cma/CMA_Fairness_v2\n"
     ]
    }
   ],
   "source": [
    "import os\n",
    "print(\"Current working directory:\", os.getcwd())"
   ]
  },
  {
   "cell_type": "code",
   "execution_count": 3,
   "id": "2dce4c03",
   "metadata": {
    "execution": {
     "iopub.execute_input": "2025-08-05T16:11:11.430864Z",
     "iopub.status.busy": "2025-08-05T16:11:11.430227Z",
     "iopub.status.idle": "2025-08-05T16:11:11.436437Z",
     "shell.execute_reply": "2025-08-05T16:11:11.435500Z"
    },
    "papermill": {
     "duration": 0.025838,
     "end_time": "2025-08-05T16:11:11.438143",
     "exception": false,
     "start_time": "2025-08-05T16:11:11.412305",
     "status": "completed"
    },
    "tags": [
     "parameters"
    ]
   },
   "outputs": [],
   "source": [
    "run_no = 0\n",
    "universe_id = \"test\"\n",
    "universe = {\n",
    "    \"training_size\": \"25k\", # \"25k\", \"5k\", \"1k\"\n",
    "    \"training_year\": \"2014\", # \"2014\", \"2012_14\", \"2010_14\"\n",
    "    \"scale\": \"scale\", # \"scale\", \"do-not-scale\",\n",
    "    \"model\": \"elasticnet\", # \"logreg\", \"penalized_logreg\", \"rf\", \"gbm\", \"elasticnet\"\n",
    "    \"cutoff\": [\"quantile_0.15\", \"quantile_0.30\"],\n",
    "    \"exclude_features\": \"age\", # \"none\", \"nationality\", \"sex\", \"nationality-sex\", \"age\"\n",
    "    \"exclude_subgroups\": \"keep-all\", # \"keep-all\", \"drop-non-german\"\n",
    "    \"eval_fairness_grouping\": [\"majority-minority\", \"nationality-all\"]\n",
    "}\n",
    "\n",
    "output_dir=\"./output\"\n",
    "seed=0"
   ]
  },
  {
   "cell_type": "code",
   "execution_count": 4,
   "id": "5c20c5a3",
   "metadata": {
    "execution": {
     "iopub.execute_input": "2025-08-05T16:11:11.471010Z",
     "iopub.status.busy": "2025-08-05T16:11:11.470347Z",
     "iopub.status.idle": "2025-08-05T16:11:11.475725Z",
     "shell.execute_reply": "2025-08-05T16:11:11.474637Z"
    },
    "papermill": {
     "duration": 0.023069,
     "end_time": "2025-08-05T16:11:11.477334",
     "exception": false,
     "start_time": "2025-08-05T16:11:11.454265",
     "status": "completed"
    },
    "tags": [
     "injected-parameters"
    ]
   },
   "outputs": [],
   "source": [
    "# Parameters\n",
    "universe_id = \"3bc524dae14e5b9bf8e4201bdee63caa\"\n",
    "run_no = \"15\"\n",
    "universe = \"{\\\"cutoff\\\": [\\\"quantile_0.1\\\", \\\"quantile_0.25\\\"], \\\"eval_fairness_grouping\\\": [\\\"majority-minority\\\", \\\"nationality-all\\\"], \\\"exclude_features\\\": \\\"nationality\\\", \\\"exclude_subgroups\\\": \\\"drop-non-german\\\", \\\"model\\\": \\\"rf\\\", \\\"scale\\\": \\\"do-not-scale\\\", \\\"training_size\\\": \\\"1k\\\", \\\"training_year\\\": \\\"2014\\\"}\"\n",
    "output_dir = \"output\"\n",
    "seed = \"2023\"\n"
   ]
  },
  {
   "cell_type": "code",
   "execution_count": 5,
   "id": "1650acaf",
   "metadata": {
    "execution": {
     "iopub.execute_input": "2025-08-05T16:11:11.510511Z",
     "iopub.status.busy": "2025-08-05T16:11:11.509869Z",
     "iopub.status.idle": "2025-08-05T16:11:11.514761Z",
     "shell.execute_reply": "2025-08-05T16:11:11.513739Z"
    },
    "papermill": {
     "duration": 0.022918,
     "end_time": "2025-08-05T16:11:11.516343",
     "exception": false,
     "start_time": "2025-08-05T16:11:11.493425",
     "status": "completed"
    },
    "tags": []
   },
   "outputs": [],
   "source": [
    "import json\n",
    "if isinstance(universe, str):\n",
    "    universe = json.loads(universe)"
   ]
  },
  {
   "cell_type": "code",
   "execution_count": 6,
   "id": "16620c48",
   "metadata": {
    "execution": {
     "iopub.execute_input": "2025-08-05T16:11:11.550061Z",
     "iopub.status.busy": "2025-08-05T16:11:11.548903Z",
     "iopub.status.idle": "2025-08-05T16:11:11.592183Z",
     "shell.execute_reply": "2025-08-05T16:11:11.591341Z"
    },
    "papermill": {
     "duration": 0.061206,
     "end_time": "2025-08-05T16:11:11.593982",
     "exception": false,
     "start_time": "2025-08-05T16:11:11.532776",
     "status": "completed"
    },
    "tags": []
   },
   "outputs": [],
   "source": [
    "# Auto-reload the custom package\n",
    "%load_ext autoreload\n",
    "%autoreload 1\n",
    "%aimport fairness_multiverse"
   ]
  },
  {
   "cell_type": "code",
   "execution_count": 7,
   "id": "01c5c9f3",
   "metadata": {
    "execution": {
     "iopub.execute_input": "2025-08-05T16:11:11.627192Z",
     "iopub.status.busy": "2025-08-05T16:11:11.626326Z",
     "iopub.status.idle": "2025-08-05T16:11:13.662519Z",
     "shell.execute_reply": "2025-08-05T16:11:13.661262Z"
    },
    "papermill": {
     "duration": 2.055084,
     "end_time": "2025-08-05T16:11:13.664982",
     "exception": false,
     "start_time": "2025-08-05T16:11:11.609898",
     "status": "completed"
    },
    "tags": []
   },
   "outputs": [],
   "source": [
    "from fairness_multiverse.universe import UniverseAnalysis\n",
    "\n",
    "universe_analysis = UniverseAnalysis(\n",
    "    run_no = run_no,\n",
    "    universe_id = universe_id,\n",
    "    universe = universe,\n",
    "    output_dir=output_dir,\n",
    ")"
   ]
  },
  {
   "cell_type": "code",
   "execution_count": 8,
   "id": "106241f5",
   "metadata": {
    "execution": {
     "iopub.execute_input": "2025-08-05T16:11:13.721508Z",
     "iopub.status.busy": "2025-08-05T16:11:13.720747Z",
     "iopub.status.idle": "2025-08-05T16:11:13.728281Z",
     "shell.execute_reply": "2025-08-05T16:11:13.727155Z"
    },
    "papermill": {
     "duration": 0.038203,
     "end_time": "2025-08-05T16:11:13.730408",
     "exception": false,
     "start_time": "2025-08-05T16:11:13.692205",
     "status": "completed"
    },
    "tags": []
   },
   "outputs": [
    {
     "name": "stdout",
     "output_type": "stream",
     "text": [
      "Using Seed: 2023\n"
     ]
    }
   ],
   "source": [
    "import numpy as np\n",
    "parsed_seed = int(seed)\n",
    "np.random.seed(parsed_seed)\n",
    "print(f\"Using Seed: {parsed_seed}\")"
   ]
  },
  {
   "cell_type": "markdown",
   "id": "e0ebdc57",
   "metadata": {
    "papermill": {
     "duration": 0.017718,
     "end_time": "2025-08-05T16:11:13.766575",
     "exception": false,
     "start_time": "2025-08-05T16:11:13.748857",
     "status": "completed"
    },
    "tags": []
   },
   "source": [
    "# Loading Data"
   ]
  },
  {
   "cell_type": "code",
   "execution_count": 9,
   "id": "f0496b8a",
   "metadata": {
    "execution": {
     "iopub.execute_input": "2025-08-05T16:11:13.802604Z",
     "iopub.status.busy": "2025-08-05T16:11:13.802121Z",
     "iopub.status.idle": "2025-08-05T16:11:25.825171Z",
     "shell.execute_reply": "2025-08-05T16:11:25.823870Z"
    },
    "papermill": {
     "duration": 12.043251,
     "end_time": "2025-08-05T16:11:25.826937",
     "exception": false,
     "start_time": "2025-08-05T16:11:13.783686",
     "status": "completed"
    },
    "tags": []
   },
   "outputs": [
    {
     "name": "stdout",
     "output_type": "stream",
     "text": [
      "Loading SIAB data from cache: data/siab_cached.csv.gz\n"
     ]
    },
    {
     "name": "stdout",
     "output_type": "stream",
     "text": [
      "(643690, 164)\n"
     ]
    }
   ],
   "source": [
    "from pathlib import Path\n",
    "import pandas as pd\n",
    "\n",
    "# File paths\n",
    "raw_file = Path(\"data/raw/siab.csv\")\n",
    "cache_file = Path(\"data/siab_cached.csv.gz\")\n",
    "\n",
    "# Ensure cache directory exists\n",
    "cache_file.parent.mkdir(parents=True, exist_ok=True)\n",
    "\n",
    "# Load with simple caching\n",
    "if cache_file.exists():\n",
    "    print(f\"Loading SIAB data from cache: {cache_file}\")\n",
    "    siab = pd.read_csv(cache_file, compression='gzip')\n",
    "else:\n",
    "    print(f\"Cache not found. Reading raw SIAB data: {raw_file}\")\n",
    "    siab = pd.read_csv(raw_file)\n",
    "    siab.to_csv(cache_file, index=False, compression='gzip')\n",
    "    print(f\"Cached SIAB data to: {cache_file}\")\n",
    "\n",
    "print(siab.shape)"
   ]
  },
  {
   "cell_type": "code",
   "execution_count": 10,
   "id": "db0ca512-5f53-4dba-abdb-a2888bca41ba",
   "metadata": {
    "execution": {
     "iopub.execute_input": "2025-08-05T16:11:25.875835Z",
     "iopub.status.busy": "2025-08-05T16:11:25.875452Z",
     "iopub.status.idle": "2025-08-05T16:11:25.880255Z",
     "shell.execute_reply": "2025-08-05T16:11:25.879433Z"
    },
    "papermill": {
     "duration": 0.016305,
     "end_time": "2025-08-05T16:11:25.881614",
     "exception": false,
     "start_time": "2025-08-05T16:11:25.865309",
     "status": "completed"
    },
    "tags": []
   },
   "outputs": [],
   "source": [
    "#siab"
   ]
  },
  {
   "cell_type": "markdown",
   "id": "997051c5-15bd-4b69-9786-c3001a3ce484",
   "metadata": {
    "papermill": {
     "duration": 0.009245,
     "end_time": "2025-08-05T16:11:25.900594",
     "exception": false,
     "start_time": "2025-08-05T16:11:25.891349",
     "status": "completed"
    },
    "tags": []
   },
   "source": [
    "# Splitting Data and Setting Training Data Size"
   ]
  },
  {
   "cell_type": "code",
   "execution_count": 11,
   "id": "aea9c6ef-6f46-42c8-85eb-5a62025c1508",
   "metadata": {
    "execution": {
     "iopub.execute_input": "2025-08-05T16:11:25.919660Z",
     "iopub.status.busy": "2025-08-05T16:11:25.919042Z",
     "iopub.status.idle": "2025-08-05T16:11:26.151224Z",
     "shell.execute_reply": "2025-08-05T16:11:26.150381Z"
    },
    "papermill": {
     "duration": 0.243364,
     "end_time": "2025-08-05T16:11:26.152612",
     "exception": false,
     "start_time": "2025-08-05T16:11:25.909248",
     "status": "completed"
    },
    "tags": []
   },
   "outputs": [],
   "source": [
    "from fairness_multiverse.universe import sample_by_year_size\n",
    "\n",
    "siab_train = sample_by_year_size(siab,\n",
    "                               training_year=universe[\"training_year\"],\n",
    "                               training_size=universe[\"training_size\"])"
   ]
  },
  {
   "cell_type": "code",
   "execution_count": 12,
   "id": "8d3afb32-789d-442c-8d5d-9f5aa8dd2eed",
   "metadata": {
    "execution": {
     "iopub.execute_input": "2025-08-05T16:11:26.172357Z",
     "iopub.status.busy": "2025-08-05T16:11:26.171714Z",
     "iopub.status.idle": "2025-08-05T16:11:26.176015Z",
     "shell.execute_reply": "2025-08-05T16:11:26.175304Z"
    },
    "papermill": {
     "duration": 0.015297,
     "end_time": "2025-08-05T16:11:26.177319",
     "exception": false,
     "start_time": "2025-08-05T16:11:26.162022",
     "status": "completed"
    },
    "tags": []
   },
   "outputs": [],
   "source": [
    "#siab_train.shape"
   ]
  },
  {
   "cell_type": "code",
   "execution_count": 13,
   "id": "d582db68-1a4c-47fb-84fc-08518dc1975a",
   "metadata": {
    "execution": {
     "iopub.execute_input": "2025-08-05T16:11:26.199934Z",
     "iopub.status.busy": "2025-08-05T16:11:26.199420Z",
     "iopub.status.idle": "2025-08-05T16:11:26.204144Z",
     "shell.execute_reply": "2025-08-05T16:11:26.203337Z"
    },
    "papermill": {
     "duration": 0.018637,
     "end_time": "2025-08-05T16:11:26.205562",
     "exception": false,
     "start_time": "2025-08-05T16:11:26.186925",
     "status": "completed"
    },
    "tags": []
   },
   "outputs": [],
   "source": [
    "#display(siab_train.groupby(\"year\").size())"
   ]
  },
  {
   "cell_type": "code",
   "execution_count": 14,
   "id": "a561edb4-d032-42cb-8256-22eac1111c64",
   "metadata": {
    "execution": {
     "iopub.execute_input": "2025-08-05T16:11:26.225511Z",
     "iopub.status.busy": "2025-08-05T16:11:26.225100Z",
     "iopub.status.idle": "2025-08-05T16:11:26.489777Z",
     "shell.execute_reply": "2025-08-05T16:11:26.489005Z"
    },
    "papermill": {
     "duration": 0.276415,
     "end_time": "2025-08-05T16:11:26.491186",
     "exception": false,
     "start_time": "2025-08-05T16:11:26.214771",
     "status": "completed"
    },
    "tags": []
   },
   "outputs": [],
   "source": [
    "#siab_train = siab_s[siab_s.year < 2015]\n",
    "siab_calib = siab[siab.year == 2015]\n",
    "siab_test = siab[siab.year == 2016]"
   ]
  },
  {
   "cell_type": "code",
   "execution_count": 15,
   "id": "472de16f-c3db-4916-846b-1f0de9cf1746",
   "metadata": {
    "execution": {
     "iopub.execute_input": "2025-08-05T16:11:26.512102Z",
     "iopub.status.busy": "2025-08-05T16:11:26.511608Z",
     "iopub.status.idle": "2025-08-05T16:11:26.517369Z",
     "shell.execute_reply": "2025-08-05T16:11:26.516537Z"
    },
    "papermill": {
     "duration": 0.017809,
     "end_time": "2025-08-05T16:11:26.518932",
     "exception": false,
     "start_time": "2025-08-05T16:11:26.501123",
     "status": "completed"
    },
    "tags": []
   },
   "outputs": [],
   "source": [
    "X_train = siab_train.iloc[:,4:164]\n",
    "y_train = siab_train.iloc[:, [3]]"
   ]
  },
  {
   "cell_type": "code",
   "execution_count": 16,
   "id": "828c96af-f43a-4ed6-ba47-8ac73a47d56c",
   "metadata": {
    "execution": {
     "iopub.execute_input": "2025-08-05T16:11:26.539928Z",
     "iopub.status.busy": "2025-08-05T16:11:26.539537Z",
     "iopub.status.idle": "2025-08-05T16:11:26.587599Z",
     "shell.execute_reply": "2025-08-05T16:11:26.586730Z"
    },
    "papermill": {
     "duration": 0.059817,
     "end_time": "2025-08-05T16:11:26.588982",
     "exception": false,
     "start_time": "2025-08-05T16:11:26.529165",
     "status": "completed"
    },
    "tags": []
   },
   "outputs": [],
   "source": [
    "X_calib = siab_calib.iloc[:,4:164]\n",
    "y_calib = siab_calib.iloc[:, [3]]"
   ]
  },
  {
   "cell_type": "code",
   "execution_count": 17,
   "id": "c34be9c3-6bd6-476e-acd3-845840e303be",
   "metadata": {
    "execution": {
     "iopub.execute_input": "2025-08-05T16:11:26.609848Z",
     "iopub.status.busy": "2025-08-05T16:11:26.609460Z",
     "iopub.status.idle": "2025-08-05T16:11:26.660349Z",
     "shell.execute_reply": "2025-08-05T16:11:26.659413Z"
    },
    "papermill": {
     "duration": 0.062268,
     "end_time": "2025-08-05T16:11:26.661968",
     "exception": false,
     "start_time": "2025-08-05T16:11:26.599700",
     "status": "completed"
    },
    "tags": []
   },
   "outputs": [],
   "source": [
    "X_test = siab_test.iloc[:,4:164]\n",
    "y_true = siab_test.iloc[:, [3]]"
   ]
  },
  {
   "cell_type": "code",
   "execution_count": 18,
   "id": "e6c733c5",
   "metadata": {
    "execution": {
     "iopub.execute_input": "2025-08-05T16:11:26.683053Z",
     "iopub.status.busy": "2025-08-05T16:11:26.682711Z",
     "iopub.status.idle": "2025-08-05T16:11:26.778669Z",
     "shell.execute_reply": "2025-08-05T16:11:26.777773Z"
    },
    "papermill": {
     "duration": 0.107606,
     "end_time": "2025-08-05T16:11:26.780323",
     "exception": false,
     "start_time": "2025-08-05T16:11:26.672717",
     "status": "completed"
    },
    "tags": []
   },
   "outputs": [],
   "source": [
    "# Auxiliary data needed downstream in the pipeline\n",
    "\n",
    "org_train = X_train.copy()\n",
    "org_test = X_test.copy()\n",
    "org_calib = X_calib.copy()"
   ]
  },
  {
   "cell_type": "markdown",
   "id": "0a4a1b33",
   "metadata": {
    "papermill": {
     "duration": 0.009021,
     "end_time": "2025-08-05T16:11:26.799326",
     "exception": false,
     "start_time": "2025-08-05T16:11:26.790305",
     "status": "completed"
    },
    "tags": []
   },
   "source": [
    "# Preprocessing Data"
   ]
  },
  {
   "cell_type": "code",
   "execution_count": 19,
   "id": "ca879031",
   "metadata": {
    "execution": {
     "iopub.execute_input": "2025-08-05T16:11:26.818971Z",
     "iopub.status.busy": "2025-08-05T16:11:26.818361Z",
     "iopub.status.idle": "2025-08-05T16:11:26.823706Z",
     "shell.execute_reply": "2025-08-05T16:11:26.822984Z"
    },
    "papermill": {
     "duration": 0.016734,
     "end_time": "2025-08-05T16:11:26.825096",
     "exception": false,
     "start_time": "2025-08-05T16:11:26.808362",
     "status": "completed"
    },
    "tags": []
   },
   "outputs": [],
   "source": [
    "# EXCLUDE PROTECTED FEATURES\n",
    "# ----------------------\n",
    "# \"exclude_features\": \"none\", # \"nationality\", \"sex\", \"nationality-sex\"\n",
    "\n",
    "excluded_features = universe[\"exclude_features\"].split(\"-\") # split, e.g.: \"nationality-sex\" -> [\"nationality\", \"sex\"]\n",
    "excluded_features_dictionary = {\n",
    "    \"nationality\": [\"maxdeutsch1\", \"maxdeutsch.Missing.\"],\n",
    "    \"sex\": [\"frau1\"],\n",
    "    \"age\": [\"age\"],\n",
    "}"
   ]
  },
  {
   "cell_type": "code",
   "execution_count": 20,
   "id": "b745ac60",
   "metadata": {
    "execution": {
     "iopub.execute_input": "2025-08-05T16:11:26.845392Z",
     "iopub.status.busy": "2025-08-05T16:11:26.845048Z",
     "iopub.status.idle": "2025-08-05T16:11:26.849678Z",
     "shell.execute_reply": "2025-08-05T16:11:26.848757Z"
    },
    "papermill": {
     "duration": 0.015819,
     "end_time": "2025-08-05T16:11:26.851053",
     "exception": false,
     "start_time": "2025-08-05T16:11:26.835234",
     "status": "completed"
    },
    "tags": []
   },
   "outputs": [],
   "source": [
    "# Code nice names to column names\n",
    "\n",
    "excluded_features_columns = [\n",
    "    excluded_features_dictionary[f] for f in excluded_features if len(f) > 0 and f != \"none\"\n",
    "]"
   ]
  },
  {
   "cell_type": "code",
   "execution_count": 21,
   "id": "f84f73a2",
   "metadata": {
    "execution": {
     "iopub.execute_input": "2025-08-05T16:11:26.871403Z",
     "iopub.status.busy": "2025-08-05T16:11:26.870981Z",
     "iopub.status.idle": "2025-08-05T16:11:26.876062Z",
     "shell.execute_reply": "2025-08-05T16:11:26.875342Z"
    },
    "papermill": {
     "duration": 0.016181,
     "end_time": "2025-08-05T16:11:26.877387",
     "exception": false,
     "start_time": "2025-08-05T16:11:26.861206",
     "status": "completed"
    },
    "tags": []
   },
   "outputs": [],
   "source": [
    "from utils import flatten_once\n",
    "\n",
    "excluded_features_columns = flatten_once(excluded_features_columns)"
   ]
  },
  {
   "cell_type": "code",
   "execution_count": 22,
   "id": "884dea22",
   "metadata": {
    "execution": {
     "iopub.execute_input": "2025-08-05T16:11:26.898297Z",
     "iopub.status.busy": "2025-08-05T16:11:26.897632Z",
     "iopub.status.idle": "2025-08-05T16:11:26.904309Z",
     "shell.execute_reply": "2025-08-05T16:11:26.903548Z"
    },
    "papermill": {
     "duration": 0.018315,
     "end_time": "2025-08-05T16:11:26.905724",
     "exception": false,
     "start_time": "2025-08-05T16:11:26.887409",
     "status": "completed"
    },
    "tags": []
   },
   "outputs": [
    {
     "name": "stdout",
     "output_type": "stream",
     "text": [
      "Dropping features: ['maxdeutsch1', 'maxdeutsch.Missing.']\n"
     ]
    }
   ],
   "source": [
    "if len(excluded_features_columns) > 0:\n",
    "    print(f\"Dropping features: {excluded_features_columns}\")\n",
    "    X_train.drop(excluded_features_columns, axis=1, inplace=True)"
   ]
  },
  {
   "cell_type": "code",
   "execution_count": 23,
   "id": "95ab8b16",
   "metadata": {
    "execution": {
     "iopub.execute_input": "2025-08-05T16:11:26.926034Z",
     "iopub.status.busy": "2025-08-05T16:11:26.925758Z",
     "iopub.status.idle": "2025-08-05T16:11:26.976706Z",
     "shell.execute_reply": "2025-08-05T16:11:26.975952Z"
    },
    "papermill": {
     "duration": 0.062414,
     "end_time": "2025-08-05T16:11:26.978215",
     "exception": false,
     "start_time": "2025-08-05T16:11:26.915801",
     "status": "completed"
    },
    "tags": []
   },
   "outputs": [
    {
     "name": "stdout",
     "output_type": "stream",
     "text": [
      "Dropping features: ['maxdeutsch1', 'maxdeutsch.Missing.']\n"
     ]
    }
   ],
   "source": [
    "if len(excluded_features_columns) > 0:\n",
    "    print(f\"Dropping features: {excluded_features_columns}\")\n",
    "    X_test.drop(excluded_features_columns, axis=1, inplace=True)"
   ]
  },
  {
   "cell_type": "code",
   "execution_count": 24,
   "id": "1853aaf5-fb9f-46cb-a2b5-8ea4ae2237e4",
   "metadata": {
    "execution": {
     "iopub.execute_input": "2025-08-05T16:11:26.999671Z",
     "iopub.status.busy": "2025-08-05T16:11:26.999204Z",
     "iopub.status.idle": "2025-08-05T16:11:27.046350Z",
     "shell.execute_reply": "2025-08-05T16:11:27.045323Z"
    },
    "papermill": {
     "duration": 0.058821,
     "end_time": "2025-08-05T16:11:27.047803",
     "exception": false,
     "start_time": "2025-08-05T16:11:26.988982",
     "status": "completed"
    },
    "tags": []
   },
   "outputs": [
    {
     "name": "stdout",
     "output_type": "stream",
     "text": [
      "Dropping features: ['maxdeutsch1', 'maxdeutsch.Missing.']\n"
     ]
    }
   ],
   "source": [
    "if len(excluded_features_columns) > 0:\n",
    "    print(f\"Dropping features: {excluded_features_columns}\")\n",
    "    X_calib.drop(excluded_features_columns, axis=1, inplace=True)"
   ]
  },
  {
   "cell_type": "code",
   "execution_count": 25,
   "id": "76c4dc6d",
   "metadata": {
    "execution": {
     "iopub.execute_input": "2025-08-05T16:11:27.069698Z",
     "iopub.status.busy": "2025-08-05T16:11:27.069208Z",
     "iopub.status.idle": "2025-08-05T16:11:27.073624Z",
     "shell.execute_reply": "2025-08-05T16:11:27.072677Z"
    },
    "papermill": {
     "duration": 0.01624,
     "end_time": "2025-08-05T16:11:27.075078",
     "exception": false,
     "start_time": "2025-08-05T16:11:27.058838",
     "status": "completed"
    },
    "tags": []
   },
   "outputs": [],
   "source": [
    "# EXCLUDE CERTAIN SUBGROUPS\n",
    "# ----------------------\n",
    "\n",
    "mode = universe.get(\"exclude_subgroups\", \"keep-all\") \n",
    "# Fetches the exclude_subgroups setting from the universe dict.\n",
    "# Defaults to \"keep-all\" if the key is missing."
   ]
  },
  {
   "cell_type": "code",
   "execution_count": 26,
   "id": "21994072",
   "metadata": {
    "execution": {
     "iopub.execute_input": "2025-08-05T16:11:27.096085Z",
     "iopub.status.busy": "2025-08-05T16:11:27.095808Z",
     "iopub.status.idle": "2025-08-05T16:11:27.100671Z",
     "shell.execute_reply": "2025-08-05T16:11:27.099901Z"
    },
    "papermill": {
     "duration": 0.016729,
     "end_time": "2025-08-05T16:11:27.102231",
     "exception": false,
     "start_time": "2025-08-05T16:11:27.085502",
     "status": "completed"
    },
    "tags": []
   },
   "outputs": [],
   "source": [
    "if mode == \"keep-all\":\n",
    "    keep_mask = pd.Series(True, index=org_train.index)\n",
    "\n",
    "# org_train contains the original feature columns from features_org (in Simson)\n",
    "# features_org contains unprocessed features, for me X_train at beginning ???\n",
    "# For keep-all, creates a boolean Series (keep_mask) of all True, so no rows are removed.\n",
    "\n",
    "elif mode == \"drop-non-german\":\n",
    "    keep_mask = org_train[\"maxdeutsch1\"] == 1 # ??? what about missing values?\n",
    "\n",
    "else:\n",
    "    raise ValueError(f\"Unsupported mode for exclude_subgroups: {mode}\")"
   ]
  },
  {
   "cell_type": "code",
   "execution_count": 27,
   "id": "71651440",
   "metadata": {
    "execution": {
     "iopub.execute_input": "2025-08-05T16:11:27.122876Z",
     "iopub.status.busy": "2025-08-05T16:11:27.122458Z",
     "iopub.status.idle": "2025-08-05T16:11:27.128140Z",
     "shell.execute_reply": "2025-08-05T16:11:27.127423Z"
    },
    "papermill": {
     "duration": 0.016991,
     "end_time": "2025-08-05T16:11:27.129475",
     "exception": false,
     "start_time": "2025-08-05T16:11:27.112484",
     "status": "completed"
    },
    "tags": []
   },
   "outputs": [
    {
     "name": "stdout",
     "output_type": "stream",
     "text": [
      "Dropping 147 rows (14.70%) where mode='drop-non-german'\n"
     ]
    }
   ],
   "source": [
    "n_drop = (~keep_mask).sum() # Calculates how many rows are set to be dropped\n",
    "if n_drop > 0:\n",
    "    pct = n_drop / len(keep_mask) * 100\n",
    "    print(f\"Dropping {n_drop} rows ({pct:.2f}%) where mode='{mode}'\")"
   ]
  },
  {
   "cell_type": "code",
   "execution_count": 28,
   "id": "5fb8eee5",
   "metadata": {
    "execution": {
     "iopub.execute_input": "2025-08-05T16:11:27.150619Z",
     "iopub.status.busy": "2025-08-05T16:11:27.150122Z",
     "iopub.status.idle": "2025-08-05T16:11:27.155150Z",
     "shell.execute_reply": "2025-08-05T16:11:27.154385Z"
    },
    "papermill": {
     "duration": 0.016775,
     "end_time": "2025-08-05T16:11:27.156552",
     "exception": false,
     "start_time": "2025-08-05T16:11:27.139777",
     "status": "completed"
    },
    "tags": []
   },
   "outputs": [],
   "source": [
    "X_train = X_train[keep_mask]"
   ]
  },
  {
   "cell_type": "code",
   "execution_count": 29,
   "id": "b202bb3a",
   "metadata": {
    "execution": {
     "iopub.execute_input": "2025-08-05T16:11:27.177987Z",
     "iopub.status.busy": "2025-08-05T16:11:27.177434Z",
     "iopub.status.idle": "2025-08-05T16:11:27.182227Z",
     "shell.execute_reply": "2025-08-05T16:11:27.181426Z"
    },
    "papermill": {
     "duration": 0.016556,
     "end_time": "2025-08-05T16:11:27.183603",
     "exception": false,
     "start_time": "2025-08-05T16:11:27.167047",
     "status": "completed"
    },
    "tags": []
   },
   "outputs": [],
   "source": [
    "y_train = y_train[keep_mask]"
   ]
  },
  {
   "cell_type": "markdown",
   "id": "493e2ac3",
   "metadata": {
    "papermill": {
     "duration": 0.009645,
     "end_time": "2025-08-05T16:11:27.203708",
     "exception": false,
     "start_time": "2025-08-05T16:11:27.194063",
     "status": "completed"
    },
    "tags": []
   },
   "source": [
    "# Model Training"
   ]
  },
  {
   "cell_type": "code",
   "execution_count": 30,
   "id": "679e1268",
   "metadata": {
    "execution": {
     "iopub.execute_input": "2025-08-05T16:11:27.224118Z",
     "iopub.status.busy": "2025-08-05T16:11:27.223674Z",
     "iopub.status.idle": "2025-08-05T16:11:27.348198Z",
     "shell.execute_reply": "2025-08-05T16:11:27.347010Z"
    },
    "papermill": {
     "duration": 0.13692,
     "end_time": "2025-08-05T16:11:27.350113",
     "exception": false,
     "start_time": "2025-08-05T16:11:27.213193",
     "status": "completed"
    },
    "tags": []
   },
   "outputs": [],
   "source": [
    "from sklearn.linear_model import LogisticRegression\n",
    "from sklearn.ensemble import GradientBoostingClassifier, RandomForestClassifier\n",
    "\n",
    "if (universe[\"model\"] == \"logreg\"):\n",
    "    model = LogisticRegression() #penalty=\"none\", solver=\"newton-cg\", max_iter=1) # include random_state=19 ?\n",
    "elif (universe[\"model\"] == \"penalized_logreg\"):\n",
    "    model = LogisticRegression(penalty=\"l2\", C=0.1) #, solver=\"newton-cg\", max_iter=1)\n",
    "elif (universe[\"model\"] == \"rf\"):\n",
    "    model = RandomForestClassifier() # n_estimators=100, n_jobs=-1\n",
    "elif (universe[\"model\"] == \"gbm\"):\n",
    "    model = GradientBoostingClassifier()\n",
    "elif (universe[\"model\"] == \"elasticnet\"):\n",
    "    model = LogisticRegression(penalty = 'elasticnet', solver = 'saga', l1_ratio = 0.5) # max_iter=5000\n",
    "else:\n",
    "    raise \"Unsupported universe.model\""
   ]
  },
  {
   "cell_type": "code",
   "execution_count": 31,
   "id": "0cc8f744",
   "metadata": {
    "execution": {
     "iopub.execute_input": "2025-08-05T16:11:27.397001Z",
     "iopub.status.busy": "2025-08-05T16:11:27.396060Z",
     "iopub.status.idle": "2025-08-05T16:11:27.402821Z",
     "shell.execute_reply": "2025-08-05T16:11:27.401771Z"
    },
    "papermill": {
     "duration": 0.032204,
     "end_time": "2025-08-05T16:11:27.404480",
     "exception": false,
     "start_time": "2025-08-05T16:11:27.372276",
     "status": "completed"
    },
    "tags": []
   },
   "outputs": [],
   "source": [
    "import numpy as np\n",
    "from sklearn.pipeline import Pipeline\n",
    "from sklearn.preprocessing import StandardScaler\n",
    "\n",
    "model = Pipeline([\n",
    "    #(\"continuous_processor\", continuous_processor),\n",
    "    #(\"categorical_preprocessor\", categorical_preprocessor),\n",
    "    (\"scale\", StandardScaler() if universe[\"scale\"] == \"scale\" else None), \n",
    "    (\"model\", model),\n",
    "])"
   ]
  },
  {
   "cell_type": "code",
   "execution_count": 32,
   "id": "9442c04d",
   "metadata": {
    "execution": {
     "iopub.execute_input": "2025-08-05T16:11:27.451160Z",
     "iopub.status.busy": "2025-08-05T16:11:27.450271Z",
     "iopub.status.idle": "2025-08-05T16:11:27.829967Z",
     "shell.execute_reply": "2025-08-05T16:11:27.828834Z"
    },
    "papermill": {
     "duration": 0.405209,
     "end_time": "2025-08-05T16:11:27.832497",
     "exception": false,
     "start_time": "2025-08-05T16:11:27.427288",
     "status": "completed"
    },
    "tags": []
   },
   "outputs": [
    {
     "data": {
      "text/html": [
       "<style>#sk-container-id-1 {color: black;background-color: white;}#sk-container-id-1 pre{padding: 0;}#sk-container-id-1 div.sk-toggleable {background-color: white;}#sk-container-id-1 label.sk-toggleable__label {cursor: pointer;display: block;width: 100%;margin-bottom: 0;padding: 0.3em;box-sizing: border-box;text-align: center;}#sk-container-id-1 label.sk-toggleable__label-arrow:before {content: \"▸\";float: left;margin-right: 0.25em;color: #696969;}#sk-container-id-1 label.sk-toggleable__label-arrow:hover:before {color: black;}#sk-container-id-1 div.sk-estimator:hover label.sk-toggleable__label-arrow:before {color: black;}#sk-container-id-1 div.sk-toggleable__content {max-height: 0;max-width: 0;overflow: hidden;text-align: left;background-color: #f0f8ff;}#sk-container-id-1 div.sk-toggleable__content pre {margin: 0.2em;color: black;border-radius: 0.25em;background-color: #f0f8ff;}#sk-container-id-1 input.sk-toggleable__control:checked~div.sk-toggleable__content {max-height: 200px;max-width: 100%;overflow: auto;}#sk-container-id-1 input.sk-toggleable__control:checked~label.sk-toggleable__label-arrow:before {content: \"▾\";}#sk-container-id-1 div.sk-estimator input.sk-toggleable__control:checked~label.sk-toggleable__label {background-color: #d4ebff;}#sk-container-id-1 div.sk-label input.sk-toggleable__control:checked~label.sk-toggleable__label {background-color: #d4ebff;}#sk-container-id-1 input.sk-hidden--visually {border: 0;clip: rect(1px 1px 1px 1px);clip: rect(1px, 1px, 1px, 1px);height: 1px;margin: -1px;overflow: hidden;padding: 0;position: absolute;width: 1px;}#sk-container-id-1 div.sk-estimator {font-family: monospace;background-color: #f0f8ff;border: 1px dotted black;border-radius: 0.25em;box-sizing: border-box;margin-bottom: 0.5em;}#sk-container-id-1 div.sk-estimator:hover {background-color: #d4ebff;}#sk-container-id-1 div.sk-parallel-item::after {content: \"\";width: 100%;border-bottom: 1px solid gray;flex-grow: 1;}#sk-container-id-1 div.sk-label:hover label.sk-toggleable__label {background-color: #d4ebff;}#sk-container-id-1 div.sk-serial::before {content: \"\";position: absolute;border-left: 1px solid gray;box-sizing: border-box;top: 0;bottom: 0;left: 50%;z-index: 0;}#sk-container-id-1 div.sk-serial {display: flex;flex-direction: column;align-items: center;background-color: white;padding-right: 0.2em;padding-left: 0.2em;position: relative;}#sk-container-id-1 div.sk-item {position: relative;z-index: 1;}#sk-container-id-1 div.sk-parallel {display: flex;align-items: stretch;justify-content: center;background-color: white;position: relative;}#sk-container-id-1 div.sk-item::before, #sk-container-id-1 div.sk-parallel-item::before {content: \"\";position: absolute;border-left: 1px solid gray;box-sizing: border-box;top: 0;bottom: 0;left: 50%;z-index: -1;}#sk-container-id-1 div.sk-parallel-item {display: flex;flex-direction: column;z-index: 1;position: relative;background-color: white;}#sk-container-id-1 div.sk-parallel-item:first-child::after {align-self: flex-end;width: 50%;}#sk-container-id-1 div.sk-parallel-item:last-child::after {align-self: flex-start;width: 50%;}#sk-container-id-1 div.sk-parallel-item:only-child::after {width: 0;}#sk-container-id-1 div.sk-dashed-wrapped {border: 1px dashed gray;margin: 0 0.4em 0.5em 0.4em;box-sizing: border-box;padding-bottom: 0.4em;background-color: white;}#sk-container-id-1 div.sk-label label {font-family: monospace;font-weight: bold;display: inline-block;line-height: 1.2em;}#sk-container-id-1 div.sk-label-container {text-align: center;}#sk-container-id-1 div.sk-container {/* jupyter's `normalize.less` sets `[hidden] { display: none; }` but bootstrap.min.css set `[hidden] { display: none !important; }` so we also need the `!important` here to be able to override the default hidden behavior on the sphinx rendered scikit-learn.org. See: https://github.com/scikit-learn/scikit-learn/issues/21755 */display: inline-block !important;position: relative;}#sk-container-id-1 div.sk-text-repr-fallback {display: none;}</style><div id=\"sk-container-id-1\" class=\"sk-top-container\"><div class=\"sk-text-repr-fallback\"><pre>Pipeline(steps=[(&#x27;scale&#x27;, None), (&#x27;model&#x27;, RandomForestClassifier())])</pre><b>In a Jupyter environment, please rerun this cell to show the HTML representation or trust the notebook. <br />On GitHub, the HTML representation is unable to render, please try loading this page with nbviewer.org.</b></div><div class=\"sk-container\" hidden><div class=\"sk-item sk-dashed-wrapped\"><div class=\"sk-label-container\"><div class=\"sk-label sk-toggleable\"><input class=\"sk-toggleable__control sk-hidden--visually\" id=\"sk-estimator-id-1\" type=\"checkbox\" ><label for=\"sk-estimator-id-1\" class=\"sk-toggleable__label sk-toggleable__label-arrow\">Pipeline</label><div class=\"sk-toggleable__content\"><pre>Pipeline(steps=[(&#x27;scale&#x27;, None), (&#x27;model&#x27;, RandomForestClassifier())])</pre></div></div></div><div class=\"sk-serial\"><div class=\"sk-item\"><div class=\"sk-estimator sk-toggleable\"><input class=\"sk-toggleable__control sk-hidden--visually\" id=\"sk-estimator-id-2\" type=\"checkbox\" ><label for=\"sk-estimator-id-2\" class=\"sk-toggleable__label sk-toggleable__label-arrow\">None</label><div class=\"sk-toggleable__content\"><pre>None</pre></div></div></div><div class=\"sk-item\"><div class=\"sk-estimator sk-toggleable\"><input class=\"sk-toggleable__control sk-hidden--visually\" id=\"sk-estimator-id-3\" type=\"checkbox\" ><label for=\"sk-estimator-id-3\" class=\"sk-toggleable__label sk-toggleable__label-arrow\">RandomForestClassifier</label><div class=\"sk-toggleable__content\"><pre>RandomForestClassifier()</pre></div></div></div></div></div></div></div>"
      ],
      "text/plain": [
       "Pipeline(steps=[('scale', None), ('model', RandomForestClassifier())])"
      ]
     },
     "execution_count": 32,
     "metadata": {},
     "output_type": "execute_result"
    }
   ],
   "source": [
    "model.fit(X_train, y_train.values.ravel())"
   ]
  },
  {
   "cell_type": "code",
   "execution_count": 33,
   "id": "af59f8c0",
   "metadata": {
    "execution": {
     "iopub.execute_input": "2025-08-05T16:11:27.879225Z",
     "iopub.status.busy": "2025-08-05T16:11:27.878247Z",
     "iopub.status.idle": "2025-08-05T16:11:27.884058Z",
     "shell.execute_reply": "2025-08-05T16:11:27.883037Z"
    },
    "papermill": {
     "duration": 0.030415,
     "end_time": "2025-08-05T16:11:27.886240",
     "exception": false,
     "start_time": "2025-08-05T16:11:27.855825",
     "status": "completed"
    },
    "tags": []
   },
   "outputs": [],
   "source": [
    "from fairness_multiverse.universe import predict_w_threshold"
   ]
  },
  {
   "cell_type": "code",
   "execution_count": 34,
   "id": "a7cf2e16",
   "metadata": {
    "execution": {
     "iopub.execute_input": "2025-08-05T16:11:27.933625Z",
     "iopub.status.busy": "2025-08-05T16:11:27.933085Z",
     "iopub.status.idle": "2025-08-05T16:11:29.426629Z",
     "shell.execute_reply": "2025-08-05T16:11:29.425570Z"
    },
    "papermill": {
     "duration": 1.518809,
     "end_time": "2025-08-05T16:11:29.428379",
     "exception": false,
     "start_time": "2025-08-05T16:11:27.909570",
     "status": "completed"
    },
    "tags": []
   },
   "outputs": [
    {
     "data": {
      "text/plain": [
       "0.8597369301081261"
      ]
     },
     "execution_count": 34,
     "metadata": {},
     "output_type": "execute_result"
    }
   ],
   "source": [
    "probs_test = model.predict_proba(X_test)\n",
    "\n",
    "'''\n",
    "Below code returns a boolean array (or binary 0/1 array depending on how it’s used) where each element \n",
    "is True if the probability of class 1 is greater than or equal to the threshold, and False otherwise.\n",
    "'''\n",
    "y_pred_default = predict_w_threshold(probs_test, 0.5)\n",
    "\n",
    "from sklearn.metrics import accuracy_score\n",
    "\n",
    "# Naive prediction\n",
    "accuracy_score(y_true = y_true, y_pred = y_pred_default)"
   ]
  },
  {
   "cell_type": "code",
   "execution_count": 35,
   "id": "081964c3",
   "metadata": {
    "execution": {
     "iopub.execute_input": "2025-08-05T16:11:29.475735Z",
     "iopub.status.busy": "2025-08-05T16:11:29.475050Z",
     "iopub.status.idle": "2025-08-05T16:11:30.886800Z",
     "shell.execute_reply": "2025-08-05T16:11:30.886066Z"
    },
    "papermill": {
     "duration": 1.436196,
     "end_time": "2025-08-05T16:11:30.887987",
     "exception": false,
     "start_time": "2025-08-05T16:11:29.451791",
     "status": "completed"
    },
    "tags": []
   },
   "outputs": [
    {
     "data": {
      "text/plain": [
       "array([0, 0, 0, ..., 0, 0, 0])"
      ]
     },
     "execution_count": 35,
     "metadata": {},
     "output_type": "execute_result"
    }
   ],
   "source": [
    "model.predict(X_test)"
   ]
  },
  {
   "cell_type": "markdown",
   "id": "56c9705b",
   "metadata": {
    "papermill": {
     "duration": 0.020558,
     "end_time": "2025-08-05T16:11:30.923417",
     "exception": false,
     "start_time": "2025-08-05T16:11:30.902859",
     "status": "completed"
    },
    "tags": []
   },
   "source": [
    "# Conformal Prediction"
   ]
  },
  {
   "cell_type": "code",
   "execution_count": 36,
   "id": "160ec6ff",
   "metadata": {
    "execution": {
     "iopub.execute_input": "2025-08-05T16:11:30.963995Z",
     "iopub.status.busy": "2025-08-05T16:11:30.963263Z",
     "iopub.status.idle": "2025-08-05T16:11:30.968553Z",
     "shell.execute_reply": "2025-08-05T16:11:30.967648Z"
    },
    "papermill": {
     "duration": 0.029189,
     "end_time": "2025-08-05T16:11:30.970465",
     "exception": false,
     "start_time": "2025-08-05T16:11:30.941276",
     "status": "completed"
    },
    "tags": []
   },
   "outputs": [],
   "source": [
    "# Miscoverage level for conformal prediction (10% allowed error rate => 90% target coverage)\n",
    "alpha = 0.1"
   ]
  },
  {
   "cell_type": "code",
   "execution_count": 37,
   "id": "eadf4555-3dd3-440e-8e35-f82a4ad9f855",
   "metadata": {
    "execution": {
     "iopub.execute_input": "2025-08-05T16:11:31.010948Z",
     "iopub.status.busy": "2025-08-05T16:11:31.010287Z",
     "iopub.status.idle": "2025-08-05T16:11:32.362820Z",
     "shell.execute_reply": "2025-08-05T16:11:32.362032Z"
    },
    "papermill": {
     "duration": 1.376416,
     "end_time": "2025-08-05T16:11:32.364261",
     "exception": false,
     "start_time": "2025-08-05T16:11:30.987845",
     "status": "completed"
    },
    "tags": []
   },
   "outputs": [],
   "source": [
    "probs_calib = model.predict_proba(X_calib)"
   ]
  },
  {
   "cell_type": "code",
   "execution_count": 38,
   "id": "2ed93547-6d5d-4983-9b36-1ecb300da49a",
   "metadata": {
    "execution": {
     "iopub.execute_input": "2025-08-05T16:11:32.406648Z",
     "iopub.status.busy": "2025-08-05T16:11:32.406141Z",
     "iopub.status.idle": "2025-08-05T16:11:32.411798Z",
     "shell.execute_reply": "2025-08-05T16:11:32.410594Z"
    },
    "papermill": {
     "duration": 0.029443,
     "end_time": "2025-08-05T16:11:32.413727",
     "exception": false,
     "start_time": "2025-08-05T16:11:32.384284",
     "status": "completed"
    },
    "tags": []
   },
   "outputs": [],
   "source": [
    "y_calib = y_calib.values.ravel().astype(int)"
   ]
  },
  {
   "cell_type": "code",
   "execution_count": 39,
   "id": "65d1320d-f588-4b38-9072-62af1ae97f7d",
   "metadata": {
    "execution": {
     "iopub.execute_input": "2025-08-05T16:11:32.460565Z",
     "iopub.status.busy": "2025-08-05T16:11:32.460088Z",
     "iopub.status.idle": "2025-08-05T16:11:32.468104Z",
     "shell.execute_reply": "2025-08-05T16:11:32.467062Z"
    },
    "papermill": {
     "duration": 0.033449,
     "end_time": "2025-08-05T16:11:32.469970",
     "exception": false,
     "start_time": "2025-08-05T16:11:32.436521",
     "status": "completed"
    },
    "tags": []
   },
   "outputs": [],
   "source": [
    "from fairness_multiverse.conformal import compute_nc_scores\n",
    "\n",
    "# Compute nonconformity scores on calibration set (1 - probability of true class)\n",
    "nc_scores = compute_nc_scores(probs_calib, y_calib)"
   ]
  },
  {
   "cell_type": "code",
   "execution_count": 40,
   "id": "df3b8ca3-53b7-43d5-9667-7c85da7aeda2",
   "metadata": {
    "execution": {
     "iopub.execute_input": "2025-08-05T16:11:32.518095Z",
     "iopub.status.busy": "2025-08-05T16:11:32.517318Z",
     "iopub.status.idle": "2025-08-05T16:11:32.525028Z",
     "shell.execute_reply": "2025-08-05T16:11:32.523711Z"
    },
    "papermill": {
     "duration": 0.032895,
     "end_time": "2025-08-05T16:11:32.526861",
     "exception": false,
     "start_time": "2025-08-05T16:11:32.493966",
     "status": "completed"
    },
    "tags": []
   },
   "outputs": [],
   "source": [
    "from fairness_multiverse.conformal import find_threshold\n",
    "\n",
    "# Find conformal threshold q_hat for the given alpha (split conformal method)\n",
    "q_hat = find_threshold(nc_scores, alpha)"
   ]
  },
  {
   "cell_type": "code",
   "execution_count": 41,
   "id": "4d29e6c1-0ef6-4aa4-b8fe-4fe79b0d033a",
   "metadata": {
    "execution": {
     "iopub.execute_input": "2025-08-05T16:11:32.570954Z",
     "iopub.status.busy": "2025-08-05T16:11:32.570008Z",
     "iopub.status.idle": "2025-08-05T16:11:32.578067Z",
     "shell.execute_reply": "2025-08-05T16:11:32.576833Z"
    },
    "papermill": {
     "duration": 0.031815,
     "end_time": "2025-08-05T16:11:32.580228",
     "exception": false,
     "start_time": "2025-08-05T16:11:32.548413",
     "status": "completed"
    },
    "tags": []
   },
   "outputs": [
    {
     "data": {
      "text/plain": [
       "0.6699999999999999"
      ]
     },
     "execution_count": 41,
     "metadata": {},
     "output_type": "execute_result"
    }
   ],
   "source": [
    "q_hat"
   ]
  },
  {
   "cell_type": "code",
   "execution_count": 42,
   "id": "92460794-cdac-4be2-ba28-f28c0515a6fb",
   "metadata": {
    "execution": {
     "iopub.execute_input": "2025-08-05T16:11:32.630183Z",
     "iopub.status.busy": "2025-08-05T16:11:32.629320Z",
     "iopub.status.idle": "2025-08-05T16:11:34.908421Z",
     "shell.execute_reply": "2025-08-05T16:11:34.907469Z"
    },
    "papermill": {
     "duration": 2.305752,
     "end_time": "2025-08-05T16:11:34.910781",
     "exception": false,
     "start_time": "2025-08-05T16:11:32.605029",
     "status": "completed"
    },
    "tags": []
   },
   "outputs": [],
   "source": [
    "from fairness_multiverse.conformal import predict_conformal_sets\n",
    "\n",
    "# Generate prediction sets for each test example\n",
    "pred_sets = predict_conformal_sets(model, X_test, q_hat)"
   ]
  },
  {
   "cell_type": "code",
   "execution_count": 43,
   "id": "d90c9a65-e6db-4f5d-80cd-e68fb7e46829",
   "metadata": {
    "execution": {
     "iopub.execute_input": "2025-08-05T16:11:34.955916Z",
     "iopub.status.busy": "2025-08-05T16:11:34.955406Z",
     "iopub.status.idle": "2025-08-05T16:11:34.961423Z",
     "shell.execute_reply": "2025-08-05T16:11:34.960321Z"
    },
    "papermill": {
     "duration": 0.029857,
     "end_time": "2025-08-05T16:11:34.963461",
     "exception": false,
     "start_time": "2025-08-05T16:11:34.933604",
     "status": "completed"
    },
    "tags": []
   },
   "outputs": [],
   "source": [
    "y_true = y_true.squeeze()"
   ]
  },
  {
   "cell_type": "code",
   "execution_count": 44,
   "id": "3a58a54a-1e68-46b9-927a-df01f18aebc8",
   "metadata": {
    "execution": {
     "iopub.execute_input": "2025-08-05T16:11:35.006224Z",
     "iopub.status.busy": "2025-08-05T16:11:35.005230Z",
     "iopub.status.idle": "2025-08-05T16:11:35.943289Z",
     "shell.execute_reply": "2025-08-05T16:11:35.942321Z"
    },
    "papermill": {
     "duration": 0.961082,
     "end_time": "2025-08-05T16:11:35.945144",
     "exception": false,
     "start_time": "2025-08-05T16:11:34.984062",
     "status": "completed"
    },
    "tags": []
   },
   "outputs": [],
   "source": [
    "from fairness_multiverse.conformal import evaluate_sets\n",
    "\n",
    "# Evaluate coverage and average set size on test data\n",
    "metrics = evaluate_sets(pred_sets, y_true)"
   ]
  },
  {
   "cell_type": "markdown",
   "id": "2b569c12-9aaa-4c88-98c9-bbcd0cf3ebb8",
   "metadata": {
    "papermill": {
     "duration": 0.023831,
     "end_time": "2025-08-05T16:11:35.998230",
     "exception": false,
     "start_time": "2025-08-05T16:11:35.974399",
     "status": "completed"
    },
    "tags": []
   },
   "source": [
    "# CP Metrics"
   ]
  },
  {
   "cell_type": "code",
   "execution_count": 45,
   "id": "5ce0a5cb-201f-45a0-ade5-94c7f0bd6095",
   "metadata": {
    "execution": {
     "iopub.execute_input": "2025-08-05T16:11:36.043309Z",
     "iopub.status.busy": "2025-08-05T16:11:36.042525Z",
     "iopub.status.idle": "2025-08-05T16:11:36.048981Z",
     "shell.execute_reply": "2025-08-05T16:11:36.048223Z"
    },
    "papermill": {
     "duration": 0.030105,
     "end_time": "2025-08-05T16:11:36.050403",
     "exception": false,
     "start_time": "2025-08-05T16:11:36.020298",
     "status": "completed"
    },
    "tags": []
   },
   "outputs": [
    {
     "data": {
      "text/plain": [
       "{'coverage': 0.9141678742615094, 'avg_size': 1.1486902240552892}"
      ]
     },
     "execution_count": 45,
     "metadata": {},
     "output_type": "execute_result"
    }
   ],
   "source": [
    "metrics"
   ]
  },
  {
   "cell_type": "code",
   "execution_count": 46,
   "id": "9b9a838d-31c9-430b-ae14-12baee460d17",
   "metadata": {
    "execution": {
     "iopub.execute_input": "2025-08-05T16:11:36.075466Z",
     "iopub.status.busy": "2025-08-05T16:11:36.075100Z",
     "iopub.status.idle": "2025-08-05T16:11:36.080398Z",
     "shell.execute_reply": "2025-08-05T16:11:36.079525Z"
    },
    "papermill": {
     "duration": 0.019379,
     "end_time": "2025-08-05T16:11:36.081862",
     "exception": false,
     "start_time": "2025-08-05T16:11:36.062483",
     "status": "completed"
    },
    "tags": []
   },
   "outputs": [],
   "source": [
    "example_universe = universe.copy()\n",
    "universe_training_year = example_universe.get(\"training_year\")\n",
    "universe_training_size = example_universe.get(\"training_size\")\n",
    "universe_scale = example_universe.get(\"scale\")\n",
    "universe_model = example_universe.get(\"model\")\n",
    "universe_exclude_features = example_universe.get(\"exclude_features\")\n",
    "universe_exclude_subgroups = example_universe.get(\"exclude_subgroups\")"
   ]
  },
  {
   "cell_type": "code",
   "execution_count": 47,
   "id": "f4b6a8ac-9dc0-4245-8a91-5b3b5999c4f9",
   "metadata": {
    "execution": {
     "iopub.execute_input": "2025-08-05T16:11:36.118386Z",
     "iopub.status.busy": "2025-08-05T16:11:36.117712Z",
     "iopub.status.idle": "2025-08-05T16:11:36.124691Z",
     "shell.execute_reply": "2025-08-05T16:11:36.123708Z"
    },
    "papermill": {
     "duration": 0.03215,
     "end_time": "2025-08-05T16:11:36.126884",
     "exception": false,
     "start_time": "2025-08-05T16:11:36.094734",
     "status": "completed"
    },
    "tags": []
   },
   "outputs": [],
   "source": [
    "cp_metrics_dict = {\n",
    "    \"universe_id\": [universe_id],\n",
    "    \"universe_training_year\": [universe_training_year],\n",
    "    \"universe_training_size\": [universe_training_size],\n",
    "    \"universe_scale\": [universe_scale],\n",
    "    \"universe_model\": [universe_model],\n",
    "    \"universe_exclude_features\": [universe_exclude_features],\n",
    "    \"universe_exclude_subgroups\": [universe_exclude_subgroups],\n",
    "    \"q_hat\": [q_hat],\n",
    "    \"coverage\": [metrics[\"coverage\"]],\n",
    "    \"avg_size\": [metrics[\"avg_size\"]],\n",
    "}"
   ]
  },
  {
   "cell_type": "code",
   "execution_count": 48,
   "id": "908acbb1-0371-4915-85ca-3fa520d2efe2",
   "metadata": {
    "execution": {
     "iopub.execute_input": "2025-08-05T16:11:36.159101Z",
     "iopub.status.busy": "2025-08-05T16:11:36.158751Z",
     "iopub.status.idle": "2025-08-05T16:11:36.165350Z",
     "shell.execute_reply": "2025-08-05T16:11:36.164494Z"
    },
    "papermill": {
     "duration": 0.020526,
     "end_time": "2025-08-05T16:11:36.166861",
     "exception": false,
     "start_time": "2025-08-05T16:11:36.146335",
     "status": "completed"
    },
    "tags": []
   },
   "outputs": [
    {
     "data": {
      "text/plain": [
       "{'universe_id': ['3bc524dae14e5b9bf8e4201bdee63caa'],\n",
       " 'universe_training_year': ['2014'],\n",
       " 'universe_training_size': ['1k'],\n",
       " 'universe_scale': ['do-not-scale'],\n",
       " 'universe_model': ['rf'],\n",
       " 'universe_exclude_features': ['nationality'],\n",
       " 'universe_exclude_subgroups': ['drop-non-german'],\n",
       " 'q_hat': [0.6699999999999999],\n",
       " 'coverage': [0.9141678742615094],\n",
       " 'avg_size': [1.1486902240552892]}"
      ]
     },
     "execution_count": 48,
     "metadata": {},
     "output_type": "execute_result"
    }
   ],
   "source": [
    "cp_metrics_dict"
   ]
  },
  {
   "cell_type": "code",
   "execution_count": 49,
   "id": "33007efc-14e9-4ec6-97ac-56a455c82265",
   "metadata": {
    "execution": {
     "iopub.execute_input": "2025-08-05T16:11:36.206110Z",
     "iopub.status.busy": "2025-08-05T16:11:36.205436Z",
     "iopub.status.idle": "2025-08-05T16:11:36.212692Z",
     "shell.execute_reply": "2025-08-05T16:11:36.211635Z"
    },
    "papermill": {
     "duration": 0.034099,
     "end_time": "2025-08-05T16:11:36.214919",
     "exception": false,
     "start_time": "2025-08-05T16:11:36.180820",
     "status": "completed"
    },
    "tags": []
   },
   "outputs": [],
   "source": [
    "cp_metrics_df = pd.DataFrame(cp_metrics_dict)"
   ]
  },
  {
   "cell_type": "code",
   "execution_count": 50,
   "id": "db12611b-57b2-4910-b9d0-355adfd6e7bf",
   "metadata": {
    "execution": {
     "iopub.execute_input": "2025-08-05T16:11:36.262249Z",
     "iopub.status.busy": "2025-08-05T16:11:36.261704Z",
     "iopub.status.idle": "2025-08-05T16:11:36.283166Z",
     "shell.execute_reply": "2025-08-05T16:11:36.282172Z"
    },
    "papermill": {
     "duration": 0.046413,
     "end_time": "2025-08-05T16:11:36.285136",
     "exception": false,
     "start_time": "2025-08-05T16:11:36.238723",
     "status": "completed"
    },
    "tags": []
   },
   "outputs": [
    {
     "data": {
      "text/html": [
       "<div>\n",
       "<style scoped>\n",
       "    .dataframe tbody tr th:only-of-type {\n",
       "        vertical-align: middle;\n",
       "    }\n",
       "\n",
       "    .dataframe tbody tr th {\n",
       "        vertical-align: top;\n",
       "    }\n",
       "\n",
       "    .dataframe thead th {\n",
       "        text-align: right;\n",
       "    }\n",
       "</style>\n",
       "<table border=\"1\" class=\"dataframe\">\n",
       "  <thead>\n",
       "    <tr style=\"text-align: right;\">\n",
       "      <th></th>\n",
       "      <th>universe_id</th>\n",
       "      <th>universe_training_year</th>\n",
       "      <th>universe_training_size</th>\n",
       "      <th>universe_scale</th>\n",
       "      <th>universe_model</th>\n",
       "      <th>universe_exclude_features</th>\n",
       "      <th>universe_exclude_subgroups</th>\n",
       "      <th>q_hat</th>\n",
       "      <th>coverage</th>\n",
       "      <th>avg_size</th>\n",
       "    </tr>\n",
       "  </thead>\n",
       "  <tbody>\n",
       "    <tr>\n",
       "      <th>0</th>\n",
       "      <td>3bc524dae14e5b9bf8e4201bdee63caa</td>\n",
       "      <td>2014</td>\n",
       "      <td>1k</td>\n",
       "      <td>do-not-scale</td>\n",
       "      <td>rf</td>\n",
       "      <td>nationality</td>\n",
       "      <td>drop-non-german</td>\n",
       "      <td>0.67</td>\n",
       "      <td>0.914168</td>\n",
       "      <td>1.14869</td>\n",
       "    </tr>\n",
       "  </tbody>\n",
       "</table>\n",
       "</div>"
      ],
      "text/plain": [
       "                        universe_id universe_training_year  \\\n",
       "0  3bc524dae14e5b9bf8e4201bdee63caa                   2014   \n",
       "\n",
       "  universe_training_size universe_scale universe_model  \\\n",
       "0                     1k   do-not-scale             rf   \n",
       "\n",
       "  universe_exclude_features universe_exclude_subgroups  q_hat  coverage  \\\n",
       "0               nationality            drop-non-german   0.67  0.914168   \n",
       "\n",
       "   avg_size  \n",
       "0   1.14869  "
      ]
     },
     "execution_count": 50,
     "metadata": {},
     "output_type": "execute_result"
    }
   ],
   "source": [
    "cp_metrics_df"
   ]
  },
  {
   "cell_type": "code",
   "execution_count": 51,
   "id": "b7fbde55-a0a1-47e4-9af6-fe4a17fa8c61",
   "metadata": {
    "execution": {
     "iopub.execute_input": "2025-08-05T16:11:36.332628Z",
     "iopub.status.busy": "2025-08-05T16:11:36.331944Z",
     "iopub.status.idle": "2025-08-05T16:11:36.336712Z",
     "shell.execute_reply": "2025-08-05T16:11:36.335948Z"
    },
    "papermill": {
     "duration": 0.028993,
     "end_time": "2025-08-05T16:11:36.338117",
     "exception": false,
     "start_time": "2025-08-05T16:11:36.309124",
     "status": "completed"
    },
    "tags": []
   },
   "outputs": [],
   "source": [
    "# Conditional Coverage & looking at subgroups"
   ]
  },
  {
   "cell_type": "code",
   "execution_count": 52,
   "id": "027ae886-68dd-4141-96c7-805a5450e1ef",
   "metadata": {
    "execution": {
     "iopub.execute_input": "2025-08-05T16:11:36.364116Z",
     "iopub.status.busy": "2025-08-05T16:11:36.363758Z",
     "iopub.status.idle": "2025-08-05T16:11:36.599964Z",
     "shell.execute_reply": "2025-08-05T16:11:36.598969Z"
    },
    "papermill": {
     "duration": 0.251058,
     "end_time": "2025-08-05T16:11:36.602007",
     "exception": false,
     "start_time": "2025-08-05T16:11:36.350949",
     "status": "completed"
    },
    "tags": []
   },
   "outputs": [],
   "source": [
    "from fairness_multiverse.conformal import build_cp_groups\n",
    "\n",
    "cp_groups_df = build_cp_groups(pred_sets, y_true, X_test.index, org_test)\n",
    "#needs universe_id and setting"
   ]
  },
  {
   "cell_type": "code",
   "execution_count": 53,
   "id": "6cbdab96-b2b2-45af-ad54-d0516db2e28d",
   "metadata": {
    "execution": {
     "iopub.execute_input": "2025-08-05T16:11:36.649195Z",
     "iopub.status.busy": "2025-08-05T16:11:36.648661Z",
     "iopub.status.idle": "2025-08-05T16:11:38.416095Z",
     "shell.execute_reply": "2025-08-05T16:11:38.415035Z"
    },
    "papermill": {
     "duration": 1.793083,
     "end_time": "2025-08-05T16:11:38.417900",
     "exception": false,
     "start_time": "2025-08-05T16:11:36.624817",
     "status": "completed"
    },
    "tags": []
   },
   "outputs": [],
   "source": [
    "# Define covered = 1 if true_label is in the predicted set\n",
    "cp_groups_df['covered'] = cp_groups_df.apply(\n",
    "    lambda r: int(r['true_label'] in r['pred_set']),\n",
    "    axis=1\n",
    ")"
   ]
  },
  {
   "cell_type": "code",
   "execution_count": 54,
   "id": "338ff529-1a6b-4b87-a931-8e4788d52aad",
   "metadata": {
    "execution": {
     "iopub.execute_input": "2025-08-05T16:11:38.462588Z",
     "iopub.status.busy": "2025-08-05T16:11:38.461675Z",
     "iopub.status.idle": "2025-08-05T16:11:38.466843Z",
     "shell.execute_reply": "2025-08-05T16:11:38.465776Z"
    },
    "papermill": {
     "duration": 0.027685,
     "end_time": "2025-08-05T16:11:38.468687",
     "exception": false,
     "start_time": "2025-08-05T16:11:38.441002",
     "status": "completed"
    },
    "tags": []
   },
   "outputs": [],
   "source": [
    "#cp_groups_df"
   ]
  },
  {
   "cell_type": "code",
   "execution_count": 55,
   "id": "90032e27-66df-4540-9169-4e89cfbaa758",
   "metadata": {
    "execution": {
     "iopub.execute_input": "2025-08-05T16:11:38.515508Z",
     "iopub.status.busy": "2025-08-05T16:11:38.514858Z",
     "iopub.status.idle": "2025-08-05T16:11:38.526586Z",
     "shell.execute_reply": "2025-08-05T16:11:38.525630Z"
    },
    "papermill": {
     "duration": 0.036835,
     "end_time": "2025-08-05T16:11:38.528227",
     "exception": false,
     "start_time": "2025-08-05T16:11:38.491392",
     "status": "completed"
    },
    "tags": []
   },
   "outputs": [],
   "source": [
    "subgroups = ['frau1','nongerman','nongerman_male','nongerman_female']\n",
    "\n",
    "# Conditional coverage for subgroup==1\n",
    "cond_coverage = {\n",
    "    g: cp_groups_df.loc[cp_groups_df[g]==1, 'covered'].mean()\n",
    "    for g in subgroups\n",
    "}"
   ]
  },
  {
   "cell_type": "code",
   "execution_count": 56,
   "id": "1e348fb1-b9c3-45bc-ba23-f016827a7e0d",
   "metadata": {
    "execution": {
     "iopub.execute_input": "2025-08-05T16:11:38.574000Z",
     "iopub.status.busy": "2025-08-05T16:11:38.572935Z",
     "iopub.status.idle": "2025-08-05T16:11:38.580534Z",
     "shell.execute_reply": "2025-08-05T16:11:38.579432Z"
    },
    "papermill": {
     "duration": 0.031518,
     "end_time": "2025-08-05T16:11:38.582328",
     "exception": false,
     "start_time": "2025-08-05T16:11:38.550810",
     "status": "completed"
    },
    "tags": []
   },
   "outputs": [
    {
     "data": {
      "text/plain": [
       "{'frau1': 0.9104461517724761,\n",
       " 'nongerman': 0.9073710211643182,\n",
       " 'nongerman_male': 0.9256957579032694,\n",
       " 'nongerman_female': 0.8770491803278688}"
      ]
     },
     "execution_count": 56,
     "metadata": {},
     "output_type": "execute_result"
    }
   ],
   "source": [
    "cond_coverage"
   ]
  },
  {
   "cell_type": "code",
   "execution_count": 57,
   "id": "f5093324-c3dd-4d63-bc4c-8d945e5c8bbb",
   "metadata": {
    "execution": {
     "iopub.execute_input": "2025-08-05T16:11:38.629884Z",
     "iopub.status.busy": "2025-08-05T16:11:38.628898Z",
     "iopub.status.idle": "2025-08-05T16:11:38.636447Z",
     "shell.execute_reply": "2025-08-05T16:11:38.635570Z"
    },
    "papermill": {
     "duration": 0.032945,
     "end_time": "2025-08-05T16:11:38.638306",
     "exception": false,
     "start_time": "2025-08-05T16:11:38.605361",
     "status": "completed"
    },
    "tags": []
   },
   "outputs": [],
   "source": [
    "for subgroup, cov in cond_coverage.items():\n",
    "    cp_metrics_df[f\"cov_{subgroup}\"] = cov"
   ]
  },
  {
   "cell_type": "code",
   "execution_count": 58,
   "id": "6e872e10-dbe5-49e8-b554-5030c98ff75d",
   "metadata": {
    "execution": {
     "iopub.execute_input": "2025-08-05T16:11:38.685712Z",
     "iopub.status.busy": "2025-08-05T16:11:38.685204Z",
     "iopub.status.idle": "2025-08-05T16:11:38.704388Z",
     "shell.execute_reply": "2025-08-05T16:11:38.703375Z"
    },
    "papermill": {
     "duration": 0.043878,
     "end_time": "2025-08-05T16:11:38.706105",
     "exception": false,
     "start_time": "2025-08-05T16:11:38.662227",
     "status": "completed"
    },
    "tags": []
   },
   "outputs": [
    {
     "data": {
      "text/html": [
       "<div>\n",
       "<style scoped>\n",
       "    .dataframe tbody tr th:only-of-type {\n",
       "        vertical-align: middle;\n",
       "    }\n",
       "\n",
       "    .dataframe tbody tr th {\n",
       "        vertical-align: top;\n",
       "    }\n",
       "\n",
       "    .dataframe thead th {\n",
       "        text-align: right;\n",
       "    }\n",
       "</style>\n",
       "<table border=\"1\" class=\"dataframe\">\n",
       "  <thead>\n",
       "    <tr style=\"text-align: right;\">\n",
       "      <th></th>\n",
       "      <th>universe_id</th>\n",
       "      <th>universe_training_year</th>\n",
       "      <th>universe_training_size</th>\n",
       "      <th>universe_scale</th>\n",
       "      <th>universe_model</th>\n",
       "      <th>universe_exclude_features</th>\n",
       "      <th>universe_exclude_subgroups</th>\n",
       "      <th>q_hat</th>\n",
       "      <th>coverage</th>\n",
       "      <th>avg_size</th>\n",
       "      <th>cov_frau1</th>\n",
       "      <th>cov_nongerman</th>\n",
       "      <th>cov_nongerman_male</th>\n",
       "      <th>cov_nongerman_female</th>\n",
       "    </tr>\n",
       "  </thead>\n",
       "  <tbody>\n",
       "    <tr>\n",
       "      <th>0</th>\n",
       "      <td>3bc524dae14e5b9bf8e4201bdee63caa</td>\n",
       "      <td>2014</td>\n",
       "      <td>1k</td>\n",
       "      <td>do-not-scale</td>\n",
       "      <td>rf</td>\n",
       "      <td>nationality</td>\n",
       "      <td>drop-non-german</td>\n",
       "      <td>0.67</td>\n",
       "      <td>0.914168</td>\n",
       "      <td>1.14869</td>\n",
       "      <td>0.910446</td>\n",
       "      <td>0.907371</td>\n",
       "      <td>0.925696</td>\n",
       "      <td>0.877049</td>\n",
       "    </tr>\n",
       "  </tbody>\n",
       "</table>\n",
       "</div>"
      ],
      "text/plain": [
       "                        universe_id universe_training_year  \\\n",
       "0  3bc524dae14e5b9bf8e4201bdee63caa                   2014   \n",
       "\n",
       "  universe_training_size universe_scale universe_model  \\\n",
       "0                     1k   do-not-scale             rf   \n",
       "\n",
       "  universe_exclude_features universe_exclude_subgroups  q_hat  coverage  \\\n",
       "0               nationality            drop-non-german   0.67  0.914168   \n",
       "\n",
       "   avg_size  cov_frau1  cov_nongerman  cov_nongerman_male  \\\n",
       "0   1.14869   0.910446       0.907371            0.925696   \n",
       "\n",
       "   cov_nongerman_female  \n",
       "0              0.877049  "
      ]
     },
     "execution_count": 58,
     "metadata": {},
     "output_type": "execute_result"
    }
   ],
   "source": [
    "cp_metrics_df"
   ]
  },
  {
   "cell_type": "markdown",
   "id": "33774451",
   "metadata": {
    "papermill": {
     "duration": 0.022516,
     "end_time": "2025-08-05T16:11:38.752717",
     "exception": false,
     "start_time": "2025-08-05T16:11:38.730201",
     "status": "completed"
    },
    "tags": []
   },
   "source": [
    "# (Fairness) Metrics"
   ]
  },
  {
   "cell_type": "code",
   "execution_count": 59,
   "id": "debc5d62",
   "metadata": {
    "execution": {
     "iopub.execute_input": "2025-08-05T16:11:38.802213Z",
     "iopub.status.busy": "2025-08-05T16:11:38.800198Z",
     "iopub.status.idle": "2025-08-05T16:11:38.825199Z",
     "shell.execute_reply": "2025-08-05T16:11:38.823935Z"
    },
    "papermill": {
     "duration": 0.052297,
     "end_time": "2025-08-05T16:11:38.827394",
     "exception": false,
     "start_time": "2025-08-05T16:11:38.775097",
     "status": "completed"
    },
    "tags": []
   },
   "outputs": [],
   "source": [
    "# do I need to include maxdeutsch1.missing?\n",
    "\n",
    "import numpy as np\n",
    "\n",
    "colname_to_bin = \"maxdeutsch1\"\n",
    "majority_value = org_train[colname_to_bin].mode()[0]\n",
    "\n",
    "org_test[\"majmin\"] = np.where(org_test[colname_to_bin] == majority_value, \"majority\", \"minority\")"
   ]
  },
  {
   "cell_type": "code",
   "execution_count": 60,
   "id": "06a50de5",
   "metadata": {
    "execution": {
     "iopub.execute_input": "2025-08-05T16:11:38.877302Z",
     "iopub.status.busy": "2025-08-05T16:11:38.876416Z",
     "iopub.status.idle": "2025-08-05T16:11:41.631098Z",
     "shell.execute_reply": "2025-08-05T16:11:41.630108Z"
    },
    "papermill": {
     "duration": 2.78229,
     "end_time": "2025-08-05T16:11:41.633058",
     "exception": false,
     "start_time": "2025-08-05T16:11:38.850768",
     "status": "completed"
    },
    "tags": []
   },
   "outputs": [],
   "source": [
    "example_universe = universe.copy()\n",
    "example_universe[\"cutoff\"] = example_universe[\"cutoff\"][0]\n",
    "example_universe[\"eval_fairness_grouping\"] = example_universe[\"eval_fairness_grouping\"][0]\n",
    "fairness_dict, metric_frame = universe_analysis.compute_metrics(\n",
    "    example_universe,\n",
    "    y_pred_prob=probs_test,\n",
    "    y_test=y_true,\n",
    "    org_test=org_test,\n",
    ")"
   ]
  },
  {
   "cell_type": "markdown",
   "id": "f95d4e02",
   "metadata": {
    "papermill": {
     "duration": 0.022407,
     "end_time": "2025-08-05T16:11:41.679365",
     "exception": false,
     "start_time": "2025-08-05T16:11:41.656958",
     "status": "completed"
    },
    "tags": []
   },
   "source": [
    "# Overall"
   ]
  },
  {
   "cell_type": "markdown",
   "id": "bdee4871",
   "metadata": {
    "papermill": {
     "duration": 0.023794,
     "end_time": "2025-08-05T16:11:41.725935",
     "exception": false,
     "start_time": "2025-08-05T16:11:41.702141",
     "status": "completed"
    },
    "tags": []
   },
   "source": [
    "Fairness\n",
    "Main fairness target: Equalized Odds. Seems to be a better fit than equal opportunity, since we're not only interested in Y = 1. Seems to be a better fit than demographic parity, since we also care about accuracy, not just equal distribution of preds.\n",
    "\n",
    "Pick column for computation of fairness metrics\n",
    "\n",
    "Performance\n",
    "Overall performance measures, most interesting in relation to the measures split by group below"
   ]
  },
  {
   "cell_type": "code",
   "execution_count": 61,
   "id": "c4e067c6",
   "metadata": {
    "execution": {
     "iopub.execute_input": "2025-08-05T16:11:41.774095Z",
     "iopub.status.busy": "2025-08-05T16:11:41.773398Z",
     "iopub.status.idle": "2025-08-05T16:11:41.782129Z",
     "shell.execute_reply": "2025-08-05T16:11:41.781051Z"
    },
    "papermill": {
     "duration": 0.035251,
     "end_time": "2025-08-05T16:11:41.783730",
     "exception": false,
     "start_time": "2025-08-05T16:11:41.748479",
     "status": "completed"
    },
    "tags": []
   },
   "outputs": [
    {
     "data": {
      "text/plain": [
       "accuracy                   0.197470\n",
       "balanced accuracy          0.533016\n",
       "f1                         0.239364\n",
       "precision                  0.136247\n",
       "false positive rate        0.918327\n",
       "false negative rate        0.015641\n",
       "selection rate             0.926797\n",
       "count                  89710.000000\n",
       "dtype: float64"
      ]
     },
     "execution_count": 61,
     "metadata": {},
     "output_type": "execute_result"
    }
   ],
   "source": [
    "metric_frame.overall"
   ]
  },
  {
   "cell_type": "markdown",
   "id": "e968fe9d",
   "metadata": {
    "papermill": {
     "duration": 0.023422,
     "end_time": "2025-08-05T16:11:41.833694",
     "exception": false,
     "start_time": "2025-08-05T16:11:41.810272",
     "status": "completed"
    },
    "tags": []
   },
   "source": [
    "By Group"
   ]
  },
  {
   "cell_type": "code",
   "execution_count": 62,
   "id": "ec325bce",
   "metadata": {
    "execution": {
     "iopub.execute_input": "2025-08-05T16:11:41.886412Z",
     "iopub.status.busy": "2025-08-05T16:11:41.885390Z",
     "iopub.status.idle": "2025-08-05T16:11:41.902896Z",
     "shell.execute_reply": "2025-08-05T16:11:41.901590Z"
    },
    "papermill": {
     "duration": 0.044672,
     "end_time": "2025-08-05T16:11:41.904672",
     "exception": false,
     "start_time": "2025-08-05T16:11:41.860000",
     "status": "completed"
    },
    "tags": []
   },
   "outputs": [
    {
     "data": {
      "text/html": [
       "<div>\n",
       "<style scoped>\n",
       "    .dataframe tbody tr th:only-of-type {\n",
       "        vertical-align: middle;\n",
       "    }\n",
       "\n",
       "    .dataframe tbody tr th {\n",
       "        vertical-align: top;\n",
       "    }\n",
       "\n",
       "    .dataframe thead th {\n",
       "        text-align: right;\n",
       "    }\n",
       "</style>\n",
       "<table border=\"1\" class=\"dataframe\">\n",
       "  <thead>\n",
       "    <tr style=\"text-align: right;\">\n",
       "      <th></th>\n",
       "      <th>accuracy</th>\n",
       "      <th>balanced accuracy</th>\n",
       "      <th>f1</th>\n",
       "      <th>precision</th>\n",
       "      <th>false positive rate</th>\n",
       "      <th>false negative rate</th>\n",
       "      <th>selection rate</th>\n",
       "      <th>count</th>\n",
       "    </tr>\n",
       "    <tr>\n",
       "      <th>majmin</th>\n",
       "      <th></th>\n",
       "      <th></th>\n",
       "      <th></th>\n",
       "      <th></th>\n",
       "      <th></th>\n",
       "      <th></th>\n",
       "      <th></th>\n",
       "      <th></th>\n",
       "    </tr>\n",
       "  </thead>\n",
       "  <tbody>\n",
       "    <tr>\n",
       "      <th>majority</th>\n",
       "      <td>0.202067</td>\n",
       "      <td>0.534862</td>\n",
       "      <td>0.246399</td>\n",
       "      <td>0.140767</td>\n",
       "      <td>0.917475</td>\n",
       "      <td>0.012801</td>\n",
       "      <td>0.926688</td>\n",
       "      <td>69170.0</td>\n",
       "    </tr>\n",
       "    <tr>\n",
       "      <th>minority</th>\n",
       "      <td>0.181986</td>\n",
       "      <td>0.526126</td>\n",
       "      <td>0.215300</td>\n",
       "      <td>0.121035</td>\n",
       "      <td>0.921142</td>\n",
       "      <td>0.026605</td>\n",
       "      <td>0.927167</td>\n",
       "      <td>20540.0</td>\n",
       "    </tr>\n",
       "  </tbody>\n",
       "</table>\n",
       "</div>"
      ],
      "text/plain": [
       "          accuracy  balanced accuracy        f1  precision  \\\n",
       "majmin                                                       \n",
       "majority  0.202067           0.534862  0.246399   0.140767   \n",
       "minority  0.181986           0.526126  0.215300   0.121035   \n",
       "\n",
       "          false positive rate  false negative rate  selection rate    count  \n",
       "majmin                                                                       \n",
       "majority             0.917475             0.012801        0.926688  69170.0  \n",
       "minority             0.921142             0.026605        0.927167  20540.0  "
      ]
     },
     "execution_count": 62,
     "metadata": {},
     "output_type": "execute_result"
    }
   ],
   "source": [
    "metric_frame.by_group"
   ]
  },
  {
   "cell_type": "code",
   "execution_count": 63,
   "id": "a9ddbe63",
   "metadata": {
    "execution": {
     "iopub.execute_input": "2025-08-05T16:11:41.954063Z",
     "iopub.status.busy": "2025-08-05T16:11:41.953331Z",
     "iopub.status.idle": "2025-08-05T16:11:44.131002Z",
     "shell.execute_reply": "2025-08-05T16:11:44.129792Z"
    },
    "papermill": {
     "duration": 2.203513,
     "end_time": "2025-08-05T16:11:44.132825",
     "exception": false,
     "start_time": "2025-08-05T16:11:41.929312",
     "status": "completed"
    },
    "tags": []
   },
   "outputs": [
    {
     "data": {
      "text/plain": [
       "array([[<Axes: title={'center': 'accuracy'}, xlabel='majmin'>,\n",
       "        <Axes: title={'center': 'balanced accuracy'}, xlabel='majmin'>,\n",
       "        <Axes: title={'center': 'f1'}, xlabel='majmin'>],\n",
       "       [<Axes: title={'center': 'precision'}, xlabel='majmin'>,\n",
       "        <Axes: title={'center': 'false positive rate'}, xlabel='majmin'>,\n",
       "        <Axes: title={'center': 'false negative rate'}, xlabel='majmin'>],\n",
       "       [<Axes: title={'center': 'selection rate'}, xlabel='majmin'>,\n",
       "        <Axes: title={'center': 'count'}, xlabel='majmin'>,\n",
       "        <Axes: xlabel='majmin'>]], dtype=object)"
      ]
     },
     "execution_count": 63,
     "metadata": {},
     "output_type": "execute_result"
    },
    {
     "data": {
      "image/png": "[encoded data removed]",
      "text/plain": [
       "<Figure size 1200x800 with 9 Axes>"
      ]
     },
     "metadata": {},
     "output_type": "display_data"
    }
   ],
   "source": [
    "# In a graphic\n",
    "metric_frame.by_group.plot.bar(\n",
    "    subplots=True,\n",
    "    layout=[3, 3],\n",
    "    legend=False,\n",
    "    figsize=[12, 8],\n",
    "    title=\"Show all metrics\",\n",
    ")"
   ]
  },
  {
   "cell_type": "markdown",
   "id": "f57a0bac",
   "metadata": {
    "papermill": {
     "duration": 0.014094,
     "end_time": "2025-08-05T16:11:44.166141",
     "exception": false,
     "start_time": "2025-08-05T16:11:44.152047",
     "status": "completed"
    },
    "tags": []
   },
   "source": [
    "# Final Output"
   ]
  },
  {
   "cell_type": "code",
   "execution_count": 64,
   "id": "96d280a3",
   "metadata": {
    "execution": {
     "iopub.execute_input": "2025-08-05T16:11:44.194663Z",
     "iopub.status.busy": "2025-08-05T16:11:44.194013Z",
     "iopub.status.idle": "2025-08-05T16:11:44.201304Z",
     "shell.execute_reply": "2025-08-05T16:11:44.200376Z"
    },
    "papermill": {
     "duration": 0.023294,
     "end_time": "2025-08-05T16:11:44.202681",
     "exception": false,
     "start_time": "2025-08-05T16:11:44.179387",
     "status": "completed"
    },
    "tags": []
   },
   "outputs": [
    {
     "data": {
      "text/plain": [
       "4"
      ]
     },
     "execution_count": 64,
     "metadata": {},
     "output_type": "execute_result"
    }
   ],
   "source": [
    "sub_universes = universe_analysis.generate_sub_universes()\n",
    "len(sub_universes)"
   ]
  },
  {
   "cell_type": "code",
   "execution_count": 65,
   "id": "92adf7ba",
   "metadata": {
    "execution": {
     "iopub.execute_input": "2025-08-05T16:11:44.231832Z",
     "iopub.status.busy": "2025-08-05T16:11:44.231084Z",
     "iopub.status.idle": "2025-08-05T16:11:44.255634Z",
     "shell.execute_reply": "2025-08-05T16:11:44.254673Z"
    },
    "papermill": {
     "duration": 0.040861,
     "end_time": "2025-08-05T16:11:44.257578",
     "exception": false,
     "start_time": "2025-08-05T16:11:44.216717",
     "status": "completed"
    },
    "tags": []
   },
   "outputs": [],
   "source": [
    "def filter_sub_universe_data(sub_universe, org_test):\n",
    "    # Keep all rows — no filtering\n",
    "    keep_rows_mask = np.ones(org_test.shape[0], dtype=bool)\n",
    "\n",
    "    print(f\"[INFO] Keeping all rows: {keep_rows_mask.sum()} rows retained.\")\n",
    "    return keep_rows_mask"
   ]
  },
  {
   "cell_type": "code",
   "execution_count": 66,
   "id": "4a759155",
   "metadata": {
    "execution": {
     "iopub.execute_input": "2025-08-05T16:11:44.287726Z",
     "iopub.status.busy": "2025-08-05T16:11:44.287184Z",
     "iopub.status.idle": "2025-08-05T16:11:52.065702Z",
     "shell.execute_reply": "2025-08-05T16:11:52.064708Z"
    },
    "papermill": {
     "duration": 7.794445,
     "end_time": "2025-08-05T16:11:52.067087",
     "exception": false,
     "start_time": "2025-08-05T16:11:44.272642",
     "status": "completed"
    },
    "tags": []
   },
   "outputs": [
    {
     "name": "stdout",
     "output_type": "stream",
     "text": [
      "Stopping execution_time clock.\n",
      "[INFO] Keeping all rows: 89710 rows retained.\n"
     ]
    },
    {
     "name": "stdout",
     "output_type": "stream",
     "text": [
      "[INFO] Keeping all rows: 89710 rows retained.\n"
     ]
    },
    {
     "name": "stdout",
     "output_type": "stream",
     "text": [
      "[INFO] Keeping all rows: 89710 rows retained.\n"
     ]
    },
    {
     "name": "stdout",
     "output_type": "stream",
     "text": [
      "[INFO] Keeping all rows: 89710 rows retained.\n"
     ]
    },
    {
     "data": {
      "text/html": [
       "<div>\n",
       "<style scoped>\n",
       "    .dataframe tbody tr th:only-of-type {\n",
       "        vertical-align: middle;\n",
       "    }\n",
       "\n",
       "    .dataframe tbody tr th {\n",
       "        vertical-align: top;\n",
       "    }\n",
       "\n",
       "    .dataframe thead th {\n",
       "        text-align: right;\n",
       "    }\n",
       "</style>\n",
       "<table border=\"1\" class=\"dataframe\">\n",
       "  <thead>\n",
       "    <tr style=\"text-align: right;\">\n",
       "      <th></th>\n",
       "      <th>run_no</th>\n",
       "      <th>universe_id</th>\n",
       "      <th>universe_settings</th>\n",
       "      <th>execution_time</th>\n",
       "      <th>test_size_n</th>\n",
       "      <th>test_size_frac</th>\n",
       "      <th>fair_main_equalized_odds_difference</th>\n",
       "      <th>fair_main_equalized_odds_ratio</th>\n",
       "      <th>fair_main_demographic_parity_difference</th>\n",
       "      <th>fair_main_demographic_parity_ratio</th>\n",
       "      <th>...</th>\n",
       "      <th>perf_grp_precision_0</th>\n",
       "      <th>perf_grp_precision_1</th>\n",
       "      <th>perf_grp_false positive rate_0</th>\n",
       "      <th>perf_grp_false positive rate_1</th>\n",
       "      <th>perf_grp_false negative rate_0</th>\n",
       "      <th>perf_grp_false negative rate_1</th>\n",
       "      <th>perf_grp_selection rate_0</th>\n",
       "      <th>perf_grp_selection rate_1</th>\n",
       "      <th>perf_grp_count_0</th>\n",
       "      <th>perf_grp_count_1</th>\n",
       "    </tr>\n",
       "  </thead>\n",
       "  <tbody>\n",
       "    <tr>\n",
       "      <th>0</th>\n",
       "      <td>15</td>\n",
       "      <td>3bc524dae14e5b9bf8e4201bdee63caa</td>\n",
       "      <td>{\"cutoff\": \"quantile_0.1\", \"eval_fairness_grou...</td>\n",
       "      <td>30.695067</td>\n",
       "      <td>89710</td>\n",
       "      <td>1.0</td>\n",
       "      <td>0.013804</td>\n",
       "      <td>0.986017</td>\n",
       "      <td>0.000479</td>\n",
       "      <td>0.999484</td>\n",
       "      <td>...</td>\n",
       "      <td>NaN</td>\n",
       "      <td>NaN</td>\n",
       "      <td>NaN</td>\n",
       "      <td>NaN</td>\n",
       "      <td>NaN</td>\n",
       "      <td>NaN</td>\n",
       "      <td>NaN</td>\n",
       "      <td>NaN</td>\n",
       "      <td>NaN</td>\n",
       "      <td>NaN</td>\n",
       "    </tr>\n",
       "    <tr>\n",
       "      <th>0</th>\n",
       "      <td>15</td>\n",
       "      <td>3bc524dae14e5b9bf8e4201bdee63caa</td>\n",
       "      <td>{\"cutoff\": \"quantile_0.1\", \"eval_fairness_grou...</td>\n",
       "      <td>30.695067</td>\n",
       "      <td>89710</td>\n",
       "      <td>1.0</td>\n",
       "      <td>0.013804</td>\n",
       "      <td>0.986017</td>\n",
       "      <td>0.000479</td>\n",
       "      <td>0.999484</td>\n",
       "      <td>...</td>\n",
       "      <td>0.121035</td>\n",
       "      <td>0.140767</td>\n",
       "      <td>0.921142</td>\n",
       "      <td>0.917475</td>\n",
       "      <td>0.026605</td>\n",
       "      <td>0.012801</td>\n",
       "      <td>0.927167</td>\n",
       "      <td>0.926688</td>\n",
       "      <td>20540.0</td>\n",
       "      <td>69170.0</td>\n",
       "    </tr>\n",
       "    <tr>\n",
       "      <th>0</th>\n",
       "      <td>15</td>\n",
       "      <td>3bc524dae14e5b9bf8e4201bdee63caa</td>\n",
       "      <td>{\"cutoff\": \"quantile_0.25\", \"eval_fairness_gro...</td>\n",
       "      <td>30.695067</td>\n",
       "      <td>89710</td>\n",
       "      <td>1.0</td>\n",
       "      <td>0.057583</td>\n",
       "      <td>0.938809</td>\n",
       "      <td>0.004327</td>\n",
       "      <td>0.994347</td>\n",
       "      <td>...</td>\n",
       "      <td>NaN</td>\n",
       "      <td>NaN</td>\n",
       "      <td>NaN</td>\n",
       "      <td>NaN</td>\n",
       "      <td>NaN</td>\n",
       "      <td>NaN</td>\n",
       "      <td>NaN</td>\n",
       "      <td>NaN</td>\n",
       "      <td>NaN</td>\n",
       "      <td>NaN</td>\n",
       "    </tr>\n",
       "    <tr>\n",
       "      <th>0</th>\n",
       "      <td>15</td>\n",
       "      <td>3bc524dae14e5b9bf8e4201bdee63caa</td>\n",
       "      <td>{\"cutoff\": \"quantile_0.25\", \"eval_fairness_gro...</td>\n",
       "      <td>30.695067</td>\n",
       "      <td>89710</td>\n",
       "      <td>1.0</td>\n",
       "      <td>0.057583</td>\n",
       "      <td>0.938809</td>\n",
       "      <td>0.004327</td>\n",
       "      <td>0.994347</td>\n",
       "      <td>...</td>\n",
       "      <td>0.133811</td>\n",
       "      <td>0.162442</td>\n",
       "      <td>0.745212</td>\n",
       "      <td>0.738747</td>\n",
       "      <td>0.116554</td>\n",
       "      <td>0.058972</td>\n",
       "      <td>0.761149</td>\n",
       "      <td>0.765476</td>\n",
       "      <td>20540.0</td>\n",
       "      <td>69170.0</td>\n",
       "    </tr>\n",
       "  </tbody>\n",
       "</table>\n",
       "<p>4 rows × 50 columns</p>\n",
       "</div>"
      ],
      "text/plain": [
       "  run_no                       universe_id  \\\n",
       "0     15  3bc524dae14e5b9bf8e4201bdee63caa   \n",
       "0     15  3bc524dae14e5b9bf8e4201bdee63caa   \n",
       "0     15  3bc524dae14e5b9bf8e4201bdee63caa   \n",
       "0     15  3bc524dae14e5b9bf8e4201bdee63caa   \n",
       "\n",
       "                                   universe_settings  execution_time  \\\n",
       "0  {\"cutoff\": \"quantile_0.1\", \"eval_fairness_grou...       30.695067   \n",
       "0  {\"cutoff\": \"quantile_0.1\", \"eval_fairness_grou...       30.695067   \n",
       "0  {\"cutoff\": \"quantile_0.25\", \"eval_fairness_gro...       30.695067   \n",
       "0  {\"cutoff\": \"quantile_0.25\", \"eval_fairness_gro...       30.695067   \n",
       "\n",
       "   test_size_n  test_size_frac  fair_main_equalized_odds_difference  \\\n",
       "0        89710             1.0                             0.013804   \n",
       "0        89710             1.0                             0.013804   \n",
       "0        89710             1.0                             0.057583   \n",
       "0        89710             1.0                             0.057583   \n",
       "\n",
       "   fair_main_equalized_odds_ratio  fair_main_demographic_parity_difference  \\\n",
       "0                        0.986017                                 0.000479   \n",
       "0                        0.986017                                 0.000479   \n",
       "0                        0.938809                                 0.004327   \n",
       "0                        0.938809                                 0.004327   \n",
       "\n",
       "   fair_main_demographic_parity_ratio  ...  perf_grp_precision_0  \\\n",
       "0                            0.999484  ...                   NaN   \n",
       "0                            0.999484  ...              0.121035   \n",
       "0                            0.994347  ...                   NaN   \n",
       "0                            0.994347  ...              0.133811   \n",
       "\n",
       "   perf_grp_precision_1  perf_grp_false positive rate_0  \\\n",
       "0                   NaN                             NaN   \n",
       "0              0.140767                        0.921142   \n",
       "0                   NaN                             NaN   \n",
       "0              0.162442                        0.745212   \n",
       "\n",
       "   perf_grp_false positive rate_1  perf_grp_false negative rate_0  \\\n",
       "0                             NaN                             NaN   \n",
       "0                        0.917475                        0.026605   \n",
       "0                             NaN                             NaN   \n",
       "0                        0.738747                        0.116554   \n",
       "\n",
       "   perf_grp_false negative rate_1  perf_grp_selection rate_0  \\\n",
       "0                             NaN                        NaN   \n",
       "0                        0.012801                   0.927167   \n",
       "0                             NaN                        NaN   \n",
       "0                        0.058972                   0.761149   \n",
       "\n",
       "   perf_grp_selection rate_1  perf_grp_count_0  perf_grp_count_1  \n",
       "0                        NaN               NaN               NaN  \n",
       "0                   0.926688           20540.0           69170.0  \n",
       "0                        NaN               NaN               NaN  \n",
       "0                   0.765476           20540.0           69170.0  \n",
       "\n",
       "[4 rows x 50 columns]"
      ]
     },
     "execution_count": 66,
     "metadata": {},
     "output_type": "execute_result"
    }
   ],
   "source": [
    "final_output = universe_analysis.generate_final_output(\n",
    "    y_pred_prob=probs_test,\n",
    "    y_test=y_true,\n",
    "    org_test=org_test,\n",
    "    filter_data=filter_sub_universe_data,\n",
    "    cp_metrics_df=cp_metrics_df,\n",
    "    save=True,\n",
    ")\n",
    "final_output"
   ]
  }
 ],
 "metadata": {
  "celltoolbar": "Tags",
  "kernelspec": {
   "display_name": "Python (CMA Fairness)",
   "language": "python",
   "name": "cma_fair_env"
  },
  "language_info": {
   "codemirror_mode": {
    "name": "ipython",
    "version": 3
   },
   "file_extension": ".py",
   "mimetype": "text/x-python",
   "name": "python",
   "nbconvert_exporter": "python",
   "pygments_lexer": "ipython3",
   "version": "3.10.12"
  },
  "papermill": {
   "default_parameters": {},
   "duration": 42.717625,
   "end_time": "2025-08-05T16:11:53.007426",
   "environment_variables": {},
   "exception": null,
   "input_path": "universe_analysis.ipynb",
   "output_path": "output/runs/15/notebooks/m_15-3bc524dae14e5b9bf8e4201bdee63caa.ipynb",
   "parameters": {
    "output_dir": "output",
    "run_no": "15",
    "seed": "2023",
    "universe": "{\"cutoff\": [\"quantile_0.1\", \"quantile_0.25\"], \"eval_fairness_grouping\": [\"majority-minority\", \"nationality-all\"], \"exclude_features\": \"nationality\", \"exclude_subgroups\": \"drop-non-german\", \"model\": \"rf\", \"scale\": \"do-not-scale\", \"training_size\": \"1k\", \"training_year\": \"2014\"}",
    "universe_id": "3bc524dae14e5b9bf8e4201bdee63caa"
   },
   "start_time": "2025-08-05T16:11:10.289801",
   "version": "2.6.0"
  }
 },
 "nbformat": 4,
 "nbformat_minor": 5
}