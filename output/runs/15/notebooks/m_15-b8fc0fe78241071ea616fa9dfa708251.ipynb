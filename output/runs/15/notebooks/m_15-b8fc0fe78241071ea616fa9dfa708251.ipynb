{
 "cells": [
  {
   "cell_type": "code",
   "execution_count": 1,
   "id": "f159f837-637b-42ba-96b5-ec9a68c44524",
   "metadata": {
    "execution": {
     "iopub.execute_input": "2025-08-05T14:49:34.268509Z",
     "iopub.status.busy": "2025-08-05T14:49:34.267542Z",
     "iopub.status.idle": "2025-08-05T14:49:34.282079Z",
     "shell.execute_reply": "2025-08-05T14:49:34.280931Z"
    },
    "papermill": {
     "duration": 0.037191,
     "end_time": "2025-08-05T14:49:34.283816",
     "exception": false,
     "start_time": "2025-08-05T14:49:34.246625",
     "status": "completed"
    },
    "tags": []
   },
   "outputs": [
    {
     "name": "stdout",
     "output_type": "stream",
     "text": [
      "/dss/dsshome1/0C/ra93lal2/cma/CMA_Fairness_v2\n"
     ]
    },
    {
     "name": "stderr",
     "output_type": "stream",
     "text": [
      "/dss/dsshome1/0C/ra93lal2/.local/share/virtualenvs/CMA_Fairness_v2-3j10GkSs/lib/python3.10/site-packages/IPython/core/magics/osm.py:393: UserWarning: This is now an optional IPython functionality, using bookmarks requires you to install the `pickleshare` library.\n",
      "  bkms = self.shell.db.get('bookmarks', {})\n",
      "/dss/dsshome1/0C/ra93lal2/.local/share/virtualenvs/CMA_Fairness_v2-3j10GkSs/lib/python3.10/site-packages/IPython/core/magics/osm.py:417: UserWarning: This is now an optional IPython functionality, setting dhist requires you to install the `pickleshare` library.\n",
      "  self.shell.db['dhist'] = compress_dhist(dhist)[-100:]\n"
     ]
    }
   ],
   "source": [
    "%cd ~/cma/CMA_Fairness_v2"
   ]
  },
  {
   "cell_type": "markdown",
   "id": "de2603b9",
   "metadata": {
    "papermill": {
     "duration": 0.01838,
     "end_time": "2025-08-05T14:49:34.320510",
     "exception": false,
     "start_time": "2025-08-05T14:49:34.302130",
     "status": "completed"
    },
    "tags": []
   },
   "source": [
    "The following cell holds the definition of our parameters, these values can be overriden by rendering the with e.g. the following command:\n",
    "\n",
    "papermill -p alpha 0.2 -p ratio 0.3 universe_analysis.ipynb output/test_run.ipynb"
   ]
  },
  {
   "cell_type": "code",
   "execution_count": 2,
   "id": "a80968a0-40bb-4fa9-85ef-2d5eefb01975",
   "metadata": {
    "execution": {
     "iopub.execute_input": "2025-08-05T14:49:34.358095Z",
     "iopub.status.busy": "2025-08-05T14:49:34.357282Z",
     "iopub.status.idle": "2025-08-05T14:49:34.363559Z",
     "shell.execute_reply": "2025-08-05T14:49:34.362481Z"
    },
    "papermill": {
     "duration": 0.026661,
     "end_time": "2025-08-05T14:49:34.365460",
     "exception": false,
     "start_time": "2025-08-05T14:49:34.338799",
     "status": "completed"
    },
    "tags": []
   },
   "outputs": [
    {
     "name": "stdout",
     "output_type": "stream",
     "text": [
      "Current working directory: /dss/dsshome1/0C/ra93lal2/cma/CMA_Fairness_v2\n"
     ]
    }
   ],
   "source": [
    "import os\n",
    "print(\"Current working directory:\", os.getcwd())"
   ]
  },
  {
   "cell_type": "code",
   "execution_count": 3,
   "id": "2dce4c03",
   "metadata": {
    "execution": {
     "iopub.execute_input": "2025-08-05T14:49:34.405596Z",
     "iopub.status.busy": "2025-08-05T14:49:34.404881Z",
     "iopub.status.idle": "2025-08-05T14:49:34.410243Z",
     "shell.execute_reply": "2025-08-05T14:49:34.409544Z"
    },
    "papermill": {
     "duration": 0.026319,
     "end_time": "2025-08-05T14:49:34.411677",
     "exception": false,
     "start_time": "2025-08-05T14:49:34.385358",
     "status": "completed"
    },
    "tags": [
     "parameters"
    ]
   },
   "outputs": [],
   "source": [
    "run_no = 0\n",
    "universe_id = \"test\"\n",
    "universe = {\n",
    "    \"training_size\": \"25k\", # \"25k\", \"5k\", \"1k\"\n",
    "    \"training_year\": \"2014\", # \"2014\", \"2012_14\", \"2010_14\"\n",
    "    \"scale\": \"scale\", # \"scale\", \"do-not-scale\",\n",
    "    \"model\": \"elasticnet\", # \"logreg\", \"penalized_logreg\", \"rf\", \"gbm\", \"elasticnet\"\n",
    "    \"cutoff\": [\"quantile_0.15\", \"quantile_0.30\"],\n",
    "    \"exclude_features\": \"age\", # \"none\", \"nationality\", \"sex\", \"nationality-sex\", \"age\"\n",
    "    \"exclude_subgroups\": \"keep-all\", # \"keep-all\", \"drop-non-german\"\n",
    "    \"eval_fairness_grouping\": [\"majority-minority\", \"nationality-all\"]\n",
    "}\n",
    "\n",
    "output_dir=\"./output\"\n",
    "seed=0"
   ]
  },
  {
   "cell_type": "code",
   "execution_count": 4,
   "id": "f45d9c55",
   "metadata": {
    "execution": {
     "iopub.execute_input": "2025-08-05T14:49:34.430677Z",
     "iopub.status.busy": "2025-08-05T14:49:34.430117Z",
     "iopub.status.idle": "2025-08-05T14:49:34.434404Z",
     "shell.execute_reply": "2025-08-05T14:49:34.433638Z"
    },
    "papermill": {
     "duration": 0.0148,
     "end_time": "2025-08-05T14:49:34.435794",
     "exception": false,
     "start_time": "2025-08-05T14:49:34.420994",
     "status": "completed"
    },
    "tags": [
     "injected-parameters"
    ]
   },
   "outputs": [],
   "source": [
    "# Parameters\n",
    "universe_id = \"b8fc0fe78241071ea616fa9dfa708251\"\n",
    "run_no = \"15\"\n",
    "universe = \"{\\\"cutoff\\\": [\\\"quantile_0.1\\\", \\\"quantile_0.25\\\"], \\\"eval_fairness_grouping\\\": [\\\"majority-minority\\\", \\\"nationality-all\\\"], \\\"exclude_features\\\": \\\"sex\\\", \\\"exclude_subgroups\\\": \\\"keep-all\\\", \\\"model\\\": \\\"penalized_logreg\\\", \\\"scale\\\": \\\"scale\\\", \\\"training_size\\\": \\\"25k\\\", \\\"training_year\\\": \\\"2012_14\\\"}\"\n",
    "output_dir = \"output\"\n",
    "seed = \"2023\"\n"
   ]
  },
  {
   "cell_type": "code",
   "execution_count": 5,
   "id": "1650acaf",
   "metadata": {
    "execution": {
     "iopub.execute_input": "2025-08-05T14:49:34.454505Z",
     "iopub.status.busy": "2025-08-05T14:49:34.454040Z",
     "iopub.status.idle": "2025-08-05T14:49:34.458162Z",
     "shell.execute_reply": "2025-08-05T14:49:34.457401Z"
    },
    "papermill": {
     "duration": 0.014546,
     "end_time": "2025-08-05T14:49:34.459537",
     "exception": false,
     "start_time": "2025-08-05T14:49:34.444991",
     "status": "completed"
    },
    "tags": []
   },
   "outputs": [],
   "source": [
    "import json\n",
    "if isinstance(universe, str):\n",
    "    universe = json.loads(universe)"
   ]
  },
  {
   "cell_type": "code",
   "execution_count": 6,
   "id": "16620c48",
   "metadata": {
    "execution": {
     "iopub.execute_input": "2025-08-05T14:49:34.478235Z",
     "iopub.status.busy": "2025-08-05T14:49:34.477736Z",
     "iopub.status.idle": "2025-08-05T14:49:34.505243Z",
     "shell.execute_reply": "2025-08-05T14:49:34.504616Z"
    },
    "papermill": {
     "duration": 0.037776,
     "end_time": "2025-08-05T14:49:34.506477",
     "exception": false,
     "start_time": "2025-08-05T14:49:34.468701",
     "status": "completed"
    },
    "tags": []
   },
   "outputs": [],
   "source": [
    "# Auto-reload the custom package\n",
    "%load_ext autoreload\n",
    "%autoreload 1\n",
    "%aimport fairness_multiverse"
   ]
  },
  {
   "cell_type": "code",
   "execution_count": 7,
   "id": "01c5c9f3",
   "metadata": {
    "execution": {
     "iopub.execute_input": "2025-08-05T14:49:34.524485Z",
     "iopub.status.busy": "2025-08-05T14:49:34.523903Z",
     "iopub.status.idle": "2025-08-05T14:49:36.293401Z",
     "shell.execute_reply": "2025-08-05T14:49:36.292147Z"
    },
    "papermill": {
     "duration": 1.780476,
     "end_time": "2025-08-05T14:49:36.295451",
     "exception": false,
     "start_time": "2025-08-05T14:49:34.514975",
     "status": "completed"
    },
    "tags": []
   },
   "outputs": [],
   "source": [
    "from fairness_multiverse.universe import UniverseAnalysis\n",
    "\n",
    "universe_analysis = UniverseAnalysis(\n",
    "    run_no = run_no,\n",
    "    universe_id = universe_id,\n",
    "    universe = universe,\n",
    "    output_dir=output_dir,\n",
    ")"
   ]
  },
  {
   "cell_type": "code",
   "execution_count": 8,
   "id": "106241f5",
   "metadata": {
    "execution": {
     "iopub.execute_input": "2025-08-05T14:49:36.334028Z",
     "iopub.status.busy": "2025-08-05T14:49:36.333470Z",
     "iopub.status.idle": "2025-08-05T14:49:36.341547Z",
     "shell.execute_reply": "2025-08-05T14:49:36.340354Z"
    },
    "papermill": {
     "duration": 0.029474,
     "end_time": "2025-08-05T14:49:36.343361",
     "exception": false,
     "start_time": "2025-08-05T14:49:36.313887",
     "status": "completed"
    },
    "tags": []
   },
   "outputs": [
    {
     "name": "stdout",
     "output_type": "stream",
     "text": [
      "Using Seed: 2023\n"
     ]
    }
   ],
   "source": [
    "import numpy as np\n",
    "parsed_seed = int(seed)\n",
    "np.random.seed(parsed_seed)\n",
    "print(f\"Using Seed: {parsed_seed}\")"
   ]
  },
  {
   "cell_type": "markdown",
   "id": "e0ebdc57",
   "metadata": {
    "papermill": {
     "duration": 0.015075,
     "end_time": "2025-08-05T14:49:36.377555",
     "exception": false,
     "start_time": "2025-08-05T14:49:36.362480",
     "status": "completed"
    },
    "tags": []
   },
   "source": [
    "# Loading Data"
   ]
  },
  {
   "cell_type": "code",
   "execution_count": 9,
   "id": "f0496b8a",
   "metadata": {
    "execution": {
     "iopub.execute_input": "2025-08-05T14:49:36.410617Z",
     "iopub.status.busy": "2025-08-05T14:49:36.409715Z",
     "iopub.status.idle": "2025-08-05T14:49:49.552846Z",
     "shell.execute_reply": "2025-08-05T14:49:49.551531Z"
    },
    "papermill": {
     "duration": 13.161604,
     "end_time": "2025-08-05T14:49:49.554704",
     "exception": false,
     "start_time": "2025-08-05T14:49:36.393100",
     "status": "completed"
    },
    "tags": []
   },
   "outputs": [
    {
     "name": "stdout",
     "output_type": "stream",
     "text": [
      "Loading SIAB data from cache: data/siab_cached.csv.gz\n"
     ]
    },
    {
     "name": "stdout",
     "output_type": "stream",
     "text": [
      "(643690, 164)\n"
     ]
    }
   ],
   "source": [
    "from pathlib import Path\n",
    "import pandas as pd\n",
    "\n",
    "# File paths\n",
    "raw_file = Path(\"data/raw/siab.csv\")\n",
    "cache_file = Path(\"data/siab_cached.csv.gz\")\n",
    "\n",
    "# Ensure cache directory exists\n",
    "cache_file.parent.mkdir(parents=True, exist_ok=True)\n",
    "\n",
    "# Load with simple caching\n",
    "if cache_file.exists():\n",
    "    print(f\"Loading SIAB data from cache: {cache_file}\")\n",
    "    siab = pd.read_csv(cache_file, compression='gzip')\n",
    "else:\n",
    "    print(f\"Cache not found. Reading raw SIAB data: {raw_file}\")\n",
    "    siab = pd.read_csv(raw_file)\n",
    "    siab.to_csv(cache_file, index=False, compression='gzip')\n",
    "    print(f\"Cached SIAB data to: {cache_file}\")\n",
    "\n",
    "print(siab.shape)"
   ]
  },
  {
   "cell_type": "code",
   "execution_count": 10,
   "id": "db0ca512-5f53-4dba-abdb-a2888bca41ba",
   "metadata": {
    "execution": {
     "iopub.execute_input": "2025-08-05T14:49:49.593219Z",
     "iopub.status.busy": "2025-08-05T14:49:49.592709Z",
     "iopub.status.idle": "2025-08-05T14:49:49.598706Z",
     "shell.execute_reply": "2025-08-05T14:49:49.597385Z"
    },
    "papermill": {
     "duration": 0.024879,
     "end_time": "2025-08-05T14:49:49.600620",
     "exception": false,
     "start_time": "2025-08-05T14:49:49.575741",
     "status": "completed"
    },
    "tags": []
   },
   "outputs": [],
   "source": [
    "#siab"
   ]
  },
  {
   "cell_type": "markdown",
   "id": "997051c5-15bd-4b69-9786-c3001a3ce484",
   "metadata": {
    "papermill": {
     "duration": 0.014447,
     "end_time": "2025-08-05T14:49:49.633956",
     "exception": false,
     "start_time": "2025-08-05T14:49:49.619509",
     "status": "completed"
    },
    "tags": []
   },
   "source": [
    "# Splitting Data and Setting Training Data Size"
   ]
  },
  {
   "cell_type": "code",
   "execution_count": 11,
   "id": "aea9c6ef-6f46-42c8-85eb-5a62025c1508",
   "metadata": {
    "execution": {
     "iopub.execute_input": "2025-08-05T14:49:49.676257Z",
     "iopub.status.busy": "2025-08-05T14:49:49.675741Z",
     "iopub.status.idle": "2025-08-05T14:49:50.359476Z",
     "shell.execute_reply": "2025-08-05T14:49:50.358499Z"
    },
    "papermill": {
     "duration": 0.707589,
     "end_time": "2025-08-05T14:49:50.361580",
     "exception": false,
     "start_time": "2025-08-05T14:49:49.653991",
     "status": "completed"
    },
    "tags": []
   },
   "outputs": [],
   "source": [
    "from fairness_multiverse.universe import sample_by_year_size\n",
    "\n",
    "siab_train = sample_by_year_size(siab,\n",
    "                               training_year=universe[\"training_year\"],\n",
    "                               training_size=universe[\"training_size\"])"
   ]
  },
  {
   "cell_type": "code",
   "execution_count": 12,
   "id": "8d3afb32-789d-442c-8d5d-9f5aa8dd2eed",
   "metadata": {
    "execution": {
     "iopub.execute_input": "2025-08-05T14:49:50.403742Z",
     "iopub.status.busy": "2025-08-05T14:49:50.403032Z",
     "iopub.status.idle": "2025-08-05T14:49:50.408998Z",
     "shell.execute_reply": "2025-08-05T14:49:50.407892Z"
    },
    "papermill": {
     "duration": 0.030115,
     "end_time": "2025-08-05T14:49:50.411100",
     "exception": false,
     "start_time": "2025-08-05T14:49:50.380985",
     "status": "completed"
    },
    "tags": []
   },
   "outputs": [],
   "source": [
    "#siab_train.shape"
   ]
  },
  {
   "cell_type": "code",
   "execution_count": 13,
   "id": "d582db68-1a4c-47fb-84fc-08518dc1975a",
   "metadata": {
    "execution": {
     "iopub.execute_input": "2025-08-05T14:49:50.452759Z",
     "iopub.status.busy": "2025-08-05T14:49:50.451781Z",
     "iopub.status.idle": "2025-08-05T14:49:50.457990Z",
     "shell.execute_reply": "2025-08-05T14:49:50.456833Z"
    },
    "papermill": {
     "duration": 0.037155,
     "end_time": "2025-08-05T14:49:50.468523",
     "exception": false,
     "start_time": "2025-08-05T14:49:50.431368",
     "status": "completed"
    },
    "tags": []
   },
   "outputs": [],
   "source": [
    "#display(siab_train.groupby(\"year\").size())"
   ]
  },
  {
   "cell_type": "code",
   "execution_count": 14,
   "id": "a561edb4-d032-42cb-8256-22eac1111c64",
   "metadata": {
    "execution": {
     "iopub.execute_input": "2025-08-05T14:49:50.507518Z",
     "iopub.status.busy": "2025-08-05T14:49:50.507102Z",
     "iopub.status.idle": "2025-08-05T14:49:50.774739Z",
     "shell.execute_reply": "2025-08-05T14:49:50.773588Z"
    },
    "papermill": {
     "duration": 0.289081,
     "end_time": "2025-08-05T14:49:50.776843",
     "exception": false,
     "start_time": "2025-08-05T14:49:50.487762",
     "status": "completed"
    },
    "tags": []
   },
   "outputs": [],
   "source": [
    "#siab_train = siab_s[siab_s.year < 2015]\n",
    "siab_calib = siab[siab.year == 2015]\n",
    "siab_test = siab[siab.year == 2016]"
   ]
  },
  {
   "cell_type": "code",
   "execution_count": 15,
   "id": "472de16f-c3db-4916-846b-1f0de9cf1746",
   "metadata": {
    "execution": {
     "iopub.execute_input": "2025-08-05T14:49:50.817956Z",
     "iopub.status.busy": "2025-08-05T14:49:50.817192Z",
     "iopub.status.idle": "2025-08-05T14:49:50.832188Z",
     "shell.execute_reply": "2025-08-05T14:49:50.830922Z"
    },
    "papermill": {
     "duration": 0.037235,
     "end_time": "2025-08-05T14:49:50.834476",
     "exception": false,
     "start_time": "2025-08-05T14:49:50.797241",
     "status": "completed"
    },
    "tags": []
   },
   "outputs": [],
   "source": [
    "X_train = siab_train.iloc[:,4:164]\n",
    "y_train = siab_train.iloc[:, [3]]"
   ]
  },
  {
   "cell_type": "code",
   "execution_count": 16,
   "id": "828c96af-f43a-4ed6-ba47-8ac73a47d56c",
   "metadata": {
    "execution": {
     "iopub.execute_input": "2025-08-05T14:49:50.875677Z",
     "iopub.status.busy": "2025-08-05T14:49:50.875022Z",
     "iopub.status.idle": "2025-08-05T14:49:50.933154Z",
     "shell.execute_reply": "2025-08-05T14:49:50.931950Z"
    },
    "papermill": {
     "duration": 0.080498,
     "end_time": "2025-08-05T14:49:50.935352",
     "exception": false,
     "start_time": "2025-08-05T14:49:50.854854",
     "status": "completed"
    },
    "tags": []
   },
   "outputs": [],
   "source": [
    "X_calib = siab_calib.iloc[:,4:164]\n",
    "y_calib = siab_calib.iloc[:, [3]]"
   ]
  },
  {
   "cell_type": "code",
   "execution_count": 17,
   "id": "c34be9c3-6bd6-476e-acd3-845840e303be",
   "metadata": {
    "execution": {
     "iopub.execute_input": "2025-08-05T14:49:50.978879Z",
     "iopub.status.busy": "2025-08-05T14:49:50.978076Z",
     "iopub.status.idle": "2025-08-05T14:49:51.035490Z",
     "shell.execute_reply": "2025-08-05T14:49:51.034353Z"
    },
    "papermill": {
     "duration": 0.08095,
     "end_time": "2025-08-05T14:49:51.037324",
     "exception": false,
     "start_time": "2025-08-05T14:49:50.956374",
     "status": "completed"
    },
    "tags": []
   },
   "outputs": [],
   "source": [
    "X_test = siab_test.iloc[:,4:164]\n",
    "y_true = siab_test.iloc[:, [3]]"
   ]
  },
  {
   "cell_type": "code",
   "execution_count": 18,
   "id": "e6c733c5",
   "metadata": {
    "execution": {
     "iopub.execute_input": "2025-08-05T14:49:51.081776Z",
     "iopub.status.busy": "2025-08-05T14:49:51.081320Z",
     "iopub.status.idle": "2025-08-05T14:49:51.186164Z",
     "shell.execute_reply": "2025-08-05T14:49:51.184989Z"
    },
    "papermill": {
     "duration": 0.128467,
     "end_time": "2025-08-05T14:49:51.188296",
     "exception": false,
     "start_time": "2025-08-05T14:49:51.059829",
     "status": "completed"
    },
    "tags": []
   },
   "outputs": [],
   "source": [
    "# Auxiliary data needed downstream in the pipeline\n",
    "\n",
    "org_train = X_train.copy()\n",
    "org_test = X_test.copy()\n",
    "org_calib = X_calib.copy()"
   ]
  },
  {
   "cell_type": "markdown",
   "id": "0a4a1b33",
   "metadata": {
    "papermill": {
     "duration": 0.024206,
     "end_time": "2025-08-05T14:49:51.236152",
     "exception": false,
     "start_time": "2025-08-05T14:49:51.211946",
     "status": "completed"
    },
    "tags": []
   },
   "source": [
    "# Preprocessing Data"
   ]
  },
  {
   "cell_type": "code",
   "execution_count": 19,
   "id": "ca879031",
   "metadata": {
    "execution": {
     "iopub.execute_input": "2025-08-05T14:49:51.287353Z",
     "iopub.status.busy": "2025-08-05T14:49:51.286410Z",
     "iopub.status.idle": "2025-08-05T14:49:51.294272Z",
     "shell.execute_reply": "2025-08-05T14:49:51.292674Z"
    },
    "papermill": {
     "duration": 0.035922,
     "end_time": "2025-08-05T14:49:51.296795",
     "exception": false,
     "start_time": "2025-08-05T14:49:51.260873",
     "status": "completed"
    },
    "tags": []
   },
   "outputs": [],
   "source": [
    "# EXCLUDE PROTECTED FEATURES\n",
    "# ----------------------\n",
    "# \"exclude_features\": \"none\", # \"nationality\", \"sex\", \"nationality-sex\"\n",
    "\n",
    "excluded_features = universe[\"exclude_features\"].split(\"-\") # split, e.g.: \"nationality-sex\" -> [\"nationality\", \"sex\"]\n",
    "excluded_features_dictionary = {\n",
    "    \"nationality\": [\"maxdeutsch1\", \"maxdeutsch.Missing.\"],\n",
    "    \"sex\": [\"frau1\"],\n",
    "    \"age\": [\"age\"],\n",
    "}"
   ]
  },
  {
   "cell_type": "code",
   "execution_count": 20,
   "id": "b745ac60",
   "metadata": {
    "execution": {
     "iopub.execute_input": "2025-08-05T14:49:51.348181Z",
     "iopub.status.busy": "2025-08-05T14:49:51.347603Z",
     "iopub.status.idle": "2025-08-05T14:49:51.354098Z",
     "shell.execute_reply": "2025-08-05T14:49:51.352943Z"
    },
    "papermill": {
     "duration": 0.034305,
     "end_time": "2025-08-05T14:49:51.356210",
     "exception": false,
     "start_time": "2025-08-05T14:49:51.321905",
     "status": "completed"
    },
    "tags": []
   },
   "outputs": [],
   "source": [
    "# Code nice names to column names\n",
    "\n",
    "excluded_features_columns = [\n",
    "    excluded_features_dictionary[f] for f in excluded_features if len(f) > 0 and f != \"none\"\n",
    "]"
   ]
  },
  {
   "cell_type": "code",
   "execution_count": 21,
   "id": "f84f73a2",
   "metadata": {
    "execution": {
     "iopub.execute_input": "2025-08-05T14:49:51.408308Z",
     "iopub.status.busy": "2025-08-05T14:49:51.407177Z",
     "iopub.status.idle": "2025-08-05T14:49:51.414560Z",
     "shell.execute_reply": "2025-08-05T14:49:51.413322Z"
    },
    "papermill": {
     "duration": 0.035189,
     "end_time": "2025-08-05T14:49:51.416534",
     "exception": false,
     "start_time": "2025-08-05T14:49:51.381345",
     "status": "completed"
    },
    "tags": []
   },
   "outputs": [],
   "source": [
    "from utils import flatten_once\n",
    "\n",
    "excluded_features_columns = flatten_once(excluded_features_columns)"
   ]
  },
  {
   "cell_type": "code",
   "execution_count": 22,
   "id": "884dea22",
   "metadata": {
    "execution": {
     "iopub.execute_input": "2025-08-05T14:49:51.459121Z",
     "iopub.status.busy": "2025-08-05T14:49:51.458185Z",
     "iopub.status.idle": "2025-08-05T14:49:51.474837Z",
     "shell.execute_reply": "2025-08-05T14:49:51.473438Z"
    },
    "papermill": {
     "duration": 0.040209,
     "end_time": "2025-08-05T14:49:51.477230",
     "exception": false,
     "start_time": "2025-08-05T14:49:51.437021",
     "status": "completed"
    },
    "tags": []
   },
   "outputs": [
    {
     "name": "stdout",
     "output_type": "stream",
     "text": [
      "Dropping features: ['frau1']\n"
     ]
    }
   ],
   "source": [
    "if len(excluded_features_columns) > 0:\n",
    "    print(f\"Dropping features: {excluded_features_columns}\")\n",
    "    X_train.drop(excluded_features_columns, axis=1, inplace=True)"
   ]
  },
  {
   "cell_type": "code",
   "execution_count": 23,
   "id": "95ab8b16",
   "metadata": {
    "execution": {
     "iopub.execute_input": "2025-08-05T14:49:51.529250Z",
     "iopub.status.busy": "2025-08-05T14:49:51.528110Z",
     "iopub.status.idle": "2025-08-05T14:49:51.584717Z",
     "shell.execute_reply": "2025-08-05T14:49:51.583517Z"
    },
    "papermill": {
     "duration": 0.084549,
     "end_time": "2025-08-05T14:49:51.587102",
     "exception": false,
     "start_time": "2025-08-05T14:49:51.502553",
     "status": "completed"
    },
    "tags": []
   },
   "outputs": [
    {
     "name": "stdout",
     "output_type": "stream",
     "text": [
      "Dropping features: ['frau1']\n"
     ]
    }
   ],
   "source": [
    "if len(excluded_features_columns) > 0:\n",
    "    print(f\"Dropping features: {excluded_features_columns}\")\n",
    "    X_test.drop(excluded_features_columns, axis=1, inplace=True)"
   ]
  },
  {
   "cell_type": "code",
   "execution_count": 24,
   "id": "1853aaf5-fb9f-46cb-a2b5-8ea4ae2237e4",
   "metadata": {
    "execution": {
     "iopub.execute_input": "2025-08-05T14:49:51.639888Z",
     "iopub.status.busy": "2025-08-05T14:49:51.638735Z",
     "iopub.status.idle": "2025-08-05T14:49:51.708930Z",
     "shell.execute_reply": "2025-08-05T14:49:51.707557Z"
    },
    "papermill": {
     "duration": 0.098613,
     "end_time": "2025-08-05T14:49:51.711426",
     "exception": false,
     "start_time": "2025-08-05T14:49:51.612813",
     "status": "completed"
    },
    "tags": []
   },
   "outputs": [
    {
     "name": "stdout",
     "output_type": "stream",
     "text": [
      "Dropping features: ['frau1']\n"
     ]
    }
   ],
   "source": [
    "if len(excluded_features_columns) > 0:\n",
    "    print(f\"Dropping features: {excluded_features_columns}\")\n",
    "    X_calib.drop(excluded_features_columns, axis=1, inplace=True)"
   ]
  },
  {
   "cell_type": "code",
   "execution_count": 25,
   "id": "76c4dc6d",
   "metadata": {
    "execution": {
     "iopub.execute_input": "2025-08-05T14:49:51.764310Z",
     "iopub.status.busy": "2025-08-05T14:49:51.763338Z",
     "iopub.status.idle": "2025-08-05T14:49:51.769984Z",
     "shell.execute_reply": "2025-08-05T14:49:51.768737Z"
    },
    "papermill": {
     "duration": 0.035181,
     "end_time": "2025-08-05T14:49:51.772098",
     "exception": false,
     "start_time": "2025-08-05T14:49:51.736917",
     "status": "completed"
    },
    "tags": []
   },
   "outputs": [],
   "source": [
    "# EXCLUDE CERTAIN SUBGROUPS\n",
    "# ----------------------\n",
    "\n",
    "mode = universe.get(\"exclude_subgroups\", \"keep-all\") \n",
    "# Fetches the exclude_subgroups setting from the universe dict.\n",
    "# Defaults to \"keep-all\" if the key is missing."
   ]
  },
  {
   "cell_type": "code",
   "execution_count": 26,
   "id": "21994072",
   "metadata": {
    "execution": {
     "iopub.execute_input": "2025-08-05T14:49:51.816852Z",
     "iopub.status.busy": "2025-08-05T14:49:51.815684Z",
     "iopub.status.idle": "2025-08-05T14:49:51.824135Z",
     "shell.execute_reply": "2025-08-05T14:49:51.823013Z"
    },
    "papermill": {
     "duration": 0.032842,
     "end_time": "2025-08-05T14:49:51.826173",
     "exception": false,
     "start_time": "2025-08-05T14:49:51.793331",
     "status": "completed"
    },
    "tags": []
   },
   "outputs": [],
   "source": [
    "if mode == \"keep-all\":\n",
    "    keep_mask = pd.Series(True, index=org_train.index)\n",
    "\n",
    "# org_train contains the original feature columns from features_org (in Simson)\n",
    "# features_org contains unprocessed features, for me X_train at beginning ???\n",
    "# For keep-all, creates a boolean Series (keep_mask) of all True, so no rows are removed.\n",
    "\n",
    "elif mode == \"drop-non-german\":\n",
    "    keep_mask = org_train[\"maxdeutsch1\"] == 1 # ??? what about missing values?\n",
    "\n",
    "else:\n",
    "    raise ValueError(f\"Unsupported mode for exclude_subgroups: {mode}\")"
   ]
  },
  {
   "cell_type": "code",
   "execution_count": 27,
   "id": "71651440",
   "metadata": {
    "execution": {
     "iopub.execute_input": "2025-08-05T14:49:51.870206Z",
     "iopub.status.busy": "2025-08-05T14:49:51.869721Z",
     "iopub.status.idle": "2025-08-05T14:49:51.876813Z",
     "shell.execute_reply": "2025-08-05T14:49:51.875767Z"
    },
    "papermill": {
     "duration": 0.03106,
     "end_time": "2025-08-05T14:49:51.878804",
     "exception": false,
     "start_time": "2025-08-05T14:49:51.847744",
     "status": "completed"
    },
    "tags": []
   },
   "outputs": [],
   "source": [
    "n_drop = (~keep_mask).sum() # Calculates how many rows are set to be dropped\n",
    "if n_drop > 0:\n",
    "    pct = n_drop / len(keep_mask) * 100\n",
    "    print(f\"Dropping {n_drop} rows ({pct:.2f}%) where mode='{mode}'\")"
   ]
  },
  {
   "cell_type": "code",
   "execution_count": 28,
   "id": "5fb8eee5",
   "metadata": {
    "execution": {
     "iopub.execute_input": "2025-08-05T14:49:51.923477Z",
     "iopub.status.busy": "2025-08-05T14:49:51.922615Z",
     "iopub.status.idle": "2025-08-05T14:49:51.940050Z",
     "shell.execute_reply": "2025-08-05T14:49:51.938461Z"
    },
    "papermill": {
     "duration": 0.041302,
     "end_time": "2025-08-05T14:49:51.941976",
     "exception": false,
     "start_time": "2025-08-05T14:49:51.900674",
     "status": "completed"
    },
    "tags": []
   },
   "outputs": [],
   "source": [
    "X_train = X_train[keep_mask]"
   ]
  },
  {
   "cell_type": "code",
   "execution_count": 29,
   "id": "b202bb3a",
   "metadata": {
    "execution": {
     "iopub.execute_input": "2025-08-05T14:49:51.982061Z",
     "iopub.status.busy": "2025-08-05T14:49:51.981227Z",
     "iopub.status.idle": "2025-08-05T14:49:51.988421Z",
     "shell.execute_reply": "2025-08-05T14:49:51.987405Z"
    },
    "papermill": {
     "duration": 0.028403,
     "end_time": "2025-08-05T14:49:51.990147",
     "exception": false,
     "start_time": "2025-08-05T14:49:51.961744",
     "status": "completed"
    },
    "tags": []
   },
   "outputs": [],
   "source": [
    "y_train = y_train[keep_mask]"
   ]
  },
  {
   "cell_type": "markdown",
   "id": "493e2ac3",
   "metadata": {
    "papermill": {
     "duration": 0.019356,
     "end_time": "2025-08-05T14:49:52.029042",
     "exception": false,
     "start_time": "2025-08-05T14:49:52.009686",
     "status": "completed"
    },
    "tags": []
   },
   "source": [
    "# Model Training"
   ]
  },
  {
   "cell_type": "code",
   "execution_count": 30,
   "id": "679e1268",
   "metadata": {
    "execution": {
     "iopub.execute_input": "2025-08-05T14:49:52.067546Z",
     "iopub.status.busy": "2025-08-05T14:49:52.066673Z",
     "iopub.status.idle": "2025-08-05T14:49:52.172061Z",
     "shell.execute_reply": "2025-08-05T14:49:52.171081Z"
    },
    "papermill": {
     "duration": 0.12681,
     "end_time": "2025-08-05T14:49:52.173836",
     "exception": false,
     "start_time": "2025-08-05T14:49:52.047026",
     "status": "completed"
    },
    "tags": []
   },
   "outputs": [],
   "source": [
    "from sklearn.linear_model import LogisticRegression\n",
    "from sklearn.ensemble import GradientBoostingClassifier, RandomForestClassifier\n",
    "\n",
    "if (universe[\"model\"] == \"logreg\"):\n",
    "    model = LogisticRegression() #penalty=\"none\", solver=\"newton-cg\", max_iter=1) # include random_state=19 ?\n",
    "elif (universe[\"model\"] == \"penalized_logreg\"):\n",
    "    model = LogisticRegression(penalty=\"l2\", C=0.1) #, solver=\"newton-cg\", max_iter=1)\n",
    "elif (universe[\"model\"] == \"rf\"):\n",
    "    model = RandomForestClassifier() # n_estimators=100, n_jobs=-1\n",
    "elif (universe[\"model\"] == \"gbm\"):\n",
    "    model = GradientBoostingClassifier()\n",
    "elif (universe[\"model\"] == \"elasticnet\"):\n",
    "    model = LogisticRegression(penalty = 'elasticnet', solver = 'saga', l1_ratio = 0.5) # max_iter=5000\n",
    "else:\n",
    "    raise \"Unsupported universe.model\""
   ]
  },
  {
   "cell_type": "code",
   "execution_count": 31,
   "id": "0cc8f744",
   "metadata": {
    "execution": {
     "iopub.execute_input": "2025-08-05T14:49:52.213367Z",
     "iopub.status.busy": "2025-08-05T14:49:52.212963Z",
     "iopub.status.idle": "2025-08-05T14:49:52.219311Z",
     "shell.execute_reply": "2025-08-05T14:49:52.218424Z"
    },
    "papermill": {
     "duration": 0.028434,
     "end_time": "2025-08-05T14:49:52.221070",
     "exception": false,
     "start_time": "2025-08-05T14:49:52.192636",
     "status": "completed"
    },
    "tags": []
   },
   "outputs": [],
   "source": [
    "import numpy as np\n",
    "from sklearn.pipeline import Pipeline\n",
    "from sklearn.preprocessing import StandardScaler\n",
    "\n",
    "model = Pipeline([\n",
    "    #(\"continuous_processor\", continuous_processor),\n",
    "    #(\"categorical_preprocessor\", categorical_preprocessor),\n",
    "    (\"scale\", StandardScaler() if universe[\"scale\"] == \"scale\" else None), \n",
    "    (\"model\", model),\n",
    "])"
   ]
  },
  {
   "cell_type": "code",
   "execution_count": 32,
   "id": "9442c04d",
   "metadata": {
    "execution": {
     "iopub.execute_input": "2025-08-05T14:49:52.259168Z",
     "iopub.status.busy": "2025-08-05T14:49:52.258556Z",
     "iopub.status.idle": "2025-08-05T14:49:53.432221Z",
     "shell.execute_reply": "2025-08-05T14:49:53.431479Z"
    },
    "papermill": {
     "duration": 1.193564,
     "end_time": "2025-08-05T14:49:53.433536",
     "exception": false,
     "start_time": "2025-08-05T14:49:52.239972",
     "status": "completed"
    },
    "tags": []
   },
   "outputs": [
    {
     "name": "stderr",
     "output_type": "stream",
     "text": [
      "/dss/dsshome1/0C/ra93lal2/.local/share/virtualenvs/CMA_Fairness_v2-3j10GkSs/lib/python3.10/site-packages/sklearn/linear_model/_logistic.py:444: ConvergenceWarning: lbfgs failed to converge (status=1):\n",
      "STOP: TOTAL NO. of ITERATIONS REACHED LIMIT.\n",
      "\n",
      "Increase the number of iterations (max_iter) or scale the data as shown in:\n",
      "    https://scikit-learn.org/stable/modules/preprocessing.html\n",
      "Please also refer to the documentation for alternative solver options:\n",
      "    https://scikit-learn.org/stable/modules/linear_model.html#logistic-regression\n",
      "  n_iter_i = _check_optimize_result(\n"
     ]
    },
    {
     "data": {
      "text/html": [
       "<style>#sk-container-id-1 {color: black;background-color: white;}#sk-container-id-1 pre{padding: 0;}#sk-container-id-1 div.sk-toggleable {background-color: white;}#sk-container-id-1 label.sk-toggleable__label {cursor: pointer;display: block;width: 100%;margin-bottom: 0;padding: 0.3em;box-sizing: border-box;text-align: center;}#sk-container-id-1 label.sk-toggleable__label-arrow:before {content: \"▸\";float: left;margin-right: 0.25em;color: #696969;}#sk-container-id-1 label.sk-toggleable__label-arrow:hover:before {color: black;}#sk-container-id-1 div.sk-estimator:hover label.sk-toggleable__label-arrow:before {color: black;}#sk-container-id-1 div.sk-toggleable__content {max-height: 0;max-width: 0;overflow: hidden;text-align: left;background-color: #f0f8ff;}#sk-container-id-1 div.sk-toggleable__content pre {margin: 0.2em;color: black;border-radius: 0.25em;background-color: #f0f8ff;}#sk-container-id-1 input.sk-toggleable__control:checked~div.sk-toggleable__content {max-height: 200px;max-width: 100%;overflow: auto;}#sk-container-id-1 input.sk-toggleable__control:checked~label.sk-toggleable__label-arrow:before {content: \"▾\";}#sk-container-id-1 div.sk-estimator input.sk-toggleable__control:checked~label.sk-toggleable__label {background-color: #d4ebff;}#sk-container-id-1 div.sk-label input.sk-toggleable__control:checked~label.sk-toggleable__label {background-color: #d4ebff;}#sk-container-id-1 input.sk-hidden--visually {border: 0;clip: rect(1px 1px 1px 1px);clip: rect(1px, 1px, 1px, 1px);height: 1px;margin: -1px;overflow: hidden;padding: 0;position: absolute;width: 1px;}#sk-container-id-1 div.sk-estimator {font-family: monospace;background-color: #f0f8ff;border: 1px dotted black;border-radius: 0.25em;box-sizing: border-box;margin-bottom: 0.5em;}#sk-container-id-1 div.sk-estimator:hover {background-color: #d4ebff;}#sk-container-id-1 div.sk-parallel-item::after {content: \"\";width: 100%;border-bottom: 1px solid gray;flex-grow: 1;}#sk-container-id-1 div.sk-label:hover label.sk-toggleable__label {background-color: #d4ebff;}#sk-container-id-1 div.sk-serial::before {content: \"\";position: absolute;border-left: 1px solid gray;box-sizing: border-box;top: 0;bottom: 0;left: 50%;z-index: 0;}#sk-container-id-1 div.sk-serial {display: flex;flex-direction: column;align-items: center;background-color: white;padding-right: 0.2em;padding-left: 0.2em;position: relative;}#sk-container-id-1 div.sk-item {position: relative;z-index: 1;}#sk-container-id-1 div.sk-parallel {display: flex;align-items: stretch;justify-content: center;background-color: white;position: relative;}#sk-container-id-1 div.sk-item::before, #sk-container-id-1 div.sk-parallel-item::before {content: \"\";position: absolute;border-left: 1px solid gray;box-sizing: border-box;top: 0;bottom: 0;left: 50%;z-index: -1;}#sk-container-id-1 div.sk-parallel-item {display: flex;flex-direction: column;z-index: 1;position: relative;background-color: white;}#sk-container-id-1 div.sk-parallel-item:first-child::after {align-self: flex-end;width: 50%;}#sk-container-id-1 div.sk-parallel-item:last-child::after {align-self: flex-start;width: 50%;}#sk-container-id-1 div.sk-parallel-item:only-child::after {width: 0;}#sk-container-id-1 div.sk-dashed-wrapped {border: 1px dashed gray;margin: 0 0.4em 0.5em 0.4em;box-sizing: border-box;padding-bottom: 0.4em;background-color: white;}#sk-container-id-1 div.sk-label label {font-family: monospace;font-weight: bold;display: inline-block;line-height: 1.2em;}#sk-container-id-1 div.sk-label-container {text-align: center;}#sk-container-id-1 div.sk-container {/* jupyter's `normalize.less` sets `[hidden] { display: none; }` but bootstrap.min.css set `[hidden] { display: none !important; }` so we also need the `!important` here to be able to override the default hidden behavior on the sphinx rendered scikit-learn.org. See: https://github.com/scikit-learn/scikit-learn/issues/21755 */display: inline-block !important;position: relative;}#sk-container-id-1 div.sk-text-repr-fallback {display: none;}</style><div id=\"sk-container-id-1\" class=\"sk-top-container\"><div class=\"sk-text-repr-fallback\"><pre>Pipeline(steps=[(&#x27;scale&#x27;, StandardScaler()),\n",
       "                (&#x27;model&#x27;, LogisticRegression(C=0.1))])</pre><b>In a Jupyter environment, please rerun this cell to show the HTML representation or trust the notebook. <br />On GitHub, the HTML representation is unable to render, please try loading this page with nbviewer.org.</b></div><div class=\"sk-container\" hidden><div class=\"sk-item sk-dashed-wrapped\"><div class=\"sk-label-container\"><div class=\"sk-label sk-toggleable\"><input class=\"sk-toggleable__control sk-hidden--visually\" id=\"sk-estimator-id-1\" type=\"checkbox\" ><label for=\"sk-estimator-id-1\" class=\"sk-toggleable__label sk-toggleable__label-arrow\">Pipeline</label><div class=\"sk-toggleable__content\"><pre>Pipeline(steps=[(&#x27;scale&#x27;, StandardScaler()),\n",
       "                (&#x27;model&#x27;, LogisticRegression(C=0.1))])</pre></div></div></div><div class=\"sk-serial\"><div class=\"sk-item\"><div class=\"sk-estimator sk-toggleable\"><input class=\"sk-toggleable__control sk-hidden--visually\" id=\"sk-estimator-id-2\" type=\"checkbox\" ><label for=\"sk-estimator-id-2\" class=\"sk-toggleable__label sk-toggleable__label-arrow\">StandardScaler</label><div class=\"sk-toggleable__content\"><pre>StandardScaler()</pre></div></div></div><div class=\"sk-item\"><div class=\"sk-estimator sk-toggleable\"><input class=\"sk-toggleable__control sk-hidden--visually\" id=\"sk-estimator-id-3\" type=\"checkbox\" ><label for=\"sk-estimator-id-3\" class=\"sk-toggleable__label sk-toggleable__label-arrow\">LogisticRegression</label><div class=\"sk-toggleable__content\"><pre>LogisticRegression(C=0.1)</pre></div></div></div></div></div></div></div>"
      ],
      "text/plain": [
       "Pipeline(steps=[('scale', StandardScaler()),\n",
       "                ('model', LogisticRegression(C=0.1))])"
      ]
     },
     "execution_count": 32,
     "metadata": {},
     "output_type": "execute_result"
    }
   ],
   "source": [
    "model.fit(X_train, y_train.values.ravel())"
   ]
  },
  {
   "cell_type": "code",
   "execution_count": 33,
   "id": "af59f8c0",
   "metadata": {
    "execution": {
     "iopub.execute_input": "2025-08-05T14:49:53.454755Z",
     "iopub.status.busy": "2025-08-05T14:49:53.454405Z",
     "iopub.status.idle": "2025-08-05T14:49:53.458974Z",
     "shell.execute_reply": "2025-08-05T14:49:53.458057Z"
    },
    "papermill": {
     "duration": 0.016515,
     "end_time": "2025-08-05T14:49:53.460355",
     "exception": false,
     "start_time": "2025-08-05T14:49:53.443840",
     "status": "completed"
    },
    "tags": []
   },
   "outputs": [],
   "source": [
    "from fairness_multiverse.universe import predict_w_threshold"
   ]
  },
  {
   "cell_type": "code",
   "execution_count": 34,
   "id": "a7cf2e16",
   "metadata": {
    "execution": {
     "iopub.execute_input": "2025-08-05T14:49:53.483231Z",
     "iopub.status.busy": "2025-08-05T14:49:53.482724Z",
     "iopub.status.idle": "2025-08-05T14:49:53.654866Z",
     "shell.execute_reply": "2025-08-05T14:49:53.653969Z"
    },
    "papermill": {
     "duration": 0.184542,
     "end_time": "2025-08-05T14:49:53.656279",
     "exception": false,
     "start_time": "2025-08-05T14:49:53.471737",
     "status": "completed"
    },
    "tags": []
   },
   "outputs": [
    {
     "data": {
      "text/plain": [
       "0.8624345112027645"
      ]
     },
     "execution_count": 34,
     "metadata": {},
     "output_type": "execute_result"
    }
   ],
   "source": [
    "probs_test = model.predict_proba(X_test)\n",
    "\n",
    "'''\n",
    "Below code returns a boolean array (or binary 0/1 array depending on how it’s used) where each element \n",
    "is True if the probability of class 1 is greater than or equal to the threshold, and False otherwise.\n",
    "'''\n",
    "y_pred_default = predict_w_threshold(probs_test, 0.5)\n",
    "\n",
    "from sklearn.metrics import accuracy_score\n",
    "\n",
    "# Naive prediction\n",
    "accuracy_score(y_true = y_true, y_pred = y_pred_default)"
   ]
  },
  {
   "cell_type": "code",
   "execution_count": 35,
   "id": "081964c3",
   "metadata": {
    "execution": {
     "iopub.execute_input": "2025-08-05T14:49:53.678521Z",
     "iopub.status.busy": "2025-08-05T14:49:53.678167Z",
     "iopub.status.idle": "2025-08-05T14:49:53.844795Z",
     "shell.execute_reply": "2025-08-05T14:49:53.844054Z"
    },
    "papermill": {
     "duration": 0.179317,
     "end_time": "2025-08-05T14:49:53.846120",
     "exception": false,
     "start_time": "2025-08-05T14:49:53.666803",
     "status": "completed"
    },
    "tags": []
   },
   "outputs": [
    {
     "data": {
      "text/plain": [
       "array([0, 0, 0, ..., 0, 0, 0])"
      ]
     },
     "execution_count": 35,
     "metadata": {},
     "output_type": "execute_result"
    }
   ],
   "source": [
    "model.predict(X_test)"
   ]
  },
  {
   "cell_type": "markdown",
   "id": "56c9705b",
   "metadata": {
    "papermill": {
     "duration": 0.009698,
     "end_time": "2025-08-05T14:49:53.866531",
     "exception": false,
     "start_time": "2025-08-05T14:49:53.856833",
     "status": "completed"
    },
    "tags": []
   },
   "source": [
    "# Conformal Prediction"
   ]
  },
  {
   "cell_type": "code",
   "execution_count": 36,
   "id": "160ec6ff",
   "metadata": {
    "execution": {
     "iopub.execute_input": "2025-08-05T14:49:53.892002Z",
     "iopub.status.busy": "2025-08-05T14:49:53.891651Z",
     "iopub.status.idle": "2025-08-05T14:49:53.895853Z",
     "shell.execute_reply": "2025-08-05T14:49:53.895115Z"
    },
    "papermill": {
     "duration": 0.020917,
     "end_time": "2025-08-05T14:49:53.897233",
     "exception": false,
     "start_time": "2025-08-05T14:49:53.876316",
     "status": "completed"
    },
    "tags": []
   },
   "outputs": [],
   "source": [
    "# Miscoverage level for conformal prediction (10% allowed error rate => 90% target coverage)\n",
    "alpha = 0.1"
   ]
  },
  {
   "cell_type": "code",
   "execution_count": 37,
   "id": "eadf4555-3dd3-440e-8e35-f82a4ad9f855",
   "metadata": {
    "execution": {
     "iopub.execute_input": "2025-08-05T14:49:53.919837Z",
     "iopub.status.busy": "2025-08-05T14:49:53.919439Z",
     "iopub.status.idle": "2025-08-05T14:49:54.129487Z",
     "shell.execute_reply": "2025-08-05T14:49:54.128352Z"
    },
    "papermill": {
     "duration": 0.222497,
     "end_time": "2025-08-05T14:49:54.131190",
     "exception": false,
     "start_time": "2025-08-05T14:49:53.908693",
     "status": "completed"
    },
    "tags": []
   },
   "outputs": [],
   "source": [
    "probs_calib = model.predict_proba(X_calib)"
   ]
  },
  {
   "cell_type": "code",
   "execution_count": 38,
   "id": "2ed93547-6d5d-4983-9b36-1ecb300da49a",
   "metadata": {
    "execution": {
     "iopub.execute_input": "2025-08-05T14:49:54.186800Z",
     "iopub.status.busy": "2025-08-05T14:49:54.186322Z",
     "iopub.status.idle": "2025-08-05T14:49:54.192755Z",
     "shell.execute_reply": "2025-08-05T14:49:54.191573Z"
    },
    "papermill": {
     "duration": 0.038521,
     "end_time": "2025-08-05T14:49:54.195291",
     "exception": false,
     "start_time": "2025-08-05T14:49:54.156770",
     "status": "completed"
    },
    "tags": []
   },
   "outputs": [],
   "source": [
    "y_calib = y_calib.values.ravel().astype(int)"
   ]
  },
  {
   "cell_type": "code",
   "execution_count": 39,
   "id": "65d1320d-f588-4b38-9072-62af1ae97f7d",
   "metadata": {
    "execution": {
     "iopub.execute_input": "2025-08-05T14:49:54.257644Z",
     "iopub.status.busy": "2025-08-05T14:49:54.257117Z",
     "iopub.status.idle": "2025-08-05T14:49:54.265604Z",
     "shell.execute_reply": "2025-08-05T14:49:54.264427Z"
    },
    "papermill": {
     "duration": 0.04147,
     "end_time": "2025-08-05T14:49:54.267366",
     "exception": false,
     "start_time": "2025-08-05T14:49:54.225896",
     "status": "completed"
    },
    "tags": []
   },
   "outputs": [],
   "source": [
    "from fairness_multiverse.conformal import compute_nc_scores\n",
    "\n",
    "# Compute nonconformity scores on calibration set (1 - probability of true class)\n",
    "nc_scores = compute_nc_scores(probs_calib, y_calib)"
   ]
  },
  {
   "cell_type": "code",
   "execution_count": 40,
   "id": "df3b8ca3-53b7-43d5-9667-7c85da7aeda2",
   "metadata": {
    "execution": {
     "iopub.execute_input": "2025-08-05T14:49:54.290949Z",
     "iopub.status.busy": "2025-08-05T14:49:54.290268Z",
     "iopub.status.idle": "2025-08-05T14:49:54.295990Z",
     "shell.execute_reply": "2025-08-05T14:49:54.295050Z"
    },
    "papermill": {
     "duration": 0.017821,
     "end_time": "2025-08-05T14:49:54.297496",
     "exception": false,
     "start_time": "2025-08-05T14:49:54.279675",
     "status": "completed"
    },
    "tags": []
   },
   "outputs": [],
   "source": [
    "from fairness_multiverse.conformal import find_threshold\n",
    "\n",
    "# Find conformal threshold q_hat for the given alpha (split conformal method)\n",
    "q_hat = find_threshold(nc_scores, alpha)"
   ]
  },
  {
   "cell_type": "code",
   "execution_count": 41,
   "id": "4d29e6c1-0ef6-4aa4-b8fe-4fe79b0d033a",
   "metadata": {
    "execution": {
     "iopub.execute_input": "2025-08-05T14:49:54.331593Z",
     "iopub.status.busy": "2025-08-05T14:49:54.331229Z",
     "iopub.status.idle": "2025-08-05T14:49:54.337548Z",
     "shell.execute_reply": "2025-08-05T14:49:54.336752Z"
    },
    "papermill": {
     "duration": 0.030204,
     "end_time": "2025-08-05T14:49:54.339097",
     "exception": false,
     "start_time": "2025-08-05T14:49:54.308893",
     "status": "completed"
    },
    "tags": []
   },
   "outputs": [
    {
     "data": {
      "text/plain": [
       "0.6650178353997839"
      ]
     },
     "execution_count": 41,
     "metadata": {},
     "output_type": "execute_result"
    }
   ],
   "source": [
    "q_hat"
   ]
  },
  {
   "cell_type": "code",
   "execution_count": 42,
   "id": "92460794-cdac-4be2-ba28-f28c0515a6fb",
   "metadata": {
    "execution": {
     "iopub.execute_input": "2025-08-05T14:49:54.362555Z",
     "iopub.status.busy": "2025-08-05T14:49:54.362045Z",
     "iopub.status.idle": "2025-08-05T14:49:55.256520Z",
     "shell.execute_reply": "2025-08-05T14:49:55.255742Z"
    },
    "papermill": {
     "duration": 0.907379,
     "end_time": "2025-08-05T14:49:55.258348",
     "exception": false,
     "start_time": "2025-08-05T14:49:54.350969",
     "status": "completed"
    },
    "tags": []
   },
   "outputs": [],
   "source": [
    "from fairness_multiverse.conformal import predict_conformal_sets\n",
    "\n",
    "# Generate prediction sets for each test example\n",
    "pred_sets = predict_conformal_sets(model, X_test, q_hat)"
   ]
  },
  {
   "cell_type": "code",
   "execution_count": 43,
   "id": "d90c9a65-e6db-4f5d-80cd-e68fb7e46829",
   "metadata": {
    "execution": {
     "iopub.execute_input": "2025-08-05T14:49:55.303437Z",
     "iopub.status.busy": "2025-08-05T14:49:55.302955Z",
     "iopub.status.idle": "2025-08-05T14:49:55.309036Z",
     "shell.execute_reply": "2025-08-05T14:49:55.307956Z"
    },
    "papermill": {
     "duration": 0.03007,
     "end_time": "2025-08-05T14:49:55.310855",
     "exception": false,
     "start_time": "2025-08-05T14:49:55.280785",
     "status": "completed"
    },
    "tags": []
   },
   "outputs": [],
   "source": [
    "y_true = y_true.squeeze()"
   ]
  },
  {
   "cell_type": "code",
   "execution_count": 44,
   "id": "3a58a54a-1e68-46b9-927a-df01f18aebc8",
   "metadata": {
    "execution": {
     "iopub.execute_input": "2025-08-05T14:49:55.356190Z",
     "iopub.status.busy": "2025-08-05T14:49:55.355334Z",
     "iopub.status.idle": "2025-08-05T14:49:56.457541Z",
     "shell.execute_reply": "2025-08-05T14:49:56.456714Z"
    },
    "papermill": {
     "duration": 1.126287,
     "end_time": "2025-08-05T14:49:56.459253",
     "exception": false,
     "start_time": "2025-08-05T14:49:55.332966",
     "status": "completed"
    },
    "tags": []
   },
   "outputs": [],
   "source": [
    "from fairness_multiverse.conformal import evaluate_sets\n",
    "\n",
    "# Evaluate coverage and average set size on test data\n",
    "metrics = evaluate_sets(pred_sets, y_true)"
   ]
  },
  {
   "cell_type": "markdown",
   "id": "2b569c12-9aaa-4c88-98c9-bbcd0cf3ebb8",
   "metadata": {
    "papermill": {
     "duration": 0.021847,
     "end_time": "2025-08-05T14:49:56.501724",
     "exception": false,
     "start_time": "2025-08-05T14:49:56.479877",
     "status": "completed"
    },
    "tags": []
   },
   "source": [
    "# CP Metrics"
   ]
  },
  {
   "cell_type": "code",
   "execution_count": 45,
   "id": "5ce0a5cb-201f-45a0-ade5-94c7f0bd6095",
   "metadata": {
    "execution": {
     "iopub.execute_input": "2025-08-05T14:49:56.544708Z",
     "iopub.status.busy": "2025-08-05T14:49:56.543684Z",
     "iopub.status.idle": "2025-08-05T14:49:56.551929Z",
     "shell.execute_reply": "2025-08-05T14:49:56.550890Z"
    },
    "papermill": {
     "duration": 0.031936,
     "end_time": "2025-08-05T14:49:56.554327",
     "exception": false,
     "start_time": "2025-08-05T14:49:56.522391",
     "status": "completed"
    },
    "tags": []
   },
   "outputs": [
    {
     "data": {
      "text/plain": [
       "{'coverage': 0.911826998105005, 'avg_size': 1.1251811392263962}"
      ]
     },
     "execution_count": 45,
     "metadata": {},
     "output_type": "execute_result"
    }
   ],
   "source": [
    "metrics"
   ]
  },
  {
   "cell_type": "code",
   "execution_count": 46,
   "id": "9b9a838d-31c9-430b-ae14-12baee460d17",
   "metadata": {
    "execution": {
     "iopub.execute_input": "2025-08-05T14:49:56.622384Z",
     "iopub.status.busy": "2025-08-05T14:49:56.621299Z",
     "iopub.status.idle": "2025-08-05T14:49:56.627925Z",
     "shell.execute_reply": "2025-08-05T14:49:56.626922Z"
    },
    "papermill": {
     "duration": 0.04399,
     "end_time": "2025-08-05T14:49:56.630042",
     "exception": false,
     "start_time": "2025-08-05T14:49:56.586052",
     "status": "completed"
    },
    "tags": []
   },
   "outputs": [],
   "source": [
    "example_universe = universe.copy()\n",
    "universe_training_year = example_universe.get(\"training_year\")\n",
    "universe_training_size = example_universe.get(\"training_size\")\n",
    "universe_scale = example_universe.get(\"scale\")\n",
    "universe_model = example_universe.get(\"model\")\n",
    "universe_exclude_features = example_universe.get(\"exclude_features\")\n",
    "universe_exclude_subgroups = example_universe.get(\"exclude_subgroups\")"
   ]
  },
  {
   "cell_type": "code",
   "execution_count": 47,
   "id": "f4b6a8ac-9dc0-4245-8a91-5b3b5999c4f9",
   "metadata": {
    "execution": {
     "iopub.execute_input": "2025-08-05T14:49:56.677329Z",
     "iopub.status.busy": "2025-08-05T14:49:56.675619Z",
     "iopub.status.idle": "2025-08-05T14:49:56.692683Z",
     "shell.execute_reply": "2025-08-05T14:49:56.691577Z"
    },
    "papermill": {
     "duration": 0.033556,
     "end_time": "2025-08-05T14:49:56.694605",
     "exception": false,
     "start_time": "2025-08-05T14:49:56.661049",
     "status": "completed"
    },
    "tags": []
   },
   "outputs": [],
   "source": [
    "cp_metrics_dict = {\n",
    "    \"universe_id\": [universe_id],\n",
    "    \"universe_training_year\": [universe_training_year],\n",
    "    \"universe_training_size\": [universe_training_size],\n",
    "    \"universe_scale\": [universe_scale],\n",
    "    \"universe_model\": [universe_model],\n",
    "    \"universe_exclude_features\": [universe_exclude_features],\n",
    "    \"universe_exclude_subgroups\": [universe_exclude_subgroups],\n",
    "    \"q_hat\": [q_hat],\n",
    "    \"coverage\": [metrics[\"coverage\"]],\n",
    "    \"avg_size\": [metrics[\"avg_size\"]],\n",
    "}"
   ]
  },
  {
   "cell_type": "code",
   "execution_count": 48,
   "id": "908acbb1-0371-4915-85ca-3fa520d2efe2",
   "metadata": {
    "execution": {
     "iopub.execute_input": "2025-08-05T14:49:56.743130Z",
     "iopub.status.busy": "2025-08-05T14:49:56.742338Z",
     "iopub.status.idle": "2025-08-05T14:49:56.750418Z",
     "shell.execute_reply": "2025-08-05T14:49:56.749178Z"
    },
    "papermill": {
     "duration": 0.033393,
     "end_time": "2025-08-05T14:49:56.752332",
     "exception": false,
     "start_time": "2025-08-05T14:49:56.718939",
     "status": "completed"
    },
    "tags": []
   },
   "outputs": [
    {
     "data": {
      "text/plain": [
       "{'universe_id': ['b8fc0fe78241071ea616fa9dfa708251'],\n",
       " 'universe_training_year': ['2012_14'],\n",
       " 'universe_training_size': ['25k'],\n",
       " 'universe_scale': ['scale'],\n",
       " 'universe_model': ['penalized_logreg'],\n",
       " 'universe_exclude_features': ['sex'],\n",
       " 'universe_exclude_subgroups': ['keep-all'],\n",
       " 'q_hat': [0.6650178353997839],\n",
       " 'coverage': [0.911826998105005],\n",
       " 'avg_size': [1.1251811392263962]}"
      ]
     },
     "execution_count": 48,
     "metadata": {},
     "output_type": "execute_result"
    }
   ],
   "source": [
    "cp_metrics_dict"
   ]
  },
  {
   "cell_type": "code",
   "execution_count": 49,
   "id": "33007efc-14e9-4ec6-97ac-56a455c82265",
   "metadata": {
    "execution": {
     "iopub.execute_input": "2025-08-05T14:49:56.799226Z",
     "iopub.status.busy": "2025-08-05T14:49:56.798519Z",
     "iopub.status.idle": "2025-08-05T14:49:56.805356Z",
     "shell.execute_reply": "2025-08-05T14:49:56.804293Z"
    },
    "papermill": {
     "duration": 0.036287,
     "end_time": "2025-08-05T14:49:56.810585",
     "exception": false,
     "start_time": "2025-08-05T14:49:56.774298",
     "status": "completed"
    },
    "tags": []
   },
   "outputs": [],
   "source": [
    "cp_metrics_df = pd.DataFrame(cp_metrics_dict)"
   ]
  },
  {
   "cell_type": "code",
   "execution_count": 50,
   "id": "db12611b-57b2-4910-b9d0-355adfd6e7bf",
   "metadata": {
    "execution": {
     "iopub.execute_input": "2025-08-05T14:49:56.855694Z",
     "iopub.status.busy": "2025-08-05T14:49:56.854715Z",
     "iopub.status.idle": "2025-08-05T14:49:56.874926Z",
     "shell.execute_reply": "2025-08-05T14:49:56.873953Z"
    },
    "papermill": {
     "duration": 0.044848,
     "end_time": "2025-08-05T14:49:56.877316",
     "exception": false,
     "start_time": "2025-08-05T14:49:56.832468",
     "status": "completed"
    },
    "tags": []
   },
   "outputs": [
    {
     "data": {
      "text/html": [
       "<div>\n",
       "<style scoped>\n",
       "    .dataframe tbody tr th:only-of-type {\n",
       "        vertical-align: middle;\n",
       "    }\n",
       "\n",
       "    .dataframe tbody tr th {\n",
       "        vertical-align: top;\n",
       "    }\n",
       "\n",
       "    .dataframe thead th {\n",
       "        text-align: right;\n",
       "    }\n",
       "</style>\n",
       "<table border=\"1\" class=\"dataframe\">\n",
       "  <thead>\n",
       "    <tr style=\"text-align: right;\">\n",
       "      <th></th>\n",
       "      <th>universe_id</th>\n",
       "      <th>universe_training_year</th>\n",
       "      <th>universe_training_size</th>\n",
       "      <th>universe_scale</th>\n",
       "      <th>universe_model</th>\n",
       "      <th>universe_exclude_features</th>\n",
       "      <th>universe_exclude_subgroups</th>\n",
       "      <th>q_hat</th>\n",
       "      <th>coverage</th>\n",
       "      <th>avg_size</th>\n",
       "    </tr>\n",
       "  </thead>\n",
       "  <tbody>\n",
       "    <tr>\n",
       "      <th>0</th>\n",
       "      <td>b8fc0fe78241071ea616fa9dfa708251</td>\n",
       "      <td>2012_14</td>\n",
       "      <td>25k</td>\n",
       "      <td>scale</td>\n",
       "      <td>penalized_logreg</td>\n",
       "      <td>sex</td>\n",
       "      <td>keep-all</td>\n",
       "      <td>0.665018</td>\n",
       "      <td>0.911827</td>\n",
       "      <td>1.125181</td>\n",
       "    </tr>\n",
       "  </tbody>\n",
       "</table>\n",
       "</div>"
      ],
      "text/plain": [
       "                        universe_id universe_training_year  \\\n",
       "0  b8fc0fe78241071ea616fa9dfa708251                2012_14   \n",
       "\n",
       "  universe_training_size universe_scale    universe_model  \\\n",
       "0                    25k          scale  penalized_logreg   \n",
       "\n",
       "  universe_exclude_features universe_exclude_subgroups     q_hat  coverage  \\\n",
       "0                       sex                   keep-all  0.665018  0.911827   \n",
       "\n",
       "   avg_size  \n",
       "0  1.125181  "
      ]
     },
     "execution_count": 50,
     "metadata": {},
     "output_type": "execute_result"
    }
   ],
   "source": [
    "cp_metrics_df"
   ]
  },
  {
   "cell_type": "code",
   "execution_count": 51,
   "id": "b7fbde55-a0a1-47e4-9af6-fe4a17fa8c61",
   "metadata": {
    "execution": {
     "iopub.execute_input": "2025-08-05T14:49:56.945463Z",
     "iopub.status.busy": "2025-08-05T14:49:56.944628Z",
     "iopub.status.idle": "2025-08-05T14:49:56.951107Z",
     "shell.execute_reply": "2025-08-05T14:49:56.949533Z"
    },
    "papermill": {
     "duration": 0.044356,
     "end_time": "2025-08-05T14:49:56.953690",
     "exception": false,
     "start_time": "2025-08-05T14:49:56.909334",
     "status": "completed"
    },
    "tags": []
   },
   "outputs": [],
   "source": [
    "# Conditional Coverage & looking at subgroups"
   ]
  },
  {
   "cell_type": "code",
   "execution_count": 52,
   "id": "027ae886-68dd-4141-96c7-805a5450e1ef",
   "metadata": {
    "execution": {
     "iopub.execute_input": "2025-08-05T14:49:57.012583Z",
     "iopub.status.busy": "2025-08-05T14:49:57.011768Z",
     "iopub.status.idle": "2025-08-05T14:49:57.241319Z",
     "shell.execute_reply": "2025-08-05T14:49:57.240530Z"
    },
    "papermill": {
     "duration": 0.256624,
     "end_time": "2025-08-05T14:49:57.242864",
     "exception": false,
     "start_time": "2025-08-05T14:49:56.986240",
     "status": "completed"
    },
    "tags": []
   },
   "outputs": [],
   "source": [
    "from fairness_multiverse.conformal import build_cp_groups\n",
    "\n",
    "cp_groups_df = build_cp_groups(pred_sets, y_true, X_test.index, org_test)\n",
    "#needs universe_id and setting"
   ]
  },
  {
   "cell_type": "code",
   "execution_count": 53,
   "id": "6cbdab96-b2b2-45af-ad54-d0516db2e28d",
   "metadata": {
    "execution": {
     "iopub.execute_input": "2025-08-05T14:49:57.280923Z",
     "iopub.status.busy": "2025-08-05T14:49:57.280372Z",
     "iopub.status.idle": "2025-08-05T14:49:59.237215Z",
     "shell.execute_reply": "2025-08-05T14:49:59.236428Z"
    },
    "papermill": {
     "duration": 1.984157,
     "end_time": "2025-08-05T14:49:59.238670",
     "exception": false,
     "start_time": "2025-08-05T14:49:57.254513",
     "status": "completed"
    },
    "tags": []
   },
   "outputs": [],
   "source": [
    "# Define covered = 1 if true_label is in the predicted set\n",
    "cp_groups_df['covered'] = cp_groups_df.apply(\n",
    "    lambda r: int(r['true_label'] in r['pred_set']),\n",
    "    axis=1\n",
    ")"
   ]
  },
  {
   "cell_type": "code",
   "execution_count": 54,
   "id": "338ff529-1a6b-4b87-a931-8e4788d52aad",
   "metadata": {
    "execution": {
     "iopub.execute_input": "2025-08-05T14:49:59.262635Z",
     "iopub.status.busy": "2025-08-05T14:49:59.262161Z",
     "iopub.status.idle": "2025-08-05T14:49:59.266550Z",
     "shell.execute_reply": "2025-08-05T14:49:59.265631Z"
    },
    "papermill": {
     "duration": 0.017587,
     "end_time": "2025-08-05T14:49:59.267999",
     "exception": false,
     "start_time": "2025-08-05T14:49:59.250412",
     "status": "completed"
    },
    "tags": []
   },
   "outputs": [],
   "source": [
    "#cp_groups_df"
   ]
  },
  {
   "cell_type": "code",
   "execution_count": 55,
   "id": "90032e27-66df-4540-9169-4e89cfbaa758",
   "metadata": {
    "execution": {
     "iopub.execute_input": "2025-08-05T14:49:59.299838Z",
     "iopub.status.busy": "2025-08-05T14:49:59.299457Z",
     "iopub.status.idle": "2025-08-05T14:49:59.309101Z",
     "shell.execute_reply": "2025-08-05T14:49:59.308202Z"
    },
    "papermill": {
     "duration": 0.02922,
     "end_time": "2025-08-05T14:49:59.310628",
     "exception": false,
     "start_time": "2025-08-05T14:49:59.281408",
     "status": "completed"
    },
    "tags": []
   },
   "outputs": [],
   "source": [
    "subgroups = ['frau1','nongerman','nongerman_male','nongerman_female']\n",
    "\n",
    "# Conditional coverage for subgroup==1\n",
    "cond_coverage = {\n",
    "    g: cp_groups_df.loc[cp_groups_df[g]==1, 'covered'].mean()\n",
    "    for g in subgroups\n",
    "}"
   ]
  },
  {
   "cell_type": "code",
   "execution_count": 56,
   "id": "1e348fb1-b9c3-45bc-ba23-f016827a7e0d",
   "metadata": {
    "execution": {
     "iopub.execute_input": "2025-08-05T14:49:59.357827Z",
     "iopub.status.busy": "2025-08-05T14:49:59.357444Z",
     "iopub.status.idle": "2025-08-05T14:49:59.363963Z",
     "shell.execute_reply": "2025-08-05T14:49:59.363098Z"
    },
    "papermill": {
     "duration": 0.033516,
     "end_time": "2025-08-05T14:49:59.365993",
     "exception": false,
     "start_time": "2025-08-05T14:49:59.332477",
     "status": "completed"
    },
    "tags": []
   },
   "outputs": [
    {
     "data": {
      "text/plain": [
       "{'frau1': 0.9113896751583771,\n",
       " 'nongerman': 0.9102340986919666,\n",
       " 'nongerman_male': 0.9257858236512654,\n",
       " 'nongerman_female': 0.8845007451564829}"
      ]
     },
     "execution_count": 56,
     "metadata": {},
     "output_type": "execute_result"
    }
   ],
   "source": [
    "cond_coverage"
   ]
  },
  {
   "cell_type": "code",
   "execution_count": 57,
   "id": "f5093324-c3dd-4d63-bc4c-8d945e5c8bbb",
   "metadata": {
    "execution": {
     "iopub.execute_input": "2025-08-05T14:49:59.412753Z",
     "iopub.status.busy": "2025-08-05T14:49:59.412359Z",
     "iopub.status.idle": "2025-08-05T14:49:59.419681Z",
     "shell.execute_reply": "2025-08-05T14:49:59.418770Z"
    },
    "papermill": {
     "duration": 0.031937,
     "end_time": "2025-08-05T14:49:59.421224",
     "exception": false,
     "start_time": "2025-08-05T14:49:59.389287",
     "status": "completed"
    },
    "tags": []
   },
   "outputs": [],
   "source": [
    "for subgroup, cov in cond_coverage.items():\n",
    "    cp_metrics_df[f\"cov_{subgroup}\"] = cov"
   ]
  },
  {
   "cell_type": "code",
   "execution_count": 58,
   "id": "6e872e10-dbe5-49e8-b554-5030c98ff75d",
   "metadata": {
    "execution": {
     "iopub.execute_input": "2025-08-05T14:49:59.474929Z",
     "iopub.status.busy": "2025-08-05T14:49:59.473884Z",
     "iopub.status.idle": "2025-08-05T14:49:59.490294Z",
     "shell.execute_reply": "2025-08-05T14:49:59.488989Z"
    },
    "papermill": {
     "duration": 0.046377,
     "end_time": "2025-08-05T14:49:59.492371",
     "exception": false,
     "start_time": "2025-08-05T14:49:59.445994",
     "status": "completed"
    },
    "tags": []
   },
   "outputs": [
    {
     "data": {
      "text/html": [
       "<div>\n",
       "<style scoped>\n",
       "    .dataframe tbody tr th:only-of-type {\n",
       "        vertical-align: middle;\n",
       "    }\n",
       "\n",
       "    .dataframe tbody tr th {\n",
       "        vertical-align: top;\n",
       "    }\n",
       "\n",
       "    .dataframe thead th {\n",
       "        text-align: right;\n",
       "    }\n",
       "</style>\n",
       "<table border=\"1\" class=\"dataframe\">\n",
       "  <thead>\n",
       "    <tr style=\"text-align: right;\">\n",
       "      <th></th>\n",
       "      <th>universe_id</th>\n",
       "      <th>universe_training_year</th>\n",
       "      <th>universe_training_size</th>\n",
       "      <th>universe_scale</th>\n",
       "      <th>universe_model</th>\n",
       "      <th>universe_exclude_features</th>\n",
       "      <th>universe_exclude_subgroups</th>\n",
       "      <th>q_hat</th>\n",
       "      <th>coverage</th>\n",
       "      <th>avg_size</th>\n",
       "      <th>cov_frau1</th>\n",
       "      <th>cov_nongerman</th>\n",
       "      <th>cov_nongerman_male</th>\n",
       "      <th>cov_nongerman_female</th>\n",
       "    </tr>\n",
       "  </thead>\n",
       "  <tbody>\n",
       "    <tr>\n",
       "      <th>0</th>\n",
       "      <td>b8fc0fe78241071ea616fa9dfa708251</td>\n",
       "      <td>2012_14</td>\n",
       "      <td>25k</td>\n",
       "      <td>scale</td>\n",
       "      <td>penalized_logreg</td>\n",
       "      <td>sex</td>\n",
       "      <td>keep-all</td>\n",
       "      <td>0.665018</td>\n",
       "      <td>0.911827</td>\n",
       "      <td>1.125181</td>\n",
       "      <td>0.91139</td>\n",
       "      <td>0.910234</td>\n",
       "      <td>0.925786</td>\n",
       "      <td>0.884501</td>\n",
       "    </tr>\n",
       "  </tbody>\n",
       "</table>\n",
       "</div>"
      ],
      "text/plain": [
       "                        universe_id universe_training_year  \\\n",
       "0  b8fc0fe78241071ea616fa9dfa708251                2012_14   \n",
       "\n",
       "  universe_training_size universe_scale    universe_model  \\\n",
       "0                    25k          scale  penalized_logreg   \n",
       "\n",
       "  universe_exclude_features universe_exclude_subgroups     q_hat  coverage  \\\n",
       "0                       sex                   keep-all  0.665018  0.911827   \n",
       "\n",
       "   avg_size  cov_frau1  cov_nongerman  cov_nongerman_male  \\\n",
       "0  1.125181    0.91139       0.910234            0.925786   \n",
       "\n",
       "   cov_nongerman_female  \n",
       "0              0.884501  "
      ]
     },
     "execution_count": 58,
     "metadata": {},
     "output_type": "execute_result"
    }
   ],
   "source": [
    "cp_metrics_df"
   ]
  },
  {
   "cell_type": "markdown",
   "id": "33774451",
   "metadata": {
    "papermill": {
     "duration": 0.028581,
     "end_time": "2025-08-05T14:49:59.549989",
     "exception": false,
     "start_time": "2025-08-05T14:49:59.521408",
     "status": "completed"
    },
    "tags": []
   },
   "source": [
    "# (Fairness) Metrics"
   ]
  },
  {
   "cell_type": "code",
   "execution_count": 59,
   "id": "debc5d62",
   "metadata": {
    "execution": {
     "iopub.execute_input": "2025-08-05T14:49:59.608147Z",
     "iopub.status.busy": "2025-08-05T14:49:59.607796Z",
     "iopub.status.idle": "2025-08-05T14:49:59.694349Z",
     "shell.execute_reply": "2025-08-05T14:49:59.693085Z"
    },
    "papermill": {
     "duration": 0.118006,
     "end_time": "2025-08-05T14:49:59.696370",
     "exception": false,
     "start_time": "2025-08-05T14:49:59.578364",
     "status": "completed"
    },
    "tags": []
   },
   "outputs": [],
   "source": [
    "# do I need to include maxdeutsch1.missing?\n",
    "\n",
    "import numpy as np\n",
    "\n",
    "colname_to_bin = \"maxdeutsch1\"\n",
    "majority_value = org_train[colname_to_bin].mode()[0]\n",
    "\n",
    "org_test[\"majmin\"] = np.where(org_test[colname_to_bin] == majority_value, \"majority\", \"minority\")"
   ]
  },
  {
   "cell_type": "code",
   "execution_count": 60,
   "id": "06a50de5",
   "metadata": {
    "execution": {
     "iopub.execute_input": "2025-08-05T14:49:59.749893Z",
     "iopub.status.busy": "2025-08-05T14:49:59.748994Z",
     "iopub.status.idle": "2025-08-05T14:50:01.794524Z",
     "shell.execute_reply": "2025-08-05T14:50:01.793481Z"
    },
    "papermill": {
     "duration": 2.073028,
     "end_time": "2025-08-05T14:50:01.796702",
     "exception": false,
     "start_time": "2025-08-05T14:49:59.723674",
     "status": "completed"
    },
    "tags": []
   },
   "outputs": [],
   "source": [
    "example_universe = universe.copy()\n",
    "example_universe[\"cutoff\"] = example_universe[\"cutoff\"][0]\n",
    "example_universe[\"eval_fairness_grouping\"] = example_universe[\"eval_fairness_grouping\"][0]\n",
    "fairness_dict, metric_frame = universe_analysis.compute_metrics(\n",
    "    example_universe,\n",
    "    y_pred_prob=probs_test,\n",
    "    y_test=y_true,\n",
    "    org_test=org_test,\n",
    ")"
   ]
  },
  {
   "cell_type": "markdown",
   "id": "f95d4e02",
   "metadata": {
    "papermill": {
     "duration": 0.018997,
     "end_time": "2025-08-05T14:50:01.850597",
     "exception": false,
     "start_time": "2025-08-05T14:50:01.831600",
     "status": "completed"
    },
    "tags": []
   },
   "source": [
    "# Overall"
   ]
  },
  {
   "cell_type": "markdown",
   "id": "bdee4871",
   "metadata": {
    "papermill": {
     "duration": 0.011365,
     "end_time": "2025-08-05T14:50:01.873460",
     "exception": false,
     "start_time": "2025-08-05T14:50:01.862095",
     "status": "completed"
    },
    "tags": []
   },
   "source": [
    "Fairness\n",
    "Main fairness target: Equalized Odds. Seems to be a better fit than equal opportunity, since we're not only interested in Y = 1. Seems to be a better fit than demographic parity, since we also care about accuracy, not just equal distribution of preds.\n",
    "\n",
    "Pick column for computation of fairness metrics\n",
    "\n",
    "Performance\n",
    "Overall performance measures, most interesting in relation to the measures split by group below"
   ]
  },
  {
   "cell_type": "code",
   "execution_count": 61,
   "id": "c4e067c6",
   "metadata": {
    "execution": {
     "iopub.execute_input": "2025-08-05T14:50:01.914372Z",
     "iopub.status.busy": "2025-08-05T14:50:01.913336Z",
     "iopub.status.idle": "2025-08-05T14:50:01.922628Z",
     "shell.execute_reply": "2025-08-05T14:50:01.921228Z"
    },
    "papermill": {
     "duration": 0.040465,
     "end_time": "2025-08-05T14:50:01.925027",
     "exception": false,
     "start_time": "2025-08-05T14:50:01.884562",
     "status": "completed"
    },
    "tags": []
   },
   "outputs": [
    {
     "data": {
      "text/plain": [
       "accuracy                   0.225426\n",
       "balanced accuracy          0.550978\n",
       "f1                         0.246729\n",
       "precision                  0.140948\n",
       "false positive rate        0.886921\n",
       "false negative rate        0.011123\n",
       "selection rate             0.900000\n",
       "count                  89710.000000\n",
       "dtype: float64"
      ]
     },
     "execution_count": 61,
     "metadata": {},
     "output_type": "execute_result"
    }
   ],
   "source": [
    "metric_frame.overall"
   ]
  },
  {
   "cell_type": "markdown",
   "id": "e968fe9d",
   "metadata": {
    "papermill": {
     "duration": 0.033846,
     "end_time": "2025-08-05T14:50:01.994565",
     "exception": false,
     "start_time": "2025-08-05T14:50:01.960719",
     "status": "completed"
    },
    "tags": []
   },
   "source": [
    "By Group"
   ]
  },
  {
   "cell_type": "code",
   "execution_count": 62,
   "id": "ec325bce",
   "metadata": {
    "execution": {
     "iopub.execute_input": "2025-08-05T14:50:02.067277Z",
     "iopub.status.busy": "2025-08-05T14:50:02.065637Z",
     "iopub.status.idle": "2025-08-05T14:50:02.081733Z",
     "shell.execute_reply": "2025-08-05T14:50:02.080745Z"
    },
    "papermill": {
     "duration": 0.052689,
     "end_time": "2025-08-05T14:50:02.083545",
     "exception": false,
     "start_time": "2025-08-05T14:50:02.030856",
     "status": "completed"
    },
    "tags": []
   },
   "outputs": [
    {
     "data": {
      "text/html": [
       "<div>\n",
       "<style scoped>\n",
       "    .dataframe tbody tr th:only-of-type {\n",
       "        vertical-align: middle;\n",
       "    }\n",
       "\n",
       "    .dataframe tbody tr th {\n",
       "        vertical-align: top;\n",
       "    }\n",
       "\n",
       "    .dataframe thead th {\n",
       "        text-align: right;\n",
       "    }\n",
       "</style>\n",
       "<table border=\"1\" class=\"dataframe\">\n",
       "  <thead>\n",
       "    <tr style=\"text-align: right;\">\n",
       "      <th></th>\n",
       "      <th>accuracy</th>\n",
       "      <th>balanced accuracy</th>\n",
       "      <th>f1</th>\n",
       "      <th>precision</th>\n",
       "      <th>false positive rate</th>\n",
       "      <th>false negative rate</th>\n",
       "      <th>selection rate</th>\n",
       "      <th>count</th>\n",
       "    </tr>\n",
       "    <tr>\n",
       "      <th>majmin</th>\n",
       "      <th></th>\n",
       "      <th></th>\n",
       "      <th></th>\n",
       "      <th></th>\n",
       "      <th></th>\n",
       "      <th></th>\n",
       "      <th></th>\n",
       "      <th></th>\n",
       "    </tr>\n",
       "  </thead>\n",
       "  <tbody>\n",
       "    <tr>\n",
       "      <th>majority</th>\n",
       "      <td>0.246899</td>\n",
       "      <td>0.560877</td>\n",
       "      <td>0.257377</td>\n",
       "      <td>0.147969</td>\n",
       "      <td>0.865884</td>\n",
       "      <td>0.012363</td>\n",
       "      <td>0.881972</td>\n",
       "      <td>69170.0</td>\n",
       "    </tr>\n",
       "    <tr>\n",
       "      <th>minority</th>\n",
       "      <td>0.153116</td>\n",
       "      <td>0.518625</td>\n",
       "      <td>0.212932</td>\n",
       "      <td>0.119242</td>\n",
       "      <td>0.956416</td>\n",
       "      <td>0.006334</td>\n",
       "      <td>0.960711</td>\n",
       "      <td>20540.0</td>\n",
       "    </tr>\n",
       "  </tbody>\n",
       "</table>\n",
       "</div>"
      ],
      "text/plain": [
       "          accuracy  balanced accuracy        f1  precision  \\\n",
       "majmin                                                       \n",
       "majority  0.246899           0.560877  0.257377   0.147969   \n",
       "minority  0.153116           0.518625  0.212932   0.119242   \n",
       "\n",
       "          false positive rate  false negative rate  selection rate    count  \n",
       "majmin                                                                       \n",
       "majority             0.865884             0.012363        0.881972  69170.0  \n",
       "minority             0.956416             0.006334        0.960711  20540.0  "
      ]
     },
     "execution_count": 62,
     "metadata": {},
     "output_type": "execute_result"
    }
   ],
   "source": [
    "metric_frame.by_group"
   ]
  },
  {
   "cell_type": "code",
   "execution_count": 63,
   "id": "a9ddbe63",
   "metadata": {
    "execution": {
     "iopub.execute_input": "2025-08-05T14:50:02.129285Z",
     "iopub.status.busy": "2025-08-05T14:50:02.128852Z",
     "iopub.status.idle": "2025-08-05T14:50:04.346629Z",
     "shell.execute_reply": "2025-08-05T14:50:04.345226Z"
    },
    "papermill": {
     "duration": 2.241822,
     "end_time": "2025-08-05T14:50:04.348360",
     "exception": false,
     "start_time": "2025-08-05T14:50:02.106538",
     "status": "completed"
    },
    "tags": []
   },
   "outputs": [
    {
     "data": {
      "text/plain": [
       "array([[<Axes: title={'center': 'accuracy'}, xlabel='majmin'>,\n",
       "        <Axes: title={'center': 'balanced accuracy'}, xlabel='majmin'>,\n",
       "        <Axes: title={'center': 'f1'}, xlabel='majmin'>],\n",
       "       [<Axes: title={'center': 'precision'}, xlabel='majmin'>,\n",
       "        <Axes: title={'center': 'false positive rate'}, xlabel='majmin'>,\n",
       "        <Axes: title={'center': 'false negative rate'}, xlabel='majmin'>],\n",
       "       [<Axes: title={'center': 'selection rate'}, xlabel='majmin'>,\n",
       "        <Axes: title={'center': 'count'}, xlabel='majmin'>,\n",
       "        <Axes: xlabel='majmin'>]], dtype=object)"
      ]
     },
     "execution_count": 63,
     "metadata": {},
     "output_type": "execute_result"
    },
    {
     "data": {
      "image/png": "[encoded data removed]",
      "text/plain": [
       "<Figure size 1200x800 with 9 Axes>"
      ]
     },
     "metadata": {},
     "output_type": "display_data"
    }
   ],
   "source": [
    "# In a graphic\n",
    "metric_frame.by_group.plot.bar(\n",
    "    subplots=True,\n",
    "    layout=[3, 3],\n",
    "    legend=False,\n",
    "    figsize=[12, 8],\n",
    "    title=\"Show all metrics\",\n",
    ")"
   ]
  },
  {
   "cell_type": "markdown",
   "id": "f57a0bac",
   "metadata": {
    "papermill": {
     "duration": 0.023351,
     "end_time": "2025-08-05T14:50:04.397016",
     "exception": false,
     "start_time": "2025-08-05T14:50:04.373665",
     "status": "completed"
    },
    "tags": []
   },
   "source": [
    "# Final Output"
   ]
  },
  {
   "cell_type": "code",
   "execution_count": 64,
   "id": "96d280a3",
   "metadata": {
    "execution": {
     "iopub.execute_input": "2025-08-05T14:50:04.444783Z",
     "iopub.status.busy": "2025-08-05T14:50:04.443961Z",
     "iopub.status.idle": "2025-08-05T14:50:04.452809Z",
     "shell.execute_reply": "2025-08-05T14:50:04.451751Z"
    },
    "papermill": {
     "duration": 0.035033,
     "end_time": "2025-08-05T14:50:04.454406",
     "exception": false,
     "start_time": "2025-08-05T14:50:04.419373",
     "status": "completed"
    },
    "tags": []
   },
   "outputs": [
    {
     "data": {
      "text/plain": [
       "4"
      ]
     },
     "execution_count": 64,
     "metadata": {},
     "output_type": "execute_result"
    }
   ],
   "source": [
    "sub_universes = universe_analysis.generate_sub_universes()\n",
    "len(sub_universes)"
   ]
  },
  {
   "cell_type": "code",
   "execution_count": 65,
   "id": "92adf7ba",
   "metadata": {
    "execution": {
     "iopub.execute_input": "2025-08-05T14:50:04.503132Z",
     "iopub.status.busy": "2025-08-05T14:50:04.502639Z",
     "iopub.status.idle": "2025-08-05T14:50:04.508341Z",
     "shell.execute_reply": "2025-08-05T14:50:04.507461Z"
    },
    "papermill": {
     "duration": 0.031627,
     "end_time": "2025-08-05T14:50:04.509782",
     "exception": false,
     "start_time": "2025-08-05T14:50:04.478155",
     "status": "completed"
    },
    "tags": []
   },
   "outputs": [],
   "source": [
    "def filter_sub_universe_data(sub_universe, org_test):\n",
    "    # Keep all rows — no filtering\n",
    "    keep_rows_mask = np.ones(org_test.shape[0], dtype=bool)\n",
    "\n",
    "    print(f\"[INFO] Keeping all rows: {keep_rows_mask.sum()} rows retained.\")\n",
    "    return keep_rows_mask"
   ]
  },
  {
   "cell_type": "code",
   "execution_count": 66,
   "id": "4a759155",
   "metadata": {
    "execution": {
     "iopub.execute_input": "2025-08-05T14:50:04.558378Z",
     "iopub.status.busy": "2025-08-05T14:50:04.557794Z",
     "iopub.status.idle": "2025-08-05T14:50:11.397457Z",
     "shell.execute_reply": "2025-08-05T14:50:11.396443Z"
    },
    "papermill": {
     "duration": 6.865663,
     "end_time": "2025-08-05T14:50:11.399083",
     "exception": false,
     "start_time": "2025-08-05T14:50:04.533420",
     "status": "completed"
    },
    "tags": []
   },
   "outputs": [
    {
     "name": "stdout",
     "output_type": "stream",
     "text": [
      "Stopping execution_time clock.\n",
      "[INFO] Keeping all rows: 89710 rows retained.\n"
     ]
    },
    {
     "name": "stdout",
     "output_type": "stream",
     "text": [
      "[INFO] Keeping all rows: 89710 rows retained.\n"
     ]
    },
    {
     "name": "stdout",
     "output_type": "stream",
     "text": [
      "[INFO] Keeping all rows: 89710 rows retained.\n"
     ]
    },
    {
     "name": "stdout",
     "output_type": "stream",
     "text": [
      "[INFO] Keeping all rows: 89710 rows retained.\n"
     ]
    },
    {
     "data": {
      "text/html": [
       "<div>\n",
       "<style scoped>\n",
       "    .dataframe tbody tr th:only-of-type {\n",
       "        vertical-align: middle;\n",
       "    }\n",
       "\n",
       "    .dataframe tbody tr th {\n",
       "        vertical-align: top;\n",
       "    }\n",
       "\n",
       "    .dataframe thead th {\n",
       "        text-align: right;\n",
       "    }\n",
       "</style>\n",
       "<table border=\"1\" class=\"dataframe\">\n",
       "  <thead>\n",
       "    <tr style=\"text-align: right;\">\n",
       "      <th></th>\n",
       "      <th>run_no</th>\n",
       "      <th>universe_id</th>\n",
       "      <th>universe_settings</th>\n",
       "      <th>execution_time</th>\n",
       "      <th>test_size_n</th>\n",
       "      <th>test_size_frac</th>\n",
       "      <th>fair_main_equalized_odds_difference</th>\n",
       "      <th>fair_main_equalized_odds_ratio</th>\n",
       "      <th>fair_main_demographic_parity_difference</th>\n",
       "      <th>fair_main_demographic_parity_ratio</th>\n",
       "      <th>...</th>\n",
       "      <th>perf_grp_precision_0</th>\n",
       "      <th>perf_grp_precision_1</th>\n",
       "      <th>perf_grp_false positive rate_0</th>\n",
       "      <th>perf_grp_false positive rate_1</th>\n",
       "      <th>perf_grp_false negative rate_0</th>\n",
       "      <th>perf_grp_false negative rate_1</th>\n",
       "      <th>perf_grp_selection rate_0</th>\n",
       "      <th>perf_grp_selection rate_1</th>\n",
       "      <th>perf_grp_count_0</th>\n",
       "      <th>perf_grp_count_1</th>\n",
       "    </tr>\n",
       "  </thead>\n",
       "  <tbody>\n",
       "    <tr>\n",
       "      <th>0</th>\n",
       "      <td>15</td>\n",
       "      <td>b8fc0fe78241071ea616fa9dfa708251</td>\n",
       "      <td>{\"cutoff\": \"quantile_0.1\", \"eval_fairness_grou...</td>\n",
       "      <td>28.328757</td>\n",
       "      <td>89710</td>\n",
       "      <td>1.0</td>\n",
       "      <td>0.090533</td>\n",
       "      <td>0.905342</td>\n",
       "      <td>0.078739</td>\n",
       "      <td>0.918041</td>\n",
       "      <td>...</td>\n",
       "      <td>NaN</td>\n",
       "      <td>NaN</td>\n",
       "      <td>NaN</td>\n",
       "      <td>NaN</td>\n",
       "      <td>NaN</td>\n",
       "      <td>NaN</td>\n",
       "      <td>NaN</td>\n",
       "      <td>NaN</td>\n",
       "      <td>NaN</td>\n",
       "      <td>NaN</td>\n",
       "    </tr>\n",
       "    <tr>\n",
       "      <th>0</th>\n",
       "      <td>15</td>\n",
       "      <td>b8fc0fe78241071ea616fa9dfa708251</td>\n",
       "      <td>{\"cutoff\": \"quantile_0.1\", \"eval_fairness_grou...</td>\n",
       "      <td>28.328757</td>\n",
       "      <td>89710</td>\n",
       "      <td>1.0</td>\n",
       "      <td>0.090533</td>\n",
       "      <td>0.905342</td>\n",
       "      <td>0.078739</td>\n",
       "      <td>0.918041</td>\n",
       "      <td>...</td>\n",
       "      <td>0.119242</td>\n",
       "      <td>0.147969</td>\n",
       "      <td>0.956416</td>\n",
       "      <td>0.865884</td>\n",
       "      <td>0.006334</td>\n",
       "      <td>0.012363</td>\n",
       "      <td>0.960711</td>\n",
       "      <td>0.881972</td>\n",
       "      <td>20540.0</td>\n",
       "      <td>69170.0</td>\n",
       "    </tr>\n",
       "    <tr>\n",
       "      <th>0</th>\n",
       "      <td>15</td>\n",
       "      <td>b8fc0fe78241071ea616fa9dfa708251</td>\n",
       "      <td>{\"cutoff\": \"quantile_0.25\", \"eval_fairness_gro...</td>\n",
       "      <td>28.328757</td>\n",
       "      <td>89710</td>\n",
       "      <td>1.0</td>\n",
       "      <td>0.152651</td>\n",
       "      <td>0.817717</td>\n",
       "      <td>0.132102</td>\n",
       "      <td>0.844924</td>\n",
       "      <td>...</td>\n",
       "      <td>NaN</td>\n",
       "      <td>NaN</td>\n",
       "      <td>NaN</td>\n",
       "      <td>NaN</td>\n",
       "      <td>NaN</td>\n",
       "      <td>NaN</td>\n",
       "      <td>NaN</td>\n",
       "      <td>NaN</td>\n",
       "      <td>NaN</td>\n",
       "      <td>NaN</td>\n",
       "    </tr>\n",
       "    <tr>\n",
       "      <th>0</th>\n",
       "      <td>15</td>\n",
       "      <td>b8fc0fe78241071ea616fa9dfa708251</td>\n",
       "      <td>{\"cutoff\": \"quantile_0.25\", \"eval_fairness_gro...</td>\n",
       "      <td>28.328757</td>\n",
       "      <td>89710</td>\n",
       "      <td>1.0</td>\n",
       "      <td>0.152651</td>\n",
       "      <td>0.817717</td>\n",
       "      <td>0.132102</td>\n",
       "      <td>0.844924</td>\n",
       "      <td>...</td>\n",
       "      <td>0.130251</td>\n",
       "      <td>0.174289</td>\n",
       "      <td>0.837442</td>\n",
       "      <td>0.684791</td>\n",
       "      <td>0.037584</td>\n",
       "      <td>0.050656</td>\n",
       "      <td>0.851850</td>\n",
       "      <td>0.719748</td>\n",
       "      <td>20540.0</td>\n",
       "      <td>69170.0</td>\n",
       "    </tr>\n",
       "  </tbody>\n",
       "</table>\n",
       "<p>4 rows × 50 columns</p>\n",
       "</div>"
      ],
      "text/plain": [
       "  run_no                       universe_id  \\\n",
       "0     15  b8fc0fe78241071ea616fa9dfa708251   \n",
       "0     15  b8fc0fe78241071ea616fa9dfa708251   \n",
       "0     15  b8fc0fe78241071ea616fa9dfa708251   \n",
       "0     15  b8fc0fe78241071ea616fa9dfa708251   \n",
       "\n",
       "                                   universe_settings  execution_time  \\\n",
       "0  {\"cutoff\": \"quantile_0.1\", \"eval_fairness_grou...       28.328757   \n",
       "0  {\"cutoff\": \"quantile_0.1\", \"eval_fairness_grou...       28.328757   \n",
       "0  {\"cutoff\": \"quantile_0.25\", \"eval_fairness_gro...       28.328757   \n",
       "0  {\"cutoff\": \"quantile_0.25\", \"eval_fairness_gro...       28.328757   \n",
       "\n",
       "   test_size_n  test_size_frac  fair_main_equalized_odds_difference  \\\n",
       "0        89710             1.0                             0.090533   \n",
       "0        89710             1.0                             0.090533   \n",
       "0        89710             1.0                             0.152651   \n",
       "0        89710             1.0                             0.152651   \n",
       "\n",
       "   fair_main_equalized_odds_ratio  fair_main_demographic_parity_difference  \\\n",
       "0                        0.905342                                 0.078739   \n",
       "0                        0.905342                                 0.078739   \n",
       "0                        0.817717                                 0.132102   \n",
       "0                        0.817717                                 0.132102   \n",
       "\n",
       "   fair_main_demographic_parity_ratio  ...  perf_grp_precision_0  \\\n",
       "0                            0.918041  ...                   NaN   \n",
       "0                            0.918041  ...              0.119242   \n",
       "0                            0.844924  ...                   NaN   \n",
       "0                            0.844924  ...              0.130251   \n",
       "\n",
       "   perf_grp_precision_1  perf_grp_false positive rate_0  \\\n",
       "0                   NaN                             NaN   \n",
       "0              0.147969                        0.956416   \n",
       "0                   NaN                             NaN   \n",
       "0              0.174289                        0.837442   \n",
       "\n",
       "   perf_grp_false positive rate_1  perf_grp_false negative rate_0  \\\n",
       "0                             NaN                             NaN   \n",
       "0                        0.865884                        0.006334   \n",
       "0                             NaN                             NaN   \n",
       "0                        0.684791                        0.037584   \n",
       "\n",
       "   perf_grp_false negative rate_1  perf_grp_selection rate_0  \\\n",
       "0                             NaN                        NaN   \n",
       "0                        0.012363                   0.960711   \n",
       "0                             NaN                        NaN   \n",
       "0                        0.050656                   0.851850   \n",
       "\n",
       "   perf_grp_selection rate_1  perf_grp_count_0  perf_grp_count_1  \n",
       "0                        NaN               NaN               NaN  \n",
       "0                   0.881972           20540.0           69170.0  \n",
       "0                        NaN               NaN               NaN  \n",
       "0                   0.719748           20540.0           69170.0  \n",
       "\n",
       "[4 rows x 50 columns]"
      ]
     },
     "execution_count": 66,
     "metadata": {},
     "output_type": "execute_result"
    }
   ],
   "source": [
    "final_output = universe_analysis.generate_final_output(\n",
    "    y_pred_prob=probs_test,\n",
    "    y_test=y_true,\n",
    "    org_test=org_test,\n",
    "    filter_data=filter_sub_universe_data,\n",
    "    cp_metrics_df=cp_metrics_df,\n",
    "    save=True,\n",
    ")\n",
    "final_output"
   ]
  }
 ],
 "metadata": {
  "celltoolbar": "Tags",
  "kernelspec": {
   "display_name": "Python (CMA Fairness)",
   "language": "python",
   "name": "cma_fair_env"
  },
  "language_info": {
   "codemirror_mode": {
    "name": "ipython",
    "version": 3
   },
   "file_extension": ".py",
   "mimetype": "text/x-python",
   "name": "python",
   "nbconvert_exporter": "python",
   "pygments_lexer": "ipython3",
   "version": "3.10.12"
  },
  "papermill": {
   "default_parameters": {},
   "duration": 39.023488,
   "end_time": "2025-08-05T14:50:12.148145",
   "environment_variables": {},
   "exception": null,
   "input_path": "universe_analysis.ipynb",
   "output_path": "output/runs/15/notebooks/m_15-b8fc0fe78241071ea616fa9dfa708251.ipynb",
   "parameters": {
    "output_dir": "output",
    "run_no": "15",
    "seed": "2023",
    "universe": "{\"cutoff\": [\"quantile_0.1\", \"quantile_0.25\"], \"eval_fairness_grouping\": [\"majority-minority\", \"nationality-all\"], \"exclude_features\": \"sex\", \"exclude_subgroups\": \"keep-all\", \"model\": \"penalized_logreg\", \"scale\": \"scale\", \"training_size\": \"25k\", \"training_year\": \"2012_14\"}",
    "universe_id": "b8fc0fe78241071ea616fa9dfa708251"
   },
   "start_time": "2025-08-05T14:49:33.124657",
   "version": "2.6.0"
  }
 },
 "nbformat": 4,
 "nbformat_minor": 5
}