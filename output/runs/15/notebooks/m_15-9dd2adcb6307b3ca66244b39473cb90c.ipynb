{
 "cells": [
  {
   "cell_type": "code",
   "execution_count": 1,
   "id": "f159f837-637b-42ba-96b5-ec9a68c44524",
   "metadata": {
    "execution": {
     "iopub.execute_input": "2025-08-05T15:49:30.728922Z",
     "iopub.status.busy": "2025-08-05T15:49:30.728259Z",
     "iopub.status.idle": "2025-08-05T15:49:30.746706Z",
     "shell.execute_reply": "2025-08-05T15:49:30.745570Z"
    },
    "papermill": {
     "duration": 0.031489,
     "end_time": "2025-08-05T15:49:30.749161",
     "exception": false,
     "start_time": "2025-08-05T15:49:30.717672",
     "status": "completed"
    },
    "tags": []
   },
   "outputs": [
    {
     "name": "stdout",
     "output_type": "stream",
     "text": [
      "/dss/dsshome1/0C/ra93lal2/cma/CMA_Fairness_v2\n"
     ]
    },
    {
     "name": "stderr",
     "output_type": "stream",
     "text": [
      "/dss/dsshome1/0C/ra93lal2/.local/share/virtualenvs/CMA_Fairness_v2-3j10GkSs/lib/python3.10/site-packages/IPython/core/magics/osm.py:393: UserWarning: This is now an optional IPython functionality, using bookmarks requires you to install the `pickleshare` library.\n",
      "  bkms = self.shell.db.get('bookmarks', {})\n",
      "/dss/dsshome1/0C/ra93lal2/.local/share/virtualenvs/CMA_Fairness_v2-3j10GkSs/lib/python3.10/site-packages/IPython/core/magics/osm.py:417: UserWarning: This is now an optional IPython functionality, setting dhist requires you to install the `pickleshare` library.\n",
      "  self.shell.db['dhist'] = compress_dhist(dhist)[-100:]\n"
     ]
    }
   ],
   "source": [
    "%cd ~/cma/CMA_Fairness_v2"
   ]
  },
  {
   "cell_type": "markdown",
   "id": "de2603b9",
   "metadata": {
    "papermill": {
     "duration": 0.024981,
     "end_time": "2025-08-05T15:49:30.799478",
     "exception": false,
     "start_time": "2025-08-05T15:49:30.774497",
     "status": "completed"
    },
    "tags": []
   },
   "source": [
    "The following cell holds the definition of our parameters, these values can be overriden by rendering the with e.g. the following command:\n",
    "\n",
    "papermill -p alpha 0.2 -p ratio 0.3 universe_analysis.ipynb output/test_run.ipynb"
   ]
  },
  {
   "cell_type": "code",
   "execution_count": 2,
   "id": "a80968a0-40bb-4fa9-85ef-2d5eefb01975",
   "metadata": {
    "execution": {
     "iopub.execute_input": "2025-08-05T15:49:30.853620Z",
     "iopub.status.busy": "2025-08-05T15:49:30.852777Z",
     "iopub.status.idle": "2025-08-05T15:49:30.860651Z",
     "shell.execute_reply": "2025-08-05T15:49:30.859209Z"
    },
    "papermill": {
     "duration": 0.038387,
     "end_time": "2025-08-05T15:49:30.863320",
     "exception": false,
     "start_time": "2025-08-05T15:49:30.824933",
     "status": "completed"
    },
    "tags": []
   },
   "outputs": [
    {
     "name": "stdout",
     "output_type": "stream",
     "text": [
      "Current working directory: /dss/dsshome1/0C/ra93lal2/cma/CMA_Fairness_v2\n"
     ]
    }
   ],
   "source": [
    "import os\n",
    "print(\"Current working directory:\", os.getcwd())"
   ]
  },
  {
   "cell_type": "code",
   "execution_count": 3,
   "id": "2dce4c03",
   "metadata": {
    "execution": {
     "iopub.execute_input": "2025-08-05T15:49:30.917634Z",
     "iopub.status.busy": "2025-08-05T15:49:30.917140Z",
     "iopub.status.idle": "2025-08-05T15:49:30.925178Z",
     "shell.execute_reply": "2025-08-05T15:49:30.923522Z"
    },
    "papermill": {
     "duration": 0.037709,
     "end_time": "2025-08-05T15:49:30.927864",
     "exception": false,
     "start_time": "2025-08-05T15:49:30.890155",
     "status": "completed"
    },
    "tags": [
     "parameters"
    ]
   },
   "outputs": [],
   "source": [
    "run_no = 0\n",
    "universe_id = \"test\"\n",
    "universe = {\n",
    "    \"training_size\": \"25k\", # \"25k\", \"5k\", \"1k\"\n",
    "    \"training_year\": \"2014\", # \"2014\", \"2012_14\", \"2010_14\"\n",
    "    \"scale\": \"scale\", # \"scale\", \"do-not-scale\",\n",
    "    \"model\": \"elasticnet\", # \"logreg\", \"penalized_logreg\", \"rf\", \"gbm\", \"elasticnet\"\n",
    "    \"cutoff\": [\"quantile_0.15\", \"quantile_0.30\"],\n",
    "    \"exclude_features\": \"age\", # \"none\", \"nationality\", \"sex\", \"nationality-sex\", \"age\"\n",
    "    \"exclude_subgroups\": \"keep-all\", # \"keep-all\", \"drop-non-german\"\n",
    "    \"eval_fairness_grouping\": [\"majority-minority\", \"nationality-all\"]\n",
    "}\n",
    "\n",
    "output_dir=\"./output\"\n",
    "seed=0"
   ]
  },
  {
   "cell_type": "code",
   "execution_count": 4,
   "id": "c76dd3a9",
   "metadata": {
    "execution": {
     "iopub.execute_input": "2025-08-05T15:49:30.980044Z",
     "iopub.status.busy": "2025-08-05T15:49:30.979372Z",
     "iopub.status.idle": "2025-08-05T15:49:30.985758Z",
     "shell.execute_reply": "2025-08-05T15:49:30.984403Z"
    },
    "papermill": {
     "duration": 0.035356,
     "end_time": "2025-08-05T15:49:30.988321",
     "exception": false,
     "start_time": "2025-08-05T15:49:30.952965",
     "status": "completed"
    },
    "tags": [
     "injected-parameters"
    ]
   },
   "outputs": [],
   "source": [
    "# Parameters\n",
    "universe_id = \"9dd2adcb6307b3ca66244b39473cb90c\"\n",
    "run_no = \"15\"\n",
    "universe = \"{\\\"cutoff\\\": [\\\"quantile_0.1\\\", \\\"quantile_0.25\\\"], \\\"eval_fairness_grouping\\\": [\\\"majority-minority\\\", \\\"nationality-all\\\"], \\\"exclude_features\\\": \\\"nationality-sex\\\", \\\"exclude_subgroups\\\": \\\"keep-all\\\", \\\"model\\\": \\\"penalized_logreg\\\", \\\"scale\\\": \\\"scale\\\", \\\"training_size\\\": \\\"5k\\\", \\\"training_year\\\": \\\"2010_14\\\"}\"\n",
    "output_dir = \"output\"\n",
    "seed = \"2023\"\n"
   ]
  },
  {
   "cell_type": "code",
   "execution_count": 5,
   "id": "1650acaf",
   "metadata": {
    "execution": {
     "iopub.execute_input": "2025-08-05T15:49:31.043993Z",
     "iopub.status.busy": "2025-08-05T15:49:31.043462Z",
     "iopub.status.idle": "2025-08-05T15:49:31.049864Z",
     "shell.execute_reply": "2025-08-05T15:49:31.048739Z"
    },
    "papermill": {
     "duration": 0.037943,
     "end_time": "2025-08-05T15:49:31.052196",
     "exception": false,
     "start_time": "2025-08-05T15:49:31.014253",
     "status": "completed"
    },
    "tags": []
   },
   "outputs": [],
   "source": [
    "import json\n",
    "if isinstance(universe, str):\n",
    "    universe = json.loads(universe)"
   ]
  },
  {
   "cell_type": "code",
   "execution_count": 6,
   "id": "16620c48",
   "metadata": {
    "execution": {
     "iopub.execute_input": "2025-08-05T15:49:31.104661Z",
     "iopub.status.busy": "2025-08-05T15:49:31.104024Z",
     "iopub.status.idle": "2025-08-05T15:49:31.157094Z",
     "shell.execute_reply": "2025-08-05T15:49:31.155926Z"
    },
    "papermill": {
     "duration": 0.082476,
     "end_time": "2025-08-05T15:49:31.159999",
     "exception": false,
     "start_time": "2025-08-05T15:49:31.077523",
     "status": "completed"
    },
    "tags": []
   },
   "outputs": [],
   "source": [
    "# Auto-reload the custom package\n",
    "%load_ext autoreload\n",
    "%autoreload 1\n",
    "%aimport fairness_multiverse"
   ]
  },
  {
   "cell_type": "code",
   "execution_count": 7,
   "id": "01c5c9f3",
   "metadata": {
    "execution": {
     "iopub.execute_input": "2025-08-05T15:49:31.215087Z",
     "iopub.status.busy": "2025-08-05T15:49:31.214064Z",
     "iopub.status.idle": "2025-08-05T15:49:33.167495Z",
     "shell.execute_reply": "2025-08-05T15:49:33.166465Z"
    },
    "papermill": {
     "duration": 1.984138,
     "end_time": "2025-08-05T15:49:33.169591",
     "exception": false,
     "start_time": "2025-08-05T15:49:31.185453",
     "status": "completed"
    },
    "tags": []
   },
   "outputs": [],
   "source": [
    "from fairness_multiverse.universe import UniverseAnalysis\n",
    "\n",
    "universe_analysis = UniverseAnalysis(\n",
    "    run_no = run_no,\n",
    "    universe_id = universe_id,\n",
    "    universe = universe,\n",
    "    output_dir=output_dir,\n",
    ")"
   ]
  },
  {
   "cell_type": "code",
   "execution_count": 8,
   "id": "106241f5",
   "metadata": {
    "execution": {
     "iopub.execute_input": "2025-08-05T15:49:33.215199Z",
     "iopub.status.busy": "2025-08-05T15:49:33.214576Z",
     "iopub.status.idle": "2025-08-05T15:49:33.222818Z",
     "shell.execute_reply": "2025-08-05T15:49:33.221629Z"
    },
    "papermill": {
     "duration": 0.034737,
     "end_time": "2025-08-05T15:49:33.225000",
     "exception": false,
     "start_time": "2025-08-05T15:49:33.190263",
     "status": "completed"
    },
    "tags": []
   },
   "outputs": [
    {
     "name": "stdout",
     "output_type": "stream",
     "text": [
      "Using Seed: 2023\n"
     ]
    }
   ],
   "source": [
    "import numpy as np\n",
    "parsed_seed = int(seed)\n",
    "np.random.seed(parsed_seed)\n",
    "print(f\"Using Seed: {parsed_seed}\")"
   ]
  },
  {
   "cell_type": "markdown",
   "id": "e0ebdc57",
   "metadata": {
    "papermill": {
     "duration": 0.019595,
     "end_time": "2025-08-05T15:49:33.264355",
     "exception": false,
     "start_time": "2025-08-05T15:49:33.244760",
     "status": "completed"
    },
    "tags": []
   },
   "source": [
    "# Loading Data"
   ]
  },
  {
   "cell_type": "code",
   "execution_count": 9,
   "id": "f0496b8a",
   "metadata": {
    "execution": {
     "iopub.execute_input": "2025-08-05T15:49:33.305307Z",
     "iopub.status.busy": "2025-08-05T15:49:33.304363Z",
     "iopub.status.idle": "2025-08-05T15:49:46.441684Z",
     "shell.execute_reply": "2025-08-05T15:49:46.440369Z"
    },
    "papermill": {
     "duration": 13.159854,
     "end_time": "2025-08-05T15:49:46.443458",
     "exception": false,
     "start_time": "2025-08-05T15:49:33.283604",
     "status": "completed"
    },
    "tags": []
   },
   "outputs": [
    {
     "name": "stdout",
     "output_type": "stream",
     "text": [
      "Loading SIAB data from cache: data/siab_cached.csv.gz\n"
     ]
    },
    {
     "name": "stdout",
     "output_type": "stream",
     "text": [
      "(643690, 164)\n"
     ]
    }
   ],
   "source": [
    "from pathlib import Path\n",
    "import pandas as pd\n",
    "\n",
    "# File paths\n",
    "raw_file = Path(\"data/raw/siab.csv\")\n",
    "cache_file = Path(\"data/siab_cached.csv.gz\")\n",
    "\n",
    "# Ensure cache directory exists\n",
    "cache_file.parent.mkdir(parents=True, exist_ok=True)\n",
    "\n",
    "# Load with simple caching\n",
    "if cache_file.exists():\n",
    "    print(f\"Loading SIAB data from cache: {cache_file}\")\n",
    "    siab = pd.read_csv(cache_file, compression='gzip')\n",
    "else:\n",
    "    print(f\"Cache not found. Reading raw SIAB data: {raw_file}\")\n",
    "    siab = pd.read_csv(raw_file)\n",
    "    siab.to_csv(cache_file, index=False, compression='gzip')\n",
    "    print(f\"Cached SIAB data to: {cache_file}\")\n",
    "\n",
    "print(siab.shape)"
   ]
  },
  {
   "cell_type": "code",
   "execution_count": 10,
   "id": "db0ca512-5f53-4dba-abdb-a2888bca41ba",
   "metadata": {
    "execution": {
     "iopub.execute_input": "2025-08-05T15:49:46.486528Z",
     "iopub.status.busy": "2025-08-05T15:49:46.485932Z",
     "iopub.status.idle": "2025-08-05T15:49:46.492286Z",
     "shell.execute_reply": "2025-08-05T15:49:46.491297Z"
    },
    "papermill": {
     "duration": 0.02955,
     "end_time": "2025-08-05T15:49:46.494078",
     "exception": false,
     "start_time": "2025-08-05T15:49:46.464528",
     "status": "completed"
    },
    "tags": []
   },
   "outputs": [],
   "source": [
    "#siab"
   ]
  },
  {
   "cell_type": "markdown",
   "id": "997051c5-15bd-4b69-9786-c3001a3ce484",
   "metadata": {
    "papermill": {
     "duration": 0.019085,
     "end_time": "2025-08-05T15:49:46.532393",
     "exception": false,
     "start_time": "2025-08-05T15:49:46.513308",
     "status": "completed"
    },
    "tags": []
   },
   "source": [
    "# Splitting Data and Setting Training Data Size"
   ]
  },
  {
   "cell_type": "code",
   "execution_count": 11,
   "id": "aea9c6ef-6f46-42c8-85eb-5a62025c1508",
   "metadata": {
    "execution": {
     "iopub.execute_input": "2025-08-05T15:49:46.569601Z",
     "iopub.status.busy": "2025-08-05T15:49:46.568733Z",
     "iopub.status.idle": "2025-08-05T15:49:47.589026Z",
     "shell.execute_reply": "2025-08-05T15:49:47.588137Z"
    },
    "papermill": {
     "duration": 1.040503,
     "end_time": "2025-08-05T15:49:47.590866",
     "exception": false,
     "start_time": "2025-08-05T15:49:46.550363",
     "status": "completed"
    },
    "tags": []
   },
   "outputs": [],
   "source": [
    "from fairness_multiverse.universe import sample_by_year_size\n",
    "\n",
    "siab_train = sample_by_year_size(siab,\n",
    "                               training_year=universe[\"training_year\"],\n",
    "                               training_size=universe[\"training_size\"])"
   ]
  },
  {
   "cell_type": "code",
   "execution_count": 12,
   "id": "8d3afb32-789d-442c-8d5d-9f5aa8dd2eed",
   "metadata": {
    "execution": {
     "iopub.execute_input": "2025-08-05T15:49:47.626920Z",
     "iopub.status.busy": "2025-08-05T15:49:47.625971Z",
     "iopub.status.idle": "2025-08-05T15:49:47.631476Z",
     "shell.execute_reply": "2025-08-05T15:49:47.630479Z"
    },
    "papermill": {
     "duration": 0.025602,
     "end_time": "2025-08-05T15:49:47.633214",
     "exception": false,
     "start_time": "2025-08-05T15:49:47.607612",
     "status": "completed"
    },
    "tags": []
   },
   "outputs": [],
   "source": [
    "#siab_train.shape"
   ]
  },
  {
   "cell_type": "code",
   "execution_count": 13,
   "id": "d582db68-1a4c-47fb-84fc-08518dc1975a",
   "metadata": {
    "execution": {
     "iopub.execute_input": "2025-08-05T15:49:47.669156Z",
     "iopub.status.busy": "2025-08-05T15:49:47.668316Z",
     "iopub.status.idle": "2025-08-05T15:49:47.673373Z",
     "shell.execute_reply": "2025-08-05T15:49:47.672491Z"
    },
    "papermill": {
     "duration": 0.023972,
     "end_time": "2025-08-05T15:49:47.675172",
     "exception": false,
     "start_time": "2025-08-05T15:49:47.651200",
     "status": "completed"
    },
    "tags": []
   },
   "outputs": [],
   "source": [
    "#display(siab_train.groupby(\"year\").size())"
   ]
  },
  {
   "cell_type": "code",
   "execution_count": 14,
   "id": "a561edb4-d032-42cb-8256-22eac1111c64",
   "metadata": {
    "execution": {
     "iopub.execute_input": "2025-08-05T15:49:47.710540Z",
     "iopub.status.busy": "2025-08-05T15:49:47.709658Z",
     "iopub.status.idle": "2025-08-05T15:49:47.935178Z",
     "shell.execute_reply": "2025-08-05T15:49:47.934240Z"
    },
    "papermill": {
     "duration": 0.244848,
     "end_time": "2025-08-05T15:49:47.937272",
     "exception": false,
     "start_time": "2025-08-05T15:49:47.692424",
     "status": "completed"
    },
    "tags": []
   },
   "outputs": [],
   "source": [
    "#siab_train = siab_s[siab_s.year < 2015]\n",
    "siab_calib = siab[siab.year == 2015]\n",
    "siab_test = siab[siab.year == 2016]"
   ]
  },
  {
   "cell_type": "code",
   "execution_count": 15,
   "id": "472de16f-c3db-4916-846b-1f0de9cf1746",
   "metadata": {
    "execution": {
     "iopub.execute_input": "2025-08-05T15:49:47.973900Z",
     "iopub.status.busy": "2025-08-05T15:49:47.973212Z",
     "iopub.status.idle": "2025-08-05T15:49:47.981712Z",
     "shell.execute_reply": "2025-08-05T15:49:47.980671Z"
    },
    "papermill": {
     "duration": 0.028197,
     "end_time": "2025-08-05T15:49:47.983766",
     "exception": false,
     "start_time": "2025-08-05T15:49:47.955569",
     "status": "completed"
    },
    "tags": []
   },
   "outputs": [],
   "source": [
    "X_train = siab_train.iloc[:,4:164]\n",
    "y_train = siab_train.iloc[:, [3]]"
   ]
  },
  {
   "cell_type": "code",
   "execution_count": 16,
   "id": "828c96af-f43a-4ed6-ba47-8ac73a47d56c",
   "metadata": {
    "execution": {
     "iopub.execute_input": "2025-08-05T15:49:48.026525Z",
     "iopub.status.busy": "2025-08-05T15:49:48.025636Z",
     "iopub.status.idle": "2025-08-05T15:49:48.077577Z",
     "shell.execute_reply": "2025-08-05T15:49:48.076473Z"
    },
    "papermill": {
     "duration": 0.074135,
     "end_time": "2025-08-05T15:49:48.080160",
     "exception": false,
     "start_time": "2025-08-05T15:49:48.006025",
     "status": "completed"
    },
    "tags": []
   },
   "outputs": [],
   "source": [
    "X_calib = siab_calib.iloc[:,4:164]\n",
    "y_calib = siab_calib.iloc[:, [3]]"
   ]
  },
  {
   "cell_type": "code",
   "execution_count": 17,
   "id": "c34be9c3-6bd6-476e-acd3-845840e303be",
   "metadata": {
    "execution": {
     "iopub.execute_input": "2025-08-05T15:49:48.118580Z",
     "iopub.status.busy": "2025-08-05T15:49:48.117974Z",
     "iopub.status.idle": "2025-08-05T15:49:48.173842Z",
     "shell.execute_reply": "2025-08-05T15:49:48.172524Z"
    },
    "papermill": {
     "duration": 0.076311,
     "end_time": "2025-08-05T15:49:48.175866",
     "exception": false,
     "start_time": "2025-08-05T15:49:48.099555",
     "status": "completed"
    },
    "tags": []
   },
   "outputs": [],
   "source": [
    "X_test = siab_test.iloc[:,4:164]\n",
    "y_true = siab_test.iloc[:, [3]]"
   ]
  },
  {
   "cell_type": "code",
   "execution_count": 18,
   "id": "e6c733c5",
   "metadata": {
    "execution": {
     "iopub.execute_input": "2025-08-05T15:49:48.216769Z",
     "iopub.status.busy": "2025-08-05T15:49:48.215868Z",
     "iopub.status.idle": "2025-08-05T15:49:48.312511Z",
     "shell.execute_reply": "2025-08-05T15:49:48.311486Z"
    },
    "papermill": {
     "duration": 0.118371,
     "end_time": "2025-08-05T15:49:48.314601",
     "exception": false,
     "start_time": "2025-08-05T15:49:48.196230",
     "status": "completed"
    },
    "tags": []
   },
   "outputs": [],
   "source": [
    "# Auxiliary data needed downstream in the pipeline\n",
    "\n",
    "org_train = X_train.copy()\n",
    "org_test = X_test.copy()\n",
    "org_calib = X_calib.copy()"
   ]
  },
  {
   "cell_type": "markdown",
   "id": "0a4a1b33",
   "metadata": {
    "papermill": {
     "duration": 0.016886,
     "end_time": "2025-08-05T15:49:48.351922",
     "exception": false,
     "start_time": "2025-08-05T15:49:48.335036",
     "status": "completed"
    },
    "tags": []
   },
   "source": [
    "# Preprocessing Data"
   ]
  },
  {
   "cell_type": "code",
   "execution_count": 19,
   "id": "ca879031",
   "metadata": {
    "execution": {
     "iopub.execute_input": "2025-08-05T15:49:48.385160Z",
     "iopub.status.busy": "2025-08-05T15:49:48.384813Z",
     "iopub.status.idle": "2025-08-05T15:49:48.390755Z",
     "shell.execute_reply": "2025-08-05T15:49:48.390073Z"
    },
    "papermill": {
     "duration": 0.021071,
     "end_time": "2025-08-05T15:49:48.392094",
     "exception": false,
     "start_time": "2025-08-05T15:49:48.371023",
     "status": "completed"
    },
    "tags": []
   },
   "outputs": [],
   "source": [
    "# EXCLUDE PROTECTED FEATURES\n",
    "# ----------------------\n",
    "# \"exclude_features\": \"none\", # \"nationality\", \"sex\", \"nationality-sex\"\n",
    "\n",
    "excluded_features = universe[\"exclude_features\"].split(\"-\") # split, e.g.: \"nationality-sex\" -> [\"nationality\", \"sex\"]\n",
    "excluded_features_dictionary = {\n",
    "    \"nationality\": [\"maxdeutsch1\", \"maxdeutsch.Missing.\"],\n",
    "    \"sex\": [\"frau1\"],\n",
    "    \"age\": [\"age\"],\n",
    "}"
   ]
  },
  {
   "cell_type": "code",
   "execution_count": 20,
   "id": "b745ac60",
   "metadata": {
    "execution": {
     "iopub.execute_input": "2025-08-05T15:49:48.413493Z",
     "iopub.status.busy": "2025-08-05T15:49:48.413033Z",
     "iopub.status.idle": "2025-08-05T15:49:48.430482Z",
     "shell.execute_reply": "2025-08-05T15:49:48.429575Z"
    },
    "papermill": {
     "duration": 0.029669,
     "end_time": "2025-08-05T15:49:48.431808",
     "exception": false,
     "start_time": "2025-08-05T15:49:48.402139",
     "status": "completed"
    },
    "tags": []
   },
   "outputs": [],
   "source": [
    "# Code nice names to column names\n",
    "\n",
    "excluded_features_columns = [\n",
    "    excluded_features_dictionary[f] for f in excluded_features if len(f) > 0 and f != \"none\"\n",
    "]"
   ]
  },
  {
   "cell_type": "code",
   "execution_count": 21,
   "id": "f84f73a2",
   "metadata": {
    "execution": {
     "iopub.execute_input": "2025-08-05T15:49:48.452031Z",
     "iopub.status.busy": "2025-08-05T15:49:48.451479Z",
     "iopub.status.idle": "2025-08-05T15:49:48.458049Z",
     "shell.execute_reply": "2025-08-05T15:49:48.457224Z"
    },
    "papermill": {
     "duration": 0.017974,
     "end_time": "2025-08-05T15:49:48.459497",
     "exception": false,
     "start_time": "2025-08-05T15:49:48.441523",
     "status": "completed"
    },
    "tags": []
   },
   "outputs": [],
   "source": [
    "from utils import flatten_once\n",
    "\n",
    "excluded_features_columns = flatten_once(excluded_features_columns)"
   ]
  },
  {
   "cell_type": "code",
   "execution_count": 22,
   "id": "884dea22",
   "metadata": {
    "execution": {
     "iopub.execute_input": "2025-08-05T15:49:48.479956Z",
     "iopub.status.busy": "2025-08-05T15:49:48.479287Z",
     "iopub.status.idle": "2025-08-05T15:49:48.487489Z",
     "shell.execute_reply": "2025-08-05T15:49:48.486638Z"
    },
    "papermill": {
     "duration": 0.01969,
     "end_time": "2025-08-05T15:49:48.488889",
     "exception": false,
     "start_time": "2025-08-05T15:49:48.469199",
     "status": "completed"
    },
    "tags": []
   },
   "outputs": [
    {
     "name": "stdout",
     "output_type": "stream",
     "text": [
      "Dropping features: ['maxdeutsch1', 'maxdeutsch.Missing.', 'frau1']\n"
     ]
    }
   ],
   "source": [
    "if len(excluded_features_columns) > 0:\n",
    "    print(f\"Dropping features: {excluded_features_columns}\")\n",
    "    X_train.drop(excluded_features_columns, axis=1, inplace=True)"
   ]
  },
  {
   "cell_type": "code",
   "execution_count": 23,
   "id": "95ab8b16",
   "metadata": {
    "execution": {
     "iopub.execute_input": "2025-08-05T15:49:48.510853Z",
     "iopub.status.busy": "2025-08-05T15:49:48.510139Z",
     "iopub.status.idle": "2025-08-05T15:49:48.558929Z",
     "shell.execute_reply": "2025-08-05T15:49:48.558150Z"
    },
    "papermill": {
     "duration": 0.060866,
     "end_time": "2025-08-05T15:49:48.560470",
     "exception": false,
     "start_time": "2025-08-05T15:49:48.499604",
     "status": "completed"
    },
    "tags": []
   },
   "outputs": [
    {
     "name": "stdout",
     "output_type": "stream",
     "text": [
      "Dropping features: ['maxdeutsch1', 'maxdeutsch.Missing.', 'frau1']\n"
     ]
    }
   ],
   "source": [
    "if len(excluded_features_columns) > 0:\n",
    "    print(f\"Dropping features: {excluded_features_columns}\")\n",
    "    X_test.drop(excluded_features_columns, axis=1, inplace=True)"
   ]
  },
  {
   "cell_type": "code",
   "execution_count": 24,
   "id": "1853aaf5-fb9f-46cb-a2b5-8ea4ae2237e4",
   "metadata": {
    "execution": {
     "iopub.execute_input": "2025-08-05T15:49:48.581838Z",
     "iopub.status.busy": "2025-08-05T15:49:48.581213Z",
     "iopub.status.idle": "2025-08-05T15:49:48.629569Z",
     "shell.execute_reply": "2025-08-05T15:49:48.628658Z"
    },
    "papermill": {
     "duration": 0.060245,
     "end_time": "2025-08-05T15:49:48.631029",
     "exception": false,
     "start_time": "2025-08-05T15:49:48.570784",
     "status": "completed"
    },
    "tags": []
   },
   "outputs": [
    {
     "name": "stdout",
     "output_type": "stream",
     "text": [
      "Dropping features: ['maxdeutsch1', 'maxdeutsch.Missing.', 'frau1']\n"
     ]
    }
   ],
   "source": [
    "if len(excluded_features_columns) > 0:\n",
    "    print(f\"Dropping features: {excluded_features_columns}\")\n",
    "    X_calib.drop(excluded_features_columns, axis=1, inplace=True)"
   ]
  },
  {
   "cell_type": "code",
   "execution_count": 25,
   "id": "76c4dc6d",
   "metadata": {
    "execution": {
     "iopub.execute_input": "2025-08-05T15:49:48.652667Z",
     "iopub.status.busy": "2025-08-05T15:49:48.652238Z",
     "iopub.status.idle": "2025-08-05T15:49:48.657341Z",
     "shell.execute_reply": "2025-08-05T15:49:48.656420Z"
    },
    "papermill": {
     "duration": 0.017053,
     "end_time": "2025-08-05T15:49:48.658803",
     "exception": false,
     "start_time": "2025-08-05T15:49:48.641750",
     "status": "completed"
    },
    "tags": []
   },
   "outputs": [],
   "source": [
    "# EXCLUDE CERTAIN SUBGROUPS\n",
    "# ----------------------\n",
    "\n",
    "mode = universe.get(\"exclude_subgroups\", \"keep-all\") \n",
    "# Fetches the exclude_subgroups setting from the universe dict.\n",
    "# Defaults to \"keep-all\" if the key is missing."
   ]
  },
  {
   "cell_type": "code",
   "execution_count": 26,
   "id": "21994072",
   "metadata": {
    "execution": {
     "iopub.execute_input": "2025-08-05T15:49:48.682153Z",
     "iopub.status.busy": "2025-08-05T15:49:48.681431Z",
     "iopub.status.idle": "2025-08-05T15:49:48.688518Z",
     "shell.execute_reply": "2025-08-05T15:49:48.687765Z"
    },
    "papermill": {
     "duration": 0.020057,
     "end_time": "2025-08-05T15:49:48.690146",
     "exception": false,
     "start_time": "2025-08-05T15:49:48.670089",
     "status": "completed"
    },
    "tags": []
   },
   "outputs": [],
   "source": [
    "if mode == \"keep-all\":\n",
    "    keep_mask = pd.Series(True, index=org_train.index)\n",
    "\n",
    "# org_train contains the original feature columns from features_org (in Simson)\n",
    "# features_org contains unprocessed features, for me X_train at beginning ???\n",
    "# For keep-all, creates a boolean Series (keep_mask) of all True, so no rows are removed.\n",
    "\n",
    "elif mode == \"drop-non-german\":\n",
    "    keep_mask = org_train[\"maxdeutsch1\"] == 1 # ??? what about missing values?\n",
    "\n",
    "else:\n",
    "    raise ValueError(f\"Unsupported mode for exclude_subgroups: {mode}\")"
   ]
  },
  {
   "cell_type": "code",
   "execution_count": 27,
   "id": "71651440",
   "metadata": {
    "execution": {
     "iopub.execute_input": "2025-08-05T15:49:48.713023Z",
     "iopub.status.busy": "2025-08-05T15:49:48.712342Z",
     "iopub.status.idle": "2025-08-05T15:49:48.717997Z",
     "shell.execute_reply": "2025-08-05T15:49:48.717263Z"
    },
    "papermill": {
     "duration": 0.018261,
     "end_time": "2025-08-05T15:49:48.719425",
     "exception": false,
     "start_time": "2025-08-05T15:49:48.701164",
     "status": "completed"
    },
    "tags": []
   },
   "outputs": [],
   "source": [
    "n_drop = (~keep_mask).sum() # Calculates how many rows are set to be dropped\n",
    "if n_drop > 0:\n",
    "    pct = n_drop / len(keep_mask) * 100\n",
    "    print(f\"Dropping {n_drop} rows ({pct:.2f}%) where mode='{mode}'\")"
   ]
  },
  {
   "cell_type": "code",
   "execution_count": 28,
   "id": "5fb8eee5",
   "metadata": {
    "execution": {
     "iopub.execute_input": "2025-08-05T15:49:48.741814Z",
     "iopub.status.busy": "2025-08-05T15:49:48.741306Z",
     "iopub.status.idle": "2025-08-05T15:49:48.748399Z",
     "shell.execute_reply": "2025-08-05T15:49:48.747621Z"
    },
    "papermill": {
     "duration": 0.019295,
     "end_time": "2025-08-05T15:49:48.749960",
     "exception": false,
     "start_time": "2025-08-05T15:49:48.730665",
     "status": "completed"
    },
    "tags": []
   },
   "outputs": [],
   "source": [
    "X_train = X_train[keep_mask]"
   ]
  },
  {
   "cell_type": "code",
   "execution_count": 29,
   "id": "b202bb3a",
   "metadata": {
    "execution": {
     "iopub.execute_input": "2025-08-05T15:49:48.772110Z",
     "iopub.status.busy": "2025-08-05T15:49:48.771456Z",
     "iopub.status.idle": "2025-08-05T15:49:48.776604Z",
     "shell.execute_reply": "2025-08-05T15:49:48.775878Z"
    },
    "papermill": {
     "duration": 0.017013,
     "end_time": "2025-08-05T15:49:48.778069",
     "exception": false,
     "start_time": "2025-08-05T15:49:48.761056",
     "status": "completed"
    },
    "tags": []
   },
   "outputs": [],
   "source": [
    "y_train = y_train[keep_mask]"
   ]
  },
  {
   "cell_type": "markdown",
   "id": "493e2ac3",
   "metadata": {
    "papermill": {
     "duration": 0.010351,
     "end_time": "2025-08-05T15:49:48.798821",
     "exception": false,
     "start_time": "2025-08-05T15:49:48.788470",
     "status": "completed"
    },
    "tags": []
   },
   "source": [
    "# Model Training"
   ]
  },
  {
   "cell_type": "code",
   "execution_count": 30,
   "id": "679e1268",
   "metadata": {
    "execution": {
     "iopub.execute_input": "2025-08-05T15:49:48.819982Z",
     "iopub.status.busy": "2025-08-05T15:49:48.819275Z",
     "iopub.status.idle": "2025-08-05T15:49:49.006312Z",
     "shell.execute_reply": "2025-08-05T15:49:49.005445Z"
    },
    "papermill": {
     "duration": 0.199443,
     "end_time": "2025-08-05T15:49:49.007901",
     "exception": false,
     "start_time": "2025-08-05T15:49:48.808458",
     "status": "completed"
    },
    "tags": []
   },
   "outputs": [],
   "source": [
    "from sklearn.linear_model import LogisticRegression\n",
    "from sklearn.ensemble import GradientBoostingClassifier, RandomForestClassifier\n",
    "\n",
    "if (universe[\"model\"] == \"logreg\"):\n",
    "    model = LogisticRegression() #penalty=\"none\", solver=\"newton-cg\", max_iter=1) # include random_state=19 ?\n",
    "elif (universe[\"model\"] == \"penalized_logreg\"):\n",
    "    model = LogisticRegression(penalty=\"l2\", C=0.1) #, solver=\"newton-cg\", max_iter=1)\n",
    "elif (universe[\"model\"] == \"rf\"):\n",
    "    model = RandomForestClassifier() # n_estimators=100, n_jobs=-1\n",
    "elif (universe[\"model\"] == \"gbm\"):\n",
    "    model = GradientBoostingClassifier()\n",
    "elif (universe[\"model\"] == \"elasticnet\"):\n",
    "    model = LogisticRegression(penalty = 'elasticnet', solver = 'saga', l1_ratio = 0.5) # max_iter=5000\n",
    "else:\n",
    "    raise \"Unsupported universe.model\""
   ]
  },
  {
   "cell_type": "code",
   "execution_count": 31,
   "id": "0cc8f744",
   "metadata": {
    "execution": {
     "iopub.execute_input": "2025-08-05T15:49:49.030431Z",
     "iopub.status.busy": "2025-08-05T15:49:49.029662Z",
     "iopub.status.idle": "2025-08-05T15:49:49.035157Z",
     "shell.execute_reply": "2025-08-05T15:49:49.034409Z"
    },
    "papermill": {
     "duration": 0.017633,
     "end_time": "2025-08-05T15:49:49.036491",
     "exception": false,
     "start_time": "2025-08-05T15:49:49.018858",
     "status": "completed"
    },
    "tags": []
   },
   "outputs": [],
   "source": [
    "import numpy as np\n",
    "from sklearn.pipeline import Pipeline\n",
    "from sklearn.preprocessing import StandardScaler\n",
    "\n",
    "model = Pipeline([\n",
    "    #(\"continuous_processor\", continuous_processor),\n",
    "    #(\"categorical_preprocessor\", categorical_preprocessor),\n",
    "    (\"scale\", StandardScaler() if universe[\"scale\"] == \"scale\" else None), \n",
    "    (\"model\", model),\n",
    "])"
   ]
  },
  {
   "cell_type": "code",
   "execution_count": 32,
   "id": "9442c04d",
   "metadata": {
    "execution": {
     "iopub.execute_input": "2025-08-05T15:49:49.060401Z",
     "iopub.status.busy": "2025-08-05T15:49:49.059748Z",
     "iopub.status.idle": "2025-08-05T15:49:49.153023Z",
     "shell.execute_reply": "2025-08-05T15:49:49.152165Z"
    },
    "papermill": {
     "duration": 0.106067,
     "end_time": "2025-08-05T15:49:49.154552",
     "exception": false,
     "start_time": "2025-08-05T15:49:49.048485",
     "status": "completed"
    },
    "tags": []
   },
   "outputs": [
    {
     "data": {
      "text/html": [
       "<style>#sk-container-id-1 {color: black;background-color: white;}#sk-container-id-1 pre{padding: 0;}#sk-container-id-1 div.sk-toggleable {background-color: white;}#sk-container-id-1 label.sk-toggleable__label {cursor: pointer;display: block;width: 100%;margin-bottom: 0;padding: 0.3em;box-sizing: border-box;text-align: center;}#sk-container-id-1 label.sk-toggleable__label-arrow:before {content: \"▸\";float: left;margin-right: 0.25em;color: #696969;}#sk-container-id-1 label.sk-toggleable__label-arrow:hover:before {color: black;}#sk-container-id-1 div.sk-estimator:hover label.sk-toggleable__label-arrow:before {color: black;}#sk-container-id-1 div.sk-toggleable__content {max-height: 0;max-width: 0;overflow: hidden;text-align: left;background-color: #f0f8ff;}#sk-container-id-1 div.sk-toggleable__content pre {margin: 0.2em;color: black;border-radius: 0.25em;background-color: #f0f8ff;}#sk-container-id-1 input.sk-toggleable__control:checked~div.sk-toggleable__content {max-height: 200px;max-width: 100%;overflow: auto;}#sk-container-id-1 input.sk-toggleable__control:checked~label.sk-toggleable__label-arrow:before {content: \"▾\";}#sk-container-id-1 div.sk-estimator input.sk-toggleable__control:checked~label.sk-toggleable__label {background-color: #d4ebff;}#sk-container-id-1 div.sk-label input.sk-toggleable__control:checked~label.sk-toggleable__label {background-color: #d4ebff;}#sk-container-id-1 input.sk-hidden--visually {border: 0;clip: rect(1px 1px 1px 1px);clip: rect(1px, 1px, 1px, 1px);height: 1px;margin: -1px;overflow: hidden;padding: 0;position: absolute;width: 1px;}#sk-container-id-1 div.sk-estimator {font-family: monospace;background-color: #f0f8ff;border: 1px dotted black;border-radius: 0.25em;box-sizing: border-box;margin-bottom: 0.5em;}#sk-container-id-1 div.sk-estimator:hover {background-color: #d4ebff;}#sk-container-id-1 div.sk-parallel-item::after {content: \"\";width: 100%;border-bottom: 1px solid gray;flex-grow: 1;}#sk-container-id-1 div.sk-label:hover label.sk-toggleable__label {background-color: #d4ebff;}#sk-container-id-1 div.sk-serial::before {content: \"\";position: absolute;border-left: 1px solid gray;box-sizing: border-box;top: 0;bottom: 0;left: 50%;z-index: 0;}#sk-container-id-1 div.sk-serial {display: flex;flex-direction: column;align-items: center;background-color: white;padding-right: 0.2em;padding-left: 0.2em;position: relative;}#sk-container-id-1 div.sk-item {position: relative;z-index: 1;}#sk-container-id-1 div.sk-parallel {display: flex;align-items: stretch;justify-content: center;background-color: white;position: relative;}#sk-container-id-1 div.sk-item::before, #sk-container-id-1 div.sk-parallel-item::before {content: \"\";position: absolute;border-left: 1px solid gray;box-sizing: border-box;top: 0;bottom: 0;left: 50%;z-index: -1;}#sk-container-id-1 div.sk-parallel-item {display: flex;flex-direction: column;z-index: 1;position: relative;background-color: white;}#sk-container-id-1 div.sk-parallel-item:first-child::after {align-self: flex-end;width: 50%;}#sk-container-id-1 div.sk-parallel-item:last-child::after {align-self: flex-start;width: 50%;}#sk-container-id-1 div.sk-parallel-item:only-child::after {width: 0;}#sk-container-id-1 div.sk-dashed-wrapped {border: 1px dashed gray;margin: 0 0.4em 0.5em 0.4em;box-sizing: border-box;padding-bottom: 0.4em;background-color: white;}#sk-container-id-1 div.sk-label label {font-family: monospace;font-weight: bold;display: inline-block;line-height: 1.2em;}#sk-container-id-1 div.sk-label-container {text-align: center;}#sk-container-id-1 div.sk-container {/* jupyter's `normalize.less` sets `[hidden] { display: none; }` but bootstrap.min.css set `[hidden] { display: none !important; }` so we also need the `!important` here to be able to override the default hidden behavior on the sphinx rendered scikit-learn.org. See: https://github.com/scikit-learn/scikit-learn/issues/21755 */display: inline-block !important;position: relative;}#sk-container-id-1 div.sk-text-repr-fallback {display: none;}</style><div id=\"sk-container-id-1\" class=\"sk-top-container\"><div class=\"sk-text-repr-fallback\"><pre>Pipeline(steps=[(&#x27;scale&#x27;, StandardScaler()),\n",
       "                (&#x27;model&#x27;, LogisticRegression(C=0.1))])</pre><b>In a Jupyter environment, please rerun this cell to show the HTML representation or trust the notebook. <br />On GitHub, the HTML representation is unable to render, please try loading this page with nbviewer.org.</b></div><div class=\"sk-container\" hidden><div class=\"sk-item sk-dashed-wrapped\"><div class=\"sk-label-container\"><div class=\"sk-label sk-toggleable\"><input class=\"sk-toggleable__control sk-hidden--visually\" id=\"sk-estimator-id-1\" type=\"checkbox\" ><label for=\"sk-estimator-id-1\" class=\"sk-toggleable__label sk-toggleable__label-arrow\">Pipeline</label><div class=\"sk-toggleable__content\"><pre>Pipeline(steps=[(&#x27;scale&#x27;, StandardScaler()),\n",
       "                (&#x27;model&#x27;, LogisticRegression(C=0.1))])</pre></div></div></div><div class=\"sk-serial\"><div class=\"sk-item\"><div class=\"sk-estimator sk-toggleable\"><input class=\"sk-toggleable__control sk-hidden--visually\" id=\"sk-estimator-id-2\" type=\"checkbox\" ><label for=\"sk-estimator-id-2\" class=\"sk-toggleable__label sk-toggleable__label-arrow\">StandardScaler</label><div class=\"sk-toggleable__content\"><pre>StandardScaler()</pre></div></div></div><div class=\"sk-item\"><div class=\"sk-estimator sk-toggleable\"><input class=\"sk-toggleable__control sk-hidden--visually\" id=\"sk-estimator-id-3\" type=\"checkbox\" ><label for=\"sk-estimator-id-3\" class=\"sk-toggleable__label sk-toggleable__label-arrow\">LogisticRegression</label><div class=\"sk-toggleable__content\"><pre>LogisticRegression(C=0.1)</pre></div></div></div></div></div></div></div>"
      ],
      "text/plain": [
       "Pipeline(steps=[('scale', StandardScaler()),\n",
       "                ('model', LogisticRegression(C=0.1))])"
      ]
     },
     "execution_count": 32,
     "metadata": {},
     "output_type": "execute_result"
    }
   ],
   "source": [
    "model.fit(X_train, y_train.values.ravel())"
   ]
  },
  {
   "cell_type": "code",
   "execution_count": 33,
   "id": "af59f8c0",
   "metadata": {
    "execution": {
     "iopub.execute_input": "2025-08-05T15:49:49.178929Z",
     "iopub.status.busy": "2025-08-05T15:49:49.178175Z",
     "iopub.status.idle": "2025-08-05T15:49:49.183126Z",
     "shell.execute_reply": "2025-08-05T15:49:49.182329Z"
    },
    "papermill": {
     "duration": 0.017309,
     "end_time": "2025-08-05T15:49:49.184543",
     "exception": false,
     "start_time": "2025-08-05T15:49:49.167234",
     "status": "completed"
    },
    "tags": []
   },
   "outputs": [],
   "source": [
    "from fairness_multiverse.universe import predict_w_threshold"
   ]
  },
  {
   "cell_type": "code",
   "execution_count": 34,
   "id": "a7cf2e16",
   "metadata": {
    "execution": {
     "iopub.execute_input": "2025-08-05T15:49:49.207021Z",
     "iopub.status.busy": "2025-08-05T15:49:49.206666Z",
     "iopub.status.idle": "2025-08-05T15:49:49.403024Z",
     "shell.execute_reply": "2025-08-05T15:49:49.402021Z"
    },
    "papermill": {
     "duration": 0.208798,
     "end_time": "2025-08-05T15:49:49.404654",
     "exception": false,
     "start_time": "2025-08-05T15:49:49.195856",
     "status": "completed"
    },
    "tags": []
   },
   "outputs": [
    {
     "data": {
      "text/plain": [
       "0.8532270649871809"
      ]
     },
     "execution_count": 34,
     "metadata": {},
     "output_type": "execute_result"
    }
   ],
   "source": [
    "probs_test = model.predict_proba(X_test)\n",
    "\n",
    "'''\n",
    "Below code returns a boolean array (or binary 0/1 array depending on how it’s used) where each element \n",
    "is True if the probability of class 1 is greater than or equal to the threshold, and False otherwise.\n",
    "'''\n",
    "y_pred_default = predict_w_threshold(probs_test, 0.5)\n",
    "\n",
    "from sklearn.metrics import accuracy_score\n",
    "\n",
    "# Naive prediction\n",
    "accuracy_score(y_true = y_true, y_pred = y_pred_default)"
   ]
  },
  {
   "cell_type": "code",
   "execution_count": 35,
   "id": "081964c3",
   "metadata": {
    "execution": {
     "iopub.execute_input": "2025-08-05T15:49:49.449412Z",
     "iopub.status.busy": "2025-08-05T15:49:49.448959Z",
     "iopub.status.idle": "2025-08-05T15:49:49.634199Z",
     "shell.execute_reply": "2025-08-05T15:49:49.633316Z"
    },
    "papermill": {
     "duration": 0.208962,
     "end_time": "2025-08-05T15:49:49.635556",
     "exception": false,
     "start_time": "2025-08-05T15:49:49.426594",
     "status": "completed"
    },
    "tags": []
   },
   "outputs": [
    {
     "data": {
      "text/plain": [
       "array([0, 0, 0, ..., 0, 0, 0])"
      ]
     },
     "execution_count": 35,
     "metadata": {},
     "output_type": "execute_result"
    }
   ],
   "source": [
    "model.predict(X_test)"
   ]
  },
  {
   "cell_type": "markdown",
   "id": "56c9705b",
   "metadata": {
    "papermill": {
     "duration": 0.010124,
     "end_time": "2025-08-05T15:49:49.659612",
     "exception": false,
     "start_time": "2025-08-05T15:49:49.649488",
     "status": "completed"
    },
    "tags": []
   },
   "source": [
    "# Conformal Prediction"
   ]
  },
  {
   "cell_type": "code",
   "execution_count": 36,
   "id": "160ec6ff",
   "metadata": {
    "execution": {
     "iopub.execute_input": "2025-08-05T15:49:49.695083Z",
     "iopub.status.busy": "2025-08-05T15:49:49.694720Z",
     "iopub.status.idle": "2025-08-05T15:49:49.699473Z",
     "shell.execute_reply": "2025-08-05T15:49:49.698539Z"
    },
    "papermill": {
     "duration": 0.026386,
     "end_time": "2025-08-05T15:49:49.701152",
     "exception": false,
     "start_time": "2025-08-05T15:49:49.674766",
     "status": "completed"
    },
    "tags": []
   },
   "outputs": [],
   "source": [
    "# Miscoverage level for conformal prediction (10% allowed error rate => 90% target coverage)\n",
    "alpha = 0.1"
   ]
  },
  {
   "cell_type": "code",
   "execution_count": 37,
   "id": "eadf4555-3dd3-440e-8e35-f82a4ad9f855",
   "metadata": {
    "execution": {
     "iopub.execute_input": "2025-08-05T15:49:49.745776Z",
     "iopub.status.busy": "2025-08-05T15:49:49.745327Z",
     "iopub.status.idle": "2025-08-05T15:49:49.918425Z",
     "shell.execute_reply": "2025-08-05T15:49:49.917400Z"
    },
    "papermill": {
     "duration": 0.197735,
     "end_time": "2025-08-05T15:49:49.920298",
     "exception": false,
     "start_time": "2025-08-05T15:49:49.722563",
     "status": "completed"
    },
    "tags": []
   },
   "outputs": [],
   "source": [
    "probs_calib = model.predict_proba(X_calib)"
   ]
  },
  {
   "cell_type": "code",
   "execution_count": 38,
   "id": "2ed93547-6d5d-4983-9b36-1ecb300da49a",
   "metadata": {
    "execution": {
     "iopub.execute_input": "2025-08-05T15:49:49.960575Z",
     "iopub.status.busy": "2025-08-05T15:49:49.960210Z",
     "iopub.status.idle": "2025-08-05T15:49:49.965565Z",
     "shell.execute_reply": "2025-08-05T15:49:49.964583Z"
    },
    "papermill": {
     "duration": 0.027296,
     "end_time": "2025-08-05T15:49:49.967224",
     "exception": false,
     "start_time": "2025-08-05T15:49:49.939928",
     "status": "completed"
    },
    "tags": []
   },
   "outputs": [],
   "source": [
    "y_calib = y_calib.values.ravel().astype(int)"
   ]
  },
  {
   "cell_type": "code",
   "execution_count": 39,
   "id": "65d1320d-f588-4b38-9072-62af1ae97f7d",
   "metadata": {
    "execution": {
     "iopub.execute_input": "2025-08-05T15:49:50.012256Z",
     "iopub.status.busy": "2025-08-05T15:49:50.011591Z",
     "iopub.status.idle": "2025-08-05T15:49:50.019285Z",
     "shell.execute_reply": "2025-08-05T15:49:50.018381Z"
    },
    "papermill": {
     "duration": 0.031614,
     "end_time": "2025-08-05T15:49:50.021008",
     "exception": false,
     "start_time": "2025-08-05T15:49:49.989394",
     "status": "completed"
    },
    "tags": []
   },
   "outputs": [],
   "source": [
    "from fairness_multiverse.conformal import compute_nc_scores\n",
    "\n",
    "# Compute nonconformity scores on calibration set (1 - probability of true class)\n",
    "nc_scores = compute_nc_scores(probs_calib, y_calib)"
   ]
  },
  {
   "cell_type": "code",
   "execution_count": 40,
   "id": "df3b8ca3-53b7-43d5-9667-7c85da7aeda2",
   "metadata": {
    "execution": {
     "iopub.execute_input": "2025-08-05T15:49:50.066760Z",
     "iopub.status.busy": "2025-08-05T15:49:50.066007Z",
     "iopub.status.idle": "2025-08-05T15:49:50.072920Z",
     "shell.execute_reply": "2025-08-05T15:49:50.071883Z"
    },
    "papermill": {
     "duration": 0.032213,
     "end_time": "2025-08-05T15:49:50.074720",
     "exception": false,
     "start_time": "2025-08-05T15:49:50.042507",
     "status": "completed"
    },
    "tags": []
   },
   "outputs": [],
   "source": [
    "from fairness_multiverse.conformal import find_threshold\n",
    "\n",
    "# Find conformal threshold q_hat for the given alpha (split conformal method)\n",
    "q_hat = find_threshold(nc_scores, alpha)"
   ]
  },
  {
   "cell_type": "code",
   "execution_count": 41,
   "id": "4d29e6c1-0ef6-4aa4-b8fe-4fe79b0d033a",
   "metadata": {
    "execution": {
     "iopub.execute_input": "2025-08-05T15:49:50.116421Z",
     "iopub.status.busy": "2025-08-05T15:49:50.115737Z",
     "iopub.status.idle": "2025-08-05T15:49:50.123354Z",
     "shell.execute_reply": "2025-08-05T15:49:50.122379Z"
    },
    "papermill": {
     "duration": 0.029392,
     "end_time": "2025-08-05T15:49:50.125073",
     "exception": false,
     "start_time": "2025-08-05T15:49:50.095681",
     "status": "completed"
    },
    "tags": []
   },
   "outputs": [
    {
     "data": {
      "text/plain": [
       "0.676344415539301"
      ]
     },
     "execution_count": 41,
     "metadata": {},
     "output_type": "execute_result"
    }
   ],
   "source": [
    "q_hat"
   ]
  },
  {
   "cell_type": "code",
   "execution_count": 42,
   "id": "92460794-cdac-4be2-ba28-f28c0515a6fb",
   "metadata": {
    "execution": {
     "iopub.execute_input": "2025-08-05T15:49:50.168399Z",
     "iopub.status.busy": "2025-08-05T15:49:50.167878Z",
     "iopub.status.idle": "2025-08-05T15:49:51.380332Z",
     "shell.execute_reply": "2025-08-05T15:49:51.379194Z"
    },
    "papermill": {
     "duration": 1.236245,
     "end_time": "2025-08-05T15:49:51.382969",
     "exception": false,
     "start_time": "2025-08-05T15:49:50.146724",
     "status": "completed"
    },
    "tags": []
   },
   "outputs": [],
   "source": [
    "from fairness_multiverse.conformal import predict_conformal_sets\n",
    "\n",
    "# Generate prediction sets for each test example\n",
    "pred_sets = predict_conformal_sets(model, X_test, q_hat)"
   ]
  },
  {
   "cell_type": "code",
   "execution_count": 43,
   "id": "d90c9a65-e6db-4f5d-80cd-e68fb7e46829",
   "metadata": {
    "execution": {
     "iopub.execute_input": "2025-08-05T15:49:51.448788Z",
     "iopub.status.busy": "2025-08-05T15:49:51.448390Z",
     "iopub.status.idle": "2025-08-05T15:49:51.454806Z",
     "shell.execute_reply": "2025-08-05T15:49:51.453625Z"
    },
    "papermill": {
     "duration": 0.041573,
     "end_time": "2025-08-05T15:49:51.457294",
     "exception": false,
     "start_time": "2025-08-05T15:49:51.415721",
     "status": "completed"
    },
    "tags": []
   },
   "outputs": [],
   "source": [
    "y_true = y_true.squeeze()"
   ]
  },
  {
   "cell_type": "code",
   "execution_count": 44,
   "id": "3a58a54a-1e68-46b9-927a-df01f18aebc8",
   "metadata": {
    "execution": {
     "iopub.execute_input": "2025-08-05T15:49:51.522024Z",
     "iopub.status.busy": "2025-08-05T15:49:51.521181Z",
     "iopub.status.idle": "2025-08-05T15:49:52.743962Z",
     "shell.execute_reply": "2025-08-05T15:49:52.742828Z"
    },
    "papermill": {
     "duration": 1.255404,
     "end_time": "2025-08-05T15:49:52.745714",
     "exception": false,
     "start_time": "2025-08-05T15:49:51.490310",
     "status": "completed"
    },
    "tags": []
   },
   "outputs": [],
   "source": [
    "from fairness_multiverse.conformal import evaluate_sets\n",
    "\n",
    "# Evaluate coverage and average set size on test data\n",
    "metrics = evaluate_sets(pred_sets, y_true)"
   ]
  },
  {
   "cell_type": "markdown",
   "id": "2b569c12-9aaa-4c88-98c9-bbcd0cf3ebb8",
   "metadata": {
    "papermill": {
     "duration": 0.025047,
     "end_time": "2025-08-05T15:49:52.794319",
     "exception": false,
     "start_time": "2025-08-05T15:49:52.769272",
     "status": "completed"
    },
    "tags": []
   },
   "source": [
    "# CP Metrics"
   ]
  },
  {
   "cell_type": "code",
   "execution_count": 45,
   "id": "5ce0a5cb-201f-45a0-ade5-94c7f0bd6095",
   "metadata": {
    "execution": {
     "iopub.execute_input": "2025-08-05T15:49:52.853355Z",
     "iopub.status.busy": "2025-08-05T15:49:52.852824Z",
     "iopub.status.idle": "2025-08-05T15:49:52.861646Z",
     "shell.execute_reply": "2025-08-05T15:49:52.860324Z"
    },
    "papermill": {
     "duration": 0.040896,
     "end_time": "2025-08-05T15:49:52.863886",
     "exception": false,
     "start_time": "2025-08-05T15:49:52.822990",
     "status": "completed"
    },
    "tags": []
   },
   "outputs": [
    {
     "data": {
      "text/plain": [
       "{'coverage': 0.9111470293166871, 'avg_size': 1.144632705384015}"
      ]
     },
     "execution_count": 45,
     "metadata": {},
     "output_type": "execute_result"
    }
   ],
   "source": [
    "metrics"
   ]
  },
  {
   "cell_type": "code",
   "execution_count": 46,
   "id": "9b9a838d-31c9-430b-ae14-12baee460d17",
   "metadata": {
    "execution": {
     "iopub.execute_input": "2025-08-05T15:49:52.914289Z",
     "iopub.status.busy": "2025-08-05T15:49:52.913284Z",
     "iopub.status.idle": "2025-08-05T15:49:52.920790Z",
     "shell.execute_reply": "2025-08-05T15:49:52.919579Z"
    },
    "papermill": {
     "duration": 0.033424,
     "end_time": "2025-08-05T15:49:52.922976",
     "exception": false,
     "start_time": "2025-08-05T15:49:52.889552",
     "status": "completed"
    },
    "tags": []
   },
   "outputs": [],
   "source": [
    "example_universe = universe.copy()\n",
    "universe_training_year = example_universe.get(\"training_year\")\n",
    "universe_training_size = example_universe.get(\"training_size\")\n",
    "universe_scale = example_universe.get(\"scale\")\n",
    "universe_model = example_universe.get(\"model\")\n",
    "universe_exclude_features = example_universe.get(\"exclude_features\")\n",
    "universe_exclude_subgroups = example_universe.get(\"exclude_subgroups\")"
   ]
  },
  {
   "cell_type": "code",
   "execution_count": 47,
   "id": "f4b6a8ac-9dc0-4245-8a91-5b3b5999c4f9",
   "metadata": {
    "execution": {
     "iopub.execute_input": "2025-08-05T15:49:52.976834Z",
     "iopub.status.busy": "2025-08-05T15:49:52.976183Z",
     "iopub.status.idle": "2025-08-05T15:49:52.983920Z",
     "shell.execute_reply": "2025-08-05T15:49:52.982624Z"
    },
    "papermill": {
     "duration": 0.035628,
     "end_time": "2025-08-05T15:49:52.985964",
     "exception": false,
     "start_time": "2025-08-05T15:49:52.950336",
     "status": "completed"
    },
    "tags": []
   },
   "outputs": [],
   "source": [
    "cp_metrics_dict = {\n",
    "    \"universe_id\": [universe_id],\n",
    "    \"universe_training_year\": [universe_training_year],\n",
    "    \"universe_training_size\": [universe_training_size],\n",
    "    \"universe_scale\": [universe_scale],\n",
    "    \"universe_model\": [universe_model],\n",
    "    \"universe_exclude_features\": [universe_exclude_features],\n",
    "    \"universe_exclude_subgroups\": [universe_exclude_subgroups],\n",
    "    \"q_hat\": [q_hat],\n",
    "    \"coverage\": [metrics[\"coverage\"]],\n",
    "    \"avg_size\": [metrics[\"avg_size\"]],\n",
    "}"
   ]
  },
  {
   "cell_type": "code",
   "execution_count": 48,
   "id": "908acbb1-0371-4915-85ca-3fa520d2efe2",
   "metadata": {
    "execution": {
     "iopub.execute_input": "2025-08-05T15:49:53.037677Z",
     "iopub.status.busy": "2025-08-05T15:49:53.037182Z",
     "iopub.status.idle": "2025-08-05T15:49:53.046694Z",
     "shell.execute_reply": "2025-08-05T15:49:53.045670Z"
    },
    "papermill": {
     "duration": 0.036561,
     "end_time": "2025-08-05T15:49:53.048324",
     "exception": false,
     "start_time": "2025-08-05T15:49:53.011763",
     "status": "completed"
    },
    "tags": []
   },
   "outputs": [
    {
     "data": {
      "text/plain": [
       "{'universe_id': ['9dd2adcb6307b3ca66244b39473cb90c'],\n",
       " 'universe_training_year': ['2010_14'],\n",
       " 'universe_training_size': ['5k'],\n",
       " 'universe_scale': ['scale'],\n",
       " 'universe_model': ['penalized_logreg'],\n",
       " 'universe_exclude_features': ['nationality-sex'],\n",
       " 'universe_exclude_subgroups': ['keep-all'],\n",
       " 'q_hat': [0.676344415539301],\n",
       " 'coverage': [0.9111470293166871],\n",
       " 'avg_size': [1.144632705384015]}"
      ]
     },
     "execution_count": 48,
     "metadata": {},
     "output_type": "execute_result"
    }
   ],
   "source": [
    "cp_metrics_dict"
   ]
  },
  {
   "cell_type": "code",
   "execution_count": 49,
   "id": "33007efc-14e9-4ec6-97ac-56a455c82265",
   "metadata": {
    "execution": {
     "iopub.execute_input": "2025-08-05T15:49:53.089369Z",
     "iopub.status.busy": "2025-08-05T15:49:53.088627Z",
     "iopub.status.idle": "2025-08-05T15:49:53.094732Z",
     "shell.execute_reply": "2025-08-05T15:49:53.093805Z"
    },
    "papermill": {
     "duration": 0.021946,
     "end_time": "2025-08-05T15:49:53.096168",
     "exception": false,
     "start_time": "2025-08-05T15:49:53.074222",
     "status": "completed"
    },
    "tags": []
   },
   "outputs": [],
   "source": [
    "cp_metrics_df = pd.DataFrame(cp_metrics_dict)"
   ]
  },
  {
   "cell_type": "code",
   "execution_count": 50,
   "id": "db12611b-57b2-4910-b9d0-355adfd6e7bf",
   "metadata": {
    "execution": {
     "iopub.execute_input": "2025-08-05T15:49:53.122980Z",
     "iopub.status.busy": "2025-08-05T15:49:53.122231Z",
     "iopub.status.idle": "2025-08-05T15:49:53.136752Z",
     "shell.execute_reply": "2025-08-05T15:49:53.135945Z"
    },
    "papermill": {
     "duration": 0.029418,
     "end_time": "2025-08-05T15:49:53.138283",
     "exception": false,
     "start_time": "2025-08-05T15:49:53.108865",
     "status": "completed"
    },
    "tags": []
   },
   "outputs": [
    {
     "data": {
      "text/html": [
       "<div>\n",
       "<style scoped>\n",
       "    .dataframe tbody tr th:only-of-type {\n",
       "        vertical-align: middle;\n",
       "    }\n",
       "\n",
       "    .dataframe tbody tr th {\n",
       "        vertical-align: top;\n",
       "    }\n",
       "\n",
       "    .dataframe thead th {\n",
       "        text-align: right;\n",
       "    }\n",
       "</style>\n",
       "<table border=\"1\" class=\"dataframe\">\n",
       "  <thead>\n",
       "    <tr style=\"text-align: right;\">\n",
       "      <th></th>\n",
       "      <th>universe_id</th>\n",
       "      <th>universe_training_year</th>\n",
       "      <th>universe_training_size</th>\n",
       "      <th>universe_scale</th>\n",
       "      <th>universe_model</th>\n",
       "      <th>universe_exclude_features</th>\n",
       "      <th>universe_exclude_subgroups</th>\n",
       "      <th>q_hat</th>\n",
       "      <th>coverage</th>\n",
       "      <th>avg_size</th>\n",
       "    </tr>\n",
       "  </thead>\n",
       "  <tbody>\n",
       "    <tr>\n",
       "      <th>0</th>\n",
       "      <td>9dd2adcb6307b3ca66244b39473cb90c</td>\n",
       "      <td>2010_14</td>\n",
       "      <td>5k</td>\n",
       "      <td>scale</td>\n",
       "      <td>penalized_logreg</td>\n",
       "      <td>nationality-sex</td>\n",
       "      <td>keep-all</td>\n",
       "      <td>0.676344</td>\n",
       "      <td>0.911147</td>\n",
       "      <td>1.144633</td>\n",
       "    </tr>\n",
       "  </tbody>\n",
       "</table>\n",
       "</div>"
      ],
      "text/plain": [
       "                        universe_id universe_training_year  \\\n",
       "0  9dd2adcb6307b3ca66244b39473cb90c                2010_14   \n",
       "\n",
       "  universe_training_size universe_scale    universe_model  \\\n",
       "0                     5k          scale  penalized_logreg   \n",
       "\n",
       "  universe_exclude_features universe_exclude_subgroups     q_hat  coverage  \\\n",
       "0           nationality-sex                   keep-all  0.676344  0.911147   \n",
       "\n",
       "   avg_size  \n",
       "0  1.144633  "
      ]
     },
     "execution_count": 50,
     "metadata": {},
     "output_type": "execute_result"
    }
   ],
   "source": [
    "cp_metrics_df"
   ]
  },
  {
   "cell_type": "code",
   "execution_count": 51,
   "id": "b7fbde55-a0a1-47e4-9af6-fe4a17fa8c61",
   "metadata": {
    "execution": {
     "iopub.execute_input": "2025-08-05T15:49:53.165632Z",
     "iopub.status.busy": "2025-08-05T15:49:53.164876Z",
     "iopub.status.idle": "2025-08-05T15:49:53.221186Z",
     "shell.execute_reply": "2025-08-05T15:49:53.219740Z"
    },
    "papermill": {
     "duration": 0.072223,
     "end_time": "2025-08-05T15:49:53.223957",
     "exception": false,
     "start_time": "2025-08-05T15:49:53.151734",
     "status": "completed"
    },
    "tags": []
   },
   "outputs": [],
   "source": [
    "# Conditional Coverage & looking at subgroups"
   ]
  },
  {
   "cell_type": "code",
   "execution_count": 52,
   "id": "027ae886-68dd-4141-96c7-805a5450e1ef",
   "metadata": {
    "execution": {
     "iopub.execute_input": "2025-08-05T15:49:53.293094Z",
     "iopub.status.busy": "2025-08-05T15:49:53.292567Z",
     "iopub.status.idle": "2025-08-05T15:49:53.523944Z",
     "shell.execute_reply": "2025-08-05T15:49:53.522749Z"
    },
    "papermill": {
     "duration": 0.267965,
     "end_time": "2025-08-05T15:49:53.526382",
     "exception": false,
     "start_time": "2025-08-05T15:49:53.258417",
     "status": "completed"
    },
    "tags": []
   },
   "outputs": [],
   "source": [
    "from fairness_multiverse.conformal import build_cp_groups\n",
    "\n",
    "cp_groups_df = build_cp_groups(pred_sets, y_true, X_test.index, org_test)\n",
    "#needs universe_id and setting"
   ]
  },
  {
   "cell_type": "code",
   "execution_count": 53,
   "id": "6cbdab96-b2b2-45af-ad54-d0516db2e28d",
   "metadata": {
    "execution": {
     "iopub.execute_input": "2025-08-05T15:49:53.564717Z",
     "iopub.status.busy": "2025-08-05T15:49:53.564363Z",
     "iopub.status.idle": "2025-08-05T15:49:55.148059Z",
     "shell.execute_reply": "2025-08-05T15:49:55.147075Z"
    },
    "papermill": {
     "duration": 1.59852,
     "end_time": "2025-08-05T15:49:55.150130",
     "exception": false,
     "start_time": "2025-08-05T15:49:53.551610",
     "status": "completed"
    },
    "tags": []
   },
   "outputs": [],
   "source": [
    "# Define covered = 1 if true_label is in the predicted set\n",
    "cp_groups_df['covered'] = cp_groups_df.apply(\n",
    "    lambda r: int(r['true_label'] in r['pred_set']),\n",
    "    axis=1\n",
    ")"
   ]
  },
  {
   "cell_type": "code",
   "execution_count": 54,
   "id": "338ff529-1a6b-4b87-a931-8e4788d52aad",
   "metadata": {
    "execution": {
     "iopub.execute_input": "2025-08-05T15:49:55.200767Z",
     "iopub.status.busy": "2025-08-05T15:49:55.200340Z",
     "iopub.status.idle": "2025-08-05T15:49:55.205845Z",
     "shell.execute_reply": "2025-08-05T15:49:55.204715Z"
    },
    "papermill": {
     "duration": 0.032502,
     "end_time": "2025-08-05T15:49:55.207596",
     "exception": false,
     "start_time": "2025-08-05T15:49:55.175094",
     "status": "completed"
    },
    "tags": []
   },
   "outputs": [],
   "source": [
    "#cp_groups_df"
   ]
  },
  {
   "cell_type": "code",
   "execution_count": 55,
   "id": "90032e27-66df-4540-9169-4e89cfbaa758",
   "metadata": {
    "execution": {
     "iopub.execute_input": "2025-08-05T15:49:55.262219Z",
     "iopub.status.busy": "2025-08-05T15:49:55.261203Z",
     "iopub.status.idle": "2025-08-05T15:49:55.274104Z",
     "shell.execute_reply": "2025-08-05T15:49:55.272879Z"
    },
    "papermill": {
     "duration": 0.041977,
     "end_time": "2025-08-05T15:49:55.276132",
     "exception": false,
     "start_time": "2025-08-05T15:49:55.234155",
     "status": "completed"
    },
    "tags": []
   },
   "outputs": [],
   "source": [
    "subgroups = ['frau1','nongerman','nongerman_male','nongerman_female']\n",
    "\n",
    "# Conditional coverage for subgroup==1\n",
    "cond_coverage = {\n",
    "    g: cp_groups_df.loc[cp_groups_df[g]==1, 'covered'].mean()\n",
    "    for g in subgroups\n",
    "}"
   ]
  },
  {
   "cell_type": "code",
   "execution_count": 56,
   "id": "1e348fb1-b9c3-45bc-ba23-f016827a7e0d",
   "metadata": {
    "execution": {
     "iopub.execute_input": "2025-08-05T15:49:55.331381Z",
     "iopub.status.busy": "2025-08-05T15:49:55.330661Z",
     "iopub.status.idle": "2025-08-05T15:49:55.340506Z",
     "shell.execute_reply": "2025-08-05T15:49:55.339255Z"
    },
    "papermill": {
     "duration": 0.039439,
     "end_time": "2025-08-05T15:49:55.342604",
     "exception": false,
     "start_time": "2025-08-05T15:49:55.303165",
     "status": "completed"
    },
    "tags": []
   },
   "outputs": [
    {
     "data": {
      "text/plain": [
       "{'frau1': 0.9100148267960642,\n",
       " 'nongerman': 0.911413012968057,\n",
       " 'nongerman_male': 0.9264162838872377,\n",
       " 'nongerman_female': 0.8865871833084947}"
      ]
     },
     "execution_count": 56,
     "metadata": {},
     "output_type": "execute_result"
    }
   ],
   "source": [
    "cond_coverage"
   ]
  },
  {
   "cell_type": "code",
   "execution_count": 57,
   "id": "f5093324-c3dd-4d63-bc4c-8d945e5c8bbb",
   "metadata": {
    "execution": {
     "iopub.execute_input": "2025-08-05T15:49:55.395768Z",
     "iopub.status.busy": "2025-08-05T15:49:55.395283Z",
     "iopub.status.idle": "2025-08-05T15:49:55.401951Z",
     "shell.execute_reply": "2025-08-05T15:49:55.400510Z"
    },
    "papermill": {
     "duration": 0.033662,
     "end_time": "2025-08-05T15:49:55.403768",
     "exception": false,
     "start_time": "2025-08-05T15:49:55.370106",
     "status": "completed"
    },
    "tags": []
   },
   "outputs": [],
   "source": [
    "for subgroup, cov in cond_coverage.items():\n",
    "    cp_metrics_df[f\"cov_{subgroup}\"] = cov"
   ]
  },
  {
   "cell_type": "code",
   "execution_count": 58,
   "id": "6e872e10-dbe5-49e8-b554-5030c98ff75d",
   "metadata": {
    "execution": {
     "iopub.execute_input": "2025-08-05T15:49:55.429651Z",
     "iopub.status.busy": "2025-08-05T15:49:55.428994Z",
     "iopub.status.idle": "2025-08-05T15:49:55.444190Z",
     "shell.execute_reply": "2025-08-05T15:49:55.443181Z"
    },
    "papermill": {
     "duration": 0.029035,
     "end_time": "2025-08-05T15:49:55.445896",
     "exception": false,
     "start_time": "2025-08-05T15:49:55.416861",
     "status": "completed"
    },
    "tags": []
   },
   "outputs": [
    {
     "data": {
      "text/html": [
       "<div>\n",
       "<style scoped>\n",
       "    .dataframe tbody tr th:only-of-type {\n",
       "        vertical-align: middle;\n",
       "    }\n",
       "\n",
       "    .dataframe tbody tr th {\n",
       "        vertical-align: top;\n",
       "    }\n",
       "\n",
       "    .dataframe thead th {\n",
       "        text-align: right;\n",
       "    }\n",
       "</style>\n",
       "<table border=\"1\" class=\"dataframe\">\n",
       "  <thead>\n",
       "    <tr style=\"text-align: right;\">\n",
       "      <th></th>\n",
       "      <th>universe_id</th>\n",
       "      <th>universe_training_year</th>\n",
       "      <th>universe_training_size</th>\n",
       "      <th>universe_scale</th>\n",
       "      <th>universe_model</th>\n",
       "      <th>universe_exclude_features</th>\n",
       "      <th>universe_exclude_subgroups</th>\n",
       "      <th>q_hat</th>\n",
       "      <th>coverage</th>\n",
       "      <th>avg_size</th>\n",
       "      <th>cov_frau1</th>\n",
       "      <th>cov_nongerman</th>\n",
       "      <th>cov_nongerman_male</th>\n",
       "      <th>cov_nongerman_female</th>\n",
       "    </tr>\n",
       "  </thead>\n",
       "  <tbody>\n",
       "    <tr>\n",
       "      <th>0</th>\n",
       "      <td>9dd2adcb6307b3ca66244b39473cb90c</td>\n",
       "      <td>2010_14</td>\n",
       "      <td>5k</td>\n",
       "      <td>scale</td>\n",
       "      <td>penalized_logreg</td>\n",
       "      <td>nationality-sex</td>\n",
       "      <td>keep-all</td>\n",
       "      <td>0.676344</td>\n",
       "      <td>0.911147</td>\n",
       "      <td>1.144633</td>\n",
       "      <td>0.910015</td>\n",
       "      <td>0.911413</td>\n",
       "      <td>0.926416</td>\n",
       "      <td>0.886587</td>\n",
       "    </tr>\n",
       "  </tbody>\n",
       "</table>\n",
       "</div>"
      ],
      "text/plain": [
       "                        universe_id universe_training_year  \\\n",
       "0  9dd2adcb6307b3ca66244b39473cb90c                2010_14   \n",
       "\n",
       "  universe_training_size universe_scale    universe_model  \\\n",
       "0                     5k          scale  penalized_logreg   \n",
       "\n",
       "  universe_exclude_features universe_exclude_subgroups     q_hat  coverage  \\\n",
       "0           nationality-sex                   keep-all  0.676344  0.911147   \n",
       "\n",
       "   avg_size  cov_frau1  cov_nongerman  cov_nongerman_male  \\\n",
       "0  1.144633   0.910015       0.911413            0.926416   \n",
       "\n",
       "   cov_nongerman_female  \n",
       "0              0.886587  "
      ]
     },
     "execution_count": 58,
     "metadata": {},
     "output_type": "execute_result"
    }
   ],
   "source": [
    "cp_metrics_df"
   ]
  },
  {
   "cell_type": "markdown",
   "id": "33774451",
   "metadata": {
    "papermill": {
     "duration": 0.011876,
     "end_time": "2025-08-05T15:49:55.470913",
     "exception": false,
     "start_time": "2025-08-05T15:49:55.459037",
     "status": "completed"
    },
    "tags": []
   },
   "source": [
    "# (Fairness) Metrics"
   ]
  },
  {
   "cell_type": "code",
   "execution_count": 59,
   "id": "debc5d62",
   "metadata": {
    "execution": {
     "iopub.execute_input": "2025-08-05T15:49:55.501193Z",
     "iopub.status.busy": "2025-08-05T15:49:55.500420Z",
     "iopub.status.idle": "2025-08-05T15:49:55.515495Z",
     "shell.execute_reply": "2025-08-05T15:49:55.514757Z"
    },
    "papermill": {
     "duration": 0.029669,
     "end_time": "2025-08-05T15:49:55.517119",
     "exception": false,
     "start_time": "2025-08-05T15:49:55.487450",
     "status": "completed"
    },
    "tags": []
   },
   "outputs": [],
   "source": [
    "# do I need to include maxdeutsch1.missing?\n",
    "\n",
    "import numpy as np\n",
    "\n",
    "colname_to_bin = \"maxdeutsch1\"\n",
    "majority_value = org_train[colname_to_bin].mode()[0]\n",
    "\n",
    "org_test[\"majmin\"] = np.where(org_test[colname_to_bin] == majority_value, \"majority\", \"minority\")"
   ]
  },
  {
   "cell_type": "code",
   "execution_count": 60,
   "id": "06a50de5",
   "metadata": {
    "execution": {
     "iopub.execute_input": "2025-08-05T15:49:55.580336Z",
     "iopub.status.busy": "2025-08-05T15:49:55.579866Z",
     "iopub.status.idle": "2025-08-05T15:49:58.392292Z",
     "shell.execute_reply": "2025-08-05T15:49:58.391187Z"
    },
    "papermill": {
     "duration": 2.851825,
     "end_time": "2025-08-05T15:49:58.394662",
     "exception": false,
     "start_time": "2025-08-05T15:49:55.542837",
     "status": "completed"
    },
    "tags": []
   },
   "outputs": [],
   "source": [
    "example_universe = universe.copy()\n",
    "example_universe[\"cutoff\"] = example_universe[\"cutoff\"][0]\n",
    "example_universe[\"eval_fairness_grouping\"] = example_universe[\"eval_fairness_grouping\"][0]\n",
    "fairness_dict, metric_frame = universe_analysis.compute_metrics(\n",
    "    example_universe,\n",
    "    y_pred_prob=probs_test,\n",
    "    y_test=y_true,\n",
    "    org_test=org_test,\n",
    ")"
   ]
  },
  {
   "cell_type": "markdown",
   "id": "f95d4e02",
   "metadata": {
    "papermill": {
     "duration": 0.022817,
     "end_time": "2025-08-05T15:49:58.446019",
     "exception": false,
     "start_time": "2025-08-05T15:49:58.423202",
     "status": "completed"
    },
    "tags": []
   },
   "source": [
    "# Overall"
   ]
  },
  {
   "cell_type": "markdown",
   "id": "bdee4871",
   "metadata": {
    "papermill": {
     "duration": 0.026055,
     "end_time": "2025-08-05T15:49:58.499413",
     "exception": false,
     "start_time": "2025-08-05T15:49:58.473358",
     "status": "completed"
    },
    "tags": []
   },
   "source": [
    "Fairness\n",
    "Main fairness target: Equalized Odds. Seems to be a better fit than equal opportunity, since we're not only interested in Y = 1. Seems to be a better fit than demographic parity, since we also care about accuracy, not just equal distribution of preds.\n",
    "\n",
    "Pick column for computation of fairness metrics\n",
    "\n",
    "Performance\n",
    "Overall performance measures, most interesting in relation to the measures split by group below"
   ]
  },
  {
   "cell_type": "code",
   "execution_count": 61,
   "id": "c4e067c6",
   "metadata": {
    "execution": {
     "iopub.execute_input": "2025-08-05T15:49:58.552420Z",
     "iopub.status.busy": "2025-08-05T15:49:58.552035Z",
     "iopub.status.idle": "2025-08-05T15:49:58.562681Z",
     "shell.execute_reply": "2025-08-05T15:49:58.561410Z"
    },
    "papermill": {
     "duration": 0.041385,
     "end_time": "2025-08-05T15:49:58.567498",
     "exception": false,
     "start_time": "2025-08-05T15:49:58.526113",
     "status": "completed"
    },
    "tags": []
   },
   "outputs": [
    {
     "data": {
      "text/plain": [
       "accuracy                   0.223643\n",
       "balanced accuracy          0.546991\n",
       "f1                         0.244994\n",
       "precision                  0.139957\n",
       "false positive rate        0.887944\n",
       "false negative rate        0.018074\n",
       "selection rate             0.900000\n",
       "count                  89710.000000\n",
       "dtype: float64"
      ]
     },
     "execution_count": 61,
     "metadata": {},
     "output_type": "execute_result"
    }
   ],
   "source": [
    "metric_frame.overall"
   ]
  },
  {
   "cell_type": "markdown",
   "id": "e968fe9d",
   "metadata": {
    "papermill": {
     "duration": 0.025828,
     "end_time": "2025-08-05T15:49:58.620937",
     "exception": false,
     "start_time": "2025-08-05T15:49:58.595109",
     "status": "completed"
    },
    "tags": []
   },
   "source": [
    "By Group"
   ]
  },
  {
   "cell_type": "code",
   "execution_count": 62,
   "id": "ec325bce",
   "metadata": {
    "execution": {
     "iopub.execute_input": "2025-08-05T15:49:58.675720Z",
     "iopub.status.busy": "2025-08-05T15:49:58.675277Z",
     "iopub.status.idle": "2025-08-05T15:49:58.692218Z",
     "shell.execute_reply": "2025-08-05T15:49:58.691216Z"
    },
    "papermill": {
     "duration": 0.046876,
     "end_time": "2025-08-05T15:49:58.694144",
     "exception": false,
     "start_time": "2025-08-05T15:49:58.647268",
     "status": "completed"
    },
    "tags": []
   },
   "outputs": [
    {
     "data": {
      "text/html": [
       "<div>\n",
       "<style scoped>\n",
       "    .dataframe tbody tr th:only-of-type {\n",
       "        vertical-align: middle;\n",
       "    }\n",
       "\n",
       "    .dataframe tbody tr th {\n",
       "        vertical-align: top;\n",
       "    }\n",
       "\n",
       "    .dataframe thead th {\n",
       "        text-align: right;\n",
       "    }\n",
       "</style>\n",
       "<table border=\"1\" class=\"dataframe\">\n",
       "  <thead>\n",
       "    <tr style=\"text-align: right;\">\n",
       "      <th></th>\n",
       "      <th>accuracy</th>\n",
       "      <th>balanced accuracy</th>\n",
       "      <th>f1</th>\n",
       "      <th>precision</th>\n",
       "      <th>false positive rate</th>\n",
       "      <th>false negative rate</th>\n",
       "      <th>selection rate</th>\n",
       "      <th>count</th>\n",
       "    </tr>\n",
       "    <tr>\n",
       "      <th>majmin</th>\n",
       "      <th></th>\n",
       "      <th></th>\n",
       "      <th></th>\n",
       "      <th></th>\n",
       "      <th></th>\n",
       "      <th></th>\n",
       "      <th></th>\n",
       "      <th></th>\n",
       "    </tr>\n",
       "  </thead>\n",
       "  <tbody>\n",
       "    <tr>\n",
       "      <th>majority</th>\n",
       "      <td>0.245583</td>\n",
       "      <td>0.557151</td>\n",
       "      <td>0.255688</td>\n",
       "      <td>0.147009</td>\n",
       "      <td>0.866333</td>\n",
       "      <td>0.019365</td>\n",
       "      <td>0.881437</td>\n",
       "      <td>69170.0</td>\n",
       "    </tr>\n",
       "    <tr>\n",
       "      <th>minority</th>\n",
       "      <td>0.149757</td>\n",
       "      <td>0.513788</td>\n",
       "      <td>0.211130</td>\n",
       "      <td>0.118209</td>\n",
       "      <td>0.959333</td>\n",
       "      <td>0.013091</td>\n",
       "      <td>0.962512</td>\n",
       "      <td>20540.0</td>\n",
       "    </tr>\n",
       "  </tbody>\n",
       "</table>\n",
       "</div>"
      ],
      "text/plain": [
       "          accuracy  balanced accuracy        f1  precision  \\\n",
       "majmin                                                       \n",
       "majority  0.245583           0.557151  0.255688   0.147009   \n",
       "minority  0.149757           0.513788  0.211130   0.118209   \n",
       "\n",
       "          false positive rate  false negative rate  selection rate    count  \n",
       "majmin                                                                       \n",
       "majority             0.866333             0.019365        0.881437  69170.0  \n",
       "minority             0.959333             0.013091        0.962512  20540.0  "
      ]
     },
     "execution_count": 62,
     "metadata": {},
     "output_type": "execute_result"
    }
   ],
   "source": [
    "metric_frame.by_group"
   ]
  },
  {
   "cell_type": "code",
   "execution_count": 63,
   "id": "a9ddbe63",
   "metadata": {
    "execution": {
     "iopub.execute_input": "2025-08-05T15:49:58.746918Z",
     "iopub.status.busy": "2025-08-05T15:49:58.745933Z",
     "iopub.status.idle": "2025-08-05T15:50:01.493912Z",
     "shell.execute_reply": "2025-08-05T15:50:01.492844Z"
    },
    "papermill": {
     "duration": 2.775873,
     "end_time": "2025-08-05T15:50:01.495565",
     "exception": false,
     "start_time": "2025-08-05T15:49:58.719692",
     "status": "completed"
    },
    "tags": []
   },
   "outputs": [
    {
     "data": {
      "text/plain": [
       "array([[<Axes: title={'center': 'accuracy'}, xlabel='majmin'>,\n",
       "        <Axes: title={'center': 'balanced accuracy'}, xlabel='majmin'>,\n",
       "        <Axes: title={'center': 'f1'}, xlabel='majmin'>],\n",
       "       [<Axes: title={'center': 'precision'}, xlabel='majmin'>,\n",
       "        <Axes: title={'center': 'false positive rate'}, xlabel='majmin'>,\n",
       "        <Axes: title={'center': 'false negative rate'}, xlabel='majmin'>],\n",
       "       [<Axes: title={'center': 'selection rate'}, xlabel='majmin'>,\n",
       "        <Axes: title={'center': 'count'}, xlabel='majmin'>,\n",
       "        <Axes: xlabel='majmin'>]], dtype=object)"
      ]
     },
     "execution_count": 63,
     "metadata": {},
     "output_type": "execute_result"
    },
    {
     "data": {
      "image/png": "[encoded data removed]",
      "text/plain": [
       "<Figure size 1200x800 with 9 Axes>"
      ]
     },
     "metadata": {},
     "output_type": "display_data"
    }
   ],
   "source": [
    "# In a graphic\n",
    "metric_frame.by_group.plot.bar(\n",
    "    subplots=True,\n",
    "    layout=[3, 3],\n",
    "    legend=False,\n",
    "    figsize=[12, 8],\n",
    "    title=\"Show all metrics\",\n",
    ")"
   ]
  },
  {
   "cell_type": "markdown",
   "id": "f57a0bac",
   "metadata": {
    "papermill": {
     "duration": 0.024126,
     "end_time": "2025-08-05T15:50:01.546078",
     "exception": false,
     "start_time": "2025-08-05T15:50:01.521952",
     "status": "completed"
    },
    "tags": []
   },
   "source": [
    "# Final Output"
   ]
  },
  {
   "cell_type": "code",
   "execution_count": 64,
   "id": "96d280a3",
   "metadata": {
    "execution": {
     "iopub.execute_input": "2025-08-05T15:50:01.598077Z",
     "iopub.status.busy": "2025-08-05T15:50:01.597324Z",
     "iopub.status.idle": "2025-08-05T15:50:01.607308Z",
     "shell.execute_reply": "2025-08-05T15:50:01.606357Z"
    },
    "papermill": {
     "duration": 0.037832,
     "end_time": "2025-08-05T15:50:01.608952",
     "exception": false,
     "start_time": "2025-08-05T15:50:01.571120",
     "status": "completed"
    },
    "tags": []
   },
   "outputs": [
    {
     "data": {
      "text/plain": [
       "4"
      ]
     },
     "execution_count": 64,
     "metadata": {},
     "output_type": "execute_result"
    }
   ],
   "source": [
    "sub_universes = universe_analysis.generate_sub_universes()\n",
    "len(sub_universes)"
   ]
  },
  {
   "cell_type": "code",
   "execution_count": 65,
   "id": "92adf7ba",
   "metadata": {
    "execution": {
     "iopub.execute_input": "2025-08-05T15:50:01.659660Z",
     "iopub.status.busy": "2025-08-05T15:50:01.658849Z",
     "iopub.status.idle": "2025-08-05T15:50:01.665326Z",
     "shell.execute_reply": "2025-08-05T15:50:01.664509Z"
    },
    "papermill": {
     "duration": 0.034329,
     "end_time": "2025-08-05T15:50:01.666962",
     "exception": false,
     "start_time": "2025-08-05T15:50:01.632633",
     "status": "completed"
    },
    "tags": []
   },
   "outputs": [],
   "source": [
    "def filter_sub_universe_data(sub_universe, org_test):\n",
    "    # Keep all rows — no filtering\n",
    "    keep_rows_mask = np.ones(org_test.shape[0], dtype=bool)\n",
    "\n",
    "    print(f\"[INFO] Keeping all rows: {keep_rows_mask.sum()} rows retained.\")\n",
    "    return keep_rows_mask"
   ]
  },
  {
   "cell_type": "code",
   "execution_count": 66,
   "id": "4a759155",
   "metadata": {
    "execution": {
     "iopub.execute_input": "2025-08-05T15:50:01.701408Z",
     "iopub.status.busy": "2025-08-05T15:50:01.700707Z",
     "iopub.status.idle": "2025-08-05T15:50:09.656822Z",
     "shell.execute_reply": "2025-08-05T15:50:09.655697Z"
    },
    "papermill": {
     "duration": 7.971996,
     "end_time": "2025-08-05T15:50:09.658814",
     "exception": false,
     "start_time": "2025-08-05T15:50:01.686818",
     "status": "completed"
    },
    "tags": []
   },
   "outputs": [
    {
     "name": "stdout",
     "output_type": "stream",
     "text": [
      "Stopping execution_time clock.\n",
      "[INFO] Keeping all rows: 89710 rows retained.\n"
     ]
    },
    {
     "name": "stdout",
     "output_type": "stream",
     "text": [
      "[INFO] Keeping all rows: 89710 rows retained.\n"
     ]
    },
    {
     "name": "stdout",
     "output_type": "stream",
     "text": [
      "[INFO] Keeping all rows: 89710 rows retained.\n"
     ]
    },
    {
     "name": "stdout",
     "output_type": "stream",
     "text": [
      "[INFO] Keeping all rows: 89710 rows retained.\n"
     ]
    },
    {
     "data": {
      "text/html": [
       "<div>\n",
       "<style scoped>\n",
       "    .dataframe tbody tr th:only-of-type {\n",
       "        vertical-align: middle;\n",
       "    }\n",
       "\n",
       "    .dataframe tbody tr th {\n",
       "        vertical-align: top;\n",
       "    }\n",
       "\n",
       "    .dataframe thead th {\n",
       "        text-align: right;\n",
       "    }\n",
       "</style>\n",
       "<table border=\"1\" class=\"dataframe\">\n",
       "  <thead>\n",
       "    <tr style=\"text-align: right;\">\n",
       "      <th></th>\n",
       "      <th>run_no</th>\n",
       "      <th>universe_id</th>\n",
       "      <th>universe_settings</th>\n",
       "      <th>execution_time</th>\n",
       "      <th>test_size_n</th>\n",
       "      <th>test_size_frac</th>\n",
       "      <th>fair_main_equalized_odds_difference</th>\n",
       "      <th>fair_main_equalized_odds_ratio</th>\n",
       "      <th>fair_main_demographic_parity_difference</th>\n",
       "      <th>fair_main_demographic_parity_ratio</th>\n",
       "      <th>...</th>\n",
       "      <th>perf_grp_precision_0</th>\n",
       "      <th>perf_grp_precision_1</th>\n",
       "      <th>perf_grp_false positive rate_0</th>\n",
       "      <th>perf_grp_false positive rate_1</th>\n",
       "      <th>perf_grp_false negative rate_0</th>\n",
       "      <th>perf_grp_false negative rate_1</th>\n",
       "      <th>perf_grp_selection rate_0</th>\n",
       "      <th>perf_grp_selection rate_1</th>\n",
       "      <th>perf_grp_count_0</th>\n",
       "      <th>perf_grp_count_1</th>\n",
       "    </tr>\n",
       "  </thead>\n",
       "  <tbody>\n",
       "    <tr>\n",
       "      <th>0</th>\n",
       "      <td>15</td>\n",
       "      <td>9dd2adcb6307b3ca66244b39473cb90c</td>\n",
       "      <td>{\"cutoff\": \"quantile_0.1\", \"eval_fairness_grou...</td>\n",
       "      <td>28.596555</td>\n",
       "      <td>89710</td>\n",
       "      <td>1.0</td>\n",
       "      <td>0.093000</td>\n",
       "      <td>0.903058</td>\n",
       "      <td>0.081075</td>\n",
       "      <td>0.915767</td>\n",
       "      <td>...</td>\n",
       "      <td>NaN</td>\n",
       "      <td>NaN</td>\n",
       "      <td>NaN</td>\n",
       "      <td>NaN</td>\n",
       "      <td>NaN</td>\n",
       "      <td>NaN</td>\n",
       "      <td>NaN</td>\n",
       "      <td>NaN</td>\n",
       "      <td>NaN</td>\n",
       "      <td>NaN</td>\n",
       "    </tr>\n",
       "    <tr>\n",
       "      <th>0</th>\n",
       "      <td>15</td>\n",
       "      <td>9dd2adcb6307b3ca66244b39473cb90c</td>\n",
       "      <td>{\"cutoff\": \"quantile_0.1\", \"eval_fairness_grou...</td>\n",
       "      <td>28.596555</td>\n",
       "      <td>89710</td>\n",
       "      <td>1.0</td>\n",
       "      <td>0.093000</td>\n",
       "      <td>0.903058</td>\n",
       "      <td>0.081075</td>\n",
       "      <td>0.915767</td>\n",
       "      <td>...</td>\n",
       "      <td>0.118209</td>\n",
       "      <td>0.147009</td>\n",
       "      <td>0.959333</td>\n",
       "      <td>0.866333</td>\n",
       "      <td>0.013091</td>\n",
       "      <td>0.019365</td>\n",
       "      <td>0.962512</td>\n",
       "      <td>0.881437</td>\n",
       "      <td>20540.0</td>\n",
       "      <td>69170.0</td>\n",
       "    </tr>\n",
       "    <tr>\n",
       "      <th>0</th>\n",
       "      <td>15</td>\n",
       "      <td>9dd2adcb6307b3ca66244b39473cb90c</td>\n",
       "      <td>{\"cutoff\": \"quantile_0.25\", \"eval_fairness_gro...</td>\n",
       "      <td>28.596555</td>\n",
       "      <td>89710</td>\n",
       "      <td>1.0</td>\n",
       "      <td>0.155335</td>\n",
       "      <td>0.815555</td>\n",
       "      <td>0.135196</td>\n",
       "      <td>0.841735</td>\n",
       "      <td>...</td>\n",
       "      <td>NaN</td>\n",
       "      <td>NaN</td>\n",
       "      <td>NaN</td>\n",
       "      <td>NaN</td>\n",
       "      <td>NaN</td>\n",
       "      <td>NaN</td>\n",
       "      <td>NaN</td>\n",
       "      <td>NaN</td>\n",
       "      <td>NaN</td>\n",
       "      <td>NaN</td>\n",
       "    </tr>\n",
       "    <tr>\n",
       "      <th>0</th>\n",
       "      <td>15</td>\n",
       "      <td>9dd2adcb6307b3ca66244b39473cb90c</td>\n",
       "      <td>{\"cutoff\": \"quantile_0.25\", \"eval_fairness_gro...</td>\n",
       "      <td>28.596555</td>\n",
       "      <td>89710</td>\n",
       "      <td>1.0</td>\n",
       "      <td>0.155335</td>\n",
       "      <td>0.815555</td>\n",
       "      <td>0.135196</td>\n",
       "      <td>0.841735</td>\n",
       "      <td>...</td>\n",
       "      <td>0.127778</td>\n",
       "      <td>0.171003</td>\n",
       "      <td>0.842175</td>\n",
       "      <td>0.686840</td>\n",
       "      <td>0.053209</td>\n",
       "      <td>0.069475</td>\n",
       "      <td>0.854236</td>\n",
       "      <td>0.719040</td>\n",
       "      <td>20540.0</td>\n",
       "      <td>69170.0</td>\n",
       "    </tr>\n",
       "  </tbody>\n",
       "</table>\n",
       "<p>4 rows × 50 columns</p>\n",
       "</div>"
      ],
      "text/plain": [
       "  run_no                       universe_id  \\\n",
       "0     15  9dd2adcb6307b3ca66244b39473cb90c   \n",
       "0     15  9dd2adcb6307b3ca66244b39473cb90c   \n",
       "0     15  9dd2adcb6307b3ca66244b39473cb90c   \n",
       "0     15  9dd2adcb6307b3ca66244b39473cb90c   \n",
       "\n",
       "                                   universe_settings  execution_time  \\\n",
       "0  {\"cutoff\": \"quantile_0.1\", \"eval_fairness_grou...       28.596555   \n",
       "0  {\"cutoff\": \"quantile_0.1\", \"eval_fairness_grou...       28.596555   \n",
       "0  {\"cutoff\": \"quantile_0.25\", \"eval_fairness_gro...       28.596555   \n",
       "0  {\"cutoff\": \"quantile_0.25\", \"eval_fairness_gro...       28.596555   \n",
       "\n",
       "   test_size_n  test_size_frac  fair_main_equalized_odds_difference  \\\n",
       "0        89710             1.0                             0.093000   \n",
       "0        89710             1.0                             0.093000   \n",
       "0        89710             1.0                             0.155335   \n",
       "0        89710             1.0                             0.155335   \n",
       "\n",
       "   fair_main_equalized_odds_ratio  fair_main_demographic_parity_difference  \\\n",
       "0                        0.903058                                 0.081075   \n",
       "0                        0.903058                                 0.081075   \n",
       "0                        0.815555                                 0.135196   \n",
       "0                        0.815555                                 0.135196   \n",
       "\n",
       "   fair_main_demographic_parity_ratio  ...  perf_grp_precision_0  \\\n",
       "0                            0.915767  ...                   NaN   \n",
       "0                            0.915767  ...              0.118209   \n",
       "0                            0.841735  ...                   NaN   \n",
       "0                            0.841735  ...              0.127778   \n",
       "\n",
       "   perf_grp_precision_1  perf_grp_false positive rate_0  \\\n",
       "0                   NaN                             NaN   \n",
       "0              0.147009                        0.959333   \n",
       "0                   NaN                             NaN   \n",
       "0              0.171003                        0.842175   \n",
       "\n",
       "   perf_grp_false positive rate_1  perf_grp_false negative rate_0  \\\n",
       "0                             NaN                             NaN   \n",
       "0                        0.866333                        0.013091   \n",
       "0                             NaN                             NaN   \n",
       "0                        0.686840                        0.053209   \n",
       "\n",
       "   perf_grp_false negative rate_1  perf_grp_selection rate_0  \\\n",
       "0                             NaN                        NaN   \n",
       "0                        0.019365                   0.962512   \n",
       "0                             NaN                        NaN   \n",
       "0                        0.069475                   0.854236   \n",
       "\n",
       "   perf_grp_selection rate_1  perf_grp_count_0  perf_grp_count_1  \n",
       "0                        NaN               NaN               NaN  \n",
       "0                   0.881437           20540.0           69170.0  \n",
       "0                        NaN               NaN               NaN  \n",
       "0                   0.719040           20540.0           69170.0  \n",
       "\n",
       "[4 rows x 50 columns]"
      ]
     },
     "execution_count": 66,
     "metadata": {},
     "output_type": "execute_result"
    }
   ],
   "source": [
    "final_output = universe_analysis.generate_final_output(\n",
    "    y_pred_prob=probs_test,\n",
    "    y_test=y_true,\n",
    "    org_test=org_test,\n",
    "    filter_data=filter_sub_universe_data,\n",
    "    cp_metrics_df=cp_metrics_df,\n",
    "    save=True,\n",
    ")\n",
    "final_output"
   ]
  }
 ],
 "metadata": {
  "celltoolbar": "Tags",
  "kernelspec": {
   "display_name": "Python (CMA Fairness)",
   "language": "python",
   "name": "cma_fair_env"
  },
  "language_info": {
   "codemirror_mode": {
    "name": "ipython",
    "version": 3
   },
   "file_extension": ".py",
   "mimetype": "text/x-python",
   "name": "python",
   "nbconvert_exporter": "python",
   "pygments_lexer": "ipython3",
   "version": "3.10.12"
  },
  "papermill": {
   "default_parameters": {},
   "duration": 40.916599,
   "end_time": "2025-08-05T15:50:10.509816",
   "environment_variables": {},
   "exception": null,
   "input_path": "universe_analysis.ipynb",
   "output_path": "output/runs/15/notebooks/m_15-9dd2adcb6307b3ca66244b39473cb90c.ipynb",
   "parameters": {
    "output_dir": "output",
    "run_no": "15",
    "seed": "2023",
    "universe": "{\"cutoff\": [\"quantile_0.1\", \"quantile_0.25\"], \"eval_fairness_grouping\": [\"majority-minority\", \"nationality-all\"], \"exclude_features\": \"nationality-sex\", \"exclude_subgroups\": \"keep-all\", \"model\": \"penalized_logreg\", \"scale\": \"scale\", \"training_size\": \"5k\", \"training_year\": \"2010_14\"}",
    "universe_id": "9dd2adcb6307b3ca66244b39473cb90c"
   },
   "start_time": "2025-08-05T15:49:29.593217",
   "version": "2.6.0"
  }
 },
 "nbformat": 4,
 "nbformat_minor": 5
}