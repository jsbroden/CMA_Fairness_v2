{
 "cells": [
  {
   "cell_type": "code",
   "execution_count": 1,
   "id": "f159f837-637b-42ba-96b5-ec9a68c44524",
   "metadata": {
    "execution": {
     "iopub.execute_input": "2025-08-05T16:42:59.512747Z",
     "iopub.status.busy": "2025-08-05T16:42:59.512002Z",
     "iopub.status.idle": "2025-08-05T16:42:59.526858Z",
     "shell.execute_reply": "2025-08-05T16:42:59.525869Z"
    },
    "papermill": {
     "duration": 0.041062,
     "end_time": "2025-08-05T16:42:59.528620",
     "exception": false,
     "start_time": "2025-08-05T16:42:59.487558",
     "status": "completed"
    },
    "tags": []
   },
   "outputs": [
    {
     "name": "stdout",
     "output_type": "stream",
     "text": [
      "/dss/dsshome1/0C/ra93lal2/cma/CMA_Fairness_v2\n"
     ]
    },
    {
     "name": "stderr",
     "output_type": "stream",
     "text": [
      "/dss/dsshome1/0C/ra93lal2/.local/share/virtualenvs/CMA_Fairness_v2-3j10GkSs/lib/python3.10/site-packages/IPython/core/magics/osm.py:393: UserWarning: This is now an optional IPython functionality, using bookmarks requires you to install the `pickleshare` library.\n",
      "  bkms = self.shell.db.get('bookmarks', {})\n",
      "/dss/dsshome1/0C/ra93lal2/.local/share/virtualenvs/CMA_Fairness_v2-3j10GkSs/lib/python3.10/site-packages/IPython/core/magics/osm.py:417: UserWarning: This is now an optional IPython functionality, setting dhist requires you to install the `pickleshare` library.\n",
      "  self.shell.db['dhist'] = compress_dhist(dhist)[-100:]\n"
     ]
    }
   ],
   "source": [
    "%cd ~/cma/CMA_Fairness_v2"
   ]
  },
  {
   "cell_type": "markdown",
   "id": "de2603b9",
   "metadata": {
    "papermill": {
     "duration": 0.023363,
     "end_time": "2025-08-05T16:42:59.572869",
     "exception": false,
     "start_time": "2025-08-05T16:42:59.549506",
     "status": "completed"
    },
    "tags": []
   },
   "source": [
    "The following cell holds the definition of our parameters, these values can be overriden by rendering the with e.g. the following command:\n",
    "\n",
    "papermill -p alpha 0.2 -p ratio 0.3 universe_analysis.ipynb output/test_run.ipynb"
   ]
  },
  {
   "cell_type": "code",
   "execution_count": 2,
   "id": "a80968a0-40bb-4fa9-85ef-2d5eefb01975",
   "metadata": {
    "execution": {
     "iopub.execute_input": "2025-08-05T16:42:59.617007Z",
     "iopub.status.busy": "2025-08-05T16:42:59.616650Z",
     "iopub.status.idle": "2025-08-05T16:42:59.623386Z",
     "shell.execute_reply": "2025-08-05T16:42:59.622356Z"
    },
    "papermill": {
     "duration": 0.03067,
     "end_time": "2025-08-05T16:42:59.625231",
     "exception": false,
     "start_time": "2025-08-05T16:42:59.594561",
     "status": "completed"
    },
    "tags": []
   },
   "outputs": [
    {
     "name": "stdout",
     "output_type": "stream",
     "text": [
      "Current working directory: /dss/dsshome1/0C/ra93lal2/cma/CMA_Fairness_v2\n"
     ]
    }
   ],
   "source": [
    "import os\n",
    "print(\"Current working directory:\", os.getcwd())"
   ]
  },
  {
   "cell_type": "code",
   "execution_count": 3,
   "id": "2dce4c03",
   "metadata": {
    "execution": {
     "iopub.execute_input": "2025-08-05T16:42:59.665152Z",
     "iopub.status.busy": "2025-08-05T16:42:59.664751Z",
     "iopub.status.idle": "2025-08-05T16:42:59.671066Z",
     "shell.execute_reply": "2025-08-05T16:42:59.670038Z"
    },
    "papermill": {
     "duration": 0.028461,
     "end_time": "2025-08-05T16:42:59.672984",
     "exception": false,
     "start_time": "2025-08-05T16:42:59.644523",
     "status": "completed"
    },
    "tags": [
     "parameters"
    ]
   },
   "outputs": [],
   "source": [
    "run_no = 0\n",
    "universe_id = \"test\"\n",
    "universe = {\n",
    "    \"training_size\": \"25k\", # \"25k\", \"5k\", \"1k\"\n",
    "    \"training_year\": \"2014\", # \"2014\", \"2012_14\", \"2010_14\"\n",
    "    \"scale\": \"scale\", # \"scale\", \"do-not-scale\",\n",
    "    \"model\": \"elasticnet\", # \"logreg\", \"penalized_logreg\", \"rf\", \"gbm\", \"elasticnet\"\n",
    "    \"cutoff\": [\"quantile_0.15\", \"quantile_0.30\"],\n",
    "    \"exclude_features\": \"age\", # \"none\", \"nationality\", \"sex\", \"nationality-sex\", \"age\"\n",
    "    \"exclude_subgroups\": \"keep-all\", # \"keep-all\", \"drop-non-german\"\n",
    "    \"eval_fairness_grouping\": [\"majority-minority\", \"nationality-all\"]\n",
    "}\n",
    "\n",
    "output_dir=\"./output\"\n",
    "seed=0"
   ]
  },
  {
   "cell_type": "code",
   "execution_count": 4,
   "id": "668d6404",
   "metadata": {
    "execution": {
     "iopub.execute_input": "2025-08-05T16:42:59.716522Z",
     "iopub.status.busy": "2025-08-05T16:42:59.716205Z",
     "iopub.status.idle": "2025-08-05T16:42:59.721485Z",
     "shell.execute_reply": "2025-08-05T16:42:59.720467Z"
    },
    "papermill": {
     "duration": 0.029444,
     "end_time": "2025-08-05T16:42:59.723387",
     "exception": false,
     "start_time": "2025-08-05T16:42:59.693943",
     "status": "completed"
    },
    "tags": [
     "injected-parameters"
    ]
   },
   "outputs": [],
   "source": [
    "# Parameters\n",
    "universe_id = \"a0c4c21801cf2bc5133f631180775d4c\"\n",
    "run_no = \"15\"\n",
    "universe = \"{\\\"cutoff\\\": [\\\"quantile_0.1\\\", \\\"quantile_0.25\\\"], \\\"eval_fairness_grouping\\\": [\\\"majority-minority\\\", \\\"nationality-all\\\"], \\\"exclude_features\\\": \\\"nationality\\\", \\\"exclude_subgroups\\\": \\\"keep-all\\\", \\\"model\\\": \\\"gbm\\\", \\\"scale\\\": \\\"do-not-scale\\\", \\\"training_size\\\": \\\"1k\\\", \\\"training_year\\\": \\\"2010_14\\\"}\"\n",
    "output_dir = \"output\"\n",
    "seed = \"2023\"\n"
   ]
  },
  {
   "cell_type": "code",
   "execution_count": 5,
   "id": "1650acaf",
   "metadata": {
    "execution": {
     "iopub.execute_input": "2025-08-05T16:42:59.767330Z",
     "iopub.status.busy": "2025-08-05T16:42:59.766975Z",
     "iopub.status.idle": "2025-08-05T16:42:59.771746Z",
     "shell.execute_reply": "2025-08-05T16:42:59.770677Z"
    },
    "papermill": {
     "duration": 0.028936,
     "end_time": "2025-08-05T16:42:59.773715",
     "exception": false,
     "start_time": "2025-08-05T16:42:59.744779",
     "status": "completed"
    },
    "tags": []
   },
   "outputs": [],
   "source": [
    "import json\n",
    "if isinstance(universe, str):\n",
    "    universe = json.loads(universe)"
   ]
  },
  {
   "cell_type": "code",
   "execution_count": 6,
   "id": "16620c48",
   "metadata": {
    "execution": {
     "iopub.execute_input": "2025-08-05T16:42:59.818688Z",
     "iopub.status.busy": "2025-08-05T16:42:59.817816Z",
     "iopub.status.idle": "2025-08-05T16:42:59.868854Z",
     "shell.execute_reply": "2025-08-05T16:42:59.867852Z"
    },
    "papermill": {
     "duration": 0.074852,
     "end_time": "2025-08-05T16:42:59.870974",
     "exception": false,
     "start_time": "2025-08-05T16:42:59.796122",
     "status": "completed"
    },
    "tags": []
   },
   "outputs": [],
   "source": [
    "# Auto-reload the custom package\n",
    "%load_ext autoreload\n",
    "%autoreload 1\n",
    "%aimport fairness_multiverse"
   ]
  },
  {
   "cell_type": "code",
   "execution_count": 7,
   "id": "01c5c9f3",
   "metadata": {
    "execution": {
     "iopub.execute_input": "2025-08-05T16:42:59.915367Z",
     "iopub.status.busy": "2025-08-05T16:42:59.914547Z",
     "iopub.status.idle": "2025-08-05T16:43:01.679141Z",
     "shell.execute_reply": "2025-08-05T16:43:01.678234Z"
    },
    "papermill": {
     "duration": 1.78853,
     "end_time": "2025-08-05T16:43:01.680817",
     "exception": false,
     "start_time": "2025-08-05T16:42:59.892287",
     "status": "completed"
    },
    "tags": []
   },
   "outputs": [],
   "source": [
    "from fairness_multiverse.universe import UniverseAnalysis\n",
    "\n",
    "universe_analysis = UniverseAnalysis(\n",
    "    run_no = run_no,\n",
    "    universe_id = universe_id,\n",
    "    universe = universe,\n",
    "    output_dir=output_dir,\n",
    ")"
   ]
  },
  {
   "cell_type": "code",
   "execution_count": 8,
   "id": "106241f5",
   "metadata": {
    "execution": {
     "iopub.execute_input": "2025-08-05T16:43:01.704778Z",
     "iopub.status.busy": "2025-08-05T16:43:01.704009Z",
     "iopub.status.idle": "2025-08-05T16:43:01.710341Z",
     "shell.execute_reply": "2025-08-05T16:43:01.709338Z"
    },
    "papermill": {
     "duration": 0.019748,
     "end_time": "2025-08-05T16:43:01.711930",
     "exception": false,
     "start_time": "2025-08-05T16:43:01.692182",
     "status": "completed"
    },
    "tags": []
   },
   "outputs": [
    {
     "name": "stdout",
     "output_type": "stream",
     "text": [
      "Using Seed: 2023\n"
     ]
    }
   ],
   "source": [
    "import numpy as np\n",
    "parsed_seed = int(seed)\n",
    "np.random.seed(parsed_seed)\n",
    "print(f\"Using Seed: {parsed_seed}\")"
   ]
  },
  {
   "cell_type": "markdown",
   "id": "e0ebdc57",
   "metadata": {
    "papermill": {
     "duration": 0.010512,
     "end_time": "2025-08-05T16:43:01.733230",
     "exception": false,
     "start_time": "2025-08-05T16:43:01.722718",
     "status": "completed"
    },
    "tags": []
   },
   "source": [
    "# Loading Data"
   ]
  },
  {
   "cell_type": "code",
   "execution_count": 9,
   "id": "f0496b8a",
   "metadata": {
    "execution": {
     "iopub.execute_input": "2025-08-05T16:43:01.755859Z",
     "iopub.status.busy": "2025-08-05T16:43:01.755229Z",
     "iopub.status.idle": "2025-08-05T16:43:13.032452Z",
     "shell.execute_reply": "2025-08-05T16:43:13.030913Z"
    },
    "papermill": {
     "duration": 11.290673,
     "end_time": "2025-08-05T16:43:13.034437",
     "exception": false,
     "start_time": "2025-08-05T16:43:01.743764",
     "status": "completed"
    },
    "tags": []
   },
   "outputs": [
    {
     "name": "stdout",
     "output_type": "stream",
     "text": [
      "Loading SIAB data from cache: data/siab_cached.csv.gz\n"
     ]
    },
    {
     "name": "stdout",
     "output_type": "stream",
     "text": [
      "(643690, 164)\n"
     ]
    }
   ],
   "source": [
    "from pathlib import Path\n",
    "import pandas as pd\n",
    "\n",
    "# File paths\n",
    "raw_file = Path(\"data/raw/siab.csv\")\n",
    "cache_file = Path(\"data/siab_cached.csv.gz\")\n",
    "\n",
    "# Ensure cache directory exists\n",
    "cache_file.parent.mkdir(parents=True, exist_ok=True)\n",
    "\n",
    "# Load with simple caching\n",
    "if cache_file.exists():\n",
    "    print(f\"Loading SIAB data from cache: {cache_file}\")\n",
    "    siab = pd.read_csv(cache_file, compression='gzip')\n",
    "else:\n",
    "    print(f\"Cache not found. Reading raw SIAB data: {raw_file}\")\n",
    "    siab = pd.read_csv(raw_file)\n",
    "    siab.to_csv(cache_file, index=False, compression='gzip')\n",
    "    print(f\"Cached SIAB data to: {cache_file}\")\n",
    "\n",
    "print(siab.shape)"
   ]
  },
  {
   "cell_type": "code",
   "execution_count": 10,
   "id": "db0ca512-5f53-4dba-abdb-a2888bca41ba",
   "metadata": {
    "execution": {
     "iopub.execute_input": "2025-08-05T16:43:13.061752Z",
     "iopub.status.busy": "2025-08-05T16:43:13.061050Z",
     "iopub.status.idle": "2025-08-05T16:43:13.067019Z",
     "shell.execute_reply": "2025-08-05T16:43:13.066020Z"
    },
    "papermill": {
     "duration": 0.019562,
     "end_time": "2025-08-05T16:43:13.068579",
     "exception": false,
     "start_time": "2025-08-05T16:43:13.049017",
     "status": "completed"
    },
    "tags": []
   },
   "outputs": [],
   "source": [
    "#siab"
   ]
  },
  {
   "cell_type": "markdown",
   "id": "997051c5-15bd-4b69-9786-c3001a3ce484",
   "metadata": {
    "papermill": {
     "duration": 0.011032,
     "end_time": "2025-08-05T16:43:13.090773",
     "exception": false,
     "start_time": "2025-08-05T16:43:13.079741",
     "status": "completed"
    },
    "tags": []
   },
   "source": [
    "# Splitting Data and Setting Training Data Size"
   ]
  },
  {
   "cell_type": "code",
   "execution_count": 11,
   "id": "aea9c6ef-6f46-42c8-85eb-5a62025c1508",
   "metadata": {
    "execution": {
     "iopub.execute_input": "2025-08-05T16:43:13.114504Z",
     "iopub.status.busy": "2025-08-05T16:43:13.113576Z",
     "iopub.status.idle": "2025-08-05T16:43:14.177482Z",
     "shell.execute_reply": "2025-08-05T16:43:14.176257Z"
    },
    "papermill": {
     "duration": 1.078118,
     "end_time": "2025-08-05T16:43:14.179895",
     "exception": false,
     "start_time": "2025-08-05T16:43:13.101777",
     "status": "completed"
    },
    "tags": []
   },
   "outputs": [],
   "source": [
    "from fairness_multiverse.universe import sample_by_year_size\n",
    "\n",
    "siab_train = sample_by_year_size(siab,\n",
    "                               training_year=universe[\"training_year\"],\n",
    "                               training_size=universe[\"training_size\"])"
   ]
  },
  {
   "cell_type": "code",
   "execution_count": 12,
   "id": "8d3afb32-789d-442c-8d5d-9f5aa8dd2eed",
   "metadata": {
    "execution": {
     "iopub.execute_input": "2025-08-05T16:43:14.225003Z",
     "iopub.status.busy": "2025-08-05T16:43:14.224062Z",
     "iopub.status.idle": "2025-08-05T16:43:14.230484Z",
     "shell.execute_reply": "2025-08-05T16:43:14.229383Z"
    },
    "papermill": {
     "duration": 0.030199,
     "end_time": "2025-08-05T16:43:14.232407",
     "exception": false,
     "start_time": "2025-08-05T16:43:14.202208",
     "status": "completed"
    },
    "tags": []
   },
   "outputs": [],
   "source": [
    "#siab_train.shape"
   ]
  },
  {
   "cell_type": "code",
   "execution_count": 13,
   "id": "d582db68-1a4c-47fb-84fc-08518dc1975a",
   "metadata": {
    "execution": {
     "iopub.execute_input": "2025-08-05T16:43:14.277499Z",
     "iopub.status.busy": "2025-08-05T16:43:14.276607Z",
     "iopub.status.idle": "2025-08-05T16:43:14.282759Z",
     "shell.execute_reply": "2025-08-05T16:43:14.281591Z"
    },
    "papermill": {
     "duration": 0.030908,
     "end_time": "2025-08-05T16:43:14.284484",
     "exception": false,
     "start_time": "2025-08-05T16:43:14.253576",
     "status": "completed"
    },
    "tags": []
   },
   "outputs": [],
   "source": [
    "#display(siab_train.groupby(\"year\").size())"
   ]
  },
  {
   "cell_type": "code",
   "execution_count": 14,
   "id": "a561edb4-d032-42cb-8256-22eac1111c64",
   "metadata": {
    "execution": {
     "iopub.execute_input": "2025-08-05T16:43:14.328779Z",
     "iopub.status.busy": "2025-08-05T16:43:14.327771Z",
     "iopub.status.idle": "2025-08-05T16:43:14.601086Z",
     "shell.execute_reply": "2025-08-05T16:43:14.599826Z"
    },
    "papermill": {
     "duration": 0.298017,
     "end_time": "2025-08-05T16:43:14.603517",
     "exception": false,
     "start_time": "2025-08-05T16:43:14.305500",
     "status": "completed"
    },
    "tags": []
   },
   "outputs": [],
   "source": [
    "#siab_train = siab_s[siab_s.year < 2015]\n",
    "siab_calib = siab[siab.year == 2015]\n",
    "siab_test = siab[siab.year == 2016]"
   ]
  },
  {
   "cell_type": "code",
   "execution_count": 15,
   "id": "472de16f-c3db-4916-846b-1f0de9cf1746",
   "metadata": {
    "execution": {
     "iopub.execute_input": "2025-08-05T16:43:14.651484Z",
     "iopub.status.busy": "2025-08-05T16:43:14.650470Z",
     "iopub.status.idle": "2025-08-05T16:43:14.658339Z",
     "shell.execute_reply": "2025-08-05T16:43:14.657160Z"
    },
    "papermill": {
     "duration": 0.031852,
     "end_time": "2025-08-05T16:43:14.660337",
     "exception": false,
     "start_time": "2025-08-05T16:43:14.628485",
     "status": "completed"
    },
    "tags": []
   },
   "outputs": [],
   "source": [
    "X_train = siab_train.iloc[:,4:164]\n",
    "y_train = siab_train.iloc[:, [3]]"
   ]
  },
  {
   "cell_type": "code",
   "execution_count": 16,
   "id": "828c96af-f43a-4ed6-ba47-8ac73a47d56c",
   "metadata": {
    "execution": {
     "iopub.execute_input": "2025-08-05T16:43:14.705175Z",
     "iopub.status.busy": "2025-08-05T16:43:14.704431Z",
     "iopub.status.idle": "2025-08-05T16:43:14.762934Z",
     "shell.execute_reply": "2025-08-05T16:43:14.761719Z"
    },
    "papermill": {
     "duration": 0.083011,
     "end_time": "2025-08-05T16:43:14.765331",
     "exception": false,
     "start_time": "2025-08-05T16:43:14.682320",
     "status": "completed"
    },
    "tags": []
   },
   "outputs": [],
   "source": [
    "X_calib = siab_calib.iloc[:,4:164]\n",
    "y_calib = siab_calib.iloc[:, [3]]"
   ]
  },
  {
   "cell_type": "code",
   "execution_count": 17,
   "id": "c34be9c3-6bd6-476e-acd3-845840e303be",
   "metadata": {
    "execution": {
     "iopub.execute_input": "2025-08-05T16:43:14.815737Z",
     "iopub.status.busy": "2025-08-05T16:43:14.814813Z",
     "iopub.status.idle": "2025-08-05T16:43:14.875278Z",
     "shell.execute_reply": "2025-08-05T16:43:14.873957Z"
    },
    "papermill": {
     "duration": 0.087526,
     "end_time": "2025-08-05T16:43:14.877606",
     "exception": false,
     "start_time": "2025-08-05T16:43:14.790080",
     "status": "completed"
    },
    "tags": []
   },
   "outputs": [],
   "source": [
    "X_test = siab_test.iloc[:,4:164]\n",
    "y_true = siab_test.iloc[:, [3]]"
   ]
  },
  {
   "cell_type": "code",
   "execution_count": 18,
   "id": "e6c733c5",
   "metadata": {
    "execution": {
     "iopub.execute_input": "2025-08-05T16:43:14.929698Z",
     "iopub.status.busy": "2025-08-05T16:43:14.928634Z",
     "iopub.status.idle": "2025-08-05T16:43:15.036126Z",
     "shell.execute_reply": "2025-08-05T16:43:15.035011Z"
    },
    "papermill": {
     "duration": 0.135526,
     "end_time": "2025-08-05T16:43:15.038523",
     "exception": false,
     "start_time": "2025-08-05T16:43:14.902997",
     "status": "completed"
    },
    "tags": []
   },
   "outputs": [],
   "source": [
    "# Auxiliary data needed downstream in the pipeline\n",
    "\n",
    "org_train = X_train.copy()\n",
    "org_test = X_test.copy()\n",
    "org_calib = X_calib.copy()"
   ]
  },
  {
   "cell_type": "markdown",
   "id": "0a4a1b33",
   "metadata": {
    "papermill": {
     "duration": 0.021518,
     "end_time": "2025-08-05T16:43:15.082182",
     "exception": false,
     "start_time": "2025-08-05T16:43:15.060664",
     "status": "completed"
    },
    "tags": []
   },
   "source": [
    "# Preprocessing Data"
   ]
  },
  {
   "cell_type": "code",
   "execution_count": 19,
   "id": "ca879031",
   "metadata": {
    "execution": {
     "iopub.execute_input": "2025-08-05T16:43:15.128262Z",
     "iopub.status.busy": "2025-08-05T16:43:15.127340Z",
     "iopub.status.idle": "2025-08-05T16:43:15.135257Z",
     "shell.execute_reply": "2025-08-05T16:43:15.133989Z"
    },
    "papermill": {
     "duration": 0.032799,
     "end_time": "2025-08-05T16:43:15.137041",
     "exception": false,
     "start_time": "2025-08-05T16:43:15.104242",
     "status": "completed"
    },
    "tags": []
   },
   "outputs": [],
   "source": [
    "# EXCLUDE PROTECTED FEATURES\n",
    "# ----------------------\n",
    "# \"exclude_features\": \"none\", # \"nationality\", \"sex\", \"nationality-sex\"\n",
    "\n",
    "excluded_features = universe[\"exclude_features\"].split(\"-\") # split, e.g.: \"nationality-sex\" -> [\"nationality\", \"sex\"]\n",
    "excluded_features_dictionary = {\n",
    "    \"nationality\": [\"maxdeutsch1\", \"maxdeutsch.Missing.\"],\n",
    "    \"sex\": [\"frau1\"],\n",
    "    \"age\": [\"age\"],\n",
    "}"
   ]
  },
  {
   "cell_type": "code",
   "execution_count": 20,
   "id": "b745ac60",
   "metadata": {
    "execution": {
     "iopub.execute_input": "2025-08-05T16:43:15.182566Z",
     "iopub.status.busy": "2025-08-05T16:43:15.181612Z",
     "iopub.status.idle": "2025-08-05T16:43:15.188328Z",
     "shell.execute_reply": "2025-08-05T16:43:15.187183Z"
    },
    "papermill": {
     "duration": 0.032,
     "end_time": "2025-08-05T16:43:15.190230",
     "exception": false,
     "start_time": "2025-08-05T16:43:15.158230",
     "status": "completed"
    },
    "tags": []
   },
   "outputs": [],
   "source": [
    "# Code nice names to column names\n",
    "\n",
    "excluded_features_columns = [\n",
    "    excluded_features_dictionary[f] for f in excluded_features if len(f) > 0 and f != \"none\"\n",
    "]"
   ]
  },
  {
   "cell_type": "code",
   "execution_count": 21,
   "id": "f84f73a2",
   "metadata": {
    "execution": {
     "iopub.execute_input": "2025-08-05T16:43:15.240482Z",
     "iopub.status.busy": "2025-08-05T16:43:15.239575Z",
     "iopub.status.idle": "2025-08-05T16:43:15.247376Z",
     "shell.execute_reply": "2025-08-05T16:43:15.246250Z"
    },
    "papermill": {
     "duration": 0.03538,
     "end_time": "2025-08-05T16:43:15.249371",
     "exception": false,
     "start_time": "2025-08-05T16:43:15.213991",
     "status": "completed"
    },
    "tags": []
   },
   "outputs": [],
   "source": [
    "from utils import flatten_once\n",
    "\n",
    "excluded_features_columns = flatten_once(excluded_features_columns)"
   ]
  },
  {
   "cell_type": "code",
   "execution_count": 22,
   "id": "884dea22",
   "metadata": {
    "execution": {
     "iopub.execute_input": "2025-08-05T16:43:15.299727Z",
     "iopub.status.busy": "2025-08-05T16:43:15.298669Z",
     "iopub.status.idle": "2025-08-05T16:43:15.308191Z",
     "shell.execute_reply": "2025-08-05T16:43:15.307069Z"
    },
    "papermill": {
     "duration": 0.036177,
     "end_time": "2025-08-05T16:43:15.310251",
     "exception": false,
     "start_time": "2025-08-05T16:43:15.274074",
     "status": "completed"
    },
    "tags": []
   },
   "outputs": [
    {
     "name": "stdout",
     "output_type": "stream",
     "text": [
      "Dropping features: ['maxdeutsch1', 'maxdeutsch.Missing.']\n"
     ]
    }
   ],
   "source": [
    "if len(excluded_features_columns) > 0:\n",
    "    print(f\"Dropping features: {excluded_features_columns}\")\n",
    "    X_train.drop(excluded_features_columns, axis=1, inplace=True)"
   ]
  },
  {
   "cell_type": "code",
   "execution_count": 23,
   "id": "95ab8b16",
   "metadata": {
    "execution": {
     "iopub.execute_input": "2025-08-05T16:43:15.364010Z",
     "iopub.status.busy": "2025-08-05T16:43:15.362990Z",
     "iopub.status.idle": "2025-08-05T16:43:15.423316Z",
     "shell.execute_reply": "2025-08-05T16:43:15.421818Z"
    },
    "papermill": {
     "duration": 0.089616,
     "end_time": "2025-08-05T16:43:15.425713",
     "exception": false,
     "start_time": "2025-08-05T16:43:15.336097",
     "status": "completed"
    },
    "tags": []
   },
   "outputs": [
    {
     "name": "stdout",
     "output_type": "stream",
     "text": [
      "Dropping features: ['maxdeutsch1', 'maxdeutsch.Missing.']\n"
     ]
    }
   ],
   "source": [
    "if len(excluded_features_columns) > 0:\n",
    "    print(f\"Dropping features: {excluded_features_columns}\")\n",
    "    X_test.drop(excluded_features_columns, axis=1, inplace=True)"
   ]
  },
  {
   "cell_type": "code",
   "execution_count": 24,
   "id": "1853aaf5-fb9f-46cb-a2b5-8ea4ae2237e4",
   "metadata": {
    "execution": {
     "iopub.execute_input": "2025-08-05T16:43:15.472521Z",
     "iopub.status.busy": "2025-08-05T16:43:15.471573Z",
     "iopub.status.idle": "2025-08-05T16:43:15.508300Z",
     "shell.execute_reply": "2025-08-05T16:43:15.507257Z"
    },
    "papermill": {
     "duration": 0.062511,
     "end_time": "2025-08-05T16:43:15.510307",
     "exception": false,
     "start_time": "2025-08-05T16:43:15.447796",
     "status": "completed"
    },
    "tags": []
   },
   "outputs": [
    {
     "name": "stdout",
     "output_type": "stream",
     "text": [
      "Dropping features: ['maxdeutsch1', 'maxdeutsch.Missing.']\n"
     ]
    }
   ],
   "source": [
    "if len(excluded_features_columns) > 0:\n",
    "    print(f\"Dropping features: {excluded_features_columns}\")\n",
    "    X_calib.drop(excluded_features_columns, axis=1, inplace=True)"
   ]
  },
  {
   "cell_type": "code",
   "execution_count": 25,
   "id": "76c4dc6d",
   "metadata": {
    "execution": {
     "iopub.execute_input": "2025-08-05T16:43:15.564974Z",
     "iopub.status.busy": "2025-08-05T16:43:15.563818Z",
     "iopub.status.idle": "2025-08-05T16:43:15.570609Z",
     "shell.execute_reply": "2025-08-05T16:43:15.569383Z"
    },
    "papermill": {
     "duration": 0.035759,
     "end_time": "2025-08-05T16:43:15.572644",
     "exception": false,
     "start_time": "2025-08-05T16:43:15.536885",
     "status": "completed"
    },
    "tags": []
   },
   "outputs": [],
   "source": [
    "# EXCLUDE CERTAIN SUBGROUPS\n",
    "# ----------------------\n",
    "\n",
    "mode = universe.get(\"exclude_subgroups\", \"keep-all\") \n",
    "# Fetches the exclude_subgroups setting from the universe dict.\n",
    "# Defaults to \"keep-all\" if the key is missing."
   ]
  },
  {
   "cell_type": "code",
   "execution_count": 26,
   "id": "21994072",
   "metadata": {
    "execution": {
     "iopub.execute_input": "2025-08-05T16:43:15.624556Z",
     "iopub.status.busy": "2025-08-05T16:43:15.623676Z",
     "iopub.status.idle": "2025-08-05T16:43:15.633406Z",
     "shell.execute_reply": "2025-08-05T16:43:15.632262Z"
    },
    "papermill": {
     "duration": 0.037932,
     "end_time": "2025-08-05T16:43:15.635488",
     "exception": false,
     "start_time": "2025-08-05T16:43:15.597556",
     "status": "completed"
    },
    "tags": []
   },
   "outputs": [],
   "source": [
    "if mode == \"keep-all\":\n",
    "    keep_mask = pd.Series(True, index=org_train.index)\n",
    "\n",
    "# org_train contains the original feature columns from features_org (in Simson)\n",
    "# features_org contains unprocessed features, for me X_train at beginning ???\n",
    "# For keep-all, creates a boolean Series (keep_mask) of all True, so no rows are removed.\n",
    "\n",
    "elif mode == \"drop-non-german\":\n",
    "    keep_mask = org_train[\"maxdeutsch1\"] == 1 # ??? what about missing values?\n",
    "\n",
    "else:\n",
    "    raise ValueError(f\"Unsupported mode for exclude_subgroups: {mode}\")"
   ]
  },
  {
   "cell_type": "code",
   "execution_count": 27,
   "id": "71651440",
   "metadata": {
    "execution": {
     "iopub.execute_input": "2025-08-05T16:43:15.688201Z",
     "iopub.status.busy": "2025-08-05T16:43:15.687090Z",
     "iopub.status.idle": "2025-08-05T16:43:15.695146Z",
     "shell.execute_reply": "2025-08-05T16:43:15.694072Z"
    },
    "papermill": {
     "duration": 0.035823,
     "end_time": "2025-08-05T16:43:15.697007",
     "exception": false,
     "start_time": "2025-08-05T16:43:15.661184",
     "status": "completed"
    },
    "tags": []
   },
   "outputs": [],
   "source": [
    "n_drop = (~keep_mask).sum() # Calculates how many rows are set to be dropped\n",
    "if n_drop > 0:\n",
    "    pct = n_drop / len(keep_mask) * 100\n",
    "    print(f\"Dropping {n_drop} rows ({pct:.2f}%) where mode='{mode}'\")"
   ]
  },
  {
   "cell_type": "code",
   "execution_count": 28,
   "id": "5fb8eee5",
   "metadata": {
    "execution": {
     "iopub.execute_input": "2025-08-05T16:43:15.743824Z",
     "iopub.status.busy": "2025-08-05T16:43:15.742891Z",
     "iopub.status.idle": "2025-08-05T16:43:15.750662Z",
     "shell.execute_reply": "2025-08-05T16:43:15.749466Z"
    },
    "papermill": {
     "duration": 0.032994,
     "end_time": "2025-08-05T16:43:15.752596",
     "exception": false,
     "start_time": "2025-08-05T16:43:15.719602",
     "status": "completed"
    },
    "tags": []
   },
   "outputs": [],
   "source": [
    "X_train = X_train[keep_mask]"
   ]
  },
  {
   "cell_type": "code",
   "execution_count": 29,
   "id": "b202bb3a",
   "metadata": {
    "execution": {
     "iopub.execute_input": "2025-08-05T16:43:15.800604Z",
     "iopub.status.busy": "2025-08-05T16:43:15.799723Z",
     "iopub.status.idle": "2025-08-05T16:43:15.807041Z",
     "shell.execute_reply": "2025-08-05T16:43:15.805949Z"
    },
    "papermill": {
     "duration": 0.03328,
     "end_time": "2025-08-05T16:43:15.808920",
     "exception": false,
     "start_time": "2025-08-05T16:43:15.775640",
     "status": "completed"
    },
    "tags": []
   },
   "outputs": [],
   "source": [
    "y_train = y_train[keep_mask]"
   ]
  },
  {
   "cell_type": "markdown",
   "id": "493e2ac3",
   "metadata": {
    "papermill": {
     "duration": 0.023459,
     "end_time": "2025-08-05T16:43:15.855209",
     "exception": false,
     "start_time": "2025-08-05T16:43:15.831750",
     "status": "completed"
    },
    "tags": []
   },
   "source": [
    "# Model Training"
   ]
  },
  {
   "cell_type": "code",
   "execution_count": 30,
   "id": "679e1268",
   "metadata": {
    "execution": {
     "iopub.execute_input": "2025-08-05T16:43:15.902114Z",
     "iopub.status.busy": "2025-08-05T16:43:15.901092Z",
     "iopub.status.idle": "2025-08-05T16:43:16.081053Z",
     "shell.execute_reply": "2025-08-05T16:43:16.079810Z"
    },
    "papermill": {
     "duration": 0.205802,
     "end_time": "2025-08-05T16:43:16.083431",
     "exception": false,
     "start_time": "2025-08-05T16:43:15.877629",
     "status": "completed"
    },
    "tags": []
   },
   "outputs": [],
   "source": [
    "from sklearn.linear_model import LogisticRegression\n",
    "from sklearn.ensemble import GradientBoostingClassifier, RandomForestClassifier\n",
    "\n",
    "if (universe[\"model\"] == \"logreg\"):\n",
    "    model = LogisticRegression() #penalty=\"none\", solver=\"newton-cg\", max_iter=1) # include random_state=19 ?\n",
    "elif (universe[\"model\"] == \"penalized_logreg\"):\n",
    "    model = LogisticRegression(penalty=\"l2\", C=0.1) #, solver=\"newton-cg\", max_iter=1)\n",
    "elif (universe[\"model\"] == \"rf\"):\n",
    "    model = RandomForestClassifier() # n_estimators=100, n_jobs=-1\n",
    "elif (universe[\"model\"] == \"gbm\"):\n",
    "    model = GradientBoostingClassifier()\n",
    "elif (universe[\"model\"] == \"elasticnet\"):\n",
    "    model = LogisticRegression(penalty = 'elasticnet', solver = 'saga', l1_ratio = 0.5) # max_iter=5000\n",
    "else:\n",
    "    raise \"Unsupported universe.model\""
   ]
  },
  {
   "cell_type": "code",
   "execution_count": 31,
   "id": "0cc8f744",
   "metadata": {
    "execution": {
     "iopub.execute_input": "2025-08-05T16:43:16.137500Z",
     "iopub.status.busy": "2025-08-05T16:43:16.136699Z",
     "iopub.status.idle": "2025-08-05T16:43:16.144244Z",
     "shell.execute_reply": "2025-08-05T16:43:16.142943Z"
    },
    "papermill": {
     "duration": 0.036354,
     "end_time": "2025-08-05T16:43:16.146281",
     "exception": false,
     "start_time": "2025-08-05T16:43:16.109927",
     "status": "completed"
    },
    "tags": []
   },
   "outputs": [],
   "source": [
    "import numpy as np\n",
    "from sklearn.pipeline import Pipeline\n",
    "from sklearn.preprocessing import StandardScaler\n",
    "\n",
    "model = Pipeline([\n",
    "    #(\"continuous_processor\", continuous_processor),\n",
    "    #(\"categorical_preprocessor\", categorical_preprocessor),\n",
    "    (\"scale\", StandardScaler() if universe[\"scale\"] == \"scale\" else None), \n",
    "    (\"model\", model),\n",
    "])"
   ]
  },
  {
   "cell_type": "code",
   "execution_count": 32,
   "id": "9442c04d",
   "metadata": {
    "execution": {
     "iopub.execute_input": "2025-08-05T16:43:16.199315Z",
     "iopub.status.busy": "2025-08-05T16:43:16.198529Z",
     "iopub.status.idle": "2025-08-05T16:43:17.514769Z",
     "shell.execute_reply": "2025-08-05T16:43:17.513552Z"
    },
    "papermill": {
     "duration": 1.344251,
     "end_time": "2025-08-05T16:43:17.516711",
     "exception": false,
     "start_time": "2025-08-05T16:43:16.172460",
     "status": "completed"
    },
    "tags": []
   },
   "outputs": [
    {
     "data": {
      "text/html": [
       "<style>#sk-container-id-1 {color: black;background-color: white;}#sk-container-id-1 pre{padding: 0;}#sk-container-id-1 div.sk-toggleable {background-color: white;}#sk-container-id-1 label.sk-toggleable__label {cursor: pointer;display: block;width: 100%;margin-bottom: 0;padding: 0.3em;box-sizing: border-box;text-align: center;}#sk-container-id-1 label.sk-toggleable__label-arrow:before {content: \"▸\";float: left;margin-right: 0.25em;color: #696969;}#sk-container-id-1 label.sk-toggleable__label-arrow:hover:before {color: black;}#sk-container-id-1 div.sk-estimator:hover label.sk-toggleable__label-arrow:before {color: black;}#sk-container-id-1 div.sk-toggleable__content {max-height: 0;max-width: 0;overflow: hidden;text-align: left;background-color: #f0f8ff;}#sk-container-id-1 div.sk-toggleable__content pre {margin: 0.2em;color: black;border-radius: 0.25em;background-color: #f0f8ff;}#sk-container-id-1 input.sk-toggleable__control:checked~div.sk-toggleable__content {max-height: 200px;max-width: 100%;overflow: auto;}#sk-container-id-1 input.sk-toggleable__control:checked~label.sk-toggleable__label-arrow:before {content: \"▾\";}#sk-container-id-1 div.sk-estimator input.sk-toggleable__control:checked~label.sk-toggleable__label {background-color: #d4ebff;}#sk-container-id-1 div.sk-label input.sk-toggleable__control:checked~label.sk-toggleable__label {background-color: #d4ebff;}#sk-container-id-1 input.sk-hidden--visually {border: 0;clip: rect(1px 1px 1px 1px);clip: rect(1px, 1px, 1px, 1px);height: 1px;margin: -1px;overflow: hidden;padding: 0;position: absolute;width: 1px;}#sk-container-id-1 div.sk-estimator {font-family: monospace;background-color: #f0f8ff;border: 1px dotted black;border-radius: 0.25em;box-sizing: border-box;margin-bottom: 0.5em;}#sk-container-id-1 div.sk-estimator:hover {background-color: #d4ebff;}#sk-container-id-1 div.sk-parallel-item::after {content: \"\";width: 100%;border-bottom: 1px solid gray;flex-grow: 1;}#sk-container-id-1 div.sk-label:hover label.sk-toggleable__label {background-color: #d4ebff;}#sk-container-id-1 div.sk-serial::before {content: \"\";position: absolute;border-left: 1px solid gray;box-sizing: border-box;top: 0;bottom: 0;left: 50%;z-index: 0;}#sk-container-id-1 div.sk-serial {display: flex;flex-direction: column;align-items: center;background-color: white;padding-right: 0.2em;padding-left: 0.2em;position: relative;}#sk-container-id-1 div.sk-item {position: relative;z-index: 1;}#sk-container-id-1 div.sk-parallel {display: flex;align-items: stretch;justify-content: center;background-color: white;position: relative;}#sk-container-id-1 div.sk-item::before, #sk-container-id-1 div.sk-parallel-item::before {content: \"\";position: absolute;border-left: 1px solid gray;box-sizing: border-box;top: 0;bottom: 0;left: 50%;z-index: -1;}#sk-container-id-1 div.sk-parallel-item {display: flex;flex-direction: column;z-index: 1;position: relative;background-color: white;}#sk-container-id-1 div.sk-parallel-item:first-child::after {align-self: flex-end;width: 50%;}#sk-container-id-1 div.sk-parallel-item:last-child::after {align-self: flex-start;width: 50%;}#sk-container-id-1 div.sk-parallel-item:only-child::after {width: 0;}#sk-container-id-1 div.sk-dashed-wrapped {border: 1px dashed gray;margin: 0 0.4em 0.5em 0.4em;box-sizing: border-box;padding-bottom: 0.4em;background-color: white;}#sk-container-id-1 div.sk-label label {font-family: monospace;font-weight: bold;display: inline-block;line-height: 1.2em;}#sk-container-id-1 div.sk-label-container {text-align: center;}#sk-container-id-1 div.sk-container {/* jupyter's `normalize.less` sets `[hidden] { display: none; }` but bootstrap.min.css set `[hidden] { display: none !important; }` so we also need the `!important` here to be able to override the default hidden behavior on the sphinx rendered scikit-learn.org. See: https://github.com/scikit-learn/scikit-learn/issues/21755 */display: inline-block !important;position: relative;}#sk-container-id-1 div.sk-text-repr-fallback {display: none;}</style><div id=\"sk-container-id-1\" class=\"sk-top-container\"><div class=\"sk-text-repr-fallback\"><pre>Pipeline(steps=[(&#x27;scale&#x27;, None), (&#x27;model&#x27;, GradientBoostingClassifier())])</pre><b>In a Jupyter environment, please rerun this cell to show the HTML representation or trust the notebook. <br />On GitHub, the HTML representation is unable to render, please try loading this page with nbviewer.org.</b></div><div class=\"sk-container\" hidden><div class=\"sk-item sk-dashed-wrapped\"><div class=\"sk-label-container\"><div class=\"sk-label sk-toggleable\"><input class=\"sk-toggleable__control sk-hidden--visually\" id=\"sk-estimator-id-1\" type=\"checkbox\" ><label for=\"sk-estimator-id-1\" class=\"sk-toggleable__label sk-toggleable__label-arrow\">Pipeline</label><div class=\"sk-toggleable__content\"><pre>Pipeline(steps=[(&#x27;scale&#x27;, None), (&#x27;model&#x27;, GradientBoostingClassifier())])</pre></div></div></div><div class=\"sk-serial\"><div class=\"sk-item\"><div class=\"sk-estimator sk-toggleable\"><input class=\"sk-toggleable__control sk-hidden--visually\" id=\"sk-estimator-id-2\" type=\"checkbox\" ><label for=\"sk-estimator-id-2\" class=\"sk-toggleable__label sk-toggleable__label-arrow\">None</label><div class=\"sk-toggleable__content\"><pre>None</pre></div></div></div><div class=\"sk-item\"><div class=\"sk-estimator sk-toggleable\"><input class=\"sk-toggleable__control sk-hidden--visually\" id=\"sk-estimator-id-3\" type=\"checkbox\" ><label for=\"sk-estimator-id-3\" class=\"sk-toggleable__label sk-toggleable__label-arrow\">GradientBoostingClassifier</label><div class=\"sk-toggleable__content\"><pre>GradientBoostingClassifier()</pre></div></div></div></div></div></div></div>"
      ],
      "text/plain": [
       "Pipeline(steps=[('scale', None), ('model', GradientBoostingClassifier())])"
      ]
     },
     "execution_count": 32,
     "metadata": {},
     "output_type": "execute_result"
    }
   ],
   "source": [
    "model.fit(X_train, y_train.values.ravel())"
   ]
  },
  {
   "cell_type": "code",
   "execution_count": 33,
   "id": "af59f8c0",
   "metadata": {
    "execution": {
     "iopub.execute_input": "2025-08-05T16:43:17.568738Z",
     "iopub.status.busy": "2025-08-05T16:43:17.568177Z",
     "iopub.status.idle": "2025-08-05T16:43:17.573958Z",
     "shell.execute_reply": "2025-08-05T16:43:17.572786Z"
    },
    "papermill": {
     "duration": 0.031375,
     "end_time": "2025-08-05T16:43:17.575840",
     "exception": false,
     "start_time": "2025-08-05T16:43:17.544465",
     "status": "completed"
    },
    "tags": []
   },
   "outputs": [],
   "source": [
    "from fairness_multiverse.universe import predict_w_threshold"
   ]
  },
  {
   "cell_type": "code",
   "execution_count": 34,
   "id": "a7cf2e16",
   "metadata": {
    "execution": {
     "iopub.execute_input": "2025-08-05T16:43:17.622409Z",
     "iopub.status.busy": "2025-08-05T16:43:17.621497Z",
     "iopub.status.idle": "2025-08-05T16:43:18.265094Z",
     "shell.execute_reply": "2025-08-05T16:43:18.264186Z"
    },
    "papermill": {
     "duration": 0.6688,
     "end_time": "2025-08-05T16:43:18.266665",
     "exception": false,
     "start_time": "2025-08-05T16:43:17.597865",
     "status": "completed"
    },
    "tags": []
   },
   "outputs": [
    {
     "data": {
      "text/plain": [
       "0.8304536840931892"
      ]
     },
     "execution_count": 34,
     "metadata": {},
     "output_type": "execute_result"
    }
   ],
   "source": [
    "probs_test = model.predict_proba(X_test)\n",
    "\n",
    "'''\n",
    "Below code returns a boolean array (or binary 0/1 array depending on how it’s used) where each element \n",
    "is True if the probability of class 1 is greater than or equal to the threshold, and False otherwise.\n",
    "'''\n",
    "y_pred_default = predict_w_threshold(probs_test, 0.5)\n",
    "\n",
    "from sklearn.metrics import accuracy_score\n",
    "\n",
    "# Naive prediction\n",
    "accuracy_score(y_true = y_true, y_pred = y_pred_default)"
   ]
  },
  {
   "cell_type": "code",
   "execution_count": 35,
   "id": "081964c3",
   "metadata": {
    "execution": {
     "iopub.execute_input": "2025-08-05T16:43:18.295203Z",
     "iopub.status.busy": "2025-08-05T16:43:18.294010Z",
     "iopub.status.idle": "2025-08-05T16:43:18.736500Z",
     "shell.execute_reply": "2025-08-05T16:43:18.735318Z"
    },
    "papermill": {
     "duration": 0.458104,
     "end_time": "2025-08-05T16:43:18.738216",
     "exception": false,
     "start_time": "2025-08-05T16:43:18.280112",
     "status": "completed"
    },
    "tags": []
   },
   "outputs": [
    {
     "data": {
      "text/plain": [
       "array([0, 0, 0, ..., 1, 0, 0])"
      ]
     },
     "execution_count": 35,
     "metadata": {},
     "output_type": "execute_result"
    }
   ],
   "source": [
    "model.predict(X_test)"
   ]
  },
  {
   "cell_type": "markdown",
   "id": "56c9705b",
   "metadata": {
    "papermill": {
     "duration": 0.012645,
     "end_time": "2025-08-05T16:43:18.767193",
     "exception": false,
     "start_time": "2025-08-05T16:43:18.754548",
     "status": "completed"
    },
    "tags": []
   },
   "source": [
    "# Conformal Prediction"
   ]
  },
  {
   "cell_type": "code",
   "execution_count": 36,
   "id": "160ec6ff",
   "metadata": {
    "execution": {
     "iopub.execute_input": "2025-08-05T16:43:18.794552Z",
     "iopub.status.busy": "2025-08-05T16:43:18.793690Z",
     "iopub.status.idle": "2025-08-05T16:43:18.799438Z",
     "shell.execute_reply": "2025-08-05T16:43:18.798497Z"
    },
    "papermill": {
     "duration": 0.021114,
     "end_time": "2025-08-05T16:43:18.801033",
     "exception": false,
     "start_time": "2025-08-05T16:43:18.779919",
     "status": "completed"
    },
    "tags": []
   },
   "outputs": [],
   "source": [
    "# Miscoverage level for conformal prediction (10% allowed error rate => 90% target coverage)\n",
    "alpha = 0.1"
   ]
  },
  {
   "cell_type": "code",
   "execution_count": 37,
   "id": "eadf4555-3dd3-440e-8e35-f82a4ad9f855",
   "metadata": {
    "execution": {
     "iopub.execute_input": "2025-08-05T16:43:18.840399Z",
     "iopub.status.busy": "2025-08-05T16:43:18.839916Z",
     "iopub.status.idle": "2025-08-05T16:43:19.438740Z",
     "shell.execute_reply": "2025-08-05T16:43:19.437578Z"
    },
    "papermill": {
     "duration": 0.626689,
     "end_time": "2025-08-05T16:43:19.441219",
     "exception": false,
     "start_time": "2025-08-05T16:43:18.814530",
     "status": "completed"
    },
    "tags": []
   },
   "outputs": [],
   "source": [
    "probs_calib = model.predict_proba(X_calib)"
   ]
  },
  {
   "cell_type": "code",
   "execution_count": 38,
   "id": "2ed93547-6d5d-4983-9b36-1ecb300da49a",
   "metadata": {
    "execution": {
     "iopub.execute_input": "2025-08-05T16:43:19.503644Z",
     "iopub.status.busy": "2025-08-05T16:43:19.502686Z",
     "iopub.status.idle": "2025-08-05T16:43:19.510233Z",
     "shell.execute_reply": "2025-08-05T16:43:19.509023Z"
    },
    "papermill": {
     "duration": 0.038897,
     "end_time": "2025-08-05T16:43:19.512306",
     "exception": false,
     "start_time": "2025-08-05T16:43:19.473409",
     "status": "completed"
    },
    "tags": []
   },
   "outputs": [],
   "source": [
    "y_calib = y_calib.values.ravel().astype(int)"
   ]
  },
  {
   "cell_type": "code",
   "execution_count": 39,
   "id": "65d1320d-f588-4b38-9072-62af1ae97f7d",
   "metadata": {
    "execution": {
     "iopub.execute_input": "2025-08-05T16:43:19.569728Z",
     "iopub.status.busy": "2025-08-05T16:43:19.569137Z",
     "iopub.status.idle": "2025-08-05T16:43:19.578150Z",
     "shell.execute_reply": "2025-08-05T16:43:19.577047Z"
    },
    "papermill": {
     "duration": 0.039453,
     "end_time": "2025-08-05T16:43:19.580101",
     "exception": false,
     "start_time": "2025-08-05T16:43:19.540648",
     "status": "completed"
    },
    "tags": []
   },
   "outputs": [],
   "source": [
    "from fairness_multiverse.conformal import compute_nc_scores\n",
    "\n",
    "# Compute nonconformity scores on calibration set (1 - probability of true class)\n",
    "nc_scores = compute_nc_scores(probs_calib, y_calib)"
   ]
  },
  {
   "cell_type": "code",
   "execution_count": 40,
   "id": "df3b8ca3-53b7-43d5-9667-7c85da7aeda2",
   "metadata": {
    "execution": {
     "iopub.execute_input": "2025-08-05T16:43:19.630704Z",
     "iopub.status.busy": "2025-08-05T16:43:19.629756Z",
     "iopub.status.idle": "2025-08-05T16:43:19.637545Z",
     "shell.execute_reply": "2025-08-05T16:43:19.636411Z"
    },
    "papermill": {
     "duration": 0.035637,
     "end_time": "2025-08-05T16:43:19.639600",
     "exception": false,
     "start_time": "2025-08-05T16:43:19.603963",
     "status": "completed"
    },
    "tags": []
   },
   "outputs": [],
   "source": [
    "from fairness_multiverse.conformal import find_threshold\n",
    "\n",
    "# Find conformal threshold q_hat for the given alpha (split conformal method)\n",
    "q_hat = find_threshold(nc_scores, alpha)"
   ]
  },
  {
   "cell_type": "code",
   "execution_count": 41,
   "id": "4d29e6c1-0ef6-4aa4-b8fe-4fe79b0d033a",
   "metadata": {
    "execution": {
     "iopub.execute_input": "2025-08-05T16:43:19.690464Z",
     "iopub.status.busy": "2025-08-05T16:43:19.689291Z",
     "iopub.status.idle": "2025-08-05T16:43:19.697180Z",
     "shell.execute_reply": "2025-08-05T16:43:19.696291Z"
    },
    "papermill": {
     "duration": 0.034396,
     "end_time": "2025-08-05T16:43:19.698802",
     "exception": false,
     "start_time": "2025-08-05T16:43:19.664406",
     "status": "completed"
    },
    "tags": []
   },
   "outputs": [
    {
     "data": {
      "text/plain": [
       "0.7593369842495312"
      ]
     },
     "execution_count": 41,
     "metadata": {},
     "output_type": "execute_result"
    }
   ],
   "source": [
    "q_hat"
   ]
  },
  {
   "cell_type": "code",
   "execution_count": 42,
   "id": "92460794-cdac-4be2-ba28-f28c0515a6fb",
   "metadata": {
    "execution": {
     "iopub.execute_input": "2025-08-05T16:43:19.726931Z",
     "iopub.status.busy": "2025-08-05T16:43:19.725975Z",
     "iopub.status.idle": "2025-08-05T16:43:20.965987Z",
     "shell.execute_reply": "2025-08-05T16:43:20.964984Z"
    },
    "papermill": {
     "duration": 1.255566,
     "end_time": "2025-08-05T16:43:20.967839",
     "exception": false,
     "start_time": "2025-08-05T16:43:19.712273",
     "status": "completed"
    },
    "tags": []
   },
   "outputs": [],
   "source": [
    "from fairness_multiverse.conformal import predict_conformal_sets\n",
    "\n",
    "# Generate prediction sets for each test example\n",
    "pred_sets = predict_conformal_sets(model, X_test, q_hat)"
   ]
  },
  {
   "cell_type": "code",
   "execution_count": 43,
   "id": "d90c9a65-e6db-4f5d-80cd-e68fb7e46829",
   "metadata": {
    "execution": {
     "iopub.execute_input": "2025-08-05T16:43:20.996717Z",
     "iopub.status.busy": "2025-08-05T16:43:20.995836Z",
     "iopub.status.idle": "2025-08-05T16:43:21.001875Z",
     "shell.execute_reply": "2025-08-05T16:43:21.000979Z"
    },
    "papermill": {
     "duration": 0.021792,
     "end_time": "2025-08-05T16:43:21.003475",
     "exception": false,
     "start_time": "2025-08-05T16:43:20.981683",
     "status": "completed"
    },
    "tags": []
   },
   "outputs": [],
   "source": [
    "y_true = y_true.squeeze()"
   ]
  },
  {
   "cell_type": "code",
   "execution_count": 44,
   "id": "3a58a54a-1e68-46b9-927a-df01f18aebc8",
   "metadata": {
    "execution": {
     "iopub.execute_input": "2025-08-05T16:43:21.032635Z",
     "iopub.status.busy": "2025-08-05T16:43:21.031773Z",
     "iopub.status.idle": "2025-08-05T16:43:21.668938Z",
     "shell.execute_reply": "2025-08-05T16:43:21.668020Z"
    },
    "papermill": {
     "duration": 0.653502,
     "end_time": "2025-08-05T16:43:21.670816",
     "exception": false,
     "start_time": "2025-08-05T16:43:21.017314",
     "status": "completed"
    },
    "tags": []
   },
   "outputs": [],
   "source": [
    "from fairness_multiverse.conformal import evaluate_sets\n",
    "\n",
    "# Evaluate coverage and average set size on test data\n",
    "metrics = evaluate_sets(pred_sets, y_true)"
   ]
  },
  {
   "cell_type": "markdown",
   "id": "2b569c12-9aaa-4c88-98c9-bbcd0cf3ebb8",
   "metadata": {
    "papermill": {
     "duration": 0.016117,
     "end_time": "2025-08-05T16:43:21.700857",
     "exception": false,
     "start_time": "2025-08-05T16:43:21.684740",
     "status": "completed"
    },
    "tags": []
   },
   "source": [
    "# CP Metrics"
   ]
  },
  {
   "cell_type": "code",
   "execution_count": 45,
   "id": "5ce0a5cb-201f-45a0-ade5-94c7f0bd6095",
   "metadata": {
    "execution": {
     "iopub.execute_input": "2025-08-05T16:43:21.729119Z",
     "iopub.status.busy": "2025-08-05T16:43:21.728688Z",
     "iopub.status.idle": "2025-08-05T16:43:21.736184Z",
     "shell.execute_reply": "2025-08-05T16:43:21.735172Z"
    },
    "papermill": {
     "duration": 0.023993,
     "end_time": "2025-08-05T16:43:21.738505",
     "exception": false,
     "start_time": "2025-08-05T16:43:21.714512",
     "status": "completed"
    },
    "tags": []
   },
   "outputs": [
    {
     "data": {
      "text/plain": [
       "{'coverage': 0.909653327388251, 'avg_size': 1.186500947497492}"
      ]
     },
     "execution_count": 45,
     "metadata": {},
     "output_type": "execute_result"
    }
   ],
   "source": [
    "metrics"
   ]
  },
  {
   "cell_type": "code",
   "execution_count": 46,
   "id": "9b9a838d-31c9-430b-ae14-12baee460d17",
   "metadata": {
    "execution": {
     "iopub.execute_input": "2025-08-05T16:43:21.798254Z",
     "iopub.status.busy": "2025-08-05T16:43:21.797655Z",
     "iopub.status.idle": "2025-08-05T16:43:21.805464Z",
     "shell.execute_reply": "2025-08-05T16:43:21.804365Z"
    },
    "papermill": {
     "duration": 0.040125,
     "end_time": "2025-08-05T16:43:21.807779",
     "exception": false,
     "start_time": "2025-08-05T16:43:21.767654",
     "status": "completed"
    },
    "tags": []
   },
   "outputs": [],
   "source": [
    "example_universe = universe.copy()\n",
    "universe_training_year = example_universe.get(\"training_year\")\n",
    "universe_training_size = example_universe.get(\"training_size\")\n",
    "universe_scale = example_universe.get(\"scale\")\n",
    "universe_model = example_universe.get(\"model\")\n",
    "universe_exclude_features = example_universe.get(\"exclude_features\")\n",
    "universe_exclude_subgroups = example_universe.get(\"exclude_subgroups\")"
   ]
  },
  {
   "cell_type": "code",
   "execution_count": 47,
   "id": "f4b6a8ac-9dc0-4245-8a91-5b3b5999c4f9",
   "metadata": {
    "execution": {
     "iopub.execute_input": "2025-08-05T16:43:21.867682Z",
     "iopub.status.busy": "2025-08-05T16:43:21.867266Z",
     "iopub.status.idle": "2025-08-05T16:43:21.873353Z",
     "shell.execute_reply": "2025-08-05T16:43:21.872431Z"
    },
    "papermill": {
     "duration": 0.037611,
     "end_time": "2025-08-05T16:43:21.874929",
     "exception": false,
     "start_time": "2025-08-05T16:43:21.837318",
     "status": "completed"
    },
    "tags": []
   },
   "outputs": [],
   "source": [
    "cp_metrics_dict = {\n",
    "    \"universe_id\": [universe_id],\n",
    "    \"universe_training_year\": [universe_training_year],\n",
    "    \"universe_training_size\": [universe_training_size],\n",
    "    \"universe_scale\": [universe_scale],\n",
    "    \"universe_model\": [universe_model],\n",
    "    \"universe_exclude_features\": [universe_exclude_features],\n",
    "    \"universe_exclude_subgroups\": [universe_exclude_subgroups],\n",
    "    \"q_hat\": [q_hat],\n",
    "    \"coverage\": [metrics[\"coverage\"]],\n",
    "    \"avg_size\": [metrics[\"avg_size\"]],\n",
    "}"
   ]
  },
  {
   "cell_type": "code",
   "execution_count": 48,
   "id": "908acbb1-0371-4915-85ca-3fa520d2efe2",
   "metadata": {
    "execution": {
     "iopub.execute_input": "2025-08-05T16:43:21.904196Z",
     "iopub.status.busy": "2025-08-05T16:43:21.903340Z",
     "iopub.status.idle": "2025-08-05T16:43:21.911543Z",
     "shell.execute_reply": "2025-08-05T16:43:21.910581Z"
    },
    "papermill": {
     "duration": 0.024124,
     "end_time": "2025-08-05T16:43:21.913159",
     "exception": false,
     "start_time": "2025-08-05T16:43:21.889035",
     "status": "completed"
    },
    "tags": []
   },
   "outputs": [
    {
     "data": {
      "text/plain": [
       "{'universe_id': ['a0c4c21801cf2bc5133f631180775d4c'],\n",
       " 'universe_training_year': ['2010_14'],\n",
       " 'universe_training_size': ['1k'],\n",
       " 'universe_scale': ['do-not-scale'],\n",
       " 'universe_model': ['gbm'],\n",
       " 'universe_exclude_features': ['nationality'],\n",
       " 'universe_exclude_subgroups': ['keep-all'],\n",
       " 'q_hat': [0.7593369842495312],\n",
       " 'coverage': [0.909653327388251],\n",
       " 'avg_size': [1.186500947497492]}"
      ]
     },
     "execution_count": 48,
     "metadata": {},
     "output_type": "execute_result"
    }
   ],
   "source": [
    "cp_metrics_dict"
   ]
  },
  {
   "cell_type": "code",
   "execution_count": 49,
   "id": "33007efc-14e9-4ec6-97ac-56a455c82265",
   "metadata": {
    "execution": {
     "iopub.execute_input": "2025-08-05T16:43:21.942898Z",
     "iopub.status.busy": "2025-08-05T16:43:21.942261Z",
     "iopub.status.idle": "2025-08-05T16:43:21.949110Z",
     "shell.execute_reply": "2025-08-05T16:43:21.948189Z"
    },
    "papermill": {
     "duration": 0.023074,
     "end_time": "2025-08-05T16:43:21.950801",
     "exception": false,
     "start_time": "2025-08-05T16:43:21.927727",
     "status": "completed"
    },
    "tags": []
   },
   "outputs": [],
   "source": [
    "cp_metrics_df = pd.DataFrame(cp_metrics_dict)"
   ]
  },
  {
   "cell_type": "code",
   "execution_count": 50,
   "id": "db12611b-57b2-4910-b9d0-355adfd6e7bf",
   "metadata": {
    "execution": {
     "iopub.execute_input": "2025-08-05T16:43:21.980190Z",
     "iopub.status.busy": "2025-08-05T16:43:21.979652Z",
     "iopub.status.idle": "2025-08-05T16:43:22.001743Z",
     "shell.execute_reply": "2025-08-05T16:43:22.000415Z"
    },
    "papermill": {
     "duration": 0.038744,
     "end_time": "2025-08-05T16:43:22.003789",
     "exception": false,
     "start_time": "2025-08-05T16:43:21.965045",
     "status": "completed"
    },
    "tags": []
   },
   "outputs": [
    {
     "data": {
      "text/html": [
       "<div>\n",
       "<style scoped>\n",
       "    .dataframe tbody tr th:only-of-type {\n",
       "        vertical-align: middle;\n",
       "    }\n",
       "\n",
       "    .dataframe tbody tr th {\n",
       "        vertical-align: top;\n",
       "    }\n",
       "\n",
       "    .dataframe thead th {\n",
       "        text-align: right;\n",
       "    }\n",
       "</style>\n",
       "<table border=\"1\" class=\"dataframe\">\n",
       "  <thead>\n",
       "    <tr style=\"text-align: right;\">\n",
       "      <th></th>\n",
       "      <th>universe_id</th>\n",
       "      <th>universe_training_year</th>\n",
       "      <th>universe_training_size</th>\n",
       "      <th>universe_scale</th>\n",
       "      <th>universe_model</th>\n",
       "      <th>universe_exclude_features</th>\n",
       "      <th>universe_exclude_subgroups</th>\n",
       "      <th>q_hat</th>\n",
       "      <th>coverage</th>\n",
       "      <th>avg_size</th>\n",
       "    </tr>\n",
       "  </thead>\n",
       "  <tbody>\n",
       "    <tr>\n",
       "      <th>0</th>\n",
       "      <td>a0c4c21801cf2bc5133f631180775d4c</td>\n",
       "      <td>2010_14</td>\n",
       "      <td>1k</td>\n",
       "      <td>do-not-scale</td>\n",
       "      <td>gbm</td>\n",
       "      <td>nationality</td>\n",
       "      <td>keep-all</td>\n",
       "      <td>0.759337</td>\n",
       "      <td>0.909653</td>\n",
       "      <td>1.186501</td>\n",
       "    </tr>\n",
       "  </tbody>\n",
       "</table>\n",
       "</div>"
      ],
      "text/plain": [
       "                        universe_id universe_training_year  \\\n",
       "0  a0c4c21801cf2bc5133f631180775d4c                2010_14   \n",
       "\n",
       "  universe_training_size universe_scale universe_model  \\\n",
       "0                     1k   do-not-scale            gbm   \n",
       "\n",
       "  universe_exclude_features universe_exclude_subgroups     q_hat  coverage  \\\n",
       "0               nationality                   keep-all  0.759337  0.909653   \n",
       "\n",
       "   avg_size  \n",
       "0  1.186501  "
      ]
     },
     "execution_count": 50,
     "metadata": {},
     "output_type": "execute_result"
    }
   ],
   "source": [
    "cp_metrics_df"
   ]
  },
  {
   "cell_type": "code",
   "execution_count": 51,
   "id": "b7fbde55-a0a1-47e4-9af6-fe4a17fa8c61",
   "metadata": {
    "execution": {
     "iopub.execute_input": "2025-08-05T16:43:22.068359Z",
     "iopub.status.busy": "2025-08-05T16:43:22.067290Z",
     "iopub.status.idle": "2025-08-05T16:43:22.074733Z",
     "shell.execute_reply": "2025-08-05T16:43:22.073505Z"
    },
    "papermill": {
     "duration": 0.041887,
     "end_time": "2025-08-05T16:43:22.076902",
     "exception": false,
     "start_time": "2025-08-05T16:43:22.035015",
     "status": "completed"
    },
    "tags": []
   },
   "outputs": [],
   "source": [
    "# Conditional Coverage & looking at subgroups"
   ]
  },
  {
   "cell_type": "code",
   "execution_count": 52,
   "id": "027ae886-68dd-4141-96c7-805a5450e1ef",
   "metadata": {
    "execution": {
     "iopub.execute_input": "2025-08-05T16:43:22.140926Z",
     "iopub.status.busy": "2025-08-05T16:43:22.140088Z",
     "iopub.status.idle": "2025-08-05T16:43:22.452105Z",
     "shell.execute_reply": "2025-08-05T16:43:22.450699Z"
    },
    "papermill": {
     "duration": 0.346784,
     "end_time": "2025-08-05T16:43:22.454898",
     "exception": false,
     "start_time": "2025-08-05T16:43:22.108114",
     "status": "completed"
    },
    "tags": []
   },
   "outputs": [],
   "source": [
    "from fairness_multiverse.conformal import build_cp_groups\n",
    "\n",
    "cp_groups_df = build_cp_groups(pred_sets, y_true, X_test.index, org_test)\n",
    "#needs universe_id and setting"
   ]
  },
  {
   "cell_type": "code",
   "execution_count": 53,
   "id": "6cbdab96-b2b2-45af-ad54-d0516db2e28d",
   "metadata": {
    "execution": {
     "iopub.execute_input": "2025-08-05T16:43:22.535639Z",
     "iopub.status.busy": "2025-08-05T16:43:22.535190Z",
     "iopub.status.idle": "2025-08-05T16:43:24.534115Z",
     "shell.execute_reply": "2025-08-05T16:43:24.532781Z"
    },
    "papermill": {
     "duration": 2.042507,
     "end_time": "2025-08-05T16:43:24.536739",
     "exception": false,
     "start_time": "2025-08-05T16:43:22.494232",
     "status": "completed"
    },
    "tags": []
   },
   "outputs": [],
   "source": [
    "# Define covered = 1 if true_label is in the predicted set\n",
    "cp_groups_df['covered'] = cp_groups_df.apply(\n",
    "    lambda r: int(r['true_label'] in r['pred_set']),\n",
    "    axis=1\n",
    ")"
   ]
  },
  {
   "cell_type": "code",
   "execution_count": 54,
   "id": "338ff529-1a6b-4b87-a931-8e4788d52aad",
   "metadata": {
    "execution": {
     "iopub.execute_input": "2025-08-05T16:43:24.600386Z",
     "iopub.status.busy": "2025-08-05T16:43:24.599809Z",
     "iopub.status.idle": "2025-08-05T16:43:24.605504Z",
     "shell.execute_reply": "2025-08-05T16:43:24.604418Z"
    },
    "papermill": {
     "duration": 0.039007,
     "end_time": "2025-08-05T16:43:24.607588",
     "exception": false,
     "start_time": "2025-08-05T16:43:24.568581",
     "status": "completed"
    },
    "tags": []
   },
   "outputs": [],
   "source": [
    "#cp_groups_df"
   ]
  },
  {
   "cell_type": "code",
   "execution_count": 55,
   "id": "90032e27-66df-4540-9169-4e89cfbaa758",
   "metadata": {
    "execution": {
     "iopub.execute_input": "2025-08-05T16:43:24.671930Z",
     "iopub.status.busy": "2025-08-05T16:43:24.670806Z",
     "iopub.status.idle": "2025-08-05T16:43:24.683979Z",
     "shell.execute_reply": "2025-08-05T16:43:24.682911Z"
    },
    "papermill": {
     "duration": 0.046676,
     "end_time": "2025-08-05T16:43:24.686024",
     "exception": false,
     "start_time": "2025-08-05T16:43:24.639348",
     "status": "completed"
    },
    "tags": []
   },
   "outputs": [],
   "source": [
    "subgroups = ['frau1','nongerman','nongerman_male','nongerman_female']\n",
    "\n",
    "# Conditional coverage for subgroup==1\n",
    "cond_coverage = {\n",
    "    g: cp_groups_df.loc[cp_groups_df[g]==1, 'covered'].mean()\n",
    "    for g in subgroups\n",
    "}"
   ]
  },
  {
   "cell_type": "code",
   "execution_count": 56,
   "id": "1e348fb1-b9c3-45bc-ba23-f016827a7e0d",
   "metadata": {
    "execution": {
     "iopub.execute_input": "2025-08-05T16:43:24.750550Z",
     "iopub.status.busy": "2025-08-05T16:43:24.750096Z",
     "iopub.status.idle": "2025-08-05T16:43:24.758690Z",
     "shell.execute_reply": "2025-08-05T16:43:24.757559Z"
    },
    "papermill": {
     "duration": 0.043419,
     "end_time": "2025-08-05T16:43:24.760578",
     "exception": false,
     "start_time": "2025-08-05T16:43:24.717159",
     "status": "completed"
    },
    "tags": []
   },
   "outputs": [
    {
     "data": {
      "text/plain": [
       "{'frau1': 0.9079660331581075,\n",
       " 'nongerman': 0.9095604333913434,\n",
       " 'nongerman_male': 0.9266864811312258,\n",
       " 'nongerman_female': 0.8812220566318927}"
      ]
     },
     "execution_count": 56,
     "metadata": {},
     "output_type": "execute_result"
    }
   ],
   "source": [
    "cond_coverage"
   ]
  },
  {
   "cell_type": "code",
   "execution_count": 57,
   "id": "f5093324-c3dd-4d63-bc4c-8d945e5c8bbb",
   "metadata": {
    "execution": {
     "iopub.execute_input": "2025-08-05T16:43:24.824157Z",
     "iopub.status.busy": "2025-08-05T16:43:24.822986Z",
     "iopub.status.idle": "2025-08-05T16:43:24.831349Z",
     "shell.execute_reply": "2025-08-05T16:43:24.830340Z"
    },
    "papermill": {
     "duration": 0.041728,
     "end_time": "2025-08-05T16:43:24.833340",
     "exception": false,
     "start_time": "2025-08-05T16:43:24.791612",
     "status": "completed"
    },
    "tags": []
   },
   "outputs": [],
   "source": [
    "for subgroup, cov in cond_coverage.items():\n",
    "    cp_metrics_df[f\"cov_{subgroup}\"] = cov"
   ]
  },
  {
   "cell_type": "code",
   "execution_count": 58,
   "id": "6e872e10-dbe5-49e8-b554-5030c98ff75d",
   "metadata": {
    "execution": {
     "iopub.execute_input": "2025-08-05T16:43:24.892806Z",
     "iopub.status.busy": "2025-08-05T16:43:24.892266Z",
     "iopub.status.idle": "2025-08-05T16:43:24.916751Z",
     "shell.execute_reply": "2025-08-05T16:43:24.914403Z"
    },
    "papermill": {
     "duration": 0.054682,
     "end_time": "2025-08-05T16:43:24.919031",
     "exception": false,
     "start_time": "2025-08-05T16:43:24.864349",
     "status": "completed"
    },
    "tags": []
   },
   "outputs": [
    {
     "data": {
      "text/html": [
       "<div>\n",
       "<style scoped>\n",
       "    .dataframe tbody tr th:only-of-type {\n",
       "        vertical-align: middle;\n",
       "    }\n",
       "\n",
       "    .dataframe tbody tr th {\n",
       "        vertical-align: top;\n",
       "    }\n",
       "\n",
       "    .dataframe thead th {\n",
       "        text-align: right;\n",
       "    }\n",
       "</style>\n",
       "<table border=\"1\" class=\"dataframe\">\n",
       "  <thead>\n",
       "    <tr style=\"text-align: right;\">\n",
       "      <th></th>\n",
       "      <th>universe_id</th>\n",
       "      <th>universe_training_year</th>\n",
       "      <th>universe_training_size</th>\n",
       "      <th>universe_scale</th>\n",
       "      <th>universe_model</th>\n",
       "      <th>universe_exclude_features</th>\n",
       "      <th>universe_exclude_subgroups</th>\n",
       "      <th>q_hat</th>\n",
       "      <th>coverage</th>\n",
       "      <th>avg_size</th>\n",
       "      <th>cov_frau1</th>\n",
       "      <th>cov_nongerman</th>\n",
       "      <th>cov_nongerman_male</th>\n",
       "      <th>cov_nongerman_female</th>\n",
       "    </tr>\n",
       "  </thead>\n",
       "  <tbody>\n",
       "    <tr>\n",
       "      <th>0</th>\n",
       "      <td>a0c4c21801cf2bc5133f631180775d4c</td>\n",
       "      <td>2010_14</td>\n",
       "      <td>1k</td>\n",
       "      <td>do-not-scale</td>\n",
       "      <td>gbm</td>\n",
       "      <td>nationality</td>\n",
       "      <td>keep-all</td>\n",
       "      <td>0.759337</td>\n",
       "      <td>0.909653</td>\n",
       "      <td>1.186501</td>\n",
       "      <td>0.907966</td>\n",
       "      <td>0.90956</td>\n",
       "      <td>0.926686</td>\n",
       "      <td>0.881222</td>\n",
       "    </tr>\n",
       "  </tbody>\n",
       "</table>\n",
       "</div>"
      ],
      "text/plain": [
       "                        universe_id universe_training_year  \\\n",
       "0  a0c4c21801cf2bc5133f631180775d4c                2010_14   \n",
       "\n",
       "  universe_training_size universe_scale universe_model  \\\n",
       "0                     1k   do-not-scale            gbm   \n",
       "\n",
       "  universe_exclude_features universe_exclude_subgroups     q_hat  coverage  \\\n",
       "0               nationality                   keep-all  0.759337  0.909653   \n",
       "\n",
       "   avg_size  cov_frau1  cov_nongerman  cov_nongerman_male  \\\n",
       "0  1.186501   0.907966        0.90956            0.926686   \n",
       "\n",
       "   cov_nongerman_female  \n",
       "0              0.881222  "
      ]
     },
     "execution_count": 58,
     "metadata": {},
     "output_type": "execute_result"
    }
   ],
   "source": [
    "cp_metrics_df"
   ]
  },
  {
   "cell_type": "markdown",
   "id": "33774451",
   "metadata": {
    "papermill": {
     "duration": 0.026916,
     "end_time": "2025-08-05T16:43:24.973213",
     "exception": false,
     "start_time": "2025-08-05T16:43:24.946297",
     "status": "completed"
    },
    "tags": []
   },
   "source": [
    "# (Fairness) Metrics"
   ]
  },
  {
   "cell_type": "code",
   "execution_count": 59,
   "id": "debc5d62",
   "metadata": {
    "execution": {
     "iopub.execute_input": "2025-08-05T16:43:25.030643Z",
     "iopub.status.busy": "2025-08-05T16:43:25.029577Z",
     "iopub.status.idle": "2025-08-05T16:43:25.057004Z",
     "shell.execute_reply": "2025-08-05T16:43:25.055715Z"
    },
    "papermill": {
     "duration": 0.058897,
     "end_time": "2025-08-05T16:43:25.059680",
     "exception": false,
     "start_time": "2025-08-05T16:43:25.000783",
     "status": "completed"
    },
    "tags": []
   },
   "outputs": [],
   "source": [
    "# do I need to include maxdeutsch1.missing?\n",
    "\n",
    "import numpy as np\n",
    "\n",
    "colname_to_bin = \"maxdeutsch1\"\n",
    "majority_value = org_train[colname_to_bin].mode()[0]\n",
    "\n",
    "org_test[\"majmin\"] = np.where(org_test[colname_to_bin] == majority_value, \"majority\", \"minority\")"
   ]
  },
  {
   "cell_type": "code",
   "execution_count": 60,
   "id": "06a50de5",
   "metadata": {
    "execution": {
     "iopub.execute_input": "2025-08-05T16:43:25.128922Z",
     "iopub.status.busy": "2025-08-05T16:43:25.128314Z",
     "iopub.status.idle": "2025-08-05T16:43:28.608688Z",
     "shell.execute_reply": "2025-08-05T16:43:28.607515Z"
    },
    "papermill": {
     "duration": 3.517733,
     "end_time": "2025-08-05T16:43:28.611137",
     "exception": false,
     "start_time": "2025-08-05T16:43:25.093404",
     "status": "completed"
    },
    "tags": []
   },
   "outputs": [],
   "source": [
    "example_universe = universe.copy()\n",
    "example_universe[\"cutoff\"] = example_universe[\"cutoff\"][0]\n",
    "example_universe[\"eval_fairness_grouping\"] = example_universe[\"eval_fairness_grouping\"][0]\n",
    "fairness_dict, metric_frame = universe_analysis.compute_metrics(\n",
    "    example_universe,\n",
    "    y_pred_prob=probs_test,\n",
    "    y_test=y_true,\n",
    "    org_test=org_test,\n",
    ")"
   ]
  },
  {
   "cell_type": "markdown",
   "id": "f95d4e02",
   "metadata": {
    "papermill": {
     "duration": 0.028959,
     "end_time": "2025-08-05T16:43:28.667483",
     "exception": false,
     "start_time": "2025-08-05T16:43:28.638524",
     "status": "completed"
    },
    "tags": []
   },
   "source": [
    "# Overall"
   ]
  },
  {
   "cell_type": "markdown",
   "id": "bdee4871",
   "metadata": {
    "papermill": {
     "duration": 0.028124,
     "end_time": "2025-08-05T16:43:28.723790",
     "exception": false,
     "start_time": "2025-08-05T16:43:28.695666",
     "status": "completed"
    },
    "tags": []
   },
   "source": [
    "Fairness\n",
    "Main fairness target: Equalized Odds. Seems to be a better fit than equal opportunity, since we're not only interested in Y = 1. Seems to be a better fit than demographic parity, since we also care about accuracy, not just equal distribution of preds.\n",
    "\n",
    "Pick column for computation of fairness metrics\n",
    "\n",
    "Performance\n",
    "Overall performance measures, most interesting in relation to the measures split by group below"
   ]
  },
  {
   "cell_type": "code",
   "execution_count": 61,
   "id": "c4e067c6",
   "metadata": {
    "execution": {
     "iopub.execute_input": "2025-08-05T16:43:28.795009Z",
     "iopub.status.busy": "2025-08-05T16:43:28.794363Z",
     "iopub.status.idle": "2025-08-05T16:43:28.805299Z",
     "shell.execute_reply": "2025-08-05T16:43:28.804194Z"
    },
    "papermill": {
     "duration": 0.055459,
     "end_time": "2025-08-05T16:43:28.807230",
     "exception": false,
     "start_time": "2025-08-05T16:43:28.751771",
     "status": "completed"
    },
    "tags": []
   },
   "outputs": [
    {
     "data": {
      "text/plain": [
       "accuracy                   0.222484\n",
       "balanced accuracy          0.544399\n",
       "f1                         0.243867\n",
       "precision                  0.139313\n",
       "false positive rate        0.888609\n",
       "false negative rate        0.022593\n",
       "selection rate             0.900000\n",
       "count                  89710.000000\n",
       "dtype: float64"
      ]
     },
     "execution_count": 61,
     "metadata": {},
     "output_type": "execute_result"
    }
   ],
   "source": [
    "metric_frame.overall"
   ]
  },
  {
   "cell_type": "markdown",
   "id": "e968fe9d",
   "metadata": {
    "papermill": {
     "duration": 0.028724,
     "end_time": "2025-08-05T16:43:28.864890",
     "exception": false,
     "start_time": "2025-08-05T16:43:28.836166",
     "status": "completed"
    },
    "tags": []
   },
   "source": [
    "By Group"
   ]
  },
  {
   "cell_type": "code",
   "execution_count": 62,
   "id": "ec325bce",
   "metadata": {
    "execution": {
     "iopub.execute_input": "2025-08-05T16:43:28.921815Z",
     "iopub.status.busy": "2025-08-05T16:43:28.921187Z",
     "iopub.status.idle": "2025-08-05T16:43:28.940136Z",
     "shell.execute_reply": "2025-08-05T16:43:28.939058Z"
    },
    "papermill": {
     "duration": 0.049787,
     "end_time": "2025-08-05T16:43:28.942199",
     "exception": false,
     "start_time": "2025-08-05T16:43:28.892412",
     "status": "completed"
    },
    "tags": []
   },
   "outputs": [
    {
     "data": {
      "text/html": [
       "<div>\n",
       "<style scoped>\n",
       "    .dataframe tbody tr th:only-of-type {\n",
       "        vertical-align: middle;\n",
       "    }\n",
       "\n",
       "    .dataframe tbody tr th {\n",
       "        vertical-align: top;\n",
       "    }\n",
       "\n",
       "    .dataframe thead th {\n",
       "        text-align: right;\n",
       "    }\n",
       "</style>\n",
       "<table border=\"1\" class=\"dataframe\">\n",
       "  <thead>\n",
       "    <tr style=\"text-align: right;\">\n",
       "      <th></th>\n",
       "      <th>accuracy</th>\n",
       "      <th>balanced accuracy</th>\n",
       "      <th>f1</th>\n",
       "      <th>precision</th>\n",
       "      <th>false positive rate</th>\n",
       "      <th>false negative rate</th>\n",
       "      <th>selection rate</th>\n",
       "      <th>count</th>\n",
       "    </tr>\n",
       "    <tr>\n",
       "      <th>majmin</th>\n",
       "      <th></th>\n",
       "      <th></th>\n",
       "      <th></th>\n",
       "      <th></th>\n",
       "      <th></th>\n",
       "      <th></th>\n",
       "      <th></th>\n",
       "      <th></th>\n",
       "    </tr>\n",
       "  </thead>\n",
       "  <tbody>\n",
       "    <tr>\n",
       "      <th>majority</th>\n",
       "      <td>0.237140</td>\n",
       "      <td>0.55057</td>\n",
       "      <td>0.252793</td>\n",
       "      <td>0.145188</td>\n",
       "      <td>0.875446</td>\n",
       "      <td>0.023414</td>\n",
       "      <td>0.888810</td>\n",
       "      <td>69170.0</td>\n",
       "    </tr>\n",
       "    <tr>\n",
       "      <th>minority</th>\n",
       "      <td>0.173126</td>\n",
       "      <td>0.52424</td>\n",
       "      <td>0.214722</td>\n",
       "      <td>0.120561</td>\n",
       "      <td>0.932093</td>\n",
       "      <td>0.019426</td>\n",
       "      <td>0.937683</td>\n",
       "      <td>20540.0</td>\n",
       "    </tr>\n",
       "  </tbody>\n",
       "</table>\n",
       "</div>"
      ],
      "text/plain": [
       "          accuracy  balanced accuracy        f1  precision  \\\n",
       "majmin                                                       \n",
       "majority  0.237140            0.55057  0.252793   0.145188   \n",
       "minority  0.173126            0.52424  0.214722   0.120561   \n",
       "\n",
       "          false positive rate  false negative rate  selection rate    count  \n",
       "majmin                                                                       \n",
       "majority             0.875446             0.023414        0.888810  69170.0  \n",
       "minority             0.932093             0.019426        0.937683  20540.0  "
      ]
     },
     "execution_count": 62,
     "metadata": {},
     "output_type": "execute_result"
    }
   ],
   "source": [
    "metric_frame.by_group"
   ]
  },
  {
   "cell_type": "code",
   "execution_count": 63,
   "id": "a9ddbe63",
   "metadata": {
    "execution": {
     "iopub.execute_input": "2025-08-05T16:43:29.001828Z",
     "iopub.status.busy": "2025-08-05T16:43:29.001170Z",
     "iopub.status.idle": "2025-08-05T16:43:32.003575Z",
     "shell.execute_reply": "2025-08-05T16:43:32.002481Z"
    },
    "papermill": {
     "duration": 3.034713,
     "end_time": "2025-08-05T16:43:32.005545",
     "exception": false,
     "start_time": "2025-08-05T16:43:28.970832",
     "status": "completed"
    },
    "tags": []
   },
   "outputs": [
    {
     "data": {
      "text/plain": [
       "array([[<Axes: title={'center': 'accuracy'}, xlabel='majmin'>,\n",
       "        <Axes: title={'center': 'balanced accuracy'}, xlabel='majmin'>,\n",
       "        <Axes: title={'center': 'f1'}, xlabel='majmin'>],\n",
       "       [<Axes: title={'center': 'precision'}, xlabel='majmin'>,\n",
       "        <Axes: title={'center': 'false positive rate'}, xlabel='majmin'>,\n",
       "        <Axes: title={'center': 'false negative rate'}, xlabel='majmin'>],\n",
       "       [<Axes: title={'center': 'selection rate'}, xlabel='majmin'>,\n",
       "        <Axes: title={'center': 'count'}, xlabel='majmin'>,\n",
       "        <Axes: xlabel='majmin'>]], dtype=object)"
      ]
     },
     "execution_count": 63,
     "metadata": {},
     "output_type": "execute_result"
    },
    {
     "data": {
      "image/png": "[encoded data removed]",
      "text/plain": [
       "<Figure size 1200x800 with 9 Axes>"
      ]
     },
     "metadata": {},
     "output_type": "display_data"
    }
   ],
   "source": [
    "# In a graphic\n",
    "metric_frame.by_group.plot.bar(\n",
    "    subplots=True,\n",
    "    layout=[3, 3],\n",
    "    legend=False,\n",
    "    figsize=[12, 8],\n",
    "    title=\"Show all metrics\",\n",
    ")"
   ]
  },
  {
   "cell_type": "markdown",
   "id": "f57a0bac",
   "metadata": {
    "papermill": {
     "duration": 0.033667,
     "end_time": "2025-08-05T16:43:32.072565",
     "exception": false,
     "start_time": "2025-08-05T16:43:32.038898",
     "status": "completed"
    },
    "tags": []
   },
   "source": [
    "# Final Output"
   ]
  },
  {
   "cell_type": "code",
   "execution_count": 64,
   "id": "96d280a3",
   "metadata": {
    "execution": {
     "iopub.execute_input": "2025-08-05T16:43:32.142447Z",
     "iopub.status.busy": "2025-08-05T16:43:32.141660Z",
     "iopub.status.idle": "2025-08-05T16:43:32.151376Z",
     "shell.execute_reply": "2025-08-05T16:43:32.150246Z"
    },
    "papermill": {
     "duration": 0.046955,
     "end_time": "2025-08-05T16:43:32.153390",
     "exception": false,
     "start_time": "2025-08-05T16:43:32.106435",
     "status": "completed"
    },
    "tags": []
   },
   "outputs": [
    {
     "data": {
      "text/plain": [
       "4"
      ]
     },
     "execution_count": 64,
     "metadata": {},
     "output_type": "execute_result"
    }
   ],
   "source": [
    "sub_universes = universe_analysis.generate_sub_universes()\n",
    "len(sub_universes)"
   ]
  },
  {
   "cell_type": "code",
   "execution_count": 65,
   "id": "92adf7ba",
   "metadata": {
    "execution": {
     "iopub.execute_input": "2025-08-05T16:43:32.224582Z",
     "iopub.status.busy": "2025-08-05T16:43:32.223404Z",
     "iopub.status.idle": "2025-08-05T16:43:32.230902Z",
     "shell.execute_reply": "2025-08-05T16:43:32.229722Z"
    },
    "papermill": {
     "duration": 0.045612,
     "end_time": "2025-08-05T16:43:32.233102",
     "exception": false,
     "start_time": "2025-08-05T16:43:32.187490",
     "status": "completed"
    },
    "tags": []
   },
   "outputs": [],
   "source": [
    "def filter_sub_universe_data(sub_universe, org_test):\n",
    "    # Keep all rows — no filtering\n",
    "    keep_rows_mask = np.ones(org_test.shape[0], dtype=bool)\n",
    "\n",
    "    print(f\"[INFO] Keeping all rows: {keep_rows_mask.sum()} rows retained.\")\n",
    "    return keep_rows_mask"
   ]
  },
  {
   "cell_type": "code",
   "execution_count": 66,
   "id": "4a759155",
   "metadata": {
    "execution": {
     "iopub.execute_input": "2025-08-05T16:43:32.303725Z",
     "iopub.status.busy": "2025-08-05T16:43:32.302631Z",
     "iopub.status.idle": "2025-08-05T16:43:44.549598Z",
     "shell.execute_reply": "2025-08-05T16:43:44.548234Z"
    },
    "papermill": {
     "duration": 12.284484,
     "end_time": "2025-08-05T16:43:44.551723",
     "exception": false,
     "start_time": "2025-08-05T16:43:32.267239",
     "status": "completed"
    },
    "tags": []
   },
   "outputs": [
    {
     "name": "stdout",
     "output_type": "stream",
     "text": [
      "Stopping execution_time clock.\n",
      "[INFO] Keeping all rows: 89710 rows retained.\n"
     ]
    },
    {
     "name": "stdout",
     "output_type": "stream",
     "text": [
      "[INFO] Keeping all rows: 89710 rows retained.\n"
     ]
    },
    {
     "name": "stdout",
     "output_type": "stream",
     "text": [
      "[INFO] Keeping all rows: 89710 rows retained.\n"
     ]
    },
    {
     "name": "stdout",
     "output_type": "stream",
     "text": [
      "[INFO] Keeping all rows: 89710 rows retained.\n"
     ]
    },
    {
     "data": {
      "text/html": [
       "<div>\n",
       "<style scoped>\n",
       "    .dataframe tbody tr th:only-of-type {\n",
       "        vertical-align: middle;\n",
       "    }\n",
       "\n",
       "    .dataframe tbody tr th {\n",
       "        vertical-align: top;\n",
       "    }\n",
       "\n",
       "    .dataframe thead th {\n",
       "        text-align: right;\n",
       "    }\n",
       "</style>\n",
       "<table border=\"1\" class=\"dataframe\">\n",
       "  <thead>\n",
       "    <tr style=\"text-align: right;\">\n",
       "      <th></th>\n",
       "      <th>run_no</th>\n",
       "      <th>universe_id</th>\n",
       "      <th>universe_settings</th>\n",
       "      <th>execution_time</th>\n",
       "      <th>test_size_n</th>\n",
       "      <th>test_size_frac</th>\n",
       "      <th>fair_main_equalized_odds_difference</th>\n",
       "      <th>fair_main_equalized_odds_ratio</th>\n",
       "      <th>fair_main_demographic_parity_difference</th>\n",
       "      <th>fair_main_demographic_parity_ratio</th>\n",
       "      <th>...</th>\n",
       "      <th>perf_grp_precision_0</th>\n",
       "      <th>perf_grp_precision_1</th>\n",
       "      <th>perf_grp_false positive rate_0</th>\n",
       "      <th>perf_grp_false positive rate_1</th>\n",
       "      <th>perf_grp_false negative rate_0</th>\n",
       "      <th>perf_grp_false negative rate_1</th>\n",
       "      <th>perf_grp_selection rate_0</th>\n",
       "      <th>perf_grp_selection rate_1</th>\n",
       "      <th>perf_grp_count_0</th>\n",
       "      <th>perf_grp_count_1</th>\n",
       "    </tr>\n",
       "  </thead>\n",
       "  <tbody>\n",
       "    <tr>\n",
       "      <th>0</th>\n",
       "      <td>15</td>\n",
       "      <td>a0c4c21801cf2bc5133f631180775d4c</td>\n",
       "      <td>{\"cutoff\": \"quantile_0.1\", \"eval_fairness_grou...</td>\n",
       "      <td>30.669146</td>\n",
       "      <td>89710</td>\n",
       "      <td>1.0</td>\n",
       "      <td>0.056648</td>\n",
       "      <td>0.939225</td>\n",
       "      <td>0.048872</td>\n",
       "      <td>0.94788</td>\n",
       "      <td>...</td>\n",
       "      <td>NaN</td>\n",
       "      <td>NaN</td>\n",
       "      <td>NaN</td>\n",
       "      <td>NaN</td>\n",
       "      <td>NaN</td>\n",
       "      <td>NaN</td>\n",
       "      <td>NaN</td>\n",
       "      <td>NaN</td>\n",
       "      <td>NaN</td>\n",
       "      <td>NaN</td>\n",
       "    </tr>\n",
       "    <tr>\n",
       "      <th>0</th>\n",
       "      <td>15</td>\n",
       "      <td>a0c4c21801cf2bc5133f631180775d4c</td>\n",
       "      <td>{\"cutoff\": \"quantile_0.1\", \"eval_fairness_grou...</td>\n",
       "      <td>30.669146</td>\n",
       "      <td>89710</td>\n",
       "      <td>1.0</td>\n",
       "      <td>0.056648</td>\n",
       "      <td>0.939225</td>\n",
       "      <td>0.048872</td>\n",
       "      <td>0.94788</td>\n",
       "      <td>...</td>\n",
       "      <td>0.120561</td>\n",
       "      <td>0.145188</td>\n",
       "      <td>0.932093</td>\n",
       "      <td>0.875446</td>\n",
       "      <td>0.019426</td>\n",
       "      <td>0.023414</td>\n",
       "      <td>0.937683</td>\n",
       "      <td>0.888810</td>\n",
       "      <td>20540.0</td>\n",
       "      <td>69170.0</td>\n",
       "    </tr>\n",
       "    <tr>\n",
       "      <th>0</th>\n",
       "      <td>15</td>\n",
       "      <td>a0c4c21801cf2bc5133f631180775d4c</td>\n",
       "      <td>{\"cutoff\": \"quantile_0.25\", \"eval_fairness_gro...</td>\n",
       "      <td>30.669146</td>\n",
       "      <td>89710</td>\n",
       "      <td>1.0</td>\n",
       "      <td>0.137866</td>\n",
       "      <td>0.833877</td>\n",
       "      <td>0.120105</td>\n",
       "      <td>0.85746</td>\n",
       "      <td>...</td>\n",
       "      <td>NaN</td>\n",
       "      <td>NaN</td>\n",
       "      <td>NaN</td>\n",
       "      <td>NaN</td>\n",
       "      <td>NaN</td>\n",
       "      <td>NaN</td>\n",
       "      <td>NaN</td>\n",
       "      <td>NaN</td>\n",
       "      <td>NaN</td>\n",
       "      <td>NaN</td>\n",
       "    </tr>\n",
       "    <tr>\n",
       "      <th>0</th>\n",
       "      <td>15</td>\n",
       "      <td>a0c4c21801cf2bc5133f631180775d4c</td>\n",
       "      <td>{\"cutoff\": \"quantile_0.25\", \"eval_fairness_gro...</td>\n",
       "      <td>30.669146</td>\n",
       "      <td>89710</td>\n",
       "      <td>1.0</td>\n",
       "      <td>0.137866</td>\n",
       "      <td>0.833877</td>\n",
       "      <td>0.120105</td>\n",
       "      <td>0.85746</td>\n",
       "      <td>...</td>\n",
       "      <td>0.128618</td>\n",
       "      <td>0.168724</td>\n",
       "      <td>0.829903</td>\n",
       "      <td>0.692037</td>\n",
       "      <td>0.059966</td>\n",
       "      <td>0.077462</td>\n",
       "      <td>0.842600</td>\n",
       "      <td>0.722495</td>\n",
       "      <td>20540.0</td>\n",
       "      <td>69170.0</td>\n",
       "    </tr>\n",
       "  </tbody>\n",
       "</table>\n",
       "<p>4 rows × 50 columns</p>\n",
       "</div>"
      ],
      "text/plain": [
       "  run_no                       universe_id  \\\n",
       "0     15  a0c4c21801cf2bc5133f631180775d4c   \n",
       "0     15  a0c4c21801cf2bc5133f631180775d4c   \n",
       "0     15  a0c4c21801cf2bc5133f631180775d4c   \n",
       "0     15  a0c4c21801cf2bc5133f631180775d4c   \n",
       "\n",
       "                                   universe_settings  execution_time  \\\n",
       "0  {\"cutoff\": \"quantile_0.1\", \"eval_fairness_grou...       30.669146   \n",
       "0  {\"cutoff\": \"quantile_0.1\", \"eval_fairness_grou...       30.669146   \n",
       "0  {\"cutoff\": \"quantile_0.25\", \"eval_fairness_gro...       30.669146   \n",
       "0  {\"cutoff\": \"quantile_0.25\", \"eval_fairness_gro...       30.669146   \n",
       "\n",
       "   test_size_n  test_size_frac  fair_main_equalized_odds_difference  \\\n",
       "0        89710             1.0                             0.056648   \n",
       "0        89710             1.0                             0.056648   \n",
       "0        89710             1.0                             0.137866   \n",
       "0        89710             1.0                             0.137866   \n",
       "\n",
       "   fair_main_equalized_odds_ratio  fair_main_demographic_parity_difference  \\\n",
       "0                        0.939225                                 0.048872   \n",
       "0                        0.939225                                 0.048872   \n",
       "0                        0.833877                                 0.120105   \n",
       "0                        0.833877                                 0.120105   \n",
       "\n",
       "   fair_main_demographic_parity_ratio  ...  perf_grp_precision_0  \\\n",
       "0                             0.94788  ...                   NaN   \n",
       "0                             0.94788  ...              0.120561   \n",
       "0                             0.85746  ...                   NaN   \n",
       "0                             0.85746  ...              0.128618   \n",
       "\n",
       "   perf_grp_precision_1  perf_grp_false positive rate_0  \\\n",
       "0                   NaN                             NaN   \n",
       "0              0.145188                        0.932093   \n",
       "0                   NaN                             NaN   \n",
       "0              0.168724                        0.829903   \n",
       "\n",
       "   perf_grp_false positive rate_1  perf_grp_false negative rate_0  \\\n",
       "0                             NaN                             NaN   \n",
       "0                        0.875446                        0.019426   \n",
       "0                             NaN                             NaN   \n",
       "0                        0.692037                        0.059966   \n",
       "\n",
       "   perf_grp_false negative rate_1  perf_grp_selection rate_0  \\\n",
       "0                             NaN                        NaN   \n",
       "0                        0.023414                   0.937683   \n",
       "0                             NaN                        NaN   \n",
       "0                        0.077462                   0.842600   \n",
       "\n",
       "   perf_grp_selection rate_1  perf_grp_count_0  perf_grp_count_1  \n",
       "0                        NaN               NaN               NaN  \n",
       "0                   0.888810           20540.0           69170.0  \n",
       "0                        NaN               NaN               NaN  \n",
       "0                   0.722495           20540.0           69170.0  \n",
       "\n",
       "[4 rows x 50 columns]"
      ]
     },
     "execution_count": 66,
     "metadata": {},
     "output_type": "execute_result"
    }
   ],
   "source": [
    "final_output = universe_analysis.generate_final_output(\n",
    "    y_pred_prob=probs_test,\n",
    "    y_test=y_true,\n",
    "    org_test=org_test,\n",
    "    filter_data=filter_sub_universe_data,\n",
    "    cp_metrics_df=cp_metrics_df,\n",
    "    save=True,\n",
    ")\n",
    "final_output"
   ]
  }
 ],
 "metadata": {
  "celltoolbar": "Tags",
  "kernelspec": {
   "display_name": "Python (CMA Fairness)",
   "language": "python",
   "name": "cma_fair_env"
  },
  "language_info": {
   "codemirror_mode": {
    "name": "ipython",
    "version": 3
   },
   "file_extension": ".py",
   "mimetype": "text/x-python",
   "name": "python",
   "nbconvert_exporter": "python",
   "pygments_lexer": "ipython3",
   "version": "3.10.12"
  },
  "papermill": {
   "default_parameters": {},
   "duration": 46.842852,
   "end_time": "2025-08-05T16:43:45.405019",
   "environment_variables": {},
   "exception": null,
   "input_path": "universe_analysis.ipynb",
   "output_path": "output/runs/15/notebooks/m_15-a0c4c21801cf2bc5133f631180775d4c.ipynb",
   "parameters": {
    "output_dir": "output",
    "run_no": "15",
    "seed": "2023",
    "universe": "{\"cutoff\": [\"quantile_0.1\", \"quantile_0.25\"], \"eval_fairness_grouping\": [\"majority-minority\", \"nationality-all\"], \"exclude_features\": \"nationality\", \"exclude_subgroups\": \"keep-all\", \"model\": \"gbm\", \"scale\": \"do-not-scale\", \"training_size\": \"1k\", \"training_year\": \"2010_14\"}",
    "universe_id": "a0c4c21801cf2bc5133f631180775d4c"
   },
   "start_time": "2025-08-05T16:42:58.562167",
   "version": "2.6.0"
  }
 },
 "nbformat": 4,
 "nbformat_minor": 5
}