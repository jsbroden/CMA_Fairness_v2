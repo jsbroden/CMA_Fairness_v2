{
 "cells": [
  {
   "cell_type": "code",
   "execution_count": 1,
   "id": "f159f837-637b-42ba-96b5-ec9a68c44524",
   "metadata": {
    "execution": {
     "iopub.execute_input": "2025-08-05T16:28:52.822132Z",
     "iopub.status.busy": "2025-08-05T16:28:52.821668Z",
     "iopub.status.idle": "2025-08-05T16:28:52.837577Z",
     "shell.execute_reply": "2025-08-05T16:28:52.836453Z"
    },
    "papermill": {
     "duration": 0.044625,
     "end_time": "2025-08-05T16:28:52.839605",
     "exception": false,
     "start_time": "2025-08-05T16:28:52.794980",
     "status": "completed"
    },
    "tags": []
   },
   "outputs": [
    {
     "name": "stdout",
     "output_type": "stream",
     "text": [
      "/dss/dsshome1/0C/ra93lal2/cma/CMA_Fairness_v2\n"
     ]
    },
    {
     "name": "stderr",
     "output_type": "stream",
     "text": [
      "/dss/dsshome1/0C/ra93lal2/.local/share/virtualenvs/CMA_Fairness_v2-3j10GkSs/lib/python3.10/site-packages/IPython/core/magics/osm.py:393: UserWarning: This is now an optional IPython functionality, using bookmarks requires you to install the `pickleshare` library.\n",
      "  bkms = self.shell.db.get('bookmarks', {})\n",
      "/dss/dsshome1/0C/ra93lal2/.local/share/virtualenvs/CMA_Fairness_v2-3j10GkSs/lib/python3.10/site-packages/IPython/core/magics/osm.py:417: UserWarning: This is now an optional IPython functionality, setting dhist requires you to install the `pickleshare` library.\n",
      "  self.shell.db['dhist'] = compress_dhist(dhist)[-100:]\n"
     ]
    }
   ],
   "source": [
    "%cd ~/cma/CMA_Fairness_v2"
   ]
  },
  {
   "cell_type": "markdown",
   "id": "de2603b9",
   "metadata": {
    "papermill": {
     "duration": 0.022908,
     "end_time": "2025-08-05T16:28:52.885784",
     "exception": false,
     "start_time": "2025-08-05T16:28:52.862876",
     "status": "completed"
    },
    "tags": []
   },
   "source": [
    "The following cell holds the definition of our parameters, these values can be overriden by rendering the with e.g. the following command:\n",
    "\n",
    "papermill -p alpha 0.2 -p ratio 0.3 universe_analysis.ipynb output/test_run.ipynb"
   ]
  },
  {
   "cell_type": "code",
   "execution_count": 2,
   "id": "a80968a0-40bb-4fa9-85ef-2d5eefb01975",
   "metadata": {
    "execution": {
     "iopub.execute_input": "2025-08-05T16:28:52.934112Z",
     "iopub.status.busy": "2025-08-05T16:28:52.933396Z",
     "iopub.status.idle": "2025-08-05T16:28:52.939888Z",
     "shell.execute_reply": "2025-08-05T16:28:52.938841Z"
    },
    "papermill": {
     "duration": 0.033071,
     "end_time": "2025-08-05T16:28:52.941909",
     "exception": false,
     "start_time": "2025-08-05T16:28:52.908838",
     "status": "completed"
    },
    "tags": []
   },
   "outputs": [
    {
     "name": "stdout",
     "output_type": "stream",
     "text": [
      "Current working directory: /dss/dsshome1/0C/ra93lal2/cma/CMA_Fairness_v2\n"
     ]
    }
   ],
   "source": [
    "import os\n",
    "print(\"Current working directory:\", os.getcwd())"
   ]
  },
  {
   "cell_type": "code",
   "execution_count": 3,
   "id": "2dce4c03",
   "metadata": {
    "execution": {
     "iopub.execute_input": "2025-08-05T16:28:52.989197Z",
     "iopub.status.busy": "2025-08-05T16:28:52.988807Z",
     "iopub.status.idle": "2025-08-05T16:28:52.995590Z",
     "shell.execute_reply": "2025-08-05T16:28:52.994432Z"
    },
    "papermill": {
     "duration": 0.032825,
     "end_time": "2025-08-05T16:28:52.997662",
     "exception": false,
     "start_time": "2025-08-05T16:28:52.964837",
     "status": "completed"
    },
    "tags": [
     "parameters"
    ]
   },
   "outputs": [],
   "source": [
    "run_no = 0\n",
    "universe_id = \"test\"\n",
    "universe = {\n",
    "    \"training_size\": \"25k\", # \"25k\", \"5k\", \"1k\"\n",
    "    \"training_year\": \"2014\", # \"2014\", \"2012_14\", \"2010_14\"\n",
    "    \"scale\": \"scale\", # \"scale\", \"do-not-scale\",\n",
    "    \"model\": \"elasticnet\", # \"logreg\", \"penalized_logreg\", \"rf\", \"gbm\", \"elasticnet\"\n",
    "    \"cutoff\": [\"quantile_0.15\", \"quantile_0.30\"],\n",
    "    \"exclude_features\": \"age\", # \"none\", \"nationality\", \"sex\", \"nationality-sex\", \"age\"\n",
    "    \"exclude_subgroups\": \"keep-all\", # \"keep-all\", \"drop-non-german\"\n",
    "    \"eval_fairness_grouping\": [\"majority-minority\", \"nationality-all\"]\n",
    "}\n",
    "\n",
    "output_dir=\"./output\"\n",
    "seed=0"
   ]
  },
  {
   "cell_type": "code",
   "execution_count": 4,
   "id": "8c879b3f",
   "metadata": {
    "execution": {
     "iopub.execute_input": "2025-08-05T16:28:53.046363Z",
     "iopub.status.busy": "2025-08-05T16:28:53.045533Z",
     "iopub.status.idle": "2025-08-05T16:28:53.052129Z",
     "shell.execute_reply": "2025-08-05T16:28:53.051010Z"
    },
    "papermill": {
     "duration": 0.033584,
     "end_time": "2025-08-05T16:28:53.054291",
     "exception": false,
     "start_time": "2025-08-05T16:28:53.020707",
     "status": "completed"
    },
    "tags": [
     "injected-parameters"
    ]
   },
   "outputs": [],
   "source": [
    "# Parameters\n",
    "universe_id = \"505cb77b3d6ccd64a158ef9380db7a35\"\n",
    "run_no = \"15\"\n",
    "universe = \"{\\\"cutoff\\\": [\\\"quantile_0.1\\\", \\\"quantile_0.25\\\"], \\\"eval_fairness_grouping\\\": [\\\"majority-minority\\\", \\\"nationality-all\\\"], \\\"exclude_features\\\": \\\"nationality-sex\\\", \\\"exclude_subgroups\\\": \\\"keep-all\\\", \\\"model\\\": \\\"gbm\\\", \\\"scale\\\": \\\"do-not-scale\\\", \\\"training_size\\\": \\\"1k\\\", \\\"training_year\\\": \\\"2012_14\\\"}\"\n",
    "output_dir = \"output\"\n",
    "seed = \"2023\"\n"
   ]
  },
  {
   "cell_type": "code",
   "execution_count": 5,
   "id": "1650acaf",
   "metadata": {
    "execution": {
     "iopub.execute_input": "2025-08-05T16:28:53.095659Z",
     "iopub.status.busy": "2025-08-05T16:28:53.094978Z",
     "iopub.status.idle": "2025-08-05T16:28:53.101244Z",
     "shell.execute_reply": "2025-08-05T16:28:53.099987Z"
    },
    "papermill": {
     "duration": 0.029731,
     "end_time": "2025-08-05T16:28:53.103431",
     "exception": false,
     "start_time": "2025-08-05T16:28:53.073700",
     "status": "completed"
    },
    "tags": []
   },
   "outputs": [],
   "source": [
    "import json\n",
    "if isinstance(universe, str):\n",
    "    universe = json.loads(universe)"
   ]
  },
  {
   "cell_type": "code",
   "execution_count": 6,
   "id": "16620c48",
   "metadata": {
    "execution": {
     "iopub.execute_input": "2025-08-05T16:28:53.145759Z",
     "iopub.status.busy": "2025-08-05T16:28:53.145087Z",
     "iopub.status.idle": "2025-08-05T16:28:53.199820Z",
     "shell.execute_reply": "2025-08-05T16:28:53.198749Z"
    },
    "papermill": {
     "duration": 0.077839,
     "end_time": "2025-08-05T16:28:53.201929",
     "exception": false,
     "start_time": "2025-08-05T16:28:53.124090",
     "status": "completed"
    },
    "tags": []
   },
   "outputs": [],
   "source": [
    "# Auto-reload the custom package\n",
    "%load_ext autoreload\n",
    "%autoreload 1\n",
    "%aimport fairness_multiverse"
   ]
  },
  {
   "cell_type": "code",
   "execution_count": 7,
   "id": "01c5c9f3",
   "metadata": {
    "execution": {
     "iopub.execute_input": "2025-08-05T16:28:53.248326Z",
     "iopub.status.busy": "2025-08-05T16:28:53.247533Z",
     "iopub.status.idle": "2025-08-05T16:28:55.346439Z",
     "shell.execute_reply": "2025-08-05T16:28:55.345227Z"
    },
    "papermill": {
     "duration": 2.121427,
     "end_time": "2025-08-05T16:28:55.348834",
     "exception": false,
     "start_time": "2025-08-05T16:28:53.227407",
     "status": "completed"
    },
    "tags": []
   },
   "outputs": [],
   "source": [
    "from fairness_multiverse.universe import UniverseAnalysis\n",
    "\n",
    "universe_analysis = UniverseAnalysis(\n",
    "    run_no = run_no,\n",
    "    universe_id = universe_id,\n",
    "    universe = universe,\n",
    "    output_dir=output_dir,\n",
    ")"
   ]
  },
  {
   "cell_type": "code",
   "execution_count": 8,
   "id": "106241f5",
   "metadata": {
    "execution": {
     "iopub.execute_input": "2025-08-05T16:28:55.392656Z",
     "iopub.status.busy": "2025-08-05T16:28:55.391724Z",
     "iopub.status.idle": "2025-08-05T16:28:55.399185Z",
     "shell.execute_reply": "2025-08-05T16:28:55.398021Z"
    },
    "papermill": {
     "duration": 0.033351,
     "end_time": "2025-08-05T16:28:55.400993",
     "exception": false,
     "start_time": "2025-08-05T16:28:55.367642",
     "status": "completed"
    },
    "tags": []
   },
   "outputs": [
    {
     "name": "stdout",
     "output_type": "stream",
     "text": [
      "Using Seed: 2023\n"
     ]
    }
   ],
   "source": [
    "import numpy as np\n",
    "parsed_seed = int(seed)\n",
    "np.random.seed(parsed_seed)\n",
    "print(f\"Using Seed: {parsed_seed}\")"
   ]
  },
  {
   "cell_type": "markdown",
   "id": "e0ebdc57",
   "metadata": {
    "papermill": {
     "duration": 0.020112,
     "end_time": "2025-08-05T16:28:55.440747",
     "exception": false,
     "start_time": "2025-08-05T16:28:55.420635",
     "status": "completed"
    },
    "tags": []
   },
   "source": [
    "# Loading Data"
   ]
  },
  {
   "cell_type": "code",
   "execution_count": 9,
   "id": "f0496b8a",
   "metadata": {
    "execution": {
     "iopub.execute_input": "2025-08-05T16:28:55.481495Z",
     "iopub.status.busy": "2025-08-05T16:28:55.480660Z",
     "iopub.status.idle": "2025-08-05T16:29:09.691435Z",
     "shell.execute_reply": "2025-08-05T16:29:09.690373Z"
    },
    "papermill": {
     "duration": 14.23282,
     "end_time": "2025-08-05T16:29:09.692965",
     "exception": false,
     "start_time": "2025-08-05T16:28:55.460145",
     "status": "completed"
    },
    "tags": []
   },
   "outputs": [
    {
     "name": "stdout",
     "output_type": "stream",
     "text": [
      "Loading SIAB data from cache: data/siab_cached.csv.gz\n"
     ]
    },
    {
     "name": "stdout",
     "output_type": "stream",
     "text": [
      "(643690, 164)\n"
     ]
    }
   ],
   "source": [
    "from pathlib import Path\n",
    "import pandas as pd\n",
    "\n",
    "# File paths\n",
    "raw_file = Path(\"data/raw/siab.csv\")\n",
    "cache_file = Path(\"data/siab_cached.csv.gz\")\n",
    "\n",
    "# Ensure cache directory exists\n",
    "cache_file.parent.mkdir(parents=True, exist_ok=True)\n",
    "\n",
    "# Load with simple caching\n",
    "if cache_file.exists():\n",
    "    print(f\"Loading SIAB data from cache: {cache_file}\")\n",
    "    siab = pd.read_csv(cache_file, compression='gzip')\n",
    "else:\n",
    "    print(f\"Cache not found. Reading raw SIAB data: {raw_file}\")\n",
    "    siab = pd.read_csv(raw_file)\n",
    "    siab.to_csv(cache_file, index=False, compression='gzip')\n",
    "    print(f\"Cached SIAB data to: {cache_file}\")\n",
    "\n",
    "print(siab.shape)"
   ]
  },
  {
   "cell_type": "code",
   "execution_count": 10,
   "id": "db0ca512-5f53-4dba-abdb-a2888bca41ba",
   "metadata": {
    "execution": {
     "iopub.execute_input": "2025-08-05T16:29:09.719816Z",
     "iopub.status.busy": "2025-08-05T16:29:09.719413Z",
     "iopub.status.idle": "2025-08-05T16:29:09.724851Z",
     "shell.execute_reply": "2025-08-05T16:29:09.723812Z"
    },
    "papermill": {
     "duration": 0.019693,
     "end_time": "2025-08-05T16:29:09.726560",
     "exception": false,
     "start_time": "2025-08-05T16:29:09.706867",
     "status": "completed"
    },
    "tags": []
   },
   "outputs": [],
   "source": [
    "#siab"
   ]
  },
  {
   "cell_type": "markdown",
   "id": "997051c5-15bd-4b69-9786-c3001a3ce484",
   "metadata": {
    "papermill": {
     "duration": 0.021989,
     "end_time": "2025-08-05T16:29:09.770304",
     "exception": false,
     "start_time": "2025-08-05T16:29:09.748315",
     "status": "completed"
    },
    "tags": []
   },
   "source": [
    "# Splitting Data and Setting Training Data Size"
   ]
  },
  {
   "cell_type": "code",
   "execution_count": 11,
   "id": "aea9c6ef-6f46-42c8-85eb-5a62025c1508",
   "metadata": {
    "execution": {
     "iopub.execute_input": "2025-08-05T16:29:09.816452Z",
     "iopub.status.busy": "2025-08-05T16:29:09.815895Z",
     "iopub.status.idle": "2025-08-05T16:29:10.423843Z",
     "shell.execute_reply": "2025-08-05T16:29:10.422594Z"
    },
    "papermill": {
     "duration": 0.63382,
     "end_time": "2025-08-05T16:29:10.426335",
     "exception": false,
     "start_time": "2025-08-05T16:29:09.792515",
     "status": "completed"
    },
    "tags": []
   },
   "outputs": [],
   "source": [
    "from fairness_multiverse.universe import sample_by_year_size\n",
    "\n",
    "siab_train = sample_by_year_size(siab,\n",
    "                               training_year=universe[\"training_year\"],\n",
    "                               training_size=universe[\"training_size\"])"
   ]
  },
  {
   "cell_type": "code",
   "execution_count": 12,
   "id": "8d3afb32-789d-442c-8d5d-9f5aa8dd2eed",
   "metadata": {
    "execution": {
     "iopub.execute_input": "2025-08-05T16:29:10.481730Z",
     "iopub.status.busy": "2025-08-05T16:29:10.481151Z",
     "iopub.status.idle": "2025-08-05T16:29:10.487215Z",
     "shell.execute_reply": "2025-08-05T16:29:10.485998Z"
    },
    "papermill": {
     "duration": 0.034602,
     "end_time": "2025-08-05T16:29:10.489324",
     "exception": false,
     "start_time": "2025-08-05T16:29:10.454722",
     "status": "completed"
    },
    "tags": []
   },
   "outputs": [],
   "source": [
    "#siab_train.shape"
   ]
  },
  {
   "cell_type": "code",
   "execution_count": 13,
   "id": "d582db68-1a4c-47fb-84fc-08518dc1975a",
   "metadata": {
    "execution": {
     "iopub.execute_input": "2025-08-05T16:29:10.540247Z",
     "iopub.status.busy": "2025-08-05T16:29:10.539119Z",
     "iopub.status.idle": "2025-08-05T16:29:10.545658Z",
     "shell.execute_reply": "2025-08-05T16:29:10.544405Z"
    },
    "papermill": {
     "duration": 0.033935,
     "end_time": "2025-08-05T16:29:10.547713",
     "exception": false,
     "start_time": "2025-08-05T16:29:10.513778",
     "status": "completed"
    },
    "tags": []
   },
   "outputs": [],
   "source": [
    "#display(siab_train.groupby(\"year\").size())"
   ]
  },
  {
   "cell_type": "code",
   "execution_count": 14,
   "id": "a561edb4-d032-42cb-8256-22eac1111c64",
   "metadata": {
    "execution": {
     "iopub.execute_input": "2025-08-05T16:29:10.599578Z",
     "iopub.status.busy": "2025-08-05T16:29:10.598915Z",
     "iopub.status.idle": "2025-08-05T16:29:10.880738Z",
     "shell.execute_reply": "2025-08-05T16:29:10.879750Z"
    },
    "papermill": {
     "duration": 0.309479,
     "end_time": "2025-08-05T16:29:10.882609",
     "exception": false,
     "start_time": "2025-08-05T16:29:10.573130",
     "status": "completed"
    },
    "tags": []
   },
   "outputs": [],
   "source": [
    "#siab_train = siab_s[siab_s.year < 2015]\n",
    "siab_calib = siab[siab.year == 2015]\n",
    "siab_test = siab[siab.year == 2016]"
   ]
  },
  {
   "cell_type": "code",
   "execution_count": 15,
   "id": "472de16f-c3db-4916-846b-1f0de9cf1746",
   "metadata": {
    "execution": {
     "iopub.execute_input": "2025-08-05T16:29:10.908987Z",
     "iopub.status.busy": "2025-08-05T16:29:10.908489Z",
     "iopub.status.idle": "2025-08-05T16:29:10.916603Z",
     "shell.execute_reply": "2025-08-05T16:29:10.915747Z"
    },
    "papermill": {
     "duration": 0.02415,
     "end_time": "2025-08-05T16:29:10.918691",
     "exception": false,
     "start_time": "2025-08-05T16:29:10.894541",
     "status": "completed"
    },
    "tags": []
   },
   "outputs": [],
   "source": [
    "X_train = siab_train.iloc[:,4:164]\n",
    "y_train = siab_train.iloc[:, [3]]"
   ]
  },
  {
   "cell_type": "code",
   "execution_count": 16,
   "id": "828c96af-f43a-4ed6-ba47-8ac73a47d56c",
   "metadata": {
    "execution": {
     "iopub.execute_input": "2025-08-05T16:29:10.968919Z",
     "iopub.status.busy": "2025-08-05T16:29:10.968376Z",
     "iopub.status.idle": "2025-08-05T16:29:11.021896Z",
     "shell.execute_reply": "2025-08-05T16:29:11.020946Z"
    },
    "papermill": {
     "duration": 0.081221,
     "end_time": "2025-08-05T16:29:11.023761",
     "exception": false,
     "start_time": "2025-08-05T16:29:10.942540",
     "status": "completed"
    },
    "tags": []
   },
   "outputs": [],
   "source": [
    "X_calib = siab_calib.iloc[:,4:164]\n",
    "y_calib = siab_calib.iloc[:, [3]]"
   ]
  },
  {
   "cell_type": "code",
   "execution_count": 17,
   "id": "c34be9c3-6bd6-476e-acd3-845840e303be",
   "metadata": {
    "execution": {
     "iopub.execute_input": "2025-08-05T16:29:11.072530Z",
     "iopub.status.busy": "2025-08-05T16:29:11.071980Z",
     "iopub.status.idle": "2025-08-05T16:29:11.125272Z",
     "shell.execute_reply": "2025-08-05T16:29:11.124415Z"
    },
    "papermill": {
     "duration": 0.085665,
     "end_time": "2025-08-05T16:29:11.132607",
     "exception": false,
     "start_time": "2025-08-05T16:29:11.046942",
     "status": "completed"
    },
    "tags": []
   },
   "outputs": [],
   "source": [
    "X_test = siab_test.iloc[:,4:164]\n",
    "y_true = siab_test.iloc[:, [3]]"
   ]
  },
  {
   "cell_type": "code",
   "execution_count": 18,
   "id": "e6c733c5",
   "metadata": {
    "execution": {
     "iopub.execute_input": "2025-08-05T16:29:11.168647Z",
     "iopub.status.busy": "2025-08-05T16:29:11.168213Z",
     "iopub.status.idle": "2025-08-05T16:29:11.275646Z",
     "shell.execute_reply": "2025-08-05T16:29:11.274609Z"
    },
    "papermill": {
     "duration": 0.124609,
     "end_time": "2025-08-05T16:29:11.277397",
     "exception": false,
     "start_time": "2025-08-05T16:29:11.152788",
     "status": "completed"
    },
    "tags": []
   },
   "outputs": [],
   "source": [
    "# Auxiliary data needed downstream in the pipeline\n",
    "\n",
    "org_train = X_train.copy()\n",
    "org_test = X_test.copy()\n",
    "org_calib = X_calib.copy()"
   ]
  },
  {
   "cell_type": "markdown",
   "id": "0a4a1b33",
   "metadata": {
    "papermill": {
     "duration": 0.015956,
     "end_time": "2025-08-05T16:29:11.305214",
     "exception": false,
     "start_time": "2025-08-05T16:29:11.289258",
     "status": "completed"
    },
    "tags": []
   },
   "source": [
    "# Preprocessing Data"
   ]
  },
  {
   "cell_type": "code",
   "execution_count": 19,
   "id": "ca879031",
   "metadata": {
    "execution": {
     "iopub.execute_input": "2025-08-05T16:29:11.331504Z",
     "iopub.status.busy": "2025-08-05T16:29:11.331066Z",
     "iopub.status.idle": "2025-08-05T16:29:11.337871Z",
     "shell.execute_reply": "2025-08-05T16:29:11.336709Z"
    },
    "papermill": {
     "duration": 0.022918,
     "end_time": "2025-08-05T16:29:11.339820",
     "exception": false,
     "start_time": "2025-08-05T16:29:11.316902",
     "status": "completed"
    },
    "tags": []
   },
   "outputs": [],
   "source": [
    "# EXCLUDE PROTECTED FEATURES\n",
    "# ----------------------\n",
    "# \"exclude_features\": \"none\", # \"nationality\", \"sex\", \"nationality-sex\"\n",
    "\n",
    "excluded_features = universe[\"exclude_features\"].split(\"-\") # split, e.g.: \"nationality-sex\" -> [\"nationality\", \"sex\"]\n",
    "excluded_features_dictionary = {\n",
    "    \"nationality\": [\"maxdeutsch1\", \"maxdeutsch.Missing.\"],\n",
    "    \"sex\": [\"frau1\"],\n",
    "    \"age\": [\"age\"],\n",
    "}"
   ]
  },
  {
   "cell_type": "code",
   "execution_count": 20,
   "id": "b745ac60",
   "metadata": {
    "execution": {
     "iopub.execute_input": "2025-08-05T16:29:11.380484Z",
     "iopub.status.busy": "2025-08-05T16:29:11.380054Z",
     "iopub.status.idle": "2025-08-05T16:29:11.386150Z",
     "shell.execute_reply": "2025-08-05T16:29:11.385189Z"
    },
    "papermill": {
     "duration": 0.024476,
     "end_time": "2025-08-05T16:29:11.387518",
     "exception": false,
     "start_time": "2025-08-05T16:29:11.363042",
     "status": "completed"
    },
    "tags": []
   },
   "outputs": [],
   "source": [
    "# Code nice names to column names\n",
    "\n",
    "excluded_features_columns = [\n",
    "    excluded_features_dictionary[f] for f in excluded_features if len(f) > 0 and f != \"none\"\n",
    "]"
   ]
  },
  {
   "cell_type": "code",
   "execution_count": 21,
   "id": "f84f73a2",
   "metadata": {
    "execution": {
     "iopub.execute_input": "2025-08-05T16:29:11.412330Z",
     "iopub.status.busy": "2025-08-05T16:29:11.411904Z",
     "iopub.status.idle": "2025-08-05T16:29:11.418705Z",
     "shell.execute_reply": "2025-08-05T16:29:11.417548Z"
    },
    "papermill": {
     "duration": 0.02283,
     "end_time": "2025-08-05T16:29:11.421466",
     "exception": false,
     "start_time": "2025-08-05T16:29:11.398636",
     "status": "completed"
    },
    "tags": []
   },
   "outputs": [],
   "source": [
    "from utils import flatten_once\n",
    "\n",
    "excluded_features_columns = flatten_once(excluded_features_columns)"
   ]
  },
  {
   "cell_type": "code",
   "execution_count": 22,
   "id": "884dea22",
   "metadata": {
    "execution": {
     "iopub.execute_input": "2025-08-05T16:29:11.459552Z",
     "iopub.status.busy": "2025-08-05T16:29:11.459054Z",
     "iopub.status.idle": "2025-08-05T16:29:11.468535Z",
     "shell.execute_reply": "2025-08-05T16:29:11.467283Z"
    },
    "papermill": {
     "duration": 0.03122,
     "end_time": "2025-08-05T16:29:11.470518",
     "exception": false,
     "start_time": "2025-08-05T16:29:11.439298",
     "status": "completed"
    },
    "tags": []
   },
   "outputs": [
    {
     "name": "stdout",
     "output_type": "stream",
     "text": [
      "Dropping features: ['maxdeutsch1', 'maxdeutsch.Missing.', 'frau1']\n"
     ]
    }
   ],
   "source": [
    "if len(excluded_features_columns) > 0:\n",
    "    print(f\"Dropping features: {excluded_features_columns}\")\n",
    "    X_train.drop(excluded_features_columns, axis=1, inplace=True)"
   ]
  },
  {
   "cell_type": "code",
   "execution_count": 23,
   "id": "95ab8b16",
   "metadata": {
    "execution": {
     "iopub.execute_input": "2025-08-05T16:29:11.518750Z",
     "iopub.status.busy": "2025-08-05T16:29:11.518192Z",
     "iopub.status.idle": "2025-08-05T16:29:11.578174Z",
     "shell.execute_reply": "2025-08-05T16:29:11.576886Z"
    },
    "papermill": {
     "duration": 0.08656,
     "end_time": "2025-08-05T16:29:11.580278",
     "exception": false,
     "start_time": "2025-08-05T16:29:11.493718",
     "status": "completed"
    },
    "tags": []
   },
   "outputs": [
    {
     "name": "stdout",
     "output_type": "stream",
     "text": [
      "Dropping features: ['maxdeutsch1', 'maxdeutsch.Missing.', 'frau1']\n"
     ]
    }
   ],
   "source": [
    "if len(excluded_features_columns) > 0:\n",
    "    print(f\"Dropping features: {excluded_features_columns}\")\n",
    "    X_test.drop(excluded_features_columns, axis=1, inplace=True)"
   ]
  },
  {
   "cell_type": "code",
   "execution_count": 24,
   "id": "1853aaf5-fb9f-46cb-a2b5-8ea4ae2237e4",
   "metadata": {
    "execution": {
     "iopub.execute_input": "2025-08-05T16:29:11.627994Z",
     "iopub.status.busy": "2025-08-05T16:29:11.626984Z",
     "iopub.status.idle": "2025-08-05T16:29:11.670240Z",
     "shell.execute_reply": "2025-08-05T16:29:11.669088Z"
    },
    "papermill": {
     "duration": 0.07136,
     "end_time": "2025-08-05T16:29:11.672463",
     "exception": false,
     "start_time": "2025-08-05T16:29:11.601103",
     "status": "completed"
    },
    "tags": []
   },
   "outputs": [
    {
     "name": "stdout",
     "output_type": "stream",
     "text": [
      "Dropping features: ['maxdeutsch1', 'maxdeutsch.Missing.', 'frau1']\n"
     ]
    }
   ],
   "source": [
    "if len(excluded_features_columns) > 0:\n",
    "    print(f\"Dropping features: {excluded_features_columns}\")\n",
    "    X_calib.drop(excluded_features_columns, axis=1, inplace=True)"
   ]
  },
  {
   "cell_type": "code",
   "execution_count": 25,
   "id": "76c4dc6d",
   "metadata": {
    "execution": {
     "iopub.execute_input": "2025-08-05T16:29:11.727018Z",
     "iopub.status.busy": "2025-08-05T16:29:11.726387Z",
     "iopub.status.idle": "2025-08-05T16:29:11.732754Z",
     "shell.execute_reply": "2025-08-05T16:29:11.731631Z"
    },
    "papermill": {
     "duration": 0.037443,
     "end_time": "2025-08-05T16:29:11.734912",
     "exception": false,
     "start_time": "2025-08-05T16:29:11.697469",
     "status": "completed"
    },
    "tags": []
   },
   "outputs": [],
   "source": [
    "# EXCLUDE CERTAIN SUBGROUPS\n",
    "# ----------------------\n",
    "\n",
    "mode = universe.get(\"exclude_subgroups\", \"keep-all\") \n",
    "# Fetches the exclude_subgroups setting from the universe dict.\n",
    "# Defaults to \"keep-all\" if the key is missing."
   ]
  },
  {
   "cell_type": "code",
   "execution_count": 26,
   "id": "21994072",
   "metadata": {
    "execution": {
     "iopub.execute_input": "2025-08-05T16:29:11.784742Z",
     "iopub.status.busy": "2025-08-05T16:29:11.784216Z",
     "iopub.status.idle": "2025-08-05T16:29:11.792039Z",
     "shell.execute_reply": "2025-08-05T16:29:11.790904Z"
    },
    "papermill": {
     "duration": 0.035172,
     "end_time": "2025-08-05T16:29:11.794005",
     "exception": false,
     "start_time": "2025-08-05T16:29:11.758833",
     "status": "completed"
    },
    "tags": []
   },
   "outputs": [],
   "source": [
    "if mode == \"keep-all\":\n",
    "    keep_mask = pd.Series(True, index=org_train.index)\n",
    "\n",
    "# org_train contains the original feature columns from features_org (in Simson)\n",
    "# features_org contains unprocessed features, for me X_train at beginning ???\n",
    "# For keep-all, creates a boolean Series (keep_mask) of all True, so no rows are removed.\n",
    "\n",
    "elif mode == \"drop-non-german\":\n",
    "    keep_mask = org_train[\"maxdeutsch1\"] == 1 # ??? what about missing values?\n",
    "\n",
    "else:\n",
    "    raise ValueError(f\"Unsupported mode for exclude_subgroups: {mode}\")"
   ]
  },
  {
   "cell_type": "code",
   "execution_count": 27,
   "id": "71651440",
   "metadata": {
    "execution": {
     "iopub.execute_input": "2025-08-05T16:29:11.843832Z",
     "iopub.status.busy": "2025-08-05T16:29:11.842880Z",
     "iopub.status.idle": "2025-08-05T16:29:11.851229Z",
     "shell.execute_reply": "2025-08-05T16:29:11.850071Z"
    },
    "papermill": {
     "duration": 0.035758,
     "end_time": "2025-08-05T16:29:11.853397",
     "exception": false,
     "start_time": "2025-08-05T16:29:11.817639",
     "status": "completed"
    },
    "tags": []
   },
   "outputs": [],
   "source": [
    "n_drop = (~keep_mask).sum() # Calculates how many rows are set to be dropped\n",
    "if n_drop > 0:\n",
    "    pct = n_drop / len(keep_mask) * 100\n",
    "    print(f\"Dropping {n_drop} rows ({pct:.2f}%) where mode='{mode}'\")"
   ]
  },
  {
   "cell_type": "code",
   "execution_count": 28,
   "id": "5fb8eee5",
   "metadata": {
    "execution": {
     "iopub.execute_input": "2025-08-05T16:29:11.908365Z",
     "iopub.status.busy": "2025-08-05T16:29:11.907508Z",
     "iopub.status.idle": "2025-08-05T16:29:11.916049Z",
     "shell.execute_reply": "2025-08-05T16:29:11.914839Z"
    },
    "papermill": {
     "duration": 0.038663,
     "end_time": "2025-08-05T16:29:11.918255",
     "exception": false,
     "start_time": "2025-08-05T16:29:11.879592",
     "status": "completed"
    },
    "tags": []
   },
   "outputs": [],
   "source": [
    "X_train = X_train[keep_mask]"
   ]
  },
  {
   "cell_type": "code",
   "execution_count": 29,
   "id": "b202bb3a",
   "metadata": {
    "execution": {
     "iopub.execute_input": "2025-08-05T16:29:11.972272Z",
     "iopub.status.busy": "2025-08-05T16:29:11.971521Z",
     "iopub.status.idle": "2025-08-05T16:29:11.979160Z",
     "shell.execute_reply": "2025-08-05T16:29:11.978002Z"
    },
    "papermill": {
     "duration": 0.036719,
     "end_time": "2025-08-05T16:29:11.981235",
     "exception": false,
     "start_time": "2025-08-05T16:29:11.944516",
     "status": "completed"
    },
    "tags": []
   },
   "outputs": [],
   "source": [
    "y_train = y_train[keep_mask]"
   ]
  },
  {
   "cell_type": "markdown",
   "id": "493e2ac3",
   "metadata": {
    "papermill": {
     "duration": 0.026292,
     "end_time": "2025-08-05T16:29:12.033913",
     "exception": false,
     "start_time": "2025-08-05T16:29:12.007621",
     "status": "completed"
    },
    "tags": []
   },
   "source": [
    "# Model Training"
   ]
  },
  {
   "cell_type": "code",
   "execution_count": 30,
   "id": "679e1268",
   "metadata": {
    "execution": {
     "iopub.execute_input": "2025-08-05T16:29:12.088156Z",
     "iopub.status.busy": "2025-08-05T16:29:12.087583Z",
     "iopub.status.idle": "2025-08-05T16:29:12.209730Z",
     "shell.execute_reply": "2025-08-05T16:29:12.208442Z"
    },
    "papermill": {
     "duration": 0.151916,
     "end_time": "2025-08-05T16:29:12.212068",
     "exception": false,
     "start_time": "2025-08-05T16:29:12.060152",
     "status": "completed"
    },
    "tags": []
   },
   "outputs": [],
   "source": [
    "from sklearn.linear_model import LogisticRegression\n",
    "from sklearn.ensemble import GradientBoostingClassifier, RandomForestClassifier\n",
    "\n",
    "if (universe[\"model\"] == \"logreg\"):\n",
    "    model = LogisticRegression() #penalty=\"none\", solver=\"newton-cg\", max_iter=1) # include random_state=19 ?\n",
    "elif (universe[\"model\"] == \"penalized_logreg\"):\n",
    "    model = LogisticRegression(penalty=\"l2\", C=0.1) #, solver=\"newton-cg\", max_iter=1)\n",
    "elif (universe[\"model\"] == \"rf\"):\n",
    "    model = RandomForestClassifier() # n_estimators=100, n_jobs=-1\n",
    "elif (universe[\"model\"] == \"gbm\"):\n",
    "    model = GradientBoostingClassifier()\n",
    "elif (universe[\"model\"] == \"elasticnet\"):\n",
    "    model = LogisticRegression(penalty = 'elasticnet', solver = 'saga', l1_ratio = 0.5) # max_iter=5000\n",
    "else:\n",
    "    raise \"Unsupported universe.model\""
   ]
  },
  {
   "cell_type": "code",
   "execution_count": 31,
   "id": "0cc8f744",
   "metadata": {
    "execution": {
     "iopub.execute_input": "2025-08-05T16:29:12.268697Z",
     "iopub.status.busy": "2025-08-05T16:29:12.267680Z",
     "iopub.status.idle": "2025-08-05T16:29:12.275879Z",
     "shell.execute_reply": "2025-08-05T16:29:12.274638Z"
    },
    "papermill": {
     "duration": 0.038847,
     "end_time": "2025-08-05T16:29:12.277934",
     "exception": false,
     "start_time": "2025-08-05T16:29:12.239087",
     "status": "completed"
    },
    "tags": []
   },
   "outputs": [],
   "source": [
    "import numpy as np\n",
    "from sklearn.pipeline import Pipeline\n",
    "from sklearn.preprocessing import StandardScaler\n",
    "\n",
    "model = Pipeline([\n",
    "    #(\"continuous_processor\", continuous_processor),\n",
    "    #(\"categorical_preprocessor\", categorical_preprocessor),\n",
    "    (\"scale\", StandardScaler() if universe[\"scale\"] == \"scale\" else None), \n",
    "    (\"model\", model),\n",
    "])"
   ]
  },
  {
   "cell_type": "code",
   "execution_count": 32,
   "id": "9442c04d",
   "metadata": {
    "execution": {
     "iopub.execute_input": "2025-08-05T16:29:12.327707Z",
     "iopub.status.busy": "2025-08-05T16:29:12.326904Z",
     "iopub.status.idle": "2025-08-05T16:29:13.659631Z",
     "shell.execute_reply": "2025-08-05T16:29:13.658734Z"
    },
    "papermill": {
     "duration": 1.359293,
     "end_time": "2025-08-05T16:29:13.661525",
     "exception": false,
     "start_time": "2025-08-05T16:29:12.302232",
     "status": "completed"
    },
    "tags": []
   },
   "outputs": [
    {
     "data": {
      "text/html": [
       "<style>#sk-container-id-1 {color: black;background-color: white;}#sk-container-id-1 pre{padding: 0;}#sk-container-id-1 div.sk-toggleable {background-color: white;}#sk-container-id-1 label.sk-toggleable__label {cursor: pointer;display: block;width: 100%;margin-bottom: 0;padding: 0.3em;box-sizing: border-box;text-align: center;}#sk-container-id-1 label.sk-toggleable__label-arrow:before {content: \"▸\";float: left;margin-right: 0.25em;color: #696969;}#sk-container-id-1 label.sk-toggleable__label-arrow:hover:before {color: black;}#sk-container-id-1 div.sk-estimator:hover label.sk-toggleable__label-arrow:before {color: black;}#sk-container-id-1 div.sk-toggleable__content {max-height: 0;max-width: 0;overflow: hidden;text-align: left;background-color: #f0f8ff;}#sk-container-id-1 div.sk-toggleable__content pre {margin: 0.2em;color: black;border-radius: 0.25em;background-color: #f0f8ff;}#sk-container-id-1 input.sk-toggleable__control:checked~div.sk-toggleable__content {max-height: 200px;max-width: 100%;overflow: auto;}#sk-container-id-1 input.sk-toggleable__control:checked~label.sk-toggleable__label-arrow:before {content: \"▾\";}#sk-container-id-1 div.sk-estimator input.sk-toggleable__control:checked~label.sk-toggleable__label {background-color: #d4ebff;}#sk-container-id-1 div.sk-label input.sk-toggleable__control:checked~label.sk-toggleable__label {background-color: #d4ebff;}#sk-container-id-1 input.sk-hidden--visually {border: 0;clip: rect(1px 1px 1px 1px);clip: rect(1px, 1px, 1px, 1px);height: 1px;margin: -1px;overflow: hidden;padding: 0;position: absolute;width: 1px;}#sk-container-id-1 div.sk-estimator {font-family: monospace;background-color: #f0f8ff;border: 1px dotted black;border-radius: 0.25em;box-sizing: border-box;margin-bottom: 0.5em;}#sk-container-id-1 div.sk-estimator:hover {background-color: #d4ebff;}#sk-container-id-1 div.sk-parallel-item::after {content: \"\";width: 100%;border-bottom: 1px solid gray;flex-grow: 1;}#sk-container-id-1 div.sk-label:hover label.sk-toggleable__label {background-color: #d4ebff;}#sk-container-id-1 div.sk-serial::before {content: \"\";position: absolute;border-left: 1px solid gray;box-sizing: border-box;top: 0;bottom: 0;left: 50%;z-index: 0;}#sk-container-id-1 div.sk-serial {display: flex;flex-direction: column;align-items: center;background-color: white;padding-right: 0.2em;padding-left: 0.2em;position: relative;}#sk-container-id-1 div.sk-item {position: relative;z-index: 1;}#sk-container-id-1 div.sk-parallel {display: flex;align-items: stretch;justify-content: center;background-color: white;position: relative;}#sk-container-id-1 div.sk-item::before, #sk-container-id-1 div.sk-parallel-item::before {content: \"\";position: absolute;border-left: 1px solid gray;box-sizing: border-box;top: 0;bottom: 0;left: 50%;z-index: -1;}#sk-container-id-1 div.sk-parallel-item {display: flex;flex-direction: column;z-index: 1;position: relative;background-color: white;}#sk-container-id-1 div.sk-parallel-item:first-child::after {align-self: flex-end;width: 50%;}#sk-container-id-1 div.sk-parallel-item:last-child::after {align-self: flex-start;width: 50%;}#sk-container-id-1 div.sk-parallel-item:only-child::after {width: 0;}#sk-container-id-1 div.sk-dashed-wrapped {border: 1px dashed gray;margin: 0 0.4em 0.5em 0.4em;box-sizing: border-box;padding-bottom: 0.4em;background-color: white;}#sk-container-id-1 div.sk-label label {font-family: monospace;font-weight: bold;display: inline-block;line-height: 1.2em;}#sk-container-id-1 div.sk-label-container {text-align: center;}#sk-container-id-1 div.sk-container {/* jupyter's `normalize.less` sets `[hidden] { display: none; }` but bootstrap.min.css set `[hidden] { display: none !important; }` so we also need the `!important` here to be able to override the default hidden behavior on the sphinx rendered scikit-learn.org. See: https://github.com/scikit-learn/scikit-learn/issues/21755 */display: inline-block !important;position: relative;}#sk-container-id-1 div.sk-text-repr-fallback {display: none;}</style><div id=\"sk-container-id-1\" class=\"sk-top-container\"><div class=\"sk-text-repr-fallback\"><pre>Pipeline(steps=[(&#x27;scale&#x27;, None), (&#x27;model&#x27;, GradientBoostingClassifier())])</pre><b>In a Jupyter environment, please rerun this cell to show the HTML representation or trust the notebook. <br />On GitHub, the HTML representation is unable to render, please try loading this page with nbviewer.org.</b></div><div class=\"sk-container\" hidden><div class=\"sk-item sk-dashed-wrapped\"><div class=\"sk-label-container\"><div class=\"sk-label sk-toggleable\"><input class=\"sk-toggleable__control sk-hidden--visually\" id=\"sk-estimator-id-1\" type=\"checkbox\" ><label for=\"sk-estimator-id-1\" class=\"sk-toggleable__label sk-toggleable__label-arrow\">Pipeline</label><div class=\"sk-toggleable__content\"><pre>Pipeline(steps=[(&#x27;scale&#x27;, None), (&#x27;model&#x27;, GradientBoostingClassifier())])</pre></div></div></div><div class=\"sk-serial\"><div class=\"sk-item\"><div class=\"sk-estimator sk-toggleable\"><input class=\"sk-toggleable__control sk-hidden--visually\" id=\"sk-estimator-id-2\" type=\"checkbox\" ><label for=\"sk-estimator-id-2\" class=\"sk-toggleable__label sk-toggleable__label-arrow\">None</label><div class=\"sk-toggleable__content\"><pre>None</pre></div></div></div><div class=\"sk-item\"><div class=\"sk-estimator sk-toggleable\"><input class=\"sk-toggleable__control sk-hidden--visually\" id=\"sk-estimator-id-3\" type=\"checkbox\" ><label for=\"sk-estimator-id-3\" class=\"sk-toggleable__label sk-toggleable__label-arrow\">GradientBoostingClassifier</label><div class=\"sk-toggleable__content\"><pre>GradientBoostingClassifier()</pre></div></div></div></div></div></div></div>"
      ],
      "text/plain": [
       "Pipeline(steps=[('scale', None), ('model', GradientBoostingClassifier())])"
      ]
     },
     "execution_count": 32,
     "metadata": {},
     "output_type": "execute_result"
    }
   ],
   "source": [
    "model.fit(X_train, y_train.values.ravel())"
   ]
  },
  {
   "cell_type": "code",
   "execution_count": 33,
   "id": "af59f8c0",
   "metadata": {
    "execution": {
     "iopub.execute_input": "2025-08-05T16:29:13.722895Z",
     "iopub.status.busy": "2025-08-05T16:29:13.721958Z",
     "iopub.status.idle": "2025-08-05T16:29:13.728809Z",
     "shell.execute_reply": "2025-08-05T16:29:13.727689Z"
    },
    "papermill": {
     "duration": 0.033417,
     "end_time": "2025-08-05T16:29:13.730732",
     "exception": false,
     "start_time": "2025-08-05T16:29:13.697315",
     "status": "completed"
    },
    "tags": []
   },
   "outputs": [],
   "source": [
    "from fairness_multiverse.universe import predict_w_threshold"
   ]
  },
  {
   "cell_type": "code",
   "execution_count": 34,
   "id": "a7cf2e16",
   "metadata": {
    "execution": {
     "iopub.execute_input": "2025-08-05T16:29:13.782014Z",
     "iopub.status.busy": "2025-08-05T16:29:13.781454Z",
     "iopub.status.idle": "2025-08-05T16:29:14.512836Z",
     "shell.execute_reply": "2025-08-05T16:29:14.511730Z"
    },
    "papermill": {
     "duration": 0.759654,
     "end_time": "2025-08-05T16:29:14.515192",
     "exception": false,
     "start_time": "2025-08-05T16:29:13.755538",
     "status": "completed"
    },
    "tags": []
   },
   "outputs": [
    {
     "data": {
      "text/plain": [
       "0.84179021290826"
      ]
     },
     "execution_count": 34,
     "metadata": {},
     "output_type": "execute_result"
    }
   ],
   "source": [
    "probs_test = model.predict_proba(X_test)\n",
    "\n",
    "'''\n",
    "Below code returns a boolean array (or binary 0/1 array depending on how it’s used) where each element \n",
    "is True if the probability of class 1 is greater than or equal to the threshold, and False otherwise.\n",
    "'''\n",
    "y_pred_default = predict_w_threshold(probs_test, 0.5)\n",
    "\n",
    "from sklearn.metrics import accuracy_score\n",
    "\n",
    "# Naive prediction\n",
    "accuracy_score(y_true = y_true, y_pred = y_pred_default)"
   ]
  },
  {
   "cell_type": "code",
   "execution_count": 35,
   "id": "081964c3",
   "metadata": {
    "execution": {
     "iopub.execute_input": "2025-08-05T16:29:14.565730Z",
     "iopub.status.busy": "2025-08-05T16:29:14.564876Z",
     "iopub.status.idle": "2025-08-05T16:29:15.272834Z",
     "shell.execute_reply": "2025-08-05T16:29:15.271637Z"
    },
    "papermill": {
     "duration": 0.736143,
     "end_time": "2025-08-05T16:29:15.275563",
     "exception": false,
     "start_time": "2025-08-05T16:29:14.539420",
     "status": "completed"
    },
    "tags": []
   },
   "outputs": [
    {
     "data": {
      "text/plain": [
       "array([0, 0, 0, ..., 0, 0, 0])"
      ]
     },
     "execution_count": 35,
     "metadata": {},
     "output_type": "execute_result"
    }
   ],
   "source": [
    "model.predict(X_test)"
   ]
  },
  {
   "cell_type": "markdown",
   "id": "56c9705b",
   "metadata": {
    "papermill": {
     "duration": 0.024302,
     "end_time": "2025-08-05T16:29:15.324092",
     "exception": false,
     "start_time": "2025-08-05T16:29:15.299790",
     "status": "completed"
    },
    "tags": []
   },
   "source": [
    "# Conformal Prediction"
   ]
  },
  {
   "cell_type": "code",
   "execution_count": 36,
   "id": "160ec6ff",
   "metadata": {
    "execution": {
     "iopub.execute_input": "2025-08-05T16:29:15.376600Z",
     "iopub.status.busy": "2025-08-05T16:29:15.375798Z",
     "iopub.status.idle": "2025-08-05T16:29:15.381763Z",
     "shell.execute_reply": "2025-08-05T16:29:15.380697Z"
    },
    "papermill": {
     "duration": 0.03436,
     "end_time": "2025-08-05T16:29:15.383740",
     "exception": false,
     "start_time": "2025-08-05T16:29:15.349380",
     "status": "completed"
    },
    "tags": []
   },
   "outputs": [],
   "source": [
    "# Miscoverage level for conformal prediction (10% allowed error rate => 90% target coverage)\n",
    "alpha = 0.1"
   ]
  },
  {
   "cell_type": "code",
   "execution_count": 37,
   "id": "eadf4555-3dd3-440e-8e35-f82a4ad9f855",
   "metadata": {
    "execution": {
     "iopub.execute_input": "2025-08-05T16:29:15.436548Z",
     "iopub.status.busy": "2025-08-05T16:29:15.435473Z",
     "iopub.status.idle": "2025-08-05T16:29:16.106848Z",
     "shell.execute_reply": "2025-08-05T16:29:16.105570Z"
    },
    "papermill": {
     "duration": 0.700722,
     "end_time": "2025-08-05T16:29:16.109212",
     "exception": false,
     "start_time": "2025-08-05T16:29:15.408490",
     "status": "completed"
    },
    "tags": []
   },
   "outputs": [],
   "source": [
    "probs_calib = model.predict_proba(X_calib)"
   ]
  },
  {
   "cell_type": "code",
   "execution_count": 38,
   "id": "2ed93547-6d5d-4983-9b36-1ecb300da49a",
   "metadata": {
    "execution": {
     "iopub.execute_input": "2025-08-05T16:29:16.169383Z",
     "iopub.status.busy": "2025-08-05T16:29:16.168393Z",
     "iopub.status.idle": "2025-08-05T16:29:16.175758Z",
     "shell.execute_reply": "2025-08-05T16:29:16.174617Z"
    },
    "papermill": {
     "duration": 0.039189,
     "end_time": "2025-08-05T16:29:16.177718",
     "exception": false,
     "start_time": "2025-08-05T16:29:16.138529",
     "status": "completed"
    },
    "tags": []
   },
   "outputs": [],
   "source": [
    "y_calib = y_calib.values.ravel().astype(int)"
   ]
  },
  {
   "cell_type": "code",
   "execution_count": 39,
   "id": "65d1320d-f588-4b38-9072-62af1ae97f7d",
   "metadata": {
    "execution": {
     "iopub.execute_input": "2025-08-05T16:29:16.230124Z",
     "iopub.status.busy": "2025-08-05T16:29:16.229038Z",
     "iopub.status.idle": "2025-08-05T16:29:16.238156Z",
     "shell.execute_reply": "2025-08-05T16:29:16.237000Z"
    },
    "papermill": {
     "duration": 0.036925,
     "end_time": "2025-08-05T16:29:16.240078",
     "exception": false,
     "start_time": "2025-08-05T16:29:16.203153",
     "status": "completed"
    },
    "tags": []
   },
   "outputs": [],
   "source": [
    "from fairness_multiverse.conformal import compute_nc_scores\n",
    "\n",
    "# Compute nonconformity scores on calibration set (1 - probability of true class)\n",
    "nc_scores = compute_nc_scores(probs_calib, y_calib)"
   ]
  },
  {
   "cell_type": "code",
   "execution_count": 40,
   "id": "df3b8ca3-53b7-43d5-9667-7c85da7aeda2",
   "metadata": {
    "execution": {
     "iopub.execute_input": "2025-08-05T16:29:16.300241Z",
     "iopub.status.busy": "2025-08-05T16:29:16.299037Z",
     "iopub.status.idle": "2025-08-05T16:29:16.307424Z",
     "shell.execute_reply": "2025-08-05T16:29:16.306326Z"
    },
    "papermill": {
     "duration": 0.040381,
     "end_time": "2025-08-05T16:29:16.309478",
     "exception": false,
     "start_time": "2025-08-05T16:29:16.269097",
     "status": "completed"
    },
    "tags": []
   },
   "outputs": [],
   "source": [
    "from fairness_multiverse.conformal import find_threshold\n",
    "\n",
    "# Find conformal threshold q_hat for the given alpha (split conformal method)\n",
    "q_hat = find_threshold(nc_scores, alpha)"
   ]
  },
  {
   "cell_type": "code",
   "execution_count": 41,
   "id": "4d29e6c1-0ef6-4aa4-b8fe-4fe79b0d033a",
   "metadata": {
    "execution": {
     "iopub.execute_input": "2025-08-05T16:29:16.370030Z",
     "iopub.status.busy": "2025-08-05T16:29:16.368895Z",
     "iopub.status.idle": "2025-08-05T16:29:16.378680Z",
     "shell.execute_reply": "2025-08-05T16:29:16.377582Z"
    },
    "papermill": {
     "duration": 0.042719,
     "end_time": "2025-08-05T16:29:16.380710",
     "exception": false,
     "start_time": "2025-08-05T16:29:16.337991",
     "status": "completed"
    },
    "tags": []
   },
   "outputs": [
    {
     "data": {
      "text/plain": [
       "0.7622906164152741"
      ]
     },
     "execution_count": 41,
     "metadata": {},
     "output_type": "execute_result"
    }
   ],
   "source": [
    "q_hat"
   ]
  },
  {
   "cell_type": "code",
   "execution_count": 42,
   "id": "92460794-cdac-4be2-ba28-f28c0515a6fb",
   "metadata": {
    "execution": {
     "iopub.execute_input": "2025-08-05T16:29:16.433386Z",
     "iopub.status.busy": "2025-08-05T16:29:16.432326Z",
     "iopub.status.idle": "2025-08-05T16:29:18.071701Z",
     "shell.execute_reply": "2025-08-05T16:29:18.070524Z"
    },
    "papermill": {
     "duration": 1.668699,
     "end_time": "2025-08-05T16:29:18.074147",
     "exception": false,
     "start_time": "2025-08-05T16:29:16.405448",
     "status": "completed"
    },
    "tags": []
   },
   "outputs": [],
   "source": [
    "from fairness_multiverse.conformal import predict_conformal_sets\n",
    "\n",
    "# Generate prediction sets for each test example\n",
    "pred_sets = predict_conformal_sets(model, X_test, q_hat)"
   ]
  },
  {
   "cell_type": "code",
   "execution_count": 43,
   "id": "d90c9a65-e6db-4f5d-80cd-e68fb7e46829",
   "metadata": {
    "execution": {
     "iopub.execute_input": "2025-08-05T16:29:18.133889Z",
     "iopub.status.busy": "2025-08-05T16:29:18.132725Z",
     "iopub.status.idle": "2025-08-05T16:29:18.140005Z",
     "shell.execute_reply": "2025-08-05T16:29:18.138818Z"
    },
    "papermill": {
     "duration": 0.038847,
     "end_time": "2025-08-05T16:29:18.143254",
     "exception": false,
     "start_time": "2025-08-05T16:29:18.104407",
     "status": "completed"
    },
    "tags": []
   },
   "outputs": [],
   "source": [
    "y_true = y_true.squeeze()"
   ]
  },
  {
   "cell_type": "code",
   "execution_count": 44,
   "id": "3a58a54a-1e68-46b9-927a-df01f18aebc8",
   "metadata": {
    "execution": {
     "iopub.execute_input": "2025-08-05T16:29:18.207640Z",
     "iopub.status.busy": "2025-08-05T16:29:18.206740Z",
     "iopub.status.idle": "2025-08-05T16:29:19.404753Z",
     "shell.execute_reply": "2025-08-05T16:29:19.403691Z"
    },
    "papermill": {
     "duration": 1.235353,
     "end_time": "2025-08-05T16:29:19.406810",
     "exception": false,
     "start_time": "2025-08-05T16:29:18.171457",
     "status": "completed"
    },
    "tags": []
   },
   "outputs": [],
   "source": [
    "from fairness_multiverse.conformal import evaluate_sets\n",
    "\n",
    "# Evaluate coverage and average set size on test data\n",
    "metrics = evaluate_sets(pred_sets, y_true)"
   ]
  },
  {
   "cell_type": "markdown",
   "id": "2b569c12-9aaa-4c88-98c9-bbcd0cf3ebb8",
   "metadata": {
    "papermill": {
     "duration": 0.023046,
     "end_time": "2025-08-05T16:29:19.457001",
     "exception": false,
     "start_time": "2025-08-05T16:29:19.433955",
     "status": "completed"
    },
    "tags": []
   },
   "source": [
    "# CP Metrics"
   ]
  },
  {
   "cell_type": "code",
   "execution_count": 45,
   "id": "5ce0a5cb-201f-45a0-ade5-94c7f0bd6095",
   "metadata": {
    "execution": {
     "iopub.execute_input": "2025-08-05T16:29:19.508160Z",
     "iopub.status.busy": "2025-08-05T16:29:19.507560Z",
     "iopub.status.idle": "2025-08-05T16:29:19.516012Z",
     "shell.execute_reply": "2025-08-05T16:29:19.514836Z"
    },
    "papermill": {
     "duration": 0.036927,
     "end_time": "2025-08-05T16:29:19.517825",
     "exception": false,
     "start_time": "2025-08-05T16:29:19.480898",
     "status": "completed"
    },
    "tags": []
   },
   "outputs": [
    {
     "data": {
      "text/plain": [
       "{'coverage': 0.9090848288930999, 'avg_size': 1.1722327499721323}"
      ]
     },
     "execution_count": 45,
     "metadata": {},
     "output_type": "execute_result"
    }
   ],
   "source": [
    "metrics"
   ]
  },
  {
   "cell_type": "code",
   "execution_count": 46,
   "id": "9b9a838d-31c9-430b-ae14-12baee460d17",
   "metadata": {
    "execution": {
     "iopub.execute_input": "2025-08-05T16:29:19.568288Z",
     "iopub.status.busy": "2025-08-05T16:29:19.567727Z",
     "iopub.status.idle": "2025-08-05T16:29:19.575349Z",
     "shell.execute_reply": "2025-08-05T16:29:19.574156Z"
    },
    "papermill": {
     "duration": 0.03577,
     "end_time": "2025-08-05T16:29:19.577422",
     "exception": false,
     "start_time": "2025-08-05T16:29:19.541652",
     "status": "completed"
    },
    "tags": []
   },
   "outputs": [],
   "source": [
    "example_universe = universe.copy()\n",
    "universe_training_year = example_universe.get(\"training_year\")\n",
    "universe_training_size = example_universe.get(\"training_size\")\n",
    "universe_scale = example_universe.get(\"scale\")\n",
    "universe_model = example_universe.get(\"model\")\n",
    "universe_exclude_features = example_universe.get(\"exclude_features\")\n",
    "universe_exclude_subgroups = example_universe.get(\"exclude_subgroups\")"
   ]
  },
  {
   "cell_type": "code",
   "execution_count": 47,
   "id": "f4b6a8ac-9dc0-4245-8a91-5b3b5999c4f9",
   "metadata": {
    "execution": {
     "iopub.execute_input": "2025-08-05T16:29:19.627604Z",
     "iopub.status.busy": "2025-08-05T16:29:19.627056Z",
     "iopub.status.idle": "2025-08-05T16:29:19.634772Z",
     "shell.execute_reply": "2025-08-05T16:29:19.633561Z"
    },
    "papermill": {
     "duration": 0.035909,
     "end_time": "2025-08-05T16:29:19.636686",
     "exception": false,
     "start_time": "2025-08-05T16:29:19.600777",
     "status": "completed"
    },
    "tags": []
   },
   "outputs": [],
   "source": [
    "cp_metrics_dict = {\n",
    "    \"universe_id\": [universe_id],\n",
    "    \"universe_training_year\": [universe_training_year],\n",
    "    \"universe_training_size\": [universe_training_size],\n",
    "    \"universe_scale\": [universe_scale],\n",
    "    \"universe_model\": [universe_model],\n",
    "    \"universe_exclude_features\": [universe_exclude_features],\n",
    "    \"universe_exclude_subgroups\": [universe_exclude_subgroups],\n",
    "    \"q_hat\": [q_hat],\n",
    "    \"coverage\": [metrics[\"coverage\"]],\n",
    "    \"avg_size\": [metrics[\"avg_size\"]],\n",
    "}"
   ]
  },
  {
   "cell_type": "code",
   "execution_count": 48,
   "id": "908acbb1-0371-4915-85ca-3fa520d2efe2",
   "metadata": {
    "execution": {
     "iopub.execute_input": "2025-08-05T16:29:19.688091Z",
     "iopub.status.busy": "2025-08-05T16:29:19.687632Z",
     "iopub.status.idle": "2025-08-05T16:29:19.695889Z",
     "shell.execute_reply": "2025-08-05T16:29:19.694750Z"
    },
    "papermill": {
     "duration": 0.035481,
     "end_time": "2025-08-05T16:29:19.697872",
     "exception": false,
     "start_time": "2025-08-05T16:29:19.662391",
     "status": "completed"
    },
    "tags": []
   },
   "outputs": [
    {
     "data": {
      "text/plain": [
       "{'universe_id': ['505cb77b3d6ccd64a158ef9380db7a35'],\n",
       " 'universe_training_year': ['2012_14'],\n",
       " 'universe_training_size': ['1k'],\n",
       " 'universe_scale': ['do-not-scale'],\n",
       " 'universe_model': ['gbm'],\n",
       " 'universe_exclude_features': ['nationality-sex'],\n",
       " 'universe_exclude_subgroups': ['keep-all'],\n",
       " 'q_hat': [0.7622906164152741],\n",
       " 'coverage': [0.9090848288930999],\n",
       " 'avg_size': [1.1722327499721323]}"
      ]
     },
     "execution_count": 48,
     "metadata": {},
     "output_type": "execute_result"
    }
   ],
   "source": [
    "cp_metrics_dict"
   ]
  },
  {
   "cell_type": "code",
   "execution_count": 49,
   "id": "33007efc-14e9-4ec6-97ac-56a455c82265",
   "metadata": {
    "execution": {
     "iopub.execute_input": "2025-08-05T16:29:19.751550Z",
     "iopub.status.busy": "2025-08-05T16:29:19.750438Z",
     "iopub.status.idle": "2025-08-05T16:29:19.757908Z",
     "shell.execute_reply": "2025-08-05T16:29:19.756730Z"
    },
    "papermill": {
     "duration": 0.035796,
     "end_time": "2025-08-05T16:29:19.759949",
     "exception": false,
     "start_time": "2025-08-05T16:29:19.724153",
     "status": "completed"
    },
    "tags": []
   },
   "outputs": [],
   "source": [
    "cp_metrics_df = pd.DataFrame(cp_metrics_dict)"
   ]
  },
  {
   "cell_type": "code",
   "execution_count": 50,
   "id": "db12611b-57b2-4910-b9d0-355adfd6e7bf",
   "metadata": {
    "execution": {
     "iopub.execute_input": "2025-08-05T16:29:19.814851Z",
     "iopub.status.busy": "2025-08-05T16:29:19.814344Z",
     "iopub.status.idle": "2025-08-05T16:29:19.835246Z",
     "shell.execute_reply": "2025-08-05T16:29:19.834173Z"
    },
    "papermill": {
     "duration": 0.05067,
     "end_time": "2025-08-05T16:29:19.837388",
     "exception": false,
     "start_time": "2025-08-05T16:29:19.786718",
     "status": "completed"
    },
    "tags": []
   },
   "outputs": [
    {
     "data": {
      "text/html": [
       "<div>\n",
       "<style scoped>\n",
       "    .dataframe tbody tr th:only-of-type {\n",
       "        vertical-align: middle;\n",
       "    }\n",
       "\n",
       "    .dataframe tbody tr th {\n",
       "        vertical-align: top;\n",
       "    }\n",
       "\n",
       "    .dataframe thead th {\n",
       "        text-align: right;\n",
       "    }\n",
       "</style>\n",
       "<table border=\"1\" class=\"dataframe\">\n",
       "  <thead>\n",
       "    <tr style=\"text-align: right;\">\n",
       "      <th></th>\n",
       "      <th>universe_id</th>\n",
       "      <th>universe_training_year</th>\n",
       "      <th>universe_training_size</th>\n",
       "      <th>universe_scale</th>\n",
       "      <th>universe_model</th>\n",
       "      <th>universe_exclude_features</th>\n",
       "      <th>universe_exclude_subgroups</th>\n",
       "      <th>q_hat</th>\n",
       "      <th>coverage</th>\n",
       "      <th>avg_size</th>\n",
       "    </tr>\n",
       "  </thead>\n",
       "  <tbody>\n",
       "    <tr>\n",
       "      <th>0</th>\n",
       "      <td>505cb77b3d6ccd64a158ef9380db7a35</td>\n",
       "      <td>2012_14</td>\n",
       "      <td>1k</td>\n",
       "      <td>do-not-scale</td>\n",
       "      <td>gbm</td>\n",
       "      <td>nationality-sex</td>\n",
       "      <td>keep-all</td>\n",
       "      <td>0.762291</td>\n",
       "      <td>0.909085</td>\n",
       "      <td>1.172233</td>\n",
       "    </tr>\n",
       "  </tbody>\n",
       "</table>\n",
       "</div>"
      ],
      "text/plain": [
       "                        universe_id universe_training_year  \\\n",
       "0  505cb77b3d6ccd64a158ef9380db7a35                2012_14   \n",
       "\n",
       "  universe_training_size universe_scale universe_model  \\\n",
       "0                     1k   do-not-scale            gbm   \n",
       "\n",
       "  universe_exclude_features universe_exclude_subgroups     q_hat  coverage  \\\n",
       "0           nationality-sex                   keep-all  0.762291  0.909085   \n",
       "\n",
       "   avg_size  \n",
       "0  1.172233  "
      ]
     },
     "execution_count": 50,
     "metadata": {},
     "output_type": "execute_result"
    }
   ],
   "source": [
    "cp_metrics_df"
   ]
  },
  {
   "cell_type": "code",
   "execution_count": 51,
   "id": "b7fbde55-a0a1-47e4-9af6-fe4a17fa8c61",
   "metadata": {
    "execution": {
     "iopub.execute_input": "2025-08-05T16:29:19.890255Z",
     "iopub.status.busy": "2025-08-05T16:29:19.889735Z",
     "iopub.status.idle": "2025-08-05T16:29:19.904360Z",
     "shell.execute_reply": "2025-08-05T16:29:19.903243Z"
    },
    "papermill": {
     "duration": 0.042988,
     "end_time": "2025-08-05T16:29:19.906216",
     "exception": false,
     "start_time": "2025-08-05T16:29:19.863228",
     "status": "completed"
    },
    "tags": []
   },
   "outputs": [],
   "source": [
    "# Conditional Coverage & looking at subgroups"
   ]
  },
  {
   "cell_type": "code",
   "execution_count": 52,
   "id": "027ae886-68dd-4141-96c7-805a5450e1ef",
   "metadata": {
    "execution": {
     "iopub.execute_input": "2025-08-05T16:29:19.959678Z",
     "iopub.status.busy": "2025-08-05T16:29:19.959079Z",
     "iopub.status.idle": "2025-08-05T16:29:20.259896Z",
     "shell.execute_reply": "2025-08-05T16:29:20.258693Z"
    },
    "papermill": {
     "duration": 0.330447,
     "end_time": "2025-08-05T16:29:20.262603",
     "exception": false,
     "start_time": "2025-08-05T16:29:19.932156",
     "status": "completed"
    },
    "tags": []
   },
   "outputs": [],
   "source": [
    "from fairness_multiverse.conformal import build_cp_groups\n",
    "\n",
    "cp_groups_df = build_cp_groups(pred_sets, y_true, X_test.index, org_test)\n",
    "#needs universe_id and setting"
   ]
  },
  {
   "cell_type": "code",
   "execution_count": 53,
   "id": "6cbdab96-b2b2-45af-ad54-d0516db2e28d",
   "metadata": {
    "execution": {
     "iopub.execute_input": "2025-08-05T16:29:20.343238Z",
     "iopub.status.busy": "2025-08-05T16:29:20.342600Z",
     "iopub.status.idle": "2025-08-05T16:29:22.352936Z",
     "shell.execute_reply": "2025-08-05T16:29:22.351804Z"
    },
    "papermill": {
     "duration": 2.041678,
     "end_time": "2025-08-05T16:29:22.355144",
     "exception": false,
     "start_time": "2025-08-05T16:29:20.313466",
     "status": "completed"
    },
    "tags": []
   },
   "outputs": [],
   "source": [
    "# Define covered = 1 if true_label is in the predicted set\n",
    "cp_groups_df['covered'] = cp_groups_df.apply(\n",
    "    lambda r: int(r['true_label'] in r['pred_set']),\n",
    "    axis=1\n",
    ")"
   ]
  },
  {
   "cell_type": "code",
   "execution_count": 54,
   "id": "338ff529-1a6b-4b87-a931-8e4788d52aad",
   "metadata": {
    "execution": {
     "iopub.execute_input": "2025-08-05T16:29:22.410862Z",
     "iopub.status.busy": "2025-08-05T16:29:22.409785Z",
     "iopub.status.idle": "2025-08-05T16:29:22.415777Z",
     "shell.execute_reply": "2025-08-05T16:29:22.414693Z"
    },
    "papermill": {
     "duration": 0.036057,
     "end_time": "2025-08-05T16:29:22.417684",
     "exception": false,
     "start_time": "2025-08-05T16:29:22.381627",
     "status": "completed"
    },
    "tags": []
   },
   "outputs": [],
   "source": [
    "#cp_groups_df"
   ]
  },
  {
   "cell_type": "code",
   "execution_count": 55,
   "id": "90032e27-66df-4540-9169-4e89cfbaa758",
   "metadata": {
    "execution": {
     "iopub.execute_input": "2025-08-05T16:29:22.476719Z",
     "iopub.status.busy": "2025-08-05T16:29:22.475920Z",
     "iopub.status.idle": "2025-08-05T16:29:22.488113Z",
     "shell.execute_reply": "2025-08-05T16:29:22.487092Z"
    },
    "papermill": {
     "duration": 0.044037,
     "end_time": "2025-08-05T16:29:22.489955",
     "exception": false,
     "start_time": "2025-08-05T16:29:22.445918",
     "status": "completed"
    },
    "tags": []
   },
   "outputs": [],
   "source": [
    "subgroups = ['frau1','nongerman','nongerman_male','nongerman_female']\n",
    "\n",
    "# Conditional coverage for subgroup==1\n",
    "cond_coverage = {\n",
    "    g: cp_groups_df.loc[cp_groups_df[g]==1, 'covered'].mean()\n",
    "    for g in subgroups\n",
    "}"
   ]
  },
  {
   "cell_type": "code",
   "execution_count": 56,
   "id": "1e348fb1-b9c3-45bc-ba23-f016827a7e0d",
   "metadata": {
    "execution": {
     "iopub.execute_input": "2025-08-05T16:29:22.548070Z",
     "iopub.status.busy": "2025-08-05T16:29:22.547516Z",
     "iopub.status.idle": "2025-08-05T16:29:22.556686Z",
     "shell.execute_reply": "2025-08-05T16:29:22.555622Z"
    },
    "papermill": {
     "duration": 0.041185,
     "end_time": "2025-08-05T16:29:22.558680",
     "exception": false,
     "start_time": "2025-08-05T16:29:22.517495",
     "status": "completed"
    },
    "tags": []
   },
   "outputs": [
    {
     "data": {
      "text/plain": [
       "{'frau1': 0.9057285348429708,\n",
       " 'nongerman': 0.9085499354404087,\n",
       " 'nongerman_male': 0.9257858236512654,\n",
       " 'nongerman_female': 0.8800298062593145}"
      ]
     },
     "execution_count": 56,
     "metadata": {},
     "output_type": "execute_result"
    }
   ],
   "source": [
    "cond_coverage"
   ]
  },
  {
   "cell_type": "code",
   "execution_count": 57,
   "id": "f5093324-c3dd-4d63-bc4c-8d945e5c8bbb",
   "metadata": {
    "execution": {
     "iopub.execute_input": "2025-08-05T16:29:22.615989Z",
     "iopub.status.busy": "2025-08-05T16:29:22.615385Z",
     "iopub.status.idle": "2025-08-05T16:29:22.624709Z",
     "shell.execute_reply": "2025-08-05T16:29:22.623462Z"
    },
    "papermill": {
     "duration": 0.040525,
     "end_time": "2025-08-05T16:29:22.626717",
     "exception": false,
     "start_time": "2025-08-05T16:29:22.586192",
     "status": "completed"
    },
    "tags": []
   },
   "outputs": [],
   "source": [
    "for subgroup, cov in cond_coverage.items():\n",
    "    cp_metrics_df[f\"cov_{subgroup}\"] = cov"
   ]
  },
  {
   "cell_type": "code",
   "execution_count": 58,
   "id": "6e872e10-dbe5-49e8-b554-5030c98ff75d",
   "metadata": {
    "execution": {
     "iopub.execute_input": "2025-08-05T16:29:22.684716Z",
     "iopub.status.busy": "2025-08-05T16:29:22.684017Z",
     "iopub.status.idle": "2025-08-05T16:29:22.710328Z",
     "shell.execute_reply": "2025-08-05T16:29:22.709180Z"
    },
    "papermill": {
     "duration": 0.05734,
     "end_time": "2025-08-05T16:29:22.712259",
     "exception": false,
     "start_time": "2025-08-05T16:29:22.654919",
     "status": "completed"
    },
    "tags": []
   },
   "outputs": [
    {
     "data": {
      "text/html": [
       "<div>\n",
       "<style scoped>\n",
       "    .dataframe tbody tr th:only-of-type {\n",
       "        vertical-align: middle;\n",
       "    }\n",
       "\n",
       "    .dataframe tbody tr th {\n",
       "        vertical-align: top;\n",
       "    }\n",
       "\n",
       "    .dataframe thead th {\n",
       "        text-align: right;\n",
       "    }\n",
       "</style>\n",
       "<table border=\"1\" class=\"dataframe\">\n",
       "  <thead>\n",
       "    <tr style=\"text-align: right;\">\n",
       "      <th></th>\n",
       "      <th>universe_id</th>\n",
       "      <th>universe_training_year</th>\n",
       "      <th>universe_training_size</th>\n",
       "      <th>universe_scale</th>\n",
       "      <th>universe_model</th>\n",
       "      <th>universe_exclude_features</th>\n",
       "      <th>universe_exclude_subgroups</th>\n",
       "      <th>q_hat</th>\n",
       "      <th>coverage</th>\n",
       "      <th>avg_size</th>\n",
       "      <th>cov_frau1</th>\n",
       "      <th>cov_nongerman</th>\n",
       "      <th>cov_nongerman_male</th>\n",
       "      <th>cov_nongerman_female</th>\n",
       "    </tr>\n",
       "  </thead>\n",
       "  <tbody>\n",
       "    <tr>\n",
       "      <th>0</th>\n",
       "      <td>505cb77b3d6ccd64a158ef9380db7a35</td>\n",
       "      <td>2012_14</td>\n",
       "      <td>1k</td>\n",
       "      <td>do-not-scale</td>\n",
       "      <td>gbm</td>\n",
       "      <td>nationality-sex</td>\n",
       "      <td>keep-all</td>\n",
       "      <td>0.762291</td>\n",
       "      <td>0.909085</td>\n",
       "      <td>1.172233</td>\n",
       "      <td>0.905729</td>\n",
       "      <td>0.90855</td>\n",
       "      <td>0.925786</td>\n",
       "      <td>0.88003</td>\n",
       "    </tr>\n",
       "  </tbody>\n",
       "</table>\n",
       "</div>"
      ],
      "text/plain": [
       "                        universe_id universe_training_year  \\\n",
       "0  505cb77b3d6ccd64a158ef9380db7a35                2012_14   \n",
       "\n",
       "  universe_training_size universe_scale universe_model  \\\n",
       "0                     1k   do-not-scale            gbm   \n",
       "\n",
       "  universe_exclude_features universe_exclude_subgroups     q_hat  coverage  \\\n",
       "0           nationality-sex                   keep-all  0.762291  0.909085   \n",
       "\n",
       "   avg_size  cov_frau1  cov_nongerman  cov_nongerman_male  \\\n",
       "0  1.172233   0.905729        0.90855            0.925786   \n",
       "\n",
       "   cov_nongerman_female  \n",
       "0               0.88003  "
      ]
     },
     "execution_count": 58,
     "metadata": {},
     "output_type": "execute_result"
    }
   ],
   "source": [
    "cp_metrics_df"
   ]
  },
  {
   "cell_type": "markdown",
   "id": "33774451",
   "metadata": {
    "papermill": {
     "duration": 0.02793,
     "end_time": "2025-08-05T16:29:22.767959",
     "exception": false,
     "start_time": "2025-08-05T16:29:22.740029",
     "status": "completed"
    },
    "tags": []
   },
   "source": [
    "# (Fairness) Metrics"
   ]
  },
  {
   "cell_type": "code",
   "execution_count": 59,
   "id": "debc5d62",
   "metadata": {
    "execution": {
     "iopub.execute_input": "2025-08-05T16:29:22.828836Z",
     "iopub.status.busy": "2025-08-05T16:29:22.827747Z",
     "iopub.status.idle": "2025-08-05T16:29:22.850699Z",
     "shell.execute_reply": "2025-08-05T16:29:22.849564Z"
    },
    "papermill": {
     "duration": 0.055712,
     "end_time": "2025-08-05T16:29:22.853198",
     "exception": false,
     "start_time": "2025-08-05T16:29:22.797486",
     "status": "completed"
    },
    "tags": []
   },
   "outputs": [],
   "source": [
    "# do I need to include maxdeutsch1.missing?\n",
    "\n",
    "import numpy as np\n",
    "\n",
    "colname_to_bin = \"maxdeutsch1\"\n",
    "majority_value = org_train[colname_to_bin].mode()[0]\n",
    "\n",
    "org_test[\"majmin\"] = np.where(org_test[colname_to_bin] == majority_value, \"majority\", \"minority\")"
   ]
  },
  {
   "cell_type": "code",
   "execution_count": 60,
   "id": "06a50de5",
   "metadata": {
    "execution": {
     "iopub.execute_input": "2025-08-05T16:29:22.913075Z",
     "iopub.status.busy": "2025-08-05T16:29:22.912482Z",
     "iopub.status.idle": "2025-08-05T16:29:25.468135Z",
     "shell.execute_reply": "2025-08-05T16:29:25.467258Z"
    },
    "papermill": {
     "duration": 2.587443,
     "end_time": "2025-08-05T16:29:25.469877",
     "exception": false,
     "start_time": "2025-08-05T16:29:22.882434",
     "status": "completed"
    },
    "tags": []
   },
   "outputs": [],
   "source": [
    "example_universe = universe.copy()\n",
    "example_universe[\"cutoff\"] = example_universe[\"cutoff\"][0]\n",
    "example_universe[\"eval_fairness_grouping\"] = example_universe[\"eval_fairness_grouping\"][0]\n",
    "fairness_dict, metric_frame = universe_analysis.compute_metrics(\n",
    "    example_universe,\n",
    "    y_pred_prob=probs_test,\n",
    "    y_test=y_true,\n",
    "    org_test=org_test,\n",
    ")"
   ]
  },
  {
   "cell_type": "markdown",
   "id": "f95d4e02",
   "metadata": {
    "papermill": {
     "duration": 0.014392,
     "end_time": "2025-08-05T16:29:25.499400",
     "exception": false,
     "start_time": "2025-08-05T16:29:25.485008",
     "status": "completed"
    },
    "tags": []
   },
   "source": [
    "# Overall"
   ]
  },
  {
   "cell_type": "markdown",
   "id": "bdee4871",
   "metadata": {
    "papermill": {
     "duration": 0.014542,
     "end_time": "2025-08-05T16:29:25.528380",
     "exception": false,
     "start_time": "2025-08-05T16:29:25.513838",
     "status": "completed"
    },
    "tags": []
   },
   "source": [
    "Fairness\n",
    "Main fairness target: Equalized Odds. Seems to be a better fit than equal opportunity, since we're not only interested in Y = 1. Seems to be a better fit than demographic parity, since we also care about accuracy, not just equal distribution of preds.\n",
    "\n",
    "Pick column for computation of fairness metrics\n",
    "\n",
    "Performance\n",
    "Overall performance measures, most interesting in relation to the measures split by group below"
   ]
  },
  {
   "cell_type": "code",
   "execution_count": 61,
   "id": "c4e067c6",
   "metadata": {
    "execution": {
     "iopub.execute_input": "2025-08-05T16:29:25.564379Z",
     "iopub.status.busy": "2025-08-05T16:29:25.563945Z",
     "iopub.status.idle": "2025-08-05T16:29:25.572287Z",
     "shell.execute_reply": "2025-08-05T16:29:25.571391Z"
    },
    "papermill": {
     "duration": 0.029539,
     "end_time": "2025-08-05T16:29:25.573876",
     "exception": false,
     "start_time": "2025-08-05T16:29:25.544337",
     "status": "completed"
    },
    "tags": []
   },
   "outputs": [
    {
     "data": {
      "text/plain": [
       "accuracy                   0.222996\n",
       "balanced accuracy          0.545545\n",
       "f1                         0.244366\n",
       "precision                  0.139598\n",
       "false positive rate        0.888315\n",
       "false negative rate        0.020594\n",
       "selection rate             0.900000\n",
       "count                  89710.000000\n",
       "dtype: float64"
      ]
     },
     "execution_count": 61,
     "metadata": {},
     "output_type": "execute_result"
    }
   ],
   "source": [
    "metric_frame.overall"
   ]
  },
  {
   "cell_type": "markdown",
   "id": "e968fe9d",
   "metadata": {
    "papermill": {
     "duration": 0.014727,
     "end_time": "2025-08-05T16:29:25.604278",
     "exception": false,
     "start_time": "2025-08-05T16:29:25.589551",
     "status": "completed"
    },
    "tags": []
   },
   "source": [
    "By Group"
   ]
  },
  {
   "cell_type": "code",
   "execution_count": 62,
   "id": "ec325bce",
   "metadata": {
    "execution": {
     "iopub.execute_input": "2025-08-05T16:29:25.635612Z",
     "iopub.status.busy": "2025-08-05T16:29:25.635138Z",
     "iopub.status.idle": "2025-08-05T16:29:25.652567Z",
     "shell.execute_reply": "2025-08-05T16:29:25.651594Z"
    },
    "papermill": {
     "duration": 0.035326,
     "end_time": "2025-08-05T16:29:25.654284",
     "exception": false,
     "start_time": "2025-08-05T16:29:25.618958",
     "status": "completed"
    },
    "tags": []
   },
   "outputs": [
    {
     "data": {
      "text/html": [
       "<div>\n",
       "<style scoped>\n",
       "    .dataframe tbody tr th:only-of-type {\n",
       "        vertical-align: middle;\n",
       "    }\n",
       "\n",
       "    .dataframe tbody tr th {\n",
       "        vertical-align: top;\n",
       "    }\n",
       "\n",
       "    .dataframe thead th {\n",
       "        text-align: right;\n",
       "    }\n",
       "</style>\n",
       "<table border=\"1\" class=\"dataframe\">\n",
       "  <thead>\n",
       "    <tr style=\"text-align: right;\">\n",
       "      <th></th>\n",
       "      <th>accuracy</th>\n",
       "      <th>balanced accuracy</th>\n",
       "      <th>f1</th>\n",
       "      <th>precision</th>\n",
       "      <th>false positive rate</th>\n",
       "      <th>false negative rate</th>\n",
       "      <th>selection rate</th>\n",
       "      <th>count</th>\n",
       "    </tr>\n",
       "    <tr>\n",
       "      <th>majmin</th>\n",
       "      <th></th>\n",
       "      <th></th>\n",
       "      <th></th>\n",
       "      <th></th>\n",
       "      <th></th>\n",
       "      <th></th>\n",
       "      <th></th>\n",
       "      <th></th>\n",
       "    </tr>\n",
       "  </thead>\n",
       "  <tbody>\n",
       "    <tr>\n",
       "      <th>majority</th>\n",
       "      <td>0.244311</td>\n",
       "      <td>0.554470</td>\n",
       "      <td>0.254475</td>\n",
       "      <td>0.146311</td>\n",
       "      <td>0.867100</td>\n",
       "      <td>0.023961</td>\n",
       "      <td>0.881495</td>\n",
       "      <td>69170.0</td>\n",
       "    </tr>\n",
       "    <tr>\n",
       "      <th>minority</th>\n",
       "      <td>0.151217</td>\n",
       "      <td>0.517001</td>\n",
       "      <td>0.212343</td>\n",
       "      <td>0.118891</td>\n",
       "      <td>0.958398</td>\n",
       "      <td>0.007601</td>\n",
       "      <td>0.962317</td>\n",
       "      <td>20540.0</td>\n",
       "    </tr>\n",
       "  </tbody>\n",
       "</table>\n",
       "</div>"
      ],
      "text/plain": [
       "          accuracy  balanced accuracy        f1  precision  \\\n",
       "majmin                                                       \n",
       "majority  0.244311           0.554470  0.254475   0.146311   \n",
       "minority  0.151217           0.517001  0.212343   0.118891   \n",
       "\n",
       "          false positive rate  false negative rate  selection rate    count  \n",
       "majmin                                                                       \n",
       "majority             0.867100             0.023961        0.881495  69170.0  \n",
       "minority             0.958398             0.007601        0.962317  20540.0  "
      ]
     },
     "execution_count": 62,
     "metadata": {},
     "output_type": "execute_result"
    }
   ],
   "source": [
    "metric_frame.by_group"
   ]
  },
  {
   "cell_type": "code",
   "execution_count": 63,
   "id": "a9ddbe63",
   "metadata": {
    "execution": {
     "iopub.execute_input": "2025-08-05T16:29:25.687188Z",
     "iopub.status.busy": "2025-08-05T16:29:25.686310Z",
     "iopub.status.idle": "2025-08-05T16:29:28.355575Z",
     "shell.execute_reply": "2025-08-05T16:29:28.354250Z"
    },
    "papermill": {
     "duration": 2.688433,
     "end_time": "2025-08-05T16:29:28.358663",
     "exception": false,
     "start_time": "2025-08-05T16:29:25.670230",
     "status": "completed"
    },
    "tags": []
   },
   "outputs": [
    {
     "data": {
      "text/plain": [
       "array([[<Axes: title={'center': 'accuracy'}, xlabel='majmin'>,\n",
       "        <Axes: title={'center': 'balanced accuracy'}, xlabel='majmin'>,\n",
       "        <Axes: title={'center': 'f1'}, xlabel='majmin'>],\n",
       "       [<Axes: title={'center': 'precision'}, xlabel='majmin'>,\n",
       "        <Axes: title={'center': 'false positive rate'}, xlabel='majmin'>,\n",
       "        <Axes: title={'center': 'false negative rate'}, xlabel='majmin'>],\n",
       "       [<Axes: title={'center': 'selection rate'}, xlabel='majmin'>,\n",
       "        <Axes: title={'center': 'count'}, xlabel='majmin'>,\n",
       "        <Axes: xlabel='majmin'>]], dtype=object)"
      ]
     },
     "execution_count": 63,
     "metadata": {},
     "output_type": "execute_result"
    },
    {
     "data": {
      "image/png": "[encoded data removed]",
      "text/plain": [
       "<Figure size 1200x800 with 9 Axes>"
      ]
     },
     "metadata": {},
     "output_type": "display_data"
    }
   ],
   "source": [
    "# In a graphic\n",
    "metric_frame.by_group.plot.bar(\n",
    "    subplots=True,\n",
    "    layout=[3, 3],\n",
    "    legend=False,\n",
    "    figsize=[12, 8],\n",
    "    title=\"Show all metrics\",\n",
    ")"
   ]
  },
  {
   "cell_type": "markdown",
   "id": "f57a0bac",
   "metadata": {
    "papermill": {
     "duration": 0.016459,
     "end_time": "2025-08-05T16:29:28.394419",
     "exception": false,
     "start_time": "2025-08-05T16:29:28.377960",
     "status": "completed"
    },
    "tags": []
   },
   "source": [
    "# Final Output"
   ]
  },
  {
   "cell_type": "code",
   "execution_count": 64,
   "id": "96d280a3",
   "metadata": {
    "execution": {
     "iopub.execute_input": "2025-08-05T16:29:28.457887Z",
     "iopub.status.busy": "2025-08-05T16:29:28.456657Z",
     "iopub.status.idle": "2025-08-05T16:29:28.469834Z",
     "shell.execute_reply": "2025-08-05T16:29:28.468558Z"
    },
    "papermill": {
     "duration": 0.049644,
     "end_time": "2025-08-05T16:29:28.471691",
     "exception": false,
     "start_time": "2025-08-05T16:29:28.422047",
     "status": "completed"
    },
    "tags": []
   },
   "outputs": [
    {
     "data": {
      "text/plain": [
       "4"
      ]
     },
     "execution_count": 64,
     "metadata": {},
     "output_type": "execute_result"
    }
   ],
   "source": [
    "sub_universes = universe_analysis.generate_sub_universes()\n",
    "len(sub_universes)"
   ]
  },
  {
   "cell_type": "code",
   "execution_count": 65,
   "id": "92adf7ba",
   "metadata": {
    "execution": {
     "iopub.execute_input": "2025-08-05T16:29:28.509553Z",
     "iopub.status.busy": "2025-08-05T16:29:28.509007Z",
     "iopub.status.idle": "2025-08-05T16:29:28.523168Z",
     "shell.execute_reply": "2025-08-05T16:29:28.521930Z"
    },
    "papermill": {
     "duration": 0.033972,
     "end_time": "2025-08-05T16:29:28.524974",
     "exception": false,
     "start_time": "2025-08-05T16:29:28.491002",
     "status": "completed"
    },
    "tags": []
   },
   "outputs": [],
   "source": [
    "def filter_sub_universe_data(sub_universe, org_test):\n",
    "    # Keep all rows — no filtering\n",
    "    keep_rows_mask = np.ones(org_test.shape[0], dtype=bool)\n",
    "\n",
    "    print(f\"[INFO] Keeping all rows: {keep_rows_mask.sum()} rows retained.\")\n",
    "    return keep_rows_mask"
   ]
  },
  {
   "cell_type": "code",
   "execution_count": 66,
   "id": "4a759155",
   "metadata": {
    "execution": {
     "iopub.execute_input": "2025-08-05T16:29:28.580120Z",
     "iopub.status.busy": "2025-08-05T16:29:28.579551Z",
     "iopub.status.idle": "2025-08-05T16:29:37.146348Z",
     "shell.execute_reply": "2025-08-05T16:29:37.145395Z"
    },
    "papermill": {
     "duration": 8.601801,
     "end_time": "2025-08-05T16:29:37.148053",
     "exception": false,
     "start_time": "2025-08-05T16:29:28.546252",
     "status": "completed"
    },
    "tags": []
   },
   "outputs": [
    {
     "name": "stdout",
     "output_type": "stream",
     "text": [
      "Stopping execution_time clock.\n",
      "[INFO] Keeping all rows: 89710 rows retained.\n"
     ]
    },
    {
     "name": "stdout",
     "output_type": "stream",
     "text": [
      "[INFO] Keeping all rows: 89710 rows retained.\n"
     ]
    },
    {
     "name": "stdout",
     "output_type": "stream",
     "text": [
      "[INFO] Keeping all rows: 89710 rows retained.\n"
     ]
    },
    {
     "name": "stdout",
     "output_type": "stream",
     "text": [
      "[INFO] Keeping all rows: 89710 rows retained.\n"
     ]
    },
    {
     "data": {
      "text/html": [
       "<div>\n",
       "<style scoped>\n",
       "    .dataframe tbody tr th:only-of-type {\n",
       "        vertical-align: middle;\n",
       "    }\n",
       "\n",
       "    .dataframe tbody tr th {\n",
       "        vertical-align: top;\n",
       "    }\n",
       "\n",
       "    .dataframe thead th {\n",
       "        text-align: right;\n",
       "    }\n",
       "</style>\n",
       "<table border=\"1\" class=\"dataframe\">\n",
       "  <thead>\n",
       "    <tr style=\"text-align: right;\">\n",
       "      <th></th>\n",
       "      <th>run_no</th>\n",
       "      <th>universe_id</th>\n",
       "      <th>universe_settings</th>\n",
       "      <th>execution_time</th>\n",
       "      <th>test_size_n</th>\n",
       "      <th>test_size_frac</th>\n",
       "      <th>fair_main_equalized_odds_difference</th>\n",
       "      <th>fair_main_equalized_odds_ratio</th>\n",
       "      <th>fair_main_demographic_parity_difference</th>\n",
       "      <th>fair_main_demographic_parity_ratio</th>\n",
       "      <th>...</th>\n",
       "      <th>perf_grp_precision_0</th>\n",
       "      <th>perf_grp_precision_1</th>\n",
       "      <th>perf_grp_false positive rate_0</th>\n",
       "      <th>perf_grp_false positive rate_1</th>\n",
       "      <th>perf_grp_false negative rate_0</th>\n",
       "      <th>perf_grp_false negative rate_1</th>\n",
       "      <th>perf_grp_selection rate_0</th>\n",
       "      <th>perf_grp_selection rate_1</th>\n",
       "      <th>perf_grp_count_0</th>\n",
       "      <th>perf_grp_count_1</th>\n",
       "    </tr>\n",
       "  </thead>\n",
       "  <tbody>\n",
       "    <tr>\n",
       "      <th>0</th>\n",
       "      <td>15</td>\n",
       "      <td>505cb77b3d6ccd64a158ef9380db7a35</td>\n",
       "      <td>{\"cutoff\": \"quantile_0.1\", \"eval_fairness_grou...</td>\n",
       "      <td>33.305878</td>\n",
       "      <td>89710</td>\n",
       "      <td>1.0</td>\n",
       "      <td>0.091298</td>\n",
       "      <td>0.904739</td>\n",
       "      <td>0.080823</td>\n",
       "      <td>0.916013</td>\n",
       "      <td>...</td>\n",
       "      <td>NaN</td>\n",
       "      <td>NaN</td>\n",
       "      <td>NaN</td>\n",
       "      <td>NaN</td>\n",
       "      <td>NaN</td>\n",
       "      <td>NaN</td>\n",
       "      <td>NaN</td>\n",
       "      <td>NaN</td>\n",
       "      <td>NaN</td>\n",
       "      <td>NaN</td>\n",
       "    </tr>\n",
       "    <tr>\n",
       "      <th>0</th>\n",
       "      <td>15</td>\n",
       "      <td>505cb77b3d6ccd64a158ef9380db7a35</td>\n",
       "      <td>{\"cutoff\": \"quantile_0.1\", \"eval_fairness_grou...</td>\n",
       "      <td>33.305878</td>\n",
       "      <td>89710</td>\n",
       "      <td>1.0</td>\n",
       "      <td>0.091298</td>\n",
       "      <td>0.904739</td>\n",
       "      <td>0.080823</td>\n",
       "      <td>0.916013</td>\n",
       "      <td>...</td>\n",
       "      <td>0.118891</td>\n",
       "      <td>0.146311</td>\n",
       "      <td>0.958398</td>\n",
       "      <td>0.867100</td>\n",
       "      <td>0.007601</td>\n",
       "      <td>0.023961</td>\n",
       "      <td>0.962317</td>\n",
       "      <td>0.881495</td>\n",
       "      <td>20540.0</td>\n",
       "      <td>69170.0</td>\n",
       "    </tr>\n",
       "    <tr>\n",
       "      <th>0</th>\n",
       "      <td>15</td>\n",
       "      <td>505cb77b3d6ccd64a158ef9380db7a35</td>\n",
       "      <td>{\"cutoff\": \"quantile_0.25\", \"eval_fairness_gro...</td>\n",
       "      <td>33.305878</td>\n",
       "      <td>89710</td>\n",
       "      <td>1.0</td>\n",
       "      <td>0.142104</td>\n",
       "      <td>0.830122</td>\n",
       "      <td>0.125040</td>\n",
       "      <td>0.852768</td>\n",
       "      <td>...</td>\n",
       "      <td>NaN</td>\n",
       "      <td>NaN</td>\n",
       "      <td>NaN</td>\n",
       "      <td>NaN</td>\n",
       "      <td>NaN</td>\n",
       "      <td>NaN</td>\n",
       "      <td>NaN</td>\n",
       "      <td>NaN</td>\n",
       "      <td>NaN</td>\n",
       "      <td>NaN</td>\n",
       "    </tr>\n",
       "    <tr>\n",
       "      <th>0</th>\n",
       "      <td>15</td>\n",
       "      <td>505cb77b3d6ccd64a158ef9380db7a35</td>\n",
       "      <td>{\"cutoff\": \"quantile_0.25\", \"eval_fairness_gro...</td>\n",
       "      <td>33.305878</td>\n",
       "      <td>89710</td>\n",
       "      <td>1.0</td>\n",
       "      <td>0.142104</td>\n",
       "      <td>0.830122</td>\n",
       "      <td>0.125040</td>\n",
       "      <td>0.852768</td>\n",
       "      <td>...</td>\n",
       "      <td>0.128583</td>\n",
       "      <td>0.167881</td>\n",
       "      <td>0.836507</td>\n",
       "      <td>0.694403</td>\n",
       "      <td>0.052787</td>\n",
       "      <td>0.079869</td>\n",
       "      <td>0.849270</td>\n",
       "      <td>0.724230</td>\n",
       "      <td>20540.0</td>\n",
       "      <td>69170.0</td>\n",
       "    </tr>\n",
       "  </tbody>\n",
       "</table>\n",
       "<p>4 rows × 50 columns</p>\n",
       "</div>"
      ],
      "text/plain": [
       "  run_no                       universe_id  \\\n",
       "0     15  505cb77b3d6ccd64a158ef9380db7a35   \n",
       "0     15  505cb77b3d6ccd64a158ef9380db7a35   \n",
       "0     15  505cb77b3d6ccd64a158ef9380db7a35   \n",
       "0     15  505cb77b3d6ccd64a158ef9380db7a35   \n",
       "\n",
       "                                   universe_settings  execution_time  \\\n",
       "0  {\"cutoff\": \"quantile_0.1\", \"eval_fairness_grou...       33.305878   \n",
       "0  {\"cutoff\": \"quantile_0.1\", \"eval_fairness_grou...       33.305878   \n",
       "0  {\"cutoff\": \"quantile_0.25\", \"eval_fairness_gro...       33.305878   \n",
       "0  {\"cutoff\": \"quantile_0.25\", \"eval_fairness_gro...       33.305878   \n",
       "\n",
       "   test_size_n  test_size_frac  fair_main_equalized_odds_difference  \\\n",
       "0        89710             1.0                             0.091298   \n",
       "0        89710             1.0                             0.091298   \n",
       "0        89710             1.0                             0.142104   \n",
       "0        89710             1.0                             0.142104   \n",
       "\n",
       "   fair_main_equalized_odds_ratio  fair_main_demographic_parity_difference  \\\n",
       "0                        0.904739                                 0.080823   \n",
       "0                        0.904739                                 0.080823   \n",
       "0                        0.830122                                 0.125040   \n",
       "0                        0.830122                                 0.125040   \n",
       "\n",
       "   fair_main_demographic_parity_ratio  ...  perf_grp_precision_0  \\\n",
       "0                            0.916013  ...                   NaN   \n",
       "0                            0.916013  ...              0.118891   \n",
       "0                            0.852768  ...                   NaN   \n",
       "0                            0.852768  ...              0.128583   \n",
       "\n",
       "   perf_grp_precision_1  perf_grp_false positive rate_0  \\\n",
       "0                   NaN                             NaN   \n",
       "0              0.146311                        0.958398   \n",
       "0                   NaN                             NaN   \n",
       "0              0.167881                        0.836507   \n",
       "\n",
       "   perf_grp_false positive rate_1  perf_grp_false negative rate_0  \\\n",
       "0                             NaN                             NaN   \n",
       "0                        0.867100                        0.007601   \n",
       "0                             NaN                             NaN   \n",
       "0                        0.694403                        0.052787   \n",
       "\n",
       "   perf_grp_false negative rate_1  perf_grp_selection rate_0  \\\n",
       "0                             NaN                        NaN   \n",
       "0                        0.023961                   0.962317   \n",
       "0                             NaN                        NaN   \n",
       "0                        0.079869                   0.849270   \n",
       "\n",
       "   perf_grp_selection rate_1  perf_grp_count_0  perf_grp_count_1  \n",
       "0                        NaN               NaN               NaN  \n",
       "0                   0.881495           20540.0           69170.0  \n",
       "0                        NaN               NaN               NaN  \n",
       "0                   0.724230           20540.0           69170.0  \n",
       "\n",
       "[4 rows x 50 columns]"
      ]
     },
     "execution_count": 66,
     "metadata": {},
     "output_type": "execute_result"
    }
   ],
   "source": [
    "final_output = universe_analysis.generate_final_output(\n",
    "    y_pred_prob=probs_test,\n",
    "    y_test=y_true,\n",
    "    org_test=org_test,\n",
    "    filter_data=filter_sub_universe_data,\n",
    "    cp_metrics_df=cp_metrics_df,\n",
    "    save=True,\n",
    ")\n",
    "final_output"
   ]
  }
 ],
 "metadata": {
  "celltoolbar": "Tags",
  "kernelspec": {
   "display_name": "Python (CMA Fairness)",
   "language": "python",
   "name": "cma_fair_env"
  },
  "language_info": {
   "codemirror_mode": {
    "name": "ipython",
    "version": 3
   },
   "file_extension": ".py",
   "mimetype": "text/x-python",
   "name": "python",
   "nbconvert_exporter": "python",
   "pygments_lexer": "ipython3",
   "version": "3.10.12"
  },
  "papermill": {
   "default_parameters": {},
   "duration": 46.274767,
   "end_time": "2025-08-05T16:29:37.788148",
   "environment_variables": {},
   "exception": null,
   "input_path": "universe_analysis.ipynb",
   "output_path": "output/runs/15/notebooks/m_15-505cb77b3d6ccd64a158ef9380db7a35.ipynb",
   "parameters": {
    "output_dir": "output",
    "run_no": "15",
    "seed": "2023",
    "universe": "{\"cutoff\": [\"quantile_0.1\", \"quantile_0.25\"], \"eval_fairness_grouping\": [\"majority-minority\", \"nationality-all\"], \"exclude_features\": \"nationality-sex\", \"exclude_subgroups\": \"keep-all\", \"model\": \"gbm\", \"scale\": \"do-not-scale\", \"training_size\": \"1k\", \"training_year\": \"2012_14\"}",
    "universe_id": "505cb77b3d6ccd64a158ef9380db7a35"
   },
   "start_time": "2025-08-05T16:28:51.513381",
   "version": "2.6.0"
  }
 },
 "nbformat": 4,
 "nbformat_minor": 5
}