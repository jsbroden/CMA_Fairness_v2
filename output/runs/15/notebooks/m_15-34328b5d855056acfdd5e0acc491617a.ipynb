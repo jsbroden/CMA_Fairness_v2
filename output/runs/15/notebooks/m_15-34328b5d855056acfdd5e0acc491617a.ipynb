{
 "cells": [
  {
   "cell_type": "code",
   "execution_count": 1,
   "id": "f159f837-637b-42ba-96b5-ec9a68c44524",
   "metadata": {
    "execution": {
     "iopub.execute_input": "2025-08-05T15:20:00.854599Z",
     "iopub.status.busy": "2025-08-05T15:20:00.854099Z",
     "iopub.status.idle": "2025-08-05T15:20:00.868565Z",
     "shell.execute_reply": "2025-08-05T15:20:00.867329Z"
    },
    "papermill": {
     "duration": 0.036873,
     "end_time": "2025-08-05T15:20:00.870445",
     "exception": false,
     "start_time": "2025-08-05T15:20:00.833572",
     "status": "completed"
    },
    "tags": []
   },
   "outputs": [
    {
     "name": "stdout",
     "output_type": "stream",
     "text": [
      "/dss/dsshome1/0C/ra93lal2/cma/CMA_Fairness_v2\n"
     ]
    },
    {
     "name": "stderr",
     "output_type": "stream",
     "text": [
      "/dss/dsshome1/0C/ra93lal2/.local/share/virtualenvs/CMA_Fairness_v2-3j10GkSs/lib/python3.10/site-packages/IPython/core/magics/osm.py:393: UserWarning: This is now an optional IPython functionality, using bookmarks requires you to install the `pickleshare` library.\n",
      "  bkms = self.shell.db.get('bookmarks', {})\n",
      "/dss/dsshome1/0C/ra93lal2/.local/share/virtualenvs/CMA_Fairness_v2-3j10GkSs/lib/python3.10/site-packages/IPython/core/magics/osm.py:417: UserWarning: This is now an optional IPython functionality, setting dhist requires you to install the `pickleshare` library.\n",
      "  self.shell.db['dhist'] = compress_dhist(dhist)[-100:]\n"
     ]
    }
   ],
   "source": [
    "%cd ~/cma/CMA_Fairness_v2"
   ]
  },
  {
   "cell_type": "markdown",
   "id": "de2603b9",
   "metadata": {
    "papermill": {
     "duration": 0.009123,
     "end_time": "2025-08-05T15:20:00.891795",
     "exception": false,
     "start_time": "2025-08-05T15:20:00.882672",
     "status": "completed"
    },
    "tags": []
   },
   "source": [
    "The following cell holds the definition of our parameters, these values can be overriden by rendering the with e.g. the following command:\n",
    "\n",
    "papermill -p alpha 0.2 -p ratio 0.3 universe_analysis.ipynb output/test_run.ipynb"
   ]
  },
  {
   "cell_type": "code",
   "execution_count": 2,
   "id": "a80968a0-40bb-4fa9-85ef-2d5eefb01975",
   "metadata": {
    "execution": {
     "iopub.execute_input": "2025-08-05T15:20:00.909944Z",
     "iopub.status.busy": "2025-08-05T15:20:00.909601Z",
     "iopub.status.idle": "2025-08-05T15:20:00.914424Z",
     "shell.execute_reply": "2025-08-05T15:20:00.913619Z"
    },
    "papermill": {
     "duration": 0.015493,
     "end_time": "2025-08-05T15:20:00.915828",
     "exception": false,
     "start_time": "2025-08-05T15:20:00.900335",
     "status": "completed"
    },
    "tags": []
   },
   "outputs": [
    {
     "name": "stdout",
     "output_type": "stream",
     "text": [
      "Current working directory: /dss/dsshome1/0C/ra93lal2/cma/CMA_Fairness_v2\n"
     ]
    }
   ],
   "source": [
    "import os\n",
    "print(\"Current working directory:\", os.getcwd())"
   ]
  },
  {
   "cell_type": "code",
   "execution_count": 3,
   "id": "2dce4c03",
   "metadata": {
    "execution": {
     "iopub.execute_input": "2025-08-05T15:20:00.934884Z",
     "iopub.status.busy": "2025-08-05T15:20:00.934551Z",
     "iopub.status.idle": "2025-08-05T15:20:00.939250Z",
     "shell.execute_reply": "2025-08-05T15:20:00.938295Z"
    },
    "papermill": {
     "duration": 0.015395,
     "end_time": "2025-08-05T15:20:00.940709",
     "exception": false,
     "start_time": "2025-08-05T15:20:00.925314",
     "status": "completed"
    },
    "tags": [
     "parameters"
    ]
   },
   "outputs": [],
   "source": [
    "run_no = 0\n",
    "universe_id = \"test\"\n",
    "universe = {\n",
    "    \"training_size\": \"25k\", # \"25k\", \"5k\", \"1k\"\n",
    "    \"training_year\": \"2014\", # \"2014\", \"2012_14\", \"2010_14\"\n",
    "    \"scale\": \"scale\", # \"scale\", \"do-not-scale\",\n",
    "    \"model\": \"elasticnet\", # \"logreg\", \"penalized_logreg\", \"rf\", \"gbm\", \"elasticnet\"\n",
    "    \"cutoff\": [\"quantile_0.15\", \"quantile_0.30\"],\n",
    "    \"exclude_features\": \"age\", # \"none\", \"nationality\", \"sex\", \"nationality-sex\", \"age\"\n",
    "    \"exclude_subgroups\": \"keep-all\", # \"keep-all\", \"drop-non-german\"\n",
    "    \"eval_fairness_grouping\": [\"majority-minority\", \"nationality-all\"]\n",
    "}\n",
    "\n",
    "output_dir=\"./output\"\n",
    "seed=0"
   ]
  },
  {
   "cell_type": "code",
   "execution_count": 4,
   "id": "0c2cb6c9",
   "metadata": {
    "execution": {
     "iopub.execute_input": "2025-08-05T15:20:00.960882Z",
     "iopub.status.busy": "2025-08-05T15:20:00.960132Z",
     "iopub.status.idle": "2025-08-05T15:20:00.964691Z",
     "shell.execute_reply": "2025-08-05T15:20:00.964017Z"
    },
    "papermill": {
     "duration": 0.015642,
     "end_time": "2025-08-05T15:20:00.966029",
     "exception": false,
     "start_time": "2025-08-05T15:20:00.950387",
     "status": "completed"
    },
    "tags": [
     "injected-parameters"
    ]
   },
   "outputs": [],
   "source": [
    "# Parameters\n",
    "universe_id = \"34328b5d855056acfdd5e0acc491617a\"\n",
    "run_no = \"15\"\n",
    "universe = \"{\\\"cutoff\\\": [\\\"quantile_0.1\\\", \\\"quantile_0.25\\\"], \\\"eval_fairness_grouping\\\": [\\\"majority-minority\\\", \\\"nationality-all\\\"], \\\"exclude_features\\\": \\\"age\\\", \\\"exclude_subgroups\\\": \\\"keep-all\\\", \\\"model\\\": \\\"elasticnet\\\", \\\"scale\\\": \\\"do-not-scale\\\", \\\"training_size\\\": \\\"25k\\\", \\\"training_year\\\": \\\"2010_14\\\"}\"\n",
    "output_dir = \"output\"\n",
    "seed = \"2023\"\n"
   ]
  },
  {
   "cell_type": "code",
   "execution_count": 5,
   "id": "1650acaf",
   "metadata": {
    "execution": {
     "iopub.execute_input": "2025-08-05T15:20:00.995691Z",
     "iopub.status.busy": "2025-08-05T15:20:00.995329Z",
     "iopub.status.idle": "2025-08-05T15:20:00.999900Z",
     "shell.execute_reply": "2025-08-05T15:20:00.998889Z"
    },
    "papermill": {
     "duration": 0.024509,
     "end_time": "2025-08-05T15:20:01.001926",
     "exception": false,
     "start_time": "2025-08-05T15:20:00.977417",
     "status": "completed"
    },
    "tags": []
   },
   "outputs": [],
   "source": [
    "import json\n",
    "if isinstance(universe, str):\n",
    "    universe = json.loads(universe)"
   ]
  },
  {
   "cell_type": "code",
   "execution_count": 6,
   "id": "16620c48",
   "metadata": {
    "execution": {
     "iopub.execute_input": "2025-08-05T15:20:01.039940Z",
     "iopub.status.busy": "2025-08-05T15:20:01.039457Z",
     "iopub.status.idle": "2025-08-05T15:20:01.085425Z",
     "shell.execute_reply": "2025-08-05T15:20:01.084360Z"
    },
    "papermill": {
     "duration": 0.068578,
     "end_time": "2025-08-05T15:20:01.087814",
     "exception": false,
     "start_time": "2025-08-05T15:20:01.019236",
     "status": "completed"
    },
    "tags": []
   },
   "outputs": [],
   "source": [
    "# Auto-reload the custom package\n",
    "%load_ext autoreload\n",
    "%autoreload 1\n",
    "%aimport fairness_multiverse"
   ]
  },
  {
   "cell_type": "code",
   "execution_count": 7,
   "id": "01c5c9f3",
   "metadata": {
    "execution": {
     "iopub.execute_input": "2025-08-05T15:20:01.115741Z",
     "iopub.status.busy": "2025-08-05T15:20:01.115175Z",
     "iopub.status.idle": "2025-08-05T15:20:02.897871Z",
     "shell.execute_reply": "2025-08-05T15:20:02.896709Z"
    },
    "papermill": {
     "duration": 1.794042,
     "end_time": "2025-08-05T15:20:02.899867",
     "exception": false,
     "start_time": "2025-08-05T15:20:01.105825",
     "status": "completed"
    },
    "tags": []
   },
   "outputs": [],
   "source": [
    "from fairness_multiverse.universe import UniverseAnalysis\n",
    "\n",
    "universe_analysis = UniverseAnalysis(\n",
    "    run_no = run_no,\n",
    "    universe_id = universe_id,\n",
    "    universe = universe,\n",
    "    output_dir=output_dir,\n",
    ")"
   ]
  },
  {
   "cell_type": "code",
   "execution_count": 8,
   "id": "106241f5",
   "metadata": {
    "execution": {
     "iopub.execute_input": "2025-08-05T15:20:02.942994Z",
     "iopub.status.busy": "2025-08-05T15:20:02.942478Z",
     "iopub.status.idle": "2025-08-05T15:20:02.950005Z",
     "shell.execute_reply": "2025-08-05T15:20:02.948835Z"
    },
    "papermill": {
     "duration": 0.033451,
     "end_time": "2025-08-05T15:20:02.952473",
     "exception": false,
     "start_time": "2025-08-05T15:20:02.919022",
     "status": "completed"
    },
    "tags": []
   },
   "outputs": [
    {
     "name": "stdout",
     "output_type": "stream",
     "text": [
      "Using Seed: 2023\n"
     ]
    }
   ],
   "source": [
    "import numpy as np\n",
    "parsed_seed = int(seed)\n",
    "np.random.seed(parsed_seed)\n",
    "print(f\"Using Seed: {parsed_seed}\")"
   ]
  },
  {
   "cell_type": "markdown",
   "id": "e0ebdc57",
   "metadata": {
    "papermill": {
     "duration": 0.018043,
     "end_time": "2025-08-05T15:20:02.988196",
     "exception": false,
     "start_time": "2025-08-05T15:20:02.970153",
     "status": "completed"
    },
    "tags": []
   },
   "source": [
    "# Loading Data"
   ]
  },
  {
   "cell_type": "code",
   "execution_count": 9,
   "id": "f0496b8a",
   "metadata": {
    "execution": {
     "iopub.execute_input": "2025-08-05T15:20:03.025800Z",
     "iopub.status.busy": "2025-08-05T15:20:03.025188Z",
     "iopub.status.idle": "2025-08-05T15:20:14.948475Z",
     "shell.execute_reply": "2025-08-05T15:20:14.947299Z"
    },
    "papermill": {
     "duration": 11.943719,
     "end_time": "2025-08-05T15:20:14.950507",
     "exception": false,
     "start_time": "2025-08-05T15:20:03.006788",
     "status": "completed"
    },
    "tags": []
   },
   "outputs": [
    {
     "name": "stdout",
     "output_type": "stream",
     "text": [
      "Loading SIAB data from cache: data/siab_cached.csv.gz\n"
     ]
    },
    {
     "name": "stdout",
     "output_type": "stream",
     "text": [
      "(643690, 164)\n"
     ]
    }
   ],
   "source": [
    "from pathlib import Path\n",
    "import pandas as pd\n",
    "\n",
    "# File paths\n",
    "raw_file = Path(\"data/raw/siab.csv\")\n",
    "cache_file = Path(\"data/siab_cached.csv.gz\")\n",
    "\n",
    "# Ensure cache directory exists\n",
    "cache_file.parent.mkdir(parents=True, exist_ok=True)\n",
    "\n",
    "# Load with simple caching\n",
    "if cache_file.exists():\n",
    "    print(f\"Loading SIAB data from cache: {cache_file}\")\n",
    "    siab = pd.read_csv(cache_file, compression='gzip')\n",
    "else:\n",
    "    print(f\"Cache not found. Reading raw SIAB data: {raw_file}\")\n",
    "    siab = pd.read_csv(raw_file)\n",
    "    siab.to_csv(cache_file, index=False, compression='gzip')\n",
    "    print(f\"Cached SIAB data to: {cache_file}\")\n",
    "\n",
    "print(siab.shape)"
   ]
  },
  {
   "cell_type": "code",
   "execution_count": 10,
   "id": "db0ca512-5f53-4dba-abdb-a2888bca41ba",
   "metadata": {
    "execution": {
     "iopub.execute_input": "2025-08-05T15:20:14.997075Z",
     "iopub.status.busy": "2025-08-05T15:20:14.996537Z",
     "iopub.status.idle": "2025-08-05T15:20:15.002914Z",
     "shell.execute_reply": "2025-08-05T15:20:15.001565Z"
    },
    "papermill": {
     "duration": 0.031049,
     "end_time": "2025-08-05T15:20:15.005099",
     "exception": false,
     "start_time": "2025-08-05T15:20:14.974050",
     "status": "completed"
    },
    "tags": []
   },
   "outputs": [],
   "source": [
    "#siab"
   ]
  },
  {
   "cell_type": "markdown",
   "id": "997051c5-15bd-4b69-9786-c3001a3ce484",
   "metadata": {
    "papermill": {
     "duration": 0.020915,
     "end_time": "2025-08-05T15:20:15.047412",
     "exception": false,
     "start_time": "2025-08-05T15:20:15.026497",
     "status": "completed"
    },
    "tags": []
   },
   "source": [
    "# Splitting Data and Setting Training Data Size"
   ]
  },
  {
   "cell_type": "code",
   "execution_count": 11,
   "id": "aea9c6ef-6f46-42c8-85eb-5a62025c1508",
   "metadata": {
    "execution": {
     "iopub.execute_input": "2025-08-05T15:20:15.168160Z",
     "iopub.status.busy": "2025-08-05T15:20:15.167193Z",
     "iopub.status.idle": "2025-08-05T15:20:16.917417Z",
     "shell.execute_reply": "2025-08-05T15:20:16.916284Z"
    },
    "papermill": {
     "duration": 1.851281,
     "end_time": "2025-08-05T15:20:16.919548",
     "exception": false,
     "start_time": "2025-08-05T15:20:15.068267",
     "status": "completed"
    },
    "tags": []
   },
   "outputs": [],
   "source": [
    "from fairness_multiverse.universe import sample_by_year_size\n",
    "\n",
    "siab_train = sample_by_year_size(siab,\n",
    "                               training_year=universe[\"training_year\"],\n",
    "                               training_size=universe[\"training_size\"])"
   ]
  },
  {
   "cell_type": "code",
   "execution_count": 12,
   "id": "8d3afb32-789d-442c-8d5d-9f5aa8dd2eed",
   "metadata": {
    "execution": {
     "iopub.execute_input": "2025-08-05T15:20:16.954670Z",
     "iopub.status.busy": "2025-08-05T15:20:16.953832Z",
     "iopub.status.idle": "2025-08-05T15:20:16.960069Z",
     "shell.execute_reply": "2025-08-05T15:20:16.958821Z"
    },
    "papermill": {
     "duration": 0.02588,
     "end_time": "2025-08-05T15:20:16.961909",
     "exception": false,
     "start_time": "2025-08-05T15:20:16.936029",
     "status": "completed"
    },
    "tags": []
   },
   "outputs": [],
   "source": [
    "#siab_train.shape"
   ]
  },
  {
   "cell_type": "code",
   "execution_count": 13,
   "id": "d582db68-1a4c-47fb-84fc-08518dc1975a",
   "metadata": {
    "execution": {
     "iopub.execute_input": "2025-08-05T15:20:16.997443Z",
     "iopub.status.busy": "2025-08-05T15:20:16.996774Z",
     "iopub.status.idle": "2025-08-05T15:20:17.002778Z",
     "shell.execute_reply": "2025-08-05T15:20:17.001571Z"
    },
    "papermill": {
     "duration": 0.025871,
     "end_time": "2025-08-05T15:20:17.004678",
     "exception": false,
     "start_time": "2025-08-05T15:20:16.978807",
     "status": "completed"
    },
    "tags": []
   },
   "outputs": [],
   "source": [
    "#display(siab_train.groupby(\"year\").size())"
   ]
  },
  {
   "cell_type": "code",
   "execution_count": 14,
   "id": "a561edb4-d032-42cb-8256-22eac1111c64",
   "metadata": {
    "execution": {
     "iopub.execute_input": "2025-08-05T15:20:17.044212Z",
     "iopub.status.busy": "2025-08-05T15:20:17.043520Z",
     "iopub.status.idle": "2025-08-05T15:20:17.416445Z",
     "shell.execute_reply": "2025-08-05T15:20:17.415414Z"
    },
    "papermill": {
     "duration": 0.393642,
     "end_time": "2025-08-05T15:20:17.418484",
     "exception": false,
     "start_time": "2025-08-05T15:20:17.024842",
     "status": "completed"
    },
    "tags": []
   },
   "outputs": [],
   "source": [
    "#siab_train = siab_s[siab_s.year < 2015]\n",
    "siab_calib = siab[siab.year == 2015]\n",
    "siab_test = siab[siab.year == 2016]"
   ]
  },
  {
   "cell_type": "code",
   "execution_count": 15,
   "id": "472de16f-c3db-4916-846b-1f0de9cf1746",
   "metadata": {
    "execution": {
     "iopub.execute_input": "2025-08-05T15:20:17.459723Z",
     "iopub.status.busy": "2025-08-05T15:20:17.458809Z",
     "iopub.status.idle": "2025-08-05T15:20:17.487931Z",
     "shell.execute_reply": "2025-08-05T15:20:17.486534Z"
    },
    "papermill": {
     "duration": 0.052844,
     "end_time": "2025-08-05T15:20:17.489973",
     "exception": false,
     "start_time": "2025-08-05T15:20:17.437129",
     "status": "completed"
    },
    "tags": []
   },
   "outputs": [],
   "source": [
    "X_train = siab_train.iloc[:,4:164]\n",
    "y_train = siab_train.iloc[:, [3]]"
   ]
  },
  {
   "cell_type": "code",
   "execution_count": 16,
   "id": "828c96af-f43a-4ed6-ba47-8ac73a47d56c",
   "metadata": {
    "execution": {
     "iopub.execute_input": "2025-08-05T15:20:17.530091Z",
     "iopub.status.busy": "2025-08-05T15:20:17.529084Z",
     "iopub.status.idle": "2025-08-05T15:20:17.581087Z",
     "shell.execute_reply": "2025-08-05T15:20:17.579686Z"
    },
    "papermill": {
     "duration": 0.074338,
     "end_time": "2025-08-05T15:20:17.583684",
     "exception": false,
     "start_time": "2025-08-05T15:20:17.509346",
     "status": "completed"
    },
    "tags": []
   },
   "outputs": [],
   "source": [
    "X_calib = siab_calib.iloc[:,4:164]\n",
    "y_calib = siab_calib.iloc[:, [3]]"
   ]
  },
  {
   "cell_type": "code",
   "execution_count": 17,
   "id": "c34be9c3-6bd6-476e-acd3-845840e303be",
   "metadata": {
    "execution": {
     "iopub.execute_input": "2025-08-05T15:20:17.633895Z",
     "iopub.status.busy": "2025-08-05T15:20:17.633161Z",
     "iopub.status.idle": "2025-08-05T15:20:17.698630Z",
     "shell.execute_reply": "2025-08-05T15:20:17.697438Z"
    },
    "papermill": {
     "duration": 0.093109,
     "end_time": "2025-08-05T15:20:17.700962",
     "exception": false,
     "start_time": "2025-08-05T15:20:17.607853",
     "status": "completed"
    },
    "tags": []
   },
   "outputs": [],
   "source": [
    "X_test = siab_test.iloc[:,4:164]\n",
    "y_true = siab_test.iloc[:, [3]]"
   ]
  },
  {
   "cell_type": "code",
   "execution_count": 18,
   "id": "e6c733c5",
   "metadata": {
    "execution": {
     "iopub.execute_input": "2025-08-05T15:20:17.750574Z",
     "iopub.status.busy": "2025-08-05T15:20:17.749893Z",
     "iopub.status.idle": "2025-08-05T15:20:17.848491Z",
     "shell.execute_reply": "2025-08-05T15:20:17.847196Z"
    },
    "papermill": {
     "duration": 0.125293,
     "end_time": "2025-08-05T15:20:17.850732",
     "exception": false,
     "start_time": "2025-08-05T15:20:17.725439",
     "status": "completed"
    },
    "tags": []
   },
   "outputs": [],
   "source": [
    "# Auxiliary data needed downstream in the pipeline\n",
    "\n",
    "org_train = X_train.copy()\n",
    "org_test = X_test.copy()\n",
    "org_calib = X_calib.copy()"
   ]
  },
  {
   "cell_type": "markdown",
   "id": "0a4a1b33",
   "metadata": {
    "papermill": {
     "duration": 0.008987,
     "end_time": "2025-08-05T15:20:17.871161",
     "exception": false,
     "start_time": "2025-08-05T15:20:17.862174",
     "status": "completed"
    },
    "tags": []
   },
   "source": [
    "# Preprocessing Data"
   ]
  },
  {
   "cell_type": "code",
   "execution_count": 19,
   "id": "ca879031",
   "metadata": {
    "execution": {
     "iopub.execute_input": "2025-08-05T15:20:17.890154Z",
     "iopub.status.busy": "2025-08-05T15:20:17.889743Z",
     "iopub.status.idle": "2025-08-05T15:20:17.895940Z",
     "shell.execute_reply": "2025-08-05T15:20:17.895114Z"
    },
    "papermill": {
     "duration": 0.017714,
     "end_time": "2025-08-05T15:20:17.897740",
     "exception": false,
     "start_time": "2025-08-05T15:20:17.880026",
     "status": "completed"
    },
    "tags": []
   },
   "outputs": [],
   "source": [
    "# EXCLUDE PROTECTED FEATURES\n",
    "# ----------------------\n",
    "# \"exclude_features\": \"none\", # \"nationality\", \"sex\", \"nationality-sex\"\n",
    "\n",
    "excluded_features = universe[\"exclude_features\"].split(\"-\") # split, e.g.: \"nationality-sex\" -> [\"nationality\", \"sex\"]\n",
    "excluded_features_dictionary = {\n",
    "    \"nationality\": [\"maxdeutsch1\", \"maxdeutsch.Missing.\"],\n",
    "    \"sex\": [\"frau1\"],\n",
    "    \"age\": [\"age\"],\n",
    "}"
   ]
  },
  {
   "cell_type": "code",
   "execution_count": 20,
   "id": "b745ac60",
   "metadata": {
    "execution": {
     "iopub.execute_input": "2025-08-05T15:20:17.936342Z",
     "iopub.status.busy": "2025-08-05T15:20:17.935942Z",
     "iopub.status.idle": "2025-08-05T15:20:17.940978Z",
     "shell.execute_reply": "2025-08-05T15:20:17.940110Z"
    },
    "papermill": {
     "duration": 0.026902,
     "end_time": "2025-08-05T15:20:17.943119",
     "exception": false,
     "start_time": "2025-08-05T15:20:17.916217",
     "status": "completed"
    },
    "tags": []
   },
   "outputs": [],
   "source": [
    "# Code nice names to column names\n",
    "\n",
    "excluded_features_columns = [\n",
    "    excluded_features_dictionary[f] for f in excluded_features if len(f) > 0 and f != \"none\"\n",
    "]"
   ]
  },
  {
   "cell_type": "code",
   "execution_count": 21,
   "id": "f84f73a2",
   "metadata": {
    "execution": {
     "iopub.execute_input": "2025-08-05T15:20:17.981792Z",
     "iopub.status.busy": "2025-08-05T15:20:17.980993Z",
     "iopub.status.idle": "2025-08-05T15:20:17.986890Z",
     "shell.execute_reply": "2025-08-05T15:20:17.986068Z"
    },
    "papermill": {
     "duration": 0.026778,
     "end_time": "2025-08-05T15:20:17.988240",
     "exception": false,
     "start_time": "2025-08-05T15:20:17.961462",
     "status": "completed"
    },
    "tags": []
   },
   "outputs": [],
   "source": [
    "from utils import flatten_once\n",
    "\n",
    "excluded_features_columns = flatten_once(excluded_features_columns)"
   ]
  },
  {
   "cell_type": "code",
   "execution_count": 22,
   "id": "884dea22",
   "metadata": {
    "execution": {
     "iopub.execute_input": "2025-08-05T15:20:18.010002Z",
     "iopub.status.busy": "2025-08-05T15:20:18.009407Z",
     "iopub.status.idle": "2025-08-05T15:20:18.023480Z",
     "shell.execute_reply": "2025-08-05T15:20:18.022621Z"
    },
    "papermill": {
     "duration": 0.026401,
     "end_time": "2025-08-05T15:20:18.024801",
     "exception": false,
     "start_time": "2025-08-05T15:20:17.998400",
     "status": "completed"
    },
    "tags": []
   },
   "outputs": [
    {
     "name": "stdout",
     "output_type": "stream",
     "text": [
      "Dropping features: ['age']\n"
     ]
    }
   ],
   "source": [
    "if len(excluded_features_columns) > 0:\n",
    "    print(f\"Dropping features: {excluded_features_columns}\")\n",
    "    X_train.drop(excluded_features_columns, axis=1, inplace=True)"
   ]
  },
  {
   "cell_type": "code",
   "execution_count": 23,
   "id": "95ab8b16",
   "metadata": {
    "execution": {
     "iopub.execute_input": "2025-08-05T15:20:18.046720Z",
     "iopub.status.busy": "2025-08-05T15:20:18.046210Z",
     "iopub.status.idle": "2025-08-05T15:20:18.178600Z",
     "shell.execute_reply": "2025-08-05T15:20:18.177814Z"
    },
    "papermill": {
     "duration": 0.145253,
     "end_time": "2025-08-05T15:20:18.180287",
     "exception": false,
     "start_time": "2025-08-05T15:20:18.035034",
     "status": "completed"
    },
    "tags": []
   },
   "outputs": [
    {
     "name": "stdout",
     "output_type": "stream",
     "text": [
      "Dropping features: ['age']\n"
     ]
    }
   ],
   "source": [
    "if len(excluded_features_columns) > 0:\n",
    "    print(f\"Dropping features: {excluded_features_columns}\")\n",
    "    X_test.drop(excluded_features_columns, axis=1, inplace=True)"
   ]
  },
  {
   "cell_type": "code",
   "execution_count": 24,
   "id": "1853aaf5-fb9f-46cb-a2b5-8ea4ae2237e4",
   "metadata": {
    "execution": {
     "iopub.execute_input": "2025-08-05T15:20:18.215017Z",
     "iopub.status.busy": "2025-08-05T15:20:18.214600Z",
     "iopub.status.idle": "2025-08-05T15:20:18.281867Z",
     "shell.execute_reply": "2025-08-05T15:20:18.280713Z"
    },
    "papermill": {
     "duration": 0.088338,
     "end_time": "2025-08-05T15:20:18.283400",
     "exception": false,
     "start_time": "2025-08-05T15:20:18.195062",
     "status": "completed"
    },
    "tags": []
   },
   "outputs": [
    {
     "name": "stdout",
     "output_type": "stream",
     "text": [
      "Dropping features: ['age']\n"
     ]
    }
   ],
   "source": [
    "if len(excluded_features_columns) > 0:\n",
    "    print(f\"Dropping features: {excluded_features_columns}\")\n",
    "    X_calib.drop(excluded_features_columns, axis=1, inplace=True)"
   ]
  },
  {
   "cell_type": "code",
   "execution_count": 25,
   "id": "76c4dc6d",
   "metadata": {
    "execution": {
     "iopub.execute_input": "2025-08-05T15:20:18.307089Z",
     "iopub.status.busy": "2025-08-05T15:20:18.306739Z",
     "iopub.status.idle": "2025-08-05T15:20:18.311593Z",
     "shell.execute_reply": "2025-08-05T15:20:18.310830Z"
    },
    "papermill": {
     "duration": 0.018335,
     "end_time": "2025-08-05T15:20:18.313571",
     "exception": false,
     "start_time": "2025-08-05T15:20:18.295236",
     "status": "completed"
    },
    "tags": []
   },
   "outputs": [],
   "source": [
    "# EXCLUDE CERTAIN SUBGROUPS\n",
    "# ----------------------\n",
    "\n",
    "mode = universe.get(\"exclude_subgroups\", \"keep-all\") \n",
    "# Fetches the exclude_subgroups setting from the universe dict.\n",
    "# Defaults to \"keep-all\" if the key is missing."
   ]
  },
  {
   "cell_type": "code",
   "execution_count": 26,
   "id": "21994072",
   "metadata": {
    "execution": {
     "iopub.execute_input": "2025-08-05T15:20:18.353918Z",
     "iopub.status.busy": "2025-08-05T15:20:18.353454Z",
     "iopub.status.idle": "2025-08-05T15:20:18.361220Z",
     "shell.execute_reply": "2025-08-05T15:20:18.359904Z"
    },
    "papermill": {
     "duration": 0.029544,
     "end_time": "2025-08-05T15:20:18.363212",
     "exception": false,
     "start_time": "2025-08-05T15:20:18.333668",
     "status": "completed"
    },
    "tags": []
   },
   "outputs": [],
   "source": [
    "if mode == \"keep-all\":\n",
    "    keep_mask = pd.Series(True, index=org_train.index)\n",
    "\n",
    "# org_train contains the original feature columns from features_org (in Simson)\n",
    "# features_org contains unprocessed features, for me X_train at beginning ???\n",
    "# For keep-all, creates a boolean Series (keep_mask) of all True, so no rows are removed.\n",
    "\n",
    "elif mode == \"drop-non-german\":\n",
    "    keep_mask = org_train[\"maxdeutsch1\"] == 1 # ??? what about missing values?\n",
    "\n",
    "else:\n",
    "    raise ValueError(f\"Unsupported mode for exclude_subgroups: {mode}\")"
   ]
  },
  {
   "cell_type": "code",
   "execution_count": 27,
   "id": "71651440",
   "metadata": {
    "execution": {
     "iopub.execute_input": "2025-08-05T15:20:18.403791Z",
     "iopub.status.busy": "2025-08-05T15:20:18.403288Z",
     "iopub.status.idle": "2025-08-05T15:20:18.410132Z",
     "shell.execute_reply": "2025-08-05T15:20:18.409195Z"
    },
    "papermill": {
     "duration": 0.029164,
     "end_time": "2025-08-05T15:20:18.411835",
     "exception": false,
     "start_time": "2025-08-05T15:20:18.382671",
     "status": "completed"
    },
    "tags": []
   },
   "outputs": [],
   "source": [
    "n_drop = (~keep_mask).sum() # Calculates how many rows are set to be dropped\n",
    "if n_drop > 0:\n",
    "    pct = n_drop / len(keep_mask) * 100\n",
    "    print(f\"Dropping {n_drop} rows ({pct:.2f}%) where mode='{mode}'\")"
   ]
  },
  {
   "cell_type": "code",
   "execution_count": 28,
   "id": "5fb8eee5",
   "metadata": {
    "execution": {
     "iopub.execute_input": "2025-08-05T15:20:18.445402Z",
     "iopub.status.busy": "2025-08-05T15:20:18.444720Z",
     "iopub.status.idle": "2025-08-05T15:20:18.458771Z",
     "shell.execute_reply": "2025-08-05T15:20:18.457858Z"
    },
    "papermill": {
     "duration": 0.028136,
     "end_time": "2025-08-05T15:20:18.461101",
     "exception": false,
     "start_time": "2025-08-05T15:20:18.432965",
     "status": "completed"
    },
    "tags": []
   },
   "outputs": [],
   "source": [
    "X_train = X_train[keep_mask]"
   ]
  },
  {
   "cell_type": "code",
   "execution_count": 29,
   "id": "b202bb3a",
   "metadata": {
    "execution": {
     "iopub.execute_input": "2025-08-05T15:20:18.516618Z",
     "iopub.status.busy": "2025-08-05T15:20:18.515835Z",
     "iopub.status.idle": "2025-08-05T15:20:18.523979Z",
     "shell.execute_reply": "2025-08-05T15:20:18.522744Z"
    },
    "papermill": {
     "duration": 0.038808,
     "end_time": "2025-08-05T15:20:18.526417",
     "exception": false,
     "start_time": "2025-08-05T15:20:18.487609",
     "status": "completed"
    },
    "tags": []
   },
   "outputs": [],
   "source": [
    "y_train = y_train[keep_mask]"
   ]
  },
  {
   "cell_type": "markdown",
   "id": "493e2ac3",
   "metadata": {
    "papermill": {
     "duration": 0.014148,
     "end_time": "2025-08-05T15:20:18.552620",
     "exception": false,
     "start_time": "2025-08-05T15:20:18.538472",
     "status": "completed"
    },
    "tags": []
   },
   "source": [
    "# Model Training"
   ]
  },
  {
   "cell_type": "code",
   "execution_count": 30,
   "id": "679e1268",
   "metadata": {
    "execution": {
     "iopub.execute_input": "2025-08-05T15:20:18.586105Z",
     "iopub.status.busy": "2025-08-05T15:20:18.585600Z",
     "iopub.status.idle": "2025-08-05T15:20:18.696256Z",
     "shell.execute_reply": "2025-08-05T15:20:18.695225Z"
    },
    "papermill": {
     "duration": 0.133769,
     "end_time": "2025-08-05T15:20:18.698266",
     "exception": false,
     "start_time": "2025-08-05T15:20:18.564497",
     "status": "completed"
    },
    "tags": []
   },
   "outputs": [],
   "source": [
    "from sklearn.linear_model import LogisticRegression\n",
    "from sklearn.ensemble import GradientBoostingClassifier, RandomForestClassifier\n",
    "\n",
    "if (universe[\"model\"] == \"logreg\"):\n",
    "    model = LogisticRegression() #penalty=\"none\", solver=\"newton-cg\", max_iter=1) # include random_state=19 ?\n",
    "elif (universe[\"model\"] == \"penalized_logreg\"):\n",
    "    model = LogisticRegression(penalty=\"l2\", C=0.1) #, solver=\"newton-cg\", max_iter=1)\n",
    "elif (universe[\"model\"] == \"rf\"):\n",
    "    model = RandomForestClassifier() # n_estimators=100, n_jobs=-1\n",
    "elif (universe[\"model\"] == \"gbm\"):\n",
    "    model = GradientBoostingClassifier()\n",
    "elif (universe[\"model\"] == \"elasticnet\"):\n",
    "    model = LogisticRegression(penalty = 'elasticnet', solver = 'saga', l1_ratio = 0.5) # max_iter=5000\n",
    "else:\n",
    "    raise \"Unsupported universe.model\""
   ]
  },
  {
   "cell_type": "code",
   "execution_count": 31,
   "id": "0cc8f744",
   "metadata": {
    "execution": {
     "iopub.execute_input": "2025-08-05T15:20:18.724314Z",
     "iopub.status.busy": "2025-08-05T15:20:18.723591Z",
     "iopub.status.idle": "2025-08-05T15:20:18.728924Z",
     "shell.execute_reply": "2025-08-05T15:20:18.728198Z"
    },
    "papermill": {
     "duration": 0.017939,
     "end_time": "2025-08-05T15:20:18.730479",
     "exception": false,
     "start_time": "2025-08-05T15:20:18.712540",
     "status": "completed"
    },
    "tags": []
   },
   "outputs": [],
   "source": [
    "import numpy as np\n",
    "from sklearn.pipeline import Pipeline\n",
    "from sklearn.preprocessing import StandardScaler\n",
    "\n",
    "model = Pipeline([\n",
    "    #(\"continuous_processor\", continuous_processor),\n",
    "    #(\"categorical_preprocessor\", categorical_preprocessor),\n",
    "    (\"scale\", StandardScaler() if universe[\"scale\"] == \"scale\" else None), \n",
    "    (\"model\", model),\n",
    "])"
   ]
  },
  {
   "cell_type": "code",
   "execution_count": 32,
   "id": "9442c04d",
   "metadata": {
    "execution": {
     "iopub.execute_input": "2025-08-05T15:20:18.764159Z",
     "iopub.status.busy": "2025-08-05T15:20:18.763781Z",
     "iopub.status.idle": "2025-08-05T15:20:29.001627Z",
     "shell.execute_reply": "2025-08-05T15:20:29.000529Z"
    },
    "papermill": {
     "duration": 10.256914,
     "end_time": "2025-08-05T15:20:29.003276",
     "exception": false,
     "start_time": "2025-08-05T15:20:18.746362",
     "status": "completed"
    },
    "tags": []
   },
   "outputs": [
    {
     "name": "stderr",
     "output_type": "stream",
     "text": [
      "/dss/dsshome1/0C/ra93lal2/.local/share/virtualenvs/CMA_Fairness_v2-3j10GkSs/lib/python3.10/site-packages/sklearn/linear_model/_sag.py:350: ConvergenceWarning: The max_iter was reached which means the coef_ did not converge\n",
      "  warnings.warn(\n"
     ]
    },
    {
     "data": {
      "text/html": [
       "<style>#sk-container-id-1 {color: black;background-color: white;}#sk-container-id-1 pre{padding: 0;}#sk-container-id-1 div.sk-toggleable {background-color: white;}#sk-container-id-1 label.sk-toggleable__label {cursor: pointer;display: block;width: 100%;margin-bottom: 0;padding: 0.3em;box-sizing: border-box;text-align: center;}#sk-container-id-1 label.sk-toggleable__label-arrow:before {content: \"▸\";float: left;margin-right: 0.25em;color: #696969;}#sk-container-id-1 label.sk-toggleable__label-arrow:hover:before {color: black;}#sk-container-id-1 div.sk-estimator:hover label.sk-toggleable__label-arrow:before {color: black;}#sk-container-id-1 div.sk-toggleable__content {max-height: 0;max-width: 0;overflow: hidden;text-align: left;background-color: #f0f8ff;}#sk-container-id-1 div.sk-toggleable__content pre {margin: 0.2em;color: black;border-radius: 0.25em;background-color: #f0f8ff;}#sk-container-id-1 input.sk-toggleable__control:checked~div.sk-toggleable__content {max-height: 200px;max-width: 100%;overflow: auto;}#sk-container-id-1 input.sk-toggleable__control:checked~label.sk-toggleable__label-arrow:before {content: \"▾\";}#sk-container-id-1 div.sk-estimator input.sk-toggleable__control:checked~label.sk-toggleable__label {background-color: #d4ebff;}#sk-container-id-1 div.sk-label input.sk-toggleable__control:checked~label.sk-toggleable__label {background-color: #d4ebff;}#sk-container-id-1 input.sk-hidden--visually {border: 0;clip: rect(1px 1px 1px 1px);clip: rect(1px, 1px, 1px, 1px);height: 1px;margin: -1px;overflow: hidden;padding: 0;position: absolute;width: 1px;}#sk-container-id-1 div.sk-estimator {font-family: monospace;background-color: #f0f8ff;border: 1px dotted black;border-radius: 0.25em;box-sizing: border-box;margin-bottom: 0.5em;}#sk-container-id-1 div.sk-estimator:hover {background-color: #d4ebff;}#sk-container-id-1 div.sk-parallel-item::after {content: \"\";width: 100%;border-bottom: 1px solid gray;flex-grow: 1;}#sk-container-id-1 div.sk-label:hover label.sk-toggleable__label {background-color: #d4ebff;}#sk-container-id-1 div.sk-serial::before {content: \"\";position: absolute;border-left: 1px solid gray;box-sizing: border-box;top: 0;bottom: 0;left: 50%;z-index: 0;}#sk-container-id-1 div.sk-serial {display: flex;flex-direction: column;align-items: center;background-color: white;padding-right: 0.2em;padding-left: 0.2em;position: relative;}#sk-container-id-1 div.sk-item {position: relative;z-index: 1;}#sk-container-id-1 div.sk-parallel {display: flex;align-items: stretch;justify-content: center;background-color: white;position: relative;}#sk-container-id-1 div.sk-item::before, #sk-container-id-1 div.sk-parallel-item::before {content: \"\";position: absolute;border-left: 1px solid gray;box-sizing: border-box;top: 0;bottom: 0;left: 50%;z-index: -1;}#sk-container-id-1 div.sk-parallel-item {display: flex;flex-direction: column;z-index: 1;position: relative;background-color: white;}#sk-container-id-1 div.sk-parallel-item:first-child::after {align-self: flex-end;width: 50%;}#sk-container-id-1 div.sk-parallel-item:last-child::after {align-self: flex-start;width: 50%;}#sk-container-id-1 div.sk-parallel-item:only-child::after {width: 0;}#sk-container-id-1 div.sk-dashed-wrapped {border: 1px dashed gray;margin: 0 0.4em 0.5em 0.4em;box-sizing: border-box;padding-bottom: 0.4em;background-color: white;}#sk-container-id-1 div.sk-label label {font-family: monospace;font-weight: bold;display: inline-block;line-height: 1.2em;}#sk-container-id-1 div.sk-label-container {text-align: center;}#sk-container-id-1 div.sk-container {/* jupyter's `normalize.less` sets `[hidden] { display: none; }` but bootstrap.min.css set `[hidden] { display: none !important; }` so we also need the `!important` here to be able to override the default hidden behavior on the sphinx rendered scikit-learn.org. See: https://github.com/scikit-learn/scikit-learn/issues/21755 */display: inline-block !important;position: relative;}#sk-container-id-1 div.sk-text-repr-fallback {display: none;}</style><div id=\"sk-container-id-1\" class=\"sk-top-container\"><div class=\"sk-text-repr-fallback\"><pre>Pipeline(steps=[(&#x27;scale&#x27;, None),\n",
       "                (&#x27;model&#x27;,\n",
       "                 LogisticRegression(l1_ratio=0.5, penalty=&#x27;elasticnet&#x27;,\n",
       "                                    solver=&#x27;saga&#x27;))])</pre><b>In a Jupyter environment, please rerun this cell to show the HTML representation or trust the notebook. <br />On GitHub, the HTML representation is unable to render, please try loading this page with nbviewer.org.</b></div><div class=\"sk-container\" hidden><div class=\"sk-item sk-dashed-wrapped\"><div class=\"sk-label-container\"><div class=\"sk-label sk-toggleable\"><input class=\"sk-toggleable__control sk-hidden--visually\" id=\"sk-estimator-id-1\" type=\"checkbox\" ><label for=\"sk-estimator-id-1\" class=\"sk-toggleable__label sk-toggleable__label-arrow\">Pipeline</label><div class=\"sk-toggleable__content\"><pre>Pipeline(steps=[(&#x27;scale&#x27;, None),\n",
       "                (&#x27;model&#x27;,\n",
       "                 LogisticRegression(l1_ratio=0.5, penalty=&#x27;elasticnet&#x27;,\n",
       "                                    solver=&#x27;saga&#x27;))])</pre></div></div></div><div class=\"sk-serial\"><div class=\"sk-item\"><div class=\"sk-estimator sk-toggleable\"><input class=\"sk-toggleable__control sk-hidden--visually\" id=\"sk-estimator-id-2\" type=\"checkbox\" ><label for=\"sk-estimator-id-2\" class=\"sk-toggleable__label sk-toggleable__label-arrow\">None</label><div class=\"sk-toggleable__content\"><pre>None</pre></div></div></div><div class=\"sk-item\"><div class=\"sk-estimator sk-toggleable\"><input class=\"sk-toggleable__control sk-hidden--visually\" id=\"sk-estimator-id-3\" type=\"checkbox\" ><label for=\"sk-estimator-id-3\" class=\"sk-toggleable__label sk-toggleable__label-arrow\">LogisticRegression</label><div class=\"sk-toggleable__content\"><pre>LogisticRegression(l1_ratio=0.5, penalty=&#x27;elasticnet&#x27;, solver=&#x27;saga&#x27;)</pre></div></div></div></div></div></div></div>"
      ],
      "text/plain": [
       "Pipeline(steps=[('scale', None),\n",
       "                ('model',\n",
       "                 LogisticRegression(l1_ratio=0.5, penalty='elasticnet',\n",
       "                                    solver='saga'))])"
      ]
     },
     "execution_count": 32,
     "metadata": {},
     "output_type": "execute_result"
    }
   ],
   "source": [
    "model.fit(X_train, y_train.values.ravel())"
   ]
  },
  {
   "cell_type": "code",
   "execution_count": 33,
   "id": "af59f8c0",
   "metadata": {
    "execution": {
     "iopub.execute_input": "2025-08-05T15:20:29.047237Z",
     "iopub.status.busy": "2025-08-05T15:20:29.046742Z",
     "iopub.status.idle": "2025-08-05T15:20:29.052692Z",
     "shell.execute_reply": "2025-08-05T15:20:29.051457Z"
    },
    "papermill": {
     "duration": 0.028406,
     "end_time": "2025-08-05T15:20:29.054571",
     "exception": false,
     "start_time": "2025-08-05T15:20:29.026165",
     "status": "completed"
    },
    "tags": []
   },
   "outputs": [],
   "source": [
    "from fairness_multiverse.universe import predict_w_threshold"
   ]
  },
  {
   "cell_type": "code",
   "execution_count": 34,
   "id": "a7cf2e16",
   "metadata": {
    "execution": {
     "iopub.execute_input": "2025-08-05T15:20:29.100257Z",
     "iopub.status.busy": "2025-08-05T15:20:29.099726Z",
     "iopub.status.idle": "2025-08-05T15:20:29.232669Z",
     "shell.execute_reply": "2025-08-05T15:20:29.231822Z"
    },
    "papermill": {
     "duration": 0.159902,
     "end_time": "2025-08-05T15:20:29.235068",
     "exception": false,
     "start_time": "2025-08-05T15:20:29.075166",
     "status": "completed"
    },
    "tags": []
   },
   "outputs": [
    {
     "data": {
      "text/plain": [
       "0.8664140006688218"
      ]
     },
     "execution_count": 34,
     "metadata": {},
     "output_type": "execute_result"
    }
   ],
   "source": [
    "probs_test = model.predict_proba(X_test)\n",
    "\n",
    "'''\n",
    "Below code returns a boolean array (or binary 0/1 array depending on how it’s used) where each element \n",
    "is True if the probability of class 1 is greater than or equal to the threshold, and False otherwise.\n",
    "'''\n",
    "y_pred_default = predict_w_threshold(probs_test, 0.5)\n",
    "\n",
    "from sklearn.metrics import accuracy_score\n",
    "\n",
    "# Naive prediction\n",
    "accuracy_score(y_true = y_true, y_pred = y_pred_default)"
   ]
  },
  {
   "cell_type": "code",
   "execution_count": 35,
   "id": "081964c3",
   "metadata": {
    "execution": {
     "iopub.execute_input": "2025-08-05T15:20:29.287405Z",
     "iopub.status.busy": "2025-08-05T15:20:29.286887Z",
     "iopub.status.idle": "2025-08-05T15:20:29.369638Z",
     "shell.execute_reply": "2025-08-05T15:20:29.368433Z"
    },
    "papermill": {
     "duration": 0.111638,
     "end_time": "2025-08-05T15:20:29.371702",
     "exception": false,
     "start_time": "2025-08-05T15:20:29.260064",
     "status": "completed"
    },
    "tags": []
   },
   "outputs": [
    {
     "data": {
      "text/plain": [
       "array([0, 0, 0, ..., 0, 0, 0])"
      ]
     },
     "execution_count": 35,
     "metadata": {},
     "output_type": "execute_result"
    }
   ],
   "source": [
    "model.predict(X_test)"
   ]
  },
  {
   "cell_type": "markdown",
   "id": "56c9705b",
   "metadata": {
    "papermill": {
     "duration": 0.025715,
     "end_time": "2025-08-05T15:20:29.423630",
     "exception": false,
     "start_time": "2025-08-05T15:20:29.397915",
     "status": "completed"
    },
    "tags": []
   },
   "source": [
    "# Conformal Prediction"
   ]
  },
  {
   "cell_type": "code",
   "execution_count": 36,
   "id": "160ec6ff",
   "metadata": {
    "execution": {
     "iopub.execute_input": "2025-08-05T15:20:29.477336Z",
     "iopub.status.busy": "2025-08-05T15:20:29.476724Z",
     "iopub.status.idle": "2025-08-05T15:20:29.484184Z",
     "shell.execute_reply": "2025-08-05T15:20:29.482871Z"
    },
    "papermill": {
     "duration": 0.03678,
     "end_time": "2025-08-05T15:20:29.486633",
     "exception": false,
     "start_time": "2025-08-05T15:20:29.449853",
     "status": "completed"
    },
    "tags": []
   },
   "outputs": [],
   "source": [
    "# Miscoverage level for conformal prediction (10% allowed error rate => 90% target coverage)\n",
    "alpha = 0.1"
   ]
  },
  {
   "cell_type": "code",
   "execution_count": 37,
   "id": "eadf4555-3dd3-440e-8e35-f82a4ad9f855",
   "metadata": {
    "execution": {
     "iopub.execute_input": "2025-08-05T15:20:29.540015Z",
     "iopub.status.busy": "2025-08-05T15:20:29.539249Z",
     "iopub.status.idle": "2025-08-05T15:20:29.649042Z",
     "shell.execute_reply": "2025-08-05T15:20:29.647839Z"
    },
    "papermill": {
     "duration": 0.138448,
     "end_time": "2025-08-05T15:20:29.651413",
     "exception": false,
     "start_time": "2025-08-05T15:20:29.512965",
     "status": "completed"
    },
    "tags": []
   },
   "outputs": [],
   "source": [
    "probs_calib = model.predict_proba(X_calib)"
   ]
  },
  {
   "cell_type": "code",
   "execution_count": 38,
   "id": "2ed93547-6d5d-4983-9b36-1ecb300da49a",
   "metadata": {
    "execution": {
     "iopub.execute_input": "2025-08-05T15:20:29.695201Z",
     "iopub.status.busy": "2025-08-05T15:20:29.694240Z",
     "iopub.status.idle": "2025-08-05T15:20:29.700365Z",
     "shell.execute_reply": "2025-08-05T15:20:29.699285Z"
    },
    "papermill": {
     "duration": 0.030604,
     "end_time": "2025-08-05T15:20:29.702762",
     "exception": false,
     "start_time": "2025-08-05T15:20:29.672158",
     "status": "completed"
    },
    "tags": []
   },
   "outputs": [],
   "source": [
    "y_calib = y_calib.values.ravel().astype(int)"
   ]
  },
  {
   "cell_type": "code",
   "execution_count": 39,
   "id": "65d1320d-f588-4b38-9072-62af1ae97f7d",
   "metadata": {
    "execution": {
     "iopub.execute_input": "2025-08-05T15:20:29.757975Z",
     "iopub.status.busy": "2025-08-05T15:20:29.757142Z",
     "iopub.status.idle": "2025-08-05T15:20:29.765912Z",
     "shell.execute_reply": "2025-08-05T15:20:29.764591Z"
    },
    "papermill": {
     "duration": 0.038838,
     "end_time": "2025-08-05T15:20:29.767875",
     "exception": false,
     "start_time": "2025-08-05T15:20:29.729037",
     "status": "completed"
    },
    "tags": []
   },
   "outputs": [],
   "source": [
    "from fairness_multiverse.conformal import compute_nc_scores\n",
    "\n",
    "# Compute nonconformity scores on calibration set (1 - probability of true class)\n",
    "nc_scores = compute_nc_scores(probs_calib, y_calib)"
   ]
  },
  {
   "cell_type": "code",
   "execution_count": 40,
   "id": "df3b8ca3-53b7-43d5-9667-7c85da7aeda2",
   "metadata": {
    "execution": {
     "iopub.execute_input": "2025-08-05T15:20:29.830299Z",
     "iopub.status.busy": "2025-08-05T15:20:29.829426Z",
     "iopub.status.idle": "2025-08-05T15:20:29.838815Z",
     "shell.execute_reply": "2025-08-05T15:20:29.837326Z"
    },
    "papermill": {
     "duration": 0.042462,
     "end_time": "2025-08-05T15:20:29.841180",
     "exception": false,
     "start_time": "2025-08-05T15:20:29.798718",
     "status": "completed"
    },
    "tags": []
   },
   "outputs": [],
   "source": [
    "from fairness_multiverse.conformal import find_threshold\n",
    "\n",
    "# Find conformal threshold q_hat for the given alpha (split conformal method)\n",
    "q_hat = find_threshold(nc_scores, alpha)"
   ]
  },
  {
   "cell_type": "code",
   "execution_count": 41,
   "id": "4d29e6c1-0ef6-4aa4-b8fe-4fe79b0d033a",
   "metadata": {
    "execution": {
     "iopub.execute_input": "2025-08-05T15:20:29.890241Z",
     "iopub.status.busy": "2025-08-05T15:20:29.889188Z",
     "iopub.status.idle": "2025-08-05T15:20:29.898631Z",
     "shell.execute_reply": "2025-08-05T15:20:29.897485Z"
    },
    "papermill": {
     "duration": 0.035852,
     "end_time": "2025-08-05T15:20:29.900591",
     "exception": false,
     "start_time": "2025-08-05T15:20:29.864739",
     "status": "completed"
    },
    "tags": []
   },
   "outputs": [
    {
     "data": {
      "text/plain": [
       "0.6776691824979606"
      ]
     },
     "execution_count": 41,
     "metadata": {},
     "output_type": "execute_result"
    }
   ],
   "source": [
    "q_hat"
   ]
  },
  {
   "cell_type": "code",
   "execution_count": 42,
   "id": "92460794-cdac-4be2-ba28-f28c0515a6fb",
   "metadata": {
    "execution": {
     "iopub.execute_input": "2025-08-05T15:20:29.949374Z",
     "iopub.status.busy": "2025-08-05T15:20:29.948469Z",
     "iopub.status.idle": "2025-08-05T15:20:30.783307Z",
     "shell.execute_reply": "2025-08-05T15:20:30.782226Z"
    },
    "papermill": {
     "duration": 0.861746,
     "end_time": "2025-08-05T15:20:30.785837",
     "exception": false,
     "start_time": "2025-08-05T15:20:29.924091",
     "status": "completed"
    },
    "tags": []
   },
   "outputs": [],
   "source": [
    "from fairness_multiverse.conformal import predict_conformal_sets\n",
    "\n",
    "# Generate prediction sets for each test example\n",
    "pred_sets = predict_conformal_sets(model, X_test, q_hat)"
   ]
  },
  {
   "cell_type": "code",
   "execution_count": 43,
   "id": "d90c9a65-e6db-4f5d-80cd-e68fb7e46829",
   "metadata": {
    "execution": {
     "iopub.execute_input": "2025-08-05T15:20:30.839083Z",
     "iopub.status.busy": "2025-08-05T15:20:30.838213Z",
     "iopub.status.idle": "2025-08-05T15:20:30.844818Z",
     "shell.execute_reply": "2025-08-05T15:20:30.843718Z"
    },
    "papermill": {
     "duration": 0.032744,
     "end_time": "2025-08-05T15:20:30.847093",
     "exception": false,
     "start_time": "2025-08-05T15:20:30.814349",
     "status": "completed"
    },
    "tags": []
   },
   "outputs": [],
   "source": [
    "y_true = y_true.squeeze()"
   ]
  },
  {
   "cell_type": "code",
   "execution_count": 44,
   "id": "3a58a54a-1e68-46b9-927a-df01f18aebc8",
   "metadata": {
    "execution": {
     "iopub.execute_input": "2025-08-05T15:20:30.896554Z",
     "iopub.status.busy": "2025-08-05T15:20:30.896016Z",
     "iopub.status.idle": "2025-08-05T15:20:31.559230Z",
     "shell.execute_reply": "2025-08-05T15:20:31.558216Z"
    },
    "papermill": {
     "duration": 0.68948,
     "end_time": "2025-08-05T15:20:31.561316",
     "exception": false,
     "start_time": "2025-08-05T15:20:30.871836",
     "status": "completed"
    },
    "tags": []
   },
   "outputs": [],
   "source": [
    "from fairness_multiverse.conformal import evaluate_sets\n",
    "\n",
    "# Evaluate coverage and average set size on test data\n",
    "metrics = evaluate_sets(pred_sets, y_true)"
   ]
  },
  {
   "cell_type": "markdown",
   "id": "2b569c12-9aaa-4c88-98c9-bbcd0cf3ebb8",
   "metadata": {
    "papermill": {
     "duration": 0.02227,
     "end_time": "2025-08-05T15:20:31.608186",
     "exception": false,
     "start_time": "2025-08-05T15:20:31.585916",
     "status": "completed"
    },
    "tags": []
   },
   "source": [
    "# CP Metrics"
   ]
  },
  {
   "cell_type": "code",
   "execution_count": 45,
   "id": "5ce0a5cb-201f-45a0-ade5-94c7f0bd6095",
   "metadata": {
    "execution": {
     "iopub.execute_input": "2025-08-05T15:20:31.653884Z",
     "iopub.status.busy": "2025-08-05T15:20:31.652656Z",
     "iopub.status.idle": "2025-08-05T15:20:31.662369Z",
     "shell.execute_reply": "2025-08-05T15:20:31.660855Z"
    },
    "papermill": {
     "duration": 0.0344,
     "end_time": "2025-08-05T15:20:31.664292",
     "exception": false,
     "start_time": "2025-08-05T15:20:31.629892",
     "status": "completed"
    },
    "tags": []
   },
   "outputs": [
    {
     "data": {
      "text/plain": [
       "{'coverage': 0.913610522795675, 'avg_size': 1.26369412551555}"
      ]
     },
     "execution_count": 45,
     "metadata": {},
     "output_type": "execute_result"
    }
   ],
   "source": [
    "metrics"
   ]
  },
  {
   "cell_type": "code",
   "execution_count": 46,
   "id": "9b9a838d-31c9-430b-ae14-12baee460d17",
   "metadata": {
    "execution": {
     "iopub.execute_input": "2025-08-05T15:20:31.706506Z",
     "iopub.status.busy": "2025-08-05T15:20:31.705903Z",
     "iopub.status.idle": "2025-08-05T15:20:31.712663Z",
     "shell.execute_reply": "2025-08-05T15:20:31.711701Z"
    },
    "papermill": {
     "duration": 0.028984,
     "end_time": "2025-08-05T15:20:31.714309",
     "exception": false,
     "start_time": "2025-08-05T15:20:31.685325",
     "status": "completed"
    },
    "tags": []
   },
   "outputs": [],
   "source": [
    "example_universe = universe.copy()\n",
    "universe_training_year = example_universe.get(\"training_year\")\n",
    "universe_training_size = example_universe.get(\"training_size\")\n",
    "universe_scale = example_universe.get(\"scale\")\n",
    "universe_model = example_universe.get(\"model\")\n",
    "universe_exclude_features = example_universe.get(\"exclude_features\")\n",
    "universe_exclude_subgroups = example_universe.get(\"exclude_subgroups\")"
   ]
  },
  {
   "cell_type": "code",
   "execution_count": 47,
   "id": "f4b6a8ac-9dc0-4245-8a91-5b3b5999c4f9",
   "metadata": {
    "execution": {
     "iopub.execute_input": "2025-08-05T15:20:31.765174Z",
     "iopub.status.busy": "2025-08-05T15:20:31.764518Z",
     "iopub.status.idle": "2025-08-05T15:20:31.772215Z",
     "shell.execute_reply": "2025-08-05T15:20:31.771162Z"
    },
    "papermill": {
     "duration": 0.037173,
     "end_time": "2025-08-05T15:20:31.774353",
     "exception": false,
     "start_time": "2025-08-05T15:20:31.737180",
     "status": "completed"
    },
    "tags": []
   },
   "outputs": [],
   "source": [
    "cp_metrics_dict = {\n",
    "    \"universe_id\": [universe_id],\n",
    "    \"universe_training_year\": [universe_training_year],\n",
    "    \"universe_training_size\": [universe_training_size],\n",
    "    \"universe_scale\": [universe_scale],\n",
    "    \"universe_model\": [universe_model],\n",
    "    \"universe_exclude_features\": [universe_exclude_features],\n",
    "    \"universe_exclude_subgroups\": [universe_exclude_subgroups],\n",
    "    \"q_hat\": [q_hat],\n",
    "    \"coverage\": [metrics[\"coverage\"]],\n",
    "    \"avg_size\": [metrics[\"avg_size\"]],\n",
    "}"
   ]
  },
  {
   "cell_type": "code",
   "execution_count": 48,
   "id": "908acbb1-0371-4915-85ca-3fa520d2efe2",
   "metadata": {
    "execution": {
     "iopub.execute_input": "2025-08-05T15:20:31.817158Z",
     "iopub.status.busy": "2025-08-05T15:20:31.816651Z",
     "iopub.status.idle": "2025-08-05T15:20:31.823747Z",
     "shell.execute_reply": "2025-08-05T15:20:31.823087Z"
    },
    "papermill": {
     "duration": 0.028008,
     "end_time": "2025-08-05T15:20:31.824994",
     "exception": false,
     "start_time": "2025-08-05T15:20:31.796986",
     "status": "completed"
    },
    "tags": []
   },
   "outputs": [
    {
     "data": {
      "text/plain": [
       "{'universe_id': ['34328b5d855056acfdd5e0acc491617a'],\n",
       " 'universe_training_year': ['2010_14'],\n",
       " 'universe_training_size': ['25k'],\n",
       " 'universe_scale': ['do-not-scale'],\n",
       " 'universe_model': ['elasticnet'],\n",
       " 'universe_exclude_features': ['age'],\n",
       " 'universe_exclude_subgroups': ['keep-all'],\n",
       " 'q_hat': [0.6776691824979606],\n",
       " 'coverage': [0.913610522795675],\n",
       " 'avg_size': [1.26369412551555]}"
      ]
     },
     "execution_count": 48,
     "metadata": {},
     "output_type": "execute_result"
    }
   ],
   "source": [
    "cp_metrics_dict"
   ]
  },
  {
   "cell_type": "code",
   "execution_count": 49,
   "id": "33007efc-14e9-4ec6-97ac-56a455c82265",
   "metadata": {
    "execution": {
     "iopub.execute_input": "2025-08-05T15:20:31.868654Z",
     "iopub.status.busy": "2025-08-05T15:20:31.868153Z",
     "iopub.status.idle": "2025-08-05T15:20:31.917455Z",
     "shell.execute_reply": "2025-08-05T15:20:31.916374Z"
    },
    "papermill": {
     "duration": 0.07619,
     "end_time": "2025-08-05T15:20:31.919889",
     "exception": false,
     "start_time": "2025-08-05T15:20:31.843699",
     "status": "completed"
    },
    "tags": []
   },
   "outputs": [],
   "source": [
    "cp_metrics_df = pd.DataFrame(cp_metrics_dict)"
   ]
  },
  {
   "cell_type": "code",
   "execution_count": 50,
   "id": "db12611b-57b2-4910-b9d0-355adfd6e7bf",
   "metadata": {
    "execution": {
     "iopub.execute_input": "2025-08-05T15:20:31.965761Z",
     "iopub.status.busy": "2025-08-05T15:20:31.965217Z",
     "iopub.status.idle": "2025-08-05T15:20:31.984523Z",
     "shell.execute_reply": "2025-08-05T15:20:31.983346Z"
    },
    "papermill": {
     "duration": 0.043128,
     "end_time": "2025-08-05T15:20:31.986650",
     "exception": false,
     "start_time": "2025-08-05T15:20:31.943522",
     "status": "completed"
    },
    "tags": []
   },
   "outputs": [
    {
     "data": {
      "text/html": [
       "<div>\n",
       "<style scoped>\n",
       "    .dataframe tbody tr th:only-of-type {\n",
       "        vertical-align: middle;\n",
       "    }\n",
       "\n",
       "    .dataframe tbody tr th {\n",
       "        vertical-align: top;\n",
       "    }\n",
       "\n",
       "    .dataframe thead th {\n",
       "        text-align: right;\n",
       "    }\n",
       "</style>\n",
       "<table border=\"1\" class=\"dataframe\">\n",
       "  <thead>\n",
       "    <tr style=\"text-align: right;\">\n",
       "      <th></th>\n",
       "      <th>universe_id</th>\n",
       "      <th>universe_training_year</th>\n",
       "      <th>universe_training_size</th>\n",
       "      <th>universe_scale</th>\n",
       "      <th>universe_model</th>\n",
       "      <th>universe_exclude_features</th>\n",
       "      <th>universe_exclude_subgroups</th>\n",
       "      <th>q_hat</th>\n",
       "      <th>coverage</th>\n",
       "      <th>avg_size</th>\n",
       "    </tr>\n",
       "  </thead>\n",
       "  <tbody>\n",
       "    <tr>\n",
       "      <th>0</th>\n",
       "      <td>34328b5d855056acfdd5e0acc491617a</td>\n",
       "      <td>2010_14</td>\n",
       "      <td>25k</td>\n",
       "      <td>do-not-scale</td>\n",
       "      <td>elasticnet</td>\n",
       "      <td>age</td>\n",
       "      <td>keep-all</td>\n",
       "      <td>0.677669</td>\n",
       "      <td>0.913611</td>\n",
       "      <td>1.263694</td>\n",
       "    </tr>\n",
       "  </tbody>\n",
       "</table>\n",
       "</div>"
      ],
      "text/plain": [
       "                        universe_id universe_training_year  \\\n",
       "0  34328b5d855056acfdd5e0acc491617a                2010_14   \n",
       "\n",
       "  universe_training_size universe_scale universe_model  \\\n",
       "0                    25k   do-not-scale     elasticnet   \n",
       "\n",
       "  universe_exclude_features universe_exclude_subgroups     q_hat  coverage  \\\n",
       "0                       age                   keep-all  0.677669  0.913611   \n",
       "\n",
       "   avg_size  \n",
       "0  1.263694  "
      ]
     },
     "execution_count": 50,
     "metadata": {},
     "output_type": "execute_result"
    }
   ],
   "source": [
    "cp_metrics_df"
   ]
  },
  {
   "cell_type": "code",
   "execution_count": 51,
   "id": "b7fbde55-a0a1-47e4-9af6-fe4a17fa8c61",
   "metadata": {
    "execution": {
     "iopub.execute_input": "2025-08-05T15:20:32.031111Z",
     "iopub.status.busy": "2025-08-05T15:20:32.030695Z",
     "iopub.status.idle": "2025-08-05T15:20:32.040559Z",
     "shell.execute_reply": "2025-08-05T15:20:32.039867Z"
    },
    "papermill": {
     "duration": 0.036108,
     "end_time": "2025-08-05T15:20:32.042079",
     "exception": false,
     "start_time": "2025-08-05T15:20:32.005971",
     "status": "completed"
    },
    "tags": []
   },
   "outputs": [],
   "source": [
    "# Conditional Coverage & looking at subgroups"
   ]
  },
  {
   "cell_type": "code",
   "execution_count": 52,
   "id": "027ae886-68dd-4141-96c7-805a5450e1ef",
   "metadata": {
    "execution": {
     "iopub.execute_input": "2025-08-05T15:20:32.088731Z",
     "iopub.status.busy": "2025-08-05T15:20:32.088371Z",
     "iopub.status.idle": "2025-08-05T15:20:32.328106Z",
     "shell.execute_reply": "2025-08-05T15:20:32.327359Z"
    },
    "papermill": {
     "duration": 0.264901,
     "end_time": "2025-08-05T15:20:32.329482",
     "exception": false,
     "start_time": "2025-08-05T15:20:32.064581",
     "status": "completed"
    },
    "tags": []
   },
   "outputs": [],
   "source": [
    "from fairness_multiverse.conformal import build_cp_groups\n",
    "\n",
    "cp_groups_df = build_cp_groups(pred_sets, y_true, X_test.index, org_test)\n",
    "#needs universe_id and setting"
   ]
  },
  {
   "cell_type": "code",
   "execution_count": 53,
   "id": "6cbdab96-b2b2-45af-ad54-d0516db2e28d",
   "metadata": {
    "execution": {
     "iopub.execute_input": "2025-08-05T15:20:32.370275Z",
     "iopub.status.busy": "2025-08-05T15:20:32.369797Z",
     "iopub.status.idle": "2025-08-05T15:20:33.786686Z",
     "shell.execute_reply": "2025-08-05T15:20:33.785923Z"
    },
    "papermill": {
     "duration": 1.441479,
     "end_time": "2025-08-05T15:20:33.788163",
     "exception": false,
     "start_time": "2025-08-05T15:20:32.346684",
     "status": "completed"
    },
    "tags": []
   },
   "outputs": [],
   "source": [
    "# Define covered = 1 if true_label is in the predicted set\n",
    "cp_groups_df['covered'] = cp_groups_df.apply(\n",
    "    lambda r: int(r['true_label'] in r['pred_set']),\n",
    "    axis=1\n",
    ")"
   ]
  },
  {
   "cell_type": "code",
   "execution_count": 54,
   "id": "338ff529-1a6b-4b87-a931-8e4788d52aad",
   "metadata": {
    "execution": {
     "iopub.execute_input": "2025-08-05T15:20:33.816319Z",
     "iopub.status.busy": "2025-08-05T15:20:33.816028Z",
     "iopub.status.idle": "2025-08-05T15:20:33.820228Z",
     "shell.execute_reply": "2025-08-05T15:20:33.819330Z"
    },
    "papermill": {
     "duration": 0.018956,
     "end_time": "2025-08-05T15:20:33.821742",
     "exception": false,
     "start_time": "2025-08-05T15:20:33.802786",
     "status": "completed"
    },
    "tags": []
   },
   "outputs": [],
   "source": [
    "#cp_groups_df"
   ]
  },
  {
   "cell_type": "code",
   "execution_count": 55,
   "id": "90032e27-66df-4540-9169-4e89cfbaa758",
   "metadata": {
    "execution": {
     "iopub.execute_input": "2025-08-05T15:20:33.866594Z",
     "iopub.status.busy": "2025-08-05T15:20:33.865411Z",
     "iopub.status.idle": "2025-08-05T15:20:33.878479Z",
     "shell.execute_reply": "2025-08-05T15:20:33.877215Z"
    },
    "papermill": {
     "duration": 0.043211,
     "end_time": "2025-08-05T15:20:33.880873",
     "exception": false,
     "start_time": "2025-08-05T15:20:33.837662",
     "status": "completed"
    },
    "tags": []
   },
   "outputs": [],
   "source": [
    "subgroups = ['frau1','nongerman','nongerman_male','nongerman_female']\n",
    "\n",
    "# Conditional coverage for subgroup==1\n",
    "cond_coverage = {\n",
    "    g: cp_groups_df.loc[cp_groups_df[g]==1, 'covered'].mean()\n",
    "    for g in subgroups\n",
    "}"
   ]
  },
  {
   "cell_type": "code",
   "execution_count": 56,
   "id": "1e348fb1-b9c3-45bc-ba23-f016827a7e0d",
   "metadata": {
    "execution": {
     "iopub.execute_input": "2025-08-05T15:20:33.943545Z",
     "iopub.status.busy": "2025-08-05T15:20:33.943007Z",
     "iopub.status.idle": "2025-08-05T15:20:33.950144Z",
     "shell.execute_reply": "2025-08-05T15:20:33.949296Z"
    },
    "papermill": {
     "duration": 0.039027,
     "end_time": "2025-08-05T15:20:33.951434",
     "exception": false,
     "start_time": "2025-08-05T15:20:33.912407",
     "status": "completed"
    },
    "tags": []
   },
   "outputs": [
    {
     "data": {
      "text/plain": [
       "{'frau1': 0.9126566922765872,\n",
       " 'nongerman': 0.9650255431426487,\n",
       " 'nongerman_male': 0.9716292893812483,\n",
       " 'nongerman_female': 0.9540983606557377}"
      ]
     },
     "execution_count": 56,
     "metadata": {},
     "output_type": "execute_result"
    }
   ],
   "source": [
    "cond_coverage"
   ]
  },
  {
   "cell_type": "code",
   "execution_count": 57,
   "id": "f5093324-c3dd-4d63-bc4c-8d945e5c8bbb",
   "metadata": {
    "execution": {
     "iopub.execute_input": "2025-08-05T15:20:33.981501Z",
     "iopub.status.busy": "2025-08-05T15:20:33.980999Z",
     "iopub.status.idle": "2025-08-05T15:20:33.996602Z",
     "shell.execute_reply": "2025-08-05T15:20:33.995537Z"
    },
    "papermill": {
     "duration": 0.033339,
     "end_time": "2025-08-05T15:20:33.998446",
     "exception": false,
     "start_time": "2025-08-05T15:20:33.965107",
     "status": "completed"
    },
    "tags": []
   },
   "outputs": [],
   "source": [
    "for subgroup, cov in cond_coverage.items():\n",
    "    cp_metrics_df[f\"cov_{subgroup}\"] = cov"
   ]
  },
  {
   "cell_type": "code",
   "execution_count": 58,
   "id": "6e872e10-dbe5-49e8-b554-5030c98ff75d",
   "metadata": {
    "execution": {
     "iopub.execute_input": "2025-08-05T15:20:34.026283Z",
     "iopub.status.busy": "2025-08-05T15:20:34.025757Z",
     "iopub.status.idle": "2025-08-05T15:20:34.045168Z",
     "shell.execute_reply": "2025-08-05T15:20:34.044006Z"
    },
    "papermill": {
     "duration": 0.035583,
     "end_time": "2025-08-05T15:20:34.046893",
     "exception": false,
     "start_time": "2025-08-05T15:20:34.011310",
     "status": "completed"
    },
    "tags": []
   },
   "outputs": [
    {
     "data": {
      "text/html": [
       "<div>\n",
       "<style scoped>\n",
       "    .dataframe tbody tr th:only-of-type {\n",
       "        vertical-align: middle;\n",
       "    }\n",
       "\n",
       "    .dataframe tbody tr th {\n",
       "        vertical-align: top;\n",
       "    }\n",
       "\n",
       "    .dataframe thead th {\n",
       "        text-align: right;\n",
       "    }\n",
       "</style>\n",
       "<table border=\"1\" class=\"dataframe\">\n",
       "  <thead>\n",
       "    <tr style=\"text-align: right;\">\n",
       "      <th></th>\n",
       "      <th>universe_id</th>\n",
       "      <th>universe_training_year</th>\n",
       "      <th>universe_training_size</th>\n",
       "      <th>universe_scale</th>\n",
       "      <th>universe_model</th>\n",
       "      <th>universe_exclude_features</th>\n",
       "      <th>universe_exclude_subgroups</th>\n",
       "      <th>q_hat</th>\n",
       "      <th>coverage</th>\n",
       "      <th>avg_size</th>\n",
       "      <th>cov_frau1</th>\n",
       "      <th>cov_nongerman</th>\n",
       "      <th>cov_nongerman_male</th>\n",
       "      <th>cov_nongerman_female</th>\n",
       "    </tr>\n",
       "  </thead>\n",
       "  <tbody>\n",
       "    <tr>\n",
       "      <th>0</th>\n",
       "      <td>34328b5d855056acfdd5e0acc491617a</td>\n",
       "      <td>2010_14</td>\n",
       "      <td>25k</td>\n",
       "      <td>do-not-scale</td>\n",
       "      <td>elasticnet</td>\n",
       "      <td>age</td>\n",
       "      <td>keep-all</td>\n",
       "      <td>0.677669</td>\n",
       "      <td>0.913611</td>\n",
       "      <td>1.263694</td>\n",
       "      <td>0.912657</td>\n",
       "      <td>0.965026</td>\n",
       "      <td>0.971629</td>\n",
       "      <td>0.954098</td>\n",
       "    </tr>\n",
       "  </tbody>\n",
       "</table>\n",
       "</div>"
      ],
      "text/plain": [
       "                        universe_id universe_training_year  \\\n",
       "0  34328b5d855056acfdd5e0acc491617a                2010_14   \n",
       "\n",
       "  universe_training_size universe_scale universe_model  \\\n",
       "0                    25k   do-not-scale     elasticnet   \n",
       "\n",
       "  universe_exclude_features universe_exclude_subgroups     q_hat  coverage  \\\n",
       "0                       age                   keep-all  0.677669  0.913611   \n",
       "\n",
       "   avg_size  cov_frau1  cov_nongerman  cov_nongerman_male  \\\n",
       "0  1.263694   0.912657       0.965026            0.971629   \n",
       "\n",
       "   cov_nongerman_female  \n",
       "0              0.954098  "
      ]
     },
     "execution_count": 58,
     "metadata": {},
     "output_type": "execute_result"
    }
   ],
   "source": [
    "cp_metrics_df"
   ]
  },
  {
   "cell_type": "markdown",
   "id": "33774451",
   "metadata": {
    "papermill": {
     "duration": 0.024208,
     "end_time": "2025-08-05T15:20:34.096407",
     "exception": false,
     "start_time": "2025-08-05T15:20:34.072199",
     "status": "completed"
    },
    "tags": []
   },
   "source": [
    "# (Fairness) Metrics"
   ]
  },
  {
   "cell_type": "code",
   "execution_count": 59,
   "id": "debc5d62",
   "metadata": {
    "execution": {
     "iopub.execute_input": "2025-08-05T15:20:34.148990Z",
     "iopub.status.busy": "2025-08-05T15:20:34.147845Z",
     "iopub.status.idle": "2025-08-05T15:20:34.171470Z",
     "shell.execute_reply": "2025-08-05T15:20:34.170376Z"
    },
    "papermill": {
     "duration": 0.051587,
     "end_time": "2025-08-05T15:20:34.173587",
     "exception": false,
     "start_time": "2025-08-05T15:20:34.122000",
     "status": "completed"
    },
    "tags": []
   },
   "outputs": [],
   "source": [
    "# do I need to include maxdeutsch1.missing?\n",
    "\n",
    "import numpy as np\n",
    "\n",
    "colname_to_bin = \"maxdeutsch1\"\n",
    "majority_value = org_train[colname_to_bin].mode()[0]\n",
    "\n",
    "org_test[\"majmin\"] = np.where(org_test[colname_to_bin] == majority_value, \"majority\", \"minority\")"
   ]
  },
  {
   "cell_type": "code",
   "execution_count": 60,
   "id": "06a50de5",
   "metadata": {
    "execution": {
     "iopub.execute_input": "2025-08-05T15:20:34.240169Z",
     "iopub.status.busy": "2025-08-05T15:20:34.238742Z",
     "iopub.status.idle": "2025-08-05T15:20:36.257501Z",
     "shell.execute_reply": "2025-08-05T15:20:36.256488Z"
    },
    "papermill": {
     "duration": 2.053284,
     "end_time": "2025-08-05T15:20:36.259378",
     "exception": false,
     "start_time": "2025-08-05T15:20:34.206094",
     "status": "completed"
    },
    "tags": []
   },
   "outputs": [],
   "source": [
    "example_universe = universe.copy()\n",
    "example_universe[\"cutoff\"] = example_universe[\"cutoff\"][0]\n",
    "example_universe[\"eval_fairness_grouping\"] = example_universe[\"eval_fairness_grouping\"][0]\n",
    "fairness_dict, metric_frame = universe_analysis.compute_metrics(\n",
    "    example_universe,\n",
    "    y_pred_prob=probs_test,\n",
    "    y_test=y_true,\n",
    "    org_test=org_test,\n",
    ")"
   ]
  },
  {
   "cell_type": "markdown",
   "id": "f95d4e02",
   "metadata": {
    "papermill": {
     "duration": 0.01785,
     "end_time": "2025-08-05T15:20:36.300676",
     "exception": false,
     "start_time": "2025-08-05T15:20:36.282826",
     "status": "completed"
    },
    "tags": []
   },
   "source": [
    "# Overall"
   ]
  },
  {
   "cell_type": "markdown",
   "id": "bdee4871",
   "metadata": {
    "papermill": {
     "duration": 0.023445,
     "end_time": "2025-08-05T15:20:36.348273",
     "exception": false,
     "start_time": "2025-08-05T15:20:36.324828",
     "status": "completed"
    },
    "tags": []
   },
   "source": [
    "Fairness\n",
    "Main fairness target: Equalized Odds. Seems to be a better fit than equal opportunity, since we're not only interested in Y = 1. Seems to be a better fit than demographic parity, since we also care about accuracy, not just equal distribution of preds.\n",
    "\n",
    "Pick column for computation of fairness metrics\n",
    "\n",
    "Performance\n",
    "Overall performance measures, most interesting in relation to the measures split by group below"
   ]
  },
  {
   "cell_type": "code",
   "execution_count": 61,
   "id": "c4e067c6",
   "metadata": {
    "execution": {
     "iopub.execute_input": "2025-08-05T15:20:36.394562Z",
     "iopub.status.busy": "2025-08-05T15:20:36.393988Z",
     "iopub.status.idle": "2025-08-05T15:20:36.403236Z",
     "shell.execute_reply": "2025-08-05T15:20:36.402284Z"
    },
    "papermill": {
     "duration": 0.037229,
     "end_time": "2025-08-05T15:20:36.405939",
     "exception": false,
     "start_time": "2025-08-05T15:20:36.368710",
     "status": "completed"
    },
    "tags": []
   },
   "outputs": [
    {
     "data": {
      "text/plain": [
       "accuracy                   0.215305\n",
       "balanced accuracy          0.528350\n",
       "f1                         0.236886\n",
       "precision                  0.135325\n",
       "false positive rate        0.892727\n",
       "false negative rate        0.050574\n",
       "selection rate             0.900000\n",
       "count                  89710.000000\n",
       "dtype: float64"
      ]
     },
     "execution_count": 61,
     "metadata": {},
     "output_type": "execute_result"
    }
   ],
   "source": [
    "metric_frame.overall"
   ]
  },
  {
   "cell_type": "markdown",
   "id": "e968fe9d",
   "metadata": {
    "papermill": {
     "duration": 0.025736,
     "end_time": "2025-08-05T15:20:36.458179",
     "exception": false,
     "start_time": "2025-08-05T15:20:36.432443",
     "status": "completed"
    },
    "tags": []
   },
   "source": [
    "By Group"
   ]
  },
  {
   "cell_type": "code",
   "execution_count": 62,
   "id": "ec325bce",
   "metadata": {
    "execution": {
     "iopub.execute_input": "2025-08-05T15:20:36.510987Z",
     "iopub.status.busy": "2025-08-05T15:20:36.510456Z",
     "iopub.status.idle": "2025-08-05T15:20:36.525943Z",
     "shell.execute_reply": "2025-08-05T15:20:36.524908Z"
    },
    "papermill": {
     "duration": 0.042598,
     "end_time": "2025-08-05T15:20:36.527581",
     "exception": false,
     "start_time": "2025-08-05T15:20:36.484983",
     "status": "completed"
    },
    "tags": []
   },
   "outputs": [
    {
     "data": {
      "text/html": [
       "<div>\n",
       "<style scoped>\n",
       "    .dataframe tbody tr th:only-of-type {\n",
       "        vertical-align: middle;\n",
       "    }\n",
       "\n",
       "    .dataframe tbody tr th {\n",
       "        vertical-align: top;\n",
       "    }\n",
       "\n",
       "    .dataframe thead th {\n",
       "        text-align: right;\n",
       "    }\n",
       "</style>\n",
       "<table border=\"1\" class=\"dataframe\">\n",
       "  <thead>\n",
       "    <tr style=\"text-align: right;\">\n",
       "      <th></th>\n",
       "      <th>accuracy</th>\n",
       "      <th>balanced accuracy</th>\n",
       "      <th>f1</th>\n",
       "      <th>precision</th>\n",
       "      <th>false positive rate</th>\n",
       "      <th>false negative rate</th>\n",
       "      <th>selection rate</th>\n",
       "      <th>count</th>\n",
       "    </tr>\n",
       "    <tr>\n",
       "      <th>majmin</th>\n",
       "      <th></th>\n",
       "      <th></th>\n",
       "      <th></th>\n",
       "      <th></th>\n",
       "      <th></th>\n",
       "      <th></th>\n",
       "      <th></th>\n",
       "      <th></th>\n",
       "    </tr>\n",
       "  </thead>\n",
       "  <tbody>\n",
       "    <tr>\n",
       "      <th>majority</th>\n",
       "      <td>0.236793</td>\n",
       "      <td>0.535391</td>\n",
       "      <td>0.245811</td>\n",
       "      <td>0.141364</td>\n",
       "      <td>0.870465</td>\n",
       "      <td>0.058753</td>\n",
       "      <td>0.879818</td>\n",
       "      <td>69170.0</td>\n",
       "    </tr>\n",
       "    <tr>\n",
       "      <th>minority</th>\n",
       "      <td>0.142941</td>\n",
       "      <td>0.507365</td>\n",
       "      <td>0.208809</td>\n",
       "      <td>0.116839</td>\n",
       "      <td>0.966267</td>\n",
       "      <td>0.019003</td>\n",
       "      <td>0.967965</td>\n",
       "      <td>20540.0</td>\n",
       "    </tr>\n",
       "  </tbody>\n",
       "</table>\n",
       "</div>"
      ],
      "text/plain": [
       "          accuracy  balanced accuracy        f1  precision  \\\n",
       "majmin                                                       \n",
       "majority  0.236793           0.535391  0.245811   0.141364   \n",
       "minority  0.142941           0.507365  0.208809   0.116839   \n",
       "\n",
       "          false positive rate  false negative rate  selection rate    count  \n",
       "majmin                                                                       \n",
       "majority             0.870465             0.058753        0.879818  69170.0  \n",
       "minority             0.966267             0.019003        0.967965  20540.0  "
      ]
     },
     "execution_count": 62,
     "metadata": {},
     "output_type": "execute_result"
    }
   ],
   "source": [
    "metric_frame.by_group"
   ]
  },
  {
   "cell_type": "code",
   "execution_count": 63,
   "id": "a9ddbe63",
   "metadata": {
    "execution": {
     "iopub.execute_input": "2025-08-05T15:20:36.556474Z",
     "iopub.status.busy": "2025-08-05T15:20:36.555745Z",
     "iopub.status.idle": "2025-08-05T15:20:38.888598Z",
     "shell.execute_reply": "2025-08-05T15:20:38.887766Z"
    },
    "papermill": {
     "duration": 2.348369,
     "end_time": "2025-08-05T15:20:38.890026",
     "exception": false,
     "start_time": "2025-08-05T15:20:36.541657",
     "status": "completed"
    },
    "tags": []
   },
   "outputs": [
    {
     "data": {
      "text/plain": [
       "array([[<Axes: title={'center': 'accuracy'}, xlabel='majmin'>,\n",
       "        <Axes: title={'center': 'balanced accuracy'}, xlabel='majmin'>,\n",
       "        <Axes: title={'center': 'f1'}, xlabel='majmin'>],\n",
       "       [<Axes: title={'center': 'precision'}, xlabel='majmin'>,\n",
       "        <Axes: title={'center': 'false positive rate'}, xlabel='majmin'>,\n",
       "        <Axes: title={'center': 'false negative rate'}, xlabel='majmin'>],\n",
       "       [<Axes: title={'center': 'selection rate'}, xlabel='majmin'>,\n",
       "        <Axes: title={'center': 'count'}, xlabel='majmin'>,\n",
       "        <Axes: xlabel='majmin'>]], dtype=object)"
      ]
     },
     "execution_count": 63,
     "metadata": {},
     "output_type": "execute_result"
    },
    {
     "data": {
      "image/png": "[encoded data removed]",
      "text/plain": [
       "<Figure size 1200x800 with 9 Axes>"
      ]
     },
     "metadata": {},
     "output_type": "display_data"
    }
   ],
   "source": [
    "# In a graphic\n",
    "metric_frame.by_group.plot.bar(\n",
    "    subplots=True,\n",
    "    layout=[3, 3],\n",
    "    legend=False,\n",
    "    figsize=[12, 8],\n",
    "    title=\"Show all metrics\",\n",
    ")"
   ]
  },
  {
   "cell_type": "markdown",
   "id": "f57a0bac",
   "metadata": {
    "papermill": {
     "duration": 0.012525,
     "end_time": "2025-08-05T15:20:38.917990",
     "exception": false,
     "start_time": "2025-08-05T15:20:38.905465",
     "status": "completed"
    },
    "tags": []
   },
   "source": [
    "# Final Output"
   ]
  },
  {
   "cell_type": "code",
   "execution_count": 64,
   "id": "96d280a3",
   "metadata": {
    "execution": {
     "iopub.execute_input": "2025-08-05T15:20:38.944309Z",
     "iopub.status.busy": "2025-08-05T15:20:38.943689Z",
     "iopub.status.idle": "2025-08-05T15:20:38.951892Z",
     "shell.execute_reply": "2025-08-05T15:20:38.951145Z"
    },
    "papermill": {
     "duration": 0.022645,
     "end_time": "2025-08-05T15:20:38.953067",
     "exception": false,
     "start_time": "2025-08-05T15:20:38.930422",
     "status": "completed"
    },
    "tags": []
   },
   "outputs": [
    {
     "data": {
      "text/plain": [
       "4"
      ]
     },
     "execution_count": 64,
     "metadata": {},
     "output_type": "execute_result"
    }
   ],
   "source": [
    "sub_universes = universe_analysis.generate_sub_universes()\n",
    "len(sub_universes)"
   ]
  },
  {
   "cell_type": "code",
   "execution_count": 65,
   "id": "92adf7ba",
   "metadata": {
    "execution": {
     "iopub.execute_input": "2025-08-05T15:20:38.994647Z",
     "iopub.status.busy": "2025-08-05T15:20:38.994201Z",
     "iopub.status.idle": "2025-08-05T15:20:39.000383Z",
     "shell.execute_reply": "2025-08-05T15:20:38.999324Z"
    },
    "papermill": {
     "duration": 0.036124,
     "end_time": "2025-08-05T15:20:39.002655",
     "exception": false,
     "start_time": "2025-08-05T15:20:38.966531",
     "status": "completed"
    },
    "tags": []
   },
   "outputs": [],
   "source": [
    "def filter_sub_universe_data(sub_universe, org_test):\n",
    "    # Keep all rows — no filtering\n",
    "    keep_rows_mask = np.ones(org_test.shape[0], dtype=bool)\n",
    "\n",
    "    print(f\"[INFO] Keeping all rows: {keep_rows_mask.sum()} rows retained.\")\n",
    "    return keep_rows_mask"
   ]
  },
  {
   "cell_type": "code",
   "execution_count": 66,
   "id": "4a759155",
   "metadata": {
    "execution": {
     "iopub.execute_input": "2025-08-05T15:20:39.055745Z",
     "iopub.status.busy": "2025-08-05T15:20:39.055329Z",
     "iopub.status.idle": "2025-08-05T15:20:49.439497Z",
     "shell.execute_reply": "2025-08-05T15:20:49.438570Z"
    },
    "papermill": {
     "duration": 10.411731,
     "end_time": "2025-08-05T15:20:49.441101",
     "exception": false,
     "start_time": "2025-08-05T15:20:39.029370",
     "status": "completed"
    },
    "tags": []
   },
   "outputs": [
    {
     "name": "stdout",
     "output_type": "stream",
     "text": [
      "Stopping execution_time clock.\n",
      "[INFO] Keeping all rows: 89710 rows retained.\n"
     ]
    },
    {
     "name": "stdout",
     "output_type": "stream",
     "text": [
      "[INFO] Keeping all rows: 89710 rows retained.\n"
     ]
    },
    {
     "name": "stdout",
     "output_type": "stream",
     "text": [
      "[INFO] Keeping all rows: 89710 rows retained.\n"
     ]
    },
    {
     "name": "stdout",
     "output_type": "stream",
     "text": [
      "[INFO] Keeping all rows: 89710 rows retained.\n"
     ]
    },
    {
     "data": {
      "text/html": [
       "<div>\n",
       "<style scoped>\n",
       "    .dataframe tbody tr th:only-of-type {\n",
       "        vertical-align: middle;\n",
       "    }\n",
       "\n",
       "    .dataframe tbody tr th {\n",
       "        vertical-align: top;\n",
       "    }\n",
       "\n",
       "    .dataframe thead th {\n",
       "        text-align: right;\n",
       "    }\n",
       "</style>\n",
       "<table border=\"1\" class=\"dataframe\">\n",
       "  <thead>\n",
       "    <tr style=\"text-align: right;\">\n",
       "      <th></th>\n",
       "      <th>run_no</th>\n",
       "      <th>universe_id</th>\n",
       "      <th>universe_settings</th>\n",
       "      <th>execution_time</th>\n",
       "      <th>test_size_n</th>\n",
       "      <th>test_size_frac</th>\n",
       "      <th>fair_main_equalized_odds_difference</th>\n",
       "      <th>fair_main_equalized_odds_ratio</th>\n",
       "      <th>fair_main_demographic_parity_difference</th>\n",
       "      <th>fair_main_demographic_parity_ratio</th>\n",
       "      <th>...</th>\n",
       "      <th>perf_grp_precision_0</th>\n",
       "      <th>perf_grp_precision_1</th>\n",
       "      <th>perf_grp_false positive rate_0</th>\n",
       "      <th>perf_grp_false positive rate_1</th>\n",
       "      <th>perf_grp_false negative rate_0</th>\n",
       "      <th>perf_grp_false negative rate_1</th>\n",
       "      <th>perf_grp_selection rate_0</th>\n",
       "      <th>perf_grp_selection rate_1</th>\n",
       "      <th>perf_grp_count_0</th>\n",
       "      <th>perf_grp_count_1</th>\n",
       "    </tr>\n",
       "  </thead>\n",
       "  <tbody>\n",
       "    <tr>\n",
       "      <th>0</th>\n",
       "      <td>15</td>\n",
       "      <td>34328b5d855056acfdd5e0acc491617a</td>\n",
       "      <td>{\"cutoff\": \"quantile_0.1\", \"eval_fairness_grou...</td>\n",
       "      <td>36.221789</td>\n",
       "      <td>89710</td>\n",
       "      <td>1.0</td>\n",
       "      <td>0.095802</td>\n",
       "      <td>0.900853</td>\n",
       "      <td>0.088147</td>\n",
       "      <td>0.908936</td>\n",
       "      <td>...</td>\n",
       "      <td>NaN</td>\n",
       "      <td>NaN</td>\n",
       "      <td>NaN</td>\n",
       "      <td>NaN</td>\n",
       "      <td>NaN</td>\n",
       "      <td>NaN</td>\n",
       "      <td>NaN</td>\n",
       "      <td>NaN</td>\n",
       "      <td>NaN</td>\n",
       "      <td>NaN</td>\n",
       "    </tr>\n",
       "    <tr>\n",
       "      <th>0</th>\n",
       "      <td>15</td>\n",
       "      <td>34328b5d855056acfdd5e0acc491617a</td>\n",
       "      <td>{\"cutoff\": \"quantile_0.1\", \"eval_fairness_grou...</td>\n",
       "      <td>36.221789</td>\n",
       "      <td>89710</td>\n",
       "      <td>1.0</td>\n",
       "      <td>0.095802</td>\n",
       "      <td>0.900853</td>\n",
       "      <td>0.088147</td>\n",
       "      <td>0.908936</td>\n",
       "      <td>...</td>\n",
       "      <td>0.116839</td>\n",
       "      <td>0.141364</td>\n",
       "      <td>0.966267</td>\n",
       "      <td>0.870465</td>\n",
       "      <td>0.019003</td>\n",
       "      <td>0.058753</td>\n",
       "      <td>0.967965</td>\n",
       "      <td>0.879818</td>\n",
       "      <td>20540.0</td>\n",
       "      <td>69170.0</td>\n",
       "    </tr>\n",
       "    <tr>\n",
       "      <th>0</th>\n",
       "      <td>15</td>\n",
       "      <td>34328b5d855056acfdd5e0acc491617a</td>\n",
       "      <td>{\"cutoff\": \"quantile_0.25\", \"eval_fairness_gro...</td>\n",
       "      <td>36.221789</td>\n",
       "      <td>89710</td>\n",
       "      <td>1.0</td>\n",
       "      <td>0.233065</td>\n",
       "      <td>0.744910</td>\n",
       "      <td>0.216523</td>\n",
       "      <td>0.763864</td>\n",
       "      <td>...</td>\n",
       "      <td>NaN</td>\n",
       "      <td>NaN</td>\n",
       "      <td>NaN</td>\n",
       "      <td>NaN</td>\n",
       "      <td>NaN</td>\n",
       "      <td>NaN</td>\n",
       "      <td>NaN</td>\n",
       "      <td>NaN</td>\n",
       "      <td>NaN</td>\n",
       "      <td>NaN</td>\n",
       "    </tr>\n",
       "    <tr>\n",
       "      <th>0</th>\n",
       "      <td>15</td>\n",
       "      <td>34328b5d855056acfdd5e0acc491617a</td>\n",
       "      <td>{\"cutoff\": \"quantile_0.25\", \"eval_fairness_gro...</td>\n",
       "      <td>36.221789</td>\n",
       "      <td>89710</td>\n",
       "      <td>1.0</td>\n",
       "      <td>0.233065</td>\n",
       "      <td>0.744910</td>\n",
       "      <td>0.216523</td>\n",
       "      <td>0.763864</td>\n",
       "      <td>...</td>\n",
       "      <td>0.118456</td>\n",
       "      <td>0.156704</td>\n",
       "      <td>0.913658</td>\n",
       "      <td>0.680593</td>\n",
       "      <td>0.057855</td>\n",
       "      <td>0.169365</td>\n",
       "      <td>0.916943</td>\n",
       "      <td>0.700419</td>\n",
       "      <td>20540.0</td>\n",
       "      <td>69170.0</td>\n",
       "    </tr>\n",
       "  </tbody>\n",
       "</table>\n",
       "<p>4 rows × 50 columns</p>\n",
       "</div>"
      ],
      "text/plain": [
       "  run_no                       universe_id  \\\n",
       "0     15  34328b5d855056acfdd5e0acc491617a   \n",
       "0     15  34328b5d855056acfdd5e0acc491617a   \n",
       "0     15  34328b5d855056acfdd5e0acc491617a   \n",
       "0     15  34328b5d855056acfdd5e0acc491617a   \n",
       "\n",
       "                                   universe_settings  execution_time  \\\n",
       "0  {\"cutoff\": \"quantile_0.1\", \"eval_fairness_grou...       36.221789   \n",
       "0  {\"cutoff\": \"quantile_0.1\", \"eval_fairness_grou...       36.221789   \n",
       "0  {\"cutoff\": \"quantile_0.25\", \"eval_fairness_gro...       36.221789   \n",
       "0  {\"cutoff\": \"quantile_0.25\", \"eval_fairness_gro...       36.221789   \n",
       "\n",
       "   test_size_n  test_size_frac  fair_main_equalized_odds_difference  \\\n",
       "0        89710             1.0                             0.095802   \n",
       "0        89710             1.0                             0.095802   \n",
       "0        89710             1.0                             0.233065   \n",
       "0        89710             1.0                             0.233065   \n",
       "\n",
       "   fair_main_equalized_odds_ratio  fair_main_demographic_parity_difference  \\\n",
       "0                        0.900853                                 0.088147   \n",
       "0                        0.900853                                 0.088147   \n",
       "0                        0.744910                                 0.216523   \n",
       "0                        0.744910                                 0.216523   \n",
       "\n",
       "   fair_main_demographic_parity_ratio  ...  perf_grp_precision_0  \\\n",
       "0                            0.908936  ...                   NaN   \n",
       "0                            0.908936  ...              0.116839   \n",
       "0                            0.763864  ...                   NaN   \n",
       "0                            0.763864  ...              0.118456   \n",
       "\n",
       "   perf_grp_precision_1  perf_grp_false positive rate_0  \\\n",
       "0                   NaN                             NaN   \n",
       "0              0.141364                        0.966267   \n",
       "0                   NaN                             NaN   \n",
       "0              0.156704                        0.913658   \n",
       "\n",
       "   perf_grp_false positive rate_1  perf_grp_false negative rate_0  \\\n",
       "0                             NaN                             NaN   \n",
       "0                        0.870465                        0.019003   \n",
       "0                             NaN                             NaN   \n",
       "0                        0.680593                        0.057855   \n",
       "\n",
       "   perf_grp_false negative rate_1  perf_grp_selection rate_0  \\\n",
       "0                             NaN                        NaN   \n",
       "0                        0.058753                   0.967965   \n",
       "0                             NaN                        NaN   \n",
       "0                        0.169365                   0.916943   \n",
       "\n",
       "   perf_grp_selection rate_1  perf_grp_count_0  perf_grp_count_1  \n",
       "0                        NaN               NaN               NaN  \n",
       "0                   0.879818           20540.0           69170.0  \n",
       "0                        NaN               NaN               NaN  \n",
       "0                   0.700419           20540.0           69170.0  \n",
       "\n",
       "[4 rows x 50 columns]"
      ]
     },
     "execution_count": 66,
     "metadata": {},
     "output_type": "execute_result"
    }
   ],
   "source": [
    "final_output = universe_analysis.generate_final_output(\n",
    "    y_pred_prob=probs_test,\n",
    "    y_test=y_true,\n",
    "    org_test=org_test,\n",
    "    filter_data=filter_sub_universe_data,\n",
    "    cp_metrics_df=cp_metrics_df,\n",
    "    save=True,\n",
    ")\n",
    "final_output"
   ]
  }
 ],
 "metadata": {
  "celltoolbar": "Tags",
  "kernelspec": {
   "display_name": "Python (CMA Fairness)",
   "language": "python",
   "name": "cma_fair_env"
  },
  "language_info": {
   "codemirror_mode": {
    "name": "ipython",
    "version": 3
   },
   "file_extension": ".py",
   "mimetype": "text/x-python",
   "name": "python",
   "nbconvert_exporter": "python",
   "pygments_lexer": "ipython3",
   "version": "3.10.12"
  },
  "papermill": {
   "default_parameters": {},
   "duration": 50.435741,
   "end_time": "2025-08-05T15:20:50.188594",
   "environment_variables": {},
   "exception": null,
   "input_path": "universe_analysis.ipynb",
   "output_path": "output/runs/15/notebooks/m_15-34328b5d855056acfdd5e0acc491617a.ipynb",
   "parameters": {
    "output_dir": "output",
    "run_no": "15",
    "seed": "2023",
    "universe": "{\"cutoff\": [\"quantile_0.1\", \"quantile_0.25\"], \"eval_fairness_grouping\": [\"majority-minority\", \"nationality-all\"], \"exclude_features\": \"age\", \"exclude_subgroups\": \"keep-all\", \"model\": \"elasticnet\", \"scale\": \"do-not-scale\", \"training_size\": \"25k\", \"training_year\": \"2010_14\"}",
    "universe_id": "34328b5d855056acfdd5e0acc491617a"
   },
   "start_time": "2025-08-05T15:19:59.752853",
   "version": "2.6.0"
  }
 },
 "nbformat": 4,
 "nbformat_minor": 5
}