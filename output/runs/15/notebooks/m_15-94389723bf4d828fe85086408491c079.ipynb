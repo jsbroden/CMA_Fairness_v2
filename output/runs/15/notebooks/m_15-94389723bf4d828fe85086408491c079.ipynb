{
 "cells": [
  {
   "cell_type": "code",
   "execution_count": 1,
   "id": "f159f837-637b-42ba-96b5-ec9a68c44524",
   "metadata": {
    "execution": {
     "iopub.execute_input": "2025-08-05T15:49:55.996456Z",
     "iopub.status.busy": "2025-08-05T15:49:55.995527Z",
     "iopub.status.idle": "2025-08-05T15:49:56.012114Z",
     "shell.execute_reply": "2025-08-05T15:49:56.010861Z"
    },
    "papermill": {
     "duration": 0.045989,
     "end_time": "2025-08-05T15:49:56.014076",
     "exception": false,
     "start_time": "2025-08-05T15:49:55.968087",
     "status": "completed"
    },
    "tags": []
   },
   "outputs": [
    {
     "name": "stdout",
     "output_type": "stream",
     "text": [
      "/dss/dsshome1/0C/ra93lal2/cma/CMA_Fairness_v2\n"
     ]
    },
    {
     "name": "stderr",
     "output_type": "stream",
     "text": [
      "/dss/dsshome1/0C/ra93lal2/.local/share/virtualenvs/CMA_Fairness_v2-3j10GkSs/lib/python3.10/site-packages/IPython/core/magics/osm.py:393: UserWarning: This is now an optional IPython functionality, using bookmarks requires you to install the `pickleshare` library.\n",
      "  bkms = self.shell.db.get('bookmarks', {})\n",
      "/dss/dsshome1/0C/ra93lal2/.local/share/virtualenvs/CMA_Fairness_v2-3j10GkSs/lib/python3.10/site-packages/IPython/core/magics/osm.py:417: UserWarning: This is now an optional IPython functionality, setting dhist requires you to install the `pickleshare` library.\n",
      "  self.shell.db['dhist'] = compress_dhist(dhist)[-100:]\n"
     ]
    }
   ],
   "source": [
    "%cd ~/cma/CMA_Fairness_v2"
   ]
  },
  {
   "cell_type": "markdown",
   "id": "de2603b9",
   "metadata": {
    "papermill": {
     "duration": 0.015928,
     "end_time": "2025-08-05T15:49:56.046202",
     "exception": false,
     "start_time": "2025-08-05T15:49:56.030274",
     "status": "completed"
    },
    "tags": []
   },
   "source": [
    "The following cell holds the definition of our parameters, these values can be overriden by rendering the with e.g. the following command:\n",
    "\n",
    "papermill -p alpha 0.2 -p ratio 0.3 universe_analysis.ipynb output/test_run.ipynb"
   ]
  },
  {
   "cell_type": "code",
   "execution_count": 2,
   "id": "a80968a0-40bb-4fa9-85ef-2d5eefb01975",
   "metadata": {
    "execution": {
     "iopub.execute_input": "2025-08-05T15:49:56.082822Z",
     "iopub.status.busy": "2025-08-05T15:49:56.082048Z",
     "iopub.status.idle": "2025-08-05T15:49:56.088313Z",
     "shell.execute_reply": "2025-08-05T15:49:56.087219Z"
    },
    "papermill": {
     "duration": 0.025993,
     "end_time": "2025-08-05T15:49:56.090693",
     "exception": false,
     "start_time": "2025-08-05T15:49:56.064700",
     "status": "completed"
    },
    "tags": []
   },
   "outputs": [
    {
     "name": "stdout",
     "output_type": "stream",
     "text": [
      "Current working directory: /dss/dsshome1/0C/ra93lal2/cma/CMA_Fairness_v2\n"
     ]
    }
   ],
   "source": [
    "import os\n",
    "print(\"Current working directory:\", os.getcwd())"
   ]
  },
  {
   "cell_type": "code",
   "execution_count": 3,
   "id": "2dce4c03",
   "metadata": {
    "execution": {
     "iopub.execute_input": "2025-08-05T15:49:56.137235Z",
     "iopub.status.busy": "2025-08-05T15:49:56.136270Z",
     "iopub.status.idle": "2025-08-05T15:49:56.143099Z",
     "shell.execute_reply": "2025-08-05T15:49:56.142078Z"
    },
    "papermill": {
     "duration": 0.028369,
     "end_time": "2025-08-05T15:49:56.145110",
     "exception": false,
     "start_time": "2025-08-05T15:49:56.116741",
     "status": "completed"
    },
    "tags": [
     "parameters"
    ]
   },
   "outputs": [],
   "source": [
    "run_no = 0\n",
    "universe_id = \"test\"\n",
    "universe = {\n",
    "    \"training_size\": \"25k\", # \"25k\", \"5k\", \"1k\"\n",
    "    \"training_year\": \"2014\", # \"2014\", \"2012_14\", \"2010_14\"\n",
    "    \"scale\": \"scale\", # \"scale\", \"do-not-scale\",\n",
    "    \"model\": \"elasticnet\", # \"logreg\", \"penalized_logreg\", \"rf\", \"gbm\", \"elasticnet\"\n",
    "    \"cutoff\": [\"quantile_0.15\", \"quantile_0.30\"],\n",
    "    \"exclude_features\": \"age\", # \"none\", \"nationality\", \"sex\", \"nationality-sex\", \"age\"\n",
    "    \"exclude_subgroups\": \"keep-all\", # \"keep-all\", \"drop-non-german\"\n",
    "    \"eval_fairness_grouping\": [\"majority-minority\", \"nationality-all\"]\n",
    "}\n",
    "\n",
    "output_dir=\"./output\"\n",
    "seed=0"
   ]
  },
  {
   "cell_type": "code",
   "execution_count": 4,
   "id": "dc0f4760",
   "metadata": {
    "execution": {
     "iopub.execute_input": "2025-08-05T15:49:56.184642Z",
     "iopub.status.busy": "2025-08-05T15:49:56.184042Z",
     "iopub.status.idle": "2025-08-05T15:49:56.189636Z",
     "shell.execute_reply": "2025-08-05T15:49:56.188592Z"
    },
    "papermill": {
     "duration": 0.026397,
     "end_time": "2025-08-05T15:49:56.191561",
     "exception": false,
     "start_time": "2025-08-05T15:49:56.165164",
     "status": "completed"
    },
    "tags": [
     "injected-parameters"
    ]
   },
   "outputs": [],
   "source": [
    "# Parameters\n",
    "universe_id = \"94389723bf4d828fe85086408491c079\"\n",
    "run_no = \"15\"\n",
    "universe = \"{\\\"cutoff\\\": [\\\"quantile_0.1\\\", \\\"quantile_0.25\\\"], \\\"eval_fairness_grouping\\\": [\\\"majority-minority\\\", \\\"nationality-all\\\"], \\\"exclude_features\\\": \\\"age\\\", \\\"exclude_subgroups\\\": \\\"drop-non-german\\\", \\\"model\\\": \\\"penalized_logreg\\\", \\\"scale\\\": \\\"scale\\\", \\\"training_size\\\": \\\"5k\\\", \\\"training_year\\\": \\\"2010_14\\\"}\"\n",
    "output_dir = \"output\"\n",
    "seed = \"2023\"\n"
   ]
  },
  {
   "cell_type": "code",
   "execution_count": 5,
   "id": "1650acaf",
   "metadata": {
    "execution": {
     "iopub.execute_input": "2025-08-05T15:49:56.231765Z",
     "iopub.status.busy": "2025-08-05T15:49:56.230841Z",
     "iopub.status.idle": "2025-08-05T15:49:56.236206Z",
     "shell.execute_reply": "2025-08-05T15:49:56.235184Z"
    },
    "papermill": {
     "duration": 0.026995,
     "end_time": "2025-08-05T15:49:56.238266",
     "exception": false,
     "start_time": "2025-08-05T15:49:56.211271",
     "status": "completed"
    },
    "tags": []
   },
   "outputs": [],
   "source": [
    "import json\n",
    "if isinstance(universe, str):\n",
    "    universe = json.loads(universe)"
   ]
  },
  {
   "cell_type": "code",
   "execution_count": 6,
   "id": "16620c48",
   "metadata": {
    "execution": {
     "iopub.execute_input": "2025-08-05T15:49:56.278677Z",
     "iopub.status.busy": "2025-08-05T15:49:56.277800Z",
     "iopub.status.idle": "2025-08-05T15:49:56.321737Z",
     "shell.execute_reply": "2025-08-05T15:49:56.320760Z"
    },
    "papermill": {
     "duration": 0.065448,
     "end_time": "2025-08-05T15:49:56.323896",
     "exception": false,
     "start_time": "2025-08-05T15:49:56.258448",
     "status": "completed"
    },
    "tags": []
   },
   "outputs": [],
   "source": [
    "# Auto-reload the custom package\n",
    "%load_ext autoreload\n",
    "%autoreload 1\n",
    "%aimport fairness_multiverse"
   ]
  },
  {
   "cell_type": "code",
   "execution_count": 7,
   "id": "01c5c9f3",
   "metadata": {
    "execution": {
     "iopub.execute_input": "2025-08-05T15:49:56.363321Z",
     "iopub.status.busy": "2025-08-05T15:49:56.362492Z",
     "iopub.status.idle": "2025-08-05T15:49:58.318647Z",
     "shell.execute_reply": "2025-08-05T15:49:58.317271Z"
    },
    "papermill": {
     "duration": 1.97764,
     "end_time": "2025-08-05T15:49:58.320807",
     "exception": false,
     "start_time": "2025-08-05T15:49:56.343167",
     "status": "completed"
    },
    "tags": []
   },
   "outputs": [],
   "source": [
    "from fairness_multiverse.universe import UniverseAnalysis\n",
    "\n",
    "universe_analysis = UniverseAnalysis(\n",
    "    run_no = run_no,\n",
    "    universe_id = universe_id,\n",
    "    universe = universe,\n",
    "    output_dir=output_dir,\n",
    ")"
   ]
  },
  {
   "cell_type": "code",
   "execution_count": 8,
   "id": "106241f5",
   "metadata": {
    "execution": {
     "iopub.execute_input": "2025-08-05T15:49:58.362023Z",
     "iopub.status.busy": "2025-08-05T15:49:58.361295Z",
     "iopub.status.idle": "2025-08-05T15:49:58.371531Z",
     "shell.execute_reply": "2025-08-05T15:49:58.369429Z"
    },
    "papermill": {
     "duration": 0.032514,
     "end_time": "2025-08-05T15:49:58.373551",
     "exception": false,
     "start_time": "2025-08-05T15:49:58.341037",
     "status": "completed"
    },
    "tags": []
   },
   "outputs": [
    {
     "name": "stdout",
     "output_type": "stream",
     "text": [
      "Using Seed: 2023\n"
     ]
    }
   ],
   "source": [
    "import numpy as np\n",
    "parsed_seed = int(seed)\n",
    "np.random.seed(parsed_seed)\n",
    "print(f\"Using Seed: {parsed_seed}\")"
   ]
  },
  {
   "cell_type": "markdown",
   "id": "e0ebdc57",
   "metadata": {
    "papermill": {
     "duration": 0.011023,
     "end_time": "2025-08-05T15:49:58.394372",
     "exception": false,
     "start_time": "2025-08-05T15:49:58.383349",
     "status": "completed"
    },
    "tags": []
   },
   "source": [
    "# Loading Data"
   ]
  },
  {
   "cell_type": "code",
   "execution_count": 9,
   "id": "f0496b8a",
   "metadata": {
    "execution": {
     "iopub.execute_input": "2025-08-05T15:49:58.433777Z",
     "iopub.status.busy": "2025-08-05T15:49:58.432952Z",
     "iopub.status.idle": "2025-08-05T15:50:10.984335Z",
     "shell.execute_reply": "2025-08-05T15:50:10.983315Z"
    },
    "papermill": {
     "duration": 12.572145,
     "end_time": "2025-08-05T15:50:10.985906",
     "exception": false,
     "start_time": "2025-08-05T15:49:58.413761",
     "status": "completed"
    },
    "tags": []
   },
   "outputs": [
    {
     "name": "stdout",
     "output_type": "stream",
     "text": [
      "Loading SIAB data from cache: data/siab_cached.csv.gz\n"
     ]
    },
    {
     "name": "stdout",
     "output_type": "stream",
     "text": [
      "(643690, 164)\n"
     ]
    }
   ],
   "source": [
    "from pathlib import Path\n",
    "import pandas as pd\n",
    "\n",
    "# File paths\n",
    "raw_file = Path(\"data/raw/siab.csv\")\n",
    "cache_file = Path(\"data/siab_cached.csv.gz\")\n",
    "\n",
    "# Ensure cache directory exists\n",
    "cache_file.parent.mkdir(parents=True, exist_ok=True)\n",
    "\n",
    "# Load with simple caching\n",
    "if cache_file.exists():\n",
    "    print(f\"Loading SIAB data from cache: {cache_file}\")\n",
    "    siab = pd.read_csv(cache_file, compression='gzip')\n",
    "else:\n",
    "    print(f\"Cache not found. Reading raw SIAB data: {raw_file}\")\n",
    "    siab = pd.read_csv(raw_file)\n",
    "    siab.to_csv(cache_file, index=False, compression='gzip')\n",
    "    print(f\"Cached SIAB data to: {cache_file}\")\n",
    "\n",
    "print(siab.shape)"
   ]
  },
  {
   "cell_type": "code",
   "execution_count": 10,
   "id": "db0ca512-5f53-4dba-abdb-a2888bca41ba",
   "metadata": {
    "execution": {
     "iopub.execute_input": "2025-08-05T15:50:11.017367Z",
     "iopub.status.busy": "2025-08-05T15:50:11.016474Z",
     "iopub.status.idle": "2025-08-05T15:50:11.023134Z",
     "shell.execute_reply": "2025-08-05T15:50:11.021950Z"
    },
    "papermill": {
     "duration": 0.026478,
     "end_time": "2025-08-05T15:50:11.024965",
     "exception": false,
     "start_time": "2025-08-05T15:50:10.998487",
     "status": "completed"
    },
    "tags": []
   },
   "outputs": [],
   "source": [
    "#siab"
   ]
  },
  {
   "cell_type": "markdown",
   "id": "997051c5-15bd-4b69-9786-c3001a3ce484",
   "metadata": {
    "papermill": {
     "duration": 0.017676,
     "end_time": "2025-08-05T15:50:11.061623",
     "exception": false,
     "start_time": "2025-08-05T15:50:11.043947",
     "status": "completed"
    },
    "tags": []
   },
   "source": [
    "# Splitting Data and Setting Training Data Size"
   ]
  },
  {
   "cell_type": "code",
   "execution_count": 11,
   "id": "aea9c6ef-6f46-42c8-85eb-5a62025c1508",
   "metadata": {
    "execution": {
     "iopub.execute_input": "2025-08-05T15:50:11.106431Z",
     "iopub.status.busy": "2025-08-05T15:50:11.105473Z",
     "iopub.status.idle": "2025-08-05T15:50:12.135447Z",
     "shell.execute_reply": "2025-08-05T15:50:12.134417Z"
    },
    "papermill": {
     "duration": 1.05492,
     "end_time": "2025-08-05T15:50:12.137460",
     "exception": false,
     "start_time": "2025-08-05T15:50:11.082540",
     "status": "completed"
    },
    "tags": []
   },
   "outputs": [],
   "source": [
    "from fairness_multiverse.universe import sample_by_year_size\n",
    "\n",
    "siab_train = sample_by_year_size(siab,\n",
    "                               training_year=universe[\"training_year\"],\n",
    "                               training_size=universe[\"training_size\"])"
   ]
  },
  {
   "cell_type": "code",
   "execution_count": 12,
   "id": "8d3afb32-789d-442c-8d5d-9f5aa8dd2eed",
   "metadata": {
    "execution": {
     "iopub.execute_input": "2025-08-05T15:50:12.184562Z",
     "iopub.status.busy": "2025-08-05T15:50:12.183731Z",
     "iopub.status.idle": "2025-08-05T15:50:12.189431Z",
     "shell.execute_reply": "2025-08-05T15:50:12.188413Z"
    },
    "papermill": {
     "duration": 0.028923,
     "end_time": "2025-08-05T15:50:12.191523",
     "exception": false,
     "start_time": "2025-08-05T15:50:12.162600",
     "status": "completed"
    },
    "tags": []
   },
   "outputs": [],
   "source": [
    "#siab_train.shape"
   ]
  },
  {
   "cell_type": "code",
   "execution_count": 13,
   "id": "d582db68-1a4c-47fb-84fc-08518dc1975a",
   "metadata": {
    "execution": {
     "iopub.execute_input": "2025-08-05T15:50:12.236316Z",
     "iopub.status.busy": "2025-08-05T15:50:12.235422Z",
     "iopub.status.idle": "2025-08-05T15:50:12.241063Z",
     "shell.execute_reply": "2025-08-05T15:50:12.240015Z"
    },
    "papermill": {
     "duration": 0.029848,
     "end_time": "2025-08-05T15:50:12.243158",
     "exception": false,
     "start_time": "2025-08-05T15:50:12.213310",
     "status": "completed"
    },
    "tags": []
   },
   "outputs": [],
   "source": [
    "#display(siab_train.groupby(\"year\").size())"
   ]
  },
  {
   "cell_type": "code",
   "execution_count": 14,
   "id": "a561edb4-d032-42cb-8256-22eac1111c64",
   "metadata": {
    "execution": {
     "iopub.execute_input": "2025-08-05T15:50:12.283671Z",
     "iopub.status.busy": "2025-08-05T15:50:12.282715Z",
     "iopub.status.idle": "2025-08-05T15:50:12.523484Z",
     "shell.execute_reply": "2025-08-05T15:50:12.522555Z"
    },
    "papermill": {
     "duration": 0.261481,
     "end_time": "2025-08-05T15:50:12.525327",
     "exception": false,
     "start_time": "2025-08-05T15:50:12.263846",
     "status": "completed"
    },
    "tags": []
   },
   "outputs": [],
   "source": [
    "#siab_train = siab_s[siab_s.year < 2015]\n",
    "siab_calib = siab[siab.year == 2015]\n",
    "siab_test = siab[siab.year == 2016]"
   ]
  },
  {
   "cell_type": "code",
   "execution_count": 15,
   "id": "472de16f-c3db-4916-846b-1f0de9cf1746",
   "metadata": {
    "execution": {
     "iopub.execute_input": "2025-08-05T15:50:12.562807Z",
     "iopub.status.busy": "2025-08-05T15:50:12.562317Z",
     "iopub.status.idle": "2025-08-05T15:50:12.572728Z",
     "shell.execute_reply": "2025-08-05T15:50:12.571528Z"
    },
    "papermill": {
     "duration": 0.03147,
     "end_time": "2025-08-05T15:50:12.574909",
     "exception": false,
     "start_time": "2025-08-05T15:50:12.543439",
     "status": "completed"
    },
    "tags": []
   },
   "outputs": [],
   "source": [
    "X_train = siab_train.iloc[:,4:164]\n",
    "y_train = siab_train.iloc[:, [3]]"
   ]
  },
  {
   "cell_type": "code",
   "execution_count": 16,
   "id": "828c96af-f43a-4ed6-ba47-8ac73a47d56c",
   "metadata": {
    "execution": {
     "iopub.execute_input": "2025-08-05T15:50:12.612842Z",
     "iopub.status.busy": "2025-08-05T15:50:12.612154Z",
     "iopub.status.idle": "2025-08-05T15:50:12.664458Z",
     "shell.execute_reply": "2025-08-05T15:50:12.663162Z"
    },
    "papermill": {
     "duration": 0.072657,
     "end_time": "2025-08-05T15:50:12.666629",
     "exception": false,
     "start_time": "2025-08-05T15:50:12.593972",
     "status": "completed"
    },
    "tags": []
   },
   "outputs": [],
   "source": [
    "X_calib = siab_calib.iloc[:,4:164]\n",
    "y_calib = siab_calib.iloc[:, [3]]"
   ]
  },
  {
   "cell_type": "code",
   "execution_count": 17,
   "id": "c34be9c3-6bd6-476e-acd3-845840e303be",
   "metadata": {
    "execution": {
     "iopub.execute_input": "2025-08-05T15:50:12.705810Z",
     "iopub.status.busy": "2025-08-05T15:50:12.705012Z",
     "iopub.status.idle": "2025-08-05T15:50:12.757668Z",
     "shell.execute_reply": "2025-08-05T15:50:12.756465Z"
    },
    "papermill": {
     "duration": 0.073257,
     "end_time": "2025-08-05T15:50:12.759626",
     "exception": false,
     "start_time": "2025-08-05T15:50:12.686369",
     "status": "completed"
    },
    "tags": []
   },
   "outputs": [],
   "source": [
    "X_test = siab_test.iloc[:,4:164]\n",
    "y_true = siab_test.iloc[:, [3]]"
   ]
  },
  {
   "cell_type": "code",
   "execution_count": 18,
   "id": "e6c733c5",
   "metadata": {
    "execution": {
     "iopub.execute_input": "2025-08-05T15:50:12.799186Z",
     "iopub.status.busy": "2025-08-05T15:50:12.798341Z",
     "iopub.status.idle": "2025-08-05T15:50:12.898185Z",
     "shell.execute_reply": "2025-08-05T15:50:12.897144Z"
    },
    "papermill": {
     "duration": 0.120802,
     "end_time": "2025-08-05T15:50:12.900098",
     "exception": false,
     "start_time": "2025-08-05T15:50:12.779296",
     "status": "completed"
    },
    "tags": []
   },
   "outputs": [],
   "source": [
    "# Auxiliary data needed downstream in the pipeline\n",
    "\n",
    "org_train = X_train.copy()\n",
    "org_test = X_test.copy()\n",
    "org_calib = X_calib.copy()"
   ]
  },
  {
   "cell_type": "markdown",
   "id": "0a4a1b33",
   "metadata": {
    "papermill": {
     "duration": 0.018204,
     "end_time": "2025-08-05T15:50:12.936709",
     "exception": false,
     "start_time": "2025-08-05T15:50:12.918505",
     "status": "completed"
    },
    "tags": []
   },
   "source": [
    "# Preprocessing Data"
   ]
  },
  {
   "cell_type": "code",
   "execution_count": 19,
   "id": "ca879031",
   "metadata": {
    "execution": {
     "iopub.execute_input": "2025-08-05T15:50:12.975377Z",
     "iopub.status.busy": "2025-08-05T15:50:12.974458Z",
     "iopub.status.idle": "2025-08-05T15:50:12.981142Z",
     "shell.execute_reply": "2025-08-05T15:50:12.980161Z"
    },
    "papermill": {
     "duration": 0.027622,
     "end_time": "2025-08-05T15:50:12.983134",
     "exception": false,
     "start_time": "2025-08-05T15:50:12.955512",
     "status": "completed"
    },
    "tags": []
   },
   "outputs": [],
   "source": [
    "# EXCLUDE PROTECTED FEATURES\n",
    "# ----------------------\n",
    "# \"exclude_features\": \"none\", # \"nationality\", \"sex\", \"nationality-sex\"\n",
    "\n",
    "excluded_features = universe[\"exclude_features\"].split(\"-\") # split, e.g.: \"nationality-sex\" -> [\"nationality\", \"sex\"]\n",
    "excluded_features_dictionary = {\n",
    "    \"nationality\": [\"maxdeutsch1\", \"maxdeutsch.Missing.\"],\n",
    "    \"sex\": [\"frau1\"],\n",
    "    \"age\": [\"age\"],\n",
    "}"
   ]
  },
  {
   "cell_type": "code",
   "execution_count": 20,
   "id": "b745ac60",
   "metadata": {
    "execution": {
     "iopub.execute_input": "2025-08-05T15:50:13.023519Z",
     "iopub.status.busy": "2025-08-05T15:50:13.022632Z",
     "iopub.status.idle": "2025-08-05T15:50:13.028421Z",
     "shell.execute_reply": "2025-08-05T15:50:13.027344Z"
    },
    "papermill": {
     "duration": 0.027845,
     "end_time": "2025-08-05T15:50:13.030440",
     "exception": false,
     "start_time": "2025-08-05T15:50:13.002595",
     "status": "completed"
    },
    "tags": []
   },
   "outputs": [],
   "source": [
    "# Code nice names to column names\n",
    "\n",
    "excluded_features_columns = [\n",
    "    excluded_features_dictionary[f] for f in excluded_features if len(f) > 0 and f != \"none\"\n",
    "]"
   ]
  },
  {
   "cell_type": "code",
   "execution_count": 21,
   "id": "f84f73a2",
   "metadata": {
    "execution": {
     "iopub.execute_input": "2025-08-05T15:50:13.073894Z",
     "iopub.status.busy": "2025-08-05T15:50:13.073060Z",
     "iopub.status.idle": "2025-08-05T15:50:13.079663Z",
     "shell.execute_reply": "2025-08-05T15:50:13.078589Z"
    },
    "papermill": {
     "duration": 0.031079,
     "end_time": "2025-08-05T15:50:13.082064",
     "exception": false,
     "start_time": "2025-08-05T15:50:13.050985",
     "status": "completed"
    },
    "tags": []
   },
   "outputs": [],
   "source": [
    "from utils import flatten_once\n",
    "\n",
    "excluded_features_columns = flatten_once(excluded_features_columns)"
   ]
  },
  {
   "cell_type": "code",
   "execution_count": 22,
   "id": "884dea22",
   "metadata": {
    "execution": {
     "iopub.execute_input": "2025-08-05T15:50:13.118620Z",
     "iopub.status.busy": "2025-08-05T15:50:13.118184Z",
     "iopub.status.idle": "2025-08-05T15:50:13.127007Z",
     "shell.execute_reply": "2025-08-05T15:50:13.126100Z"
    },
    "papermill": {
     "duration": 0.028743,
     "end_time": "2025-08-05T15:50:13.129051",
     "exception": false,
     "start_time": "2025-08-05T15:50:13.100308",
     "status": "completed"
    },
    "tags": []
   },
   "outputs": [
    {
     "name": "stdout",
     "output_type": "stream",
     "text": [
      "Dropping features: ['age']\n"
     ]
    }
   ],
   "source": [
    "if len(excluded_features_columns) > 0:\n",
    "    print(f\"Dropping features: {excluded_features_columns}\")\n",
    "    X_train.drop(excluded_features_columns, axis=1, inplace=True)"
   ]
  },
  {
   "cell_type": "code",
   "execution_count": 23,
   "id": "95ab8b16",
   "metadata": {
    "execution": {
     "iopub.execute_input": "2025-08-05T15:50:13.171722Z",
     "iopub.status.busy": "2025-08-05T15:50:13.171284Z",
     "iopub.status.idle": "2025-08-05T15:50:13.229004Z",
     "shell.execute_reply": "2025-08-05T15:50:13.227802Z"
    },
    "papermill": {
     "duration": 0.081067,
     "end_time": "2025-08-05T15:50:13.231059",
     "exception": false,
     "start_time": "2025-08-05T15:50:13.149992",
     "status": "completed"
    },
    "tags": []
   },
   "outputs": [
    {
     "name": "stdout",
     "output_type": "stream",
     "text": [
      "Dropping features: ['age']\n"
     ]
    }
   ],
   "source": [
    "if len(excluded_features_columns) > 0:\n",
    "    print(f\"Dropping features: {excluded_features_columns}\")\n",
    "    X_test.drop(excluded_features_columns, axis=1, inplace=True)"
   ]
  },
  {
   "cell_type": "code",
   "execution_count": 24,
   "id": "1853aaf5-fb9f-46cb-a2b5-8ea4ae2237e4",
   "metadata": {
    "execution": {
     "iopub.execute_input": "2025-08-05T15:50:13.270707Z",
     "iopub.status.busy": "2025-08-05T15:50:13.270069Z",
     "iopub.status.idle": "2025-08-05T15:50:13.321393Z",
     "shell.execute_reply": "2025-08-05T15:50:13.320054Z"
    },
    "papermill": {
     "duration": 0.075002,
     "end_time": "2025-08-05T15:50:13.325458",
     "exception": false,
     "start_time": "2025-08-05T15:50:13.250456",
     "status": "completed"
    },
    "tags": []
   },
   "outputs": [
    {
     "name": "stdout",
     "output_type": "stream",
     "text": [
      "Dropping features: ['age']\n"
     ]
    }
   ],
   "source": [
    "if len(excluded_features_columns) > 0:\n",
    "    print(f\"Dropping features: {excluded_features_columns}\")\n",
    "    X_calib.drop(excluded_features_columns, axis=1, inplace=True)"
   ]
  },
  {
   "cell_type": "code",
   "execution_count": 25,
   "id": "76c4dc6d",
   "metadata": {
    "execution": {
     "iopub.execute_input": "2025-08-05T15:50:13.375721Z",
     "iopub.status.busy": "2025-08-05T15:50:13.374981Z",
     "iopub.status.idle": "2025-08-05T15:50:13.381442Z",
     "shell.execute_reply": "2025-08-05T15:50:13.380598Z"
    },
    "papermill": {
     "duration": 0.037147,
     "end_time": "2025-08-05T15:50:13.386937",
     "exception": false,
     "start_time": "2025-08-05T15:50:13.349790",
     "status": "completed"
    },
    "tags": []
   },
   "outputs": [],
   "source": [
    "# EXCLUDE CERTAIN SUBGROUPS\n",
    "# ----------------------\n",
    "\n",
    "mode = universe.get(\"exclude_subgroups\", \"keep-all\") \n",
    "# Fetches the exclude_subgroups setting from the universe dict.\n",
    "# Defaults to \"keep-all\" if the key is missing."
   ]
  },
  {
   "cell_type": "code",
   "execution_count": 26,
   "id": "21994072",
   "metadata": {
    "execution": {
     "iopub.execute_input": "2025-08-05T15:50:13.427579Z",
     "iopub.status.busy": "2025-08-05T15:50:13.427028Z",
     "iopub.status.idle": "2025-08-05T15:50:13.434742Z",
     "shell.execute_reply": "2025-08-05T15:50:13.433568Z"
    },
    "papermill": {
     "duration": 0.029384,
     "end_time": "2025-08-05T15:50:13.436991",
     "exception": false,
     "start_time": "2025-08-05T15:50:13.407607",
     "status": "completed"
    },
    "tags": []
   },
   "outputs": [],
   "source": [
    "if mode == \"keep-all\":\n",
    "    keep_mask = pd.Series(True, index=org_train.index)\n",
    "\n",
    "# org_train contains the original feature columns from features_org (in Simson)\n",
    "# features_org contains unprocessed features, for me X_train at beginning ???\n",
    "# For keep-all, creates a boolean Series (keep_mask) of all True, so no rows are removed.\n",
    "\n",
    "elif mode == \"drop-non-german\":\n",
    "    keep_mask = org_train[\"maxdeutsch1\"] == 1 # ??? what about missing values?\n",
    "\n",
    "else:\n",
    "    raise ValueError(f\"Unsupported mode for exclude_subgroups: {mode}\")"
   ]
  },
  {
   "cell_type": "code",
   "execution_count": 27,
   "id": "71651440",
   "metadata": {
    "execution": {
     "iopub.execute_input": "2025-08-05T15:50:13.487004Z",
     "iopub.status.busy": "2025-08-05T15:50:13.485971Z",
     "iopub.status.idle": "2025-08-05T15:50:13.495942Z",
     "shell.execute_reply": "2025-08-05T15:50:13.493914Z"
    },
    "papermill": {
     "duration": 0.036749,
     "end_time": "2025-08-05T15:50:13.497897",
     "exception": false,
     "start_time": "2025-08-05T15:50:13.461148",
     "status": "completed"
    },
    "tags": []
   },
   "outputs": [
    {
     "name": "stdout",
     "output_type": "stream",
     "text": [
      "Dropping 657 rows (13.14%) where mode='drop-non-german'\n"
     ]
    }
   ],
   "source": [
    "n_drop = (~keep_mask).sum() # Calculates how many rows are set to be dropped\n",
    "if n_drop > 0:\n",
    "    pct = n_drop / len(keep_mask) * 100\n",
    "    print(f\"Dropping {n_drop} rows ({pct:.2f}%) where mode='{mode}'\")"
   ]
  },
  {
   "cell_type": "code",
   "execution_count": 28,
   "id": "5fb8eee5",
   "metadata": {
    "execution": {
     "iopub.execute_input": "2025-08-05T15:50:13.537848Z",
     "iopub.status.busy": "2025-08-05T15:50:13.536821Z",
     "iopub.status.idle": "2025-08-05T15:50:13.546102Z",
     "shell.execute_reply": "2025-08-05T15:50:13.544891Z"
    },
    "papermill": {
     "duration": 0.030617,
     "end_time": "2025-08-05T15:50:13.547929",
     "exception": false,
     "start_time": "2025-08-05T15:50:13.517312",
     "status": "completed"
    },
    "tags": []
   },
   "outputs": [],
   "source": [
    "X_train = X_train[keep_mask]"
   ]
  },
  {
   "cell_type": "code",
   "execution_count": 29,
   "id": "b202bb3a",
   "metadata": {
    "execution": {
     "iopub.execute_input": "2025-08-05T15:50:13.587556Z",
     "iopub.status.busy": "2025-08-05T15:50:13.586636Z",
     "iopub.status.idle": "2025-08-05T15:50:13.593180Z",
     "shell.execute_reply": "2025-08-05T15:50:13.591988Z"
    },
    "papermill": {
     "duration": 0.028875,
     "end_time": "2025-08-05T15:50:13.595900",
     "exception": false,
     "start_time": "2025-08-05T15:50:13.567025",
     "status": "completed"
    },
    "tags": []
   },
   "outputs": [],
   "source": [
    "y_train = y_train[keep_mask]"
   ]
  },
  {
   "cell_type": "markdown",
   "id": "493e2ac3",
   "metadata": {
    "papermill": {
     "duration": 0.024353,
     "end_time": "2025-08-05T15:50:13.645722",
     "exception": false,
     "start_time": "2025-08-05T15:50:13.621369",
     "status": "completed"
    },
    "tags": []
   },
   "source": [
    "# Model Training"
   ]
  },
  {
   "cell_type": "code",
   "execution_count": 30,
   "id": "679e1268",
   "metadata": {
    "execution": {
     "iopub.execute_input": "2025-08-05T15:50:13.701084Z",
     "iopub.status.busy": "2025-08-05T15:50:13.700668Z",
     "iopub.status.idle": "2025-08-05T15:50:13.827074Z",
     "shell.execute_reply": "2025-08-05T15:50:13.826029Z"
    },
    "papermill": {
     "duration": 0.154479,
     "end_time": "2025-08-05T15:50:13.829071",
     "exception": false,
     "start_time": "2025-08-05T15:50:13.674592",
     "status": "completed"
    },
    "tags": []
   },
   "outputs": [],
   "source": [
    "from sklearn.linear_model import LogisticRegression\n",
    "from sklearn.ensemble import GradientBoostingClassifier, RandomForestClassifier\n",
    "\n",
    "if (universe[\"model\"] == \"logreg\"):\n",
    "    model = LogisticRegression() #penalty=\"none\", solver=\"newton-cg\", max_iter=1) # include random_state=19 ?\n",
    "elif (universe[\"model\"] == \"penalized_logreg\"):\n",
    "    model = LogisticRegression(penalty=\"l2\", C=0.1) #, solver=\"newton-cg\", max_iter=1)\n",
    "elif (universe[\"model\"] == \"rf\"):\n",
    "    model = RandomForestClassifier() # n_estimators=100, n_jobs=-1\n",
    "elif (universe[\"model\"] == \"gbm\"):\n",
    "    model = GradientBoostingClassifier()\n",
    "elif (universe[\"model\"] == \"elasticnet\"):\n",
    "    model = LogisticRegression(penalty = 'elasticnet', solver = 'saga', l1_ratio = 0.5) # max_iter=5000\n",
    "else:\n",
    "    raise \"Unsupported universe.model\""
   ]
  },
  {
   "cell_type": "code",
   "execution_count": 31,
   "id": "0cc8f744",
   "metadata": {
    "execution": {
     "iopub.execute_input": "2025-08-05T15:50:13.871510Z",
     "iopub.status.busy": "2025-08-05T15:50:13.870837Z",
     "iopub.status.idle": "2025-08-05T15:50:13.877544Z",
     "shell.execute_reply": "2025-08-05T15:50:13.876619Z"
    },
    "papermill": {
     "duration": 0.029315,
     "end_time": "2025-08-05T15:50:13.879314",
     "exception": false,
     "start_time": "2025-08-05T15:50:13.849999",
     "status": "completed"
    },
    "tags": []
   },
   "outputs": [],
   "source": [
    "import numpy as np\n",
    "from sklearn.pipeline import Pipeline\n",
    "from sklearn.preprocessing import StandardScaler\n",
    "\n",
    "model = Pipeline([\n",
    "    #(\"continuous_processor\", continuous_processor),\n",
    "    #(\"categorical_preprocessor\", categorical_preprocessor),\n",
    "    (\"scale\", StandardScaler() if universe[\"scale\"] == \"scale\" else None), \n",
    "    (\"model\", model),\n",
    "])"
   ]
  },
  {
   "cell_type": "code",
   "execution_count": 32,
   "id": "9442c04d",
   "metadata": {
    "execution": {
     "iopub.execute_input": "2025-08-05T15:50:13.923323Z",
     "iopub.status.busy": "2025-08-05T15:50:13.922641Z",
     "iopub.status.idle": "2025-08-05T15:50:14.037175Z",
     "shell.execute_reply": "2025-08-05T15:50:14.036087Z"
    },
    "papermill": {
     "duration": 0.137789,
     "end_time": "2025-08-05T15:50:14.038945",
     "exception": false,
     "start_time": "2025-08-05T15:50:13.901156",
     "status": "completed"
    },
    "tags": []
   },
   "outputs": [
    {
     "data": {
      "text/html": [
       "<style>#sk-container-id-1 {color: black;background-color: white;}#sk-container-id-1 pre{padding: 0;}#sk-container-id-1 div.sk-toggleable {background-color: white;}#sk-container-id-1 label.sk-toggleable__label {cursor: pointer;display: block;width: 100%;margin-bottom: 0;padding: 0.3em;box-sizing: border-box;text-align: center;}#sk-container-id-1 label.sk-toggleable__label-arrow:before {content: \"▸\";float: left;margin-right: 0.25em;color: #696969;}#sk-container-id-1 label.sk-toggleable__label-arrow:hover:before {color: black;}#sk-container-id-1 div.sk-estimator:hover label.sk-toggleable__label-arrow:before {color: black;}#sk-container-id-1 div.sk-toggleable__content {max-height: 0;max-width: 0;overflow: hidden;text-align: left;background-color: #f0f8ff;}#sk-container-id-1 div.sk-toggleable__content pre {margin: 0.2em;color: black;border-radius: 0.25em;background-color: #f0f8ff;}#sk-container-id-1 input.sk-toggleable__control:checked~div.sk-toggleable__content {max-height: 200px;max-width: 100%;overflow: auto;}#sk-container-id-1 input.sk-toggleable__control:checked~label.sk-toggleable__label-arrow:before {content: \"▾\";}#sk-container-id-1 div.sk-estimator input.sk-toggleable__control:checked~label.sk-toggleable__label {background-color: #d4ebff;}#sk-container-id-1 div.sk-label input.sk-toggleable__control:checked~label.sk-toggleable__label {background-color: #d4ebff;}#sk-container-id-1 input.sk-hidden--visually {border: 0;clip: rect(1px 1px 1px 1px);clip: rect(1px, 1px, 1px, 1px);height: 1px;margin: -1px;overflow: hidden;padding: 0;position: absolute;width: 1px;}#sk-container-id-1 div.sk-estimator {font-family: monospace;background-color: #f0f8ff;border: 1px dotted black;border-radius: 0.25em;box-sizing: border-box;margin-bottom: 0.5em;}#sk-container-id-1 div.sk-estimator:hover {background-color: #d4ebff;}#sk-container-id-1 div.sk-parallel-item::after {content: \"\";width: 100%;border-bottom: 1px solid gray;flex-grow: 1;}#sk-container-id-1 div.sk-label:hover label.sk-toggleable__label {background-color: #d4ebff;}#sk-container-id-1 div.sk-serial::before {content: \"\";position: absolute;border-left: 1px solid gray;box-sizing: border-box;top: 0;bottom: 0;left: 50%;z-index: 0;}#sk-container-id-1 div.sk-serial {display: flex;flex-direction: column;align-items: center;background-color: white;padding-right: 0.2em;padding-left: 0.2em;position: relative;}#sk-container-id-1 div.sk-item {position: relative;z-index: 1;}#sk-container-id-1 div.sk-parallel {display: flex;align-items: stretch;justify-content: center;background-color: white;position: relative;}#sk-container-id-1 div.sk-item::before, #sk-container-id-1 div.sk-parallel-item::before {content: \"\";position: absolute;border-left: 1px solid gray;box-sizing: border-box;top: 0;bottom: 0;left: 50%;z-index: -1;}#sk-container-id-1 div.sk-parallel-item {display: flex;flex-direction: column;z-index: 1;position: relative;background-color: white;}#sk-container-id-1 div.sk-parallel-item:first-child::after {align-self: flex-end;width: 50%;}#sk-container-id-1 div.sk-parallel-item:last-child::after {align-self: flex-start;width: 50%;}#sk-container-id-1 div.sk-parallel-item:only-child::after {width: 0;}#sk-container-id-1 div.sk-dashed-wrapped {border: 1px dashed gray;margin: 0 0.4em 0.5em 0.4em;box-sizing: border-box;padding-bottom: 0.4em;background-color: white;}#sk-container-id-1 div.sk-label label {font-family: monospace;font-weight: bold;display: inline-block;line-height: 1.2em;}#sk-container-id-1 div.sk-label-container {text-align: center;}#sk-container-id-1 div.sk-container {/* jupyter's `normalize.less` sets `[hidden] { display: none; }` but bootstrap.min.css set `[hidden] { display: none !important; }` so we also need the `!important` here to be able to override the default hidden behavior on the sphinx rendered scikit-learn.org. See: https://github.com/scikit-learn/scikit-learn/issues/21755 */display: inline-block !important;position: relative;}#sk-container-id-1 div.sk-text-repr-fallback {display: none;}</style><div id=\"sk-container-id-1\" class=\"sk-top-container\"><div class=\"sk-text-repr-fallback\"><pre>Pipeline(steps=[(&#x27;scale&#x27;, StandardScaler()),\n",
       "                (&#x27;model&#x27;, LogisticRegression(C=0.1))])</pre><b>In a Jupyter environment, please rerun this cell to show the HTML representation or trust the notebook. <br />On GitHub, the HTML representation is unable to render, please try loading this page with nbviewer.org.</b></div><div class=\"sk-container\" hidden><div class=\"sk-item sk-dashed-wrapped\"><div class=\"sk-label-container\"><div class=\"sk-label sk-toggleable\"><input class=\"sk-toggleable__control sk-hidden--visually\" id=\"sk-estimator-id-1\" type=\"checkbox\" ><label for=\"sk-estimator-id-1\" class=\"sk-toggleable__label sk-toggleable__label-arrow\">Pipeline</label><div class=\"sk-toggleable__content\"><pre>Pipeline(steps=[(&#x27;scale&#x27;, StandardScaler()),\n",
       "                (&#x27;model&#x27;, LogisticRegression(C=0.1))])</pre></div></div></div><div class=\"sk-serial\"><div class=\"sk-item\"><div class=\"sk-estimator sk-toggleable\"><input class=\"sk-toggleable__control sk-hidden--visually\" id=\"sk-estimator-id-2\" type=\"checkbox\" ><label for=\"sk-estimator-id-2\" class=\"sk-toggleable__label sk-toggleable__label-arrow\">StandardScaler</label><div class=\"sk-toggleable__content\"><pre>StandardScaler()</pre></div></div></div><div class=\"sk-item\"><div class=\"sk-estimator sk-toggleable\"><input class=\"sk-toggleable__control sk-hidden--visually\" id=\"sk-estimator-id-3\" type=\"checkbox\" ><label for=\"sk-estimator-id-3\" class=\"sk-toggleable__label sk-toggleable__label-arrow\">LogisticRegression</label><div class=\"sk-toggleable__content\"><pre>LogisticRegression(C=0.1)</pre></div></div></div></div></div></div></div>"
      ],
      "text/plain": [
       "Pipeline(steps=[('scale', StandardScaler()),\n",
       "                ('model', LogisticRegression(C=0.1))])"
      ]
     },
     "execution_count": 32,
     "metadata": {},
     "output_type": "execute_result"
    }
   ],
   "source": [
    "model.fit(X_train, y_train.values.ravel())"
   ]
  },
  {
   "cell_type": "code",
   "execution_count": 33,
   "id": "af59f8c0",
   "metadata": {
    "execution": {
     "iopub.execute_input": "2025-08-05T15:50:14.084712Z",
     "iopub.status.busy": "2025-08-05T15:50:14.083705Z",
     "iopub.status.idle": "2025-08-05T15:50:14.090917Z",
     "shell.execute_reply": "2025-08-05T15:50:14.089632Z"
    },
    "papermill": {
     "duration": 0.032897,
     "end_time": "2025-08-05T15:50:14.092973",
     "exception": false,
     "start_time": "2025-08-05T15:50:14.060076",
     "status": "completed"
    },
    "tags": []
   },
   "outputs": [],
   "source": [
    "from fairness_multiverse.universe import predict_w_threshold"
   ]
  },
  {
   "cell_type": "code",
   "execution_count": 34,
   "id": "a7cf2e16",
   "metadata": {
    "execution": {
     "iopub.execute_input": "2025-08-05T15:50:14.136150Z",
     "iopub.status.busy": "2025-08-05T15:50:14.135683Z",
     "iopub.status.idle": "2025-08-05T15:50:14.329155Z",
     "shell.execute_reply": "2025-08-05T15:50:14.328180Z"
    },
    "papermill": {
     "duration": 0.217068,
     "end_time": "2025-08-05T15:50:14.331275",
     "exception": false,
     "start_time": "2025-08-05T15:50:14.114207",
     "status": "completed"
    },
    "tags": []
   },
   "outputs": [
    {
     "data": {
      "text/plain": [
       "0.8529483892542638"
      ]
     },
     "execution_count": 34,
     "metadata": {},
     "output_type": "execute_result"
    }
   ],
   "source": [
    "probs_test = model.predict_proba(X_test)\n",
    "\n",
    "'''\n",
    "Below code returns a boolean array (or binary 0/1 array depending on how it’s used) where each element \n",
    "is True if the probability of class 1 is greater than or equal to the threshold, and False otherwise.\n",
    "'''\n",
    "y_pred_default = predict_w_threshold(probs_test, 0.5)\n",
    "\n",
    "from sklearn.metrics import accuracy_score\n",
    "\n",
    "# Naive prediction\n",
    "accuracy_score(y_true = y_true, y_pred = y_pred_default)"
   ]
  },
  {
   "cell_type": "code",
   "execution_count": 35,
   "id": "081964c3",
   "metadata": {
    "execution": {
     "iopub.execute_input": "2025-08-05T15:50:14.375356Z",
     "iopub.status.busy": "2025-08-05T15:50:14.374690Z",
     "iopub.status.idle": "2025-08-05T15:50:14.556491Z",
     "shell.execute_reply": "2025-08-05T15:50:14.555472Z"
    },
    "papermill": {
     "duration": 0.204724,
     "end_time": "2025-08-05T15:50:14.558104",
     "exception": false,
     "start_time": "2025-08-05T15:50:14.353380",
     "status": "completed"
    },
    "tags": []
   },
   "outputs": [
    {
     "data": {
      "text/plain": [
       "array([0, 0, 0, ..., 0, 0, 0])"
      ]
     },
     "execution_count": 35,
     "metadata": {},
     "output_type": "execute_result"
    }
   ],
   "source": [
    "model.predict(X_test)"
   ]
  },
  {
   "cell_type": "markdown",
   "id": "56c9705b",
   "metadata": {
    "papermill": {
     "duration": 0.018025,
     "end_time": "2025-08-05T15:50:14.596347",
     "exception": false,
     "start_time": "2025-08-05T15:50:14.578322",
     "status": "completed"
    },
    "tags": []
   },
   "source": [
    "# Conformal Prediction"
   ]
  },
  {
   "cell_type": "code",
   "execution_count": 36,
   "id": "160ec6ff",
   "metadata": {
    "execution": {
     "iopub.execute_input": "2025-08-05T15:50:14.635981Z",
     "iopub.status.busy": "2025-08-05T15:50:14.635076Z",
     "iopub.status.idle": "2025-08-05T15:50:14.641869Z",
     "shell.execute_reply": "2025-08-05T15:50:14.640627Z"
    },
    "papermill": {
     "duration": 0.028719,
     "end_time": "2025-08-05T15:50:14.643782",
     "exception": false,
     "start_time": "2025-08-05T15:50:14.615063",
     "status": "completed"
    },
    "tags": []
   },
   "outputs": [],
   "source": [
    "# Miscoverage level for conformal prediction (10% allowed error rate => 90% target coverage)\n",
    "alpha = 0.1"
   ]
  },
  {
   "cell_type": "code",
   "execution_count": 37,
   "id": "eadf4555-3dd3-440e-8e35-f82a4ad9f855",
   "metadata": {
    "execution": {
     "iopub.execute_input": "2025-08-05T15:50:14.684826Z",
     "iopub.status.busy": "2025-08-05T15:50:14.684215Z",
     "iopub.status.idle": "2025-08-05T15:50:14.870366Z",
     "shell.execute_reply": "2025-08-05T15:50:14.869388Z"
    },
    "papermill": {
     "duration": 0.208329,
     "end_time": "2025-08-05T15:50:14.872276",
     "exception": false,
     "start_time": "2025-08-05T15:50:14.663947",
     "status": "completed"
    },
    "tags": []
   },
   "outputs": [],
   "source": [
    "probs_calib = model.predict_proba(X_calib)"
   ]
  },
  {
   "cell_type": "code",
   "execution_count": 38,
   "id": "2ed93547-6d5d-4983-9b36-1ecb300da49a",
   "metadata": {
    "execution": {
     "iopub.execute_input": "2025-08-05T15:50:14.913979Z",
     "iopub.status.busy": "2025-08-05T15:50:14.912944Z",
     "iopub.status.idle": "2025-08-05T15:50:14.918853Z",
     "shell.execute_reply": "2025-08-05T15:50:14.917992Z"
    },
    "papermill": {
     "duration": 0.029007,
     "end_time": "2025-08-05T15:50:14.920433",
     "exception": false,
     "start_time": "2025-08-05T15:50:14.891426",
     "status": "completed"
    },
    "tags": []
   },
   "outputs": [],
   "source": [
    "y_calib = y_calib.values.ravel().astype(int)"
   ]
  },
  {
   "cell_type": "code",
   "execution_count": 39,
   "id": "65d1320d-f588-4b38-9072-62af1ae97f7d",
   "metadata": {
    "execution": {
     "iopub.execute_input": "2025-08-05T15:50:14.960968Z",
     "iopub.status.busy": "2025-08-05T15:50:14.960228Z",
     "iopub.status.idle": "2025-08-05T15:50:14.968801Z",
     "shell.execute_reply": "2025-08-05T15:50:14.967564Z"
    },
    "papermill": {
     "duration": 0.029785,
     "end_time": "2025-08-05T15:50:14.970805",
     "exception": false,
     "start_time": "2025-08-05T15:50:14.941020",
     "status": "completed"
    },
    "tags": []
   },
   "outputs": [],
   "source": [
    "from fairness_multiverse.conformal import compute_nc_scores\n",
    "\n",
    "# Compute nonconformity scores on calibration set (1 - probability of true class)\n",
    "nc_scores = compute_nc_scores(probs_calib, y_calib)"
   ]
  },
  {
   "cell_type": "code",
   "execution_count": 40,
   "id": "df3b8ca3-53b7-43d5-9667-7c85da7aeda2",
   "metadata": {
    "execution": {
     "iopub.execute_input": "2025-08-05T15:50:15.018781Z",
     "iopub.status.busy": "2025-08-05T15:50:15.017838Z",
     "iopub.status.idle": "2025-08-05T15:50:15.025251Z",
     "shell.execute_reply": "2025-08-05T15:50:15.024096Z"
    },
    "papermill": {
     "duration": 0.033194,
     "end_time": "2025-08-05T15:50:15.027344",
     "exception": false,
     "start_time": "2025-08-05T15:50:14.994150",
     "status": "completed"
    },
    "tags": []
   },
   "outputs": [],
   "source": [
    "from fairness_multiverse.conformal import find_threshold\n",
    "\n",
    "# Find conformal threshold q_hat for the given alpha (split conformal method)\n",
    "q_hat = find_threshold(nc_scores, alpha)"
   ]
  },
  {
   "cell_type": "code",
   "execution_count": 41,
   "id": "4d29e6c1-0ef6-4aa4-b8fe-4fe79b0d033a",
   "metadata": {
    "execution": {
     "iopub.execute_input": "2025-08-05T15:50:15.077821Z",
     "iopub.status.busy": "2025-08-05T15:50:15.076852Z",
     "iopub.status.idle": "2025-08-05T15:50:15.084836Z",
     "shell.execute_reply": "2025-08-05T15:50:15.083680Z"
    },
    "papermill": {
     "duration": 0.034305,
     "end_time": "2025-08-05T15:50:15.087046",
     "exception": false,
     "start_time": "2025-08-05T15:50:15.052741",
     "status": "completed"
    },
    "tags": []
   },
   "outputs": [
    {
     "data": {
      "text/plain": [
       "0.690886620252503"
      ]
     },
     "execution_count": 41,
     "metadata": {},
     "output_type": "execute_result"
    }
   ],
   "source": [
    "q_hat"
   ]
  },
  {
   "cell_type": "code",
   "execution_count": 42,
   "id": "92460794-cdac-4be2-ba28-f28c0515a6fb",
   "metadata": {
    "execution": {
     "iopub.execute_input": "2025-08-05T15:50:15.126796Z",
     "iopub.status.busy": "2025-08-05T15:50:15.126445Z",
     "iopub.status.idle": "2025-08-05T15:50:16.022154Z",
     "shell.execute_reply": "2025-08-05T15:50:16.021351Z"
    },
    "papermill": {
     "duration": 0.913673,
     "end_time": "2025-08-05T15:50:16.023724",
     "exception": false,
     "start_time": "2025-08-05T15:50:15.110051",
     "status": "completed"
    },
    "tags": []
   },
   "outputs": [],
   "source": [
    "from fairness_multiverse.conformal import predict_conformal_sets\n",
    "\n",
    "# Generate prediction sets for each test example\n",
    "pred_sets = predict_conformal_sets(model, X_test, q_hat)"
   ]
  },
  {
   "cell_type": "code",
   "execution_count": 43,
   "id": "d90c9a65-e6db-4f5d-80cd-e68fb7e46829",
   "metadata": {
    "execution": {
     "iopub.execute_input": "2025-08-05T15:50:16.047281Z",
     "iopub.status.busy": "2025-08-05T15:50:16.046931Z",
     "iopub.status.idle": "2025-08-05T15:50:16.051820Z",
     "shell.execute_reply": "2025-08-05T15:50:16.050977Z"
    },
    "papermill": {
     "duration": 0.018111,
     "end_time": "2025-08-05T15:50:16.053165",
     "exception": false,
     "start_time": "2025-08-05T15:50:16.035054",
     "status": "completed"
    },
    "tags": []
   },
   "outputs": [],
   "source": [
    "y_true = y_true.squeeze()"
   ]
  },
  {
   "cell_type": "code",
   "execution_count": 44,
   "id": "3a58a54a-1e68-46b9-927a-df01f18aebc8",
   "metadata": {
    "execution": {
     "iopub.execute_input": "2025-08-05T15:50:16.078460Z",
     "iopub.status.busy": "2025-08-05T15:50:16.077742Z",
     "iopub.status.idle": "2025-08-05T15:50:16.632341Z",
     "shell.execute_reply": "2025-08-05T15:50:16.631297Z"
    },
    "papermill": {
     "duration": 0.56876,
     "end_time": "2025-08-05T15:50:16.634557",
     "exception": false,
     "start_time": "2025-08-05T15:50:16.065797",
     "status": "completed"
    },
    "tags": []
   },
   "outputs": [],
   "source": [
    "from fairness_multiverse.conformal import evaluate_sets\n",
    "\n",
    "# Evaluate coverage and average set size on test data\n",
    "metrics = evaluate_sets(pred_sets, y_true)"
   ]
  },
  {
   "cell_type": "markdown",
   "id": "2b569c12-9aaa-4c88-98c9-bbcd0cf3ebb8",
   "metadata": {
    "papermill": {
     "duration": 0.024454,
     "end_time": "2025-08-05T15:50:16.685803",
     "exception": false,
     "start_time": "2025-08-05T15:50:16.661349",
     "status": "completed"
    },
    "tags": []
   },
   "source": [
    "# CP Metrics"
   ]
  },
  {
   "cell_type": "code",
   "execution_count": 45,
   "id": "5ce0a5cb-201f-45a0-ade5-94c7f0bd6095",
   "metadata": {
    "execution": {
     "iopub.execute_input": "2025-08-05T15:50:16.736632Z",
     "iopub.status.busy": "2025-08-05T15:50:16.735656Z",
     "iopub.status.idle": "2025-08-05T15:50:16.745758Z",
     "shell.execute_reply": "2025-08-05T15:50:16.744434Z"
    },
    "papermill": {
     "duration": 0.037777,
     "end_time": "2025-08-05T15:50:16.747800",
     "exception": false,
     "start_time": "2025-08-05T15:50:16.710023",
     "status": "completed"
    },
    "tags": []
   },
   "outputs": [
    {
     "data": {
      "text/plain": [
       "{'coverage': 0.9104113253817857, 'avg_size': 1.1459703489020177}"
      ]
     },
     "execution_count": 45,
     "metadata": {},
     "output_type": "execute_result"
    }
   ],
   "source": [
    "metrics"
   ]
  },
  {
   "cell_type": "code",
   "execution_count": 46,
   "id": "9b9a838d-31c9-430b-ae14-12baee460d17",
   "metadata": {
    "execution": {
     "iopub.execute_input": "2025-08-05T15:50:16.796438Z",
     "iopub.status.busy": "2025-08-05T15:50:16.795915Z",
     "iopub.status.idle": "2025-08-05T15:50:16.803278Z",
     "shell.execute_reply": "2025-08-05T15:50:16.802132Z"
    },
    "papermill": {
     "duration": 0.033408,
     "end_time": "2025-08-05T15:50:16.805314",
     "exception": false,
     "start_time": "2025-08-05T15:50:16.771906",
     "status": "completed"
    },
    "tags": []
   },
   "outputs": [],
   "source": [
    "example_universe = universe.copy()\n",
    "universe_training_year = example_universe.get(\"training_year\")\n",
    "universe_training_size = example_universe.get(\"training_size\")\n",
    "universe_scale = example_universe.get(\"scale\")\n",
    "universe_model = example_universe.get(\"model\")\n",
    "universe_exclude_features = example_universe.get(\"exclude_features\")\n",
    "universe_exclude_subgroups = example_universe.get(\"exclude_subgroups\")"
   ]
  },
  {
   "cell_type": "code",
   "execution_count": 47,
   "id": "f4b6a8ac-9dc0-4245-8a91-5b3b5999c4f9",
   "metadata": {
    "execution": {
     "iopub.execute_input": "2025-08-05T15:50:16.854334Z",
     "iopub.status.busy": "2025-08-05T15:50:16.853816Z",
     "iopub.status.idle": "2025-08-05T15:50:16.861349Z",
     "shell.execute_reply": "2025-08-05T15:50:16.860121Z"
    },
    "papermill": {
     "duration": 0.034684,
     "end_time": "2025-08-05T15:50:16.863658",
     "exception": false,
     "start_time": "2025-08-05T15:50:16.828974",
     "status": "completed"
    },
    "tags": []
   },
   "outputs": [],
   "source": [
    "cp_metrics_dict = {\n",
    "    \"universe_id\": [universe_id],\n",
    "    \"universe_training_year\": [universe_training_year],\n",
    "    \"universe_training_size\": [universe_training_size],\n",
    "    \"universe_scale\": [universe_scale],\n",
    "    \"universe_model\": [universe_model],\n",
    "    \"universe_exclude_features\": [universe_exclude_features],\n",
    "    \"universe_exclude_subgroups\": [universe_exclude_subgroups],\n",
    "    \"q_hat\": [q_hat],\n",
    "    \"coverage\": [metrics[\"coverage\"]],\n",
    "    \"avg_size\": [metrics[\"avg_size\"]],\n",
    "}"
   ]
  },
  {
   "cell_type": "code",
   "execution_count": 48,
   "id": "908acbb1-0371-4915-85ca-3fa520d2efe2",
   "metadata": {
    "execution": {
     "iopub.execute_input": "2025-08-05T15:50:16.908430Z",
     "iopub.status.busy": "2025-08-05T15:50:16.907562Z",
     "iopub.status.idle": "2025-08-05T15:50:16.915740Z",
     "shell.execute_reply": "2025-08-05T15:50:16.914820Z"
    },
    "papermill": {
     "duration": 0.030332,
     "end_time": "2025-08-05T15:50:16.917219",
     "exception": false,
     "start_time": "2025-08-05T15:50:16.886887",
     "status": "completed"
    },
    "tags": []
   },
   "outputs": [
    {
     "data": {
      "text/plain": [
       "{'universe_id': ['94389723bf4d828fe85086408491c079'],\n",
       " 'universe_training_year': ['2010_14'],\n",
       " 'universe_training_size': ['5k'],\n",
       " 'universe_scale': ['scale'],\n",
       " 'universe_model': ['penalized_logreg'],\n",
       " 'universe_exclude_features': ['age'],\n",
       " 'universe_exclude_subgroups': ['drop-non-german'],\n",
       " 'q_hat': [0.690886620252503],\n",
       " 'coverage': [0.9104113253817857],\n",
       " 'avg_size': [1.1459703489020177]}"
      ]
     },
     "execution_count": 48,
     "metadata": {},
     "output_type": "execute_result"
    }
   ],
   "source": [
    "cp_metrics_dict"
   ]
  },
  {
   "cell_type": "code",
   "execution_count": 49,
   "id": "33007efc-14e9-4ec6-97ac-56a455c82265",
   "metadata": {
    "execution": {
     "iopub.execute_input": "2025-08-05T15:50:16.970058Z",
     "iopub.status.busy": "2025-08-05T15:50:16.969091Z",
     "iopub.status.idle": "2025-08-05T15:50:16.975898Z",
     "shell.execute_reply": "2025-08-05T15:50:16.974882Z"
    },
    "papermill": {
     "duration": 0.035633,
     "end_time": "2025-08-05T15:50:16.977863",
     "exception": false,
     "start_time": "2025-08-05T15:50:16.942230",
     "status": "completed"
    },
    "tags": []
   },
   "outputs": [],
   "source": [
    "cp_metrics_df = pd.DataFrame(cp_metrics_dict)"
   ]
  },
  {
   "cell_type": "code",
   "execution_count": 50,
   "id": "db12611b-57b2-4910-b9d0-355adfd6e7bf",
   "metadata": {
    "execution": {
     "iopub.execute_input": "2025-08-05T15:50:17.012423Z",
     "iopub.status.busy": "2025-08-05T15:50:17.011774Z",
     "iopub.status.idle": "2025-08-05T15:50:17.030286Z",
     "shell.execute_reply": "2025-08-05T15:50:17.029412Z"
    },
    "papermill": {
     "duration": 0.033859,
     "end_time": "2025-08-05T15:50:17.031951",
     "exception": false,
     "start_time": "2025-08-05T15:50:16.998092",
     "status": "completed"
    },
    "tags": []
   },
   "outputs": [
    {
     "data": {
      "text/html": [
       "<div>\n",
       "<style scoped>\n",
       "    .dataframe tbody tr th:only-of-type {\n",
       "        vertical-align: middle;\n",
       "    }\n",
       "\n",
       "    .dataframe tbody tr th {\n",
       "        vertical-align: top;\n",
       "    }\n",
       "\n",
       "    .dataframe thead th {\n",
       "        text-align: right;\n",
       "    }\n",
       "</style>\n",
       "<table border=\"1\" class=\"dataframe\">\n",
       "  <thead>\n",
       "    <tr style=\"text-align: right;\">\n",
       "      <th></th>\n",
       "      <th>universe_id</th>\n",
       "      <th>universe_training_year</th>\n",
       "      <th>universe_training_size</th>\n",
       "      <th>universe_scale</th>\n",
       "      <th>universe_model</th>\n",
       "      <th>universe_exclude_features</th>\n",
       "      <th>universe_exclude_subgroups</th>\n",
       "      <th>q_hat</th>\n",
       "      <th>coverage</th>\n",
       "      <th>avg_size</th>\n",
       "    </tr>\n",
       "  </thead>\n",
       "  <tbody>\n",
       "    <tr>\n",
       "      <th>0</th>\n",
       "      <td>94389723bf4d828fe85086408491c079</td>\n",
       "      <td>2010_14</td>\n",
       "      <td>5k</td>\n",
       "      <td>scale</td>\n",
       "      <td>penalized_logreg</td>\n",
       "      <td>age</td>\n",
       "      <td>drop-non-german</td>\n",
       "      <td>0.690887</td>\n",
       "      <td>0.910411</td>\n",
       "      <td>1.14597</td>\n",
       "    </tr>\n",
       "  </tbody>\n",
       "</table>\n",
       "</div>"
      ],
      "text/plain": [
       "                        universe_id universe_training_year  \\\n",
       "0  94389723bf4d828fe85086408491c079                2010_14   \n",
       "\n",
       "  universe_training_size universe_scale    universe_model  \\\n",
       "0                     5k          scale  penalized_logreg   \n",
       "\n",
       "  universe_exclude_features universe_exclude_subgroups     q_hat  coverage  \\\n",
       "0                       age            drop-non-german  0.690887  0.910411   \n",
       "\n",
       "   avg_size  \n",
       "0   1.14597  "
      ]
     },
     "execution_count": 50,
     "metadata": {},
     "output_type": "execute_result"
    }
   ],
   "source": [
    "cp_metrics_df"
   ]
  },
  {
   "cell_type": "code",
   "execution_count": 51,
   "id": "b7fbde55-a0a1-47e4-9af6-fe4a17fa8c61",
   "metadata": {
    "execution": {
     "iopub.execute_input": "2025-08-05T15:50:17.080471Z",
     "iopub.status.busy": "2025-08-05T15:50:17.079957Z",
     "iopub.status.idle": "2025-08-05T15:50:17.083769Z",
     "shell.execute_reply": "2025-08-05T15:50:17.082939Z"
    },
    "papermill": {
     "duration": 0.029258,
     "end_time": "2025-08-05T15:50:17.085435",
     "exception": false,
     "start_time": "2025-08-05T15:50:17.056177",
     "status": "completed"
    },
    "tags": []
   },
   "outputs": [],
   "source": [
    "# Conditional Coverage & looking at subgroups"
   ]
  },
  {
   "cell_type": "code",
   "execution_count": 52,
   "id": "027ae886-68dd-4141-96c7-805a5450e1ef",
   "metadata": {
    "execution": {
     "iopub.execute_input": "2025-08-05T15:50:17.134377Z",
     "iopub.status.busy": "2025-08-05T15:50:17.133861Z",
     "iopub.status.idle": "2025-08-05T15:50:17.378777Z",
     "shell.execute_reply": "2025-08-05T15:50:17.377966Z"
    },
    "papermill": {
     "duration": 0.270385,
     "end_time": "2025-08-05T15:50:17.380359",
     "exception": false,
     "start_time": "2025-08-05T15:50:17.109974",
     "status": "completed"
    },
    "tags": []
   },
   "outputs": [],
   "source": [
    "from fairness_multiverse.conformal import build_cp_groups\n",
    "\n",
    "cp_groups_df = build_cp_groups(pred_sets, y_true, X_test.index, org_test)\n",
    "#needs universe_id and setting"
   ]
  },
  {
   "cell_type": "code",
   "execution_count": 53,
   "id": "6cbdab96-b2b2-45af-ad54-d0516db2e28d",
   "metadata": {
    "execution": {
     "iopub.execute_input": "2025-08-05T15:50:17.405165Z",
     "iopub.status.busy": "2025-08-05T15:50:17.404573Z",
     "iopub.status.idle": "2025-08-05T15:50:18.954732Z",
     "shell.execute_reply": "2025-08-05T15:50:18.953686Z"
    },
    "papermill": {
     "duration": 1.56394,
     "end_time": "2025-08-05T15:50:18.956779",
     "exception": false,
     "start_time": "2025-08-05T15:50:17.392839",
     "status": "completed"
    },
    "tags": []
   },
   "outputs": [],
   "source": [
    "# Define covered = 1 if true_label is in the predicted set\n",
    "cp_groups_df['covered'] = cp_groups_df.apply(\n",
    "    lambda r: int(r['true_label'] in r['pred_set']),\n",
    "    axis=1\n",
    ")"
   ]
  },
  {
   "cell_type": "code",
   "execution_count": 54,
   "id": "338ff529-1a6b-4b87-a931-8e4788d52aad",
   "metadata": {
    "execution": {
     "iopub.execute_input": "2025-08-05T15:50:19.009129Z",
     "iopub.status.busy": "2025-08-05T15:50:19.008050Z",
     "iopub.status.idle": "2025-08-05T15:50:19.013596Z",
     "shell.execute_reply": "2025-08-05T15:50:19.012608Z"
    },
    "papermill": {
     "duration": 0.034576,
     "end_time": "2025-08-05T15:50:19.015993",
     "exception": false,
     "start_time": "2025-08-05T15:50:18.981417",
     "status": "completed"
    },
    "tags": []
   },
   "outputs": [],
   "source": [
    "#cp_groups_df"
   ]
  },
  {
   "cell_type": "code",
   "execution_count": 55,
   "id": "90032e27-66df-4540-9169-4e89cfbaa758",
   "metadata": {
    "execution": {
     "iopub.execute_input": "2025-08-05T15:50:19.071146Z",
     "iopub.status.busy": "2025-08-05T15:50:19.070624Z",
     "iopub.status.idle": "2025-08-05T15:50:19.083250Z",
     "shell.execute_reply": "2025-08-05T15:50:19.082059Z"
    },
    "papermill": {
     "duration": 0.043614,
     "end_time": "2025-08-05T15:50:19.085421",
     "exception": false,
     "start_time": "2025-08-05T15:50:19.041807",
     "status": "completed"
    },
    "tags": []
   },
   "outputs": [],
   "source": [
    "subgroups = ['frau1','nongerman','nongerman_male','nongerman_female']\n",
    "\n",
    "# Conditional coverage for subgroup==1\n",
    "cond_coverage = {\n",
    "    g: cp_groups_df.loc[cp_groups_df[g]==1, 'covered'].mean()\n",
    "    for g in subgroups\n",
    "}"
   ]
  },
  {
   "cell_type": "code",
   "execution_count": 56,
   "id": "1e348fb1-b9c3-45bc-ba23-f016827a7e0d",
   "metadata": {
    "execution": {
     "iopub.execute_input": "2025-08-05T15:50:19.140769Z",
     "iopub.status.busy": "2025-08-05T15:50:19.139879Z",
     "iopub.status.idle": "2025-08-05T15:50:19.148193Z",
     "shell.execute_reply": "2025-08-05T15:50:19.147017Z"
    },
    "papermill": {
     "duration": 0.036644,
     "end_time": "2025-08-05T15:50:19.150067",
     "exception": false,
     "start_time": "2025-08-05T15:50:19.113423",
     "status": "completed"
    },
    "tags": []
   },
   "outputs": [
    {
     "data": {
      "text/plain": [
       "{'frau1': 0.9076964550478501,\n",
       " 'nongerman': 0.9079885476898895,\n",
       " 'nongerman_male': 0.9249752319193011,\n",
       " 'nongerman_female': 0.8798807749627422}"
      ]
     },
     "execution_count": 56,
     "metadata": {},
     "output_type": "execute_result"
    }
   ],
   "source": [
    "cond_coverage"
   ]
  },
  {
   "cell_type": "code",
   "execution_count": 57,
   "id": "f5093324-c3dd-4d63-bc4c-8d945e5c8bbb",
   "metadata": {
    "execution": {
     "iopub.execute_input": "2025-08-05T15:50:19.196466Z",
     "iopub.status.busy": "2025-08-05T15:50:19.195615Z",
     "iopub.status.idle": "2025-08-05T15:50:19.203172Z",
     "shell.execute_reply": "2025-08-05T15:50:19.202090Z"
    },
    "papermill": {
     "duration": 0.032678,
     "end_time": "2025-08-05T15:50:19.205204",
     "exception": false,
     "start_time": "2025-08-05T15:50:19.172526",
     "status": "completed"
    },
    "tags": []
   },
   "outputs": [],
   "source": [
    "for subgroup, cov in cond_coverage.items():\n",
    "    cp_metrics_df[f\"cov_{subgroup}\"] = cov"
   ]
  },
  {
   "cell_type": "code",
   "execution_count": 58,
   "id": "6e872e10-dbe5-49e8-b554-5030c98ff75d",
   "metadata": {
    "execution": {
     "iopub.execute_input": "2025-08-05T15:50:19.258967Z",
     "iopub.status.busy": "2025-08-05T15:50:19.258039Z",
     "iopub.status.idle": "2025-08-05T15:50:19.278980Z",
     "shell.execute_reply": "2025-08-05T15:50:19.278002Z"
    },
    "papermill": {
     "duration": 0.050089,
     "end_time": "2025-08-05T15:50:19.280708",
     "exception": false,
     "start_time": "2025-08-05T15:50:19.230619",
     "status": "completed"
    },
    "tags": []
   },
   "outputs": [
    {
     "data": {
      "text/html": [
       "<div>\n",
       "<style scoped>\n",
       "    .dataframe tbody tr th:only-of-type {\n",
       "        vertical-align: middle;\n",
       "    }\n",
       "\n",
       "    .dataframe tbody tr th {\n",
       "        vertical-align: top;\n",
       "    }\n",
       "\n",
       "    .dataframe thead th {\n",
       "        text-align: right;\n",
       "    }\n",
       "</style>\n",
       "<table border=\"1\" class=\"dataframe\">\n",
       "  <thead>\n",
       "    <tr style=\"text-align: right;\">\n",
       "      <th></th>\n",
       "      <th>universe_id</th>\n",
       "      <th>universe_training_year</th>\n",
       "      <th>universe_training_size</th>\n",
       "      <th>universe_scale</th>\n",
       "      <th>universe_model</th>\n",
       "      <th>universe_exclude_features</th>\n",
       "      <th>universe_exclude_subgroups</th>\n",
       "      <th>q_hat</th>\n",
       "      <th>coverage</th>\n",
       "      <th>avg_size</th>\n",
       "      <th>cov_frau1</th>\n",
       "      <th>cov_nongerman</th>\n",
       "      <th>cov_nongerman_male</th>\n",
       "      <th>cov_nongerman_female</th>\n",
       "    </tr>\n",
       "  </thead>\n",
       "  <tbody>\n",
       "    <tr>\n",
       "      <th>0</th>\n",
       "      <td>94389723bf4d828fe85086408491c079</td>\n",
       "      <td>2010_14</td>\n",
       "      <td>5k</td>\n",
       "      <td>scale</td>\n",
       "      <td>penalized_logreg</td>\n",
       "      <td>age</td>\n",
       "      <td>drop-non-german</td>\n",
       "      <td>0.690887</td>\n",
       "      <td>0.910411</td>\n",
       "      <td>1.14597</td>\n",
       "      <td>0.907696</td>\n",
       "      <td>0.907989</td>\n",
       "      <td>0.924975</td>\n",
       "      <td>0.879881</td>\n",
       "    </tr>\n",
       "  </tbody>\n",
       "</table>\n",
       "</div>"
      ],
      "text/plain": [
       "                        universe_id universe_training_year  \\\n",
       "0  94389723bf4d828fe85086408491c079                2010_14   \n",
       "\n",
       "  universe_training_size universe_scale    universe_model  \\\n",
       "0                     5k          scale  penalized_logreg   \n",
       "\n",
       "  universe_exclude_features universe_exclude_subgroups     q_hat  coverage  \\\n",
       "0                       age            drop-non-german  0.690887  0.910411   \n",
       "\n",
       "   avg_size  cov_frau1  cov_nongerman  cov_nongerman_male  \\\n",
       "0   1.14597   0.907696       0.907989            0.924975   \n",
       "\n",
       "   cov_nongerman_female  \n",
       "0              0.879881  "
      ]
     },
     "execution_count": 58,
     "metadata": {},
     "output_type": "execute_result"
    }
   ],
   "source": [
    "cp_metrics_df"
   ]
  },
  {
   "cell_type": "markdown",
   "id": "33774451",
   "metadata": {
    "papermill": {
     "duration": 0.022955,
     "end_time": "2025-08-05T15:50:19.326821",
     "exception": false,
     "start_time": "2025-08-05T15:50:19.303866",
     "status": "completed"
    },
    "tags": []
   },
   "source": [
    "# (Fairness) Metrics"
   ]
  },
  {
   "cell_type": "code",
   "execution_count": 59,
   "id": "debc5d62",
   "metadata": {
    "execution": {
     "iopub.execute_input": "2025-08-05T15:50:19.374239Z",
     "iopub.status.busy": "2025-08-05T15:50:19.373427Z",
     "iopub.status.idle": "2025-08-05T15:50:19.409175Z",
     "shell.execute_reply": "2025-08-05T15:50:19.408425Z"
    },
    "papermill": {
     "duration": 0.061462,
     "end_time": "2025-08-05T15:50:19.410629",
     "exception": false,
     "start_time": "2025-08-05T15:50:19.349167",
     "status": "completed"
    },
    "tags": []
   },
   "outputs": [],
   "source": [
    "# do I need to include maxdeutsch1.missing?\n",
    "\n",
    "import numpy as np\n",
    "\n",
    "colname_to_bin = \"maxdeutsch1\"\n",
    "majority_value = org_train[colname_to_bin].mode()[0]\n",
    "\n",
    "org_test[\"majmin\"] = np.where(org_test[colname_to_bin] == majority_value, \"majority\", \"minority\")"
   ]
  },
  {
   "cell_type": "code",
   "execution_count": 60,
   "id": "06a50de5",
   "metadata": {
    "execution": {
     "iopub.execute_input": "2025-08-05T15:50:19.438154Z",
     "iopub.status.busy": "2025-08-05T15:50:19.437288Z",
     "iopub.status.idle": "2025-08-05T15:50:22.124836Z",
     "shell.execute_reply": "2025-08-05T15:50:22.123793Z"
    },
    "papermill": {
     "duration": 2.703863,
     "end_time": "2025-08-05T15:50:22.126950",
     "exception": false,
     "start_time": "2025-08-05T15:50:19.423087",
     "status": "completed"
    },
    "tags": []
   },
   "outputs": [],
   "source": [
    "example_universe = universe.copy()\n",
    "example_universe[\"cutoff\"] = example_universe[\"cutoff\"][0]\n",
    "example_universe[\"eval_fairness_grouping\"] = example_universe[\"eval_fairness_grouping\"][0]\n",
    "fairness_dict, metric_frame = universe_analysis.compute_metrics(\n",
    "    example_universe,\n",
    "    y_pred_prob=probs_test,\n",
    "    y_test=y_true,\n",
    "    org_test=org_test,\n",
    ")"
   ]
  },
  {
   "cell_type": "markdown",
   "id": "f95d4e02",
   "metadata": {
    "papermill": {
     "duration": 0.026274,
     "end_time": "2025-08-05T15:50:22.181239",
     "exception": false,
     "start_time": "2025-08-05T15:50:22.154965",
     "status": "completed"
    },
    "tags": []
   },
   "source": [
    "# Overall"
   ]
  },
  {
   "cell_type": "markdown",
   "id": "bdee4871",
   "metadata": {
    "papermill": {
     "duration": 0.025281,
     "end_time": "2025-08-05T15:50:22.232306",
     "exception": false,
     "start_time": "2025-08-05T15:50:22.207025",
     "status": "completed"
    },
    "tags": []
   },
   "source": [
    "Fairness\n",
    "Main fairness target: Equalized Odds. Seems to be a better fit than equal opportunity, since we're not only interested in Y = 1. Seems to be a better fit than demographic parity, since we also care about accuracy, not just equal distribution of preds.\n",
    "\n",
    "Pick column for computation of fairness metrics\n",
    "\n",
    "Performance\n",
    "Overall performance measures, most interesting in relation to the measures split by group below"
   ]
  },
  {
   "cell_type": "code",
   "execution_count": 61,
   "id": "c4e067c6",
   "metadata": {
    "execution": {
     "iopub.execute_input": "2025-08-05T15:50:22.290163Z",
     "iopub.status.busy": "2025-08-05T15:50:22.289595Z",
     "iopub.status.idle": "2025-08-05T15:50:22.298807Z",
     "shell.execute_reply": "2025-08-05T15:50:22.297676Z"
    },
    "papermill": {
     "duration": 0.038887,
     "end_time": "2025-08-05T15:50:22.300797",
     "exception": false,
     "start_time": "2025-08-05T15:50:22.261910",
     "status": "completed"
    },
    "tags": []
   },
   "outputs": [
    {
     "data": {
      "text/plain": [
       "accuracy                   0.223085\n",
       "balanced accuracy          0.545745\n",
       "f1                         0.244452\n",
       "precision                  0.139648\n",
       "false positive rate        0.888264\n",
       "false negative rate        0.020247\n",
       "selection rate             0.900000\n",
       "count                  89710.000000\n",
       "dtype: float64"
      ]
     },
     "execution_count": 61,
     "metadata": {},
     "output_type": "execute_result"
    }
   ],
   "source": [
    "metric_frame.overall"
   ]
  },
  {
   "cell_type": "markdown",
   "id": "e968fe9d",
   "metadata": {
    "papermill": {
     "duration": 0.027198,
     "end_time": "2025-08-05T15:50:22.356353",
     "exception": false,
     "start_time": "2025-08-05T15:50:22.329155",
     "status": "completed"
    },
    "tags": []
   },
   "source": [
    "By Group"
   ]
  },
  {
   "cell_type": "code",
   "execution_count": 62,
   "id": "ec325bce",
   "metadata": {
    "execution": {
     "iopub.execute_input": "2025-08-05T15:50:22.411749Z",
     "iopub.status.busy": "2025-08-05T15:50:22.411048Z",
     "iopub.status.idle": "2025-08-05T15:50:22.428167Z",
     "shell.execute_reply": "2025-08-05T15:50:22.427074Z"
    },
    "papermill": {
     "duration": 0.047781,
     "end_time": "2025-08-05T15:50:22.430149",
     "exception": false,
     "start_time": "2025-08-05T15:50:22.382368",
     "status": "completed"
    },
    "tags": []
   },
   "outputs": [
    {
     "data": {
      "text/html": [
       "<div>\n",
       "<style scoped>\n",
       "    .dataframe tbody tr th:only-of-type {\n",
       "        vertical-align: middle;\n",
       "    }\n",
       "\n",
       "    .dataframe tbody tr th {\n",
       "        vertical-align: top;\n",
       "    }\n",
       "\n",
       "    .dataframe thead th {\n",
       "        text-align: right;\n",
       "    }\n",
       "</style>\n",
       "<table border=\"1\" class=\"dataframe\">\n",
       "  <thead>\n",
       "    <tr style=\"text-align: right;\">\n",
       "      <th></th>\n",
       "      <th>accuracy</th>\n",
       "      <th>balanced accuracy</th>\n",
       "      <th>f1</th>\n",
       "      <th>precision</th>\n",
       "      <th>false positive rate</th>\n",
       "      <th>false negative rate</th>\n",
       "      <th>selection rate</th>\n",
       "      <th>count</th>\n",
       "    </tr>\n",
       "    <tr>\n",
       "      <th>majmin</th>\n",
       "      <th></th>\n",
       "      <th></th>\n",
       "      <th></th>\n",
       "      <th></th>\n",
       "      <th></th>\n",
       "      <th></th>\n",
       "      <th></th>\n",
       "      <th></th>\n",
       "    </tr>\n",
       "  </thead>\n",
       "  <tbody>\n",
       "    <tr>\n",
       "      <th>majority</th>\n",
       "      <td>0.242186</td>\n",
       "      <td>0.554127</td>\n",
       "      <td>0.254346</td>\n",
       "      <td>0.146179</td>\n",
       "      <td>0.869865</td>\n",
       "      <td>0.021882</td>\n",
       "      <td>0.884169</td>\n",
       "      <td>69170.0</td>\n",
       "    </tr>\n",
       "    <tr>\n",
       "      <th>minority</th>\n",
       "      <td>0.158763</td>\n",
       "      <td>0.518511</td>\n",
       "      <td>0.212766</td>\n",
       "      <td>0.119248</td>\n",
       "      <td>0.949042</td>\n",
       "      <td>0.013936</td>\n",
       "      <td>0.953311</td>\n",
       "      <td>20540.0</td>\n",
       "    </tr>\n",
       "  </tbody>\n",
       "</table>\n",
       "</div>"
      ],
      "text/plain": [
       "          accuracy  balanced accuracy        f1  precision  \\\n",
       "majmin                                                       \n",
       "majority  0.242186           0.554127  0.254346   0.146179   \n",
       "minority  0.158763           0.518511  0.212766   0.119248   \n",
       "\n",
       "          false positive rate  false negative rate  selection rate    count  \n",
       "majmin                                                                       \n",
       "majority             0.869865             0.021882        0.884169  69170.0  \n",
       "minority             0.949042             0.013936        0.953311  20540.0  "
      ]
     },
     "execution_count": 62,
     "metadata": {},
     "output_type": "execute_result"
    }
   ],
   "source": [
    "metric_frame.by_group"
   ]
  },
  {
   "cell_type": "code",
   "execution_count": 63,
   "id": "a9ddbe63",
   "metadata": {
    "execution": {
     "iopub.execute_input": "2025-08-05T15:50:22.486606Z",
     "iopub.status.busy": "2025-08-05T15:50:22.485935Z",
     "iopub.status.idle": "2025-08-05T15:50:24.910504Z",
     "shell.execute_reply": "2025-08-05T15:50:24.909564Z"
    },
    "papermill": {
     "duration": 2.454743,
     "end_time": "2025-08-05T15:50:24.912147",
     "exception": false,
     "start_time": "2025-08-05T15:50:22.457404",
     "status": "completed"
    },
    "tags": []
   },
   "outputs": [
    {
     "data": {
      "text/plain": [
       "array([[<Axes: title={'center': 'accuracy'}, xlabel='majmin'>,\n",
       "        <Axes: title={'center': 'balanced accuracy'}, xlabel='majmin'>,\n",
       "        <Axes: title={'center': 'f1'}, xlabel='majmin'>],\n",
       "       [<Axes: title={'center': 'precision'}, xlabel='majmin'>,\n",
       "        <Axes: title={'center': 'false positive rate'}, xlabel='majmin'>,\n",
       "        <Axes: title={'center': 'false negative rate'}, xlabel='majmin'>],\n",
       "       [<Axes: title={'center': 'selection rate'}, xlabel='majmin'>,\n",
       "        <Axes: title={'center': 'count'}, xlabel='majmin'>,\n",
       "        <Axes: xlabel='majmin'>]], dtype=object)"
      ]
     },
     "execution_count": 63,
     "metadata": {},
     "output_type": "execute_result"
    },
    {
     "data": {
      "image/png": "[encoded data removed]",
      "text/plain": [
       "<Figure size 1200x800 with 9 Axes>"
      ]
     },
     "metadata": {},
     "output_type": "display_data"
    }
   ],
   "source": [
    "# In a graphic\n",
    "metric_frame.by_group.plot.bar(\n",
    "    subplots=True,\n",
    "    layout=[3, 3],\n",
    "    legend=False,\n",
    "    figsize=[12, 8],\n",
    "    title=\"Show all metrics\",\n",
    ")"
   ]
  },
  {
   "cell_type": "markdown",
   "id": "f57a0bac",
   "metadata": {
    "papermill": {
     "duration": 0.024779,
     "end_time": "2025-08-05T15:50:24.961111",
     "exception": false,
     "start_time": "2025-08-05T15:50:24.936332",
     "status": "completed"
    },
    "tags": []
   },
   "source": [
    "# Final Output"
   ]
  },
  {
   "cell_type": "code",
   "execution_count": 64,
   "id": "96d280a3",
   "metadata": {
    "execution": {
     "iopub.execute_input": "2025-08-05T15:50:25.009298Z",
     "iopub.status.busy": "2025-08-05T15:50:25.008657Z",
     "iopub.status.idle": "2025-08-05T15:50:25.019313Z",
     "shell.execute_reply": "2025-08-05T15:50:25.018182Z"
    },
    "papermill": {
     "duration": 0.03666,
     "end_time": "2025-08-05T15:50:25.021186",
     "exception": false,
     "start_time": "2025-08-05T15:50:24.984526",
     "status": "completed"
    },
    "tags": []
   },
   "outputs": [
    {
     "data": {
      "text/plain": [
       "4"
      ]
     },
     "execution_count": 64,
     "metadata": {},
     "output_type": "execute_result"
    }
   ],
   "source": [
    "sub_universes = universe_analysis.generate_sub_universes()\n",
    "len(sub_universes)"
   ]
  },
  {
   "cell_type": "code",
   "execution_count": 65,
   "id": "92adf7ba",
   "metadata": {
    "execution": {
     "iopub.execute_input": "2025-08-05T15:50:25.073227Z",
     "iopub.status.busy": "2025-08-05T15:50:25.072631Z",
     "iopub.status.idle": "2025-08-05T15:50:25.080337Z",
     "shell.execute_reply": "2025-08-05T15:50:25.079354Z"
    },
    "papermill": {
     "duration": 0.035806,
     "end_time": "2025-08-05T15:50:25.082374",
     "exception": false,
     "start_time": "2025-08-05T15:50:25.046568",
     "status": "completed"
    },
    "tags": []
   },
   "outputs": [],
   "source": [
    "def filter_sub_universe_data(sub_universe, org_test):\n",
    "    # Keep all rows — no filtering\n",
    "    keep_rows_mask = np.ones(org_test.shape[0], dtype=bool)\n",
    "\n",
    "    print(f\"[INFO] Keeping all rows: {keep_rows_mask.sum()} rows retained.\")\n",
    "    return keep_rows_mask"
   ]
  },
  {
   "cell_type": "code",
   "execution_count": 66,
   "id": "4a759155",
   "metadata": {
    "execution": {
     "iopub.execute_input": "2025-08-05T15:50:25.137043Z",
     "iopub.status.busy": "2025-08-05T15:50:25.136146Z",
     "iopub.status.idle": "2025-08-05T15:50:35.318517Z",
     "shell.execute_reply": "2025-08-05T15:50:35.317171Z"
    },
    "papermill": {
     "duration": 10.210353,
     "end_time": "2025-08-05T15:50:35.320384",
     "exception": false,
     "start_time": "2025-08-05T15:50:25.110031",
     "status": "completed"
    },
    "tags": []
   },
   "outputs": [
    {
     "name": "stdout",
     "output_type": "stream",
     "text": [
      "Stopping execution_time clock.\n",
      "[INFO] Keeping all rows: 89710 rows retained.\n"
     ]
    },
    {
     "name": "stdout",
     "output_type": "stream",
     "text": [
      "[INFO] Keeping all rows: 89710 rows retained.\n"
     ]
    },
    {
     "name": "stdout",
     "output_type": "stream",
     "text": [
      "[INFO] Keeping all rows: 89710 rows retained.\n"
     ]
    },
    {
     "name": "stdout",
     "output_type": "stream",
     "text": [
      "[INFO] Keeping all rows: 89710 rows retained.\n"
     ]
    },
    {
     "data": {
      "text/html": [
       "<div>\n",
       "<style scoped>\n",
       "    .dataframe tbody tr th:only-of-type {\n",
       "        vertical-align: middle;\n",
       "    }\n",
       "\n",
       "    .dataframe tbody tr th {\n",
       "        vertical-align: top;\n",
       "    }\n",
       "\n",
       "    .dataframe thead th {\n",
       "        text-align: right;\n",
       "    }\n",
       "</style>\n",
       "<table border=\"1\" class=\"dataframe\">\n",
       "  <thead>\n",
       "    <tr style=\"text-align: right;\">\n",
       "      <th></th>\n",
       "      <th>run_no</th>\n",
       "      <th>universe_id</th>\n",
       "      <th>universe_settings</th>\n",
       "      <th>execution_time</th>\n",
       "      <th>test_size_n</th>\n",
       "      <th>test_size_frac</th>\n",
       "      <th>fair_main_equalized_odds_difference</th>\n",
       "      <th>fair_main_equalized_odds_ratio</th>\n",
       "      <th>fair_main_demographic_parity_difference</th>\n",
       "      <th>fair_main_demographic_parity_ratio</th>\n",
       "      <th>...</th>\n",
       "      <th>perf_grp_precision_0</th>\n",
       "      <th>perf_grp_precision_1</th>\n",
       "      <th>perf_grp_false positive rate_0</th>\n",
       "      <th>perf_grp_false positive rate_1</th>\n",
       "      <th>perf_grp_false negative rate_0</th>\n",
       "      <th>perf_grp_false negative rate_1</th>\n",
       "      <th>perf_grp_selection rate_0</th>\n",
       "      <th>perf_grp_selection rate_1</th>\n",
       "      <th>perf_grp_count_0</th>\n",
       "      <th>perf_grp_count_1</th>\n",
       "    </tr>\n",
       "  </thead>\n",
       "  <tbody>\n",
       "    <tr>\n",
       "      <th>0</th>\n",
       "      <td>15</td>\n",
       "      <td>94389723bf4d828fe85086408491c079</td>\n",
       "      <td>{\"cutoff\": \"quantile_0.1\", \"eval_fairness_grou...</td>\n",
       "      <td>26.861247</td>\n",
       "      <td>89710</td>\n",
       "      <td>1.0</td>\n",
       "      <td>0.079177</td>\n",
       "      <td>0.916571</td>\n",
       "      <td>0.069141</td>\n",
       "      <td>0.927473</td>\n",
       "      <td>...</td>\n",
       "      <td>NaN</td>\n",
       "      <td>NaN</td>\n",
       "      <td>NaN</td>\n",
       "      <td>NaN</td>\n",
       "      <td>NaN</td>\n",
       "      <td>NaN</td>\n",
       "      <td>NaN</td>\n",
       "      <td>NaN</td>\n",
       "      <td>NaN</td>\n",
       "      <td>NaN</td>\n",
       "    </tr>\n",
       "    <tr>\n",
       "      <th>0</th>\n",
       "      <td>15</td>\n",
       "      <td>94389723bf4d828fe85086408491c079</td>\n",
       "      <td>{\"cutoff\": \"quantile_0.1\", \"eval_fairness_grou...</td>\n",
       "      <td>26.861247</td>\n",
       "      <td>89710</td>\n",
       "      <td>1.0</td>\n",
       "      <td>0.079177</td>\n",
       "      <td>0.916571</td>\n",
       "      <td>0.069141</td>\n",
       "      <td>0.927473</td>\n",
       "      <td>...</td>\n",
       "      <td>0.119248</td>\n",
       "      <td>0.146179</td>\n",
       "      <td>0.949042</td>\n",
       "      <td>0.869865</td>\n",
       "      <td>0.013936</td>\n",
       "      <td>0.021882</td>\n",
       "      <td>0.953311</td>\n",
       "      <td>0.884169</td>\n",
       "      <td>20540.0</td>\n",
       "      <td>69170.0</td>\n",
       "    </tr>\n",
       "    <tr>\n",
       "      <th>0</th>\n",
       "      <td>15</td>\n",
       "      <td>94389723bf4d828fe85086408491c079</td>\n",
       "      <td>{\"cutoff\": \"quantile_0.25\", \"eval_fairness_gro...</td>\n",
       "      <td>26.861247</td>\n",
       "      <td>89710</td>\n",
       "      <td>1.0</td>\n",
       "      <td>0.168365</td>\n",
       "      <td>0.802599</td>\n",
       "      <td>0.147256</td>\n",
       "      <td>0.829473</td>\n",
       "      <td>...</td>\n",
       "      <td>NaN</td>\n",
       "      <td>NaN</td>\n",
       "      <td>NaN</td>\n",
       "      <td>NaN</td>\n",
       "      <td>NaN</td>\n",
       "      <td>NaN</td>\n",
       "      <td>NaN</td>\n",
       "      <td>NaN</td>\n",
       "      <td>NaN</td>\n",
       "      <td>NaN</td>\n",
       "    </tr>\n",
       "    <tr>\n",
       "      <th>0</th>\n",
       "      <td>15</td>\n",
       "      <td>94389723bf4d828fe85086408491c079</td>\n",
       "      <td>{\"cutoff\": \"quantile_0.25\", \"eval_fairness_gro...</td>\n",
       "      <td>26.861247</td>\n",
       "      <td>89710</td>\n",
       "      <td>1.0</td>\n",
       "      <td>0.168365</td>\n",
       "      <td>0.802599</td>\n",
       "      <td>0.147256</td>\n",
       "      <td>0.829473</td>\n",
       "      <td>...</td>\n",
       "      <td>0.126177</td>\n",
       "      <td>0.170592</td>\n",
       "      <td>0.852906</td>\n",
       "      <td>0.684541</td>\n",
       "      <td>0.054899</td>\n",
       "      <td>0.075274</td>\n",
       "      <td>0.863535</td>\n",
       "      <td>0.716279</td>\n",
       "      <td>20540.0</td>\n",
       "      <td>69170.0</td>\n",
       "    </tr>\n",
       "  </tbody>\n",
       "</table>\n",
       "<p>4 rows × 50 columns</p>\n",
       "</div>"
      ],
      "text/plain": [
       "  run_no                       universe_id  \\\n",
       "0     15  94389723bf4d828fe85086408491c079   \n",
       "0     15  94389723bf4d828fe85086408491c079   \n",
       "0     15  94389723bf4d828fe85086408491c079   \n",
       "0     15  94389723bf4d828fe85086408491c079   \n",
       "\n",
       "                                   universe_settings  execution_time  \\\n",
       "0  {\"cutoff\": \"quantile_0.1\", \"eval_fairness_grou...       26.861247   \n",
       "0  {\"cutoff\": \"quantile_0.1\", \"eval_fairness_grou...       26.861247   \n",
       "0  {\"cutoff\": \"quantile_0.25\", \"eval_fairness_gro...       26.861247   \n",
       "0  {\"cutoff\": \"quantile_0.25\", \"eval_fairness_gro...       26.861247   \n",
       "\n",
       "   test_size_n  test_size_frac  fair_main_equalized_odds_difference  \\\n",
       "0        89710             1.0                             0.079177   \n",
       "0        89710             1.0                             0.079177   \n",
       "0        89710             1.0                             0.168365   \n",
       "0        89710             1.0                             0.168365   \n",
       "\n",
       "   fair_main_equalized_odds_ratio  fair_main_demographic_parity_difference  \\\n",
       "0                        0.916571                                 0.069141   \n",
       "0                        0.916571                                 0.069141   \n",
       "0                        0.802599                                 0.147256   \n",
       "0                        0.802599                                 0.147256   \n",
       "\n",
       "   fair_main_demographic_parity_ratio  ...  perf_grp_precision_0  \\\n",
       "0                            0.927473  ...                   NaN   \n",
       "0                            0.927473  ...              0.119248   \n",
       "0                            0.829473  ...                   NaN   \n",
       "0                            0.829473  ...              0.126177   \n",
       "\n",
       "   perf_grp_precision_1  perf_grp_false positive rate_0  \\\n",
       "0                   NaN                             NaN   \n",
       "0              0.146179                        0.949042   \n",
       "0                   NaN                             NaN   \n",
       "0              0.170592                        0.852906   \n",
       "\n",
       "   perf_grp_false positive rate_1  perf_grp_false negative rate_0  \\\n",
       "0                             NaN                             NaN   \n",
       "0                        0.869865                        0.013936   \n",
       "0                             NaN                             NaN   \n",
       "0                        0.684541                        0.054899   \n",
       "\n",
       "   perf_grp_false negative rate_1  perf_grp_selection rate_0  \\\n",
       "0                             NaN                        NaN   \n",
       "0                        0.021882                   0.953311   \n",
       "0                             NaN                        NaN   \n",
       "0                        0.075274                   0.863535   \n",
       "\n",
       "   perf_grp_selection rate_1  perf_grp_count_0  perf_grp_count_1  \n",
       "0                        NaN               NaN               NaN  \n",
       "0                   0.884169           20540.0           69170.0  \n",
       "0                        NaN               NaN               NaN  \n",
       "0                   0.716279           20540.0           69170.0  \n",
       "\n",
       "[4 rows x 50 columns]"
      ]
     },
     "execution_count": 66,
     "metadata": {},
     "output_type": "execute_result"
    }
   ],
   "source": [
    "final_output = universe_analysis.generate_final_output(\n",
    "    y_pred_prob=probs_test,\n",
    "    y_test=y_true,\n",
    "    org_test=org_test,\n",
    "    filter_data=filter_sub_universe_data,\n",
    "    cp_metrics_df=cp_metrics_df,\n",
    "    save=True,\n",
    ")\n",
    "final_output"
   ]
  }
 ],
 "metadata": {
  "celltoolbar": "Tags",
  "kernelspec": {
   "display_name": "Python (CMA Fairness)",
   "language": "python",
   "name": "cma_fair_env"
  },
  "language_info": {
   "codemirror_mode": {
    "name": "ipython",
    "version": 3
   },
   "file_extension": ".py",
   "mimetype": "text/x-python",
   "name": "python",
   "nbconvert_exporter": "python",
   "pygments_lexer": "ipython3",
   "version": "3.10.12"
  },
  "papermill": {
   "default_parameters": {},
   "duration": 41.333434,
   "end_time": "2025-08-05T15:50:36.076148",
   "environment_variables": {},
   "exception": null,
   "input_path": "universe_analysis.ipynb",
   "output_path": "output/runs/15/notebooks/m_15-94389723bf4d828fe85086408491c079.ipynb",
   "parameters": {
    "output_dir": "output",
    "run_no": "15",
    "seed": "2023",
    "universe": "{\"cutoff\": [\"quantile_0.1\", \"quantile_0.25\"], \"eval_fairness_grouping\": [\"majority-minority\", \"nationality-all\"], \"exclude_features\": \"age\", \"exclude_subgroups\": \"drop-non-german\", \"model\": \"penalized_logreg\", \"scale\": \"scale\", \"training_size\": \"5k\", \"training_year\": \"2010_14\"}",
    "universe_id": "94389723bf4d828fe85086408491c079"
   },
   "start_time": "2025-08-05T15:49:54.742714",
   "version": "2.6.0"
  }
 },
 "nbformat": 4,
 "nbformat_minor": 5
}