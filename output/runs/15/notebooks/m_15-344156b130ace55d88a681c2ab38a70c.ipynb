{
 "cells": [
  {
   "cell_type": "code",
   "execution_count": 1,
   "id": "f159f837-637b-42ba-96b5-ec9a68c44524",
   "metadata": {
    "execution": {
     "iopub.execute_input": "2025-08-05T15:46:49.104387Z",
     "iopub.status.busy": "2025-08-05T15:46:49.103802Z",
     "iopub.status.idle": "2025-08-05T15:46:49.117376Z",
     "shell.execute_reply": "2025-08-05T15:46:49.116340Z"
    },
    "papermill": {
     "duration": 0.032835,
     "end_time": "2025-08-05T15:46:49.119064",
     "exception": false,
     "start_time": "2025-08-05T15:46:49.086229",
     "status": "completed"
    },
    "tags": []
   },
   "outputs": [
    {
     "name": "stdout",
     "output_type": "stream",
     "text": [
      "/dss/dsshome1/0C/ra93lal2/cma/CMA_Fairness_v2\n"
     ]
    },
    {
     "name": "stderr",
     "output_type": "stream",
     "text": [
      "/dss/dsshome1/0C/ra93lal2/.local/share/virtualenvs/CMA_Fairness_v2-3j10GkSs/lib/python3.10/site-packages/IPython/core/magics/osm.py:393: UserWarning: This is now an optional IPython functionality, using bookmarks requires you to install the `pickleshare` library.\n",
      "  bkms = self.shell.db.get('bookmarks', {})\n",
      "/dss/dsshome1/0C/ra93lal2/.local/share/virtualenvs/CMA_Fairness_v2-3j10GkSs/lib/python3.10/site-packages/IPython/core/magics/osm.py:417: UserWarning: This is now an optional IPython functionality, setting dhist requires you to install the `pickleshare` library.\n",
      "  self.shell.db['dhist'] = compress_dhist(dhist)[-100:]\n"
     ]
    }
   ],
   "source": [
    "%cd ~/cma/CMA_Fairness_v2"
   ]
  },
  {
   "cell_type": "markdown",
   "id": "de2603b9",
   "metadata": {
    "papermill": {
     "duration": 0.015322,
     "end_time": "2025-08-05T15:46:49.150916",
     "exception": false,
     "start_time": "2025-08-05T15:46:49.135594",
     "status": "completed"
    },
    "tags": []
   },
   "source": [
    "The following cell holds the definition of our parameters, these values can be overriden by rendering the with e.g. the following command:\n",
    "\n",
    "papermill -p alpha 0.2 -p ratio 0.3 universe_analysis.ipynb output/test_run.ipynb"
   ]
  },
  {
   "cell_type": "code",
   "execution_count": 2,
   "id": "a80968a0-40bb-4fa9-85ef-2d5eefb01975",
   "metadata": {
    "execution": {
     "iopub.execute_input": "2025-08-05T15:46:49.185600Z",
     "iopub.status.busy": "2025-08-05T15:46:49.184938Z",
     "iopub.status.idle": "2025-08-05T15:46:49.190704Z",
     "shell.execute_reply": "2025-08-05T15:46:49.189554Z"
    },
    "papermill": {
     "duration": 0.025496,
     "end_time": "2025-08-05T15:46:49.192491",
     "exception": false,
     "start_time": "2025-08-05T15:46:49.166995",
     "status": "completed"
    },
    "tags": []
   },
   "outputs": [
    {
     "name": "stdout",
     "output_type": "stream",
     "text": [
      "Current working directory: /dss/dsshome1/0C/ra93lal2/cma/CMA_Fairness_v2\n"
     ]
    }
   ],
   "source": [
    "import os\n",
    "print(\"Current working directory:\", os.getcwd())"
   ]
  },
  {
   "cell_type": "code",
   "execution_count": 3,
   "id": "2dce4c03",
   "metadata": {
    "execution": {
     "iopub.execute_input": "2025-08-05T15:46:49.227167Z",
     "iopub.status.busy": "2025-08-05T15:46:49.226247Z",
     "iopub.status.idle": "2025-08-05T15:46:49.232752Z",
     "shell.execute_reply": "2025-08-05T15:46:49.231827Z"
    },
    "papermill": {
     "duration": 0.024975,
     "end_time": "2025-08-05T15:46:49.234502",
     "exception": false,
     "start_time": "2025-08-05T15:46:49.209527",
     "status": "completed"
    },
    "tags": [
     "parameters"
    ]
   },
   "outputs": [],
   "source": [
    "run_no = 0\n",
    "universe_id = \"test\"\n",
    "universe = {\n",
    "    \"training_size\": \"25k\", # \"25k\", \"5k\", \"1k\"\n",
    "    \"training_year\": \"2014\", # \"2014\", \"2012_14\", \"2010_14\"\n",
    "    \"scale\": \"scale\", # \"scale\", \"do-not-scale\",\n",
    "    \"model\": \"elasticnet\", # \"logreg\", \"penalized_logreg\", \"rf\", \"gbm\", \"elasticnet\"\n",
    "    \"cutoff\": [\"quantile_0.15\", \"quantile_0.30\"],\n",
    "    \"exclude_features\": \"age\", # \"none\", \"nationality\", \"sex\", \"nationality-sex\", \"age\"\n",
    "    \"exclude_subgroups\": \"keep-all\", # \"keep-all\", \"drop-non-german\"\n",
    "    \"eval_fairness_grouping\": [\"majority-minority\", \"nationality-all\"]\n",
    "}\n",
    "\n",
    "output_dir=\"./output\"\n",
    "seed=0"
   ]
  },
  {
   "cell_type": "code",
   "execution_count": 4,
   "id": "4b6c51bc",
   "metadata": {
    "execution": {
     "iopub.execute_input": "2025-08-05T15:46:49.269198Z",
     "iopub.status.busy": "2025-08-05T15:46:49.268518Z",
     "iopub.status.idle": "2025-08-05T15:46:49.274169Z",
     "shell.execute_reply": "2025-08-05T15:46:49.273070Z"
    },
    "papermill": {
     "duration": 0.024274,
     "end_time": "2025-08-05T15:46:49.275775",
     "exception": false,
     "start_time": "2025-08-05T15:46:49.251501",
     "status": "completed"
    },
    "tags": [
     "injected-parameters"
    ]
   },
   "outputs": [],
   "source": [
    "# Parameters\n",
    "universe_id = \"344156b130ace55d88a681c2ab38a70c\"\n",
    "run_no = \"15\"\n",
    "universe = \"{\\\"cutoff\\\": [\\\"quantile_0.1\\\", \\\"quantile_0.25\\\"], \\\"eval_fairness_grouping\\\": [\\\"majority-minority\\\", \\\"nationality-all\\\"], \\\"exclude_features\\\": \\\"nationality-sex\\\", \\\"exclude_subgroups\\\": \\\"keep-all\\\", \\\"model\\\": \\\"elasticnet\\\", \\\"scale\\\": \\\"do-not-scale\\\", \\\"training_size\\\": \\\"5k\\\", \\\"training_year\\\": \\\"2012_14\\\"}\"\n",
    "output_dir = \"output\"\n",
    "seed = \"2023\"\n"
   ]
  },
  {
   "cell_type": "code",
   "execution_count": 5,
   "id": "1650acaf",
   "metadata": {
    "execution": {
     "iopub.execute_input": "2025-08-05T15:46:49.310589Z",
     "iopub.status.busy": "2025-08-05T15:46:49.309830Z",
     "iopub.status.idle": "2025-08-05T15:46:49.314738Z",
     "shell.execute_reply": "2025-08-05T15:46:49.313788Z"
    },
    "papermill": {
     "duration": 0.024022,
     "end_time": "2025-08-05T15:46:49.316407",
     "exception": false,
     "start_time": "2025-08-05T15:46:49.292385",
     "status": "completed"
    },
    "tags": []
   },
   "outputs": [],
   "source": [
    "import json\n",
    "if isinstance(universe, str):\n",
    "    universe = json.loads(universe)"
   ]
  },
  {
   "cell_type": "code",
   "execution_count": 6,
   "id": "16620c48",
   "metadata": {
    "execution": {
     "iopub.execute_input": "2025-08-05T15:46:49.350357Z",
     "iopub.status.busy": "2025-08-05T15:46:49.349825Z",
     "iopub.status.idle": "2025-08-05T15:46:49.393930Z",
     "shell.execute_reply": "2025-08-05T15:46:49.393001Z"
    },
    "papermill": {
     "duration": 0.062525,
     "end_time": "2025-08-05T15:46:49.395802",
     "exception": false,
     "start_time": "2025-08-05T15:46:49.333277",
     "status": "completed"
    },
    "tags": []
   },
   "outputs": [],
   "source": [
    "# Auto-reload the custom package\n",
    "%load_ext autoreload\n",
    "%autoreload 1\n",
    "%aimport fairness_multiverse"
   ]
  },
  {
   "cell_type": "code",
   "execution_count": 7,
   "id": "01c5c9f3",
   "metadata": {
    "execution": {
     "iopub.execute_input": "2025-08-05T15:46:49.431875Z",
     "iopub.status.busy": "2025-08-05T15:46:49.431064Z",
     "iopub.status.idle": "2025-08-05T15:46:51.363054Z",
     "shell.execute_reply": "2025-08-05T15:46:51.361972Z"
    },
    "papermill": {
     "duration": 1.951626,
     "end_time": "2025-08-05T15:46:51.364938",
     "exception": false,
     "start_time": "2025-08-05T15:46:49.413312",
     "status": "completed"
    },
    "tags": []
   },
   "outputs": [],
   "source": [
    "from fairness_multiverse.universe import UniverseAnalysis\n",
    "\n",
    "universe_analysis = UniverseAnalysis(\n",
    "    run_no = run_no,\n",
    "    universe_id = universe_id,\n",
    "    universe = universe,\n",
    "    output_dir=output_dir,\n",
    ")"
   ]
  },
  {
   "cell_type": "code",
   "execution_count": 8,
   "id": "106241f5",
   "metadata": {
    "execution": {
     "iopub.execute_input": "2025-08-05T15:46:51.401089Z",
     "iopub.status.busy": "2025-08-05T15:46:51.400661Z",
     "iopub.status.idle": "2025-08-05T15:46:51.406975Z",
     "shell.execute_reply": "2025-08-05T15:46:51.406056Z"
    },
    "papermill": {
     "duration": 0.03967,
     "end_time": "2025-08-05T15:46:51.422618",
     "exception": false,
     "start_time": "2025-08-05T15:46:51.382948",
     "status": "completed"
    },
    "tags": []
   },
   "outputs": [
    {
     "name": "stdout",
     "output_type": "stream",
     "text": [
      "Using Seed: 2023\n"
     ]
    }
   ],
   "source": [
    "import numpy as np\n",
    "parsed_seed = int(seed)\n",
    "np.random.seed(parsed_seed)\n",
    "print(f\"Using Seed: {parsed_seed}\")"
   ]
  },
  {
   "cell_type": "markdown",
   "id": "e0ebdc57",
   "metadata": {
    "papermill": {
     "duration": 0.017119,
     "end_time": "2025-08-05T15:46:51.456424",
     "exception": false,
     "start_time": "2025-08-05T15:46:51.439305",
     "status": "completed"
    },
    "tags": []
   },
   "source": [
    "# Loading Data"
   ]
  },
  {
   "cell_type": "code",
   "execution_count": 9,
   "id": "f0496b8a",
   "metadata": {
    "execution": {
     "iopub.execute_input": "2025-08-05T15:46:51.492111Z",
     "iopub.status.busy": "2025-08-05T15:46:51.491600Z",
     "iopub.status.idle": "2025-08-05T15:47:03.334396Z",
     "shell.execute_reply": "2025-08-05T15:47:03.333124Z"
    },
    "papermill": {
     "duration": 11.863206,
     "end_time": "2025-08-05T15:47:03.336110",
     "exception": false,
     "start_time": "2025-08-05T15:46:51.472904",
     "status": "completed"
    },
    "tags": []
   },
   "outputs": [
    {
     "name": "stdout",
     "output_type": "stream",
     "text": [
      "Loading SIAB data from cache: data/siab_cached.csv.gz\n"
     ]
    },
    {
     "name": "stdout",
     "output_type": "stream",
     "text": [
      "(643690, 164)\n"
     ]
    }
   ],
   "source": [
    "from pathlib import Path\n",
    "import pandas as pd\n",
    "\n",
    "# File paths\n",
    "raw_file = Path(\"data/raw/siab.csv\")\n",
    "cache_file = Path(\"data/siab_cached.csv.gz\")\n",
    "\n",
    "# Ensure cache directory exists\n",
    "cache_file.parent.mkdir(parents=True, exist_ok=True)\n",
    "\n",
    "# Load with simple caching\n",
    "if cache_file.exists():\n",
    "    print(f\"Loading SIAB data from cache: {cache_file}\")\n",
    "    siab = pd.read_csv(cache_file, compression='gzip')\n",
    "else:\n",
    "    print(f\"Cache not found. Reading raw SIAB data: {raw_file}\")\n",
    "    siab = pd.read_csv(raw_file)\n",
    "    siab.to_csv(cache_file, index=False, compression='gzip')\n",
    "    print(f\"Cached SIAB data to: {cache_file}\")\n",
    "\n",
    "print(siab.shape)"
   ]
  },
  {
   "cell_type": "code",
   "execution_count": 10,
   "id": "db0ca512-5f53-4dba-abdb-a2888bca41ba",
   "metadata": {
    "execution": {
     "iopub.execute_input": "2025-08-05T15:47:03.373468Z",
     "iopub.status.busy": "2025-08-05T15:47:03.372962Z",
     "iopub.status.idle": "2025-08-05T15:47:03.378782Z",
     "shell.execute_reply": "2025-08-05T15:47:03.377695Z"
    },
    "papermill": {
     "duration": 0.026101,
     "end_time": "2025-08-05T15:47:03.380687",
     "exception": false,
     "start_time": "2025-08-05T15:47:03.354586",
     "status": "completed"
    },
    "tags": []
   },
   "outputs": [],
   "source": [
    "#siab"
   ]
  },
  {
   "cell_type": "markdown",
   "id": "997051c5-15bd-4b69-9786-c3001a3ce484",
   "metadata": {
    "papermill": {
     "duration": 0.008505,
     "end_time": "2025-08-05T15:47:03.401028",
     "exception": false,
     "start_time": "2025-08-05T15:47:03.392523",
     "status": "completed"
    },
    "tags": []
   },
   "source": [
    "# Splitting Data and Setting Training Data Size"
   ]
  },
  {
   "cell_type": "code",
   "execution_count": 11,
   "id": "aea9c6ef-6f46-42c8-85eb-5a62025c1508",
   "metadata": {
    "execution": {
     "iopub.execute_input": "2025-08-05T15:47:03.420445Z",
     "iopub.status.busy": "2025-08-05T15:47:03.420096Z",
     "iopub.status.idle": "2025-08-05T15:47:04.030505Z",
     "shell.execute_reply": "2025-08-05T15:47:04.029711Z"
    },
    "papermill": {
     "duration": 0.621264,
     "end_time": "2025-08-05T15:47:04.031978",
     "exception": false,
     "start_time": "2025-08-05T15:47:03.410714",
     "status": "completed"
    },
    "tags": []
   },
   "outputs": [],
   "source": [
    "from fairness_multiverse.universe import sample_by_year_size\n",
    "\n",
    "siab_train = sample_by_year_size(siab,\n",
    "                               training_year=universe[\"training_year\"],\n",
    "                               training_size=universe[\"training_size\"])"
   ]
  },
  {
   "cell_type": "code",
   "execution_count": 12,
   "id": "8d3afb32-789d-442c-8d5d-9f5aa8dd2eed",
   "metadata": {
    "execution": {
     "iopub.execute_input": "2025-08-05T15:47:04.066381Z",
     "iopub.status.busy": "2025-08-05T15:47:04.065910Z",
     "iopub.status.idle": "2025-08-05T15:47:04.070986Z",
     "shell.execute_reply": "2025-08-05T15:47:04.070012Z"
    },
    "papermill": {
     "duration": 0.025829,
     "end_time": "2025-08-05T15:47:04.072901",
     "exception": false,
     "start_time": "2025-08-05T15:47:04.047072",
     "status": "completed"
    },
    "tags": []
   },
   "outputs": [],
   "source": [
    "#siab_train.shape"
   ]
  },
  {
   "cell_type": "code",
   "execution_count": 13,
   "id": "d582db68-1a4c-47fb-84fc-08518dc1975a",
   "metadata": {
    "execution": {
     "iopub.execute_input": "2025-08-05T15:47:04.108404Z",
     "iopub.status.busy": "2025-08-05T15:47:04.107690Z",
     "iopub.status.idle": "2025-08-05T15:47:04.112162Z",
     "shell.execute_reply": "2025-08-05T15:47:04.111134Z"
    },
    "papermill": {
     "duration": 0.02504,
     "end_time": "2025-08-05T15:47:04.114053",
     "exception": false,
     "start_time": "2025-08-05T15:47:04.089013",
     "status": "completed"
    },
    "tags": []
   },
   "outputs": [],
   "source": [
    "#display(siab_train.groupby(\"year\").size())"
   ]
  },
  {
   "cell_type": "code",
   "execution_count": 14,
   "id": "a561edb4-d032-42cb-8256-22eac1111c64",
   "metadata": {
    "execution": {
     "iopub.execute_input": "2025-08-05T15:47:04.147007Z",
     "iopub.status.busy": "2025-08-05T15:47:04.146466Z",
     "iopub.status.idle": "2025-08-05T15:47:04.363776Z",
     "shell.execute_reply": "2025-08-05T15:47:04.362827Z"
    },
    "papermill": {
     "duration": 0.232398,
     "end_time": "2025-08-05T15:47:04.365363",
     "exception": false,
     "start_time": "2025-08-05T15:47:04.132965",
     "status": "completed"
    },
    "tags": []
   },
   "outputs": [],
   "source": [
    "#siab_train = siab_s[siab_s.year < 2015]\n",
    "siab_calib = siab[siab.year == 2015]\n",
    "siab_test = siab[siab.year == 2016]"
   ]
  },
  {
   "cell_type": "code",
   "execution_count": 15,
   "id": "472de16f-c3db-4916-846b-1f0de9cf1746",
   "metadata": {
    "execution": {
     "iopub.execute_input": "2025-08-05T15:47:04.403195Z",
     "iopub.status.busy": "2025-08-05T15:47:04.402766Z",
     "iopub.status.idle": "2025-08-05T15:47:04.410340Z",
     "shell.execute_reply": "2025-08-05T15:47:04.409442Z"
    },
    "papermill": {
     "duration": 0.028666,
     "end_time": "2025-08-05T15:47:04.412241",
     "exception": false,
     "start_time": "2025-08-05T15:47:04.383575",
     "status": "completed"
    },
    "tags": []
   },
   "outputs": [],
   "source": [
    "X_train = siab_train.iloc[:,4:164]\n",
    "y_train = siab_train.iloc[:, [3]]"
   ]
  },
  {
   "cell_type": "code",
   "execution_count": 16,
   "id": "828c96af-f43a-4ed6-ba47-8ac73a47d56c",
   "metadata": {
    "execution": {
     "iopub.execute_input": "2025-08-05T15:47:04.449523Z",
     "iopub.status.busy": "2025-08-05T15:47:04.449024Z",
     "iopub.status.idle": "2025-08-05T15:47:04.502331Z",
     "shell.execute_reply": "2025-08-05T15:47:04.501532Z"
    },
    "papermill": {
     "duration": 0.073041,
     "end_time": "2025-08-05T15:47:04.503643",
     "exception": false,
     "start_time": "2025-08-05T15:47:04.430602",
     "status": "completed"
    },
    "tags": []
   },
   "outputs": [],
   "source": [
    "X_calib = siab_calib.iloc[:,4:164]\n",
    "y_calib = siab_calib.iloc[:, [3]]"
   ]
  },
  {
   "cell_type": "code",
   "execution_count": 17,
   "id": "c34be9c3-6bd6-476e-acd3-845840e303be",
   "metadata": {
    "execution": {
     "iopub.execute_input": "2025-08-05T15:47:04.532631Z",
     "iopub.status.busy": "2025-08-05T15:47:04.531986Z",
     "iopub.status.idle": "2025-08-05T15:47:04.590638Z",
     "shell.execute_reply": "2025-08-05T15:47:04.589501Z"
    },
    "papermill": {
     "duration": 0.078831,
     "end_time": "2025-08-05T15:47:04.592396",
     "exception": false,
     "start_time": "2025-08-05T15:47:04.513565",
     "status": "completed"
    },
    "tags": []
   },
   "outputs": [],
   "source": [
    "X_test = siab_test.iloc[:,4:164]\n",
    "y_true = siab_test.iloc[:, [3]]"
   ]
  },
  {
   "cell_type": "code",
   "execution_count": 18,
   "id": "e6c733c5",
   "metadata": {
    "execution": {
     "iopub.execute_input": "2025-08-05T15:47:04.634653Z",
     "iopub.status.busy": "2025-08-05T15:47:04.633814Z",
     "iopub.status.idle": "2025-08-05T15:47:04.728089Z",
     "shell.execute_reply": "2025-08-05T15:47:04.727073Z"
    },
    "papermill": {
     "duration": 0.117269,
     "end_time": "2025-08-05T15:47:04.730135",
     "exception": false,
     "start_time": "2025-08-05T15:47:04.612866",
     "status": "completed"
    },
    "tags": []
   },
   "outputs": [],
   "source": [
    "# Auxiliary data needed downstream in the pipeline\n",
    "\n",
    "org_train = X_train.copy()\n",
    "org_test = X_test.copy()\n",
    "org_calib = X_calib.copy()"
   ]
  },
  {
   "cell_type": "markdown",
   "id": "0a4a1b33",
   "metadata": {
    "papermill": {
     "duration": 0.018695,
     "end_time": "2025-08-05T15:47:04.769087",
     "exception": false,
     "start_time": "2025-08-05T15:47:04.750392",
     "status": "completed"
    },
    "tags": []
   },
   "source": [
    "# Preprocessing Data"
   ]
  },
  {
   "cell_type": "code",
   "execution_count": 19,
   "id": "ca879031",
   "metadata": {
    "execution": {
     "iopub.execute_input": "2025-08-05T15:47:04.808944Z",
     "iopub.status.busy": "2025-08-05T15:47:04.808050Z",
     "iopub.status.idle": "2025-08-05T15:47:04.814482Z",
     "shell.execute_reply": "2025-08-05T15:47:04.813449Z"
    },
    "papermill": {
     "duration": 0.02816,
     "end_time": "2025-08-05T15:47:04.816233",
     "exception": false,
     "start_time": "2025-08-05T15:47:04.788073",
     "status": "completed"
    },
    "tags": []
   },
   "outputs": [],
   "source": [
    "# EXCLUDE PROTECTED FEATURES\n",
    "# ----------------------\n",
    "# \"exclude_features\": \"none\", # \"nationality\", \"sex\", \"nationality-sex\"\n",
    "\n",
    "excluded_features = universe[\"exclude_features\"].split(\"-\") # split, e.g.: \"nationality-sex\" -> [\"nationality\", \"sex\"]\n",
    "excluded_features_dictionary = {\n",
    "    \"nationality\": [\"maxdeutsch1\", \"maxdeutsch.Missing.\"],\n",
    "    \"sex\": [\"frau1\"],\n",
    "    \"age\": [\"age\"],\n",
    "}"
   ]
  },
  {
   "cell_type": "code",
   "execution_count": 20,
   "id": "b745ac60",
   "metadata": {
    "execution": {
     "iopub.execute_input": "2025-08-05T15:47:04.857006Z",
     "iopub.status.busy": "2025-08-05T15:47:04.856649Z",
     "iopub.status.idle": "2025-08-05T15:47:04.862160Z",
     "shell.execute_reply": "2025-08-05T15:47:04.861086Z"
    },
    "papermill": {
     "duration": 0.028434,
     "end_time": "2025-08-05T15:47:04.864003",
     "exception": false,
     "start_time": "2025-08-05T15:47:04.835569",
     "status": "completed"
    },
    "tags": []
   },
   "outputs": [],
   "source": [
    "# Code nice names to column names\n",
    "\n",
    "excluded_features_columns = [\n",
    "    excluded_features_dictionary[f] for f in excluded_features if len(f) > 0 and f != \"none\"\n",
    "]"
   ]
  },
  {
   "cell_type": "code",
   "execution_count": 21,
   "id": "f84f73a2",
   "metadata": {
    "execution": {
     "iopub.execute_input": "2025-08-05T15:47:04.904866Z",
     "iopub.status.busy": "2025-08-05T15:47:04.903997Z",
     "iopub.status.idle": "2025-08-05T15:47:04.910648Z",
     "shell.execute_reply": "2025-08-05T15:47:04.909490Z"
    },
    "papermill": {
     "duration": 0.028633,
     "end_time": "2025-08-05T15:47:04.912546",
     "exception": false,
     "start_time": "2025-08-05T15:47:04.883913",
     "status": "completed"
    },
    "tags": []
   },
   "outputs": [],
   "source": [
    "from utils import flatten_once\n",
    "\n",
    "excluded_features_columns = flatten_once(excluded_features_columns)"
   ]
  },
  {
   "cell_type": "code",
   "execution_count": 22,
   "id": "884dea22",
   "metadata": {
    "execution": {
     "iopub.execute_input": "2025-08-05T15:47:04.953292Z",
     "iopub.status.busy": "2025-08-05T15:47:04.952955Z",
     "iopub.status.idle": "2025-08-05T15:47:04.962100Z",
     "shell.execute_reply": "2025-08-05T15:47:04.960992Z"
    },
    "papermill": {
     "duration": 0.030848,
     "end_time": "2025-08-05T15:47:04.963953",
     "exception": false,
     "start_time": "2025-08-05T15:47:04.933105",
     "status": "completed"
    },
    "tags": []
   },
   "outputs": [
    {
     "name": "stdout",
     "output_type": "stream",
     "text": [
      "Dropping features: ['maxdeutsch1', 'maxdeutsch.Missing.', 'frau1']\n"
     ]
    }
   ],
   "source": [
    "if len(excluded_features_columns) > 0:\n",
    "    print(f\"Dropping features: {excluded_features_columns}\")\n",
    "    X_train.drop(excluded_features_columns, axis=1, inplace=True)"
   ]
  },
  {
   "cell_type": "code",
   "execution_count": 23,
   "id": "95ab8b16",
   "metadata": {
    "execution": {
     "iopub.execute_input": "2025-08-05T15:47:05.006386Z",
     "iopub.status.busy": "2025-08-05T15:47:05.005663Z",
     "iopub.status.idle": "2025-08-05T15:47:05.058741Z",
     "shell.execute_reply": "2025-08-05T15:47:05.057493Z"
    },
    "papermill": {
     "duration": 0.075352,
     "end_time": "2025-08-05T15:47:05.060764",
     "exception": false,
     "start_time": "2025-08-05T15:47:04.985412",
     "status": "completed"
    },
    "tags": []
   },
   "outputs": [
    {
     "name": "stdout",
     "output_type": "stream",
     "text": [
      "Dropping features: ['maxdeutsch1', 'maxdeutsch.Missing.', 'frau1']\n"
     ]
    }
   ],
   "source": [
    "if len(excluded_features_columns) > 0:\n",
    "    print(f\"Dropping features: {excluded_features_columns}\")\n",
    "    X_test.drop(excluded_features_columns, axis=1, inplace=True)"
   ]
  },
  {
   "cell_type": "code",
   "execution_count": 24,
   "id": "1853aaf5-fb9f-46cb-a2b5-8ea4ae2237e4",
   "metadata": {
    "execution": {
     "iopub.execute_input": "2025-08-05T15:47:05.102652Z",
     "iopub.status.busy": "2025-08-05T15:47:05.101894Z",
     "iopub.status.idle": "2025-08-05T15:47:05.153571Z",
     "shell.execute_reply": "2025-08-05T15:47:05.152373Z"
    },
    "papermill": {
     "duration": 0.074129,
     "end_time": "2025-08-05T15:47:05.155451",
     "exception": false,
     "start_time": "2025-08-05T15:47:05.081322",
     "status": "completed"
    },
    "tags": []
   },
   "outputs": [
    {
     "name": "stdout",
     "output_type": "stream",
     "text": [
      "Dropping features: ['maxdeutsch1', 'maxdeutsch.Missing.', 'frau1']\n"
     ]
    }
   ],
   "source": [
    "if len(excluded_features_columns) > 0:\n",
    "    print(f\"Dropping features: {excluded_features_columns}\")\n",
    "    X_calib.drop(excluded_features_columns, axis=1, inplace=True)"
   ]
  },
  {
   "cell_type": "code",
   "execution_count": 25,
   "id": "76c4dc6d",
   "metadata": {
    "execution": {
     "iopub.execute_input": "2025-08-05T15:47:05.197599Z",
     "iopub.status.busy": "2025-08-05T15:47:05.196846Z",
     "iopub.status.idle": "2025-08-05T15:47:05.202660Z",
     "shell.execute_reply": "2025-08-05T15:47:05.201620Z"
    },
    "papermill": {
     "duration": 0.028129,
     "end_time": "2025-08-05T15:47:05.204467",
     "exception": false,
     "start_time": "2025-08-05T15:47:05.176338",
     "status": "completed"
    },
    "tags": []
   },
   "outputs": [],
   "source": [
    "# EXCLUDE CERTAIN SUBGROUPS\n",
    "# ----------------------\n",
    "\n",
    "mode = universe.get(\"exclude_subgroups\", \"keep-all\") \n",
    "# Fetches the exclude_subgroups setting from the universe dict.\n",
    "# Defaults to \"keep-all\" if the key is missing."
   ]
  },
  {
   "cell_type": "code",
   "execution_count": 26,
   "id": "21994072",
   "metadata": {
    "execution": {
     "iopub.execute_input": "2025-08-05T15:47:05.245620Z",
     "iopub.status.busy": "2025-08-05T15:47:05.245025Z",
     "iopub.status.idle": "2025-08-05T15:47:05.251676Z",
     "shell.execute_reply": "2025-08-05T15:47:05.250684Z"
    },
    "papermill": {
     "duration": 0.029005,
     "end_time": "2025-08-05T15:47:05.253539",
     "exception": false,
     "start_time": "2025-08-05T15:47:05.224534",
     "status": "completed"
    },
    "tags": []
   },
   "outputs": [],
   "source": [
    "if mode == \"keep-all\":\n",
    "    keep_mask = pd.Series(True, index=org_train.index)\n",
    "\n",
    "# org_train contains the original feature columns from features_org (in Simson)\n",
    "# features_org contains unprocessed features, for me X_train at beginning ???\n",
    "# For keep-all, creates a boolean Series (keep_mask) of all True, so no rows are removed.\n",
    "\n",
    "elif mode == \"drop-non-german\":\n",
    "    keep_mask = org_train[\"maxdeutsch1\"] == 1 # ??? what about missing values?\n",
    "\n",
    "else:\n",
    "    raise ValueError(f\"Unsupported mode for exclude_subgroups: {mode}\")"
   ]
  },
  {
   "cell_type": "code",
   "execution_count": 27,
   "id": "71651440",
   "metadata": {
    "execution": {
     "iopub.execute_input": "2025-08-05T15:47:05.294807Z",
     "iopub.status.busy": "2025-08-05T15:47:05.294228Z",
     "iopub.status.idle": "2025-08-05T15:47:05.300818Z",
     "shell.execute_reply": "2025-08-05T15:47:05.299736Z"
    },
    "papermill": {
     "duration": 0.028873,
     "end_time": "2025-08-05T15:47:05.302643",
     "exception": false,
     "start_time": "2025-08-05T15:47:05.273770",
     "status": "completed"
    },
    "tags": []
   },
   "outputs": [],
   "source": [
    "n_drop = (~keep_mask).sum() # Calculates how many rows are set to be dropped\n",
    "if n_drop > 0:\n",
    "    pct = n_drop / len(keep_mask) * 100\n",
    "    print(f\"Dropping {n_drop} rows ({pct:.2f}%) where mode='{mode}'\")"
   ]
  },
  {
   "cell_type": "code",
   "execution_count": 28,
   "id": "5fb8eee5",
   "metadata": {
    "execution": {
     "iopub.execute_input": "2025-08-05T15:47:05.344257Z",
     "iopub.status.busy": "2025-08-05T15:47:05.343565Z",
     "iopub.status.idle": "2025-08-05T15:47:05.352403Z",
     "shell.execute_reply": "2025-08-05T15:47:05.351378Z"
    },
    "papermill": {
     "duration": 0.0312,
     "end_time": "2025-08-05T15:47:05.354158",
     "exception": false,
     "start_time": "2025-08-05T15:47:05.322958",
     "status": "completed"
    },
    "tags": []
   },
   "outputs": [],
   "source": [
    "X_train = X_train[keep_mask]"
   ]
  },
  {
   "cell_type": "code",
   "execution_count": 29,
   "id": "b202bb3a",
   "metadata": {
    "execution": {
     "iopub.execute_input": "2025-08-05T15:47:05.396213Z",
     "iopub.status.busy": "2025-08-05T15:47:05.395485Z",
     "iopub.status.idle": "2025-08-05T15:47:05.401167Z",
     "shell.execute_reply": "2025-08-05T15:47:05.400066Z"
    },
    "papermill": {
     "duration": 0.028359,
     "end_time": "2025-08-05T15:47:05.403095",
     "exception": false,
     "start_time": "2025-08-05T15:47:05.374736",
     "status": "completed"
    },
    "tags": []
   },
   "outputs": [],
   "source": [
    "y_train = y_train[keep_mask]"
   ]
  },
  {
   "cell_type": "markdown",
   "id": "493e2ac3",
   "metadata": {
    "papermill": {
     "duration": 0.021349,
     "end_time": "2025-08-05T15:47:05.445617",
     "exception": false,
     "start_time": "2025-08-05T15:47:05.424268",
     "status": "completed"
    },
    "tags": []
   },
   "source": [
    "# Model Training"
   ]
  },
  {
   "cell_type": "code",
   "execution_count": 30,
   "id": "679e1268",
   "metadata": {
    "execution": {
     "iopub.execute_input": "2025-08-05T15:47:05.488227Z",
     "iopub.status.busy": "2025-08-05T15:47:05.487292Z",
     "iopub.status.idle": "2025-08-05T15:47:05.593353Z",
     "shell.execute_reply": "2025-08-05T15:47:05.592358Z"
    },
    "papermill": {
     "duration": 0.129284,
     "end_time": "2025-08-05T15:47:05.595402",
     "exception": false,
     "start_time": "2025-08-05T15:47:05.466118",
     "status": "completed"
    },
    "tags": []
   },
   "outputs": [],
   "source": [
    "from sklearn.linear_model import LogisticRegression\n",
    "from sklearn.ensemble import GradientBoostingClassifier, RandomForestClassifier\n",
    "\n",
    "if (universe[\"model\"] == \"logreg\"):\n",
    "    model = LogisticRegression() #penalty=\"none\", solver=\"newton-cg\", max_iter=1) # include random_state=19 ?\n",
    "elif (universe[\"model\"] == \"penalized_logreg\"):\n",
    "    model = LogisticRegression(penalty=\"l2\", C=0.1) #, solver=\"newton-cg\", max_iter=1)\n",
    "elif (universe[\"model\"] == \"rf\"):\n",
    "    model = RandomForestClassifier() # n_estimators=100, n_jobs=-1\n",
    "elif (universe[\"model\"] == \"gbm\"):\n",
    "    model = GradientBoostingClassifier()\n",
    "elif (universe[\"model\"] == \"elasticnet\"):\n",
    "    model = LogisticRegression(penalty = 'elasticnet', solver = 'saga', l1_ratio = 0.5) # max_iter=5000\n",
    "else:\n",
    "    raise \"Unsupported universe.model\""
   ]
  },
  {
   "cell_type": "code",
   "execution_count": 31,
   "id": "0cc8f744",
   "metadata": {
    "execution": {
     "iopub.execute_input": "2025-08-05T15:47:05.639587Z",
     "iopub.status.busy": "2025-08-05T15:47:05.638677Z",
     "iopub.status.idle": "2025-08-05T15:47:05.645117Z",
     "shell.execute_reply": "2025-08-05T15:47:05.644042Z"
    },
    "papermill": {
     "duration": 0.030626,
     "end_time": "2025-08-05T15:47:05.646897",
     "exception": false,
     "start_time": "2025-08-05T15:47:05.616271",
     "status": "completed"
    },
    "tags": []
   },
   "outputs": [],
   "source": [
    "import numpy as np\n",
    "from sklearn.pipeline import Pipeline\n",
    "from sklearn.preprocessing import StandardScaler\n",
    "\n",
    "model = Pipeline([\n",
    "    #(\"continuous_processor\", continuous_processor),\n",
    "    #(\"categorical_preprocessor\", categorical_preprocessor),\n",
    "    (\"scale\", StandardScaler() if universe[\"scale\"] == \"scale\" else None), \n",
    "    (\"model\", model),\n",
    "])"
   ]
  },
  {
   "cell_type": "code",
   "execution_count": 32,
   "id": "9442c04d",
   "metadata": {
    "execution": {
     "iopub.execute_input": "2025-08-05T15:47:05.682928Z",
     "iopub.status.busy": "2025-08-05T15:47:05.682312Z",
     "iopub.status.idle": "2025-08-05T15:47:06.908469Z",
     "shell.execute_reply": "2025-08-05T15:47:06.907784Z"
    },
    "papermill": {
     "duration": 1.245305,
     "end_time": "2025-08-05T15:47:06.909706",
     "exception": false,
     "start_time": "2025-08-05T15:47:05.664401",
     "status": "completed"
    },
    "tags": []
   },
   "outputs": [
    {
     "name": "stderr",
     "output_type": "stream",
     "text": [
      "/dss/dsshome1/0C/ra93lal2/.local/share/virtualenvs/CMA_Fairness_v2-3j10GkSs/lib/python3.10/site-packages/sklearn/linear_model/_sag.py:350: ConvergenceWarning: The max_iter was reached which means the coef_ did not converge\n",
      "  warnings.warn(\n"
     ]
    },
    {
     "data": {
      "text/html": [
       "<style>#sk-container-id-1 {color: black;background-color: white;}#sk-container-id-1 pre{padding: 0;}#sk-container-id-1 div.sk-toggleable {background-color: white;}#sk-container-id-1 label.sk-toggleable__label {cursor: pointer;display: block;width: 100%;margin-bottom: 0;padding: 0.3em;box-sizing: border-box;text-align: center;}#sk-container-id-1 label.sk-toggleable__label-arrow:before {content: \"▸\";float: left;margin-right: 0.25em;color: #696969;}#sk-container-id-1 label.sk-toggleable__label-arrow:hover:before {color: black;}#sk-container-id-1 div.sk-estimator:hover label.sk-toggleable__label-arrow:before {color: black;}#sk-container-id-1 div.sk-toggleable__content {max-height: 0;max-width: 0;overflow: hidden;text-align: left;background-color: #f0f8ff;}#sk-container-id-1 div.sk-toggleable__content pre {margin: 0.2em;color: black;border-radius: 0.25em;background-color: #f0f8ff;}#sk-container-id-1 input.sk-toggleable__control:checked~div.sk-toggleable__content {max-height: 200px;max-width: 100%;overflow: auto;}#sk-container-id-1 input.sk-toggleable__control:checked~label.sk-toggleable__label-arrow:before {content: \"▾\";}#sk-container-id-1 div.sk-estimator input.sk-toggleable__control:checked~label.sk-toggleable__label {background-color: #d4ebff;}#sk-container-id-1 div.sk-label input.sk-toggleable__control:checked~label.sk-toggleable__label {background-color: #d4ebff;}#sk-container-id-1 input.sk-hidden--visually {border: 0;clip: rect(1px 1px 1px 1px);clip: rect(1px, 1px, 1px, 1px);height: 1px;margin: -1px;overflow: hidden;padding: 0;position: absolute;width: 1px;}#sk-container-id-1 div.sk-estimator {font-family: monospace;background-color: #f0f8ff;border: 1px dotted black;border-radius: 0.25em;box-sizing: border-box;margin-bottom: 0.5em;}#sk-container-id-1 div.sk-estimator:hover {background-color: #d4ebff;}#sk-container-id-1 div.sk-parallel-item::after {content: \"\";width: 100%;border-bottom: 1px solid gray;flex-grow: 1;}#sk-container-id-1 div.sk-label:hover label.sk-toggleable__label {background-color: #d4ebff;}#sk-container-id-1 div.sk-serial::before {content: \"\";position: absolute;border-left: 1px solid gray;box-sizing: border-box;top: 0;bottom: 0;left: 50%;z-index: 0;}#sk-container-id-1 div.sk-serial {display: flex;flex-direction: column;align-items: center;background-color: white;padding-right: 0.2em;padding-left: 0.2em;position: relative;}#sk-container-id-1 div.sk-item {position: relative;z-index: 1;}#sk-container-id-1 div.sk-parallel {display: flex;align-items: stretch;justify-content: center;background-color: white;position: relative;}#sk-container-id-1 div.sk-item::before, #sk-container-id-1 div.sk-parallel-item::before {content: \"\";position: absolute;border-left: 1px solid gray;box-sizing: border-box;top: 0;bottom: 0;left: 50%;z-index: -1;}#sk-container-id-1 div.sk-parallel-item {display: flex;flex-direction: column;z-index: 1;position: relative;background-color: white;}#sk-container-id-1 div.sk-parallel-item:first-child::after {align-self: flex-end;width: 50%;}#sk-container-id-1 div.sk-parallel-item:last-child::after {align-self: flex-start;width: 50%;}#sk-container-id-1 div.sk-parallel-item:only-child::after {width: 0;}#sk-container-id-1 div.sk-dashed-wrapped {border: 1px dashed gray;margin: 0 0.4em 0.5em 0.4em;box-sizing: border-box;padding-bottom: 0.4em;background-color: white;}#sk-container-id-1 div.sk-label label {font-family: monospace;font-weight: bold;display: inline-block;line-height: 1.2em;}#sk-container-id-1 div.sk-label-container {text-align: center;}#sk-container-id-1 div.sk-container {/* jupyter's `normalize.less` sets `[hidden] { display: none; }` but bootstrap.min.css set `[hidden] { display: none !important; }` so we also need the `!important` here to be able to override the default hidden behavior on the sphinx rendered scikit-learn.org. See: https://github.com/scikit-learn/scikit-learn/issues/21755 */display: inline-block !important;position: relative;}#sk-container-id-1 div.sk-text-repr-fallback {display: none;}</style><div id=\"sk-container-id-1\" class=\"sk-top-container\"><div class=\"sk-text-repr-fallback\"><pre>Pipeline(steps=[(&#x27;scale&#x27;, None),\n",
       "                (&#x27;model&#x27;,\n",
       "                 LogisticRegression(l1_ratio=0.5, penalty=&#x27;elasticnet&#x27;,\n",
       "                                    solver=&#x27;saga&#x27;))])</pre><b>In a Jupyter environment, please rerun this cell to show the HTML representation or trust the notebook. <br />On GitHub, the HTML representation is unable to render, please try loading this page with nbviewer.org.</b></div><div class=\"sk-container\" hidden><div class=\"sk-item sk-dashed-wrapped\"><div class=\"sk-label-container\"><div class=\"sk-label sk-toggleable\"><input class=\"sk-toggleable__control sk-hidden--visually\" id=\"sk-estimator-id-1\" type=\"checkbox\" ><label for=\"sk-estimator-id-1\" class=\"sk-toggleable__label sk-toggleable__label-arrow\">Pipeline</label><div class=\"sk-toggleable__content\"><pre>Pipeline(steps=[(&#x27;scale&#x27;, None),\n",
       "                (&#x27;model&#x27;,\n",
       "                 LogisticRegression(l1_ratio=0.5, penalty=&#x27;elasticnet&#x27;,\n",
       "                                    solver=&#x27;saga&#x27;))])</pre></div></div></div><div class=\"sk-serial\"><div class=\"sk-item\"><div class=\"sk-estimator sk-toggleable\"><input class=\"sk-toggleable__control sk-hidden--visually\" id=\"sk-estimator-id-2\" type=\"checkbox\" ><label for=\"sk-estimator-id-2\" class=\"sk-toggleable__label sk-toggleable__label-arrow\">None</label><div class=\"sk-toggleable__content\"><pre>None</pre></div></div></div><div class=\"sk-item\"><div class=\"sk-estimator sk-toggleable\"><input class=\"sk-toggleable__control sk-hidden--visually\" id=\"sk-estimator-id-3\" type=\"checkbox\" ><label for=\"sk-estimator-id-3\" class=\"sk-toggleable__label sk-toggleable__label-arrow\">LogisticRegression</label><div class=\"sk-toggleable__content\"><pre>LogisticRegression(l1_ratio=0.5, penalty=&#x27;elasticnet&#x27;, solver=&#x27;saga&#x27;)</pre></div></div></div></div></div></div></div>"
      ],
      "text/plain": [
       "Pipeline(steps=[('scale', None),\n",
       "                ('model',\n",
       "                 LogisticRegression(l1_ratio=0.5, penalty='elasticnet',\n",
       "                                    solver='saga'))])"
      ]
     },
     "execution_count": 32,
     "metadata": {},
     "output_type": "execute_result"
    }
   ],
   "source": [
    "model.fit(X_train, y_train.values.ravel())"
   ]
  },
  {
   "cell_type": "code",
   "execution_count": 33,
   "id": "af59f8c0",
   "metadata": {
    "execution": {
     "iopub.execute_input": "2025-08-05T15:47:06.930746Z",
     "iopub.status.busy": "2025-08-05T15:47:06.930392Z",
     "iopub.status.idle": "2025-08-05T15:47:06.934886Z",
     "shell.execute_reply": "2025-08-05T15:47:06.934078Z"
    },
    "papermill": {
     "duration": 0.016383,
     "end_time": "2025-08-05T15:47:06.936286",
     "exception": false,
     "start_time": "2025-08-05T15:47:06.919903",
     "status": "completed"
    },
    "tags": []
   },
   "outputs": [],
   "source": [
    "from fairness_multiverse.universe import predict_w_threshold"
   ]
  },
  {
   "cell_type": "code",
   "execution_count": 34,
   "id": "a7cf2e16",
   "metadata": {
    "execution": {
     "iopub.execute_input": "2025-08-05T15:47:06.958358Z",
     "iopub.status.busy": "2025-08-05T15:47:06.957622Z",
     "iopub.status.idle": "2025-08-05T15:47:07.040032Z",
     "shell.execute_reply": "2025-08-05T15:47:07.039332Z"
    },
    "papermill": {
     "duration": 0.094079,
     "end_time": "2025-08-05T15:47:07.041273",
     "exception": false,
     "start_time": "2025-08-05T15:47:06.947194",
     "status": "completed"
    },
    "tags": []
   },
   "outputs": [
    {
     "data": {
      "text/plain": [
       "0.8681194961542749"
      ]
     },
     "execution_count": 34,
     "metadata": {},
     "output_type": "execute_result"
    }
   ],
   "source": [
    "probs_test = model.predict_proba(X_test)\n",
    "\n",
    "'''\n",
    "Below code returns a boolean array (or binary 0/1 array depending on how it’s used) where each element \n",
    "is True if the probability of class 1 is greater than or equal to the threshold, and False otherwise.\n",
    "'''\n",
    "y_pred_default = predict_w_threshold(probs_test, 0.5)\n",
    "\n",
    "from sklearn.metrics import accuracy_score\n",
    "\n",
    "# Naive prediction\n",
    "accuracy_score(y_true = y_true, y_pred = y_pred_default)"
   ]
  },
  {
   "cell_type": "code",
   "execution_count": 35,
   "id": "081964c3",
   "metadata": {
    "execution": {
     "iopub.execute_input": "2025-08-05T15:47:07.062730Z",
     "iopub.status.busy": "2025-08-05T15:47:07.062393Z",
     "iopub.status.idle": "2025-08-05T15:47:07.136264Z",
     "shell.execute_reply": "2025-08-05T15:47:07.135418Z"
    },
    "papermill": {
     "duration": 0.085726,
     "end_time": "2025-08-05T15:47:07.137597",
     "exception": false,
     "start_time": "2025-08-05T15:47:07.051871",
     "status": "completed"
    },
    "tags": []
   },
   "outputs": [
    {
     "data": {
      "text/plain": [
       "array([0, 0, 0, ..., 0, 0, 0])"
      ]
     },
     "execution_count": 35,
     "metadata": {},
     "output_type": "execute_result"
    }
   ],
   "source": [
    "model.predict(X_test)"
   ]
  },
  {
   "cell_type": "markdown",
   "id": "56c9705b",
   "metadata": {
    "papermill": {
     "duration": 0.0099,
     "end_time": "2025-08-05T15:47:07.158142",
     "exception": false,
     "start_time": "2025-08-05T15:47:07.148242",
     "status": "completed"
    },
    "tags": []
   },
   "source": [
    "# Conformal Prediction"
   ]
  },
  {
   "cell_type": "code",
   "execution_count": 36,
   "id": "160ec6ff",
   "metadata": {
    "execution": {
     "iopub.execute_input": "2025-08-05T15:47:07.179343Z",
     "iopub.status.busy": "2025-08-05T15:47:07.178844Z",
     "iopub.status.idle": "2025-08-05T15:47:07.183194Z",
     "shell.execute_reply": "2025-08-05T15:47:07.182465Z"
    },
    "papermill": {
     "duration": 0.016647,
     "end_time": "2025-08-05T15:47:07.184607",
     "exception": false,
     "start_time": "2025-08-05T15:47:07.167960",
     "status": "completed"
    },
    "tags": []
   },
   "outputs": [],
   "source": [
    "# Miscoverage level for conformal prediction (10% allowed error rate => 90% target coverage)\n",
    "alpha = 0.1"
   ]
  },
  {
   "cell_type": "code",
   "execution_count": 37,
   "id": "eadf4555-3dd3-440e-8e35-f82a4ad9f855",
   "metadata": {
    "execution": {
     "iopub.execute_input": "2025-08-05T15:47:07.206852Z",
     "iopub.status.busy": "2025-08-05T15:47:07.206207Z",
     "iopub.status.idle": "2025-08-05T15:47:07.278322Z",
     "shell.execute_reply": "2025-08-05T15:47:07.277289Z"
    },
    "papermill": {
     "duration": 0.084259,
     "end_time": "2025-08-05T15:47:07.279770",
     "exception": false,
     "start_time": "2025-08-05T15:47:07.195511",
     "status": "completed"
    },
    "tags": []
   },
   "outputs": [],
   "source": [
    "probs_calib = model.predict_proba(X_calib)"
   ]
  },
  {
   "cell_type": "code",
   "execution_count": 38,
   "id": "2ed93547-6d5d-4983-9b36-1ecb300da49a",
   "metadata": {
    "execution": {
     "iopub.execute_input": "2025-08-05T15:47:07.301631Z",
     "iopub.status.busy": "2025-08-05T15:47:07.301131Z",
     "iopub.status.idle": "2025-08-05T15:47:07.306302Z",
     "shell.execute_reply": "2025-08-05T15:47:07.305530Z"
    },
    "papermill": {
     "duration": 0.017455,
     "end_time": "2025-08-05T15:47:07.307753",
     "exception": false,
     "start_time": "2025-08-05T15:47:07.290298",
     "status": "completed"
    },
    "tags": []
   },
   "outputs": [],
   "source": [
    "y_calib = y_calib.values.ravel().astype(int)"
   ]
  },
  {
   "cell_type": "code",
   "execution_count": 39,
   "id": "65d1320d-f588-4b38-9072-62af1ae97f7d",
   "metadata": {
    "execution": {
     "iopub.execute_input": "2025-08-05T15:47:07.330333Z",
     "iopub.status.busy": "2025-08-05T15:47:07.329586Z",
     "iopub.status.idle": "2025-08-05T15:47:07.335679Z",
     "shell.execute_reply": "2025-08-05T15:47:07.334875Z"
    },
    "papermill": {
     "duration": 0.018397,
     "end_time": "2025-08-05T15:47:07.337130",
     "exception": false,
     "start_time": "2025-08-05T15:47:07.318733",
     "status": "completed"
    },
    "tags": []
   },
   "outputs": [],
   "source": [
    "from fairness_multiverse.conformal import compute_nc_scores\n",
    "\n",
    "# Compute nonconformity scores on calibration set (1 - probability of true class)\n",
    "nc_scores = compute_nc_scores(probs_calib, y_calib)"
   ]
  },
  {
   "cell_type": "code",
   "execution_count": 40,
   "id": "df3b8ca3-53b7-43d5-9667-7c85da7aeda2",
   "metadata": {
    "execution": {
     "iopub.execute_input": "2025-08-05T15:47:07.359473Z",
     "iopub.status.busy": "2025-08-05T15:47:07.358983Z",
     "iopub.status.idle": "2025-08-05T15:47:07.364813Z",
     "shell.execute_reply": "2025-08-05T15:47:07.364037Z"
    },
    "papermill": {
     "duration": 0.018249,
     "end_time": "2025-08-05T15:47:07.366247",
     "exception": false,
     "start_time": "2025-08-05T15:47:07.347998",
     "status": "completed"
    },
    "tags": []
   },
   "outputs": [],
   "source": [
    "from fairness_multiverse.conformal import find_threshold\n",
    "\n",
    "# Find conformal threshold q_hat for the given alpha (split conformal method)\n",
    "q_hat = find_threshold(nc_scores, alpha)"
   ]
  },
  {
   "cell_type": "code",
   "execution_count": 41,
   "id": "4d29e6c1-0ef6-4aa4-b8fe-4fe79b0d033a",
   "metadata": {
    "execution": {
     "iopub.execute_input": "2025-08-05T15:47:07.388739Z",
     "iopub.status.busy": "2025-08-05T15:47:07.388098Z",
     "iopub.status.idle": "2025-08-05T15:47:07.394160Z",
     "shell.execute_reply": "2025-08-05T15:47:07.393356Z"
    },
    "papermill": {
     "duration": 0.018265,
     "end_time": "2025-08-05T15:47:07.395544",
     "exception": false,
     "start_time": "2025-08-05T15:47:07.377279",
     "status": "completed"
    },
    "tags": []
   },
   "outputs": [
    {
     "data": {
      "text/plain": [
       "0.6783828830875958"
      ]
     },
     "execution_count": 41,
     "metadata": {},
     "output_type": "execute_result"
    }
   ],
   "source": [
    "q_hat"
   ]
  },
  {
   "cell_type": "code",
   "execution_count": 42,
   "id": "92460794-cdac-4be2-ba28-f28c0515a6fb",
   "metadata": {
    "execution": {
     "iopub.execute_input": "2025-08-05T15:47:07.418771Z",
     "iopub.status.busy": "2025-08-05T15:47:07.418076Z",
     "iopub.status.idle": "2025-08-05T15:47:08.039255Z",
     "shell.execute_reply": "2025-08-05T15:47:08.038349Z"
    },
    "papermill": {
     "duration": 0.634097,
     "end_time": "2025-08-05T15:47:08.040688",
     "exception": false,
     "start_time": "2025-08-05T15:47:07.406591",
     "status": "completed"
    },
    "tags": []
   },
   "outputs": [],
   "source": [
    "from fairness_multiverse.conformal import predict_conformal_sets\n",
    "\n",
    "# Generate prediction sets for each test example\n",
    "pred_sets = predict_conformal_sets(model, X_test, q_hat)"
   ]
  },
  {
   "cell_type": "code",
   "execution_count": 43,
   "id": "d90c9a65-e6db-4f5d-80cd-e68fb7e46829",
   "metadata": {
    "execution": {
     "iopub.execute_input": "2025-08-05T15:47:08.063466Z",
     "iopub.status.busy": "2025-08-05T15:47:08.062965Z",
     "iopub.status.idle": "2025-08-05T15:47:08.067578Z",
     "shell.execute_reply": "2025-08-05T15:47:08.066859Z"
    },
    "papermill": {
     "duration": 0.017361,
     "end_time": "2025-08-05T15:47:08.069076",
     "exception": false,
     "start_time": "2025-08-05T15:47:08.051715",
     "status": "completed"
    },
    "tags": []
   },
   "outputs": [],
   "source": [
    "y_true = y_true.squeeze()"
   ]
  },
  {
   "cell_type": "code",
   "execution_count": 44,
   "id": "3a58a54a-1e68-46b9-927a-df01f18aebc8",
   "metadata": {
    "execution": {
     "iopub.execute_input": "2025-08-05T15:47:08.092836Z",
     "iopub.status.busy": "2025-08-05T15:47:08.092125Z",
     "iopub.status.idle": "2025-08-05T15:47:08.648975Z",
     "shell.execute_reply": "2025-08-05T15:47:08.648225Z"
    },
    "papermill": {
     "duration": 0.569562,
     "end_time": "2025-08-05T15:47:08.650381",
     "exception": false,
     "start_time": "2025-08-05T15:47:08.080819",
     "status": "completed"
    },
    "tags": []
   },
   "outputs": [],
   "source": [
    "from fairness_multiverse.conformal import evaluate_sets\n",
    "\n",
    "# Evaluate coverage and average set size on test data\n",
    "metrics = evaluate_sets(pred_sets, y_true)"
   ]
  },
  {
   "cell_type": "markdown",
   "id": "2b569c12-9aaa-4c88-98c9-bbcd0cf3ebb8",
   "metadata": {
    "papermill": {
     "duration": 0.01035,
     "end_time": "2025-08-05T15:47:08.671639",
     "exception": false,
     "start_time": "2025-08-05T15:47:08.661289",
     "status": "completed"
    },
    "tags": []
   },
   "source": [
    "# CP Metrics"
   ]
  },
  {
   "cell_type": "code",
   "execution_count": 45,
   "id": "5ce0a5cb-201f-45a0-ade5-94c7f0bd6095",
   "metadata": {
    "execution": {
     "iopub.execute_input": "2025-08-05T15:47:08.694031Z",
     "iopub.status.busy": "2025-08-05T15:47:08.693507Z",
     "iopub.status.idle": "2025-08-05T15:47:08.700032Z",
     "shell.execute_reply": "2025-08-05T15:47:08.699080Z"
    },
    "papermill": {
     "duration": 0.019225,
     "end_time": "2025-08-05T15:47:08.701403",
     "exception": false,
     "start_time": "2025-08-05T15:47:08.682178",
     "status": "completed"
    },
    "tags": []
   },
   "outputs": [
    {
     "data": {
      "text/plain": [
       "{'coverage': 0.9128079366848735, 'avg_size': 1.2748077137442873}"
      ]
     },
     "execution_count": 45,
     "metadata": {},
     "output_type": "execute_result"
    }
   ],
   "source": [
    "metrics"
   ]
  },
  {
   "cell_type": "code",
   "execution_count": 46,
   "id": "9b9a838d-31c9-430b-ae14-12baee460d17",
   "metadata": {
    "execution": {
     "iopub.execute_input": "2025-08-05T15:47:08.725154Z",
     "iopub.status.busy": "2025-08-05T15:47:08.724398Z",
     "iopub.status.idle": "2025-08-05T15:47:08.730046Z",
     "shell.execute_reply": "2025-08-05T15:47:08.729273Z"
    },
    "papermill": {
     "duration": 0.018731,
     "end_time": "2025-08-05T15:47:08.731540",
     "exception": false,
     "start_time": "2025-08-05T15:47:08.712809",
     "status": "completed"
    },
    "tags": []
   },
   "outputs": [],
   "source": [
    "example_universe = universe.copy()\n",
    "universe_training_year = example_universe.get(\"training_year\")\n",
    "universe_training_size = example_universe.get(\"training_size\")\n",
    "universe_scale = example_universe.get(\"scale\")\n",
    "universe_model = example_universe.get(\"model\")\n",
    "universe_exclude_features = example_universe.get(\"exclude_features\")\n",
    "universe_exclude_subgroups = example_universe.get(\"exclude_subgroups\")"
   ]
  },
  {
   "cell_type": "code",
   "execution_count": 47,
   "id": "f4b6a8ac-9dc0-4245-8a91-5b3b5999c4f9",
   "metadata": {
    "execution": {
     "iopub.execute_input": "2025-08-05T15:47:08.755629Z",
     "iopub.status.busy": "2025-08-05T15:47:08.754864Z",
     "iopub.status.idle": "2025-08-05T15:47:08.760186Z",
     "shell.execute_reply": "2025-08-05T15:47:08.759494Z"
    },
    "papermill": {
     "duration": 0.018287,
     "end_time": "2025-08-05T15:47:08.761638",
     "exception": false,
     "start_time": "2025-08-05T15:47:08.743351",
     "status": "completed"
    },
    "tags": []
   },
   "outputs": [],
   "source": [
    "cp_metrics_dict = {\n",
    "    \"universe_id\": [universe_id],\n",
    "    \"universe_training_year\": [universe_training_year],\n",
    "    \"universe_training_size\": [universe_training_size],\n",
    "    \"universe_scale\": [universe_scale],\n",
    "    \"universe_model\": [universe_model],\n",
    "    \"universe_exclude_features\": [universe_exclude_features],\n",
    "    \"universe_exclude_subgroups\": [universe_exclude_subgroups],\n",
    "    \"q_hat\": [q_hat],\n",
    "    \"coverage\": [metrics[\"coverage\"]],\n",
    "    \"avg_size\": [metrics[\"avg_size\"]],\n",
    "}"
   ]
  },
  {
   "cell_type": "code",
   "execution_count": 48,
   "id": "908acbb1-0371-4915-85ca-3fa520d2efe2",
   "metadata": {
    "execution": {
     "iopub.execute_input": "2025-08-05T15:47:08.785905Z",
     "iopub.status.busy": "2025-08-05T15:47:08.785387Z",
     "iopub.status.idle": "2025-08-05T15:47:08.792337Z",
     "shell.execute_reply": "2025-08-05T15:47:08.791588Z"
    },
    "papermill": {
     "duration": 0.020003,
     "end_time": "2025-08-05T15:47:08.793777",
     "exception": false,
     "start_time": "2025-08-05T15:47:08.773774",
     "status": "completed"
    },
    "tags": []
   },
   "outputs": [
    {
     "data": {
      "text/plain": [
       "{'universe_id': ['344156b130ace55d88a681c2ab38a70c'],\n",
       " 'universe_training_year': ['2012_14'],\n",
       " 'universe_training_size': ['5k'],\n",
       " 'universe_scale': ['do-not-scale'],\n",
       " 'universe_model': ['elasticnet'],\n",
       " 'universe_exclude_features': ['nationality-sex'],\n",
       " 'universe_exclude_subgroups': ['keep-all'],\n",
       " 'q_hat': [0.6783828830875958],\n",
       " 'coverage': [0.9128079366848735],\n",
       " 'avg_size': [1.2748077137442873]}"
      ]
     },
     "execution_count": 48,
     "metadata": {},
     "output_type": "execute_result"
    }
   ],
   "source": [
    "cp_metrics_dict"
   ]
  },
  {
   "cell_type": "code",
   "execution_count": 49,
   "id": "33007efc-14e9-4ec6-97ac-56a455c82265",
   "metadata": {
    "execution": {
     "iopub.execute_input": "2025-08-05T15:47:08.818012Z",
     "iopub.status.busy": "2025-08-05T15:47:08.817309Z",
     "iopub.status.idle": "2025-08-05T15:47:08.822965Z",
     "shell.execute_reply": "2025-08-05T15:47:08.822210Z"
    },
    "papermill": {
     "duration": 0.019074,
     "end_time": "2025-08-05T15:47:08.824569",
     "exception": false,
     "start_time": "2025-08-05T15:47:08.805495",
     "status": "completed"
    },
    "tags": []
   },
   "outputs": [],
   "source": [
    "cp_metrics_df = pd.DataFrame(cp_metrics_dict)"
   ]
  },
  {
   "cell_type": "code",
   "execution_count": 50,
   "id": "db12611b-57b2-4910-b9d0-355adfd6e7bf",
   "metadata": {
    "execution": {
     "iopub.execute_input": "2025-08-05T15:47:08.871541Z",
     "iopub.status.busy": "2025-08-05T15:47:08.870629Z",
     "iopub.status.idle": "2025-08-05T15:47:08.896050Z",
     "shell.execute_reply": "2025-08-05T15:47:08.894808Z"
    },
    "papermill": {
     "duration": 0.050861,
     "end_time": "2025-08-05T15:47:08.897893",
     "exception": false,
     "start_time": "2025-08-05T15:47:08.847032",
     "status": "completed"
    },
    "tags": []
   },
   "outputs": [
    {
     "data": {
      "text/html": [
       "<div>\n",
       "<style scoped>\n",
       "    .dataframe tbody tr th:only-of-type {\n",
       "        vertical-align: middle;\n",
       "    }\n",
       "\n",
       "    .dataframe tbody tr th {\n",
       "        vertical-align: top;\n",
       "    }\n",
       "\n",
       "    .dataframe thead th {\n",
       "        text-align: right;\n",
       "    }\n",
       "</style>\n",
       "<table border=\"1\" class=\"dataframe\">\n",
       "  <thead>\n",
       "    <tr style=\"text-align: right;\">\n",
       "      <th></th>\n",
       "      <th>universe_id</th>\n",
       "      <th>universe_training_year</th>\n",
       "      <th>universe_training_size</th>\n",
       "      <th>universe_scale</th>\n",
       "      <th>universe_model</th>\n",
       "      <th>universe_exclude_features</th>\n",
       "      <th>universe_exclude_subgroups</th>\n",
       "      <th>q_hat</th>\n",
       "      <th>coverage</th>\n",
       "      <th>avg_size</th>\n",
       "    </tr>\n",
       "  </thead>\n",
       "  <tbody>\n",
       "    <tr>\n",
       "      <th>0</th>\n",
       "      <td>344156b130ace55d88a681c2ab38a70c</td>\n",
       "      <td>2012_14</td>\n",
       "      <td>5k</td>\n",
       "      <td>do-not-scale</td>\n",
       "      <td>elasticnet</td>\n",
       "      <td>nationality-sex</td>\n",
       "      <td>keep-all</td>\n",
       "      <td>0.678383</td>\n",
       "      <td>0.912808</td>\n",
       "      <td>1.274808</td>\n",
       "    </tr>\n",
       "  </tbody>\n",
       "</table>\n",
       "</div>"
      ],
      "text/plain": [
       "                        universe_id universe_training_year  \\\n",
       "0  344156b130ace55d88a681c2ab38a70c                2012_14   \n",
       "\n",
       "  universe_training_size universe_scale universe_model  \\\n",
       "0                     5k   do-not-scale     elasticnet   \n",
       "\n",
       "  universe_exclude_features universe_exclude_subgroups     q_hat  coverage  \\\n",
       "0           nationality-sex                   keep-all  0.678383  0.912808   \n",
       "\n",
       "   avg_size  \n",
       "0  1.274808  "
      ]
     },
     "execution_count": 50,
     "metadata": {},
     "output_type": "execute_result"
    }
   ],
   "source": [
    "cp_metrics_df"
   ]
  },
  {
   "cell_type": "code",
   "execution_count": 51,
   "id": "b7fbde55-a0a1-47e4-9af6-fe4a17fa8c61",
   "metadata": {
    "execution": {
     "iopub.execute_input": "2025-08-05T15:47:08.944994Z",
     "iopub.status.busy": "2025-08-05T15:47:08.944200Z",
     "iopub.status.idle": "2025-08-05T15:47:08.952339Z",
     "shell.execute_reply": "2025-08-05T15:47:08.949377Z"
    },
    "papermill": {
     "duration": 0.03407,
     "end_time": "2025-08-05T15:47:08.954614",
     "exception": false,
     "start_time": "2025-08-05T15:47:08.920544",
     "status": "completed"
    },
    "tags": []
   },
   "outputs": [],
   "source": [
    "# Conditional Coverage & looking at subgroups"
   ]
  },
  {
   "cell_type": "code",
   "execution_count": 52,
   "id": "027ae886-68dd-4141-96c7-805a5450e1ef",
   "metadata": {
    "execution": {
     "iopub.execute_input": "2025-08-05T15:47:09.000590Z",
     "iopub.status.busy": "2025-08-05T15:47:08.999749Z",
     "iopub.status.idle": "2025-08-05T15:47:09.294788Z",
     "shell.execute_reply": "2025-08-05T15:47:09.293813Z"
    },
    "papermill": {
     "duration": 0.320655,
     "end_time": "2025-08-05T15:47:09.296641",
     "exception": false,
     "start_time": "2025-08-05T15:47:08.975986",
     "status": "completed"
    },
    "tags": []
   },
   "outputs": [],
   "source": [
    "from fairness_multiverse.conformal import build_cp_groups\n",
    "\n",
    "cp_groups_df = build_cp_groups(pred_sets, y_true, X_test.index, org_test)\n",
    "#needs universe_id and setting"
   ]
  },
  {
   "cell_type": "code",
   "execution_count": 53,
   "id": "6cbdab96-b2b2-45af-ad54-d0516db2e28d",
   "metadata": {
    "execution": {
     "iopub.execute_input": "2025-08-05T15:47:09.348765Z",
     "iopub.status.busy": "2025-08-05T15:47:09.348174Z",
     "iopub.status.idle": "2025-08-05T15:47:10.705767Z",
     "shell.execute_reply": "2025-08-05T15:47:10.704961Z"
    },
    "papermill": {
     "duration": 1.383728,
     "end_time": "2025-08-05T15:47:10.707204",
     "exception": false,
     "start_time": "2025-08-05T15:47:09.323476",
     "status": "completed"
    },
    "tags": []
   },
   "outputs": [],
   "source": [
    "# Define covered = 1 if true_label is in the predicted set\n",
    "cp_groups_df['covered'] = cp_groups_df.apply(\n",
    "    lambda r: int(r['true_label'] in r['pred_set']),\n",
    "    axis=1\n",
    ")"
   ]
  },
  {
   "cell_type": "code",
   "execution_count": 54,
   "id": "338ff529-1a6b-4b87-a931-8e4788d52aad",
   "metadata": {
    "execution": {
     "iopub.execute_input": "2025-08-05T15:47:10.731601Z",
     "iopub.status.busy": "2025-08-05T15:47:10.730842Z",
     "iopub.status.idle": "2025-08-05T15:47:10.735173Z",
     "shell.execute_reply": "2025-08-05T15:47:10.734404Z"
    },
    "papermill": {
     "duration": 0.017531,
     "end_time": "2025-08-05T15:47:10.736673",
     "exception": false,
     "start_time": "2025-08-05T15:47:10.719142",
     "status": "completed"
    },
    "tags": []
   },
   "outputs": [],
   "source": [
    "#cp_groups_df"
   ]
  },
  {
   "cell_type": "code",
   "execution_count": 55,
   "id": "90032e27-66df-4540-9169-4e89cfbaa758",
   "metadata": {
    "execution": {
     "iopub.execute_input": "2025-08-05T15:47:10.763340Z",
     "iopub.status.busy": "2025-08-05T15:47:10.762612Z",
     "iopub.status.idle": "2025-08-05T15:47:10.772633Z",
     "shell.execute_reply": "2025-08-05T15:47:10.771764Z"
    },
    "papermill": {
     "duration": 0.02539,
     "end_time": "2025-08-05T15:47:10.774136",
     "exception": false,
     "start_time": "2025-08-05T15:47:10.748746",
     "status": "completed"
    },
    "tags": []
   },
   "outputs": [],
   "source": [
    "subgroups = ['frau1','nongerman','nongerman_male','nongerman_female']\n",
    "\n",
    "# Conditional coverage for subgroup==1\n",
    "cond_coverage = {\n",
    "    g: cp_groups_df.loc[cp_groups_df[g]==1, 'covered'].mean()\n",
    "    for g in subgroups\n",
    "}"
   ]
  },
  {
   "cell_type": "code",
   "execution_count": 56,
   "id": "1e348fb1-b9c3-45bc-ba23-f016827a7e0d",
   "metadata": {
    "execution": {
     "iopub.execute_input": "2025-08-05T15:47:10.821340Z",
     "iopub.status.busy": "2025-08-05T15:47:10.820943Z",
     "iopub.status.idle": "2025-08-05T15:47:10.828196Z",
     "shell.execute_reply": "2025-08-05T15:47:10.827165Z"
    },
    "papermill": {
     "duration": 0.047492,
     "end_time": "2025-08-05T15:47:10.838743",
     "exception": false,
     "start_time": "2025-08-05T15:47:10.791251",
     "status": "completed"
    },
    "tags": []
   },
   "outputs": [
    {
     "data": {
      "text/plain": [
       "{'frau1': 0.9089095565440086,\n",
       " 'nongerman': 0.9639027676416101,\n",
       " 'nongerman_male': 0.9728902098531929,\n",
       " 'nongerman_female': 0.9490312965722801}"
      ]
     },
     "execution_count": 56,
     "metadata": {},
     "output_type": "execute_result"
    }
   ],
   "source": [
    "cond_coverage"
   ]
  },
  {
   "cell_type": "code",
   "execution_count": 57,
   "id": "f5093324-c3dd-4d63-bc4c-8d945e5c8bbb",
   "metadata": {
    "execution": {
     "iopub.execute_input": "2025-08-05T15:47:10.889996Z",
     "iopub.status.busy": "2025-08-05T15:47:10.889546Z",
     "iopub.status.idle": "2025-08-05T15:47:10.896959Z",
     "shell.execute_reply": "2025-08-05T15:47:10.895941Z"
    },
    "papermill": {
     "duration": 0.035211,
     "end_time": "2025-08-05T15:47:10.898903",
     "exception": false,
     "start_time": "2025-08-05T15:47:10.863692",
     "status": "completed"
    },
    "tags": []
   },
   "outputs": [],
   "source": [
    "for subgroup, cov in cond_coverage.items():\n",
    "    cp_metrics_df[f\"cov_{subgroup}\"] = cov"
   ]
  },
  {
   "cell_type": "code",
   "execution_count": 58,
   "id": "6e872e10-dbe5-49e8-b554-5030c98ff75d",
   "metadata": {
    "execution": {
     "iopub.execute_input": "2025-08-05T15:47:10.952528Z",
     "iopub.status.busy": "2025-08-05T15:47:10.951538Z",
     "iopub.status.idle": "2025-08-05T15:47:10.979771Z",
     "shell.execute_reply": "2025-08-05T15:47:10.978679Z"
    },
    "papermill": {
     "duration": 0.056785,
     "end_time": "2025-08-05T15:47:10.982020",
     "exception": false,
     "start_time": "2025-08-05T15:47:10.925235",
     "status": "completed"
    },
    "tags": []
   },
   "outputs": [
    {
     "data": {
      "text/html": [
       "<div>\n",
       "<style scoped>\n",
       "    .dataframe tbody tr th:only-of-type {\n",
       "        vertical-align: middle;\n",
       "    }\n",
       "\n",
       "    .dataframe tbody tr th {\n",
       "        vertical-align: top;\n",
       "    }\n",
       "\n",
       "    .dataframe thead th {\n",
       "        text-align: right;\n",
       "    }\n",
       "</style>\n",
       "<table border=\"1\" class=\"dataframe\">\n",
       "  <thead>\n",
       "    <tr style=\"text-align: right;\">\n",
       "      <th></th>\n",
       "      <th>universe_id</th>\n",
       "      <th>universe_training_year</th>\n",
       "      <th>universe_training_size</th>\n",
       "      <th>universe_scale</th>\n",
       "      <th>universe_model</th>\n",
       "      <th>universe_exclude_features</th>\n",
       "      <th>universe_exclude_subgroups</th>\n",
       "      <th>q_hat</th>\n",
       "      <th>coverage</th>\n",
       "      <th>avg_size</th>\n",
       "      <th>cov_frau1</th>\n",
       "      <th>cov_nongerman</th>\n",
       "      <th>cov_nongerman_male</th>\n",
       "      <th>cov_nongerman_female</th>\n",
       "    </tr>\n",
       "  </thead>\n",
       "  <tbody>\n",
       "    <tr>\n",
       "      <th>0</th>\n",
       "      <td>344156b130ace55d88a681c2ab38a70c</td>\n",
       "      <td>2012_14</td>\n",
       "      <td>5k</td>\n",
       "      <td>do-not-scale</td>\n",
       "      <td>elasticnet</td>\n",
       "      <td>nationality-sex</td>\n",
       "      <td>keep-all</td>\n",
       "      <td>0.678383</td>\n",
       "      <td>0.912808</td>\n",
       "      <td>1.274808</td>\n",
       "      <td>0.90891</td>\n",
       "      <td>0.963903</td>\n",
       "      <td>0.97289</td>\n",
       "      <td>0.949031</td>\n",
       "    </tr>\n",
       "  </tbody>\n",
       "</table>\n",
       "</div>"
      ],
      "text/plain": [
       "                        universe_id universe_training_year  \\\n",
       "0  344156b130ace55d88a681c2ab38a70c                2012_14   \n",
       "\n",
       "  universe_training_size universe_scale universe_model  \\\n",
       "0                     5k   do-not-scale     elasticnet   \n",
       "\n",
       "  universe_exclude_features universe_exclude_subgroups     q_hat  coverage  \\\n",
       "0           nationality-sex                   keep-all  0.678383  0.912808   \n",
       "\n",
       "   avg_size  cov_frau1  cov_nongerman  cov_nongerman_male  \\\n",
       "0  1.274808    0.90891       0.963903             0.97289   \n",
       "\n",
       "   cov_nongerman_female  \n",
       "0              0.949031  "
      ]
     },
     "execution_count": 58,
     "metadata": {},
     "output_type": "execute_result"
    }
   ],
   "source": [
    "cp_metrics_df"
   ]
  },
  {
   "cell_type": "markdown",
   "id": "33774451",
   "metadata": {
    "papermill": {
     "duration": 0.026269,
     "end_time": "2025-08-05T15:47:11.035881",
     "exception": false,
     "start_time": "2025-08-05T15:47:11.009612",
     "status": "completed"
    },
    "tags": []
   },
   "source": [
    "# (Fairness) Metrics"
   ]
  },
  {
   "cell_type": "code",
   "execution_count": 59,
   "id": "debc5d62",
   "metadata": {
    "execution": {
     "iopub.execute_input": "2025-08-05T15:47:11.091154Z",
     "iopub.status.busy": "2025-08-05T15:47:11.090144Z",
     "iopub.status.idle": "2025-08-05T15:47:11.111338Z",
     "shell.execute_reply": "2025-08-05T15:47:11.110361Z"
    },
    "papermill": {
     "duration": 0.050824,
     "end_time": "2025-08-05T15:47:11.113288",
     "exception": false,
     "start_time": "2025-08-05T15:47:11.062464",
     "status": "completed"
    },
    "tags": []
   },
   "outputs": [],
   "source": [
    "# do I need to include maxdeutsch1.missing?\n",
    "\n",
    "import numpy as np\n",
    "\n",
    "colname_to_bin = \"maxdeutsch1\"\n",
    "majority_value = org_train[colname_to_bin].mode()[0]\n",
    "\n",
    "org_test[\"majmin\"] = np.where(org_test[colname_to_bin] == majority_value, \"majority\", \"minority\")"
   ]
  },
  {
   "cell_type": "code",
   "execution_count": 60,
   "id": "06a50de5",
   "metadata": {
    "execution": {
     "iopub.execute_input": "2025-08-05T15:47:11.156738Z",
     "iopub.status.busy": "2025-08-05T15:47:11.156179Z",
     "iopub.status.idle": "2025-08-05T15:47:12.994831Z",
     "shell.execute_reply": "2025-08-05T15:47:12.993918Z"
    },
    "papermill": {
     "duration": 1.861963,
     "end_time": "2025-08-05T15:47:12.996460",
     "exception": false,
     "start_time": "2025-08-05T15:47:11.134497",
     "status": "completed"
    },
    "tags": []
   },
   "outputs": [],
   "source": [
    "example_universe = universe.copy()\n",
    "example_universe[\"cutoff\"] = example_universe[\"cutoff\"][0]\n",
    "example_universe[\"eval_fairness_grouping\"] = example_universe[\"eval_fairness_grouping\"][0]\n",
    "fairness_dict, metric_frame = universe_analysis.compute_metrics(\n",
    "    example_universe,\n",
    "    y_pred_prob=probs_test,\n",
    "    y_test=y_true,\n",
    "    org_test=org_test,\n",
    ")"
   ]
  },
  {
   "cell_type": "markdown",
   "id": "f95d4e02",
   "metadata": {
    "papermill": {
     "duration": 0.012784,
     "end_time": "2025-08-05T15:47:13.022187",
     "exception": false,
     "start_time": "2025-08-05T15:47:13.009403",
     "status": "completed"
    },
    "tags": []
   },
   "source": [
    "# Overall"
   ]
  },
  {
   "cell_type": "markdown",
   "id": "bdee4871",
   "metadata": {
    "papermill": {
     "duration": 0.019015,
     "end_time": "2025-08-05T15:47:13.066393",
     "exception": false,
     "start_time": "2025-08-05T15:47:13.047378",
     "status": "completed"
    },
    "tags": []
   },
   "source": [
    "Fairness\n",
    "Main fairness target: Equalized Odds. Seems to be a better fit than equal opportunity, since we're not only interested in Y = 1. Seems to be a better fit than demographic parity, since we also care about accuracy, not just equal distribution of preds.\n",
    "\n",
    "Pick column for computation of fairness metrics\n",
    "\n",
    "Performance\n",
    "Overall performance measures, most interesting in relation to the measures split by group below"
   ]
  },
  {
   "cell_type": "code",
   "execution_count": 61,
   "id": "c4e067c6",
   "metadata": {
    "execution": {
     "iopub.execute_input": "2025-08-05T15:47:13.097060Z",
     "iopub.status.busy": "2025-08-05T15:47:13.096592Z",
     "iopub.status.idle": "2025-08-05T15:47:13.105781Z",
     "shell.execute_reply": "2025-08-05T15:47:13.104808Z"
    },
    "papermill": {
     "duration": 0.028941,
     "end_time": "2025-08-05T15:47:13.107988",
     "exception": false,
     "start_time": "2025-08-05T15:47:13.079047",
     "status": "completed"
    },
    "tags": []
   },
   "outputs": [
    {
     "data": {
      "text/plain": [
       "accuracy                   0.214391\n",
       "balanced accuracy          0.526306\n",
       "f1                         0.235997\n",
       "precision                  0.134817\n",
       "false positive rate        0.893251\n",
       "false negative rate        0.054136\n",
       "selection rate             0.900000\n",
       "count                  89710.000000\n",
       "dtype: float64"
      ]
     },
     "execution_count": 61,
     "metadata": {},
     "output_type": "execute_result"
    }
   ],
   "source": [
    "metric_frame.overall"
   ]
  },
  {
   "cell_type": "markdown",
   "id": "e968fe9d",
   "metadata": {
    "papermill": {
     "duration": 0.026326,
     "end_time": "2025-08-05T15:47:13.169197",
     "exception": false,
     "start_time": "2025-08-05T15:47:13.142871",
     "status": "completed"
    },
    "tags": []
   },
   "source": [
    "By Group"
   ]
  },
  {
   "cell_type": "code",
   "execution_count": 62,
   "id": "ec325bce",
   "metadata": {
    "execution": {
     "iopub.execute_input": "2025-08-05T15:47:13.221345Z",
     "iopub.status.busy": "2025-08-05T15:47:13.220466Z",
     "iopub.status.idle": "2025-08-05T15:47:13.238629Z",
     "shell.execute_reply": "2025-08-05T15:47:13.237282Z"
    },
    "papermill": {
     "duration": 0.047251,
     "end_time": "2025-08-05T15:47:13.240466",
     "exception": false,
     "start_time": "2025-08-05T15:47:13.193215",
     "status": "completed"
    },
    "tags": []
   },
   "outputs": [
    {
     "data": {
      "text/html": [
       "<div>\n",
       "<style scoped>\n",
       "    .dataframe tbody tr th:only-of-type {\n",
       "        vertical-align: middle;\n",
       "    }\n",
       "\n",
       "    .dataframe tbody tr th {\n",
       "        vertical-align: top;\n",
       "    }\n",
       "\n",
       "    .dataframe thead th {\n",
       "        text-align: right;\n",
       "    }\n",
       "</style>\n",
       "<table border=\"1\" class=\"dataframe\">\n",
       "  <thead>\n",
       "    <tr style=\"text-align: right;\">\n",
       "      <th></th>\n",
       "      <th>accuracy</th>\n",
       "      <th>balanced accuracy</th>\n",
       "      <th>f1</th>\n",
       "      <th>precision</th>\n",
       "      <th>false positive rate</th>\n",
       "      <th>false negative rate</th>\n",
       "      <th>selection rate</th>\n",
       "      <th>count</th>\n",
       "    </tr>\n",
       "    <tr>\n",
       "      <th>majmin</th>\n",
       "      <th></th>\n",
       "      <th></th>\n",
       "      <th></th>\n",
       "      <th></th>\n",
       "      <th></th>\n",
       "      <th></th>\n",
       "      <th></th>\n",
       "      <th></th>\n",
       "    </tr>\n",
       "  </thead>\n",
       "  <tbody>\n",
       "    <tr>\n",
       "      <th>majority</th>\n",
       "      <td>0.235145</td>\n",
       "      <td>0.533375</td>\n",
       "      <td>0.244915</td>\n",
       "      <td>0.140829</td>\n",
       "      <td>0.871981</td>\n",
       "      <td>0.061269</td>\n",
       "      <td>0.880801</td>\n",
       "      <td>69170.0</td>\n",
       "    </tr>\n",
       "    <tr>\n",
       "      <th>minority</th>\n",
       "      <td>0.144499</td>\n",
       "      <td>0.504940</td>\n",
       "      <td>0.207826</td>\n",
       "      <td>0.116332</td>\n",
       "      <td>0.963515</td>\n",
       "      <td>0.026605</td>\n",
       "      <td>0.964654</td>\n",
       "      <td>20540.0</td>\n",
       "    </tr>\n",
       "  </tbody>\n",
       "</table>\n",
       "</div>"
      ],
      "text/plain": [
       "          accuracy  balanced accuracy        f1  precision  \\\n",
       "majmin                                                       \n",
       "majority  0.235145           0.533375  0.244915   0.140829   \n",
       "minority  0.144499           0.504940  0.207826   0.116332   \n",
       "\n",
       "          false positive rate  false negative rate  selection rate    count  \n",
       "majmin                                                                       \n",
       "majority             0.871981             0.061269        0.880801  69170.0  \n",
       "minority             0.963515             0.026605        0.964654  20540.0  "
      ]
     },
     "execution_count": 62,
     "metadata": {},
     "output_type": "execute_result"
    }
   ],
   "source": [
    "metric_frame.by_group"
   ]
  },
  {
   "cell_type": "code",
   "execution_count": 63,
   "id": "a9ddbe63",
   "metadata": {
    "execution": {
     "iopub.execute_input": "2025-08-05T15:47:13.296669Z",
     "iopub.status.busy": "2025-08-05T15:47:13.295919Z",
     "iopub.status.idle": "2025-08-05T15:47:15.418947Z",
     "shell.execute_reply": "2025-08-05T15:47:15.418213Z"
    },
    "papermill": {
     "duration": 2.152,
     "end_time": "2025-08-05T15:47:15.420285",
     "exception": false,
     "start_time": "2025-08-05T15:47:13.268285",
     "status": "completed"
    },
    "tags": []
   },
   "outputs": [
    {
     "data": {
      "text/plain": [
       "array([[<Axes: title={'center': 'accuracy'}, xlabel='majmin'>,\n",
       "        <Axes: title={'center': 'balanced accuracy'}, xlabel='majmin'>,\n",
       "        <Axes: title={'center': 'f1'}, xlabel='majmin'>],\n",
       "       [<Axes: title={'center': 'precision'}, xlabel='majmin'>,\n",
       "        <Axes: title={'center': 'false positive rate'}, xlabel='majmin'>,\n",
       "        <Axes: title={'center': 'false negative rate'}, xlabel='majmin'>],\n",
       "       [<Axes: title={'center': 'selection rate'}, xlabel='majmin'>,\n",
       "        <Axes: title={'center': 'count'}, xlabel='majmin'>,\n",
       "        <Axes: xlabel='majmin'>]], dtype=object)"
      ]
     },
     "execution_count": 63,
     "metadata": {},
     "output_type": "execute_result"
    },
    {
     "data": {
      "image/png": "[encoded data removed]",
      "text/plain": [
       "<Figure size 1200x800 with 9 Axes>"
      ]
     },
     "metadata": {},
     "output_type": "display_data"
    }
   ],
   "source": [
    "# In a graphic\n",
    "metric_frame.by_group.plot.bar(\n",
    "    subplots=True,\n",
    "    layout=[3, 3],\n",
    "    legend=False,\n",
    "    figsize=[12, 8],\n",
    "    title=\"Show all metrics\",\n",
    ")"
   ]
  },
  {
   "cell_type": "markdown",
   "id": "f57a0bac",
   "metadata": {
    "papermill": {
     "duration": 0.01606,
     "end_time": "2025-08-05T15:47:15.450050",
     "exception": false,
     "start_time": "2025-08-05T15:47:15.433990",
     "status": "completed"
    },
    "tags": []
   },
   "source": [
    "# Final Output"
   ]
  },
  {
   "cell_type": "code",
   "execution_count": 64,
   "id": "96d280a3",
   "metadata": {
    "execution": {
     "iopub.execute_input": "2025-08-05T15:47:15.477955Z",
     "iopub.status.busy": "2025-08-05T15:47:15.477057Z",
     "iopub.status.idle": "2025-08-05T15:47:15.484472Z",
     "shell.execute_reply": "2025-08-05T15:47:15.483693Z"
    },
    "papermill": {
     "duration": 0.021954,
     "end_time": "2025-08-05T15:47:15.485742",
     "exception": false,
     "start_time": "2025-08-05T15:47:15.463788",
     "status": "completed"
    },
    "tags": []
   },
   "outputs": [
    {
     "data": {
      "text/plain": [
       "4"
      ]
     },
     "execution_count": 64,
     "metadata": {},
     "output_type": "execute_result"
    }
   ],
   "source": [
    "sub_universes = universe_analysis.generate_sub_universes()\n",
    "len(sub_universes)"
   ]
  },
  {
   "cell_type": "code",
   "execution_count": 65,
   "id": "92adf7ba",
   "metadata": {
    "execution": {
     "iopub.execute_input": "2025-08-05T15:47:15.523482Z",
     "iopub.status.busy": "2025-08-05T15:47:15.523100Z",
     "iopub.status.idle": "2025-08-05T15:47:15.528376Z",
     "shell.execute_reply": "2025-08-05T15:47:15.527511Z"
    },
    "papermill": {
     "duration": 0.024441,
     "end_time": "2025-08-05T15:47:15.529842",
     "exception": false,
     "start_time": "2025-08-05T15:47:15.505401",
     "status": "completed"
    },
    "tags": []
   },
   "outputs": [],
   "source": [
    "def filter_sub_universe_data(sub_universe, org_test):\n",
    "    # Keep all rows — no filtering\n",
    "    keep_rows_mask = np.ones(org_test.shape[0], dtype=bool)\n",
    "\n",
    "    print(f\"[INFO] Keeping all rows: {keep_rows_mask.sum()} rows retained.\")\n",
    "    return keep_rows_mask"
   ]
  },
  {
   "cell_type": "code",
   "execution_count": 66,
   "id": "4a759155",
   "metadata": {
    "execution": {
     "iopub.execute_input": "2025-08-05T15:47:15.560939Z",
     "iopub.status.busy": "2025-08-05T15:47:15.560124Z",
     "iopub.status.idle": "2025-08-05T15:47:22.292009Z",
     "shell.execute_reply": "2025-08-05T15:47:22.291267Z"
    },
    "papermill": {
     "duration": 6.749307,
     "end_time": "2025-08-05T15:47:22.293290",
     "exception": false,
     "start_time": "2025-08-05T15:47:15.543983",
     "status": "completed"
    },
    "tags": []
   },
   "outputs": [
    {
     "name": "stdout",
     "output_type": "stream",
     "text": [
      "Stopping execution_time clock.\n",
      "[INFO] Keeping all rows: 89710 rows retained.\n"
     ]
    },
    {
     "name": "stdout",
     "output_type": "stream",
     "text": [
      "[INFO] Keeping all rows: 89710 rows retained.\n"
     ]
    },
    {
     "name": "stdout",
     "output_type": "stream",
     "text": [
      "[INFO] Keeping all rows: 89710 rows retained.\n"
     ]
    },
    {
     "name": "stdout",
     "output_type": "stream",
     "text": [
      "[INFO] Keeping all rows: 89710 rows retained.\n"
     ]
    },
    {
     "data": {
      "text/html": [
       "<div>\n",
       "<style scoped>\n",
       "    .dataframe tbody tr th:only-of-type {\n",
       "        vertical-align: middle;\n",
       "    }\n",
       "\n",
       "    .dataframe tbody tr th {\n",
       "        vertical-align: top;\n",
       "    }\n",
       "\n",
       "    .dataframe thead th {\n",
       "        text-align: right;\n",
       "    }\n",
       "</style>\n",
       "<table border=\"1\" class=\"dataframe\">\n",
       "  <thead>\n",
       "    <tr style=\"text-align: right;\">\n",
       "      <th></th>\n",
       "      <th>run_no</th>\n",
       "      <th>universe_id</th>\n",
       "      <th>universe_settings</th>\n",
       "      <th>execution_time</th>\n",
       "      <th>test_size_n</th>\n",
       "      <th>test_size_frac</th>\n",
       "      <th>fair_main_equalized_odds_difference</th>\n",
       "      <th>fair_main_equalized_odds_ratio</th>\n",
       "      <th>fair_main_demographic_parity_difference</th>\n",
       "      <th>fair_main_demographic_parity_ratio</th>\n",
       "      <th>...</th>\n",
       "      <th>perf_grp_precision_0</th>\n",
       "      <th>perf_grp_precision_1</th>\n",
       "      <th>perf_grp_false positive rate_0</th>\n",
       "      <th>perf_grp_false positive rate_1</th>\n",
       "      <th>perf_grp_false negative rate_0</th>\n",
       "      <th>perf_grp_false negative rate_1</th>\n",
       "      <th>perf_grp_selection rate_0</th>\n",
       "      <th>perf_grp_selection rate_1</th>\n",
       "      <th>perf_grp_count_0</th>\n",
       "      <th>perf_grp_count_1</th>\n",
       "    </tr>\n",
       "  </thead>\n",
       "  <tbody>\n",
       "    <tr>\n",
       "      <th>0</th>\n",
       "      <td>15</td>\n",
       "      <td>344156b130ace55d88a681c2ab38a70c</td>\n",
       "      <td>{\"cutoff\": \"quantile_0.1\", \"eval_fairness_grou...</td>\n",
       "      <td>24.257665</td>\n",
       "      <td>89710</td>\n",
       "      <td>1.0</td>\n",
       "      <td>0.091535</td>\n",
       "      <td>0.904999</td>\n",
       "      <td>0.083853</td>\n",
       "      <td>0.913074</td>\n",
       "      <td>...</td>\n",
       "      <td>NaN</td>\n",
       "      <td>NaN</td>\n",
       "      <td>NaN</td>\n",
       "      <td>NaN</td>\n",
       "      <td>NaN</td>\n",
       "      <td>NaN</td>\n",
       "      <td>NaN</td>\n",
       "      <td>NaN</td>\n",
       "      <td>NaN</td>\n",
       "      <td>NaN</td>\n",
       "    </tr>\n",
       "    <tr>\n",
       "      <th>0</th>\n",
       "      <td>15</td>\n",
       "      <td>344156b130ace55d88a681c2ab38a70c</td>\n",
       "      <td>{\"cutoff\": \"quantile_0.1\", \"eval_fairness_grou...</td>\n",
       "      <td>24.257665</td>\n",
       "      <td>89710</td>\n",
       "      <td>1.0</td>\n",
       "      <td>0.091535</td>\n",
       "      <td>0.904999</td>\n",
       "      <td>0.083853</td>\n",
       "      <td>0.913074</td>\n",
       "      <td>...</td>\n",
       "      <td>0.116332</td>\n",
       "      <td>0.140829</td>\n",
       "      <td>0.963515</td>\n",
       "      <td>0.871981</td>\n",
       "      <td>0.026605</td>\n",
       "      <td>0.061269</td>\n",
       "      <td>0.964654</td>\n",
       "      <td>0.880801</td>\n",
       "      <td>20540.0</td>\n",
       "      <td>69170.0</td>\n",
       "    </tr>\n",
       "    <tr>\n",
       "      <th>0</th>\n",
       "      <td>15</td>\n",
       "      <td>344156b130ace55d88a681c2ab38a70c</td>\n",
       "      <td>{\"cutoff\": \"quantile_0.25\", \"eval_fairness_gro...</td>\n",
       "      <td>24.257665</td>\n",
       "      <td>89710</td>\n",
       "      <td>1.0</td>\n",
       "      <td>0.221351</td>\n",
       "      <td>0.755879</td>\n",
       "      <td>0.207178</td>\n",
       "      <td>0.772266</td>\n",
       "      <td>...</td>\n",
       "      <td>NaN</td>\n",
       "      <td>NaN</td>\n",
       "      <td>NaN</td>\n",
       "      <td>NaN</td>\n",
       "      <td>NaN</td>\n",
       "      <td>NaN</td>\n",
       "      <td>NaN</td>\n",
       "      <td>NaN</td>\n",
       "      <td>NaN</td>\n",
       "      <td>NaN</td>\n",
       "    </tr>\n",
       "    <tr>\n",
       "      <th>0</th>\n",
       "      <td>15</td>\n",
       "      <td>344156b130ace55d88a681c2ab38a70c</td>\n",
       "      <td>{\"cutoff\": \"quantile_0.25\", \"eval_fairness_gro...</td>\n",
       "      <td>24.257665</td>\n",
       "      <td>89710</td>\n",
       "      <td>1.0</td>\n",
       "      <td>0.221351</td>\n",
       "      <td>0.755879</td>\n",
       "      <td>0.207178</td>\n",
       "      <td>0.772266</td>\n",
       "      <td>...</td>\n",
       "      <td>0.118217</td>\n",
       "      <td>0.153367</td>\n",
       "      <td>0.906725</td>\n",
       "      <td>0.685374</td>\n",
       "      <td>0.067145</td>\n",
       "      <td>0.184573</td>\n",
       "      <td>0.909737</td>\n",
       "      <td>0.702559</td>\n",
       "      <td>20540.0</td>\n",
       "      <td>69170.0</td>\n",
       "    </tr>\n",
       "  </tbody>\n",
       "</table>\n",
       "<p>4 rows × 50 columns</p>\n",
       "</div>"
      ],
      "text/plain": [
       "  run_no                       universe_id  \\\n",
       "0     15  344156b130ace55d88a681c2ab38a70c   \n",
       "0     15  344156b130ace55d88a681c2ab38a70c   \n",
       "0     15  344156b130ace55d88a681c2ab38a70c   \n",
       "0     15  344156b130ace55d88a681c2ab38a70c   \n",
       "\n",
       "                                   universe_settings  execution_time  \\\n",
       "0  {\"cutoff\": \"quantile_0.1\", \"eval_fairness_grou...       24.257665   \n",
       "0  {\"cutoff\": \"quantile_0.1\", \"eval_fairness_grou...       24.257665   \n",
       "0  {\"cutoff\": \"quantile_0.25\", \"eval_fairness_gro...       24.257665   \n",
       "0  {\"cutoff\": \"quantile_0.25\", \"eval_fairness_gro...       24.257665   \n",
       "\n",
       "   test_size_n  test_size_frac  fair_main_equalized_odds_difference  \\\n",
       "0        89710             1.0                             0.091535   \n",
       "0        89710             1.0                             0.091535   \n",
       "0        89710             1.0                             0.221351   \n",
       "0        89710             1.0                             0.221351   \n",
       "\n",
       "   fair_main_equalized_odds_ratio  fair_main_demographic_parity_difference  \\\n",
       "0                        0.904999                                 0.083853   \n",
       "0                        0.904999                                 0.083853   \n",
       "0                        0.755879                                 0.207178   \n",
       "0                        0.755879                                 0.207178   \n",
       "\n",
       "   fair_main_demographic_parity_ratio  ...  perf_grp_precision_0  \\\n",
       "0                            0.913074  ...                   NaN   \n",
       "0                            0.913074  ...              0.116332   \n",
       "0                            0.772266  ...                   NaN   \n",
       "0                            0.772266  ...              0.118217   \n",
       "\n",
       "   perf_grp_precision_1  perf_grp_false positive rate_0  \\\n",
       "0                   NaN                             NaN   \n",
       "0              0.140829                        0.963515   \n",
       "0                   NaN                             NaN   \n",
       "0              0.153367                        0.906725   \n",
       "\n",
       "   perf_grp_false positive rate_1  perf_grp_false negative rate_0  \\\n",
       "0                             NaN                             NaN   \n",
       "0                        0.871981                        0.026605   \n",
       "0                             NaN                             NaN   \n",
       "0                        0.685374                        0.067145   \n",
       "\n",
       "   perf_grp_false negative rate_1  perf_grp_selection rate_0  \\\n",
       "0                             NaN                        NaN   \n",
       "0                        0.061269                   0.964654   \n",
       "0                             NaN                        NaN   \n",
       "0                        0.184573                   0.909737   \n",
       "\n",
       "   perf_grp_selection rate_1  perf_grp_count_0  perf_grp_count_1  \n",
       "0                        NaN               NaN               NaN  \n",
       "0                   0.880801           20540.0           69170.0  \n",
       "0                        NaN               NaN               NaN  \n",
       "0                   0.702559           20540.0           69170.0  \n",
       "\n",
       "[4 rows x 50 columns]"
      ]
     },
     "execution_count": 66,
     "metadata": {},
     "output_type": "execute_result"
    }
   ],
   "source": [
    "final_output = universe_analysis.generate_final_output(\n",
    "    y_pred_prob=probs_test,\n",
    "    y_test=y_true,\n",
    "    org_test=org_test,\n",
    "    filter_data=filter_sub_universe_data,\n",
    "    cp_metrics_df=cp_metrics_df,\n",
    "    save=True,\n",
    ")\n",
    "final_output"
   ]
  }
 ],
 "metadata": {
  "celltoolbar": "Tags",
  "kernelspec": {
   "display_name": "Python (CMA Fairness)",
   "language": "python",
   "name": "cma_fair_env"
  },
  "language_info": {
   "codemirror_mode": {
    "name": "ipython",
    "version": 3
   },
   "file_extension": ".py",
   "mimetype": "text/x-python",
   "name": "python",
   "nbconvert_exporter": "python",
   "pygments_lexer": "ipython3",
   "version": "3.10.12"
  },
  "papermill": {
   "default_parameters": {},
   "duration": 35.064278,
   "end_time": "2025-08-05T15:47:23.028558",
   "environment_variables": {},
   "exception": null,
   "input_path": "universe_analysis.ipynb",
   "output_path": "output/runs/15/notebooks/m_15-344156b130ace55d88a681c2ab38a70c.ipynb",
   "parameters": {
    "output_dir": "output",
    "run_no": "15",
    "seed": "2023",
    "universe": "{\"cutoff\": [\"quantile_0.1\", \"quantile_0.25\"], \"eval_fairness_grouping\": [\"majority-minority\", \"nationality-all\"], \"exclude_features\": \"nationality-sex\", \"exclude_subgroups\": \"keep-all\", \"model\": \"elasticnet\", \"scale\": \"do-not-scale\", \"training_size\": \"5k\", \"training_year\": \"2012_14\"}",
    "universe_id": "344156b130ace55d88a681c2ab38a70c"
   },
   "start_time": "2025-08-05T15:46:47.964280",
   "version": "2.6.0"
  }
 },
 "nbformat": 4,
 "nbformat_minor": 5
}