{
 "cells": [
  {
   "cell_type": "code",
   "execution_count": 1,
   "id": "f159f837-637b-42ba-96b5-ec9a68c44524",
   "metadata": {
    "execution": {
     "iopub.execute_input": "2025-08-05T16:33:55.640493Z",
     "iopub.status.busy": "2025-08-05T16:33:55.639763Z",
     "iopub.status.idle": "2025-08-05T16:33:55.659162Z",
     "shell.execute_reply": "2025-08-05T16:33:55.657848Z"
    },
    "papermill": {
     "duration": 0.051322,
     "end_time": "2025-08-05T16:33:55.661410",
     "exception": false,
     "start_time": "2025-08-05T16:33:55.610088",
     "status": "completed"
    },
    "tags": []
   },
   "outputs": [
    {
     "name": "stdout",
     "output_type": "stream",
     "text": [
      "/dss/dsshome1/0C/ra93lal2/cma/CMA_Fairness_v2\n"
     ]
    },
    {
     "name": "stderr",
     "output_type": "stream",
     "text": [
      "/dss/dsshome1/0C/ra93lal2/.local/share/virtualenvs/CMA_Fairness_v2-3j10GkSs/lib/python3.10/site-packages/IPython/core/magics/osm.py:393: UserWarning: This is now an optional IPython functionality, using bookmarks requires you to install the `pickleshare` library.\n",
      "  bkms = self.shell.db.get('bookmarks', {})\n",
      "/dss/dsshome1/0C/ra93lal2/.local/share/virtualenvs/CMA_Fairness_v2-3j10GkSs/lib/python3.10/site-packages/IPython/core/magics/osm.py:417: UserWarning: This is now an optional IPython functionality, setting dhist requires you to install the `pickleshare` library.\n",
      "  self.shell.db['dhist'] = compress_dhist(dhist)[-100:]\n"
     ]
    }
   ],
   "source": [
    "%cd ~/cma/CMA_Fairness_v2"
   ]
  },
  {
   "cell_type": "markdown",
   "id": "de2603b9",
   "metadata": {
    "papermill": {
     "duration": 0.02992,
     "end_time": "2025-08-05T16:33:55.718466",
     "exception": false,
     "start_time": "2025-08-05T16:33:55.688546",
     "status": "completed"
    },
    "tags": []
   },
   "source": [
    "The following cell holds the definition of our parameters, these values can be overriden by rendering the with e.g. the following command:\n",
    "\n",
    "papermill -p alpha 0.2 -p ratio 0.3 universe_analysis.ipynb output/test_run.ipynb"
   ]
  },
  {
   "cell_type": "code",
   "execution_count": 2,
   "id": "a80968a0-40bb-4fa9-85ef-2d5eefb01975",
   "metadata": {
    "execution": {
     "iopub.execute_input": "2025-08-05T16:33:55.772304Z",
     "iopub.status.busy": "2025-08-05T16:33:55.771422Z",
     "iopub.status.idle": "2025-08-05T16:33:55.778267Z",
     "shell.execute_reply": "2025-08-05T16:33:55.777096Z"
    },
    "papermill": {
     "duration": 0.037862,
     "end_time": "2025-08-05T16:33:55.780070",
     "exception": false,
     "start_time": "2025-08-05T16:33:55.742208",
     "status": "completed"
    },
    "tags": []
   },
   "outputs": [
    {
     "name": "stdout",
     "output_type": "stream",
     "text": [
      "Current working directory: /dss/dsshome1/0C/ra93lal2/cma/CMA_Fairness_v2\n"
     ]
    }
   ],
   "source": [
    "import os\n",
    "print(\"Current working directory:\", os.getcwd())"
   ]
  },
  {
   "cell_type": "code",
   "execution_count": 3,
   "id": "2dce4c03",
   "metadata": {
    "execution": {
     "iopub.execute_input": "2025-08-05T16:33:55.825876Z",
     "iopub.status.busy": "2025-08-05T16:33:55.824666Z",
     "iopub.status.idle": "2025-08-05T16:33:55.832756Z",
     "shell.execute_reply": "2025-08-05T16:33:55.831675Z"
    },
    "papermill": {
     "duration": 0.033351,
     "end_time": "2025-08-05T16:33:55.834718",
     "exception": false,
     "start_time": "2025-08-05T16:33:55.801367",
     "status": "completed"
    },
    "tags": [
     "parameters"
    ]
   },
   "outputs": [],
   "source": [
    "run_no = 0\n",
    "universe_id = \"test\"\n",
    "universe = {\n",
    "    \"training_size\": \"25k\", # \"25k\", \"5k\", \"1k\"\n",
    "    \"training_year\": \"2014\", # \"2014\", \"2012_14\", \"2010_14\"\n",
    "    \"scale\": \"scale\", # \"scale\", \"do-not-scale\",\n",
    "    \"model\": \"elasticnet\", # \"logreg\", \"penalized_logreg\", \"rf\", \"gbm\", \"elasticnet\"\n",
    "    \"cutoff\": [\"quantile_0.15\", \"quantile_0.30\"],\n",
    "    \"exclude_features\": \"age\", # \"none\", \"nationality\", \"sex\", \"nationality-sex\", \"age\"\n",
    "    \"exclude_subgroups\": \"keep-all\", # \"keep-all\", \"drop-non-german\"\n",
    "    \"eval_fairness_grouping\": [\"majority-minority\", \"nationality-all\"]\n",
    "}\n",
    "\n",
    "output_dir=\"./output\"\n",
    "seed=0"
   ]
  },
  {
   "cell_type": "code",
   "execution_count": 4,
   "id": "d345c382",
   "metadata": {
    "execution": {
     "iopub.execute_input": "2025-08-05T16:33:55.862330Z",
     "iopub.status.busy": "2025-08-05T16:33:55.861867Z",
     "iopub.status.idle": "2025-08-05T16:33:55.868076Z",
     "shell.execute_reply": "2025-08-05T16:33:55.867112Z"
    },
    "papermill": {
     "duration": 0.020309,
     "end_time": "2025-08-05T16:33:55.869729",
     "exception": false,
     "start_time": "2025-08-05T16:33:55.849420",
     "status": "completed"
    },
    "tags": [
     "injected-parameters"
    ]
   },
   "outputs": [],
   "source": [
    "# Parameters\n",
    "universe_id = \"3801de5e81fd93924dffc1115d61a0cd\"\n",
    "run_no = \"15\"\n",
    "universe = \"{\\\"cutoff\\\": [\\\"quantile_0.1\\\", \\\"quantile_0.25\\\"], \\\"eval_fairness_grouping\\\": [\\\"majority-minority\\\", \\\"nationality-all\\\"], \\\"exclude_features\\\": \\\"none\\\", \\\"exclude_subgroups\\\": \\\"drop-non-german\\\", \\\"model\\\": \\\"rf\\\", \\\"scale\\\": \\\"scale\\\", \\\"training_size\\\": \\\"1k\\\", \\\"training_year\\\": \\\"2010_14\\\"}\"\n",
    "output_dir = \"output\"\n",
    "seed = \"2023\"\n"
   ]
  },
  {
   "cell_type": "code",
   "execution_count": 5,
   "id": "1650acaf",
   "metadata": {
    "execution": {
     "iopub.execute_input": "2025-08-05T16:33:55.893857Z",
     "iopub.status.busy": "2025-08-05T16:33:55.893357Z",
     "iopub.status.idle": "2025-08-05T16:33:55.897996Z",
     "shell.execute_reply": "2025-08-05T16:33:55.897071Z"
    },
    "papermill": {
     "duration": 0.018429,
     "end_time": "2025-08-05T16:33:55.899531",
     "exception": false,
     "start_time": "2025-08-05T16:33:55.881102",
     "status": "completed"
    },
    "tags": []
   },
   "outputs": [],
   "source": [
    "import json\n",
    "if isinstance(universe, str):\n",
    "    universe = json.loads(universe)"
   ]
  },
  {
   "cell_type": "code",
   "execution_count": 6,
   "id": "16620c48",
   "metadata": {
    "execution": {
     "iopub.execute_input": "2025-08-05T16:33:55.924344Z",
     "iopub.status.busy": "2025-08-05T16:33:55.923367Z",
     "iopub.status.idle": "2025-08-05T16:33:55.958610Z",
     "shell.execute_reply": "2025-08-05T16:33:55.957736Z"
    },
    "papermill": {
     "duration": 0.049218,
     "end_time": "2025-08-05T16:33:55.960270",
     "exception": false,
     "start_time": "2025-08-05T16:33:55.911052",
     "status": "completed"
    },
    "tags": []
   },
   "outputs": [],
   "source": [
    "# Auto-reload the custom package\n",
    "%load_ext autoreload\n",
    "%autoreload 1\n",
    "%aimport fairness_multiverse"
   ]
  },
  {
   "cell_type": "code",
   "execution_count": 7,
   "id": "01c5c9f3",
   "metadata": {
    "execution": {
     "iopub.execute_input": "2025-08-05T16:33:55.985035Z",
     "iopub.status.busy": "2025-08-05T16:33:55.984206Z",
     "iopub.status.idle": "2025-08-05T16:33:58.461438Z",
     "shell.execute_reply": "2025-08-05T16:33:58.459991Z"
    },
    "papermill": {
     "duration": 2.492727,
     "end_time": "2025-08-05T16:33:58.464257",
     "exception": false,
     "start_time": "2025-08-05T16:33:55.971530",
     "status": "completed"
    },
    "tags": []
   },
   "outputs": [],
   "source": [
    "from fairness_multiverse.universe import UniverseAnalysis\n",
    "\n",
    "universe_analysis = UniverseAnalysis(\n",
    "    run_no = run_no,\n",
    "    universe_id = universe_id,\n",
    "    universe = universe,\n",
    "    output_dir=output_dir,\n",
    ")"
   ]
  },
  {
   "cell_type": "code",
   "execution_count": 8,
   "id": "106241f5",
   "metadata": {
    "execution": {
     "iopub.execute_input": "2025-08-05T16:33:58.527206Z",
     "iopub.status.busy": "2025-08-05T16:33:58.526257Z",
     "iopub.status.idle": "2025-08-05T16:33:58.532978Z",
     "shell.execute_reply": "2025-08-05T16:33:58.532022Z"
    },
    "papermill": {
     "duration": 0.037848,
     "end_time": "2025-08-05T16:33:58.534522",
     "exception": false,
     "start_time": "2025-08-05T16:33:58.496674",
     "status": "completed"
    },
    "tags": []
   },
   "outputs": [
    {
     "name": "stdout",
     "output_type": "stream",
     "text": [
      "Using Seed: 2023\n"
     ]
    }
   ],
   "source": [
    "import numpy as np\n",
    "parsed_seed = int(seed)\n",
    "np.random.seed(parsed_seed)\n",
    "print(f\"Using Seed: {parsed_seed}\")"
   ]
  },
  {
   "cell_type": "markdown",
   "id": "e0ebdc57",
   "metadata": {
    "papermill": {
     "duration": 0.010655,
     "end_time": "2025-08-05T16:33:58.556497",
     "exception": false,
     "start_time": "2025-08-05T16:33:58.545842",
     "status": "completed"
    },
    "tags": []
   },
   "source": [
    "# Loading Data"
   ]
  },
  {
   "cell_type": "code",
   "execution_count": 9,
   "id": "f0496b8a",
   "metadata": {
    "execution": {
     "iopub.execute_input": "2025-08-05T16:33:58.606016Z",
     "iopub.status.busy": "2025-08-05T16:33:58.605075Z",
     "iopub.status.idle": "2025-08-05T16:34:14.104948Z",
     "shell.execute_reply": "2025-08-05T16:34:14.103746Z"
    },
    "papermill": {
     "duration": 15.533487,
     "end_time": "2025-08-05T16:34:14.106639",
     "exception": false,
     "start_time": "2025-08-05T16:33:58.573152",
     "status": "completed"
    },
    "tags": []
   },
   "outputs": [
    {
     "name": "stdout",
     "output_type": "stream",
     "text": [
      "Loading SIAB data from cache: data/siab_cached.csv.gz\n"
     ]
    },
    {
     "name": "stdout",
     "output_type": "stream",
     "text": [
      "(643690, 164)\n"
     ]
    }
   ],
   "source": [
    "from pathlib import Path\n",
    "import pandas as pd\n",
    "\n",
    "# File paths\n",
    "raw_file = Path(\"data/raw/siab.csv\")\n",
    "cache_file = Path(\"data/siab_cached.csv.gz\")\n",
    "\n",
    "# Ensure cache directory exists\n",
    "cache_file.parent.mkdir(parents=True, exist_ok=True)\n",
    "\n",
    "# Load with simple caching\n",
    "if cache_file.exists():\n",
    "    print(f\"Loading SIAB data from cache: {cache_file}\")\n",
    "    siab = pd.read_csv(cache_file, compression='gzip')\n",
    "else:\n",
    "    print(f\"Cache not found. Reading raw SIAB data: {raw_file}\")\n",
    "    siab = pd.read_csv(raw_file)\n",
    "    siab.to_csv(cache_file, index=False, compression='gzip')\n",
    "    print(f\"Cached SIAB data to: {cache_file}\")\n",
    "\n",
    "print(siab.shape)"
   ]
  },
  {
   "cell_type": "code",
   "execution_count": 10,
   "id": "db0ca512-5f53-4dba-abdb-a2888bca41ba",
   "metadata": {
    "execution": {
     "iopub.execute_input": "2025-08-05T16:34:14.131108Z",
     "iopub.status.busy": "2025-08-05T16:34:14.130159Z",
     "iopub.status.idle": "2025-08-05T16:34:14.135750Z",
     "shell.execute_reply": "2025-08-05T16:34:14.134590Z"
    },
    "papermill": {
     "duration": 0.019557,
     "end_time": "2025-08-05T16:34:14.137844",
     "exception": false,
     "start_time": "2025-08-05T16:34:14.118287",
     "status": "completed"
    },
    "tags": []
   },
   "outputs": [],
   "source": [
    "#siab"
   ]
  },
  {
   "cell_type": "markdown",
   "id": "997051c5-15bd-4b69-9786-c3001a3ce484",
   "metadata": {
    "papermill": {
     "duration": 0.022031,
     "end_time": "2025-08-05T16:34:14.181807",
     "exception": false,
     "start_time": "2025-08-05T16:34:14.159776",
     "status": "completed"
    },
    "tags": []
   },
   "source": [
    "# Splitting Data and Setting Training Data Size"
   ]
  },
  {
   "cell_type": "code",
   "execution_count": 11,
   "id": "aea9c6ef-6f46-42c8-85eb-5a62025c1508",
   "metadata": {
    "execution": {
     "iopub.execute_input": "2025-08-05T16:34:14.228789Z",
     "iopub.status.busy": "2025-08-05T16:34:14.228057Z",
     "iopub.status.idle": "2025-08-05T16:34:15.315941Z",
     "shell.execute_reply": "2025-08-05T16:34:15.314927Z"
    },
    "papermill": {
     "duration": 1.113697,
     "end_time": "2025-08-05T16:34:15.318131",
     "exception": false,
     "start_time": "2025-08-05T16:34:14.204434",
     "status": "completed"
    },
    "tags": []
   },
   "outputs": [],
   "source": [
    "from fairness_multiverse.universe import sample_by_year_size\n",
    "\n",
    "siab_train = sample_by_year_size(siab,\n",
    "                               training_year=universe[\"training_year\"],\n",
    "                               training_size=universe[\"training_size\"])"
   ]
  },
  {
   "cell_type": "code",
   "execution_count": 12,
   "id": "8d3afb32-789d-442c-8d5d-9f5aa8dd2eed",
   "metadata": {
    "execution": {
     "iopub.execute_input": "2025-08-05T16:34:15.362596Z",
     "iopub.status.busy": "2025-08-05T16:34:15.361957Z",
     "iopub.status.idle": "2025-08-05T16:34:15.367013Z",
     "shell.execute_reply": "2025-08-05T16:34:15.366075Z"
    },
    "papermill": {
     "duration": 0.026988,
     "end_time": "2025-08-05T16:34:15.368792",
     "exception": false,
     "start_time": "2025-08-05T16:34:15.341804",
     "status": "completed"
    },
    "tags": []
   },
   "outputs": [],
   "source": [
    "#siab_train.shape"
   ]
  },
  {
   "cell_type": "code",
   "execution_count": 13,
   "id": "d582db68-1a4c-47fb-84fc-08518dc1975a",
   "metadata": {
    "execution": {
     "iopub.execute_input": "2025-08-05T16:34:15.411568Z",
     "iopub.status.busy": "2025-08-05T16:34:15.410847Z",
     "iopub.status.idle": "2025-08-05T16:34:15.416487Z",
     "shell.execute_reply": "2025-08-05T16:34:15.415403Z"
    },
    "papermill": {
     "duration": 0.027655,
     "end_time": "2025-08-05T16:34:15.418274",
     "exception": false,
     "start_time": "2025-08-05T16:34:15.390619",
     "status": "completed"
    },
    "tags": []
   },
   "outputs": [],
   "source": [
    "#display(siab_train.groupby(\"year\").size())"
   ]
  },
  {
   "cell_type": "code",
   "execution_count": 14,
   "id": "a561edb4-d032-42cb-8256-22eac1111c64",
   "metadata": {
    "execution": {
     "iopub.execute_input": "2025-08-05T16:34:15.453855Z",
     "iopub.status.busy": "2025-08-05T16:34:15.453033Z",
     "iopub.status.idle": "2025-08-05T16:34:15.675058Z",
     "shell.execute_reply": "2025-08-05T16:34:15.674134Z"
    },
    "papermill": {
     "duration": 0.241478,
     "end_time": "2025-08-05T16:34:15.676820",
     "exception": false,
     "start_time": "2025-08-05T16:34:15.435342",
     "status": "completed"
    },
    "tags": []
   },
   "outputs": [],
   "source": [
    "#siab_train = siab_s[siab_s.year < 2015]\n",
    "siab_calib = siab[siab.year == 2015]\n",
    "siab_test = siab[siab.year == 2016]"
   ]
  },
  {
   "cell_type": "code",
   "execution_count": 15,
   "id": "472de16f-c3db-4916-846b-1f0de9cf1746",
   "metadata": {
    "execution": {
     "iopub.execute_input": "2025-08-05T16:34:15.712816Z",
     "iopub.status.busy": "2025-08-05T16:34:15.712027Z",
     "iopub.status.idle": "2025-08-05T16:34:15.719612Z",
     "shell.execute_reply": "2025-08-05T16:34:15.718304Z"
    },
    "papermill": {
     "duration": 0.027481,
     "end_time": "2025-08-05T16:34:15.721441",
     "exception": false,
     "start_time": "2025-08-05T16:34:15.693960",
     "status": "completed"
    },
    "tags": []
   },
   "outputs": [],
   "source": [
    "X_train = siab_train.iloc[:,4:164]\n",
    "y_train = siab_train.iloc[:, [3]]"
   ]
  },
  {
   "cell_type": "code",
   "execution_count": 16,
   "id": "828c96af-f43a-4ed6-ba47-8ac73a47d56c",
   "metadata": {
    "execution": {
     "iopub.execute_input": "2025-08-05T16:34:15.767082Z",
     "iopub.status.busy": "2025-08-05T16:34:15.766069Z",
     "iopub.status.idle": "2025-08-05T16:34:15.827762Z",
     "shell.execute_reply": "2025-08-05T16:34:15.826567Z"
    },
    "papermill": {
     "duration": 0.085907,
     "end_time": "2025-08-05T16:34:15.830227",
     "exception": false,
     "start_time": "2025-08-05T16:34:15.744320",
     "status": "completed"
    },
    "tags": []
   },
   "outputs": [],
   "source": [
    "X_calib = siab_calib.iloc[:,4:164]\n",
    "y_calib = siab_calib.iloc[:, [3]]"
   ]
  },
  {
   "cell_type": "code",
   "execution_count": 17,
   "id": "c34be9c3-6bd6-476e-acd3-845840e303be",
   "metadata": {
    "execution": {
     "iopub.execute_input": "2025-08-05T16:34:15.883046Z",
     "iopub.status.busy": "2025-08-05T16:34:15.881802Z",
     "iopub.status.idle": "2025-08-05T16:34:15.944892Z",
     "shell.execute_reply": "2025-08-05T16:34:15.943667Z"
    },
    "papermill": {
     "duration": 0.090806,
     "end_time": "2025-08-05T16:34:15.947125",
     "exception": false,
     "start_time": "2025-08-05T16:34:15.856319",
     "status": "completed"
    },
    "tags": []
   },
   "outputs": [],
   "source": [
    "X_test = siab_test.iloc[:,4:164]\n",
    "y_true = siab_test.iloc[:, [3]]"
   ]
  },
  {
   "cell_type": "code",
   "execution_count": 18,
   "id": "e6c733c5",
   "metadata": {
    "execution": {
     "iopub.execute_input": "2025-08-05T16:34:15.990118Z",
     "iopub.status.busy": "2025-08-05T16:34:15.989424Z",
     "iopub.status.idle": "2025-08-05T16:34:16.102452Z",
     "shell.execute_reply": "2025-08-05T16:34:16.101321Z"
    },
    "papermill": {
     "duration": 0.136556,
     "end_time": "2025-08-05T16:34:16.104426",
     "exception": false,
     "start_time": "2025-08-05T16:34:15.967870",
     "status": "completed"
    },
    "tags": []
   },
   "outputs": [],
   "source": [
    "# Auxiliary data needed downstream in the pipeline\n",
    "\n",
    "org_train = X_train.copy()\n",
    "org_test = X_test.copy()\n",
    "org_calib = X_calib.copy()"
   ]
  },
  {
   "cell_type": "markdown",
   "id": "0a4a1b33",
   "metadata": {
    "papermill": {
     "duration": 0.021363,
     "end_time": "2025-08-05T16:34:16.147953",
     "exception": false,
     "start_time": "2025-08-05T16:34:16.126590",
     "status": "completed"
    },
    "tags": []
   },
   "source": [
    "# Preprocessing Data"
   ]
  },
  {
   "cell_type": "code",
   "execution_count": 19,
   "id": "ca879031",
   "metadata": {
    "execution": {
     "iopub.execute_input": "2025-08-05T16:34:16.191579Z",
     "iopub.status.busy": "2025-08-05T16:34:16.190496Z",
     "iopub.status.idle": "2025-08-05T16:34:16.198831Z",
     "shell.execute_reply": "2025-08-05T16:34:16.197706Z"
    },
    "papermill": {
     "duration": 0.031846,
     "end_time": "2025-08-05T16:34:16.200724",
     "exception": false,
     "start_time": "2025-08-05T16:34:16.168878",
     "status": "completed"
    },
    "tags": []
   },
   "outputs": [],
   "source": [
    "# EXCLUDE PROTECTED FEATURES\n",
    "# ----------------------\n",
    "# \"exclude_features\": \"none\", # \"nationality\", \"sex\", \"nationality-sex\"\n",
    "\n",
    "excluded_features = universe[\"exclude_features\"].split(\"-\") # split, e.g.: \"nationality-sex\" -> [\"nationality\", \"sex\"]\n",
    "excluded_features_dictionary = {\n",
    "    \"nationality\": [\"maxdeutsch1\", \"maxdeutsch.Missing.\"],\n",
    "    \"sex\": [\"frau1\"],\n",
    "    \"age\": [\"age\"],\n",
    "}"
   ]
  },
  {
   "cell_type": "code",
   "execution_count": 20,
   "id": "b745ac60",
   "metadata": {
    "execution": {
     "iopub.execute_input": "2025-08-05T16:34:16.244633Z",
     "iopub.status.busy": "2025-08-05T16:34:16.243909Z",
     "iopub.status.idle": "2025-08-05T16:34:16.250865Z",
     "shell.execute_reply": "2025-08-05T16:34:16.249787Z"
    },
    "papermill": {
     "duration": 0.031359,
     "end_time": "2025-08-05T16:34:16.252735",
     "exception": false,
     "start_time": "2025-08-05T16:34:16.221376",
     "status": "completed"
    },
    "tags": []
   },
   "outputs": [],
   "source": [
    "# Code nice names to column names\n",
    "\n",
    "excluded_features_columns = [\n",
    "    excluded_features_dictionary[f] for f in excluded_features if len(f) > 0 and f != \"none\"\n",
    "]"
   ]
  },
  {
   "cell_type": "code",
   "execution_count": 21,
   "id": "f84f73a2",
   "metadata": {
    "execution": {
     "iopub.execute_input": "2025-08-05T16:34:16.296051Z",
     "iopub.status.busy": "2025-08-05T16:34:16.295285Z",
     "iopub.status.idle": "2025-08-05T16:34:16.302914Z",
     "shell.execute_reply": "2025-08-05T16:34:16.301862Z"
    },
    "papermill": {
     "duration": 0.031277,
     "end_time": "2025-08-05T16:34:16.304776",
     "exception": false,
     "start_time": "2025-08-05T16:34:16.273499",
     "status": "completed"
    },
    "tags": []
   },
   "outputs": [],
   "source": [
    "from utils import flatten_once\n",
    "\n",
    "excluded_features_columns = flatten_once(excluded_features_columns)"
   ]
  },
  {
   "cell_type": "code",
   "execution_count": 22,
   "id": "884dea22",
   "metadata": {
    "execution": {
     "iopub.execute_input": "2025-08-05T16:34:16.347618Z",
     "iopub.status.busy": "2025-08-05T16:34:16.346640Z",
     "iopub.status.idle": "2025-08-05T16:34:16.352941Z",
     "shell.execute_reply": "2025-08-05T16:34:16.351847Z"
    },
    "papermill": {
     "duration": 0.029798,
     "end_time": "2025-08-05T16:34:16.354753",
     "exception": false,
     "start_time": "2025-08-05T16:34:16.324955",
     "status": "completed"
    },
    "tags": []
   },
   "outputs": [],
   "source": [
    "if len(excluded_features_columns) > 0:\n",
    "    print(f\"Dropping features: {excluded_features_columns}\")\n",
    "    X_train.drop(excluded_features_columns, axis=1, inplace=True)"
   ]
  },
  {
   "cell_type": "code",
   "execution_count": 23,
   "id": "95ab8b16",
   "metadata": {
    "execution": {
     "iopub.execute_input": "2025-08-05T16:34:16.399806Z",
     "iopub.status.busy": "2025-08-05T16:34:16.398743Z",
     "iopub.status.idle": "2025-08-05T16:34:16.405506Z",
     "shell.execute_reply": "2025-08-05T16:34:16.404402Z"
    },
    "papermill": {
     "duration": 0.030333,
     "end_time": "2025-08-05T16:34:16.407334",
     "exception": false,
     "start_time": "2025-08-05T16:34:16.377001",
     "status": "completed"
    },
    "tags": []
   },
   "outputs": [],
   "source": [
    "if len(excluded_features_columns) > 0:\n",
    "    print(f\"Dropping features: {excluded_features_columns}\")\n",
    "    X_test.drop(excluded_features_columns, axis=1, inplace=True)"
   ]
  },
  {
   "cell_type": "code",
   "execution_count": 24,
   "id": "1853aaf5-fb9f-46cb-a2b5-8ea4ae2237e4",
   "metadata": {
    "execution": {
     "iopub.execute_input": "2025-08-05T16:34:16.450811Z",
     "iopub.status.busy": "2025-08-05T16:34:16.450317Z",
     "iopub.status.idle": "2025-08-05T16:34:16.467576Z",
     "shell.execute_reply": "2025-08-05T16:34:16.466763Z"
    },
    "papermill": {
     "duration": 0.040753,
     "end_time": "2025-08-05T16:34:16.469038",
     "exception": false,
     "start_time": "2025-08-05T16:34:16.428285",
     "status": "completed"
    },
    "tags": []
   },
   "outputs": [],
   "source": [
    "if len(excluded_features_columns) > 0:\n",
    "    print(f\"Dropping features: {excluded_features_columns}\")\n",
    "    X_calib.drop(excluded_features_columns, axis=1, inplace=True)"
   ]
  },
  {
   "cell_type": "code",
   "execution_count": 25,
   "id": "76c4dc6d",
   "metadata": {
    "execution": {
     "iopub.execute_input": "2025-08-05T16:34:16.494722Z",
     "iopub.status.busy": "2025-08-05T16:34:16.494212Z",
     "iopub.status.idle": "2025-08-05T16:34:16.499091Z",
     "shell.execute_reply": "2025-08-05T16:34:16.498307Z"
    },
    "papermill": {
     "duration": 0.018902,
     "end_time": "2025-08-05T16:34:16.500559",
     "exception": false,
     "start_time": "2025-08-05T16:34:16.481657",
     "status": "completed"
    },
    "tags": []
   },
   "outputs": [],
   "source": [
    "# EXCLUDE CERTAIN SUBGROUPS\n",
    "# ----------------------\n",
    "\n",
    "mode = universe.get(\"exclude_subgroups\", \"keep-all\") \n",
    "# Fetches the exclude_subgroups setting from the universe dict.\n",
    "# Defaults to \"keep-all\" if the key is missing."
   ]
  },
  {
   "cell_type": "code",
   "execution_count": 26,
   "id": "21994072",
   "metadata": {
    "execution": {
     "iopub.execute_input": "2025-08-05T16:34:16.532699Z",
     "iopub.status.busy": "2025-08-05T16:34:16.532189Z",
     "iopub.status.idle": "2025-08-05T16:34:16.540009Z",
     "shell.execute_reply": "2025-08-05T16:34:16.538760Z"
    },
    "papermill": {
     "duration": 0.029486,
     "end_time": "2025-08-05T16:34:16.541890",
     "exception": false,
     "start_time": "2025-08-05T16:34:16.512404",
     "status": "completed"
    },
    "tags": []
   },
   "outputs": [],
   "source": [
    "if mode == \"keep-all\":\n",
    "    keep_mask = pd.Series(True, index=org_train.index)\n",
    "\n",
    "# org_train contains the original feature columns from features_org (in Simson)\n",
    "# features_org contains unprocessed features, for me X_train at beginning ???\n",
    "# For keep-all, creates a boolean Series (keep_mask) of all True, so no rows are removed.\n",
    "\n",
    "elif mode == \"drop-non-german\":\n",
    "    keep_mask = org_train[\"maxdeutsch1\"] == 1 # ??? what about missing values?\n",
    "\n",
    "else:\n",
    "    raise ValueError(f\"Unsupported mode for exclude_subgroups: {mode}\")"
   ]
  },
  {
   "cell_type": "code",
   "execution_count": 27,
   "id": "71651440",
   "metadata": {
    "execution": {
     "iopub.execute_input": "2025-08-05T16:34:16.587862Z",
     "iopub.status.busy": "2025-08-05T16:34:16.587489Z",
     "iopub.status.idle": "2025-08-05T16:34:16.606675Z",
     "shell.execute_reply": "2025-08-05T16:34:16.605680Z"
    },
    "papermill": {
     "duration": 0.042809,
     "end_time": "2025-08-05T16:34:16.608206",
     "exception": false,
     "start_time": "2025-08-05T16:34:16.565397",
     "status": "completed"
    },
    "tags": []
   },
   "outputs": [
    {
     "name": "stdout",
     "output_type": "stream",
     "text": [
      "Dropping 131 rows (13.10%) where mode='drop-non-german'\n"
     ]
    }
   ],
   "source": [
    "n_drop = (~keep_mask).sum() # Calculates how many rows are set to be dropped\n",
    "if n_drop > 0:\n",
    "    pct = n_drop / len(keep_mask) * 100\n",
    "    print(f\"Dropping {n_drop} rows ({pct:.2f}%) where mode='{mode}'\")"
   ]
  },
  {
   "cell_type": "code",
   "execution_count": 28,
   "id": "5fb8eee5",
   "metadata": {
    "execution": {
     "iopub.execute_input": "2025-08-05T16:34:16.634952Z",
     "iopub.status.busy": "2025-08-05T16:34:16.634382Z",
     "iopub.status.idle": "2025-08-05T16:34:16.641037Z",
     "shell.execute_reply": "2025-08-05T16:34:16.640192Z"
    },
    "papermill": {
     "duration": 0.021344,
     "end_time": "2025-08-05T16:34:16.642575",
     "exception": false,
     "start_time": "2025-08-05T16:34:16.621231",
     "status": "completed"
    },
    "tags": []
   },
   "outputs": [],
   "source": [
    "X_train = X_train[keep_mask]"
   ]
  },
  {
   "cell_type": "code",
   "execution_count": 29,
   "id": "b202bb3a",
   "metadata": {
    "execution": {
     "iopub.execute_input": "2025-08-05T16:34:16.692532Z",
     "iopub.status.busy": "2025-08-05T16:34:16.691908Z",
     "iopub.status.idle": "2025-08-05T16:34:16.700121Z",
     "shell.execute_reply": "2025-08-05T16:34:16.698846Z"
    },
    "papermill": {
     "duration": 0.042223,
     "end_time": "2025-08-05T16:34:16.702486",
     "exception": false,
     "start_time": "2025-08-05T16:34:16.660263",
     "status": "completed"
    },
    "tags": []
   },
   "outputs": [],
   "source": [
    "y_train = y_train[keep_mask]"
   ]
  },
  {
   "cell_type": "markdown",
   "id": "493e2ac3",
   "metadata": {
    "papermill": {
     "duration": 0.03022,
     "end_time": "2025-08-05T16:34:16.762201",
     "exception": false,
     "start_time": "2025-08-05T16:34:16.731981",
     "status": "completed"
    },
    "tags": []
   },
   "source": [
    "# Model Training"
   ]
  },
  {
   "cell_type": "code",
   "execution_count": 30,
   "id": "679e1268",
   "metadata": {
    "execution": {
     "iopub.execute_input": "2025-08-05T16:34:16.826690Z",
     "iopub.status.busy": "2025-08-05T16:34:16.825604Z",
     "iopub.status.idle": "2025-08-05T16:34:16.952501Z",
     "shell.execute_reply": "2025-08-05T16:34:16.951418Z"
    },
    "papermill": {
     "duration": 0.161799,
     "end_time": "2025-08-05T16:34:16.954729",
     "exception": false,
     "start_time": "2025-08-05T16:34:16.792930",
     "status": "completed"
    },
    "tags": []
   },
   "outputs": [],
   "source": [
    "from sklearn.linear_model import LogisticRegression\n",
    "from sklearn.ensemble import GradientBoostingClassifier, RandomForestClassifier\n",
    "\n",
    "if (universe[\"model\"] == \"logreg\"):\n",
    "    model = LogisticRegression() #penalty=\"none\", solver=\"newton-cg\", max_iter=1) # include random_state=19 ?\n",
    "elif (universe[\"model\"] == \"penalized_logreg\"):\n",
    "    model = LogisticRegression(penalty=\"l2\", C=0.1) #, solver=\"newton-cg\", max_iter=1)\n",
    "elif (universe[\"model\"] == \"rf\"):\n",
    "    model = RandomForestClassifier() # n_estimators=100, n_jobs=-1\n",
    "elif (universe[\"model\"] == \"gbm\"):\n",
    "    model = GradientBoostingClassifier()\n",
    "elif (universe[\"model\"] == \"elasticnet\"):\n",
    "    model = LogisticRegression(penalty = 'elasticnet', solver = 'saga', l1_ratio = 0.5) # max_iter=5000\n",
    "else:\n",
    "    raise \"Unsupported universe.model\""
   ]
  },
  {
   "cell_type": "code",
   "execution_count": 31,
   "id": "0cc8f744",
   "metadata": {
    "execution": {
     "iopub.execute_input": "2025-08-05T16:34:17.006590Z",
     "iopub.status.busy": "2025-08-05T16:34:17.005978Z",
     "iopub.status.idle": "2025-08-05T16:34:17.013924Z",
     "shell.execute_reply": "2025-08-05T16:34:17.012835Z"
    },
    "papermill": {
     "duration": 0.035508,
     "end_time": "2025-08-05T16:34:17.015802",
     "exception": false,
     "start_time": "2025-08-05T16:34:16.980294",
     "status": "completed"
    },
    "tags": []
   },
   "outputs": [],
   "source": [
    "import numpy as np\n",
    "from sklearn.pipeline import Pipeline\n",
    "from sklearn.preprocessing import StandardScaler\n",
    "\n",
    "model = Pipeline([\n",
    "    #(\"continuous_processor\", continuous_processor),\n",
    "    #(\"categorical_preprocessor\", categorical_preprocessor),\n",
    "    (\"scale\", StandardScaler() if universe[\"scale\"] == \"scale\" else None), \n",
    "    (\"model\", model),\n",
    "])"
   ]
  },
  {
   "cell_type": "code",
   "execution_count": 32,
   "id": "9442c04d",
   "metadata": {
    "execution": {
     "iopub.execute_input": "2025-08-05T16:34:17.066846Z",
     "iopub.status.busy": "2025-08-05T16:34:17.065672Z",
     "iopub.status.idle": "2025-08-05T16:34:17.519228Z",
     "shell.execute_reply": "2025-08-05T16:34:17.518088Z"
    },
    "papermill": {
     "duration": 0.481719,
     "end_time": "2025-08-05T16:34:17.521823",
     "exception": false,
     "start_time": "2025-08-05T16:34:17.040104",
     "status": "completed"
    },
    "tags": []
   },
   "outputs": [
    {
     "data": {
      "text/html": [
       "<style>#sk-container-id-1 {color: black;background-color: white;}#sk-container-id-1 pre{padding: 0;}#sk-container-id-1 div.sk-toggleable {background-color: white;}#sk-container-id-1 label.sk-toggleable__label {cursor: pointer;display: block;width: 100%;margin-bottom: 0;padding: 0.3em;box-sizing: border-box;text-align: center;}#sk-container-id-1 label.sk-toggleable__label-arrow:before {content: \"▸\";float: left;margin-right: 0.25em;color: #696969;}#sk-container-id-1 label.sk-toggleable__label-arrow:hover:before {color: black;}#sk-container-id-1 div.sk-estimator:hover label.sk-toggleable__label-arrow:before {color: black;}#sk-container-id-1 div.sk-toggleable__content {max-height: 0;max-width: 0;overflow: hidden;text-align: left;background-color: #f0f8ff;}#sk-container-id-1 div.sk-toggleable__content pre {margin: 0.2em;color: black;border-radius: 0.25em;background-color: #f0f8ff;}#sk-container-id-1 input.sk-toggleable__control:checked~div.sk-toggleable__content {max-height: 200px;max-width: 100%;overflow: auto;}#sk-container-id-1 input.sk-toggleable__control:checked~label.sk-toggleable__label-arrow:before {content: \"▾\";}#sk-container-id-1 div.sk-estimator input.sk-toggleable__control:checked~label.sk-toggleable__label {background-color: #d4ebff;}#sk-container-id-1 div.sk-label input.sk-toggleable__control:checked~label.sk-toggleable__label {background-color: #d4ebff;}#sk-container-id-1 input.sk-hidden--visually {border: 0;clip: rect(1px 1px 1px 1px);clip: rect(1px, 1px, 1px, 1px);height: 1px;margin: -1px;overflow: hidden;padding: 0;position: absolute;width: 1px;}#sk-container-id-1 div.sk-estimator {font-family: monospace;background-color: #f0f8ff;border: 1px dotted black;border-radius: 0.25em;box-sizing: border-box;margin-bottom: 0.5em;}#sk-container-id-1 div.sk-estimator:hover {background-color: #d4ebff;}#sk-container-id-1 div.sk-parallel-item::after {content: \"\";width: 100%;border-bottom: 1px solid gray;flex-grow: 1;}#sk-container-id-1 div.sk-label:hover label.sk-toggleable__label {background-color: #d4ebff;}#sk-container-id-1 div.sk-serial::before {content: \"\";position: absolute;border-left: 1px solid gray;box-sizing: border-box;top: 0;bottom: 0;left: 50%;z-index: 0;}#sk-container-id-1 div.sk-serial {display: flex;flex-direction: column;align-items: center;background-color: white;padding-right: 0.2em;padding-left: 0.2em;position: relative;}#sk-container-id-1 div.sk-item {position: relative;z-index: 1;}#sk-container-id-1 div.sk-parallel {display: flex;align-items: stretch;justify-content: center;background-color: white;position: relative;}#sk-container-id-1 div.sk-item::before, #sk-container-id-1 div.sk-parallel-item::before {content: \"\";position: absolute;border-left: 1px solid gray;box-sizing: border-box;top: 0;bottom: 0;left: 50%;z-index: -1;}#sk-container-id-1 div.sk-parallel-item {display: flex;flex-direction: column;z-index: 1;position: relative;background-color: white;}#sk-container-id-1 div.sk-parallel-item:first-child::after {align-self: flex-end;width: 50%;}#sk-container-id-1 div.sk-parallel-item:last-child::after {align-self: flex-start;width: 50%;}#sk-container-id-1 div.sk-parallel-item:only-child::after {width: 0;}#sk-container-id-1 div.sk-dashed-wrapped {border: 1px dashed gray;margin: 0 0.4em 0.5em 0.4em;box-sizing: border-box;padding-bottom: 0.4em;background-color: white;}#sk-container-id-1 div.sk-label label {font-family: monospace;font-weight: bold;display: inline-block;line-height: 1.2em;}#sk-container-id-1 div.sk-label-container {text-align: center;}#sk-container-id-1 div.sk-container {/* jupyter's `normalize.less` sets `[hidden] { display: none; }` but bootstrap.min.css set `[hidden] { display: none !important; }` so we also need the `!important` here to be able to override the default hidden behavior on the sphinx rendered scikit-learn.org. See: https://github.com/scikit-learn/scikit-learn/issues/21755 */display: inline-block !important;position: relative;}#sk-container-id-1 div.sk-text-repr-fallback {display: none;}</style><div id=\"sk-container-id-1\" class=\"sk-top-container\"><div class=\"sk-text-repr-fallback\"><pre>Pipeline(steps=[(&#x27;scale&#x27;, StandardScaler()),\n",
       "                (&#x27;model&#x27;, RandomForestClassifier())])</pre><b>In a Jupyter environment, please rerun this cell to show the HTML representation or trust the notebook. <br />On GitHub, the HTML representation is unable to render, please try loading this page with nbviewer.org.</b></div><div class=\"sk-container\" hidden><div class=\"sk-item sk-dashed-wrapped\"><div class=\"sk-label-container\"><div class=\"sk-label sk-toggleable\"><input class=\"sk-toggleable__control sk-hidden--visually\" id=\"sk-estimator-id-1\" type=\"checkbox\" ><label for=\"sk-estimator-id-1\" class=\"sk-toggleable__label sk-toggleable__label-arrow\">Pipeline</label><div class=\"sk-toggleable__content\"><pre>Pipeline(steps=[(&#x27;scale&#x27;, StandardScaler()),\n",
       "                (&#x27;model&#x27;, RandomForestClassifier())])</pre></div></div></div><div class=\"sk-serial\"><div class=\"sk-item\"><div class=\"sk-estimator sk-toggleable\"><input class=\"sk-toggleable__control sk-hidden--visually\" id=\"sk-estimator-id-2\" type=\"checkbox\" ><label for=\"sk-estimator-id-2\" class=\"sk-toggleable__label sk-toggleable__label-arrow\">StandardScaler</label><div class=\"sk-toggleable__content\"><pre>StandardScaler()</pre></div></div></div><div class=\"sk-item\"><div class=\"sk-estimator sk-toggleable\"><input class=\"sk-toggleable__control sk-hidden--visually\" id=\"sk-estimator-id-3\" type=\"checkbox\" ><label for=\"sk-estimator-id-3\" class=\"sk-toggleable__label sk-toggleable__label-arrow\">RandomForestClassifier</label><div class=\"sk-toggleable__content\"><pre>RandomForestClassifier()</pre></div></div></div></div></div></div></div>"
      ],
      "text/plain": [
       "Pipeline(steps=[('scale', StandardScaler()),\n",
       "                ('model', RandomForestClassifier())])"
      ]
     },
     "execution_count": 32,
     "metadata": {},
     "output_type": "execute_result"
    }
   ],
   "source": [
    "model.fit(X_train, y_train.values.ravel())"
   ]
  },
  {
   "cell_type": "code",
   "execution_count": 33,
   "id": "af59f8c0",
   "metadata": {
    "execution": {
     "iopub.execute_input": "2025-08-05T16:34:17.576509Z",
     "iopub.status.busy": "2025-08-05T16:34:17.575716Z",
     "iopub.status.idle": "2025-08-05T16:34:17.582733Z",
     "shell.execute_reply": "2025-08-05T16:34:17.581474Z"
    },
    "papermill": {
     "duration": 0.036386,
     "end_time": "2025-08-05T16:34:17.585014",
     "exception": false,
     "start_time": "2025-08-05T16:34:17.548628",
     "status": "completed"
    },
    "tags": []
   },
   "outputs": [],
   "source": [
    "from fairness_multiverse.universe import predict_w_threshold"
   ]
  },
  {
   "cell_type": "code",
   "execution_count": 34,
   "id": "a7cf2e16",
   "metadata": {
    "execution": {
     "iopub.execute_input": "2025-08-05T16:34:17.638452Z",
     "iopub.status.busy": "2025-08-05T16:34:17.637610Z",
     "iopub.status.idle": "2025-08-05T16:34:19.445912Z",
     "shell.execute_reply": "2025-08-05T16:34:19.444953Z"
    },
    "papermill": {
     "duration": 1.835696,
     "end_time": "2025-08-05T16:34:19.447763",
     "exception": false,
     "start_time": "2025-08-05T16:34:17.612067",
     "status": "completed"
    },
    "tags": []
   },
   "outputs": [
    {
     "data": {
      "text/plain": [
       "0.8608627800691115"
      ]
     },
     "execution_count": 34,
     "metadata": {},
     "output_type": "execute_result"
    }
   ],
   "source": [
    "probs_test = model.predict_proba(X_test)\n",
    "\n",
    "'''\n",
    "Below code returns a boolean array (or binary 0/1 array depending on how it’s used) where each element \n",
    "is True if the probability of class 1 is greater than or equal to the threshold, and False otherwise.\n",
    "'''\n",
    "y_pred_default = predict_w_threshold(probs_test, 0.5)\n",
    "\n",
    "from sklearn.metrics import accuracy_score\n",
    "\n",
    "# Naive prediction\n",
    "accuracy_score(y_true = y_true, y_pred = y_pred_default)"
   ]
  },
  {
   "cell_type": "code",
   "execution_count": 35,
   "id": "081964c3",
   "metadata": {
    "execution": {
     "iopub.execute_input": "2025-08-05T16:34:19.491954Z",
     "iopub.status.busy": "2025-08-05T16:34:19.491490Z",
     "iopub.status.idle": "2025-08-05T16:34:21.314325Z",
     "shell.execute_reply": "2025-08-05T16:34:21.313315Z"
    },
    "papermill": {
     "duration": 1.845844,
     "end_time": "2025-08-05T16:34:21.315811",
     "exception": false,
     "start_time": "2025-08-05T16:34:19.469967",
     "status": "completed"
    },
    "tags": []
   },
   "outputs": [
    {
     "data": {
      "text/plain": [
       "array([0, 0, 0, ..., 0, 0, 0])"
      ]
     },
     "execution_count": 35,
     "metadata": {},
     "output_type": "execute_result"
    }
   ],
   "source": [
    "model.predict(X_test)"
   ]
  },
  {
   "cell_type": "markdown",
   "id": "56c9705b",
   "metadata": {
    "papermill": {
     "duration": 0.012951,
     "end_time": "2025-08-05T16:34:21.344741",
     "exception": false,
     "start_time": "2025-08-05T16:34:21.331790",
     "status": "completed"
    },
    "tags": []
   },
   "source": [
    "# Conformal Prediction"
   ]
  },
  {
   "cell_type": "code",
   "execution_count": 36,
   "id": "160ec6ff",
   "metadata": {
    "execution": {
     "iopub.execute_input": "2025-08-05T16:34:21.371654Z",
     "iopub.status.busy": "2025-08-05T16:34:21.371084Z",
     "iopub.status.idle": "2025-08-05T16:34:21.376274Z",
     "shell.execute_reply": "2025-08-05T16:34:21.375357Z"
    },
    "papermill": {
     "duration": 0.020285,
     "end_time": "2025-08-05T16:34:21.377763",
     "exception": false,
     "start_time": "2025-08-05T16:34:21.357478",
     "status": "completed"
    },
    "tags": []
   },
   "outputs": [],
   "source": [
    "# Miscoverage level for conformal prediction (10% allowed error rate => 90% target coverage)\n",
    "alpha = 0.1"
   ]
  },
  {
   "cell_type": "code",
   "execution_count": 37,
   "id": "eadf4555-3dd3-440e-8e35-f82a4ad9f855",
   "metadata": {
    "execution": {
     "iopub.execute_input": "2025-08-05T16:34:21.404480Z",
     "iopub.status.busy": "2025-08-05T16:34:21.404016Z",
     "iopub.status.idle": "2025-08-05T16:34:23.022007Z",
     "shell.execute_reply": "2025-08-05T16:34:23.020858Z"
    },
    "papermill": {
     "duration": 1.633221,
     "end_time": "2025-08-05T16:34:23.023769",
     "exception": false,
     "start_time": "2025-08-05T16:34:21.390548",
     "status": "completed"
    },
    "tags": []
   },
   "outputs": [],
   "source": [
    "probs_calib = model.predict_proba(X_calib)"
   ]
  },
  {
   "cell_type": "code",
   "execution_count": 38,
   "id": "2ed93547-6d5d-4983-9b36-1ecb300da49a",
   "metadata": {
    "execution": {
     "iopub.execute_input": "2025-08-05T16:34:23.052080Z",
     "iopub.status.busy": "2025-08-05T16:34:23.051244Z",
     "iopub.status.idle": "2025-08-05T16:34:23.059354Z",
     "shell.execute_reply": "2025-08-05T16:34:23.058085Z"
    },
    "papermill": {
     "duration": 0.02445,
     "end_time": "2025-08-05T16:34:23.061425",
     "exception": false,
     "start_time": "2025-08-05T16:34:23.036975",
     "status": "completed"
    },
    "tags": []
   },
   "outputs": [],
   "source": [
    "y_calib = y_calib.values.ravel().astype(int)"
   ]
  },
  {
   "cell_type": "code",
   "execution_count": 39,
   "id": "65d1320d-f588-4b38-9072-62af1ae97f7d",
   "metadata": {
    "execution": {
     "iopub.execute_input": "2025-08-05T16:34:23.110945Z",
     "iopub.status.busy": "2025-08-05T16:34:23.110268Z",
     "iopub.status.idle": "2025-08-05T16:34:23.118990Z",
     "shell.execute_reply": "2025-08-05T16:34:23.117959Z"
    },
    "papermill": {
     "duration": 0.033308,
     "end_time": "2025-08-05T16:34:23.120851",
     "exception": false,
     "start_time": "2025-08-05T16:34:23.087543",
     "status": "completed"
    },
    "tags": []
   },
   "outputs": [],
   "source": [
    "from fairness_multiverse.conformal import compute_nc_scores\n",
    "\n",
    "# Compute nonconformity scores on calibration set (1 - probability of true class)\n",
    "nc_scores = compute_nc_scores(probs_calib, y_calib)"
   ]
  },
  {
   "cell_type": "code",
   "execution_count": 40,
   "id": "df3b8ca3-53b7-43d5-9667-7c85da7aeda2",
   "metadata": {
    "execution": {
     "iopub.execute_input": "2025-08-05T16:34:23.170749Z",
     "iopub.status.busy": "2025-08-05T16:34:23.169931Z",
     "iopub.status.idle": "2025-08-05T16:34:23.178155Z",
     "shell.execute_reply": "2025-08-05T16:34:23.177003Z"
    },
    "papermill": {
     "duration": 0.035051,
     "end_time": "2025-08-05T16:34:23.180357",
     "exception": false,
     "start_time": "2025-08-05T16:34:23.145306",
     "status": "completed"
    },
    "tags": []
   },
   "outputs": [],
   "source": [
    "from fairness_multiverse.conformal import find_threshold\n",
    "\n",
    "# Find conformal threshold q_hat for the given alpha (split conformal method)\n",
    "q_hat = find_threshold(nc_scores, alpha)"
   ]
  },
  {
   "cell_type": "code",
   "execution_count": 41,
   "id": "4d29e6c1-0ef6-4aa4-b8fe-4fe79b0d033a",
   "metadata": {
    "execution": {
     "iopub.execute_input": "2025-08-05T16:34:23.236073Z",
     "iopub.status.busy": "2025-08-05T16:34:23.235394Z",
     "iopub.status.idle": "2025-08-05T16:34:23.245311Z",
     "shell.execute_reply": "2025-08-05T16:34:23.244058Z"
    },
    "papermill": {
     "duration": 0.039966,
     "end_time": "2025-08-05T16:34:23.247288",
     "exception": false,
     "start_time": "2025-08-05T16:34:23.207322",
     "status": "completed"
    },
    "tags": []
   },
   "outputs": [
    {
     "data": {
      "text/plain": [
       "0.6599999999999999"
      ]
     },
     "execution_count": 41,
     "metadata": {},
     "output_type": "execute_result"
    }
   ],
   "source": [
    "q_hat"
   ]
  },
  {
   "cell_type": "code",
   "execution_count": 42,
   "id": "92460794-cdac-4be2-ba28-f28c0515a6fb",
   "metadata": {
    "execution": {
     "iopub.execute_input": "2025-08-05T16:34:23.295750Z",
     "iopub.status.busy": "2025-08-05T16:34:23.295173Z",
     "iopub.status.idle": "2025-08-05T16:34:25.942354Z",
     "shell.execute_reply": "2025-08-05T16:34:25.941017Z"
    },
    "papermill": {
     "duration": 2.673589,
     "end_time": "2025-08-05T16:34:25.944643",
     "exception": false,
     "start_time": "2025-08-05T16:34:23.271054",
     "status": "completed"
    },
    "tags": []
   },
   "outputs": [],
   "source": [
    "from fairness_multiverse.conformal import predict_conformal_sets\n",
    "\n",
    "# Generate prediction sets for each test example\n",
    "pred_sets = predict_conformal_sets(model, X_test, q_hat)"
   ]
  },
  {
   "cell_type": "code",
   "execution_count": 43,
   "id": "d90c9a65-e6db-4f5d-80cd-e68fb7e46829",
   "metadata": {
    "execution": {
     "iopub.execute_input": "2025-08-05T16:34:25.996942Z",
     "iopub.status.busy": "2025-08-05T16:34:25.996182Z",
     "iopub.status.idle": "2025-08-05T16:34:26.002972Z",
     "shell.execute_reply": "2025-08-05T16:34:26.001919Z"
    },
    "papermill": {
     "duration": 0.032961,
     "end_time": "2025-08-05T16:34:26.004723",
     "exception": false,
     "start_time": "2025-08-05T16:34:25.971762",
     "status": "completed"
    },
    "tags": []
   },
   "outputs": [],
   "source": [
    "y_true = y_true.squeeze()"
   ]
  },
  {
   "cell_type": "code",
   "execution_count": 44,
   "id": "3a58a54a-1e68-46b9-927a-df01f18aebc8",
   "metadata": {
    "execution": {
     "iopub.execute_input": "2025-08-05T16:34:26.053217Z",
     "iopub.status.busy": "2025-08-05T16:34:26.052185Z",
     "iopub.status.idle": "2025-08-05T16:34:27.236504Z",
     "shell.execute_reply": "2025-08-05T16:34:27.235143Z"
    },
    "papermill": {
     "duration": 1.210826,
     "end_time": "2025-08-05T16:34:27.238846",
     "exception": false,
     "start_time": "2025-08-05T16:34:26.028020",
     "status": "completed"
    },
    "tags": []
   },
   "outputs": [],
   "source": [
    "from fairness_multiverse.conformal import evaluate_sets\n",
    "\n",
    "# Evaluate coverage and average set size on test data\n",
    "metrics = evaluate_sets(pred_sets, y_true)"
   ]
  },
  {
   "cell_type": "markdown",
   "id": "2b569c12-9aaa-4c88-98c9-bbcd0cf3ebb8",
   "metadata": {
    "papermill": {
     "duration": 0.024315,
     "end_time": "2025-08-05T16:34:27.289987",
     "exception": false,
     "start_time": "2025-08-05T16:34:27.265672",
     "status": "completed"
    },
    "tags": []
   },
   "source": [
    "# CP Metrics"
   ]
  },
  {
   "cell_type": "code",
   "execution_count": 45,
   "id": "5ce0a5cb-201f-45a0-ade5-94c7f0bd6095",
   "metadata": {
    "execution": {
     "iopub.execute_input": "2025-08-05T16:34:27.342719Z",
     "iopub.status.busy": "2025-08-05T16:34:27.341763Z",
     "iopub.status.idle": "2025-08-05T16:34:27.351049Z",
     "shell.execute_reply": "2025-08-05T16:34:27.349972Z"
    },
    "papermill": {
     "duration": 0.037816,
     "end_time": "2025-08-05T16:34:27.352856",
     "exception": false,
     "start_time": "2025-08-05T16:34:27.315040",
     "status": "completed"
    },
    "tags": []
   },
   "outputs": [
    {
     "data": {
      "text/plain": [
       "{'coverage': 0.91450228514101, 'avg_size': 1.1604503399843942}"
      ]
     },
     "execution_count": 45,
     "metadata": {},
     "output_type": "execute_result"
    }
   ],
   "source": [
    "metrics"
   ]
  },
  {
   "cell_type": "code",
   "execution_count": 46,
   "id": "9b9a838d-31c9-430b-ae14-12baee460d17",
   "metadata": {
    "execution": {
     "iopub.execute_input": "2025-08-05T16:34:27.405436Z",
     "iopub.status.busy": "2025-08-05T16:34:27.404527Z",
     "iopub.status.idle": "2025-08-05T16:34:27.412814Z",
     "shell.execute_reply": "2025-08-05T16:34:27.411672Z"
    },
    "papermill": {
     "duration": 0.037208,
     "end_time": "2025-08-05T16:34:27.414809",
     "exception": false,
     "start_time": "2025-08-05T16:34:27.377601",
     "status": "completed"
    },
    "tags": []
   },
   "outputs": [],
   "source": [
    "example_universe = universe.copy()\n",
    "universe_training_year = example_universe.get(\"training_year\")\n",
    "universe_training_size = example_universe.get(\"training_size\")\n",
    "universe_scale = example_universe.get(\"scale\")\n",
    "universe_model = example_universe.get(\"model\")\n",
    "universe_exclude_features = example_universe.get(\"exclude_features\")\n",
    "universe_exclude_subgroups = example_universe.get(\"exclude_subgroups\")"
   ]
  },
  {
   "cell_type": "code",
   "execution_count": 47,
   "id": "f4b6a8ac-9dc0-4245-8a91-5b3b5999c4f9",
   "metadata": {
    "execution": {
     "iopub.execute_input": "2025-08-05T16:34:27.466576Z",
     "iopub.status.busy": "2025-08-05T16:34:27.465566Z",
     "iopub.status.idle": "2025-08-05T16:34:27.473553Z",
     "shell.execute_reply": "2025-08-05T16:34:27.472286Z"
    },
    "papermill": {
     "duration": 0.035805,
     "end_time": "2025-08-05T16:34:27.475548",
     "exception": false,
     "start_time": "2025-08-05T16:34:27.439743",
     "status": "completed"
    },
    "tags": []
   },
   "outputs": [],
   "source": [
    "cp_metrics_dict = {\n",
    "    \"universe_id\": [universe_id],\n",
    "    \"universe_training_year\": [universe_training_year],\n",
    "    \"universe_training_size\": [universe_training_size],\n",
    "    \"universe_scale\": [universe_scale],\n",
    "    \"universe_model\": [universe_model],\n",
    "    \"universe_exclude_features\": [universe_exclude_features],\n",
    "    \"universe_exclude_subgroups\": [universe_exclude_subgroups],\n",
    "    \"q_hat\": [q_hat],\n",
    "    \"coverage\": [metrics[\"coverage\"]],\n",
    "    \"avg_size\": [metrics[\"avg_size\"]],\n",
    "}"
   ]
  },
  {
   "cell_type": "code",
   "execution_count": 48,
   "id": "908acbb1-0371-4915-85ca-3fa520d2efe2",
   "metadata": {
    "execution": {
     "iopub.execute_input": "2025-08-05T16:34:27.528398Z",
     "iopub.status.busy": "2025-08-05T16:34:27.527740Z",
     "iopub.status.idle": "2025-08-05T16:34:27.536629Z",
     "shell.execute_reply": "2025-08-05T16:34:27.535453Z"
    },
    "papermill": {
     "duration": 0.037096,
     "end_time": "2025-08-05T16:34:27.538934",
     "exception": false,
     "start_time": "2025-08-05T16:34:27.501838",
     "status": "completed"
    },
    "tags": []
   },
   "outputs": [
    {
     "data": {
      "text/plain": [
       "{'universe_id': ['3801de5e81fd93924dffc1115d61a0cd'],\n",
       " 'universe_training_year': ['2010_14'],\n",
       " 'universe_training_size': ['1k'],\n",
       " 'universe_scale': ['scale'],\n",
       " 'universe_model': ['rf'],\n",
       " 'universe_exclude_features': ['none'],\n",
       " 'universe_exclude_subgroups': ['drop-non-german'],\n",
       " 'q_hat': [0.6599999999999999],\n",
       " 'coverage': [0.91450228514101],\n",
       " 'avg_size': [1.1604503399843942]}"
      ]
     },
     "execution_count": 48,
     "metadata": {},
     "output_type": "execute_result"
    }
   ],
   "source": [
    "cp_metrics_dict"
   ]
  },
  {
   "cell_type": "code",
   "execution_count": 49,
   "id": "33007efc-14e9-4ec6-97ac-56a455c82265",
   "metadata": {
    "execution": {
     "iopub.execute_input": "2025-08-05T16:34:27.593398Z",
     "iopub.status.busy": "2025-08-05T16:34:27.592801Z",
     "iopub.status.idle": "2025-08-05T16:34:27.600016Z",
     "shell.execute_reply": "2025-08-05T16:34:27.598939Z"
    },
    "papermill": {
     "duration": 0.036639,
     "end_time": "2025-08-05T16:34:27.602056",
     "exception": false,
     "start_time": "2025-08-05T16:34:27.565417",
     "status": "completed"
    },
    "tags": []
   },
   "outputs": [],
   "source": [
    "cp_metrics_df = pd.DataFrame(cp_metrics_dict)"
   ]
  },
  {
   "cell_type": "code",
   "execution_count": 50,
   "id": "db12611b-57b2-4910-b9d0-355adfd6e7bf",
   "metadata": {
    "execution": {
     "iopub.execute_input": "2025-08-05T16:34:27.663271Z",
     "iopub.status.busy": "2025-08-05T16:34:27.662464Z",
     "iopub.status.idle": "2025-08-05T16:34:27.684947Z",
     "shell.execute_reply": "2025-08-05T16:34:27.683845Z"
    },
    "papermill": {
     "duration": 0.055246,
     "end_time": "2025-08-05T16:34:27.687064",
     "exception": false,
     "start_time": "2025-08-05T16:34:27.631818",
     "status": "completed"
    },
    "tags": []
   },
   "outputs": [
    {
     "data": {
      "text/html": [
       "<div>\n",
       "<style scoped>\n",
       "    .dataframe tbody tr th:only-of-type {\n",
       "        vertical-align: middle;\n",
       "    }\n",
       "\n",
       "    .dataframe tbody tr th {\n",
       "        vertical-align: top;\n",
       "    }\n",
       "\n",
       "    .dataframe thead th {\n",
       "        text-align: right;\n",
       "    }\n",
       "</style>\n",
       "<table border=\"1\" class=\"dataframe\">\n",
       "  <thead>\n",
       "    <tr style=\"text-align: right;\">\n",
       "      <th></th>\n",
       "      <th>universe_id</th>\n",
       "      <th>universe_training_year</th>\n",
       "      <th>universe_training_size</th>\n",
       "      <th>universe_scale</th>\n",
       "      <th>universe_model</th>\n",
       "      <th>universe_exclude_features</th>\n",
       "      <th>universe_exclude_subgroups</th>\n",
       "      <th>q_hat</th>\n",
       "      <th>coverage</th>\n",
       "      <th>avg_size</th>\n",
       "    </tr>\n",
       "  </thead>\n",
       "  <tbody>\n",
       "    <tr>\n",
       "      <th>0</th>\n",
       "      <td>3801de5e81fd93924dffc1115d61a0cd</td>\n",
       "      <td>2010_14</td>\n",
       "      <td>1k</td>\n",
       "      <td>scale</td>\n",
       "      <td>rf</td>\n",
       "      <td>none</td>\n",
       "      <td>drop-non-german</td>\n",
       "      <td>0.66</td>\n",
       "      <td>0.914502</td>\n",
       "      <td>1.16045</td>\n",
       "    </tr>\n",
       "  </tbody>\n",
       "</table>\n",
       "</div>"
      ],
      "text/plain": [
       "                        universe_id universe_training_year  \\\n",
       "0  3801de5e81fd93924dffc1115d61a0cd                2010_14   \n",
       "\n",
       "  universe_training_size universe_scale universe_model  \\\n",
       "0                     1k          scale             rf   \n",
       "\n",
       "  universe_exclude_features universe_exclude_subgroups  q_hat  coverage  \\\n",
       "0                      none            drop-non-german   0.66  0.914502   \n",
       "\n",
       "   avg_size  \n",
       "0   1.16045  "
      ]
     },
     "execution_count": 50,
     "metadata": {},
     "output_type": "execute_result"
    }
   ],
   "source": [
    "cp_metrics_df"
   ]
  },
  {
   "cell_type": "code",
   "execution_count": 51,
   "id": "b7fbde55-a0a1-47e4-9af6-fe4a17fa8c61",
   "metadata": {
    "execution": {
     "iopub.execute_input": "2025-08-05T16:34:27.749268Z",
     "iopub.status.busy": "2025-08-05T16:34:27.748786Z",
     "iopub.status.idle": "2025-08-05T16:34:27.754508Z",
     "shell.execute_reply": "2025-08-05T16:34:27.753314Z"
    },
    "papermill": {
     "duration": 0.038862,
     "end_time": "2025-08-05T16:34:27.756460",
     "exception": false,
     "start_time": "2025-08-05T16:34:27.717598",
     "status": "completed"
    },
    "tags": []
   },
   "outputs": [],
   "source": [
    "# Conditional Coverage & looking at subgroups"
   ]
  },
  {
   "cell_type": "code",
   "execution_count": 52,
   "id": "027ae886-68dd-4141-96c7-805a5450e1ef",
   "metadata": {
    "execution": {
     "iopub.execute_input": "2025-08-05T16:34:27.810454Z",
     "iopub.status.busy": "2025-08-05T16:34:27.809750Z",
     "iopub.status.idle": "2025-08-05T16:34:28.127916Z",
     "shell.execute_reply": "2025-08-05T16:34:28.126673Z"
    },
    "papermill": {
     "duration": 0.348053,
     "end_time": "2025-08-05T16:34:28.130187",
     "exception": false,
     "start_time": "2025-08-05T16:34:27.782134",
     "status": "completed"
    },
    "tags": []
   },
   "outputs": [],
   "source": [
    "from fairness_multiverse.conformal import build_cp_groups\n",
    "\n",
    "cp_groups_df = build_cp_groups(pred_sets, y_true, X_test.index, org_test)\n",
    "#needs universe_id and setting"
   ]
  },
  {
   "cell_type": "code",
   "execution_count": 53,
   "id": "6cbdab96-b2b2-45af-ad54-d0516db2e28d",
   "metadata": {
    "execution": {
     "iopub.execute_input": "2025-08-05T16:34:28.187143Z",
     "iopub.status.busy": "2025-08-05T16:34:28.186287Z",
     "iopub.status.idle": "2025-08-05T16:34:30.185615Z",
     "shell.execute_reply": "2025-08-05T16:34:30.184348Z"
    },
    "papermill": {
     "duration": 2.029567,
     "end_time": "2025-08-05T16:34:30.187990",
     "exception": false,
     "start_time": "2025-08-05T16:34:28.158423",
     "status": "completed"
    },
    "tags": []
   },
   "outputs": [],
   "source": [
    "# Define covered = 1 if true_label is in the predicted set\n",
    "cp_groups_df['covered'] = cp_groups_df.apply(\n",
    "    lambda r: int(r['true_label'] in r['pred_set']),\n",
    "    axis=1\n",
    ")"
   ]
  },
  {
   "cell_type": "code",
   "execution_count": 54,
   "id": "338ff529-1a6b-4b87-a931-8e4788d52aad",
   "metadata": {
    "execution": {
     "iopub.execute_input": "2025-08-05T16:34:30.242744Z",
     "iopub.status.busy": "2025-08-05T16:34:30.242201Z",
     "iopub.status.idle": "2025-08-05T16:34:30.248178Z",
     "shell.execute_reply": "2025-08-05T16:34:30.246945Z"
    },
    "papermill": {
     "duration": 0.034698,
     "end_time": "2025-08-05T16:34:30.250108",
     "exception": false,
     "start_time": "2025-08-05T16:34:30.215410",
     "status": "completed"
    },
    "tags": []
   },
   "outputs": [],
   "source": [
    "#cp_groups_df"
   ]
  },
  {
   "cell_type": "code",
   "execution_count": 55,
   "id": "90032e27-66df-4540-9169-4e89cfbaa758",
   "metadata": {
    "execution": {
     "iopub.execute_input": "2025-08-05T16:34:30.305973Z",
     "iopub.status.busy": "2025-08-05T16:34:30.304966Z",
     "iopub.status.idle": "2025-08-05T16:34:30.318093Z",
     "shell.execute_reply": "2025-08-05T16:34:30.317015Z"
    },
    "papermill": {
     "duration": 0.042545,
     "end_time": "2025-08-05T16:34:30.320047",
     "exception": false,
     "start_time": "2025-08-05T16:34:30.277502",
     "status": "completed"
    },
    "tags": []
   },
   "outputs": [],
   "source": [
    "subgroups = ['frau1','nongerman','nongerman_male','nongerman_female']\n",
    "\n",
    "# Conditional coverage for subgroup==1\n",
    "cond_coverage = {\n",
    "    g: cp_groups_df.loc[cp_groups_df[g]==1, 'covered'].mean()\n",
    "    for g in subgroups\n",
    "}"
   ]
  },
  {
   "cell_type": "code",
   "execution_count": 56,
   "id": "1e348fb1-b9c3-45bc-ba23-f016827a7e0d",
   "metadata": {
    "execution": {
     "iopub.execute_input": "2025-08-05T16:34:30.376521Z",
     "iopub.status.busy": "2025-08-05T16:34:30.375445Z",
     "iopub.status.idle": "2025-08-05T16:34:30.384224Z",
     "shell.execute_reply": "2025-08-05T16:34:30.383091Z"
    },
    "papermill": {
     "duration": 0.038534,
     "end_time": "2025-08-05T16:34:30.386157",
     "exception": false,
     "start_time": "2025-08-05T16:34:30.347623",
     "status": "completed"
    },
    "tags": []
   },
   "outputs": [
    {
     "data": {
      "text/plain": [
       "{'frau1': 0.913088017252999,\n",
       " 'nongerman': 0.904395666086566,\n",
       " 'nongerman_male': 0.9240745744393407,\n",
       " 'nongerman_female': 0.8718330849478391}"
      ]
     },
     "execution_count": 56,
     "metadata": {},
     "output_type": "execute_result"
    }
   ],
   "source": [
    "cond_coverage"
   ]
  },
  {
   "cell_type": "code",
   "execution_count": 57,
   "id": "f5093324-c3dd-4d63-bc4c-8d945e5c8bbb",
   "metadata": {
    "execution": {
     "iopub.execute_input": "2025-08-05T16:34:30.443875Z",
     "iopub.status.busy": "2025-08-05T16:34:30.442865Z",
     "iopub.status.idle": "2025-08-05T16:34:30.451660Z",
     "shell.execute_reply": "2025-08-05T16:34:30.450514Z"
    },
    "papermill": {
     "duration": 0.038941,
     "end_time": "2025-08-05T16:34:30.453457",
     "exception": false,
     "start_time": "2025-08-05T16:34:30.414516",
     "status": "completed"
    },
    "tags": []
   },
   "outputs": [],
   "source": [
    "for subgroup, cov in cond_coverage.items():\n",
    "    cp_metrics_df[f\"cov_{subgroup}\"] = cov"
   ]
  },
  {
   "cell_type": "code",
   "execution_count": 58,
   "id": "6e872e10-dbe5-49e8-b554-5030c98ff75d",
   "metadata": {
    "execution": {
     "iopub.execute_input": "2025-08-05T16:34:30.508011Z",
     "iopub.status.busy": "2025-08-05T16:34:30.507330Z",
     "iopub.status.idle": "2025-08-05T16:34:30.530991Z",
     "shell.execute_reply": "2025-08-05T16:34:30.529837Z"
    },
    "papermill": {
     "duration": 0.052783,
     "end_time": "2025-08-05T16:34:30.532932",
     "exception": false,
     "start_time": "2025-08-05T16:34:30.480149",
     "status": "completed"
    },
    "tags": []
   },
   "outputs": [
    {
     "data": {
      "text/html": [
       "<div>\n",
       "<style scoped>\n",
       "    .dataframe tbody tr th:only-of-type {\n",
       "        vertical-align: middle;\n",
       "    }\n",
       "\n",
       "    .dataframe tbody tr th {\n",
       "        vertical-align: top;\n",
       "    }\n",
       "\n",
       "    .dataframe thead th {\n",
       "        text-align: right;\n",
       "    }\n",
       "</style>\n",
       "<table border=\"1\" class=\"dataframe\">\n",
       "  <thead>\n",
       "    <tr style=\"text-align: right;\">\n",
       "      <th></th>\n",
       "      <th>universe_id</th>\n",
       "      <th>universe_training_year</th>\n",
       "      <th>universe_training_size</th>\n",
       "      <th>universe_scale</th>\n",
       "      <th>universe_model</th>\n",
       "      <th>universe_exclude_features</th>\n",
       "      <th>universe_exclude_subgroups</th>\n",
       "      <th>q_hat</th>\n",
       "      <th>coverage</th>\n",
       "      <th>avg_size</th>\n",
       "      <th>cov_frau1</th>\n",
       "      <th>cov_nongerman</th>\n",
       "      <th>cov_nongerman_male</th>\n",
       "      <th>cov_nongerman_female</th>\n",
       "    </tr>\n",
       "  </thead>\n",
       "  <tbody>\n",
       "    <tr>\n",
       "      <th>0</th>\n",
       "      <td>3801de5e81fd93924dffc1115d61a0cd</td>\n",
       "      <td>2010_14</td>\n",
       "      <td>1k</td>\n",
       "      <td>scale</td>\n",
       "      <td>rf</td>\n",
       "      <td>none</td>\n",
       "      <td>drop-non-german</td>\n",
       "      <td>0.66</td>\n",
       "      <td>0.914502</td>\n",
       "      <td>1.16045</td>\n",
       "      <td>0.913088</td>\n",
       "      <td>0.904396</td>\n",
       "      <td>0.924075</td>\n",
       "      <td>0.871833</td>\n",
       "    </tr>\n",
       "  </tbody>\n",
       "</table>\n",
       "</div>"
      ],
      "text/plain": [
       "                        universe_id universe_training_year  \\\n",
       "0  3801de5e81fd93924dffc1115d61a0cd                2010_14   \n",
       "\n",
       "  universe_training_size universe_scale universe_model  \\\n",
       "0                     1k          scale             rf   \n",
       "\n",
       "  universe_exclude_features universe_exclude_subgroups  q_hat  coverage  \\\n",
       "0                      none            drop-non-german   0.66  0.914502   \n",
       "\n",
       "   avg_size  cov_frau1  cov_nongerman  cov_nongerman_male  \\\n",
       "0   1.16045   0.913088       0.904396            0.924075   \n",
       "\n",
       "   cov_nongerman_female  \n",
       "0              0.871833  "
      ]
     },
     "execution_count": 58,
     "metadata": {},
     "output_type": "execute_result"
    }
   ],
   "source": [
    "cp_metrics_df"
   ]
  },
  {
   "cell_type": "markdown",
   "id": "33774451",
   "metadata": {
    "papermill": {
     "duration": 0.02863,
     "end_time": "2025-08-05T16:34:30.590890",
     "exception": false,
     "start_time": "2025-08-05T16:34:30.562260",
     "status": "completed"
    },
    "tags": []
   },
   "source": [
    "# (Fairness) Metrics"
   ]
  },
  {
   "cell_type": "code",
   "execution_count": 59,
   "id": "debc5d62",
   "metadata": {
    "execution": {
     "iopub.execute_input": "2025-08-05T16:34:30.651373Z",
     "iopub.status.busy": "2025-08-05T16:34:30.650567Z",
     "iopub.status.idle": "2025-08-05T16:34:30.675369Z",
     "shell.execute_reply": "2025-08-05T16:34:30.674233Z"
    },
    "papermill": {
     "duration": 0.057754,
     "end_time": "2025-08-05T16:34:30.677530",
     "exception": false,
     "start_time": "2025-08-05T16:34:30.619776",
     "status": "completed"
    },
    "tags": []
   },
   "outputs": [],
   "source": [
    "# do I need to include maxdeutsch1.missing?\n",
    "\n",
    "import numpy as np\n",
    "\n",
    "colname_to_bin = \"maxdeutsch1\"\n",
    "majority_value = org_train[colname_to_bin].mode()[0]\n",
    "\n",
    "org_test[\"majmin\"] = np.where(org_test[colname_to_bin] == majority_value, \"majority\", \"minority\")"
   ]
  },
  {
   "cell_type": "code",
   "execution_count": 60,
   "id": "06a50de5",
   "metadata": {
    "execution": {
     "iopub.execute_input": "2025-08-05T16:34:30.735383Z",
     "iopub.status.busy": "2025-08-05T16:34:30.734456Z",
     "iopub.status.idle": "2025-08-05T16:34:34.148512Z",
     "shell.execute_reply": "2025-08-05T16:34:34.147427Z"
    },
    "papermill": {
     "duration": 3.444431,
     "end_time": "2025-08-05T16:34:34.150778",
     "exception": false,
     "start_time": "2025-08-05T16:34:30.706347",
     "status": "completed"
    },
    "tags": []
   },
   "outputs": [],
   "source": [
    "example_universe = universe.copy()\n",
    "example_universe[\"cutoff\"] = example_universe[\"cutoff\"][0]\n",
    "example_universe[\"eval_fairness_grouping\"] = example_universe[\"eval_fairness_grouping\"][0]\n",
    "fairness_dict, metric_frame = universe_analysis.compute_metrics(\n",
    "    example_universe,\n",
    "    y_pred_prob=probs_test,\n",
    "    y_test=y_true,\n",
    "    org_test=org_test,\n",
    ")"
   ]
  },
  {
   "cell_type": "markdown",
   "id": "f95d4e02",
   "metadata": {
    "papermill": {
     "duration": 0.028573,
     "end_time": "2025-08-05T16:34:34.210923",
     "exception": false,
     "start_time": "2025-08-05T16:34:34.182350",
     "status": "completed"
    },
    "tags": []
   },
   "source": [
    "# Overall"
   ]
  },
  {
   "cell_type": "markdown",
   "id": "bdee4871",
   "metadata": {
    "papermill": {
     "duration": 0.031563,
     "end_time": "2025-08-05T16:34:34.271231",
     "exception": false,
     "start_time": "2025-08-05T16:34:34.239668",
     "status": "completed"
    },
    "tags": []
   },
   "source": [
    "Fairness\n",
    "Main fairness target: Equalized Odds. Seems to be a better fit than equal opportunity, since we're not only interested in Y = 1. Seems to be a better fit than demographic parity, since we also care about accuracy, not just equal distribution of preds.\n",
    "\n",
    "Pick column for computation of fairness metrics\n",
    "\n",
    "Performance\n",
    "Overall performance measures, most interesting in relation to the measures split by group below"
   ]
  },
  {
   "cell_type": "code",
   "execution_count": 61,
   "id": "c4e067c6",
   "metadata": {
    "execution": {
     "iopub.execute_input": "2025-08-05T16:34:34.332369Z",
     "iopub.status.busy": "2025-08-05T16:34:34.331280Z",
     "iopub.status.idle": "2025-08-05T16:34:34.341907Z",
     "shell.execute_reply": "2025-08-05T16:34:34.340734Z"
    },
    "papermill": {
     "duration": 0.043854,
     "end_time": "2025-08-05T16:34:34.343717",
     "exception": false,
     "start_time": "2025-08-05T16:34:34.299863",
     "status": "completed"
    },
    "tags": []
   },
   "outputs": [
    {
     "data": {
      "text/plain": [
       "accuracy                   0.218025\n",
       "balanced accuracy          0.542471\n",
       "f1                         0.243092\n",
       "precision                  0.138778\n",
       "false positive rate        0.893941\n",
       "false negative rate        0.021116\n",
       "selection rate             0.904838\n",
       "count                  89710.000000\n",
       "dtype: float64"
      ]
     },
     "execution_count": 61,
     "metadata": {},
     "output_type": "execute_result"
    }
   ],
   "source": [
    "metric_frame.overall"
   ]
  },
  {
   "cell_type": "markdown",
   "id": "e968fe9d",
   "metadata": {
    "papermill": {
     "duration": 0.030587,
     "end_time": "2025-08-05T16:34:34.404638",
     "exception": false,
     "start_time": "2025-08-05T16:34:34.374051",
     "status": "completed"
    },
    "tags": []
   },
   "source": [
    "By Group"
   ]
  },
  {
   "cell_type": "code",
   "execution_count": 62,
   "id": "ec325bce",
   "metadata": {
    "execution": {
     "iopub.execute_input": "2025-08-05T16:34:34.467704Z",
     "iopub.status.busy": "2025-08-05T16:34:34.466890Z",
     "iopub.status.idle": "2025-08-05T16:34:34.485649Z",
     "shell.execute_reply": "2025-08-05T16:34:34.484572Z"
    },
    "papermill": {
     "duration": 0.050399,
     "end_time": "2025-08-05T16:34:34.487496",
     "exception": false,
     "start_time": "2025-08-05T16:34:34.437097",
     "status": "completed"
    },
    "tags": []
   },
   "outputs": [
    {
     "data": {
      "text/html": [
       "<div>\n",
       "<style scoped>\n",
       "    .dataframe tbody tr th:only-of-type {\n",
       "        vertical-align: middle;\n",
       "    }\n",
       "\n",
       "    .dataframe tbody tr th {\n",
       "        vertical-align: top;\n",
       "    }\n",
       "\n",
       "    .dataframe thead th {\n",
       "        text-align: right;\n",
       "    }\n",
       "</style>\n",
       "<table border=\"1\" class=\"dataframe\">\n",
       "  <thead>\n",
       "    <tr style=\"text-align: right;\">\n",
       "      <th></th>\n",
       "      <th>accuracy</th>\n",
       "      <th>balanced accuracy</th>\n",
       "      <th>f1</th>\n",
       "      <th>precision</th>\n",
       "      <th>false positive rate</th>\n",
       "      <th>false negative rate</th>\n",
       "      <th>selection rate</th>\n",
       "      <th>count</th>\n",
       "    </tr>\n",
       "    <tr>\n",
       "      <th>majmin</th>\n",
       "      <th></th>\n",
       "      <th></th>\n",
       "      <th></th>\n",
       "      <th></th>\n",
       "      <th></th>\n",
       "      <th></th>\n",
       "      <th></th>\n",
       "      <th></th>\n",
       "    </tr>\n",
       "  </thead>\n",
       "  <tbody>\n",
       "    <tr>\n",
       "      <th>majority</th>\n",
       "      <td>0.223825</td>\n",
       "      <td>0.544893</td>\n",
       "      <td>0.250440</td>\n",
       "      <td>0.143536</td>\n",
       "      <td>0.891504</td>\n",
       "      <td>0.018709</td>\n",
       "      <td>0.903369</td>\n",
       "      <td>69170.0</td>\n",
       "    </tr>\n",
       "    <tr>\n",
       "      <th>minority</th>\n",
       "      <td>0.198491</td>\n",
       "      <td>0.533801</td>\n",
       "      <td>0.218095</td>\n",
       "      <td>0.122866</td>\n",
       "      <td>0.901992</td>\n",
       "      <td>0.030405</td>\n",
       "      <td>0.909786</td>\n",
       "      <td>20540.0</td>\n",
       "    </tr>\n",
       "  </tbody>\n",
       "</table>\n",
       "</div>"
      ],
      "text/plain": [
       "          accuracy  balanced accuracy        f1  precision  \\\n",
       "majmin                                                       \n",
       "majority  0.223825           0.544893  0.250440   0.143536   \n",
       "minority  0.198491           0.533801  0.218095   0.122866   \n",
       "\n",
       "          false positive rate  false negative rate  selection rate    count  \n",
       "majmin                                                                       \n",
       "majority             0.891504             0.018709        0.903369  69170.0  \n",
       "minority             0.901992             0.030405        0.909786  20540.0  "
      ]
     },
     "execution_count": 62,
     "metadata": {},
     "output_type": "execute_result"
    }
   ],
   "source": [
    "metric_frame.by_group"
   ]
  },
  {
   "cell_type": "code",
   "execution_count": 63,
   "id": "a9ddbe63",
   "metadata": {
    "execution": {
     "iopub.execute_input": "2025-08-05T16:34:34.545423Z",
     "iopub.status.busy": "2025-08-05T16:34:34.544432Z",
     "iopub.status.idle": "2025-08-05T16:34:37.555803Z",
     "shell.execute_reply": "2025-08-05T16:34:37.554181Z"
    },
    "papermill": {
     "duration": 3.042312,
     "end_time": "2025-08-05T16:34:37.558021",
     "exception": false,
     "start_time": "2025-08-05T16:34:34.515709",
     "status": "completed"
    },
    "tags": []
   },
   "outputs": [
    {
     "data": {
      "text/plain": [
       "array([[<Axes: title={'center': 'accuracy'}, xlabel='majmin'>,\n",
       "        <Axes: title={'center': 'balanced accuracy'}, xlabel='majmin'>,\n",
       "        <Axes: title={'center': 'f1'}, xlabel='majmin'>],\n",
       "       [<Axes: title={'center': 'precision'}, xlabel='majmin'>,\n",
       "        <Axes: title={'center': 'false positive rate'}, xlabel='majmin'>,\n",
       "        <Axes: title={'center': 'false negative rate'}, xlabel='majmin'>],\n",
       "       [<Axes: title={'center': 'selection rate'}, xlabel='majmin'>,\n",
       "        <Axes: title={'center': 'count'}, xlabel='majmin'>,\n",
       "        <Axes: xlabel='majmin'>]], dtype=object)"
      ]
     },
     "execution_count": 63,
     "metadata": {},
     "output_type": "execute_result"
    },
    {
     "data": {
      "image/png": "[encoded data removed]",
      "text/plain": [
       "<Figure size 1200x800 with 9 Axes>"
      ]
     },
     "metadata": {},
     "output_type": "display_data"
    }
   ],
   "source": [
    "# In a graphic\n",
    "metric_frame.by_group.plot.bar(\n",
    "    subplots=True,\n",
    "    layout=[3, 3],\n",
    "    legend=False,\n",
    "    figsize=[12, 8],\n",
    "    title=\"Show all metrics\",\n",
    ")"
   ]
  },
  {
   "cell_type": "markdown",
   "id": "f57a0bac",
   "metadata": {
    "papermill": {
     "duration": 0.030151,
     "end_time": "2025-08-05T16:34:37.618546",
     "exception": false,
     "start_time": "2025-08-05T16:34:37.588395",
     "status": "completed"
    },
    "tags": []
   },
   "source": [
    "# Final Output"
   ]
  },
  {
   "cell_type": "code",
   "execution_count": 64,
   "id": "96d280a3",
   "metadata": {
    "execution": {
     "iopub.execute_input": "2025-08-05T16:34:37.685228Z",
     "iopub.status.busy": "2025-08-05T16:34:37.683788Z",
     "iopub.status.idle": "2025-08-05T16:34:37.695588Z",
     "shell.execute_reply": "2025-08-05T16:34:37.694256Z"
    },
    "papermill": {
     "duration": 0.047207,
     "end_time": "2025-08-05T16:34:37.697743",
     "exception": false,
     "start_time": "2025-08-05T16:34:37.650536",
     "status": "completed"
    },
    "tags": []
   },
   "outputs": [
    {
     "data": {
      "text/plain": [
       "4"
      ]
     },
     "execution_count": 64,
     "metadata": {},
     "output_type": "execute_result"
    }
   ],
   "source": [
    "sub_universes = universe_analysis.generate_sub_universes()\n",
    "len(sub_universes)"
   ]
  },
  {
   "cell_type": "code",
   "execution_count": 65,
   "id": "92adf7ba",
   "metadata": {
    "execution": {
     "iopub.execute_input": "2025-08-05T16:34:37.766489Z",
     "iopub.status.busy": "2025-08-05T16:34:37.765290Z",
     "iopub.status.idle": "2025-08-05T16:34:37.775101Z",
     "shell.execute_reply": "2025-08-05T16:34:37.773793Z"
    },
    "papermill": {
     "duration": 0.047071,
     "end_time": "2025-08-05T16:34:37.777183",
     "exception": false,
     "start_time": "2025-08-05T16:34:37.730112",
     "status": "completed"
    },
    "tags": []
   },
   "outputs": [],
   "source": [
    "def filter_sub_universe_data(sub_universe, org_test):\n",
    "    # Keep all rows — no filtering\n",
    "    keep_rows_mask = np.ones(org_test.shape[0], dtype=bool)\n",
    "\n",
    "    print(f\"[INFO] Keeping all rows: {keep_rows_mask.sum()} rows retained.\")\n",
    "    return keep_rows_mask"
   ]
  },
  {
   "cell_type": "code",
   "execution_count": 66,
   "id": "4a759155",
   "metadata": {
    "execution": {
     "iopub.execute_input": "2025-08-05T16:34:37.847803Z",
     "iopub.status.busy": "2025-08-05T16:34:37.846400Z",
     "iopub.status.idle": "2025-08-05T16:34:49.217076Z",
     "shell.execute_reply": "2025-08-05T16:34:49.216004Z"
    },
    "papermill": {
     "duration": 11.40766,
     "end_time": "2025-08-05T16:34:49.219376",
     "exception": false,
     "start_time": "2025-08-05T16:34:37.811716",
     "status": "completed"
    },
    "tags": []
   },
   "outputs": [
    {
     "name": "stdout",
     "output_type": "stream",
     "text": [
      "Stopping execution_time clock.\n",
      "[INFO] Keeping all rows: 89710 rows retained.\n"
     ]
    },
    {
     "name": "stdout",
     "output_type": "stream",
     "text": [
      "[INFO] Keeping all rows: 89710 rows retained.\n"
     ]
    },
    {
     "name": "stdout",
     "output_type": "stream",
     "text": [
      "[INFO] Keeping all rows: 89710 rows retained.\n"
     ]
    },
    {
     "name": "stdout",
     "output_type": "stream",
     "text": [
      "[INFO] Keeping all rows: 89710 rows retained.\n"
     ]
    },
    {
     "data": {
      "text/html": [
       "<div>\n",
       "<style scoped>\n",
       "    .dataframe tbody tr th:only-of-type {\n",
       "        vertical-align: middle;\n",
       "    }\n",
       "\n",
       "    .dataframe tbody tr th {\n",
       "        vertical-align: top;\n",
       "    }\n",
       "\n",
       "    .dataframe thead th {\n",
       "        text-align: right;\n",
       "    }\n",
       "</style>\n",
       "<table border=\"1\" class=\"dataframe\">\n",
       "  <thead>\n",
       "    <tr style=\"text-align: right;\">\n",
       "      <th></th>\n",
       "      <th>run_no</th>\n",
       "      <th>universe_id</th>\n",
       "      <th>universe_settings</th>\n",
       "      <th>execution_time</th>\n",
       "      <th>test_size_n</th>\n",
       "      <th>test_size_frac</th>\n",
       "      <th>fair_main_equalized_odds_difference</th>\n",
       "      <th>fair_main_equalized_odds_ratio</th>\n",
       "      <th>fair_main_demographic_parity_difference</th>\n",
       "      <th>fair_main_demographic_parity_ratio</th>\n",
       "      <th>...</th>\n",
       "      <th>perf_grp_precision_0</th>\n",
       "      <th>perf_grp_precision_1</th>\n",
       "      <th>perf_grp_false positive rate_0</th>\n",
       "      <th>perf_grp_false positive rate_1</th>\n",
       "      <th>perf_grp_false negative rate_0</th>\n",
       "      <th>perf_grp_false negative rate_1</th>\n",
       "      <th>perf_grp_selection rate_0</th>\n",
       "      <th>perf_grp_selection rate_1</th>\n",
       "      <th>perf_grp_count_0</th>\n",
       "      <th>perf_grp_count_1</th>\n",
       "    </tr>\n",
       "  </thead>\n",
       "  <tbody>\n",
       "    <tr>\n",
       "      <th>0</th>\n",
       "      <td>15</td>\n",
       "      <td>3801de5e81fd93924dffc1115d61a0cd</td>\n",
       "      <td>{\"cutoff\": \"quantile_0.1\", \"eval_fairness_grou...</td>\n",
       "      <td>39.462889</td>\n",
       "      <td>89710</td>\n",
       "      <td>1.0</td>\n",
       "      <td>0.011696</td>\n",
       "      <td>0.988081</td>\n",
       "      <td>0.006417</td>\n",
       "      <td>0.992946</td>\n",
       "      <td>...</td>\n",
       "      <td>NaN</td>\n",
       "      <td>NaN</td>\n",
       "      <td>NaN</td>\n",
       "      <td>NaN</td>\n",
       "      <td>NaN</td>\n",
       "      <td>NaN</td>\n",
       "      <td>NaN</td>\n",
       "      <td>NaN</td>\n",
       "      <td>NaN</td>\n",
       "      <td>NaN</td>\n",
       "    </tr>\n",
       "    <tr>\n",
       "      <th>0</th>\n",
       "      <td>15</td>\n",
       "      <td>3801de5e81fd93924dffc1115d61a0cd</td>\n",
       "      <td>{\"cutoff\": \"quantile_0.1\", \"eval_fairness_grou...</td>\n",
       "      <td>39.462889</td>\n",
       "      <td>89710</td>\n",
       "      <td>1.0</td>\n",
       "      <td>0.011696</td>\n",
       "      <td>0.988081</td>\n",
       "      <td>0.006417</td>\n",
       "      <td>0.992946</td>\n",
       "      <td>...</td>\n",
       "      <td>0.122866</td>\n",
       "      <td>0.143536</td>\n",
       "      <td>0.901992</td>\n",
       "      <td>0.891504</td>\n",
       "      <td>0.030405</td>\n",
       "      <td>0.018709</td>\n",
       "      <td>0.909786</td>\n",
       "      <td>0.903369</td>\n",
       "      <td>20540.0</td>\n",
       "      <td>69170.0</td>\n",
       "    </tr>\n",
       "    <tr>\n",
       "      <th>0</th>\n",
       "      <td>15</td>\n",
       "      <td>3801de5e81fd93924dffc1115d61a0cd</td>\n",
       "      <td>{\"cutoff\": \"quantile_0.25\", \"eval_fairness_gro...</td>\n",
       "      <td>39.462889</td>\n",
       "      <td>89710</td>\n",
       "      <td>1.0</td>\n",
       "      <td>0.063838</td>\n",
       "      <td>0.932216</td>\n",
       "      <td>0.008613</td>\n",
       "      <td>0.988900</td>\n",
       "      <td>...</td>\n",
       "      <td>NaN</td>\n",
       "      <td>NaN</td>\n",
       "      <td>NaN</td>\n",
       "      <td>NaN</td>\n",
       "      <td>NaN</td>\n",
       "      <td>NaN</td>\n",
       "      <td>NaN</td>\n",
       "      <td>NaN</td>\n",
       "      <td>NaN</td>\n",
       "      <td>NaN</td>\n",
       "    </tr>\n",
       "    <tr>\n",
       "      <th>0</th>\n",
       "      <td>15</td>\n",
       "      <td>3801de5e81fd93924dffc1115d61a0cd</td>\n",
       "      <td>{\"cutoff\": \"quantile_0.25\", \"eval_fairness_gro...</td>\n",
       "      <td>39.462889</td>\n",
       "      <td>89710</td>\n",
       "      <td>1.0</td>\n",
       "      <td>0.063838</td>\n",
       "      <td>0.932216</td>\n",
       "      <td>0.008613</td>\n",
       "      <td>0.988900</td>\n",
       "      <td>...</td>\n",
       "      <td>0.130435</td>\n",
       "      <td>0.162170</td>\n",
       "      <td>0.762712</td>\n",
       "      <td>0.740830</td>\n",
       "      <td>0.122044</td>\n",
       "      <td>0.058206</td>\n",
       "      <td>0.775998</td>\n",
       "      <td>0.767385</td>\n",
       "      <td>20540.0</td>\n",
       "      <td>69170.0</td>\n",
       "    </tr>\n",
       "  </tbody>\n",
       "</table>\n",
       "<p>4 rows × 50 columns</p>\n",
       "</div>"
      ],
      "text/plain": [
       "  run_no                       universe_id  \\\n",
       "0     15  3801de5e81fd93924dffc1115d61a0cd   \n",
       "0     15  3801de5e81fd93924dffc1115d61a0cd   \n",
       "0     15  3801de5e81fd93924dffc1115d61a0cd   \n",
       "0     15  3801de5e81fd93924dffc1115d61a0cd   \n",
       "\n",
       "                                   universe_settings  execution_time  \\\n",
       "0  {\"cutoff\": \"quantile_0.1\", \"eval_fairness_grou...       39.462889   \n",
       "0  {\"cutoff\": \"quantile_0.1\", \"eval_fairness_grou...       39.462889   \n",
       "0  {\"cutoff\": \"quantile_0.25\", \"eval_fairness_gro...       39.462889   \n",
       "0  {\"cutoff\": \"quantile_0.25\", \"eval_fairness_gro...       39.462889   \n",
       "\n",
       "   test_size_n  test_size_frac  fair_main_equalized_odds_difference  \\\n",
       "0        89710             1.0                             0.011696   \n",
       "0        89710             1.0                             0.011696   \n",
       "0        89710             1.0                             0.063838   \n",
       "0        89710             1.0                             0.063838   \n",
       "\n",
       "   fair_main_equalized_odds_ratio  fair_main_demographic_parity_difference  \\\n",
       "0                        0.988081                                 0.006417   \n",
       "0                        0.988081                                 0.006417   \n",
       "0                        0.932216                                 0.008613   \n",
       "0                        0.932216                                 0.008613   \n",
       "\n",
       "   fair_main_demographic_parity_ratio  ...  perf_grp_precision_0  \\\n",
       "0                            0.992946  ...                   NaN   \n",
       "0                            0.992946  ...              0.122866   \n",
       "0                            0.988900  ...                   NaN   \n",
       "0                            0.988900  ...              0.130435   \n",
       "\n",
       "   perf_grp_precision_1  perf_grp_false positive rate_0  \\\n",
       "0                   NaN                             NaN   \n",
       "0              0.143536                        0.901992   \n",
       "0                   NaN                             NaN   \n",
       "0              0.162170                        0.762712   \n",
       "\n",
       "   perf_grp_false positive rate_1  perf_grp_false negative rate_0  \\\n",
       "0                             NaN                             NaN   \n",
       "0                        0.891504                        0.030405   \n",
       "0                             NaN                             NaN   \n",
       "0                        0.740830                        0.122044   \n",
       "\n",
       "   perf_grp_false negative rate_1  perf_grp_selection rate_0  \\\n",
       "0                             NaN                        NaN   \n",
       "0                        0.018709                   0.909786   \n",
       "0                             NaN                        NaN   \n",
       "0                        0.058206                   0.775998   \n",
       "\n",
       "   perf_grp_selection rate_1  perf_grp_count_0  perf_grp_count_1  \n",
       "0                        NaN               NaN               NaN  \n",
       "0                   0.903369           20540.0           69170.0  \n",
       "0                        NaN               NaN               NaN  \n",
       "0                   0.767385           20540.0           69170.0  \n",
       "\n",
       "[4 rows x 50 columns]"
      ]
     },
     "execution_count": 66,
     "metadata": {},
     "output_type": "execute_result"
    }
   ],
   "source": [
    "final_output = universe_analysis.generate_final_output(\n",
    "    y_pred_prob=probs_test,\n",
    "    y_test=y_true,\n",
    "    org_test=org_test,\n",
    "    filter_data=filter_sub_universe_data,\n",
    "    cp_metrics_df=cp_metrics_df,\n",
    "    save=True,\n",
    ")\n",
    "final_output"
   ]
  }
 ],
 "metadata": {
  "celltoolbar": "Tags",
  "kernelspec": {
   "display_name": "Python (CMA Fairness)",
   "language": "python",
   "name": "cma_fair_env"
  },
  "language_info": {
   "codemirror_mode": {
    "name": "ipython",
    "version": 3
   },
   "file_extension": ".py",
   "mimetype": "text/x-python",
   "name": "python",
   "nbconvert_exporter": "python",
   "pygments_lexer": "ipython3",
   "version": "3.10.12"
  },
  "papermill": {
   "default_parameters": {},
   "duration": 55.729937,
   "end_time": "2025-08-05T16:34:49.974198",
   "environment_variables": {},
   "exception": null,
   "input_path": "universe_analysis.ipynb",
   "output_path": "output/runs/15/notebooks/m_15-3801de5e81fd93924dffc1115d61a0cd.ipynb",
   "parameters": {
    "output_dir": "output",
    "run_no": "15",
    "seed": "2023",
    "universe": "{\"cutoff\": [\"quantile_0.1\", \"quantile_0.25\"], \"eval_fairness_grouping\": [\"majority-minority\", \"nationality-all\"], \"exclude_features\": \"none\", \"exclude_subgroups\": \"drop-non-german\", \"model\": \"rf\", \"scale\": \"scale\", \"training_size\": \"1k\", \"training_year\": \"2010_14\"}",
    "universe_id": "3801de5e81fd93924dffc1115d61a0cd"
   },
   "start_time": "2025-08-05T16:33:54.244261",
   "version": "2.6.0"
  }
 },
 "nbformat": 4,
 "nbformat_minor": 5
}