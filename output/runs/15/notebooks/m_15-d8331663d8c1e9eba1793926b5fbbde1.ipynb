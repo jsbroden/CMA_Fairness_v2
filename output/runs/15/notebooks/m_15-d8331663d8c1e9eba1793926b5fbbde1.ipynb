{
 "cells": [
  {
   "cell_type": "code",
   "execution_count": 1,
   "id": "f159f837-637b-42ba-96b5-ec9a68c44524",
   "metadata": {
    "execution": {
     "iopub.execute_input": "2025-08-05T15:51:59.469322Z",
     "iopub.status.busy": "2025-08-05T15:51:59.468269Z",
     "iopub.status.idle": "2025-08-05T15:51:59.483147Z",
     "shell.execute_reply": "2025-08-05T15:51:59.481923Z"
    },
    "papermill": {
     "duration": 0.039191,
     "end_time": "2025-08-05T15:51:59.484874",
     "exception": false,
     "start_time": "2025-08-05T15:51:59.445683",
     "status": "completed"
    },
    "tags": []
   },
   "outputs": [
    {
     "name": "stdout",
     "output_type": "stream",
     "text": [
      "/dss/dsshome1/0C/ra93lal2/cma/CMA_Fairness_v2\n"
     ]
    },
    {
     "name": "stderr",
     "output_type": "stream",
     "text": [
      "/dss/dsshome1/0C/ra93lal2/.local/share/virtualenvs/CMA_Fairness_v2-3j10GkSs/lib/python3.10/site-packages/IPython/core/magics/osm.py:393: UserWarning: This is now an optional IPython functionality, using bookmarks requires you to install the `pickleshare` library.\n",
      "  bkms = self.shell.db.get('bookmarks', {})\n",
      "/dss/dsshome1/0C/ra93lal2/.local/share/virtualenvs/CMA_Fairness_v2-3j10GkSs/lib/python3.10/site-packages/IPython/core/magics/osm.py:417: UserWarning: This is now an optional IPython functionality, setting dhist requires you to install the `pickleshare` library.\n",
      "  self.shell.db['dhist'] = compress_dhist(dhist)[-100:]\n"
     ]
    }
   ],
   "source": [
    "%cd ~/cma/CMA_Fairness_v2"
   ]
  },
  {
   "cell_type": "markdown",
   "id": "de2603b9",
   "metadata": {
    "papermill": {
     "duration": 0.015938,
     "end_time": "2025-08-05T15:51:59.517494",
     "exception": false,
     "start_time": "2025-08-05T15:51:59.501556",
     "status": "completed"
    },
    "tags": []
   },
   "source": [
    "The following cell holds the definition of our parameters, these values can be overriden by rendering the with e.g. the following command:\n",
    "\n",
    "papermill -p alpha 0.2 -p ratio 0.3 universe_analysis.ipynb output/test_run.ipynb"
   ]
  },
  {
   "cell_type": "code",
   "execution_count": 2,
   "id": "a80968a0-40bb-4fa9-85ef-2d5eefb01975",
   "metadata": {
    "execution": {
     "iopub.execute_input": "2025-08-05T15:51:59.553271Z",
     "iopub.status.busy": "2025-08-05T15:51:59.552447Z",
     "iopub.status.idle": "2025-08-05T15:51:59.558535Z",
     "shell.execute_reply": "2025-08-05T15:51:59.557575Z"
    },
    "papermill": {
     "duration": 0.02586,
     "end_time": "2025-08-05T15:51:59.560211",
     "exception": false,
     "start_time": "2025-08-05T15:51:59.534351",
     "status": "completed"
    },
    "tags": []
   },
   "outputs": [
    {
     "name": "stdout",
     "output_type": "stream",
     "text": [
      "Current working directory: /dss/dsshome1/0C/ra93lal2/cma/CMA_Fairness_v2\n"
     ]
    }
   ],
   "source": [
    "import os\n",
    "print(\"Current working directory:\", os.getcwd())"
   ]
  },
  {
   "cell_type": "code",
   "execution_count": 3,
   "id": "2dce4c03",
   "metadata": {
    "execution": {
     "iopub.execute_input": "2025-08-05T15:51:59.595475Z",
     "iopub.status.busy": "2025-08-05T15:51:59.594773Z",
     "iopub.status.idle": "2025-08-05T15:51:59.600947Z",
     "shell.execute_reply": "2025-08-05T15:51:59.599935Z"
    },
    "papermill": {
     "duration": 0.025807,
     "end_time": "2025-08-05T15:51:59.602930",
     "exception": false,
     "start_time": "2025-08-05T15:51:59.577123",
     "status": "completed"
    },
    "tags": [
     "parameters"
    ]
   },
   "outputs": [],
   "source": [
    "run_no = 0\n",
    "universe_id = \"test\"\n",
    "universe = {\n",
    "    \"training_size\": \"25k\", # \"25k\", \"5k\", \"1k\"\n",
    "    \"training_year\": \"2014\", # \"2014\", \"2012_14\", \"2010_14\"\n",
    "    \"scale\": \"scale\", # \"scale\", \"do-not-scale\",\n",
    "    \"model\": \"elasticnet\", # \"logreg\", \"penalized_logreg\", \"rf\", \"gbm\", \"elasticnet\"\n",
    "    \"cutoff\": [\"quantile_0.15\", \"quantile_0.30\"],\n",
    "    \"exclude_features\": \"age\", # \"none\", \"nationality\", \"sex\", \"nationality-sex\", \"age\"\n",
    "    \"exclude_subgroups\": \"keep-all\", # \"keep-all\", \"drop-non-german\"\n",
    "    \"eval_fairness_grouping\": [\"majority-minority\", \"nationality-all\"]\n",
    "}\n",
    "\n",
    "output_dir=\"./output\"\n",
    "seed=0"
   ]
  },
  {
   "cell_type": "code",
   "execution_count": 4,
   "id": "617bdcf3",
   "metadata": {
    "execution": {
     "iopub.execute_input": "2025-08-05T15:51:59.639796Z",
     "iopub.status.busy": "2025-08-05T15:51:59.638962Z",
     "iopub.status.idle": "2025-08-05T15:51:59.644941Z",
     "shell.execute_reply": "2025-08-05T15:51:59.643911Z"
    },
    "papermill": {
     "duration": 0.025792,
     "end_time": "2025-08-05T15:51:59.646809",
     "exception": false,
     "start_time": "2025-08-05T15:51:59.621017",
     "status": "completed"
    },
    "tags": [
     "injected-parameters"
    ]
   },
   "outputs": [],
   "source": [
    "# Parameters\n",
    "universe_id = \"d8331663d8c1e9eba1793926b5fbbde1\"\n",
    "run_no = \"15\"\n",
    "universe = \"{\\\"cutoff\\\": [\\\"quantile_0.1\\\", \\\"quantile_0.25\\\"], \\\"eval_fairness_grouping\\\": [\\\"majority-minority\\\", \\\"nationality-all\\\"], \\\"exclude_features\\\": \\\"nationality\\\", \\\"exclude_subgroups\\\": \\\"keep-all\\\", \\\"model\\\": \\\"gbm\\\", \\\"scale\\\": \\\"scale\\\", \\\"training_size\\\": \\\"5k\\\", \\\"training_year\\\": \\\"2010_14\\\"}\"\n",
    "output_dir = \"output\"\n",
    "seed = \"2023\"\n"
   ]
  },
  {
   "cell_type": "code",
   "execution_count": 5,
   "id": "1650acaf",
   "metadata": {
    "execution": {
     "iopub.execute_input": "2025-08-05T15:51:59.683516Z",
     "iopub.status.busy": "2025-08-05T15:51:59.682664Z",
     "iopub.status.idle": "2025-08-05T15:51:59.688022Z",
     "shell.execute_reply": "2025-08-05T15:51:59.686948Z"
    },
    "papermill": {
     "duration": 0.024814,
     "end_time": "2025-08-05T15:51:59.689908",
     "exception": false,
     "start_time": "2025-08-05T15:51:59.665094",
     "status": "completed"
    },
    "tags": []
   },
   "outputs": [],
   "source": [
    "import json\n",
    "if isinstance(universe, str):\n",
    "    universe = json.loads(universe)"
   ]
  },
  {
   "cell_type": "code",
   "execution_count": 6,
   "id": "16620c48",
   "metadata": {
    "execution": {
     "iopub.execute_input": "2025-08-05T15:51:59.731189Z",
     "iopub.status.busy": "2025-08-05T15:51:59.730883Z",
     "iopub.status.idle": "2025-08-05T15:51:59.774573Z",
     "shell.execute_reply": "2025-08-05T15:51:59.773564Z"
    },
    "papermill": {
     "duration": 0.066247,
     "end_time": "2025-08-05T15:51:59.776423",
     "exception": false,
     "start_time": "2025-08-05T15:51:59.710176",
     "status": "completed"
    },
    "tags": []
   },
   "outputs": [],
   "source": [
    "# Auto-reload the custom package\n",
    "%load_ext autoreload\n",
    "%autoreload 1\n",
    "%aimport fairness_multiverse"
   ]
  },
  {
   "cell_type": "code",
   "execution_count": 7,
   "id": "01c5c9f3",
   "metadata": {
    "execution": {
     "iopub.execute_input": "2025-08-05T15:51:59.818735Z",
     "iopub.status.busy": "2025-08-05T15:51:59.817799Z",
     "iopub.status.idle": "2025-08-05T15:52:02.414863Z",
     "shell.execute_reply": "2025-08-05T15:52:02.413596Z"
    },
    "papermill": {
     "duration": 2.620543,
     "end_time": "2025-08-05T15:52:02.417396",
     "exception": false,
     "start_time": "2025-08-05T15:51:59.796853",
     "status": "completed"
    },
    "tags": []
   },
   "outputs": [],
   "source": [
    "from fairness_multiverse.universe import UniverseAnalysis\n",
    "\n",
    "universe_analysis = UniverseAnalysis(\n",
    "    run_no = run_no,\n",
    "    universe_id = universe_id,\n",
    "    universe = universe,\n",
    "    output_dir=output_dir,\n",
    ")"
   ]
  },
  {
   "cell_type": "code",
   "execution_count": 8,
   "id": "106241f5",
   "metadata": {
    "execution": {
     "iopub.execute_input": "2025-08-05T15:52:02.472632Z",
     "iopub.status.busy": "2025-08-05T15:52:02.471642Z",
     "iopub.status.idle": "2025-08-05T15:52:02.480827Z",
     "shell.execute_reply": "2025-08-05T15:52:02.479121Z"
    },
    "papermill": {
     "duration": 0.038731,
     "end_time": "2025-08-05T15:52:02.483359",
     "exception": false,
     "start_time": "2025-08-05T15:52:02.444628",
     "status": "completed"
    },
    "tags": []
   },
   "outputs": [
    {
     "name": "stdout",
     "output_type": "stream",
     "text": [
      "Using Seed: 2023\n"
     ]
    }
   ],
   "source": [
    "import numpy as np\n",
    "parsed_seed = int(seed)\n",
    "np.random.seed(parsed_seed)\n",
    "print(f\"Using Seed: {parsed_seed}\")"
   ]
  },
  {
   "cell_type": "markdown",
   "id": "e0ebdc57",
   "metadata": {
    "papermill": {
     "duration": 0.025585,
     "end_time": "2025-08-05T15:52:02.534975",
     "exception": false,
     "start_time": "2025-08-05T15:52:02.509390",
     "status": "completed"
    },
    "tags": []
   },
   "source": [
    "# Loading Data"
   ]
  },
  {
   "cell_type": "code",
   "execution_count": 9,
   "id": "f0496b8a",
   "metadata": {
    "execution": {
     "iopub.execute_input": "2025-08-05T15:52:02.587586Z",
     "iopub.status.busy": "2025-08-05T15:52:02.586632Z",
     "iopub.status.idle": "2025-08-05T15:52:14.492620Z",
     "shell.execute_reply": "2025-08-05T15:52:14.491379Z"
    },
    "papermill": {
     "duration": 11.934626,
     "end_time": "2025-08-05T15:52:14.494615",
     "exception": false,
     "start_time": "2025-08-05T15:52:02.559989",
     "status": "completed"
    },
    "tags": []
   },
   "outputs": [
    {
     "name": "stdout",
     "output_type": "stream",
     "text": [
      "Loading SIAB data from cache: data/siab_cached.csv.gz\n"
     ]
    },
    {
     "name": "stdout",
     "output_type": "stream",
     "text": [
      "(643690, 164)\n"
     ]
    }
   ],
   "source": [
    "from pathlib import Path\n",
    "import pandas as pd\n",
    "\n",
    "# File paths\n",
    "raw_file = Path(\"data/raw/siab.csv\")\n",
    "cache_file = Path(\"data/siab_cached.csv.gz\")\n",
    "\n",
    "# Ensure cache directory exists\n",
    "cache_file.parent.mkdir(parents=True, exist_ok=True)\n",
    "\n",
    "# Load with simple caching\n",
    "if cache_file.exists():\n",
    "    print(f\"Loading SIAB data from cache: {cache_file}\")\n",
    "    siab = pd.read_csv(cache_file, compression='gzip')\n",
    "else:\n",
    "    print(f\"Cache not found. Reading raw SIAB data: {raw_file}\")\n",
    "    siab = pd.read_csv(raw_file)\n",
    "    siab.to_csv(cache_file, index=False, compression='gzip')\n",
    "    print(f\"Cached SIAB data to: {cache_file}\")\n",
    "\n",
    "print(siab.shape)"
   ]
  },
  {
   "cell_type": "code",
   "execution_count": 10,
   "id": "db0ca512-5f53-4dba-abdb-a2888bca41ba",
   "metadata": {
    "execution": {
     "iopub.execute_input": "2025-08-05T15:52:14.534010Z",
     "iopub.status.busy": "2025-08-05T15:52:14.533243Z",
     "iopub.status.idle": "2025-08-05T15:52:14.539135Z",
     "shell.execute_reply": "2025-08-05T15:52:14.538083Z"
    },
    "papermill": {
     "duration": 0.027083,
     "end_time": "2025-08-05T15:52:14.541053",
     "exception": false,
     "start_time": "2025-08-05T15:52:14.513970",
     "status": "completed"
    },
    "tags": []
   },
   "outputs": [],
   "source": [
    "#siab"
   ]
  },
  {
   "cell_type": "markdown",
   "id": "997051c5-15bd-4b69-9786-c3001a3ce484",
   "metadata": {
    "papermill": {
     "duration": 0.017339,
     "end_time": "2025-08-05T15:52:14.577250",
     "exception": false,
     "start_time": "2025-08-05T15:52:14.559911",
     "status": "completed"
    },
    "tags": []
   },
   "source": [
    "# Splitting Data and Setting Training Data Size"
   ]
  },
  {
   "cell_type": "code",
   "execution_count": 11,
   "id": "aea9c6ef-6f46-42c8-85eb-5a62025c1508",
   "metadata": {
    "execution": {
     "iopub.execute_input": "2025-08-05T15:52:14.614791Z",
     "iopub.status.busy": "2025-08-05T15:52:14.613900Z",
     "iopub.status.idle": "2025-08-05T15:52:15.631072Z",
     "shell.execute_reply": "2025-08-05T15:52:15.629962Z"
    },
    "papermill": {
     "duration": 1.038443,
     "end_time": "2025-08-05T15:52:15.633432",
     "exception": false,
     "start_time": "2025-08-05T15:52:14.594989",
     "status": "completed"
    },
    "tags": []
   },
   "outputs": [],
   "source": [
    "from fairness_multiverse.universe import sample_by_year_size\n",
    "\n",
    "siab_train = sample_by_year_size(siab,\n",
    "                               training_year=universe[\"training_year\"],\n",
    "                               training_size=universe[\"training_size\"])"
   ]
  },
  {
   "cell_type": "code",
   "execution_count": 12,
   "id": "8d3afb32-789d-442c-8d5d-9f5aa8dd2eed",
   "metadata": {
    "execution": {
     "iopub.execute_input": "2025-08-05T15:52:15.676681Z",
     "iopub.status.busy": "2025-08-05T15:52:15.675756Z",
     "iopub.status.idle": "2025-08-05T15:52:15.681542Z",
     "shell.execute_reply": "2025-08-05T15:52:15.680215Z"
    },
    "papermill": {
     "duration": 0.029861,
     "end_time": "2025-08-05T15:52:15.684717",
     "exception": false,
     "start_time": "2025-08-05T15:52:15.654856",
     "status": "completed"
    },
    "tags": []
   },
   "outputs": [],
   "source": [
    "#siab_train.shape"
   ]
  },
  {
   "cell_type": "code",
   "execution_count": 13,
   "id": "d582db68-1a4c-47fb-84fc-08518dc1975a",
   "metadata": {
    "execution": {
     "iopub.execute_input": "2025-08-05T15:52:15.712074Z",
     "iopub.status.busy": "2025-08-05T15:52:15.711202Z",
     "iopub.status.idle": "2025-08-05T15:52:15.716647Z",
     "shell.execute_reply": "2025-08-05T15:52:15.715594Z"
    },
    "papermill": {
     "duration": 0.024276,
     "end_time": "2025-08-05T15:52:15.718645",
     "exception": false,
     "start_time": "2025-08-05T15:52:15.694369",
     "status": "completed"
    },
    "tags": []
   },
   "outputs": [],
   "source": [
    "#display(siab_train.groupby(\"year\").size())"
   ]
  },
  {
   "cell_type": "code",
   "execution_count": 14,
   "id": "a561edb4-d032-42cb-8256-22eac1111c64",
   "metadata": {
    "execution": {
     "iopub.execute_input": "2025-08-05T15:52:15.761785Z",
     "iopub.status.busy": "2025-08-05T15:52:15.761040Z",
     "iopub.status.idle": "2025-08-05T15:52:15.997873Z",
     "shell.execute_reply": "2025-08-05T15:52:15.996771Z"
    },
    "papermill": {
     "duration": 0.260528,
     "end_time": "2025-08-05T15:52:15.999941",
     "exception": false,
     "start_time": "2025-08-05T15:52:15.739413",
     "status": "completed"
    },
    "tags": []
   },
   "outputs": [],
   "source": [
    "#siab_train = siab_s[siab_s.year < 2015]\n",
    "siab_calib = siab[siab.year == 2015]\n",
    "siab_test = siab[siab.year == 2016]"
   ]
  },
  {
   "cell_type": "code",
   "execution_count": 15,
   "id": "472de16f-c3db-4916-846b-1f0de9cf1746",
   "metadata": {
    "execution": {
     "iopub.execute_input": "2025-08-05T15:52:16.038984Z",
     "iopub.status.busy": "2025-08-05T15:52:16.038508Z",
     "iopub.status.idle": "2025-08-05T15:52:16.046458Z",
     "shell.execute_reply": "2025-08-05T15:52:16.045563Z"
    },
    "papermill": {
     "duration": 0.029579,
     "end_time": "2025-08-05T15:52:16.048642",
     "exception": false,
     "start_time": "2025-08-05T15:52:16.019063",
     "status": "completed"
    },
    "tags": []
   },
   "outputs": [],
   "source": [
    "X_train = siab_train.iloc[:,4:164]\n",
    "y_train = siab_train.iloc[:, [3]]"
   ]
  },
  {
   "cell_type": "code",
   "execution_count": 16,
   "id": "828c96af-f43a-4ed6-ba47-8ac73a47d56c",
   "metadata": {
    "execution": {
     "iopub.execute_input": "2025-08-05T15:52:16.087309Z",
     "iopub.status.busy": "2025-08-05T15:52:16.086621Z",
     "iopub.status.idle": "2025-08-05T15:52:16.140193Z",
     "shell.execute_reply": "2025-08-05T15:52:16.139047Z"
    },
    "papermill": {
     "duration": 0.075078,
     "end_time": "2025-08-05T15:52:16.142427",
     "exception": false,
     "start_time": "2025-08-05T15:52:16.067349",
     "status": "completed"
    },
    "tags": []
   },
   "outputs": [],
   "source": [
    "X_calib = siab_calib.iloc[:,4:164]\n",
    "y_calib = siab_calib.iloc[:, [3]]"
   ]
  },
  {
   "cell_type": "code",
   "execution_count": 17,
   "id": "c34be9c3-6bd6-476e-acd3-845840e303be",
   "metadata": {
    "execution": {
     "iopub.execute_input": "2025-08-05T15:52:16.181182Z",
     "iopub.status.busy": "2025-08-05T15:52:16.180510Z",
     "iopub.status.idle": "2025-08-05T15:52:16.233687Z",
     "shell.execute_reply": "2025-08-05T15:52:16.232381Z"
    },
    "papermill": {
     "duration": 0.073979,
     "end_time": "2025-08-05T15:52:16.235958",
     "exception": false,
     "start_time": "2025-08-05T15:52:16.161979",
     "status": "completed"
    },
    "tags": []
   },
   "outputs": [],
   "source": [
    "X_test = siab_test.iloc[:,4:164]\n",
    "y_true = siab_test.iloc[:, [3]]"
   ]
  },
  {
   "cell_type": "code",
   "execution_count": 18,
   "id": "e6c733c5",
   "metadata": {
    "execution": {
     "iopub.execute_input": "2025-08-05T15:52:16.279874Z",
     "iopub.status.busy": "2025-08-05T15:52:16.278714Z",
     "iopub.status.idle": "2025-08-05T15:52:16.374797Z",
     "shell.execute_reply": "2025-08-05T15:52:16.373812Z"
    },
    "papermill": {
     "duration": 0.118467,
     "end_time": "2025-08-05T15:52:16.376632",
     "exception": false,
     "start_time": "2025-08-05T15:52:16.258165",
     "status": "completed"
    },
    "tags": []
   },
   "outputs": [],
   "source": [
    "# Auxiliary data needed downstream in the pipeline\n",
    "\n",
    "org_train = X_train.copy()\n",
    "org_test = X_test.copy()\n",
    "org_calib = X_calib.copy()"
   ]
  },
  {
   "cell_type": "markdown",
   "id": "0a4a1b33",
   "metadata": {
    "papermill": {
     "duration": 0.018379,
     "end_time": "2025-08-05T15:52:16.415187",
     "exception": false,
     "start_time": "2025-08-05T15:52:16.396808",
     "status": "completed"
    },
    "tags": []
   },
   "source": [
    "# Preprocessing Data"
   ]
  },
  {
   "cell_type": "code",
   "execution_count": 19,
   "id": "ca879031",
   "metadata": {
    "execution": {
     "iopub.execute_input": "2025-08-05T15:52:16.452898Z",
     "iopub.status.busy": "2025-08-05T15:52:16.452208Z",
     "iopub.status.idle": "2025-08-05T15:52:16.458757Z",
     "shell.execute_reply": "2025-08-05T15:52:16.457556Z"
    },
    "papermill": {
     "duration": 0.027599,
     "end_time": "2025-08-05T15:52:16.460683",
     "exception": false,
     "start_time": "2025-08-05T15:52:16.433084",
     "status": "completed"
    },
    "tags": []
   },
   "outputs": [],
   "source": [
    "# EXCLUDE PROTECTED FEATURES\n",
    "# ----------------------\n",
    "# \"exclude_features\": \"none\", # \"nationality\", \"sex\", \"nationality-sex\"\n",
    "\n",
    "excluded_features = universe[\"exclude_features\"].split(\"-\") # split, e.g.: \"nationality-sex\" -> [\"nationality\", \"sex\"]\n",
    "excluded_features_dictionary = {\n",
    "    \"nationality\": [\"maxdeutsch1\", \"maxdeutsch.Missing.\"],\n",
    "    \"sex\": [\"frau1\"],\n",
    "    \"age\": [\"age\"],\n",
    "}"
   ]
  },
  {
   "cell_type": "code",
   "execution_count": 20,
   "id": "b745ac60",
   "metadata": {
    "execution": {
     "iopub.execute_input": "2025-08-05T15:52:16.501399Z",
     "iopub.status.busy": "2025-08-05T15:52:16.500698Z",
     "iopub.status.idle": "2025-08-05T15:52:16.506679Z",
     "shell.execute_reply": "2025-08-05T15:52:16.505640Z"
    },
    "papermill": {
     "duration": 0.027795,
     "end_time": "2025-08-05T15:52:16.508385",
     "exception": false,
     "start_time": "2025-08-05T15:52:16.480590",
     "status": "completed"
    },
    "tags": []
   },
   "outputs": [],
   "source": [
    "# Code nice names to column names\n",
    "\n",
    "excluded_features_columns = [\n",
    "    excluded_features_dictionary[f] for f in excluded_features if len(f) > 0 and f != \"none\"\n",
    "]"
   ]
  },
  {
   "cell_type": "code",
   "execution_count": 21,
   "id": "f84f73a2",
   "metadata": {
    "execution": {
     "iopub.execute_input": "2025-08-05T15:52:16.548486Z",
     "iopub.status.busy": "2025-08-05T15:52:16.547564Z",
     "iopub.status.idle": "2025-08-05T15:52:16.554171Z",
     "shell.execute_reply": "2025-08-05T15:52:16.553086Z"
    },
    "papermill": {
     "duration": 0.02846,
     "end_time": "2025-08-05T15:52:16.555977",
     "exception": false,
     "start_time": "2025-08-05T15:52:16.527517",
     "status": "completed"
    },
    "tags": []
   },
   "outputs": [],
   "source": [
    "from utils import flatten_once\n",
    "\n",
    "excluded_features_columns = flatten_once(excluded_features_columns)"
   ]
  },
  {
   "cell_type": "code",
   "execution_count": 22,
   "id": "884dea22",
   "metadata": {
    "execution": {
     "iopub.execute_input": "2025-08-05T15:52:16.601288Z",
     "iopub.status.busy": "2025-08-05T15:52:16.600348Z",
     "iopub.status.idle": "2025-08-05T15:52:16.610338Z",
     "shell.execute_reply": "2025-08-05T15:52:16.609236Z"
    },
    "papermill": {
     "duration": 0.032937,
     "end_time": "2025-08-05T15:52:16.612098",
     "exception": false,
     "start_time": "2025-08-05T15:52:16.579161",
     "status": "completed"
    },
    "tags": []
   },
   "outputs": [
    {
     "name": "stdout",
     "output_type": "stream",
     "text": [
      "Dropping features: ['maxdeutsch1', 'maxdeutsch.Missing.']\n"
     ]
    }
   ],
   "source": [
    "if len(excluded_features_columns) > 0:\n",
    "    print(f\"Dropping features: {excluded_features_columns}\")\n",
    "    X_train.drop(excluded_features_columns, axis=1, inplace=True)"
   ]
  },
  {
   "cell_type": "code",
   "execution_count": 23,
   "id": "95ab8b16",
   "metadata": {
    "execution": {
     "iopub.execute_input": "2025-08-05T15:52:16.652740Z",
     "iopub.status.busy": "2025-08-05T15:52:16.651732Z",
     "iopub.status.idle": "2025-08-05T15:52:16.707154Z",
     "shell.execute_reply": "2025-08-05T15:52:16.705933Z"
    },
    "papermill": {
     "duration": 0.07745,
     "end_time": "2025-08-05T15:52:16.709192",
     "exception": false,
     "start_time": "2025-08-05T15:52:16.631742",
     "status": "completed"
    },
    "tags": []
   },
   "outputs": [
    {
     "name": "stdout",
     "output_type": "stream",
     "text": [
      "Dropping features: ['maxdeutsch1', 'maxdeutsch.Missing.']\n"
     ]
    }
   ],
   "source": [
    "if len(excluded_features_columns) > 0:\n",
    "    print(f\"Dropping features: {excluded_features_columns}\")\n",
    "    X_test.drop(excluded_features_columns, axis=1, inplace=True)"
   ]
  },
  {
   "cell_type": "code",
   "execution_count": 24,
   "id": "1853aaf5-fb9f-46cb-a2b5-8ea4ae2237e4",
   "metadata": {
    "execution": {
     "iopub.execute_input": "2025-08-05T15:52:16.752954Z",
     "iopub.status.busy": "2025-08-05T15:52:16.751888Z",
     "iopub.status.idle": "2025-08-05T15:52:16.804434Z",
     "shell.execute_reply": "2025-08-05T15:52:16.803253Z"
    },
    "papermill": {
     "duration": 0.076833,
     "end_time": "2025-08-05T15:52:16.806578",
     "exception": false,
     "start_time": "2025-08-05T15:52:16.729745",
     "status": "completed"
    },
    "tags": []
   },
   "outputs": [
    {
     "name": "stdout",
     "output_type": "stream",
     "text": [
      "Dropping features: ['maxdeutsch1', 'maxdeutsch.Missing.']\n"
     ]
    }
   ],
   "source": [
    "if len(excluded_features_columns) > 0:\n",
    "    print(f\"Dropping features: {excluded_features_columns}\")\n",
    "    X_calib.drop(excluded_features_columns, axis=1, inplace=True)"
   ]
  },
  {
   "cell_type": "code",
   "execution_count": 25,
   "id": "76c4dc6d",
   "metadata": {
    "execution": {
     "iopub.execute_input": "2025-08-05T15:52:16.848300Z",
     "iopub.status.busy": "2025-08-05T15:52:16.847599Z",
     "iopub.status.idle": "2025-08-05T15:52:16.853313Z",
     "shell.execute_reply": "2025-08-05T15:52:16.852298Z"
    },
    "papermill": {
     "duration": 0.027301,
     "end_time": "2025-08-05T15:52:16.855208",
     "exception": false,
     "start_time": "2025-08-05T15:52:16.827907",
     "status": "completed"
    },
    "tags": []
   },
   "outputs": [],
   "source": [
    "# EXCLUDE CERTAIN SUBGROUPS\n",
    "# ----------------------\n",
    "\n",
    "mode = universe.get(\"exclude_subgroups\", \"keep-all\") \n",
    "# Fetches the exclude_subgroups setting from the universe dict.\n",
    "# Defaults to \"keep-all\" if the key is missing."
   ]
  },
  {
   "cell_type": "code",
   "execution_count": 26,
   "id": "21994072",
   "metadata": {
    "execution": {
     "iopub.execute_input": "2025-08-05T15:52:16.897251Z",
     "iopub.status.busy": "2025-08-05T15:52:16.896280Z",
     "iopub.status.idle": "2025-08-05T15:52:16.903822Z",
     "shell.execute_reply": "2025-08-05T15:52:16.902838Z"
    },
    "papermill": {
     "duration": 0.029882,
     "end_time": "2025-08-05T15:52:16.905665",
     "exception": false,
     "start_time": "2025-08-05T15:52:16.875783",
     "status": "completed"
    },
    "tags": []
   },
   "outputs": [],
   "source": [
    "if mode == \"keep-all\":\n",
    "    keep_mask = pd.Series(True, index=org_train.index)\n",
    "\n",
    "# org_train contains the original feature columns from features_org (in Simson)\n",
    "# features_org contains unprocessed features, for me X_train at beginning ???\n",
    "# For keep-all, creates a boolean Series (keep_mask) of all True, so no rows are removed.\n",
    "\n",
    "elif mode == \"drop-non-german\":\n",
    "    keep_mask = org_train[\"maxdeutsch1\"] == 1 # ??? what about missing values?\n",
    "\n",
    "else:\n",
    "    raise ValueError(f\"Unsupported mode for exclude_subgroups: {mode}\")"
   ]
  },
  {
   "cell_type": "code",
   "execution_count": 27,
   "id": "71651440",
   "metadata": {
    "execution": {
     "iopub.execute_input": "2025-08-05T15:52:16.945758Z",
     "iopub.status.busy": "2025-08-05T15:52:16.945216Z",
     "iopub.status.idle": "2025-08-05T15:52:16.951848Z",
     "shell.execute_reply": "2025-08-05T15:52:16.950878Z"
    },
    "papermill": {
     "duration": 0.028719,
     "end_time": "2025-08-05T15:52:16.953997",
     "exception": false,
     "start_time": "2025-08-05T15:52:16.925278",
     "status": "completed"
    },
    "tags": []
   },
   "outputs": [],
   "source": [
    "n_drop = (~keep_mask).sum() # Calculates how many rows are set to be dropped\n",
    "if n_drop > 0:\n",
    "    pct = n_drop / len(keep_mask) * 100\n",
    "    print(f\"Dropping {n_drop} rows ({pct:.2f}%) where mode='{mode}'\")"
   ]
  },
  {
   "cell_type": "code",
   "execution_count": 28,
   "id": "5fb8eee5",
   "metadata": {
    "execution": {
     "iopub.execute_input": "2025-08-05T15:52:16.995129Z",
     "iopub.status.busy": "2025-08-05T15:52:16.994450Z",
     "iopub.status.idle": "2025-08-05T15:52:17.002722Z",
     "shell.execute_reply": "2025-08-05T15:52:17.001640Z"
    },
    "papermill": {
     "duration": 0.029625,
     "end_time": "2025-08-05T15:52:17.004591",
     "exception": false,
     "start_time": "2025-08-05T15:52:16.974966",
     "status": "completed"
    },
    "tags": []
   },
   "outputs": [],
   "source": [
    "X_train = X_train[keep_mask]"
   ]
  },
  {
   "cell_type": "code",
   "execution_count": 29,
   "id": "b202bb3a",
   "metadata": {
    "execution": {
     "iopub.execute_input": "2025-08-05T15:52:17.046689Z",
     "iopub.status.busy": "2025-08-05T15:52:17.046008Z",
     "iopub.status.idle": "2025-08-05T15:52:17.052386Z",
     "shell.execute_reply": "2025-08-05T15:52:17.051346Z"
    },
    "papermill": {
     "duration": 0.028473,
     "end_time": "2025-08-05T15:52:17.054096",
     "exception": false,
     "start_time": "2025-08-05T15:52:17.025623",
     "status": "completed"
    },
    "tags": []
   },
   "outputs": [],
   "source": [
    "y_train = y_train[keep_mask]"
   ]
  },
  {
   "cell_type": "markdown",
   "id": "493e2ac3",
   "metadata": {
    "papermill": {
     "duration": 0.01979,
     "end_time": "2025-08-05T15:52:17.092941",
     "exception": false,
     "start_time": "2025-08-05T15:52:17.073151",
     "status": "completed"
    },
    "tags": []
   },
   "source": [
    "# Model Training"
   ]
  },
  {
   "cell_type": "code",
   "execution_count": 30,
   "id": "679e1268",
   "metadata": {
    "execution": {
     "iopub.execute_input": "2025-08-05T15:52:17.134079Z",
     "iopub.status.busy": "2025-08-05T15:52:17.133090Z",
     "iopub.status.idle": "2025-08-05T15:52:17.289945Z",
     "shell.execute_reply": "2025-08-05T15:52:17.288745Z"
    },
    "papermill": {
     "duration": 0.17967,
     "end_time": "2025-08-05T15:52:17.292369",
     "exception": false,
     "start_time": "2025-08-05T15:52:17.112699",
     "status": "completed"
    },
    "tags": []
   },
   "outputs": [],
   "source": [
    "from sklearn.linear_model import LogisticRegression\n",
    "from sklearn.ensemble import GradientBoostingClassifier, RandomForestClassifier\n",
    "\n",
    "if (universe[\"model\"] == \"logreg\"):\n",
    "    model = LogisticRegression() #penalty=\"none\", solver=\"newton-cg\", max_iter=1) # include random_state=19 ?\n",
    "elif (universe[\"model\"] == \"penalized_logreg\"):\n",
    "    model = LogisticRegression(penalty=\"l2\", C=0.1) #, solver=\"newton-cg\", max_iter=1)\n",
    "elif (universe[\"model\"] == \"rf\"):\n",
    "    model = RandomForestClassifier() # n_estimators=100, n_jobs=-1\n",
    "elif (universe[\"model\"] == \"gbm\"):\n",
    "    model = GradientBoostingClassifier()\n",
    "elif (universe[\"model\"] == \"elasticnet\"):\n",
    "    model = LogisticRegression(penalty = 'elasticnet', solver = 'saga', l1_ratio = 0.5) # max_iter=5000\n",
    "else:\n",
    "    raise \"Unsupported universe.model\""
   ]
  },
  {
   "cell_type": "code",
   "execution_count": 31,
   "id": "0cc8f744",
   "metadata": {
    "execution": {
     "iopub.execute_input": "2025-08-05T15:52:17.335869Z",
     "iopub.status.busy": "2025-08-05T15:52:17.335184Z",
     "iopub.status.idle": "2025-08-05T15:52:17.341980Z",
     "shell.execute_reply": "2025-08-05T15:52:17.340888Z"
    },
    "papermill": {
     "duration": 0.029496,
     "end_time": "2025-08-05T15:52:17.343639",
     "exception": false,
     "start_time": "2025-08-05T15:52:17.314143",
     "status": "completed"
    },
    "tags": []
   },
   "outputs": [],
   "source": [
    "import numpy as np\n",
    "from sklearn.pipeline import Pipeline\n",
    "from sklearn.preprocessing import StandardScaler\n",
    "\n",
    "model = Pipeline([\n",
    "    #(\"continuous_processor\", continuous_processor),\n",
    "    #(\"categorical_preprocessor\", categorical_preprocessor),\n",
    "    (\"scale\", StandardScaler() if universe[\"scale\"] == \"scale\" else None), \n",
    "    (\"model\", model),\n",
    "])"
   ]
  },
  {
   "cell_type": "code",
   "execution_count": 32,
   "id": "9442c04d",
   "metadata": {
    "execution": {
     "iopub.execute_input": "2025-08-05T15:52:17.386197Z",
     "iopub.status.busy": "2025-08-05T15:52:17.385482Z",
     "iopub.status.idle": "2025-08-05T15:52:21.441588Z",
     "shell.execute_reply": "2025-08-05T15:52:21.440559Z"
    },
    "papermill": {
     "duration": 4.079404,
     "end_time": "2025-08-05T15:52:21.443337",
     "exception": false,
     "start_time": "2025-08-05T15:52:17.363933",
     "status": "completed"
    },
    "tags": []
   },
   "outputs": [
    {
     "data": {
      "text/html": [
       "<style>#sk-container-id-1 {color: black;background-color: white;}#sk-container-id-1 pre{padding: 0;}#sk-container-id-1 div.sk-toggleable {background-color: white;}#sk-container-id-1 label.sk-toggleable__label {cursor: pointer;display: block;width: 100%;margin-bottom: 0;padding: 0.3em;box-sizing: border-box;text-align: center;}#sk-container-id-1 label.sk-toggleable__label-arrow:before {content: \"▸\";float: left;margin-right: 0.25em;color: #696969;}#sk-container-id-1 label.sk-toggleable__label-arrow:hover:before {color: black;}#sk-container-id-1 div.sk-estimator:hover label.sk-toggleable__label-arrow:before {color: black;}#sk-container-id-1 div.sk-toggleable__content {max-height: 0;max-width: 0;overflow: hidden;text-align: left;background-color: #f0f8ff;}#sk-container-id-1 div.sk-toggleable__content pre {margin: 0.2em;color: black;border-radius: 0.25em;background-color: #f0f8ff;}#sk-container-id-1 input.sk-toggleable__control:checked~div.sk-toggleable__content {max-height: 200px;max-width: 100%;overflow: auto;}#sk-container-id-1 input.sk-toggleable__control:checked~label.sk-toggleable__label-arrow:before {content: \"▾\";}#sk-container-id-1 div.sk-estimator input.sk-toggleable__control:checked~label.sk-toggleable__label {background-color: #d4ebff;}#sk-container-id-1 div.sk-label input.sk-toggleable__control:checked~label.sk-toggleable__label {background-color: #d4ebff;}#sk-container-id-1 input.sk-hidden--visually {border: 0;clip: rect(1px 1px 1px 1px);clip: rect(1px, 1px, 1px, 1px);height: 1px;margin: -1px;overflow: hidden;padding: 0;position: absolute;width: 1px;}#sk-container-id-1 div.sk-estimator {font-family: monospace;background-color: #f0f8ff;border: 1px dotted black;border-radius: 0.25em;box-sizing: border-box;margin-bottom: 0.5em;}#sk-container-id-1 div.sk-estimator:hover {background-color: #d4ebff;}#sk-container-id-1 div.sk-parallel-item::after {content: \"\";width: 100%;border-bottom: 1px solid gray;flex-grow: 1;}#sk-container-id-1 div.sk-label:hover label.sk-toggleable__label {background-color: #d4ebff;}#sk-container-id-1 div.sk-serial::before {content: \"\";position: absolute;border-left: 1px solid gray;box-sizing: border-box;top: 0;bottom: 0;left: 50%;z-index: 0;}#sk-container-id-1 div.sk-serial {display: flex;flex-direction: column;align-items: center;background-color: white;padding-right: 0.2em;padding-left: 0.2em;position: relative;}#sk-container-id-1 div.sk-item {position: relative;z-index: 1;}#sk-container-id-1 div.sk-parallel {display: flex;align-items: stretch;justify-content: center;background-color: white;position: relative;}#sk-container-id-1 div.sk-item::before, #sk-container-id-1 div.sk-parallel-item::before {content: \"\";position: absolute;border-left: 1px solid gray;box-sizing: border-box;top: 0;bottom: 0;left: 50%;z-index: -1;}#sk-container-id-1 div.sk-parallel-item {display: flex;flex-direction: column;z-index: 1;position: relative;background-color: white;}#sk-container-id-1 div.sk-parallel-item:first-child::after {align-self: flex-end;width: 50%;}#sk-container-id-1 div.sk-parallel-item:last-child::after {align-self: flex-start;width: 50%;}#sk-container-id-1 div.sk-parallel-item:only-child::after {width: 0;}#sk-container-id-1 div.sk-dashed-wrapped {border: 1px dashed gray;margin: 0 0.4em 0.5em 0.4em;box-sizing: border-box;padding-bottom: 0.4em;background-color: white;}#sk-container-id-1 div.sk-label label {font-family: monospace;font-weight: bold;display: inline-block;line-height: 1.2em;}#sk-container-id-1 div.sk-label-container {text-align: center;}#sk-container-id-1 div.sk-container {/* jupyter's `normalize.less` sets `[hidden] { display: none; }` but bootstrap.min.css set `[hidden] { display: none !important; }` so we also need the `!important` here to be able to override the default hidden behavior on the sphinx rendered scikit-learn.org. See: https://github.com/scikit-learn/scikit-learn/issues/21755 */display: inline-block !important;position: relative;}#sk-container-id-1 div.sk-text-repr-fallback {display: none;}</style><div id=\"sk-container-id-1\" class=\"sk-top-container\"><div class=\"sk-text-repr-fallback\"><pre>Pipeline(steps=[(&#x27;scale&#x27;, StandardScaler()),\n",
       "                (&#x27;model&#x27;, GradientBoostingClassifier())])</pre><b>In a Jupyter environment, please rerun this cell to show the HTML representation or trust the notebook. <br />On GitHub, the HTML representation is unable to render, please try loading this page with nbviewer.org.</b></div><div class=\"sk-container\" hidden><div class=\"sk-item sk-dashed-wrapped\"><div class=\"sk-label-container\"><div class=\"sk-label sk-toggleable\"><input class=\"sk-toggleable__control sk-hidden--visually\" id=\"sk-estimator-id-1\" type=\"checkbox\" ><label for=\"sk-estimator-id-1\" class=\"sk-toggleable__label sk-toggleable__label-arrow\">Pipeline</label><div class=\"sk-toggleable__content\"><pre>Pipeline(steps=[(&#x27;scale&#x27;, StandardScaler()),\n",
       "                (&#x27;model&#x27;, GradientBoostingClassifier())])</pre></div></div></div><div class=\"sk-serial\"><div class=\"sk-item\"><div class=\"sk-estimator sk-toggleable\"><input class=\"sk-toggleable__control sk-hidden--visually\" id=\"sk-estimator-id-2\" type=\"checkbox\" ><label for=\"sk-estimator-id-2\" class=\"sk-toggleable__label sk-toggleable__label-arrow\">StandardScaler</label><div class=\"sk-toggleable__content\"><pre>StandardScaler()</pre></div></div></div><div class=\"sk-item\"><div class=\"sk-estimator sk-toggleable\"><input class=\"sk-toggleable__control sk-hidden--visually\" id=\"sk-estimator-id-3\" type=\"checkbox\" ><label for=\"sk-estimator-id-3\" class=\"sk-toggleable__label sk-toggleable__label-arrow\">GradientBoostingClassifier</label><div class=\"sk-toggleable__content\"><pre>GradientBoostingClassifier()</pre></div></div></div></div></div></div></div>"
      ],
      "text/plain": [
       "Pipeline(steps=[('scale', StandardScaler()),\n",
       "                ('model', GradientBoostingClassifier())])"
      ]
     },
     "execution_count": 32,
     "metadata": {},
     "output_type": "execute_result"
    }
   ],
   "source": [
    "model.fit(X_train, y_train.values.ravel())"
   ]
  },
  {
   "cell_type": "code",
   "execution_count": 33,
   "id": "af59f8c0",
   "metadata": {
    "execution": {
     "iopub.execute_input": "2025-08-05T15:52:21.485783Z",
     "iopub.status.busy": "2025-08-05T15:52:21.484912Z",
     "iopub.status.idle": "2025-08-05T15:52:21.491636Z",
     "shell.execute_reply": "2025-08-05T15:52:21.490462Z"
    },
    "papermill": {
     "duration": 0.029034,
     "end_time": "2025-08-05T15:52:21.493335",
     "exception": false,
     "start_time": "2025-08-05T15:52:21.464301",
     "status": "completed"
    },
    "tags": []
   },
   "outputs": [],
   "source": [
    "from fairness_multiverse.universe import predict_w_threshold"
   ]
  },
  {
   "cell_type": "code",
   "execution_count": 34,
   "id": "a7cf2e16",
   "metadata": {
    "execution": {
     "iopub.execute_input": "2025-08-05T15:52:21.536097Z",
     "iopub.status.busy": "2025-08-05T15:52:21.535107Z",
     "iopub.status.idle": "2025-08-05T15:52:22.505612Z",
     "shell.execute_reply": "2025-08-05T15:52:22.504639Z"
    },
    "papermill": {
     "duration": 0.993939,
     "end_time": "2025-08-05T15:52:22.507316",
     "exception": false,
     "start_time": "2025-08-05T15:52:21.513377",
     "status": "completed"
    },
    "tags": []
   },
   "outputs": [
    {
     "data": {
      "text/plain": [
       "0.8603165756325939"
      ]
     },
     "execution_count": 34,
     "metadata": {},
     "output_type": "execute_result"
    }
   ],
   "source": [
    "probs_test = model.predict_proba(X_test)\n",
    "\n",
    "'''\n",
    "Below code returns a boolean array (or binary 0/1 array depending on how it’s used) where each element \n",
    "is True if the probability of class 1 is greater than or equal to the threshold, and False otherwise.\n",
    "'''\n",
    "y_pred_default = predict_w_threshold(probs_test, 0.5)\n",
    "\n",
    "from sklearn.metrics import accuracy_score\n",
    "\n",
    "# Naive prediction\n",
    "accuracy_score(y_true = y_true, y_pred = y_pred_default)"
   ]
  },
  {
   "cell_type": "code",
   "execution_count": 35,
   "id": "081964c3",
   "metadata": {
    "execution": {
     "iopub.execute_input": "2025-08-05T15:52:22.557270Z",
     "iopub.status.busy": "2025-08-05T15:52:22.556479Z",
     "iopub.status.idle": "2025-08-05T15:52:23.370450Z",
     "shell.execute_reply": "2025-08-05T15:52:23.369397Z"
    },
    "papermill": {
     "duration": 0.826632,
     "end_time": "2025-08-05T15:52:23.371785",
     "exception": false,
     "start_time": "2025-08-05T15:52:22.545153",
     "status": "completed"
    },
    "tags": []
   },
   "outputs": [
    {
     "data": {
      "text/plain": [
       "array([0, 0, 0, ..., 0, 0, 0])"
      ]
     },
     "execution_count": 35,
     "metadata": {},
     "output_type": "execute_result"
    }
   ],
   "source": [
    "model.predict(X_test)"
   ]
  },
  {
   "cell_type": "markdown",
   "id": "56c9705b",
   "metadata": {
    "papermill": {
     "duration": 0.017324,
     "end_time": "2025-08-05T15:52:23.407504",
     "exception": false,
     "start_time": "2025-08-05T15:52:23.390180",
     "status": "completed"
    },
    "tags": []
   },
   "source": [
    "# Conformal Prediction"
   ]
  },
  {
   "cell_type": "code",
   "execution_count": 36,
   "id": "160ec6ff",
   "metadata": {
    "execution": {
     "iopub.execute_input": "2025-08-05T15:52:23.430965Z",
     "iopub.status.busy": "2025-08-05T15:52:23.430539Z",
     "iopub.status.idle": "2025-08-05T15:52:23.435483Z",
     "shell.execute_reply": "2025-08-05T15:52:23.434658Z"
    },
    "papermill": {
     "duration": 0.01852,
     "end_time": "2025-08-05T15:52:23.436967",
     "exception": false,
     "start_time": "2025-08-05T15:52:23.418447",
     "status": "completed"
    },
    "tags": []
   },
   "outputs": [],
   "source": [
    "# Miscoverage level for conformal prediction (10% allowed error rate => 90% target coverage)\n",
    "alpha = 0.1"
   ]
  },
  {
   "cell_type": "code",
   "execution_count": 37,
   "id": "eadf4555-3dd3-440e-8e35-f82a4ad9f855",
   "metadata": {
    "execution": {
     "iopub.execute_input": "2025-08-05T15:52:23.468248Z",
     "iopub.status.busy": "2025-08-05T15:52:23.467895Z",
     "iopub.status.idle": "2025-08-05T15:52:24.024998Z",
     "shell.execute_reply": "2025-08-05T15:52:24.023813Z"
    },
    "papermill": {
     "duration": 0.577777,
     "end_time": "2025-08-05T15:52:24.027210",
     "exception": false,
     "start_time": "2025-08-05T15:52:23.449433",
     "status": "completed"
    },
    "tags": []
   },
   "outputs": [],
   "source": [
    "probs_calib = model.predict_proba(X_calib)"
   ]
  },
  {
   "cell_type": "code",
   "execution_count": 38,
   "id": "2ed93547-6d5d-4983-9b36-1ecb300da49a",
   "metadata": {
    "execution": {
     "iopub.execute_input": "2025-08-05T15:52:24.078669Z",
     "iopub.status.busy": "2025-08-05T15:52:24.078276Z",
     "iopub.status.idle": "2025-08-05T15:52:24.083432Z",
     "shell.execute_reply": "2025-08-05T15:52:24.082423Z"
    },
    "papermill": {
     "duration": 0.032356,
     "end_time": "2025-08-05T15:52:24.085460",
     "exception": false,
     "start_time": "2025-08-05T15:52:24.053104",
     "status": "completed"
    },
    "tags": []
   },
   "outputs": [],
   "source": [
    "y_calib = y_calib.values.ravel().astype(int)"
   ]
  },
  {
   "cell_type": "code",
   "execution_count": 39,
   "id": "65d1320d-f588-4b38-9072-62af1ae97f7d",
   "metadata": {
    "execution": {
     "iopub.execute_input": "2025-08-05T15:52:24.134321Z",
     "iopub.status.busy": "2025-08-05T15:52:24.133433Z",
     "iopub.status.idle": "2025-08-05T15:52:24.141903Z",
     "shell.execute_reply": "2025-08-05T15:52:24.140724Z"
    },
    "papermill": {
     "duration": 0.03396,
     "end_time": "2025-08-05T15:52:24.143591",
     "exception": false,
     "start_time": "2025-08-05T15:52:24.109631",
     "status": "completed"
    },
    "tags": []
   },
   "outputs": [],
   "source": [
    "from fairness_multiverse.conformal import compute_nc_scores\n",
    "\n",
    "# Compute nonconformity scores on calibration set (1 - probability of true class)\n",
    "nc_scores = compute_nc_scores(probs_calib, y_calib)"
   ]
  },
  {
   "cell_type": "code",
   "execution_count": 40,
   "id": "df3b8ca3-53b7-43d5-9667-7c85da7aeda2",
   "metadata": {
    "execution": {
     "iopub.execute_input": "2025-08-05T15:52:24.180842Z",
     "iopub.status.busy": "2025-08-05T15:52:24.180366Z",
     "iopub.status.idle": "2025-08-05T15:52:24.187893Z",
     "shell.execute_reply": "2025-08-05T15:52:24.186752Z"
    },
    "papermill": {
     "duration": 0.025336,
     "end_time": "2025-08-05T15:52:24.189879",
     "exception": false,
     "start_time": "2025-08-05T15:52:24.164543",
     "status": "completed"
    },
    "tags": []
   },
   "outputs": [],
   "source": [
    "from fairness_multiverse.conformal import find_threshold\n",
    "\n",
    "# Find conformal threshold q_hat for the given alpha (split conformal method)\n",
    "q_hat = find_threshold(nc_scores, alpha)"
   ]
  },
  {
   "cell_type": "code",
   "execution_count": 41,
   "id": "4d29e6c1-0ef6-4aa4-b8fe-4fe79b0d033a",
   "metadata": {
    "execution": {
     "iopub.execute_input": "2025-08-05T15:52:24.234108Z",
     "iopub.status.busy": "2025-08-05T15:52:24.233110Z",
     "iopub.status.idle": "2025-08-05T15:52:24.241301Z",
     "shell.execute_reply": "2025-08-05T15:52:24.240016Z"
    },
    "papermill": {
     "duration": 0.032671,
     "end_time": "2025-08-05T15:52:24.243329",
     "exception": false,
     "start_time": "2025-08-05T15:52:24.210658",
     "status": "completed"
    },
    "tags": []
   },
   "outputs": [
    {
     "data": {
      "text/plain": [
       "0.6823386720391488"
      ]
     },
     "execution_count": 41,
     "metadata": {},
     "output_type": "execute_result"
    }
   ],
   "source": [
    "q_hat"
   ]
  },
  {
   "cell_type": "code",
   "execution_count": 42,
   "id": "92460794-cdac-4be2-ba28-f28c0515a6fb",
   "metadata": {
    "execution": {
     "iopub.execute_input": "2025-08-05T15:52:24.288393Z",
     "iopub.status.busy": "2025-08-05T15:52:24.287833Z",
     "iopub.status.idle": "2025-08-05T15:52:25.301694Z",
     "shell.execute_reply": "2025-08-05T15:52:25.300829Z"
    },
    "papermill": {
     "duration": 1.037454,
     "end_time": "2025-08-05T15:52:25.303707",
     "exception": false,
     "start_time": "2025-08-05T15:52:24.266253",
     "status": "completed"
    },
    "tags": []
   },
   "outputs": [],
   "source": [
    "from fairness_multiverse.conformal import predict_conformal_sets\n",
    "\n",
    "# Generate prediction sets for each test example\n",
    "pred_sets = predict_conformal_sets(model, X_test, q_hat)"
   ]
  },
  {
   "cell_type": "code",
   "execution_count": 43,
   "id": "d90c9a65-e6db-4f5d-80cd-e68fb7e46829",
   "metadata": {
    "execution": {
     "iopub.execute_input": "2025-08-05T15:52:25.363669Z",
     "iopub.status.busy": "2025-08-05T15:52:25.362618Z",
     "iopub.status.idle": "2025-08-05T15:52:25.368893Z",
     "shell.execute_reply": "2025-08-05T15:52:25.367828Z"
    },
    "papermill": {
     "duration": 0.038639,
     "end_time": "2025-08-05T15:52:25.371284",
     "exception": false,
     "start_time": "2025-08-05T15:52:25.332645",
     "status": "completed"
    },
    "tags": []
   },
   "outputs": [],
   "source": [
    "y_true = y_true.squeeze()"
   ]
  },
  {
   "cell_type": "code",
   "execution_count": 44,
   "id": "3a58a54a-1e68-46b9-927a-df01f18aebc8",
   "metadata": {
    "execution": {
     "iopub.execute_input": "2025-08-05T15:52:25.427961Z",
     "iopub.status.busy": "2025-08-05T15:52:25.427214Z",
     "iopub.status.idle": "2025-08-05T15:52:26.870135Z",
     "shell.execute_reply": "2025-08-05T15:52:26.867552Z"
    },
    "papermill": {
     "duration": 1.472489,
     "end_time": "2025-08-05T15:52:26.872035",
     "exception": false,
     "start_time": "2025-08-05T15:52:25.399546",
     "status": "completed"
    },
    "tags": []
   },
   "outputs": [],
   "source": [
    "from fairness_multiverse.conformal import evaluate_sets\n",
    "\n",
    "# Evaluate coverage and average set size on test data\n",
    "metrics = evaluate_sets(pred_sets, y_true)"
   ]
  },
  {
   "cell_type": "markdown",
   "id": "2b569c12-9aaa-4c88-98c9-bbcd0cf3ebb8",
   "metadata": {
    "papermill": {
     "duration": 0.019863,
     "end_time": "2025-08-05T15:52:26.915197",
     "exception": false,
     "start_time": "2025-08-05T15:52:26.895334",
     "status": "completed"
    },
    "tags": []
   },
   "source": [
    "# CP Metrics"
   ]
  },
  {
   "cell_type": "code",
   "execution_count": 45,
   "id": "5ce0a5cb-201f-45a0-ade5-94c7f0bd6095",
   "metadata": {
    "execution": {
     "iopub.execute_input": "2025-08-05T15:52:26.959621Z",
     "iopub.status.busy": "2025-08-05T15:52:26.958976Z",
     "iopub.status.idle": "2025-08-05T15:52:26.966150Z",
     "shell.execute_reply": "2025-08-05T15:52:26.965120Z"
    },
    "papermill": {
     "duration": 0.030115,
     "end_time": "2025-08-05T15:52:26.967822",
     "exception": false,
     "start_time": "2025-08-05T15:52:26.937707",
     "status": "completed"
    },
    "tags": []
   },
   "outputs": [
    {
     "data": {
      "text/plain": [
       "{'coverage': 0.9109798238769368, 'avg_size': 1.1323598261063426}"
      ]
     },
     "execution_count": 45,
     "metadata": {},
     "output_type": "execute_result"
    }
   ],
   "source": [
    "metrics"
   ]
  },
  {
   "cell_type": "code",
   "execution_count": 46,
   "id": "9b9a838d-31c9-430b-ae14-12baee460d17",
   "metadata": {
    "execution": {
     "iopub.execute_input": "2025-08-05T15:52:27.013765Z",
     "iopub.status.busy": "2025-08-05T15:52:27.013311Z",
     "iopub.status.idle": "2025-08-05T15:52:27.018440Z",
     "shell.execute_reply": "2025-08-05T15:52:27.017620Z"
    },
    "papermill": {
     "duration": 0.031033,
     "end_time": "2025-08-05T15:52:27.020131",
     "exception": false,
     "start_time": "2025-08-05T15:52:26.989098",
     "status": "completed"
    },
    "tags": []
   },
   "outputs": [],
   "source": [
    "example_universe = universe.copy()\n",
    "universe_training_year = example_universe.get(\"training_year\")\n",
    "universe_training_size = example_universe.get(\"training_size\")\n",
    "universe_scale = example_universe.get(\"scale\")\n",
    "universe_model = example_universe.get(\"model\")\n",
    "universe_exclude_features = example_universe.get(\"exclude_features\")\n",
    "universe_exclude_subgroups = example_universe.get(\"exclude_subgroups\")"
   ]
  },
  {
   "cell_type": "code",
   "execution_count": 47,
   "id": "f4b6a8ac-9dc0-4245-8a91-5b3b5999c4f9",
   "metadata": {
    "execution": {
     "iopub.execute_input": "2025-08-05T15:52:27.045906Z",
     "iopub.status.busy": "2025-08-05T15:52:27.045380Z",
     "iopub.status.idle": "2025-08-05T15:52:27.051068Z",
     "shell.execute_reply": "2025-08-05T15:52:27.050241Z"
    },
    "papermill": {
     "duration": 0.019578,
     "end_time": "2025-08-05T15:52:27.052544",
     "exception": false,
     "start_time": "2025-08-05T15:52:27.032966",
     "status": "completed"
    },
    "tags": []
   },
   "outputs": [],
   "source": [
    "cp_metrics_dict = {\n",
    "    \"universe_id\": [universe_id],\n",
    "    \"universe_training_year\": [universe_training_year],\n",
    "    \"universe_training_size\": [universe_training_size],\n",
    "    \"universe_scale\": [universe_scale],\n",
    "    \"universe_model\": [universe_model],\n",
    "    \"universe_exclude_features\": [universe_exclude_features],\n",
    "    \"universe_exclude_subgroups\": [universe_exclude_subgroups],\n",
    "    \"q_hat\": [q_hat],\n",
    "    \"coverage\": [metrics[\"coverage\"]],\n",
    "    \"avg_size\": [metrics[\"avg_size\"]],\n",
    "}"
   ]
  },
  {
   "cell_type": "code",
   "execution_count": 48,
   "id": "908acbb1-0371-4915-85ca-3fa520d2efe2",
   "metadata": {
    "execution": {
     "iopub.execute_input": "2025-08-05T15:52:27.078468Z",
     "iopub.status.busy": "2025-08-05T15:52:27.077950Z",
     "iopub.status.idle": "2025-08-05T15:52:27.084993Z",
     "shell.execute_reply": "2025-08-05T15:52:27.084100Z"
    },
    "papermill": {
     "duration": 0.021766,
     "end_time": "2025-08-05T15:52:27.086692",
     "exception": false,
     "start_time": "2025-08-05T15:52:27.064926",
     "status": "completed"
    },
    "tags": []
   },
   "outputs": [
    {
     "data": {
      "text/plain": [
       "{'universe_id': ['d8331663d8c1e9eba1793926b5fbbde1'],\n",
       " 'universe_training_year': ['2010_14'],\n",
       " 'universe_training_size': ['5k'],\n",
       " 'universe_scale': ['scale'],\n",
       " 'universe_model': ['gbm'],\n",
       " 'universe_exclude_features': ['nationality'],\n",
       " 'universe_exclude_subgroups': ['keep-all'],\n",
       " 'q_hat': [0.6823386720391488],\n",
       " 'coverage': [0.9109798238769368],\n",
       " 'avg_size': [1.1323598261063426]}"
      ]
     },
     "execution_count": 48,
     "metadata": {},
     "output_type": "execute_result"
    }
   ],
   "source": [
    "cp_metrics_dict"
   ]
  },
  {
   "cell_type": "code",
   "execution_count": 49,
   "id": "33007efc-14e9-4ec6-97ac-56a455c82265",
   "metadata": {
    "execution": {
     "iopub.execute_input": "2025-08-05T15:52:27.112802Z",
     "iopub.status.busy": "2025-08-05T15:52:27.112353Z",
     "iopub.status.idle": "2025-08-05T15:52:27.119730Z",
     "shell.execute_reply": "2025-08-05T15:52:27.118629Z"
    },
    "papermill": {
     "duration": 0.022619,
     "end_time": "2025-08-05T15:52:27.121880",
     "exception": false,
     "start_time": "2025-08-05T15:52:27.099261",
     "status": "completed"
    },
    "tags": []
   },
   "outputs": [],
   "source": [
    "cp_metrics_df = pd.DataFrame(cp_metrics_dict)"
   ]
  },
  {
   "cell_type": "code",
   "execution_count": 50,
   "id": "db12611b-57b2-4910-b9d0-355adfd6e7bf",
   "metadata": {
    "execution": {
     "iopub.execute_input": "2025-08-05T15:52:27.168234Z",
     "iopub.status.busy": "2025-08-05T15:52:27.167511Z",
     "iopub.status.idle": "2025-08-05T15:52:27.187625Z",
     "shell.execute_reply": "2025-08-05T15:52:27.186694Z"
    },
    "papermill": {
     "duration": 0.044897,
     "end_time": "2025-08-05T15:52:27.189233",
     "exception": false,
     "start_time": "2025-08-05T15:52:27.144336",
     "status": "completed"
    },
    "tags": []
   },
   "outputs": [
    {
     "data": {
      "text/html": [
       "<div>\n",
       "<style scoped>\n",
       "    .dataframe tbody tr th:only-of-type {\n",
       "        vertical-align: middle;\n",
       "    }\n",
       "\n",
       "    .dataframe tbody tr th {\n",
       "        vertical-align: top;\n",
       "    }\n",
       "\n",
       "    .dataframe thead th {\n",
       "        text-align: right;\n",
       "    }\n",
       "</style>\n",
       "<table border=\"1\" class=\"dataframe\">\n",
       "  <thead>\n",
       "    <tr style=\"text-align: right;\">\n",
       "      <th></th>\n",
       "      <th>universe_id</th>\n",
       "      <th>universe_training_year</th>\n",
       "      <th>universe_training_size</th>\n",
       "      <th>universe_scale</th>\n",
       "      <th>universe_model</th>\n",
       "      <th>universe_exclude_features</th>\n",
       "      <th>universe_exclude_subgroups</th>\n",
       "      <th>q_hat</th>\n",
       "      <th>coverage</th>\n",
       "      <th>avg_size</th>\n",
       "    </tr>\n",
       "  </thead>\n",
       "  <tbody>\n",
       "    <tr>\n",
       "      <th>0</th>\n",
       "      <td>d8331663d8c1e9eba1793926b5fbbde1</td>\n",
       "      <td>2010_14</td>\n",
       "      <td>5k</td>\n",
       "      <td>scale</td>\n",
       "      <td>gbm</td>\n",
       "      <td>nationality</td>\n",
       "      <td>keep-all</td>\n",
       "      <td>0.682339</td>\n",
       "      <td>0.91098</td>\n",
       "      <td>1.13236</td>\n",
       "    </tr>\n",
       "  </tbody>\n",
       "</table>\n",
       "</div>"
      ],
      "text/plain": [
       "                        universe_id universe_training_year  \\\n",
       "0  d8331663d8c1e9eba1793926b5fbbde1                2010_14   \n",
       "\n",
       "  universe_training_size universe_scale universe_model  \\\n",
       "0                     5k          scale            gbm   \n",
       "\n",
       "  universe_exclude_features universe_exclude_subgroups     q_hat  coverage  \\\n",
       "0               nationality                   keep-all  0.682339   0.91098   \n",
       "\n",
       "   avg_size  \n",
       "0   1.13236  "
      ]
     },
     "execution_count": 50,
     "metadata": {},
     "output_type": "execute_result"
    }
   ],
   "source": [
    "cp_metrics_df"
   ]
  },
  {
   "cell_type": "code",
   "execution_count": 51,
   "id": "b7fbde55-a0a1-47e4-9af6-fe4a17fa8c61",
   "metadata": {
    "execution": {
     "iopub.execute_input": "2025-08-05T15:52:27.234588Z",
     "iopub.status.busy": "2025-08-05T15:52:27.233868Z",
     "iopub.status.idle": "2025-08-05T15:52:27.240174Z",
     "shell.execute_reply": "2025-08-05T15:52:27.239345Z"
    },
    "papermill": {
     "duration": 0.030125,
     "end_time": "2025-08-05T15:52:27.241735",
     "exception": false,
     "start_time": "2025-08-05T15:52:27.211610",
     "status": "completed"
    },
    "tags": []
   },
   "outputs": [],
   "source": [
    "# Conditional Coverage & looking at subgroups"
   ]
  },
  {
   "cell_type": "code",
   "execution_count": 52,
   "id": "027ae886-68dd-4141-96c7-805a5450e1ef",
   "metadata": {
    "execution": {
     "iopub.execute_input": "2025-08-05T15:52:27.266815Z",
     "iopub.status.busy": "2025-08-05T15:52:27.266301Z",
     "iopub.status.idle": "2025-08-05T15:52:27.590490Z",
     "shell.execute_reply": "2025-08-05T15:52:27.589344Z"
    },
    "papermill": {
     "duration": 0.337957,
     "end_time": "2025-08-05T15:52:27.592145",
     "exception": false,
     "start_time": "2025-08-05T15:52:27.254188",
     "status": "completed"
    },
    "tags": []
   },
   "outputs": [],
   "source": [
    "from fairness_multiverse.conformal import build_cp_groups\n",
    "\n",
    "cp_groups_df = build_cp_groups(pred_sets, y_true, X_test.index, org_test)\n",
    "#needs universe_id and setting"
   ]
  },
  {
   "cell_type": "code",
   "execution_count": 53,
   "id": "6cbdab96-b2b2-45af-ad54-d0516db2e28d",
   "metadata": {
    "execution": {
     "iopub.execute_input": "2025-08-05T15:52:27.650937Z",
     "iopub.status.busy": "2025-08-05T15:52:27.650464Z",
     "iopub.status.idle": "2025-08-05T15:52:29.706141Z",
     "shell.execute_reply": "2025-08-05T15:52:29.705141Z"
    },
    "papermill": {
     "duration": 2.08905,
     "end_time": "2025-08-05T15:52:29.708028",
     "exception": false,
     "start_time": "2025-08-05T15:52:27.618978",
     "status": "completed"
    },
    "tags": []
   },
   "outputs": [],
   "source": [
    "# Define covered = 1 if true_label is in the predicted set\n",
    "cp_groups_df['covered'] = cp_groups_df.apply(\n",
    "    lambda r: int(r['true_label'] in r['pred_set']),\n",
    "    axis=1\n",
    ")"
   ]
  },
  {
   "cell_type": "code",
   "execution_count": 54,
   "id": "338ff529-1a6b-4b87-a931-8e4788d52aad",
   "metadata": {
    "execution": {
     "iopub.execute_input": "2025-08-05T15:52:29.757151Z",
     "iopub.status.busy": "2025-08-05T15:52:29.756628Z",
     "iopub.status.idle": "2025-08-05T15:52:29.762153Z",
     "shell.execute_reply": "2025-08-05T15:52:29.761059Z"
    },
    "papermill": {
     "duration": 0.03258,
     "end_time": "2025-08-05T15:52:29.764407",
     "exception": false,
     "start_time": "2025-08-05T15:52:29.731827",
     "status": "completed"
    },
    "tags": []
   },
   "outputs": [],
   "source": [
    "#cp_groups_df"
   ]
  },
  {
   "cell_type": "code",
   "execution_count": 55,
   "id": "90032e27-66df-4540-9169-4e89cfbaa758",
   "metadata": {
    "execution": {
     "iopub.execute_input": "2025-08-05T15:52:29.813077Z",
     "iopub.status.busy": "2025-08-05T15:52:29.812318Z",
     "iopub.status.idle": "2025-08-05T15:52:29.824826Z",
     "shell.execute_reply": "2025-08-05T15:52:29.823799Z"
    },
    "papermill": {
     "duration": 0.038724,
     "end_time": "2025-08-05T15:52:29.826752",
     "exception": false,
     "start_time": "2025-08-05T15:52:29.788028",
     "status": "completed"
    },
    "tags": []
   },
   "outputs": [],
   "source": [
    "subgroups = ['frau1','nongerman','nongerman_male','nongerman_female']\n",
    "\n",
    "# Conditional coverage for subgroup==1\n",
    "cond_coverage = {\n",
    "    g: cp_groups_df.loc[cp_groups_df[g]==1, 'covered'].mean()\n",
    "    for g in subgroups\n",
    "}"
   ]
  },
  {
   "cell_type": "code",
   "execution_count": 56,
   "id": "1e348fb1-b9c3-45bc-ba23-f016827a7e0d",
   "metadata": {
    "execution": {
     "iopub.execute_input": "2025-08-05T15:52:29.875398Z",
     "iopub.status.busy": "2025-08-05T15:52:29.874436Z",
     "iopub.status.idle": "2025-08-05T15:52:29.882345Z",
     "shell.execute_reply": "2025-08-05T15:52:29.881220Z"
    },
    "papermill": {
     "duration": 0.034229,
     "end_time": "2025-08-05T15:52:29.884083",
     "exception": false,
     "start_time": "2025-08-05T15:52:29.849854",
     "status": "completed"
    },
    "tags": []
   },
   "outputs": [
    {
     "data": {
      "text/plain": [
       "{'frau1': 0.9109853079929909,\n",
       " 'nongerman': 0.9108516252175377,\n",
       " 'nongerman_male': 0.9256957579032694,\n",
       " 'nongerman_female': 0.8862891207153503}"
      ]
     },
     "execution_count": 56,
     "metadata": {},
     "output_type": "execute_result"
    }
   ],
   "source": [
    "cond_coverage"
   ]
  },
  {
   "cell_type": "code",
   "execution_count": 57,
   "id": "f5093324-c3dd-4d63-bc4c-8d945e5c8bbb",
   "metadata": {
    "execution": {
     "iopub.execute_input": "2025-08-05T15:52:29.932405Z",
     "iopub.status.busy": "2025-08-05T15:52:29.931389Z",
     "iopub.status.idle": "2025-08-05T15:52:29.939268Z",
     "shell.execute_reply": "2025-08-05T15:52:29.938264Z"
    },
    "papermill": {
     "duration": 0.034004,
     "end_time": "2025-08-05T15:52:29.941067",
     "exception": false,
     "start_time": "2025-08-05T15:52:29.907063",
     "status": "completed"
    },
    "tags": []
   },
   "outputs": [],
   "source": [
    "for subgroup, cov in cond_coverage.items():\n",
    "    cp_metrics_df[f\"cov_{subgroup}\"] = cov"
   ]
  },
  {
   "cell_type": "code",
   "execution_count": 58,
   "id": "6e872e10-dbe5-49e8-b554-5030c98ff75d",
   "metadata": {
    "execution": {
     "iopub.execute_input": "2025-08-05T15:52:29.989742Z",
     "iopub.status.busy": "2025-08-05T15:52:29.988793Z",
     "iopub.status.idle": "2025-08-05T15:52:30.010747Z",
     "shell.execute_reply": "2025-08-05T15:52:30.009680Z"
    },
    "papermill": {
     "duration": 0.048356,
     "end_time": "2025-08-05T15:52:30.012151",
     "exception": false,
     "start_time": "2025-08-05T15:52:29.963795",
     "status": "completed"
    },
    "tags": []
   },
   "outputs": [
    {
     "data": {
      "text/html": [
       "<div>\n",
       "<style scoped>\n",
       "    .dataframe tbody tr th:only-of-type {\n",
       "        vertical-align: middle;\n",
       "    }\n",
       "\n",
       "    .dataframe tbody tr th {\n",
       "        vertical-align: top;\n",
       "    }\n",
       "\n",
       "    .dataframe thead th {\n",
       "        text-align: right;\n",
       "    }\n",
       "</style>\n",
       "<table border=\"1\" class=\"dataframe\">\n",
       "  <thead>\n",
       "    <tr style=\"text-align: right;\">\n",
       "      <th></th>\n",
       "      <th>universe_id</th>\n",
       "      <th>universe_training_year</th>\n",
       "      <th>universe_training_size</th>\n",
       "      <th>universe_scale</th>\n",
       "      <th>universe_model</th>\n",
       "      <th>universe_exclude_features</th>\n",
       "      <th>universe_exclude_subgroups</th>\n",
       "      <th>q_hat</th>\n",
       "      <th>coverage</th>\n",
       "      <th>avg_size</th>\n",
       "      <th>cov_frau1</th>\n",
       "      <th>cov_nongerman</th>\n",
       "      <th>cov_nongerman_male</th>\n",
       "      <th>cov_nongerman_female</th>\n",
       "    </tr>\n",
       "  </thead>\n",
       "  <tbody>\n",
       "    <tr>\n",
       "      <th>0</th>\n",
       "      <td>d8331663d8c1e9eba1793926b5fbbde1</td>\n",
       "      <td>2010_14</td>\n",
       "      <td>5k</td>\n",
       "      <td>scale</td>\n",
       "      <td>gbm</td>\n",
       "      <td>nationality</td>\n",
       "      <td>keep-all</td>\n",
       "      <td>0.682339</td>\n",
       "      <td>0.91098</td>\n",
       "      <td>1.13236</td>\n",
       "      <td>0.910985</td>\n",
       "      <td>0.910852</td>\n",
       "      <td>0.925696</td>\n",
       "      <td>0.886289</td>\n",
       "    </tr>\n",
       "  </tbody>\n",
       "</table>\n",
       "</div>"
      ],
      "text/plain": [
       "                        universe_id universe_training_year  \\\n",
       "0  d8331663d8c1e9eba1793926b5fbbde1                2010_14   \n",
       "\n",
       "  universe_training_size universe_scale universe_model  \\\n",
       "0                     5k          scale            gbm   \n",
       "\n",
       "  universe_exclude_features universe_exclude_subgroups     q_hat  coverage  \\\n",
       "0               nationality                   keep-all  0.682339   0.91098   \n",
       "\n",
       "   avg_size  cov_frau1  cov_nongerman  cov_nongerman_male  \\\n",
       "0   1.13236   0.910985       0.910852            0.925696   \n",
       "\n",
       "   cov_nongerman_female  \n",
       "0              0.886289  "
      ]
     },
     "execution_count": 58,
     "metadata": {},
     "output_type": "execute_result"
    }
   ],
   "source": [
    "cp_metrics_df"
   ]
  },
  {
   "cell_type": "markdown",
   "id": "33774451",
   "metadata": {
    "papermill": {
     "duration": 0.012683,
     "end_time": "2025-08-05T15:52:30.039561",
     "exception": false,
     "start_time": "2025-08-05T15:52:30.026878",
     "status": "completed"
    },
    "tags": []
   },
   "source": [
    "# (Fairness) Metrics"
   ]
  },
  {
   "cell_type": "code",
   "execution_count": 59,
   "id": "debc5d62",
   "metadata": {
    "execution": {
     "iopub.execute_input": "2025-08-05T15:52:30.065840Z",
     "iopub.status.busy": "2025-08-05T15:52:30.065258Z",
     "iopub.status.idle": "2025-08-05T15:52:30.080878Z",
     "shell.execute_reply": "2025-08-05T15:52:30.080080Z"
    },
    "papermill": {
     "duration": 0.030611,
     "end_time": "2025-08-05T15:52:30.082547",
     "exception": false,
     "start_time": "2025-08-05T15:52:30.051936",
     "status": "completed"
    },
    "tags": []
   },
   "outputs": [],
   "source": [
    "# do I need to include maxdeutsch1.missing?\n",
    "\n",
    "import numpy as np\n",
    "\n",
    "colname_to_bin = \"maxdeutsch1\"\n",
    "majority_value = org_train[colname_to_bin].mode()[0]\n",
    "\n",
    "org_test[\"majmin\"] = np.where(org_test[colname_to_bin] == majority_value, \"majority\", \"minority\")"
   ]
  },
  {
   "cell_type": "code",
   "execution_count": 60,
   "id": "06a50de5",
   "metadata": {
    "execution": {
     "iopub.execute_input": "2025-08-05T15:52:30.108788Z",
     "iopub.status.busy": "2025-08-05T15:52:30.108266Z",
     "iopub.status.idle": "2025-08-05T15:52:31.883084Z",
     "shell.execute_reply": "2025-08-05T15:52:31.882287Z"
    },
    "papermill": {
     "duration": 1.789725,
     "end_time": "2025-08-05T15:52:31.884966",
     "exception": false,
     "start_time": "2025-08-05T15:52:30.095241",
     "status": "completed"
    },
    "tags": []
   },
   "outputs": [],
   "source": [
    "example_universe = universe.copy()\n",
    "example_universe[\"cutoff\"] = example_universe[\"cutoff\"][0]\n",
    "example_universe[\"eval_fairness_grouping\"] = example_universe[\"eval_fairness_grouping\"][0]\n",
    "fairness_dict, metric_frame = universe_analysis.compute_metrics(\n",
    "    example_universe,\n",
    "    y_pred_prob=probs_test,\n",
    "    y_test=y_true,\n",
    "    org_test=org_test,\n",
    ")"
   ]
  },
  {
   "cell_type": "markdown",
   "id": "f95d4e02",
   "metadata": {
    "papermill": {
     "duration": 0.023893,
     "end_time": "2025-08-05T15:52:31.933715",
     "exception": false,
     "start_time": "2025-08-05T15:52:31.909822",
     "status": "completed"
    },
    "tags": []
   },
   "source": [
    "# Overall"
   ]
  },
  {
   "cell_type": "markdown",
   "id": "bdee4871",
   "metadata": {
    "papermill": {
     "duration": 0.023302,
     "end_time": "2025-08-05T15:52:31.980291",
     "exception": false,
     "start_time": "2025-08-05T15:52:31.956989",
     "status": "completed"
    },
    "tags": []
   },
   "source": [
    "Fairness\n",
    "Main fairness target: Equalized Odds. Seems to be a better fit than equal opportunity, since we're not only interested in Y = 1. Seems to be a better fit than demographic parity, since we also care about accuracy, not just equal distribution of preds.\n",
    "\n",
    "Pick column for computation of fairness metrics\n",
    "\n",
    "Performance\n",
    "Overall performance measures, most interesting in relation to the measures split by group below"
   ]
  },
  {
   "cell_type": "code",
   "execution_count": 61,
   "id": "c4e067c6",
   "metadata": {
    "execution": {
     "iopub.execute_input": "2025-08-05T15:52:32.028760Z",
     "iopub.status.busy": "2025-08-05T15:52:32.028199Z",
     "iopub.status.idle": "2025-08-05T15:52:32.037711Z",
     "shell.execute_reply": "2025-08-05T15:52:32.036484Z"
    },
    "papermill": {
     "duration": 0.035987,
     "end_time": "2025-08-05T15:52:32.039712",
     "exception": false,
     "start_time": "2025-08-05T15:52:32.003725",
     "status": "completed"
    },
    "tags": []
   },
   "outputs": [
    {
     "data": {
      "text/plain": [
       "accuracy                   0.224802\n",
       "balanced accuracy          0.549583\n",
       "f1                         0.246122\n",
       "precision                  0.140601\n",
       "false positive rate        0.887279\n",
       "false negative rate        0.013556\n",
       "selection rate             0.900000\n",
       "count                  89710.000000\n",
       "dtype: float64"
      ]
     },
     "execution_count": 61,
     "metadata": {},
     "output_type": "execute_result"
    }
   ],
   "source": [
    "metric_frame.overall"
   ]
  },
  {
   "cell_type": "markdown",
   "id": "e968fe9d",
   "metadata": {
    "papermill": {
     "duration": 0.022905,
     "end_time": "2025-08-05T15:52:32.087993",
     "exception": false,
     "start_time": "2025-08-05T15:52:32.065088",
     "status": "completed"
    },
    "tags": []
   },
   "source": [
    "By Group"
   ]
  },
  {
   "cell_type": "code",
   "execution_count": 62,
   "id": "ec325bce",
   "metadata": {
    "execution": {
     "iopub.execute_input": "2025-08-05T15:52:32.137063Z",
     "iopub.status.busy": "2025-08-05T15:52:32.136363Z",
     "iopub.status.idle": "2025-08-05T15:52:32.153950Z",
     "shell.execute_reply": "2025-08-05T15:52:32.153055Z"
    },
    "papermill": {
     "duration": 0.042964,
     "end_time": "2025-08-05T15:52:32.155346",
     "exception": false,
     "start_time": "2025-08-05T15:52:32.112382",
     "status": "completed"
    },
    "tags": []
   },
   "outputs": [
    {
     "data": {
      "text/html": [
       "<div>\n",
       "<style scoped>\n",
       "    .dataframe tbody tr th:only-of-type {\n",
       "        vertical-align: middle;\n",
       "    }\n",
       "\n",
       "    .dataframe tbody tr th {\n",
       "        vertical-align: top;\n",
       "    }\n",
       "\n",
       "    .dataframe thead th {\n",
       "        text-align: right;\n",
       "    }\n",
       "</style>\n",
       "<table border=\"1\" class=\"dataframe\">\n",
       "  <thead>\n",
       "    <tr style=\"text-align: right;\">\n",
       "      <th></th>\n",
       "      <th>accuracy</th>\n",
       "      <th>balanced accuracy</th>\n",
       "      <th>f1</th>\n",
       "      <th>precision</th>\n",
       "      <th>false positive rate</th>\n",
       "      <th>false negative rate</th>\n",
       "      <th>selection rate</th>\n",
       "      <th>count</th>\n",
       "    </tr>\n",
       "    <tr>\n",
       "      <th>majmin</th>\n",
       "      <th></th>\n",
       "      <th></th>\n",
       "      <th></th>\n",
       "      <th></th>\n",
       "      <th></th>\n",
       "      <th></th>\n",
       "      <th></th>\n",
       "      <th></th>\n",
       "    </tr>\n",
       "  </thead>\n",
       "  <tbody>\n",
       "    <tr>\n",
       "      <th>majority</th>\n",
       "      <td>0.243848</td>\n",
       "      <td>0.558052</td>\n",
       "      <td>0.256119</td>\n",
       "      <td>0.147194</td>\n",
       "      <td>0.869015</td>\n",
       "      <td>0.014880</td>\n",
       "      <td>0.884357</td>\n",
       "      <td>69170.0</td>\n",
       "    </tr>\n",
       "    <tr>\n",
       "      <th>minority</th>\n",
       "      <td>0.160662</td>\n",
       "      <td>0.521971</td>\n",
       "      <td>0.214077</td>\n",
       "      <td>0.119992</td>\n",
       "      <td>0.947612</td>\n",
       "      <td>0.008446</td>\n",
       "      <td>0.952678</td>\n",
       "      <td>20540.0</td>\n",
       "    </tr>\n",
       "  </tbody>\n",
       "</table>\n",
       "</div>"
      ],
      "text/plain": [
       "          accuracy  balanced accuracy        f1  precision  \\\n",
       "majmin                                                       \n",
       "majority  0.243848           0.558052  0.256119   0.147194   \n",
       "minority  0.160662           0.521971  0.214077   0.119992   \n",
       "\n",
       "          false positive rate  false negative rate  selection rate    count  \n",
       "majmin                                                                       \n",
       "majority             0.869015             0.014880        0.884357  69170.0  \n",
       "minority             0.947612             0.008446        0.952678  20540.0  "
      ]
     },
     "execution_count": 62,
     "metadata": {},
     "output_type": "execute_result"
    }
   ],
   "source": [
    "metric_frame.by_group"
   ]
  },
  {
   "cell_type": "code",
   "execution_count": 63,
   "id": "a9ddbe63",
   "metadata": {
    "execution": {
     "iopub.execute_input": "2025-08-05T15:52:32.181949Z",
     "iopub.status.busy": "2025-08-05T15:52:32.181614Z",
     "iopub.status.idle": "2025-08-05T15:52:34.638282Z",
     "shell.execute_reply": "2025-08-05T15:52:34.637088Z"
    },
    "papermill": {
     "duration": 2.471616,
     "end_time": "2025-08-05T15:52:34.640337",
     "exception": false,
     "start_time": "2025-08-05T15:52:32.168721",
     "status": "completed"
    },
    "tags": []
   },
   "outputs": [
    {
     "data": {
      "text/plain": [
       "array([[<Axes: title={'center': 'accuracy'}, xlabel='majmin'>,\n",
       "        <Axes: title={'center': 'balanced accuracy'}, xlabel='majmin'>,\n",
       "        <Axes: title={'center': 'f1'}, xlabel='majmin'>],\n",
       "       [<Axes: title={'center': 'precision'}, xlabel='majmin'>,\n",
       "        <Axes: title={'center': 'false positive rate'}, xlabel='majmin'>,\n",
       "        <Axes: title={'center': 'false negative rate'}, xlabel='majmin'>],\n",
       "       [<Axes: title={'center': 'selection rate'}, xlabel='majmin'>,\n",
       "        <Axes: title={'center': 'count'}, xlabel='majmin'>,\n",
       "        <Axes: xlabel='majmin'>]], dtype=object)"
      ]
     },
     "execution_count": 63,
     "metadata": {},
     "output_type": "execute_result"
    },
    {
     "data": {
      "image/png": "[encoded data removed]",
      "text/plain": [
       "<Figure size 1200x800 with 9 Axes>"
      ]
     },
     "metadata": {},
     "output_type": "display_data"
    }
   ],
   "source": [
    "# In a graphic\n",
    "metric_frame.by_group.plot.bar(\n",
    "    subplots=True,\n",
    "    layout=[3, 3],\n",
    "    legend=False,\n",
    "    figsize=[12, 8],\n",
    "    title=\"Show all metrics\",\n",
    ")"
   ]
  },
  {
   "cell_type": "markdown",
   "id": "f57a0bac",
   "metadata": {
    "papermill": {
     "duration": 0.028742,
     "end_time": "2025-08-05T15:52:34.702745",
     "exception": false,
     "start_time": "2025-08-05T15:52:34.674003",
     "status": "completed"
    },
    "tags": []
   },
   "source": [
    "# Final Output"
   ]
  },
  {
   "cell_type": "code",
   "execution_count": 64,
   "id": "96d280a3",
   "metadata": {
    "execution": {
     "iopub.execute_input": "2025-08-05T15:52:34.762770Z",
     "iopub.status.busy": "2025-08-05T15:52:34.761890Z",
     "iopub.status.idle": "2025-08-05T15:52:34.771187Z",
     "shell.execute_reply": "2025-08-05T15:52:34.769964Z"
    },
    "papermill": {
     "duration": 0.041354,
     "end_time": "2025-08-05T15:52:34.773368",
     "exception": false,
     "start_time": "2025-08-05T15:52:34.732014",
     "status": "completed"
    },
    "tags": []
   },
   "outputs": [
    {
     "data": {
      "text/plain": [
       "4"
      ]
     },
     "execution_count": 64,
     "metadata": {},
     "output_type": "execute_result"
    }
   ],
   "source": [
    "sub_universes = universe_analysis.generate_sub_universes()\n",
    "len(sub_universes)"
   ]
  },
  {
   "cell_type": "code",
   "execution_count": 65,
   "id": "92adf7ba",
   "metadata": {
    "execution": {
     "iopub.execute_input": "2025-08-05T15:52:34.834837Z",
     "iopub.status.busy": "2025-08-05T15:52:34.834102Z",
     "iopub.status.idle": "2025-08-05T15:52:34.841055Z",
     "shell.execute_reply": "2025-08-05T15:52:34.839939Z"
    },
    "papermill": {
     "duration": 0.043594,
     "end_time": "2025-08-05T15:52:34.848069",
     "exception": false,
     "start_time": "2025-08-05T15:52:34.804475",
     "status": "completed"
    },
    "tags": []
   },
   "outputs": [],
   "source": [
    "def filter_sub_universe_data(sub_universe, org_test):\n",
    "    # Keep all rows — no filtering\n",
    "    keep_rows_mask = np.ones(org_test.shape[0], dtype=bool)\n",
    "\n",
    "    print(f\"[INFO] Keeping all rows: {keep_rows_mask.sum()} rows retained.\")\n",
    "    return keep_rows_mask"
   ]
  },
  {
   "cell_type": "code",
   "execution_count": 66,
   "id": "4a759155",
   "metadata": {
    "execution": {
     "iopub.execute_input": "2025-08-05T15:52:34.904153Z",
     "iopub.status.busy": "2025-08-05T15:52:34.903617Z",
     "iopub.status.idle": "2025-08-05T15:52:45.833975Z",
     "shell.execute_reply": "2025-08-05T15:52:45.832719Z"
    },
    "papermill": {
     "duration": 10.962246,
     "end_time": "2025-08-05T15:52:45.835756",
     "exception": false,
     "start_time": "2025-08-05T15:52:34.873510",
     "status": "completed"
    },
    "tags": []
   },
   "outputs": [
    {
     "name": "stdout",
     "output_type": "stream",
     "text": [
      "Stopping execution_time clock.\n",
      "[INFO] Keeping all rows: 89710 rows retained.\n"
     ]
    },
    {
     "name": "stdout",
     "output_type": "stream",
     "text": [
      "[INFO] Keeping all rows: 89710 rows retained.\n"
     ]
    },
    {
     "name": "stdout",
     "output_type": "stream",
     "text": [
      "[INFO] Keeping all rows: 89710 rows retained.\n"
     ]
    },
    {
     "name": "stdout",
     "output_type": "stream",
     "text": [
      "[INFO] Keeping all rows: 89710 rows retained.\n"
     ]
    },
    {
     "data": {
      "text/html": [
       "<div>\n",
       "<style scoped>\n",
       "    .dataframe tbody tr th:only-of-type {\n",
       "        vertical-align: middle;\n",
       "    }\n",
       "\n",
       "    .dataframe tbody tr th {\n",
       "        vertical-align: top;\n",
       "    }\n",
       "\n",
       "    .dataframe thead th {\n",
       "        text-align: right;\n",
       "    }\n",
       "</style>\n",
       "<table border=\"1\" class=\"dataframe\">\n",
       "  <thead>\n",
       "    <tr style=\"text-align: right;\">\n",
       "      <th></th>\n",
       "      <th>run_no</th>\n",
       "      <th>universe_id</th>\n",
       "      <th>universe_settings</th>\n",
       "      <th>execution_time</th>\n",
       "      <th>test_size_n</th>\n",
       "      <th>test_size_frac</th>\n",
       "      <th>fair_main_equalized_odds_difference</th>\n",
       "      <th>fair_main_equalized_odds_ratio</th>\n",
       "      <th>fair_main_demographic_parity_difference</th>\n",
       "      <th>fair_main_demographic_parity_ratio</th>\n",
       "      <th>...</th>\n",
       "      <th>perf_grp_precision_0</th>\n",
       "      <th>perf_grp_precision_1</th>\n",
       "      <th>perf_grp_false positive rate_0</th>\n",
       "      <th>perf_grp_false positive rate_1</th>\n",
       "      <th>perf_grp_false negative rate_0</th>\n",
       "      <th>perf_grp_false negative rate_1</th>\n",
       "      <th>perf_grp_selection rate_0</th>\n",
       "      <th>perf_grp_selection rate_1</th>\n",
       "      <th>perf_grp_count_0</th>\n",
       "      <th>perf_grp_count_1</th>\n",
       "    </tr>\n",
       "  </thead>\n",
       "  <tbody>\n",
       "    <tr>\n",
       "      <th>0</th>\n",
       "      <td>15</td>\n",
       "      <td>d8331663d8c1e9eba1793926b5fbbde1</td>\n",
       "      <td>{\"cutoff\": \"quantile_0.1\", \"eval_fairness_grou...</td>\n",
       "      <td>32.55261</td>\n",
       "      <td>89710</td>\n",
       "      <td>1.0</td>\n",
       "      <td>0.078596</td>\n",
       "      <td>0.917059</td>\n",
       "      <td>0.068320</td>\n",
       "      <td>0.928286</td>\n",
       "      <td>...</td>\n",
       "      <td>NaN</td>\n",
       "      <td>NaN</td>\n",
       "      <td>NaN</td>\n",
       "      <td>NaN</td>\n",
       "      <td>NaN</td>\n",
       "      <td>NaN</td>\n",
       "      <td>NaN</td>\n",
       "      <td>NaN</td>\n",
       "      <td>NaN</td>\n",
       "      <td>NaN</td>\n",
       "    </tr>\n",
       "    <tr>\n",
       "      <th>0</th>\n",
       "      <td>15</td>\n",
       "      <td>d8331663d8c1e9eba1793926b5fbbde1</td>\n",
       "      <td>{\"cutoff\": \"quantile_0.1\", \"eval_fairness_grou...</td>\n",
       "      <td>32.55261</td>\n",
       "      <td>89710</td>\n",
       "      <td>1.0</td>\n",
       "      <td>0.078596</td>\n",
       "      <td>0.917059</td>\n",
       "      <td>0.068320</td>\n",
       "      <td>0.928286</td>\n",
       "      <td>...</td>\n",
       "      <td>0.119992</td>\n",
       "      <td>0.147194</td>\n",
       "      <td>0.947612</td>\n",
       "      <td>0.869015</td>\n",
       "      <td>0.008446</td>\n",
       "      <td>0.014880</td>\n",
       "      <td>0.952678</td>\n",
       "      <td>0.884357</td>\n",
       "      <td>20540.0</td>\n",
       "      <td>69170.0</td>\n",
       "    </tr>\n",
       "    <tr>\n",
       "      <th>0</th>\n",
       "      <td>15</td>\n",
       "      <td>d8331663d8c1e9eba1793926b5fbbde1</td>\n",
       "      <td>{\"cutoff\": \"quantile_0.25\", \"eval_fairness_gro...</td>\n",
       "      <td>32.55261</td>\n",
       "      <td>89710</td>\n",
       "      <td>1.0</td>\n",
       "      <td>0.063568</td>\n",
       "      <td>0.917506</td>\n",
       "      <td>0.050016</td>\n",
       "      <td>0.936573</td>\n",
       "      <td>...</td>\n",
       "      <td>NaN</td>\n",
       "      <td>NaN</td>\n",
       "      <td>NaN</td>\n",
       "      <td>NaN</td>\n",
       "      <td>NaN</td>\n",
       "      <td>NaN</td>\n",
       "      <td>NaN</td>\n",
       "      <td>NaN</td>\n",
       "      <td>NaN</td>\n",
       "      <td>NaN</td>\n",
       "    </tr>\n",
       "    <tr>\n",
       "      <th>0</th>\n",
       "      <td>15</td>\n",
       "      <td>d8331663d8c1e9eba1793926b5fbbde1</td>\n",
       "      <td>{\"cutoff\": \"quantile_0.25\", \"eval_fairness_gro...</td>\n",
       "      <td>32.55261</td>\n",
       "      <td>89710</td>\n",
       "      <td>1.0</td>\n",
       "      <td>0.063568</td>\n",
       "      <td>0.917506</td>\n",
       "      <td>0.050016</td>\n",
       "      <td>0.936573</td>\n",
       "      <td>...</td>\n",
       "      <td>0.135457</td>\n",
       "      <td>0.169189</td>\n",
       "      <td>0.770581</td>\n",
       "      <td>0.707013</td>\n",
       "      <td>0.073480</td>\n",
       "      <td>0.054376</td>\n",
       "      <td>0.788559</td>\n",
       "      <td>0.738543</td>\n",
       "      <td>20540.0</td>\n",
       "      <td>69170.0</td>\n",
       "    </tr>\n",
       "  </tbody>\n",
       "</table>\n",
       "<p>4 rows × 50 columns</p>\n",
       "</div>"
      ],
      "text/plain": [
       "  run_no                       universe_id  \\\n",
       "0     15  d8331663d8c1e9eba1793926b5fbbde1   \n",
       "0     15  d8331663d8c1e9eba1793926b5fbbde1   \n",
       "0     15  d8331663d8c1e9eba1793926b5fbbde1   \n",
       "0     15  d8331663d8c1e9eba1793926b5fbbde1   \n",
       "\n",
       "                                   universe_settings  execution_time  \\\n",
       "0  {\"cutoff\": \"quantile_0.1\", \"eval_fairness_grou...        32.55261   \n",
       "0  {\"cutoff\": \"quantile_0.1\", \"eval_fairness_grou...        32.55261   \n",
       "0  {\"cutoff\": \"quantile_0.25\", \"eval_fairness_gro...        32.55261   \n",
       "0  {\"cutoff\": \"quantile_0.25\", \"eval_fairness_gro...        32.55261   \n",
       "\n",
       "   test_size_n  test_size_frac  fair_main_equalized_odds_difference  \\\n",
       "0        89710             1.0                             0.078596   \n",
       "0        89710             1.0                             0.078596   \n",
       "0        89710             1.0                             0.063568   \n",
       "0        89710             1.0                             0.063568   \n",
       "\n",
       "   fair_main_equalized_odds_ratio  fair_main_demographic_parity_difference  \\\n",
       "0                        0.917059                                 0.068320   \n",
       "0                        0.917059                                 0.068320   \n",
       "0                        0.917506                                 0.050016   \n",
       "0                        0.917506                                 0.050016   \n",
       "\n",
       "   fair_main_demographic_parity_ratio  ...  perf_grp_precision_0  \\\n",
       "0                            0.928286  ...                   NaN   \n",
       "0                            0.928286  ...              0.119992   \n",
       "0                            0.936573  ...                   NaN   \n",
       "0                            0.936573  ...              0.135457   \n",
       "\n",
       "   perf_grp_precision_1  perf_grp_false positive rate_0  \\\n",
       "0                   NaN                             NaN   \n",
       "0              0.147194                        0.947612   \n",
       "0                   NaN                             NaN   \n",
       "0              0.169189                        0.770581   \n",
       "\n",
       "   perf_grp_false positive rate_1  perf_grp_false negative rate_0  \\\n",
       "0                             NaN                             NaN   \n",
       "0                        0.869015                        0.008446   \n",
       "0                             NaN                             NaN   \n",
       "0                        0.707013                        0.073480   \n",
       "\n",
       "   perf_grp_false negative rate_1  perf_grp_selection rate_0  \\\n",
       "0                             NaN                        NaN   \n",
       "0                        0.014880                   0.952678   \n",
       "0                             NaN                        NaN   \n",
       "0                        0.054376                   0.788559   \n",
       "\n",
       "   perf_grp_selection rate_1  perf_grp_count_0  perf_grp_count_1  \n",
       "0                        NaN               NaN               NaN  \n",
       "0                   0.884357           20540.0           69170.0  \n",
       "0                        NaN               NaN               NaN  \n",
       "0                   0.738543           20540.0           69170.0  \n",
       "\n",
       "[4 rows x 50 columns]"
      ]
     },
     "execution_count": 66,
     "metadata": {},
     "output_type": "execute_result"
    }
   ],
   "source": [
    "final_output = universe_analysis.generate_final_output(\n",
    "    y_pred_prob=probs_test,\n",
    "    y_test=y_true,\n",
    "    org_test=org_test,\n",
    "    filter_data=filter_sub_universe_data,\n",
    "    cp_metrics_df=cp_metrics_df,\n",
    "    save=True,\n",
    ")\n",
    "final_output"
   ]
  }
 ],
 "metadata": {
  "celltoolbar": "Tags",
  "kernelspec": {
   "display_name": "Python (CMA Fairness)",
   "language": "python",
   "name": "cma_fair_env"
  },
  "language_info": {
   "codemirror_mode": {
    "name": "ipython",
    "version": 3
   },
   "file_extension": ".py",
   "mimetype": "text/x-python",
   "name": "python",
   "nbconvert_exporter": "python",
   "pygments_lexer": "ipython3",
   "version": "3.10.12"
  },
  "papermill": {
   "default_parameters": {},
   "duration": 48.989255,
   "end_time": "2025-08-05T15:52:47.086433",
   "environment_variables": {},
   "exception": null,
   "input_path": "universe_analysis.ipynb",
   "output_path": "output/runs/15/notebooks/m_15-d8331663d8c1e9eba1793926b5fbbde1.ipynb",
   "parameters": {
    "output_dir": "output",
    "run_no": "15",
    "seed": "2023",
    "universe": "{\"cutoff\": [\"quantile_0.1\", \"quantile_0.25\"], \"eval_fairness_grouping\": [\"majority-minority\", \"nationality-all\"], \"exclude_features\": \"nationality\", \"exclude_subgroups\": \"keep-all\", \"model\": \"gbm\", \"scale\": \"scale\", \"training_size\": \"5k\", \"training_year\": \"2010_14\"}",
    "universe_id": "d8331663d8c1e9eba1793926b5fbbde1"
   },
   "start_time": "2025-08-05T15:51:58.097178",
   "version": "2.6.0"
  }
 },
 "nbformat": 4,
 "nbformat_minor": 5
}