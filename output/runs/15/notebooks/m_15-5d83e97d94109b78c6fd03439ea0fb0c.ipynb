{
 "cells": [
  {
   "cell_type": "code",
   "execution_count": 1,
   "id": "f159f837-637b-42ba-96b5-ec9a68c44524",
   "metadata": {
    "execution": {
     "iopub.execute_input": "2025-08-05T15:02:00.583635Z",
     "iopub.status.busy": "2025-08-05T15:02:00.582789Z",
     "iopub.status.idle": "2025-08-05T15:02:00.595846Z",
     "shell.execute_reply": "2025-08-05T15:02:00.594886Z"
    },
    "papermill": {
     "duration": 0.032575,
     "end_time": "2025-08-05T15:02:00.597488",
     "exception": false,
     "start_time": "2025-08-05T15:02:00.564913",
     "status": "completed"
    },
    "tags": []
   },
   "outputs": [
    {
     "name": "stdout",
     "output_type": "stream",
     "text": [
      "/dss/dsshome1/0C/ra93lal2/cma/CMA_Fairness_v2\n"
     ]
    },
    {
     "name": "stderr",
     "output_type": "stream",
     "text": [
      "/dss/dsshome1/0C/ra93lal2/.local/share/virtualenvs/CMA_Fairness_v2-3j10GkSs/lib/python3.10/site-packages/IPython/core/magics/osm.py:393: UserWarning: This is now an optional IPython functionality, using bookmarks requires you to install the `pickleshare` library.\n",
      "  bkms = self.shell.db.get('bookmarks', {})\n",
      "/dss/dsshome1/0C/ra93lal2/.local/share/virtualenvs/CMA_Fairness_v2-3j10GkSs/lib/python3.10/site-packages/IPython/core/magics/osm.py:417: UserWarning: This is now an optional IPython functionality, setting dhist requires you to install the `pickleshare` library.\n",
      "  self.shell.db['dhist'] = compress_dhist(dhist)[-100:]\n"
     ]
    }
   ],
   "source": [
    "%cd ~/cma/CMA_Fairness_v2"
   ]
  },
  {
   "cell_type": "markdown",
   "id": "de2603b9",
   "metadata": {
    "papermill": {
     "duration": 0.015874,
     "end_time": "2025-08-05T15:02:00.630097",
     "exception": false,
     "start_time": "2025-08-05T15:02:00.614223",
     "status": "completed"
    },
    "tags": []
   },
   "source": [
    "The following cell holds the definition of our parameters, these values can be overriden by rendering the with e.g. the following command:\n",
    "\n",
    "papermill -p alpha 0.2 -p ratio 0.3 universe_analysis.ipynb output/test_run.ipynb"
   ]
  },
  {
   "cell_type": "code",
   "execution_count": 2,
   "id": "a80968a0-40bb-4fa9-85ef-2d5eefb01975",
   "metadata": {
    "execution": {
     "iopub.execute_input": "2025-08-05T15:02:00.664332Z",
     "iopub.status.busy": "2025-08-05T15:02:00.663450Z",
     "iopub.status.idle": "2025-08-05T15:02:00.669589Z",
     "shell.execute_reply": "2025-08-05T15:02:00.668528Z"
    },
    "papermill": {
     "duration": 0.024974,
     "end_time": "2025-08-05T15:02:00.671219",
     "exception": false,
     "start_time": "2025-08-05T15:02:00.646245",
     "status": "completed"
    },
    "tags": []
   },
   "outputs": [
    {
     "name": "stdout",
     "output_type": "stream",
     "text": [
      "Current working directory: /dss/dsshome1/0C/ra93lal2/cma/CMA_Fairness_v2\n"
     ]
    }
   ],
   "source": [
    "import os\n",
    "print(\"Current working directory:\", os.getcwd())"
   ]
  },
  {
   "cell_type": "code",
   "execution_count": 3,
   "id": "2dce4c03",
   "metadata": {
    "execution": {
     "iopub.execute_input": "2025-08-05T15:02:00.705604Z",
     "iopub.status.busy": "2025-08-05T15:02:00.705007Z",
     "iopub.status.idle": "2025-08-05T15:02:00.711067Z",
     "shell.execute_reply": "2025-08-05T15:02:00.710012Z"
    },
    "papermill": {
     "duration": 0.025118,
     "end_time": "2025-08-05T15:02:00.712675",
     "exception": false,
     "start_time": "2025-08-05T15:02:00.687557",
     "status": "completed"
    },
    "tags": [
     "parameters"
    ]
   },
   "outputs": [],
   "source": [
    "run_no = 0\n",
    "universe_id = \"test\"\n",
    "universe = {\n",
    "    \"training_size\": \"25k\", # \"25k\", \"5k\", \"1k\"\n",
    "    \"training_year\": \"2014\", # \"2014\", \"2012_14\", \"2010_14\"\n",
    "    \"scale\": \"scale\", # \"scale\", \"do-not-scale\",\n",
    "    \"model\": \"elasticnet\", # \"logreg\", \"penalized_logreg\", \"rf\", \"gbm\", \"elasticnet\"\n",
    "    \"cutoff\": [\"quantile_0.15\", \"quantile_0.30\"],\n",
    "    \"exclude_features\": \"age\", # \"none\", \"nationality\", \"sex\", \"nationality-sex\", \"age\"\n",
    "    \"exclude_subgroups\": \"keep-all\", # \"keep-all\", \"drop-non-german\"\n",
    "    \"eval_fairness_grouping\": [\"majority-minority\", \"nationality-all\"]\n",
    "}\n",
    "\n",
    "output_dir=\"./output\"\n",
    "seed=0"
   ]
  },
  {
   "cell_type": "code",
   "execution_count": 4,
   "id": "cffad41c",
   "metadata": {
    "execution": {
     "iopub.execute_input": "2025-08-05T15:02:00.747101Z",
     "iopub.status.busy": "2025-08-05T15:02:00.746303Z",
     "iopub.status.idle": "2025-08-05T15:02:00.751838Z",
     "shell.execute_reply": "2025-08-05T15:02:00.750914Z"
    },
    "papermill": {
     "duration": 0.024583,
     "end_time": "2025-08-05T15:02:00.753692",
     "exception": false,
     "start_time": "2025-08-05T15:02:00.729109",
     "status": "completed"
    },
    "tags": [
     "injected-parameters"
    ]
   },
   "outputs": [],
   "source": [
    "# Parameters\n",
    "universe_id = \"5d83e97d94109b78c6fd03439ea0fb0c\"\n",
    "run_no = \"15\"\n",
    "universe = \"{\\\"cutoff\\\": [\\\"quantile_0.1\\\", \\\"quantile_0.25\\\"], \\\"eval_fairness_grouping\\\": [\\\"majority-minority\\\", \\\"nationality-all\\\"], \\\"exclude_features\\\": \\\"age\\\", \\\"exclude_subgroups\\\": \\\"drop-non-german\\\", \\\"model\\\": \\\"gbm\\\", \\\"scale\\\": \\\"do-not-scale\\\", \\\"training_size\\\": \\\"25k\\\", \\\"training_year\\\": \\\"2012_14\\\"}\"\n",
    "output_dir = \"output\"\n",
    "seed = \"2023\"\n"
   ]
  },
  {
   "cell_type": "code",
   "execution_count": 5,
   "id": "1650acaf",
   "metadata": {
    "execution": {
     "iopub.execute_input": "2025-08-05T15:02:00.788906Z",
     "iopub.status.busy": "2025-08-05T15:02:00.788010Z",
     "iopub.status.idle": "2025-08-05T15:02:00.793693Z",
     "shell.execute_reply": "2025-08-05T15:02:00.792607Z"
    },
    "papermill": {
     "duration": 0.02476,
     "end_time": "2025-08-05T15:02:00.795420",
     "exception": false,
     "start_time": "2025-08-05T15:02:00.770660",
     "status": "completed"
    },
    "tags": []
   },
   "outputs": [],
   "source": [
    "import json\n",
    "if isinstance(universe, str):\n",
    "    universe = json.loads(universe)"
   ]
  },
  {
   "cell_type": "code",
   "execution_count": 6,
   "id": "16620c48",
   "metadata": {
    "execution": {
     "iopub.execute_input": "2025-08-05T15:02:00.829542Z",
     "iopub.status.busy": "2025-08-05T15:02:00.828922Z",
     "iopub.status.idle": "2025-08-05T15:02:00.871973Z",
     "shell.execute_reply": "2025-08-05T15:02:00.871071Z"
    },
    "papermill": {
     "duration": 0.061558,
     "end_time": "2025-08-05T15:02:00.873647",
     "exception": false,
     "start_time": "2025-08-05T15:02:00.812089",
     "status": "completed"
    },
    "tags": []
   },
   "outputs": [],
   "source": [
    "# Auto-reload the custom package\n",
    "%load_ext autoreload\n",
    "%autoreload 1\n",
    "%aimport fairness_multiverse"
   ]
  },
  {
   "cell_type": "code",
   "execution_count": 7,
   "id": "01c5c9f3",
   "metadata": {
    "execution": {
     "iopub.execute_input": "2025-08-05T15:02:00.909876Z",
     "iopub.status.busy": "2025-08-05T15:02:00.908824Z",
     "iopub.status.idle": "2025-08-05T15:02:02.834643Z",
     "shell.execute_reply": "2025-08-05T15:02:02.833634Z"
    },
    "papermill": {
     "duration": 1.945797,
     "end_time": "2025-08-05T15:02:02.836573",
     "exception": false,
     "start_time": "2025-08-05T15:02:00.890776",
     "status": "completed"
    },
    "tags": []
   },
   "outputs": [],
   "source": [
    "from fairness_multiverse.universe import UniverseAnalysis\n",
    "\n",
    "universe_analysis = UniverseAnalysis(\n",
    "    run_no = run_no,\n",
    "    universe_id = universe_id,\n",
    "    universe = universe,\n",
    "    output_dir=output_dir,\n",
    ")"
   ]
  },
  {
   "cell_type": "code",
   "execution_count": 8,
   "id": "106241f5",
   "metadata": {
    "execution": {
     "iopub.execute_input": "2025-08-05T15:02:02.872359Z",
     "iopub.status.busy": "2025-08-05T15:02:02.871699Z",
     "iopub.status.idle": "2025-08-05T15:02:02.878222Z",
     "shell.execute_reply": "2025-08-05T15:02:02.877202Z"
    },
    "papermill": {
     "duration": 0.025633,
     "end_time": "2025-08-05T15:02:02.880132",
     "exception": false,
     "start_time": "2025-08-05T15:02:02.854499",
     "status": "completed"
    },
    "tags": []
   },
   "outputs": [
    {
     "name": "stdout",
     "output_type": "stream",
     "text": [
      "Using Seed: 2023\n"
     ]
    }
   ],
   "source": [
    "import numpy as np\n",
    "parsed_seed = int(seed)\n",
    "np.random.seed(parsed_seed)\n",
    "print(f\"Using Seed: {parsed_seed}\")"
   ]
  },
  {
   "cell_type": "markdown",
   "id": "e0ebdc57",
   "metadata": {
    "papermill": {
     "duration": 0.016747,
     "end_time": "2025-08-05T15:02:02.913620",
     "exception": false,
     "start_time": "2025-08-05T15:02:02.896873",
     "status": "completed"
    },
    "tags": []
   },
   "source": [
    "# Loading Data"
   ]
  },
  {
   "cell_type": "code",
   "execution_count": 9,
   "id": "f0496b8a",
   "metadata": {
    "execution": {
     "iopub.execute_input": "2025-08-05T15:02:02.948204Z",
     "iopub.status.busy": "2025-08-05T15:02:02.947389Z",
     "iopub.status.idle": "2025-08-05T15:02:15.070906Z",
     "shell.execute_reply": "2025-08-05T15:02:15.069776Z"
    },
    "papermill": {
     "duration": 12.142683,
     "end_time": "2025-08-05T15:02:15.072451",
     "exception": false,
     "start_time": "2025-08-05T15:02:02.929768",
     "status": "completed"
    },
    "tags": []
   },
   "outputs": [
    {
     "name": "stdout",
     "output_type": "stream",
     "text": [
      "Loading SIAB data from cache: data/siab_cached.csv.gz\n"
     ]
    },
    {
     "name": "stdout",
     "output_type": "stream",
     "text": [
      "(643690, 164)\n"
     ]
    }
   ],
   "source": [
    "from pathlib import Path\n",
    "import pandas as pd\n",
    "\n",
    "# File paths\n",
    "raw_file = Path(\"data/raw/siab.csv\")\n",
    "cache_file = Path(\"data/siab_cached.csv.gz\")\n",
    "\n",
    "# Ensure cache directory exists\n",
    "cache_file.parent.mkdir(parents=True, exist_ok=True)\n",
    "\n",
    "# Load with simple caching\n",
    "if cache_file.exists():\n",
    "    print(f\"Loading SIAB data from cache: {cache_file}\")\n",
    "    siab = pd.read_csv(cache_file, compression='gzip')\n",
    "else:\n",
    "    print(f\"Cache not found. Reading raw SIAB data: {raw_file}\")\n",
    "    siab = pd.read_csv(raw_file)\n",
    "    siab.to_csv(cache_file, index=False, compression='gzip')\n",
    "    print(f\"Cached SIAB data to: {cache_file}\")\n",
    "\n",
    "print(siab.shape)"
   ]
  },
  {
   "cell_type": "code",
   "execution_count": 10,
   "id": "db0ca512-5f53-4dba-abdb-a2888bca41ba",
   "metadata": {
    "execution": {
     "iopub.execute_input": "2025-08-05T15:02:15.110176Z",
     "iopub.status.busy": "2025-08-05T15:02:15.109638Z",
     "iopub.status.idle": "2025-08-05T15:02:15.115527Z",
     "shell.execute_reply": "2025-08-05T15:02:15.114568Z"
    },
    "papermill": {
     "duration": 0.025972,
     "end_time": "2025-08-05T15:02:15.117268",
     "exception": false,
     "start_time": "2025-08-05T15:02:15.091296",
     "status": "completed"
    },
    "tags": []
   },
   "outputs": [],
   "source": [
    "#siab"
   ]
  },
  {
   "cell_type": "markdown",
   "id": "997051c5-15bd-4b69-9786-c3001a3ce484",
   "metadata": {
    "papermill": {
     "duration": 0.016379,
     "end_time": "2025-08-05T15:02:15.150806",
     "exception": false,
     "start_time": "2025-08-05T15:02:15.134427",
     "status": "completed"
    },
    "tags": []
   },
   "source": [
    "# Splitting Data and Setting Training Data Size"
   ]
  },
  {
   "cell_type": "code",
   "execution_count": 11,
   "id": "aea9c6ef-6f46-42c8-85eb-5a62025c1508",
   "metadata": {
    "execution": {
     "iopub.execute_input": "2025-08-05T15:02:15.186399Z",
     "iopub.status.busy": "2025-08-05T15:02:15.185895Z",
     "iopub.status.idle": "2025-08-05T15:02:15.859438Z",
     "shell.execute_reply": "2025-08-05T15:02:15.858437Z"
    },
    "papermill": {
     "duration": 0.692733,
     "end_time": "2025-08-05T15:02:15.861416",
     "exception": false,
     "start_time": "2025-08-05T15:02:15.168683",
     "status": "completed"
    },
    "tags": []
   },
   "outputs": [],
   "source": [
    "from fairness_multiverse.universe import sample_by_year_size\n",
    "\n",
    "siab_train = sample_by_year_size(siab,\n",
    "                               training_year=universe[\"training_year\"],\n",
    "                               training_size=universe[\"training_size\"])"
   ]
  },
  {
   "cell_type": "code",
   "execution_count": 12,
   "id": "8d3afb32-789d-442c-8d5d-9f5aa8dd2eed",
   "metadata": {
    "execution": {
     "iopub.execute_input": "2025-08-05T15:02:15.895742Z",
     "iopub.status.busy": "2025-08-05T15:02:15.895321Z",
     "iopub.status.idle": "2025-08-05T15:02:15.900191Z",
     "shell.execute_reply": "2025-08-05T15:02:15.899191Z"
    },
    "papermill": {
     "duration": 0.023545,
     "end_time": "2025-08-05T15:02:15.901984",
     "exception": false,
     "start_time": "2025-08-05T15:02:15.878439",
     "status": "completed"
    },
    "tags": []
   },
   "outputs": [],
   "source": [
    "#siab_train.shape"
   ]
  },
  {
   "cell_type": "code",
   "execution_count": 13,
   "id": "d582db68-1a4c-47fb-84fc-08518dc1975a",
   "metadata": {
    "execution": {
     "iopub.execute_input": "2025-08-05T15:02:15.938239Z",
     "iopub.status.busy": "2025-08-05T15:02:15.936879Z",
     "iopub.status.idle": "2025-08-05T15:02:15.942429Z",
     "shell.execute_reply": "2025-08-05T15:02:15.941426Z"
    },
    "papermill": {
     "duration": 0.026259,
     "end_time": "2025-08-05T15:02:15.944415",
     "exception": false,
     "start_time": "2025-08-05T15:02:15.918156",
     "status": "completed"
    },
    "tags": []
   },
   "outputs": [],
   "source": [
    "#display(siab_train.groupby(\"year\").size())"
   ]
  },
  {
   "cell_type": "code",
   "execution_count": 14,
   "id": "a561edb4-d032-42cb-8256-22eac1111c64",
   "metadata": {
    "execution": {
     "iopub.execute_input": "2025-08-05T15:02:15.986182Z",
     "iopub.status.busy": "2025-08-05T15:02:15.985202Z",
     "iopub.status.idle": "2025-08-05T15:02:16.246108Z",
     "shell.execute_reply": "2025-08-05T15:02:16.245099Z"
    },
    "papermill": {
     "duration": 0.284148,
     "end_time": "2025-08-05T15:02:16.247998",
     "exception": false,
     "start_time": "2025-08-05T15:02:15.963850",
     "status": "completed"
    },
    "tags": []
   },
   "outputs": [],
   "source": [
    "#siab_train = siab_s[siab_s.year < 2015]\n",
    "siab_calib = siab[siab.year == 2015]\n",
    "siab_test = siab[siab.year == 2016]"
   ]
  },
  {
   "cell_type": "code",
   "execution_count": 15,
   "id": "472de16f-c3db-4916-846b-1f0de9cf1746",
   "metadata": {
    "execution": {
     "iopub.execute_input": "2025-08-05T15:02:16.285711Z",
     "iopub.status.busy": "2025-08-05T15:02:16.285199Z",
     "iopub.status.idle": "2025-08-05T15:02:16.308881Z",
     "shell.execute_reply": "2025-08-05T15:02:16.307911Z"
    },
    "papermill": {
     "duration": 0.044348,
     "end_time": "2025-08-05T15:02:16.310965",
     "exception": false,
     "start_time": "2025-08-05T15:02:16.266617",
     "status": "completed"
    },
    "tags": []
   },
   "outputs": [],
   "source": [
    "X_train = siab_train.iloc[:,4:164]\n",
    "y_train = siab_train.iloc[:, [3]]"
   ]
  },
  {
   "cell_type": "code",
   "execution_count": 16,
   "id": "828c96af-f43a-4ed6-ba47-8ac73a47d56c",
   "metadata": {
    "execution": {
     "iopub.execute_input": "2025-08-05T15:02:16.352661Z",
     "iopub.status.busy": "2025-08-05T15:02:16.352320Z",
     "iopub.status.idle": "2025-08-05T15:02:16.400597Z",
     "shell.execute_reply": "2025-08-05T15:02:16.399452Z"
    },
    "papermill": {
     "duration": 0.07089,
     "end_time": "2025-08-05T15:02:16.402664",
     "exception": false,
     "start_time": "2025-08-05T15:02:16.331774",
     "status": "completed"
    },
    "tags": []
   },
   "outputs": [],
   "source": [
    "X_calib = siab_calib.iloc[:,4:164]\n",
    "y_calib = siab_calib.iloc[:, [3]]"
   ]
  },
  {
   "cell_type": "code",
   "execution_count": 17,
   "id": "c34be9c3-6bd6-476e-acd3-845840e303be",
   "metadata": {
    "execution": {
     "iopub.execute_input": "2025-08-05T15:02:16.444310Z",
     "iopub.status.busy": "2025-08-05T15:02:16.443577Z",
     "iopub.status.idle": "2025-08-05T15:02:16.495344Z",
     "shell.execute_reply": "2025-08-05T15:02:16.494231Z"
    },
    "papermill": {
     "duration": 0.074115,
     "end_time": "2025-08-05T15:02:16.497217",
     "exception": false,
     "start_time": "2025-08-05T15:02:16.423102",
     "status": "completed"
    },
    "tags": []
   },
   "outputs": [],
   "source": [
    "X_test = siab_test.iloc[:,4:164]\n",
    "y_true = siab_test.iloc[:, [3]]"
   ]
  },
  {
   "cell_type": "code",
   "execution_count": 18,
   "id": "e6c733c5",
   "metadata": {
    "execution": {
     "iopub.execute_input": "2025-08-05T15:02:16.535526Z",
     "iopub.status.busy": "2025-08-05T15:02:16.534659Z",
     "iopub.status.idle": "2025-08-05T15:02:16.633111Z",
     "shell.execute_reply": "2025-08-05T15:02:16.632039Z"
    },
    "papermill": {
     "duration": 0.119986,
     "end_time": "2025-08-05T15:02:16.635028",
     "exception": false,
     "start_time": "2025-08-05T15:02:16.515042",
     "status": "completed"
    },
    "tags": []
   },
   "outputs": [],
   "source": [
    "# Auxiliary data needed downstream in the pipeline\n",
    "\n",
    "org_train = X_train.copy()\n",
    "org_test = X_test.copy()\n",
    "org_calib = X_calib.copy()"
   ]
  },
  {
   "cell_type": "markdown",
   "id": "0a4a1b33",
   "metadata": {
    "papermill": {
     "duration": 0.015955,
     "end_time": "2025-08-05T15:02:16.667605",
     "exception": false,
     "start_time": "2025-08-05T15:02:16.651650",
     "status": "completed"
    },
    "tags": []
   },
   "source": [
    "# Preprocessing Data"
   ]
  },
  {
   "cell_type": "code",
   "execution_count": 19,
   "id": "ca879031",
   "metadata": {
    "execution": {
     "iopub.execute_input": "2025-08-05T15:02:16.704260Z",
     "iopub.status.busy": "2025-08-05T15:02:16.703426Z",
     "iopub.status.idle": "2025-08-05T15:02:16.709494Z",
     "shell.execute_reply": "2025-08-05T15:02:16.708486Z"
    },
    "papermill": {
     "duration": 0.025311,
     "end_time": "2025-08-05T15:02:16.711251",
     "exception": false,
     "start_time": "2025-08-05T15:02:16.685940",
     "status": "completed"
    },
    "tags": []
   },
   "outputs": [],
   "source": [
    "# EXCLUDE PROTECTED FEATURES\n",
    "# ----------------------\n",
    "# \"exclude_features\": \"none\", # \"nationality\", \"sex\", \"nationality-sex\"\n",
    "\n",
    "excluded_features = universe[\"exclude_features\"].split(\"-\") # split, e.g.: \"nationality-sex\" -> [\"nationality\", \"sex\"]\n",
    "excluded_features_dictionary = {\n",
    "    \"nationality\": [\"maxdeutsch1\", \"maxdeutsch.Missing.\"],\n",
    "    \"sex\": [\"frau1\"],\n",
    "    \"age\": [\"age\"],\n",
    "}"
   ]
  },
  {
   "cell_type": "code",
   "execution_count": 20,
   "id": "b745ac60",
   "metadata": {
    "execution": {
     "iopub.execute_input": "2025-08-05T15:02:16.745392Z",
     "iopub.status.busy": "2025-08-05T15:02:16.744936Z",
     "iopub.status.idle": "2025-08-05T15:02:16.750181Z",
     "shell.execute_reply": "2025-08-05T15:02:16.749229Z"
    },
    "papermill": {
     "duration": 0.023912,
     "end_time": "2025-08-05T15:02:16.751919",
     "exception": false,
     "start_time": "2025-08-05T15:02:16.728007",
     "status": "completed"
    },
    "tags": []
   },
   "outputs": [],
   "source": [
    "# Code nice names to column names\n",
    "\n",
    "excluded_features_columns = [\n",
    "    excluded_features_dictionary[f] for f in excluded_features if len(f) > 0 and f != \"none\"\n",
    "]"
   ]
  },
  {
   "cell_type": "code",
   "execution_count": 21,
   "id": "f84f73a2",
   "metadata": {
    "execution": {
     "iopub.execute_input": "2025-08-05T15:02:16.786975Z",
     "iopub.status.busy": "2025-08-05T15:02:16.786349Z",
     "iopub.status.idle": "2025-08-05T15:02:16.792342Z",
     "shell.execute_reply": "2025-08-05T15:02:16.791346Z"
    },
    "papermill": {
     "duration": 0.025256,
     "end_time": "2025-08-05T15:02:16.794010",
     "exception": false,
     "start_time": "2025-08-05T15:02:16.768754",
     "status": "completed"
    },
    "tags": []
   },
   "outputs": [],
   "source": [
    "from utils import flatten_once\n",
    "\n",
    "excluded_features_columns = flatten_once(excluded_features_columns)"
   ]
  },
  {
   "cell_type": "code",
   "execution_count": 22,
   "id": "884dea22",
   "metadata": {
    "execution": {
     "iopub.execute_input": "2025-08-05T15:02:16.828126Z",
     "iopub.status.busy": "2025-08-05T15:02:16.827479Z",
     "iopub.status.idle": "2025-08-05T15:02:16.843069Z",
     "shell.execute_reply": "2025-08-05T15:02:16.841863Z"
    },
    "papermill": {
     "duration": 0.034152,
     "end_time": "2025-08-05T15:02:16.844578",
     "exception": false,
     "start_time": "2025-08-05T15:02:16.810426",
     "status": "completed"
    },
    "tags": []
   },
   "outputs": [
    {
     "name": "stdout",
     "output_type": "stream",
     "text": [
      "Dropping features: ['age']\n"
     ]
    }
   ],
   "source": [
    "if len(excluded_features_columns) > 0:\n",
    "    print(f\"Dropping features: {excluded_features_columns}\")\n",
    "    X_train.drop(excluded_features_columns, axis=1, inplace=True)"
   ]
  },
  {
   "cell_type": "code",
   "execution_count": 23,
   "id": "95ab8b16",
   "metadata": {
    "execution": {
     "iopub.execute_input": "2025-08-05T15:02:16.881299Z",
     "iopub.status.busy": "2025-08-05T15:02:16.880534Z",
     "iopub.status.idle": "2025-08-05T15:02:16.937419Z",
     "shell.execute_reply": "2025-08-05T15:02:16.936235Z"
    },
    "papermill": {
     "duration": 0.076022,
     "end_time": "2025-08-05T15:02:16.939475",
     "exception": false,
     "start_time": "2025-08-05T15:02:16.863453",
     "status": "completed"
    },
    "tags": []
   },
   "outputs": [
    {
     "name": "stdout",
     "output_type": "stream",
     "text": [
      "Dropping features: ['age']\n"
     ]
    }
   ],
   "source": [
    "if len(excluded_features_columns) > 0:\n",
    "    print(f\"Dropping features: {excluded_features_columns}\")\n",
    "    X_test.drop(excluded_features_columns, axis=1, inplace=True)"
   ]
  },
  {
   "cell_type": "code",
   "execution_count": 24,
   "id": "1853aaf5-fb9f-46cb-a2b5-8ea4ae2237e4",
   "metadata": {
    "execution": {
     "iopub.execute_input": "2025-08-05T15:02:16.982202Z",
     "iopub.status.busy": "2025-08-05T15:02:16.981411Z",
     "iopub.status.idle": "2025-08-05T15:02:17.033076Z",
     "shell.execute_reply": "2025-08-05T15:02:17.032015Z"
    },
    "papermill": {
     "duration": 0.074182,
     "end_time": "2025-08-05T15:02:17.034691",
     "exception": false,
     "start_time": "2025-08-05T15:02:16.960509",
     "status": "completed"
    },
    "tags": []
   },
   "outputs": [
    {
     "name": "stdout",
     "output_type": "stream",
     "text": [
      "Dropping features: ['age']\n"
     ]
    }
   ],
   "source": [
    "if len(excluded_features_columns) > 0:\n",
    "    print(f\"Dropping features: {excluded_features_columns}\")\n",
    "    X_calib.drop(excluded_features_columns, axis=1, inplace=True)"
   ]
  },
  {
   "cell_type": "code",
   "execution_count": 25,
   "id": "76c4dc6d",
   "metadata": {
    "execution": {
     "iopub.execute_input": "2025-08-05T15:02:17.074188Z",
     "iopub.status.busy": "2025-08-05T15:02:17.073507Z",
     "iopub.status.idle": "2025-08-05T15:02:17.079143Z",
     "shell.execute_reply": "2025-08-05T15:02:17.078057Z"
    },
    "papermill": {
     "duration": 0.027467,
     "end_time": "2025-08-05T15:02:17.080949",
     "exception": false,
     "start_time": "2025-08-05T15:02:17.053482",
     "status": "completed"
    },
    "tags": []
   },
   "outputs": [],
   "source": [
    "# EXCLUDE CERTAIN SUBGROUPS\n",
    "# ----------------------\n",
    "\n",
    "mode = universe.get(\"exclude_subgroups\", \"keep-all\") \n",
    "# Fetches the exclude_subgroups setting from the universe dict.\n",
    "# Defaults to \"keep-all\" if the key is missing."
   ]
  },
  {
   "cell_type": "code",
   "execution_count": 26,
   "id": "21994072",
   "metadata": {
    "execution": {
     "iopub.execute_input": "2025-08-05T15:02:17.117554Z",
     "iopub.status.busy": "2025-08-05T15:02:17.117071Z",
     "iopub.status.idle": "2025-08-05T15:02:17.123858Z",
     "shell.execute_reply": "2025-08-05T15:02:17.122817Z"
    },
    "papermill": {
     "duration": 0.026528,
     "end_time": "2025-08-05T15:02:17.125496",
     "exception": false,
     "start_time": "2025-08-05T15:02:17.098968",
     "status": "completed"
    },
    "tags": []
   },
   "outputs": [],
   "source": [
    "if mode == \"keep-all\":\n",
    "    keep_mask = pd.Series(True, index=org_train.index)\n",
    "\n",
    "# org_train contains the original feature columns from features_org (in Simson)\n",
    "# features_org contains unprocessed features, for me X_train at beginning ???\n",
    "# For keep-all, creates a boolean Series (keep_mask) of all True, so no rows are removed.\n",
    "\n",
    "elif mode == \"drop-non-german\":\n",
    "    keep_mask = org_train[\"maxdeutsch1\"] == 1 # ??? what about missing values?\n",
    "\n",
    "else:\n",
    "    raise ValueError(f\"Unsupported mode for exclude_subgroups: {mode}\")"
   ]
  },
  {
   "cell_type": "code",
   "execution_count": 27,
   "id": "71651440",
   "metadata": {
    "execution": {
     "iopub.execute_input": "2025-08-05T15:02:17.163477Z",
     "iopub.status.busy": "2025-08-05T15:02:17.162699Z",
     "iopub.status.idle": "2025-08-05T15:02:17.170302Z",
     "shell.execute_reply": "2025-08-05T15:02:17.169258Z"
    },
    "papermill": {
     "duration": 0.02826,
     "end_time": "2025-08-05T15:02:17.171942",
     "exception": false,
     "start_time": "2025-08-05T15:02:17.143682",
     "status": "completed"
    },
    "tags": []
   },
   "outputs": [
    {
     "name": "stdout",
     "output_type": "stream",
     "text": [
      "Dropping 3481 rows (13.92%) where mode='drop-non-german'\n"
     ]
    }
   ],
   "source": [
    "n_drop = (~keep_mask).sum() # Calculates how many rows are set to be dropped\n",
    "if n_drop > 0:\n",
    "    pct = n_drop / len(keep_mask) * 100\n",
    "    print(f\"Dropping {n_drop} rows ({pct:.2f}%) where mode='{mode}'\")"
   ]
  },
  {
   "cell_type": "code",
   "execution_count": 28,
   "id": "5fb8eee5",
   "metadata": {
    "execution": {
     "iopub.execute_input": "2025-08-05T15:02:17.208983Z",
     "iopub.status.busy": "2025-08-05T15:02:17.208424Z",
     "iopub.status.idle": "2025-08-05T15:02:17.223155Z",
     "shell.execute_reply": "2025-08-05T15:02:17.222065Z"
    },
    "papermill": {
     "duration": 0.035602,
     "end_time": "2025-08-05T15:02:17.224897",
     "exception": false,
     "start_time": "2025-08-05T15:02:17.189295",
     "status": "completed"
    },
    "tags": []
   },
   "outputs": [],
   "source": [
    "X_train = X_train[keep_mask]"
   ]
  },
  {
   "cell_type": "code",
   "execution_count": 29,
   "id": "b202bb3a",
   "metadata": {
    "execution": {
     "iopub.execute_input": "2025-08-05T15:02:17.262306Z",
     "iopub.status.busy": "2025-08-05T15:02:17.261997Z",
     "iopub.status.idle": "2025-08-05T15:02:17.268833Z",
     "shell.execute_reply": "2025-08-05T15:02:17.267748Z"
    },
    "papermill": {
     "duration": 0.026771,
     "end_time": "2025-08-05T15:02:17.270435",
     "exception": false,
     "start_time": "2025-08-05T15:02:17.243664",
     "status": "completed"
    },
    "tags": []
   },
   "outputs": [],
   "source": [
    "y_train = y_train[keep_mask]"
   ]
  },
  {
   "cell_type": "markdown",
   "id": "493e2ac3",
   "metadata": {
    "papermill": {
     "duration": 0.018197,
     "end_time": "2025-08-05T15:02:17.306699",
     "exception": false,
     "start_time": "2025-08-05T15:02:17.288502",
     "status": "completed"
    },
    "tags": []
   },
   "source": [
    "# Model Training"
   ]
  },
  {
   "cell_type": "code",
   "execution_count": 30,
   "id": "679e1268",
   "metadata": {
    "execution": {
     "iopub.execute_input": "2025-08-05T15:02:17.342651Z",
     "iopub.status.busy": "2025-08-05T15:02:17.342161Z",
     "iopub.status.idle": "2025-08-05T15:02:17.448790Z",
     "shell.execute_reply": "2025-08-05T15:02:17.447909Z"
    },
    "papermill": {
     "duration": 0.126204,
     "end_time": "2025-08-05T15:02:17.450549",
     "exception": false,
     "start_time": "2025-08-05T15:02:17.324345",
     "status": "completed"
    },
    "tags": []
   },
   "outputs": [],
   "source": [
    "from sklearn.linear_model import LogisticRegression\n",
    "from sklearn.ensemble import GradientBoostingClassifier, RandomForestClassifier\n",
    "\n",
    "if (universe[\"model\"] == \"logreg\"):\n",
    "    model = LogisticRegression() #penalty=\"none\", solver=\"newton-cg\", max_iter=1) # include random_state=19 ?\n",
    "elif (universe[\"model\"] == \"penalized_logreg\"):\n",
    "    model = LogisticRegression(penalty=\"l2\", C=0.1) #, solver=\"newton-cg\", max_iter=1)\n",
    "elif (universe[\"model\"] == \"rf\"):\n",
    "    model = RandomForestClassifier() # n_estimators=100, n_jobs=-1\n",
    "elif (universe[\"model\"] == \"gbm\"):\n",
    "    model = GradientBoostingClassifier()\n",
    "elif (universe[\"model\"] == \"elasticnet\"):\n",
    "    model = LogisticRegression(penalty = 'elasticnet', solver = 'saga', l1_ratio = 0.5) # max_iter=5000\n",
    "else:\n",
    "    raise \"Unsupported universe.model\""
   ]
  },
  {
   "cell_type": "code",
   "execution_count": 31,
   "id": "0cc8f744",
   "metadata": {
    "execution": {
     "iopub.execute_input": "2025-08-05T15:02:17.488748Z",
     "iopub.status.busy": "2025-08-05T15:02:17.487706Z",
     "iopub.status.idle": "2025-08-05T15:02:17.494749Z",
     "shell.execute_reply": "2025-08-05T15:02:17.493790Z"
    },
    "papermill": {
     "duration": 0.027408,
     "end_time": "2025-08-05T15:02:17.496454",
     "exception": false,
     "start_time": "2025-08-05T15:02:17.469046",
     "status": "completed"
    },
    "tags": []
   },
   "outputs": [],
   "source": [
    "import numpy as np\n",
    "from sklearn.pipeline import Pipeline\n",
    "from sklearn.preprocessing import StandardScaler\n",
    "\n",
    "model = Pipeline([\n",
    "    #(\"continuous_processor\", continuous_processor),\n",
    "    #(\"categorical_preprocessor\", categorical_preprocessor),\n",
    "    (\"scale\", StandardScaler() if universe[\"scale\"] == \"scale\" else None), \n",
    "    (\"model\", model),\n",
    "])"
   ]
  },
  {
   "cell_type": "code",
   "execution_count": 32,
   "id": "9442c04d",
   "metadata": {
    "execution": {
     "iopub.execute_input": "2025-08-05T15:02:17.534707Z",
     "iopub.status.busy": "2025-08-05T15:02:17.534001Z",
     "iopub.status.idle": "2025-08-05T15:02:37.471272Z",
     "shell.execute_reply": "2025-08-05T15:02:37.470370Z"
    },
    "papermill": {
     "duration": 19.957481,
     "end_time": "2025-08-05T15:02:37.472506",
     "exception": false,
     "start_time": "2025-08-05T15:02:17.515025",
     "status": "completed"
    },
    "tags": []
   },
   "outputs": [
    {
     "data": {
      "text/html": [
       "<style>#sk-container-id-1 {color: black;background-color: white;}#sk-container-id-1 pre{padding: 0;}#sk-container-id-1 div.sk-toggleable {background-color: white;}#sk-container-id-1 label.sk-toggleable__label {cursor: pointer;display: block;width: 100%;margin-bottom: 0;padding: 0.3em;box-sizing: border-box;text-align: center;}#sk-container-id-1 label.sk-toggleable__label-arrow:before {content: \"▸\";float: left;margin-right: 0.25em;color: #696969;}#sk-container-id-1 label.sk-toggleable__label-arrow:hover:before {color: black;}#sk-container-id-1 div.sk-estimator:hover label.sk-toggleable__label-arrow:before {color: black;}#sk-container-id-1 div.sk-toggleable__content {max-height: 0;max-width: 0;overflow: hidden;text-align: left;background-color: #f0f8ff;}#sk-container-id-1 div.sk-toggleable__content pre {margin: 0.2em;color: black;border-radius: 0.25em;background-color: #f0f8ff;}#sk-container-id-1 input.sk-toggleable__control:checked~div.sk-toggleable__content {max-height: 200px;max-width: 100%;overflow: auto;}#sk-container-id-1 input.sk-toggleable__control:checked~label.sk-toggleable__label-arrow:before {content: \"▾\";}#sk-container-id-1 div.sk-estimator input.sk-toggleable__control:checked~label.sk-toggleable__label {background-color: #d4ebff;}#sk-container-id-1 div.sk-label input.sk-toggleable__control:checked~label.sk-toggleable__label {background-color: #d4ebff;}#sk-container-id-1 input.sk-hidden--visually {border: 0;clip: rect(1px 1px 1px 1px);clip: rect(1px, 1px, 1px, 1px);height: 1px;margin: -1px;overflow: hidden;padding: 0;position: absolute;width: 1px;}#sk-container-id-1 div.sk-estimator {font-family: monospace;background-color: #f0f8ff;border: 1px dotted black;border-radius: 0.25em;box-sizing: border-box;margin-bottom: 0.5em;}#sk-container-id-1 div.sk-estimator:hover {background-color: #d4ebff;}#sk-container-id-1 div.sk-parallel-item::after {content: \"\";width: 100%;border-bottom: 1px solid gray;flex-grow: 1;}#sk-container-id-1 div.sk-label:hover label.sk-toggleable__label {background-color: #d4ebff;}#sk-container-id-1 div.sk-serial::before {content: \"\";position: absolute;border-left: 1px solid gray;box-sizing: border-box;top: 0;bottom: 0;left: 50%;z-index: 0;}#sk-container-id-1 div.sk-serial {display: flex;flex-direction: column;align-items: center;background-color: white;padding-right: 0.2em;padding-left: 0.2em;position: relative;}#sk-container-id-1 div.sk-item {position: relative;z-index: 1;}#sk-container-id-1 div.sk-parallel {display: flex;align-items: stretch;justify-content: center;background-color: white;position: relative;}#sk-container-id-1 div.sk-item::before, #sk-container-id-1 div.sk-parallel-item::before {content: \"\";position: absolute;border-left: 1px solid gray;box-sizing: border-box;top: 0;bottom: 0;left: 50%;z-index: -1;}#sk-container-id-1 div.sk-parallel-item {display: flex;flex-direction: column;z-index: 1;position: relative;background-color: white;}#sk-container-id-1 div.sk-parallel-item:first-child::after {align-self: flex-end;width: 50%;}#sk-container-id-1 div.sk-parallel-item:last-child::after {align-self: flex-start;width: 50%;}#sk-container-id-1 div.sk-parallel-item:only-child::after {width: 0;}#sk-container-id-1 div.sk-dashed-wrapped {border: 1px dashed gray;margin: 0 0.4em 0.5em 0.4em;box-sizing: border-box;padding-bottom: 0.4em;background-color: white;}#sk-container-id-1 div.sk-label label {font-family: monospace;font-weight: bold;display: inline-block;line-height: 1.2em;}#sk-container-id-1 div.sk-label-container {text-align: center;}#sk-container-id-1 div.sk-container {/* jupyter's `normalize.less` sets `[hidden] { display: none; }` but bootstrap.min.css set `[hidden] { display: none !important; }` so we also need the `!important` here to be able to override the default hidden behavior on the sphinx rendered scikit-learn.org. See: https://github.com/scikit-learn/scikit-learn/issues/21755 */display: inline-block !important;position: relative;}#sk-container-id-1 div.sk-text-repr-fallback {display: none;}</style><div id=\"sk-container-id-1\" class=\"sk-top-container\"><div class=\"sk-text-repr-fallback\"><pre>Pipeline(steps=[(&#x27;scale&#x27;, None), (&#x27;model&#x27;, GradientBoostingClassifier())])</pre><b>In a Jupyter environment, please rerun this cell to show the HTML representation or trust the notebook. <br />On GitHub, the HTML representation is unable to render, please try loading this page with nbviewer.org.</b></div><div class=\"sk-container\" hidden><div class=\"sk-item sk-dashed-wrapped\"><div class=\"sk-label-container\"><div class=\"sk-label sk-toggleable\"><input class=\"sk-toggleable__control sk-hidden--visually\" id=\"sk-estimator-id-1\" type=\"checkbox\" ><label for=\"sk-estimator-id-1\" class=\"sk-toggleable__label sk-toggleable__label-arrow\">Pipeline</label><div class=\"sk-toggleable__content\"><pre>Pipeline(steps=[(&#x27;scale&#x27;, None), (&#x27;model&#x27;, GradientBoostingClassifier())])</pre></div></div></div><div class=\"sk-serial\"><div class=\"sk-item\"><div class=\"sk-estimator sk-toggleable\"><input class=\"sk-toggleable__control sk-hidden--visually\" id=\"sk-estimator-id-2\" type=\"checkbox\" ><label for=\"sk-estimator-id-2\" class=\"sk-toggleable__label sk-toggleable__label-arrow\">None</label><div class=\"sk-toggleable__content\"><pre>None</pre></div></div></div><div class=\"sk-item\"><div class=\"sk-estimator sk-toggleable\"><input class=\"sk-toggleable__control sk-hidden--visually\" id=\"sk-estimator-id-3\" type=\"checkbox\" ><label for=\"sk-estimator-id-3\" class=\"sk-toggleable__label sk-toggleable__label-arrow\">GradientBoostingClassifier</label><div class=\"sk-toggleable__content\"><pre>GradientBoostingClassifier()</pre></div></div></div></div></div></div></div>"
      ],
      "text/plain": [
       "Pipeline(steps=[('scale', None), ('model', GradientBoostingClassifier())])"
      ]
     },
     "execution_count": 32,
     "metadata": {},
     "output_type": "execute_result"
    }
   ],
   "source": [
    "model.fit(X_train, y_train.values.ravel())"
   ]
  },
  {
   "cell_type": "code",
   "execution_count": 33,
   "id": "af59f8c0",
   "metadata": {
    "execution": {
     "iopub.execute_input": "2025-08-05T15:02:37.495680Z",
     "iopub.status.busy": "2025-08-05T15:02:37.495388Z",
     "iopub.status.idle": "2025-08-05T15:02:37.499852Z",
     "shell.execute_reply": "2025-08-05T15:02:37.498875Z"
    },
    "papermill": {
     "duration": 0.016216,
     "end_time": "2025-08-05T15:02:37.501246",
     "exception": false,
     "start_time": "2025-08-05T15:02:37.485030",
     "status": "completed"
    },
    "tags": []
   },
   "outputs": [],
   "source": [
    "from fairness_multiverse.universe import predict_w_threshold"
   ]
  },
  {
   "cell_type": "code",
   "execution_count": 34,
   "id": "a7cf2e16",
   "metadata": {
    "execution": {
     "iopub.execute_input": "2025-08-05T15:02:37.522402Z",
     "iopub.status.busy": "2025-08-05T15:02:37.522072Z",
     "iopub.status.idle": "2025-08-05T15:02:37.954823Z",
     "shell.execute_reply": "2025-08-05T15:02:37.953819Z"
    },
    "papermill": {
     "duration": 0.444434,
     "end_time": "2025-08-05T15:02:37.956174",
     "exception": false,
     "start_time": "2025-08-05T15:02:37.511740",
     "status": "completed"
    },
    "tags": []
   },
   "outputs": [
    {
     "data": {
      "text/plain": [
       "0.8688774941478096"
      ]
     },
     "execution_count": 34,
     "metadata": {},
     "output_type": "execute_result"
    }
   ],
   "source": [
    "probs_test = model.predict_proba(X_test)\n",
    "\n",
    "'''\n",
    "Below code returns a boolean array (or binary 0/1 array depending on how it’s used) where each element \n",
    "is True if the probability of class 1 is greater than or equal to the threshold, and False otherwise.\n",
    "'''\n",
    "y_pred_default = predict_w_threshold(probs_test, 0.5)\n",
    "\n",
    "from sklearn.metrics import accuracy_score\n",
    "\n",
    "# Naive prediction\n",
    "accuracy_score(y_true = y_true, y_pred = y_pred_default)"
   ]
  },
  {
   "cell_type": "code",
   "execution_count": 35,
   "id": "081964c3",
   "metadata": {
    "execution": {
     "iopub.execute_input": "2025-08-05T15:02:37.977728Z",
     "iopub.status.busy": "2025-08-05T15:02:37.977352Z",
     "iopub.status.idle": "2025-08-05T15:02:38.499196Z",
     "shell.execute_reply": "2025-08-05T15:02:38.498375Z"
    },
    "papermill": {
     "duration": 0.534004,
     "end_time": "2025-08-05T15:02:38.500497",
     "exception": false,
     "start_time": "2025-08-05T15:02:37.966493",
     "status": "completed"
    },
    "tags": []
   },
   "outputs": [
    {
     "data": {
      "text/plain": [
       "array([0, 0, 0, ..., 0, 0, 0])"
      ]
     },
     "execution_count": 35,
     "metadata": {},
     "output_type": "execute_result"
    }
   ],
   "source": [
    "model.predict(X_test)"
   ]
  },
  {
   "cell_type": "markdown",
   "id": "56c9705b",
   "metadata": {
    "papermill": {
     "duration": 0.018386,
     "end_time": "2025-08-05T15:02:38.529617",
     "exception": false,
     "start_time": "2025-08-05T15:02:38.511231",
     "status": "completed"
    },
    "tags": []
   },
   "source": [
    "# Conformal Prediction"
   ]
  },
  {
   "cell_type": "code",
   "execution_count": 36,
   "id": "160ec6ff",
   "metadata": {
    "execution": {
     "iopub.execute_input": "2025-08-05T15:02:38.566594Z",
     "iopub.status.busy": "2025-08-05T15:02:38.566124Z",
     "iopub.status.idle": "2025-08-05T15:02:38.570231Z",
     "shell.execute_reply": "2025-08-05T15:02:38.569332Z"
    },
    "papermill": {
     "duration": 0.021608,
     "end_time": "2025-08-05T15:02:38.571491",
     "exception": false,
     "start_time": "2025-08-05T15:02:38.549883",
     "status": "completed"
    },
    "tags": []
   },
   "outputs": [],
   "source": [
    "# Miscoverage level for conformal prediction (10% allowed error rate => 90% target coverage)\n",
    "alpha = 0.1"
   ]
  },
  {
   "cell_type": "code",
   "execution_count": 37,
   "id": "eadf4555-3dd3-440e-8e35-f82a4ad9f855",
   "metadata": {
    "execution": {
     "iopub.execute_input": "2025-08-05T15:02:38.593875Z",
     "iopub.status.busy": "2025-08-05T15:02:38.593353Z",
     "iopub.status.idle": "2025-08-05T15:02:39.213756Z",
     "shell.execute_reply": "2025-08-05T15:02:39.212681Z"
    },
    "papermill": {
     "duration": 0.632961,
     "end_time": "2025-08-05T15:02:39.215699",
     "exception": false,
     "start_time": "2025-08-05T15:02:38.582738",
     "status": "completed"
    },
    "tags": []
   },
   "outputs": [],
   "source": [
    "probs_calib = model.predict_proba(X_calib)"
   ]
  },
  {
   "cell_type": "code",
   "execution_count": 38,
   "id": "2ed93547-6d5d-4983-9b36-1ecb300da49a",
   "metadata": {
    "execution": {
     "iopub.execute_input": "2025-08-05T15:02:39.257669Z",
     "iopub.status.busy": "2025-08-05T15:02:39.256731Z",
     "iopub.status.idle": "2025-08-05T15:02:39.262812Z",
     "shell.execute_reply": "2025-08-05T15:02:39.261696Z"
    },
    "papermill": {
     "duration": 0.028755,
     "end_time": "2025-08-05T15:02:39.264661",
     "exception": false,
     "start_time": "2025-08-05T15:02:39.235906",
     "status": "completed"
    },
    "tags": []
   },
   "outputs": [],
   "source": [
    "y_calib = y_calib.values.ravel().astype(int)"
   ]
  },
  {
   "cell_type": "code",
   "execution_count": 39,
   "id": "65d1320d-f588-4b38-9072-62af1ae97f7d",
   "metadata": {
    "execution": {
     "iopub.execute_input": "2025-08-05T15:02:39.306699Z",
     "iopub.status.busy": "2025-08-05T15:02:39.305885Z",
     "iopub.status.idle": "2025-08-05T15:02:39.314006Z",
     "shell.execute_reply": "2025-08-05T15:02:39.312953Z"
    },
    "papermill": {
     "duration": 0.030185,
     "end_time": "2025-08-05T15:02:39.315520",
     "exception": false,
     "start_time": "2025-08-05T15:02:39.285335",
     "status": "completed"
    },
    "tags": []
   },
   "outputs": [],
   "source": [
    "from fairness_multiverse.conformal import compute_nc_scores\n",
    "\n",
    "# Compute nonconformity scores on calibration set (1 - probability of true class)\n",
    "nc_scores = compute_nc_scores(probs_calib, y_calib)"
   ]
  },
  {
   "cell_type": "code",
   "execution_count": 40,
   "id": "df3b8ca3-53b7-43d5-9667-7c85da7aeda2",
   "metadata": {
    "execution": {
     "iopub.execute_input": "2025-08-05T15:02:39.359039Z",
     "iopub.status.busy": "2025-08-05T15:02:39.358092Z",
     "iopub.status.idle": "2025-08-05T15:02:39.364924Z",
     "shell.execute_reply": "2025-08-05T15:02:39.363825Z"
    },
    "papermill": {
     "duration": 0.030124,
     "end_time": "2025-08-05T15:02:39.366584",
     "exception": false,
     "start_time": "2025-08-05T15:02:39.336460",
     "status": "completed"
    },
    "tags": []
   },
   "outputs": [],
   "source": [
    "from fairness_multiverse.conformal import find_threshold\n",
    "\n",
    "# Find conformal threshold q_hat for the given alpha (split conformal method)\n",
    "q_hat = find_threshold(nc_scores, alpha)"
   ]
  },
  {
   "cell_type": "code",
   "execution_count": 41,
   "id": "4d29e6c1-0ef6-4aa4-b8fe-4fe79b0d033a",
   "metadata": {
    "execution": {
     "iopub.execute_input": "2025-08-05T15:02:39.409496Z",
     "iopub.status.busy": "2025-08-05T15:02:39.408529Z",
     "iopub.status.idle": "2025-08-05T15:02:39.416107Z",
     "shell.execute_reply": "2025-08-05T15:02:39.415157Z"
    },
    "papermill": {
     "duration": 0.030866,
     "end_time": "2025-08-05T15:02:39.418102",
     "exception": false,
     "start_time": "2025-08-05T15:02:39.387236",
     "status": "completed"
    },
    "tags": []
   },
   "outputs": [
    {
     "data": {
      "text/plain": [
       "0.6778659500485036"
      ]
     },
     "execution_count": 41,
     "metadata": {},
     "output_type": "execute_result"
    }
   ],
   "source": [
    "q_hat"
   ]
  },
  {
   "cell_type": "code",
   "execution_count": 42,
   "id": "92460794-cdac-4be2-ba28-f28c0515a6fb",
   "metadata": {
    "execution": {
     "iopub.execute_input": "2025-08-05T15:02:39.459764Z",
     "iopub.status.busy": "2025-08-05T15:02:39.459308Z",
     "iopub.status.idle": "2025-08-05T15:02:40.694013Z",
     "shell.execute_reply": "2025-08-05T15:02:40.692973Z"
    },
    "papermill": {
     "duration": 1.258103,
     "end_time": "2025-08-05T15:02:40.696002",
     "exception": false,
     "start_time": "2025-08-05T15:02:39.437899",
     "status": "completed"
    },
    "tags": []
   },
   "outputs": [],
   "source": [
    "from fairness_multiverse.conformal import predict_conformal_sets\n",
    "\n",
    "# Generate prediction sets for each test example\n",
    "pred_sets = predict_conformal_sets(model, X_test, q_hat)"
   ]
  },
  {
   "cell_type": "code",
   "execution_count": 43,
   "id": "d90c9a65-e6db-4f5d-80cd-e68fb7e46829",
   "metadata": {
    "execution": {
     "iopub.execute_input": "2025-08-05T15:02:40.738692Z",
     "iopub.status.busy": "2025-08-05T15:02:40.738095Z",
     "iopub.status.idle": "2025-08-05T15:02:40.745401Z",
     "shell.execute_reply": "2025-08-05T15:02:40.744138Z"
    },
    "papermill": {
     "duration": 0.030914,
     "end_time": "2025-08-05T15:02:40.747787",
     "exception": false,
     "start_time": "2025-08-05T15:02:40.716873",
     "status": "completed"
    },
    "tags": []
   },
   "outputs": [],
   "source": [
    "y_true = y_true.squeeze()"
   ]
  },
  {
   "cell_type": "code",
   "execution_count": 44,
   "id": "3a58a54a-1e68-46b9-927a-df01f18aebc8",
   "metadata": {
    "execution": {
     "iopub.execute_input": "2025-08-05T15:02:40.788685Z",
     "iopub.status.busy": "2025-08-05T15:02:40.788168Z",
     "iopub.status.idle": "2025-08-05T15:02:41.671324Z",
     "shell.execute_reply": "2025-08-05T15:02:41.670273Z"
    },
    "papermill": {
     "duration": 0.8984,
     "end_time": "2025-08-05T15:02:41.672916",
     "exception": false,
     "start_time": "2025-08-05T15:02:40.774516",
     "status": "completed"
    },
    "tags": []
   },
   "outputs": [],
   "source": [
    "from fairness_multiverse.conformal import evaluate_sets\n",
    "\n",
    "# Evaluate coverage and average set size on test data\n",
    "metrics = evaluate_sets(pred_sets, y_true)"
   ]
  },
  {
   "cell_type": "markdown",
   "id": "2b569c12-9aaa-4c88-98c9-bbcd0cf3ebb8",
   "metadata": {
    "papermill": {
     "duration": 0.021627,
     "end_time": "2025-08-05T15:02:41.716731",
     "exception": false,
     "start_time": "2025-08-05T15:02:41.695104",
     "status": "completed"
    },
    "tags": []
   },
   "source": [
    "# CP Metrics"
   ]
  },
  {
   "cell_type": "code",
   "execution_count": 45,
   "id": "5ce0a5cb-201f-45a0-ade5-94c7f0bd6095",
   "metadata": {
    "execution": {
     "iopub.execute_input": "2025-08-05T15:02:41.758045Z",
     "iopub.status.busy": "2025-08-05T15:02:41.757466Z",
     "iopub.status.idle": "2025-08-05T15:02:41.765320Z",
     "shell.execute_reply": "2025-08-05T15:02:41.764404Z"
    },
    "papermill": {
     "duration": 0.030032,
     "end_time": "2025-08-05T15:02:41.766907",
     "exception": false,
     "start_time": "2025-08-05T15:02:41.736875",
     "status": "completed"
    },
    "tags": []
   },
   "outputs": [
    {
     "data": {
      "text/plain": [
       "{'coverage': 0.9112807936684874, 'avg_size': 1.1217478541968566}"
      ]
     },
     "execution_count": 45,
     "metadata": {},
     "output_type": "execute_result"
    }
   ],
   "source": [
    "metrics"
   ]
  },
  {
   "cell_type": "code",
   "execution_count": 46,
   "id": "9b9a838d-31c9-430b-ae14-12baee460d17",
   "metadata": {
    "execution": {
     "iopub.execute_input": "2025-08-05T15:02:41.792160Z",
     "iopub.status.busy": "2025-08-05T15:02:41.791812Z",
     "iopub.status.idle": "2025-08-05T15:02:41.797022Z",
     "shell.execute_reply": "2025-08-05T15:02:41.796082Z"
    },
    "papermill": {
     "duration": 0.018491,
     "end_time": "2025-08-05T15:02:41.798615",
     "exception": false,
     "start_time": "2025-08-05T15:02:41.780124",
     "status": "completed"
    },
    "tags": []
   },
   "outputs": [],
   "source": [
    "example_universe = universe.copy()\n",
    "universe_training_year = example_universe.get(\"training_year\")\n",
    "universe_training_size = example_universe.get(\"training_size\")\n",
    "universe_scale = example_universe.get(\"scale\")\n",
    "universe_model = example_universe.get(\"model\")\n",
    "universe_exclude_features = example_universe.get(\"exclude_features\")\n",
    "universe_exclude_subgroups = example_universe.get(\"exclude_subgroups\")"
   ]
  },
  {
   "cell_type": "code",
   "execution_count": 47,
   "id": "f4b6a8ac-9dc0-4245-8a91-5b3b5999c4f9",
   "metadata": {
    "execution": {
     "iopub.execute_input": "2025-08-05T15:02:41.825022Z",
     "iopub.status.busy": "2025-08-05T15:02:41.824499Z",
     "iopub.status.idle": "2025-08-05T15:02:41.831508Z",
     "shell.execute_reply": "2025-08-05T15:02:41.830559Z"
    },
    "papermill": {
     "duration": 0.022954,
     "end_time": "2025-08-05T15:02:41.833159",
     "exception": false,
     "start_time": "2025-08-05T15:02:41.810205",
     "status": "completed"
    },
    "tags": []
   },
   "outputs": [],
   "source": [
    "cp_metrics_dict = {\n",
    "    \"universe_id\": [universe_id],\n",
    "    \"universe_training_year\": [universe_training_year],\n",
    "    \"universe_training_size\": [universe_training_size],\n",
    "    \"universe_scale\": [universe_scale],\n",
    "    \"universe_model\": [universe_model],\n",
    "    \"universe_exclude_features\": [universe_exclude_features],\n",
    "    \"universe_exclude_subgroups\": [universe_exclude_subgroups],\n",
    "    \"q_hat\": [q_hat],\n",
    "    \"coverage\": [metrics[\"coverage\"]],\n",
    "    \"avg_size\": [metrics[\"avg_size\"]],\n",
    "}"
   ]
  },
  {
   "cell_type": "code",
   "execution_count": 48,
   "id": "908acbb1-0371-4915-85ca-3fa520d2efe2",
   "metadata": {
    "execution": {
     "iopub.execute_input": "2025-08-05T15:02:41.876978Z",
     "iopub.status.busy": "2025-08-05T15:02:41.876566Z",
     "iopub.status.idle": "2025-08-05T15:02:41.883969Z",
     "shell.execute_reply": "2025-08-05T15:02:41.883092Z"
    },
    "papermill": {
     "duration": 0.026932,
     "end_time": "2025-08-05T15:02:41.885398",
     "exception": false,
     "start_time": "2025-08-05T15:02:41.858466",
     "status": "completed"
    },
    "tags": []
   },
   "outputs": [
    {
     "data": {
      "text/plain": [
       "{'universe_id': ['5d83e97d94109b78c6fd03439ea0fb0c'],\n",
       " 'universe_training_year': ['2012_14'],\n",
       " 'universe_training_size': ['25k'],\n",
       " 'universe_scale': ['do-not-scale'],\n",
       " 'universe_model': ['gbm'],\n",
       " 'universe_exclude_features': ['age'],\n",
       " 'universe_exclude_subgroups': ['drop-non-german'],\n",
       " 'q_hat': [0.6778659500485036],\n",
       " 'coverage': [0.9112807936684874],\n",
       " 'avg_size': [1.1217478541968566]}"
      ]
     },
     "execution_count": 48,
     "metadata": {},
     "output_type": "execute_result"
    }
   ],
   "source": [
    "cp_metrics_dict"
   ]
  },
  {
   "cell_type": "code",
   "execution_count": 49,
   "id": "33007efc-14e9-4ec6-97ac-56a455c82265",
   "metadata": {
    "execution": {
     "iopub.execute_input": "2025-08-05T15:02:41.911979Z",
     "iopub.status.busy": "2025-08-05T15:02:41.911459Z",
     "iopub.status.idle": "2025-08-05T15:02:41.917356Z",
     "shell.execute_reply": "2025-08-05T15:02:41.916526Z"
    },
    "papermill": {
     "duration": 0.020152,
     "end_time": "2025-08-05T15:02:41.918905",
     "exception": false,
     "start_time": "2025-08-05T15:02:41.898753",
     "status": "completed"
    },
    "tags": []
   },
   "outputs": [],
   "source": [
    "cp_metrics_df = pd.DataFrame(cp_metrics_dict)"
   ]
  },
  {
   "cell_type": "code",
   "execution_count": 50,
   "id": "db12611b-57b2-4910-b9d0-355adfd6e7bf",
   "metadata": {
    "execution": {
     "iopub.execute_input": "2025-08-05T15:02:41.943677Z",
     "iopub.status.busy": "2025-08-05T15:02:41.942944Z",
     "iopub.status.idle": "2025-08-05T15:02:41.957931Z",
     "shell.execute_reply": "2025-08-05T15:02:41.957044Z"
    },
    "papermill": {
     "duration": 0.028459,
     "end_time": "2025-08-05T15:02:41.959351",
     "exception": false,
     "start_time": "2025-08-05T15:02:41.930892",
     "status": "completed"
    },
    "tags": []
   },
   "outputs": [
    {
     "data": {
      "text/html": [
       "<div>\n",
       "<style scoped>\n",
       "    .dataframe tbody tr th:only-of-type {\n",
       "        vertical-align: middle;\n",
       "    }\n",
       "\n",
       "    .dataframe tbody tr th {\n",
       "        vertical-align: top;\n",
       "    }\n",
       "\n",
       "    .dataframe thead th {\n",
       "        text-align: right;\n",
       "    }\n",
       "</style>\n",
       "<table border=\"1\" class=\"dataframe\">\n",
       "  <thead>\n",
       "    <tr style=\"text-align: right;\">\n",
       "      <th></th>\n",
       "      <th>universe_id</th>\n",
       "      <th>universe_training_year</th>\n",
       "      <th>universe_training_size</th>\n",
       "      <th>universe_scale</th>\n",
       "      <th>universe_model</th>\n",
       "      <th>universe_exclude_features</th>\n",
       "      <th>universe_exclude_subgroups</th>\n",
       "      <th>q_hat</th>\n",
       "      <th>coverage</th>\n",
       "      <th>avg_size</th>\n",
       "    </tr>\n",
       "  </thead>\n",
       "  <tbody>\n",
       "    <tr>\n",
       "      <th>0</th>\n",
       "      <td>5d83e97d94109b78c6fd03439ea0fb0c</td>\n",
       "      <td>2012_14</td>\n",
       "      <td>25k</td>\n",
       "      <td>do-not-scale</td>\n",
       "      <td>gbm</td>\n",
       "      <td>age</td>\n",
       "      <td>drop-non-german</td>\n",
       "      <td>0.677866</td>\n",
       "      <td>0.911281</td>\n",
       "      <td>1.121748</td>\n",
       "    </tr>\n",
       "  </tbody>\n",
       "</table>\n",
       "</div>"
      ],
      "text/plain": [
       "                        universe_id universe_training_year  \\\n",
       "0  5d83e97d94109b78c6fd03439ea0fb0c                2012_14   \n",
       "\n",
       "  universe_training_size universe_scale universe_model  \\\n",
       "0                    25k   do-not-scale            gbm   \n",
       "\n",
       "  universe_exclude_features universe_exclude_subgroups     q_hat  coverage  \\\n",
       "0                       age            drop-non-german  0.677866  0.911281   \n",
       "\n",
       "   avg_size  \n",
       "0  1.121748  "
      ]
     },
     "execution_count": 50,
     "metadata": {},
     "output_type": "execute_result"
    }
   ],
   "source": [
    "cp_metrics_df"
   ]
  },
  {
   "cell_type": "code",
   "execution_count": 51,
   "id": "b7fbde55-a0a1-47e4-9af6-fe4a17fa8c61",
   "metadata": {
    "execution": {
     "iopub.execute_input": "2025-08-05T15:02:41.983895Z",
     "iopub.status.busy": "2025-08-05T15:02:41.983174Z",
     "iopub.status.idle": "2025-08-05T15:02:41.987882Z",
     "shell.execute_reply": "2025-08-05T15:02:41.987080Z"
    },
    "papermill": {
     "duration": 0.018256,
     "end_time": "2025-08-05T15:02:41.989430",
     "exception": false,
     "start_time": "2025-08-05T15:02:41.971174",
     "status": "completed"
    },
    "tags": []
   },
   "outputs": [],
   "source": [
    "# Conditional Coverage & looking at subgroups"
   ]
  },
  {
   "cell_type": "code",
   "execution_count": 52,
   "id": "027ae886-68dd-4141-96c7-805a5450e1ef",
   "metadata": {
    "execution": {
     "iopub.execute_input": "2025-08-05T15:02:42.014903Z",
     "iopub.status.busy": "2025-08-05T15:02:42.014390Z",
     "iopub.status.idle": "2025-08-05T15:02:42.206094Z",
     "shell.execute_reply": "2025-08-05T15:02:42.205226Z"
    },
    "papermill": {
     "duration": 0.20561,
     "end_time": "2025-08-05T15:02:42.207614",
     "exception": false,
     "start_time": "2025-08-05T15:02:42.002004",
     "status": "completed"
    },
    "tags": []
   },
   "outputs": [],
   "source": [
    "from fairness_multiverse.conformal import build_cp_groups\n",
    "\n",
    "cp_groups_df = build_cp_groups(pred_sets, y_true, X_test.index, org_test)\n",
    "#needs universe_id and setting"
   ]
  },
  {
   "cell_type": "code",
   "execution_count": 53,
   "id": "6cbdab96-b2b2-45af-ad54-d0516db2e28d",
   "metadata": {
    "execution": {
     "iopub.execute_input": "2025-08-05T15:02:42.234685Z",
     "iopub.status.busy": "2025-08-05T15:02:42.234323Z",
     "iopub.status.idle": "2025-08-05T15:02:43.537871Z",
     "shell.execute_reply": "2025-08-05T15:02:43.536706Z"
    },
    "papermill": {
     "duration": 1.317843,
     "end_time": "2025-08-05T15:02:43.539774",
     "exception": false,
     "start_time": "2025-08-05T15:02:42.221931",
     "status": "completed"
    },
    "tags": []
   },
   "outputs": [],
   "source": [
    "# Define covered = 1 if true_label is in the predicted set\n",
    "cp_groups_df['covered'] = cp_groups_df.apply(\n",
    "    lambda r: int(r['true_label'] in r['pred_set']),\n",
    "    axis=1\n",
    ")"
   ]
  },
  {
   "cell_type": "code",
   "execution_count": 54,
   "id": "338ff529-1a6b-4b87-a931-8e4788d52aad",
   "metadata": {
    "execution": {
     "iopub.execute_input": "2025-08-05T15:02:43.583941Z",
     "iopub.status.busy": "2025-08-05T15:02:43.583243Z",
     "iopub.status.idle": "2025-08-05T15:02:43.589062Z",
     "shell.execute_reply": "2025-08-05T15:02:43.587839Z"
    },
    "papermill": {
     "duration": 0.029913,
     "end_time": "2025-08-05T15:02:43.590913",
     "exception": false,
     "start_time": "2025-08-05T15:02:43.561000",
     "status": "completed"
    },
    "tags": []
   },
   "outputs": [],
   "source": [
    "#cp_groups_df"
   ]
  },
  {
   "cell_type": "code",
   "execution_count": 55,
   "id": "90032e27-66df-4540-9169-4e89cfbaa758",
   "metadata": {
    "execution": {
     "iopub.execute_input": "2025-08-05T15:02:43.634796Z",
     "iopub.status.busy": "2025-08-05T15:02:43.633808Z",
     "iopub.status.idle": "2025-08-05T15:02:43.650027Z",
     "shell.execute_reply": "2025-08-05T15:02:43.648813Z"
    },
    "papermill": {
     "duration": 0.040014,
     "end_time": "2025-08-05T15:02:43.651869",
     "exception": false,
     "start_time": "2025-08-05T15:02:43.611855",
     "status": "completed"
    },
    "tags": []
   },
   "outputs": [],
   "source": [
    "subgroups = ['frau1','nongerman','nongerman_male','nongerman_female']\n",
    "\n",
    "# Conditional coverage for subgroup==1\n",
    "cond_coverage = {\n",
    "    g: cp_groups_df.loc[cp_groups_df[g]==1, 'covered'].mean()\n",
    "    for g in subgroups\n",
    "}"
   ]
  },
  {
   "cell_type": "code",
   "execution_count": 56,
   "id": "1e348fb1-b9c3-45bc-ba23-f016827a7e0d",
   "metadata": {
    "execution": {
     "iopub.execute_input": "2025-08-05T15:02:43.695618Z",
     "iopub.status.busy": "2025-08-05T15:02:43.694605Z",
     "iopub.status.idle": "2025-08-05T15:02:43.704020Z",
     "shell.execute_reply": "2025-08-05T15:02:43.702753Z"
    },
    "papermill": {
     "duration": 0.033353,
     "end_time": "2025-08-05T15:02:43.705874",
     "exception": false,
     "start_time": "2025-08-05T15:02:43.672521",
     "status": "completed"
    },
    "tags": []
   },
   "outputs": [
    {
     "data": {
      "text/plain": [
       "{'frau1': 0.9117670845127376,\n",
       " 'nongerman': 0.9061921068882277,\n",
       " 'nongerman_male': 0.9231739169593803,\n",
       " 'nongerman_female': 0.8780923994038748}"
      ]
     },
     "execution_count": 56,
     "metadata": {},
     "output_type": "execute_result"
    }
   ],
   "source": [
    "cond_coverage"
   ]
  },
  {
   "cell_type": "code",
   "execution_count": 57,
   "id": "f5093324-c3dd-4d63-bc4c-8d945e5c8bbb",
   "metadata": {
    "execution": {
     "iopub.execute_input": "2025-08-05T15:02:43.750187Z",
     "iopub.status.busy": "2025-08-05T15:02:43.749202Z",
     "iopub.status.idle": "2025-08-05T15:02:43.757570Z",
     "shell.execute_reply": "2025-08-05T15:02:43.756043Z"
    },
    "papermill": {
     "duration": 0.033648,
     "end_time": "2025-08-05T15:02:43.760293",
     "exception": false,
     "start_time": "2025-08-05T15:02:43.726645",
     "status": "completed"
    },
    "tags": []
   },
   "outputs": [],
   "source": [
    "for subgroup, cov in cond_coverage.items():\n",
    "    cp_metrics_df[f\"cov_{subgroup}\"] = cov"
   ]
  },
  {
   "cell_type": "code",
   "execution_count": 58,
   "id": "6e872e10-dbe5-49e8-b554-5030c98ff75d",
   "metadata": {
    "execution": {
     "iopub.execute_input": "2025-08-05T15:02:43.830450Z",
     "iopub.status.busy": "2025-08-05T15:02:43.829355Z",
     "iopub.status.idle": "2025-08-05T15:02:43.849113Z",
     "shell.execute_reply": "2025-08-05T15:02:43.847886Z"
    },
    "papermill": {
     "duration": 0.056943,
     "end_time": "2025-08-05T15:02:43.851449",
     "exception": false,
     "start_time": "2025-08-05T15:02:43.794506",
     "status": "completed"
    },
    "tags": []
   },
   "outputs": [
    {
     "data": {
      "text/html": [
       "<div>\n",
       "<style scoped>\n",
       "    .dataframe tbody tr th:only-of-type {\n",
       "        vertical-align: middle;\n",
       "    }\n",
       "\n",
       "    .dataframe tbody tr th {\n",
       "        vertical-align: top;\n",
       "    }\n",
       "\n",
       "    .dataframe thead th {\n",
       "        text-align: right;\n",
       "    }\n",
       "</style>\n",
       "<table border=\"1\" class=\"dataframe\">\n",
       "  <thead>\n",
       "    <tr style=\"text-align: right;\">\n",
       "      <th></th>\n",
       "      <th>universe_id</th>\n",
       "      <th>universe_training_year</th>\n",
       "      <th>universe_training_size</th>\n",
       "      <th>universe_scale</th>\n",
       "      <th>universe_model</th>\n",
       "      <th>universe_exclude_features</th>\n",
       "      <th>universe_exclude_subgroups</th>\n",
       "      <th>q_hat</th>\n",
       "      <th>coverage</th>\n",
       "      <th>avg_size</th>\n",
       "      <th>cov_frau1</th>\n",
       "      <th>cov_nongerman</th>\n",
       "      <th>cov_nongerman_male</th>\n",
       "      <th>cov_nongerman_female</th>\n",
       "    </tr>\n",
       "  </thead>\n",
       "  <tbody>\n",
       "    <tr>\n",
       "      <th>0</th>\n",
       "      <td>5d83e97d94109b78c6fd03439ea0fb0c</td>\n",
       "      <td>2012_14</td>\n",
       "      <td>25k</td>\n",
       "      <td>do-not-scale</td>\n",
       "      <td>gbm</td>\n",
       "      <td>age</td>\n",
       "      <td>drop-non-german</td>\n",
       "      <td>0.677866</td>\n",
       "      <td>0.911281</td>\n",
       "      <td>1.121748</td>\n",
       "      <td>0.911767</td>\n",
       "      <td>0.906192</td>\n",
       "      <td>0.923174</td>\n",
       "      <td>0.878092</td>\n",
       "    </tr>\n",
       "  </tbody>\n",
       "</table>\n",
       "</div>"
      ],
      "text/plain": [
       "                        universe_id universe_training_year  \\\n",
       "0  5d83e97d94109b78c6fd03439ea0fb0c                2012_14   \n",
       "\n",
       "  universe_training_size universe_scale universe_model  \\\n",
       "0                    25k   do-not-scale            gbm   \n",
       "\n",
       "  universe_exclude_features universe_exclude_subgroups     q_hat  coverage  \\\n",
       "0                       age            drop-non-german  0.677866  0.911281   \n",
       "\n",
       "   avg_size  cov_frau1  cov_nongerman  cov_nongerman_male  \\\n",
       "0  1.121748   0.911767       0.906192            0.923174   \n",
       "\n",
       "   cov_nongerman_female  \n",
       "0              0.878092  "
      ]
     },
     "execution_count": 58,
     "metadata": {},
     "output_type": "execute_result"
    }
   ],
   "source": [
    "cp_metrics_df"
   ]
  },
  {
   "cell_type": "markdown",
   "id": "33774451",
   "metadata": {
    "papermill": {
     "duration": 0.033924,
     "end_time": "2025-08-05T15:02:43.919662",
     "exception": false,
     "start_time": "2025-08-05T15:02:43.885738",
     "status": "completed"
    },
    "tags": []
   },
   "source": [
    "# (Fairness) Metrics"
   ]
  },
  {
   "cell_type": "code",
   "execution_count": 59,
   "id": "debc5d62",
   "metadata": {
    "execution": {
     "iopub.execute_input": "2025-08-05T15:02:43.977715Z",
     "iopub.status.busy": "2025-08-05T15:02:43.977028Z",
     "iopub.status.idle": "2025-08-05T15:02:43.998846Z",
     "shell.execute_reply": "2025-08-05T15:02:43.997856Z"
    },
    "papermill": {
     "duration": 0.052666,
     "end_time": "2025-08-05T15:02:44.001314",
     "exception": false,
     "start_time": "2025-08-05T15:02:43.948648",
     "status": "completed"
    },
    "tags": []
   },
   "outputs": [],
   "source": [
    "# do I need to include maxdeutsch1.missing?\n",
    "\n",
    "import numpy as np\n",
    "\n",
    "colname_to_bin = \"maxdeutsch1\"\n",
    "majority_value = org_train[colname_to_bin].mode()[0]\n",
    "\n",
    "org_test[\"majmin\"] = np.where(org_test[colname_to_bin] == majority_value, \"majority\", \"minority\")"
   ]
  },
  {
   "cell_type": "code",
   "execution_count": 60,
   "id": "06a50de5",
   "metadata": {
    "execution": {
     "iopub.execute_input": "2025-08-05T15:02:44.063397Z",
     "iopub.status.busy": "2025-08-05T15:02:44.063041Z",
     "iopub.status.idle": "2025-08-05T15:02:46.213143Z",
     "shell.execute_reply": "2025-08-05T15:02:46.212065Z"
    },
    "papermill": {
     "duration": 2.177928,
     "end_time": "2025-08-05T15:02:46.215099",
     "exception": false,
     "start_time": "2025-08-05T15:02:44.037171",
     "status": "completed"
    },
    "tags": []
   },
   "outputs": [],
   "source": [
    "example_universe = universe.copy()\n",
    "example_universe[\"cutoff\"] = example_universe[\"cutoff\"][0]\n",
    "example_universe[\"eval_fairness_grouping\"] = example_universe[\"eval_fairness_grouping\"][0]\n",
    "fairness_dict, metric_frame = universe_analysis.compute_metrics(\n",
    "    example_universe,\n",
    "    y_pred_prob=probs_test,\n",
    "    y_test=y_true,\n",
    "    org_test=org_test,\n",
    ")"
   ]
  },
  {
   "cell_type": "markdown",
   "id": "f95d4e02",
   "metadata": {
    "papermill": {
     "duration": 0.025432,
     "end_time": "2025-08-05T15:02:46.266905",
     "exception": false,
     "start_time": "2025-08-05T15:02:46.241473",
     "status": "completed"
    },
    "tags": []
   },
   "source": [
    "# Overall"
   ]
  },
  {
   "cell_type": "markdown",
   "id": "bdee4871",
   "metadata": {
    "papermill": {
     "duration": 0.024949,
     "end_time": "2025-08-05T15:02:46.317552",
     "exception": false,
     "start_time": "2025-08-05T15:02:46.292603",
     "status": "completed"
    },
    "tags": []
   },
   "source": [
    "Fairness\n",
    "Main fairness target: Equalized Odds. Seems to be a better fit than equal opportunity, since we're not only interested in Y = 1. Seems to be a better fit than demographic parity, since we also care about accuracy, not just equal distribution of preds.\n",
    "\n",
    "Pick column for computation of fairness metrics\n",
    "\n",
    "Performance\n",
    "Overall performance measures, most interesting in relation to the measures split by group below"
   ]
  },
  {
   "cell_type": "code",
   "execution_count": 61,
   "id": "c4e067c6",
   "metadata": {
    "execution": {
     "iopub.execute_input": "2025-08-05T15:02:46.368385Z",
     "iopub.status.busy": "2025-08-05T15:02:46.367693Z",
     "iopub.status.idle": "2025-08-05T15:02:46.377013Z",
     "shell.execute_reply": "2025-08-05T15:02:46.375890Z"
    },
    "papermill": {
     "duration": 0.036799,
     "end_time": "2025-08-05T15:02:46.378933",
     "exception": false,
     "start_time": "2025-08-05T15:02:46.342134",
     "status": "completed"
    },
    "tags": []
   },
   "outputs": [
    {
     "data": {
      "text/plain": [
       "accuracy                   0.224958\n",
       "balanced accuracy          0.549931\n",
       "f1                         0.246274\n",
       "precision                  0.140688\n",
       "false positive rate        0.887190\n",
       "false negative rate        0.012948\n",
       "selection rate             0.900000\n",
       "count                  89710.000000\n",
       "dtype: float64"
      ]
     },
     "execution_count": 61,
     "metadata": {},
     "output_type": "execute_result"
    }
   ],
   "source": [
    "metric_frame.overall"
   ]
  },
  {
   "cell_type": "markdown",
   "id": "e968fe9d",
   "metadata": {
    "papermill": {
     "duration": 0.024732,
     "end_time": "2025-08-05T15:02:46.428896",
     "exception": false,
     "start_time": "2025-08-05T15:02:46.404164",
     "status": "completed"
    },
    "tags": []
   },
   "source": [
    "By Group"
   ]
  },
  {
   "cell_type": "code",
   "execution_count": 62,
   "id": "ec325bce",
   "metadata": {
    "execution": {
     "iopub.execute_input": "2025-08-05T15:02:46.480197Z",
     "iopub.status.busy": "2025-08-05T15:02:46.479509Z",
     "iopub.status.idle": "2025-08-05T15:02:46.498150Z",
     "shell.execute_reply": "2025-08-05T15:02:46.497077Z"
    },
    "papermill": {
     "duration": 0.046055,
     "end_time": "2025-08-05T15:02:46.499734",
     "exception": false,
     "start_time": "2025-08-05T15:02:46.453679",
     "status": "completed"
    },
    "tags": []
   },
   "outputs": [
    {
     "data": {
      "text/html": [
       "<div>\n",
       "<style scoped>\n",
       "    .dataframe tbody tr th:only-of-type {\n",
       "        vertical-align: middle;\n",
       "    }\n",
       "\n",
       "    .dataframe tbody tr th {\n",
       "        vertical-align: top;\n",
       "    }\n",
       "\n",
       "    .dataframe thead th {\n",
       "        text-align: right;\n",
       "    }\n",
       "</style>\n",
       "<table border=\"1\" class=\"dataframe\">\n",
       "  <thead>\n",
       "    <tr style=\"text-align: right;\">\n",
       "      <th></th>\n",
       "      <th>accuracy</th>\n",
       "      <th>balanced accuracy</th>\n",
       "      <th>f1</th>\n",
       "      <th>precision</th>\n",
       "      <th>false positive rate</th>\n",
       "      <th>false negative rate</th>\n",
       "      <th>selection rate</th>\n",
       "      <th>count</th>\n",
       "    </tr>\n",
       "    <tr>\n",
       "      <th>majmin</th>\n",
       "      <th></th>\n",
       "      <th></th>\n",
       "      <th></th>\n",
       "      <th></th>\n",
       "      <th></th>\n",
       "      <th></th>\n",
       "      <th></th>\n",
       "      <th></th>\n",
       "    </tr>\n",
       "  </thead>\n",
       "  <tbody>\n",
       "    <tr>\n",
       "      <th>majority</th>\n",
       "      <td>0.235145</td>\n",
       "      <td>0.554059</td>\n",
       "      <td>0.254408</td>\n",
       "      <td>0.146012</td>\n",
       "      <td>0.879410</td>\n",
       "      <td>0.012473</td>\n",
       "      <td>0.893697</td>\n",
       "      <td>69170.0</td>\n",
       "    </tr>\n",
       "    <tr>\n",
       "      <th>minority</th>\n",
       "      <td>0.190652</td>\n",
       "      <td>0.536166</td>\n",
       "      <td>0.219164</td>\n",
       "      <td>0.123296</td>\n",
       "      <td>0.912888</td>\n",
       "      <td>0.014780</td>\n",
       "      <td>0.921227</td>\n",
       "      <td>20540.0</td>\n",
       "    </tr>\n",
       "  </tbody>\n",
       "</table>\n",
       "</div>"
      ],
      "text/plain": [
       "          accuracy  balanced accuracy        f1  precision  \\\n",
       "majmin                                                       \n",
       "majority  0.235145           0.554059  0.254408   0.146012   \n",
       "minority  0.190652           0.536166  0.219164   0.123296   \n",
       "\n",
       "          false positive rate  false negative rate  selection rate    count  \n",
       "majmin                                                                       \n",
       "majority             0.879410             0.012473        0.893697  69170.0  \n",
       "minority             0.912888             0.014780        0.921227  20540.0  "
      ]
     },
     "execution_count": 62,
     "metadata": {},
     "output_type": "execute_result"
    }
   ],
   "source": [
    "metric_frame.by_group"
   ]
  },
  {
   "cell_type": "code",
   "execution_count": 63,
   "id": "a9ddbe63",
   "metadata": {
    "execution": {
     "iopub.execute_input": "2025-08-05T15:02:46.548305Z",
     "iopub.status.busy": "2025-08-05T15:02:46.547537Z",
     "iopub.status.idle": "2025-08-05T15:02:48.943302Z",
     "shell.execute_reply": "2025-08-05T15:02:48.942383Z"
    },
    "papermill": {
     "duration": 2.421268,
     "end_time": "2025-08-05T15:02:48.944925",
     "exception": false,
     "start_time": "2025-08-05T15:02:46.523657",
     "status": "completed"
    },
    "tags": []
   },
   "outputs": [
    {
     "data": {
      "text/plain": [
       "array([[<Axes: title={'center': 'accuracy'}, xlabel='majmin'>,\n",
       "        <Axes: title={'center': 'balanced accuracy'}, xlabel='majmin'>,\n",
       "        <Axes: title={'center': 'f1'}, xlabel='majmin'>],\n",
       "       [<Axes: title={'center': 'precision'}, xlabel='majmin'>,\n",
       "        <Axes: title={'center': 'false positive rate'}, xlabel='majmin'>,\n",
       "        <Axes: title={'center': 'false negative rate'}, xlabel='majmin'>],\n",
       "       [<Axes: title={'center': 'selection rate'}, xlabel='majmin'>,\n",
       "        <Axes: title={'center': 'count'}, xlabel='majmin'>,\n",
       "        <Axes: xlabel='majmin'>]], dtype=object)"
      ]
     },
     "execution_count": 63,
     "metadata": {},
     "output_type": "execute_result"
    },
    {
     "data": {
      "image/png": "[encoded data removed]",
      "text/plain": [
       "<Figure size 1200x800 with 9 Axes>"
      ]
     },
     "metadata": {},
     "output_type": "display_data"
    }
   ],
   "source": [
    "# In a graphic\n",
    "metric_frame.by_group.plot.bar(\n",
    "    subplots=True,\n",
    "    layout=[3, 3],\n",
    "    legend=False,\n",
    "    figsize=[12, 8],\n",
    "    title=\"Show all metrics\",\n",
    ")"
   ]
  },
  {
   "cell_type": "markdown",
   "id": "f57a0bac",
   "metadata": {
    "papermill": {
     "duration": 0.02269,
     "end_time": "2025-08-05T15:02:48.991685",
     "exception": false,
     "start_time": "2025-08-05T15:02:48.968995",
     "status": "completed"
    },
    "tags": []
   },
   "source": [
    "# Final Output"
   ]
  },
  {
   "cell_type": "code",
   "execution_count": 64,
   "id": "96d280a3",
   "metadata": {
    "execution": {
     "iopub.execute_input": "2025-08-05T15:02:49.043483Z",
     "iopub.status.busy": "2025-08-05T15:02:49.042649Z",
     "iopub.status.idle": "2025-08-05T15:02:49.051085Z",
     "shell.execute_reply": "2025-08-05T15:02:49.050037Z"
    },
    "papermill": {
     "duration": 0.036246,
     "end_time": "2025-08-05T15:02:49.052806",
     "exception": false,
     "start_time": "2025-08-05T15:02:49.016560",
     "status": "completed"
    },
    "tags": []
   },
   "outputs": [
    {
     "data": {
      "text/plain": [
       "4"
      ]
     },
     "execution_count": 64,
     "metadata": {},
     "output_type": "execute_result"
    }
   ],
   "source": [
    "sub_universes = universe_analysis.generate_sub_universes()\n",
    "len(sub_universes)"
   ]
  },
  {
   "cell_type": "code",
   "execution_count": 65,
   "id": "92adf7ba",
   "metadata": {
    "execution": {
     "iopub.execute_input": "2025-08-05T15:02:49.102116Z",
     "iopub.status.busy": "2025-08-05T15:02:49.101179Z",
     "iopub.status.idle": "2025-08-05T15:02:49.107537Z",
     "shell.execute_reply": "2025-08-05T15:02:49.106563Z"
    },
    "papermill": {
     "duration": 0.03275,
     "end_time": "2025-08-05T15:02:49.109231",
     "exception": false,
     "start_time": "2025-08-05T15:02:49.076481",
     "status": "completed"
    },
    "tags": []
   },
   "outputs": [],
   "source": [
    "def filter_sub_universe_data(sub_universe, org_test):\n",
    "    # Keep all rows — no filtering\n",
    "    keep_rows_mask = np.ones(org_test.shape[0], dtype=bool)\n",
    "\n",
    "    print(f\"[INFO] Keeping all rows: {keep_rows_mask.sum()} rows retained.\")\n",
    "    return keep_rows_mask"
   ]
  },
  {
   "cell_type": "code",
   "execution_count": 66,
   "id": "4a759155",
   "metadata": {
    "execution": {
     "iopub.execute_input": "2025-08-05T15:02:49.158124Z",
     "iopub.status.busy": "2025-08-05T15:02:49.157420Z",
     "iopub.status.idle": "2025-08-05T15:02:58.456760Z",
     "shell.execute_reply": "2025-08-05T15:02:58.456001Z"
    },
    "papermill": {
     "duration": 9.324577,
     "end_time": "2025-08-05T15:02:58.458038",
     "exception": false,
     "start_time": "2025-08-05T15:02:49.133461",
     "status": "completed"
    },
    "tags": []
   },
   "outputs": [
    {
     "name": "stdout",
     "output_type": "stream",
     "text": [
      "Stopping execution_time clock.\n",
      "[INFO] Keeping all rows: 89710 rows retained.\n"
     ]
    },
    {
     "name": "stdout",
     "output_type": "stream",
     "text": [
      "[INFO] Keeping all rows: 89710 rows retained.\n"
     ]
    },
    {
     "name": "stdout",
     "output_type": "stream",
     "text": [
      "[INFO] Keeping all rows: 89710 rows retained.\n"
     ]
    },
    {
     "name": "stdout",
     "output_type": "stream",
     "text": [
      "[INFO] Keeping all rows: 89710 rows retained.\n"
     ]
    },
    {
     "data": {
      "text/html": [
       "<div>\n",
       "<style scoped>\n",
       "    .dataframe tbody tr th:only-of-type {\n",
       "        vertical-align: middle;\n",
       "    }\n",
       "\n",
       "    .dataframe tbody tr th {\n",
       "        vertical-align: top;\n",
       "    }\n",
       "\n",
       "    .dataframe thead th {\n",
       "        text-align: right;\n",
       "    }\n",
       "</style>\n",
       "<table border=\"1\" class=\"dataframe\">\n",
       "  <thead>\n",
       "    <tr style=\"text-align: right;\">\n",
       "      <th></th>\n",
       "      <th>run_no</th>\n",
       "      <th>universe_id</th>\n",
       "      <th>universe_settings</th>\n",
       "      <th>execution_time</th>\n",
       "      <th>test_size_n</th>\n",
       "      <th>test_size_frac</th>\n",
       "      <th>fair_main_equalized_odds_difference</th>\n",
       "      <th>fair_main_equalized_odds_ratio</th>\n",
       "      <th>fair_main_demographic_parity_difference</th>\n",
       "      <th>fair_main_demographic_parity_ratio</th>\n",
       "      <th>...</th>\n",
       "      <th>perf_grp_precision_0</th>\n",
       "      <th>perf_grp_precision_1</th>\n",
       "      <th>perf_grp_false positive rate_0</th>\n",
       "      <th>perf_grp_false positive rate_1</th>\n",
       "      <th>perf_grp_false negative rate_0</th>\n",
       "      <th>perf_grp_false negative rate_1</th>\n",
       "      <th>perf_grp_selection rate_0</th>\n",
       "      <th>perf_grp_selection rate_1</th>\n",
       "      <th>perf_grp_count_0</th>\n",
       "      <th>perf_grp_count_1</th>\n",
       "    </tr>\n",
       "  </thead>\n",
       "  <tbody>\n",
       "    <tr>\n",
       "      <th>0</th>\n",
       "      <td>15</td>\n",
       "      <td>5d83e97d94109b78c6fd03439ea0fb0c</td>\n",
       "      <td>{\"cutoff\": \"quantile_0.1\", \"eval_fairness_grou...</td>\n",
       "      <td>46.382239</td>\n",
       "      <td>89710</td>\n",
       "      <td>1.0</td>\n",
       "      <td>0.033478</td>\n",
       "      <td>0.963328</td>\n",
       "      <td>0.027530</td>\n",
       "      <td>0.970116</td>\n",
       "      <td>...</td>\n",
       "      <td>NaN</td>\n",
       "      <td>NaN</td>\n",
       "      <td>NaN</td>\n",
       "      <td>NaN</td>\n",
       "      <td>NaN</td>\n",
       "      <td>NaN</td>\n",
       "      <td>NaN</td>\n",
       "      <td>NaN</td>\n",
       "      <td>NaN</td>\n",
       "      <td>NaN</td>\n",
       "    </tr>\n",
       "    <tr>\n",
       "      <th>0</th>\n",
       "      <td>15</td>\n",
       "      <td>5d83e97d94109b78c6fd03439ea0fb0c</td>\n",
       "      <td>{\"cutoff\": \"quantile_0.1\", \"eval_fairness_grou...</td>\n",
       "      <td>46.382239</td>\n",
       "      <td>89710</td>\n",
       "      <td>1.0</td>\n",
       "      <td>0.033478</td>\n",
       "      <td>0.963328</td>\n",
       "      <td>0.027530</td>\n",
       "      <td>0.970116</td>\n",
       "      <td>...</td>\n",
       "      <td>0.123296</td>\n",
       "      <td>0.146012</td>\n",
       "      <td>0.912888</td>\n",
       "      <td>0.879410</td>\n",
       "      <td>0.014780</td>\n",
       "      <td>0.012473</td>\n",
       "      <td>0.921227</td>\n",
       "      <td>0.893697</td>\n",
       "      <td>20540.0</td>\n",
       "      <td>69170.0</td>\n",
       "    </tr>\n",
       "    <tr>\n",
       "      <th>0</th>\n",
       "      <td>15</td>\n",
       "      <td>5d83e97d94109b78c6fd03439ea0fb0c</td>\n",
       "      <td>{\"cutoff\": \"quantile_0.25\", \"eval_fairness_gro...</td>\n",
       "      <td>46.382239</td>\n",
       "      <td>89710</td>\n",
       "      <td>1.0</td>\n",
       "      <td>0.110693</td>\n",
       "      <td>0.862714</td>\n",
       "      <td>0.092069</td>\n",
       "      <td>0.887855</td>\n",
       "      <td>...</td>\n",
       "      <td>NaN</td>\n",
       "      <td>NaN</td>\n",
       "      <td>NaN</td>\n",
       "      <td>NaN</td>\n",
       "      <td>NaN</td>\n",
       "      <td>NaN</td>\n",
       "      <td>NaN</td>\n",
       "      <td>NaN</td>\n",
       "      <td>NaN</td>\n",
       "      <td>NaN</td>\n",
       "    </tr>\n",
       "    <tr>\n",
       "      <th>0</th>\n",
       "      <td>15</td>\n",
       "      <td>5d83e97d94109b78c6fd03439ea0fb0c</td>\n",
       "      <td>{\"cutoff\": \"quantile_0.25\", \"eval_fairness_gro...</td>\n",
       "      <td>46.382239</td>\n",
       "      <td>89710</td>\n",
       "      <td>1.0</td>\n",
       "      <td>0.110693</td>\n",
       "      <td>0.862714</td>\n",
       "      <td>0.092069</td>\n",
       "      <td>0.887855</td>\n",
       "      <td>...</td>\n",
       "      <td>0.131115</td>\n",
       "      <td>0.171800</td>\n",
       "      <td>0.806295</td>\n",
       "      <td>0.695602</td>\n",
       "      <td>0.066301</td>\n",
       "      <td>0.052298</td>\n",
       "      <td>0.820983</td>\n",
       "      <td>0.728914</td>\n",
       "      <td>20540.0</td>\n",
       "      <td>69170.0</td>\n",
       "    </tr>\n",
       "  </tbody>\n",
       "</table>\n",
       "<p>4 rows × 50 columns</p>\n",
       "</div>"
      ],
      "text/plain": [
       "  run_no                       universe_id  \\\n",
       "0     15  5d83e97d94109b78c6fd03439ea0fb0c   \n",
       "0     15  5d83e97d94109b78c6fd03439ea0fb0c   \n",
       "0     15  5d83e97d94109b78c6fd03439ea0fb0c   \n",
       "0     15  5d83e97d94109b78c6fd03439ea0fb0c   \n",
       "\n",
       "                                   universe_settings  execution_time  \\\n",
       "0  {\"cutoff\": \"quantile_0.1\", \"eval_fairness_grou...       46.382239   \n",
       "0  {\"cutoff\": \"quantile_0.1\", \"eval_fairness_grou...       46.382239   \n",
       "0  {\"cutoff\": \"quantile_0.25\", \"eval_fairness_gro...       46.382239   \n",
       "0  {\"cutoff\": \"quantile_0.25\", \"eval_fairness_gro...       46.382239   \n",
       "\n",
       "   test_size_n  test_size_frac  fair_main_equalized_odds_difference  \\\n",
       "0        89710             1.0                             0.033478   \n",
       "0        89710             1.0                             0.033478   \n",
       "0        89710             1.0                             0.110693   \n",
       "0        89710             1.0                             0.110693   \n",
       "\n",
       "   fair_main_equalized_odds_ratio  fair_main_demographic_parity_difference  \\\n",
       "0                        0.963328                                 0.027530   \n",
       "0                        0.963328                                 0.027530   \n",
       "0                        0.862714                                 0.092069   \n",
       "0                        0.862714                                 0.092069   \n",
       "\n",
       "   fair_main_demographic_parity_ratio  ...  perf_grp_precision_0  \\\n",
       "0                            0.970116  ...                   NaN   \n",
       "0                            0.970116  ...              0.123296   \n",
       "0                            0.887855  ...                   NaN   \n",
       "0                            0.887855  ...              0.131115   \n",
       "\n",
       "   perf_grp_precision_1  perf_grp_false positive rate_0  \\\n",
       "0                   NaN                             NaN   \n",
       "0              0.146012                        0.912888   \n",
       "0                   NaN                             NaN   \n",
       "0              0.171800                        0.806295   \n",
       "\n",
       "   perf_grp_false positive rate_1  perf_grp_false negative rate_0  \\\n",
       "0                             NaN                             NaN   \n",
       "0                        0.879410                        0.014780   \n",
       "0                             NaN                             NaN   \n",
       "0                        0.695602                        0.066301   \n",
       "\n",
       "   perf_grp_false negative rate_1  perf_grp_selection rate_0  \\\n",
       "0                             NaN                        NaN   \n",
       "0                        0.012473                   0.921227   \n",
       "0                             NaN                        NaN   \n",
       "0                        0.052298                   0.820983   \n",
       "\n",
       "   perf_grp_selection rate_1  perf_grp_count_0  perf_grp_count_1  \n",
       "0                        NaN               NaN               NaN  \n",
       "0                   0.893697           20540.0           69170.0  \n",
       "0                        NaN               NaN               NaN  \n",
       "0                   0.728914           20540.0           69170.0  \n",
       "\n",
       "[4 rows x 50 columns]"
      ]
     },
     "execution_count": 66,
     "metadata": {},
     "output_type": "execute_result"
    }
   ],
   "source": [
    "final_output = universe_analysis.generate_final_output(\n",
    "    y_pred_prob=probs_test,\n",
    "    y_test=y_true,\n",
    "    org_test=org_test,\n",
    "    filter_data=filter_sub_universe_data,\n",
    "    cp_metrics_df=cp_metrics_df,\n",
    "    save=True,\n",
    ")\n",
    "final_output"
   ]
  }
 ],
 "metadata": {
  "celltoolbar": "Tags",
  "kernelspec": {
   "display_name": "Python (CMA Fairness)",
   "language": "python",
   "name": "cma_fair_env"
  },
  "language_info": {
   "codemirror_mode": {
    "name": "ipython",
    "version": 3
   },
   "file_extension": ".py",
   "mimetype": "text/x-python",
   "name": "python",
   "nbconvert_exporter": "python",
   "pygments_lexer": "ipython3",
   "version": "3.10.12"
  },
  "papermill": {
   "default_parameters": {},
   "duration": 59.643959,
   "end_time": "2025-08-05T15:02:59.091883",
   "environment_variables": {},
   "exception": null,
   "input_path": "universe_analysis.ipynb",
   "output_path": "output/runs/15/notebooks/m_15-5d83e97d94109b78c6fd03439ea0fb0c.ipynb",
   "parameters": {
    "output_dir": "output",
    "run_no": "15",
    "seed": "2023",
    "universe": "{\"cutoff\": [\"quantile_0.1\", \"quantile_0.25\"], \"eval_fairness_grouping\": [\"majority-minority\", \"nationality-all\"], \"exclude_features\": \"age\", \"exclude_subgroups\": \"drop-non-german\", \"model\": \"gbm\", \"scale\": \"do-not-scale\", \"training_size\": \"25k\", \"training_year\": \"2012_14\"}",
    "universe_id": "5d83e97d94109b78c6fd03439ea0fb0c"
   },
   "start_time": "2025-08-05T15:01:59.447924",
   "version": "2.6.0"
  }
 },
 "nbformat": 4,
 "nbformat_minor": 5
}