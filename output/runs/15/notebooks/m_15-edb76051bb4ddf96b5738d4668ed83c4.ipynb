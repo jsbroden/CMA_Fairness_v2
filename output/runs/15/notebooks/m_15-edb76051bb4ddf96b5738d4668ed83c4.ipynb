{
 "cells": [
  {
   "cell_type": "code",
   "execution_count": 1,
   "id": "f159f837-637b-42ba-96b5-ec9a68c44524",
   "metadata": {
    "execution": {
     "iopub.execute_input": "2025-08-05T15:43:13.438302Z",
     "iopub.status.busy": "2025-08-05T15:43:13.437910Z",
     "iopub.status.idle": "2025-08-05T15:43:13.451924Z",
     "shell.execute_reply": "2025-08-05T15:43:13.451272Z"
    },
    "papermill": {
     "duration": 0.036548,
     "end_time": "2025-08-05T15:43:13.453348",
     "exception": false,
     "start_time": "2025-08-05T15:43:13.416800",
     "status": "completed"
    },
    "tags": []
   },
   "outputs": [
    {
     "name": "stdout",
     "output_type": "stream",
     "text": [
      "/dss/dsshome1/0C/ra93lal2/cma/CMA_Fairness_v2\n"
     ]
    },
    {
     "name": "stderr",
     "output_type": "stream",
     "text": [
      "/dss/dsshome1/0C/ra93lal2/.local/share/virtualenvs/CMA_Fairness_v2-3j10GkSs/lib/python3.10/site-packages/IPython/core/magics/osm.py:393: UserWarning: This is now an optional IPython functionality, using bookmarks requires you to install the `pickleshare` library.\n",
      "  bkms = self.shell.db.get('bookmarks', {})\n",
      "/dss/dsshome1/0C/ra93lal2/.local/share/virtualenvs/CMA_Fairness_v2-3j10GkSs/lib/python3.10/site-packages/IPython/core/magics/osm.py:417: UserWarning: This is now an optional IPython functionality, setting dhist requires you to install the `pickleshare` library.\n",
      "  self.shell.db['dhist'] = compress_dhist(dhist)[-100:]\n"
     ]
    }
   ],
   "source": [
    "%cd ~/cma/CMA_Fairness_v2"
   ]
  },
  {
   "cell_type": "markdown",
   "id": "de2603b9",
   "metadata": {
    "papermill": {
     "duration": 0.009347,
     "end_time": "2025-08-05T15:43:13.472142",
     "exception": false,
     "start_time": "2025-08-05T15:43:13.462795",
     "status": "completed"
    },
    "tags": []
   },
   "source": [
    "The following cell holds the definition of our parameters, these values can be overriden by rendering the with e.g. the following command:\n",
    "\n",
    "papermill -p alpha 0.2 -p ratio 0.3 universe_analysis.ipynb output/test_run.ipynb"
   ]
  },
  {
   "cell_type": "code",
   "execution_count": 2,
   "id": "a80968a0-40bb-4fa9-85ef-2d5eefb01975",
   "metadata": {
    "execution": {
     "iopub.execute_input": "2025-08-05T15:43:13.490258Z",
     "iopub.status.busy": "2025-08-05T15:43:13.489918Z",
     "iopub.status.idle": "2025-08-05T15:43:13.494972Z",
     "shell.execute_reply": "2025-08-05T15:43:13.493917Z"
    },
    "papermill": {
     "duration": 0.016038,
     "end_time": "2025-08-05T15:43:13.496746",
     "exception": false,
     "start_time": "2025-08-05T15:43:13.480708",
     "status": "completed"
    },
    "tags": []
   },
   "outputs": [
    {
     "name": "stdout",
     "output_type": "stream",
     "text": [
      "Current working directory: /dss/dsshome1/0C/ra93lal2/cma/CMA_Fairness_v2\n"
     ]
    }
   ],
   "source": [
    "import os\n",
    "print(\"Current working directory:\", os.getcwd())"
   ]
  },
  {
   "cell_type": "code",
   "execution_count": 3,
   "id": "2dce4c03",
   "metadata": {
    "execution": {
     "iopub.execute_input": "2025-08-05T15:43:13.541360Z",
     "iopub.status.busy": "2025-08-05T15:43:13.540829Z",
     "iopub.status.idle": "2025-08-05T15:43:13.547665Z",
     "shell.execute_reply": "2025-08-05T15:43:13.546470Z"
    },
    "papermill": {
     "duration": 0.033804,
     "end_time": "2025-08-05T15:43:13.550823",
     "exception": false,
     "start_time": "2025-08-05T15:43:13.517019",
     "status": "completed"
    },
    "tags": [
     "parameters"
    ]
   },
   "outputs": [],
   "source": [
    "run_no = 0\n",
    "universe_id = \"test\"\n",
    "universe = {\n",
    "    \"training_size\": \"25k\", # \"25k\", \"5k\", \"1k\"\n",
    "    \"training_year\": \"2014\", # \"2014\", \"2012_14\", \"2010_14\"\n",
    "    \"scale\": \"scale\", # \"scale\", \"do-not-scale\",\n",
    "    \"model\": \"elasticnet\", # \"logreg\", \"penalized_logreg\", \"rf\", \"gbm\", \"elasticnet\"\n",
    "    \"cutoff\": [\"quantile_0.15\", \"quantile_0.30\"],\n",
    "    \"exclude_features\": \"age\", # \"none\", \"nationality\", \"sex\", \"nationality-sex\", \"age\"\n",
    "    \"exclude_subgroups\": \"keep-all\", # \"keep-all\", \"drop-non-german\"\n",
    "    \"eval_fairness_grouping\": [\"majority-minority\", \"nationality-all\"]\n",
    "}\n",
    "\n",
    "output_dir=\"./output\"\n",
    "seed=0"
   ]
  },
  {
   "cell_type": "code",
   "execution_count": 4,
   "id": "adf674f2",
   "metadata": {
    "execution": {
     "iopub.execute_input": "2025-08-05T15:43:13.588532Z",
     "iopub.status.busy": "2025-08-05T15:43:13.587637Z",
     "iopub.status.idle": "2025-08-05T15:43:13.593660Z",
     "shell.execute_reply": "2025-08-05T15:43:13.592605Z"
    },
    "papermill": {
     "duration": 0.026678,
     "end_time": "2025-08-05T15:43:13.595416",
     "exception": false,
     "start_time": "2025-08-05T15:43:13.568738",
     "status": "completed"
    },
    "tags": [
     "injected-parameters"
    ]
   },
   "outputs": [],
   "source": [
    "# Parameters\n",
    "universe_id = \"edb76051bb4ddf96b5738d4668ed83c4\"\n",
    "run_no = \"15\"\n",
    "universe = \"{\\\"cutoff\\\": [\\\"quantile_0.1\\\", \\\"quantile_0.25\\\"], \\\"eval_fairness_grouping\\\": [\\\"majority-minority\\\", \\\"nationality-all\\\"], \\\"exclude_features\\\": \\\"nationality\\\", \\\"exclude_subgroups\\\": \\\"keep-all\\\", \\\"model\\\": \\\"rf\\\", \\\"scale\\\": \\\"do-not-scale\\\", \\\"training_size\\\": \\\"5k\\\", \\\"training_year\\\": \\\"2012_14\\\"}\"\n",
    "output_dir = \"output\"\n",
    "seed = \"2023\"\n"
   ]
  },
  {
   "cell_type": "code",
   "execution_count": 5,
   "id": "1650acaf",
   "metadata": {
    "execution": {
     "iopub.execute_input": "2025-08-05T15:43:13.633253Z",
     "iopub.status.busy": "2025-08-05T15:43:13.632763Z",
     "iopub.status.idle": "2025-08-05T15:43:13.638360Z",
     "shell.execute_reply": "2025-08-05T15:43:13.637280Z"
    },
    "papermill": {
     "duration": 0.027265,
     "end_time": "2025-08-05T15:43:13.640364",
     "exception": false,
     "start_time": "2025-08-05T15:43:13.613099",
     "status": "completed"
    },
    "tags": []
   },
   "outputs": [],
   "source": [
    "import json\n",
    "if isinstance(universe, str):\n",
    "    universe = json.loads(universe)"
   ]
  },
  {
   "cell_type": "code",
   "execution_count": 6,
   "id": "16620c48",
   "metadata": {
    "execution": {
     "iopub.execute_input": "2025-08-05T15:43:13.682972Z",
     "iopub.status.busy": "2025-08-05T15:43:13.681912Z",
     "iopub.status.idle": "2025-08-05T15:43:13.732928Z",
     "shell.execute_reply": "2025-08-05T15:43:13.731879Z"
    },
    "papermill": {
     "duration": 0.075036,
     "end_time": "2025-08-05T15:43:13.735110",
     "exception": false,
     "start_time": "2025-08-05T15:43:13.660074",
     "status": "completed"
    },
    "tags": []
   },
   "outputs": [],
   "source": [
    "# Auto-reload the custom package\n",
    "%load_ext autoreload\n",
    "%autoreload 1\n",
    "%aimport fairness_multiverse"
   ]
  },
  {
   "cell_type": "code",
   "execution_count": 7,
   "id": "01c5c9f3",
   "metadata": {
    "execution": {
     "iopub.execute_input": "2025-08-05T15:43:13.778317Z",
     "iopub.status.busy": "2025-08-05T15:43:13.777596Z",
     "iopub.status.idle": "2025-08-05T15:43:15.694407Z",
     "shell.execute_reply": "2025-08-05T15:43:15.693340Z"
    },
    "papermill": {
     "duration": 1.942063,
     "end_time": "2025-08-05T15:43:15.696387",
     "exception": false,
     "start_time": "2025-08-05T15:43:13.754324",
     "status": "completed"
    },
    "tags": []
   },
   "outputs": [],
   "source": [
    "from fairness_multiverse.universe import UniverseAnalysis\n",
    "\n",
    "universe_analysis = UniverseAnalysis(\n",
    "    run_no = run_no,\n",
    "    universe_id = universe_id,\n",
    "    universe = universe,\n",
    "    output_dir=output_dir,\n",
    ")"
   ]
  },
  {
   "cell_type": "code",
   "execution_count": 8,
   "id": "106241f5",
   "metadata": {
    "execution": {
     "iopub.execute_input": "2025-08-05T15:43:15.731735Z",
     "iopub.status.busy": "2025-08-05T15:43:15.730997Z",
     "iopub.status.idle": "2025-08-05T15:43:15.737803Z",
     "shell.execute_reply": "2025-08-05T15:43:15.736619Z"
    },
    "papermill": {
     "duration": 0.029463,
     "end_time": "2025-08-05T15:43:15.739783",
     "exception": false,
     "start_time": "2025-08-05T15:43:15.710320",
     "status": "completed"
    },
    "tags": []
   },
   "outputs": [
    {
     "name": "stdout",
     "output_type": "stream",
     "text": [
      "Using Seed: 2023\n"
     ]
    }
   ],
   "source": [
    "import numpy as np\n",
    "parsed_seed = int(seed)\n",
    "np.random.seed(parsed_seed)\n",
    "print(f\"Using Seed: {parsed_seed}\")"
   ]
  },
  {
   "cell_type": "markdown",
   "id": "e0ebdc57",
   "metadata": {
    "papermill": {
     "duration": 0.011903,
     "end_time": "2025-08-05T15:43:15.770812",
     "exception": false,
     "start_time": "2025-08-05T15:43:15.758909",
     "status": "completed"
    },
    "tags": []
   },
   "source": [
    "# Loading Data"
   ]
  },
  {
   "cell_type": "code",
   "execution_count": 9,
   "id": "f0496b8a",
   "metadata": {
    "execution": {
     "iopub.execute_input": "2025-08-05T15:43:15.790925Z",
     "iopub.status.busy": "2025-08-05T15:43:15.790499Z",
     "iopub.status.idle": "2025-08-05T15:43:28.368422Z",
     "shell.execute_reply": "2025-08-05T15:43:28.367391Z"
    },
    "papermill": {
     "duration": 12.58969,
     "end_time": "2025-08-05T15:43:28.370060",
     "exception": false,
     "start_time": "2025-08-05T15:43:15.780370",
     "status": "completed"
    },
    "tags": []
   },
   "outputs": [
    {
     "name": "stdout",
     "output_type": "stream",
     "text": [
      "Loading SIAB data from cache: data/siab_cached.csv.gz\n"
     ]
    },
    {
     "name": "stdout",
     "output_type": "stream",
     "text": [
      "(643690, 164)\n"
     ]
    }
   ],
   "source": [
    "from pathlib import Path\n",
    "import pandas as pd\n",
    "\n",
    "# File paths\n",
    "raw_file = Path(\"data/raw/siab.csv\")\n",
    "cache_file = Path(\"data/siab_cached.csv.gz\")\n",
    "\n",
    "# Ensure cache directory exists\n",
    "cache_file.parent.mkdir(parents=True, exist_ok=True)\n",
    "\n",
    "# Load with simple caching\n",
    "if cache_file.exists():\n",
    "    print(f\"Loading SIAB data from cache: {cache_file}\")\n",
    "    siab = pd.read_csv(cache_file, compression='gzip')\n",
    "else:\n",
    "    print(f\"Cache not found. Reading raw SIAB data: {raw_file}\")\n",
    "    siab = pd.read_csv(raw_file)\n",
    "    siab.to_csv(cache_file, index=False, compression='gzip')\n",
    "    print(f\"Cached SIAB data to: {cache_file}\")\n",
    "\n",
    "print(siab.shape)"
   ]
  },
  {
   "cell_type": "code",
   "execution_count": 10,
   "id": "db0ca512-5f53-4dba-abdb-a2888bca41ba",
   "metadata": {
    "execution": {
     "iopub.execute_input": "2025-08-05T15:43:28.408772Z",
     "iopub.status.busy": "2025-08-05T15:43:28.407937Z",
     "iopub.status.idle": "2025-08-05T15:43:28.414317Z",
     "shell.execute_reply": "2025-08-05T15:43:28.413326Z"
    },
    "papermill": {
     "duration": 0.027299,
     "end_time": "2025-08-05T15:43:28.416037",
     "exception": false,
     "start_time": "2025-08-05T15:43:28.388738",
     "status": "completed"
    },
    "tags": []
   },
   "outputs": [],
   "source": [
    "#siab"
   ]
  },
  {
   "cell_type": "markdown",
   "id": "997051c5-15bd-4b69-9786-c3001a3ce484",
   "metadata": {
    "papermill": {
     "duration": 0.015744,
     "end_time": "2025-08-05T15:43:28.448375",
     "exception": false,
     "start_time": "2025-08-05T15:43:28.432631",
     "status": "completed"
    },
    "tags": []
   },
   "source": [
    "# Splitting Data and Setting Training Data Size"
   ]
  },
  {
   "cell_type": "code",
   "execution_count": 11,
   "id": "aea9c6ef-6f46-42c8-85eb-5a62025c1508",
   "metadata": {
    "execution": {
     "iopub.execute_input": "2025-08-05T15:43:28.483730Z",
     "iopub.status.busy": "2025-08-05T15:43:28.482992Z",
     "iopub.status.idle": "2025-08-05T15:43:29.074182Z",
     "shell.execute_reply": "2025-08-05T15:43:29.073297Z"
    },
    "papermill": {
     "duration": 0.609814,
     "end_time": "2025-08-05T15:43:29.075723",
     "exception": false,
     "start_time": "2025-08-05T15:43:28.465909",
     "status": "completed"
    },
    "tags": []
   },
   "outputs": [],
   "source": [
    "from fairness_multiverse.universe import sample_by_year_size\n",
    "\n",
    "siab_train = sample_by_year_size(siab,\n",
    "                               training_year=universe[\"training_year\"],\n",
    "                               training_size=universe[\"training_size\"])"
   ]
  },
  {
   "cell_type": "code",
   "execution_count": 12,
   "id": "8d3afb32-789d-442c-8d5d-9f5aa8dd2eed",
   "metadata": {
    "execution": {
     "iopub.execute_input": "2025-08-05T15:43:29.107848Z",
     "iopub.status.busy": "2025-08-05T15:43:29.107219Z",
     "iopub.status.idle": "2025-08-05T15:43:29.112095Z",
     "shell.execute_reply": "2025-08-05T15:43:29.111211Z"
    },
    "papermill": {
     "duration": 0.022991,
     "end_time": "2025-08-05T15:43:29.113816",
     "exception": false,
     "start_time": "2025-08-05T15:43:29.090825",
     "status": "completed"
    },
    "tags": []
   },
   "outputs": [],
   "source": [
    "#siab_train.shape"
   ]
  },
  {
   "cell_type": "code",
   "execution_count": 13,
   "id": "d582db68-1a4c-47fb-84fc-08518dc1975a",
   "metadata": {
    "execution": {
     "iopub.execute_input": "2025-08-05T15:43:29.146699Z",
     "iopub.status.busy": "2025-08-05T15:43:29.146079Z",
     "iopub.status.idle": "2025-08-05T15:43:29.150848Z",
     "shell.execute_reply": "2025-08-05T15:43:29.149975Z"
    },
    "papermill": {
     "duration": 0.022337,
     "end_time": "2025-08-05T15:43:29.152412",
     "exception": false,
     "start_time": "2025-08-05T15:43:29.130075",
     "status": "completed"
    },
    "tags": []
   },
   "outputs": [],
   "source": [
    "#display(siab_train.groupby(\"year\").size())"
   ]
  },
  {
   "cell_type": "code",
   "execution_count": 14,
   "id": "a561edb4-d032-42cb-8256-22eac1111c64",
   "metadata": {
    "execution": {
     "iopub.execute_input": "2025-08-05T15:43:29.185356Z",
     "iopub.status.busy": "2025-08-05T15:43:29.184720Z",
     "iopub.status.idle": "2025-08-05T15:43:29.417307Z",
     "shell.execute_reply": "2025-08-05T15:43:29.416135Z"
    },
    "papermill": {
     "duration": 0.250507,
     "end_time": "2025-08-05T15:43:29.419123",
     "exception": false,
     "start_time": "2025-08-05T15:43:29.168616",
     "status": "completed"
    },
    "tags": []
   },
   "outputs": [],
   "source": [
    "#siab_train = siab_s[siab_s.year < 2015]\n",
    "siab_calib = siab[siab.year == 2015]\n",
    "siab_test = siab[siab.year == 2016]"
   ]
  },
  {
   "cell_type": "code",
   "execution_count": 15,
   "id": "472de16f-c3db-4916-846b-1f0de9cf1746",
   "metadata": {
    "execution": {
     "iopub.execute_input": "2025-08-05T15:43:29.452051Z",
     "iopub.status.busy": "2025-08-05T15:43:29.451416Z",
     "iopub.status.idle": "2025-08-05T15:43:29.459573Z",
     "shell.execute_reply": "2025-08-05T15:43:29.458565Z"
    },
    "papermill": {
     "duration": 0.026615,
     "end_time": "2025-08-05T15:43:29.461404",
     "exception": false,
     "start_time": "2025-08-05T15:43:29.434789",
     "status": "completed"
    },
    "tags": []
   },
   "outputs": [],
   "source": [
    "X_train = siab_train.iloc[:,4:164]\n",
    "y_train = siab_train.iloc[:, [3]]"
   ]
  },
  {
   "cell_type": "code",
   "execution_count": 16,
   "id": "828c96af-f43a-4ed6-ba47-8ac73a47d56c",
   "metadata": {
    "execution": {
     "iopub.execute_input": "2025-08-05T15:43:29.495505Z",
     "iopub.status.busy": "2025-08-05T15:43:29.494665Z",
     "iopub.status.idle": "2025-08-05T15:43:29.544244Z",
     "shell.execute_reply": "2025-08-05T15:43:29.543225Z"
    },
    "papermill": {
     "duration": 0.069013,
     "end_time": "2025-08-05T15:43:29.546432",
     "exception": false,
     "start_time": "2025-08-05T15:43:29.477419",
     "status": "completed"
    },
    "tags": []
   },
   "outputs": [],
   "source": [
    "X_calib = siab_calib.iloc[:,4:164]\n",
    "y_calib = siab_calib.iloc[:, [3]]"
   ]
  },
  {
   "cell_type": "code",
   "execution_count": 17,
   "id": "c34be9c3-6bd6-476e-acd3-845840e303be",
   "metadata": {
    "execution": {
     "iopub.execute_input": "2025-08-05T15:43:29.582419Z",
     "iopub.status.busy": "2025-08-05T15:43:29.581778Z",
     "iopub.status.idle": "2025-08-05T15:43:29.635036Z",
     "shell.execute_reply": "2025-08-05T15:43:29.634009Z"
    },
    "papermill": {
     "duration": 0.072297,
     "end_time": "2025-08-05T15:43:29.636755",
     "exception": false,
     "start_time": "2025-08-05T15:43:29.564458",
     "status": "completed"
    },
    "tags": []
   },
   "outputs": [],
   "source": [
    "X_test = siab_test.iloc[:,4:164]\n",
    "y_true = siab_test.iloc[:, [3]]"
   ]
  },
  {
   "cell_type": "code",
   "execution_count": 18,
   "id": "e6c733c5",
   "metadata": {
    "execution": {
     "iopub.execute_input": "2025-08-05T15:43:29.673349Z",
     "iopub.status.busy": "2025-08-05T15:43:29.672713Z",
     "iopub.status.idle": "2025-08-05T15:43:29.773321Z",
     "shell.execute_reply": "2025-08-05T15:43:29.772288Z"
    },
    "papermill": {
     "duration": 0.120272,
     "end_time": "2025-08-05T15:43:29.775288",
     "exception": false,
     "start_time": "2025-08-05T15:43:29.655016",
     "status": "completed"
    },
    "tags": []
   },
   "outputs": [],
   "source": [
    "# Auxiliary data needed downstream in the pipeline\n",
    "\n",
    "org_train = X_train.copy()\n",
    "org_test = X_test.copy()\n",
    "org_calib = X_calib.copy()"
   ]
  },
  {
   "cell_type": "markdown",
   "id": "0a4a1b33",
   "metadata": {
    "papermill": {
     "duration": 0.023933,
     "end_time": "2025-08-05T15:43:29.822507",
     "exception": false,
     "start_time": "2025-08-05T15:43:29.798574",
     "status": "completed"
    },
    "tags": []
   },
   "source": [
    "# Preprocessing Data"
   ]
  },
  {
   "cell_type": "code",
   "execution_count": 19,
   "id": "ca879031",
   "metadata": {
    "execution": {
     "iopub.execute_input": "2025-08-05T15:43:29.862071Z",
     "iopub.status.busy": "2025-08-05T15:43:29.861412Z",
     "iopub.status.idle": "2025-08-05T15:43:29.867216Z",
     "shell.execute_reply": "2025-08-05T15:43:29.866343Z"
    },
    "papermill": {
     "duration": 0.025281,
     "end_time": "2025-08-05T15:43:29.868832",
     "exception": false,
     "start_time": "2025-08-05T15:43:29.843551",
     "status": "completed"
    },
    "tags": []
   },
   "outputs": [],
   "source": [
    "# EXCLUDE PROTECTED FEATURES\n",
    "# ----------------------\n",
    "# \"exclude_features\": \"none\", # \"nationality\", \"sex\", \"nationality-sex\"\n",
    "\n",
    "excluded_features = universe[\"exclude_features\"].split(\"-\") # split, e.g.: \"nationality-sex\" -> [\"nationality\", \"sex\"]\n",
    "excluded_features_dictionary = {\n",
    "    \"nationality\": [\"maxdeutsch1\", \"maxdeutsch.Missing.\"],\n",
    "    \"sex\": [\"frau1\"],\n",
    "    \"age\": [\"age\"],\n",
    "}"
   ]
  },
  {
   "cell_type": "code",
   "execution_count": 20,
   "id": "b745ac60",
   "metadata": {
    "execution": {
     "iopub.execute_input": "2025-08-05T15:43:29.904190Z",
     "iopub.status.busy": "2025-08-05T15:43:29.903550Z",
     "iopub.status.idle": "2025-08-05T15:43:29.909400Z",
     "shell.execute_reply": "2025-08-05T15:43:29.908501Z"
    },
    "papermill": {
     "duration": 0.025298,
     "end_time": "2025-08-05T15:43:29.911067",
     "exception": false,
     "start_time": "2025-08-05T15:43:29.885769",
     "status": "completed"
    },
    "tags": []
   },
   "outputs": [],
   "source": [
    "# Code nice names to column names\n",
    "\n",
    "excluded_features_columns = [\n",
    "    excluded_features_dictionary[f] for f in excluded_features if len(f) > 0 and f != \"none\"\n",
    "]"
   ]
  },
  {
   "cell_type": "code",
   "execution_count": 21,
   "id": "f84f73a2",
   "metadata": {
    "execution": {
     "iopub.execute_input": "2025-08-05T15:43:29.947527Z",
     "iopub.status.busy": "2025-08-05T15:43:29.946894Z",
     "iopub.status.idle": "2025-08-05T15:43:29.953579Z",
     "shell.execute_reply": "2025-08-05T15:43:29.952621Z"
    },
    "papermill": {
     "duration": 0.026878,
     "end_time": "2025-08-05T15:43:29.955266",
     "exception": false,
     "start_time": "2025-08-05T15:43:29.928388",
     "status": "completed"
    },
    "tags": []
   },
   "outputs": [],
   "source": [
    "from utils import flatten_once\n",
    "\n",
    "excluded_features_columns = flatten_once(excluded_features_columns)"
   ]
  },
  {
   "cell_type": "code",
   "execution_count": 22,
   "id": "884dea22",
   "metadata": {
    "execution": {
     "iopub.execute_input": "2025-08-05T15:43:29.990741Z",
     "iopub.status.busy": "2025-08-05T15:43:29.990187Z",
     "iopub.status.idle": "2025-08-05T15:43:29.999826Z",
     "shell.execute_reply": "2025-08-05T15:43:29.998712Z"
    },
    "papermill": {
     "duration": 0.028808,
     "end_time": "2025-08-05T15:43:30.001439",
     "exception": false,
     "start_time": "2025-08-05T15:43:29.972631",
     "status": "completed"
    },
    "tags": []
   },
   "outputs": [
    {
     "name": "stdout",
     "output_type": "stream",
     "text": [
      "Dropping features: ['maxdeutsch1', 'maxdeutsch.Missing.']\n"
     ]
    }
   ],
   "source": [
    "if len(excluded_features_columns) > 0:\n",
    "    print(f\"Dropping features: {excluded_features_columns}\")\n",
    "    X_train.drop(excluded_features_columns, axis=1, inplace=True)"
   ]
  },
  {
   "cell_type": "code",
   "execution_count": 23,
   "id": "95ab8b16",
   "metadata": {
    "execution": {
     "iopub.execute_input": "2025-08-05T15:43:30.036966Z",
     "iopub.status.busy": "2025-08-05T15:43:30.036304Z",
     "iopub.status.idle": "2025-08-05T15:43:30.091722Z",
     "shell.execute_reply": "2025-08-05T15:43:30.090781Z"
    },
    "papermill": {
     "duration": 0.074544,
     "end_time": "2025-08-05T15:43:30.093230",
     "exception": false,
     "start_time": "2025-08-05T15:43:30.018686",
     "status": "completed"
    },
    "tags": []
   },
   "outputs": [
    {
     "name": "stdout",
     "output_type": "stream",
     "text": [
      "Dropping features: ['maxdeutsch1', 'maxdeutsch.Missing.']\n"
     ]
    }
   ],
   "source": [
    "if len(excluded_features_columns) > 0:\n",
    "    print(f\"Dropping features: {excluded_features_columns}\")\n",
    "    X_test.drop(excluded_features_columns, axis=1, inplace=True)"
   ]
  },
  {
   "cell_type": "code",
   "execution_count": 24,
   "id": "1853aaf5-fb9f-46cb-a2b5-8ea4ae2237e4",
   "metadata": {
    "execution": {
     "iopub.execute_input": "2025-08-05T15:43:30.128330Z",
     "iopub.status.busy": "2025-08-05T15:43:30.127657Z",
     "iopub.status.idle": "2025-08-05T15:43:30.179123Z",
     "shell.execute_reply": "2025-08-05T15:43:30.178090Z"
    },
    "papermill": {
     "duration": 0.070833,
     "end_time": "2025-08-05T15:43:30.181434",
     "exception": false,
     "start_time": "2025-08-05T15:43:30.110601",
     "status": "completed"
    },
    "tags": []
   },
   "outputs": [
    {
     "name": "stdout",
     "output_type": "stream",
     "text": [
      "Dropping features: ['maxdeutsch1', 'maxdeutsch.Missing.']\n"
     ]
    }
   ],
   "source": [
    "if len(excluded_features_columns) > 0:\n",
    "    print(f\"Dropping features: {excluded_features_columns}\")\n",
    "    X_calib.drop(excluded_features_columns, axis=1, inplace=True)"
   ]
  },
  {
   "cell_type": "code",
   "execution_count": 25,
   "id": "76c4dc6d",
   "metadata": {
    "execution": {
     "iopub.execute_input": "2025-08-05T15:43:30.222622Z",
     "iopub.status.busy": "2025-08-05T15:43:30.221942Z",
     "iopub.status.idle": "2025-08-05T15:43:30.227474Z",
     "shell.execute_reply": "2025-08-05T15:43:30.226538Z"
    },
    "papermill": {
     "duration": 0.02734,
     "end_time": "2025-08-05T15:43:30.229230",
     "exception": false,
     "start_time": "2025-08-05T15:43:30.201890",
     "status": "completed"
    },
    "tags": []
   },
   "outputs": [],
   "source": [
    "# EXCLUDE CERTAIN SUBGROUPS\n",
    "# ----------------------\n",
    "\n",
    "mode = universe.get(\"exclude_subgroups\", \"keep-all\") \n",
    "# Fetches the exclude_subgroups setting from the universe dict.\n",
    "# Defaults to \"keep-all\" if the key is missing."
   ]
  },
  {
   "cell_type": "code",
   "execution_count": 26,
   "id": "21994072",
   "metadata": {
    "execution": {
     "iopub.execute_input": "2025-08-05T15:43:30.270961Z",
     "iopub.status.busy": "2025-08-05T15:43:30.269936Z",
     "iopub.status.idle": "2025-08-05T15:43:30.276607Z",
     "shell.execute_reply": "2025-08-05T15:43:30.275633Z"
    },
    "papermill": {
     "duration": 0.028817,
     "end_time": "2025-08-05T15:43:30.278469",
     "exception": false,
     "start_time": "2025-08-05T15:43:30.249652",
     "status": "completed"
    },
    "tags": []
   },
   "outputs": [],
   "source": [
    "if mode == \"keep-all\":\n",
    "    keep_mask = pd.Series(True, index=org_train.index)\n",
    "\n",
    "# org_train contains the original feature columns from features_org (in Simson)\n",
    "# features_org contains unprocessed features, for me X_train at beginning ???\n",
    "# For keep-all, creates a boolean Series (keep_mask) of all True, so no rows are removed.\n",
    "\n",
    "elif mode == \"drop-non-german\":\n",
    "    keep_mask = org_train[\"maxdeutsch1\"] == 1 # ??? what about missing values?\n",
    "\n",
    "else:\n",
    "    raise ValueError(f\"Unsupported mode for exclude_subgroups: {mode}\")"
   ]
  },
  {
   "cell_type": "code",
   "execution_count": 27,
   "id": "71651440",
   "metadata": {
    "execution": {
     "iopub.execute_input": "2025-08-05T15:43:30.319047Z",
     "iopub.status.busy": "2025-08-05T15:43:30.318401Z",
     "iopub.status.idle": "2025-08-05T15:43:30.325207Z",
     "shell.execute_reply": "2025-08-05T15:43:30.324265Z"
    },
    "papermill": {
     "duration": 0.028925,
     "end_time": "2025-08-05T15:43:30.327161",
     "exception": false,
     "start_time": "2025-08-05T15:43:30.298236",
     "status": "completed"
    },
    "tags": []
   },
   "outputs": [],
   "source": [
    "n_drop = (~keep_mask).sum() # Calculates how many rows are set to be dropped\n",
    "if n_drop > 0:\n",
    "    pct = n_drop / len(keep_mask) * 100\n",
    "    print(f\"Dropping {n_drop} rows ({pct:.2f}%) where mode='{mode}'\")"
   ]
  },
  {
   "cell_type": "code",
   "execution_count": 28,
   "id": "5fb8eee5",
   "metadata": {
    "execution": {
     "iopub.execute_input": "2025-08-05T15:43:30.367748Z",
     "iopub.status.busy": "2025-08-05T15:43:30.366882Z",
     "iopub.status.idle": "2025-08-05T15:43:30.374355Z",
     "shell.execute_reply": "2025-08-05T15:43:30.373380Z"
    },
    "papermill": {
     "duration": 0.02958,
     "end_time": "2025-08-05T15:43:30.376217",
     "exception": false,
     "start_time": "2025-08-05T15:43:30.346637",
     "status": "completed"
    },
    "tags": []
   },
   "outputs": [],
   "source": [
    "X_train = X_train[keep_mask]"
   ]
  },
  {
   "cell_type": "code",
   "execution_count": 29,
   "id": "b202bb3a",
   "metadata": {
    "execution": {
     "iopub.execute_input": "2025-08-05T15:43:30.416547Z",
     "iopub.status.busy": "2025-08-05T15:43:30.415909Z",
     "iopub.status.idle": "2025-08-05T15:43:30.422242Z",
     "shell.execute_reply": "2025-08-05T15:43:30.421300Z"
    },
    "papermill": {
     "duration": 0.027659,
     "end_time": "2025-08-05T15:43:30.423859",
     "exception": false,
     "start_time": "2025-08-05T15:43:30.396200",
     "status": "completed"
    },
    "tags": []
   },
   "outputs": [],
   "source": [
    "y_train = y_train[keep_mask]"
   ]
  },
  {
   "cell_type": "markdown",
   "id": "493e2ac3",
   "metadata": {
    "papermill": {
     "duration": 0.018943,
     "end_time": "2025-08-05T15:43:30.462928",
     "exception": false,
     "start_time": "2025-08-05T15:43:30.443985",
     "status": "completed"
    },
    "tags": []
   },
   "source": [
    "# Model Training"
   ]
  },
  {
   "cell_type": "code",
   "execution_count": 30,
   "id": "679e1268",
   "metadata": {
    "execution": {
     "iopub.execute_input": "2025-08-05T15:43:30.504607Z",
     "iopub.status.busy": "2025-08-05T15:43:30.503937Z",
     "iopub.status.idle": "2025-08-05T15:43:30.603282Z",
     "shell.execute_reply": "2025-08-05T15:43:30.602315Z"
    },
    "papermill": {
     "duration": 0.123128,
     "end_time": "2025-08-05T15:43:30.605250",
     "exception": false,
     "start_time": "2025-08-05T15:43:30.482122",
     "status": "completed"
    },
    "tags": []
   },
   "outputs": [],
   "source": [
    "from sklearn.linear_model import LogisticRegression\n",
    "from sklearn.ensemble import GradientBoostingClassifier, RandomForestClassifier\n",
    "\n",
    "if (universe[\"model\"] == \"logreg\"):\n",
    "    model = LogisticRegression() #penalty=\"none\", solver=\"newton-cg\", max_iter=1) # include random_state=19 ?\n",
    "elif (universe[\"model\"] == \"penalized_logreg\"):\n",
    "    model = LogisticRegression(penalty=\"l2\", C=0.1) #, solver=\"newton-cg\", max_iter=1)\n",
    "elif (universe[\"model\"] == \"rf\"):\n",
    "    model = RandomForestClassifier() # n_estimators=100, n_jobs=-1\n",
    "elif (universe[\"model\"] == \"gbm\"):\n",
    "    model = GradientBoostingClassifier()\n",
    "elif (universe[\"model\"] == \"elasticnet\"):\n",
    "    model = LogisticRegression(penalty = 'elasticnet', solver = 'saga', l1_ratio = 0.5) # max_iter=5000\n",
    "else:\n",
    "    raise \"Unsupported universe.model\""
   ]
  },
  {
   "cell_type": "code",
   "execution_count": 31,
   "id": "0cc8f744",
   "metadata": {
    "execution": {
     "iopub.execute_input": "2025-08-05T15:43:30.646913Z",
     "iopub.status.busy": "2025-08-05T15:43:30.646490Z",
     "iopub.status.idle": "2025-08-05T15:43:30.653291Z",
     "shell.execute_reply": "2025-08-05T15:43:30.652375Z"
    },
    "papermill": {
     "duration": 0.029815,
     "end_time": "2025-08-05T15:43:30.655487",
     "exception": false,
     "start_time": "2025-08-05T15:43:30.625672",
     "status": "completed"
    },
    "tags": []
   },
   "outputs": [],
   "source": [
    "import numpy as np\n",
    "from sklearn.pipeline import Pipeline\n",
    "from sklearn.preprocessing import StandardScaler\n",
    "\n",
    "model = Pipeline([\n",
    "    #(\"continuous_processor\", continuous_processor),\n",
    "    #(\"categorical_preprocessor\", categorical_preprocessor),\n",
    "    (\"scale\", StandardScaler() if universe[\"scale\"] == \"scale\" else None), \n",
    "    (\"model\", model),\n",
    "])"
   ]
  },
  {
   "cell_type": "code",
   "execution_count": 32,
   "id": "9442c04d",
   "metadata": {
    "execution": {
     "iopub.execute_input": "2025-08-05T15:43:30.689549Z",
     "iopub.status.busy": "2025-08-05T15:43:30.689085Z",
     "iopub.status.idle": "2025-08-05T15:43:31.791284Z",
     "shell.execute_reply": "2025-08-05T15:43:31.790062Z"
    },
    "papermill": {
     "duration": 1.116704,
     "end_time": "2025-08-05T15:43:31.792562",
     "exception": false,
     "start_time": "2025-08-05T15:43:30.675858",
     "status": "completed"
    },
    "tags": []
   },
   "outputs": [
    {
     "data": {
      "text/html": [
       "<style>#sk-container-id-1 {color: black;background-color: white;}#sk-container-id-1 pre{padding: 0;}#sk-container-id-1 div.sk-toggleable {background-color: white;}#sk-container-id-1 label.sk-toggleable__label {cursor: pointer;display: block;width: 100%;margin-bottom: 0;padding: 0.3em;box-sizing: border-box;text-align: center;}#sk-container-id-1 label.sk-toggleable__label-arrow:before {content: \"▸\";float: left;margin-right: 0.25em;color: #696969;}#sk-container-id-1 label.sk-toggleable__label-arrow:hover:before {color: black;}#sk-container-id-1 div.sk-estimator:hover label.sk-toggleable__label-arrow:before {color: black;}#sk-container-id-1 div.sk-toggleable__content {max-height: 0;max-width: 0;overflow: hidden;text-align: left;background-color: #f0f8ff;}#sk-container-id-1 div.sk-toggleable__content pre {margin: 0.2em;color: black;border-radius: 0.25em;background-color: #f0f8ff;}#sk-container-id-1 input.sk-toggleable__control:checked~div.sk-toggleable__content {max-height: 200px;max-width: 100%;overflow: auto;}#sk-container-id-1 input.sk-toggleable__control:checked~label.sk-toggleable__label-arrow:before {content: \"▾\";}#sk-container-id-1 div.sk-estimator input.sk-toggleable__control:checked~label.sk-toggleable__label {background-color: #d4ebff;}#sk-container-id-1 div.sk-label input.sk-toggleable__control:checked~label.sk-toggleable__label {background-color: #d4ebff;}#sk-container-id-1 input.sk-hidden--visually {border: 0;clip: rect(1px 1px 1px 1px);clip: rect(1px, 1px, 1px, 1px);height: 1px;margin: -1px;overflow: hidden;padding: 0;position: absolute;width: 1px;}#sk-container-id-1 div.sk-estimator {font-family: monospace;background-color: #f0f8ff;border: 1px dotted black;border-radius: 0.25em;box-sizing: border-box;margin-bottom: 0.5em;}#sk-container-id-1 div.sk-estimator:hover {background-color: #d4ebff;}#sk-container-id-1 div.sk-parallel-item::after {content: \"\";width: 100%;border-bottom: 1px solid gray;flex-grow: 1;}#sk-container-id-1 div.sk-label:hover label.sk-toggleable__label {background-color: #d4ebff;}#sk-container-id-1 div.sk-serial::before {content: \"\";position: absolute;border-left: 1px solid gray;box-sizing: border-box;top: 0;bottom: 0;left: 50%;z-index: 0;}#sk-container-id-1 div.sk-serial {display: flex;flex-direction: column;align-items: center;background-color: white;padding-right: 0.2em;padding-left: 0.2em;position: relative;}#sk-container-id-1 div.sk-item {position: relative;z-index: 1;}#sk-container-id-1 div.sk-parallel {display: flex;align-items: stretch;justify-content: center;background-color: white;position: relative;}#sk-container-id-1 div.sk-item::before, #sk-container-id-1 div.sk-parallel-item::before {content: \"\";position: absolute;border-left: 1px solid gray;box-sizing: border-box;top: 0;bottom: 0;left: 50%;z-index: -1;}#sk-container-id-1 div.sk-parallel-item {display: flex;flex-direction: column;z-index: 1;position: relative;background-color: white;}#sk-container-id-1 div.sk-parallel-item:first-child::after {align-self: flex-end;width: 50%;}#sk-container-id-1 div.sk-parallel-item:last-child::after {align-self: flex-start;width: 50%;}#sk-container-id-1 div.sk-parallel-item:only-child::after {width: 0;}#sk-container-id-1 div.sk-dashed-wrapped {border: 1px dashed gray;margin: 0 0.4em 0.5em 0.4em;box-sizing: border-box;padding-bottom: 0.4em;background-color: white;}#sk-container-id-1 div.sk-label label {font-family: monospace;font-weight: bold;display: inline-block;line-height: 1.2em;}#sk-container-id-1 div.sk-label-container {text-align: center;}#sk-container-id-1 div.sk-container {/* jupyter's `normalize.less` sets `[hidden] { display: none; }` but bootstrap.min.css set `[hidden] { display: none !important; }` so we also need the `!important` here to be able to override the default hidden behavior on the sphinx rendered scikit-learn.org. See: https://github.com/scikit-learn/scikit-learn/issues/21755 */display: inline-block !important;position: relative;}#sk-container-id-1 div.sk-text-repr-fallback {display: none;}</style><div id=\"sk-container-id-1\" class=\"sk-top-container\"><div class=\"sk-text-repr-fallback\"><pre>Pipeline(steps=[(&#x27;scale&#x27;, None), (&#x27;model&#x27;, RandomForestClassifier())])</pre><b>In a Jupyter environment, please rerun this cell to show the HTML representation or trust the notebook. <br />On GitHub, the HTML representation is unable to render, please try loading this page with nbviewer.org.</b></div><div class=\"sk-container\" hidden><div class=\"sk-item sk-dashed-wrapped\"><div class=\"sk-label-container\"><div class=\"sk-label sk-toggleable\"><input class=\"sk-toggleable__control sk-hidden--visually\" id=\"sk-estimator-id-1\" type=\"checkbox\" ><label for=\"sk-estimator-id-1\" class=\"sk-toggleable__label sk-toggleable__label-arrow\">Pipeline</label><div class=\"sk-toggleable__content\"><pre>Pipeline(steps=[(&#x27;scale&#x27;, None), (&#x27;model&#x27;, RandomForestClassifier())])</pre></div></div></div><div class=\"sk-serial\"><div class=\"sk-item\"><div class=\"sk-estimator sk-toggleable\"><input class=\"sk-toggleable__control sk-hidden--visually\" id=\"sk-estimator-id-2\" type=\"checkbox\" ><label for=\"sk-estimator-id-2\" class=\"sk-toggleable__label sk-toggleable__label-arrow\">None</label><div class=\"sk-toggleable__content\"><pre>None</pre></div></div></div><div class=\"sk-item\"><div class=\"sk-estimator sk-toggleable\"><input class=\"sk-toggleable__control sk-hidden--visually\" id=\"sk-estimator-id-3\" type=\"checkbox\" ><label for=\"sk-estimator-id-3\" class=\"sk-toggleable__label sk-toggleable__label-arrow\">RandomForestClassifier</label><div class=\"sk-toggleable__content\"><pre>RandomForestClassifier()</pre></div></div></div></div></div></div></div>"
      ],
      "text/plain": [
       "Pipeline(steps=[('scale', None), ('model', RandomForestClassifier())])"
      ]
     },
     "execution_count": 32,
     "metadata": {},
     "output_type": "execute_result"
    }
   ],
   "source": [
    "model.fit(X_train, y_train.values.ravel())"
   ]
  },
  {
   "cell_type": "code",
   "execution_count": 33,
   "id": "af59f8c0",
   "metadata": {
    "execution": {
     "iopub.execute_input": "2025-08-05T15:43:31.814304Z",
     "iopub.status.busy": "2025-08-05T15:43:31.813958Z",
     "iopub.status.idle": "2025-08-05T15:43:31.818979Z",
     "shell.execute_reply": "2025-08-05T15:43:31.818134Z"
    },
    "papermill": {
     "duration": 0.017238,
     "end_time": "2025-08-05T15:43:31.820378",
     "exception": false,
     "start_time": "2025-08-05T15:43:31.803140",
     "status": "completed"
    },
    "tags": []
   },
   "outputs": [],
   "source": [
    "from fairness_multiverse.universe import predict_w_threshold"
   ]
  },
  {
   "cell_type": "code",
   "execution_count": 34,
   "id": "a7cf2e16",
   "metadata": {
    "execution": {
     "iopub.execute_input": "2025-08-05T15:43:31.843184Z",
     "iopub.status.busy": "2025-08-05T15:43:31.842517Z",
     "iopub.status.idle": "2025-08-05T15:43:33.571156Z",
     "shell.execute_reply": "2025-08-05T15:43:33.570400Z"
    },
    "papermill": {
     "duration": 1.740628,
     "end_time": "2025-08-05T15:43:33.572461",
     "exception": false,
     "start_time": "2025-08-05T15:43:31.831833",
     "status": "completed"
    },
    "tags": []
   },
   "outputs": [
    {
     "data": {
      "text/plain": [
       "0.8657117378218705"
      ]
     },
     "execution_count": 34,
     "metadata": {},
     "output_type": "execute_result"
    }
   ],
   "source": [
    "probs_test = model.predict_proba(X_test)\n",
    "\n",
    "'''\n",
    "Below code returns a boolean array (or binary 0/1 array depending on how it’s used) where each element \n",
    "is True if the probability of class 1 is greater than or equal to the threshold, and False otherwise.\n",
    "'''\n",
    "y_pred_default = predict_w_threshold(probs_test, 0.5)\n",
    "\n",
    "from sklearn.metrics import accuracy_score\n",
    "\n",
    "# Naive prediction\n",
    "accuracy_score(y_true = y_true, y_pred = y_pred_default)"
   ]
  },
  {
   "cell_type": "code",
   "execution_count": 35,
   "id": "081964c3",
   "metadata": {
    "execution": {
     "iopub.execute_input": "2025-08-05T15:43:33.596694Z",
     "iopub.status.busy": "2025-08-05T15:43:33.596373Z",
     "iopub.status.idle": "2025-08-05T15:43:35.306553Z",
     "shell.execute_reply": "2025-08-05T15:43:35.305827Z"
    },
    "papermill": {
     "duration": 1.722285,
     "end_time": "2025-08-05T15:43:35.307782",
     "exception": false,
     "start_time": "2025-08-05T15:43:33.585497",
     "status": "completed"
    },
    "tags": []
   },
   "outputs": [
    {
     "data": {
      "text/plain": [
       "array([0, 0, 0, ..., 0, 0, 0])"
      ]
     },
     "execution_count": 35,
     "metadata": {},
     "output_type": "execute_result"
    }
   ],
   "source": [
    "model.predict(X_test)"
   ]
  },
  {
   "cell_type": "markdown",
   "id": "56c9705b",
   "metadata": {
    "papermill": {
     "duration": 0.01081,
     "end_time": "2025-08-05T15:43:35.335931",
     "exception": false,
     "start_time": "2025-08-05T15:43:35.325121",
     "status": "completed"
    },
    "tags": []
   },
   "source": [
    "# Conformal Prediction"
   ]
  },
  {
   "cell_type": "code",
   "execution_count": 36,
   "id": "160ec6ff",
   "metadata": {
    "execution": {
     "iopub.execute_input": "2025-08-05T15:43:35.360376Z",
     "iopub.status.busy": "2025-08-05T15:43:35.359852Z",
     "iopub.status.idle": "2025-08-05T15:43:35.364826Z",
     "shell.execute_reply": "2025-08-05T15:43:35.363968Z"
    },
    "papermill": {
     "duration": 0.019686,
     "end_time": "2025-08-05T15:43:35.366334",
     "exception": false,
     "start_time": "2025-08-05T15:43:35.346648",
     "status": "completed"
    },
    "tags": []
   },
   "outputs": [],
   "source": [
    "# Miscoverage level for conformal prediction (10% allowed error rate => 90% target coverage)\n",
    "alpha = 0.1"
   ]
  },
  {
   "cell_type": "code",
   "execution_count": 37,
   "id": "eadf4555-3dd3-440e-8e35-f82a4ad9f855",
   "metadata": {
    "execution": {
     "iopub.execute_input": "2025-08-05T15:43:35.390872Z",
     "iopub.status.busy": "2025-08-05T15:43:35.390352Z",
     "iopub.status.idle": "2025-08-05T15:43:37.403695Z",
     "shell.execute_reply": "2025-08-05T15:43:37.402933Z"
    },
    "papermill": {
     "duration": 2.02648,
     "end_time": "2025-08-05T15:43:37.405112",
     "exception": false,
     "start_time": "2025-08-05T15:43:35.378632",
     "status": "completed"
    },
    "tags": []
   },
   "outputs": [],
   "source": [
    "probs_calib = model.predict_proba(X_calib)"
   ]
  },
  {
   "cell_type": "code",
   "execution_count": 38,
   "id": "2ed93547-6d5d-4983-9b36-1ecb300da49a",
   "metadata": {
    "execution": {
     "iopub.execute_input": "2025-08-05T15:43:37.437484Z",
     "iopub.status.busy": "2025-08-05T15:43:37.437179Z",
     "iopub.status.idle": "2025-08-05T15:43:37.441791Z",
     "shell.execute_reply": "2025-08-05T15:43:37.440948Z"
    },
    "papermill": {
     "duration": 0.018805,
     "end_time": "2025-08-05T15:43:37.443296",
     "exception": false,
     "start_time": "2025-08-05T15:43:37.424491",
     "status": "completed"
    },
    "tags": []
   },
   "outputs": [],
   "source": [
    "y_calib = y_calib.values.ravel().astype(int)"
   ]
  },
  {
   "cell_type": "code",
   "execution_count": 39,
   "id": "65d1320d-f588-4b38-9072-62af1ae97f7d",
   "metadata": {
    "execution": {
     "iopub.execute_input": "2025-08-05T15:43:37.465285Z",
     "iopub.status.busy": "2025-08-05T15:43:37.464901Z",
     "iopub.status.idle": "2025-08-05T15:43:37.470518Z",
     "shell.execute_reply": "2025-08-05T15:43:37.469707Z"
    },
    "papermill": {
     "duration": 0.01772,
     "end_time": "2025-08-05T15:43:37.472002",
     "exception": false,
     "start_time": "2025-08-05T15:43:37.454282",
     "status": "completed"
    },
    "tags": []
   },
   "outputs": [],
   "source": [
    "from fairness_multiverse.conformal import compute_nc_scores\n",
    "\n",
    "# Compute nonconformity scores on calibration set (1 - probability of true class)\n",
    "nc_scores = compute_nc_scores(probs_calib, y_calib)"
   ]
  },
  {
   "cell_type": "code",
   "execution_count": 40,
   "id": "df3b8ca3-53b7-43d5-9667-7c85da7aeda2",
   "metadata": {
    "execution": {
     "iopub.execute_input": "2025-08-05T15:43:37.503148Z",
     "iopub.status.busy": "2025-08-05T15:43:37.502627Z",
     "iopub.status.idle": "2025-08-05T15:43:37.508262Z",
     "shell.execute_reply": "2025-08-05T15:43:37.507459Z"
    },
    "papermill": {
     "duration": 0.020288,
     "end_time": "2025-08-05T15:43:37.509792",
     "exception": false,
     "start_time": "2025-08-05T15:43:37.489504",
     "status": "completed"
    },
    "tags": []
   },
   "outputs": [],
   "source": [
    "from fairness_multiverse.conformal import find_threshold\n",
    "\n",
    "# Find conformal threshold q_hat for the given alpha (split conformal method)\n",
    "q_hat = find_threshold(nc_scores, alpha)"
   ]
  },
  {
   "cell_type": "code",
   "execution_count": 41,
   "id": "4d29e6c1-0ef6-4aa4-b8fe-4fe79b0d033a",
   "metadata": {
    "execution": {
     "iopub.execute_input": "2025-08-05T15:43:37.536285Z",
     "iopub.status.busy": "2025-08-05T15:43:37.535807Z",
     "iopub.status.idle": "2025-08-05T15:43:37.543949Z",
     "shell.execute_reply": "2025-08-05T15:43:37.542629Z"
    },
    "papermill": {
     "duration": 0.024861,
     "end_time": "2025-08-05T15:43:37.546018",
     "exception": false,
     "start_time": "2025-08-05T15:43:37.521157",
     "status": "completed"
    },
    "tags": []
   },
   "outputs": [
    {
     "data": {
      "text/plain": [
       "0.6799999999999999"
      ]
     },
     "execution_count": 41,
     "metadata": {},
     "output_type": "execute_result"
    }
   ],
   "source": [
    "q_hat"
   ]
  },
  {
   "cell_type": "code",
   "execution_count": 42,
   "id": "92460794-cdac-4be2-ba28-f28c0515a6fb",
   "metadata": {
    "execution": {
     "iopub.execute_input": "2025-08-05T15:43:37.595275Z",
     "iopub.status.busy": "2025-08-05T15:43:37.594573Z",
     "iopub.status.idle": "2025-08-05T15:43:40.670719Z",
     "shell.execute_reply": "2025-08-05T15:43:40.669562Z"
    },
    "papermill": {
     "duration": 3.103058,
     "end_time": "2025-08-05T15:43:40.672714",
     "exception": false,
     "start_time": "2025-08-05T15:43:37.569656",
     "status": "completed"
    },
    "tags": []
   },
   "outputs": [],
   "source": [
    "from fairness_multiverse.conformal import predict_conformal_sets\n",
    "\n",
    "# Generate prediction sets for each test example\n",
    "pred_sets = predict_conformal_sets(model, X_test, q_hat)"
   ]
  },
  {
   "cell_type": "code",
   "execution_count": 43,
   "id": "d90c9a65-e6db-4f5d-80cd-e68fb7e46829",
   "metadata": {
    "execution": {
     "iopub.execute_input": "2025-08-05T15:43:40.726340Z",
     "iopub.status.busy": "2025-08-05T15:43:40.725338Z",
     "iopub.status.idle": "2025-08-05T15:43:40.731327Z",
     "shell.execute_reply": "2025-08-05T15:43:40.730290Z"
    },
    "papermill": {
     "duration": 0.032331,
     "end_time": "2025-08-05T15:43:40.732625",
     "exception": false,
     "start_time": "2025-08-05T15:43:40.700294",
     "status": "completed"
    },
    "tags": []
   },
   "outputs": [],
   "source": [
    "y_true = y_true.squeeze()"
   ]
  },
  {
   "cell_type": "code",
   "execution_count": 44,
   "id": "3a58a54a-1e68-46b9-927a-df01f18aebc8",
   "metadata": {
    "execution": {
     "iopub.execute_input": "2025-08-05T15:43:40.756743Z",
     "iopub.status.busy": "2025-08-05T15:43:40.755982Z",
     "iopub.status.idle": "2025-08-05T15:43:41.278081Z",
     "shell.execute_reply": "2025-08-05T15:43:41.277286Z"
    },
    "papermill": {
     "duration": 0.53491,
     "end_time": "2025-08-05T15:43:41.279464",
     "exception": false,
     "start_time": "2025-08-05T15:43:40.744554",
     "status": "completed"
    },
    "tags": []
   },
   "outputs": [],
   "source": [
    "from fairness_multiverse.conformal import evaluate_sets\n",
    "\n",
    "# Evaluate coverage and average set size on test data\n",
    "metrics = evaluate_sets(pred_sets, y_true)"
   ]
  },
  {
   "cell_type": "markdown",
   "id": "2b569c12-9aaa-4c88-98c9-bbcd0cf3ebb8",
   "metadata": {
    "papermill": {
     "duration": 0.010368,
     "end_time": "2025-08-05T15:43:41.300914",
     "exception": false,
     "start_time": "2025-08-05T15:43:41.290546",
     "status": "completed"
    },
    "tags": []
   },
   "source": [
    "# CP Metrics"
   ]
  },
  {
   "cell_type": "code",
   "execution_count": 45,
   "id": "5ce0a5cb-201f-45a0-ade5-94c7f0bd6095",
   "metadata": {
    "execution": {
     "iopub.execute_input": "2025-08-05T15:43:41.322462Z",
     "iopub.status.busy": "2025-08-05T15:43:41.322137Z",
     "iopub.status.idle": "2025-08-05T15:43:41.327818Z",
     "shell.execute_reply": "2025-08-05T15:43:41.327122Z"
    },
    "papermill": {
     "duration": 0.018165,
     "end_time": "2025-08-05T15:43:41.329238",
     "exception": false,
     "start_time": "2025-08-05T15:43:41.311073",
     "status": "completed"
    },
    "tags": []
   },
   "outputs": [
    {
     "data": {
      "text/plain": [
       "{'coverage': 0.9152379890759113, 'avg_size': 1.148489577527589}"
      ]
     },
     "execution_count": 45,
     "metadata": {},
     "output_type": "execute_result"
    }
   ],
   "source": [
    "metrics"
   ]
  },
  {
   "cell_type": "code",
   "execution_count": 46,
   "id": "9b9a838d-31c9-430b-ae14-12baee460d17",
   "metadata": {
    "execution": {
     "iopub.execute_input": "2025-08-05T15:43:41.351907Z",
     "iopub.status.busy": "2025-08-05T15:43:41.351522Z",
     "iopub.status.idle": "2025-08-05T15:43:41.356339Z",
     "shell.execute_reply": "2025-08-05T15:43:41.355594Z"
    },
    "papermill": {
     "duration": 0.017426,
     "end_time": "2025-08-05T15:43:41.357706",
     "exception": false,
     "start_time": "2025-08-05T15:43:41.340280",
     "status": "completed"
    },
    "tags": []
   },
   "outputs": [],
   "source": [
    "example_universe = universe.copy()\n",
    "universe_training_year = example_universe.get(\"training_year\")\n",
    "universe_training_size = example_universe.get(\"training_size\")\n",
    "universe_scale = example_universe.get(\"scale\")\n",
    "universe_model = example_universe.get(\"model\")\n",
    "universe_exclude_features = example_universe.get(\"exclude_features\")\n",
    "universe_exclude_subgroups = example_universe.get(\"exclude_subgroups\")"
   ]
  },
  {
   "cell_type": "code",
   "execution_count": 47,
   "id": "f4b6a8ac-9dc0-4245-8a91-5b3b5999c4f9",
   "metadata": {
    "execution": {
     "iopub.execute_input": "2025-08-05T15:43:41.381431Z",
     "iopub.status.busy": "2025-08-05T15:43:41.380838Z",
     "iopub.status.idle": "2025-08-05T15:43:41.385790Z",
     "shell.execute_reply": "2025-08-05T15:43:41.385011Z"
    },
    "papermill": {
     "duration": 0.017758,
     "end_time": "2025-08-05T15:43:41.387173",
     "exception": false,
     "start_time": "2025-08-05T15:43:41.369415",
     "status": "completed"
    },
    "tags": []
   },
   "outputs": [],
   "source": [
    "cp_metrics_dict = {\n",
    "    \"universe_id\": [universe_id],\n",
    "    \"universe_training_year\": [universe_training_year],\n",
    "    \"universe_training_size\": [universe_training_size],\n",
    "    \"universe_scale\": [universe_scale],\n",
    "    \"universe_model\": [universe_model],\n",
    "    \"universe_exclude_features\": [universe_exclude_features],\n",
    "    \"universe_exclude_subgroups\": [universe_exclude_subgroups],\n",
    "    \"q_hat\": [q_hat],\n",
    "    \"coverage\": [metrics[\"coverage\"]],\n",
    "    \"avg_size\": [metrics[\"avg_size\"]],\n",
    "}"
   ]
  },
  {
   "cell_type": "code",
   "execution_count": 48,
   "id": "908acbb1-0371-4915-85ca-3fa520d2efe2",
   "metadata": {
    "execution": {
     "iopub.execute_input": "2025-08-05T15:43:41.410304Z",
     "iopub.status.busy": "2025-08-05T15:43:41.409655Z",
     "iopub.status.idle": "2025-08-05T15:43:41.416449Z",
     "shell.execute_reply": "2025-08-05T15:43:41.415618Z"
    },
    "papermill": {
     "duration": 0.01916,
     "end_time": "2025-08-05T15:43:41.417791",
     "exception": false,
     "start_time": "2025-08-05T15:43:41.398631",
     "status": "completed"
    },
    "tags": []
   },
   "outputs": [
    {
     "data": {
      "text/plain": [
       "{'universe_id': ['edb76051bb4ddf96b5738d4668ed83c4'],\n",
       " 'universe_training_year': ['2012_14'],\n",
       " 'universe_training_size': ['5k'],\n",
       " 'universe_scale': ['do-not-scale'],\n",
       " 'universe_model': ['rf'],\n",
       " 'universe_exclude_features': ['nationality'],\n",
       " 'universe_exclude_subgroups': ['keep-all'],\n",
       " 'q_hat': [0.6799999999999999],\n",
       " 'coverage': [0.9152379890759113],\n",
       " 'avg_size': [1.148489577527589]}"
      ]
     },
     "execution_count": 48,
     "metadata": {},
     "output_type": "execute_result"
    }
   ],
   "source": [
    "cp_metrics_dict"
   ]
  },
  {
   "cell_type": "code",
   "execution_count": 49,
   "id": "33007efc-14e9-4ec6-97ac-56a455c82265",
   "metadata": {
    "execution": {
     "iopub.execute_input": "2025-08-05T15:43:41.441049Z",
     "iopub.status.busy": "2025-08-05T15:43:41.440567Z",
     "iopub.status.idle": "2025-08-05T15:43:41.445381Z",
     "shell.execute_reply": "2025-08-05T15:43:41.444700Z"
    },
    "papermill": {
     "duration": 0.017754,
     "end_time": "2025-08-05T15:43:41.446890",
     "exception": false,
     "start_time": "2025-08-05T15:43:41.429136",
     "status": "completed"
    },
    "tags": []
   },
   "outputs": [],
   "source": [
    "cp_metrics_df = pd.DataFrame(cp_metrics_dict)"
   ]
  },
  {
   "cell_type": "code",
   "execution_count": 50,
   "id": "db12611b-57b2-4910-b9d0-355adfd6e7bf",
   "metadata": {
    "execution": {
     "iopub.execute_input": "2025-08-05T15:43:41.469496Z",
     "iopub.status.busy": "2025-08-05T15:43:41.469224Z",
     "iopub.status.idle": "2025-08-05T15:43:41.483321Z",
     "shell.execute_reply": "2025-08-05T15:43:41.482252Z"
    },
    "papermill": {
     "duration": 0.026757,
     "end_time": "2025-08-05T15:43:41.484869",
     "exception": false,
     "start_time": "2025-08-05T15:43:41.458112",
     "status": "completed"
    },
    "tags": []
   },
   "outputs": [
    {
     "data": {
      "text/html": [
       "<div>\n",
       "<style scoped>\n",
       "    .dataframe tbody tr th:only-of-type {\n",
       "        vertical-align: middle;\n",
       "    }\n",
       "\n",
       "    .dataframe tbody tr th {\n",
       "        vertical-align: top;\n",
       "    }\n",
       "\n",
       "    .dataframe thead th {\n",
       "        text-align: right;\n",
       "    }\n",
       "</style>\n",
       "<table border=\"1\" class=\"dataframe\">\n",
       "  <thead>\n",
       "    <tr style=\"text-align: right;\">\n",
       "      <th></th>\n",
       "      <th>universe_id</th>\n",
       "      <th>universe_training_year</th>\n",
       "      <th>universe_training_size</th>\n",
       "      <th>universe_scale</th>\n",
       "      <th>universe_model</th>\n",
       "      <th>universe_exclude_features</th>\n",
       "      <th>universe_exclude_subgroups</th>\n",
       "      <th>q_hat</th>\n",
       "      <th>coverage</th>\n",
       "      <th>avg_size</th>\n",
       "    </tr>\n",
       "  </thead>\n",
       "  <tbody>\n",
       "    <tr>\n",
       "      <th>0</th>\n",
       "      <td>edb76051bb4ddf96b5738d4668ed83c4</td>\n",
       "      <td>2012_14</td>\n",
       "      <td>5k</td>\n",
       "      <td>do-not-scale</td>\n",
       "      <td>rf</td>\n",
       "      <td>nationality</td>\n",
       "      <td>keep-all</td>\n",
       "      <td>0.68</td>\n",
       "      <td>0.915238</td>\n",
       "      <td>1.14849</td>\n",
       "    </tr>\n",
       "  </tbody>\n",
       "</table>\n",
       "</div>"
      ],
      "text/plain": [
       "                        universe_id universe_training_year  \\\n",
       "0  edb76051bb4ddf96b5738d4668ed83c4                2012_14   \n",
       "\n",
       "  universe_training_size universe_scale universe_model  \\\n",
       "0                     5k   do-not-scale             rf   \n",
       "\n",
       "  universe_exclude_features universe_exclude_subgroups  q_hat  coverage  \\\n",
       "0               nationality                   keep-all   0.68  0.915238   \n",
       "\n",
       "   avg_size  \n",
       "0   1.14849  "
      ]
     },
     "execution_count": 50,
     "metadata": {},
     "output_type": "execute_result"
    }
   ],
   "source": [
    "cp_metrics_df"
   ]
  },
  {
   "cell_type": "code",
   "execution_count": 51,
   "id": "b7fbde55-a0a1-47e4-9af6-fe4a17fa8c61",
   "metadata": {
    "execution": {
     "iopub.execute_input": "2025-08-05T15:43:41.529927Z",
     "iopub.status.busy": "2025-08-05T15:43:41.529266Z",
     "iopub.status.idle": "2025-08-05T15:43:41.534609Z",
     "shell.execute_reply": "2025-08-05T15:43:41.533551Z"
    },
    "papermill": {
     "duration": 0.029735,
     "end_time": "2025-08-05T15:43:41.536497",
     "exception": false,
     "start_time": "2025-08-05T15:43:41.506762",
     "status": "completed"
    },
    "tags": []
   },
   "outputs": [],
   "source": [
    "# Conditional Coverage & looking at subgroups"
   ]
  },
  {
   "cell_type": "code",
   "execution_count": 52,
   "id": "027ae886-68dd-4141-96c7-805a5450e1ef",
   "metadata": {
    "execution": {
     "iopub.execute_input": "2025-08-05T15:43:41.582616Z",
     "iopub.status.busy": "2025-08-05T15:43:41.581857Z",
     "iopub.status.idle": "2025-08-05T15:43:41.846997Z",
     "shell.execute_reply": "2025-08-05T15:43:41.845893Z"
    },
    "papermill": {
     "duration": 0.290217,
     "end_time": "2025-08-05T15:43:41.849152",
     "exception": false,
     "start_time": "2025-08-05T15:43:41.558935",
     "status": "completed"
    },
    "tags": []
   },
   "outputs": [],
   "source": [
    "from fairness_multiverse.conformal import build_cp_groups\n",
    "\n",
    "cp_groups_df = build_cp_groups(pred_sets, y_true, X_test.index, org_test)\n",
    "#needs universe_id and setting"
   ]
  },
  {
   "cell_type": "code",
   "execution_count": 53,
   "id": "6cbdab96-b2b2-45af-ad54-d0516db2e28d",
   "metadata": {
    "execution": {
     "iopub.execute_input": "2025-08-05T15:43:41.903969Z",
     "iopub.status.busy": "2025-08-05T15:43:41.902939Z",
     "iopub.status.idle": "2025-08-05T15:43:43.501403Z",
     "shell.execute_reply": "2025-08-05T15:43:43.500550Z"
    },
    "papermill": {
     "duration": 1.627222,
     "end_time": "2025-08-05T15:43:43.503081",
     "exception": false,
     "start_time": "2025-08-05T15:43:41.875859",
     "status": "completed"
    },
    "tags": []
   },
   "outputs": [],
   "source": [
    "# Define covered = 1 if true_label is in the predicted set\n",
    "cp_groups_df['covered'] = cp_groups_df.apply(\n",
    "    lambda r: int(r['true_label'] in r['pred_set']),\n",
    "    axis=1\n",
    ")"
   ]
  },
  {
   "cell_type": "code",
   "execution_count": 54,
   "id": "338ff529-1a6b-4b87-a931-8e4788d52aad",
   "metadata": {
    "execution": {
     "iopub.execute_input": "2025-08-05T15:43:43.527500Z",
     "iopub.status.busy": "2025-08-05T15:43:43.527031Z",
     "iopub.status.idle": "2025-08-05T15:43:43.531367Z",
     "shell.execute_reply": "2025-08-05T15:43:43.530596Z"
    },
    "papermill": {
     "duration": 0.017462,
     "end_time": "2025-08-05T15:43:43.532746",
     "exception": false,
     "start_time": "2025-08-05T15:43:43.515284",
     "status": "completed"
    },
    "tags": []
   },
   "outputs": [],
   "source": [
    "#cp_groups_df"
   ]
  },
  {
   "cell_type": "code",
   "execution_count": 55,
   "id": "90032e27-66df-4540-9169-4e89cfbaa758",
   "metadata": {
    "execution": {
     "iopub.execute_input": "2025-08-05T15:43:43.557354Z",
     "iopub.status.busy": "2025-08-05T15:43:43.556728Z",
     "iopub.status.idle": "2025-08-05T15:43:43.565823Z",
     "shell.execute_reply": "2025-08-05T15:43:43.565012Z"
    },
    "papermill": {
     "duration": 0.022062,
     "end_time": "2025-08-05T15:43:43.567079",
     "exception": false,
     "start_time": "2025-08-05T15:43:43.545017",
     "status": "completed"
    },
    "tags": []
   },
   "outputs": [],
   "source": [
    "subgroups = ['frau1','nongerman','nongerman_male','nongerman_female']\n",
    "\n",
    "# Conditional coverage for subgroup==1\n",
    "cond_coverage = {\n",
    "    g: cp_groups_df.loc[cp_groups_df[g]==1, 'covered'].mean()\n",
    "    for g in subgroups\n",
    "}"
   ]
  },
  {
   "cell_type": "code",
   "execution_count": 56,
   "id": "1e348fb1-b9c3-45bc-ba23-f016827a7e0d",
   "metadata": {
    "execution": {
     "iopub.execute_input": "2025-08-05T15:43:43.590930Z",
     "iopub.status.busy": "2025-08-05T15:43:43.590414Z",
     "iopub.status.idle": "2025-08-05T15:43:43.596703Z",
     "shell.execute_reply": "2025-08-05T15:43:43.595863Z"
    },
    "papermill": {
     "duration": 0.019454,
     "end_time": "2025-08-05T15:43:43.598197",
     "exception": false,
     "start_time": "2025-08-05T15:43:43.578743",
     "status": "completed"
    },
    "tags": []
   },
   "outputs": [
    {
     "data": {
      "text/plain": [
       "{'frau1': 0.9104731095835018,\n",
       " 'nongerman': 0.9069780497389547,\n",
       " 'nongerman_male': 0.9237143114473566,\n",
       " 'nongerman_female': 0.879284649776453}"
      ]
     },
     "execution_count": 56,
     "metadata": {},
     "output_type": "execute_result"
    }
   ],
   "source": [
    "cond_coverage"
   ]
  },
  {
   "cell_type": "code",
   "execution_count": 57,
   "id": "f5093324-c3dd-4d63-bc4c-8d945e5c8bbb",
   "metadata": {
    "execution": {
     "iopub.execute_input": "2025-08-05T15:43:43.623085Z",
     "iopub.status.busy": "2025-08-05T15:43:43.622386Z",
     "iopub.status.idle": "2025-08-05T15:43:43.628503Z",
     "shell.execute_reply": "2025-08-05T15:43:43.627776Z"
    },
    "papermill": {
     "duration": 0.019718,
     "end_time": "2025-08-05T15:43:43.630040",
     "exception": false,
     "start_time": "2025-08-05T15:43:43.610322",
     "status": "completed"
    },
    "tags": []
   },
   "outputs": [],
   "source": [
    "for subgroup, cov in cond_coverage.items():\n",
    "    cp_metrics_df[f\"cov_{subgroup}\"] = cov"
   ]
  },
  {
   "cell_type": "code",
   "execution_count": 58,
   "id": "6e872e10-dbe5-49e8-b554-5030c98ff75d",
   "metadata": {
    "execution": {
     "iopub.execute_input": "2025-08-05T15:43:43.654896Z",
     "iopub.status.busy": "2025-08-05T15:43:43.654365Z",
     "iopub.status.idle": "2025-08-05T15:43:43.668580Z",
     "shell.execute_reply": "2025-08-05T15:43:43.667587Z"
    },
    "papermill": {
     "duration": 0.027792,
     "end_time": "2025-08-05T15:43:43.670134",
     "exception": false,
     "start_time": "2025-08-05T15:43:43.642342",
     "status": "completed"
    },
    "tags": []
   },
   "outputs": [
    {
     "data": {
      "text/html": [
       "<div>\n",
       "<style scoped>\n",
       "    .dataframe tbody tr th:only-of-type {\n",
       "        vertical-align: middle;\n",
       "    }\n",
       "\n",
       "    .dataframe tbody tr th {\n",
       "        vertical-align: top;\n",
       "    }\n",
       "\n",
       "    .dataframe thead th {\n",
       "        text-align: right;\n",
       "    }\n",
       "</style>\n",
       "<table border=\"1\" class=\"dataframe\">\n",
       "  <thead>\n",
       "    <tr style=\"text-align: right;\">\n",
       "      <th></th>\n",
       "      <th>universe_id</th>\n",
       "      <th>universe_training_year</th>\n",
       "      <th>universe_training_size</th>\n",
       "      <th>universe_scale</th>\n",
       "      <th>universe_model</th>\n",
       "      <th>universe_exclude_features</th>\n",
       "      <th>universe_exclude_subgroups</th>\n",
       "      <th>q_hat</th>\n",
       "      <th>coverage</th>\n",
       "      <th>avg_size</th>\n",
       "      <th>cov_frau1</th>\n",
       "      <th>cov_nongerman</th>\n",
       "      <th>cov_nongerman_male</th>\n",
       "      <th>cov_nongerman_female</th>\n",
       "    </tr>\n",
       "  </thead>\n",
       "  <tbody>\n",
       "    <tr>\n",
       "      <th>0</th>\n",
       "      <td>edb76051bb4ddf96b5738d4668ed83c4</td>\n",
       "      <td>2012_14</td>\n",
       "      <td>5k</td>\n",
       "      <td>do-not-scale</td>\n",
       "      <td>rf</td>\n",
       "      <td>nationality</td>\n",
       "      <td>keep-all</td>\n",
       "      <td>0.68</td>\n",
       "      <td>0.915238</td>\n",
       "      <td>1.14849</td>\n",
       "      <td>0.910473</td>\n",
       "      <td>0.906978</td>\n",
       "      <td>0.923714</td>\n",
       "      <td>0.879285</td>\n",
       "    </tr>\n",
       "  </tbody>\n",
       "</table>\n",
       "</div>"
      ],
      "text/plain": [
       "                        universe_id universe_training_year  \\\n",
       "0  edb76051bb4ddf96b5738d4668ed83c4                2012_14   \n",
       "\n",
       "  universe_training_size universe_scale universe_model  \\\n",
       "0                     5k   do-not-scale             rf   \n",
       "\n",
       "  universe_exclude_features universe_exclude_subgroups  q_hat  coverage  \\\n",
       "0               nationality                   keep-all   0.68  0.915238   \n",
       "\n",
       "   avg_size  cov_frau1  cov_nongerman  cov_nongerman_male  \\\n",
       "0   1.14849   0.910473       0.906978            0.923714   \n",
       "\n",
       "   cov_nongerman_female  \n",
       "0              0.879285  "
      ]
     },
     "execution_count": 58,
     "metadata": {},
     "output_type": "execute_result"
    }
   ],
   "source": [
    "cp_metrics_df"
   ]
  },
  {
   "cell_type": "markdown",
   "id": "33774451",
   "metadata": {
    "papermill": {
     "duration": 0.011303,
     "end_time": "2025-08-05T15:43:43.693570",
     "exception": false,
     "start_time": "2025-08-05T15:43:43.682267",
     "status": "completed"
    },
    "tags": []
   },
   "source": [
    "# (Fairness) Metrics"
   ]
  },
  {
   "cell_type": "code",
   "execution_count": 59,
   "id": "debc5d62",
   "metadata": {
    "execution": {
     "iopub.execute_input": "2025-08-05T15:43:43.718008Z",
     "iopub.status.busy": "2025-08-05T15:43:43.717112Z",
     "iopub.status.idle": "2025-08-05T15:43:43.731611Z",
     "shell.execute_reply": "2025-08-05T15:43:43.730898Z"
    },
    "papermill": {
     "duration": 0.027924,
     "end_time": "2025-08-05T15:43:43.732960",
     "exception": false,
     "start_time": "2025-08-05T15:43:43.705036",
     "status": "completed"
    },
    "tags": []
   },
   "outputs": [],
   "source": [
    "# do I need to include maxdeutsch1.missing?\n",
    "\n",
    "import numpy as np\n",
    "\n",
    "colname_to_bin = \"maxdeutsch1\"\n",
    "majority_value = org_train[colname_to_bin].mode()[0]\n",
    "\n",
    "org_test[\"majmin\"] = np.where(org_test[colname_to_bin] == majority_value, \"majority\", \"minority\")"
   ]
  },
  {
   "cell_type": "code",
   "execution_count": 60,
   "id": "06a50de5",
   "metadata": {
    "execution": {
     "iopub.execute_input": "2025-08-05T15:43:43.757630Z",
     "iopub.status.busy": "2025-08-05T15:43:43.757111Z",
     "iopub.status.idle": "2025-08-05T15:43:45.156847Z",
     "shell.execute_reply": "2025-08-05T15:43:45.156065Z"
    },
    "papermill": {
     "duration": 1.41338,
     "end_time": "2025-08-05T15:43:45.158314",
     "exception": false,
     "start_time": "2025-08-05T15:43:43.744934",
     "status": "completed"
    },
    "tags": []
   },
   "outputs": [],
   "source": [
    "example_universe = universe.copy()\n",
    "example_universe[\"cutoff\"] = example_universe[\"cutoff\"][0]\n",
    "example_universe[\"eval_fairness_grouping\"] = example_universe[\"eval_fairness_grouping\"][0]\n",
    "fairness_dict, metric_frame = universe_analysis.compute_metrics(\n",
    "    example_universe,\n",
    "    y_pred_prob=probs_test,\n",
    "    y_test=y_true,\n",
    "    org_test=org_test,\n",
    ")"
   ]
  },
  {
   "cell_type": "markdown",
   "id": "f95d4e02",
   "metadata": {
    "papermill": {
     "duration": 0.011235,
     "end_time": "2025-08-05T15:43:45.181709",
     "exception": false,
     "start_time": "2025-08-05T15:43:45.170474",
     "status": "completed"
    },
    "tags": []
   },
   "source": [
    "# Overall"
   ]
  },
  {
   "cell_type": "markdown",
   "id": "bdee4871",
   "metadata": {
    "papermill": {
     "duration": 0.011358,
     "end_time": "2025-08-05T15:43:45.204240",
     "exception": false,
     "start_time": "2025-08-05T15:43:45.192882",
     "status": "completed"
    },
    "tags": []
   },
   "source": [
    "Fairness\n",
    "Main fairness target: Equalized Odds. Seems to be a better fit than equal opportunity, since we're not only interested in Y = 1. Seems to be a better fit than demographic parity, since we also care about accuracy, not just equal distribution of preds.\n",
    "\n",
    "Pick column for computation of fairness metrics\n",
    "\n",
    "Performance\n",
    "Overall performance measures, most interesting in relation to the measures split by group below"
   ]
  },
  {
   "cell_type": "code",
   "execution_count": 61,
   "id": "c4e067c6",
   "metadata": {
    "execution": {
     "iopub.execute_input": "2025-08-05T15:43:45.228284Z",
     "iopub.status.busy": "2025-08-05T15:43:45.227943Z",
     "iopub.status.idle": "2025-08-05T15:43:45.235086Z",
     "shell.execute_reply": "2025-08-05T15:43:45.234289Z"
    },
    "papermill": {
     "duration": 0.020819,
     "end_time": "2025-08-05T15:43:45.236560",
     "exception": false,
     "start_time": "2025-08-05T15:43:45.215741",
     "status": "completed"
    },
    "tags": []
   },
   "outputs": [
    {
     "data": {
      "text/plain": [
       "accuracy                   0.199186\n",
       "balanced accuracy          0.533185\n",
       "f1                         0.239399\n",
       "precision                  0.136307\n",
       "false positive rate        0.916076\n",
       "false negative rate        0.017553\n",
       "selection rate             0.924590\n",
       "count                  89710.000000\n",
       "dtype: float64"
      ]
     },
     "execution_count": 61,
     "metadata": {},
     "output_type": "execute_result"
    }
   ],
   "source": [
    "metric_frame.overall"
   ]
  },
  {
   "cell_type": "markdown",
   "id": "e968fe9d",
   "metadata": {
    "papermill": {
     "duration": 0.011368,
     "end_time": "2025-08-05T15:43:45.260409",
     "exception": false,
     "start_time": "2025-08-05T15:43:45.249041",
     "status": "completed"
    },
    "tags": []
   },
   "source": [
    "By Group"
   ]
  },
  {
   "cell_type": "code",
   "execution_count": 62,
   "id": "ec325bce",
   "metadata": {
    "execution": {
     "iopub.execute_input": "2025-08-05T15:43:45.284668Z",
     "iopub.status.busy": "2025-08-05T15:43:45.284177Z",
     "iopub.status.idle": "2025-08-05T15:43:45.297493Z",
     "shell.execute_reply": "2025-08-05T15:43:45.296657Z"
    },
    "papermill": {
     "duration": 0.027238,
     "end_time": "2025-08-05T15:43:45.299112",
     "exception": false,
     "start_time": "2025-08-05T15:43:45.271874",
     "status": "completed"
    },
    "tags": []
   },
   "outputs": [
    {
     "data": {
      "text/html": [
       "<div>\n",
       "<style scoped>\n",
       "    .dataframe tbody tr th:only-of-type {\n",
       "        vertical-align: middle;\n",
       "    }\n",
       "\n",
       "    .dataframe tbody tr th {\n",
       "        vertical-align: top;\n",
       "    }\n",
       "\n",
       "    .dataframe thead th {\n",
       "        text-align: right;\n",
       "    }\n",
       "</style>\n",
       "<table border=\"1\" class=\"dataframe\">\n",
       "  <thead>\n",
       "    <tr style=\"text-align: right;\">\n",
       "      <th></th>\n",
       "      <th>accuracy</th>\n",
       "      <th>balanced accuracy</th>\n",
       "      <th>f1</th>\n",
       "      <th>precision</th>\n",
       "      <th>false positive rate</th>\n",
       "      <th>false negative rate</th>\n",
       "      <th>selection rate</th>\n",
       "      <th>count</th>\n",
       "    </tr>\n",
       "    <tr>\n",
       "      <th>majmin</th>\n",
       "      <th></th>\n",
       "      <th></th>\n",
       "      <th></th>\n",
       "      <th></th>\n",
       "      <th></th>\n",
       "      <th></th>\n",
       "      <th></th>\n",
       "      <th></th>\n",
       "    </tr>\n",
       "  </thead>\n",
       "  <tbody>\n",
       "    <tr>\n",
       "      <th>majority</th>\n",
       "      <td>0.199798</td>\n",
       "      <td>0.534946</td>\n",
       "      <td>0.246488</td>\n",
       "      <td>0.140758</td>\n",
       "      <td>0.920590</td>\n",
       "      <td>0.009519</td>\n",
       "      <td>0.929825</td>\n",
       "      <td>69170.0</td>\n",
       "    </tr>\n",
       "    <tr>\n",
       "      <th>minority</th>\n",
       "      <td>0.197128</td>\n",
       "      <td>0.525135</td>\n",
       "      <td>0.214602</td>\n",
       "      <td>0.120940</td>\n",
       "      <td>0.901167</td>\n",
       "      <td>0.048564</td>\n",
       "      <td>0.906962</td>\n",
       "      <td>20540.0</td>\n",
       "    </tr>\n",
       "  </tbody>\n",
       "</table>\n",
       "</div>"
      ],
      "text/plain": [
       "          accuracy  balanced accuracy        f1  precision  \\\n",
       "majmin                                                       \n",
       "majority  0.199798           0.534946  0.246488   0.140758   \n",
       "minority  0.197128           0.525135  0.214602   0.120940   \n",
       "\n",
       "          false positive rate  false negative rate  selection rate    count  \n",
       "majmin                                                                       \n",
       "majority             0.920590             0.009519        0.929825  69170.0  \n",
       "minority             0.901167             0.048564        0.906962  20540.0  "
      ]
     },
     "execution_count": 62,
     "metadata": {},
     "output_type": "execute_result"
    }
   ],
   "source": [
    "metric_frame.by_group"
   ]
  },
  {
   "cell_type": "code",
   "execution_count": 63,
   "id": "a9ddbe63",
   "metadata": {
    "execution": {
     "iopub.execute_input": "2025-08-05T15:43:45.324365Z",
     "iopub.status.busy": "2025-08-05T15:43:45.324014Z",
     "iopub.status.idle": "2025-08-05T15:43:46.934351Z",
     "shell.execute_reply": "2025-08-05T15:43:46.933590Z"
    },
    "papermill": {
     "duration": 1.623984,
     "end_time": "2025-08-05T15:43:46.935681",
     "exception": false,
     "start_time": "2025-08-05T15:43:45.311697",
     "status": "completed"
    },
    "tags": []
   },
   "outputs": [
    {
     "data": {
      "text/plain": [
       "array([[<Axes: title={'center': 'accuracy'}, xlabel='majmin'>,\n",
       "        <Axes: title={'center': 'balanced accuracy'}, xlabel='majmin'>,\n",
       "        <Axes: title={'center': 'f1'}, xlabel='majmin'>],\n",
       "       [<Axes: title={'center': 'precision'}, xlabel='majmin'>,\n",
       "        <Axes: title={'center': 'false positive rate'}, xlabel='majmin'>,\n",
       "        <Axes: title={'center': 'false negative rate'}, xlabel='majmin'>],\n",
       "       [<Axes: title={'center': 'selection rate'}, xlabel='majmin'>,\n",
       "        <Axes: title={'center': 'count'}, xlabel='majmin'>,\n",
       "        <Axes: xlabel='majmin'>]], dtype=object)"
      ]
     },
     "execution_count": 63,
     "metadata": {},
     "output_type": "execute_result"
    },
    {
     "data": {
      "image/png": "[encoded data removed]",
      "text/plain": [
       "<Figure size 1200x800 with 9 Axes>"
      ]
     },
     "metadata": {},
     "output_type": "display_data"
    }
   ],
   "source": [
    "# In a graphic\n",
    "metric_frame.by_group.plot.bar(\n",
    "    subplots=True,\n",
    "    layout=[3, 3],\n",
    "    legend=False,\n",
    "    figsize=[12, 8],\n",
    "    title=\"Show all metrics\",\n",
    ")"
   ]
  },
  {
   "cell_type": "markdown",
   "id": "f57a0bac",
   "metadata": {
    "papermill": {
     "duration": 0.012528,
     "end_time": "2025-08-05T15:43:46.964113",
     "exception": false,
     "start_time": "2025-08-05T15:43:46.951585",
     "status": "completed"
    },
    "tags": []
   },
   "source": [
    "# Final Output"
   ]
  },
  {
   "cell_type": "code",
   "execution_count": 64,
   "id": "96d280a3",
   "metadata": {
    "execution": {
     "iopub.execute_input": "2025-08-05T15:43:46.990556Z",
     "iopub.status.busy": "2025-08-05T15:43:46.990086Z",
     "iopub.status.idle": "2025-08-05T15:43:46.997007Z",
     "shell.execute_reply": "2025-08-05T15:43:46.996201Z"
    },
    "papermill": {
     "duration": 0.021843,
     "end_time": "2025-08-05T15:43:46.998557",
     "exception": false,
     "start_time": "2025-08-05T15:43:46.976714",
     "status": "completed"
    },
    "tags": []
   },
   "outputs": [
    {
     "data": {
      "text/plain": [
       "4"
      ]
     },
     "execution_count": 64,
     "metadata": {},
     "output_type": "execute_result"
    }
   ],
   "source": [
    "sub_universes = universe_analysis.generate_sub_universes()\n",
    "len(sub_universes)"
   ]
  },
  {
   "cell_type": "code",
   "execution_count": 65,
   "id": "92adf7ba",
   "metadata": {
    "execution": {
     "iopub.execute_input": "2025-08-05T15:43:47.025971Z",
     "iopub.status.busy": "2025-08-05T15:43:47.025286Z",
     "iopub.status.idle": "2025-08-05T15:43:47.054513Z",
     "shell.execute_reply": "2025-08-05T15:43:47.053602Z"
    },
    "papermill": {
     "duration": 0.044626,
     "end_time": "2025-08-05T15:43:47.056040",
     "exception": false,
     "start_time": "2025-08-05T15:43:47.011414",
     "status": "completed"
    },
    "tags": []
   },
   "outputs": [],
   "source": [
    "def filter_sub_universe_data(sub_universe, org_test):\n",
    "    # Keep all rows — no filtering\n",
    "    keep_rows_mask = np.ones(org_test.shape[0], dtype=bool)\n",
    "\n",
    "    print(f\"[INFO] Keeping all rows: {keep_rows_mask.sum()} rows retained.\")\n",
    "    return keep_rows_mask"
   ]
  },
  {
   "cell_type": "code",
   "execution_count": 66,
   "id": "4a759155",
   "metadata": {
    "execution": {
     "iopub.execute_input": "2025-08-05T15:43:47.084065Z",
     "iopub.status.busy": "2025-08-05T15:43:47.083767Z",
     "iopub.status.idle": "2025-08-05T15:43:53.739737Z",
     "shell.execute_reply": "2025-08-05T15:43:53.738588Z"
    },
    "papermill": {
     "duration": 6.671114,
     "end_time": "2025-08-05T15:43:53.741417",
     "exception": false,
     "start_time": "2025-08-05T15:43:47.070303",
     "status": "completed"
    },
    "tags": []
   },
   "outputs": [
    {
     "name": "stdout",
     "output_type": "stream",
     "text": [
      "Stopping execution_time clock.\n",
      "[INFO] Keeping all rows: 89710 rows retained.\n"
     ]
    },
    {
     "name": "stdout",
     "output_type": "stream",
     "text": [
      "[INFO] Keeping all rows: 89710 rows retained.\n"
     ]
    },
    {
     "name": "stdout",
     "output_type": "stream",
     "text": [
      "[INFO] Keeping all rows: 89710 rows retained.\n"
     ]
    },
    {
     "name": "stdout",
     "output_type": "stream",
     "text": [
      "[INFO] Keeping all rows: 89710 rows retained.\n"
     ]
    },
    {
     "data": {
      "text/html": [
       "<div>\n",
       "<style scoped>\n",
       "    .dataframe tbody tr th:only-of-type {\n",
       "        vertical-align: middle;\n",
       "    }\n",
       "\n",
       "    .dataframe tbody tr th {\n",
       "        vertical-align: top;\n",
       "    }\n",
       "\n",
       "    .dataframe thead th {\n",
       "        text-align: right;\n",
       "    }\n",
       "</style>\n",
       "<table border=\"1\" class=\"dataframe\">\n",
       "  <thead>\n",
       "    <tr style=\"text-align: right;\">\n",
       "      <th></th>\n",
       "      <th>run_no</th>\n",
       "      <th>universe_id</th>\n",
       "      <th>universe_settings</th>\n",
       "      <th>execution_time</th>\n",
       "      <th>test_size_n</th>\n",
       "      <th>test_size_frac</th>\n",
       "      <th>fair_main_equalized_odds_difference</th>\n",
       "      <th>fair_main_equalized_odds_ratio</th>\n",
       "      <th>fair_main_demographic_parity_difference</th>\n",
       "      <th>fair_main_demographic_parity_ratio</th>\n",
       "      <th>...</th>\n",
       "      <th>perf_grp_precision_0</th>\n",
       "      <th>perf_grp_precision_1</th>\n",
       "      <th>perf_grp_false positive rate_0</th>\n",
       "      <th>perf_grp_false positive rate_1</th>\n",
       "      <th>perf_grp_false negative rate_0</th>\n",
       "      <th>perf_grp_false negative rate_1</th>\n",
       "      <th>perf_grp_selection rate_0</th>\n",
       "      <th>perf_grp_selection rate_1</th>\n",
       "      <th>perf_grp_count_0</th>\n",
       "      <th>perf_grp_count_1</th>\n",
       "    </tr>\n",
       "  </thead>\n",
       "  <tbody>\n",
       "    <tr>\n",
       "      <th>0</th>\n",
       "      <td>15</td>\n",
       "      <td>edb76051bb4ddf96b5738d4668ed83c4</td>\n",
       "      <td>{\"cutoff\": \"quantile_0.1\", \"eval_fairness_grou...</td>\n",
       "      <td>31.450616</td>\n",
       "      <td>89710</td>\n",
       "      <td>1.0</td>\n",
       "      <td>0.039046</td>\n",
       "      <td>0.960579</td>\n",
       "      <td>0.022863</td>\n",
       "      <td>0.975411</td>\n",
       "      <td>...</td>\n",
       "      <td>NaN</td>\n",
       "      <td>NaN</td>\n",
       "      <td>NaN</td>\n",
       "      <td>NaN</td>\n",
       "      <td>NaN</td>\n",
       "      <td>NaN</td>\n",
       "      <td>NaN</td>\n",
       "      <td>NaN</td>\n",
       "      <td>NaN</td>\n",
       "      <td>NaN</td>\n",
       "    </tr>\n",
       "    <tr>\n",
       "      <th>0</th>\n",
       "      <td>15</td>\n",
       "      <td>edb76051bb4ddf96b5738d4668ed83c4</td>\n",
       "      <td>{\"cutoff\": \"quantile_0.1\", \"eval_fairness_grou...</td>\n",
       "      <td>31.450616</td>\n",
       "      <td>89710</td>\n",
       "      <td>1.0</td>\n",
       "      <td>0.039046</td>\n",
       "      <td>0.960579</td>\n",
       "      <td>0.022863</td>\n",
       "      <td>0.975411</td>\n",
       "      <td>...</td>\n",
       "      <td>0.120940</td>\n",
       "      <td>0.140758</td>\n",
       "      <td>0.901167</td>\n",
       "      <td>0.920590</td>\n",
       "      <td>0.048564</td>\n",
       "      <td>0.009519</td>\n",
       "      <td>0.906962</td>\n",
       "      <td>0.929825</td>\n",
       "      <td>20540.0</td>\n",
       "      <td>69170.0</td>\n",
       "    </tr>\n",
       "    <tr>\n",
       "      <th>0</th>\n",
       "      <td>15</td>\n",
       "      <td>edb76051bb4ddf96b5738d4668ed83c4</td>\n",
       "      <td>{\"cutoff\": \"quantile_0.25\", \"eval_fairness_gro...</td>\n",
       "      <td>31.450616</td>\n",
       "      <td>89710</td>\n",
       "      <td>1.0</td>\n",
       "      <td>0.089251</td>\n",
       "      <td>0.905748</td>\n",
       "      <td>0.050038</td>\n",
       "      <td>0.935073</td>\n",
       "      <td>...</td>\n",
       "      <td>NaN</td>\n",
       "      <td>NaN</td>\n",
       "      <td>NaN</td>\n",
       "      <td>NaN</td>\n",
       "      <td>NaN</td>\n",
       "      <td>NaN</td>\n",
       "      <td>NaN</td>\n",
       "      <td>NaN</td>\n",
       "      <td>NaN</td>\n",
       "      <td>NaN</td>\n",
       "    </tr>\n",
       "    <tr>\n",
       "      <th>0</th>\n",
       "      <td>15</td>\n",
       "      <td>edb76051bb4ddf96b5738d4668ed83c4</td>\n",
       "      <td>{\"cutoff\": \"quantile_0.25\", \"eval_fairness_gro...</td>\n",
       "      <td>31.450616</td>\n",
       "      <td>89710</td>\n",
       "      <td>1.0</td>\n",
       "      <td>0.089251</td>\n",
       "      <td>0.905748</td>\n",
       "      <td>0.050038</td>\n",
       "      <td>0.935073</td>\n",
       "      <td>...</td>\n",
       "      <td>0.137211</td>\n",
       "      <td>0.162358</td>\n",
       "      <td>0.702785</td>\n",
       "      <td>0.743845</td>\n",
       "      <td>0.142314</td>\n",
       "      <td>0.053063</td>\n",
       "      <td>0.720643</td>\n",
       "      <td>0.770681</td>\n",
       "      <td>20540.0</td>\n",
       "      <td>69170.0</td>\n",
       "    </tr>\n",
       "  </tbody>\n",
       "</table>\n",
       "<p>4 rows × 50 columns</p>\n",
       "</div>"
      ],
      "text/plain": [
       "  run_no                       universe_id  \\\n",
       "0     15  edb76051bb4ddf96b5738d4668ed83c4   \n",
       "0     15  edb76051bb4ddf96b5738d4668ed83c4   \n",
       "0     15  edb76051bb4ddf96b5738d4668ed83c4   \n",
       "0     15  edb76051bb4ddf96b5738d4668ed83c4   \n",
       "\n",
       "                                   universe_settings  execution_time  \\\n",
       "0  {\"cutoff\": \"quantile_0.1\", \"eval_fairness_grou...       31.450616   \n",
       "0  {\"cutoff\": \"quantile_0.1\", \"eval_fairness_grou...       31.450616   \n",
       "0  {\"cutoff\": \"quantile_0.25\", \"eval_fairness_gro...       31.450616   \n",
       "0  {\"cutoff\": \"quantile_0.25\", \"eval_fairness_gro...       31.450616   \n",
       "\n",
       "   test_size_n  test_size_frac  fair_main_equalized_odds_difference  \\\n",
       "0        89710             1.0                             0.039046   \n",
       "0        89710             1.0                             0.039046   \n",
       "0        89710             1.0                             0.089251   \n",
       "0        89710             1.0                             0.089251   \n",
       "\n",
       "   fair_main_equalized_odds_ratio  fair_main_demographic_parity_difference  \\\n",
       "0                        0.960579                                 0.022863   \n",
       "0                        0.960579                                 0.022863   \n",
       "0                        0.905748                                 0.050038   \n",
       "0                        0.905748                                 0.050038   \n",
       "\n",
       "   fair_main_demographic_parity_ratio  ...  perf_grp_precision_0  \\\n",
       "0                            0.975411  ...                   NaN   \n",
       "0                            0.975411  ...              0.120940   \n",
       "0                            0.935073  ...                   NaN   \n",
       "0                            0.935073  ...              0.137211   \n",
       "\n",
       "   perf_grp_precision_1  perf_grp_false positive rate_0  \\\n",
       "0                   NaN                             NaN   \n",
       "0              0.140758                        0.901167   \n",
       "0                   NaN                             NaN   \n",
       "0              0.162358                        0.702785   \n",
       "\n",
       "   perf_grp_false positive rate_1  perf_grp_false negative rate_0  \\\n",
       "0                             NaN                             NaN   \n",
       "0                        0.920590                        0.048564   \n",
       "0                             NaN                             NaN   \n",
       "0                        0.743845                        0.142314   \n",
       "\n",
       "   perf_grp_false negative rate_1  perf_grp_selection rate_0  \\\n",
       "0                             NaN                        NaN   \n",
       "0                        0.009519                   0.906962   \n",
       "0                             NaN                        NaN   \n",
       "0                        0.053063                   0.720643   \n",
       "\n",
       "   perf_grp_selection rate_1  perf_grp_count_0  perf_grp_count_1  \n",
       "0                        NaN               NaN               NaN  \n",
       "0                   0.929825           20540.0           69170.0  \n",
       "0                        NaN               NaN               NaN  \n",
       "0                   0.770681           20540.0           69170.0  \n",
       "\n",
       "[4 rows x 50 columns]"
      ]
     },
     "execution_count": 66,
     "metadata": {},
     "output_type": "execute_result"
    }
   ],
   "source": [
    "final_output = universe_analysis.generate_final_output(\n",
    "    y_pred_prob=probs_test,\n",
    "    y_test=y_true,\n",
    "    org_test=org_test,\n",
    "    filter_data=filter_sub_universe_data,\n",
    "    cp_metrics_df=cp_metrics_df,\n",
    "    save=True,\n",
    ")\n",
    "final_output"
   ]
  }
 ],
 "metadata": {
  "celltoolbar": "Tags",
  "kernelspec": {
   "display_name": "Python (CMA Fairness)",
   "language": "python",
   "name": "cma_fair_env"
  },
  "language_info": {
   "codemirror_mode": {
    "name": "ipython",
    "version": 3
   },
   "file_extension": ".py",
   "mimetype": "text/x-python",
   "name": "python",
   "nbconvert_exporter": "python",
   "pygments_lexer": "ipython3",
   "version": "3.10.12"
  },
  "papermill": {
   "default_parameters": {},
   "duration": 42.457445,
   "end_time": "2025-08-05T15:43:54.591429",
   "environment_variables": {},
   "exception": null,
   "input_path": "universe_analysis.ipynb",
   "output_path": "output/runs/15/notebooks/m_15-edb76051bb4ddf96b5738d4668ed83c4.ipynb",
   "parameters": {
    "output_dir": "output",
    "run_no": "15",
    "seed": "2023",
    "universe": "{\"cutoff\": [\"quantile_0.1\", \"quantile_0.25\"], \"eval_fairness_grouping\": [\"majority-minority\", \"nationality-all\"], \"exclude_features\": \"nationality\", \"exclude_subgroups\": \"keep-all\", \"model\": \"rf\", \"scale\": \"do-not-scale\", \"training_size\": \"5k\", \"training_year\": \"2012_14\"}",
    "universe_id": "edb76051bb4ddf96b5738d4668ed83c4"
   },
   "start_time": "2025-08-05T15:43:12.133984",
   "version": "2.6.0"
  }
 },
 "nbformat": 4,
 "nbformat_minor": 5
}