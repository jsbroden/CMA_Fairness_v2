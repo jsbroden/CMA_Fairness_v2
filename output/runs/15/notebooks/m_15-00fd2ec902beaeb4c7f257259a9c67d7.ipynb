{
 "cells": [
  {
   "cell_type": "code",
   "execution_count": 1,
   "id": "f159f837-637b-42ba-96b5-ec9a68c44524",
   "metadata": {
    "execution": {
     "iopub.execute_input": "2025-08-05T15:43:06.366266Z",
     "iopub.status.busy": "2025-08-05T15:43:06.365563Z",
     "iopub.status.idle": "2025-08-05T15:43:06.378874Z",
     "shell.execute_reply": "2025-08-05T15:43:06.377720Z"
    },
    "papermill": {
     "duration": 0.032594,
     "end_time": "2025-08-05T15:43:06.380712",
     "exception": false,
     "start_time": "2025-08-05T15:43:06.348118",
     "status": "completed"
    },
    "tags": []
   },
   "outputs": [
    {
     "name": "stdout",
     "output_type": "stream",
     "text": [
      "/dss/dsshome1/0C/ra93lal2/cma/CMA_Fairness_v2\n"
     ]
    },
    {
     "name": "stderr",
     "output_type": "stream",
     "text": [
      "/dss/dsshome1/0C/ra93lal2/.local/share/virtualenvs/CMA_Fairness_v2-3j10GkSs/lib/python3.10/site-packages/IPython/core/magics/osm.py:393: UserWarning: This is now an optional IPython functionality, using bookmarks requires you to install the `pickleshare` library.\n",
      "  bkms = self.shell.db.get('bookmarks', {})\n",
      "/dss/dsshome1/0C/ra93lal2/.local/share/virtualenvs/CMA_Fairness_v2-3j10GkSs/lib/python3.10/site-packages/IPython/core/magics/osm.py:417: UserWarning: This is now an optional IPython functionality, setting dhist requires you to install the `pickleshare` library.\n",
      "  self.shell.db['dhist'] = compress_dhist(dhist)[-100:]\n"
     ]
    }
   ],
   "source": [
    "%cd ~/cma/CMA_Fairness_v2"
   ]
  },
  {
   "cell_type": "markdown",
   "id": "de2603b9",
   "metadata": {
    "papermill": {
     "duration": 0.016269,
     "end_time": "2025-08-05T15:43:06.414068",
     "exception": false,
     "start_time": "2025-08-05T15:43:06.397799",
     "status": "completed"
    },
    "tags": []
   },
   "source": [
    "The following cell holds the definition of our parameters, these values can be overriden by rendering the with e.g. the following command:\n",
    "\n",
    "papermill -p alpha 0.2 -p ratio 0.3 universe_analysis.ipynb output/test_run.ipynb"
   ]
  },
  {
   "cell_type": "code",
   "execution_count": 2,
   "id": "a80968a0-40bb-4fa9-85ef-2d5eefb01975",
   "metadata": {
    "execution": {
     "iopub.execute_input": "2025-08-05T15:43:06.446546Z",
     "iopub.status.busy": "2025-08-05T15:43:06.445672Z",
     "iopub.status.idle": "2025-08-05T15:43:06.451414Z",
     "shell.execute_reply": "2025-08-05T15:43:06.450466Z"
    },
    "papermill": {
     "duration": 0.023734,
     "end_time": "2025-08-05T15:43:06.453210",
     "exception": false,
     "start_time": "2025-08-05T15:43:06.429476",
     "status": "completed"
    },
    "tags": []
   },
   "outputs": [
    {
     "name": "stdout",
     "output_type": "stream",
     "text": [
      "Current working directory: /dss/dsshome1/0C/ra93lal2/cma/CMA_Fairness_v2\n"
     ]
    }
   ],
   "source": [
    "import os\n",
    "print(\"Current working directory:\", os.getcwd())"
   ]
  },
  {
   "cell_type": "code",
   "execution_count": 3,
   "id": "2dce4c03",
   "metadata": {
    "execution": {
     "iopub.execute_input": "2025-08-05T15:43:06.488415Z",
     "iopub.status.busy": "2025-08-05T15:43:06.487612Z",
     "iopub.status.idle": "2025-08-05T15:43:06.493786Z",
     "shell.execute_reply": "2025-08-05T15:43:06.492894Z"
    },
    "papermill": {
     "duration": 0.024811,
     "end_time": "2025-08-05T15:43:06.495514",
     "exception": false,
     "start_time": "2025-08-05T15:43:06.470703",
     "status": "completed"
    },
    "tags": [
     "parameters"
    ]
   },
   "outputs": [],
   "source": [
    "run_no = 0\n",
    "universe_id = \"test\"\n",
    "universe = {\n",
    "    \"training_size\": \"25k\", # \"25k\", \"5k\", \"1k\"\n",
    "    \"training_year\": \"2014\", # \"2014\", \"2012_14\", \"2010_14\"\n",
    "    \"scale\": \"scale\", # \"scale\", \"do-not-scale\",\n",
    "    \"model\": \"elasticnet\", # \"logreg\", \"penalized_logreg\", \"rf\", \"gbm\", \"elasticnet\"\n",
    "    \"cutoff\": [\"quantile_0.15\", \"quantile_0.30\"],\n",
    "    \"exclude_features\": \"age\", # \"none\", \"nationality\", \"sex\", \"nationality-sex\", \"age\"\n",
    "    \"exclude_subgroups\": \"keep-all\", # \"keep-all\", \"drop-non-german\"\n",
    "    \"eval_fairness_grouping\": [\"majority-minority\", \"nationality-all\"]\n",
    "}\n",
    "\n",
    "output_dir=\"./output\"\n",
    "seed=0"
   ]
  },
  {
   "cell_type": "code",
   "execution_count": 4,
   "id": "bfe923a2",
   "metadata": {
    "execution": {
     "iopub.execute_input": "2025-08-05T15:43:06.530483Z",
     "iopub.status.busy": "2025-08-05T15:43:06.529656Z",
     "iopub.status.idle": "2025-08-05T15:43:06.534857Z",
     "shell.execute_reply": "2025-08-05T15:43:06.533888Z"
    },
    "papermill": {
     "duration": 0.02481,
     "end_time": "2025-08-05T15:43:06.536585",
     "exception": false,
     "start_time": "2025-08-05T15:43:06.511775",
     "status": "completed"
    },
    "tags": [
     "injected-parameters"
    ]
   },
   "outputs": [],
   "source": [
    "# Parameters\n",
    "universe_id = \"00fd2ec902beaeb4c7f257259a9c67d7\"\n",
    "run_no = \"15\"\n",
    "universe = \"{\\\"cutoff\\\": [\\\"quantile_0.1\\\", \\\"quantile_0.25\\\"], \\\"eval_fairness_grouping\\\": [\\\"majority-minority\\\", \\\"nationality-all\\\"], \\\"exclude_features\\\": \\\"none\\\", \\\"exclude_subgroups\\\": \\\"keep-all\\\", \\\"model\\\": \\\"rf\\\", \\\"scale\\\": \\\"do-not-scale\\\", \\\"training_size\\\": \\\"5k\\\", \\\"training_year\\\": \\\"2012_14\\\"}\"\n",
    "output_dir = \"output\"\n",
    "seed = \"2023\"\n"
   ]
  },
  {
   "cell_type": "code",
   "execution_count": 5,
   "id": "1650acaf",
   "metadata": {
    "execution": {
     "iopub.execute_input": "2025-08-05T15:43:06.572257Z",
     "iopub.status.busy": "2025-08-05T15:43:06.571844Z",
     "iopub.status.idle": "2025-08-05T15:43:06.576953Z",
     "shell.execute_reply": "2025-08-05T15:43:06.575794Z"
    },
    "papermill": {
     "duration": 0.023611,
     "end_time": "2025-08-05T15:43:06.578905",
     "exception": false,
     "start_time": "2025-08-05T15:43:06.555294",
     "status": "completed"
    },
    "tags": []
   },
   "outputs": [],
   "source": [
    "import json\n",
    "if isinstance(universe, str):\n",
    "    universe = json.loads(universe)"
   ]
  },
  {
   "cell_type": "code",
   "execution_count": 6,
   "id": "16620c48",
   "metadata": {
    "execution": {
     "iopub.execute_input": "2025-08-05T15:43:06.614252Z",
     "iopub.status.busy": "2025-08-05T15:43:06.613674Z",
     "iopub.status.idle": "2025-08-05T15:43:06.658891Z",
     "shell.execute_reply": "2025-08-05T15:43:06.657911Z"
    },
    "papermill": {
     "duration": 0.064662,
     "end_time": "2025-08-05T15:43:06.660886",
     "exception": false,
     "start_time": "2025-08-05T15:43:06.596224",
     "status": "completed"
    },
    "tags": []
   },
   "outputs": [],
   "source": [
    "# Auto-reload the custom package\n",
    "%load_ext autoreload\n",
    "%autoreload 1\n",
    "%aimport fairness_multiverse"
   ]
  },
  {
   "cell_type": "code",
   "execution_count": 7,
   "id": "01c5c9f3",
   "metadata": {
    "execution": {
     "iopub.execute_input": "2025-08-05T15:43:06.711736Z",
     "iopub.status.busy": "2025-08-05T15:43:06.710980Z",
     "iopub.status.idle": "2025-08-05T15:43:08.636185Z",
     "shell.execute_reply": "2025-08-05T15:43:08.635142Z"
    },
    "papermill": {
     "duration": 1.953947,
     "end_time": "2025-08-05T15:43:08.638122",
     "exception": false,
     "start_time": "2025-08-05T15:43:06.684175",
     "status": "completed"
    },
    "tags": []
   },
   "outputs": [],
   "source": [
    "from fairness_multiverse.universe import UniverseAnalysis\n",
    "\n",
    "universe_analysis = UniverseAnalysis(\n",
    "    run_no = run_no,\n",
    "    universe_id = universe_id,\n",
    "    universe = universe,\n",
    "    output_dir=output_dir,\n",
    ")"
   ]
  },
  {
   "cell_type": "code",
   "execution_count": 8,
   "id": "106241f5",
   "metadata": {
    "execution": {
     "iopub.execute_input": "2025-08-05T15:43:08.675567Z",
     "iopub.status.busy": "2025-08-05T15:43:08.674865Z",
     "iopub.status.idle": "2025-08-05T15:43:08.681207Z",
     "shell.execute_reply": "2025-08-05T15:43:08.680028Z"
    },
    "papermill": {
     "duration": 0.026433,
     "end_time": "2025-08-05T15:43:08.683217",
     "exception": false,
     "start_time": "2025-08-05T15:43:08.656784",
     "status": "completed"
    },
    "tags": []
   },
   "outputs": [
    {
     "name": "stdout",
     "output_type": "stream",
     "text": [
      "Using Seed: 2023\n"
     ]
    }
   ],
   "source": [
    "import numpy as np\n",
    "parsed_seed = int(seed)\n",
    "np.random.seed(parsed_seed)\n",
    "print(f\"Using Seed: {parsed_seed}\")"
   ]
  },
  {
   "cell_type": "markdown",
   "id": "e0ebdc57",
   "metadata": {
    "papermill": {
     "duration": 0.019412,
     "end_time": "2025-08-05T15:43:08.721123",
     "exception": false,
     "start_time": "2025-08-05T15:43:08.701711",
     "status": "completed"
    },
    "tags": []
   },
   "source": [
    "# Loading Data"
   ]
  },
  {
   "cell_type": "code",
   "execution_count": 9,
   "id": "f0496b8a",
   "metadata": {
    "execution": {
     "iopub.execute_input": "2025-08-05T15:43:08.763894Z",
     "iopub.status.busy": "2025-08-05T15:43:08.763207Z",
     "iopub.status.idle": "2025-08-05T15:43:20.614366Z",
     "shell.execute_reply": "2025-08-05T15:43:20.613107Z"
    },
    "papermill": {
     "duration": 11.874105,
     "end_time": "2025-08-05T15:43:20.615969",
     "exception": false,
     "start_time": "2025-08-05T15:43:08.741864",
     "status": "completed"
    },
    "tags": []
   },
   "outputs": [
    {
     "name": "stdout",
     "output_type": "stream",
     "text": [
      "Loading SIAB data from cache: data/siab_cached.csv.gz\n"
     ]
    },
    {
     "name": "stdout",
     "output_type": "stream",
     "text": [
      "(643690, 164)\n"
     ]
    }
   ],
   "source": [
    "from pathlib import Path\n",
    "import pandas as pd\n",
    "\n",
    "# File paths\n",
    "raw_file = Path(\"data/raw/siab.csv\")\n",
    "cache_file = Path(\"data/siab_cached.csv.gz\")\n",
    "\n",
    "# Ensure cache directory exists\n",
    "cache_file.parent.mkdir(parents=True, exist_ok=True)\n",
    "\n",
    "# Load with simple caching\n",
    "if cache_file.exists():\n",
    "    print(f\"Loading SIAB data from cache: {cache_file}\")\n",
    "    siab = pd.read_csv(cache_file, compression='gzip')\n",
    "else:\n",
    "    print(f\"Cache not found. Reading raw SIAB data: {raw_file}\")\n",
    "    siab = pd.read_csv(raw_file)\n",
    "    siab.to_csv(cache_file, index=False, compression='gzip')\n",
    "    print(f\"Cached SIAB data to: {cache_file}\")\n",
    "\n",
    "print(siab.shape)"
   ]
  },
  {
   "cell_type": "code",
   "execution_count": 10,
   "id": "db0ca512-5f53-4dba-abdb-a2888bca41ba",
   "metadata": {
    "execution": {
     "iopub.execute_input": "2025-08-05T15:43:20.651756Z",
     "iopub.status.busy": "2025-08-05T15:43:20.651260Z",
     "iopub.status.idle": "2025-08-05T15:43:20.656702Z",
     "shell.execute_reply": "2025-08-05T15:43:20.655580Z"
    },
    "papermill": {
     "duration": 0.024152,
     "end_time": "2025-08-05T15:43:20.658550",
     "exception": false,
     "start_time": "2025-08-05T15:43:20.634398",
     "status": "completed"
    },
    "tags": []
   },
   "outputs": [],
   "source": [
    "#siab"
   ]
  },
  {
   "cell_type": "markdown",
   "id": "997051c5-15bd-4b69-9786-c3001a3ce484",
   "metadata": {
    "papermill": {
     "duration": 0.015625,
     "end_time": "2025-08-05T15:43:20.690557",
     "exception": false,
     "start_time": "2025-08-05T15:43:20.674932",
     "status": "completed"
    },
    "tags": []
   },
   "source": [
    "# Splitting Data and Setting Training Data Size"
   ]
  },
  {
   "cell_type": "code",
   "execution_count": 11,
   "id": "aea9c6ef-6f46-42c8-85eb-5a62025c1508",
   "metadata": {
    "execution": {
     "iopub.execute_input": "2025-08-05T15:43:20.723850Z",
     "iopub.status.busy": "2025-08-05T15:43:20.723416Z",
     "iopub.status.idle": "2025-08-05T15:43:21.373388Z",
     "shell.execute_reply": "2025-08-05T15:43:21.372218Z"
    },
    "papermill": {
     "duration": 0.668995,
     "end_time": "2025-08-05T15:43:21.375405",
     "exception": false,
     "start_time": "2025-08-05T15:43:20.706410",
     "status": "completed"
    },
    "tags": []
   },
   "outputs": [],
   "source": [
    "from fairness_multiverse.universe import sample_by_year_size\n",
    "\n",
    "siab_train = sample_by_year_size(siab,\n",
    "                               training_year=universe[\"training_year\"],\n",
    "                               training_size=universe[\"training_size\"])"
   ]
  },
  {
   "cell_type": "code",
   "execution_count": 12,
   "id": "8d3afb32-789d-442c-8d5d-9f5aa8dd2eed",
   "metadata": {
    "execution": {
     "iopub.execute_input": "2025-08-05T15:43:21.412828Z",
     "iopub.status.busy": "2025-08-05T15:43:21.412468Z",
     "iopub.status.idle": "2025-08-05T15:43:21.424109Z",
     "shell.execute_reply": "2025-08-05T15:43:21.423333Z"
    },
    "papermill": {
     "duration": 0.029771,
     "end_time": "2025-08-05T15:43:21.425508",
     "exception": false,
     "start_time": "2025-08-05T15:43:21.395737",
     "status": "completed"
    },
    "tags": []
   },
   "outputs": [],
   "source": [
    "#siab_train.shape"
   ]
  },
  {
   "cell_type": "code",
   "execution_count": 13,
   "id": "d582db68-1a4c-47fb-84fc-08518dc1975a",
   "metadata": {
    "execution": {
     "iopub.execute_input": "2025-08-05T15:43:21.445553Z",
     "iopub.status.busy": "2025-08-05T15:43:21.445185Z",
     "iopub.status.idle": "2025-08-05T15:43:21.449372Z",
     "shell.execute_reply": "2025-08-05T15:43:21.448529Z"
    },
    "papermill": {
     "duration": 0.015792,
     "end_time": "2025-08-05T15:43:21.450937",
     "exception": false,
     "start_time": "2025-08-05T15:43:21.435145",
     "status": "completed"
    },
    "tags": []
   },
   "outputs": [],
   "source": [
    "#display(siab_train.groupby(\"year\").size())"
   ]
  },
  {
   "cell_type": "code",
   "execution_count": 14,
   "id": "a561edb4-d032-42cb-8256-22eac1111c64",
   "metadata": {
    "execution": {
     "iopub.execute_input": "2025-08-05T15:43:21.472062Z",
     "iopub.status.busy": "2025-08-05T15:43:21.471312Z",
     "iopub.status.idle": "2025-08-05T15:43:21.701097Z",
     "shell.execute_reply": "2025-08-05T15:43:21.700014Z"
    },
    "papermill": {
     "duration": 0.241858,
     "end_time": "2025-08-05T15:43:21.703134",
     "exception": false,
     "start_time": "2025-08-05T15:43:21.461276",
     "status": "completed"
    },
    "tags": []
   },
   "outputs": [],
   "source": [
    "#siab_train = siab_s[siab_s.year < 2015]\n",
    "siab_calib = siab[siab.year == 2015]\n",
    "siab_test = siab[siab.year == 2016]"
   ]
  },
  {
   "cell_type": "code",
   "execution_count": 15,
   "id": "472de16f-c3db-4916-846b-1f0de9cf1746",
   "metadata": {
    "execution": {
     "iopub.execute_input": "2025-08-05T15:43:21.732899Z",
     "iopub.status.busy": "2025-08-05T15:43:21.732256Z",
     "iopub.status.idle": "2025-08-05T15:43:21.740855Z",
     "shell.execute_reply": "2025-08-05T15:43:21.740031Z"
    },
    "papermill": {
     "duration": 0.021155,
     "end_time": "2025-08-05T15:43:21.742777",
     "exception": false,
     "start_time": "2025-08-05T15:43:21.721622",
     "status": "completed"
    },
    "tags": []
   },
   "outputs": [],
   "source": [
    "X_train = siab_train.iloc[:,4:164]\n",
    "y_train = siab_train.iloc[:, [3]]"
   ]
  },
  {
   "cell_type": "code",
   "execution_count": 16,
   "id": "828c96af-f43a-4ed6-ba47-8ac73a47d56c",
   "metadata": {
    "execution": {
     "iopub.execute_input": "2025-08-05T15:43:21.784785Z",
     "iopub.status.busy": "2025-08-05T15:43:21.783646Z",
     "iopub.status.idle": "2025-08-05T15:43:21.894910Z",
     "shell.execute_reply": "2025-08-05T15:43:21.894072Z"
    },
    "papermill": {
     "duration": 0.133742,
     "end_time": "2025-08-05T15:43:21.896561",
     "exception": false,
     "start_time": "2025-08-05T15:43:21.762819",
     "status": "completed"
    },
    "tags": []
   },
   "outputs": [],
   "source": [
    "X_calib = siab_calib.iloc[:,4:164]\n",
    "y_calib = siab_calib.iloc[:, [3]]"
   ]
  },
  {
   "cell_type": "code",
   "execution_count": 17,
   "id": "c34be9c3-6bd6-476e-acd3-845840e303be",
   "metadata": {
    "execution": {
     "iopub.execute_input": "2025-08-05T15:43:21.916967Z",
     "iopub.status.busy": "2025-08-05T15:43:21.916625Z",
     "iopub.status.idle": "2025-08-05T15:43:21.964500Z",
     "shell.execute_reply": "2025-08-05T15:43:21.963521Z"
    },
    "papermill": {
     "duration": 0.059151,
     "end_time": "2025-08-05T15:43:21.966062",
     "exception": false,
     "start_time": "2025-08-05T15:43:21.906911",
     "status": "completed"
    },
    "tags": []
   },
   "outputs": [],
   "source": [
    "X_test = siab_test.iloc[:,4:164]\n",
    "y_true = siab_test.iloc[:, [3]]"
   ]
  },
  {
   "cell_type": "code",
   "execution_count": 18,
   "id": "e6c733c5",
   "metadata": {
    "execution": {
     "iopub.execute_input": "2025-08-05T15:43:21.987592Z",
     "iopub.status.busy": "2025-08-05T15:43:21.987236Z",
     "iopub.status.idle": "2025-08-05T15:43:22.077484Z",
     "shell.execute_reply": "2025-08-05T15:43:22.076729Z"
    },
    "papermill": {
     "duration": 0.102102,
     "end_time": "2025-08-05T15:43:22.079002",
     "exception": false,
     "start_time": "2025-08-05T15:43:21.976900",
     "status": "completed"
    },
    "tags": []
   },
   "outputs": [],
   "source": [
    "# Auxiliary data needed downstream in the pipeline\n",
    "\n",
    "org_train = X_train.copy()\n",
    "org_test = X_test.copy()\n",
    "org_calib = X_calib.copy()"
   ]
  },
  {
   "cell_type": "markdown",
   "id": "0a4a1b33",
   "metadata": {
    "papermill": {
     "duration": 0.008998,
     "end_time": "2025-08-05T15:43:22.097718",
     "exception": false,
     "start_time": "2025-08-05T15:43:22.088720",
     "status": "completed"
    },
    "tags": []
   },
   "source": [
    "# Preprocessing Data"
   ]
  },
  {
   "cell_type": "code",
   "execution_count": 19,
   "id": "ca879031",
   "metadata": {
    "execution": {
     "iopub.execute_input": "2025-08-05T15:43:22.117370Z",
     "iopub.status.busy": "2025-08-05T15:43:22.116669Z",
     "iopub.status.idle": "2025-08-05T15:43:22.121810Z",
     "shell.execute_reply": "2025-08-05T15:43:22.121096Z"
    },
    "papermill": {
     "duration": 0.016465,
     "end_time": "2025-08-05T15:43:22.123202",
     "exception": false,
     "start_time": "2025-08-05T15:43:22.106737",
     "status": "completed"
    },
    "tags": []
   },
   "outputs": [],
   "source": [
    "# EXCLUDE PROTECTED FEATURES\n",
    "# ----------------------\n",
    "# \"exclude_features\": \"none\", # \"nationality\", \"sex\", \"nationality-sex\"\n",
    "\n",
    "excluded_features = universe[\"exclude_features\"].split(\"-\") # split, e.g.: \"nationality-sex\" -> [\"nationality\", \"sex\"]\n",
    "excluded_features_dictionary = {\n",
    "    \"nationality\": [\"maxdeutsch1\", \"maxdeutsch.Missing.\"],\n",
    "    \"sex\": [\"frau1\"],\n",
    "    \"age\": [\"age\"],\n",
    "}"
   ]
  },
  {
   "cell_type": "code",
   "execution_count": 20,
   "id": "b745ac60",
   "metadata": {
    "execution": {
     "iopub.execute_input": "2025-08-05T15:43:22.145481Z",
     "iopub.status.busy": "2025-08-05T15:43:22.144773Z",
     "iopub.status.idle": "2025-08-05T15:43:22.149718Z",
     "shell.execute_reply": "2025-08-05T15:43:22.148992Z"
    },
    "papermill": {
     "duration": 0.016907,
     "end_time": "2025-08-05T15:43:22.151171",
     "exception": false,
     "start_time": "2025-08-05T15:43:22.134264",
     "status": "completed"
    },
    "tags": []
   },
   "outputs": [],
   "source": [
    "# Code nice names to column names\n",
    "\n",
    "excluded_features_columns = [\n",
    "    excluded_features_dictionary[f] for f in excluded_features if len(f) > 0 and f != \"none\"\n",
    "]"
   ]
  },
  {
   "cell_type": "code",
   "execution_count": 21,
   "id": "f84f73a2",
   "metadata": {
    "execution": {
     "iopub.execute_input": "2025-08-05T15:43:22.173346Z",
     "iopub.status.busy": "2025-08-05T15:43:22.172648Z",
     "iopub.status.idle": "2025-08-05T15:43:22.178249Z",
     "shell.execute_reply": "2025-08-05T15:43:22.177427Z"
    },
    "papermill": {
     "duration": 0.01731,
     "end_time": "2025-08-05T15:43:22.179749",
     "exception": false,
     "start_time": "2025-08-05T15:43:22.162439",
     "status": "completed"
    },
    "tags": []
   },
   "outputs": [],
   "source": [
    "from utils import flatten_once\n",
    "\n",
    "excluded_features_columns = flatten_once(excluded_features_columns)"
   ]
  },
  {
   "cell_type": "code",
   "execution_count": 22,
   "id": "884dea22",
   "metadata": {
    "execution": {
     "iopub.execute_input": "2025-08-05T15:43:22.201924Z",
     "iopub.status.busy": "2025-08-05T15:43:22.201220Z",
     "iopub.status.idle": "2025-08-05T15:43:22.206135Z",
     "shell.execute_reply": "2025-08-05T15:43:22.205375Z"
    },
    "papermill": {
     "duration": 0.016889,
     "end_time": "2025-08-05T15:43:22.207598",
     "exception": false,
     "start_time": "2025-08-05T15:43:22.190709",
     "status": "completed"
    },
    "tags": []
   },
   "outputs": [],
   "source": [
    "if len(excluded_features_columns) > 0:\n",
    "    print(f\"Dropping features: {excluded_features_columns}\")\n",
    "    X_train.drop(excluded_features_columns, axis=1, inplace=True)"
   ]
  },
  {
   "cell_type": "code",
   "execution_count": 23,
   "id": "95ab8b16",
   "metadata": {
    "execution": {
     "iopub.execute_input": "2025-08-05T15:43:22.229503Z",
     "iopub.status.busy": "2025-08-05T15:43:22.228992Z",
     "iopub.status.idle": "2025-08-05T15:43:22.233925Z",
     "shell.execute_reply": "2025-08-05T15:43:22.233215Z"
    },
    "papermill": {
     "duration": 0.01672,
     "end_time": "2025-08-05T15:43:22.235351",
     "exception": false,
     "start_time": "2025-08-05T15:43:22.218631",
     "status": "completed"
    },
    "tags": []
   },
   "outputs": [],
   "source": [
    "if len(excluded_features_columns) > 0:\n",
    "    print(f\"Dropping features: {excluded_features_columns}\")\n",
    "    X_test.drop(excluded_features_columns, axis=1, inplace=True)"
   ]
  },
  {
   "cell_type": "code",
   "execution_count": 24,
   "id": "1853aaf5-fb9f-46cb-a2b5-8ea4ae2237e4",
   "metadata": {
    "execution": {
     "iopub.execute_input": "2025-08-05T15:43:22.257235Z",
     "iopub.status.busy": "2025-08-05T15:43:22.256727Z",
     "iopub.status.idle": "2025-08-05T15:43:22.261820Z",
     "shell.execute_reply": "2025-08-05T15:43:22.261076Z"
    },
    "papermill": {
     "duration": 0.017661,
     "end_time": "2025-08-05T15:43:22.264088",
     "exception": false,
     "start_time": "2025-08-05T15:43:22.246427",
     "status": "completed"
    },
    "tags": []
   },
   "outputs": [],
   "source": [
    "if len(excluded_features_columns) > 0:\n",
    "    print(f\"Dropping features: {excluded_features_columns}\")\n",
    "    X_calib.drop(excluded_features_columns, axis=1, inplace=True)"
   ]
  },
  {
   "cell_type": "code",
   "execution_count": 25,
   "id": "76c4dc6d",
   "metadata": {
    "execution": {
     "iopub.execute_input": "2025-08-05T15:43:22.317749Z",
     "iopub.status.busy": "2025-08-05T15:43:22.316934Z",
     "iopub.status.idle": "2025-08-05T15:43:22.323626Z",
     "shell.execute_reply": "2025-08-05T15:43:22.322488Z"
    },
    "papermill": {
     "duration": 0.03604,
     "end_time": "2025-08-05T15:43:22.326457",
     "exception": false,
     "start_time": "2025-08-05T15:43:22.290417",
     "status": "completed"
    },
    "tags": []
   },
   "outputs": [],
   "source": [
    "# EXCLUDE CERTAIN SUBGROUPS\n",
    "# ----------------------\n",
    "\n",
    "mode = universe.get(\"exclude_subgroups\", \"keep-all\") \n",
    "# Fetches the exclude_subgroups setting from the universe dict.\n",
    "# Defaults to \"keep-all\" if the key is missing."
   ]
  },
  {
   "cell_type": "code",
   "execution_count": 26,
   "id": "21994072",
   "metadata": {
    "execution": {
     "iopub.execute_input": "2025-08-05T15:43:22.380519Z",
     "iopub.status.busy": "2025-08-05T15:43:22.380096Z",
     "iopub.status.idle": "2025-08-05T15:43:22.388363Z",
     "shell.execute_reply": "2025-08-05T15:43:22.387170Z"
    },
    "papermill": {
     "duration": 0.03733,
     "end_time": "2025-08-05T15:43:22.390679",
     "exception": false,
     "start_time": "2025-08-05T15:43:22.353349",
     "status": "completed"
    },
    "tags": []
   },
   "outputs": [],
   "source": [
    "if mode == \"keep-all\":\n",
    "    keep_mask = pd.Series(True, index=org_train.index)\n",
    "\n",
    "# org_train contains the original feature columns from features_org (in Simson)\n",
    "# features_org contains unprocessed features, for me X_train at beginning ???\n",
    "# For keep-all, creates a boolean Series (keep_mask) of all True, so no rows are removed.\n",
    "\n",
    "elif mode == \"drop-non-german\":\n",
    "    keep_mask = org_train[\"maxdeutsch1\"] == 1 # ??? what about missing values?\n",
    "\n",
    "else:\n",
    "    raise ValueError(f\"Unsupported mode for exclude_subgroups: {mode}\")"
   ]
  },
  {
   "cell_type": "code",
   "execution_count": 27,
   "id": "71651440",
   "metadata": {
    "execution": {
     "iopub.execute_input": "2025-08-05T15:43:22.446018Z",
     "iopub.status.busy": "2025-08-05T15:43:22.444917Z",
     "iopub.status.idle": "2025-08-05T15:43:22.452193Z",
     "shell.execute_reply": "2025-08-05T15:43:22.451074Z"
    },
    "papermill": {
     "duration": 0.037198,
     "end_time": "2025-08-05T15:43:22.455068",
     "exception": false,
     "start_time": "2025-08-05T15:43:22.417870",
     "status": "completed"
    },
    "tags": []
   },
   "outputs": [],
   "source": [
    "n_drop = (~keep_mask).sum() # Calculates how many rows are set to be dropped\n",
    "if n_drop > 0:\n",
    "    pct = n_drop / len(keep_mask) * 100\n",
    "    print(f\"Dropping {n_drop} rows ({pct:.2f}%) where mode='{mode}'\")"
   ]
  },
  {
   "cell_type": "code",
   "execution_count": 28,
   "id": "5fb8eee5",
   "metadata": {
    "execution": {
     "iopub.execute_input": "2025-08-05T15:43:22.510892Z",
     "iopub.status.busy": "2025-08-05T15:43:22.510016Z",
     "iopub.status.idle": "2025-08-05T15:43:22.518924Z",
     "shell.execute_reply": "2025-08-05T15:43:22.517630Z"
    },
    "papermill": {
     "duration": 0.038968,
     "end_time": "2025-08-05T15:43:22.521838",
     "exception": false,
     "start_time": "2025-08-05T15:43:22.482870",
     "status": "completed"
    },
    "tags": []
   },
   "outputs": [],
   "source": [
    "X_train = X_train[keep_mask]"
   ]
  },
  {
   "cell_type": "code",
   "execution_count": 29,
   "id": "b202bb3a",
   "metadata": {
    "execution": {
     "iopub.execute_input": "2025-08-05T15:43:22.576901Z",
     "iopub.status.busy": "2025-08-05T15:43:22.576352Z",
     "iopub.status.idle": "2025-08-05T15:43:22.583149Z",
     "shell.execute_reply": "2025-08-05T15:43:22.581779Z"
    },
    "papermill": {
     "duration": 0.03645,
     "end_time": "2025-08-05T15:43:22.585639",
     "exception": false,
     "start_time": "2025-08-05T15:43:22.549189",
     "status": "completed"
    },
    "tags": []
   },
   "outputs": [],
   "source": [
    "y_train = y_train[keep_mask]"
   ]
  },
  {
   "cell_type": "markdown",
   "id": "493e2ac3",
   "metadata": {
    "papermill": {
     "duration": 0.025837,
     "end_time": "2025-08-05T15:43:22.638810",
     "exception": false,
     "start_time": "2025-08-05T15:43:22.612973",
     "status": "completed"
    },
    "tags": []
   },
   "source": [
    "# Model Training"
   ]
  },
  {
   "cell_type": "code",
   "execution_count": 30,
   "id": "679e1268",
   "metadata": {
    "execution": {
     "iopub.execute_input": "2025-08-05T15:43:22.693022Z",
     "iopub.status.busy": "2025-08-05T15:43:22.691914Z",
     "iopub.status.idle": "2025-08-05T15:43:22.812588Z",
     "shell.execute_reply": "2025-08-05T15:43:22.811397Z"
    },
    "papermill": {
     "duration": 0.150375,
     "end_time": "2025-08-05T15:43:22.815305",
     "exception": false,
     "start_time": "2025-08-05T15:43:22.664930",
     "status": "completed"
    },
    "tags": []
   },
   "outputs": [],
   "source": [
    "from sklearn.linear_model import LogisticRegression\n",
    "from sklearn.ensemble import GradientBoostingClassifier, RandomForestClassifier\n",
    "\n",
    "if (universe[\"model\"] == \"logreg\"):\n",
    "    model = LogisticRegression() #penalty=\"none\", solver=\"newton-cg\", max_iter=1) # include random_state=19 ?\n",
    "elif (universe[\"model\"] == \"penalized_logreg\"):\n",
    "    model = LogisticRegression(penalty=\"l2\", C=0.1) #, solver=\"newton-cg\", max_iter=1)\n",
    "elif (universe[\"model\"] == \"rf\"):\n",
    "    model = RandomForestClassifier() # n_estimators=100, n_jobs=-1\n",
    "elif (universe[\"model\"] == \"gbm\"):\n",
    "    model = GradientBoostingClassifier()\n",
    "elif (universe[\"model\"] == \"elasticnet\"):\n",
    "    model = LogisticRegression(penalty = 'elasticnet', solver = 'saga', l1_ratio = 0.5) # max_iter=5000\n",
    "else:\n",
    "    raise \"Unsupported universe.model\""
   ]
  },
  {
   "cell_type": "code",
   "execution_count": 31,
   "id": "0cc8f744",
   "metadata": {
    "execution": {
     "iopub.execute_input": "2025-08-05T15:43:22.870076Z",
     "iopub.status.busy": "2025-08-05T15:43:22.869463Z",
     "iopub.status.idle": "2025-08-05T15:43:22.878215Z",
     "shell.execute_reply": "2025-08-05T15:43:22.876869Z"
    },
    "papermill": {
     "duration": 0.038795,
     "end_time": "2025-08-05T15:43:22.880873",
     "exception": false,
     "start_time": "2025-08-05T15:43:22.842078",
     "status": "completed"
    },
    "tags": []
   },
   "outputs": [],
   "source": [
    "import numpy as np\n",
    "from sklearn.pipeline import Pipeline\n",
    "from sklearn.preprocessing import StandardScaler\n",
    "\n",
    "model = Pipeline([\n",
    "    #(\"continuous_processor\", continuous_processor),\n",
    "    #(\"categorical_preprocessor\", categorical_preprocessor),\n",
    "    (\"scale\", StandardScaler() if universe[\"scale\"] == \"scale\" else None), \n",
    "    (\"model\", model),\n",
    "])"
   ]
  },
  {
   "cell_type": "code",
   "execution_count": 32,
   "id": "9442c04d",
   "metadata": {
    "execution": {
     "iopub.execute_input": "2025-08-05T15:43:22.935750Z",
     "iopub.status.busy": "2025-08-05T15:43:22.934898Z",
     "iopub.status.idle": "2025-08-05T15:43:24.298388Z",
     "shell.execute_reply": "2025-08-05T15:43:24.297443Z"
    },
    "papermill": {
     "duration": 1.391944,
     "end_time": "2025-08-05T15:43:24.299641",
     "exception": false,
     "start_time": "2025-08-05T15:43:22.907697",
     "status": "completed"
    },
    "tags": []
   },
   "outputs": [
    {
     "data": {
      "text/html": [
       "<style>#sk-container-id-1 {color: black;background-color: white;}#sk-container-id-1 pre{padding: 0;}#sk-container-id-1 div.sk-toggleable {background-color: white;}#sk-container-id-1 label.sk-toggleable__label {cursor: pointer;display: block;width: 100%;margin-bottom: 0;padding: 0.3em;box-sizing: border-box;text-align: center;}#sk-container-id-1 label.sk-toggleable__label-arrow:before {content: \"▸\";float: left;margin-right: 0.25em;color: #696969;}#sk-container-id-1 label.sk-toggleable__label-arrow:hover:before {color: black;}#sk-container-id-1 div.sk-estimator:hover label.sk-toggleable__label-arrow:before {color: black;}#sk-container-id-1 div.sk-toggleable__content {max-height: 0;max-width: 0;overflow: hidden;text-align: left;background-color: #f0f8ff;}#sk-container-id-1 div.sk-toggleable__content pre {margin: 0.2em;color: black;border-radius: 0.25em;background-color: #f0f8ff;}#sk-container-id-1 input.sk-toggleable__control:checked~div.sk-toggleable__content {max-height: 200px;max-width: 100%;overflow: auto;}#sk-container-id-1 input.sk-toggleable__control:checked~label.sk-toggleable__label-arrow:before {content: \"▾\";}#sk-container-id-1 div.sk-estimator input.sk-toggleable__control:checked~label.sk-toggleable__label {background-color: #d4ebff;}#sk-container-id-1 div.sk-label input.sk-toggleable__control:checked~label.sk-toggleable__label {background-color: #d4ebff;}#sk-container-id-1 input.sk-hidden--visually {border: 0;clip: rect(1px 1px 1px 1px);clip: rect(1px, 1px, 1px, 1px);height: 1px;margin: -1px;overflow: hidden;padding: 0;position: absolute;width: 1px;}#sk-container-id-1 div.sk-estimator {font-family: monospace;background-color: #f0f8ff;border: 1px dotted black;border-radius: 0.25em;box-sizing: border-box;margin-bottom: 0.5em;}#sk-container-id-1 div.sk-estimator:hover {background-color: #d4ebff;}#sk-container-id-1 div.sk-parallel-item::after {content: \"\";width: 100%;border-bottom: 1px solid gray;flex-grow: 1;}#sk-container-id-1 div.sk-label:hover label.sk-toggleable__label {background-color: #d4ebff;}#sk-container-id-1 div.sk-serial::before {content: \"\";position: absolute;border-left: 1px solid gray;box-sizing: border-box;top: 0;bottom: 0;left: 50%;z-index: 0;}#sk-container-id-1 div.sk-serial {display: flex;flex-direction: column;align-items: center;background-color: white;padding-right: 0.2em;padding-left: 0.2em;position: relative;}#sk-container-id-1 div.sk-item {position: relative;z-index: 1;}#sk-container-id-1 div.sk-parallel {display: flex;align-items: stretch;justify-content: center;background-color: white;position: relative;}#sk-container-id-1 div.sk-item::before, #sk-container-id-1 div.sk-parallel-item::before {content: \"\";position: absolute;border-left: 1px solid gray;box-sizing: border-box;top: 0;bottom: 0;left: 50%;z-index: -1;}#sk-container-id-1 div.sk-parallel-item {display: flex;flex-direction: column;z-index: 1;position: relative;background-color: white;}#sk-container-id-1 div.sk-parallel-item:first-child::after {align-self: flex-end;width: 50%;}#sk-container-id-1 div.sk-parallel-item:last-child::after {align-self: flex-start;width: 50%;}#sk-container-id-1 div.sk-parallel-item:only-child::after {width: 0;}#sk-container-id-1 div.sk-dashed-wrapped {border: 1px dashed gray;margin: 0 0.4em 0.5em 0.4em;box-sizing: border-box;padding-bottom: 0.4em;background-color: white;}#sk-container-id-1 div.sk-label label {font-family: monospace;font-weight: bold;display: inline-block;line-height: 1.2em;}#sk-container-id-1 div.sk-label-container {text-align: center;}#sk-container-id-1 div.sk-container {/* jupyter's `normalize.less` sets `[hidden] { display: none; }` but bootstrap.min.css set `[hidden] { display: none !important; }` so we also need the `!important` here to be able to override the default hidden behavior on the sphinx rendered scikit-learn.org. See: https://github.com/scikit-learn/scikit-learn/issues/21755 */display: inline-block !important;position: relative;}#sk-container-id-1 div.sk-text-repr-fallback {display: none;}</style><div id=\"sk-container-id-1\" class=\"sk-top-container\"><div class=\"sk-text-repr-fallback\"><pre>Pipeline(steps=[(&#x27;scale&#x27;, None), (&#x27;model&#x27;, RandomForestClassifier())])</pre><b>In a Jupyter environment, please rerun this cell to show the HTML representation or trust the notebook. <br />On GitHub, the HTML representation is unable to render, please try loading this page with nbviewer.org.</b></div><div class=\"sk-container\" hidden><div class=\"sk-item sk-dashed-wrapped\"><div class=\"sk-label-container\"><div class=\"sk-label sk-toggleable\"><input class=\"sk-toggleable__control sk-hidden--visually\" id=\"sk-estimator-id-1\" type=\"checkbox\" ><label for=\"sk-estimator-id-1\" class=\"sk-toggleable__label sk-toggleable__label-arrow\">Pipeline</label><div class=\"sk-toggleable__content\"><pre>Pipeline(steps=[(&#x27;scale&#x27;, None), (&#x27;model&#x27;, RandomForestClassifier())])</pre></div></div></div><div class=\"sk-serial\"><div class=\"sk-item\"><div class=\"sk-estimator sk-toggleable\"><input class=\"sk-toggleable__control sk-hidden--visually\" id=\"sk-estimator-id-2\" type=\"checkbox\" ><label for=\"sk-estimator-id-2\" class=\"sk-toggleable__label sk-toggleable__label-arrow\">None</label><div class=\"sk-toggleable__content\"><pre>None</pre></div></div></div><div class=\"sk-item\"><div class=\"sk-estimator sk-toggleable\"><input class=\"sk-toggleable__control sk-hidden--visually\" id=\"sk-estimator-id-3\" type=\"checkbox\" ><label for=\"sk-estimator-id-3\" class=\"sk-toggleable__label sk-toggleable__label-arrow\">RandomForestClassifier</label><div class=\"sk-toggleable__content\"><pre>RandomForestClassifier()</pre></div></div></div></div></div></div></div>"
      ],
      "text/plain": [
       "Pipeline(steps=[('scale', None), ('model', RandomForestClassifier())])"
      ]
     },
     "execution_count": 32,
     "metadata": {},
     "output_type": "execute_result"
    }
   ],
   "source": [
    "model.fit(X_train, y_train.values.ravel())"
   ]
  },
  {
   "cell_type": "code",
   "execution_count": 33,
   "id": "af59f8c0",
   "metadata": {
    "execution": {
     "iopub.execute_input": "2025-08-05T15:43:24.324656Z",
     "iopub.status.busy": "2025-08-05T15:43:24.324146Z",
     "iopub.status.idle": "2025-08-05T15:43:24.330096Z",
     "shell.execute_reply": "2025-08-05T15:43:24.329075Z"
    },
    "papermill": {
     "duration": 0.025842,
     "end_time": "2025-08-05T15:43:24.335726",
     "exception": false,
     "start_time": "2025-08-05T15:43:24.309884",
     "status": "completed"
    },
    "tags": []
   },
   "outputs": [],
   "source": [
    "from fairness_multiverse.universe import predict_w_threshold"
   ]
  },
  {
   "cell_type": "code",
   "execution_count": 34,
   "id": "a7cf2e16",
   "metadata": {
    "execution": {
     "iopub.execute_input": "2025-08-05T15:43:24.372930Z",
     "iopub.status.busy": "2025-08-05T15:43:24.372089Z",
     "iopub.status.idle": "2025-08-05T15:43:26.026559Z",
     "shell.execute_reply": "2025-08-05T15:43:26.025874Z"
    },
    "papermill": {
     "duration": 1.67101,
     "end_time": "2025-08-05T15:43:26.027798",
     "exception": false,
     "start_time": "2025-08-05T15:43:24.356788",
     "status": "completed"
    },
    "tags": []
   },
   "outputs": [
    {
     "data": {
      "text/plain": [
       "0.8667038234310557"
      ]
     },
     "execution_count": 34,
     "metadata": {},
     "output_type": "execute_result"
    }
   ],
   "source": [
    "probs_test = model.predict_proba(X_test)\n",
    "\n",
    "'''\n",
    "Below code returns a boolean array (or binary 0/1 array depending on how it’s used) where each element \n",
    "is True if the probability of class 1 is greater than or equal to the threshold, and False otherwise.\n",
    "'''\n",
    "y_pred_default = predict_w_threshold(probs_test, 0.5)\n",
    "\n",
    "from sklearn.metrics import accuracy_score\n",
    "\n",
    "# Naive prediction\n",
    "accuracy_score(y_true = y_true, y_pred = y_pred_default)"
   ]
  },
  {
   "cell_type": "code",
   "execution_count": 35,
   "id": "081964c3",
   "metadata": {
    "execution": {
     "iopub.execute_input": "2025-08-05T15:43:26.048853Z",
     "iopub.status.busy": "2025-08-05T15:43:26.048571Z",
     "iopub.status.idle": "2025-08-05T15:43:28.315122Z",
     "shell.execute_reply": "2025-08-05T15:43:28.314306Z"
    },
    "papermill": {
     "duration": 2.278505,
     "end_time": "2025-08-05T15:43:28.316625",
     "exception": false,
     "start_time": "2025-08-05T15:43:26.038120",
     "status": "completed"
    },
    "tags": []
   },
   "outputs": [
    {
     "data": {
      "text/plain": [
       "array([0, 0, 0, ..., 0, 0, 0])"
      ]
     },
     "execution_count": 35,
     "metadata": {},
     "output_type": "execute_result"
    }
   ],
   "source": [
    "model.predict(X_test)"
   ]
  },
  {
   "cell_type": "markdown",
   "id": "56c9705b",
   "metadata": {
    "papermill": {
     "duration": 0.017807,
     "end_time": "2025-08-05T15:43:28.353084",
     "exception": false,
     "start_time": "2025-08-05T15:43:28.335277",
     "status": "completed"
    },
    "tags": []
   },
   "source": [
    "# Conformal Prediction"
   ]
  },
  {
   "cell_type": "code",
   "execution_count": 36,
   "id": "160ec6ff",
   "metadata": {
    "execution": {
     "iopub.execute_input": "2025-08-05T15:43:28.392786Z",
     "iopub.status.busy": "2025-08-05T15:43:28.392301Z",
     "iopub.status.idle": "2025-08-05T15:43:28.397843Z",
     "shell.execute_reply": "2025-08-05T15:43:28.396844Z"
    },
    "papermill": {
     "duration": 0.026905,
     "end_time": "2025-08-05T15:43:28.399535",
     "exception": false,
     "start_time": "2025-08-05T15:43:28.372630",
     "status": "completed"
    },
    "tags": []
   },
   "outputs": [],
   "source": [
    "# Miscoverage level for conformal prediction (10% allowed error rate => 90% target coverage)\n",
    "alpha = 0.1"
   ]
  },
  {
   "cell_type": "code",
   "execution_count": 37,
   "id": "eadf4555-3dd3-440e-8e35-f82a4ad9f855",
   "metadata": {
    "execution": {
     "iopub.execute_input": "2025-08-05T15:43:28.441313Z",
     "iopub.status.busy": "2025-08-05T15:43:28.440661Z",
     "iopub.status.idle": "2025-08-05T15:43:30.704808Z",
     "shell.execute_reply": "2025-08-05T15:43:30.703604Z"
    },
    "papermill": {
     "duration": 2.287985,
     "end_time": "2025-08-05T15:43:30.707218",
     "exception": false,
     "start_time": "2025-08-05T15:43:28.419233",
     "status": "completed"
    },
    "tags": []
   },
   "outputs": [],
   "source": [
    "probs_calib = model.predict_proba(X_calib)"
   ]
  },
  {
   "cell_type": "code",
   "execution_count": 38,
   "id": "2ed93547-6d5d-4983-9b36-1ecb300da49a",
   "metadata": {
    "execution": {
     "iopub.execute_input": "2025-08-05T15:43:30.764702Z",
     "iopub.status.busy": "2025-08-05T15:43:30.763696Z",
     "iopub.status.idle": "2025-08-05T15:43:30.770295Z",
     "shell.execute_reply": "2025-08-05T15:43:30.769143Z"
    },
    "papermill": {
     "duration": 0.035785,
     "end_time": "2025-08-05T15:43:30.772317",
     "exception": false,
     "start_time": "2025-08-05T15:43:30.736532",
     "status": "completed"
    },
    "tags": []
   },
   "outputs": [],
   "source": [
    "y_calib = y_calib.values.ravel().astype(int)"
   ]
  },
  {
   "cell_type": "code",
   "execution_count": 39,
   "id": "65d1320d-f588-4b38-9072-62af1ae97f7d",
   "metadata": {
    "execution": {
     "iopub.execute_input": "2025-08-05T15:43:30.820461Z",
     "iopub.status.busy": "2025-08-05T15:43:30.819566Z",
     "iopub.status.idle": "2025-08-05T15:43:30.827194Z",
     "shell.execute_reply": "2025-08-05T15:43:30.826126Z"
    },
    "papermill": {
     "duration": 0.033392,
     "end_time": "2025-08-05T15:43:30.829183",
     "exception": false,
     "start_time": "2025-08-05T15:43:30.795791",
     "status": "completed"
    },
    "tags": []
   },
   "outputs": [],
   "source": [
    "from fairness_multiverse.conformal import compute_nc_scores\n",
    "\n",
    "# Compute nonconformity scores on calibration set (1 - probability of true class)\n",
    "nc_scores = compute_nc_scores(probs_calib, y_calib)"
   ]
  },
  {
   "cell_type": "code",
   "execution_count": 40,
   "id": "df3b8ca3-53b7-43d5-9667-7c85da7aeda2",
   "metadata": {
    "execution": {
     "iopub.execute_input": "2025-08-05T15:43:30.876059Z",
     "iopub.status.busy": "2025-08-05T15:43:30.875404Z",
     "iopub.status.idle": "2025-08-05T15:43:30.882694Z",
     "shell.execute_reply": "2025-08-05T15:43:30.881580Z"
    },
    "papermill": {
     "duration": 0.032342,
     "end_time": "2025-08-05T15:43:30.884521",
     "exception": false,
     "start_time": "2025-08-05T15:43:30.852179",
     "status": "completed"
    },
    "tags": []
   },
   "outputs": [],
   "source": [
    "from fairness_multiverse.conformal import find_threshold\n",
    "\n",
    "# Find conformal threshold q_hat for the given alpha (split conformal method)\n",
    "q_hat = find_threshold(nc_scores, alpha)"
   ]
  },
  {
   "cell_type": "code",
   "execution_count": 41,
   "id": "4d29e6c1-0ef6-4aa4-b8fe-4fe79b0d033a",
   "metadata": {
    "execution": {
     "iopub.execute_input": "2025-08-05T15:43:30.923041Z",
     "iopub.status.busy": "2025-08-05T15:43:30.922258Z",
     "iopub.status.idle": "2025-08-05T15:43:30.929508Z",
     "shell.execute_reply": "2025-08-05T15:43:30.928460Z"
    },
    "papermill": {
     "duration": 0.028002,
     "end_time": "2025-08-05T15:43:30.931496",
     "exception": false,
     "start_time": "2025-08-05T15:43:30.903494",
     "status": "completed"
    },
    "tags": []
   },
   "outputs": [
    {
     "data": {
      "text/plain": [
       "0.6799999999999999"
      ]
     },
     "execution_count": 41,
     "metadata": {},
     "output_type": "execute_result"
    }
   ],
   "source": [
    "q_hat"
   ]
  },
  {
   "cell_type": "code",
   "execution_count": 42,
   "id": "92460794-cdac-4be2-ba28-f28c0515a6fb",
   "metadata": {
    "execution": {
     "iopub.execute_input": "2025-08-05T15:43:30.979334Z",
     "iopub.status.busy": "2025-08-05T15:43:30.978729Z",
     "iopub.status.idle": "2025-08-05T15:43:33.947093Z",
     "shell.execute_reply": "2025-08-05T15:43:33.946121Z"
    },
    "papermill": {
     "duration": 2.993814,
     "end_time": "2025-08-05T15:43:33.949022",
     "exception": false,
     "start_time": "2025-08-05T15:43:30.955208",
     "status": "completed"
    },
    "tags": []
   },
   "outputs": [],
   "source": [
    "from fairness_multiverse.conformal import predict_conformal_sets\n",
    "\n",
    "# Generate prediction sets for each test example\n",
    "pred_sets = predict_conformal_sets(model, X_test, q_hat)"
   ]
  },
  {
   "cell_type": "code",
   "execution_count": 43,
   "id": "d90c9a65-e6db-4f5d-80cd-e68fb7e46829",
   "metadata": {
    "execution": {
     "iopub.execute_input": "2025-08-05T15:43:33.994637Z",
     "iopub.status.busy": "2025-08-05T15:43:33.994183Z",
     "iopub.status.idle": "2025-08-05T15:43:33.999879Z",
     "shell.execute_reply": "2025-08-05T15:43:33.998918Z"
    },
    "papermill": {
     "duration": 0.029178,
     "end_time": "2025-08-05T15:43:34.001583",
     "exception": false,
     "start_time": "2025-08-05T15:43:33.972405",
     "status": "completed"
    },
    "tags": []
   },
   "outputs": [],
   "source": [
    "y_true = y_true.squeeze()"
   ]
  },
  {
   "cell_type": "code",
   "execution_count": 44,
   "id": "3a58a54a-1e68-46b9-927a-df01f18aebc8",
   "metadata": {
    "execution": {
     "iopub.execute_input": "2025-08-05T15:43:34.047273Z",
     "iopub.status.busy": "2025-08-05T15:43:34.046366Z",
     "iopub.status.idle": "2025-08-05T15:43:34.840911Z",
     "shell.execute_reply": "2025-08-05T15:43:34.839922Z"
    },
    "papermill": {
     "duration": 0.818403,
     "end_time": "2025-08-05T15:43:34.842954",
     "exception": false,
     "start_time": "2025-08-05T15:43:34.024551",
     "status": "completed"
    },
    "tags": []
   },
   "outputs": [],
   "source": [
    "from fairness_multiverse.conformal import evaluate_sets\n",
    "\n",
    "# Evaluate coverage and average set size on test data\n",
    "metrics = evaluate_sets(pred_sets, y_true)"
   ]
  },
  {
   "cell_type": "markdown",
   "id": "2b569c12-9aaa-4c88-98c9-bbcd0cf3ebb8",
   "metadata": {
    "papermill": {
     "duration": 0.020592,
     "end_time": "2025-08-05T15:43:34.885133",
     "exception": false,
     "start_time": "2025-08-05T15:43:34.864541",
     "status": "completed"
    },
    "tags": []
   },
   "source": [
    "# CP Metrics"
   ]
  },
  {
   "cell_type": "code",
   "execution_count": 45,
   "id": "5ce0a5cb-201f-45a0-ade5-94c7f0bd6095",
   "metadata": {
    "execution": {
     "iopub.execute_input": "2025-08-05T15:43:34.929246Z",
     "iopub.status.busy": "2025-08-05T15:43:34.928800Z",
     "iopub.status.idle": "2025-08-05T15:43:34.938058Z",
     "shell.execute_reply": "2025-08-05T15:43:34.937032Z"
    },
    "papermill": {
     "duration": 0.034248,
     "end_time": "2025-08-05T15:43:34.939904",
     "exception": false,
     "start_time": "2025-08-05T15:43:34.905656",
     "status": "completed"
    },
    "tags": []
   },
   "outputs": [
    {
     "data": {
      "text/plain": [
       "{'coverage': 0.9150373425482109, 'avg_size': 1.1462713186935682}"
      ]
     },
     "execution_count": 45,
     "metadata": {},
     "output_type": "execute_result"
    }
   ],
   "source": [
    "metrics"
   ]
  },
  {
   "cell_type": "code",
   "execution_count": 46,
   "id": "9b9a838d-31c9-430b-ae14-12baee460d17",
   "metadata": {
    "execution": {
     "iopub.execute_input": "2025-08-05T15:43:34.979051Z",
     "iopub.status.busy": "2025-08-05T15:43:34.978604Z",
     "iopub.status.idle": "2025-08-05T15:43:34.984779Z",
     "shell.execute_reply": "2025-08-05T15:43:34.983856Z"
    },
    "papermill": {
     "duration": 0.026638,
     "end_time": "2025-08-05T15:43:34.986479",
     "exception": false,
     "start_time": "2025-08-05T15:43:34.959841",
     "status": "completed"
    },
    "tags": []
   },
   "outputs": [],
   "source": [
    "example_universe = universe.copy()\n",
    "universe_training_year = example_universe.get(\"training_year\")\n",
    "universe_training_size = example_universe.get(\"training_size\")\n",
    "universe_scale = example_universe.get(\"scale\")\n",
    "universe_model = example_universe.get(\"model\")\n",
    "universe_exclude_features = example_universe.get(\"exclude_features\")\n",
    "universe_exclude_subgroups = example_universe.get(\"exclude_subgroups\")"
   ]
  },
  {
   "cell_type": "code",
   "execution_count": 47,
   "id": "f4b6a8ac-9dc0-4245-8a91-5b3b5999c4f9",
   "metadata": {
    "execution": {
     "iopub.execute_input": "2025-08-05T15:43:35.026281Z",
     "iopub.status.busy": "2025-08-05T15:43:35.025769Z",
     "iopub.status.idle": "2025-08-05T15:43:35.032959Z",
     "shell.execute_reply": "2025-08-05T15:43:35.031737Z"
    },
    "papermill": {
     "duration": 0.028808,
     "end_time": "2025-08-05T15:43:35.034724",
     "exception": false,
     "start_time": "2025-08-05T15:43:35.005916",
     "status": "completed"
    },
    "tags": []
   },
   "outputs": [],
   "source": [
    "cp_metrics_dict = {\n",
    "    \"universe_id\": [universe_id],\n",
    "    \"universe_training_year\": [universe_training_year],\n",
    "    \"universe_training_size\": [universe_training_size],\n",
    "    \"universe_scale\": [universe_scale],\n",
    "    \"universe_model\": [universe_model],\n",
    "    \"universe_exclude_features\": [universe_exclude_features],\n",
    "    \"universe_exclude_subgroups\": [universe_exclude_subgroups],\n",
    "    \"q_hat\": [q_hat],\n",
    "    \"coverage\": [metrics[\"coverage\"]],\n",
    "    \"avg_size\": [metrics[\"avg_size\"]],\n",
    "}"
   ]
  },
  {
   "cell_type": "code",
   "execution_count": 48,
   "id": "908acbb1-0371-4915-85ca-3fa520d2efe2",
   "metadata": {
    "execution": {
     "iopub.execute_input": "2025-08-05T15:43:35.080350Z",
     "iopub.status.busy": "2025-08-05T15:43:35.079668Z",
     "iopub.status.idle": "2025-08-05T15:43:35.087399Z",
     "shell.execute_reply": "2025-08-05T15:43:35.086408Z"
    },
    "papermill": {
     "duration": 0.029273,
     "end_time": "2025-08-05T15:43:35.089186",
     "exception": false,
     "start_time": "2025-08-05T15:43:35.059913",
     "status": "completed"
    },
    "tags": []
   },
   "outputs": [
    {
     "data": {
      "text/plain": [
       "{'universe_id': ['00fd2ec902beaeb4c7f257259a9c67d7'],\n",
       " 'universe_training_year': ['2012_14'],\n",
       " 'universe_training_size': ['5k'],\n",
       " 'universe_scale': ['do-not-scale'],\n",
       " 'universe_model': ['rf'],\n",
       " 'universe_exclude_features': ['none'],\n",
       " 'universe_exclude_subgroups': ['keep-all'],\n",
       " 'q_hat': [0.6799999999999999],\n",
       " 'coverage': [0.9150373425482109],\n",
       " 'avg_size': [1.1462713186935682]}"
      ]
     },
     "execution_count": 48,
     "metadata": {},
     "output_type": "execute_result"
    }
   ],
   "source": [
    "cp_metrics_dict"
   ]
  },
  {
   "cell_type": "code",
   "execution_count": 49,
   "id": "33007efc-14e9-4ec6-97ac-56a455c82265",
   "metadata": {
    "execution": {
     "iopub.execute_input": "2025-08-05T15:43:35.129667Z",
     "iopub.status.busy": "2025-08-05T15:43:35.128965Z",
     "iopub.status.idle": "2025-08-05T15:43:35.135260Z",
     "shell.execute_reply": "2025-08-05T15:43:35.134394Z"
    },
    "papermill": {
     "duration": 0.027755,
     "end_time": "2025-08-05T15:43:35.136779",
     "exception": false,
     "start_time": "2025-08-05T15:43:35.109024",
     "status": "completed"
    },
    "tags": []
   },
   "outputs": [],
   "source": [
    "cp_metrics_df = pd.DataFrame(cp_metrics_dict)"
   ]
  },
  {
   "cell_type": "code",
   "execution_count": 50,
   "id": "db12611b-57b2-4910-b9d0-355adfd6e7bf",
   "metadata": {
    "execution": {
     "iopub.execute_input": "2025-08-05T15:43:35.186629Z",
     "iopub.status.busy": "2025-08-05T15:43:35.186087Z",
     "iopub.status.idle": "2025-08-05T15:43:35.206421Z",
     "shell.execute_reply": "2025-08-05T15:43:35.205403Z"
    },
    "papermill": {
     "duration": 0.047359,
     "end_time": "2025-08-05T15:43:35.208210",
     "exception": false,
     "start_time": "2025-08-05T15:43:35.160851",
     "status": "completed"
    },
    "tags": []
   },
   "outputs": [
    {
     "data": {
      "text/html": [
       "<div>\n",
       "<style scoped>\n",
       "    .dataframe tbody tr th:only-of-type {\n",
       "        vertical-align: middle;\n",
       "    }\n",
       "\n",
       "    .dataframe tbody tr th {\n",
       "        vertical-align: top;\n",
       "    }\n",
       "\n",
       "    .dataframe thead th {\n",
       "        text-align: right;\n",
       "    }\n",
       "</style>\n",
       "<table border=\"1\" class=\"dataframe\">\n",
       "  <thead>\n",
       "    <tr style=\"text-align: right;\">\n",
       "      <th></th>\n",
       "      <th>universe_id</th>\n",
       "      <th>universe_training_year</th>\n",
       "      <th>universe_training_size</th>\n",
       "      <th>universe_scale</th>\n",
       "      <th>universe_model</th>\n",
       "      <th>universe_exclude_features</th>\n",
       "      <th>universe_exclude_subgroups</th>\n",
       "      <th>q_hat</th>\n",
       "      <th>coverage</th>\n",
       "      <th>avg_size</th>\n",
       "    </tr>\n",
       "  </thead>\n",
       "  <tbody>\n",
       "    <tr>\n",
       "      <th>0</th>\n",
       "      <td>00fd2ec902beaeb4c7f257259a9c67d7</td>\n",
       "      <td>2012_14</td>\n",
       "      <td>5k</td>\n",
       "      <td>do-not-scale</td>\n",
       "      <td>rf</td>\n",
       "      <td>none</td>\n",
       "      <td>keep-all</td>\n",
       "      <td>0.68</td>\n",
       "      <td>0.915037</td>\n",
       "      <td>1.146271</td>\n",
       "    </tr>\n",
       "  </tbody>\n",
       "</table>\n",
       "</div>"
      ],
      "text/plain": [
       "                        universe_id universe_training_year  \\\n",
       "0  00fd2ec902beaeb4c7f257259a9c67d7                2012_14   \n",
       "\n",
       "  universe_training_size universe_scale universe_model  \\\n",
       "0                     5k   do-not-scale             rf   \n",
       "\n",
       "  universe_exclude_features universe_exclude_subgroups  q_hat  coverage  \\\n",
       "0                      none                   keep-all   0.68  0.915037   \n",
       "\n",
       "   avg_size  \n",
       "0  1.146271  "
      ]
     },
     "execution_count": 50,
     "metadata": {},
     "output_type": "execute_result"
    }
   ],
   "source": [
    "cp_metrics_df"
   ]
  },
  {
   "cell_type": "code",
   "execution_count": 51,
   "id": "b7fbde55-a0a1-47e4-9af6-fe4a17fa8c61",
   "metadata": {
    "execution": {
     "iopub.execute_input": "2025-08-05T15:43:35.257496Z",
     "iopub.status.busy": "2025-08-05T15:43:35.256800Z",
     "iopub.status.idle": "2025-08-05T15:43:35.262268Z",
     "shell.execute_reply": "2025-08-05T15:43:35.261045Z"
    },
    "papermill": {
     "duration": 0.032563,
     "end_time": "2025-08-05T15:43:35.264351",
     "exception": false,
     "start_time": "2025-08-05T15:43:35.231788",
     "status": "completed"
    },
    "tags": []
   },
   "outputs": [],
   "source": [
    "# Conditional Coverage & looking at subgroups"
   ]
  },
  {
   "cell_type": "code",
   "execution_count": 52,
   "id": "027ae886-68dd-4141-96c7-805a5450e1ef",
   "metadata": {
    "execution": {
     "iopub.execute_input": "2025-08-05T15:43:35.314163Z",
     "iopub.status.busy": "2025-08-05T15:43:35.313643Z",
     "iopub.status.idle": "2025-08-05T15:43:35.614083Z",
     "shell.execute_reply": "2025-08-05T15:43:35.612880Z"
    },
    "papermill": {
     "duration": 0.326596,
     "end_time": "2025-08-05T15:43:35.616016",
     "exception": false,
     "start_time": "2025-08-05T15:43:35.289420",
     "status": "completed"
    },
    "tags": []
   },
   "outputs": [],
   "source": [
    "from fairness_multiverse.conformal import build_cp_groups\n",
    "\n",
    "cp_groups_df = build_cp_groups(pred_sets, y_true, X_test.index, org_test)\n",
    "#needs universe_id and setting"
   ]
  },
  {
   "cell_type": "code",
   "execution_count": 53,
   "id": "6cbdab96-b2b2-45af-ad54-d0516db2e28d",
   "metadata": {
    "execution": {
     "iopub.execute_input": "2025-08-05T15:43:35.666347Z",
     "iopub.status.busy": "2025-08-05T15:43:35.665408Z",
     "iopub.status.idle": "2025-08-05T15:43:37.330525Z",
     "shell.execute_reply": "2025-08-05T15:43:37.329650Z"
    },
    "papermill": {
     "duration": 1.6913,
     "end_time": "2025-08-05T15:43:37.332532",
     "exception": false,
     "start_time": "2025-08-05T15:43:35.641232",
     "status": "completed"
    },
    "tags": []
   },
   "outputs": [],
   "source": [
    "# Define covered = 1 if true_label is in the predicted set\n",
    "cp_groups_df['covered'] = cp_groups_df.apply(\n",
    "    lambda r: int(r['true_label'] in r['pred_set']),\n",
    "    axis=1\n",
    ")"
   ]
  },
  {
   "cell_type": "code",
   "execution_count": 54,
   "id": "338ff529-1a6b-4b87-a931-8e4788d52aad",
   "metadata": {
    "execution": {
     "iopub.execute_input": "2025-08-05T15:43:37.377971Z",
     "iopub.status.busy": "2025-08-05T15:43:37.377427Z",
     "iopub.status.idle": "2025-08-05T15:43:37.382166Z",
     "shell.execute_reply": "2025-08-05T15:43:37.381280Z"
    },
    "papermill": {
     "duration": 0.028438,
     "end_time": "2025-08-05T15:43:37.383615",
     "exception": false,
     "start_time": "2025-08-05T15:43:37.355177",
     "status": "completed"
    },
    "tags": []
   },
   "outputs": [],
   "source": [
    "#cp_groups_df"
   ]
  },
  {
   "cell_type": "code",
   "execution_count": 55,
   "id": "90032e27-66df-4540-9169-4e89cfbaa758",
   "metadata": {
    "execution": {
     "iopub.execute_input": "2025-08-05T15:43:37.414338Z",
     "iopub.status.busy": "2025-08-05T15:43:37.413598Z",
     "iopub.status.idle": "2025-08-05T15:43:37.426894Z",
     "shell.execute_reply": "2025-08-05T15:43:37.424419Z"
    },
    "papermill": {
     "duration": 0.033269,
     "end_time": "2025-08-05T15:43:37.428994",
     "exception": false,
     "start_time": "2025-08-05T15:43:37.395725",
     "status": "completed"
    },
    "tags": []
   },
   "outputs": [],
   "source": [
    "subgroups = ['frau1','nongerman','nongerman_male','nongerman_female']\n",
    "\n",
    "# Conditional coverage for subgroup==1\n",
    "cond_coverage = {\n",
    "    g: cp_groups_df.loc[cp_groups_df[g]==1, 'covered'].mean()\n",
    "    for g in subgroups\n",
    "}"
   ]
  },
  {
   "cell_type": "code",
   "execution_count": 56,
   "id": "1e348fb1-b9c3-45bc-ba23-f016827a7e0d",
   "metadata": {
    "execution": {
     "iopub.execute_input": "2025-08-05T15:43:37.476219Z",
     "iopub.status.busy": "2025-08-05T15:43:37.475475Z",
     "iopub.status.idle": "2025-08-05T15:43:37.483100Z",
     "shell.execute_reply": "2025-08-05T15:43:37.481932Z"
    },
    "papermill": {
     "duration": 0.033794,
     "end_time": "2025-08-05T15:43:37.485839",
     "exception": false,
     "start_time": "2025-08-05T15:43:37.452045",
     "status": "completed"
    },
    "tags": []
   },
   "outputs": [
    {
     "data": {
      "text/plain": [
       "{'frau1': 0.9097722064968324,\n",
       " 'nongerman': 0.9069219109639027,\n",
       " 'nongerman_male': 0.924705034675313,\n",
       " 'nongerman_female': 0.8774962742175857}"
      ]
     },
     "execution_count": 56,
     "metadata": {},
     "output_type": "execute_result"
    }
   ],
   "source": [
    "cond_coverage"
   ]
  },
  {
   "cell_type": "code",
   "execution_count": 57,
   "id": "f5093324-c3dd-4d63-bc4c-8d945e5c8bbb",
   "metadata": {
    "execution": {
     "iopub.execute_input": "2025-08-05T15:43:37.535445Z",
     "iopub.status.busy": "2025-08-05T15:43:37.534426Z",
     "iopub.status.idle": "2025-08-05T15:43:37.542798Z",
     "shell.execute_reply": "2025-08-05T15:43:37.541301Z"
    },
    "papermill": {
     "duration": 0.033829,
     "end_time": "2025-08-05T15:43:37.544354",
     "exception": false,
     "start_time": "2025-08-05T15:43:37.510525",
     "status": "completed"
    },
    "tags": []
   },
   "outputs": [],
   "source": [
    "for subgroup, cov in cond_coverage.items():\n",
    "    cp_metrics_df[f\"cov_{subgroup}\"] = cov"
   ]
  },
  {
   "cell_type": "code",
   "execution_count": 58,
   "id": "6e872e10-dbe5-49e8-b554-5030c98ff75d",
   "metadata": {
    "execution": {
     "iopub.execute_input": "2025-08-05T15:43:37.569526Z",
     "iopub.status.busy": "2025-08-05T15:43:37.569257Z",
     "iopub.status.idle": "2025-08-05T15:43:37.605372Z",
     "shell.execute_reply": "2025-08-05T15:43:37.604212Z"
    },
    "papermill": {
     "duration": 0.05102,
     "end_time": "2025-08-05T15:43:37.607301",
     "exception": false,
     "start_time": "2025-08-05T15:43:37.556281",
     "status": "completed"
    },
    "tags": []
   },
   "outputs": [
    {
     "data": {
      "text/html": [
       "<div>\n",
       "<style scoped>\n",
       "    .dataframe tbody tr th:only-of-type {\n",
       "        vertical-align: middle;\n",
       "    }\n",
       "\n",
       "    .dataframe tbody tr th {\n",
       "        vertical-align: top;\n",
       "    }\n",
       "\n",
       "    .dataframe thead th {\n",
       "        text-align: right;\n",
       "    }\n",
       "</style>\n",
       "<table border=\"1\" class=\"dataframe\">\n",
       "  <thead>\n",
       "    <tr style=\"text-align: right;\">\n",
       "      <th></th>\n",
       "      <th>universe_id</th>\n",
       "      <th>universe_training_year</th>\n",
       "      <th>universe_training_size</th>\n",
       "      <th>universe_scale</th>\n",
       "      <th>universe_model</th>\n",
       "      <th>universe_exclude_features</th>\n",
       "      <th>universe_exclude_subgroups</th>\n",
       "      <th>q_hat</th>\n",
       "      <th>coverage</th>\n",
       "      <th>avg_size</th>\n",
       "      <th>cov_frau1</th>\n",
       "      <th>cov_nongerman</th>\n",
       "      <th>cov_nongerman_male</th>\n",
       "      <th>cov_nongerman_female</th>\n",
       "    </tr>\n",
       "  </thead>\n",
       "  <tbody>\n",
       "    <tr>\n",
       "      <th>0</th>\n",
       "      <td>00fd2ec902beaeb4c7f257259a9c67d7</td>\n",
       "      <td>2012_14</td>\n",
       "      <td>5k</td>\n",
       "      <td>do-not-scale</td>\n",
       "      <td>rf</td>\n",
       "      <td>none</td>\n",
       "      <td>keep-all</td>\n",
       "      <td>0.68</td>\n",
       "      <td>0.915037</td>\n",
       "      <td>1.146271</td>\n",
       "      <td>0.909772</td>\n",
       "      <td>0.906922</td>\n",
       "      <td>0.924705</td>\n",
       "      <td>0.877496</td>\n",
       "    </tr>\n",
       "  </tbody>\n",
       "</table>\n",
       "</div>"
      ],
      "text/plain": [
       "                        universe_id universe_training_year  \\\n",
       "0  00fd2ec902beaeb4c7f257259a9c67d7                2012_14   \n",
       "\n",
       "  universe_training_size universe_scale universe_model  \\\n",
       "0                     5k   do-not-scale             rf   \n",
       "\n",
       "  universe_exclude_features universe_exclude_subgroups  q_hat  coverage  \\\n",
       "0                      none                   keep-all   0.68  0.915037   \n",
       "\n",
       "   avg_size  cov_frau1  cov_nongerman  cov_nongerman_male  \\\n",
       "0  1.146271   0.909772       0.906922            0.924705   \n",
       "\n",
       "   cov_nongerman_female  \n",
       "0              0.877496  "
      ]
     },
     "execution_count": 58,
     "metadata": {},
     "output_type": "execute_result"
    }
   ],
   "source": [
    "cp_metrics_df"
   ]
  },
  {
   "cell_type": "markdown",
   "id": "33774451",
   "metadata": {
    "papermill": {
     "duration": 0.026004,
     "end_time": "2025-08-05T15:43:37.660463",
     "exception": false,
     "start_time": "2025-08-05T15:43:37.634459",
     "status": "completed"
    },
    "tags": []
   },
   "source": [
    "# (Fairness) Metrics"
   ]
  },
  {
   "cell_type": "code",
   "execution_count": 59,
   "id": "debc5d62",
   "metadata": {
    "execution": {
     "iopub.execute_input": "2025-08-05T15:43:37.711819Z",
     "iopub.status.busy": "2025-08-05T15:43:37.711339Z",
     "iopub.status.idle": "2025-08-05T15:43:37.733473Z",
     "shell.execute_reply": "2025-08-05T15:43:37.732436Z"
    },
    "papermill": {
     "duration": 0.050056,
     "end_time": "2025-08-05T15:43:37.735583",
     "exception": false,
     "start_time": "2025-08-05T15:43:37.685527",
     "status": "completed"
    },
    "tags": []
   },
   "outputs": [],
   "source": [
    "# do I need to include maxdeutsch1.missing?\n",
    "\n",
    "import numpy as np\n",
    "\n",
    "colname_to_bin = \"maxdeutsch1\"\n",
    "majority_value = org_train[colname_to_bin].mode()[0]\n",
    "\n",
    "org_test[\"majmin\"] = np.where(org_test[colname_to_bin] == majority_value, \"majority\", \"minority\")"
   ]
  },
  {
   "cell_type": "code",
   "execution_count": 60,
   "id": "06a50de5",
   "metadata": {
    "execution": {
     "iopub.execute_input": "2025-08-05T15:43:37.788287Z",
     "iopub.status.busy": "2025-08-05T15:43:37.787590Z",
     "iopub.status.idle": "2025-08-05T15:43:40.396659Z",
     "shell.execute_reply": "2025-08-05T15:43:40.395730Z"
    },
    "papermill": {
     "duration": 2.637713,
     "end_time": "2025-08-05T15:43:40.398751",
     "exception": false,
     "start_time": "2025-08-05T15:43:37.761038",
     "status": "completed"
    },
    "tags": []
   },
   "outputs": [],
   "source": [
    "example_universe = universe.copy()\n",
    "example_universe[\"cutoff\"] = example_universe[\"cutoff\"][0]\n",
    "example_universe[\"eval_fairness_grouping\"] = example_universe[\"eval_fairness_grouping\"][0]\n",
    "fairness_dict, metric_frame = universe_analysis.compute_metrics(\n",
    "    example_universe,\n",
    "    y_pred_prob=probs_test,\n",
    "    y_test=y_true,\n",
    "    org_test=org_test,\n",
    ")"
   ]
  },
  {
   "cell_type": "markdown",
   "id": "f95d4e02",
   "metadata": {
    "papermill": {
     "duration": 0.020518,
     "end_time": "2025-08-05T15:43:40.440972",
     "exception": false,
     "start_time": "2025-08-05T15:43:40.420454",
     "status": "completed"
    },
    "tags": []
   },
   "source": [
    "# Overall"
   ]
  },
  {
   "cell_type": "markdown",
   "id": "bdee4871",
   "metadata": {
    "papermill": {
     "duration": 0.021924,
     "end_time": "2025-08-05T15:43:40.483235",
     "exception": false,
     "start_time": "2025-08-05T15:43:40.461311",
     "status": "completed"
    },
    "tags": []
   },
   "source": [
    "Fairness\n",
    "Main fairness target: Equalized Odds. Seems to be a better fit than equal opportunity, since we're not only interested in Y = 1. Seems to be a better fit than demographic parity, since we also care about accuracy, not just equal distribution of preds.\n",
    "\n",
    "Pick column for computation of fairness metrics\n",
    "\n",
    "Performance\n",
    "Overall performance measures, most interesting in relation to the measures split by group below"
   ]
  },
  {
   "cell_type": "code",
   "execution_count": 61,
   "id": "c4e067c6",
   "metadata": {
    "execution": {
     "iopub.execute_input": "2025-08-05T15:43:40.523190Z",
     "iopub.status.busy": "2025-08-05T15:43:40.522463Z",
     "iopub.status.idle": "2025-08-05T15:43:40.529628Z",
     "shell.execute_reply": "2025-08-05T15:43:40.528921Z"
    },
    "papermill": {
     "duration": 0.02218,
     "end_time": "2025-08-05T15:43:40.530850",
     "exception": false,
     "start_time": "2025-08-05T15:43:40.508670",
     "status": "completed"
    },
    "tags": []
   },
   "outputs": [
    {
     "data": {
      "text/plain": [
       "accuracy                   0.203233\n",
       "balanced accuracy          0.536618\n",
       "f1                         0.240807\n",
       "precision                  0.137170\n",
       "false positive rate        0.911818\n",
       "false negative rate        0.014946\n",
       "selection rate             0.921213\n",
       "count                  89710.000000\n",
       "dtype: float64"
      ]
     },
     "execution_count": 61,
     "metadata": {},
     "output_type": "execute_result"
    }
   ],
   "source": [
    "metric_frame.overall"
   ]
  },
  {
   "cell_type": "markdown",
   "id": "e968fe9d",
   "metadata": {
    "papermill": {
     "duration": 0.011404,
     "end_time": "2025-08-05T15:43:40.555186",
     "exception": false,
     "start_time": "2025-08-05T15:43:40.543782",
     "status": "completed"
    },
    "tags": []
   },
   "source": [
    "By Group"
   ]
  },
  {
   "cell_type": "code",
   "execution_count": 62,
   "id": "ec325bce",
   "metadata": {
    "execution": {
     "iopub.execute_input": "2025-08-05T15:43:40.578739Z",
     "iopub.status.busy": "2025-08-05T15:43:40.578191Z",
     "iopub.status.idle": "2025-08-05T15:43:40.589843Z",
     "shell.execute_reply": "2025-08-05T15:43:40.589137Z"
    },
    "papermill": {
     "duration": 0.02491,
     "end_time": "2025-08-05T15:43:40.591338",
     "exception": false,
     "start_time": "2025-08-05T15:43:40.566428",
     "status": "completed"
    },
    "tags": []
   },
   "outputs": [
    {
     "data": {
      "text/html": [
       "<div>\n",
       "<style scoped>\n",
       "    .dataframe tbody tr th:only-of-type {\n",
       "        vertical-align: middle;\n",
       "    }\n",
       "\n",
       "    .dataframe tbody tr th {\n",
       "        vertical-align: top;\n",
       "    }\n",
       "\n",
       "    .dataframe thead th {\n",
       "        text-align: right;\n",
       "    }\n",
       "</style>\n",
       "<table border=\"1\" class=\"dataframe\">\n",
       "  <thead>\n",
       "    <tr style=\"text-align: right;\">\n",
       "      <th></th>\n",
       "      <th>accuracy</th>\n",
       "      <th>balanced accuracy</th>\n",
       "      <th>f1</th>\n",
       "      <th>precision</th>\n",
       "      <th>false positive rate</th>\n",
       "      <th>false negative rate</th>\n",
       "      <th>selection rate</th>\n",
       "      <th>count</th>\n",
       "    </tr>\n",
       "    <tr>\n",
       "      <th>majmin</th>\n",
       "      <th></th>\n",
       "      <th></th>\n",
       "      <th></th>\n",
       "      <th></th>\n",
       "      <th></th>\n",
       "      <th></th>\n",
       "      <th></th>\n",
       "      <th></th>\n",
       "    </tr>\n",
       "  </thead>\n",
       "  <tbody>\n",
       "    <tr>\n",
       "      <th>majority</th>\n",
       "      <td>0.202689</td>\n",
       "      <td>0.536704</td>\n",
       "      <td>0.247202</td>\n",
       "      <td>0.141220</td>\n",
       "      <td>0.917291</td>\n",
       "      <td>0.00930</td>\n",
       "      <td>0.926991</td>\n",
       "      <td>69170.0</td>\n",
       "    </tr>\n",
       "    <tr>\n",
       "      <th>minority</th>\n",
       "      <td>0.205063</td>\n",
       "      <td>0.534761</td>\n",
       "      <td>0.218382</td>\n",
       "      <td>0.123151</td>\n",
       "      <td>0.893738</td>\n",
       "      <td>0.03674</td>\n",
       "      <td>0.901753</td>\n",
       "      <td>20540.0</td>\n",
       "    </tr>\n",
       "  </tbody>\n",
       "</table>\n",
       "</div>"
      ],
      "text/plain": [
       "          accuracy  balanced accuracy        f1  precision  \\\n",
       "majmin                                                       \n",
       "majority  0.202689           0.536704  0.247202   0.141220   \n",
       "minority  0.205063           0.534761  0.218382   0.123151   \n",
       "\n",
       "          false positive rate  false negative rate  selection rate    count  \n",
       "majmin                                                                       \n",
       "majority             0.917291              0.00930        0.926991  69170.0  \n",
       "minority             0.893738              0.03674        0.901753  20540.0  "
      ]
     },
     "execution_count": 62,
     "metadata": {},
     "output_type": "execute_result"
    }
   ],
   "source": [
    "metric_frame.by_group"
   ]
  },
  {
   "cell_type": "code",
   "execution_count": 63,
   "id": "a9ddbe63",
   "metadata": {
    "execution": {
     "iopub.execute_input": "2025-08-05T15:43:40.617026Z",
     "iopub.status.busy": "2025-08-05T15:43:40.616537Z",
     "iopub.status.idle": "2025-08-05T15:43:42.963369Z",
     "shell.execute_reply": "2025-08-05T15:43:42.962173Z"
    },
    "papermill": {
     "duration": 2.361073,
     "end_time": "2025-08-05T15:43:42.965488",
     "exception": false,
     "start_time": "2025-08-05T15:43:40.604415",
     "status": "completed"
    },
    "tags": []
   },
   "outputs": [
    {
     "data": {
      "text/plain": [
       "array([[<Axes: title={'center': 'accuracy'}, xlabel='majmin'>,\n",
       "        <Axes: title={'center': 'balanced accuracy'}, xlabel='majmin'>,\n",
       "        <Axes: title={'center': 'f1'}, xlabel='majmin'>],\n",
       "       [<Axes: title={'center': 'precision'}, xlabel='majmin'>,\n",
       "        <Axes: title={'center': 'false positive rate'}, xlabel='majmin'>,\n",
       "        <Axes: title={'center': 'false negative rate'}, xlabel='majmin'>],\n",
       "       [<Axes: title={'center': 'selection rate'}, xlabel='majmin'>,\n",
       "        <Axes: title={'center': 'count'}, xlabel='majmin'>,\n",
       "        <Axes: xlabel='majmin'>]], dtype=object)"
      ]
     },
     "execution_count": 63,
     "metadata": {},
     "output_type": "execute_result"
    },
    {
     "data": {
      "image/png": "[encoded data removed]",
      "text/plain": [
       "<Figure size 1200x800 with 9 Axes>"
      ]
     },
     "metadata": {},
     "output_type": "display_data"
    }
   ],
   "source": [
    "# In a graphic\n",
    "metric_frame.by_group.plot.bar(\n",
    "    subplots=True,\n",
    "    layout=[3, 3],\n",
    "    legend=False,\n",
    "    figsize=[12, 8],\n",
    "    title=\"Show all metrics\",\n",
    ")"
   ]
  },
  {
   "cell_type": "markdown",
   "id": "f57a0bac",
   "metadata": {
    "papermill": {
     "duration": 0.027166,
     "end_time": "2025-08-05T15:43:43.024384",
     "exception": false,
     "start_time": "2025-08-05T15:43:42.997218",
     "status": "completed"
    },
    "tags": []
   },
   "source": [
    "# Final Output"
   ]
  },
  {
   "cell_type": "code",
   "execution_count": 64,
   "id": "96d280a3",
   "metadata": {
    "execution": {
     "iopub.execute_input": "2025-08-05T15:43:43.070566Z",
     "iopub.status.busy": "2025-08-05T15:43:43.069721Z",
     "iopub.status.idle": "2025-08-05T15:43:43.080043Z",
     "shell.execute_reply": "2025-08-05T15:43:43.079144Z"
    },
    "papermill": {
     "duration": 0.035021,
     "end_time": "2025-08-05T15:43:43.081580",
     "exception": false,
     "start_time": "2025-08-05T15:43:43.046559",
     "status": "completed"
    },
    "tags": []
   },
   "outputs": [
    {
     "data": {
      "text/plain": [
       "4"
      ]
     },
     "execution_count": 64,
     "metadata": {},
     "output_type": "execute_result"
    }
   ],
   "source": [
    "sub_universes = universe_analysis.generate_sub_universes()\n",
    "len(sub_universes)"
   ]
  },
  {
   "cell_type": "code",
   "execution_count": 65,
   "id": "92adf7ba",
   "metadata": {
    "execution": {
     "iopub.execute_input": "2025-08-05T15:43:43.129990Z",
     "iopub.status.busy": "2025-08-05T15:43:43.129198Z",
     "iopub.status.idle": "2025-08-05T15:43:43.135170Z",
     "shell.execute_reply": "2025-08-05T15:43:43.134219Z"
    },
    "papermill": {
     "duration": 0.033121,
     "end_time": "2025-08-05T15:43:43.137346",
     "exception": false,
     "start_time": "2025-08-05T15:43:43.104225",
     "status": "completed"
    },
    "tags": []
   },
   "outputs": [],
   "source": [
    "def filter_sub_universe_data(sub_universe, org_test):\n",
    "    # Keep all rows — no filtering\n",
    "    keep_rows_mask = np.ones(org_test.shape[0], dtype=bool)\n",
    "\n",
    "    print(f\"[INFO] Keeping all rows: {keep_rows_mask.sum()} rows retained.\")\n",
    "    return keep_rows_mask"
   ]
  },
  {
   "cell_type": "code",
   "execution_count": 66,
   "id": "4a759155",
   "metadata": {
    "execution": {
     "iopub.execute_input": "2025-08-05T15:43:43.194428Z",
     "iopub.status.busy": "2025-08-05T15:43:43.194002Z",
     "iopub.status.idle": "2025-08-05T15:43:53.849748Z",
     "shell.execute_reply": "2025-08-05T15:43:53.848696Z"
    },
    "papermill": {
     "duration": 10.685609,
     "end_time": "2025-08-05T15:43:53.851534",
     "exception": false,
     "start_time": "2025-08-05T15:43:43.165925",
     "status": "completed"
    },
    "tags": []
   },
   "outputs": [
    {
     "name": "stdout",
     "output_type": "stream",
     "text": [
      "Stopping execution_time clock.\n",
      "[INFO] Keeping all rows: 89710 rows retained.\n"
     ]
    },
    {
     "name": "stdout",
     "output_type": "stream",
     "text": [
      "[INFO] Keeping all rows: 89710 rows retained.\n"
     ]
    },
    {
     "name": "stdout",
     "output_type": "stream",
     "text": [
      "[INFO] Keeping all rows: 89710 rows retained.\n"
     ]
    },
    {
     "name": "stdout",
     "output_type": "stream",
     "text": [
      "[INFO] Keeping all rows: 89710 rows retained.\n"
     ]
    },
    {
     "data": {
      "text/html": [
       "<div>\n",
       "<style scoped>\n",
       "    .dataframe tbody tr th:only-of-type {\n",
       "        vertical-align: middle;\n",
       "    }\n",
       "\n",
       "    .dataframe tbody tr th {\n",
       "        vertical-align: top;\n",
       "    }\n",
       "\n",
       "    .dataframe thead th {\n",
       "        text-align: right;\n",
       "    }\n",
       "</style>\n",
       "<table border=\"1\" class=\"dataframe\">\n",
       "  <thead>\n",
       "    <tr style=\"text-align: right;\">\n",
       "      <th></th>\n",
       "      <th>run_no</th>\n",
       "      <th>universe_id</th>\n",
       "      <th>universe_settings</th>\n",
       "      <th>execution_time</th>\n",
       "      <th>test_size_n</th>\n",
       "      <th>test_size_frac</th>\n",
       "      <th>fair_main_equalized_odds_difference</th>\n",
       "      <th>fair_main_equalized_odds_ratio</th>\n",
       "      <th>fair_main_demographic_parity_difference</th>\n",
       "      <th>fair_main_demographic_parity_ratio</th>\n",
       "      <th>...</th>\n",
       "      <th>perf_grp_precision_0</th>\n",
       "      <th>perf_grp_precision_1</th>\n",
       "      <th>perf_grp_false positive rate_0</th>\n",
       "      <th>perf_grp_false positive rate_1</th>\n",
       "      <th>perf_grp_false negative rate_0</th>\n",
       "      <th>perf_grp_false negative rate_1</th>\n",
       "      <th>perf_grp_selection rate_0</th>\n",
       "      <th>perf_grp_selection rate_1</th>\n",
       "      <th>perf_grp_count_0</th>\n",
       "      <th>perf_grp_count_1</th>\n",
       "    </tr>\n",
       "  </thead>\n",
       "  <tbody>\n",
       "    <tr>\n",
       "      <th>0</th>\n",
       "      <td>15</td>\n",
       "      <td>00fd2ec902beaeb4c7f257259a9c67d7</td>\n",
       "      <td>{\"cutoff\": \"quantile_0.1\", \"eval_fairness_grou...</td>\n",
       "      <td>34.619306</td>\n",
       "      <td>89710</td>\n",
       "      <td>1.0</td>\n",
       "      <td>0.027440</td>\n",
       "      <td>0.972302</td>\n",
       "      <td>0.025239</td>\n",
       "      <td>0.972773</td>\n",
       "      <td>...</td>\n",
       "      <td>NaN</td>\n",
       "      <td>NaN</td>\n",
       "      <td>NaN</td>\n",
       "      <td>NaN</td>\n",
       "      <td>NaN</td>\n",
       "      <td>NaN</td>\n",
       "      <td>NaN</td>\n",
       "      <td>NaN</td>\n",
       "      <td>NaN</td>\n",
       "      <td>NaN</td>\n",
       "    </tr>\n",
       "    <tr>\n",
       "      <th>0</th>\n",
       "      <td>15</td>\n",
       "      <td>00fd2ec902beaeb4c7f257259a9c67d7</td>\n",
       "      <td>{\"cutoff\": \"quantile_0.1\", \"eval_fairness_grou...</td>\n",
       "      <td>34.619306</td>\n",
       "      <td>89710</td>\n",
       "      <td>1.0</td>\n",
       "      <td>0.027440</td>\n",
       "      <td>0.972302</td>\n",
       "      <td>0.025239</td>\n",
       "      <td>0.972773</td>\n",
       "      <td>...</td>\n",
       "      <td>0.123151</td>\n",
       "      <td>0.141220</td>\n",
       "      <td>0.893738</td>\n",
       "      <td>0.917291</td>\n",
       "      <td>0.036740</td>\n",
       "      <td>0.00930</td>\n",
       "      <td>0.901753</td>\n",
       "      <td>0.926991</td>\n",
       "      <td>20540.0</td>\n",
       "      <td>69170.0</td>\n",
       "    </tr>\n",
       "    <tr>\n",
       "      <th>0</th>\n",
       "      <td>15</td>\n",
       "      <td>00fd2ec902beaeb4c7f257259a9c67d7</td>\n",
       "      <td>{\"cutoff\": \"quantile_0.25\", \"eval_fairness_gro...</td>\n",
       "      <td>34.619306</td>\n",
       "      <td>89710</td>\n",
       "      <td>1.0</td>\n",
       "      <td>0.088162</td>\n",
       "      <td>0.908265</td>\n",
       "      <td>0.064802</td>\n",
       "      <td>0.919409</td>\n",
       "      <td>...</td>\n",
       "      <td>NaN</td>\n",
       "      <td>NaN</td>\n",
       "      <td>NaN</td>\n",
       "      <td>NaN</td>\n",
       "      <td>NaN</td>\n",
       "      <td>NaN</td>\n",
       "      <td>NaN</td>\n",
       "      <td>NaN</td>\n",
       "      <td>NaN</td>\n",
       "      <td>NaN</td>\n",
       "    </tr>\n",
       "    <tr>\n",
       "      <th>0</th>\n",
       "      <td>15</td>\n",
       "      <td>00fd2ec902beaeb4c7f257259a9c67d7</td>\n",
       "      <td>{\"cutoff\": \"quantile_0.25\", \"eval_fairness_gro...</td>\n",
       "      <td>34.619306</td>\n",
       "      <td>89710</td>\n",
       "      <td>1.0</td>\n",
       "      <td>0.088162</td>\n",
       "      <td>0.908265</td>\n",
       "      <td>0.064802</td>\n",
       "      <td>0.919409</td>\n",
       "      <td>...</td>\n",
       "      <td>0.136121</td>\n",
       "      <td>0.157932</td>\n",
       "      <td>0.721880</td>\n",
       "      <td>0.780193</td>\n",
       "      <td>0.127111</td>\n",
       "      <td>0.03895</td>\n",
       "      <td>0.739289</td>\n",
       "      <td>0.804091</td>\n",
       "      <td>20540.0</td>\n",
       "      <td>69170.0</td>\n",
       "    </tr>\n",
       "  </tbody>\n",
       "</table>\n",
       "<p>4 rows × 50 columns</p>\n",
       "</div>"
      ],
      "text/plain": [
       "  run_no                       universe_id  \\\n",
       "0     15  00fd2ec902beaeb4c7f257259a9c67d7   \n",
       "0     15  00fd2ec902beaeb4c7f257259a9c67d7   \n",
       "0     15  00fd2ec902beaeb4c7f257259a9c67d7   \n",
       "0     15  00fd2ec902beaeb4c7f257259a9c67d7   \n",
       "\n",
       "                                   universe_settings  execution_time  \\\n",
       "0  {\"cutoff\": \"quantile_0.1\", \"eval_fairness_grou...       34.619306   \n",
       "0  {\"cutoff\": \"quantile_0.1\", \"eval_fairness_grou...       34.619306   \n",
       "0  {\"cutoff\": \"quantile_0.25\", \"eval_fairness_gro...       34.619306   \n",
       "0  {\"cutoff\": \"quantile_0.25\", \"eval_fairness_gro...       34.619306   \n",
       "\n",
       "   test_size_n  test_size_frac  fair_main_equalized_odds_difference  \\\n",
       "0        89710             1.0                             0.027440   \n",
       "0        89710             1.0                             0.027440   \n",
       "0        89710             1.0                             0.088162   \n",
       "0        89710             1.0                             0.088162   \n",
       "\n",
       "   fair_main_equalized_odds_ratio  fair_main_demographic_parity_difference  \\\n",
       "0                        0.972302                                 0.025239   \n",
       "0                        0.972302                                 0.025239   \n",
       "0                        0.908265                                 0.064802   \n",
       "0                        0.908265                                 0.064802   \n",
       "\n",
       "   fair_main_demographic_parity_ratio  ...  perf_grp_precision_0  \\\n",
       "0                            0.972773  ...                   NaN   \n",
       "0                            0.972773  ...              0.123151   \n",
       "0                            0.919409  ...                   NaN   \n",
       "0                            0.919409  ...              0.136121   \n",
       "\n",
       "   perf_grp_precision_1  perf_grp_false positive rate_0  \\\n",
       "0                   NaN                             NaN   \n",
       "0              0.141220                        0.893738   \n",
       "0                   NaN                             NaN   \n",
       "0              0.157932                        0.721880   \n",
       "\n",
       "   perf_grp_false positive rate_1  perf_grp_false negative rate_0  \\\n",
       "0                             NaN                             NaN   \n",
       "0                        0.917291                        0.036740   \n",
       "0                             NaN                             NaN   \n",
       "0                        0.780193                        0.127111   \n",
       "\n",
       "   perf_grp_false negative rate_1  perf_grp_selection rate_0  \\\n",
       "0                             NaN                        NaN   \n",
       "0                         0.00930                   0.901753   \n",
       "0                             NaN                        NaN   \n",
       "0                         0.03895                   0.739289   \n",
       "\n",
       "   perf_grp_selection rate_1  perf_grp_count_0  perf_grp_count_1  \n",
       "0                        NaN               NaN               NaN  \n",
       "0                   0.926991           20540.0           69170.0  \n",
       "0                        NaN               NaN               NaN  \n",
       "0                   0.804091           20540.0           69170.0  \n",
       "\n",
       "[4 rows x 50 columns]"
      ]
     },
     "execution_count": 66,
     "metadata": {},
     "output_type": "execute_result"
    }
   ],
   "source": [
    "final_output = universe_analysis.generate_final_output(\n",
    "    y_pred_prob=probs_test,\n",
    "    y_test=y_true,\n",
    "    org_test=org_test,\n",
    "    filter_data=filter_sub_universe_data,\n",
    "    cp_metrics_df=cp_metrics_df,\n",
    "    save=True,\n",
    ")\n",
    "final_output"
   ]
  }
 ],
 "metadata": {
  "celltoolbar": "Tags",
  "kernelspec": {
   "display_name": "Python (CMA Fairness)",
   "language": "python",
   "name": "cma_fair_env"
  },
  "language_info": {
   "codemirror_mode": {
    "name": "ipython",
    "version": 3
   },
   "file_extension": ".py",
   "mimetype": "text/x-python",
   "name": "python",
   "nbconvert_exporter": "python",
   "pygments_lexer": "ipython3",
   "version": "3.10.12"
  },
  "papermill": {
   "default_parameters": {},
   "duration": 49.48379,
   "end_time": "2025-08-05T15:43:54.708161",
   "environment_variables": {},
   "exception": null,
   "input_path": "universe_analysis.ipynb",
   "output_path": "output/runs/15/notebooks/m_15-00fd2ec902beaeb4c7f257259a9c67d7.ipynb",
   "parameters": {
    "output_dir": "output",
    "run_no": "15",
    "seed": "2023",
    "universe": "{\"cutoff\": [\"quantile_0.1\", \"quantile_0.25\"], \"eval_fairness_grouping\": [\"majority-minority\", \"nationality-all\"], \"exclude_features\": \"none\", \"exclude_subgroups\": \"keep-all\", \"model\": \"rf\", \"scale\": \"do-not-scale\", \"training_size\": \"5k\", \"training_year\": \"2012_14\"}",
    "universe_id": "00fd2ec902beaeb4c7f257259a9c67d7"
   },
   "start_time": "2025-08-05T15:43:05.224371",
   "version": "2.6.0"
  }
 },
 "nbformat": 4,
 "nbformat_minor": 5
}