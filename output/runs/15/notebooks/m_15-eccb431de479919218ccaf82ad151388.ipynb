{
 "cells": [
  {
   "cell_type": "code",
   "execution_count": 1,
   "id": "f159f837-637b-42ba-96b5-ec9a68c44524",
   "metadata": {
    "execution": {
     "iopub.execute_input": "2025-08-05T15:57:06.928172Z",
     "iopub.status.busy": "2025-08-05T15:57:06.927340Z",
     "iopub.status.idle": "2025-08-05T15:57:06.944102Z",
     "shell.execute_reply": "2025-08-05T15:57:06.940927Z"
    },
    "papermill": {
     "duration": 0.034638,
     "end_time": "2025-08-05T15:57:06.945906",
     "exception": false,
     "start_time": "2025-08-05T15:57:06.911268",
     "status": "completed"
    },
    "tags": []
   },
   "outputs": [
    {
     "name": "stdout",
     "output_type": "stream",
     "text": [
      "/dss/dsshome1/0C/ra93lal2/cma/CMA_Fairness_v2\n"
     ]
    },
    {
     "name": "stderr",
     "output_type": "stream",
     "text": [
      "/dss/dsshome1/0C/ra93lal2/.local/share/virtualenvs/CMA_Fairness_v2-3j10GkSs/lib/python3.10/site-packages/IPython/core/magics/osm.py:393: UserWarning: This is now an optional IPython functionality, using bookmarks requires you to install the `pickleshare` library.\n",
      "  bkms = self.shell.db.get('bookmarks', {})\n",
      "/dss/dsshome1/0C/ra93lal2/.local/share/virtualenvs/CMA_Fairness_v2-3j10GkSs/lib/python3.10/site-packages/IPython/core/magics/osm.py:417: UserWarning: This is now an optional IPython functionality, setting dhist requires you to install the `pickleshare` library.\n",
      "  self.shell.db['dhist'] = compress_dhist(dhist)[-100:]\n"
     ]
    }
   ],
   "source": [
    "%cd ~/cma/CMA_Fairness_v2"
   ]
  },
  {
   "cell_type": "markdown",
   "id": "de2603b9",
   "metadata": {
    "papermill": {
     "duration": 0.015347,
     "end_time": "2025-08-05T15:57:06.978022",
     "exception": false,
     "start_time": "2025-08-05T15:57:06.962675",
     "status": "completed"
    },
    "tags": []
   },
   "source": [
    "The following cell holds the definition of our parameters, these values can be overriden by rendering the with e.g. the following command:\n",
    "\n",
    "papermill -p alpha 0.2 -p ratio 0.3 universe_analysis.ipynb output/test_run.ipynb"
   ]
  },
  {
   "cell_type": "code",
   "execution_count": 2,
   "id": "a80968a0-40bb-4fa9-85ef-2d5eefb01975",
   "metadata": {
    "execution": {
     "iopub.execute_input": "2025-08-05T15:57:07.009821Z",
     "iopub.status.busy": "2025-08-05T15:57:07.009447Z",
     "iopub.status.idle": "2025-08-05T15:57:07.013780Z",
     "shell.execute_reply": "2025-08-05T15:57:07.013063Z"
    },
    "papermill": {
     "duration": 0.022309,
     "end_time": "2025-08-05T15:57:07.015406",
     "exception": false,
     "start_time": "2025-08-05T15:57:06.993097",
     "status": "completed"
    },
    "tags": []
   },
   "outputs": [
    {
     "name": "stdout",
     "output_type": "stream",
     "text": [
      "Current working directory: /dss/dsshome1/0C/ra93lal2/cma/CMA_Fairness_v2\n"
     ]
    }
   ],
   "source": [
    "import os\n",
    "print(\"Current working directory:\", os.getcwd())"
   ]
  },
  {
   "cell_type": "code",
   "execution_count": 3,
   "id": "2dce4c03",
   "metadata": {
    "execution": {
     "iopub.execute_input": "2025-08-05T15:57:07.048889Z",
     "iopub.status.busy": "2025-08-05T15:57:07.048553Z",
     "iopub.status.idle": "2025-08-05T15:57:07.053208Z",
     "shell.execute_reply": "2025-08-05T15:57:07.052548Z"
    },
    "papermill": {
     "duration": 0.022576,
     "end_time": "2025-08-05T15:57:07.054596",
     "exception": false,
     "start_time": "2025-08-05T15:57:07.032020",
     "status": "completed"
    },
    "tags": [
     "parameters"
    ]
   },
   "outputs": [],
   "source": [
    "run_no = 0\n",
    "universe_id = \"test\"\n",
    "universe = {\n",
    "    \"training_size\": \"25k\", # \"25k\", \"5k\", \"1k\"\n",
    "    \"training_year\": \"2014\", # \"2014\", \"2012_14\", \"2010_14\"\n",
    "    \"scale\": \"scale\", # \"scale\", \"do-not-scale\",\n",
    "    \"model\": \"elasticnet\", # \"logreg\", \"penalized_logreg\", \"rf\", \"gbm\", \"elasticnet\"\n",
    "    \"cutoff\": [\"quantile_0.15\", \"quantile_0.30\"],\n",
    "    \"exclude_features\": \"age\", # \"none\", \"nationality\", \"sex\", \"nationality-sex\", \"age\"\n",
    "    \"exclude_subgroups\": \"keep-all\", # \"keep-all\", \"drop-non-german\"\n",
    "    \"eval_fairness_grouping\": [\"majority-minority\", \"nationality-all\"]\n",
    "}\n",
    "\n",
    "output_dir=\"./output\"\n",
    "seed=0"
   ]
  },
  {
   "cell_type": "code",
   "execution_count": 4,
   "id": "b4d28cf7",
   "metadata": {
    "execution": {
     "iopub.execute_input": "2025-08-05T15:57:07.074358Z",
     "iopub.status.busy": "2025-08-05T15:57:07.073826Z",
     "iopub.status.idle": "2025-08-05T15:57:07.077916Z",
     "shell.execute_reply": "2025-08-05T15:57:07.077071Z"
    },
    "papermill": {
     "duration": 0.015149,
     "end_time": "2025-08-05T15:57:07.079276",
     "exception": false,
     "start_time": "2025-08-05T15:57:07.064127",
     "status": "completed"
    },
    "tags": [
     "injected-parameters"
    ]
   },
   "outputs": [],
   "source": [
    "# Parameters\n",
    "universe_id = \"eccb431de479919218ccaf82ad151388\"\n",
    "run_no = \"15\"\n",
    "universe = \"{\\\"cutoff\\\": [\\\"quantile_0.1\\\", \\\"quantile_0.25\\\"], \\\"eval_fairness_grouping\\\": [\\\"majority-minority\\\", \\\"nationality-all\\\"], \\\"exclude_features\\\": \\\"age\\\", \\\"exclude_subgroups\\\": \\\"drop-non-german\\\", \\\"model\\\": \\\"penalized_logreg\\\", \\\"scale\\\": \\\"do-not-scale\\\", \\\"training_size\\\": \\\"5k\\\", \\\"training_year\\\": \\\"2010_14\\\"}\"\n",
    "output_dir = \"output\"\n",
    "seed = \"2023\"\n"
   ]
  },
  {
   "cell_type": "code",
   "execution_count": 5,
   "id": "1650acaf",
   "metadata": {
    "execution": {
     "iopub.execute_input": "2025-08-05T15:57:07.098764Z",
     "iopub.status.busy": "2025-08-05T15:57:07.098426Z",
     "iopub.status.idle": "2025-08-05T15:57:07.102464Z",
     "shell.execute_reply": "2025-08-05T15:57:07.101498Z"
    },
    "papermill": {
     "duration": 0.015484,
     "end_time": "2025-08-05T15:57:07.103693",
     "exception": false,
     "start_time": "2025-08-05T15:57:07.088209",
     "status": "completed"
    },
    "tags": []
   },
   "outputs": [],
   "source": [
    "import json\n",
    "if isinstance(universe, str):\n",
    "    universe = json.loads(universe)"
   ]
  },
  {
   "cell_type": "code",
   "execution_count": 6,
   "id": "16620c48",
   "metadata": {
    "execution": {
     "iopub.execute_input": "2025-08-05T15:57:07.124287Z",
     "iopub.status.busy": "2025-08-05T15:57:07.123956Z",
     "iopub.status.idle": "2025-08-05T15:57:07.152587Z",
     "shell.execute_reply": "2025-08-05T15:57:07.151815Z"
    },
    "papermill": {
     "duration": 0.040025,
     "end_time": "2025-08-05T15:57:07.154025",
     "exception": false,
     "start_time": "2025-08-05T15:57:07.114000",
     "status": "completed"
    },
    "tags": []
   },
   "outputs": [],
   "source": [
    "# Auto-reload the custom package\n",
    "%load_ext autoreload\n",
    "%autoreload 1\n",
    "%aimport fairness_multiverse"
   ]
  },
  {
   "cell_type": "code",
   "execution_count": 7,
   "id": "01c5c9f3",
   "metadata": {
    "execution": {
     "iopub.execute_input": "2025-08-05T15:57:07.173434Z",
     "iopub.status.busy": "2025-08-05T15:57:07.173099Z",
     "iopub.status.idle": "2025-08-05T15:57:09.104885Z",
     "shell.execute_reply": "2025-08-05T15:57:09.103821Z"
    },
    "papermill": {
     "duration": 1.943914,
     "end_time": "2025-08-05T15:57:09.107139",
     "exception": false,
     "start_time": "2025-08-05T15:57:07.163225",
     "status": "completed"
    },
    "tags": []
   },
   "outputs": [],
   "source": [
    "from fairness_multiverse.universe import UniverseAnalysis\n",
    "\n",
    "universe_analysis = UniverseAnalysis(\n",
    "    run_no = run_no,\n",
    "    universe_id = universe_id,\n",
    "    universe = universe,\n",
    "    output_dir=output_dir,\n",
    ")"
   ]
  },
  {
   "cell_type": "code",
   "execution_count": 8,
   "id": "106241f5",
   "metadata": {
    "execution": {
     "iopub.execute_input": "2025-08-05T15:57:09.146862Z",
     "iopub.status.busy": "2025-08-05T15:57:09.146244Z",
     "iopub.status.idle": "2025-08-05T15:57:09.153830Z",
     "shell.execute_reply": "2025-08-05T15:57:09.152797Z"
    },
    "papermill": {
     "duration": 0.029222,
     "end_time": "2025-08-05T15:57:09.155725",
     "exception": false,
     "start_time": "2025-08-05T15:57:09.126503",
     "status": "completed"
    },
    "tags": []
   },
   "outputs": [
    {
     "name": "stdout",
     "output_type": "stream",
     "text": [
      "Using Seed: 2023\n"
     ]
    }
   ],
   "source": [
    "import numpy as np\n",
    "parsed_seed = int(seed)\n",
    "np.random.seed(parsed_seed)\n",
    "print(f\"Using Seed: {parsed_seed}\")"
   ]
  },
  {
   "cell_type": "markdown",
   "id": "e0ebdc57",
   "metadata": {
    "papermill": {
     "duration": 0.02014,
     "end_time": "2025-08-05T15:57:09.195512",
     "exception": false,
     "start_time": "2025-08-05T15:57:09.175372",
     "status": "completed"
    },
    "tags": []
   },
   "source": [
    "# Loading Data"
   ]
  },
  {
   "cell_type": "code",
   "execution_count": 9,
   "id": "f0496b8a",
   "metadata": {
    "execution": {
     "iopub.execute_input": "2025-08-05T15:57:09.235194Z",
     "iopub.status.busy": "2025-08-05T15:57:09.234717Z",
     "iopub.status.idle": "2025-08-05T15:57:21.296853Z",
     "shell.execute_reply": "2025-08-05T15:57:21.295009Z"
    },
    "papermill": {
     "duration": 12.084353,
     "end_time": "2025-08-05T15:57:21.299086",
     "exception": false,
     "start_time": "2025-08-05T15:57:09.214733",
     "status": "completed"
    },
    "tags": []
   },
   "outputs": [
    {
     "name": "stdout",
     "output_type": "stream",
     "text": [
      "Loading SIAB data from cache: data/siab_cached.csv.gz\n"
     ]
    },
    {
     "name": "stdout",
     "output_type": "stream",
     "text": [
      "(643690, 164)\n"
     ]
    }
   ],
   "source": [
    "from pathlib import Path\n",
    "import pandas as pd\n",
    "\n",
    "# File paths\n",
    "raw_file = Path(\"data/raw/siab.csv\")\n",
    "cache_file = Path(\"data/siab_cached.csv.gz\")\n",
    "\n",
    "# Ensure cache directory exists\n",
    "cache_file.parent.mkdir(parents=True, exist_ok=True)\n",
    "\n",
    "# Load with simple caching\n",
    "if cache_file.exists():\n",
    "    print(f\"Loading SIAB data from cache: {cache_file}\")\n",
    "    siab = pd.read_csv(cache_file, compression='gzip')\n",
    "else:\n",
    "    print(f\"Cache not found. Reading raw SIAB data: {raw_file}\")\n",
    "    siab = pd.read_csv(raw_file)\n",
    "    siab.to_csv(cache_file, index=False, compression='gzip')\n",
    "    print(f\"Cached SIAB data to: {cache_file}\")\n",
    "\n",
    "print(siab.shape)"
   ]
  },
  {
   "cell_type": "code",
   "execution_count": 10,
   "id": "db0ca512-5f53-4dba-abdb-a2888bca41ba",
   "metadata": {
    "execution": {
     "iopub.execute_input": "2025-08-05T15:57:21.354876Z",
     "iopub.status.busy": "2025-08-05T15:57:21.354083Z",
     "iopub.status.idle": "2025-08-05T15:57:21.360216Z",
     "shell.execute_reply": "2025-08-05T15:57:21.359341Z"
    },
    "papermill": {
     "duration": 0.035063,
     "end_time": "2025-08-05T15:57:21.362472",
     "exception": false,
     "start_time": "2025-08-05T15:57:21.327409",
     "status": "completed"
    },
    "tags": []
   },
   "outputs": [],
   "source": [
    "#siab"
   ]
  },
  {
   "cell_type": "markdown",
   "id": "997051c5-15bd-4b69-9786-c3001a3ce484",
   "metadata": {
    "papermill": {
     "duration": 0.02435,
     "end_time": "2025-08-05T15:57:21.412177",
     "exception": false,
     "start_time": "2025-08-05T15:57:21.387827",
     "status": "completed"
    },
    "tags": []
   },
   "source": [
    "# Splitting Data and Setting Training Data Size"
   ]
  },
  {
   "cell_type": "code",
   "execution_count": 11,
   "id": "aea9c6ef-6f46-42c8-85eb-5a62025c1508",
   "metadata": {
    "execution": {
     "iopub.execute_input": "2025-08-05T15:57:21.465614Z",
     "iopub.status.busy": "2025-08-05T15:57:21.464836Z",
     "iopub.status.idle": "2025-08-05T15:57:22.412905Z",
     "shell.execute_reply": "2025-08-05T15:57:22.412070Z"
    },
    "papermill": {
     "duration": 0.976779,
     "end_time": "2025-08-05T15:57:22.414702",
     "exception": false,
     "start_time": "2025-08-05T15:57:21.437923",
     "status": "completed"
    },
    "tags": []
   },
   "outputs": [],
   "source": [
    "from fairness_multiverse.universe import sample_by_year_size\n",
    "\n",
    "siab_train = sample_by_year_size(siab,\n",
    "                               training_year=universe[\"training_year\"],\n",
    "                               training_size=universe[\"training_size\"])"
   ]
  },
  {
   "cell_type": "code",
   "execution_count": 12,
   "id": "8d3afb32-789d-442c-8d5d-9f5aa8dd2eed",
   "metadata": {
    "execution": {
     "iopub.execute_input": "2025-08-05T15:57:22.456115Z",
     "iopub.status.busy": "2025-08-05T15:57:22.455102Z",
     "iopub.status.idle": "2025-08-05T15:57:22.461015Z",
     "shell.execute_reply": "2025-08-05T15:57:22.459894Z"
    },
    "papermill": {
     "duration": 0.027898,
     "end_time": "2025-08-05T15:57:22.463200",
     "exception": false,
     "start_time": "2025-08-05T15:57:22.435302",
     "status": "completed"
    },
    "tags": []
   },
   "outputs": [],
   "source": [
    "#siab_train.shape"
   ]
  },
  {
   "cell_type": "code",
   "execution_count": 13,
   "id": "d582db68-1a4c-47fb-84fc-08518dc1975a",
   "metadata": {
    "execution": {
     "iopub.execute_input": "2025-08-05T15:57:22.501587Z",
     "iopub.status.busy": "2025-08-05T15:57:22.500877Z",
     "iopub.status.idle": "2025-08-05T15:57:22.506213Z",
     "shell.execute_reply": "2025-08-05T15:57:22.505165Z"
    },
    "papermill": {
     "duration": 0.026089,
     "end_time": "2025-08-05T15:57:22.508086",
     "exception": false,
     "start_time": "2025-08-05T15:57:22.481997",
     "status": "completed"
    },
    "tags": []
   },
   "outputs": [],
   "source": [
    "#display(siab_train.groupby(\"year\").size())"
   ]
  },
  {
   "cell_type": "code",
   "execution_count": 14,
   "id": "a561edb4-d032-42cb-8256-22eac1111c64",
   "metadata": {
    "execution": {
     "iopub.execute_input": "2025-08-05T15:57:22.548029Z",
     "iopub.status.busy": "2025-08-05T15:57:22.547355Z",
     "iopub.status.idle": "2025-08-05T15:57:22.764551Z",
     "shell.execute_reply": "2025-08-05T15:57:22.763575Z"
    },
    "papermill": {
     "duration": 0.23942,
     "end_time": "2025-08-05T15:57:22.766684",
     "exception": false,
     "start_time": "2025-08-05T15:57:22.527264",
     "status": "completed"
    },
    "tags": []
   },
   "outputs": [],
   "source": [
    "#siab_train = siab_s[siab_s.year < 2015]\n",
    "siab_calib = siab[siab.year == 2015]\n",
    "siab_test = siab[siab.year == 2016]"
   ]
  },
  {
   "cell_type": "code",
   "execution_count": 15,
   "id": "472de16f-c3db-4916-846b-1f0de9cf1746",
   "metadata": {
    "execution": {
     "iopub.execute_input": "2025-08-05T15:57:22.807571Z",
     "iopub.status.busy": "2025-08-05T15:57:22.805895Z",
     "iopub.status.idle": "2025-08-05T15:57:22.815651Z",
     "shell.execute_reply": "2025-08-05T15:57:22.814811Z"
    },
    "papermill": {
     "duration": 0.03108,
     "end_time": "2025-08-05T15:57:22.817438",
     "exception": false,
     "start_time": "2025-08-05T15:57:22.786358",
     "status": "completed"
    },
    "tags": []
   },
   "outputs": [],
   "source": [
    "X_train = siab_train.iloc[:,4:164]\n",
    "y_train = siab_train.iloc[:, [3]]"
   ]
  },
  {
   "cell_type": "code",
   "execution_count": 16,
   "id": "828c96af-f43a-4ed6-ba47-8ac73a47d56c",
   "metadata": {
    "execution": {
     "iopub.execute_input": "2025-08-05T15:57:22.856303Z",
     "iopub.status.busy": "2025-08-05T15:57:22.855520Z",
     "iopub.status.idle": "2025-08-05T15:57:22.912313Z",
     "shell.execute_reply": "2025-08-05T15:57:22.911297Z"
    },
    "papermill": {
     "duration": 0.0789,
     "end_time": "2025-08-05T15:57:22.914544",
     "exception": false,
     "start_time": "2025-08-05T15:57:22.835644",
     "status": "completed"
    },
    "tags": []
   },
   "outputs": [],
   "source": [
    "X_calib = siab_calib.iloc[:,4:164]\n",
    "y_calib = siab_calib.iloc[:, [3]]"
   ]
  },
  {
   "cell_type": "code",
   "execution_count": 17,
   "id": "c34be9c3-6bd6-476e-acd3-845840e303be",
   "metadata": {
    "execution": {
     "iopub.execute_input": "2025-08-05T15:57:22.954626Z",
     "iopub.status.busy": "2025-08-05T15:57:22.953873Z",
     "iopub.status.idle": "2025-08-05T15:57:23.010721Z",
     "shell.execute_reply": "2025-08-05T15:57:23.009356Z"
    },
    "papermill": {
     "duration": 0.078427,
     "end_time": "2025-08-05T15:57:23.012720",
     "exception": false,
     "start_time": "2025-08-05T15:57:22.934293",
     "status": "completed"
    },
    "tags": []
   },
   "outputs": [],
   "source": [
    "X_test = siab_test.iloc[:,4:164]\n",
    "y_true = siab_test.iloc[:, [3]]"
   ]
  },
  {
   "cell_type": "code",
   "execution_count": 18,
   "id": "e6c733c5",
   "metadata": {
    "execution": {
     "iopub.execute_input": "2025-08-05T15:57:23.051915Z",
     "iopub.status.busy": "2025-08-05T15:57:23.051277Z",
     "iopub.status.idle": "2025-08-05T15:57:23.146846Z",
     "shell.execute_reply": "2025-08-05T15:57:23.145897Z"
    },
    "papermill": {
     "duration": 0.120344,
     "end_time": "2025-08-05T15:57:23.152582",
     "exception": false,
     "start_time": "2025-08-05T15:57:23.032238",
     "status": "completed"
    },
    "tags": []
   },
   "outputs": [],
   "source": [
    "# Auxiliary data needed downstream in the pipeline\n",
    "\n",
    "org_train = X_train.copy()\n",
    "org_test = X_test.copy()\n",
    "org_calib = X_calib.copy()"
   ]
  },
  {
   "cell_type": "markdown",
   "id": "0a4a1b33",
   "metadata": {
    "papermill": {
     "duration": 0.018544,
     "end_time": "2025-08-05T15:57:23.189189",
     "exception": false,
     "start_time": "2025-08-05T15:57:23.170645",
     "status": "completed"
    },
    "tags": []
   },
   "source": [
    "# Preprocessing Data"
   ]
  },
  {
   "cell_type": "code",
   "execution_count": 19,
   "id": "ca879031",
   "metadata": {
    "execution": {
     "iopub.execute_input": "2025-08-05T15:57:23.227737Z",
     "iopub.status.busy": "2025-08-05T15:57:23.227238Z",
     "iopub.status.idle": "2025-08-05T15:57:23.233632Z",
     "shell.execute_reply": "2025-08-05T15:57:23.232531Z"
    },
    "papermill": {
     "duration": 0.027046,
     "end_time": "2025-08-05T15:57:23.235837",
     "exception": false,
     "start_time": "2025-08-05T15:57:23.208791",
     "status": "completed"
    },
    "tags": []
   },
   "outputs": [],
   "source": [
    "# EXCLUDE PROTECTED FEATURES\n",
    "# ----------------------\n",
    "# \"exclude_features\": \"none\", # \"nationality\", \"sex\", \"nationality-sex\"\n",
    "\n",
    "excluded_features = universe[\"exclude_features\"].split(\"-\") # split, e.g.: \"nationality-sex\" -> [\"nationality\", \"sex\"]\n",
    "excluded_features_dictionary = {\n",
    "    \"nationality\": [\"maxdeutsch1\", \"maxdeutsch.Missing.\"],\n",
    "    \"sex\": [\"frau1\"],\n",
    "    \"age\": [\"age\"],\n",
    "}"
   ]
  },
  {
   "cell_type": "code",
   "execution_count": 20,
   "id": "b745ac60",
   "metadata": {
    "execution": {
     "iopub.execute_input": "2025-08-05T15:57:23.275732Z",
     "iopub.status.busy": "2025-08-05T15:57:23.275216Z",
     "iopub.status.idle": "2025-08-05T15:57:23.281741Z",
     "shell.execute_reply": "2025-08-05T15:57:23.280637Z"
    },
    "papermill": {
     "duration": 0.028811,
     "end_time": "2025-08-05T15:57:23.283709",
     "exception": false,
     "start_time": "2025-08-05T15:57:23.254898",
     "status": "completed"
    },
    "tags": []
   },
   "outputs": [],
   "source": [
    "# Code nice names to column names\n",
    "\n",
    "excluded_features_columns = [\n",
    "    excluded_features_dictionary[f] for f in excluded_features if len(f) > 0 and f != \"none\"\n",
    "]"
   ]
  },
  {
   "cell_type": "code",
   "execution_count": 21,
   "id": "f84f73a2",
   "metadata": {
    "execution": {
     "iopub.execute_input": "2025-08-05T15:57:23.322697Z",
     "iopub.status.busy": "2025-08-05T15:57:23.322196Z",
     "iopub.status.idle": "2025-08-05T15:57:23.329392Z",
     "shell.execute_reply": "2025-08-05T15:57:23.328205Z"
    },
    "papermill": {
     "duration": 0.028959,
     "end_time": "2025-08-05T15:57:23.331298",
     "exception": false,
     "start_time": "2025-08-05T15:57:23.302339",
     "status": "completed"
    },
    "tags": []
   },
   "outputs": [],
   "source": [
    "from utils import flatten_once\n",
    "\n",
    "excluded_features_columns = flatten_once(excluded_features_columns)"
   ]
  },
  {
   "cell_type": "code",
   "execution_count": 22,
   "id": "884dea22",
   "metadata": {
    "execution": {
     "iopub.execute_input": "2025-08-05T15:57:23.371277Z",
     "iopub.status.busy": "2025-08-05T15:57:23.370781Z",
     "iopub.status.idle": "2025-08-05T15:57:23.382898Z",
     "shell.execute_reply": "2025-08-05T15:57:23.381723Z"
    },
    "papermill": {
     "duration": 0.033883,
     "end_time": "2025-08-05T15:57:23.384743",
     "exception": false,
     "start_time": "2025-08-05T15:57:23.350860",
     "status": "completed"
    },
    "tags": []
   },
   "outputs": [
    {
     "name": "stdout",
     "output_type": "stream",
     "text": [
      "Dropping features: ['age']\n"
     ]
    }
   ],
   "source": [
    "if len(excluded_features_columns) > 0:\n",
    "    print(f\"Dropping features: {excluded_features_columns}\")\n",
    "    X_train.drop(excluded_features_columns, axis=1, inplace=True)"
   ]
  },
  {
   "cell_type": "code",
   "execution_count": 23,
   "id": "95ab8b16",
   "metadata": {
    "execution": {
     "iopub.execute_input": "2025-08-05T15:57:23.426765Z",
     "iopub.status.busy": "2025-08-05T15:57:23.425603Z",
     "iopub.status.idle": "2025-08-05T15:57:23.481196Z",
     "shell.execute_reply": "2025-08-05T15:57:23.480047Z"
    },
    "papermill": {
     "duration": 0.078452,
     "end_time": "2025-08-05T15:57:23.483462",
     "exception": false,
     "start_time": "2025-08-05T15:57:23.405010",
     "status": "completed"
    },
    "tags": []
   },
   "outputs": [
    {
     "name": "stdout",
     "output_type": "stream",
     "text": [
      "Dropping features: ['age']\n"
     ]
    }
   ],
   "source": [
    "if len(excluded_features_columns) > 0:\n",
    "    print(f\"Dropping features: {excluded_features_columns}\")\n",
    "    X_test.drop(excluded_features_columns, axis=1, inplace=True)"
   ]
  },
  {
   "cell_type": "code",
   "execution_count": 24,
   "id": "1853aaf5-fb9f-46cb-a2b5-8ea4ae2237e4",
   "metadata": {
    "execution": {
     "iopub.execute_input": "2025-08-05T15:57:23.523611Z",
     "iopub.status.busy": "2025-08-05T15:57:23.522811Z",
     "iopub.status.idle": "2025-08-05T15:57:23.573938Z",
     "shell.execute_reply": "2025-08-05T15:57:23.572929Z"
    },
    "papermill": {
     "duration": 0.07279,
     "end_time": "2025-08-05T15:57:23.575624",
     "exception": false,
     "start_time": "2025-08-05T15:57:23.502834",
     "status": "completed"
    },
    "tags": []
   },
   "outputs": [
    {
     "name": "stdout",
     "output_type": "stream",
     "text": [
      "Dropping features: ['age']\n"
     ]
    }
   ],
   "source": [
    "if len(excluded_features_columns) > 0:\n",
    "    print(f\"Dropping features: {excluded_features_columns}\")\n",
    "    X_calib.drop(excluded_features_columns, axis=1, inplace=True)"
   ]
  },
  {
   "cell_type": "code",
   "execution_count": 25,
   "id": "76c4dc6d",
   "metadata": {
    "execution": {
     "iopub.execute_input": "2025-08-05T15:57:23.617098Z",
     "iopub.status.busy": "2025-08-05T15:57:23.616334Z",
     "iopub.status.idle": "2025-08-05T15:57:23.621587Z",
     "shell.execute_reply": "2025-08-05T15:57:23.620552Z"
    },
    "papermill": {
     "duration": 0.028059,
     "end_time": "2025-08-05T15:57:23.623780",
     "exception": false,
     "start_time": "2025-08-05T15:57:23.595721",
     "status": "completed"
    },
    "tags": []
   },
   "outputs": [],
   "source": [
    "# EXCLUDE CERTAIN SUBGROUPS\n",
    "# ----------------------\n",
    "\n",
    "mode = universe.get(\"exclude_subgroups\", \"keep-all\") \n",
    "# Fetches the exclude_subgroups setting from the universe dict.\n",
    "# Defaults to \"keep-all\" if the key is missing."
   ]
  },
  {
   "cell_type": "code",
   "execution_count": 26,
   "id": "21994072",
   "metadata": {
    "execution": {
     "iopub.execute_input": "2025-08-05T15:57:23.665951Z",
     "iopub.status.busy": "2025-08-05T15:57:23.665485Z",
     "iopub.status.idle": "2025-08-05T15:57:23.671999Z",
     "shell.execute_reply": "2025-08-05T15:57:23.670941Z"
    },
    "papermill": {
     "duration": 0.028517,
     "end_time": "2025-08-05T15:57:23.674124",
     "exception": false,
     "start_time": "2025-08-05T15:57:23.645607",
     "status": "completed"
    },
    "tags": []
   },
   "outputs": [],
   "source": [
    "if mode == \"keep-all\":\n",
    "    keep_mask = pd.Series(True, index=org_train.index)\n",
    "\n",
    "# org_train contains the original feature columns from features_org (in Simson)\n",
    "# features_org contains unprocessed features, for me X_train at beginning ???\n",
    "# For keep-all, creates a boolean Series (keep_mask) of all True, so no rows are removed.\n",
    "\n",
    "elif mode == \"drop-non-german\":\n",
    "    keep_mask = org_train[\"maxdeutsch1\"] == 1 # ??? what about missing values?\n",
    "\n",
    "else:\n",
    "    raise ValueError(f\"Unsupported mode for exclude_subgroups: {mode}\")"
   ]
  },
  {
   "cell_type": "code",
   "execution_count": 27,
   "id": "71651440",
   "metadata": {
    "execution": {
     "iopub.execute_input": "2025-08-05T15:57:23.719596Z",
     "iopub.status.busy": "2025-08-05T15:57:23.718903Z",
     "iopub.status.idle": "2025-08-05T15:57:23.726435Z",
     "shell.execute_reply": "2025-08-05T15:57:23.725327Z"
    },
    "papermill": {
     "duration": 0.030892,
     "end_time": "2025-08-05T15:57:23.728448",
     "exception": false,
     "start_time": "2025-08-05T15:57:23.697556",
     "status": "completed"
    },
    "tags": []
   },
   "outputs": [
    {
     "name": "stdout",
     "output_type": "stream",
     "text": [
      "Dropping 657 rows (13.14%) where mode='drop-non-german'\n"
     ]
    }
   ],
   "source": [
    "n_drop = (~keep_mask).sum() # Calculates how many rows are set to be dropped\n",
    "if n_drop > 0:\n",
    "    pct = n_drop / len(keep_mask) * 100\n",
    "    print(f\"Dropping {n_drop} rows ({pct:.2f}%) where mode='{mode}'\")"
   ]
  },
  {
   "cell_type": "code",
   "execution_count": 28,
   "id": "5fb8eee5",
   "metadata": {
    "execution": {
     "iopub.execute_input": "2025-08-05T15:57:23.772049Z",
     "iopub.status.busy": "2025-08-05T15:57:23.771566Z",
     "iopub.status.idle": "2025-08-05T15:57:23.780099Z",
     "shell.execute_reply": "2025-08-05T15:57:23.778963Z"
    },
    "papermill": {
     "duration": 0.032225,
     "end_time": "2025-08-05T15:57:23.781936",
     "exception": false,
     "start_time": "2025-08-05T15:57:23.749711",
     "status": "completed"
    },
    "tags": []
   },
   "outputs": [],
   "source": [
    "X_train = X_train[keep_mask]"
   ]
  },
  {
   "cell_type": "code",
   "execution_count": 29,
   "id": "b202bb3a",
   "metadata": {
    "execution": {
     "iopub.execute_input": "2025-08-05T15:57:23.830763Z",
     "iopub.status.busy": "2025-08-05T15:57:23.829642Z",
     "iopub.status.idle": "2025-08-05T15:57:23.835885Z",
     "shell.execute_reply": "2025-08-05T15:57:23.835018Z"
    },
    "papermill": {
     "duration": 0.032442,
     "end_time": "2025-08-05T15:57:23.837486",
     "exception": false,
     "start_time": "2025-08-05T15:57:23.805044",
     "status": "completed"
    },
    "tags": []
   },
   "outputs": [],
   "source": [
    "y_train = y_train[keep_mask]"
   ]
  },
  {
   "cell_type": "markdown",
   "id": "493e2ac3",
   "metadata": {
    "papermill": {
     "duration": 0.02031,
     "end_time": "2025-08-05T15:57:23.878339",
     "exception": false,
     "start_time": "2025-08-05T15:57:23.858029",
     "status": "completed"
    },
    "tags": []
   },
   "source": [
    "# Model Training"
   ]
  },
  {
   "cell_type": "code",
   "execution_count": 30,
   "id": "679e1268",
   "metadata": {
    "execution": {
     "iopub.execute_input": "2025-08-05T15:57:23.918914Z",
     "iopub.status.busy": "2025-08-05T15:57:23.917969Z",
     "iopub.status.idle": "2025-08-05T15:57:24.035360Z",
     "shell.execute_reply": "2025-08-05T15:57:24.034315Z"
    },
    "papermill": {
     "duration": 0.140774,
     "end_time": "2025-08-05T15:57:24.037382",
     "exception": false,
     "start_time": "2025-08-05T15:57:23.896608",
     "status": "completed"
    },
    "tags": []
   },
   "outputs": [],
   "source": [
    "from sklearn.linear_model import LogisticRegression\n",
    "from sklearn.ensemble import GradientBoostingClassifier, RandomForestClassifier\n",
    "\n",
    "if (universe[\"model\"] == \"logreg\"):\n",
    "    model = LogisticRegression() #penalty=\"none\", solver=\"newton-cg\", max_iter=1) # include random_state=19 ?\n",
    "elif (universe[\"model\"] == \"penalized_logreg\"):\n",
    "    model = LogisticRegression(penalty=\"l2\", C=0.1) #, solver=\"newton-cg\", max_iter=1)\n",
    "elif (universe[\"model\"] == \"rf\"):\n",
    "    model = RandomForestClassifier() # n_estimators=100, n_jobs=-1\n",
    "elif (universe[\"model\"] == \"gbm\"):\n",
    "    model = GradientBoostingClassifier()\n",
    "elif (universe[\"model\"] == \"elasticnet\"):\n",
    "    model = LogisticRegression(penalty = 'elasticnet', solver = 'saga', l1_ratio = 0.5) # max_iter=5000\n",
    "else:\n",
    "    raise \"Unsupported universe.model\""
   ]
  },
  {
   "cell_type": "code",
   "execution_count": 31,
   "id": "0cc8f744",
   "metadata": {
    "execution": {
     "iopub.execute_input": "2025-08-05T15:57:24.083825Z",
     "iopub.status.busy": "2025-08-05T15:57:24.083292Z",
     "iopub.status.idle": "2025-08-05T15:57:24.090097Z",
     "shell.execute_reply": "2025-08-05T15:57:24.089010Z"
    },
    "papermill": {
     "duration": 0.032317,
     "end_time": "2025-08-05T15:57:24.092052",
     "exception": false,
     "start_time": "2025-08-05T15:57:24.059735",
     "status": "completed"
    },
    "tags": []
   },
   "outputs": [],
   "source": [
    "import numpy as np\n",
    "from sklearn.pipeline import Pipeline\n",
    "from sklearn.preprocessing import StandardScaler\n",
    "\n",
    "model = Pipeline([\n",
    "    #(\"continuous_processor\", continuous_processor),\n",
    "    #(\"categorical_preprocessor\", categorical_preprocessor),\n",
    "    (\"scale\", StandardScaler() if universe[\"scale\"] == \"scale\" else None), \n",
    "    (\"model\", model),\n",
    "])"
   ]
  },
  {
   "cell_type": "code",
   "execution_count": 32,
   "id": "9442c04d",
   "metadata": {
    "execution": {
     "iopub.execute_input": "2025-08-05T15:57:24.127345Z",
     "iopub.status.busy": "2025-08-05T15:57:24.126583Z",
     "iopub.status.idle": "2025-08-05T15:57:24.253134Z",
     "shell.execute_reply": "2025-08-05T15:57:24.252423Z"
    },
    "papermill": {
     "duration": 0.140826,
     "end_time": "2025-08-05T15:57:24.254563",
     "exception": false,
     "start_time": "2025-08-05T15:57:24.113737",
     "status": "completed"
    },
    "tags": []
   },
   "outputs": [
    {
     "name": "stderr",
     "output_type": "stream",
     "text": [
      "/dss/dsshome1/0C/ra93lal2/.local/share/virtualenvs/CMA_Fairness_v2-3j10GkSs/lib/python3.10/site-packages/sklearn/linear_model/_logistic.py:444: ConvergenceWarning: lbfgs failed to converge (status=1):\n",
      "STOP: TOTAL NO. of ITERATIONS REACHED LIMIT.\n",
      "\n",
      "Increase the number of iterations (max_iter) or scale the data as shown in:\n",
      "    https://scikit-learn.org/stable/modules/preprocessing.html\n",
      "Please also refer to the documentation for alternative solver options:\n",
      "    https://scikit-learn.org/stable/modules/linear_model.html#logistic-regression\n",
      "  n_iter_i = _check_optimize_result(\n"
     ]
    },
    {
     "data": {
      "text/html": [
       "<style>#sk-container-id-1 {color: black;background-color: white;}#sk-container-id-1 pre{padding: 0;}#sk-container-id-1 div.sk-toggleable {background-color: white;}#sk-container-id-1 label.sk-toggleable__label {cursor: pointer;display: block;width: 100%;margin-bottom: 0;padding: 0.3em;box-sizing: border-box;text-align: center;}#sk-container-id-1 label.sk-toggleable__label-arrow:before {content: \"▸\";float: left;margin-right: 0.25em;color: #696969;}#sk-container-id-1 label.sk-toggleable__label-arrow:hover:before {color: black;}#sk-container-id-1 div.sk-estimator:hover label.sk-toggleable__label-arrow:before {color: black;}#sk-container-id-1 div.sk-toggleable__content {max-height: 0;max-width: 0;overflow: hidden;text-align: left;background-color: #f0f8ff;}#sk-container-id-1 div.sk-toggleable__content pre {margin: 0.2em;color: black;border-radius: 0.25em;background-color: #f0f8ff;}#sk-container-id-1 input.sk-toggleable__control:checked~div.sk-toggleable__content {max-height: 200px;max-width: 100%;overflow: auto;}#sk-container-id-1 input.sk-toggleable__control:checked~label.sk-toggleable__label-arrow:before {content: \"▾\";}#sk-container-id-1 div.sk-estimator input.sk-toggleable__control:checked~label.sk-toggleable__label {background-color: #d4ebff;}#sk-container-id-1 div.sk-label input.sk-toggleable__control:checked~label.sk-toggleable__label {background-color: #d4ebff;}#sk-container-id-1 input.sk-hidden--visually {border: 0;clip: rect(1px 1px 1px 1px);clip: rect(1px, 1px, 1px, 1px);height: 1px;margin: -1px;overflow: hidden;padding: 0;position: absolute;width: 1px;}#sk-container-id-1 div.sk-estimator {font-family: monospace;background-color: #f0f8ff;border: 1px dotted black;border-radius: 0.25em;box-sizing: border-box;margin-bottom: 0.5em;}#sk-container-id-1 div.sk-estimator:hover {background-color: #d4ebff;}#sk-container-id-1 div.sk-parallel-item::after {content: \"\";width: 100%;border-bottom: 1px solid gray;flex-grow: 1;}#sk-container-id-1 div.sk-label:hover label.sk-toggleable__label {background-color: #d4ebff;}#sk-container-id-1 div.sk-serial::before {content: \"\";position: absolute;border-left: 1px solid gray;box-sizing: border-box;top: 0;bottom: 0;left: 50%;z-index: 0;}#sk-container-id-1 div.sk-serial {display: flex;flex-direction: column;align-items: center;background-color: white;padding-right: 0.2em;padding-left: 0.2em;position: relative;}#sk-container-id-1 div.sk-item {position: relative;z-index: 1;}#sk-container-id-1 div.sk-parallel {display: flex;align-items: stretch;justify-content: center;background-color: white;position: relative;}#sk-container-id-1 div.sk-item::before, #sk-container-id-1 div.sk-parallel-item::before {content: \"\";position: absolute;border-left: 1px solid gray;box-sizing: border-box;top: 0;bottom: 0;left: 50%;z-index: -1;}#sk-container-id-1 div.sk-parallel-item {display: flex;flex-direction: column;z-index: 1;position: relative;background-color: white;}#sk-container-id-1 div.sk-parallel-item:first-child::after {align-self: flex-end;width: 50%;}#sk-container-id-1 div.sk-parallel-item:last-child::after {align-self: flex-start;width: 50%;}#sk-container-id-1 div.sk-parallel-item:only-child::after {width: 0;}#sk-container-id-1 div.sk-dashed-wrapped {border: 1px dashed gray;margin: 0 0.4em 0.5em 0.4em;box-sizing: border-box;padding-bottom: 0.4em;background-color: white;}#sk-container-id-1 div.sk-label label {font-family: monospace;font-weight: bold;display: inline-block;line-height: 1.2em;}#sk-container-id-1 div.sk-label-container {text-align: center;}#sk-container-id-1 div.sk-container {/* jupyter's `normalize.less` sets `[hidden] { display: none; }` but bootstrap.min.css set `[hidden] { display: none !important; }` so we also need the `!important` here to be able to override the default hidden behavior on the sphinx rendered scikit-learn.org. See: https://github.com/scikit-learn/scikit-learn/issues/21755 */display: inline-block !important;position: relative;}#sk-container-id-1 div.sk-text-repr-fallback {display: none;}</style><div id=\"sk-container-id-1\" class=\"sk-top-container\"><div class=\"sk-text-repr-fallback\"><pre>Pipeline(steps=[(&#x27;scale&#x27;, None), (&#x27;model&#x27;, LogisticRegression(C=0.1))])</pre><b>In a Jupyter environment, please rerun this cell to show the HTML representation or trust the notebook. <br />On GitHub, the HTML representation is unable to render, please try loading this page with nbviewer.org.</b></div><div class=\"sk-container\" hidden><div class=\"sk-item sk-dashed-wrapped\"><div class=\"sk-label-container\"><div class=\"sk-label sk-toggleable\"><input class=\"sk-toggleable__control sk-hidden--visually\" id=\"sk-estimator-id-1\" type=\"checkbox\" ><label for=\"sk-estimator-id-1\" class=\"sk-toggleable__label sk-toggleable__label-arrow\">Pipeline</label><div class=\"sk-toggleable__content\"><pre>Pipeline(steps=[(&#x27;scale&#x27;, None), (&#x27;model&#x27;, LogisticRegression(C=0.1))])</pre></div></div></div><div class=\"sk-serial\"><div class=\"sk-item\"><div class=\"sk-estimator sk-toggleable\"><input class=\"sk-toggleable__control sk-hidden--visually\" id=\"sk-estimator-id-2\" type=\"checkbox\" ><label for=\"sk-estimator-id-2\" class=\"sk-toggleable__label sk-toggleable__label-arrow\">None</label><div class=\"sk-toggleable__content\"><pre>None</pre></div></div></div><div class=\"sk-item\"><div class=\"sk-estimator sk-toggleable\"><input class=\"sk-toggleable__control sk-hidden--visually\" id=\"sk-estimator-id-3\" type=\"checkbox\" ><label for=\"sk-estimator-id-3\" class=\"sk-toggleable__label sk-toggleable__label-arrow\">LogisticRegression</label><div class=\"sk-toggleable__content\"><pre>LogisticRegression(C=0.1)</pre></div></div></div></div></div></div></div>"
      ],
      "text/plain": [
       "Pipeline(steps=[('scale', None), ('model', LogisticRegression(C=0.1))])"
      ]
     },
     "execution_count": 32,
     "metadata": {},
     "output_type": "execute_result"
    }
   ],
   "source": [
    "model.fit(X_train, y_train.values.ravel())"
   ]
  },
  {
   "cell_type": "code",
   "execution_count": 33,
   "id": "af59f8c0",
   "metadata": {
    "execution": {
     "iopub.execute_input": "2025-08-05T15:57:24.282584Z",
     "iopub.status.busy": "2025-08-05T15:57:24.282063Z",
     "iopub.status.idle": "2025-08-05T15:57:24.286683Z",
     "shell.execute_reply": "2025-08-05T15:57:24.285794Z"
    },
    "papermill": {
     "duration": 0.022934,
     "end_time": "2025-08-05T15:57:24.288168",
     "exception": false,
     "start_time": "2025-08-05T15:57:24.265234",
     "status": "completed"
    },
    "tags": []
   },
   "outputs": [],
   "source": [
    "from fairness_multiverse.universe import predict_w_threshold"
   ]
  },
  {
   "cell_type": "code",
   "execution_count": 34,
   "id": "a7cf2e16",
   "metadata": {
    "execution": {
     "iopub.execute_input": "2025-08-05T15:57:24.321962Z",
     "iopub.status.busy": "2025-08-05T15:57:24.321649Z",
     "iopub.status.idle": "2025-08-05T15:57:24.415777Z",
     "shell.execute_reply": "2025-08-05T15:57:24.414707Z"
    },
    "papermill": {
     "duration": 0.112407,
     "end_time": "2025-08-05T15:57:24.417592",
     "exception": false,
     "start_time": "2025-08-05T15:57:24.305185",
     "status": "completed"
    },
    "tags": []
   },
   "outputs": [
    {
     "data": {
      "text/plain": [
       "0.8595808716976926"
      ]
     },
     "execution_count": 34,
     "metadata": {},
     "output_type": "execute_result"
    }
   ],
   "source": [
    "probs_test = model.predict_proba(X_test)\n",
    "\n",
    "'''\n",
    "Below code returns a boolean array (or binary 0/1 array depending on how it’s used) where each element \n",
    "is True if the probability of class 1 is greater than or equal to the threshold, and False otherwise.\n",
    "'''\n",
    "y_pred_default = predict_w_threshold(probs_test, 0.5)\n",
    "\n",
    "from sklearn.metrics import accuracy_score\n",
    "\n",
    "# Naive prediction\n",
    "accuracy_score(y_true = y_true, y_pred = y_pred_default)"
   ]
  },
  {
   "cell_type": "code",
   "execution_count": 35,
   "id": "081964c3",
   "metadata": {
    "execution": {
     "iopub.execute_input": "2025-08-05T15:57:24.461877Z",
     "iopub.status.busy": "2025-08-05T15:57:24.460844Z",
     "iopub.status.idle": "2025-08-05T15:57:24.578643Z",
     "shell.execute_reply": "2025-08-05T15:57:24.577572Z"
    },
    "papermill": {
     "duration": 0.141558,
     "end_time": "2025-08-05T15:57:24.580307",
     "exception": false,
     "start_time": "2025-08-05T15:57:24.438749",
     "status": "completed"
    },
    "tags": []
   },
   "outputs": [
    {
     "data": {
      "text/plain": [
       "array([0, 0, 0, ..., 0, 0, 0])"
      ]
     },
     "execution_count": 35,
     "metadata": {},
     "output_type": "execute_result"
    }
   ],
   "source": [
    "model.predict(X_test)"
   ]
  },
  {
   "cell_type": "markdown",
   "id": "56c9705b",
   "metadata": {
    "papermill": {
     "duration": 0.022371,
     "end_time": "2025-08-05T15:57:24.622424",
     "exception": false,
     "start_time": "2025-08-05T15:57:24.600053",
     "status": "completed"
    },
    "tags": []
   },
   "source": [
    "# Conformal Prediction"
   ]
  },
  {
   "cell_type": "code",
   "execution_count": 36,
   "id": "160ec6ff",
   "metadata": {
    "execution": {
     "iopub.execute_input": "2025-08-05T15:57:24.674276Z",
     "iopub.status.busy": "2025-08-05T15:57:24.673302Z",
     "iopub.status.idle": "2025-08-05T15:57:24.679956Z",
     "shell.execute_reply": "2025-08-05T15:57:24.678722Z"
    },
    "papermill": {
     "duration": 0.035809,
     "end_time": "2025-08-05T15:57:24.682159",
     "exception": false,
     "start_time": "2025-08-05T15:57:24.646350",
     "status": "completed"
    },
    "tags": []
   },
   "outputs": [],
   "source": [
    "# Miscoverage level for conformal prediction (10% allowed error rate => 90% target coverage)\n",
    "alpha = 0.1"
   ]
  },
  {
   "cell_type": "code",
   "execution_count": 37,
   "id": "eadf4555-3dd3-440e-8e35-f82a4ad9f855",
   "metadata": {
    "execution": {
     "iopub.execute_input": "2025-08-05T15:57:24.729433Z",
     "iopub.status.busy": "2025-08-05T15:57:24.728410Z",
     "iopub.status.idle": "2025-08-05T15:57:24.866271Z",
     "shell.execute_reply": "2025-08-05T15:57:24.864995Z"
    },
    "papermill": {
     "duration": 0.163329,
     "end_time": "2025-08-05T15:57:24.868271",
     "exception": false,
     "start_time": "2025-08-05T15:57:24.704942",
     "status": "completed"
    },
    "tags": []
   },
   "outputs": [],
   "source": [
    "probs_calib = model.predict_proba(X_calib)"
   ]
  },
  {
   "cell_type": "code",
   "execution_count": 38,
   "id": "2ed93547-6d5d-4983-9b36-1ecb300da49a",
   "metadata": {
    "execution": {
     "iopub.execute_input": "2025-08-05T15:57:24.914590Z",
     "iopub.status.busy": "2025-08-05T15:57:24.913375Z",
     "iopub.status.idle": "2025-08-05T15:57:24.920744Z",
     "shell.execute_reply": "2025-08-05T15:57:24.919573Z"
    },
    "papermill": {
     "duration": 0.032799,
     "end_time": "2025-08-05T15:57:24.922868",
     "exception": false,
     "start_time": "2025-08-05T15:57:24.890069",
     "status": "completed"
    },
    "tags": []
   },
   "outputs": [],
   "source": [
    "y_calib = y_calib.values.ravel().astype(int)"
   ]
  },
  {
   "cell_type": "code",
   "execution_count": 39,
   "id": "65d1320d-f588-4b38-9072-62af1ae97f7d",
   "metadata": {
    "execution": {
     "iopub.execute_input": "2025-08-05T15:57:24.969882Z",
     "iopub.status.busy": "2025-08-05T15:57:24.968742Z",
     "iopub.status.idle": "2025-08-05T15:57:24.978718Z",
     "shell.execute_reply": "2025-08-05T15:57:24.977492Z"
    },
    "papermill": {
     "duration": 0.03552,
     "end_time": "2025-08-05T15:57:24.980726",
     "exception": false,
     "start_time": "2025-08-05T15:57:24.945206",
     "status": "completed"
    },
    "tags": []
   },
   "outputs": [],
   "source": [
    "from fairness_multiverse.conformal import compute_nc_scores\n",
    "\n",
    "# Compute nonconformity scores on calibration set (1 - probability of true class)\n",
    "nc_scores = compute_nc_scores(probs_calib, y_calib)"
   ]
  },
  {
   "cell_type": "code",
   "execution_count": 40,
   "id": "df3b8ca3-53b7-43d5-9667-7c85da7aeda2",
   "metadata": {
    "execution": {
     "iopub.execute_input": "2025-08-05T15:57:25.027227Z",
     "iopub.status.busy": "2025-08-05T15:57:25.026008Z",
     "iopub.status.idle": "2025-08-05T15:57:25.034613Z",
     "shell.execute_reply": "2025-08-05T15:57:25.033122Z"
    },
    "papermill": {
     "duration": 0.033604,
     "end_time": "2025-08-05T15:57:25.036624",
     "exception": false,
     "start_time": "2025-08-05T15:57:25.003020",
     "status": "completed"
    },
    "tags": []
   },
   "outputs": [],
   "source": [
    "from fairness_multiverse.conformal import find_threshold\n",
    "\n",
    "# Find conformal threshold q_hat for the given alpha (split conformal method)\n",
    "q_hat = find_threshold(nc_scores, alpha)"
   ]
  },
  {
   "cell_type": "code",
   "execution_count": 41,
   "id": "4d29e6c1-0ef6-4aa4-b8fe-4fe79b0d033a",
   "metadata": {
    "execution": {
     "iopub.execute_input": "2025-08-05T15:57:25.084889Z",
     "iopub.status.busy": "2025-08-05T15:57:25.083914Z",
     "iopub.status.idle": "2025-08-05T15:57:25.093742Z",
     "shell.execute_reply": "2025-08-05T15:57:25.092482Z"
    },
    "papermill": {
     "duration": 0.036133,
     "end_time": "2025-08-05T15:57:25.095902",
     "exception": false,
     "start_time": "2025-08-05T15:57:25.059769",
     "status": "completed"
    },
    "tags": []
   },
   "outputs": [
    {
     "data": {
      "text/plain": [
       "0.6704871200817095"
      ]
     },
     "execution_count": 41,
     "metadata": {},
     "output_type": "execute_result"
    }
   ],
   "source": [
    "q_hat"
   ]
  },
  {
   "cell_type": "code",
   "execution_count": 42,
   "id": "92460794-cdac-4be2-ba28-f28c0515a6fb",
   "metadata": {
    "execution": {
     "iopub.execute_input": "2025-08-05T15:57:25.144487Z",
     "iopub.status.busy": "2025-08-05T15:57:25.143653Z",
     "iopub.status.idle": "2025-08-05T15:57:26.128634Z",
     "shell.execute_reply": "2025-08-05T15:57:26.127343Z"
    },
    "papermill": {
     "duration": 1.011997,
     "end_time": "2025-08-05T15:57:26.130898",
     "exception": false,
     "start_time": "2025-08-05T15:57:25.118901",
     "status": "completed"
    },
    "tags": []
   },
   "outputs": [],
   "source": [
    "from fairness_multiverse.conformal import predict_conformal_sets\n",
    "\n",
    "# Generate prediction sets for each test example\n",
    "pred_sets = predict_conformal_sets(model, X_test, q_hat)"
   ]
  },
  {
   "cell_type": "code",
   "execution_count": 43,
   "id": "d90c9a65-e6db-4f5d-80cd-e68fb7e46829",
   "metadata": {
    "execution": {
     "iopub.execute_input": "2025-08-05T15:57:26.183636Z",
     "iopub.status.busy": "2025-08-05T15:57:26.182974Z",
     "iopub.status.idle": "2025-08-05T15:57:26.190288Z",
     "shell.execute_reply": "2025-08-05T15:57:26.188906Z"
    },
    "papermill": {
     "duration": 0.036514,
     "end_time": "2025-08-05T15:57:26.192487",
     "exception": false,
     "start_time": "2025-08-05T15:57:26.155973",
     "status": "completed"
    },
    "tags": []
   },
   "outputs": [],
   "source": [
    "y_true = y_true.squeeze()"
   ]
  },
  {
   "cell_type": "code",
   "execution_count": 44,
   "id": "3a58a54a-1e68-46b9-927a-df01f18aebc8",
   "metadata": {
    "execution": {
     "iopub.execute_input": "2025-08-05T15:57:26.245235Z",
     "iopub.status.busy": "2025-08-05T15:57:26.244211Z",
     "iopub.status.idle": "2025-08-05T15:57:27.321455Z",
     "shell.execute_reply": "2025-08-05T15:57:27.320690Z"
    },
    "papermill": {
     "duration": 1.104956,
     "end_time": "2025-08-05T15:57:27.322962",
     "exception": false,
     "start_time": "2025-08-05T15:57:26.218006",
     "status": "completed"
    },
    "tags": []
   },
   "outputs": [],
   "source": [
    "from fairness_multiverse.conformal import evaluate_sets\n",
    "\n",
    "# Evaluate coverage and average set size on test data\n",
    "metrics = evaluate_sets(pred_sets, y_true)"
   ]
  },
  {
   "cell_type": "markdown",
   "id": "2b569c12-9aaa-4c88-98c9-bbcd0cf3ebb8",
   "metadata": {
    "papermill": {
     "duration": 0.011338,
     "end_time": "2025-08-05T15:57:27.346304",
     "exception": false,
     "start_time": "2025-08-05T15:57:27.334966",
     "status": "completed"
    },
    "tags": []
   },
   "source": [
    "# CP Metrics"
   ]
  },
  {
   "cell_type": "code",
   "execution_count": 45,
   "id": "5ce0a5cb-201f-45a0-ade5-94c7f0bd6095",
   "metadata": {
    "execution": {
     "iopub.execute_input": "2025-08-05T15:57:27.370679Z",
     "iopub.status.busy": "2025-08-05T15:57:27.370176Z",
     "iopub.status.idle": "2025-08-05T15:57:27.376791Z",
     "shell.execute_reply": "2025-08-05T15:57:27.375850Z"
    },
    "papermill": {
     "duration": 0.020483,
     "end_time": "2025-08-05T15:57:27.378266",
     "exception": false,
     "start_time": "2025-08-05T15:57:27.357783",
     "status": "completed"
    },
    "tags": []
   },
   "outputs": [
    {
     "data": {
      "text/plain": [
       "{'coverage': 0.9138669044699588, 'avg_size': 1.2552112362055512}"
      ]
     },
     "execution_count": 45,
     "metadata": {},
     "output_type": "execute_result"
    }
   ],
   "source": [
    "metrics"
   ]
  },
  {
   "cell_type": "code",
   "execution_count": 46,
   "id": "9b9a838d-31c9-430b-ae14-12baee460d17",
   "metadata": {
    "execution": {
     "iopub.execute_input": "2025-08-05T15:57:27.403770Z",
     "iopub.status.busy": "2025-08-05T15:57:27.403262Z",
     "iopub.status.idle": "2025-08-05T15:57:27.409177Z",
     "shell.execute_reply": "2025-08-05T15:57:27.408207Z"
    },
    "papermill": {
     "duration": 0.019919,
     "end_time": "2025-08-05T15:57:27.410689",
     "exception": false,
     "start_time": "2025-08-05T15:57:27.390770",
     "status": "completed"
    },
    "tags": []
   },
   "outputs": [],
   "source": [
    "example_universe = universe.copy()\n",
    "universe_training_year = example_universe.get(\"training_year\")\n",
    "universe_training_size = example_universe.get(\"training_size\")\n",
    "universe_scale = example_universe.get(\"scale\")\n",
    "universe_model = example_universe.get(\"model\")\n",
    "universe_exclude_features = example_universe.get(\"exclude_features\")\n",
    "universe_exclude_subgroups = example_universe.get(\"exclude_subgroups\")"
   ]
  },
  {
   "cell_type": "code",
   "execution_count": 47,
   "id": "f4b6a8ac-9dc0-4245-8a91-5b3b5999c4f9",
   "metadata": {
    "execution": {
     "iopub.execute_input": "2025-08-05T15:57:27.449261Z",
     "iopub.status.busy": "2025-08-05T15:57:27.448779Z",
     "iopub.status.idle": "2025-08-05T15:57:27.455337Z",
     "shell.execute_reply": "2025-08-05T15:57:27.454289Z"
    },
    "papermill": {
     "duration": 0.033939,
     "end_time": "2025-08-05T15:57:27.457238",
     "exception": false,
     "start_time": "2025-08-05T15:57:27.423299",
     "status": "completed"
    },
    "tags": []
   },
   "outputs": [],
   "source": [
    "cp_metrics_dict = {\n",
    "    \"universe_id\": [universe_id],\n",
    "    \"universe_training_year\": [universe_training_year],\n",
    "    \"universe_training_size\": [universe_training_size],\n",
    "    \"universe_scale\": [universe_scale],\n",
    "    \"universe_model\": [universe_model],\n",
    "    \"universe_exclude_features\": [universe_exclude_features],\n",
    "    \"universe_exclude_subgroups\": [universe_exclude_subgroups],\n",
    "    \"q_hat\": [q_hat],\n",
    "    \"coverage\": [metrics[\"coverage\"]],\n",
    "    \"avg_size\": [metrics[\"avg_size\"]],\n",
    "}"
   ]
  },
  {
   "cell_type": "code",
   "execution_count": 48,
   "id": "908acbb1-0371-4915-85ca-3fa520d2efe2",
   "metadata": {
    "execution": {
     "iopub.execute_input": "2025-08-05T15:57:27.505614Z",
     "iopub.status.busy": "2025-08-05T15:57:27.504906Z",
     "iopub.status.idle": "2025-08-05T15:57:27.513799Z",
     "shell.execute_reply": "2025-08-05T15:57:27.511824Z"
    },
    "papermill": {
     "duration": 0.034563,
     "end_time": "2025-08-05T15:57:27.515207",
     "exception": false,
     "start_time": "2025-08-05T15:57:27.480644",
     "status": "completed"
    },
    "tags": []
   },
   "outputs": [
    {
     "data": {
      "text/plain": [
       "{'universe_id': ['eccb431de479919218ccaf82ad151388'],\n",
       " 'universe_training_year': ['2010_14'],\n",
       " 'universe_training_size': ['5k'],\n",
       " 'universe_scale': ['do-not-scale'],\n",
       " 'universe_model': ['penalized_logreg'],\n",
       " 'universe_exclude_features': ['age'],\n",
       " 'universe_exclude_subgroups': ['drop-non-german'],\n",
       " 'q_hat': [0.6704871200817095],\n",
       " 'coverage': [0.9138669044699588],\n",
       " 'avg_size': [1.2552112362055512]}"
      ]
     },
     "execution_count": 48,
     "metadata": {},
     "output_type": "execute_result"
    }
   ],
   "source": [
    "cp_metrics_dict"
   ]
  },
  {
   "cell_type": "code",
   "execution_count": 49,
   "id": "33007efc-14e9-4ec6-97ac-56a455c82265",
   "metadata": {
    "execution": {
     "iopub.execute_input": "2025-08-05T15:57:27.540771Z",
     "iopub.status.busy": "2025-08-05T15:57:27.540026Z",
     "iopub.status.idle": "2025-08-05T15:57:27.545541Z",
     "shell.execute_reply": "2025-08-05T15:57:27.544754Z"
    },
    "papermill": {
     "duration": 0.019543,
     "end_time": "2025-08-05T15:57:27.547119",
     "exception": false,
     "start_time": "2025-08-05T15:57:27.527576",
     "status": "completed"
    },
    "tags": []
   },
   "outputs": [],
   "source": [
    "cp_metrics_df = pd.DataFrame(cp_metrics_dict)"
   ]
  },
  {
   "cell_type": "code",
   "execution_count": 50,
   "id": "db12611b-57b2-4910-b9d0-355adfd6e7bf",
   "metadata": {
    "execution": {
     "iopub.execute_input": "2025-08-05T15:57:27.581122Z",
     "iopub.status.busy": "2025-08-05T15:57:27.580695Z",
     "iopub.status.idle": "2025-08-05T15:57:27.601161Z",
     "shell.execute_reply": "2025-08-05T15:57:27.600111Z"
    },
    "papermill": {
     "duration": 0.044494,
     "end_time": "2025-08-05T15:57:27.604201",
     "exception": false,
     "start_time": "2025-08-05T15:57:27.559707",
     "status": "completed"
    },
    "tags": []
   },
   "outputs": [
    {
     "data": {
      "text/html": [
       "<div>\n",
       "<style scoped>\n",
       "    .dataframe tbody tr th:only-of-type {\n",
       "        vertical-align: middle;\n",
       "    }\n",
       "\n",
       "    .dataframe tbody tr th {\n",
       "        vertical-align: top;\n",
       "    }\n",
       "\n",
       "    .dataframe thead th {\n",
       "        text-align: right;\n",
       "    }\n",
       "</style>\n",
       "<table border=\"1\" class=\"dataframe\">\n",
       "  <thead>\n",
       "    <tr style=\"text-align: right;\">\n",
       "      <th></th>\n",
       "      <th>universe_id</th>\n",
       "      <th>universe_training_year</th>\n",
       "      <th>universe_training_size</th>\n",
       "      <th>universe_scale</th>\n",
       "      <th>universe_model</th>\n",
       "      <th>universe_exclude_features</th>\n",
       "      <th>universe_exclude_subgroups</th>\n",
       "      <th>q_hat</th>\n",
       "      <th>coverage</th>\n",
       "      <th>avg_size</th>\n",
       "    </tr>\n",
       "  </thead>\n",
       "  <tbody>\n",
       "    <tr>\n",
       "      <th>0</th>\n",
       "      <td>eccb431de479919218ccaf82ad151388</td>\n",
       "      <td>2010_14</td>\n",
       "      <td>5k</td>\n",
       "      <td>do-not-scale</td>\n",
       "      <td>penalized_logreg</td>\n",
       "      <td>age</td>\n",
       "      <td>drop-non-german</td>\n",
       "      <td>0.670487</td>\n",
       "      <td>0.913867</td>\n",
       "      <td>1.255211</td>\n",
       "    </tr>\n",
       "  </tbody>\n",
       "</table>\n",
       "</div>"
      ],
      "text/plain": [
       "                        universe_id universe_training_year  \\\n",
       "0  eccb431de479919218ccaf82ad151388                2010_14   \n",
       "\n",
       "  universe_training_size universe_scale    universe_model  \\\n",
       "0                     5k   do-not-scale  penalized_logreg   \n",
       "\n",
       "  universe_exclude_features universe_exclude_subgroups     q_hat  coverage  \\\n",
       "0                       age            drop-non-german  0.670487  0.913867   \n",
       "\n",
       "   avg_size  \n",
       "0  1.255211  "
      ]
     },
     "execution_count": 50,
     "metadata": {},
     "output_type": "execute_result"
    }
   ],
   "source": [
    "cp_metrics_df"
   ]
  },
  {
   "cell_type": "code",
   "execution_count": 51,
   "id": "b7fbde55-a0a1-47e4-9af6-fe4a17fa8c61",
   "metadata": {
    "execution": {
     "iopub.execute_input": "2025-08-05T15:57:27.667505Z",
     "iopub.status.busy": "2025-08-05T15:57:27.666620Z",
     "iopub.status.idle": "2025-08-05T15:57:27.672154Z",
     "shell.execute_reply": "2025-08-05T15:57:27.671273Z"
    },
    "papermill": {
     "duration": 0.037536,
     "end_time": "2025-08-05T15:57:27.673977",
     "exception": false,
     "start_time": "2025-08-05T15:57:27.636441",
     "status": "completed"
    },
    "tags": []
   },
   "outputs": [],
   "source": [
    "# Conditional Coverage & looking at subgroups"
   ]
  },
  {
   "cell_type": "code",
   "execution_count": 52,
   "id": "027ae886-68dd-4141-96c7-805a5450e1ef",
   "metadata": {
    "execution": {
     "iopub.execute_input": "2025-08-05T15:57:27.715320Z",
     "iopub.status.busy": "2025-08-05T15:57:27.714586Z",
     "iopub.status.idle": "2025-08-05T15:57:27.930925Z",
     "shell.execute_reply": "2025-08-05T15:57:27.929960Z"
    },
    "papermill": {
     "duration": 0.234428,
     "end_time": "2025-08-05T15:57:27.932946",
     "exception": false,
     "start_time": "2025-08-05T15:57:27.698518",
     "status": "completed"
    },
    "tags": []
   },
   "outputs": [],
   "source": [
    "from fairness_multiverse.conformal import build_cp_groups\n",
    "\n",
    "cp_groups_df = build_cp_groups(pred_sets, y_true, X_test.index, org_test)\n",
    "#needs universe_id and setting"
   ]
  },
  {
   "cell_type": "code",
   "execution_count": 53,
   "id": "6cbdab96-b2b2-45af-ad54-d0516db2e28d",
   "metadata": {
    "execution": {
     "iopub.execute_input": "2025-08-05T15:57:27.979738Z",
     "iopub.status.busy": "2025-08-05T15:57:27.979345Z",
     "iopub.status.idle": "2025-08-05T15:57:29.613031Z",
     "shell.execute_reply": "2025-08-05T15:57:29.612126Z"
    },
    "papermill": {
     "duration": 1.658252,
     "end_time": "2025-08-05T15:57:29.615249",
     "exception": false,
     "start_time": "2025-08-05T15:57:27.956997",
     "status": "completed"
    },
    "tags": []
   },
   "outputs": [],
   "source": [
    "# Define covered = 1 if true_label is in the predicted set\n",
    "cp_groups_df['covered'] = cp_groups_df.apply(\n",
    "    lambda r: int(r['true_label'] in r['pred_set']),\n",
    "    axis=1\n",
    ")"
   ]
  },
  {
   "cell_type": "code",
   "execution_count": 54,
   "id": "338ff529-1a6b-4b87-a931-8e4788d52aad",
   "metadata": {
    "execution": {
     "iopub.execute_input": "2025-08-05T15:57:29.660117Z",
     "iopub.status.busy": "2025-08-05T15:57:29.659431Z",
     "iopub.status.idle": "2025-08-05T15:57:29.664823Z",
     "shell.execute_reply": "2025-08-05T15:57:29.663897Z"
    },
    "papermill": {
     "duration": 0.029683,
     "end_time": "2025-08-05T15:57:29.666628",
     "exception": false,
     "start_time": "2025-08-05T15:57:29.636945",
     "status": "completed"
    },
    "tags": []
   },
   "outputs": [],
   "source": [
    "#cp_groups_df"
   ]
  },
  {
   "cell_type": "code",
   "execution_count": 55,
   "id": "90032e27-66df-4540-9169-4e89cfbaa758",
   "metadata": {
    "execution": {
     "iopub.execute_input": "2025-08-05T15:57:29.712390Z",
     "iopub.status.busy": "2025-08-05T15:57:29.711708Z",
     "iopub.status.idle": "2025-08-05T15:57:29.724722Z",
     "shell.execute_reply": "2025-08-05T15:57:29.723768Z"
    },
    "papermill": {
     "duration": 0.038148,
     "end_time": "2025-08-05T15:57:29.726586",
     "exception": false,
     "start_time": "2025-08-05T15:57:29.688438",
     "status": "completed"
    },
    "tags": []
   },
   "outputs": [],
   "source": [
    "subgroups = ['frau1','nongerman','nongerman_male','nongerman_female']\n",
    "\n",
    "# Conditional coverage for subgroup==1\n",
    "cond_coverage = {\n",
    "    g: cp_groups_df.loc[cp_groups_df[g]==1, 'covered'].mean()\n",
    "    for g in subgroups\n",
    "}"
   ]
  },
  {
   "cell_type": "code",
   "execution_count": 56,
   "id": "1e348fb1-b9c3-45bc-ba23-f016827a7e0d",
   "metadata": {
    "execution": {
     "iopub.execute_input": "2025-08-05T15:57:29.771866Z",
     "iopub.status.busy": "2025-08-05T15:57:29.770990Z",
     "iopub.status.idle": "2025-08-05T15:57:29.778720Z",
     "shell.execute_reply": "2025-08-05T15:57:29.777666Z"
    },
    "papermill": {
     "duration": 0.031808,
     "end_time": "2025-08-05T15:57:29.780432",
     "exception": false,
     "start_time": "2025-08-05T15:57:29.748624",
     "status": "completed"
    },
    "tags": []
   },
   "outputs": [
    {
     "data": {
      "text/plain": [
       "{'frau1': 0.914355034371209,\n",
       " 'nongerman': 0.9651378206927524,\n",
       " 'nongerman_male': 0.9695577771773395,\n",
       " 'nongerman_female': 0.9578241430700447}"
      ]
     },
     "execution_count": 56,
     "metadata": {},
     "output_type": "execute_result"
    }
   ],
   "source": [
    "cond_coverage"
   ]
  },
  {
   "cell_type": "code",
   "execution_count": 57,
   "id": "f5093324-c3dd-4d63-bc4c-8d945e5c8bbb",
   "metadata": {
    "execution": {
     "iopub.execute_input": "2025-08-05T15:57:29.826883Z",
     "iopub.status.busy": "2025-08-05T15:57:29.826160Z",
     "iopub.status.idle": "2025-08-05T15:57:29.834903Z",
     "shell.execute_reply": "2025-08-05T15:57:29.833914Z"
    },
    "papermill": {
     "duration": 0.032959,
     "end_time": "2025-08-05T15:57:29.836719",
     "exception": false,
     "start_time": "2025-08-05T15:57:29.803760",
     "status": "completed"
    },
    "tags": []
   },
   "outputs": [],
   "source": [
    "for subgroup, cov in cond_coverage.items():\n",
    "    cp_metrics_df[f\"cov_{subgroup}\"] = cov"
   ]
  },
  {
   "cell_type": "code",
   "execution_count": 58,
   "id": "6e872e10-dbe5-49e8-b554-5030c98ff75d",
   "metadata": {
    "execution": {
     "iopub.execute_input": "2025-08-05T15:57:29.882548Z",
     "iopub.status.busy": "2025-08-05T15:57:29.881867Z",
     "iopub.status.idle": "2025-08-05T15:57:29.901738Z",
     "shell.execute_reply": "2025-08-05T15:57:29.900593Z"
    },
    "papermill": {
     "duration": 0.044773,
     "end_time": "2025-08-05T15:57:29.903411",
     "exception": false,
     "start_time": "2025-08-05T15:57:29.858638",
     "status": "completed"
    },
    "tags": []
   },
   "outputs": [
    {
     "data": {
      "text/html": [
       "<div>\n",
       "<style scoped>\n",
       "    .dataframe tbody tr th:only-of-type {\n",
       "        vertical-align: middle;\n",
       "    }\n",
       "\n",
       "    .dataframe tbody tr th {\n",
       "        vertical-align: top;\n",
       "    }\n",
       "\n",
       "    .dataframe thead th {\n",
       "        text-align: right;\n",
       "    }\n",
       "</style>\n",
       "<table border=\"1\" class=\"dataframe\">\n",
       "  <thead>\n",
       "    <tr style=\"text-align: right;\">\n",
       "      <th></th>\n",
       "      <th>universe_id</th>\n",
       "      <th>universe_training_year</th>\n",
       "      <th>universe_training_size</th>\n",
       "      <th>universe_scale</th>\n",
       "      <th>universe_model</th>\n",
       "      <th>universe_exclude_features</th>\n",
       "      <th>universe_exclude_subgroups</th>\n",
       "      <th>q_hat</th>\n",
       "      <th>coverage</th>\n",
       "      <th>avg_size</th>\n",
       "      <th>cov_frau1</th>\n",
       "      <th>cov_nongerman</th>\n",
       "      <th>cov_nongerman_male</th>\n",
       "      <th>cov_nongerman_female</th>\n",
       "    </tr>\n",
       "  </thead>\n",
       "  <tbody>\n",
       "    <tr>\n",
       "      <th>0</th>\n",
       "      <td>eccb431de479919218ccaf82ad151388</td>\n",
       "      <td>2010_14</td>\n",
       "      <td>5k</td>\n",
       "      <td>do-not-scale</td>\n",
       "      <td>penalized_logreg</td>\n",
       "      <td>age</td>\n",
       "      <td>drop-non-german</td>\n",
       "      <td>0.670487</td>\n",
       "      <td>0.913867</td>\n",
       "      <td>1.255211</td>\n",
       "      <td>0.914355</td>\n",
       "      <td>0.965138</td>\n",
       "      <td>0.969558</td>\n",
       "      <td>0.957824</td>\n",
       "    </tr>\n",
       "  </tbody>\n",
       "</table>\n",
       "</div>"
      ],
      "text/plain": [
       "                        universe_id universe_training_year  \\\n",
       "0  eccb431de479919218ccaf82ad151388                2010_14   \n",
       "\n",
       "  universe_training_size universe_scale    universe_model  \\\n",
       "0                     5k   do-not-scale  penalized_logreg   \n",
       "\n",
       "  universe_exclude_features universe_exclude_subgroups     q_hat  coverage  \\\n",
       "0                       age            drop-non-german  0.670487  0.913867   \n",
       "\n",
       "   avg_size  cov_frau1  cov_nongerman  cov_nongerman_male  \\\n",
       "0  1.255211   0.914355       0.965138            0.969558   \n",
       "\n",
       "   cov_nongerman_female  \n",
       "0              0.957824  "
      ]
     },
     "execution_count": 58,
     "metadata": {},
     "output_type": "execute_result"
    }
   ],
   "source": [
    "cp_metrics_df"
   ]
  },
  {
   "cell_type": "markdown",
   "id": "33774451",
   "metadata": {
    "papermill": {
     "duration": 0.021582,
     "end_time": "2025-08-05T15:57:29.947506",
     "exception": false,
     "start_time": "2025-08-05T15:57:29.925924",
     "status": "completed"
    },
    "tags": []
   },
   "source": [
    "# (Fairness) Metrics"
   ]
  },
  {
   "cell_type": "code",
   "execution_count": 59,
   "id": "debc5d62",
   "metadata": {
    "execution": {
     "iopub.execute_input": "2025-08-05T15:57:29.993057Z",
     "iopub.status.busy": "2025-08-05T15:57:29.992350Z",
     "iopub.status.idle": "2025-08-05T15:57:30.014738Z",
     "shell.execute_reply": "2025-08-05T15:57:30.013730Z"
    },
    "papermill": {
     "duration": 0.047393,
     "end_time": "2025-08-05T15:57:30.016637",
     "exception": false,
     "start_time": "2025-08-05T15:57:29.969244",
     "status": "completed"
    },
    "tags": []
   },
   "outputs": [],
   "source": [
    "# do I need to include maxdeutsch1.missing?\n",
    "\n",
    "import numpy as np\n",
    "\n",
    "colname_to_bin = \"maxdeutsch1\"\n",
    "majority_value = org_train[colname_to_bin].mode()[0]\n",
    "\n",
    "org_test[\"majmin\"] = np.where(org_test[colname_to_bin] == majority_value, \"majority\", \"minority\")"
   ]
  },
  {
   "cell_type": "code",
   "execution_count": 60,
   "id": "06a50de5",
   "metadata": {
    "execution": {
     "iopub.execute_input": "2025-08-05T15:57:30.063059Z",
     "iopub.status.busy": "2025-08-05T15:57:30.062302Z",
     "iopub.status.idle": "2025-08-05T15:57:33.021333Z",
     "shell.execute_reply": "2025-08-05T15:57:33.020446Z"
    },
    "papermill": {
     "duration": 2.984453,
     "end_time": "2025-08-05T15:57:33.023364",
     "exception": false,
     "start_time": "2025-08-05T15:57:30.038911",
     "status": "completed"
    },
    "tags": []
   },
   "outputs": [],
   "source": [
    "example_universe = universe.copy()\n",
    "example_universe[\"cutoff\"] = example_universe[\"cutoff\"][0]\n",
    "example_universe[\"eval_fairness_grouping\"] = example_universe[\"eval_fairness_grouping\"][0]\n",
    "fairness_dict, metric_frame = universe_analysis.compute_metrics(\n",
    "    example_universe,\n",
    "    y_pred_prob=probs_test,\n",
    "    y_test=y_true,\n",
    "    org_test=org_test,\n",
    ")"
   ]
  },
  {
   "cell_type": "markdown",
   "id": "f95d4e02",
   "metadata": {
    "papermill": {
     "duration": 0.023859,
     "end_time": "2025-08-05T15:57:33.073331",
     "exception": false,
     "start_time": "2025-08-05T15:57:33.049472",
     "status": "completed"
    },
    "tags": []
   },
   "source": [
    "# Overall"
   ]
  },
  {
   "cell_type": "markdown",
   "id": "bdee4871",
   "metadata": {
    "papermill": {
     "duration": 0.025274,
     "end_time": "2025-08-05T15:57:33.121703",
     "exception": false,
     "start_time": "2025-08-05T15:57:33.096429",
     "status": "completed"
    },
    "tags": []
   },
   "source": [
    "Fairness\n",
    "Main fairness target: Equalized Odds. Seems to be a better fit than equal opportunity, since we're not only interested in Y = 1. Seems to be a better fit than demographic parity, since we also care about accuracy, not just equal distribution of preds.\n",
    "\n",
    "Pick column for computation of fairness metrics\n",
    "\n",
    "Performance\n",
    "Overall performance measures, most interesting in relation to the measures split by group below"
   ]
  },
  {
   "cell_type": "code",
   "execution_count": 61,
   "id": "c4e067c6",
   "metadata": {
    "execution": {
     "iopub.execute_input": "2025-08-05T15:57:33.172322Z",
     "iopub.status.busy": "2025-08-05T15:57:33.171313Z",
     "iopub.status.idle": "2025-08-05T15:57:33.179947Z",
     "shell.execute_reply": "2025-08-05T15:57:33.178877Z"
    },
    "papermill": {
     "duration": 0.035838,
     "end_time": "2025-08-05T15:57:33.181728",
     "exception": false,
     "start_time": "2025-08-05T15:57:33.145890",
     "status": "completed"
    },
    "tags": []
   },
   "outputs": [
    {
     "data": {
      "text/plain": [
       "accuracy                   0.217311\n",
       "balanced accuracy          0.532836\n",
       "f1                         0.238837\n",
       "precision                  0.136440\n",
       "false positive rate        0.891576\n",
       "false negative rate        0.042753\n",
       "selection rate             0.900000\n",
       "count                  89710.000000\n",
       "dtype: float64"
      ]
     },
     "execution_count": 61,
     "metadata": {},
     "output_type": "execute_result"
    }
   ],
   "source": [
    "metric_frame.overall"
   ]
  },
  {
   "cell_type": "markdown",
   "id": "e968fe9d",
   "metadata": {
    "papermill": {
     "duration": 0.025703,
     "end_time": "2025-08-05T15:57:33.232456",
     "exception": false,
     "start_time": "2025-08-05T15:57:33.206753",
     "status": "completed"
    },
    "tags": []
   },
   "source": [
    "By Group"
   ]
  },
  {
   "cell_type": "code",
   "execution_count": 62,
   "id": "ec325bce",
   "metadata": {
    "execution": {
     "iopub.execute_input": "2025-08-05T15:57:33.263661Z",
     "iopub.status.busy": "2025-08-05T15:57:33.263278Z",
     "iopub.status.idle": "2025-08-05T15:57:33.278167Z",
     "shell.execute_reply": "2025-08-05T15:57:33.276238Z"
    },
    "papermill": {
     "duration": 0.033017,
     "end_time": "2025-08-05T15:57:33.279750",
     "exception": false,
     "start_time": "2025-08-05T15:57:33.246733",
     "status": "completed"
    },
    "tags": []
   },
   "outputs": [
    {
     "data": {
      "text/html": [
       "<div>\n",
       "<style scoped>\n",
       "    .dataframe tbody tr th:only-of-type {\n",
       "        vertical-align: middle;\n",
       "    }\n",
       "\n",
       "    .dataframe tbody tr th {\n",
       "        vertical-align: top;\n",
       "    }\n",
       "\n",
       "    .dataframe thead th {\n",
       "        text-align: right;\n",
       "    }\n",
       "</style>\n",
       "<table border=\"1\" class=\"dataframe\">\n",
       "  <thead>\n",
       "    <tr style=\"text-align: right;\">\n",
       "      <th></th>\n",
       "      <th>accuracy</th>\n",
       "      <th>balanced accuracy</th>\n",
       "      <th>f1</th>\n",
       "      <th>precision</th>\n",
       "      <th>false positive rate</th>\n",
       "      <th>false negative rate</th>\n",
       "      <th>selection rate</th>\n",
       "      <th>count</th>\n",
       "    </tr>\n",
       "    <tr>\n",
       "      <th>majmin</th>\n",
       "      <th></th>\n",
       "      <th></th>\n",
       "      <th></th>\n",
       "      <th></th>\n",
       "      <th></th>\n",
       "      <th></th>\n",
       "      <th></th>\n",
       "      <th></th>\n",
       "    </tr>\n",
       "  </thead>\n",
       "  <tbody>\n",
       "    <tr>\n",
       "      <th>majority</th>\n",
       "      <td>0.239916</td>\n",
       "      <td>0.540715</td>\n",
       "      <td>0.248209</td>\n",
       "      <td>0.142763</td>\n",
       "      <td>0.868133</td>\n",
       "      <td>0.050438</td>\n",
       "      <td>0.878893</td>\n",
       "      <td>69170.0</td>\n",
       "    </tr>\n",
       "    <tr>\n",
       "      <th>minority</th>\n",
       "      <td>0.141188</td>\n",
       "      <td>0.508945</td>\n",
       "      <td>0.209465</td>\n",
       "      <td>0.117166</td>\n",
       "      <td>0.969018</td>\n",
       "      <td>0.013091</td>\n",
       "      <td>0.971081</td>\n",
       "      <td>20540.0</td>\n",
       "    </tr>\n",
       "  </tbody>\n",
       "</table>\n",
       "</div>"
      ],
      "text/plain": [
       "          accuracy  balanced accuracy        f1  precision  \\\n",
       "majmin                                                       \n",
       "majority  0.239916           0.540715  0.248209   0.142763   \n",
       "minority  0.141188           0.508945  0.209465   0.117166   \n",
       "\n",
       "          false positive rate  false negative rate  selection rate    count  \n",
       "majmin                                                                       \n",
       "majority             0.868133             0.050438        0.878893  69170.0  \n",
       "minority             0.969018             0.013091        0.971081  20540.0  "
      ]
     },
     "execution_count": 62,
     "metadata": {},
     "output_type": "execute_result"
    }
   ],
   "source": [
    "metric_frame.by_group"
   ]
  },
  {
   "cell_type": "code",
   "execution_count": 63,
   "id": "a9ddbe63",
   "metadata": {
    "execution": {
     "iopub.execute_input": "2025-08-05T15:57:33.308371Z",
     "iopub.status.busy": "2025-08-05T15:57:33.307674Z",
     "iopub.status.idle": "2025-08-05T15:57:35.115301Z",
     "shell.execute_reply": "2025-08-05T15:57:35.114524Z"
    },
    "papermill": {
     "duration": 1.823347,
     "end_time": "2025-08-05T15:57:35.116679",
     "exception": false,
     "start_time": "2025-08-05T15:57:33.293332",
     "status": "completed"
    },
    "tags": []
   },
   "outputs": [
    {
     "data": {
      "text/plain": [
       "array([[<Axes: title={'center': 'accuracy'}, xlabel='majmin'>,\n",
       "        <Axes: title={'center': 'balanced accuracy'}, xlabel='majmin'>,\n",
       "        <Axes: title={'center': 'f1'}, xlabel='majmin'>],\n",
       "       [<Axes: title={'center': 'precision'}, xlabel='majmin'>,\n",
       "        <Axes: title={'center': 'false positive rate'}, xlabel='majmin'>,\n",
       "        <Axes: title={'center': 'false negative rate'}, xlabel='majmin'>],\n",
       "       [<Axes: title={'center': 'selection rate'}, xlabel='majmin'>,\n",
       "        <Axes: title={'center': 'count'}, xlabel='majmin'>,\n",
       "        <Axes: xlabel='majmin'>]], dtype=object)"
      ]
     },
     "execution_count": 63,
     "metadata": {},
     "output_type": "execute_result"
    },
    {
     "data": {
      "image/png": "[encoded data removed]",
      "text/plain": [
       "<Figure size 1200x800 with 9 Axes>"
      ]
     },
     "metadata": {},
     "output_type": "display_data"
    }
   ],
   "source": [
    "# In a graphic\n",
    "metric_frame.by_group.plot.bar(\n",
    "    subplots=True,\n",
    "    layout=[3, 3],\n",
    "    legend=False,\n",
    "    figsize=[12, 8],\n",
    "    title=\"Show all metrics\",\n",
    ")"
   ]
  },
  {
   "cell_type": "markdown",
   "id": "f57a0bac",
   "metadata": {
    "papermill": {
     "duration": 0.013222,
     "end_time": "2025-08-05T15:57:35.144476",
     "exception": false,
     "start_time": "2025-08-05T15:57:35.131254",
     "status": "completed"
    },
    "tags": []
   },
   "source": [
    "# Final Output"
   ]
  },
  {
   "cell_type": "code",
   "execution_count": 64,
   "id": "96d280a3",
   "metadata": {
    "execution": {
     "iopub.execute_input": "2025-08-05T15:57:35.172922Z",
     "iopub.status.busy": "2025-08-05T15:57:35.172442Z",
     "iopub.status.idle": "2025-08-05T15:57:35.179159Z",
     "shell.execute_reply": "2025-08-05T15:57:35.178444Z"
    },
    "papermill": {
     "duration": 0.022405,
     "end_time": "2025-08-05T15:57:35.180437",
     "exception": false,
     "start_time": "2025-08-05T15:57:35.158032",
     "status": "completed"
    },
    "tags": []
   },
   "outputs": [
    {
     "data": {
      "text/plain": [
       "4"
      ]
     },
     "execution_count": 64,
     "metadata": {},
     "output_type": "execute_result"
    }
   ],
   "source": [
    "sub_universes = universe_analysis.generate_sub_universes()\n",
    "len(sub_universes)"
   ]
  },
  {
   "cell_type": "code",
   "execution_count": 65,
   "id": "92adf7ba",
   "metadata": {
    "execution": {
     "iopub.execute_input": "2025-08-05T15:57:35.209339Z",
     "iopub.status.busy": "2025-08-05T15:57:35.208498Z",
     "iopub.status.idle": "2025-08-05T15:57:35.271054Z",
     "shell.execute_reply": "2025-08-05T15:57:35.270231Z"
    },
    "papermill": {
     "duration": 0.078369,
     "end_time": "2025-08-05T15:57:35.272711",
     "exception": false,
     "start_time": "2025-08-05T15:57:35.194342",
     "status": "completed"
    },
    "tags": []
   },
   "outputs": [],
   "source": [
    "def filter_sub_universe_data(sub_universe, org_test):\n",
    "    # Keep all rows — no filtering\n",
    "    keep_rows_mask = np.ones(org_test.shape[0], dtype=bool)\n",
    "\n",
    "    print(f\"[INFO] Keeping all rows: {keep_rows_mask.sum()} rows retained.\")\n",
    "    return keep_rows_mask"
   ]
  },
  {
   "cell_type": "code",
   "execution_count": 66,
   "id": "4a759155",
   "metadata": {
    "execution": {
     "iopub.execute_input": "2025-08-05T15:57:35.304217Z",
     "iopub.status.busy": "2025-08-05T15:57:35.303415Z",
     "iopub.status.idle": "2025-08-05T15:57:43.355164Z",
     "shell.execute_reply": "2025-08-05T15:57:43.354457Z"
    },
    "papermill": {
     "duration": 8.067967,
     "end_time": "2025-08-05T15:57:43.356428",
     "exception": false,
     "start_time": "2025-08-05T15:57:35.288461",
     "status": "completed"
    },
    "tags": []
   },
   "outputs": [
    {
     "name": "stdout",
     "output_type": "stream",
     "text": [
      "Stopping execution_time clock.\n",
      "[INFO] Keeping all rows: 89710 rows retained.\n"
     ]
    },
    {
     "name": "stdout",
     "output_type": "stream",
     "text": [
      "[INFO] Keeping all rows: 89710 rows retained.\n"
     ]
    },
    {
     "name": "stdout",
     "output_type": "stream",
     "text": [
      "[INFO] Keeping all rows: 89710 rows retained.\n"
     ]
    },
    {
     "name": "stdout",
     "output_type": "stream",
     "text": [
      "[INFO] Keeping all rows: 89710 rows retained.\n"
     ]
    },
    {
     "data": {
      "text/html": [
       "<div>\n",
       "<style scoped>\n",
       "    .dataframe tbody tr th:only-of-type {\n",
       "        vertical-align: middle;\n",
       "    }\n",
       "\n",
       "    .dataframe tbody tr th {\n",
       "        vertical-align: top;\n",
       "    }\n",
       "\n",
       "    .dataframe thead th {\n",
       "        text-align: right;\n",
       "    }\n",
       "</style>\n",
       "<table border=\"1\" class=\"dataframe\">\n",
       "  <thead>\n",
       "    <tr style=\"text-align: right;\">\n",
       "      <th></th>\n",
       "      <th>run_no</th>\n",
       "      <th>universe_id</th>\n",
       "      <th>universe_settings</th>\n",
       "      <th>execution_time</th>\n",
       "      <th>test_size_n</th>\n",
       "      <th>test_size_frac</th>\n",
       "      <th>fair_main_equalized_odds_difference</th>\n",
       "      <th>fair_main_equalized_odds_ratio</th>\n",
       "      <th>fair_main_demographic_parity_difference</th>\n",
       "      <th>fair_main_demographic_parity_ratio</th>\n",
       "      <th>...</th>\n",
       "      <th>perf_grp_precision_0</th>\n",
       "      <th>perf_grp_precision_1</th>\n",
       "      <th>perf_grp_false positive rate_0</th>\n",
       "      <th>perf_grp_false positive rate_1</th>\n",
       "      <th>perf_grp_false negative rate_0</th>\n",
       "      <th>perf_grp_false negative rate_1</th>\n",
       "      <th>perf_grp_selection rate_0</th>\n",
       "      <th>perf_grp_selection rate_1</th>\n",
       "      <th>perf_grp_count_0</th>\n",
       "      <th>perf_grp_count_1</th>\n",
       "    </tr>\n",
       "  </thead>\n",
       "  <tbody>\n",
       "    <tr>\n",
       "      <th>0</th>\n",
       "      <td>15</td>\n",
       "      <td>eccb431de479919218ccaf82ad151388</td>\n",
       "      <td>{\"cutoff\": \"quantile_0.1\", \"eval_fairness_grou...</td>\n",
       "      <td>26.2541</td>\n",
       "      <td>89710</td>\n",
       "      <td>1.0</td>\n",
       "      <td>0.100886</td>\n",
       "      <td>0.895889</td>\n",
       "      <td>0.092188</td>\n",
       "      <td>0.905066</td>\n",
       "      <td>...</td>\n",
       "      <td>NaN</td>\n",
       "      <td>NaN</td>\n",
       "      <td>NaN</td>\n",
       "      <td>NaN</td>\n",
       "      <td>NaN</td>\n",
       "      <td>NaN</td>\n",
       "      <td>NaN</td>\n",
       "      <td>NaN</td>\n",
       "      <td>NaN</td>\n",
       "      <td>NaN</td>\n",
       "    </tr>\n",
       "    <tr>\n",
       "      <th>0</th>\n",
       "      <td>15</td>\n",
       "      <td>eccb431de479919218ccaf82ad151388</td>\n",
       "      <td>{\"cutoff\": \"quantile_0.1\", \"eval_fairness_grou...</td>\n",
       "      <td>26.2541</td>\n",
       "      <td>89710</td>\n",
       "      <td>1.0</td>\n",
       "      <td>0.100886</td>\n",
       "      <td>0.895889</td>\n",
       "      <td>0.092188</td>\n",
       "      <td>0.905066</td>\n",
       "      <td>...</td>\n",
       "      <td>0.117166</td>\n",
       "      <td>0.142763</td>\n",
       "      <td>0.969018</td>\n",
       "      <td>0.868133</td>\n",
       "      <td>0.013091</td>\n",
       "      <td>0.050438</td>\n",
       "      <td>0.971081</td>\n",
       "      <td>0.878893</td>\n",
       "      <td>20540.0</td>\n",
       "      <td>69170.0</td>\n",
       "    </tr>\n",
       "    <tr>\n",
       "      <th>0</th>\n",
       "      <td>15</td>\n",
       "      <td>eccb431de479919218ccaf82ad151388</td>\n",
       "      <td>{\"cutoff\": \"quantile_0.25\", \"eval_fairness_gro...</td>\n",
       "      <td>26.2541</td>\n",
       "      <td>89710</td>\n",
       "      <td>1.0</td>\n",
       "      <td>0.239522</td>\n",
       "      <td>0.738599</td>\n",
       "      <td>0.220943</td>\n",
       "      <td>0.759936</td>\n",
       "      <td>...</td>\n",
       "      <td>NaN</td>\n",
       "      <td>NaN</td>\n",
       "      <td>NaN</td>\n",
       "      <td>NaN</td>\n",
       "      <td>NaN</td>\n",
       "      <td>NaN</td>\n",
       "      <td>NaN</td>\n",
       "      <td>NaN</td>\n",
       "      <td>NaN</td>\n",
       "      <td>NaN</td>\n",
       "    </tr>\n",
       "    <tr>\n",
       "      <th>0</th>\n",
       "      <td>15</td>\n",
       "      <td>eccb431de479919218ccaf82ad151388</td>\n",
       "      <td>{\"cutoff\": \"quantile_0.25\", \"eval_fairness_gro...</td>\n",
       "      <td>26.2541</td>\n",
       "      <td>89710</td>\n",
       "      <td>1.0</td>\n",
       "      <td>0.239522</td>\n",
       "      <td>0.738599</td>\n",
       "      <td>0.220943</td>\n",
       "      <td>0.759936</td>\n",
       "      <td>...</td>\n",
       "      <td>0.119181</td>\n",
       "      <td>0.160217</td>\n",
       "      <td>0.916300</td>\n",
       "      <td>0.676778</td>\n",
       "      <td>0.048564</td>\n",
       "      <td>0.151969</td>\n",
       "      <td>0.920351</td>\n",
       "      <td>0.699407</td>\n",
       "      <td>20540.0</td>\n",
       "      <td>69170.0</td>\n",
       "    </tr>\n",
       "  </tbody>\n",
       "</table>\n",
       "<p>4 rows × 50 columns</p>\n",
       "</div>"
      ],
      "text/plain": [
       "  run_no                       universe_id  \\\n",
       "0     15  eccb431de479919218ccaf82ad151388   \n",
       "0     15  eccb431de479919218ccaf82ad151388   \n",
       "0     15  eccb431de479919218ccaf82ad151388   \n",
       "0     15  eccb431de479919218ccaf82ad151388   \n",
       "\n",
       "                                   universe_settings  execution_time  \\\n",
       "0  {\"cutoff\": \"quantile_0.1\", \"eval_fairness_grou...         26.2541   \n",
       "0  {\"cutoff\": \"quantile_0.1\", \"eval_fairness_grou...         26.2541   \n",
       "0  {\"cutoff\": \"quantile_0.25\", \"eval_fairness_gro...         26.2541   \n",
       "0  {\"cutoff\": \"quantile_0.25\", \"eval_fairness_gro...         26.2541   \n",
       "\n",
       "   test_size_n  test_size_frac  fair_main_equalized_odds_difference  \\\n",
       "0        89710             1.0                             0.100886   \n",
       "0        89710             1.0                             0.100886   \n",
       "0        89710             1.0                             0.239522   \n",
       "0        89710             1.0                             0.239522   \n",
       "\n",
       "   fair_main_equalized_odds_ratio  fair_main_demographic_parity_difference  \\\n",
       "0                        0.895889                                 0.092188   \n",
       "0                        0.895889                                 0.092188   \n",
       "0                        0.738599                                 0.220943   \n",
       "0                        0.738599                                 0.220943   \n",
       "\n",
       "   fair_main_demographic_parity_ratio  ...  perf_grp_precision_0  \\\n",
       "0                            0.905066  ...                   NaN   \n",
       "0                            0.905066  ...              0.117166   \n",
       "0                            0.759936  ...                   NaN   \n",
       "0                            0.759936  ...              0.119181   \n",
       "\n",
       "   perf_grp_precision_1  perf_grp_false positive rate_0  \\\n",
       "0                   NaN                             NaN   \n",
       "0              0.142763                        0.969018   \n",
       "0                   NaN                             NaN   \n",
       "0              0.160217                        0.916300   \n",
       "\n",
       "   perf_grp_false positive rate_1  perf_grp_false negative rate_0  \\\n",
       "0                             NaN                             NaN   \n",
       "0                        0.868133                        0.013091   \n",
       "0                             NaN                             NaN   \n",
       "0                        0.676778                        0.048564   \n",
       "\n",
       "   perf_grp_false negative rate_1  perf_grp_selection rate_0  \\\n",
       "0                             NaN                        NaN   \n",
       "0                        0.050438                   0.971081   \n",
       "0                             NaN                        NaN   \n",
       "0                        0.151969                   0.920351   \n",
       "\n",
       "   perf_grp_selection rate_1  perf_grp_count_0  perf_grp_count_1  \n",
       "0                        NaN               NaN               NaN  \n",
       "0                   0.878893           20540.0           69170.0  \n",
       "0                        NaN               NaN               NaN  \n",
       "0                   0.699407           20540.0           69170.0  \n",
       "\n",
       "[4 rows x 50 columns]"
      ]
     },
     "execution_count": 66,
     "metadata": {},
     "output_type": "execute_result"
    }
   ],
   "source": [
    "final_output = universe_analysis.generate_final_output(\n",
    "    y_pred_prob=probs_test,\n",
    "    y_test=y_true,\n",
    "    org_test=org_test,\n",
    "    filter_data=filter_sub_universe_data,\n",
    "    cp_metrics_df=cp_metrics_df,\n",
    "    save=True,\n",
    ")\n",
    "final_output"
   ]
  }
 ],
 "metadata": {
  "celltoolbar": "Tags",
  "kernelspec": {
   "display_name": "Python (CMA Fairness)",
   "language": "python",
   "name": "cma_fair_env"
  },
  "language_info": {
   "codemirror_mode": {
    "name": "ipython",
    "version": 3
   },
   "file_extension": ".py",
   "mimetype": "text/x-python",
   "name": "python",
   "nbconvert_exporter": "python",
   "pygments_lexer": "ipython3",
   "version": "3.10.12"
  },
  "papermill": {
   "default_parameters": {},
   "duration": 38.189461,
   "end_time": "2025-08-05T15:57:43.990408",
   "environment_variables": {},
   "exception": null,
   "input_path": "universe_analysis.ipynb",
   "output_path": "output/runs/15/notebooks/m_15-eccb431de479919218ccaf82ad151388.ipynb",
   "parameters": {
    "output_dir": "output",
    "run_no": "15",
    "seed": "2023",
    "universe": "{\"cutoff\": [\"quantile_0.1\", \"quantile_0.25\"], \"eval_fairness_grouping\": [\"majority-minority\", \"nationality-all\"], \"exclude_features\": \"age\", \"exclude_subgroups\": \"drop-non-german\", \"model\": \"penalized_logreg\", \"scale\": \"do-not-scale\", \"training_size\": \"5k\", \"training_year\": \"2010_14\"}",
    "universe_id": "eccb431de479919218ccaf82ad151388"
   },
   "start_time": "2025-08-05T15:57:05.800947",
   "version": "2.6.0"
  }
 },
 "nbformat": 4,
 "nbformat_minor": 5
}