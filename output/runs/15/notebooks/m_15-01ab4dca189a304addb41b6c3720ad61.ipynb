{
 "cells": [
  {
   "cell_type": "code",
   "execution_count": 1,
   "id": "f159f837-637b-42ba-96b5-ec9a68c44524",
   "metadata": {
    "execution": {
     "iopub.execute_input": "2025-08-05T15:56:33.353363Z",
     "iopub.status.busy": "2025-08-05T15:56:33.352690Z",
     "iopub.status.idle": "2025-08-05T15:56:33.369192Z",
     "shell.execute_reply": "2025-08-05T15:56:33.367646Z"
    },
    "papermill": {
     "duration": 0.028954,
     "end_time": "2025-08-05T15:56:33.371259",
     "exception": false,
     "start_time": "2025-08-05T15:56:33.342305",
     "status": "completed"
    },
    "tags": []
   },
   "outputs": [
    {
     "name": "stdout",
     "output_type": "stream",
     "text": [
      "/dss/dsshome1/0C/ra93lal2/cma/CMA_Fairness_v2\n"
     ]
    },
    {
     "name": "stderr",
     "output_type": "stream",
     "text": [
      "/dss/dsshome1/0C/ra93lal2/.local/share/virtualenvs/CMA_Fairness_v2-3j10GkSs/lib/python3.10/site-packages/IPython/core/magics/osm.py:393: UserWarning: This is now an optional IPython functionality, using bookmarks requires you to install the `pickleshare` library.\n",
      "  bkms = self.shell.db.get('bookmarks', {})\n",
      "/dss/dsshome1/0C/ra93lal2/.local/share/virtualenvs/CMA_Fairness_v2-3j10GkSs/lib/python3.10/site-packages/IPython/core/magics/osm.py:417: UserWarning: This is now an optional IPython functionality, setting dhist requires you to install the `pickleshare` library.\n",
      "  self.shell.db['dhist'] = compress_dhist(dhist)[-100:]\n"
     ]
    }
   ],
   "source": [
    "%cd ~/cma/CMA_Fairness_v2"
   ]
  },
  {
   "cell_type": "markdown",
   "id": "de2603b9",
   "metadata": {
    "papermill": {
     "duration": 0.021668,
     "end_time": "2025-08-05T15:56:33.414295",
     "exception": false,
     "start_time": "2025-08-05T15:56:33.392627",
     "status": "completed"
    },
    "tags": []
   },
   "source": [
    "The following cell holds the definition of our parameters, these values can be overriden by rendering the with e.g. the following command:\n",
    "\n",
    "papermill -p alpha 0.2 -p ratio 0.3 universe_analysis.ipynb output/test_run.ipynb"
   ]
  },
  {
   "cell_type": "code",
   "execution_count": 2,
   "id": "a80968a0-40bb-4fa9-85ef-2d5eefb01975",
   "metadata": {
    "execution": {
     "iopub.execute_input": "2025-08-05T15:56:33.455176Z",
     "iopub.status.busy": "2025-08-05T15:56:33.454192Z",
     "iopub.status.idle": "2025-08-05T15:56:33.461246Z",
     "shell.execute_reply": "2025-08-05T15:56:33.459993Z"
    },
    "papermill": {
     "duration": 0.029257,
     "end_time": "2025-08-05T15:56:33.463301",
     "exception": false,
     "start_time": "2025-08-05T15:56:33.434044",
     "status": "completed"
    },
    "tags": []
   },
   "outputs": [
    {
     "name": "stdout",
     "output_type": "stream",
     "text": [
      "Current working directory: /dss/dsshome1/0C/ra93lal2/cma/CMA_Fairness_v2\n"
     ]
    }
   ],
   "source": [
    "import os\n",
    "print(\"Current working directory:\", os.getcwd())"
   ]
  },
  {
   "cell_type": "code",
   "execution_count": 3,
   "id": "2dce4c03",
   "metadata": {
    "execution": {
     "iopub.execute_input": "2025-08-05T15:56:33.510289Z",
     "iopub.status.busy": "2025-08-05T15:56:33.509935Z",
     "iopub.status.idle": "2025-08-05T15:56:33.524324Z",
     "shell.execute_reply": "2025-08-05T15:56:33.523246Z"
    },
    "papermill": {
     "duration": 0.04004,
     "end_time": "2025-08-05T15:56:33.526138",
     "exception": false,
     "start_time": "2025-08-05T15:56:33.486098",
     "status": "completed"
    },
    "tags": [
     "parameters"
    ]
   },
   "outputs": [],
   "source": [
    "run_no = 0\n",
    "universe_id = \"test\"\n",
    "universe = {\n",
    "    \"training_size\": \"25k\", # \"25k\", \"5k\", \"1k\"\n",
    "    \"training_year\": \"2014\", # \"2014\", \"2012_14\", \"2010_14\"\n",
    "    \"scale\": \"scale\", # \"scale\", \"do-not-scale\",\n",
    "    \"model\": \"elasticnet\", # \"logreg\", \"penalized_logreg\", \"rf\", \"gbm\", \"elasticnet\"\n",
    "    \"cutoff\": [\"quantile_0.15\", \"quantile_0.30\"],\n",
    "    \"exclude_features\": \"age\", # \"none\", \"nationality\", \"sex\", \"nationality-sex\", \"age\"\n",
    "    \"exclude_subgroups\": \"keep-all\", # \"keep-all\", \"drop-non-german\"\n",
    "    \"eval_fairness_grouping\": [\"majority-minority\", \"nationality-all\"]\n",
    "}\n",
    "\n",
    "output_dir=\"./output\"\n",
    "seed=0"
   ]
  },
  {
   "cell_type": "code",
   "execution_count": 4,
   "id": "3ea8d52d",
   "metadata": {
    "execution": {
     "iopub.execute_input": "2025-08-05T15:56:33.567841Z",
     "iopub.status.busy": "2025-08-05T15:56:33.567023Z",
     "iopub.status.idle": "2025-08-05T15:56:33.571839Z",
     "shell.execute_reply": "2025-08-05T15:56:33.571157Z"
    },
    "papermill": {
     "duration": 0.027367,
     "end_time": "2025-08-05T15:56:33.573133",
     "exception": false,
     "start_time": "2025-08-05T15:56:33.545766",
     "status": "completed"
    },
    "tags": [
     "injected-parameters"
    ]
   },
   "outputs": [],
   "source": [
    "# Parameters\n",
    "universe_id = \"01ab4dca189a304addb41b6c3720ad61\"\n",
    "run_no = \"15\"\n",
    "universe = \"{\\\"cutoff\\\": [\\\"quantile_0.1\\\", \\\"quantile_0.25\\\"], \\\"eval_fairness_grouping\\\": [\\\"majority-minority\\\", \\\"nationality-all\\\"], \\\"exclude_features\\\": \\\"nationality-sex\\\", \\\"exclude_subgroups\\\": \\\"keep-all\\\", \\\"model\\\": \\\"penalized_logreg\\\", \\\"scale\\\": \\\"do-not-scale\\\", \\\"training_size\\\": \\\"5k\\\", \\\"training_year\\\": \\\"2010_14\\\"}\"\n",
    "output_dir = \"output\"\n",
    "seed = \"2023\"\n"
   ]
  },
  {
   "cell_type": "code",
   "execution_count": 5,
   "id": "1650acaf",
   "metadata": {
    "execution": {
     "iopub.execute_input": "2025-08-05T15:56:33.596563Z",
     "iopub.status.busy": "2025-08-05T15:56:33.595779Z",
     "iopub.status.idle": "2025-08-05T15:56:33.603398Z",
     "shell.execute_reply": "2025-08-05T15:56:33.602650Z"
    },
    "papermill": {
     "duration": 0.020604,
     "end_time": "2025-08-05T15:56:33.605015",
     "exception": false,
     "start_time": "2025-08-05T15:56:33.584411",
     "status": "completed"
    },
    "tags": []
   },
   "outputs": [],
   "source": [
    "import json\n",
    "if isinstance(universe, str):\n",
    "    universe = json.loads(universe)"
   ]
  },
  {
   "cell_type": "code",
   "execution_count": 6,
   "id": "16620c48",
   "metadata": {
    "execution": {
     "iopub.execute_input": "2025-08-05T15:56:33.625736Z",
     "iopub.status.busy": "2025-08-05T15:56:33.625169Z",
     "iopub.status.idle": "2025-08-05T15:56:33.654961Z",
     "shell.execute_reply": "2025-08-05T15:56:33.654193Z"
    },
    "papermill": {
     "duration": 0.041303,
     "end_time": "2025-08-05T15:56:33.656556",
     "exception": false,
     "start_time": "2025-08-05T15:56:33.615253",
     "status": "completed"
    },
    "tags": []
   },
   "outputs": [],
   "source": [
    "# Auto-reload the custom package\n",
    "%load_ext autoreload\n",
    "%autoreload 1\n",
    "%aimport fairness_multiverse"
   ]
  },
  {
   "cell_type": "code",
   "execution_count": 7,
   "id": "01c5c9f3",
   "metadata": {
    "execution": {
     "iopub.execute_input": "2025-08-05T15:56:33.676622Z",
     "iopub.status.busy": "2025-08-05T15:56:33.676103Z",
     "iopub.status.idle": "2025-08-05T15:56:35.233157Z",
     "shell.execute_reply": "2025-08-05T15:56:35.231749Z"
    },
    "papermill": {
     "duration": 1.569201,
     "end_time": "2025-08-05T15:56:35.235405",
     "exception": false,
     "start_time": "2025-08-05T15:56:33.666204",
     "status": "completed"
    },
    "tags": []
   },
   "outputs": [],
   "source": [
    "from fairness_multiverse.universe import UniverseAnalysis\n",
    "\n",
    "universe_analysis = UniverseAnalysis(\n",
    "    run_no = run_no,\n",
    "    universe_id = universe_id,\n",
    "    universe = universe,\n",
    "    output_dir=output_dir,\n",
    ")"
   ]
  },
  {
   "cell_type": "code",
   "execution_count": 8,
   "id": "106241f5",
   "metadata": {
    "execution": {
     "iopub.execute_input": "2025-08-05T15:56:35.276861Z",
     "iopub.status.busy": "2025-08-05T15:56:35.276201Z",
     "iopub.status.idle": "2025-08-05T15:56:35.284695Z",
     "shell.execute_reply": "2025-08-05T15:56:35.282981Z"
    },
    "papermill": {
     "duration": 0.031213,
     "end_time": "2025-08-05T15:56:35.286624",
     "exception": false,
     "start_time": "2025-08-05T15:56:35.255411",
     "status": "completed"
    },
    "tags": []
   },
   "outputs": [
    {
     "name": "stdout",
     "output_type": "stream",
     "text": [
      "Using Seed: 2023\n"
     ]
    }
   ],
   "source": [
    "import numpy as np\n",
    "parsed_seed = int(seed)\n",
    "np.random.seed(parsed_seed)\n",
    "print(f\"Using Seed: {parsed_seed}\")"
   ]
  },
  {
   "cell_type": "markdown",
   "id": "e0ebdc57",
   "metadata": {
    "papermill": {
     "duration": 0.016191,
     "end_time": "2025-08-05T15:56:35.319302",
     "exception": false,
     "start_time": "2025-08-05T15:56:35.303111",
     "status": "completed"
    },
    "tags": []
   },
   "source": [
    "# Loading Data"
   ]
  },
  {
   "cell_type": "code",
   "execution_count": 9,
   "id": "f0496b8a",
   "metadata": {
    "execution": {
     "iopub.execute_input": "2025-08-05T15:56:35.353814Z",
     "iopub.status.busy": "2025-08-05T15:56:35.353157Z",
     "iopub.status.idle": "2025-08-05T15:56:46.600464Z",
     "shell.execute_reply": "2025-08-05T15:56:46.599363Z"
    },
    "papermill": {
     "duration": 11.266846,
     "end_time": "2025-08-05T15:56:46.601945",
     "exception": false,
     "start_time": "2025-08-05T15:56:35.335099",
     "status": "completed"
    },
    "tags": []
   },
   "outputs": [
    {
     "name": "stdout",
     "output_type": "stream",
     "text": [
      "Loading SIAB data from cache: data/siab_cached.csv.gz\n"
     ]
    },
    {
     "name": "stdout",
     "output_type": "stream",
     "text": [
      "(643690, 164)\n"
     ]
    }
   ],
   "source": [
    "from pathlib import Path\n",
    "import pandas as pd\n",
    "\n",
    "# File paths\n",
    "raw_file = Path(\"data/raw/siab.csv\")\n",
    "cache_file = Path(\"data/siab_cached.csv.gz\")\n",
    "\n",
    "# Ensure cache directory exists\n",
    "cache_file.parent.mkdir(parents=True, exist_ok=True)\n",
    "\n",
    "# Load with simple caching\n",
    "if cache_file.exists():\n",
    "    print(f\"Loading SIAB data from cache: {cache_file}\")\n",
    "    siab = pd.read_csv(cache_file, compression='gzip')\n",
    "else:\n",
    "    print(f\"Cache not found. Reading raw SIAB data: {raw_file}\")\n",
    "    siab = pd.read_csv(raw_file)\n",
    "    siab.to_csv(cache_file, index=False, compression='gzip')\n",
    "    print(f\"Cached SIAB data to: {cache_file}\")\n",
    "\n",
    "print(siab.shape)"
   ]
  },
  {
   "cell_type": "code",
   "execution_count": 10,
   "id": "db0ca512-5f53-4dba-abdb-a2888bca41ba",
   "metadata": {
    "execution": {
     "iopub.execute_input": "2025-08-05T15:56:46.633191Z",
     "iopub.status.busy": "2025-08-05T15:56:46.632743Z",
     "iopub.status.idle": "2025-08-05T15:56:46.638117Z",
     "shell.execute_reply": "2025-08-05T15:56:46.637187Z"
    },
    "papermill": {
     "duration": 0.025559,
     "end_time": "2025-08-05T15:56:46.640024",
     "exception": false,
     "start_time": "2025-08-05T15:56:46.614465",
     "status": "completed"
    },
    "tags": []
   },
   "outputs": [],
   "source": [
    "#siab"
   ]
  },
  {
   "cell_type": "markdown",
   "id": "997051c5-15bd-4b69-9786-c3001a3ce484",
   "metadata": {
    "papermill": {
     "duration": 0.018842,
     "end_time": "2025-08-05T15:56:46.678447",
     "exception": false,
     "start_time": "2025-08-05T15:56:46.659605",
     "status": "completed"
    },
    "tags": []
   },
   "source": [
    "# Splitting Data and Setting Training Data Size"
   ]
  },
  {
   "cell_type": "code",
   "execution_count": 11,
   "id": "aea9c6ef-6f46-42c8-85eb-5a62025c1508",
   "metadata": {
    "execution": {
     "iopub.execute_input": "2025-08-05T15:56:46.721199Z",
     "iopub.status.busy": "2025-08-05T15:56:46.720645Z",
     "iopub.status.idle": "2025-08-05T15:56:47.778770Z",
     "shell.execute_reply": "2025-08-05T15:56:47.777728Z"
    },
    "papermill": {
     "duration": 1.083162,
     "end_time": "2025-08-05T15:56:47.780892",
     "exception": false,
     "start_time": "2025-08-05T15:56:46.697730",
     "status": "completed"
    },
    "tags": []
   },
   "outputs": [],
   "source": [
    "from fairness_multiverse.universe import sample_by_year_size\n",
    "\n",
    "siab_train = sample_by_year_size(siab,\n",
    "                               training_year=universe[\"training_year\"],\n",
    "                               training_size=universe[\"training_size\"])"
   ]
  },
  {
   "cell_type": "code",
   "execution_count": 12,
   "id": "8d3afb32-789d-442c-8d5d-9f5aa8dd2eed",
   "metadata": {
    "execution": {
     "iopub.execute_input": "2025-08-05T15:56:47.813623Z",
     "iopub.status.busy": "2025-08-05T15:56:47.813207Z",
     "iopub.status.idle": "2025-08-05T15:56:47.817414Z",
     "shell.execute_reply": "2025-08-05T15:56:47.816659Z"
    },
    "papermill": {
     "duration": 0.017725,
     "end_time": "2025-08-05T15:56:47.818762",
     "exception": false,
     "start_time": "2025-08-05T15:56:47.801037",
     "status": "completed"
    },
    "tags": []
   },
   "outputs": [],
   "source": [
    "#siab_train.shape"
   ]
  },
  {
   "cell_type": "code",
   "execution_count": 13,
   "id": "d582db68-1a4c-47fb-84fc-08518dc1975a",
   "metadata": {
    "execution": {
     "iopub.execute_input": "2025-08-05T15:56:47.841112Z",
     "iopub.status.busy": "2025-08-05T15:56:47.840598Z",
     "iopub.status.idle": "2025-08-05T15:56:47.848895Z",
     "shell.execute_reply": "2025-08-05T15:56:47.847853Z"
    },
    "papermill": {
     "duration": 0.021116,
     "end_time": "2025-08-05T15:56:47.850551",
     "exception": false,
     "start_time": "2025-08-05T15:56:47.829435",
     "status": "completed"
    },
    "tags": []
   },
   "outputs": [],
   "source": [
    "#display(siab_train.groupby(\"year\").size())"
   ]
  },
  {
   "cell_type": "code",
   "execution_count": 14,
   "id": "a561edb4-d032-42cb-8256-22eac1111c64",
   "metadata": {
    "execution": {
     "iopub.execute_input": "2025-08-05T15:56:47.872145Z",
     "iopub.status.busy": "2025-08-05T15:56:47.871349Z",
     "iopub.status.idle": "2025-08-05T15:56:48.122841Z",
     "shell.execute_reply": "2025-08-05T15:56:48.122079Z"
    },
    "papermill": {
     "duration": 0.263325,
     "end_time": "2025-08-05T15:56:48.124291",
     "exception": false,
     "start_time": "2025-08-05T15:56:47.860966",
     "status": "completed"
    },
    "tags": []
   },
   "outputs": [],
   "source": [
    "#siab_train = siab_s[siab_s.year < 2015]\n",
    "siab_calib = siab[siab.year == 2015]\n",
    "siab_test = siab[siab.year == 2016]"
   ]
  },
  {
   "cell_type": "code",
   "execution_count": 15,
   "id": "472de16f-c3db-4916-846b-1f0de9cf1746",
   "metadata": {
    "execution": {
     "iopub.execute_input": "2025-08-05T15:56:48.144794Z",
     "iopub.status.busy": "2025-08-05T15:56:48.144442Z",
     "iopub.status.idle": "2025-08-05T15:56:48.153160Z",
     "shell.execute_reply": "2025-08-05T15:56:48.152213Z"
    },
    "papermill": {
     "duration": 0.020599,
     "end_time": "2025-08-05T15:56:48.154690",
     "exception": false,
     "start_time": "2025-08-05T15:56:48.134091",
     "status": "completed"
    },
    "tags": []
   },
   "outputs": [],
   "source": [
    "X_train = siab_train.iloc[:,4:164]\n",
    "y_train = siab_train.iloc[:, [3]]"
   ]
  },
  {
   "cell_type": "code",
   "execution_count": 16,
   "id": "828c96af-f43a-4ed6-ba47-8ac73a47d56c",
   "metadata": {
    "execution": {
     "iopub.execute_input": "2025-08-05T15:56:48.181045Z",
     "iopub.status.busy": "2025-08-05T15:56:48.180447Z",
     "iopub.status.idle": "2025-08-05T15:56:48.235168Z",
     "shell.execute_reply": "2025-08-05T15:56:48.232806Z"
    },
    "papermill": {
     "duration": 0.068372,
     "end_time": "2025-08-05T15:56:48.237340",
     "exception": false,
     "start_time": "2025-08-05T15:56:48.168968",
     "status": "completed"
    },
    "tags": []
   },
   "outputs": [],
   "source": [
    "X_calib = siab_calib.iloc[:,4:164]\n",
    "y_calib = siab_calib.iloc[:, [3]]"
   ]
  },
  {
   "cell_type": "code",
   "execution_count": 17,
   "id": "c34be9c3-6bd6-476e-acd3-845840e303be",
   "metadata": {
    "execution": {
     "iopub.execute_input": "2025-08-05T15:56:48.261486Z",
     "iopub.status.busy": "2025-08-05T15:56:48.261203Z",
     "iopub.status.idle": "2025-08-05T15:56:48.309147Z",
     "shell.execute_reply": "2025-08-05T15:56:48.308041Z"
    },
    "papermill": {
     "duration": 0.059936,
     "end_time": "2025-08-05T15:56:48.310633",
     "exception": false,
     "start_time": "2025-08-05T15:56:48.250697",
     "status": "completed"
    },
    "tags": []
   },
   "outputs": [],
   "source": [
    "X_test = siab_test.iloc[:,4:164]\n",
    "y_true = siab_test.iloc[:, [3]]"
   ]
  },
  {
   "cell_type": "code",
   "execution_count": 18,
   "id": "e6c733c5",
   "metadata": {
    "execution": {
     "iopub.execute_input": "2025-08-05T15:56:48.331557Z",
     "iopub.status.busy": "2025-08-05T15:56:48.331159Z",
     "iopub.status.idle": "2025-08-05T15:56:48.431887Z",
     "shell.execute_reply": "2025-08-05T15:56:48.431031Z"
    },
    "papermill": {
     "duration": 0.112148,
     "end_time": "2025-08-05T15:56:48.433469",
     "exception": false,
     "start_time": "2025-08-05T15:56:48.321321",
     "status": "completed"
    },
    "tags": []
   },
   "outputs": [],
   "source": [
    "# Auxiliary data needed downstream in the pipeline\n",
    "\n",
    "org_train = X_train.copy()\n",
    "org_test = X_test.copy()\n",
    "org_calib = X_calib.copy()"
   ]
  },
  {
   "cell_type": "markdown",
   "id": "0a4a1b33",
   "metadata": {
    "papermill": {
     "duration": 0.009265,
     "end_time": "2025-08-05T15:56:48.453543",
     "exception": false,
     "start_time": "2025-08-05T15:56:48.444278",
     "status": "completed"
    },
    "tags": []
   },
   "source": [
    "# Preprocessing Data"
   ]
  },
  {
   "cell_type": "code",
   "execution_count": 19,
   "id": "ca879031",
   "metadata": {
    "execution": {
     "iopub.execute_input": "2025-08-05T15:56:48.473749Z",
     "iopub.status.busy": "2025-08-05T15:56:48.473051Z",
     "iopub.status.idle": "2025-08-05T15:56:48.478206Z",
     "shell.execute_reply": "2025-08-05T15:56:48.477428Z"
    },
    "papermill": {
     "duration": 0.017105,
     "end_time": "2025-08-05T15:56:48.479586",
     "exception": false,
     "start_time": "2025-08-05T15:56:48.462481",
     "status": "completed"
    },
    "tags": []
   },
   "outputs": [],
   "source": [
    "# EXCLUDE PROTECTED FEATURES\n",
    "# ----------------------\n",
    "# \"exclude_features\": \"none\", # \"nationality\", \"sex\", \"nationality-sex\"\n",
    "\n",
    "excluded_features = universe[\"exclude_features\"].split(\"-\") # split, e.g.: \"nationality-sex\" -> [\"nationality\", \"sex\"]\n",
    "excluded_features_dictionary = {\n",
    "    \"nationality\": [\"maxdeutsch1\", \"maxdeutsch.Missing.\"],\n",
    "    \"sex\": [\"frau1\"],\n",
    "    \"age\": [\"age\"],\n",
    "}"
   ]
  },
  {
   "cell_type": "code",
   "execution_count": 20,
   "id": "b745ac60",
   "metadata": {
    "execution": {
     "iopub.execute_input": "2025-08-05T15:56:48.501753Z",
     "iopub.status.busy": "2025-08-05T15:56:48.500982Z",
     "iopub.status.idle": "2025-08-05T15:56:48.506059Z",
     "shell.execute_reply": "2025-08-05T15:56:48.505196Z"
    },
    "papermill": {
     "duration": 0.016886,
     "end_time": "2025-08-05T15:56:48.507476",
     "exception": false,
     "start_time": "2025-08-05T15:56:48.490590",
     "status": "completed"
    },
    "tags": []
   },
   "outputs": [],
   "source": [
    "# Code nice names to column names\n",
    "\n",
    "excluded_features_columns = [\n",
    "    excluded_features_dictionary[f] for f in excluded_features if len(f) > 0 and f != \"none\"\n",
    "]"
   ]
  },
  {
   "cell_type": "code",
   "execution_count": 21,
   "id": "f84f73a2",
   "metadata": {
    "execution": {
     "iopub.execute_input": "2025-08-05T15:56:48.528979Z",
     "iopub.status.busy": "2025-08-05T15:56:48.528373Z",
     "iopub.status.idle": "2025-08-05T15:56:48.533530Z",
     "shell.execute_reply": "2025-08-05T15:56:48.532769Z"
    },
    "papermill": {
     "duration": 0.017196,
     "end_time": "2025-08-05T15:56:48.534961",
     "exception": false,
     "start_time": "2025-08-05T15:56:48.517765",
     "status": "completed"
    },
    "tags": []
   },
   "outputs": [],
   "source": [
    "from utils import flatten_once\n",
    "\n",
    "excluded_features_columns = flatten_once(excluded_features_columns)"
   ]
  },
  {
   "cell_type": "code",
   "execution_count": 22,
   "id": "884dea22",
   "metadata": {
    "execution": {
     "iopub.execute_input": "2025-08-05T15:56:48.555303Z",
     "iopub.status.busy": "2025-08-05T15:56:48.554823Z",
     "iopub.status.idle": "2025-08-05T15:56:48.562613Z",
     "shell.execute_reply": "2025-08-05T15:56:48.561765Z"
    },
    "papermill": {
     "duration": 0.019046,
     "end_time": "2025-08-05T15:56:48.563976",
     "exception": false,
     "start_time": "2025-08-05T15:56:48.544930",
     "status": "completed"
    },
    "tags": []
   },
   "outputs": [
    {
     "name": "stdout",
     "output_type": "stream",
     "text": [
      "Dropping features: ['maxdeutsch1', 'maxdeutsch.Missing.', 'frau1']\n"
     ]
    }
   ],
   "source": [
    "if len(excluded_features_columns) > 0:\n",
    "    print(f\"Dropping features: {excluded_features_columns}\")\n",
    "    X_train.drop(excluded_features_columns, axis=1, inplace=True)"
   ]
  },
  {
   "cell_type": "code",
   "execution_count": 23,
   "id": "95ab8b16",
   "metadata": {
    "execution": {
     "iopub.execute_input": "2025-08-05T15:56:48.584654Z",
     "iopub.status.busy": "2025-08-05T15:56:48.584320Z",
     "iopub.status.idle": "2025-08-05T15:56:48.633544Z",
     "shell.execute_reply": "2025-08-05T15:56:48.632720Z"
    },
    "papermill": {
     "duration": 0.060853,
     "end_time": "2025-08-05T15:56:48.635030",
     "exception": false,
     "start_time": "2025-08-05T15:56:48.574177",
     "status": "completed"
    },
    "tags": []
   },
   "outputs": [
    {
     "name": "stdout",
     "output_type": "stream",
     "text": [
      "Dropping features: ['maxdeutsch1', 'maxdeutsch.Missing.', 'frau1']\n"
     ]
    }
   ],
   "source": [
    "if len(excluded_features_columns) > 0:\n",
    "    print(f\"Dropping features: {excluded_features_columns}\")\n",
    "    X_test.drop(excluded_features_columns, axis=1, inplace=True)"
   ]
  },
  {
   "cell_type": "code",
   "execution_count": 24,
   "id": "1853aaf5-fb9f-46cb-a2b5-8ea4ae2237e4",
   "metadata": {
    "execution": {
     "iopub.execute_input": "2025-08-05T15:56:48.656390Z",
     "iopub.status.busy": "2025-08-05T15:56:48.655911Z",
     "iopub.status.idle": "2025-08-05T15:56:48.708233Z",
     "shell.execute_reply": "2025-08-05T15:56:48.707038Z"
    },
    "papermill": {
     "duration": 0.064086,
     "end_time": "2025-08-05T15:56:48.710207",
     "exception": false,
     "start_time": "2025-08-05T15:56:48.646121",
     "status": "completed"
    },
    "tags": []
   },
   "outputs": [
    {
     "name": "stdout",
     "output_type": "stream",
     "text": [
      "Dropping features: ['maxdeutsch1', 'maxdeutsch.Missing.', 'frau1']\n"
     ]
    }
   ],
   "source": [
    "if len(excluded_features_columns) > 0:\n",
    "    print(f\"Dropping features: {excluded_features_columns}\")\n",
    "    X_calib.drop(excluded_features_columns, axis=1, inplace=True)"
   ]
  },
  {
   "cell_type": "code",
   "execution_count": 25,
   "id": "76c4dc6d",
   "metadata": {
    "execution": {
     "iopub.execute_input": "2025-08-05T15:56:48.760389Z",
     "iopub.status.busy": "2025-08-05T15:56:48.759350Z",
     "iopub.status.idle": "2025-08-05T15:56:48.765716Z",
     "shell.execute_reply": "2025-08-05T15:56:48.764539Z"
    },
    "papermill": {
     "duration": 0.032026,
     "end_time": "2025-08-05T15:56:48.768102",
     "exception": false,
     "start_time": "2025-08-05T15:56:48.736076",
     "status": "completed"
    },
    "tags": []
   },
   "outputs": [],
   "source": [
    "# EXCLUDE CERTAIN SUBGROUPS\n",
    "# ----------------------\n",
    "\n",
    "mode = universe.get(\"exclude_subgroups\", \"keep-all\") \n",
    "# Fetches the exclude_subgroups setting from the universe dict.\n",
    "# Defaults to \"keep-all\" if the key is missing."
   ]
  },
  {
   "cell_type": "code",
   "execution_count": 26,
   "id": "21994072",
   "metadata": {
    "execution": {
     "iopub.execute_input": "2025-08-05T15:56:48.815340Z",
     "iopub.status.busy": "2025-08-05T15:56:48.814299Z",
     "iopub.status.idle": "2025-08-05T15:56:48.821718Z",
     "shell.execute_reply": "2025-08-05T15:56:48.820870Z"
    },
    "papermill": {
     "duration": 0.031355,
     "end_time": "2025-08-05T15:56:48.823281",
     "exception": false,
     "start_time": "2025-08-05T15:56:48.791926",
     "status": "completed"
    },
    "tags": []
   },
   "outputs": [],
   "source": [
    "if mode == \"keep-all\":\n",
    "    keep_mask = pd.Series(True, index=org_train.index)\n",
    "\n",
    "# org_train contains the original feature columns from features_org (in Simson)\n",
    "# features_org contains unprocessed features, for me X_train at beginning ???\n",
    "# For keep-all, creates a boolean Series (keep_mask) of all True, so no rows are removed.\n",
    "\n",
    "elif mode == \"drop-non-german\":\n",
    "    keep_mask = org_train[\"maxdeutsch1\"] == 1 # ??? what about missing values?\n",
    "\n",
    "else:\n",
    "    raise ValueError(f\"Unsupported mode for exclude_subgroups: {mode}\")"
   ]
  },
  {
   "cell_type": "code",
   "execution_count": 27,
   "id": "71651440",
   "metadata": {
    "execution": {
     "iopub.execute_input": "2025-08-05T15:56:48.860579Z",
     "iopub.status.busy": "2025-08-05T15:56:48.859784Z",
     "iopub.status.idle": "2025-08-05T15:56:48.866055Z",
     "shell.execute_reply": "2025-08-05T15:56:48.865131Z"
    },
    "papermill": {
     "duration": 0.026333,
     "end_time": "2025-08-05T15:56:48.867837",
     "exception": false,
     "start_time": "2025-08-05T15:56:48.841504",
     "status": "completed"
    },
    "tags": []
   },
   "outputs": [],
   "source": [
    "n_drop = (~keep_mask).sum() # Calculates how many rows are set to be dropped\n",
    "if n_drop > 0:\n",
    "    pct = n_drop / len(keep_mask) * 100\n",
    "    print(f\"Dropping {n_drop} rows ({pct:.2f}%) where mode='{mode}'\")"
   ]
  },
  {
   "cell_type": "code",
   "execution_count": 28,
   "id": "5fb8eee5",
   "metadata": {
    "execution": {
     "iopub.execute_input": "2025-08-05T15:56:48.931350Z",
     "iopub.status.busy": "2025-08-05T15:56:48.930603Z",
     "iopub.status.idle": "2025-08-05T15:56:48.938206Z",
     "shell.execute_reply": "2025-08-05T15:56:48.937050Z"
    },
    "papermill": {
     "duration": 0.030105,
     "end_time": "2025-08-05T15:56:48.940098",
     "exception": false,
     "start_time": "2025-08-05T15:56:48.909993",
     "status": "completed"
    },
    "tags": []
   },
   "outputs": [],
   "source": [
    "X_train = X_train[keep_mask]"
   ]
  },
  {
   "cell_type": "code",
   "execution_count": 29,
   "id": "b202bb3a",
   "metadata": {
    "execution": {
     "iopub.execute_input": "2025-08-05T15:56:48.984161Z",
     "iopub.status.busy": "2025-08-05T15:56:48.983853Z",
     "iopub.status.idle": "2025-08-05T15:56:48.989181Z",
     "shell.execute_reply": "2025-08-05T15:56:48.988400Z"
    },
    "papermill": {
     "duration": 0.029218,
     "end_time": "2025-08-05T15:56:48.990703",
     "exception": false,
     "start_time": "2025-08-05T15:56:48.961485",
     "status": "completed"
    },
    "tags": []
   },
   "outputs": [],
   "source": [
    "y_train = y_train[keep_mask]"
   ]
  },
  {
   "cell_type": "markdown",
   "id": "493e2ac3",
   "metadata": {
    "papermill": {
     "duration": 0.010623,
     "end_time": "2025-08-05T15:56:49.011729",
     "exception": false,
     "start_time": "2025-08-05T15:56:49.001106",
     "status": "completed"
    },
    "tags": []
   },
   "source": [
    "# Model Training"
   ]
  },
  {
   "cell_type": "code",
   "execution_count": 30,
   "id": "679e1268",
   "metadata": {
    "execution": {
     "iopub.execute_input": "2025-08-05T15:56:49.032585Z",
     "iopub.status.busy": "2025-08-05T15:56:49.032259Z",
     "iopub.status.idle": "2025-08-05T15:56:49.112585Z",
     "shell.execute_reply": "2025-08-05T15:56:49.111522Z"
    },
    "papermill": {
     "duration": 0.092928,
     "end_time": "2025-08-05T15:56:49.114841",
     "exception": false,
     "start_time": "2025-08-05T15:56:49.021913",
     "status": "completed"
    },
    "tags": []
   },
   "outputs": [],
   "source": [
    "from sklearn.linear_model import LogisticRegression\n",
    "from sklearn.ensemble import GradientBoostingClassifier, RandomForestClassifier\n",
    "\n",
    "if (universe[\"model\"] == \"logreg\"):\n",
    "    model = LogisticRegression() #penalty=\"none\", solver=\"newton-cg\", max_iter=1) # include random_state=19 ?\n",
    "elif (universe[\"model\"] == \"penalized_logreg\"):\n",
    "    model = LogisticRegression(penalty=\"l2\", C=0.1) #, solver=\"newton-cg\", max_iter=1)\n",
    "elif (universe[\"model\"] == \"rf\"):\n",
    "    model = RandomForestClassifier() # n_estimators=100, n_jobs=-1\n",
    "elif (universe[\"model\"] == \"gbm\"):\n",
    "    model = GradientBoostingClassifier()\n",
    "elif (universe[\"model\"] == \"elasticnet\"):\n",
    "    model = LogisticRegression(penalty = 'elasticnet', solver = 'saga', l1_ratio = 0.5) # max_iter=5000\n",
    "else:\n",
    "    raise \"Unsupported universe.model\""
   ]
  },
  {
   "cell_type": "code",
   "execution_count": 31,
   "id": "0cc8f744",
   "metadata": {
    "execution": {
     "iopub.execute_input": "2025-08-05T15:56:49.155262Z",
     "iopub.status.busy": "2025-08-05T15:56:49.154469Z",
     "iopub.status.idle": "2025-08-05T15:56:49.161202Z",
     "shell.execute_reply": "2025-08-05T15:56:49.160295Z"
    },
    "papermill": {
     "duration": 0.026798,
     "end_time": "2025-08-05T15:56:49.162800",
     "exception": false,
     "start_time": "2025-08-05T15:56:49.136002",
     "status": "completed"
    },
    "tags": []
   },
   "outputs": [],
   "source": [
    "import numpy as np\n",
    "from sklearn.pipeline import Pipeline\n",
    "from sklearn.preprocessing import StandardScaler\n",
    "\n",
    "model = Pipeline([\n",
    "    #(\"continuous_processor\", continuous_processor),\n",
    "    #(\"categorical_preprocessor\", categorical_preprocessor),\n",
    "    (\"scale\", StandardScaler() if universe[\"scale\"] == \"scale\" else None), \n",
    "    (\"model\", model),\n",
    "])"
   ]
  },
  {
   "cell_type": "code",
   "execution_count": 32,
   "id": "9442c04d",
   "metadata": {
    "execution": {
     "iopub.execute_input": "2025-08-05T15:56:49.199509Z",
     "iopub.status.busy": "2025-08-05T15:56:49.199032Z",
     "iopub.status.idle": "2025-08-05T15:56:49.344640Z",
     "shell.execute_reply": "2025-08-05T15:56:49.343759Z"
    },
    "papermill": {
     "duration": 0.165356,
     "end_time": "2025-08-05T15:56:49.346154",
     "exception": false,
     "start_time": "2025-08-05T15:56:49.180798",
     "status": "completed"
    },
    "tags": []
   },
   "outputs": [
    {
     "name": "stderr",
     "output_type": "stream",
     "text": [
      "/dss/dsshome1/0C/ra93lal2/.local/share/virtualenvs/CMA_Fairness_v2-3j10GkSs/lib/python3.10/site-packages/sklearn/linear_model/_logistic.py:444: ConvergenceWarning: lbfgs failed to converge (status=1):\n",
      "STOP: TOTAL NO. of ITERATIONS REACHED LIMIT.\n",
      "\n",
      "Increase the number of iterations (max_iter) or scale the data as shown in:\n",
      "    https://scikit-learn.org/stable/modules/preprocessing.html\n",
      "Please also refer to the documentation for alternative solver options:\n",
      "    https://scikit-learn.org/stable/modules/linear_model.html#logistic-regression\n",
      "  n_iter_i = _check_optimize_result(\n"
     ]
    },
    {
     "data": {
      "text/html": [
       "<style>#sk-container-id-1 {color: black;background-color: white;}#sk-container-id-1 pre{padding: 0;}#sk-container-id-1 div.sk-toggleable {background-color: white;}#sk-container-id-1 label.sk-toggleable__label {cursor: pointer;display: block;width: 100%;margin-bottom: 0;padding: 0.3em;box-sizing: border-box;text-align: center;}#sk-container-id-1 label.sk-toggleable__label-arrow:before {content: \"▸\";float: left;margin-right: 0.25em;color: #696969;}#sk-container-id-1 label.sk-toggleable__label-arrow:hover:before {color: black;}#sk-container-id-1 div.sk-estimator:hover label.sk-toggleable__label-arrow:before {color: black;}#sk-container-id-1 div.sk-toggleable__content {max-height: 0;max-width: 0;overflow: hidden;text-align: left;background-color: #f0f8ff;}#sk-container-id-1 div.sk-toggleable__content pre {margin: 0.2em;color: black;border-radius: 0.25em;background-color: #f0f8ff;}#sk-container-id-1 input.sk-toggleable__control:checked~div.sk-toggleable__content {max-height: 200px;max-width: 100%;overflow: auto;}#sk-container-id-1 input.sk-toggleable__control:checked~label.sk-toggleable__label-arrow:before {content: \"▾\";}#sk-container-id-1 div.sk-estimator input.sk-toggleable__control:checked~label.sk-toggleable__label {background-color: #d4ebff;}#sk-container-id-1 div.sk-label input.sk-toggleable__control:checked~label.sk-toggleable__label {background-color: #d4ebff;}#sk-container-id-1 input.sk-hidden--visually {border: 0;clip: rect(1px 1px 1px 1px);clip: rect(1px, 1px, 1px, 1px);height: 1px;margin: -1px;overflow: hidden;padding: 0;position: absolute;width: 1px;}#sk-container-id-1 div.sk-estimator {font-family: monospace;background-color: #f0f8ff;border: 1px dotted black;border-radius: 0.25em;box-sizing: border-box;margin-bottom: 0.5em;}#sk-container-id-1 div.sk-estimator:hover {background-color: #d4ebff;}#sk-container-id-1 div.sk-parallel-item::after {content: \"\";width: 100%;border-bottom: 1px solid gray;flex-grow: 1;}#sk-container-id-1 div.sk-label:hover label.sk-toggleable__label {background-color: #d4ebff;}#sk-container-id-1 div.sk-serial::before {content: \"\";position: absolute;border-left: 1px solid gray;box-sizing: border-box;top: 0;bottom: 0;left: 50%;z-index: 0;}#sk-container-id-1 div.sk-serial {display: flex;flex-direction: column;align-items: center;background-color: white;padding-right: 0.2em;padding-left: 0.2em;position: relative;}#sk-container-id-1 div.sk-item {position: relative;z-index: 1;}#sk-container-id-1 div.sk-parallel {display: flex;align-items: stretch;justify-content: center;background-color: white;position: relative;}#sk-container-id-1 div.sk-item::before, #sk-container-id-1 div.sk-parallel-item::before {content: \"\";position: absolute;border-left: 1px solid gray;box-sizing: border-box;top: 0;bottom: 0;left: 50%;z-index: -1;}#sk-container-id-1 div.sk-parallel-item {display: flex;flex-direction: column;z-index: 1;position: relative;background-color: white;}#sk-container-id-1 div.sk-parallel-item:first-child::after {align-self: flex-end;width: 50%;}#sk-container-id-1 div.sk-parallel-item:last-child::after {align-self: flex-start;width: 50%;}#sk-container-id-1 div.sk-parallel-item:only-child::after {width: 0;}#sk-container-id-1 div.sk-dashed-wrapped {border: 1px dashed gray;margin: 0 0.4em 0.5em 0.4em;box-sizing: border-box;padding-bottom: 0.4em;background-color: white;}#sk-container-id-1 div.sk-label label {font-family: monospace;font-weight: bold;display: inline-block;line-height: 1.2em;}#sk-container-id-1 div.sk-label-container {text-align: center;}#sk-container-id-1 div.sk-container {/* jupyter's `normalize.less` sets `[hidden] { display: none; }` but bootstrap.min.css set `[hidden] { display: none !important; }` so we also need the `!important` here to be able to override the default hidden behavior on the sphinx rendered scikit-learn.org. See: https://github.com/scikit-learn/scikit-learn/issues/21755 */display: inline-block !important;position: relative;}#sk-container-id-1 div.sk-text-repr-fallback {display: none;}</style><div id=\"sk-container-id-1\" class=\"sk-top-container\"><div class=\"sk-text-repr-fallback\"><pre>Pipeline(steps=[(&#x27;scale&#x27;, None), (&#x27;model&#x27;, LogisticRegression(C=0.1))])</pre><b>In a Jupyter environment, please rerun this cell to show the HTML representation or trust the notebook. <br />On GitHub, the HTML representation is unable to render, please try loading this page with nbviewer.org.</b></div><div class=\"sk-container\" hidden><div class=\"sk-item sk-dashed-wrapped\"><div class=\"sk-label-container\"><div class=\"sk-label sk-toggleable\"><input class=\"sk-toggleable__control sk-hidden--visually\" id=\"sk-estimator-id-1\" type=\"checkbox\" ><label for=\"sk-estimator-id-1\" class=\"sk-toggleable__label sk-toggleable__label-arrow\">Pipeline</label><div class=\"sk-toggleable__content\"><pre>Pipeline(steps=[(&#x27;scale&#x27;, None), (&#x27;model&#x27;, LogisticRegression(C=0.1))])</pre></div></div></div><div class=\"sk-serial\"><div class=\"sk-item\"><div class=\"sk-estimator sk-toggleable\"><input class=\"sk-toggleable__control sk-hidden--visually\" id=\"sk-estimator-id-2\" type=\"checkbox\" ><label for=\"sk-estimator-id-2\" class=\"sk-toggleable__label sk-toggleable__label-arrow\">None</label><div class=\"sk-toggleable__content\"><pre>None</pre></div></div></div><div class=\"sk-item\"><div class=\"sk-estimator sk-toggleable\"><input class=\"sk-toggleable__control sk-hidden--visually\" id=\"sk-estimator-id-3\" type=\"checkbox\" ><label for=\"sk-estimator-id-3\" class=\"sk-toggleable__label sk-toggleable__label-arrow\">LogisticRegression</label><div class=\"sk-toggleable__content\"><pre>LogisticRegression(C=0.1)</pre></div></div></div></div></div></div></div>"
      ],
      "text/plain": [
       "Pipeline(steps=[('scale', None), ('model', LogisticRegression(C=0.1))])"
      ]
     },
     "execution_count": 32,
     "metadata": {},
     "output_type": "execute_result"
    }
   ],
   "source": [
    "model.fit(X_train, y_train.values.ravel())"
   ]
  },
  {
   "cell_type": "code",
   "execution_count": 33,
   "id": "af59f8c0",
   "metadata": {
    "execution": {
     "iopub.execute_input": "2025-08-05T15:56:49.385327Z",
     "iopub.status.busy": "2025-08-05T15:56:49.384815Z",
     "iopub.status.idle": "2025-08-05T15:56:49.390506Z",
     "shell.execute_reply": "2025-08-05T15:56:49.389554Z"
    },
    "papermill": {
     "duration": 0.027439,
     "end_time": "2025-08-05T15:56:49.392524",
     "exception": false,
     "start_time": "2025-08-05T15:56:49.365085",
     "status": "completed"
    },
    "tags": []
   },
   "outputs": [],
   "source": [
    "from fairness_multiverse.universe import predict_w_threshold"
   ]
  },
  {
   "cell_type": "code",
   "execution_count": 34,
   "id": "a7cf2e16",
   "metadata": {
    "execution": {
     "iopub.execute_input": "2025-08-05T15:56:49.437969Z",
     "iopub.status.busy": "2025-08-05T15:56:49.437013Z",
     "iopub.status.idle": "2025-08-05T15:56:49.531013Z",
     "shell.execute_reply": "2025-08-05T15:56:49.530063Z"
    },
    "papermill": {
     "duration": 0.118073,
     "end_time": "2025-08-05T15:56:49.532812",
     "exception": false,
     "start_time": "2025-08-05T15:56:49.414739",
     "status": "completed"
    },
    "tags": []
   },
   "outputs": [
    {
     "data": {
      "text/plain": [
       "0.8611971909486122"
      ]
     },
     "execution_count": 34,
     "metadata": {},
     "output_type": "execute_result"
    }
   ],
   "source": [
    "probs_test = model.predict_proba(X_test)\n",
    "\n",
    "'''\n",
    "Below code returns a boolean array (or binary 0/1 array depending on how it’s used) where each element \n",
    "is True if the probability of class 1 is greater than or equal to the threshold, and False otherwise.\n",
    "'''\n",
    "y_pred_default = predict_w_threshold(probs_test, 0.5)\n",
    "\n",
    "from sklearn.metrics import accuracy_score\n",
    "\n",
    "# Naive prediction\n",
    "accuracy_score(y_true = y_true, y_pred = y_pred_default)"
   ]
  },
  {
   "cell_type": "code",
   "execution_count": 35,
   "id": "081964c3",
   "metadata": {
    "execution": {
     "iopub.execute_input": "2025-08-05T15:56:49.576034Z",
     "iopub.status.busy": "2025-08-05T15:56:49.575214Z",
     "iopub.status.idle": "2025-08-05T15:56:49.665476Z",
     "shell.execute_reply": "2025-08-05T15:56:49.664532Z"
    },
    "papermill": {
     "duration": 0.11384,
     "end_time": "2025-08-05T15:56:49.667298",
     "exception": false,
     "start_time": "2025-08-05T15:56:49.553458",
     "status": "completed"
    },
    "tags": []
   },
   "outputs": [
    {
     "data": {
      "text/plain": [
       "array([0, 0, 0, ..., 0, 0, 0])"
      ]
     },
     "execution_count": 35,
     "metadata": {},
     "output_type": "execute_result"
    }
   ],
   "source": [
    "model.predict(X_test)"
   ]
  },
  {
   "cell_type": "markdown",
   "id": "56c9705b",
   "metadata": {
    "papermill": {
     "duration": 0.01834,
     "end_time": "2025-08-05T15:56:49.706502",
     "exception": false,
     "start_time": "2025-08-05T15:56:49.688162",
     "status": "completed"
    },
    "tags": []
   },
   "source": [
    "# Conformal Prediction"
   ]
  },
  {
   "cell_type": "code",
   "execution_count": 36,
   "id": "160ec6ff",
   "metadata": {
    "execution": {
     "iopub.execute_input": "2025-08-05T15:56:49.750126Z",
     "iopub.status.busy": "2025-08-05T15:56:49.749413Z",
     "iopub.status.idle": "2025-08-05T15:56:49.754888Z",
     "shell.execute_reply": "2025-08-05T15:56:49.753922Z"
    },
    "papermill": {
     "duration": 0.028186,
     "end_time": "2025-08-05T15:56:49.756539",
     "exception": false,
     "start_time": "2025-08-05T15:56:49.728353",
     "status": "completed"
    },
    "tags": []
   },
   "outputs": [],
   "source": [
    "# Miscoverage level for conformal prediction (10% allowed error rate => 90% target coverage)\n",
    "alpha = 0.1"
   ]
  },
  {
   "cell_type": "code",
   "execution_count": 37,
   "id": "eadf4555-3dd3-440e-8e35-f82a4ad9f855",
   "metadata": {
    "execution": {
     "iopub.execute_input": "2025-08-05T15:56:49.805266Z",
     "iopub.status.busy": "2025-08-05T15:56:49.804700Z",
     "iopub.status.idle": "2025-08-05T15:56:49.892286Z",
     "shell.execute_reply": "2025-08-05T15:56:49.891306Z"
    },
    "papermill": {
     "duration": 0.114262,
     "end_time": "2025-08-05T15:56:49.894339",
     "exception": false,
     "start_time": "2025-08-05T15:56:49.780077",
     "status": "completed"
    },
    "tags": []
   },
   "outputs": [],
   "source": [
    "probs_calib = model.predict_proba(X_calib)"
   ]
  },
  {
   "cell_type": "code",
   "execution_count": 38,
   "id": "2ed93547-6d5d-4983-9b36-1ecb300da49a",
   "metadata": {
    "execution": {
     "iopub.execute_input": "2025-08-05T15:56:49.943143Z",
     "iopub.status.busy": "2025-08-05T15:56:49.942154Z",
     "iopub.status.idle": "2025-08-05T15:56:49.947843Z",
     "shell.execute_reply": "2025-08-05T15:56:49.946857Z"
    },
    "papermill": {
     "duration": 0.03202,
     "end_time": "2025-08-05T15:56:49.949715",
     "exception": false,
     "start_time": "2025-08-05T15:56:49.917695",
     "status": "completed"
    },
    "tags": []
   },
   "outputs": [],
   "source": [
    "y_calib = y_calib.values.ravel().astype(int)"
   ]
  },
  {
   "cell_type": "code",
   "execution_count": 39,
   "id": "65d1320d-f588-4b38-9072-62af1ae97f7d",
   "metadata": {
    "execution": {
     "iopub.execute_input": "2025-08-05T15:56:49.993310Z",
     "iopub.status.busy": "2025-08-05T15:56:49.992373Z",
     "iopub.status.idle": "2025-08-05T15:56:50.001265Z",
     "shell.execute_reply": "2025-08-05T15:56:50.000158Z"
    },
    "papermill": {
     "duration": 0.034235,
     "end_time": "2025-08-05T15:56:50.003694",
     "exception": false,
     "start_time": "2025-08-05T15:56:49.969459",
     "status": "completed"
    },
    "tags": []
   },
   "outputs": [],
   "source": [
    "from fairness_multiverse.conformal import compute_nc_scores\n",
    "\n",
    "# Compute nonconformity scores on calibration set (1 - probability of true class)\n",
    "nc_scores = compute_nc_scores(probs_calib, y_calib)"
   ]
  },
  {
   "cell_type": "code",
   "execution_count": 40,
   "id": "df3b8ca3-53b7-43d5-9667-7c85da7aeda2",
   "metadata": {
    "execution": {
     "iopub.execute_input": "2025-08-05T15:56:50.047130Z",
     "iopub.status.busy": "2025-08-05T15:56:50.046650Z",
     "iopub.status.idle": "2025-08-05T15:56:50.053612Z",
     "shell.execute_reply": "2025-08-05T15:56:50.052283Z"
    },
    "papermill": {
     "duration": 0.030852,
     "end_time": "2025-08-05T15:56:50.055669",
     "exception": false,
     "start_time": "2025-08-05T15:56:50.024817",
     "status": "completed"
    },
    "tags": []
   },
   "outputs": [],
   "source": [
    "from fairness_multiverse.conformal import find_threshold\n",
    "\n",
    "# Find conformal threshold q_hat for the given alpha (split conformal method)\n",
    "q_hat = find_threshold(nc_scores, alpha)"
   ]
  },
  {
   "cell_type": "code",
   "execution_count": 41,
   "id": "4d29e6c1-0ef6-4aa4-b8fe-4fe79b0d033a",
   "metadata": {
    "execution": {
     "iopub.execute_input": "2025-08-05T15:56:50.099361Z",
     "iopub.status.busy": "2025-08-05T15:56:50.098877Z",
     "iopub.status.idle": "2025-08-05T15:56:50.106171Z",
     "shell.execute_reply": "2025-08-05T15:56:50.105119Z"
    },
    "papermill": {
     "duration": 0.031882,
     "end_time": "2025-08-05T15:56:50.107917",
     "exception": false,
     "start_time": "2025-08-05T15:56:50.076035",
     "status": "completed"
    },
    "tags": []
   },
   "outputs": [
    {
     "data": {
      "text/plain": [
       "0.6782376623558897"
      ]
     },
     "execution_count": 41,
     "metadata": {},
     "output_type": "execute_result"
    }
   ],
   "source": [
    "q_hat"
   ]
  },
  {
   "cell_type": "code",
   "execution_count": 42,
   "id": "92460794-cdac-4be2-ba28-f28c0515a6fb",
   "metadata": {
    "execution": {
     "iopub.execute_input": "2025-08-05T15:56:50.153461Z",
     "iopub.status.busy": "2025-08-05T15:56:50.152520Z",
     "iopub.status.idle": "2025-08-05T15:56:50.745875Z",
     "shell.execute_reply": "2025-08-05T15:56:50.744767Z"
    },
    "papermill": {
     "duration": 0.619241,
     "end_time": "2025-08-05T15:56:50.747617",
     "exception": false,
     "start_time": "2025-08-05T15:56:50.128376",
     "status": "completed"
    },
    "tags": []
   },
   "outputs": [],
   "source": [
    "from fairness_multiverse.conformal import predict_conformal_sets\n",
    "\n",
    "# Generate prediction sets for each test example\n",
    "pred_sets = predict_conformal_sets(model, X_test, q_hat)"
   ]
  },
  {
   "cell_type": "code",
   "execution_count": 43,
   "id": "d90c9a65-e6db-4f5d-80cd-e68fb7e46829",
   "metadata": {
    "execution": {
     "iopub.execute_input": "2025-08-05T15:56:50.788226Z",
     "iopub.status.busy": "2025-08-05T15:56:50.787529Z",
     "iopub.status.idle": "2025-08-05T15:56:50.792825Z",
     "shell.execute_reply": "2025-08-05T15:56:50.791861Z"
    },
    "papermill": {
     "duration": 0.02805,
     "end_time": "2025-08-05T15:56:50.794892",
     "exception": false,
     "start_time": "2025-08-05T15:56:50.766842",
     "status": "completed"
    },
    "tags": []
   },
   "outputs": [],
   "source": [
    "y_true = y_true.squeeze()"
   ]
  },
  {
   "cell_type": "code",
   "execution_count": 44,
   "id": "3a58a54a-1e68-46b9-927a-df01f18aebc8",
   "metadata": {
    "execution": {
     "iopub.execute_input": "2025-08-05T15:56:50.841962Z",
     "iopub.status.busy": "2025-08-05T15:56:50.841658Z",
     "iopub.status.idle": "2025-08-05T15:56:51.777627Z",
     "shell.execute_reply": "2025-08-05T15:56:51.776749Z"
    },
    "papermill": {
     "duration": 0.960408,
     "end_time": "2025-08-05T15:56:51.779069",
     "exception": false,
     "start_time": "2025-08-05T15:56:50.818661",
     "status": "completed"
    },
    "tags": []
   },
   "outputs": [],
   "source": [
    "from fairness_multiverse.conformal import evaluate_sets\n",
    "\n",
    "# Evaluate coverage and average set size on test data\n",
    "metrics = evaluate_sets(pred_sets, y_true)"
   ]
  },
  {
   "cell_type": "markdown",
   "id": "2b569c12-9aaa-4c88-98c9-bbcd0cf3ebb8",
   "metadata": {
    "papermill": {
     "duration": 0.019518,
     "end_time": "2025-08-05T15:56:51.809753",
     "exception": false,
     "start_time": "2025-08-05T15:56:51.790235",
     "status": "completed"
    },
    "tags": []
   },
   "source": [
    "# CP Metrics"
   ]
  },
  {
   "cell_type": "code",
   "execution_count": 45,
   "id": "5ce0a5cb-201f-45a0-ade5-94c7f0bd6095",
   "metadata": {
    "execution": {
     "iopub.execute_input": "2025-08-05T15:56:51.843198Z",
     "iopub.status.busy": "2025-08-05T15:56:51.842696Z",
     "iopub.status.idle": "2025-08-05T15:56:51.850056Z",
     "shell.execute_reply": "2025-08-05T15:56:51.848969Z"
    },
    "papermill": {
     "duration": 0.022897,
     "end_time": "2025-08-05T15:56:51.851804",
     "exception": false,
     "start_time": "2025-08-05T15:56:51.828907",
     "status": "completed"
    },
    "tags": []
   },
   "outputs": [
    {
     "data": {
      "text/plain": [
       "{'coverage': 0.9128079366848735, 'avg_size': 1.2056849849515103}"
      ]
     },
     "execution_count": 45,
     "metadata": {},
     "output_type": "execute_result"
    }
   ],
   "source": [
    "metrics"
   ]
  },
  {
   "cell_type": "code",
   "execution_count": 46,
   "id": "9b9a838d-31c9-430b-ae14-12baee460d17",
   "metadata": {
    "execution": {
     "iopub.execute_input": "2025-08-05T15:56:51.887557Z",
     "iopub.status.busy": "2025-08-05T15:56:51.887054Z",
     "iopub.status.idle": "2025-08-05T15:56:51.894083Z",
     "shell.execute_reply": "2025-08-05T15:56:51.893050Z"
    },
    "papermill": {
     "duration": 0.032149,
     "end_time": "2025-08-05T15:56:51.895857",
     "exception": false,
     "start_time": "2025-08-05T15:56:51.863708",
     "status": "completed"
    },
    "tags": []
   },
   "outputs": [],
   "source": [
    "example_universe = universe.copy()\n",
    "universe_training_year = example_universe.get(\"training_year\")\n",
    "universe_training_size = example_universe.get(\"training_size\")\n",
    "universe_scale = example_universe.get(\"scale\")\n",
    "universe_model = example_universe.get(\"model\")\n",
    "universe_exclude_features = example_universe.get(\"exclude_features\")\n",
    "universe_exclude_subgroups = example_universe.get(\"exclude_subgroups\")"
   ]
  },
  {
   "cell_type": "code",
   "execution_count": 47,
   "id": "f4b6a8ac-9dc0-4245-8a91-5b3b5999c4f9",
   "metadata": {
    "execution": {
     "iopub.execute_input": "2025-08-05T15:56:51.937424Z",
     "iopub.status.busy": "2025-08-05T15:56:51.937020Z",
     "iopub.status.idle": "2025-08-05T15:56:51.960061Z",
     "shell.execute_reply": "2025-08-05T15:56:51.959195Z"
    },
    "papermill": {
     "duration": 0.045814,
     "end_time": "2025-08-05T15:56:51.962162",
     "exception": false,
     "start_time": "2025-08-05T15:56:51.916348",
     "status": "completed"
    },
    "tags": []
   },
   "outputs": [],
   "source": [
    "cp_metrics_dict = {\n",
    "    \"universe_id\": [universe_id],\n",
    "    \"universe_training_year\": [universe_training_year],\n",
    "    \"universe_training_size\": [universe_training_size],\n",
    "    \"universe_scale\": [universe_scale],\n",
    "    \"universe_model\": [universe_model],\n",
    "    \"universe_exclude_features\": [universe_exclude_features],\n",
    "    \"universe_exclude_subgroups\": [universe_exclude_subgroups],\n",
    "    \"q_hat\": [q_hat],\n",
    "    \"coverage\": [metrics[\"coverage\"]],\n",
    "    \"avg_size\": [metrics[\"avg_size\"]],\n",
    "}"
   ]
  },
  {
   "cell_type": "code",
   "execution_count": 48,
   "id": "908acbb1-0371-4915-85ca-3fa520d2efe2",
   "metadata": {
    "execution": {
     "iopub.execute_input": "2025-08-05T15:56:52.005713Z",
     "iopub.status.busy": "2025-08-05T15:56:52.005144Z",
     "iopub.status.idle": "2025-08-05T15:56:52.013557Z",
     "shell.execute_reply": "2025-08-05T15:56:52.012491Z"
    },
    "papermill": {
     "duration": 0.031961,
     "end_time": "2025-08-05T15:56:52.015323",
     "exception": false,
     "start_time": "2025-08-05T15:56:51.983362",
     "status": "completed"
    },
    "tags": []
   },
   "outputs": [
    {
     "data": {
      "text/plain": [
       "{'universe_id': ['01ab4dca189a304addb41b6c3720ad61'],\n",
       " 'universe_training_year': ['2010_14'],\n",
       " 'universe_training_size': ['5k'],\n",
       " 'universe_scale': ['do-not-scale'],\n",
       " 'universe_model': ['penalized_logreg'],\n",
       " 'universe_exclude_features': ['nationality-sex'],\n",
       " 'universe_exclude_subgroups': ['keep-all'],\n",
       " 'q_hat': [0.6782376623558897],\n",
       " 'coverage': [0.9128079366848735],\n",
       " 'avg_size': [1.2056849849515103]}"
      ]
     },
     "execution_count": 48,
     "metadata": {},
     "output_type": "execute_result"
    }
   ],
   "source": [
    "cp_metrics_dict"
   ]
  },
  {
   "cell_type": "code",
   "execution_count": 49,
   "id": "33007efc-14e9-4ec6-97ac-56a455c82265",
   "metadata": {
    "execution": {
     "iopub.execute_input": "2025-08-05T15:56:52.060323Z",
     "iopub.status.busy": "2025-08-05T15:56:52.059769Z",
     "iopub.status.idle": "2025-08-05T15:56:52.066297Z",
     "shell.execute_reply": "2025-08-05T15:56:52.065193Z"
    },
    "papermill": {
     "duration": 0.030845,
     "end_time": "2025-08-05T15:56:52.068089",
     "exception": false,
     "start_time": "2025-08-05T15:56:52.037244",
     "status": "completed"
    },
    "tags": []
   },
   "outputs": [],
   "source": [
    "cp_metrics_df = pd.DataFrame(cp_metrics_dict)"
   ]
  },
  {
   "cell_type": "code",
   "execution_count": 50,
   "id": "db12611b-57b2-4910-b9d0-355adfd6e7bf",
   "metadata": {
    "execution": {
     "iopub.execute_input": "2025-08-05T15:56:52.114122Z",
     "iopub.status.busy": "2025-08-05T15:56:52.113753Z",
     "iopub.status.idle": "2025-08-05T15:56:52.131762Z",
     "shell.execute_reply": "2025-08-05T15:56:52.130869Z"
    },
    "papermill": {
     "duration": 0.042959,
     "end_time": "2025-08-05T15:56:52.133487",
     "exception": false,
     "start_time": "2025-08-05T15:56:52.090528",
     "status": "completed"
    },
    "tags": []
   },
   "outputs": [
    {
     "data": {
      "text/html": [
       "<div>\n",
       "<style scoped>\n",
       "    .dataframe tbody tr th:only-of-type {\n",
       "        vertical-align: middle;\n",
       "    }\n",
       "\n",
       "    .dataframe tbody tr th {\n",
       "        vertical-align: top;\n",
       "    }\n",
       "\n",
       "    .dataframe thead th {\n",
       "        text-align: right;\n",
       "    }\n",
       "</style>\n",
       "<table border=\"1\" class=\"dataframe\">\n",
       "  <thead>\n",
       "    <tr style=\"text-align: right;\">\n",
       "      <th></th>\n",
       "      <th>universe_id</th>\n",
       "      <th>universe_training_year</th>\n",
       "      <th>universe_training_size</th>\n",
       "      <th>universe_scale</th>\n",
       "      <th>universe_model</th>\n",
       "      <th>universe_exclude_features</th>\n",
       "      <th>universe_exclude_subgroups</th>\n",
       "      <th>q_hat</th>\n",
       "      <th>coverage</th>\n",
       "      <th>avg_size</th>\n",
       "    </tr>\n",
       "  </thead>\n",
       "  <tbody>\n",
       "    <tr>\n",
       "      <th>0</th>\n",
       "      <td>01ab4dca189a304addb41b6c3720ad61</td>\n",
       "      <td>2010_14</td>\n",
       "      <td>5k</td>\n",
       "      <td>do-not-scale</td>\n",
       "      <td>penalized_logreg</td>\n",
       "      <td>nationality-sex</td>\n",
       "      <td>keep-all</td>\n",
       "      <td>0.678238</td>\n",
       "      <td>0.912808</td>\n",
       "      <td>1.205685</td>\n",
       "    </tr>\n",
       "  </tbody>\n",
       "</table>\n",
       "</div>"
      ],
      "text/plain": [
       "                        universe_id universe_training_year  \\\n",
       "0  01ab4dca189a304addb41b6c3720ad61                2010_14   \n",
       "\n",
       "  universe_training_size universe_scale    universe_model  \\\n",
       "0                     5k   do-not-scale  penalized_logreg   \n",
       "\n",
       "  universe_exclude_features universe_exclude_subgroups     q_hat  coverage  \\\n",
       "0           nationality-sex                   keep-all  0.678238  0.912808   \n",
       "\n",
       "   avg_size  \n",
       "0  1.205685  "
      ]
     },
     "execution_count": 50,
     "metadata": {},
     "output_type": "execute_result"
    }
   ],
   "source": [
    "cp_metrics_df"
   ]
  },
  {
   "cell_type": "code",
   "execution_count": 51,
   "id": "b7fbde55-a0a1-47e4-9af6-fe4a17fa8c61",
   "metadata": {
    "execution": {
     "iopub.execute_input": "2025-08-05T15:56:52.179746Z",
     "iopub.status.busy": "2025-08-05T15:56:52.178865Z",
     "iopub.status.idle": "2025-08-05T15:56:52.184280Z",
     "shell.execute_reply": "2025-08-05T15:56:52.183210Z"
    },
    "papermill": {
     "duration": 0.029319,
     "end_time": "2025-08-05T15:56:52.186296",
     "exception": false,
     "start_time": "2025-08-05T15:56:52.156977",
     "status": "completed"
    },
    "tags": []
   },
   "outputs": [],
   "source": [
    "# Conditional Coverage & looking at subgroups"
   ]
  },
  {
   "cell_type": "code",
   "execution_count": 52,
   "id": "027ae886-68dd-4141-96c7-805a5450e1ef",
   "metadata": {
    "execution": {
     "iopub.execute_input": "2025-08-05T15:56:52.232751Z",
     "iopub.status.busy": "2025-08-05T15:56:52.231801Z",
     "iopub.status.idle": "2025-08-05T15:56:52.492101Z",
     "shell.execute_reply": "2025-08-05T15:56:52.491212Z"
    },
    "papermill": {
     "duration": 0.284775,
     "end_time": "2025-08-05T15:56:52.493958",
     "exception": false,
     "start_time": "2025-08-05T15:56:52.209183",
     "status": "completed"
    },
    "tags": []
   },
   "outputs": [],
   "source": [
    "from fairness_multiverse.conformal import build_cp_groups\n",
    "\n",
    "cp_groups_df = build_cp_groups(pred_sets, y_true, X_test.index, org_test)\n",
    "#needs universe_id and setting"
   ]
  },
  {
   "cell_type": "code",
   "execution_count": 53,
   "id": "6cbdab96-b2b2-45af-ad54-d0516db2e28d",
   "metadata": {
    "execution": {
     "iopub.execute_input": "2025-08-05T15:56:52.536687Z",
     "iopub.status.busy": "2025-08-05T15:56:52.536217Z",
     "iopub.status.idle": "2025-08-05T15:56:54.367349Z",
     "shell.execute_reply": "2025-08-05T15:56:54.366557Z"
    },
    "papermill": {
     "duration": 1.853812,
     "end_time": "2025-08-05T15:56:54.368826",
     "exception": false,
     "start_time": "2025-08-05T15:56:52.515014",
     "status": "completed"
    },
    "tags": []
   },
   "outputs": [],
   "source": [
    "# Define covered = 1 if true_label is in the predicted set\n",
    "cp_groups_df['covered'] = cp_groups_df.apply(\n",
    "    lambda r: int(r['true_label'] in r['pred_set']),\n",
    "    axis=1\n",
    ")"
   ]
  },
  {
   "cell_type": "code",
   "execution_count": 54,
   "id": "338ff529-1a6b-4b87-a931-8e4788d52aad",
   "metadata": {
    "execution": {
     "iopub.execute_input": "2025-08-05T15:56:54.393715Z",
     "iopub.status.busy": "2025-08-05T15:56:54.393002Z",
     "iopub.status.idle": "2025-08-05T15:56:54.397652Z",
     "shell.execute_reply": "2025-08-05T15:56:54.396840Z"
    },
    "papermill": {
     "duration": 0.018118,
     "end_time": "2025-08-05T15:56:54.398975",
     "exception": false,
     "start_time": "2025-08-05T15:56:54.380857",
     "status": "completed"
    },
    "tags": []
   },
   "outputs": [],
   "source": [
    "#cp_groups_df"
   ]
  },
  {
   "cell_type": "code",
   "execution_count": 55,
   "id": "90032e27-66df-4540-9169-4e89cfbaa758",
   "metadata": {
    "execution": {
     "iopub.execute_input": "2025-08-05T15:56:54.424414Z",
     "iopub.status.busy": "2025-08-05T15:56:54.424102Z",
     "iopub.status.idle": "2025-08-05T15:56:54.433142Z",
     "shell.execute_reply": "2025-08-05T15:56:54.432312Z"
    },
    "papermill": {
     "duration": 0.023268,
     "end_time": "2025-08-05T15:56:54.434770",
     "exception": false,
     "start_time": "2025-08-05T15:56:54.411502",
     "status": "completed"
    },
    "tags": []
   },
   "outputs": [],
   "source": [
    "subgroups = ['frau1','nongerman','nongerman_male','nongerman_female']\n",
    "\n",
    "# Conditional coverage for subgroup==1\n",
    "cond_coverage = {\n",
    "    g: cp_groups_df.loc[cp_groups_df[g]==1, 'covered'].mean()\n",
    "    for g in subgroups\n",
    "}"
   ]
  },
  {
   "cell_type": "code",
   "execution_count": 56,
   "id": "1e348fb1-b9c3-45bc-ba23-f016827a7e0d",
   "metadata": {
    "execution": {
     "iopub.execute_input": "2025-08-05T15:56:54.460405Z",
     "iopub.status.busy": "2025-08-05T15:56:54.459691Z",
     "iopub.status.idle": "2025-08-05T15:56:54.466620Z",
     "shell.execute_reply": "2025-08-05T15:56:54.465568Z"
    },
    "papermill": {
     "duration": 0.021311,
     "end_time": "2025-08-05T15:56:54.468639",
     "exception": false,
     "start_time": "2025-08-05T15:56:54.447328",
     "status": "completed"
    },
    "tags": []
   },
   "outputs": [
    {
     "data": {
      "text/plain": [
       "{'frau1': 0.9129801860088961,\n",
       " 'nongerman': 0.9337001066636726,\n",
       " 'nongerman_male': 0.9446095649824372,\n",
       " 'nongerman_female': 0.9156482861400894}"
      ]
     },
     "execution_count": 56,
     "metadata": {},
     "output_type": "execute_result"
    }
   ],
   "source": [
    "cond_coverage"
   ]
  },
  {
   "cell_type": "code",
   "execution_count": 57,
   "id": "f5093324-c3dd-4d63-bc4c-8d945e5c8bbb",
   "metadata": {
    "execution": {
     "iopub.execute_input": "2025-08-05T15:56:54.494235Z",
     "iopub.status.busy": "2025-08-05T15:56:54.493683Z",
     "iopub.status.idle": "2025-08-05T15:56:54.499583Z",
     "shell.execute_reply": "2025-08-05T15:56:54.498782Z"
    },
    "papermill": {
     "duration": 0.019783,
     "end_time": "2025-08-05T15:56:54.501005",
     "exception": false,
     "start_time": "2025-08-05T15:56:54.481222",
     "status": "completed"
    },
    "tags": []
   },
   "outputs": [],
   "source": [
    "for subgroup, cov in cond_coverage.items():\n",
    "    cp_metrics_df[f\"cov_{subgroup}\"] = cov"
   ]
  },
  {
   "cell_type": "code",
   "execution_count": 58,
   "id": "6e872e10-dbe5-49e8-b554-5030c98ff75d",
   "metadata": {
    "execution": {
     "iopub.execute_input": "2025-08-05T15:56:54.527645Z",
     "iopub.status.busy": "2025-08-05T15:56:54.526972Z",
     "iopub.status.idle": "2025-08-05T15:56:54.542844Z",
     "shell.execute_reply": "2025-08-05T15:56:54.541956Z"
    },
    "papermill": {
     "duration": 0.030044,
     "end_time": "2025-08-05T15:56:54.544347",
     "exception": false,
     "start_time": "2025-08-05T15:56:54.514303",
     "status": "completed"
    },
    "tags": []
   },
   "outputs": [
    {
     "data": {
      "text/html": [
       "<div>\n",
       "<style scoped>\n",
       "    .dataframe tbody tr th:only-of-type {\n",
       "        vertical-align: middle;\n",
       "    }\n",
       "\n",
       "    .dataframe tbody tr th {\n",
       "        vertical-align: top;\n",
       "    }\n",
       "\n",
       "    .dataframe thead th {\n",
       "        text-align: right;\n",
       "    }\n",
       "</style>\n",
       "<table border=\"1\" class=\"dataframe\">\n",
       "  <thead>\n",
       "    <tr style=\"text-align: right;\">\n",
       "      <th></th>\n",
       "      <th>universe_id</th>\n",
       "      <th>universe_training_year</th>\n",
       "      <th>universe_training_size</th>\n",
       "      <th>universe_scale</th>\n",
       "      <th>universe_model</th>\n",
       "      <th>universe_exclude_features</th>\n",
       "      <th>universe_exclude_subgroups</th>\n",
       "      <th>q_hat</th>\n",
       "      <th>coverage</th>\n",
       "      <th>avg_size</th>\n",
       "      <th>cov_frau1</th>\n",
       "      <th>cov_nongerman</th>\n",
       "      <th>cov_nongerman_male</th>\n",
       "      <th>cov_nongerman_female</th>\n",
       "    </tr>\n",
       "  </thead>\n",
       "  <tbody>\n",
       "    <tr>\n",
       "      <th>0</th>\n",
       "      <td>01ab4dca189a304addb41b6c3720ad61</td>\n",
       "      <td>2010_14</td>\n",
       "      <td>5k</td>\n",
       "      <td>do-not-scale</td>\n",
       "      <td>penalized_logreg</td>\n",
       "      <td>nationality-sex</td>\n",
       "      <td>keep-all</td>\n",
       "      <td>0.678238</td>\n",
       "      <td>0.912808</td>\n",
       "      <td>1.205685</td>\n",
       "      <td>0.91298</td>\n",
       "      <td>0.9337</td>\n",
       "      <td>0.94461</td>\n",
       "      <td>0.915648</td>\n",
       "    </tr>\n",
       "  </tbody>\n",
       "</table>\n",
       "</div>"
      ],
      "text/plain": [
       "                        universe_id universe_training_year  \\\n",
       "0  01ab4dca189a304addb41b6c3720ad61                2010_14   \n",
       "\n",
       "  universe_training_size universe_scale    universe_model  \\\n",
       "0                     5k   do-not-scale  penalized_logreg   \n",
       "\n",
       "  universe_exclude_features universe_exclude_subgroups     q_hat  coverage  \\\n",
       "0           nationality-sex                   keep-all  0.678238  0.912808   \n",
       "\n",
       "   avg_size  cov_frau1  cov_nongerman  cov_nongerman_male  \\\n",
       "0  1.205685    0.91298         0.9337             0.94461   \n",
       "\n",
       "   cov_nongerman_female  \n",
       "0              0.915648  "
      ]
     },
     "execution_count": 58,
     "metadata": {},
     "output_type": "execute_result"
    }
   ],
   "source": [
    "cp_metrics_df"
   ]
  },
  {
   "cell_type": "markdown",
   "id": "33774451",
   "metadata": {
    "papermill": {
     "duration": 0.012197,
     "end_time": "2025-08-05T15:56:54.569562",
     "exception": false,
     "start_time": "2025-08-05T15:56:54.557365",
     "status": "completed"
    },
    "tags": []
   },
   "source": [
    "# (Fairness) Metrics"
   ]
  },
  {
   "cell_type": "code",
   "execution_count": 59,
   "id": "debc5d62",
   "metadata": {
    "execution": {
     "iopub.execute_input": "2025-08-05T15:56:54.594992Z",
     "iopub.status.busy": "2025-08-05T15:56:54.594214Z",
     "iopub.status.idle": "2025-08-05T15:56:54.609173Z",
     "shell.execute_reply": "2025-08-05T15:56:54.608468Z"
    },
    "papermill": {
     "duration": 0.029309,
     "end_time": "2025-08-05T15:56:54.610718",
     "exception": false,
     "start_time": "2025-08-05T15:56:54.581409",
     "status": "completed"
    },
    "tags": []
   },
   "outputs": [],
   "source": [
    "# do I need to include maxdeutsch1.missing?\n",
    "\n",
    "import numpy as np\n",
    "\n",
    "colname_to_bin = \"maxdeutsch1\"\n",
    "majority_value = org_train[colname_to_bin].mode()[0]\n",
    "\n",
    "org_test[\"majmin\"] = np.where(org_test[colname_to_bin] == majority_value, \"majority\", \"minority\")"
   ]
  },
  {
   "cell_type": "code",
   "execution_count": 60,
   "id": "06a50de5",
   "metadata": {
    "execution": {
     "iopub.execute_input": "2025-08-05T15:56:54.636524Z",
     "iopub.status.busy": "2025-08-05T15:56:54.635858Z",
     "iopub.status.idle": "2025-08-05T15:56:57.516293Z",
     "shell.execute_reply": "2025-08-05T15:56:57.515146Z"
    },
    "papermill": {
     "duration": 2.895579,
     "end_time": "2025-08-05T15:56:57.518900",
     "exception": false,
     "start_time": "2025-08-05T15:56:54.623321",
     "status": "completed"
    },
    "tags": []
   },
   "outputs": [],
   "source": [
    "example_universe = universe.copy()\n",
    "example_universe[\"cutoff\"] = example_universe[\"cutoff\"][0]\n",
    "example_universe[\"eval_fairness_grouping\"] = example_universe[\"eval_fairness_grouping\"][0]\n",
    "fairness_dict, metric_frame = universe_analysis.compute_metrics(\n",
    "    example_universe,\n",
    "    y_pred_prob=probs_test,\n",
    "    y_test=y_true,\n",
    "    org_test=org_test,\n",
    ")"
   ]
  },
  {
   "cell_type": "markdown",
   "id": "f95d4e02",
   "metadata": {
    "papermill": {
     "duration": 0.028565,
     "end_time": "2025-08-05T15:56:57.583213",
     "exception": false,
     "start_time": "2025-08-05T15:56:57.554648",
     "status": "completed"
    },
    "tags": []
   },
   "source": [
    "# Overall"
   ]
  },
  {
   "cell_type": "markdown",
   "id": "bdee4871",
   "metadata": {
    "papermill": {
     "duration": 0.02483,
     "end_time": "2025-08-05T15:56:57.632531",
     "exception": false,
     "start_time": "2025-08-05T15:56:57.607701",
     "status": "completed"
    },
    "tags": []
   },
   "source": [
    "Fairness\n",
    "Main fairness target: Equalized Odds. Seems to be a better fit than equal opportunity, since we're not only interested in Y = 1. Seems to be a better fit than demographic parity, since we also care about accuracy, not just equal distribution of preds.\n",
    "\n",
    "Pick column for computation of fairness metrics\n",
    "\n",
    "Performance\n",
    "Overall performance measures, most interesting in relation to the measures split by group below"
   ]
  },
  {
   "cell_type": "code",
   "execution_count": 61,
   "id": "c4e067c6",
   "metadata": {
    "execution": {
     "iopub.execute_input": "2025-08-05T15:56:57.680880Z",
     "iopub.status.busy": "2025-08-05T15:56:57.680095Z",
     "iopub.status.idle": "2025-08-05T15:56:57.690196Z",
     "shell.execute_reply": "2025-08-05T15:56:57.689001Z"
    },
    "papermill": {
     "duration": 0.03619,
     "end_time": "2025-08-05T15:56:57.691991",
     "exception": false,
     "start_time": "2025-08-05T15:56:57.655801",
     "status": "completed"
    },
    "tags": []
   },
   "outputs": [
    {
     "data": {
      "text/plain": [
       "accuracy                   0.218560\n",
       "balanced accuracy          0.535627\n",
       "f1                         0.240051\n",
       "precision                  0.137133\n",
       "false positive rate        0.890860\n",
       "false negative rate        0.037887\n",
       "selection rate             0.900000\n",
       "count                  89710.000000\n",
       "dtype: float64"
      ]
     },
     "execution_count": 61,
     "metadata": {},
     "output_type": "execute_result"
    }
   ],
   "source": [
    "metric_frame.overall"
   ]
  },
  {
   "cell_type": "markdown",
   "id": "e968fe9d",
   "metadata": {
    "papermill": {
     "duration": 0.023416,
     "end_time": "2025-08-05T15:56:57.740801",
     "exception": false,
     "start_time": "2025-08-05T15:56:57.717385",
     "status": "completed"
    },
    "tags": []
   },
   "source": [
    "By Group"
   ]
  },
  {
   "cell_type": "code",
   "execution_count": 62,
   "id": "ec325bce",
   "metadata": {
    "execution": {
     "iopub.execute_input": "2025-08-05T15:56:57.769279Z",
     "iopub.status.busy": "2025-08-05T15:56:57.768770Z",
     "iopub.status.idle": "2025-08-05T15:56:57.783726Z",
     "shell.execute_reply": "2025-08-05T15:56:57.782809Z"
    },
    "papermill": {
     "duration": 0.030192,
     "end_time": "2025-08-05T15:56:57.785475",
     "exception": false,
     "start_time": "2025-08-05T15:56:57.755283",
     "status": "completed"
    },
    "tags": []
   },
   "outputs": [
    {
     "data": {
      "text/html": [
       "<div>\n",
       "<style scoped>\n",
       "    .dataframe tbody tr th:only-of-type {\n",
       "        vertical-align: middle;\n",
       "    }\n",
       "\n",
       "    .dataframe tbody tr th {\n",
       "        vertical-align: top;\n",
       "    }\n",
       "\n",
       "    .dataframe thead th {\n",
       "        text-align: right;\n",
       "    }\n",
       "</style>\n",
       "<table border=\"1\" class=\"dataframe\">\n",
       "  <thead>\n",
       "    <tr style=\"text-align: right;\">\n",
       "      <th></th>\n",
       "      <th>accuracy</th>\n",
       "      <th>balanced accuracy</th>\n",
       "      <th>f1</th>\n",
       "      <th>precision</th>\n",
       "      <th>false positive rate</th>\n",
       "      <th>false negative rate</th>\n",
       "      <th>selection rate</th>\n",
       "      <th>count</th>\n",
       "    </tr>\n",
       "    <tr>\n",
       "      <th>majmin</th>\n",
       "      <th></th>\n",
       "      <th></th>\n",
       "      <th></th>\n",
       "      <th></th>\n",
       "      <th></th>\n",
       "      <th></th>\n",
       "      <th></th>\n",
       "      <th></th>\n",
       "    </tr>\n",
       "  </thead>\n",
       "  <tbody>\n",
       "    <tr>\n",
       "      <th>majority</th>\n",
       "      <td>0.240494</td>\n",
       "      <td>0.543923</td>\n",
       "      <td>0.249682</td>\n",
       "      <td>0.143585</td>\n",
       "      <td>0.868499</td>\n",
       "      <td>0.043654</td>\n",
       "      <td>0.880107</td>\n",
       "      <td>69170.0</td>\n",
       "    </tr>\n",
       "    <tr>\n",
       "      <th>minority</th>\n",
       "      <td>0.144693</td>\n",
       "      <td>0.509825</td>\n",
       "      <td>0.209717</td>\n",
       "      <td>0.117360</td>\n",
       "      <td>0.964726</td>\n",
       "      <td>0.015625</td>\n",
       "      <td>0.966991</td>\n",
       "      <td>20540.0</td>\n",
       "    </tr>\n",
       "  </tbody>\n",
       "</table>\n",
       "</div>"
      ],
      "text/plain": [
       "          accuracy  balanced accuracy        f1  precision  \\\n",
       "majmin                                                       \n",
       "majority  0.240494           0.543923  0.249682   0.143585   \n",
       "minority  0.144693           0.509825  0.209717   0.117360   \n",
       "\n",
       "          false positive rate  false negative rate  selection rate    count  \n",
       "majmin                                                                       \n",
       "majority             0.868499             0.043654        0.880107  69170.0  \n",
       "minority             0.964726             0.015625        0.966991  20540.0  "
      ]
     },
     "execution_count": 62,
     "metadata": {},
     "output_type": "execute_result"
    }
   ],
   "source": [
    "metric_frame.by_group"
   ]
  },
  {
   "cell_type": "code",
   "execution_count": 63,
   "id": "a9ddbe63",
   "metadata": {
    "execution": {
     "iopub.execute_input": "2025-08-05T15:56:57.813344Z",
     "iopub.status.busy": "2025-08-05T15:56:57.812808Z",
     "iopub.status.idle": "2025-08-05T15:56:59.583073Z",
     "shell.execute_reply": "2025-08-05T15:56:59.582164Z"
    },
    "papermill": {
     "duration": 1.784502,
     "end_time": "2025-08-05T15:56:59.584449",
     "exception": false,
     "start_time": "2025-08-05T15:56:57.799947",
     "status": "completed"
    },
    "tags": []
   },
   "outputs": [
    {
     "data": {
      "text/plain": [
       "array([[<Axes: title={'center': 'accuracy'}, xlabel='majmin'>,\n",
       "        <Axes: title={'center': 'balanced accuracy'}, xlabel='majmin'>,\n",
       "        <Axes: title={'center': 'f1'}, xlabel='majmin'>],\n",
       "       [<Axes: title={'center': 'precision'}, xlabel='majmin'>,\n",
       "        <Axes: title={'center': 'false positive rate'}, xlabel='majmin'>,\n",
       "        <Axes: title={'center': 'false negative rate'}, xlabel='majmin'>],\n",
       "       [<Axes: title={'center': 'selection rate'}, xlabel='majmin'>,\n",
       "        <Axes: title={'center': 'count'}, xlabel='majmin'>,\n",
       "        <Axes: xlabel='majmin'>]], dtype=object)"
      ]
     },
     "execution_count": 63,
     "metadata": {},
     "output_type": "execute_result"
    },
    {
     "data": {
      "image/png": "[encoded data removed]",
      "text/plain": [
       "<Figure size 1200x800 with 9 Axes>"
      ]
     },
     "metadata": {},
     "output_type": "display_data"
    }
   ],
   "source": [
    "# In a graphic\n",
    "metric_frame.by_group.plot.bar(\n",
    "    subplots=True,\n",
    "    layout=[3, 3],\n",
    "    legend=False,\n",
    "    figsize=[12, 8],\n",
    "    title=\"Show all metrics\",\n",
    ")"
   ]
  },
  {
   "cell_type": "markdown",
   "id": "f57a0bac",
   "metadata": {
    "papermill": {
     "duration": 0.014115,
     "end_time": "2025-08-05T15:56:59.613117",
     "exception": false,
     "start_time": "2025-08-05T15:56:59.599002",
     "status": "completed"
    },
    "tags": []
   },
   "source": [
    "# Final Output"
   ]
  },
  {
   "cell_type": "code",
   "execution_count": 64,
   "id": "96d280a3",
   "metadata": {
    "execution": {
     "iopub.execute_input": "2025-08-05T15:56:59.642621Z",
     "iopub.status.busy": "2025-08-05T15:56:59.641982Z",
     "iopub.status.idle": "2025-08-05T15:56:59.649397Z",
     "shell.execute_reply": "2025-08-05T15:56:59.648629Z"
    },
    "papermill": {
     "duration": 0.023878,
     "end_time": "2025-08-05T15:56:59.650816",
     "exception": false,
     "start_time": "2025-08-05T15:56:59.626938",
     "status": "completed"
    },
    "tags": []
   },
   "outputs": [
    {
     "data": {
      "text/plain": [
       "4"
      ]
     },
     "execution_count": 64,
     "metadata": {},
     "output_type": "execute_result"
    }
   ],
   "source": [
    "sub_universes = universe_analysis.generate_sub_universes()\n",
    "len(sub_universes)"
   ]
  },
  {
   "cell_type": "code",
   "execution_count": 65,
   "id": "92adf7ba",
   "metadata": {
    "execution": {
     "iopub.execute_input": "2025-08-05T15:56:59.681331Z",
     "iopub.status.busy": "2025-08-05T15:56:59.680803Z",
     "iopub.status.idle": "2025-08-05T15:56:59.708362Z",
     "shell.execute_reply": "2025-08-05T15:56:59.707503Z"
    },
    "papermill": {
     "duration": 0.045166,
     "end_time": "2025-08-05T15:56:59.710279",
     "exception": false,
     "start_time": "2025-08-05T15:56:59.665113",
     "status": "completed"
    },
    "tags": []
   },
   "outputs": [],
   "source": [
    "def filter_sub_universe_data(sub_universe, org_test):\n",
    "    # Keep all rows — no filtering\n",
    "    keep_rows_mask = np.ones(org_test.shape[0], dtype=bool)\n",
    "\n",
    "    print(f\"[INFO] Keeping all rows: {keep_rows_mask.sum()} rows retained.\")\n",
    "    return keep_rows_mask"
   ]
  },
  {
   "cell_type": "code",
   "execution_count": 66,
   "id": "4a759155",
   "metadata": {
    "execution": {
     "iopub.execute_input": "2025-08-05T15:56:59.740796Z",
     "iopub.status.busy": "2025-08-05T15:56:59.740431Z",
     "iopub.status.idle": "2025-08-05T15:57:08.434449Z",
     "shell.execute_reply": "2025-08-05T15:57:08.433652Z"
    },
    "papermill": {
     "duration": 8.710601,
     "end_time": "2025-08-05T15:57:08.435756",
     "exception": false,
     "start_time": "2025-08-05T15:56:59.725155",
     "status": "completed"
    },
    "tags": []
   },
   "outputs": [
    {
     "name": "stdout",
     "output_type": "stream",
     "text": [
      "Stopping execution_time clock.\n",
      "[INFO] Keeping all rows: 89710 rows retained.\n"
     ]
    },
    {
     "name": "stdout",
     "output_type": "stream",
     "text": [
      "[INFO] Keeping all rows: 89710 rows retained.\n"
     ]
    },
    {
     "name": "stdout",
     "output_type": "stream",
     "text": [
      "[INFO] Keeping all rows: 89710 rows retained.\n"
     ]
    },
    {
     "name": "stdout",
     "output_type": "stream",
     "text": [
      "[INFO] Keeping all rows: 89710 rows retained.\n"
     ]
    },
    {
     "data": {
      "text/html": [
       "<div>\n",
       "<style scoped>\n",
       "    .dataframe tbody tr th:only-of-type {\n",
       "        vertical-align: middle;\n",
       "    }\n",
       "\n",
       "    .dataframe tbody tr th {\n",
       "        vertical-align: top;\n",
       "    }\n",
       "\n",
       "    .dataframe thead th {\n",
       "        text-align: right;\n",
       "    }\n",
       "</style>\n",
       "<table border=\"1\" class=\"dataframe\">\n",
       "  <thead>\n",
       "    <tr style=\"text-align: right;\">\n",
       "      <th></th>\n",
       "      <th>run_no</th>\n",
       "      <th>universe_id</th>\n",
       "      <th>universe_settings</th>\n",
       "      <th>execution_time</th>\n",
       "      <th>test_size_n</th>\n",
       "      <th>test_size_frac</th>\n",
       "      <th>fair_main_equalized_odds_difference</th>\n",
       "      <th>fair_main_equalized_odds_ratio</th>\n",
       "      <th>fair_main_demographic_parity_difference</th>\n",
       "      <th>fair_main_demographic_parity_ratio</th>\n",
       "      <th>...</th>\n",
       "      <th>perf_grp_precision_0</th>\n",
       "      <th>perf_grp_precision_1</th>\n",
       "      <th>perf_grp_false positive rate_0</th>\n",
       "      <th>perf_grp_false positive rate_1</th>\n",
       "      <th>perf_grp_false negative rate_0</th>\n",
       "      <th>perf_grp_false negative rate_1</th>\n",
       "      <th>perf_grp_selection rate_0</th>\n",
       "      <th>perf_grp_selection rate_1</th>\n",
       "      <th>perf_grp_count_0</th>\n",
       "      <th>perf_grp_count_1</th>\n",
       "    </tr>\n",
       "  </thead>\n",
       "  <tbody>\n",
       "    <tr>\n",
       "      <th>0</th>\n",
       "      <td>15</td>\n",
       "      <td>01ab4dca189a304addb41b6c3720ad61</td>\n",
       "      <td>{\"cutoff\": \"quantile_0.1\", \"eval_fairness_grou...</td>\n",
       "      <td>24.580572</td>\n",
       "      <td>89710</td>\n",
       "      <td>1.0</td>\n",
       "      <td>0.096227</td>\n",
       "      <td>0.900255</td>\n",
       "      <td>0.086884</td>\n",
       "      <td>0.910150</td>\n",
       "      <td>...</td>\n",
       "      <td>NaN</td>\n",
       "      <td>NaN</td>\n",
       "      <td>NaN</td>\n",
       "      <td>NaN</td>\n",
       "      <td>NaN</td>\n",
       "      <td>NaN</td>\n",
       "      <td>NaN</td>\n",
       "      <td>NaN</td>\n",
       "      <td>NaN</td>\n",
       "      <td>NaN</td>\n",
       "    </tr>\n",
       "    <tr>\n",
       "      <th>0</th>\n",
       "      <td>15</td>\n",
       "      <td>01ab4dca189a304addb41b6c3720ad61</td>\n",
       "      <td>{\"cutoff\": \"quantile_0.1\", \"eval_fairness_grou...</td>\n",
       "      <td>24.580572</td>\n",
       "      <td>89710</td>\n",
       "      <td>1.0</td>\n",
       "      <td>0.096227</td>\n",
       "      <td>0.900255</td>\n",
       "      <td>0.086884</td>\n",
       "      <td>0.910150</td>\n",
       "      <td>...</td>\n",
       "      <td>0.117360</td>\n",
       "      <td>0.143585</td>\n",
       "      <td>0.964726</td>\n",
       "      <td>0.868499</td>\n",
       "      <td>0.015625</td>\n",
       "      <td>0.043654</td>\n",
       "      <td>0.966991</td>\n",
       "      <td>0.880107</td>\n",
       "      <td>20540.0</td>\n",
       "      <td>69170.0</td>\n",
       "    </tr>\n",
       "    <tr>\n",
       "      <th>0</th>\n",
       "      <td>15</td>\n",
       "      <td>01ab4dca189a304addb41b6c3720ad61</td>\n",
       "      <td>{\"cutoff\": \"quantile_0.25\", \"eval_fairness_gro...</td>\n",
       "      <td>24.580572</td>\n",
       "      <td>89710</td>\n",
       "      <td>1.0</td>\n",
       "      <td>0.217893</td>\n",
       "      <td>0.757187</td>\n",
       "      <td>0.198970</td>\n",
       "      <td>0.779757</td>\n",
       "      <td>...</td>\n",
       "      <td>NaN</td>\n",
       "      <td>NaN</td>\n",
       "      <td>NaN</td>\n",
       "      <td>NaN</td>\n",
       "      <td>NaN</td>\n",
       "      <td>NaN</td>\n",
       "      <td>NaN</td>\n",
       "      <td>NaN</td>\n",
       "      <td>NaN</td>\n",
       "      <td>NaN</td>\n",
       "    </tr>\n",
       "    <tr>\n",
       "      <th>0</th>\n",
       "      <td>15</td>\n",
       "      <td>01ab4dca189a304addb41b6c3720ad61</td>\n",
       "      <td>{\"cutoff\": \"quantile_0.25\", \"eval_fairness_gro...</td>\n",
       "      <td>24.580572</td>\n",
       "      <td>89710</td>\n",
       "      <td>1.0</td>\n",
       "      <td>0.217893</td>\n",
       "      <td>0.757187</td>\n",
       "      <td>0.198970</td>\n",
       "      <td>0.779757</td>\n",
       "      <td>...</td>\n",
       "      <td>0.121201</td>\n",
       "      <td>0.162890</td>\n",
       "      <td>0.897370</td>\n",
       "      <td>0.679477</td>\n",
       "      <td>0.050253</td>\n",
       "      <td>0.131619</td>\n",
       "      <td>0.903408</td>\n",
       "      <td>0.704438</td>\n",
       "      <td>20540.0</td>\n",
       "      <td>69170.0</td>\n",
       "    </tr>\n",
       "  </tbody>\n",
       "</table>\n",
       "<p>4 rows × 50 columns</p>\n",
       "</div>"
      ],
      "text/plain": [
       "  run_no                       universe_id  \\\n",
       "0     15  01ab4dca189a304addb41b6c3720ad61   \n",
       "0     15  01ab4dca189a304addb41b6c3720ad61   \n",
       "0     15  01ab4dca189a304addb41b6c3720ad61   \n",
       "0     15  01ab4dca189a304addb41b6c3720ad61   \n",
       "\n",
       "                                   universe_settings  execution_time  \\\n",
       "0  {\"cutoff\": \"quantile_0.1\", \"eval_fairness_grou...       24.580572   \n",
       "0  {\"cutoff\": \"quantile_0.1\", \"eval_fairness_grou...       24.580572   \n",
       "0  {\"cutoff\": \"quantile_0.25\", \"eval_fairness_gro...       24.580572   \n",
       "0  {\"cutoff\": \"quantile_0.25\", \"eval_fairness_gro...       24.580572   \n",
       "\n",
       "   test_size_n  test_size_frac  fair_main_equalized_odds_difference  \\\n",
       "0        89710             1.0                             0.096227   \n",
       "0        89710             1.0                             0.096227   \n",
       "0        89710             1.0                             0.217893   \n",
       "0        89710             1.0                             0.217893   \n",
       "\n",
       "   fair_main_equalized_odds_ratio  fair_main_demographic_parity_difference  \\\n",
       "0                        0.900255                                 0.086884   \n",
       "0                        0.900255                                 0.086884   \n",
       "0                        0.757187                                 0.198970   \n",
       "0                        0.757187                                 0.198970   \n",
       "\n",
       "   fair_main_demographic_parity_ratio  ...  perf_grp_precision_0  \\\n",
       "0                            0.910150  ...                   NaN   \n",
       "0                            0.910150  ...              0.117360   \n",
       "0                            0.779757  ...                   NaN   \n",
       "0                            0.779757  ...              0.121201   \n",
       "\n",
       "   perf_grp_precision_1  perf_grp_false positive rate_0  \\\n",
       "0                   NaN                             NaN   \n",
       "0              0.143585                        0.964726   \n",
       "0                   NaN                             NaN   \n",
       "0              0.162890                        0.897370   \n",
       "\n",
       "   perf_grp_false positive rate_1  perf_grp_false negative rate_0  \\\n",
       "0                             NaN                             NaN   \n",
       "0                        0.868499                        0.015625   \n",
       "0                             NaN                             NaN   \n",
       "0                        0.679477                        0.050253   \n",
       "\n",
       "   perf_grp_false negative rate_1  perf_grp_selection rate_0  \\\n",
       "0                             NaN                        NaN   \n",
       "0                        0.043654                   0.966991   \n",
       "0                             NaN                        NaN   \n",
       "0                        0.131619                   0.903408   \n",
       "\n",
       "   perf_grp_selection rate_1  perf_grp_count_0  perf_grp_count_1  \n",
       "0                        NaN               NaN               NaN  \n",
       "0                   0.880107           20540.0           69170.0  \n",
       "0                        NaN               NaN               NaN  \n",
       "0                   0.704438           20540.0           69170.0  \n",
       "\n",
       "[4 rows x 50 columns]"
      ]
     },
     "execution_count": 66,
     "metadata": {},
     "output_type": "execute_result"
    }
   ],
   "source": [
    "final_output = universe_analysis.generate_final_output(\n",
    "    y_pred_prob=probs_test,\n",
    "    y_test=y_true,\n",
    "    org_test=org_test,\n",
    "    filter_data=filter_sub_universe_data,\n",
    "    cp_metrics_df=cp_metrics_df,\n",
    "    save=True,\n",
    ")\n",
    "final_output"
   ]
  }
 ],
 "metadata": {
  "celltoolbar": "Tags",
  "kernelspec": {
   "display_name": "Python (CMA Fairness)",
   "language": "python",
   "name": "cma_fair_env"
  },
  "language_info": {
   "codemirror_mode": {
    "name": "ipython",
    "version": 3
   },
   "file_extension": ".py",
   "mimetype": "text/x-python",
   "name": "python",
   "nbconvert_exporter": "python",
   "pygments_lexer": "ipython3",
   "version": "3.10.12"
  },
  "papermill": {
   "default_parameters": {},
   "duration": 37.002462,
   "end_time": "2025-08-05T15:57:09.173284",
   "environment_variables": {},
   "exception": null,
   "input_path": "universe_analysis.ipynb",
   "output_path": "output/runs/15/notebooks/m_15-01ab4dca189a304addb41b6c3720ad61.ipynb",
   "parameters": {
    "output_dir": "output",
    "run_no": "15",
    "seed": "2023",
    "universe": "{\"cutoff\": [\"quantile_0.1\", \"quantile_0.25\"], \"eval_fairness_grouping\": [\"majority-minority\", \"nationality-all\"], \"exclude_features\": \"nationality-sex\", \"exclude_subgroups\": \"keep-all\", \"model\": \"penalized_logreg\", \"scale\": \"do-not-scale\", \"training_size\": \"5k\", \"training_year\": \"2010_14\"}",
    "universe_id": "01ab4dca189a304addb41b6c3720ad61"
   },
   "start_time": "2025-08-05T15:56:32.170822",
   "version": "2.6.0"
  }
 },
 "nbformat": 4,
 "nbformat_minor": 5
}