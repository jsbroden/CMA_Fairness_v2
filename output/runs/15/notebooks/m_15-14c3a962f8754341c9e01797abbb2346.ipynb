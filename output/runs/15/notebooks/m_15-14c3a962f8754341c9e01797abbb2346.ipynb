{
 "cells": [
  {
   "cell_type": "code",
   "execution_count": 1,
   "id": "f159f837-637b-42ba-96b5-ec9a68c44524",
   "metadata": {
    "execution": {
     "iopub.execute_input": "2025-08-05T16:10:12.061977Z",
     "iopub.status.busy": "2025-08-05T16:10:12.061180Z",
     "iopub.status.idle": "2025-08-05T16:10:12.075043Z",
     "shell.execute_reply": "2025-08-05T16:10:12.073931Z"
    },
    "papermill": {
     "duration": 0.033784,
     "end_time": "2025-08-05T16:10:12.076950",
     "exception": false,
     "start_time": "2025-08-05T16:10:12.043166",
     "status": "completed"
    },
    "tags": []
   },
   "outputs": [
    {
     "name": "stdout",
     "output_type": "stream",
     "text": [
      "/dss/dsshome1/0C/ra93lal2/cma/CMA_Fairness_v2\n"
     ]
    },
    {
     "name": "stderr",
     "output_type": "stream",
     "text": [
      "/dss/dsshome1/0C/ra93lal2/.local/share/virtualenvs/CMA_Fairness_v2-3j10GkSs/lib/python3.10/site-packages/IPython/core/magics/osm.py:393: UserWarning: This is now an optional IPython functionality, using bookmarks requires you to install the `pickleshare` library.\n",
      "  bkms = self.shell.db.get('bookmarks', {})\n",
      "/dss/dsshome1/0C/ra93lal2/.local/share/virtualenvs/CMA_Fairness_v2-3j10GkSs/lib/python3.10/site-packages/IPython/core/magics/osm.py:417: UserWarning: This is now an optional IPython functionality, setting dhist requires you to install the `pickleshare` library.\n",
      "  self.shell.db['dhist'] = compress_dhist(dhist)[-100:]\n"
     ]
    }
   ],
   "source": [
    "%cd ~/cma/CMA_Fairness_v2"
   ]
  },
  {
   "cell_type": "markdown",
   "id": "de2603b9",
   "metadata": {
    "papermill": {
     "duration": 0.015859,
     "end_time": "2025-08-05T16:10:12.110117",
     "exception": false,
     "start_time": "2025-08-05T16:10:12.094258",
     "status": "completed"
    },
    "tags": []
   },
   "source": [
    "The following cell holds the definition of our parameters, these values can be overriden by rendering the with e.g. the following command:\n",
    "\n",
    "papermill -p alpha 0.2 -p ratio 0.3 universe_analysis.ipynb output/test_run.ipynb"
   ]
  },
  {
   "cell_type": "code",
   "execution_count": 2,
   "id": "a80968a0-40bb-4fa9-85ef-2d5eefb01975",
   "metadata": {
    "execution": {
     "iopub.execute_input": "2025-08-05T16:10:12.145873Z",
     "iopub.status.busy": "2025-08-05T16:10:12.145174Z",
     "iopub.status.idle": "2025-08-05T16:10:12.151073Z",
     "shell.execute_reply": "2025-08-05T16:10:12.149925Z"
    },
    "papermill": {
     "duration": 0.027273,
     "end_time": "2025-08-05T16:10:12.153116",
     "exception": false,
     "start_time": "2025-08-05T16:10:12.125843",
     "status": "completed"
    },
    "tags": []
   },
   "outputs": [
    {
     "name": "stdout",
     "output_type": "stream",
     "text": [
      "Current working directory: /dss/dsshome1/0C/ra93lal2/cma/CMA_Fairness_v2\n"
     ]
    }
   ],
   "source": [
    "import os\n",
    "print(\"Current working directory:\", os.getcwd())"
   ]
  },
  {
   "cell_type": "code",
   "execution_count": 3,
   "id": "2dce4c03",
   "metadata": {
    "execution": {
     "iopub.execute_input": "2025-08-05T16:10:12.196052Z",
     "iopub.status.busy": "2025-08-05T16:10:12.195344Z",
     "iopub.status.idle": "2025-08-05T16:10:12.201937Z",
     "shell.execute_reply": "2025-08-05T16:10:12.200747Z"
    },
    "papermill": {
     "duration": 0.029885,
     "end_time": "2025-08-05T16:10:12.204047",
     "exception": false,
     "start_time": "2025-08-05T16:10:12.174162",
     "status": "completed"
    },
    "tags": [
     "parameters"
    ]
   },
   "outputs": [],
   "source": [
    "run_no = 0\n",
    "universe_id = \"test\"\n",
    "universe = {\n",
    "    \"training_size\": \"25k\", # \"25k\", \"5k\", \"1k\"\n",
    "    \"training_year\": \"2014\", # \"2014\", \"2012_14\", \"2010_14\"\n",
    "    \"scale\": \"scale\", # \"scale\", \"do-not-scale\",\n",
    "    \"model\": \"elasticnet\", # \"logreg\", \"penalized_logreg\", \"rf\", \"gbm\", \"elasticnet\"\n",
    "    \"cutoff\": [\"quantile_0.15\", \"quantile_0.30\"],\n",
    "    \"exclude_features\": \"age\", # \"none\", \"nationality\", \"sex\", \"nationality-sex\", \"age\"\n",
    "    \"exclude_subgroups\": \"keep-all\", # \"keep-all\", \"drop-non-german\"\n",
    "    \"eval_fairness_grouping\": [\"majority-minority\", \"nationality-all\"]\n",
    "}\n",
    "\n",
    "output_dir=\"./output\"\n",
    "seed=0"
   ]
  },
  {
   "cell_type": "code",
   "execution_count": 4,
   "id": "ff98cec0",
   "metadata": {
    "execution": {
     "iopub.execute_input": "2025-08-05T16:10:12.247824Z",
     "iopub.status.busy": "2025-08-05T16:10:12.247090Z",
     "iopub.status.idle": "2025-08-05T16:10:12.253481Z",
     "shell.execute_reply": "2025-08-05T16:10:12.252293Z"
    },
    "papermill": {
     "duration": 0.029368,
     "end_time": "2025-08-05T16:10:12.255325",
     "exception": false,
     "start_time": "2025-08-05T16:10:12.225957",
     "status": "completed"
    },
    "tags": [
     "injected-parameters"
    ]
   },
   "outputs": [],
   "source": [
    "# Parameters\n",
    "universe_id = \"14c3a962f8754341c9e01797abbb2346\"\n",
    "run_no = \"15\"\n",
    "universe = \"{\\\"cutoff\\\": [\\\"quantile_0.1\\\", \\\"quantile_0.25\\\"], \\\"eval_fairness_grouping\\\": [\\\"majority-minority\\\", \\\"nationality-all\\\"], \\\"exclude_features\\\": \\\"sex\\\", \\\"exclude_subgroups\\\": \\\"drop-non-german\\\", \\\"model\\\": \\\"penalized_logreg\\\", \\\"scale\\\": \\\"do-not-scale\\\", \\\"training_size\\\": \\\"1k\\\", \\\"training_year\\\": \\\"2014\\\"}\"\n",
    "output_dir = \"output\"\n",
    "seed = \"2023\"\n"
   ]
  },
  {
   "cell_type": "code",
   "execution_count": 5,
   "id": "1650acaf",
   "metadata": {
    "execution": {
     "iopub.execute_input": "2025-08-05T16:10:12.292024Z",
     "iopub.status.busy": "2025-08-05T16:10:12.291574Z",
     "iopub.status.idle": "2025-08-05T16:10:12.297180Z",
     "shell.execute_reply": "2025-08-05T16:10:12.295902Z"
    },
    "papermill": {
     "duration": 0.025859,
     "end_time": "2025-08-05T16:10:12.299153",
     "exception": false,
     "start_time": "2025-08-05T16:10:12.273294",
     "status": "completed"
    },
    "tags": []
   },
   "outputs": [],
   "source": [
    "import json\n",
    "if isinstance(universe, str):\n",
    "    universe = json.loads(universe)"
   ]
  },
  {
   "cell_type": "code",
   "execution_count": 6,
   "id": "16620c48",
   "metadata": {
    "execution": {
     "iopub.execute_input": "2025-08-05T16:10:12.336587Z",
     "iopub.status.busy": "2025-08-05T16:10:12.335676Z",
     "iopub.status.idle": "2025-08-05T16:10:12.381342Z",
     "shell.execute_reply": "2025-08-05T16:10:12.380311Z"
    },
    "papermill": {
     "duration": 0.066251,
     "end_time": "2025-08-05T16:10:12.383634",
     "exception": false,
     "start_time": "2025-08-05T16:10:12.317383",
     "status": "completed"
    },
    "tags": []
   },
   "outputs": [],
   "source": [
    "# Auto-reload the custom package\n",
    "%load_ext autoreload\n",
    "%autoreload 1\n",
    "%aimport fairness_multiverse"
   ]
  },
  {
   "cell_type": "code",
   "execution_count": 7,
   "id": "01c5c9f3",
   "metadata": {
    "execution": {
     "iopub.execute_input": "2025-08-05T16:10:12.426139Z",
     "iopub.status.busy": "2025-08-05T16:10:12.425402Z",
     "iopub.status.idle": "2025-08-05T16:10:14.371883Z",
     "shell.execute_reply": "2025-08-05T16:10:14.370831Z"
    },
    "papermill": {
     "duration": 1.969577,
     "end_time": "2025-08-05T16:10:14.373845",
     "exception": false,
     "start_time": "2025-08-05T16:10:12.404268",
     "status": "completed"
    },
    "tags": []
   },
   "outputs": [],
   "source": [
    "from fairness_multiverse.universe import UniverseAnalysis\n",
    "\n",
    "universe_analysis = UniverseAnalysis(\n",
    "    run_no = run_no,\n",
    "    universe_id = universe_id,\n",
    "    universe = universe,\n",
    "    output_dir=output_dir,\n",
    ")"
   ]
  },
  {
   "cell_type": "code",
   "execution_count": 8,
   "id": "106241f5",
   "metadata": {
    "execution": {
     "iopub.execute_input": "2025-08-05T16:10:14.408689Z",
     "iopub.status.busy": "2025-08-05T16:10:14.407826Z",
     "iopub.status.idle": "2025-08-05T16:10:14.414039Z",
     "shell.execute_reply": "2025-08-05T16:10:14.413120Z"
    },
    "papermill": {
     "duration": 0.025511,
     "end_time": "2025-08-05T16:10:14.415806",
     "exception": false,
     "start_time": "2025-08-05T16:10:14.390295",
     "status": "completed"
    },
    "tags": []
   },
   "outputs": [
    {
     "name": "stdout",
     "output_type": "stream",
     "text": [
      "Using Seed: 2023\n"
     ]
    }
   ],
   "source": [
    "import numpy as np\n",
    "parsed_seed = int(seed)\n",
    "np.random.seed(parsed_seed)\n",
    "print(f\"Using Seed: {parsed_seed}\")"
   ]
  },
  {
   "cell_type": "markdown",
   "id": "e0ebdc57",
   "metadata": {
    "papermill": {
     "duration": 0.017746,
     "end_time": "2025-08-05T16:10:14.452139",
     "exception": false,
     "start_time": "2025-08-05T16:10:14.434393",
     "status": "completed"
    },
    "tags": []
   },
   "source": [
    "# Loading Data"
   ]
  },
  {
   "cell_type": "code",
   "execution_count": 9,
   "id": "f0496b8a",
   "metadata": {
    "execution": {
     "iopub.execute_input": "2025-08-05T16:10:14.488294Z",
     "iopub.status.busy": "2025-08-05T16:10:14.487574Z",
     "iopub.status.idle": "2025-08-05T16:10:26.484061Z",
     "shell.execute_reply": "2025-08-05T16:10:26.482727Z"
    },
    "papermill": {
     "duration": 12.016555,
     "end_time": "2025-08-05T16:10:26.485750",
     "exception": false,
     "start_time": "2025-08-05T16:10:14.469195",
     "status": "completed"
    },
    "tags": []
   },
   "outputs": [
    {
     "name": "stdout",
     "output_type": "stream",
     "text": [
      "Loading SIAB data from cache: data/siab_cached.csv.gz\n"
     ]
    },
    {
     "name": "stdout",
     "output_type": "stream",
     "text": [
      "(643690, 164)\n"
     ]
    }
   ],
   "source": [
    "from pathlib import Path\n",
    "import pandas as pd\n",
    "\n",
    "# File paths\n",
    "raw_file = Path(\"data/raw/siab.csv\")\n",
    "cache_file = Path(\"data/siab_cached.csv.gz\")\n",
    "\n",
    "# Ensure cache directory exists\n",
    "cache_file.parent.mkdir(parents=True, exist_ok=True)\n",
    "\n",
    "# Load with simple caching\n",
    "if cache_file.exists():\n",
    "    print(f\"Loading SIAB data from cache: {cache_file}\")\n",
    "    siab = pd.read_csv(cache_file, compression='gzip')\n",
    "else:\n",
    "    print(f\"Cache not found. Reading raw SIAB data: {raw_file}\")\n",
    "    siab = pd.read_csv(raw_file)\n",
    "    siab.to_csv(cache_file, index=False, compression='gzip')\n",
    "    print(f\"Cached SIAB data to: {cache_file}\")\n",
    "\n",
    "print(siab.shape)"
   ]
  },
  {
   "cell_type": "code",
   "execution_count": 10,
   "id": "db0ca512-5f53-4dba-abdb-a2888bca41ba",
   "metadata": {
    "execution": {
     "iopub.execute_input": "2025-08-05T16:10:26.523271Z",
     "iopub.status.busy": "2025-08-05T16:10:26.522652Z",
     "iopub.status.idle": "2025-08-05T16:10:26.528680Z",
     "shell.execute_reply": "2025-08-05T16:10:26.527671Z"
    },
    "papermill": {
     "duration": 0.02499,
     "end_time": "2025-08-05T16:10:26.530287",
     "exception": false,
     "start_time": "2025-08-05T16:10:26.505297",
     "status": "completed"
    },
    "tags": []
   },
   "outputs": [],
   "source": [
    "#siab"
   ]
  },
  {
   "cell_type": "markdown",
   "id": "997051c5-15bd-4b69-9786-c3001a3ce484",
   "metadata": {
    "papermill": {
     "duration": 0.015584,
     "end_time": "2025-08-05T16:10:26.563747",
     "exception": false,
     "start_time": "2025-08-05T16:10:26.548163",
     "status": "completed"
    },
    "tags": []
   },
   "source": [
    "# Splitting Data and Setting Training Data Size"
   ]
  },
  {
   "cell_type": "code",
   "execution_count": 11,
   "id": "aea9c6ef-6f46-42c8-85eb-5a62025c1508",
   "metadata": {
    "execution": {
     "iopub.execute_input": "2025-08-05T16:10:26.598241Z",
     "iopub.status.busy": "2025-08-05T16:10:26.597360Z",
     "iopub.status.idle": "2025-08-05T16:10:26.774936Z",
     "shell.execute_reply": "2025-08-05T16:10:26.773958Z"
    },
    "papermill": {
     "duration": 0.197653,
     "end_time": "2025-08-05T16:10:26.776910",
     "exception": false,
     "start_time": "2025-08-05T16:10:26.579257",
     "status": "completed"
    },
    "tags": []
   },
   "outputs": [],
   "source": [
    "from fairness_multiverse.universe import sample_by_year_size\n",
    "\n",
    "siab_train = sample_by_year_size(siab,\n",
    "                               training_year=universe[\"training_year\"],\n",
    "                               training_size=universe[\"training_size\"])"
   ]
  },
  {
   "cell_type": "code",
   "execution_count": 12,
   "id": "8d3afb32-789d-442c-8d5d-9f5aa8dd2eed",
   "metadata": {
    "execution": {
     "iopub.execute_input": "2025-08-05T16:10:26.811694Z",
     "iopub.status.busy": "2025-08-05T16:10:26.810964Z",
     "iopub.status.idle": "2025-08-05T16:10:26.816001Z",
     "shell.execute_reply": "2025-08-05T16:10:26.814977Z"
    },
    "papermill": {
     "duration": 0.023211,
     "end_time": "2025-08-05T16:10:26.817590",
     "exception": false,
     "start_time": "2025-08-05T16:10:26.794379",
     "status": "completed"
    },
    "tags": []
   },
   "outputs": [],
   "source": [
    "#siab_train.shape"
   ]
  },
  {
   "cell_type": "code",
   "execution_count": 13,
   "id": "d582db68-1a4c-47fb-84fc-08518dc1975a",
   "metadata": {
    "execution": {
     "iopub.execute_input": "2025-08-05T16:10:26.853315Z",
     "iopub.status.busy": "2025-08-05T16:10:26.852584Z",
     "iopub.status.idle": "2025-08-05T16:10:26.857615Z",
     "shell.execute_reply": "2025-08-05T16:10:26.856578Z"
    },
    "papermill": {
     "duration": 0.024781,
     "end_time": "2025-08-05T16:10:26.859314",
     "exception": false,
     "start_time": "2025-08-05T16:10:26.834533",
     "status": "completed"
    },
    "tags": []
   },
   "outputs": [],
   "source": [
    "#display(siab_train.groupby(\"year\").size())"
   ]
  },
  {
   "cell_type": "code",
   "execution_count": 14,
   "id": "a561edb4-d032-42cb-8256-22eac1111c64",
   "metadata": {
    "execution": {
     "iopub.execute_input": "2025-08-05T16:10:26.894859Z",
     "iopub.status.busy": "2025-08-05T16:10:26.893902Z",
     "iopub.status.idle": "2025-08-05T16:10:27.095080Z",
     "shell.execute_reply": "2025-08-05T16:10:27.094115Z"
    },
    "papermill": {
     "duration": 0.220994,
     "end_time": "2025-08-05T16:10:27.097032",
     "exception": false,
     "start_time": "2025-08-05T16:10:26.876038",
     "status": "completed"
    },
    "tags": []
   },
   "outputs": [],
   "source": [
    "#siab_train = siab_s[siab_s.year < 2015]\n",
    "siab_calib = siab[siab.year == 2015]\n",
    "siab_test = siab[siab.year == 2016]"
   ]
  },
  {
   "cell_type": "code",
   "execution_count": 15,
   "id": "472de16f-c3db-4916-846b-1f0de9cf1746",
   "metadata": {
    "execution": {
     "iopub.execute_input": "2025-08-05T16:10:27.132829Z",
     "iopub.status.busy": "2025-08-05T16:10:27.132210Z",
     "iopub.status.idle": "2025-08-05T16:10:27.138778Z",
     "shell.execute_reply": "2025-08-05T16:10:27.137755Z"
    },
    "papermill": {
     "duration": 0.026281,
     "end_time": "2025-08-05T16:10:27.140772",
     "exception": false,
     "start_time": "2025-08-05T16:10:27.114491",
     "status": "completed"
    },
    "tags": []
   },
   "outputs": [],
   "source": [
    "X_train = siab_train.iloc[:,4:164]\n",
    "y_train = siab_train.iloc[:, [3]]"
   ]
  },
  {
   "cell_type": "code",
   "execution_count": 16,
   "id": "828c96af-f43a-4ed6-ba47-8ac73a47d56c",
   "metadata": {
    "execution": {
     "iopub.execute_input": "2025-08-05T16:10:27.178126Z",
     "iopub.status.busy": "2025-08-05T16:10:27.177447Z",
     "iopub.status.idle": "2025-08-05T16:10:27.209859Z",
     "shell.execute_reply": "2025-08-05T16:10:27.208593Z"
    },
    "papermill": {
     "duration": 0.052732,
     "end_time": "2025-08-05T16:10:27.212382",
     "exception": false,
     "start_time": "2025-08-05T16:10:27.159650",
     "status": "completed"
    },
    "tags": []
   },
   "outputs": [],
   "source": [
    "X_calib = siab_calib.iloc[:,4:164]\n",
    "y_calib = siab_calib.iloc[:, [3]]"
   ]
  },
  {
   "cell_type": "code",
   "execution_count": 17,
   "id": "c34be9c3-6bd6-476e-acd3-845840e303be",
   "metadata": {
    "execution": {
     "iopub.execute_input": "2025-08-05T16:10:27.248215Z",
     "iopub.status.busy": "2025-08-05T16:10:27.247375Z",
     "iopub.status.idle": "2025-08-05T16:10:27.299537Z",
     "shell.execute_reply": "2025-08-05T16:10:27.298449Z"
    },
    "papermill": {
     "duration": 0.071409,
     "end_time": "2025-08-05T16:10:27.301651",
     "exception": false,
     "start_time": "2025-08-05T16:10:27.230242",
     "status": "completed"
    },
    "tags": []
   },
   "outputs": [],
   "source": [
    "X_test = siab_test.iloc[:,4:164]\n",
    "y_true = siab_test.iloc[:, [3]]"
   ]
  },
  {
   "cell_type": "code",
   "execution_count": 18,
   "id": "e6c733c5",
   "metadata": {
    "execution": {
     "iopub.execute_input": "2025-08-05T16:10:27.338770Z",
     "iopub.status.busy": "2025-08-05T16:10:27.338029Z",
     "iopub.status.idle": "2025-08-05T16:10:27.441860Z",
     "shell.execute_reply": "2025-08-05T16:10:27.440882Z"
    },
    "papermill": {
     "duration": 0.123837,
     "end_time": "2025-08-05T16:10:27.443775",
     "exception": false,
     "start_time": "2025-08-05T16:10:27.319938",
     "status": "completed"
    },
    "tags": []
   },
   "outputs": [],
   "source": [
    "# Auxiliary data needed downstream in the pipeline\n",
    "\n",
    "org_train = X_train.copy()\n",
    "org_test = X_test.copy()\n",
    "org_calib = X_calib.copy()"
   ]
  },
  {
   "cell_type": "markdown",
   "id": "0a4a1b33",
   "metadata": {
    "papermill": {
     "duration": 0.016798,
     "end_time": "2025-08-05T16:10:27.478220",
     "exception": false,
     "start_time": "2025-08-05T16:10:27.461422",
     "status": "completed"
    },
    "tags": []
   },
   "source": [
    "# Preprocessing Data"
   ]
  },
  {
   "cell_type": "code",
   "execution_count": 19,
   "id": "ca879031",
   "metadata": {
    "execution": {
     "iopub.execute_input": "2025-08-05T16:10:27.511918Z",
     "iopub.status.busy": "2025-08-05T16:10:27.511284Z",
     "iopub.status.idle": "2025-08-05T16:10:27.517400Z",
     "shell.execute_reply": "2025-08-05T16:10:27.516304Z"
    },
    "papermill": {
     "duration": 0.024908,
     "end_time": "2025-08-05T16:10:27.519224",
     "exception": false,
     "start_time": "2025-08-05T16:10:27.494316",
     "status": "completed"
    },
    "tags": []
   },
   "outputs": [],
   "source": [
    "# EXCLUDE PROTECTED FEATURES\n",
    "# ----------------------\n",
    "# \"exclude_features\": \"none\", # \"nationality\", \"sex\", \"nationality-sex\"\n",
    "\n",
    "excluded_features = universe[\"exclude_features\"].split(\"-\") # split, e.g.: \"nationality-sex\" -> [\"nationality\", \"sex\"]\n",
    "excluded_features_dictionary = {\n",
    "    \"nationality\": [\"maxdeutsch1\", \"maxdeutsch.Missing.\"],\n",
    "    \"sex\": [\"frau1\"],\n",
    "    \"age\": [\"age\"],\n",
    "}"
   ]
  },
  {
   "cell_type": "code",
   "execution_count": 20,
   "id": "b745ac60",
   "metadata": {
    "execution": {
     "iopub.execute_input": "2025-08-05T16:10:27.554720Z",
     "iopub.status.busy": "2025-08-05T16:10:27.554155Z",
     "iopub.status.idle": "2025-08-05T16:10:27.559443Z",
     "shell.execute_reply": "2025-08-05T16:10:27.558526Z"
    },
    "papermill": {
     "duration": 0.023902,
     "end_time": "2025-08-05T16:10:27.561186",
     "exception": false,
     "start_time": "2025-08-05T16:10:27.537284",
     "status": "completed"
    },
    "tags": []
   },
   "outputs": [],
   "source": [
    "# Code nice names to column names\n",
    "\n",
    "excluded_features_columns = [\n",
    "    excluded_features_dictionary[f] for f in excluded_features if len(f) > 0 and f != \"none\"\n",
    "]"
   ]
  },
  {
   "cell_type": "code",
   "execution_count": 21,
   "id": "f84f73a2",
   "metadata": {
    "execution": {
     "iopub.execute_input": "2025-08-05T16:10:27.597099Z",
     "iopub.status.busy": "2025-08-05T16:10:27.596320Z",
     "iopub.status.idle": "2025-08-05T16:10:27.602482Z",
     "shell.execute_reply": "2025-08-05T16:10:27.601555Z"
    },
    "papermill": {
     "duration": 0.025205,
     "end_time": "2025-08-05T16:10:27.604200",
     "exception": false,
     "start_time": "2025-08-05T16:10:27.578995",
     "status": "completed"
    },
    "tags": []
   },
   "outputs": [],
   "source": [
    "from utils import flatten_once\n",
    "\n",
    "excluded_features_columns = flatten_once(excluded_features_columns)"
   ]
  },
  {
   "cell_type": "code",
   "execution_count": 22,
   "id": "884dea22",
   "metadata": {
    "execution": {
     "iopub.execute_input": "2025-08-05T16:10:27.638652Z",
     "iopub.status.busy": "2025-08-05T16:10:27.637982Z",
     "iopub.status.idle": "2025-08-05T16:10:27.648170Z",
     "shell.execute_reply": "2025-08-05T16:10:27.647215Z"
    },
    "papermill": {
     "duration": 0.028997,
     "end_time": "2025-08-05T16:10:27.650064",
     "exception": false,
     "start_time": "2025-08-05T16:10:27.621067",
     "status": "completed"
    },
    "tags": []
   },
   "outputs": [
    {
     "name": "stdout",
     "output_type": "stream",
     "text": [
      "Dropping features: ['frau1']\n"
     ]
    }
   ],
   "source": [
    "if len(excluded_features_columns) > 0:\n",
    "    print(f\"Dropping features: {excluded_features_columns}\")\n",
    "    X_train.drop(excluded_features_columns, axis=1, inplace=True)"
   ]
  },
  {
   "cell_type": "code",
   "execution_count": 23,
   "id": "95ab8b16",
   "metadata": {
    "execution": {
     "iopub.execute_input": "2025-08-05T16:10:27.686792Z",
     "iopub.status.busy": "2025-08-05T16:10:27.686009Z",
     "iopub.status.idle": "2025-08-05T16:10:27.742715Z",
     "shell.execute_reply": "2025-08-05T16:10:27.741540Z"
    },
    "papermill": {
     "duration": 0.076138,
     "end_time": "2025-08-05T16:10:27.744818",
     "exception": false,
     "start_time": "2025-08-05T16:10:27.668680",
     "status": "completed"
    },
    "tags": []
   },
   "outputs": [
    {
     "name": "stdout",
     "output_type": "stream",
     "text": [
      "Dropping features: ['frau1']\n"
     ]
    }
   ],
   "source": [
    "if len(excluded_features_columns) > 0:\n",
    "    print(f\"Dropping features: {excluded_features_columns}\")\n",
    "    X_test.drop(excluded_features_columns, axis=1, inplace=True)"
   ]
  },
  {
   "cell_type": "code",
   "execution_count": 24,
   "id": "1853aaf5-fb9f-46cb-a2b5-8ea4ae2237e4",
   "metadata": {
    "execution": {
     "iopub.execute_input": "2025-08-05T16:10:27.781942Z",
     "iopub.status.busy": "2025-08-05T16:10:27.781166Z",
     "iopub.status.idle": "2025-08-05T16:10:27.834332Z",
     "shell.execute_reply": "2025-08-05T16:10:27.833006Z"
    },
    "papermill": {
     "duration": 0.072722,
     "end_time": "2025-08-05T16:10:27.836141",
     "exception": false,
     "start_time": "2025-08-05T16:10:27.763419",
     "status": "completed"
    },
    "tags": []
   },
   "outputs": [
    {
     "name": "stdout",
     "output_type": "stream",
     "text": [
      "Dropping features: ['frau1']\n"
     ]
    }
   ],
   "source": [
    "if len(excluded_features_columns) > 0:\n",
    "    print(f\"Dropping features: {excluded_features_columns}\")\n",
    "    X_calib.drop(excluded_features_columns, axis=1, inplace=True)"
   ]
  },
  {
   "cell_type": "code",
   "execution_count": 25,
   "id": "76c4dc6d",
   "metadata": {
    "execution": {
     "iopub.execute_input": "2025-08-05T16:10:27.873323Z",
     "iopub.status.busy": "2025-08-05T16:10:27.872886Z",
     "iopub.status.idle": "2025-08-05T16:10:27.878214Z",
     "shell.execute_reply": "2025-08-05T16:10:27.877131Z"
    },
    "papermill": {
     "duration": 0.024827,
     "end_time": "2025-08-05T16:10:27.879964",
     "exception": false,
     "start_time": "2025-08-05T16:10:27.855137",
     "status": "completed"
    },
    "tags": []
   },
   "outputs": [],
   "source": [
    "# EXCLUDE CERTAIN SUBGROUPS\n",
    "# ----------------------\n",
    "\n",
    "mode = universe.get(\"exclude_subgroups\", \"keep-all\") \n",
    "# Fetches the exclude_subgroups setting from the universe dict.\n",
    "# Defaults to \"keep-all\" if the key is missing."
   ]
  },
  {
   "cell_type": "code",
   "execution_count": 26,
   "id": "21994072",
   "metadata": {
    "execution": {
     "iopub.execute_input": "2025-08-05T16:10:27.916565Z",
     "iopub.status.busy": "2025-08-05T16:10:27.915723Z",
     "iopub.status.idle": "2025-08-05T16:10:27.922618Z",
     "shell.execute_reply": "2025-08-05T16:10:27.921792Z"
    },
    "papermill": {
     "duration": 0.026163,
     "end_time": "2025-08-05T16:10:27.924185",
     "exception": false,
     "start_time": "2025-08-05T16:10:27.898022",
     "status": "completed"
    },
    "tags": []
   },
   "outputs": [],
   "source": [
    "if mode == \"keep-all\":\n",
    "    keep_mask = pd.Series(True, index=org_train.index)\n",
    "\n",
    "# org_train contains the original feature columns from features_org (in Simson)\n",
    "# features_org contains unprocessed features, for me X_train at beginning ???\n",
    "# For keep-all, creates a boolean Series (keep_mask) of all True, so no rows are removed.\n",
    "\n",
    "elif mode == \"drop-non-german\":\n",
    "    keep_mask = org_train[\"maxdeutsch1\"] == 1 # ??? what about missing values?\n",
    "\n",
    "else:\n",
    "    raise ValueError(f\"Unsupported mode for exclude_subgroups: {mode}\")"
   ]
  },
  {
   "cell_type": "code",
   "execution_count": 27,
   "id": "71651440",
   "metadata": {
    "execution": {
     "iopub.execute_input": "2025-08-05T16:10:27.963353Z",
     "iopub.status.busy": "2025-08-05T16:10:27.962849Z",
     "iopub.status.idle": "2025-08-05T16:10:27.971218Z",
     "shell.execute_reply": "2025-08-05T16:10:27.968931Z"
    },
    "papermill": {
     "duration": 0.030025,
     "end_time": "2025-08-05T16:10:27.973200",
     "exception": false,
     "start_time": "2025-08-05T16:10:27.943175",
     "status": "completed"
    },
    "tags": []
   },
   "outputs": [
    {
     "name": "stdout",
     "output_type": "stream",
     "text": [
      "Dropping 147 rows (14.70%) where mode='drop-non-german'\n"
     ]
    }
   ],
   "source": [
    "n_drop = (~keep_mask).sum() # Calculates how many rows are set to be dropped\n",
    "if n_drop > 0:\n",
    "    pct = n_drop / len(keep_mask) * 100\n",
    "    print(f\"Dropping {n_drop} rows ({pct:.2f}%) where mode='{mode}'\")"
   ]
  },
  {
   "cell_type": "code",
   "execution_count": 28,
   "id": "5fb8eee5",
   "metadata": {
    "execution": {
     "iopub.execute_input": "2025-08-05T16:10:28.013593Z",
     "iopub.status.busy": "2025-08-05T16:10:28.012661Z",
     "iopub.status.idle": "2025-08-05T16:10:28.018932Z",
     "shell.execute_reply": "2025-08-05T16:10:28.017863Z"
    },
    "papermill": {
     "duration": 0.027102,
     "end_time": "2025-08-05T16:10:28.020860",
     "exception": false,
     "start_time": "2025-08-05T16:10:27.993758",
     "status": "completed"
    },
    "tags": []
   },
   "outputs": [],
   "source": [
    "X_train = X_train[keep_mask]"
   ]
  },
  {
   "cell_type": "code",
   "execution_count": 29,
   "id": "b202bb3a",
   "metadata": {
    "execution": {
     "iopub.execute_input": "2025-08-05T16:10:28.066895Z",
     "iopub.status.busy": "2025-08-05T16:10:28.066129Z",
     "iopub.status.idle": "2025-08-05T16:10:28.072554Z",
     "shell.execute_reply": "2025-08-05T16:10:28.071460Z"
    },
    "papermill": {
     "duration": 0.030354,
     "end_time": "2025-08-05T16:10:28.074616",
     "exception": false,
     "start_time": "2025-08-05T16:10:28.044262",
     "status": "completed"
    },
    "tags": []
   },
   "outputs": [],
   "source": [
    "y_train = y_train[keep_mask]"
   ]
  },
  {
   "cell_type": "markdown",
   "id": "493e2ac3",
   "metadata": {
    "papermill": {
     "duration": 0.022312,
     "end_time": "2025-08-05T16:10:28.118267",
     "exception": false,
     "start_time": "2025-08-05T16:10:28.095955",
     "status": "completed"
    },
    "tags": []
   },
   "source": [
    "# Model Training"
   ]
  },
  {
   "cell_type": "code",
   "execution_count": 30,
   "id": "679e1268",
   "metadata": {
    "execution": {
     "iopub.execute_input": "2025-08-05T16:10:28.160968Z",
     "iopub.status.busy": "2025-08-05T16:10:28.160145Z",
     "iopub.status.idle": "2025-08-05T16:10:28.266395Z",
     "shell.execute_reply": "2025-08-05T16:10:28.265330Z"
    },
    "papermill": {
     "duration": 0.129106,
     "end_time": "2025-08-05T16:10:28.268255",
     "exception": false,
     "start_time": "2025-08-05T16:10:28.139149",
     "status": "completed"
    },
    "tags": []
   },
   "outputs": [],
   "source": [
    "from sklearn.linear_model import LogisticRegression\n",
    "from sklearn.ensemble import GradientBoostingClassifier, RandomForestClassifier\n",
    "\n",
    "if (universe[\"model\"] == \"logreg\"):\n",
    "    model = LogisticRegression() #penalty=\"none\", solver=\"newton-cg\", max_iter=1) # include random_state=19 ?\n",
    "elif (universe[\"model\"] == \"penalized_logreg\"):\n",
    "    model = LogisticRegression(penalty=\"l2\", C=0.1) #, solver=\"newton-cg\", max_iter=1)\n",
    "elif (universe[\"model\"] == \"rf\"):\n",
    "    model = RandomForestClassifier() # n_estimators=100, n_jobs=-1\n",
    "elif (universe[\"model\"] == \"gbm\"):\n",
    "    model = GradientBoostingClassifier()\n",
    "elif (universe[\"model\"] == \"elasticnet\"):\n",
    "    model = LogisticRegression(penalty = 'elasticnet', solver = 'saga', l1_ratio = 0.5) # max_iter=5000\n",
    "else:\n",
    "    raise \"Unsupported universe.model\""
   ]
  },
  {
   "cell_type": "code",
   "execution_count": 31,
   "id": "0cc8f744",
   "metadata": {
    "execution": {
     "iopub.execute_input": "2025-08-05T16:10:28.308216Z",
     "iopub.status.busy": "2025-08-05T16:10:28.307716Z",
     "iopub.status.idle": "2025-08-05T16:10:28.314069Z",
     "shell.execute_reply": "2025-08-05T16:10:28.312960Z"
    },
    "papermill": {
     "duration": 0.029036,
     "end_time": "2025-08-05T16:10:28.316116",
     "exception": false,
     "start_time": "2025-08-05T16:10:28.287080",
     "status": "completed"
    },
    "tags": []
   },
   "outputs": [],
   "source": [
    "import numpy as np\n",
    "from sklearn.pipeline import Pipeline\n",
    "from sklearn.preprocessing import StandardScaler\n",
    "\n",
    "model = Pipeline([\n",
    "    #(\"continuous_processor\", continuous_processor),\n",
    "    #(\"categorical_preprocessor\", categorical_preprocessor),\n",
    "    (\"scale\", StandardScaler() if universe[\"scale\"] == \"scale\" else None), \n",
    "    (\"model\", model),\n",
    "])"
   ]
  },
  {
   "cell_type": "code",
   "execution_count": 32,
   "id": "9442c04d",
   "metadata": {
    "execution": {
     "iopub.execute_input": "2025-08-05T16:10:28.355095Z",
     "iopub.status.busy": "2025-08-05T16:10:28.354358Z",
     "iopub.status.idle": "2025-08-05T16:10:28.423662Z",
     "shell.execute_reply": "2025-08-05T16:10:28.422813Z"
    },
    "papermill": {
     "duration": 0.089779,
     "end_time": "2025-08-05T16:10:28.425395",
     "exception": false,
     "start_time": "2025-08-05T16:10:28.335616",
     "status": "completed"
    },
    "tags": []
   },
   "outputs": [
    {
     "name": "stderr",
     "output_type": "stream",
     "text": [
      "/dss/dsshome1/0C/ra93lal2/.local/share/virtualenvs/CMA_Fairness_v2-3j10GkSs/lib/python3.10/site-packages/sklearn/linear_model/_logistic.py:444: ConvergenceWarning: lbfgs failed to converge (status=1):\n",
      "STOP: TOTAL NO. of ITERATIONS REACHED LIMIT.\n",
      "\n",
      "Increase the number of iterations (max_iter) or scale the data as shown in:\n",
      "    https://scikit-learn.org/stable/modules/preprocessing.html\n",
      "Please also refer to the documentation for alternative solver options:\n",
      "    https://scikit-learn.org/stable/modules/linear_model.html#logistic-regression\n",
      "  n_iter_i = _check_optimize_result(\n"
     ]
    },
    {
     "data": {
      "text/html": [
       "<style>#sk-container-id-1 {color: black;background-color: white;}#sk-container-id-1 pre{padding: 0;}#sk-container-id-1 div.sk-toggleable {background-color: white;}#sk-container-id-1 label.sk-toggleable__label {cursor: pointer;display: block;width: 100%;margin-bottom: 0;padding: 0.3em;box-sizing: border-box;text-align: center;}#sk-container-id-1 label.sk-toggleable__label-arrow:before {content: \"▸\";float: left;margin-right: 0.25em;color: #696969;}#sk-container-id-1 label.sk-toggleable__label-arrow:hover:before {color: black;}#sk-container-id-1 div.sk-estimator:hover label.sk-toggleable__label-arrow:before {color: black;}#sk-container-id-1 div.sk-toggleable__content {max-height: 0;max-width: 0;overflow: hidden;text-align: left;background-color: #f0f8ff;}#sk-container-id-1 div.sk-toggleable__content pre {margin: 0.2em;color: black;border-radius: 0.25em;background-color: #f0f8ff;}#sk-container-id-1 input.sk-toggleable__control:checked~div.sk-toggleable__content {max-height: 200px;max-width: 100%;overflow: auto;}#sk-container-id-1 input.sk-toggleable__control:checked~label.sk-toggleable__label-arrow:before {content: \"▾\";}#sk-container-id-1 div.sk-estimator input.sk-toggleable__control:checked~label.sk-toggleable__label {background-color: #d4ebff;}#sk-container-id-1 div.sk-label input.sk-toggleable__control:checked~label.sk-toggleable__label {background-color: #d4ebff;}#sk-container-id-1 input.sk-hidden--visually {border: 0;clip: rect(1px 1px 1px 1px);clip: rect(1px, 1px, 1px, 1px);height: 1px;margin: -1px;overflow: hidden;padding: 0;position: absolute;width: 1px;}#sk-container-id-1 div.sk-estimator {font-family: monospace;background-color: #f0f8ff;border: 1px dotted black;border-radius: 0.25em;box-sizing: border-box;margin-bottom: 0.5em;}#sk-container-id-1 div.sk-estimator:hover {background-color: #d4ebff;}#sk-container-id-1 div.sk-parallel-item::after {content: \"\";width: 100%;border-bottom: 1px solid gray;flex-grow: 1;}#sk-container-id-1 div.sk-label:hover label.sk-toggleable__label {background-color: #d4ebff;}#sk-container-id-1 div.sk-serial::before {content: \"\";position: absolute;border-left: 1px solid gray;box-sizing: border-box;top: 0;bottom: 0;left: 50%;z-index: 0;}#sk-container-id-1 div.sk-serial {display: flex;flex-direction: column;align-items: center;background-color: white;padding-right: 0.2em;padding-left: 0.2em;position: relative;}#sk-container-id-1 div.sk-item {position: relative;z-index: 1;}#sk-container-id-1 div.sk-parallel {display: flex;align-items: stretch;justify-content: center;background-color: white;position: relative;}#sk-container-id-1 div.sk-item::before, #sk-container-id-1 div.sk-parallel-item::before {content: \"\";position: absolute;border-left: 1px solid gray;box-sizing: border-box;top: 0;bottom: 0;left: 50%;z-index: -1;}#sk-container-id-1 div.sk-parallel-item {display: flex;flex-direction: column;z-index: 1;position: relative;background-color: white;}#sk-container-id-1 div.sk-parallel-item:first-child::after {align-self: flex-end;width: 50%;}#sk-container-id-1 div.sk-parallel-item:last-child::after {align-self: flex-start;width: 50%;}#sk-container-id-1 div.sk-parallel-item:only-child::after {width: 0;}#sk-container-id-1 div.sk-dashed-wrapped {border: 1px dashed gray;margin: 0 0.4em 0.5em 0.4em;box-sizing: border-box;padding-bottom: 0.4em;background-color: white;}#sk-container-id-1 div.sk-label label {font-family: monospace;font-weight: bold;display: inline-block;line-height: 1.2em;}#sk-container-id-1 div.sk-label-container {text-align: center;}#sk-container-id-1 div.sk-container {/* jupyter's `normalize.less` sets `[hidden] { display: none; }` but bootstrap.min.css set `[hidden] { display: none !important; }` so we also need the `!important` here to be able to override the default hidden behavior on the sphinx rendered scikit-learn.org. See: https://github.com/scikit-learn/scikit-learn/issues/21755 */display: inline-block !important;position: relative;}#sk-container-id-1 div.sk-text-repr-fallback {display: none;}</style><div id=\"sk-container-id-1\" class=\"sk-top-container\"><div class=\"sk-text-repr-fallback\"><pre>Pipeline(steps=[(&#x27;scale&#x27;, None), (&#x27;model&#x27;, LogisticRegression(C=0.1))])</pre><b>In a Jupyter environment, please rerun this cell to show the HTML representation or trust the notebook. <br />On GitHub, the HTML representation is unable to render, please try loading this page with nbviewer.org.</b></div><div class=\"sk-container\" hidden><div class=\"sk-item sk-dashed-wrapped\"><div class=\"sk-label-container\"><div class=\"sk-label sk-toggleable\"><input class=\"sk-toggleable__control sk-hidden--visually\" id=\"sk-estimator-id-1\" type=\"checkbox\" ><label for=\"sk-estimator-id-1\" class=\"sk-toggleable__label sk-toggleable__label-arrow\">Pipeline</label><div class=\"sk-toggleable__content\"><pre>Pipeline(steps=[(&#x27;scale&#x27;, None), (&#x27;model&#x27;, LogisticRegression(C=0.1))])</pre></div></div></div><div class=\"sk-serial\"><div class=\"sk-item\"><div class=\"sk-estimator sk-toggleable\"><input class=\"sk-toggleable__control sk-hidden--visually\" id=\"sk-estimator-id-2\" type=\"checkbox\" ><label for=\"sk-estimator-id-2\" class=\"sk-toggleable__label sk-toggleable__label-arrow\">None</label><div class=\"sk-toggleable__content\"><pre>None</pre></div></div></div><div class=\"sk-item\"><div class=\"sk-estimator sk-toggleable\"><input class=\"sk-toggleable__control sk-hidden--visually\" id=\"sk-estimator-id-3\" type=\"checkbox\" ><label for=\"sk-estimator-id-3\" class=\"sk-toggleable__label sk-toggleable__label-arrow\">LogisticRegression</label><div class=\"sk-toggleable__content\"><pre>LogisticRegression(C=0.1)</pre></div></div></div></div></div></div></div>"
      ],
      "text/plain": [
       "Pipeline(steps=[('scale', None), ('model', LogisticRegression(C=0.1))])"
      ]
     },
     "execution_count": 32,
     "metadata": {},
     "output_type": "execute_result"
    }
   ],
   "source": [
    "model.fit(X_train, y_train.values.ravel())"
   ]
  },
  {
   "cell_type": "code",
   "execution_count": 33,
   "id": "af59f8c0",
   "metadata": {
    "execution": {
     "iopub.execute_input": "2025-08-05T16:10:28.465017Z",
     "iopub.status.busy": "2025-08-05T16:10:28.464664Z",
     "iopub.status.idle": "2025-08-05T16:10:28.469556Z",
     "shell.execute_reply": "2025-08-05T16:10:28.468572Z"
    },
    "papermill": {
     "duration": 0.026928,
     "end_time": "2025-08-05T16:10:28.471449",
     "exception": false,
     "start_time": "2025-08-05T16:10:28.444521",
     "status": "completed"
    },
    "tags": []
   },
   "outputs": [],
   "source": [
    "from fairness_multiverse.universe import predict_w_threshold"
   ]
  },
  {
   "cell_type": "code",
   "execution_count": 34,
   "id": "a7cf2e16",
   "metadata": {
    "execution": {
     "iopub.execute_input": "2025-08-05T16:10:28.511601Z",
     "iopub.status.busy": "2025-08-05T16:10:28.510992Z",
     "iopub.status.idle": "2025-08-05T16:10:28.606104Z",
     "shell.execute_reply": "2025-08-05T16:10:28.604990Z"
    },
    "papermill": {
     "duration": 0.116543,
     "end_time": "2025-08-05T16:10:28.608213",
     "exception": false,
     "start_time": "2025-08-05T16:10:28.491670",
     "status": "completed"
    },
    "tags": []
   },
   "outputs": [
    {
     "data": {
      "text/plain": [
       "0.8457251142570505"
      ]
     },
     "execution_count": 34,
     "metadata": {},
     "output_type": "execute_result"
    }
   ],
   "source": [
    "probs_test = model.predict_proba(X_test)\n",
    "\n",
    "'''\n",
    "Below code returns a boolean array (or binary 0/1 array depending on how it’s used) where each element \n",
    "is True if the probability of class 1 is greater than or equal to the threshold, and False otherwise.\n",
    "'''\n",
    "y_pred_default = predict_w_threshold(probs_test, 0.5)\n",
    "\n",
    "from sklearn.metrics import accuracy_score\n",
    "\n",
    "# Naive prediction\n",
    "accuracy_score(y_true = y_true, y_pred = y_pred_default)"
   ]
  },
  {
   "cell_type": "code",
   "execution_count": 35,
   "id": "081964c3",
   "metadata": {
    "execution": {
     "iopub.execute_input": "2025-08-05T16:10:28.649566Z",
     "iopub.status.busy": "2025-08-05T16:10:28.648747Z",
     "iopub.status.idle": "2025-08-05T16:10:28.734737Z",
     "shell.execute_reply": "2025-08-05T16:10:28.733775Z"
    },
    "papermill": {
     "duration": 0.10724,
     "end_time": "2025-08-05T16:10:28.736362",
     "exception": false,
     "start_time": "2025-08-05T16:10:28.629122",
     "status": "completed"
    },
    "tags": []
   },
   "outputs": [
    {
     "data": {
      "text/plain": [
       "array([0, 0, 0, ..., 0, 0, 0])"
      ]
     },
     "execution_count": 35,
     "metadata": {},
     "output_type": "execute_result"
    }
   ],
   "source": [
    "model.predict(X_test)"
   ]
  },
  {
   "cell_type": "markdown",
   "id": "56c9705b",
   "metadata": {
    "papermill": {
     "duration": 0.018077,
     "end_time": "2025-08-05T16:10:28.773234",
     "exception": false,
     "start_time": "2025-08-05T16:10:28.755157",
     "status": "completed"
    },
    "tags": []
   },
   "source": [
    "# Conformal Prediction"
   ]
  },
  {
   "cell_type": "code",
   "execution_count": 36,
   "id": "160ec6ff",
   "metadata": {
    "execution": {
     "iopub.execute_input": "2025-08-05T16:10:28.815426Z",
     "iopub.status.busy": "2025-08-05T16:10:28.814629Z",
     "iopub.status.idle": "2025-08-05T16:10:28.820101Z",
     "shell.execute_reply": "2025-08-05T16:10:28.819107Z"
    },
    "papermill": {
     "duration": 0.027256,
     "end_time": "2025-08-05T16:10:28.821843",
     "exception": false,
     "start_time": "2025-08-05T16:10:28.794587",
     "status": "completed"
    },
    "tags": []
   },
   "outputs": [],
   "source": [
    "# Miscoverage level for conformal prediction (10% allowed error rate => 90% target coverage)\n",
    "alpha = 0.1"
   ]
  },
  {
   "cell_type": "code",
   "execution_count": 37,
   "id": "eadf4555-3dd3-440e-8e35-f82a4ad9f855",
   "metadata": {
    "execution": {
     "iopub.execute_input": "2025-08-05T16:10:28.861712Z",
     "iopub.status.busy": "2025-08-05T16:10:28.860822Z",
     "iopub.status.idle": "2025-08-05T16:10:28.943402Z",
     "shell.execute_reply": "2025-08-05T16:10:28.942441Z"
    },
    "papermill": {
     "duration": 0.104099,
     "end_time": "2025-08-05T16:10:28.945263",
     "exception": false,
     "start_time": "2025-08-05T16:10:28.841164",
     "status": "completed"
    },
    "tags": []
   },
   "outputs": [],
   "source": [
    "probs_calib = model.predict_proba(X_calib)"
   ]
  },
  {
   "cell_type": "code",
   "execution_count": 38,
   "id": "2ed93547-6d5d-4983-9b36-1ecb300da49a",
   "metadata": {
    "execution": {
     "iopub.execute_input": "2025-08-05T16:10:28.988345Z",
     "iopub.status.busy": "2025-08-05T16:10:28.987428Z",
     "iopub.status.idle": "2025-08-05T16:10:28.993800Z",
     "shell.execute_reply": "2025-08-05T16:10:28.992788Z"
    },
    "papermill": {
     "duration": 0.028639,
     "end_time": "2025-08-05T16:10:28.995498",
     "exception": false,
     "start_time": "2025-08-05T16:10:28.966859",
     "status": "completed"
    },
    "tags": []
   },
   "outputs": [],
   "source": [
    "y_calib = y_calib.values.ravel().astype(int)"
   ]
  },
  {
   "cell_type": "code",
   "execution_count": 39,
   "id": "65d1320d-f588-4b38-9072-62af1ae97f7d",
   "metadata": {
    "execution": {
     "iopub.execute_input": "2025-08-05T16:10:29.035810Z",
     "iopub.status.busy": "2025-08-05T16:10:29.034858Z",
     "iopub.status.idle": "2025-08-05T16:10:29.042472Z",
     "shell.execute_reply": "2025-08-05T16:10:29.041324Z"
    },
    "papermill": {
     "duration": 0.029534,
     "end_time": "2025-08-05T16:10:29.044367",
     "exception": false,
     "start_time": "2025-08-05T16:10:29.014833",
     "status": "completed"
    },
    "tags": []
   },
   "outputs": [],
   "source": [
    "from fairness_multiverse.conformal import compute_nc_scores\n",
    "\n",
    "# Compute nonconformity scores on calibration set (1 - probability of true class)\n",
    "nc_scores = compute_nc_scores(probs_calib, y_calib)"
   ]
  },
  {
   "cell_type": "code",
   "execution_count": 40,
   "id": "df3b8ca3-53b7-43d5-9667-7c85da7aeda2",
   "metadata": {
    "execution": {
     "iopub.execute_input": "2025-08-05T16:10:29.085041Z",
     "iopub.status.busy": "2025-08-05T16:10:29.084130Z",
     "iopub.status.idle": "2025-08-05T16:10:29.091144Z",
     "shell.execute_reply": "2025-08-05T16:10:29.090188Z"
    },
    "papermill": {
     "duration": 0.028791,
     "end_time": "2025-08-05T16:10:29.092956",
     "exception": false,
     "start_time": "2025-08-05T16:10:29.064165",
     "status": "completed"
    },
    "tags": []
   },
   "outputs": [],
   "source": [
    "from fairness_multiverse.conformal import find_threshold\n",
    "\n",
    "# Find conformal threshold q_hat for the given alpha (split conformal method)\n",
    "q_hat = find_threshold(nc_scores, alpha)"
   ]
  },
  {
   "cell_type": "code",
   "execution_count": 41,
   "id": "4d29e6c1-0ef6-4aa4-b8fe-4fe79b0d033a",
   "metadata": {
    "execution": {
     "iopub.execute_input": "2025-08-05T16:10:29.132647Z",
     "iopub.status.busy": "2025-08-05T16:10:29.131725Z",
     "iopub.status.idle": "2025-08-05T16:10:29.139167Z",
     "shell.execute_reply": "2025-08-05T16:10:29.138154Z"
    },
    "papermill": {
     "duration": 0.028625,
     "end_time": "2025-08-05T16:10:29.140860",
     "exception": false,
     "start_time": "2025-08-05T16:10:29.112235",
     "status": "completed"
    },
    "tags": []
   },
   "outputs": [
    {
     "data": {
      "text/plain": [
       "0.6921016683670521"
      ]
     },
     "execution_count": 41,
     "metadata": {},
     "output_type": "execute_result"
    }
   ],
   "source": [
    "q_hat"
   ]
  },
  {
   "cell_type": "code",
   "execution_count": 42,
   "id": "92460794-cdac-4be2-ba28-f28c0515a6fb",
   "metadata": {
    "execution": {
     "iopub.execute_input": "2025-08-05T16:10:29.182104Z",
     "iopub.status.busy": "2025-08-05T16:10:29.181176Z",
     "iopub.status.idle": "2025-08-05T16:10:30.050372Z",
     "shell.execute_reply": "2025-08-05T16:10:30.049394Z"
    },
    "papermill": {
     "duration": 0.890673,
     "end_time": "2025-08-05T16:10:30.052253",
     "exception": false,
     "start_time": "2025-08-05T16:10:29.161580",
     "status": "completed"
    },
    "tags": []
   },
   "outputs": [],
   "source": [
    "from fairness_multiverse.conformal import predict_conformal_sets\n",
    "\n",
    "# Generate prediction sets for each test example\n",
    "pred_sets = predict_conformal_sets(model, X_test, q_hat)"
   ]
  },
  {
   "cell_type": "code",
   "execution_count": 43,
   "id": "d90c9a65-e6db-4f5d-80cd-e68fb7e46829",
   "metadata": {
    "execution": {
     "iopub.execute_input": "2025-08-05T16:10:30.093288Z",
     "iopub.status.busy": "2025-08-05T16:10:30.092636Z",
     "iopub.status.idle": "2025-08-05T16:10:30.098480Z",
     "shell.execute_reply": "2025-08-05T16:10:30.097475Z"
    },
    "papermill": {
     "duration": 0.027732,
     "end_time": "2025-08-05T16:10:30.100202",
     "exception": false,
     "start_time": "2025-08-05T16:10:30.072470",
     "status": "completed"
    },
    "tags": []
   },
   "outputs": [],
   "source": [
    "y_true = y_true.squeeze()"
   ]
  },
  {
   "cell_type": "code",
   "execution_count": 44,
   "id": "3a58a54a-1e68-46b9-927a-df01f18aebc8",
   "metadata": {
    "execution": {
     "iopub.execute_input": "2025-08-05T16:10:30.143945Z",
     "iopub.status.busy": "2025-08-05T16:10:30.143229Z",
     "iopub.status.idle": "2025-08-05T16:10:31.032321Z",
     "shell.execute_reply": "2025-08-05T16:10:31.031352Z"
    },
    "papermill": {
     "duration": 0.913014,
     "end_time": "2025-08-05T16:10:31.034266",
     "exception": false,
     "start_time": "2025-08-05T16:10:30.121252",
     "status": "completed"
    },
    "tags": []
   },
   "outputs": [],
   "source": [
    "from fairness_multiverse.conformal import evaluate_sets\n",
    "\n",
    "# Evaluate coverage and average set size on test data\n",
    "metrics = evaluate_sets(pred_sets, y_true)"
   ]
  },
  {
   "cell_type": "markdown",
   "id": "2b569c12-9aaa-4c88-98c9-bbcd0cf3ebb8",
   "metadata": {
    "papermill": {
     "duration": 0.019561,
     "end_time": "2025-08-05T16:10:31.075277",
     "exception": false,
     "start_time": "2025-08-05T16:10:31.055716",
     "status": "completed"
    },
    "tags": []
   },
   "source": [
    "# CP Metrics"
   ]
  },
  {
   "cell_type": "code",
   "execution_count": 45,
   "id": "5ce0a5cb-201f-45a0-ade5-94c7f0bd6095",
   "metadata": {
    "execution": {
     "iopub.execute_input": "2025-08-05T16:10:31.117881Z",
     "iopub.status.busy": "2025-08-05T16:10:31.117369Z",
     "iopub.status.idle": "2025-08-05T16:10:31.124679Z",
     "shell.execute_reply": "2025-08-05T16:10:31.123716Z"
    },
    "papermill": {
     "duration": 0.032057,
     "end_time": "2025-08-05T16:10:31.127222",
     "exception": false,
     "start_time": "2025-08-05T16:10:31.095165",
     "status": "completed"
    },
    "tags": []
   },
   "outputs": [
    {
     "data": {
      "text/plain": [
       "{'coverage': 0.9090959759224166, 'avg_size': 1.2479545201203879}"
      ]
     },
     "execution_count": 45,
     "metadata": {},
     "output_type": "execute_result"
    }
   ],
   "source": [
    "metrics"
   ]
  },
  {
   "cell_type": "code",
   "execution_count": 46,
   "id": "9b9a838d-31c9-430b-ae14-12baee460d17",
   "metadata": {
    "execution": {
     "iopub.execute_input": "2025-08-05T16:10:31.176282Z",
     "iopub.status.busy": "2025-08-05T16:10:31.175817Z",
     "iopub.status.idle": "2025-08-05T16:10:31.182230Z",
     "shell.execute_reply": "2025-08-05T16:10:31.181200Z"
    },
    "papermill": {
     "duration": 0.032599,
     "end_time": "2025-08-05T16:10:31.184077",
     "exception": false,
     "start_time": "2025-08-05T16:10:31.151478",
     "status": "completed"
    },
    "tags": []
   },
   "outputs": [],
   "source": [
    "example_universe = universe.copy()\n",
    "universe_training_year = example_universe.get(\"training_year\")\n",
    "universe_training_size = example_universe.get(\"training_size\")\n",
    "universe_scale = example_universe.get(\"scale\")\n",
    "universe_model = example_universe.get(\"model\")\n",
    "universe_exclude_features = example_universe.get(\"exclude_features\")\n",
    "universe_exclude_subgroups = example_universe.get(\"exclude_subgroups\")"
   ]
  },
  {
   "cell_type": "code",
   "execution_count": 47,
   "id": "f4b6a8ac-9dc0-4245-8a91-5b3b5999c4f9",
   "metadata": {
    "execution": {
     "iopub.execute_input": "2025-08-05T16:10:31.211424Z",
     "iopub.status.busy": "2025-08-05T16:10:31.211057Z",
     "iopub.status.idle": "2025-08-05T16:10:31.216798Z",
     "shell.execute_reply": "2025-08-05T16:10:31.215956Z"
    },
    "papermill": {
     "duration": 0.019359,
     "end_time": "2025-08-05T16:10:31.218291",
     "exception": false,
     "start_time": "2025-08-05T16:10:31.198932",
     "status": "completed"
    },
    "tags": []
   },
   "outputs": [],
   "source": [
    "cp_metrics_dict = {\n",
    "    \"universe_id\": [universe_id],\n",
    "    \"universe_training_year\": [universe_training_year],\n",
    "    \"universe_training_size\": [universe_training_size],\n",
    "    \"universe_scale\": [universe_scale],\n",
    "    \"universe_model\": [universe_model],\n",
    "    \"universe_exclude_features\": [universe_exclude_features],\n",
    "    \"universe_exclude_subgroups\": [universe_exclude_subgroups],\n",
    "    \"q_hat\": [q_hat],\n",
    "    \"coverage\": [metrics[\"coverage\"]],\n",
    "    \"avg_size\": [metrics[\"avg_size\"]],\n",
    "}"
   ]
  },
  {
   "cell_type": "code",
   "execution_count": 48,
   "id": "908acbb1-0371-4915-85ca-3fa520d2efe2",
   "metadata": {
    "execution": {
     "iopub.execute_input": "2025-08-05T16:10:31.249721Z",
     "iopub.status.busy": "2025-08-05T16:10:31.249263Z",
     "iopub.status.idle": "2025-08-05T16:10:31.257064Z",
     "shell.execute_reply": "2025-08-05T16:10:31.255944Z"
    },
    "papermill": {
     "duration": 0.027822,
     "end_time": "2025-08-05T16:10:31.259311",
     "exception": false,
     "start_time": "2025-08-05T16:10:31.231489",
     "status": "completed"
    },
    "tags": []
   },
   "outputs": [
    {
     "data": {
      "text/plain": [
       "{'universe_id': ['14c3a962f8754341c9e01797abbb2346'],\n",
       " 'universe_training_year': ['2014'],\n",
       " 'universe_training_size': ['1k'],\n",
       " 'universe_scale': ['do-not-scale'],\n",
       " 'universe_model': ['penalized_logreg'],\n",
       " 'universe_exclude_features': ['sex'],\n",
       " 'universe_exclude_subgroups': ['drop-non-german'],\n",
       " 'q_hat': [0.6921016683670521],\n",
       " 'coverage': [0.9090959759224166],\n",
       " 'avg_size': [1.2479545201203879]}"
      ]
     },
     "execution_count": 48,
     "metadata": {},
     "output_type": "execute_result"
    }
   ],
   "source": [
    "cp_metrics_dict"
   ]
  },
  {
   "cell_type": "code",
   "execution_count": 49,
   "id": "33007efc-14e9-4ec6-97ac-56a455c82265",
   "metadata": {
    "execution": {
     "iopub.execute_input": "2025-08-05T16:10:31.297871Z",
     "iopub.status.busy": "2025-08-05T16:10:31.297363Z",
     "iopub.status.idle": "2025-08-05T16:10:31.304040Z",
     "shell.execute_reply": "2025-08-05T16:10:31.303136Z"
    },
    "papermill": {
     "duration": 0.022889,
     "end_time": "2025-08-05T16:10:31.305597",
     "exception": false,
     "start_time": "2025-08-05T16:10:31.282708",
     "status": "completed"
    },
    "tags": []
   },
   "outputs": [],
   "source": [
    "cp_metrics_df = pd.DataFrame(cp_metrics_dict)"
   ]
  },
  {
   "cell_type": "code",
   "execution_count": 50,
   "id": "db12611b-57b2-4910-b9d0-355adfd6e7bf",
   "metadata": {
    "execution": {
     "iopub.execute_input": "2025-08-05T16:10:31.331427Z",
     "iopub.status.busy": "2025-08-05T16:10:31.330687Z",
     "iopub.status.idle": "2025-08-05T16:10:31.345586Z",
     "shell.execute_reply": "2025-08-05T16:10:31.344583Z"
    },
    "papermill": {
     "duration": 0.02857,
     "end_time": "2025-08-05T16:10:31.347195",
     "exception": false,
     "start_time": "2025-08-05T16:10:31.318625",
     "status": "completed"
    },
    "tags": []
   },
   "outputs": [
    {
     "data": {
      "text/html": [
       "<div>\n",
       "<style scoped>\n",
       "    .dataframe tbody tr th:only-of-type {\n",
       "        vertical-align: middle;\n",
       "    }\n",
       "\n",
       "    .dataframe tbody tr th {\n",
       "        vertical-align: top;\n",
       "    }\n",
       "\n",
       "    .dataframe thead th {\n",
       "        text-align: right;\n",
       "    }\n",
       "</style>\n",
       "<table border=\"1\" class=\"dataframe\">\n",
       "  <thead>\n",
       "    <tr style=\"text-align: right;\">\n",
       "      <th></th>\n",
       "      <th>universe_id</th>\n",
       "      <th>universe_training_year</th>\n",
       "      <th>universe_training_size</th>\n",
       "      <th>universe_scale</th>\n",
       "      <th>universe_model</th>\n",
       "      <th>universe_exclude_features</th>\n",
       "      <th>universe_exclude_subgroups</th>\n",
       "      <th>q_hat</th>\n",
       "      <th>coverage</th>\n",
       "      <th>avg_size</th>\n",
       "    </tr>\n",
       "  </thead>\n",
       "  <tbody>\n",
       "    <tr>\n",
       "      <th>0</th>\n",
       "      <td>14c3a962f8754341c9e01797abbb2346</td>\n",
       "      <td>2014</td>\n",
       "      <td>1k</td>\n",
       "      <td>do-not-scale</td>\n",
       "      <td>penalized_logreg</td>\n",
       "      <td>sex</td>\n",
       "      <td>drop-non-german</td>\n",
       "      <td>0.692102</td>\n",
       "      <td>0.909096</td>\n",
       "      <td>1.247955</td>\n",
       "    </tr>\n",
       "  </tbody>\n",
       "</table>\n",
       "</div>"
      ],
      "text/plain": [
       "                        universe_id universe_training_year  \\\n",
       "0  14c3a962f8754341c9e01797abbb2346                   2014   \n",
       "\n",
       "  universe_training_size universe_scale    universe_model  \\\n",
       "0                     1k   do-not-scale  penalized_logreg   \n",
       "\n",
       "  universe_exclude_features universe_exclude_subgroups     q_hat  coverage  \\\n",
       "0                       sex            drop-non-german  0.692102  0.909096   \n",
       "\n",
       "   avg_size  \n",
       "0  1.247955  "
      ]
     },
     "execution_count": 50,
     "metadata": {},
     "output_type": "execute_result"
    }
   ],
   "source": [
    "cp_metrics_df"
   ]
  },
  {
   "cell_type": "code",
   "execution_count": 51,
   "id": "b7fbde55-a0a1-47e4-9af6-fe4a17fa8c61",
   "metadata": {
    "execution": {
     "iopub.execute_input": "2025-08-05T16:10:31.372008Z",
     "iopub.status.busy": "2025-08-05T16:10:31.371170Z",
     "iopub.status.idle": "2025-08-05T16:10:31.375781Z",
     "shell.execute_reply": "2025-08-05T16:10:31.375022Z"
    },
    "papermill": {
     "duration": 0.018007,
     "end_time": "2025-08-05T16:10:31.377232",
     "exception": false,
     "start_time": "2025-08-05T16:10:31.359225",
     "status": "completed"
    },
    "tags": []
   },
   "outputs": [],
   "source": [
    "# Conditional Coverage & looking at subgroups"
   ]
  },
  {
   "cell_type": "code",
   "execution_count": 52,
   "id": "027ae886-68dd-4141-96c7-805a5450e1ef",
   "metadata": {
    "execution": {
     "iopub.execute_input": "2025-08-05T16:10:31.426123Z",
     "iopub.status.busy": "2025-08-05T16:10:31.425695Z",
     "iopub.status.idle": "2025-08-05T16:10:31.663141Z",
     "shell.execute_reply": "2025-08-05T16:10:31.662093Z"
    },
    "papermill": {
     "duration": 0.263855,
     "end_time": "2025-08-05T16:10:31.665205",
     "exception": false,
     "start_time": "2025-08-05T16:10:31.401350",
     "status": "completed"
    },
    "tags": []
   },
   "outputs": [],
   "source": [
    "from fairness_multiverse.conformal import build_cp_groups\n",
    "\n",
    "cp_groups_df = build_cp_groups(pred_sets, y_true, X_test.index, org_test)\n",
    "#needs universe_id and setting"
   ]
  },
  {
   "cell_type": "code",
   "execution_count": 53,
   "id": "6cbdab96-b2b2-45af-ad54-d0516db2e28d",
   "metadata": {
    "execution": {
     "iopub.execute_input": "2025-08-05T16:10:31.723763Z",
     "iopub.status.busy": "2025-08-05T16:10:31.722973Z",
     "iopub.status.idle": "2025-08-05T16:10:33.269490Z",
     "shell.execute_reply": "2025-08-05T16:10:33.268392Z"
    },
    "papermill": {
     "duration": 1.579675,
     "end_time": "2025-08-05T16:10:33.271557",
     "exception": false,
     "start_time": "2025-08-05T16:10:31.691882",
     "status": "completed"
    },
    "tags": []
   },
   "outputs": [],
   "source": [
    "# Define covered = 1 if true_label is in the predicted set\n",
    "cp_groups_df['covered'] = cp_groups_df.apply(\n",
    "    lambda r: int(r['true_label'] in r['pred_set']),\n",
    "    axis=1\n",
    ")"
   ]
  },
  {
   "cell_type": "code",
   "execution_count": 54,
   "id": "338ff529-1a6b-4b87-a931-8e4788d52aad",
   "metadata": {
    "execution": {
     "iopub.execute_input": "2025-08-05T16:10:33.322860Z",
     "iopub.status.busy": "2025-08-05T16:10:33.322185Z",
     "iopub.status.idle": "2025-08-05T16:10:33.327397Z",
     "shell.execute_reply": "2025-08-05T16:10:33.326350Z"
    },
    "papermill": {
     "duration": 0.03109,
     "end_time": "2025-08-05T16:10:33.329276",
     "exception": false,
     "start_time": "2025-08-05T16:10:33.298186",
     "status": "completed"
    },
    "tags": []
   },
   "outputs": [],
   "source": [
    "#cp_groups_df"
   ]
  },
  {
   "cell_type": "code",
   "execution_count": 55,
   "id": "90032e27-66df-4540-9169-4e89cfbaa758",
   "metadata": {
    "execution": {
     "iopub.execute_input": "2025-08-05T16:10:33.380338Z",
     "iopub.status.busy": "2025-08-05T16:10:33.379875Z",
     "iopub.status.idle": "2025-08-05T16:10:33.391519Z",
     "shell.execute_reply": "2025-08-05T16:10:33.390586Z"
    },
    "papermill": {
     "duration": 0.040324,
     "end_time": "2025-08-05T16:10:33.393428",
     "exception": false,
     "start_time": "2025-08-05T16:10:33.353104",
     "status": "completed"
    },
    "tags": []
   },
   "outputs": [],
   "source": [
    "subgroups = ['frau1','nongerman','nongerman_male','nongerman_female']\n",
    "\n",
    "# Conditional coverage for subgroup==1\n",
    "cond_coverage = {\n",
    "    g: cp_groups_df.loc[cp_groups_df[g]==1, 'covered'].mean()\n",
    "    for g in subgroups\n",
    "}"
   ]
  },
  {
   "cell_type": "code",
   "execution_count": 56,
   "id": "1e348fb1-b9c3-45bc-ba23-f016827a7e0d",
   "metadata": {
    "execution": {
     "iopub.execute_input": "2025-08-05T16:10:33.445339Z",
     "iopub.status.busy": "2025-08-05T16:10:33.444639Z",
     "iopub.status.idle": "2025-08-05T16:10:33.452083Z",
     "shell.execute_reply": "2025-08-05T16:10:33.450940Z"
    },
    "papermill": {
     "duration": 0.03482,
     "end_time": "2025-08-05T16:10:33.454158",
     "exception": false,
     "start_time": "2025-08-05T16:10:33.419338",
     "status": "completed"
    },
    "tags": []
   },
   "outputs": [
    {
     "data": {
      "text/plain": [
       "{'frau1': 0.9089904299770859,\n",
       " 'nongerman': 0.9414472576208387,\n",
       " 'nongerman_male': 0.9515446275781321,\n",
       " 'nongerman_female': 0.9247391952309985}"
      ]
     },
     "execution_count": 56,
     "metadata": {},
     "output_type": "execute_result"
    }
   ],
   "source": [
    "cond_coverage"
   ]
  },
  {
   "cell_type": "code",
   "execution_count": 57,
   "id": "f5093324-c3dd-4d63-bc4c-8d945e5c8bbb",
   "metadata": {
    "execution": {
     "iopub.execute_input": "2025-08-05T16:10:33.488087Z",
     "iopub.status.busy": "2025-08-05T16:10:33.487736Z",
     "iopub.status.idle": "2025-08-05T16:10:33.493687Z",
     "shell.execute_reply": "2025-08-05T16:10:33.492956Z"
    },
    "papermill": {
     "duration": 0.019428,
     "end_time": "2025-08-05T16:10:33.494965",
     "exception": false,
     "start_time": "2025-08-05T16:10:33.475537",
     "status": "completed"
    },
    "tags": []
   },
   "outputs": [],
   "source": [
    "for subgroup, cov in cond_coverage.items():\n",
    "    cp_metrics_df[f\"cov_{subgroup}\"] = cov"
   ]
  },
  {
   "cell_type": "code",
   "execution_count": 58,
   "id": "6e872e10-dbe5-49e8-b554-5030c98ff75d",
   "metadata": {
    "execution": {
     "iopub.execute_input": "2025-08-05T16:10:33.519504Z",
     "iopub.status.busy": "2025-08-05T16:10:33.518704Z",
     "iopub.status.idle": "2025-08-05T16:10:33.573799Z",
     "shell.execute_reply": "2025-08-05T16:10:33.572694Z"
    },
    "papermill": {
     "duration": 0.068814,
     "end_time": "2025-08-05T16:10:33.575208",
     "exception": false,
     "start_time": "2025-08-05T16:10:33.506394",
     "status": "completed"
    },
    "tags": []
   },
   "outputs": [
    {
     "data": {
      "text/html": [
       "<div>\n",
       "<style scoped>\n",
       "    .dataframe tbody tr th:only-of-type {\n",
       "        vertical-align: middle;\n",
       "    }\n",
       "\n",
       "    .dataframe tbody tr th {\n",
       "        vertical-align: top;\n",
       "    }\n",
       "\n",
       "    .dataframe thead th {\n",
       "        text-align: right;\n",
       "    }\n",
       "</style>\n",
       "<table border=\"1\" class=\"dataframe\">\n",
       "  <thead>\n",
       "    <tr style=\"text-align: right;\">\n",
       "      <th></th>\n",
       "      <th>universe_id</th>\n",
       "      <th>universe_training_year</th>\n",
       "      <th>universe_training_size</th>\n",
       "      <th>universe_scale</th>\n",
       "      <th>universe_model</th>\n",
       "      <th>universe_exclude_features</th>\n",
       "      <th>universe_exclude_subgroups</th>\n",
       "      <th>q_hat</th>\n",
       "      <th>coverage</th>\n",
       "      <th>avg_size</th>\n",
       "      <th>cov_frau1</th>\n",
       "      <th>cov_nongerman</th>\n",
       "      <th>cov_nongerman_male</th>\n",
       "      <th>cov_nongerman_female</th>\n",
       "    </tr>\n",
       "  </thead>\n",
       "  <tbody>\n",
       "    <tr>\n",
       "      <th>0</th>\n",
       "      <td>14c3a962f8754341c9e01797abbb2346</td>\n",
       "      <td>2014</td>\n",
       "      <td>1k</td>\n",
       "      <td>do-not-scale</td>\n",
       "      <td>penalized_logreg</td>\n",
       "      <td>sex</td>\n",
       "      <td>drop-non-german</td>\n",
       "      <td>0.692102</td>\n",
       "      <td>0.909096</td>\n",
       "      <td>1.247955</td>\n",
       "      <td>0.90899</td>\n",
       "      <td>0.941447</td>\n",
       "      <td>0.951545</td>\n",
       "      <td>0.924739</td>\n",
       "    </tr>\n",
       "  </tbody>\n",
       "</table>\n",
       "</div>"
      ],
      "text/plain": [
       "                        universe_id universe_training_year  \\\n",
       "0  14c3a962f8754341c9e01797abbb2346                   2014   \n",
       "\n",
       "  universe_training_size universe_scale    universe_model  \\\n",
       "0                     1k   do-not-scale  penalized_logreg   \n",
       "\n",
       "  universe_exclude_features universe_exclude_subgroups     q_hat  coverage  \\\n",
       "0                       sex            drop-non-german  0.692102  0.909096   \n",
       "\n",
       "   avg_size  cov_frau1  cov_nongerman  cov_nongerman_male  \\\n",
       "0  1.247955    0.90899       0.941447            0.951545   \n",
       "\n",
       "   cov_nongerman_female  \n",
       "0              0.924739  "
      ]
     },
     "execution_count": 58,
     "metadata": {},
     "output_type": "execute_result"
    }
   ],
   "source": [
    "cp_metrics_df"
   ]
  },
  {
   "cell_type": "markdown",
   "id": "33774451",
   "metadata": {
    "papermill": {
     "duration": 0.029666,
     "end_time": "2025-08-05T16:10:33.634381",
     "exception": false,
     "start_time": "2025-08-05T16:10:33.604715",
     "status": "completed"
    },
    "tags": []
   },
   "source": [
    "# (Fairness) Metrics"
   ]
  },
  {
   "cell_type": "code",
   "execution_count": 59,
   "id": "debc5d62",
   "metadata": {
    "execution": {
     "iopub.execute_input": "2025-08-05T16:10:33.660715Z",
     "iopub.status.busy": "2025-08-05T16:10:33.660355Z",
     "iopub.status.idle": "2025-08-05T16:10:33.674875Z",
     "shell.execute_reply": "2025-08-05T16:10:33.674109Z"
    },
    "papermill": {
     "duration": 0.029251,
     "end_time": "2025-08-05T16:10:33.676483",
     "exception": false,
     "start_time": "2025-08-05T16:10:33.647232",
     "status": "completed"
    },
    "tags": []
   },
   "outputs": [],
   "source": [
    "# do I need to include maxdeutsch1.missing?\n",
    "\n",
    "import numpy as np\n",
    "\n",
    "colname_to_bin = \"maxdeutsch1\"\n",
    "majority_value = org_train[colname_to_bin].mode()[0]\n",
    "\n",
    "org_test[\"majmin\"] = np.where(org_test[colname_to_bin] == majority_value, \"majority\", \"minority\")"
   ]
  },
  {
   "cell_type": "code",
   "execution_count": 60,
   "id": "06a50de5",
   "metadata": {
    "execution": {
     "iopub.execute_input": "2025-08-05T16:10:33.702082Z",
     "iopub.status.busy": "2025-08-05T16:10:33.701299Z",
     "iopub.status.idle": "2025-08-05T16:10:35.376525Z",
     "shell.execute_reply": "2025-08-05T16:10:35.375634Z"
    },
    "papermill": {
     "duration": 1.689655,
     "end_time": "2025-08-05T16:10:35.378375",
     "exception": false,
     "start_time": "2025-08-05T16:10:33.688720",
     "status": "completed"
    },
    "tags": []
   },
   "outputs": [],
   "source": [
    "example_universe = universe.copy()\n",
    "example_universe[\"cutoff\"] = example_universe[\"cutoff\"][0]\n",
    "example_universe[\"eval_fairness_grouping\"] = example_universe[\"eval_fairness_grouping\"][0]\n",
    "fairness_dict, metric_frame = universe_analysis.compute_metrics(\n",
    "    example_universe,\n",
    "    y_pred_prob=probs_test,\n",
    "    y_test=y_true,\n",
    "    org_test=org_test,\n",
    ")"
   ]
  },
  {
   "cell_type": "markdown",
   "id": "f95d4e02",
   "metadata": {
    "papermill": {
     "duration": 0.020788,
     "end_time": "2025-08-05T16:10:35.421307",
     "exception": false,
     "start_time": "2025-08-05T16:10:35.400519",
     "status": "completed"
    },
    "tags": []
   },
   "source": [
    "# Overall"
   ]
  },
  {
   "cell_type": "markdown",
   "id": "bdee4871",
   "metadata": {
    "papermill": {
     "duration": 0.020559,
     "end_time": "2025-08-05T16:10:35.464272",
     "exception": false,
     "start_time": "2025-08-05T16:10:35.443713",
     "status": "completed"
    },
    "tags": []
   },
   "source": [
    "Fairness\n",
    "Main fairness target: Equalized Odds. Seems to be a better fit than equal opportunity, since we're not only interested in Y = 1. Seems to be a better fit than demographic parity, since we also care about accuracy, not just equal distribution of preds.\n",
    "\n",
    "Pick column for computation of fairness metrics\n",
    "\n",
    "Performance\n",
    "Overall performance measures, most interesting in relation to the measures split by group below"
   ]
  },
  {
   "cell_type": "code",
   "execution_count": 61,
   "id": "c4e067c6",
   "metadata": {
    "execution": {
     "iopub.execute_input": "2025-08-05T16:10:35.509837Z",
     "iopub.status.busy": "2025-08-05T16:10:35.509224Z",
     "iopub.status.idle": "2025-08-05T16:10:35.519326Z",
     "shell.execute_reply": "2025-08-05T16:10:35.517818Z"
    },
    "papermill": {
     "duration": 0.03475,
     "end_time": "2025-08-05T16:10:35.521247",
     "exception": false,
     "start_time": "2025-08-05T16:10:35.486497",
     "status": "completed"
    },
    "tags": []
   },
   "outputs": [
    {
     "data": {
      "text/plain": [
       "accuracy                   0.216888\n",
       "balanced accuracy          0.531889\n",
       "f1                         0.238425\n",
       "precision                  0.136204\n",
       "false positive rate        0.891819\n",
       "false negative rate        0.044404\n",
       "selection rate             0.900000\n",
       "count                  89710.000000\n",
       "dtype: float64"
      ]
     },
     "execution_count": 61,
     "metadata": {},
     "output_type": "execute_result"
    }
   ],
   "source": [
    "metric_frame.overall"
   ]
  },
  {
   "cell_type": "markdown",
   "id": "e968fe9d",
   "metadata": {
    "papermill": {
     "duration": 0.022751,
     "end_time": "2025-08-05T16:10:35.566268",
     "exception": false,
     "start_time": "2025-08-05T16:10:35.543517",
     "status": "completed"
    },
    "tags": []
   },
   "source": [
    "By Group"
   ]
  },
  {
   "cell_type": "code",
   "execution_count": 62,
   "id": "ec325bce",
   "metadata": {
    "execution": {
     "iopub.execute_input": "2025-08-05T16:10:35.612080Z",
     "iopub.status.busy": "2025-08-05T16:10:35.611568Z",
     "iopub.status.idle": "2025-08-05T16:10:35.629598Z",
     "shell.execute_reply": "2025-08-05T16:10:35.627998Z"
    },
    "papermill": {
     "duration": 0.043232,
     "end_time": "2025-08-05T16:10:35.631328",
     "exception": false,
     "start_time": "2025-08-05T16:10:35.588096",
     "status": "completed"
    },
    "tags": []
   },
   "outputs": [
    {
     "data": {
      "text/html": [
       "<div>\n",
       "<style scoped>\n",
       "    .dataframe tbody tr th:only-of-type {\n",
       "        vertical-align: middle;\n",
       "    }\n",
       "\n",
       "    .dataframe tbody tr th {\n",
       "        vertical-align: top;\n",
       "    }\n",
       "\n",
       "    .dataframe thead th {\n",
       "        text-align: right;\n",
       "    }\n",
       "</style>\n",
       "<table border=\"1\" class=\"dataframe\">\n",
       "  <thead>\n",
       "    <tr style=\"text-align: right;\">\n",
       "      <th></th>\n",
       "      <th>accuracy</th>\n",
       "      <th>balanced accuracy</th>\n",
       "      <th>f1</th>\n",
       "      <th>precision</th>\n",
       "      <th>false positive rate</th>\n",
       "      <th>false negative rate</th>\n",
       "      <th>selection rate</th>\n",
       "      <th>count</th>\n",
       "    </tr>\n",
       "    <tr>\n",
       "      <th>majmin</th>\n",
       "      <th></th>\n",
       "      <th></th>\n",
       "      <th></th>\n",
       "      <th></th>\n",
       "      <th></th>\n",
       "      <th></th>\n",
       "      <th></th>\n",
       "      <th></th>\n",
       "    </tr>\n",
       "  </thead>\n",
       "  <tbody>\n",
       "    <tr>\n",
       "      <th>majority</th>\n",
       "      <td>0.237039</td>\n",
       "      <td>0.539289</td>\n",
       "      <td>0.247612</td>\n",
       "      <td>0.142356</td>\n",
       "      <td>0.871531</td>\n",
       "      <td>0.049891</td>\n",
       "      <td>0.881914</td>\n",
       "      <td>69170.0</td>\n",
       "    </tr>\n",
       "    <tr>\n",
       "      <th>minority</th>\n",
       "      <td>0.149026</td>\n",
       "      <td>0.508968</td>\n",
       "      <td>0.209274</td>\n",
       "      <td>0.117191</td>\n",
       "      <td>0.958838</td>\n",
       "      <td>0.023226</td>\n",
       "      <td>0.960906</td>\n",
       "      <td>20540.0</td>\n",
       "    </tr>\n",
       "  </tbody>\n",
       "</table>\n",
       "</div>"
      ],
      "text/plain": [
       "          accuracy  balanced accuracy        f1  precision  \\\n",
       "majmin                                                       \n",
       "majority  0.237039           0.539289  0.247612   0.142356   \n",
       "minority  0.149026           0.508968  0.209274   0.117191   \n",
       "\n",
       "          false positive rate  false negative rate  selection rate    count  \n",
       "majmin                                                                       \n",
       "majority             0.871531             0.049891        0.881914  69170.0  \n",
       "minority             0.958838             0.023226        0.960906  20540.0  "
      ]
     },
     "execution_count": 62,
     "metadata": {},
     "output_type": "execute_result"
    }
   ],
   "source": [
    "metric_frame.by_group"
   ]
  },
  {
   "cell_type": "code",
   "execution_count": 63,
   "id": "a9ddbe63",
   "metadata": {
    "execution": {
     "iopub.execute_input": "2025-08-05T16:10:35.679150Z",
     "iopub.status.busy": "2025-08-05T16:10:35.678677Z",
     "iopub.status.idle": "2025-08-05T16:10:38.121658Z",
     "shell.execute_reply": "2025-08-05T16:10:38.120653Z"
    },
    "papermill": {
     "duration": 2.468372,
     "end_time": "2025-08-05T16:10:38.123457",
     "exception": false,
     "start_time": "2025-08-05T16:10:35.655085",
     "status": "completed"
    },
    "tags": []
   },
   "outputs": [
    {
     "data": {
      "text/plain": [
       "array([[<Axes: title={'center': 'accuracy'}, xlabel='majmin'>,\n",
       "        <Axes: title={'center': 'balanced accuracy'}, xlabel='majmin'>,\n",
       "        <Axes: title={'center': 'f1'}, xlabel='majmin'>],\n",
       "       [<Axes: title={'center': 'precision'}, xlabel='majmin'>,\n",
       "        <Axes: title={'center': 'false positive rate'}, xlabel='majmin'>,\n",
       "        <Axes: title={'center': 'false negative rate'}, xlabel='majmin'>],\n",
       "       [<Axes: title={'center': 'selection rate'}, xlabel='majmin'>,\n",
       "        <Axes: title={'center': 'count'}, xlabel='majmin'>,\n",
       "        <Axes: xlabel='majmin'>]], dtype=object)"
      ]
     },
     "execution_count": 63,
     "metadata": {},
     "output_type": "execute_result"
    },
    {
     "data": {
      "image/png": "[encoded data removed]",
      "text/plain": [
       "<Figure size 1200x800 with 9 Axes>"
      ]
     },
     "metadata": {},
     "output_type": "display_data"
    }
   ],
   "source": [
    "# In a graphic\n",
    "metric_frame.by_group.plot.bar(\n",
    "    subplots=True,\n",
    "    layout=[3, 3],\n",
    "    legend=False,\n",
    "    figsize=[12, 8],\n",
    "    title=\"Show all metrics\",\n",
    ")"
   ]
  },
  {
   "cell_type": "markdown",
   "id": "f57a0bac",
   "metadata": {
    "papermill": {
     "duration": 0.017746,
     "end_time": "2025-08-05T16:10:38.169557",
     "exception": false,
     "start_time": "2025-08-05T16:10:38.151811",
     "status": "completed"
    },
    "tags": []
   },
   "source": [
    "# Final Output"
   ]
  },
  {
   "cell_type": "code",
   "execution_count": 64,
   "id": "96d280a3",
   "metadata": {
    "execution": {
     "iopub.execute_input": "2025-08-05T16:10:38.220164Z",
     "iopub.status.busy": "2025-08-05T16:10:38.219189Z",
     "iopub.status.idle": "2025-08-05T16:10:38.227236Z",
     "shell.execute_reply": "2025-08-05T16:10:38.226325Z"
    },
    "papermill": {
     "duration": 0.033943,
     "end_time": "2025-08-05T16:10:38.228875",
     "exception": false,
     "start_time": "2025-08-05T16:10:38.194932",
     "status": "completed"
    },
    "tags": []
   },
   "outputs": [
    {
     "data": {
      "text/plain": [
       "4"
      ]
     },
     "execution_count": 64,
     "metadata": {},
     "output_type": "execute_result"
    }
   ],
   "source": [
    "sub_universes = universe_analysis.generate_sub_universes()\n",
    "len(sub_universes)"
   ]
  },
  {
   "cell_type": "code",
   "execution_count": 65,
   "id": "92adf7ba",
   "metadata": {
    "execution": {
     "iopub.execute_input": "2025-08-05T16:10:38.278665Z",
     "iopub.status.busy": "2025-08-05T16:10:38.278197Z",
     "iopub.status.idle": "2025-08-05T16:10:38.289909Z",
     "shell.execute_reply": "2025-08-05T16:10:38.288775Z"
    },
    "papermill": {
     "duration": 0.036753,
     "end_time": "2025-08-05T16:10:38.291779",
     "exception": false,
     "start_time": "2025-08-05T16:10:38.255026",
     "status": "completed"
    },
    "tags": []
   },
   "outputs": [],
   "source": [
    "def filter_sub_universe_data(sub_universe, org_test):\n",
    "    # Keep all rows — no filtering\n",
    "    keep_rows_mask = np.ones(org_test.shape[0], dtype=bool)\n",
    "\n",
    "    print(f\"[INFO] Keeping all rows: {keep_rows_mask.sum()} rows retained.\")\n",
    "    return keep_rows_mask"
   ]
  },
  {
   "cell_type": "code",
   "execution_count": 66,
   "id": "4a759155",
   "metadata": {
    "execution": {
     "iopub.execute_input": "2025-08-05T16:10:38.333989Z",
     "iopub.status.busy": "2025-08-05T16:10:38.332622Z",
     "iopub.status.idle": "2025-08-05T16:10:46.639299Z",
     "shell.execute_reply": "2025-08-05T16:10:46.638390Z"
    },
    "papermill": {
     "duration": 8.322314,
     "end_time": "2025-08-05T16:10:46.640679",
     "exception": false,
     "start_time": "2025-08-05T16:10:38.318365",
     "status": "completed"
    },
    "tags": []
   },
   "outputs": [
    {
     "name": "stdout",
     "output_type": "stream",
     "text": [
      "Stopping execution_time clock.\n",
      "[INFO] Keeping all rows: 89710 rows retained.\n"
     ]
    },
    {
     "name": "stdout",
     "output_type": "stream",
     "text": [
      "[INFO] Keeping all rows: 89710 rows retained.\n"
     ]
    },
    {
     "name": "stdout",
     "output_type": "stream",
     "text": [
      "[INFO] Keeping all rows: 89710 rows retained.\n"
     ]
    },
    {
     "name": "stdout",
     "output_type": "stream",
     "text": [
      "[INFO] Keeping all rows: 89710 rows retained.\n"
     ]
    },
    {
     "data": {
      "text/html": [
       "<div>\n",
       "<style scoped>\n",
       "    .dataframe tbody tr th:only-of-type {\n",
       "        vertical-align: middle;\n",
       "    }\n",
       "\n",
       "    .dataframe tbody tr th {\n",
       "        vertical-align: top;\n",
       "    }\n",
       "\n",
       "    .dataframe thead th {\n",
       "        text-align: right;\n",
       "    }\n",
       "</style>\n",
       "<table border=\"1\" class=\"dataframe\">\n",
       "  <thead>\n",
       "    <tr style=\"text-align: right;\">\n",
       "      <th></th>\n",
       "      <th>run_no</th>\n",
       "      <th>universe_id</th>\n",
       "      <th>universe_settings</th>\n",
       "      <th>execution_time</th>\n",
       "      <th>test_size_n</th>\n",
       "      <th>test_size_frac</th>\n",
       "      <th>fair_main_equalized_odds_difference</th>\n",
       "      <th>fair_main_equalized_odds_ratio</th>\n",
       "      <th>fair_main_demographic_parity_difference</th>\n",
       "      <th>fair_main_demographic_parity_ratio</th>\n",
       "      <th>...</th>\n",
       "      <th>perf_grp_precision_0</th>\n",
       "      <th>perf_grp_precision_1</th>\n",
       "      <th>perf_grp_false positive rate_0</th>\n",
       "      <th>perf_grp_false positive rate_1</th>\n",
       "      <th>perf_grp_false negative rate_0</th>\n",
       "      <th>perf_grp_false negative rate_1</th>\n",
       "      <th>perf_grp_selection rate_0</th>\n",
       "      <th>perf_grp_selection rate_1</th>\n",
       "      <th>perf_grp_count_0</th>\n",
       "      <th>perf_grp_count_1</th>\n",
       "    </tr>\n",
       "  </thead>\n",
       "  <tbody>\n",
       "    <tr>\n",
       "      <th>0</th>\n",
       "      <td>15</td>\n",
       "      <td>14c3a962f8754341c9e01797abbb2346</td>\n",
       "      <td>{\"cutoff\": \"quantile_0.1\", \"eval_fairness_grou...</td>\n",
       "      <td>24.021168</td>\n",
       "      <td>89710</td>\n",
       "      <td>1.0</td>\n",
       "      <td>0.087307</td>\n",
       "      <td>0.908945</td>\n",
       "      <td>0.078991</td>\n",
       "      <td>0.917795</td>\n",
       "      <td>...</td>\n",
       "      <td>NaN</td>\n",
       "      <td>NaN</td>\n",
       "      <td>NaN</td>\n",
       "      <td>NaN</td>\n",
       "      <td>NaN</td>\n",
       "      <td>NaN</td>\n",
       "      <td>NaN</td>\n",
       "      <td>NaN</td>\n",
       "      <td>NaN</td>\n",
       "      <td>NaN</td>\n",
       "    </tr>\n",
       "    <tr>\n",
       "      <th>0</th>\n",
       "      <td>15</td>\n",
       "      <td>14c3a962f8754341c9e01797abbb2346</td>\n",
       "      <td>{\"cutoff\": \"quantile_0.1\", \"eval_fairness_grou...</td>\n",
       "      <td>24.021168</td>\n",
       "      <td>89710</td>\n",
       "      <td>1.0</td>\n",
       "      <td>0.087307</td>\n",
       "      <td>0.908945</td>\n",
       "      <td>0.078991</td>\n",
       "      <td>0.917795</td>\n",
       "      <td>...</td>\n",
       "      <td>0.117191</td>\n",
       "      <td>0.142356</td>\n",
       "      <td>0.958838</td>\n",
       "      <td>0.871531</td>\n",
       "      <td>0.023226</td>\n",
       "      <td>0.049891</td>\n",
       "      <td>0.960906</td>\n",
       "      <td>0.881914</td>\n",
       "      <td>20540.0</td>\n",
       "      <td>69170.0</td>\n",
       "    </tr>\n",
       "    <tr>\n",
       "      <th>0</th>\n",
       "      <td>15</td>\n",
       "      <td>14c3a962f8754341c9e01797abbb2346</td>\n",
       "      <td>{\"cutoff\": \"quantile_0.25\", \"eval_fairness_gro...</td>\n",
       "      <td>24.021168</td>\n",
       "      <td>89710</td>\n",
       "      <td>1.0</td>\n",
       "      <td>0.207423</td>\n",
       "      <td>0.767515</td>\n",
       "      <td>0.190130</td>\n",
       "      <td>0.787942</td>\n",
       "      <td>...</td>\n",
       "      <td>NaN</td>\n",
       "      <td>NaN</td>\n",
       "      <td>NaN</td>\n",
       "      <td>NaN</td>\n",
       "      <td>NaN</td>\n",
       "      <td>NaN</td>\n",
       "      <td>NaN</td>\n",
       "      <td>NaN</td>\n",
       "      <td>NaN</td>\n",
       "      <td>NaN</td>\n",
       "    </tr>\n",
       "    <tr>\n",
       "      <th>0</th>\n",
       "      <td>15</td>\n",
       "      <td>14c3a962f8754341c9e01797abbb2346</td>\n",
       "      <td>{\"cutoff\": \"quantile_0.25\", \"eval_fairness_gro...</td>\n",
       "      <td>24.021168</td>\n",
       "      <td>89710</td>\n",
       "      <td>1.0</td>\n",
       "      <td>0.207423</td>\n",
       "      <td>0.767515</td>\n",
       "      <td>0.190130</td>\n",
       "      <td>0.787942</td>\n",
       "      <td>...</td>\n",
       "      <td>0.119624</td>\n",
       "      <td>0.158781</td>\n",
       "      <td>0.892197</td>\n",
       "      <td>0.684774</td>\n",
       "      <td>0.069679</td>\n",
       "      <td>0.151094</td>\n",
       "      <td>0.896592</td>\n",
       "      <td>0.706462</td>\n",
       "      <td>20540.0</td>\n",
       "      <td>69170.0</td>\n",
       "    </tr>\n",
       "  </tbody>\n",
       "</table>\n",
       "<p>4 rows × 50 columns</p>\n",
       "</div>"
      ],
      "text/plain": [
       "  run_no                       universe_id  \\\n",
       "0     15  14c3a962f8754341c9e01797abbb2346   \n",
       "0     15  14c3a962f8754341c9e01797abbb2346   \n",
       "0     15  14c3a962f8754341c9e01797abbb2346   \n",
       "0     15  14c3a962f8754341c9e01797abbb2346   \n",
       "\n",
       "                                   universe_settings  execution_time  \\\n",
       "0  {\"cutoff\": \"quantile_0.1\", \"eval_fairness_grou...       24.021168   \n",
       "0  {\"cutoff\": \"quantile_0.1\", \"eval_fairness_grou...       24.021168   \n",
       "0  {\"cutoff\": \"quantile_0.25\", \"eval_fairness_gro...       24.021168   \n",
       "0  {\"cutoff\": \"quantile_0.25\", \"eval_fairness_gro...       24.021168   \n",
       "\n",
       "   test_size_n  test_size_frac  fair_main_equalized_odds_difference  \\\n",
       "0        89710             1.0                             0.087307   \n",
       "0        89710             1.0                             0.087307   \n",
       "0        89710             1.0                             0.207423   \n",
       "0        89710             1.0                             0.207423   \n",
       "\n",
       "   fair_main_equalized_odds_ratio  fair_main_demographic_parity_difference  \\\n",
       "0                        0.908945                                 0.078991   \n",
       "0                        0.908945                                 0.078991   \n",
       "0                        0.767515                                 0.190130   \n",
       "0                        0.767515                                 0.190130   \n",
       "\n",
       "   fair_main_demographic_parity_ratio  ...  perf_grp_precision_0  \\\n",
       "0                            0.917795  ...                   NaN   \n",
       "0                            0.917795  ...              0.117191   \n",
       "0                            0.787942  ...                   NaN   \n",
       "0                            0.787942  ...              0.119624   \n",
       "\n",
       "   perf_grp_precision_1  perf_grp_false positive rate_0  \\\n",
       "0                   NaN                             NaN   \n",
       "0              0.142356                        0.958838   \n",
       "0                   NaN                             NaN   \n",
       "0              0.158781                        0.892197   \n",
       "\n",
       "   perf_grp_false positive rate_1  perf_grp_false negative rate_0  \\\n",
       "0                             NaN                             NaN   \n",
       "0                        0.871531                        0.023226   \n",
       "0                             NaN                             NaN   \n",
       "0                        0.684774                        0.069679   \n",
       "\n",
       "   perf_grp_false negative rate_1  perf_grp_selection rate_0  \\\n",
       "0                             NaN                        NaN   \n",
       "0                        0.049891                   0.960906   \n",
       "0                             NaN                        NaN   \n",
       "0                        0.151094                   0.896592   \n",
       "\n",
       "   perf_grp_selection rate_1  perf_grp_count_0  perf_grp_count_1  \n",
       "0                        NaN               NaN               NaN  \n",
       "0                   0.881914           20540.0           69170.0  \n",
       "0                        NaN               NaN               NaN  \n",
       "0                   0.706462           20540.0           69170.0  \n",
       "\n",
       "[4 rows x 50 columns]"
      ]
     },
     "execution_count": 66,
     "metadata": {},
     "output_type": "execute_result"
    }
   ],
   "source": [
    "final_output = universe_analysis.generate_final_output(\n",
    "    y_pred_prob=probs_test,\n",
    "    y_test=y_true,\n",
    "    org_test=org_test,\n",
    "    filter_data=filter_sub_universe_data,\n",
    "    cp_metrics_df=cp_metrics_df,\n",
    "    save=True,\n",
    ")\n",
    "final_output"
   ]
  }
 ],
 "metadata": {
  "celltoolbar": "Tags",
  "kernelspec": {
   "display_name": "Python (CMA Fairness)",
   "language": "python",
   "name": "cma_fair_env"
  },
  "language_info": {
   "codemirror_mode": {
    "name": "ipython",
    "version": 3
   },
   "file_extension": ".py",
   "mimetype": "text/x-python",
   "name": "python",
   "nbconvert_exporter": "python",
   "pygments_lexer": "ipython3",
   "version": "3.10.12"
  },
  "papermill": {
   "default_parameters": {},
   "duration": 36.272849,
   "end_time": "2025-08-05T16:10:47.374232",
   "environment_variables": {},
   "exception": null,
   "input_path": "universe_analysis.ipynb",
   "output_path": "output/runs/15/notebooks/m_15-14c3a962f8754341c9e01797abbb2346.ipynb",
   "parameters": {
    "output_dir": "output",
    "run_no": "15",
    "seed": "2023",
    "universe": "{\"cutoff\": [\"quantile_0.1\", \"quantile_0.25\"], \"eval_fairness_grouping\": [\"majority-minority\", \"nationality-all\"], \"exclude_features\": \"sex\", \"exclude_subgroups\": \"drop-non-german\", \"model\": \"penalized_logreg\", \"scale\": \"do-not-scale\", \"training_size\": \"1k\", \"training_year\": \"2014\"}",
    "universe_id": "14c3a962f8754341c9e01797abbb2346"
   },
   "start_time": "2025-08-05T16:10:11.101383",
   "version": "2.6.0"
  }
 },
 "nbformat": 4,
 "nbformat_minor": 5
}