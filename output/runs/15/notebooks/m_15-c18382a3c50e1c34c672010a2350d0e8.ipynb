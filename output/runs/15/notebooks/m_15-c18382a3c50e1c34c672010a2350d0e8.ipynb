{
 "cells": [
  {
   "cell_type": "code",
   "execution_count": 1,
   "id": "f159f837-637b-42ba-96b5-ec9a68c44524",
   "metadata": {
    "execution": {
     "iopub.execute_input": "2025-08-05T16:40:15.690432Z",
     "iopub.status.busy": "2025-08-05T16:40:15.689047Z",
     "iopub.status.idle": "2025-08-05T16:40:15.706851Z",
     "shell.execute_reply": "2025-08-05T16:40:15.705781Z"
    },
    "papermill": {
     "duration": 0.039509,
     "end_time": "2025-08-05T16:40:15.709296",
     "exception": false,
     "start_time": "2025-08-05T16:40:15.669787",
     "status": "completed"
    },
    "tags": []
   },
   "outputs": [
    {
     "name": "stdout",
     "output_type": "stream",
     "text": [
      "/dss/dsshome1/0C/ra93lal2/cma/CMA_Fairness_v2\n"
     ]
    },
    {
     "name": "stderr",
     "output_type": "stream",
     "text": [
      "/dss/dsshome1/0C/ra93lal2/.local/share/virtualenvs/CMA_Fairness_v2-3j10GkSs/lib/python3.10/site-packages/IPython/core/magics/osm.py:393: UserWarning: This is now an optional IPython functionality, using bookmarks requires you to install the `pickleshare` library.\n",
      "  bkms = self.shell.db.get('bookmarks', {})\n",
      "/dss/dsshome1/0C/ra93lal2/.local/share/virtualenvs/CMA_Fairness_v2-3j10GkSs/lib/python3.10/site-packages/IPython/core/magics/osm.py:417: UserWarning: This is now an optional IPython functionality, setting dhist requires you to install the `pickleshare` library.\n",
      "  self.shell.db['dhist'] = compress_dhist(dhist)[-100:]\n"
     ]
    }
   ],
   "source": [
    "%cd ~/cma/CMA_Fairness_v2"
   ]
  },
  {
   "cell_type": "markdown",
   "id": "de2603b9",
   "metadata": {
    "papermill": {
     "duration": 0.018988,
     "end_time": "2025-08-05T16:40:15.746976",
     "exception": false,
     "start_time": "2025-08-05T16:40:15.727988",
     "status": "completed"
    },
    "tags": []
   },
   "source": [
    "The following cell holds the definition of our parameters, these values can be overriden by rendering the with e.g. the following command:\n",
    "\n",
    "papermill -p alpha 0.2 -p ratio 0.3 universe_analysis.ipynb output/test_run.ipynb"
   ]
  },
  {
   "cell_type": "code",
   "execution_count": 2,
   "id": "a80968a0-40bb-4fa9-85ef-2d5eefb01975",
   "metadata": {
    "execution": {
     "iopub.execute_input": "2025-08-05T16:40:15.784993Z",
     "iopub.status.busy": "2025-08-05T16:40:15.784493Z",
     "iopub.status.idle": "2025-08-05T16:40:15.790657Z",
     "shell.execute_reply": "2025-08-05T16:40:15.789499Z"
    },
    "papermill": {
     "duration": 0.028018,
     "end_time": "2025-08-05T16:40:15.792734",
     "exception": false,
     "start_time": "2025-08-05T16:40:15.764716",
     "status": "completed"
    },
    "tags": []
   },
   "outputs": [
    {
     "name": "stdout",
     "output_type": "stream",
     "text": [
      "Current working directory: /dss/dsshome1/0C/ra93lal2/cma/CMA_Fairness_v2\n"
     ]
    }
   ],
   "source": [
    "import os\n",
    "print(\"Current working directory:\", os.getcwd())"
   ]
  },
  {
   "cell_type": "code",
   "execution_count": 3,
   "id": "2dce4c03",
   "metadata": {
    "execution": {
     "iopub.execute_input": "2025-08-05T16:40:15.830822Z",
     "iopub.status.busy": "2025-08-05T16:40:15.830287Z",
     "iopub.status.idle": "2025-08-05T16:40:15.837415Z",
     "shell.execute_reply": "2025-08-05T16:40:15.836425Z"
    },
    "papermill": {
     "duration": 0.028178,
     "end_time": "2025-08-05T16:40:15.839236",
     "exception": false,
     "start_time": "2025-08-05T16:40:15.811058",
     "status": "completed"
    },
    "tags": [
     "parameters"
    ]
   },
   "outputs": [],
   "source": [
    "run_no = 0\n",
    "universe_id = \"test\"\n",
    "universe = {\n",
    "    \"training_size\": \"25k\", # \"25k\", \"5k\", \"1k\"\n",
    "    \"training_year\": \"2014\", # \"2014\", \"2012_14\", \"2010_14\"\n",
    "    \"scale\": \"scale\", # \"scale\", \"do-not-scale\",\n",
    "    \"model\": \"elasticnet\", # \"logreg\", \"penalized_logreg\", \"rf\", \"gbm\", \"elasticnet\"\n",
    "    \"cutoff\": [\"quantile_0.15\", \"quantile_0.30\"],\n",
    "    \"exclude_features\": \"age\", # \"none\", \"nationality\", \"sex\", \"nationality-sex\", \"age\"\n",
    "    \"exclude_subgroups\": \"keep-all\", # \"keep-all\", \"drop-non-german\"\n",
    "    \"eval_fairness_grouping\": [\"majority-minority\", \"nationality-all\"]\n",
    "}\n",
    "\n",
    "output_dir=\"./output\"\n",
    "seed=0"
   ]
  },
  {
   "cell_type": "code",
   "execution_count": 4,
   "id": "e81282c3",
   "metadata": {
    "execution": {
     "iopub.execute_input": "2025-08-05T16:40:15.877547Z",
     "iopub.status.busy": "2025-08-05T16:40:15.876578Z",
     "iopub.status.idle": "2025-08-05T16:40:15.882358Z",
     "shell.execute_reply": "2025-08-05T16:40:15.881232Z"
    },
    "papermill": {
     "duration": 0.026674,
     "end_time": "2025-08-05T16:40:15.884221",
     "exception": false,
     "start_time": "2025-08-05T16:40:15.857547",
     "status": "completed"
    },
    "tags": [
     "injected-parameters"
    ]
   },
   "outputs": [],
   "source": [
    "# Parameters\n",
    "universe_id = \"c18382a3c50e1c34c672010a2350d0e8\"\n",
    "run_no = \"15\"\n",
    "universe = \"{\\\"cutoff\\\": [\\\"quantile_0.1\\\", \\\"quantile_0.25\\\"], \\\"eval_fairness_grouping\\\": [\\\"majority-minority\\\", \\\"nationality-all\\\"], \\\"exclude_features\\\": \\\"nationality-sex\\\", \\\"exclude_subgroups\\\": \\\"keep-all\\\", \\\"model\\\": \\\"penalized_logreg\\\", \\\"scale\\\": \\\"do-not-scale\\\", \\\"training_size\\\": \\\"1k\\\", \\\"training_year\\\": \\\"2010_14\\\"}\"\n",
    "output_dir = \"output\"\n",
    "seed = \"2023\"\n"
   ]
  },
  {
   "cell_type": "code",
   "execution_count": 5,
   "id": "1650acaf",
   "metadata": {
    "execution": {
     "iopub.execute_input": "2025-08-05T16:40:15.924304Z",
     "iopub.status.busy": "2025-08-05T16:40:15.923376Z",
     "iopub.status.idle": "2025-08-05T16:40:15.929167Z",
     "shell.execute_reply": "2025-08-05T16:40:15.928077Z"
    },
    "papermill": {
     "duration": 0.026564,
     "end_time": "2025-08-05T16:40:15.931098",
     "exception": false,
     "start_time": "2025-08-05T16:40:15.904534",
     "status": "completed"
    },
    "tags": []
   },
   "outputs": [],
   "source": [
    "import json\n",
    "if isinstance(universe, str):\n",
    "    universe = json.loads(universe)"
   ]
  },
  {
   "cell_type": "code",
   "execution_count": 6,
   "id": "16620c48",
   "metadata": {
    "execution": {
     "iopub.execute_input": "2025-08-05T16:40:15.974171Z",
     "iopub.status.busy": "2025-08-05T16:40:15.973165Z",
     "iopub.status.idle": "2025-08-05T16:40:16.020123Z",
     "shell.execute_reply": "2025-08-05T16:40:16.018987Z"
    },
    "papermill": {
     "duration": 0.071628,
     "end_time": "2025-08-05T16:40:16.023742",
     "exception": false,
     "start_time": "2025-08-05T16:40:15.952114",
     "status": "completed"
    },
    "tags": []
   },
   "outputs": [],
   "source": [
    "# Auto-reload the custom package\n",
    "%load_ext autoreload\n",
    "%autoreload 1\n",
    "%aimport fairness_multiverse"
   ]
  },
  {
   "cell_type": "code",
   "execution_count": 7,
   "id": "01c5c9f3",
   "metadata": {
    "execution": {
     "iopub.execute_input": "2025-08-05T16:40:16.078579Z",
     "iopub.status.busy": "2025-08-05T16:40:16.078109Z",
     "iopub.status.idle": "2025-08-05T16:40:18.941098Z",
     "shell.execute_reply": "2025-08-05T16:40:18.940024Z"
    },
    "papermill": {
     "duration": 2.893081,
     "end_time": "2025-08-05T16:40:18.943233",
     "exception": false,
     "start_time": "2025-08-05T16:40:16.050152",
     "status": "completed"
    },
    "tags": []
   },
   "outputs": [],
   "source": [
    "from fairness_multiverse.universe import UniverseAnalysis\n",
    "\n",
    "universe_analysis = UniverseAnalysis(\n",
    "    run_no = run_no,\n",
    "    universe_id = universe_id,\n",
    "    universe = universe,\n",
    "    output_dir=output_dir,\n",
    ")"
   ]
  },
  {
   "cell_type": "code",
   "execution_count": 8,
   "id": "106241f5",
   "metadata": {
    "execution": {
     "iopub.execute_input": "2025-08-05T16:40:18.985084Z",
     "iopub.status.busy": "2025-08-05T16:40:18.984078Z",
     "iopub.status.idle": "2025-08-05T16:40:18.991522Z",
     "shell.execute_reply": "2025-08-05T16:40:18.990510Z"
    },
    "papermill": {
     "duration": 0.029629,
     "end_time": "2025-08-05T16:40:18.993388",
     "exception": false,
     "start_time": "2025-08-05T16:40:18.963759",
     "status": "completed"
    },
    "tags": []
   },
   "outputs": [
    {
     "name": "stdout",
     "output_type": "stream",
     "text": [
      "Using Seed: 2023\n"
     ]
    }
   ],
   "source": [
    "import numpy as np\n",
    "parsed_seed = int(seed)\n",
    "np.random.seed(parsed_seed)\n",
    "print(f\"Using Seed: {parsed_seed}\")"
   ]
  },
  {
   "cell_type": "markdown",
   "id": "e0ebdc57",
   "metadata": {
    "papermill": {
     "duration": 0.017234,
     "end_time": "2025-08-05T16:40:19.029458",
     "exception": false,
     "start_time": "2025-08-05T16:40:19.012224",
     "status": "completed"
    },
    "tags": []
   },
   "source": [
    "# Loading Data"
   ]
  },
  {
   "cell_type": "code",
   "execution_count": 9,
   "id": "f0496b8a",
   "metadata": {
    "execution": {
     "iopub.execute_input": "2025-08-05T16:40:19.066160Z",
     "iopub.status.busy": "2025-08-05T16:40:19.065188Z",
     "iopub.status.idle": "2025-08-05T16:40:31.720594Z",
     "shell.execute_reply": "2025-08-05T16:40:31.719427Z"
    },
    "papermill": {
     "duration": 12.676647,
     "end_time": "2025-08-05T16:40:31.722434",
     "exception": false,
     "start_time": "2025-08-05T16:40:19.045787",
     "status": "completed"
    },
    "tags": []
   },
   "outputs": [
    {
     "name": "stdout",
     "output_type": "stream",
     "text": [
      "Loading SIAB data from cache: data/siab_cached.csv.gz\n"
     ]
    },
    {
     "name": "stdout",
     "output_type": "stream",
     "text": [
      "(643690, 164)\n"
     ]
    }
   ],
   "source": [
    "from pathlib import Path\n",
    "import pandas as pd\n",
    "\n",
    "# File paths\n",
    "raw_file = Path(\"data/raw/siab.csv\")\n",
    "cache_file = Path(\"data/siab_cached.csv.gz\")\n",
    "\n",
    "# Ensure cache directory exists\n",
    "cache_file.parent.mkdir(parents=True, exist_ok=True)\n",
    "\n",
    "# Load with simple caching\n",
    "if cache_file.exists():\n",
    "    print(f\"Loading SIAB data from cache: {cache_file}\")\n",
    "    siab = pd.read_csv(cache_file, compression='gzip')\n",
    "else:\n",
    "    print(f\"Cache not found. Reading raw SIAB data: {raw_file}\")\n",
    "    siab = pd.read_csv(raw_file)\n",
    "    siab.to_csv(cache_file, index=False, compression='gzip')\n",
    "    print(f\"Cached SIAB data to: {cache_file}\")\n",
    "\n",
    "print(siab.shape)"
   ]
  },
  {
   "cell_type": "code",
   "execution_count": 10,
   "id": "db0ca512-5f53-4dba-abdb-a2888bca41ba",
   "metadata": {
    "execution": {
     "iopub.execute_input": "2025-08-05T16:40:31.759104Z",
     "iopub.status.busy": "2025-08-05T16:40:31.758616Z",
     "iopub.status.idle": "2025-08-05T16:40:31.764197Z",
     "shell.execute_reply": "2025-08-05T16:40:31.763194Z"
    },
    "papermill": {
     "duration": 0.024935,
     "end_time": "2025-08-05T16:40:31.766094",
     "exception": false,
     "start_time": "2025-08-05T16:40:31.741159",
     "status": "completed"
    },
    "tags": []
   },
   "outputs": [],
   "source": [
    "#siab"
   ]
  },
  {
   "cell_type": "markdown",
   "id": "997051c5-15bd-4b69-9786-c3001a3ce484",
   "metadata": {
    "papermill": {
     "duration": 0.01806,
     "end_time": "2025-08-05T16:40:31.803114",
     "exception": false,
     "start_time": "2025-08-05T16:40:31.785054",
     "status": "completed"
    },
    "tags": []
   },
   "source": [
    "# Splitting Data and Setting Training Data Size"
   ]
  },
  {
   "cell_type": "code",
   "execution_count": 11,
   "id": "aea9c6ef-6f46-42c8-85eb-5a62025c1508",
   "metadata": {
    "execution": {
     "iopub.execute_input": "2025-08-05T16:40:31.841799Z",
     "iopub.status.busy": "2025-08-05T16:40:31.841044Z",
     "iopub.status.idle": "2025-08-05T16:40:32.784470Z",
     "shell.execute_reply": "2025-08-05T16:40:32.783712Z"
    },
    "papermill": {
     "duration": 0.964402,
     "end_time": "2025-08-05T16:40:32.785963",
     "exception": false,
     "start_time": "2025-08-05T16:40:31.821561",
     "status": "completed"
    },
    "tags": []
   },
   "outputs": [],
   "source": [
    "from fairness_multiverse.universe import sample_by_year_size\n",
    "\n",
    "siab_train = sample_by_year_size(siab,\n",
    "                               training_year=universe[\"training_year\"],\n",
    "                               training_size=universe[\"training_size\"])"
   ]
  },
  {
   "cell_type": "code",
   "execution_count": 12,
   "id": "8d3afb32-789d-442c-8d5d-9f5aa8dd2eed",
   "metadata": {
    "execution": {
     "iopub.execute_input": "2025-08-05T16:40:32.805738Z",
     "iopub.status.busy": "2025-08-05T16:40:32.805376Z",
     "iopub.status.idle": "2025-08-05T16:40:32.809451Z",
     "shell.execute_reply": "2025-08-05T16:40:32.808669Z"
    },
    "papermill": {
     "duration": 0.015253,
     "end_time": "2025-08-05T16:40:32.810964",
     "exception": false,
     "start_time": "2025-08-05T16:40:32.795711",
     "status": "completed"
    },
    "tags": []
   },
   "outputs": [],
   "source": [
    "#siab_train.shape"
   ]
  },
  {
   "cell_type": "code",
   "execution_count": 13,
   "id": "d582db68-1a4c-47fb-84fc-08518dc1975a",
   "metadata": {
    "execution": {
     "iopub.execute_input": "2025-08-05T16:40:32.831406Z",
     "iopub.status.busy": "2025-08-05T16:40:32.830891Z",
     "iopub.status.idle": "2025-08-05T16:40:32.834779Z",
     "shell.execute_reply": "2025-08-05T16:40:32.834048Z"
    },
    "papermill": {
     "duration": 0.015476,
     "end_time": "2025-08-05T16:40:32.836195",
     "exception": false,
     "start_time": "2025-08-05T16:40:32.820719",
     "status": "completed"
    },
    "tags": []
   },
   "outputs": [],
   "source": [
    "#display(siab_train.groupby(\"year\").size())"
   ]
  },
  {
   "cell_type": "code",
   "execution_count": 14,
   "id": "a561edb4-d032-42cb-8256-22eac1111c64",
   "metadata": {
    "execution": {
     "iopub.execute_input": "2025-08-05T16:40:32.856019Z",
     "iopub.status.busy": "2025-08-05T16:40:32.855543Z",
     "iopub.status.idle": "2025-08-05T16:40:33.081171Z",
     "shell.execute_reply": "2025-08-05T16:40:33.080200Z"
    },
    "papermill": {
     "duration": 0.236809,
     "end_time": "2025-08-05T16:40:33.082828",
     "exception": false,
     "start_time": "2025-08-05T16:40:32.846019",
     "status": "completed"
    },
    "tags": []
   },
   "outputs": [],
   "source": [
    "#siab_train = siab_s[siab_s.year < 2015]\n",
    "siab_calib = siab[siab.year == 2015]\n",
    "siab_test = siab[siab.year == 2016]"
   ]
  },
  {
   "cell_type": "code",
   "execution_count": 15,
   "id": "472de16f-c3db-4916-846b-1f0de9cf1746",
   "metadata": {
    "execution": {
     "iopub.execute_input": "2025-08-05T16:40:33.119844Z",
     "iopub.status.busy": "2025-08-05T16:40:33.119452Z",
     "iopub.status.idle": "2025-08-05T16:40:33.126453Z",
     "shell.execute_reply": "2025-08-05T16:40:33.125344Z"
    },
    "papermill": {
     "duration": 0.02853,
     "end_time": "2025-08-05T16:40:33.128227",
     "exception": false,
     "start_time": "2025-08-05T16:40:33.099697",
     "status": "completed"
    },
    "tags": []
   },
   "outputs": [],
   "source": [
    "X_train = siab_train.iloc[:,4:164]\n",
    "y_train = siab_train.iloc[:, [3]]"
   ]
  },
  {
   "cell_type": "code",
   "execution_count": 16,
   "id": "828c96af-f43a-4ed6-ba47-8ac73a47d56c",
   "metadata": {
    "execution": {
     "iopub.execute_input": "2025-08-05T16:40:33.171368Z",
     "iopub.status.busy": "2025-08-05T16:40:33.170918Z",
     "iopub.status.idle": "2025-08-05T16:40:33.227945Z",
     "shell.execute_reply": "2025-08-05T16:40:33.226580Z"
    },
    "papermill": {
     "duration": 0.081833,
     "end_time": "2025-08-05T16:40:33.229991",
     "exception": false,
     "start_time": "2025-08-05T16:40:33.148158",
     "status": "completed"
    },
    "tags": []
   },
   "outputs": [],
   "source": [
    "X_calib = siab_calib.iloc[:,4:164]\n",
    "y_calib = siab_calib.iloc[:, [3]]"
   ]
  },
  {
   "cell_type": "code",
   "execution_count": 17,
   "id": "c34be9c3-6bd6-476e-acd3-845840e303be",
   "metadata": {
    "execution": {
     "iopub.execute_input": "2025-08-05T16:40:33.270305Z",
     "iopub.status.busy": "2025-08-05T16:40:33.269937Z",
     "iopub.status.idle": "2025-08-05T16:40:33.328112Z",
     "shell.execute_reply": "2025-08-05T16:40:33.326937Z"
    },
    "papermill": {
     "duration": 0.080413,
     "end_time": "2025-08-05T16:40:33.330136",
     "exception": false,
     "start_time": "2025-08-05T16:40:33.249723",
     "status": "completed"
    },
    "tags": []
   },
   "outputs": [],
   "source": [
    "X_test = siab_test.iloc[:,4:164]\n",
    "y_true = siab_test.iloc[:, [3]]"
   ]
  },
  {
   "cell_type": "code",
   "execution_count": 18,
   "id": "e6c733c5",
   "metadata": {
    "execution": {
     "iopub.execute_input": "2025-08-05T16:40:33.371571Z",
     "iopub.status.busy": "2025-08-05T16:40:33.371135Z",
     "iopub.status.idle": "2025-08-05T16:40:33.464477Z",
     "shell.execute_reply": "2025-08-05T16:40:33.463492Z"
    },
    "papermill": {
     "duration": 0.11556,
     "end_time": "2025-08-05T16:40:33.466572",
     "exception": false,
     "start_time": "2025-08-05T16:40:33.351012",
     "status": "completed"
    },
    "tags": []
   },
   "outputs": [],
   "source": [
    "# Auxiliary data needed downstream in the pipeline\n",
    "\n",
    "org_train = X_train.copy()\n",
    "org_test = X_test.copy()\n",
    "org_calib = X_calib.copy()"
   ]
  },
  {
   "cell_type": "markdown",
   "id": "0a4a1b33",
   "metadata": {
    "papermill": {
     "duration": 0.01999,
     "end_time": "2025-08-05T16:40:33.508050",
     "exception": false,
     "start_time": "2025-08-05T16:40:33.488060",
     "status": "completed"
    },
    "tags": []
   },
   "source": [
    "# Preprocessing Data"
   ]
  },
  {
   "cell_type": "code",
   "execution_count": 19,
   "id": "ca879031",
   "metadata": {
    "execution": {
     "iopub.execute_input": "2025-08-05T16:40:33.549918Z",
     "iopub.status.busy": "2025-08-05T16:40:33.549465Z",
     "iopub.status.idle": "2025-08-05T16:40:33.556046Z",
     "shell.execute_reply": "2025-08-05T16:40:33.555041Z"
    },
    "papermill": {
     "duration": 0.029938,
     "end_time": "2025-08-05T16:40:33.558065",
     "exception": false,
     "start_time": "2025-08-05T16:40:33.528127",
     "status": "completed"
    },
    "tags": []
   },
   "outputs": [],
   "source": [
    "# EXCLUDE PROTECTED FEATURES\n",
    "# ----------------------\n",
    "# \"exclude_features\": \"none\", # \"nationality\", \"sex\", \"nationality-sex\"\n",
    "\n",
    "excluded_features = universe[\"exclude_features\"].split(\"-\") # split, e.g.: \"nationality-sex\" -> [\"nationality\", \"sex\"]\n",
    "excluded_features_dictionary = {\n",
    "    \"nationality\": [\"maxdeutsch1\", \"maxdeutsch.Missing.\"],\n",
    "    \"sex\": [\"frau1\"],\n",
    "    \"age\": [\"age\"],\n",
    "}"
   ]
  },
  {
   "cell_type": "code",
   "execution_count": 20,
   "id": "b745ac60",
   "metadata": {
    "execution": {
     "iopub.execute_input": "2025-08-05T16:40:33.601285Z",
     "iopub.status.busy": "2025-08-05T16:40:33.600443Z",
     "iopub.status.idle": "2025-08-05T16:40:33.607379Z",
     "shell.execute_reply": "2025-08-05T16:40:33.606303Z"
    },
    "papermill": {
     "duration": 0.030248,
     "end_time": "2025-08-05T16:40:33.609311",
     "exception": false,
     "start_time": "2025-08-05T16:40:33.579063",
     "status": "completed"
    },
    "tags": []
   },
   "outputs": [],
   "source": [
    "# Code nice names to column names\n",
    "\n",
    "excluded_features_columns = [\n",
    "    excluded_features_dictionary[f] for f in excluded_features if len(f) > 0 and f != \"none\"\n",
    "]"
   ]
  },
  {
   "cell_type": "code",
   "execution_count": 21,
   "id": "f84f73a2",
   "metadata": {
    "execution": {
     "iopub.execute_input": "2025-08-05T16:40:33.650942Z",
     "iopub.status.busy": "2025-08-05T16:40:33.650312Z",
     "iopub.status.idle": "2025-08-05T16:40:33.656935Z",
     "shell.execute_reply": "2025-08-05T16:40:33.655824Z"
    },
    "papermill": {
     "duration": 0.028936,
     "end_time": "2025-08-05T16:40:33.658848",
     "exception": false,
     "start_time": "2025-08-05T16:40:33.629912",
     "status": "completed"
    },
    "tags": []
   },
   "outputs": [],
   "source": [
    "from utils import flatten_once\n",
    "\n",
    "excluded_features_columns = flatten_once(excluded_features_columns)"
   ]
  },
  {
   "cell_type": "code",
   "execution_count": 22,
   "id": "884dea22",
   "metadata": {
    "execution": {
     "iopub.execute_input": "2025-08-05T16:40:33.700157Z",
     "iopub.status.busy": "2025-08-05T16:40:33.699510Z",
     "iopub.status.idle": "2025-08-05T16:40:33.707827Z",
     "shell.execute_reply": "2025-08-05T16:40:33.706601Z"
    },
    "papermill": {
     "duration": 0.030859,
     "end_time": "2025-08-05T16:40:33.709694",
     "exception": false,
     "start_time": "2025-08-05T16:40:33.678835",
     "status": "completed"
    },
    "tags": []
   },
   "outputs": [
    {
     "name": "stdout",
     "output_type": "stream",
     "text": [
      "Dropping features: ['maxdeutsch1', 'maxdeutsch.Missing.', 'frau1']\n"
     ]
    }
   ],
   "source": [
    "if len(excluded_features_columns) > 0:\n",
    "    print(f\"Dropping features: {excluded_features_columns}\")\n",
    "    X_train.drop(excluded_features_columns, axis=1, inplace=True)"
   ]
  },
  {
   "cell_type": "code",
   "execution_count": 23,
   "id": "95ab8b16",
   "metadata": {
    "execution": {
     "iopub.execute_input": "2025-08-05T16:40:33.751852Z",
     "iopub.status.busy": "2025-08-05T16:40:33.751241Z",
     "iopub.status.idle": "2025-08-05T16:40:33.809284Z",
     "shell.execute_reply": "2025-08-05T16:40:33.808050Z"
    },
    "papermill": {
     "duration": 0.081703,
     "end_time": "2025-08-05T16:40:33.811688",
     "exception": false,
     "start_time": "2025-08-05T16:40:33.729985",
     "status": "completed"
    },
    "tags": []
   },
   "outputs": [
    {
     "name": "stdout",
     "output_type": "stream",
     "text": [
      "Dropping features: ['maxdeutsch1', 'maxdeutsch.Missing.', 'frau1']\n"
     ]
    }
   ],
   "source": [
    "if len(excluded_features_columns) > 0:\n",
    "    print(f\"Dropping features: {excluded_features_columns}\")\n",
    "    X_test.drop(excluded_features_columns, axis=1, inplace=True)"
   ]
  },
  {
   "cell_type": "code",
   "execution_count": 24,
   "id": "1853aaf5-fb9f-46cb-a2b5-8ea4ae2237e4",
   "metadata": {
    "execution": {
     "iopub.execute_input": "2025-08-05T16:40:33.854219Z",
     "iopub.status.busy": "2025-08-05T16:40:33.853357Z",
     "iopub.status.idle": "2025-08-05T16:40:33.910213Z",
     "shell.execute_reply": "2025-08-05T16:40:33.908958Z"
    },
    "papermill": {
     "duration": 0.078806,
     "end_time": "2025-08-05T16:40:33.912202",
     "exception": false,
     "start_time": "2025-08-05T16:40:33.833396",
     "status": "completed"
    },
    "tags": []
   },
   "outputs": [
    {
     "name": "stdout",
     "output_type": "stream",
     "text": [
      "Dropping features: ['maxdeutsch1', 'maxdeutsch.Missing.', 'frau1']\n"
     ]
    }
   ],
   "source": [
    "if len(excluded_features_columns) > 0:\n",
    "    print(f\"Dropping features: {excluded_features_columns}\")\n",
    "    X_calib.drop(excluded_features_columns, axis=1, inplace=True)"
   ]
  },
  {
   "cell_type": "code",
   "execution_count": 25,
   "id": "76c4dc6d",
   "metadata": {
    "execution": {
     "iopub.execute_input": "2025-08-05T16:40:33.954525Z",
     "iopub.status.busy": "2025-08-05T16:40:33.953734Z",
     "iopub.status.idle": "2025-08-05T16:40:33.959113Z",
     "shell.execute_reply": "2025-08-05T16:40:33.958027Z"
    },
    "papermill": {
     "duration": 0.02782,
     "end_time": "2025-08-05T16:40:33.960929",
     "exception": false,
     "start_time": "2025-08-05T16:40:33.933109",
     "status": "completed"
    },
    "tags": []
   },
   "outputs": [],
   "source": [
    "# EXCLUDE CERTAIN SUBGROUPS\n",
    "# ----------------------\n",
    "\n",
    "mode = universe.get(\"exclude_subgroups\", \"keep-all\") \n",
    "# Fetches the exclude_subgroups setting from the universe dict.\n",
    "# Defaults to \"keep-all\" if the key is missing."
   ]
  },
  {
   "cell_type": "code",
   "execution_count": 26,
   "id": "21994072",
   "metadata": {
    "execution": {
     "iopub.execute_input": "2025-08-05T16:40:34.004623Z",
     "iopub.status.busy": "2025-08-05T16:40:34.003695Z",
     "iopub.status.idle": "2025-08-05T16:40:34.010405Z",
     "shell.execute_reply": "2025-08-05T16:40:34.009406Z"
    },
    "papermill": {
     "duration": 0.03045,
     "end_time": "2025-08-05T16:40:34.012256",
     "exception": false,
     "start_time": "2025-08-05T16:40:33.981806",
     "status": "completed"
    },
    "tags": []
   },
   "outputs": [],
   "source": [
    "if mode == \"keep-all\":\n",
    "    keep_mask = pd.Series(True, index=org_train.index)\n",
    "\n",
    "# org_train contains the original feature columns from features_org (in Simson)\n",
    "# features_org contains unprocessed features, for me X_train at beginning ???\n",
    "# For keep-all, creates a boolean Series (keep_mask) of all True, so no rows are removed.\n",
    "\n",
    "elif mode == \"drop-non-german\":\n",
    "    keep_mask = org_train[\"maxdeutsch1\"] == 1 # ??? what about missing values?\n",
    "\n",
    "else:\n",
    "    raise ValueError(f\"Unsupported mode for exclude_subgroups: {mode}\")"
   ]
  },
  {
   "cell_type": "code",
   "execution_count": 27,
   "id": "71651440",
   "metadata": {
    "execution": {
     "iopub.execute_input": "2025-08-05T16:40:34.055306Z",
     "iopub.status.busy": "2025-08-05T16:40:34.054708Z",
     "iopub.status.idle": "2025-08-05T16:40:34.062036Z",
     "shell.execute_reply": "2025-08-05T16:40:34.060936Z"
    },
    "papermill": {
     "duration": 0.030834,
     "end_time": "2025-08-05T16:40:34.063907",
     "exception": false,
     "start_time": "2025-08-05T16:40:34.033073",
     "status": "completed"
    },
    "tags": []
   },
   "outputs": [],
   "source": [
    "n_drop = (~keep_mask).sum() # Calculates how many rows are set to be dropped\n",
    "if n_drop > 0:\n",
    "    pct = n_drop / len(keep_mask) * 100\n",
    "    print(f\"Dropping {n_drop} rows ({pct:.2f}%) where mode='{mode}'\")"
   ]
  },
  {
   "cell_type": "code",
   "execution_count": 28,
   "id": "5fb8eee5",
   "metadata": {
    "execution": {
     "iopub.execute_input": "2025-08-05T16:40:34.107592Z",
     "iopub.status.busy": "2025-08-05T16:40:34.106949Z",
     "iopub.status.idle": "2025-08-05T16:40:34.113958Z",
     "shell.execute_reply": "2025-08-05T16:40:34.112798Z"
    },
    "papermill": {
     "duration": 0.031059,
     "end_time": "2025-08-05T16:40:34.115722",
     "exception": false,
     "start_time": "2025-08-05T16:40:34.084663",
     "status": "completed"
    },
    "tags": []
   },
   "outputs": [],
   "source": [
    "X_train = X_train[keep_mask]"
   ]
  },
  {
   "cell_type": "code",
   "execution_count": 29,
   "id": "b202bb3a",
   "metadata": {
    "execution": {
     "iopub.execute_input": "2025-08-05T16:40:34.157127Z",
     "iopub.status.busy": "2025-08-05T16:40:34.156394Z",
     "iopub.status.idle": "2025-08-05T16:40:34.161974Z",
     "shell.execute_reply": "2025-08-05T16:40:34.161003Z"
    },
    "papermill": {
     "duration": 0.027932,
     "end_time": "2025-08-05T16:40:34.163715",
     "exception": false,
     "start_time": "2025-08-05T16:40:34.135783",
     "status": "completed"
    },
    "tags": []
   },
   "outputs": [],
   "source": [
    "y_train = y_train[keep_mask]"
   ]
  },
  {
   "cell_type": "markdown",
   "id": "493e2ac3",
   "metadata": {
    "papermill": {
     "duration": 0.019175,
     "end_time": "2025-08-05T16:40:34.201960",
     "exception": false,
     "start_time": "2025-08-05T16:40:34.182785",
     "status": "completed"
    },
    "tags": []
   },
   "source": [
    "# Model Training"
   ]
  },
  {
   "cell_type": "code",
   "execution_count": 30,
   "id": "679e1268",
   "metadata": {
    "execution": {
     "iopub.execute_input": "2025-08-05T16:40:34.243520Z",
     "iopub.status.busy": "2025-08-05T16:40:34.242703Z",
     "iopub.status.idle": "2025-08-05T16:40:34.359586Z",
     "shell.execute_reply": "2025-08-05T16:40:34.358638Z"
    },
    "papermill": {
     "duration": 0.139583,
     "end_time": "2025-08-05T16:40:34.361509",
     "exception": false,
     "start_time": "2025-08-05T16:40:34.221926",
     "status": "completed"
    },
    "tags": []
   },
   "outputs": [],
   "source": [
    "from sklearn.linear_model import LogisticRegression\n",
    "from sklearn.ensemble import GradientBoostingClassifier, RandomForestClassifier\n",
    "\n",
    "if (universe[\"model\"] == \"logreg\"):\n",
    "    model = LogisticRegression() #penalty=\"none\", solver=\"newton-cg\", max_iter=1) # include random_state=19 ?\n",
    "elif (universe[\"model\"] == \"penalized_logreg\"):\n",
    "    model = LogisticRegression(penalty=\"l2\", C=0.1) #, solver=\"newton-cg\", max_iter=1)\n",
    "elif (universe[\"model\"] == \"rf\"):\n",
    "    model = RandomForestClassifier() # n_estimators=100, n_jobs=-1\n",
    "elif (universe[\"model\"] == \"gbm\"):\n",
    "    model = GradientBoostingClassifier()\n",
    "elif (universe[\"model\"] == \"elasticnet\"):\n",
    "    model = LogisticRegression(penalty = 'elasticnet', solver = 'saga', l1_ratio = 0.5) # max_iter=5000\n",
    "else:\n",
    "    raise \"Unsupported universe.model\""
   ]
  },
  {
   "cell_type": "code",
   "execution_count": 31,
   "id": "0cc8f744",
   "metadata": {
    "execution": {
     "iopub.execute_input": "2025-08-05T16:40:34.404905Z",
     "iopub.status.busy": "2025-08-05T16:40:34.404108Z",
     "iopub.status.idle": "2025-08-05T16:40:34.410343Z",
     "shell.execute_reply": "2025-08-05T16:40:34.409366Z"
    },
    "papermill": {
     "duration": 0.029045,
     "end_time": "2025-08-05T16:40:34.411920",
     "exception": false,
     "start_time": "2025-08-05T16:40:34.382875",
     "status": "completed"
    },
    "tags": []
   },
   "outputs": [],
   "source": [
    "import numpy as np\n",
    "from sklearn.pipeline import Pipeline\n",
    "from sklearn.preprocessing import StandardScaler\n",
    "\n",
    "model = Pipeline([\n",
    "    #(\"continuous_processor\", continuous_processor),\n",
    "    #(\"categorical_preprocessor\", categorical_preprocessor),\n",
    "    (\"scale\", StandardScaler() if universe[\"scale\"] == \"scale\" else None), \n",
    "    (\"model\", model),\n",
    "])"
   ]
  },
  {
   "cell_type": "code",
   "execution_count": 32,
   "id": "9442c04d",
   "metadata": {
    "execution": {
     "iopub.execute_input": "2025-08-05T16:40:34.449596Z",
     "iopub.status.busy": "2025-08-05T16:40:34.448819Z",
     "iopub.status.idle": "2025-08-05T16:40:34.520905Z",
     "shell.execute_reply": "2025-08-05T16:40:34.520003Z"
    },
    "papermill": {
     "duration": 0.091941,
     "end_time": "2025-08-05T16:40:34.523011",
     "exception": false,
     "start_time": "2025-08-05T16:40:34.431070",
     "status": "completed"
    },
    "tags": []
   },
   "outputs": [
    {
     "name": "stderr",
     "output_type": "stream",
     "text": [
      "/dss/dsshome1/0C/ra93lal2/.local/share/virtualenvs/CMA_Fairness_v2-3j10GkSs/lib/python3.10/site-packages/sklearn/linear_model/_logistic.py:444: ConvergenceWarning: lbfgs failed to converge (status=1):\n",
      "STOP: TOTAL NO. of ITERATIONS REACHED LIMIT.\n",
      "\n",
      "Increase the number of iterations (max_iter) or scale the data as shown in:\n",
      "    https://scikit-learn.org/stable/modules/preprocessing.html\n",
      "Please also refer to the documentation for alternative solver options:\n",
      "    https://scikit-learn.org/stable/modules/linear_model.html#logistic-regression\n",
      "  n_iter_i = _check_optimize_result(\n"
     ]
    },
    {
     "data": {
      "text/html": [
       "<style>#sk-container-id-1 {color: black;background-color: white;}#sk-container-id-1 pre{padding: 0;}#sk-container-id-1 div.sk-toggleable {background-color: white;}#sk-container-id-1 label.sk-toggleable__label {cursor: pointer;display: block;width: 100%;margin-bottom: 0;padding: 0.3em;box-sizing: border-box;text-align: center;}#sk-container-id-1 label.sk-toggleable__label-arrow:before {content: \"▸\";float: left;margin-right: 0.25em;color: #696969;}#sk-container-id-1 label.sk-toggleable__label-arrow:hover:before {color: black;}#sk-container-id-1 div.sk-estimator:hover label.sk-toggleable__label-arrow:before {color: black;}#sk-container-id-1 div.sk-toggleable__content {max-height: 0;max-width: 0;overflow: hidden;text-align: left;background-color: #f0f8ff;}#sk-container-id-1 div.sk-toggleable__content pre {margin: 0.2em;color: black;border-radius: 0.25em;background-color: #f0f8ff;}#sk-container-id-1 input.sk-toggleable__control:checked~div.sk-toggleable__content {max-height: 200px;max-width: 100%;overflow: auto;}#sk-container-id-1 input.sk-toggleable__control:checked~label.sk-toggleable__label-arrow:before {content: \"▾\";}#sk-container-id-1 div.sk-estimator input.sk-toggleable__control:checked~label.sk-toggleable__label {background-color: #d4ebff;}#sk-container-id-1 div.sk-label input.sk-toggleable__control:checked~label.sk-toggleable__label {background-color: #d4ebff;}#sk-container-id-1 input.sk-hidden--visually {border: 0;clip: rect(1px 1px 1px 1px);clip: rect(1px, 1px, 1px, 1px);height: 1px;margin: -1px;overflow: hidden;padding: 0;position: absolute;width: 1px;}#sk-container-id-1 div.sk-estimator {font-family: monospace;background-color: #f0f8ff;border: 1px dotted black;border-radius: 0.25em;box-sizing: border-box;margin-bottom: 0.5em;}#sk-container-id-1 div.sk-estimator:hover {background-color: #d4ebff;}#sk-container-id-1 div.sk-parallel-item::after {content: \"\";width: 100%;border-bottom: 1px solid gray;flex-grow: 1;}#sk-container-id-1 div.sk-label:hover label.sk-toggleable__label {background-color: #d4ebff;}#sk-container-id-1 div.sk-serial::before {content: \"\";position: absolute;border-left: 1px solid gray;box-sizing: border-box;top: 0;bottom: 0;left: 50%;z-index: 0;}#sk-container-id-1 div.sk-serial {display: flex;flex-direction: column;align-items: center;background-color: white;padding-right: 0.2em;padding-left: 0.2em;position: relative;}#sk-container-id-1 div.sk-item {position: relative;z-index: 1;}#sk-container-id-1 div.sk-parallel {display: flex;align-items: stretch;justify-content: center;background-color: white;position: relative;}#sk-container-id-1 div.sk-item::before, #sk-container-id-1 div.sk-parallel-item::before {content: \"\";position: absolute;border-left: 1px solid gray;box-sizing: border-box;top: 0;bottom: 0;left: 50%;z-index: -1;}#sk-container-id-1 div.sk-parallel-item {display: flex;flex-direction: column;z-index: 1;position: relative;background-color: white;}#sk-container-id-1 div.sk-parallel-item:first-child::after {align-self: flex-end;width: 50%;}#sk-container-id-1 div.sk-parallel-item:last-child::after {align-self: flex-start;width: 50%;}#sk-container-id-1 div.sk-parallel-item:only-child::after {width: 0;}#sk-container-id-1 div.sk-dashed-wrapped {border: 1px dashed gray;margin: 0 0.4em 0.5em 0.4em;box-sizing: border-box;padding-bottom: 0.4em;background-color: white;}#sk-container-id-1 div.sk-label label {font-family: monospace;font-weight: bold;display: inline-block;line-height: 1.2em;}#sk-container-id-1 div.sk-label-container {text-align: center;}#sk-container-id-1 div.sk-container {/* jupyter's `normalize.less` sets `[hidden] { display: none; }` but bootstrap.min.css set `[hidden] { display: none !important; }` so we also need the `!important` here to be able to override the default hidden behavior on the sphinx rendered scikit-learn.org. See: https://github.com/scikit-learn/scikit-learn/issues/21755 */display: inline-block !important;position: relative;}#sk-container-id-1 div.sk-text-repr-fallback {display: none;}</style><div id=\"sk-container-id-1\" class=\"sk-top-container\"><div class=\"sk-text-repr-fallback\"><pre>Pipeline(steps=[(&#x27;scale&#x27;, None), (&#x27;model&#x27;, LogisticRegression(C=0.1))])</pre><b>In a Jupyter environment, please rerun this cell to show the HTML representation or trust the notebook. <br />On GitHub, the HTML representation is unable to render, please try loading this page with nbviewer.org.</b></div><div class=\"sk-container\" hidden><div class=\"sk-item sk-dashed-wrapped\"><div class=\"sk-label-container\"><div class=\"sk-label sk-toggleable\"><input class=\"sk-toggleable__control sk-hidden--visually\" id=\"sk-estimator-id-1\" type=\"checkbox\" ><label for=\"sk-estimator-id-1\" class=\"sk-toggleable__label sk-toggleable__label-arrow\">Pipeline</label><div class=\"sk-toggleable__content\"><pre>Pipeline(steps=[(&#x27;scale&#x27;, None), (&#x27;model&#x27;, LogisticRegression(C=0.1))])</pre></div></div></div><div class=\"sk-serial\"><div class=\"sk-item\"><div class=\"sk-estimator sk-toggleable\"><input class=\"sk-toggleable__control sk-hidden--visually\" id=\"sk-estimator-id-2\" type=\"checkbox\" ><label for=\"sk-estimator-id-2\" class=\"sk-toggleable__label sk-toggleable__label-arrow\">None</label><div class=\"sk-toggleable__content\"><pre>None</pre></div></div></div><div class=\"sk-item\"><div class=\"sk-estimator sk-toggleable\"><input class=\"sk-toggleable__control sk-hidden--visually\" id=\"sk-estimator-id-3\" type=\"checkbox\" ><label for=\"sk-estimator-id-3\" class=\"sk-toggleable__label sk-toggleable__label-arrow\">LogisticRegression</label><div class=\"sk-toggleable__content\"><pre>LogisticRegression(C=0.1)</pre></div></div></div></div></div></div></div>"
      ],
      "text/plain": [
       "Pipeline(steps=[('scale', None), ('model', LogisticRegression(C=0.1))])"
      ]
     },
     "execution_count": 32,
     "metadata": {},
     "output_type": "execute_result"
    }
   ],
   "source": [
    "model.fit(X_train, y_train.values.ravel())"
   ]
  },
  {
   "cell_type": "code",
   "execution_count": 33,
   "id": "af59f8c0",
   "metadata": {
    "execution": {
     "iopub.execute_input": "2025-08-05T16:40:34.561363Z",
     "iopub.status.busy": "2025-08-05T16:40:34.560560Z",
     "iopub.status.idle": "2025-08-05T16:40:34.566151Z",
     "shell.execute_reply": "2025-08-05T16:40:34.565016Z"
    },
    "papermill": {
     "duration": 0.026095,
     "end_time": "2025-08-05T16:40:34.567785",
     "exception": false,
     "start_time": "2025-08-05T16:40:34.541690",
     "status": "completed"
    },
    "tags": []
   },
   "outputs": [],
   "source": [
    "from fairness_multiverse.universe import predict_w_threshold"
   ]
  },
  {
   "cell_type": "code",
   "execution_count": 34,
   "id": "a7cf2e16",
   "metadata": {
    "execution": {
     "iopub.execute_input": "2025-08-05T16:40:34.612314Z",
     "iopub.status.busy": "2025-08-05T16:40:34.611533Z",
     "iopub.status.idle": "2025-08-05T16:40:34.708434Z",
     "shell.execute_reply": "2025-08-05T16:40:34.707525Z"
    },
    "papermill": {
     "duration": 0.119395,
     "end_time": "2025-08-05T16:40:34.710020",
     "exception": false,
     "start_time": "2025-08-05T16:40:34.590625",
     "status": "completed"
    },
    "tags": []
   },
   "outputs": [
    {
     "data": {
      "text/plain": [
       "0.8521012150261955"
      ]
     },
     "execution_count": 34,
     "metadata": {},
     "output_type": "execute_result"
    }
   ],
   "source": [
    "probs_test = model.predict_proba(X_test)\n",
    "\n",
    "'''\n",
    "Below code returns a boolean array (or binary 0/1 array depending on how it’s used) where each element \n",
    "is True if the probability of class 1 is greater than or equal to the threshold, and False otherwise.\n",
    "'''\n",
    "y_pred_default = predict_w_threshold(probs_test, 0.5)\n",
    "\n",
    "from sklearn.metrics import accuracy_score\n",
    "\n",
    "# Naive prediction\n",
    "accuracy_score(y_true = y_true, y_pred = y_pred_default)"
   ]
  },
  {
   "cell_type": "code",
   "execution_count": 35,
   "id": "081964c3",
   "metadata": {
    "execution": {
     "iopub.execute_input": "2025-08-05T16:40:34.752160Z",
     "iopub.status.busy": "2025-08-05T16:40:34.751674Z",
     "iopub.status.idle": "2025-08-05T16:40:34.840632Z",
     "shell.execute_reply": "2025-08-05T16:40:34.839677Z"
    },
    "papermill": {
     "duration": 0.113512,
     "end_time": "2025-08-05T16:40:34.842454",
     "exception": false,
     "start_time": "2025-08-05T16:40:34.728942",
     "status": "completed"
    },
    "tags": []
   },
   "outputs": [
    {
     "data": {
      "text/plain": [
       "array([0, 0, 0, ..., 0, 0, 0])"
      ]
     },
     "execution_count": 35,
     "metadata": {},
     "output_type": "execute_result"
    }
   ],
   "source": [
    "model.predict(X_test)"
   ]
  },
  {
   "cell_type": "markdown",
   "id": "56c9705b",
   "metadata": {
    "papermill": {
     "duration": 0.019999,
     "end_time": "2025-08-05T16:40:34.887045",
     "exception": false,
     "start_time": "2025-08-05T16:40:34.867046",
     "status": "completed"
    },
    "tags": []
   },
   "source": [
    "# Conformal Prediction"
   ]
  },
  {
   "cell_type": "code",
   "execution_count": 36,
   "id": "160ec6ff",
   "metadata": {
    "execution": {
     "iopub.execute_input": "2025-08-05T16:40:34.926435Z",
     "iopub.status.busy": "2025-08-05T16:40:34.925409Z",
     "iopub.status.idle": "2025-08-05T16:40:34.930519Z",
     "shell.execute_reply": "2025-08-05T16:40:34.929642Z"
    },
    "papermill": {
     "duration": 0.026758,
     "end_time": "2025-08-05T16:40:34.931917",
     "exception": false,
     "start_time": "2025-08-05T16:40:34.905159",
     "status": "completed"
    },
    "tags": []
   },
   "outputs": [],
   "source": [
    "# Miscoverage level for conformal prediction (10% allowed error rate => 90% target coverage)\n",
    "alpha = 0.1"
   ]
  },
  {
   "cell_type": "code",
   "execution_count": 37,
   "id": "eadf4555-3dd3-440e-8e35-f82a4ad9f855",
   "metadata": {
    "execution": {
     "iopub.execute_input": "2025-08-05T16:40:34.972887Z",
     "iopub.status.busy": "2025-08-05T16:40:34.972151Z",
     "iopub.status.idle": "2025-08-05T16:40:35.059387Z",
     "shell.execute_reply": "2025-08-05T16:40:35.058438Z"
    },
    "papermill": {
     "duration": 0.109414,
     "end_time": "2025-08-05T16:40:35.061258",
     "exception": false,
     "start_time": "2025-08-05T16:40:34.951844",
     "status": "completed"
    },
    "tags": []
   },
   "outputs": [],
   "source": [
    "probs_calib = model.predict_proba(X_calib)"
   ]
  },
  {
   "cell_type": "code",
   "execution_count": 38,
   "id": "2ed93547-6d5d-4983-9b36-1ecb300da49a",
   "metadata": {
    "execution": {
     "iopub.execute_input": "2025-08-05T16:40:35.103204Z",
     "iopub.status.busy": "2025-08-05T16:40:35.102565Z",
     "iopub.status.idle": "2025-08-05T16:40:35.108614Z",
     "shell.execute_reply": "2025-08-05T16:40:35.107623Z"
    },
    "papermill": {
     "duration": 0.029054,
     "end_time": "2025-08-05T16:40:35.110342",
     "exception": false,
     "start_time": "2025-08-05T16:40:35.081288",
     "status": "completed"
    },
    "tags": []
   },
   "outputs": [],
   "source": [
    "y_calib = y_calib.values.ravel().astype(int)"
   ]
  },
  {
   "cell_type": "code",
   "execution_count": 39,
   "id": "65d1320d-f588-4b38-9072-62af1ae97f7d",
   "metadata": {
    "execution": {
     "iopub.execute_input": "2025-08-05T16:40:35.150662Z",
     "iopub.status.busy": "2025-08-05T16:40:35.150149Z",
     "iopub.status.idle": "2025-08-05T16:40:35.157205Z",
     "shell.execute_reply": "2025-08-05T16:40:35.156234Z"
    },
    "papermill": {
     "duration": 0.0289,
     "end_time": "2025-08-05T16:40:35.158978",
     "exception": false,
     "start_time": "2025-08-05T16:40:35.130078",
     "status": "completed"
    },
    "tags": []
   },
   "outputs": [],
   "source": [
    "from fairness_multiverse.conformal import compute_nc_scores\n",
    "\n",
    "# Compute nonconformity scores on calibration set (1 - probability of true class)\n",
    "nc_scores = compute_nc_scores(probs_calib, y_calib)"
   ]
  },
  {
   "cell_type": "code",
   "execution_count": 40,
   "id": "df3b8ca3-53b7-43d5-9667-7c85da7aeda2",
   "metadata": {
    "execution": {
     "iopub.execute_input": "2025-08-05T16:40:35.201439Z",
     "iopub.status.busy": "2025-08-05T16:40:35.200782Z",
     "iopub.status.idle": "2025-08-05T16:40:35.207139Z",
     "shell.execute_reply": "2025-08-05T16:40:35.206213Z"
    },
    "papermill": {
     "duration": 0.029493,
     "end_time": "2025-08-05T16:40:35.208991",
     "exception": false,
     "start_time": "2025-08-05T16:40:35.179498",
     "status": "completed"
    },
    "tags": []
   },
   "outputs": [],
   "source": [
    "from fairness_multiverse.conformal import find_threshold\n",
    "\n",
    "# Find conformal threshold q_hat for the given alpha (split conformal method)\n",
    "q_hat = find_threshold(nc_scores, alpha)"
   ]
  },
  {
   "cell_type": "code",
   "execution_count": 41,
   "id": "4d29e6c1-0ef6-4aa4-b8fe-4fe79b0d033a",
   "metadata": {
    "execution": {
     "iopub.execute_input": "2025-08-05T16:40:35.249809Z",
     "iopub.status.busy": "2025-08-05T16:40:35.249335Z",
     "iopub.status.idle": "2025-08-05T16:40:35.256770Z",
     "shell.execute_reply": "2025-08-05T16:40:35.255804Z"
    },
    "papermill": {
     "duration": 0.029229,
     "end_time": "2025-08-05T16:40:35.258553",
     "exception": false,
     "start_time": "2025-08-05T16:40:35.229324",
     "status": "completed"
    },
    "tags": []
   },
   "outputs": [
    {
     "data": {
      "text/plain": [
       "0.6947423126723434"
      ]
     },
     "execution_count": 41,
     "metadata": {},
     "output_type": "execute_result"
    }
   ],
   "source": [
    "q_hat"
   ]
  },
  {
   "cell_type": "code",
   "execution_count": 42,
   "id": "92460794-cdac-4be2-ba28-f28c0515a6fb",
   "metadata": {
    "execution": {
     "iopub.execute_input": "2025-08-05T16:40:35.298807Z",
     "iopub.status.busy": "2025-08-05T16:40:35.298306Z",
     "iopub.status.idle": "2025-08-05T16:40:36.372868Z",
     "shell.execute_reply": "2025-08-05T16:40:36.371885Z"
    },
    "papermill": {
     "duration": 1.096203,
     "end_time": "2025-08-05T16:40:36.374795",
     "exception": false,
     "start_time": "2025-08-05T16:40:35.278592",
     "status": "completed"
    },
    "tags": []
   },
   "outputs": [],
   "source": [
    "from fairness_multiverse.conformal import predict_conformal_sets\n",
    "\n",
    "# Generate prediction sets for each test example\n",
    "pred_sets = predict_conformal_sets(model, X_test, q_hat)"
   ]
  },
  {
   "cell_type": "code",
   "execution_count": 43,
   "id": "d90c9a65-e6db-4f5d-80cd-e68fb7e46829",
   "metadata": {
    "execution": {
     "iopub.execute_input": "2025-08-05T16:40:36.419042Z",
     "iopub.status.busy": "2025-08-05T16:40:36.418276Z",
     "iopub.status.idle": "2025-08-05T16:40:36.422823Z",
     "shell.execute_reply": "2025-08-05T16:40:36.422083Z"
    },
    "papermill": {
     "duration": 0.027666,
     "end_time": "2025-08-05T16:40:36.424045",
     "exception": false,
     "start_time": "2025-08-05T16:40:36.396379",
     "status": "completed"
    },
    "tags": []
   },
   "outputs": [],
   "source": [
    "y_true = y_true.squeeze()"
   ]
  },
  {
   "cell_type": "code",
   "execution_count": 44,
   "id": "3a58a54a-1e68-46b9-927a-df01f18aebc8",
   "metadata": {
    "execution": {
     "iopub.execute_input": "2025-08-05T16:40:36.447500Z",
     "iopub.status.busy": "2025-08-05T16:40:36.447133Z",
     "iopub.status.idle": "2025-08-05T16:40:37.213341Z",
     "shell.execute_reply": "2025-08-05T16:40:37.212591Z"
    },
    "papermill": {
     "duration": 0.778944,
     "end_time": "2025-08-05T16:40:37.214789",
     "exception": false,
     "start_time": "2025-08-05T16:40:36.435845",
     "status": "completed"
    },
    "tags": []
   },
   "outputs": [],
   "source": [
    "from fairness_multiverse.conformal import evaluate_sets\n",
    "\n",
    "# Evaluate coverage and average set size on test data\n",
    "metrics = evaluate_sets(pred_sets, y_true)"
   ]
  },
  {
   "cell_type": "markdown",
   "id": "2b569c12-9aaa-4c88-98c9-bbcd0cf3ebb8",
   "metadata": {
    "papermill": {
     "duration": 0.010787,
     "end_time": "2025-08-05T16:40:37.239520",
     "exception": false,
     "start_time": "2025-08-05T16:40:37.228733",
     "status": "completed"
    },
    "tags": []
   },
   "source": [
    "# CP Metrics"
   ]
  },
  {
   "cell_type": "code",
   "execution_count": 45,
   "id": "5ce0a5cb-201f-45a0-ade5-94c7f0bd6095",
   "metadata": {
    "execution": {
     "iopub.execute_input": "2025-08-05T16:40:37.262351Z",
     "iopub.status.busy": "2025-08-05T16:40:37.262005Z",
     "iopub.status.idle": "2025-08-05T16:40:37.268096Z",
     "shell.execute_reply": "2025-08-05T16:40:37.267386Z"
    },
    "papermill": {
     "duration": 0.019668,
     "end_time": "2025-08-05T16:40:37.269835",
     "exception": false,
     "start_time": "2025-08-05T16:40:37.250167",
     "status": "completed"
    },
    "tags": []
   },
   "outputs": [
    {
     "data": {
      "text/plain": [
       "{'coverage': 0.9110021179355702, 'avg_size': 1.2133429940920744}"
      ]
     },
     "execution_count": 45,
     "metadata": {},
     "output_type": "execute_result"
    }
   ],
   "source": [
    "metrics"
   ]
  },
  {
   "cell_type": "code",
   "execution_count": 46,
   "id": "9b9a838d-31c9-430b-ae14-12baee460d17",
   "metadata": {
    "execution": {
     "iopub.execute_input": "2025-08-05T16:40:37.318834Z",
     "iopub.status.busy": "2025-08-05T16:40:37.318487Z",
     "iopub.status.idle": "2025-08-05T16:40:37.324148Z",
     "shell.execute_reply": "2025-08-05T16:40:37.323174Z"
    },
    "papermill": {
     "duration": 0.032004,
     "end_time": "2025-08-05T16:40:37.325601",
     "exception": false,
     "start_time": "2025-08-05T16:40:37.293597",
     "status": "completed"
    },
    "tags": []
   },
   "outputs": [],
   "source": [
    "example_universe = universe.copy()\n",
    "universe_training_year = example_universe.get(\"training_year\")\n",
    "universe_training_size = example_universe.get(\"training_size\")\n",
    "universe_scale = example_universe.get(\"scale\")\n",
    "universe_model = example_universe.get(\"model\")\n",
    "universe_exclude_features = example_universe.get(\"exclude_features\")\n",
    "universe_exclude_subgroups = example_universe.get(\"exclude_subgroups\")"
   ]
  },
  {
   "cell_type": "code",
   "execution_count": 47,
   "id": "f4b6a8ac-9dc0-4245-8a91-5b3b5999c4f9",
   "metadata": {
    "execution": {
     "iopub.execute_input": "2025-08-05T16:40:37.349918Z",
     "iopub.status.busy": "2025-08-05T16:40:37.349512Z",
     "iopub.status.idle": "2025-08-05T16:40:37.354350Z",
     "shell.execute_reply": "2025-08-05T16:40:37.353507Z"
    },
    "papermill": {
     "duration": 0.018157,
     "end_time": "2025-08-05T16:40:37.355851",
     "exception": false,
     "start_time": "2025-08-05T16:40:37.337694",
     "status": "completed"
    },
    "tags": []
   },
   "outputs": [],
   "source": [
    "cp_metrics_dict = {\n",
    "    \"universe_id\": [universe_id],\n",
    "    \"universe_training_year\": [universe_training_year],\n",
    "    \"universe_training_size\": [universe_training_size],\n",
    "    \"universe_scale\": [universe_scale],\n",
    "    \"universe_model\": [universe_model],\n",
    "    \"universe_exclude_features\": [universe_exclude_features],\n",
    "    \"universe_exclude_subgroups\": [universe_exclude_subgroups],\n",
    "    \"q_hat\": [q_hat],\n",
    "    \"coverage\": [metrics[\"coverage\"]],\n",
    "    \"avg_size\": [metrics[\"avg_size\"]],\n",
    "}"
   ]
  },
  {
   "cell_type": "code",
   "execution_count": 48,
   "id": "908acbb1-0371-4915-85ca-3fa520d2efe2",
   "metadata": {
    "execution": {
     "iopub.execute_input": "2025-08-05T16:40:37.408371Z",
     "iopub.status.busy": "2025-08-05T16:40:37.408008Z",
     "iopub.status.idle": "2025-08-05T16:40:37.415850Z",
     "shell.execute_reply": "2025-08-05T16:40:37.415021Z"
    },
    "papermill": {
     "duration": 0.037878,
     "end_time": "2025-08-05T16:40:37.417306",
     "exception": false,
     "start_time": "2025-08-05T16:40:37.379428",
     "status": "completed"
    },
    "tags": []
   },
   "outputs": [
    {
     "data": {
      "text/plain": [
       "{'universe_id': ['c18382a3c50e1c34c672010a2350d0e8'],\n",
       " 'universe_training_year': ['2010_14'],\n",
       " 'universe_training_size': ['1k'],\n",
       " 'universe_scale': ['do-not-scale'],\n",
       " 'universe_model': ['penalized_logreg'],\n",
       " 'universe_exclude_features': ['nationality-sex'],\n",
       " 'universe_exclude_subgroups': ['keep-all'],\n",
       " 'q_hat': [0.6947423126723434],\n",
       " 'coverage': [0.9110021179355702],\n",
       " 'avg_size': [1.2133429940920744]}"
      ]
     },
     "execution_count": 48,
     "metadata": {},
     "output_type": "execute_result"
    }
   ],
   "source": [
    "cp_metrics_dict"
   ]
  },
  {
   "cell_type": "code",
   "execution_count": 49,
   "id": "33007efc-14e9-4ec6-97ac-56a455c82265",
   "metadata": {
    "execution": {
     "iopub.execute_input": "2025-08-05T16:40:37.465226Z",
     "iopub.status.busy": "2025-08-05T16:40:37.464761Z",
     "iopub.status.idle": "2025-08-05T16:40:37.471166Z",
     "shell.execute_reply": "2025-08-05T16:40:37.470250Z"
    },
    "papermill": {
     "duration": 0.03137,
     "end_time": "2025-08-05T16:40:37.472856",
     "exception": false,
     "start_time": "2025-08-05T16:40:37.441486",
     "status": "completed"
    },
    "tags": []
   },
   "outputs": [],
   "source": [
    "cp_metrics_df = pd.DataFrame(cp_metrics_dict)"
   ]
  },
  {
   "cell_type": "code",
   "execution_count": 50,
   "id": "db12611b-57b2-4910-b9d0-355adfd6e7bf",
   "metadata": {
    "execution": {
     "iopub.execute_input": "2025-08-05T16:40:37.518710Z",
     "iopub.status.busy": "2025-08-05T16:40:37.518142Z",
     "iopub.status.idle": "2025-08-05T16:40:37.534232Z",
     "shell.execute_reply": "2025-08-05T16:40:37.533251Z"
    },
    "papermill": {
     "duration": 0.041207,
     "end_time": "2025-08-05T16:40:37.535829",
     "exception": false,
     "start_time": "2025-08-05T16:40:37.494622",
     "status": "completed"
    },
    "tags": []
   },
   "outputs": [
    {
     "data": {
      "text/html": [
       "<div>\n",
       "<style scoped>\n",
       "    .dataframe tbody tr th:only-of-type {\n",
       "        vertical-align: middle;\n",
       "    }\n",
       "\n",
       "    .dataframe tbody tr th {\n",
       "        vertical-align: top;\n",
       "    }\n",
       "\n",
       "    .dataframe thead th {\n",
       "        text-align: right;\n",
       "    }\n",
       "</style>\n",
       "<table border=\"1\" class=\"dataframe\">\n",
       "  <thead>\n",
       "    <tr style=\"text-align: right;\">\n",
       "      <th></th>\n",
       "      <th>universe_id</th>\n",
       "      <th>universe_training_year</th>\n",
       "      <th>universe_training_size</th>\n",
       "      <th>universe_scale</th>\n",
       "      <th>universe_model</th>\n",
       "      <th>universe_exclude_features</th>\n",
       "      <th>universe_exclude_subgroups</th>\n",
       "      <th>q_hat</th>\n",
       "      <th>coverage</th>\n",
       "      <th>avg_size</th>\n",
       "    </tr>\n",
       "  </thead>\n",
       "  <tbody>\n",
       "    <tr>\n",
       "      <th>0</th>\n",
       "      <td>c18382a3c50e1c34c672010a2350d0e8</td>\n",
       "      <td>2010_14</td>\n",
       "      <td>1k</td>\n",
       "      <td>do-not-scale</td>\n",
       "      <td>penalized_logreg</td>\n",
       "      <td>nationality-sex</td>\n",
       "      <td>keep-all</td>\n",
       "      <td>0.694742</td>\n",
       "      <td>0.911002</td>\n",
       "      <td>1.213343</td>\n",
       "    </tr>\n",
       "  </tbody>\n",
       "</table>\n",
       "</div>"
      ],
      "text/plain": [
       "                        universe_id universe_training_year  \\\n",
       "0  c18382a3c50e1c34c672010a2350d0e8                2010_14   \n",
       "\n",
       "  universe_training_size universe_scale    universe_model  \\\n",
       "0                     1k   do-not-scale  penalized_logreg   \n",
       "\n",
       "  universe_exclude_features universe_exclude_subgroups     q_hat  coverage  \\\n",
       "0           nationality-sex                   keep-all  0.694742  0.911002   \n",
       "\n",
       "   avg_size  \n",
       "0  1.213343  "
      ]
     },
     "execution_count": 50,
     "metadata": {},
     "output_type": "execute_result"
    }
   ],
   "source": [
    "cp_metrics_df"
   ]
  },
  {
   "cell_type": "code",
   "execution_count": 51,
   "id": "b7fbde55-a0a1-47e4-9af6-fe4a17fa8c61",
   "metadata": {
    "execution": {
     "iopub.execute_input": "2025-08-05T16:40:37.581268Z",
     "iopub.status.busy": "2025-08-05T16:40:37.580802Z",
     "iopub.status.idle": "2025-08-05T16:40:37.584950Z",
     "shell.execute_reply": "2025-08-05T16:40:37.584203Z"
    },
    "papermill": {
     "duration": 0.026433,
     "end_time": "2025-08-05T16:40:37.586343",
     "exception": false,
     "start_time": "2025-08-05T16:40:37.559910",
     "status": "completed"
    },
    "tags": []
   },
   "outputs": [],
   "source": [
    "# Conditional Coverage & looking at subgroups"
   ]
  },
  {
   "cell_type": "code",
   "execution_count": 52,
   "id": "027ae886-68dd-4141-96c7-805a5450e1ef",
   "metadata": {
    "execution": {
     "iopub.execute_input": "2025-08-05T16:40:37.612005Z",
     "iopub.status.busy": "2025-08-05T16:40:37.611097Z",
     "iopub.status.idle": "2025-08-05T16:40:37.846841Z",
     "shell.execute_reply": "2025-08-05T16:40:37.845917Z"
    },
    "papermill": {
     "duration": 0.249894,
     "end_time": "2025-08-05T16:40:37.848633",
     "exception": false,
     "start_time": "2025-08-05T16:40:37.598739",
     "status": "completed"
    },
    "tags": []
   },
   "outputs": [],
   "source": [
    "from fairness_multiverse.conformal import build_cp_groups\n",
    "\n",
    "cp_groups_df = build_cp_groups(pred_sets, y_true, X_test.index, org_test)\n",
    "#needs universe_id and setting"
   ]
  },
  {
   "cell_type": "code",
   "execution_count": 53,
   "id": "6cbdab96-b2b2-45af-ad54-d0516db2e28d",
   "metadata": {
    "execution": {
     "iopub.execute_input": "2025-08-05T16:40:37.894502Z",
     "iopub.status.busy": "2025-08-05T16:40:37.893621Z",
     "iopub.status.idle": "2025-08-05T16:40:39.177598Z",
     "shell.execute_reply": "2025-08-05T16:40:39.173936Z"
    },
    "papermill": {
     "duration": 1.309449,
     "end_time": "2025-08-05T16:40:39.179822",
     "exception": false,
     "start_time": "2025-08-05T16:40:37.870373",
     "status": "completed"
    },
    "tags": []
   },
   "outputs": [],
   "source": [
    "# Define covered = 1 if true_label is in the predicted set\n",
    "cp_groups_df['covered'] = cp_groups_df.apply(\n",
    "    lambda r: int(r['true_label'] in r['pred_set']),\n",
    "    axis=1\n",
    ")"
   ]
  },
  {
   "cell_type": "code",
   "execution_count": 54,
   "id": "338ff529-1a6b-4b87-a931-8e4788d52aad",
   "metadata": {
    "execution": {
     "iopub.execute_input": "2025-08-05T16:40:39.228948Z",
     "iopub.status.busy": "2025-08-05T16:40:39.228124Z",
     "iopub.status.idle": "2025-08-05T16:40:39.233573Z",
     "shell.execute_reply": "2025-08-05T16:40:39.232527Z"
    },
    "papermill": {
     "duration": 0.031968,
     "end_time": "2025-08-05T16:40:39.235545",
     "exception": false,
     "start_time": "2025-08-05T16:40:39.203577",
     "status": "completed"
    },
    "tags": []
   },
   "outputs": [],
   "source": [
    "#cp_groups_df"
   ]
  },
  {
   "cell_type": "code",
   "execution_count": 55,
   "id": "90032e27-66df-4540-9169-4e89cfbaa758",
   "metadata": {
    "execution": {
     "iopub.execute_input": "2025-08-05T16:40:39.282407Z",
     "iopub.status.busy": "2025-08-05T16:40:39.281901Z",
     "iopub.status.idle": "2025-08-05T16:40:39.292160Z",
     "shell.execute_reply": "2025-08-05T16:40:39.291317Z"
    },
    "papermill": {
     "duration": 0.03688,
     "end_time": "2025-08-05T16:40:39.293469",
     "exception": false,
     "start_time": "2025-08-05T16:40:39.256589",
     "status": "completed"
    },
    "tags": []
   },
   "outputs": [],
   "source": [
    "subgroups = ['frau1','nongerman','nongerman_male','nongerman_female']\n",
    "\n",
    "# Conditional coverage for subgroup==1\n",
    "cond_coverage = {\n",
    "    g: cp_groups_df.loc[cp_groups_df[g]==1, 'covered'].mean()\n",
    "    for g in subgroups\n",
    "}"
   ]
  },
  {
   "cell_type": "code",
   "execution_count": 56,
   "id": "1e348fb1-b9c3-45bc-ba23-f016827a7e0d",
   "metadata": {
    "execution": {
     "iopub.execute_input": "2025-08-05T16:40:39.319449Z",
     "iopub.status.busy": "2025-08-05T16:40:39.319096Z",
     "iopub.status.idle": "2025-08-05T16:40:39.325250Z",
     "shell.execute_reply": "2025-08-05T16:40:39.324460Z"
    },
    "papermill": {
     "duration": 0.020222,
     "end_time": "2025-08-05T16:40:39.326846",
     "exception": false,
     "start_time": "2025-08-05T16:40:39.306624",
     "status": "completed"
    },
    "tags": []
   },
   "outputs": [
    {
     "data": {
      "text/plain": [
       "{'frau1': 0.9104461517724761,\n",
       " 'nongerman': 0.9261775108067142,\n",
       " 'nongerman_male': 0.9408268035666036,\n",
       " 'nongerman_female': 0.9019374068554397}"
      ]
     },
     "execution_count": 56,
     "metadata": {},
     "output_type": "execute_result"
    }
   ],
   "source": [
    "cond_coverage"
   ]
  },
  {
   "cell_type": "code",
   "execution_count": 57,
   "id": "f5093324-c3dd-4d63-bc4c-8d945e5c8bbb",
   "metadata": {
    "execution": {
     "iopub.execute_input": "2025-08-05T16:40:39.353062Z",
     "iopub.status.busy": "2025-08-05T16:40:39.352664Z",
     "iopub.status.idle": "2025-08-05T16:40:39.358166Z",
     "shell.execute_reply": "2025-08-05T16:40:39.357299Z"
    },
    "papermill": {
     "duration": 0.019703,
     "end_time": "2025-08-05T16:40:39.359756",
     "exception": false,
     "start_time": "2025-08-05T16:40:39.340053",
     "status": "completed"
    },
    "tags": []
   },
   "outputs": [],
   "source": [
    "for subgroup, cov in cond_coverage.items():\n",
    "    cp_metrics_df[f\"cov_{subgroup}\"] = cov"
   ]
  },
  {
   "cell_type": "code",
   "execution_count": 58,
   "id": "6e872e10-dbe5-49e8-b554-5030c98ff75d",
   "metadata": {
    "execution": {
     "iopub.execute_input": "2025-08-05T16:40:39.386171Z",
     "iopub.status.busy": "2025-08-05T16:40:39.385397Z",
     "iopub.status.idle": "2025-08-05T16:40:39.406332Z",
     "shell.execute_reply": "2025-08-05T16:40:39.405190Z"
    },
    "papermill": {
     "duration": 0.035617,
     "end_time": "2025-08-05T16:40:39.408243",
     "exception": false,
     "start_time": "2025-08-05T16:40:39.372626",
     "status": "completed"
    },
    "tags": []
   },
   "outputs": [
    {
     "data": {
      "text/html": [
       "<div>\n",
       "<style scoped>\n",
       "    .dataframe tbody tr th:only-of-type {\n",
       "        vertical-align: middle;\n",
       "    }\n",
       "\n",
       "    .dataframe tbody tr th {\n",
       "        vertical-align: top;\n",
       "    }\n",
       "\n",
       "    .dataframe thead th {\n",
       "        text-align: right;\n",
       "    }\n",
       "</style>\n",
       "<table border=\"1\" class=\"dataframe\">\n",
       "  <thead>\n",
       "    <tr style=\"text-align: right;\">\n",
       "      <th></th>\n",
       "      <th>universe_id</th>\n",
       "      <th>universe_training_year</th>\n",
       "      <th>universe_training_size</th>\n",
       "      <th>universe_scale</th>\n",
       "      <th>universe_model</th>\n",
       "      <th>universe_exclude_features</th>\n",
       "      <th>universe_exclude_subgroups</th>\n",
       "      <th>q_hat</th>\n",
       "      <th>coverage</th>\n",
       "      <th>avg_size</th>\n",
       "      <th>cov_frau1</th>\n",
       "      <th>cov_nongerman</th>\n",
       "      <th>cov_nongerman_male</th>\n",
       "      <th>cov_nongerman_female</th>\n",
       "    </tr>\n",
       "  </thead>\n",
       "  <tbody>\n",
       "    <tr>\n",
       "      <th>0</th>\n",
       "      <td>c18382a3c50e1c34c672010a2350d0e8</td>\n",
       "      <td>2010_14</td>\n",
       "      <td>1k</td>\n",
       "      <td>do-not-scale</td>\n",
       "      <td>penalized_logreg</td>\n",
       "      <td>nationality-sex</td>\n",
       "      <td>keep-all</td>\n",
       "      <td>0.694742</td>\n",
       "      <td>0.911002</td>\n",
       "      <td>1.213343</td>\n",
       "      <td>0.910446</td>\n",
       "      <td>0.926178</td>\n",
       "      <td>0.940827</td>\n",
       "      <td>0.901937</td>\n",
       "    </tr>\n",
       "  </tbody>\n",
       "</table>\n",
       "</div>"
      ],
      "text/plain": [
       "                        universe_id universe_training_year  \\\n",
       "0  c18382a3c50e1c34c672010a2350d0e8                2010_14   \n",
       "\n",
       "  universe_training_size universe_scale    universe_model  \\\n",
       "0                     1k   do-not-scale  penalized_logreg   \n",
       "\n",
       "  universe_exclude_features universe_exclude_subgroups     q_hat  coverage  \\\n",
       "0           nationality-sex                   keep-all  0.694742  0.911002   \n",
       "\n",
       "   avg_size  cov_frau1  cov_nongerman  cov_nongerman_male  \\\n",
       "0  1.213343   0.910446       0.926178            0.940827   \n",
       "\n",
       "   cov_nongerman_female  \n",
       "0              0.901937  "
      ]
     },
     "execution_count": 58,
     "metadata": {},
     "output_type": "execute_result"
    }
   ],
   "source": [
    "cp_metrics_df"
   ]
  },
  {
   "cell_type": "markdown",
   "id": "33774451",
   "metadata": {
    "papermill": {
     "duration": 0.023742,
     "end_time": "2025-08-05T16:40:39.457047",
     "exception": false,
     "start_time": "2025-08-05T16:40:39.433305",
     "status": "completed"
    },
    "tags": []
   },
   "source": [
    "# (Fairness) Metrics"
   ]
  },
  {
   "cell_type": "code",
   "execution_count": 59,
   "id": "debc5d62",
   "metadata": {
    "execution": {
     "iopub.execute_input": "2025-08-05T16:40:39.507213Z",
     "iopub.status.busy": "2025-08-05T16:40:39.506409Z",
     "iopub.status.idle": "2025-08-05T16:40:39.527781Z",
     "shell.execute_reply": "2025-08-05T16:40:39.526805Z"
    },
    "papermill": {
     "duration": 0.048837,
     "end_time": "2025-08-05T16:40:39.529680",
     "exception": false,
     "start_time": "2025-08-05T16:40:39.480843",
     "status": "completed"
    },
    "tags": []
   },
   "outputs": [],
   "source": [
    "# do I need to include maxdeutsch1.missing?\n",
    "\n",
    "import numpy as np\n",
    "\n",
    "colname_to_bin = \"maxdeutsch1\"\n",
    "majority_value = org_train[colname_to_bin].mode()[0]\n",
    "\n",
    "org_test[\"majmin\"] = np.where(org_test[colname_to_bin] == majority_value, \"majority\", \"minority\")"
   ]
  },
  {
   "cell_type": "code",
   "execution_count": 60,
   "id": "06a50de5",
   "metadata": {
    "execution": {
     "iopub.execute_input": "2025-08-05T16:40:39.580932Z",
     "iopub.status.busy": "2025-08-05T16:40:39.580397Z",
     "iopub.status.idle": "2025-08-05T16:40:42.368024Z",
     "shell.execute_reply": "2025-08-05T16:40:42.366910Z"
    },
    "papermill": {
     "duration": 2.814984,
     "end_time": "2025-08-05T16:40:42.369824",
     "exception": false,
     "start_time": "2025-08-05T16:40:39.554840",
     "status": "completed"
    },
    "tags": []
   },
   "outputs": [],
   "source": [
    "example_universe = universe.copy()\n",
    "example_universe[\"cutoff\"] = example_universe[\"cutoff\"][0]\n",
    "example_universe[\"eval_fairness_grouping\"] = example_universe[\"eval_fairness_grouping\"][0]\n",
    "fairness_dict, metric_frame = universe_analysis.compute_metrics(\n",
    "    example_universe,\n",
    "    y_pred_prob=probs_test,\n",
    "    y_test=y_true,\n",
    "    org_test=org_test,\n",
    ")"
   ]
  },
  {
   "cell_type": "markdown",
   "id": "f95d4e02",
   "metadata": {
    "papermill": {
     "duration": 0.021905,
     "end_time": "2025-08-05T16:40:42.417684",
     "exception": false,
     "start_time": "2025-08-05T16:40:42.395779",
     "status": "completed"
    },
    "tags": []
   },
   "source": [
    "# Overall"
   ]
  },
  {
   "cell_type": "markdown",
   "id": "bdee4871",
   "metadata": {
    "papermill": {
     "duration": 0.02581,
     "end_time": "2025-08-05T16:40:42.469239",
     "exception": false,
     "start_time": "2025-08-05T16:40:42.443429",
     "status": "completed"
    },
    "tags": []
   },
   "source": [
    "Fairness\n",
    "Main fairness target: Equalized Odds. Seems to be a better fit than equal opportunity, since we're not only interested in Y = 1. Seems to be a better fit than demographic parity, since we also care about accuracy, not just equal distribution of preds.\n",
    "\n",
    "Pick column for computation of fairness metrics\n",
    "\n",
    "Performance\n",
    "Overall performance measures, most interesting in relation to the measures split by group below"
   ]
  },
  {
   "cell_type": "code",
   "execution_count": 61,
   "id": "c4e067c6",
   "metadata": {
    "execution": {
     "iopub.execute_input": "2025-08-05T16:40:42.532138Z",
     "iopub.status.busy": "2025-08-05T16:40:42.531471Z",
     "iopub.status.idle": "2025-08-05T16:40:42.540552Z",
     "shell.execute_reply": "2025-08-05T16:40:42.539497Z"
    },
    "papermill": {
     "duration": 0.04208,
     "end_time": "2025-08-05T16:40:42.542689",
     "exception": false,
     "start_time": "2025-08-05T16:40:42.500609",
     "status": "completed"
    },
    "tags": []
   },
   "outputs": [
    {
     "data": {
      "text/plain": [
       "accuracy                   0.215037\n",
       "balanced accuracy          0.527752\n",
       "f1                         0.236626\n",
       "precision                  0.135176\n",
       "false positive rate        0.892880\n",
       "false negative rate        0.051616\n",
       "selection rate             0.900000\n",
       "count                  89710.000000\n",
       "dtype: float64"
      ]
     },
     "execution_count": 61,
     "metadata": {},
     "output_type": "execute_result"
    }
   ],
   "source": [
    "metric_frame.overall"
   ]
  },
  {
   "cell_type": "markdown",
   "id": "e968fe9d",
   "metadata": {
    "papermill": {
     "duration": 0.021256,
     "end_time": "2025-08-05T16:40:42.586414",
     "exception": false,
     "start_time": "2025-08-05T16:40:42.565158",
     "status": "completed"
    },
    "tags": []
   },
   "source": [
    "By Group"
   ]
  },
  {
   "cell_type": "code",
   "execution_count": 62,
   "id": "ec325bce",
   "metadata": {
    "execution": {
     "iopub.execute_input": "2025-08-05T16:40:42.631617Z",
     "iopub.status.busy": "2025-08-05T16:40:42.630952Z",
     "iopub.status.idle": "2025-08-05T16:40:42.646902Z",
     "shell.execute_reply": "2025-08-05T16:40:42.645894Z"
    },
    "papermill": {
     "duration": 0.040813,
     "end_time": "2025-08-05T16:40:42.648650",
     "exception": false,
     "start_time": "2025-08-05T16:40:42.607837",
     "status": "completed"
    },
    "tags": []
   },
   "outputs": [
    {
     "data": {
      "text/html": [
       "<div>\n",
       "<style scoped>\n",
       "    .dataframe tbody tr th:only-of-type {\n",
       "        vertical-align: middle;\n",
       "    }\n",
       "\n",
       "    .dataframe tbody tr th {\n",
       "        vertical-align: top;\n",
       "    }\n",
       "\n",
       "    .dataframe thead th {\n",
       "        text-align: right;\n",
       "    }\n",
       "</style>\n",
       "<table border=\"1\" class=\"dataframe\">\n",
       "  <thead>\n",
       "    <tr style=\"text-align: right;\">\n",
       "      <th></th>\n",
       "      <th>accuracy</th>\n",
       "      <th>balanced accuracy</th>\n",
       "      <th>f1</th>\n",
       "      <th>precision</th>\n",
       "      <th>false positive rate</th>\n",
       "      <th>false negative rate</th>\n",
       "      <th>selection rate</th>\n",
       "      <th>count</th>\n",
       "    </tr>\n",
       "    <tr>\n",
       "      <th>majmin</th>\n",
       "      <th></th>\n",
       "      <th></th>\n",
       "      <th></th>\n",
       "      <th></th>\n",
       "      <th></th>\n",
       "      <th></th>\n",
       "      <th></th>\n",
       "      <th></th>\n",
       "    </tr>\n",
       "  </thead>\n",
       "  <tbody>\n",
       "    <tr>\n",
       "      <th>majority</th>\n",
       "      <td>0.236562</td>\n",
       "      <td>0.534377</td>\n",
       "      <td>0.245345</td>\n",
       "      <td>0.141103</td>\n",
       "      <td>0.870415</td>\n",
       "      <td>0.060832</td>\n",
       "      <td>0.879500</td>\n",
       "      <td>69170.0</td>\n",
       "    </tr>\n",
       "    <tr>\n",
       "      <th>minority</th>\n",
       "      <td>0.142551</td>\n",
       "      <td>0.508430</td>\n",
       "      <td>0.209231</td>\n",
       "      <td>0.117062</td>\n",
       "      <td>0.967092</td>\n",
       "      <td>0.016047</td>\n",
       "      <td>0.969036</td>\n",
       "      <td>20540.0</td>\n",
       "    </tr>\n",
       "  </tbody>\n",
       "</table>\n",
       "</div>"
      ],
      "text/plain": [
       "          accuracy  balanced accuracy        f1  precision  \\\n",
       "majmin                                                       \n",
       "majority  0.236562           0.534377  0.245345   0.141103   \n",
       "minority  0.142551           0.508430  0.209231   0.117062   \n",
       "\n",
       "          false positive rate  false negative rate  selection rate    count  \n",
       "majmin                                                                       \n",
       "majority             0.870415             0.060832        0.879500  69170.0  \n",
       "minority             0.967092             0.016047        0.969036  20540.0  "
      ]
     },
     "execution_count": 62,
     "metadata": {},
     "output_type": "execute_result"
    }
   ],
   "source": [
    "metric_frame.by_group"
   ]
  },
  {
   "cell_type": "code",
   "execution_count": 63,
   "id": "a9ddbe63",
   "metadata": {
    "execution": {
     "iopub.execute_input": "2025-08-05T16:40:42.693754Z",
     "iopub.status.busy": "2025-08-05T16:40:42.692919Z",
     "iopub.status.idle": "2025-08-05T16:40:44.879640Z",
     "shell.execute_reply": "2025-08-05T16:40:44.878641Z"
    },
    "papermill": {
     "duration": 2.210125,
     "end_time": "2025-08-05T16:40:44.881274",
     "exception": false,
     "start_time": "2025-08-05T16:40:42.671149",
     "status": "completed"
    },
    "tags": []
   },
   "outputs": [
    {
     "data": {
      "text/plain": [
       "array([[<Axes: title={'center': 'accuracy'}, xlabel='majmin'>,\n",
       "        <Axes: title={'center': 'balanced accuracy'}, xlabel='majmin'>,\n",
       "        <Axes: title={'center': 'f1'}, xlabel='majmin'>],\n",
       "       [<Axes: title={'center': 'precision'}, xlabel='majmin'>,\n",
       "        <Axes: title={'center': 'false positive rate'}, xlabel='majmin'>,\n",
       "        <Axes: title={'center': 'false negative rate'}, xlabel='majmin'>],\n",
       "       [<Axes: title={'center': 'selection rate'}, xlabel='majmin'>,\n",
       "        <Axes: title={'center': 'count'}, xlabel='majmin'>,\n",
       "        <Axes: xlabel='majmin'>]], dtype=object)"
      ]
     },
     "execution_count": 63,
     "metadata": {},
     "output_type": "execute_result"
    },
    {
     "data": {
      "image/png": "[encoded data removed]",
      "text/plain": [
       "<Figure size 1200x800 with 9 Axes>"
      ]
     },
     "metadata": {},
     "output_type": "display_data"
    }
   ],
   "source": [
    "# In a graphic\n",
    "metric_frame.by_group.plot.bar(\n",
    "    subplots=True,\n",
    "    layout=[3, 3],\n",
    "    legend=False,\n",
    "    figsize=[12, 8],\n",
    "    title=\"Show all metrics\",\n",
    ")"
   ]
  },
  {
   "cell_type": "markdown",
   "id": "f57a0bac",
   "metadata": {
    "papermill": {
     "duration": 0.023071,
     "end_time": "2025-08-05T16:40:44.928724",
     "exception": false,
     "start_time": "2025-08-05T16:40:44.905653",
     "status": "completed"
    },
    "tags": []
   },
   "source": [
    "# Final Output"
   ]
  },
  {
   "cell_type": "code",
   "execution_count": 64,
   "id": "96d280a3",
   "metadata": {
    "execution": {
     "iopub.execute_input": "2025-08-05T16:40:44.976283Z",
     "iopub.status.busy": "2025-08-05T16:40:44.975815Z",
     "iopub.status.idle": "2025-08-05T16:40:44.982994Z",
     "shell.execute_reply": "2025-08-05T16:40:44.981766Z"
    },
    "papermill": {
     "duration": 0.032622,
     "end_time": "2025-08-05T16:40:44.985264",
     "exception": false,
     "start_time": "2025-08-05T16:40:44.952642",
     "status": "completed"
    },
    "tags": []
   },
   "outputs": [
    {
     "data": {
      "text/plain": [
       "4"
      ]
     },
     "execution_count": 64,
     "metadata": {},
     "output_type": "execute_result"
    }
   ],
   "source": [
    "sub_universes = universe_analysis.generate_sub_universes()\n",
    "len(sub_universes)"
   ]
  },
  {
   "cell_type": "code",
   "execution_count": 65,
   "id": "92adf7ba",
   "metadata": {
    "execution": {
     "iopub.execute_input": "2025-08-05T16:40:45.014172Z",
     "iopub.status.busy": "2025-08-05T16:40:45.013414Z",
     "iopub.status.idle": "2025-08-05T16:40:45.038524Z",
     "shell.execute_reply": "2025-08-05T16:40:45.037603Z"
    },
    "papermill": {
     "duration": 0.040759,
     "end_time": "2025-08-05T16:40:45.040133",
     "exception": false,
     "start_time": "2025-08-05T16:40:44.999374",
     "status": "completed"
    },
    "tags": []
   },
   "outputs": [],
   "source": [
    "def filter_sub_universe_data(sub_universe, org_test):\n",
    "    # Keep all rows — no filtering\n",
    "    keep_rows_mask = np.ones(org_test.shape[0], dtype=bool)\n",
    "\n",
    "    print(f\"[INFO] Keeping all rows: {keep_rows_mask.sum()} rows retained.\")\n",
    "    return keep_rows_mask"
   ]
  },
  {
   "cell_type": "code",
   "execution_count": 66,
   "id": "4a759155",
   "metadata": {
    "execution": {
     "iopub.execute_input": "2025-08-05T16:40:45.075288Z",
     "iopub.status.busy": "2025-08-05T16:40:45.074932Z",
     "iopub.status.idle": "2025-08-05T16:40:52.887285Z",
     "shell.execute_reply": "2025-08-05T16:40:52.886065Z"
    },
    "papermill": {
     "duration": 7.833942,
     "end_time": "2025-08-05T16:40:52.889186",
     "exception": false,
     "start_time": "2025-08-05T16:40:45.055244",
     "status": "completed"
    },
    "tags": []
   },
   "outputs": [
    {
     "name": "stdout",
     "output_type": "stream",
     "text": [
      "Stopping execution_time clock.\n",
      "[INFO] Keeping all rows: 89710 rows retained.\n"
     ]
    },
    {
     "name": "stdout",
     "output_type": "stream",
     "text": [
      "[INFO] Keeping all rows: 89710 rows retained.\n"
     ]
    },
    {
     "name": "stdout",
     "output_type": "stream",
     "text": [
      "[INFO] Keeping all rows: 89710 rows retained.\n"
     ]
    },
    {
     "name": "stdout",
     "output_type": "stream",
     "text": [
      "[INFO] Keeping all rows: 89710 rows retained.\n"
     ]
    },
    {
     "data": {
      "text/html": [
       "<div>\n",
       "<style scoped>\n",
       "    .dataframe tbody tr th:only-of-type {\n",
       "        vertical-align: middle;\n",
       "    }\n",
       "\n",
       "    .dataframe tbody tr th {\n",
       "        vertical-align: top;\n",
       "    }\n",
       "\n",
       "    .dataframe thead th {\n",
       "        text-align: right;\n",
       "    }\n",
       "</style>\n",
       "<table border=\"1\" class=\"dataframe\">\n",
       "  <thead>\n",
       "    <tr style=\"text-align: right;\">\n",
       "      <th></th>\n",
       "      <th>run_no</th>\n",
       "      <th>universe_id</th>\n",
       "      <th>universe_settings</th>\n",
       "      <th>execution_time</th>\n",
       "      <th>test_size_n</th>\n",
       "      <th>test_size_frac</th>\n",
       "      <th>fair_main_equalized_odds_difference</th>\n",
       "      <th>fair_main_equalized_odds_ratio</th>\n",
       "      <th>fair_main_demographic_parity_difference</th>\n",
       "      <th>fair_main_demographic_parity_ratio</th>\n",
       "      <th>...</th>\n",
       "      <th>perf_grp_precision_0</th>\n",
       "      <th>perf_grp_precision_1</th>\n",
       "      <th>perf_grp_false positive rate_0</th>\n",
       "      <th>perf_grp_false positive rate_1</th>\n",
       "      <th>perf_grp_false negative rate_0</th>\n",
       "      <th>perf_grp_false negative rate_1</th>\n",
       "      <th>perf_grp_selection rate_0</th>\n",
       "      <th>perf_grp_selection rate_1</th>\n",
       "      <th>perf_grp_count_0</th>\n",
       "      <th>perf_grp_count_1</th>\n",
       "    </tr>\n",
       "  </thead>\n",
       "  <tbody>\n",
       "    <tr>\n",
       "      <th>0</th>\n",
       "      <td>15</td>\n",
       "      <td>c18382a3c50e1c34c672010a2350d0e8</td>\n",
       "      <td>{\"cutoff\": \"quantile_0.1\", \"eval_fairness_grou...</td>\n",
       "      <td>26.194582</td>\n",
       "      <td>89710</td>\n",
       "      <td>1.0</td>\n",
       "      <td>0.096677</td>\n",
       "      <td>0.900033</td>\n",
       "      <td>0.089536</td>\n",
       "      <td>0.907603</td>\n",
       "      <td>...</td>\n",
       "      <td>NaN</td>\n",
       "      <td>NaN</td>\n",
       "      <td>NaN</td>\n",
       "      <td>NaN</td>\n",
       "      <td>NaN</td>\n",
       "      <td>NaN</td>\n",
       "      <td>NaN</td>\n",
       "      <td>NaN</td>\n",
       "      <td>NaN</td>\n",
       "      <td>NaN</td>\n",
       "    </tr>\n",
       "    <tr>\n",
       "      <th>0</th>\n",
       "      <td>15</td>\n",
       "      <td>c18382a3c50e1c34c672010a2350d0e8</td>\n",
       "      <td>{\"cutoff\": \"quantile_0.1\", \"eval_fairness_grou...</td>\n",
       "      <td>26.194582</td>\n",
       "      <td>89710</td>\n",
       "      <td>1.0</td>\n",
       "      <td>0.096677</td>\n",
       "      <td>0.900033</td>\n",
       "      <td>0.089536</td>\n",
       "      <td>0.907603</td>\n",
       "      <td>...</td>\n",
       "      <td>0.117062</td>\n",
       "      <td>0.141103</td>\n",
       "      <td>0.967092</td>\n",
       "      <td>0.870415</td>\n",
       "      <td>0.016047</td>\n",
       "      <td>0.060832</td>\n",
       "      <td>0.969036</td>\n",
       "      <td>0.879500</td>\n",
       "      <td>20540.0</td>\n",
       "      <td>69170.0</td>\n",
       "    </tr>\n",
       "    <tr>\n",
       "      <th>0</th>\n",
       "      <td>15</td>\n",
       "      <td>c18382a3c50e1c34c672010a2350d0e8</td>\n",
       "      <td>{\"cutoff\": \"quantile_0.25\", \"eval_fairness_gro...</td>\n",
       "      <td>26.194582</td>\n",
       "      <td>89710</td>\n",
       "      <td>1.0</td>\n",
       "      <td>0.212514</td>\n",
       "      <td>0.762467</td>\n",
       "      <td>0.196191</td>\n",
       "      <td>0.782316</td>\n",
       "      <td>...</td>\n",
       "      <td>NaN</td>\n",
       "      <td>NaN</td>\n",
       "      <td>NaN</td>\n",
       "      <td>NaN</td>\n",
       "      <td>NaN</td>\n",
       "      <td>NaN</td>\n",
       "      <td>NaN</td>\n",
       "      <td>NaN</td>\n",
       "      <td>NaN</td>\n",
       "      <td>NaN</td>\n",
       "    </tr>\n",
       "    <tr>\n",
       "      <th>0</th>\n",
       "      <td>15</td>\n",
       "      <td>c18382a3c50e1c34c672010a2350d0e8</td>\n",
       "      <td>{\"cutoff\": \"quantile_0.25\", \"eval_fairness_gro...</td>\n",
       "      <td>26.194582</td>\n",
       "      <td>89710</td>\n",
       "      <td>1.0</td>\n",
       "      <td>0.212514</td>\n",
       "      <td>0.762467</td>\n",
       "      <td>0.196191</td>\n",
       "      <td>0.782316</td>\n",
       "      <td>...</td>\n",
       "      <td>0.121759</td>\n",
       "      <td>0.160344</td>\n",
       "      <td>0.894673</td>\n",
       "      <td>0.682159</td>\n",
       "      <td>0.048142</td>\n",
       "      <td>0.144420</td>\n",
       "      <td>0.901266</td>\n",
       "      <td>0.705074</td>\n",
       "      <td>20540.0</td>\n",
       "      <td>69170.0</td>\n",
       "    </tr>\n",
       "  </tbody>\n",
       "</table>\n",
       "<p>4 rows × 50 columns</p>\n",
       "</div>"
      ],
      "text/plain": [
       "  run_no                       universe_id  \\\n",
       "0     15  c18382a3c50e1c34c672010a2350d0e8   \n",
       "0     15  c18382a3c50e1c34c672010a2350d0e8   \n",
       "0     15  c18382a3c50e1c34c672010a2350d0e8   \n",
       "0     15  c18382a3c50e1c34c672010a2350d0e8   \n",
       "\n",
       "                                   universe_settings  execution_time  \\\n",
       "0  {\"cutoff\": \"quantile_0.1\", \"eval_fairness_grou...       26.194582   \n",
       "0  {\"cutoff\": \"quantile_0.1\", \"eval_fairness_grou...       26.194582   \n",
       "0  {\"cutoff\": \"quantile_0.25\", \"eval_fairness_gro...       26.194582   \n",
       "0  {\"cutoff\": \"quantile_0.25\", \"eval_fairness_gro...       26.194582   \n",
       "\n",
       "   test_size_n  test_size_frac  fair_main_equalized_odds_difference  \\\n",
       "0        89710             1.0                             0.096677   \n",
       "0        89710             1.0                             0.096677   \n",
       "0        89710             1.0                             0.212514   \n",
       "0        89710             1.0                             0.212514   \n",
       "\n",
       "   fair_main_equalized_odds_ratio  fair_main_demographic_parity_difference  \\\n",
       "0                        0.900033                                 0.089536   \n",
       "0                        0.900033                                 0.089536   \n",
       "0                        0.762467                                 0.196191   \n",
       "0                        0.762467                                 0.196191   \n",
       "\n",
       "   fair_main_demographic_parity_ratio  ...  perf_grp_precision_0  \\\n",
       "0                            0.907603  ...                   NaN   \n",
       "0                            0.907603  ...              0.117062   \n",
       "0                            0.782316  ...                   NaN   \n",
       "0                            0.782316  ...              0.121759   \n",
       "\n",
       "   perf_grp_precision_1  perf_grp_false positive rate_0  \\\n",
       "0                   NaN                             NaN   \n",
       "0              0.141103                        0.967092   \n",
       "0                   NaN                             NaN   \n",
       "0              0.160344                        0.894673   \n",
       "\n",
       "   perf_grp_false positive rate_1  perf_grp_false negative rate_0  \\\n",
       "0                             NaN                             NaN   \n",
       "0                        0.870415                        0.016047   \n",
       "0                             NaN                             NaN   \n",
       "0                        0.682159                        0.048142   \n",
       "\n",
       "   perf_grp_false negative rate_1  perf_grp_selection rate_0  \\\n",
       "0                             NaN                        NaN   \n",
       "0                        0.060832                   0.969036   \n",
       "0                             NaN                        NaN   \n",
       "0                        0.144420                   0.901266   \n",
       "\n",
       "   perf_grp_selection rate_1  perf_grp_count_0  perf_grp_count_1  \n",
       "0                        NaN               NaN               NaN  \n",
       "0                   0.879500           20540.0           69170.0  \n",
       "0                        NaN               NaN               NaN  \n",
       "0                   0.705074           20540.0           69170.0  \n",
       "\n",
       "[4 rows x 50 columns]"
      ]
     },
     "execution_count": 66,
     "metadata": {},
     "output_type": "execute_result"
    }
   ],
   "source": [
    "final_output = universe_analysis.generate_final_output(\n",
    "    y_pred_prob=probs_test,\n",
    "    y_test=y_true,\n",
    "    org_test=org_test,\n",
    "    filter_data=filter_sub_universe_data,\n",
    "    cp_metrics_df=cp_metrics_df,\n",
    "    save=True,\n",
    ")\n",
    "final_output"
   ]
  }
 ],
 "metadata": {
  "celltoolbar": "Tags",
  "kernelspec": {
   "display_name": "Python (CMA Fairness)",
   "language": "python",
   "name": "cma_fair_env"
  },
  "language_info": {
   "codemirror_mode": {
    "name": "ipython",
    "version": 3
   },
   "file_extension": ".py",
   "mimetype": "text/x-python",
   "name": "python",
   "nbconvert_exporter": "python",
   "pygments_lexer": "ipython3",
   "version": "3.10.12"
  },
  "papermill": {
   "default_parameters": {},
   "duration": 39.956986,
   "end_time": "2025-08-05T16:40:53.844111",
   "environment_variables": {},
   "exception": null,
   "input_path": "universe_analysis.ipynb",
   "output_path": "output/runs/15/notebooks/m_15-c18382a3c50e1c34c672010a2350d0e8.ipynb",
   "parameters": {
    "output_dir": "output",
    "run_no": "15",
    "seed": "2023",
    "universe": "{\"cutoff\": [\"quantile_0.1\", \"quantile_0.25\"], \"eval_fairness_grouping\": [\"majority-minority\", \"nationality-all\"], \"exclude_features\": \"nationality-sex\", \"exclude_subgroups\": \"keep-all\", \"model\": \"penalized_logreg\", \"scale\": \"do-not-scale\", \"training_size\": \"1k\", \"training_year\": \"2010_14\"}",
    "universe_id": "c18382a3c50e1c34c672010a2350d0e8"
   },
   "start_time": "2025-08-05T16:40:13.887125",
   "version": "2.6.0"
  }
 },
 "nbformat": 4,
 "nbformat_minor": 5
}