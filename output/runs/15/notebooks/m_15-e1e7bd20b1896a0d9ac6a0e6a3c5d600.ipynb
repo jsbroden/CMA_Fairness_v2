{
 "cells": [
  {
   "cell_type": "code",
   "execution_count": 1,
   "id": "f159f837-637b-42ba-96b5-ec9a68c44524",
   "metadata": {
    "execution": {
     "iopub.execute_input": "2025-08-05T16:03:38.310836Z",
     "iopub.status.busy": "2025-08-05T16:03:38.310189Z",
     "iopub.status.idle": "2025-08-05T16:03:38.323666Z",
     "shell.execute_reply": "2025-08-05T16:03:38.322648Z"
    },
    "papermill": {
     "duration": 0.033368,
     "end_time": "2025-08-05T16:03:38.325193",
     "exception": false,
     "start_time": "2025-08-05T16:03:38.291825",
     "status": "completed"
    },
    "tags": []
   },
   "outputs": [
    {
     "name": "stdout",
     "output_type": "stream",
     "text": [
      "/dss/dsshome1/0C/ra93lal2/cma/CMA_Fairness_v2\n"
     ]
    },
    {
     "name": "stderr",
     "output_type": "stream",
     "text": [
      "/dss/dsshome1/0C/ra93lal2/.local/share/virtualenvs/CMA_Fairness_v2-3j10GkSs/lib/python3.10/site-packages/IPython/core/magics/osm.py:393: UserWarning: This is now an optional IPython functionality, using bookmarks requires you to install the `pickleshare` library.\n",
      "  bkms = self.shell.db.get('bookmarks', {})\n",
      "/dss/dsshome1/0C/ra93lal2/.local/share/virtualenvs/CMA_Fairness_v2-3j10GkSs/lib/python3.10/site-packages/IPython/core/magics/osm.py:417: UserWarning: This is now an optional IPython functionality, setting dhist requires you to install the `pickleshare` library.\n",
      "  self.shell.db['dhist'] = compress_dhist(dhist)[-100:]\n"
     ]
    }
   ],
   "source": [
    "%cd ~/cma/CMA_Fairness_v2"
   ]
  },
  {
   "cell_type": "markdown",
   "id": "de2603b9",
   "metadata": {
    "papermill": {
     "duration": 0.016785,
     "end_time": "2025-08-05T16:03:38.360073",
     "exception": false,
     "start_time": "2025-08-05T16:03:38.343288",
     "status": "completed"
    },
    "tags": []
   },
   "source": [
    "The following cell holds the definition of our parameters, these values can be overriden by rendering the with e.g. the following command:\n",
    "\n",
    "papermill -p alpha 0.2 -p ratio 0.3 universe_analysis.ipynb output/test_run.ipynb"
   ]
  },
  {
   "cell_type": "code",
   "execution_count": 2,
   "id": "a80968a0-40bb-4fa9-85ef-2d5eefb01975",
   "metadata": {
    "execution": {
     "iopub.execute_input": "2025-08-05T16:03:38.395344Z",
     "iopub.status.busy": "2025-08-05T16:03:38.394792Z",
     "iopub.status.idle": "2025-08-05T16:03:38.400659Z",
     "shell.execute_reply": "2025-08-05T16:03:38.399623Z"
    },
    "papermill": {
     "duration": 0.02516,
     "end_time": "2025-08-05T16:03:38.402518",
     "exception": false,
     "start_time": "2025-08-05T16:03:38.377358",
     "status": "completed"
    },
    "tags": []
   },
   "outputs": [
    {
     "name": "stdout",
     "output_type": "stream",
     "text": [
      "Current working directory: /dss/dsshome1/0C/ra93lal2/cma/CMA_Fairness_v2\n"
     ]
    }
   ],
   "source": [
    "import os\n",
    "print(\"Current working directory:\", os.getcwd())"
   ]
  },
  {
   "cell_type": "code",
   "execution_count": 3,
   "id": "2dce4c03",
   "metadata": {
    "execution": {
     "iopub.execute_input": "2025-08-05T16:03:38.439585Z",
     "iopub.status.busy": "2025-08-05T16:03:38.438920Z",
     "iopub.status.idle": "2025-08-05T16:03:38.445451Z",
     "shell.execute_reply": "2025-08-05T16:03:38.444520Z"
    },
    "papermill": {
     "duration": 0.026666,
     "end_time": "2025-08-05T16:03:38.447114",
     "exception": false,
     "start_time": "2025-08-05T16:03:38.420448",
     "status": "completed"
    },
    "tags": [
     "parameters"
    ]
   },
   "outputs": [],
   "source": [
    "run_no = 0\n",
    "universe_id = \"test\"\n",
    "universe = {\n",
    "    \"training_size\": \"25k\", # \"25k\", \"5k\", \"1k\"\n",
    "    \"training_year\": \"2014\", # \"2014\", \"2012_14\", \"2010_14\"\n",
    "    \"scale\": \"scale\", # \"scale\", \"do-not-scale\",\n",
    "    \"model\": \"elasticnet\", # \"logreg\", \"penalized_logreg\", \"rf\", \"gbm\", \"elasticnet\"\n",
    "    \"cutoff\": [\"quantile_0.15\", \"quantile_0.30\"],\n",
    "    \"exclude_features\": \"age\", # \"none\", \"nationality\", \"sex\", \"nationality-sex\", \"age\"\n",
    "    \"exclude_subgroups\": \"keep-all\", # \"keep-all\", \"drop-non-german\"\n",
    "    \"eval_fairness_grouping\": [\"majority-minority\", \"nationality-all\"]\n",
    "}\n",
    "\n",
    "output_dir=\"./output\"\n",
    "seed=0"
   ]
  },
  {
   "cell_type": "code",
   "execution_count": 4,
   "id": "b455fb7a",
   "metadata": {
    "execution": {
     "iopub.execute_input": "2025-08-05T16:03:38.483858Z",
     "iopub.status.busy": "2025-08-05T16:03:38.483185Z",
     "iopub.status.idle": "2025-08-05T16:03:38.488636Z",
     "shell.execute_reply": "2025-08-05T16:03:38.487586Z"
    },
    "papermill": {
     "duration": 0.025821,
     "end_time": "2025-08-05T16:03:38.490491",
     "exception": false,
     "start_time": "2025-08-05T16:03:38.464670",
     "status": "completed"
    },
    "tags": [
     "injected-parameters"
    ]
   },
   "outputs": [],
   "source": [
    "# Parameters\n",
    "universe_id = \"e1e7bd20b1896a0d9ac6a0e6a3c5d600\"\n",
    "run_no = \"15\"\n",
    "universe = \"{\\\"cutoff\\\": [\\\"quantile_0.1\\\", \\\"quantile_0.25\\\"], \\\"eval_fairness_grouping\\\": [\\\"majority-minority\\\", \\\"nationality-all\\\"], \\\"exclude_features\\\": \\\"nationality-sex\\\", \\\"exclude_subgroups\\\": \\\"keep-all\\\", \\\"model\\\": \\\"penalized_logreg\\\", \\\"scale\\\": \\\"scale\\\", \\\"training_size\\\": \\\"1k\\\", \\\"training_year\\\": \\\"2014\\\"}\"\n",
    "output_dir = \"output\"\n",
    "seed = \"2023\"\n"
   ]
  },
  {
   "cell_type": "code",
   "execution_count": 5,
   "id": "1650acaf",
   "metadata": {
    "execution": {
     "iopub.execute_input": "2025-08-05T16:03:38.526971Z",
     "iopub.status.busy": "2025-08-05T16:03:38.526107Z",
     "iopub.status.idle": "2025-08-05T16:03:38.531410Z",
     "shell.execute_reply": "2025-08-05T16:03:38.530509Z"
    },
    "papermill": {
     "duration": 0.024564,
     "end_time": "2025-08-05T16:03:38.533124",
     "exception": false,
     "start_time": "2025-08-05T16:03:38.508560",
     "status": "completed"
    },
    "tags": []
   },
   "outputs": [],
   "source": [
    "import json\n",
    "if isinstance(universe, str):\n",
    "    universe = json.loads(universe)"
   ]
  },
  {
   "cell_type": "code",
   "execution_count": 6,
   "id": "16620c48",
   "metadata": {
    "execution": {
     "iopub.execute_input": "2025-08-05T16:03:38.571781Z",
     "iopub.status.busy": "2025-08-05T16:03:38.571136Z",
     "iopub.status.idle": "2025-08-05T16:03:38.617995Z",
     "shell.execute_reply": "2025-08-05T16:03:38.617037Z"
    },
    "papermill": {
     "duration": 0.068692,
     "end_time": "2025-08-05T16:03:38.620089",
     "exception": false,
     "start_time": "2025-08-05T16:03:38.551397",
     "status": "completed"
    },
    "tags": []
   },
   "outputs": [],
   "source": [
    "# Auto-reload the custom package\n",
    "%load_ext autoreload\n",
    "%autoreload 1\n",
    "%aimport fairness_multiverse"
   ]
  },
  {
   "cell_type": "code",
   "execution_count": 7,
   "id": "01c5c9f3",
   "metadata": {
    "execution": {
     "iopub.execute_input": "2025-08-05T16:03:38.658422Z",
     "iopub.status.busy": "2025-08-05T16:03:38.657774Z",
     "iopub.status.idle": "2025-08-05T16:03:40.797947Z",
     "shell.execute_reply": "2025-08-05T16:03:40.796594Z"
    },
    "papermill": {
     "duration": 2.161128,
     "end_time": "2025-08-05T16:03:40.800134",
     "exception": false,
     "start_time": "2025-08-05T16:03:38.639006",
     "status": "completed"
    },
    "tags": []
   },
   "outputs": [],
   "source": [
    "from fairness_multiverse.universe import UniverseAnalysis\n",
    "\n",
    "universe_analysis = UniverseAnalysis(\n",
    "    run_no = run_no,\n",
    "    universe_id = universe_id,\n",
    "    universe = universe,\n",
    "    output_dir=output_dir,\n",
    ")"
   ]
  },
  {
   "cell_type": "code",
   "execution_count": 8,
   "id": "106241f5",
   "metadata": {
    "execution": {
     "iopub.execute_input": "2025-08-05T16:03:40.840500Z",
     "iopub.status.busy": "2025-08-05T16:03:40.839613Z",
     "iopub.status.idle": "2025-08-05T16:03:40.846246Z",
     "shell.execute_reply": "2025-08-05T16:03:40.845163Z"
    },
    "papermill": {
     "duration": 0.028367,
     "end_time": "2025-08-05T16:03:40.847951",
     "exception": false,
     "start_time": "2025-08-05T16:03:40.819584",
     "status": "completed"
    },
    "tags": []
   },
   "outputs": [
    {
     "name": "stdout",
     "output_type": "stream",
     "text": [
      "Using Seed: 2023\n"
     ]
    }
   ],
   "source": [
    "import numpy as np\n",
    "parsed_seed = int(seed)\n",
    "np.random.seed(parsed_seed)\n",
    "print(f\"Using Seed: {parsed_seed}\")"
   ]
  },
  {
   "cell_type": "markdown",
   "id": "e0ebdc57",
   "metadata": {
    "papermill": {
     "duration": 0.017637,
     "end_time": "2025-08-05T16:03:40.883593",
     "exception": false,
     "start_time": "2025-08-05T16:03:40.865956",
     "status": "completed"
    },
    "tags": []
   },
   "source": [
    "# Loading Data"
   ]
  },
  {
   "cell_type": "code",
   "execution_count": 9,
   "id": "f0496b8a",
   "metadata": {
    "execution": {
     "iopub.execute_input": "2025-08-05T16:03:40.929327Z",
     "iopub.status.busy": "2025-08-05T16:03:40.928227Z",
     "iopub.status.idle": "2025-08-05T16:03:52.552523Z",
     "shell.execute_reply": "2025-08-05T16:03:52.551236Z"
    },
    "papermill": {
     "duration": 11.652363,
     "end_time": "2025-08-05T16:03:52.554457",
     "exception": false,
     "start_time": "2025-08-05T16:03:40.902094",
     "status": "completed"
    },
    "tags": []
   },
   "outputs": [
    {
     "name": "stdout",
     "output_type": "stream",
     "text": [
      "Loading SIAB data from cache: data/siab_cached.csv.gz\n"
     ]
    },
    {
     "name": "stdout",
     "output_type": "stream",
     "text": [
      "(643690, 164)\n"
     ]
    }
   ],
   "source": [
    "from pathlib import Path\n",
    "import pandas as pd\n",
    "\n",
    "# File paths\n",
    "raw_file = Path(\"data/raw/siab.csv\")\n",
    "cache_file = Path(\"data/siab_cached.csv.gz\")\n",
    "\n",
    "# Ensure cache directory exists\n",
    "cache_file.parent.mkdir(parents=True, exist_ok=True)\n",
    "\n",
    "# Load with simple caching\n",
    "if cache_file.exists():\n",
    "    print(f\"Loading SIAB data from cache: {cache_file}\")\n",
    "    siab = pd.read_csv(cache_file, compression='gzip')\n",
    "else:\n",
    "    print(f\"Cache not found. Reading raw SIAB data: {raw_file}\")\n",
    "    siab = pd.read_csv(raw_file)\n",
    "    siab.to_csv(cache_file, index=False, compression='gzip')\n",
    "    print(f\"Cached SIAB data to: {cache_file}\")\n",
    "\n",
    "print(siab.shape)"
   ]
  },
  {
   "cell_type": "code",
   "execution_count": 10,
   "id": "db0ca512-5f53-4dba-abdb-a2888bca41ba",
   "metadata": {
    "execution": {
     "iopub.execute_input": "2025-08-05T16:03:52.598627Z",
     "iopub.status.busy": "2025-08-05T16:03:52.597761Z",
     "iopub.status.idle": "2025-08-05T16:03:52.604193Z",
     "shell.execute_reply": "2025-08-05T16:03:52.603130Z"
    },
    "papermill": {
     "duration": 0.029145,
     "end_time": "2025-08-05T16:03:52.606299",
     "exception": false,
     "start_time": "2025-08-05T16:03:52.577154",
     "status": "completed"
    },
    "tags": []
   },
   "outputs": [],
   "source": [
    "#siab"
   ]
  },
  {
   "cell_type": "markdown",
   "id": "997051c5-15bd-4b69-9786-c3001a3ce484",
   "metadata": {
    "papermill": {
     "duration": 0.021192,
     "end_time": "2025-08-05T16:03:52.649360",
     "exception": false,
     "start_time": "2025-08-05T16:03:52.628168",
     "status": "completed"
    },
    "tags": []
   },
   "source": [
    "# Splitting Data and Setting Training Data Size"
   ]
  },
  {
   "cell_type": "code",
   "execution_count": 11,
   "id": "aea9c6ef-6f46-42c8-85eb-5a62025c1508",
   "metadata": {
    "execution": {
     "iopub.execute_input": "2025-08-05T16:03:52.693195Z",
     "iopub.status.busy": "2025-08-05T16:03:52.692310Z",
     "iopub.status.idle": "2025-08-05T16:03:52.960067Z",
     "shell.execute_reply": "2025-08-05T16:03:52.959311Z"
    },
    "papermill": {
     "duration": 0.308661,
     "end_time": "2025-08-05T16:03:52.978967",
     "exception": false,
     "start_time": "2025-08-05T16:03:52.670306",
     "status": "completed"
    },
    "tags": []
   },
   "outputs": [],
   "source": [
    "from fairness_multiverse.universe import sample_by_year_size\n",
    "\n",
    "siab_train = sample_by_year_size(siab,\n",
    "                               training_year=universe[\"training_year\"],\n",
    "                               training_size=universe[\"training_size\"])"
   ]
  },
  {
   "cell_type": "code",
   "execution_count": 12,
   "id": "8d3afb32-789d-442c-8d5d-9f5aa8dd2eed",
   "metadata": {
    "execution": {
     "iopub.execute_input": "2025-08-05T16:03:53.009659Z",
     "iopub.status.busy": "2025-08-05T16:03:53.008866Z",
     "iopub.status.idle": "2025-08-05T16:03:53.013790Z",
     "shell.execute_reply": "2025-08-05T16:03:53.012900Z"
    },
    "papermill": {
     "duration": 0.016883,
     "end_time": "2025-08-05T16:03:53.015272",
     "exception": false,
     "start_time": "2025-08-05T16:03:52.998389",
     "status": "completed"
    },
    "tags": []
   },
   "outputs": [],
   "source": [
    "#siab_train.shape"
   ]
  },
  {
   "cell_type": "code",
   "execution_count": 13,
   "id": "d582db68-1a4c-47fb-84fc-08518dc1975a",
   "metadata": {
    "execution": {
     "iopub.execute_input": "2025-08-05T16:03:53.041132Z",
     "iopub.status.busy": "2025-08-05T16:03:53.040625Z",
     "iopub.status.idle": "2025-08-05T16:03:53.045379Z",
     "shell.execute_reply": "2025-08-05T16:03:53.044231Z"
    },
    "papermill": {
     "duration": 0.019903,
     "end_time": "2025-08-05T16:03:53.046864",
     "exception": false,
     "start_time": "2025-08-05T16:03:53.026961",
     "status": "completed"
    },
    "tags": []
   },
   "outputs": [],
   "source": [
    "#display(siab_train.groupby(\"year\").size())"
   ]
  },
  {
   "cell_type": "code",
   "execution_count": 14,
   "id": "a561edb4-d032-42cb-8256-22eac1111c64",
   "metadata": {
    "execution": {
     "iopub.execute_input": "2025-08-05T16:03:53.067697Z",
     "iopub.status.busy": "2025-08-05T16:03:53.067207Z",
     "iopub.status.idle": "2025-08-05T16:03:53.313326Z",
     "shell.execute_reply": "2025-08-05T16:03:53.312339Z"
    },
    "papermill": {
     "duration": 0.258443,
     "end_time": "2025-08-05T16:03:53.315454",
     "exception": false,
     "start_time": "2025-08-05T16:03:53.057011",
     "status": "completed"
    },
    "tags": []
   },
   "outputs": [],
   "source": [
    "#siab_train = siab_s[siab_s.year < 2015]\n",
    "siab_calib = siab[siab.year == 2015]\n",
    "siab_test = siab[siab.year == 2016]"
   ]
  },
  {
   "cell_type": "code",
   "execution_count": 15,
   "id": "472de16f-c3db-4916-846b-1f0de9cf1746",
   "metadata": {
    "execution": {
     "iopub.execute_input": "2025-08-05T16:03:53.342861Z",
     "iopub.status.busy": "2025-08-05T16:03:53.342485Z",
     "iopub.status.idle": "2025-08-05T16:03:53.348715Z",
     "shell.execute_reply": "2025-08-05T16:03:53.347745Z"
    },
    "papermill": {
     "duration": 0.018527,
     "end_time": "2025-08-05T16:03:53.350409",
     "exception": false,
     "start_time": "2025-08-05T16:03:53.331882",
     "status": "completed"
    },
    "tags": []
   },
   "outputs": [],
   "source": [
    "X_train = siab_train.iloc[:,4:164]\n",
    "y_train = siab_train.iloc[:, [3]]"
   ]
  },
  {
   "cell_type": "code",
   "execution_count": 16,
   "id": "828c96af-f43a-4ed6-ba47-8ac73a47d56c",
   "metadata": {
    "execution": {
     "iopub.execute_input": "2025-08-05T16:03:53.371634Z",
     "iopub.status.busy": "2025-08-05T16:03:53.371113Z",
     "iopub.status.idle": "2025-08-05T16:03:53.421164Z",
     "shell.execute_reply": "2025-08-05T16:03:53.420229Z"
    },
    "papermill": {
     "duration": 0.062203,
     "end_time": "2025-08-05T16:03:53.422856",
     "exception": false,
     "start_time": "2025-08-05T16:03:53.360653",
     "status": "completed"
    },
    "tags": []
   },
   "outputs": [],
   "source": [
    "X_calib = siab_calib.iloc[:,4:164]\n",
    "y_calib = siab_calib.iloc[:, [3]]"
   ]
  },
  {
   "cell_type": "code",
   "execution_count": 17,
   "id": "c34be9c3-6bd6-476e-acd3-845840e303be",
   "metadata": {
    "execution": {
     "iopub.execute_input": "2025-08-05T16:03:53.454980Z",
     "iopub.status.busy": "2025-08-05T16:03:53.453899Z",
     "iopub.status.idle": "2025-08-05T16:03:53.512733Z",
     "shell.execute_reply": "2025-08-05T16:03:53.511559Z"
    },
    "papermill": {
     "duration": 0.080878,
     "end_time": "2025-08-05T16:03:53.515204",
     "exception": false,
     "start_time": "2025-08-05T16:03:53.434326",
     "status": "completed"
    },
    "tags": []
   },
   "outputs": [],
   "source": [
    "X_test = siab_test.iloc[:,4:164]\n",
    "y_true = siab_test.iloc[:, [3]]"
   ]
  },
  {
   "cell_type": "code",
   "execution_count": 18,
   "id": "e6c733c5",
   "metadata": {
    "execution": {
     "iopub.execute_input": "2025-08-05T16:03:53.560962Z",
     "iopub.status.busy": "2025-08-05T16:03:53.560406Z",
     "iopub.status.idle": "2025-08-05T16:03:53.662415Z",
     "shell.execute_reply": "2025-08-05T16:03:53.661016Z"
    },
    "papermill": {
     "duration": 0.12561,
     "end_time": "2025-08-05T16:03:53.664314",
     "exception": false,
     "start_time": "2025-08-05T16:03:53.538704",
     "status": "completed"
    },
    "tags": []
   },
   "outputs": [],
   "source": [
    "# Auxiliary data needed downstream in the pipeline\n",
    "\n",
    "org_train = X_train.copy()\n",
    "org_test = X_test.copy()\n",
    "org_calib = X_calib.copy()"
   ]
  },
  {
   "cell_type": "markdown",
   "id": "0a4a1b33",
   "metadata": {
    "papermill": {
     "duration": 0.017403,
     "end_time": "2025-08-05T16:03:53.699972",
     "exception": false,
     "start_time": "2025-08-05T16:03:53.682569",
     "status": "completed"
    },
    "tags": []
   },
   "source": [
    "# Preprocessing Data"
   ]
  },
  {
   "cell_type": "code",
   "execution_count": 19,
   "id": "ca879031",
   "metadata": {
    "execution": {
     "iopub.execute_input": "2025-08-05T16:03:53.742646Z",
     "iopub.status.busy": "2025-08-05T16:03:53.741392Z",
     "iopub.status.idle": "2025-08-05T16:03:53.749166Z",
     "shell.execute_reply": "2025-08-05T16:03:53.748087Z"
    },
    "papermill": {
     "duration": 0.03724,
     "end_time": "2025-08-05T16:03:53.756781",
     "exception": false,
     "start_time": "2025-08-05T16:03:53.719541",
     "status": "completed"
    },
    "tags": []
   },
   "outputs": [],
   "source": [
    "# EXCLUDE PROTECTED FEATURES\n",
    "# ----------------------\n",
    "# \"exclude_features\": \"none\", # \"nationality\", \"sex\", \"nationality-sex\"\n",
    "\n",
    "excluded_features = universe[\"exclude_features\"].split(\"-\") # split, e.g.: \"nationality-sex\" -> [\"nationality\", \"sex\"]\n",
    "excluded_features_dictionary = {\n",
    "    \"nationality\": [\"maxdeutsch1\", \"maxdeutsch.Missing.\"],\n",
    "    \"sex\": [\"frau1\"],\n",
    "    \"age\": [\"age\"],\n",
    "}"
   ]
  },
  {
   "cell_type": "code",
   "execution_count": 20,
   "id": "b745ac60",
   "metadata": {
    "execution": {
     "iopub.execute_input": "2025-08-05T16:03:53.798404Z",
     "iopub.status.busy": "2025-08-05T16:03:53.797627Z",
     "iopub.status.idle": "2025-08-05T16:03:53.803990Z",
     "shell.execute_reply": "2025-08-05T16:03:53.802879Z"
    },
    "papermill": {
     "duration": 0.031256,
     "end_time": "2025-08-05T16:03:53.807044",
     "exception": false,
     "start_time": "2025-08-05T16:03:53.775788",
     "status": "completed"
    },
    "tags": []
   },
   "outputs": [],
   "source": [
    "# Code nice names to column names\n",
    "\n",
    "excluded_features_columns = [\n",
    "    excluded_features_dictionary[f] for f in excluded_features if len(f) > 0 and f != \"none\"\n",
    "]"
   ]
  },
  {
   "cell_type": "code",
   "execution_count": 21,
   "id": "f84f73a2",
   "metadata": {
    "execution": {
     "iopub.execute_input": "2025-08-05T16:03:53.849229Z",
     "iopub.status.busy": "2025-08-05T16:03:53.848696Z",
     "iopub.status.idle": "2025-08-05T16:03:53.855900Z",
     "shell.execute_reply": "2025-08-05T16:03:53.854694Z"
    },
    "papermill": {
     "duration": 0.036368,
     "end_time": "2025-08-05T16:03:53.863783",
     "exception": false,
     "start_time": "2025-08-05T16:03:53.827415",
     "status": "completed"
    },
    "tags": []
   },
   "outputs": [],
   "source": [
    "from utils import flatten_once\n",
    "\n",
    "excluded_features_columns = flatten_once(excluded_features_columns)"
   ]
  },
  {
   "cell_type": "code",
   "execution_count": 22,
   "id": "884dea22",
   "metadata": {
    "execution": {
     "iopub.execute_input": "2025-08-05T16:03:53.908228Z",
     "iopub.status.busy": "2025-08-05T16:03:53.907309Z",
     "iopub.status.idle": "2025-08-05T16:03:53.915632Z",
     "shell.execute_reply": "2025-08-05T16:03:53.914531Z"
    },
    "papermill": {
     "duration": 0.031478,
     "end_time": "2025-08-05T16:03:53.917296",
     "exception": false,
     "start_time": "2025-08-05T16:03:53.885818",
     "status": "completed"
    },
    "tags": []
   },
   "outputs": [
    {
     "name": "stdout",
     "output_type": "stream",
     "text": [
      "Dropping features: ['maxdeutsch1', 'maxdeutsch.Missing.', 'frau1']\n"
     ]
    }
   ],
   "source": [
    "if len(excluded_features_columns) > 0:\n",
    "    print(f\"Dropping features: {excluded_features_columns}\")\n",
    "    X_train.drop(excluded_features_columns, axis=1, inplace=True)"
   ]
  },
  {
   "cell_type": "code",
   "execution_count": 23,
   "id": "95ab8b16",
   "metadata": {
    "execution": {
     "iopub.execute_input": "2025-08-05T16:03:53.958120Z",
     "iopub.status.busy": "2025-08-05T16:03:53.957251Z",
     "iopub.status.idle": "2025-08-05T16:03:54.025943Z",
     "shell.execute_reply": "2025-08-05T16:03:54.024612Z"
    },
    "papermill": {
     "duration": 0.090408,
     "end_time": "2025-08-05T16:03:54.027840",
     "exception": false,
     "start_time": "2025-08-05T16:03:53.937432",
     "status": "completed"
    },
    "tags": []
   },
   "outputs": [
    {
     "name": "stdout",
     "output_type": "stream",
     "text": [
      "Dropping features: ['maxdeutsch1', 'maxdeutsch.Missing.', 'frau1']\n"
     ]
    }
   ],
   "source": [
    "if len(excluded_features_columns) > 0:\n",
    "    print(f\"Dropping features: {excluded_features_columns}\")\n",
    "    X_test.drop(excluded_features_columns, axis=1, inplace=True)"
   ]
  },
  {
   "cell_type": "code",
   "execution_count": 24,
   "id": "1853aaf5-fb9f-46cb-a2b5-8ea4ae2237e4",
   "metadata": {
    "execution": {
     "iopub.execute_input": "2025-08-05T16:03:54.074426Z",
     "iopub.status.busy": "2025-08-05T16:03:54.073690Z",
     "iopub.status.idle": "2025-08-05T16:03:54.127354Z",
     "shell.execute_reply": "2025-08-05T16:03:54.126208Z"
    },
    "papermill": {
     "duration": 0.079034,
     "end_time": "2025-08-05T16:03:54.129309",
     "exception": false,
     "start_time": "2025-08-05T16:03:54.050275",
     "status": "completed"
    },
    "tags": []
   },
   "outputs": [
    {
     "name": "stdout",
     "output_type": "stream",
     "text": [
      "Dropping features: ['maxdeutsch1', 'maxdeutsch.Missing.', 'frau1']\n"
     ]
    }
   ],
   "source": [
    "if len(excluded_features_columns) > 0:\n",
    "    print(f\"Dropping features: {excluded_features_columns}\")\n",
    "    X_calib.drop(excluded_features_columns, axis=1, inplace=True)"
   ]
  },
  {
   "cell_type": "code",
   "execution_count": 25,
   "id": "76c4dc6d",
   "metadata": {
    "execution": {
     "iopub.execute_input": "2025-08-05T16:03:54.170109Z",
     "iopub.status.busy": "2025-08-05T16:03:54.169491Z",
     "iopub.status.idle": "2025-08-05T16:03:54.175102Z",
     "shell.execute_reply": "2025-08-05T16:03:54.173967Z"
    },
    "papermill": {
     "duration": 0.026683,
     "end_time": "2025-08-05T16:03:54.176799",
     "exception": false,
     "start_time": "2025-08-05T16:03:54.150116",
     "status": "completed"
    },
    "tags": []
   },
   "outputs": [],
   "source": [
    "# EXCLUDE CERTAIN SUBGROUPS\n",
    "# ----------------------\n",
    "\n",
    "mode = universe.get(\"exclude_subgroups\", \"keep-all\") \n",
    "# Fetches the exclude_subgroups setting from the universe dict.\n",
    "# Defaults to \"keep-all\" if the key is missing."
   ]
  },
  {
   "cell_type": "code",
   "execution_count": 26,
   "id": "21994072",
   "metadata": {
    "execution": {
     "iopub.execute_input": "2025-08-05T16:03:54.214911Z",
     "iopub.status.busy": "2025-08-05T16:03:54.214047Z",
     "iopub.status.idle": "2025-08-05T16:03:54.221092Z",
     "shell.execute_reply": "2025-08-05T16:03:54.220094Z"
    },
    "papermill": {
     "duration": 0.028343,
     "end_time": "2025-08-05T16:03:54.223378",
     "exception": false,
     "start_time": "2025-08-05T16:03:54.195035",
     "status": "completed"
    },
    "tags": []
   },
   "outputs": [],
   "source": [
    "if mode == \"keep-all\":\n",
    "    keep_mask = pd.Series(True, index=org_train.index)\n",
    "\n",
    "# org_train contains the original feature columns from features_org (in Simson)\n",
    "# features_org contains unprocessed features, for me X_train at beginning ???\n",
    "# For keep-all, creates a boolean Series (keep_mask) of all True, so no rows are removed.\n",
    "\n",
    "elif mode == \"drop-non-german\":\n",
    "    keep_mask = org_train[\"maxdeutsch1\"] == 1 # ??? what about missing values?\n",
    "\n",
    "else:\n",
    "    raise ValueError(f\"Unsupported mode for exclude_subgroups: {mode}\")"
   ]
  },
  {
   "cell_type": "code",
   "execution_count": 27,
   "id": "71651440",
   "metadata": {
    "execution": {
     "iopub.execute_input": "2025-08-05T16:03:54.264998Z",
     "iopub.status.busy": "2025-08-05T16:03:54.264049Z",
     "iopub.status.idle": "2025-08-05T16:03:54.271874Z",
     "shell.execute_reply": "2025-08-05T16:03:54.270517Z"
    },
    "papermill": {
     "duration": 0.030131,
     "end_time": "2025-08-05T16:03:54.273664",
     "exception": false,
     "start_time": "2025-08-05T16:03:54.243533",
     "status": "completed"
    },
    "tags": []
   },
   "outputs": [],
   "source": [
    "n_drop = (~keep_mask).sum() # Calculates how many rows are set to be dropped\n",
    "if n_drop > 0:\n",
    "    pct = n_drop / len(keep_mask) * 100\n",
    "    print(f\"Dropping {n_drop} rows ({pct:.2f}%) where mode='{mode}'\")"
   ]
  },
  {
   "cell_type": "code",
   "execution_count": 28,
   "id": "5fb8eee5",
   "metadata": {
    "execution": {
     "iopub.execute_input": "2025-08-05T16:03:54.310932Z",
     "iopub.status.busy": "2025-08-05T16:03:54.310184Z",
     "iopub.status.idle": "2025-08-05T16:03:54.317145Z",
     "shell.execute_reply": "2025-08-05T16:03:54.316027Z"
    },
    "papermill": {
     "duration": 0.026518,
     "end_time": "2025-08-05T16:03:54.319006",
     "exception": false,
     "start_time": "2025-08-05T16:03:54.292488",
     "status": "completed"
    },
    "tags": []
   },
   "outputs": [],
   "source": [
    "X_train = X_train[keep_mask]"
   ]
  },
  {
   "cell_type": "code",
   "execution_count": 29,
   "id": "b202bb3a",
   "metadata": {
    "execution": {
     "iopub.execute_input": "2025-08-05T16:03:54.356743Z",
     "iopub.status.busy": "2025-08-05T16:03:54.356131Z",
     "iopub.status.idle": "2025-08-05T16:03:54.362685Z",
     "shell.execute_reply": "2025-08-05T16:03:54.361466Z"
    },
    "papermill": {
     "duration": 0.027478,
     "end_time": "2025-08-05T16:03:54.364486",
     "exception": false,
     "start_time": "2025-08-05T16:03:54.337008",
     "status": "completed"
    },
    "tags": []
   },
   "outputs": [],
   "source": [
    "y_train = y_train[keep_mask]"
   ]
  },
  {
   "cell_type": "markdown",
   "id": "493e2ac3",
   "metadata": {
    "papermill": {
     "duration": 0.017707,
     "end_time": "2025-08-05T16:03:54.401630",
     "exception": false,
     "start_time": "2025-08-05T16:03:54.383923",
     "status": "completed"
    },
    "tags": []
   },
   "source": [
    "# Model Training"
   ]
  },
  {
   "cell_type": "code",
   "execution_count": 30,
   "id": "679e1268",
   "metadata": {
    "execution": {
     "iopub.execute_input": "2025-08-05T16:03:54.438584Z",
     "iopub.status.busy": "2025-08-05T16:03:54.437897Z",
     "iopub.status.idle": "2025-08-05T16:03:54.552016Z",
     "shell.execute_reply": "2025-08-05T16:03:54.551089Z"
    },
    "papermill": {
     "duration": 0.134694,
     "end_time": "2025-08-05T16:03:54.554023",
     "exception": false,
     "start_time": "2025-08-05T16:03:54.419329",
     "status": "completed"
    },
    "tags": []
   },
   "outputs": [],
   "source": [
    "from sklearn.linear_model import LogisticRegression\n",
    "from sklearn.ensemble import GradientBoostingClassifier, RandomForestClassifier\n",
    "\n",
    "if (universe[\"model\"] == \"logreg\"):\n",
    "    model = LogisticRegression() #penalty=\"none\", solver=\"newton-cg\", max_iter=1) # include random_state=19 ?\n",
    "elif (universe[\"model\"] == \"penalized_logreg\"):\n",
    "    model = LogisticRegression(penalty=\"l2\", C=0.1) #, solver=\"newton-cg\", max_iter=1)\n",
    "elif (universe[\"model\"] == \"rf\"):\n",
    "    model = RandomForestClassifier() # n_estimators=100, n_jobs=-1\n",
    "elif (universe[\"model\"] == \"gbm\"):\n",
    "    model = GradientBoostingClassifier()\n",
    "elif (universe[\"model\"] == \"elasticnet\"):\n",
    "    model = LogisticRegression(penalty = 'elasticnet', solver = 'saga', l1_ratio = 0.5) # max_iter=5000\n",
    "else:\n",
    "    raise \"Unsupported universe.model\""
   ]
  },
  {
   "cell_type": "code",
   "execution_count": 31,
   "id": "0cc8f744",
   "metadata": {
    "execution": {
     "iopub.execute_input": "2025-08-05T16:03:54.595417Z",
     "iopub.status.busy": "2025-08-05T16:03:54.594510Z",
     "iopub.status.idle": "2025-08-05T16:03:54.602040Z",
     "shell.execute_reply": "2025-08-05T16:03:54.600978Z"
    },
    "papermill": {
     "duration": 0.030081,
     "end_time": "2025-08-05T16:03:54.603984",
     "exception": false,
     "start_time": "2025-08-05T16:03:54.573903",
     "status": "completed"
    },
    "tags": []
   },
   "outputs": [],
   "source": [
    "import numpy as np\n",
    "from sklearn.pipeline import Pipeline\n",
    "from sklearn.preprocessing import StandardScaler\n",
    "\n",
    "model = Pipeline([\n",
    "    #(\"continuous_processor\", continuous_processor),\n",
    "    #(\"categorical_preprocessor\", categorical_preprocessor),\n",
    "    (\"scale\", StandardScaler() if universe[\"scale\"] == \"scale\" else None), \n",
    "    (\"model\", model),\n",
    "])"
   ]
  },
  {
   "cell_type": "code",
   "execution_count": 32,
   "id": "9442c04d",
   "metadata": {
    "execution": {
     "iopub.execute_input": "2025-08-05T16:03:54.644766Z",
     "iopub.status.busy": "2025-08-05T16:03:54.643871Z",
     "iopub.status.idle": "2025-08-05T16:03:54.702644Z",
     "shell.execute_reply": "2025-08-05T16:03:54.701699Z"
    },
    "papermill": {
     "duration": 0.081082,
     "end_time": "2025-08-05T16:03:54.704714",
     "exception": false,
     "start_time": "2025-08-05T16:03:54.623632",
     "status": "completed"
    },
    "tags": []
   },
   "outputs": [
    {
     "data": {
      "text/html": [
       "<style>#sk-container-id-1 {color: black;background-color: white;}#sk-container-id-1 pre{padding: 0;}#sk-container-id-1 div.sk-toggleable {background-color: white;}#sk-container-id-1 label.sk-toggleable__label {cursor: pointer;display: block;width: 100%;margin-bottom: 0;padding: 0.3em;box-sizing: border-box;text-align: center;}#sk-container-id-1 label.sk-toggleable__label-arrow:before {content: \"▸\";float: left;margin-right: 0.25em;color: #696969;}#sk-container-id-1 label.sk-toggleable__label-arrow:hover:before {color: black;}#sk-container-id-1 div.sk-estimator:hover label.sk-toggleable__label-arrow:before {color: black;}#sk-container-id-1 div.sk-toggleable__content {max-height: 0;max-width: 0;overflow: hidden;text-align: left;background-color: #f0f8ff;}#sk-container-id-1 div.sk-toggleable__content pre {margin: 0.2em;color: black;border-radius: 0.25em;background-color: #f0f8ff;}#sk-container-id-1 input.sk-toggleable__control:checked~div.sk-toggleable__content {max-height: 200px;max-width: 100%;overflow: auto;}#sk-container-id-1 input.sk-toggleable__control:checked~label.sk-toggleable__label-arrow:before {content: \"▾\";}#sk-container-id-1 div.sk-estimator input.sk-toggleable__control:checked~label.sk-toggleable__label {background-color: #d4ebff;}#sk-container-id-1 div.sk-label input.sk-toggleable__control:checked~label.sk-toggleable__label {background-color: #d4ebff;}#sk-container-id-1 input.sk-hidden--visually {border: 0;clip: rect(1px 1px 1px 1px);clip: rect(1px, 1px, 1px, 1px);height: 1px;margin: -1px;overflow: hidden;padding: 0;position: absolute;width: 1px;}#sk-container-id-1 div.sk-estimator {font-family: monospace;background-color: #f0f8ff;border: 1px dotted black;border-radius: 0.25em;box-sizing: border-box;margin-bottom: 0.5em;}#sk-container-id-1 div.sk-estimator:hover {background-color: #d4ebff;}#sk-container-id-1 div.sk-parallel-item::after {content: \"\";width: 100%;border-bottom: 1px solid gray;flex-grow: 1;}#sk-container-id-1 div.sk-label:hover label.sk-toggleable__label {background-color: #d4ebff;}#sk-container-id-1 div.sk-serial::before {content: \"\";position: absolute;border-left: 1px solid gray;box-sizing: border-box;top: 0;bottom: 0;left: 50%;z-index: 0;}#sk-container-id-1 div.sk-serial {display: flex;flex-direction: column;align-items: center;background-color: white;padding-right: 0.2em;padding-left: 0.2em;position: relative;}#sk-container-id-1 div.sk-item {position: relative;z-index: 1;}#sk-container-id-1 div.sk-parallel {display: flex;align-items: stretch;justify-content: center;background-color: white;position: relative;}#sk-container-id-1 div.sk-item::before, #sk-container-id-1 div.sk-parallel-item::before {content: \"\";position: absolute;border-left: 1px solid gray;box-sizing: border-box;top: 0;bottom: 0;left: 50%;z-index: -1;}#sk-container-id-1 div.sk-parallel-item {display: flex;flex-direction: column;z-index: 1;position: relative;background-color: white;}#sk-container-id-1 div.sk-parallel-item:first-child::after {align-self: flex-end;width: 50%;}#sk-container-id-1 div.sk-parallel-item:last-child::after {align-self: flex-start;width: 50%;}#sk-container-id-1 div.sk-parallel-item:only-child::after {width: 0;}#sk-container-id-1 div.sk-dashed-wrapped {border: 1px dashed gray;margin: 0 0.4em 0.5em 0.4em;box-sizing: border-box;padding-bottom: 0.4em;background-color: white;}#sk-container-id-1 div.sk-label label {font-family: monospace;font-weight: bold;display: inline-block;line-height: 1.2em;}#sk-container-id-1 div.sk-label-container {text-align: center;}#sk-container-id-1 div.sk-container {/* jupyter's `normalize.less` sets `[hidden] { display: none; }` but bootstrap.min.css set `[hidden] { display: none !important; }` so we also need the `!important` here to be able to override the default hidden behavior on the sphinx rendered scikit-learn.org. See: https://github.com/scikit-learn/scikit-learn/issues/21755 */display: inline-block !important;position: relative;}#sk-container-id-1 div.sk-text-repr-fallback {display: none;}</style><div id=\"sk-container-id-1\" class=\"sk-top-container\"><div class=\"sk-text-repr-fallback\"><pre>Pipeline(steps=[(&#x27;scale&#x27;, StandardScaler()),\n",
       "                (&#x27;model&#x27;, LogisticRegression(C=0.1))])</pre><b>In a Jupyter environment, please rerun this cell to show the HTML representation or trust the notebook. <br />On GitHub, the HTML representation is unable to render, please try loading this page with nbviewer.org.</b></div><div class=\"sk-container\" hidden><div class=\"sk-item sk-dashed-wrapped\"><div class=\"sk-label-container\"><div class=\"sk-label sk-toggleable\"><input class=\"sk-toggleable__control sk-hidden--visually\" id=\"sk-estimator-id-1\" type=\"checkbox\" ><label for=\"sk-estimator-id-1\" class=\"sk-toggleable__label sk-toggleable__label-arrow\">Pipeline</label><div class=\"sk-toggleable__content\"><pre>Pipeline(steps=[(&#x27;scale&#x27;, StandardScaler()),\n",
       "                (&#x27;model&#x27;, LogisticRegression(C=0.1))])</pre></div></div></div><div class=\"sk-serial\"><div class=\"sk-item\"><div class=\"sk-estimator sk-toggleable\"><input class=\"sk-toggleable__control sk-hidden--visually\" id=\"sk-estimator-id-2\" type=\"checkbox\" ><label for=\"sk-estimator-id-2\" class=\"sk-toggleable__label sk-toggleable__label-arrow\">StandardScaler</label><div class=\"sk-toggleable__content\"><pre>StandardScaler()</pre></div></div></div><div class=\"sk-item\"><div class=\"sk-estimator sk-toggleable\"><input class=\"sk-toggleable__control sk-hidden--visually\" id=\"sk-estimator-id-3\" type=\"checkbox\" ><label for=\"sk-estimator-id-3\" class=\"sk-toggleable__label sk-toggleable__label-arrow\">LogisticRegression</label><div class=\"sk-toggleable__content\"><pre>LogisticRegression(C=0.1)</pre></div></div></div></div></div></div></div>"
      ],
      "text/plain": [
       "Pipeline(steps=[('scale', StandardScaler()),\n",
       "                ('model', LogisticRegression(C=0.1))])"
      ]
     },
     "execution_count": 32,
     "metadata": {},
     "output_type": "execute_result"
    }
   ],
   "source": [
    "model.fit(X_train, y_train.values.ravel())"
   ]
  },
  {
   "cell_type": "code",
   "execution_count": 33,
   "id": "af59f8c0",
   "metadata": {
    "execution": {
     "iopub.execute_input": "2025-08-05T16:03:54.743546Z",
     "iopub.status.busy": "2025-08-05T16:03:54.742625Z",
     "iopub.status.idle": "2025-08-05T16:03:54.748505Z",
     "shell.execute_reply": "2025-08-05T16:03:54.747499Z"
    },
    "papermill": {
     "duration": 0.027615,
     "end_time": "2025-08-05T16:03:54.750557",
     "exception": false,
     "start_time": "2025-08-05T16:03:54.722942",
     "status": "completed"
    },
    "tags": []
   },
   "outputs": [],
   "source": [
    "from fairness_multiverse.universe import predict_w_threshold"
   ]
  },
  {
   "cell_type": "code",
   "execution_count": 34,
   "id": "a7cf2e16",
   "metadata": {
    "execution": {
     "iopub.execute_input": "2025-08-05T16:03:54.794446Z",
     "iopub.status.busy": "2025-08-05T16:03:54.793744Z",
     "iopub.status.idle": "2025-08-05T16:03:54.979640Z",
     "shell.execute_reply": "2025-08-05T16:03:54.978685Z"
    },
    "papermill": {
     "duration": 0.209529,
     "end_time": "2025-08-05T16:03:54.981522",
     "exception": false,
     "start_time": "2025-08-05T16:03:54.771993",
     "status": "completed"
    },
    "tags": []
   },
   "outputs": [
    {
     "data": {
      "text/plain": [
       "0.830531713298406"
      ]
     },
     "execution_count": 34,
     "metadata": {},
     "output_type": "execute_result"
    }
   ],
   "source": [
    "probs_test = model.predict_proba(X_test)\n",
    "\n",
    "'''\n",
    "Below code returns a boolean array (or binary 0/1 array depending on how it’s used) where each element \n",
    "is True if the probability of class 1 is greater than or equal to the threshold, and False otherwise.\n",
    "'''\n",
    "y_pred_default = predict_w_threshold(probs_test, 0.5)\n",
    "\n",
    "from sklearn.metrics import accuracy_score\n",
    "\n",
    "# Naive prediction\n",
    "accuracy_score(y_true = y_true, y_pred = y_pred_default)"
   ]
  },
  {
   "cell_type": "code",
   "execution_count": 35,
   "id": "081964c3",
   "metadata": {
    "execution": {
     "iopub.execute_input": "2025-08-05T16:03:55.026842Z",
     "iopub.status.busy": "2025-08-05T16:03:55.026191Z",
     "iopub.status.idle": "2025-08-05T16:03:55.205480Z",
     "shell.execute_reply": "2025-08-05T16:03:55.204563Z"
    },
    "papermill": {
     "duration": 0.204095,
     "end_time": "2025-08-05T16:03:55.207376",
     "exception": false,
     "start_time": "2025-08-05T16:03:55.003281",
     "status": "completed"
    },
    "tags": []
   },
   "outputs": [
    {
     "data": {
      "text/plain": [
       "array([0, 0, 0, ..., 0, 0, 0])"
      ]
     },
     "execution_count": 35,
     "metadata": {},
     "output_type": "execute_result"
    }
   ],
   "source": [
    "model.predict(X_test)"
   ]
  },
  {
   "cell_type": "markdown",
   "id": "56c9705b",
   "metadata": {
    "papermill": {
     "duration": 0.020191,
     "end_time": "2025-08-05T16:03:55.250855",
     "exception": false,
     "start_time": "2025-08-05T16:03:55.230664",
     "status": "completed"
    },
    "tags": []
   },
   "source": [
    "# Conformal Prediction"
   ]
  },
  {
   "cell_type": "code",
   "execution_count": 36,
   "id": "160ec6ff",
   "metadata": {
    "execution": {
     "iopub.execute_input": "2025-08-05T16:03:55.293715Z",
     "iopub.status.busy": "2025-08-05T16:03:55.292816Z",
     "iopub.status.idle": "2025-08-05T16:03:55.298273Z",
     "shell.execute_reply": "2025-08-05T16:03:55.297259Z"
    },
    "papermill": {
     "duration": 0.029231,
     "end_time": "2025-08-05T16:03:55.300140",
     "exception": false,
     "start_time": "2025-08-05T16:03:55.270909",
     "status": "completed"
    },
    "tags": []
   },
   "outputs": [],
   "source": [
    "# Miscoverage level for conformal prediction (10% allowed error rate => 90% target coverage)\n",
    "alpha = 0.1"
   ]
  },
  {
   "cell_type": "code",
   "execution_count": 37,
   "id": "eadf4555-3dd3-440e-8e35-f82a4ad9f855",
   "metadata": {
    "execution": {
     "iopub.execute_input": "2025-08-05T16:03:55.344767Z",
     "iopub.status.busy": "2025-08-05T16:03:55.344135Z",
     "iopub.status.idle": "2025-08-05T16:03:55.515292Z",
     "shell.execute_reply": "2025-08-05T16:03:55.514356Z"
    },
    "papermill": {
     "duration": 0.193614,
     "end_time": "2025-08-05T16:03:55.517238",
     "exception": false,
     "start_time": "2025-08-05T16:03:55.323624",
     "status": "completed"
    },
    "tags": []
   },
   "outputs": [],
   "source": [
    "probs_calib = model.predict_proba(X_calib)"
   ]
  },
  {
   "cell_type": "code",
   "execution_count": 38,
   "id": "2ed93547-6d5d-4983-9b36-1ecb300da49a",
   "metadata": {
    "execution": {
     "iopub.execute_input": "2025-08-05T16:03:55.560873Z",
     "iopub.status.busy": "2025-08-05T16:03:55.559994Z",
     "iopub.status.idle": "2025-08-05T16:03:55.565539Z",
     "shell.execute_reply": "2025-08-05T16:03:55.564399Z"
    },
    "papermill": {
     "duration": 0.029018,
     "end_time": "2025-08-05T16:03:55.567269",
     "exception": false,
     "start_time": "2025-08-05T16:03:55.538251",
     "status": "completed"
    },
    "tags": []
   },
   "outputs": [],
   "source": [
    "y_calib = y_calib.values.ravel().astype(int)"
   ]
  },
  {
   "cell_type": "code",
   "execution_count": 39,
   "id": "65d1320d-f588-4b38-9072-62af1ae97f7d",
   "metadata": {
    "execution": {
     "iopub.execute_input": "2025-08-05T16:03:55.611998Z",
     "iopub.status.busy": "2025-08-05T16:03:55.611179Z",
     "iopub.status.idle": "2025-08-05T16:03:55.619785Z",
     "shell.execute_reply": "2025-08-05T16:03:55.618655Z"
    },
    "papermill": {
     "duration": 0.032899,
     "end_time": "2025-08-05T16:03:55.621621",
     "exception": false,
     "start_time": "2025-08-05T16:03:55.588722",
     "status": "completed"
    },
    "tags": []
   },
   "outputs": [],
   "source": [
    "from fairness_multiverse.conformal import compute_nc_scores\n",
    "\n",
    "# Compute nonconformity scores on calibration set (1 - probability of true class)\n",
    "nc_scores = compute_nc_scores(probs_calib, y_calib)"
   ]
  },
  {
   "cell_type": "code",
   "execution_count": 40,
   "id": "df3b8ca3-53b7-43d5-9667-7c85da7aeda2",
   "metadata": {
    "execution": {
     "iopub.execute_input": "2025-08-05T16:03:55.673178Z",
     "iopub.status.busy": "2025-08-05T16:03:55.672645Z",
     "iopub.status.idle": "2025-08-05T16:03:55.680458Z",
     "shell.execute_reply": "2025-08-05T16:03:55.679232Z"
    },
    "papermill": {
     "duration": 0.035945,
     "end_time": "2025-08-05T16:03:55.682865",
     "exception": false,
     "start_time": "2025-08-05T16:03:55.646920",
     "status": "completed"
    },
    "tags": []
   },
   "outputs": [],
   "source": [
    "from fairness_multiverse.conformal import find_threshold\n",
    "\n",
    "# Find conformal threshold q_hat for the given alpha (split conformal method)\n",
    "q_hat = find_threshold(nc_scores, alpha)"
   ]
  },
  {
   "cell_type": "code",
   "execution_count": 41,
   "id": "4d29e6c1-0ef6-4aa4-b8fe-4fe79b0d033a",
   "metadata": {
    "execution": {
     "iopub.execute_input": "2025-08-05T16:03:55.741748Z",
     "iopub.status.busy": "2025-08-05T16:03:55.741253Z",
     "iopub.status.idle": "2025-08-05T16:03:55.748718Z",
     "shell.execute_reply": "2025-08-05T16:03:55.747594Z"
    },
    "papermill": {
     "duration": 0.037083,
     "end_time": "2025-08-05T16:03:55.750595",
     "exception": false,
     "start_time": "2025-08-05T16:03:55.713512",
     "status": "completed"
    },
    "tags": []
   },
   "outputs": [
    {
     "data": {
      "text/plain": [
       "0.745539890791095"
      ]
     },
     "execution_count": 41,
     "metadata": {},
     "output_type": "execute_result"
    }
   ],
   "source": [
    "q_hat"
   ]
  },
  {
   "cell_type": "code",
   "execution_count": 42,
   "id": "92460794-cdac-4be2-ba28-f28c0515a6fb",
   "metadata": {
    "execution": {
     "iopub.execute_input": "2025-08-05T16:03:55.796373Z",
     "iopub.status.busy": "2025-08-05T16:03:55.795147Z",
     "iopub.status.idle": "2025-08-05T16:03:56.724149Z",
     "shell.execute_reply": "2025-08-05T16:03:56.723130Z"
    },
    "papermill": {
     "duration": 0.954007,
     "end_time": "2025-08-05T16:03:56.726036",
     "exception": false,
     "start_time": "2025-08-05T16:03:55.772029",
     "status": "completed"
    },
    "tags": []
   },
   "outputs": [],
   "source": [
    "from fairness_multiverse.conformal import predict_conformal_sets\n",
    "\n",
    "# Generate prediction sets for each test example\n",
    "pred_sets = predict_conformal_sets(model, X_test, q_hat)"
   ]
  },
  {
   "cell_type": "code",
   "execution_count": 43,
   "id": "d90c9a65-e6db-4f5d-80cd-e68fb7e46829",
   "metadata": {
    "execution": {
     "iopub.execute_input": "2025-08-05T16:03:56.768215Z",
     "iopub.status.busy": "2025-08-05T16:03:56.767277Z",
     "iopub.status.idle": "2025-08-05T16:03:56.773237Z",
     "shell.execute_reply": "2025-08-05T16:03:56.772143Z"
    },
    "papermill": {
     "duration": 0.028635,
     "end_time": "2025-08-05T16:03:56.775292",
     "exception": false,
     "start_time": "2025-08-05T16:03:56.746657",
     "status": "completed"
    },
    "tags": []
   },
   "outputs": [],
   "source": [
    "y_true = y_true.squeeze()"
   ]
  },
  {
   "cell_type": "code",
   "execution_count": 44,
   "id": "3a58a54a-1e68-46b9-927a-df01f18aebc8",
   "metadata": {
    "execution": {
     "iopub.execute_input": "2025-08-05T16:03:56.823492Z",
     "iopub.status.busy": "2025-08-05T16:03:56.822734Z",
     "iopub.status.idle": "2025-08-05T16:03:57.787698Z",
     "shell.execute_reply": "2025-08-05T16:03:57.786703Z"
    },
    "papermill": {
     "duration": 0.990835,
     "end_time": "2025-08-05T16:03:57.789631",
     "exception": false,
     "start_time": "2025-08-05T16:03:56.798796",
     "status": "completed"
    },
    "tags": []
   },
   "outputs": [],
   "source": [
    "from fairness_multiverse.conformal import evaluate_sets\n",
    "\n",
    "# Evaluate coverage and average set size on test data\n",
    "metrics = evaluate_sets(pred_sets, y_true)"
   ]
  },
  {
   "cell_type": "markdown",
   "id": "2b569c12-9aaa-4c88-98c9-bbcd0cf3ebb8",
   "metadata": {
    "papermill": {
     "duration": 0.020247,
     "end_time": "2025-08-05T16:03:57.832290",
     "exception": false,
     "start_time": "2025-08-05T16:03:57.812043",
     "status": "completed"
    },
    "tags": []
   },
   "source": [
    "# CP Metrics"
   ]
  },
  {
   "cell_type": "code",
   "execution_count": 45,
   "id": "5ce0a5cb-201f-45a0-ade5-94c7f0bd6095",
   "metadata": {
    "execution": {
     "iopub.execute_input": "2025-08-05T16:03:57.878591Z",
     "iopub.status.busy": "2025-08-05T16:03:57.877767Z",
     "iopub.status.idle": "2025-08-05T16:03:57.886025Z",
     "shell.execute_reply": "2025-08-05T16:03:57.884876Z"
    },
    "papermill": {
     "duration": 0.03387,
     "end_time": "2025-08-05T16:03:57.887798",
     "exception": false,
     "start_time": "2025-08-05T16:03:57.853928",
     "status": "completed"
    },
    "tags": []
   },
   "outputs": [
    {
     "data": {
      "text/plain": [
       "{'coverage': 0.9080370081373313, 'avg_size': 1.201961877159737}"
      ]
     },
     "execution_count": 45,
     "metadata": {},
     "output_type": "execute_result"
    }
   ],
   "source": [
    "metrics"
   ]
  },
  {
   "cell_type": "code",
   "execution_count": 46,
   "id": "9b9a838d-31c9-430b-ae14-12baee460d17",
   "metadata": {
    "execution": {
     "iopub.execute_input": "2025-08-05T16:03:57.933425Z",
     "iopub.status.busy": "2025-08-05T16:03:57.933017Z",
     "iopub.status.idle": "2025-08-05T16:03:57.940154Z",
     "shell.execute_reply": "2025-08-05T16:03:57.938977Z"
    },
    "papermill": {
     "duration": 0.032031,
     "end_time": "2025-08-05T16:03:57.941956",
     "exception": false,
     "start_time": "2025-08-05T16:03:57.909925",
     "status": "completed"
    },
    "tags": []
   },
   "outputs": [],
   "source": [
    "example_universe = universe.copy()\n",
    "universe_training_year = example_universe.get(\"training_year\")\n",
    "universe_training_size = example_universe.get(\"training_size\")\n",
    "universe_scale = example_universe.get(\"scale\")\n",
    "universe_model = example_universe.get(\"model\")\n",
    "universe_exclude_features = example_universe.get(\"exclude_features\")\n",
    "universe_exclude_subgroups = example_universe.get(\"exclude_subgroups\")"
   ]
  },
  {
   "cell_type": "code",
   "execution_count": 47,
   "id": "f4b6a8ac-9dc0-4245-8a91-5b3b5999c4f9",
   "metadata": {
    "execution": {
     "iopub.execute_input": "2025-08-05T16:03:57.994819Z",
     "iopub.status.busy": "2025-08-05T16:03:57.993890Z",
     "iopub.status.idle": "2025-08-05T16:03:58.000966Z",
     "shell.execute_reply": "2025-08-05T16:03:57.999924Z"
    },
    "papermill": {
     "duration": 0.034767,
     "end_time": "2025-08-05T16:03:58.003036",
     "exception": false,
     "start_time": "2025-08-05T16:03:57.968269",
     "status": "completed"
    },
    "tags": []
   },
   "outputs": [],
   "source": [
    "cp_metrics_dict = {\n",
    "    \"universe_id\": [universe_id],\n",
    "    \"universe_training_year\": [universe_training_year],\n",
    "    \"universe_training_size\": [universe_training_size],\n",
    "    \"universe_scale\": [universe_scale],\n",
    "    \"universe_model\": [universe_model],\n",
    "    \"universe_exclude_features\": [universe_exclude_features],\n",
    "    \"universe_exclude_subgroups\": [universe_exclude_subgroups],\n",
    "    \"q_hat\": [q_hat],\n",
    "    \"coverage\": [metrics[\"coverage\"]],\n",
    "    \"avg_size\": [metrics[\"avg_size\"]],\n",
    "}"
   ]
  },
  {
   "cell_type": "code",
   "execution_count": 48,
   "id": "908acbb1-0371-4915-85ca-3fa520d2efe2",
   "metadata": {
    "execution": {
     "iopub.execute_input": "2025-08-05T16:03:58.049037Z",
     "iopub.status.busy": "2025-08-05T16:03:58.047637Z",
     "iopub.status.idle": "2025-08-05T16:03:58.055746Z",
     "shell.execute_reply": "2025-08-05T16:03:58.054698Z"
    },
    "papermill": {
     "duration": 0.032392,
     "end_time": "2025-08-05T16:03:58.057578",
     "exception": false,
     "start_time": "2025-08-05T16:03:58.025186",
     "status": "completed"
    },
    "tags": []
   },
   "outputs": [
    {
     "data": {
      "text/plain": [
       "{'universe_id': ['e1e7bd20b1896a0d9ac6a0e6a3c5d600'],\n",
       " 'universe_training_year': ['2014'],\n",
       " 'universe_training_size': ['1k'],\n",
       " 'universe_scale': ['scale'],\n",
       " 'universe_model': ['penalized_logreg'],\n",
       " 'universe_exclude_features': ['nationality-sex'],\n",
       " 'universe_exclude_subgroups': ['keep-all'],\n",
       " 'q_hat': [0.745539890791095],\n",
       " 'coverage': [0.9080370081373313],\n",
       " 'avg_size': [1.201961877159737]}"
      ]
     },
     "execution_count": 48,
     "metadata": {},
     "output_type": "execute_result"
    }
   ],
   "source": [
    "cp_metrics_dict"
   ]
  },
  {
   "cell_type": "code",
   "execution_count": 49,
   "id": "33007efc-14e9-4ec6-97ac-56a455c82265",
   "metadata": {
    "execution": {
     "iopub.execute_input": "2025-08-05T16:03:58.101501Z",
     "iopub.status.busy": "2025-08-05T16:03:58.101124Z",
     "iopub.status.idle": "2025-08-05T16:03:58.107230Z",
     "shell.execute_reply": "2025-08-05T16:03:58.106230Z"
    },
    "papermill": {
     "duration": 0.030161,
     "end_time": "2025-08-05T16:03:58.109109",
     "exception": false,
     "start_time": "2025-08-05T16:03:58.078948",
     "status": "completed"
    },
    "tags": []
   },
   "outputs": [],
   "source": [
    "cp_metrics_df = pd.DataFrame(cp_metrics_dict)"
   ]
  },
  {
   "cell_type": "code",
   "execution_count": 50,
   "id": "db12611b-57b2-4910-b9d0-355adfd6e7bf",
   "metadata": {
    "execution": {
     "iopub.execute_input": "2025-08-05T16:03:58.156301Z",
     "iopub.status.busy": "2025-08-05T16:03:58.155428Z",
     "iopub.status.idle": "2025-08-05T16:03:58.175577Z",
     "shell.execute_reply": "2025-08-05T16:03:58.174595Z"
    },
    "papermill": {
     "duration": 0.045215,
     "end_time": "2025-08-05T16:03:58.177214",
     "exception": false,
     "start_time": "2025-08-05T16:03:58.131999",
     "status": "completed"
    },
    "tags": []
   },
   "outputs": [
    {
     "data": {
      "text/html": [
       "<div>\n",
       "<style scoped>\n",
       "    .dataframe tbody tr th:only-of-type {\n",
       "        vertical-align: middle;\n",
       "    }\n",
       "\n",
       "    .dataframe tbody tr th {\n",
       "        vertical-align: top;\n",
       "    }\n",
       "\n",
       "    .dataframe thead th {\n",
       "        text-align: right;\n",
       "    }\n",
       "</style>\n",
       "<table border=\"1\" class=\"dataframe\">\n",
       "  <thead>\n",
       "    <tr style=\"text-align: right;\">\n",
       "      <th></th>\n",
       "      <th>universe_id</th>\n",
       "      <th>universe_training_year</th>\n",
       "      <th>universe_training_size</th>\n",
       "      <th>universe_scale</th>\n",
       "      <th>universe_model</th>\n",
       "      <th>universe_exclude_features</th>\n",
       "      <th>universe_exclude_subgroups</th>\n",
       "      <th>q_hat</th>\n",
       "      <th>coverage</th>\n",
       "      <th>avg_size</th>\n",
       "    </tr>\n",
       "  </thead>\n",
       "  <tbody>\n",
       "    <tr>\n",
       "      <th>0</th>\n",
       "      <td>e1e7bd20b1896a0d9ac6a0e6a3c5d600</td>\n",
       "      <td>2014</td>\n",
       "      <td>1k</td>\n",
       "      <td>scale</td>\n",
       "      <td>penalized_logreg</td>\n",
       "      <td>nationality-sex</td>\n",
       "      <td>keep-all</td>\n",
       "      <td>0.74554</td>\n",
       "      <td>0.908037</td>\n",
       "      <td>1.201962</td>\n",
       "    </tr>\n",
       "  </tbody>\n",
       "</table>\n",
       "</div>"
      ],
      "text/plain": [
       "                        universe_id universe_training_year  \\\n",
       "0  e1e7bd20b1896a0d9ac6a0e6a3c5d600                   2014   \n",
       "\n",
       "  universe_training_size universe_scale    universe_model  \\\n",
       "0                     1k          scale  penalized_logreg   \n",
       "\n",
       "  universe_exclude_features universe_exclude_subgroups    q_hat  coverage  \\\n",
       "0           nationality-sex                   keep-all  0.74554  0.908037   \n",
       "\n",
       "   avg_size  \n",
       "0  1.201962  "
      ]
     },
     "execution_count": 50,
     "metadata": {},
     "output_type": "execute_result"
    }
   ],
   "source": [
    "cp_metrics_df"
   ]
  },
  {
   "cell_type": "code",
   "execution_count": 51,
   "id": "b7fbde55-a0a1-47e4-9af6-fe4a17fa8c61",
   "metadata": {
    "execution": {
     "iopub.execute_input": "2025-08-05T16:03:58.225500Z",
     "iopub.status.busy": "2025-08-05T16:03:58.224667Z",
     "iopub.status.idle": "2025-08-05T16:03:58.229992Z",
     "shell.execute_reply": "2025-08-05T16:03:58.228883Z"
    },
    "papermill": {
     "duration": 0.030786,
     "end_time": "2025-08-05T16:03:58.231624",
     "exception": false,
     "start_time": "2025-08-05T16:03:58.200838",
     "status": "completed"
    },
    "tags": []
   },
   "outputs": [],
   "source": [
    "# Conditional Coverage & looking at subgroups"
   ]
  },
  {
   "cell_type": "code",
   "execution_count": 52,
   "id": "027ae886-68dd-4141-96c7-805a5450e1ef",
   "metadata": {
    "execution": {
     "iopub.execute_input": "2025-08-05T16:03:58.279618Z",
     "iopub.status.busy": "2025-08-05T16:03:58.278794Z",
     "iopub.status.idle": "2025-08-05T16:03:58.536057Z",
     "shell.execute_reply": "2025-08-05T16:03:58.534942Z"
    },
    "papermill": {
     "duration": 0.283086,
     "end_time": "2025-08-05T16:03:58.537897",
     "exception": false,
     "start_time": "2025-08-05T16:03:58.254811",
     "status": "completed"
    },
    "tags": []
   },
   "outputs": [],
   "source": [
    "from fairness_multiverse.conformal import build_cp_groups\n",
    "\n",
    "cp_groups_df = build_cp_groups(pred_sets, y_true, X_test.index, org_test)\n",
    "#needs universe_id and setting"
   ]
  },
  {
   "cell_type": "code",
   "execution_count": 53,
   "id": "6cbdab96-b2b2-45af-ad54-d0516db2e28d",
   "metadata": {
    "execution": {
     "iopub.execute_input": "2025-08-05T16:03:58.585815Z",
     "iopub.status.busy": "2025-08-05T16:03:58.585112Z",
     "iopub.status.idle": "2025-08-05T16:04:00.485536Z",
     "shell.execute_reply": "2025-08-05T16:04:00.484476Z"
    },
    "papermill": {
     "duration": 1.926503,
     "end_time": "2025-08-05T16:04:00.487565",
     "exception": false,
     "start_time": "2025-08-05T16:03:58.561062",
     "status": "completed"
    },
    "tags": []
   },
   "outputs": [],
   "source": [
    "# Define covered = 1 if true_label is in the predicted set\n",
    "cp_groups_df['covered'] = cp_groups_df.apply(\n",
    "    lambda r: int(r['true_label'] in r['pred_set']),\n",
    "    axis=1\n",
    ")"
   ]
  },
  {
   "cell_type": "code",
   "execution_count": 54,
   "id": "338ff529-1a6b-4b87-a931-8e4788d52aad",
   "metadata": {
    "execution": {
     "iopub.execute_input": "2025-08-05T16:04:00.534635Z",
     "iopub.status.busy": "2025-08-05T16:04:00.533774Z",
     "iopub.status.idle": "2025-08-05T16:04:00.539833Z",
     "shell.execute_reply": "2025-08-05T16:04:00.538788Z"
    },
    "papermill": {
     "duration": 0.030246,
     "end_time": "2025-08-05T16:04:00.541843",
     "exception": false,
     "start_time": "2025-08-05T16:04:00.511597",
     "status": "completed"
    },
    "tags": []
   },
   "outputs": [],
   "source": [
    "#cp_groups_df"
   ]
  },
  {
   "cell_type": "code",
   "execution_count": 55,
   "id": "90032e27-66df-4540-9169-4e89cfbaa758",
   "metadata": {
    "execution": {
     "iopub.execute_input": "2025-08-05T16:04:00.586777Z",
     "iopub.status.busy": "2025-08-05T16:04:00.586075Z",
     "iopub.status.idle": "2025-08-05T16:04:00.598309Z",
     "shell.execute_reply": "2025-08-05T16:04:00.597259Z"
    },
    "papermill": {
     "duration": 0.035477,
     "end_time": "2025-08-05T16:04:00.600094",
     "exception": false,
     "start_time": "2025-08-05T16:04:00.564617",
     "status": "completed"
    },
    "tags": []
   },
   "outputs": [],
   "source": [
    "subgroups = ['frau1','nongerman','nongerman_male','nongerman_female']\n",
    "\n",
    "# Conditional coverage for subgroup==1\n",
    "cond_coverage = {\n",
    "    g: cp_groups_df.loc[cp_groups_df[g]==1, 'covered'].mean()\n",
    "    for g in subgroups\n",
    "}"
   ]
  },
  {
   "cell_type": "code",
   "execution_count": 56,
   "id": "1e348fb1-b9c3-45bc-ba23-f016827a7e0d",
   "metadata": {
    "execution": {
     "iopub.execute_input": "2025-08-05T16:04:00.644079Z",
     "iopub.status.busy": "2025-08-05T16:04:00.643223Z",
     "iopub.status.idle": "2025-08-05T16:04:00.651430Z",
     "shell.execute_reply": "2025-08-05T16:04:00.650520Z"
    },
    "papermill": {
     "duration": 0.031369,
     "end_time": "2025-08-05T16:04:00.652967",
     "exception": false,
     "start_time": "2025-08-05T16:04:00.621598",
     "status": "completed"
    },
    "tags": []
   },
   "outputs": [
    {
     "data": {
      "text/plain": [
       "{'frau1': 0.9050545895673271,\n",
       " 'nongerman': 0.9081569640150452,\n",
       " 'nongerman_male': 0.9257858236512654,\n",
       " 'nongerman_female': 0.8789865871833085}"
      ]
     },
     "execution_count": 56,
     "metadata": {},
     "output_type": "execute_result"
    }
   ],
   "source": [
    "cond_coverage"
   ]
  },
  {
   "cell_type": "code",
   "execution_count": 57,
   "id": "f5093324-c3dd-4d63-bc4c-8d945e5c8bbb",
   "metadata": {
    "execution": {
     "iopub.execute_input": "2025-08-05T16:04:00.698617Z",
     "iopub.status.busy": "2025-08-05T16:04:00.697905Z",
     "iopub.status.idle": "2025-08-05T16:04:00.705979Z",
     "shell.execute_reply": "2025-08-05T16:04:00.704973Z"
    },
    "papermill": {
     "duration": 0.033062,
     "end_time": "2025-08-05T16:04:00.707711",
     "exception": false,
     "start_time": "2025-08-05T16:04:00.674649",
     "status": "completed"
    },
    "tags": []
   },
   "outputs": [],
   "source": [
    "for subgroup, cov in cond_coverage.items():\n",
    "    cp_metrics_df[f\"cov_{subgroup}\"] = cov"
   ]
  },
  {
   "cell_type": "code",
   "execution_count": 58,
   "id": "6e872e10-dbe5-49e8-b554-5030c98ff75d",
   "metadata": {
    "execution": {
     "iopub.execute_input": "2025-08-05T16:04:00.752691Z",
     "iopub.status.busy": "2025-08-05T16:04:00.752013Z",
     "iopub.status.idle": "2025-08-05T16:04:00.772544Z",
     "shell.execute_reply": "2025-08-05T16:04:00.771421Z"
    },
    "papermill": {
     "duration": 0.044019,
     "end_time": "2025-08-05T16:04:00.774090",
     "exception": false,
     "start_time": "2025-08-05T16:04:00.730071",
     "status": "completed"
    },
    "tags": []
   },
   "outputs": [
    {
     "data": {
      "text/html": [
       "<div>\n",
       "<style scoped>\n",
       "    .dataframe tbody tr th:only-of-type {\n",
       "        vertical-align: middle;\n",
       "    }\n",
       "\n",
       "    .dataframe tbody tr th {\n",
       "        vertical-align: top;\n",
       "    }\n",
       "\n",
       "    .dataframe thead th {\n",
       "        text-align: right;\n",
       "    }\n",
       "</style>\n",
       "<table border=\"1\" class=\"dataframe\">\n",
       "  <thead>\n",
       "    <tr style=\"text-align: right;\">\n",
       "      <th></th>\n",
       "      <th>universe_id</th>\n",
       "      <th>universe_training_year</th>\n",
       "      <th>universe_training_size</th>\n",
       "      <th>universe_scale</th>\n",
       "      <th>universe_model</th>\n",
       "      <th>universe_exclude_features</th>\n",
       "      <th>universe_exclude_subgroups</th>\n",
       "      <th>q_hat</th>\n",
       "      <th>coverage</th>\n",
       "      <th>avg_size</th>\n",
       "      <th>cov_frau1</th>\n",
       "      <th>cov_nongerman</th>\n",
       "      <th>cov_nongerman_male</th>\n",
       "      <th>cov_nongerman_female</th>\n",
       "    </tr>\n",
       "  </thead>\n",
       "  <tbody>\n",
       "    <tr>\n",
       "      <th>0</th>\n",
       "      <td>e1e7bd20b1896a0d9ac6a0e6a3c5d600</td>\n",
       "      <td>2014</td>\n",
       "      <td>1k</td>\n",
       "      <td>scale</td>\n",
       "      <td>penalized_logreg</td>\n",
       "      <td>nationality-sex</td>\n",
       "      <td>keep-all</td>\n",
       "      <td>0.74554</td>\n",
       "      <td>0.908037</td>\n",
       "      <td>1.201962</td>\n",
       "      <td>0.905055</td>\n",
       "      <td>0.908157</td>\n",
       "      <td>0.925786</td>\n",
       "      <td>0.878987</td>\n",
       "    </tr>\n",
       "  </tbody>\n",
       "</table>\n",
       "</div>"
      ],
      "text/plain": [
       "                        universe_id universe_training_year  \\\n",
       "0  e1e7bd20b1896a0d9ac6a0e6a3c5d600                   2014   \n",
       "\n",
       "  universe_training_size universe_scale    universe_model  \\\n",
       "0                     1k          scale  penalized_logreg   \n",
       "\n",
       "  universe_exclude_features universe_exclude_subgroups    q_hat  coverage  \\\n",
       "0           nationality-sex                   keep-all  0.74554  0.908037   \n",
       "\n",
       "   avg_size  cov_frau1  cov_nongerman  cov_nongerman_male  \\\n",
       "0  1.201962   0.905055       0.908157            0.925786   \n",
       "\n",
       "   cov_nongerman_female  \n",
       "0              0.878987  "
      ]
     },
     "execution_count": 58,
     "metadata": {},
     "output_type": "execute_result"
    }
   ],
   "source": [
    "cp_metrics_df"
   ]
  },
  {
   "cell_type": "markdown",
   "id": "33774451",
   "metadata": {
    "papermill": {
     "duration": 0.022148,
     "end_time": "2025-08-05T16:04:00.817468",
     "exception": false,
     "start_time": "2025-08-05T16:04:00.795320",
     "status": "completed"
    },
    "tags": []
   },
   "source": [
    "# (Fairness) Metrics"
   ]
  },
  {
   "cell_type": "code",
   "execution_count": 59,
   "id": "debc5d62",
   "metadata": {
    "execution": {
     "iopub.execute_input": "2025-08-05T16:04:00.862059Z",
     "iopub.status.busy": "2025-08-05T16:04:00.861287Z",
     "iopub.status.idle": "2025-08-05T16:04:00.883798Z",
     "shell.execute_reply": "2025-08-05T16:04:00.882917Z"
    },
    "papermill": {
     "duration": 0.046884,
     "end_time": "2025-08-05T16:04:00.885569",
     "exception": false,
     "start_time": "2025-08-05T16:04:00.838685",
     "status": "completed"
    },
    "tags": []
   },
   "outputs": [],
   "source": [
    "# do I need to include maxdeutsch1.missing?\n",
    "\n",
    "import numpy as np\n",
    "\n",
    "colname_to_bin = \"maxdeutsch1\"\n",
    "majority_value = org_train[colname_to_bin].mode()[0]\n",
    "\n",
    "org_test[\"majmin\"] = np.where(org_test[colname_to_bin] == majority_value, \"majority\", \"minority\")"
   ]
  },
  {
   "cell_type": "code",
   "execution_count": 60,
   "id": "06a50de5",
   "metadata": {
    "execution": {
     "iopub.execute_input": "2025-08-05T16:04:00.931144Z",
     "iopub.status.busy": "2025-08-05T16:04:00.930508Z",
     "iopub.status.idle": "2025-08-05T16:04:03.278469Z",
     "shell.execute_reply": "2025-08-05T16:04:03.277262Z"
    },
    "papermill": {
     "duration": 2.372325,
     "end_time": "2025-08-05T16:04:03.280372",
     "exception": false,
     "start_time": "2025-08-05T16:04:00.908047",
     "status": "completed"
    },
    "tags": []
   },
   "outputs": [],
   "source": [
    "example_universe = universe.copy()\n",
    "example_universe[\"cutoff\"] = example_universe[\"cutoff\"][0]\n",
    "example_universe[\"eval_fairness_grouping\"] = example_universe[\"eval_fairness_grouping\"][0]\n",
    "fairness_dict, metric_frame = universe_analysis.compute_metrics(\n",
    "    example_universe,\n",
    "    y_pred_prob=probs_test,\n",
    "    y_test=y_true,\n",
    "    org_test=org_test,\n",
    ")"
   ]
  },
  {
   "cell_type": "markdown",
   "id": "f95d4e02",
   "metadata": {
    "papermill": {
     "duration": 0.025189,
     "end_time": "2025-08-05T16:04:03.330905",
     "exception": false,
     "start_time": "2025-08-05T16:04:03.305716",
     "status": "completed"
    },
    "tags": []
   },
   "source": [
    "# Overall"
   ]
  },
  {
   "cell_type": "markdown",
   "id": "bdee4871",
   "metadata": {
    "papermill": {
     "duration": 0.021945,
     "end_time": "2025-08-05T16:04:03.376398",
     "exception": false,
     "start_time": "2025-08-05T16:04:03.354453",
     "status": "completed"
    },
    "tags": []
   },
   "source": [
    "Fairness\n",
    "Main fairness target: Equalized Odds. Seems to be a better fit than equal opportunity, since we're not only interested in Y = 1. Seems to be a better fit than demographic parity, since we also care about accuracy, not just equal distribution of preds.\n",
    "\n",
    "Pick column for computation of fairness metrics\n",
    "\n",
    "Performance\n",
    "Overall performance measures, most interesting in relation to the measures split by group below"
   ]
  },
  {
   "cell_type": "code",
   "execution_count": 61,
   "id": "c4e067c6",
   "metadata": {
    "execution": {
     "iopub.execute_input": "2025-08-05T16:04:03.422908Z",
     "iopub.status.busy": "2025-08-05T16:04:03.422413Z",
     "iopub.status.idle": "2025-08-05T16:04:03.431895Z",
     "shell.execute_reply": "2025-08-05T16:04:03.430712Z"
    },
    "papermill": {
     "duration": 0.035211,
     "end_time": "2025-08-05T16:04:03.433922",
     "exception": false,
     "start_time": "2025-08-05T16:04:03.398711",
     "status": "completed"
    },
    "tags": []
   },
   "outputs": [
    {
     "data": {
      "text/plain": [
       "accuracy                   0.220210\n",
       "balanced accuracy          0.539315\n",
       "f1                         0.241656\n",
       "precision                  0.138050\n",
       "false positive rate        0.889913\n",
       "false negative rate        0.031456\n",
       "selection rate             0.900000\n",
       "count                  89710.000000\n",
       "dtype: float64"
      ]
     },
     "execution_count": 61,
     "metadata": {},
     "output_type": "execute_result"
    }
   ],
   "source": [
    "metric_frame.overall"
   ]
  },
  {
   "cell_type": "markdown",
   "id": "e968fe9d",
   "metadata": {
    "papermill": {
     "duration": 0.013323,
     "end_time": "2025-08-05T16:04:03.460586",
     "exception": false,
     "start_time": "2025-08-05T16:04:03.447263",
     "status": "completed"
    },
    "tags": []
   },
   "source": [
    "By Group"
   ]
  },
  {
   "cell_type": "code",
   "execution_count": 62,
   "id": "ec325bce",
   "metadata": {
    "execution": {
     "iopub.execute_input": "2025-08-05T16:04:03.493060Z",
     "iopub.status.busy": "2025-08-05T16:04:03.492585Z",
     "iopub.status.idle": "2025-08-05T16:04:03.509871Z",
     "shell.execute_reply": "2025-08-05T16:04:03.508780Z"
    },
    "papermill": {
     "duration": 0.038038,
     "end_time": "2025-08-05T16:04:03.511290",
     "exception": false,
     "start_time": "2025-08-05T16:04:03.473252",
     "status": "completed"
    },
    "tags": []
   },
   "outputs": [
    {
     "data": {
      "text/html": [
       "<div>\n",
       "<style scoped>\n",
       "    .dataframe tbody tr th:only-of-type {\n",
       "        vertical-align: middle;\n",
       "    }\n",
       "\n",
       "    .dataframe tbody tr th {\n",
       "        vertical-align: top;\n",
       "    }\n",
       "\n",
       "    .dataframe thead th {\n",
       "        text-align: right;\n",
       "    }\n",
       "</style>\n",
       "<table border=\"1\" class=\"dataframe\">\n",
       "  <thead>\n",
       "    <tr style=\"text-align: right;\">\n",
       "      <th></th>\n",
       "      <th>accuracy</th>\n",
       "      <th>balanced accuracy</th>\n",
       "      <th>f1</th>\n",
       "      <th>precision</th>\n",
       "      <th>false positive rate</th>\n",
       "      <th>false negative rate</th>\n",
       "      <th>selection rate</th>\n",
       "      <th>count</th>\n",
       "    </tr>\n",
       "    <tr>\n",
       "      <th>majmin</th>\n",
       "      <th></th>\n",
       "      <th></th>\n",
       "      <th></th>\n",
       "      <th></th>\n",
       "      <th></th>\n",
       "      <th></th>\n",
       "      <th></th>\n",
       "      <th></th>\n",
       "    </tr>\n",
       "  </thead>\n",
       "  <tbody>\n",
       "    <tr>\n",
       "      <th>majority</th>\n",
       "      <td>0.239714</td>\n",
       "      <td>0.547415</td>\n",
       "      <td>0.251306</td>\n",
       "      <td>0.144449</td>\n",
       "      <td>0.870815</td>\n",
       "      <td>0.034354</td>\n",
       "      <td>0.883345</td>\n",
       "      <td>69170.0</td>\n",
       "    </tr>\n",
       "    <tr>\n",
       "      <th>minority</th>\n",
       "      <td>0.154528</td>\n",
       "      <td>0.513363</td>\n",
       "      <td>0.210852</td>\n",
       "      <td>0.118138</td>\n",
       "      <td>0.953005</td>\n",
       "      <td>0.020270</td>\n",
       "      <td>0.956086</td>\n",
       "      <td>20540.0</td>\n",
       "    </tr>\n",
       "  </tbody>\n",
       "</table>\n",
       "</div>"
      ],
      "text/plain": [
       "          accuracy  balanced accuracy        f1  precision  \\\n",
       "majmin                                                       \n",
       "majority  0.239714           0.547415  0.251306   0.144449   \n",
       "minority  0.154528           0.513363  0.210852   0.118138   \n",
       "\n",
       "          false positive rate  false negative rate  selection rate    count  \n",
       "majmin                                                                       \n",
       "majority             0.870815             0.034354        0.883345  69170.0  \n",
       "minority             0.953005             0.020270        0.956086  20540.0  "
      ]
     },
     "execution_count": 62,
     "metadata": {},
     "output_type": "execute_result"
    }
   ],
   "source": [
    "metric_frame.by_group"
   ]
  },
  {
   "cell_type": "code",
   "execution_count": 63,
   "id": "a9ddbe63",
   "metadata": {
    "execution": {
     "iopub.execute_input": "2025-08-05T16:04:03.540072Z",
     "iopub.status.busy": "2025-08-05T16:04:03.539654Z",
     "iopub.status.idle": "2025-08-05T16:04:05.874185Z",
     "shell.execute_reply": "2025-08-05T16:04:05.873143Z"
    },
    "papermill": {
     "duration": 2.349225,
     "end_time": "2025-08-05T16:04:05.875745",
     "exception": false,
     "start_time": "2025-08-05T16:04:03.526520",
     "status": "completed"
    },
    "tags": []
   },
   "outputs": [
    {
     "data": {
      "text/plain": [
       "array([[<Axes: title={'center': 'accuracy'}, xlabel='majmin'>,\n",
       "        <Axes: title={'center': 'balanced accuracy'}, xlabel='majmin'>,\n",
       "        <Axes: title={'center': 'f1'}, xlabel='majmin'>],\n",
       "       [<Axes: title={'center': 'precision'}, xlabel='majmin'>,\n",
       "        <Axes: title={'center': 'false positive rate'}, xlabel='majmin'>,\n",
       "        <Axes: title={'center': 'false negative rate'}, xlabel='majmin'>],\n",
       "       [<Axes: title={'center': 'selection rate'}, xlabel='majmin'>,\n",
       "        <Axes: title={'center': 'count'}, xlabel='majmin'>,\n",
       "        <Axes: xlabel='majmin'>]], dtype=object)"
      ]
     },
     "execution_count": 63,
     "metadata": {},
     "output_type": "execute_result"
    },
    {
     "data": {
      "image/png": "[encoded data removed]",
      "text/plain": [
       "<Figure size 1200x800 with 9 Axes>"
      ]
     },
     "metadata": {},
     "output_type": "display_data"
    }
   ],
   "source": [
    "# In a graphic\n",
    "metric_frame.by_group.plot.bar(\n",
    "    subplots=True,\n",
    "    layout=[3, 3],\n",
    "    legend=False,\n",
    "    figsize=[12, 8],\n",
    "    title=\"Show all metrics\",\n",
    ")"
   ]
  },
  {
   "cell_type": "markdown",
   "id": "f57a0bac",
   "metadata": {
    "papermill": {
     "duration": 0.023092,
     "end_time": "2025-08-05T16:04:05.922540",
     "exception": false,
     "start_time": "2025-08-05T16:04:05.899448",
     "status": "completed"
    },
    "tags": []
   },
   "source": [
    "# Final Output"
   ]
  },
  {
   "cell_type": "code",
   "execution_count": 64,
   "id": "96d280a3",
   "metadata": {
    "execution": {
     "iopub.execute_input": "2025-08-05T16:04:05.974797Z",
     "iopub.status.busy": "2025-08-05T16:04:05.974127Z",
     "iopub.status.idle": "2025-08-05T16:04:05.982100Z",
     "shell.execute_reply": "2025-08-05T16:04:05.981214Z"
    },
    "papermill": {
     "duration": 0.037323,
     "end_time": "2025-08-05T16:04:05.983631",
     "exception": false,
     "start_time": "2025-08-05T16:04:05.946308",
     "status": "completed"
    },
    "tags": []
   },
   "outputs": [
    {
     "data": {
      "text/plain": [
       "4"
      ]
     },
     "execution_count": 64,
     "metadata": {},
     "output_type": "execute_result"
    }
   ],
   "source": [
    "sub_universes = universe_analysis.generate_sub_universes()\n",
    "len(sub_universes)"
   ]
  },
  {
   "cell_type": "code",
   "execution_count": 65,
   "id": "92adf7ba",
   "metadata": {
    "execution": {
     "iopub.execute_input": "2025-08-05T16:04:06.035170Z",
     "iopub.status.busy": "2025-08-05T16:04:06.034224Z",
     "iopub.status.idle": "2025-08-05T16:04:06.043872Z",
     "shell.execute_reply": "2025-08-05T16:04:06.042870Z"
    },
    "papermill": {
     "duration": 0.036568,
     "end_time": "2025-08-05T16:04:06.045752",
     "exception": false,
     "start_time": "2025-08-05T16:04:06.009184",
     "status": "completed"
    },
    "tags": []
   },
   "outputs": [],
   "source": [
    "def filter_sub_universe_data(sub_universe, org_test):\n",
    "    # Keep all rows — no filtering\n",
    "    keep_rows_mask = np.ones(org_test.shape[0], dtype=bool)\n",
    "\n",
    "    print(f\"[INFO] Keeping all rows: {keep_rows_mask.sum()} rows retained.\")\n",
    "    return keep_rows_mask"
   ]
  },
  {
   "cell_type": "code",
   "execution_count": 66,
   "id": "4a759155",
   "metadata": {
    "execution": {
     "iopub.execute_input": "2025-08-05T16:04:06.095233Z",
     "iopub.status.busy": "2025-08-05T16:04:06.094559Z",
     "iopub.status.idle": "2025-08-05T16:04:13.414832Z",
     "shell.execute_reply": "2025-08-05T16:04:13.414111Z"
    },
    "papermill": {
     "duration": 7.345816,
     "end_time": "2025-08-05T16:04:13.416045",
     "exception": false,
     "start_time": "2025-08-05T16:04:06.070229",
     "status": "completed"
    },
    "tags": []
   },
   "outputs": [
    {
     "name": "stdout",
     "output_type": "stream",
     "text": [
      "Stopping execution_time clock.\n",
      "[INFO] Keeping all rows: 89710 rows retained.\n"
     ]
    },
    {
     "name": "stdout",
     "output_type": "stream",
     "text": [
      "[INFO] Keeping all rows: 89710 rows retained.\n"
     ]
    },
    {
     "name": "stdout",
     "output_type": "stream",
     "text": [
      "[INFO] Keeping all rows: 89710 rows retained.\n"
     ]
    },
    {
     "name": "stdout",
     "output_type": "stream",
     "text": [
      "[INFO] Keeping all rows: 89710 rows retained.\n"
     ]
    },
    {
     "data": {
      "text/html": [
       "<div>\n",
       "<style scoped>\n",
       "    .dataframe tbody tr th:only-of-type {\n",
       "        vertical-align: middle;\n",
       "    }\n",
       "\n",
       "    .dataframe tbody tr th {\n",
       "        vertical-align: top;\n",
       "    }\n",
       "\n",
       "    .dataframe thead th {\n",
       "        text-align: right;\n",
       "    }\n",
       "</style>\n",
       "<table border=\"1\" class=\"dataframe\">\n",
       "  <thead>\n",
       "    <tr style=\"text-align: right;\">\n",
       "      <th></th>\n",
       "      <th>run_no</th>\n",
       "      <th>universe_id</th>\n",
       "      <th>universe_settings</th>\n",
       "      <th>execution_time</th>\n",
       "      <th>test_size_n</th>\n",
       "      <th>test_size_frac</th>\n",
       "      <th>fair_main_equalized_odds_difference</th>\n",
       "      <th>fair_main_equalized_odds_ratio</th>\n",
       "      <th>fair_main_demographic_parity_difference</th>\n",
       "      <th>fair_main_demographic_parity_ratio</th>\n",
       "      <th>...</th>\n",
       "      <th>perf_grp_precision_0</th>\n",
       "      <th>perf_grp_precision_1</th>\n",
       "      <th>perf_grp_false positive rate_0</th>\n",
       "      <th>perf_grp_false positive rate_1</th>\n",
       "      <th>perf_grp_false negative rate_0</th>\n",
       "      <th>perf_grp_false negative rate_1</th>\n",
       "      <th>perf_grp_selection rate_0</th>\n",
       "      <th>perf_grp_selection rate_1</th>\n",
       "      <th>perf_grp_count_0</th>\n",
       "      <th>perf_grp_count_1</th>\n",
       "    </tr>\n",
       "  </thead>\n",
       "  <tbody>\n",
       "    <tr>\n",
       "      <th>0</th>\n",
       "      <td>15</td>\n",
       "      <td>e1e7bd20b1896a0d9ac6a0e6a3c5d600</td>\n",
       "      <td>{\"cutoff\": \"quantile_0.1\", \"eval_fairness_grou...</td>\n",
       "      <td>25.361863</td>\n",
       "      <td>89710</td>\n",
       "      <td>1.0</td>\n",
       "      <td>0.082190</td>\n",
       "      <td>0.913757</td>\n",
       "      <td>0.072740</td>\n",
       "      <td>0.923919</td>\n",
       "      <td>...</td>\n",
       "      <td>NaN</td>\n",
       "      <td>NaN</td>\n",
       "      <td>NaN</td>\n",
       "      <td>NaN</td>\n",
       "      <td>NaN</td>\n",
       "      <td>NaN</td>\n",
       "      <td>NaN</td>\n",
       "      <td>NaN</td>\n",
       "      <td>NaN</td>\n",
       "      <td>NaN</td>\n",
       "    </tr>\n",
       "    <tr>\n",
       "      <th>0</th>\n",
       "      <td>15</td>\n",
       "      <td>e1e7bd20b1896a0d9ac6a0e6a3c5d600</td>\n",
       "      <td>{\"cutoff\": \"quantile_0.1\", \"eval_fairness_grou...</td>\n",
       "      <td>25.361863</td>\n",
       "      <td>89710</td>\n",
       "      <td>1.0</td>\n",
       "      <td>0.082190</td>\n",
       "      <td>0.913757</td>\n",
       "      <td>0.072740</td>\n",
       "      <td>0.923919</td>\n",
       "      <td>...</td>\n",
       "      <td>0.118138</td>\n",
       "      <td>0.144449</td>\n",
       "      <td>0.953005</td>\n",
       "      <td>0.870815</td>\n",
       "      <td>0.02027</td>\n",
       "      <td>0.034354</td>\n",
       "      <td>0.956086</td>\n",
       "      <td>0.883345</td>\n",
       "      <td>20540.0</td>\n",
       "      <td>69170.0</td>\n",
       "    </tr>\n",
       "    <tr>\n",
       "      <th>0</th>\n",
       "      <td>15</td>\n",
       "      <td>e1e7bd20b1896a0d9ac6a0e6a3c5d600</td>\n",
       "      <td>{\"cutoff\": \"quantile_0.25\", \"eval_fairness_gro...</td>\n",
       "      <td>25.361863</td>\n",
       "      <td>89710</td>\n",
       "      <td>1.0</td>\n",
       "      <td>0.084137</td>\n",
       "      <td>0.893831</td>\n",
       "      <td>0.072937</td>\n",
       "      <td>0.909534</td>\n",
       "      <td>...</td>\n",
       "      <td>NaN</td>\n",
       "      <td>NaN</td>\n",
       "      <td>NaN</td>\n",
       "      <td>NaN</td>\n",
       "      <td>NaN</td>\n",
       "      <td>NaN</td>\n",
       "      <td>NaN</td>\n",
       "      <td>NaN</td>\n",
       "      <td>NaN</td>\n",
       "      <td>NaN</td>\n",
       "    </tr>\n",
       "    <tr>\n",
       "      <th>0</th>\n",
       "      <td>15</td>\n",
       "      <td>e1e7bd20b1896a0d9ac6a0e6a3c5d600</td>\n",
       "      <td>{\"cutoff\": \"quantile_0.25\", \"eval_fairness_gro...</td>\n",
       "      <td>25.361863</td>\n",
       "      <td>89710</td>\n",
       "      <td>1.0</td>\n",
       "      <td>0.084137</td>\n",
       "      <td>0.893831</td>\n",
       "      <td>0.072937</td>\n",
       "      <td>0.909534</td>\n",
       "      <td>...</td>\n",
       "      <td>0.130374</td>\n",
       "      <td>0.161666</td>\n",
       "      <td>0.792483</td>\n",
       "      <td>0.708346</td>\n",
       "      <td>0.08826</td>\n",
       "      <td>0.102845</td>\n",
       "      <td>0.806232</td>\n",
       "      <td>0.733295</td>\n",
       "      <td>20540.0</td>\n",
       "      <td>69170.0</td>\n",
       "    </tr>\n",
       "  </tbody>\n",
       "</table>\n",
       "<p>4 rows × 50 columns</p>\n",
       "</div>"
      ],
      "text/plain": [
       "  run_no                       universe_id  \\\n",
       "0     15  e1e7bd20b1896a0d9ac6a0e6a3c5d600   \n",
       "0     15  e1e7bd20b1896a0d9ac6a0e6a3c5d600   \n",
       "0     15  e1e7bd20b1896a0d9ac6a0e6a3c5d600   \n",
       "0     15  e1e7bd20b1896a0d9ac6a0e6a3c5d600   \n",
       "\n",
       "                                   universe_settings  execution_time  \\\n",
       "0  {\"cutoff\": \"quantile_0.1\", \"eval_fairness_grou...       25.361863   \n",
       "0  {\"cutoff\": \"quantile_0.1\", \"eval_fairness_grou...       25.361863   \n",
       "0  {\"cutoff\": \"quantile_0.25\", \"eval_fairness_gro...       25.361863   \n",
       "0  {\"cutoff\": \"quantile_0.25\", \"eval_fairness_gro...       25.361863   \n",
       "\n",
       "   test_size_n  test_size_frac  fair_main_equalized_odds_difference  \\\n",
       "0        89710             1.0                             0.082190   \n",
       "0        89710             1.0                             0.082190   \n",
       "0        89710             1.0                             0.084137   \n",
       "0        89710             1.0                             0.084137   \n",
       "\n",
       "   fair_main_equalized_odds_ratio  fair_main_demographic_parity_difference  \\\n",
       "0                        0.913757                                 0.072740   \n",
       "0                        0.913757                                 0.072740   \n",
       "0                        0.893831                                 0.072937   \n",
       "0                        0.893831                                 0.072937   \n",
       "\n",
       "   fair_main_demographic_parity_ratio  ...  perf_grp_precision_0  \\\n",
       "0                            0.923919  ...                   NaN   \n",
       "0                            0.923919  ...              0.118138   \n",
       "0                            0.909534  ...                   NaN   \n",
       "0                            0.909534  ...              0.130374   \n",
       "\n",
       "   perf_grp_precision_1  perf_grp_false positive rate_0  \\\n",
       "0                   NaN                             NaN   \n",
       "0              0.144449                        0.953005   \n",
       "0                   NaN                             NaN   \n",
       "0              0.161666                        0.792483   \n",
       "\n",
       "   perf_grp_false positive rate_1  perf_grp_false negative rate_0  \\\n",
       "0                             NaN                             NaN   \n",
       "0                        0.870815                         0.02027   \n",
       "0                             NaN                             NaN   \n",
       "0                        0.708346                         0.08826   \n",
       "\n",
       "   perf_grp_false negative rate_1  perf_grp_selection rate_0  \\\n",
       "0                             NaN                        NaN   \n",
       "0                        0.034354                   0.956086   \n",
       "0                             NaN                        NaN   \n",
       "0                        0.102845                   0.806232   \n",
       "\n",
       "   perf_grp_selection rate_1  perf_grp_count_0  perf_grp_count_1  \n",
       "0                        NaN               NaN               NaN  \n",
       "0                   0.883345           20540.0           69170.0  \n",
       "0                        NaN               NaN               NaN  \n",
       "0                   0.733295           20540.0           69170.0  \n",
       "\n",
       "[4 rows x 50 columns]"
      ]
     },
     "execution_count": 66,
     "metadata": {},
     "output_type": "execute_result"
    }
   ],
   "source": [
    "final_output = universe_analysis.generate_final_output(\n",
    "    y_pred_prob=probs_test,\n",
    "    y_test=y_true,\n",
    "    org_test=org_test,\n",
    "    filter_data=filter_sub_universe_data,\n",
    "    cp_metrics_df=cp_metrics_df,\n",
    "    save=True,\n",
    ")\n",
    "final_output"
   ]
  }
 ],
 "metadata": {
  "celltoolbar": "Tags",
  "kernelspec": {
   "display_name": "Python (CMA Fairness)",
   "language": "python",
   "name": "cma_fair_env"
  },
  "language_info": {
   "codemirror_mode": {
    "name": "ipython",
    "version": 3
   },
   "file_extension": ".py",
   "mimetype": "text/x-python",
   "name": "python",
   "nbconvert_exporter": "python",
   "pygments_lexer": "ipython3",
   "version": "3.10.12"
  },
  "papermill": {
   "default_parameters": {},
   "duration": 36.932353,
   "end_time": "2025-08-05T16:04:14.050490",
   "environment_variables": {},
   "exception": null,
   "input_path": "universe_analysis.ipynb",
   "output_path": "output/runs/15/notebooks/m_15-e1e7bd20b1896a0d9ac6a0e6a3c5d600.ipynb",
   "parameters": {
    "output_dir": "output",
    "run_no": "15",
    "seed": "2023",
    "universe": "{\"cutoff\": [\"quantile_0.1\", \"quantile_0.25\"], \"eval_fairness_grouping\": [\"majority-minority\", \"nationality-all\"], \"exclude_features\": \"nationality-sex\", \"exclude_subgroups\": \"keep-all\", \"model\": \"penalized_logreg\", \"scale\": \"scale\", \"training_size\": \"1k\", \"training_year\": \"2014\"}",
    "universe_id": "e1e7bd20b1896a0d9ac6a0e6a3c5d600"
   },
   "start_time": "2025-08-05T16:03:37.118137",
   "version": "2.6.0"
  }
 },
 "nbformat": 4,
 "nbformat_minor": 5
}