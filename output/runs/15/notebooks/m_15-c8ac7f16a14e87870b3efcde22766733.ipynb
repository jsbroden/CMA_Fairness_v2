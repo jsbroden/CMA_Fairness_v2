{
 "cells": [
  {
   "cell_type": "code",
   "execution_count": 1,
   "id": "f159f837-637b-42ba-96b5-ec9a68c44524",
   "metadata": {
    "execution": {
     "iopub.execute_input": "2025-08-05T15:53:08.529313Z",
     "iopub.status.busy": "2025-08-05T15:53:08.528786Z",
     "iopub.status.idle": "2025-08-05T15:53:08.545926Z",
     "shell.execute_reply": "2025-08-05T15:53:08.544581Z"
    },
    "papermill": {
     "duration": 0.044701,
     "end_time": "2025-08-05T15:53:08.547693",
     "exception": false,
     "start_time": "2025-08-05T15:53:08.502992",
     "status": "completed"
    },
    "tags": []
   },
   "outputs": [
    {
     "name": "stdout",
     "output_type": "stream",
     "text": [
      "/dss/dsshome1/0C/ra93lal2/cma/CMA_Fairness_v2\n"
     ]
    },
    {
     "name": "stderr",
     "output_type": "stream",
     "text": [
      "/dss/dsshome1/0C/ra93lal2/.local/share/virtualenvs/CMA_Fairness_v2-3j10GkSs/lib/python3.10/site-packages/IPython/core/magics/osm.py:393: UserWarning: This is now an optional IPython functionality, using bookmarks requires you to install the `pickleshare` library.\n",
      "  bkms = self.shell.db.get('bookmarks', {})\n",
      "/dss/dsshome1/0C/ra93lal2/.local/share/virtualenvs/CMA_Fairness_v2-3j10GkSs/lib/python3.10/site-packages/IPython/core/magics/osm.py:417: UserWarning: This is now an optional IPython functionality, setting dhist requires you to install the `pickleshare` library.\n",
      "  self.shell.db['dhist'] = compress_dhist(dhist)[-100:]\n"
     ]
    }
   ],
   "source": [
    "%cd ~/cma/CMA_Fairness_v2"
   ]
  },
  {
   "cell_type": "markdown",
   "id": "de2603b9",
   "metadata": {
    "papermill": {
     "duration": 0.016505,
     "end_time": "2025-08-05T15:53:08.581443",
     "exception": false,
     "start_time": "2025-08-05T15:53:08.564938",
     "status": "completed"
    },
    "tags": []
   },
   "source": [
    "The following cell holds the definition of our parameters, these values can be overriden by rendering the with e.g. the following command:\n",
    "\n",
    "papermill -p alpha 0.2 -p ratio 0.3 universe_analysis.ipynb output/test_run.ipynb"
   ]
  },
  {
   "cell_type": "code",
   "execution_count": 2,
   "id": "a80968a0-40bb-4fa9-85ef-2d5eefb01975",
   "metadata": {
    "execution": {
     "iopub.execute_input": "2025-08-05T15:53:08.619548Z",
     "iopub.status.busy": "2025-08-05T15:53:08.618773Z",
     "iopub.status.idle": "2025-08-05T15:53:08.625740Z",
     "shell.execute_reply": "2025-08-05T15:53:08.624468Z"
    },
    "papermill": {
     "duration": 0.026896,
     "end_time": "2025-08-05T15:53:08.627560",
     "exception": false,
     "start_time": "2025-08-05T15:53:08.600664",
     "status": "completed"
    },
    "tags": []
   },
   "outputs": [
    {
     "name": "stdout",
     "output_type": "stream",
     "text": [
      "Current working directory: /dss/dsshome1/0C/ra93lal2/cma/CMA_Fairness_v2\n"
     ]
    }
   ],
   "source": [
    "import os\n",
    "print(\"Current working directory:\", os.getcwd())"
   ]
  },
  {
   "cell_type": "code",
   "execution_count": 3,
   "id": "2dce4c03",
   "metadata": {
    "execution": {
     "iopub.execute_input": "2025-08-05T15:53:08.663342Z",
     "iopub.status.busy": "2025-08-05T15:53:08.662405Z",
     "iopub.status.idle": "2025-08-05T15:53:08.668775Z",
     "shell.execute_reply": "2025-08-05T15:53:08.667755Z"
    },
    "papermill": {
     "duration": 0.026487,
     "end_time": "2025-08-05T15:53:08.671113",
     "exception": false,
     "start_time": "2025-08-05T15:53:08.644626",
     "status": "completed"
    },
    "tags": [
     "parameters"
    ]
   },
   "outputs": [],
   "source": [
    "run_no = 0\n",
    "universe_id = \"test\"\n",
    "universe = {\n",
    "    \"training_size\": \"25k\", # \"25k\", \"5k\", \"1k\"\n",
    "    \"training_year\": \"2014\", # \"2014\", \"2012_14\", \"2010_14\"\n",
    "    \"scale\": \"scale\", # \"scale\", \"do-not-scale\",\n",
    "    \"model\": \"elasticnet\", # \"logreg\", \"penalized_logreg\", \"rf\", \"gbm\", \"elasticnet\"\n",
    "    \"cutoff\": [\"quantile_0.15\", \"quantile_0.30\"],\n",
    "    \"exclude_features\": \"age\", # \"none\", \"nationality\", \"sex\", \"nationality-sex\", \"age\"\n",
    "    \"exclude_subgroups\": \"keep-all\", # \"keep-all\", \"drop-non-german\"\n",
    "    \"eval_fairness_grouping\": [\"majority-minority\", \"nationality-all\"]\n",
    "}\n",
    "\n",
    "output_dir=\"./output\"\n",
    "seed=0"
   ]
  },
  {
   "cell_type": "code",
   "execution_count": 4,
   "id": "c8097239",
   "metadata": {
    "execution": {
     "iopub.execute_input": "2025-08-05T15:53:08.720447Z",
     "iopub.status.busy": "2025-08-05T15:53:08.719745Z",
     "iopub.status.idle": "2025-08-05T15:53:08.725600Z",
     "shell.execute_reply": "2025-08-05T15:53:08.724484Z"
    },
    "papermill": {
     "duration": 0.032384,
     "end_time": "2025-08-05T15:53:08.727771",
     "exception": false,
     "start_time": "2025-08-05T15:53:08.695387",
     "status": "completed"
    },
    "tags": [
     "injected-parameters"
    ]
   },
   "outputs": [],
   "source": [
    "# Parameters\n",
    "universe_id = \"c8ac7f16a14e87870b3efcde22766733\"\n",
    "run_no = \"15\"\n",
    "universe = \"{\\\"cutoff\\\": [\\\"quantile_0.1\\\", \\\"quantile_0.25\\\"], \\\"eval_fairness_grouping\\\": [\\\"majority-minority\\\", \\\"nationality-all\\\"], \\\"exclude_features\\\": \\\"none\\\", \\\"exclude_subgroups\\\": \\\"keep-all\\\", \\\"model\\\": \\\"elasticnet\\\", \\\"scale\\\": \\\"scale\\\", \\\"training_size\\\": \\\"5k\\\", \\\"training_year\\\": \\\"2010_14\\\"}\"\n",
    "output_dir = \"output\"\n",
    "seed = \"2023\"\n"
   ]
  },
  {
   "cell_type": "code",
   "execution_count": 5,
   "id": "1650acaf",
   "metadata": {
    "execution": {
     "iopub.execute_input": "2025-08-05T15:53:08.769509Z",
     "iopub.status.busy": "2025-08-05T15:53:08.768785Z",
     "iopub.status.idle": "2025-08-05T15:53:08.774613Z",
     "shell.execute_reply": "2025-08-05T15:53:08.773433Z"
    },
    "papermill": {
     "duration": 0.026885,
     "end_time": "2025-08-05T15:53:08.776628",
     "exception": false,
     "start_time": "2025-08-05T15:53:08.749743",
     "status": "completed"
    },
    "tags": []
   },
   "outputs": [],
   "source": [
    "import json\n",
    "if isinstance(universe, str):\n",
    "    universe = json.loads(universe)"
   ]
  },
  {
   "cell_type": "code",
   "execution_count": 6,
   "id": "16620c48",
   "metadata": {
    "execution": {
     "iopub.execute_input": "2025-08-05T15:53:08.816987Z",
     "iopub.status.busy": "2025-08-05T15:53:08.816069Z",
     "iopub.status.idle": "2025-08-05T15:53:08.848939Z",
     "shell.execute_reply": "2025-08-05T15:53:08.848077Z"
    },
    "papermill": {
     "duration": 0.053468,
     "end_time": "2025-08-05T15:53:08.850473",
     "exception": false,
     "start_time": "2025-08-05T15:53:08.797005",
     "status": "completed"
    },
    "tags": []
   },
   "outputs": [],
   "source": [
    "# Auto-reload the custom package\n",
    "%load_ext autoreload\n",
    "%autoreload 1\n",
    "%aimport fairness_multiverse"
   ]
  },
  {
   "cell_type": "code",
   "execution_count": 7,
   "id": "01c5c9f3",
   "metadata": {
    "execution": {
     "iopub.execute_input": "2025-08-05T15:53:08.869678Z",
     "iopub.status.busy": "2025-08-05T15:53:08.869019Z",
     "iopub.status.idle": "2025-08-05T15:53:10.904145Z",
     "shell.execute_reply": "2025-08-05T15:53:10.903007Z"
    },
    "papermill": {
     "duration": 2.046308,
     "end_time": "2025-08-05T15:53:10.906327",
     "exception": false,
     "start_time": "2025-08-05T15:53:08.860019",
     "status": "completed"
    },
    "tags": []
   },
   "outputs": [],
   "source": [
    "from fairness_multiverse.universe import UniverseAnalysis\n",
    "\n",
    "universe_analysis = UniverseAnalysis(\n",
    "    run_no = run_no,\n",
    "    universe_id = universe_id,\n",
    "    universe = universe,\n",
    "    output_dir=output_dir,\n",
    ")"
   ]
  },
  {
   "cell_type": "code",
   "execution_count": 8,
   "id": "106241f5",
   "metadata": {
    "execution": {
     "iopub.execute_input": "2025-08-05T15:53:10.949963Z",
     "iopub.status.busy": "2025-08-05T15:53:10.949428Z",
     "iopub.status.idle": "2025-08-05T15:53:10.955960Z",
     "shell.execute_reply": "2025-08-05T15:53:10.954933Z"
    },
    "papermill": {
     "duration": 0.029758,
     "end_time": "2025-08-05T15:53:10.958020",
     "exception": false,
     "start_time": "2025-08-05T15:53:10.928262",
     "status": "completed"
    },
    "tags": []
   },
   "outputs": [
    {
     "name": "stdout",
     "output_type": "stream",
     "text": [
      "Using Seed: 2023\n"
     ]
    }
   ],
   "source": [
    "import numpy as np\n",
    "parsed_seed = int(seed)\n",
    "np.random.seed(parsed_seed)\n",
    "print(f\"Using Seed: {parsed_seed}\")"
   ]
  },
  {
   "cell_type": "markdown",
   "id": "e0ebdc57",
   "metadata": {
    "papermill": {
     "duration": 0.019456,
     "end_time": "2025-08-05T15:53:10.998237",
     "exception": false,
     "start_time": "2025-08-05T15:53:10.978781",
     "status": "completed"
    },
    "tags": []
   },
   "source": [
    "# Loading Data"
   ]
  },
  {
   "cell_type": "code",
   "execution_count": 9,
   "id": "f0496b8a",
   "metadata": {
    "execution": {
     "iopub.execute_input": "2025-08-05T15:53:11.041167Z",
     "iopub.status.busy": "2025-08-05T15:53:11.040386Z",
     "iopub.status.idle": "2025-08-05T15:53:22.712106Z",
     "shell.execute_reply": "2025-08-05T15:53:22.710681Z"
    },
    "papermill": {
     "duration": 11.695549,
     "end_time": "2025-08-05T15:53:22.714182",
     "exception": false,
     "start_time": "2025-08-05T15:53:11.018633",
     "status": "completed"
    },
    "tags": []
   },
   "outputs": [
    {
     "name": "stdout",
     "output_type": "stream",
     "text": [
      "Loading SIAB data from cache: data/siab_cached.csv.gz\n"
     ]
    },
    {
     "name": "stdout",
     "output_type": "stream",
     "text": [
      "(643690, 164)\n"
     ]
    }
   ],
   "source": [
    "from pathlib import Path\n",
    "import pandas as pd\n",
    "\n",
    "# File paths\n",
    "raw_file = Path(\"data/raw/siab.csv\")\n",
    "cache_file = Path(\"data/siab_cached.csv.gz\")\n",
    "\n",
    "# Ensure cache directory exists\n",
    "cache_file.parent.mkdir(parents=True, exist_ok=True)\n",
    "\n",
    "# Load with simple caching\n",
    "if cache_file.exists():\n",
    "    print(f\"Loading SIAB data from cache: {cache_file}\")\n",
    "    siab = pd.read_csv(cache_file, compression='gzip')\n",
    "else:\n",
    "    print(f\"Cache not found. Reading raw SIAB data: {raw_file}\")\n",
    "    siab = pd.read_csv(raw_file)\n",
    "    siab.to_csv(cache_file, index=False, compression='gzip')\n",
    "    print(f\"Cached SIAB data to: {cache_file}\")\n",
    "\n",
    "print(siab.shape)"
   ]
  },
  {
   "cell_type": "code",
   "execution_count": 10,
   "id": "db0ca512-5f53-4dba-abdb-a2888bca41ba",
   "metadata": {
    "execution": {
     "iopub.execute_input": "2025-08-05T15:53:22.755091Z",
     "iopub.status.busy": "2025-08-05T15:53:22.754328Z",
     "iopub.status.idle": "2025-08-05T15:53:22.760563Z",
     "shell.execute_reply": "2025-08-05T15:53:22.759402Z"
    },
    "papermill": {
     "duration": 0.027366,
     "end_time": "2025-08-05T15:53:22.762398",
     "exception": false,
     "start_time": "2025-08-05T15:53:22.735032",
     "status": "completed"
    },
    "tags": []
   },
   "outputs": [],
   "source": [
    "#siab"
   ]
  },
  {
   "cell_type": "markdown",
   "id": "997051c5-15bd-4b69-9786-c3001a3ce484",
   "metadata": {
    "papermill": {
     "duration": 0.018968,
     "end_time": "2025-08-05T15:53:22.801466",
     "exception": false,
     "start_time": "2025-08-05T15:53:22.782498",
     "status": "completed"
    },
    "tags": []
   },
   "source": [
    "# Splitting Data and Setting Training Data Size"
   ]
  },
  {
   "cell_type": "code",
   "execution_count": 11,
   "id": "aea9c6ef-6f46-42c8-85eb-5a62025c1508",
   "metadata": {
    "execution": {
     "iopub.execute_input": "2025-08-05T15:53:22.841382Z",
     "iopub.status.busy": "2025-08-05T15:53:22.840387Z",
     "iopub.status.idle": "2025-08-05T15:53:23.842110Z",
     "shell.execute_reply": "2025-08-05T15:53:23.841233Z"
    },
    "papermill": {
     "duration": 1.022991,
     "end_time": "2025-08-05T15:53:23.844021",
     "exception": false,
     "start_time": "2025-08-05T15:53:22.821030",
     "status": "completed"
    },
    "tags": []
   },
   "outputs": [],
   "source": [
    "from fairness_multiverse.universe import sample_by_year_size\n",
    "\n",
    "siab_train = sample_by_year_size(siab,\n",
    "                               training_year=universe[\"training_year\"],\n",
    "                               training_size=universe[\"training_size\"])"
   ]
  },
  {
   "cell_type": "code",
   "execution_count": 12,
   "id": "8d3afb32-789d-442c-8d5d-9f5aa8dd2eed",
   "metadata": {
    "execution": {
     "iopub.execute_input": "2025-08-05T15:53:23.881007Z",
     "iopub.status.busy": "2025-08-05T15:53:23.880112Z",
     "iopub.status.idle": "2025-08-05T15:53:23.886269Z",
     "shell.execute_reply": "2025-08-05T15:53:23.885176Z"
    },
    "papermill": {
     "duration": 0.026234,
     "end_time": "2025-08-05T15:53:23.888270",
     "exception": false,
     "start_time": "2025-08-05T15:53:23.862036",
     "status": "completed"
    },
    "tags": []
   },
   "outputs": [],
   "source": [
    "#siab_train.shape"
   ]
  },
  {
   "cell_type": "code",
   "execution_count": 13,
   "id": "d582db68-1a4c-47fb-84fc-08518dc1975a",
   "metadata": {
    "execution": {
     "iopub.execute_input": "2025-08-05T15:53:23.931483Z",
     "iopub.status.busy": "2025-08-05T15:53:23.930567Z",
     "iopub.status.idle": "2025-08-05T15:53:23.936147Z",
     "shell.execute_reply": "2025-08-05T15:53:23.935088Z"
    },
    "papermill": {
     "duration": 0.029395,
     "end_time": "2025-08-05T15:53:23.938399",
     "exception": false,
     "start_time": "2025-08-05T15:53:23.909004",
     "status": "completed"
    },
    "tags": []
   },
   "outputs": [],
   "source": [
    "#display(siab_train.groupby(\"year\").size())"
   ]
  },
  {
   "cell_type": "code",
   "execution_count": 14,
   "id": "a561edb4-d032-42cb-8256-22eac1111c64",
   "metadata": {
    "execution": {
     "iopub.execute_input": "2025-08-05T15:53:23.981713Z",
     "iopub.status.busy": "2025-08-05T15:53:23.981170Z",
     "iopub.status.idle": "2025-08-05T15:53:24.227462Z",
     "shell.execute_reply": "2025-08-05T15:53:24.226205Z"
    },
    "papermill": {
     "duration": 0.269992,
     "end_time": "2025-08-05T15:53:24.229395",
     "exception": false,
     "start_time": "2025-08-05T15:53:23.959403",
     "status": "completed"
    },
    "tags": []
   },
   "outputs": [],
   "source": [
    "#siab_train = siab_s[siab_s.year < 2015]\n",
    "siab_calib = siab[siab.year == 2015]\n",
    "siab_test = siab[siab.year == 2016]"
   ]
  },
  {
   "cell_type": "code",
   "execution_count": 15,
   "id": "472de16f-c3db-4916-846b-1f0de9cf1746",
   "metadata": {
    "execution": {
     "iopub.execute_input": "2025-08-05T15:53:24.272888Z",
     "iopub.status.busy": "2025-08-05T15:53:24.272359Z",
     "iopub.status.idle": "2025-08-05T15:53:24.281291Z",
     "shell.execute_reply": "2025-08-05T15:53:24.280305Z"
    },
    "papermill": {
     "duration": 0.032333,
     "end_time": "2025-08-05T15:53:24.283108",
     "exception": false,
     "start_time": "2025-08-05T15:53:24.250775",
     "status": "completed"
    },
    "tags": []
   },
   "outputs": [],
   "source": [
    "X_train = siab_train.iloc[:,4:164]\n",
    "y_train = siab_train.iloc[:, [3]]"
   ]
  },
  {
   "cell_type": "code",
   "execution_count": 16,
   "id": "828c96af-f43a-4ed6-ba47-8ac73a47d56c",
   "metadata": {
    "execution": {
     "iopub.execute_input": "2025-08-05T15:53:24.329062Z",
     "iopub.status.busy": "2025-08-05T15:53:24.328022Z",
     "iopub.status.idle": "2025-08-05T15:53:24.383163Z",
     "shell.execute_reply": "2025-08-05T15:53:24.381920Z"
    },
    "papermill": {
     "duration": 0.080642,
     "end_time": "2025-08-05T15:53:24.385878",
     "exception": false,
     "start_time": "2025-08-05T15:53:24.305236",
     "status": "completed"
    },
    "tags": []
   },
   "outputs": [],
   "source": [
    "X_calib = siab_calib.iloc[:,4:164]\n",
    "y_calib = siab_calib.iloc[:, [3]]"
   ]
  },
  {
   "cell_type": "code",
   "execution_count": 17,
   "id": "c34be9c3-6bd6-476e-acd3-845840e303be",
   "metadata": {
    "execution": {
     "iopub.execute_input": "2025-08-05T15:53:24.431254Z",
     "iopub.status.busy": "2025-08-05T15:53:24.430567Z",
     "iopub.status.idle": "2025-08-05T15:53:24.489215Z",
     "shell.execute_reply": "2025-08-05T15:53:24.488030Z"
    },
    "papermill": {
     "duration": 0.082907,
     "end_time": "2025-08-05T15:53:24.491330",
     "exception": false,
     "start_time": "2025-08-05T15:53:24.408423",
     "status": "completed"
    },
    "tags": []
   },
   "outputs": [],
   "source": [
    "X_test = siab_test.iloc[:,4:164]\n",
    "y_true = siab_test.iloc[:, [3]]"
   ]
  },
  {
   "cell_type": "code",
   "execution_count": 18,
   "id": "e6c733c5",
   "metadata": {
    "execution": {
     "iopub.execute_input": "2025-08-05T15:53:24.534439Z",
     "iopub.status.busy": "2025-08-05T15:53:24.533464Z",
     "iopub.status.idle": "2025-08-05T15:53:24.634788Z",
     "shell.execute_reply": "2025-08-05T15:53:24.633697Z"
    },
    "papermill": {
     "duration": 0.124041,
     "end_time": "2025-08-05T15:53:24.636843",
     "exception": false,
     "start_time": "2025-08-05T15:53:24.512802",
     "status": "completed"
    },
    "tags": []
   },
   "outputs": [],
   "source": [
    "# Auxiliary data needed downstream in the pipeline\n",
    "\n",
    "org_train = X_train.copy()\n",
    "org_test = X_test.copy()\n",
    "org_calib = X_calib.copy()"
   ]
  },
  {
   "cell_type": "markdown",
   "id": "0a4a1b33",
   "metadata": {
    "papermill": {
     "duration": 0.019625,
     "end_time": "2025-08-05T15:53:24.674434",
     "exception": false,
     "start_time": "2025-08-05T15:53:24.654809",
     "status": "completed"
    },
    "tags": []
   },
   "source": [
    "# Preprocessing Data"
   ]
  },
  {
   "cell_type": "code",
   "execution_count": 19,
   "id": "ca879031",
   "metadata": {
    "execution": {
     "iopub.execute_input": "2025-08-05T15:53:24.712119Z",
     "iopub.status.busy": "2025-08-05T15:53:24.711370Z",
     "iopub.status.idle": "2025-08-05T15:53:24.717968Z",
     "shell.execute_reply": "2025-08-05T15:53:24.716774Z"
    },
    "papermill": {
     "duration": 0.026977,
     "end_time": "2025-08-05T15:53:24.719730",
     "exception": false,
     "start_time": "2025-08-05T15:53:24.692753",
     "status": "completed"
    },
    "tags": []
   },
   "outputs": [],
   "source": [
    "# EXCLUDE PROTECTED FEATURES\n",
    "# ----------------------\n",
    "# \"exclude_features\": \"none\", # \"nationality\", \"sex\", \"nationality-sex\"\n",
    "\n",
    "excluded_features = universe[\"exclude_features\"].split(\"-\") # split, e.g.: \"nationality-sex\" -> [\"nationality\", \"sex\"]\n",
    "excluded_features_dictionary = {\n",
    "    \"nationality\": [\"maxdeutsch1\", \"maxdeutsch.Missing.\"],\n",
    "    \"sex\": [\"frau1\"],\n",
    "    \"age\": [\"age\"],\n",
    "}"
   ]
  },
  {
   "cell_type": "code",
   "execution_count": 20,
   "id": "b745ac60",
   "metadata": {
    "execution": {
     "iopub.execute_input": "2025-08-05T15:53:24.759102Z",
     "iopub.status.busy": "2025-08-05T15:53:24.758243Z",
     "iopub.status.idle": "2025-08-05T15:53:24.764746Z",
     "shell.execute_reply": "2025-08-05T15:53:24.763721Z"
    },
    "papermill": {
     "duration": 0.027825,
     "end_time": "2025-08-05T15:53:24.766626",
     "exception": false,
     "start_time": "2025-08-05T15:53:24.738801",
     "status": "completed"
    },
    "tags": []
   },
   "outputs": [],
   "source": [
    "# Code nice names to column names\n",
    "\n",
    "excluded_features_columns = [\n",
    "    excluded_features_dictionary[f] for f in excluded_features if len(f) > 0 and f != \"none\"\n",
    "]"
   ]
  },
  {
   "cell_type": "code",
   "execution_count": 21,
   "id": "f84f73a2",
   "metadata": {
    "execution": {
     "iopub.execute_input": "2025-08-05T15:53:24.804866Z",
     "iopub.status.busy": "2025-08-05T15:53:24.804388Z",
     "iopub.status.idle": "2025-08-05T15:53:24.810759Z",
     "shell.execute_reply": "2025-08-05T15:53:24.809708Z"
    },
    "papermill": {
     "duration": 0.027797,
     "end_time": "2025-08-05T15:53:24.812725",
     "exception": false,
     "start_time": "2025-08-05T15:53:24.784928",
     "status": "completed"
    },
    "tags": []
   },
   "outputs": [],
   "source": [
    "from utils import flatten_once\n",
    "\n",
    "excluded_features_columns = flatten_once(excluded_features_columns)"
   ]
  },
  {
   "cell_type": "code",
   "execution_count": 22,
   "id": "884dea22",
   "metadata": {
    "execution": {
     "iopub.execute_input": "2025-08-05T15:53:24.851164Z",
     "iopub.status.busy": "2025-08-05T15:53:24.850318Z",
     "iopub.status.idle": "2025-08-05T15:53:24.857771Z",
     "shell.execute_reply": "2025-08-05T15:53:24.856645Z"
    },
    "papermill": {
     "duration": 0.028124,
     "end_time": "2025-08-05T15:53:24.859811",
     "exception": false,
     "start_time": "2025-08-05T15:53:24.831687",
     "status": "completed"
    },
    "tags": []
   },
   "outputs": [],
   "source": [
    "if len(excluded_features_columns) > 0:\n",
    "    print(f\"Dropping features: {excluded_features_columns}\")\n",
    "    X_train.drop(excluded_features_columns, axis=1, inplace=True)"
   ]
  },
  {
   "cell_type": "code",
   "execution_count": 23,
   "id": "95ab8b16",
   "metadata": {
    "execution": {
     "iopub.execute_input": "2025-08-05T15:53:24.899780Z",
     "iopub.status.busy": "2025-08-05T15:53:24.899098Z",
     "iopub.status.idle": "2025-08-05T15:53:24.904904Z",
     "shell.execute_reply": "2025-08-05T15:53:24.903953Z"
    },
    "papermill": {
     "duration": 0.026974,
     "end_time": "2025-08-05T15:53:24.906788",
     "exception": false,
     "start_time": "2025-08-05T15:53:24.879814",
     "status": "completed"
    },
    "tags": []
   },
   "outputs": [],
   "source": [
    "if len(excluded_features_columns) > 0:\n",
    "    print(f\"Dropping features: {excluded_features_columns}\")\n",
    "    X_test.drop(excluded_features_columns, axis=1, inplace=True)"
   ]
  },
  {
   "cell_type": "code",
   "execution_count": 24,
   "id": "1853aaf5-fb9f-46cb-a2b5-8ea4ae2237e4",
   "metadata": {
    "execution": {
     "iopub.execute_input": "2025-08-05T15:53:24.944451Z",
     "iopub.status.busy": "2025-08-05T15:53:24.943659Z",
     "iopub.status.idle": "2025-08-05T15:53:24.949811Z",
     "shell.execute_reply": "2025-08-05T15:53:24.948818Z"
    },
    "papermill": {
     "duration": 0.027125,
     "end_time": "2025-08-05T15:53:24.951703",
     "exception": false,
     "start_time": "2025-08-05T15:53:24.924578",
     "status": "completed"
    },
    "tags": []
   },
   "outputs": [],
   "source": [
    "if len(excluded_features_columns) > 0:\n",
    "    print(f\"Dropping features: {excluded_features_columns}\")\n",
    "    X_calib.drop(excluded_features_columns, axis=1, inplace=True)"
   ]
  },
  {
   "cell_type": "code",
   "execution_count": 25,
   "id": "76c4dc6d",
   "metadata": {
    "execution": {
     "iopub.execute_input": "2025-08-05T15:53:24.990316Z",
     "iopub.status.busy": "2025-08-05T15:53:24.989483Z",
     "iopub.status.idle": "2025-08-05T15:53:24.997831Z",
     "shell.execute_reply": "2025-08-05T15:53:24.996325Z"
    },
    "papermill": {
     "duration": 0.030225,
     "end_time": "2025-08-05T15:53:24.999443",
     "exception": false,
     "start_time": "2025-08-05T15:53:24.969218",
     "status": "completed"
    },
    "tags": []
   },
   "outputs": [],
   "source": [
    "# EXCLUDE CERTAIN SUBGROUPS\n",
    "# ----------------------\n",
    "\n",
    "mode = universe.get(\"exclude_subgroups\", \"keep-all\") \n",
    "# Fetches the exclude_subgroups setting from the universe dict.\n",
    "# Defaults to \"keep-all\" if the key is missing."
   ]
  },
  {
   "cell_type": "code",
   "execution_count": 26,
   "id": "21994072",
   "metadata": {
    "execution": {
     "iopub.execute_input": "2025-08-05T15:53:25.036804Z",
     "iopub.status.busy": "2025-08-05T15:53:25.036000Z",
     "iopub.status.idle": "2025-08-05T15:53:25.043561Z",
     "shell.execute_reply": "2025-08-05T15:53:25.042537Z"
    },
    "papermill": {
     "duration": 0.028133,
     "end_time": "2025-08-05T15:53:25.045713",
     "exception": false,
     "start_time": "2025-08-05T15:53:25.017580",
     "status": "completed"
    },
    "tags": []
   },
   "outputs": [],
   "source": [
    "if mode == \"keep-all\":\n",
    "    keep_mask = pd.Series(True, index=org_train.index)\n",
    "\n",
    "# org_train contains the original feature columns from features_org (in Simson)\n",
    "# features_org contains unprocessed features, for me X_train at beginning ???\n",
    "# For keep-all, creates a boolean Series (keep_mask) of all True, so no rows are removed.\n",
    "\n",
    "elif mode == \"drop-non-german\":\n",
    "    keep_mask = org_train[\"maxdeutsch1\"] == 1 # ??? what about missing values?\n",
    "\n",
    "else:\n",
    "    raise ValueError(f\"Unsupported mode for exclude_subgroups: {mode}\")"
   ]
  },
  {
   "cell_type": "code",
   "execution_count": 27,
   "id": "71651440",
   "metadata": {
    "execution": {
     "iopub.execute_input": "2025-08-05T15:53:25.083567Z",
     "iopub.status.busy": "2025-08-05T15:53:25.082705Z",
     "iopub.status.idle": "2025-08-05T15:53:25.088924Z",
     "shell.execute_reply": "2025-08-05T15:53:25.087905Z"
    },
    "papermill": {
     "duration": 0.026927,
     "end_time": "2025-08-05T15:53:25.090887",
     "exception": false,
     "start_time": "2025-08-05T15:53:25.063960",
     "status": "completed"
    },
    "tags": []
   },
   "outputs": [],
   "source": [
    "n_drop = (~keep_mask).sum() # Calculates how many rows are set to be dropped\n",
    "if n_drop > 0:\n",
    "    pct = n_drop / len(keep_mask) * 100\n",
    "    print(f\"Dropping {n_drop} rows ({pct:.2f}%) where mode='{mode}'\")"
   ]
  },
  {
   "cell_type": "code",
   "execution_count": 28,
   "id": "5fb8eee5",
   "metadata": {
    "execution": {
     "iopub.execute_input": "2025-08-05T15:53:25.131058Z",
     "iopub.status.busy": "2025-08-05T15:53:25.130210Z",
     "iopub.status.idle": "2025-08-05T15:53:25.157963Z",
     "shell.execute_reply": "2025-08-05T15:53:25.142131Z"
    },
    "papermill": {
     "duration": 0.049362,
     "end_time": "2025-08-05T15:53:25.159890",
     "exception": false,
     "start_time": "2025-08-05T15:53:25.110528",
     "status": "completed"
    },
    "tags": []
   },
   "outputs": [],
   "source": [
    "X_train = X_train[keep_mask]"
   ]
  },
  {
   "cell_type": "code",
   "execution_count": 29,
   "id": "b202bb3a",
   "metadata": {
    "execution": {
     "iopub.execute_input": "2025-08-05T15:53:25.199015Z",
     "iopub.status.busy": "2025-08-05T15:53:25.198502Z",
     "iopub.status.idle": "2025-08-05T15:53:25.204945Z",
     "shell.execute_reply": "2025-08-05T15:53:25.203804Z"
    },
    "papermill": {
     "duration": 0.027206,
     "end_time": "2025-08-05T15:53:25.206821",
     "exception": false,
     "start_time": "2025-08-05T15:53:25.179615",
     "status": "completed"
    },
    "tags": []
   },
   "outputs": [],
   "source": [
    "y_train = y_train[keep_mask]"
   ]
  },
  {
   "cell_type": "markdown",
   "id": "493e2ac3",
   "metadata": {
    "papermill": {
     "duration": 0.019249,
     "end_time": "2025-08-05T15:53:25.246336",
     "exception": false,
     "start_time": "2025-08-05T15:53:25.227087",
     "status": "completed"
    },
    "tags": []
   },
   "source": [
    "# Model Training"
   ]
  },
  {
   "cell_type": "code",
   "execution_count": 30,
   "id": "679e1268",
   "metadata": {
    "execution": {
     "iopub.execute_input": "2025-08-05T15:53:25.285070Z",
     "iopub.status.busy": "2025-08-05T15:53:25.284539Z",
     "iopub.status.idle": "2025-08-05T15:53:25.507551Z",
     "shell.execute_reply": "2025-08-05T15:53:25.506625Z"
    },
    "papermill": {
     "duration": 0.244426,
     "end_time": "2025-08-05T15:53:25.509378",
     "exception": false,
     "start_time": "2025-08-05T15:53:25.264952",
     "status": "completed"
    },
    "tags": []
   },
   "outputs": [],
   "source": [
    "from sklearn.linear_model import LogisticRegression\n",
    "from sklearn.ensemble import GradientBoostingClassifier, RandomForestClassifier\n",
    "\n",
    "if (universe[\"model\"] == \"logreg\"):\n",
    "    model = LogisticRegression() #penalty=\"none\", solver=\"newton-cg\", max_iter=1) # include random_state=19 ?\n",
    "elif (universe[\"model\"] == \"penalized_logreg\"):\n",
    "    model = LogisticRegression(penalty=\"l2\", C=0.1) #, solver=\"newton-cg\", max_iter=1)\n",
    "elif (universe[\"model\"] == \"rf\"):\n",
    "    model = RandomForestClassifier() # n_estimators=100, n_jobs=-1\n",
    "elif (universe[\"model\"] == \"gbm\"):\n",
    "    model = GradientBoostingClassifier()\n",
    "elif (universe[\"model\"] == \"elasticnet\"):\n",
    "    model = LogisticRegression(penalty = 'elasticnet', solver = 'saga', l1_ratio = 0.5) # max_iter=5000\n",
    "else:\n",
    "    raise \"Unsupported universe.model\""
   ]
  },
  {
   "cell_type": "code",
   "execution_count": 31,
   "id": "0cc8f744",
   "metadata": {
    "execution": {
     "iopub.execute_input": "2025-08-05T15:53:25.547073Z",
     "iopub.status.busy": "2025-08-05T15:53:25.546475Z",
     "iopub.status.idle": "2025-08-05T15:53:25.553327Z",
     "shell.execute_reply": "2025-08-05T15:53:25.552148Z"
    },
    "papermill": {
     "duration": 0.027484,
     "end_time": "2025-08-05T15:53:25.555061",
     "exception": false,
     "start_time": "2025-08-05T15:53:25.527577",
     "status": "completed"
    },
    "tags": []
   },
   "outputs": [],
   "source": [
    "import numpy as np\n",
    "from sklearn.pipeline import Pipeline\n",
    "from sklearn.preprocessing import StandardScaler\n",
    "\n",
    "model = Pipeline([\n",
    "    #(\"continuous_processor\", continuous_processor),\n",
    "    #(\"categorical_preprocessor\", categorical_preprocessor),\n",
    "    (\"scale\", StandardScaler() if universe[\"scale\"] == \"scale\" else None), \n",
    "    (\"model\", model),\n",
    "])"
   ]
  },
  {
   "cell_type": "code",
   "execution_count": 32,
   "id": "9442c04d",
   "metadata": {
    "execution": {
     "iopub.execute_input": "2025-08-05T15:53:25.593184Z",
     "iopub.status.busy": "2025-08-05T15:53:25.592334Z",
     "iopub.status.idle": "2025-08-05T15:53:27.656478Z",
     "shell.execute_reply": "2025-08-05T15:53:27.655669Z"
    },
    "papermill": {
     "duration": 2.084456,
     "end_time": "2025-08-05T15:53:27.658022",
     "exception": false,
     "start_time": "2025-08-05T15:53:25.573566",
     "status": "completed"
    },
    "tags": []
   },
   "outputs": [
    {
     "name": "stderr",
     "output_type": "stream",
     "text": [
      "/dss/dsshome1/0C/ra93lal2/.local/share/virtualenvs/CMA_Fairness_v2-3j10GkSs/lib/python3.10/site-packages/sklearn/linear_model/_sag.py:350: ConvergenceWarning: The max_iter was reached which means the coef_ did not converge\n",
      "  warnings.warn(\n"
     ]
    },
    {
     "data": {
      "text/html": [
       "<style>#sk-container-id-1 {color: black;background-color: white;}#sk-container-id-1 pre{padding: 0;}#sk-container-id-1 div.sk-toggleable {background-color: white;}#sk-container-id-1 label.sk-toggleable__label {cursor: pointer;display: block;width: 100%;margin-bottom: 0;padding: 0.3em;box-sizing: border-box;text-align: center;}#sk-container-id-1 label.sk-toggleable__label-arrow:before {content: \"▸\";float: left;margin-right: 0.25em;color: #696969;}#sk-container-id-1 label.sk-toggleable__label-arrow:hover:before {color: black;}#sk-container-id-1 div.sk-estimator:hover label.sk-toggleable__label-arrow:before {color: black;}#sk-container-id-1 div.sk-toggleable__content {max-height: 0;max-width: 0;overflow: hidden;text-align: left;background-color: #f0f8ff;}#sk-container-id-1 div.sk-toggleable__content pre {margin: 0.2em;color: black;border-radius: 0.25em;background-color: #f0f8ff;}#sk-container-id-1 input.sk-toggleable__control:checked~div.sk-toggleable__content {max-height: 200px;max-width: 100%;overflow: auto;}#sk-container-id-1 input.sk-toggleable__control:checked~label.sk-toggleable__label-arrow:before {content: \"▾\";}#sk-container-id-1 div.sk-estimator input.sk-toggleable__control:checked~label.sk-toggleable__label {background-color: #d4ebff;}#sk-container-id-1 div.sk-label input.sk-toggleable__control:checked~label.sk-toggleable__label {background-color: #d4ebff;}#sk-container-id-1 input.sk-hidden--visually {border: 0;clip: rect(1px 1px 1px 1px);clip: rect(1px, 1px, 1px, 1px);height: 1px;margin: -1px;overflow: hidden;padding: 0;position: absolute;width: 1px;}#sk-container-id-1 div.sk-estimator {font-family: monospace;background-color: #f0f8ff;border: 1px dotted black;border-radius: 0.25em;box-sizing: border-box;margin-bottom: 0.5em;}#sk-container-id-1 div.sk-estimator:hover {background-color: #d4ebff;}#sk-container-id-1 div.sk-parallel-item::after {content: \"\";width: 100%;border-bottom: 1px solid gray;flex-grow: 1;}#sk-container-id-1 div.sk-label:hover label.sk-toggleable__label {background-color: #d4ebff;}#sk-container-id-1 div.sk-serial::before {content: \"\";position: absolute;border-left: 1px solid gray;box-sizing: border-box;top: 0;bottom: 0;left: 50%;z-index: 0;}#sk-container-id-1 div.sk-serial {display: flex;flex-direction: column;align-items: center;background-color: white;padding-right: 0.2em;padding-left: 0.2em;position: relative;}#sk-container-id-1 div.sk-item {position: relative;z-index: 1;}#sk-container-id-1 div.sk-parallel {display: flex;align-items: stretch;justify-content: center;background-color: white;position: relative;}#sk-container-id-1 div.sk-item::before, #sk-container-id-1 div.sk-parallel-item::before {content: \"\";position: absolute;border-left: 1px solid gray;box-sizing: border-box;top: 0;bottom: 0;left: 50%;z-index: -1;}#sk-container-id-1 div.sk-parallel-item {display: flex;flex-direction: column;z-index: 1;position: relative;background-color: white;}#sk-container-id-1 div.sk-parallel-item:first-child::after {align-self: flex-end;width: 50%;}#sk-container-id-1 div.sk-parallel-item:last-child::after {align-self: flex-start;width: 50%;}#sk-container-id-1 div.sk-parallel-item:only-child::after {width: 0;}#sk-container-id-1 div.sk-dashed-wrapped {border: 1px dashed gray;margin: 0 0.4em 0.5em 0.4em;box-sizing: border-box;padding-bottom: 0.4em;background-color: white;}#sk-container-id-1 div.sk-label label {font-family: monospace;font-weight: bold;display: inline-block;line-height: 1.2em;}#sk-container-id-1 div.sk-label-container {text-align: center;}#sk-container-id-1 div.sk-container {/* jupyter's `normalize.less` sets `[hidden] { display: none; }` but bootstrap.min.css set `[hidden] { display: none !important; }` so we also need the `!important` here to be able to override the default hidden behavior on the sphinx rendered scikit-learn.org. See: https://github.com/scikit-learn/scikit-learn/issues/21755 */display: inline-block !important;position: relative;}#sk-container-id-1 div.sk-text-repr-fallback {display: none;}</style><div id=\"sk-container-id-1\" class=\"sk-top-container\"><div class=\"sk-text-repr-fallback\"><pre>Pipeline(steps=[(&#x27;scale&#x27;, StandardScaler()),\n",
       "                (&#x27;model&#x27;,\n",
       "                 LogisticRegression(l1_ratio=0.5, penalty=&#x27;elasticnet&#x27;,\n",
       "                                    solver=&#x27;saga&#x27;))])</pre><b>In a Jupyter environment, please rerun this cell to show the HTML representation or trust the notebook. <br />On GitHub, the HTML representation is unable to render, please try loading this page with nbviewer.org.</b></div><div class=\"sk-container\" hidden><div class=\"sk-item sk-dashed-wrapped\"><div class=\"sk-label-container\"><div class=\"sk-label sk-toggleable\"><input class=\"sk-toggleable__control sk-hidden--visually\" id=\"sk-estimator-id-1\" type=\"checkbox\" ><label for=\"sk-estimator-id-1\" class=\"sk-toggleable__label sk-toggleable__label-arrow\">Pipeline</label><div class=\"sk-toggleable__content\"><pre>Pipeline(steps=[(&#x27;scale&#x27;, StandardScaler()),\n",
       "                (&#x27;model&#x27;,\n",
       "                 LogisticRegression(l1_ratio=0.5, penalty=&#x27;elasticnet&#x27;,\n",
       "                                    solver=&#x27;saga&#x27;))])</pre></div></div></div><div class=\"sk-serial\"><div class=\"sk-item\"><div class=\"sk-estimator sk-toggleable\"><input class=\"sk-toggleable__control sk-hidden--visually\" id=\"sk-estimator-id-2\" type=\"checkbox\" ><label for=\"sk-estimator-id-2\" class=\"sk-toggleable__label sk-toggleable__label-arrow\">StandardScaler</label><div class=\"sk-toggleable__content\"><pre>StandardScaler()</pre></div></div></div><div class=\"sk-item\"><div class=\"sk-estimator sk-toggleable\"><input class=\"sk-toggleable__control sk-hidden--visually\" id=\"sk-estimator-id-3\" type=\"checkbox\" ><label for=\"sk-estimator-id-3\" class=\"sk-toggleable__label sk-toggleable__label-arrow\">LogisticRegression</label><div class=\"sk-toggleable__content\"><pre>LogisticRegression(l1_ratio=0.5, penalty=&#x27;elasticnet&#x27;, solver=&#x27;saga&#x27;)</pre></div></div></div></div></div></div></div>"
      ],
      "text/plain": [
       "Pipeline(steps=[('scale', StandardScaler()),\n",
       "                ('model',\n",
       "                 LogisticRegression(l1_ratio=0.5, penalty='elasticnet',\n",
       "                                    solver='saga'))])"
      ]
     },
     "execution_count": 32,
     "metadata": {},
     "output_type": "execute_result"
    }
   ],
   "source": [
    "model.fit(X_train, y_train.values.ravel())"
   ]
  },
  {
   "cell_type": "code",
   "execution_count": 33,
   "id": "af59f8c0",
   "metadata": {
    "execution": {
     "iopub.execute_input": "2025-08-05T15:53:27.698923Z",
     "iopub.status.busy": "2025-08-05T15:53:27.698450Z",
     "iopub.status.idle": "2025-08-05T15:53:27.704025Z",
     "shell.execute_reply": "2025-08-05T15:53:27.702957Z"
    },
    "papermill": {
     "duration": 0.027457,
     "end_time": "2025-08-05T15:53:27.705952",
     "exception": false,
     "start_time": "2025-08-05T15:53:27.678495",
     "status": "completed"
    },
    "tags": []
   },
   "outputs": [],
   "source": [
    "from fairness_multiverse.universe import predict_w_threshold"
   ]
  },
  {
   "cell_type": "code",
   "execution_count": 34,
   "id": "a7cf2e16",
   "metadata": {
    "execution": {
     "iopub.execute_input": "2025-08-05T15:53:27.750860Z",
     "iopub.status.busy": "2025-08-05T15:53:27.750068Z",
     "iopub.status.idle": "2025-08-05T15:53:27.960484Z",
     "shell.execute_reply": "2025-08-05T15:53:27.959619Z"
    },
    "papermill": {
     "duration": 0.234205,
     "end_time": "2025-08-05T15:53:27.962115",
     "exception": false,
     "start_time": "2025-08-05T15:53:27.727910",
     "status": "completed"
    },
    "tags": []
   },
   "outputs": [
    {
     "data": {
      "text/plain": [
       "0.8532716531044476"
      ]
     },
     "execution_count": 34,
     "metadata": {},
     "output_type": "execute_result"
    }
   ],
   "source": [
    "probs_test = model.predict_proba(X_test)\n",
    "\n",
    "'''\n",
    "Below code returns a boolean array (or binary 0/1 array depending on how it’s used) where each element \n",
    "is True if the probability of class 1 is greater than or equal to the threshold, and False otherwise.\n",
    "'''\n",
    "y_pred_default = predict_w_threshold(probs_test, 0.5)\n",
    "\n",
    "from sklearn.metrics import accuracy_score\n",
    "\n",
    "# Naive prediction\n",
    "accuracy_score(y_true = y_true, y_pred = y_pred_default)"
   ]
  },
  {
   "cell_type": "code",
   "execution_count": 35,
   "id": "081964c3",
   "metadata": {
    "execution": {
     "iopub.execute_input": "2025-08-05T15:53:28.002639Z",
     "iopub.status.busy": "2025-08-05T15:53:28.002185Z",
     "iopub.status.idle": "2025-08-05T15:53:28.186789Z",
     "shell.execute_reply": "2025-08-05T15:53:28.185933Z"
    },
    "papermill": {
     "duration": 0.206206,
     "end_time": "2025-08-05T15:53:28.188522",
     "exception": false,
     "start_time": "2025-08-05T15:53:27.982316",
     "status": "completed"
    },
    "tags": []
   },
   "outputs": [
    {
     "data": {
      "text/plain": [
       "array([0, 0, 0, ..., 0, 0, 0])"
      ]
     },
     "execution_count": 35,
     "metadata": {},
     "output_type": "execute_result"
    }
   ],
   "source": [
    "model.predict(X_test)"
   ]
  },
  {
   "cell_type": "markdown",
   "id": "56c9705b",
   "metadata": {
    "papermill": {
     "duration": 0.020789,
     "end_time": "2025-08-05T15:53:28.246165",
     "exception": false,
     "start_time": "2025-08-05T15:53:28.225376",
     "status": "completed"
    },
    "tags": []
   },
   "source": [
    "# Conformal Prediction"
   ]
  },
  {
   "cell_type": "code",
   "execution_count": 36,
   "id": "160ec6ff",
   "metadata": {
    "execution": {
     "iopub.execute_input": "2025-08-05T15:53:28.290225Z",
     "iopub.status.busy": "2025-08-05T15:53:28.289482Z",
     "iopub.status.idle": "2025-08-05T15:53:28.294951Z",
     "shell.execute_reply": "2025-08-05T15:53:28.294023Z"
    },
    "papermill": {
     "duration": 0.030003,
     "end_time": "2025-08-05T15:53:28.297407",
     "exception": false,
     "start_time": "2025-08-05T15:53:28.267404",
     "status": "completed"
    },
    "tags": []
   },
   "outputs": [],
   "source": [
    "# Miscoverage level for conformal prediction (10% allowed error rate => 90% target coverage)\n",
    "alpha = 0.1"
   ]
  },
  {
   "cell_type": "code",
   "execution_count": 37,
   "id": "eadf4555-3dd3-440e-8e35-f82a4ad9f855",
   "metadata": {
    "execution": {
     "iopub.execute_input": "2025-08-05T15:53:28.338105Z",
     "iopub.status.busy": "2025-08-05T15:53:28.337238Z",
     "iopub.status.idle": "2025-08-05T15:53:28.518634Z",
     "shell.execute_reply": "2025-08-05T15:53:28.517619Z"
    },
    "papermill": {
     "duration": 0.203908,
     "end_time": "2025-08-05T15:53:28.520687",
     "exception": false,
     "start_time": "2025-08-05T15:53:28.316779",
     "status": "completed"
    },
    "tags": []
   },
   "outputs": [],
   "source": [
    "probs_calib = model.predict_proba(X_calib)"
   ]
  },
  {
   "cell_type": "code",
   "execution_count": 38,
   "id": "2ed93547-6d5d-4983-9b36-1ecb300da49a",
   "metadata": {
    "execution": {
     "iopub.execute_input": "2025-08-05T15:53:28.563537Z",
     "iopub.status.busy": "2025-08-05T15:53:28.562874Z",
     "iopub.status.idle": "2025-08-05T15:53:28.568944Z",
     "shell.execute_reply": "2025-08-05T15:53:28.567990Z"
    },
    "papermill": {
     "duration": 0.029386,
     "end_time": "2025-08-05T15:53:28.570761",
     "exception": false,
     "start_time": "2025-08-05T15:53:28.541375",
     "status": "completed"
    },
    "tags": []
   },
   "outputs": [],
   "source": [
    "y_calib = y_calib.values.ravel().astype(int)"
   ]
  },
  {
   "cell_type": "code",
   "execution_count": 39,
   "id": "65d1320d-f588-4b38-9072-62af1ae97f7d",
   "metadata": {
    "execution": {
     "iopub.execute_input": "2025-08-05T15:53:28.614025Z",
     "iopub.status.busy": "2025-08-05T15:53:28.613349Z",
     "iopub.status.idle": "2025-08-05T15:53:28.621244Z",
     "shell.execute_reply": "2025-08-05T15:53:28.620025Z"
    },
    "papermill": {
     "duration": 0.030724,
     "end_time": "2025-08-05T15:53:28.622896",
     "exception": false,
     "start_time": "2025-08-05T15:53:28.592172",
     "status": "completed"
    },
    "tags": []
   },
   "outputs": [],
   "source": [
    "from fairness_multiverse.conformal import compute_nc_scores\n",
    "\n",
    "# Compute nonconformity scores on calibration set (1 - probability of true class)\n",
    "nc_scores = compute_nc_scores(probs_calib, y_calib)"
   ]
  },
  {
   "cell_type": "code",
   "execution_count": 40,
   "id": "df3b8ca3-53b7-43d5-9667-7c85da7aeda2",
   "metadata": {
    "execution": {
     "iopub.execute_input": "2025-08-05T15:53:28.665326Z",
     "iopub.status.busy": "2025-08-05T15:53:28.664665Z",
     "iopub.status.idle": "2025-08-05T15:53:28.671691Z",
     "shell.execute_reply": "2025-08-05T15:53:28.670678Z"
    },
    "papermill": {
     "duration": 0.030198,
     "end_time": "2025-08-05T15:53:28.673508",
     "exception": false,
     "start_time": "2025-08-05T15:53:28.643310",
     "status": "completed"
    },
    "tags": []
   },
   "outputs": [],
   "source": [
    "from fairness_multiverse.conformal import find_threshold\n",
    "\n",
    "# Find conformal threshold q_hat for the given alpha (split conformal method)\n",
    "q_hat = find_threshold(nc_scores, alpha)"
   ]
  },
  {
   "cell_type": "code",
   "execution_count": 41,
   "id": "4d29e6c1-0ef6-4aa4-b8fe-4fe79b0d033a",
   "metadata": {
    "execution": {
     "iopub.execute_input": "2025-08-05T15:53:28.714722Z",
     "iopub.status.busy": "2025-08-05T15:53:28.714087Z",
     "iopub.status.idle": "2025-08-05T15:53:28.721720Z",
     "shell.execute_reply": "2025-08-05T15:53:28.720566Z"
    },
    "papermill": {
     "duration": 0.029996,
     "end_time": "2025-08-05T15:53:28.723487",
     "exception": false,
     "start_time": "2025-08-05T15:53:28.693491",
     "status": "completed"
    },
    "tags": []
   },
   "outputs": [
    {
     "data": {
      "text/plain": [
       "0.6787055676228007"
      ]
     },
     "execution_count": 41,
     "metadata": {},
     "output_type": "execute_result"
    }
   ],
   "source": [
    "q_hat"
   ]
  },
  {
   "cell_type": "code",
   "execution_count": 42,
   "id": "92460794-cdac-4be2-ba28-f28c0515a6fb",
   "metadata": {
    "execution": {
     "iopub.execute_input": "2025-08-05T15:53:28.766498Z",
     "iopub.status.busy": "2025-08-05T15:53:28.765840Z",
     "iopub.status.idle": "2025-08-05T15:53:29.993432Z",
     "shell.execute_reply": "2025-08-05T15:53:29.992268Z"
    },
    "papermill": {
     "duration": 1.251072,
     "end_time": "2025-08-05T15:53:29.995357",
     "exception": false,
     "start_time": "2025-08-05T15:53:28.744285",
     "status": "completed"
    },
    "tags": []
   },
   "outputs": [],
   "source": [
    "from fairness_multiverse.conformal import predict_conformal_sets\n",
    "\n",
    "# Generate prediction sets for each test example\n",
    "pred_sets = predict_conformal_sets(model, X_test, q_hat)"
   ]
  },
  {
   "cell_type": "code",
   "execution_count": 43,
   "id": "d90c9a65-e6db-4f5d-80cd-e68fb7e46829",
   "metadata": {
    "execution": {
     "iopub.execute_input": "2025-08-05T15:53:30.039494Z",
     "iopub.status.busy": "2025-08-05T15:53:30.038691Z",
     "iopub.status.idle": "2025-08-05T15:53:30.044809Z",
     "shell.execute_reply": "2025-08-05T15:53:30.043830Z"
    },
    "papermill": {
     "duration": 0.028955,
     "end_time": "2025-08-05T15:53:30.046669",
     "exception": false,
     "start_time": "2025-08-05T15:53:30.017714",
     "status": "completed"
    },
    "tags": []
   },
   "outputs": [],
   "source": [
    "y_true = y_true.squeeze()"
   ]
  },
  {
   "cell_type": "code",
   "execution_count": 44,
   "id": "3a58a54a-1e68-46b9-927a-df01f18aebc8",
   "metadata": {
    "execution": {
     "iopub.execute_input": "2025-08-05T15:53:30.089693Z",
     "iopub.status.busy": "2025-08-05T15:53:30.088988Z",
     "iopub.status.idle": "2025-08-05T15:53:31.147049Z",
     "shell.execute_reply": "2025-08-05T15:53:31.145926Z"
    },
    "papermill": {
     "duration": 1.082408,
     "end_time": "2025-08-05T15:53:31.149549",
     "exception": false,
     "start_time": "2025-08-05T15:53:30.067141",
     "status": "completed"
    },
    "tags": []
   },
   "outputs": [],
   "source": [
    "from fairness_multiverse.conformal import evaluate_sets\n",
    "\n",
    "# Evaluate coverage and average set size on test data\n",
    "metrics = evaluate_sets(pred_sets, y_true)"
   ]
  },
  {
   "cell_type": "markdown",
   "id": "2b569c12-9aaa-4c88-98c9-bbcd0cf3ebb8",
   "metadata": {
    "papermill": {
     "duration": 0.023511,
     "end_time": "2025-08-05T15:53:31.201034",
     "exception": false,
     "start_time": "2025-08-05T15:53:31.177523",
     "status": "completed"
    },
    "tags": []
   },
   "source": [
    "# CP Metrics"
   ]
  },
  {
   "cell_type": "code",
   "execution_count": 45,
   "id": "5ce0a5cb-201f-45a0-ade5-94c7f0bd6095",
   "metadata": {
    "execution": {
     "iopub.execute_input": "2025-08-05T15:53:31.248309Z",
     "iopub.status.busy": "2025-08-05T15:53:31.247893Z",
     "iopub.status.idle": "2025-08-05T15:53:31.255980Z",
     "shell.execute_reply": "2025-08-05T15:53:31.254621Z"
    },
    "papermill": {
     "duration": 0.034538,
     "end_time": "2025-08-05T15:53:31.258256",
     "exception": false,
     "start_time": "2025-08-05T15:53:31.223718",
     "status": "completed"
    },
    "tags": []
   },
   "outputs": [
    {
     "data": {
      "text/plain": [
       "{'coverage': 0.9114145580202876, 'avg_size': 1.1466837587782857}"
      ]
     },
     "execution_count": 45,
     "metadata": {},
     "output_type": "execute_result"
    }
   ],
   "source": [
    "metrics"
   ]
  },
  {
   "cell_type": "code",
   "execution_count": 46,
   "id": "9b9a838d-31c9-430b-ae14-12baee460d17",
   "metadata": {
    "execution": {
     "iopub.execute_input": "2025-08-05T15:53:31.318731Z",
     "iopub.status.busy": "2025-08-05T15:53:31.318230Z",
     "iopub.status.idle": "2025-08-05T15:53:31.326080Z",
     "shell.execute_reply": "2025-08-05T15:53:31.324868Z"
    },
    "papermill": {
     "duration": 0.040333,
     "end_time": "2025-08-05T15:53:31.328405",
     "exception": false,
     "start_time": "2025-08-05T15:53:31.288072",
     "status": "completed"
    },
    "tags": []
   },
   "outputs": [],
   "source": [
    "example_universe = universe.copy()\n",
    "universe_training_year = example_universe.get(\"training_year\")\n",
    "universe_training_size = example_universe.get(\"training_size\")\n",
    "universe_scale = example_universe.get(\"scale\")\n",
    "universe_model = example_universe.get(\"model\")\n",
    "universe_exclude_features = example_universe.get(\"exclude_features\")\n",
    "universe_exclude_subgroups = example_universe.get(\"exclude_subgroups\")"
   ]
  },
  {
   "cell_type": "code",
   "execution_count": 47,
   "id": "f4b6a8ac-9dc0-4245-8a91-5b3b5999c4f9",
   "metadata": {
    "execution": {
     "iopub.execute_input": "2025-08-05T15:53:31.371875Z",
     "iopub.status.busy": "2025-08-05T15:53:31.371137Z",
     "iopub.status.idle": "2025-08-05T15:53:31.378448Z",
     "shell.execute_reply": "2025-08-05T15:53:31.377297Z"
    },
    "papermill": {
     "duration": 0.030706,
     "end_time": "2025-08-05T15:53:31.380079",
     "exception": false,
     "start_time": "2025-08-05T15:53:31.349373",
     "status": "completed"
    },
    "tags": []
   },
   "outputs": [],
   "source": [
    "cp_metrics_dict = {\n",
    "    \"universe_id\": [universe_id],\n",
    "    \"universe_training_year\": [universe_training_year],\n",
    "    \"universe_training_size\": [universe_training_size],\n",
    "    \"universe_scale\": [universe_scale],\n",
    "    \"universe_model\": [universe_model],\n",
    "    \"universe_exclude_features\": [universe_exclude_features],\n",
    "    \"universe_exclude_subgroups\": [universe_exclude_subgroups],\n",
    "    \"q_hat\": [q_hat],\n",
    "    \"coverage\": [metrics[\"coverage\"]],\n",
    "    \"avg_size\": [metrics[\"avg_size\"]],\n",
    "}"
   ]
  },
  {
   "cell_type": "code",
   "execution_count": 48,
   "id": "908acbb1-0371-4915-85ca-3fa520d2efe2",
   "metadata": {
    "execution": {
     "iopub.execute_input": "2025-08-05T15:53:31.436210Z",
     "iopub.status.busy": "2025-08-05T15:53:31.435518Z",
     "iopub.status.idle": "2025-08-05T15:53:31.474582Z",
     "shell.execute_reply": "2025-08-05T15:53:31.473368Z"
    },
    "papermill": {
     "duration": 0.067439,
     "end_time": "2025-08-05T15:53:31.476492",
     "exception": false,
     "start_time": "2025-08-05T15:53:31.409053",
     "status": "completed"
    },
    "tags": []
   },
   "outputs": [
    {
     "data": {
      "text/plain": [
       "{'universe_id': ['c8ac7f16a14e87870b3efcde22766733'],\n",
       " 'universe_training_year': ['2010_14'],\n",
       " 'universe_training_size': ['5k'],\n",
       " 'universe_scale': ['scale'],\n",
       " 'universe_model': ['elasticnet'],\n",
       " 'universe_exclude_features': ['none'],\n",
       " 'universe_exclude_subgroups': ['keep-all'],\n",
       " 'q_hat': [0.6787055676228007],\n",
       " 'coverage': [0.9114145580202876],\n",
       " 'avg_size': [1.1466837587782857]}"
      ]
     },
     "execution_count": 48,
     "metadata": {},
     "output_type": "execute_result"
    }
   ],
   "source": [
    "cp_metrics_dict"
   ]
  },
  {
   "cell_type": "code",
   "execution_count": 49,
   "id": "33007efc-14e9-4ec6-97ac-56a455c82265",
   "metadata": {
    "execution": {
     "iopub.execute_input": "2025-08-05T15:53:31.523095Z",
     "iopub.status.busy": "2025-08-05T15:53:31.522126Z",
     "iopub.status.idle": "2025-08-05T15:53:31.529461Z",
     "shell.execute_reply": "2025-08-05T15:53:31.528320Z"
    },
    "papermill": {
     "duration": 0.033908,
     "end_time": "2025-08-05T15:53:31.531750",
     "exception": false,
     "start_time": "2025-08-05T15:53:31.497842",
     "status": "completed"
    },
    "tags": []
   },
   "outputs": [],
   "source": [
    "cp_metrics_df = pd.DataFrame(cp_metrics_dict)"
   ]
  },
  {
   "cell_type": "code",
   "execution_count": 50,
   "id": "db12611b-57b2-4910-b9d0-355adfd6e7bf",
   "metadata": {
    "execution": {
     "iopub.execute_input": "2025-08-05T15:53:31.596977Z",
     "iopub.status.busy": "2025-08-05T15:53:31.596208Z",
     "iopub.status.idle": "2025-08-05T15:53:31.617487Z",
     "shell.execute_reply": "2025-08-05T15:53:31.616448Z"
    },
    "papermill": {
     "duration": 0.057219,
     "end_time": "2025-08-05T15:53:31.619228",
     "exception": false,
     "start_time": "2025-08-05T15:53:31.562009",
     "status": "completed"
    },
    "tags": []
   },
   "outputs": [
    {
     "data": {
      "text/html": [
       "<div>\n",
       "<style scoped>\n",
       "    .dataframe tbody tr th:only-of-type {\n",
       "        vertical-align: middle;\n",
       "    }\n",
       "\n",
       "    .dataframe tbody tr th {\n",
       "        vertical-align: top;\n",
       "    }\n",
       "\n",
       "    .dataframe thead th {\n",
       "        text-align: right;\n",
       "    }\n",
       "</style>\n",
       "<table border=\"1\" class=\"dataframe\">\n",
       "  <thead>\n",
       "    <tr style=\"text-align: right;\">\n",
       "      <th></th>\n",
       "      <th>universe_id</th>\n",
       "      <th>universe_training_year</th>\n",
       "      <th>universe_training_size</th>\n",
       "      <th>universe_scale</th>\n",
       "      <th>universe_model</th>\n",
       "      <th>universe_exclude_features</th>\n",
       "      <th>universe_exclude_subgroups</th>\n",
       "      <th>q_hat</th>\n",
       "      <th>coverage</th>\n",
       "      <th>avg_size</th>\n",
       "    </tr>\n",
       "  </thead>\n",
       "  <tbody>\n",
       "    <tr>\n",
       "      <th>0</th>\n",
       "      <td>c8ac7f16a14e87870b3efcde22766733</td>\n",
       "      <td>2010_14</td>\n",
       "      <td>5k</td>\n",
       "      <td>scale</td>\n",
       "      <td>elasticnet</td>\n",
       "      <td>none</td>\n",
       "      <td>keep-all</td>\n",
       "      <td>0.678706</td>\n",
       "      <td>0.911415</td>\n",
       "      <td>1.146684</td>\n",
       "    </tr>\n",
       "  </tbody>\n",
       "</table>\n",
       "</div>"
      ],
      "text/plain": [
       "                        universe_id universe_training_year  \\\n",
       "0  c8ac7f16a14e87870b3efcde22766733                2010_14   \n",
       "\n",
       "  universe_training_size universe_scale universe_model  \\\n",
       "0                     5k          scale     elasticnet   \n",
       "\n",
       "  universe_exclude_features universe_exclude_subgroups     q_hat  coverage  \\\n",
       "0                      none                   keep-all  0.678706  0.911415   \n",
       "\n",
       "   avg_size  \n",
       "0  1.146684  "
      ]
     },
     "execution_count": 50,
     "metadata": {},
     "output_type": "execute_result"
    }
   ],
   "source": [
    "cp_metrics_df"
   ]
  },
  {
   "cell_type": "code",
   "execution_count": 51,
   "id": "b7fbde55-a0a1-47e4-9af6-fe4a17fa8c61",
   "metadata": {
    "execution": {
     "iopub.execute_input": "2025-08-05T15:53:31.667972Z",
     "iopub.status.busy": "2025-08-05T15:53:31.667255Z",
     "iopub.status.idle": "2025-08-05T15:53:31.672535Z",
     "shell.execute_reply": "2025-08-05T15:53:31.671464Z"
    },
    "papermill": {
     "duration": 0.030073,
     "end_time": "2025-08-05T15:53:31.674481",
     "exception": false,
     "start_time": "2025-08-05T15:53:31.644408",
     "status": "completed"
    },
    "tags": []
   },
   "outputs": [],
   "source": [
    "# Conditional Coverage & looking at subgroups"
   ]
  },
  {
   "cell_type": "code",
   "execution_count": 52,
   "id": "027ae886-68dd-4141-96c7-805a5450e1ef",
   "metadata": {
    "execution": {
     "iopub.execute_input": "2025-08-05T15:53:31.721823Z",
     "iopub.status.busy": "2025-08-05T15:53:31.720986Z",
     "iopub.status.idle": "2025-08-05T15:53:31.956667Z",
     "shell.execute_reply": "2025-08-05T15:53:31.955676Z"
    },
    "papermill": {
     "duration": 0.261648,
     "end_time": "2025-08-05T15:53:31.958699",
     "exception": false,
     "start_time": "2025-08-05T15:53:31.697051",
     "status": "completed"
    },
    "tags": []
   },
   "outputs": [],
   "source": [
    "from fairness_multiverse.conformal import build_cp_groups\n",
    "\n",
    "cp_groups_df = build_cp_groups(pred_sets, y_true, X_test.index, org_test)\n",
    "#needs universe_id and setting"
   ]
  },
  {
   "cell_type": "code",
   "execution_count": 53,
   "id": "6cbdab96-b2b2-45af-ad54-d0516db2e28d",
   "metadata": {
    "execution": {
     "iopub.execute_input": "2025-08-05T15:53:32.007279Z",
     "iopub.status.busy": "2025-08-05T15:53:32.006713Z",
     "iopub.status.idle": "2025-08-05T15:53:33.244586Z",
     "shell.execute_reply": "2025-08-05T15:53:33.243834Z"
    },
    "papermill": {
     "duration": 1.264076,
     "end_time": "2025-08-05T15:53:33.246056",
     "exception": false,
     "start_time": "2025-08-05T15:53:31.981980",
     "status": "completed"
    },
    "tags": []
   },
   "outputs": [],
   "source": [
    "# Define covered = 1 if true_label is in the predicted set\n",
    "cp_groups_df['covered'] = cp_groups_df.apply(\n",
    "    lambda r: int(r['true_label'] in r['pred_set']),\n",
    "    axis=1\n",
    ")"
   ]
  },
  {
   "cell_type": "code",
   "execution_count": 54,
   "id": "338ff529-1a6b-4b87-a931-8e4788d52aad",
   "metadata": {
    "execution": {
     "iopub.execute_input": "2025-08-05T15:53:33.278519Z",
     "iopub.status.busy": "2025-08-05T15:53:33.278267Z",
     "iopub.status.idle": "2025-08-05T15:53:33.282794Z",
     "shell.execute_reply": "2025-08-05T15:53:33.282044Z"
    },
    "papermill": {
     "duration": 0.026044,
     "end_time": "2025-08-05T15:53:33.284149",
     "exception": false,
     "start_time": "2025-08-05T15:53:33.258105",
     "status": "completed"
    },
    "tags": []
   },
   "outputs": [],
   "source": [
    "#cp_groups_df"
   ]
  },
  {
   "cell_type": "code",
   "execution_count": 55,
   "id": "90032e27-66df-4540-9169-4e89cfbaa758",
   "metadata": {
    "execution": {
     "iopub.execute_input": "2025-08-05T15:53:33.312105Z",
     "iopub.status.busy": "2025-08-05T15:53:33.311411Z",
     "iopub.status.idle": "2025-08-05T15:53:33.321074Z",
     "shell.execute_reply": "2025-08-05T15:53:33.319901Z"
    },
    "papermill": {
     "duration": 0.027757,
     "end_time": "2025-08-05T15:53:33.323876",
     "exception": false,
     "start_time": "2025-08-05T15:53:33.296119",
     "status": "completed"
    },
    "tags": []
   },
   "outputs": [],
   "source": [
    "subgroups = ['frau1','nongerman','nongerman_male','nongerman_female']\n",
    "\n",
    "# Conditional coverage for subgroup==1\n",
    "cond_coverage = {\n",
    "    g: cp_groups_df.loc[cp_groups_df[g]==1, 'covered'].mean()\n",
    "    for g in subgroups\n",
    "}"
   ]
  },
  {
   "cell_type": "code",
   "execution_count": 56,
   "id": "1e348fb1-b9c3-45bc-ba23-f016827a7e0d",
   "metadata": {
    "execution": {
     "iopub.execute_input": "2025-08-05T15:53:33.354855Z",
     "iopub.status.busy": "2025-08-05T15:53:33.354376Z",
     "iopub.status.idle": "2025-08-05T15:53:33.390056Z",
     "shell.execute_reply": "2025-08-05T15:53:33.389119Z"
    },
    "papermill": {
     "duration": 0.053547,
     "end_time": "2025-08-05T15:53:33.392350",
     "exception": false,
     "start_time": "2025-08-05T15:53:33.338803",
     "status": "completed"
    },
    "tags": []
   },
   "outputs": [
    {
     "data": {
      "text/plain": [
       "{'frau1': 0.9092060924652918,\n",
       " 'nongerman': 0.9111884578678493,\n",
       " 'nongerman_male': 0.9278573358551743,\n",
       " 'nongerman_female': 0.8836065573770492}"
      ]
     },
     "execution_count": 56,
     "metadata": {},
     "output_type": "execute_result"
    }
   ],
   "source": [
    "cond_coverage"
   ]
  },
  {
   "cell_type": "code",
   "execution_count": 57,
   "id": "f5093324-c3dd-4d63-bc4c-8d945e5c8bbb",
   "metadata": {
    "execution": {
     "iopub.execute_input": "2025-08-05T15:53:33.432256Z",
     "iopub.status.busy": "2025-08-05T15:53:33.431548Z",
     "iopub.status.idle": "2025-08-05T15:53:33.437545Z",
     "shell.execute_reply": "2025-08-05T15:53:33.436959Z"
    },
    "papermill": {
     "duration": 0.020967,
     "end_time": "2025-08-05T15:53:33.438677",
     "exception": false,
     "start_time": "2025-08-05T15:53:33.417710",
     "status": "completed"
    },
    "tags": []
   },
   "outputs": [],
   "source": [
    "for subgroup, cov in cond_coverage.items():\n",
    "    cp_metrics_df[f\"cov_{subgroup}\"] = cov"
   ]
  },
  {
   "cell_type": "code",
   "execution_count": 58,
   "id": "6e872e10-dbe5-49e8-b554-5030c98ff75d",
   "metadata": {
    "execution": {
     "iopub.execute_input": "2025-08-05T15:53:33.466674Z",
     "iopub.status.busy": "2025-08-05T15:53:33.466188Z",
     "iopub.status.idle": "2025-08-05T15:53:33.498254Z",
     "shell.execute_reply": "2025-08-05T15:53:33.497391Z"
    },
    "papermill": {
     "duration": 0.046663,
     "end_time": "2025-08-05T15:53:33.499639",
     "exception": false,
     "start_time": "2025-08-05T15:53:33.452976",
     "status": "completed"
    },
    "tags": []
   },
   "outputs": [
    {
     "data": {
      "text/html": [
       "<div>\n",
       "<style scoped>\n",
       "    .dataframe tbody tr th:only-of-type {\n",
       "        vertical-align: middle;\n",
       "    }\n",
       "\n",
       "    .dataframe tbody tr th {\n",
       "        vertical-align: top;\n",
       "    }\n",
       "\n",
       "    .dataframe thead th {\n",
       "        text-align: right;\n",
       "    }\n",
       "</style>\n",
       "<table border=\"1\" class=\"dataframe\">\n",
       "  <thead>\n",
       "    <tr style=\"text-align: right;\">\n",
       "      <th></th>\n",
       "      <th>universe_id</th>\n",
       "      <th>universe_training_year</th>\n",
       "      <th>universe_training_size</th>\n",
       "      <th>universe_scale</th>\n",
       "      <th>universe_model</th>\n",
       "      <th>universe_exclude_features</th>\n",
       "      <th>universe_exclude_subgroups</th>\n",
       "      <th>q_hat</th>\n",
       "      <th>coverage</th>\n",
       "      <th>avg_size</th>\n",
       "      <th>cov_frau1</th>\n",
       "      <th>cov_nongerman</th>\n",
       "      <th>cov_nongerman_male</th>\n",
       "      <th>cov_nongerman_female</th>\n",
       "    </tr>\n",
       "  </thead>\n",
       "  <tbody>\n",
       "    <tr>\n",
       "      <th>0</th>\n",
       "      <td>c8ac7f16a14e87870b3efcde22766733</td>\n",
       "      <td>2010_14</td>\n",
       "      <td>5k</td>\n",
       "      <td>scale</td>\n",
       "      <td>elasticnet</td>\n",
       "      <td>none</td>\n",
       "      <td>keep-all</td>\n",
       "      <td>0.678706</td>\n",
       "      <td>0.911415</td>\n",
       "      <td>1.146684</td>\n",
       "      <td>0.909206</td>\n",
       "      <td>0.911188</td>\n",
       "      <td>0.927857</td>\n",
       "      <td>0.883607</td>\n",
       "    </tr>\n",
       "  </tbody>\n",
       "</table>\n",
       "</div>"
      ],
      "text/plain": [
       "                        universe_id universe_training_year  \\\n",
       "0  c8ac7f16a14e87870b3efcde22766733                2010_14   \n",
       "\n",
       "  universe_training_size universe_scale universe_model  \\\n",
       "0                     5k          scale     elasticnet   \n",
       "\n",
       "  universe_exclude_features universe_exclude_subgroups     q_hat  coverage  \\\n",
       "0                      none                   keep-all  0.678706  0.911415   \n",
       "\n",
       "   avg_size  cov_frau1  cov_nongerman  cov_nongerman_male  \\\n",
       "0  1.146684   0.909206       0.911188            0.927857   \n",
       "\n",
       "   cov_nongerman_female  \n",
       "0              0.883607  "
      ]
     },
     "execution_count": 58,
     "metadata": {},
     "output_type": "execute_result"
    }
   ],
   "source": [
    "cp_metrics_df"
   ]
  },
  {
   "cell_type": "markdown",
   "id": "33774451",
   "metadata": {
    "papermill": {
     "duration": 0.013534,
     "end_time": "2025-08-05T15:53:33.526629",
     "exception": false,
     "start_time": "2025-08-05T15:53:33.513095",
     "status": "completed"
    },
    "tags": []
   },
   "source": [
    "# (Fairness) Metrics"
   ]
  },
  {
   "cell_type": "code",
   "execution_count": 59,
   "id": "debc5d62",
   "metadata": {
    "execution": {
     "iopub.execute_input": "2025-08-05T15:53:33.554315Z",
     "iopub.status.busy": "2025-08-05T15:53:33.553809Z",
     "iopub.status.idle": "2025-08-05T15:53:33.574957Z",
     "shell.execute_reply": "2025-08-05T15:53:33.573994Z"
    },
    "papermill": {
     "duration": 0.036481,
     "end_time": "2025-08-05T15:53:33.576749",
     "exception": false,
     "start_time": "2025-08-05T15:53:33.540268",
     "status": "completed"
    },
    "tags": []
   },
   "outputs": [],
   "source": [
    "# do I need to include maxdeutsch1.missing?\n",
    "\n",
    "import numpy as np\n",
    "\n",
    "colname_to_bin = \"maxdeutsch1\"\n",
    "majority_value = org_train[colname_to_bin].mode()[0]\n",
    "\n",
    "org_test[\"majmin\"] = np.where(org_test[colname_to_bin] == majority_value, \"majority\", \"minority\")"
   ]
  },
  {
   "cell_type": "code",
   "execution_count": 60,
   "id": "06a50de5",
   "metadata": {
    "execution": {
     "iopub.execute_input": "2025-08-05T15:53:33.623991Z",
     "iopub.status.busy": "2025-08-05T15:53:33.623559Z",
     "iopub.status.idle": "2025-08-05T15:53:36.486501Z",
     "shell.execute_reply": "2025-08-05T15:53:36.485636Z"
    },
    "papermill": {
     "duration": 2.887559,
     "end_time": "2025-08-05T15:53:36.487993",
     "exception": false,
     "start_time": "2025-08-05T15:53:33.600434",
     "status": "completed"
    },
    "tags": []
   },
   "outputs": [],
   "source": [
    "example_universe = universe.copy()\n",
    "example_universe[\"cutoff\"] = example_universe[\"cutoff\"][0]\n",
    "example_universe[\"eval_fairness_grouping\"] = example_universe[\"eval_fairness_grouping\"][0]\n",
    "fairness_dict, metric_frame = universe_analysis.compute_metrics(\n",
    "    example_universe,\n",
    "    y_pred_prob=probs_test,\n",
    "    y_test=y_true,\n",
    "    org_test=org_test,\n",
    ")"
   ]
  },
  {
   "cell_type": "markdown",
   "id": "f95d4e02",
   "metadata": {
    "papermill": {
     "duration": 0.011555,
     "end_time": "2025-08-05T15:53:36.515570",
     "exception": false,
     "start_time": "2025-08-05T15:53:36.504015",
     "status": "completed"
    },
    "tags": []
   },
   "source": [
    "# Overall"
   ]
  },
  {
   "cell_type": "markdown",
   "id": "bdee4871",
   "metadata": {
    "papermill": {
     "duration": 0.012418,
     "end_time": "2025-08-05T15:53:36.540042",
     "exception": false,
     "start_time": "2025-08-05T15:53:36.527624",
     "status": "completed"
    },
    "tags": []
   },
   "source": [
    "Fairness\n",
    "Main fairness target: Equalized Odds. Seems to be a better fit than equal opportunity, since we're not only interested in Y = 1. Seems to be a better fit than demographic parity, since we also care about accuracy, not just equal distribution of preds.\n",
    "\n",
    "Pick column for computation of fairness metrics\n",
    "\n",
    "Performance\n",
    "Overall performance measures, most interesting in relation to the measures split by group below"
   ]
  },
  {
   "cell_type": "code",
   "execution_count": 61,
   "id": "c4e067c6",
   "metadata": {
    "execution": {
     "iopub.execute_input": "2025-08-05T15:53:36.582048Z",
     "iopub.status.busy": "2025-08-05T15:53:36.581566Z",
     "iopub.status.idle": "2025-08-05T15:53:36.590491Z",
     "shell.execute_reply": "2025-08-05T15:53:36.589462Z"
    },
    "papermill": {
     "duration": 0.03531,
     "end_time": "2025-08-05T15:53:36.592379",
     "exception": false,
     "start_time": "2025-08-05T15:53:36.557069",
     "status": "completed"
    },
    "tags": []
   },
   "outputs": [
    {
     "data": {
      "text/plain": [
       "accuracy                   0.223643\n",
       "balanced accuracy          0.546991\n",
       "f1                         0.244994\n",
       "precision                  0.139957\n",
       "false positive rate        0.887944\n",
       "false negative rate        0.018074\n",
       "selection rate             0.900000\n",
       "count                  89710.000000\n",
       "dtype: float64"
      ]
     },
     "execution_count": 61,
     "metadata": {},
     "output_type": "execute_result"
    }
   ],
   "source": [
    "metric_frame.overall"
   ]
  },
  {
   "cell_type": "markdown",
   "id": "e968fe9d",
   "metadata": {
    "papermill": {
     "duration": 0.02213,
     "end_time": "2025-08-05T15:53:36.640624",
     "exception": false,
     "start_time": "2025-08-05T15:53:36.618494",
     "status": "completed"
    },
    "tags": []
   },
   "source": [
    "By Group"
   ]
  },
  {
   "cell_type": "code",
   "execution_count": 62,
   "id": "ec325bce",
   "metadata": {
    "execution": {
     "iopub.execute_input": "2025-08-05T15:53:36.688055Z",
     "iopub.status.busy": "2025-08-05T15:53:36.687563Z",
     "iopub.status.idle": "2025-08-05T15:53:36.704568Z",
     "shell.execute_reply": "2025-08-05T15:53:36.703247Z"
    },
    "papermill": {
     "duration": 0.0442,
     "end_time": "2025-08-05T15:53:36.706562",
     "exception": false,
     "start_time": "2025-08-05T15:53:36.662362",
     "status": "completed"
    },
    "tags": []
   },
   "outputs": [
    {
     "data": {
      "text/html": [
       "<div>\n",
       "<style scoped>\n",
       "    .dataframe tbody tr th:only-of-type {\n",
       "        vertical-align: middle;\n",
       "    }\n",
       "\n",
       "    .dataframe tbody tr th {\n",
       "        vertical-align: top;\n",
       "    }\n",
       "\n",
       "    .dataframe thead th {\n",
       "        text-align: right;\n",
       "    }\n",
       "</style>\n",
       "<table border=\"1\" class=\"dataframe\">\n",
       "  <thead>\n",
       "    <tr style=\"text-align: right;\">\n",
       "      <th></th>\n",
       "      <th>accuracy</th>\n",
       "      <th>balanced accuracy</th>\n",
       "      <th>f1</th>\n",
       "      <th>precision</th>\n",
       "      <th>false positive rate</th>\n",
       "      <th>false negative rate</th>\n",
       "      <th>selection rate</th>\n",
       "      <th>count</th>\n",
       "    </tr>\n",
       "    <tr>\n",
       "      <th>majmin</th>\n",
       "      <th></th>\n",
       "      <th></th>\n",
       "      <th></th>\n",
       "      <th></th>\n",
       "      <th></th>\n",
       "      <th></th>\n",
       "      <th></th>\n",
       "      <th></th>\n",
       "    </tr>\n",
       "  </thead>\n",
       "  <tbody>\n",
       "    <tr>\n",
       "      <th>majority</th>\n",
       "      <td>0.244730</td>\n",
       "      <td>0.556705</td>\n",
       "      <td>0.255494</td>\n",
       "      <td>0.146879</td>\n",
       "      <td>0.867333</td>\n",
       "      <td>0.019256</td>\n",
       "      <td>0.882319</td>\n",
       "      <td>69170.0</td>\n",
       "    </tr>\n",
       "    <tr>\n",
       "      <th>minority</th>\n",
       "      <td>0.152629</td>\n",
       "      <td>0.515228</td>\n",
       "      <td>0.211623</td>\n",
       "      <td>0.118525</td>\n",
       "      <td>0.956031</td>\n",
       "      <td>0.013514</td>\n",
       "      <td>0.959542</td>\n",
       "      <td>20540.0</td>\n",
       "    </tr>\n",
       "  </tbody>\n",
       "</table>\n",
       "</div>"
      ],
      "text/plain": [
       "          accuracy  balanced accuracy        f1  precision  \\\n",
       "majmin                                                       \n",
       "majority  0.244730           0.556705  0.255494   0.146879   \n",
       "minority  0.152629           0.515228  0.211623   0.118525   \n",
       "\n",
       "          false positive rate  false negative rate  selection rate    count  \n",
       "majmin                                                                       \n",
       "majority             0.867333             0.019256        0.882319  69170.0  \n",
       "minority             0.956031             0.013514        0.959542  20540.0  "
      ]
     },
     "execution_count": 62,
     "metadata": {},
     "output_type": "execute_result"
    }
   ],
   "source": [
    "metric_frame.by_group"
   ]
  },
  {
   "cell_type": "code",
   "execution_count": 63,
   "id": "a9ddbe63",
   "metadata": {
    "execution": {
     "iopub.execute_input": "2025-08-05T15:53:36.762116Z",
     "iopub.status.busy": "2025-08-05T15:53:36.761227Z",
     "iopub.status.idle": "2025-08-05T15:53:38.942428Z",
     "shell.execute_reply": "2025-08-05T15:53:38.941673Z"
    },
    "papermill": {
     "duration": 2.210063,
     "end_time": "2025-08-05T15:53:38.943789",
     "exception": false,
     "start_time": "2025-08-05T15:53:36.733726",
     "status": "completed"
    },
    "tags": []
   },
   "outputs": [
    {
     "data": {
      "text/plain": [
       "array([[<Axes: title={'center': 'accuracy'}, xlabel='majmin'>,\n",
       "        <Axes: title={'center': 'balanced accuracy'}, xlabel='majmin'>,\n",
       "        <Axes: title={'center': 'f1'}, xlabel='majmin'>],\n",
       "       [<Axes: title={'center': 'precision'}, xlabel='majmin'>,\n",
       "        <Axes: title={'center': 'false positive rate'}, xlabel='majmin'>,\n",
       "        <Axes: title={'center': 'false negative rate'}, xlabel='majmin'>],\n",
       "       [<Axes: title={'center': 'selection rate'}, xlabel='majmin'>,\n",
       "        <Axes: title={'center': 'count'}, xlabel='majmin'>,\n",
       "        <Axes: xlabel='majmin'>]], dtype=object)"
      ]
     },
     "execution_count": 63,
     "metadata": {},
     "output_type": "execute_result"
    },
    {
     "data": {
      "image/png": "[encoded data removed]",
      "text/plain": [
       "<Figure size 1200x800 with 9 Axes>"
      ]
     },
     "metadata": {},
     "output_type": "display_data"
    }
   ],
   "source": [
    "# In a graphic\n",
    "metric_frame.by_group.plot.bar(\n",
    "    subplots=True,\n",
    "    layout=[3, 3],\n",
    "    legend=False,\n",
    "    figsize=[12, 8],\n",
    "    title=\"Show all metrics\",\n",
    ")"
   ]
  },
  {
   "cell_type": "markdown",
   "id": "f57a0bac",
   "metadata": {
    "papermill": {
     "duration": 0.012833,
     "end_time": "2025-08-05T15:53:38.973264",
     "exception": false,
     "start_time": "2025-08-05T15:53:38.960431",
     "status": "completed"
    },
    "tags": []
   },
   "source": [
    "# Final Output"
   ]
  },
  {
   "cell_type": "code",
   "execution_count": 64,
   "id": "96d280a3",
   "metadata": {
    "execution": {
     "iopub.execute_input": "2025-08-05T15:53:39.000397Z",
     "iopub.status.busy": "2025-08-05T15:53:38.999915Z",
     "iopub.status.idle": "2025-08-05T15:53:39.007267Z",
     "shell.execute_reply": "2025-08-05T15:53:39.006414Z"
    },
    "papermill": {
     "duration": 0.022654,
     "end_time": "2025-08-05T15:53:39.008768",
     "exception": false,
     "start_time": "2025-08-05T15:53:38.986114",
     "status": "completed"
    },
    "tags": []
   },
   "outputs": [
    {
     "data": {
      "text/plain": [
       "4"
      ]
     },
     "execution_count": 64,
     "metadata": {},
     "output_type": "execute_result"
    }
   ],
   "source": [
    "sub_universes = universe_analysis.generate_sub_universes()\n",
    "len(sub_universes)"
   ]
  },
  {
   "cell_type": "code",
   "execution_count": 65,
   "id": "92adf7ba",
   "metadata": {
    "execution": {
     "iopub.execute_input": "2025-08-05T15:53:39.037569Z",
     "iopub.status.busy": "2025-08-05T15:53:39.036728Z",
     "iopub.status.idle": "2025-08-05T15:53:39.066601Z",
     "shell.execute_reply": "2025-08-05T15:53:39.065526Z"
    },
    "papermill": {
     "duration": 0.046322,
     "end_time": "2025-08-05T15:53:39.068698",
     "exception": false,
     "start_time": "2025-08-05T15:53:39.022376",
     "status": "completed"
    },
    "tags": []
   },
   "outputs": [],
   "source": [
    "def filter_sub_universe_data(sub_universe, org_test):\n",
    "    # Keep all rows — no filtering\n",
    "    keep_rows_mask = np.ones(org_test.shape[0], dtype=bool)\n",
    "\n",
    "    print(f\"[INFO] Keeping all rows: {keep_rows_mask.sum()} rows retained.\")\n",
    "    return keep_rows_mask"
   ]
  },
  {
   "cell_type": "code",
   "execution_count": 66,
   "id": "4a759155",
   "metadata": {
    "execution": {
     "iopub.execute_input": "2025-08-05T15:53:39.119770Z",
     "iopub.status.busy": "2025-08-05T15:53:39.118970Z",
     "iopub.status.idle": "2025-08-05T15:53:48.544459Z",
     "shell.execute_reply": "2025-08-05T15:53:48.543344Z"
    },
    "papermill": {
     "duration": 9.453068,
     "end_time": "2025-08-05T15:53:48.546233",
     "exception": false,
     "start_time": "2025-08-05T15:53:39.093165",
     "status": "completed"
    },
    "tags": []
   },
   "outputs": [
    {
     "name": "stdout",
     "output_type": "stream",
     "text": [
      "Stopping execution_time clock.\n",
      "[INFO] Keeping all rows: 89710 rows retained.\n"
     ]
    },
    {
     "name": "stdout",
     "output_type": "stream",
     "text": [
      "[INFO] Keeping all rows: 89710 rows retained.\n"
     ]
    },
    {
     "name": "stdout",
     "output_type": "stream",
     "text": [
      "[INFO] Keeping all rows: 89710 rows retained.\n"
     ]
    },
    {
     "name": "stdout",
     "output_type": "stream",
     "text": [
      "[INFO] Keeping all rows: 89710 rows retained.\n"
     ]
    },
    {
     "data": {
      "text/html": [
       "<div>\n",
       "<style scoped>\n",
       "    .dataframe tbody tr th:only-of-type {\n",
       "        vertical-align: middle;\n",
       "    }\n",
       "\n",
       "    .dataframe tbody tr th {\n",
       "        vertical-align: top;\n",
       "    }\n",
       "\n",
       "    .dataframe thead th {\n",
       "        text-align: right;\n",
       "    }\n",
       "</style>\n",
       "<table border=\"1\" class=\"dataframe\">\n",
       "  <thead>\n",
       "    <tr style=\"text-align: right;\">\n",
       "      <th></th>\n",
       "      <th>run_no</th>\n",
       "      <th>universe_id</th>\n",
       "      <th>universe_settings</th>\n",
       "      <th>execution_time</th>\n",
       "      <th>test_size_n</th>\n",
       "      <th>test_size_frac</th>\n",
       "      <th>fair_main_equalized_odds_difference</th>\n",
       "      <th>fair_main_equalized_odds_ratio</th>\n",
       "      <th>fair_main_demographic_parity_difference</th>\n",
       "      <th>fair_main_demographic_parity_ratio</th>\n",
       "      <th>...</th>\n",
       "      <th>perf_grp_precision_0</th>\n",
       "      <th>perf_grp_precision_1</th>\n",
       "      <th>perf_grp_false positive rate_0</th>\n",
       "      <th>perf_grp_false positive rate_1</th>\n",
       "      <th>perf_grp_false negative rate_0</th>\n",
       "      <th>perf_grp_false negative rate_1</th>\n",
       "      <th>perf_grp_selection rate_0</th>\n",
       "      <th>perf_grp_selection rate_1</th>\n",
       "      <th>perf_grp_count_0</th>\n",
       "      <th>perf_grp_count_1</th>\n",
       "    </tr>\n",
       "  </thead>\n",
       "  <tbody>\n",
       "    <tr>\n",
       "      <th>0</th>\n",
       "      <td>15</td>\n",
       "      <td>c8ac7f16a14e87870b3efcde22766733</td>\n",
       "      <td>{\"cutoff\": \"quantile_0.1\", \"eval_fairness_grou...</td>\n",
       "      <td>28.274194</td>\n",
       "      <td>89710</td>\n",
       "      <td>1.0</td>\n",
       "      <td>0.088698</td>\n",
       "      <td>0.907222</td>\n",
       "      <td>0.077223</td>\n",
       "      <td>0.919521</td>\n",
       "      <td>...</td>\n",
       "      <td>NaN</td>\n",
       "      <td>NaN</td>\n",
       "      <td>NaN</td>\n",
       "      <td>NaN</td>\n",
       "      <td>NaN</td>\n",
       "      <td>NaN</td>\n",
       "      <td>NaN</td>\n",
       "      <td>NaN</td>\n",
       "      <td>NaN</td>\n",
       "      <td>NaN</td>\n",
       "    </tr>\n",
       "    <tr>\n",
       "      <th>0</th>\n",
       "      <td>15</td>\n",
       "      <td>c8ac7f16a14e87870b3efcde22766733</td>\n",
       "      <td>{\"cutoff\": \"quantile_0.1\", \"eval_fairness_grou...</td>\n",
       "      <td>28.274194</td>\n",
       "      <td>89710</td>\n",
       "      <td>1.0</td>\n",
       "      <td>0.088698</td>\n",
       "      <td>0.907222</td>\n",
       "      <td>0.077223</td>\n",
       "      <td>0.919521</td>\n",
       "      <td>...</td>\n",
       "      <td>0.118525</td>\n",
       "      <td>0.146879</td>\n",
       "      <td>0.956031</td>\n",
       "      <td>0.867333</td>\n",
       "      <td>0.013514</td>\n",
       "      <td>0.019256</td>\n",
       "      <td>0.959542</td>\n",
       "      <td>0.882319</td>\n",
       "      <td>20540.0</td>\n",
       "      <td>69170.0</td>\n",
       "    </tr>\n",
       "    <tr>\n",
       "      <th>0</th>\n",
       "      <td>15</td>\n",
       "      <td>c8ac7f16a14e87870b3efcde22766733</td>\n",
       "      <td>{\"cutoff\": \"quantile_0.25\", \"eval_fairness_gro...</td>\n",
       "      <td>28.274194</td>\n",
       "      <td>89710</td>\n",
       "      <td>1.0</td>\n",
       "      <td>0.149745</td>\n",
       "      <td>0.821247</td>\n",
       "      <td>0.129702</td>\n",
       "      <td>0.847409</td>\n",
       "      <td>...</td>\n",
       "      <td>NaN</td>\n",
       "      <td>NaN</td>\n",
       "      <td>NaN</td>\n",
       "      <td>NaN</td>\n",
       "      <td>NaN</td>\n",
       "      <td>NaN</td>\n",
       "      <td>NaN</td>\n",
       "      <td>NaN</td>\n",
       "      <td>NaN</td>\n",
       "      <td>NaN</td>\n",
       "    </tr>\n",
       "    <tr>\n",
       "      <th>0</th>\n",
       "      <td>15</td>\n",
       "      <td>c8ac7f16a14e87870b3efcde22766733</td>\n",
       "      <td>{\"cutoff\": \"quantile_0.25\", \"eval_fairness_gro...</td>\n",
       "      <td>28.274194</td>\n",
       "      <td>89710</td>\n",
       "      <td>1.0</td>\n",
       "      <td>0.149745</td>\n",
       "      <td>0.821247</td>\n",
       "      <td>0.129702</td>\n",
       "      <td>0.847409</td>\n",
       "      <td>...</td>\n",
       "      <td>0.128071</td>\n",
       "      <td>0.171086</td>\n",
       "      <td>0.837717</td>\n",
       "      <td>0.687973</td>\n",
       "      <td>0.055743</td>\n",
       "      <td>0.067396</td>\n",
       "      <td>0.850000</td>\n",
       "      <td>0.720298</td>\n",
       "      <td>20540.0</td>\n",
       "      <td>69170.0</td>\n",
       "    </tr>\n",
       "  </tbody>\n",
       "</table>\n",
       "<p>4 rows × 50 columns</p>\n",
       "</div>"
      ],
      "text/plain": [
       "  run_no                       universe_id  \\\n",
       "0     15  c8ac7f16a14e87870b3efcde22766733   \n",
       "0     15  c8ac7f16a14e87870b3efcde22766733   \n",
       "0     15  c8ac7f16a14e87870b3efcde22766733   \n",
       "0     15  c8ac7f16a14e87870b3efcde22766733   \n",
       "\n",
       "                                   universe_settings  execution_time  \\\n",
       "0  {\"cutoff\": \"quantile_0.1\", \"eval_fairness_grou...       28.274194   \n",
       "0  {\"cutoff\": \"quantile_0.1\", \"eval_fairness_grou...       28.274194   \n",
       "0  {\"cutoff\": \"quantile_0.25\", \"eval_fairness_gro...       28.274194   \n",
       "0  {\"cutoff\": \"quantile_0.25\", \"eval_fairness_gro...       28.274194   \n",
       "\n",
       "   test_size_n  test_size_frac  fair_main_equalized_odds_difference  \\\n",
       "0        89710             1.0                             0.088698   \n",
       "0        89710             1.0                             0.088698   \n",
       "0        89710             1.0                             0.149745   \n",
       "0        89710             1.0                             0.149745   \n",
       "\n",
       "   fair_main_equalized_odds_ratio  fair_main_demographic_parity_difference  \\\n",
       "0                        0.907222                                 0.077223   \n",
       "0                        0.907222                                 0.077223   \n",
       "0                        0.821247                                 0.129702   \n",
       "0                        0.821247                                 0.129702   \n",
       "\n",
       "   fair_main_demographic_parity_ratio  ...  perf_grp_precision_0  \\\n",
       "0                            0.919521  ...                   NaN   \n",
       "0                            0.919521  ...              0.118525   \n",
       "0                            0.847409  ...                   NaN   \n",
       "0                            0.847409  ...              0.128071   \n",
       "\n",
       "   perf_grp_precision_1  perf_grp_false positive rate_0  \\\n",
       "0                   NaN                             NaN   \n",
       "0              0.146879                        0.956031   \n",
       "0                   NaN                             NaN   \n",
       "0              0.171086                        0.837717   \n",
       "\n",
       "   perf_grp_false positive rate_1  perf_grp_false negative rate_0  \\\n",
       "0                             NaN                             NaN   \n",
       "0                        0.867333                        0.013514   \n",
       "0                             NaN                             NaN   \n",
       "0                        0.687973                        0.055743   \n",
       "\n",
       "   perf_grp_false negative rate_1  perf_grp_selection rate_0  \\\n",
       "0                             NaN                        NaN   \n",
       "0                        0.019256                   0.959542   \n",
       "0                             NaN                        NaN   \n",
       "0                        0.067396                   0.850000   \n",
       "\n",
       "   perf_grp_selection rate_1  perf_grp_count_0  perf_grp_count_1  \n",
       "0                        NaN               NaN               NaN  \n",
       "0                   0.882319           20540.0           69170.0  \n",
       "0                        NaN               NaN               NaN  \n",
       "0                   0.720298           20540.0           69170.0  \n",
       "\n",
       "[4 rows x 50 columns]"
      ]
     },
     "execution_count": 66,
     "metadata": {},
     "output_type": "execute_result"
    }
   ],
   "source": [
    "final_output = universe_analysis.generate_final_output(\n",
    "    y_pred_prob=probs_test,\n",
    "    y_test=y_true,\n",
    "    org_test=org_test,\n",
    "    filter_data=filter_sub_universe_data,\n",
    "    cp_metrics_df=cp_metrics_df,\n",
    "    save=True,\n",
    ")\n",
    "final_output"
   ]
  }
 ],
 "metadata": {
  "celltoolbar": "Tags",
  "kernelspec": {
   "display_name": "Python (CMA Fairness)",
   "language": "python",
   "name": "cma_fair_env"
  },
  "language_info": {
   "codemirror_mode": {
    "name": "ipython",
    "version": 3
   },
   "file_extension": ".py",
   "mimetype": "text/x-python",
   "name": "python",
   "nbconvert_exporter": "python",
   "pygments_lexer": "ipython3",
   "version": "3.10.12"
  },
  "papermill": {
   "default_parameters": {},
   "duration": 42.147749,
   "end_time": "2025-08-05T15:53:49.309323",
   "environment_variables": {},
   "exception": null,
   "input_path": "universe_analysis.ipynb",
   "output_path": "output/runs/15/notebooks/m_15-c8ac7f16a14e87870b3efcde22766733.ipynb",
   "parameters": {
    "output_dir": "output",
    "run_no": "15",
    "seed": "2023",
    "universe": "{\"cutoff\": [\"quantile_0.1\", \"quantile_0.25\"], \"eval_fairness_grouping\": [\"majority-minority\", \"nationality-all\"], \"exclude_features\": \"none\", \"exclude_subgroups\": \"keep-all\", \"model\": \"elasticnet\", \"scale\": \"scale\", \"training_size\": \"5k\", \"training_year\": \"2010_14\"}",
    "universe_id": "c8ac7f16a14e87870b3efcde22766733"
   },
   "start_time": "2025-08-05T15:53:07.161574",
   "version": "2.6.0"
  }
 },
 "nbformat": 4,
 "nbformat_minor": 5
}