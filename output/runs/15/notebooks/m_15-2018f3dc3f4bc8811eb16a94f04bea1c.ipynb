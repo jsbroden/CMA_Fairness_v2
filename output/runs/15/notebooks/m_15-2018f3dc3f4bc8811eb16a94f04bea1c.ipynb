{
 "cells": [
  {
   "cell_type": "code",
   "execution_count": 1,
   "id": "f159f837-637b-42ba-96b5-ec9a68c44524",
   "metadata": {
    "execution": {
     "iopub.execute_input": "2025-08-05T15:35:19.889448Z",
     "iopub.status.busy": "2025-08-05T15:35:19.888542Z",
     "iopub.status.idle": "2025-08-05T15:35:19.901545Z",
     "shell.execute_reply": "2025-08-05T15:35:19.900436Z"
    },
    "papermill": {
     "duration": 0.030013,
     "end_time": "2025-08-05T15:35:19.903487",
     "exception": false,
     "start_time": "2025-08-05T15:35:19.873474",
     "status": "completed"
    },
    "tags": []
   },
   "outputs": [
    {
     "name": "stdout",
     "output_type": "stream",
     "text": [
      "/dss/dsshome1/0C/ra93lal2/cma/CMA_Fairness_v2\n"
     ]
    },
    {
     "name": "stderr",
     "output_type": "stream",
     "text": [
      "/dss/dsshome1/0C/ra93lal2/.local/share/virtualenvs/CMA_Fairness_v2-3j10GkSs/lib/python3.10/site-packages/IPython/core/magics/osm.py:393: UserWarning: This is now an optional IPython functionality, using bookmarks requires you to install the `pickleshare` library.\n",
      "  bkms = self.shell.db.get('bookmarks', {})\n",
      "/dss/dsshome1/0C/ra93lal2/.local/share/virtualenvs/CMA_Fairness_v2-3j10GkSs/lib/python3.10/site-packages/IPython/core/magics/osm.py:417: UserWarning: This is now an optional IPython functionality, setting dhist requires you to install the `pickleshare` library.\n",
      "  self.shell.db['dhist'] = compress_dhist(dhist)[-100:]\n"
     ]
    }
   ],
   "source": [
    "%cd ~/cma/CMA_Fairness_v2"
   ]
  },
  {
   "cell_type": "markdown",
   "id": "de2603b9",
   "metadata": {
    "papermill": {
     "duration": 0.015814,
     "end_time": "2025-08-05T15:35:19.938652",
     "exception": false,
     "start_time": "2025-08-05T15:35:19.922838",
     "status": "completed"
    },
    "tags": []
   },
   "source": [
    "The following cell holds the definition of our parameters, these values can be overriden by rendering the with e.g. the following command:\n",
    "\n",
    "papermill -p alpha 0.2 -p ratio 0.3 universe_analysis.ipynb output/test_run.ipynb"
   ]
  },
  {
   "cell_type": "code",
   "execution_count": 2,
   "id": "a80968a0-40bb-4fa9-85ef-2d5eefb01975",
   "metadata": {
    "execution": {
     "iopub.execute_input": "2025-08-05T15:35:19.977426Z",
     "iopub.status.busy": "2025-08-05T15:35:19.976765Z",
     "iopub.status.idle": "2025-08-05T15:35:19.982741Z",
     "shell.execute_reply": "2025-08-05T15:35:19.981472Z"
    },
    "papermill": {
     "duration": 0.032831,
     "end_time": "2025-08-05T15:35:19.989688",
     "exception": false,
     "start_time": "2025-08-05T15:35:19.956857",
     "status": "completed"
    },
    "tags": []
   },
   "outputs": [
    {
     "name": "stdout",
     "output_type": "stream",
     "text": [
      "Current working directory: /dss/dsshome1/0C/ra93lal2/cma/CMA_Fairness_v2\n"
     ]
    }
   ],
   "source": [
    "import os\n",
    "print(\"Current working directory:\", os.getcwd())"
   ]
  },
  {
   "cell_type": "code",
   "execution_count": 3,
   "id": "2dce4c03",
   "metadata": {
    "execution": {
     "iopub.execute_input": "2025-08-05T15:35:20.037590Z",
     "iopub.status.busy": "2025-08-05T15:35:20.036478Z",
     "iopub.status.idle": "2025-08-05T15:35:20.043127Z",
     "shell.execute_reply": "2025-08-05T15:35:20.042049Z"
    },
    "papermill": {
     "duration": 0.032073,
     "end_time": "2025-08-05T15:35:20.045172",
     "exception": false,
     "start_time": "2025-08-05T15:35:20.013099",
     "status": "completed"
    },
    "tags": [
     "parameters"
    ]
   },
   "outputs": [],
   "source": [
    "run_no = 0\n",
    "universe_id = \"test\"\n",
    "universe = {\n",
    "    \"training_size\": \"25k\", # \"25k\", \"5k\", \"1k\"\n",
    "    \"training_year\": \"2014\", # \"2014\", \"2012_14\", \"2010_14\"\n",
    "    \"scale\": \"scale\", # \"scale\", \"do-not-scale\",\n",
    "    \"model\": \"elasticnet\", # \"logreg\", \"penalized_logreg\", \"rf\", \"gbm\", \"elasticnet\"\n",
    "    \"cutoff\": [\"quantile_0.15\", \"quantile_0.30\"],\n",
    "    \"exclude_features\": \"age\", # \"none\", \"nationality\", \"sex\", \"nationality-sex\", \"age\"\n",
    "    \"exclude_subgroups\": \"keep-all\", # \"keep-all\", \"drop-non-german\"\n",
    "    \"eval_fairness_grouping\": [\"majority-minority\", \"nationality-all\"]\n",
    "}\n",
    "\n",
    "output_dir=\"./output\"\n",
    "seed=0"
   ]
  },
  {
   "cell_type": "code",
   "execution_count": 4,
   "id": "a8c7f780",
   "metadata": {
    "execution": {
     "iopub.execute_input": "2025-08-05T15:35:20.092641Z",
     "iopub.status.busy": "2025-08-05T15:35:20.091765Z",
     "iopub.status.idle": "2025-08-05T15:35:20.097629Z",
     "shell.execute_reply": "2025-08-05T15:35:20.096522Z"
    },
    "papermill": {
     "duration": 0.031131,
     "end_time": "2025-08-05T15:35:20.099743",
     "exception": false,
     "start_time": "2025-08-05T15:35:20.068612",
     "status": "completed"
    },
    "tags": [
     "injected-parameters"
    ]
   },
   "outputs": [],
   "source": [
    "# Parameters\n",
    "universe_id = \"2018f3dc3f4bc8811eb16a94f04bea1c\"\n",
    "run_no = \"15\"\n",
    "universe = \"{\\\"cutoff\\\": [\\\"quantile_0.1\\\", \\\"quantile_0.25\\\"], \\\"eval_fairness_grouping\\\": [\\\"majority-minority\\\", \\\"nationality-all\\\"], \\\"exclude_features\\\": \\\"nationality\\\", \\\"exclude_subgroups\\\": \\\"drop-non-german\\\", \\\"model\\\": \\\"penalized_logreg\\\", \\\"scale\\\": \\\"scale\\\", \\\"training_size\\\": \\\"5k\\\", \\\"training_year\\\": \\\"2012_14\\\"}\"\n",
    "output_dir = \"output\"\n",
    "seed = \"2023\"\n"
   ]
  },
  {
   "cell_type": "code",
   "execution_count": 5,
   "id": "1650acaf",
   "metadata": {
    "execution": {
     "iopub.execute_input": "2025-08-05T15:35:20.139722Z",
     "iopub.status.busy": "2025-08-05T15:35:20.139220Z",
     "iopub.status.idle": "2025-08-05T15:35:20.144716Z",
     "shell.execute_reply": "2025-08-05T15:35:20.143639Z"
    },
    "papermill": {
     "duration": 0.027595,
     "end_time": "2025-08-05T15:35:20.146672",
     "exception": false,
     "start_time": "2025-08-05T15:35:20.119077",
     "status": "completed"
    },
    "tags": []
   },
   "outputs": [],
   "source": [
    "import json\n",
    "if isinstance(universe, str):\n",
    "    universe = json.loads(universe)"
   ]
  },
  {
   "cell_type": "code",
   "execution_count": 6,
   "id": "16620c48",
   "metadata": {
    "execution": {
     "iopub.execute_input": "2025-08-05T15:35:20.178953Z",
     "iopub.status.busy": "2025-08-05T15:35:20.178451Z",
     "iopub.status.idle": "2025-08-05T15:35:20.208241Z",
     "shell.execute_reply": "2025-08-05T15:35:20.207477Z"
    },
    "papermill": {
     "duration": 0.043641,
     "end_time": "2025-08-05T15:35:20.209921",
     "exception": false,
     "start_time": "2025-08-05T15:35:20.166280",
     "status": "completed"
    },
    "tags": []
   },
   "outputs": [],
   "source": [
    "# Auto-reload the custom package\n",
    "%load_ext autoreload\n",
    "%autoreload 1\n",
    "%aimport fairness_multiverse"
   ]
  },
  {
   "cell_type": "code",
   "execution_count": 7,
   "id": "01c5c9f3",
   "metadata": {
    "execution": {
     "iopub.execute_input": "2025-08-05T15:35:20.230498Z",
     "iopub.status.busy": "2025-08-05T15:35:20.230149Z",
     "iopub.status.idle": "2025-08-05T15:35:22.043160Z",
     "shell.execute_reply": "2025-08-05T15:35:22.042347Z"
    },
    "papermill": {
     "duration": 1.825334,
     "end_time": "2025-08-05T15:35:22.045557",
     "exception": false,
     "start_time": "2025-08-05T15:35:20.220223",
     "status": "completed"
    },
    "tags": []
   },
   "outputs": [],
   "source": [
    "from fairness_multiverse.universe import UniverseAnalysis\n",
    "\n",
    "universe_analysis = UniverseAnalysis(\n",
    "    run_no = run_no,\n",
    "    universe_id = universe_id,\n",
    "    universe = universe,\n",
    "    output_dir=output_dir,\n",
    ")"
   ]
  },
  {
   "cell_type": "code",
   "execution_count": 8,
   "id": "106241f5",
   "metadata": {
    "execution": {
     "iopub.execute_input": "2025-08-05T15:35:22.079190Z",
     "iopub.status.busy": "2025-08-05T15:35:22.078682Z",
     "iopub.status.idle": "2025-08-05T15:35:22.084804Z",
     "shell.execute_reply": "2025-08-05T15:35:22.083986Z"
    },
    "papermill": {
     "duration": 0.038634,
     "end_time": "2025-08-05T15:35:22.097017",
     "exception": false,
     "start_time": "2025-08-05T15:35:22.058383",
     "status": "completed"
    },
    "tags": []
   },
   "outputs": [
    {
     "name": "stdout",
     "output_type": "stream",
     "text": [
      "Using Seed: 2023\n"
     ]
    }
   ],
   "source": [
    "import numpy as np\n",
    "parsed_seed = int(seed)\n",
    "np.random.seed(parsed_seed)\n",
    "print(f\"Using Seed: {parsed_seed}\")"
   ]
  },
  {
   "cell_type": "markdown",
   "id": "e0ebdc57",
   "metadata": {
    "papermill": {
     "duration": 0.021036,
     "end_time": "2025-08-05T15:35:22.149123",
     "exception": false,
     "start_time": "2025-08-05T15:35:22.128087",
     "status": "completed"
    },
    "tags": []
   },
   "source": [
    "# Loading Data"
   ]
  },
  {
   "cell_type": "code",
   "execution_count": 9,
   "id": "f0496b8a",
   "metadata": {
    "execution": {
     "iopub.execute_input": "2025-08-05T15:35:22.192169Z",
     "iopub.status.busy": "2025-08-05T15:35:22.190983Z",
     "iopub.status.idle": "2025-08-05T15:35:34.086909Z",
     "shell.execute_reply": "2025-08-05T15:35:34.085755Z"
    },
    "papermill": {
     "duration": 11.919436,
     "end_time": "2025-08-05T15:35:34.088559",
     "exception": false,
     "start_time": "2025-08-05T15:35:22.169123",
     "status": "completed"
    },
    "tags": []
   },
   "outputs": [
    {
     "name": "stdout",
     "output_type": "stream",
     "text": [
      "Loading SIAB data from cache: data/siab_cached.csv.gz\n"
     ]
    },
    {
     "name": "stdout",
     "output_type": "stream",
     "text": [
      "(643690, 164)\n"
     ]
    }
   ],
   "source": [
    "from pathlib import Path\n",
    "import pandas as pd\n",
    "\n",
    "# File paths\n",
    "raw_file = Path(\"data/raw/siab.csv\")\n",
    "cache_file = Path(\"data/siab_cached.csv.gz\")\n",
    "\n",
    "# Ensure cache directory exists\n",
    "cache_file.parent.mkdir(parents=True, exist_ok=True)\n",
    "\n",
    "# Load with simple caching\n",
    "if cache_file.exists():\n",
    "    print(f\"Loading SIAB data from cache: {cache_file}\")\n",
    "    siab = pd.read_csv(cache_file, compression='gzip')\n",
    "else:\n",
    "    print(f\"Cache not found. Reading raw SIAB data: {raw_file}\")\n",
    "    siab = pd.read_csv(raw_file)\n",
    "    siab.to_csv(cache_file, index=False, compression='gzip')\n",
    "    print(f\"Cached SIAB data to: {cache_file}\")\n",
    "\n",
    "print(siab.shape)"
   ]
  },
  {
   "cell_type": "code",
   "execution_count": 10,
   "id": "db0ca512-5f53-4dba-abdb-a2888bca41ba",
   "metadata": {
    "execution": {
     "iopub.execute_input": "2025-08-05T15:35:34.128886Z",
     "iopub.status.busy": "2025-08-05T15:35:34.128280Z",
     "iopub.status.idle": "2025-08-05T15:35:34.133394Z",
     "shell.execute_reply": "2025-08-05T15:35:34.132415Z"
    },
    "papermill": {
     "duration": 0.026207,
     "end_time": "2025-08-05T15:35:34.135254",
     "exception": false,
     "start_time": "2025-08-05T15:35:34.109047",
     "status": "completed"
    },
    "tags": []
   },
   "outputs": [],
   "source": [
    "#siab"
   ]
  },
  {
   "cell_type": "markdown",
   "id": "997051c5-15bd-4b69-9786-c3001a3ce484",
   "metadata": {
    "papermill": {
     "duration": 0.016443,
     "end_time": "2025-08-05T15:35:34.168297",
     "exception": false,
     "start_time": "2025-08-05T15:35:34.151854",
     "status": "completed"
    },
    "tags": []
   },
   "source": [
    "# Splitting Data and Setting Training Data Size"
   ]
  },
  {
   "cell_type": "code",
   "execution_count": 11,
   "id": "aea9c6ef-6f46-42c8-85eb-5a62025c1508",
   "metadata": {
    "execution": {
     "iopub.execute_input": "2025-08-05T15:35:34.201799Z",
     "iopub.status.busy": "2025-08-05T15:35:34.200847Z",
     "iopub.status.idle": "2025-08-05T15:35:34.797777Z",
     "shell.execute_reply": "2025-08-05T15:35:34.796867Z"
    },
    "papermill": {
     "duration": 0.615213,
     "end_time": "2025-08-05T15:35:34.799566",
     "exception": false,
     "start_time": "2025-08-05T15:35:34.184353",
     "status": "completed"
    },
    "tags": []
   },
   "outputs": [],
   "source": [
    "from fairness_multiverse.universe import sample_by_year_size\n",
    "\n",
    "siab_train = sample_by_year_size(siab,\n",
    "                               training_year=universe[\"training_year\"],\n",
    "                               training_size=universe[\"training_size\"])"
   ]
  },
  {
   "cell_type": "code",
   "execution_count": 12,
   "id": "8d3afb32-789d-442c-8d5d-9f5aa8dd2eed",
   "metadata": {
    "execution": {
     "iopub.execute_input": "2025-08-05T15:35:34.838423Z",
     "iopub.status.busy": "2025-08-05T15:35:34.837799Z",
     "iopub.status.idle": "2025-08-05T15:35:34.842880Z",
     "shell.execute_reply": "2025-08-05T15:35:34.841932Z"
    },
    "papermill": {
     "duration": 0.023765,
     "end_time": "2025-08-05T15:35:34.844392",
     "exception": false,
     "start_time": "2025-08-05T15:35:34.820627",
     "status": "completed"
    },
    "tags": []
   },
   "outputs": [],
   "source": [
    "#siab_train.shape"
   ]
  },
  {
   "cell_type": "code",
   "execution_count": 13,
   "id": "d582db68-1a4c-47fb-84fc-08518dc1975a",
   "metadata": {
    "execution": {
     "iopub.execute_input": "2025-08-05T15:35:34.877600Z",
     "iopub.status.busy": "2025-08-05T15:35:34.877043Z",
     "iopub.status.idle": "2025-08-05T15:35:34.881715Z",
     "shell.execute_reply": "2025-08-05T15:35:34.880732Z"
    },
    "papermill": {
     "duration": 0.022696,
     "end_time": "2025-08-05T15:35:34.883502",
     "exception": false,
     "start_time": "2025-08-05T15:35:34.860806",
     "status": "completed"
    },
    "tags": []
   },
   "outputs": [],
   "source": [
    "#display(siab_train.groupby(\"year\").size())"
   ]
  },
  {
   "cell_type": "code",
   "execution_count": 14,
   "id": "a561edb4-d032-42cb-8256-22eac1111c64",
   "metadata": {
    "execution": {
     "iopub.execute_input": "2025-08-05T15:35:34.918692Z",
     "iopub.status.busy": "2025-08-05T15:35:34.917992Z",
     "iopub.status.idle": "2025-08-05T15:35:35.161357Z",
     "shell.execute_reply": "2025-08-05T15:35:35.160451Z"
    },
    "papermill": {
     "duration": 0.263155,
     "end_time": "2025-08-05T15:35:35.163237",
     "exception": false,
     "start_time": "2025-08-05T15:35:34.900082",
     "status": "completed"
    },
    "tags": []
   },
   "outputs": [],
   "source": [
    "#siab_train = siab_s[siab_s.year < 2015]\n",
    "siab_calib = siab[siab.year == 2015]\n",
    "siab_test = siab[siab.year == 2016]"
   ]
  },
  {
   "cell_type": "code",
   "execution_count": 15,
   "id": "472de16f-c3db-4916-846b-1f0de9cf1746",
   "metadata": {
    "execution": {
     "iopub.execute_input": "2025-08-05T15:35:35.197312Z",
     "iopub.status.busy": "2025-08-05T15:35:35.196719Z",
     "iopub.status.idle": "2025-08-05T15:35:35.204751Z",
     "shell.execute_reply": "2025-08-05T15:35:35.203720Z"
    },
    "papermill": {
     "duration": 0.026414,
     "end_time": "2025-08-05T15:35:35.206447",
     "exception": false,
     "start_time": "2025-08-05T15:35:35.180033",
     "status": "completed"
    },
    "tags": []
   },
   "outputs": [],
   "source": [
    "X_train = siab_train.iloc[:,4:164]\n",
    "y_train = siab_train.iloc[:, [3]]"
   ]
  },
  {
   "cell_type": "code",
   "execution_count": 16,
   "id": "828c96af-f43a-4ed6-ba47-8ac73a47d56c",
   "metadata": {
    "execution": {
     "iopub.execute_input": "2025-08-05T15:35:35.241558Z",
     "iopub.status.busy": "2025-08-05T15:35:35.240797Z",
     "iopub.status.idle": "2025-08-05T15:35:35.290769Z",
     "shell.execute_reply": "2025-08-05T15:35:35.289692Z"
    },
    "papermill": {
     "duration": 0.069589,
     "end_time": "2025-08-05T15:35:35.292932",
     "exception": false,
     "start_time": "2025-08-05T15:35:35.223343",
     "status": "completed"
    },
    "tags": []
   },
   "outputs": [],
   "source": [
    "X_calib = siab_calib.iloc[:,4:164]\n",
    "y_calib = siab_calib.iloc[:, [3]]"
   ]
  },
  {
   "cell_type": "code",
   "execution_count": 17,
   "id": "c34be9c3-6bd6-476e-acd3-845840e303be",
   "metadata": {
    "execution": {
     "iopub.execute_input": "2025-08-05T15:35:35.329132Z",
     "iopub.status.busy": "2025-08-05T15:35:35.328401Z",
     "iopub.status.idle": "2025-08-05T15:35:35.382649Z",
     "shell.execute_reply": "2025-08-05T15:35:35.381540Z"
    },
    "papermill": {
     "duration": 0.073743,
     "end_time": "2025-08-05T15:35:35.384471",
     "exception": false,
     "start_time": "2025-08-05T15:35:35.310728",
     "status": "completed"
    },
    "tags": []
   },
   "outputs": [],
   "source": [
    "X_test = siab_test.iloc[:,4:164]\n",
    "y_true = siab_test.iloc[:, [3]]"
   ]
  },
  {
   "cell_type": "code",
   "execution_count": 18,
   "id": "e6c733c5",
   "metadata": {
    "execution": {
     "iopub.execute_input": "2025-08-05T15:35:35.422530Z",
     "iopub.status.busy": "2025-08-05T15:35:35.421763Z",
     "iopub.status.idle": "2025-08-05T15:35:35.512727Z",
     "shell.execute_reply": "2025-08-05T15:35:35.511747Z"
    },
    "papermill": {
     "duration": 0.111247,
     "end_time": "2025-08-05T15:35:35.514683",
     "exception": false,
     "start_time": "2025-08-05T15:35:35.403436",
     "status": "completed"
    },
    "tags": []
   },
   "outputs": [],
   "source": [
    "# Auxiliary data needed downstream in the pipeline\n",
    "\n",
    "org_train = X_train.copy()\n",
    "org_test = X_test.copy()\n",
    "org_calib = X_calib.copy()"
   ]
  },
  {
   "cell_type": "markdown",
   "id": "0a4a1b33",
   "metadata": {
    "papermill": {
     "duration": 0.015874,
     "end_time": "2025-08-05T15:35:35.547495",
     "exception": false,
     "start_time": "2025-08-05T15:35:35.531621",
     "status": "completed"
    },
    "tags": []
   },
   "source": [
    "# Preprocessing Data"
   ]
  },
  {
   "cell_type": "code",
   "execution_count": 19,
   "id": "ca879031",
   "metadata": {
    "execution": {
     "iopub.execute_input": "2025-08-05T15:35:35.582683Z",
     "iopub.status.busy": "2025-08-05T15:35:35.581871Z",
     "iopub.status.idle": "2025-08-05T15:35:35.588162Z",
     "shell.execute_reply": "2025-08-05T15:35:35.587168Z"
    },
    "papermill": {
     "duration": 0.02546,
     "end_time": "2025-08-05T15:35:35.589852",
     "exception": false,
     "start_time": "2025-08-05T15:35:35.564392",
     "status": "completed"
    },
    "tags": []
   },
   "outputs": [],
   "source": [
    "# EXCLUDE PROTECTED FEATURES\n",
    "# ----------------------\n",
    "# \"exclude_features\": \"none\", # \"nationality\", \"sex\", \"nationality-sex\"\n",
    "\n",
    "excluded_features = universe[\"exclude_features\"].split(\"-\") # split, e.g.: \"nationality-sex\" -> [\"nationality\", \"sex\"]\n",
    "excluded_features_dictionary = {\n",
    "    \"nationality\": [\"maxdeutsch1\", \"maxdeutsch.Missing.\"],\n",
    "    \"sex\": [\"frau1\"],\n",
    "    \"age\": [\"age\"],\n",
    "}"
   ]
  },
  {
   "cell_type": "code",
   "execution_count": 20,
   "id": "b745ac60",
   "metadata": {
    "execution": {
     "iopub.execute_input": "2025-08-05T15:35:35.625281Z",
     "iopub.status.busy": "2025-08-05T15:35:35.624494Z",
     "iopub.status.idle": "2025-08-05T15:35:35.629877Z",
     "shell.execute_reply": "2025-08-05T15:35:35.628924Z"
    },
    "papermill": {
     "duration": 0.024021,
     "end_time": "2025-08-05T15:35:35.631544",
     "exception": false,
     "start_time": "2025-08-05T15:35:35.607523",
     "status": "completed"
    },
    "tags": []
   },
   "outputs": [],
   "source": [
    "# Code nice names to column names\n",
    "\n",
    "excluded_features_columns = [\n",
    "    excluded_features_dictionary[f] for f in excluded_features if len(f) > 0 and f != \"none\"\n",
    "]"
   ]
  },
  {
   "cell_type": "code",
   "execution_count": 21,
   "id": "f84f73a2",
   "metadata": {
    "execution": {
     "iopub.execute_input": "2025-08-05T15:35:35.667384Z",
     "iopub.status.busy": "2025-08-05T15:35:35.666879Z",
     "iopub.status.idle": "2025-08-05T15:35:35.673227Z",
     "shell.execute_reply": "2025-08-05T15:35:35.672155Z"
    },
    "papermill": {
     "duration": 0.024998,
     "end_time": "2025-08-05T15:35:35.674926",
     "exception": false,
     "start_time": "2025-08-05T15:35:35.649928",
     "status": "completed"
    },
    "tags": []
   },
   "outputs": [],
   "source": [
    "from utils import flatten_once\n",
    "\n",
    "excluded_features_columns = flatten_once(excluded_features_columns)"
   ]
  },
  {
   "cell_type": "code",
   "execution_count": 22,
   "id": "884dea22",
   "metadata": {
    "execution": {
     "iopub.execute_input": "2025-08-05T15:35:35.709200Z",
     "iopub.status.busy": "2025-08-05T15:35:35.708483Z",
     "iopub.status.idle": "2025-08-05T15:35:35.718174Z",
     "shell.execute_reply": "2025-08-05T15:35:35.717123Z"
    },
    "papermill": {
     "duration": 0.028175,
     "end_time": "2025-08-05T15:35:35.719775",
     "exception": false,
     "start_time": "2025-08-05T15:35:35.691600",
     "status": "completed"
    },
    "tags": []
   },
   "outputs": [
    {
     "name": "stdout",
     "output_type": "stream",
     "text": [
      "Dropping features: ['maxdeutsch1', 'maxdeutsch.Missing.']\n"
     ]
    }
   ],
   "source": [
    "if len(excluded_features_columns) > 0:\n",
    "    print(f\"Dropping features: {excluded_features_columns}\")\n",
    "    X_train.drop(excluded_features_columns, axis=1, inplace=True)"
   ]
  },
  {
   "cell_type": "code",
   "execution_count": 23,
   "id": "95ab8b16",
   "metadata": {
    "execution": {
     "iopub.execute_input": "2025-08-05T15:35:35.755887Z",
     "iopub.status.busy": "2025-08-05T15:35:35.755121Z",
     "iopub.status.idle": "2025-08-05T15:35:35.806602Z",
     "shell.execute_reply": "2025-08-05T15:35:35.805560Z"
    },
    "papermill": {
     "duration": 0.071216,
     "end_time": "2025-08-05T15:35:35.808630",
     "exception": false,
     "start_time": "2025-08-05T15:35:35.737414",
     "status": "completed"
    },
    "tags": []
   },
   "outputs": [
    {
     "name": "stdout",
     "output_type": "stream",
     "text": [
      "Dropping features: ['maxdeutsch1', 'maxdeutsch.Missing.']\n"
     ]
    }
   ],
   "source": [
    "if len(excluded_features_columns) > 0:\n",
    "    print(f\"Dropping features: {excluded_features_columns}\")\n",
    "    X_test.drop(excluded_features_columns, axis=1, inplace=True)"
   ]
  },
  {
   "cell_type": "code",
   "execution_count": 24,
   "id": "1853aaf5-fb9f-46cb-a2b5-8ea4ae2237e4",
   "metadata": {
    "execution": {
     "iopub.execute_input": "2025-08-05T15:35:35.856299Z",
     "iopub.status.busy": "2025-08-05T15:35:35.855579Z",
     "iopub.status.idle": "2025-08-05T15:35:35.908469Z",
     "shell.execute_reply": "2025-08-05T15:35:35.907307Z"
    },
    "papermill": {
     "duration": 0.080368,
     "end_time": "2025-08-05T15:35:35.910229",
     "exception": false,
     "start_time": "2025-08-05T15:35:35.829861",
     "status": "completed"
    },
    "tags": []
   },
   "outputs": [
    {
     "name": "stdout",
     "output_type": "stream",
     "text": [
      "Dropping features: ['maxdeutsch1', 'maxdeutsch.Missing.']\n"
     ]
    }
   ],
   "source": [
    "if len(excluded_features_columns) > 0:\n",
    "    print(f\"Dropping features: {excluded_features_columns}\")\n",
    "    X_calib.drop(excluded_features_columns, axis=1, inplace=True)"
   ]
  },
  {
   "cell_type": "code",
   "execution_count": 25,
   "id": "76c4dc6d",
   "metadata": {
    "execution": {
     "iopub.execute_input": "2025-08-05T15:35:35.946432Z",
     "iopub.status.busy": "2025-08-05T15:35:35.945664Z",
     "iopub.status.idle": "2025-08-05T15:35:35.950972Z",
     "shell.execute_reply": "2025-08-05T15:35:35.949980Z"
    },
    "papermill": {
     "duration": 0.024485,
     "end_time": "2025-08-05T15:35:35.952681",
     "exception": false,
     "start_time": "2025-08-05T15:35:35.928196",
     "status": "completed"
    },
    "tags": []
   },
   "outputs": [],
   "source": [
    "# EXCLUDE CERTAIN SUBGROUPS\n",
    "# ----------------------\n",
    "\n",
    "mode = universe.get(\"exclude_subgroups\", \"keep-all\") \n",
    "# Fetches the exclude_subgroups setting from the universe dict.\n",
    "# Defaults to \"keep-all\" if the key is missing."
   ]
  },
  {
   "cell_type": "code",
   "execution_count": 26,
   "id": "21994072",
   "metadata": {
    "execution": {
     "iopub.execute_input": "2025-08-05T15:35:35.988368Z",
     "iopub.status.busy": "2025-08-05T15:35:35.987733Z",
     "iopub.status.idle": "2025-08-05T15:35:35.994467Z",
     "shell.execute_reply": "2025-08-05T15:35:35.993429Z"
    },
    "papermill": {
     "duration": 0.025585,
     "end_time": "2025-08-05T15:35:35.996110",
     "exception": false,
     "start_time": "2025-08-05T15:35:35.970525",
     "status": "completed"
    },
    "tags": []
   },
   "outputs": [],
   "source": [
    "if mode == \"keep-all\":\n",
    "    keep_mask = pd.Series(True, index=org_train.index)\n",
    "\n",
    "# org_train contains the original feature columns from features_org (in Simson)\n",
    "# features_org contains unprocessed features, for me X_train at beginning ???\n",
    "# For keep-all, creates a boolean Series (keep_mask) of all True, so no rows are removed.\n",
    "\n",
    "elif mode == \"drop-non-german\":\n",
    "    keep_mask = org_train[\"maxdeutsch1\"] == 1 # ??? what about missing values?\n",
    "\n",
    "else:\n",
    "    raise ValueError(f\"Unsupported mode for exclude_subgroups: {mode}\")"
   ]
  },
  {
   "cell_type": "code",
   "execution_count": 27,
   "id": "71651440",
   "metadata": {
    "execution": {
     "iopub.execute_input": "2025-08-05T15:35:36.031374Z",
     "iopub.status.busy": "2025-08-05T15:35:36.030902Z",
     "iopub.status.idle": "2025-08-05T15:35:36.038784Z",
     "shell.execute_reply": "2025-08-05T15:35:36.037610Z"
    },
    "papermill": {
     "duration": 0.027119,
     "end_time": "2025-08-05T15:35:36.040593",
     "exception": false,
     "start_time": "2025-08-05T15:35:36.013474",
     "status": "completed"
    },
    "tags": []
   },
   "outputs": [
    {
     "name": "stdout",
     "output_type": "stream",
     "text": [
      "Dropping 665 rows (13.30%) where mode='drop-non-german'\n"
     ]
    }
   ],
   "source": [
    "n_drop = (~keep_mask).sum() # Calculates how many rows are set to be dropped\n",
    "if n_drop > 0:\n",
    "    pct = n_drop / len(keep_mask) * 100\n",
    "    print(f\"Dropping {n_drop} rows ({pct:.2f}%) where mode='{mode}'\")"
   ]
  },
  {
   "cell_type": "code",
   "execution_count": 28,
   "id": "5fb8eee5",
   "metadata": {
    "execution": {
     "iopub.execute_input": "2025-08-05T15:35:36.078214Z",
     "iopub.status.busy": "2025-08-05T15:35:36.077403Z",
     "iopub.status.idle": "2025-08-05T15:35:36.084569Z",
     "shell.execute_reply": "2025-08-05T15:35:36.083568Z"
    },
    "papermill": {
     "duration": 0.026979,
     "end_time": "2025-08-05T15:35:36.086349",
     "exception": false,
     "start_time": "2025-08-05T15:35:36.059370",
     "status": "completed"
    },
    "tags": []
   },
   "outputs": [],
   "source": [
    "X_train = X_train[keep_mask]"
   ]
  },
  {
   "cell_type": "code",
   "execution_count": 29,
   "id": "b202bb3a",
   "metadata": {
    "execution": {
     "iopub.execute_input": "2025-08-05T15:35:36.126789Z",
     "iopub.status.busy": "2025-08-05T15:35:36.126166Z",
     "iopub.status.idle": "2025-08-05T15:35:36.132715Z",
     "shell.execute_reply": "2025-08-05T15:35:36.131616Z"
    },
    "papermill": {
     "duration": 0.028256,
     "end_time": "2025-08-05T15:35:36.134406",
     "exception": false,
     "start_time": "2025-08-05T15:35:36.106150",
     "status": "completed"
    },
    "tags": []
   },
   "outputs": [],
   "source": [
    "y_train = y_train[keep_mask]"
   ]
  },
  {
   "cell_type": "markdown",
   "id": "493e2ac3",
   "metadata": {
    "papermill": {
     "duration": 0.018712,
     "end_time": "2025-08-05T15:35:36.171949",
     "exception": false,
     "start_time": "2025-08-05T15:35:36.153237",
     "status": "completed"
    },
    "tags": []
   },
   "source": [
    "# Model Training"
   ]
  },
  {
   "cell_type": "code",
   "execution_count": 30,
   "id": "679e1268",
   "metadata": {
    "execution": {
     "iopub.execute_input": "2025-08-05T15:35:36.212050Z",
     "iopub.status.busy": "2025-08-05T15:35:36.211278Z",
     "iopub.status.idle": "2025-08-05T15:35:36.312503Z",
     "shell.execute_reply": "2025-08-05T15:35:36.311513Z"
    },
    "papermill": {
     "duration": 0.123197,
     "end_time": "2025-08-05T15:35:36.314354",
     "exception": false,
     "start_time": "2025-08-05T15:35:36.191157",
     "status": "completed"
    },
    "tags": []
   },
   "outputs": [],
   "source": [
    "from sklearn.linear_model import LogisticRegression\n",
    "from sklearn.ensemble import GradientBoostingClassifier, RandomForestClassifier\n",
    "\n",
    "if (universe[\"model\"] == \"logreg\"):\n",
    "    model = LogisticRegression() #penalty=\"none\", solver=\"newton-cg\", max_iter=1) # include random_state=19 ?\n",
    "elif (universe[\"model\"] == \"penalized_logreg\"):\n",
    "    model = LogisticRegression(penalty=\"l2\", C=0.1) #, solver=\"newton-cg\", max_iter=1)\n",
    "elif (universe[\"model\"] == \"rf\"):\n",
    "    model = RandomForestClassifier() # n_estimators=100, n_jobs=-1\n",
    "elif (universe[\"model\"] == \"gbm\"):\n",
    "    model = GradientBoostingClassifier()\n",
    "elif (universe[\"model\"] == \"elasticnet\"):\n",
    "    model = LogisticRegression(penalty = 'elasticnet', solver = 'saga', l1_ratio = 0.5) # max_iter=5000\n",
    "else:\n",
    "    raise \"Unsupported universe.model\""
   ]
  },
  {
   "cell_type": "code",
   "execution_count": 31,
   "id": "0cc8f744",
   "metadata": {
    "execution": {
     "iopub.execute_input": "2025-08-05T15:35:36.351236Z",
     "iopub.status.busy": "2025-08-05T15:35:36.350465Z",
     "iopub.status.idle": "2025-08-05T15:35:36.356574Z",
     "shell.execute_reply": "2025-08-05T15:35:36.355685Z"
    },
    "papermill": {
     "duration": 0.026107,
     "end_time": "2025-08-05T15:35:36.358316",
     "exception": false,
     "start_time": "2025-08-05T15:35:36.332209",
     "status": "completed"
    },
    "tags": []
   },
   "outputs": [],
   "source": [
    "import numpy as np\n",
    "from sklearn.pipeline import Pipeline\n",
    "from sklearn.preprocessing import StandardScaler\n",
    "\n",
    "model = Pipeline([\n",
    "    #(\"continuous_processor\", continuous_processor),\n",
    "    #(\"categorical_preprocessor\", categorical_preprocessor),\n",
    "    (\"scale\", StandardScaler() if universe[\"scale\"] == \"scale\" else None), \n",
    "    (\"model\", model),\n",
    "])"
   ]
  },
  {
   "cell_type": "code",
   "execution_count": 32,
   "id": "9442c04d",
   "metadata": {
    "execution": {
     "iopub.execute_input": "2025-08-05T15:35:36.399837Z",
     "iopub.status.busy": "2025-08-05T15:35:36.399510Z",
     "iopub.status.idle": "2025-08-05T15:35:36.510754Z",
     "shell.execute_reply": "2025-08-05T15:35:36.509851Z"
    },
    "papermill": {
     "duration": 0.134611,
     "end_time": "2025-08-05T15:35:36.512785",
     "exception": false,
     "start_time": "2025-08-05T15:35:36.378174",
     "status": "completed"
    },
    "tags": []
   },
   "outputs": [
    {
     "data": {
      "text/html": [
       "<style>#sk-container-id-1 {color: black;background-color: white;}#sk-container-id-1 pre{padding: 0;}#sk-container-id-1 div.sk-toggleable {background-color: white;}#sk-container-id-1 label.sk-toggleable__label {cursor: pointer;display: block;width: 100%;margin-bottom: 0;padding: 0.3em;box-sizing: border-box;text-align: center;}#sk-container-id-1 label.sk-toggleable__label-arrow:before {content: \"▸\";float: left;margin-right: 0.25em;color: #696969;}#sk-container-id-1 label.sk-toggleable__label-arrow:hover:before {color: black;}#sk-container-id-1 div.sk-estimator:hover label.sk-toggleable__label-arrow:before {color: black;}#sk-container-id-1 div.sk-toggleable__content {max-height: 0;max-width: 0;overflow: hidden;text-align: left;background-color: #f0f8ff;}#sk-container-id-1 div.sk-toggleable__content pre {margin: 0.2em;color: black;border-radius: 0.25em;background-color: #f0f8ff;}#sk-container-id-1 input.sk-toggleable__control:checked~div.sk-toggleable__content {max-height: 200px;max-width: 100%;overflow: auto;}#sk-container-id-1 input.sk-toggleable__control:checked~label.sk-toggleable__label-arrow:before {content: \"▾\";}#sk-container-id-1 div.sk-estimator input.sk-toggleable__control:checked~label.sk-toggleable__label {background-color: #d4ebff;}#sk-container-id-1 div.sk-label input.sk-toggleable__control:checked~label.sk-toggleable__label {background-color: #d4ebff;}#sk-container-id-1 input.sk-hidden--visually {border: 0;clip: rect(1px 1px 1px 1px);clip: rect(1px, 1px, 1px, 1px);height: 1px;margin: -1px;overflow: hidden;padding: 0;position: absolute;width: 1px;}#sk-container-id-1 div.sk-estimator {font-family: monospace;background-color: #f0f8ff;border: 1px dotted black;border-radius: 0.25em;box-sizing: border-box;margin-bottom: 0.5em;}#sk-container-id-1 div.sk-estimator:hover {background-color: #d4ebff;}#sk-container-id-1 div.sk-parallel-item::after {content: \"\";width: 100%;border-bottom: 1px solid gray;flex-grow: 1;}#sk-container-id-1 div.sk-label:hover label.sk-toggleable__label {background-color: #d4ebff;}#sk-container-id-1 div.sk-serial::before {content: \"\";position: absolute;border-left: 1px solid gray;box-sizing: border-box;top: 0;bottom: 0;left: 50%;z-index: 0;}#sk-container-id-1 div.sk-serial {display: flex;flex-direction: column;align-items: center;background-color: white;padding-right: 0.2em;padding-left: 0.2em;position: relative;}#sk-container-id-1 div.sk-item {position: relative;z-index: 1;}#sk-container-id-1 div.sk-parallel {display: flex;align-items: stretch;justify-content: center;background-color: white;position: relative;}#sk-container-id-1 div.sk-item::before, #sk-container-id-1 div.sk-parallel-item::before {content: \"\";position: absolute;border-left: 1px solid gray;box-sizing: border-box;top: 0;bottom: 0;left: 50%;z-index: -1;}#sk-container-id-1 div.sk-parallel-item {display: flex;flex-direction: column;z-index: 1;position: relative;background-color: white;}#sk-container-id-1 div.sk-parallel-item:first-child::after {align-self: flex-end;width: 50%;}#sk-container-id-1 div.sk-parallel-item:last-child::after {align-self: flex-start;width: 50%;}#sk-container-id-1 div.sk-parallel-item:only-child::after {width: 0;}#sk-container-id-1 div.sk-dashed-wrapped {border: 1px dashed gray;margin: 0 0.4em 0.5em 0.4em;box-sizing: border-box;padding-bottom: 0.4em;background-color: white;}#sk-container-id-1 div.sk-label label {font-family: monospace;font-weight: bold;display: inline-block;line-height: 1.2em;}#sk-container-id-1 div.sk-label-container {text-align: center;}#sk-container-id-1 div.sk-container {/* jupyter's `normalize.less` sets `[hidden] { display: none; }` but bootstrap.min.css set `[hidden] { display: none !important; }` so we also need the `!important` here to be able to override the default hidden behavior on the sphinx rendered scikit-learn.org. See: https://github.com/scikit-learn/scikit-learn/issues/21755 */display: inline-block !important;position: relative;}#sk-container-id-1 div.sk-text-repr-fallback {display: none;}</style><div id=\"sk-container-id-1\" class=\"sk-top-container\"><div class=\"sk-text-repr-fallback\"><pre>Pipeline(steps=[(&#x27;scale&#x27;, StandardScaler()),\n",
       "                (&#x27;model&#x27;, LogisticRegression(C=0.1))])</pre><b>In a Jupyter environment, please rerun this cell to show the HTML representation or trust the notebook. <br />On GitHub, the HTML representation is unable to render, please try loading this page with nbviewer.org.</b></div><div class=\"sk-container\" hidden><div class=\"sk-item sk-dashed-wrapped\"><div class=\"sk-label-container\"><div class=\"sk-label sk-toggleable\"><input class=\"sk-toggleable__control sk-hidden--visually\" id=\"sk-estimator-id-1\" type=\"checkbox\" ><label for=\"sk-estimator-id-1\" class=\"sk-toggleable__label sk-toggleable__label-arrow\">Pipeline</label><div class=\"sk-toggleable__content\"><pre>Pipeline(steps=[(&#x27;scale&#x27;, StandardScaler()),\n",
       "                (&#x27;model&#x27;, LogisticRegression(C=0.1))])</pre></div></div></div><div class=\"sk-serial\"><div class=\"sk-item\"><div class=\"sk-estimator sk-toggleable\"><input class=\"sk-toggleable__control sk-hidden--visually\" id=\"sk-estimator-id-2\" type=\"checkbox\" ><label for=\"sk-estimator-id-2\" class=\"sk-toggleable__label sk-toggleable__label-arrow\">StandardScaler</label><div class=\"sk-toggleable__content\"><pre>StandardScaler()</pre></div></div></div><div class=\"sk-item\"><div class=\"sk-estimator sk-toggleable\"><input class=\"sk-toggleable__control sk-hidden--visually\" id=\"sk-estimator-id-3\" type=\"checkbox\" ><label for=\"sk-estimator-id-3\" class=\"sk-toggleable__label sk-toggleable__label-arrow\">LogisticRegression</label><div class=\"sk-toggleable__content\"><pre>LogisticRegression(C=0.1)</pre></div></div></div></div></div></div></div>"
      ],
      "text/plain": [
       "Pipeline(steps=[('scale', StandardScaler()),\n",
       "                ('model', LogisticRegression(C=0.1))])"
      ]
     },
     "execution_count": 32,
     "metadata": {},
     "output_type": "execute_result"
    }
   ],
   "source": [
    "model.fit(X_train, y_train.values.ravel())"
   ]
  },
  {
   "cell_type": "code",
   "execution_count": 33,
   "id": "af59f8c0",
   "metadata": {
    "execution": {
     "iopub.execute_input": "2025-08-05T15:35:36.553629Z",
     "iopub.status.busy": "2025-08-05T15:35:36.553058Z",
     "iopub.status.idle": "2025-08-05T15:35:36.557975Z",
     "shell.execute_reply": "2025-08-05T15:35:36.557054Z"
    },
    "papermill": {
     "duration": 0.026833,
     "end_time": "2025-08-05T15:35:36.559680",
     "exception": false,
     "start_time": "2025-08-05T15:35:36.532847",
     "status": "completed"
    },
    "tags": []
   },
   "outputs": [],
   "source": [
    "from fairness_multiverse.universe import predict_w_threshold"
   ]
  },
  {
   "cell_type": "code",
   "execution_count": 34,
   "id": "a7cf2e16",
   "metadata": {
    "execution": {
     "iopub.execute_input": "2025-08-05T15:35:36.602434Z",
     "iopub.status.busy": "2025-08-05T15:35:36.601644Z",
     "iopub.status.idle": "2025-08-05T15:35:36.783754Z",
     "shell.execute_reply": "2025-08-05T15:35:36.782829Z"
    },
    "papermill": {
     "duration": 0.205255,
     "end_time": "2025-08-05T15:35:36.785612",
     "exception": false,
     "start_time": "2025-08-05T15:35:36.580357",
     "status": "completed"
    },
    "tags": []
   },
   "outputs": [
    {
     "data": {
      "text/plain": [
       "0.8581094638278899"
      ]
     },
     "execution_count": 34,
     "metadata": {},
     "output_type": "execute_result"
    }
   ],
   "source": [
    "probs_test = model.predict_proba(X_test)\n",
    "\n",
    "'''\n",
    "Below code returns a boolean array (or binary 0/1 array depending on how it’s used) where each element \n",
    "is True if the probability of class 1 is greater than or equal to the threshold, and False otherwise.\n",
    "'''\n",
    "y_pred_default = predict_w_threshold(probs_test, 0.5)\n",
    "\n",
    "from sklearn.metrics import accuracy_score\n",
    "\n",
    "# Naive prediction\n",
    "accuracy_score(y_true = y_true, y_pred = y_pred_default)"
   ]
  },
  {
   "cell_type": "code",
   "execution_count": 35,
   "id": "081964c3",
   "metadata": {
    "execution": {
     "iopub.execute_input": "2025-08-05T15:35:36.829484Z",
     "iopub.status.busy": "2025-08-05T15:35:36.828800Z",
     "iopub.status.idle": "2025-08-05T15:35:37.002481Z",
     "shell.execute_reply": "2025-08-05T15:35:37.001547Z"
    },
    "papermill": {
     "duration": 0.197074,
     "end_time": "2025-08-05T15:35:37.004180",
     "exception": false,
     "start_time": "2025-08-05T15:35:36.807106",
     "status": "completed"
    },
    "tags": []
   },
   "outputs": [
    {
     "data": {
      "text/plain": [
       "array([0, 0, 0, ..., 0, 0, 0])"
      ]
     },
     "execution_count": 35,
     "metadata": {},
     "output_type": "execute_result"
    }
   ],
   "source": [
    "model.predict(X_test)"
   ]
  },
  {
   "cell_type": "markdown",
   "id": "56c9705b",
   "metadata": {
    "papermill": {
     "duration": 0.019735,
     "end_time": "2025-08-05T15:35:37.044542",
     "exception": false,
     "start_time": "2025-08-05T15:35:37.024807",
     "status": "completed"
    },
    "tags": []
   },
   "source": [
    "# Conformal Prediction"
   ]
  },
  {
   "cell_type": "code",
   "execution_count": 36,
   "id": "160ec6ff",
   "metadata": {
    "execution": {
     "iopub.execute_input": "2025-08-05T15:35:37.086857Z",
     "iopub.status.busy": "2025-08-05T15:35:37.086401Z",
     "iopub.status.idle": "2025-08-05T15:35:37.091574Z",
     "shell.execute_reply": "2025-08-05T15:35:37.090652Z"
    },
    "papermill": {
     "duration": 0.02842,
     "end_time": "2025-08-05T15:35:37.093221",
     "exception": false,
     "start_time": "2025-08-05T15:35:37.064801",
     "status": "completed"
    },
    "tags": []
   },
   "outputs": [],
   "source": [
    "# Miscoverage level for conformal prediction (10% allowed error rate => 90% target coverage)\n",
    "alpha = 0.1"
   ]
  },
  {
   "cell_type": "code",
   "execution_count": 37,
   "id": "eadf4555-3dd3-440e-8e35-f82a4ad9f855",
   "metadata": {
    "execution": {
     "iopub.execute_input": "2025-08-05T15:35:37.131169Z",
     "iopub.status.busy": "2025-08-05T15:35:37.130483Z",
     "iopub.status.idle": "2025-08-05T15:35:37.298093Z",
     "shell.execute_reply": "2025-08-05T15:35:37.297180Z"
    },
    "papermill": {
     "duration": 0.188197,
     "end_time": "2025-08-05T15:35:37.300088",
     "exception": false,
     "start_time": "2025-08-05T15:35:37.111891",
     "status": "completed"
    },
    "tags": []
   },
   "outputs": [],
   "source": [
    "probs_calib = model.predict_proba(X_calib)"
   ]
  },
  {
   "cell_type": "code",
   "execution_count": 38,
   "id": "2ed93547-6d5d-4983-9b36-1ecb300da49a",
   "metadata": {
    "execution": {
     "iopub.execute_input": "2025-08-05T15:35:37.346429Z",
     "iopub.status.busy": "2025-08-05T15:35:37.345730Z",
     "iopub.status.idle": "2025-08-05T15:35:37.351743Z",
     "shell.execute_reply": "2025-08-05T15:35:37.350732Z"
    },
    "papermill": {
     "duration": 0.030278,
     "end_time": "2025-08-05T15:35:37.353498",
     "exception": false,
     "start_time": "2025-08-05T15:35:37.323220",
     "status": "completed"
    },
    "tags": []
   },
   "outputs": [],
   "source": [
    "y_calib = y_calib.values.ravel().astype(int)"
   ]
  },
  {
   "cell_type": "code",
   "execution_count": 39,
   "id": "65d1320d-f588-4b38-9072-62af1ae97f7d",
   "metadata": {
    "execution": {
     "iopub.execute_input": "2025-08-05T15:35:37.397177Z",
     "iopub.status.busy": "2025-08-05T15:35:37.396425Z",
     "iopub.status.idle": "2025-08-05T15:35:37.403084Z",
     "shell.execute_reply": "2025-08-05T15:35:37.401973Z"
    },
    "papermill": {
     "duration": 0.030204,
     "end_time": "2025-08-05T15:35:37.404682",
     "exception": false,
     "start_time": "2025-08-05T15:35:37.374478",
     "status": "completed"
    },
    "tags": []
   },
   "outputs": [],
   "source": [
    "from fairness_multiverse.conformal import compute_nc_scores\n",
    "\n",
    "# Compute nonconformity scores on calibration set (1 - probability of true class)\n",
    "nc_scores = compute_nc_scores(probs_calib, y_calib)"
   ]
  },
  {
   "cell_type": "code",
   "execution_count": 40,
   "id": "df3b8ca3-53b7-43d5-9667-7c85da7aeda2",
   "metadata": {
    "execution": {
     "iopub.execute_input": "2025-08-05T15:35:37.450249Z",
     "iopub.status.busy": "2025-08-05T15:35:37.449954Z",
     "iopub.status.idle": "2025-08-05T15:35:37.456117Z",
     "shell.execute_reply": "2025-08-05T15:35:37.455079Z"
    },
    "papermill": {
     "duration": 0.031735,
     "end_time": "2025-08-05T15:35:37.457801",
     "exception": false,
     "start_time": "2025-08-05T15:35:37.426066",
     "status": "completed"
    },
    "tags": []
   },
   "outputs": [],
   "source": [
    "from fairness_multiverse.conformal import find_threshold\n",
    "\n",
    "# Find conformal threshold q_hat for the given alpha (split conformal method)\n",
    "q_hat = find_threshold(nc_scores, alpha)"
   ]
  },
  {
   "cell_type": "code",
   "execution_count": 41,
   "id": "4d29e6c1-0ef6-4aa4-b8fe-4fe79b0d033a",
   "metadata": {
    "execution": {
     "iopub.execute_input": "2025-08-05T15:35:37.500076Z",
     "iopub.status.busy": "2025-08-05T15:35:37.499535Z",
     "iopub.status.idle": "2025-08-05T15:35:37.507273Z",
     "shell.execute_reply": "2025-08-05T15:35:37.506224Z"
    },
    "papermill": {
     "duration": 0.030555,
     "end_time": "2025-08-05T15:35:37.508981",
     "exception": false,
     "start_time": "2025-08-05T15:35:37.478426",
     "status": "completed"
    },
    "tags": []
   },
   "outputs": [
    {
     "data": {
      "text/plain": [
       "0.6924620579488969"
      ]
     },
     "execution_count": 41,
     "metadata": {},
     "output_type": "execute_result"
    }
   ],
   "source": [
    "q_hat"
   ]
  },
  {
   "cell_type": "code",
   "execution_count": 42,
   "id": "92460794-cdac-4be2-ba28-f28c0515a6fb",
   "metadata": {
    "execution": {
     "iopub.execute_input": "2025-08-05T15:35:37.553081Z",
     "iopub.status.busy": "2025-08-05T15:35:37.552415Z",
     "iopub.status.idle": "2025-08-05T15:35:38.363412Z",
     "shell.execute_reply": "2025-08-05T15:35:38.362365Z"
    },
    "papermill": {
     "duration": 0.835486,
     "end_time": "2025-08-05T15:35:38.364803",
     "exception": false,
     "start_time": "2025-08-05T15:35:37.529317",
     "status": "completed"
    },
    "tags": []
   },
   "outputs": [],
   "source": [
    "from fairness_multiverse.conformal import predict_conformal_sets\n",
    "\n",
    "# Generate prediction sets for each test example\n",
    "pred_sets = predict_conformal_sets(model, X_test, q_hat)"
   ]
  },
  {
   "cell_type": "code",
   "execution_count": 43,
   "id": "d90c9a65-e6db-4f5d-80cd-e68fb7e46829",
   "metadata": {
    "execution": {
     "iopub.execute_input": "2025-08-05T15:35:38.404861Z",
     "iopub.status.busy": "2025-08-05T15:35:38.404111Z",
     "iopub.status.idle": "2025-08-05T15:35:38.409156Z",
     "shell.execute_reply": "2025-08-05T15:35:38.408299Z"
    },
    "papermill": {
     "duration": 0.020749,
     "end_time": "2025-08-05T15:35:38.410627",
     "exception": false,
     "start_time": "2025-08-05T15:35:38.389878",
     "status": "completed"
    },
    "tags": []
   },
   "outputs": [],
   "source": [
    "y_true = y_true.squeeze()"
   ]
  },
  {
   "cell_type": "code",
   "execution_count": 44,
   "id": "3a58a54a-1e68-46b9-927a-df01f18aebc8",
   "metadata": {
    "execution": {
     "iopub.execute_input": "2025-08-05T15:35:38.435426Z",
     "iopub.status.busy": "2025-08-05T15:35:38.434731Z",
     "iopub.status.idle": "2025-08-05T15:35:38.893930Z",
     "shell.execute_reply": "2025-08-05T15:35:38.893119Z"
    },
    "papermill": {
     "duration": 0.472138,
     "end_time": "2025-08-05T15:35:38.895456",
     "exception": false,
     "start_time": "2025-08-05T15:35:38.423318",
     "status": "completed"
    },
    "tags": []
   },
   "outputs": [],
   "source": [
    "from fairness_multiverse.conformal import evaluate_sets\n",
    "\n",
    "# Evaluate coverage and average set size on test data\n",
    "metrics = evaluate_sets(pred_sets, y_true)"
   ]
  },
  {
   "cell_type": "markdown",
   "id": "2b569c12-9aaa-4c88-98c9-bbcd0cf3ebb8",
   "metadata": {
    "papermill": {
     "duration": 0.010194,
     "end_time": "2025-08-05T15:35:38.917235",
     "exception": false,
     "start_time": "2025-08-05T15:35:38.907041",
     "status": "completed"
    },
    "tags": []
   },
   "source": [
    "# CP Metrics"
   ]
  },
  {
   "cell_type": "code",
   "execution_count": 45,
   "id": "5ce0a5cb-201f-45a0-ade5-94c7f0bd6095",
   "metadata": {
    "execution": {
     "iopub.execute_input": "2025-08-05T15:35:38.939191Z",
     "iopub.status.busy": "2025-08-05T15:35:38.938868Z",
     "iopub.status.idle": "2025-08-05T15:35:38.945272Z",
     "shell.execute_reply": "2025-08-05T15:35:38.944396Z"
    },
    "papermill": {
     "duration": 0.01908,
     "end_time": "2025-08-05T15:35:38.946737",
     "exception": false,
     "start_time": "2025-08-05T15:35:38.927657",
     "status": "completed"
    },
    "tags": []
   },
   "outputs": [
    {
     "data": {
      "text/plain": [
       "{'coverage': 0.9109017946717199, 'avg_size': 1.135726228959982}"
      ]
     },
     "execution_count": 45,
     "metadata": {},
     "output_type": "execute_result"
    }
   ],
   "source": [
    "metrics"
   ]
  },
  {
   "cell_type": "code",
   "execution_count": 46,
   "id": "9b9a838d-31c9-430b-ae14-12baee460d17",
   "metadata": {
    "execution": {
     "iopub.execute_input": "2025-08-05T15:35:38.970592Z",
     "iopub.status.busy": "2025-08-05T15:35:38.969807Z",
     "iopub.status.idle": "2025-08-05T15:35:38.975105Z",
     "shell.execute_reply": "2025-08-05T15:35:38.974312Z"
    },
    "papermill": {
     "duration": 0.018336,
     "end_time": "2025-08-05T15:35:38.976608",
     "exception": false,
     "start_time": "2025-08-05T15:35:38.958272",
     "status": "completed"
    },
    "tags": []
   },
   "outputs": [],
   "source": [
    "example_universe = universe.copy()\n",
    "universe_training_year = example_universe.get(\"training_year\")\n",
    "universe_training_size = example_universe.get(\"training_size\")\n",
    "universe_scale = example_universe.get(\"scale\")\n",
    "universe_model = example_universe.get(\"model\")\n",
    "universe_exclude_features = example_universe.get(\"exclude_features\")\n",
    "universe_exclude_subgroups = example_universe.get(\"exclude_subgroups\")"
   ]
  },
  {
   "cell_type": "code",
   "execution_count": 47,
   "id": "f4b6a8ac-9dc0-4245-8a91-5b3b5999c4f9",
   "metadata": {
    "execution": {
     "iopub.execute_input": "2025-08-05T15:35:38.999762Z",
     "iopub.status.busy": "2025-08-05T15:35:38.999259Z",
     "iopub.status.idle": "2025-08-05T15:35:39.003815Z",
     "shell.execute_reply": "2025-08-05T15:35:39.002962Z"
    },
    "papermill": {
     "duration": 0.017175,
     "end_time": "2025-08-05T15:35:39.005296",
     "exception": false,
     "start_time": "2025-08-05T15:35:38.988121",
     "status": "completed"
    },
    "tags": []
   },
   "outputs": [],
   "source": [
    "cp_metrics_dict = {\n",
    "    \"universe_id\": [universe_id],\n",
    "    \"universe_training_year\": [universe_training_year],\n",
    "    \"universe_training_size\": [universe_training_size],\n",
    "    \"universe_scale\": [universe_scale],\n",
    "    \"universe_model\": [universe_model],\n",
    "    \"universe_exclude_features\": [universe_exclude_features],\n",
    "    \"universe_exclude_subgroups\": [universe_exclude_subgroups],\n",
    "    \"q_hat\": [q_hat],\n",
    "    \"coverage\": [metrics[\"coverage\"]],\n",
    "    \"avg_size\": [metrics[\"avg_size\"]],\n",
    "}"
   ]
  },
  {
   "cell_type": "code",
   "execution_count": 48,
   "id": "908acbb1-0371-4915-85ca-3fa520d2efe2",
   "metadata": {
    "execution": {
     "iopub.execute_input": "2025-08-05T15:35:39.028541Z",
     "iopub.status.busy": "2025-08-05T15:35:39.028078Z",
     "iopub.status.idle": "2025-08-05T15:35:39.034638Z",
     "shell.execute_reply": "2025-08-05T15:35:39.033832Z"
    },
    "papermill": {
     "duration": 0.019232,
     "end_time": "2025-08-05T15:35:39.035938",
     "exception": false,
     "start_time": "2025-08-05T15:35:39.016706",
     "status": "completed"
    },
    "tags": []
   },
   "outputs": [
    {
     "data": {
      "text/plain": [
       "{'universe_id': ['2018f3dc3f4bc8811eb16a94f04bea1c'],\n",
       " 'universe_training_year': ['2012_14'],\n",
       " 'universe_training_size': ['5k'],\n",
       " 'universe_scale': ['scale'],\n",
       " 'universe_model': ['penalized_logreg'],\n",
       " 'universe_exclude_features': ['nationality'],\n",
       " 'universe_exclude_subgroups': ['drop-non-german'],\n",
       " 'q_hat': [0.6924620579488969],\n",
       " 'coverage': [0.9109017946717199],\n",
       " 'avg_size': [1.135726228959982]}"
      ]
     },
     "execution_count": 48,
     "metadata": {},
     "output_type": "execute_result"
    }
   ],
   "source": [
    "cp_metrics_dict"
   ]
  },
  {
   "cell_type": "code",
   "execution_count": 49,
   "id": "33007efc-14e9-4ec6-97ac-56a455c82265",
   "metadata": {
    "execution": {
     "iopub.execute_input": "2025-08-05T15:35:39.059158Z",
     "iopub.status.busy": "2025-08-05T15:35:39.058880Z",
     "iopub.status.idle": "2025-08-05T15:35:39.063712Z",
     "shell.execute_reply": "2025-08-05T15:35:39.062847Z"
    },
    "papermill": {
     "duration": 0.018135,
     "end_time": "2025-08-05T15:35:39.065190",
     "exception": false,
     "start_time": "2025-08-05T15:35:39.047055",
     "status": "completed"
    },
    "tags": []
   },
   "outputs": [],
   "source": [
    "cp_metrics_df = pd.DataFrame(cp_metrics_dict)"
   ]
  },
  {
   "cell_type": "code",
   "execution_count": 50,
   "id": "db12611b-57b2-4910-b9d0-355adfd6e7bf",
   "metadata": {
    "execution": {
     "iopub.execute_input": "2025-08-05T15:35:39.088663Z",
     "iopub.status.busy": "2025-08-05T15:35:39.088374Z",
     "iopub.status.idle": "2025-08-05T15:35:39.101972Z",
     "shell.execute_reply": "2025-08-05T15:35:39.101019Z"
    },
    "papermill": {
     "duration": 0.026239,
     "end_time": "2025-08-05T15:35:39.103277",
     "exception": false,
     "start_time": "2025-08-05T15:35:39.077038",
     "status": "completed"
    },
    "tags": []
   },
   "outputs": [
    {
     "data": {
      "text/html": [
       "<div>\n",
       "<style scoped>\n",
       "    .dataframe tbody tr th:only-of-type {\n",
       "        vertical-align: middle;\n",
       "    }\n",
       "\n",
       "    .dataframe tbody tr th {\n",
       "        vertical-align: top;\n",
       "    }\n",
       "\n",
       "    .dataframe thead th {\n",
       "        text-align: right;\n",
       "    }\n",
       "</style>\n",
       "<table border=\"1\" class=\"dataframe\">\n",
       "  <thead>\n",
       "    <tr style=\"text-align: right;\">\n",
       "      <th></th>\n",
       "      <th>universe_id</th>\n",
       "      <th>universe_training_year</th>\n",
       "      <th>universe_training_size</th>\n",
       "      <th>universe_scale</th>\n",
       "      <th>universe_model</th>\n",
       "      <th>universe_exclude_features</th>\n",
       "      <th>universe_exclude_subgroups</th>\n",
       "      <th>q_hat</th>\n",
       "      <th>coverage</th>\n",
       "      <th>avg_size</th>\n",
       "    </tr>\n",
       "  </thead>\n",
       "  <tbody>\n",
       "    <tr>\n",
       "      <th>0</th>\n",
       "      <td>2018f3dc3f4bc8811eb16a94f04bea1c</td>\n",
       "      <td>2012_14</td>\n",
       "      <td>5k</td>\n",
       "      <td>scale</td>\n",
       "      <td>penalized_logreg</td>\n",
       "      <td>nationality</td>\n",
       "      <td>drop-non-german</td>\n",
       "      <td>0.692462</td>\n",
       "      <td>0.910902</td>\n",
       "      <td>1.135726</td>\n",
       "    </tr>\n",
       "  </tbody>\n",
       "</table>\n",
       "</div>"
      ],
      "text/plain": [
       "                        universe_id universe_training_year  \\\n",
       "0  2018f3dc3f4bc8811eb16a94f04bea1c                2012_14   \n",
       "\n",
       "  universe_training_size universe_scale    universe_model  \\\n",
       "0                     5k          scale  penalized_logreg   \n",
       "\n",
       "  universe_exclude_features universe_exclude_subgroups     q_hat  coverage  \\\n",
       "0               nationality            drop-non-german  0.692462  0.910902   \n",
       "\n",
       "   avg_size  \n",
       "0  1.135726  "
      ]
     },
     "execution_count": 50,
     "metadata": {},
     "output_type": "execute_result"
    }
   ],
   "source": [
    "cp_metrics_df"
   ]
  },
  {
   "cell_type": "code",
   "execution_count": 51,
   "id": "b7fbde55-a0a1-47e4-9af6-fe4a17fa8c61",
   "metadata": {
    "execution": {
     "iopub.execute_input": "2025-08-05T15:35:39.127710Z",
     "iopub.status.busy": "2025-08-05T15:35:39.127197Z",
     "iopub.status.idle": "2025-08-05T15:35:39.131715Z",
     "shell.execute_reply": "2025-08-05T15:35:39.130880Z"
    },
    "papermill": {
     "duration": 0.01872,
     "end_time": "2025-08-05T15:35:39.133182",
     "exception": false,
     "start_time": "2025-08-05T15:35:39.114462",
     "status": "completed"
    },
    "tags": []
   },
   "outputs": [],
   "source": [
    "# Conditional Coverage & looking at subgroups"
   ]
  },
  {
   "cell_type": "code",
   "execution_count": 52,
   "id": "027ae886-68dd-4141-96c7-805a5450e1ef",
   "metadata": {
    "execution": {
     "iopub.execute_input": "2025-08-05T15:35:39.161659Z",
     "iopub.status.busy": "2025-08-05T15:35:39.161334Z",
     "iopub.status.idle": "2025-08-05T15:35:39.397368Z",
     "shell.execute_reply": "2025-08-05T15:35:39.396362Z"
    },
    "papermill": {
     "duration": 0.25401,
     "end_time": "2025-08-05T15:35:39.398940",
     "exception": false,
     "start_time": "2025-08-05T15:35:39.144930",
     "status": "completed"
    },
    "tags": []
   },
   "outputs": [],
   "source": [
    "from fairness_multiverse.conformal import build_cp_groups\n",
    "\n",
    "cp_groups_df = build_cp_groups(pred_sets, y_true, X_test.index, org_test)\n",
    "#needs universe_id and setting"
   ]
  },
  {
   "cell_type": "code",
   "execution_count": 53,
   "id": "6cbdab96-b2b2-45af-ad54-d0516db2e28d",
   "metadata": {
    "execution": {
     "iopub.execute_input": "2025-08-05T15:35:39.446258Z",
     "iopub.status.busy": "2025-08-05T15:35:39.445765Z",
     "iopub.status.idle": "2025-08-05T15:35:40.604393Z",
     "shell.execute_reply": "2025-08-05T15:35:40.603657Z"
    },
    "papermill": {
     "duration": 1.183786,
     "end_time": "2025-08-05T15:35:40.605864",
     "exception": false,
     "start_time": "2025-08-05T15:35:39.422078",
     "status": "completed"
    },
    "tags": []
   },
   "outputs": [],
   "source": [
    "# Define covered = 1 if true_label is in the predicted set\n",
    "cp_groups_df['covered'] = cp_groups_df.apply(\n",
    "    lambda r: int(r['true_label'] in r['pred_set']),\n",
    "    axis=1\n",
    ")"
   ]
  },
  {
   "cell_type": "code",
   "execution_count": 54,
   "id": "338ff529-1a6b-4b87-a931-8e4788d52aad",
   "metadata": {
    "execution": {
     "iopub.execute_input": "2025-08-05T15:35:40.633292Z",
     "iopub.status.busy": "2025-08-05T15:35:40.632548Z",
     "iopub.status.idle": "2025-08-05T15:35:40.637747Z",
     "shell.execute_reply": "2025-08-05T15:35:40.636555Z"
    },
    "papermill": {
     "duration": 0.020099,
     "end_time": "2025-08-05T15:35:40.639967",
     "exception": false,
     "start_time": "2025-08-05T15:35:40.619868",
     "status": "completed"
    },
    "tags": []
   },
   "outputs": [],
   "source": [
    "#cp_groups_df"
   ]
  },
  {
   "cell_type": "code",
   "execution_count": 55,
   "id": "90032e27-66df-4540-9169-4e89cfbaa758",
   "metadata": {
    "execution": {
     "iopub.execute_input": "2025-08-05T15:35:40.690946Z",
     "iopub.status.busy": "2025-08-05T15:35:40.690161Z",
     "iopub.status.idle": "2025-08-05T15:35:40.700750Z",
     "shell.execute_reply": "2025-08-05T15:35:40.699780Z"
    },
    "papermill": {
     "duration": 0.036894,
     "end_time": "2025-08-05T15:35:40.702357",
     "exception": false,
     "start_time": "2025-08-05T15:35:40.665463",
     "status": "completed"
    },
    "tags": []
   },
   "outputs": [],
   "source": [
    "subgroups = ['frau1','nongerman','nongerman_male','nongerman_female']\n",
    "\n",
    "# Conditional coverage for subgroup==1\n",
    "cond_coverage = {\n",
    "    g: cp_groups_df.loc[cp_groups_df[g]==1, 'covered'].mean()\n",
    "    for g in subgroups\n",
    "}"
   ]
  },
  {
   "cell_type": "code",
   "execution_count": 56,
   "id": "1e348fb1-b9c3-45bc-ba23-f016827a7e0d",
   "metadata": {
    "execution": {
     "iopub.execute_input": "2025-08-05T15:35:40.726778Z",
     "iopub.status.busy": "2025-08-05T15:35:40.726480Z",
     "iopub.status.idle": "2025-08-05T15:35:40.732713Z",
     "shell.execute_reply": "2025-08-05T15:35:40.731761Z"
    },
    "papermill": {
     "duration": 0.019434,
     "end_time": "2025-08-05T15:35:40.734137",
     "exception": false,
     "start_time": "2025-08-05T15:35:40.714703",
     "status": "completed"
    },
    "tags": []
   },
   "outputs": [
    {
     "data": {
      "text/plain": [
       "{'frau1': 0.9037875724491171,\n",
       " 'nongerman': 0.907483298714422,\n",
       " 'nongerman_male': 0.9269566783752139,\n",
       " 'nongerman_female': 0.8752608047690015}"
      ]
     },
     "execution_count": 56,
     "metadata": {},
     "output_type": "execute_result"
    }
   ],
   "source": [
    "cond_coverage"
   ]
  },
  {
   "cell_type": "code",
   "execution_count": 57,
   "id": "f5093324-c3dd-4d63-bc4c-8d945e5c8bbb",
   "metadata": {
    "execution": {
     "iopub.execute_input": "2025-08-05T15:35:40.758540Z",
     "iopub.status.busy": "2025-08-05T15:35:40.758198Z",
     "iopub.status.idle": "2025-08-05T15:35:40.763707Z",
     "shell.execute_reply": "2025-08-05T15:35:40.762801Z"
    },
    "papermill": {
     "duration": 0.018879,
     "end_time": "2025-08-05T15:35:40.765103",
     "exception": false,
     "start_time": "2025-08-05T15:35:40.746224",
     "status": "completed"
    },
    "tags": []
   },
   "outputs": [],
   "source": [
    "for subgroup, cov in cond_coverage.items():\n",
    "    cp_metrics_df[f\"cov_{subgroup}\"] = cov"
   ]
  },
  {
   "cell_type": "code",
   "execution_count": 58,
   "id": "6e872e10-dbe5-49e8-b554-5030c98ff75d",
   "metadata": {
    "execution": {
     "iopub.execute_input": "2025-08-05T15:35:40.789469Z",
     "iopub.status.busy": "2025-08-05T15:35:40.788939Z",
     "iopub.status.idle": "2025-08-05T15:35:40.806040Z",
     "shell.execute_reply": "2025-08-05T15:35:40.804818Z"
    },
    "papermill": {
     "duration": 0.030717,
     "end_time": "2025-08-05T15:35:40.807895",
     "exception": false,
     "start_time": "2025-08-05T15:35:40.777178",
     "status": "completed"
    },
    "tags": []
   },
   "outputs": [
    {
     "data": {
      "text/html": [
       "<div>\n",
       "<style scoped>\n",
       "    .dataframe tbody tr th:only-of-type {\n",
       "        vertical-align: middle;\n",
       "    }\n",
       "\n",
       "    .dataframe tbody tr th {\n",
       "        vertical-align: top;\n",
       "    }\n",
       "\n",
       "    .dataframe thead th {\n",
       "        text-align: right;\n",
       "    }\n",
       "</style>\n",
       "<table border=\"1\" class=\"dataframe\">\n",
       "  <thead>\n",
       "    <tr style=\"text-align: right;\">\n",
       "      <th></th>\n",
       "      <th>universe_id</th>\n",
       "      <th>universe_training_year</th>\n",
       "      <th>universe_training_size</th>\n",
       "      <th>universe_scale</th>\n",
       "      <th>universe_model</th>\n",
       "      <th>universe_exclude_features</th>\n",
       "      <th>universe_exclude_subgroups</th>\n",
       "      <th>q_hat</th>\n",
       "      <th>coverage</th>\n",
       "      <th>avg_size</th>\n",
       "      <th>cov_frau1</th>\n",
       "      <th>cov_nongerman</th>\n",
       "      <th>cov_nongerman_male</th>\n",
       "      <th>cov_nongerman_female</th>\n",
       "    </tr>\n",
       "  </thead>\n",
       "  <tbody>\n",
       "    <tr>\n",
       "      <th>0</th>\n",
       "      <td>2018f3dc3f4bc8811eb16a94f04bea1c</td>\n",
       "      <td>2012_14</td>\n",
       "      <td>5k</td>\n",
       "      <td>scale</td>\n",
       "      <td>penalized_logreg</td>\n",
       "      <td>nationality</td>\n",
       "      <td>drop-non-german</td>\n",
       "      <td>0.692462</td>\n",
       "      <td>0.910902</td>\n",
       "      <td>1.135726</td>\n",
       "      <td>0.903788</td>\n",
       "      <td>0.907483</td>\n",
       "      <td>0.926957</td>\n",
       "      <td>0.875261</td>\n",
       "    </tr>\n",
       "  </tbody>\n",
       "</table>\n",
       "</div>"
      ],
      "text/plain": [
       "                        universe_id universe_training_year  \\\n",
       "0  2018f3dc3f4bc8811eb16a94f04bea1c                2012_14   \n",
       "\n",
       "  universe_training_size universe_scale    universe_model  \\\n",
       "0                     5k          scale  penalized_logreg   \n",
       "\n",
       "  universe_exclude_features universe_exclude_subgroups     q_hat  coverage  \\\n",
       "0               nationality            drop-non-german  0.692462  0.910902   \n",
       "\n",
       "   avg_size  cov_frau1  cov_nongerman  cov_nongerman_male  \\\n",
       "0  1.135726   0.903788       0.907483            0.926957   \n",
       "\n",
       "   cov_nongerman_female  \n",
       "0              0.875261  "
      ]
     },
     "execution_count": 58,
     "metadata": {},
     "output_type": "execute_result"
    }
   ],
   "source": [
    "cp_metrics_df"
   ]
  },
  {
   "cell_type": "markdown",
   "id": "33774451",
   "metadata": {
    "papermill": {
     "duration": 0.023763,
     "end_time": "2025-08-05T15:35:40.855726",
     "exception": false,
     "start_time": "2025-08-05T15:35:40.831963",
     "status": "completed"
    },
    "tags": []
   },
   "source": [
    "# (Fairness) Metrics"
   ]
  },
  {
   "cell_type": "code",
   "execution_count": 59,
   "id": "debc5d62",
   "metadata": {
    "execution": {
     "iopub.execute_input": "2025-08-05T15:35:40.901918Z",
     "iopub.status.busy": "2025-08-05T15:35:40.900950Z",
     "iopub.status.idle": "2025-08-05T15:35:40.921220Z",
     "shell.execute_reply": "2025-08-05T15:35:40.920244Z"
    },
    "papermill": {
     "duration": 0.044822,
     "end_time": "2025-08-05T15:35:40.923026",
     "exception": false,
     "start_time": "2025-08-05T15:35:40.878204",
     "status": "completed"
    },
    "tags": []
   },
   "outputs": [],
   "source": [
    "# do I need to include maxdeutsch1.missing?\n",
    "\n",
    "import numpy as np\n",
    "\n",
    "colname_to_bin = \"maxdeutsch1\"\n",
    "majority_value = org_train[colname_to_bin].mode()[0]\n",
    "\n",
    "org_test[\"majmin\"] = np.where(org_test[colname_to_bin] == majority_value, \"majority\", \"minority\")"
   ]
  },
  {
   "cell_type": "code",
   "execution_count": 60,
   "id": "06a50de5",
   "metadata": {
    "execution": {
     "iopub.execute_input": "2025-08-05T15:35:40.970908Z",
     "iopub.status.busy": "2025-08-05T15:35:40.970468Z",
     "iopub.status.idle": "2025-08-05T15:35:43.203228Z",
     "shell.execute_reply": "2025-08-05T15:35:43.202183Z"
    },
    "papermill": {
     "duration": 2.258971,
     "end_time": "2025-08-05T15:35:43.205272",
     "exception": false,
     "start_time": "2025-08-05T15:35:40.946301",
     "status": "completed"
    },
    "tags": []
   },
   "outputs": [],
   "source": [
    "example_universe = universe.copy()\n",
    "example_universe[\"cutoff\"] = example_universe[\"cutoff\"][0]\n",
    "example_universe[\"eval_fairness_grouping\"] = example_universe[\"eval_fairness_grouping\"][0]\n",
    "fairness_dict, metric_frame = universe_analysis.compute_metrics(\n",
    "    example_universe,\n",
    "    y_pred_prob=probs_test,\n",
    "    y_test=y_true,\n",
    "    org_test=org_test,\n",
    ")"
   ]
  },
  {
   "cell_type": "markdown",
   "id": "f95d4e02",
   "metadata": {
    "papermill": {
     "duration": 0.019558,
     "end_time": "2025-08-05T15:35:43.247815",
     "exception": false,
     "start_time": "2025-08-05T15:35:43.228257",
     "status": "completed"
    },
    "tags": []
   },
   "source": [
    "# Overall"
   ]
  },
  {
   "cell_type": "markdown",
   "id": "bdee4871",
   "metadata": {
    "papermill": {
     "duration": 0.020731,
     "end_time": "2025-08-05T15:35:43.288754",
     "exception": false,
     "start_time": "2025-08-05T15:35:43.268023",
     "status": "completed"
    },
    "tags": []
   },
   "source": [
    "Fairness\n",
    "Main fairness target: Equalized Odds. Seems to be a better fit than equal opportunity, since we're not only interested in Y = 1. Seems to be a better fit than demographic parity, since we also care about accuracy, not just equal distribution of preds.\n",
    "\n",
    "Pick column for computation of fairness metrics\n",
    "\n",
    "Performance\n",
    "Overall performance measures, most interesting in relation to the measures split by group below"
   ]
  },
  {
   "cell_type": "code",
   "execution_count": 61,
   "id": "c4e067c6",
   "metadata": {
    "execution": {
     "iopub.execute_input": "2025-08-05T15:35:43.321830Z",
     "iopub.status.busy": "2025-08-05T15:35:43.321439Z",
     "iopub.status.idle": "2025-08-05T15:35:43.328449Z",
     "shell.execute_reply": "2025-08-05T15:35:43.327639Z"
    },
    "papermill": {
     "duration": 0.021088,
     "end_time": "2025-08-05T15:35:43.329808",
     "exception": false,
     "start_time": "2025-08-05T15:35:43.308720",
     "status": "completed"
    },
    "tags": []
   },
   "outputs": [
    {
     "data": {
      "text/plain": [
       "accuracy                   0.223977\n",
       "balanced accuracy          0.547738\n",
       "f1                         0.245320\n",
       "precision                  0.140143\n",
       "false positive rate        0.887752\n",
       "false negative rate        0.016771\n",
       "selection rate             0.900000\n",
       "count                  89710.000000\n",
       "dtype: float64"
      ]
     },
     "execution_count": 61,
     "metadata": {},
     "output_type": "execute_result"
    }
   ],
   "source": [
    "metric_frame.overall"
   ]
  },
  {
   "cell_type": "markdown",
   "id": "e968fe9d",
   "metadata": {
    "papermill": {
     "duration": 0.011545,
     "end_time": "2025-08-05T15:35:43.353983",
     "exception": false,
     "start_time": "2025-08-05T15:35:43.342438",
     "status": "completed"
    },
    "tags": []
   },
   "source": [
    "By Group"
   ]
  },
  {
   "cell_type": "code",
   "execution_count": 62,
   "id": "ec325bce",
   "metadata": {
    "execution": {
     "iopub.execute_input": "2025-08-05T15:35:43.378197Z",
     "iopub.status.busy": "2025-08-05T15:35:43.377631Z",
     "iopub.status.idle": "2025-08-05T15:35:43.389602Z",
     "shell.execute_reply": "2025-08-05T15:35:43.388748Z"
    },
    "papermill": {
     "duration": 0.025472,
     "end_time": "2025-08-05T15:35:43.390960",
     "exception": false,
     "start_time": "2025-08-05T15:35:43.365488",
     "status": "completed"
    },
    "tags": []
   },
   "outputs": [
    {
     "data": {
      "text/html": [
       "<div>\n",
       "<style scoped>\n",
       "    .dataframe tbody tr th:only-of-type {\n",
       "        vertical-align: middle;\n",
       "    }\n",
       "\n",
       "    .dataframe tbody tr th {\n",
       "        vertical-align: top;\n",
       "    }\n",
       "\n",
       "    .dataframe thead th {\n",
       "        text-align: right;\n",
       "    }\n",
       "</style>\n",
       "<table border=\"1\" class=\"dataframe\">\n",
       "  <thead>\n",
       "    <tr style=\"text-align: right;\">\n",
       "      <th></th>\n",
       "      <th>accuracy</th>\n",
       "      <th>balanced accuracy</th>\n",
       "      <th>f1</th>\n",
       "      <th>precision</th>\n",
       "      <th>false positive rate</th>\n",
       "      <th>false negative rate</th>\n",
       "      <th>selection rate</th>\n",
       "      <th>count</th>\n",
       "    </tr>\n",
       "    <tr>\n",
       "      <th>majmin</th>\n",
       "      <th></th>\n",
       "      <th></th>\n",
       "      <th></th>\n",
       "      <th></th>\n",
       "      <th></th>\n",
       "      <th></th>\n",
       "      <th></th>\n",
       "      <th></th>\n",
       "    </tr>\n",
       "  </thead>\n",
       "  <tbody>\n",
       "    <tr>\n",
       "      <th>majority</th>\n",
       "      <td>0.24220</td>\n",
       "      <td>0.555758</td>\n",
       "      <td>0.255091</td>\n",
       "      <td>0.146586</td>\n",
       "      <td>0.870431</td>\n",
       "      <td>0.018053</td>\n",
       "      <td>0.885167</td>\n",
       "      <td>69170.0</td>\n",
       "    </tr>\n",
       "    <tr>\n",
       "      <th>minority</th>\n",
       "      <td>0.16261</td>\n",
       "      <td>0.521603</td>\n",
       "      <td>0.213894</td>\n",
       "      <td>0.119926</td>\n",
       "      <td>0.944970</td>\n",
       "      <td>0.011824</td>\n",
       "      <td>0.949951</td>\n",
       "      <td>20540.0</td>\n",
       "    </tr>\n",
       "  </tbody>\n",
       "</table>\n",
       "</div>"
      ],
      "text/plain": [
       "          accuracy  balanced accuracy        f1  precision  \\\n",
       "majmin                                                       \n",
       "majority   0.24220           0.555758  0.255091   0.146586   \n",
       "minority   0.16261           0.521603  0.213894   0.119926   \n",
       "\n",
       "          false positive rate  false negative rate  selection rate    count  \n",
       "majmin                                                                       \n",
       "majority             0.870431             0.018053        0.885167  69170.0  \n",
       "minority             0.944970             0.011824        0.949951  20540.0  "
      ]
     },
     "execution_count": 62,
     "metadata": {},
     "output_type": "execute_result"
    }
   ],
   "source": [
    "metric_frame.by_group"
   ]
  },
  {
   "cell_type": "code",
   "execution_count": 63,
   "id": "a9ddbe63",
   "metadata": {
    "execution": {
     "iopub.execute_input": "2025-08-05T15:35:43.416249Z",
     "iopub.status.busy": "2025-08-05T15:35:43.415834Z",
     "iopub.status.idle": "2025-08-05T15:35:45.538155Z",
     "shell.execute_reply": "2025-08-05T15:35:45.537082Z"
    },
    "papermill": {
     "duration": 2.136449,
     "end_time": "2025-08-05T15:35:45.539763",
     "exception": false,
     "start_time": "2025-08-05T15:35:43.403314",
     "status": "completed"
    },
    "tags": []
   },
   "outputs": [
    {
     "data": {
      "text/plain": [
       "array([[<Axes: title={'center': 'accuracy'}, xlabel='majmin'>,\n",
       "        <Axes: title={'center': 'balanced accuracy'}, xlabel='majmin'>,\n",
       "        <Axes: title={'center': 'f1'}, xlabel='majmin'>],\n",
       "       [<Axes: title={'center': 'precision'}, xlabel='majmin'>,\n",
       "        <Axes: title={'center': 'false positive rate'}, xlabel='majmin'>,\n",
       "        <Axes: title={'center': 'false negative rate'}, xlabel='majmin'>],\n",
       "       [<Axes: title={'center': 'selection rate'}, xlabel='majmin'>,\n",
       "        <Axes: title={'center': 'count'}, xlabel='majmin'>,\n",
       "        <Axes: xlabel='majmin'>]], dtype=object)"
      ]
     },
     "execution_count": 63,
     "metadata": {},
     "output_type": "execute_result"
    },
    {
     "data": {
      "image/png": "[encoded data removed]",
      "text/plain": [
       "<Figure size 1200x800 with 9 Axes>"
      ]
     },
     "metadata": {},
     "output_type": "display_data"
    }
   ],
   "source": [
    "# In a graphic\n",
    "metric_frame.by_group.plot.bar(\n",
    "    subplots=True,\n",
    "    layout=[3, 3],\n",
    "    legend=False,\n",
    "    figsize=[12, 8],\n",
    "    title=\"Show all metrics\",\n",
    ")"
   ]
  },
  {
   "cell_type": "markdown",
   "id": "f57a0bac",
   "metadata": {
    "papermill": {
     "duration": 0.016596,
     "end_time": "2025-08-05T15:35:45.579009",
     "exception": false,
     "start_time": "2025-08-05T15:35:45.562413",
     "status": "completed"
    },
    "tags": []
   },
   "source": [
    "# Final Output"
   ]
  },
  {
   "cell_type": "code",
   "execution_count": 64,
   "id": "96d280a3",
   "metadata": {
    "execution": {
     "iopub.execute_input": "2025-08-05T15:35:45.630568Z",
     "iopub.status.busy": "2025-08-05T15:35:45.629896Z",
     "iopub.status.idle": "2025-08-05T15:35:45.637950Z",
     "shell.execute_reply": "2025-08-05T15:35:45.637227Z"
    },
    "papermill": {
     "duration": 0.035624,
     "end_time": "2025-08-05T15:35:45.639526",
     "exception": false,
     "start_time": "2025-08-05T15:35:45.603902",
     "status": "completed"
    },
    "tags": []
   },
   "outputs": [
    {
     "data": {
      "text/plain": [
       "4"
      ]
     },
     "execution_count": 64,
     "metadata": {},
     "output_type": "execute_result"
    }
   ],
   "source": [
    "sub_universes = universe_analysis.generate_sub_universes()\n",
    "len(sub_universes)"
   ]
  },
  {
   "cell_type": "code",
   "execution_count": 65,
   "id": "92adf7ba",
   "metadata": {
    "execution": {
     "iopub.execute_input": "2025-08-05T15:35:45.697841Z",
     "iopub.status.busy": "2025-08-05T15:35:45.697323Z",
     "iopub.status.idle": "2025-08-05T15:35:45.703814Z",
     "shell.execute_reply": "2025-08-05T15:35:45.702768Z"
    },
    "papermill": {
     "duration": 0.038409,
     "end_time": "2025-08-05T15:35:45.705597",
     "exception": false,
     "start_time": "2025-08-05T15:35:45.667188",
     "status": "completed"
    },
    "tags": []
   },
   "outputs": [],
   "source": [
    "def filter_sub_universe_data(sub_universe, org_test):\n",
    "    # Keep all rows — no filtering\n",
    "    keep_rows_mask = np.ones(org_test.shape[0], dtype=bool)\n",
    "\n",
    "    print(f\"[INFO] Keeping all rows: {keep_rows_mask.sum()} rows retained.\")\n",
    "    return keep_rows_mask"
   ]
  },
  {
   "cell_type": "code",
   "execution_count": 66,
   "id": "4a759155",
   "metadata": {
    "execution": {
     "iopub.execute_input": "2025-08-05T15:35:45.763648Z",
     "iopub.status.busy": "2025-08-05T15:35:45.763131Z",
     "iopub.status.idle": "2025-08-05T15:35:55.690645Z",
     "shell.execute_reply": "2025-08-05T15:35:55.688558Z"
    },
    "papermill": {
     "duration": 9.959925,
     "end_time": "2025-08-05T15:35:55.693477",
     "exception": false,
     "start_time": "2025-08-05T15:35:45.733552",
     "status": "completed"
    },
    "tags": []
   },
   "outputs": [
    {
     "name": "stdout",
     "output_type": "stream",
     "text": [
      "Stopping execution_time clock.\n",
      "[INFO] Keeping all rows: 89710 rows retained.\n"
     ]
    },
    {
     "name": "stdout",
     "output_type": "stream",
     "text": [
      "[INFO] Keeping all rows: 89710 rows retained.\n"
     ]
    },
    {
     "name": "stdout",
     "output_type": "stream",
     "text": [
      "[INFO] Keeping all rows: 89710 rows retained.\n"
     ]
    },
    {
     "name": "stdout",
     "output_type": "stream",
     "text": [
      "[INFO] Keeping all rows: 89710 rows retained.\n"
     ]
    },
    {
     "data": {
      "text/html": [
       "<div>\n",
       "<style scoped>\n",
       "    .dataframe tbody tr th:only-of-type {\n",
       "        vertical-align: middle;\n",
       "    }\n",
       "\n",
       "    .dataframe tbody tr th {\n",
       "        vertical-align: top;\n",
       "    }\n",
       "\n",
       "    .dataframe thead th {\n",
       "        text-align: right;\n",
       "    }\n",
       "</style>\n",
       "<table border=\"1\" class=\"dataframe\">\n",
       "  <thead>\n",
       "    <tr style=\"text-align: right;\">\n",
       "      <th></th>\n",
       "      <th>run_no</th>\n",
       "      <th>universe_id</th>\n",
       "      <th>universe_settings</th>\n",
       "      <th>execution_time</th>\n",
       "      <th>test_size_n</th>\n",
       "      <th>test_size_frac</th>\n",
       "      <th>fair_main_equalized_odds_difference</th>\n",
       "      <th>fair_main_equalized_odds_ratio</th>\n",
       "      <th>fair_main_demographic_parity_difference</th>\n",
       "      <th>fair_main_demographic_parity_ratio</th>\n",
       "      <th>...</th>\n",
       "      <th>perf_grp_precision_0</th>\n",
       "      <th>perf_grp_precision_1</th>\n",
       "      <th>perf_grp_false positive rate_0</th>\n",
       "      <th>perf_grp_false positive rate_1</th>\n",
       "      <th>perf_grp_false negative rate_0</th>\n",
       "      <th>perf_grp_false negative rate_1</th>\n",
       "      <th>perf_grp_selection rate_0</th>\n",
       "      <th>perf_grp_selection rate_1</th>\n",
       "      <th>perf_grp_count_0</th>\n",
       "      <th>perf_grp_count_1</th>\n",
       "    </tr>\n",
       "  </thead>\n",
       "  <tbody>\n",
       "    <tr>\n",
       "      <th>0</th>\n",
       "      <td>15</td>\n",
       "      <td>2018f3dc3f4bc8811eb16a94f04bea1c</td>\n",
       "      <td>{\"cutoff\": \"quantile_0.1\", \"eval_fairness_grou...</td>\n",
       "      <td>23.776191</td>\n",
       "      <td>89710</td>\n",
       "      <td>1.0</td>\n",
       "      <td>0.074539</td>\n",
       "      <td>0.921120</td>\n",
       "      <td>0.064784</td>\n",
       "      <td>0.931802</td>\n",
       "      <td>...</td>\n",
       "      <td>NaN</td>\n",
       "      <td>NaN</td>\n",
       "      <td>NaN</td>\n",
       "      <td>NaN</td>\n",
       "      <td>NaN</td>\n",
       "      <td>NaN</td>\n",
       "      <td>NaN</td>\n",
       "      <td>NaN</td>\n",
       "      <td>NaN</td>\n",
       "      <td>NaN</td>\n",
       "    </tr>\n",
       "    <tr>\n",
       "      <th>0</th>\n",
       "      <td>15</td>\n",
       "      <td>2018f3dc3f4bc8811eb16a94f04bea1c</td>\n",
       "      <td>{\"cutoff\": \"quantile_0.1\", \"eval_fairness_grou...</td>\n",
       "      <td>23.776191</td>\n",
       "      <td>89710</td>\n",
       "      <td>1.0</td>\n",
       "      <td>0.074539</td>\n",
       "      <td>0.921120</td>\n",
       "      <td>0.064784</td>\n",
       "      <td>0.931802</td>\n",
       "      <td>...</td>\n",
       "      <td>0.119926</td>\n",
       "      <td>0.146586</td>\n",
       "      <td>0.94497</td>\n",
       "      <td>0.870431</td>\n",
       "      <td>0.011824</td>\n",
       "      <td>0.018053</td>\n",
       "      <td>0.949951</td>\n",
       "      <td>0.885167</td>\n",
       "      <td>20540.0</td>\n",
       "      <td>69170.0</td>\n",
       "    </tr>\n",
       "    <tr>\n",
       "      <th>0</th>\n",
       "      <td>15</td>\n",
       "      <td>2018f3dc3f4bc8811eb16a94f04bea1c</td>\n",
       "      <td>{\"cutoff\": \"quantile_0.25\", \"eval_fairness_gro...</td>\n",
       "      <td>23.776191</td>\n",
       "      <td>89710</td>\n",
       "      <td>1.0</td>\n",
       "      <td>0.132219</td>\n",
       "      <td>0.839489</td>\n",
       "      <td>0.113101</td>\n",
       "      <td>0.864913</td>\n",
       "      <td>...</td>\n",
       "      <td>NaN</td>\n",
       "      <td>NaN</td>\n",
       "      <td>NaN</td>\n",
       "      <td>NaN</td>\n",
       "      <td>NaN</td>\n",
       "      <td>NaN</td>\n",
       "      <td>NaN</td>\n",
       "      <td>NaN</td>\n",
       "      <td>NaN</td>\n",
       "      <td>NaN</td>\n",
       "    </tr>\n",
       "    <tr>\n",
       "      <th>0</th>\n",
       "      <td>15</td>\n",
       "      <td>2018f3dc3f4bc8811eb16a94f04bea1c</td>\n",
       "      <td>{\"cutoff\": \"quantile_0.25\", \"eval_fairness_gro...</td>\n",
       "      <td>23.776191</td>\n",
       "      <td>89710</td>\n",
       "      <td>1.0</td>\n",
       "      <td>0.132219</td>\n",
       "      <td>0.839489</td>\n",
       "      <td>0.113101</td>\n",
       "      <td>0.864913</td>\n",
       "      <td>...</td>\n",
       "      <td>0.129557</td>\n",
       "      <td>0.171235</td>\n",
       "      <td>0.82374</td>\n",
       "      <td>0.691521</td>\n",
       "      <td>0.059122</td>\n",
       "      <td>0.061597</td>\n",
       "      <td>0.837244</td>\n",
       "      <td>0.724143</td>\n",
       "      <td>20540.0</td>\n",
       "      <td>69170.0</td>\n",
       "    </tr>\n",
       "  </tbody>\n",
       "</table>\n",
       "<p>4 rows × 50 columns</p>\n",
       "</div>"
      ],
      "text/plain": [
       "  run_no                       universe_id  \\\n",
       "0     15  2018f3dc3f4bc8811eb16a94f04bea1c   \n",
       "0     15  2018f3dc3f4bc8811eb16a94f04bea1c   \n",
       "0     15  2018f3dc3f4bc8811eb16a94f04bea1c   \n",
       "0     15  2018f3dc3f4bc8811eb16a94f04bea1c   \n",
       "\n",
       "                                   universe_settings  execution_time  \\\n",
       "0  {\"cutoff\": \"quantile_0.1\", \"eval_fairness_grou...       23.776191   \n",
       "0  {\"cutoff\": \"quantile_0.1\", \"eval_fairness_grou...       23.776191   \n",
       "0  {\"cutoff\": \"quantile_0.25\", \"eval_fairness_gro...       23.776191   \n",
       "0  {\"cutoff\": \"quantile_0.25\", \"eval_fairness_gro...       23.776191   \n",
       "\n",
       "   test_size_n  test_size_frac  fair_main_equalized_odds_difference  \\\n",
       "0        89710             1.0                             0.074539   \n",
       "0        89710             1.0                             0.074539   \n",
       "0        89710             1.0                             0.132219   \n",
       "0        89710             1.0                             0.132219   \n",
       "\n",
       "   fair_main_equalized_odds_ratio  fair_main_demographic_parity_difference  \\\n",
       "0                        0.921120                                 0.064784   \n",
       "0                        0.921120                                 0.064784   \n",
       "0                        0.839489                                 0.113101   \n",
       "0                        0.839489                                 0.113101   \n",
       "\n",
       "   fair_main_demographic_parity_ratio  ...  perf_grp_precision_0  \\\n",
       "0                            0.931802  ...                   NaN   \n",
       "0                            0.931802  ...              0.119926   \n",
       "0                            0.864913  ...                   NaN   \n",
       "0                            0.864913  ...              0.129557   \n",
       "\n",
       "   perf_grp_precision_1  perf_grp_false positive rate_0  \\\n",
       "0                   NaN                             NaN   \n",
       "0              0.146586                         0.94497   \n",
       "0                   NaN                             NaN   \n",
       "0              0.171235                         0.82374   \n",
       "\n",
       "   perf_grp_false positive rate_1  perf_grp_false negative rate_0  \\\n",
       "0                             NaN                             NaN   \n",
       "0                        0.870431                        0.011824   \n",
       "0                             NaN                             NaN   \n",
       "0                        0.691521                        0.059122   \n",
       "\n",
       "   perf_grp_false negative rate_1  perf_grp_selection rate_0  \\\n",
       "0                             NaN                        NaN   \n",
       "0                        0.018053                   0.949951   \n",
       "0                             NaN                        NaN   \n",
       "0                        0.061597                   0.837244   \n",
       "\n",
       "   perf_grp_selection rate_1  perf_grp_count_0  perf_grp_count_1  \n",
       "0                        NaN               NaN               NaN  \n",
       "0                   0.885167           20540.0           69170.0  \n",
       "0                        NaN               NaN               NaN  \n",
       "0                   0.724143           20540.0           69170.0  \n",
       "\n",
       "[4 rows x 50 columns]"
      ]
     },
     "execution_count": 66,
     "metadata": {},
     "output_type": "execute_result"
    }
   ],
   "source": [
    "final_output = universe_analysis.generate_final_output(\n",
    "    y_pred_prob=probs_test,\n",
    "    y_test=y_true,\n",
    "    org_test=org_test,\n",
    "    filter_data=filter_sub_universe_data,\n",
    "    cp_metrics_df=cp_metrics_df,\n",
    "    save=True,\n",
    ")\n",
    "final_output"
   ]
  }
 ],
 "metadata": {
  "celltoolbar": "Tags",
  "kernelspec": {
   "display_name": "Python (CMA Fairness)",
   "language": "python",
   "name": "cma_fair_env"
  },
  "language_info": {
   "codemirror_mode": {
    "name": "ipython",
    "version": 3
   },
   "file_extension": ".py",
   "mimetype": "text/x-python",
   "name": "python",
   "nbconvert_exporter": "python",
   "pygments_lexer": "ipython3",
   "version": "3.10.12"
  },
  "papermill": {
   "default_parameters": {},
   "duration": 37.688148,
   "end_time": "2025-08-05T15:35:56.545056",
   "environment_variables": {},
   "exception": null,
   "input_path": "universe_analysis.ipynb",
   "output_path": "output/runs/15/notebooks/m_15-2018f3dc3f4bc8811eb16a94f04bea1c.ipynb",
   "parameters": {
    "output_dir": "output",
    "run_no": "15",
    "seed": "2023",
    "universe": "{\"cutoff\": [\"quantile_0.1\", \"quantile_0.25\"], \"eval_fairness_grouping\": [\"majority-minority\", \"nationality-all\"], \"exclude_features\": \"nationality\", \"exclude_subgroups\": \"drop-non-german\", \"model\": \"penalized_logreg\", \"scale\": \"scale\", \"training_size\": \"5k\", \"training_year\": \"2012_14\"}",
    "universe_id": "2018f3dc3f4bc8811eb16a94f04bea1c"
   },
   "start_time": "2025-08-05T15:35:18.856908",
   "version": "2.6.0"
  }
 },
 "nbformat": 4,
 "nbformat_minor": 5
}