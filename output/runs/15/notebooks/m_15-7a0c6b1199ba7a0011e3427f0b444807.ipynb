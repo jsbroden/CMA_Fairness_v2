{
 "cells": [
  {
   "cell_type": "code",
   "execution_count": 1,
   "id": "f159f837-637b-42ba-96b5-ec9a68c44524",
   "metadata": {
    "execution": {
     "iopub.execute_input": "2025-08-05T15:54:31.020002Z",
     "iopub.status.busy": "2025-08-05T15:54:31.019466Z",
     "iopub.status.idle": "2025-08-05T15:54:31.030521Z",
     "shell.execute_reply": "2025-08-05T15:54:31.029672Z"
    },
    "papermill": {
     "duration": 0.030975,
     "end_time": "2025-08-05T15:54:31.032116",
     "exception": false,
     "start_time": "2025-08-05T15:54:31.001141",
     "status": "completed"
    },
    "tags": []
   },
   "outputs": [
    {
     "name": "stdout",
     "output_type": "stream",
     "text": [
      "/dss/dsshome1/0C/ra93lal2/cma/CMA_Fairness_v2\n"
     ]
    },
    {
     "name": "stderr",
     "output_type": "stream",
     "text": [
      "/dss/dsshome1/0C/ra93lal2/.local/share/virtualenvs/CMA_Fairness_v2-3j10GkSs/lib/python3.10/site-packages/IPython/core/magics/osm.py:393: UserWarning: This is now an optional IPython functionality, using bookmarks requires you to install the `pickleshare` library.\n",
      "  bkms = self.shell.db.get('bookmarks', {})\n",
      "/dss/dsshome1/0C/ra93lal2/.local/share/virtualenvs/CMA_Fairness_v2-3j10GkSs/lib/python3.10/site-packages/IPython/core/magics/osm.py:417: UserWarning: This is now an optional IPython functionality, setting dhist requires you to install the `pickleshare` library.\n",
      "  self.shell.db['dhist'] = compress_dhist(dhist)[-100:]\n"
     ]
    }
   ],
   "source": [
    "%cd ~/cma/CMA_Fairness_v2"
   ]
  },
  {
   "cell_type": "markdown",
   "id": "de2603b9",
   "metadata": {
    "papermill": {
     "duration": 0.019157,
     "end_time": "2025-08-05T15:54:31.063627",
     "exception": false,
     "start_time": "2025-08-05T15:54:31.044470",
     "status": "completed"
    },
    "tags": []
   },
   "source": [
    "The following cell holds the definition of our parameters, these values can be overriden by rendering the with e.g. the following command:\n",
    "\n",
    "papermill -p alpha 0.2 -p ratio 0.3 universe_analysis.ipynb output/test_run.ipynb"
   ]
  },
  {
   "cell_type": "code",
   "execution_count": 2,
   "id": "a80968a0-40bb-4fa9-85ef-2d5eefb01975",
   "metadata": {
    "execution": {
     "iopub.execute_input": "2025-08-05T15:54:31.098696Z",
     "iopub.status.busy": "2025-08-05T15:54:31.098207Z",
     "iopub.status.idle": "2025-08-05T15:54:31.104200Z",
     "shell.execute_reply": "2025-08-05T15:54:31.103042Z"
    },
    "papermill": {
     "duration": 0.025265,
     "end_time": "2025-08-05T15:54:31.106108",
     "exception": false,
     "start_time": "2025-08-05T15:54:31.080843",
     "status": "completed"
    },
    "tags": []
   },
   "outputs": [
    {
     "name": "stdout",
     "output_type": "stream",
     "text": [
      "Current working directory: /dss/dsshome1/0C/ra93lal2/cma/CMA_Fairness_v2\n"
     ]
    }
   ],
   "source": [
    "import os\n",
    "print(\"Current working directory:\", os.getcwd())"
   ]
  },
  {
   "cell_type": "code",
   "execution_count": 3,
   "id": "2dce4c03",
   "metadata": {
    "execution": {
     "iopub.execute_input": "2025-08-05T15:54:31.143160Z",
     "iopub.status.busy": "2025-08-05T15:54:31.142231Z",
     "iopub.status.idle": "2025-08-05T15:54:31.149179Z",
     "shell.execute_reply": "2025-08-05T15:54:31.148094Z"
    },
    "papermill": {
     "duration": 0.027341,
     "end_time": "2025-08-05T15:54:31.151141",
     "exception": false,
     "start_time": "2025-08-05T15:54:31.123800",
     "status": "completed"
    },
    "tags": [
     "parameters"
    ]
   },
   "outputs": [],
   "source": [
    "run_no = 0\n",
    "universe_id = \"test\"\n",
    "universe = {\n",
    "    \"training_size\": \"25k\", # \"25k\", \"5k\", \"1k\"\n",
    "    \"training_year\": \"2014\", # \"2014\", \"2012_14\", \"2010_14\"\n",
    "    \"scale\": \"scale\", # \"scale\", \"do-not-scale\",\n",
    "    \"model\": \"elasticnet\", # \"logreg\", \"penalized_logreg\", \"rf\", \"gbm\", \"elasticnet\"\n",
    "    \"cutoff\": [\"quantile_0.15\", \"quantile_0.30\"],\n",
    "    \"exclude_features\": \"age\", # \"none\", \"nationality\", \"sex\", \"nationality-sex\", \"age\"\n",
    "    \"exclude_subgroups\": \"keep-all\", # \"keep-all\", \"drop-non-german\"\n",
    "    \"eval_fairness_grouping\": [\"majority-minority\", \"nationality-all\"]\n",
    "}\n",
    "\n",
    "output_dir=\"./output\"\n",
    "seed=0"
   ]
  },
  {
   "cell_type": "code",
   "execution_count": 4,
   "id": "1f36bb3b",
   "metadata": {
    "execution": {
     "iopub.execute_input": "2025-08-05T15:54:31.186979Z",
     "iopub.status.busy": "2025-08-05T15:54:31.186268Z",
     "iopub.status.idle": "2025-08-05T15:54:31.191628Z",
     "shell.execute_reply": "2025-08-05T15:54:31.190571Z"
    },
    "papermill": {
     "duration": 0.024011,
     "end_time": "2025-08-05T15:54:31.193421",
     "exception": false,
     "start_time": "2025-08-05T15:54:31.169410",
     "status": "completed"
    },
    "tags": [
     "injected-parameters"
    ]
   },
   "outputs": [],
   "source": [
    "# Parameters\n",
    "universe_id = \"7a0c6b1199ba7a0011e3427f0b444807\"\n",
    "run_no = \"15\"\n",
    "universe = \"{\\\"cutoff\\\": [\\\"quantile_0.1\\\", \\\"quantile_0.25\\\"], \\\"eval_fairness_grouping\\\": [\\\"majority-minority\\\", \\\"nationality-all\\\"], \\\"exclude_features\\\": \\\"none\\\", \\\"exclude_subgroups\\\": \\\"keep-all\\\", \\\"model\\\": \\\"logreg\\\", \\\"scale\\\": \\\"do-not-scale\\\", \\\"training_size\\\": \\\"5k\\\", \\\"training_year\\\": \\\"2010_14\\\"}\"\n",
    "output_dir = \"output\"\n",
    "seed = \"2023\"\n"
   ]
  },
  {
   "cell_type": "code",
   "execution_count": 5,
   "id": "1650acaf",
   "metadata": {
    "execution": {
     "iopub.execute_input": "2025-08-05T15:54:31.231234Z",
     "iopub.status.busy": "2025-08-05T15:54:31.230417Z",
     "iopub.status.idle": "2025-08-05T15:54:31.235885Z",
     "shell.execute_reply": "2025-08-05T15:54:31.234832Z"
    },
    "papermill": {
     "duration": 0.026058,
     "end_time": "2025-08-05T15:54:31.237766",
     "exception": false,
     "start_time": "2025-08-05T15:54:31.211708",
     "status": "completed"
    },
    "tags": []
   },
   "outputs": [],
   "source": [
    "import json\n",
    "if isinstance(universe, str):\n",
    "    universe = json.loads(universe)"
   ]
  },
  {
   "cell_type": "code",
   "execution_count": 6,
   "id": "16620c48",
   "metadata": {
    "execution": {
     "iopub.execute_input": "2025-08-05T15:54:31.274109Z",
     "iopub.status.busy": "2025-08-05T15:54:31.273624Z",
     "iopub.status.idle": "2025-08-05T15:54:31.320264Z",
     "shell.execute_reply": "2025-08-05T15:54:31.319253Z"
    },
    "papermill": {
     "duration": 0.066312,
     "end_time": "2025-08-05T15:54:31.322287",
     "exception": false,
     "start_time": "2025-08-05T15:54:31.255975",
     "status": "completed"
    },
    "tags": []
   },
   "outputs": [],
   "source": [
    "# Auto-reload the custom package\n",
    "%load_ext autoreload\n",
    "%autoreload 1\n",
    "%aimport fairness_multiverse"
   ]
  },
  {
   "cell_type": "code",
   "execution_count": 7,
   "id": "01c5c9f3",
   "metadata": {
    "execution": {
     "iopub.execute_input": "2025-08-05T15:54:31.359186Z",
     "iopub.status.busy": "2025-08-05T15:54:31.358325Z",
     "iopub.status.idle": "2025-08-05T15:54:33.400043Z",
     "shell.execute_reply": "2025-08-05T15:54:33.398746Z"
    },
    "papermill": {
     "duration": 2.06127,
     "end_time": "2025-08-05T15:54:33.401834",
     "exception": false,
     "start_time": "2025-08-05T15:54:31.340564",
     "status": "completed"
    },
    "tags": []
   },
   "outputs": [],
   "source": [
    "from fairness_multiverse.universe import UniverseAnalysis\n",
    "\n",
    "universe_analysis = UniverseAnalysis(\n",
    "    run_no = run_no,\n",
    "    universe_id = universe_id,\n",
    "    universe = universe,\n",
    "    output_dir=output_dir,\n",
    ")"
   ]
  },
  {
   "cell_type": "code",
   "execution_count": 8,
   "id": "106241f5",
   "metadata": {
    "execution": {
     "iopub.execute_input": "2025-08-05T15:54:33.442778Z",
     "iopub.status.busy": "2025-08-05T15:54:33.441949Z",
     "iopub.status.idle": "2025-08-05T15:54:33.451220Z",
     "shell.execute_reply": "2025-08-05T15:54:33.449904Z"
    },
    "papermill": {
     "duration": 0.031966,
     "end_time": "2025-08-05T15:54:33.453136",
     "exception": false,
     "start_time": "2025-08-05T15:54:33.421170",
     "status": "completed"
    },
    "tags": []
   },
   "outputs": [
    {
     "name": "stdout",
     "output_type": "stream",
     "text": [
      "Using Seed: 2023\n"
     ]
    }
   ],
   "source": [
    "import numpy as np\n",
    "parsed_seed = int(seed)\n",
    "np.random.seed(parsed_seed)\n",
    "print(f\"Using Seed: {parsed_seed}\")"
   ]
  },
  {
   "cell_type": "markdown",
   "id": "e0ebdc57",
   "metadata": {
    "papermill": {
     "duration": 0.019768,
     "end_time": "2025-08-05T15:54:33.493928",
     "exception": false,
     "start_time": "2025-08-05T15:54:33.474160",
     "status": "completed"
    },
    "tags": []
   },
   "source": [
    "# Loading Data"
   ]
  },
  {
   "cell_type": "code",
   "execution_count": 9,
   "id": "f0496b8a",
   "metadata": {
    "execution": {
     "iopub.execute_input": "2025-08-05T15:54:33.521593Z",
     "iopub.status.busy": "2025-08-05T15:54:33.521029Z",
     "iopub.status.idle": "2025-08-05T15:54:46.415325Z",
     "shell.execute_reply": "2025-08-05T15:54:46.414031Z"
    },
    "papermill": {
     "duration": 12.907776,
     "end_time": "2025-08-05T15:54:46.417060",
     "exception": false,
     "start_time": "2025-08-05T15:54:33.509284",
     "status": "completed"
    },
    "tags": []
   },
   "outputs": [
    {
     "name": "stdout",
     "output_type": "stream",
     "text": [
      "Loading SIAB data from cache: data/siab_cached.csv.gz\n"
     ]
    },
    {
     "name": "stdout",
     "output_type": "stream",
     "text": [
      "(643690, 164)\n"
     ]
    }
   ],
   "source": [
    "from pathlib import Path\n",
    "import pandas as pd\n",
    "\n",
    "# File paths\n",
    "raw_file = Path(\"data/raw/siab.csv\")\n",
    "cache_file = Path(\"data/siab_cached.csv.gz\")\n",
    "\n",
    "# Ensure cache directory exists\n",
    "cache_file.parent.mkdir(parents=True, exist_ok=True)\n",
    "\n",
    "# Load with simple caching\n",
    "if cache_file.exists():\n",
    "    print(f\"Loading SIAB data from cache: {cache_file}\")\n",
    "    siab = pd.read_csv(cache_file, compression='gzip')\n",
    "else:\n",
    "    print(f\"Cache not found. Reading raw SIAB data: {raw_file}\")\n",
    "    siab = pd.read_csv(raw_file)\n",
    "    siab.to_csv(cache_file, index=False, compression='gzip')\n",
    "    print(f\"Cached SIAB data to: {cache_file}\")\n",
    "\n",
    "print(siab.shape)"
   ]
  },
  {
   "cell_type": "code",
   "execution_count": 10,
   "id": "db0ca512-5f53-4dba-abdb-a2888bca41ba",
   "metadata": {
    "execution": {
     "iopub.execute_input": "2025-08-05T15:54:46.462516Z",
     "iopub.status.busy": "2025-08-05T15:54:46.462007Z",
     "iopub.status.idle": "2025-08-05T15:54:46.468667Z",
     "shell.execute_reply": "2025-08-05T15:54:46.467547Z"
    },
    "papermill": {
     "duration": 0.029384,
     "end_time": "2025-08-05T15:54:46.470765",
     "exception": false,
     "start_time": "2025-08-05T15:54:46.441381",
     "status": "completed"
    },
    "tags": []
   },
   "outputs": [],
   "source": [
    "#siab"
   ]
  },
  {
   "cell_type": "markdown",
   "id": "997051c5-15bd-4b69-9786-c3001a3ce484",
   "metadata": {
    "papermill": {
     "duration": 0.019519,
     "end_time": "2025-08-05T15:54:46.510726",
     "exception": false,
     "start_time": "2025-08-05T15:54:46.491207",
     "status": "completed"
    },
    "tags": []
   },
   "source": [
    "# Splitting Data and Setting Training Data Size"
   ]
  },
  {
   "cell_type": "code",
   "execution_count": 11,
   "id": "aea9c6ef-6f46-42c8-85eb-5a62025c1508",
   "metadata": {
    "execution": {
     "iopub.execute_input": "2025-08-05T15:54:46.554741Z",
     "iopub.status.busy": "2025-08-05T15:54:46.554027Z",
     "iopub.status.idle": "2025-08-05T15:54:47.601139Z",
     "shell.execute_reply": "2025-08-05T15:54:47.600169Z"
    },
    "papermill": {
     "duration": 1.07106,
     "end_time": "2025-08-05T15:54:47.603252",
     "exception": false,
     "start_time": "2025-08-05T15:54:46.532192",
     "status": "completed"
    },
    "tags": []
   },
   "outputs": [],
   "source": [
    "from fairness_multiverse.universe import sample_by_year_size\n",
    "\n",
    "siab_train = sample_by_year_size(siab,\n",
    "                               training_year=universe[\"training_year\"],\n",
    "                               training_size=universe[\"training_size\"])"
   ]
  },
  {
   "cell_type": "code",
   "execution_count": 12,
   "id": "8d3afb32-789d-442c-8d5d-9f5aa8dd2eed",
   "metadata": {
    "execution": {
     "iopub.execute_input": "2025-08-05T15:54:47.642166Z",
     "iopub.status.busy": "2025-08-05T15:54:47.641650Z",
     "iopub.status.idle": "2025-08-05T15:54:47.646605Z",
     "shell.execute_reply": "2025-08-05T15:54:47.645726Z"
    },
    "papermill": {
     "duration": 0.026892,
     "end_time": "2025-08-05T15:54:47.648748",
     "exception": false,
     "start_time": "2025-08-05T15:54:47.621856",
     "status": "completed"
    },
    "tags": []
   },
   "outputs": [],
   "source": [
    "#siab_train.shape"
   ]
  },
  {
   "cell_type": "code",
   "execution_count": 13,
   "id": "d582db68-1a4c-47fb-84fc-08518dc1975a",
   "metadata": {
    "execution": {
     "iopub.execute_input": "2025-08-05T15:54:47.687859Z",
     "iopub.status.busy": "2025-08-05T15:54:47.687409Z",
     "iopub.status.idle": "2025-08-05T15:54:47.692354Z",
     "shell.execute_reply": "2025-08-05T15:54:47.691418Z"
    },
    "papermill": {
     "duration": 0.025265,
     "end_time": "2025-08-05T15:54:47.694068",
     "exception": false,
     "start_time": "2025-08-05T15:54:47.668803",
     "status": "completed"
    },
    "tags": []
   },
   "outputs": [],
   "source": [
    "#display(siab_train.groupby(\"year\").size())"
   ]
  },
  {
   "cell_type": "code",
   "execution_count": 14,
   "id": "a561edb4-d032-42cb-8256-22eac1111c64",
   "metadata": {
    "execution": {
     "iopub.execute_input": "2025-08-05T15:54:47.733988Z",
     "iopub.status.busy": "2025-08-05T15:54:47.733291Z",
     "iopub.status.idle": "2025-08-05T15:54:47.968382Z",
     "shell.execute_reply": "2025-08-05T15:54:47.967060Z"
    },
    "papermill": {
     "duration": 0.256788,
     "end_time": "2025-08-05T15:54:47.970550",
     "exception": false,
     "start_time": "2025-08-05T15:54:47.713762",
     "status": "completed"
    },
    "tags": []
   },
   "outputs": [],
   "source": [
    "#siab_train = siab_s[siab_s.year < 2015]\n",
    "siab_calib = siab[siab.year == 2015]\n",
    "siab_test = siab[siab.year == 2016]"
   ]
  },
  {
   "cell_type": "code",
   "execution_count": 15,
   "id": "472de16f-c3db-4916-846b-1f0de9cf1746",
   "metadata": {
    "execution": {
     "iopub.execute_input": "2025-08-05T15:54:48.010178Z",
     "iopub.status.busy": "2025-08-05T15:54:48.009334Z",
     "iopub.status.idle": "2025-08-05T15:54:48.018855Z",
     "shell.execute_reply": "2025-08-05T15:54:48.017818Z"
    },
    "papermill": {
     "duration": 0.030863,
     "end_time": "2025-08-05T15:54:48.020773",
     "exception": false,
     "start_time": "2025-08-05T15:54:47.989910",
     "status": "completed"
    },
    "tags": []
   },
   "outputs": [],
   "source": [
    "X_train = siab_train.iloc[:,4:164]\n",
    "y_train = siab_train.iloc[:, [3]]"
   ]
  },
  {
   "cell_type": "code",
   "execution_count": 16,
   "id": "828c96af-f43a-4ed6-ba47-8ac73a47d56c",
   "metadata": {
    "execution": {
     "iopub.execute_input": "2025-08-05T15:54:48.058413Z",
     "iopub.status.busy": "2025-08-05T15:54:48.057725Z",
     "iopub.status.idle": "2025-08-05T15:54:48.115642Z",
     "shell.execute_reply": "2025-08-05T15:54:48.114519Z"
    },
    "papermill": {
     "duration": 0.078479,
     "end_time": "2025-08-05T15:54:48.117936",
     "exception": false,
     "start_time": "2025-08-05T15:54:48.039457",
     "status": "completed"
    },
    "tags": []
   },
   "outputs": [],
   "source": [
    "X_calib = siab_calib.iloc[:,4:164]\n",
    "y_calib = siab_calib.iloc[:, [3]]"
   ]
  },
  {
   "cell_type": "code",
   "execution_count": 17,
   "id": "c34be9c3-6bd6-476e-acd3-845840e303be",
   "metadata": {
    "execution": {
     "iopub.execute_input": "2025-08-05T15:54:48.159074Z",
     "iopub.status.busy": "2025-08-05T15:54:48.158422Z",
     "iopub.status.idle": "2025-08-05T15:54:48.212694Z",
     "shell.execute_reply": "2025-08-05T15:54:48.211915Z"
    },
    "papermill": {
     "duration": 0.076635,
     "end_time": "2025-08-05T15:54:48.214204",
     "exception": false,
     "start_time": "2025-08-05T15:54:48.137569",
     "status": "completed"
    },
    "tags": []
   },
   "outputs": [],
   "source": [
    "X_test = siab_test.iloc[:,4:164]\n",
    "y_true = siab_test.iloc[:, [3]]"
   ]
  },
  {
   "cell_type": "code",
   "execution_count": 18,
   "id": "e6c733c5",
   "metadata": {
    "execution": {
     "iopub.execute_input": "2025-08-05T15:54:48.239991Z",
     "iopub.status.busy": "2025-08-05T15:54:48.239395Z",
     "iopub.status.idle": "2025-08-05T15:54:48.331253Z",
     "shell.execute_reply": "2025-08-05T15:54:48.330451Z"
    },
    "papermill": {
     "duration": 0.107329,
     "end_time": "2025-08-05T15:54:48.332758",
     "exception": false,
     "start_time": "2025-08-05T15:54:48.225429",
     "status": "completed"
    },
    "tags": []
   },
   "outputs": [],
   "source": [
    "# Auxiliary data needed downstream in the pipeline\n",
    "\n",
    "org_train = X_train.copy()\n",
    "org_test = X_test.copy()\n",
    "org_calib = X_calib.copy()"
   ]
  },
  {
   "cell_type": "markdown",
   "id": "0a4a1b33",
   "metadata": {
    "papermill": {
     "duration": 0.009782,
     "end_time": "2025-08-05T15:54:48.356056",
     "exception": false,
     "start_time": "2025-08-05T15:54:48.346274",
     "status": "completed"
    },
    "tags": []
   },
   "source": [
    "# Preprocessing Data"
   ]
  },
  {
   "cell_type": "code",
   "execution_count": 19,
   "id": "ca879031",
   "metadata": {
    "execution": {
     "iopub.execute_input": "2025-08-05T15:54:48.375424Z",
     "iopub.status.busy": "2025-08-05T15:54:48.374738Z",
     "iopub.status.idle": "2025-08-05T15:54:48.379781Z",
     "shell.execute_reply": "2025-08-05T15:54:48.379003Z"
    },
    "papermill": {
     "duration": 0.01626,
     "end_time": "2025-08-05T15:54:48.381272",
     "exception": false,
     "start_time": "2025-08-05T15:54:48.365012",
     "status": "completed"
    },
    "tags": []
   },
   "outputs": [],
   "source": [
    "# EXCLUDE PROTECTED FEATURES\n",
    "# ----------------------\n",
    "# \"exclude_features\": \"none\", # \"nationality\", \"sex\", \"nationality-sex\"\n",
    "\n",
    "excluded_features = universe[\"exclude_features\"].split(\"-\") # split, e.g.: \"nationality-sex\" -> [\"nationality\", \"sex\"]\n",
    "excluded_features_dictionary = {\n",
    "    \"nationality\": [\"maxdeutsch1\", \"maxdeutsch.Missing.\"],\n",
    "    \"sex\": [\"frau1\"],\n",
    "    \"age\": [\"age\"],\n",
    "}"
   ]
  },
  {
   "cell_type": "code",
   "execution_count": 20,
   "id": "b745ac60",
   "metadata": {
    "execution": {
     "iopub.execute_input": "2025-08-05T15:54:48.406093Z",
     "iopub.status.busy": "2025-08-05T15:54:48.405304Z",
     "iopub.status.idle": "2025-08-05T15:54:48.409896Z",
     "shell.execute_reply": "2025-08-05T15:54:48.409152Z"
    },
    "papermill": {
     "duration": 0.0179,
     "end_time": "2025-08-05T15:54:48.411333",
     "exception": false,
     "start_time": "2025-08-05T15:54:48.393433",
     "status": "completed"
    },
    "tags": []
   },
   "outputs": [],
   "source": [
    "# Code nice names to column names\n",
    "\n",
    "excluded_features_columns = [\n",
    "    excluded_features_dictionary[f] for f in excluded_features if len(f) > 0 and f != \"none\"\n",
    "]"
   ]
  },
  {
   "cell_type": "code",
   "execution_count": 21,
   "id": "f84f73a2",
   "metadata": {
    "execution": {
     "iopub.execute_input": "2025-08-05T15:54:48.432492Z",
     "iopub.status.busy": "2025-08-05T15:54:48.431805Z",
     "iopub.status.idle": "2025-08-05T15:54:48.437237Z",
     "shell.execute_reply": "2025-08-05T15:54:48.436485Z"
    },
    "papermill": {
     "duration": 0.017129,
     "end_time": "2025-08-05T15:54:48.438777",
     "exception": false,
     "start_time": "2025-08-05T15:54:48.421648",
     "status": "completed"
    },
    "tags": []
   },
   "outputs": [],
   "source": [
    "from utils import flatten_once\n",
    "\n",
    "excluded_features_columns = flatten_once(excluded_features_columns)"
   ]
  },
  {
   "cell_type": "code",
   "execution_count": 22,
   "id": "884dea22",
   "metadata": {
    "execution": {
     "iopub.execute_input": "2025-08-05T15:54:48.469729Z",
     "iopub.status.busy": "2025-08-05T15:54:48.469278Z",
     "iopub.status.idle": "2025-08-05T15:54:48.474963Z",
     "shell.execute_reply": "2025-08-05T15:54:48.474011Z"
    },
    "papermill": {
     "duration": 0.027441,
     "end_time": "2025-08-05T15:54:48.476830",
     "exception": false,
     "start_time": "2025-08-05T15:54:48.449389",
     "status": "completed"
    },
    "tags": []
   },
   "outputs": [],
   "source": [
    "if len(excluded_features_columns) > 0:\n",
    "    print(f\"Dropping features: {excluded_features_columns}\")\n",
    "    X_train.drop(excluded_features_columns, axis=1, inplace=True)"
   ]
  },
  {
   "cell_type": "code",
   "execution_count": 23,
   "id": "95ab8b16",
   "metadata": {
    "execution": {
     "iopub.execute_input": "2025-08-05T15:54:48.511848Z",
     "iopub.status.busy": "2025-08-05T15:54:48.511432Z",
     "iopub.status.idle": "2025-08-05T15:54:48.516897Z",
     "shell.execute_reply": "2025-08-05T15:54:48.515990Z"
    },
    "papermill": {
     "duration": 0.021651,
     "end_time": "2025-08-05T15:54:48.518955",
     "exception": false,
     "start_time": "2025-08-05T15:54:48.497304",
     "status": "completed"
    },
    "tags": []
   },
   "outputs": [],
   "source": [
    "if len(excluded_features_columns) > 0:\n",
    "    print(f\"Dropping features: {excluded_features_columns}\")\n",
    "    X_test.drop(excluded_features_columns, axis=1, inplace=True)"
   ]
  },
  {
   "cell_type": "code",
   "execution_count": 24,
   "id": "1853aaf5-fb9f-46cb-a2b5-8ea4ae2237e4",
   "metadata": {
    "execution": {
     "iopub.execute_input": "2025-08-05T15:54:48.560045Z",
     "iopub.status.busy": "2025-08-05T15:54:48.559388Z",
     "iopub.status.idle": "2025-08-05T15:54:48.565511Z",
     "shell.execute_reply": "2025-08-05T15:54:48.564466Z"
    },
    "papermill": {
     "duration": 0.026964,
     "end_time": "2025-08-05T15:54:48.567543",
     "exception": false,
     "start_time": "2025-08-05T15:54:48.540579",
     "status": "completed"
    },
    "tags": []
   },
   "outputs": [],
   "source": [
    "if len(excluded_features_columns) > 0:\n",
    "    print(f\"Dropping features: {excluded_features_columns}\")\n",
    "    X_calib.drop(excluded_features_columns, axis=1, inplace=True)"
   ]
  },
  {
   "cell_type": "code",
   "execution_count": 25,
   "id": "76c4dc6d",
   "metadata": {
    "execution": {
     "iopub.execute_input": "2025-08-05T15:54:48.603880Z",
     "iopub.status.busy": "2025-08-05T15:54:48.603300Z",
     "iopub.status.idle": "2025-08-05T15:54:48.608496Z",
     "shell.execute_reply": "2025-08-05T15:54:48.607504Z"
    },
    "papermill": {
     "duration": 0.024586,
     "end_time": "2025-08-05T15:54:48.610540",
     "exception": false,
     "start_time": "2025-08-05T15:54:48.585954",
     "status": "completed"
    },
    "tags": []
   },
   "outputs": [],
   "source": [
    "# EXCLUDE CERTAIN SUBGROUPS\n",
    "# ----------------------\n",
    "\n",
    "mode = universe.get(\"exclude_subgroups\", \"keep-all\") \n",
    "# Fetches the exclude_subgroups setting from the universe dict.\n",
    "# Defaults to \"keep-all\" if the key is missing."
   ]
  },
  {
   "cell_type": "code",
   "execution_count": 26,
   "id": "21994072",
   "metadata": {
    "execution": {
     "iopub.execute_input": "2025-08-05T15:54:48.645510Z",
     "iopub.status.busy": "2025-08-05T15:54:48.645086Z",
     "iopub.status.idle": "2025-08-05T15:54:48.651800Z",
     "shell.execute_reply": "2025-08-05T15:54:48.650882Z"
    },
    "papermill": {
     "duration": 0.025323,
     "end_time": "2025-08-05T15:54:48.653264",
     "exception": false,
     "start_time": "2025-08-05T15:54:48.627941",
     "status": "completed"
    },
    "tags": []
   },
   "outputs": [],
   "source": [
    "if mode == \"keep-all\":\n",
    "    keep_mask = pd.Series(True, index=org_train.index)\n",
    "\n",
    "# org_train contains the original feature columns from features_org (in Simson)\n",
    "# features_org contains unprocessed features, for me X_train at beginning ???\n",
    "# For keep-all, creates a boolean Series (keep_mask) of all True, so no rows are removed.\n",
    "\n",
    "elif mode == \"drop-non-german\":\n",
    "    keep_mask = org_train[\"maxdeutsch1\"] == 1 # ??? what about missing values?\n",
    "\n",
    "else:\n",
    "    raise ValueError(f\"Unsupported mode for exclude_subgroups: {mode}\")"
   ]
  },
  {
   "cell_type": "code",
   "execution_count": 27,
   "id": "71651440",
   "metadata": {
    "execution": {
     "iopub.execute_input": "2025-08-05T15:54:48.692277Z",
     "iopub.status.busy": "2025-08-05T15:54:48.691735Z",
     "iopub.status.idle": "2025-08-05T15:54:48.719142Z",
     "shell.execute_reply": "2025-08-05T15:54:48.718079Z"
    },
    "papermill": {
     "duration": 0.048099,
     "end_time": "2025-08-05T15:54:48.720854",
     "exception": false,
     "start_time": "2025-08-05T15:54:48.672755",
     "status": "completed"
    },
    "tags": []
   },
   "outputs": [],
   "source": [
    "n_drop = (~keep_mask).sum() # Calculates how many rows are set to be dropped\n",
    "if n_drop > 0:\n",
    "    pct = n_drop / len(keep_mask) * 100\n",
    "    print(f\"Dropping {n_drop} rows ({pct:.2f}%) where mode='{mode}'\")"
   ]
  },
  {
   "cell_type": "code",
   "execution_count": 28,
   "id": "5fb8eee5",
   "metadata": {
    "execution": {
     "iopub.execute_input": "2025-08-05T15:54:48.759710Z",
     "iopub.status.busy": "2025-08-05T15:54:48.758938Z",
     "iopub.status.idle": "2025-08-05T15:54:48.766962Z",
     "shell.execute_reply": "2025-08-05T15:54:48.765744Z"
    },
    "papermill": {
     "duration": 0.030295,
     "end_time": "2025-08-05T15:54:48.768715",
     "exception": false,
     "start_time": "2025-08-05T15:54:48.738420",
     "status": "completed"
    },
    "tags": []
   },
   "outputs": [],
   "source": [
    "X_train = X_train[keep_mask]"
   ]
  },
  {
   "cell_type": "code",
   "execution_count": 29,
   "id": "b202bb3a",
   "metadata": {
    "execution": {
     "iopub.execute_input": "2025-08-05T15:54:48.807288Z",
     "iopub.status.busy": "2025-08-05T15:54:48.806425Z",
     "iopub.status.idle": "2025-08-05T15:54:48.812390Z",
     "shell.execute_reply": "2025-08-05T15:54:48.811296Z"
    },
    "papermill": {
     "duration": 0.027641,
     "end_time": "2025-08-05T15:54:48.814483",
     "exception": false,
     "start_time": "2025-08-05T15:54:48.786842",
     "status": "completed"
    },
    "tags": []
   },
   "outputs": [],
   "source": [
    "y_train = y_train[keep_mask]"
   ]
  },
  {
   "cell_type": "markdown",
   "id": "493e2ac3",
   "metadata": {
    "papermill": {
     "duration": 0.024514,
     "end_time": "2025-08-05T15:54:48.863463",
     "exception": false,
     "start_time": "2025-08-05T15:54:48.838949",
     "status": "completed"
    },
    "tags": []
   },
   "source": [
    "# Model Training"
   ]
  },
  {
   "cell_type": "code",
   "execution_count": 30,
   "id": "679e1268",
   "metadata": {
    "execution": {
     "iopub.execute_input": "2025-08-05T15:54:48.901021Z",
     "iopub.status.busy": "2025-08-05T15:54:48.900466Z",
     "iopub.status.idle": "2025-08-05T15:54:49.015592Z",
     "shell.execute_reply": "2025-08-05T15:54:49.014112Z"
    },
    "papermill": {
     "duration": 0.134657,
     "end_time": "2025-08-05T15:54:49.018189",
     "exception": false,
     "start_time": "2025-08-05T15:54:48.883532",
     "status": "completed"
    },
    "tags": []
   },
   "outputs": [],
   "source": [
    "from sklearn.linear_model import LogisticRegression\n",
    "from sklearn.ensemble import GradientBoostingClassifier, RandomForestClassifier\n",
    "\n",
    "if (universe[\"model\"] == \"logreg\"):\n",
    "    model = LogisticRegression() #penalty=\"none\", solver=\"newton-cg\", max_iter=1) # include random_state=19 ?\n",
    "elif (universe[\"model\"] == \"penalized_logreg\"):\n",
    "    model = LogisticRegression(penalty=\"l2\", C=0.1) #, solver=\"newton-cg\", max_iter=1)\n",
    "elif (universe[\"model\"] == \"rf\"):\n",
    "    model = RandomForestClassifier() # n_estimators=100, n_jobs=-1\n",
    "elif (universe[\"model\"] == \"gbm\"):\n",
    "    model = GradientBoostingClassifier()\n",
    "elif (universe[\"model\"] == \"elasticnet\"):\n",
    "    model = LogisticRegression(penalty = 'elasticnet', solver = 'saga', l1_ratio = 0.5) # max_iter=5000\n",
    "else:\n",
    "    raise \"Unsupported universe.model\""
   ]
  },
  {
   "cell_type": "code",
   "execution_count": 31,
   "id": "0cc8f744",
   "metadata": {
    "execution": {
     "iopub.execute_input": "2025-08-05T15:54:49.072301Z",
     "iopub.status.busy": "2025-08-05T15:54:49.071757Z",
     "iopub.status.idle": "2025-08-05T15:54:49.079679Z",
     "shell.execute_reply": "2025-08-05T15:54:49.078396Z"
    },
    "papermill": {
     "duration": 0.037941,
     "end_time": "2025-08-05T15:54:49.082076",
     "exception": false,
     "start_time": "2025-08-05T15:54:49.044135",
     "status": "completed"
    },
    "tags": []
   },
   "outputs": [],
   "source": [
    "import numpy as np\n",
    "from sklearn.pipeline import Pipeline\n",
    "from sklearn.preprocessing import StandardScaler\n",
    "\n",
    "model = Pipeline([\n",
    "    #(\"continuous_processor\", continuous_processor),\n",
    "    #(\"categorical_preprocessor\", categorical_preprocessor),\n",
    "    (\"scale\", StandardScaler() if universe[\"scale\"] == \"scale\" else None), \n",
    "    (\"model\", model),\n",
    "])"
   ]
  },
  {
   "cell_type": "code",
   "execution_count": 32,
   "id": "9442c04d",
   "metadata": {
    "execution": {
     "iopub.execute_input": "2025-08-05T15:54:49.110708Z",
     "iopub.status.busy": "2025-08-05T15:54:49.110359Z",
     "iopub.status.idle": "2025-08-05T15:54:49.210796Z",
     "shell.execute_reply": "2025-08-05T15:54:49.209899Z"
    },
    "papermill": {
     "duration": 0.112218,
     "end_time": "2025-08-05T15:54:49.212040",
     "exception": false,
     "start_time": "2025-08-05T15:54:49.099822",
     "status": "completed"
    },
    "tags": []
   },
   "outputs": [
    {
     "name": "stderr",
     "output_type": "stream",
     "text": [
      "/dss/dsshome1/0C/ra93lal2/.local/share/virtualenvs/CMA_Fairness_v2-3j10GkSs/lib/python3.10/site-packages/sklearn/linear_model/_logistic.py:444: ConvergenceWarning: lbfgs failed to converge (status=1):\n",
      "STOP: TOTAL NO. of ITERATIONS REACHED LIMIT.\n",
      "\n",
      "Increase the number of iterations (max_iter) or scale the data as shown in:\n",
      "    https://scikit-learn.org/stable/modules/preprocessing.html\n",
      "Please also refer to the documentation for alternative solver options:\n",
      "    https://scikit-learn.org/stable/modules/linear_model.html#logistic-regression\n",
      "  n_iter_i = _check_optimize_result(\n"
     ]
    },
    {
     "data": {
      "text/html": [
       "<style>#sk-container-id-1 {color: black;background-color: white;}#sk-container-id-1 pre{padding: 0;}#sk-container-id-1 div.sk-toggleable {background-color: white;}#sk-container-id-1 label.sk-toggleable__label {cursor: pointer;display: block;width: 100%;margin-bottom: 0;padding: 0.3em;box-sizing: border-box;text-align: center;}#sk-container-id-1 label.sk-toggleable__label-arrow:before {content: \"▸\";float: left;margin-right: 0.25em;color: #696969;}#sk-container-id-1 label.sk-toggleable__label-arrow:hover:before {color: black;}#sk-container-id-1 div.sk-estimator:hover label.sk-toggleable__label-arrow:before {color: black;}#sk-container-id-1 div.sk-toggleable__content {max-height: 0;max-width: 0;overflow: hidden;text-align: left;background-color: #f0f8ff;}#sk-container-id-1 div.sk-toggleable__content pre {margin: 0.2em;color: black;border-radius: 0.25em;background-color: #f0f8ff;}#sk-container-id-1 input.sk-toggleable__control:checked~div.sk-toggleable__content {max-height: 200px;max-width: 100%;overflow: auto;}#sk-container-id-1 input.sk-toggleable__control:checked~label.sk-toggleable__label-arrow:before {content: \"▾\";}#sk-container-id-1 div.sk-estimator input.sk-toggleable__control:checked~label.sk-toggleable__label {background-color: #d4ebff;}#sk-container-id-1 div.sk-label input.sk-toggleable__control:checked~label.sk-toggleable__label {background-color: #d4ebff;}#sk-container-id-1 input.sk-hidden--visually {border: 0;clip: rect(1px 1px 1px 1px);clip: rect(1px, 1px, 1px, 1px);height: 1px;margin: -1px;overflow: hidden;padding: 0;position: absolute;width: 1px;}#sk-container-id-1 div.sk-estimator {font-family: monospace;background-color: #f0f8ff;border: 1px dotted black;border-radius: 0.25em;box-sizing: border-box;margin-bottom: 0.5em;}#sk-container-id-1 div.sk-estimator:hover {background-color: #d4ebff;}#sk-container-id-1 div.sk-parallel-item::after {content: \"\";width: 100%;border-bottom: 1px solid gray;flex-grow: 1;}#sk-container-id-1 div.sk-label:hover label.sk-toggleable__label {background-color: #d4ebff;}#sk-container-id-1 div.sk-serial::before {content: \"\";position: absolute;border-left: 1px solid gray;box-sizing: border-box;top: 0;bottom: 0;left: 50%;z-index: 0;}#sk-container-id-1 div.sk-serial {display: flex;flex-direction: column;align-items: center;background-color: white;padding-right: 0.2em;padding-left: 0.2em;position: relative;}#sk-container-id-1 div.sk-item {position: relative;z-index: 1;}#sk-container-id-1 div.sk-parallel {display: flex;align-items: stretch;justify-content: center;background-color: white;position: relative;}#sk-container-id-1 div.sk-item::before, #sk-container-id-1 div.sk-parallel-item::before {content: \"\";position: absolute;border-left: 1px solid gray;box-sizing: border-box;top: 0;bottom: 0;left: 50%;z-index: -1;}#sk-container-id-1 div.sk-parallel-item {display: flex;flex-direction: column;z-index: 1;position: relative;background-color: white;}#sk-container-id-1 div.sk-parallel-item:first-child::after {align-self: flex-end;width: 50%;}#sk-container-id-1 div.sk-parallel-item:last-child::after {align-self: flex-start;width: 50%;}#sk-container-id-1 div.sk-parallel-item:only-child::after {width: 0;}#sk-container-id-1 div.sk-dashed-wrapped {border: 1px dashed gray;margin: 0 0.4em 0.5em 0.4em;box-sizing: border-box;padding-bottom: 0.4em;background-color: white;}#sk-container-id-1 div.sk-label label {font-family: monospace;font-weight: bold;display: inline-block;line-height: 1.2em;}#sk-container-id-1 div.sk-label-container {text-align: center;}#sk-container-id-1 div.sk-container {/* jupyter's `normalize.less` sets `[hidden] { display: none; }` but bootstrap.min.css set `[hidden] { display: none !important; }` so we also need the `!important` here to be able to override the default hidden behavior on the sphinx rendered scikit-learn.org. See: https://github.com/scikit-learn/scikit-learn/issues/21755 */display: inline-block !important;position: relative;}#sk-container-id-1 div.sk-text-repr-fallback {display: none;}</style><div id=\"sk-container-id-1\" class=\"sk-top-container\"><div class=\"sk-text-repr-fallback\"><pre>Pipeline(steps=[(&#x27;scale&#x27;, None), (&#x27;model&#x27;, LogisticRegression())])</pre><b>In a Jupyter environment, please rerun this cell to show the HTML representation or trust the notebook. <br />On GitHub, the HTML representation is unable to render, please try loading this page with nbviewer.org.</b></div><div class=\"sk-container\" hidden><div class=\"sk-item sk-dashed-wrapped\"><div class=\"sk-label-container\"><div class=\"sk-label sk-toggleable\"><input class=\"sk-toggleable__control sk-hidden--visually\" id=\"sk-estimator-id-1\" type=\"checkbox\" ><label for=\"sk-estimator-id-1\" class=\"sk-toggleable__label sk-toggleable__label-arrow\">Pipeline</label><div class=\"sk-toggleable__content\"><pre>Pipeline(steps=[(&#x27;scale&#x27;, None), (&#x27;model&#x27;, LogisticRegression())])</pre></div></div></div><div class=\"sk-serial\"><div class=\"sk-item\"><div class=\"sk-estimator sk-toggleable\"><input class=\"sk-toggleable__control sk-hidden--visually\" id=\"sk-estimator-id-2\" type=\"checkbox\" ><label for=\"sk-estimator-id-2\" class=\"sk-toggleable__label sk-toggleable__label-arrow\">None</label><div class=\"sk-toggleable__content\"><pre>None</pre></div></div></div><div class=\"sk-item\"><div class=\"sk-estimator sk-toggleable\"><input class=\"sk-toggleable__control sk-hidden--visually\" id=\"sk-estimator-id-3\" type=\"checkbox\" ><label for=\"sk-estimator-id-3\" class=\"sk-toggleable__label sk-toggleable__label-arrow\">LogisticRegression</label><div class=\"sk-toggleable__content\"><pre>LogisticRegression()</pre></div></div></div></div></div></div></div>"
      ],
      "text/plain": [
       "Pipeline(steps=[('scale', None), ('model', LogisticRegression())])"
      ]
     },
     "execution_count": 32,
     "metadata": {},
     "output_type": "execute_result"
    }
   ],
   "source": [
    "model.fit(X_train, y_train.values.ravel())"
   ]
  },
  {
   "cell_type": "code",
   "execution_count": 33,
   "id": "af59f8c0",
   "metadata": {
    "execution": {
     "iopub.execute_input": "2025-08-05T15:54:49.234612Z",
     "iopub.status.busy": "2025-08-05T15:54:49.234265Z",
     "iopub.status.idle": "2025-08-05T15:54:49.238797Z",
     "shell.execute_reply": "2025-08-05T15:54:49.237972Z"
    },
    "papermill": {
     "duration": 0.017148,
     "end_time": "2025-08-05T15:54:49.240309",
     "exception": false,
     "start_time": "2025-08-05T15:54:49.223161",
     "status": "completed"
    },
    "tags": []
   },
   "outputs": [],
   "source": [
    "from fairness_multiverse.universe import predict_w_threshold"
   ]
  },
  {
   "cell_type": "code",
   "execution_count": 34,
   "id": "a7cf2e16",
   "metadata": {
    "execution": {
     "iopub.execute_input": "2025-08-05T15:54:49.273785Z",
     "iopub.status.busy": "2025-08-05T15:54:49.273283Z",
     "iopub.status.idle": "2025-08-05T15:54:49.366269Z",
     "shell.execute_reply": "2025-08-05T15:54:49.365412Z"
    },
    "papermill": {
     "duration": 0.116721,
     "end_time": "2025-08-05T15:54:49.367702",
     "exception": false,
     "start_time": "2025-08-05T15:54:49.250981",
     "status": "completed"
    },
    "tags": []
   },
   "outputs": [
    {
     "data": {
      "text/plain": [
       "0.8604391929550774"
      ]
     },
     "execution_count": 34,
     "metadata": {},
     "output_type": "execute_result"
    }
   ],
   "source": [
    "probs_test = model.predict_proba(X_test)\n",
    "\n",
    "'''\n",
    "Below code returns a boolean array (or binary 0/1 array depending on how it’s used) where each element \n",
    "is True if the probability of class 1 is greater than or equal to the threshold, and False otherwise.\n",
    "'''\n",
    "y_pred_default = predict_w_threshold(probs_test, 0.5)\n",
    "\n",
    "from sklearn.metrics import accuracy_score\n",
    "\n",
    "# Naive prediction\n",
    "accuracy_score(y_true = y_true, y_pred = y_pred_default)"
   ]
  },
  {
   "cell_type": "code",
   "execution_count": 35,
   "id": "081964c3",
   "metadata": {
    "execution": {
     "iopub.execute_input": "2025-08-05T15:54:49.393600Z",
     "iopub.status.busy": "2025-08-05T15:54:49.393196Z",
     "iopub.status.idle": "2025-08-05T15:54:49.472995Z",
     "shell.execute_reply": "2025-08-05T15:54:49.472123Z"
    },
    "papermill": {
     "duration": 0.095826,
     "end_time": "2025-08-05T15:54:49.474417",
     "exception": false,
     "start_time": "2025-08-05T15:54:49.378591",
     "status": "completed"
    },
    "tags": []
   },
   "outputs": [
    {
     "data": {
      "text/plain": [
       "array([0, 0, 0, ..., 0, 0, 0])"
      ]
     },
     "execution_count": 35,
     "metadata": {},
     "output_type": "execute_result"
    }
   ],
   "source": [
    "model.predict(X_test)"
   ]
  },
  {
   "cell_type": "markdown",
   "id": "56c9705b",
   "metadata": {
    "papermill": {
     "duration": 0.009894,
     "end_time": "2025-08-05T15:54:49.495080",
     "exception": false,
     "start_time": "2025-08-05T15:54:49.485186",
     "status": "completed"
    },
    "tags": []
   },
   "source": [
    "# Conformal Prediction"
   ]
  },
  {
   "cell_type": "code",
   "execution_count": 36,
   "id": "160ec6ff",
   "metadata": {
    "execution": {
     "iopub.execute_input": "2025-08-05T15:54:49.528882Z",
     "iopub.status.busy": "2025-08-05T15:54:49.527938Z",
     "iopub.status.idle": "2025-08-05T15:54:49.533328Z",
     "shell.execute_reply": "2025-08-05T15:54:49.532342Z"
    },
    "papermill": {
     "duration": 0.02912,
     "end_time": "2025-08-05T15:54:49.535219",
     "exception": false,
     "start_time": "2025-08-05T15:54:49.506099",
     "status": "completed"
    },
    "tags": []
   },
   "outputs": [],
   "source": [
    "# Miscoverage level for conformal prediction (10% allowed error rate => 90% target coverage)\n",
    "alpha = 0.1"
   ]
  },
  {
   "cell_type": "code",
   "execution_count": 37,
   "id": "eadf4555-3dd3-440e-8e35-f82a4ad9f855",
   "metadata": {
    "execution": {
     "iopub.execute_input": "2025-08-05T15:54:49.576121Z",
     "iopub.status.busy": "2025-08-05T15:54:49.575456Z",
     "iopub.status.idle": "2025-08-05T15:54:49.663795Z",
     "shell.execute_reply": "2025-08-05T15:54:49.662637Z"
    },
    "papermill": {
     "duration": 0.11068,
     "end_time": "2025-08-05T15:54:49.666359",
     "exception": false,
     "start_time": "2025-08-05T15:54:49.555679",
     "status": "completed"
    },
    "tags": []
   },
   "outputs": [],
   "source": [
    "probs_calib = model.predict_proba(X_calib)"
   ]
  },
  {
   "cell_type": "code",
   "execution_count": 38,
   "id": "2ed93547-6d5d-4983-9b36-1ecb300da49a",
   "metadata": {
    "execution": {
     "iopub.execute_input": "2025-08-05T15:54:49.713091Z",
     "iopub.status.busy": "2025-08-05T15:54:49.712138Z",
     "iopub.status.idle": "2025-08-05T15:54:49.719063Z",
     "shell.execute_reply": "2025-08-05T15:54:49.717873Z"
    },
    "papermill": {
     "duration": 0.031891,
     "end_time": "2025-08-05T15:54:49.721336",
     "exception": false,
     "start_time": "2025-08-05T15:54:49.689445",
     "status": "completed"
    },
    "tags": []
   },
   "outputs": [],
   "source": [
    "y_calib = y_calib.values.ravel().astype(int)"
   ]
  },
  {
   "cell_type": "code",
   "execution_count": 39,
   "id": "65d1320d-f588-4b38-9072-62af1ae97f7d",
   "metadata": {
    "execution": {
     "iopub.execute_input": "2025-08-05T15:54:49.771539Z",
     "iopub.status.busy": "2025-08-05T15:54:49.770720Z",
     "iopub.status.idle": "2025-08-05T15:54:49.778576Z",
     "shell.execute_reply": "2025-08-05T15:54:49.777455Z"
    },
    "papermill": {
     "duration": 0.03393,
     "end_time": "2025-08-05T15:54:49.780360",
     "exception": false,
     "start_time": "2025-08-05T15:54:49.746430",
     "status": "completed"
    },
    "tags": []
   },
   "outputs": [],
   "source": [
    "from fairness_multiverse.conformal import compute_nc_scores\n",
    "\n",
    "# Compute nonconformity scores on calibration set (1 - probability of true class)\n",
    "nc_scores = compute_nc_scores(probs_calib, y_calib)"
   ]
  },
  {
   "cell_type": "code",
   "execution_count": 40,
   "id": "df3b8ca3-53b7-43d5-9667-7c85da7aeda2",
   "metadata": {
    "execution": {
     "iopub.execute_input": "2025-08-05T15:54:49.827119Z",
     "iopub.status.busy": "2025-08-05T15:54:49.826221Z",
     "iopub.status.idle": "2025-08-05T15:54:49.833356Z",
     "shell.execute_reply": "2025-08-05T15:54:49.832225Z"
    },
    "papermill": {
     "duration": 0.032064,
     "end_time": "2025-08-05T15:54:49.835469",
     "exception": false,
     "start_time": "2025-08-05T15:54:49.803405",
     "status": "completed"
    },
    "tags": []
   },
   "outputs": [],
   "source": [
    "from fairness_multiverse.conformal import find_threshold\n",
    "\n",
    "# Find conformal threshold q_hat for the given alpha (split conformal method)\n",
    "q_hat = find_threshold(nc_scores, alpha)"
   ]
  },
  {
   "cell_type": "code",
   "execution_count": 41,
   "id": "4d29e6c1-0ef6-4aa4-b8fe-4fe79b0d033a",
   "metadata": {
    "execution": {
     "iopub.execute_input": "2025-08-05T15:54:49.889212Z",
     "iopub.status.busy": "2025-08-05T15:54:49.888245Z",
     "iopub.status.idle": "2025-08-05T15:54:49.896808Z",
     "shell.execute_reply": "2025-08-05T15:54:49.895620Z"
    },
    "papermill": {
     "duration": 0.038007,
     "end_time": "2025-08-05T15:54:49.898868",
     "exception": false,
     "start_time": "2025-08-05T15:54:49.860861",
     "status": "completed"
    },
    "tags": []
   },
   "outputs": [
    {
     "data": {
      "text/plain": [
       "0.6783782183300421"
      ]
     },
     "execution_count": 41,
     "metadata": {},
     "output_type": "execute_result"
    }
   ],
   "source": [
    "q_hat"
   ]
  },
  {
   "cell_type": "code",
   "execution_count": 42,
   "id": "92460794-cdac-4be2-ba28-f28c0515a6fb",
   "metadata": {
    "execution": {
     "iopub.execute_input": "2025-08-05T15:54:49.952464Z",
     "iopub.status.busy": "2025-08-05T15:54:49.951684Z",
     "iopub.status.idle": "2025-08-05T15:54:51.012676Z",
     "shell.execute_reply": "2025-08-05T15:54:51.011794Z"
    },
    "papermill": {
     "duration": 1.089111,
     "end_time": "2025-08-05T15:54:51.014280",
     "exception": false,
     "start_time": "2025-08-05T15:54:49.925169",
     "status": "completed"
    },
    "tags": []
   },
   "outputs": [],
   "source": [
    "from fairness_multiverse.conformal import predict_conformal_sets\n",
    "\n",
    "# Generate prediction sets for each test example\n",
    "pred_sets = predict_conformal_sets(model, X_test, q_hat)"
   ]
  },
  {
   "cell_type": "code",
   "execution_count": 43,
   "id": "d90c9a65-e6db-4f5d-80cd-e68fb7e46829",
   "metadata": {
    "execution": {
     "iopub.execute_input": "2025-08-05T15:54:51.041840Z",
     "iopub.status.busy": "2025-08-05T15:54:51.041268Z",
     "iopub.status.idle": "2025-08-05T15:54:51.046820Z",
     "shell.execute_reply": "2025-08-05T15:54:51.045958Z"
    },
    "papermill": {
     "duration": 0.022353,
     "end_time": "2025-08-05T15:54:51.048131",
     "exception": false,
     "start_time": "2025-08-05T15:54:51.025778",
     "status": "completed"
    },
    "tags": []
   },
   "outputs": [],
   "source": [
    "y_true = y_true.squeeze()"
   ]
  },
  {
   "cell_type": "code",
   "execution_count": 44,
   "id": "3a58a54a-1e68-46b9-927a-df01f18aebc8",
   "metadata": {
    "execution": {
     "iopub.execute_input": "2025-08-05T15:54:51.073032Z",
     "iopub.status.busy": "2025-08-05T15:54:51.072349Z",
     "iopub.status.idle": "2025-08-05T15:54:52.166656Z",
     "shell.execute_reply": "2025-08-05T15:54:52.165573Z"
    },
    "papermill": {
     "duration": 1.107617,
     "end_time": "2025-08-05T15:54:52.168586",
     "exception": false,
     "start_time": "2025-08-05T15:54:51.060969",
     "status": "completed"
    },
    "tags": []
   },
   "outputs": [],
   "source": [
    "from fairness_multiverse.conformal import evaluate_sets\n",
    "\n",
    "# Evaluate coverage and average set size on test data\n",
    "metrics = evaluate_sets(pred_sets, y_true)"
   ]
  },
  {
   "cell_type": "markdown",
   "id": "2b569c12-9aaa-4c88-98c9-bbcd0cf3ebb8",
   "metadata": {
    "papermill": {
     "duration": 0.019987,
     "end_time": "2025-08-05T15:54:52.213932",
     "exception": false,
     "start_time": "2025-08-05T15:54:52.193945",
     "status": "completed"
    },
    "tags": []
   },
   "source": [
    "# CP Metrics"
   ]
  },
  {
   "cell_type": "code",
   "execution_count": 45,
   "id": "5ce0a5cb-201f-45a0-ade5-94c7f0bd6095",
   "metadata": {
    "execution": {
     "iopub.execute_input": "2025-08-05T15:54:52.252556Z",
     "iopub.status.busy": "2025-08-05T15:54:52.251838Z",
     "iopub.status.idle": "2025-08-05T15:54:52.259401Z",
     "shell.execute_reply": "2025-08-05T15:54:52.258280Z"
    },
    "papermill": {
     "duration": 0.028766,
     "end_time": "2025-08-05T15:54:52.261326",
     "exception": false,
     "start_time": "2025-08-05T15:54:52.232560",
     "status": "completed"
    },
    "tags": []
   },
   "outputs": [
    {
     "data": {
      "text/plain": [
       "{'coverage': 0.9125961431278564, 'avg_size': 1.2065767472968454}"
      ]
     },
     "execution_count": 45,
     "metadata": {},
     "output_type": "execute_result"
    }
   ],
   "source": [
    "metrics"
   ]
  },
  {
   "cell_type": "code",
   "execution_count": 46,
   "id": "9b9a838d-31c9-430b-ae14-12baee460d17",
   "metadata": {
    "execution": {
     "iopub.execute_input": "2025-08-05T15:54:52.310522Z",
     "iopub.status.busy": "2025-08-05T15:54:52.309650Z",
     "iopub.status.idle": "2025-08-05T15:54:52.316212Z",
     "shell.execute_reply": "2025-08-05T15:54:52.315280Z"
    },
    "papermill": {
     "duration": 0.032894,
     "end_time": "2025-08-05T15:54:52.318151",
     "exception": false,
     "start_time": "2025-08-05T15:54:52.285257",
     "status": "completed"
    },
    "tags": []
   },
   "outputs": [],
   "source": [
    "example_universe = universe.copy()\n",
    "universe_training_year = example_universe.get(\"training_year\")\n",
    "universe_training_size = example_universe.get(\"training_size\")\n",
    "universe_scale = example_universe.get(\"scale\")\n",
    "universe_model = example_universe.get(\"model\")\n",
    "universe_exclude_features = example_universe.get(\"exclude_features\")\n",
    "universe_exclude_subgroups = example_universe.get(\"exclude_subgroups\")"
   ]
  },
  {
   "cell_type": "code",
   "execution_count": 47,
   "id": "f4b6a8ac-9dc0-4245-8a91-5b3b5999c4f9",
   "metadata": {
    "execution": {
     "iopub.execute_input": "2025-08-05T15:54:52.368422Z",
     "iopub.status.busy": "2025-08-05T15:54:52.367766Z",
     "iopub.status.idle": "2025-08-05T15:54:52.375185Z",
     "shell.execute_reply": "2025-08-05T15:54:52.374144Z"
    },
    "papermill": {
     "duration": 0.034243,
     "end_time": "2025-08-05T15:54:52.377020",
     "exception": false,
     "start_time": "2025-08-05T15:54:52.342777",
     "status": "completed"
    },
    "tags": []
   },
   "outputs": [],
   "source": [
    "cp_metrics_dict = {\n",
    "    \"universe_id\": [universe_id],\n",
    "    \"universe_training_year\": [universe_training_year],\n",
    "    \"universe_training_size\": [universe_training_size],\n",
    "    \"universe_scale\": [universe_scale],\n",
    "    \"universe_model\": [universe_model],\n",
    "    \"universe_exclude_features\": [universe_exclude_features],\n",
    "    \"universe_exclude_subgroups\": [universe_exclude_subgroups],\n",
    "    \"q_hat\": [q_hat],\n",
    "    \"coverage\": [metrics[\"coverage\"]],\n",
    "    \"avg_size\": [metrics[\"avg_size\"]],\n",
    "}"
   ]
  },
  {
   "cell_type": "code",
   "execution_count": 48,
   "id": "908acbb1-0371-4915-85ca-3fa520d2efe2",
   "metadata": {
    "execution": {
     "iopub.execute_input": "2025-08-05T15:54:52.420960Z",
     "iopub.status.busy": "2025-08-05T15:54:52.420081Z",
     "iopub.status.idle": "2025-08-05T15:54:52.428277Z",
     "shell.execute_reply": "2025-08-05T15:54:52.427088Z"
    },
    "papermill": {
     "duration": 0.032098,
     "end_time": "2025-08-05T15:54:52.430324",
     "exception": false,
     "start_time": "2025-08-05T15:54:52.398226",
     "status": "completed"
    },
    "tags": []
   },
   "outputs": [
    {
     "data": {
      "text/plain": [
       "{'universe_id': ['7a0c6b1199ba7a0011e3427f0b444807'],\n",
       " 'universe_training_year': ['2010_14'],\n",
       " 'universe_training_size': ['5k'],\n",
       " 'universe_scale': ['do-not-scale'],\n",
       " 'universe_model': ['logreg'],\n",
       " 'universe_exclude_features': ['none'],\n",
       " 'universe_exclude_subgroups': ['keep-all'],\n",
       " 'q_hat': [0.6783782183300421],\n",
       " 'coverage': [0.9125961431278564],\n",
       " 'avg_size': [1.2065767472968454]}"
      ]
     },
     "execution_count": 48,
     "metadata": {},
     "output_type": "execute_result"
    }
   ],
   "source": [
    "cp_metrics_dict"
   ]
  },
  {
   "cell_type": "code",
   "execution_count": 49,
   "id": "33007efc-14e9-4ec6-97ac-56a455c82265",
   "metadata": {
    "execution": {
     "iopub.execute_input": "2025-08-05T15:54:52.482580Z",
     "iopub.status.busy": "2025-08-05T15:54:52.481946Z",
     "iopub.status.idle": "2025-08-05T15:54:52.488485Z",
     "shell.execute_reply": "2025-08-05T15:54:52.487379Z"
    },
    "papermill": {
     "duration": 0.035315,
     "end_time": "2025-08-05T15:54:52.490340",
     "exception": false,
     "start_time": "2025-08-05T15:54:52.455025",
     "status": "completed"
    },
    "tags": []
   },
   "outputs": [],
   "source": [
    "cp_metrics_df = pd.DataFrame(cp_metrics_dict)"
   ]
  },
  {
   "cell_type": "code",
   "execution_count": 50,
   "id": "db12611b-57b2-4910-b9d0-355adfd6e7bf",
   "metadata": {
    "execution": {
     "iopub.execute_input": "2025-08-05T15:54:52.546885Z",
     "iopub.status.busy": "2025-08-05T15:54:52.546188Z",
     "iopub.status.idle": "2025-08-05T15:54:52.569863Z",
     "shell.execute_reply": "2025-08-05T15:54:52.568923Z"
    },
    "papermill": {
     "duration": 0.054273,
     "end_time": "2025-08-05T15:54:52.571681",
     "exception": false,
     "start_time": "2025-08-05T15:54:52.517408",
     "status": "completed"
    },
    "tags": []
   },
   "outputs": [
    {
     "data": {
      "text/html": [
       "<div>\n",
       "<style scoped>\n",
       "    .dataframe tbody tr th:only-of-type {\n",
       "        vertical-align: middle;\n",
       "    }\n",
       "\n",
       "    .dataframe tbody tr th {\n",
       "        vertical-align: top;\n",
       "    }\n",
       "\n",
       "    .dataframe thead th {\n",
       "        text-align: right;\n",
       "    }\n",
       "</style>\n",
       "<table border=\"1\" class=\"dataframe\">\n",
       "  <thead>\n",
       "    <tr style=\"text-align: right;\">\n",
       "      <th></th>\n",
       "      <th>universe_id</th>\n",
       "      <th>universe_training_year</th>\n",
       "      <th>universe_training_size</th>\n",
       "      <th>universe_scale</th>\n",
       "      <th>universe_model</th>\n",
       "      <th>universe_exclude_features</th>\n",
       "      <th>universe_exclude_subgroups</th>\n",
       "      <th>q_hat</th>\n",
       "      <th>coverage</th>\n",
       "      <th>avg_size</th>\n",
       "    </tr>\n",
       "  </thead>\n",
       "  <tbody>\n",
       "    <tr>\n",
       "      <th>0</th>\n",
       "      <td>7a0c6b1199ba7a0011e3427f0b444807</td>\n",
       "      <td>2010_14</td>\n",
       "      <td>5k</td>\n",
       "      <td>do-not-scale</td>\n",
       "      <td>logreg</td>\n",
       "      <td>none</td>\n",
       "      <td>keep-all</td>\n",
       "      <td>0.678378</td>\n",
       "      <td>0.912596</td>\n",
       "      <td>1.206577</td>\n",
       "    </tr>\n",
       "  </tbody>\n",
       "</table>\n",
       "</div>"
      ],
      "text/plain": [
       "                        universe_id universe_training_year  \\\n",
       "0  7a0c6b1199ba7a0011e3427f0b444807                2010_14   \n",
       "\n",
       "  universe_training_size universe_scale universe_model  \\\n",
       "0                     5k   do-not-scale         logreg   \n",
       "\n",
       "  universe_exclude_features universe_exclude_subgroups     q_hat  coverage  \\\n",
       "0                      none                   keep-all  0.678378  0.912596   \n",
       "\n",
       "   avg_size  \n",
       "0  1.206577  "
      ]
     },
     "execution_count": 50,
     "metadata": {},
     "output_type": "execute_result"
    }
   ],
   "source": [
    "cp_metrics_df"
   ]
  },
  {
   "cell_type": "code",
   "execution_count": 51,
   "id": "b7fbde55-a0a1-47e4-9af6-fe4a17fa8c61",
   "metadata": {
    "execution": {
     "iopub.execute_input": "2025-08-05T15:54:52.628909Z",
     "iopub.status.busy": "2025-08-05T15:54:52.628245Z",
     "iopub.status.idle": "2025-08-05T15:54:52.633600Z",
     "shell.execute_reply": "2025-08-05T15:54:52.632533Z"
    },
    "papermill": {
     "duration": 0.03626,
     "end_time": "2025-08-05T15:54:52.635574",
     "exception": false,
     "start_time": "2025-08-05T15:54:52.599314",
     "status": "completed"
    },
    "tags": []
   },
   "outputs": [],
   "source": [
    "# Conditional Coverage & looking at subgroups"
   ]
  },
  {
   "cell_type": "code",
   "execution_count": 52,
   "id": "027ae886-68dd-4141-96c7-805a5450e1ef",
   "metadata": {
    "execution": {
     "iopub.execute_input": "2025-08-05T15:54:52.686085Z",
     "iopub.status.busy": "2025-08-05T15:54:52.685777Z",
     "iopub.status.idle": "2025-08-05T15:54:52.950826Z",
     "shell.execute_reply": "2025-08-05T15:54:52.949794Z"
    },
    "papermill": {
     "duration": 0.291961,
     "end_time": "2025-08-05T15:54:52.953141",
     "exception": false,
     "start_time": "2025-08-05T15:54:52.661180",
     "status": "completed"
    },
    "tags": []
   },
   "outputs": [],
   "source": [
    "from fairness_multiverse.conformal import build_cp_groups\n",
    "\n",
    "cp_groups_df = build_cp_groups(pred_sets, y_true, X_test.index, org_test)\n",
    "#needs universe_id and setting"
   ]
  },
  {
   "cell_type": "code",
   "execution_count": 53,
   "id": "6cbdab96-b2b2-45af-ad54-d0516db2e28d",
   "metadata": {
    "execution": {
     "iopub.execute_input": "2025-08-05T15:54:52.996236Z",
     "iopub.status.busy": "2025-08-05T15:54:52.995436Z",
     "iopub.status.idle": "2025-08-05T15:54:54.479864Z",
     "shell.execute_reply": "2025-08-05T15:54:54.478807Z"
    },
    "papermill": {
     "duration": 1.507514,
     "end_time": "2025-08-05T15:54:54.481950",
     "exception": false,
     "start_time": "2025-08-05T15:54:52.974436",
     "status": "completed"
    },
    "tags": []
   },
   "outputs": [],
   "source": [
    "# Define covered = 1 if true_label is in the predicted set\n",
    "cp_groups_df['covered'] = cp_groups_df.apply(\n",
    "    lambda r: int(r['true_label'] in r['pred_set']),\n",
    "    axis=1\n",
    ")"
   ]
  },
  {
   "cell_type": "code",
   "execution_count": 54,
   "id": "338ff529-1a6b-4b87-a931-8e4788d52aad",
   "metadata": {
    "execution": {
     "iopub.execute_input": "2025-08-05T15:54:54.533120Z",
     "iopub.status.busy": "2025-08-05T15:54:54.532579Z",
     "iopub.status.idle": "2025-08-05T15:54:54.538372Z",
     "shell.execute_reply": "2025-08-05T15:54:54.537210Z"
    },
    "papermill": {
     "duration": 0.032048,
     "end_time": "2025-08-05T15:54:54.540422",
     "exception": false,
     "start_time": "2025-08-05T15:54:54.508374",
     "status": "completed"
    },
    "tags": []
   },
   "outputs": [],
   "source": [
    "#cp_groups_df"
   ]
  },
  {
   "cell_type": "code",
   "execution_count": 55,
   "id": "90032e27-66df-4540-9169-4e89cfbaa758",
   "metadata": {
    "execution": {
     "iopub.execute_input": "2025-08-05T15:54:54.592168Z",
     "iopub.status.busy": "2025-08-05T15:54:54.591151Z",
     "iopub.status.idle": "2025-08-05T15:54:54.604750Z",
     "shell.execute_reply": "2025-08-05T15:54:54.603762Z"
    },
    "papermill": {
     "duration": 0.041697,
     "end_time": "2025-08-05T15:54:54.606989",
     "exception": false,
     "start_time": "2025-08-05T15:54:54.565292",
     "status": "completed"
    },
    "tags": []
   },
   "outputs": [],
   "source": [
    "subgroups = ['frau1','nongerman','nongerman_male','nongerman_female']\n",
    "\n",
    "# Conditional coverage for subgroup==1\n",
    "cond_coverage = {\n",
    "    g: cp_groups_df.loc[cp_groups_df[g]==1, 'covered'].mean()\n",
    "    for g in subgroups\n",
    "}"
   ]
  },
  {
   "cell_type": "code",
   "execution_count": 56,
   "id": "1e348fb1-b9c3-45bc-ba23-f016827a7e0d",
   "metadata": {
    "execution": {
     "iopub.execute_input": "2025-08-05T15:54:54.657440Z",
     "iopub.status.busy": "2025-08-05T15:54:54.657039Z",
     "iopub.status.idle": "2025-08-05T15:54:54.664181Z",
     "shell.execute_reply": "2025-08-05T15:54:54.663419Z"
    },
    "papermill": {
     "duration": 0.034082,
     "end_time": "2025-08-05T15:54:54.665905",
     "exception": false,
     "start_time": "2025-08-05T15:54:54.631823",
     "status": "completed"
    },
    "tags": []
   },
   "outputs": [
    {
     "data": {
      "text/plain": [
       "{'frau1': 0.9127375657096644,\n",
       " 'nongerman': 0.933363274013361,\n",
       " 'nongerman_male': 0.944159236242457,\n",
       " 'nongerman_female': 0.9154992548435171}"
      ]
     },
     "execution_count": 56,
     "metadata": {},
     "output_type": "execute_result"
    }
   ],
   "source": [
    "cond_coverage"
   ]
  },
  {
   "cell_type": "code",
   "execution_count": 57,
   "id": "f5093324-c3dd-4d63-bc4c-8d945e5c8bbb",
   "metadata": {
    "execution": {
     "iopub.execute_input": "2025-08-05T15:54:54.691665Z",
     "iopub.status.busy": "2025-08-05T15:54:54.691049Z",
     "iopub.status.idle": "2025-08-05T15:54:54.697247Z",
     "shell.execute_reply": "2025-08-05T15:54:54.696412Z"
    },
    "papermill": {
     "duration": 0.020263,
     "end_time": "2025-08-05T15:54:54.698672",
     "exception": false,
     "start_time": "2025-08-05T15:54:54.678409",
     "status": "completed"
    },
    "tags": []
   },
   "outputs": [],
   "source": [
    "for subgroup, cov in cond_coverage.items():\n",
    "    cp_metrics_df[f\"cov_{subgroup}\"] = cov"
   ]
  },
  {
   "cell_type": "code",
   "execution_count": 58,
   "id": "6e872e10-dbe5-49e8-b554-5030c98ff75d",
   "metadata": {
    "execution": {
     "iopub.execute_input": "2025-08-05T15:54:54.725011Z",
     "iopub.status.busy": "2025-08-05T15:54:54.724308Z",
     "iopub.status.idle": "2025-08-05T15:54:54.745023Z",
     "shell.execute_reply": "2025-08-05T15:54:54.743755Z"
    },
    "papermill": {
     "duration": 0.035379,
     "end_time": "2025-08-05T15:54:54.747058",
     "exception": false,
     "start_time": "2025-08-05T15:54:54.711679",
     "status": "completed"
    },
    "tags": []
   },
   "outputs": [
    {
     "data": {
      "text/html": [
       "<div>\n",
       "<style scoped>\n",
       "    .dataframe tbody tr th:only-of-type {\n",
       "        vertical-align: middle;\n",
       "    }\n",
       "\n",
       "    .dataframe tbody tr th {\n",
       "        vertical-align: top;\n",
       "    }\n",
       "\n",
       "    .dataframe thead th {\n",
       "        text-align: right;\n",
       "    }\n",
       "</style>\n",
       "<table border=\"1\" class=\"dataframe\">\n",
       "  <thead>\n",
       "    <tr style=\"text-align: right;\">\n",
       "      <th></th>\n",
       "      <th>universe_id</th>\n",
       "      <th>universe_training_year</th>\n",
       "      <th>universe_training_size</th>\n",
       "      <th>universe_scale</th>\n",
       "      <th>universe_model</th>\n",
       "      <th>universe_exclude_features</th>\n",
       "      <th>universe_exclude_subgroups</th>\n",
       "      <th>q_hat</th>\n",
       "      <th>coverage</th>\n",
       "      <th>avg_size</th>\n",
       "      <th>cov_frau1</th>\n",
       "      <th>cov_nongerman</th>\n",
       "      <th>cov_nongerman_male</th>\n",
       "      <th>cov_nongerman_female</th>\n",
       "    </tr>\n",
       "  </thead>\n",
       "  <tbody>\n",
       "    <tr>\n",
       "      <th>0</th>\n",
       "      <td>7a0c6b1199ba7a0011e3427f0b444807</td>\n",
       "      <td>2010_14</td>\n",
       "      <td>5k</td>\n",
       "      <td>do-not-scale</td>\n",
       "      <td>logreg</td>\n",
       "      <td>none</td>\n",
       "      <td>keep-all</td>\n",
       "      <td>0.678378</td>\n",
       "      <td>0.912596</td>\n",
       "      <td>1.206577</td>\n",
       "      <td>0.912738</td>\n",
       "      <td>0.933363</td>\n",
       "      <td>0.944159</td>\n",
       "      <td>0.915499</td>\n",
       "    </tr>\n",
       "  </tbody>\n",
       "</table>\n",
       "</div>"
      ],
      "text/plain": [
       "                        universe_id universe_training_year  \\\n",
       "0  7a0c6b1199ba7a0011e3427f0b444807                2010_14   \n",
       "\n",
       "  universe_training_size universe_scale universe_model  \\\n",
       "0                     5k   do-not-scale         logreg   \n",
       "\n",
       "  universe_exclude_features universe_exclude_subgroups     q_hat  coverage  \\\n",
       "0                      none                   keep-all  0.678378  0.912596   \n",
       "\n",
       "   avg_size  cov_frau1  cov_nongerman  cov_nongerman_male  \\\n",
       "0  1.206577   0.912738       0.933363            0.944159   \n",
       "\n",
       "   cov_nongerman_female  \n",
       "0              0.915499  "
      ]
     },
     "execution_count": 58,
     "metadata": {},
     "output_type": "execute_result"
    }
   ],
   "source": [
    "cp_metrics_df"
   ]
  },
  {
   "cell_type": "markdown",
   "id": "33774451",
   "metadata": {
    "papermill": {
     "duration": 0.024806,
     "end_time": "2025-08-05T15:54:54.800184",
     "exception": false,
     "start_time": "2025-08-05T15:54:54.775378",
     "status": "completed"
    },
    "tags": []
   },
   "source": [
    "# (Fairness) Metrics"
   ]
  },
  {
   "cell_type": "code",
   "execution_count": 59,
   "id": "debc5d62",
   "metadata": {
    "execution": {
     "iopub.execute_input": "2025-08-05T15:54:54.849723Z",
     "iopub.status.busy": "2025-08-05T15:54:54.849161Z",
     "iopub.status.idle": "2025-08-05T15:54:54.870968Z",
     "shell.execute_reply": "2025-08-05T15:54:54.869964Z"
    },
    "papermill": {
     "duration": 0.048911,
     "end_time": "2025-08-05T15:54:54.872920",
     "exception": false,
     "start_time": "2025-08-05T15:54:54.824009",
     "status": "completed"
    },
    "tags": []
   },
   "outputs": [],
   "source": [
    "# do I need to include maxdeutsch1.missing?\n",
    "\n",
    "import numpy as np\n",
    "\n",
    "colname_to_bin = \"maxdeutsch1\"\n",
    "majority_value = org_train[colname_to_bin].mode()[0]\n",
    "\n",
    "org_test[\"majmin\"] = np.where(org_test[colname_to_bin] == majority_value, \"majority\", \"minority\")"
   ]
  },
  {
   "cell_type": "code",
   "execution_count": 60,
   "id": "06a50de5",
   "metadata": {
    "execution": {
     "iopub.execute_input": "2025-08-05T15:54:54.922298Z",
     "iopub.status.busy": "2025-08-05T15:54:54.921838Z",
     "iopub.status.idle": "2025-08-05T15:54:57.034389Z",
     "shell.execute_reply": "2025-08-05T15:54:57.033468Z"
    },
    "papermill": {
     "duration": 2.138453,
     "end_time": "2025-08-05T15:54:57.035901",
     "exception": false,
     "start_time": "2025-08-05T15:54:54.897448",
     "status": "completed"
    },
    "tags": []
   },
   "outputs": [],
   "source": [
    "example_universe = universe.copy()\n",
    "example_universe[\"cutoff\"] = example_universe[\"cutoff\"][0]\n",
    "example_universe[\"eval_fairness_grouping\"] = example_universe[\"eval_fairness_grouping\"][0]\n",
    "fairness_dict, metric_frame = universe_analysis.compute_metrics(\n",
    "    example_universe,\n",
    "    y_pred_prob=probs_test,\n",
    "    y_test=y_true,\n",
    "    org_test=org_test,\n",
    ")"
   ]
  },
  {
   "cell_type": "markdown",
   "id": "f95d4e02",
   "metadata": {
    "papermill": {
     "duration": 0.011461,
     "end_time": "2025-08-05T15:54:57.062561",
     "exception": false,
     "start_time": "2025-08-05T15:54:57.051100",
     "status": "completed"
    },
    "tags": []
   },
   "source": [
    "# Overall"
   ]
  },
  {
   "cell_type": "markdown",
   "id": "bdee4871",
   "metadata": {
    "papermill": {
     "duration": 0.012122,
     "end_time": "2025-08-05T15:54:57.086336",
     "exception": false,
     "start_time": "2025-08-05T15:54:57.074214",
     "status": "completed"
    },
    "tags": []
   },
   "source": [
    "Fairness\n",
    "Main fairness target: Equalized Odds. Seems to be a better fit than equal opportunity, since we're not only interested in Y = 1. Seems to be a better fit than demographic parity, since we also care about accuracy, not just equal distribution of preds.\n",
    "\n",
    "Pick column for computation of fairness metrics\n",
    "\n",
    "Performance\n",
    "Overall performance measures, most interesting in relation to the measures split by group below"
   ]
  },
  {
   "cell_type": "code",
   "execution_count": 61,
   "id": "c4e067c6",
   "metadata": {
    "execution": {
     "iopub.execute_input": "2025-08-05T15:54:57.113449Z",
     "iopub.status.busy": "2025-08-05T15:54:57.112598Z",
     "iopub.status.idle": "2025-08-05T15:54:57.120175Z",
     "shell.execute_reply": "2025-08-05T15:54:57.119277Z"
    },
    "papermill": {
     "duration": 0.022875,
     "end_time": "2025-08-05T15:54:57.121818",
     "exception": false,
     "start_time": "2025-08-05T15:54:57.098943",
     "status": "completed"
    },
    "tags": []
   },
   "outputs": [
    {
     "data": {
      "text/plain": [
       "accuracy                   0.218181\n",
       "balanced accuracy          0.534780\n",
       "f1                         0.239683\n",
       "precision                  0.136923\n",
       "false positive rate        0.891077\n",
       "false negative rate        0.039364\n",
       "selection rate             0.900000\n",
       "count                  89710.000000\n",
       "dtype: float64"
      ]
     },
     "execution_count": 61,
     "metadata": {},
     "output_type": "execute_result"
    }
   ],
   "source": [
    "metric_frame.overall"
   ]
  },
  {
   "cell_type": "markdown",
   "id": "e968fe9d",
   "metadata": {
    "papermill": {
     "duration": 0.012081,
     "end_time": "2025-08-05T15:54:57.146986",
     "exception": false,
     "start_time": "2025-08-05T15:54:57.134905",
     "status": "completed"
    },
    "tags": []
   },
   "source": [
    "By Group"
   ]
  },
  {
   "cell_type": "code",
   "execution_count": 62,
   "id": "ec325bce",
   "metadata": {
    "execution": {
     "iopub.execute_input": "2025-08-05T15:54:57.172368Z",
     "iopub.status.busy": "2025-08-05T15:54:57.171665Z",
     "iopub.status.idle": "2025-08-05T15:54:57.183772Z",
     "shell.execute_reply": "2025-08-05T15:54:57.183022Z"
    },
    "papermill": {
     "duration": 0.025869,
     "end_time": "2025-08-05T15:54:57.185084",
     "exception": false,
     "start_time": "2025-08-05T15:54:57.159215",
     "status": "completed"
    },
    "tags": []
   },
   "outputs": [
    {
     "data": {
      "text/html": [
       "<div>\n",
       "<style scoped>\n",
       "    .dataframe tbody tr th:only-of-type {\n",
       "        vertical-align: middle;\n",
       "    }\n",
       "\n",
       "    .dataframe tbody tr th {\n",
       "        vertical-align: top;\n",
       "    }\n",
       "\n",
       "    .dataframe thead th {\n",
       "        text-align: right;\n",
       "    }\n",
       "</style>\n",
       "<table border=\"1\" class=\"dataframe\">\n",
       "  <thead>\n",
       "    <tr style=\"text-align: right;\">\n",
       "      <th></th>\n",
       "      <th>accuracy</th>\n",
       "      <th>balanced accuracy</th>\n",
       "      <th>f1</th>\n",
       "      <th>precision</th>\n",
       "      <th>false positive rate</th>\n",
       "      <th>false negative rate</th>\n",
       "      <th>selection rate</th>\n",
       "      <th>count</th>\n",
       "    </tr>\n",
       "    <tr>\n",
       "      <th>majmin</th>\n",
       "      <th></th>\n",
       "      <th></th>\n",
       "      <th></th>\n",
       "      <th></th>\n",
       "      <th></th>\n",
       "      <th></th>\n",
       "      <th></th>\n",
       "      <th></th>\n",
       "    </tr>\n",
       "  </thead>\n",
       "  <tbody>\n",
       "    <tr>\n",
       "      <th>majority</th>\n",
       "      <td>0.240408</td>\n",
       "      <td>0.543039</td>\n",
       "      <td>0.249275</td>\n",
       "      <td>0.143360</td>\n",
       "      <td>0.868299</td>\n",
       "      <td>0.045624</td>\n",
       "      <td>0.879673</td>\n",
       "      <td>69170.0</td>\n",
       "    </tr>\n",
       "    <tr>\n",
       "      <th>minority</th>\n",
       "      <td>0.143330</td>\n",
       "      <td>0.509238</td>\n",
       "      <td>0.209524</td>\n",
       "      <td>0.117233</td>\n",
       "      <td>0.966322</td>\n",
       "      <td>0.015203</td>\n",
       "      <td>0.968452</td>\n",
       "      <td>20540.0</td>\n",
       "    </tr>\n",
       "  </tbody>\n",
       "</table>\n",
       "</div>"
      ],
      "text/plain": [
       "          accuracy  balanced accuracy        f1  precision  \\\n",
       "majmin                                                       \n",
       "majority  0.240408           0.543039  0.249275   0.143360   \n",
       "minority  0.143330           0.509238  0.209524   0.117233   \n",
       "\n",
       "          false positive rate  false negative rate  selection rate    count  \n",
       "majmin                                                                       \n",
       "majority             0.868299             0.045624        0.879673  69170.0  \n",
       "minority             0.966322             0.015203        0.968452  20540.0  "
      ]
     },
     "execution_count": 62,
     "metadata": {},
     "output_type": "execute_result"
    }
   ],
   "source": [
    "metric_frame.by_group"
   ]
  },
  {
   "cell_type": "code",
   "execution_count": 63,
   "id": "a9ddbe63",
   "metadata": {
    "execution": {
     "iopub.execute_input": "2025-08-05T15:54:57.211605Z",
     "iopub.status.busy": "2025-08-05T15:54:57.211103Z",
     "iopub.status.idle": "2025-08-05T15:54:59.608876Z",
     "shell.execute_reply": "2025-08-05T15:54:59.607931Z"
    },
    "papermill": {
     "duration": 2.412782,
     "end_time": "2025-08-05T15:54:59.610601",
     "exception": false,
     "start_time": "2025-08-05T15:54:57.197819",
     "status": "completed"
    },
    "tags": []
   },
   "outputs": [
    {
     "data": {
      "text/plain": [
       "array([[<Axes: title={'center': 'accuracy'}, xlabel='majmin'>,\n",
       "        <Axes: title={'center': 'balanced accuracy'}, xlabel='majmin'>,\n",
       "        <Axes: title={'center': 'f1'}, xlabel='majmin'>],\n",
       "       [<Axes: title={'center': 'precision'}, xlabel='majmin'>,\n",
       "        <Axes: title={'center': 'false positive rate'}, xlabel='majmin'>,\n",
       "        <Axes: title={'center': 'false negative rate'}, xlabel='majmin'>],\n",
       "       [<Axes: title={'center': 'selection rate'}, xlabel='majmin'>,\n",
       "        <Axes: title={'center': 'count'}, xlabel='majmin'>,\n",
       "        <Axes: xlabel='majmin'>]], dtype=object)"
      ]
     },
     "execution_count": 63,
     "metadata": {},
     "output_type": "execute_result"
    },
    {
     "data": {
      "image/png": "[encoded data removed]",
      "text/plain": [
       "<Figure size 1200x800 with 9 Axes>"
      ]
     },
     "metadata": {},
     "output_type": "display_data"
    }
   ],
   "source": [
    "# In a graphic\n",
    "metric_frame.by_group.plot.bar(\n",
    "    subplots=True,\n",
    "    layout=[3, 3],\n",
    "    legend=False,\n",
    "    figsize=[12, 8],\n",
    "    title=\"Show all metrics\",\n",
    ")"
   ]
  },
  {
   "cell_type": "markdown",
   "id": "f57a0bac",
   "metadata": {
    "papermill": {
     "duration": 0.022981,
     "end_time": "2025-08-05T15:54:59.657560",
     "exception": false,
     "start_time": "2025-08-05T15:54:59.634579",
     "status": "completed"
    },
    "tags": []
   },
   "source": [
    "# Final Output"
   ]
  },
  {
   "cell_type": "code",
   "execution_count": 64,
   "id": "96d280a3",
   "metadata": {
    "execution": {
     "iopub.execute_input": "2025-08-05T15:54:59.704997Z",
     "iopub.status.busy": "2025-08-05T15:54:59.704162Z",
     "iopub.status.idle": "2025-08-05T15:54:59.712810Z",
     "shell.execute_reply": "2025-08-05T15:54:59.711960Z"
    },
    "papermill": {
     "duration": 0.03436,
     "end_time": "2025-08-05T15:54:59.714363",
     "exception": false,
     "start_time": "2025-08-05T15:54:59.680003",
     "status": "completed"
    },
    "tags": []
   },
   "outputs": [
    {
     "data": {
      "text/plain": [
       "4"
      ]
     },
     "execution_count": 64,
     "metadata": {},
     "output_type": "execute_result"
    }
   ],
   "source": [
    "sub_universes = universe_analysis.generate_sub_universes()\n",
    "len(sub_universes)"
   ]
  },
  {
   "cell_type": "code",
   "execution_count": 65,
   "id": "92adf7ba",
   "metadata": {
    "execution": {
     "iopub.execute_input": "2025-08-05T15:54:59.764238Z",
     "iopub.status.busy": "2025-08-05T15:54:59.763841Z",
     "iopub.status.idle": "2025-08-05T15:54:59.771063Z",
     "shell.execute_reply": "2025-08-05T15:54:59.769937Z"
    },
    "papermill": {
     "duration": 0.032483,
     "end_time": "2025-08-05T15:54:59.772765",
     "exception": false,
     "start_time": "2025-08-05T15:54:59.740282",
     "status": "completed"
    },
    "tags": []
   },
   "outputs": [],
   "source": [
    "def filter_sub_universe_data(sub_universe, org_test):\n",
    "    # Keep all rows — no filtering\n",
    "    keep_rows_mask = np.ones(org_test.shape[0], dtype=bool)\n",
    "\n",
    "    print(f\"[INFO] Keeping all rows: {keep_rows_mask.sum()} rows retained.\")\n",
    "    return keep_rows_mask"
   ]
  },
  {
   "cell_type": "code",
   "execution_count": 66,
   "id": "4a759155",
   "metadata": {
    "execution": {
     "iopub.execute_input": "2025-08-05T15:54:59.823228Z",
     "iopub.status.busy": "2025-08-05T15:54:59.822536Z",
     "iopub.status.idle": "2025-08-05T15:55:09.468130Z",
     "shell.execute_reply": "2025-08-05T15:55:09.467341Z"
    },
    "papermill": {
     "duration": 9.67258,
     "end_time": "2025-08-05T15:55:09.469875",
     "exception": false,
     "start_time": "2025-08-05T15:54:59.797295",
     "status": "completed"
    },
    "tags": []
   },
   "outputs": [
    {
     "name": "stdout",
     "output_type": "stream",
     "text": [
      "Stopping execution_time clock.\n",
      "[INFO] Keeping all rows: 89710 rows retained.\n"
     ]
    },
    {
     "name": "stdout",
     "output_type": "stream",
     "text": [
      "[INFO] Keeping all rows: 89710 rows retained.\n"
     ]
    },
    {
     "name": "stdout",
     "output_type": "stream",
     "text": [
      "[INFO] Keeping all rows: 89710 rows retained.\n"
     ]
    },
    {
     "name": "stdout",
     "output_type": "stream",
     "text": [
      "[INFO] Keeping all rows: 89710 rows retained.\n"
     ]
    },
    {
     "data": {
      "text/html": [
       "<div>\n",
       "<style scoped>\n",
       "    .dataframe tbody tr th:only-of-type {\n",
       "        vertical-align: middle;\n",
       "    }\n",
       "\n",
       "    .dataframe tbody tr th {\n",
       "        vertical-align: top;\n",
       "    }\n",
       "\n",
       "    .dataframe thead th {\n",
       "        text-align: right;\n",
       "    }\n",
       "</style>\n",
       "<table border=\"1\" class=\"dataframe\">\n",
       "  <thead>\n",
       "    <tr style=\"text-align: right;\">\n",
       "      <th></th>\n",
       "      <th>run_no</th>\n",
       "      <th>universe_id</th>\n",
       "      <th>universe_settings</th>\n",
       "      <th>execution_time</th>\n",
       "      <th>test_size_n</th>\n",
       "      <th>test_size_frac</th>\n",
       "      <th>fair_main_equalized_odds_difference</th>\n",
       "      <th>fair_main_equalized_odds_ratio</th>\n",
       "      <th>fair_main_demographic_parity_difference</th>\n",
       "      <th>fair_main_demographic_parity_ratio</th>\n",
       "      <th>...</th>\n",
       "      <th>perf_grp_precision_0</th>\n",
       "      <th>perf_grp_precision_1</th>\n",
       "      <th>perf_grp_false positive rate_0</th>\n",
       "      <th>perf_grp_false positive rate_1</th>\n",
       "      <th>perf_grp_false negative rate_0</th>\n",
       "      <th>perf_grp_false negative rate_1</th>\n",
       "      <th>perf_grp_selection rate_0</th>\n",
       "      <th>perf_grp_selection rate_1</th>\n",
       "      <th>perf_grp_count_0</th>\n",
       "      <th>perf_grp_count_1</th>\n",
       "    </tr>\n",
       "  </thead>\n",
       "  <tbody>\n",
       "    <tr>\n",
       "      <th>0</th>\n",
       "      <td>15</td>\n",
       "      <td>7a0c6b1199ba7a0011e3427f0b444807</td>\n",
       "      <td>{\"cutoff\": \"quantile_0.1\", \"eval_fairness_grou...</td>\n",
       "      <td>26.492925</td>\n",
       "      <td>89710</td>\n",
       "      <td>1.0</td>\n",
       "      <td>0.098023</td>\n",
       "      <td>0.898561</td>\n",
       "      <td>0.088779</td>\n",
       "      <td>0.908329</td>\n",
       "      <td>...</td>\n",
       "      <td>NaN</td>\n",
       "      <td>NaN</td>\n",
       "      <td>NaN</td>\n",
       "      <td>NaN</td>\n",
       "      <td>NaN</td>\n",
       "      <td>NaN</td>\n",
       "      <td>NaN</td>\n",
       "      <td>NaN</td>\n",
       "      <td>NaN</td>\n",
       "      <td>NaN</td>\n",
       "    </tr>\n",
       "    <tr>\n",
       "      <th>0</th>\n",
       "      <td>15</td>\n",
       "      <td>7a0c6b1199ba7a0011e3427f0b444807</td>\n",
       "      <td>{\"cutoff\": \"quantile_0.1\", \"eval_fairness_grou...</td>\n",
       "      <td>26.492925</td>\n",
       "      <td>89710</td>\n",
       "      <td>1.0</td>\n",
       "      <td>0.098023</td>\n",
       "      <td>0.898561</td>\n",
       "      <td>0.088779</td>\n",
       "      <td>0.908329</td>\n",
       "      <td>...</td>\n",
       "      <td>0.117233</td>\n",
       "      <td>0.143360</td>\n",
       "      <td>0.966322</td>\n",
       "      <td>0.868299</td>\n",
       "      <td>0.015203</td>\n",
       "      <td>0.045624</td>\n",
       "      <td>0.968452</td>\n",
       "      <td>0.879673</td>\n",
       "      <td>20540.0</td>\n",
       "      <td>69170.0</td>\n",
       "    </tr>\n",
       "    <tr>\n",
       "      <th>0</th>\n",
       "      <td>15</td>\n",
       "      <td>7a0c6b1199ba7a0011e3427f0b444807</td>\n",
       "      <td>{\"cutoff\": \"quantile_0.25\", \"eval_fairness_gro...</td>\n",
       "      <td>26.492925</td>\n",
       "      <td>89710</td>\n",
       "      <td>1.0</td>\n",
       "      <td>0.221472</td>\n",
       "      <td>0.753938</td>\n",
       "      <td>0.202632</td>\n",
       "      <td>0.776402</td>\n",
       "      <td>...</td>\n",
       "      <td>NaN</td>\n",
       "      <td>NaN</td>\n",
       "      <td>NaN</td>\n",
       "      <td>NaN</td>\n",
       "      <td>NaN</td>\n",
       "      <td>NaN</td>\n",
       "      <td>NaN</td>\n",
       "      <td>NaN</td>\n",
       "      <td>NaN</td>\n",
       "      <td>NaN</td>\n",
       "    </tr>\n",
       "    <tr>\n",
       "      <th>0</th>\n",
       "      <td>15</td>\n",
       "      <td>7a0c6b1199ba7a0011e3427f0b444807</td>\n",
       "      <td>{\"cutoff\": \"quantile_0.25\", \"eval_fairness_gro...</td>\n",
       "      <td>26.492925</td>\n",
       "      <td>89710</td>\n",
       "      <td>1.0</td>\n",
       "      <td>0.221472</td>\n",
       "      <td>0.753938</td>\n",
       "      <td>0.202632</td>\n",
       "      <td>0.776402</td>\n",
       "      <td>...</td>\n",
       "      <td>0.121307</td>\n",
       "      <td>0.162982</td>\n",
       "      <td>0.900066</td>\n",
       "      <td>0.678594</td>\n",
       "      <td>0.046453</td>\n",
       "      <td>0.132166</td>\n",
       "      <td>0.906232</td>\n",
       "      <td>0.703600</td>\n",
       "      <td>20540.0</td>\n",
       "      <td>69170.0</td>\n",
       "    </tr>\n",
       "  </tbody>\n",
       "</table>\n",
       "<p>4 rows × 50 columns</p>\n",
       "</div>"
      ],
      "text/plain": [
       "  run_no                       universe_id  \\\n",
       "0     15  7a0c6b1199ba7a0011e3427f0b444807   \n",
       "0     15  7a0c6b1199ba7a0011e3427f0b444807   \n",
       "0     15  7a0c6b1199ba7a0011e3427f0b444807   \n",
       "0     15  7a0c6b1199ba7a0011e3427f0b444807   \n",
       "\n",
       "                                   universe_settings  execution_time  \\\n",
       "0  {\"cutoff\": \"quantile_0.1\", \"eval_fairness_grou...       26.492925   \n",
       "0  {\"cutoff\": \"quantile_0.1\", \"eval_fairness_grou...       26.492925   \n",
       "0  {\"cutoff\": \"quantile_0.25\", \"eval_fairness_gro...       26.492925   \n",
       "0  {\"cutoff\": \"quantile_0.25\", \"eval_fairness_gro...       26.492925   \n",
       "\n",
       "   test_size_n  test_size_frac  fair_main_equalized_odds_difference  \\\n",
       "0        89710             1.0                             0.098023   \n",
       "0        89710             1.0                             0.098023   \n",
       "0        89710             1.0                             0.221472   \n",
       "0        89710             1.0                             0.221472   \n",
       "\n",
       "   fair_main_equalized_odds_ratio  fair_main_demographic_parity_difference  \\\n",
       "0                        0.898561                                 0.088779   \n",
       "0                        0.898561                                 0.088779   \n",
       "0                        0.753938                                 0.202632   \n",
       "0                        0.753938                                 0.202632   \n",
       "\n",
       "   fair_main_demographic_parity_ratio  ...  perf_grp_precision_0  \\\n",
       "0                            0.908329  ...                   NaN   \n",
       "0                            0.908329  ...              0.117233   \n",
       "0                            0.776402  ...                   NaN   \n",
       "0                            0.776402  ...              0.121307   \n",
       "\n",
       "   perf_grp_precision_1  perf_grp_false positive rate_0  \\\n",
       "0                   NaN                             NaN   \n",
       "0              0.143360                        0.966322   \n",
       "0                   NaN                             NaN   \n",
       "0              0.162982                        0.900066   \n",
       "\n",
       "   perf_grp_false positive rate_1  perf_grp_false negative rate_0  \\\n",
       "0                             NaN                             NaN   \n",
       "0                        0.868299                        0.015203   \n",
       "0                             NaN                             NaN   \n",
       "0                        0.678594                        0.046453   \n",
       "\n",
       "   perf_grp_false negative rate_1  perf_grp_selection rate_0  \\\n",
       "0                             NaN                        NaN   \n",
       "0                        0.045624                   0.968452   \n",
       "0                             NaN                        NaN   \n",
       "0                        0.132166                   0.906232   \n",
       "\n",
       "   perf_grp_selection rate_1  perf_grp_count_0  perf_grp_count_1  \n",
       "0                        NaN               NaN               NaN  \n",
       "0                   0.879673           20540.0           69170.0  \n",
       "0                        NaN               NaN               NaN  \n",
       "0                   0.703600           20540.0           69170.0  \n",
       "\n",
       "[4 rows x 50 columns]"
      ]
     },
     "execution_count": 66,
     "metadata": {},
     "output_type": "execute_result"
    }
   ],
   "source": [
    "final_output = universe_analysis.generate_final_output(\n",
    "    y_pred_prob=probs_test,\n",
    "    y_test=y_true,\n",
    "    org_test=org_test,\n",
    "    filter_data=filter_sub_universe_data,\n",
    "    cp_metrics_df=cp_metrics_df,\n",
    "    save=True,\n",
    ")\n",
    "final_output"
   ]
  }
 ],
 "metadata": {
  "celltoolbar": "Tags",
  "kernelspec": {
   "display_name": "Python (CMA Fairness)",
   "language": "python",
   "name": "cma_fair_env"
  },
  "language_info": {
   "codemirror_mode": {
    "name": "ipython",
    "version": 3
   },
   "file_extension": ".py",
   "mimetype": "text/x-python",
   "name": "python",
   "nbconvert_exporter": "python",
   "pygments_lexer": "ipython3",
   "version": "3.10.12"
  },
  "papermill": {
   "default_parameters": {},
   "duration": 40.514519,
   "end_time": "2025-08-05T15:55:10.324523",
   "environment_variables": {},
   "exception": null,
   "input_path": "universe_analysis.ipynb",
   "output_path": "output/runs/15/notebooks/m_15-7a0c6b1199ba7a0011e3427f0b444807.ipynb",
   "parameters": {
    "output_dir": "output",
    "run_no": "15",
    "seed": "2023",
    "universe": "{\"cutoff\": [\"quantile_0.1\", \"quantile_0.25\"], \"eval_fairness_grouping\": [\"majority-minority\", \"nationality-all\"], \"exclude_features\": \"none\", \"exclude_subgroups\": \"keep-all\", \"model\": \"logreg\", \"scale\": \"do-not-scale\", \"training_size\": \"5k\", \"training_year\": \"2010_14\"}",
    "universe_id": "7a0c6b1199ba7a0011e3427f0b444807"
   },
   "start_time": "2025-08-05T15:54:29.810004",
   "version": "2.6.0"
  }
 },
 "nbformat": 4,
 "nbformat_minor": 5
}