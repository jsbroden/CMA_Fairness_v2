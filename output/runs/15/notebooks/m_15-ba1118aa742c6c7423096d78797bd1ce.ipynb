{
 "cells": [
  {
   "cell_type": "code",
   "execution_count": 1,
   "id": "f159f837-637b-42ba-96b5-ec9a68c44524",
   "metadata": {
    "execution": {
     "iopub.execute_input": "2025-08-05T16:01:39.857548Z",
     "iopub.status.busy": "2025-08-05T16:01:39.857030Z",
     "iopub.status.idle": "2025-08-05T16:01:39.870714Z",
     "shell.execute_reply": "2025-08-05T16:01:39.869843Z"
    },
    "papermill": {
     "duration": 0.033168,
     "end_time": "2025-08-05T16:01:39.872325",
     "exception": false,
     "start_time": "2025-08-05T16:01:39.839157",
     "status": "completed"
    },
    "tags": []
   },
   "outputs": [
    {
     "name": "stdout",
     "output_type": "stream",
     "text": [
      "/dss/dsshome1/0C/ra93lal2/cma/CMA_Fairness_v2\n"
     ]
    },
    {
     "name": "stderr",
     "output_type": "stream",
     "text": [
      "/dss/dsshome1/0C/ra93lal2/.local/share/virtualenvs/CMA_Fairness_v2-3j10GkSs/lib/python3.10/site-packages/IPython/core/magics/osm.py:393: UserWarning: This is now an optional IPython functionality, using bookmarks requires you to install the `pickleshare` library.\n",
      "  bkms = self.shell.db.get('bookmarks', {})\n",
      "/dss/dsshome1/0C/ra93lal2/.local/share/virtualenvs/CMA_Fairness_v2-3j10GkSs/lib/python3.10/site-packages/IPython/core/magics/osm.py:417: UserWarning: This is now an optional IPython functionality, setting dhist requires you to install the `pickleshare` library.\n",
      "  self.shell.db['dhist'] = compress_dhist(dhist)[-100:]\n"
     ]
    }
   ],
   "source": [
    "%cd ~/cma/CMA_Fairness_v2"
   ]
  },
  {
   "cell_type": "markdown",
   "id": "de2603b9",
   "metadata": {
    "papermill": {
     "duration": 0.057752,
     "end_time": "2025-08-05T16:01:39.946781",
     "exception": false,
     "start_time": "2025-08-05T16:01:39.889029",
     "status": "completed"
    },
    "tags": []
   },
   "source": [
    "The following cell holds the definition of our parameters, these values can be overriden by rendering the with e.g. the following command:\n",
    "\n",
    "papermill -p alpha 0.2 -p ratio 0.3 universe_analysis.ipynb output/test_run.ipynb"
   ]
  },
  {
   "cell_type": "code",
   "execution_count": 2,
   "id": "a80968a0-40bb-4fa9-85ef-2d5eefb01975",
   "metadata": {
    "execution": {
     "iopub.execute_input": "2025-08-05T16:01:39.981931Z",
     "iopub.status.busy": "2025-08-05T16:01:39.981072Z",
     "iopub.status.idle": "2025-08-05T16:01:40.010349Z",
     "shell.execute_reply": "2025-08-05T16:01:40.009333Z"
    },
    "papermill": {
     "duration": 0.04913,
     "end_time": "2025-08-05T16:01:40.012161",
     "exception": false,
     "start_time": "2025-08-05T16:01:39.963031",
     "status": "completed"
    },
    "tags": []
   },
   "outputs": [
    {
     "name": "stdout",
     "output_type": "stream",
     "text": [
      "Current working directory: /dss/dsshome1/0C/ra93lal2/cma/CMA_Fairness_v2\n"
     ]
    }
   ],
   "source": [
    "import os\n",
    "print(\"Current working directory:\", os.getcwd())"
   ]
  },
  {
   "cell_type": "code",
   "execution_count": 3,
   "id": "2dce4c03",
   "metadata": {
    "execution": {
     "iopub.execute_input": "2025-08-05T16:01:40.048870Z",
     "iopub.status.busy": "2025-08-05T16:01:40.047922Z",
     "iopub.status.idle": "2025-08-05T16:01:40.054412Z",
     "shell.execute_reply": "2025-08-05T16:01:40.053462Z"
    },
    "papermill": {
     "duration": 0.02644,
     "end_time": "2025-08-05T16:01:40.056283",
     "exception": false,
     "start_time": "2025-08-05T16:01:40.029843",
     "status": "completed"
    },
    "tags": [
     "parameters"
    ]
   },
   "outputs": [],
   "source": [
    "run_no = 0\n",
    "universe_id = \"test\"\n",
    "universe = {\n",
    "    \"training_size\": \"25k\", # \"25k\", \"5k\", \"1k\"\n",
    "    \"training_year\": \"2014\", # \"2014\", \"2012_14\", \"2010_14\"\n",
    "    \"scale\": \"scale\", # \"scale\", \"do-not-scale\",\n",
    "    \"model\": \"elasticnet\", # \"logreg\", \"penalized_logreg\", \"rf\", \"gbm\", \"elasticnet\"\n",
    "    \"cutoff\": [\"quantile_0.15\", \"quantile_0.30\"],\n",
    "    \"exclude_features\": \"age\", # \"none\", \"nationality\", \"sex\", \"nationality-sex\", \"age\"\n",
    "    \"exclude_subgroups\": \"keep-all\", # \"keep-all\", \"drop-non-german\"\n",
    "    \"eval_fairness_grouping\": [\"majority-minority\", \"nationality-all\"]\n",
    "}\n",
    "\n",
    "output_dir=\"./output\"\n",
    "seed=0"
   ]
  },
  {
   "cell_type": "code",
   "execution_count": 4,
   "id": "021ec389",
   "metadata": {
    "execution": {
     "iopub.execute_input": "2025-08-05T16:01:40.091684Z",
     "iopub.status.busy": "2025-08-05T16:01:40.091135Z",
     "iopub.status.idle": "2025-08-05T16:01:40.096774Z",
     "shell.execute_reply": "2025-08-05T16:01:40.095636Z"
    },
    "papermill": {
     "duration": 0.024985,
     "end_time": "2025-08-05T16:01:40.098665",
     "exception": false,
     "start_time": "2025-08-05T16:01:40.073680",
     "status": "completed"
    },
    "tags": [
     "injected-parameters"
    ]
   },
   "outputs": [],
   "source": [
    "# Parameters\n",
    "universe_id = \"ba1118aa742c6c7423096d78797bd1ce\"\n",
    "run_no = \"15\"\n",
    "universe = \"{\\\"cutoff\\\": [\\\"quantile_0.1\\\", \\\"quantile_0.25\\\"], \\\"eval_fairness_grouping\\\": [\\\"majority-minority\\\", \\\"nationality-all\\\"], \\\"exclude_features\\\": \\\"none\\\", \\\"exclude_subgroups\\\": \\\"drop-non-german\\\", \\\"model\\\": \\\"logreg\\\", \\\"scale\\\": \\\"scale\\\", \\\"training_size\\\": \\\"1k\\\", \\\"training_year\\\": \\\"2014\\\"}\"\n",
    "output_dir = \"output\"\n",
    "seed = \"2023\"\n"
   ]
  },
  {
   "cell_type": "code",
   "execution_count": 5,
   "id": "1650acaf",
   "metadata": {
    "execution": {
     "iopub.execute_input": "2025-08-05T16:01:40.134245Z",
     "iopub.status.busy": "2025-08-05T16:01:40.133477Z",
     "iopub.status.idle": "2025-08-05T16:01:40.139112Z",
     "shell.execute_reply": "2025-08-05T16:01:40.138051Z"
    },
    "papermill": {
     "duration": 0.024965,
     "end_time": "2025-08-05T16:01:40.140772",
     "exception": false,
     "start_time": "2025-08-05T16:01:40.115807",
     "status": "completed"
    },
    "tags": []
   },
   "outputs": [],
   "source": [
    "import json\n",
    "if isinstance(universe, str):\n",
    "    universe = json.loads(universe)"
   ]
  },
  {
   "cell_type": "code",
   "execution_count": 6,
   "id": "16620c48",
   "metadata": {
    "execution": {
     "iopub.execute_input": "2025-08-05T16:01:40.175822Z",
     "iopub.status.busy": "2025-08-05T16:01:40.175298Z",
     "iopub.status.idle": "2025-08-05T16:01:40.223836Z",
     "shell.execute_reply": "2025-08-05T16:01:40.222917Z"
    },
    "papermill": {
     "duration": 0.067643,
     "end_time": "2025-08-05T16:01:40.225683",
     "exception": false,
     "start_time": "2025-08-05T16:01:40.158040",
     "status": "completed"
    },
    "tags": []
   },
   "outputs": [],
   "source": [
    "# Auto-reload the custom package\n",
    "%load_ext autoreload\n",
    "%autoreload 1\n",
    "%aimport fairness_multiverse"
   ]
  },
  {
   "cell_type": "code",
   "execution_count": 7,
   "id": "01c5c9f3",
   "metadata": {
    "execution": {
     "iopub.execute_input": "2025-08-05T16:01:40.260784Z",
     "iopub.status.busy": "2025-08-05T16:01:40.260171Z",
     "iopub.status.idle": "2025-08-05T16:01:42.133691Z",
     "shell.execute_reply": "2025-08-05T16:01:42.132594Z"
    },
    "papermill": {
     "duration": 1.892722,
     "end_time": "2025-08-05T16:01:42.135615",
     "exception": false,
     "start_time": "2025-08-05T16:01:40.242893",
     "status": "completed"
    },
    "tags": []
   },
   "outputs": [],
   "source": [
    "from fairness_multiverse.universe import UniverseAnalysis\n",
    "\n",
    "universe_analysis = UniverseAnalysis(\n",
    "    run_no = run_no,\n",
    "    universe_id = universe_id,\n",
    "    universe = universe,\n",
    "    output_dir=output_dir,\n",
    ")"
   ]
  },
  {
   "cell_type": "code",
   "execution_count": 8,
   "id": "106241f5",
   "metadata": {
    "execution": {
     "iopub.execute_input": "2025-08-05T16:01:42.177308Z",
     "iopub.status.busy": "2025-08-05T16:01:42.176576Z",
     "iopub.status.idle": "2025-08-05T16:01:42.184488Z",
     "shell.execute_reply": "2025-08-05T16:01:42.183295Z"
    },
    "papermill": {
     "duration": 0.031109,
     "end_time": "2025-08-05T16:01:42.186807",
     "exception": false,
     "start_time": "2025-08-05T16:01:42.155698",
     "status": "completed"
    },
    "tags": []
   },
   "outputs": [
    {
     "name": "stdout",
     "output_type": "stream",
     "text": [
      "Using Seed: 2023\n"
     ]
    }
   ],
   "source": [
    "import numpy as np\n",
    "parsed_seed = int(seed)\n",
    "np.random.seed(parsed_seed)\n",
    "print(f\"Using Seed: {parsed_seed}\")"
   ]
  },
  {
   "cell_type": "markdown",
   "id": "e0ebdc57",
   "metadata": {
    "papermill": {
     "duration": 0.019022,
     "end_time": "2025-08-05T16:01:42.226654",
     "exception": false,
     "start_time": "2025-08-05T16:01:42.207632",
     "status": "completed"
    },
    "tags": []
   },
   "source": [
    "# Loading Data"
   ]
  },
  {
   "cell_type": "code",
   "execution_count": 9,
   "id": "f0496b8a",
   "metadata": {
    "execution": {
     "iopub.execute_input": "2025-08-05T16:01:42.268960Z",
     "iopub.status.busy": "2025-08-05T16:01:42.268430Z",
     "iopub.status.idle": "2025-08-05T16:01:55.205735Z",
     "shell.execute_reply": "2025-08-05T16:01:55.204443Z"
    },
    "papermill": {
     "duration": 12.960931,
     "end_time": "2025-08-05T16:01:55.207842",
     "exception": false,
     "start_time": "2025-08-05T16:01:42.246911",
     "status": "completed"
    },
    "tags": []
   },
   "outputs": [
    {
     "name": "stdout",
     "output_type": "stream",
     "text": [
      "Loading SIAB data from cache: data/siab_cached.csv.gz\n"
     ]
    },
    {
     "name": "stdout",
     "output_type": "stream",
     "text": [
      "(643690, 164)\n"
     ]
    }
   ],
   "source": [
    "from pathlib import Path\n",
    "import pandas as pd\n",
    "\n",
    "# File paths\n",
    "raw_file = Path(\"data/raw/siab.csv\")\n",
    "cache_file = Path(\"data/siab_cached.csv.gz\")\n",
    "\n",
    "# Ensure cache directory exists\n",
    "cache_file.parent.mkdir(parents=True, exist_ok=True)\n",
    "\n",
    "# Load with simple caching\n",
    "if cache_file.exists():\n",
    "    print(f\"Loading SIAB data from cache: {cache_file}\")\n",
    "    siab = pd.read_csv(cache_file, compression='gzip')\n",
    "else:\n",
    "    print(f\"Cache not found. Reading raw SIAB data: {raw_file}\")\n",
    "    siab = pd.read_csv(raw_file)\n",
    "    siab.to_csv(cache_file, index=False, compression='gzip')\n",
    "    print(f\"Cached SIAB data to: {cache_file}\")\n",
    "\n",
    "print(siab.shape)"
   ]
  },
  {
   "cell_type": "code",
   "execution_count": 10,
   "id": "db0ca512-5f53-4dba-abdb-a2888bca41ba",
   "metadata": {
    "execution": {
     "iopub.execute_input": "2025-08-05T16:01:55.246730Z",
     "iopub.status.busy": "2025-08-05T16:01:55.246028Z",
     "iopub.status.idle": "2025-08-05T16:01:55.251827Z",
     "shell.execute_reply": "2025-08-05T16:01:55.250806Z"
    },
    "papermill": {
     "duration": 0.025799,
     "end_time": "2025-08-05T16:01:55.253625",
     "exception": false,
     "start_time": "2025-08-05T16:01:55.227826",
     "status": "completed"
    },
    "tags": []
   },
   "outputs": [],
   "source": [
    "#siab"
   ]
  },
  {
   "cell_type": "markdown",
   "id": "997051c5-15bd-4b69-9786-c3001a3ce484",
   "metadata": {
    "papermill": {
     "duration": 0.018396,
     "end_time": "2025-08-05T16:01:55.290816",
     "exception": false,
     "start_time": "2025-08-05T16:01:55.272420",
     "status": "completed"
    },
    "tags": []
   },
   "source": [
    "# Splitting Data and Setting Training Data Size"
   ]
  },
  {
   "cell_type": "code",
   "execution_count": 11,
   "id": "aea9c6ef-6f46-42c8-85eb-5a62025c1508",
   "metadata": {
    "execution": {
     "iopub.execute_input": "2025-08-05T16:01:55.329720Z",
     "iopub.status.busy": "2025-08-05T16:01:55.328850Z",
     "iopub.status.idle": "2025-08-05T16:01:55.565987Z",
     "shell.execute_reply": "2025-08-05T16:01:55.564994Z"
    },
    "papermill": {
     "duration": 0.258003,
     "end_time": "2025-08-05T16:01:55.568018",
     "exception": false,
     "start_time": "2025-08-05T16:01:55.310015",
     "status": "completed"
    },
    "tags": []
   },
   "outputs": [],
   "source": [
    "from fairness_multiverse.universe import sample_by_year_size\n",
    "\n",
    "siab_train = sample_by_year_size(siab,\n",
    "                               training_year=universe[\"training_year\"],\n",
    "                               training_size=universe[\"training_size\"])"
   ]
  },
  {
   "cell_type": "code",
   "execution_count": 12,
   "id": "8d3afb32-789d-442c-8d5d-9f5aa8dd2eed",
   "metadata": {
    "execution": {
     "iopub.execute_input": "2025-08-05T16:01:55.612779Z",
     "iopub.status.busy": "2025-08-05T16:01:55.612358Z",
     "iopub.status.idle": "2025-08-05T16:01:55.616925Z",
     "shell.execute_reply": "2025-08-05T16:01:55.616045Z"
    },
    "papermill": {
     "duration": 0.029364,
     "end_time": "2025-08-05T16:01:55.618724",
     "exception": false,
     "start_time": "2025-08-05T16:01:55.589360",
     "status": "completed"
    },
    "tags": []
   },
   "outputs": [],
   "source": [
    "#siab_train.shape"
   ]
  },
  {
   "cell_type": "code",
   "execution_count": 13,
   "id": "d582db68-1a4c-47fb-84fc-08518dc1975a",
   "metadata": {
    "execution": {
     "iopub.execute_input": "2025-08-05T16:01:55.653464Z",
     "iopub.status.busy": "2025-08-05T16:01:55.653064Z",
     "iopub.status.idle": "2025-08-05T16:01:55.657550Z",
     "shell.execute_reply": "2025-08-05T16:01:55.656540Z"
    },
    "papermill": {
     "duration": 0.023317,
     "end_time": "2025-08-05T16:01:55.659389",
     "exception": false,
     "start_time": "2025-08-05T16:01:55.636072",
     "status": "completed"
    },
    "tags": []
   },
   "outputs": [],
   "source": [
    "#display(siab_train.groupby(\"year\").size())"
   ]
  },
  {
   "cell_type": "code",
   "execution_count": 14,
   "id": "a561edb4-d032-42cb-8256-22eac1111c64",
   "metadata": {
    "execution": {
     "iopub.execute_input": "2025-08-05T16:01:55.699444Z",
     "iopub.status.busy": "2025-08-05T16:01:55.698878Z",
     "iopub.status.idle": "2025-08-05T16:01:55.931897Z",
     "shell.execute_reply": "2025-08-05T16:01:55.930866Z"
    },
    "papermill": {
     "duration": 0.255105,
     "end_time": "2025-08-05T16:01:55.933836",
     "exception": false,
     "start_time": "2025-08-05T16:01:55.678731",
     "status": "completed"
    },
    "tags": []
   },
   "outputs": [],
   "source": [
    "#siab_train = siab_s[siab_s.year < 2015]\n",
    "siab_calib = siab[siab.year == 2015]\n",
    "siab_test = siab[siab.year == 2016]"
   ]
  },
  {
   "cell_type": "code",
   "execution_count": 15,
   "id": "472de16f-c3db-4916-846b-1f0de9cf1746",
   "metadata": {
    "execution": {
     "iopub.execute_input": "2025-08-05T16:01:55.971491Z",
     "iopub.status.busy": "2025-08-05T16:01:55.970905Z",
     "iopub.status.idle": "2025-08-05T16:01:55.978842Z",
     "shell.execute_reply": "2025-08-05T16:01:55.977806Z"
    },
    "papermill": {
     "duration": 0.027924,
     "end_time": "2025-08-05T16:01:55.980569",
     "exception": false,
     "start_time": "2025-08-05T16:01:55.952645",
     "status": "completed"
    },
    "tags": []
   },
   "outputs": [],
   "source": [
    "X_train = siab_train.iloc[:,4:164]\n",
    "y_train = siab_train.iloc[:, [3]]"
   ]
  },
  {
   "cell_type": "code",
   "execution_count": 16,
   "id": "828c96af-f43a-4ed6-ba47-8ac73a47d56c",
   "metadata": {
    "execution": {
     "iopub.execute_input": "2025-08-05T16:01:56.021812Z",
     "iopub.status.busy": "2025-08-05T16:01:56.020799Z",
     "iopub.status.idle": "2025-08-05T16:01:56.057787Z",
     "shell.execute_reply": "2025-08-05T16:01:56.056861Z"
    },
    "papermill": {
     "duration": 0.060374,
     "end_time": "2025-08-05T16:01:56.059603",
     "exception": false,
     "start_time": "2025-08-05T16:01:55.999229",
     "status": "completed"
    },
    "tags": []
   },
   "outputs": [],
   "source": [
    "X_calib = siab_calib.iloc[:,4:164]\n",
    "y_calib = siab_calib.iloc[:, [3]]"
   ]
  },
  {
   "cell_type": "code",
   "execution_count": 17,
   "id": "c34be9c3-6bd6-476e-acd3-845840e303be",
   "metadata": {
    "execution": {
     "iopub.execute_input": "2025-08-05T16:01:56.088985Z",
     "iopub.status.busy": "2025-08-05T16:01:56.088130Z",
     "iopub.status.idle": "2025-08-05T16:01:56.145495Z",
     "shell.execute_reply": "2025-08-05T16:01:56.144187Z"
    },
    "papermill": {
     "duration": 0.077075,
     "end_time": "2025-08-05T16:01:56.147350",
     "exception": false,
     "start_time": "2025-08-05T16:01:56.070275",
     "status": "completed"
    },
    "tags": []
   },
   "outputs": [],
   "source": [
    "X_test = siab_test.iloc[:,4:164]\n",
    "y_true = siab_test.iloc[:, [3]]"
   ]
  },
  {
   "cell_type": "code",
   "execution_count": 18,
   "id": "e6c733c5",
   "metadata": {
    "execution": {
     "iopub.execute_input": "2025-08-05T16:01:56.187682Z",
     "iopub.status.busy": "2025-08-05T16:01:56.187248Z",
     "iopub.status.idle": "2025-08-05T16:01:56.279131Z",
     "shell.execute_reply": "2025-08-05T16:01:56.278290Z"
    },
    "papermill": {
     "duration": 0.113805,
     "end_time": "2025-08-05T16:01:56.280998",
     "exception": false,
     "start_time": "2025-08-05T16:01:56.167193",
     "status": "completed"
    },
    "tags": []
   },
   "outputs": [],
   "source": [
    "# Auxiliary data needed downstream in the pipeline\n",
    "\n",
    "org_train = X_train.copy()\n",
    "org_test = X_test.copy()\n",
    "org_calib = X_calib.copy()"
   ]
  },
  {
   "cell_type": "markdown",
   "id": "0a4a1b33",
   "metadata": {
    "papermill": {
     "duration": 0.018521,
     "end_time": "2025-08-05T16:01:56.318613",
     "exception": false,
     "start_time": "2025-08-05T16:01:56.300092",
     "status": "completed"
    },
    "tags": []
   },
   "source": [
    "# Preprocessing Data"
   ]
  },
  {
   "cell_type": "code",
   "execution_count": 19,
   "id": "ca879031",
   "metadata": {
    "execution": {
     "iopub.execute_input": "2025-08-05T16:01:56.360300Z",
     "iopub.status.busy": "2025-08-05T16:01:56.359723Z",
     "iopub.status.idle": "2025-08-05T16:01:56.367408Z",
     "shell.execute_reply": "2025-08-05T16:01:56.366238Z"
    },
    "papermill": {
     "duration": 0.029312,
     "end_time": "2025-08-05T16:01:56.369424",
     "exception": false,
     "start_time": "2025-08-05T16:01:56.340112",
     "status": "completed"
    },
    "tags": []
   },
   "outputs": [],
   "source": [
    "# EXCLUDE PROTECTED FEATURES\n",
    "# ----------------------\n",
    "# \"exclude_features\": \"none\", # \"nationality\", \"sex\", \"nationality-sex\"\n",
    "\n",
    "excluded_features = universe[\"exclude_features\"].split(\"-\") # split, e.g.: \"nationality-sex\" -> [\"nationality\", \"sex\"]\n",
    "excluded_features_dictionary = {\n",
    "    \"nationality\": [\"maxdeutsch1\", \"maxdeutsch.Missing.\"],\n",
    "    \"sex\": [\"frau1\"],\n",
    "    \"age\": [\"age\"],\n",
    "}"
   ]
  },
  {
   "cell_type": "code",
   "execution_count": 20,
   "id": "b745ac60",
   "metadata": {
    "execution": {
     "iopub.execute_input": "2025-08-05T16:01:56.409958Z",
     "iopub.status.busy": "2025-08-05T16:01:56.409026Z",
     "iopub.status.idle": "2025-08-05T16:01:56.415382Z",
     "shell.execute_reply": "2025-08-05T16:01:56.414323Z"
    },
    "papermill": {
     "duration": 0.027591,
     "end_time": "2025-08-05T16:01:56.417330",
     "exception": false,
     "start_time": "2025-08-05T16:01:56.389739",
     "status": "completed"
    },
    "tags": []
   },
   "outputs": [],
   "source": [
    "# Code nice names to column names\n",
    "\n",
    "excluded_features_columns = [\n",
    "    excluded_features_dictionary[f] for f in excluded_features if len(f) > 0 and f != \"none\"\n",
    "]"
   ]
  },
  {
   "cell_type": "code",
   "execution_count": 21,
   "id": "f84f73a2",
   "metadata": {
    "execution": {
     "iopub.execute_input": "2025-08-05T16:01:56.459819Z",
     "iopub.status.busy": "2025-08-05T16:01:56.459282Z",
     "iopub.status.idle": "2025-08-05T16:01:56.465959Z",
     "shell.execute_reply": "2025-08-05T16:01:56.465037Z"
    },
    "papermill": {
     "duration": 0.029541,
     "end_time": "2025-08-05T16:01:56.467834",
     "exception": false,
     "start_time": "2025-08-05T16:01:56.438293",
     "status": "completed"
    },
    "tags": []
   },
   "outputs": [],
   "source": [
    "from utils import flatten_once\n",
    "\n",
    "excluded_features_columns = flatten_once(excluded_features_columns)"
   ]
  },
  {
   "cell_type": "code",
   "execution_count": 22,
   "id": "884dea22",
   "metadata": {
    "execution": {
     "iopub.execute_input": "2025-08-05T16:01:56.508784Z",
     "iopub.status.busy": "2025-08-05T16:01:56.507746Z",
     "iopub.status.idle": "2025-08-05T16:01:56.514547Z",
     "shell.execute_reply": "2025-08-05T16:01:56.513552Z"
    },
    "papermill": {
     "duration": 0.027997,
     "end_time": "2025-08-05T16:01:56.516122",
     "exception": false,
     "start_time": "2025-08-05T16:01:56.488125",
     "status": "completed"
    },
    "tags": []
   },
   "outputs": [],
   "source": [
    "if len(excluded_features_columns) > 0:\n",
    "    print(f\"Dropping features: {excluded_features_columns}\")\n",
    "    X_train.drop(excluded_features_columns, axis=1, inplace=True)"
   ]
  },
  {
   "cell_type": "code",
   "execution_count": 23,
   "id": "95ab8b16",
   "metadata": {
    "execution": {
     "iopub.execute_input": "2025-08-05T16:01:56.557580Z",
     "iopub.status.busy": "2025-08-05T16:01:56.556576Z",
     "iopub.status.idle": "2025-08-05T16:01:56.563161Z",
     "shell.execute_reply": "2025-08-05T16:01:56.561675Z"
    },
    "papermill": {
     "duration": 0.029129,
     "end_time": "2025-08-05T16:01:56.565114",
     "exception": false,
     "start_time": "2025-08-05T16:01:56.535985",
     "status": "completed"
    },
    "tags": []
   },
   "outputs": [],
   "source": [
    "if len(excluded_features_columns) > 0:\n",
    "    print(f\"Dropping features: {excluded_features_columns}\")\n",
    "    X_test.drop(excluded_features_columns, axis=1, inplace=True)"
   ]
  },
  {
   "cell_type": "code",
   "execution_count": 24,
   "id": "1853aaf5-fb9f-46cb-a2b5-8ea4ae2237e4",
   "metadata": {
    "execution": {
     "iopub.execute_input": "2025-08-05T16:01:56.606261Z",
     "iopub.status.busy": "2025-08-05T16:01:56.605885Z",
     "iopub.status.idle": "2025-08-05T16:01:56.610505Z",
     "shell.execute_reply": "2025-08-05T16:01:56.609568Z"
    },
    "papermill": {
     "duration": 0.026765,
     "end_time": "2025-08-05T16:01:56.612409",
     "exception": false,
     "start_time": "2025-08-05T16:01:56.585644",
     "status": "completed"
    },
    "tags": []
   },
   "outputs": [],
   "source": [
    "if len(excluded_features_columns) > 0:\n",
    "    print(f\"Dropping features: {excluded_features_columns}\")\n",
    "    X_calib.drop(excluded_features_columns, axis=1, inplace=True)"
   ]
  },
  {
   "cell_type": "code",
   "execution_count": 25,
   "id": "76c4dc6d",
   "metadata": {
    "execution": {
     "iopub.execute_input": "2025-08-05T16:01:56.665597Z",
     "iopub.status.busy": "2025-08-05T16:01:56.665003Z",
     "iopub.status.idle": "2025-08-05T16:01:56.669657Z",
     "shell.execute_reply": "2025-08-05T16:01:56.668840Z"
    },
    "papermill": {
     "duration": 0.042922,
     "end_time": "2025-08-05T16:01:56.680539",
     "exception": false,
     "start_time": "2025-08-05T16:01:56.637617",
     "status": "completed"
    },
    "tags": []
   },
   "outputs": [],
   "source": [
    "# EXCLUDE CERTAIN SUBGROUPS\n",
    "# ----------------------\n",
    "\n",
    "mode = universe.get(\"exclude_subgroups\", \"keep-all\") \n",
    "# Fetches the exclude_subgroups setting from the universe dict.\n",
    "# Defaults to \"keep-all\" if the key is missing."
   ]
  },
  {
   "cell_type": "code",
   "execution_count": 26,
   "id": "21994072",
   "metadata": {
    "execution": {
     "iopub.execute_input": "2025-08-05T16:01:56.732171Z",
     "iopub.status.busy": "2025-08-05T16:01:56.731435Z",
     "iopub.status.idle": "2025-08-05T16:01:56.737166Z",
     "shell.execute_reply": "2025-08-05T16:01:56.736486Z"
    },
    "papermill": {
     "duration": 0.018121,
     "end_time": "2025-08-05T16:01:56.738671",
     "exception": false,
     "start_time": "2025-08-05T16:01:56.720550",
     "status": "completed"
    },
    "tags": []
   },
   "outputs": [],
   "source": [
    "if mode == \"keep-all\":\n",
    "    keep_mask = pd.Series(True, index=org_train.index)\n",
    "\n",
    "# org_train contains the original feature columns from features_org (in Simson)\n",
    "# features_org contains unprocessed features, for me X_train at beginning ???\n",
    "# For keep-all, creates a boolean Series (keep_mask) of all True, so no rows are removed.\n",
    "\n",
    "elif mode == \"drop-non-german\":\n",
    "    keep_mask = org_train[\"maxdeutsch1\"] == 1 # ??? what about missing values?\n",
    "\n",
    "else:\n",
    "    raise ValueError(f\"Unsupported mode for exclude_subgroups: {mode}\")"
   ]
  },
  {
   "cell_type": "code",
   "execution_count": 27,
   "id": "71651440",
   "metadata": {
    "execution": {
     "iopub.execute_input": "2025-08-05T16:01:56.761194Z",
     "iopub.status.busy": "2025-08-05T16:01:56.760684Z",
     "iopub.status.idle": "2025-08-05T16:01:56.768954Z",
     "shell.execute_reply": "2025-08-05T16:01:56.768189Z"
    },
    "papermill": {
     "duration": 0.021557,
     "end_time": "2025-08-05T16:01:56.770519",
     "exception": false,
     "start_time": "2025-08-05T16:01:56.748962",
     "status": "completed"
    },
    "tags": []
   },
   "outputs": [
    {
     "name": "stdout",
     "output_type": "stream",
     "text": [
      "Dropping 147 rows (14.70%) where mode='drop-non-german'\n"
     ]
    }
   ],
   "source": [
    "n_drop = (~keep_mask).sum() # Calculates how many rows are set to be dropped\n",
    "if n_drop > 0:\n",
    "    pct = n_drop / len(keep_mask) * 100\n",
    "    print(f\"Dropping {n_drop} rows ({pct:.2f}%) where mode='{mode}'\")"
   ]
  },
  {
   "cell_type": "code",
   "execution_count": 28,
   "id": "5fb8eee5",
   "metadata": {
    "execution": {
     "iopub.execute_input": "2025-08-05T16:01:56.791727Z",
     "iopub.status.busy": "2025-08-05T16:01:56.791133Z",
     "iopub.status.idle": "2025-08-05T16:01:56.797125Z",
     "shell.execute_reply": "2025-08-05T16:01:56.795843Z"
    },
    "papermill": {
     "duration": 0.017856,
     "end_time": "2025-08-05T16:01:56.798720",
     "exception": false,
     "start_time": "2025-08-05T16:01:56.780864",
     "status": "completed"
    },
    "tags": []
   },
   "outputs": [],
   "source": [
    "X_train = X_train[keep_mask]"
   ]
  },
  {
   "cell_type": "code",
   "execution_count": 29,
   "id": "b202bb3a",
   "metadata": {
    "execution": {
     "iopub.execute_input": "2025-08-05T16:01:56.838810Z",
     "iopub.status.busy": "2025-08-05T16:01:56.838332Z",
     "iopub.status.idle": "2025-08-05T16:01:56.844988Z",
     "shell.execute_reply": "2025-08-05T16:01:56.843683Z"
    },
    "papermill": {
     "duration": 0.030299,
     "end_time": "2025-08-05T16:01:56.847093",
     "exception": false,
     "start_time": "2025-08-05T16:01:56.816794",
     "status": "completed"
    },
    "tags": []
   },
   "outputs": [],
   "source": [
    "y_train = y_train[keep_mask]"
   ]
  },
  {
   "cell_type": "markdown",
   "id": "493e2ac3",
   "metadata": {
    "papermill": {
     "duration": 0.019156,
     "end_time": "2025-08-05T16:01:56.887321",
     "exception": false,
     "start_time": "2025-08-05T16:01:56.868165",
     "status": "completed"
    },
    "tags": []
   },
   "source": [
    "# Model Training"
   ]
  },
  {
   "cell_type": "code",
   "execution_count": 30,
   "id": "679e1268",
   "metadata": {
    "execution": {
     "iopub.execute_input": "2025-08-05T16:01:56.930751Z",
     "iopub.status.busy": "2025-08-05T16:01:56.930073Z",
     "iopub.status.idle": "2025-08-05T16:01:57.039704Z",
     "shell.execute_reply": "2025-08-05T16:01:57.038635Z"
    },
    "papermill": {
     "duration": 0.13384,
     "end_time": "2025-08-05T16:01:57.041833",
     "exception": false,
     "start_time": "2025-08-05T16:01:56.907993",
     "status": "completed"
    },
    "tags": []
   },
   "outputs": [],
   "source": [
    "from sklearn.linear_model import LogisticRegression\n",
    "from sklearn.ensemble import GradientBoostingClassifier, RandomForestClassifier\n",
    "\n",
    "if (universe[\"model\"] == \"logreg\"):\n",
    "    model = LogisticRegression() #penalty=\"none\", solver=\"newton-cg\", max_iter=1) # include random_state=19 ?\n",
    "elif (universe[\"model\"] == \"penalized_logreg\"):\n",
    "    model = LogisticRegression(penalty=\"l2\", C=0.1) #, solver=\"newton-cg\", max_iter=1)\n",
    "elif (universe[\"model\"] == \"rf\"):\n",
    "    model = RandomForestClassifier() # n_estimators=100, n_jobs=-1\n",
    "elif (universe[\"model\"] == \"gbm\"):\n",
    "    model = GradientBoostingClassifier()\n",
    "elif (universe[\"model\"] == \"elasticnet\"):\n",
    "    model = LogisticRegression(penalty = 'elasticnet', solver = 'saga', l1_ratio = 0.5) # max_iter=5000\n",
    "else:\n",
    "    raise \"Unsupported universe.model\""
   ]
  },
  {
   "cell_type": "code",
   "execution_count": 31,
   "id": "0cc8f744",
   "metadata": {
    "execution": {
     "iopub.execute_input": "2025-08-05T16:01:57.087637Z",
     "iopub.status.busy": "2025-08-05T16:01:57.087135Z",
     "iopub.status.idle": "2025-08-05T16:01:57.094177Z",
     "shell.execute_reply": "2025-08-05T16:01:57.093070Z"
    },
    "papermill": {
     "duration": 0.032263,
     "end_time": "2025-08-05T16:01:57.096363",
     "exception": false,
     "start_time": "2025-08-05T16:01:57.064100",
     "status": "completed"
    },
    "tags": []
   },
   "outputs": [],
   "source": [
    "import numpy as np\n",
    "from sklearn.pipeline import Pipeline\n",
    "from sklearn.preprocessing import StandardScaler\n",
    "\n",
    "model = Pipeline([\n",
    "    #(\"continuous_processor\", continuous_processor),\n",
    "    #(\"categorical_preprocessor\", categorical_preprocessor),\n",
    "    (\"scale\", StandardScaler() if universe[\"scale\"] == \"scale\" else None), \n",
    "    (\"model\", model),\n",
    "])"
   ]
  },
  {
   "cell_type": "code",
   "execution_count": 32,
   "id": "9442c04d",
   "metadata": {
    "execution": {
     "iopub.execute_input": "2025-08-05T16:01:57.142274Z",
     "iopub.status.busy": "2025-08-05T16:01:57.141264Z",
     "iopub.status.idle": "2025-08-05T16:01:57.221462Z",
     "shell.execute_reply": "2025-08-05T16:01:57.220358Z"
    },
    "papermill": {
     "duration": 0.104913,
     "end_time": "2025-08-05T16:01:57.223493",
     "exception": false,
     "start_time": "2025-08-05T16:01:57.118580",
     "status": "completed"
    },
    "tags": []
   },
   "outputs": [
    {
     "name": "stderr",
     "output_type": "stream",
     "text": [
      "/dss/dsshome1/0C/ra93lal2/.local/share/virtualenvs/CMA_Fairness_v2-3j10GkSs/lib/python3.10/site-packages/sklearn/linear_model/_logistic.py:444: ConvergenceWarning: lbfgs failed to converge (status=1):\n",
      "STOP: TOTAL NO. of ITERATIONS REACHED LIMIT.\n",
      "\n",
      "Increase the number of iterations (max_iter) or scale the data as shown in:\n",
      "    https://scikit-learn.org/stable/modules/preprocessing.html\n",
      "Please also refer to the documentation for alternative solver options:\n",
      "    https://scikit-learn.org/stable/modules/linear_model.html#logistic-regression\n",
      "  n_iter_i = _check_optimize_result(\n"
     ]
    },
    {
     "data": {
      "text/html": [
       "<style>#sk-container-id-1 {color: black;background-color: white;}#sk-container-id-1 pre{padding: 0;}#sk-container-id-1 div.sk-toggleable {background-color: white;}#sk-container-id-1 label.sk-toggleable__label {cursor: pointer;display: block;width: 100%;margin-bottom: 0;padding: 0.3em;box-sizing: border-box;text-align: center;}#sk-container-id-1 label.sk-toggleable__label-arrow:before {content: \"▸\";float: left;margin-right: 0.25em;color: #696969;}#sk-container-id-1 label.sk-toggleable__label-arrow:hover:before {color: black;}#sk-container-id-1 div.sk-estimator:hover label.sk-toggleable__label-arrow:before {color: black;}#sk-container-id-1 div.sk-toggleable__content {max-height: 0;max-width: 0;overflow: hidden;text-align: left;background-color: #f0f8ff;}#sk-container-id-1 div.sk-toggleable__content pre {margin: 0.2em;color: black;border-radius: 0.25em;background-color: #f0f8ff;}#sk-container-id-1 input.sk-toggleable__control:checked~div.sk-toggleable__content {max-height: 200px;max-width: 100%;overflow: auto;}#sk-container-id-1 input.sk-toggleable__control:checked~label.sk-toggleable__label-arrow:before {content: \"▾\";}#sk-container-id-1 div.sk-estimator input.sk-toggleable__control:checked~label.sk-toggleable__label {background-color: #d4ebff;}#sk-container-id-1 div.sk-label input.sk-toggleable__control:checked~label.sk-toggleable__label {background-color: #d4ebff;}#sk-container-id-1 input.sk-hidden--visually {border: 0;clip: rect(1px 1px 1px 1px);clip: rect(1px, 1px, 1px, 1px);height: 1px;margin: -1px;overflow: hidden;padding: 0;position: absolute;width: 1px;}#sk-container-id-1 div.sk-estimator {font-family: monospace;background-color: #f0f8ff;border: 1px dotted black;border-radius: 0.25em;box-sizing: border-box;margin-bottom: 0.5em;}#sk-container-id-1 div.sk-estimator:hover {background-color: #d4ebff;}#sk-container-id-1 div.sk-parallel-item::after {content: \"\";width: 100%;border-bottom: 1px solid gray;flex-grow: 1;}#sk-container-id-1 div.sk-label:hover label.sk-toggleable__label {background-color: #d4ebff;}#sk-container-id-1 div.sk-serial::before {content: \"\";position: absolute;border-left: 1px solid gray;box-sizing: border-box;top: 0;bottom: 0;left: 50%;z-index: 0;}#sk-container-id-1 div.sk-serial {display: flex;flex-direction: column;align-items: center;background-color: white;padding-right: 0.2em;padding-left: 0.2em;position: relative;}#sk-container-id-1 div.sk-item {position: relative;z-index: 1;}#sk-container-id-1 div.sk-parallel {display: flex;align-items: stretch;justify-content: center;background-color: white;position: relative;}#sk-container-id-1 div.sk-item::before, #sk-container-id-1 div.sk-parallel-item::before {content: \"\";position: absolute;border-left: 1px solid gray;box-sizing: border-box;top: 0;bottom: 0;left: 50%;z-index: -1;}#sk-container-id-1 div.sk-parallel-item {display: flex;flex-direction: column;z-index: 1;position: relative;background-color: white;}#sk-container-id-1 div.sk-parallel-item:first-child::after {align-self: flex-end;width: 50%;}#sk-container-id-1 div.sk-parallel-item:last-child::after {align-self: flex-start;width: 50%;}#sk-container-id-1 div.sk-parallel-item:only-child::after {width: 0;}#sk-container-id-1 div.sk-dashed-wrapped {border: 1px dashed gray;margin: 0 0.4em 0.5em 0.4em;box-sizing: border-box;padding-bottom: 0.4em;background-color: white;}#sk-container-id-1 div.sk-label label {font-family: monospace;font-weight: bold;display: inline-block;line-height: 1.2em;}#sk-container-id-1 div.sk-label-container {text-align: center;}#sk-container-id-1 div.sk-container {/* jupyter's `normalize.less` sets `[hidden] { display: none; }` but bootstrap.min.css set `[hidden] { display: none !important; }` so we also need the `!important` here to be able to override the default hidden behavior on the sphinx rendered scikit-learn.org. See: https://github.com/scikit-learn/scikit-learn/issues/21755 */display: inline-block !important;position: relative;}#sk-container-id-1 div.sk-text-repr-fallback {display: none;}</style><div id=\"sk-container-id-1\" class=\"sk-top-container\"><div class=\"sk-text-repr-fallback\"><pre>Pipeline(steps=[(&#x27;scale&#x27;, StandardScaler()), (&#x27;model&#x27;, LogisticRegression())])</pre><b>In a Jupyter environment, please rerun this cell to show the HTML representation or trust the notebook. <br />On GitHub, the HTML representation is unable to render, please try loading this page with nbviewer.org.</b></div><div class=\"sk-container\" hidden><div class=\"sk-item sk-dashed-wrapped\"><div class=\"sk-label-container\"><div class=\"sk-label sk-toggleable\"><input class=\"sk-toggleable__control sk-hidden--visually\" id=\"sk-estimator-id-1\" type=\"checkbox\" ><label for=\"sk-estimator-id-1\" class=\"sk-toggleable__label sk-toggleable__label-arrow\">Pipeline</label><div class=\"sk-toggleable__content\"><pre>Pipeline(steps=[(&#x27;scale&#x27;, StandardScaler()), (&#x27;model&#x27;, LogisticRegression())])</pre></div></div></div><div class=\"sk-serial\"><div class=\"sk-item\"><div class=\"sk-estimator sk-toggleable\"><input class=\"sk-toggleable__control sk-hidden--visually\" id=\"sk-estimator-id-2\" type=\"checkbox\" ><label for=\"sk-estimator-id-2\" class=\"sk-toggleable__label sk-toggleable__label-arrow\">StandardScaler</label><div class=\"sk-toggleable__content\"><pre>StandardScaler()</pre></div></div></div><div class=\"sk-item\"><div class=\"sk-estimator sk-toggleable\"><input class=\"sk-toggleable__control sk-hidden--visually\" id=\"sk-estimator-id-3\" type=\"checkbox\" ><label for=\"sk-estimator-id-3\" class=\"sk-toggleable__label sk-toggleable__label-arrow\">LogisticRegression</label><div class=\"sk-toggleable__content\"><pre>LogisticRegression()</pre></div></div></div></div></div></div></div>"
      ],
      "text/plain": [
       "Pipeline(steps=[('scale', StandardScaler()), ('model', LogisticRegression())])"
      ]
     },
     "execution_count": 32,
     "metadata": {},
     "output_type": "execute_result"
    }
   ],
   "source": [
    "model.fit(X_train, y_train.values.ravel())"
   ]
  },
  {
   "cell_type": "code",
   "execution_count": 33,
   "id": "af59f8c0",
   "metadata": {
    "execution": {
     "iopub.execute_input": "2025-08-05T16:01:57.277115Z",
     "iopub.status.busy": "2025-08-05T16:01:57.276142Z",
     "iopub.status.idle": "2025-08-05T16:01:57.282613Z",
     "shell.execute_reply": "2025-08-05T16:01:57.281378Z"
    },
    "papermill": {
     "duration": 0.033134,
     "end_time": "2025-08-05T16:01:57.284753",
     "exception": false,
     "start_time": "2025-08-05T16:01:57.251619",
     "status": "completed"
    },
    "tags": []
   },
   "outputs": [],
   "source": [
    "from fairness_multiverse.universe import predict_w_threshold"
   ]
  },
  {
   "cell_type": "code",
   "execution_count": 34,
   "id": "a7cf2e16",
   "metadata": {
    "execution": {
     "iopub.execute_input": "2025-08-05T16:01:57.339497Z",
     "iopub.status.busy": "2025-08-05T16:01:57.338537Z",
     "iopub.status.idle": "2025-08-05T16:01:57.537933Z",
     "shell.execute_reply": "2025-08-05T16:01:57.537124Z"
    },
    "papermill": {
     "duration": 0.229353,
     "end_time": "2025-08-05T16:01:57.539519",
     "exception": false,
     "start_time": "2025-08-05T16:01:57.310166",
     "status": "completed"
    },
    "tags": []
   },
   "outputs": [
    {
     "data": {
      "text/plain": [
       "0.8111916174339538"
      ]
     },
     "execution_count": 34,
     "metadata": {},
     "output_type": "execute_result"
    }
   ],
   "source": [
    "probs_test = model.predict_proba(X_test)\n",
    "\n",
    "'''\n",
    "Below code returns a boolean array (or binary 0/1 array depending on how it’s used) where each element \n",
    "is True if the probability of class 1 is greater than or equal to the threshold, and False otherwise.\n",
    "'''\n",
    "y_pred_default = predict_w_threshold(probs_test, 0.5)\n",
    "\n",
    "from sklearn.metrics import accuracy_score\n",
    "\n",
    "# Naive prediction\n",
    "accuracy_score(y_true = y_true, y_pred = y_pred_default)"
   ]
  },
  {
   "cell_type": "code",
   "execution_count": 35,
   "id": "081964c3",
   "metadata": {
    "execution": {
     "iopub.execute_input": "2025-08-05T16:01:57.562729Z",
     "iopub.status.busy": "2025-08-05T16:01:57.561963Z",
     "iopub.status.idle": "2025-08-05T16:01:57.734022Z",
     "shell.execute_reply": "2025-08-05T16:01:57.733120Z"
    },
    "papermill": {
     "duration": 0.18455,
     "end_time": "2025-08-05T16:01:57.735316",
     "exception": false,
     "start_time": "2025-08-05T16:01:57.550766",
     "status": "completed"
    },
    "tags": []
   },
   "outputs": [
    {
     "data": {
      "text/plain": [
       "array([0, 0, 0, ..., 0, 0, 0])"
      ]
     },
     "execution_count": 35,
     "metadata": {},
     "output_type": "execute_result"
    }
   ],
   "source": [
    "model.predict(X_test)"
   ]
  },
  {
   "cell_type": "markdown",
   "id": "56c9705b",
   "metadata": {
    "papermill": {
     "duration": 0.010597,
     "end_time": "2025-08-05T16:01:57.757391",
     "exception": false,
     "start_time": "2025-08-05T16:01:57.746794",
     "status": "completed"
    },
    "tags": []
   },
   "source": [
    "# Conformal Prediction"
   ]
  },
  {
   "cell_type": "code",
   "execution_count": 36,
   "id": "160ec6ff",
   "metadata": {
    "execution": {
     "iopub.execute_input": "2025-08-05T16:01:57.779503Z",
     "iopub.status.busy": "2025-08-05T16:01:57.778788Z",
     "iopub.status.idle": "2025-08-05T16:01:57.783490Z",
     "shell.execute_reply": "2025-08-05T16:01:57.782707Z"
    },
    "papermill": {
     "duration": 0.017162,
     "end_time": "2025-08-05T16:01:57.784801",
     "exception": false,
     "start_time": "2025-08-05T16:01:57.767639",
     "status": "completed"
    },
    "tags": []
   },
   "outputs": [],
   "source": [
    "# Miscoverage level for conformal prediction (10% allowed error rate => 90% target coverage)\n",
    "alpha = 0.1"
   ]
  },
  {
   "cell_type": "code",
   "execution_count": 37,
   "id": "eadf4555-3dd3-440e-8e35-f82a4ad9f855",
   "metadata": {
    "execution": {
     "iopub.execute_input": "2025-08-05T16:01:57.808199Z",
     "iopub.status.busy": "2025-08-05T16:01:57.807644Z",
     "iopub.status.idle": "2025-08-05T16:01:57.976830Z",
     "shell.execute_reply": "2025-08-05T16:01:57.975810Z"
    },
    "papermill": {
     "duration": 0.182516,
     "end_time": "2025-08-05T16:01:57.978826",
     "exception": false,
     "start_time": "2025-08-05T16:01:57.796310",
     "status": "completed"
    },
    "tags": []
   },
   "outputs": [],
   "source": [
    "probs_calib = model.predict_proba(X_calib)"
   ]
  },
  {
   "cell_type": "code",
   "execution_count": 38,
   "id": "2ed93547-6d5d-4983-9b36-1ecb300da49a",
   "metadata": {
    "execution": {
     "iopub.execute_input": "2025-08-05T16:01:58.024750Z",
     "iopub.status.busy": "2025-08-05T16:01:58.023875Z",
     "iopub.status.idle": "2025-08-05T16:01:58.031249Z",
     "shell.execute_reply": "2025-08-05T16:01:58.028949Z"
    },
    "papermill": {
     "duration": 0.031903,
     "end_time": "2025-08-05T16:01:58.033268",
     "exception": false,
     "start_time": "2025-08-05T16:01:58.001365",
     "status": "completed"
    },
    "tags": []
   },
   "outputs": [],
   "source": [
    "y_calib = y_calib.values.ravel().astype(int)"
   ]
  },
  {
   "cell_type": "code",
   "execution_count": 39,
   "id": "65d1320d-f588-4b38-9072-62af1ae97f7d",
   "metadata": {
    "execution": {
     "iopub.execute_input": "2025-08-05T16:01:58.081033Z",
     "iopub.status.busy": "2025-08-05T16:01:58.080572Z",
     "iopub.status.idle": "2025-08-05T16:01:58.088158Z",
     "shell.execute_reply": "2025-08-05T16:01:58.087017Z"
    },
    "papermill": {
     "duration": 0.033444,
     "end_time": "2025-08-05T16:01:58.089638",
     "exception": false,
     "start_time": "2025-08-05T16:01:58.056194",
     "status": "completed"
    },
    "tags": []
   },
   "outputs": [],
   "source": [
    "from fairness_multiverse.conformal import compute_nc_scores\n",
    "\n",
    "# Compute nonconformity scores on calibration set (1 - probability of true class)\n",
    "nc_scores = compute_nc_scores(probs_calib, y_calib)"
   ]
  },
  {
   "cell_type": "code",
   "execution_count": 40,
   "id": "df3b8ca3-53b7-43d5-9667-7c85da7aeda2",
   "metadata": {
    "execution": {
     "iopub.execute_input": "2025-08-05T16:01:58.131826Z",
     "iopub.status.busy": "2025-08-05T16:01:58.131395Z",
     "iopub.status.idle": "2025-08-05T16:01:58.138348Z",
     "shell.execute_reply": "2025-08-05T16:01:58.137331Z"
    },
    "papermill": {
     "duration": 0.033332,
     "end_time": "2025-08-05T16:01:58.139967",
     "exception": false,
     "start_time": "2025-08-05T16:01:58.106635",
     "status": "completed"
    },
    "tags": []
   },
   "outputs": [],
   "source": [
    "from fairness_multiverse.conformal import find_threshold\n",
    "\n",
    "# Find conformal threshold q_hat for the given alpha (split conformal method)\n",
    "q_hat = find_threshold(nc_scores, alpha)"
   ]
  },
  {
   "cell_type": "code",
   "execution_count": 41,
   "id": "4d29e6c1-0ef6-4aa4-b8fe-4fe79b0d033a",
   "metadata": {
    "execution": {
     "iopub.execute_input": "2025-08-05T16:01:58.186675Z",
     "iopub.status.busy": "2025-08-05T16:01:58.185875Z",
     "iopub.status.idle": "2025-08-05T16:01:58.193293Z",
     "shell.execute_reply": "2025-08-05T16:01:58.192281Z"
    },
    "papermill": {
     "duration": 0.031875,
     "end_time": "2025-08-05T16:01:58.195114",
     "exception": false,
     "start_time": "2025-08-05T16:01:58.163239",
     "status": "completed"
    },
    "tags": []
   },
   "outputs": [
    {
     "data": {
      "text/plain": [
       "0.8446131948566145"
      ]
     },
     "execution_count": 41,
     "metadata": {},
     "output_type": "execute_result"
    }
   ],
   "source": [
    "q_hat"
   ]
  },
  {
   "cell_type": "code",
   "execution_count": 42,
   "id": "92460794-cdac-4be2-ba28-f28c0515a6fb",
   "metadata": {
    "execution": {
     "iopub.execute_input": "2025-08-05T16:01:58.238508Z",
     "iopub.status.busy": "2025-08-05T16:01:58.237355Z",
     "iopub.status.idle": "2025-08-05T16:01:58.946345Z",
     "shell.execute_reply": "2025-08-05T16:01:58.945498Z"
    },
    "papermill": {
     "duration": 0.733232,
     "end_time": "2025-08-05T16:01:58.947831",
     "exception": false,
     "start_time": "2025-08-05T16:01:58.214599",
     "status": "completed"
    },
    "tags": []
   },
   "outputs": [],
   "source": [
    "from fairness_multiverse.conformal import predict_conformal_sets\n",
    "\n",
    "# Generate prediction sets for each test example\n",
    "pred_sets = predict_conformal_sets(model, X_test, q_hat)"
   ]
  },
  {
   "cell_type": "code",
   "execution_count": 43,
   "id": "d90c9a65-e6db-4f5d-80cd-e68fb7e46829",
   "metadata": {
    "execution": {
     "iopub.execute_input": "2025-08-05T16:01:58.971885Z",
     "iopub.status.busy": "2025-08-05T16:01:58.971500Z",
     "iopub.status.idle": "2025-08-05T16:01:58.976419Z",
     "shell.execute_reply": "2025-08-05T16:01:58.975537Z"
    },
    "papermill": {
     "duration": 0.018631,
     "end_time": "2025-08-05T16:01:58.977978",
     "exception": false,
     "start_time": "2025-08-05T16:01:58.959347",
     "status": "completed"
    },
    "tags": []
   },
   "outputs": [],
   "source": [
    "y_true = y_true.squeeze()"
   ]
  },
  {
   "cell_type": "code",
   "execution_count": 44,
   "id": "3a58a54a-1e68-46b9-927a-df01f18aebc8",
   "metadata": {
    "execution": {
     "iopub.execute_input": "2025-08-05T16:01:59.002536Z",
     "iopub.status.busy": "2025-08-05T16:01:59.001811Z",
     "iopub.status.idle": "2025-08-05T16:02:00.101189Z",
     "shell.execute_reply": "2025-08-05T16:02:00.100074Z"
    },
    "papermill": {
     "duration": 1.112999,
     "end_time": "2025-08-05T16:02:00.103351",
     "exception": false,
     "start_time": "2025-08-05T16:01:58.990352",
     "status": "completed"
    },
    "tags": []
   },
   "outputs": [],
   "source": [
    "from fairness_multiverse.conformal import evaluate_sets\n",
    "\n",
    "# Evaluate coverage and average set size on test data\n",
    "metrics = evaluate_sets(pred_sets, y_true)"
   ]
  },
  {
   "cell_type": "markdown",
   "id": "2b569c12-9aaa-4c88-98c9-bbcd0cf3ebb8",
   "metadata": {
    "papermill": {
     "duration": 0.019704,
     "end_time": "2025-08-05T16:02:00.143815",
     "exception": false,
     "start_time": "2025-08-05T16:02:00.124111",
     "status": "completed"
    },
    "tags": []
   },
   "source": [
    "# CP Metrics"
   ]
  },
  {
   "cell_type": "code",
   "execution_count": 45,
   "id": "5ce0a5cb-201f-45a0-ade5-94c7f0bd6095",
   "metadata": {
    "execution": {
     "iopub.execute_input": "2025-08-05T16:02:00.183647Z",
     "iopub.status.busy": "2025-08-05T16:02:00.182685Z",
     "iopub.status.idle": "2025-08-05T16:02:00.189844Z",
     "shell.execute_reply": "2025-08-05T16:02:00.188746Z"
    },
    "papermill": {
     "duration": 0.029373,
     "end_time": "2025-08-05T16:02:00.191681",
     "exception": false,
     "start_time": "2025-08-05T16:02:00.162308",
     "status": "completed"
    },
    "tags": []
   },
   "outputs": [
    {
     "data": {
      "text/plain": [
       "{'coverage': 0.9080704492252815, 'avg_size': 1.2678965555679411}"
      ]
     },
     "execution_count": 45,
     "metadata": {},
     "output_type": "execute_result"
    }
   ],
   "source": [
    "metrics"
   ]
  },
  {
   "cell_type": "code",
   "execution_count": 46,
   "id": "9b9a838d-31c9-430b-ae14-12baee460d17",
   "metadata": {
    "execution": {
     "iopub.execute_input": "2025-08-05T16:02:00.233777Z",
     "iopub.status.busy": "2025-08-05T16:02:00.232953Z",
     "iopub.status.idle": "2025-08-05T16:02:00.239624Z",
     "shell.execute_reply": "2025-08-05T16:02:00.238596Z"
    },
    "papermill": {
     "duration": 0.029008,
     "end_time": "2025-08-05T16:02:00.241431",
     "exception": false,
     "start_time": "2025-08-05T16:02:00.212423",
     "status": "completed"
    },
    "tags": []
   },
   "outputs": [],
   "source": [
    "example_universe = universe.copy()\n",
    "universe_training_year = example_universe.get(\"training_year\")\n",
    "universe_training_size = example_universe.get(\"training_size\")\n",
    "universe_scale = example_universe.get(\"scale\")\n",
    "universe_model = example_universe.get(\"model\")\n",
    "universe_exclude_features = example_universe.get(\"exclude_features\")\n",
    "universe_exclude_subgroups = example_universe.get(\"exclude_subgroups\")"
   ]
  },
  {
   "cell_type": "code",
   "execution_count": 47,
   "id": "f4b6a8ac-9dc0-4245-8a91-5b3b5999c4f9",
   "metadata": {
    "execution": {
     "iopub.execute_input": "2025-08-05T16:02:00.283686Z",
     "iopub.status.busy": "2025-08-05T16:02:00.282993Z",
     "iopub.status.idle": "2025-08-05T16:02:00.290064Z",
     "shell.execute_reply": "2025-08-05T16:02:00.288906Z"
    },
    "papermill": {
     "duration": 0.030034,
     "end_time": "2025-08-05T16:02:00.291922",
     "exception": false,
     "start_time": "2025-08-05T16:02:00.261888",
     "status": "completed"
    },
    "tags": []
   },
   "outputs": [],
   "source": [
    "cp_metrics_dict = {\n",
    "    \"universe_id\": [universe_id],\n",
    "    \"universe_training_year\": [universe_training_year],\n",
    "    \"universe_training_size\": [universe_training_size],\n",
    "    \"universe_scale\": [universe_scale],\n",
    "    \"universe_model\": [universe_model],\n",
    "    \"universe_exclude_features\": [universe_exclude_features],\n",
    "    \"universe_exclude_subgroups\": [universe_exclude_subgroups],\n",
    "    \"q_hat\": [q_hat],\n",
    "    \"coverage\": [metrics[\"coverage\"]],\n",
    "    \"avg_size\": [metrics[\"avg_size\"]],\n",
    "}"
   ]
  },
  {
   "cell_type": "code",
   "execution_count": 48,
   "id": "908acbb1-0371-4915-85ca-3fa520d2efe2",
   "metadata": {
    "execution": {
     "iopub.execute_input": "2025-08-05T16:02:00.339383Z",
     "iopub.status.busy": "2025-08-05T16:02:00.338900Z",
     "iopub.status.idle": "2025-08-05T16:02:00.346984Z",
     "shell.execute_reply": "2025-08-05T16:02:00.345857Z"
    },
    "papermill": {
     "duration": 0.034185,
     "end_time": "2025-08-05T16:02:00.348698",
     "exception": false,
     "start_time": "2025-08-05T16:02:00.314513",
     "status": "completed"
    },
    "tags": []
   },
   "outputs": [
    {
     "data": {
      "text/plain": [
       "{'universe_id': ['ba1118aa742c6c7423096d78797bd1ce'],\n",
       " 'universe_training_year': ['2014'],\n",
       " 'universe_training_size': ['1k'],\n",
       " 'universe_scale': ['scale'],\n",
       " 'universe_model': ['logreg'],\n",
       " 'universe_exclude_features': ['none'],\n",
       " 'universe_exclude_subgroups': ['drop-non-german'],\n",
       " 'q_hat': [0.8446131948566145],\n",
       " 'coverage': [0.9080704492252815],\n",
       " 'avg_size': [1.2678965555679411]}"
      ]
     },
     "execution_count": 48,
     "metadata": {},
     "output_type": "execute_result"
    }
   ],
   "source": [
    "cp_metrics_dict"
   ]
  },
  {
   "cell_type": "code",
   "execution_count": 49,
   "id": "33007efc-14e9-4ec6-97ac-56a455c82265",
   "metadata": {
    "execution": {
     "iopub.execute_input": "2025-08-05T16:02:00.398125Z",
     "iopub.status.busy": "2025-08-05T16:02:00.397535Z",
     "iopub.status.idle": "2025-08-05T16:02:00.404549Z",
     "shell.execute_reply": "2025-08-05T16:02:00.403477Z"
    },
    "papermill": {
     "duration": 0.034148,
     "end_time": "2025-08-05T16:02:00.406650",
     "exception": false,
     "start_time": "2025-08-05T16:02:00.372502",
     "status": "completed"
    },
    "tags": []
   },
   "outputs": [],
   "source": [
    "cp_metrics_df = pd.DataFrame(cp_metrics_dict)"
   ]
  },
  {
   "cell_type": "code",
   "execution_count": 50,
   "id": "db12611b-57b2-4910-b9d0-355adfd6e7bf",
   "metadata": {
    "execution": {
     "iopub.execute_input": "2025-08-05T16:02:00.454145Z",
     "iopub.status.busy": "2025-08-05T16:02:00.453648Z",
     "iopub.status.idle": "2025-08-05T16:02:00.473602Z",
     "shell.execute_reply": "2025-08-05T16:02:00.472559Z"
    },
    "papermill": {
     "duration": 0.044713,
     "end_time": "2025-08-05T16:02:00.475468",
     "exception": false,
     "start_time": "2025-08-05T16:02:00.430755",
     "status": "completed"
    },
    "tags": []
   },
   "outputs": [
    {
     "data": {
      "text/html": [
       "<div>\n",
       "<style scoped>\n",
       "    .dataframe tbody tr th:only-of-type {\n",
       "        vertical-align: middle;\n",
       "    }\n",
       "\n",
       "    .dataframe tbody tr th {\n",
       "        vertical-align: top;\n",
       "    }\n",
       "\n",
       "    .dataframe thead th {\n",
       "        text-align: right;\n",
       "    }\n",
       "</style>\n",
       "<table border=\"1\" class=\"dataframe\">\n",
       "  <thead>\n",
       "    <tr style=\"text-align: right;\">\n",
       "      <th></th>\n",
       "      <th>universe_id</th>\n",
       "      <th>universe_training_year</th>\n",
       "      <th>universe_training_size</th>\n",
       "      <th>universe_scale</th>\n",
       "      <th>universe_model</th>\n",
       "      <th>universe_exclude_features</th>\n",
       "      <th>universe_exclude_subgroups</th>\n",
       "      <th>q_hat</th>\n",
       "      <th>coverage</th>\n",
       "      <th>avg_size</th>\n",
       "    </tr>\n",
       "  </thead>\n",
       "  <tbody>\n",
       "    <tr>\n",
       "      <th>0</th>\n",
       "      <td>ba1118aa742c6c7423096d78797bd1ce</td>\n",
       "      <td>2014</td>\n",
       "      <td>1k</td>\n",
       "      <td>scale</td>\n",
       "      <td>logreg</td>\n",
       "      <td>none</td>\n",
       "      <td>drop-non-german</td>\n",
       "      <td>0.844613</td>\n",
       "      <td>0.90807</td>\n",
       "      <td>1.267897</td>\n",
       "    </tr>\n",
       "  </tbody>\n",
       "</table>\n",
       "</div>"
      ],
      "text/plain": [
       "                        universe_id universe_training_year  \\\n",
       "0  ba1118aa742c6c7423096d78797bd1ce                   2014   \n",
       "\n",
       "  universe_training_size universe_scale universe_model  \\\n",
       "0                     1k          scale         logreg   \n",
       "\n",
       "  universe_exclude_features universe_exclude_subgroups     q_hat  coverage  \\\n",
       "0                      none            drop-non-german  0.844613   0.90807   \n",
       "\n",
       "   avg_size  \n",
       "0  1.267897  "
      ]
     },
     "execution_count": 50,
     "metadata": {},
     "output_type": "execute_result"
    }
   ],
   "source": [
    "cp_metrics_df"
   ]
  },
  {
   "cell_type": "code",
   "execution_count": 51,
   "id": "b7fbde55-a0a1-47e4-9af6-fe4a17fa8c61",
   "metadata": {
    "execution": {
     "iopub.execute_input": "2025-08-05T16:02:00.515410Z",
     "iopub.status.busy": "2025-08-05T16:02:00.514504Z",
     "iopub.status.idle": "2025-08-05T16:02:00.520166Z",
     "shell.execute_reply": "2025-08-05T16:02:00.519016Z"
    },
    "papermill": {
     "duration": 0.031356,
     "end_time": "2025-08-05T16:02:00.522299",
     "exception": false,
     "start_time": "2025-08-05T16:02:00.490943",
     "status": "completed"
    },
    "tags": []
   },
   "outputs": [],
   "source": [
    "# Conditional Coverage & looking at subgroups"
   ]
  },
  {
   "cell_type": "code",
   "execution_count": 52,
   "id": "027ae886-68dd-4141-96c7-805a5450e1ef",
   "metadata": {
    "execution": {
     "iopub.execute_input": "2025-08-05T16:02:00.569329Z",
     "iopub.status.busy": "2025-08-05T16:02:00.568844Z",
     "iopub.status.idle": "2025-08-05T16:02:00.845260Z",
     "shell.execute_reply": "2025-08-05T16:02:00.844291Z"
    },
    "papermill": {
     "duration": 0.304332,
     "end_time": "2025-08-05T16:02:00.847256",
     "exception": false,
     "start_time": "2025-08-05T16:02:00.542924",
     "status": "completed"
    },
    "tags": []
   },
   "outputs": [],
   "source": [
    "from fairness_multiverse.conformal import build_cp_groups\n",
    "\n",
    "cp_groups_df = build_cp_groups(pred_sets, y_true, X_test.index, org_test)\n",
    "#needs universe_id and setting"
   ]
  },
  {
   "cell_type": "code",
   "execution_count": 53,
   "id": "6cbdab96-b2b2-45af-ad54-d0516db2e28d",
   "metadata": {
    "execution": {
     "iopub.execute_input": "2025-08-05T16:02:00.906795Z",
     "iopub.status.busy": "2025-08-05T16:02:00.905852Z",
     "iopub.status.idle": "2025-08-05T16:02:02.371703Z",
     "shell.execute_reply": "2025-08-05T16:02:02.370740Z"
    },
    "papermill": {
     "duration": 1.492268,
     "end_time": "2025-08-05T16:02:02.373734",
     "exception": false,
     "start_time": "2025-08-05T16:02:00.881466",
     "status": "completed"
    },
    "tags": []
   },
   "outputs": [],
   "source": [
    "# Define covered = 1 if true_label is in the predicted set\n",
    "cp_groups_df['covered'] = cp_groups_df.apply(\n",
    "    lambda r: int(r['true_label'] in r['pred_set']),\n",
    "    axis=1\n",
    ")"
   ]
  },
  {
   "cell_type": "code",
   "execution_count": 54,
   "id": "338ff529-1a6b-4b87-a931-8e4788d52aad",
   "metadata": {
    "execution": {
     "iopub.execute_input": "2025-08-05T16:02:02.422545Z",
     "iopub.status.busy": "2025-08-05T16:02:02.422097Z",
     "iopub.status.idle": "2025-08-05T16:02:02.427739Z",
     "shell.execute_reply": "2025-08-05T16:02:02.426748Z"
    },
    "papermill": {
     "duration": 0.030072,
     "end_time": "2025-08-05T16:02:02.429535",
     "exception": false,
     "start_time": "2025-08-05T16:02:02.399463",
     "status": "completed"
    },
    "tags": []
   },
   "outputs": [],
   "source": [
    "#cp_groups_df"
   ]
  },
  {
   "cell_type": "code",
   "execution_count": 55,
   "id": "90032e27-66df-4540-9169-4e89cfbaa758",
   "metadata": {
    "execution": {
     "iopub.execute_input": "2025-08-05T16:02:02.485397Z",
     "iopub.status.busy": "2025-08-05T16:02:02.484925Z",
     "iopub.status.idle": "2025-08-05T16:02:02.497106Z",
     "shell.execute_reply": "2025-08-05T16:02:02.496019Z"
    },
    "papermill": {
     "duration": 0.041679,
     "end_time": "2025-08-05T16:02:02.499115",
     "exception": false,
     "start_time": "2025-08-05T16:02:02.457436",
     "status": "completed"
    },
    "tags": []
   },
   "outputs": [],
   "source": [
    "subgroups = ['frau1','nongerman','nongerman_male','nongerman_female']\n",
    "\n",
    "# Conditional coverage for subgroup==1\n",
    "cond_coverage = {\n",
    "    g: cp_groups_df.loc[cp_groups_df[g]==1, 'covered'].mean()\n",
    "    for g in subgroups\n",
    "}"
   ]
  },
  {
   "cell_type": "code",
   "execution_count": 56,
   "id": "1e348fb1-b9c3-45bc-ba23-f016827a7e0d",
   "metadata": {
    "execution": {
     "iopub.execute_input": "2025-08-05T16:02:02.546227Z",
     "iopub.status.busy": "2025-08-05T16:02:02.545715Z",
     "iopub.status.idle": "2025-08-05T16:02:02.554190Z",
     "shell.execute_reply": "2025-08-05T16:02:02.552994Z"
    },
    "papermill": {
     "duration": 0.033101,
     "end_time": "2025-08-05T16:02:02.555881",
     "exception": false,
     "start_time": "2025-08-05T16:02:02.522780",
     "status": "completed"
    },
    "tags": []
   },
   "outputs": [
    {
     "data": {
      "text/plain": [
       "{'frau1': 0.9052432942445073,\n",
       " 'nongerman': 0.9109639027676416,\n",
       " 'nongerman_male': 0.9287579933351346,\n",
       " 'nongerman_female': 0.8815201192250373}"
      ]
     },
     "execution_count": 56,
     "metadata": {},
     "output_type": "execute_result"
    }
   ],
   "source": [
    "cond_coverage"
   ]
  },
  {
   "cell_type": "code",
   "execution_count": 57,
   "id": "f5093324-c3dd-4d63-bc4c-8d945e5c8bbb",
   "metadata": {
    "execution": {
     "iopub.execute_input": "2025-08-05T16:02:02.598177Z",
     "iopub.status.busy": "2025-08-05T16:02:02.597352Z",
     "iopub.status.idle": "2025-08-05T16:02:02.604806Z",
     "shell.execute_reply": "2025-08-05T16:02:02.603769Z"
    },
    "papermill": {
     "duration": 0.030666,
     "end_time": "2025-08-05T16:02:02.606778",
     "exception": false,
     "start_time": "2025-08-05T16:02:02.576112",
     "status": "completed"
    },
    "tags": []
   },
   "outputs": [],
   "source": [
    "for subgroup, cov in cond_coverage.items():\n",
    "    cp_metrics_df[f\"cov_{subgroup}\"] = cov"
   ]
  },
  {
   "cell_type": "code",
   "execution_count": 58,
   "id": "6e872e10-dbe5-49e8-b554-5030c98ff75d",
   "metadata": {
    "execution": {
     "iopub.execute_input": "2025-08-05T16:02:02.652055Z",
     "iopub.status.busy": "2025-08-05T16:02:02.651664Z",
     "iopub.status.idle": "2025-08-05T16:02:02.669683Z",
     "shell.execute_reply": "2025-08-05T16:02:02.668588Z"
    },
    "papermill": {
     "duration": 0.041446,
     "end_time": "2025-08-05T16:02:02.671440",
     "exception": false,
     "start_time": "2025-08-05T16:02:02.629994",
     "status": "completed"
    },
    "tags": []
   },
   "outputs": [
    {
     "data": {
      "text/html": [
       "<div>\n",
       "<style scoped>\n",
       "    .dataframe tbody tr th:only-of-type {\n",
       "        vertical-align: middle;\n",
       "    }\n",
       "\n",
       "    .dataframe tbody tr th {\n",
       "        vertical-align: top;\n",
       "    }\n",
       "\n",
       "    .dataframe thead th {\n",
       "        text-align: right;\n",
       "    }\n",
       "</style>\n",
       "<table border=\"1\" class=\"dataframe\">\n",
       "  <thead>\n",
       "    <tr style=\"text-align: right;\">\n",
       "      <th></th>\n",
       "      <th>universe_id</th>\n",
       "      <th>universe_training_year</th>\n",
       "      <th>universe_training_size</th>\n",
       "      <th>universe_scale</th>\n",
       "      <th>universe_model</th>\n",
       "      <th>universe_exclude_features</th>\n",
       "      <th>universe_exclude_subgroups</th>\n",
       "      <th>q_hat</th>\n",
       "      <th>coverage</th>\n",
       "      <th>avg_size</th>\n",
       "      <th>cov_frau1</th>\n",
       "      <th>cov_nongerman</th>\n",
       "      <th>cov_nongerman_male</th>\n",
       "      <th>cov_nongerman_female</th>\n",
       "    </tr>\n",
       "  </thead>\n",
       "  <tbody>\n",
       "    <tr>\n",
       "      <th>0</th>\n",
       "      <td>ba1118aa742c6c7423096d78797bd1ce</td>\n",
       "      <td>2014</td>\n",
       "      <td>1k</td>\n",
       "      <td>scale</td>\n",
       "      <td>logreg</td>\n",
       "      <td>none</td>\n",
       "      <td>drop-non-german</td>\n",
       "      <td>0.844613</td>\n",
       "      <td>0.90807</td>\n",
       "      <td>1.267897</td>\n",
       "      <td>0.905243</td>\n",
       "      <td>0.910964</td>\n",
       "      <td>0.928758</td>\n",
       "      <td>0.88152</td>\n",
       "    </tr>\n",
       "  </tbody>\n",
       "</table>\n",
       "</div>"
      ],
      "text/plain": [
       "                        universe_id universe_training_year  \\\n",
       "0  ba1118aa742c6c7423096d78797bd1ce                   2014   \n",
       "\n",
       "  universe_training_size universe_scale universe_model  \\\n",
       "0                     1k          scale         logreg   \n",
       "\n",
       "  universe_exclude_features universe_exclude_subgroups     q_hat  coverage  \\\n",
       "0                      none            drop-non-german  0.844613   0.90807   \n",
       "\n",
       "   avg_size  cov_frau1  cov_nongerman  cov_nongerman_male  \\\n",
       "0  1.267897   0.905243       0.910964            0.928758   \n",
       "\n",
       "   cov_nongerman_female  \n",
       "0               0.88152  "
      ]
     },
     "execution_count": 58,
     "metadata": {},
     "output_type": "execute_result"
    }
   ],
   "source": [
    "cp_metrics_df"
   ]
  },
  {
   "cell_type": "markdown",
   "id": "33774451",
   "metadata": {
    "papermill": {
     "duration": 0.021791,
     "end_time": "2025-08-05T16:02:02.716179",
     "exception": false,
     "start_time": "2025-08-05T16:02:02.694388",
     "status": "completed"
    },
    "tags": []
   },
   "source": [
    "# (Fairness) Metrics"
   ]
  },
  {
   "cell_type": "code",
   "execution_count": 59,
   "id": "debc5d62",
   "metadata": {
    "execution": {
     "iopub.execute_input": "2025-08-05T16:02:02.763639Z",
     "iopub.status.busy": "2025-08-05T16:02:02.762628Z",
     "iopub.status.idle": "2025-08-05T16:02:02.785730Z",
     "shell.execute_reply": "2025-08-05T16:02:02.784267Z"
    },
    "papermill": {
     "duration": 0.049171,
     "end_time": "2025-08-05T16:02:02.787752",
     "exception": false,
     "start_time": "2025-08-05T16:02:02.738581",
     "status": "completed"
    },
    "tags": []
   },
   "outputs": [],
   "source": [
    "# do I need to include maxdeutsch1.missing?\n",
    "\n",
    "import numpy as np\n",
    "\n",
    "colname_to_bin = \"maxdeutsch1\"\n",
    "majority_value = org_train[colname_to_bin].mode()[0]\n",
    "\n",
    "org_test[\"majmin\"] = np.where(org_test[colname_to_bin] == majority_value, \"majority\", \"minority\")"
   ]
  },
  {
   "cell_type": "code",
   "execution_count": 60,
   "id": "06a50de5",
   "metadata": {
    "execution": {
     "iopub.execute_input": "2025-08-05T16:02:02.833947Z",
     "iopub.status.busy": "2025-08-05T16:02:02.833331Z",
     "iopub.status.idle": "2025-08-05T16:02:05.556206Z",
     "shell.execute_reply": "2025-08-05T16:02:05.555086Z"
    },
    "papermill": {
     "duration": 2.746295,
     "end_time": "2025-08-05T16:02:05.558145",
     "exception": false,
     "start_time": "2025-08-05T16:02:02.811850",
     "status": "completed"
    },
    "tags": []
   },
   "outputs": [],
   "source": [
    "example_universe = universe.copy()\n",
    "example_universe[\"cutoff\"] = example_universe[\"cutoff\"][0]\n",
    "example_universe[\"eval_fairness_grouping\"] = example_universe[\"eval_fairness_grouping\"][0]\n",
    "fairness_dict, metric_frame = universe_analysis.compute_metrics(\n",
    "    example_universe,\n",
    "    y_pred_prob=probs_test,\n",
    "    y_test=y_true,\n",
    "    org_test=org_test,\n",
    ")"
   ]
  },
  {
   "cell_type": "markdown",
   "id": "f95d4e02",
   "metadata": {
    "papermill": {
     "duration": 0.023609,
     "end_time": "2025-08-05T16:02:05.604606",
     "exception": false,
     "start_time": "2025-08-05T16:02:05.580997",
     "status": "completed"
    },
    "tags": []
   },
   "source": [
    "# Overall"
   ]
  },
  {
   "cell_type": "markdown",
   "id": "bdee4871",
   "metadata": {
    "papermill": {
     "duration": 0.022928,
     "end_time": "2025-08-05T16:02:05.651586",
     "exception": false,
     "start_time": "2025-08-05T16:02:05.628658",
     "status": "completed"
    },
    "tags": []
   },
   "source": [
    "Fairness\n",
    "Main fairness target: Equalized Odds. Seems to be a better fit than equal opportunity, since we're not only interested in Y = 1. Seems to be a better fit than demographic parity, since we also care about accuracy, not just equal distribution of preds.\n",
    "\n",
    "Pick column for computation of fairness metrics\n",
    "\n",
    "Performance\n",
    "Overall performance measures, most interesting in relation to the measures split by group below"
   ]
  },
  {
   "cell_type": "code",
   "execution_count": 61,
   "id": "c4e067c6",
   "metadata": {
    "execution": {
     "iopub.execute_input": "2025-08-05T16:02:05.699788Z",
     "iopub.status.busy": "2025-08-05T16:02:05.699265Z",
     "iopub.status.idle": "2025-08-05T16:02:05.708217Z",
     "shell.execute_reply": "2025-08-05T16:02:05.707194Z"
    },
    "papermill": {
     "duration": 0.035427,
     "end_time": "2025-08-05T16:02:05.709998",
     "exception": false,
     "start_time": "2025-08-05T16:02:05.674571",
     "status": "completed"
    },
    "tags": []
   },
   "outputs": [
    {
     "data": {
      "text/plain": [
       "accuracy                   0.217022\n",
       "balanced accuracy          0.532188\n",
       "f1                         0.238555\n",
       "precision                  0.136279\n",
       "false positive rate        0.891742\n",
       "false negative rate        0.043883\n",
       "selection rate             0.900000\n",
       "count                  89710.000000\n",
       "dtype: float64"
      ]
     },
     "execution_count": 61,
     "metadata": {},
     "output_type": "execute_result"
    }
   ],
   "source": [
    "metric_frame.overall"
   ]
  },
  {
   "cell_type": "markdown",
   "id": "e968fe9d",
   "metadata": {
    "papermill": {
     "duration": 0.022756,
     "end_time": "2025-08-05T16:02:05.755120",
     "exception": false,
     "start_time": "2025-08-05T16:02:05.732364",
     "status": "completed"
    },
    "tags": []
   },
   "source": [
    "By Group"
   ]
  },
  {
   "cell_type": "code",
   "execution_count": 62,
   "id": "ec325bce",
   "metadata": {
    "execution": {
     "iopub.execute_input": "2025-08-05T16:02:05.802653Z",
     "iopub.status.busy": "2025-08-05T16:02:05.801943Z",
     "iopub.status.idle": "2025-08-05T16:02:05.818635Z",
     "shell.execute_reply": "2025-08-05T16:02:05.817470Z"
    },
    "papermill": {
     "duration": 0.04152,
     "end_time": "2025-08-05T16:02:05.820526",
     "exception": false,
     "start_time": "2025-08-05T16:02:05.779006",
     "status": "completed"
    },
    "tags": []
   },
   "outputs": [
    {
     "data": {
      "text/html": [
       "<div>\n",
       "<style scoped>\n",
       "    .dataframe tbody tr th:only-of-type {\n",
       "        vertical-align: middle;\n",
       "    }\n",
       "\n",
       "    .dataframe tbody tr th {\n",
       "        vertical-align: top;\n",
       "    }\n",
       "\n",
       "    .dataframe thead th {\n",
       "        text-align: right;\n",
       "    }\n",
       "</style>\n",
       "<table border=\"1\" class=\"dataframe\">\n",
       "  <thead>\n",
       "    <tr style=\"text-align: right;\">\n",
       "      <th></th>\n",
       "      <th>accuracy</th>\n",
       "      <th>balanced accuracy</th>\n",
       "      <th>f1</th>\n",
       "      <th>precision</th>\n",
       "      <th>false positive rate</th>\n",
       "      <th>false negative rate</th>\n",
       "      <th>selection rate</th>\n",
       "      <th>count</th>\n",
       "    </tr>\n",
       "    <tr>\n",
       "      <th>majmin</th>\n",
       "      <th></th>\n",
       "      <th></th>\n",
       "      <th></th>\n",
       "      <th></th>\n",
       "      <th></th>\n",
       "      <th></th>\n",
       "      <th></th>\n",
       "      <th></th>\n",
       "    </tr>\n",
       "  </thead>\n",
       "  <tbody>\n",
       "    <tr>\n",
       "      <th>majority</th>\n",
       "      <td>0.23010</td>\n",
       "      <td>0.536358</td>\n",
       "      <td>0.246420</td>\n",
       "      <td>0.141513</td>\n",
       "      <td>0.879910</td>\n",
       "      <td>0.047374</td>\n",
       "      <td>0.889519</td>\n",
       "      <td>69170.0</td>\n",
       "    </tr>\n",
       "    <tr>\n",
       "      <th>minority</th>\n",
       "      <td>0.17298</td>\n",
       "      <td>0.519383</td>\n",
       "      <td>0.212799</td>\n",
       "      <td>0.119515</td>\n",
       "      <td>0.930828</td>\n",
       "      <td>0.030405</td>\n",
       "      <td>0.935297</td>\n",
       "      <td>20540.0</td>\n",
       "    </tr>\n",
       "  </tbody>\n",
       "</table>\n",
       "</div>"
      ],
      "text/plain": [
       "          accuracy  balanced accuracy        f1  precision  \\\n",
       "majmin                                                       \n",
       "majority   0.23010           0.536358  0.246420   0.141513   \n",
       "minority   0.17298           0.519383  0.212799   0.119515   \n",
       "\n",
       "          false positive rate  false negative rate  selection rate    count  \n",
       "majmin                                                                       \n",
       "majority             0.879910             0.047374        0.889519  69170.0  \n",
       "minority             0.930828             0.030405        0.935297  20540.0  "
      ]
     },
     "execution_count": 62,
     "metadata": {},
     "output_type": "execute_result"
    }
   ],
   "source": [
    "metric_frame.by_group"
   ]
  },
  {
   "cell_type": "code",
   "execution_count": 63,
   "id": "a9ddbe63",
   "metadata": {
    "execution": {
     "iopub.execute_input": "2025-08-05T16:02:05.869288Z",
     "iopub.status.busy": "2025-08-05T16:02:05.868603Z",
     "iopub.status.idle": "2025-08-05T16:02:08.197529Z",
     "shell.execute_reply": "2025-08-05T16:02:08.196581Z"
    },
    "papermill": {
     "duration": 2.35435,
     "end_time": "2025-08-05T16:02:08.199389",
     "exception": false,
     "start_time": "2025-08-05T16:02:05.845039",
     "status": "completed"
    },
    "tags": []
   },
   "outputs": [
    {
     "data": {
      "text/plain": [
       "array([[<Axes: title={'center': 'accuracy'}, xlabel='majmin'>,\n",
       "        <Axes: title={'center': 'balanced accuracy'}, xlabel='majmin'>,\n",
       "        <Axes: title={'center': 'f1'}, xlabel='majmin'>],\n",
       "       [<Axes: title={'center': 'precision'}, xlabel='majmin'>,\n",
       "        <Axes: title={'center': 'false positive rate'}, xlabel='majmin'>,\n",
       "        <Axes: title={'center': 'false negative rate'}, xlabel='majmin'>],\n",
       "       [<Axes: title={'center': 'selection rate'}, xlabel='majmin'>,\n",
       "        <Axes: title={'center': 'count'}, xlabel='majmin'>,\n",
       "        <Axes: xlabel='majmin'>]], dtype=object)"
      ]
     },
     "execution_count": 63,
     "metadata": {},
     "output_type": "execute_result"
    },
    {
     "data": {
      "image/png": "[encoded data removed]",
      "text/plain": [
       "<Figure size 1200x800 with 9 Axes>"
      ]
     },
     "metadata": {},
     "output_type": "display_data"
    }
   ],
   "source": [
    "# In a graphic\n",
    "metric_frame.by_group.plot.bar(\n",
    "    subplots=True,\n",
    "    layout=[3, 3],\n",
    "    legend=False,\n",
    "    figsize=[12, 8],\n",
    "    title=\"Show all metrics\",\n",
    ")"
   ]
  },
  {
   "cell_type": "markdown",
   "id": "f57a0bac",
   "metadata": {
    "papermill": {
     "duration": 0.02511,
     "end_time": "2025-08-05T16:02:08.251148",
     "exception": false,
     "start_time": "2025-08-05T16:02:08.226038",
     "status": "completed"
    },
    "tags": []
   },
   "source": [
    "# Final Output"
   ]
  },
  {
   "cell_type": "code",
   "execution_count": 64,
   "id": "96d280a3",
   "metadata": {
    "execution": {
     "iopub.execute_input": "2025-08-05T16:02:08.299811Z",
     "iopub.status.busy": "2025-08-05T16:02:08.298964Z",
     "iopub.status.idle": "2025-08-05T16:02:08.307702Z",
     "shell.execute_reply": "2025-08-05T16:02:08.306764Z"
    },
    "papermill": {
     "duration": 0.035286,
     "end_time": "2025-08-05T16:02:08.309297",
     "exception": false,
     "start_time": "2025-08-05T16:02:08.274011",
     "status": "completed"
    },
    "tags": []
   },
   "outputs": [
    {
     "data": {
      "text/plain": [
       "4"
      ]
     },
     "execution_count": 64,
     "metadata": {},
     "output_type": "execute_result"
    }
   ],
   "source": [
    "sub_universes = universe_analysis.generate_sub_universes()\n",
    "len(sub_universes)"
   ]
  },
  {
   "cell_type": "code",
   "execution_count": 65,
   "id": "92adf7ba",
   "metadata": {
    "execution": {
     "iopub.execute_input": "2025-08-05T16:02:08.362659Z",
     "iopub.status.busy": "2025-08-05T16:02:08.361650Z",
     "iopub.status.idle": "2025-08-05T16:02:08.369169Z",
     "shell.execute_reply": "2025-08-05T16:02:08.367942Z"
    },
    "papermill": {
     "duration": 0.037217,
     "end_time": "2025-08-05T16:02:08.371131",
     "exception": false,
     "start_time": "2025-08-05T16:02:08.333914",
     "status": "completed"
    },
    "tags": []
   },
   "outputs": [],
   "source": [
    "def filter_sub_universe_data(sub_universe, org_test):\n",
    "    # Keep all rows — no filtering\n",
    "    keep_rows_mask = np.ones(org_test.shape[0], dtype=bool)\n",
    "\n",
    "    print(f\"[INFO] Keeping all rows: {keep_rows_mask.sum()} rows retained.\")\n",
    "    return keep_rows_mask"
   ]
  },
  {
   "cell_type": "code",
   "execution_count": 66,
   "id": "4a759155",
   "metadata": {
    "execution": {
     "iopub.execute_input": "2025-08-05T16:02:08.423628Z",
     "iopub.status.busy": "2025-08-05T16:02:08.422583Z",
     "iopub.status.idle": "2025-08-05T16:02:17.391010Z",
     "shell.execute_reply": "2025-08-05T16:02:17.390060Z"
    },
    "papermill": {
     "duration": 8.996229,
     "end_time": "2025-08-05T16:02:17.392774",
     "exception": false,
     "start_time": "2025-08-05T16:02:08.396545",
     "status": "completed"
    },
    "tags": []
   },
   "outputs": [
    {
     "name": "stdout",
     "output_type": "stream",
     "text": [
      "Stopping execution_time clock.\n",
      "[INFO] Keeping all rows: 89710 rows retained.\n"
     ]
    },
    {
     "name": "stdout",
     "output_type": "stream",
     "text": [
      "[INFO] Keeping all rows: 89710 rows retained.\n"
     ]
    },
    {
     "name": "stdout",
     "output_type": "stream",
     "text": [
      "[INFO] Keeping all rows: 89710 rows retained.\n"
     ]
    },
    {
     "name": "stdout",
     "output_type": "stream",
     "text": [
      "[INFO] Keeping all rows: 89710 rows retained.\n"
     ]
    },
    {
     "data": {
      "text/html": [
       "<div>\n",
       "<style scoped>\n",
       "    .dataframe tbody tr th:only-of-type {\n",
       "        vertical-align: middle;\n",
       "    }\n",
       "\n",
       "    .dataframe tbody tr th {\n",
       "        vertical-align: top;\n",
       "    }\n",
       "\n",
       "    .dataframe thead th {\n",
       "        text-align: right;\n",
       "    }\n",
       "</style>\n",
       "<table border=\"1\" class=\"dataframe\">\n",
       "  <thead>\n",
       "    <tr style=\"text-align: right;\">\n",
       "      <th></th>\n",
       "      <th>run_no</th>\n",
       "      <th>universe_id</th>\n",
       "      <th>universe_settings</th>\n",
       "      <th>execution_time</th>\n",
       "      <th>test_size_n</th>\n",
       "      <th>test_size_frac</th>\n",
       "      <th>fair_main_equalized_odds_difference</th>\n",
       "      <th>fair_main_equalized_odds_ratio</th>\n",
       "      <th>fair_main_demographic_parity_difference</th>\n",
       "      <th>fair_main_demographic_parity_ratio</th>\n",
       "      <th>...</th>\n",
       "      <th>perf_grp_precision_0</th>\n",
       "      <th>perf_grp_precision_1</th>\n",
       "      <th>perf_grp_false positive rate_0</th>\n",
       "      <th>perf_grp_false positive rate_1</th>\n",
       "      <th>perf_grp_false negative rate_0</th>\n",
       "      <th>perf_grp_false negative rate_1</th>\n",
       "      <th>perf_grp_selection rate_0</th>\n",
       "      <th>perf_grp_selection rate_1</th>\n",
       "      <th>perf_grp_count_0</th>\n",
       "      <th>perf_grp_count_1</th>\n",
       "    </tr>\n",
       "  </thead>\n",
       "  <tbody>\n",
       "    <tr>\n",
       "      <th>0</th>\n",
       "      <td>15</td>\n",
       "      <td>ba1118aa742c6c7423096d78797bd1ce</td>\n",
       "      <td>{\"cutoff\": \"quantile_0.1\", \"eval_fairness_grou...</td>\n",
       "      <td>26.35352</td>\n",
       "      <td>89710</td>\n",
       "      <td>1.0</td>\n",
       "      <td>0.050918</td>\n",
       "      <td>0.945299</td>\n",
       "      <td>0.045778</td>\n",
       "      <td>0.951055</td>\n",
       "      <td>...</td>\n",
       "      <td>NaN</td>\n",
       "      <td>NaN</td>\n",
       "      <td>NaN</td>\n",
       "      <td>NaN</td>\n",
       "      <td>NaN</td>\n",
       "      <td>NaN</td>\n",
       "      <td>NaN</td>\n",
       "      <td>NaN</td>\n",
       "      <td>NaN</td>\n",
       "      <td>NaN</td>\n",
       "    </tr>\n",
       "    <tr>\n",
       "      <th>0</th>\n",
       "      <td>15</td>\n",
       "      <td>ba1118aa742c6c7423096d78797bd1ce</td>\n",
       "      <td>{\"cutoff\": \"quantile_0.1\", \"eval_fairness_grou...</td>\n",
       "      <td>26.35352</td>\n",
       "      <td>89710</td>\n",
       "      <td>1.0</td>\n",
       "      <td>0.050918</td>\n",
       "      <td>0.945299</td>\n",
       "      <td>0.045778</td>\n",
       "      <td>0.951055</td>\n",
       "      <td>...</td>\n",
       "      <td>0.119515</td>\n",
       "      <td>0.141513</td>\n",
       "      <td>0.930828</td>\n",
       "      <td>0.879910</td>\n",
       "      <td>0.030405</td>\n",
       "      <td>0.047374</td>\n",
       "      <td>0.935297</td>\n",
       "      <td>0.889519</td>\n",
       "      <td>20540.0</td>\n",
       "      <td>69170.0</td>\n",
       "    </tr>\n",
       "    <tr>\n",
       "      <th>0</th>\n",
       "      <td>15</td>\n",
       "      <td>ba1118aa742c6c7423096d78797bd1ce</td>\n",
       "      <td>{\"cutoff\": \"quantile_0.25\", \"eval_fairness_gro...</td>\n",
       "      <td>26.35352</td>\n",
       "      <td>89710</td>\n",
       "      <td>1.0</td>\n",
       "      <td>0.051054</td>\n",
       "      <td>0.933727</td>\n",
       "      <td>0.041681</td>\n",
       "      <td>0.946708</td>\n",
       "      <td>...</td>\n",
       "      <td>NaN</td>\n",
       "      <td>NaN</td>\n",
       "      <td>NaN</td>\n",
       "      <td>NaN</td>\n",
       "      <td>NaN</td>\n",
       "      <td>NaN</td>\n",
       "      <td>NaN</td>\n",
       "      <td>NaN</td>\n",
       "      <td>NaN</td>\n",
       "      <td>NaN</td>\n",
       "    </tr>\n",
       "    <tr>\n",
       "      <th>0</th>\n",
       "      <td>15</td>\n",
       "      <td>ba1118aa742c6c7423096d78797bd1ce</td>\n",
       "      <td>{\"cutoff\": \"quantile_0.25\", \"eval_fairness_gro...</td>\n",
       "      <td>26.35352</td>\n",
       "      <td>89710</td>\n",
       "      <td>1.0</td>\n",
       "      <td>0.051054</td>\n",
       "      <td>0.933727</td>\n",
       "      <td>0.041681</td>\n",
       "      <td>0.946708</td>\n",
       "      <td>...</td>\n",
       "      <td>0.128603</td>\n",
       "      <td>0.156921</td>\n",
       "      <td>0.770361</td>\n",
       "      <td>0.719307</td>\n",
       "      <td>0.127534</td>\n",
       "      <td>0.120678</td>\n",
       "      <td>0.782132</td>\n",
       "      <td>0.740451</td>\n",
       "      <td>20540.0</td>\n",
       "      <td>69170.0</td>\n",
       "    </tr>\n",
       "  </tbody>\n",
       "</table>\n",
       "<p>4 rows × 50 columns</p>\n",
       "</div>"
      ],
      "text/plain": [
       "  run_no                       universe_id  \\\n",
       "0     15  ba1118aa742c6c7423096d78797bd1ce   \n",
       "0     15  ba1118aa742c6c7423096d78797bd1ce   \n",
       "0     15  ba1118aa742c6c7423096d78797bd1ce   \n",
       "0     15  ba1118aa742c6c7423096d78797bd1ce   \n",
       "\n",
       "                                   universe_settings  execution_time  \\\n",
       "0  {\"cutoff\": \"quantile_0.1\", \"eval_fairness_grou...        26.35352   \n",
       "0  {\"cutoff\": \"quantile_0.1\", \"eval_fairness_grou...        26.35352   \n",
       "0  {\"cutoff\": \"quantile_0.25\", \"eval_fairness_gro...        26.35352   \n",
       "0  {\"cutoff\": \"quantile_0.25\", \"eval_fairness_gro...        26.35352   \n",
       "\n",
       "   test_size_n  test_size_frac  fair_main_equalized_odds_difference  \\\n",
       "0        89710             1.0                             0.050918   \n",
       "0        89710             1.0                             0.050918   \n",
       "0        89710             1.0                             0.051054   \n",
       "0        89710             1.0                             0.051054   \n",
       "\n",
       "   fair_main_equalized_odds_ratio  fair_main_demographic_parity_difference  \\\n",
       "0                        0.945299                                 0.045778   \n",
       "0                        0.945299                                 0.045778   \n",
       "0                        0.933727                                 0.041681   \n",
       "0                        0.933727                                 0.041681   \n",
       "\n",
       "   fair_main_demographic_parity_ratio  ...  perf_grp_precision_0  \\\n",
       "0                            0.951055  ...                   NaN   \n",
       "0                            0.951055  ...              0.119515   \n",
       "0                            0.946708  ...                   NaN   \n",
       "0                            0.946708  ...              0.128603   \n",
       "\n",
       "   perf_grp_precision_1  perf_grp_false positive rate_0  \\\n",
       "0                   NaN                             NaN   \n",
       "0              0.141513                        0.930828   \n",
       "0                   NaN                             NaN   \n",
       "0              0.156921                        0.770361   \n",
       "\n",
       "   perf_grp_false positive rate_1  perf_grp_false negative rate_0  \\\n",
       "0                             NaN                             NaN   \n",
       "0                        0.879910                        0.030405   \n",
       "0                             NaN                             NaN   \n",
       "0                        0.719307                        0.127534   \n",
       "\n",
       "   perf_grp_false negative rate_1  perf_grp_selection rate_0  \\\n",
       "0                             NaN                        NaN   \n",
       "0                        0.047374                   0.935297   \n",
       "0                             NaN                        NaN   \n",
       "0                        0.120678                   0.782132   \n",
       "\n",
       "   perf_grp_selection rate_1  perf_grp_count_0  perf_grp_count_1  \n",
       "0                        NaN               NaN               NaN  \n",
       "0                   0.889519           20540.0           69170.0  \n",
       "0                        NaN               NaN               NaN  \n",
       "0                   0.740451           20540.0           69170.0  \n",
       "\n",
       "[4 rows x 50 columns]"
      ]
     },
     "execution_count": 66,
     "metadata": {},
     "output_type": "execute_result"
    }
   ],
   "source": [
    "final_output = universe_analysis.generate_final_output(\n",
    "    y_pred_prob=probs_test,\n",
    "    y_test=y_true,\n",
    "    org_test=org_test,\n",
    "    filter_data=filter_sub_universe_data,\n",
    "    cp_metrics_df=cp_metrics_df,\n",
    "    save=True,\n",
    ")\n",
    "final_output"
   ]
  }
 ],
 "metadata": {
  "celltoolbar": "Tags",
  "kernelspec": {
   "display_name": "Python (CMA Fairness)",
   "language": "python",
   "name": "cma_fair_env"
  },
  "language_info": {
   "codemirror_mode": {
    "name": "ipython",
    "version": 3
   },
   "file_extension": ".py",
   "mimetype": "text/x-python",
   "name": "python",
   "nbconvert_exporter": "python",
   "pygments_lexer": "ipython3",
   "version": "3.10.12"
  },
  "papermill": {
   "default_parameters": {},
   "duration": 39.563616,
   "end_time": "2025-08-05T16:02:18.246200",
   "environment_variables": {},
   "exception": null,
   "input_path": "universe_analysis.ipynb",
   "output_path": "output/runs/15/notebooks/m_15-ba1118aa742c6c7423096d78797bd1ce.ipynb",
   "parameters": {
    "output_dir": "output",
    "run_no": "15",
    "seed": "2023",
    "universe": "{\"cutoff\": [\"quantile_0.1\", \"quantile_0.25\"], \"eval_fairness_grouping\": [\"majority-minority\", \"nationality-all\"], \"exclude_features\": \"none\", \"exclude_subgroups\": \"drop-non-german\", \"model\": \"logreg\", \"scale\": \"scale\", \"training_size\": \"1k\", \"training_year\": \"2014\"}",
    "universe_id": "ba1118aa742c6c7423096d78797bd1ce"
   },
   "start_time": "2025-08-05T16:01:38.682584",
   "version": "2.6.0"
  }
 },
 "nbformat": 4,
 "nbformat_minor": 5
}