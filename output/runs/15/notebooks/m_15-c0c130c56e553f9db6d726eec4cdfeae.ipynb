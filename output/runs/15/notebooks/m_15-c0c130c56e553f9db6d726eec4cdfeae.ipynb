{
 "cells": [
  {
   "cell_type": "code",
   "execution_count": 1,
   "id": "f159f837-637b-42ba-96b5-ec9a68c44524",
   "metadata": {
    "execution": {
     "iopub.execute_input": "2025-08-05T16:00:16.304226Z",
     "iopub.status.busy": "2025-08-05T16:00:16.303849Z",
     "iopub.status.idle": "2025-08-05T16:00:16.314327Z",
     "shell.execute_reply": "2025-08-05T16:00:16.313533Z"
    },
    "papermill": {
     "duration": 0.021983,
     "end_time": "2025-08-05T16:00:16.315670",
     "exception": false,
     "start_time": "2025-08-05T16:00:16.293687",
     "status": "completed"
    },
    "tags": []
   },
   "outputs": [
    {
     "name": "stdout",
     "output_type": "stream",
     "text": [
      "/dss/dsshome1/0C/ra93lal2/cma/CMA_Fairness_v2\n"
     ]
    },
    {
     "name": "stderr",
     "output_type": "stream",
     "text": [
      "/dss/dsshome1/0C/ra93lal2/.local/share/virtualenvs/CMA_Fairness_v2-3j10GkSs/lib/python3.10/site-packages/IPython/core/magics/osm.py:393: UserWarning: This is now an optional IPython functionality, using bookmarks requires you to install the `pickleshare` library.\n",
      "  bkms = self.shell.db.get('bookmarks', {})\n",
      "/dss/dsshome1/0C/ra93lal2/.local/share/virtualenvs/CMA_Fairness_v2-3j10GkSs/lib/python3.10/site-packages/IPython/core/magics/osm.py:417: UserWarning: This is now an optional IPython functionality, setting dhist requires you to install the `pickleshare` library.\n",
      "  self.shell.db['dhist'] = compress_dhist(dhist)[-100:]\n"
     ]
    }
   ],
   "source": [
    "%cd ~/cma/CMA_Fairness_v2"
   ]
  },
  {
   "cell_type": "markdown",
   "id": "de2603b9",
   "metadata": {
    "papermill": {
     "duration": 0.008674,
     "end_time": "2025-08-05T16:00:16.333511",
     "exception": false,
     "start_time": "2025-08-05T16:00:16.324837",
     "status": "completed"
    },
    "tags": []
   },
   "source": [
    "The following cell holds the definition of our parameters, these values can be overriden by rendering the with e.g. the following command:\n",
    "\n",
    "papermill -p alpha 0.2 -p ratio 0.3 universe_analysis.ipynb output/test_run.ipynb"
   ]
  },
  {
   "cell_type": "code",
   "execution_count": 2,
   "id": "a80968a0-40bb-4fa9-85ef-2d5eefb01975",
   "metadata": {
    "execution": {
     "iopub.execute_input": "2025-08-05T16:00:16.351981Z",
     "iopub.status.busy": "2025-08-05T16:00:16.351304Z",
     "iopub.status.idle": "2025-08-05T16:00:16.356245Z",
     "shell.execute_reply": "2025-08-05T16:00:16.355449Z"
    },
    "papermill": {
     "duration": 0.015874,
     "end_time": "2025-08-05T16:00:16.357857",
     "exception": false,
     "start_time": "2025-08-05T16:00:16.341983",
     "status": "completed"
    },
    "tags": []
   },
   "outputs": [
    {
     "name": "stdout",
     "output_type": "stream",
     "text": [
      "Current working directory: /dss/dsshome1/0C/ra93lal2/cma/CMA_Fairness_v2\n"
     ]
    }
   ],
   "source": [
    "import os\n",
    "print(\"Current working directory:\", os.getcwd())"
   ]
  },
  {
   "cell_type": "code",
   "execution_count": 3,
   "id": "2dce4c03",
   "metadata": {
    "execution": {
     "iopub.execute_input": "2025-08-05T16:00:16.377805Z",
     "iopub.status.busy": "2025-08-05T16:00:16.377344Z",
     "iopub.status.idle": "2025-08-05T16:00:16.382103Z",
     "shell.execute_reply": "2025-08-05T16:00:16.381304Z"
    },
    "papermill": {
     "duration": 0.016703,
     "end_time": "2025-08-05T16:00:16.384131",
     "exception": false,
     "start_time": "2025-08-05T16:00:16.367428",
     "status": "completed"
    },
    "tags": [
     "parameters"
    ]
   },
   "outputs": [],
   "source": [
    "run_no = 0\n",
    "universe_id = \"test\"\n",
    "universe = {\n",
    "    \"training_size\": \"25k\", # \"25k\", \"5k\", \"1k\"\n",
    "    \"training_year\": \"2014\", # \"2014\", \"2012_14\", \"2010_14\"\n",
    "    \"scale\": \"scale\", # \"scale\", \"do-not-scale\",\n",
    "    \"model\": \"elasticnet\", # \"logreg\", \"penalized_logreg\", \"rf\", \"gbm\", \"elasticnet\"\n",
    "    \"cutoff\": [\"quantile_0.15\", \"quantile_0.30\"],\n",
    "    \"exclude_features\": \"age\", # \"none\", \"nationality\", \"sex\", \"nationality-sex\", \"age\"\n",
    "    \"exclude_subgroups\": \"keep-all\", # \"keep-all\", \"drop-non-german\"\n",
    "    \"eval_fairness_grouping\": [\"majority-minority\", \"nationality-all\"]\n",
    "}\n",
    "\n",
    "output_dir=\"./output\"\n",
    "seed=0"
   ]
  },
  {
   "cell_type": "code",
   "execution_count": 4,
   "id": "6bc174aa",
   "metadata": {
    "execution": {
     "iopub.execute_input": "2025-08-05T16:00:16.425197Z",
     "iopub.status.busy": "2025-08-05T16:00:16.424704Z",
     "iopub.status.idle": "2025-08-05T16:00:16.430638Z",
     "shell.execute_reply": "2025-08-05T16:00:16.429576Z"
    },
    "papermill": {
     "duration": 0.027983,
     "end_time": "2025-08-05T16:00:16.432514",
     "exception": false,
     "start_time": "2025-08-05T16:00:16.404531",
     "status": "completed"
    },
    "tags": [
     "injected-parameters"
    ]
   },
   "outputs": [],
   "source": [
    "# Parameters\n",
    "universe_id = \"c0c130c56e553f9db6d726eec4cdfeae\"\n",
    "run_no = \"15\"\n",
    "universe = \"{\\\"cutoff\\\": [\\\"quantile_0.1\\\", \\\"quantile_0.25\\\"], \\\"eval_fairness_grouping\\\": [\\\"majority-minority\\\", \\\"nationality-all\\\"], \\\"exclude_features\\\": \\\"none\\\", \\\"exclude_subgroups\\\": \\\"drop-non-german\\\", \\\"model\\\": \\\"elasticnet\\\", \\\"scale\\\": \\\"do-not-scale\\\", \\\"training_size\\\": \\\"5k\\\", \\\"training_year\\\": \\\"2010_14\\\"}\"\n",
    "output_dir = \"output\"\n",
    "seed = \"2023\"\n"
   ]
  },
  {
   "cell_type": "code",
   "execution_count": 5,
   "id": "1650acaf",
   "metadata": {
    "execution": {
     "iopub.execute_input": "2025-08-05T16:00:16.471538Z",
     "iopub.status.busy": "2025-08-05T16:00:16.471053Z",
     "iopub.status.idle": "2025-08-05T16:00:16.476037Z",
     "shell.execute_reply": "2025-08-05T16:00:16.474901Z"
    },
    "papermill": {
     "duration": 0.025185,
     "end_time": "2025-08-05T16:00:16.477852",
     "exception": false,
     "start_time": "2025-08-05T16:00:16.452667",
     "status": "completed"
    },
    "tags": []
   },
   "outputs": [],
   "source": [
    "import json\n",
    "if isinstance(universe, str):\n",
    "    universe = json.loads(universe)"
   ]
  },
  {
   "cell_type": "code",
   "execution_count": 6,
   "id": "16620c48",
   "metadata": {
    "execution": {
     "iopub.execute_input": "2025-08-05T16:00:16.515710Z",
     "iopub.status.busy": "2025-08-05T16:00:16.515253Z",
     "iopub.status.idle": "2025-08-05T16:00:16.561423Z",
     "shell.execute_reply": "2025-08-05T16:00:16.560336Z"
    },
    "papermill": {
     "duration": 0.067288,
     "end_time": "2025-08-05T16:00:16.563470",
     "exception": false,
     "start_time": "2025-08-05T16:00:16.496182",
     "status": "completed"
    },
    "tags": []
   },
   "outputs": [],
   "source": [
    "# Auto-reload the custom package\n",
    "%load_ext autoreload\n",
    "%autoreload 1\n",
    "%aimport fairness_multiverse"
   ]
  },
  {
   "cell_type": "code",
   "execution_count": 7,
   "id": "01c5c9f3",
   "metadata": {
    "execution": {
     "iopub.execute_input": "2025-08-05T16:00:16.599778Z",
     "iopub.status.busy": "2025-08-05T16:00:16.598822Z",
     "iopub.status.idle": "2025-08-05T16:00:18.632886Z",
     "shell.execute_reply": "2025-08-05T16:00:18.631883Z"
    },
    "papermill": {
     "duration": 2.053753,
     "end_time": "2025-08-05T16:00:18.634911",
     "exception": false,
     "start_time": "2025-08-05T16:00:16.581158",
     "status": "completed"
    },
    "tags": []
   },
   "outputs": [],
   "source": [
    "from fairness_multiverse.universe import UniverseAnalysis\n",
    "\n",
    "universe_analysis = UniverseAnalysis(\n",
    "    run_no = run_no,\n",
    "    universe_id = universe_id,\n",
    "    universe = universe,\n",
    "    output_dir=output_dir,\n",
    ")"
   ]
  },
  {
   "cell_type": "code",
   "execution_count": 8,
   "id": "106241f5",
   "metadata": {
    "execution": {
     "iopub.execute_input": "2025-08-05T16:00:18.673858Z",
     "iopub.status.busy": "2025-08-05T16:00:18.673223Z",
     "iopub.status.idle": "2025-08-05T16:00:18.680271Z",
     "shell.execute_reply": "2025-08-05T16:00:18.679102Z"
    },
    "papermill": {
     "duration": 0.026857,
     "end_time": "2025-08-05T16:00:18.682244",
     "exception": false,
     "start_time": "2025-08-05T16:00:18.655387",
     "status": "completed"
    },
    "tags": []
   },
   "outputs": [
    {
     "name": "stdout",
     "output_type": "stream",
     "text": [
      "Using Seed: 2023\n"
     ]
    }
   ],
   "source": [
    "import numpy as np\n",
    "parsed_seed = int(seed)\n",
    "np.random.seed(parsed_seed)\n",
    "print(f\"Using Seed: {parsed_seed}\")"
   ]
  },
  {
   "cell_type": "markdown",
   "id": "e0ebdc57",
   "metadata": {
    "papermill": {
     "duration": 0.018064,
     "end_time": "2025-08-05T16:00:18.718895",
     "exception": false,
     "start_time": "2025-08-05T16:00:18.700831",
     "status": "completed"
    },
    "tags": []
   },
   "source": [
    "# Loading Data"
   ]
  },
  {
   "cell_type": "code",
   "execution_count": 9,
   "id": "f0496b8a",
   "metadata": {
    "execution": {
     "iopub.execute_input": "2025-08-05T16:00:18.756508Z",
     "iopub.status.busy": "2025-08-05T16:00:18.755977Z",
     "iopub.status.idle": "2025-08-05T16:00:30.985345Z",
     "shell.execute_reply": "2025-08-05T16:00:30.983975Z"
    },
    "papermill": {
     "duration": 12.250609,
     "end_time": "2025-08-05T16:00:30.987058",
     "exception": false,
     "start_time": "2025-08-05T16:00:18.736449",
     "status": "completed"
    },
    "tags": []
   },
   "outputs": [
    {
     "name": "stdout",
     "output_type": "stream",
     "text": [
      "Loading SIAB data from cache: data/siab_cached.csv.gz\n"
     ]
    },
    {
     "name": "stdout",
     "output_type": "stream",
     "text": [
      "(643690, 164)\n"
     ]
    }
   ],
   "source": [
    "from pathlib import Path\n",
    "import pandas as pd\n",
    "\n",
    "# File paths\n",
    "raw_file = Path(\"data/raw/siab.csv\")\n",
    "cache_file = Path(\"data/siab_cached.csv.gz\")\n",
    "\n",
    "# Ensure cache directory exists\n",
    "cache_file.parent.mkdir(parents=True, exist_ok=True)\n",
    "\n",
    "# Load with simple caching\n",
    "if cache_file.exists():\n",
    "    print(f\"Loading SIAB data from cache: {cache_file}\")\n",
    "    siab = pd.read_csv(cache_file, compression='gzip')\n",
    "else:\n",
    "    print(f\"Cache not found. Reading raw SIAB data: {raw_file}\")\n",
    "    siab = pd.read_csv(raw_file)\n",
    "    siab.to_csv(cache_file, index=False, compression='gzip')\n",
    "    print(f\"Cached SIAB data to: {cache_file}\")\n",
    "\n",
    "print(siab.shape)"
   ]
  },
  {
   "cell_type": "code",
   "execution_count": 10,
   "id": "db0ca512-5f53-4dba-abdb-a2888bca41ba",
   "metadata": {
    "execution": {
     "iopub.execute_input": "2025-08-05T16:00:31.023715Z",
     "iopub.status.busy": "2025-08-05T16:00:31.023132Z",
     "iopub.status.idle": "2025-08-05T16:00:31.028353Z",
     "shell.execute_reply": "2025-08-05T16:00:31.027125Z"
    },
    "papermill": {
     "duration": 0.023794,
     "end_time": "2025-08-05T16:00:31.030130",
     "exception": false,
     "start_time": "2025-08-05T16:00:31.006336",
     "status": "completed"
    },
    "tags": []
   },
   "outputs": [],
   "source": [
    "#siab"
   ]
  },
  {
   "cell_type": "markdown",
   "id": "997051c5-15bd-4b69-9786-c3001a3ce484",
   "metadata": {
    "papermill": {
     "duration": 0.016979,
     "end_time": "2025-08-05T16:00:31.063612",
     "exception": false,
     "start_time": "2025-08-05T16:00:31.046633",
     "status": "completed"
    },
    "tags": []
   },
   "source": [
    "# Splitting Data and Setting Training Data Size"
   ]
  },
  {
   "cell_type": "code",
   "execution_count": 11,
   "id": "aea9c6ef-6f46-42c8-85eb-5a62025c1508",
   "metadata": {
    "execution": {
     "iopub.execute_input": "2025-08-05T16:00:31.099004Z",
     "iopub.status.busy": "2025-08-05T16:00:31.098157Z",
     "iopub.status.idle": "2025-08-05T16:00:32.158120Z",
     "shell.execute_reply": "2025-08-05T16:00:32.157093Z"
    },
    "papermill": {
     "duration": 1.078761,
     "end_time": "2025-08-05T16:00:32.160058",
     "exception": false,
     "start_time": "2025-08-05T16:00:31.081297",
     "status": "completed"
    },
    "tags": []
   },
   "outputs": [],
   "source": [
    "from fairness_multiverse.universe import sample_by_year_size\n",
    "\n",
    "siab_train = sample_by_year_size(siab,\n",
    "                               training_year=universe[\"training_year\"],\n",
    "                               training_size=universe[\"training_size\"])"
   ]
  },
  {
   "cell_type": "code",
   "execution_count": 12,
   "id": "8d3afb32-789d-442c-8d5d-9f5aa8dd2eed",
   "metadata": {
    "execution": {
     "iopub.execute_input": "2025-08-05T16:00:32.202942Z",
     "iopub.status.busy": "2025-08-05T16:00:32.201837Z",
     "iopub.status.idle": "2025-08-05T16:00:32.208799Z",
     "shell.execute_reply": "2025-08-05T16:00:32.207719Z"
    },
    "papermill": {
     "duration": 0.030381,
     "end_time": "2025-08-05T16:00:32.210545",
     "exception": false,
     "start_time": "2025-08-05T16:00:32.180164",
     "status": "completed"
    },
    "tags": []
   },
   "outputs": [],
   "source": [
    "#siab_train.shape"
   ]
  },
  {
   "cell_type": "code",
   "execution_count": 13,
   "id": "d582db68-1a4c-47fb-84fc-08518dc1975a",
   "metadata": {
    "execution": {
     "iopub.execute_input": "2025-08-05T16:00:32.250158Z",
     "iopub.status.busy": "2025-08-05T16:00:32.249436Z",
     "iopub.status.idle": "2025-08-05T16:00:32.254837Z",
     "shell.execute_reply": "2025-08-05T16:00:32.253752Z"
    },
    "papermill": {
     "duration": 0.025995,
     "end_time": "2025-08-05T16:00:32.256723",
     "exception": false,
     "start_time": "2025-08-05T16:00:32.230728",
     "status": "completed"
    },
    "tags": []
   },
   "outputs": [],
   "source": [
    "#display(siab_train.groupby(\"year\").size())"
   ]
  },
  {
   "cell_type": "code",
   "execution_count": 14,
   "id": "a561edb4-d032-42cb-8256-22eac1111c64",
   "metadata": {
    "execution": {
     "iopub.execute_input": "2025-08-05T16:00:32.293220Z",
     "iopub.status.busy": "2025-08-05T16:00:32.292677Z",
     "iopub.status.idle": "2025-08-05T16:00:32.546063Z",
     "shell.execute_reply": "2025-08-05T16:00:32.545031Z"
    },
    "papermill": {
     "duration": 0.274057,
     "end_time": "2025-08-05T16:00:32.548250",
     "exception": false,
     "start_time": "2025-08-05T16:00:32.274193",
     "status": "completed"
    },
    "tags": []
   },
   "outputs": [],
   "source": [
    "#siab_train = siab_s[siab_s.year < 2015]\n",
    "siab_calib = siab[siab.year == 2015]\n",
    "siab_test = siab[siab.year == 2016]"
   ]
  },
  {
   "cell_type": "code",
   "execution_count": 15,
   "id": "472de16f-c3db-4916-846b-1f0de9cf1746",
   "metadata": {
    "execution": {
     "iopub.execute_input": "2025-08-05T16:00:32.593563Z",
     "iopub.status.busy": "2025-08-05T16:00:32.593038Z",
     "iopub.status.idle": "2025-08-05T16:00:32.604024Z",
     "shell.execute_reply": "2025-08-05T16:00:32.602786Z"
    },
    "papermill": {
     "duration": 0.035874,
     "end_time": "2025-08-05T16:00:32.606630",
     "exception": false,
     "start_time": "2025-08-05T16:00:32.570756",
     "status": "completed"
    },
    "tags": []
   },
   "outputs": [],
   "source": [
    "X_train = siab_train.iloc[:,4:164]\n",
    "y_train = siab_train.iloc[:, [3]]"
   ]
  },
  {
   "cell_type": "code",
   "execution_count": 16,
   "id": "828c96af-f43a-4ed6-ba47-8ac73a47d56c",
   "metadata": {
    "execution": {
     "iopub.execute_input": "2025-08-05T16:00:32.648963Z",
     "iopub.status.busy": "2025-08-05T16:00:32.648087Z",
     "iopub.status.idle": "2025-08-05T16:00:32.686268Z",
     "shell.execute_reply": "2025-08-05T16:00:32.685062Z"
    },
    "papermill": {
     "duration": 0.061669,
     "end_time": "2025-08-05T16:00:32.688221",
     "exception": false,
     "start_time": "2025-08-05T16:00:32.626552",
     "status": "completed"
    },
    "tags": []
   },
   "outputs": [],
   "source": [
    "X_calib = siab_calib.iloc[:,4:164]\n",
    "y_calib = siab_calib.iloc[:, [3]]"
   ]
  },
  {
   "cell_type": "code",
   "execution_count": 17,
   "id": "c34be9c3-6bd6-476e-acd3-845840e303be",
   "metadata": {
    "execution": {
     "iopub.execute_input": "2025-08-05T16:00:32.733308Z",
     "iopub.status.busy": "2025-08-05T16:00:32.732826Z",
     "iopub.status.idle": "2025-08-05T16:00:32.792204Z",
     "shell.execute_reply": "2025-08-05T16:00:32.790909Z"
    },
    "papermill": {
     "duration": 0.086622,
     "end_time": "2025-08-05T16:00:32.795172",
     "exception": false,
     "start_time": "2025-08-05T16:00:32.708550",
     "status": "completed"
    },
    "tags": []
   },
   "outputs": [],
   "source": [
    "X_test = siab_test.iloc[:,4:164]\n",
    "y_true = siab_test.iloc[:, [3]]"
   ]
  },
  {
   "cell_type": "code",
   "execution_count": 18,
   "id": "e6c733c5",
   "metadata": {
    "execution": {
     "iopub.execute_input": "2025-08-05T16:00:32.838800Z",
     "iopub.status.busy": "2025-08-05T16:00:32.837853Z",
     "iopub.status.idle": "2025-08-05T16:00:32.943601Z",
     "shell.execute_reply": "2025-08-05T16:00:32.942487Z"
    },
    "papermill": {
     "duration": 0.128047,
     "end_time": "2025-08-05T16:00:32.945665",
     "exception": false,
     "start_time": "2025-08-05T16:00:32.817618",
     "status": "completed"
    },
    "tags": []
   },
   "outputs": [],
   "source": [
    "# Auxiliary data needed downstream in the pipeline\n",
    "\n",
    "org_train = X_train.copy()\n",
    "org_test = X_test.copy()\n",
    "org_calib = X_calib.copy()"
   ]
  },
  {
   "cell_type": "markdown",
   "id": "0a4a1b33",
   "metadata": {
    "papermill": {
     "duration": 0.020563,
     "end_time": "2025-08-05T16:00:32.987092",
     "exception": false,
     "start_time": "2025-08-05T16:00:32.966529",
     "status": "completed"
    },
    "tags": []
   },
   "source": [
    "# Preprocessing Data"
   ]
  },
  {
   "cell_type": "code",
   "execution_count": 19,
   "id": "ca879031",
   "metadata": {
    "execution": {
     "iopub.execute_input": "2025-08-05T16:00:33.030808Z",
     "iopub.status.busy": "2025-08-05T16:00:33.030077Z",
     "iopub.status.idle": "2025-08-05T16:00:33.036638Z",
     "shell.execute_reply": "2025-08-05T16:00:33.035559Z"
    },
    "papermill": {
     "duration": 0.030605,
     "end_time": "2025-08-05T16:00:33.038645",
     "exception": false,
     "start_time": "2025-08-05T16:00:33.008040",
     "status": "completed"
    },
    "tags": []
   },
   "outputs": [],
   "source": [
    "# EXCLUDE PROTECTED FEATURES\n",
    "# ----------------------\n",
    "# \"exclude_features\": \"none\", # \"nationality\", \"sex\", \"nationality-sex\"\n",
    "\n",
    "excluded_features = universe[\"exclude_features\"].split(\"-\") # split, e.g.: \"nationality-sex\" -> [\"nationality\", \"sex\"]\n",
    "excluded_features_dictionary = {\n",
    "    \"nationality\": [\"maxdeutsch1\", \"maxdeutsch.Missing.\"],\n",
    "    \"sex\": [\"frau1\"],\n",
    "    \"age\": [\"age\"],\n",
    "}"
   ]
  },
  {
   "cell_type": "code",
   "execution_count": 20,
   "id": "b745ac60",
   "metadata": {
    "execution": {
     "iopub.execute_input": "2025-08-05T16:00:33.090238Z",
     "iopub.status.busy": "2025-08-05T16:00:33.089198Z",
     "iopub.status.idle": "2025-08-05T16:00:33.095695Z",
     "shell.execute_reply": "2025-08-05T16:00:33.094548Z"
    },
    "papermill": {
     "duration": 0.032348,
     "end_time": "2025-08-05T16:00:33.097876",
     "exception": false,
     "start_time": "2025-08-05T16:00:33.065528",
     "status": "completed"
    },
    "tags": []
   },
   "outputs": [],
   "source": [
    "# Code nice names to column names\n",
    "\n",
    "excluded_features_columns = [\n",
    "    excluded_features_dictionary[f] for f in excluded_features if len(f) > 0 and f != \"none\"\n",
    "]"
   ]
  },
  {
   "cell_type": "code",
   "execution_count": 21,
   "id": "f84f73a2",
   "metadata": {
    "execution": {
     "iopub.execute_input": "2025-08-05T16:00:33.146598Z",
     "iopub.status.busy": "2025-08-05T16:00:33.145576Z",
     "iopub.status.idle": "2025-08-05T16:00:33.152894Z",
     "shell.execute_reply": "2025-08-05T16:00:33.151728Z"
    },
    "papermill": {
     "duration": 0.032373,
     "end_time": "2025-08-05T16:00:33.155075",
     "exception": false,
     "start_time": "2025-08-05T16:00:33.122702",
     "status": "completed"
    },
    "tags": []
   },
   "outputs": [],
   "source": [
    "from utils import flatten_once\n",
    "\n",
    "excluded_features_columns = flatten_once(excluded_features_columns)"
   ]
  },
  {
   "cell_type": "code",
   "execution_count": 22,
   "id": "884dea22",
   "metadata": {
    "execution": {
     "iopub.execute_input": "2025-08-05T16:00:33.200833Z",
     "iopub.status.busy": "2025-08-05T16:00:33.199946Z",
     "iopub.status.idle": "2025-08-05T16:00:33.206092Z",
     "shell.execute_reply": "2025-08-05T16:00:33.205072Z"
    },
    "papermill": {
     "duration": 0.031208,
     "end_time": "2025-08-05T16:00:33.208516",
     "exception": false,
     "start_time": "2025-08-05T16:00:33.177308",
     "status": "completed"
    },
    "tags": []
   },
   "outputs": [],
   "source": [
    "if len(excluded_features_columns) > 0:\n",
    "    print(f\"Dropping features: {excluded_features_columns}\")\n",
    "    X_train.drop(excluded_features_columns, axis=1, inplace=True)"
   ]
  },
  {
   "cell_type": "code",
   "execution_count": 23,
   "id": "95ab8b16",
   "metadata": {
    "execution": {
     "iopub.execute_input": "2025-08-05T16:00:33.252965Z",
     "iopub.status.busy": "2025-08-05T16:00:33.252279Z",
     "iopub.status.idle": "2025-08-05T16:00:33.258396Z",
     "shell.execute_reply": "2025-08-05T16:00:33.257299Z"
    },
    "papermill": {
     "duration": 0.029919,
     "end_time": "2025-08-05T16:00:33.260341",
     "exception": false,
     "start_time": "2025-08-05T16:00:33.230422",
     "status": "completed"
    },
    "tags": []
   },
   "outputs": [],
   "source": [
    "if len(excluded_features_columns) > 0:\n",
    "    print(f\"Dropping features: {excluded_features_columns}\")\n",
    "    X_test.drop(excluded_features_columns, axis=1, inplace=True)"
   ]
  },
  {
   "cell_type": "code",
   "execution_count": 24,
   "id": "1853aaf5-fb9f-46cb-a2b5-8ea4ae2237e4",
   "metadata": {
    "execution": {
     "iopub.execute_input": "2025-08-05T16:00:33.293341Z",
     "iopub.status.busy": "2025-08-05T16:00:33.292982Z",
     "iopub.status.idle": "2025-08-05T16:00:33.298018Z",
     "shell.execute_reply": "2025-08-05T16:00:33.297223Z"
    },
    "papermill": {
     "duration": 0.018515,
     "end_time": "2025-08-05T16:00:33.299636",
     "exception": false,
     "start_time": "2025-08-05T16:00:33.281121",
     "status": "completed"
    },
    "tags": []
   },
   "outputs": [],
   "source": [
    "if len(excluded_features_columns) > 0:\n",
    "    print(f\"Dropping features: {excluded_features_columns}\")\n",
    "    X_calib.drop(excluded_features_columns, axis=1, inplace=True)"
   ]
  },
  {
   "cell_type": "code",
   "execution_count": 25,
   "id": "76c4dc6d",
   "metadata": {
    "execution": {
     "iopub.execute_input": "2025-08-05T16:00:33.321434Z",
     "iopub.status.busy": "2025-08-05T16:00:33.320916Z",
     "iopub.status.idle": "2025-08-05T16:00:33.325688Z",
     "shell.execute_reply": "2025-08-05T16:00:33.324873Z"
    },
    "papermill": {
     "duration": 0.01639,
     "end_time": "2025-08-05T16:00:33.327140",
     "exception": false,
     "start_time": "2025-08-05T16:00:33.310750",
     "status": "completed"
    },
    "tags": []
   },
   "outputs": [],
   "source": [
    "# EXCLUDE CERTAIN SUBGROUPS\n",
    "# ----------------------\n",
    "\n",
    "mode = universe.get(\"exclude_subgroups\", \"keep-all\") \n",
    "# Fetches the exclude_subgroups setting from the universe dict.\n",
    "# Defaults to \"keep-all\" if the key is missing."
   ]
  },
  {
   "cell_type": "code",
   "execution_count": 26,
   "id": "21994072",
   "metadata": {
    "execution": {
     "iopub.execute_input": "2025-08-05T16:00:33.379089Z",
     "iopub.status.busy": "2025-08-05T16:00:33.378641Z",
     "iopub.status.idle": "2025-08-05T16:00:33.386734Z",
     "shell.execute_reply": "2025-08-05T16:00:33.385440Z"
    },
    "papermill": {
     "duration": 0.039689,
     "end_time": "2025-08-05T16:00:33.389354",
     "exception": false,
     "start_time": "2025-08-05T16:00:33.349665",
     "status": "completed"
    },
    "tags": []
   },
   "outputs": [],
   "source": [
    "if mode == \"keep-all\":\n",
    "    keep_mask = pd.Series(True, index=org_train.index)\n",
    "\n",
    "# org_train contains the original feature columns from features_org (in Simson)\n",
    "# features_org contains unprocessed features, for me X_train at beginning ???\n",
    "# For keep-all, creates a boolean Series (keep_mask) of all True, so no rows are removed.\n",
    "\n",
    "elif mode == \"drop-non-german\":\n",
    "    keep_mask = org_train[\"maxdeutsch1\"] == 1 # ??? what about missing values?\n",
    "\n",
    "else:\n",
    "    raise ValueError(f\"Unsupported mode for exclude_subgroups: {mode}\")"
   ]
  },
  {
   "cell_type": "code",
   "execution_count": 27,
   "id": "71651440",
   "metadata": {
    "execution": {
     "iopub.execute_input": "2025-08-05T16:00:33.442677Z",
     "iopub.status.busy": "2025-08-05T16:00:33.441970Z",
     "iopub.status.idle": "2025-08-05T16:00:33.450548Z",
     "shell.execute_reply": "2025-08-05T16:00:33.449267Z"
    },
    "papermill": {
     "duration": 0.034356,
     "end_time": "2025-08-05T16:00:33.452577",
     "exception": false,
     "start_time": "2025-08-05T16:00:33.418221",
     "status": "completed"
    },
    "tags": []
   },
   "outputs": [
    {
     "name": "stdout",
     "output_type": "stream",
     "text": [
      "Dropping 657 rows (13.14%) where mode='drop-non-german'\n"
     ]
    }
   ],
   "source": [
    "n_drop = (~keep_mask).sum() # Calculates how many rows are set to be dropped\n",
    "if n_drop > 0:\n",
    "    pct = n_drop / len(keep_mask) * 100\n",
    "    print(f\"Dropping {n_drop} rows ({pct:.2f}%) where mode='{mode}'\")"
   ]
  },
  {
   "cell_type": "code",
   "execution_count": 28,
   "id": "5fb8eee5",
   "metadata": {
    "execution": {
     "iopub.execute_input": "2025-08-05T16:00:33.503283Z",
     "iopub.status.busy": "2025-08-05T16:00:33.502822Z",
     "iopub.status.idle": "2025-08-05T16:00:33.511091Z",
     "shell.execute_reply": "2025-08-05T16:00:33.510047Z"
    },
    "papermill": {
     "duration": 0.03552,
     "end_time": "2025-08-05T16:00:33.513163",
     "exception": false,
     "start_time": "2025-08-05T16:00:33.477643",
     "status": "completed"
    },
    "tags": []
   },
   "outputs": [],
   "source": [
    "X_train = X_train[keep_mask]"
   ]
  },
  {
   "cell_type": "code",
   "execution_count": 29,
   "id": "b202bb3a",
   "metadata": {
    "execution": {
     "iopub.execute_input": "2025-08-05T16:00:33.562696Z",
     "iopub.status.busy": "2025-08-05T16:00:33.562184Z",
     "iopub.status.idle": "2025-08-05T16:00:33.568939Z",
     "shell.execute_reply": "2025-08-05T16:00:33.567699Z"
    },
    "papermill": {
     "duration": 0.03332,
     "end_time": "2025-08-05T16:00:33.570949",
     "exception": false,
     "start_time": "2025-08-05T16:00:33.537629",
     "status": "completed"
    },
    "tags": []
   },
   "outputs": [],
   "source": [
    "y_train = y_train[keep_mask]"
   ]
  },
  {
   "cell_type": "markdown",
   "id": "493e2ac3",
   "metadata": {
    "papermill": {
     "duration": 0.021836,
     "end_time": "2025-08-05T16:00:33.616136",
     "exception": false,
     "start_time": "2025-08-05T16:00:33.594300",
     "status": "completed"
    },
    "tags": []
   },
   "source": [
    "# Model Training"
   ]
  },
  {
   "cell_type": "code",
   "execution_count": 30,
   "id": "679e1268",
   "metadata": {
    "execution": {
     "iopub.execute_input": "2025-08-05T16:00:33.663917Z",
     "iopub.status.busy": "2025-08-05T16:00:33.662993Z",
     "iopub.status.idle": "2025-08-05T16:00:33.777343Z",
     "shell.execute_reply": "2025-08-05T16:00:33.776538Z"
    },
    "papermill": {
     "duration": 0.140666,
     "end_time": "2025-08-05T16:00:33.778995",
     "exception": false,
     "start_time": "2025-08-05T16:00:33.638329",
     "status": "completed"
    },
    "tags": []
   },
   "outputs": [],
   "source": [
    "from sklearn.linear_model import LogisticRegression\n",
    "from sklearn.ensemble import GradientBoostingClassifier, RandomForestClassifier\n",
    "\n",
    "if (universe[\"model\"] == \"logreg\"):\n",
    "    model = LogisticRegression() #penalty=\"none\", solver=\"newton-cg\", max_iter=1) # include random_state=19 ?\n",
    "elif (universe[\"model\"] == \"penalized_logreg\"):\n",
    "    model = LogisticRegression(penalty=\"l2\", C=0.1) #, solver=\"newton-cg\", max_iter=1)\n",
    "elif (universe[\"model\"] == \"rf\"):\n",
    "    model = RandomForestClassifier() # n_estimators=100, n_jobs=-1\n",
    "elif (universe[\"model\"] == \"gbm\"):\n",
    "    model = GradientBoostingClassifier()\n",
    "elif (universe[\"model\"] == \"elasticnet\"):\n",
    "    model = LogisticRegression(penalty = 'elasticnet', solver = 'saga', l1_ratio = 0.5) # max_iter=5000\n",
    "else:\n",
    "    raise \"Unsupported universe.model\""
   ]
  },
  {
   "cell_type": "code",
   "execution_count": 31,
   "id": "0cc8f744",
   "metadata": {
    "execution": {
     "iopub.execute_input": "2025-08-05T16:00:33.811581Z",
     "iopub.status.busy": "2025-08-05T16:00:33.811211Z",
     "iopub.status.idle": "2025-08-05T16:00:33.816717Z",
     "shell.execute_reply": "2025-08-05T16:00:33.815975Z"
    },
    "papermill": {
     "duration": 0.025672,
     "end_time": "2025-08-05T16:00:33.818505",
     "exception": false,
     "start_time": "2025-08-05T16:00:33.792833",
     "status": "completed"
    },
    "tags": []
   },
   "outputs": [],
   "source": [
    "import numpy as np\n",
    "from sklearn.pipeline import Pipeline\n",
    "from sklearn.preprocessing import StandardScaler\n",
    "\n",
    "model = Pipeline([\n",
    "    #(\"continuous_processor\", continuous_processor),\n",
    "    #(\"categorical_preprocessor\", categorical_preprocessor),\n",
    "    (\"scale\", StandardScaler() if universe[\"scale\"] == \"scale\" else None), \n",
    "    (\"model\", model),\n",
    "])"
   ]
  },
  {
   "cell_type": "code",
   "execution_count": 32,
   "id": "9442c04d",
   "metadata": {
    "execution": {
     "iopub.execute_input": "2025-08-05T16:00:33.841601Z",
     "iopub.status.busy": "2025-08-05T16:00:33.841021Z",
     "iopub.status.idle": "2025-08-05T16:00:34.975408Z",
     "shell.execute_reply": "2025-08-05T16:00:34.974481Z"
    },
    "papermill": {
     "duration": 1.147007,
     "end_time": "2025-08-05T16:00:34.977201",
     "exception": false,
     "start_time": "2025-08-05T16:00:33.830194",
     "status": "completed"
    },
    "tags": []
   },
   "outputs": [
    {
     "name": "stderr",
     "output_type": "stream",
     "text": [
      "/dss/dsshome1/0C/ra93lal2/.local/share/virtualenvs/CMA_Fairness_v2-3j10GkSs/lib/python3.10/site-packages/sklearn/linear_model/_sag.py:350: ConvergenceWarning: The max_iter was reached which means the coef_ did not converge\n",
      "  warnings.warn(\n"
     ]
    },
    {
     "data": {
      "text/html": [
       "<style>#sk-container-id-1 {color: black;background-color: white;}#sk-container-id-1 pre{padding: 0;}#sk-container-id-1 div.sk-toggleable {background-color: white;}#sk-container-id-1 label.sk-toggleable__label {cursor: pointer;display: block;width: 100%;margin-bottom: 0;padding: 0.3em;box-sizing: border-box;text-align: center;}#sk-container-id-1 label.sk-toggleable__label-arrow:before {content: \"▸\";float: left;margin-right: 0.25em;color: #696969;}#sk-container-id-1 label.sk-toggleable__label-arrow:hover:before {color: black;}#sk-container-id-1 div.sk-estimator:hover label.sk-toggleable__label-arrow:before {color: black;}#sk-container-id-1 div.sk-toggleable__content {max-height: 0;max-width: 0;overflow: hidden;text-align: left;background-color: #f0f8ff;}#sk-container-id-1 div.sk-toggleable__content pre {margin: 0.2em;color: black;border-radius: 0.25em;background-color: #f0f8ff;}#sk-container-id-1 input.sk-toggleable__control:checked~div.sk-toggleable__content {max-height: 200px;max-width: 100%;overflow: auto;}#sk-container-id-1 input.sk-toggleable__control:checked~label.sk-toggleable__label-arrow:before {content: \"▾\";}#sk-container-id-1 div.sk-estimator input.sk-toggleable__control:checked~label.sk-toggleable__label {background-color: #d4ebff;}#sk-container-id-1 div.sk-label input.sk-toggleable__control:checked~label.sk-toggleable__label {background-color: #d4ebff;}#sk-container-id-1 input.sk-hidden--visually {border: 0;clip: rect(1px 1px 1px 1px);clip: rect(1px, 1px, 1px, 1px);height: 1px;margin: -1px;overflow: hidden;padding: 0;position: absolute;width: 1px;}#sk-container-id-1 div.sk-estimator {font-family: monospace;background-color: #f0f8ff;border: 1px dotted black;border-radius: 0.25em;box-sizing: border-box;margin-bottom: 0.5em;}#sk-container-id-1 div.sk-estimator:hover {background-color: #d4ebff;}#sk-container-id-1 div.sk-parallel-item::after {content: \"\";width: 100%;border-bottom: 1px solid gray;flex-grow: 1;}#sk-container-id-1 div.sk-label:hover label.sk-toggleable__label {background-color: #d4ebff;}#sk-container-id-1 div.sk-serial::before {content: \"\";position: absolute;border-left: 1px solid gray;box-sizing: border-box;top: 0;bottom: 0;left: 50%;z-index: 0;}#sk-container-id-1 div.sk-serial {display: flex;flex-direction: column;align-items: center;background-color: white;padding-right: 0.2em;padding-left: 0.2em;position: relative;}#sk-container-id-1 div.sk-item {position: relative;z-index: 1;}#sk-container-id-1 div.sk-parallel {display: flex;align-items: stretch;justify-content: center;background-color: white;position: relative;}#sk-container-id-1 div.sk-item::before, #sk-container-id-1 div.sk-parallel-item::before {content: \"\";position: absolute;border-left: 1px solid gray;box-sizing: border-box;top: 0;bottom: 0;left: 50%;z-index: -1;}#sk-container-id-1 div.sk-parallel-item {display: flex;flex-direction: column;z-index: 1;position: relative;background-color: white;}#sk-container-id-1 div.sk-parallel-item:first-child::after {align-self: flex-end;width: 50%;}#sk-container-id-1 div.sk-parallel-item:last-child::after {align-self: flex-start;width: 50%;}#sk-container-id-1 div.sk-parallel-item:only-child::after {width: 0;}#sk-container-id-1 div.sk-dashed-wrapped {border: 1px dashed gray;margin: 0 0.4em 0.5em 0.4em;box-sizing: border-box;padding-bottom: 0.4em;background-color: white;}#sk-container-id-1 div.sk-label label {font-family: monospace;font-weight: bold;display: inline-block;line-height: 1.2em;}#sk-container-id-1 div.sk-label-container {text-align: center;}#sk-container-id-1 div.sk-container {/* jupyter's `normalize.less` sets `[hidden] { display: none; }` but bootstrap.min.css set `[hidden] { display: none !important; }` so we also need the `!important` here to be able to override the default hidden behavior on the sphinx rendered scikit-learn.org. See: https://github.com/scikit-learn/scikit-learn/issues/21755 */display: inline-block !important;position: relative;}#sk-container-id-1 div.sk-text-repr-fallback {display: none;}</style><div id=\"sk-container-id-1\" class=\"sk-top-container\"><div class=\"sk-text-repr-fallback\"><pre>Pipeline(steps=[(&#x27;scale&#x27;, None),\n",
       "                (&#x27;model&#x27;,\n",
       "                 LogisticRegression(l1_ratio=0.5, penalty=&#x27;elasticnet&#x27;,\n",
       "                                    solver=&#x27;saga&#x27;))])</pre><b>In a Jupyter environment, please rerun this cell to show the HTML representation or trust the notebook. <br />On GitHub, the HTML representation is unable to render, please try loading this page with nbviewer.org.</b></div><div class=\"sk-container\" hidden><div class=\"sk-item sk-dashed-wrapped\"><div class=\"sk-label-container\"><div class=\"sk-label sk-toggleable\"><input class=\"sk-toggleable__control sk-hidden--visually\" id=\"sk-estimator-id-1\" type=\"checkbox\" ><label for=\"sk-estimator-id-1\" class=\"sk-toggleable__label sk-toggleable__label-arrow\">Pipeline</label><div class=\"sk-toggleable__content\"><pre>Pipeline(steps=[(&#x27;scale&#x27;, None),\n",
       "                (&#x27;model&#x27;,\n",
       "                 LogisticRegression(l1_ratio=0.5, penalty=&#x27;elasticnet&#x27;,\n",
       "                                    solver=&#x27;saga&#x27;))])</pre></div></div></div><div class=\"sk-serial\"><div class=\"sk-item\"><div class=\"sk-estimator sk-toggleable\"><input class=\"sk-toggleable__control sk-hidden--visually\" id=\"sk-estimator-id-2\" type=\"checkbox\" ><label for=\"sk-estimator-id-2\" class=\"sk-toggleable__label sk-toggleable__label-arrow\">None</label><div class=\"sk-toggleable__content\"><pre>None</pre></div></div></div><div class=\"sk-item\"><div class=\"sk-estimator sk-toggleable\"><input class=\"sk-toggleable__control sk-hidden--visually\" id=\"sk-estimator-id-3\" type=\"checkbox\" ><label for=\"sk-estimator-id-3\" class=\"sk-toggleable__label sk-toggleable__label-arrow\">LogisticRegression</label><div class=\"sk-toggleable__content\"><pre>LogisticRegression(l1_ratio=0.5, penalty=&#x27;elasticnet&#x27;, solver=&#x27;saga&#x27;)</pre></div></div></div></div></div></div></div>"
      ],
      "text/plain": [
       "Pipeline(steps=[('scale', None),\n",
       "                ('model',\n",
       "                 LogisticRegression(l1_ratio=0.5, penalty='elasticnet',\n",
       "                                    solver='saga'))])"
      ]
     },
     "execution_count": 32,
     "metadata": {},
     "output_type": "execute_result"
    }
   ],
   "source": [
    "model.fit(X_train, y_train.values.ravel())"
   ]
  },
  {
   "cell_type": "code",
   "execution_count": 33,
   "id": "af59f8c0",
   "metadata": {
    "execution": {
     "iopub.execute_input": "2025-08-05T16:00:35.019842Z",
     "iopub.status.busy": "2025-08-05T16:00:35.018969Z",
     "iopub.status.idle": "2025-08-05T16:00:35.025687Z",
     "shell.execute_reply": "2025-08-05T16:00:35.024258Z"
    },
    "papermill": {
     "duration": 0.02927,
     "end_time": "2025-08-05T16:00:35.027786",
     "exception": false,
     "start_time": "2025-08-05T16:00:34.998516",
     "status": "completed"
    },
    "tags": []
   },
   "outputs": [],
   "source": [
    "from fairness_multiverse.universe import predict_w_threshold"
   ]
  },
  {
   "cell_type": "code",
   "execution_count": 34,
   "id": "a7cf2e16",
   "metadata": {
    "execution": {
     "iopub.execute_input": "2025-08-05T16:00:35.066453Z",
     "iopub.status.busy": "2025-08-05T16:00:35.065677Z",
     "iopub.status.idle": "2025-08-05T16:00:35.170753Z",
     "shell.execute_reply": "2025-08-05T16:00:35.169803Z"
    },
    "papermill": {
     "duration": 0.125864,
     "end_time": "2025-08-05T16:00:35.172410",
     "exception": false,
     "start_time": "2025-08-05T16:00:35.046546",
     "status": "completed"
    },
    "tags": []
   },
   "outputs": [
    {
     "data": {
      "text/plain": [
       "0.8671719986623565"
      ]
     },
     "execution_count": 34,
     "metadata": {},
     "output_type": "execute_result"
    }
   ],
   "source": [
    "probs_test = model.predict_proba(X_test)\n",
    "\n",
    "'''\n",
    "Below code returns a boolean array (or binary 0/1 array depending on how it’s used) where each element \n",
    "is True if the probability of class 1 is greater than or equal to the threshold, and False otherwise.\n",
    "'''\n",
    "y_pred_default = predict_w_threshold(probs_test, 0.5)\n",
    "\n",
    "from sklearn.metrics import accuracy_score\n",
    "\n",
    "# Naive prediction\n",
    "accuracy_score(y_true = y_true, y_pred = y_pred_default)"
   ]
  },
  {
   "cell_type": "code",
   "execution_count": 35,
   "id": "081964c3",
   "metadata": {
    "execution": {
     "iopub.execute_input": "2025-08-05T16:00:35.213715Z",
     "iopub.status.busy": "2025-08-05T16:00:35.212829Z",
     "iopub.status.idle": "2025-08-05T16:00:35.297475Z",
     "shell.execute_reply": "2025-08-05T16:00:35.296644Z"
    },
    "papermill": {
     "duration": 0.105467,
     "end_time": "2025-08-05T16:00:35.299107",
     "exception": false,
     "start_time": "2025-08-05T16:00:35.193640",
     "status": "completed"
    },
    "tags": []
   },
   "outputs": [
    {
     "data": {
      "text/plain": [
       "array([0, 0, 0, ..., 0, 0, 0])"
      ]
     },
     "execution_count": 35,
     "metadata": {},
     "output_type": "execute_result"
    }
   ],
   "source": [
    "model.predict(X_test)"
   ]
  },
  {
   "cell_type": "markdown",
   "id": "56c9705b",
   "metadata": {
    "papermill": {
     "duration": 0.019961,
     "end_time": "2025-08-05T16:00:35.338893",
     "exception": false,
     "start_time": "2025-08-05T16:00:35.318932",
     "status": "completed"
    },
    "tags": []
   },
   "source": [
    "# Conformal Prediction"
   ]
  },
  {
   "cell_type": "code",
   "execution_count": 36,
   "id": "160ec6ff",
   "metadata": {
    "execution": {
     "iopub.execute_input": "2025-08-05T16:00:35.376116Z",
     "iopub.status.busy": "2025-08-05T16:00:35.375638Z",
     "iopub.status.idle": "2025-08-05T16:00:35.381479Z",
     "shell.execute_reply": "2025-08-05T16:00:35.380485Z"
    },
    "papermill": {
     "duration": 0.026093,
     "end_time": "2025-08-05T16:00:35.383115",
     "exception": false,
     "start_time": "2025-08-05T16:00:35.357022",
     "status": "completed"
    },
    "tags": []
   },
   "outputs": [],
   "source": [
    "# Miscoverage level for conformal prediction (10% allowed error rate => 90% target coverage)\n",
    "alpha = 0.1"
   ]
  },
  {
   "cell_type": "code",
   "execution_count": 37,
   "id": "eadf4555-3dd3-440e-8e35-f82a4ad9f855",
   "metadata": {
    "execution": {
     "iopub.execute_input": "2025-08-05T16:00:35.423703Z",
     "iopub.status.busy": "2025-08-05T16:00:35.422952Z",
     "iopub.status.idle": "2025-08-05T16:00:35.506225Z",
     "shell.execute_reply": "2025-08-05T16:00:35.505234Z"
    },
    "papermill": {
     "duration": 0.105126,
     "end_time": "2025-08-05T16:00:35.508121",
     "exception": false,
     "start_time": "2025-08-05T16:00:35.402995",
     "status": "completed"
    },
    "tags": []
   },
   "outputs": [],
   "source": [
    "probs_calib = model.predict_proba(X_calib)"
   ]
  },
  {
   "cell_type": "code",
   "execution_count": 38,
   "id": "2ed93547-6d5d-4983-9b36-1ecb300da49a",
   "metadata": {
    "execution": {
     "iopub.execute_input": "2025-08-05T16:00:35.548665Z",
     "iopub.status.busy": "2025-08-05T16:00:35.547846Z",
     "iopub.status.idle": "2025-08-05T16:00:35.553881Z",
     "shell.execute_reply": "2025-08-05T16:00:35.552784Z"
    },
    "papermill": {
     "duration": 0.028093,
     "end_time": "2025-08-05T16:00:35.555893",
     "exception": false,
     "start_time": "2025-08-05T16:00:35.527800",
     "status": "completed"
    },
    "tags": []
   },
   "outputs": [],
   "source": [
    "y_calib = y_calib.values.ravel().astype(int)"
   ]
  },
  {
   "cell_type": "code",
   "execution_count": 39,
   "id": "65d1320d-f588-4b38-9072-62af1ae97f7d",
   "metadata": {
    "execution": {
     "iopub.execute_input": "2025-08-05T16:00:35.604286Z",
     "iopub.status.busy": "2025-08-05T16:00:35.603625Z",
     "iopub.status.idle": "2025-08-05T16:00:35.611542Z",
     "shell.execute_reply": "2025-08-05T16:00:35.610494Z"
    },
    "papermill": {
     "duration": 0.033723,
     "end_time": "2025-08-05T16:00:35.613126",
     "exception": false,
     "start_time": "2025-08-05T16:00:35.579403",
     "status": "completed"
    },
    "tags": []
   },
   "outputs": [],
   "source": [
    "from fairness_multiverse.conformal import compute_nc_scores\n",
    "\n",
    "# Compute nonconformity scores on calibration set (1 - probability of true class)\n",
    "nc_scores = compute_nc_scores(probs_calib, y_calib)"
   ]
  },
  {
   "cell_type": "code",
   "execution_count": 40,
   "id": "df3b8ca3-53b7-43d5-9667-7c85da7aeda2",
   "metadata": {
    "execution": {
     "iopub.execute_input": "2025-08-05T16:00:35.660561Z",
     "iopub.status.busy": "2025-08-05T16:00:35.660248Z",
     "iopub.status.idle": "2025-08-05T16:00:35.666538Z",
     "shell.execute_reply": "2025-08-05T16:00:35.665304Z"
    },
    "papermill": {
     "duration": 0.032007,
     "end_time": "2025-08-05T16:00:35.668456",
     "exception": false,
     "start_time": "2025-08-05T16:00:35.636449",
     "status": "completed"
    },
    "tags": []
   },
   "outputs": [],
   "source": [
    "from fairness_multiverse.conformal import find_threshold\n",
    "\n",
    "# Find conformal threshold q_hat for the given alpha (split conformal method)\n",
    "q_hat = find_threshold(nc_scores, alpha)"
   ]
  },
  {
   "cell_type": "code",
   "execution_count": 41,
   "id": "4d29e6c1-0ef6-4aa4-b8fe-4fe79b0d033a",
   "metadata": {
    "execution": {
     "iopub.execute_input": "2025-08-05T16:00:35.715635Z",
     "iopub.status.busy": "2025-08-05T16:00:35.715316Z",
     "iopub.status.idle": "2025-08-05T16:00:35.722058Z",
     "shell.execute_reply": "2025-08-05T16:00:35.721078Z"
    },
    "papermill": {
     "duration": 0.03211,
     "end_time": "2025-08-05T16:00:35.723712",
     "exception": false,
     "start_time": "2025-08-05T16:00:35.691602",
     "status": "completed"
    },
    "tags": []
   },
   "outputs": [
    {
     "data": {
      "text/plain": [
       "0.693369370259609"
      ]
     },
     "execution_count": 41,
     "metadata": {},
     "output_type": "execute_result"
    }
   ],
   "source": [
    "q_hat"
   ]
  },
  {
   "cell_type": "code",
   "execution_count": 42,
   "id": "92460794-cdac-4be2-ba28-f28c0515a6fb",
   "metadata": {
    "execution": {
     "iopub.execute_input": "2025-08-05T16:00:35.772818Z",
     "iopub.status.busy": "2025-08-05T16:00:35.771922Z",
     "iopub.status.idle": "2025-08-05T16:00:36.563900Z",
     "shell.execute_reply": "2025-08-05T16:00:36.562919Z"
    },
    "papermill": {
     "duration": 0.818197,
     "end_time": "2025-08-05T16:00:36.565912",
     "exception": false,
     "start_time": "2025-08-05T16:00:35.747715",
     "status": "completed"
    },
    "tags": []
   },
   "outputs": [],
   "source": [
    "from fairness_multiverse.conformal import predict_conformal_sets\n",
    "\n",
    "# Generate prediction sets for each test example\n",
    "pred_sets = predict_conformal_sets(model, X_test, q_hat)"
   ]
  },
  {
   "cell_type": "code",
   "execution_count": 43,
   "id": "d90c9a65-e6db-4f5d-80cd-e68fb7e46829",
   "metadata": {
    "execution": {
     "iopub.execute_input": "2025-08-05T16:00:36.602844Z",
     "iopub.status.busy": "2025-08-05T16:00:36.602388Z",
     "iopub.status.idle": "2025-08-05T16:00:36.607559Z",
     "shell.execute_reply": "2025-08-05T16:00:36.606849Z"
    },
    "papermill": {
     "duration": 0.022586,
     "end_time": "2025-08-05T16:00:36.608946",
     "exception": false,
     "start_time": "2025-08-05T16:00:36.586360",
     "status": "completed"
    },
    "tags": []
   },
   "outputs": [],
   "source": [
    "y_true = y_true.squeeze()"
   ]
  },
  {
   "cell_type": "code",
   "execution_count": 44,
   "id": "3a58a54a-1e68-46b9-927a-df01f18aebc8",
   "metadata": {
    "execution": {
     "iopub.execute_input": "2025-08-05T16:00:36.633422Z",
     "iopub.status.busy": "2025-08-05T16:00:36.632626Z",
     "iopub.status.idle": "2025-08-05T16:00:37.520645Z",
     "shell.execute_reply": "2025-08-05T16:00:37.519561Z"
    },
    "papermill": {
     "duration": 0.901904,
     "end_time": "2025-08-05T16:00:37.522782",
     "exception": false,
     "start_time": "2025-08-05T16:00:36.620878",
     "status": "completed"
    },
    "tags": []
   },
   "outputs": [],
   "source": [
    "from fairness_multiverse.conformal import evaluate_sets\n",
    "\n",
    "# Evaluate coverage and average set size on test data\n",
    "metrics = evaluate_sets(pred_sets, y_true)"
   ]
  },
  {
   "cell_type": "markdown",
   "id": "2b569c12-9aaa-4c88-98c9-bbcd0cf3ebb8",
   "metadata": {
    "papermill": {
     "duration": 0.023473,
     "end_time": "2025-08-05T16:00:37.572773",
     "exception": false,
     "start_time": "2025-08-05T16:00:37.549300",
     "status": "completed"
    },
    "tags": []
   },
   "source": [
    "# CP Metrics"
   ]
  },
  {
   "cell_type": "code",
   "execution_count": 45,
   "id": "5ce0a5cb-201f-45a0-ade5-94c7f0bd6095",
   "metadata": {
    "execution": {
     "iopub.execute_input": "2025-08-05T16:00:37.620497Z",
     "iopub.status.busy": "2025-08-05T16:00:37.620038Z",
     "iopub.status.idle": "2025-08-05T16:00:37.627144Z",
     "shell.execute_reply": "2025-08-05T16:00:37.626053Z"
    },
    "papermill": {
     "duration": 0.032936,
     "end_time": "2025-08-05T16:00:37.629003",
     "exception": false,
     "start_time": "2025-08-05T16:00:37.596067",
     "status": "completed"
    },
    "tags": []
   },
   "outputs": [
    {
     "data": {
      "text/plain": [
       "{'coverage': 0.914000668821759, 'avg_size': 1.2905696131980826}"
      ]
     },
     "execution_count": 45,
     "metadata": {},
     "output_type": "execute_result"
    }
   ],
   "source": [
    "metrics"
   ]
  },
  {
   "cell_type": "code",
   "execution_count": 46,
   "id": "9b9a838d-31c9-430b-ae14-12baee460d17",
   "metadata": {
    "execution": {
     "iopub.execute_input": "2025-08-05T16:00:37.671290Z",
     "iopub.status.busy": "2025-08-05T16:00:37.670474Z",
     "iopub.status.idle": "2025-08-05T16:00:37.677031Z",
     "shell.execute_reply": "2025-08-05T16:00:37.676091Z"
    },
    "papermill": {
     "duration": 0.028907,
     "end_time": "2025-08-05T16:00:37.679103",
     "exception": false,
     "start_time": "2025-08-05T16:00:37.650196",
     "status": "completed"
    },
    "tags": []
   },
   "outputs": [],
   "source": [
    "example_universe = universe.copy()\n",
    "universe_training_year = example_universe.get(\"training_year\")\n",
    "universe_training_size = example_universe.get(\"training_size\")\n",
    "universe_scale = example_universe.get(\"scale\")\n",
    "universe_model = example_universe.get(\"model\")\n",
    "universe_exclude_features = example_universe.get(\"exclude_features\")\n",
    "universe_exclude_subgroups = example_universe.get(\"exclude_subgroups\")"
   ]
  },
  {
   "cell_type": "code",
   "execution_count": 47,
   "id": "f4b6a8ac-9dc0-4245-8a91-5b3b5999c4f9",
   "metadata": {
    "execution": {
     "iopub.execute_input": "2025-08-05T16:00:37.729153Z",
     "iopub.status.busy": "2025-08-05T16:00:37.728515Z",
     "iopub.status.idle": "2025-08-05T16:00:37.735513Z",
     "shell.execute_reply": "2025-08-05T16:00:37.734474Z"
    },
    "papermill": {
     "duration": 0.033865,
     "end_time": "2025-08-05T16:00:37.737449",
     "exception": false,
     "start_time": "2025-08-05T16:00:37.703584",
     "status": "completed"
    },
    "tags": []
   },
   "outputs": [],
   "source": [
    "cp_metrics_dict = {\n",
    "    \"universe_id\": [universe_id],\n",
    "    \"universe_training_year\": [universe_training_year],\n",
    "    \"universe_training_size\": [universe_training_size],\n",
    "    \"universe_scale\": [universe_scale],\n",
    "    \"universe_model\": [universe_model],\n",
    "    \"universe_exclude_features\": [universe_exclude_features],\n",
    "    \"universe_exclude_subgroups\": [universe_exclude_subgroups],\n",
    "    \"q_hat\": [q_hat],\n",
    "    \"coverage\": [metrics[\"coverage\"]],\n",
    "    \"avg_size\": [metrics[\"avg_size\"]],\n",
    "}"
   ]
  },
  {
   "cell_type": "code",
   "execution_count": 48,
   "id": "908acbb1-0371-4915-85ca-3fa520d2efe2",
   "metadata": {
    "execution": {
     "iopub.execute_input": "2025-08-05T16:00:37.787805Z",
     "iopub.status.busy": "2025-08-05T16:00:37.787118Z",
     "iopub.status.idle": "2025-08-05T16:00:37.795217Z",
     "shell.execute_reply": "2025-08-05T16:00:37.794160Z"
    },
    "papermill": {
     "duration": 0.034939,
     "end_time": "2025-08-05T16:00:37.797042",
     "exception": false,
     "start_time": "2025-08-05T16:00:37.762103",
     "status": "completed"
    },
    "tags": []
   },
   "outputs": [
    {
     "data": {
      "text/plain": [
       "{'universe_id': ['c0c130c56e553f9db6d726eec4cdfeae'],\n",
       " 'universe_training_year': ['2010_14'],\n",
       " 'universe_training_size': ['5k'],\n",
       " 'universe_scale': ['do-not-scale'],\n",
       " 'universe_model': ['elasticnet'],\n",
       " 'universe_exclude_features': ['none'],\n",
       " 'universe_exclude_subgroups': ['drop-non-german'],\n",
       " 'q_hat': [0.693369370259609],\n",
       " 'coverage': [0.914000668821759],\n",
       " 'avg_size': [1.2905696131980826]}"
      ]
     },
     "execution_count": 48,
     "metadata": {},
     "output_type": "execute_result"
    }
   ],
   "source": [
    "cp_metrics_dict"
   ]
  },
  {
   "cell_type": "code",
   "execution_count": 49,
   "id": "33007efc-14e9-4ec6-97ac-56a455c82265",
   "metadata": {
    "execution": {
     "iopub.execute_input": "2025-08-05T16:00:37.847850Z",
     "iopub.status.busy": "2025-08-05T16:00:37.847189Z",
     "iopub.status.idle": "2025-08-05T16:00:37.854248Z",
     "shell.execute_reply": "2025-08-05T16:00:37.853155Z"
    },
    "papermill": {
     "duration": 0.034587,
     "end_time": "2025-08-05T16:00:37.856255",
     "exception": false,
     "start_time": "2025-08-05T16:00:37.821668",
     "status": "completed"
    },
    "tags": []
   },
   "outputs": [],
   "source": [
    "cp_metrics_df = pd.DataFrame(cp_metrics_dict)"
   ]
  },
  {
   "cell_type": "code",
   "execution_count": 50,
   "id": "db12611b-57b2-4910-b9d0-355adfd6e7bf",
   "metadata": {
    "execution": {
     "iopub.execute_input": "2025-08-05T16:00:37.900950Z",
     "iopub.status.busy": "2025-08-05T16:00:37.900462Z",
     "iopub.status.idle": "2025-08-05T16:00:37.919258Z",
     "shell.execute_reply": "2025-08-05T16:00:37.918151Z"
    },
    "papermill": {
     "duration": 0.041499,
     "end_time": "2025-08-05T16:00:37.920921",
     "exception": false,
     "start_time": "2025-08-05T16:00:37.879422",
     "status": "completed"
    },
    "tags": []
   },
   "outputs": [
    {
     "data": {
      "text/html": [
       "<div>\n",
       "<style scoped>\n",
       "    .dataframe tbody tr th:only-of-type {\n",
       "        vertical-align: middle;\n",
       "    }\n",
       "\n",
       "    .dataframe tbody tr th {\n",
       "        vertical-align: top;\n",
       "    }\n",
       "\n",
       "    .dataframe thead th {\n",
       "        text-align: right;\n",
       "    }\n",
       "</style>\n",
       "<table border=\"1\" class=\"dataframe\">\n",
       "  <thead>\n",
       "    <tr style=\"text-align: right;\">\n",
       "      <th></th>\n",
       "      <th>universe_id</th>\n",
       "      <th>universe_training_year</th>\n",
       "      <th>universe_training_size</th>\n",
       "      <th>universe_scale</th>\n",
       "      <th>universe_model</th>\n",
       "      <th>universe_exclude_features</th>\n",
       "      <th>universe_exclude_subgroups</th>\n",
       "      <th>q_hat</th>\n",
       "      <th>coverage</th>\n",
       "      <th>avg_size</th>\n",
       "    </tr>\n",
       "  </thead>\n",
       "  <tbody>\n",
       "    <tr>\n",
       "      <th>0</th>\n",
       "      <td>c0c130c56e553f9db6d726eec4cdfeae</td>\n",
       "      <td>2010_14</td>\n",
       "      <td>5k</td>\n",
       "      <td>do-not-scale</td>\n",
       "      <td>elasticnet</td>\n",
       "      <td>none</td>\n",
       "      <td>drop-non-german</td>\n",
       "      <td>0.693369</td>\n",
       "      <td>0.914001</td>\n",
       "      <td>1.29057</td>\n",
       "    </tr>\n",
       "  </tbody>\n",
       "</table>\n",
       "</div>"
      ],
      "text/plain": [
       "                        universe_id universe_training_year  \\\n",
       "0  c0c130c56e553f9db6d726eec4cdfeae                2010_14   \n",
       "\n",
       "  universe_training_size universe_scale universe_model  \\\n",
       "0                     5k   do-not-scale     elasticnet   \n",
       "\n",
       "  universe_exclude_features universe_exclude_subgroups     q_hat  coverage  \\\n",
       "0                      none            drop-non-german  0.693369  0.914001   \n",
       "\n",
       "   avg_size  \n",
       "0   1.29057  "
      ]
     },
     "execution_count": 50,
     "metadata": {},
     "output_type": "execute_result"
    }
   ],
   "source": [
    "cp_metrics_df"
   ]
  },
  {
   "cell_type": "code",
   "execution_count": 51,
   "id": "b7fbde55-a0a1-47e4-9af6-fe4a17fa8c61",
   "metadata": {
    "execution": {
     "iopub.execute_input": "2025-08-05T16:00:37.967287Z",
     "iopub.status.busy": "2025-08-05T16:00:37.966368Z",
     "iopub.status.idle": "2025-08-05T16:00:37.971847Z",
     "shell.execute_reply": "2025-08-05T16:00:37.970743Z"
    },
    "papermill": {
     "duration": 0.032723,
     "end_time": "2025-08-05T16:00:37.974196",
     "exception": false,
     "start_time": "2025-08-05T16:00:37.941473",
     "status": "completed"
    },
    "tags": []
   },
   "outputs": [],
   "source": [
    "# Conditional Coverage & looking at subgroups"
   ]
  },
  {
   "cell_type": "code",
   "execution_count": 52,
   "id": "027ae886-68dd-4141-96c7-805a5450e1ef",
   "metadata": {
    "execution": {
     "iopub.execute_input": "2025-08-05T16:00:38.030419Z",
     "iopub.status.busy": "2025-08-05T16:00:38.029186Z",
     "iopub.status.idle": "2025-08-05T16:00:38.301363Z",
     "shell.execute_reply": "2025-08-05T16:00:38.300212Z"
    },
    "papermill": {
     "duration": 0.304498,
     "end_time": "2025-08-05T16:00:38.303343",
     "exception": false,
     "start_time": "2025-08-05T16:00:37.998845",
     "status": "completed"
    },
    "tags": []
   },
   "outputs": [],
   "source": [
    "from fairness_multiverse.conformal import build_cp_groups\n",
    "\n",
    "cp_groups_df = build_cp_groups(pred_sets, y_true, X_test.index, org_test)\n",
    "#needs universe_id and setting"
   ]
  },
  {
   "cell_type": "code",
   "execution_count": 53,
   "id": "6cbdab96-b2b2-45af-ad54-d0516db2e28d",
   "metadata": {
    "execution": {
     "iopub.execute_input": "2025-08-05T16:00:38.345712Z",
     "iopub.status.busy": "2025-08-05T16:00:38.345171Z",
     "iopub.status.idle": "2025-08-05T16:00:40.112772Z",
     "shell.execute_reply": "2025-08-05T16:00:40.111812Z"
    },
    "papermill": {
     "duration": 1.790688,
     "end_time": "2025-08-05T16:00:40.114656",
     "exception": false,
     "start_time": "2025-08-05T16:00:38.323968",
     "status": "completed"
    },
    "tags": []
   },
   "outputs": [],
   "source": [
    "# Define covered = 1 if true_label is in the predicted set\n",
    "cp_groups_df['covered'] = cp_groups_df.apply(\n",
    "    lambda r: int(r['true_label'] in r['pred_set']),\n",
    "    axis=1\n",
    ")"
   ]
  },
  {
   "cell_type": "code",
   "execution_count": 54,
   "id": "338ff529-1a6b-4b87-a931-8e4788d52aad",
   "metadata": {
    "execution": {
     "iopub.execute_input": "2025-08-05T16:00:40.159685Z",
     "iopub.status.busy": "2025-08-05T16:00:40.159167Z",
     "iopub.status.idle": "2025-08-05T16:00:40.164479Z",
     "shell.execute_reply": "2025-08-05T16:00:40.163445Z"
    },
    "papermill": {
     "duration": 0.03076,
     "end_time": "2025-08-05T16:00:40.166774",
     "exception": false,
     "start_time": "2025-08-05T16:00:40.136014",
     "status": "completed"
    },
    "tags": []
   },
   "outputs": [],
   "source": [
    "#cp_groups_df"
   ]
  },
  {
   "cell_type": "code",
   "execution_count": 55,
   "id": "90032e27-66df-4540-9169-4e89cfbaa758",
   "metadata": {
    "execution": {
     "iopub.execute_input": "2025-08-05T16:00:40.219183Z",
     "iopub.status.busy": "2025-08-05T16:00:40.218541Z",
     "iopub.status.idle": "2025-08-05T16:00:40.231732Z",
     "shell.execute_reply": "2025-08-05T16:00:40.230729Z"
    },
    "papermill": {
     "duration": 0.040132,
     "end_time": "2025-08-05T16:00:40.233249",
     "exception": false,
     "start_time": "2025-08-05T16:00:40.193117",
     "status": "completed"
    },
    "tags": []
   },
   "outputs": [],
   "source": [
    "subgroups = ['frau1','nongerman','nongerman_male','nongerman_female']\n",
    "\n",
    "# Conditional coverage for subgroup==1\n",
    "cond_coverage = {\n",
    "    g: cp_groups_df.loc[cp_groups_df[g]==1, 'covered'].mean()\n",
    "    for g in subgroups\n",
    "}"
   ]
  },
  {
   "cell_type": "code",
   "execution_count": 56,
   "id": "1e348fb1-b9c3-45bc-ba23-f016827a7e0d",
   "metadata": {
    "execution": {
     "iopub.execute_input": "2025-08-05T16:00:40.278232Z",
     "iopub.status.busy": "2025-08-05T16:00:40.277537Z",
     "iopub.status.idle": "2025-08-05T16:00:40.285966Z",
     "shell.execute_reply": "2025-08-05T16:00:40.284796Z"
    },
    "papermill": {
     "duration": 0.033409,
     "end_time": "2025-08-05T16:00:40.287661",
     "exception": false,
     "start_time": "2025-08-05T16:00:40.254252",
     "status": "completed"
    },
    "tags": []
   },
   "outputs": [
    {
     "data": {
      "text/plain": [
       "{'frau1': 0.9142741609381319,\n",
       " 'nongerman': 0.9707516981979453,\n",
       " 'nongerman_male': 0.9768531027650185,\n",
       " 'nongerman_female': 0.9606557377049181}"
      ]
     },
     "execution_count": 56,
     "metadata": {},
     "output_type": "execute_result"
    }
   ],
   "source": [
    "cond_coverage"
   ]
  },
  {
   "cell_type": "code",
   "execution_count": 57,
   "id": "f5093324-c3dd-4d63-bc4c-8d945e5c8bbb",
   "metadata": {
    "execution": {
     "iopub.execute_input": "2025-08-05T16:00:40.331059Z",
     "iopub.status.busy": "2025-08-05T16:00:40.330297Z",
     "iopub.status.idle": "2025-08-05T16:00:40.338191Z",
     "shell.execute_reply": "2025-08-05T16:00:40.336980Z"
    },
    "papermill": {
     "duration": 0.030572,
     "end_time": "2025-08-05T16:00:40.339864",
     "exception": false,
     "start_time": "2025-08-05T16:00:40.309292",
     "status": "completed"
    },
    "tags": []
   },
   "outputs": [],
   "source": [
    "for subgroup, cov in cond_coverage.items():\n",
    "    cp_metrics_df[f\"cov_{subgroup}\"] = cov"
   ]
  },
  {
   "cell_type": "code",
   "execution_count": 58,
   "id": "6e872e10-dbe5-49e8-b554-5030c98ff75d",
   "metadata": {
    "execution": {
     "iopub.execute_input": "2025-08-05T16:00:40.383263Z",
     "iopub.status.busy": "2025-08-05T16:00:40.382636Z",
     "iopub.status.idle": "2025-08-05T16:00:40.404478Z",
     "shell.execute_reply": "2025-08-05T16:00:40.403531Z"
    },
    "papermill": {
     "duration": 0.045201,
     "end_time": "2025-08-05T16:00:40.406567",
     "exception": false,
     "start_time": "2025-08-05T16:00:40.361366",
     "status": "completed"
    },
    "tags": []
   },
   "outputs": [
    {
     "data": {
      "text/html": [
       "<div>\n",
       "<style scoped>\n",
       "    .dataframe tbody tr th:only-of-type {\n",
       "        vertical-align: middle;\n",
       "    }\n",
       "\n",
       "    .dataframe tbody tr th {\n",
       "        vertical-align: top;\n",
       "    }\n",
       "\n",
       "    .dataframe thead th {\n",
       "        text-align: right;\n",
       "    }\n",
       "</style>\n",
       "<table border=\"1\" class=\"dataframe\">\n",
       "  <thead>\n",
       "    <tr style=\"text-align: right;\">\n",
       "      <th></th>\n",
       "      <th>universe_id</th>\n",
       "      <th>universe_training_year</th>\n",
       "      <th>universe_training_size</th>\n",
       "      <th>universe_scale</th>\n",
       "      <th>universe_model</th>\n",
       "      <th>universe_exclude_features</th>\n",
       "      <th>universe_exclude_subgroups</th>\n",
       "      <th>q_hat</th>\n",
       "      <th>coverage</th>\n",
       "      <th>avg_size</th>\n",
       "      <th>cov_frau1</th>\n",
       "      <th>cov_nongerman</th>\n",
       "      <th>cov_nongerman_male</th>\n",
       "      <th>cov_nongerman_female</th>\n",
       "    </tr>\n",
       "  </thead>\n",
       "  <tbody>\n",
       "    <tr>\n",
       "      <th>0</th>\n",
       "      <td>c0c130c56e553f9db6d726eec4cdfeae</td>\n",
       "      <td>2010_14</td>\n",
       "      <td>5k</td>\n",
       "      <td>do-not-scale</td>\n",
       "      <td>elasticnet</td>\n",
       "      <td>none</td>\n",
       "      <td>drop-non-german</td>\n",
       "      <td>0.693369</td>\n",
       "      <td>0.914001</td>\n",
       "      <td>1.29057</td>\n",
       "      <td>0.914274</td>\n",
       "      <td>0.970752</td>\n",
       "      <td>0.976853</td>\n",
       "      <td>0.960656</td>\n",
       "    </tr>\n",
       "  </tbody>\n",
       "</table>\n",
       "</div>"
      ],
      "text/plain": [
       "                        universe_id universe_training_year  \\\n",
       "0  c0c130c56e553f9db6d726eec4cdfeae                2010_14   \n",
       "\n",
       "  universe_training_size universe_scale universe_model  \\\n",
       "0                     5k   do-not-scale     elasticnet   \n",
       "\n",
       "  universe_exclude_features universe_exclude_subgroups     q_hat  coverage  \\\n",
       "0                      none            drop-non-german  0.693369  0.914001   \n",
       "\n",
       "   avg_size  cov_frau1  cov_nongerman  cov_nongerman_male  \\\n",
       "0   1.29057   0.914274       0.970752            0.976853   \n",
       "\n",
       "   cov_nongerman_female  \n",
       "0              0.960656  "
      ]
     },
     "execution_count": 58,
     "metadata": {},
     "output_type": "execute_result"
    }
   ],
   "source": [
    "cp_metrics_df"
   ]
  },
  {
   "cell_type": "markdown",
   "id": "33774451",
   "metadata": {
    "papermill": {
     "duration": 0.020485,
     "end_time": "2025-08-05T16:00:40.449022",
     "exception": false,
     "start_time": "2025-08-05T16:00:40.428537",
     "status": "completed"
    },
    "tags": []
   },
   "source": [
    "# (Fairness) Metrics"
   ]
  },
  {
   "cell_type": "code",
   "execution_count": 59,
   "id": "debc5d62",
   "metadata": {
    "execution": {
     "iopub.execute_input": "2025-08-05T16:00:40.494230Z",
     "iopub.status.busy": "2025-08-05T16:00:40.493195Z",
     "iopub.status.idle": "2025-08-05T16:00:40.514573Z",
     "shell.execute_reply": "2025-08-05T16:00:40.513347Z"
    },
    "papermill": {
     "duration": 0.045208,
     "end_time": "2025-08-05T16:00:40.516270",
     "exception": false,
     "start_time": "2025-08-05T16:00:40.471062",
     "status": "completed"
    },
    "tags": []
   },
   "outputs": [],
   "source": [
    "# do I need to include maxdeutsch1.missing?\n",
    "\n",
    "import numpy as np\n",
    "\n",
    "colname_to_bin = \"maxdeutsch1\"\n",
    "majority_value = org_train[colname_to_bin].mode()[0]\n",
    "\n",
    "org_test[\"majmin\"] = np.where(org_test[colname_to_bin] == majority_value, \"majority\", \"minority\")"
   ]
  },
  {
   "cell_type": "code",
   "execution_count": 60,
   "id": "06a50de5",
   "metadata": {
    "execution": {
     "iopub.execute_input": "2025-08-05T16:00:40.562534Z",
     "iopub.status.busy": "2025-08-05T16:00:40.561653Z",
     "iopub.status.idle": "2025-08-05T16:00:43.281314Z",
     "shell.execute_reply": "2025-08-05T16:00:43.280227Z"
    },
    "papermill": {
     "duration": 2.744698,
     "end_time": "2025-08-05T16:00:43.283272",
     "exception": false,
     "start_time": "2025-08-05T16:00:40.538574",
     "status": "completed"
    },
    "tags": []
   },
   "outputs": [],
   "source": [
    "example_universe = universe.copy()\n",
    "example_universe[\"cutoff\"] = example_universe[\"cutoff\"][0]\n",
    "example_universe[\"eval_fairness_grouping\"] = example_universe[\"eval_fairness_grouping\"][0]\n",
    "fairness_dict, metric_frame = universe_analysis.compute_metrics(\n",
    "    example_universe,\n",
    "    y_pred_prob=probs_test,\n",
    "    y_test=y_true,\n",
    "    org_test=org_test,\n",
    ")"
   ]
  },
  {
   "cell_type": "markdown",
   "id": "f95d4e02",
   "metadata": {
    "papermill": {
     "duration": 0.024163,
     "end_time": "2025-08-05T16:00:43.332667",
     "exception": false,
     "start_time": "2025-08-05T16:00:43.308504",
     "status": "completed"
    },
    "tags": []
   },
   "source": [
    "# Overall"
   ]
  },
  {
   "cell_type": "markdown",
   "id": "bdee4871",
   "metadata": {
    "papermill": {
     "duration": 0.02516,
     "end_time": "2025-08-05T16:00:43.381242",
     "exception": false,
     "start_time": "2025-08-05T16:00:43.356082",
     "status": "completed"
    },
    "tags": []
   },
   "source": [
    "Fairness\n",
    "Main fairness target: Equalized Odds. Seems to be a better fit than equal opportunity, since we're not only interested in Y = 1. Seems to be a better fit than demographic parity, since we also care about accuracy, not just equal distribution of preds.\n",
    "\n",
    "Pick column for computation of fairness metrics\n",
    "\n",
    "Performance\n",
    "Overall performance measures, most interesting in relation to the measures split by group below"
   ]
  },
  {
   "cell_type": "code",
   "execution_count": 61,
   "id": "c4e067c6",
   "metadata": {
    "execution": {
     "iopub.execute_input": "2025-08-05T16:00:43.429936Z",
     "iopub.status.busy": "2025-08-05T16:00:43.429090Z",
     "iopub.status.idle": "2025-08-05T16:00:43.438248Z",
     "shell.execute_reply": "2025-08-05T16:00:43.437163Z"
    },
    "papermill": {
     "duration": 0.035659,
     "end_time": "2025-08-05T16:00:43.440131",
     "exception": false,
     "start_time": "2025-08-05T16:00:43.404472",
     "status": "completed"
    },
    "tags": []
   },
   "outputs": [
    {
     "data": {
      "text/plain": [
       "accuracy                   0.213232\n",
       "balanced accuracy          0.523715\n",
       "f1                         0.234869\n",
       "precision                  0.134173\n",
       "false positive rate        0.893916\n",
       "false negative rate        0.058655\n",
       "selection rate             0.900000\n",
       "count                  89710.000000\n",
       "dtype: float64"
      ]
     },
     "execution_count": 61,
     "metadata": {},
     "output_type": "execute_result"
    }
   ],
   "source": [
    "metric_frame.overall"
   ]
  },
  {
   "cell_type": "markdown",
   "id": "e968fe9d",
   "metadata": {
    "papermill": {
     "duration": 0.022782,
     "end_time": "2025-08-05T16:00:43.486983",
     "exception": false,
     "start_time": "2025-08-05T16:00:43.464201",
     "status": "completed"
    },
    "tags": []
   },
   "source": [
    "By Group"
   ]
  },
  {
   "cell_type": "code",
   "execution_count": 62,
   "id": "ec325bce",
   "metadata": {
    "execution": {
     "iopub.execute_input": "2025-08-05T16:00:43.533345Z",
     "iopub.status.busy": "2025-08-05T16:00:43.532824Z",
     "iopub.status.idle": "2025-08-05T16:00:43.550655Z",
     "shell.execute_reply": "2025-08-05T16:00:43.549612Z"
    },
    "papermill": {
     "duration": 0.043299,
     "end_time": "2025-08-05T16:00:43.552192",
     "exception": false,
     "start_time": "2025-08-05T16:00:43.508893",
     "status": "completed"
    },
    "tags": []
   },
   "outputs": [
    {
     "data": {
      "text/html": [
       "<div>\n",
       "<style scoped>\n",
       "    .dataframe tbody tr th:only-of-type {\n",
       "        vertical-align: middle;\n",
       "    }\n",
       "\n",
       "    .dataframe tbody tr th {\n",
       "        vertical-align: top;\n",
       "    }\n",
       "\n",
       "    .dataframe thead th {\n",
       "        text-align: right;\n",
       "    }\n",
       "</style>\n",
       "<table border=\"1\" class=\"dataframe\">\n",
       "  <thead>\n",
       "    <tr style=\"text-align: right;\">\n",
       "      <th></th>\n",
       "      <th>accuracy</th>\n",
       "      <th>balanced accuracy</th>\n",
       "      <th>f1</th>\n",
       "      <th>precision</th>\n",
       "      <th>false positive rate</th>\n",
       "      <th>false negative rate</th>\n",
       "      <th>selection rate</th>\n",
       "      <th>count</th>\n",
       "    </tr>\n",
       "    <tr>\n",
       "      <th>majmin</th>\n",
       "      <th></th>\n",
       "      <th></th>\n",
       "      <th></th>\n",
       "      <th></th>\n",
       "      <th></th>\n",
       "      <th></th>\n",
       "      <th></th>\n",
       "      <th></th>\n",
       "    </tr>\n",
       "  </thead>\n",
       "  <tbody>\n",
       "    <tr>\n",
       "      <th>majority</th>\n",
       "      <td>0.234206</td>\n",
       "      <td>0.529958</td>\n",
       "      <td>0.243351</td>\n",
       "      <td>0.139947</td>\n",
       "      <td>0.872031</td>\n",
       "      <td>0.068053</td>\n",
       "      <td>0.879948</td>\n",
       "      <td>69170.0</td>\n",
       "    </tr>\n",
       "    <tr>\n",
       "      <th>minority</th>\n",
       "      <td>0.142600</td>\n",
       "      <td>0.505703</td>\n",
       "      <td>0.208174</td>\n",
       "      <td>0.116490</td>\n",
       "      <td>0.966212</td>\n",
       "      <td>0.022382</td>\n",
       "      <td>0.967527</td>\n",
       "      <td>20540.0</td>\n",
       "    </tr>\n",
       "  </tbody>\n",
       "</table>\n",
       "</div>"
      ],
      "text/plain": [
       "          accuracy  balanced accuracy        f1  precision  \\\n",
       "majmin                                                       \n",
       "majority  0.234206           0.529958  0.243351   0.139947   \n",
       "minority  0.142600           0.505703  0.208174   0.116490   \n",
       "\n",
       "          false positive rate  false negative rate  selection rate    count  \n",
       "majmin                                                                       \n",
       "majority             0.872031             0.068053        0.879948  69170.0  \n",
       "minority             0.966212             0.022382        0.967527  20540.0  "
      ]
     },
     "execution_count": 62,
     "metadata": {},
     "output_type": "execute_result"
    }
   ],
   "source": [
    "metric_frame.by_group"
   ]
  },
  {
   "cell_type": "code",
   "execution_count": 63,
   "id": "a9ddbe63",
   "metadata": {
    "execution": {
     "iopub.execute_input": "2025-08-05T16:00:43.601387Z",
     "iopub.status.busy": "2025-08-05T16:00:43.600691Z",
     "iopub.status.idle": "2025-08-05T16:00:46.042829Z",
     "shell.execute_reply": "2025-08-05T16:00:46.041867Z"
    },
    "papermill": {
     "duration": 2.46845,
     "end_time": "2025-08-05T16:00:46.044747",
     "exception": false,
     "start_time": "2025-08-05T16:00:43.576297",
     "status": "completed"
    },
    "tags": []
   },
   "outputs": [
    {
     "data": {
      "text/plain": [
       "array([[<Axes: title={'center': 'accuracy'}, xlabel='majmin'>,\n",
       "        <Axes: title={'center': 'balanced accuracy'}, xlabel='majmin'>,\n",
       "        <Axes: title={'center': 'f1'}, xlabel='majmin'>],\n",
       "       [<Axes: title={'center': 'precision'}, xlabel='majmin'>,\n",
       "        <Axes: title={'center': 'false positive rate'}, xlabel='majmin'>,\n",
       "        <Axes: title={'center': 'false negative rate'}, xlabel='majmin'>],\n",
       "       [<Axes: title={'center': 'selection rate'}, xlabel='majmin'>,\n",
       "        <Axes: title={'center': 'count'}, xlabel='majmin'>,\n",
       "        <Axes: xlabel='majmin'>]], dtype=object)"
      ]
     },
     "execution_count": 63,
     "metadata": {},
     "output_type": "execute_result"
    },
    {
     "data": {
      "image/png": "[encoded data removed]",
      "text/plain": [
       "<Figure size 1200x800 with 9 Axes>"
      ]
     },
     "metadata": {},
     "output_type": "display_data"
    }
   ],
   "source": [
    "# In a graphic\n",
    "metric_frame.by_group.plot.bar(\n",
    "    subplots=True,\n",
    "    layout=[3, 3],\n",
    "    legend=False,\n",
    "    figsize=[12, 8],\n",
    "    title=\"Show all metrics\",\n",
    ")"
   ]
  },
  {
   "cell_type": "markdown",
   "id": "f57a0bac",
   "metadata": {
    "papermill": {
     "duration": 0.024857,
     "end_time": "2025-08-05T16:00:46.097138",
     "exception": false,
     "start_time": "2025-08-05T16:00:46.072281",
     "status": "completed"
    },
    "tags": []
   },
   "source": [
    "# Final Output"
   ]
  },
  {
   "cell_type": "code",
   "execution_count": 64,
   "id": "96d280a3",
   "metadata": {
    "execution": {
     "iopub.execute_input": "2025-08-05T16:00:46.150759Z",
     "iopub.status.busy": "2025-08-05T16:00:46.149735Z",
     "iopub.status.idle": "2025-08-05T16:00:46.157524Z",
     "shell.execute_reply": "2025-08-05T16:00:46.156456Z"
    },
    "papermill": {
     "duration": 0.035709,
     "end_time": "2025-08-05T16:00:46.159092",
     "exception": false,
     "start_time": "2025-08-05T16:00:46.123383",
     "status": "completed"
    },
    "tags": []
   },
   "outputs": [
    {
     "data": {
      "text/plain": [
       "4"
      ]
     },
     "execution_count": 64,
     "metadata": {},
     "output_type": "execute_result"
    }
   ],
   "source": [
    "sub_universes = universe_analysis.generate_sub_universes()\n",
    "len(sub_universes)"
   ]
  },
  {
   "cell_type": "code",
   "execution_count": 65,
   "id": "92adf7ba",
   "metadata": {
    "execution": {
     "iopub.execute_input": "2025-08-05T16:00:46.212427Z",
     "iopub.status.busy": "2025-08-05T16:00:46.211828Z",
     "iopub.status.idle": "2025-08-05T16:00:46.218818Z",
     "shell.execute_reply": "2025-08-05T16:00:46.217829Z"
    },
    "papermill": {
     "duration": 0.035542,
     "end_time": "2025-08-05T16:00:46.220443",
     "exception": false,
     "start_time": "2025-08-05T16:00:46.184901",
     "status": "completed"
    },
    "tags": []
   },
   "outputs": [],
   "source": [
    "def filter_sub_universe_data(sub_universe, org_test):\n",
    "    # Keep all rows — no filtering\n",
    "    keep_rows_mask = np.ones(org_test.shape[0], dtype=bool)\n",
    "\n",
    "    print(f\"[INFO] Keeping all rows: {keep_rows_mask.sum()} rows retained.\")\n",
    "    return keep_rows_mask"
   ]
  },
  {
   "cell_type": "code",
   "execution_count": 66,
   "id": "4a759155",
   "metadata": {
    "execution": {
     "iopub.execute_input": "2025-08-05T16:00:46.271632Z",
     "iopub.status.busy": "2025-08-05T16:00:46.270933Z",
     "iopub.status.idle": "2025-08-05T16:00:56.245238Z",
     "shell.execute_reply": "2025-08-05T16:00:56.241593Z"
    },
    "papermill": {
     "duration": 10.001963,
     "end_time": "2025-08-05T16:00:56.247047",
     "exception": false,
     "start_time": "2025-08-05T16:00:46.245084",
     "status": "completed"
    },
    "tags": []
   },
   "outputs": [
    {
     "name": "stdout",
     "output_type": "stream",
     "text": [
      "Stopping execution_time clock.\n",
      "[INFO] Keeping all rows: 89710 rows retained.\n"
     ]
    },
    {
     "name": "stdout",
     "output_type": "stream",
     "text": [
      "[INFO] Keeping all rows: 89710 rows retained.\n"
     ]
    },
    {
     "name": "stdout",
     "output_type": "stream",
     "text": [
      "[INFO] Keeping all rows: 89710 rows retained.\n"
     ]
    },
    {
     "name": "stdout",
     "output_type": "stream",
     "text": [
      "[INFO] Keeping all rows: 89710 rows retained.\n"
     ]
    },
    {
     "data": {
      "text/html": [
       "<div>\n",
       "<style scoped>\n",
       "    .dataframe tbody tr th:only-of-type {\n",
       "        vertical-align: middle;\n",
       "    }\n",
       "\n",
       "    .dataframe tbody tr th {\n",
       "        vertical-align: top;\n",
       "    }\n",
       "\n",
       "    .dataframe thead th {\n",
       "        text-align: right;\n",
       "    }\n",
       "</style>\n",
       "<table border=\"1\" class=\"dataframe\">\n",
       "  <thead>\n",
       "    <tr style=\"text-align: right;\">\n",
       "      <th></th>\n",
       "      <th>run_no</th>\n",
       "      <th>universe_id</th>\n",
       "      <th>universe_settings</th>\n",
       "      <th>execution_time</th>\n",
       "      <th>test_size_n</th>\n",
       "      <th>test_size_frac</th>\n",
       "      <th>fair_main_equalized_odds_difference</th>\n",
       "      <th>fair_main_equalized_odds_ratio</th>\n",
       "      <th>fair_main_demographic_parity_difference</th>\n",
       "      <th>fair_main_demographic_parity_ratio</th>\n",
       "      <th>...</th>\n",
       "      <th>perf_grp_precision_0</th>\n",
       "      <th>perf_grp_precision_1</th>\n",
       "      <th>perf_grp_false positive rate_0</th>\n",
       "      <th>perf_grp_false positive rate_1</th>\n",
       "      <th>perf_grp_false negative rate_0</th>\n",
       "      <th>perf_grp_false negative rate_1</th>\n",
       "      <th>perf_grp_selection rate_0</th>\n",
       "      <th>perf_grp_selection rate_1</th>\n",
       "      <th>perf_grp_count_0</th>\n",
       "      <th>perf_grp_count_1</th>\n",
       "    </tr>\n",
       "  </thead>\n",
       "  <tbody>\n",
       "    <tr>\n",
       "      <th>0</th>\n",
       "      <td>15</td>\n",
       "      <td>c0c130c56e553f9db6d726eec4cdfeae</td>\n",
       "      <td>{\"cutoff\": \"quantile_0.1\", \"eval_fairness_grou...</td>\n",
       "      <td>27.701339</td>\n",
       "      <td>89710</td>\n",
       "      <td>1.0</td>\n",
       "      <td>0.094181</td>\n",
       "      <td>0.902525</td>\n",
       "      <td>0.087579</td>\n",
       "      <td>0.909482</td>\n",
       "      <td>...</td>\n",
       "      <td>NaN</td>\n",
       "      <td>NaN</td>\n",
       "      <td>NaN</td>\n",
       "      <td>NaN</td>\n",
       "      <td>NaN</td>\n",
       "      <td>NaN</td>\n",
       "      <td>NaN</td>\n",
       "      <td>NaN</td>\n",
       "      <td>NaN</td>\n",
       "      <td>NaN</td>\n",
       "    </tr>\n",
       "    <tr>\n",
       "      <th>0</th>\n",
       "      <td>15</td>\n",
       "      <td>c0c130c56e553f9db6d726eec4cdfeae</td>\n",
       "      <td>{\"cutoff\": \"quantile_0.1\", \"eval_fairness_grou...</td>\n",
       "      <td>27.701339</td>\n",
       "      <td>89710</td>\n",
       "      <td>1.0</td>\n",
       "      <td>0.094181</td>\n",
       "      <td>0.902525</td>\n",
       "      <td>0.087579</td>\n",
       "      <td>0.909482</td>\n",
       "      <td>...</td>\n",
       "      <td>0.116490</td>\n",
       "      <td>0.139947</td>\n",
       "      <td>0.966212</td>\n",
       "      <td>0.872031</td>\n",
       "      <td>0.022382</td>\n",
       "      <td>0.068053</td>\n",
       "      <td>0.967527</td>\n",
       "      <td>0.879948</td>\n",
       "      <td>20540.0</td>\n",
       "      <td>69170.0</td>\n",
       "    </tr>\n",
       "    <tr>\n",
       "      <th>0</th>\n",
       "      <td>15</td>\n",
       "      <td>c0c130c56e553f9db6d726eec4cdfeae</td>\n",
       "      <td>{\"cutoff\": \"quantile_0.25\", \"eval_fairness_gro...</td>\n",
       "      <td>27.701339</td>\n",
       "      <td>89710</td>\n",
       "      <td>1.0</td>\n",
       "      <td>0.228069</td>\n",
       "      <td>0.750333</td>\n",
       "      <td>0.214566</td>\n",
       "      <td>0.765613</td>\n",
       "      <td>...</td>\n",
       "      <td>NaN</td>\n",
       "      <td>NaN</td>\n",
       "      <td>NaN</td>\n",
       "      <td>NaN</td>\n",
       "      <td>NaN</td>\n",
       "      <td>NaN</td>\n",
       "      <td>NaN</td>\n",
       "      <td>NaN</td>\n",
       "      <td>NaN</td>\n",
       "      <td>NaN</td>\n",
       "    </tr>\n",
       "    <tr>\n",
       "      <th>0</th>\n",
       "      <td>15</td>\n",
       "      <td>c0c130c56e553f9db6d726eec4cdfeae</td>\n",
       "      <td>{\"cutoff\": \"quantile_0.25\", \"eval_fairness_gro...</td>\n",
       "      <td>27.701339</td>\n",
       "      <td>89710</td>\n",
       "      <td>1.0</td>\n",
       "      <td>0.228069</td>\n",
       "      <td>0.750333</td>\n",
       "      <td>0.214566</td>\n",
       "      <td>0.765613</td>\n",
       "      <td>...</td>\n",
       "      <td>0.117162</td>\n",
       "      <td>0.151261</td>\n",
       "      <td>0.913493</td>\n",
       "      <td>0.685424</td>\n",
       "      <td>0.069679</td>\n",
       "      <td>0.197702</td>\n",
       "      <td>0.915433</td>\n",
       "      <td>0.700867</td>\n",
       "      <td>20540.0</td>\n",
       "      <td>69170.0</td>\n",
       "    </tr>\n",
       "  </tbody>\n",
       "</table>\n",
       "<p>4 rows × 50 columns</p>\n",
       "</div>"
      ],
      "text/plain": [
       "  run_no                       universe_id  \\\n",
       "0     15  c0c130c56e553f9db6d726eec4cdfeae   \n",
       "0     15  c0c130c56e553f9db6d726eec4cdfeae   \n",
       "0     15  c0c130c56e553f9db6d726eec4cdfeae   \n",
       "0     15  c0c130c56e553f9db6d726eec4cdfeae   \n",
       "\n",
       "                                   universe_settings  execution_time  \\\n",
       "0  {\"cutoff\": \"quantile_0.1\", \"eval_fairness_grou...       27.701339   \n",
       "0  {\"cutoff\": \"quantile_0.1\", \"eval_fairness_grou...       27.701339   \n",
       "0  {\"cutoff\": \"quantile_0.25\", \"eval_fairness_gro...       27.701339   \n",
       "0  {\"cutoff\": \"quantile_0.25\", \"eval_fairness_gro...       27.701339   \n",
       "\n",
       "   test_size_n  test_size_frac  fair_main_equalized_odds_difference  \\\n",
       "0        89710             1.0                             0.094181   \n",
       "0        89710             1.0                             0.094181   \n",
       "0        89710             1.0                             0.228069   \n",
       "0        89710             1.0                             0.228069   \n",
       "\n",
       "   fair_main_equalized_odds_ratio  fair_main_demographic_parity_difference  \\\n",
       "0                        0.902525                                 0.087579   \n",
       "0                        0.902525                                 0.087579   \n",
       "0                        0.750333                                 0.214566   \n",
       "0                        0.750333                                 0.214566   \n",
       "\n",
       "   fair_main_demographic_parity_ratio  ...  perf_grp_precision_0  \\\n",
       "0                            0.909482  ...                   NaN   \n",
       "0                            0.909482  ...              0.116490   \n",
       "0                            0.765613  ...                   NaN   \n",
       "0                            0.765613  ...              0.117162   \n",
       "\n",
       "   perf_grp_precision_1  perf_grp_false positive rate_0  \\\n",
       "0                   NaN                             NaN   \n",
       "0              0.139947                        0.966212   \n",
       "0                   NaN                             NaN   \n",
       "0              0.151261                        0.913493   \n",
       "\n",
       "   perf_grp_false positive rate_1  perf_grp_false negative rate_0  \\\n",
       "0                             NaN                             NaN   \n",
       "0                        0.872031                        0.022382   \n",
       "0                             NaN                             NaN   \n",
       "0                        0.685424                        0.069679   \n",
       "\n",
       "   perf_grp_false negative rate_1  perf_grp_selection rate_0  \\\n",
       "0                             NaN                        NaN   \n",
       "0                        0.068053                   0.967527   \n",
       "0                             NaN                        NaN   \n",
       "0                        0.197702                   0.915433   \n",
       "\n",
       "   perf_grp_selection rate_1  perf_grp_count_0  perf_grp_count_1  \n",
       "0                        NaN               NaN               NaN  \n",
       "0                   0.879948           20540.0           69170.0  \n",
       "0                        NaN               NaN               NaN  \n",
       "0                   0.700867           20540.0           69170.0  \n",
       "\n",
       "[4 rows x 50 columns]"
      ]
     },
     "execution_count": 66,
     "metadata": {},
     "output_type": "execute_result"
    }
   ],
   "source": [
    "final_output = universe_analysis.generate_final_output(\n",
    "    y_pred_prob=probs_test,\n",
    "    y_test=y_true,\n",
    "    org_test=org_test,\n",
    "    filter_data=filter_sub_universe_data,\n",
    "    cp_metrics_df=cp_metrics_df,\n",
    "    save=True,\n",
    ")\n",
    "final_output"
   ]
  }
 ],
 "metadata": {
  "celltoolbar": "Tags",
  "kernelspec": {
   "display_name": "Python (CMA Fairness)",
   "language": "python",
   "name": "cma_fair_env"
  },
  "language_info": {
   "codemirror_mode": {
    "name": "ipython",
    "version": 3
   },
   "file_extension": ".py",
   "mimetype": "text/x-python",
   "name": "python",
   "nbconvert_exporter": "python",
   "pygments_lexer": "ipython3",
   "version": "3.10.12"
  },
  "papermill": {
   "default_parameters": {},
   "duration": 41.724646,
   "end_time": "2025-08-05T16:00:56.999346",
   "environment_variables": {},
   "exception": null,
   "input_path": "universe_analysis.ipynb",
   "output_path": "output/runs/15/notebooks/m_15-c0c130c56e553f9db6d726eec4cdfeae.ipynb",
   "parameters": {
    "output_dir": "output",
    "run_no": "15",
    "seed": "2023",
    "universe": "{\"cutoff\": [\"quantile_0.1\", \"quantile_0.25\"], \"eval_fairness_grouping\": [\"majority-minority\", \"nationality-all\"], \"exclude_features\": \"none\", \"exclude_subgroups\": \"drop-non-german\", \"model\": \"elasticnet\", \"scale\": \"do-not-scale\", \"training_size\": \"5k\", \"training_year\": \"2010_14\"}",
    "universe_id": "c0c130c56e553f9db6d726eec4cdfeae"
   },
   "start_time": "2025-08-05T16:00:15.274700",
   "version": "2.6.0"
  }
 },
 "nbformat": 4,
 "nbformat_minor": 5
}