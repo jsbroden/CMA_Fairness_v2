{
 "cells": [
  {
   "cell_type": "code",
   "execution_count": 1,
   "id": "f159f837-637b-42ba-96b5-ec9a68c44524",
   "metadata": {
    "execution": {
     "iopub.execute_input": "2025-08-05T14:40:03.183509Z",
     "iopub.status.busy": "2025-08-05T14:40:03.182575Z",
     "iopub.status.idle": "2025-08-05T14:40:03.196383Z",
     "shell.execute_reply": "2025-08-05T14:40:03.195233Z"
    },
    "papermill": {
     "duration": 0.035877,
     "end_time": "2025-08-05T14:40:03.198168",
     "exception": false,
     "start_time": "2025-08-05T14:40:03.162291",
     "status": "completed"
    },
    "tags": []
   },
   "outputs": [
    {
     "name": "stdout",
     "output_type": "stream",
     "text": [
      "/dss/dsshome1/0C/ra93lal2/cma/CMA_Fairness_v2\n"
     ]
    },
    {
     "name": "stderr",
     "output_type": "stream",
     "text": [
      "/dss/dsshome1/0C/ra93lal2/.local/share/virtualenvs/CMA_Fairness_v2-3j10GkSs/lib/python3.10/site-packages/IPython/core/magics/osm.py:393: UserWarning: This is now an optional IPython functionality, using bookmarks requires you to install the `pickleshare` library.\n",
      "  bkms = self.shell.db.get('bookmarks', {})\n",
      "/dss/dsshome1/0C/ra93lal2/.local/share/virtualenvs/CMA_Fairness_v2-3j10GkSs/lib/python3.10/site-packages/IPython/core/magics/osm.py:417: UserWarning: This is now an optional IPython functionality, setting dhist requires you to install the `pickleshare` library.\n",
      "  self.shell.db['dhist'] = compress_dhist(dhist)[-100:]\n"
     ]
    }
   ],
   "source": [
    "%cd ~/cma/CMA_Fairness_v2"
   ]
  },
  {
   "cell_type": "markdown",
   "id": "de2603b9",
   "metadata": {
    "papermill": {
     "duration": 0.019045,
     "end_time": "2025-08-05T14:40:03.237923",
     "exception": false,
     "start_time": "2025-08-05T14:40:03.218878",
     "status": "completed"
    },
    "tags": []
   },
   "source": [
    "The following cell holds the definition of our parameters, these values can be overriden by rendering the with e.g. the following command:\n",
    "\n",
    "papermill -p alpha 0.2 -p ratio 0.3 universe_analysis.ipynb output/test_run.ipynb"
   ]
  },
  {
   "cell_type": "code",
   "execution_count": 2,
   "id": "a80968a0-40bb-4fa9-85ef-2d5eefb01975",
   "metadata": {
    "execution": {
     "iopub.execute_input": "2025-08-05T14:40:03.277651Z",
     "iopub.status.busy": "2025-08-05T14:40:03.277233Z",
     "iopub.status.idle": "2025-08-05T14:40:03.282956Z",
     "shell.execute_reply": "2025-08-05T14:40:03.281731Z"
    },
    "papermill": {
     "duration": 0.02844,
     "end_time": "2025-08-05T14:40:03.284948",
     "exception": false,
     "start_time": "2025-08-05T14:40:03.256508",
     "status": "completed"
    },
    "tags": []
   },
   "outputs": [
    {
     "name": "stdout",
     "output_type": "stream",
     "text": [
      "Current working directory: /dss/dsshome1/0C/ra93lal2/cma/CMA_Fairness_v2\n"
     ]
    }
   ],
   "source": [
    "import os\n",
    "print(\"Current working directory:\", os.getcwd())"
   ]
  },
  {
   "cell_type": "code",
   "execution_count": 3,
   "id": "2dce4c03",
   "metadata": {
    "execution": {
     "iopub.execute_input": "2025-08-05T14:40:03.325728Z",
     "iopub.status.busy": "2025-08-05T14:40:03.324711Z",
     "iopub.status.idle": "2025-08-05T14:40:03.331676Z",
     "shell.execute_reply": "2025-08-05T14:40:03.330628Z"
    },
    "papermill": {
     "duration": 0.028926,
     "end_time": "2025-08-05T14:40:03.333765",
     "exception": false,
     "start_time": "2025-08-05T14:40:03.304839",
     "status": "completed"
    },
    "tags": [
     "parameters"
    ]
   },
   "outputs": [],
   "source": [
    "run_no = 0\n",
    "universe_id = \"test\"\n",
    "universe = {\n",
    "    \"training_size\": \"25k\", # \"25k\", \"5k\", \"1k\"\n",
    "    \"training_year\": \"2014\", # \"2014\", \"2012_14\", \"2010_14\"\n",
    "    \"scale\": \"scale\", # \"scale\", \"do-not-scale\",\n",
    "    \"model\": \"elasticnet\", # \"logreg\", \"penalized_logreg\", \"rf\", \"gbm\", \"elasticnet\"\n",
    "    \"cutoff\": [\"quantile_0.15\", \"quantile_0.30\"],\n",
    "    \"exclude_features\": \"age\", # \"none\", \"nationality\", \"sex\", \"nationality-sex\", \"age\"\n",
    "    \"exclude_subgroups\": \"keep-all\", # \"keep-all\", \"drop-non-german\"\n",
    "    \"eval_fairness_grouping\": [\"majority-minority\", \"nationality-all\"]\n",
    "}\n",
    "\n",
    "output_dir=\"./output\"\n",
    "seed=0"
   ]
  },
  {
   "cell_type": "code",
   "execution_count": 4,
   "id": "5eaae42d",
   "metadata": {
    "execution": {
     "iopub.execute_input": "2025-08-05T14:40:03.376247Z",
     "iopub.status.busy": "2025-08-05T14:40:03.375463Z",
     "iopub.status.idle": "2025-08-05T14:40:03.381268Z",
     "shell.execute_reply": "2025-08-05T14:40:03.380184Z"
    },
    "papermill": {
     "duration": 0.028912,
     "end_time": "2025-08-05T14:40:03.383145",
     "exception": false,
     "start_time": "2025-08-05T14:40:03.354233",
     "status": "completed"
    },
    "tags": [
     "injected-parameters"
    ]
   },
   "outputs": [],
   "source": [
    "# Parameters\n",
    "universe_id = \"884b64730a617c018f56589b55a16a43\"\n",
    "run_no = \"15\"\n",
    "universe = \"{\\\"cutoff\\\": [\\\"quantile_0.1\\\", \\\"quantile_0.25\\\"], \\\"eval_fairness_grouping\\\": [\\\"majority-minority\\\", \\\"nationality-all\\\"], \\\"exclude_features\\\": \\\"nationality\\\", \\\"exclude_subgroups\\\": \\\"drop-non-german\\\", \\\"model\\\": \\\"logreg\\\", \\\"scale\\\": \\\"do-not-scale\\\", \\\"training_size\\\": \\\"25k\\\", \\\"training_year\\\": \\\"2014\\\"}\"\n",
    "output_dir = \"output\"\n",
    "seed = \"2023\"\n"
   ]
  },
  {
   "cell_type": "code",
   "execution_count": 5,
   "id": "1650acaf",
   "metadata": {
    "execution": {
     "iopub.execute_input": "2025-08-05T14:40:03.427111Z",
     "iopub.status.busy": "2025-08-05T14:40:03.426320Z",
     "iopub.status.idle": "2025-08-05T14:40:03.431678Z",
     "shell.execute_reply": "2025-08-05T14:40:03.430615Z"
    },
    "papermill": {
     "duration": 0.030599,
     "end_time": "2025-08-05T14:40:03.433575",
     "exception": false,
     "start_time": "2025-08-05T14:40:03.402976",
     "status": "completed"
    },
    "tags": []
   },
   "outputs": [],
   "source": [
    "import json\n",
    "if isinstance(universe, str):\n",
    "    universe = json.loads(universe)"
   ]
  },
  {
   "cell_type": "code",
   "execution_count": 6,
   "id": "16620c48",
   "metadata": {
    "execution": {
     "iopub.execute_input": "2025-08-05T14:40:03.474303Z",
     "iopub.status.busy": "2025-08-05T14:40:03.473389Z",
     "iopub.status.idle": "2025-08-05T14:40:03.518605Z",
     "shell.execute_reply": "2025-08-05T14:40:03.517588Z"
    },
    "papermill": {
     "duration": 0.06763,
     "end_time": "2025-08-05T14:40:03.520578",
     "exception": false,
     "start_time": "2025-08-05T14:40:03.452948",
     "status": "completed"
    },
    "tags": []
   },
   "outputs": [],
   "source": [
    "# Auto-reload the custom package\n",
    "%load_ext autoreload\n",
    "%autoreload 1\n",
    "%aimport fairness_multiverse"
   ]
  },
  {
   "cell_type": "code",
   "execution_count": 7,
   "id": "01c5c9f3",
   "metadata": {
    "execution": {
     "iopub.execute_input": "2025-08-05T14:40:03.562269Z",
     "iopub.status.busy": "2025-08-05T14:40:03.561808Z",
     "iopub.status.idle": "2025-08-05T14:40:05.490558Z",
     "shell.execute_reply": "2025-08-05T14:40:05.489552Z"
    },
    "papermill": {
     "duration": 1.951168,
     "end_time": "2025-08-05T14:40:05.492455",
     "exception": false,
     "start_time": "2025-08-05T14:40:03.541287",
     "status": "completed"
    },
    "tags": []
   },
   "outputs": [],
   "source": [
    "from fairness_multiverse.universe import UniverseAnalysis\n",
    "\n",
    "universe_analysis = UniverseAnalysis(\n",
    "    run_no = run_no,\n",
    "    universe_id = universe_id,\n",
    "    universe = universe,\n",
    "    output_dir=output_dir,\n",
    ")"
   ]
  },
  {
   "cell_type": "code",
   "execution_count": 8,
   "id": "106241f5",
   "metadata": {
    "execution": {
     "iopub.execute_input": "2025-08-05T14:40:05.530745Z",
     "iopub.status.busy": "2025-08-05T14:40:05.530027Z",
     "iopub.status.idle": "2025-08-05T14:40:05.536775Z",
     "shell.execute_reply": "2025-08-05T14:40:05.535665Z"
    },
    "papermill": {
     "duration": 0.027958,
     "end_time": "2025-08-05T14:40:05.538641",
     "exception": false,
     "start_time": "2025-08-05T14:40:05.510683",
     "status": "completed"
    },
    "tags": []
   },
   "outputs": [
    {
     "name": "stdout",
     "output_type": "stream",
     "text": [
      "Using Seed: 2023\n"
     ]
    }
   ],
   "source": [
    "import numpy as np\n",
    "parsed_seed = int(seed)\n",
    "np.random.seed(parsed_seed)\n",
    "print(f\"Using Seed: {parsed_seed}\")"
   ]
  },
  {
   "cell_type": "markdown",
   "id": "e0ebdc57",
   "metadata": {
    "papermill": {
     "duration": 0.016526,
     "end_time": "2025-08-05T14:40:05.573150",
     "exception": false,
     "start_time": "2025-08-05T14:40:05.556624",
     "status": "completed"
    },
    "tags": []
   },
   "source": [
    "# Loading Data"
   ]
  },
  {
   "cell_type": "markdown",
   "id": "681925a3",
   "metadata": {
    "papermill": {
     "duration": 0.017509,
     "end_time": "2025-08-05T14:40:05.608410",
     "exception": false,
     "start_time": "2025-08-05T14:40:05.590901",
     "status": "completed"
    },
    "tags": []
   },
   "source": [
    "Load siab_train, siab_test, siab_calib and/or \n",
    "load siab_train_features, siab_train_labels"
   ]
  },
  {
   "cell_type": "code",
   "execution_count": 9,
   "id": "f0496b8a",
   "metadata": {
    "execution": {
     "iopub.execute_input": "2025-08-05T14:40:05.644188Z",
     "iopub.status.busy": "2025-08-05T14:40:05.643479Z",
     "iopub.status.idle": "2025-08-05T14:40:17.920643Z",
     "shell.execute_reply": "2025-08-05T14:40:17.919511Z"
    },
    "papermill": {
     "duration": 12.29694,
     "end_time": "2025-08-05T14:40:17.922555",
     "exception": false,
     "start_time": "2025-08-05T14:40:05.625615",
     "status": "completed"
    },
    "tags": []
   },
   "outputs": [
    {
     "name": "stdout",
     "output_type": "stream",
     "text": [
      "Loading SIAB data from cache: data/siab_cached.csv.gz\n"
     ]
    },
    {
     "name": "stdout",
     "output_type": "stream",
     "text": [
      "(643690, 164)\n"
     ]
    }
   ],
   "source": [
    "from pathlib import Path\n",
    "import pandas as pd\n",
    "\n",
    "# File paths\n",
    "raw_file = Path(\"data/raw/siab.csv\")\n",
    "cache_file = Path(\"data/siab_cached.csv.gz\")\n",
    "\n",
    "# Ensure cache directory exists\n",
    "cache_file.parent.mkdir(parents=True, exist_ok=True)\n",
    "\n",
    "# Load with simple caching\n",
    "if cache_file.exists():\n",
    "    print(f\"Loading SIAB data from cache: {cache_file}\")\n",
    "    siab = pd.read_csv(cache_file, compression='gzip')\n",
    "else:\n",
    "    print(f\"Cache not found. Reading raw SIAB data: {raw_file}\")\n",
    "    siab = pd.read_csv(raw_file)\n",
    "    siab.to_csv(cache_file, index=False, compression='gzip')\n",
    "    print(f\"Cached SIAB data to: {cache_file}\")\n",
    "\n",
    "print(siab.shape)"
   ]
  },
  {
   "cell_type": "code",
   "execution_count": 10,
   "id": "db0ca512-5f53-4dba-abdb-a2888bca41ba",
   "metadata": {
    "execution": {
     "iopub.execute_input": "2025-08-05T14:40:17.964709Z",
     "iopub.status.busy": "2025-08-05T14:40:17.963632Z",
     "iopub.status.idle": "2025-08-05T14:40:17.970809Z",
     "shell.execute_reply": "2025-08-05T14:40:17.969547Z"
    },
    "papermill": {
     "duration": 0.029254,
     "end_time": "2025-08-05T14:40:17.972909",
     "exception": false,
     "start_time": "2025-08-05T14:40:17.943655",
     "status": "completed"
    },
    "tags": []
   },
   "outputs": [],
   "source": [
    "#siab"
   ]
  },
  {
   "cell_type": "markdown",
   "id": "997051c5-15bd-4b69-9786-c3001a3ce484",
   "metadata": {
    "papermill": {
     "duration": 0.010781,
     "end_time": "2025-08-05T14:40:18.016915",
     "exception": false,
     "start_time": "2025-08-05T14:40:18.006134",
     "status": "completed"
    },
    "tags": []
   },
   "source": [
    "# Splitting Data and Setting Training Data Size"
   ]
  },
  {
   "cell_type": "code",
   "execution_count": 11,
   "id": "aea9c6ef-6f46-42c8-85eb-5a62025c1508",
   "metadata": {
    "execution": {
     "iopub.execute_input": "2025-08-05T14:40:18.054492Z",
     "iopub.status.busy": "2025-08-05T14:40:18.054039Z",
     "iopub.status.idle": "2025-08-05T14:40:18.332345Z",
     "shell.execute_reply": "2025-08-05T14:40:18.331600Z"
    },
    "papermill": {
     "duration": 0.29858,
     "end_time": "2025-08-05T14:40:18.333985",
     "exception": false,
     "start_time": "2025-08-05T14:40:18.035405",
     "status": "completed"
    },
    "tags": []
   },
   "outputs": [],
   "source": [
    "from fairness_multiverse.universe import sample_by_year_size\n",
    "\n",
    "siab_train = sample_by_year_size(siab,\n",
    "                               training_year=universe[\"training_year\"],\n",
    "                               training_size=universe[\"training_size\"])"
   ]
  },
  {
   "cell_type": "code",
   "execution_count": 12,
   "id": "8d3afb32-789d-442c-8d5d-9f5aa8dd2eed",
   "metadata": {
    "execution": {
     "iopub.execute_input": "2025-08-05T14:40:18.354298Z",
     "iopub.status.busy": "2025-08-05T14:40:18.353946Z",
     "iopub.status.idle": "2025-08-05T14:40:18.358585Z",
     "shell.execute_reply": "2025-08-05T14:40:18.357740Z"
    },
    "papermill": {
     "duration": 0.016428,
     "end_time": "2025-08-05T14:40:18.360180",
     "exception": false,
     "start_time": "2025-08-05T14:40:18.343752",
     "status": "completed"
    },
    "tags": []
   },
   "outputs": [],
   "source": [
    "#siab_train.shape"
   ]
  },
  {
   "cell_type": "code",
   "execution_count": 13,
   "id": "d582db68-1a4c-47fb-84fc-08518dc1975a",
   "metadata": {
    "execution": {
     "iopub.execute_input": "2025-08-05T14:40:18.382141Z",
     "iopub.status.busy": "2025-08-05T14:40:18.381635Z",
     "iopub.status.idle": "2025-08-05T14:40:18.386412Z",
     "shell.execute_reply": "2025-08-05T14:40:18.385639Z"
    },
    "papermill": {
     "duration": 0.016926,
     "end_time": "2025-08-05T14:40:18.388039",
     "exception": false,
     "start_time": "2025-08-05T14:40:18.371113",
     "status": "completed"
    },
    "tags": []
   },
   "outputs": [],
   "source": [
    "#display(siab_train.groupby(\"year\").size())"
   ]
  },
  {
   "cell_type": "code",
   "execution_count": 14,
   "id": "a561edb4-d032-42cb-8256-22eac1111c64",
   "metadata": {
    "execution": {
     "iopub.execute_input": "2025-08-05T14:40:18.410017Z",
     "iopub.status.busy": "2025-08-05T14:40:18.409667Z",
     "iopub.status.idle": "2025-08-05T14:40:18.590365Z",
     "shell.execute_reply": "2025-08-05T14:40:18.589627Z"
    },
    "papermill": {
     "duration": 0.192794,
     "end_time": "2025-08-05T14:40:18.591813",
     "exception": false,
     "start_time": "2025-08-05T14:40:18.399019",
     "status": "completed"
    },
    "tags": []
   },
   "outputs": [],
   "source": [
    "#siab_train = siab_s[siab_s.year < 2015]\n",
    "siab_calib = siab[siab.year == 2015]\n",
    "siab_test = siab[siab.year == 2016]"
   ]
  },
  {
   "cell_type": "code",
   "execution_count": 15,
   "id": "472de16f-c3db-4916-846b-1f0de9cf1746",
   "metadata": {
    "execution": {
     "iopub.execute_input": "2025-08-05T14:40:18.612227Z",
     "iopub.status.busy": "2025-08-05T14:40:18.611892Z",
     "iopub.status.idle": "2025-08-05T14:40:18.626466Z",
     "shell.execute_reply": "2025-08-05T14:40:18.625498Z"
    },
    "papermill": {
     "duration": 0.0263,
     "end_time": "2025-08-05T14:40:18.628014",
     "exception": false,
     "start_time": "2025-08-05T14:40:18.601714",
     "status": "completed"
    },
    "tags": []
   },
   "outputs": [],
   "source": [
    "X_train = siab_train.iloc[:,4:164]\n",
    "y_train = siab_train.iloc[:, [3]]"
   ]
  },
  {
   "cell_type": "code",
   "execution_count": 16,
   "id": "828c96af-f43a-4ed6-ba47-8ac73a47d56c",
   "metadata": {
    "execution": {
     "iopub.execute_input": "2025-08-05T14:40:18.649672Z",
     "iopub.status.busy": "2025-08-05T14:40:18.648971Z",
     "iopub.status.idle": "2025-08-05T14:40:18.725679Z",
     "shell.execute_reply": "2025-08-05T14:40:18.722787Z"
    },
    "papermill": {
     "duration": 0.088859,
     "end_time": "2025-08-05T14:40:18.727586",
     "exception": false,
     "start_time": "2025-08-05T14:40:18.638727",
     "status": "completed"
    },
    "tags": []
   },
   "outputs": [],
   "source": [
    "X_calib = siab_calib.iloc[:,4:164]\n",
    "y_calib = siab_calib.iloc[:, [3]]"
   ]
  },
  {
   "cell_type": "code",
   "execution_count": 17,
   "id": "c34be9c3-6bd6-476e-acd3-845840e303be",
   "metadata": {
    "execution": {
     "iopub.execute_input": "2025-08-05T14:40:18.767500Z",
     "iopub.status.busy": "2025-08-05T14:40:18.766975Z",
     "iopub.status.idle": "2025-08-05T14:40:18.822211Z",
     "shell.execute_reply": "2025-08-05T14:40:18.820935Z"
    },
    "papermill": {
     "duration": 0.077653,
     "end_time": "2025-08-05T14:40:18.824424",
     "exception": false,
     "start_time": "2025-08-05T14:40:18.746771",
     "status": "completed"
    },
    "tags": []
   },
   "outputs": [],
   "source": [
    "X_test = siab_test.iloc[:,4:164]\n",
    "y_true = siab_test.iloc[:, [3]]"
   ]
  },
  {
   "cell_type": "code",
   "execution_count": 18,
   "id": "e6c733c5",
   "metadata": {
    "execution": {
     "iopub.execute_input": "2025-08-05T14:40:18.863797Z",
     "iopub.status.busy": "2025-08-05T14:40:18.863303Z",
     "iopub.status.idle": "2025-08-05T14:40:18.967359Z",
     "shell.execute_reply": "2025-08-05T14:40:18.966249Z"
    },
    "papermill": {
     "duration": 0.122781,
     "end_time": "2025-08-05T14:40:18.969025",
     "exception": false,
     "start_time": "2025-08-05T14:40:18.846244",
     "status": "completed"
    },
    "tags": []
   },
   "outputs": [],
   "source": [
    "# Auxiliary data needed downstream in the pipeline\n",
    "\n",
    "org_train = X_train.copy()\n",
    "org_test = X_test.copy()\n",
    "org_calib = X_calib.copy()"
   ]
  },
  {
   "cell_type": "markdown",
   "id": "0a4a1b33",
   "metadata": {
    "papermill": {
     "duration": 0.015316,
     "end_time": "2025-08-05T14:40:19.006209",
     "exception": false,
     "start_time": "2025-08-05T14:40:18.990893",
     "status": "completed"
    },
    "tags": []
   },
   "source": [
    "# Preprocessing Data"
   ]
  },
  {
   "cell_type": "code",
   "execution_count": 19,
   "id": "ca879031",
   "metadata": {
    "execution": {
     "iopub.execute_input": "2025-08-05T14:40:19.027269Z",
     "iopub.status.busy": "2025-08-05T14:40:19.026892Z",
     "iopub.status.idle": "2025-08-05T14:40:19.032145Z",
     "shell.execute_reply": "2025-08-05T14:40:19.031352Z"
    },
    "papermill": {
     "duration": 0.017779,
     "end_time": "2025-08-05T14:40:19.033908",
     "exception": false,
     "start_time": "2025-08-05T14:40:19.016129",
     "status": "completed"
    },
    "tags": []
   },
   "outputs": [],
   "source": [
    "# EXCLUDE PROTECTED FEATURES\n",
    "# ----------------------\n",
    "# \"exclude_features\": \"none\", # \"nationality\", \"sex\", \"nationality-sex\"\n",
    "\n",
    "excluded_features = universe[\"exclude_features\"].split(\"-\") # split, e.g.: \"nationality-sex\" -> [\"nationality\", \"sex\"]\n",
    "excluded_features_dictionary = {\n",
    "    \"nationality\": [\"maxdeutsch1\", \"maxdeutsch.Missing.\"],\n",
    "    \"sex\": [\"frau1\"],\n",
    "    \"age\": [\"age\"],\n",
    "}"
   ]
  },
  {
   "cell_type": "code",
   "execution_count": 20,
   "id": "b745ac60",
   "metadata": {
    "execution": {
     "iopub.execute_input": "2025-08-05T14:40:19.056295Z",
     "iopub.status.busy": "2025-08-05T14:40:19.055277Z",
     "iopub.status.idle": "2025-08-05T14:40:19.062687Z",
     "shell.execute_reply": "2025-08-05T14:40:19.061616Z"
    },
    "papermill": {
     "duration": 0.019349,
     "end_time": "2025-08-05T14:40:19.064414",
     "exception": false,
     "start_time": "2025-08-05T14:40:19.045065",
     "status": "completed"
    },
    "tags": []
   },
   "outputs": [],
   "source": [
    "# Code nice names to column names\n",
    "\n",
    "excluded_features_columns = [\n",
    "    excluded_features_dictionary[f] for f in excluded_features if len(f) > 0 and f != \"none\"\n",
    "]"
   ]
  },
  {
   "cell_type": "code",
   "execution_count": 21,
   "id": "f84f73a2",
   "metadata": {
    "execution": {
     "iopub.execute_input": "2025-08-05T14:40:19.087127Z",
     "iopub.status.busy": "2025-08-05T14:40:19.086769Z",
     "iopub.status.idle": "2025-08-05T14:40:19.092212Z",
     "shell.execute_reply": "2025-08-05T14:40:19.091511Z"
    },
    "papermill": {
     "duration": 0.018884,
     "end_time": "2025-08-05T14:40:19.093749",
     "exception": false,
     "start_time": "2025-08-05T14:40:19.074865",
     "status": "completed"
    },
    "tags": []
   },
   "outputs": [],
   "source": [
    "from utils import flatten_once\n",
    "\n",
    "excluded_features_columns = flatten_once(excluded_features_columns)"
   ]
  },
  {
   "cell_type": "code",
   "execution_count": 22,
   "id": "884dea22",
   "metadata": {
    "execution": {
     "iopub.execute_input": "2025-08-05T14:40:19.122842Z",
     "iopub.status.busy": "2025-08-05T14:40:19.122395Z",
     "iopub.status.idle": "2025-08-05T14:40:19.136852Z",
     "shell.execute_reply": "2025-08-05T14:40:19.135498Z"
    },
    "papermill": {
     "duration": 0.033926,
     "end_time": "2025-08-05T14:40:19.138420",
     "exception": false,
     "start_time": "2025-08-05T14:40:19.104494",
     "status": "completed"
    },
    "tags": []
   },
   "outputs": [
    {
     "name": "stdout",
     "output_type": "stream",
     "text": [
      "Dropping features: ['maxdeutsch1', 'maxdeutsch.Missing.']\n"
     ]
    }
   ],
   "source": [
    "if len(excluded_features_columns) > 0:\n",
    "    print(f\"Dropping features: {excluded_features_columns}\")\n",
    "    X_train.drop(excluded_features_columns, axis=1, inplace=True)"
   ]
  },
  {
   "cell_type": "code",
   "execution_count": 23,
   "id": "95ab8b16",
   "metadata": {
    "execution": {
     "iopub.execute_input": "2025-08-05T14:40:19.160650Z",
     "iopub.status.busy": "2025-08-05T14:40:19.159950Z",
     "iopub.status.idle": "2025-08-05T14:40:19.212024Z",
     "shell.execute_reply": "2025-08-05T14:40:19.211186Z"
    },
    "papermill": {
     "duration": 0.064127,
     "end_time": "2025-08-05T14:40:19.213743",
     "exception": false,
     "start_time": "2025-08-05T14:40:19.149616",
     "status": "completed"
    },
    "tags": []
   },
   "outputs": [
    {
     "name": "stdout",
     "output_type": "stream",
     "text": [
      "Dropping features: ['maxdeutsch1', 'maxdeutsch.Missing.']\n"
     ]
    }
   ],
   "source": [
    "if len(excluded_features_columns) > 0:\n",
    "    print(f\"Dropping features: {excluded_features_columns}\")\n",
    "    X_test.drop(excluded_features_columns, axis=1, inplace=True)"
   ]
  },
  {
   "cell_type": "code",
   "execution_count": 24,
   "id": "1853aaf5-fb9f-46cb-a2b5-8ea4ae2237e4",
   "metadata": {
    "execution": {
     "iopub.execute_input": "2025-08-05T14:40:19.239154Z",
     "iopub.status.busy": "2025-08-05T14:40:19.238448Z",
     "iopub.status.idle": "2025-08-05T14:40:19.294324Z",
     "shell.execute_reply": "2025-08-05T14:40:19.293225Z"
    },
    "papermill": {
     "duration": 0.072027,
     "end_time": "2025-08-05T14:40:19.296559",
     "exception": false,
     "start_time": "2025-08-05T14:40:19.224532",
     "status": "completed"
    },
    "tags": []
   },
   "outputs": [
    {
     "name": "stdout",
     "output_type": "stream",
     "text": [
      "Dropping features: ['maxdeutsch1', 'maxdeutsch.Missing.']\n"
     ]
    }
   ],
   "source": [
    "if len(excluded_features_columns) > 0:\n",
    "    print(f\"Dropping features: {excluded_features_columns}\")\n",
    "    X_calib.drop(excluded_features_columns, axis=1, inplace=True)"
   ]
  },
  {
   "cell_type": "code",
   "execution_count": 25,
   "id": "6727d079-03e5-481e-9d38-292a90b7a0a8",
   "metadata": {
    "execution": {
     "iopub.execute_input": "2025-08-05T14:40:19.342451Z",
     "iopub.status.busy": "2025-08-05T14:40:19.341509Z",
     "iopub.status.idle": "2025-08-05T14:40:19.346461Z",
     "shell.execute_reply": "2025-08-05T14:40:19.345555Z"
    },
    "papermill": {
     "duration": 0.027637,
     "end_time": "2025-08-05T14:40:19.347904",
     "exception": false,
     "start_time": "2025-08-05T14:40:19.320267",
     "status": "completed"
    },
    "tags": []
   },
   "outputs": [],
   "source": [
    "# SPLIT & STRATIFY DATA\n",
    "# ----------------------"
   ]
  },
  {
   "cell_type": "code",
   "execution_count": 26,
   "id": "76c4dc6d",
   "metadata": {
    "execution": {
     "iopub.execute_input": "2025-08-05T14:40:19.387257Z",
     "iopub.status.busy": "2025-08-05T14:40:19.386388Z",
     "iopub.status.idle": "2025-08-05T14:40:19.440495Z",
     "shell.execute_reply": "2025-08-05T14:40:19.439382Z"
    },
    "papermill": {
     "duration": 0.07565,
     "end_time": "2025-08-05T14:40:19.442857",
     "exception": false,
     "start_time": "2025-08-05T14:40:19.367207",
     "status": "completed"
    },
    "tags": []
   },
   "outputs": [],
   "source": [
    "# EXCLUDE CERTAIN SUBGROUPS\n",
    "# ----------------------\n",
    "\n",
    "mode = universe.get(\"exclude_subgroups\", \"keep-all\") \n",
    "# Fetches the exclude_subgroups setting from the universe dict.\n",
    "# Defaults to \"keep-all\" if the key is missing."
   ]
  },
  {
   "cell_type": "code",
   "execution_count": 27,
   "id": "21994072",
   "metadata": {
    "execution": {
     "iopub.execute_input": "2025-08-05T14:40:19.476325Z",
     "iopub.status.busy": "2025-08-05T14:40:19.475968Z",
     "iopub.status.idle": "2025-08-05T14:40:19.482327Z",
     "shell.execute_reply": "2025-08-05T14:40:19.481564Z"
    },
    "papermill": {
     "duration": 0.01852,
     "end_time": "2025-08-05T14:40:19.483678",
     "exception": false,
     "start_time": "2025-08-05T14:40:19.465158",
     "status": "completed"
    },
    "tags": []
   },
   "outputs": [],
   "source": [
    "if mode == \"keep-all\":\n",
    "    keep_mask = pd.Series(True, index=org_train.index)\n",
    "\n",
    "# org_train contains the original feature columns from features_org (in Simson)\n",
    "# features_org contains unprocessed features, for me X_train at beginning ???\n",
    "# For keep-all, creates a boolean Series (keep_mask) of all True, so no rows are removed.\n",
    "\n",
    "elif mode == \"drop-non-german\":\n",
    "    keep_mask = org_train[\"maxdeutsch1\"] == 1 # ??? what about missing values?\n",
    "\n",
    "else:\n",
    "    raise ValueError(f\"Unsupported mode for exclude_subgroups: {mode}\")\n"
   ]
  },
  {
   "cell_type": "code",
   "execution_count": 28,
   "id": "71651440",
   "metadata": {
    "execution": {
     "iopub.execute_input": "2025-08-05T14:40:19.514334Z",
     "iopub.status.busy": "2025-08-05T14:40:19.512673Z",
     "iopub.status.idle": "2025-08-05T14:40:19.526299Z",
     "shell.execute_reply": "2025-08-05T14:40:19.525205Z"
    },
    "papermill": {
     "duration": 0.033727,
     "end_time": "2025-08-05T14:40:19.528495",
     "exception": false,
     "start_time": "2025-08-05T14:40:19.494768",
     "status": "completed"
    },
    "tags": []
   },
   "outputs": [
    {
     "name": "stdout",
     "output_type": "stream",
     "text": [
      "Dropping 3688 rows (14.75%) where mode='drop-non-german'\n"
     ]
    }
   ],
   "source": [
    "n_drop = (~keep_mask).sum() # Calculates how many rows are set to be dropped\n",
    "if n_drop > 0:\n",
    "    pct = n_drop / len(keep_mask) * 100\n",
    "    print(f\"Dropping {n_drop} rows ({pct:.2f}%) where mode='{mode}'\")"
   ]
  },
  {
   "cell_type": "code",
   "execution_count": 29,
   "id": "5fb8eee5",
   "metadata": {
    "execution": {
     "iopub.execute_input": "2025-08-05T14:40:19.591296Z",
     "iopub.status.busy": "2025-08-05T14:40:19.590776Z",
     "iopub.status.idle": "2025-08-05T14:40:19.605678Z",
     "shell.execute_reply": "2025-08-05T14:40:19.604479Z"
    },
    "papermill": {
     "duration": 0.047496,
     "end_time": "2025-08-05T14:40:19.608128",
     "exception": false,
     "start_time": "2025-08-05T14:40:19.560632",
     "status": "completed"
    },
    "tags": []
   },
   "outputs": [],
   "source": [
    "X_train = X_train[keep_mask]"
   ]
  },
  {
   "cell_type": "code",
   "execution_count": 30,
   "id": "b202bb3a",
   "metadata": {
    "execution": {
     "iopub.execute_input": "2025-08-05T14:40:19.667115Z",
     "iopub.status.busy": "2025-08-05T14:40:19.666619Z",
     "iopub.status.idle": "2025-08-05T14:40:19.673424Z",
     "shell.execute_reply": "2025-08-05T14:40:19.672449Z"
    },
    "papermill": {
     "duration": 0.037367,
     "end_time": "2025-08-05T14:40:19.675685",
     "exception": false,
     "start_time": "2025-08-05T14:40:19.638318",
     "status": "completed"
    },
    "tags": []
   },
   "outputs": [],
   "source": [
    "y_train = y_train[keep_mask]"
   ]
  },
  {
   "cell_type": "markdown",
   "id": "493e2ac3",
   "metadata": {
    "papermill": {
     "duration": 0.026924,
     "end_time": "2025-08-05T14:40:19.730713",
     "exception": false,
     "start_time": "2025-08-05T14:40:19.703789",
     "status": "completed"
    },
    "tags": []
   },
   "source": [
    "# Model Training"
   ]
  },
  {
   "cell_type": "code",
   "execution_count": 31,
   "id": "679e1268",
   "metadata": {
    "execution": {
     "iopub.execute_input": "2025-08-05T14:40:19.785787Z",
     "iopub.status.busy": "2025-08-05T14:40:19.785231Z",
     "iopub.status.idle": "2025-08-05T14:40:19.885923Z",
     "shell.execute_reply": "2025-08-05T14:40:19.884973Z"
    },
    "papermill": {
     "duration": 0.131032,
     "end_time": "2025-08-05T14:40:19.887767",
     "exception": false,
     "start_time": "2025-08-05T14:40:19.756735",
     "status": "completed"
    },
    "tags": []
   },
   "outputs": [],
   "source": [
    "from sklearn.linear_model import LogisticRegression\n",
    "from sklearn.ensemble import GradientBoostingClassifier, RandomForestClassifier\n",
    "\n",
    "if (universe[\"model\"] == \"logreg\"):\n",
    "    model = LogisticRegression() #penalty=\"none\", solver=\"newton-cg\", max_iter=1) # include random_state=19 ?\n",
    "elif (universe[\"model\"] == \"penalized_logreg\"):\n",
    "    model = LogisticRegression(penalty=\"l2\", C=0.1) #, solver=\"newton-cg\", max_iter=1)\n",
    "elif (universe[\"model\"] == \"rf\"):\n",
    "    model = RandomForestClassifier() # n_estimators=100, n_jobs=-1\n",
    "elif (universe[\"model\"] == \"gbm\"):\n",
    "    model = GradientBoostingClassifier()\n",
    "elif (universe[\"model\"] == \"elasticnet\"):\n",
    "    model = LogisticRegression(penalty = 'elasticnet', solver = 'saga', l1_ratio = 0.5) # max_iter=5000\n",
    "else:\n",
    "    raise \"Unsupported universe.model\""
   ]
  },
  {
   "cell_type": "code",
   "execution_count": 32,
   "id": "0cc8f744",
   "metadata": {
    "execution": {
     "iopub.execute_input": "2025-08-05T14:40:19.932137Z",
     "iopub.status.busy": "2025-08-05T14:40:19.931263Z",
     "iopub.status.idle": "2025-08-05T14:40:19.938811Z",
     "shell.execute_reply": "2025-08-05T14:40:19.937679Z"
    },
    "papermill": {
     "duration": 0.031046,
     "end_time": "2025-08-05T14:40:19.940512",
     "exception": false,
     "start_time": "2025-08-05T14:40:19.909466",
     "status": "completed"
    },
    "tags": []
   },
   "outputs": [],
   "source": [
    "import numpy as np\n",
    "from sklearn.pipeline import Pipeline\n",
    "from sklearn.preprocessing import StandardScaler\n",
    "\n",
    "model = Pipeline([\n",
    "    #(\"continuous_processor\", continuous_processor),\n",
    "    #(\"categorical_preprocessor\", categorical_preprocessor),\n",
    "    (\"scale\", StandardScaler() if universe[\"scale\"] == \"scale\" else None), \n",
    "    (\"model\", model),\n",
    "])"
   ]
  },
  {
   "cell_type": "code",
   "execution_count": 33,
   "id": "9442c04d",
   "metadata": {
    "execution": {
     "iopub.execute_input": "2025-08-05T14:40:19.982429Z",
     "iopub.status.busy": "2025-08-05T14:40:19.981499Z",
     "iopub.status.idle": "2025-08-05T14:40:20.576575Z",
     "shell.execute_reply": "2025-08-05T14:40:20.575570Z"
    },
    "papermill": {
     "duration": 0.618828,
     "end_time": "2025-08-05T14:40:20.579075",
     "exception": false,
     "start_time": "2025-08-05T14:40:19.960247",
     "status": "completed"
    },
    "tags": []
   },
   "outputs": [
    {
     "name": "stderr",
     "output_type": "stream",
     "text": [
      "/dss/dsshome1/0C/ra93lal2/.local/share/virtualenvs/CMA_Fairness_v2-3j10GkSs/lib/python3.10/site-packages/sklearn/linear_model/_logistic.py:444: ConvergenceWarning: lbfgs failed to converge (status=1):\n",
      "STOP: TOTAL NO. of ITERATIONS REACHED LIMIT.\n",
      "\n",
      "Increase the number of iterations (max_iter) or scale the data as shown in:\n",
      "    https://scikit-learn.org/stable/modules/preprocessing.html\n",
      "Please also refer to the documentation for alternative solver options:\n",
      "    https://scikit-learn.org/stable/modules/linear_model.html#logistic-regression\n",
      "  n_iter_i = _check_optimize_result(\n"
     ]
    },
    {
     "data": {
      "text/html": [
       "<style>#sk-container-id-1 {color: black;background-color: white;}#sk-container-id-1 pre{padding: 0;}#sk-container-id-1 div.sk-toggleable {background-color: white;}#sk-container-id-1 label.sk-toggleable__label {cursor: pointer;display: block;width: 100%;margin-bottom: 0;padding: 0.3em;box-sizing: border-box;text-align: center;}#sk-container-id-1 label.sk-toggleable__label-arrow:before {content: \"▸\";float: left;margin-right: 0.25em;color: #696969;}#sk-container-id-1 label.sk-toggleable__label-arrow:hover:before {color: black;}#sk-container-id-1 div.sk-estimator:hover label.sk-toggleable__label-arrow:before {color: black;}#sk-container-id-1 div.sk-toggleable__content {max-height: 0;max-width: 0;overflow: hidden;text-align: left;background-color: #f0f8ff;}#sk-container-id-1 div.sk-toggleable__content pre {margin: 0.2em;color: black;border-radius: 0.25em;background-color: #f0f8ff;}#sk-container-id-1 input.sk-toggleable__control:checked~div.sk-toggleable__content {max-height: 200px;max-width: 100%;overflow: auto;}#sk-container-id-1 input.sk-toggleable__control:checked~label.sk-toggleable__label-arrow:before {content: \"▾\";}#sk-container-id-1 div.sk-estimator input.sk-toggleable__control:checked~label.sk-toggleable__label {background-color: #d4ebff;}#sk-container-id-1 div.sk-label input.sk-toggleable__control:checked~label.sk-toggleable__label {background-color: #d4ebff;}#sk-container-id-1 input.sk-hidden--visually {border: 0;clip: rect(1px 1px 1px 1px);clip: rect(1px, 1px, 1px, 1px);height: 1px;margin: -1px;overflow: hidden;padding: 0;position: absolute;width: 1px;}#sk-container-id-1 div.sk-estimator {font-family: monospace;background-color: #f0f8ff;border: 1px dotted black;border-radius: 0.25em;box-sizing: border-box;margin-bottom: 0.5em;}#sk-container-id-1 div.sk-estimator:hover {background-color: #d4ebff;}#sk-container-id-1 div.sk-parallel-item::after {content: \"\";width: 100%;border-bottom: 1px solid gray;flex-grow: 1;}#sk-container-id-1 div.sk-label:hover label.sk-toggleable__label {background-color: #d4ebff;}#sk-container-id-1 div.sk-serial::before {content: \"\";position: absolute;border-left: 1px solid gray;box-sizing: border-box;top: 0;bottom: 0;left: 50%;z-index: 0;}#sk-container-id-1 div.sk-serial {display: flex;flex-direction: column;align-items: center;background-color: white;padding-right: 0.2em;padding-left: 0.2em;position: relative;}#sk-container-id-1 div.sk-item {position: relative;z-index: 1;}#sk-container-id-1 div.sk-parallel {display: flex;align-items: stretch;justify-content: center;background-color: white;position: relative;}#sk-container-id-1 div.sk-item::before, #sk-container-id-1 div.sk-parallel-item::before {content: \"\";position: absolute;border-left: 1px solid gray;box-sizing: border-box;top: 0;bottom: 0;left: 50%;z-index: -1;}#sk-container-id-1 div.sk-parallel-item {display: flex;flex-direction: column;z-index: 1;position: relative;background-color: white;}#sk-container-id-1 div.sk-parallel-item:first-child::after {align-self: flex-end;width: 50%;}#sk-container-id-1 div.sk-parallel-item:last-child::after {align-self: flex-start;width: 50%;}#sk-container-id-1 div.sk-parallel-item:only-child::after {width: 0;}#sk-container-id-1 div.sk-dashed-wrapped {border: 1px dashed gray;margin: 0 0.4em 0.5em 0.4em;box-sizing: border-box;padding-bottom: 0.4em;background-color: white;}#sk-container-id-1 div.sk-label label {font-family: monospace;font-weight: bold;display: inline-block;line-height: 1.2em;}#sk-container-id-1 div.sk-label-container {text-align: center;}#sk-container-id-1 div.sk-container {/* jupyter's `normalize.less` sets `[hidden] { display: none; }` but bootstrap.min.css set `[hidden] { display: none !important; }` so we also need the `!important` here to be able to override the default hidden behavior on the sphinx rendered scikit-learn.org. See: https://github.com/scikit-learn/scikit-learn/issues/21755 */display: inline-block !important;position: relative;}#sk-container-id-1 div.sk-text-repr-fallback {display: none;}</style><div id=\"sk-container-id-1\" class=\"sk-top-container\"><div class=\"sk-text-repr-fallback\"><pre>Pipeline(steps=[(&#x27;scale&#x27;, None), (&#x27;model&#x27;, LogisticRegression())])</pre><b>In a Jupyter environment, please rerun this cell to show the HTML representation or trust the notebook. <br />On GitHub, the HTML representation is unable to render, please try loading this page with nbviewer.org.</b></div><div class=\"sk-container\" hidden><div class=\"sk-item sk-dashed-wrapped\"><div class=\"sk-label-container\"><div class=\"sk-label sk-toggleable\"><input class=\"sk-toggleable__control sk-hidden--visually\" id=\"sk-estimator-id-1\" type=\"checkbox\" ><label for=\"sk-estimator-id-1\" class=\"sk-toggleable__label sk-toggleable__label-arrow\">Pipeline</label><div class=\"sk-toggleable__content\"><pre>Pipeline(steps=[(&#x27;scale&#x27;, None), (&#x27;model&#x27;, LogisticRegression())])</pre></div></div></div><div class=\"sk-serial\"><div class=\"sk-item\"><div class=\"sk-estimator sk-toggleable\"><input class=\"sk-toggleable__control sk-hidden--visually\" id=\"sk-estimator-id-2\" type=\"checkbox\" ><label for=\"sk-estimator-id-2\" class=\"sk-toggleable__label sk-toggleable__label-arrow\">None</label><div class=\"sk-toggleable__content\"><pre>None</pre></div></div></div><div class=\"sk-item\"><div class=\"sk-estimator sk-toggleable\"><input class=\"sk-toggleable__control sk-hidden--visually\" id=\"sk-estimator-id-3\" type=\"checkbox\" ><label for=\"sk-estimator-id-3\" class=\"sk-toggleable__label sk-toggleable__label-arrow\">LogisticRegression</label><div class=\"sk-toggleable__content\"><pre>LogisticRegression()</pre></div></div></div></div></div></div></div>"
      ],
      "text/plain": [
       "Pipeline(steps=[('scale', None), ('model', LogisticRegression())])"
      ]
     },
     "execution_count": 33,
     "metadata": {},
     "output_type": "execute_result"
    }
   ],
   "source": [
    "model.fit(X_train, y_train.values.ravel())"
   ]
  },
  {
   "cell_type": "code",
   "execution_count": 34,
   "id": "af59f8c0",
   "metadata": {
    "execution": {
     "iopub.execute_input": "2025-08-05T14:40:20.628925Z",
     "iopub.status.busy": "2025-08-05T14:40:20.628464Z",
     "iopub.status.idle": "2025-08-05T14:40:20.633886Z",
     "shell.execute_reply": "2025-08-05T14:40:20.632794Z"
    },
    "papermill": {
     "duration": 0.02706,
     "end_time": "2025-08-05T14:40:20.635522",
     "exception": false,
     "start_time": "2025-08-05T14:40:20.608462",
     "status": "completed"
    },
    "tags": []
   },
   "outputs": [],
   "source": [
    "from fairness_multiverse.universe import predict_w_threshold"
   ]
  },
  {
   "cell_type": "code",
   "execution_count": 35,
   "id": "a7cf2e16",
   "metadata": {
    "execution": {
     "iopub.execute_input": "2025-08-05T14:40:20.665407Z",
     "iopub.status.busy": "2025-08-05T14:40:20.665077Z",
     "iopub.status.idle": "2025-08-05T14:40:20.755284Z",
     "shell.execute_reply": "2025-08-05T14:40:20.754256Z"
    },
    "papermill": {
     "duration": 0.103736,
     "end_time": "2025-08-05T14:40:20.757111",
     "exception": false,
     "start_time": "2025-08-05T14:40:20.653375",
     "status": "completed"
    },
    "tags": []
   },
   "outputs": [
    {
     "data": {
      "text/plain": [
       "0.8638167428380337"
      ]
     },
     "execution_count": 35,
     "metadata": {},
     "output_type": "execute_result"
    }
   ],
   "source": [
    "probs_test = model.predict_proba(X_test)\n",
    "\n",
    "'''\n",
    "Below code returns a boolean array (or binary 0/1 array depending on how it’s used) where each element \n",
    "is True if the probability of class 1 is greater than or equal to the threshold, and False otherwise.\n",
    "'''\n",
    "y_pred_default = predict_w_threshold(probs_test, 0.5)\n",
    "\n",
    "from sklearn.metrics import accuracy_score\n",
    "\n",
    "# Naive prediction\n",
    "accuracy_score(y_true = y_true, y_pred = y_pred_default)"
   ]
  },
  {
   "cell_type": "code",
   "execution_count": 36,
   "id": "081964c3",
   "metadata": {
    "execution": {
     "iopub.execute_input": "2025-08-05T14:40:20.802045Z",
     "iopub.status.busy": "2025-08-05T14:40:20.801273Z",
     "iopub.status.idle": "2025-08-05T14:40:20.887194Z",
     "shell.execute_reply": "2025-08-05T14:40:20.886256Z"
    },
    "papermill": {
     "duration": 0.10946,
     "end_time": "2025-08-05T14:40:20.888737",
     "exception": false,
     "start_time": "2025-08-05T14:40:20.779277",
     "status": "completed"
    },
    "tags": []
   },
   "outputs": [
    {
     "data": {
      "text/plain": [
       "array([0, 0, 0, ..., 0, 0, 0])"
      ]
     },
     "execution_count": 36,
     "metadata": {},
     "output_type": "execute_result"
    }
   ],
   "source": [
    "model.predict(X_test)"
   ]
  },
  {
   "cell_type": "markdown",
   "id": "56c9705b",
   "metadata": {
    "papermill": {
     "duration": 0.020367,
     "end_time": "2025-08-05T14:40:20.929971",
     "exception": false,
     "start_time": "2025-08-05T14:40:20.909604",
     "status": "completed"
    },
    "tags": []
   },
   "source": [
    "# Conformal Prediction"
   ]
  },
  {
   "cell_type": "code",
   "execution_count": 37,
   "id": "160ec6ff",
   "metadata": {
    "execution": {
     "iopub.execute_input": "2025-08-05T14:40:20.970444Z",
     "iopub.status.busy": "2025-08-05T14:40:20.969905Z",
     "iopub.status.idle": "2025-08-05T14:40:20.975621Z",
     "shell.execute_reply": "2025-08-05T14:40:20.974606Z"
    },
    "papermill": {
     "duration": 0.028592,
     "end_time": "2025-08-05T14:40:20.977275",
     "exception": false,
     "start_time": "2025-08-05T14:40:20.948683",
     "status": "completed"
    },
    "tags": []
   },
   "outputs": [],
   "source": [
    "# Miscoverage level for conformal prediction (10% allowed error rate => 90% target coverage)\n",
    "alpha = 0.1"
   ]
  },
  {
   "cell_type": "code",
   "execution_count": 38,
   "id": "eadf4555-3dd3-440e-8e35-f82a4ad9f855",
   "metadata": {
    "execution": {
     "iopub.execute_input": "2025-08-05T14:40:21.019153Z",
     "iopub.status.busy": "2025-08-05T14:40:21.018642Z",
     "iopub.status.idle": "2025-08-05T14:40:21.144405Z",
     "shell.execute_reply": "2025-08-05T14:40:21.143382Z"
    },
    "papermill": {
     "duration": 0.148196,
     "end_time": "2025-08-05T14:40:21.146469",
     "exception": false,
     "start_time": "2025-08-05T14:40:20.998273",
     "status": "completed"
    },
    "tags": []
   },
   "outputs": [],
   "source": [
    "probs_calib = model.predict_proba(X_calib)"
   ]
  },
  {
   "cell_type": "code",
   "execution_count": 39,
   "id": "2ed93547-6d5d-4983-9b36-1ecb300da49a",
   "metadata": {
    "execution": {
     "iopub.execute_input": "2025-08-05T14:40:21.192093Z",
     "iopub.status.busy": "2025-08-05T14:40:21.191378Z",
     "iopub.status.idle": "2025-08-05T14:40:21.198036Z",
     "shell.execute_reply": "2025-08-05T14:40:21.196847Z"
    },
    "papermill": {
     "duration": 0.031167,
     "end_time": "2025-08-05T14:40:21.199981",
     "exception": false,
     "start_time": "2025-08-05T14:40:21.168814",
     "status": "completed"
    },
    "tags": []
   },
   "outputs": [],
   "source": [
    "y_calib = y_calib.values.ravel().astype(int)"
   ]
  },
  {
   "cell_type": "code",
   "execution_count": 40,
   "id": "65d1320d-f588-4b38-9072-62af1ae97f7d",
   "metadata": {
    "execution": {
     "iopub.execute_input": "2025-08-05T14:40:21.243692Z",
     "iopub.status.busy": "2025-08-05T14:40:21.243135Z",
     "iopub.status.idle": "2025-08-05T14:40:21.249925Z",
     "shell.execute_reply": "2025-08-05T14:40:21.248807Z"
    },
    "papermill": {
     "duration": 0.02885,
     "end_time": "2025-08-05T14:40:21.251790",
     "exception": false,
     "start_time": "2025-08-05T14:40:21.222940",
     "status": "completed"
    },
    "tags": []
   },
   "outputs": [],
   "source": [
    "from fairness_multiverse.conformal import compute_nc_scores\n",
    "\n",
    "# Compute nonconformity scores on calibration set (1 - probability of true class)\n",
    "nc_scores = compute_nc_scores(probs_calib, y_calib)"
   ]
  },
  {
   "cell_type": "code",
   "execution_count": 41,
   "id": "df3b8ca3-53b7-43d5-9667-7c85da7aeda2",
   "metadata": {
    "execution": {
     "iopub.execute_input": "2025-08-05T14:40:21.304917Z",
     "iopub.status.busy": "2025-08-05T14:40:21.304343Z",
     "iopub.status.idle": "2025-08-05T14:40:21.311879Z",
     "shell.execute_reply": "2025-08-05T14:40:21.310690Z"
    },
    "papermill": {
     "duration": 0.036618,
     "end_time": "2025-08-05T14:40:21.313958",
     "exception": false,
     "start_time": "2025-08-05T14:40:21.277340",
     "status": "completed"
    },
    "tags": []
   },
   "outputs": [],
   "source": [
    "from fairness_multiverse.conformal import find_threshold\n",
    "\n",
    "# Find conformal threshold q_hat for the given alpha (split conformal method)\n",
    "q_hat = find_threshold(nc_scores, alpha)"
   ]
  },
  {
   "cell_type": "code",
   "execution_count": 42,
   "id": "4d29e6c1-0ef6-4aa4-b8fe-4fe79b0d033a",
   "metadata": {
    "execution": {
     "iopub.execute_input": "2025-08-05T14:40:21.366723Z",
     "iopub.status.busy": "2025-08-05T14:40:21.366248Z",
     "iopub.status.idle": "2025-08-05T14:40:21.374303Z",
     "shell.execute_reply": "2025-08-05T14:40:21.373174Z"
    },
    "papermill": {
     "duration": 0.036363,
     "end_time": "2025-08-05T14:40:21.376300",
     "exception": false,
     "start_time": "2025-08-05T14:40:21.339937",
     "status": "completed"
    },
    "tags": []
   },
   "outputs": [
    {
     "data": {
      "text/plain": [
       "0.6690282766532964"
      ]
     },
     "execution_count": 42,
     "metadata": {},
     "output_type": "execute_result"
    }
   ],
   "source": [
    "q_hat"
   ]
  },
  {
   "cell_type": "code",
   "execution_count": 43,
   "id": "92460794-cdac-4be2-ba28-f28c0515a6fb",
   "metadata": {
    "execution": {
     "iopub.execute_input": "2025-08-05T14:40:21.427718Z",
     "iopub.status.busy": "2025-08-05T14:40:21.427240Z",
     "iopub.status.idle": "2025-08-05T14:40:22.317208Z",
     "shell.execute_reply": "2025-08-05T14:40:22.316286Z"
    },
    "papermill": {
     "duration": 0.916872,
     "end_time": "2025-08-05T14:40:22.319052",
     "exception": false,
     "start_time": "2025-08-05T14:40:21.402180",
     "status": "completed"
    },
    "tags": []
   },
   "outputs": [],
   "source": [
    "from fairness_multiverse.conformal import predict_conformal_sets\n",
    "\n",
    "# Generate prediction sets for each test example\n",
    "pred_sets = predict_conformal_sets(model, X_test, q_hat)"
   ]
  },
  {
   "cell_type": "code",
   "execution_count": 44,
   "id": "d90c9a65-e6db-4f5d-80cd-e68fb7e46829",
   "metadata": {
    "execution": {
     "iopub.execute_input": "2025-08-05T14:40:22.365309Z",
     "iopub.status.busy": "2025-08-05T14:40:22.364875Z",
     "iopub.status.idle": "2025-08-05T14:40:22.370330Z",
     "shell.execute_reply": "2025-08-05T14:40:22.369116Z"
    },
    "papermill": {
     "duration": 0.029134,
     "end_time": "2025-08-05T14:40:22.372227",
     "exception": false,
     "start_time": "2025-08-05T14:40:22.343093",
     "status": "completed"
    },
    "tags": []
   },
   "outputs": [],
   "source": [
    "y_true = y_true.squeeze()"
   ]
  },
  {
   "cell_type": "code",
   "execution_count": 45,
   "id": "3a58a54a-1e68-46b9-927a-df01f18aebc8",
   "metadata": {
    "execution": {
     "iopub.execute_input": "2025-08-05T14:40:22.422498Z",
     "iopub.status.busy": "2025-08-05T14:40:22.421977Z",
     "iopub.status.idle": "2025-08-05T14:40:23.313450Z",
     "shell.execute_reply": "2025-08-05T14:40:23.312391Z"
    },
    "papermill": {
     "duration": 0.920116,
     "end_time": "2025-08-05T14:40:23.315480",
     "exception": false,
     "start_time": "2025-08-05T14:40:22.395364",
     "status": "completed"
    },
    "tags": []
   },
   "outputs": [],
   "source": [
    "from fairness_multiverse.conformal import evaluate_sets\n",
    "\n",
    "# Evaluate coverage and average set size on test data\n",
    "metrics = evaluate_sets(pred_sets, y_true)"
   ]
  },
  {
   "cell_type": "markdown",
   "id": "2b569c12-9aaa-4c88-98c9-bbcd0cf3ebb8",
   "metadata": {
    "papermill": {
     "duration": 0.02242,
     "end_time": "2025-08-05T14:40:23.362367",
     "exception": false,
     "start_time": "2025-08-05T14:40:23.339947",
     "status": "completed"
    },
    "tags": []
   },
   "source": [
    "# CP Metrics"
   ]
  },
  {
   "cell_type": "code",
   "execution_count": 46,
   "id": "5ce0a5cb-201f-45a0-ade5-94c7f0bd6095",
   "metadata": {
    "execution": {
     "iopub.execute_input": "2025-08-05T14:40:23.409545Z",
     "iopub.status.busy": "2025-08-05T14:40:23.409045Z",
     "iopub.status.idle": "2025-08-05T14:40:23.416311Z",
     "shell.execute_reply": "2025-08-05T14:40:23.415254Z"
    },
    "papermill": {
     "duration": 0.032309,
     "end_time": "2025-08-05T14:40:23.418124",
     "exception": false,
     "start_time": "2025-08-05T14:40:23.385815",
     "status": "completed"
    },
    "tags": []
   },
   "outputs": [
    {
     "data": {
      "text/plain": [
       "{'coverage': 0.9127744955969235, 'avg_size': 1.2248913164641624}"
      ]
     },
     "execution_count": 46,
     "metadata": {},
     "output_type": "execute_result"
    }
   ],
   "source": [
    "metrics"
   ]
  },
  {
   "cell_type": "code",
   "execution_count": 47,
   "id": "9b9a838d-31c9-430b-ae14-12baee460d17",
   "metadata": {
    "execution": {
     "iopub.execute_input": "2025-08-05T14:40:23.462404Z",
     "iopub.status.busy": "2025-08-05T14:40:23.461463Z",
     "iopub.status.idle": "2025-08-05T14:40:23.468337Z",
     "shell.execute_reply": "2025-08-05T14:40:23.467353Z"
    },
    "papermill": {
     "duration": 0.030816,
     "end_time": "2025-08-05T14:40:23.470321",
     "exception": false,
     "start_time": "2025-08-05T14:40:23.439505",
     "status": "completed"
    },
    "tags": []
   },
   "outputs": [],
   "source": [
    "example_universe = universe.copy()\n",
    "universe_training_year = example_universe.get(\"training_year\")\n",
    "universe_training_size = example_universe.get(\"training_size\")\n",
    "universe_scale = example_universe.get(\"scale\")\n",
    "universe_model = example_universe.get(\"model\")\n",
    "universe_exclude_features = example_universe.get(\"exclude_features\")\n",
    "universe_exclude_subgroups = example_universe.get(\"exclude_subgroups\")"
   ]
  },
  {
   "cell_type": "code",
   "execution_count": 48,
   "id": "f4b6a8ac-9dc0-4245-8a91-5b3b5999c4f9",
   "metadata": {
    "execution": {
     "iopub.execute_input": "2025-08-05T14:40:23.519580Z",
     "iopub.status.busy": "2025-08-05T14:40:23.518958Z",
     "iopub.status.idle": "2025-08-05T14:40:23.525977Z",
     "shell.execute_reply": "2025-08-05T14:40:23.524834Z"
    },
    "papermill": {
     "duration": 0.032806,
     "end_time": "2025-08-05T14:40:23.527854",
     "exception": false,
     "start_time": "2025-08-05T14:40:23.495048",
     "status": "completed"
    },
    "tags": []
   },
   "outputs": [],
   "source": [
    "cp_metrics_dict = {\n",
    "    \"universe_id\": [universe_id],\n",
    "    \"universe_training_year\": [universe_training_year],\n",
    "    \"universe_training_size\": [universe_training_size],\n",
    "    \"universe_scale\": [universe_scale],\n",
    "    \"universe_model\": [universe_model],\n",
    "    \"universe_exclude_features\": [universe_exclude_features],\n",
    "    \"universe_exclude_subgroups\": [universe_exclude_subgroups],\n",
    "    \"q_hat\": [q_hat],\n",
    "    \"coverage\": [metrics[\"coverage\"]],\n",
    "    \"avg_size\": [metrics[\"avg_size\"]],\n",
    "}"
   ]
  },
  {
   "cell_type": "code",
   "execution_count": 49,
   "id": "908acbb1-0371-4915-85ca-3fa520d2efe2",
   "metadata": {
    "execution": {
     "iopub.execute_input": "2025-08-05T14:40:23.577715Z",
     "iopub.status.busy": "2025-08-05T14:40:23.577190Z",
     "iopub.status.idle": "2025-08-05T14:40:23.585481Z",
     "shell.execute_reply": "2025-08-05T14:40:23.584275Z"
    },
    "papermill": {
     "duration": 0.036157,
     "end_time": "2025-08-05T14:40:23.587447",
     "exception": false,
     "start_time": "2025-08-05T14:40:23.551290",
     "status": "completed"
    },
    "tags": []
   },
   "outputs": [
    {
     "data": {
      "text/plain": [
       "{'universe_id': ['884b64730a617c018f56589b55a16a43'],\n",
       " 'universe_training_year': ['2014'],\n",
       " 'universe_training_size': ['25k'],\n",
       " 'universe_scale': ['do-not-scale'],\n",
       " 'universe_model': ['logreg'],\n",
       " 'universe_exclude_features': ['nationality'],\n",
       " 'universe_exclude_subgroups': ['drop-non-german'],\n",
       " 'q_hat': [0.6690282766532964],\n",
       " 'coverage': [0.9127744955969235],\n",
       " 'avg_size': [1.2248913164641624]}"
      ]
     },
     "execution_count": 49,
     "metadata": {},
     "output_type": "execute_result"
    }
   ],
   "source": [
    "cp_metrics_dict"
   ]
  },
  {
   "cell_type": "code",
   "execution_count": 50,
   "id": "33007efc-14e9-4ec6-97ac-56a455c82265",
   "metadata": {
    "execution": {
     "iopub.execute_input": "2025-08-05T14:40:23.639687Z",
     "iopub.status.busy": "2025-08-05T14:40:23.637751Z",
     "iopub.status.idle": "2025-08-05T14:40:23.645679Z",
     "shell.execute_reply": "2025-08-05T14:40:23.644592Z"
    },
    "papermill": {
     "duration": 0.03532,
     "end_time": "2025-08-05T14:40:23.647764",
     "exception": false,
     "start_time": "2025-08-05T14:40:23.612444",
     "status": "completed"
    },
    "tags": []
   },
   "outputs": [],
   "source": [
    "cp_metrics_df = pd.DataFrame(cp_metrics_dict)"
   ]
  },
  {
   "cell_type": "code",
   "execution_count": 51,
   "id": "db12611b-57b2-4910-b9d0-355adfd6e7bf",
   "metadata": {
    "execution": {
     "iopub.execute_input": "2025-08-05T14:40:23.697175Z",
     "iopub.status.busy": "2025-08-05T14:40:23.696636Z",
     "iopub.status.idle": "2025-08-05T14:40:23.715189Z",
     "shell.execute_reply": "2025-08-05T14:40:23.714224Z"
    },
    "papermill": {
     "duration": 0.044655,
     "end_time": "2025-08-05T14:40:23.717051",
     "exception": false,
     "start_time": "2025-08-05T14:40:23.672396",
     "status": "completed"
    },
    "tags": []
   },
   "outputs": [
    {
     "data": {
      "text/html": [
       "<div>\n",
       "<style scoped>\n",
       "    .dataframe tbody tr th:only-of-type {\n",
       "        vertical-align: middle;\n",
       "    }\n",
       "\n",
       "    .dataframe tbody tr th {\n",
       "        vertical-align: top;\n",
       "    }\n",
       "\n",
       "    .dataframe thead th {\n",
       "        text-align: right;\n",
       "    }\n",
       "</style>\n",
       "<table border=\"1\" class=\"dataframe\">\n",
       "  <thead>\n",
       "    <tr style=\"text-align: right;\">\n",
       "      <th></th>\n",
       "      <th>universe_id</th>\n",
       "      <th>universe_training_year</th>\n",
       "      <th>universe_training_size</th>\n",
       "      <th>universe_scale</th>\n",
       "      <th>universe_model</th>\n",
       "      <th>universe_exclude_features</th>\n",
       "      <th>universe_exclude_subgroups</th>\n",
       "      <th>q_hat</th>\n",
       "      <th>coverage</th>\n",
       "      <th>avg_size</th>\n",
       "    </tr>\n",
       "  </thead>\n",
       "  <tbody>\n",
       "    <tr>\n",
       "      <th>0</th>\n",
       "      <td>884b64730a617c018f56589b55a16a43</td>\n",
       "      <td>2014</td>\n",
       "      <td>25k</td>\n",
       "      <td>do-not-scale</td>\n",
       "      <td>logreg</td>\n",
       "      <td>nationality</td>\n",
       "      <td>drop-non-german</td>\n",
       "      <td>0.669028</td>\n",
       "      <td>0.912774</td>\n",
       "      <td>1.224891</td>\n",
       "    </tr>\n",
       "  </tbody>\n",
       "</table>\n",
       "</div>"
      ],
      "text/plain": [
       "                        universe_id universe_training_year  \\\n",
       "0  884b64730a617c018f56589b55a16a43                   2014   \n",
       "\n",
       "  universe_training_size universe_scale universe_model  \\\n",
       "0                    25k   do-not-scale         logreg   \n",
       "\n",
       "  universe_exclude_features universe_exclude_subgroups     q_hat  coverage  \\\n",
       "0               nationality            drop-non-german  0.669028  0.912774   \n",
       "\n",
       "   avg_size  \n",
       "0  1.224891  "
      ]
     },
     "execution_count": 51,
     "metadata": {},
     "output_type": "execute_result"
    }
   ],
   "source": [
    "cp_metrics_df"
   ]
  },
  {
   "cell_type": "code",
   "execution_count": 52,
   "id": "b7fbde55-a0a1-47e4-9af6-fe4a17fa8c61",
   "metadata": {
    "execution": {
     "iopub.execute_input": "2025-08-05T14:40:23.768025Z",
     "iopub.status.busy": "2025-08-05T14:40:23.767303Z",
     "iopub.status.idle": "2025-08-05T14:40:23.775178Z",
     "shell.execute_reply": "2025-08-05T14:40:23.774162Z"
    },
    "papermill": {
     "duration": 0.035371,
     "end_time": "2025-08-05T14:40:23.777144",
     "exception": false,
     "start_time": "2025-08-05T14:40:23.741773",
     "status": "completed"
    },
    "tags": []
   },
   "outputs": [],
   "source": [
    "# Conditional Coverage & looking at subgroups"
   ]
  },
  {
   "cell_type": "code",
   "execution_count": 53,
   "id": "027ae886-68dd-4141-96c7-805a5450e1ef",
   "metadata": {
    "execution": {
     "iopub.execute_input": "2025-08-05T14:40:23.826186Z",
     "iopub.status.busy": "2025-08-05T14:40:23.825600Z",
     "iopub.status.idle": "2025-08-05T14:40:24.085909Z",
     "shell.execute_reply": "2025-08-05T14:40:24.084873Z"
    },
    "papermill": {
     "duration": 0.286917,
     "end_time": "2025-08-05T14:40:24.088138",
     "exception": false,
     "start_time": "2025-08-05T14:40:23.801221",
     "status": "completed"
    },
    "tags": []
   },
   "outputs": [],
   "source": [
    "from fairness_multiverse.conformal import build_cp_groups\n",
    "\n",
    "cp_groups_df = build_cp_groups(pred_sets, y_true, X_test.index, org_test)\n",
    "#needs universe_id and setting"
   ]
  },
  {
   "cell_type": "code",
   "execution_count": 54,
   "id": "01d5802c-663a-4d1f-9d69-e036faaffbf7",
   "metadata": {
    "execution": {
     "iopub.execute_input": "2025-08-05T14:40:24.132299Z",
     "iopub.status.busy": "2025-08-05T14:40:24.131663Z",
     "iopub.status.idle": "2025-08-05T14:40:24.136569Z",
     "shell.execute_reply": "2025-08-05T14:40:24.135585Z"
    },
    "papermill": {
     "duration": 0.02912,
     "end_time": "2025-08-05T14:40:24.138549",
     "exception": false,
     "start_time": "2025-08-05T14:40:24.109429",
     "status": "completed"
    },
    "tags": []
   },
   "outputs": [],
   "source": [
    "#delete\n",
    "#cp_groups_df"
   ]
  },
  {
   "cell_type": "code",
   "execution_count": 55,
   "id": "fa424af1-d1eb-443d-b717-2d279ada8408",
   "metadata": {
    "execution": {
     "iopub.execute_input": "2025-08-05T14:40:24.181132Z",
     "iopub.status.busy": "2025-08-05T14:40:24.180601Z",
     "iopub.status.idle": "2025-08-05T14:40:24.185227Z",
     "shell.execute_reply": "2025-08-05T14:40:24.184219Z"
    },
    "papermill": {
     "duration": 0.027535,
     "end_time": "2025-08-05T14:40:24.186894",
     "exception": false,
     "start_time": "2025-08-05T14:40:24.159359",
     "status": "completed"
    },
    "tags": []
   },
   "outputs": [],
   "source": [
    "#delete\n",
    "#percentage = (cp_groups_df['nongerman_female'] == 1).mean() * 100\n",
    "#print(percentage)\n"
   ]
  },
  {
   "cell_type": "code",
   "execution_count": 56,
   "id": "6cbdab96-b2b2-45af-ad54-d0516db2e28d",
   "metadata": {
    "execution": {
     "iopub.execute_input": "2025-08-05T14:40:24.230854Z",
     "iopub.status.busy": "2025-08-05T14:40:24.230037Z",
     "iopub.status.idle": "2025-08-05T14:40:25.940836Z",
     "shell.execute_reply": "2025-08-05T14:40:25.939792Z"
    },
    "papermill": {
     "duration": 1.735103,
     "end_time": "2025-08-05T14:40:25.942877",
     "exception": false,
     "start_time": "2025-08-05T14:40:24.207774",
     "status": "completed"
    },
    "tags": []
   },
   "outputs": [],
   "source": [
    "# Define covered = 1 if true_label is in the predicted set\n",
    "cp_groups_df['covered'] = cp_groups_df.apply(\n",
    "    lambda r: int(r['true_label'] in r['pred_set']),\n",
    "    axis=1\n",
    ")"
   ]
  },
  {
   "cell_type": "code",
   "execution_count": 57,
   "id": "338ff529-1a6b-4b87-a931-8e4788d52aad",
   "metadata": {
    "execution": {
     "iopub.execute_input": "2025-08-05T14:40:25.997818Z",
     "iopub.status.busy": "2025-08-05T14:40:25.997118Z",
     "iopub.status.idle": "2025-08-05T14:40:26.002658Z",
     "shell.execute_reply": "2025-08-05T14:40:26.001626Z"
    },
    "papermill": {
     "duration": 0.033633,
     "end_time": "2025-08-05T14:40:26.004599",
     "exception": false,
     "start_time": "2025-08-05T14:40:25.970966",
     "status": "completed"
    },
    "tags": []
   },
   "outputs": [],
   "source": [
    "#cp_groups_df"
   ]
  },
  {
   "cell_type": "code",
   "execution_count": 58,
   "id": "90032e27-66df-4540-9169-4e89cfbaa758",
   "metadata": {
    "execution": {
     "iopub.execute_input": "2025-08-05T14:40:26.057399Z",
     "iopub.status.busy": "2025-08-05T14:40:26.056734Z",
     "iopub.status.idle": "2025-08-05T14:40:26.068365Z",
     "shell.execute_reply": "2025-08-05T14:40:26.067434Z"
    },
    "papermill": {
     "duration": 0.039267,
     "end_time": "2025-08-05T14:40:26.069956",
     "exception": false,
     "start_time": "2025-08-05T14:40:26.030689",
     "status": "completed"
    },
    "tags": []
   },
   "outputs": [],
   "source": [
    "subgroups = ['frau1','nongerman','nongerman_male','nongerman_female']\n",
    "\n",
    "# Conditional coverage for subgroup==1\n",
    "cond_coverage = {\n",
    "    g: cp_groups_df.loc[cp_groups_df[g]==1, 'covered'].mean()\n",
    "    for g in subgroups\n",
    "}"
   ]
  },
  {
   "cell_type": "code",
   "execution_count": 59,
   "id": "1e348fb1-b9c3-45bc-ba23-f016827a7e0d",
   "metadata": {
    "execution": {
     "iopub.execute_input": "2025-08-05T14:40:26.119964Z",
     "iopub.status.busy": "2025-08-05T14:40:26.119256Z",
     "iopub.status.idle": "2025-08-05T14:40:26.126323Z",
     "shell.execute_reply": "2025-08-05T14:40:26.125267Z"
    },
    "papermill": {
     "duration": 0.033694,
     "end_time": "2025-08-05T14:40:26.128114",
     "exception": false,
     "start_time": "2025-08-05T14:40:26.094420",
     "status": "completed"
    },
    "tags": []
   },
   "outputs": [
    {
     "data": {
      "text/plain": [
       "{'frau1': 0.9112279282922227,\n",
       " 'nongerman': 0.9417279514960983,\n",
       " 'nongerman_male': 0.9529856795460686,\n",
       " 'nongerman_female': 0.9230998509687034}"
      ]
     },
     "execution_count": 59,
     "metadata": {},
     "output_type": "execute_result"
    }
   ],
   "source": [
    "cond_coverage"
   ]
  },
  {
   "cell_type": "code",
   "execution_count": 60,
   "id": "f5093324-c3dd-4d63-bc4c-8d945e5c8bbb",
   "metadata": {
    "execution": {
     "iopub.execute_input": "2025-08-05T14:40:26.178694Z",
     "iopub.status.busy": "2025-08-05T14:40:26.177907Z",
     "iopub.status.idle": "2025-08-05T14:40:26.185460Z",
     "shell.execute_reply": "2025-08-05T14:40:26.184392Z"
    },
    "papermill": {
     "duration": 0.034627,
     "end_time": "2025-08-05T14:40:26.187323",
     "exception": false,
     "start_time": "2025-08-05T14:40:26.152696",
     "status": "completed"
    },
    "tags": []
   },
   "outputs": [],
   "source": [
    "for subgroup, cov in cond_coverage.items():\n",
    "    cp_metrics_df[f\"cov_{subgroup}\"] = cov"
   ]
  },
  {
   "cell_type": "code",
   "execution_count": 61,
   "id": "6e872e10-dbe5-49e8-b554-5030c98ff75d",
   "metadata": {
    "execution": {
     "iopub.execute_input": "2025-08-05T14:40:26.241890Z",
     "iopub.status.busy": "2025-08-05T14:40:26.240895Z",
     "iopub.status.idle": "2025-08-05T14:40:26.262054Z",
     "shell.execute_reply": "2025-08-05T14:40:26.260826Z"
    },
    "papermill": {
     "duration": 0.05007,
     "end_time": "2025-08-05T14:40:26.263901",
     "exception": false,
     "start_time": "2025-08-05T14:40:26.213831",
     "status": "completed"
    },
    "tags": []
   },
   "outputs": [
    {
     "data": {
      "text/html": [
       "<div>\n",
       "<style scoped>\n",
       "    .dataframe tbody tr th:only-of-type {\n",
       "        vertical-align: middle;\n",
       "    }\n",
       "\n",
       "    .dataframe tbody tr th {\n",
       "        vertical-align: top;\n",
       "    }\n",
       "\n",
       "    .dataframe thead th {\n",
       "        text-align: right;\n",
       "    }\n",
       "</style>\n",
       "<table border=\"1\" class=\"dataframe\">\n",
       "  <thead>\n",
       "    <tr style=\"text-align: right;\">\n",
       "      <th></th>\n",
       "      <th>universe_id</th>\n",
       "      <th>universe_training_year</th>\n",
       "      <th>universe_training_size</th>\n",
       "      <th>universe_scale</th>\n",
       "      <th>universe_model</th>\n",
       "      <th>universe_exclude_features</th>\n",
       "      <th>universe_exclude_subgroups</th>\n",
       "      <th>q_hat</th>\n",
       "      <th>coverage</th>\n",
       "      <th>avg_size</th>\n",
       "      <th>cov_frau1</th>\n",
       "      <th>cov_nongerman</th>\n",
       "      <th>cov_nongerman_male</th>\n",
       "      <th>cov_nongerman_female</th>\n",
       "    </tr>\n",
       "  </thead>\n",
       "  <tbody>\n",
       "    <tr>\n",
       "      <th>0</th>\n",
       "      <td>884b64730a617c018f56589b55a16a43</td>\n",
       "      <td>2014</td>\n",
       "      <td>25k</td>\n",
       "      <td>do-not-scale</td>\n",
       "      <td>logreg</td>\n",
       "      <td>nationality</td>\n",
       "      <td>drop-non-german</td>\n",
       "      <td>0.669028</td>\n",
       "      <td>0.912774</td>\n",
       "      <td>1.224891</td>\n",
       "      <td>0.911228</td>\n",
       "      <td>0.941728</td>\n",
       "      <td>0.952986</td>\n",
       "      <td>0.9231</td>\n",
       "    </tr>\n",
       "  </tbody>\n",
       "</table>\n",
       "</div>"
      ],
      "text/plain": [
       "                        universe_id universe_training_year  \\\n",
       "0  884b64730a617c018f56589b55a16a43                   2014   \n",
       "\n",
       "  universe_training_size universe_scale universe_model  \\\n",
       "0                    25k   do-not-scale         logreg   \n",
       "\n",
       "  universe_exclude_features universe_exclude_subgroups     q_hat  coverage  \\\n",
       "0               nationality            drop-non-german  0.669028  0.912774   \n",
       "\n",
       "   avg_size  cov_frau1  cov_nongerman  cov_nongerman_male  \\\n",
       "0  1.224891   0.911228       0.941728            0.952986   \n",
       "\n",
       "   cov_nongerman_female  \n",
       "0                0.9231  "
      ]
     },
     "execution_count": 61,
     "metadata": {},
     "output_type": "execute_result"
    }
   ],
   "source": [
    "cp_metrics_df"
   ]
  },
  {
   "cell_type": "markdown",
   "id": "33774451",
   "metadata": {
    "papermill": {
     "duration": 0.024648,
     "end_time": "2025-08-05T14:40:26.315049",
     "exception": false,
     "start_time": "2025-08-05T14:40:26.290401",
     "status": "completed"
    },
    "tags": []
   },
   "source": [
    "# (Fairness) Metrics"
   ]
  },
  {
   "cell_type": "code",
   "execution_count": 62,
   "id": "debc5d62",
   "metadata": {
    "execution": {
     "iopub.execute_input": "2025-08-05T14:40:26.367491Z",
     "iopub.status.busy": "2025-08-05T14:40:26.366813Z",
     "iopub.status.idle": "2025-08-05T14:40:26.387220Z",
     "shell.execute_reply": "2025-08-05T14:40:26.386256Z"
    },
    "papermill": {
     "duration": 0.048531,
     "end_time": "2025-08-05T14:40:26.388826",
     "exception": false,
     "start_time": "2025-08-05T14:40:26.340295",
     "status": "completed"
    },
    "tags": []
   },
   "outputs": [],
   "source": [
    "# do I need to include maxdeutsch1.missing?\n",
    "\n",
    "import numpy as np\n",
    "\n",
    "colname_to_bin = \"maxdeutsch1\"\n",
    "majority_value = org_train[colname_to_bin].mode()[0]\n",
    "\n",
    "org_test[\"majmin\"] = np.where(org_test[colname_to_bin] == majority_value, \"majority\", \"minority\")"
   ]
  },
  {
   "cell_type": "code",
   "execution_count": 63,
   "id": "06a50de5",
   "metadata": {
    "execution": {
     "iopub.execute_input": "2025-08-05T14:40:26.437347Z",
     "iopub.status.busy": "2025-08-05T14:40:26.436839Z",
     "iopub.status.idle": "2025-08-05T14:40:28.343150Z",
     "shell.execute_reply": "2025-08-05T14:40:28.342203Z"
    },
    "papermill": {
     "duration": 1.930844,
     "end_time": "2025-08-05T14:40:28.345035",
     "exception": false,
     "start_time": "2025-08-05T14:40:26.414191",
     "status": "completed"
    },
    "tags": []
   },
   "outputs": [],
   "source": [
    "example_universe = universe.copy()\n",
    "example_universe[\"cutoff\"] = example_universe[\"cutoff\"][0]\n",
    "example_universe[\"eval_fairness_grouping\"] = example_universe[\"eval_fairness_grouping\"][0]\n",
    "fairness_dict, metric_frame = universe_analysis.compute_metrics(\n",
    "    example_universe,\n",
    "    y_pred_prob=probs_test,\n",
    "    y_test=y_true,\n",
    "    org_test=org_test,\n",
    ")"
   ]
  },
  {
   "cell_type": "markdown",
   "id": "f95d4e02",
   "metadata": {
    "papermill": {
     "duration": 0.025549,
     "end_time": "2025-08-05T14:40:28.396163",
     "exception": false,
     "start_time": "2025-08-05T14:40:28.370614",
     "status": "completed"
    },
    "tags": []
   },
   "source": [
    "# Overall"
   ]
  },
  {
   "cell_type": "markdown",
   "id": "bdee4871",
   "metadata": {
    "papermill": {
     "duration": 0.024822,
     "end_time": "2025-08-05T14:40:28.445837",
     "exception": false,
     "start_time": "2025-08-05T14:40:28.421015",
     "status": "completed"
    },
    "tags": []
   },
   "source": [
    "Fairness\n",
    "Main fairness target: Equalized Odds. Seems to be a better fit than equal opportunity, since we're not only interested in Y = 1. Seems to be a better fit than demographic parity, since we also care about accuracy, not just equal distribution of preds.\n",
    "\n",
    "Pick column for computation of fairness metrics\n",
    "\n",
    "Performance\n",
    "Overall performance measures, most interesting in relation to the measures split by group below"
   ]
  },
  {
   "cell_type": "code",
   "execution_count": 64,
   "id": "c4e067c6",
   "metadata": {
    "execution": {
     "iopub.execute_input": "2025-08-05T14:40:28.495783Z",
     "iopub.status.busy": "2025-08-05T14:40:28.494869Z",
     "iopub.status.idle": "2025-08-05T14:40:28.503119Z",
     "shell.execute_reply": "2025-08-05T14:40:28.502164Z"
    },
    "papermill": {
     "duration": 0.035107,
     "end_time": "2025-08-05T14:40:28.504821",
     "exception": false,
     "start_time": "2025-08-05T14:40:28.469714",
     "status": "completed"
    },
    "tags": []
   },
   "outputs": [
    {
     "data": {
      "text/plain": [
       "accuracy                   0.217334\n",
       "balanced accuracy          0.532886\n",
       "f1                         0.238859\n",
       "precision                  0.136452\n",
       "false positive rate        0.891563\n",
       "false negative rate        0.042666\n",
       "selection rate             0.900000\n",
       "count                  89710.000000\n",
       "dtype: float64"
      ]
     },
     "execution_count": 64,
     "metadata": {},
     "output_type": "execute_result"
    }
   ],
   "source": [
    "metric_frame.overall"
   ]
  },
  {
   "cell_type": "markdown",
   "id": "e968fe9d",
   "metadata": {
    "papermill": {
     "duration": 0.023947,
     "end_time": "2025-08-05T14:40:28.555561",
     "exception": false,
     "start_time": "2025-08-05T14:40:28.531614",
     "status": "completed"
    },
    "tags": []
   },
   "source": [
    "By Group"
   ]
  },
  {
   "cell_type": "code",
   "execution_count": 65,
   "id": "ec325bce",
   "metadata": {
    "execution": {
     "iopub.execute_input": "2025-08-05T14:40:28.606233Z",
     "iopub.status.busy": "2025-08-05T14:40:28.605745Z",
     "iopub.status.idle": "2025-08-05T14:40:28.621203Z",
     "shell.execute_reply": "2025-08-05T14:40:28.620099Z"
    },
    "papermill": {
     "duration": 0.043486,
     "end_time": "2025-08-05T14:40:28.622958",
     "exception": false,
     "start_time": "2025-08-05T14:40:28.579472",
     "status": "completed"
    },
    "tags": []
   },
   "outputs": [
    {
     "data": {
      "text/html": [
       "<div>\n",
       "<style scoped>\n",
       "    .dataframe tbody tr th:only-of-type {\n",
       "        vertical-align: middle;\n",
       "    }\n",
       "\n",
       "    .dataframe tbody tr th {\n",
       "        vertical-align: top;\n",
       "    }\n",
       "\n",
       "    .dataframe thead th {\n",
       "        text-align: right;\n",
       "    }\n",
       "</style>\n",
       "<table border=\"1\" class=\"dataframe\">\n",
       "  <thead>\n",
       "    <tr style=\"text-align: right;\">\n",
       "      <th></th>\n",
       "      <th>accuracy</th>\n",
       "      <th>balanced accuracy</th>\n",
       "      <th>f1</th>\n",
       "      <th>precision</th>\n",
       "      <th>false positive rate</th>\n",
       "      <th>false negative rate</th>\n",
       "      <th>selection rate</th>\n",
       "      <th>count</th>\n",
       "    </tr>\n",
       "    <tr>\n",
       "      <th>majmin</th>\n",
       "      <th></th>\n",
       "      <th></th>\n",
       "      <th></th>\n",
       "      <th></th>\n",
       "      <th></th>\n",
       "      <th></th>\n",
       "      <th></th>\n",
       "      <th></th>\n",
       "    </tr>\n",
       "  </thead>\n",
       "  <tbody>\n",
       "    <tr>\n",
       "      <th>majority</th>\n",
       "      <td>0.239743</td>\n",
       "      <td>0.540615</td>\n",
       "      <td>0.248166</td>\n",
       "      <td>0.142735</td>\n",
       "      <td>0.868333</td>\n",
       "      <td>0.050438</td>\n",
       "      <td>0.879066</td>\n",
       "      <td>69170.0</td>\n",
       "    </tr>\n",
       "    <tr>\n",
       "      <th>minority</th>\n",
       "      <td>0.141870</td>\n",
       "      <td>0.509514</td>\n",
       "      <td>0.209667</td>\n",
       "      <td>0.117287</td>\n",
       "      <td>0.968303</td>\n",
       "      <td>0.012669</td>\n",
       "      <td>0.970497</td>\n",
       "      <td>20540.0</td>\n",
       "    </tr>\n",
       "  </tbody>\n",
       "</table>\n",
       "</div>"
      ],
      "text/plain": [
       "          accuracy  balanced accuracy        f1  precision  \\\n",
       "majmin                                                       \n",
       "majority  0.239743           0.540615  0.248166   0.142735   \n",
       "minority  0.141870           0.509514  0.209667   0.117287   \n",
       "\n",
       "          false positive rate  false negative rate  selection rate    count  \n",
       "majmin                                                                       \n",
       "majority             0.868333             0.050438        0.879066  69170.0  \n",
       "minority             0.968303             0.012669        0.970497  20540.0  "
      ]
     },
     "execution_count": 65,
     "metadata": {},
     "output_type": "execute_result"
    }
   ],
   "source": [
    "metric_frame.by_group"
   ]
  },
  {
   "cell_type": "code",
   "execution_count": 66,
   "id": "a9ddbe63",
   "metadata": {
    "execution": {
     "iopub.execute_input": "2025-08-05T14:40:28.675424Z",
     "iopub.status.busy": "2025-08-05T14:40:28.674548Z",
     "iopub.status.idle": "2025-08-05T14:40:30.954039Z",
     "shell.execute_reply": "2025-08-05T14:40:30.953064Z"
    },
    "papermill": {
     "duration": 2.30599,
     "end_time": "2025-08-05T14:40:30.955608",
     "exception": false,
     "start_time": "2025-08-05T14:40:28.649618",
     "status": "completed"
    },
    "tags": []
   },
   "outputs": [
    {
     "data": {
      "text/plain": [
       "array([[<Axes: title={'center': 'accuracy'}, xlabel='majmin'>,\n",
       "        <Axes: title={'center': 'balanced accuracy'}, xlabel='majmin'>,\n",
       "        <Axes: title={'center': 'f1'}, xlabel='majmin'>],\n",
       "       [<Axes: title={'center': 'precision'}, xlabel='majmin'>,\n",
       "        <Axes: title={'center': 'false positive rate'}, xlabel='majmin'>,\n",
       "        <Axes: title={'center': 'false negative rate'}, xlabel='majmin'>],\n",
       "       [<Axes: title={'center': 'selection rate'}, xlabel='majmin'>,\n",
       "        <Axes: title={'center': 'count'}, xlabel='majmin'>,\n",
       "        <Axes: xlabel='majmin'>]], dtype=object)"
      ]
     },
     "execution_count": 66,
     "metadata": {},
     "output_type": "execute_result"
    },
    {
     "data": {
      "image/png": "[encoded data removed]",
      "text/plain": [
       "<Figure size 1200x800 with 9 Axes>"
      ]
     },
     "metadata": {},
     "output_type": "display_data"
    }
   ],
   "source": [
    "# In a graphic\n",
    "metric_frame.by_group.plot.bar(\n",
    "    subplots=True,\n",
    "    layout=[3, 3],\n",
    "    legend=False,\n",
    "    figsize=[12, 8],\n",
    "    title=\"Show all metrics\",\n",
    ")"
   ]
  },
  {
   "cell_type": "markdown",
   "id": "f57a0bac",
   "metadata": {
    "papermill": {
     "duration": 0.029318,
     "end_time": "2025-08-05T14:40:31.013840",
     "exception": false,
     "start_time": "2025-08-05T14:40:30.984522",
     "status": "completed"
    },
    "tags": []
   },
   "source": [
    "# Final Output"
   ]
  },
  {
   "cell_type": "code",
   "execution_count": 67,
   "id": "96d280a3",
   "metadata": {
    "execution": {
     "iopub.execute_input": "2025-08-05T14:40:31.072060Z",
     "iopub.status.busy": "2025-08-05T14:40:31.070919Z",
     "iopub.status.idle": "2025-08-05T14:40:31.079946Z",
     "shell.execute_reply": "2025-08-05T14:40:31.078900Z"
    },
    "papermill": {
     "duration": 0.039602,
     "end_time": "2025-08-05T14:40:31.081564",
     "exception": false,
     "start_time": "2025-08-05T14:40:31.041962",
     "status": "completed"
    },
    "tags": []
   },
   "outputs": [
    {
     "data": {
      "text/plain": [
       "4"
      ]
     },
     "execution_count": 67,
     "metadata": {},
     "output_type": "execute_result"
    }
   ],
   "source": [
    "sub_universes = universe_analysis.generate_sub_universes()\n",
    "len(sub_universes)"
   ]
  },
  {
   "cell_type": "code",
   "execution_count": 68,
   "id": "92adf7ba",
   "metadata": {
    "execution": {
     "iopub.execute_input": "2025-08-05T14:40:31.138901Z",
     "iopub.status.busy": "2025-08-05T14:40:31.138478Z",
     "iopub.status.idle": "2025-08-05T14:40:31.184045Z",
     "shell.execute_reply": "2025-08-05T14:40:31.182967Z"
    },
    "papermill": {
     "duration": 0.076059,
     "end_time": "2025-08-05T14:40:31.185835",
     "exception": false,
     "start_time": "2025-08-05T14:40:31.109776",
     "status": "completed"
    },
    "tags": []
   },
   "outputs": [],
   "source": [
    "def filter_sub_universe_data(sub_universe, org_test):\n",
    "    # Keep all rows — no filtering\n",
    "    keep_rows_mask = np.ones(org_test.shape[0], dtype=bool)\n",
    "\n",
    "    print(f\"[INFO] Keeping all rows: {keep_rows_mask.sum()} rows retained.\")\n",
    "    return keep_rows_mask"
   ]
  },
  {
   "cell_type": "code",
   "execution_count": 69,
   "id": "4a759155",
   "metadata": {
    "execution": {
     "iopub.execute_input": "2025-08-05T14:40:31.240161Z",
     "iopub.status.busy": "2025-08-05T14:40:31.239420Z",
     "iopub.status.idle": "2025-08-05T14:40:41.455171Z",
     "shell.execute_reply": "2025-08-05T14:40:41.454168Z"
    },
    "papermill": {
     "duration": 10.243896,
     "end_time": "2025-08-05T14:40:41.456798",
     "exception": false,
     "start_time": "2025-08-05T14:40:31.212902",
     "status": "completed"
    },
    "tags": []
   },
   "outputs": [
    {
     "name": "stdout",
     "output_type": "stream",
     "text": [
      "Stopping execution_time clock.\n",
      "[INFO] Keeping all rows: 89710 rows retained.\n"
     ]
    },
    {
     "name": "stdout",
     "output_type": "stream",
     "text": [
      "[INFO] Keeping all rows: 89710 rows retained.\n"
     ]
    },
    {
     "name": "stdout",
     "output_type": "stream",
     "text": [
      "[INFO] Keeping all rows: 89710 rows retained.\n"
     ]
    },
    {
     "name": "stdout",
     "output_type": "stream",
     "text": [
      "[INFO] Keeping all rows: 89710 rows retained.\n"
     ]
    },
    {
     "data": {
      "text/html": [
       "<div>\n",
       "<style scoped>\n",
       "    .dataframe tbody tr th:only-of-type {\n",
       "        vertical-align: middle;\n",
       "    }\n",
       "\n",
       "    .dataframe tbody tr th {\n",
       "        vertical-align: top;\n",
       "    }\n",
       "\n",
       "    .dataframe thead th {\n",
       "        text-align: right;\n",
       "    }\n",
       "</style>\n",
       "<table border=\"1\" class=\"dataframe\">\n",
       "  <thead>\n",
       "    <tr style=\"text-align: right;\">\n",
       "      <th></th>\n",
       "      <th>run_no</th>\n",
       "      <th>universe_id</th>\n",
       "      <th>universe_settings</th>\n",
       "      <th>execution_time</th>\n",
       "      <th>test_size_n</th>\n",
       "      <th>test_size_frac</th>\n",
       "      <th>fair_main_equalized_odds_difference</th>\n",
       "      <th>fair_main_equalized_odds_ratio</th>\n",
       "      <th>fair_main_demographic_parity_difference</th>\n",
       "      <th>fair_main_demographic_parity_ratio</th>\n",
       "      <th>...</th>\n",
       "      <th>perf_grp_precision_0</th>\n",
       "      <th>perf_grp_precision_1</th>\n",
       "      <th>perf_grp_false positive rate_0</th>\n",
       "      <th>perf_grp_false positive rate_1</th>\n",
       "      <th>perf_grp_false negative rate_0</th>\n",
       "      <th>perf_grp_false negative rate_1</th>\n",
       "      <th>perf_grp_selection rate_0</th>\n",
       "      <th>perf_grp_selection rate_1</th>\n",
       "      <th>perf_grp_count_0</th>\n",
       "      <th>perf_grp_count_1</th>\n",
       "    </tr>\n",
       "  </thead>\n",
       "  <tbody>\n",
       "    <tr>\n",
       "      <th>0</th>\n",
       "      <td>15</td>\n",
       "      <td>884b64730a617c018f56589b55a16a43</td>\n",
       "      <td>{\"cutoff\": \"quantile_0.1\", \"eval_fairness_grou...</td>\n",
       "      <td>25.810918</td>\n",
       "      <td>89710</td>\n",
       "      <td>1.0</td>\n",
       "      <td>0.099970</td>\n",
       "      <td>0.896757</td>\n",
       "      <td>0.091431</td>\n",
       "      <td>0.905790</td>\n",
       "      <td>...</td>\n",
       "      <td>NaN</td>\n",
       "      <td>NaN</td>\n",
       "      <td>NaN</td>\n",
       "      <td>NaN</td>\n",
       "      <td>NaN</td>\n",
       "      <td>NaN</td>\n",
       "      <td>NaN</td>\n",
       "      <td>NaN</td>\n",
       "      <td>NaN</td>\n",
       "      <td>NaN</td>\n",
       "    </tr>\n",
       "    <tr>\n",
       "      <th>0</th>\n",
       "      <td>15</td>\n",
       "      <td>884b64730a617c018f56589b55a16a43</td>\n",
       "      <td>{\"cutoff\": \"quantile_0.1\", \"eval_fairness_grou...</td>\n",
       "      <td>25.810918</td>\n",
       "      <td>89710</td>\n",
       "      <td>1.0</td>\n",
       "      <td>0.099970</td>\n",
       "      <td>0.896757</td>\n",
       "      <td>0.091431</td>\n",
       "      <td>0.905790</td>\n",
       "      <td>...</td>\n",
       "      <td>0.117287</td>\n",
       "      <td>0.142735</td>\n",
       "      <td>0.968303</td>\n",
       "      <td>0.868333</td>\n",
       "      <td>0.012669</td>\n",
       "      <td>0.050438</td>\n",
       "      <td>0.970497</td>\n",
       "      <td>0.879066</td>\n",
       "      <td>20540.0</td>\n",
       "      <td>69170.0</td>\n",
       "    </tr>\n",
       "    <tr>\n",
       "      <th>0</th>\n",
       "      <td>15</td>\n",
       "      <td>884b64730a617c018f56589b55a16a43</td>\n",
       "      <td>{\"cutoff\": \"quantile_0.25\", \"eval_fairness_gro...</td>\n",
       "      <td>25.810918</td>\n",
       "      <td>89710</td>\n",
       "      <td>1.0</td>\n",
       "      <td>0.223228</td>\n",
       "      <td>0.752607</td>\n",
       "      <td>0.204779</td>\n",
       "      <td>0.774445</td>\n",
       "      <td>...</td>\n",
       "      <td>NaN</td>\n",
       "      <td>NaN</td>\n",
       "      <td>NaN</td>\n",
       "      <td>NaN</td>\n",
       "      <td>NaN</td>\n",
       "      <td>NaN</td>\n",
       "      <td>NaN</td>\n",
       "      <td>NaN</td>\n",
       "      <td>NaN</td>\n",
       "      <td>NaN</td>\n",
       "    </tr>\n",
       "    <tr>\n",
       "      <th>0</th>\n",
       "      <td>15</td>\n",
       "      <td>884b64730a617c018f56589b55a16a43</td>\n",
       "      <td>{\"cutoff\": \"quantile_0.25\", \"eval_fairness_gro...</td>\n",
       "      <td>25.810918</td>\n",
       "      <td>89710</td>\n",
       "      <td>1.0</td>\n",
       "      <td>0.223228</td>\n",
       "      <td>0.752607</td>\n",
       "      <td>0.204779</td>\n",
       "      <td>0.774445</td>\n",
       "      <td>...</td>\n",
       "      <td>0.120710</td>\n",
       "      <td>0.161780</td>\n",
       "      <td>0.902322</td>\n",
       "      <td>0.679094</td>\n",
       "      <td>0.049409</td>\n",
       "      <td>0.139168</td>\n",
       "      <td>0.907887</td>\n",
       "      <td>0.703108</td>\n",
       "      <td>20540.0</td>\n",
       "      <td>69170.0</td>\n",
       "    </tr>\n",
       "  </tbody>\n",
       "</table>\n",
       "<p>4 rows × 50 columns</p>\n",
       "</div>"
      ],
      "text/plain": [
       "  run_no                       universe_id  \\\n",
       "0     15  884b64730a617c018f56589b55a16a43   \n",
       "0     15  884b64730a617c018f56589b55a16a43   \n",
       "0     15  884b64730a617c018f56589b55a16a43   \n",
       "0     15  884b64730a617c018f56589b55a16a43   \n",
       "\n",
       "                                   universe_settings  execution_time  \\\n",
       "0  {\"cutoff\": \"quantile_0.1\", \"eval_fairness_grou...       25.810918   \n",
       "0  {\"cutoff\": \"quantile_0.1\", \"eval_fairness_grou...       25.810918   \n",
       "0  {\"cutoff\": \"quantile_0.25\", \"eval_fairness_gro...       25.810918   \n",
       "0  {\"cutoff\": \"quantile_0.25\", \"eval_fairness_gro...       25.810918   \n",
       "\n",
       "   test_size_n  test_size_frac  fair_main_equalized_odds_difference  \\\n",
       "0        89710             1.0                             0.099970   \n",
       "0        89710             1.0                             0.099970   \n",
       "0        89710             1.0                             0.223228   \n",
       "0        89710             1.0                             0.223228   \n",
       "\n",
       "   fair_main_equalized_odds_ratio  fair_main_demographic_parity_difference  \\\n",
       "0                        0.896757                                 0.091431   \n",
       "0                        0.896757                                 0.091431   \n",
       "0                        0.752607                                 0.204779   \n",
       "0                        0.752607                                 0.204779   \n",
       "\n",
       "   fair_main_demographic_parity_ratio  ...  perf_grp_precision_0  \\\n",
       "0                            0.905790  ...                   NaN   \n",
       "0                            0.905790  ...              0.117287   \n",
       "0                            0.774445  ...                   NaN   \n",
       "0                            0.774445  ...              0.120710   \n",
       "\n",
       "   perf_grp_precision_1  perf_grp_false positive rate_0  \\\n",
       "0                   NaN                             NaN   \n",
       "0              0.142735                        0.968303   \n",
       "0                   NaN                             NaN   \n",
       "0              0.161780                        0.902322   \n",
       "\n",
       "   perf_grp_false positive rate_1  perf_grp_false negative rate_0  \\\n",
       "0                             NaN                             NaN   \n",
       "0                        0.868333                        0.012669   \n",
       "0                             NaN                             NaN   \n",
       "0                        0.679094                        0.049409   \n",
       "\n",
       "   perf_grp_false negative rate_1  perf_grp_selection rate_0  \\\n",
       "0                             NaN                        NaN   \n",
       "0                        0.050438                   0.970497   \n",
       "0                             NaN                        NaN   \n",
       "0                        0.139168                   0.907887   \n",
       "\n",
       "   perf_grp_selection rate_1  perf_grp_count_0  perf_grp_count_1  \n",
       "0                        NaN               NaN               NaN  \n",
       "0                   0.879066           20540.0           69170.0  \n",
       "0                        NaN               NaN               NaN  \n",
       "0                   0.703108           20540.0           69170.0  \n",
       "\n",
       "[4 rows x 50 columns]"
      ]
     },
     "execution_count": 69,
     "metadata": {},
     "output_type": "execute_result"
    }
   ],
   "source": [
    "final_output = universe_analysis.generate_final_output(\n",
    "    y_pred_prob=probs_test,\n",
    "    y_test=y_true,\n",
    "    org_test=org_test,\n",
    "    filter_data=filter_sub_universe_data,\n",
    "    cp_metrics_df=cp_metrics_df,\n",
    "    save=True,\n",
    ")\n",
    "final_output"
   ]
  },
  {
   "cell_type": "code",
   "execution_count": null,
   "id": "721ff514-cb11-46f8-b6fc-50392f74b5cb",
   "metadata": {
    "papermill": {
     "duration": 0.013444,
     "end_time": "2025-08-05T14:40:41.487549",
     "exception": false,
     "start_time": "2025-08-05T14:40:41.474105",
     "status": "completed"
    },
    "tags": []
   },
   "outputs": [],
   "source": []
  }
 ],
 "metadata": {
  "celltoolbar": "Tags",
  "kernelspec": {
   "display_name": "Python (CMA Fairness)",
   "language": "python",
   "name": "cma_fair_env"
  },
  "language_info": {
   "codemirror_mode": {
    "name": "ipython",
    "version": 3
   },
   "file_extension": ".py",
   "mimetype": "text/x-python",
   "name": "python",
   "nbconvert_exporter": "python",
   "pygments_lexer": "ipython3",
   "version": "3.10.12"
  },
  "papermill": {
   "default_parameters": {},
   "duration": 40.290479,
   "end_time": "2025-08-05T14:40:42.328133",
   "environment_variables": {},
   "exception": null,
   "input_path": "universe_analysis.ipynb",
   "output_path": "output/runs/15/notebooks/m_15-884b64730a617c018f56589b55a16a43.ipynb",
   "parameters": {
    "output_dir": "output",
    "run_no": "15",
    "seed": "2023",
    "universe": "{\"cutoff\": [\"quantile_0.1\", \"quantile_0.25\"], \"eval_fairness_grouping\": [\"majority-minority\", \"nationality-all\"], \"exclude_features\": \"nationality\", \"exclude_subgroups\": \"drop-non-german\", \"model\": \"logreg\", \"scale\": \"do-not-scale\", \"training_size\": \"25k\", \"training_year\": \"2014\"}",
    "universe_id": "884b64730a617c018f56589b55a16a43"
   },
   "start_time": "2025-08-05T14:40:02.037654",
   "version": "2.6.0"
  }
 },
 "nbformat": 4,
 "nbformat_minor": 5
}