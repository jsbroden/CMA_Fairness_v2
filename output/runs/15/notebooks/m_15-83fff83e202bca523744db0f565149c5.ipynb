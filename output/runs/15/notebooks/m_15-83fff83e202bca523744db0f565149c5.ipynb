{
 "cells": [
  {
   "cell_type": "code",
   "execution_count": 1,
   "id": "f159f837-637b-42ba-96b5-ec9a68c44524",
   "metadata": {
    "execution": {
     "iopub.execute_input": "2025-08-05T16:33:02.100006Z",
     "iopub.status.busy": "2025-08-05T16:33:02.099499Z",
     "iopub.status.idle": "2025-08-05T16:33:02.113505Z",
     "shell.execute_reply": "2025-08-05T16:33:02.112508Z"
    },
    "papermill": {
     "duration": 0.02914,
     "end_time": "2025-08-05T16:33:02.115309",
     "exception": false,
     "start_time": "2025-08-05T16:33:02.086169",
     "status": "completed"
    },
    "tags": []
   },
   "outputs": [
    {
     "name": "stdout",
     "output_type": "stream",
     "text": [
      "/dss/dsshome1/0C/ra93lal2/cma/CMA_Fairness_v2\n"
     ]
    },
    {
     "name": "stderr",
     "output_type": "stream",
     "text": [
      "/dss/dsshome1/0C/ra93lal2/.local/share/virtualenvs/CMA_Fairness_v2-3j10GkSs/lib/python3.10/site-packages/IPython/core/magics/osm.py:393: UserWarning: This is now an optional IPython functionality, using bookmarks requires you to install the `pickleshare` library.\n",
      "  bkms = self.shell.db.get('bookmarks', {})\n",
      "/dss/dsshome1/0C/ra93lal2/.local/share/virtualenvs/CMA_Fairness_v2-3j10GkSs/lib/python3.10/site-packages/IPython/core/magics/osm.py:417: UserWarning: This is now an optional IPython functionality, setting dhist requires you to install the `pickleshare` library.\n",
      "  self.shell.db['dhist'] = compress_dhist(dhist)[-100:]\n"
     ]
    }
   ],
   "source": [
    "%cd ~/cma/CMA_Fairness_v2"
   ]
  },
  {
   "cell_type": "markdown",
   "id": "de2603b9",
   "metadata": {
    "papermill": {
     "duration": 0.021106,
     "end_time": "2025-08-05T16:33:02.156008",
     "exception": false,
     "start_time": "2025-08-05T16:33:02.134902",
     "status": "completed"
    },
    "tags": []
   },
   "source": [
    "The following cell holds the definition of our parameters, these values can be overriden by rendering the with e.g. the following command:\n",
    "\n",
    "papermill -p alpha 0.2 -p ratio 0.3 universe_analysis.ipynb output/test_run.ipynb"
   ]
  },
  {
   "cell_type": "code",
   "execution_count": 2,
   "id": "a80968a0-40bb-4fa9-85ef-2d5eefb01975",
   "metadata": {
    "execution": {
     "iopub.execute_input": "2025-08-05T16:33:02.175175Z",
     "iopub.status.busy": "2025-08-05T16:33:02.174555Z",
     "iopub.status.idle": "2025-08-05T16:33:02.179542Z",
     "shell.execute_reply": "2025-08-05T16:33:02.178620Z"
    },
    "papermill": {
     "duration": 0.016142,
     "end_time": "2025-08-05T16:33:02.180910",
     "exception": false,
     "start_time": "2025-08-05T16:33:02.164768",
     "status": "completed"
    },
    "tags": []
   },
   "outputs": [
    {
     "name": "stdout",
     "output_type": "stream",
     "text": [
      "Current working directory: /dss/dsshome1/0C/ra93lal2/cma/CMA_Fairness_v2\n"
     ]
    }
   ],
   "source": [
    "import os\n",
    "print(\"Current working directory:\", os.getcwd())"
   ]
  },
  {
   "cell_type": "code",
   "execution_count": 3,
   "id": "2dce4c03",
   "metadata": {
    "execution": {
     "iopub.execute_input": "2025-08-05T16:33:02.211522Z",
     "iopub.status.busy": "2025-08-05T16:33:02.211025Z",
     "iopub.status.idle": "2025-08-05T16:33:02.217817Z",
     "shell.execute_reply": "2025-08-05T16:33:02.216719Z"
    },
    "papermill": {
     "duration": 0.028152,
     "end_time": "2025-08-05T16:33:02.219828",
     "exception": false,
     "start_time": "2025-08-05T16:33:02.191676",
     "status": "completed"
    },
    "tags": [
     "parameters"
    ]
   },
   "outputs": [],
   "source": [
    "run_no = 0\n",
    "universe_id = \"test\"\n",
    "universe = {\n",
    "    \"training_size\": \"25k\", # \"25k\", \"5k\", \"1k\"\n",
    "    \"training_year\": \"2014\", # \"2014\", \"2012_14\", \"2010_14\"\n",
    "    \"scale\": \"scale\", # \"scale\", \"do-not-scale\",\n",
    "    \"model\": \"elasticnet\", # \"logreg\", \"penalized_logreg\", \"rf\", \"gbm\", \"elasticnet\"\n",
    "    \"cutoff\": [\"quantile_0.15\", \"quantile_0.30\"],\n",
    "    \"exclude_features\": \"age\", # \"none\", \"nationality\", \"sex\", \"nationality-sex\", \"age\"\n",
    "    \"exclude_subgroups\": \"keep-all\", # \"keep-all\", \"drop-non-german\"\n",
    "    \"eval_fairness_grouping\": [\"majority-minority\", \"nationality-all\"]\n",
    "}\n",
    "\n",
    "output_dir=\"./output\"\n",
    "seed=0"
   ]
  },
  {
   "cell_type": "code",
   "execution_count": 4,
   "id": "b27f4a98",
   "metadata": {
    "execution": {
     "iopub.execute_input": "2025-08-05T16:33:02.258005Z",
     "iopub.status.busy": "2025-08-05T16:33:02.256972Z",
     "iopub.status.idle": "2025-08-05T16:33:02.262949Z",
     "shell.execute_reply": "2025-08-05T16:33:02.261928Z"
    },
    "papermill": {
     "duration": 0.026801,
     "end_time": "2025-08-05T16:33:02.264765",
     "exception": false,
     "start_time": "2025-08-05T16:33:02.237964",
     "status": "completed"
    },
    "tags": [
     "injected-parameters"
    ]
   },
   "outputs": [],
   "source": [
    "# Parameters\n",
    "universe_id = \"83fff83e202bca523744db0f565149c5\"\n",
    "run_no = \"15\"\n",
    "universe = \"{\\\"cutoff\\\": [\\\"quantile_0.1\\\", \\\"quantile_0.25\\\"], \\\"eval_fairness_grouping\\\": [\\\"majority-minority\\\", \\\"nationality-all\\\"], \\\"exclude_features\\\": \\\"sex\\\", \\\"exclude_subgroups\\\": \\\"keep-all\\\", \\\"model\\\": \\\"penalized_logreg\\\", \\\"scale\\\": \\\"scale\\\", \\\"training_size\\\": \\\"1k\\\", \\\"training_year\\\": \\\"2010_14\\\"}\"\n",
    "output_dir = \"output\"\n",
    "seed = \"2023\"\n"
   ]
  },
  {
   "cell_type": "code",
   "execution_count": 5,
   "id": "1650acaf",
   "metadata": {
    "execution": {
     "iopub.execute_input": "2025-08-05T16:33:02.301001Z",
     "iopub.status.busy": "2025-08-05T16:33:02.300080Z",
     "iopub.status.idle": "2025-08-05T16:33:02.305822Z",
     "shell.execute_reply": "2025-08-05T16:33:02.304760Z"
    },
    "papermill": {
     "duration": 0.025516,
     "end_time": "2025-08-05T16:33:02.307687",
     "exception": false,
     "start_time": "2025-08-05T16:33:02.282171",
     "status": "completed"
    },
    "tags": []
   },
   "outputs": [],
   "source": [
    "import json\n",
    "if isinstance(universe, str):\n",
    "    universe = json.loads(universe)"
   ]
  },
  {
   "cell_type": "code",
   "execution_count": 6,
   "id": "16620c48",
   "metadata": {
    "execution": {
     "iopub.execute_input": "2025-08-05T16:33:02.346208Z",
     "iopub.status.busy": "2025-08-05T16:33:02.345254Z",
     "iopub.status.idle": "2025-08-05T16:33:02.392281Z",
     "shell.execute_reply": "2025-08-05T16:33:02.391246Z"
    },
    "papermill": {
     "duration": 0.067765,
     "end_time": "2025-08-05T16:33:02.394119",
     "exception": false,
     "start_time": "2025-08-05T16:33:02.326354",
     "status": "completed"
    },
    "tags": []
   },
   "outputs": [],
   "source": [
    "# Auto-reload the custom package\n",
    "%load_ext autoreload\n",
    "%autoreload 1\n",
    "%aimport fairness_multiverse"
   ]
  },
  {
   "cell_type": "code",
   "execution_count": 7,
   "id": "01c5c9f3",
   "metadata": {
    "execution": {
     "iopub.execute_input": "2025-08-05T16:33:02.430145Z",
     "iopub.status.busy": "2025-08-05T16:33:02.429249Z",
     "iopub.status.idle": "2025-08-05T16:33:04.307609Z",
     "shell.execute_reply": "2025-08-05T16:33:04.306627Z"
    },
    "papermill": {
     "duration": 1.898204,
     "end_time": "2025-08-05T16:33:04.309590",
     "exception": false,
     "start_time": "2025-08-05T16:33:02.411386",
     "status": "completed"
    },
    "tags": []
   },
   "outputs": [],
   "source": [
    "from fairness_multiverse.universe import UniverseAnalysis\n",
    "\n",
    "universe_analysis = UniverseAnalysis(\n",
    "    run_no = run_no,\n",
    "    universe_id = universe_id,\n",
    "    universe = universe,\n",
    "    output_dir=output_dir,\n",
    ")"
   ]
  },
  {
   "cell_type": "code",
   "execution_count": 8,
   "id": "106241f5",
   "metadata": {
    "execution": {
     "iopub.execute_input": "2025-08-05T16:33:04.346767Z",
     "iopub.status.busy": "2025-08-05T16:33:04.346067Z",
     "iopub.status.idle": "2025-08-05T16:33:04.352754Z",
     "shell.execute_reply": "2025-08-05T16:33:04.351791Z"
    },
    "papermill": {
     "duration": 0.026806,
     "end_time": "2025-08-05T16:33:04.354553",
     "exception": false,
     "start_time": "2025-08-05T16:33:04.327747",
     "status": "completed"
    },
    "tags": []
   },
   "outputs": [
    {
     "name": "stdout",
     "output_type": "stream",
     "text": [
      "Using Seed: 2023\n"
     ]
    }
   ],
   "source": [
    "import numpy as np\n",
    "parsed_seed = int(seed)\n",
    "np.random.seed(parsed_seed)\n",
    "print(f\"Using Seed: {parsed_seed}\")"
   ]
  },
  {
   "cell_type": "markdown",
   "id": "e0ebdc57",
   "metadata": {
    "papermill": {
     "duration": 0.016852,
     "end_time": "2025-08-05T16:33:04.387777",
     "exception": false,
     "start_time": "2025-08-05T16:33:04.370925",
     "status": "completed"
    },
    "tags": []
   },
   "source": [
    "# Loading Data"
   ]
  },
  {
   "cell_type": "code",
   "execution_count": 9,
   "id": "f0496b8a",
   "metadata": {
    "execution": {
     "iopub.execute_input": "2025-08-05T16:33:04.424123Z",
     "iopub.status.busy": "2025-08-05T16:33:04.423205Z",
     "iopub.status.idle": "2025-08-05T16:33:18.956867Z",
     "shell.execute_reply": "2025-08-05T16:33:18.955369Z"
    },
    "papermill": {
     "duration": 14.554254,
     "end_time": "2025-08-05T16:33:18.959027",
     "exception": false,
     "start_time": "2025-08-05T16:33:04.404773",
     "status": "completed"
    },
    "tags": []
   },
   "outputs": [
    {
     "name": "stdout",
     "output_type": "stream",
     "text": [
      "Loading SIAB data from cache: data/siab_cached.csv.gz\n"
     ]
    },
    {
     "name": "stdout",
     "output_type": "stream",
     "text": [
      "(643690, 164)\n"
     ]
    }
   ],
   "source": [
    "from pathlib import Path\n",
    "import pandas as pd\n",
    "\n",
    "# File paths\n",
    "raw_file = Path(\"data/raw/siab.csv\")\n",
    "cache_file = Path(\"data/siab_cached.csv.gz\")\n",
    "\n",
    "# Ensure cache directory exists\n",
    "cache_file.parent.mkdir(parents=True, exist_ok=True)\n",
    "\n",
    "# Load with simple caching\n",
    "if cache_file.exists():\n",
    "    print(f\"Loading SIAB data from cache: {cache_file}\")\n",
    "    siab = pd.read_csv(cache_file, compression='gzip')\n",
    "else:\n",
    "    print(f\"Cache not found. Reading raw SIAB data: {raw_file}\")\n",
    "    siab = pd.read_csv(raw_file)\n",
    "    siab.to_csv(cache_file, index=False, compression='gzip')\n",
    "    print(f\"Cached SIAB data to: {cache_file}\")\n",
    "\n",
    "print(siab.shape)"
   ]
  },
  {
   "cell_type": "code",
   "execution_count": 10,
   "id": "db0ca512-5f53-4dba-abdb-a2888bca41ba",
   "metadata": {
    "execution": {
     "iopub.execute_input": "2025-08-05T16:33:19.008093Z",
     "iopub.status.busy": "2025-08-05T16:33:19.007154Z",
     "iopub.status.idle": "2025-08-05T16:33:19.014115Z",
     "shell.execute_reply": "2025-08-05T16:33:19.012758Z"
    },
    "papermill": {
     "duration": 0.031627,
     "end_time": "2025-08-05T16:33:19.016189",
     "exception": false,
     "start_time": "2025-08-05T16:33:18.984562",
     "status": "completed"
    },
    "tags": []
   },
   "outputs": [],
   "source": [
    "#siab"
   ]
  },
  {
   "cell_type": "markdown",
   "id": "997051c5-15bd-4b69-9786-c3001a3ce484",
   "metadata": {
    "papermill": {
     "duration": 0.022091,
     "end_time": "2025-08-05T16:33:19.059183",
     "exception": false,
     "start_time": "2025-08-05T16:33:19.037092",
     "status": "completed"
    },
    "tags": []
   },
   "source": [
    "# Splitting Data and Setting Training Data Size"
   ]
  },
  {
   "cell_type": "code",
   "execution_count": 11,
   "id": "aea9c6ef-6f46-42c8-85eb-5a62025c1508",
   "metadata": {
    "execution": {
     "iopub.execute_input": "2025-08-05T16:33:19.104292Z",
     "iopub.status.busy": "2025-08-05T16:33:19.103303Z",
     "iopub.status.idle": "2025-08-05T16:33:20.310347Z",
     "shell.execute_reply": "2025-08-05T16:33:20.308986Z"
    },
    "papermill": {
     "duration": 1.232356,
     "end_time": "2025-08-05T16:33:20.313288",
     "exception": false,
     "start_time": "2025-08-05T16:33:19.080932",
     "status": "completed"
    },
    "tags": []
   },
   "outputs": [],
   "source": [
    "from fairness_multiverse.universe import sample_by_year_size\n",
    "\n",
    "siab_train = sample_by_year_size(siab,\n",
    "                               training_year=universe[\"training_year\"],\n",
    "                               training_size=universe[\"training_size\"])"
   ]
  },
  {
   "cell_type": "code",
   "execution_count": 12,
   "id": "8d3afb32-789d-442c-8d5d-9f5aa8dd2eed",
   "metadata": {
    "execution": {
     "iopub.execute_input": "2025-08-05T16:33:20.383195Z",
     "iopub.status.busy": "2025-08-05T16:33:20.382535Z",
     "iopub.status.idle": "2025-08-05T16:33:20.389246Z",
     "shell.execute_reply": "2025-08-05T16:33:20.387908Z"
    },
    "papermill": {
     "duration": 0.051433,
     "end_time": "2025-08-05T16:33:20.392734",
     "exception": false,
     "start_time": "2025-08-05T16:33:20.341301",
     "status": "completed"
    },
    "tags": []
   },
   "outputs": [],
   "source": [
    "#siab_train.shape"
   ]
  },
  {
   "cell_type": "code",
   "execution_count": 13,
   "id": "d582db68-1a4c-47fb-84fc-08518dc1975a",
   "metadata": {
    "execution": {
     "iopub.execute_input": "2025-08-05T16:33:20.458331Z",
     "iopub.status.busy": "2025-08-05T16:33:20.456924Z",
     "iopub.status.idle": "2025-08-05T16:33:20.464570Z",
     "shell.execute_reply": "2025-08-05T16:33:20.463257Z"
    },
    "papermill": {
     "duration": 0.043348,
     "end_time": "2025-08-05T16:33:20.467173",
     "exception": false,
     "start_time": "2025-08-05T16:33:20.423825",
     "status": "completed"
    },
    "tags": []
   },
   "outputs": [],
   "source": [
    "#display(siab_train.groupby(\"year\").size())"
   ]
  },
  {
   "cell_type": "code",
   "execution_count": 14,
   "id": "a561edb4-d032-42cb-8256-22eac1111c64",
   "metadata": {
    "execution": {
     "iopub.execute_input": "2025-08-05T16:33:20.530536Z",
     "iopub.status.busy": "2025-08-05T16:33:20.529969Z",
     "iopub.status.idle": "2025-08-05T16:33:20.986384Z",
     "shell.execute_reply": "2025-08-05T16:33:20.985121Z"
    },
    "papermill": {
     "duration": 0.491007,
     "end_time": "2025-08-05T16:33:20.988692",
     "exception": false,
     "start_time": "2025-08-05T16:33:20.497685",
     "status": "completed"
    },
    "tags": []
   },
   "outputs": [],
   "source": [
    "#siab_train = siab_s[siab_s.year < 2015]\n",
    "siab_calib = siab[siab.year == 2015]\n",
    "siab_test = siab[siab.year == 2016]"
   ]
  },
  {
   "cell_type": "code",
   "execution_count": 15,
   "id": "472de16f-c3db-4916-846b-1f0de9cf1746",
   "metadata": {
    "execution": {
     "iopub.execute_input": "2025-08-05T16:33:21.032780Z",
     "iopub.status.busy": "2025-08-05T16:33:21.031582Z",
     "iopub.status.idle": "2025-08-05T16:33:21.040139Z",
     "shell.execute_reply": "2025-08-05T16:33:21.038986Z"
    },
    "papermill": {
     "duration": 0.033237,
     "end_time": "2025-08-05T16:33:21.042840",
     "exception": false,
     "start_time": "2025-08-05T16:33:21.009603",
     "status": "completed"
    },
    "tags": []
   },
   "outputs": [],
   "source": [
    "X_train = siab_train.iloc[:,4:164]\n",
    "y_train = siab_train.iloc[:, [3]]"
   ]
  },
  {
   "cell_type": "code",
   "execution_count": 16,
   "id": "828c96af-f43a-4ed6-ba47-8ac73a47d56c",
   "metadata": {
    "execution": {
     "iopub.execute_input": "2025-08-05T16:33:21.106639Z",
     "iopub.status.busy": "2025-08-05T16:33:21.106167Z",
     "iopub.status.idle": "2025-08-05T16:33:21.173326Z",
     "shell.execute_reply": "2025-08-05T16:33:21.172201Z"
    },
    "papermill": {
     "duration": 0.102096,
     "end_time": "2025-08-05T16:33:21.175855",
     "exception": false,
     "start_time": "2025-08-05T16:33:21.073759",
     "status": "completed"
    },
    "tags": []
   },
   "outputs": [],
   "source": [
    "X_calib = siab_calib.iloc[:,4:164]\n",
    "y_calib = siab_calib.iloc[:, [3]]"
   ]
  },
  {
   "cell_type": "code",
   "execution_count": 17,
   "id": "c34be9c3-6bd6-476e-acd3-845840e303be",
   "metadata": {
    "execution": {
     "iopub.execute_input": "2025-08-05T16:33:21.240341Z",
     "iopub.status.busy": "2025-08-05T16:33:21.239483Z",
     "iopub.status.idle": "2025-08-05T16:33:21.332688Z",
     "shell.execute_reply": "2025-08-05T16:33:21.331411Z"
    },
    "papermill": {
     "duration": 0.127334,
     "end_time": "2025-08-05T16:33:21.334742",
     "exception": false,
     "start_time": "2025-08-05T16:33:21.207408",
     "status": "completed"
    },
    "tags": []
   },
   "outputs": [],
   "source": [
    "X_test = siab_test.iloc[:,4:164]\n",
    "y_true = siab_test.iloc[:, [3]]"
   ]
  },
  {
   "cell_type": "code",
   "execution_count": 18,
   "id": "e6c733c5",
   "metadata": {
    "execution": {
     "iopub.execute_input": "2025-08-05T16:33:21.379572Z",
     "iopub.status.busy": "2025-08-05T16:33:21.378710Z",
     "iopub.status.idle": "2025-08-05T16:33:21.550868Z",
     "shell.execute_reply": "2025-08-05T16:33:21.549483Z"
    },
    "papermill": {
     "duration": 0.197515,
     "end_time": "2025-08-05T16:33:21.553160",
     "exception": false,
     "start_time": "2025-08-05T16:33:21.355645",
     "status": "completed"
    },
    "tags": []
   },
   "outputs": [],
   "source": [
    "# Auxiliary data needed downstream in the pipeline\n",
    "\n",
    "org_train = X_train.copy()\n",
    "org_test = X_test.copy()\n",
    "org_calib = X_calib.copy()"
   ]
  },
  {
   "cell_type": "markdown",
   "id": "0a4a1b33",
   "metadata": {
    "papermill": {
     "duration": 0.020345,
     "end_time": "2025-08-05T16:33:21.594526",
     "exception": false,
     "start_time": "2025-08-05T16:33:21.574181",
     "status": "completed"
    },
    "tags": []
   },
   "source": [
    "# Preprocessing Data"
   ]
  },
  {
   "cell_type": "code",
   "execution_count": 19,
   "id": "ca879031",
   "metadata": {
    "execution": {
     "iopub.execute_input": "2025-08-05T16:33:21.639845Z",
     "iopub.status.busy": "2025-08-05T16:33:21.638431Z",
     "iopub.status.idle": "2025-08-05T16:33:21.647526Z",
     "shell.execute_reply": "2025-08-05T16:33:21.646114Z"
    },
    "papermill": {
     "duration": 0.033593,
     "end_time": "2025-08-05T16:33:21.649572",
     "exception": false,
     "start_time": "2025-08-05T16:33:21.615979",
     "status": "completed"
    },
    "tags": []
   },
   "outputs": [],
   "source": [
    "# EXCLUDE PROTECTED FEATURES\n",
    "# ----------------------\n",
    "# \"exclude_features\": \"none\", # \"nationality\", \"sex\", \"nationality-sex\"\n",
    "\n",
    "excluded_features = universe[\"exclude_features\"].split(\"-\") # split, e.g.: \"nationality-sex\" -> [\"nationality\", \"sex\"]\n",
    "excluded_features_dictionary = {\n",
    "    \"nationality\": [\"maxdeutsch1\", \"maxdeutsch.Missing.\"],\n",
    "    \"sex\": [\"frau1\"],\n",
    "    \"age\": [\"age\"],\n",
    "}"
   ]
  },
  {
   "cell_type": "code",
   "execution_count": 20,
   "id": "b745ac60",
   "metadata": {
    "execution": {
     "iopub.execute_input": "2025-08-05T16:33:21.696531Z",
     "iopub.status.busy": "2025-08-05T16:33:21.695866Z",
     "iopub.status.idle": "2025-08-05T16:33:21.701766Z",
     "shell.execute_reply": "2025-08-05T16:33:21.700912Z"
    },
    "papermill": {
     "duration": 0.030425,
     "end_time": "2025-08-05T16:33:21.703335",
     "exception": false,
     "start_time": "2025-08-05T16:33:21.672910",
     "status": "completed"
    },
    "tags": []
   },
   "outputs": [],
   "source": [
    "# Code nice names to column names\n",
    "\n",
    "excluded_features_columns = [\n",
    "    excluded_features_dictionary[f] for f in excluded_features if len(f) > 0 and f != \"none\"\n",
    "]"
   ]
  },
  {
   "cell_type": "code",
   "execution_count": 21,
   "id": "f84f73a2",
   "metadata": {
    "execution": {
     "iopub.execute_input": "2025-08-05T16:33:21.727264Z",
     "iopub.status.busy": "2025-08-05T16:33:21.726689Z",
     "iopub.status.idle": "2025-08-05T16:33:21.732647Z",
     "shell.execute_reply": "2025-08-05T16:33:21.731851Z"
    },
    "papermill": {
     "duration": 0.019288,
     "end_time": "2025-08-05T16:33:21.734178",
     "exception": false,
     "start_time": "2025-08-05T16:33:21.714890",
     "status": "completed"
    },
    "tags": []
   },
   "outputs": [],
   "source": [
    "from utils import flatten_once\n",
    "\n",
    "excluded_features_columns = flatten_once(excluded_features_columns)"
   ]
  },
  {
   "cell_type": "code",
   "execution_count": 22,
   "id": "884dea22",
   "metadata": {
    "execution": {
     "iopub.execute_input": "2025-08-05T16:33:21.762321Z",
     "iopub.status.busy": "2025-08-05T16:33:21.761749Z",
     "iopub.status.idle": "2025-08-05T16:33:21.769220Z",
     "shell.execute_reply": "2025-08-05T16:33:21.768050Z"
    },
    "papermill": {
     "duration": 0.02095,
     "end_time": "2025-08-05T16:33:21.770680",
     "exception": false,
     "start_time": "2025-08-05T16:33:21.749730",
     "status": "completed"
    },
    "tags": []
   },
   "outputs": [
    {
     "name": "stdout",
     "output_type": "stream",
     "text": [
      "Dropping features: ['frau1']\n"
     ]
    }
   ],
   "source": [
    "if len(excluded_features_columns) > 0:\n",
    "    print(f\"Dropping features: {excluded_features_columns}\")\n",
    "    X_train.drop(excluded_features_columns, axis=1, inplace=True)"
   ]
  },
  {
   "cell_type": "code",
   "execution_count": 23,
   "id": "95ab8b16",
   "metadata": {
    "execution": {
     "iopub.execute_input": "2025-08-05T16:33:21.794766Z",
     "iopub.status.busy": "2025-08-05T16:33:21.794192Z",
     "iopub.status.idle": "2025-08-05T16:33:21.850045Z",
     "shell.execute_reply": "2025-08-05T16:33:21.848976Z"
    },
    "papermill": {
     "duration": 0.069514,
     "end_time": "2025-08-05T16:33:21.851684",
     "exception": false,
     "start_time": "2025-08-05T16:33:21.782170",
     "status": "completed"
    },
    "tags": []
   },
   "outputs": [
    {
     "name": "stdout",
     "output_type": "stream",
     "text": [
      "Dropping features: ['frau1']\n"
     ]
    }
   ],
   "source": [
    "if len(excluded_features_columns) > 0:\n",
    "    print(f\"Dropping features: {excluded_features_columns}\")\n",
    "    X_test.drop(excluded_features_columns, axis=1, inplace=True)"
   ]
  },
  {
   "cell_type": "code",
   "execution_count": 24,
   "id": "1853aaf5-fb9f-46cb-a2b5-8ea4ae2237e4",
   "metadata": {
    "execution": {
     "iopub.execute_input": "2025-08-05T16:33:21.909225Z",
     "iopub.status.busy": "2025-08-05T16:33:21.908685Z",
     "iopub.status.idle": "2025-08-05T16:33:21.969965Z",
     "shell.execute_reply": "2025-08-05T16:33:21.968522Z"
    },
    "papermill": {
     "duration": 0.093969,
     "end_time": "2025-08-05T16:33:21.972441",
     "exception": false,
     "start_time": "2025-08-05T16:33:21.878472",
     "status": "completed"
    },
    "tags": []
   },
   "outputs": [
    {
     "name": "stdout",
     "output_type": "stream",
     "text": [
      "Dropping features: ['frau1']\n"
     ]
    }
   ],
   "source": [
    "if len(excluded_features_columns) > 0:\n",
    "    print(f\"Dropping features: {excluded_features_columns}\")\n",
    "    X_calib.drop(excluded_features_columns, axis=1, inplace=True)"
   ]
  },
  {
   "cell_type": "code",
   "execution_count": 25,
   "id": "76c4dc6d",
   "metadata": {
    "execution": {
     "iopub.execute_input": "2025-08-05T16:33:22.034134Z",
     "iopub.status.busy": "2025-08-05T16:33:22.033251Z",
     "iopub.status.idle": "2025-08-05T16:33:22.039982Z",
     "shell.execute_reply": "2025-08-05T16:33:22.038804Z"
    },
    "papermill": {
     "duration": 0.039934,
     "end_time": "2025-08-05T16:33:22.042346",
     "exception": false,
     "start_time": "2025-08-05T16:33:22.002412",
     "status": "completed"
    },
    "tags": []
   },
   "outputs": [],
   "source": [
    "# EXCLUDE CERTAIN SUBGROUPS\n",
    "# ----------------------\n",
    "\n",
    "mode = universe.get(\"exclude_subgroups\", \"keep-all\") \n",
    "# Fetches the exclude_subgroups setting from the universe dict.\n",
    "# Defaults to \"keep-all\" if the key is missing."
   ]
  },
  {
   "cell_type": "code",
   "execution_count": 26,
   "id": "21994072",
   "metadata": {
    "execution": {
     "iopub.execute_input": "2025-08-05T16:33:22.104051Z",
     "iopub.status.busy": "2025-08-05T16:33:22.102903Z",
     "iopub.status.idle": "2025-08-05T16:33:22.112085Z",
     "shell.execute_reply": "2025-08-05T16:33:22.110936Z"
    },
    "papermill": {
     "duration": 0.041933,
     "end_time": "2025-08-05T16:33:22.113966",
     "exception": false,
     "start_time": "2025-08-05T16:33:22.072033",
     "status": "completed"
    },
    "tags": []
   },
   "outputs": [],
   "source": [
    "if mode == \"keep-all\":\n",
    "    keep_mask = pd.Series(True, index=org_train.index)\n",
    "\n",
    "# org_train contains the original feature columns from features_org (in Simson)\n",
    "# features_org contains unprocessed features, for me X_train at beginning ???\n",
    "# For keep-all, creates a boolean Series (keep_mask) of all True, so no rows are removed.\n",
    "\n",
    "elif mode == \"drop-non-german\":\n",
    "    keep_mask = org_train[\"maxdeutsch1\"] == 1 # ??? what about missing values?\n",
    "\n",
    "else:\n",
    "    raise ValueError(f\"Unsupported mode for exclude_subgroups: {mode}\")"
   ]
  },
  {
   "cell_type": "code",
   "execution_count": 27,
   "id": "71651440",
   "metadata": {
    "execution": {
     "iopub.execute_input": "2025-08-05T16:33:22.160908Z",
     "iopub.status.busy": "2025-08-05T16:33:22.159866Z",
     "iopub.status.idle": "2025-08-05T16:33:22.169314Z",
     "shell.execute_reply": "2025-08-05T16:33:22.168177Z"
    },
    "papermill": {
     "duration": 0.035136,
     "end_time": "2025-08-05T16:33:22.171255",
     "exception": false,
     "start_time": "2025-08-05T16:33:22.136119",
     "status": "completed"
    },
    "tags": []
   },
   "outputs": [],
   "source": [
    "n_drop = (~keep_mask).sum() # Calculates how many rows are set to be dropped\n",
    "if n_drop > 0:\n",
    "    pct = n_drop / len(keep_mask) * 100\n",
    "    print(f\"Dropping {n_drop} rows ({pct:.2f}%) where mode='{mode}'\")"
   ]
  },
  {
   "cell_type": "code",
   "execution_count": 28,
   "id": "5fb8eee5",
   "metadata": {
    "execution": {
     "iopub.execute_input": "2025-08-05T16:33:22.217900Z",
     "iopub.status.busy": "2025-08-05T16:33:22.216893Z",
     "iopub.status.idle": "2025-08-05T16:33:22.226983Z",
     "shell.execute_reply": "2025-08-05T16:33:22.225700Z"
    },
    "papermill": {
     "duration": 0.03568,
     "end_time": "2025-08-05T16:33:22.229065",
     "exception": false,
     "start_time": "2025-08-05T16:33:22.193385",
     "status": "completed"
    },
    "tags": []
   },
   "outputs": [],
   "source": [
    "X_train = X_train[keep_mask]"
   ]
  },
  {
   "cell_type": "code",
   "execution_count": 29,
   "id": "b202bb3a",
   "metadata": {
    "execution": {
     "iopub.execute_input": "2025-08-05T16:33:22.275474Z",
     "iopub.status.busy": "2025-08-05T16:33:22.274388Z",
     "iopub.status.idle": "2025-08-05T16:33:22.283733Z",
     "shell.execute_reply": "2025-08-05T16:33:22.282266Z"
    },
    "papermill": {
     "duration": 0.035102,
     "end_time": "2025-08-05T16:33:22.286123",
     "exception": false,
     "start_time": "2025-08-05T16:33:22.251021",
     "status": "completed"
    },
    "tags": []
   },
   "outputs": [],
   "source": [
    "y_train = y_train[keep_mask]"
   ]
  },
  {
   "cell_type": "markdown",
   "id": "493e2ac3",
   "metadata": {
    "papermill": {
     "duration": 0.021903,
     "end_time": "2025-08-05T16:33:22.332792",
     "exception": false,
     "start_time": "2025-08-05T16:33:22.310889",
     "status": "completed"
    },
    "tags": []
   },
   "source": [
    "# Model Training"
   ]
  },
  {
   "cell_type": "code",
   "execution_count": 30,
   "id": "679e1268",
   "metadata": {
    "execution": {
     "iopub.execute_input": "2025-08-05T16:33:22.379172Z",
     "iopub.status.busy": "2025-08-05T16:33:22.377988Z",
     "iopub.status.idle": "2025-08-05T16:33:22.524040Z",
     "shell.execute_reply": "2025-08-05T16:33:22.522841Z"
    },
    "papermill": {
     "duration": 0.171781,
     "end_time": "2025-08-05T16:33:22.526254",
     "exception": false,
     "start_time": "2025-08-05T16:33:22.354473",
     "status": "completed"
    },
    "tags": []
   },
   "outputs": [],
   "source": [
    "from sklearn.linear_model import LogisticRegression\n",
    "from sklearn.ensemble import GradientBoostingClassifier, RandomForestClassifier\n",
    "\n",
    "if (universe[\"model\"] == \"logreg\"):\n",
    "    model = LogisticRegression() #penalty=\"none\", solver=\"newton-cg\", max_iter=1) # include random_state=19 ?\n",
    "elif (universe[\"model\"] == \"penalized_logreg\"):\n",
    "    model = LogisticRegression(penalty=\"l2\", C=0.1) #, solver=\"newton-cg\", max_iter=1)\n",
    "elif (universe[\"model\"] == \"rf\"):\n",
    "    model = RandomForestClassifier() # n_estimators=100, n_jobs=-1\n",
    "elif (universe[\"model\"] == \"gbm\"):\n",
    "    model = GradientBoostingClassifier()\n",
    "elif (universe[\"model\"] == \"elasticnet\"):\n",
    "    model = LogisticRegression(penalty = 'elasticnet', solver = 'saga', l1_ratio = 0.5) # max_iter=5000\n",
    "else:\n",
    "    raise \"Unsupported universe.model\""
   ]
  },
  {
   "cell_type": "code",
   "execution_count": 31,
   "id": "0cc8f744",
   "metadata": {
    "execution": {
     "iopub.execute_input": "2025-08-05T16:33:22.574424Z",
     "iopub.status.busy": "2025-08-05T16:33:22.573299Z",
     "iopub.status.idle": "2025-08-05T16:33:22.581823Z",
     "shell.execute_reply": "2025-08-05T16:33:22.580570Z"
    },
    "papermill": {
     "duration": 0.0353,
     "end_time": "2025-08-05T16:33:22.584264",
     "exception": false,
     "start_time": "2025-08-05T16:33:22.548964",
     "status": "completed"
    },
    "tags": []
   },
   "outputs": [],
   "source": [
    "import numpy as np\n",
    "from sklearn.pipeline import Pipeline\n",
    "from sklearn.preprocessing import StandardScaler\n",
    "\n",
    "model = Pipeline([\n",
    "    #(\"continuous_processor\", continuous_processor),\n",
    "    #(\"categorical_preprocessor\", categorical_preprocessor),\n",
    "    (\"scale\", StandardScaler() if universe[\"scale\"] == \"scale\" else None), \n",
    "    (\"model\", model),\n",
    "])"
   ]
  },
  {
   "cell_type": "code",
   "execution_count": 32,
   "id": "9442c04d",
   "metadata": {
    "execution": {
     "iopub.execute_input": "2025-08-05T16:33:22.649032Z",
     "iopub.status.busy": "2025-08-05T16:33:22.648597Z",
     "iopub.status.idle": "2025-08-05T16:33:22.714451Z",
     "shell.execute_reply": "2025-08-05T16:33:22.713139Z"
    },
    "papermill": {
     "duration": 0.102222,
     "end_time": "2025-08-05T16:33:22.718059",
     "exception": false,
     "start_time": "2025-08-05T16:33:22.615837",
     "status": "completed"
    },
    "tags": []
   },
   "outputs": [
    {
     "data": {
      "text/html": [
       "<style>#sk-container-id-1 {color: black;background-color: white;}#sk-container-id-1 pre{padding: 0;}#sk-container-id-1 div.sk-toggleable {background-color: white;}#sk-container-id-1 label.sk-toggleable__label {cursor: pointer;display: block;width: 100%;margin-bottom: 0;padding: 0.3em;box-sizing: border-box;text-align: center;}#sk-container-id-1 label.sk-toggleable__label-arrow:before {content: \"▸\";float: left;margin-right: 0.25em;color: #696969;}#sk-container-id-1 label.sk-toggleable__label-arrow:hover:before {color: black;}#sk-container-id-1 div.sk-estimator:hover label.sk-toggleable__label-arrow:before {color: black;}#sk-container-id-1 div.sk-toggleable__content {max-height: 0;max-width: 0;overflow: hidden;text-align: left;background-color: #f0f8ff;}#sk-container-id-1 div.sk-toggleable__content pre {margin: 0.2em;color: black;border-radius: 0.25em;background-color: #f0f8ff;}#sk-container-id-1 input.sk-toggleable__control:checked~div.sk-toggleable__content {max-height: 200px;max-width: 100%;overflow: auto;}#sk-container-id-1 input.sk-toggleable__control:checked~label.sk-toggleable__label-arrow:before {content: \"▾\";}#sk-container-id-1 div.sk-estimator input.sk-toggleable__control:checked~label.sk-toggleable__label {background-color: #d4ebff;}#sk-container-id-1 div.sk-label input.sk-toggleable__control:checked~label.sk-toggleable__label {background-color: #d4ebff;}#sk-container-id-1 input.sk-hidden--visually {border: 0;clip: rect(1px 1px 1px 1px);clip: rect(1px, 1px, 1px, 1px);height: 1px;margin: -1px;overflow: hidden;padding: 0;position: absolute;width: 1px;}#sk-container-id-1 div.sk-estimator {font-family: monospace;background-color: #f0f8ff;border: 1px dotted black;border-radius: 0.25em;box-sizing: border-box;margin-bottom: 0.5em;}#sk-container-id-1 div.sk-estimator:hover {background-color: #d4ebff;}#sk-container-id-1 div.sk-parallel-item::after {content: \"\";width: 100%;border-bottom: 1px solid gray;flex-grow: 1;}#sk-container-id-1 div.sk-label:hover label.sk-toggleable__label {background-color: #d4ebff;}#sk-container-id-1 div.sk-serial::before {content: \"\";position: absolute;border-left: 1px solid gray;box-sizing: border-box;top: 0;bottom: 0;left: 50%;z-index: 0;}#sk-container-id-1 div.sk-serial {display: flex;flex-direction: column;align-items: center;background-color: white;padding-right: 0.2em;padding-left: 0.2em;position: relative;}#sk-container-id-1 div.sk-item {position: relative;z-index: 1;}#sk-container-id-1 div.sk-parallel {display: flex;align-items: stretch;justify-content: center;background-color: white;position: relative;}#sk-container-id-1 div.sk-item::before, #sk-container-id-1 div.sk-parallel-item::before {content: \"\";position: absolute;border-left: 1px solid gray;box-sizing: border-box;top: 0;bottom: 0;left: 50%;z-index: -1;}#sk-container-id-1 div.sk-parallel-item {display: flex;flex-direction: column;z-index: 1;position: relative;background-color: white;}#sk-container-id-1 div.sk-parallel-item:first-child::after {align-self: flex-end;width: 50%;}#sk-container-id-1 div.sk-parallel-item:last-child::after {align-self: flex-start;width: 50%;}#sk-container-id-1 div.sk-parallel-item:only-child::after {width: 0;}#sk-container-id-1 div.sk-dashed-wrapped {border: 1px dashed gray;margin: 0 0.4em 0.5em 0.4em;box-sizing: border-box;padding-bottom: 0.4em;background-color: white;}#sk-container-id-1 div.sk-label label {font-family: monospace;font-weight: bold;display: inline-block;line-height: 1.2em;}#sk-container-id-1 div.sk-label-container {text-align: center;}#sk-container-id-1 div.sk-container {/* jupyter's `normalize.less` sets `[hidden] { display: none; }` but bootstrap.min.css set `[hidden] { display: none !important; }` so we also need the `!important` here to be able to override the default hidden behavior on the sphinx rendered scikit-learn.org. See: https://github.com/scikit-learn/scikit-learn/issues/21755 */display: inline-block !important;position: relative;}#sk-container-id-1 div.sk-text-repr-fallback {display: none;}</style><div id=\"sk-container-id-1\" class=\"sk-top-container\"><div class=\"sk-text-repr-fallback\"><pre>Pipeline(steps=[(&#x27;scale&#x27;, StandardScaler()),\n",
       "                (&#x27;model&#x27;, LogisticRegression(C=0.1))])</pre><b>In a Jupyter environment, please rerun this cell to show the HTML representation or trust the notebook. <br />On GitHub, the HTML representation is unable to render, please try loading this page with nbviewer.org.</b></div><div class=\"sk-container\" hidden><div class=\"sk-item sk-dashed-wrapped\"><div class=\"sk-label-container\"><div class=\"sk-label sk-toggleable\"><input class=\"sk-toggleable__control sk-hidden--visually\" id=\"sk-estimator-id-1\" type=\"checkbox\" ><label for=\"sk-estimator-id-1\" class=\"sk-toggleable__label sk-toggleable__label-arrow\">Pipeline</label><div class=\"sk-toggleable__content\"><pre>Pipeline(steps=[(&#x27;scale&#x27;, StandardScaler()),\n",
       "                (&#x27;model&#x27;, LogisticRegression(C=0.1))])</pre></div></div></div><div class=\"sk-serial\"><div class=\"sk-item\"><div class=\"sk-estimator sk-toggleable\"><input class=\"sk-toggleable__control sk-hidden--visually\" id=\"sk-estimator-id-2\" type=\"checkbox\" ><label for=\"sk-estimator-id-2\" class=\"sk-toggleable__label sk-toggleable__label-arrow\">StandardScaler</label><div class=\"sk-toggleable__content\"><pre>StandardScaler()</pre></div></div></div><div class=\"sk-item\"><div class=\"sk-estimator sk-toggleable\"><input class=\"sk-toggleable__control sk-hidden--visually\" id=\"sk-estimator-id-3\" type=\"checkbox\" ><label for=\"sk-estimator-id-3\" class=\"sk-toggleable__label sk-toggleable__label-arrow\">LogisticRegression</label><div class=\"sk-toggleable__content\"><pre>LogisticRegression(C=0.1)</pre></div></div></div></div></div></div></div>"
      ],
      "text/plain": [
       "Pipeline(steps=[('scale', StandardScaler()),\n",
       "                ('model', LogisticRegression(C=0.1))])"
      ]
     },
     "execution_count": 32,
     "metadata": {},
     "output_type": "execute_result"
    }
   ],
   "source": [
    "model.fit(X_train, y_train.values.ravel())"
   ]
  },
  {
   "cell_type": "code",
   "execution_count": 33,
   "id": "af59f8c0",
   "metadata": {
    "execution": {
     "iopub.execute_input": "2025-08-05T16:33:22.784336Z",
     "iopub.status.busy": "2025-08-05T16:33:22.783453Z",
     "iopub.status.idle": "2025-08-05T16:33:22.790644Z",
     "shell.execute_reply": "2025-08-05T16:33:22.789419Z"
    },
    "papermill": {
     "duration": 0.042884,
     "end_time": "2025-08-05T16:33:22.793038",
     "exception": false,
     "start_time": "2025-08-05T16:33:22.750154",
     "status": "completed"
    },
    "tags": []
   },
   "outputs": [],
   "source": [
    "from fairness_multiverse.universe import predict_w_threshold"
   ]
  },
  {
   "cell_type": "code",
   "execution_count": 34,
   "id": "a7cf2e16",
   "metadata": {
    "execution": {
     "iopub.execute_input": "2025-08-05T16:33:22.859352Z",
     "iopub.status.busy": "2025-08-05T16:33:22.858465Z",
     "iopub.status.idle": "2025-08-05T16:33:23.078246Z",
     "shell.execute_reply": "2025-08-05T16:33:23.077022Z"
    },
    "papermill": {
     "duration": 0.255627,
     "end_time": "2025-08-05T16:33:23.080581",
     "exception": false,
     "start_time": "2025-08-05T16:33:22.824954",
     "status": "completed"
    },
    "tags": []
   },
   "outputs": [
    {
     "data": {
      "text/plain": [
       "0.8387916620220711"
      ]
     },
     "execution_count": 34,
     "metadata": {},
     "output_type": "execute_result"
    }
   ],
   "source": [
    "probs_test = model.predict_proba(X_test)\n",
    "\n",
    "'''\n",
    "Below code returns a boolean array (or binary 0/1 array depending on how it’s used) where each element \n",
    "is True if the probability of class 1 is greater than or equal to the threshold, and False otherwise.\n",
    "'''\n",
    "y_pred_default = predict_w_threshold(probs_test, 0.5)\n",
    "\n",
    "from sklearn.metrics import accuracy_score\n",
    "\n",
    "# Naive prediction\n",
    "accuracy_score(y_true = y_true, y_pred = y_pred_default)"
   ]
  },
  {
   "cell_type": "code",
   "execution_count": 35,
   "id": "081964c3",
   "metadata": {
    "execution": {
     "iopub.execute_input": "2025-08-05T16:33:23.144765Z",
     "iopub.status.busy": "2025-08-05T16:33:23.143914Z",
     "iopub.status.idle": "2025-08-05T16:33:23.353153Z",
     "shell.execute_reply": "2025-08-05T16:33:23.351846Z"
    },
    "papermill": {
     "duration": 0.244334,
     "end_time": "2025-08-05T16:33:23.355324",
     "exception": false,
     "start_time": "2025-08-05T16:33:23.110990",
     "status": "completed"
    },
    "tags": []
   },
   "outputs": [
    {
     "data": {
      "text/plain": [
       "array([0, 0, 0, ..., 0, 0, 0])"
      ]
     },
     "execution_count": 35,
     "metadata": {},
     "output_type": "execute_result"
    }
   ],
   "source": [
    "model.predict(X_test)"
   ]
  },
  {
   "cell_type": "markdown",
   "id": "56c9705b",
   "metadata": {
    "papermill": {
     "duration": 0.031446,
     "end_time": "2025-08-05T16:33:23.416188",
     "exception": false,
     "start_time": "2025-08-05T16:33:23.384742",
     "status": "completed"
    },
    "tags": []
   },
   "source": [
    "# Conformal Prediction"
   ]
  },
  {
   "cell_type": "code",
   "execution_count": 36,
   "id": "160ec6ff",
   "metadata": {
    "execution": {
     "iopub.execute_input": "2025-08-05T16:33:23.469063Z",
     "iopub.status.busy": "2025-08-05T16:33:23.467807Z",
     "iopub.status.idle": "2025-08-05T16:33:23.475556Z",
     "shell.execute_reply": "2025-08-05T16:33:23.474366Z"
    },
    "papermill": {
     "duration": 0.034463,
     "end_time": "2025-08-05T16:33:23.477614",
     "exception": false,
     "start_time": "2025-08-05T16:33:23.443151",
     "status": "completed"
    },
    "tags": []
   },
   "outputs": [],
   "source": [
    "# Miscoverage level for conformal prediction (10% allowed error rate => 90% target coverage)\n",
    "alpha = 0.1"
   ]
  },
  {
   "cell_type": "code",
   "execution_count": 37,
   "id": "eadf4555-3dd3-440e-8e35-f82a4ad9f855",
   "metadata": {
    "execution": {
     "iopub.execute_input": "2025-08-05T16:33:23.526366Z",
     "iopub.status.busy": "2025-08-05T16:33:23.525540Z",
     "iopub.status.idle": "2025-08-05T16:33:23.710687Z",
     "shell.execute_reply": "2025-08-05T16:33:23.709818Z"
    },
    "papermill": {
     "duration": 0.211547,
     "end_time": "2025-08-05T16:33:23.712463",
     "exception": false,
     "start_time": "2025-08-05T16:33:23.500916",
     "status": "completed"
    },
    "tags": []
   },
   "outputs": [],
   "source": [
    "probs_calib = model.predict_proba(X_calib)"
   ]
  },
  {
   "cell_type": "code",
   "execution_count": 38,
   "id": "2ed93547-6d5d-4983-9b36-1ecb300da49a",
   "metadata": {
    "execution": {
     "iopub.execute_input": "2025-08-05T16:33:23.757034Z",
     "iopub.status.busy": "2025-08-05T16:33:23.756488Z",
     "iopub.status.idle": "2025-08-05T16:33:23.762060Z",
     "shell.execute_reply": "2025-08-05T16:33:23.761249Z"
    },
    "papermill": {
     "duration": 0.03542,
     "end_time": "2025-08-05T16:33:23.763793",
     "exception": false,
     "start_time": "2025-08-05T16:33:23.728373",
     "status": "completed"
    },
    "tags": []
   },
   "outputs": [],
   "source": [
    "y_calib = y_calib.values.ravel().astype(int)"
   ]
  },
  {
   "cell_type": "code",
   "execution_count": 39,
   "id": "65d1320d-f588-4b38-9072-62af1ae97f7d",
   "metadata": {
    "execution": {
     "iopub.execute_input": "2025-08-05T16:33:23.794594Z",
     "iopub.status.busy": "2025-08-05T16:33:23.794097Z",
     "iopub.status.idle": "2025-08-05T16:33:23.801721Z",
     "shell.execute_reply": "2025-08-05T16:33:23.800692Z"
    },
    "papermill": {
     "duration": 0.026665,
     "end_time": "2025-08-05T16:33:23.803521",
     "exception": false,
     "start_time": "2025-08-05T16:33:23.776856",
     "status": "completed"
    },
    "tags": []
   },
   "outputs": [],
   "source": [
    "from fairness_multiverse.conformal import compute_nc_scores\n",
    "\n",
    "# Compute nonconformity scores on calibration set (1 - probability of true class)\n",
    "nc_scores = compute_nc_scores(probs_calib, y_calib)"
   ]
  },
  {
   "cell_type": "code",
   "execution_count": 40,
   "id": "df3b8ca3-53b7-43d5-9667-7c85da7aeda2",
   "metadata": {
    "execution": {
     "iopub.execute_input": "2025-08-05T16:33:23.854086Z",
     "iopub.status.busy": "2025-08-05T16:33:23.852678Z",
     "iopub.status.idle": "2025-08-05T16:33:23.862722Z",
     "shell.execute_reply": "2025-08-05T16:33:23.861382Z"
    },
    "papermill": {
     "duration": 0.038321,
     "end_time": "2025-08-05T16:33:23.864760",
     "exception": false,
     "start_time": "2025-08-05T16:33:23.826439",
     "status": "completed"
    },
    "tags": []
   },
   "outputs": [],
   "source": [
    "from fairness_multiverse.conformal import find_threshold\n",
    "\n",
    "# Find conformal threshold q_hat for the given alpha (split conformal method)\n",
    "q_hat = find_threshold(nc_scores, alpha)"
   ]
  },
  {
   "cell_type": "code",
   "execution_count": 41,
   "id": "4d29e6c1-0ef6-4aa4-b8fe-4fe79b0d033a",
   "metadata": {
    "execution": {
     "iopub.execute_input": "2025-08-05T16:33:23.918391Z",
     "iopub.status.busy": "2025-08-05T16:33:23.917757Z",
     "iopub.status.idle": "2025-08-05T16:33:23.929120Z",
     "shell.execute_reply": "2025-08-05T16:33:23.927846Z"
    },
    "papermill": {
     "duration": 0.03996,
     "end_time": "2025-08-05T16:33:23.931017",
     "exception": false,
     "start_time": "2025-08-05T16:33:23.891057",
     "status": "completed"
    },
    "tags": []
   },
   "outputs": [
    {
     "data": {
      "text/plain": [
       "0.7292479748569026"
      ]
     },
     "execution_count": 41,
     "metadata": {},
     "output_type": "execute_result"
    }
   ],
   "source": [
    "q_hat"
   ]
  },
  {
   "cell_type": "code",
   "execution_count": 42,
   "id": "92460794-cdac-4be2-ba28-f28c0515a6fb",
   "metadata": {
    "execution": {
     "iopub.execute_input": "2025-08-05T16:33:23.981400Z",
     "iopub.status.busy": "2025-08-05T16:33:23.980424Z",
     "iopub.status.idle": "2025-08-05T16:33:24.734556Z",
     "shell.execute_reply": "2025-08-05T16:33:24.733613Z"
    },
    "papermill": {
     "duration": 0.781715,
     "end_time": "2025-08-05T16:33:24.736716",
     "exception": false,
     "start_time": "2025-08-05T16:33:23.955001",
     "status": "completed"
    },
    "tags": []
   },
   "outputs": [],
   "source": [
    "from fairness_multiverse.conformal import predict_conformal_sets\n",
    "\n",
    "# Generate prediction sets for each test example\n",
    "pred_sets = predict_conformal_sets(model, X_test, q_hat)"
   ]
  },
  {
   "cell_type": "code",
   "execution_count": 43,
   "id": "d90c9a65-e6db-4f5d-80cd-e68fb7e46829",
   "metadata": {
    "execution": {
     "iopub.execute_input": "2025-08-05T16:33:24.801714Z",
     "iopub.status.busy": "2025-08-05T16:33:24.801204Z",
     "iopub.status.idle": "2025-08-05T16:33:24.807389Z",
     "shell.execute_reply": "2025-08-05T16:33:24.806305Z"
    },
    "papermill": {
     "duration": 0.032416,
     "end_time": "2025-08-05T16:33:24.809441",
     "exception": false,
     "start_time": "2025-08-05T16:33:24.777025",
     "status": "completed"
    },
    "tags": []
   },
   "outputs": [],
   "source": [
    "y_true = y_true.squeeze()"
   ]
  },
  {
   "cell_type": "code",
   "execution_count": 44,
   "id": "3a58a54a-1e68-46b9-927a-df01f18aebc8",
   "metadata": {
    "execution": {
     "iopub.execute_input": "2025-08-05T16:33:24.864578Z",
     "iopub.status.busy": "2025-08-05T16:33:24.863759Z",
     "iopub.status.idle": "2025-08-05T16:33:25.665557Z",
     "shell.execute_reply": "2025-08-05T16:33:25.664657Z"
    },
    "papermill": {
     "duration": 0.833274,
     "end_time": "2025-08-05T16:33:25.667770",
     "exception": false,
     "start_time": "2025-08-05T16:33:24.834496",
     "status": "completed"
    },
    "tags": []
   },
   "outputs": [],
   "source": [
    "from fairness_multiverse.conformal import evaluate_sets\n",
    "\n",
    "# Evaluate coverage and average set size on test data\n",
    "metrics = evaluate_sets(pred_sets, y_true)"
   ]
  },
  {
   "cell_type": "markdown",
   "id": "2b569c12-9aaa-4c88-98c9-bbcd0cf3ebb8",
   "metadata": {
    "papermill": {
     "duration": 0.028244,
     "end_time": "2025-08-05T16:33:25.724476",
     "exception": false,
     "start_time": "2025-08-05T16:33:25.696232",
     "status": "completed"
    },
    "tags": []
   },
   "source": [
    "# CP Metrics"
   ]
  },
  {
   "cell_type": "code",
   "execution_count": 45,
   "id": "5ce0a5cb-201f-45a0-ade5-94c7f0bd6095",
   "metadata": {
    "execution": {
     "iopub.execute_input": "2025-08-05T16:33:25.781627Z",
     "iopub.status.busy": "2025-08-05T16:33:25.781040Z",
     "iopub.status.idle": "2025-08-05T16:33:25.789945Z",
     "shell.execute_reply": "2025-08-05T16:33:25.788721Z"
    },
    "papermill": {
     "duration": 0.042322,
     "end_time": "2025-08-05T16:33:25.795191",
     "exception": false,
     "start_time": "2025-08-05T16:33:25.752869",
     "status": "completed"
    },
    "tags": []
   },
   "outputs": [
    {
     "data": {
      "text/plain": [
       "{'coverage': 0.9096979155055178, 'avg_size': 1.192587225504403}"
      ]
     },
     "execution_count": 45,
     "metadata": {},
     "output_type": "execute_result"
    }
   ],
   "source": [
    "metrics"
   ]
  },
  {
   "cell_type": "code",
   "execution_count": 46,
   "id": "9b9a838d-31c9-430b-ae14-12baee460d17",
   "metadata": {
    "execution": {
     "iopub.execute_input": "2025-08-05T16:33:25.853770Z",
     "iopub.status.busy": "2025-08-05T16:33:25.853229Z",
     "iopub.status.idle": "2025-08-05T16:33:25.861041Z",
     "shell.execute_reply": "2025-08-05T16:33:25.859834Z"
    },
    "papermill": {
     "duration": 0.038567,
     "end_time": "2025-08-05T16:33:25.863159",
     "exception": false,
     "start_time": "2025-08-05T16:33:25.824592",
     "status": "completed"
    },
    "tags": []
   },
   "outputs": [],
   "source": [
    "example_universe = universe.copy()\n",
    "universe_training_year = example_universe.get(\"training_year\")\n",
    "universe_training_size = example_universe.get(\"training_size\")\n",
    "universe_scale = example_universe.get(\"scale\")\n",
    "universe_model = example_universe.get(\"model\")\n",
    "universe_exclude_features = example_universe.get(\"exclude_features\")\n",
    "universe_exclude_subgroups = example_universe.get(\"exclude_subgroups\")"
   ]
  },
  {
   "cell_type": "code",
   "execution_count": 47,
   "id": "f4b6a8ac-9dc0-4245-8a91-5b3b5999c4f9",
   "metadata": {
    "execution": {
     "iopub.execute_input": "2025-08-05T16:33:25.924505Z",
     "iopub.status.busy": "2025-08-05T16:33:25.923724Z",
     "iopub.status.idle": "2025-08-05T16:33:25.932707Z",
     "shell.execute_reply": "2025-08-05T16:33:25.931440Z"
    },
    "papermill": {
     "duration": 0.041897,
     "end_time": "2025-08-05T16:33:25.934811",
     "exception": false,
     "start_time": "2025-08-05T16:33:25.892914",
     "status": "completed"
    },
    "tags": []
   },
   "outputs": [],
   "source": [
    "cp_metrics_dict = {\n",
    "    \"universe_id\": [universe_id],\n",
    "    \"universe_training_year\": [universe_training_year],\n",
    "    \"universe_training_size\": [universe_training_size],\n",
    "    \"universe_scale\": [universe_scale],\n",
    "    \"universe_model\": [universe_model],\n",
    "    \"universe_exclude_features\": [universe_exclude_features],\n",
    "    \"universe_exclude_subgroups\": [universe_exclude_subgroups],\n",
    "    \"q_hat\": [q_hat],\n",
    "    \"coverage\": [metrics[\"coverage\"]],\n",
    "    \"avg_size\": [metrics[\"avg_size\"]],\n",
    "}"
   ]
  },
  {
   "cell_type": "code",
   "execution_count": 48,
   "id": "908acbb1-0371-4915-85ca-3fa520d2efe2",
   "metadata": {
    "execution": {
     "iopub.execute_input": "2025-08-05T16:33:25.996836Z",
     "iopub.status.busy": "2025-08-05T16:33:25.995687Z",
     "iopub.status.idle": "2025-08-05T16:33:26.006485Z",
     "shell.execute_reply": "2025-08-05T16:33:26.005180Z"
    },
    "papermill": {
     "duration": 0.044252,
     "end_time": "2025-08-05T16:33:26.008431",
     "exception": false,
     "start_time": "2025-08-05T16:33:25.964179",
     "status": "completed"
    },
    "tags": []
   },
   "outputs": [
    {
     "data": {
      "text/plain": [
       "{'universe_id': ['83fff83e202bca523744db0f565149c5'],\n",
       " 'universe_training_year': ['2010_14'],\n",
       " 'universe_training_size': ['1k'],\n",
       " 'universe_scale': ['scale'],\n",
       " 'universe_model': ['penalized_logreg'],\n",
       " 'universe_exclude_features': ['sex'],\n",
       " 'universe_exclude_subgroups': ['keep-all'],\n",
       " 'q_hat': [0.7292479748569026],\n",
       " 'coverage': [0.9096979155055178],\n",
       " 'avg_size': [1.192587225504403]}"
      ]
     },
     "execution_count": 48,
     "metadata": {},
     "output_type": "execute_result"
    }
   ],
   "source": [
    "cp_metrics_dict"
   ]
  },
  {
   "cell_type": "code",
   "execution_count": 49,
   "id": "33007efc-14e9-4ec6-97ac-56a455c82265",
   "metadata": {
    "execution": {
     "iopub.execute_input": "2025-08-05T16:33:26.070812Z",
     "iopub.status.busy": "2025-08-05T16:33:26.069942Z",
     "iopub.status.idle": "2025-08-05T16:33:26.078226Z",
     "shell.execute_reply": "2025-08-05T16:33:26.077086Z"
    },
    "papermill": {
     "duration": 0.042294,
     "end_time": "2025-08-05T16:33:26.080231",
     "exception": false,
     "start_time": "2025-08-05T16:33:26.037937",
     "status": "completed"
    },
    "tags": []
   },
   "outputs": [],
   "source": [
    "cp_metrics_df = pd.DataFrame(cp_metrics_dict)"
   ]
  },
  {
   "cell_type": "code",
   "execution_count": 50,
   "id": "db12611b-57b2-4910-b9d0-355adfd6e7bf",
   "metadata": {
    "execution": {
     "iopub.execute_input": "2025-08-05T16:33:26.139473Z",
     "iopub.status.busy": "2025-08-05T16:33:26.138849Z",
     "iopub.status.idle": "2025-08-05T16:33:26.161434Z",
     "shell.execute_reply": "2025-08-05T16:33:26.160115Z"
    },
    "papermill": {
     "duration": 0.055152,
     "end_time": "2025-08-05T16:33:26.163419",
     "exception": false,
     "start_time": "2025-08-05T16:33:26.108267",
     "status": "completed"
    },
    "tags": []
   },
   "outputs": [
    {
     "data": {
      "text/html": [
       "<div>\n",
       "<style scoped>\n",
       "    .dataframe tbody tr th:only-of-type {\n",
       "        vertical-align: middle;\n",
       "    }\n",
       "\n",
       "    .dataframe tbody tr th {\n",
       "        vertical-align: top;\n",
       "    }\n",
       "\n",
       "    .dataframe thead th {\n",
       "        text-align: right;\n",
       "    }\n",
       "</style>\n",
       "<table border=\"1\" class=\"dataframe\">\n",
       "  <thead>\n",
       "    <tr style=\"text-align: right;\">\n",
       "      <th></th>\n",
       "      <th>universe_id</th>\n",
       "      <th>universe_training_year</th>\n",
       "      <th>universe_training_size</th>\n",
       "      <th>universe_scale</th>\n",
       "      <th>universe_model</th>\n",
       "      <th>universe_exclude_features</th>\n",
       "      <th>universe_exclude_subgroups</th>\n",
       "      <th>q_hat</th>\n",
       "      <th>coverage</th>\n",
       "      <th>avg_size</th>\n",
       "    </tr>\n",
       "  </thead>\n",
       "  <tbody>\n",
       "    <tr>\n",
       "      <th>0</th>\n",
       "      <td>83fff83e202bca523744db0f565149c5</td>\n",
       "      <td>2010_14</td>\n",
       "      <td>1k</td>\n",
       "      <td>scale</td>\n",
       "      <td>penalized_logreg</td>\n",
       "      <td>sex</td>\n",
       "      <td>keep-all</td>\n",
       "      <td>0.729248</td>\n",
       "      <td>0.909698</td>\n",
       "      <td>1.192587</td>\n",
       "    </tr>\n",
       "  </tbody>\n",
       "</table>\n",
       "</div>"
      ],
      "text/plain": [
       "                        universe_id universe_training_year  \\\n",
       "0  83fff83e202bca523744db0f565149c5                2010_14   \n",
       "\n",
       "  universe_training_size universe_scale    universe_model  \\\n",
       "0                     1k          scale  penalized_logreg   \n",
       "\n",
       "  universe_exclude_features universe_exclude_subgroups     q_hat  coverage  \\\n",
       "0                       sex                   keep-all  0.729248  0.909698   \n",
       "\n",
       "   avg_size  \n",
       "0  1.192587  "
      ]
     },
     "execution_count": 50,
     "metadata": {},
     "output_type": "execute_result"
    }
   ],
   "source": [
    "cp_metrics_df"
   ]
  },
  {
   "cell_type": "code",
   "execution_count": 51,
   "id": "b7fbde55-a0a1-47e4-9af6-fe4a17fa8c61",
   "metadata": {
    "execution": {
     "iopub.execute_input": "2025-08-05T16:33:26.223021Z",
     "iopub.status.busy": "2025-08-05T16:33:26.222242Z",
     "iopub.status.idle": "2025-08-05T16:33:26.228382Z",
     "shell.execute_reply": "2025-08-05T16:33:26.227205Z"
    },
    "papermill": {
     "duration": 0.038038,
     "end_time": "2025-08-05T16:33:26.230427",
     "exception": false,
     "start_time": "2025-08-05T16:33:26.192389",
     "status": "completed"
    },
    "tags": []
   },
   "outputs": [],
   "source": [
    "# Conditional Coverage & looking at subgroups"
   ]
  },
  {
   "cell_type": "code",
   "execution_count": 52,
   "id": "027ae886-68dd-4141-96c7-805a5450e1ef",
   "metadata": {
    "execution": {
     "iopub.execute_input": "2025-08-05T16:33:26.294362Z",
     "iopub.status.busy": "2025-08-05T16:33:26.293187Z",
     "iopub.status.idle": "2025-08-05T16:33:26.596734Z",
     "shell.execute_reply": "2025-08-05T16:33:26.595863Z"
    },
    "papermill": {
     "duration": 0.337276,
     "end_time": "2025-08-05T16:33:26.598580",
     "exception": false,
     "start_time": "2025-08-05T16:33:26.261304",
     "status": "completed"
    },
    "tags": []
   },
   "outputs": [],
   "source": [
    "from fairness_multiverse.conformal import build_cp_groups\n",
    "\n",
    "cp_groups_df = build_cp_groups(pred_sets, y_true, X_test.index, org_test)\n",
    "#needs universe_id and setting"
   ]
  },
  {
   "cell_type": "code",
   "execution_count": 53,
   "id": "6cbdab96-b2b2-45af-ad54-d0516db2e28d",
   "metadata": {
    "execution": {
     "iopub.execute_input": "2025-08-05T16:33:26.629274Z",
     "iopub.status.busy": "2025-08-05T16:33:26.628613Z",
     "iopub.status.idle": "2025-08-05T16:33:27.680480Z",
     "shell.execute_reply": "2025-08-05T16:33:27.679569Z"
    },
    "papermill": {
     "duration": 1.068113,
     "end_time": "2025-08-05T16:33:27.682179",
     "exception": false,
     "start_time": "2025-08-05T16:33:26.614066",
     "status": "completed"
    },
    "tags": []
   },
   "outputs": [],
   "source": [
    "# Define covered = 1 if true_label is in the predicted set\n",
    "cp_groups_df['covered'] = cp_groups_df.apply(\n",
    "    lambda r: int(r['true_label'] in r['pred_set']),\n",
    "    axis=1\n",
    ")"
   ]
  },
  {
   "cell_type": "code",
   "execution_count": 54,
   "id": "338ff529-1a6b-4b87-a931-8e4788d52aad",
   "metadata": {
    "execution": {
     "iopub.execute_input": "2025-08-05T16:33:27.711638Z",
     "iopub.status.busy": "2025-08-05T16:33:27.711333Z",
     "iopub.status.idle": "2025-08-05T16:33:27.716164Z",
     "shell.execute_reply": "2025-08-05T16:33:27.715013Z"
    },
    "papermill": {
     "duration": 0.020914,
     "end_time": "2025-08-05T16:33:27.717695",
     "exception": false,
     "start_time": "2025-08-05T16:33:27.696781",
     "status": "completed"
    },
    "tags": []
   },
   "outputs": [],
   "source": [
    "#cp_groups_df"
   ]
  },
  {
   "cell_type": "code",
   "execution_count": 55,
   "id": "90032e27-66df-4540-9169-4e89cfbaa758",
   "metadata": {
    "execution": {
     "iopub.execute_input": "2025-08-05T16:33:27.746413Z",
     "iopub.status.busy": "2025-08-05T16:33:27.745808Z",
     "iopub.status.idle": "2025-08-05T16:33:27.756058Z",
     "shell.execute_reply": "2025-08-05T16:33:27.755207Z"
    },
    "papermill": {
     "duration": 0.026012,
     "end_time": "2025-08-05T16:33:27.757569",
     "exception": false,
     "start_time": "2025-08-05T16:33:27.731557",
     "status": "completed"
    },
    "tags": []
   },
   "outputs": [],
   "source": [
    "subgroups = ['frau1','nongerman','nongerman_male','nongerman_female']\n",
    "\n",
    "# Conditional coverage for subgroup==1\n",
    "cond_coverage = {\n",
    "    g: cp_groups_df.loc[cp_groups_df[g]==1, 'covered'].mean()\n",
    "    for g in subgroups\n",
    "}"
   ]
  },
  {
   "cell_type": "code",
   "execution_count": 56,
   "id": "1e348fb1-b9c3-45bc-ba23-f016827a7e0d",
   "metadata": {
    "execution": {
     "iopub.execute_input": "2025-08-05T16:33:27.786314Z",
     "iopub.status.busy": "2025-08-05T16:33:27.785614Z",
     "iopub.status.idle": "2025-08-05T16:33:27.793130Z",
     "shell.execute_reply": "2025-08-05T16:33:27.792325Z"
    },
    "papermill": {
     "duration": 0.023677,
     "end_time": "2025-08-05T16:33:27.794702",
     "exception": false,
     "start_time": "2025-08-05T16:33:27.771025",
     "status": "completed"
    },
    "tags": []
   },
   "outputs": [
    {
     "data": {
      "text/plain": [
       "{'frau1': 0.9106078986386306,\n",
       " 'nongerman': 0.9140515353954977,\n",
       " 'nongerman_male': 0.9274970728631902,\n",
       " 'nongerman_female': 0.8918032786885246}"
      ]
     },
     "execution_count": 56,
     "metadata": {},
     "output_type": "execute_result"
    }
   ],
   "source": [
    "cond_coverage"
   ]
  },
  {
   "cell_type": "code",
   "execution_count": 57,
   "id": "f5093324-c3dd-4d63-bc4c-8d945e5c8bbb",
   "metadata": {
    "execution": {
     "iopub.execute_input": "2025-08-05T16:33:27.823241Z",
     "iopub.status.busy": "2025-08-05T16:33:27.822784Z",
     "iopub.status.idle": "2025-08-05T16:33:27.828923Z",
     "shell.execute_reply": "2025-08-05T16:33:27.828137Z"
    },
    "papermill": {
     "duration": 0.022073,
     "end_time": "2025-08-05T16:33:27.830458",
     "exception": false,
     "start_time": "2025-08-05T16:33:27.808385",
     "status": "completed"
    },
    "tags": []
   },
   "outputs": [],
   "source": [
    "for subgroup, cov in cond_coverage.items():\n",
    "    cp_metrics_df[f\"cov_{subgroup}\"] = cov"
   ]
  },
  {
   "cell_type": "code",
   "execution_count": 58,
   "id": "6e872e10-dbe5-49e8-b554-5030c98ff75d",
   "metadata": {
    "execution": {
     "iopub.execute_input": "2025-08-05T16:33:27.859398Z",
     "iopub.status.busy": "2025-08-05T16:33:27.858942Z",
     "iopub.status.idle": "2025-08-05T16:33:27.875017Z",
     "shell.execute_reply": "2025-08-05T16:33:27.874062Z"
    },
    "papermill": {
     "duration": 0.032081,
     "end_time": "2025-08-05T16:33:27.876566",
     "exception": false,
     "start_time": "2025-08-05T16:33:27.844485",
     "status": "completed"
    },
    "tags": []
   },
   "outputs": [
    {
     "data": {
      "text/html": [
       "<div>\n",
       "<style scoped>\n",
       "    .dataframe tbody tr th:only-of-type {\n",
       "        vertical-align: middle;\n",
       "    }\n",
       "\n",
       "    .dataframe tbody tr th {\n",
       "        vertical-align: top;\n",
       "    }\n",
       "\n",
       "    .dataframe thead th {\n",
       "        text-align: right;\n",
       "    }\n",
       "</style>\n",
       "<table border=\"1\" class=\"dataframe\">\n",
       "  <thead>\n",
       "    <tr style=\"text-align: right;\">\n",
       "      <th></th>\n",
       "      <th>universe_id</th>\n",
       "      <th>universe_training_year</th>\n",
       "      <th>universe_training_size</th>\n",
       "      <th>universe_scale</th>\n",
       "      <th>universe_model</th>\n",
       "      <th>universe_exclude_features</th>\n",
       "      <th>universe_exclude_subgroups</th>\n",
       "      <th>q_hat</th>\n",
       "      <th>coverage</th>\n",
       "      <th>avg_size</th>\n",
       "      <th>cov_frau1</th>\n",
       "      <th>cov_nongerman</th>\n",
       "      <th>cov_nongerman_male</th>\n",
       "      <th>cov_nongerman_female</th>\n",
       "    </tr>\n",
       "  </thead>\n",
       "  <tbody>\n",
       "    <tr>\n",
       "      <th>0</th>\n",
       "      <td>83fff83e202bca523744db0f565149c5</td>\n",
       "      <td>2010_14</td>\n",
       "      <td>1k</td>\n",
       "      <td>scale</td>\n",
       "      <td>penalized_logreg</td>\n",
       "      <td>sex</td>\n",
       "      <td>keep-all</td>\n",
       "      <td>0.729248</td>\n",
       "      <td>0.909698</td>\n",
       "      <td>1.192587</td>\n",
       "      <td>0.910608</td>\n",
       "      <td>0.914052</td>\n",
       "      <td>0.927497</td>\n",
       "      <td>0.891803</td>\n",
       "    </tr>\n",
       "  </tbody>\n",
       "</table>\n",
       "</div>"
      ],
      "text/plain": [
       "                        universe_id universe_training_year  \\\n",
       "0  83fff83e202bca523744db0f565149c5                2010_14   \n",
       "\n",
       "  universe_training_size universe_scale    universe_model  \\\n",
       "0                     1k          scale  penalized_logreg   \n",
       "\n",
       "  universe_exclude_features universe_exclude_subgroups     q_hat  coverage  \\\n",
       "0                       sex                   keep-all  0.729248  0.909698   \n",
       "\n",
       "   avg_size  cov_frau1  cov_nongerman  cov_nongerman_male  \\\n",
       "0  1.192587   0.910608       0.914052            0.927497   \n",
       "\n",
       "   cov_nongerman_female  \n",
       "0              0.891803  "
      ]
     },
     "execution_count": 58,
     "metadata": {},
     "output_type": "execute_result"
    }
   ],
   "source": [
    "cp_metrics_df"
   ]
  },
  {
   "cell_type": "markdown",
   "id": "33774451",
   "metadata": {
    "papermill": {
     "duration": 0.013699,
     "end_time": "2025-08-05T16:33:27.904271",
     "exception": false,
     "start_time": "2025-08-05T16:33:27.890572",
     "status": "completed"
    },
    "tags": []
   },
   "source": [
    "# (Fairness) Metrics"
   ]
  },
  {
   "cell_type": "code",
   "execution_count": 59,
   "id": "debc5d62",
   "metadata": {
    "execution": {
     "iopub.execute_input": "2025-08-05T16:33:27.933350Z",
     "iopub.status.busy": "2025-08-05T16:33:27.932729Z",
     "iopub.status.idle": "2025-08-05T16:33:27.948882Z",
     "shell.execute_reply": "2025-08-05T16:33:27.947987Z"
    },
    "papermill": {
     "duration": 0.032344,
     "end_time": "2025-08-05T16:33:27.950462",
     "exception": false,
     "start_time": "2025-08-05T16:33:27.918118",
     "status": "completed"
    },
    "tags": []
   },
   "outputs": [],
   "source": [
    "# do I need to include maxdeutsch1.missing?\n",
    "\n",
    "import numpy as np\n",
    "\n",
    "colname_to_bin = \"maxdeutsch1\"\n",
    "majority_value = org_train[colname_to_bin].mode()[0]\n",
    "\n",
    "org_test[\"majmin\"] = np.where(org_test[colname_to_bin] == majority_value, \"majority\", \"minority\")"
   ]
  },
  {
   "cell_type": "code",
   "execution_count": 60,
   "id": "06a50de5",
   "metadata": {
    "execution": {
     "iopub.execute_input": "2025-08-05T16:33:27.981776Z",
     "iopub.status.busy": "2025-08-05T16:33:27.980888Z",
     "iopub.status.idle": "2025-08-05T16:33:30.019211Z",
     "shell.execute_reply": "2025-08-05T16:33:30.018249Z"
    },
    "papermill": {
     "duration": 2.055655,
     "end_time": "2025-08-05T16:33:30.020931",
     "exception": false,
     "start_time": "2025-08-05T16:33:27.965276",
     "status": "completed"
    },
    "tags": []
   },
   "outputs": [],
   "source": [
    "example_universe = universe.copy()\n",
    "example_universe[\"cutoff\"] = example_universe[\"cutoff\"][0]\n",
    "example_universe[\"eval_fairness_grouping\"] = example_universe[\"eval_fairness_grouping\"][0]\n",
    "fairness_dict, metric_frame = universe_analysis.compute_metrics(\n",
    "    example_universe,\n",
    "    y_pred_prob=probs_test,\n",
    "    y_test=y_true,\n",
    "    org_test=org_test,\n",
    ")"
   ]
  },
  {
   "cell_type": "markdown",
   "id": "f95d4e02",
   "metadata": {
    "papermill": {
     "duration": 0.014431,
     "end_time": "2025-08-05T16:33:30.050489",
     "exception": false,
     "start_time": "2025-08-05T16:33:30.036058",
     "status": "completed"
    },
    "tags": []
   },
   "source": [
    "# Overall"
   ]
  },
  {
   "cell_type": "markdown",
   "id": "bdee4871",
   "metadata": {
    "papermill": {
     "duration": 0.014836,
     "end_time": "2025-08-05T16:33:30.079769",
     "exception": false,
     "start_time": "2025-08-05T16:33:30.064933",
     "status": "completed"
    },
    "tags": []
   },
   "source": [
    "Fairness\n",
    "Main fairness target: Equalized Odds. Seems to be a better fit than equal opportunity, since we're not only interested in Y = 1. Seems to be a better fit than demographic parity, since we also care about accuracy, not just equal distribution of preds.\n",
    "\n",
    "Pick column for computation of fairness metrics\n",
    "\n",
    "Performance\n",
    "Overall performance measures, most interesting in relation to the measures split by group below"
   ]
  },
  {
   "cell_type": "code",
   "execution_count": 61,
   "id": "c4e067c6",
   "metadata": {
    "execution": {
     "iopub.execute_input": "2025-08-05T16:33:30.111565Z",
     "iopub.status.busy": "2025-08-05T16:33:30.110543Z",
     "iopub.status.idle": "2025-08-05T16:33:30.119258Z",
     "shell.execute_reply": "2025-08-05T16:33:30.118432Z"
    },
    "papermill": {
     "duration": 0.026171,
     "end_time": "2025-08-05T16:33:30.120839",
     "exception": false,
     "start_time": "2025-08-05T16:33:30.094668",
     "status": "completed"
    },
    "tags": []
   },
   "outputs": [
    {
     "data": {
      "text/plain": [
       "accuracy                   0.220210\n",
       "balanced accuracy          0.539315\n",
       "f1                         0.241656\n",
       "precision                  0.138050\n",
       "false positive rate        0.889913\n",
       "false negative rate        0.031456\n",
       "selection rate             0.900000\n",
       "count                  89710.000000\n",
       "dtype: float64"
      ]
     },
     "execution_count": 61,
     "metadata": {},
     "output_type": "execute_result"
    }
   ],
   "source": [
    "metric_frame.overall"
   ]
  },
  {
   "cell_type": "markdown",
   "id": "e968fe9d",
   "metadata": {
    "papermill": {
     "duration": 0.014646,
     "end_time": "2025-08-05T16:33:30.150879",
     "exception": false,
     "start_time": "2025-08-05T16:33:30.136233",
     "status": "completed"
    },
    "tags": []
   },
   "source": [
    "By Group"
   ]
  },
  {
   "cell_type": "code",
   "execution_count": 62,
   "id": "ec325bce",
   "metadata": {
    "execution": {
     "iopub.execute_input": "2025-08-05T16:33:30.181021Z",
     "iopub.status.busy": "2025-08-05T16:33:30.180441Z",
     "iopub.status.idle": "2025-08-05T16:33:30.195619Z",
     "shell.execute_reply": "2025-08-05T16:33:30.194763Z"
    },
    "papermill": {
     "duration": 0.032079,
     "end_time": "2025-08-05T16:33:30.197180",
     "exception": false,
     "start_time": "2025-08-05T16:33:30.165101",
     "status": "completed"
    },
    "tags": []
   },
   "outputs": [
    {
     "data": {
      "text/html": [
       "<div>\n",
       "<style scoped>\n",
       "    .dataframe tbody tr th:only-of-type {\n",
       "        vertical-align: middle;\n",
       "    }\n",
       "\n",
       "    .dataframe tbody tr th {\n",
       "        vertical-align: top;\n",
       "    }\n",
       "\n",
       "    .dataframe thead th {\n",
       "        text-align: right;\n",
       "    }\n",
       "</style>\n",
       "<table border=\"1\" class=\"dataframe\">\n",
       "  <thead>\n",
       "    <tr style=\"text-align: right;\">\n",
       "      <th></th>\n",
       "      <th>accuracy</th>\n",
       "      <th>balanced accuracy</th>\n",
       "      <th>f1</th>\n",
       "      <th>precision</th>\n",
       "      <th>false positive rate</th>\n",
       "      <th>false negative rate</th>\n",
       "      <th>selection rate</th>\n",
       "      <th>count</th>\n",
       "    </tr>\n",
       "    <tr>\n",
       "      <th>majmin</th>\n",
       "      <th></th>\n",
       "      <th></th>\n",
       "      <th></th>\n",
       "      <th></th>\n",
       "      <th></th>\n",
       "      <th></th>\n",
       "      <th></th>\n",
       "      <th></th>\n",
       "    </tr>\n",
       "  </thead>\n",
       "  <tbody>\n",
       "    <tr>\n",
       "      <th>majority</th>\n",
       "      <td>0.236215</td>\n",
       "      <td>0.545122</td>\n",
       "      <td>0.250316</td>\n",
       "      <td>0.143810</td>\n",
       "      <td>0.874746</td>\n",
       "      <td>0.035011</td>\n",
       "      <td>0.886671</td>\n",
       "      <td>69170.0</td>\n",
       "    </tr>\n",
       "    <tr>\n",
       "      <th>minority</th>\n",
       "      <td>0.166310</td>\n",
       "      <td>0.521123</td>\n",
       "      <td>0.213630</td>\n",
       "      <td>0.119847</td>\n",
       "      <td>0.940018</td>\n",
       "      <td>0.017736</td>\n",
       "      <td>0.944888</td>\n",
       "      <td>20540.0</td>\n",
       "    </tr>\n",
       "  </tbody>\n",
       "</table>\n",
       "</div>"
      ],
      "text/plain": [
       "          accuracy  balanced accuracy        f1  precision  \\\n",
       "majmin                                                       \n",
       "majority  0.236215           0.545122  0.250316   0.143810   \n",
       "minority  0.166310           0.521123  0.213630   0.119847   \n",
       "\n",
       "          false positive rate  false negative rate  selection rate    count  \n",
       "majmin                                                                       \n",
       "majority             0.874746             0.035011        0.886671  69170.0  \n",
       "minority             0.940018             0.017736        0.944888  20540.0  "
      ]
     },
     "execution_count": 62,
     "metadata": {},
     "output_type": "execute_result"
    }
   ],
   "source": [
    "metric_frame.by_group"
   ]
  },
  {
   "cell_type": "code",
   "execution_count": 63,
   "id": "a9ddbe63",
   "metadata": {
    "execution": {
     "iopub.execute_input": "2025-08-05T16:33:30.229114Z",
     "iopub.status.busy": "2025-08-05T16:33:30.228218Z",
     "iopub.status.idle": "2025-08-05T16:33:32.670858Z",
     "shell.execute_reply": "2025-08-05T16:33:32.669539Z"
    },
    "papermill": {
     "duration": 2.460325,
     "end_time": "2025-08-05T16:33:32.672905",
     "exception": false,
     "start_time": "2025-08-05T16:33:30.212580",
     "status": "completed"
    },
    "tags": []
   },
   "outputs": [
    {
     "data": {
      "text/plain": [
       "array([[<Axes: title={'center': 'accuracy'}, xlabel='majmin'>,\n",
       "        <Axes: title={'center': 'balanced accuracy'}, xlabel='majmin'>,\n",
       "        <Axes: title={'center': 'f1'}, xlabel='majmin'>],\n",
       "       [<Axes: title={'center': 'precision'}, xlabel='majmin'>,\n",
       "        <Axes: title={'center': 'false positive rate'}, xlabel='majmin'>,\n",
       "        <Axes: title={'center': 'false negative rate'}, xlabel='majmin'>],\n",
       "       [<Axes: title={'center': 'selection rate'}, xlabel='majmin'>,\n",
       "        <Axes: title={'center': 'count'}, xlabel='majmin'>,\n",
       "        <Axes: xlabel='majmin'>]], dtype=object)"
      ]
     },
     "execution_count": 63,
     "metadata": {},
     "output_type": "execute_result"
    },
    {
     "data": {
      "image/png": "[encoded data removed]",
      "text/plain": [
       "<Figure size 1200x800 with 9 Axes>"
      ]
     },
     "metadata": {},
     "output_type": "display_data"
    }
   ],
   "source": [
    "# In a graphic\n",
    "metric_frame.by_group.plot.bar(\n",
    "    subplots=True,\n",
    "    layout=[3, 3],\n",
    "    legend=False,\n",
    "    figsize=[12, 8],\n",
    "    title=\"Show all metrics\",\n",
    ")"
   ]
  },
  {
   "cell_type": "markdown",
   "id": "f57a0bac",
   "metadata": {
    "papermill": {
     "duration": 0.032644,
     "end_time": "2025-08-05T16:33:32.738982",
     "exception": false,
     "start_time": "2025-08-05T16:33:32.706338",
     "status": "completed"
    },
    "tags": []
   },
   "source": [
    "# Final Output"
   ]
  },
  {
   "cell_type": "code",
   "execution_count": 64,
   "id": "96d280a3",
   "metadata": {
    "execution": {
     "iopub.execute_input": "2025-08-05T16:33:32.806850Z",
     "iopub.status.busy": "2025-08-05T16:33:32.806021Z",
     "iopub.status.idle": "2025-08-05T16:33:32.814589Z",
     "shell.execute_reply": "2025-08-05T16:33:32.813711Z"
    },
    "papermill": {
     "duration": 0.044445,
     "end_time": "2025-08-05T16:33:32.816212",
     "exception": false,
     "start_time": "2025-08-05T16:33:32.771767",
     "status": "completed"
    },
    "tags": []
   },
   "outputs": [
    {
     "data": {
      "text/plain": [
       "4"
      ]
     },
     "execution_count": 64,
     "metadata": {},
     "output_type": "execute_result"
    }
   ],
   "source": [
    "sub_universes = universe_analysis.generate_sub_universes()\n",
    "len(sub_universes)"
   ]
  },
  {
   "cell_type": "code",
   "execution_count": 65,
   "id": "92adf7ba",
   "metadata": {
    "execution": {
     "iopub.execute_input": "2025-08-05T16:33:32.852352Z",
     "iopub.status.busy": "2025-08-05T16:33:32.851966Z",
     "iopub.status.idle": "2025-08-05T16:33:32.858757Z",
     "shell.execute_reply": "2025-08-05T16:33:32.857384Z"
    },
    "papermill": {
     "duration": 0.028756,
     "end_time": "2025-08-05T16:33:32.860749",
     "exception": false,
     "start_time": "2025-08-05T16:33:32.831993",
     "status": "completed"
    },
    "tags": []
   },
   "outputs": [],
   "source": [
    "def filter_sub_universe_data(sub_universe, org_test):\n",
    "    # Keep all rows — no filtering\n",
    "    keep_rows_mask = np.ones(org_test.shape[0], dtype=bool)\n",
    "\n",
    "    print(f\"[INFO] Keeping all rows: {keep_rows_mask.sum()} rows retained.\")\n",
    "    return keep_rows_mask"
   ]
  },
  {
   "cell_type": "code",
   "execution_count": 66,
   "id": "4a759155",
   "metadata": {
    "execution": {
     "iopub.execute_input": "2025-08-05T16:33:32.912715Z",
     "iopub.status.busy": "2025-08-05T16:33:32.912214Z",
     "iopub.status.idle": "2025-08-05T16:33:41.992759Z",
     "shell.execute_reply": "2025-08-05T16:33:41.989398Z"
    },
    "papermill": {
     "duration": 9.102216,
     "end_time": "2025-08-05T16:33:41.994792",
     "exception": false,
     "start_time": "2025-08-05T16:33:32.892576",
     "status": "completed"
    },
    "tags": []
   },
   "outputs": [
    {
     "name": "stdout",
     "output_type": "stream",
     "text": [
      "Stopping execution_time clock.\n",
      "[INFO] Keeping all rows: 89710 rows retained.\n"
     ]
    },
    {
     "name": "stdout",
     "output_type": "stream",
     "text": [
      "[INFO] Keeping all rows: 89710 rows retained.\n"
     ]
    },
    {
     "name": "stdout",
     "output_type": "stream",
     "text": [
      "[INFO] Keeping all rows: 89710 rows retained.\n"
     ]
    },
    {
     "name": "stdout",
     "output_type": "stream",
     "text": [
      "[INFO] Keeping all rows: 89710 rows retained.\n"
     ]
    },
    {
     "data": {
      "text/html": [
       "<div>\n",
       "<style scoped>\n",
       "    .dataframe tbody tr th:only-of-type {\n",
       "        vertical-align: middle;\n",
       "    }\n",
       "\n",
       "    .dataframe tbody tr th {\n",
       "        vertical-align: top;\n",
       "    }\n",
       "\n",
       "    .dataframe thead th {\n",
       "        text-align: right;\n",
       "    }\n",
       "</style>\n",
       "<table border=\"1\" class=\"dataframe\">\n",
       "  <thead>\n",
       "    <tr style=\"text-align: right;\">\n",
       "      <th></th>\n",
       "      <th>run_no</th>\n",
       "      <th>universe_id</th>\n",
       "      <th>universe_settings</th>\n",
       "      <th>execution_time</th>\n",
       "      <th>test_size_n</th>\n",
       "      <th>test_size_frac</th>\n",
       "      <th>fair_main_equalized_odds_difference</th>\n",
       "      <th>fair_main_equalized_odds_ratio</th>\n",
       "      <th>fair_main_demographic_parity_difference</th>\n",
       "      <th>fair_main_demographic_parity_ratio</th>\n",
       "      <th>...</th>\n",
       "      <th>perf_grp_precision_0</th>\n",
       "      <th>perf_grp_precision_1</th>\n",
       "      <th>perf_grp_false positive rate_0</th>\n",
       "      <th>perf_grp_false positive rate_1</th>\n",
       "      <th>perf_grp_false negative rate_0</th>\n",
       "      <th>perf_grp_false negative rate_1</th>\n",
       "      <th>perf_grp_selection rate_0</th>\n",
       "      <th>perf_grp_selection rate_1</th>\n",
       "      <th>perf_grp_count_0</th>\n",
       "      <th>perf_grp_count_1</th>\n",
       "    </tr>\n",
       "  </thead>\n",
       "  <tbody>\n",
       "    <tr>\n",
       "      <th>0</th>\n",
       "      <td>15</td>\n",
       "      <td>83fff83e202bca523744db0f565149c5</td>\n",
       "      <td>{\"cutoff\": \"quantile_0.1\", \"eval_fairness_grou...</td>\n",
       "      <td>28.667682</td>\n",
       "      <td>89710</td>\n",
       "      <td>1.0</td>\n",
       "      <td>0.065272</td>\n",
       "      <td>0.930563</td>\n",
       "      <td>0.058218</td>\n",
       "      <td>0.938387</td>\n",
       "      <td>...</td>\n",
       "      <td>NaN</td>\n",
       "      <td>NaN</td>\n",
       "      <td>NaN</td>\n",
       "      <td>NaN</td>\n",
       "      <td>NaN</td>\n",
       "      <td>NaN</td>\n",
       "      <td>NaN</td>\n",
       "      <td>NaN</td>\n",
       "      <td>NaN</td>\n",
       "      <td>NaN</td>\n",
       "    </tr>\n",
       "    <tr>\n",
       "      <th>0</th>\n",
       "      <td>15</td>\n",
       "      <td>83fff83e202bca523744db0f565149c5</td>\n",
       "      <td>{\"cutoff\": \"quantile_0.1\", \"eval_fairness_grou...</td>\n",
       "      <td>28.667682</td>\n",
       "      <td>89710</td>\n",
       "      <td>1.0</td>\n",
       "      <td>0.065272</td>\n",
       "      <td>0.930563</td>\n",
       "      <td>0.058218</td>\n",
       "      <td>0.938387</td>\n",
       "      <td>...</td>\n",
       "      <td>0.119847</td>\n",
       "      <td>0.143810</td>\n",
       "      <td>0.940018</td>\n",
       "      <td>0.874746</td>\n",
       "      <td>0.017736</td>\n",
       "      <td>0.035011</td>\n",
       "      <td>0.944888</td>\n",
       "      <td>0.886671</td>\n",
       "      <td>20540.0</td>\n",
       "      <td>69170.0</td>\n",
       "    </tr>\n",
       "    <tr>\n",
       "      <th>0</th>\n",
       "      <td>15</td>\n",
       "      <td>83fff83e202bca523744db0f565149c5</td>\n",
       "      <td>{\"cutoff\": \"quantile_0.25\", \"eval_fairness_gro...</td>\n",
       "      <td>28.667682</td>\n",
       "      <td>89710</td>\n",
       "      <td>1.0</td>\n",
       "      <td>0.042264</td>\n",
       "      <td>0.953278</td>\n",
       "      <td>0.012888</td>\n",
       "      <td>0.983040</td>\n",
       "      <td>...</td>\n",
       "      <td>NaN</td>\n",
       "      <td>NaN</td>\n",
       "      <td>NaN</td>\n",
       "      <td>NaN</td>\n",
       "      <td>NaN</td>\n",
       "      <td>NaN</td>\n",
       "      <td>NaN</td>\n",
       "      <td>NaN</td>\n",
       "      <td>NaN</td>\n",
       "      <td>NaN</td>\n",
       "    </tr>\n",
       "    <tr>\n",
       "      <th>0</th>\n",
       "      <td>15</td>\n",
       "      <td>83fff83e202bca523744db0f565149c5</td>\n",
       "      <td>{\"cutoff\": \"quantile_0.25\", \"eval_fairness_gro...</td>\n",
       "      <td>28.667682</td>\n",
       "      <td>89710</td>\n",
       "      <td>1.0</td>\n",
       "      <td>0.042264</td>\n",
       "      <td>0.953278</td>\n",
       "      <td>0.012888</td>\n",
       "      <td>0.983040</td>\n",
       "      <td>...</td>\n",
       "      <td>0.130822</td>\n",
       "      <td>0.160006</td>\n",
       "      <td>0.746588</td>\n",
       "      <td>0.723055</td>\n",
       "      <td>0.137669</td>\n",
       "      <td>0.095405</td>\n",
       "      <td>0.759932</td>\n",
       "      <td>0.747044</td>\n",
       "      <td>20540.0</td>\n",
       "      <td>69170.0</td>\n",
       "    </tr>\n",
       "  </tbody>\n",
       "</table>\n",
       "<p>4 rows × 50 columns</p>\n",
       "</div>"
      ],
      "text/plain": [
       "  run_no                       universe_id  \\\n",
       "0     15  83fff83e202bca523744db0f565149c5   \n",
       "0     15  83fff83e202bca523744db0f565149c5   \n",
       "0     15  83fff83e202bca523744db0f565149c5   \n",
       "0     15  83fff83e202bca523744db0f565149c5   \n",
       "\n",
       "                                   universe_settings  execution_time  \\\n",
       "0  {\"cutoff\": \"quantile_0.1\", \"eval_fairness_grou...       28.667682   \n",
       "0  {\"cutoff\": \"quantile_0.1\", \"eval_fairness_grou...       28.667682   \n",
       "0  {\"cutoff\": \"quantile_0.25\", \"eval_fairness_gro...       28.667682   \n",
       "0  {\"cutoff\": \"quantile_0.25\", \"eval_fairness_gro...       28.667682   \n",
       "\n",
       "   test_size_n  test_size_frac  fair_main_equalized_odds_difference  \\\n",
       "0        89710             1.0                             0.065272   \n",
       "0        89710             1.0                             0.065272   \n",
       "0        89710             1.0                             0.042264   \n",
       "0        89710             1.0                             0.042264   \n",
       "\n",
       "   fair_main_equalized_odds_ratio  fair_main_demographic_parity_difference  \\\n",
       "0                        0.930563                                 0.058218   \n",
       "0                        0.930563                                 0.058218   \n",
       "0                        0.953278                                 0.012888   \n",
       "0                        0.953278                                 0.012888   \n",
       "\n",
       "   fair_main_demographic_parity_ratio  ...  perf_grp_precision_0  \\\n",
       "0                            0.938387  ...                   NaN   \n",
       "0                            0.938387  ...              0.119847   \n",
       "0                            0.983040  ...                   NaN   \n",
       "0                            0.983040  ...              0.130822   \n",
       "\n",
       "   perf_grp_precision_1  perf_grp_false positive rate_0  \\\n",
       "0                   NaN                             NaN   \n",
       "0              0.143810                        0.940018   \n",
       "0                   NaN                             NaN   \n",
       "0              0.160006                        0.746588   \n",
       "\n",
       "   perf_grp_false positive rate_1  perf_grp_false negative rate_0  \\\n",
       "0                             NaN                             NaN   \n",
       "0                        0.874746                        0.017736   \n",
       "0                             NaN                             NaN   \n",
       "0                        0.723055                        0.137669   \n",
       "\n",
       "   perf_grp_false negative rate_1  perf_grp_selection rate_0  \\\n",
       "0                             NaN                        NaN   \n",
       "0                        0.035011                   0.944888   \n",
       "0                             NaN                        NaN   \n",
       "0                        0.095405                   0.759932   \n",
       "\n",
       "   perf_grp_selection rate_1  perf_grp_count_0  perf_grp_count_1  \n",
       "0                        NaN               NaN               NaN  \n",
       "0                   0.886671           20540.0           69170.0  \n",
       "0                        NaN               NaN               NaN  \n",
       "0                   0.747044           20540.0           69170.0  \n",
       "\n",
       "[4 rows x 50 columns]"
      ]
     },
     "execution_count": 66,
     "metadata": {},
     "output_type": "execute_result"
    }
   ],
   "source": [
    "final_output = universe_analysis.generate_final_output(\n",
    "    y_pred_prob=probs_test,\n",
    "    y_test=y_true,\n",
    "    org_test=org_test,\n",
    "    filter_data=filter_sub_universe_data,\n",
    "    cp_metrics_df=cp_metrics_df,\n",
    "    save=True,\n",
    ")\n",
    "final_output"
   ]
  }
 ],
 "metadata": {
  "celltoolbar": "Tags",
  "kernelspec": {
   "display_name": "Python (CMA Fairness)",
   "language": "python",
   "name": "cma_fair_env"
  },
  "language_info": {
   "codemirror_mode": {
    "name": "ipython",
    "version": 3
   },
   "file_extension": ".py",
   "mimetype": "text/x-python",
   "name": "python",
   "nbconvert_exporter": "python",
   "pygments_lexer": "ipython3",
   "version": "3.10.12"
  },
  "papermill": {
   "default_parameters": {},
   "duration": 42.06775,
   "end_time": "2025-08-05T16:33:42.850807",
   "environment_variables": {},
   "exception": null,
   "input_path": "universe_analysis.ipynb",
   "output_path": "output/runs/15/notebooks/m_15-83fff83e202bca523744db0f565149c5.ipynb",
   "parameters": {
    "output_dir": "output",
    "run_no": "15",
    "seed": "2023",
    "universe": "{\"cutoff\": [\"quantile_0.1\", \"quantile_0.25\"], \"eval_fairness_grouping\": [\"majority-minority\", \"nationality-all\"], \"exclude_features\": \"sex\", \"exclude_subgroups\": \"keep-all\", \"model\": \"penalized_logreg\", \"scale\": \"scale\", \"training_size\": \"1k\", \"training_year\": \"2010_14\"}",
    "universe_id": "83fff83e202bca523744db0f565149c5"
   },
   "start_time": "2025-08-05T16:33:00.783057",
   "version": "2.6.0"
  }
 },
 "nbformat": 4,
 "nbformat_minor": 5
}