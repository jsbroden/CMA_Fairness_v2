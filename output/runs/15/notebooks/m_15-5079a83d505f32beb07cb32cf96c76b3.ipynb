{
 "cells": [
  {
   "cell_type": "code",
   "execution_count": 1,
   "id": "f159f837-637b-42ba-96b5-ec9a68c44524",
   "metadata": {
    "execution": {
     "iopub.execute_input": "2025-08-05T15:57:55.835867Z",
     "iopub.status.busy": "2025-08-05T15:57:55.835517Z",
     "iopub.status.idle": "2025-08-05T15:57:55.846044Z",
     "shell.execute_reply": "2025-08-05T15:57:55.844989Z"
    },
    "papermill": {
     "duration": 0.024154,
     "end_time": "2025-08-05T15:57:55.847358",
     "exception": false,
     "start_time": "2025-08-05T15:57:55.823204",
     "status": "completed"
    },
    "tags": []
   },
   "outputs": [
    {
     "name": "stdout",
     "output_type": "stream",
     "text": [
      "/dss/dsshome1/0C/ra93lal2/cma/CMA_Fairness_v2\n"
     ]
    },
    {
     "name": "stderr",
     "output_type": "stream",
     "text": [
      "/dss/dsshome1/0C/ra93lal2/.local/share/virtualenvs/CMA_Fairness_v2-3j10GkSs/lib/python3.10/site-packages/IPython/core/magics/osm.py:393: UserWarning: This is now an optional IPython functionality, using bookmarks requires you to install the `pickleshare` library.\n",
      "  bkms = self.shell.db.get('bookmarks', {})\n",
      "/dss/dsshome1/0C/ra93lal2/.local/share/virtualenvs/CMA_Fairness_v2-3j10GkSs/lib/python3.10/site-packages/IPython/core/magics/osm.py:417: UserWarning: This is now an optional IPython functionality, setting dhist requires you to install the `pickleshare` library.\n",
      "  self.shell.db['dhist'] = compress_dhist(dhist)[-100:]\n"
     ]
    }
   ],
   "source": [
    "%cd ~/cma/CMA_Fairness_v2"
   ]
  },
  {
   "cell_type": "markdown",
   "id": "de2603b9",
   "metadata": {
    "papermill": {
     "duration": 0.008276,
     "end_time": "2025-08-05T15:57:55.864647",
     "exception": false,
     "start_time": "2025-08-05T15:57:55.856371",
     "status": "completed"
    },
    "tags": []
   },
   "source": [
    "The following cell holds the definition of our parameters, these values can be overriden by rendering the with e.g. the following command:\n",
    "\n",
    "papermill -p alpha 0.2 -p ratio 0.3 universe_analysis.ipynb output/test_run.ipynb"
   ]
  },
  {
   "cell_type": "code",
   "execution_count": 2,
   "id": "a80968a0-40bb-4fa9-85ef-2d5eefb01975",
   "metadata": {
    "execution": {
     "iopub.execute_input": "2025-08-05T15:57:55.905023Z",
     "iopub.status.busy": "2025-08-05T15:57:55.904607Z",
     "iopub.status.idle": "2025-08-05T15:57:55.910394Z",
     "shell.execute_reply": "2025-08-05T15:57:55.909423Z"
    },
    "papermill": {
     "duration": 0.03427,
     "end_time": "2025-08-05T15:57:55.912384",
     "exception": false,
     "start_time": "2025-08-05T15:57:55.878114",
     "status": "completed"
    },
    "tags": []
   },
   "outputs": [
    {
     "name": "stdout",
     "output_type": "stream",
     "text": [
      "Current working directory: /dss/dsshome1/0C/ra93lal2/cma/CMA_Fairness_v2\n"
     ]
    }
   ],
   "source": [
    "import os\n",
    "print(\"Current working directory:\", os.getcwd())"
   ]
  },
  {
   "cell_type": "code",
   "execution_count": 3,
   "id": "2dce4c03",
   "metadata": {
    "execution": {
     "iopub.execute_input": "2025-08-05T15:57:56.013721Z",
     "iopub.status.busy": "2025-08-05T15:57:56.013219Z",
     "iopub.status.idle": "2025-08-05T15:57:56.020798Z",
     "shell.execute_reply": "2025-08-05T15:57:56.018820Z"
    },
    "papermill": {
     "duration": 0.028162,
     "end_time": "2025-08-05T15:57:56.023015",
     "exception": false,
     "start_time": "2025-08-05T15:57:55.994853",
     "status": "completed"
    },
    "tags": [
     "parameters"
    ]
   },
   "outputs": [],
   "source": [
    "run_no = 0\n",
    "universe_id = \"test\"\n",
    "universe = {\n",
    "    \"training_size\": \"25k\", # \"25k\", \"5k\", \"1k\"\n",
    "    \"training_year\": \"2014\", # \"2014\", \"2012_14\", \"2010_14\"\n",
    "    \"scale\": \"scale\", # \"scale\", \"do-not-scale\",\n",
    "    \"model\": \"elasticnet\", # \"logreg\", \"penalized_logreg\", \"rf\", \"gbm\", \"elasticnet\"\n",
    "    \"cutoff\": [\"quantile_0.15\", \"quantile_0.30\"],\n",
    "    \"exclude_features\": \"age\", # \"none\", \"nationality\", \"sex\", \"nationality-sex\", \"age\"\n",
    "    \"exclude_subgroups\": \"keep-all\", # \"keep-all\", \"drop-non-german\"\n",
    "    \"eval_fairness_grouping\": [\"majority-minority\", \"nationality-all\"]\n",
    "}\n",
    "\n",
    "output_dir=\"./output\"\n",
    "seed=0"
   ]
  },
  {
   "cell_type": "code",
   "execution_count": 4,
   "id": "16ef0e50",
   "metadata": {
    "execution": {
     "iopub.execute_input": "2025-08-05T15:57:56.060412Z",
     "iopub.status.busy": "2025-08-05T15:57:56.059903Z",
     "iopub.status.idle": "2025-08-05T15:57:56.065741Z",
     "shell.execute_reply": "2025-08-05T15:57:56.064536Z"
    },
    "papermill": {
     "duration": 0.027589,
     "end_time": "2025-08-05T15:57:56.068118",
     "exception": false,
     "start_time": "2025-08-05T15:57:56.040529",
     "status": "completed"
    },
    "tags": [
     "injected-parameters"
    ]
   },
   "outputs": [],
   "source": [
    "# Parameters\n",
    "universe_id = \"5079a83d505f32beb07cb32cf96c76b3\"\n",
    "run_no = \"15\"\n",
    "universe = \"{\\\"cutoff\\\": [\\\"quantile_0.1\\\", \\\"quantile_0.25\\\"], \\\"eval_fairness_grouping\\\": [\\\"majority-minority\\\", \\\"nationality-all\\\"], \\\"exclude_features\\\": \\\"sex\\\", \\\"exclude_subgroups\\\": \\\"drop-non-german\\\", \\\"model\\\": \\\"rf\\\", \\\"scale\\\": \\\"do-not-scale\\\", \\\"training_size\\\": \\\"5k\\\", \\\"training_year\\\": \\\"2010_14\\\"}\"\n",
    "output_dir = \"output\"\n",
    "seed = \"2023\"\n"
   ]
  },
  {
   "cell_type": "code",
   "execution_count": 5,
   "id": "1650acaf",
   "metadata": {
    "execution": {
     "iopub.execute_input": "2025-08-05T15:57:56.091659Z",
     "iopub.status.busy": "2025-08-05T15:57:56.091238Z",
     "iopub.status.idle": "2025-08-05T15:57:56.095509Z",
     "shell.execute_reply": "2025-08-05T15:57:56.094725Z"
    },
    "papermill": {
     "duration": 0.015495,
     "end_time": "2025-08-05T15:57:56.097252",
     "exception": false,
     "start_time": "2025-08-05T15:57:56.081757",
     "status": "completed"
    },
    "tags": []
   },
   "outputs": [],
   "source": [
    "import json\n",
    "if isinstance(universe, str):\n",
    "    universe = json.loads(universe)"
   ]
  },
  {
   "cell_type": "code",
   "execution_count": 6,
   "id": "16620c48",
   "metadata": {
    "execution": {
     "iopub.execute_input": "2025-08-05T15:57:56.133999Z",
     "iopub.status.busy": "2025-08-05T15:57:56.133314Z",
     "iopub.status.idle": "2025-08-05T15:57:56.178844Z",
     "shell.execute_reply": "2025-08-05T15:57:56.177744Z"
    },
    "papermill": {
     "duration": 0.067056,
     "end_time": "2025-08-05T15:57:56.181825",
     "exception": false,
     "start_time": "2025-08-05T15:57:56.114769",
     "status": "completed"
    },
    "tags": []
   },
   "outputs": [],
   "source": [
    "# Auto-reload the custom package\n",
    "%load_ext autoreload\n",
    "%autoreload 1\n",
    "%aimport fairness_multiverse"
   ]
  },
  {
   "cell_type": "code",
   "execution_count": 7,
   "id": "01c5c9f3",
   "metadata": {
    "execution": {
     "iopub.execute_input": "2025-08-05T15:57:56.219618Z",
     "iopub.status.busy": "2025-08-05T15:57:56.218669Z",
     "iopub.status.idle": "2025-08-05T15:57:57.991533Z",
     "shell.execute_reply": "2025-08-05T15:57:57.989733Z"
    },
    "papermill": {
     "duration": 1.792762,
     "end_time": "2025-08-05T15:57:57.993387",
     "exception": false,
     "start_time": "2025-08-05T15:57:56.200625",
     "status": "completed"
    },
    "tags": []
   },
   "outputs": [],
   "source": [
    "from fairness_multiverse.universe import UniverseAnalysis\n",
    "\n",
    "universe_analysis = UniverseAnalysis(\n",
    "    run_no = run_no,\n",
    "    universe_id = universe_id,\n",
    "    universe = universe,\n",
    "    output_dir=output_dir,\n",
    ")"
   ]
  },
  {
   "cell_type": "code",
   "execution_count": 8,
   "id": "106241f5",
   "metadata": {
    "execution": {
     "iopub.execute_input": "2025-08-05T15:57:58.015530Z",
     "iopub.status.busy": "2025-08-05T15:57:58.014745Z",
     "iopub.status.idle": "2025-08-05T15:57:58.023751Z",
     "shell.execute_reply": "2025-08-05T15:57:58.021899Z"
    },
    "papermill": {
     "duration": 0.021982,
     "end_time": "2025-08-05T15:57:58.025948",
     "exception": false,
     "start_time": "2025-08-05T15:57:58.003966",
     "status": "completed"
    },
    "tags": []
   },
   "outputs": [
    {
     "name": "stdout",
     "output_type": "stream",
     "text": [
      "Using Seed: 2023\n"
     ]
    }
   ],
   "source": [
    "import numpy as np\n",
    "parsed_seed = int(seed)\n",
    "np.random.seed(parsed_seed)\n",
    "print(f\"Using Seed: {parsed_seed}\")"
   ]
  },
  {
   "cell_type": "markdown",
   "id": "e0ebdc57",
   "metadata": {
    "papermill": {
     "duration": 0.019725,
     "end_time": "2025-08-05T15:57:58.066416",
     "exception": false,
     "start_time": "2025-08-05T15:57:58.046691",
     "status": "completed"
    },
    "tags": []
   },
   "source": [
    "# Loading Data"
   ]
  },
  {
   "cell_type": "code",
   "execution_count": 9,
   "id": "f0496b8a",
   "metadata": {
    "execution": {
     "iopub.execute_input": "2025-08-05T15:57:58.107934Z",
     "iopub.status.busy": "2025-08-05T15:57:58.107210Z",
     "iopub.status.idle": "2025-08-05T15:58:10.615467Z",
     "shell.execute_reply": "2025-08-05T15:58:10.614184Z"
    },
    "papermill": {
     "duration": 12.532983,
     "end_time": "2025-08-05T15:58:10.618446",
     "exception": false,
     "start_time": "2025-08-05T15:57:58.085463",
     "status": "completed"
    },
    "tags": []
   },
   "outputs": [
    {
     "name": "stdout",
     "output_type": "stream",
     "text": [
      "Loading SIAB data from cache: data/siab_cached.csv.gz\n"
     ]
    },
    {
     "name": "stdout",
     "output_type": "stream",
     "text": [
      "(643690, 164)\n"
     ]
    }
   ],
   "source": [
    "from pathlib import Path\n",
    "import pandas as pd\n",
    "\n",
    "# File paths\n",
    "raw_file = Path(\"data/raw/siab.csv\")\n",
    "cache_file = Path(\"data/siab_cached.csv.gz\")\n",
    "\n",
    "# Ensure cache directory exists\n",
    "cache_file.parent.mkdir(parents=True, exist_ok=True)\n",
    "\n",
    "# Load with simple caching\n",
    "if cache_file.exists():\n",
    "    print(f\"Loading SIAB data from cache: {cache_file}\")\n",
    "    siab = pd.read_csv(cache_file, compression='gzip')\n",
    "else:\n",
    "    print(f\"Cache not found. Reading raw SIAB data: {raw_file}\")\n",
    "    siab = pd.read_csv(raw_file)\n",
    "    siab.to_csv(cache_file, index=False, compression='gzip')\n",
    "    print(f\"Cached SIAB data to: {cache_file}\")\n",
    "\n",
    "print(siab.shape)"
   ]
  },
  {
   "cell_type": "code",
   "execution_count": 10,
   "id": "db0ca512-5f53-4dba-abdb-a2888bca41ba",
   "metadata": {
    "execution": {
     "iopub.execute_input": "2025-08-05T15:58:10.660569Z",
     "iopub.status.busy": "2025-08-05T15:58:10.659714Z",
     "iopub.status.idle": "2025-08-05T15:58:10.665571Z",
     "shell.execute_reply": "2025-08-05T15:58:10.664548Z"
    },
    "papermill": {
     "duration": 0.02804,
     "end_time": "2025-08-05T15:58:10.667489",
     "exception": false,
     "start_time": "2025-08-05T15:58:10.639449",
     "status": "completed"
    },
    "tags": []
   },
   "outputs": [],
   "source": [
    "#siab"
   ]
  },
  {
   "cell_type": "markdown",
   "id": "997051c5-15bd-4b69-9786-c3001a3ce484",
   "metadata": {
    "papermill": {
     "duration": 0.019187,
     "end_time": "2025-08-05T15:58:10.705684",
     "exception": false,
     "start_time": "2025-08-05T15:58:10.686497",
     "status": "completed"
    },
    "tags": []
   },
   "source": [
    "# Splitting Data and Setting Training Data Size"
   ]
  },
  {
   "cell_type": "code",
   "execution_count": 11,
   "id": "aea9c6ef-6f46-42c8-85eb-5a62025c1508",
   "metadata": {
    "execution": {
     "iopub.execute_input": "2025-08-05T15:58:10.745735Z",
     "iopub.status.busy": "2025-08-05T15:58:10.744966Z",
     "iopub.status.idle": "2025-08-05T15:58:12.130003Z",
     "shell.execute_reply": "2025-08-05T15:58:12.128748Z"
    },
    "papermill": {
     "duration": 1.407214,
     "end_time": "2025-08-05T15:58:12.132047",
     "exception": false,
     "start_time": "2025-08-05T15:58:10.724833",
     "status": "completed"
    },
    "tags": []
   },
   "outputs": [],
   "source": [
    "from fairness_multiverse.universe import sample_by_year_size\n",
    "\n",
    "siab_train = sample_by_year_size(siab,\n",
    "                               training_year=universe[\"training_year\"],\n",
    "                               training_size=universe[\"training_size\"])"
   ]
  },
  {
   "cell_type": "code",
   "execution_count": 12,
   "id": "8d3afb32-789d-442c-8d5d-9f5aa8dd2eed",
   "metadata": {
    "execution": {
     "iopub.execute_input": "2025-08-05T15:58:12.173971Z",
     "iopub.status.busy": "2025-08-05T15:58:12.172980Z",
     "iopub.status.idle": "2025-08-05T15:58:12.179035Z",
     "shell.execute_reply": "2025-08-05T15:58:12.177893Z"
    },
    "papermill": {
     "duration": 0.028028,
     "end_time": "2025-08-05T15:58:12.180970",
     "exception": false,
     "start_time": "2025-08-05T15:58:12.152942",
     "status": "completed"
    },
    "tags": []
   },
   "outputs": [],
   "source": [
    "#siab_train.shape"
   ]
  },
  {
   "cell_type": "code",
   "execution_count": 13,
   "id": "d582db68-1a4c-47fb-84fc-08518dc1975a",
   "metadata": {
    "execution": {
     "iopub.execute_input": "2025-08-05T15:58:12.221394Z",
     "iopub.status.busy": "2025-08-05T15:58:12.220443Z",
     "iopub.status.idle": "2025-08-05T15:58:12.226050Z",
     "shell.execute_reply": "2025-08-05T15:58:12.224933Z"
    },
    "papermill": {
     "duration": 0.028552,
     "end_time": "2025-08-05T15:58:12.228597",
     "exception": false,
     "start_time": "2025-08-05T15:58:12.200045",
     "status": "completed"
    },
    "tags": []
   },
   "outputs": [],
   "source": [
    "#display(siab_train.groupby(\"year\").size())"
   ]
  },
  {
   "cell_type": "code",
   "execution_count": 14,
   "id": "a561edb4-d032-42cb-8256-22eac1111c64",
   "metadata": {
    "execution": {
     "iopub.execute_input": "2025-08-05T15:58:12.280277Z",
     "iopub.status.busy": "2025-08-05T15:58:12.279520Z",
     "iopub.status.idle": "2025-08-05T15:58:12.529763Z",
     "shell.execute_reply": "2025-08-05T15:58:12.528685Z"
    },
    "papermill": {
     "duration": 0.278057,
     "end_time": "2025-08-05T15:58:12.531365",
     "exception": false,
     "start_time": "2025-08-05T15:58:12.253308",
     "status": "completed"
    },
    "tags": []
   },
   "outputs": [],
   "source": [
    "#siab_train = siab_s[siab_s.year < 2015]\n",
    "siab_calib = siab[siab.year == 2015]\n",
    "siab_test = siab[siab.year == 2016]"
   ]
  },
  {
   "cell_type": "code",
   "execution_count": 15,
   "id": "472de16f-c3db-4916-846b-1f0de9cf1746",
   "metadata": {
    "execution": {
     "iopub.execute_input": "2025-08-05T15:58:12.568847Z",
     "iopub.status.busy": "2025-08-05T15:58:12.568357Z",
     "iopub.status.idle": "2025-08-05T15:58:12.577190Z",
     "shell.execute_reply": "2025-08-05T15:58:12.576011Z"
    },
    "papermill": {
     "duration": 0.031993,
     "end_time": "2025-08-05T15:58:12.579302",
     "exception": false,
     "start_time": "2025-08-05T15:58:12.547309",
     "status": "completed"
    },
    "tags": []
   },
   "outputs": [],
   "source": [
    "X_train = siab_train.iloc[:,4:164]\n",
    "y_train = siab_train.iloc[:, [3]]"
   ]
  },
  {
   "cell_type": "code",
   "execution_count": 16,
   "id": "828c96af-f43a-4ed6-ba47-8ac73a47d56c",
   "metadata": {
    "execution": {
     "iopub.execute_input": "2025-08-05T15:58:12.621954Z",
     "iopub.status.busy": "2025-08-05T15:58:12.620843Z",
     "iopub.status.idle": "2025-08-05T15:58:12.687142Z",
     "shell.execute_reply": "2025-08-05T15:58:12.685433Z"
    },
    "papermill": {
     "duration": 0.089884,
     "end_time": "2025-08-05T15:58:12.689597",
     "exception": false,
     "start_time": "2025-08-05T15:58:12.599713",
     "status": "completed"
    },
    "tags": []
   },
   "outputs": [],
   "source": [
    "X_calib = siab_calib.iloc[:,4:164]\n",
    "y_calib = siab_calib.iloc[:, [3]]"
   ]
  },
  {
   "cell_type": "code",
   "execution_count": 17,
   "id": "c34be9c3-6bd6-476e-acd3-845840e303be",
   "metadata": {
    "execution": {
     "iopub.execute_input": "2025-08-05T15:58:12.739380Z",
     "iopub.status.busy": "2025-08-05T15:58:12.738643Z",
     "iopub.status.idle": "2025-08-05T15:58:12.793689Z",
     "shell.execute_reply": "2025-08-05T15:58:12.792281Z"
    },
    "papermill": {
     "duration": 0.081884,
     "end_time": "2025-08-05T15:58:12.796249",
     "exception": false,
     "start_time": "2025-08-05T15:58:12.714365",
     "status": "completed"
    },
    "tags": []
   },
   "outputs": [],
   "source": [
    "X_test = siab_test.iloc[:,4:164]\n",
    "y_true = siab_test.iloc[:, [3]]"
   ]
  },
  {
   "cell_type": "code",
   "execution_count": 18,
   "id": "e6c733c5",
   "metadata": {
    "execution": {
     "iopub.execute_input": "2025-08-05T15:58:12.846646Z",
     "iopub.status.busy": "2025-08-05T15:58:12.845910Z",
     "iopub.status.idle": "2025-08-05T15:58:12.953465Z",
     "shell.execute_reply": "2025-08-05T15:58:12.952446Z"
    },
    "papermill": {
     "duration": 0.135696,
     "end_time": "2025-08-05T15:58:12.955751",
     "exception": false,
     "start_time": "2025-08-05T15:58:12.820055",
     "status": "completed"
    },
    "tags": []
   },
   "outputs": [],
   "source": [
    "# Auxiliary data needed downstream in the pipeline\n",
    "\n",
    "org_train = X_train.copy()\n",
    "org_test = X_test.copy()\n",
    "org_calib = X_calib.copy()"
   ]
  },
  {
   "cell_type": "markdown",
   "id": "0a4a1b33",
   "metadata": {
    "papermill": {
     "duration": 0.010501,
     "end_time": "2025-08-05T15:58:12.987626",
     "exception": false,
     "start_time": "2025-08-05T15:58:12.977125",
     "status": "completed"
    },
    "tags": []
   },
   "source": [
    "# Preprocessing Data"
   ]
  },
  {
   "cell_type": "code",
   "execution_count": 19,
   "id": "ca879031",
   "metadata": {
    "execution": {
     "iopub.execute_input": "2025-08-05T15:58:13.018797Z",
     "iopub.status.busy": "2025-08-05T15:58:13.018272Z",
     "iopub.status.idle": "2025-08-05T15:58:13.025276Z",
     "shell.execute_reply": "2025-08-05T15:58:13.024177Z"
    },
    "papermill": {
     "duration": 0.031009,
     "end_time": "2025-08-05T15:58:13.027683",
     "exception": false,
     "start_time": "2025-08-05T15:58:12.996674",
     "status": "completed"
    },
    "tags": []
   },
   "outputs": [],
   "source": [
    "# EXCLUDE PROTECTED FEATURES\n",
    "# ----------------------\n",
    "# \"exclude_features\": \"none\", # \"nationality\", \"sex\", \"nationality-sex\"\n",
    "\n",
    "excluded_features = universe[\"exclude_features\"].split(\"-\") # split, e.g.: \"nationality-sex\" -> [\"nationality\", \"sex\"]\n",
    "excluded_features_dictionary = {\n",
    "    \"nationality\": [\"maxdeutsch1\", \"maxdeutsch.Missing.\"],\n",
    "    \"sex\": [\"frau1\"],\n",
    "    \"age\": [\"age\"],\n",
    "}"
   ]
  },
  {
   "cell_type": "code",
   "execution_count": 20,
   "id": "b745ac60",
   "metadata": {
    "execution": {
     "iopub.execute_input": "2025-08-05T15:58:13.070182Z",
     "iopub.status.busy": "2025-08-05T15:58:13.069649Z",
     "iopub.status.idle": "2025-08-05T15:58:13.075856Z",
     "shell.execute_reply": "2025-08-05T15:58:13.074559Z"
    },
    "papermill": {
     "duration": 0.027374,
     "end_time": "2025-08-05T15:58:13.078072",
     "exception": false,
     "start_time": "2025-08-05T15:58:13.050698",
     "status": "completed"
    },
    "tags": []
   },
   "outputs": [],
   "source": [
    "# Code nice names to column names\n",
    "\n",
    "excluded_features_columns = [\n",
    "    excluded_features_dictionary[f] for f in excluded_features if len(f) > 0 and f != \"none\"\n",
    "]"
   ]
  },
  {
   "cell_type": "code",
   "execution_count": 21,
   "id": "f84f73a2",
   "metadata": {
    "execution": {
     "iopub.execute_input": "2025-08-05T15:58:13.118842Z",
     "iopub.status.busy": "2025-08-05T15:58:13.118186Z",
     "iopub.status.idle": "2025-08-05T15:58:13.126325Z",
     "shell.execute_reply": "2025-08-05T15:58:13.125040Z"
    },
    "papermill": {
     "duration": 0.03159,
     "end_time": "2025-08-05T15:58:13.128195",
     "exception": false,
     "start_time": "2025-08-05T15:58:13.096605",
     "status": "completed"
    },
    "tags": []
   },
   "outputs": [],
   "source": [
    "from utils import flatten_once\n",
    "\n",
    "excluded_features_columns = flatten_once(excluded_features_columns)"
   ]
  },
  {
   "cell_type": "code",
   "execution_count": 22,
   "id": "884dea22",
   "metadata": {
    "execution": {
     "iopub.execute_input": "2025-08-05T15:58:13.171314Z",
     "iopub.status.busy": "2025-08-05T15:58:13.170346Z",
     "iopub.status.idle": "2025-08-05T15:58:13.182964Z",
     "shell.execute_reply": "2025-08-05T15:58:13.181396Z"
    },
    "papermill": {
     "duration": 0.036395,
     "end_time": "2025-08-05T15:58:13.185039",
     "exception": false,
     "start_time": "2025-08-05T15:58:13.148644",
     "status": "completed"
    },
    "tags": []
   },
   "outputs": [
    {
     "name": "stdout",
     "output_type": "stream",
     "text": [
      "Dropping features: ['frau1']\n"
     ]
    }
   ],
   "source": [
    "if len(excluded_features_columns) > 0:\n",
    "    print(f\"Dropping features: {excluded_features_columns}\")\n",
    "    X_train.drop(excluded_features_columns, axis=1, inplace=True)"
   ]
  },
  {
   "cell_type": "code",
   "execution_count": 23,
   "id": "95ab8b16",
   "metadata": {
    "execution": {
     "iopub.execute_input": "2025-08-05T15:58:13.226774Z",
     "iopub.status.busy": "2025-08-05T15:58:13.226259Z",
     "iopub.status.idle": "2025-08-05T15:58:13.286485Z",
     "shell.execute_reply": "2025-08-05T15:58:13.285581Z"
    },
    "papermill": {
     "duration": 0.083147,
     "end_time": "2025-08-05T15:58:13.287902",
     "exception": false,
     "start_time": "2025-08-05T15:58:13.204755",
     "status": "completed"
    },
    "tags": []
   },
   "outputs": [
    {
     "name": "stdout",
     "output_type": "stream",
     "text": [
      "Dropping features: ['frau1']\n"
     ]
    }
   ],
   "source": [
    "if len(excluded_features_columns) > 0:\n",
    "    print(f\"Dropping features: {excluded_features_columns}\")\n",
    "    X_test.drop(excluded_features_columns, axis=1, inplace=True)"
   ]
  },
  {
   "cell_type": "code",
   "execution_count": 24,
   "id": "1853aaf5-fb9f-46cb-a2b5-8ea4ae2237e4",
   "metadata": {
    "execution": {
     "iopub.execute_input": "2025-08-05T15:58:13.312032Z",
     "iopub.status.busy": "2025-08-05T15:58:13.311618Z",
     "iopub.status.idle": "2025-08-05T15:58:13.363531Z",
     "shell.execute_reply": "2025-08-05T15:58:13.362177Z"
    },
    "papermill": {
     "duration": 0.066012,
     "end_time": "2025-08-05T15:58:13.365004",
     "exception": false,
     "start_time": "2025-08-05T15:58:13.298992",
     "status": "completed"
    },
    "tags": []
   },
   "outputs": [
    {
     "name": "stdout",
     "output_type": "stream",
     "text": [
      "Dropping features: ['frau1']\n"
     ]
    }
   ],
   "source": [
    "if len(excluded_features_columns) > 0:\n",
    "    print(f\"Dropping features: {excluded_features_columns}\")\n",
    "    X_calib.drop(excluded_features_columns, axis=1, inplace=True)"
   ]
  },
  {
   "cell_type": "code",
   "execution_count": 25,
   "id": "76c4dc6d",
   "metadata": {
    "execution": {
     "iopub.execute_input": "2025-08-05T15:58:13.406068Z",
     "iopub.status.busy": "2025-08-05T15:58:13.405215Z",
     "iopub.status.idle": "2025-08-05T15:58:13.412626Z",
     "shell.execute_reply": "2025-08-05T15:58:13.409614Z"
    },
    "papermill": {
     "duration": 0.029482,
     "end_time": "2025-08-05T15:58:13.414323",
     "exception": false,
     "start_time": "2025-08-05T15:58:13.384841",
     "status": "completed"
    },
    "tags": []
   },
   "outputs": [],
   "source": [
    "# EXCLUDE CERTAIN SUBGROUPS\n",
    "# ----------------------\n",
    "\n",
    "mode = universe.get(\"exclude_subgroups\", \"keep-all\") \n",
    "# Fetches the exclude_subgroups setting from the universe dict.\n",
    "# Defaults to \"keep-all\" if the key is missing."
   ]
  },
  {
   "cell_type": "code",
   "execution_count": 26,
   "id": "21994072",
   "metadata": {
    "execution": {
     "iopub.execute_input": "2025-08-05T15:58:13.437240Z",
     "iopub.status.busy": "2025-08-05T15:58:13.436708Z",
     "iopub.status.idle": "2025-08-05T15:58:13.458382Z",
     "shell.execute_reply": "2025-08-05T15:58:13.457372Z"
    },
    "papermill": {
     "duration": 0.035269,
     "end_time": "2025-08-05T15:58:13.460246",
     "exception": false,
     "start_time": "2025-08-05T15:58:13.424977",
     "status": "completed"
    },
    "tags": []
   },
   "outputs": [],
   "source": [
    "if mode == \"keep-all\":\n",
    "    keep_mask = pd.Series(True, index=org_train.index)\n",
    "\n",
    "# org_train contains the original feature columns from features_org (in Simson)\n",
    "# features_org contains unprocessed features, for me X_train at beginning ???\n",
    "# For keep-all, creates a boolean Series (keep_mask) of all True, so no rows are removed.\n",
    "\n",
    "elif mode == \"drop-non-german\":\n",
    "    keep_mask = org_train[\"maxdeutsch1\"] == 1 # ??? what about missing values?\n",
    "\n",
    "else:\n",
    "    raise ValueError(f\"Unsupported mode for exclude_subgroups: {mode}\")"
   ]
  },
  {
   "cell_type": "code",
   "execution_count": 27,
   "id": "71651440",
   "metadata": {
    "execution": {
     "iopub.execute_input": "2025-08-05T15:58:13.495295Z",
     "iopub.status.busy": "2025-08-05T15:58:13.494600Z",
     "iopub.status.idle": "2025-08-05T15:58:13.507545Z",
     "shell.execute_reply": "2025-08-05T15:58:13.506710Z"
    },
    "papermill": {
     "duration": 0.027177,
     "end_time": "2025-08-05T15:58:13.508960",
     "exception": false,
     "start_time": "2025-08-05T15:58:13.481783",
     "status": "completed"
    },
    "tags": []
   },
   "outputs": [
    {
     "name": "stdout",
     "output_type": "stream",
     "text": [
      "Dropping 657 rows (13.14%) where mode='drop-non-german'\n"
     ]
    }
   ],
   "source": [
    "n_drop = (~keep_mask).sum() # Calculates how many rows are set to be dropped\n",
    "if n_drop > 0:\n",
    "    pct = n_drop / len(keep_mask) * 100\n",
    "    print(f\"Dropping {n_drop} rows ({pct:.2f}%) where mode='{mode}'\")"
   ]
  },
  {
   "cell_type": "code",
   "execution_count": 28,
   "id": "5fb8eee5",
   "metadata": {
    "execution": {
     "iopub.execute_input": "2025-08-05T15:58:13.532574Z",
     "iopub.status.busy": "2025-08-05T15:58:13.532058Z",
     "iopub.status.idle": "2025-08-05T15:58:13.539595Z",
     "shell.execute_reply": "2025-08-05T15:58:13.538577Z"
    },
    "papermill": {
     "duration": 0.020953,
     "end_time": "2025-08-05T15:58:13.541302",
     "exception": false,
     "start_time": "2025-08-05T15:58:13.520349",
     "status": "completed"
    },
    "tags": []
   },
   "outputs": [],
   "source": [
    "X_train = X_train[keep_mask]"
   ]
  },
  {
   "cell_type": "code",
   "execution_count": 29,
   "id": "b202bb3a",
   "metadata": {
    "execution": {
     "iopub.execute_input": "2025-08-05T15:58:13.598533Z",
     "iopub.status.busy": "2025-08-05T15:58:13.598188Z",
     "iopub.status.idle": "2025-08-05T15:58:13.602678Z",
     "shell.execute_reply": "2025-08-05T15:58:13.602008Z"
    },
    "papermill": {
     "duration": 0.034888,
     "end_time": "2025-08-05T15:58:13.604166",
     "exception": false,
     "start_time": "2025-08-05T15:58:13.569278",
     "status": "completed"
    },
    "tags": []
   },
   "outputs": [],
   "source": [
    "y_train = y_train[keep_mask]"
   ]
  },
  {
   "cell_type": "markdown",
   "id": "493e2ac3",
   "metadata": {
    "papermill": {
     "duration": 0.018093,
     "end_time": "2025-08-05T15:58:13.643017",
     "exception": false,
     "start_time": "2025-08-05T15:58:13.624924",
     "status": "completed"
    },
    "tags": []
   },
   "source": [
    "# Model Training"
   ]
  },
  {
   "cell_type": "code",
   "execution_count": 30,
   "id": "679e1268",
   "metadata": {
    "execution": {
     "iopub.execute_input": "2025-08-05T15:58:13.688600Z",
     "iopub.status.busy": "2025-08-05T15:58:13.687820Z",
     "iopub.status.idle": "2025-08-05T15:58:13.846376Z",
     "shell.execute_reply": "2025-08-05T15:58:13.845457Z"
    },
    "papermill": {
     "duration": 0.194271,
     "end_time": "2025-08-05T15:58:13.848081",
     "exception": false,
     "start_time": "2025-08-05T15:58:13.653810",
     "status": "completed"
    },
    "tags": []
   },
   "outputs": [],
   "source": [
    "from sklearn.linear_model import LogisticRegression\n",
    "from sklearn.ensemble import GradientBoostingClassifier, RandomForestClassifier\n",
    "\n",
    "if (universe[\"model\"] == \"logreg\"):\n",
    "    model = LogisticRegression() #penalty=\"none\", solver=\"newton-cg\", max_iter=1) # include random_state=19 ?\n",
    "elif (universe[\"model\"] == \"penalized_logreg\"):\n",
    "    model = LogisticRegression(penalty=\"l2\", C=0.1) #, solver=\"newton-cg\", max_iter=1)\n",
    "elif (universe[\"model\"] == \"rf\"):\n",
    "    model = RandomForestClassifier() # n_estimators=100, n_jobs=-1\n",
    "elif (universe[\"model\"] == \"gbm\"):\n",
    "    model = GradientBoostingClassifier()\n",
    "elif (universe[\"model\"] == \"elasticnet\"):\n",
    "    model = LogisticRegression(penalty = 'elasticnet', solver = 'saga', l1_ratio = 0.5) # max_iter=5000\n",
    "else:\n",
    "    raise \"Unsupported universe.model\""
   ]
  },
  {
   "cell_type": "code",
   "execution_count": 31,
   "id": "0cc8f744",
   "metadata": {
    "execution": {
     "iopub.execute_input": "2025-08-05T15:58:13.872288Z",
     "iopub.status.busy": "2025-08-05T15:58:13.871757Z",
     "iopub.status.idle": "2025-08-05T15:58:13.878881Z",
     "shell.execute_reply": "2025-08-05T15:58:13.877755Z"
    },
    "papermill": {
     "duration": 0.020691,
     "end_time": "2025-08-05T15:58:13.880694",
     "exception": false,
     "start_time": "2025-08-05T15:58:13.860003",
     "status": "completed"
    },
    "tags": []
   },
   "outputs": [],
   "source": [
    "import numpy as np\n",
    "from sklearn.pipeline import Pipeline\n",
    "from sklearn.preprocessing import StandardScaler\n",
    "\n",
    "model = Pipeline([\n",
    "    #(\"continuous_processor\", continuous_processor),\n",
    "    #(\"categorical_preprocessor\", categorical_preprocessor),\n",
    "    (\"scale\", StandardScaler() if universe[\"scale\"] == \"scale\" else None), \n",
    "    (\"model\", model),\n",
    "])"
   ]
  },
  {
   "cell_type": "code",
   "execution_count": 32,
   "id": "9442c04d",
   "metadata": {
    "execution": {
     "iopub.execute_input": "2025-08-05T15:58:13.912351Z",
     "iopub.status.busy": "2025-08-05T15:58:13.912028Z",
     "iopub.status.idle": "2025-08-05T15:58:15.219139Z",
     "shell.execute_reply": "2025-08-05T15:58:15.218275Z"
    },
    "papermill": {
     "duration": 1.321729,
     "end_time": "2025-08-05T15:58:15.220675",
     "exception": false,
     "start_time": "2025-08-05T15:58:13.898946",
     "status": "completed"
    },
    "tags": []
   },
   "outputs": [
    {
     "data": {
      "text/html": [
       "<style>#sk-container-id-1 {color: black;background-color: white;}#sk-container-id-1 pre{padding: 0;}#sk-container-id-1 div.sk-toggleable {background-color: white;}#sk-container-id-1 label.sk-toggleable__label {cursor: pointer;display: block;width: 100%;margin-bottom: 0;padding: 0.3em;box-sizing: border-box;text-align: center;}#sk-container-id-1 label.sk-toggleable__label-arrow:before {content: \"▸\";float: left;margin-right: 0.25em;color: #696969;}#sk-container-id-1 label.sk-toggleable__label-arrow:hover:before {color: black;}#sk-container-id-1 div.sk-estimator:hover label.sk-toggleable__label-arrow:before {color: black;}#sk-container-id-1 div.sk-toggleable__content {max-height: 0;max-width: 0;overflow: hidden;text-align: left;background-color: #f0f8ff;}#sk-container-id-1 div.sk-toggleable__content pre {margin: 0.2em;color: black;border-radius: 0.25em;background-color: #f0f8ff;}#sk-container-id-1 input.sk-toggleable__control:checked~div.sk-toggleable__content {max-height: 200px;max-width: 100%;overflow: auto;}#sk-container-id-1 input.sk-toggleable__control:checked~label.sk-toggleable__label-arrow:before {content: \"▾\";}#sk-container-id-1 div.sk-estimator input.sk-toggleable__control:checked~label.sk-toggleable__label {background-color: #d4ebff;}#sk-container-id-1 div.sk-label input.sk-toggleable__control:checked~label.sk-toggleable__label {background-color: #d4ebff;}#sk-container-id-1 input.sk-hidden--visually {border: 0;clip: rect(1px 1px 1px 1px);clip: rect(1px, 1px, 1px, 1px);height: 1px;margin: -1px;overflow: hidden;padding: 0;position: absolute;width: 1px;}#sk-container-id-1 div.sk-estimator {font-family: monospace;background-color: #f0f8ff;border: 1px dotted black;border-radius: 0.25em;box-sizing: border-box;margin-bottom: 0.5em;}#sk-container-id-1 div.sk-estimator:hover {background-color: #d4ebff;}#sk-container-id-1 div.sk-parallel-item::after {content: \"\";width: 100%;border-bottom: 1px solid gray;flex-grow: 1;}#sk-container-id-1 div.sk-label:hover label.sk-toggleable__label {background-color: #d4ebff;}#sk-container-id-1 div.sk-serial::before {content: \"\";position: absolute;border-left: 1px solid gray;box-sizing: border-box;top: 0;bottom: 0;left: 50%;z-index: 0;}#sk-container-id-1 div.sk-serial {display: flex;flex-direction: column;align-items: center;background-color: white;padding-right: 0.2em;padding-left: 0.2em;position: relative;}#sk-container-id-1 div.sk-item {position: relative;z-index: 1;}#sk-container-id-1 div.sk-parallel {display: flex;align-items: stretch;justify-content: center;background-color: white;position: relative;}#sk-container-id-1 div.sk-item::before, #sk-container-id-1 div.sk-parallel-item::before {content: \"\";position: absolute;border-left: 1px solid gray;box-sizing: border-box;top: 0;bottom: 0;left: 50%;z-index: -1;}#sk-container-id-1 div.sk-parallel-item {display: flex;flex-direction: column;z-index: 1;position: relative;background-color: white;}#sk-container-id-1 div.sk-parallel-item:first-child::after {align-self: flex-end;width: 50%;}#sk-container-id-1 div.sk-parallel-item:last-child::after {align-self: flex-start;width: 50%;}#sk-container-id-1 div.sk-parallel-item:only-child::after {width: 0;}#sk-container-id-1 div.sk-dashed-wrapped {border: 1px dashed gray;margin: 0 0.4em 0.5em 0.4em;box-sizing: border-box;padding-bottom: 0.4em;background-color: white;}#sk-container-id-1 div.sk-label label {font-family: monospace;font-weight: bold;display: inline-block;line-height: 1.2em;}#sk-container-id-1 div.sk-label-container {text-align: center;}#sk-container-id-1 div.sk-container {/* jupyter's `normalize.less` sets `[hidden] { display: none; }` but bootstrap.min.css set `[hidden] { display: none !important; }` so we also need the `!important` here to be able to override the default hidden behavior on the sphinx rendered scikit-learn.org. See: https://github.com/scikit-learn/scikit-learn/issues/21755 */display: inline-block !important;position: relative;}#sk-container-id-1 div.sk-text-repr-fallback {display: none;}</style><div id=\"sk-container-id-1\" class=\"sk-top-container\"><div class=\"sk-text-repr-fallback\"><pre>Pipeline(steps=[(&#x27;scale&#x27;, None), (&#x27;model&#x27;, RandomForestClassifier())])</pre><b>In a Jupyter environment, please rerun this cell to show the HTML representation or trust the notebook. <br />On GitHub, the HTML representation is unable to render, please try loading this page with nbviewer.org.</b></div><div class=\"sk-container\" hidden><div class=\"sk-item sk-dashed-wrapped\"><div class=\"sk-label-container\"><div class=\"sk-label sk-toggleable\"><input class=\"sk-toggleable__control sk-hidden--visually\" id=\"sk-estimator-id-1\" type=\"checkbox\" ><label for=\"sk-estimator-id-1\" class=\"sk-toggleable__label sk-toggleable__label-arrow\">Pipeline</label><div class=\"sk-toggleable__content\"><pre>Pipeline(steps=[(&#x27;scale&#x27;, None), (&#x27;model&#x27;, RandomForestClassifier())])</pre></div></div></div><div class=\"sk-serial\"><div class=\"sk-item\"><div class=\"sk-estimator sk-toggleable\"><input class=\"sk-toggleable__control sk-hidden--visually\" id=\"sk-estimator-id-2\" type=\"checkbox\" ><label for=\"sk-estimator-id-2\" class=\"sk-toggleable__label sk-toggleable__label-arrow\">None</label><div class=\"sk-toggleable__content\"><pre>None</pre></div></div></div><div class=\"sk-item\"><div class=\"sk-estimator sk-toggleable\"><input class=\"sk-toggleable__control sk-hidden--visually\" id=\"sk-estimator-id-3\" type=\"checkbox\" ><label for=\"sk-estimator-id-3\" class=\"sk-toggleable__label sk-toggleable__label-arrow\">RandomForestClassifier</label><div class=\"sk-toggleable__content\"><pre>RandomForestClassifier()</pre></div></div></div></div></div></div></div>"
      ],
      "text/plain": [
       "Pipeline(steps=[('scale', None), ('model', RandomForestClassifier())])"
      ]
     },
     "execution_count": 32,
     "metadata": {},
     "output_type": "execute_result"
    }
   ],
   "source": [
    "model.fit(X_train, y_train.values.ravel())"
   ]
  },
  {
   "cell_type": "code",
   "execution_count": 33,
   "id": "af59f8c0",
   "metadata": {
    "execution": {
     "iopub.execute_input": "2025-08-05T15:58:15.259405Z",
     "iopub.status.busy": "2025-08-05T15:58:15.258607Z",
     "iopub.status.idle": "2025-08-05T15:58:15.263899Z",
     "shell.execute_reply": "2025-08-05T15:58:15.262994Z"
    },
    "papermill": {
     "duration": 0.026217,
     "end_time": "2025-08-05T15:58:15.265771",
     "exception": false,
     "start_time": "2025-08-05T15:58:15.239554",
     "status": "completed"
    },
    "tags": []
   },
   "outputs": [],
   "source": [
    "from fairness_multiverse.universe import predict_w_threshold"
   ]
  },
  {
   "cell_type": "code",
   "execution_count": 34,
   "id": "a7cf2e16",
   "metadata": {
    "execution": {
     "iopub.execute_input": "2025-08-05T15:58:15.307150Z",
     "iopub.status.busy": "2025-08-05T15:58:15.306587Z",
     "iopub.status.idle": "2025-08-05T15:58:17.650335Z",
     "shell.execute_reply": "2025-08-05T15:58:17.649482Z"
    },
    "papermill": {
     "duration": 2.365798,
     "end_time": "2025-08-05T15:58:17.651946",
     "exception": false,
     "start_time": "2025-08-05T15:58:15.286148",
     "status": "completed"
    },
    "tags": []
   },
   "outputs": [
    {
     "data": {
      "text/plain": [
       "0.860885074127745"
      ]
     },
     "execution_count": 34,
     "metadata": {},
     "output_type": "execute_result"
    }
   ],
   "source": [
    "probs_test = model.predict_proba(X_test)\n",
    "\n",
    "'''\n",
    "Below code returns a boolean array (or binary 0/1 array depending on how it’s used) where each element \n",
    "is True if the probability of class 1 is greater than or equal to the threshold, and False otherwise.\n",
    "'''\n",
    "y_pred_default = predict_w_threshold(probs_test, 0.5)\n",
    "\n",
    "from sklearn.metrics import accuracy_score\n",
    "\n",
    "# Naive prediction\n",
    "accuracy_score(y_true = y_true, y_pred = y_pred_default)"
   ]
  },
  {
   "cell_type": "code",
   "execution_count": 35,
   "id": "081964c3",
   "metadata": {
    "execution": {
     "iopub.execute_input": "2025-08-05T15:58:17.694375Z",
     "iopub.status.busy": "2025-08-05T15:58:17.693445Z",
     "iopub.status.idle": "2025-08-05T15:58:20.071930Z",
     "shell.execute_reply": "2025-08-05T15:58:20.071023Z"
    },
    "papermill": {
     "duration": 2.400263,
     "end_time": "2025-08-05T15:58:20.073988",
     "exception": false,
     "start_time": "2025-08-05T15:58:17.673725",
     "status": "completed"
    },
    "tags": []
   },
   "outputs": [
    {
     "data": {
      "text/plain": [
       "array([0, 0, 0, ..., 0, 0, 0])"
      ]
     },
     "execution_count": 35,
     "metadata": {},
     "output_type": "execute_result"
    }
   ],
   "source": [
    "model.predict(X_test)"
   ]
  },
  {
   "cell_type": "markdown",
   "id": "56c9705b",
   "metadata": {
    "papermill": {
     "duration": 0.02133,
     "end_time": "2025-08-05T15:58:20.115507",
     "exception": false,
     "start_time": "2025-08-05T15:58:20.094177",
     "status": "completed"
    },
    "tags": []
   },
   "source": [
    "# Conformal Prediction"
   ]
  },
  {
   "cell_type": "code",
   "execution_count": 36,
   "id": "160ec6ff",
   "metadata": {
    "execution": {
     "iopub.execute_input": "2025-08-05T15:58:20.146478Z",
     "iopub.status.busy": "2025-08-05T15:58:20.146086Z",
     "iopub.status.idle": "2025-08-05T15:58:20.151077Z",
     "shell.execute_reply": "2025-08-05T15:58:20.150227Z"
    },
    "papermill": {
     "duration": 0.020196,
     "end_time": "2025-08-05T15:58:20.152636",
     "exception": false,
     "start_time": "2025-08-05T15:58:20.132440",
     "status": "completed"
    },
    "tags": []
   },
   "outputs": [],
   "source": [
    "# Miscoverage level for conformal prediction (10% allowed error rate => 90% target coverage)\n",
    "alpha = 0.1"
   ]
  },
  {
   "cell_type": "code",
   "execution_count": 37,
   "id": "eadf4555-3dd3-440e-8e35-f82a4ad9f855",
   "metadata": {
    "execution": {
     "iopub.execute_input": "2025-08-05T15:58:20.176230Z",
     "iopub.status.busy": "2025-08-05T15:58:20.175543Z",
     "iopub.status.idle": "2025-08-05T15:58:21.795525Z",
     "shell.execute_reply": "2025-08-05T15:58:21.794749Z"
    },
    "papermill": {
     "duration": 1.632672,
     "end_time": "2025-08-05T15:58:21.796966",
     "exception": false,
     "start_time": "2025-08-05T15:58:20.164294",
     "status": "completed"
    },
    "tags": []
   },
   "outputs": [],
   "source": [
    "probs_calib = model.predict_proba(X_calib)"
   ]
  },
  {
   "cell_type": "code",
   "execution_count": 38,
   "id": "2ed93547-6d5d-4983-9b36-1ecb300da49a",
   "metadata": {
    "execution": {
     "iopub.execute_input": "2025-08-05T15:58:21.819798Z",
     "iopub.status.busy": "2025-08-05T15:58:21.819409Z",
     "iopub.status.idle": "2025-08-05T15:58:21.824729Z",
     "shell.execute_reply": "2025-08-05T15:58:21.824025Z"
    },
    "papermill": {
     "duration": 0.018332,
     "end_time": "2025-08-05T15:58:21.826272",
     "exception": false,
     "start_time": "2025-08-05T15:58:21.807940",
     "status": "completed"
    },
    "tags": []
   },
   "outputs": [],
   "source": [
    "y_calib = y_calib.values.ravel().astype(int)"
   ]
  },
  {
   "cell_type": "code",
   "execution_count": 39,
   "id": "65d1320d-f588-4b38-9072-62af1ae97f7d",
   "metadata": {
    "execution": {
     "iopub.execute_input": "2025-08-05T15:58:21.850109Z",
     "iopub.status.busy": "2025-08-05T15:58:21.849585Z",
     "iopub.status.idle": "2025-08-05T15:58:21.856251Z",
     "shell.execute_reply": "2025-08-05T15:58:21.855399Z"
    },
    "papermill": {
     "duration": 0.019812,
     "end_time": "2025-08-05T15:58:21.857766",
     "exception": false,
     "start_time": "2025-08-05T15:58:21.837954",
     "status": "completed"
    },
    "tags": []
   },
   "outputs": [],
   "source": [
    "from fairness_multiverse.conformal import compute_nc_scores\n",
    "\n",
    "# Compute nonconformity scores on calibration set (1 - probability of true class)\n",
    "nc_scores = compute_nc_scores(probs_calib, y_calib)"
   ]
  },
  {
   "cell_type": "code",
   "execution_count": 40,
   "id": "df3b8ca3-53b7-43d5-9667-7c85da7aeda2",
   "metadata": {
    "execution": {
     "iopub.execute_input": "2025-08-05T15:58:21.884012Z",
     "iopub.status.busy": "2025-08-05T15:58:21.883314Z",
     "iopub.status.idle": "2025-08-05T15:58:21.890201Z",
     "shell.execute_reply": "2025-08-05T15:58:21.889219Z"
    },
    "papermill": {
     "duration": 0.022679,
     "end_time": "2025-08-05T15:58:21.891769",
     "exception": false,
     "start_time": "2025-08-05T15:58:21.869090",
     "status": "completed"
    },
    "tags": []
   },
   "outputs": [],
   "source": [
    "from fairness_multiverse.conformal import find_threshold\n",
    "\n",
    "# Find conformal threshold q_hat for the given alpha (split conformal method)\n",
    "q_hat = find_threshold(nc_scores, alpha)"
   ]
  },
  {
   "cell_type": "code",
   "execution_count": 41,
   "id": "4d29e6c1-0ef6-4aa4-b8fe-4fe79b0d033a",
   "metadata": {
    "execution": {
     "iopub.execute_input": "2025-08-05T15:58:21.915781Z",
     "iopub.status.busy": "2025-08-05T15:58:21.915089Z",
     "iopub.status.idle": "2025-08-05T15:58:21.921762Z",
     "shell.execute_reply": "2025-08-05T15:58:21.920897Z"
    },
    "papermill": {
     "duration": 0.019753,
     "end_time": "2025-08-05T15:58:21.923214",
     "exception": false,
     "start_time": "2025-08-05T15:58:21.903461",
     "status": "completed"
    },
    "tags": []
   },
   "outputs": [
    {
     "data": {
      "text/plain": [
       "0.6599999999999999"
      ]
     },
     "execution_count": 41,
     "metadata": {},
     "output_type": "execute_result"
    }
   ],
   "source": [
    "q_hat"
   ]
  },
  {
   "cell_type": "code",
   "execution_count": 42,
   "id": "92460794-cdac-4be2-ba28-f28c0515a6fb",
   "metadata": {
    "execution": {
     "iopub.execute_input": "2025-08-05T15:58:21.946303Z",
     "iopub.status.busy": "2025-08-05T15:58:21.945646Z",
     "iopub.status.idle": "2025-08-05T15:58:24.588343Z",
     "shell.execute_reply": "2025-08-05T15:58:24.587333Z"
    },
    "papermill": {
     "duration": 2.655951,
     "end_time": "2025-08-05T15:58:24.590302",
     "exception": false,
     "start_time": "2025-08-05T15:58:21.934351",
     "status": "completed"
    },
    "tags": []
   },
   "outputs": [],
   "source": [
    "from fairness_multiverse.conformal import predict_conformal_sets\n",
    "\n",
    "# Generate prediction sets for each test example\n",
    "pred_sets = predict_conformal_sets(model, X_test, q_hat)"
   ]
  },
  {
   "cell_type": "code",
   "execution_count": 43,
   "id": "d90c9a65-e6db-4f5d-80cd-e68fb7e46829",
   "metadata": {
    "execution": {
     "iopub.execute_input": "2025-08-05T15:58:24.639207Z",
     "iopub.status.busy": "2025-08-05T15:58:24.638225Z",
     "iopub.status.idle": "2025-08-05T15:58:24.644084Z",
     "shell.execute_reply": "2025-08-05T15:58:24.642920Z"
    },
    "papermill": {
     "duration": 0.030681,
     "end_time": "2025-08-05T15:58:24.645997",
     "exception": false,
     "start_time": "2025-08-05T15:58:24.615316",
     "status": "completed"
    },
    "tags": []
   },
   "outputs": [],
   "source": [
    "y_true = y_true.squeeze()"
   ]
  },
  {
   "cell_type": "code",
   "execution_count": 44,
   "id": "3a58a54a-1e68-46b9-927a-df01f18aebc8",
   "metadata": {
    "execution": {
     "iopub.execute_input": "2025-08-05T15:58:24.697232Z",
     "iopub.status.busy": "2025-08-05T15:58:24.696331Z",
     "iopub.status.idle": "2025-08-05T15:58:25.658106Z",
     "shell.execute_reply": "2025-08-05T15:58:25.656708Z"
    },
    "papermill": {
     "duration": 0.989409,
     "end_time": "2025-08-05T15:58:25.660113",
     "exception": false,
     "start_time": "2025-08-05T15:58:24.670704",
     "status": "completed"
    },
    "tags": []
   },
   "outputs": [],
   "source": [
    "from fairness_multiverse.conformal import evaluate_sets\n",
    "\n",
    "# Evaluate coverage and average set size on test data\n",
    "metrics = evaluate_sets(pred_sets, y_true)"
   ]
  },
  {
   "cell_type": "markdown",
   "id": "2b569c12-9aaa-4c88-98c9-bbcd0cf3ebb8",
   "metadata": {
    "papermill": {
     "duration": 0.0229,
     "end_time": "2025-08-05T15:58:25.706296",
     "exception": false,
     "start_time": "2025-08-05T15:58:25.683396",
     "status": "completed"
    },
    "tags": []
   },
   "source": [
    "# CP Metrics"
   ]
  },
  {
   "cell_type": "code",
   "execution_count": 45,
   "id": "5ce0a5cb-201f-45a0-ade5-94c7f0bd6095",
   "metadata": {
    "execution": {
     "iopub.execute_input": "2025-08-05T15:58:25.754069Z",
     "iopub.status.busy": "2025-08-05T15:58:25.753475Z",
     "iopub.status.idle": "2025-08-05T15:58:25.761376Z",
     "shell.execute_reply": "2025-08-05T15:58:25.760330Z"
    },
    "papermill": {
     "duration": 0.03435,
     "end_time": "2025-08-05T15:58:25.763170",
     "exception": false,
     "start_time": "2025-08-05T15:58:25.728820",
     "status": "completed"
    },
    "tags": []
   },
   "outputs": [
    {
     "data": {
      "text/plain": [
       "{'coverage': 0.9133318470627578, 'avg_size': 1.1468063761007692}"
      ]
     },
     "execution_count": 45,
     "metadata": {},
     "output_type": "execute_result"
    }
   ],
   "source": [
    "metrics"
   ]
  },
  {
   "cell_type": "code",
   "execution_count": 46,
   "id": "9b9a838d-31c9-430b-ae14-12baee460d17",
   "metadata": {
    "execution": {
     "iopub.execute_input": "2025-08-05T15:58:25.805786Z",
     "iopub.status.busy": "2025-08-05T15:58:25.804937Z",
     "iopub.status.idle": "2025-08-05T15:58:25.811696Z",
     "shell.execute_reply": "2025-08-05T15:58:25.810577Z"
    },
    "papermill": {
     "duration": 0.029342,
     "end_time": "2025-08-05T15:58:25.813470",
     "exception": false,
     "start_time": "2025-08-05T15:58:25.784128",
     "status": "completed"
    },
    "tags": []
   },
   "outputs": [],
   "source": [
    "example_universe = universe.copy()\n",
    "universe_training_year = example_universe.get(\"training_year\")\n",
    "universe_training_size = example_universe.get(\"training_size\")\n",
    "universe_scale = example_universe.get(\"scale\")\n",
    "universe_model = example_universe.get(\"model\")\n",
    "universe_exclude_features = example_universe.get(\"exclude_features\")\n",
    "universe_exclude_subgroups = example_universe.get(\"exclude_subgroups\")"
   ]
  },
  {
   "cell_type": "code",
   "execution_count": 47,
   "id": "f4b6a8ac-9dc0-4245-8a91-5b3b5999c4f9",
   "metadata": {
    "execution": {
     "iopub.execute_input": "2025-08-05T15:58:25.855551Z",
     "iopub.status.busy": "2025-08-05T15:58:25.855107Z",
     "iopub.status.idle": "2025-08-05T15:58:25.862203Z",
     "shell.execute_reply": "2025-08-05T15:58:25.861071Z"
    },
    "papermill": {
     "duration": 0.030957,
     "end_time": "2025-08-05T15:58:25.864155",
     "exception": false,
     "start_time": "2025-08-05T15:58:25.833198",
     "status": "completed"
    },
    "tags": []
   },
   "outputs": [],
   "source": [
    "cp_metrics_dict = {\n",
    "    \"universe_id\": [universe_id],\n",
    "    \"universe_training_year\": [universe_training_year],\n",
    "    \"universe_training_size\": [universe_training_size],\n",
    "    \"universe_scale\": [universe_scale],\n",
    "    \"universe_model\": [universe_model],\n",
    "    \"universe_exclude_features\": [universe_exclude_features],\n",
    "    \"universe_exclude_subgroups\": [universe_exclude_subgroups],\n",
    "    \"q_hat\": [q_hat],\n",
    "    \"coverage\": [metrics[\"coverage\"]],\n",
    "    \"avg_size\": [metrics[\"avg_size\"]],\n",
    "}"
   ]
  },
  {
   "cell_type": "code",
   "execution_count": 48,
   "id": "908acbb1-0371-4915-85ca-3fa520d2efe2",
   "metadata": {
    "execution": {
     "iopub.execute_input": "2025-08-05T15:58:25.910964Z",
     "iopub.status.busy": "2025-08-05T15:58:25.910530Z",
     "iopub.status.idle": "2025-08-05T15:58:25.918577Z",
     "shell.execute_reply": "2025-08-05T15:58:25.917646Z"
    },
    "papermill": {
     "duration": 0.032317,
     "end_time": "2025-08-05T15:58:25.920215",
     "exception": false,
     "start_time": "2025-08-05T15:58:25.887898",
     "status": "completed"
    },
    "tags": []
   },
   "outputs": [
    {
     "data": {
      "text/plain": [
       "{'universe_id': ['5079a83d505f32beb07cb32cf96c76b3'],\n",
       " 'universe_training_year': ['2010_14'],\n",
       " 'universe_training_size': ['5k'],\n",
       " 'universe_scale': ['do-not-scale'],\n",
       " 'universe_model': ['rf'],\n",
       " 'universe_exclude_features': ['sex'],\n",
       " 'universe_exclude_subgroups': ['drop-non-german'],\n",
       " 'q_hat': [0.6599999999999999],\n",
       " 'coverage': [0.9133318470627578],\n",
       " 'avg_size': [1.1468063761007692]}"
      ]
     },
     "execution_count": 48,
     "metadata": {},
     "output_type": "execute_result"
    }
   ],
   "source": [
    "cp_metrics_dict"
   ]
  },
  {
   "cell_type": "code",
   "execution_count": 49,
   "id": "33007efc-14e9-4ec6-97ac-56a455c82265",
   "metadata": {
    "execution": {
     "iopub.execute_input": "2025-08-05T15:58:25.971610Z",
     "iopub.status.busy": "2025-08-05T15:58:25.970962Z",
     "iopub.status.idle": "2025-08-05T15:58:25.978080Z",
     "shell.execute_reply": "2025-08-05T15:58:25.976859Z"
    },
    "papermill": {
     "duration": 0.034665,
     "end_time": "2025-08-05T15:58:25.980005",
     "exception": false,
     "start_time": "2025-08-05T15:58:25.945340",
     "status": "completed"
    },
    "tags": []
   },
   "outputs": [],
   "source": [
    "cp_metrics_df = pd.DataFrame(cp_metrics_dict)"
   ]
  },
  {
   "cell_type": "code",
   "execution_count": 50,
   "id": "db12611b-57b2-4910-b9d0-355adfd6e7bf",
   "metadata": {
    "execution": {
     "iopub.execute_input": "2025-08-05T15:58:26.033321Z",
     "iopub.status.busy": "2025-08-05T15:58:26.032800Z",
     "iopub.status.idle": "2025-08-05T15:58:26.055197Z",
     "shell.execute_reply": "2025-08-05T15:58:26.054191Z"
    },
    "papermill": {
     "duration": 0.050423,
     "end_time": "2025-08-05T15:58:26.057229",
     "exception": false,
     "start_time": "2025-08-05T15:58:26.006806",
     "status": "completed"
    },
    "tags": []
   },
   "outputs": [
    {
     "data": {
      "text/html": [
       "<div>\n",
       "<style scoped>\n",
       "    .dataframe tbody tr th:only-of-type {\n",
       "        vertical-align: middle;\n",
       "    }\n",
       "\n",
       "    .dataframe tbody tr th {\n",
       "        vertical-align: top;\n",
       "    }\n",
       "\n",
       "    .dataframe thead th {\n",
       "        text-align: right;\n",
       "    }\n",
       "</style>\n",
       "<table border=\"1\" class=\"dataframe\">\n",
       "  <thead>\n",
       "    <tr style=\"text-align: right;\">\n",
       "      <th></th>\n",
       "      <th>universe_id</th>\n",
       "      <th>universe_training_year</th>\n",
       "      <th>universe_training_size</th>\n",
       "      <th>universe_scale</th>\n",
       "      <th>universe_model</th>\n",
       "      <th>universe_exclude_features</th>\n",
       "      <th>universe_exclude_subgroups</th>\n",
       "      <th>q_hat</th>\n",
       "      <th>coverage</th>\n",
       "      <th>avg_size</th>\n",
       "    </tr>\n",
       "  </thead>\n",
       "  <tbody>\n",
       "    <tr>\n",
       "      <th>0</th>\n",
       "      <td>5079a83d505f32beb07cb32cf96c76b3</td>\n",
       "      <td>2010_14</td>\n",
       "      <td>5k</td>\n",
       "      <td>do-not-scale</td>\n",
       "      <td>rf</td>\n",
       "      <td>sex</td>\n",
       "      <td>drop-non-german</td>\n",
       "      <td>0.66</td>\n",
       "      <td>0.913332</td>\n",
       "      <td>1.146806</td>\n",
       "    </tr>\n",
       "  </tbody>\n",
       "</table>\n",
       "</div>"
      ],
      "text/plain": [
       "                        universe_id universe_training_year  \\\n",
       "0  5079a83d505f32beb07cb32cf96c76b3                2010_14   \n",
       "\n",
       "  universe_training_size universe_scale universe_model  \\\n",
       "0                     5k   do-not-scale             rf   \n",
       "\n",
       "  universe_exclude_features universe_exclude_subgroups  q_hat  coverage  \\\n",
       "0                       sex            drop-non-german   0.66  0.913332   \n",
       "\n",
       "   avg_size  \n",
       "0  1.146806  "
      ]
     },
     "execution_count": 50,
     "metadata": {},
     "output_type": "execute_result"
    }
   ],
   "source": [
    "cp_metrics_df"
   ]
  },
  {
   "cell_type": "code",
   "execution_count": 51,
   "id": "b7fbde55-a0a1-47e4-9af6-fe4a17fa8c61",
   "metadata": {
    "execution": {
     "iopub.execute_input": "2025-08-05T15:58:26.110278Z",
     "iopub.status.busy": "2025-08-05T15:58:26.109002Z",
     "iopub.status.idle": "2025-08-05T15:58:26.114648Z",
     "shell.execute_reply": "2025-08-05T15:58:26.113561Z"
    },
    "papermill": {
     "duration": 0.033763,
     "end_time": "2025-08-05T15:58:26.116530",
     "exception": false,
     "start_time": "2025-08-05T15:58:26.082767",
     "status": "completed"
    },
    "tags": []
   },
   "outputs": [],
   "source": [
    "# Conditional Coverage & looking at subgroups"
   ]
  },
  {
   "cell_type": "code",
   "execution_count": 52,
   "id": "027ae886-68dd-4141-96c7-805a5450e1ef",
   "metadata": {
    "execution": {
     "iopub.execute_input": "2025-08-05T15:58:26.172171Z",
     "iopub.status.busy": "2025-08-05T15:58:26.171134Z",
     "iopub.status.idle": "2025-08-05T15:58:26.402737Z",
     "shell.execute_reply": "2025-08-05T15:58:26.401970Z"
    },
    "papermill": {
     "duration": 0.263181,
     "end_time": "2025-08-05T15:58:26.404686",
     "exception": false,
     "start_time": "2025-08-05T15:58:26.141505",
     "status": "completed"
    },
    "tags": []
   },
   "outputs": [],
   "source": [
    "from fairness_multiverse.conformal import build_cp_groups\n",
    "\n",
    "cp_groups_df = build_cp_groups(pred_sets, y_true, X_test.index, org_test)\n",
    "#needs universe_id and setting"
   ]
  },
  {
   "cell_type": "code",
   "execution_count": 53,
   "id": "6cbdab96-b2b2-45af-ad54-d0516db2e28d",
   "metadata": {
    "execution": {
     "iopub.execute_input": "2025-08-05T15:58:26.451987Z",
     "iopub.status.busy": "2025-08-05T15:58:26.451486Z",
     "iopub.status.idle": "2025-08-05T15:58:27.762505Z",
     "shell.execute_reply": "2025-08-05T15:58:27.761732Z"
    },
    "papermill": {
     "duration": 1.338026,
     "end_time": "2025-08-05T15:58:27.763947",
     "exception": false,
     "start_time": "2025-08-05T15:58:26.425921",
     "status": "completed"
    },
    "tags": []
   },
   "outputs": [],
   "source": [
    "# Define covered = 1 if true_label is in the predicted set\n",
    "cp_groups_df['covered'] = cp_groups_df.apply(\n",
    "    lambda r: int(r['true_label'] in r['pred_set']),\n",
    "    axis=1\n",
    ")"
   ]
  },
  {
   "cell_type": "code",
   "execution_count": 54,
   "id": "338ff529-1a6b-4b87-a931-8e4788d52aad",
   "metadata": {
    "execution": {
     "iopub.execute_input": "2025-08-05T15:58:27.789414Z",
     "iopub.status.busy": "2025-08-05T15:58:27.789096Z",
     "iopub.status.idle": "2025-08-05T15:58:27.793766Z",
     "shell.execute_reply": "2025-08-05T15:58:27.792921Z"
    },
    "papermill": {
     "duration": 0.018119,
     "end_time": "2025-08-05T15:58:27.795255",
     "exception": false,
     "start_time": "2025-08-05T15:58:27.777136",
     "status": "completed"
    },
    "tags": []
   },
   "outputs": [],
   "source": [
    "#cp_groups_df"
   ]
  },
  {
   "cell_type": "code",
   "execution_count": 55,
   "id": "90032e27-66df-4540-9169-4e89cfbaa758",
   "metadata": {
    "execution": {
     "iopub.execute_input": "2025-08-05T15:58:27.823003Z",
     "iopub.status.busy": "2025-08-05T15:58:27.822205Z",
     "iopub.status.idle": "2025-08-05T15:58:27.833727Z",
     "shell.execute_reply": "2025-08-05T15:58:27.832792Z"
    },
    "papermill": {
     "duration": 0.028149,
     "end_time": "2025-08-05T15:58:27.835330",
     "exception": false,
     "start_time": "2025-08-05T15:58:27.807181",
     "status": "completed"
    },
    "tags": []
   },
   "outputs": [],
   "source": [
    "subgroups = ['frau1','nongerman','nongerman_male','nongerman_female']\n",
    "\n",
    "# Conditional coverage for subgroup==1\n",
    "cond_coverage = {\n",
    "    g: cp_groups_df.loc[cp_groups_df[g]==1, 'covered'].mean()\n",
    "    for g in subgroups\n",
    "}"
   ]
  },
  {
   "cell_type": "code",
   "execution_count": 56,
   "id": "1e348fb1-b9c3-45bc-ba23-f016827a7e0d",
   "metadata": {
    "execution": {
     "iopub.execute_input": "2025-08-05T15:58:27.884241Z",
     "iopub.status.busy": "2025-08-05T15:58:27.883355Z",
     "iopub.status.idle": "2025-08-05T15:58:27.891756Z",
     "shell.execute_reply": "2025-08-05T15:58:27.890999Z"
    },
    "papermill": {
     "duration": 0.035242,
     "end_time": "2025-08-05T15:58:27.895058",
     "exception": false,
     "start_time": "2025-08-05T15:58:27.859816",
     "status": "completed"
    },
    "tags": []
   },
   "outputs": [
    {
     "data": {
      "text/plain": [
       "{'frau1': 0.9118210001347891,\n",
       " 'nongerman': 0.9048447762869815,\n",
       " 'nongerman_male': 0.9191209582995586,\n",
       " 'nongerman_female': 0.8812220566318927}"
      ]
     },
     "execution_count": 56,
     "metadata": {},
     "output_type": "execute_result"
    }
   ],
   "source": [
    "cond_coverage"
   ]
  },
  {
   "cell_type": "code",
   "execution_count": 57,
   "id": "f5093324-c3dd-4d63-bc4c-8d945e5c8bbb",
   "metadata": {
    "execution": {
     "iopub.execute_input": "2025-08-05T15:58:27.921648Z",
     "iopub.status.busy": "2025-08-05T15:58:27.921292Z",
     "iopub.status.idle": "2025-08-05T15:58:27.927030Z",
     "shell.execute_reply": "2025-08-05T15:58:27.926182Z"
    },
    "papermill": {
     "duration": 0.019899,
     "end_time": "2025-08-05T15:58:27.928465",
     "exception": false,
     "start_time": "2025-08-05T15:58:27.908566",
     "status": "completed"
    },
    "tags": []
   },
   "outputs": [],
   "source": [
    "for subgroup, cov in cond_coverage.items():\n",
    "    cp_metrics_df[f\"cov_{subgroup}\"] = cov"
   ]
  },
  {
   "cell_type": "code",
   "execution_count": 58,
   "id": "6e872e10-dbe5-49e8-b554-5030c98ff75d",
   "metadata": {
    "execution": {
     "iopub.execute_input": "2025-08-05T15:58:27.953939Z",
     "iopub.status.busy": "2025-08-05T15:58:27.953396Z",
     "iopub.status.idle": "2025-08-05T15:58:27.967565Z",
     "shell.execute_reply": "2025-08-05T15:58:27.966743Z"
    },
    "papermill": {
     "duration": 0.027694,
     "end_time": "2025-08-05T15:58:27.968974",
     "exception": false,
     "start_time": "2025-08-05T15:58:27.941280",
     "status": "completed"
    },
    "tags": []
   },
   "outputs": [
    {
     "data": {
      "text/html": [
       "<div>\n",
       "<style scoped>\n",
       "    .dataframe tbody tr th:only-of-type {\n",
       "        vertical-align: middle;\n",
       "    }\n",
       "\n",
       "    .dataframe tbody tr th {\n",
       "        vertical-align: top;\n",
       "    }\n",
       "\n",
       "    .dataframe thead th {\n",
       "        text-align: right;\n",
       "    }\n",
       "</style>\n",
       "<table border=\"1\" class=\"dataframe\">\n",
       "  <thead>\n",
       "    <tr style=\"text-align: right;\">\n",
       "      <th></th>\n",
       "      <th>universe_id</th>\n",
       "      <th>universe_training_year</th>\n",
       "      <th>universe_training_size</th>\n",
       "      <th>universe_scale</th>\n",
       "      <th>universe_model</th>\n",
       "      <th>universe_exclude_features</th>\n",
       "      <th>universe_exclude_subgroups</th>\n",
       "      <th>q_hat</th>\n",
       "      <th>coverage</th>\n",
       "      <th>avg_size</th>\n",
       "      <th>cov_frau1</th>\n",
       "      <th>cov_nongerman</th>\n",
       "      <th>cov_nongerman_male</th>\n",
       "      <th>cov_nongerman_female</th>\n",
       "    </tr>\n",
       "  </thead>\n",
       "  <tbody>\n",
       "    <tr>\n",
       "      <th>0</th>\n",
       "      <td>5079a83d505f32beb07cb32cf96c76b3</td>\n",
       "      <td>2010_14</td>\n",
       "      <td>5k</td>\n",
       "      <td>do-not-scale</td>\n",
       "      <td>rf</td>\n",
       "      <td>sex</td>\n",
       "      <td>drop-non-german</td>\n",
       "      <td>0.66</td>\n",
       "      <td>0.913332</td>\n",
       "      <td>1.146806</td>\n",
       "      <td>0.911821</td>\n",
       "      <td>0.904845</td>\n",
       "      <td>0.919121</td>\n",
       "      <td>0.881222</td>\n",
       "    </tr>\n",
       "  </tbody>\n",
       "</table>\n",
       "</div>"
      ],
      "text/plain": [
       "                        universe_id universe_training_year  \\\n",
       "0  5079a83d505f32beb07cb32cf96c76b3                2010_14   \n",
       "\n",
       "  universe_training_size universe_scale universe_model  \\\n",
       "0                     5k   do-not-scale             rf   \n",
       "\n",
       "  universe_exclude_features universe_exclude_subgroups  q_hat  coverage  \\\n",
       "0                       sex            drop-non-german   0.66  0.913332   \n",
       "\n",
       "   avg_size  cov_frau1  cov_nongerman  cov_nongerman_male  \\\n",
       "0  1.146806   0.911821       0.904845            0.919121   \n",
       "\n",
       "   cov_nongerman_female  \n",
       "0              0.881222  "
      ]
     },
     "execution_count": 58,
     "metadata": {},
     "output_type": "execute_result"
    }
   ],
   "source": [
    "cp_metrics_df"
   ]
  },
  {
   "cell_type": "markdown",
   "id": "33774451",
   "metadata": {
    "papermill": {
     "duration": 0.011446,
     "end_time": "2025-08-05T15:58:27.992690",
     "exception": false,
     "start_time": "2025-08-05T15:58:27.981244",
     "status": "completed"
    },
    "tags": []
   },
   "source": [
    "# (Fairness) Metrics"
   ]
  },
  {
   "cell_type": "code",
   "execution_count": 59,
   "id": "debc5d62",
   "metadata": {
    "execution": {
     "iopub.execute_input": "2025-08-05T15:58:28.017383Z",
     "iopub.status.busy": "2025-08-05T15:58:28.016869Z",
     "iopub.status.idle": "2025-08-05T15:58:28.032760Z",
     "shell.execute_reply": "2025-08-05T15:58:28.032065Z"
    },
    "papermill": {
     "duration": 0.029822,
     "end_time": "2025-08-05T15:58:28.034156",
     "exception": false,
     "start_time": "2025-08-05T15:58:28.004334",
     "status": "completed"
    },
    "tags": []
   },
   "outputs": [],
   "source": [
    "# do I need to include maxdeutsch1.missing?\n",
    "\n",
    "import numpy as np\n",
    "\n",
    "colname_to_bin = \"maxdeutsch1\"\n",
    "majority_value = org_train[colname_to_bin].mode()[0]\n",
    "\n",
    "org_test[\"majmin\"] = np.where(org_test[colname_to_bin] == majority_value, \"majority\", \"minority\")"
   ]
  },
  {
   "cell_type": "code",
   "execution_count": 60,
   "id": "06a50de5",
   "metadata": {
    "execution": {
     "iopub.execute_input": "2025-08-05T15:58:28.059577Z",
     "iopub.status.busy": "2025-08-05T15:58:28.058900Z",
     "iopub.status.idle": "2025-08-05T15:58:29.675136Z",
     "shell.execute_reply": "2025-08-05T15:58:29.674191Z"
    },
    "papermill": {
     "duration": 1.630492,
     "end_time": "2025-08-05T15:58:29.676652",
     "exception": false,
     "start_time": "2025-08-05T15:58:28.046160",
     "status": "completed"
    },
    "tags": []
   },
   "outputs": [],
   "source": [
    "example_universe = universe.copy()\n",
    "example_universe[\"cutoff\"] = example_universe[\"cutoff\"][0]\n",
    "example_universe[\"eval_fairness_grouping\"] = example_universe[\"eval_fairness_grouping\"][0]\n",
    "fairness_dict, metric_frame = universe_analysis.compute_metrics(\n",
    "    example_universe,\n",
    "    y_pred_prob=probs_test,\n",
    "    y_test=y_true,\n",
    "    org_test=org_test,\n",
    ")"
   ]
  },
  {
   "cell_type": "markdown",
   "id": "f95d4e02",
   "metadata": {
    "papermill": {
     "duration": 0.011785,
     "end_time": "2025-08-05T15:58:29.700868",
     "exception": false,
     "start_time": "2025-08-05T15:58:29.689083",
     "status": "completed"
    },
    "tags": []
   },
   "source": [
    "# Overall"
   ]
  },
  {
   "cell_type": "markdown",
   "id": "bdee4871",
   "metadata": {
    "papermill": {
     "duration": 0.011081,
     "end_time": "2025-08-05T15:58:29.723343",
     "exception": false,
     "start_time": "2025-08-05T15:58:29.712262",
     "status": "completed"
    },
    "tags": []
   },
   "source": [
    "Fairness\n",
    "Main fairness target: Equalized Odds. Seems to be a better fit than equal opportunity, since we're not only interested in Y = 1. Seems to be a better fit than demographic parity, since we also care about accuracy, not just equal distribution of preds.\n",
    "\n",
    "Pick column for computation of fairness metrics\n",
    "\n",
    "Performance\n",
    "Overall performance measures, most interesting in relation to the measures split by group below"
   ]
  },
  {
   "cell_type": "code",
   "execution_count": 61,
   "id": "c4e067c6",
   "metadata": {
    "execution": {
     "iopub.execute_input": "2025-08-05T15:58:29.748417Z",
     "iopub.status.busy": "2025-08-05T15:58:29.747666Z",
     "iopub.status.idle": "2025-08-05T15:58:29.755532Z",
     "shell.execute_reply": "2025-08-05T15:58:29.754712Z"
    },
    "papermill": {
     "duration": 0.022145,
     "end_time": "2025-08-05T15:58:29.756982",
     "exception": false,
     "start_time": "2025-08-05T15:58:29.734837",
     "status": "completed"
    },
    "tags": []
   },
   "outputs": [
    {
     "data": {
      "text/plain": [
       "accuracy                   0.199532\n",
       "balanced accuracy          0.533087\n",
       "f1                         0.239349\n",
       "precision                  0.136288\n",
       "false positive rate        0.915578\n",
       "false negative rate        0.018248\n",
       "selection rate             0.924066\n",
       "count                  89710.000000\n",
       "dtype: float64"
      ]
     },
     "execution_count": 61,
     "metadata": {},
     "output_type": "execute_result"
    }
   ],
   "source": [
    "metric_frame.overall"
   ]
  },
  {
   "cell_type": "markdown",
   "id": "e968fe9d",
   "metadata": {
    "papermill": {
     "duration": 0.011634,
     "end_time": "2025-08-05T15:58:29.781492",
     "exception": false,
     "start_time": "2025-08-05T15:58:29.769858",
     "status": "completed"
    },
    "tags": []
   },
   "source": [
    "By Group"
   ]
  },
  {
   "cell_type": "code",
   "execution_count": 62,
   "id": "ec325bce",
   "metadata": {
    "execution": {
     "iopub.execute_input": "2025-08-05T15:58:29.805878Z",
     "iopub.status.busy": "2025-08-05T15:58:29.805382Z",
     "iopub.status.idle": "2025-08-05T15:58:29.818265Z",
     "shell.execute_reply": "2025-08-05T15:58:29.817290Z"
    },
    "papermill": {
     "duration": 0.026753,
     "end_time": "2025-08-05T15:58:29.819826",
     "exception": false,
     "start_time": "2025-08-05T15:58:29.793073",
     "status": "completed"
    },
    "tags": []
   },
   "outputs": [
    {
     "data": {
      "text/html": [
       "<div>\n",
       "<style scoped>\n",
       "    .dataframe tbody tr th:only-of-type {\n",
       "        vertical-align: middle;\n",
       "    }\n",
       "\n",
       "    .dataframe tbody tr th {\n",
       "        vertical-align: top;\n",
       "    }\n",
       "\n",
       "    .dataframe thead th {\n",
       "        text-align: right;\n",
       "    }\n",
       "</style>\n",
       "<table border=\"1\" class=\"dataframe\">\n",
       "  <thead>\n",
       "    <tr style=\"text-align: right;\">\n",
       "      <th></th>\n",
       "      <th>accuracy</th>\n",
       "      <th>balanced accuracy</th>\n",
       "      <th>f1</th>\n",
       "      <th>precision</th>\n",
       "      <th>false positive rate</th>\n",
       "      <th>false negative rate</th>\n",
       "      <th>selection rate</th>\n",
       "      <th>count</th>\n",
       "    </tr>\n",
       "    <tr>\n",
       "      <th>majmin</th>\n",
       "      <th></th>\n",
       "      <th></th>\n",
       "      <th></th>\n",
       "      <th></th>\n",
       "      <th></th>\n",
       "      <th></th>\n",
       "      <th></th>\n",
       "      <th></th>\n",
       "    </tr>\n",
       "  </thead>\n",
       "  <tbody>\n",
       "    <tr>\n",
       "      <th>majority</th>\n",
       "      <td>0.199089</td>\n",
       "      <td>0.534491</td>\n",
       "      <td>0.246303</td>\n",
       "      <td>0.140640</td>\n",
       "      <td>0.921389</td>\n",
       "      <td>0.009628</td>\n",
       "      <td>0.930505</td>\n",
       "      <td>69170.0</td>\n",
       "    </tr>\n",
       "    <tr>\n",
       "      <th>minority</th>\n",
       "      <td>0.201022</td>\n",
       "      <td>0.526050</td>\n",
       "      <td>0.214897</td>\n",
       "      <td>0.121176</td>\n",
       "      <td>0.896379</td>\n",
       "      <td>0.051520</td>\n",
       "      <td>0.902386</td>\n",
       "      <td>20540.0</td>\n",
       "    </tr>\n",
       "  </tbody>\n",
       "</table>\n",
       "</div>"
      ],
      "text/plain": [
       "          accuracy  balanced accuracy        f1  precision  \\\n",
       "majmin                                                       \n",
       "majority  0.199089           0.534491  0.246303   0.140640   \n",
       "minority  0.201022           0.526050  0.214897   0.121176   \n",
       "\n",
       "          false positive rate  false negative rate  selection rate    count  \n",
       "majmin                                                                       \n",
       "majority             0.921389             0.009628        0.930505  69170.0  \n",
       "minority             0.896379             0.051520        0.902386  20540.0  "
      ]
     },
     "execution_count": 62,
     "metadata": {},
     "output_type": "execute_result"
    }
   ],
   "source": [
    "metric_frame.by_group"
   ]
  },
  {
   "cell_type": "code",
   "execution_count": 63,
   "id": "a9ddbe63",
   "metadata": {
    "execution": {
     "iopub.execute_input": "2025-08-05T15:58:29.846521Z",
     "iopub.status.busy": "2025-08-05T15:58:29.845822Z",
     "iopub.status.idle": "2025-08-05T15:58:31.467249Z",
     "shell.execute_reply": "2025-08-05T15:58:31.466464Z"
    },
    "papermill": {
     "duration": 1.635391,
     "end_time": "2025-08-05T15:58:31.468529",
     "exception": false,
     "start_time": "2025-08-05T15:58:29.833138",
     "status": "completed"
    },
    "tags": []
   },
   "outputs": [
    {
     "data": {
      "text/plain": [
       "array([[<Axes: title={'center': 'accuracy'}, xlabel='majmin'>,\n",
       "        <Axes: title={'center': 'balanced accuracy'}, xlabel='majmin'>,\n",
       "        <Axes: title={'center': 'f1'}, xlabel='majmin'>],\n",
       "       [<Axes: title={'center': 'precision'}, xlabel='majmin'>,\n",
       "        <Axes: title={'center': 'false positive rate'}, xlabel='majmin'>,\n",
       "        <Axes: title={'center': 'false negative rate'}, xlabel='majmin'>],\n",
       "       [<Axes: title={'center': 'selection rate'}, xlabel='majmin'>,\n",
       "        <Axes: title={'center': 'count'}, xlabel='majmin'>,\n",
       "        <Axes: xlabel='majmin'>]], dtype=object)"
      ]
     },
     "execution_count": 63,
     "metadata": {},
     "output_type": "execute_result"
    },
    {
     "data": {
      "image/png": "[encoded data removed]",
      "text/plain": [
       "<Figure size 1200x800 with 9 Axes>"
      ]
     },
     "metadata": {},
     "output_type": "display_data"
    }
   ],
   "source": [
    "# In a graphic\n",
    "metric_frame.by_group.plot.bar(\n",
    "    subplots=True,\n",
    "    layout=[3, 3],\n",
    "    legend=False,\n",
    "    figsize=[12, 8],\n",
    "    title=\"Show all metrics\",\n",
    ")"
   ]
  },
  {
   "cell_type": "markdown",
   "id": "f57a0bac",
   "metadata": {
    "papermill": {
     "duration": 0.012862,
     "end_time": "2025-08-05T15:58:31.494777",
     "exception": false,
     "start_time": "2025-08-05T15:58:31.481915",
     "status": "completed"
    },
    "tags": []
   },
   "source": [
    "# Final Output"
   ]
  },
  {
   "cell_type": "code",
   "execution_count": 64,
   "id": "96d280a3",
   "metadata": {
    "execution": {
     "iopub.execute_input": "2025-08-05T15:58:31.522640Z",
     "iopub.status.busy": "2025-08-05T15:58:31.522146Z",
     "iopub.status.idle": "2025-08-05T15:58:31.529090Z",
     "shell.execute_reply": "2025-08-05T15:58:31.528331Z"
    },
    "papermill": {
     "duration": 0.023086,
     "end_time": "2025-08-05T15:58:31.530681",
     "exception": false,
     "start_time": "2025-08-05T15:58:31.507595",
     "status": "completed"
    },
    "tags": []
   },
   "outputs": [
    {
     "data": {
      "text/plain": [
       "4"
      ]
     },
     "execution_count": 64,
     "metadata": {},
     "output_type": "execute_result"
    }
   ],
   "source": [
    "sub_universes = universe_analysis.generate_sub_universes()\n",
    "len(sub_universes)"
   ]
  },
  {
   "cell_type": "code",
   "execution_count": 65,
   "id": "92adf7ba",
   "metadata": {
    "execution": {
     "iopub.execute_input": "2025-08-05T15:58:31.559053Z",
     "iopub.status.busy": "2025-08-05T15:58:31.558464Z",
     "iopub.status.idle": "2025-08-05T15:58:31.586986Z",
     "shell.execute_reply": "2025-08-05T15:58:31.586124Z"
    },
    "papermill": {
     "duration": 0.044149,
     "end_time": "2025-08-05T15:58:31.588626",
     "exception": false,
     "start_time": "2025-08-05T15:58:31.544477",
     "status": "completed"
    },
    "tags": []
   },
   "outputs": [],
   "source": [
    "def filter_sub_universe_data(sub_universe, org_test):\n",
    "    # Keep all rows — no filtering\n",
    "    keep_rows_mask = np.ones(org_test.shape[0], dtype=bool)\n",
    "\n",
    "    print(f\"[INFO] Keeping all rows: {keep_rows_mask.sum()} rows retained.\")\n",
    "    return keep_rows_mask"
   ]
  },
  {
   "cell_type": "code",
   "execution_count": 66,
   "id": "4a759155",
   "metadata": {
    "execution": {
     "iopub.execute_input": "2025-08-05T15:58:31.618102Z",
     "iopub.status.busy": "2025-08-05T15:58:31.617721Z",
     "iopub.status.idle": "2025-08-05T15:58:37.663814Z",
     "shell.execute_reply": "2025-08-05T15:58:37.662652Z"
    },
    "papermill": {
     "duration": 6.062616,
     "end_time": "2025-08-05T15:58:37.666092",
     "exception": false,
     "start_time": "2025-08-05T15:58:31.603476",
     "status": "completed"
    },
    "tags": []
   },
   "outputs": [
    {
     "name": "stdout",
     "output_type": "stream",
     "text": [
      "Stopping execution_time clock.\n",
      "[INFO] Keeping all rows: 89710 rows retained.\n"
     ]
    },
    {
     "name": "stdout",
     "output_type": "stream",
     "text": [
      "[INFO] Keeping all rows: 89710 rows retained.\n"
     ]
    },
    {
     "name": "stdout",
     "output_type": "stream",
     "text": [
      "[INFO] Keeping all rows: 89710 rows retained.\n"
     ]
    },
    {
     "name": "stdout",
     "output_type": "stream",
     "text": [
      "[INFO] Keeping all rows: 89710 rows retained.\n"
     ]
    },
    {
     "data": {
      "text/html": [
       "<div>\n",
       "<style scoped>\n",
       "    .dataframe tbody tr th:only-of-type {\n",
       "        vertical-align: middle;\n",
       "    }\n",
       "\n",
       "    .dataframe tbody tr th {\n",
       "        vertical-align: top;\n",
       "    }\n",
       "\n",
       "    .dataframe thead th {\n",
       "        text-align: right;\n",
       "    }\n",
       "</style>\n",
       "<table border=\"1\" class=\"dataframe\">\n",
       "  <thead>\n",
       "    <tr style=\"text-align: right;\">\n",
       "      <th></th>\n",
       "      <th>run_no</th>\n",
       "      <th>universe_id</th>\n",
       "      <th>universe_settings</th>\n",
       "      <th>execution_time</th>\n",
       "      <th>test_size_n</th>\n",
       "      <th>test_size_frac</th>\n",
       "      <th>fair_main_equalized_odds_difference</th>\n",
       "      <th>fair_main_equalized_odds_ratio</th>\n",
       "      <th>fair_main_demographic_parity_difference</th>\n",
       "      <th>fair_main_demographic_parity_ratio</th>\n",
       "      <th>...</th>\n",
       "      <th>perf_grp_precision_0</th>\n",
       "      <th>perf_grp_precision_1</th>\n",
       "      <th>perf_grp_false positive rate_0</th>\n",
       "      <th>perf_grp_false positive rate_1</th>\n",
       "      <th>perf_grp_false negative rate_0</th>\n",
       "      <th>perf_grp_false negative rate_1</th>\n",
       "      <th>perf_grp_selection rate_0</th>\n",
       "      <th>perf_grp_selection rate_1</th>\n",
       "      <th>perf_grp_count_0</th>\n",
       "      <th>perf_grp_count_1</th>\n",
       "    </tr>\n",
       "  </thead>\n",
       "  <tbody>\n",
       "    <tr>\n",
       "      <th>0</th>\n",
       "      <td>15</td>\n",
       "      <td>5079a83d505f32beb07cb32cf96c76b3</td>\n",
       "      <td>{\"cutoff\": \"quantile_0.1\", \"eval_fairness_grou...</td>\n",
       "      <td>33.687601</td>\n",
       "      <td>89710</td>\n",
       "      <td>1.0</td>\n",
       "      <td>0.041892</td>\n",
       "      <td>0.957700</td>\n",
       "      <td>0.028119</td>\n",
       "      <td>0.969781</td>\n",
       "      <td>...</td>\n",
       "      <td>NaN</td>\n",
       "      <td>NaN</td>\n",
       "      <td>NaN</td>\n",
       "      <td>NaN</td>\n",
       "      <td>NaN</td>\n",
       "      <td>NaN</td>\n",
       "      <td>NaN</td>\n",
       "      <td>NaN</td>\n",
       "      <td>NaN</td>\n",
       "      <td>NaN</td>\n",
       "    </tr>\n",
       "    <tr>\n",
       "      <th>0</th>\n",
       "      <td>15</td>\n",
       "      <td>5079a83d505f32beb07cb32cf96c76b3</td>\n",
       "      <td>{\"cutoff\": \"quantile_0.1\", \"eval_fairness_grou...</td>\n",
       "      <td>33.687601</td>\n",
       "      <td>89710</td>\n",
       "      <td>1.0</td>\n",
       "      <td>0.041892</td>\n",
       "      <td>0.957700</td>\n",
       "      <td>0.028119</td>\n",
       "      <td>0.969781</td>\n",
       "      <td>...</td>\n",
       "      <td>0.121176</td>\n",
       "      <td>0.140640</td>\n",
       "      <td>0.896379</td>\n",
       "      <td>0.921389</td>\n",
       "      <td>0.051520</td>\n",
       "      <td>0.009628</td>\n",
       "      <td>0.902386</td>\n",
       "      <td>0.930505</td>\n",
       "      <td>20540.0</td>\n",
       "      <td>69170.0</td>\n",
       "    </tr>\n",
       "    <tr>\n",
       "      <th>0</th>\n",
       "      <td>15</td>\n",
       "      <td>5079a83d505f32beb07cb32cf96c76b3</td>\n",
       "      <td>{\"cutoff\": \"quantile_0.25\", \"eval_fairness_gro...</td>\n",
       "      <td>33.687601</td>\n",
       "      <td>89710</td>\n",
       "      <td>1.0</td>\n",
       "      <td>0.105513</td>\n",
       "      <td>0.889291</td>\n",
       "      <td>0.044667</td>\n",
       "      <td>0.942613</td>\n",
       "      <td>...</td>\n",
       "      <td>NaN</td>\n",
       "      <td>NaN</td>\n",
       "      <td>NaN</td>\n",
       "      <td>NaN</td>\n",
       "      <td>NaN</td>\n",
       "      <td>NaN</td>\n",
       "      <td>NaN</td>\n",
       "      <td>NaN</td>\n",
       "      <td>NaN</td>\n",
       "      <td>NaN</td>\n",
       "    </tr>\n",
       "    <tr>\n",
       "      <th>0</th>\n",
       "      <td>15</td>\n",
       "      <td>5079a83d505f32beb07cb32cf96c76b3</td>\n",
       "      <td>{\"cutoff\": \"quantile_0.25\", \"eval_fairness_gro...</td>\n",
       "      <td>33.687601</td>\n",
       "      <td>89710</td>\n",
       "      <td>1.0</td>\n",
       "      <td>0.105513</td>\n",
       "      <td>0.889291</td>\n",
       "      <td>0.044667</td>\n",
       "      <td>0.942613</td>\n",
       "      <td>...</td>\n",
       "      <td>0.133179</td>\n",
       "      <td>0.161797</td>\n",
       "      <td>0.718853</td>\n",
       "      <td>0.751757</td>\n",
       "      <td>0.152449</td>\n",
       "      <td>0.046937</td>\n",
       "      <td>0.733690</td>\n",
       "      <td>0.778358</td>\n",
       "      <td>20540.0</td>\n",
       "      <td>69170.0</td>\n",
       "    </tr>\n",
       "  </tbody>\n",
       "</table>\n",
       "<p>4 rows × 50 columns</p>\n",
       "</div>"
      ],
      "text/plain": [
       "  run_no                       universe_id  \\\n",
       "0     15  5079a83d505f32beb07cb32cf96c76b3   \n",
       "0     15  5079a83d505f32beb07cb32cf96c76b3   \n",
       "0     15  5079a83d505f32beb07cb32cf96c76b3   \n",
       "0     15  5079a83d505f32beb07cb32cf96c76b3   \n",
       "\n",
       "                                   universe_settings  execution_time  \\\n",
       "0  {\"cutoff\": \"quantile_0.1\", \"eval_fairness_grou...       33.687601   \n",
       "0  {\"cutoff\": \"quantile_0.1\", \"eval_fairness_grou...       33.687601   \n",
       "0  {\"cutoff\": \"quantile_0.25\", \"eval_fairness_gro...       33.687601   \n",
       "0  {\"cutoff\": \"quantile_0.25\", \"eval_fairness_gro...       33.687601   \n",
       "\n",
       "   test_size_n  test_size_frac  fair_main_equalized_odds_difference  \\\n",
       "0        89710             1.0                             0.041892   \n",
       "0        89710             1.0                             0.041892   \n",
       "0        89710             1.0                             0.105513   \n",
       "0        89710             1.0                             0.105513   \n",
       "\n",
       "   fair_main_equalized_odds_ratio  fair_main_demographic_parity_difference  \\\n",
       "0                        0.957700                                 0.028119   \n",
       "0                        0.957700                                 0.028119   \n",
       "0                        0.889291                                 0.044667   \n",
       "0                        0.889291                                 0.044667   \n",
       "\n",
       "   fair_main_demographic_parity_ratio  ...  perf_grp_precision_0  \\\n",
       "0                            0.969781  ...                   NaN   \n",
       "0                            0.969781  ...              0.121176   \n",
       "0                            0.942613  ...                   NaN   \n",
       "0                            0.942613  ...              0.133179   \n",
       "\n",
       "   perf_grp_precision_1  perf_grp_false positive rate_0  \\\n",
       "0                   NaN                             NaN   \n",
       "0              0.140640                        0.896379   \n",
       "0                   NaN                             NaN   \n",
       "0              0.161797                        0.718853   \n",
       "\n",
       "   perf_grp_false positive rate_1  perf_grp_false negative rate_0  \\\n",
       "0                             NaN                             NaN   \n",
       "0                        0.921389                        0.051520   \n",
       "0                             NaN                             NaN   \n",
       "0                        0.751757                        0.152449   \n",
       "\n",
       "   perf_grp_false negative rate_1  perf_grp_selection rate_0  \\\n",
       "0                             NaN                        NaN   \n",
       "0                        0.009628                   0.902386   \n",
       "0                             NaN                        NaN   \n",
       "0                        0.046937                   0.733690   \n",
       "\n",
       "   perf_grp_selection rate_1  perf_grp_count_0  perf_grp_count_1  \n",
       "0                        NaN               NaN               NaN  \n",
       "0                   0.930505           20540.0           69170.0  \n",
       "0                        NaN               NaN               NaN  \n",
       "0                   0.778358           20540.0           69170.0  \n",
       "\n",
       "[4 rows x 50 columns]"
      ]
     },
     "execution_count": 66,
     "metadata": {},
     "output_type": "execute_result"
    }
   ],
   "source": [
    "final_output = universe_analysis.generate_final_output(\n",
    "    y_pred_prob=probs_test,\n",
    "    y_test=y_true,\n",
    "    org_test=org_test,\n",
    "    filter_data=filter_sub_universe_data,\n",
    "    cp_metrics_df=cp_metrics_df,\n",
    "    save=True,\n",
    ")\n",
    "final_output"
   ]
  }
 ],
 "metadata": {
  "celltoolbar": "Tags",
  "kernelspec": {
   "display_name": "Python (CMA Fairness)",
   "language": "python",
   "name": "cma_fair_env"
  },
  "language_info": {
   "codemirror_mode": {
    "name": "ipython",
    "version": 3
   },
   "file_extension": ".py",
   "mimetype": "text/x-python",
   "name": "python",
   "nbconvert_exporter": "python",
   "pygments_lexer": "ipython3",
   "version": "3.10.12"
  },
  "papermill": {
   "default_parameters": {},
   "duration": 43.681204,
   "end_time": "2025-08-05T15:58:38.527003",
   "environment_variables": {},
   "exception": null,
   "input_path": "universe_analysis.ipynb",
   "output_path": "output/runs/15/notebooks/m_15-5079a83d505f32beb07cb32cf96c76b3.ipynb",
   "parameters": {
    "output_dir": "output",
    "run_no": "15",
    "seed": "2023",
    "universe": "{\"cutoff\": [\"quantile_0.1\", \"quantile_0.25\"], \"eval_fairness_grouping\": [\"majority-minority\", \"nationality-all\"], \"exclude_features\": \"sex\", \"exclude_subgroups\": \"drop-non-german\", \"model\": \"rf\", \"scale\": \"do-not-scale\", \"training_size\": \"5k\", \"training_year\": \"2010_14\"}",
    "universe_id": "5079a83d505f32beb07cb32cf96c76b3"
   },
   "start_time": "2025-08-05T15:57:54.845799",
   "version": "2.6.0"
  }
 },
 "nbformat": 4,
 "nbformat_minor": 5
}