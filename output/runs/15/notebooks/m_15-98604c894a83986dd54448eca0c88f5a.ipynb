{
 "cells": [
  {
   "cell_type": "code",
   "execution_count": 1,
   "id": "f159f837-637b-42ba-96b5-ec9a68c44524",
   "metadata": {
    "execution": {
     "iopub.execute_input": "2025-08-05T16:16:45.634279Z",
     "iopub.status.busy": "2025-08-05T16:16:45.633788Z",
     "iopub.status.idle": "2025-08-05T16:16:45.647200Z",
     "shell.execute_reply": "2025-08-05T16:16:45.646318Z"
    },
    "papermill": {
     "duration": 0.031928,
     "end_time": "2025-08-05T16:16:45.649184",
     "exception": false,
     "start_time": "2025-08-05T16:16:45.617256",
     "status": "completed"
    },
    "tags": []
   },
   "outputs": [
    {
     "name": "stdout",
     "output_type": "stream",
     "text": [
      "/dss/dsshome1/0C/ra93lal2/cma/CMA_Fairness_v2\n"
     ]
    },
    {
     "name": "stderr",
     "output_type": "stream",
     "text": [
      "/dss/dsshome1/0C/ra93lal2/.local/share/virtualenvs/CMA_Fairness_v2-3j10GkSs/lib/python3.10/site-packages/IPython/core/magics/osm.py:393: UserWarning: This is now an optional IPython functionality, using bookmarks requires you to install the `pickleshare` library.\n",
      "  bkms = self.shell.db.get('bookmarks', {})\n",
      "/dss/dsshome1/0C/ra93lal2/.local/share/virtualenvs/CMA_Fairness_v2-3j10GkSs/lib/python3.10/site-packages/IPython/core/magics/osm.py:417: UserWarning: This is now an optional IPython functionality, setting dhist requires you to install the `pickleshare` library.\n",
      "  self.shell.db['dhist'] = compress_dhist(dhist)[-100:]\n"
     ]
    }
   ],
   "source": [
    "%cd ~/cma/CMA_Fairness_v2"
   ]
  },
  {
   "cell_type": "markdown",
   "id": "de2603b9",
   "metadata": {
    "papermill": {
     "duration": 0.014164,
     "end_time": "2025-08-05T16:16:45.681690",
     "exception": false,
     "start_time": "2025-08-05T16:16:45.667526",
     "status": "completed"
    },
    "tags": []
   },
   "source": [
    "The following cell holds the definition of our parameters, these values can be overriden by rendering the with e.g. the following command:\n",
    "\n",
    "papermill -p alpha 0.2 -p ratio 0.3 universe_analysis.ipynb output/test_run.ipynb"
   ]
  },
  {
   "cell_type": "code",
   "execution_count": 2,
   "id": "a80968a0-40bb-4fa9-85ef-2d5eefb01975",
   "metadata": {
    "execution": {
     "iopub.execute_input": "2025-08-05T16:16:45.716158Z",
     "iopub.status.busy": "2025-08-05T16:16:45.715367Z",
     "iopub.status.idle": "2025-08-05T16:16:45.721123Z",
     "shell.execute_reply": "2025-08-05T16:16:45.720182Z"
    },
    "papermill": {
     "duration": 0.025085,
     "end_time": "2025-08-05T16:16:45.722706",
     "exception": false,
     "start_time": "2025-08-05T16:16:45.697621",
     "status": "completed"
    },
    "tags": []
   },
   "outputs": [
    {
     "name": "stdout",
     "output_type": "stream",
     "text": [
      "Current working directory: /dss/dsshome1/0C/ra93lal2/cma/CMA_Fairness_v2\n"
     ]
    }
   ],
   "source": [
    "import os\n",
    "print(\"Current working directory:\", os.getcwd())"
   ]
  },
  {
   "cell_type": "code",
   "execution_count": 3,
   "id": "2dce4c03",
   "metadata": {
    "execution": {
     "iopub.execute_input": "2025-08-05T16:16:45.757418Z",
     "iopub.status.busy": "2025-08-05T16:16:45.756817Z",
     "iopub.status.idle": "2025-08-05T16:16:45.788702Z",
     "shell.execute_reply": "2025-08-05T16:16:45.787746Z"
    },
    "papermill": {
     "duration": 0.051705,
     "end_time": "2025-08-05T16:16:45.790824",
     "exception": false,
     "start_time": "2025-08-05T16:16:45.739119",
     "status": "completed"
    },
    "tags": [
     "parameters"
    ]
   },
   "outputs": [],
   "source": [
    "run_no = 0\n",
    "universe_id = \"test\"\n",
    "universe = {\n",
    "    \"training_size\": \"25k\", # \"25k\", \"5k\", \"1k\"\n",
    "    \"training_year\": \"2014\", # \"2014\", \"2012_14\", \"2010_14\"\n",
    "    \"scale\": \"scale\", # \"scale\", \"do-not-scale\",\n",
    "    \"model\": \"elasticnet\", # \"logreg\", \"penalized_logreg\", \"rf\", \"gbm\", \"elasticnet\"\n",
    "    \"cutoff\": [\"quantile_0.15\", \"quantile_0.30\"],\n",
    "    \"exclude_features\": \"age\", # \"none\", \"nationality\", \"sex\", \"nationality-sex\", \"age\"\n",
    "    \"exclude_subgroups\": \"keep-all\", # \"keep-all\", \"drop-non-german\"\n",
    "    \"eval_fairness_grouping\": [\"majority-minority\", \"nationality-all\"]\n",
    "}\n",
    "\n",
    "output_dir=\"./output\"\n",
    "seed=0"
   ]
  },
  {
   "cell_type": "code",
   "execution_count": 4,
   "id": "be577e1a",
   "metadata": {
    "execution": {
     "iopub.execute_input": "2025-08-05T16:16:45.811238Z",
     "iopub.status.busy": "2025-08-05T16:16:45.810823Z",
     "iopub.status.idle": "2025-08-05T16:16:45.815102Z",
     "shell.execute_reply": "2025-08-05T16:16:45.814356Z"
    },
    "papermill": {
     "duration": 0.01564,
     "end_time": "2025-08-05T16:16:45.816307",
     "exception": false,
     "start_time": "2025-08-05T16:16:45.800667",
     "status": "completed"
    },
    "tags": [
     "injected-parameters"
    ]
   },
   "outputs": [],
   "source": [
    "# Parameters\n",
    "universe_id = \"98604c894a83986dd54448eca0c88f5a\"\n",
    "run_no = \"15\"\n",
    "universe = \"{\\\"cutoff\\\": [\\\"quantile_0.1\\\", \\\"quantile_0.25\\\"], \\\"eval_fairness_grouping\\\": [\\\"majority-minority\\\", \\\"nationality-all\\\"], \\\"exclude_features\\\": \\\"age\\\", \\\"exclude_subgroups\\\": \\\"drop-non-german\\\", \\\"model\\\": \\\"logreg\\\", \\\"scale\\\": \\\"scale\\\", \\\"training_size\\\": \\\"1k\\\", \\\"training_year\\\": \\\"2012_14\\\"}\"\n",
    "output_dir = \"output\"\n",
    "seed = \"2023\"\n"
   ]
  },
  {
   "cell_type": "code",
   "execution_count": 5,
   "id": "1650acaf",
   "metadata": {
    "execution": {
     "iopub.execute_input": "2025-08-05T16:16:45.836997Z",
     "iopub.status.busy": "2025-08-05T16:16:45.836472Z",
     "iopub.status.idle": "2025-08-05T16:16:45.908292Z",
     "shell.execute_reply": "2025-08-05T16:16:45.907505Z"
    },
    "papermill": {
     "duration": 0.08356,
     "end_time": "2025-08-05T16:16:45.910135",
     "exception": false,
     "start_time": "2025-08-05T16:16:45.826575",
     "status": "completed"
    },
    "tags": []
   },
   "outputs": [],
   "source": [
    "import json\n",
    "if isinstance(universe, str):\n",
    "    universe = json.loads(universe)"
   ]
  },
  {
   "cell_type": "code",
   "execution_count": 6,
   "id": "16620c48",
   "metadata": {
    "execution": {
     "iopub.execute_input": "2025-08-05T16:16:45.930054Z",
     "iopub.status.busy": "2025-08-05T16:16:45.929583Z",
     "iopub.status.idle": "2025-08-05T16:16:45.957242Z",
     "shell.execute_reply": "2025-08-05T16:16:45.956546Z"
    },
    "papermill": {
     "duration": 0.038506,
     "end_time": "2025-08-05T16:16:45.958659",
     "exception": false,
     "start_time": "2025-08-05T16:16:45.920153",
     "status": "completed"
    },
    "tags": []
   },
   "outputs": [],
   "source": [
    "# Auto-reload the custom package\n",
    "%load_ext autoreload\n",
    "%autoreload 1\n",
    "%aimport fairness_multiverse"
   ]
  },
  {
   "cell_type": "code",
   "execution_count": 7,
   "id": "01c5c9f3",
   "metadata": {
    "execution": {
     "iopub.execute_input": "2025-08-05T16:16:45.978245Z",
     "iopub.status.busy": "2025-08-05T16:16:45.977454Z",
     "iopub.status.idle": "2025-08-05T16:16:47.717408Z",
     "shell.execute_reply": "2025-08-05T16:16:47.716524Z"
    },
    "papermill": {
     "duration": 1.751453,
     "end_time": "2025-08-05T16:16:47.719165",
     "exception": false,
     "start_time": "2025-08-05T16:16:45.967712",
     "status": "completed"
    },
    "tags": []
   },
   "outputs": [],
   "source": [
    "from fairness_multiverse.universe import UniverseAnalysis\n",
    "\n",
    "universe_analysis = UniverseAnalysis(\n",
    "    run_no = run_no,\n",
    "    universe_id = universe_id,\n",
    "    universe = universe,\n",
    "    output_dir=output_dir,\n",
    ")"
   ]
  },
  {
   "cell_type": "code",
   "execution_count": 8,
   "id": "106241f5",
   "metadata": {
    "execution": {
     "iopub.execute_input": "2025-08-05T16:16:47.742919Z",
     "iopub.status.busy": "2025-08-05T16:16:47.742111Z",
     "iopub.status.idle": "2025-08-05T16:16:47.748630Z",
     "shell.execute_reply": "2025-08-05T16:16:47.747714Z"
    },
    "papermill": {
     "duration": 0.019389,
     "end_time": "2025-08-05T16:16:47.750139",
     "exception": false,
     "start_time": "2025-08-05T16:16:47.730750",
     "status": "completed"
    },
    "tags": []
   },
   "outputs": [
    {
     "name": "stdout",
     "output_type": "stream",
     "text": [
      "Using Seed: 2023\n"
     ]
    }
   ],
   "source": [
    "import numpy as np\n",
    "parsed_seed = int(seed)\n",
    "np.random.seed(parsed_seed)\n",
    "print(f\"Using Seed: {parsed_seed}\")"
   ]
  },
  {
   "cell_type": "markdown",
   "id": "e0ebdc57",
   "metadata": {
    "papermill": {
     "duration": 0.010465,
     "end_time": "2025-08-05T16:16:47.771307",
     "exception": false,
     "start_time": "2025-08-05T16:16:47.760842",
     "status": "completed"
    },
    "tags": []
   },
   "source": [
    "# Loading Data"
   ]
  },
  {
   "cell_type": "code",
   "execution_count": 9,
   "id": "f0496b8a",
   "metadata": {
    "execution": {
     "iopub.execute_input": "2025-08-05T16:16:47.804612Z",
     "iopub.status.busy": "2025-08-05T16:16:47.804252Z",
     "iopub.status.idle": "2025-08-05T16:17:01.540089Z",
     "shell.execute_reply": "2025-08-05T16:17:01.538446Z"
    },
    "papermill": {
     "duration": 13.751153,
     "end_time": "2025-08-05T16:17:01.542974",
     "exception": false,
     "start_time": "2025-08-05T16:16:47.791821",
     "status": "completed"
    },
    "tags": []
   },
   "outputs": [
    {
     "name": "stdout",
     "output_type": "stream",
     "text": [
      "Loading SIAB data from cache: data/siab_cached.csv.gz\n"
     ]
    },
    {
     "name": "stdout",
     "output_type": "stream",
     "text": [
      "(643690, 164)\n"
     ]
    }
   ],
   "source": [
    "from pathlib import Path\n",
    "import pandas as pd\n",
    "\n",
    "# File paths\n",
    "raw_file = Path(\"data/raw/siab.csv\")\n",
    "cache_file = Path(\"data/siab_cached.csv.gz\")\n",
    "\n",
    "# Ensure cache directory exists\n",
    "cache_file.parent.mkdir(parents=True, exist_ok=True)\n",
    "\n",
    "# Load with simple caching\n",
    "if cache_file.exists():\n",
    "    print(f\"Loading SIAB data from cache: {cache_file}\")\n",
    "    siab = pd.read_csv(cache_file, compression='gzip')\n",
    "else:\n",
    "    print(f\"Cache not found. Reading raw SIAB data: {raw_file}\")\n",
    "    siab = pd.read_csv(raw_file)\n",
    "    siab.to_csv(cache_file, index=False, compression='gzip')\n",
    "    print(f\"Cached SIAB data to: {cache_file}\")\n",
    "\n",
    "print(siab.shape)"
   ]
  },
  {
   "cell_type": "code",
   "execution_count": 10,
   "id": "db0ca512-5f53-4dba-abdb-a2888bca41ba",
   "metadata": {
    "execution": {
     "iopub.execute_input": "2025-08-05T16:17:01.611214Z",
     "iopub.status.busy": "2025-08-05T16:17:01.610527Z",
     "iopub.status.idle": "2025-08-05T16:17:01.617531Z",
     "shell.execute_reply": "2025-08-05T16:17:01.616537Z"
    },
    "papermill": {
     "duration": 0.044063,
     "end_time": "2025-08-05T16:17:01.620261",
     "exception": false,
     "start_time": "2025-08-05T16:17:01.576198",
     "status": "completed"
    },
    "tags": []
   },
   "outputs": [],
   "source": [
    "#siab"
   ]
  },
  {
   "cell_type": "markdown",
   "id": "997051c5-15bd-4b69-9786-c3001a3ce484",
   "metadata": {
    "papermill": {
     "duration": 0.032599,
     "end_time": "2025-08-05T16:17:01.686420",
     "exception": false,
     "start_time": "2025-08-05T16:17:01.653821",
     "status": "completed"
    },
    "tags": []
   },
   "source": [
    "# Splitting Data and Setting Training Data Size"
   ]
  },
  {
   "cell_type": "code",
   "execution_count": 11,
   "id": "aea9c6ef-6f46-42c8-85eb-5a62025c1508",
   "metadata": {
    "execution": {
     "iopub.execute_input": "2025-08-05T16:17:01.754120Z",
     "iopub.status.busy": "2025-08-05T16:17:01.753656Z",
     "iopub.status.idle": "2025-08-05T16:17:02.379282Z",
     "shell.execute_reply": "2025-08-05T16:17:02.378114Z"
    },
    "papermill": {
     "duration": 0.662261,
     "end_time": "2025-08-05T16:17:02.380930",
     "exception": false,
     "start_time": "2025-08-05T16:17:01.718669",
     "status": "completed"
    },
    "tags": []
   },
   "outputs": [],
   "source": [
    "from fairness_multiverse.universe import sample_by_year_size\n",
    "\n",
    "siab_train = sample_by_year_size(siab,\n",
    "                               training_year=universe[\"training_year\"],\n",
    "                               training_size=universe[\"training_size\"])"
   ]
  },
  {
   "cell_type": "code",
   "execution_count": 12,
   "id": "8d3afb32-789d-442c-8d5d-9f5aa8dd2eed",
   "metadata": {
    "execution": {
     "iopub.execute_input": "2025-08-05T16:17:02.424453Z",
     "iopub.status.busy": "2025-08-05T16:17:02.423494Z",
     "iopub.status.idle": "2025-08-05T16:17:02.428584Z",
     "shell.execute_reply": "2025-08-05T16:17:02.427598Z"
    },
    "papermill": {
     "duration": 0.028225,
     "end_time": "2025-08-05T16:17:02.430537",
     "exception": false,
     "start_time": "2025-08-05T16:17:02.402312",
     "status": "completed"
    },
    "tags": []
   },
   "outputs": [],
   "source": [
    "#siab_train.shape"
   ]
  },
  {
   "cell_type": "code",
   "execution_count": 13,
   "id": "d582db68-1a4c-47fb-84fc-08518dc1975a",
   "metadata": {
    "execution": {
     "iopub.execute_input": "2025-08-05T16:17:02.469584Z",
     "iopub.status.busy": "2025-08-05T16:17:02.469058Z",
     "iopub.status.idle": "2025-08-05T16:17:02.474848Z",
     "shell.execute_reply": "2025-08-05T16:17:02.473692Z"
    },
    "papermill": {
     "duration": 0.027427,
     "end_time": "2025-08-05T16:17:02.476427",
     "exception": false,
     "start_time": "2025-08-05T16:17:02.449000",
     "status": "completed"
    },
    "tags": []
   },
   "outputs": [],
   "source": [
    "#display(siab_train.groupby(\"year\").size())"
   ]
  },
  {
   "cell_type": "code",
   "execution_count": 14,
   "id": "a561edb4-d032-42cb-8256-22eac1111c64",
   "metadata": {
    "execution": {
     "iopub.execute_input": "2025-08-05T16:17:02.499548Z",
     "iopub.status.busy": "2025-08-05T16:17:02.498659Z",
     "iopub.status.idle": "2025-08-05T16:17:02.797254Z",
     "shell.execute_reply": "2025-08-05T16:17:02.796087Z"
    },
    "papermill": {
     "duration": 0.311842,
     "end_time": "2025-08-05T16:17:02.799660",
     "exception": false,
     "start_time": "2025-08-05T16:17:02.487818",
     "status": "completed"
    },
    "tags": []
   },
   "outputs": [],
   "source": [
    "#siab_train = siab_s[siab_s.year < 2015]\n",
    "siab_calib = siab[siab.year == 2015]\n",
    "siab_test = siab[siab.year == 2016]"
   ]
  },
  {
   "cell_type": "code",
   "execution_count": 15,
   "id": "472de16f-c3db-4916-846b-1f0de9cf1746",
   "metadata": {
    "execution": {
     "iopub.execute_input": "2025-08-05T16:17:02.851503Z",
     "iopub.status.busy": "2025-08-05T16:17:02.850530Z",
     "iopub.status.idle": "2025-08-05T16:17:02.859450Z",
     "shell.execute_reply": "2025-08-05T16:17:02.858167Z"
    },
    "papermill": {
     "duration": 0.037244,
     "end_time": "2025-08-05T16:17:02.861625",
     "exception": false,
     "start_time": "2025-08-05T16:17:02.824381",
     "status": "completed"
    },
    "tags": []
   },
   "outputs": [],
   "source": [
    "X_train = siab_train.iloc[:,4:164]\n",
    "y_train = siab_train.iloc[:, [3]]"
   ]
  },
  {
   "cell_type": "code",
   "execution_count": 16,
   "id": "828c96af-f43a-4ed6-ba47-8ac73a47d56c",
   "metadata": {
    "execution": {
     "iopub.execute_input": "2025-08-05T16:17:02.912684Z",
     "iopub.status.busy": "2025-08-05T16:17:02.911572Z",
     "iopub.status.idle": "2025-08-05T16:17:02.970576Z",
     "shell.execute_reply": "2025-08-05T16:17:02.969161Z"
    },
    "papermill": {
     "duration": 0.086876,
     "end_time": "2025-08-05T16:17:02.972914",
     "exception": false,
     "start_time": "2025-08-05T16:17:02.886038",
     "status": "completed"
    },
    "tags": []
   },
   "outputs": [],
   "source": [
    "X_calib = siab_calib.iloc[:,4:164]\n",
    "y_calib = siab_calib.iloc[:, [3]]"
   ]
  },
  {
   "cell_type": "code",
   "execution_count": 17,
   "id": "c34be9c3-6bd6-476e-acd3-845840e303be",
   "metadata": {
    "execution": {
     "iopub.execute_input": "2025-08-05T16:17:03.025054Z",
     "iopub.status.busy": "2025-08-05T16:17:03.024219Z",
     "iopub.status.idle": "2025-08-05T16:17:03.087655Z",
     "shell.execute_reply": "2025-08-05T16:17:03.086394Z"
    },
    "papermill": {
     "duration": 0.091384,
     "end_time": "2025-08-05T16:17:03.089641",
     "exception": false,
     "start_time": "2025-08-05T16:17:02.998257",
     "status": "completed"
    },
    "tags": []
   },
   "outputs": [],
   "source": [
    "X_test = siab_test.iloc[:,4:164]\n",
    "y_true = siab_test.iloc[:, [3]]"
   ]
  },
  {
   "cell_type": "code",
   "execution_count": 18,
   "id": "e6c733c5",
   "metadata": {
    "execution": {
     "iopub.execute_input": "2025-08-05T16:17:03.134664Z",
     "iopub.status.busy": "2025-08-05T16:17:03.133993Z",
     "iopub.status.idle": "2025-08-05T16:17:03.239919Z",
     "shell.execute_reply": "2025-08-05T16:17:03.238985Z"
    },
    "papermill": {
     "duration": 0.130095,
     "end_time": "2025-08-05T16:17:03.242218",
     "exception": false,
     "start_time": "2025-08-05T16:17:03.112123",
     "status": "completed"
    },
    "tags": []
   },
   "outputs": [],
   "source": [
    "# Auxiliary data needed downstream in the pipeline\n",
    "\n",
    "org_train = X_train.copy()\n",
    "org_test = X_test.copy()\n",
    "org_calib = X_calib.copy()"
   ]
  },
  {
   "cell_type": "markdown",
   "id": "0a4a1b33",
   "metadata": {
    "papermill": {
     "duration": 0.023196,
     "end_time": "2025-08-05T16:17:03.288303",
     "exception": false,
     "start_time": "2025-08-05T16:17:03.265107",
     "status": "completed"
    },
    "tags": []
   },
   "source": [
    "# Preprocessing Data"
   ]
  },
  {
   "cell_type": "code",
   "execution_count": 19,
   "id": "ca879031",
   "metadata": {
    "execution": {
     "iopub.execute_input": "2025-08-05T16:17:03.336335Z",
     "iopub.status.busy": "2025-08-05T16:17:03.335644Z",
     "iopub.status.idle": "2025-08-05T16:17:03.344401Z",
     "shell.execute_reply": "2025-08-05T16:17:03.343134Z"
    },
    "papermill": {
     "duration": 0.035538,
     "end_time": "2025-08-05T16:17:03.346443",
     "exception": false,
     "start_time": "2025-08-05T16:17:03.310905",
     "status": "completed"
    },
    "tags": []
   },
   "outputs": [],
   "source": [
    "# EXCLUDE PROTECTED FEATURES\n",
    "# ----------------------\n",
    "# \"exclude_features\": \"none\", # \"nationality\", \"sex\", \"nationality-sex\"\n",
    "\n",
    "excluded_features = universe[\"exclude_features\"].split(\"-\") # split, e.g.: \"nationality-sex\" -> [\"nationality\", \"sex\"]\n",
    "excluded_features_dictionary = {\n",
    "    \"nationality\": [\"maxdeutsch1\", \"maxdeutsch.Missing.\"],\n",
    "    \"sex\": [\"frau1\"],\n",
    "    \"age\": [\"age\"],\n",
    "}"
   ]
  },
  {
   "cell_type": "code",
   "execution_count": 20,
   "id": "b745ac60",
   "metadata": {
    "execution": {
     "iopub.execute_input": "2025-08-05T16:17:03.393100Z",
     "iopub.status.busy": "2025-08-05T16:17:03.392145Z",
     "iopub.status.idle": "2025-08-05T16:17:03.399849Z",
     "shell.execute_reply": "2025-08-05T16:17:03.398687Z"
    },
    "papermill": {
     "duration": 0.033134,
     "end_time": "2025-08-05T16:17:03.402424",
     "exception": false,
     "start_time": "2025-08-05T16:17:03.369290",
     "status": "completed"
    },
    "tags": []
   },
   "outputs": [],
   "source": [
    "# Code nice names to column names\n",
    "\n",
    "excluded_features_columns = [\n",
    "    excluded_features_dictionary[f] for f in excluded_features if len(f) > 0 and f != \"none\"\n",
    "]"
   ]
  },
  {
   "cell_type": "code",
   "execution_count": 21,
   "id": "f84f73a2",
   "metadata": {
    "execution": {
     "iopub.execute_input": "2025-08-05T16:17:03.469500Z",
     "iopub.status.busy": "2025-08-05T16:17:03.468609Z",
     "iopub.status.idle": "2025-08-05T16:17:03.477756Z",
     "shell.execute_reply": "2025-08-05T16:17:03.476383Z"
    },
    "papermill": {
     "duration": 0.044924,
     "end_time": "2025-08-05T16:17:03.479880",
     "exception": false,
     "start_time": "2025-08-05T16:17:03.434956",
     "status": "completed"
    },
    "tags": []
   },
   "outputs": [],
   "source": [
    "from utils import flatten_once\n",
    "\n",
    "excluded_features_columns = flatten_once(excluded_features_columns)"
   ]
  },
  {
   "cell_type": "code",
   "execution_count": 22,
   "id": "884dea22",
   "metadata": {
    "execution": {
     "iopub.execute_input": "2025-08-05T16:17:03.527188Z",
     "iopub.status.busy": "2025-08-05T16:17:03.526518Z",
     "iopub.status.idle": "2025-08-05T16:17:03.538957Z",
     "shell.execute_reply": "2025-08-05T16:17:03.537747Z"
    },
    "papermill": {
     "duration": 0.042535,
     "end_time": "2025-08-05T16:17:03.545621",
     "exception": false,
     "start_time": "2025-08-05T16:17:03.503086",
     "status": "completed"
    },
    "tags": []
   },
   "outputs": [
    {
     "name": "stdout",
     "output_type": "stream",
     "text": [
      "Dropping features: ['age']\n"
     ]
    }
   ],
   "source": [
    "if len(excluded_features_columns) > 0:\n",
    "    print(f\"Dropping features: {excluded_features_columns}\")\n",
    "    X_train.drop(excluded_features_columns, axis=1, inplace=True)"
   ]
  },
  {
   "cell_type": "code",
   "execution_count": 23,
   "id": "95ab8b16",
   "metadata": {
    "execution": {
     "iopub.execute_input": "2025-08-05T16:17:03.587876Z",
     "iopub.status.busy": "2025-08-05T16:17:03.587456Z",
     "iopub.status.idle": "2025-08-05T16:17:03.653430Z",
     "shell.execute_reply": "2025-08-05T16:17:03.652109Z"
    },
    "papermill": {
     "duration": 0.085232,
     "end_time": "2025-08-05T16:17:03.656308",
     "exception": false,
     "start_time": "2025-08-05T16:17:03.571076",
     "status": "completed"
    },
    "tags": []
   },
   "outputs": [
    {
     "name": "stdout",
     "output_type": "stream",
     "text": [
      "Dropping features: ['age']\n"
     ]
    }
   ],
   "source": [
    "if len(excluded_features_columns) > 0:\n",
    "    print(f\"Dropping features: {excluded_features_columns}\")\n",
    "    X_test.drop(excluded_features_columns, axis=1, inplace=True)"
   ]
  },
  {
   "cell_type": "code",
   "execution_count": 24,
   "id": "1853aaf5-fb9f-46cb-a2b5-8ea4ae2237e4",
   "metadata": {
    "execution": {
     "iopub.execute_input": "2025-08-05T16:17:03.710497Z",
     "iopub.status.busy": "2025-08-05T16:17:03.709918Z",
     "iopub.status.idle": "2025-08-05T16:17:03.771425Z",
     "shell.execute_reply": "2025-08-05T16:17:03.769757Z"
    },
    "papermill": {
     "duration": 0.089046,
     "end_time": "2025-08-05T16:17:03.773558",
     "exception": false,
     "start_time": "2025-08-05T16:17:03.684512",
     "status": "completed"
    },
    "tags": []
   },
   "outputs": [
    {
     "name": "stdout",
     "output_type": "stream",
     "text": [
      "Dropping features: ['age']\n"
     ]
    }
   ],
   "source": [
    "if len(excluded_features_columns) > 0:\n",
    "    print(f\"Dropping features: {excluded_features_columns}\")\n",
    "    X_calib.drop(excluded_features_columns, axis=1, inplace=True)"
   ]
  },
  {
   "cell_type": "code",
   "execution_count": 25,
   "id": "76c4dc6d",
   "metadata": {
    "execution": {
     "iopub.execute_input": "2025-08-05T16:17:03.822975Z",
     "iopub.status.busy": "2025-08-05T16:17:03.822486Z",
     "iopub.status.idle": "2025-08-05T16:17:03.829077Z",
     "shell.execute_reply": "2025-08-05T16:17:03.828044Z"
    },
    "papermill": {
     "duration": 0.031699,
     "end_time": "2025-08-05T16:17:03.830750",
     "exception": false,
     "start_time": "2025-08-05T16:17:03.799051",
     "status": "completed"
    },
    "tags": []
   },
   "outputs": [],
   "source": [
    "# EXCLUDE CERTAIN SUBGROUPS\n",
    "# ----------------------\n",
    "\n",
    "mode = universe.get(\"exclude_subgroups\", \"keep-all\") \n",
    "# Fetches the exclude_subgroups setting from the universe dict.\n",
    "# Defaults to \"keep-all\" if the key is missing."
   ]
  },
  {
   "cell_type": "code",
   "execution_count": 26,
   "id": "21994072",
   "metadata": {
    "execution": {
     "iopub.execute_input": "2025-08-05T16:17:03.883355Z",
     "iopub.status.busy": "2025-08-05T16:17:03.881883Z",
     "iopub.status.idle": "2025-08-05T16:17:03.893433Z",
     "shell.execute_reply": "2025-08-05T16:17:03.891842Z"
    },
    "papermill": {
     "duration": 0.051525,
     "end_time": "2025-08-05T16:17:03.895965",
     "exception": false,
     "start_time": "2025-08-05T16:17:03.844440",
     "status": "completed"
    },
    "tags": []
   },
   "outputs": [],
   "source": [
    "if mode == \"keep-all\":\n",
    "    keep_mask = pd.Series(True, index=org_train.index)\n",
    "\n",
    "# org_train contains the original feature columns from features_org (in Simson)\n",
    "# features_org contains unprocessed features, for me X_train at beginning ???\n",
    "# For keep-all, creates a boolean Series (keep_mask) of all True, so no rows are removed.\n",
    "\n",
    "elif mode == \"drop-non-german\":\n",
    "    keep_mask = org_train[\"maxdeutsch1\"] == 1 # ??? what about missing values?\n",
    "\n",
    "else:\n",
    "    raise ValueError(f\"Unsupported mode for exclude_subgroups: {mode}\")"
   ]
  },
  {
   "cell_type": "code",
   "execution_count": 27,
   "id": "71651440",
   "metadata": {
    "execution": {
     "iopub.execute_input": "2025-08-05T16:17:03.945855Z",
     "iopub.status.busy": "2025-08-05T16:17:03.944704Z",
     "iopub.status.idle": "2025-08-05T16:17:03.955690Z",
     "shell.execute_reply": "2025-08-05T16:17:03.954325Z"
    },
    "papermill": {
     "duration": 0.037841,
     "end_time": "2025-08-05T16:17:03.957913",
     "exception": false,
     "start_time": "2025-08-05T16:17:03.920072",
     "status": "completed"
    },
    "tags": []
   },
   "outputs": [
    {
     "name": "stdout",
     "output_type": "stream",
     "text": [
      "Dropping 147 rows (14.70%) where mode='drop-non-german'\n"
     ]
    }
   ],
   "source": [
    "n_drop = (~keep_mask).sum() # Calculates how many rows are set to be dropped\n",
    "if n_drop > 0:\n",
    "    pct = n_drop / len(keep_mask) * 100\n",
    "    print(f\"Dropping {n_drop} rows ({pct:.2f}%) where mode='{mode}'\")"
   ]
  },
  {
   "cell_type": "code",
   "execution_count": 28,
   "id": "5fb8eee5",
   "metadata": {
    "execution": {
     "iopub.execute_input": "2025-08-05T16:17:04.006393Z",
     "iopub.status.busy": "2025-08-05T16:17:04.005803Z",
     "iopub.status.idle": "2025-08-05T16:17:04.013351Z",
     "shell.execute_reply": "2025-08-05T16:17:04.012193Z"
    },
    "papermill": {
     "duration": 0.033661,
     "end_time": "2025-08-05T16:17:04.015163",
     "exception": false,
     "start_time": "2025-08-05T16:17:03.981502",
     "status": "completed"
    },
    "tags": []
   },
   "outputs": [],
   "source": [
    "X_train = X_train[keep_mask]"
   ]
  },
  {
   "cell_type": "code",
   "execution_count": 29,
   "id": "b202bb3a",
   "metadata": {
    "execution": {
     "iopub.execute_input": "2025-08-05T16:17:04.063226Z",
     "iopub.status.busy": "2025-08-05T16:17:04.062599Z",
     "iopub.status.idle": "2025-08-05T16:17:04.069976Z",
     "shell.execute_reply": "2025-08-05T16:17:04.068686Z"
    },
    "papermill": {
     "duration": 0.034399,
     "end_time": "2025-08-05T16:17:04.072365",
     "exception": false,
     "start_time": "2025-08-05T16:17:04.037966",
     "status": "completed"
    },
    "tags": []
   },
   "outputs": [],
   "source": [
    "y_train = y_train[keep_mask]"
   ]
  },
  {
   "cell_type": "markdown",
   "id": "493e2ac3",
   "metadata": {
    "papermill": {
     "duration": 0.02264,
     "end_time": "2025-08-05T16:17:04.118269",
     "exception": false,
     "start_time": "2025-08-05T16:17:04.095629",
     "status": "completed"
    },
    "tags": []
   },
   "source": [
    "# Model Training"
   ]
  },
  {
   "cell_type": "code",
   "execution_count": 30,
   "id": "679e1268",
   "metadata": {
    "execution": {
     "iopub.execute_input": "2025-08-05T16:17:04.166995Z",
     "iopub.status.busy": "2025-08-05T16:17:04.166407Z",
     "iopub.status.idle": "2025-08-05T16:17:04.323201Z",
     "shell.execute_reply": "2025-08-05T16:17:04.322055Z"
    },
    "papermill": {
     "duration": 0.184202,
     "end_time": "2025-08-05T16:17:04.325761",
     "exception": false,
     "start_time": "2025-08-05T16:17:04.141559",
     "status": "completed"
    },
    "tags": []
   },
   "outputs": [],
   "source": [
    "from sklearn.linear_model import LogisticRegression\n",
    "from sklearn.ensemble import GradientBoostingClassifier, RandomForestClassifier\n",
    "\n",
    "if (universe[\"model\"] == \"logreg\"):\n",
    "    model = LogisticRegression() #penalty=\"none\", solver=\"newton-cg\", max_iter=1) # include random_state=19 ?\n",
    "elif (universe[\"model\"] == \"penalized_logreg\"):\n",
    "    model = LogisticRegression(penalty=\"l2\", C=0.1) #, solver=\"newton-cg\", max_iter=1)\n",
    "elif (universe[\"model\"] == \"rf\"):\n",
    "    model = RandomForestClassifier() # n_estimators=100, n_jobs=-1\n",
    "elif (universe[\"model\"] == \"gbm\"):\n",
    "    model = GradientBoostingClassifier()\n",
    "elif (universe[\"model\"] == \"elasticnet\"):\n",
    "    model = LogisticRegression(penalty = 'elasticnet', solver = 'saga', l1_ratio = 0.5) # max_iter=5000\n",
    "else:\n",
    "    raise \"Unsupported universe.model\""
   ]
  },
  {
   "cell_type": "code",
   "execution_count": 31,
   "id": "0cc8f744",
   "metadata": {
    "execution": {
     "iopub.execute_input": "2025-08-05T16:17:04.374446Z",
     "iopub.status.busy": "2025-08-05T16:17:04.373831Z",
     "iopub.status.idle": "2025-08-05T16:17:04.381296Z",
     "shell.execute_reply": "2025-08-05T16:17:04.380194Z"
    },
    "papermill": {
     "duration": 0.03389,
     "end_time": "2025-08-05T16:17:04.383367",
     "exception": false,
     "start_time": "2025-08-05T16:17:04.349477",
     "status": "completed"
    },
    "tags": []
   },
   "outputs": [],
   "source": [
    "import numpy as np\n",
    "from sklearn.pipeline import Pipeline\n",
    "from sklearn.preprocessing import StandardScaler\n",
    "\n",
    "model = Pipeline([\n",
    "    #(\"continuous_processor\", continuous_processor),\n",
    "    #(\"categorical_preprocessor\", categorical_preprocessor),\n",
    "    (\"scale\", StandardScaler() if universe[\"scale\"] == \"scale\" else None), \n",
    "    (\"model\", model),\n",
    "])"
   ]
  },
  {
   "cell_type": "code",
   "execution_count": 32,
   "id": "9442c04d",
   "metadata": {
    "execution": {
     "iopub.execute_input": "2025-08-05T16:17:04.434524Z",
     "iopub.status.busy": "2025-08-05T16:17:04.433408Z",
     "iopub.status.idle": "2025-08-05T16:17:04.523579Z",
     "shell.execute_reply": "2025-08-05T16:17:04.522504Z"
    },
    "papermill": {
     "duration": 0.119076,
     "end_time": "2025-08-05T16:17:04.525668",
     "exception": false,
     "start_time": "2025-08-05T16:17:04.406592",
     "status": "completed"
    },
    "tags": []
   },
   "outputs": [
    {
     "name": "stderr",
     "output_type": "stream",
     "text": [
      "/dss/dsshome1/0C/ra93lal2/.local/share/virtualenvs/CMA_Fairness_v2-3j10GkSs/lib/python3.10/site-packages/sklearn/linear_model/_logistic.py:444: ConvergenceWarning: lbfgs failed to converge (status=1):\n",
      "STOP: TOTAL NO. of ITERATIONS REACHED LIMIT.\n",
      "\n",
      "Increase the number of iterations (max_iter) or scale the data as shown in:\n",
      "    https://scikit-learn.org/stable/modules/preprocessing.html\n",
      "Please also refer to the documentation for alternative solver options:\n",
      "    https://scikit-learn.org/stable/modules/linear_model.html#logistic-regression\n",
      "  n_iter_i = _check_optimize_result(\n"
     ]
    },
    {
     "data": {
      "text/html": [
       "<style>#sk-container-id-1 {color: black;background-color: white;}#sk-container-id-1 pre{padding: 0;}#sk-container-id-1 div.sk-toggleable {background-color: white;}#sk-container-id-1 label.sk-toggleable__label {cursor: pointer;display: block;width: 100%;margin-bottom: 0;padding: 0.3em;box-sizing: border-box;text-align: center;}#sk-container-id-1 label.sk-toggleable__label-arrow:before {content: \"▸\";float: left;margin-right: 0.25em;color: #696969;}#sk-container-id-1 label.sk-toggleable__label-arrow:hover:before {color: black;}#sk-container-id-1 div.sk-estimator:hover label.sk-toggleable__label-arrow:before {color: black;}#sk-container-id-1 div.sk-toggleable__content {max-height: 0;max-width: 0;overflow: hidden;text-align: left;background-color: #f0f8ff;}#sk-container-id-1 div.sk-toggleable__content pre {margin: 0.2em;color: black;border-radius: 0.25em;background-color: #f0f8ff;}#sk-container-id-1 input.sk-toggleable__control:checked~div.sk-toggleable__content {max-height: 200px;max-width: 100%;overflow: auto;}#sk-container-id-1 input.sk-toggleable__control:checked~label.sk-toggleable__label-arrow:before {content: \"▾\";}#sk-container-id-1 div.sk-estimator input.sk-toggleable__control:checked~label.sk-toggleable__label {background-color: #d4ebff;}#sk-container-id-1 div.sk-label input.sk-toggleable__control:checked~label.sk-toggleable__label {background-color: #d4ebff;}#sk-container-id-1 input.sk-hidden--visually {border: 0;clip: rect(1px 1px 1px 1px);clip: rect(1px, 1px, 1px, 1px);height: 1px;margin: -1px;overflow: hidden;padding: 0;position: absolute;width: 1px;}#sk-container-id-1 div.sk-estimator {font-family: monospace;background-color: #f0f8ff;border: 1px dotted black;border-radius: 0.25em;box-sizing: border-box;margin-bottom: 0.5em;}#sk-container-id-1 div.sk-estimator:hover {background-color: #d4ebff;}#sk-container-id-1 div.sk-parallel-item::after {content: \"\";width: 100%;border-bottom: 1px solid gray;flex-grow: 1;}#sk-container-id-1 div.sk-label:hover label.sk-toggleable__label {background-color: #d4ebff;}#sk-container-id-1 div.sk-serial::before {content: \"\";position: absolute;border-left: 1px solid gray;box-sizing: border-box;top: 0;bottom: 0;left: 50%;z-index: 0;}#sk-container-id-1 div.sk-serial {display: flex;flex-direction: column;align-items: center;background-color: white;padding-right: 0.2em;padding-left: 0.2em;position: relative;}#sk-container-id-1 div.sk-item {position: relative;z-index: 1;}#sk-container-id-1 div.sk-parallel {display: flex;align-items: stretch;justify-content: center;background-color: white;position: relative;}#sk-container-id-1 div.sk-item::before, #sk-container-id-1 div.sk-parallel-item::before {content: \"\";position: absolute;border-left: 1px solid gray;box-sizing: border-box;top: 0;bottom: 0;left: 50%;z-index: -1;}#sk-container-id-1 div.sk-parallel-item {display: flex;flex-direction: column;z-index: 1;position: relative;background-color: white;}#sk-container-id-1 div.sk-parallel-item:first-child::after {align-self: flex-end;width: 50%;}#sk-container-id-1 div.sk-parallel-item:last-child::after {align-self: flex-start;width: 50%;}#sk-container-id-1 div.sk-parallel-item:only-child::after {width: 0;}#sk-container-id-1 div.sk-dashed-wrapped {border: 1px dashed gray;margin: 0 0.4em 0.5em 0.4em;box-sizing: border-box;padding-bottom: 0.4em;background-color: white;}#sk-container-id-1 div.sk-label label {font-family: monospace;font-weight: bold;display: inline-block;line-height: 1.2em;}#sk-container-id-1 div.sk-label-container {text-align: center;}#sk-container-id-1 div.sk-container {/* jupyter's `normalize.less` sets `[hidden] { display: none; }` but bootstrap.min.css set `[hidden] { display: none !important; }` so we also need the `!important` here to be able to override the default hidden behavior on the sphinx rendered scikit-learn.org. See: https://github.com/scikit-learn/scikit-learn/issues/21755 */display: inline-block !important;position: relative;}#sk-container-id-1 div.sk-text-repr-fallback {display: none;}</style><div id=\"sk-container-id-1\" class=\"sk-top-container\"><div class=\"sk-text-repr-fallback\"><pre>Pipeline(steps=[(&#x27;scale&#x27;, StandardScaler()), (&#x27;model&#x27;, LogisticRegression())])</pre><b>In a Jupyter environment, please rerun this cell to show the HTML representation or trust the notebook. <br />On GitHub, the HTML representation is unable to render, please try loading this page with nbviewer.org.</b></div><div class=\"sk-container\" hidden><div class=\"sk-item sk-dashed-wrapped\"><div class=\"sk-label-container\"><div class=\"sk-label sk-toggleable\"><input class=\"sk-toggleable__control sk-hidden--visually\" id=\"sk-estimator-id-1\" type=\"checkbox\" ><label for=\"sk-estimator-id-1\" class=\"sk-toggleable__label sk-toggleable__label-arrow\">Pipeline</label><div class=\"sk-toggleable__content\"><pre>Pipeline(steps=[(&#x27;scale&#x27;, StandardScaler()), (&#x27;model&#x27;, LogisticRegression())])</pre></div></div></div><div class=\"sk-serial\"><div class=\"sk-item\"><div class=\"sk-estimator sk-toggleable\"><input class=\"sk-toggleable__control sk-hidden--visually\" id=\"sk-estimator-id-2\" type=\"checkbox\" ><label for=\"sk-estimator-id-2\" class=\"sk-toggleable__label sk-toggleable__label-arrow\">StandardScaler</label><div class=\"sk-toggleable__content\"><pre>StandardScaler()</pre></div></div></div><div class=\"sk-item\"><div class=\"sk-estimator sk-toggleable\"><input class=\"sk-toggleable__control sk-hidden--visually\" id=\"sk-estimator-id-3\" type=\"checkbox\" ><label for=\"sk-estimator-id-3\" class=\"sk-toggleable__label sk-toggleable__label-arrow\">LogisticRegression</label><div class=\"sk-toggleable__content\"><pre>LogisticRegression()</pre></div></div></div></div></div></div></div>"
      ],
      "text/plain": [
       "Pipeline(steps=[('scale', StandardScaler()), ('model', LogisticRegression())])"
      ]
     },
     "execution_count": 32,
     "metadata": {},
     "output_type": "execute_result"
    }
   ],
   "source": [
    "model.fit(X_train, y_train.values.ravel())"
   ]
  },
  {
   "cell_type": "code",
   "execution_count": 33,
   "id": "af59f8c0",
   "metadata": {
    "execution": {
     "iopub.execute_input": "2025-08-05T16:17:04.554196Z",
     "iopub.status.busy": "2025-08-05T16:17:04.553606Z",
     "iopub.status.idle": "2025-08-05T16:17:04.560228Z",
     "shell.execute_reply": "2025-08-05T16:17:04.558960Z"
    },
    "papermill": {
     "duration": 0.022788,
     "end_time": "2025-08-05T16:17:04.562585",
     "exception": false,
     "start_time": "2025-08-05T16:17:04.539797",
     "status": "completed"
    },
    "tags": []
   },
   "outputs": [],
   "source": [
    "from fairness_multiverse.universe import predict_w_threshold"
   ]
  },
  {
   "cell_type": "code",
   "execution_count": 34,
   "id": "a7cf2e16",
   "metadata": {
    "execution": {
     "iopub.execute_input": "2025-08-05T16:17:04.617412Z",
     "iopub.status.busy": "2025-08-05T16:17:04.617009Z",
     "iopub.status.idle": "2025-08-05T16:17:04.830183Z",
     "shell.execute_reply": "2025-08-05T16:17:04.829234Z"
    },
    "papermill": {
     "duration": 0.242314,
     "end_time": "2025-08-05T16:17:04.831693",
     "exception": false,
     "start_time": "2025-08-05T16:17:04.589379",
     "status": "completed"
    },
    "tags": []
   },
   "outputs": [
    {
     "data": {
      "text/plain": [
       "0.8169880726786312"
      ]
     },
     "execution_count": 34,
     "metadata": {},
     "output_type": "execute_result"
    }
   ],
   "source": [
    "probs_test = model.predict_proba(X_test)\n",
    "\n",
    "'''\n",
    "Below code returns a boolean array (or binary 0/1 array depending on how it’s used) where each element \n",
    "is True if the probability of class 1 is greater than or equal to the threshold, and False otherwise.\n",
    "'''\n",
    "y_pred_default = predict_w_threshold(probs_test, 0.5)\n",
    "\n",
    "from sklearn.metrics import accuracy_score\n",
    "\n",
    "# Naive prediction\n",
    "accuracy_score(y_true = y_true, y_pred = y_pred_default)"
   ]
  },
  {
   "cell_type": "code",
   "execution_count": 35,
   "id": "081964c3",
   "metadata": {
    "execution": {
     "iopub.execute_input": "2025-08-05T16:17:04.892893Z",
     "iopub.status.busy": "2025-08-05T16:17:04.892271Z",
     "iopub.status.idle": "2025-08-05T16:17:05.108599Z",
     "shell.execute_reply": "2025-08-05T16:17:05.107397Z"
    },
    "papermill": {
     "duration": 0.247431,
     "end_time": "2025-08-05T16:17:05.110723",
     "exception": false,
     "start_time": "2025-08-05T16:17:04.863292",
     "status": "completed"
    },
    "tags": []
   },
   "outputs": [
    {
     "data": {
      "text/plain": [
       "array([0, 0, 1, ..., 0, 0, 0])"
      ]
     },
     "execution_count": 35,
     "metadata": {},
     "output_type": "execute_result"
    }
   ],
   "source": [
    "model.predict(X_test)"
   ]
  },
  {
   "cell_type": "markdown",
   "id": "56c9705b",
   "metadata": {
    "papermill": {
     "duration": 0.02491,
     "end_time": "2025-08-05T16:17:05.162231",
     "exception": false,
     "start_time": "2025-08-05T16:17:05.137321",
     "status": "completed"
    },
    "tags": []
   },
   "source": [
    "# Conformal Prediction"
   ]
  },
  {
   "cell_type": "code",
   "execution_count": 36,
   "id": "160ec6ff",
   "metadata": {
    "execution": {
     "iopub.execute_input": "2025-08-05T16:17:05.215368Z",
     "iopub.status.busy": "2025-08-05T16:17:05.214772Z",
     "iopub.status.idle": "2025-08-05T16:17:05.221095Z",
     "shell.execute_reply": "2025-08-05T16:17:05.219987Z"
    },
    "papermill": {
     "duration": 0.036239,
     "end_time": "2025-08-05T16:17:05.222945",
     "exception": false,
     "start_time": "2025-08-05T16:17:05.186706",
     "status": "completed"
    },
    "tags": []
   },
   "outputs": [],
   "source": [
    "# Miscoverage level for conformal prediction (10% allowed error rate => 90% target coverage)\n",
    "alpha = 0.1"
   ]
  },
  {
   "cell_type": "code",
   "execution_count": 37,
   "id": "eadf4555-3dd3-440e-8e35-f82a4ad9f855",
   "metadata": {
    "execution": {
     "iopub.execute_input": "2025-08-05T16:17:05.273943Z",
     "iopub.status.busy": "2025-08-05T16:17:05.273226Z",
     "iopub.status.idle": "2025-08-05T16:17:05.538506Z",
     "shell.execute_reply": "2025-08-05T16:17:05.537464Z"
    },
    "papermill": {
     "duration": 0.293356,
     "end_time": "2025-08-05T16:17:05.540748",
     "exception": false,
     "start_time": "2025-08-05T16:17:05.247392",
     "status": "completed"
    },
    "tags": []
   },
   "outputs": [],
   "source": [
    "probs_calib = model.predict_proba(X_calib)"
   ]
  },
  {
   "cell_type": "code",
   "execution_count": 38,
   "id": "2ed93547-6d5d-4983-9b36-1ecb300da49a",
   "metadata": {
    "execution": {
     "iopub.execute_input": "2025-08-05T16:17:05.591911Z",
     "iopub.status.busy": "2025-08-05T16:17:05.591327Z",
     "iopub.status.idle": "2025-08-05T16:17:05.598385Z",
     "shell.execute_reply": "2025-08-05T16:17:05.597083Z"
    },
    "papermill": {
     "duration": 0.033843,
     "end_time": "2025-08-05T16:17:05.600307",
     "exception": false,
     "start_time": "2025-08-05T16:17:05.566464",
     "status": "completed"
    },
    "tags": []
   },
   "outputs": [],
   "source": [
    "y_calib = y_calib.values.ravel().astype(int)"
   ]
  },
  {
   "cell_type": "code",
   "execution_count": 39,
   "id": "65d1320d-f588-4b38-9072-62af1ae97f7d",
   "metadata": {
    "execution": {
     "iopub.execute_input": "2025-08-05T16:17:05.651629Z",
     "iopub.status.busy": "2025-08-05T16:17:05.650810Z",
     "iopub.status.idle": "2025-08-05T16:17:05.659476Z",
     "shell.execute_reply": "2025-08-05T16:17:05.658343Z"
    },
    "papermill": {
     "duration": 0.035948,
     "end_time": "2025-08-05T16:17:05.661313",
     "exception": false,
     "start_time": "2025-08-05T16:17:05.625365",
     "status": "completed"
    },
    "tags": []
   },
   "outputs": [],
   "source": [
    "from fairness_multiverse.conformal import compute_nc_scores\n",
    "\n",
    "# Compute nonconformity scores on calibration set (1 - probability of true class)\n",
    "nc_scores = compute_nc_scores(probs_calib, y_calib)"
   ]
  },
  {
   "cell_type": "code",
   "execution_count": 40,
   "id": "df3b8ca3-53b7-43d5-9667-7c85da7aeda2",
   "metadata": {
    "execution": {
     "iopub.execute_input": "2025-08-05T16:17:05.713644Z",
     "iopub.status.busy": "2025-08-05T16:17:05.712662Z",
     "iopub.status.idle": "2025-08-05T16:17:05.721366Z",
     "shell.execute_reply": "2025-08-05T16:17:05.720229Z"
    },
    "papermill": {
     "duration": 0.037448,
     "end_time": "2025-08-05T16:17:05.723324",
     "exception": false,
     "start_time": "2025-08-05T16:17:05.685876",
     "status": "completed"
    },
    "tags": []
   },
   "outputs": [],
   "source": [
    "from fairness_multiverse.conformal import find_threshold\n",
    "\n",
    "# Find conformal threshold q_hat for the given alpha (split conformal method)\n",
    "q_hat = find_threshold(nc_scores, alpha)"
   ]
  },
  {
   "cell_type": "code",
   "execution_count": 41,
   "id": "4d29e6c1-0ef6-4aa4-b8fe-4fe79b0d033a",
   "metadata": {
    "execution": {
     "iopub.execute_input": "2025-08-05T16:17:05.776287Z",
     "iopub.status.busy": "2025-08-05T16:17:05.775167Z",
     "iopub.status.idle": "2025-08-05T16:17:05.784888Z",
     "shell.execute_reply": "2025-08-05T16:17:05.783680Z"
    },
    "papermill": {
     "duration": 0.039025,
     "end_time": "2025-08-05T16:17:05.787404",
     "exception": false,
     "start_time": "2025-08-05T16:17:05.748379",
     "status": "completed"
    },
    "tags": []
   },
   "outputs": [
    {
     "data": {
      "text/plain": [
       "0.8266080162236921"
      ]
     },
     "execution_count": 41,
     "metadata": {},
     "output_type": "execute_result"
    }
   ],
   "source": [
    "q_hat"
   ]
  },
  {
   "cell_type": "code",
   "execution_count": 42,
   "id": "92460794-cdac-4be2-ba28-f28c0515a6fb",
   "metadata": {
    "execution": {
     "iopub.execute_input": "2025-08-05T16:17:05.861942Z",
     "iopub.status.busy": "2025-08-05T16:17:05.861378Z",
     "iopub.status.idle": "2025-08-05T16:17:06.869950Z",
     "shell.execute_reply": "2025-08-05T16:17:06.868988Z"
    },
    "papermill": {
     "duration": 1.046566,
     "end_time": "2025-08-05T16:17:06.871672",
     "exception": false,
     "start_time": "2025-08-05T16:17:05.825106",
     "status": "completed"
    },
    "tags": []
   },
   "outputs": [],
   "source": [
    "from fairness_multiverse.conformal import predict_conformal_sets\n",
    "\n",
    "# Generate prediction sets for each test example\n",
    "pred_sets = predict_conformal_sets(model, X_test, q_hat)"
   ]
  },
  {
   "cell_type": "code",
   "execution_count": 43,
   "id": "d90c9a65-e6db-4f5d-80cd-e68fb7e46829",
   "metadata": {
    "execution": {
     "iopub.execute_input": "2025-08-05T16:17:06.902720Z",
     "iopub.status.busy": "2025-08-05T16:17:06.902349Z",
     "iopub.status.idle": "2025-08-05T16:17:06.907724Z",
     "shell.execute_reply": "2025-08-05T16:17:06.906755Z"
    },
    "papermill": {
     "duration": 0.021055,
     "end_time": "2025-08-05T16:17:06.909302",
     "exception": false,
     "start_time": "2025-08-05T16:17:06.888247",
     "status": "completed"
    },
    "tags": []
   },
   "outputs": [],
   "source": [
    "y_true = y_true.squeeze()"
   ]
  },
  {
   "cell_type": "code",
   "execution_count": 44,
   "id": "3a58a54a-1e68-46b9-927a-df01f18aebc8",
   "metadata": {
    "execution": {
     "iopub.execute_input": "2025-08-05T16:17:06.937211Z",
     "iopub.status.busy": "2025-08-05T16:17:06.936586Z",
     "iopub.status.idle": "2025-08-05T16:17:07.969203Z",
     "shell.execute_reply": "2025-08-05T16:17:07.967993Z"
    },
    "papermill": {
     "duration": 1.048849,
     "end_time": "2025-08-05T16:17:07.971518",
     "exception": false,
     "start_time": "2025-08-05T16:17:06.922669",
     "status": "completed"
    },
    "tags": []
   },
   "outputs": [],
   "source": [
    "from fairness_multiverse.conformal import evaluate_sets\n",
    "\n",
    "# Evaluate coverage and average set size on test data\n",
    "metrics = evaluate_sets(pred_sets, y_true)"
   ]
  },
  {
   "cell_type": "markdown",
   "id": "2b569c12-9aaa-4c88-98c9-bbcd0cf3ebb8",
   "metadata": {
    "papermill": {
     "duration": 0.024559,
     "end_time": "2025-08-05T16:17:08.022430",
     "exception": false,
     "start_time": "2025-08-05T16:17:07.997871",
     "status": "completed"
    },
    "tags": []
   },
   "source": [
    "# CP Metrics"
   ]
  },
  {
   "cell_type": "code",
   "execution_count": 45,
   "id": "5ce0a5cb-201f-45a0-ade5-94c7f0bd6095",
   "metadata": {
    "execution": {
     "iopub.execute_input": "2025-08-05T16:17:08.076196Z",
     "iopub.status.busy": "2025-08-05T16:17:08.075182Z",
     "iopub.status.idle": "2025-08-05T16:17:08.083801Z",
     "shell.execute_reply": "2025-08-05T16:17:08.082656Z"
    },
    "papermill": {
     "duration": 0.037214,
     "end_time": "2025-08-05T16:17:08.085632",
     "exception": false,
     "start_time": "2025-08-05T16:17:08.048418",
     "status": "completed"
    },
    "tags": []
   },
   "outputs": [
    {
     "data": {
      "text/plain": [
       "{'coverage': 0.9093635046260171, 'avg_size': 1.2739493924869023}"
      ]
     },
     "execution_count": 45,
     "metadata": {},
     "output_type": "execute_result"
    }
   ],
   "source": [
    "metrics"
   ]
  },
  {
   "cell_type": "code",
   "execution_count": 46,
   "id": "9b9a838d-31c9-430b-ae14-12baee460d17",
   "metadata": {
    "execution": {
     "iopub.execute_input": "2025-08-05T16:17:08.138558Z",
     "iopub.status.busy": "2025-08-05T16:17:08.137822Z",
     "iopub.status.idle": "2025-08-05T16:17:08.146662Z",
     "shell.execute_reply": "2025-08-05T16:17:08.145376Z"
    },
    "papermill": {
     "duration": 0.038099,
     "end_time": "2025-08-05T16:17:08.148555",
     "exception": false,
     "start_time": "2025-08-05T16:17:08.110456",
     "status": "completed"
    },
    "tags": []
   },
   "outputs": [],
   "source": [
    "example_universe = universe.copy()\n",
    "universe_training_year = example_universe.get(\"training_year\")\n",
    "universe_training_size = example_universe.get(\"training_size\")\n",
    "universe_scale = example_universe.get(\"scale\")\n",
    "universe_model = example_universe.get(\"model\")\n",
    "universe_exclude_features = example_universe.get(\"exclude_features\")\n",
    "universe_exclude_subgroups = example_universe.get(\"exclude_subgroups\")"
   ]
  },
  {
   "cell_type": "code",
   "execution_count": 47,
   "id": "f4b6a8ac-9dc0-4245-8a91-5b3b5999c4f9",
   "metadata": {
    "execution": {
     "iopub.execute_input": "2025-08-05T16:17:08.201165Z",
     "iopub.status.busy": "2025-08-05T16:17:08.199973Z",
     "iopub.status.idle": "2025-08-05T16:17:08.208562Z",
     "shell.execute_reply": "2025-08-05T16:17:08.207457Z"
    },
    "papermill": {
     "duration": 0.036945,
     "end_time": "2025-08-05T16:17:08.210497",
     "exception": false,
     "start_time": "2025-08-05T16:17:08.173552",
     "status": "completed"
    },
    "tags": []
   },
   "outputs": [],
   "source": [
    "cp_metrics_dict = {\n",
    "    \"universe_id\": [universe_id],\n",
    "    \"universe_training_year\": [universe_training_year],\n",
    "    \"universe_training_size\": [universe_training_size],\n",
    "    \"universe_scale\": [universe_scale],\n",
    "    \"universe_model\": [universe_model],\n",
    "    \"universe_exclude_features\": [universe_exclude_features],\n",
    "    \"universe_exclude_subgroups\": [universe_exclude_subgroups],\n",
    "    \"q_hat\": [q_hat],\n",
    "    \"coverage\": [metrics[\"coverage\"]],\n",
    "    \"avg_size\": [metrics[\"avg_size\"]],\n",
    "}"
   ]
  },
  {
   "cell_type": "code",
   "execution_count": 48,
   "id": "908acbb1-0371-4915-85ca-3fa520d2efe2",
   "metadata": {
    "execution": {
     "iopub.execute_input": "2025-08-05T16:17:08.262682Z",
     "iopub.status.busy": "2025-08-05T16:17:08.261914Z",
     "iopub.status.idle": "2025-08-05T16:17:08.270914Z",
     "shell.execute_reply": "2025-08-05T16:17:08.269787Z"
    },
    "papermill": {
     "duration": 0.036858,
     "end_time": "2025-08-05T16:17:08.272994",
     "exception": false,
     "start_time": "2025-08-05T16:17:08.236136",
     "status": "completed"
    },
    "tags": []
   },
   "outputs": [
    {
     "data": {
      "text/plain": [
       "{'universe_id': ['98604c894a83986dd54448eca0c88f5a'],\n",
       " 'universe_training_year': ['2012_14'],\n",
       " 'universe_training_size': ['1k'],\n",
       " 'universe_scale': ['scale'],\n",
       " 'universe_model': ['logreg'],\n",
       " 'universe_exclude_features': ['age'],\n",
       " 'universe_exclude_subgroups': ['drop-non-german'],\n",
       " 'q_hat': [0.8266080162236921],\n",
       " 'coverage': [0.9093635046260171],\n",
       " 'avg_size': [1.2739493924869023]}"
      ]
     },
     "execution_count": 48,
     "metadata": {},
     "output_type": "execute_result"
    }
   ],
   "source": [
    "cp_metrics_dict"
   ]
  },
  {
   "cell_type": "code",
   "execution_count": 49,
   "id": "33007efc-14e9-4ec6-97ac-56a455c82265",
   "metadata": {
    "execution": {
     "iopub.execute_input": "2025-08-05T16:17:08.327163Z",
     "iopub.status.busy": "2025-08-05T16:17:08.326372Z",
     "iopub.status.idle": "2025-08-05T16:17:08.333694Z",
     "shell.execute_reply": "2025-08-05T16:17:08.332584Z"
    },
    "papermill": {
     "duration": 0.036119,
     "end_time": "2025-08-05T16:17:08.335974",
     "exception": false,
     "start_time": "2025-08-05T16:17:08.299855",
     "status": "completed"
    },
    "tags": []
   },
   "outputs": [],
   "source": [
    "cp_metrics_df = pd.DataFrame(cp_metrics_dict)"
   ]
  },
  {
   "cell_type": "code",
   "execution_count": 50,
   "id": "db12611b-57b2-4910-b9d0-355adfd6e7bf",
   "metadata": {
    "execution": {
     "iopub.execute_input": "2025-08-05T16:17:08.395757Z",
     "iopub.status.busy": "2025-08-05T16:17:08.395225Z",
     "iopub.status.idle": "2025-08-05T16:17:08.418202Z",
     "shell.execute_reply": "2025-08-05T16:17:08.416738Z"
    },
    "papermill": {
     "duration": 0.056144,
     "end_time": "2025-08-05T16:17:08.420322",
     "exception": false,
     "start_time": "2025-08-05T16:17:08.364178",
     "status": "completed"
    },
    "tags": []
   },
   "outputs": [
    {
     "data": {
      "text/html": [
       "<div>\n",
       "<style scoped>\n",
       "    .dataframe tbody tr th:only-of-type {\n",
       "        vertical-align: middle;\n",
       "    }\n",
       "\n",
       "    .dataframe tbody tr th {\n",
       "        vertical-align: top;\n",
       "    }\n",
       "\n",
       "    .dataframe thead th {\n",
       "        text-align: right;\n",
       "    }\n",
       "</style>\n",
       "<table border=\"1\" class=\"dataframe\">\n",
       "  <thead>\n",
       "    <tr style=\"text-align: right;\">\n",
       "      <th></th>\n",
       "      <th>universe_id</th>\n",
       "      <th>universe_training_year</th>\n",
       "      <th>universe_training_size</th>\n",
       "      <th>universe_scale</th>\n",
       "      <th>universe_model</th>\n",
       "      <th>universe_exclude_features</th>\n",
       "      <th>universe_exclude_subgroups</th>\n",
       "      <th>q_hat</th>\n",
       "      <th>coverage</th>\n",
       "      <th>avg_size</th>\n",
       "    </tr>\n",
       "  </thead>\n",
       "  <tbody>\n",
       "    <tr>\n",
       "      <th>0</th>\n",
       "      <td>98604c894a83986dd54448eca0c88f5a</td>\n",
       "      <td>2012_14</td>\n",
       "      <td>1k</td>\n",
       "      <td>scale</td>\n",
       "      <td>logreg</td>\n",
       "      <td>age</td>\n",
       "      <td>drop-non-german</td>\n",
       "      <td>0.826608</td>\n",
       "      <td>0.909364</td>\n",
       "      <td>1.273949</td>\n",
       "    </tr>\n",
       "  </tbody>\n",
       "</table>\n",
       "</div>"
      ],
      "text/plain": [
       "                        universe_id universe_training_year  \\\n",
       "0  98604c894a83986dd54448eca0c88f5a                2012_14   \n",
       "\n",
       "  universe_training_size universe_scale universe_model  \\\n",
       "0                     1k          scale         logreg   \n",
       "\n",
       "  universe_exclude_features universe_exclude_subgroups     q_hat  coverage  \\\n",
       "0                       age            drop-non-german  0.826608  0.909364   \n",
       "\n",
       "   avg_size  \n",
       "0  1.273949  "
      ]
     },
     "execution_count": 50,
     "metadata": {},
     "output_type": "execute_result"
    }
   ],
   "source": [
    "cp_metrics_df"
   ]
  },
  {
   "cell_type": "code",
   "execution_count": 51,
   "id": "b7fbde55-a0a1-47e4-9af6-fe4a17fa8c61",
   "metadata": {
    "execution": {
     "iopub.execute_input": "2025-08-05T16:17:08.475111Z",
     "iopub.status.busy": "2025-08-05T16:17:08.474352Z",
     "iopub.status.idle": "2025-08-05T16:17:08.480955Z",
     "shell.execute_reply": "2025-08-05T16:17:08.479794Z"
    },
    "papermill": {
     "duration": 0.036114,
     "end_time": "2025-08-05T16:17:08.483026",
     "exception": false,
     "start_time": "2025-08-05T16:17:08.446912",
     "status": "completed"
    },
    "tags": []
   },
   "outputs": [],
   "source": [
    "# Conditional Coverage & looking at subgroups"
   ]
  },
  {
   "cell_type": "code",
   "execution_count": 52,
   "id": "027ae886-68dd-4141-96c7-805a5450e1ef",
   "metadata": {
    "execution": {
     "iopub.execute_input": "2025-08-05T16:17:08.537060Z",
     "iopub.status.busy": "2025-08-05T16:17:08.536469Z",
     "iopub.status.idle": "2025-08-05T16:17:08.844884Z",
     "shell.execute_reply": "2025-08-05T16:17:08.843399Z"
    },
    "papermill": {
     "duration": 0.337677,
     "end_time": "2025-08-05T16:17:08.847400",
     "exception": false,
     "start_time": "2025-08-05T16:17:08.509723",
     "status": "completed"
    },
    "tags": []
   },
   "outputs": [],
   "source": [
    "from fairness_multiverse.conformal import build_cp_groups\n",
    "\n",
    "cp_groups_df = build_cp_groups(pred_sets, y_true, X_test.index, org_test)\n",
    "#needs universe_id and setting"
   ]
  },
  {
   "cell_type": "code",
   "execution_count": 53,
   "id": "6cbdab96-b2b2-45af-ad54-d0516db2e28d",
   "metadata": {
    "execution": {
     "iopub.execute_input": "2025-08-05T16:17:08.902017Z",
     "iopub.status.busy": "2025-08-05T16:17:08.901468Z",
     "iopub.status.idle": "2025-08-05T16:17:10.942147Z",
     "shell.execute_reply": "2025-08-05T16:17:10.940989Z"
    },
    "papermill": {
     "duration": 2.070728,
     "end_time": "2025-08-05T16:17:10.944548",
     "exception": false,
     "start_time": "2025-08-05T16:17:08.873820",
     "status": "completed"
    },
    "tags": []
   },
   "outputs": [],
   "source": [
    "# Define covered = 1 if true_label is in the predicted set\n",
    "cp_groups_df['covered'] = cp_groups_df.apply(\n",
    "    lambda r: int(r['true_label'] in r['pred_set']),\n",
    "    axis=1\n",
    ")"
   ]
  },
  {
   "cell_type": "code",
   "execution_count": 54,
   "id": "338ff529-1a6b-4b87-a931-8e4788d52aad",
   "metadata": {
    "execution": {
     "iopub.execute_input": "2025-08-05T16:17:11.008576Z",
     "iopub.status.busy": "2025-08-05T16:17:11.007430Z",
     "iopub.status.idle": "2025-08-05T16:17:11.014072Z",
     "shell.execute_reply": "2025-08-05T16:17:11.012800Z"
    },
    "papermill": {
     "duration": 0.041531,
     "end_time": "2025-08-05T16:17:11.016309",
     "exception": false,
     "start_time": "2025-08-05T16:17:10.974778",
     "status": "completed"
    },
    "tags": []
   },
   "outputs": [],
   "source": [
    "#cp_groups_df"
   ]
  },
  {
   "cell_type": "code",
   "execution_count": 55,
   "id": "90032e27-66df-4540-9169-4e89cfbaa758",
   "metadata": {
    "execution": {
     "iopub.execute_input": "2025-08-05T16:17:11.072985Z",
     "iopub.status.busy": "2025-08-05T16:17:11.072441Z",
     "iopub.status.idle": "2025-08-05T16:17:11.086149Z",
     "shell.execute_reply": "2025-08-05T16:17:11.085046Z"
    },
    "papermill": {
     "duration": 0.043685,
     "end_time": "2025-08-05T16:17:11.087904",
     "exception": false,
     "start_time": "2025-08-05T16:17:11.044219",
     "status": "completed"
    },
    "tags": []
   },
   "outputs": [],
   "source": [
    "subgroups = ['frau1','nongerman','nongerman_male','nongerman_female']\n",
    "\n",
    "# Conditional coverage for subgroup==1\n",
    "cond_coverage = {\n",
    "    g: cp_groups_df.loc[cp_groups_df[g]==1, 'covered'].mean()\n",
    "    for g in subgroups\n",
    "}"
   ]
  },
  {
   "cell_type": "code",
   "execution_count": 56,
   "id": "1e348fb1-b9c3-45bc-ba23-f016827a7e0d",
   "metadata": {
    "execution": {
     "iopub.execute_input": "2025-08-05T16:17:11.145077Z",
     "iopub.status.busy": "2025-08-05T16:17:11.144255Z",
     "iopub.status.idle": "2025-08-05T16:17:11.152754Z",
     "shell.execute_reply": "2025-08-05T16:17:11.151649Z"
    },
    "papermill": {
     "duration": 0.038991,
     "end_time": "2025-08-05T16:17:11.154858",
     "exception": false,
     "start_time": "2025-08-05T16:17:11.115867",
     "status": "completed"
    },
    "tags": []
   },
   "outputs": [
    {
     "data": {
      "text/plain": [
       "{'frau1': 0.8998247742283326,\n",
       " 'nongerman': 0.9172514455734576,\n",
       " 'nongerman_male': 0.9370440421507701,\n",
       " 'nongerman_female': 0.8845007451564829}"
      ]
     },
     "execution_count": 56,
     "metadata": {},
     "output_type": "execute_result"
    }
   ],
   "source": [
    "cond_coverage"
   ]
  },
  {
   "cell_type": "code",
   "execution_count": 57,
   "id": "f5093324-c3dd-4d63-bc4c-8d945e5c8bbb",
   "metadata": {
    "execution": {
     "iopub.execute_input": "2025-08-05T16:17:11.219207Z",
     "iopub.status.busy": "2025-08-05T16:17:11.218186Z",
     "iopub.status.idle": "2025-08-05T16:17:11.228199Z",
     "shell.execute_reply": "2025-08-05T16:17:11.227067Z"
    },
    "papermill": {
     "duration": 0.043344,
     "end_time": "2025-08-05T16:17:11.230176",
     "exception": false,
     "start_time": "2025-08-05T16:17:11.186832",
     "status": "completed"
    },
    "tags": []
   },
   "outputs": [],
   "source": [
    "for subgroup, cov in cond_coverage.items():\n",
    "    cp_metrics_df[f\"cov_{subgroup}\"] = cov"
   ]
  },
  {
   "cell_type": "code",
   "execution_count": 58,
   "id": "6e872e10-dbe5-49e8-b554-5030c98ff75d",
   "metadata": {
    "execution": {
     "iopub.execute_input": "2025-08-05T16:17:11.295872Z",
     "iopub.status.busy": "2025-08-05T16:17:11.294769Z",
     "iopub.status.idle": "2025-08-05T16:17:11.321750Z",
     "shell.execute_reply": "2025-08-05T16:17:11.320371Z"
    },
    "papermill": {
     "duration": 0.062158,
     "end_time": "2025-08-05T16:17:11.324155",
     "exception": false,
     "start_time": "2025-08-05T16:17:11.261997",
     "status": "completed"
    },
    "tags": []
   },
   "outputs": [
    {
     "data": {
      "text/html": [
       "<div>\n",
       "<style scoped>\n",
       "    .dataframe tbody tr th:only-of-type {\n",
       "        vertical-align: middle;\n",
       "    }\n",
       "\n",
       "    .dataframe tbody tr th {\n",
       "        vertical-align: top;\n",
       "    }\n",
       "\n",
       "    .dataframe thead th {\n",
       "        text-align: right;\n",
       "    }\n",
       "</style>\n",
       "<table border=\"1\" class=\"dataframe\">\n",
       "  <thead>\n",
       "    <tr style=\"text-align: right;\">\n",
       "      <th></th>\n",
       "      <th>universe_id</th>\n",
       "      <th>universe_training_year</th>\n",
       "      <th>universe_training_size</th>\n",
       "      <th>universe_scale</th>\n",
       "      <th>universe_model</th>\n",
       "      <th>universe_exclude_features</th>\n",
       "      <th>universe_exclude_subgroups</th>\n",
       "      <th>q_hat</th>\n",
       "      <th>coverage</th>\n",
       "      <th>avg_size</th>\n",
       "      <th>cov_frau1</th>\n",
       "      <th>cov_nongerman</th>\n",
       "      <th>cov_nongerman_male</th>\n",
       "      <th>cov_nongerman_female</th>\n",
       "    </tr>\n",
       "  </thead>\n",
       "  <tbody>\n",
       "    <tr>\n",
       "      <th>0</th>\n",
       "      <td>98604c894a83986dd54448eca0c88f5a</td>\n",
       "      <td>2012_14</td>\n",
       "      <td>1k</td>\n",
       "      <td>scale</td>\n",
       "      <td>logreg</td>\n",
       "      <td>age</td>\n",
       "      <td>drop-non-german</td>\n",
       "      <td>0.826608</td>\n",
       "      <td>0.909364</td>\n",
       "      <td>1.273949</td>\n",
       "      <td>0.899825</td>\n",
       "      <td>0.917251</td>\n",
       "      <td>0.937044</td>\n",
       "      <td>0.884501</td>\n",
       "    </tr>\n",
       "  </tbody>\n",
       "</table>\n",
       "</div>"
      ],
      "text/plain": [
       "                        universe_id universe_training_year  \\\n",
       "0  98604c894a83986dd54448eca0c88f5a                2012_14   \n",
       "\n",
       "  universe_training_size universe_scale universe_model  \\\n",
       "0                     1k          scale         logreg   \n",
       "\n",
       "  universe_exclude_features universe_exclude_subgroups     q_hat  coverage  \\\n",
       "0                       age            drop-non-german  0.826608  0.909364   \n",
       "\n",
       "   avg_size  cov_frau1  cov_nongerman  cov_nongerman_male  \\\n",
       "0  1.273949   0.899825       0.917251            0.937044   \n",
       "\n",
       "   cov_nongerman_female  \n",
       "0              0.884501  "
      ]
     },
     "execution_count": 58,
     "metadata": {},
     "output_type": "execute_result"
    }
   ],
   "source": [
    "cp_metrics_df"
   ]
  },
  {
   "cell_type": "markdown",
   "id": "33774451",
   "metadata": {
    "papermill": {
     "duration": 0.034278,
     "end_time": "2025-08-05T16:17:11.392568",
     "exception": false,
     "start_time": "2025-08-05T16:17:11.358290",
     "status": "completed"
    },
    "tags": []
   },
   "source": [
    "# (Fairness) Metrics"
   ]
  },
  {
   "cell_type": "code",
   "execution_count": 59,
   "id": "debc5d62",
   "metadata": {
    "execution": {
     "iopub.execute_input": "2025-08-05T16:17:11.463708Z",
     "iopub.status.busy": "2025-08-05T16:17:11.463161Z",
     "iopub.status.idle": "2025-08-05T16:17:11.489423Z",
     "shell.execute_reply": "2025-08-05T16:17:11.488094Z"
    },
    "papermill": {
     "duration": 0.065145,
     "end_time": "2025-08-05T16:17:11.492194",
     "exception": false,
     "start_time": "2025-08-05T16:17:11.427049",
     "status": "completed"
    },
    "tags": []
   },
   "outputs": [],
   "source": [
    "# do I need to include maxdeutsch1.missing?\n",
    "\n",
    "import numpy as np\n",
    "\n",
    "colname_to_bin = \"maxdeutsch1\"\n",
    "majority_value = org_train[colname_to_bin].mode()[0]\n",
    "\n",
    "org_test[\"majmin\"] = np.where(org_test[colname_to_bin] == majority_value, \"majority\", \"minority\")"
   ]
  },
  {
   "cell_type": "code",
   "execution_count": 60,
   "id": "06a50de5",
   "metadata": {
    "execution": {
     "iopub.execute_input": "2025-08-05T16:17:11.558211Z",
     "iopub.status.busy": "2025-08-05T16:17:11.557631Z",
     "iopub.status.idle": "2025-08-05T16:17:14.982933Z",
     "shell.execute_reply": "2025-08-05T16:17:14.981679Z"
    },
    "papermill": {
     "duration": 3.460523,
     "end_time": "2025-08-05T16:17:14.985641",
     "exception": false,
     "start_time": "2025-08-05T16:17:11.525118",
     "status": "completed"
    },
    "tags": []
   },
   "outputs": [],
   "source": [
    "example_universe = universe.copy()\n",
    "example_universe[\"cutoff\"] = example_universe[\"cutoff\"][0]\n",
    "example_universe[\"eval_fairness_grouping\"] = example_universe[\"eval_fairness_grouping\"][0]\n",
    "fairness_dict, metric_frame = universe_analysis.compute_metrics(\n",
    "    example_universe,\n",
    "    y_pred_prob=probs_test,\n",
    "    y_test=y_true,\n",
    "    org_test=org_test,\n",
    ")"
   ]
  },
  {
   "cell_type": "markdown",
   "id": "f95d4e02",
   "metadata": {
    "papermill": {
     "duration": 0.036522,
     "end_time": "2025-08-05T16:17:15.062596",
     "exception": false,
     "start_time": "2025-08-05T16:17:15.026074",
     "status": "completed"
    },
    "tags": []
   },
   "source": [
    "# Overall"
   ]
  },
  {
   "cell_type": "markdown",
   "id": "bdee4871",
   "metadata": {
    "papermill": {
     "duration": 0.033526,
     "end_time": "2025-08-05T16:17:15.134860",
     "exception": false,
     "start_time": "2025-08-05T16:17:15.101334",
     "status": "completed"
    },
    "tags": []
   },
   "source": [
    "Fairness\n",
    "Main fairness target: Equalized Odds. Seems to be a better fit than equal opportunity, since we're not only interested in Y = 1. Seems to be a better fit than demographic parity, since we also care about accuracy, not just equal distribution of preds.\n",
    "\n",
    "Pick column for computation of fairness metrics\n",
    "\n",
    "Performance\n",
    "Overall performance measures, most interesting in relation to the measures split by group below"
   ]
  },
  {
   "cell_type": "code",
   "execution_count": 61,
   "id": "c4e067c6",
   "metadata": {
    "execution": {
     "iopub.execute_input": "2025-08-05T16:17:15.187833Z",
     "iopub.status.busy": "2025-08-05T16:17:15.187290Z",
     "iopub.status.idle": "2025-08-05T16:17:15.196550Z",
     "shell.execute_reply": "2025-08-05T16:17:15.195749Z"
    },
    "papermill": {
     "duration": 0.028478,
     "end_time": "2025-08-05T16:17:15.198280",
     "exception": false,
     "start_time": "2025-08-05T16:17:15.169802",
     "status": "completed"
    },
    "tags": []
   },
   "outputs": [
    {
     "data": {
      "text/plain": [
       "accuracy                   0.216620\n",
       "balanced accuracy          0.531291\n",
       "f1                         0.238165\n",
       "precision                  0.136056\n",
       "false positive rate        0.891972\n",
       "false negative rate        0.045447\n",
       "selection rate             0.900000\n",
       "count                  89710.000000\n",
       "dtype: float64"
      ]
     },
     "execution_count": 61,
     "metadata": {},
     "output_type": "execute_result"
    }
   ],
   "source": [
    "metric_frame.overall"
   ]
  },
  {
   "cell_type": "markdown",
   "id": "e968fe9d",
   "metadata": {
    "papermill": {
     "duration": 0.01589,
     "end_time": "2025-08-05T16:17:15.228975",
     "exception": false,
     "start_time": "2025-08-05T16:17:15.213085",
     "status": "completed"
    },
    "tags": []
   },
   "source": [
    "By Group"
   ]
  },
  {
   "cell_type": "code",
   "execution_count": 62,
   "id": "ec325bce",
   "metadata": {
    "execution": {
     "iopub.execute_input": "2025-08-05T16:17:15.304660Z",
     "iopub.status.busy": "2025-08-05T16:17:15.303687Z",
     "iopub.status.idle": "2025-08-05T16:17:15.327886Z",
     "shell.execute_reply": "2025-08-05T16:17:15.326675Z"
    },
    "papermill": {
     "duration": 0.065633,
     "end_time": "2025-08-05T16:17:15.330020",
     "exception": false,
     "start_time": "2025-08-05T16:17:15.264387",
     "status": "completed"
    },
    "tags": []
   },
   "outputs": [
    {
     "data": {
      "text/html": [
       "<div>\n",
       "<style scoped>\n",
       "    .dataframe tbody tr th:only-of-type {\n",
       "        vertical-align: middle;\n",
       "    }\n",
       "\n",
       "    .dataframe tbody tr th {\n",
       "        vertical-align: top;\n",
       "    }\n",
       "\n",
       "    .dataframe thead th {\n",
       "        text-align: right;\n",
       "    }\n",
       "</style>\n",
       "<table border=\"1\" class=\"dataframe\">\n",
       "  <thead>\n",
       "    <tr style=\"text-align: right;\">\n",
       "      <th></th>\n",
       "      <th>accuracy</th>\n",
       "      <th>balanced accuracy</th>\n",
       "      <th>f1</th>\n",
       "      <th>precision</th>\n",
       "      <th>false positive rate</th>\n",
       "      <th>false negative rate</th>\n",
       "      <th>selection rate</th>\n",
       "      <th>count</th>\n",
       "    </tr>\n",
       "    <tr>\n",
       "      <th>majmin</th>\n",
       "      <th></th>\n",
       "      <th></th>\n",
       "      <th></th>\n",
       "      <th></th>\n",
       "      <th></th>\n",
       "      <th></th>\n",
       "      <th></th>\n",
       "      <th></th>\n",
       "    </tr>\n",
       "  </thead>\n",
       "  <tbody>\n",
       "    <tr>\n",
       "      <th>majority</th>\n",
       "      <td>0.231372</td>\n",
       "      <td>0.535885</td>\n",
       "      <td>0.246172</td>\n",
       "      <td>0.141412</td>\n",
       "      <td>0.878011</td>\n",
       "      <td>0.050219</td>\n",
       "      <td>0.887495</td>\n",
       "      <td>69170.0</td>\n",
       "    </tr>\n",
       "    <tr>\n",
       "      <th>minority</th>\n",
       "      <td>0.166943</td>\n",
       "      <td>0.517441</td>\n",
       "      <td>0.212164</td>\n",
       "      <td>0.119064</td>\n",
       "      <td>0.938092</td>\n",
       "      <td>0.027027</td>\n",
       "      <td>0.942113</td>\n",
       "      <td>20540.0</td>\n",
       "    </tr>\n",
       "  </tbody>\n",
       "</table>\n",
       "</div>"
      ],
      "text/plain": [
       "          accuracy  balanced accuracy        f1  precision  \\\n",
       "majmin                                                       \n",
       "majority  0.231372           0.535885  0.246172   0.141412   \n",
       "minority  0.166943           0.517441  0.212164   0.119064   \n",
       "\n",
       "          false positive rate  false negative rate  selection rate    count  \n",
       "majmin                                                                       \n",
       "majority             0.878011             0.050219        0.887495  69170.0  \n",
       "minority             0.938092             0.027027        0.942113  20540.0  "
      ]
     },
     "execution_count": 62,
     "metadata": {},
     "output_type": "execute_result"
    }
   ],
   "source": [
    "metric_frame.by_group"
   ]
  },
  {
   "cell_type": "code",
   "execution_count": 63,
   "id": "a9ddbe63",
   "metadata": {
    "execution": {
     "iopub.execute_input": "2025-08-05T16:17:15.391964Z",
     "iopub.status.busy": "2025-08-05T16:17:15.390987Z",
     "iopub.status.idle": "2025-08-05T16:17:18.416555Z",
     "shell.execute_reply": "2025-08-05T16:17:18.415223Z"
    },
    "papermill": {
     "duration": 3.059521,
     "end_time": "2025-08-05T16:17:18.419063",
     "exception": false,
     "start_time": "2025-08-05T16:17:15.359542",
     "status": "completed"
    },
    "tags": []
   },
   "outputs": [
    {
     "data": {
      "text/plain": [
       "array([[<Axes: title={'center': 'accuracy'}, xlabel='majmin'>,\n",
       "        <Axes: title={'center': 'balanced accuracy'}, xlabel='majmin'>,\n",
       "        <Axes: title={'center': 'f1'}, xlabel='majmin'>],\n",
       "       [<Axes: title={'center': 'precision'}, xlabel='majmin'>,\n",
       "        <Axes: title={'center': 'false positive rate'}, xlabel='majmin'>,\n",
       "        <Axes: title={'center': 'false negative rate'}, xlabel='majmin'>],\n",
       "       [<Axes: title={'center': 'selection rate'}, xlabel='majmin'>,\n",
       "        <Axes: title={'center': 'count'}, xlabel='majmin'>,\n",
       "        <Axes: xlabel='majmin'>]], dtype=object)"
      ]
     },
     "execution_count": 63,
     "metadata": {},
     "output_type": "execute_result"
    },
    {
     "data": {
      "image/png": "[encoded data removed]",
      "text/plain": [
       "<Figure size 1200x800 with 9 Axes>"
      ]
     },
     "metadata": {},
     "output_type": "display_data"
    }
   ],
   "source": [
    "# In a graphic\n",
    "metric_frame.by_group.plot.bar(\n",
    "    subplots=True,\n",
    "    layout=[3, 3],\n",
    "    legend=False,\n",
    "    figsize=[12, 8],\n",
    "    title=\"Show all metrics\",\n",
    ")"
   ]
  },
  {
   "cell_type": "markdown",
   "id": "f57a0bac",
   "metadata": {
    "papermill": {
     "duration": 0.032208,
     "end_time": "2025-08-05T16:17:18.490226",
     "exception": false,
     "start_time": "2025-08-05T16:17:18.458018",
     "status": "completed"
    },
    "tags": []
   },
   "source": [
    "# Final Output"
   ]
  },
  {
   "cell_type": "code",
   "execution_count": 64,
   "id": "96d280a3",
   "metadata": {
    "execution": {
     "iopub.execute_input": "2025-08-05T16:17:18.531424Z",
     "iopub.status.busy": "2025-08-05T16:17:18.530644Z",
     "iopub.status.idle": "2025-08-05T16:17:18.539258Z",
     "shell.execute_reply": "2025-08-05T16:17:18.538402Z"
    },
    "papermill": {
     "duration": 0.026925,
     "end_time": "2025-08-05T16:17:18.540689",
     "exception": false,
     "start_time": "2025-08-05T16:17:18.513764",
     "status": "completed"
    },
    "tags": []
   },
   "outputs": [
    {
     "data": {
      "text/plain": [
       "4"
      ]
     },
     "execution_count": 64,
     "metadata": {},
     "output_type": "execute_result"
    }
   ],
   "source": [
    "sub_universes = universe_analysis.generate_sub_universes()\n",
    "len(sub_universes)"
   ]
  },
  {
   "cell_type": "code",
   "execution_count": 65,
   "id": "92adf7ba",
   "metadata": {
    "execution": {
     "iopub.execute_input": "2025-08-05T16:17:18.601001Z",
     "iopub.status.busy": "2025-08-05T16:17:18.600021Z",
     "iopub.status.idle": "2025-08-05T16:17:18.608108Z",
     "shell.execute_reply": "2025-08-05T16:17:18.606955Z"
    },
    "papermill": {
     "duration": 0.053834,
     "end_time": "2025-08-05T16:17:18.610698",
     "exception": false,
     "start_time": "2025-08-05T16:17:18.556864",
     "status": "completed"
    },
    "tags": []
   },
   "outputs": [],
   "source": [
    "def filter_sub_universe_data(sub_universe, org_test):\n",
    "    # Keep all rows — no filtering\n",
    "    keep_rows_mask = np.ones(org_test.shape[0], dtype=bool)\n",
    "\n",
    "    print(f\"[INFO] Keeping all rows: {keep_rows_mask.sum()} rows retained.\")\n",
    "    return keep_rows_mask"
   ]
  },
  {
   "cell_type": "code",
   "execution_count": 66,
   "id": "4a759155",
   "metadata": {
    "execution": {
     "iopub.execute_input": "2025-08-05T16:17:18.649371Z",
     "iopub.status.busy": "2025-08-05T16:17:18.648867Z",
     "iopub.status.idle": "2025-08-05T16:17:28.395471Z",
     "shell.execute_reply": "2025-08-05T16:17:28.394500Z"
    },
    "papermill": {
     "duration": 9.765089,
     "end_time": "2025-08-05T16:17:28.397070",
     "exception": false,
     "start_time": "2025-08-05T16:17:18.631981",
     "status": "completed"
    },
    "tags": []
   },
   "outputs": [
    {
     "name": "stdout",
     "output_type": "stream",
     "text": [
      "Stopping execution_time clock.\n",
      "[INFO] Keeping all rows: 89710 rows retained.\n"
     ]
    },
    {
     "name": "stdout",
     "output_type": "stream",
     "text": [
      "[INFO] Keeping all rows: 89710 rows retained.\n"
     ]
    },
    {
     "name": "stdout",
     "output_type": "stream",
     "text": [
      "[INFO] Keeping all rows: 89710 rows retained.\n"
     ]
    },
    {
     "name": "stdout",
     "output_type": "stream",
     "text": [
      "[INFO] Keeping all rows: 89710 rows retained.\n"
     ]
    },
    {
     "data": {
      "text/html": [
       "<div>\n",
       "<style scoped>\n",
       "    .dataframe tbody tr th:only-of-type {\n",
       "        vertical-align: middle;\n",
       "    }\n",
       "\n",
       "    .dataframe tbody tr th {\n",
       "        vertical-align: top;\n",
       "    }\n",
       "\n",
       "    .dataframe thead th {\n",
       "        text-align: right;\n",
       "    }\n",
       "</style>\n",
       "<table border=\"1\" class=\"dataframe\">\n",
       "  <thead>\n",
       "    <tr style=\"text-align: right;\">\n",
       "      <th></th>\n",
       "      <th>run_no</th>\n",
       "      <th>universe_id</th>\n",
       "      <th>universe_settings</th>\n",
       "      <th>execution_time</th>\n",
       "      <th>test_size_n</th>\n",
       "      <th>test_size_frac</th>\n",
       "      <th>fair_main_equalized_odds_difference</th>\n",
       "      <th>fair_main_equalized_odds_ratio</th>\n",
       "      <th>fair_main_demographic_parity_difference</th>\n",
       "      <th>fair_main_demographic_parity_ratio</th>\n",
       "      <th>...</th>\n",
       "      <th>perf_grp_precision_0</th>\n",
       "      <th>perf_grp_precision_1</th>\n",
       "      <th>perf_grp_false positive rate_0</th>\n",
       "      <th>perf_grp_false positive rate_1</th>\n",
       "      <th>perf_grp_false negative rate_0</th>\n",
       "      <th>perf_grp_false negative rate_1</th>\n",
       "      <th>perf_grp_selection rate_0</th>\n",
       "      <th>perf_grp_selection rate_1</th>\n",
       "      <th>perf_grp_count_0</th>\n",
       "      <th>perf_grp_count_1</th>\n",
       "    </tr>\n",
       "  </thead>\n",
       "  <tbody>\n",
       "    <tr>\n",
       "      <th>0</th>\n",
       "      <td>15</td>\n",
       "      <td>98604c894a83986dd54448eca0c88f5a</td>\n",
       "      <td>{\"cutoff\": \"quantile_0.1\", \"eval_fairness_grou...</td>\n",
       "      <td>30.977439</td>\n",
       "      <td>89710</td>\n",
       "      <td>1.0</td>\n",
       "      <td>0.060081</td>\n",
       "      <td>0.935954</td>\n",
       "      <td>0.054618</td>\n",
       "      <td>0.942026</td>\n",
       "      <td>...</td>\n",
       "      <td>NaN</td>\n",
       "      <td>NaN</td>\n",
       "      <td>NaN</td>\n",
       "      <td>NaN</td>\n",
       "      <td>NaN</td>\n",
       "      <td>NaN</td>\n",
       "      <td>NaN</td>\n",
       "      <td>NaN</td>\n",
       "      <td>NaN</td>\n",
       "      <td>NaN</td>\n",
       "    </tr>\n",
       "    <tr>\n",
       "      <th>0</th>\n",
       "      <td>15</td>\n",
       "      <td>98604c894a83986dd54448eca0c88f5a</td>\n",
       "      <td>{\"cutoff\": \"quantile_0.1\", \"eval_fairness_grou...</td>\n",
       "      <td>30.977439</td>\n",
       "      <td>89710</td>\n",
       "      <td>1.0</td>\n",
       "      <td>0.060081</td>\n",
       "      <td>0.935954</td>\n",
       "      <td>0.054618</td>\n",
       "      <td>0.942026</td>\n",
       "      <td>...</td>\n",
       "      <td>0.119064</td>\n",
       "      <td>0.141412</td>\n",
       "      <td>0.938092</td>\n",
       "      <td>0.878011</td>\n",
       "      <td>0.027027</td>\n",
       "      <td>0.050219</td>\n",
       "      <td>0.942113</td>\n",
       "      <td>0.887495</td>\n",
       "      <td>20540.0</td>\n",
       "      <td>69170.0</td>\n",
       "    </tr>\n",
       "    <tr>\n",
       "      <th>0</th>\n",
       "      <td>15</td>\n",
       "      <td>98604c894a83986dd54448eca0c88f5a</td>\n",
       "      <td>{\"cutoff\": \"quantile_0.25\", \"eval_fairness_gro...</td>\n",
       "      <td>30.977439</td>\n",
       "      <td>89710</td>\n",
       "      <td>1.0</td>\n",
       "      <td>0.144634</td>\n",
       "      <td>0.828396</td>\n",
       "      <td>0.132796</td>\n",
       "      <td>0.844206</td>\n",
       "      <td>...</td>\n",
       "      <td>NaN</td>\n",
       "      <td>NaN</td>\n",
       "      <td>NaN</td>\n",
       "      <td>NaN</td>\n",
       "      <td>NaN</td>\n",
       "      <td>NaN</td>\n",
       "      <td>NaN</td>\n",
       "      <td>NaN</td>\n",
       "      <td>NaN</td>\n",
       "      <td>NaN</td>\n",
       "    </tr>\n",
       "    <tr>\n",
       "      <th>0</th>\n",
       "      <td>15</td>\n",
       "      <td>98604c894a83986dd54448eca0c88f5a</td>\n",
       "      <td>{\"cutoff\": \"quantile_0.25\", \"eval_fairness_gro...</td>\n",
       "      <td>30.977439</td>\n",
       "      <td>89710</td>\n",
       "      <td>1.0</td>\n",
       "      <td>0.144634</td>\n",
       "      <td>0.828396</td>\n",
       "      <td>0.132796</td>\n",
       "      <td>0.844206</td>\n",
       "      <td>...</td>\n",
       "      <td>0.125200</td>\n",
       "      <td>0.157934</td>\n",
       "      <td>0.842835</td>\n",
       "      <td>0.698201</td>\n",
       "      <td>0.074324</td>\n",
       "      <td>0.139934</td>\n",
       "      <td>0.852386</td>\n",
       "      <td>0.719589</td>\n",
       "      <td>20540.0</td>\n",
       "      <td>69170.0</td>\n",
       "    </tr>\n",
       "  </tbody>\n",
       "</table>\n",
       "<p>4 rows × 50 columns</p>\n",
       "</div>"
      ],
      "text/plain": [
       "  run_no                       universe_id  \\\n",
       "0     15  98604c894a83986dd54448eca0c88f5a   \n",
       "0     15  98604c894a83986dd54448eca0c88f5a   \n",
       "0     15  98604c894a83986dd54448eca0c88f5a   \n",
       "0     15  98604c894a83986dd54448eca0c88f5a   \n",
       "\n",
       "                                   universe_settings  execution_time  \\\n",
       "0  {\"cutoff\": \"quantile_0.1\", \"eval_fairness_grou...       30.977439   \n",
       "0  {\"cutoff\": \"quantile_0.1\", \"eval_fairness_grou...       30.977439   \n",
       "0  {\"cutoff\": \"quantile_0.25\", \"eval_fairness_gro...       30.977439   \n",
       "0  {\"cutoff\": \"quantile_0.25\", \"eval_fairness_gro...       30.977439   \n",
       "\n",
       "   test_size_n  test_size_frac  fair_main_equalized_odds_difference  \\\n",
       "0        89710             1.0                             0.060081   \n",
       "0        89710             1.0                             0.060081   \n",
       "0        89710             1.0                             0.144634   \n",
       "0        89710             1.0                             0.144634   \n",
       "\n",
       "   fair_main_equalized_odds_ratio  fair_main_demographic_parity_difference  \\\n",
       "0                        0.935954                                 0.054618   \n",
       "0                        0.935954                                 0.054618   \n",
       "0                        0.828396                                 0.132796   \n",
       "0                        0.828396                                 0.132796   \n",
       "\n",
       "   fair_main_demographic_parity_ratio  ...  perf_grp_precision_0  \\\n",
       "0                            0.942026  ...                   NaN   \n",
       "0                            0.942026  ...              0.119064   \n",
       "0                            0.844206  ...                   NaN   \n",
       "0                            0.844206  ...              0.125200   \n",
       "\n",
       "   perf_grp_precision_1  perf_grp_false positive rate_0  \\\n",
       "0                   NaN                             NaN   \n",
       "0              0.141412                        0.938092   \n",
       "0                   NaN                             NaN   \n",
       "0              0.157934                        0.842835   \n",
       "\n",
       "   perf_grp_false positive rate_1  perf_grp_false negative rate_0  \\\n",
       "0                             NaN                             NaN   \n",
       "0                        0.878011                        0.027027   \n",
       "0                             NaN                             NaN   \n",
       "0                        0.698201                        0.074324   \n",
       "\n",
       "   perf_grp_false negative rate_1  perf_grp_selection rate_0  \\\n",
       "0                             NaN                        NaN   \n",
       "0                        0.050219                   0.942113   \n",
       "0                             NaN                        NaN   \n",
       "0                        0.139934                   0.852386   \n",
       "\n",
       "   perf_grp_selection rate_1  perf_grp_count_0  perf_grp_count_1  \n",
       "0                        NaN               NaN               NaN  \n",
       "0                   0.887495           20540.0           69170.0  \n",
       "0                        NaN               NaN               NaN  \n",
       "0                   0.719589           20540.0           69170.0  \n",
       "\n",
       "[4 rows x 50 columns]"
      ]
     },
     "execution_count": 66,
     "metadata": {},
     "output_type": "execute_result"
    }
   ],
   "source": [
    "final_output = universe_analysis.generate_final_output(\n",
    "    y_pred_prob=probs_test,\n",
    "    y_test=y_true,\n",
    "    org_test=org_test,\n",
    "    filter_data=filter_sub_universe_data,\n",
    "    cp_metrics_df=cp_metrics_df,\n",
    "    save=True,\n",
    ")\n",
    "final_output"
   ]
  }
 ],
 "metadata": {
  "celltoolbar": "Tags",
  "kernelspec": {
   "display_name": "Python (CMA Fairness)",
   "language": "python",
   "name": "cma_fair_env"
  },
  "language_info": {
   "codemirror_mode": {
    "name": "ipython",
    "version": 3
   },
   "file_extension": ".py",
   "mimetype": "text/x-python",
   "name": "python",
   "nbconvert_exporter": "python",
   "pygments_lexer": "ipython3",
   "version": "3.10.12"
  },
  "papermill": {
   "default_parameters": {},
   "duration": 44.776177,
   "end_time": "2025-08-05T16:17:29.135450",
   "environment_variables": {},
   "exception": null,
   "input_path": "universe_analysis.ipynb",
   "output_path": "output/runs/15/notebooks/m_15-98604c894a83986dd54448eca0c88f5a.ipynb",
   "parameters": {
    "output_dir": "output",
    "run_no": "15",
    "seed": "2023",
    "universe": "{\"cutoff\": [\"quantile_0.1\", \"quantile_0.25\"], \"eval_fairness_grouping\": [\"majority-minority\", \"nationality-all\"], \"exclude_features\": \"age\", \"exclude_subgroups\": \"drop-non-german\", \"model\": \"logreg\", \"scale\": \"scale\", \"training_size\": \"1k\", \"training_year\": \"2012_14\"}",
    "universe_id": "98604c894a83986dd54448eca0c88f5a"
   },
   "start_time": "2025-08-05T16:16:44.359273",
   "version": "2.6.0"
  }
 },
 "nbformat": 4,
 "nbformat_minor": 5
}