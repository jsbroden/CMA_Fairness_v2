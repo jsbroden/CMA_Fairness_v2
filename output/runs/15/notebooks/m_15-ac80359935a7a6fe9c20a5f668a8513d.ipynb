{
 "cells": [
  {
   "cell_type": "code",
   "execution_count": 1,
   "id": "f159f837-637b-42ba-96b5-ec9a68c44524",
   "metadata": {
    "execution": {
     "iopub.execute_input": "2025-08-05T15:03:46.823651Z",
     "iopub.status.busy": "2025-08-05T15:03:46.822663Z",
     "iopub.status.idle": "2025-08-05T15:03:46.836418Z",
     "shell.execute_reply": "2025-08-05T15:03:46.835372Z"
    },
    "papermill": {
     "duration": 0.036901,
     "end_time": "2025-08-05T15:03:46.838966",
     "exception": false,
     "start_time": "2025-08-05T15:03:46.802065",
     "status": "completed"
    },
    "tags": []
   },
   "outputs": [
    {
     "name": "stdout",
     "output_type": "stream",
     "text": [
      "/dss/dsshome1/0C/ra93lal2/cma/CMA_Fairness_v2\n"
     ]
    },
    {
     "name": "stderr",
     "output_type": "stream",
     "text": [
      "/dss/dsshome1/0C/ra93lal2/.local/share/virtualenvs/CMA_Fairness_v2-3j10GkSs/lib/python3.10/site-packages/IPython/core/magics/osm.py:393: UserWarning: This is now an optional IPython functionality, using bookmarks requires you to install the `pickleshare` library.\n",
      "  bkms = self.shell.db.get('bookmarks', {})\n",
      "/dss/dsshome1/0C/ra93lal2/.local/share/virtualenvs/CMA_Fairness_v2-3j10GkSs/lib/python3.10/site-packages/IPython/core/magics/osm.py:417: UserWarning: This is now an optional IPython functionality, setting dhist requires you to install the `pickleshare` library.\n",
      "  self.shell.db['dhist'] = compress_dhist(dhist)[-100:]\n"
     ]
    }
   ],
   "source": [
    "%cd ~/cma/CMA_Fairness_v2"
   ]
  },
  {
   "cell_type": "markdown",
   "id": "de2603b9",
   "metadata": {
    "papermill": {
     "duration": 0.016984,
     "end_time": "2025-08-05T15:03:46.870582",
     "exception": false,
     "start_time": "2025-08-05T15:03:46.853598",
     "status": "completed"
    },
    "tags": []
   },
   "source": [
    "The following cell holds the definition of our parameters, these values can be overriden by rendering the with e.g. the following command:\n",
    "\n",
    "papermill -p alpha 0.2 -p ratio 0.3 universe_analysis.ipynb output/test_run.ipynb"
   ]
  },
  {
   "cell_type": "code",
   "execution_count": 2,
   "id": "a80968a0-40bb-4fa9-85ef-2d5eefb01975",
   "metadata": {
    "execution": {
     "iopub.execute_input": "2025-08-05T15:03:46.904977Z",
     "iopub.status.busy": "2025-08-05T15:03:46.904317Z",
     "iopub.status.idle": "2025-08-05T15:03:46.911185Z",
     "shell.execute_reply": "2025-08-05T15:03:46.910198Z"
    },
    "papermill": {
     "duration": 0.025604,
     "end_time": "2025-08-05T15:03:46.912786",
     "exception": false,
     "start_time": "2025-08-05T15:03:46.887182",
     "status": "completed"
    },
    "tags": []
   },
   "outputs": [
    {
     "name": "stdout",
     "output_type": "stream",
     "text": [
      "Current working directory: /dss/dsshome1/0C/ra93lal2/cma/CMA_Fairness_v2\n"
     ]
    }
   ],
   "source": [
    "import os\n",
    "print(\"Current working directory:\", os.getcwd())"
   ]
  },
  {
   "cell_type": "code",
   "execution_count": 3,
   "id": "2dce4c03",
   "metadata": {
    "execution": {
     "iopub.execute_input": "2025-08-05T15:03:46.947070Z",
     "iopub.status.busy": "2025-08-05T15:03:46.946304Z",
     "iopub.status.idle": "2025-08-05T15:03:46.952534Z",
     "shell.execute_reply": "2025-08-05T15:03:46.951637Z"
    },
    "papermill": {
     "duration": 0.024134,
     "end_time": "2025-08-05T15:03:46.953981",
     "exception": false,
     "start_time": "2025-08-05T15:03:46.929847",
     "status": "completed"
    },
    "tags": [
     "parameters"
    ]
   },
   "outputs": [],
   "source": [
    "run_no = 0\n",
    "universe_id = \"test\"\n",
    "universe = {\n",
    "    \"training_size\": \"25k\", # \"25k\", \"5k\", \"1k\"\n",
    "    \"training_year\": \"2014\", # \"2014\", \"2012_14\", \"2010_14\"\n",
    "    \"scale\": \"scale\", # \"scale\", \"do-not-scale\",\n",
    "    \"model\": \"elasticnet\", # \"logreg\", \"penalized_logreg\", \"rf\", \"gbm\", \"elasticnet\"\n",
    "    \"cutoff\": [\"quantile_0.15\", \"quantile_0.30\"],\n",
    "    \"exclude_features\": \"age\", # \"none\", \"nationality\", \"sex\", \"nationality-sex\", \"age\"\n",
    "    \"exclude_subgroups\": \"keep-all\", # \"keep-all\", \"drop-non-german\"\n",
    "    \"eval_fairness_grouping\": [\"majority-minority\", \"nationality-all\"]\n",
    "}\n",
    "\n",
    "output_dir=\"./output\"\n",
    "seed=0"
   ]
  },
  {
   "cell_type": "code",
   "execution_count": 4,
   "id": "079cc9ec",
   "metadata": {
    "execution": {
     "iopub.execute_input": "2025-08-05T15:03:46.986388Z",
     "iopub.status.busy": "2025-08-05T15:03:46.985774Z",
     "iopub.status.idle": "2025-08-05T15:03:46.991157Z",
     "shell.execute_reply": "2025-08-05T15:03:46.990142Z"
    },
    "papermill": {
     "duration": 0.025244,
     "end_time": "2025-08-05T15:03:46.992824",
     "exception": false,
     "start_time": "2025-08-05T15:03:46.967580",
     "status": "completed"
    },
    "tags": [
     "injected-parameters"
    ]
   },
   "outputs": [],
   "source": [
    "# Parameters\n",
    "universe_id = \"ac80359935a7a6fe9c20a5f668a8513d\"\n",
    "run_no = \"15\"\n",
    "universe = \"{\\\"cutoff\\\": [\\\"quantile_0.1\\\", \\\"quantile_0.25\\\"], \\\"eval_fairness_grouping\\\": [\\\"majority-minority\\\", \\\"nationality-all\\\"], \\\"exclude_features\\\": \\\"age\\\", \\\"exclude_subgroups\\\": \\\"drop-non-german\\\", \\\"model\\\": \\\"elasticnet\\\", \\\"scale\\\": \\\"do-not-scale\\\", \\\"training_size\\\": \\\"25k\\\", \\\"training_year\\\": \\\"2012_14\\\"}\"\n",
    "output_dir = \"output\"\n",
    "seed = \"2023\"\n"
   ]
  },
  {
   "cell_type": "code",
   "execution_count": 5,
   "id": "1650acaf",
   "metadata": {
    "execution": {
     "iopub.execute_input": "2025-08-05T15:03:47.066017Z",
     "iopub.status.busy": "2025-08-05T15:03:47.065545Z",
     "iopub.status.idle": "2025-08-05T15:03:47.070716Z",
     "shell.execute_reply": "2025-08-05T15:03:47.069571Z"
    },
    "papermill": {
     "duration": 0.024583,
     "end_time": "2025-08-05T15:03:47.072503",
     "exception": false,
     "start_time": "2025-08-05T15:03:47.047920",
     "status": "completed"
    },
    "tags": []
   },
   "outputs": [],
   "source": [
    "import json\n",
    "if isinstance(universe, str):\n",
    "    universe = json.loads(universe)"
   ]
  },
  {
   "cell_type": "code",
   "execution_count": 6,
   "id": "16620c48",
   "metadata": {
    "execution": {
     "iopub.execute_input": "2025-08-05T15:03:47.107865Z",
     "iopub.status.busy": "2025-08-05T15:03:47.107266Z",
     "iopub.status.idle": "2025-08-05T15:03:47.151424Z",
     "shell.execute_reply": "2025-08-05T15:03:47.150519Z"
    },
    "papermill": {
     "duration": 0.063733,
     "end_time": "2025-08-05T15:03:47.153161",
     "exception": false,
     "start_time": "2025-08-05T15:03:47.089428",
     "status": "completed"
    },
    "tags": []
   },
   "outputs": [],
   "source": [
    "# Auto-reload the custom package\n",
    "%load_ext autoreload\n",
    "%autoreload 1\n",
    "%aimport fairness_multiverse"
   ]
  },
  {
   "cell_type": "code",
   "execution_count": 7,
   "id": "01c5c9f3",
   "metadata": {
    "execution": {
     "iopub.execute_input": "2025-08-05T15:03:47.195682Z",
     "iopub.status.busy": "2025-08-05T15:03:47.194828Z",
     "iopub.status.idle": "2025-08-05T15:03:48.729722Z",
     "shell.execute_reply": "2025-08-05T15:03:48.728851Z"
    },
    "papermill": {
     "duration": 1.558673,
     "end_time": "2025-08-05T15:03:48.731286",
     "exception": false,
     "start_time": "2025-08-05T15:03:47.172613",
     "status": "completed"
    },
    "tags": []
   },
   "outputs": [],
   "source": [
    "from fairness_multiverse.universe import UniverseAnalysis\n",
    "\n",
    "universe_analysis = UniverseAnalysis(\n",
    "    run_no = run_no,\n",
    "    universe_id = universe_id,\n",
    "    universe = universe,\n",
    "    output_dir=output_dir,\n",
    ")"
   ]
  },
  {
   "cell_type": "code",
   "execution_count": 8,
   "id": "106241f5",
   "metadata": {
    "execution": {
     "iopub.execute_input": "2025-08-05T15:03:48.750716Z",
     "iopub.status.busy": "2025-08-05T15:03:48.750030Z",
     "iopub.status.idle": "2025-08-05T15:03:48.755709Z",
     "shell.execute_reply": "2025-08-05T15:03:48.754788Z"
    },
    "papermill": {
     "duration": 0.016812,
     "end_time": "2025-08-05T15:03:48.757150",
     "exception": false,
     "start_time": "2025-08-05T15:03:48.740338",
     "status": "completed"
    },
    "tags": []
   },
   "outputs": [
    {
     "name": "stdout",
     "output_type": "stream",
     "text": [
      "Using Seed: 2023\n"
     ]
    }
   ],
   "source": [
    "import numpy as np\n",
    "parsed_seed = int(seed)\n",
    "np.random.seed(parsed_seed)\n",
    "print(f\"Using Seed: {parsed_seed}\")"
   ]
  },
  {
   "cell_type": "markdown",
   "id": "e0ebdc57",
   "metadata": {
    "papermill": {
     "duration": 0.008929,
     "end_time": "2025-08-05T15:03:48.775616",
     "exception": false,
     "start_time": "2025-08-05T15:03:48.766687",
     "status": "completed"
    },
    "tags": []
   },
   "source": [
    "# Loading Data"
   ]
  },
  {
   "cell_type": "code",
   "execution_count": 9,
   "id": "f0496b8a",
   "metadata": {
    "execution": {
     "iopub.execute_input": "2025-08-05T15:03:48.794300Z",
     "iopub.status.busy": "2025-08-05T15:03:48.793744Z",
     "iopub.status.idle": "2025-08-05T15:04:00.420652Z",
     "shell.execute_reply": "2025-08-05T15:04:00.419562Z"
    },
    "papermill": {
     "duration": 11.638123,
     "end_time": "2025-08-05T15:04:00.422344",
     "exception": false,
     "start_time": "2025-08-05T15:03:48.784221",
     "status": "completed"
    },
    "tags": []
   },
   "outputs": [
    {
     "name": "stdout",
     "output_type": "stream",
     "text": [
      "Loading SIAB data from cache: data/siab_cached.csv.gz\n"
     ]
    },
    {
     "name": "stdout",
     "output_type": "stream",
     "text": [
      "(643690, 164)\n"
     ]
    }
   ],
   "source": [
    "from pathlib import Path\n",
    "import pandas as pd\n",
    "\n",
    "# File paths\n",
    "raw_file = Path(\"data/raw/siab.csv\")\n",
    "cache_file = Path(\"data/siab_cached.csv.gz\")\n",
    "\n",
    "# Ensure cache directory exists\n",
    "cache_file.parent.mkdir(parents=True, exist_ok=True)\n",
    "\n",
    "# Load with simple caching\n",
    "if cache_file.exists():\n",
    "    print(f\"Loading SIAB data from cache: {cache_file}\")\n",
    "    siab = pd.read_csv(cache_file, compression='gzip')\n",
    "else:\n",
    "    print(f\"Cache not found. Reading raw SIAB data: {raw_file}\")\n",
    "    siab = pd.read_csv(raw_file)\n",
    "    siab.to_csv(cache_file, index=False, compression='gzip')\n",
    "    print(f\"Cached SIAB data to: {cache_file}\")\n",
    "\n",
    "print(siab.shape)"
   ]
  },
  {
   "cell_type": "code",
   "execution_count": 10,
   "id": "db0ca512-5f53-4dba-abdb-a2888bca41ba",
   "metadata": {
    "execution": {
     "iopub.execute_input": "2025-08-05T15:04:00.464265Z",
     "iopub.status.busy": "2025-08-05T15:04:00.463838Z",
     "iopub.status.idle": "2025-08-05T15:04:00.469205Z",
     "shell.execute_reply": "2025-08-05T15:04:00.468192Z"
    },
    "papermill": {
     "duration": 0.026467,
     "end_time": "2025-08-05T15:04:00.471011",
     "exception": false,
     "start_time": "2025-08-05T15:04:00.444544",
     "status": "completed"
    },
    "tags": []
   },
   "outputs": [],
   "source": [
    "#siab"
   ]
  },
  {
   "cell_type": "markdown",
   "id": "997051c5-15bd-4b69-9786-c3001a3ce484",
   "metadata": {
    "papermill": {
     "duration": 0.018414,
     "end_time": "2025-08-05T15:04:00.505250",
     "exception": false,
     "start_time": "2025-08-05T15:04:00.486836",
     "status": "completed"
    },
    "tags": []
   },
   "source": [
    "# Splitting Data and Setting Training Data Size"
   ]
  },
  {
   "cell_type": "code",
   "execution_count": 11,
   "id": "aea9c6ef-6f46-42c8-85eb-5a62025c1508",
   "metadata": {
    "execution": {
     "iopub.execute_input": "2025-08-05T15:04:00.539594Z",
     "iopub.status.busy": "2025-08-05T15:04:00.539154Z",
     "iopub.status.idle": "2025-08-05T15:04:01.199850Z",
     "shell.execute_reply": "2025-08-05T15:04:01.198921Z"
    },
    "papermill": {
     "duration": 0.678866,
     "end_time": "2025-08-05T15:04:01.201430",
     "exception": false,
     "start_time": "2025-08-05T15:04:00.522564",
     "status": "completed"
    },
    "tags": []
   },
   "outputs": [],
   "source": [
    "from fairness_multiverse.universe import sample_by_year_size\n",
    "\n",
    "siab_train = sample_by_year_size(siab,\n",
    "                               training_year=universe[\"training_year\"],\n",
    "                               training_size=universe[\"training_size\"])"
   ]
  },
  {
   "cell_type": "code",
   "execution_count": 12,
   "id": "8d3afb32-789d-442c-8d5d-9f5aa8dd2eed",
   "metadata": {
    "execution": {
     "iopub.execute_input": "2025-08-05T15:04:01.237392Z",
     "iopub.status.busy": "2025-08-05T15:04:01.236998Z",
     "iopub.status.idle": "2025-08-05T15:04:01.241816Z",
     "shell.execute_reply": "2025-08-05T15:04:01.240628Z"
    },
    "papermill": {
     "duration": 0.023945,
     "end_time": "2025-08-05T15:04:01.243546",
     "exception": false,
     "start_time": "2025-08-05T15:04:01.219601",
     "status": "completed"
    },
    "tags": []
   },
   "outputs": [],
   "source": [
    "#siab_train.shape"
   ]
  },
  {
   "cell_type": "code",
   "execution_count": 13,
   "id": "d582db68-1a4c-47fb-84fc-08518dc1975a",
   "metadata": {
    "execution": {
     "iopub.execute_input": "2025-08-05T15:04:01.277459Z",
     "iopub.status.busy": "2025-08-05T15:04:01.276656Z",
     "iopub.status.idle": "2025-08-05T15:04:01.281096Z",
     "shell.execute_reply": "2025-08-05T15:04:01.280292Z"
    },
    "papermill": {
     "duration": 0.022619,
     "end_time": "2025-08-05T15:04:01.282741",
     "exception": false,
     "start_time": "2025-08-05T15:04:01.260122",
     "status": "completed"
    },
    "tags": []
   },
   "outputs": [],
   "source": [
    "#display(siab_train.groupby(\"year\").size())"
   ]
  },
  {
   "cell_type": "code",
   "execution_count": 14,
   "id": "a561edb4-d032-42cb-8256-22eac1111c64",
   "metadata": {
    "execution": {
     "iopub.execute_input": "2025-08-05T15:04:01.316081Z",
     "iopub.status.busy": "2025-08-05T15:04:01.315620Z",
     "iopub.status.idle": "2025-08-05T15:04:01.553996Z",
     "shell.execute_reply": "2025-08-05T15:04:01.553023Z"
    },
    "papermill": {
     "duration": 0.256601,
     "end_time": "2025-08-05T15:04:01.555818",
     "exception": false,
     "start_time": "2025-08-05T15:04:01.299217",
     "status": "completed"
    },
    "tags": []
   },
   "outputs": [],
   "source": [
    "#siab_train = siab_s[siab_s.year < 2015]\n",
    "siab_calib = siab[siab.year == 2015]\n",
    "siab_test = siab[siab.year == 2016]"
   ]
  },
  {
   "cell_type": "code",
   "execution_count": 15,
   "id": "472de16f-c3db-4916-846b-1f0de9cf1746",
   "metadata": {
    "execution": {
     "iopub.execute_input": "2025-08-05T15:04:01.589450Z",
     "iopub.status.busy": "2025-08-05T15:04:01.588841Z",
     "iopub.status.idle": "2025-08-05T15:04:01.604775Z",
     "shell.execute_reply": "2025-08-05T15:04:01.603541Z"
    },
    "papermill": {
     "duration": 0.034715,
     "end_time": "2025-08-05T15:04:01.606923",
     "exception": false,
     "start_time": "2025-08-05T15:04:01.572208",
     "status": "completed"
    },
    "tags": []
   },
   "outputs": [],
   "source": [
    "X_train = siab_train.iloc[:,4:164]\n",
    "y_train = siab_train.iloc[:, [3]]"
   ]
  },
  {
   "cell_type": "code",
   "execution_count": 16,
   "id": "828c96af-f43a-4ed6-ba47-8ac73a47d56c",
   "metadata": {
    "execution": {
     "iopub.execute_input": "2025-08-05T15:04:01.645651Z",
     "iopub.status.busy": "2025-08-05T15:04:01.645024Z",
     "iopub.status.idle": "2025-08-05T15:04:01.695051Z",
     "shell.execute_reply": "2025-08-05T15:04:01.693753Z"
    },
    "papermill": {
     "duration": 0.070896,
     "end_time": "2025-08-05T15:04:01.697092",
     "exception": false,
     "start_time": "2025-08-05T15:04:01.626196",
     "status": "completed"
    },
    "tags": []
   },
   "outputs": [],
   "source": [
    "X_calib = siab_calib.iloc[:,4:164]\n",
    "y_calib = siab_calib.iloc[:, [3]]"
   ]
  },
  {
   "cell_type": "code",
   "execution_count": 17,
   "id": "c34be9c3-6bd6-476e-acd3-845840e303be",
   "metadata": {
    "execution": {
     "iopub.execute_input": "2025-08-05T15:04:01.734814Z",
     "iopub.status.busy": "2025-08-05T15:04:01.734215Z",
     "iopub.status.idle": "2025-08-05T15:04:01.784386Z",
     "shell.execute_reply": "2025-08-05T15:04:01.783272Z"
    },
    "papermill": {
     "duration": 0.070297,
     "end_time": "2025-08-05T15:04:01.786510",
     "exception": false,
     "start_time": "2025-08-05T15:04:01.716213",
     "status": "completed"
    },
    "tags": []
   },
   "outputs": [],
   "source": [
    "X_test = siab_test.iloc[:,4:164]\n",
    "y_true = siab_test.iloc[:, [3]]"
   ]
  },
  {
   "cell_type": "code",
   "execution_count": 18,
   "id": "e6c733c5",
   "metadata": {
    "execution": {
     "iopub.execute_input": "2025-08-05T15:04:01.822066Z",
     "iopub.status.busy": "2025-08-05T15:04:01.821191Z",
     "iopub.status.idle": "2025-08-05T15:04:01.929418Z",
     "shell.execute_reply": "2025-08-05T15:04:01.928420Z"
    },
    "papermill": {
     "duration": 0.127538,
     "end_time": "2025-08-05T15:04:01.931296",
     "exception": false,
     "start_time": "2025-08-05T15:04:01.803758",
     "status": "completed"
    },
    "tags": []
   },
   "outputs": [],
   "source": [
    "# Auxiliary data needed downstream in the pipeline\n",
    "\n",
    "org_train = X_train.copy()\n",
    "org_test = X_test.copy()\n",
    "org_calib = X_calib.copy()"
   ]
  },
  {
   "cell_type": "markdown",
   "id": "0a4a1b33",
   "metadata": {
    "papermill": {
     "duration": 0.015747,
     "end_time": "2025-08-05T15:04:01.963669",
     "exception": false,
     "start_time": "2025-08-05T15:04:01.947922",
     "status": "completed"
    },
    "tags": []
   },
   "source": [
    "# Preprocessing Data"
   ]
  },
  {
   "cell_type": "code",
   "execution_count": 19,
   "id": "ca879031",
   "metadata": {
    "execution": {
     "iopub.execute_input": "2025-08-05T15:04:01.996945Z",
     "iopub.status.busy": "2025-08-05T15:04:01.996459Z",
     "iopub.status.idle": "2025-08-05T15:04:02.002691Z",
     "shell.execute_reply": "2025-08-05T15:04:02.001764Z"
    },
    "papermill": {
     "duration": 0.024853,
     "end_time": "2025-08-05T15:04:02.004396",
     "exception": false,
     "start_time": "2025-08-05T15:04:01.979543",
     "status": "completed"
    },
    "tags": []
   },
   "outputs": [],
   "source": [
    "# EXCLUDE PROTECTED FEATURES\n",
    "# ----------------------\n",
    "# \"exclude_features\": \"none\", # \"nationality\", \"sex\", \"nationality-sex\"\n",
    "\n",
    "excluded_features = universe[\"exclude_features\"].split(\"-\") # split, e.g.: \"nationality-sex\" -> [\"nationality\", \"sex\"]\n",
    "excluded_features_dictionary = {\n",
    "    \"nationality\": [\"maxdeutsch1\", \"maxdeutsch.Missing.\"],\n",
    "    \"sex\": [\"frau1\"],\n",
    "    \"age\": [\"age\"],\n",
    "}"
   ]
  },
  {
   "cell_type": "code",
   "execution_count": 20,
   "id": "b745ac60",
   "metadata": {
    "execution": {
     "iopub.execute_input": "2025-08-05T15:04:02.038941Z",
     "iopub.status.busy": "2025-08-05T15:04:02.038116Z",
     "iopub.status.idle": "2025-08-05T15:04:02.043517Z",
     "shell.execute_reply": "2025-08-05T15:04:02.042572Z"
    },
    "papermill": {
     "duration": 0.024036,
     "end_time": "2025-08-05T15:04:02.045305",
     "exception": false,
     "start_time": "2025-08-05T15:04:02.021269",
     "status": "completed"
    },
    "tags": []
   },
   "outputs": [],
   "source": [
    "# Code nice names to column names\n",
    "\n",
    "excluded_features_columns = [\n",
    "    excluded_features_dictionary[f] for f in excluded_features if len(f) > 0 and f != \"none\"\n",
    "]"
   ]
  },
  {
   "cell_type": "code",
   "execution_count": 21,
   "id": "f84f73a2",
   "metadata": {
    "execution": {
     "iopub.execute_input": "2025-08-05T15:04:02.083711Z",
     "iopub.status.busy": "2025-08-05T15:04:02.082864Z",
     "iopub.status.idle": "2025-08-05T15:04:02.088885Z",
     "shell.execute_reply": "2025-08-05T15:04:02.087928Z"
    },
    "papermill": {
     "duration": 0.026377,
     "end_time": "2025-08-05T15:04:02.090626",
     "exception": false,
     "start_time": "2025-08-05T15:04:02.064249",
     "status": "completed"
    },
    "tags": []
   },
   "outputs": [],
   "source": [
    "from utils import flatten_once\n",
    "\n",
    "excluded_features_columns = flatten_once(excluded_features_columns)"
   ]
  },
  {
   "cell_type": "code",
   "execution_count": 22,
   "id": "884dea22",
   "metadata": {
    "execution": {
     "iopub.execute_input": "2025-08-05T15:04:02.124987Z",
     "iopub.status.busy": "2025-08-05T15:04:02.124310Z",
     "iopub.status.idle": "2025-08-05T15:04:02.150519Z",
     "shell.execute_reply": "2025-08-05T15:04:02.149375Z"
    },
    "papermill": {
     "duration": 0.044797,
     "end_time": "2025-08-05T15:04:02.152218",
     "exception": false,
     "start_time": "2025-08-05T15:04:02.107421",
     "status": "completed"
    },
    "tags": []
   },
   "outputs": [
    {
     "name": "stdout",
     "output_type": "stream",
     "text": [
      "Dropping features: ['age']\n"
     ]
    }
   ],
   "source": [
    "if len(excluded_features_columns) > 0:\n",
    "    print(f\"Dropping features: {excluded_features_columns}\")\n",
    "    X_train.drop(excluded_features_columns, axis=1, inplace=True)"
   ]
  },
  {
   "cell_type": "code",
   "execution_count": 23,
   "id": "95ab8b16",
   "metadata": {
    "execution": {
     "iopub.execute_input": "2025-08-05T15:04:02.187474Z",
     "iopub.status.busy": "2025-08-05T15:04:02.186714Z",
     "iopub.status.idle": "2025-08-05T15:04:02.241680Z",
     "shell.execute_reply": "2025-08-05T15:04:02.240870Z"
    },
    "papermill": {
     "duration": 0.073541,
     "end_time": "2025-08-05T15:04:02.243168",
     "exception": false,
     "start_time": "2025-08-05T15:04:02.169627",
     "status": "completed"
    },
    "tags": []
   },
   "outputs": [
    {
     "name": "stdout",
     "output_type": "stream",
     "text": [
      "Dropping features: ['age']\n"
     ]
    }
   ],
   "source": [
    "if len(excluded_features_columns) > 0:\n",
    "    print(f\"Dropping features: {excluded_features_columns}\")\n",
    "    X_test.drop(excluded_features_columns, axis=1, inplace=True)"
   ]
  },
  {
   "cell_type": "code",
   "execution_count": 24,
   "id": "1853aaf5-fb9f-46cb-a2b5-8ea4ae2237e4",
   "metadata": {
    "execution": {
     "iopub.execute_input": "2025-08-05T15:04:02.267038Z",
     "iopub.status.busy": "2025-08-05T15:04:02.266418Z",
     "iopub.status.idle": "2025-08-05T15:04:02.319452Z",
     "shell.execute_reply": "2025-08-05T15:04:02.318455Z"
    },
    "papermill": {
     "duration": 0.064955,
     "end_time": "2025-08-05T15:04:02.320980",
     "exception": false,
     "start_time": "2025-08-05T15:04:02.256025",
     "status": "completed"
    },
    "tags": []
   },
   "outputs": [
    {
     "name": "stdout",
     "output_type": "stream",
     "text": [
      "Dropping features: ['age']\n"
     ]
    }
   ],
   "source": [
    "if len(excluded_features_columns) > 0:\n",
    "    print(f\"Dropping features: {excluded_features_columns}\")\n",
    "    X_calib.drop(excluded_features_columns, axis=1, inplace=True)"
   ]
  },
  {
   "cell_type": "code",
   "execution_count": 25,
   "id": "76c4dc6d",
   "metadata": {
    "execution": {
     "iopub.execute_input": "2025-08-05T15:04:02.342202Z",
     "iopub.status.busy": "2025-08-05T15:04:02.341903Z",
     "iopub.status.idle": "2025-08-05T15:04:02.346306Z",
     "shell.execute_reply": "2025-08-05T15:04:02.345218Z"
    },
    "papermill": {
     "duration": 0.016298,
     "end_time": "2025-08-05T15:04:02.348042",
     "exception": false,
     "start_time": "2025-08-05T15:04:02.331744",
     "status": "completed"
    },
    "tags": []
   },
   "outputs": [],
   "source": [
    "# EXCLUDE CERTAIN SUBGROUPS\n",
    "# ----------------------\n",
    "\n",
    "mode = universe.get(\"exclude_subgroups\", \"keep-all\") \n",
    "# Fetches the exclude_subgroups setting from the universe dict.\n",
    "# Defaults to \"keep-all\" if the key is missing."
   ]
  },
  {
   "cell_type": "code",
   "execution_count": 26,
   "id": "21994072",
   "metadata": {
    "execution": {
     "iopub.execute_input": "2025-08-05T15:04:02.386888Z",
     "iopub.status.busy": "2025-08-05T15:04:02.386134Z",
     "iopub.status.idle": "2025-08-05T15:04:02.392836Z",
     "shell.execute_reply": "2025-08-05T15:04:02.391847Z"
    },
    "papermill": {
     "duration": 0.027682,
     "end_time": "2025-08-05T15:04:02.394625",
     "exception": false,
     "start_time": "2025-08-05T15:04:02.366943",
     "status": "completed"
    },
    "tags": []
   },
   "outputs": [],
   "source": [
    "if mode == \"keep-all\":\n",
    "    keep_mask = pd.Series(True, index=org_train.index)\n",
    "\n",
    "# org_train contains the original feature columns from features_org (in Simson)\n",
    "# features_org contains unprocessed features, for me X_train at beginning ???\n",
    "# For keep-all, creates a boolean Series (keep_mask) of all True, so no rows are removed.\n",
    "\n",
    "elif mode == \"drop-non-german\":\n",
    "    keep_mask = org_train[\"maxdeutsch1\"] == 1 # ??? what about missing values?\n",
    "\n",
    "else:\n",
    "    raise ValueError(f\"Unsupported mode for exclude_subgroups: {mode}\")"
   ]
  },
  {
   "cell_type": "code",
   "execution_count": 27,
   "id": "71651440",
   "metadata": {
    "execution": {
     "iopub.execute_input": "2025-08-05T15:04:02.419287Z",
     "iopub.status.busy": "2025-08-05T15:04:02.418905Z",
     "iopub.status.idle": "2025-08-05T15:04:02.425231Z",
     "shell.execute_reply": "2025-08-05T15:04:02.424221Z"
    },
    "papermill": {
     "duration": 0.018169,
     "end_time": "2025-08-05T15:04:02.427053",
     "exception": false,
     "start_time": "2025-08-05T15:04:02.408884",
     "status": "completed"
    },
    "tags": []
   },
   "outputs": [
    {
     "name": "stdout",
     "output_type": "stream",
     "text": [
      "Dropping 3481 rows (13.92%) where mode='drop-non-german'\n"
     ]
    }
   ],
   "source": [
    "n_drop = (~keep_mask).sum() # Calculates how many rows are set to be dropped\n",
    "if n_drop > 0:\n",
    "    pct = n_drop / len(keep_mask) * 100\n",
    "    print(f\"Dropping {n_drop} rows ({pct:.2f}%) where mode='{mode}'\")"
   ]
  },
  {
   "cell_type": "code",
   "execution_count": 28,
   "id": "5fb8eee5",
   "metadata": {
    "execution": {
     "iopub.execute_input": "2025-08-05T15:04:02.464603Z",
     "iopub.status.busy": "2025-08-05T15:04:02.464181Z",
     "iopub.status.idle": "2025-08-05T15:04:02.485551Z",
     "shell.execute_reply": "2025-08-05T15:04:02.484390Z"
    },
    "papermill": {
     "duration": 0.042292,
     "end_time": "2025-08-05T15:04:02.487475",
     "exception": false,
     "start_time": "2025-08-05T15:04:02.445183",
     "status": "completed"
    },
    "tags": []
   },
   "outputs": [],
   "source": [
    "X_train = X_train[keep_mask]"
   ]
  },
  {
   "cell_type": "code",
   "execution_count": 29,
   "id": "b202bb3a",
   "metadata": {
    "execution": {
     "iopub.execute_input": "2025-08-05T15:04:02.525107Z",
     "iopub.status.busy": "2025-08-05T15:04:02.524340Z",
     "iopub.status.idle": "2025-08-05T15:04:02.530765Z",
     "shell.execute_reply": "2025-08-05T15:04:02.529658Z"
    },
    "papermill": {
     "duration": 0.026664,
     "end_time": "2025-08-05T15:04:02.532714",
     "exception": false,
     "start_time": "2025-08-05T15:04:02.506050",
     "status": "completed"
    },
    "tags": []
   },
   "outputs": [],
   "source": [
    "y_train = y_train[keep_mask]"
   ]
  },
  {
   "cell_type": "markdown",
   "id": "493e2ac3",
   "metadata": {
    "papermill": {
     "duration": 0.018383,
     "end_time": "2025-08-05T15:04:02.570717",
     "exception": false,
     "start_time": "2025-08-05T15:04:02.552334",
     "status": "completed"
    },
    "tags": []
   },
   "source": [
    "# Model Training"
   ]
  },
  {
   "cell_type": "code",
   "execution_count": 30,
   "id": "679e1268",
   "metadata": {
    "execution": {
     "iopub.execute_input": "2025-08-05T15:04:02.608557Z",
     "iopub.status.busy": "2025-08-05T15:04:02.607896Z",
     "iopub.status.idle": "2025-08-05T15:04:02.707337Z",
     "shell.execute_reply": "2025-08-05T15:04:02.706408Z"
    },
    "papermill": {
     "duration": 0.119983,
     "end_time": "2025-08-05T15:04:02.708870",
     "exception": false,
     "start_time": "2025-08-05T15:04:02.588887",
     "status": "completed"
    },
    "tags": []
   },
   "outputs": [],
   "source": [
    "from sklearn.linear_model import LogisticRegression\n",
    "from sklearn.ensemble import GradientBoostingClassifier, RandomForestClassifier\n",
    "\n",
    "if (universe[\"model\"] == \"logreg\"):\n",
    "    model = LogisticRegression() #penalty=\"none\", solver=\"newton-cg\", max_iter=1) # include random_state=19 ?\n",
    "elif (universe[\"model\"] == \"penalized_logreg\"):\n",
    "    model = LogisticRegression(penalty=\"l2\", C=0.1) #, solver=\"newton-cg\", max_iter=1)\n",
    "elif (universe[\"model\"] == \"rf\"):\n",
    "    model = RandomForestClassifier() # n_estimators=100, n_jobs=-1\n",
    "elif (universe[\"model\"] == \"gbm\"):\n",
    "    model = GradientBoostingClassifier()\n",
    "elif (universe[\"model\"] == \"elasticnet\"):\n",
    "    model = LogisticRegression(penalty = 'elasticnet', solver = 'saga', l1_ratio = 0.5) # max_iter=5000\n",
    "else:\n",
    "    raise \"Unsupported universe.model\""
   ]
  },
  {
   "cell_type": "code",
   "execution_count": 31,
   "id": "0cc8f744",
   "metadata": {
    "execution": {
     "iopub.execute_input": "2025-08-05T15:04:02.747591Z",
     "iopub.status.busy": "2025-08-05T15:04:02.746961Z",
     "iopub.status.idle": "2025-08-05T15:04:02.753314Z",
     "shell.execute_reply": "2025-08-05T15:04:02.752261Z"
    },
    "papermill": {
     "duration": 0.027163,
     "end_time": "2025-08-05T15:04:02.755190",
     "exception": false,
     "start_time": "2025-08-05T15:04:02.728027",
     "status": "completed"
    },
    "tags": []
   },
   "outputs": [],
   "source": [
    "import numpy as np\n",
    "from sklearn.pipeline import Pipeline\n",
    "from sklearn.preprocessing import StandardScaler\n",
    "\n",
    "model = Pipeline([\n",
    "    #(\"continuous_processor\", continuous_processor),\n",
    "    #(\"categorical_preprocessor\", categorical_preprocessor),\n",
    "    (\"scale\", StandardScaler() if universe[\"scale\"] == \"scale\" else None), \n",
    "    (\"model\", model),\n",
    "])"
   ]
  },
  {
   "cell_type": "code",
   "execution_count": 32,
   "id": "9442c04d",
   "metadata": {
    "execution": {
     "iopub.execute_input": "2025-08-05T15:04:02.795832Z",
     "iopub.status.busy": "2025-08-05T15:04:02.795216Z",
     "iopub.status.idle": "2025-08-05T15:04:09.815418Z",
     "shell.execute_reply": "2025-08-05T15:04:09.814452Z"
    },
    "papermill": {
     "duration": 7.041348,
     "end_time": "2025-08-05T15:04:09.816675",
     "exception": false,
     "start_time": "2025-08-05T15:04:02.775327",
     "status": "completed"
    },
    "tags": []
   },
   "outputs": [
    {
     "name": "stderr",
     "output_type": "stream",
     "text": [
      "/dss/dsshome1/0C/ra93lal2/.local/share/virtualenvs/CMA_Fairness_v2-3j10GkSs/lib/python3.10/site-packages/sklearn/linear_model/_sag.py:350: ConvergenceWarning: The max_iter was reached which means the coef_ did not converge\n",
      "  warnings.warn(\n"
     ]
    },
    {
     "data": {
      "text/html": [
       "<style>#sk-container-id-1 {color: black;background-color: white;}#sk-container-id-1 pre{padding: 0;}#sk-container-id-1 div.sk-toggleable {background-color: white;}#sk-container-id-1 label.sk-toggleable__label {cursor: pointer;display: block;width: 100%;margin-bottom: 0;padding: 0.3em;box-sizing: border-box;text-align: center;}#sk-container-id-1 label.sk-toggleable__label-arrow:before {content: \"▸\";float: left;margin-right: 0.25em;color: #696969;}#sk-container-id-1 label.sk-toggleable__label-arrow:hover:before {color: black;}#sk-container-id-1 div.sk-estimator:hover label.sk-toggleable__label-arrow:before {color: black;}#sk-container-id-1 div.sk-toggleable__content {max-height: 0;max-width: 0;overflow: hidden;text-align: left;background-color: #f0f8ff;}#sk-container-id-1 div.sk-toggleable__content pre {margin: 0.2em;color: black;border-radius: 0.25em;background-color: #f0f8ff;}#sk-container-id-1 input.sk-toggleable__control:checked~div.sk-toggleable__content {max-height: 200px;max-width: 100%;overflow: auto;}#sk-container-id-1 input.sk-toggleable__control:checked~label.sk-toggleable__label-arrow:before {content: \"▾\";}#sk-container-id-1 div.sk-estimator input.sk-toggleable__control:checked~label.sk-toggleable__label {background-color: #d4ebff;}#sk-container-id-1 div.sk-label input.sk-toggleable__control:checked~label.sk-toggleable__label {background-color: #d4ebff;}#sk-container-id-1 input.sk-hidden--visually {border: 0;clip: rect(1px 1px 1px 1px);clip: rect(1px, 1px, 1px, 1px);height: 1px;margin: -1px;overflow: hidden;padding: 0;position: absolute;width: 1px;}#sk-container-id-1 div.sk-estimator {font-family: monospace;background-color: #f0f8ff;border: 1px dotted black;border-radius: 0.25em;box-sizing: border-box;margin-bottom: 0.5em;}#sk-container-id-1 div.sk-estimator:hover {background-color: #d4ebff;}#sk-container-id-1 div.sk-parallel-item::after {content: \"\";width: 100%;border-bottom: 1px solid gray;flex-grow: 1;}#sk-container-id-1 div.sk-label:hover label.sk-toggleable__label {background-color: #d4ebff;}#sk-container-id-1 div.sk-serial::before {content: \"\";position: absolute;border-left: 1px solid gray;box-sizing: border-box;top: 0;bottom: 0;left: 50%;z-index: 0;}#sk-container-id-1 div.sk-serial {display: flex;flex-direction: column;align-items: center;background-color: white;padding-right: 0.2em;padding-left: 0.2em;position: relative;}#sk-container-id-1 div.sk-item {position: relative;z-index: 1;}#sk-container-id-1 div.sk-parallel {display: flex;align-items: stretch;justify-content: center;background-color: white;position: relative;}#sk-container-id-1 div.sk-item::before, #sk-container-id-1 div.sk-parallel-item::before {content: \"\";position: absolute;border-left: 1px solid gray;box-sizing: border-box;top: 0;bottom: 0;left: 50%;z-index: -1;}#sk-container-id-1 div.sk-parallel-item {display: flex;flex-direction: column;z-index: 1;position: relative;background-color: white;}#sk-container-id-1 div.sk-parallel-item:first-child::after {align-self: flex-end;width: 50%;}#sk-container-id-1 div.sk-parallel-item:last-child::after {align-self: flex-start;width: 50%;}#sk-container-id-1 div.sk-parallel-item:only-child::after {width: 0;}#sk-container-id-1 div.sk-dashed-wrapped {border: 1px dashed gray;margin: 0 0.4em 0.5em 0.4em;box-sizing: border-box;padding-bottom: 0.4em;background-color: white;}#sk-container-id-1 div.sk-label label {font-family: monospace;font-weight: bold;display: inline-block;line-height: 1.2em;}#sk-container-id-1 div.sk-label-container {text-align: center;}#sk-container-id-1 div.sk-container {/* jupyter's `normalize.less` sets `[hidden] { display: none; }` but bootstrap.min.css set `[hidden] { display: none !important; }` so we also need the `!important` here to be able to override the default hidden behavior on the sphinx rendered scikit-learn.org. See: https://github.com/scikit-learn/scikit-learn/issues/21755 */display: inline-block !important;position: relative;}#sk-container-id-1 div.sk-text-repr-fallback {display: none;}</style><div id=\"sk-container-id-1\" class=\"sk-top-container\"><div class=\"sk-text-repr-fallback\"><pre>Pipeline(steps=[(&#x27;scale&#x27;, None),\n",
       "                (&#x27;model&#x27;,\n",
       "                 LogisticRegression(l1_ratio=0.5, penalty=&#x27;elasticnet&#x27;,\n",
       "                                    solver=&#x27;saga&#x27;))])</pre><b>In a Jupyter environment, please rerun this cell to show the HTML representation or trust the notebook. <br />On GitHub, the HTML representation is unable to render, please try loading this page with nbviewer.org.</b></div><div class=\"sk-container\" hidden><div class=\"sk-item sk-dashed-wrapped\"><div class=\"sk-label-container\"><div class=\"sk-label sk-toggleable\"><input class=\"sk-toggleable__control sk-hidden--visually\" id=\"sk-estimator-id-1\" type=\"checkbox\" ><label for=\"sk-estimator-id-1\" class=\"sk-toggleable__label sk-toggleable__label-arrow\">Pipeline</label><div class=\"sk-toggleable__content\"><pre>Pipeline(steps=[(&#x27;scale&#x27;, None),\n",
       "                (&#x27;model&#x27;,\n",
       "                 LogisticRegression(l1_ratio=0.5, penalty=&#x27;elasticnet&#x27;,\n",
       "                                    solver=&#x27;saga&#x27;))])</pre></div></div></div><div class=\"sk-serial\"><div class=\"sk-item\"><div class=\"sk-estimator sk-toggleable\"><input class=\"sk-toggleable__control sk-hidden--visually\" id=\"sk-estimator-id-2\" type=\"checkbox\" ><label for=\"sk-estimator-id-2\" class=\"sk-toggleable__label sk-toggleable__label-arrow\">None</label><div class=\"sk-toggleable__content\"><pre>None</pre></div></div></div><div class=\"sk-item\"><div class=\"sk-estimator sk-toggleable\"><input class=\"sk-toggleable__control sk-hidden--visually\" id=\"sk-estimator-id-3\" type=\"checkbox\" ><label for=\"sk-estimator-id-3\" class=\"sk-toggleable__label sk-toggleable__label-arrow\">LogisticRegression</label><div class=\"sk-toggleable__content\"><pre>LogisticRegression(l1_ratio=0.5, penalty=&#x27;elasticnet&#x27;, solver=&#x27;saga&#x27;)</pre></div></div></div></div></div></div></div>"
      ],
      "text/plain": [
       "Pipeline(steps=[('scale', None),\n",
       "                ('model',\n",
       "                 LogisticRegression(l1_ratio=0.5, penalty='elasticnet',\n",
       "                                    solver='saga'))])"
      ]
     },
     "execution_count": 32,
     "metadata": {},
     "output_type": "execute_result"
    }
   ],
   "source": [
    "model.fit(X_train, y_train.values.ravel())"
   ]
  },
  {
   "cell_type": "code",
   "execution_count": 33,
   "id": "af59f8c0",
   "metadata": {
    "execution": {
     "iopub.execute_input": "2025-08-05T15:04:09.840892Z",
     "iopub.status.busy": "2025-08-05T15:04:09.840547Z",
     "iopub.status.idle": "2025-08-05T15:04:09.844874Z",
     "shell.execute_reply": "2025-08-05T15:04:09.844099Z"
    },
    "papermill": {
     "duration": 0.016723,
     "end_time": "2025-08-05T15:04:09.846494",
     "exception": false,
     "start_time": "2025-08-05T15:04:09.829771",
     "status": "completed"
    },
    "tags": []
   },
   "outputs": [],
   "source": [
    "from fairness_multiverse.universe import predict_w_threshold"
   ]
  },
  {
   "cell_type": "code",
   "execution_count": 34,
   "id": "a7cf2e16",
   "metadata": {
    "execution": {
     "iopub.execute_input": "2025-08-05T15:04:09.869041Z",
     "iopub.status.busy": "2025-08-05T15:04:09.868279Z",
     "iopub.status.idle": "2025-08-05T15:04:09.951760Z",
     "shell.execute_reply": "2025-08-05T15:04:09.950900Z"
    },
    "papermill": {
     "duration": 0.095774,
     "end_time": "2025-08-05T15:04:09.953097",
     "exception": false,
     "start_time": "2025-08-05T15:04:09.857323",
     "status": "completed"
    },
    "tags": []
   },
   "outputs": [
    {
     "data": {
      "text/plain": [
       "0.8637164195741834"
      ]
     },
     "execution_count": 34,
     "metadata": {},
     "output_type": "execute_result"
    }
   ],
   "source": [
    "probs_test = model.predict_proba(X_test)\n",
    "\n",
    "'''\n",
    "Below code returns a boolean array (or binary 0/1 array depending on how it’s used) where each element \n",
    "is True if the probability of class 1 is greater than or equal to the threshold, and False otherwise.\n",
    "'''\n",
    "y_pred_default = predict_w_threshold(probs_test, 0.5)\n",
    "\n",
    "from sklearn.metrics import accuracy_score\n",
    "\n",
    "# Naive prediction\n",
    "accuracy_score(y_true = y_true, y_pred = y_pred_default)"
   ]
  },
  {
   "cell_type": "code",
   "execution_count": 35,
   "id": "081964c3",
   "metadata": {
    "execution": {
     "iopub.execute_input": "2025-08-05T15:04:09.975770Z",
     "iopub.status.busy": "2025-08-05T15:04:09.975421Z",
     "iopub.status.idle": "2025-08-05T15:04:10.051639Z",
     "shell.execute_reply": "2025-08-05T15:04:10.050777Z"
    },
    "papermill": {
     "duration": 0.088849,
     "end_time": "2025-08-05T15:04:10.052990",
     "exception": false,
     "start_time": "2025-08-05T15:04:09.964141",
     "status": "completed"
    },
    "tags": []
   },
   "outputs": [
    {
     "data": {
      "text/plain": [
       "array([0, 0, 0, ..., 0, 0, 0])"
      ]
     },
     "execution_count": 35,
     "metadata": {},
     "output_type": "execute_result"
    }
   ],
   "source": [
    "model.predict(X_test)"
   ]
  },
  {
   "cell_type": "markdown",
   "id": "56c9705b",
   "metadata": {
    "papermill": {
     "duration": 0.010184,
     "end_time": "2025-08-05T15:04:10.074186",
     "exception": false,
     "start_time": "2025-08-05T15:04:10.064002",
     "status": "completed"
    },
    "tags": []
   },
   "source": [
    "# Conformal Prediction"
   ]
  },
  {
   "cell_type": "code",
   "execution_count": 36,
   "id": "160ec6ff",
   "metadata": {
    "execution": {
     "iopub.execute_input": "2025-08-05T15:04:10.096177Z",
     "iopub.status.busy": "2025-08-05T15:04:10.095670Z",
     "iopub.status.idle": "2025-08-05T15:04:10.100480Z",
     "shell.execute_reply": "2025-08-05T15:04:10.099669Z"
    },
    "papermill": {
     "duration": 0.017569,
     "end_time": "2025-08-05T15:04:10.101969",
     "exception": false,
     "start_time": "2025-08-05T15:04:10.084400",
     "status": "completed"
    },
    "tags": []
   },
   "outputs": [],
   "source": [
    "# Miscoverage level for conformal prediction (10% allowed error rate => 90% target coverage)\n",
    "alpha = 0.1"
   ]
  },
  {
   "cell_type": "code",
   "execution_count": 37,
   "id": "eadf4555-3dd3-440e-8e35-f82a4ad9f855",
   "metadata": {
    "execution": {
     "iopub.execute_input": "2025-08-05T15:04:10.125525Z",
     "iopub.status.busy": "2025-08-05T15:04:10.124838Z",
     "iopub.status.idle": "2025-08-05T15:04:10.201944Z",
     "shell.execute_reply": "2025-08-05T15:04:10.201135Z"
    },
    "papermill": {
     "duration": 0.089735,
     "end_time": "2025-08-05T15:04:10.203418",
     "exception": false,
     "start_time": "2025-08-05T15:04:10.113683",
     "status": "completed"
    },
    "tags": []
   },
   "outputs": [],
   "source": [
    "probs_calib = model.predict_proba(X_calib)"
   ]
  },
  {
   "cell_type": "code",
   "execution_count": 38,
   "id": "2ed93547-6d5d-4983-9b36-1ecb300da49a",
   "metadata": {
    "execution": {
     "iopub.execute_input": "2025-08-05T15:04:10.226276Z",
     "iopub.status.busy": "2025-08-05T15:04:10.225928Z",
     "iopub.status.idle": "2025-08-05T15:04:10.231261Z",
     "shell.execute_reply": "2025-08-05T15:04:10.230456Z"
    },
    "papermill": {
     "duration": 0.018245,
     "end_time": "2025-08-05T15:04:10.232634",
     "exception": false,
     "start_time": "2025-08-05T15:04:10.214389",
     "status": "completed"
    },
    "tags": []
   },
   "outputs": [],
   "source": [
    "y_calib = y_calib.values.ravel().astype(int)"
   ]
  },
  {
   "cell_type": "code",
   "execution_count": 39,
   "id": "65d1320d-f588-4b38-9072-62af1ae97f7d",
   "metadata": {
    "execution": {
     "iopub.execute_input": "2025-08-05T15:04:10.256497Z",
     "iopub.status.busy": "2025-08-05T15:04:10.255787Z",
     "iopub.status.idle": "2025-08-05T15:04:10.262154Z",
     "shell.execute_reply": "2025-08-05T15:04:10.261241Z"
    },
    "papermill": {
     "duration": 0.019366,
     "end_time": "2025-08-05T15:04:10.263655",
     "exception": false,
     "start_time": "2025-08-05T15:04:10.244289",
     "status": "completed"
    },
    "tags": []
   },
   "outputs": [],
   "source": [
    "from fairness_multiverse.conformal import compute_nc_scores\n",
    "\n",
    "# Compute nonconformity scores on calibration set (1 - probability of true class)\n",
    "nc_scores = compute_nc_scores(probs_calib, y_calib)"
   ]
  },
  {
   "cell_type": "code",
   "execution_count": 40,
   "id": "df3b8ca3-53b7-43d5-9667-7c85da7aeda2",
   "metadata": {
    "execution": {
     "iopub.execute_input": "2025-08-05T15:04:10.287496Z",
     "iopub.status.busy": "2025-08-05T15:04:10.286784Z",
     "iopub.status.idle": "2025-08-05T15:04:10.292732Z",
     "shell.execute_reply": "2025-08-05T15:04:10.291839Z"
    },
    "papermill": {
     "duration": 0.019007,
     "end_time": "2025-08-05T15:04:10.294236",
     "exception": false,
     "start_time": "2025-08-05T15:04:10.275229",
     "status": "completed"
    },
    "tags": []
   },
   "outputs": [],
   "source": [
    "from fairness_multiverse.conformal import find_threshold\n",
    "\n",
    "# Find conformal threshold q_hat for the given alpha (split conformal method)\n",
    "q_hat = find_threshold(nc_scores, alpha)"
   ]
  },
  {
   "cell_type": "code",
   "execution_count": 41,
   "id": "4d29e6c1-0ef6-4aa4-b8fe-4fe79b0d033a",
   "metadata": {
    "execution": {
     "iopub.execute_input": "2025-08-05T15:04:10.317948Z",
     "iopub.status.busy": "2025-08-05T15:04:10.317087Z",
     "iopub.status.idle": "2025-08-05T15:04:10.323416Z",
     "shell.execute_reply": "2025-08-05T15:04:10.322464Z"
    },
    "papermill": {
     "duration": 0.018978,
     "end_time": "2025-08-05T15:04:10.324805",
     "exception": false,
     "start_time": "2025-08-05T15:04:10.305827",
     "status": "completed"
    },
    "tags": []
   },
   "outputs": [
    {
     "data": {
      "text/plain": [
       "0.6537995238594252"
      ]
     },
     "execution_count": 41,
     "metadata": {},
     "output_type": "execute_result"
    }
   ],
   "source": [
    "q_hat"
   ]
  },
  {
   "cell_type": "code",
   "execution_count": 42,
   "id": "92460794-cdac-4be2-ba28-f28c0515a6fb",
   "metadata": {
    "execution": {
     "iopub.execute_input": "2025-08-05T15:04:10.348401Z",
     "iopub.status.busy": "2025-08-05T15:04:10.347729Z",
     "iopub.status.idle": "2025-08-05T15:04:10.808316Z",
     "shell.execute_reply": "2025-08-05T15:04:10.807547Z"
    },
    "papermill": {
     "duration": 0.473653,
     "end_time": "2025-08-05T15:04:10.809806",
     "exception": false,
     "start_time": "2025-08-05T15:04:10.336153",
     "status": "completed"
    },
    "tags": []
   },
   "outputs": [],
   "source": [
    "from fairness_multiverse.conformal import predict_conformal_sets\n",
    "\n",
    "# Generate prediction sets for each test example\n",
    "pred_sets = predict_conformal_sets(model, X_test, q_hat)"
   ]
  },
  {
   "cell_type": "code",
   "execution_count": 43,
   "id": "d90c9a65-e6db-4f5d-80cd-e68fb7e46829",
   "metadata": {
    "execution": {
     "iopub.execute_input": "2025-08-05T15:04:10.832966Z",
     "iopub.status.busy": "2025-08-05T15:04:10.832613Z",
     "iopub.status.idle": "2025-08-05T15:04:10.837891Z",
     "shell.execute_reply": "2025-08-05T15:04:10.837158Z"
    },
    "papermill": {
     "duration": 0.018534,
     "end_time": "2025-08-05T15:04:10.839371",
     "exception": false,
     "start_time": "2025-08-05T15:04:10.820837",
     "status": "completed"
    },
    "tags": []
   },
   "outputs": [],
   "source": [
    "y_true = y_true.squeeze()"
   ]
  },
  {
   "cell_type": "code",
   "execution_count": 44,
   "id": "3a58a54a-1e68-46b9-927a-df01f18aebc8",
   "metadata": {
    "execution": {
     "iopub.execute_input": "2025-08-05T15:04:10.863291Z",
     "iopub.status.busy": "2025-08-05T15:04:10.862592Z",
     "iopub.status.idle": "2025-08-05T15:04:11.408224Z",
     "shell.execute_reply": "2025-08-05T15:04:11.407063Z"
    },
    "papermill": {
     "duration": 0.559045,
     "end_time": "2025-08-05T15:04:11.410103",
     "exception": false,
     "start_time": "2025-08-05T15:04:10.851058",
     "status": "completed"
    },
    "tags": []
   },
   "outputs": [],
   "source": [
    "from fairness_multiverse.conformal import evaluate_sets\n",
    "\n",
    "# Evaluate coverage and average set size on test data\n",
    "metrics = evaluate_sets(pred_sets, y_true)"
   ]
  },
  {
   "cell_type": "markdown",
   "id": "2b569c12-9aaa-4c88-98c9-bbcd0cf3ebb8",
   "metadata": {
    "papermill": {
     "duration": 0.027366,
     "end_time": "2025-08-05T15:04:11.465827",
     "exception": false,
     "start_time": "2025-08-05T15:04:11.438461",
     "status": "completed"
    },
    "tags": []
   },
   "source": [
    "# CP Metrics"
   ]
  },
  {
   "cell_type": "code",
   "execution_count": 45,
   "id": "5ce0a5cb-201f-45a0-ade5-94c7f0bd6095",
   "metadata": {
    "execution": {
     "iopub.execute_input": "2025-08-05T15:04:11.522823Z",
     "iopub.status.busy": "2025-08-05T15:04:11.522248Z",
     "iopub.status.idle": "2025-08-05T15:04:11.530719Z",
     "shell.execute_reply": "2025-08-05T15:04:11.529451Z"
    },
    "papermill": {
     "duration": 0.039849,
     "end_time": "2025-08-05T15:04:11.533090",
     "exception": false,
     "start_time": "2025-08-05T15:04:11.493241",
     "status": "completed"
    },
    "tags": []
   },
   "outputs": [
    {
     "data": {
      "text/plain": [
       "{'coverage': 0.9136996990302084, 'avg_size': 1.2618994537955635}"
      ]
     },
     "execution_count": 45,
     "metadata": {},
     "output_type": "execute_result"
    }
   ],
   "source": [
    "metrics"
   ]
  },
  {
   "cell_type": "code",
   "execution_count": 46,
   "id": "9b9a838d-31c9-430b-ae14-12baee460d17",
   "metadata": {
    "execution": {
     "iopub.execute_input": "2025-08-05T15:04:11.591679Z",
     "iopub.status.busy": "2025-08-05T15:04:11.591144Z",
     "iopub.status.idle": "2025-08-05T15:04:11.598786Z",
     "shell.execute_reply": "2025-08-05T15:04:11.597602Z"
    },
    "papermill": {
     "duration": 0.039141,
     "end_time": "2025-08-05T15:04:11.600930",
     "exception": false,
     "start_time": "2025-08-05T15:04:11.561789",
     "status": "completed"
    },
    "tags": []
   },
   "outputs": [],
   "source": [
    "example_universe = universe.copy()\n",
    "universe_training_year = example_universe.get(\"training_year\")\n",
    "universe_training_size = example_universe.get(\"training_size\")\n",
    "universe_scale = example_universe.get(\"scale\")\n",
    "universe_model = example_universe.get(\"model\")\n",
    "universe_exclude_features = example_universe.get(\"exclude_features\")\n",
    "universe_exclude_subgroups = example_universe.get(\"exclude_subgroups\")"
   ]
  },
  {
   "cell_type": "code",
   "execution_count": 47,
   "id": "f4b6a8ac-9dc0-4245-8a91-5b3b5999c4f9",
   "metadata": {
    "execution": {
     "iopub.execute_input": "2025-08-05T15:04:11.660195Z",
     "iopub.status.busy": "2025-08-05T15:04:11.659131Z",
     "iopub.status.idle": "2025-08-05T15:04:11.666480Z",
     "shell.execute_reply": "2025-08-05T15:04:11.665265Z"
    },
    "papermill": {
     "duration": 0.039012,
     "end_time": "2025-08-05T15:04:11.668875",
     "exception": false,
     "start_time": "2025-08-05T15:04:11.629863",
     "status": "completed"
    },
    "tags": []
   },
   "outputs": [],
   "source": [
    "cp_metrics_dict = {\n",
    "    \"universe_id\": [universe_id],\n",
    "    \"universe_training_year\": [universe_training_year],\n",
    "    \"universe_training_size\": [universe_training_size],\n",
    "    \"universe_scale\": [universe_scale],\n",
    "    \"universe_model\": [universe_model],\n",
    "    \"universe_exclude_features\": [universe_exclude_features],\n",
    "    \"universe_exclude_subgroups\": [universe_exclude_subgroups],\n",
    "    \"q_hat\": [q_hat],\n",
    "    \"coverage\": [metrics[\"coverage\"]],\n",
    "    \"avg_size\": [metrics[\"avg_size\"]],\n",
    "}"
   ]
  },
  {
   "cell_type": "code",
   "execution_count": 48,
   "id": "908acbb1-0371-4915-85ca-3fa520d2efe2",
   "metadata": {
    "execution": {
     "iopub.execute_input": "2025-08-05T15:04:11.710124Z",
     "iopub.status.busy": "2025-08-05T15:04:11.709340Z",
     "iopub.status.idle": "2025-08-05T15:04:11.715973Z",
     "shell.execute_reply": "2025-08-05T15:04:11.715192Z"
    },
    "papermill": {
     "duration": 0.020515,
     "end_time": "2025-08-05T15:04:11.717497",
     "exception": false,
     "start_time": "2025-08-05T15:04:11.696982",
     "status": "completed"
    },
    "tags": []
   },
   "outputs": [
    {
     "data": {
      "text/plain": [
       "{'universe_id': ['ac80359935a7a6fe9c20a5f668a8513d'],\n",
       " 'universe_training_year': ['2012_14'],\n",
       " 'universe_training_size': ['25k'],\n",
       " 'universe_scale': ['do-not-scale'],\n",
       " 'universe_model': ['elasticnet'],\n",
       " 'universe_exclude_features': ['age'],\n",
       " 'universe_exclude_subgroups': ['drop-non-german'],\n",
       " 'q_hat': [0.6537995238594252],\n",
       " 'coverage': [0.9136996990302084],\n",
       " 'avg_size': [1.2618994537955635]}"
      ]
     },
     "execution_count": 48,
     "metadata": {},
     "output_type": "execute_result"
    }
   ],
   "source": [
    "cp_metrics_dict"
   ]
  },
  {
   "cell_type": "code",
   "execution_count": 49,
   "id": "33007efc-14e9-4ec6-97ac-56a455c82265",
   "metadata": {
    "execution": {
     "iopub.execute_input": "2025-08-05T15:04:11.742204Z",
     "iopub.status.busy": "2025-08-05T15:04:11.741691Z",
     "iopub.status.idle": "2025-08-05T15:04:11.747303Z",
     "shell.execute_reply": "2025-08-05T15:04:11.746585Z"
    },
    "papermill": {
     "duration": 0.019006,
     "end_time": "2025-08-05T15:04:11.748783",
     "exception": false,
     "start_time": "2025-08-05T15:04:11.729777",
     "status": "completed"
    },
    "tags": []
   },
   "outputs": [],
   "source": [
    "cp_metrics_df = pd.DataFrame(cp_metrics_dict)"
   ]
  },
  {
   "cell_type": "code",
   "execution_count": 50,
   "id": "db12611b-57b2-4910-b9d0-355adfd6e7bf",
   "metadata": {
    "execution": {
     "iopub.execute_input": "2025-08-05T15:04:11.774463Z",
     "iopub.status.busy": "2025-08-05T15:04:11.773748Z",
     "iopub.status.idle": "2025-08-05T15:04:11.788071Z",
     "shell.execute_reply": "2025-08-05T15:04:11.787245Z"
    },
    "papermill": {
     "duration": 0.028304,
     "end_time": "2025-08-05T15:04:11.789442",
     "exception": false,
     "start_time": "2025-08-05T15:04:11.761138",
     "status": "completed"
    },
    "tags": []
   },
   "outputs": [
    {
     "data": {
      "text/html": [
       "<div>\n",
       "<style scoped>\n",
       "    .dataframe tbody tr th:only-of-type {\n",
       "        vertical-align: middle;\n",
       "    }\n",
       "\n",
       "    .dataframe tbody tr th {\n",
       "        vertical-align: top;\n",
       "    }\n",
       "\n",
       "    .dataframe thead th {\n",
       "        text-align: right;\n",
       "    }\n",
       "</style>\n",
       "<table border=\"1\" class=\"dataframe\">\n",
       "  <thead>\n",
       "    <tr style=\"text-align: right;\">\n",
       "      <th></th>\n",
       "      <th>universe_id</th>\n",
       "      <th>universe_training_year</th>\n",
       "      <th>universe_training_size</th>\n",
       "      <th>universe_scale</th>\n",
       "      <th>universe_model</th>\n",
       "      <th>universe_exclude_features</th>\n",
       "      <th>universe_exclude_subgroups</th>\n",
       "      <th>q_hat</th>\n",
       "      <th>coverage</th>\n",
       "      <th>avg_size</th>\n",
       "    </tr>\n",
       "  </thead>\n",
       "  <tbody>\n",
       "    <tr>\n",
       "      <th>0</th>\n",
       "      <td>ac80359935a7a6fe9c20a5f668a8513d</td>\n",
       "      <td>2012_14</td>\n",
       "      <td>25k</td>\n",
       "      <td>do-not-scale</td>\n",
       "      <td>elasticnet</td>\n",
       "      <td>age</td>\n",
       "      <td>drop-non-german</td>\n",
       "      <td>0.6538</td>\n",
       "      <td>0.9137</td>\n",
       "      <td>1.261899</td>\n",
       "    </tr>\n",
       "  </tbody>\n",
       "</table>\n",
       "</div>"
      ],
      "text/plain": [
       "                        universe_id universe_training_year  \\\n",
       "0  ac80359935a7a6fe9c20a5f668a8513d                2012_14   \n",
       "\n",
       "  universe_training_size universe_scale universe_model  \\\n",
       "0                    25k   do-not-scale     elasticnet   \n",
       "\n",
       "  universe_exclude_features universe_exclude_subgroups   q_hat  coverage  \\\n",
       "0                       age            drop-non-german  0.6538    0.9137   \n",
       "\n",
       "   avg_size  \n",
       "0  1.261899  "
      ]
     },
     "execution_count": 50,
     "metadata": {},
     "output_type": "execute_result"
    }
   ],
   "source": [
    "cp_metrics_df"
   ]
  },
  {
   "cell_type": "code",
   "execution_count": 51,
   "id": "b7fbde55-a0a1-47e4-9af6-fe4a17fa8c61",
   "metadata": {
    "execution": {
     "iopub.execute_input": "2025-08-05T15:04:11.814141Z",
     "iopub.status.busy": "2025-08-05T15:04:11.813412Z",
     "iopub.status.idle": "2025-08-05T15:04:11.818037Z",
     "shell.execute_reply": "2025-08-05T15:04:11.817243Z"
    },
    "papermill": {
     "duration": 0.018222,
     "end_time": "2025-08-05T15:04:11.819491",
     "exception": false,
     "start_time": "2025-08-05T15:04:11.801269",
     "status": "completed"
    },
    "tags": []
   },
   "outputs": [],
   "source": [
    "# Conditional Coverage & looking at subgroups"
   ]
  },
  {
   "cell_type": "code",
   "execution_count": 52,
   "id": "027ae886-68dd-4141-96c7-805a5450e1ef",
   "metadata": {
    "execution": {
     "iopub.execute_input": "2025-08-05T15:04:11.845318Z",
     "iopub.status.busy": "2025-08-05T15:04:11.844790Z",
     "iopub.status.idle": "2025-08-05T15:04:12.034272Z",
     "shell.execute_reply": "2025-08-05T15:04:12.033480Z"
    },
    "papermill": {
     "duration": 0.203268,
     "end_time": "2025-08-05T15:04:12.035774",
     "exception": false,
     "start_time": "2025-08-05T15:04:11.832506",
     "status": "completed"
    },
    "tags": []
   },
   "outputs": [],
   "source": [
    "from fairness_multiverse.conformal import build_cp_groups\n",
    "\n",
    "cp_groups_df = build_cp_groups(pred_sets, y_true, X_test.index, org_test)\n",
    "#needs universe_id and setting"
   ]
  },
  {
   "cell_type": "code",
   "execution_count": 53,
   "id": "6cbdab96-b2b2-45af-ad54-d0516db2e28d",
   "metadata": {
    "execution": {
     "iopub.execute_input": "2025-08-05T15:04:12.060754Z",
     "iopub.status.busy": "2025-08-05T15:04:12.060395Z",
     "iopub.status.idle": "2025-08-05T15:04:13.110882Z",
     "shell.execute_reply": "2025-08-05T15:04:13.110131Z"
    },
    "papermill": {
     "duration": 1.06454,
     "end_time": "2025-08-05T15:04:13.112291",
     "exception": false,
     "start_time": "2025-08-05T15:04:12.047751",
     "status": "completed"
    },
    "tags": []
   },
   "outputs": [],
   "source": [
    "# Define covered = 1 if true_label is in the predicted set\n",
    "cp_groups_df['covered'] = cp_groups_df.apply(\n",
    "    lambda r: int(r['true_label'] in r['pred_set']),\n",
    "    axis=1\n",
    ")"
   ]
  },
  {
   "cell_type": "code",
   "execution_count": 54,
   "id": "338ff529-1a6b-4b87-a931-8e4788d52aad",
   "metadata": {
    "execution": {
     "iopub.execute_input": "2025-08-05T15:04:13.138115Z",
     "iopub.status.busy": "2025-08-05T15:04:13.137762Z",
     "iopub.status.idle": "2025-08-05T15:04:13.142115Z",
     "shell.execute_reply": "2025-08-05T15:04:13.141285Z"
    },
    "papermill": {
     "duration": 0.018004,
     "end_time": "2025-08-05T15:04:13.143899",
     "exception": false,
     "start_time": "2025-08-05T15:04:13.125895",
     "status": "completed"
    },
    "tags": []
   },
   "outputs": [],
   "source": [
    "#cp_groups_df"
   ]
  },
  {
   "cell_type": "code",
   "execution_count": 55,
   "id": "90032e27-66df-4540-9169-4e89cfbaa758",
   "metadata": {
    "execution": {
     "iopub.execute_input": "2025-08-05T15:04:13.197102Z",
     "iopub.status.busy": "2025-08-05T15:04:13.196091Z",
     "iopub.status.idle": "2025-08-05T15:04:13.208136Z",
     "shell.execute_reply": "2025-08-05T15:04:13.207110Z"
    },
    "papermill": {
     "duration": 0.041595,
     "end_time": "2025-08-05T15:04:13.210900",
     "exception": false,
     "start_time": "2025-08-05T15:04:13.169305",
     "status": "completed"
    },
    "tags": []
   },
   "outputs": [],
   "source": [
    "subgroups = ['frau1','nongerman','nongerman_male','nongerman_female']\n",
    "\n",
    "# Conditional coverage for subgroup==1\n",
    "cond_coverage = {\n",
    "    g: cp_groups_df.loc[cp_groups_df[g]==1, 'covered'].mean()\n",
    "    for g in subgroups\n",
    "}"
   ]
  },
  {
   "cell_type": "code",
   "execution_count": 56,
   "id": "1e348fb1-b9c3-45bc-ba23-f016827a7e0d",
   "metadata": {
    "execution": {
     "iopub.execute_input": "2025-08-05T15:04:13.266956Z",
     "iopub.status.busy": "2025-08-05T15:04:13.266393Z",
     "iopub.status.idle": "2025-08-05T15:04:13.274750Z",
     "shell.execute_reply": "2025-08-05T15:04:13.273572Z"
    },
    "papermill": {
     "duration": 0.040306,
     "end_time": "2025-08-05T15:04:13.276683",
     "exception": false,
     "start_time": "2025-08-05T15:04:13.236377",
     "status": "completed"
    },
    "tags": []
   },
   "outputs": [
    {
     "data": {
      "text/plain": [
       "{'frau1': 0.9129262703868446,\n",
       " 'nongerman': 0.9649694043675967,\n",
       " 'nongerman_male': 0.9712690263892642,\n",
       " 'nongerman_female': 0.9545454545454546}"
      ]
     },
     "execution_count": 56,
     "metadata": {},
     "output_type": "execute_result"
    }
   ],
   "source": [
    "cond_coverage"
   ]
  },
  {
   "cell_type": "code",
   "execution_count": 57,
   "id": "f5093324-c3dd-4d63-bc4c-8d945e5c8bbb",
   "metadata": {
    "execution": {
     "iopub.execute_input": "2025-08-05T15:04:13.329984Z",
     "iopub.status.busy": "2025-08-05T15:04:13.329360Z",
     "iopub.status.idle": "2025-08-05T15:04:13.337107Z",
     "shell.execute_reply": "2025-08-05T15:04:13.335891Z"
    },
    "papermill": {
     "duration": 0.036153,
     "end_time": "2025-08-05T15:04:13.338968",
     "exception": false,
     "start_time": "2025-08-05T15:04:13.302815",
     "status": "completed"
    },
    "tags": []
   },
   "outputs": [],
   "source": [
    "for subgroup, cov in cond_coverage.items():\n",
    "    cp_metrics_df[f\"cov_{subgroup}\"] = cov"
   ]
  },
  {
   "cell_type": "code",
   "execution_count": 58,
   "id": "6e872e10-dbe5-49e8-b554-5030c98ff75d",
   "metadata": {
    "execution": {
     "iopub.execute_input": "2025-08-05T15:04:13.394409Z",
     "iopub.status.busy": "2025-08-05T15:04:13.393358Z",
     "iopub.status.idle": "2025-08-05T15:04:13.418022Z",
     "shell.execute_reply": "2025-08-05T15:04:13.415464Z"
    },
    "papermill": {
     "duration": 0.054063,
     "end_time": "2025-08-05T15:04:13.420472",
     "exception": false,
     "start_time": "2025-08-05T15:04:13.366409",
     "status": "completed"
    },
    "tags": []
   },
   "outputs": [
    {
     "data": {
      "text/html": [
       "<div>\n",
       "<style scoped>\n",
       "    .dataframe tbody tr th:only-of-type {\n",
       "        vertical-align: middle;\n",
       "    }\n",
       "\n",
       "    .dataframe tbody tr th {\n",
       "        vertical-align: top;\n",
       "    }\n",
       "\n",
       "    .dataframe thead th {\n",
       "        text-align: right;\n",
       "    }\n",
       "</style>\n",
       "<table border=\"1\" class=\"dataframe\">\n",
       "  <thead>\n",
       "    <tr style=\"text-align: right;\">\n",
       "      <th></th>\n",
       "      <th>universe_id</th>\n",
       "      <th>universe_training_year</th>\n",
       "      <th>universe_training_size</th>\n",
       "      <th>universe_scale</th>\n",
       "      <th>universe_model</th>\n",
       "      <th>universe_exclude_features</th>\n",
       "      <th>universe_exclude_subgroups</th>\n",
       "      <th>q_hat</th>\n",
       "      <th>coverage</th>\n",
       "      <th>avg_size</th>\n",
       "      <th>cov_frau1</th>\n",
       "      <th>cov_nongerman</th>\n",
       "      <th>cov_nongerman_male</th>\n",
       "      <th>cov_nongerman_female</th>\n",
       "    </tr>\n",
       "  </thead>\n",
       "  <tbody>\n",
       "    <tr>\n",
       "      <th>0</th>\n",
       "      <td>ac80359935a7a6fe9c20a5f668a8513d</td>\n",
       "      <td>2012_14</td>\n",
       "      <td>25k</td>\n",
       "      <td>do-not-scale</td>\n",
       "      <td>elasticnet</td>\n",
       "      <td>age</td>\n",
       "      <td>drop-non-german</td>\n",
       "      <td>0.6538</td>\n",
       "      <td>0.9137</td>\n",
       "      <td>1.261899</td>\n",
       "      <td>0.912926</td>\n",
       "      <td>0.964969</td>\n",
       "      <td>0.971269</td>\n",
       "      <td>0.954545</td>\n",
       "    </tr>\n",
       "  </tbody>\n",
       "</table>\n",
       "</div>"
      ],
      "text/plain": [
       "                        universe_id universe_training_year  \\\n",
       "0  ac80359935a7a6fe9c20a5f668a8513d                2012_14   \n",
       "\n",
       "  universe_training_size universe_scale universe_model  \\\n",
       "0                    25k   do-not-scale     elasticnet   \n",
       "\n",
       "  universe_exclude_features universe_exclude_subgroups   q_hat  coverage  \\\n",
       "0                       age            drop-non-german  0.6538    0.9137   \n",
       "\n",
       "   avg_size  cov_frau1  cov_nongerman  cov_nongerman_male  \\\n",
       "0  1.261899   0.912926       0.964969            0.971269   \n",
       "\n",
       "   cov_nongerman_female  \n",
       "0              0.954545  "
      ]
     },
     "execution_count": 58,
     "metadata": {},
     "output_type": "execute_result"
    }
   ],
   "source": [
    "cp_metrics_df"
   ]
  },
  {
   "cell_type": "markdown",
   "id": "33774451",
   "metadata": {
    "papermill": {
     "duration": 0.029637,
     "end_time": "2025-08-05T15:04:13.482500",
     "exception": false,
     "start_time": "2025-08-05T15:04:13.452863",
     "status": "completed"
    },
    "tags": []
   },
   "source": [
    "# (Fairness) Metrics"
   ]
  },
  {
   "cell_type": "code",
   "execution_count": 59,
   "id": "debc5d62",
   "metadata": {
    "execution": {
     "iopub.execute_input": "2025-08-05T15:04:13.531020Z",
     "iopub.status.busy": "2025-08-05T15:04:13.530070Z",
     "iopub.status.idle": "2025-08-05T15:04:13.552467Z",
     "shell.execute_reply": "2025-08-05T15:04:13.551335Z"
    },
    "papermill": {
     "duration": 0.049397,
     "end_time": "2025-08-05T15:04:13.554821",
     "exception": false,
     "start_time": "2025-08-05T15:04:13.505424",
     "status": "completed"
    },
    "tags": []
   },
   "outputs": [],
   "source": [
    "# do I need to include maxdeutsch1.missing?\n",
    "\n",
    "import numpy as np\n",
    "\n",
    "colname_to_bin = \"maxdeutsch1\"\n",
    "majority_value = org_train[colname_to_bin].mode()[0]\n",
    "\n",
    "org_test[\"majmin\"] = np.where(org_test[colname_to_bin] == majority_value, \"majority\", \"minority\")"
   ]
  },
  {
   "cell_type": "code",
   "execution_count": 60,
   "id": "06a50de5",
   "metadata": {
    "execution": {
     "iopub.execute_input": "2025-08-05T15:04:13.603822Z",
     "iopub.status.busy": "2025-08-05T15:04:13.603332Z",
     "iopub.status.idle": "2025-08-05T15:04:16.347043Z",
     "shell.execute_reply": "2025-08-05T15:04:16.346020Z"
    },
    "papermill": {
     "duration": 2.769338,
     "end_time": "2025-08-05T15:04:16.349052",
     "exception": false,
     "start_time": "2025-08-05T15:04:13.579714",
     "status": "completed"
    },
    "tags": []
   },
   "outputs": [],
   "source": [
    "example_universe = universe.copy()\n",
    "example_universe[\"cutoff\"] = example_universe[\"cutoff\"][0]\n",
    "example_universe[\"eval_fairness_grouping\"] = example_universe[\"eval_fairness_grouping\"][0]\n",
    "fairness_dict, metric_frame = universe_analysis.compute_metrics(\n",
    "    example_universe,\n",
    "    y_pred_prob=probs_test,\n",
    "    y_test=y_true,\n",
    "    org_test=org_test,\n",
    ")"
   ]
  },
  {
   "cell_type": "markdown",
   "id": "f95d4e02",
   "metadata": {
    "papermill": {
     "duration": 0.025689,
     "end_time": "2025-08-05T15:04:16.403664",
     "exception": false,
     "start_time": "2025-08-05T15:04:16.377975",
     "status": "completed"
    },
    "tags": []
   },
   "source": [
    "# Overall"
   ]
  },
  {
   "cell_type": "markdown",
   "id": "bdee4871",
   "metadata": {
    "papermill": {
     "duration": 0.027297,
     "end_time": "2025-08-05T15:04:16.458037",
     "exception": false,
     "start_time": "2025-08-05T15:04:16.430740",
     "status": "completed"
    },
    "tags": []
   },
   "source": [
    "Fairness\n",
    "Main fairness target: Equalized Odds. Seems to be a better fit than equal opportunity, since we're not only interested in Y = 1. Seems to be a better fit than demographic parity, since we also care about accuracy, not just equal distribution of preds.\n",
    "\n",
    "Pick column for computation of fairness metrics\n",
    "\n",
    "Performance\n",
    "Overall performance measures, most interesting in relation to the measures split by group below"
   ]
  },
  {
   "cell_type": "code",
   "execution_count": 61,
   "id": "c4e067c6",
   "metadata": {
    "execution": {
     "iopub.execute_input": "2025-08-05T15:04:16.511633Z",
     "iopub.status.busy": "2025-08-05T15:04:16.511241Z",
     "iopub.status.idle": "2025-08-05T15:04:16.520009Z",
     "shell.execute_reply": "2025-08-05T15:04:16.519101Z"
    },
    "papermill": {
     "duration": 0.039148,
     "end_time": "2025-08-05T15:04:16.521830",
     "exception": false,
     "start_time": "2025-08-05T15:04:16.482682",
     "status": "completed"
    },
    "tags": []
   },
   "outputs": [
    {
     "data": {
      "text/plain": [
       "accuracy                   0.215885\n",
       "balanced accuracy          0.529646\n",
       "f1                         0.237449\n",
       "precision                  0.135647\n",
       "false positive rate        0.892394\n",
       "false negative rate        0.048314\n",
       "selection rate             0.900000\n",
       "count                  89710.000000\n",
       "dtype: float64"
      ]
     },
     "execution_count": 61,
     "metadata": {},
     "output_type": "execute_result"
    }
   ],
   "source": [
    "metric_frame.overall"
   ]
  },
  {
   "cell_type": "markdown",
   "id": "e968fe9d",
   "metadata": {
    "papermill": {
     "duration": 0.027413,
     "end_time": "2025-08-05T15:04:16.575132",
     "exception": false,
     "start_time": "2025-08-05T15:04:16.547719",
     "status": "completed"
    },
    "tags": []
   },
   "source": [
    "By Group"
   ]
  },
  {
   "cell_type": "code",
   "execution_count": 62,
   "id": "ec325bce",
   "metadata": {
    "execution": {
     "iopub.execute_input": "2025-08-05T15:04:16.629015Z",
     "iopub.status.busy": "2025-08-05T15:04:16.628189Z",
     "iopub.status.idle": "2025-08-05T15:04:16.644448Z",
     "shell.execute_reply": "2025-08-05T15:04:16.643385Z"
    },
    "papermill": {
     "duration": 0.045104,
     "end_time": "2025-08-05T15:04:16.646350",
     "exception": false,
     "start_time": "2025-08-05T15:04:16.601246",
     "status": "completed"
    },
    "tags": []
   },
   "outputs": [
    {
     "data": {
      "text/html": [
       "<div>\n",
       "<style scoped>\n",
       "    .dataframe tbody tr th:only-of-type {\n",
       "        vertical-align: middle;\n",
       "    }\n",
       "\n",
       "    .dataframe tbody tr th {\n",
       "        vertical-align: top;\n",
       "    }\n",
       "\n",
       "    .dataframe thead th {\n",
       "        text-align: right;\n",
       "    }\n",
       "</style>\n",
       "<table border=\"1\" class=\"dataframe\">\n",
       "  <thead>\n",
       "    <tr style=\"text-align: right;\">\n",
       "      <th></th>\n",
       "      <th>accuracy</th>\n",
       "      <th>balanced accuracy</th>\n",
       "      <th>f1</th>\n",
       "      <th>precision</th>\n",
       "      <th>false positive rate</th>\n",
       "      <th>false negative rate</th>\n",
       "      <th>selection rate</th>\n",
       "      <th>count</th>\n",
       "    </tr>\n",
       "    <tr>\n",
       "      <th>majmin</th>\n",
       "      <th></th>\n",
       "      <th></th>\n",
       "      <th></th>\n",
       "      <th></th>\n",
       "      <th></th>\n",
       "      <th></th>\n",
       "      <th></th>\n",
       "      <th></th>\n",
       "    </tr>\n",
       "  </thead>\n",
       "  <tbody>\n",
       "    <tr>\n",
       "      <th>majority</th>\n",
       "      <td>0.237242</td>\n",
       "      <td>0.537365</td>\n",
       "      <td>0.246716</td>\n",
       "      <td>0.141872</td>\n",
       "      <td>0.870565</td>\n",
       "      <td>0.054705</td>\n",
       "      <td>0.880439</td>\n",
       "      <td>69170.0</td>\n",
       "    </tr>\n",
       "    <tr>\n",
       "      <th>minority</th>\n",
       "      <td>0.143963</td>\n",
       "      <td>0.505923</td>\n",
       "      <td>0.208223</td>\n",
       "      <td>0.116538</td>\n",
       "      <td>0.964506</td>\n",
       "      <td>0.023649</td>\n",
       "      <td>0.965871</td>\n",
       "      <td>20540.0</td>\n",
       "    </tr>\n",
       "  </tbody>\n",
       "</table>\n",
       "</div>"
      ],
      "text/plain": [
       "          accuracy  balanced accuracy        f1  precision  \\\n",
       "majmin                                                       \n",
       "majority  0.237242           0.537365  0.246716   0.141872   \n",
       "minority  0.143963           0.505923  0.208223   0.116538   \n",
       "\n",
       "          false positive rate  false negative rate  selection rate    count  \n",
       "majmin                                                                       \n",
       "majority             0.870565             0.054705        0.880439  69170.0  \n",
       "minority             0.964506             0.023649        0.965871  20540.0  "
      ]
     },
     "execution_count": 62,
     "metadata": {},
     "output_type": "execute_result"
    }
   ],
   "source": [
    "metric_frame.by_group"
   ]
  },
  {
   "cell_type": "code",
   "execution_count": 63,
   "id": "a9ddbe63",
   "metadata": {
    "execution": {
     "iopub.execute_input": "2025-08-05T15:04:16.701783Z",
     "iopub.status.busy": "2025-08-05T15:04:16.700862Z",
     "iopub.status.idle": "2025-08-05T15:04:18.658214Z",
     "shell.execute_reply": "2025-08-05T15:04:18.657487Z"
    },
    "papermill": {
     "duration": 1.986853,
     "end_time": "2025-08-05T15:04:18.659493",
     "exception": false,
     "start_time": "2025-08-05T15:04:16.672640",
     "status": "completed"
    },
    "tags": []
   },
   "outputs": [
    {
     "data": {
      "text/plain": [
       "array([[<Axes: title={'center': 'accuracy'}, xlabel='majmin'>,\n",
       "        <Axes: title={'center': 'balanced accuracy'}, xlabel='majmin'>,\n",
       "        <Axes: title={'center': 'f1'}, xlabel='majmin'>],\n",
       "       [<Axes: title={'center': 'precision'}, xlabel='majmin'>,\n",
       "        <Axes: title={'center': 'false positive rate'}, xlabel='majmin'>,\n",
       "        <Axes: title={'center': 'false negative rate'}, xlabel='majmin'>],\n",
       "       [<Axes: title={'center': 'selection rate'}, xlabel='majmin'>,\n",
       "        <Axes: title={'center': 'count'}, xlabel='majmin'>,\n",
       "        <Axes: xlabel='majmin'>]], dtype=object)"
      ]
     },
     "execution_count": 63,
     "metadata": {},
     "output_type": "execute_result"
    },
    {
     "data": {
      "image/png": "[encoded data removed]",
      "text/plain": [
       "<Figure size 1200x800 with 9 Axes>"
      ]
     },
     "metadata": {},
     "output_type": "display_data"
    }
   ],
   "source": [
    "# In a graphic\n",
    "metric_frame.by_group.plot.bar(\n",
    "    subplots=True,\n",
    "    layout=[3, 3],\n",
    "    legend=False,\n",
    "    figsize=[12, 8],\n",
    "    title=\"Show all metrics\",\n",
    ")"
   ]
  },
  {
   "cell_type": "markdown",
   "id": "f57a0bac",
   "metadata": {
    "papermill": {
     "duration": 0.012483,
     "end_time": "2025-08-05T15:04:18.687971",
     "exception": false,
     "start_time": "2025-08-05T15:04:18.675488",
     "status": "completed"
    },
    "tags": []
   },
   "source": [
    "# Final Output"
   ]
  },
  {
   "cell_type": "code",
   "execution_count": 64,
   "id": "96d280a3",
   "metadata": {
    "execution": {
     "iopub.execute_input": "2025-08-05T15:04:18.714994Z",
     "iopub.status.busy": "2025-08-05T15:04:18.714226Z",
     "iopub.status.idle": "2025-08-05T15:04:18.721980Z",
     "shell.execute_reply": "2025-08-05T15:04:18.721044Z"
    },
    "papermill": {
     "duration": 0.02264,
     "end_time": "2025-08-05T15:04:18.723253",
     "exception": false,
     "start_time": "2025-08-05T15:04:18.700613",
     "status": "completed"
    },
    "tags": []
   },
   "outputs": [
    {
     "data": {
      "text/plain": [
       "4"
      ]
     },
     "execution_count": 64,
     "metadata": {},
     "output_type": "execute_result"
    }
   ],
   "source": [
    "sub_universes = universe_analysis.generate_sub_universes()\n",
    "len(sub_universes)"
   ]
  },
  {
   "cell_type": "code",
   "execution_count": 65,
   "id": "92adf7ba",
   "metadata": {
    "execution": {
     "iopub.execute_input": "2025-08-05T15:04:18.751187Z",
     "iopub.status.busy": "2025-08-05T15:04:18.750501Z",
     "iopub.status.idle": "2025-08-05T15:04:18.774466Z",
     "shell.execute_reply": "2025-08-05T15:04:18.773542Z"
    },
    "papermill": {
     "duration": 0.039378,
     "end_time": "2025-08-05T15:04:18.776139",
     "exception": false,
     "start_time": "2025-08-05T15:04:18.736761",
     "status": "completed"
    },
    "tags": []
   },
   "outputs": [],
   "source": [
    "def filter_sub_universe_data(sub_universe, org_test):\n",
    "    # Keep all rows — no filtering\n",
    "    keep_rows_mask = np.ones(org_test.shape[0], dtype=bool)\n",
    "\n",
    "    print(f\"[INFO] Keeping all rows: {keep_rows_mask.sum()} rows retained.\")\n",
    "    return keep_rows_mask"
   ]
  },
  {
   "cell_type": "code",
   "execution_count": 66,
   "id": "4a759155",
   "metadata": {
    "execution": {
     "iopub.execute_input": "2025-08-05T15:04:18.805120Z",
     "iopub.status.busy": "2025-08-05T15:04:18.804403Z",
     "iopub.status.idle": "2025-08-05T15:04:27.267229Z",
     "shell.execute_reply": "2025-08-05T15:04:27.266361Z"
    },
    "papermill": {
     "duration": 8.477858,
     "end_time": "2025-08-05T15:04:27.268484",
     "exception": false,
     "start_time": "2025-08-05T15:04:18.790626",
     "status": "completed"
    },
    "tags": []
   },
   "outputs": [
    {
     "name": "stdout",
     "output_type": "stream",
     "text": [
      "Stopping execution_time clock.\n",
      "[INFO] Keeping all rows: 89710 rows retained.\n"
     ]
    },
    {
     "name": "stdout",
     "output_type": "stream",
     "text": [
      "[INFO] Keeping all rows: 89710 rows retained.\n"
     ]
    },
    {
     "name": "stdout",
     "output_type": "stream",
     "text": [
      "[INFO] Keeping all rows: 89710 rows retained.\n"
     ]
    },
    {
     "name": "stdout",
     "output_type": "stream",
     "text": [
      "[INFO] Keeping all rows: 89710 rows retained.\n"
     ]
    },
    {
     "data": {
      "text/html": [
       "<div>\n",
       "<style scoped>\n",
       "    .dataframe tbody tr th:only-of-type {\n",
       "        vertical-align: middle;\n",
       "    }\n",
       "\n",
       "    .dataframe tbody tr th {\n",
       "        vertical-align: top;\n",
       "    }\n",
       "\n",
       "    .dataframe thead th {\n",
       "        text-align: right;\n",
       "    }\n",
       "</style>\n",
       "<table border=\"1\" class=\"dataframe\">\n",
       "  <thead>\n",
       "    <tr style=\"text-align: right;\">\n",
       "      <th></th>\n",
       "      <th>run_no</th>\n",
       "      <th>universe_id</th>\n",
       "      <th>universe_settings</th>\n",
       "      <th>execution_time</th>\n",
       "      <th>test_size_n</th>\n",
       "      <th>test_size_frac</th>\n",
       "      <th>fair_main_equalized_odds_difference</th>\n",
       "      <th>fair_main_equalized_odds_ratio</th>\n",
       "      <th>fair_main_demographic_parity_difference</th>\n",
       "      <th>fair_main_demographic_parity_ratio</th>\n",
       "      <th>...</th>\n",
       "      <th>perf_grp_precision_0</th>\n",
       "      <th>perf_grp_precision_1</th>\n",
       "      <th>perf_grp_false positive rate_0</th>\n",
       "      <th>perf_grp_false positive rate_1</th>\n",
       "      <th>perf_grp_false negative rate_0</th>\n",
       "      <th>perf_grp_false negative rate_1</th>\n",
       "      <th>perf_grp_selection rate_0</th>\n",
       "      <th>perf_grp_selection rate_1</th>\n",
       "      <th>perf_grp_count_0</th>\n",
       "      <th>perf_grp_count_1</th>\n",
       "    </tr>\n",
       "  </thead>\n",
       "  <tbody>\n",
       "    <tr>\n",
       "      <th>0</th>\n",
       "      <td>15</td>\n",
       "      <td>ac80359935a7a6fe9c20a5f668a8513d</td>\n",
       "      <td>{\"cutoff\": \"quantile_0.1\", \"eval_fairness_grou...</td>\n",
       "      <td>30.113508</td>\n",
       "      <td>89710</td>\n",
       "      <td>1.0</td>\n",
       "      <td>0.093941</td>\n",
       "      <td>0.902602</td>\n",
       "      <td>0.085432</td>\n",
       "      <td>0.911549</td>\n",
       "      <td>...</td>\n",
       "      <td>NaN</td>\n",
       "      <td>NaN</td>\n",
       "      <td>NaN</td>\n",
       "      <td>NaN</td>\n",
       "      <td>NaN</td>\n",
       "      <td>NaN</td>\n",
       "      <td>NaN</td>\n",
       "      <td>NaN</td>\n",
       "      <td>NaN</td>\n",
       "      <td>NaN</td>\n",
       "    </tr>\n",
       "    <tr>\n",
       "      <th>0</th>\n",
       "      <td>15</td>\n",
       "      <td>ac80359935a7a6fe9c20a5f668a8513d</td>\n",
       "      <td>{\"cutoff\": \"quantile_0.1\", \"eval_fairness_grou...</td>\n",
       "      <td>30.113508</td>\n",
       "      <td>89710</td>\n",
       "      <td>1.0</td>\n",
       "      <td>0.093941</td>\n",
       "      <td>0.902602</td>\n",
       "      <td>0.085432</td>\n",
       "      <td>0.911549</td>\n",
       "      <td>...</td>\n",
       "      <td>0.116538</td>\n",
       "      <td>0.141872</td>\n",
       "      <td>0.964506</td>\n",
       "      <td>0.870565</td>\n",
       "      <td>0.023649</td>\n",
       "      <td>0.054705</td>\n",
       "      <td>0.965871</td>\n",
       "      <td>0.880439</td>\n",
       "      <td>20540.0</td>\n",
       "      <td>69170.0</td>\n",
       "    </tr>\n",
       "    <tr>\n",
       "      <th>0</th>\n",
       "      <td>15</td>\n",
       "      <td>ac80359935a7a6fe9c20a5f668a8513d</td>\n",
       "      <td>{\"cutoff\": \"quantile_0.25\", \"eval_fairness_gro...</td>\n",
       "      <td>30.113508</td>\n",
       "      <td>89710</td>\n",
       "      <td>1.0</td>\n",
       "      <td>0.228562</td>\n",
       "      <td>0.748825</td>\n",
       "      <td>0.212230</td>\n",
       "      <td>0.767708</td>\n",
       "      <td>...</td>\n",
       "      <td>NaN</td>\n",
       "      <td>NaN</td>\n",
       "      <td>NaN</td>\n",
       "      <td>NaN</td>\n",
       "      <td>NaN</td>\n",
       "      <td>NaN</td>\n",
       "      <td>NaN</td>\n",
       "      <td>NaN</td>\n",
       "      <td>NaN</td>\n",
       "      <td>NaN</td>\n",
       "    </tr>\n",
       "    <tr>\n",
       "      <th>0</th>\n",
       "      <td>15</td>\n",
       "      <td>ac80359935a7a6fe9c20a5f668a8513d</td>\n",
       "      <td>{\"cutoff\": \"quantile_0.25\", \"eval_fairness_gro...</td>\n",
       "      <td>30.113508</td>\n",
       "      <td>89710</td>\n",
       "      <td>1.0</td>\n",
       "      <td>0.228562</td>\n",
       "      <td>0.748825</td>\n",
       "      <td>0.212230</td>\n",
       "      <td>0.767708</td>\n",
       "      <td>...</td>\n",
       "      <td>0.118832</td>\n",
       "      <td>0.156876</td>\n",
       "      <td>0.909971</td>\n",
       "      <td>0.681409</td>\n",
       "      <td>0.058277</td>\n",
       "      <td>0.167287</td>\n",
       "      <td>0.913632</td>\n",
       "      <td>0.701402</td>\n",
       "      <td>20540.0</td>\n",
       "      <td>69170.0</td>\n",
       "    </tr>\n",
       "  </tbody>\n",
       "</table>\n",
       "<p>4 rows × 50 columns</p>\n",
       "</div>"
      ],
      "text/plain": [
       "  run_no                       universe_id  \\\n",
       "0     15  ac80359935a7a6fe9c20a5f668a8513d   \n",
       "0     15  ac80359935a7a6fe9c20a5f668a8513d   \n",
       "0     15  ac80359935a7a6fe9c20a5f668a8513d   \n",
       "0     15  ac80359935a7a6fe9c20a5f668a8513d   \n",
       "\n",
       "                                   universe_settings  execution_time  \\\n",
       "0  {\"cutoff\": \"quantile_0.1\", \"eval_fairness_grou...       30.113508   \n",
       "0  {\"cutoff\": \"quantile_0.1\", \"eval_fairness_grou...       30.113508   \n",
       "0  {\"cutoff\": \"quantile_0.25\", \"eval_fairness_gro...       30.113508   \n",
       "0  {\"cutoff\": \"quantile_0.25\", \"eval_fairness_gro...       30.113508   \n",
       "\n",
       "   test_size_n  test_size_frac  fair_main_equalized_odds_difference  \\\n",
       "0        89710             1.0                             0.093941   \n",
       "0        89710             1.0                             0.093941   \n",
       "0        89710             1.0                             0.228562   \n",
       "0        89710             1.0                             0.228562   \n",
       "\n",
       "   fair_main_equalized_odds_ratio  fair_main_demographic_parity_difference  \\\n",
       "0                        0.902602                                 0.085432   \n",
       "0                        0.902602                                 0.085432   \n",
       "0                        0.748825                                 0.212230   \n",
       "0                        0.748825                                 0.212230   \n",
       "\n",
       "   fair_main_demographic_parity_ratio  ...  perf_grp_precision_0  \\\n",
       "0                            0.911549  ...                   NaN   \n",
       "0                            0.911549  ...              0.116538   \n",
       "0                            0.767708  ...                   NaN   \n",
       "0                            0.767708  ...              0.118832   \n",
       "\n",
       "   perf_grp_precision_1  perf_grp_false positive rate_0  \\\n",
       "0                   NaN                             NaN   \n",
       "0              0.141872                        0.964506   \n",
       "0                   NaN                             NaN   \n",
       "0              0.156876                        0.909971   \n",
       "\n",
       "   perf_grp_false positive rate_1  perf_grp_false negative rate_0  \\\n",
       "0                             NaN                             NaN   \n",
       "0                        0.870565                        0.023649   \n",
       "0                             NaN                             NaN   \n",
       "0                        0.681409                        0.058277   \n",
       "\n",
       "   perf_grp_false negative rate_1  perf_grp_selection rate_0  \\\n",
       "0                             NaN                        NaN   \n",
       "0                        0.054705                   0.965871   \n",
       "0                             NaN                        NaN   \n",
       "0                        0.167287                   0.913632   \n",
       "\n",
       "   perf_grp_selection rate_1  perf_grp_count_0  perf_grp_count_1  \n",
       "0                        NaN               NaN               NaN  \n",
       "0                   0.880439           20540.0           69170.0  \n",
       "0                        NaN               NaN               NaN  \n",
       "0                   0.701402           20540.0           69170.0  \n",
       "\n",
       "[4 rows x 50 columns]"
      ]
     },
     "execution_count": 66,
     "metadata": {},
     "output_type": "execute_result"
    }
   ],
   "source": [
    "final_output = universe_analysis.generate_final_output(\n",
    "    y_pred_prob=probs_test,\n",
    "    y_test=y_true,\n",
    "    org_test=org_test,\n",
    "    filter_data=filter_sub_universe_data,\n",
    "    cp_metrics_df=cp_metrics_df,\n",
    "    save=True,\n",
    ")\n",
    "final_output"
   ]
  }
 ],
 "metadata": {
  "celltoolbar": "Tags",
  "kernelspec": {
   "display_name": "Python (CMA Fairness)",
   "language": "python",
   "name": "cma_fair_env"
  },
  "language_info": {
   "codemirror_mode": {
    "name": "ipython",
    "version": 3
   },
   "file_extension": ".py",
   "mimetype": "text/x-python",
   "name": "python",
   "nbconvert_exporter": "python",
   "pygments_lexer": "ipython3",
   "version": "3.10.12"
  },
  "papermill": {
   "default_parameters": {},
   "duration": 42.316549,
   "end_time": "2025-08-05T15:04:28.002114",
   "environment_variables": {},
   "exception": null,
   "input_path": "universe_analysis.ipynb",
   "output_path": "output/runs/15/notebooks/m_15-ac80359935a7a6fe9c20a5f668a8513d.ipynb",
   "parameters": {
    "output_dir": "output",
    "run_no": "15",
    "seed": "2023",
    "universe": "{\"cutoff\": [\"quantile_0.1\", \"quantile_0.25\"], \"eval_fairness_grouping\": [\"majority-minority\", \"nationality-all\"], \"exclude_features\": \"age\", \"exclude_subgroups\": \"drop-non-german\", \"model\": \"elasticnet\", \"scale\": \"do-not-scale\", \"training_size\": \"25k\", \"training_year\": \"2012_14\"}",
    "universe_id": "ac80359935a7a6fe9c20a5f668a8513d"
   },
   "start_time": "2025-08-05T15:03:45.685565",
   "version": "2.6.0"
  }
 },
 "nbformat": 4,
 "nbformat_minor": 5
}