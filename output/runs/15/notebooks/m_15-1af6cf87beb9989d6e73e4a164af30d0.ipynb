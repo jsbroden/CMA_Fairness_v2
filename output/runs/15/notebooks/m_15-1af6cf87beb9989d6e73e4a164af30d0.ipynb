{
 "cells": [
  {
   "cell_type": "code",
   "execution_count": 1,
   "id": "f159f837-637b-42ba-96b5-ec9a68c44524",
   "metadata": {
    "execution": {
     "iopub.execute_input": "2025-08-05T16:07:01.390383Z",
     "iopub.status.busy": "2025-08-05T16:07:01.389366Z",
     "iopub.status.idle": "2025-08-05T16:07:01.403438Z",
     "shell.execute_reply": "2025-08-05T16:07:01.402242Z"
    },
    "papermill": {
     "duration": 0.043546,
     "end_time": "2025-08-05T16:07:01.405039",
     "exception": false,
     "start_time": "2025-08-05T16:07:01.361493",
     "status": "completed"
    },
    "tags": []
   },
   "outputs": [
    {
     "name": "stdout",
     "output_type": "stream",
     "text": [
      "/dss/dsshome1/0C/ra93lal2/cma/CMA_Fairness_v2\n"
     ]
    },
    {
     "name": "stderr",
     "output_type": "stream",
     "text": [
      "/dss/dsshome1/0C/ra93lal2/.local/share/virtualenvs/CMA_Fairness_v2-3j10GkSs/lib/python3.10/site-packages/IPython/core/magics/osm.py:393: UserWarning: This is now an optional IPython functionality, using bookmarks requires you to install the `pickleshare` library.\n",
      "  bkms = self.shell.db.get('bookmarks', {})\n",
      "/dss/dsshome1/0C/ra93lal2/.local/share/virtualenvs/CMA_Fairness_v2-3j10GkSs/lib/python3.10/site-packages/IPython/core/magics/osm.py:417: UserWarning: This is now an optional IPython functionality, setting dhist requires you to install the `pickleshare` library.\n",
      "  self.shell.db['dhist'] = compress_dhist(dhist)[-100:]\n"
     ]
    }
   ],
   "source": [
    "%cd ~/cma/CMA_Fairness_v2"
   ]
  },
  {
   "cell_type": "markdown",
   "id": "de2603b9",
   "metadata": {
    "papermill": {
     "duration": 0.017707,
     "end_time": "2025-08-05T16:07:01.440129",
     "exception": false,
     "start_time": "2025-08-05T16:07:01.422422",
     "status": "completed"
    },
    "tags": []
   },
   "source": [
    "The following cell holds the definition of our parameters, these values can be overriden by rendering the with e.g. the following command:\n",
    "\n",
    "papermill -p alpha 0.2 -p ratio 0.3 universe_analysis.ipynb output/test_run.ipynb"
   ]
  },
  {
   "cell_type": "code",
   "execution_count": 2,
   "id": "a80968a0-40bb-4fa9-85ef-2d5eefb01975",
   "metadata": {
    "execution": {
     "iopub.execute_input": "2025-08-05T16:07:01.475208Z",
     "iopub.status.busy": "2025-08-05T16:07:01.474405Z",
     "iopub.status.idle": "2025-08-05T16:07:01.480525Z",
     "shell.execute_reply": "2025-08-05T16:07:01.479403Z"
    },
    "papermill": {
     "duration": 0.026027,
     "end_time": "2025-08-05T16:07:01.482899",
     "exception": false,
     "start_time": "2025-08-05T16:07:01.456872",
     "status": "completed"
    },
    "tags": []
   },
   "outputs": [
    {
     "name": "stdout",
     "output_type": "stream",
     "text": [
      "Current working directory: /dss/dsshome1/0C/ra93lal2/cma/CMA_Fairness_v2\n"
     ]
    }
   ],
   "source": [
    "import os\n",
    "print(\"Current working directory:\", os.getcwd())"
   ]
  },
  {
   "cell_type": "code",
   "execution_count": 3,
   "id": "2dce4c03",
   "metadata": {
    "execution": {
     "iopub.execute_input": "2025-08-05T16:07:01.520917Z",
     "iopub.status.busy": "2025-08-05T16:07:01.520099Z",
     "iopub.status.idle": "2025-08-05T16:07:01.526777Z",
     "shell.execute_reply": "2025-08-05T16:07:01.525645Z"
    },
    "papermill": {
     "duration": 0.027174,
     "end_time": "2025-08-05T16:07:01.528524",
     "exception": false,
     "start_time": "2025-08-05T16:07:01.501350",
     "status": "completed"
    },
    "tags": [
     "parameters"
    ]
   },
   "outputs": [],
   "source": [
    "run_no = 0\n",
    "universe_id = \"test\"\n",
    "universe = {\n",
    "    \"training_size\": \"25k\", # \"25k\", \"5k\", \"1k\"\n",
    "    \"training_year\": \"2014\", # \"2014\", \"2012_14\", \"2010_14\"\n",
    "    \"scale\": \"scale\", # \"scale\", \"do-not-scale\",\n",
    "    \"model\": \"elasticnet\", # \"logreg\", \"penalized_logreg\", \"rf\", \"gbm\", \"elasticnet\"\n",
    "    \"cutoff\": [\"quantile_0.15\", \"quantile_0.30\"],\n",
    "    \"exclude_features\": \"age\", # \"none\", \"nationality\", \"sex\", \"nationality-sex\", \"age\"\n",
    "    \"exclude_subgroups\": \"keep-all\", # \"keep-all\", \"drop-non-german\"\n",
    "    \"eval_fairness_grouping\": [\"majority-minority\", \"nationality-all\"]\n",
    "}\n",
    "\n",
    "output_dir=\"./output\"\n",
    "seed=0"
   ]
  },
  {
   "cell_type": "code",
   "execution_count": 4,
   "id": "5e8fd19b",
   "metadata": {
    "execution": {
     "iopub.execute_input": "2025-08-05T16:07:01.564709Z",
     "iopub.status.busy": "2025-08-05T16:07:01.563897Z",
     "iopub.status.idle": "2025-08-05T16:07:01.569150Z",
     "shell.execute_reply": "2025-08-05T16:07:01.568221Z"
    },
    "papermill": {
     "duration": 0.02461,
     "end_time": "2025-08-05T16:07:01.570992",
     "exception": false,
     "start_time": "2025-08-05T16:07:01.546382",
     "status": "completed"
    },
    "tags": [
     "injected-parameters"
    ]
   },
   "outputs": [],
   "source": [
    "# Parameters\n",
    "universe_id = \"1af6cf87beb9989d6e73e4a164af30d0\"\n",
    "run_no = \"15\"\n",
    "universe = \"{\\\"cutoff\\\": [\\\"quantile_0.1\\\", \\\"quantile_0.25\\\"], \\\"eval_fairness_grouping\\\": [\\\"majority-minority\\\", \\\"nationality-all\\\"], \\\"exclude_features\\\": \\\"none\\\", \\\"exclude_subgroups\\\": \\\"keep-all\\\", \\\"model\\\": \\\"elasticnet\\\", \\\"scale\\\": \\\"scale\\\", \\\"training_size\\\": \\\"1k\\\", \\\"training_year\\\": \\\"2014\\\"}\"\n",
    "output_dir = \"output\"\n",
    "seed = \"2023\"\n"
   ]
  },
  {
   "cell_type": "code",
   "execution_count": 5,
   "id": "1650acaf",
   "metadata": {
    "execution": {
     "iopub.execute_input": "2025-08-05T16:07:01.608900Z",
     "iopub.status.busy": "2025-08-05T16:07:01.608097Z",
     "iopub.status.idle": "2025-08-05T16:07:01.613525Z",
     "shell.execute_reply": "2025-08-05T16:07:01.612501Z"
    },
    "papermill": {
     "duration": 0.026679,
     "end_time": "2025-08-05T16:07:01.615275",
     "exception": false,
     "start_time": "2025-08-05T16:07:01.588596",
     "status": "completed"
    },
    "tags": []
   },
   "outputs": [],
   "source": [
    "import json\n",
    "if isinstance(universe, str):\n",
    "    universe = json.loads(universe)"
   ]
  },
  {
   "cell_type": "code",
   "execution_count": 6,
   "id": "16620c48",
   "metadata": {
    "execution": {
     "iopub.execute_input": "2025-08-05T16:07:01.651207Z",
     "iopub.status.busy": "2025-08-05T16:07:01.650879Z",
     "iopub.status.idle": "2025-08-05T16:07:01.697102Z",
     "shell.execute_reply": "2025-08-05T16:07:01.696222Z"
    },
    "papermill": {
     "duration": 0.06637,
     "end_time": "2025-08-05T16:07:01.698904",
     "exception": false,
     "start_time": "2025-08-05T16:07:01.632534",
     "status": "completed"
    },
    "tags": []
   },
   "outputs": [],
   "source": [
    "# Auto-reload the custom package\n",
    "%load_ext autoreload\n",
    "%autoreload 1\n",
    "%aimport fairness_multiverse"
   ]
  },
  {
   "cell_type": "code",
   "execution_count": 7,
   "id": "01c5c9f3",
   "metadata": {
    "execution": {
     "iopub.execute_input": "2025-08-05T16:07:01.736896Z",
     "iopub.status.busy": "2025-08-05T16:07:01.736147Z",
     "iopub.status.idle": "2025-08-05T16:07:03.723701Z",
     "shell.execute_reply": "2025-08-05T16:07:03.722689Z"
    },
    "papermill": {
     "duration": 2.009124,
     "end_time": "2025-08-05T16:07:03.725668",
     "exception": false,
     "start_time": "2025-08-05T16:07:01.716544",
     "status": "completed"
    },
    "tags": []
   },
   "outputs": [],
   "source": [
    "from fairness_multiverse.universe import UniverseAnalysis\n",
    "\n",
    "universe_analysis = UniverseAnalysis(\n",
    "    run_no = run_no,\n",
    "    universe_id = universe_id,\n",
    "    universe = universe,\n",
    "    output_dir=output_dir,\n",
    ")"
   ]
  },
  {
   "cell_type": "code",
   "execution_count": 8,
   "id": "106241f5",
   "metadata": {
    "execution": {
     "iopub.execute_input": "2025-08-05T16:07:03.765771Z",
     "iopub.status.busy": "2025-08-05T16:07:03.765232Z",
     "iopub.status.idle": "2025-08-05T16:07:03.772147Z",
     "shell.execute_reply": "2025-08-05T16:07:03.771051Z"
    },
    "papermill": {
     "duration": 0.027453,
     "end_time": "2025-08-05T16:07:03.773961",
     "exception": false,
     "start_time": "2025-08-05T16:07:03.746508",
     "status": "completed"
    },
    "tags": []
   },
   "outputs": [
    {
     "name": "stdout",
     "output_type": "stream",
     "text": [
      "Using Seed: 2023\n"
     ]
    }
   ],
   "source": [
    "import numpy as np\n",
    "parsed_seed = int(seed)\n",
    "np.random.seed(parsed_seed)\n",
    "print(f\"Using Seed: {parsed_seed}\")"
   ]
  },
  {
   "cell_type": "markdown",
   "id": "e0ebdc57",
   "metadata": {
    "papermill": {
     "duration": 0.018559,
     "end_time": "2025-08-05T16:07:03.810537",
     "exception": false,
     "start_time": "2025-08-05T16:07:03.791978",
     "status": "completed"
    },
    "tags": []
   },
   "source": [
    "# Loading Data"
   ]
  },
  {
   "cell_type": "code",
   "execution_count": 9,
   "id": "f0496b8a",
   "metadata": {
    "execution": {
     "iopub.execute_input": "2025-08-05T16:07:03.846719Z",
     "iopub.status.busy": "2025-08-05T16:07:03.845890Z",
     "iopub.status.idle": "2025-08-05T16:07:16.822343Z",
     "shell.execute_reply": "2025-08-05T16:07:16.821217Z"
    },
    "papermill": {
     "duration": 12.996405,
     "end_time": "2025-08-05T16:07:16.823972",
     "exception": false,
     "start_time": "2025-08-05T16:07:03.827567",
     "status": "completed"
    },
    "tags": []
   },
   "outputs": [
    {
     "name": "stdout",
     "output_type": "stream",
     "text": [
      "Loading SIAB data from cache: data/siab_cached.csv.gz\n"
     ]
    },
    {
     "name": "stdout",
     "output_type": "stream",
     "text": [
      "(643690, 164)\n"
     ]
    }
   ],
   "source": [
    "from pathlib import Path\n",
    "import pandas as pd\n",
    "\n",
    "# File paths\n",
    "raw_file = Path(\"data/raw/siab.csv\")\n",
    "cache_file = Path(\"data/siab_cached.csv.gz\")\n",
    "\n",
    "# Ensure cache directory exists\n",
    "cache_file.parent.mkdir(parents=True, exist_ok=True)\n",
    "\n",
    "# Load with simple caching\n",
    "if cache_file.exists():\n",
    "    print(f\"Loading SIAB data from cache: {cache_file}\")\n",
    "    siab = pd.read_csv(cache_file, compression='gzip')\n",
    "else:\n",
    "    print(f\"Cache not found. Reading raw SIAB data: {raw_file}\")\n",
    "    siab = pd.read_csv(raw_file)\n",
    "    siab.to_csv(cache_file, index=False, compression='gzip')\n",
    "    print(f\"Cached SIAB data to: {cache_file}\")\n",
    "\n",
    "print(siab.shape)"
   ]
  },
  {
   "cell_type": "code",
   "execution_count": 10,
   "id": "db0ca512-5f53-4dba-abdb-a2888bca41ba",
   "metadata": {
    "execution": {
     "iopub.execute_input": "2025-08-05T16:07:16.861874Z",
     "iopub.status.busy": "2025-08-05T16:07:16.861282Z",
     "iopub.status.idle": "2025-08-05T16:07:16.867880Z",
     "shell.execute_reply": "2025-08-05T16:07:16.866777Z"
    },
    "papermill": {
     "duration": 0.026789,
     "end_time": "2025-08-05T16:07:16.870056",
     "exception": false,
     "start_time": "2025-08-05T16:07:16.843267",
     "status": "completed"
    },
    "tags": []
   },
   "outputs": [],
   "source": [
    "#siab"
   ]
  },
  {
   "cell_type": "markdown",
   "id": "997051c5-15bd-4b69-9786-c3001a3ce484",
   "metadata": {
    "papermill": {
     "duration": 0.019362,
     "end_time": "2025-08-05T16:07:16.909190",
     "exception": false,
     "start_time": "2025-08-05T16:07:16.889828",
     "status": "completed"
    },
    "tags": []
   },
   "source": [
    "# Splitting Data and Setting Training Data Size"
   ]
  },
  {
   "cell_type": "code",
   "execution_count": 11,
   "id": "aea9c6ef-6f46-42c8-85eb-5a62025c1508",
   "metadata": {
    "execution": {
     "iopub.execute_input": "2025-08-05T16:07:16.950810Z",
     "iopub.status.busy": "2025-08-05T16:07:16.950098Z",
     "iopub.status.idle": "2025-08-05T16:07:17.189690Z",
     "shell.execute_reply": "2025-08-05T16:07:17.188588Z"
    },
    "papermill": {
     "duration": 0.262571,
     "end_time": "2025-08-05T16:07:17.191771",
     "exception": false,
     "start_time": "2025-08-05T16:07:16.929200",
     "status": "completed"
    },
    "tags": []
   },
   "outputs": [],
   "source": [
    "from fairness_multiverse.universe import sample_by_year_size\n",
    "\n",
    "siab_train = sample_by_year_size(siab,\n",
    "                               training_year=universe[\"training_year\"],\n",
    "                               training_size=universe[\"training_size\"])"
   ]
  },
  {
   "cell_type": "code",
   "execution_count": 12,
   "id": "8d3afb32-789d-442c-8d5d-9f5aa8dd2eed",
   "metadata": {
    "execution": {
     "iopub.execute_input": "2025-08-05T16:07:17.234251Z",
     "iopub.status.busy": "2025-08-05T16:07:17.233282Z",
     "iopub.status.idle": "2025-08-05T16:07:17.238910Z",
     "shell.execute_reply": "2025-08-05T16:07:17.237936Z"
    },
    "papermill": {
     "duration": 0.028797,
     "end_time": "2025-08-05T16:07:17.240871",
     "exception": false,
     "start_time": "2025-08-05T16:07:17.212074",
     "status": "completed"
    },
    "tags": []
   },
   "outputs": [],
   "source": [
    "#siab_train.shape"
   ]
  },
  {
   "cell_type": "code",
   "execution_count": 13,
   "id": "d582db68-1a4c-47fb-84fc-08518dc1975a",
   "metadata": {
    "execution": {
     "iopub.execute_input": "2025-08-05T16:07:17.279395Z",
     "iopub.status.busy": "2025-08-05T16:07:17.278667Z",
     "iopub.status.idle": "2025-08-05T16:07:17.284172Z",
     "shell.execute_reply": "2025-08-05T16:07:17.283014Z"
    },
    "papermill": {
     "duration": 0.027212,
     "end_time": "2025-08-05T16:07:17.286291",
     "exception": false,
     "start_time": "2025-08-05T16:07:17.259079",
     "status": "completed"
    },
    "tags": []
   },
   "outputs": [],
   "source": [
    "#display(siab_train.groupby(\"year\").size())"
   ]
  },
  {
   "cell_type": "code",
   "execution_count": 14,
   "id": "a561edb4-d032-42cb-8256-22eac1111c64",
   "metadata": {
    "execution": {
     "iopub.execute_input": "2025-08-05T16:07:17.324531Z",
     "iopub.status.busy": "2025-08-05T16:07:17.323508Z",
     "iopub.status.idle": "2025-08-05T16:07:17.561675Z",
     "shell.execute_reply": "2025-08-05T16:07:17.560249Z"
    },
    "papermill": {
     "duration": 0.260063,
     "end_time": "2025-08-05T16:07:17.564177",
     "exception": false,
     "start_time": "2025-08-05T16:07:17.304114",
     "status": "completed"
    },
    "tags": []
   },
   "outputs": [],
   "source": [
    "#siab_train = siab_s[siab_s.year < 2015]\n",
    "siab_calib = siab[siab.year == 2015]\n",
    "siab_test = siab[siab.year == 2016]"
   ]
  },
  {
   "cell_type": "code",
   "execution_count": 15,
   "id": "472de16f-c3db-4916-846b-1f0de9cf1746",
   "metadata": {
    "execution": {
     "iopub.execute_input": "2025-08-05T16:07:17.617301Z",
     "iopub.status.busy": "2025-08-05T16:07:17.616746Z",
     "iopub.status.idle": "2025-08-05T16:07:17.624869Z",
     "shell.execute_reply": "2025-08-05T16:07:17.623822Z"
    },
    "papermill": {
     "duration": 0.037318,
     "end_time": "2025-08-05T16:07:17.626761",
     "exception": false,
     "start_time": "2025-08-05T16:07:17.589443",
     "status": "completed"
    },
    "tags": []
   },
   "outputs": [],
   "source": [
    "X_train = siab_train.iloc[:,4:164]\n",
    "y_train = siab_train.iloc[:, [3]]"
   ]
  },
  {
   "cell_type": "code",
   "execution_count": 16,
   "id": "828c96af-f43a-4ed6-ba47-8ac73a47d56c",
   "metadata": {
    "execution": {
     "iopub.execute_input": "2025-08-05T16:07:17.662660Z",
     "iopub.status.busy": "2025-08-05T16:07:17.661782Z",
     "iopub.status.idle": "2025-08-05T16:07:17.722154Z",
     "shell.execute_reply": "2025-08-05T16:07:17.720659Z"
    },
    "papermill": {
     "duration": 0.07968,
     "end_time": "2025-08-05T16:07:17.723693",
     "exception": false,
     "start_time": "2025-08-05T16:07:17.644013",
     "status": "completed"
    },
    "tags": []
   },
   "outputs": [],
   "source": [
    "X_calib = siab_calib.iloc[:,4:164]\n",
    "y_calib = siab_calib.iloc[:, [3]]"
   ]
  },
  {
   "cell_type": "code",
   "execution_count": 17,
   "id": "c34be9c3-6bd6-476e-acd3-845840e303be",
   "metadata": {
    "execution": {
     "iopub.execute_input": "2025-08-05T16:07:17.761980Z",
     "iopub.status.busy": "2025-08-05T16:07:17.761383Z",
     "iopub.status.idle": "2025-08-05T16:07:17.821913Z",
     "shell.execute_reply": "2025-08-05T16:07:17.820892Z"
    },
    "papermill": {
     "duration": 0.081015,
     "end_time": "2025-08-05T16:07:17.823592",
     "exception": false,
     "start_time": "2025-08-05T16:07:17.742577",
     "status": "completed"
    },
    "tags": []
   },
   "outputs": [],
   "source": [
    "X_test = siab_test.iloc[:,4:164]\n",
    "y_true = siab_test.iloc[:, [3]]"
   ]
  },
  {
   "cell_type": "code",
   "execution_count": 18,
   "id": "e6c733c5",
   "metadata": {
    "execution": {
     "iopub.execute_input": "2025-08-05T16:07:17.847176Z",
     "iopub.status.busy": "2025-08-05T16:07:17.846321Z",
     "iopub.status.idle": "2025-08-05T16:07:17.936434Z",
     "shell.execute_reply": "2025-08-05T16:07:17.935683Z"
    },
    "papermill": {
     "duration": 0.103692,
     "end_time": "2025-08-05T16:07:17.937996",
     "exception": false,
     "start_time": "2025-08-05T16:07:17.834304",
     "status": "completed"
    },
    "tags": []
   },
   "outputs": [],
   "source": [
    "# Auxiliary data needed downstream in the pipeline\n",
    "\n",
    "org_train = X_train.copy()\n",
    "org_test = X_test.copy()\n",
    "org_calib = X_calib.copy()"
   ]
  },
  {
   "cell_type": "markdown",
   "id": "0a4a1b33",
   "metadata": {
    "papermill": {
     "duration": 0.009481,
     "end_time": "2025-08-05T16:07:17.957498",
     "exception": false,
     "start_time": "2025-08-05T16:07:17.948017",
     "status": "completed"
    },
    "tags": []
   },
   "source": [
    "# Preprocessing Data"
   ]
  },
  {
   "cell_type": "code",
   "execution_count": 19,
   "id": "ca879031",
   "metadata": {
    "execution": {
     "iopub.execute_input": "2025-08-05T16:07:17.977362Z",
     "iopub.status.busy": "2025-08-05T16:07:17.977013Z",
     "iopub.status.idle": "2025-08-05T16:07:17.982193Z",
     "shell.execute_reply": "2025-08-05T16:07:17.981412Z"
    },
    "papermill": {
     "duration": 0.016786,
     "end_time": "2025-08-05T16:07:17.983683",
     "exception": false,
     "start_time": "2025-08-05T16:07:17.966897",
     "status": "completed"
    },
    "tags": []
   },
   "outputs": [],
   "source": [
    "# EXCLUDE PROTECTED FEATURES\n",
    "# ----------------------\n",
    "# \"exclude_features\": \"none\", # \"nationality\", \"sex\", \"nationality-sex\"\n",
    "\n",
    "excluded_features = universe[\"exclude_features\"].split(\"-\") # split, e.g.: \"nationality-sex\" -> [\"nationality\", \"sex\"]\n",
    "excluded_features_dictionary = {\n",
    "    \"nationality\": [\"maxdeutsch1\", \"maxdeutsch.Missing.\"],\n",
    "    \"sex\": [\"frau1\"],\n",
    "    \"age\": [\"age\"],\n",
    "}"
   ]
  },
  {
   "cell_type": "code",
   "execution_count": 20,
   "id": "b745ac60",
   "metadata": {
    "execution": {
     "iopub.execute_input": "2025-08-05T16:07:18.005056Z",
     "iopub.status.busy": "2025-08-05T16:07:18.004675Z",
     "iopub.status.idle": "2025-08-05T16:07:18.009664Z",
     "shell.execute_reply": "2025-08-05T16:07:18.008847Z"
    },
    "papermill": {
     "duration": 0.016668,
     "end_time": "2025-08-05T16:07:18.011052",
     "exception": false,
     "start_time": "2025-08-05T16:07:17.994384",
     "status": "completed"
    },
    "tags": []
   },
   "outputs": [],
   "source": [
    "# Code nice names to column names\n",
    "\n",
    "excluded_features_columns = [\n",
    "    excluded_features_dictionary[f] for f in excluded_features if len(f) > 0 and f != \"none\"\n",
    "]"
   ]
  },
  {
   "cell_type": "code",
   "execution_count": 21,
   "id": "f84f73a2",
   "metadata": {
    "execution": {
     "iopub.execute_input": "2025-08-05T16:07:18.032626Z",
     "iopub.status.busy": "2025-08-05T16:07:18.032273Z",
     "iopub.status.idle": "2025-08-05T16:07:18.038070Z",
     "shell.execute_reply": "2025-08-05T16:07:18.037225Z"
    },
    "papermill": {
     "duration": 0.01785,
     "end_time": "2025-08-05T16:07:18.039596",
     "exception": false,
     "start_time": "2025-08-05T16:07:18.021746",
     "status": "completed"
    },
    "tags": []
   },
   "outputs": [],
   "source": [
    "from utils import flatten_once\n",
    "\n",
    "excluded_features_columns = flatten_once(excluded_features_columns)"
   ]
  },
  {
   "cell_type": "code",
   "execution_count": 22,
   "id": "884dea22",
   "metadata": {
    "execution": {
     "iopub.execute_input": "2025-08-05T16:07:18.061712Z",
     "iopub.status.busy": "2025-08-05T16:07:18.061334Z",
     "iopub.status.idle": "2025-08-05T16:07:18.066223Z",
     "shell.execute_reply": "2025-08-05T16:07:18.065347Z"
    },
    "papermill": {
     "duration": 0.017043,
     "end_time": "2025-08-05T16:07:18.067660",
     "exception": false,
     "start_time": "2025-08-05T16:07:18.050617",
     "status": "completed"
    },
    "tags": []
   },
   "outputs": [],
   "source": [
    "if len(excluded_features_columns) > 0:\n",
    "    print(f\"Dropping features: {excluded_features_columns}\")\n",
    "    X_train.drop(excluded_features_columns, axis=1, inplace=True)"
   ]
  },
  {
   "cell_type": "code",
   "execution_count": 23,
   "id": "95ab8b16",
   "metadata": {
    "execution": {
     "iopub.execute_input": "2025-08-05T16:07:18.106728Z",
     "iopub.status.busy": "2025-08-05T16:07:18.106228Z",
     "iopub.status.idle": "2025-08-05T16:07:18.112038Z",
     "shell.execute_reply": "2025-08-05T16:07:18.110936Z"
    },
    "papermill": {
     "duration": 0.028072,
     "end_time": "2025-08-05T16:07:18.113906",
     "exception": false,
     "start_time": "2025-08-05T16:07:18.085834",
     "status": "completed"
    },
    "tags": []
   },
   "outputs": [],
   "source": [
    "if len(excluded_features_columns) > 0:\n",
    "    print(f\"Dropping features: {excluded_features_columns}\")\n",
    "    X_test.drop(excluded_features_columns, axis=1, inplace=True)"
   ]
  },
  {
   "cell_type": "code",
   "execution_count": 24,
   "id": "1853aaf5-fb9f-46cb-a2b5-8ea4ae2237e4",
   "metadata": {
    "execution": {
     "iopub.execute_input": "2025-08-05T16:07:18.140818Z",
     "iopub.status.busy": "2025-08-05T16:07:18.140449Z",
     "iopub.status.idle": "2025-08-05T16:07:18.145885Z",
     "shell.execute_reply": "2025-08-05T16:07:18.145096Z"
    },
    "papermill": {
     "duration": 0.018491,
     "end_time": "2025-08-05T16:07:18.147551",
     "exception": false,
     "start_time": "2025-08-05T16:07:18.129060",
     "status": "completed"
    },
    "tags": []
   },
   "outputs": [],
   "source": [
    "if len(excluded_features_columns) > 0:\n",
    "    print(f\"Dropping features: {excluded_features_columns}\")\n",
    "    X_calib.drop(excluded_features_columns, axis=1, inplace=True)"
   ]
  },
  {
   "cell_type": "code",
   "execution_count": 25,
   "id": "76c4dc6d",
   "metadata": {
    "execution": {
     "iopub.execute_input": "2025-08-05T16:07:18.169582Z",
     "iopub.status.busy": "2025-08-05T16:07:18.169058Z",
     "iopub.status.idle": "2025-08-05T16:07:18.174015Z",
     "shell.execute_reply": "2025-08-05T16:07:18.173213Z"
    },
    "papermill": {
     "duration": 0.01717,
     "end_time": "2025-08-05T16:07:18.175477",
     "exception": false,
     "start_time": "2025-08-05T16:07:18.158307",
     "status": "completed"
    },
    "tags": []
   },
   "outputs": [],
   "source": [
    "# EXCLUDE CERTAIN SUBGROUPS\n",
    "# ----------------------\n",
    "\n",
    "mode = universe.get(\"exclude_subgroups\", \"keep-all\") \n",
    "# Fetches the exclude_subgroups setting from the universe dict.\n",
    "# Defaults to \"keep-all\" if the key is missing."
   ]
  },
  {
   "cell_type": "code",
   "execution_count": 26,
   "id": "21994072",
   "metadata": {
    "execution": {
     "iopub.execute_input": "2025-08-05T16:07:18.197895Z",
     "iopub.status.busy": "2025-08-05T16:07:18.197238Z",
     "iopub.status.idle": "2025-08-05T16:07:18.204560Z",
     "shell.execute_reply": "2025-08-05T16:07:18.203718Z"
    },
    "papermill": {
     "duration": 0.019593,
     "end_time": "2025-08-05T16:07:18.206193",
     "exception": false,
     "start_time": "2025-08-05T16:07:18.186600",
     "status": "completed"
    },
    "tags": []
   },
   "outputs": [],
   "source": [
    "if mode == \"keep-all\":\n",
    "    keep_mask = pd.Series(True, index=org_train.index)\n",
    "\n",
    "# org_train contains the original feature columns from features_org (in Simson)\n",
    "# features_org contains unprocessed features, for me X_train at beginning ???\n",
    "# For keep-all, creates a boolean Series (keep_mask) of all True, so no rows are removed.\n",
    "\n",
    "elif mode == \"drop-non-german\":\n",
    "    keep_mask = org_train[\"maxdeutsch1\"] == 1 # ??? what about missing values?\n",
    "\n",
    "else:\n",
    "    raise ValueError(f\"Unsupported mode for exclude_subgroups: {mode}\")"
   ]
  },
  {
   "cell_type": "code",
   "execution_count": 27,
   "id": "71651440",
   "metadata": {
    "execution": {
     "iopub.execute_input": "2025-08-05T16:07:18.228718Z",
     "iopub.status.busy": "2025-08-05T16:07:18.228194Z",
     "iopub.status.idle": "2025-08-05T16:07:18.234131Z",
     "shell.execute_reply": "2025-08-05T16:07:18.233088Z"
    },
    "papermill": {
     "duration": 0.018202,
     "end_time": "2025-08-05T16:07:18.235536",
     "exception": false,
     "start_time": "2025-08-05T16:07:18.217334",
     "status": "completed"
    },
    "tags": []
   },
   "outputs": [],
   "source": [
    "n_drop = (~keep_mask).sum() # Calculates how many rows are set to be dropped\n",
    "if n_drop > 0:\n",
    "    pct = n_drop / len(keep_mask) * 100\n",
    "    print(f\"Dropping {n_drop} rows ({pct:.2f}%) where mode='{mode}'\")"
   ]
  },
  {
   "cell_type": "code",
   "execution_count": 28,
   "id": "5fb8eee5",
   "metadata": {
    "execution": {
     "iopub.execute_input": "2025-08-05T16:07:18.256580Z",
     "iopub.status.busy": "2025-08-05T16:07:18.255944Z",
     "iopub.status.idle": "2025-08-05T16:07:18.261337Z",
     "shell.execute_reply": "2025-08-05T16:07:18.260537Z"
    },
    "papermill": {
     "duration": 0.017131,
     "end_time": "2025-08-05T16:07:18.262849",
     "exception": false,
     "start_time": "2025-08-05T16:07:18.245718",
     "status": "completed"
    },
    "tags": []
   },
   "outputs": [],
   "source": [
    "X_train = X_train[keep_mask]"
   ]
  },
  {
   "cell_type": "code",
   "execution_count": 29,
   "id": "b202bb3a",
   "metadata": {
    "execution": {
     "iopub.execute_input": "2025-08-05T16:07:18.284511Z",
     "iopub.status.busy": "2025-08-05T16:07:18.284006Z",
     "iopub.status.idle": "2025-08-05T16:07:18.289160Z",
     "shell.execute_reply": "2025-08-05T16:07:18.288226Z"
    },
    "papermill": {
     "duration": 0.017057,
     "end_time": "2025-08-05T16:07:18.290788",
     "exception": false,
     "start_time": "2025-08-05T16:07:18.273731",
     "status": "completed"
    },
    "tags": []
   },
   "outputs": [],
   "source": [
    "y_train = y_train[keep_mask]"
   ]
  },
  {
   "cell_type": "markdown",
   "id": "493e2ac3",
   "metadata": {
    "papermill": {
     "duration": 0.009279,
     "end_time": "2025-08-05T16:07:18.310315",
     "exception": false,
     "start_time": "2025-08-05T16:07:18.301036",
     "status": "completed"
    },
    "tags": []
   },
   "source": [
    "# Model Training"
   ]
  },
  {
   "cell_type": "code",
   "execution_count": 30,
   "id": "679e1268",
   "metadata": {
    "execution": {
     "iopub.execute_input": "2025-08-05T16:07:18.330773Z",
     "iopub.status.busy": "2025-08-05T16:07:18.330109Z",
     "iopub.status.idle": "2025-08-05T16:07:18.408853Z",
     "shell.execute_reply": "2025-08-05T16:07:18.408097Z"
    },
    "papermill": {
     "duration": 0.090638,
     "end_time": "2025-08-05T16:07:18.410397",
     "exception": false,
     "start_time": "2025-08-05T16:07:18.319759",
     "status": "completed"
    },
    "tags": []
   },
   "outputs": [],
   "source": [
    "from sklearn.linear_model import LogisticRegression\n",
    "from sklearn.ensemble import GradientBoostingClassifier, RandomForestClassifier\n",
    "\n",
    "if (universe[\"model\"] == \"logreg\"):\n",
    "    model = LogisticRegression() #penalty=\"none\", solver=\"newton-cg\", max_iter=1) # include random_state=19 ?\n",
    "elif (universe[\"model\"] == \"penalized_logreg\"):\n",
    "    model = LogisticRegression(penalty=\"l2\", C=0.1) #, solver=\"newton-cg\", max_iter=1)\n",
    "elif (universe[\"model\"] == \"rf\"):\n",
    "    model = RandomForestClassifier() # n_estimators=100, n_jobs=-1\n",
    "elif (universe[\"model\"] == \"gbm\"):\n",
    "    model = GradientBoostingClassifier()\n",
    "elif (universe[\"model\"] == \"elasticnet\"):\n",
    "    model = LogisticRegression(penalty = 'elasticnet', solver = 'saga', l1_ratio = 0.5) # max_iter=5000\n",
    "else:\n",
    "    raise \"Unsupported universe.model\""
   ]
  },
  {
   "cell_type": "code",
   "execution_count": 31,
   "id": "0cc8f744",
   "metadata": {
    "execution": {
     "iopub.execute_input": "2025-08-05T16:07:18.431496Z",
     "iopub.status.busy": "2025-08-05T16:07:18.431033Z",
     "iopub.status.idle": "2025-08-05T16:07:18.436131Z",
     "shell.execute_reply": "2025-08-05T16:07:18.435376Z"
    },
    "papermill": {
     "duration": 0.016737,
     "end_time": "2025-08-05T16:07:18.437651",
     "exception": false,
     "start_time": "2025-08-05T16:07:18.420914",
     "status": "completed"
    },
    "tags": []
   },
   "outputs": [],
   "source": [
    "import numpy as np\n",
    "from sklearn.pipeline import Pipeline\n",
    "from sklearn.preprocessing import StandardScaler\n",
    "\n",
    "model = Pipeline([\n",
    "    #(\"continuous_processor\", continuous_processor),\n",
    "    #(\"categorical_preprocessor\", categorical_preprocessor),\n",
    "    (\"scale\", StandardScaler() if universe[\"scale\"] == \"scale\" else None), \n",
    "    (\"model\", model),\n",
    "])"
   ]
  },
  {
   "cell_type": "code",
   "execution_count": 32,
   "id": "9442c04d",
   "metadata": {
    "execution": {
     "iopub.execute_input": "2025-08-05T16:07:18.459239Z",
     "iopub.status.busy": "2025-08-05T16:07:18.458549Z",
     "iopub.status.idle": "2025-08-05T16:07:18.695928Z",
     "shell.execute_reply": "2025-08-05T16:07:18.695065Z"
    },
    "papermill": {
     "duration": 0.249885,
     "end_time": "2025-08-05T16:07:18.697914",
     "exception": false,
     "start_time": "2025-08-05T16:07:18.448029",
     "status": "completed"
    },
    "tags": []
   },
   "outputs": [
    {
     "name": "stderr",
     "output_type": "stream",
     "text": [
      "/dss/dsshome1/0C/ra93lal2/.local/share/virtualenvs/CMA_Fairness_v2-3j10GkSs/lib/python3.10/site-packages/sklearn/linear_model/_sag.py:350: ConvergenceWarning: The max_iter was reached which means the coef_ did not converge\n",
      "  warnings.warn(\n"
     ]
    },
    {
     "data": {
      "text/html": [
       "<style>#sk-container-id-1 {color: black;background-color: white;}#sk-container-id-1 pre{padding: 0;}#sk-container-id-1 div.sk-toggleable {background-color: white;}#sk-container-id-1 label.sk-toggleable__label {cursor: pointer;display: block;width: 100%;margin-bottom: 0;padding: 0.3em;box-sizing: border-box;text-align: center;}#sk-container-id-1 label.sk-toggleable__label-arrow:before {content: \"▸\";float: left;margin-right: 0.25em;color: #696969;}#sk-container-id-1 label.sk-toggleable__label-arrow:hover:before {color: black;}#sk-container-id-1 div.sk-estimator:hover label.sk-toggleable__label-arrow:before {color: black;}#sk-container-id-1 div.sk-toggleable__content {max-height: 0;max-width: 0;overflow: hidden;text-align: left;background-color: #f0f8ff;}#sk-container-id-1 div.sk-toggleable__content pre {margin: 0.2em;color: black;border-radius: 0.25em;background-color: #f0f8ff;}#sk-container-id-1 input.sk-toggleable__control:checked~div.sk-toggleable__content {max-height: 200px;max-width: 100%;overflow: auto;}#sk-container-id-1 input.sk-toggleable__control:checked~label.sk-toggleable__label-arrow:before {content: \"▾\";}#sk-container-id-1 div.sk-estimator input.sk-toggleable__control:checked~label.sk-toggleable__label {background-color: #d4ebff;}#sk-container-id-1 div.sk-label input.sk-toggleable__control:checked~label.sk-toggleable__label {background-color: #d4ebff;}#sk-container-id-1 input.sk-hidden--visually {border: 0;clip: rect(1px 1px 1px 1px);clip: rect(1px, 1px, 1px, 1px);height: 1px;margin: -1px;overflow: hidden;padding: 0;position: absolute;width: 1px;}#sk-container-id-1 div.sk-estimator {font-family: monospace;background-color: #f0f8ff;border: 1px dotted black;border-radius: 0.25em;box-sizing: border-box;margin-bottom: 0.5em;}#sk-container-id-1 div.sk-estimator:hover {background-color: #d4ebff;}#sk-container-id-1 div.sk-parallel-item::after {content: \"\";width: 100%;border-bottom: 1px solid gray;flex-grow: 1;}#sk-container-id-1 div.sk-label:hover label.sk-toggleable__label {background-color: #d4ebff;}#sk-container-id-1 div.sk-serial::before {content: \"\";position: absolute;border-left: 1px solid gray;box-sizing: border-box;top: 0;bottom: 0;left: 50%;z-index: 0;}#sk-container-id-1 div.sk-serial {display: flex;flex-direction: column;align-items: center;background-color: white;padding-right: 0.2em;padding-left: 0.2em;position: relative;}#sk-container-id-1 div.sk-item {position: relative;z-index: 1;}#sk-container-id-1 div.sk-parallel {display: flex;align-items: stretch;justify-content: center;background-color: white;position: relative;}#sk-container-id-1 div.sk-item::before, #sk-container-id-1 div.sk-parallel-item::before {content: \"\";position: absolute;border-left: 1px solid gray;box-sizing: border-box;top: 0;bottom: 0;left: 50%;z-index: -1;}#sk-container-id-1 div.sk-parallel-item {display: flex;flex-direction: column;z-index: 1;position: relative;background-color: white;}#sk-container-id-1 div.sk-parallel-item:first-child::after {align-self: flex-end;width: 50%;}#sk-container-id-1 div.sk-parallel-item:last-child::after {align-self: flex-start;width: 50%;}#sk-container-id-1 div.sk-parallel-item:only-child::after {width: 0;}#sk-container-id-1 div.sk-dashed-wrapped {border: 1px dashed gray;margin: 0 0.4em 0.5em 0.4em;box-sizing: border-box;padding-bottom: 0.4em;background-color: white;}#sk-container-id-1 div.sk-label label {font-family: monospace;font-weight: bold;display: inline-block;line-height: 1.2em;}#sk-container-id-1 div.sk-label-container {text-align: center;}#sk-container-id-1 div.sk-container {/* jupyter's `normalize.less` sets `[hidden] { display: none; }` but bootstrap.min.css set `[hidden] { display: none !important; }` so we also need the `!important` here to be able to override the default hidden behavior on the sphinx rendered scikit-learn.org. See: https://github.com/scikit-learn/scikit-learn/issues/21755 */display: inline-block !important;position: relative;}#sk-container-id-1 div.sk-text-repr-fallback {display: none;}</style><div id=\"sk-container-id-1\" class=\"sk-top-container\"><div class=\"sk-text-repr-fallback\"><pre>Pipeline(steps=[(&#x27;scale&#x27;, StandardScaler()),\n",
       "                (&#x27;model&#x27;,\n",
       "                 LogisticRegression(l1_ratio=0.5, penalty=&#x27;elasticnet&#x27;,\n",
       "                                    solver=&#x27;saga&#x27;))])</pre><b>In a Jupyter environment, please rerun this cell to show the HTML representation or trust the notebook. <br />On GitHub, the HTML representation is unable to render, please try loading this page with nbviewer.org.</b></div><div class=\"sk-container\" hidden><div class=\"sk-item sk-dashed-wrapped\"><div class=\"sk-label-container\"><div class=\"sk-label sk-toggleable\"><input class=\"sk-toggleable__control sk-hidden--visually\" id=\"sk-estimator-id-1\" type=\"checkbox\" ><label for=\"sk-estimator-id-1\" class=\"sk-toggleable__label sk-toggleable__label-arrow\">Pipeline</label><div class=\"sk-toggleable__content\"><pre>Pipeline(steps=[(&#x27;scale&#x27;, StandardScaler()),\n",
       "                (&#x27;model&#x27;,\n",
       "                 LogisticRegression(l1_ratio=0.5, penalty=&#x27;elasticnet&#x27;,\n",
       "                                    solver=&#x27;saga&#x27;))])</pre></div></div></div><div class=\"sk-serial\"><div class=\"sk-item\"><div class=\"sk-estimator sk-toggleable\"><input class=\"sk-toggleable__control sk-hidden--visually\" id=\"sk-estimator-id-2\" type=\"checkbox\" ><label for=\"sk-estimator-id-2\" class=\"sk-toggleable__label sk-toggleable__label-arrow\">StandardScaler</label><div class=\"sk-toggleable__content\"><pre>StandardScaler()</pre></div></div></div><div class=\"sk-item\"><div class=\"sk-estimator sk-toggleable\"><input class=\"sk-toggleable__control sk-hidden--visually\" id=\"sk-estimator-id-3\" type=\"checkbox\" ><label for=\"sk-estimator-id-3\" class=\"sk-toggleable__label sk-toggleable__label-arrow\">LogisticRegression</label><div class=\"sk-toggleable__content\"><pre>LogisticRegression(l1_ratio=0.5, penalty=&#x27;elasticnet&#x27;, solver=&#x27;saga&#x27;)</pre></div></div></div></div></div></div></div>"
      ],
      "text/plain": [
       "Pipeline(steps=[('scale', StandardScaler()),\n",
       "                ('model',\n",
       "                 LogisticRegression(l1_ratio=0.5, penalty='elasticnet',\n",
       "                                    solver='saga'))])"
      ]
     },
     "execution_count": 32,
     "metadata": {},
     "output_type": "execute_result"
    }
   ],
   "source": [
    "model.fit(X_train, y_train.values.ravel())"
   ]
  },
  {
   "cell_type": "code",
   "execution_count": 33,
   "id": "af59f8c0",
   "metadata": {
    "execution": {
     "iopub.execute_input": "2025-08-05T16:07:18.719609Z",
     "iopub.status.busy": "2025-08-05T16:07:18.719282Z",
     "iopub.status.idle": "2025-08-05T16:07:18.724153Z",
     "shell.execute_reply": "2025-08-05T16:07:18.723390Z"
    },
    "papermill": {
     "duration": 0.017535,
     "end_time": "2025-08-05T16:07:18.725662",
     "exception": false,
     "start_time": "2025-08-05T16:07:18.708127",
     "status": "completed"
    },
    "tags": []
   },
   "outputs": [],
   "source": [
    "from fairness_multiverse.universe import predict_w_threshold"
   ]
  },
  {
   "cell_type": "code",
   "execution_count": 34,
   "id": "a7cf2e16",
   "metadata": {
    "execution": {
     "iopub.execute_input": "2025-08-05T16:07:18.748056Z",
     "iopub.status.busy": "2025-08-05T16:07:18.747472Z",
     "iopub.status.idle": "2025-08-05T16:07:18.922715Z",
     "shell.execute_reply": "2025-08-05T16:07:18.921869Z"
    },
    "papermill": {
     "duration": 0.187409,
     "end_time": "2025-08-05T16:07:18.924114",
     "exception": false,
     "start_time": "2025-08-05T16:07:18.736705",
     "status": "completed"
    },
    "tags": []
   },
   "outputs": [
    {
     "data": {
      "text/plain": [
       "0.8212573849069223"
      ]
     },
     "execution_count": 34,
     "metadata": {},
     "output_type": "execute_result"
    }
   ],
   "source": [
    "probs_test = model.predict_proba(X_test)\n",
    "\n",
    "'''\n",
    "Below code returns a boolean array (or binary 0/1 array depending on how it’s used) where each element \n",
    "is True if the probability of class 1 is greater than or equal to the threshold, and False otherwise.\n",
    "'''\n",
    "y_pred_default = predict_w_threshold(probs_test, 0.5)\n",
    "\n",
    "from sklearn.metrics import accuracy_score\n",
    "\n",
    "# Naive prediction\n",
    "accuracy_score(y_true = y_true, y_pred = y_pred_default)"
   ]
  },
  {
   "cell_type": "code",
   "execution_count": 35,
   "id": "081964c3",
   "metadata": {
    "execution": {
     "iopub.execute_input": "2025-08-05T16:07:18.946022Z",
     "iopub.status.busy": "2025-08-05T16:07:18.945690Z",
     "iopub.status.idle": "2025-08-05T16:07:19.122056Z",
     "shell.execute_reply": "2025-08-05T16:07:19.121151Z"
    },
    "papermill": {
     "duration": 0.188871,
     "end_time": "2025-08-05T16:07:19.123409",
     "exception": false,
     "start_time": "2025-08-05T16:07:18.934538",
     "status": "completed"
    },
    "tags": []
   },
   "outputs": [
    {
     "data": {
      "text/plain": [
       "array([0, 0, 0, ..., 0, 0, 0])"
      ]
     },
     "execution_count": 35,
     "metadata": {},
     "output_type": "execute_result"
    }
   ],
   "source": [
    "model.predict(X_test)"
   ]
  },
  {
   "cell_type": "markdown",
   "id": "56c9705b",
   "metadata": {
    "papermill": {
     "duration": 0.010329,
     "end_time": "2025-08-05T16:07:19.144693",
     "exception": false,
     "start_time": "2025-08-05T16:07:19.134364",
     "status": "completed"
    },
    "tags": []
   },
   "source": [
    "# Conformal Prediction"
   ]
  },
  {
   "cell_type": "code",
   "execution_count": 36,
   "id": "160ec6ff",
   "metadata": {
    "execution": {
     "iopub.execute_input": "2025-08-05T16:07:19.173104Z",
     "iopub.status.busy": "2025-08-05T16:07:19.167207Z",
     "iopub.status.idle": "2025-08-05T16:07:19.176937Z",
     "shell.execute_reply": "2025-08-05T16:07:19.176193Z"
    },
    "papermill": {
     "duration": 0.023741,
     "end_time": "2025-08-05T16:07:19.178618",
     "exception": false,
     "start_time": "2025-08-05T16:07:19.154877",
     "status": "completed"
    },
    "tags": []
   },
   "outputs": [],
   "source": [
    "# Miscoverage level for conformal prediction (10% allowed error rate => 90% target coverage)\n",
    "alpha = 0.1"
   ]
  },
  {
   "cell_type": "code",
   "execution_count": 37,
   "id": "eadf4555-3dd3-440e-8e35-f82a4ad9f855",
   "metadata": {
    "execution": {
     "iopub.execute_input": "2025-08-05T16:07:19.202143Z",
     "iopub.status.busy": "2025-08-05T16:07:19.201389Z",
     "iopub.status.idle": "2025-08-05T16:07:19.363785Z",
     "shell.execute_reply": "2025-08-05T16:07:19.363011Z"
    },
    "papermill": {
     "duration": 0.175186,
     "end_time": "2025-08-05T16:07:19.365294",
     "exception": false,
     "start_time": "2025-08-05T16:07:19.190108",
     "status": "completed"
    },
    "tags": []
   },
   "outputs": [],
   "source": [
    "probs_calib = model.predict_proba(X_calib)"
   ]
  },
  {
   "cell_type": "code",
   "execution_count": 38,
   "id": "2ed93547-6d5d-4983-9b36-1ecb300da49a",
   "metadata": {
    "execution": {
     "iopub.execute_input": "2025-08-05T16:07:19.387911Z",
     "iopub.status.busy": "2025-08-05T16:07:19.387560Z",
     "iopub.status.idle": "2025-08-05T16:07:19.392821Z",
     "shell.execute_reply": "2025-08-05T16:07:19.392083Z"
    },
    "papermill": {
     "duration": 0.018011,
     "end_time": "2025-08-05T16:07:19.394260",
     "exception": false,
     "start_time": "2025-08-05T16:07:19.376249",
     "status": "completed"
    },
    "tags": []
   },
   "outputs": [],
   "source": [
    "y_calib = y_calib.values.ravel().astype(int)"
   ]
  },
  {
   "cell_type": "code",
   "execution_count": 39,
   "id": "65d1320d-f588-4b38-9072-62af1ae97f7d",
   "metadata": {
    "execution": {
     "iopub.execute_input": "2025-08-05T16:07:19.417999Z",
     "iopub.status.busy": "2025-08-05T16:07:19.417284Z",
     "iopub.status.idle": "2025-08-05T16:07:19.423380Z",
     "shell.execute_reply": "2025-08-05T16:07:19.422581Z"
    },
    "papermill": {
     "duration": 0.018821,
     "end_time": "2025-08-05T16:07:19.424881",
     "exception": false,
     "start_time": "2025-08-05T16:07:19.406060",
     "status": "completed"
    },
    "tags": []
   },
   "outputs": [],
   "source": [
    "from fairness_multiverse.conformal import compute_nc_scores\n",
    "\n",
    "# Compute nonconformity scores on calibration set (1 - probability of true class)\n",
    "nc_scores = compute_nc_scores(probs_calib, y_calib)"
   ]
  },
  {
   "cell_type": "code",
   "execution_count": 40,
   "id": "df3b8ca3-53b7-43d5-9667-7c85da7aeda2",
   "metadata": {
    "execution": {
     "iopub.execute_input": "2025-08-05T16:07:19.447148Z",
     "iopub.status.busy": "2025-08-05T16:07:19.446477Z",
     "iopub.status.idle": "2025-08-05T16:07:19.452518Z",
     "shell.execute_reply": "2025-08-05T16:07:19.451751Z"
    },
    "papermill": {
     "duration": 0.018453,
     "end_time": "2025-08-05T16:07:19.454128",
     "exception": false,
     "start_time": "2025-08-05T16:07:19.435675",
     "status": "completed"
    },
    "tags": []
   },
   "outputs": [],
   "source": [
    "from fairness_multiverse.conformal import find_threshold\n",
    "\n",
    "# Find conformal threshold q_hat for the given alpha (split conformal method)\n",
    "q_hat = find_threshold(nc_scores, alpha)"
   ]
  },
  {
   "cell_type": "code",
   "execution_count": 41,
   "id": "4d29e6c1-0ef6-4aa4-b8fe-4fe79b0d033a",
   "metadata": {
    "execution": {
     "iopub.execute_input": "2025-08-05T16:07:19.477865Z",
     "iopub.status.busy": "2025-08-05T16:07:19.477318Z",
     "iopub.status.idle": "2025-08-05T16:07:19.484094Z",
     "shell.execute_reply": "2025-08-05T16:07:19.483305Z"
    },
    "papermill": {
     "duration": 0.019702,
     "end_time": "2025-08-05T16:07:19.485488",
     "exception": false,
     "start_time": "2025-08-05T16:07:19.465786",
     "status": "completed"
    },
    "tags": []
   },
   "outputs": [
    {
     "data": {
      "text/plain": [
       "0.7769327191723893"
      ]
     },
     "execution_count": 41,
     "metadata": {},
     "output_type": "execute_result"
    }
   ],
   "source": [
    "q_hat"
   ]
  },
  {
   "cell_type": "code",
   "execution_count": 42,
   "id": "92460794-cdac-4be2-ba28-f28c0515a6fb",
   "metadata": {
    "execution": {
     "iopub.execute_input": "2025-08-05T16:07:19.509408Z",
     "iopub.status.busy": "2025-08-05T16:07:19.508802Z",
     "iopub.status.idle": "2025-08-05T16:07:20.130221Z",
     "shell.execute_reply": "2025-08-05T16:07:20.129331Z"
    },
    "papermill": {
     "duration": 0.634592,
     "end_time": "2025-08-05T16:07:20.131717",
     "exception": false,
     "start_time": "2025-08-05T16:07:19.497125",
     "status": "completed"
    },
    "tags": []
   },
   "outputs": [],
   "source": [
    "from fairness_multiverse.conformal import predict_conformal_sets\n",
    "\n",
    "# Generate prediction sets for each test example\n",
    "pred_sets = predict_conformal_sets(model, X_test, q_hat)"
   ]
  },
  {
   "cell_type": "code",
   "execution_count": 43,
   "id": "d90c9a65-e6db-4f5d-80cd-e68fb7e46829",
   "metadata": {
    "execution": {
     "iopub.execute_input": "2025-08-05T16:07:20.163169Z",
     "iopub.status.busy": "2025-08-05T16:07:20.162491Z",
     "iopub.status.idle": "2025-08-05T16:07:20.168644Z",
     "shell.execute_reply": "2025-08-05T16:07:20.167653Z"
    },
    "papermill": {
     "duration": 0.027674,
     "end_time": "2025-08-05T16:07:20.170655",
     "exception": false,
     "start_time": "2025-08-05T16:07:20.142981",
     "status": "completed"
    },
    "tags": []
   },
   "outputs": [],
   "source": [
    "y_true = y_true.squeeze()"
   ]
  },
  {
   "cell_type": "code",
   "execution_count": 44,
   "id": "3a58a54a-1e68-46b9-927a-df01f18aebc8",
   "metadata": {
    "execution": {
     "iopub.execute_input": "2025-08-05T16:07:20.216249Z",
     "iopub.status.busy": "2025-08-05T16:07:20.214989Z",
     "iopub.status.idle": "2025-08-05T16:07:20.840166Z",
     "shell.execute_reply": "2025-08-05T16:07:20.839359Z"
    },
    "papermill": {
     "duration": 0.64807,
     "end_time": "2025-08-05T16:07:20.841733",
     "exception": false,
     "start_time": "2025-08-05T16:07:20.193663",
     "status": "completed"
    },
    "tags": []
   },
   "outputs": [],
   "source": [
    "from fairness_multiverse.conformal import evaluate_sets\n",
    "\n",
    "# Evaluate coverage and average set size on test data\n",
    "metrics = evaluate_sets(pred_sets, y_true)"
   ]
  },
  {
   "cell_type": "markdown",
   "id": "2b569c12-9aaa-4c88-98c9-bbcd0cf3ebb8",
   "metadata": {
    "papermill": {
     "duration": 0.010586,
     "end_time": "2025-08-05T16:07:20.863563",
     "exception": false,
     "start_time": "2025-08-05T16:07:20.852977",
     "status": "completed"
    },
    "tags": []
   },
   "source": [
    "# CP Metrics"
   ]
  },
  {
   "cell_type": "code",
   "execution_count": 45,
   "id": "5ce0a5cb-201f-45a0-ade5-94c7f0bd6095",
   "metadata": {
    "execution": {
     "iopub.execute_input": "2025-08-05T16:07:20.888382Z",
     "iopub.status.busy": "2025-08-05T16:07:20.887578Z",
     "iopub.status.idle": "2025-08-05T16:07:20.894989Z",
     "shell.execute_reply": "2025-08-05T16:07:20.893964Z"
    },
    "papermill": {
     "duration": 0.023306,
     "end_time": "2025-08-05T16:07:20.897840",
     "exception": false,
     "start_time": "2025-08-05T16:07:20.874534",
     "status": "completed"
    },
    "tags": []
   },
   "outputs": [
    {
     "data": {
      "text/plain": [
       "{'coverage': 0.9066324824434289, 'avg_size': 1.2254932560472633}"
      ]
     },
     "execution_count": 45,
     "metadata": {},
     "output_type": "execute_result"
    }
   ],
   "source": [
    "metrics"
   ]
  },
  {
   "cell_type": "code",
   "execution_count": 46,
   "id": "9b9a838d-31c9-430b-ae14-12baee460d17",
   "metadata": {
    "execution": {
     "iopub.execute_input": "2025-08-05T16:07:20.947047Z",
     "iopub.status.busy": "2025-08-05T16:07:20.946547Z",
     "iopub.status.idle": "2025-08-05T16:07:20.951756Z",
     "shell.execute_reply": "2025-08-05T16:07:20.950850Z"
    },
    "papermill": {
     "duration": 0.033159,
     "end_time": "2025-08-05T16:07:20.953572",
     "exception": false,
     "start_time": "2025-08-05T16:07:20.920413",
     "status": "completed"
    },
    "tags": []
   },
   "outputs": [],
   "source": [
    "example_universe = universe.copy()\n",
    "universe_training_year = example_universe.get(\"training_year\")\n",
    "universe_training_size = example_universe.get(\"training_size\")\n",
    "universe_scale = example_universe.get(\"scale\")\n",
    "universe_model = example_universe.get(\"model\")\n",
    "universe_exclude_features = example_universe.get(\"exclude_features\")\n",
    "universe_exclude_subgroups = example_universe.get(\"exclude_subgroups\")"
   ]
  },
  {
   "cell_type": "code",
   "execution_count": 47,
   "id": "f4b6a8ac-9dc0-4245-8a91-5b3b5999c4f9",
   "metadata": {
    "execution": {
     "iopub.execute_input": "2025-08-05T16:07:20.996622Z",
     "iopub.status.busy": "2025-08-05T16:07:20.996082Z",
     "iopub.status.idle": "2025-08-05T16:07:21.003868Z",
     "shell.execute_reply": "2025-08-05T16:07:21.002773Z"
    },
    "papermill": {
     "duration": 0.030582,
     "end_time": "2025-08-05T16:07:21.006015",
     "exception": false,
     "start_time": "2025-08-05T16:07:20.975433",
     "status": "completed"
    },
    "tags": []
   },
   "outputs": [],
   "source": [
    "cp_metrics_dict = {\n",
    "    \"universe_id\": [universe_id],\n",
    "    \"universe_training_year\": [universe_training_year],\n",
    "    \"universe_training_size\": [universe_training_size],\n",
    "    \"universe_scale\": [universe_scale],\n",
    "    \"universe_model\": [universe_model],\n",
    "    \"universe_exclude_features\": [universe_exclude_features],\n",
    "    \"universe_exclude_subgroups\": [universe_exclude_subgroups],\n",
    "    \"q_hat\": [q_hat],\n",
    "    \"coverage\": [metrics[\"coverage\"]],\n",
    "    \"avg_size\": [metrics[\"avg_size\"]],\n",
    "}"
   ]
  },
  {
   "cell_type": "code",
   "execution_count": 48,
   "id": "908acbb1-0371-4915-85ca-3fa520d2efe2",
   "metadata": {
    "execution": {
     "iopub.execute_input": "2025-08-05T16:07:21.050226Z",
     "iopub.status.busy": "2025-08-05T16:07:21.049087Z",
     "iopub.status.idle": "2025-08-05T16:07:21.058566Z",
     "shell.execute_reply": "2025-08-05T16:07:21.057363Z"
    },
    "papermill": {
     "duration": 0.03355,
     "end_time": "2025-08-05T16:07:21.060266",
     "exception": false,
     "start_time": "2025-08-05T16:07:21.026716",
     "status": "completed"
    },
    "tags": []
   },
   "outputs": [
    {
     "data": {
      "text/plain": [
       "{'universe_id': ['1af6cf87beb9989d6e73e4a164af30d0'],\n",
       " 'universe_training_year': ['2014'],\n",
       " 'universe_training_size': ['1k'],\n",
       " 'universe_scale': ['scale'],\n",
       " 'universe_model': ['elasticnet'],\n",
       " 'universe_exclude_features': ['none'],\n",
       " 'universe_exclude_subgroups': ['keep-all'],\n",
       " 'q_hat': [0.7769327191723893],\n",
       " 'coverage': [0.9066324824434289],\n",
       " 'avg_size': [1.2254932560472633]}"
      ]
     },
     "execution_count": 48,
     "metadata": {},
     "output_type": "execute_result"
    }
   ],
   "source": [
    "cp_metrics_dict"
   ]
  },
  {
   "cell_type": "code",
   "execution_count": 49,
   "id": "33007efc-14e9-4ec6-97ac-56a455c82265",
   "metadata": {
    "execution": {
     "iopub.execute_input": "2025-08-05T16:07:21.106006Z",
     "iopub.status.busy": "2025-08-05T16:07:21.104948Z",
     "iopub.status.idle": "2025-08-05T16:07:21.112429Z",
     "shell.execute_reply": "2025-08-05T16:07:21.111207Z"
    },
    "papermill": {
     "duration": 0.030291,
     "end_time": "2025-08-05T16:07:21.114484",
     "exception": false,
     "start_time": "2025-08-05T16:07:21.084193",
     "status": "completed"
    },
    "tags": []
   },
   "outputs": [],
   "source": [
    "cp_metrics_df = pd.DataFrame(cp_metrics_dict)"
   ]
  },
  {
   "cell_type": "code",
   "execution_count": 50,
   "id": "db12611b-57b2-4910-b9d0-355adfd6e7bf",
   "metadata": {
    "execution": {
     "iopub.execute_input": "2025-08-05T16:07:21.159011Z",
     "iopub.status.busy": "2025-08-05T16:07:21.157958Z",
     "iopub.status.idle": "2025-08-05T16:07:21.183342Z",
     "shell.execute_reply": "2025-08-05T16:07:21.182088Z"
    },
    "papermill": {
     "duration": 0.049761,
     "end_time": "2025-08-05T16:07:21.185226",
     "exception": false,
     "start_time": "2025-08-05T16:07:21.135465",
     "status": "completed"
    },
    "tags": []
   },
   "outputs": [
    {
     "data": {
      "text/html": [
       "<div>\n",
       "<style scoped>\n",
       "    .dataframe tbody tr th:only-of-type {\n",
       "        vertical-align: middle;\n",
       "    }\n",
       "\n",
       "    .dataframe tbody tr th {\n",
       "        vertical-align: top;\n",
       "    }\n",
       "\n",
       "    .dataframe thead th {\n",
       "        text-align: right;\n",
       "    }\n",
       "</style>\n",
       "<table border=\"1\" class=\"dataframe\">\n",
       "  <thead>\n",
       "    <tr style=\"text-align: right;\">\n",
       "      <th></th>\n",
       "      <th>universe_id</th>\n",
       "      <th>universe_training_year</th>\n",
       "      <th>universe_training_size</th>\n",
       "      <th>universe_scale</th>\n",
       "      <th>universe_model</th>\n",
       "      <th>universe_exclude_features</th>\n",
       "      <th>universe_exclude_subgroups</th>\n",
       "      <th>q_hat</th>\n",
       "      <th>coverage</th>\n",
       "      <th>avg_size</th>\n",
       "    </tr>\n",
       "  </thead>\n",
       "  <tbody>\n",
       "    <tr>\n",
       "      <th>0</th>\n",
       "      <td>1af6cf87beb9989d6e73e4a164af30d0</td>\n",
       "      <td>2014</td>\n",
       "      <td>1k</td>\n",
       "      <td>scale</td>\n",
       "      <td>elasticnet</td>\n",
       "      <td>none</td>\n",
       "      <td>keep-all</td>\n",
       "      <td>0.776933</td>\n",
       "      <td>0.906632</td>\n",
       "      <td>1.225493</td>\n",
       "    </tr>\n",
       "  </tbody>\n",
       "</table>\n",
       "</div>"
      ],
      "text/plain": [
       "                        universe_id universe_training_year  \\\n",
       "0  1af6cf87beb9989d6e73e4a164af30d0                   2014   \n",
       "\n",
       "  universe_training_size universe_scale universe_model  \\\n",
       "0                     1k          scale     elasticnet   \n",
       "\n",
       "  universe_exclude_features universe_exclude_subgroups     q_hat  coverage  \\\n",
       "0                      none                   keep-all  0.776933  0.906632   \n",
       "\n",
       "   avg_size  \n",
       "0  1.225493  "
      ]
     },
     "execution_count": 50,
     "metadata": {},
     "output_type": "execute_result"
    }
   ],
   "source": [
    "cp_metrics_df"
   ]
  },
  {
   "cell_type": "code",
   "execution_count": 51,
   "id": "b7fbde55-a0a1-47e4-9af6-fe4a17fa8c61",
   "metadata": {
    "execution": {
     "iopub.execute_input": "2025-08-05T16:07:21.230777Z",
     "iopub.status.busy": "2025-08-05T16:07:21.229955Z",
     "iopub.status.idle": "2025-08-05T16:07:21.236453Z",
     "shell.execute_reply": "2025-08-05T16:07:21.235372Z"
    },
    "papermill": {
     "duration": 0.030044,
     "end_time": "2025-08-05T16:07:21.238443",
     "exception": false,
     "start_time": "2025-08-05T16:07:21.208399",
     "status": "completed"
    },
    "tags": []
   },
   "outputs": [],
   "source": [
    "# Conditional Coverage & looking at subgroups"
   ]
  },
  {
   "cell_type": "code",
   "execution_count": 52,
   "id": "027ae886-68dd-4141-96c7-805a5450e1ef",
   "metadata": {
    "execution": {
     "iopub.execute_input": "2025-08-05T16:07:21.283968Z",
     "iopub.status.busy": "2025-08-05T16:07:21.282866Z",
     "iopub.status.idle": "2025-08-05T16:07:21.506478Z",
     "shell.execute_reply": "2025-08-05T16:07:21.505701Z"
    },
    "papermill": {
     "duration": 0.248333,
     "end_time": "2025-08-05T16:07:21.508261",
     "exception": false,
     "start_time": "2025-08-05T16:07:21.259928",
     "status": "completed"
    },
    "tags": []
   },
   "outputs": [],
   "source": [
    "from fairness_multiverse.conformal import build_cp_groups\n",
    "\n",
    "cp_groups_df = build_cp_groups(pred_sets, y_true, X_test.index, org_test)\n",
    "#needs universe_id and setting"
   ]
  },
  {
   "cell_type": "code",
   "execution_count": 53,
   "id": "6cbdab96-b2b2-45af-ad54-d0516db2e28d",
   "metadata": {
    "execution": {
     "iopub.execute_input": "2025-08-05T16:07:21.552785Z",
     "iopub.status.busy": "2025-08-05T16:07:21.551992Z",
     "iopub.status.idle": "2025-08-05T16:07:22.952715Z",
     "shell.execute_reply": "2025-08-05T16:07:22.951961Z"
    },
    "papermill": {
     "duration": 1.425303,
     "end_time": "2025-08-05T16:07:22.954359",
     "exception": false,
     "start_time": "2025-08-05T16:07:21.529056",
     "status": "completed"
    },
    "tags": []
   },
   "outputs": [],
   "source": [
    "# Define covered = 1 if true_label is in the predicted set\n",
    "cp_groups_df['covered'] = cp_groups_df.apply(\n",
    "    lambda r: int(r['true_label'] in r['pred_set']),\n",
    "    axis=1\n",
    ")"
   ]
  },
  {
   "cell_type": "code",
   "execution_count": 54,
   "id": "338ff529-1a6b-4b87-a931-8e4788d52aad",
   "metadata": {
    "execution": {
     "iopub.execute_input": "2025-08-05T16:07:22.982282Z",
     "iopub.status.busy": "2025-08-05T16:07:22.981328Z",
     "iopub.status.idle": "2025-08-05T16:07:22.986286Z",
     "shell.execute_reply": "2025-08-05T16:07:22.985417Z"
    },
    "papermill": {
     "duration": 0.019314,
     "end_time": "2025-08-05T16:07:22.987735",
     "exception": false,
     "start_time": "2025-08-05T16:07:22.968421",
     "status": "completed"
    },
    "tags": []
   },
   "outputs": [],
   "source": [
    "#cp_groups_df"
   ]
  },
  {
   "cell_type": "code",
   "execution_count": 55,
   "id": "90032e27-66df-4540-9169-4e89cfbaa758",
   "metadata": {
    "execution": {
     "iopub.execute_input": "2025-08-05T16:07:23.037178Z",
     "iopub.status.busy": "2025-08-05T16:07:23.036726Z",
     "iopub.status.idle": "2025-08-05T16:07:23.048736Z",
     "shell.execute_reply": "2025-08-05T16:07:23.047603Z"
    },
    "papermill": {
     "duration": 0.039043,
     "end_time": "2025-08-05T16:07:23.050960",
     "exception": false,
     "start_time": "2025-08-05T16:07:23.011917",
     "status": "completed"
    },
    "tags": []
   },
   "outputs": [],
   "source": [
    "subgroups = ['frau1','nongerman','nongerman_male','nongerman_female']\n",
    "\n",
    "# Conditional coverage for subgroup==1\n",
    "cond_coverage = {\n",
    "    g: cp_groups_df.loc[cp_groups_df[g]==1, 'covered'].mean()\n",
    "    for g in subgroups\n",
    "}"
   ]
  },
  {
   "cell_type": "code",
   "execution_count": 56,
   "id": "1e348fb1-b9c3-45bc-ba23-f016827a7e0d",
   "metadata": {
    "execution": {
     "iopub.execute_input": "2025-08-05T16:07:23.101675Z",
     "iopub.status.busy": "2025-08-05T16:07:23.100850Z",
     "iopub.status.idle": "2025-08-05T16:07:23.112111Z",
     "shell.execute_reply": "2025-08-05T16:07:23.111161Z"
    },
    "papermill": {
     "duration": 0.039012,
     "end_time": "2025-08-05T16:07:23.113378",
     "exception": false,
     "start_time": "2025-08-05T16:07:23.074366",
     "status": "completed"
    },
    "tags": []
   },
   "outputs": [
    {
     "data": {
      "text/plain": [
       "{'frau1': 0.9046502224019409,\n",
       " 'nongerman': 0.9088867680907202,\n",
       " 'nongerman_male': 0.9262361523912456,\n",
       " 'nongerman_female': 0.8801788375558868}"
      ]
     },
     "execution_count": 56,
     "metadata": {},
     "output_type": "execute_result"
    }
   ],
   "source": [
    "cond_coverage"
   ]
  },
  {
   "cell_type": "code",
   "execution_count": 57,
   "id": "f5093324-c3dd-4d63-bc4c-8d945e5c8bbb",
   "metadata": {
    "execution": {
     "iopub.execute_input": "2025-08-05T16:07:23.172716Z",
     "iopub.status.busy": "2025-08-05T16:07:23.172098Z",
     "iopub.status.idle": "2025-08-05T16:07:23.181489Z",
     "shell.execute_reply": "2025-08-05T16:07:23.180087Z"
    },
    "papermill": {
     "duration": 0.039922,
     "end_time": "2025-08-05T16:07:23.183834",
     "exception": false,
     "start_time": "2025-08-05T16:07:23.143912",
     "status": "completed"
    },
    "tags": []
   },
   "outputs": [],
   "source": [
    "for subgroup, cov in cond_coverage.items():\n",
    "    cp_metrics_df[f\"cov_{subgroup}\"] = cov"
   ]
  },
  {
   "cell_type": "code",
   "execution_count": 58,
   "id": "6e872e10-dbe5-49e8-b554-5030c98ff75d",
   "metadata": {
    "execution": {
     "iopub.execute_input": "2025-08-05T16:07:23.241974Z",
     "iopub.status.busy": "2025-08-05T16:07:23.240854Z",
     "iopub.status.idle": "2025-08-05T16:07:23.264088Z",
     "shell.execute_reply": "2025-08-05T16:07:23.262784Z"
    },
    "papermill": {
     "duration": 0.053769,
     "end_time": "2025-08-05T16:07:23.266291",
     "exception": false,
     "start_time": "2025-08-05T16:07:23.212522",
     "status": "completed"
    },
    "tags": []
   },
   "outputs": [
    {
     "data": {
      "text/html": [
       "<div>\n",
       "<style scoped>\n",
       "    .dataframe tbody tr th:only-of-type {\n",
       "        vertical-align: middle;\n",
       "    }\n",
       "\n",
       "    .dataframe tbody tr th {\n",
       "        vertical-align: top;\n",
       "    }\n",
       "\n",
       "    .dataframe thead th {\n",
       "        text-align: right;\n",
       "    }\n",
       "</style>\n",
       "<table border=\"1\" class=\"dataframe\">\n",
       "  <thead>\n",
       "    <tr style=\"text-align: right;\">\n",
       "      <th></th>\n",
       "      <th>universe_id</th>\n",
       "      <th>universe_training_year</th>\n",
       "      <th>universe_training_size</th>\n",
       "      <th>universe_scale</th>\n",
       "      <th>universe_model</th>\n",
       "      <th>universe_exclude_features</th>\n",
       "      <th>universe_exclude_subgroups</th>\n",
       "      <th>q_hat</th>\n",
       "      <th>coverage</th>\n",
       "      <th>avg_size</th>\n",
       "      <th>cov_frau1</th>\n",
       "      <th>cov_nongerman</th>\n",
       "      <th>cov_nongerman_male</th>\n",
       "      <th>cov_nongerman_female</th>\n",
       "    </tr>\n",
       "  </thead>\n",
       "  <tbody>\n",
       "    <tr>\n",
       "      <th>0</th>\n",
       "      <td>1af6cf87beb9989d6e73e4a164af30d0</td>\n",
       "      <td>2014</td>\n",
       "      <td>1k</td>\n",
       "      <td>scale</td>\n",
       "      <td>elasticnet</td>\n",
       "      <td>none</td>\n",
       "      <td>keep-all</td>\n",
       "      <td>0.776933</td>\n",
       "      <td>0.906632</td>\n",
       "      <td>1.225493</td>\n",
       "      <td>0.90465</td>\n",
       "      <td>0.908887</td>\n",
       "      <td>0.926236</td>\n",
       "      <td>0.880179</td>\n",
       "    </tr>\n",
       "  </tbody>\n",
       "</table>\n",
       "</div>"
      ],
      "text/plain": [
       "                        universe_id universe_training_year  \\\n",
       "0  1af6cf87beb9989d6e73e4a164af30d0                   2014   \n",
       "\n",
       "  universe_training_size universe_scale universe_model  \\\n",
       "0                     1k          scale     elasticnet   \n",
       "\n",
       "  universe_exclude_features universe_exclude_subgroups     q_hat  coverage  \\\n",
       "0                      none                   keep-all  0.776933  0.906632   \n",
       "\n",
       "   avg_size  cov_frau1  cov_nongerman  cov_nongerman_male  \\\n",
       "0  1.225493    0.90465       0.908887            0.926236   \n",
       "\n",
       "   cov_nongerman_female  \n",
       "0              0.880179  "
      ]
     },
     "execution_count": 58,
     "metadata": {},
     "output_type": "execute_result"
    }
   ],
   "source": [
    "cp_metrics_df"
   ]
  },
  {
   "cell_type": "markdown",
   "id": "33774451",
   "metadata": {
    "papermill": {
     "duration": 0.026188,
     "end_time": "2025-08-05T16:07:23.320710",
     "exception": false,
     "start_time": "2025-08-05T16:07:23.294522",
     "status": "completed"
    },
    "tags": []
   },
   "source": [
    "# (Fairness) Metrics"
   ]
  },
  {
   "cell_type": "code",
   "execution_count": 59,
   "id": "debc5d62",
   "metadata": {
    "execution": {
     "iopub.execute_input": "2025-08-05T16:07:23.376105Z",
     "iopub.status.busy": "2025-08-05T16:07:23.375438Z",
     "iopub.status.idle": "2025-08-05T16:07:23.399765Z",
     "shell.execute_reply": "2025-08-05T16:07:23.398339Z"
    },
    "papermill": {
     "duration": 0.056058,
     "end_time": "2025-08-05T16:07:23.402031",
     "exception": false,
     "start_time": "2025-08-05T16:07:23.345973",
     "status": "completed"
    },
    "tags": []
   },
   "outputs": [],
   "source": [
    "# do I need to include maxdeutsch1.missing?\n",
    "\n",
    "import numpy as np\n",
    "\n",
    "colname_to_bin = \"maxdeutsch1\"\n",
    "majority_value = org_train[colname_to_bin].mode()[0]\n",
    "\n",
    "org_test[\"majmin\"] = np.where(org_test[colname_to_bin] == majority_value, \"majority\", \"minority\")"
   ]
  },
  {
   "cell_type": "code",
   "execution_count": 60,
   "id": "06a50de5",
   "metadata": {
    "execution": {
     "iopub.execute_input": "2025-08-05T16:07:23.458643Z",
     "iopub.status.busy": "2025-08-05T16:07:23.458235Z",
     "iopub.status.idle": "2025-08-05T16:07:26.296279Z",
     "shell.execute_reply": "2025-08-05T16:07:26.295189Z"
    },
    "papermill": {
     "duration": 2.870974,
     "end_time": "2025-08-05T16:07:26.298378",
     "exception": false,
     "start_time": "2025-08-05T16:07:23.427404",
     "status": "completed"
    },
    "tags": []
   },
   "outputs": [],
   "source": [
    "example_universe = universe.copy()\n",
    "example_universe[\"cutoff\"] = example_universe[\"cutoff\"][0]\n",
    "example_universe[\"eval_fairness_grouping\"] = example_universe[\"eval_fairness_grouping\"][0]\n",
    "fairness_dict, metric_frame = universe_analysis.compute_metrics(\n",
    "    example_universe,\n",
    "    y_pred_prob=probs_test,\n",
    "    y_test=y_true,\n",
    "    org_test=org_test,\n",
    ")"
   ]
  },
  {
   "cell_type": "markdown",
   "id": "f95d4e02",
   "metadata": {
    "papermill": {
     "duration": 0.024254,
     "end_time": "2025-08-05T16:07:26.350616",
     "exception": false,
     "start_time": "2025-08-05T16:07:26.326362",
     "status": "completed"
    },
    "tags": []
   },
   "source": [
    "# Overall"
   ]
  },
  {
   "cell_type": "markdown",
   "id": "bdee4871",
   "metadata": {
    "papermill": {
     "duration": 0.023747,
     "end_time": "2025-08-05T16:07:26.398189",
     "exception": false,
     "start_time": "2025-08-05T16:07:26.374442",
     "status": "completed"
    },
    "tags": []
   },
   "source": [
    "Fairness\n",
    "Main fairness target: Equalized Odds. Seems to be a better fit than equal opportunity, since we're not only interested in Y = 1. Seems to be a better fit than demographic parity, since we also care about accuracy, not just equal distribution of preds.\n",
    "\n",
    "Pick column for computation of fairness metrics\n",
    "\n",
    "Performance\n",
    "Overall performance measures, most interesting in relation to the measures split by group below"
   ]
  },
  {
   "cell_type": "code",
   "execution_count": 61,
   "id": "c4e067c6",
   "metadata": {
    "execution": {
     "iopub.execute_input": "2025-08-05T16:07:26.448977Z",
     "iopub.status.busy": "2025-08-05T16:07:26.447998Z",
     "iopub.status.idle": "2025-08-05T16:07:26.458465Z",
     "shell.execute_reply": "2025-08-05T16:07:26.457099Z"
    },
    "papermill": {
     "duration": 0.038592,
     "end_time": "2025-08-05T16:07:26.461005",
     "exception": false,
     "start_time": "2025-08-05T16:07:26.422413",
     "status": "completed"
    },
    "tags": []
   },
   "outputs": [
    {
     "data": {
      "text/plain": [
       "accuracy                   0.219452\n",
       "balanced accuracy          0.537621\n",
       "f1                         0.240918\n",
       "precision                  0.137629\n",
       "false positive rate        0.890348\n",
       "false negative rate        0.034411\n",
       "selection rate             0.900000\n",
       "count                  89710.000000\n",
       "dtype: float64"
      ]
     },
     "execution_count": 61,
     "metadata": {},
     "output_type": "execute_result"
    }
   ],
   "source": [
    "metric_frame.overall"
   ]
  },
  {
   "cell_type": "markdown",
   "id": "e968fe9d",
   "metadata": {
    "papermill": {
     "duration": 0.032121,
     "end_time": "2025-08-05T16:07:26.525842",
     "exception": false,
     "start_time": "2025-08-05T16:07:26.493721",
     "status": "completed"
    },
    "tags": []
   },
   "source": [
    "By Group"
   ]
  },
  {
   "cell_type": "code",
   "execution_count": 62,
   "id": "ec325bce",
   "metadata": {
    "execution": {
     "iopub.execute_input": "2025-08-05T16:07:26.592923Z",
     "iopub.status.busy": "2025-08-05T16:07:26.592152Z",
     "iopub.status.idle": "2025-08-05T16:07:26.609250Z",
     "shell.execute_reply": "2025-08-05T16:07:26.607919Z"
    },
    "papermill": {
     "duration": 0.053359,
     "end_time": "2025-08-05T16:07:26.611650",
     "exception": false,
     "start_time": "2025-08-05T16:07:26.558291",
     "status": "completed"
    },
    "tags": []
   },
   "outputs": [
    {
     "data": {
      "text/html": [
       "<div>\n",
       "<style scoped>\n",
       "    .dataframe tbody tr th:only-of-type {\n",
       "        vertical-align: middle;\n",
       "    }\n",
       "\n",
       "    .dataframe tbody tr th {\n",
       "        vertical-align: top;\n",
       "    }\n",
       "\n",
       "    .dataframe thead th {\n",
       "        text-align: right;\n",
       "    }\n",
       "</style>\n",
       "<table border=\"1\" class=\"dataframe\">\n",
       "  <thead>\n",
       "    <tr style=\"text-align: right;\">\n",
       "      <th></th>\n",
       "      <th>accuracy</th>\n",
       "      <th>balanced accuracy</th>\n",
       "      <th>f1</th>\n",
       "      <th>precision</th>\n",
       "      <th>false positive rate</th>\n",
       "      <th>false negative rate</th>\n",
       "      <th>selection rate</th>\n",
       "      <th>count</th>\n",
       "    </tr>\n",
       "    <tr>\n",
       "      <th>majmin</th>\n",
       "      <th></th>\n",
       "      <th></th>\n",
       "      <th></th>\n",
       "      <th></th>\n",
       "      <th></th>\n",
       "      <th></th>\n",
       "      <th></th>\n",
       "      <th></th>\n",
       "    </tr>\n",
       "  </thead>\n",
       "  <tbody>\n",
       "    <tr>\n",
       "      <th>majority</th>\n",
       "      <td>0.237155</td>\n",
       "      <td>0.544782</td>\n",
       "      <td>0.250142</td>\n",
       "      <td>0.143741</td>\n",
       "      <td>0.873347</td>\n",
       "      <td>0.037090</td>\n",
       "      <td>0.885181</td>\n",
       "      <td>69170.0</td>\n",
       "    </tr>\n",
       "    <tr>\n",
       "      <th>minority</th>\n",
       "      <td>0.159834</td>\n",
       "      <td>0.514709</td>\n",
       "      <td>0.211253</td>\n",
       "      <td>0.118446</td>\n",
       "      <td>0.946511</td>\n",
       "      <td>0.024071</td>\n",
       "      <td>0.949903</td>\n",
       "      <td>20540.0</td>\n",
       "    </tr>\n",
       "  </tbody>\n",
       "</table>\n",
       "</div>"
      ],
      "text/plain": [
       "          accuracy  balanced accuracy        f1  precision  \\\n",
       "majmin                                                       \n",
       "majority  0.237155           0.544782  0.250142   0.143741   \n",
       "minority  0.159834           0.514709  0.211253   0.118446   \n",
       "\n",
       "          false positive rate  false negative rate  selection rate    count  \n",
       "majmin                                                                       \n",
       "majority             0.873347             0.037090        0.885181  69170.0  \n",
       "minority             0.946511             0.024071        0.949903  20540.0  "
      ]
     },
     "execution_count": 62,
     "metadata": {},
     "output_type": "execute_result"
    }
   ],
   "source": [
    "metric_frame.by_group"
   ]
  },
  {
   "cell_type": "code",
   "execution_count": 63,
   "id": "a9ddbe63",
   "metadata": {
    "execution": {
     "iopub.execute_input": "2025-08-05T16:07:26.680772Z",
     "iopub.status.busy": "2025-08-05T16:07:26.679821Z",
     "iopub.status.idle": "2025-08-05T16:07:29.194668Z",
     "shell.execute_reply": "2025-08-05T16:07:29.193545Z"
    },
    "papermill": {
     "duration": 2.55064,
     "end_time": "2025-08-05T16:07:29.196399",
     "exception": false,
     "start_time": "2025-08-05T16:07:26.645759",
     "status": "completed"
    },
    "tags": []
   },
   "outputs": [
    {
     "data": {
      "text/plain": [
       "array([[<Axes: title={'center': 'accuracy'}, xlabel='majmin'>,\n",
       "        <Axes: title={'center': 'balanced accuracy'}, xlabel='majmin'>,\n",
       "        <Axes: title={'center': 'f1'}, xlabel='majmin'>],\n",
       "       [<Axes: title={'center': 'precision'}, xlabel='majmin'>,\n",
       "        <Axes: title={'center': 'false positive rate'}, xlabel='majmin'>,\n",
       "        <Axes: title={'center': 'false negative rate'}, xlabel='majmin'>],\n",
       "       [<Axes: title={'center': 'selection rate'}, xlabel='majmin'>,\n",
       "        <Axes: title={'center': 'count'}, xlabel='majmin'>,\n",
       "        <Axes: xlabel='majmin'>]], dtype=object)"
      ]
     },
     "execution_count": 63,
     "metadata": {},
     "output_type": "execute_result"
    },
    {
     "data": {
      "image/png": "[encoded data removed]",
      "text/plain": [
       "<Figure size 1200x800 with 9 Axes>"
      ]
     },
     "metadata": {},
     "output_type": "display_data"
    }
   ],
   "source": [
    "# In a graphic\n",
    "metric_frame.by_group.plot.bar(\n",
    "    subplots=True,\n",
    "    layout=[3, 3],\n",
    "    legend=False,\n",
    "    figsize=[12, 8],\n",
    "    title=\"Show all metrics\",\n",
    ")"
   ]
  },
  {
   "cell_type": "markdown",
   "id": "f57a0bac",
   "metadata": {
    "papermill": {
     "duration": 0.039679,
     "end_time": "2025-08-05T16:07:29.265251",
     "exception": false,
     "start_time": "2025-08-05T16:07:29.225572",
     "status": "completed"
    },
    "tags": []
   },
   "source": [
    "# Final Output"
   ]
  },
  {
   "cell_type": "code",
   "execution_count": 64,
   "id": "96d280a3",
   "metadata": {
    "execution": {
     "iopub.execute_input": "2025-08-05T16:07:29.313810Z",
     "iopub.status.busy": "2025-08-05T16:07:29.312756Z",
     "iopub.status.idle": "2025-08-05T16:07:29.320851Z",
     "shell.execute_reply": "2025-08-05T16:07:29.319715Z"
    },
    "papermill": {
     "duration": 0.034035,
     "end_time": "2025-08-05T16:07:29.322618",
     "exception": false,
     "start_time": "2025-08-05T16:07:29.288583",
     "status": "completed"
    },
    "tags": []
   },
   "outputs": [
    {
     "data": {
      "text/plain": [
       "4"
      ]
     },
     "execution_count": 64,
     "metadata": {},
     "output_type": "execute_result"
    }
   ],
   "source": [
    "sub_universes = universe_analysis.generate_sub_universes()\n",
    "len(sub_universes)"
   ]
  },
  {
   "cell_type": "code",
   "execution_count": 65,
   "id": "92adf7ba",
   "metadata": {
    "execution": {
     "iopub.execute_input": "2025-08-05T16:07:29.371822Z",
     "iopub.status.busy": "2025-08-05T16:07:29.371479Z",
     "iopub.status.idle": "2025-08-05T16:07:29.377068Z",
     "shell.execute_reply": "2025-08-05T16:07:29.376002Z"
    },
    "papermill": {
     "duration": 0.031846,
     "end_time": "2025-08-05T16:07:29.379127",
     "exception": false,
     "start_time": "2025-08-05T16:07:29.347281",
     "status": "completed"
    },
    "tags": []
   },
   "outputs": [],
   "source": [
    "def filter_sub_universe_data(sub_universe, org_test):\n",
    "    # Keep all rows — no filtering\n",
    "    keep_rows_mask = np.ones(org_test.shape[0], dtype=bool)\n",
    "\n",
    "    print(f\"[INFO] Keeping all rows: {keep_rows_mask.sum()} rows retained.\")\n",
    "    return keep_rows_mask"
   ]
  },
  {
   "cell_type": "code",
   "execution_count": 66,
   "id": "4a759155",
   "metadata": {
    "execution": {
     "iopub.execute_input": "2025-08-05T16:07:29.430445Z",
     "iopub.status.busy": "2025-08-05T16:07:29.429767Z",
     "iopub.status.idle": "2025-08-05T16:07:39.113755Z",
     "shell.execute_reply": "2025-08-05T16:07:39.113025Z"
    },
    "papermill": {
     "duration": 9.709163,
     "end_time": "2025-08-05T16:07:39.114903",
     "exception": false,
     "start_time": "2025-08-05T16:07:29.405740",
     "status": "completed"
    },
    "tags": []
   },
   "outputs": [
    {
     "name": "stdout",
     "output_type": "stream",
     "text": [
      "Stopping execution_time clock.\n",
      "[INFO] Keeping all rows: 89710 rows retained.\n"
     ]
    },
    {
     "name": "stdout",
     "output_type": "stream",
     "text": [
      "[INFO] Keeping all rows: 89710 rows retained.\n"
     ]
    },
    {
     "name": "stdout",
     "output_type": "stream",
     "text": [
      "[INFO] Keeping all rows: 89710 rows retained.\n"
     ]
    },
    {
     "name": "stdout",
     "output_type": "stream",
     "text": [
      "[INFO] Keeping all rows: 89710 rows retained.\n"
     ]
    },
    {
     "data": {
      "text/html": [
       "<div>\n",
       "<style scoped>\n",
       "    .dataframe tbody tr th:only-of-type {\n",
       "        vertical-align: middle;\n",
       "    }\n",
       "\n",
       "    .dataframe tbody tr th {\n",
       "        vertical-align: top;\n",
       "    }\n",
       "\n",
       "    .dataframe thead th {\n",
       "        text-align: right;\n",
       "    }\n",
       "</style>\n",
       "<table border=\"1\" class=\"dataframe\">\n",
       "  <thead>\n",
       "    <tr style=\"text-align: right;\">\n",
       "      <th></th>\n",
       "      <th>run_no</th>\n",
       "      <th>universe_id</th>\n",
       "      <th>universe_settings</th>\n",
       "      <th>execution_time</th>\n",
       "      <th>test_size_n</th>\n",
       "      <th>test_size_frac</th>\n",
       "      <th>fair_main_equalized_odds_difference</th>\n",
       "      <th>fair_main_equalized_odds_ratio</th>\n",
       "      <th>fair_main_demographic_parity_difference</th>\n",
       "      <th>fair_main_demographic_parity_ratio</th>\n",
       "      <th>...</th>\n",
       "      <th>perf_grp_precision_0</th>\n",
       "      <th>perf_grp_precision_1</th>\n",
       "      <th>perf_grp_false positive rate_0</th>\n",
       "      <th>perf_grp_false positive rate_1</th>\n",
       "      <th>perf_grp_false negative rate_0</th>\n",
       "      <th>perf_grp_false negative rate_1</th>\n",
       "      <th>perf_grp_selection rate_0</th>\n",
       "      <th>perf_grp_selection rate_1</th>\n",
       "      <th>perf_grp_count_0</th>\n",
       "      <th>perf_grp_count_1</th>\n",
       "    </tr>\n",
       "  </thead>\n",
       "  <tbody>\n",
       "    <tr>\n",
       "      <th>0</th>\n",
       "      <td>15</td>\n",
       "      <td>1af6cf87beb9989d6e73e4a164af30d0</td>\n",
       "      <td>{\"cutoff\": \"quantile_0.1\", \"eval_fairness_grou...</td>\n",
       "      <td>25.770783</td>\n",
       "      <td>89710</td>\n",
       "      <td>1.0</td>\n",
       "      <td>0.073164</td>\n",
       "      <td>0.922701</td>\n",
       "      <td>0.064721</td>\n",
       "      <td>0.931865</td>\n",
       "      <td>...</td>\n",
       "      <td>NaN</td>\n",
       "      <td>NaN</td>\n",
       "      <td>NaN</td>\n",
       "      <td>NaN</td>\n",
       "      <td>NaN</td>\n",
       "      <td>NaN</td>\n",
       "      <td>NaN</td>\n",
       "      <td>NaN</td>\n",
       "      <td>NaN</td>\n",
       "      <td>NaN</td>\n",
       "    </tr>\n",
       "    <tr>\n",
       "      <th>0</th>\n",
       "      <td>15</td>\n",
       "      <td>1af6cf87beb9989d6e73e4a164af30d0</td>\n",
       "      <td>{\"cutoff\": \"quantile_0.1\", \"eval_fairness_grou...</td>\n",
       "      <td>25.770783</td>\n",
       "      <td>89710</td>\n",
       "      <td>1.0</td>\n",
       "      <td>0.073164</td>\n",
       "      <td>0.922701</td>\n",
       "      <td>0.064721</td>\n",
       "      <td>0.931865</td>\n",
       "      <td>...</td>\n",
       "      <td>0.118446</td>\n",
       "      <td>0.143741</td>\n",
       "      <td>0.946511</td>\n",
       "      <td>0.873347</td>\n",
       "      <td>0.024071</td>\n",
       "      <td>0.037090</td>\n",
       "      <td>0.949903</td>\n",
       "      <td>0.885181</td>\n",
       "      <td>20540.0</td>\n",
       "      <td>69170.0</td>\n",
       "    </tr>\n",
       "    <tr>\n",
       "      <th>0</th>\n",
       "      <td>15</td>\n",
       "      <td>1af6cf87beb9989d6e73e4a164af30d0</td>\n",
       "      <td>{\"cutoff\": \"quantile_0.25\", \"eval_fairness_gro...</td>\n",
       "      <td>25.770783</td>\n",
       "      <td>89710</td>\n",
       "      <td>1.0</td>\n",
       "      <td>0.078103</td>\n",
       "      <td>0.901032</td>\n",
       "      <td>0.067759</td>\n",
       "      <td>0.915537</td>\n",
       "      <td>...</td>\n",
       "      <td>NaN</td>\n",
       "      <td>NaN</td>\n",
       "      <td>NaN</td>\n",
       "      <td>NaN</td>\n",
       "      <td>NaN</td>\n",
       "      <td>NaN</td>\n",
       "      <td>NaN</td>\n",
       "      <td>NaN</td>\n",
       "      <td>NaN</td>\n",
       "      <td>NaN</td>\n",
       "    </tr>\n",
       "    <tr>\n",
       "      <th>0</th>\n",
       "      <td>15</td>\n",
       "      <td>1af6cf87beb9989d6e73e4a164af30d0</td>\n",
       "      <td>{\"cutoff\": \"quantile_0.25\", \"eval_fairness_gro...</td>\n",
       "      <td>25.770783</td>\n",
       "      <td>89710</td>\n",
       "      <td>1.0</td>\n",
       "      <td>0.078103</td>\n",
       "      <td>0.901032</td>\n",
       "      <td>0.067759</td>\n",
       "      <td>0.915537</td>\n",
       "      <td>...</td>\n",
       "      <td>0.129688</td>\n",
       "      <td>0.159791</td>\n",
       "      <td>0.789181</td>\n",
       "      <td>0.711078</td>\n",
       "      <td>0.097551</td>\n",
       "      <td>0.111816</td>\n",
       "      <td>0.802240</td>\n",
       "      <td>0.734480</td>\n",
       "      <td>20540.0</td>\n",
       "      <td>69170.0</td>\n",
       "    </tr>\n",
       "  </tbody>\n",
       "</table>\n",
       "<p>4 rows × 50 columns</p>\n",
       "</div>"
      ],
      "text/plain": [
       "  run_no                       universe_id  \\\n",
       "0     15  1af6cf87beb9989d6e73e4a164af30d0   \n",
       "0     15  1af6cf87beb9989d6e73e4a164af30d0   \n",
       "0     15  1af6cf87beb9989d6e73e4a164af30d0   \n",
       "0     15  1af6cf87beb9989d6e73e4a164af30d0   \n",
       "\n",
       "                                   universe_settings  execution_time  \\\n",
       "0  {\"cutoff\": \"quantile_0.1\", \"eval_fairness_grou...       25.770783   \n",
       "0  {\"cutoff\": \"quantile_0.1\", \"eval_fairness_grou...       25.770783   \n",
       "0  {\"cutoff\": \"quantile_0.25\", \"eval_fairness_gro...       25.770783   \n",
       "0  {\"cutoff\": \"quantile_0.25\", \"eval_fairness_gro...       25.770783   \n",
       "\n",
       "   test_size_n  test_size_frac  fair_main_equalized_odds_difference  \\\n",
       "0        89710             1.0                             0.073164   \n",
       "0        89710             1.0                             0.073164   \n",
       "0        89710             1.0                             0.078103   \n",
       "0        89710             1.0                             0.078103   \n",
       "\n",
       "   fair_main_equalized_odds_ratio  fair_main_demographic_parity_difference  \\\n",
       "0                        0.922701                                 0.064721   \n",
       "0                        0.922701                                 0.064721   \n",
       "0                        0.901032                                 0.067759   \n",
       "0                        0.901032                                 0.067759   \n",
       "\n",
       "   fair_main_demographic_parity_ratio  ...  perf_grp_precision_0  \\\n",
       "0                            0.931865  ...                   NaN   \n",
       "0                            0.931865  ...              0.118446   \n",
       "0                            0.915537  ...                   NaN   \n",
       "0                            0.915537  ...              0.129688   \n",
       "\n",
       "   perf_grp_precision_1  perf_grp_false positive rate_0  \\\n",
       "0                   NaN                             NaN   \n",
       "0              0.143741                        0.946511   \n",
       "0                   NaN                             NaN   \n",
       "0              0.159791                        0.789181   \n",
       "\n",
       "   perf_grp_false positive rate_1  perf_grp_false negative rate_0  \\\n",
       "0                             NaN                             NaN   \n",
       "0                        0.873347                        0.024071   \n",
       "0                             NaN                             NaN   \n",
       "0                        0.711078                        0.097551   \n",
       "\n",
       "   perf_grp_false negative rate_1  perf_grp_selection rate_0  \\\n",
       "0                             NaN                        NaN   \n",
       "0                        0.037090                   0.949903   \n",
       "0                             NaN                        NaN   \n",
       "0                        0.111816                   0.802240   \n",
       "\n",
       "   perf_grp_selection rate_1  perf_grp_count_0  perf_grp_count_1  \n",
       "0                        NaN               NaN               NaN  \n",
       "0                   0.885181           20540.0           69170.0  \n",
       "0                        NaN               NaN               NaN  \n",
       "0                   0.734480           20540.0           69170.0  \n",
       "\n",
       "[4 rows x 50 columns]"
      ]
     },
     "execution_count": 66,
     "metadata": {},
     "output_type": "execute_result"
    }
   ],
   "source": [
    "final_output = universe_analysis.generate_final_output(\n",
    "    y_pred_prob=probs_test,\n",
    "    y_test=y_true,\n",
    "    org_test=org_test,\n",
    "    filter_data=filter_sub_universe_data,\n",
    "    cp_metrics_df=cp_metrics_df,\n",
    "    save=True,\n",
    ")\n",
    "final_output"
   ]
  }
 ],
 "metadata": {
  "celltoolbar": "Tags",
  "kernelspec": {
   "display_name": "Python (CMA Fairness)",
   "language": "python",
   "name": "cma_fair_env"
  },
  "language_info": {
   "codemirror_mode": {
    "name": "ipython",
    "version": 3
   },
   "file_extension": ".py",
   "mimetype": "text/x-python",
   "name": "python",
   "nbconvert_exporter": "python",
   "pygments_lexer": "ipython3",
   "version": "3.10.12"
  },
  "papermill": {
   "default_parameters": {},
   "duration": 39.634692,
   "end_time": "2025-08-05T16:07:39.851324",
   "environment_variables": {},
   "exception": null,
   "input_path": "universe_analysis.ipynb",
   "output_path": "output/runs/15/notebooks/m_15-1af6cf87beb9989d6e73e4a164af30d0.ipynb",
   "parameters": {
    "output_dir": "output",
    "run_no": "15",
    "seed": "2023",
    "universe": "{\"cutoff\": [\"quantile_0.1\", \"quantile_0.25\"], \"eval_fairness_grouping\": [\"majority-minority\", \"nationality-all\"], \"exclude_features\": \"none\", \"exclude_subgroups\": \"keep-all\", \"model\": \"elasticnet\", \"scale\": \"scale\", \"training_size\": \"1k\", \"training_year\": \"2014\"}",
    "universe_id": "1af6cf87beb9989d6e73e4a164af30d0"
   },
   "start_time": "2025-08-05T16:07:00.216632",
   "version": "2.6.0"
  }
 },
 "nbformat": 4,
 "nbformat_minor": 5
}