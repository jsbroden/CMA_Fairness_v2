{
 "cells": [
  {
   "cell_type": "code",
   "execution_count": 1,
   "id": "f159f837-637b-42ba-96b5-ec9a68c44524",
   "metadata": {
    "execution": {
     "iopub.execute_input": "2025-08-05T15:43:00.330856Z",
     "iopub.status.busy": "2025-08-05T15:43:00.329951Z",
     "iopub.status.idle": "2025-08-05T15:43:00.345046Z",
     "shell.execute_reply": "2025-08-05T15:43:00.344114Z"
    },
    "papermill": {
     "duration": 0.035773,
     "end_time": "2025-08-05T15:43:00.346579",
     "exception": false,
     "start_time": "2025-08-05T15:43:00.310806",
     "status": "completed"
    },
    "tags": []
   },
   "outputs": [
    {
     "name": "stdout",
     "output_type": "stream",
     "text": [
      "/dss/dsshome1/0C/ra93lal2/cma/CMA_Fairness_v2\n"
     ]
    },
    {
     "name": "stderr",
     "output_type": "stream",
     "text": [
      "/dss/dsshome1/0C/ra93lal2/.local/share/virtualenvs/CMA_Fairness_v2-3j10GkSs/lib/python3.10/site-packages/IPython/core/magics/osm.py:393: UserWarning: This is now an optional IPython functionality, using bookmarks requires you to install the `pickleshare` library.\n",
      "  bkms = self.shell.db.get('bookmarks', {})\n",
      "/dss/dsshome1/0C/ra93lal2/.local/share/virtualenvs/CMA_Fairness_v2-3j10GkSs/lib/python3.10/site-packages/IPython/core/magics/osm.py:417: UserWarning: This is now an optional IPython functionality, setting dhist requires you to install the `pickleshare` library.\n",
      "  self.shell.db['dhist'] = compress_dhist(dhist)[-100:]\n"
     ]
    }
   ],
   "source": [
    "%cd ~/cma/CMA_Fairness_v2"
   ]
  },
  {
   "cell_type": "markdown",
   "id": "de2603b9",
   "metadata": {
    "papermill": {
     "duration": 0.015163,
     "end_time": "2025-08-05T15:43:00.378542",
     "exception": false,
     "start_time": "2025-08-05T15:43:00.363379",
     "status": "completed"
    },
    "tags": []
   },
   "source": [
    "The following cell holds the definition of our parameters, these values can be overriden by rendering the with e.g. the following command:\n",
    "\n",
    "papermill -p alpha 0.2 -p ratio 0.3 universe_analysis.ipynb output/test_run.ipynb"
   ]
  },
  {
   "cell_type": "code",
   "execution_count": 2,
   "id": "a80968a0-40bb-4fa9-85ef-2d5eefb01975",
   "metadata": {
    "execution": {
     "iopub.execute_input": "2025-08-05T15:43:00.410527Z",
     "iopub.status.busy": "2025-08-05T15:43:00.410087Z",
     "iopub.status.idle": "2025-08-05T15:43:00.415396Z",
     "shell.execute_reply": "2025-08-05T15:43:00.414453Z"
    },
    "papermill": {
     "duration": 0.023297,
     "end_time": "2025-08-05T15:43:00.416919",
     "exception": false,
     "start_time": "2025-08-05T15:43:00.393622",
     "status": "completed"
    },
    "tags": []
   },
   "outputs": [
    {
     "name": "stdout",
     "output_type": "stream",
     "text": [
      "Current working directory: /dss/dsshome1/0C/ra93lal2/cma/CMA_Fairness_v2\n"
     ]
    }
   ],
   "source": [
    "import os\n",
    "print(\"Current working directory:\", os.getcwd())"
   ]
  },
  {
   "cell_type": "code",
   "execution_count": 3,
   "id": "2dce4c03",
   "metadata": {
    "execution": {
     "iopub.execute_input": "2025-08-05T15:43:00.451388Z",
     "iopub.status.busy": "2025-08-05T15:43:00.450755Z",
     "iopub.status.idle": "2025-08-05T15:43:00.456624Z",
     "shell.execute_reply": "2025-08-05T15:43:00.455717Z"
    },
    "papermill": {
     "duration": 0.025457,
     "end_time": "2025-08-05T15:43:00.458510",
     "exception": false,
     "start_time": "2025-08-05T15:43:00.433053",
     "status": "completed"
    },
    "tags": [
     "parameters"
    ]
   },
   "outputs": [],
   "source": [
    "run_no = 0\n",
    "universe_id = \"test\"\n",
    "universe = {\n",
    "    \"training_size\": \"25k\", # \"25k\", \"5k\", \"1k\"\n",
    "    \"training_year\": \"2014\", # \"2014\", \"2012_14\", \"2010_14\"\n",
    "    \"scale\": \"scale\", # \"scale\", \"do-not-scale\",\n",
    "    \"model\": \"elasticnet\", # \"logreg\", \"penalized_logreg\", \"rf\", \"gbm\", \"elasticnet\"\n",
    "    \"cutoff\": [\"quantile_0.15\", \"quantile_0.30\"],\n",
    "    \"exclude_features\": \"age\", # \"none\", \"nationality\", \"sex\", \"nationality-sex\", \"age\"\n",
    "    \"exclude_subgroups\": \"keep-all\", # \"keep-all\", \"drop-non-german\"\n",
    "    \"eval_fairness_grouping\": [\"majority-minority\", \"nationality-all\"]\n",
    "}\n",
    "\n",
    "output_dir=\"./output\"\n",
    "seed=0"
   ]
  },
  {
   "cell_type": "code",
   "execution_count": 4,
   "id": "cbf05a19",
   "metadata": {
    "execution": {
     "iopub.execute_input": "2025-08-05T15:43:00.491322Z",
     "iopub.status.busy": "2025-08-05T15:43:00.490569Z",
     "iopub.status.idle": "2025-08-05T15:43:00.496001Z",
     "shell.execute_reply": "2025-08-05T15:43:00.495065Z"
    },
    "papermill": {
     "duration": 0.023195,
     "end_time": "2025-08-05T15:43:00.497644",
     "exception": false,
     "start_time": "2025-08-05T15:43:00.474449",
     "status": "completed"
    },
    "tags": [
     "injected-parameters"
    ]
   },
   "outputs": [],
   "source": [
    "# Parameters\n",
    "universe_id = \"346c04ceb92e7cd7c01293712a413e02\"\n",
    "run_no = \"15\"\n",
    "universe = \"{\\\"cutoff\\\": [\\\"quantile_0.1\\\", \\\"quantile_0.25\\\"], \\\"eval_fairness_grouping\\\": [\\\"majority-minority\\\", \\\"nationality-all\\\"], \\\"exclude_features\\\": \\\"age\\\", \\\"exclude_subgroups\\\": \\\"keep-all\\\", \\\"model\\\": \\\"penalized_logreg\\\", \\\"scale\\\": \\\"do-not-scale\\\", \\\"training_size\\\": \\\"5k\\\", \\\"training_year\\\": \\\"2012_14\\\"}\"\n",
    "output_dir = \"output\"\n",
    "seed = \"2023\"\n"
   ]
  },
  {
   "cell_type": "code",
   "execution_count": 5,
   "id": "1650acaf",
   "metadata": {
    "execution": {
     "iopub.execute_input": "2025-08-05T15:43:00.535228Z",
     "iopub.status.busy": "2025-08-05T15:43:00.534457Z",
     "iopub.status.idle": "2025-08-05T15:43:00.539784Z",
     "shell.execute_reply": "2025-08-05T15:43:00.538844Z"
    },
    "papermill": {
     "duration": 0.026185,
     "end_time": "2025-08-05T15:43:00.541465",
     "exception": false,
     "start_time": "2025-08-05T15:43:00.515280",
     "status": "completed"
    },
    "tags": []
   },
   "outputs": [],
   "source": [
    "import json\n",
    "if isinstance(universe, str):\n",
    "    universe = json.loads(universe)"
   ]
  },
  {
   "cell_type": "code",
   "execution_count": 6,
   "id": "16620c48",
   "metadata": {
    "execution": {
     "iopub.execute_input": "2025-08-05T15:43:00.576952Z",
     "iopub.status.busy": "2025-08-05T15:43:00.576271Z",
     "iopub.status.idle": "2025-08-05T15:43:00.625213Z",
     "shell.execute_reply": "2025-08-05T15:43:00.624265Z"
    },
    "papermill": {
     "duration": 0.06906,
     "end_time": "2025-08-05T15:43:00.626935",
     "exception": false,
     "start_time": "2025-08-05T15:43:00.557875",
     "status": "completed"
    },
    "tags": []
   },
   "outputs": [],
   "source": [
    "# Auto-reload the custom package\n",
    "%load_ext autoreload\n",
    "%autoreload 1\n",
    "%aimport fairness_multiverse"
   ]
  },
  {
   "cell_type": "code",
   "execution_count": 7,
   "id": "01c5c9f3",
   "metadata": {
    "execution": {
     "iopub.execute_input": "2025-08-05T15:43:00.660964Z",
     "iopub.status.busy": "2025-08-05T15:43:00.660406Z",
     "iopub.status.idle": "2025-08-05T15:43:02.598938Z",
     "shell.execute_reply": "2025-08-05T15:43:02.598039Z"
    },
    "papermill": {
     "duration": 1.957695,
     "end_time": "2025-08-05T15:43:02.600730",
     "exception": false,
     "start_time": "2025-08-05T15:43:00.643035",
     "status": "completed"
    },
    "tags": []
   },
   "outputs": [],
   "source": [
    "from fairness_multiverse.universe import UniverseAnalysis\n",
    "\n",
    "universe_analysis = UniverseAnalysis(\n",
    "    run_no = run_no,\n",
    "    universe_id = universe_id,\n",
    "    universe = universe,\n",
    "    output_dir=output_dir,\n",
    ")"
   ]
  },
  {
   "cell_type": "code",
   "execution_count": 8,
   "id": "106241f5",
   "metadata": {
    "execution": {
     "iopub.execute_input": "2025-08-05T15:43:02.649504Z",
     "iopub.status.busy": "2025-08-05T15:43:02.648836Z",
     "iopub.status.idle": "2025-08-05T15:43:02.655284Z",
     "shell.execute_reply": "2025-08-05T15:43:02.654247Z"
    },
    "papermill": {
     "duration": 0.025274,
     "end_time": "2025-08-05T15:43:02.657011",
     "exception": false,
     "start_time": "2025-08-05T15:43:02.631737",
     "status": "completed"
    },
    "tags": []
   },
   "outputs": [
    {
     "name": "stdout",
     "output_type": "stream",
     "text": [
      "Using Seed: 2023\n"
     ]
    }
   ],
   "source": [
    "import numpy as np\n",
    "parsed_seed = int(seed)\n",
    "np.random.seed(parsed_seed)\n",
    "print(f\"Using Seed: {parsed_seed}\")"
   ]
  },
  {
   "cell_type": "markdown",
   "id": "e0ebdc57",
   "metadata": {
    "papermill": {
     "duration": 0.016912,
     "end_time": "2025-08-05T15:43:02.691641",
     "exception": false,
     "start_time": "2025-08-05T15:43:02.674729",
     "status": "completed"
    },
    "tags": []
   },
   "source": [
    "# Loading Data"
   ]
  },
  {
   "cell_type": "code",
   "execution_count": 9,
   "id": "f0496b8a",
   "metadata": {
    "execution": {
     "iopub.execute_input": "2025-08-05T15:43:02.725193Z",
     "iopub.status.busy": "2025-08-05T15:43:02.724525Z",
     "iopub.status.idle": "2025-08-05T15:43:12.755323Z",
     "shell.execute_reply": "2025-08-05T15:43:12.754368Z"
    },
    "papermill": {
     "duration": 10.048583,
     "end_time": "2025-08-05T15:43:12.756622",
     "exception": false,
     "start_time": "2025-08-05T15:43:02.708039",
     "status": "completed"
    },
    "tags": []
   },
   "outputs": [
    {
     "name": "stdout",
     "output_type": "stream",
     "text": [
      "Loading SIAB data from cache: data/siab_cached.csv.gz\n"
     ]
    },
    {
     "name": "stdout",
     "output_type": "stream",
     "text": [
      "(643690, 164)\n"
     ]
    }
   ],
   "source": [
    "from pathlib import Path\n",
    "import pandas as pd\n",
    "\n",
    "# File paths\n",
    "raw_file = Path(\"data/raw/siab.csv\")\n",
    "cache_file = Path(\"data/siab_cached.csv.gz\")\n",
    "\n",
    "# Ensure cache directory exists\n",
    "cache_file.parent.mkdir(parents=True, exist_ok=True)\n",
    "\n",
    "# Load with simple caching\n",
    "if cache_file.exists():\n",
    "    print(f\"Loading SIAB data from cache: {cache_file}\")\n",
    "    siab = pd.read_csv(cache_file, compression='gzip')\n",
    "else:\n",
    "    print(f\"Cache not found. Reading raw SIAB data: {raw_file}\")\n",
    "    siab = pd.read_csv(raw_file)\n",
    "    siab.to_csv(cache_file, index=False, compression='gzip')\n",
    "    print(f\"Cached SIAB data to: {cache_file}\")\n",
    "\n",
    "print(siab.shape)"
   ]
  },
  {
   "cell_type": "code",
   "execution_count": 10,
   "id": "db0ca512-5f53-4dba-abdb-a2888bca41ba",
   "metadata": {
    "execution": {
     "iopub.execute_input": "2025-08-05T15:43:12.779739Z",
     "iopub.status.busy": "2025-08-05T15:43:12.779191Z",
     "iopub.status.idle": "2025-08-05T15:43:12.784406Z",
     "shell.execute_reply": "2025-08-05T15:43:12.783498Z"
    },
    "papermill": {
     "duration": 0.017026,
     "end_time": "2025-08-05T15:43:12.785889",
     "exception": false,
     "start_time": "2025-08-05T15:43:12.768863",
     "status": "completed"
    },
    "tags": []
   },
   "outputs": [],
   "source": [
    "#siab"
   ]
  },
  {
   "cell_type": "markdown",
   "id": "997051c5-15bd-4b69-9786-c3001a3ce484",
   "metadata": {
    "papermill": {
     "duration": 0.009866,
     "end_time": "2025-08-05T15:43:12.805870",
     "exception": false,
     "start_time": "2025-08-05T15:43:12.796004",
     "status": "completed"
    },
    "tags": []
   },
   "source": [
    "# Splitting Data and Setting Training Data Size"
   ]
  },
  {
   "cell_type": "code",
   "execution_count": 11,
   "id": "aea9c6ef-6f46-42c8-85eb-5a62025c1508",
   "metadata": {
    "execution": {
     "iopub.execute_input": "2025-08-05T15:43:12.841837Z",
     "iopub.status.busy": "2025-08-05T15:43:12.841474Z",
     "iopub.status.idle": "2025-08-05T15:43:13.392713Z",
     "shell.execute_reply": "2025-08-05T15:43:13.391829Z"
    },
    "papermill": {
     "duration": 0.571334,
     "end_time": "2025-08-05T15:43:13.394254",
     "exception": false,
     "start_time": "2025-08-05T15:43:12.822920",
     "status": "completed"
    },
    "tags": []
   },
   "outputs": [],
   "source": [
    "from fairness_multiverse.universe import sample_by_year_size\n",
    "\n",
    "siab_train = sample_by_year_size(siab,\n",
    "                               training_year=universe[\"training_year\"],\n",
    "                               training_size=universe[\"training_size\"])"
   ]
  },
  {
   "cell_type": "code",
   "execution_count": 12,
   "id": "8d3afb32-789d-442c-8d5d-9f5aa8dd2eed",
   "metadata": {
    "execution": {
     "iopub.execute_input": "2025-08-05T15:43:13.414342Z",
     "iopub.status.busy": "2025-08-05T15:43:13.413918Z",
     "iopub.status.idle": "2025-08-05T15:43:13.418938Z",
     "shell.execute_reply": "2025-08-05T15:43:13.418249Z"
    },
    "papermill": {
     "duration": 0.016452,
     "end_time": "2025-08-05T15:43:13.420288",
     "exception": false,
     "start_time": "2025-08-05T15:43:13.403836",
     "status": "completed"
    },
    "tags": []
   },
   "outputs": [],
   "source": [
    "#siab_train.shape"
   ]
  },
  {
   "cell_type": "code",
   "execution_count": 13,
   "id": "d582db68-1a4c-47fb-84fc-08518dc1975a",
   "metadata": {
    "execution": {
     "iopub.execute_input": "2025-08-05T15:43:13.443471Z",
     "iopub.status.busy": "2025-08-05T15:43:13.442736Z",
     "iopub.status.idle": "2025-08-05T15:43:13.448637Z",
     "shell.execute_reply": "2025-08-05T15:43:13.447825Z"
    },
    "papermill": {
     "duration": 0.020767,
     "end_time": "2025-08-05T15:43:13.451223",
     "exception": false,
     "start_time": "2025-08-05T15:43:13.430456",
     "status": "completed"
    },
    "tags": []
   },
   "outputs": [],
   "source": [
    "#display(siab_train.groupby(\"year\").size())"
   ]
  },
  {
   "cell_type": "code",
   "execution_count": 14,
   "id": "a561edb4-d032-42cb-8256-22eac1111c64",
   "metadata": {
    "execution": {
     "iopub.execute_input": "2025-08-05T15:43:13.495552Z",
     "iopub.status.busy": "2025-08-05T15:43:13.494168Z",
     "iopub.status.idle": "2025-08-05T15:43:13.770440Z",
     "shell.execute_reply": "2025-08-05T15:43:13.769164Z"
    },
    "papermill": {
     "duration": 0.300106,
     "end_time": "2025-08-05T15:43:13.772610",
     "exception": false,
     "start_time": "2025-08-05T15:43:13.472504",
     "status": "completed"
    },
    "tags": []
   },
   "outputs": [],
   "source": [
    "#siab_train = siab_s[siab_s.year < 2015]\n",
    "siab_calib = siab[siab.year == 2015]\n",
    "siab_test = siab[siab.year == 2016]"
   ]
  },
  {
   "cell_type": "code",
   "execution_count": 15,
   "id": "472de16f-c3db-4916-846b-1f0de9cf1746",
   "metadata": {
    "execution": {
     "iopub.execute_input": "2025-08-05T15:43:13.816491Z",
     "iopub.status.busy": "2025-08-05T15:43:13.815968Z",
     "iopub.status.idle": "2025-08-05T15:43:13.824608Z",
     "shell.execute_reply": "2025-08-05T15:43:13.823470Z"
    },
    "papermill": {
     "duration": 0.03257,
     "end_time": "2025-08-05T15:43:13.826829",
     "exception": false,
     "start_time": "2025-08-05T15:43:13.794259",
     "status": "completed"
    },
    "tags": []
   },
   "outputs": [],
   "source": [
    "X_train = siab_train.iloc[:,4:164]\n",
    "y_train = siab_train.iloc[:, [3]]"
   ]
  },
  {
   "cell_type": "code",
   "execution_count": 16,
   "id": "828c96af-f43a-4ed6-ba47-8ac73a47d56c",
   "metadata": {
    "execution": {
     "iopub.execute_input": "2025-08-05T15:43:13.876350Z",
     "iopub.status.busy": "2025-08-05T15:43:13.875816Z",
     "iopub.status.idle": "2025-08-05T15:43:13.928282Z",
     "shell.execute_reply": "2025-08-05T15:43:13.926890Z"
    },
    "papermill": {
     "duration": 0.080341,
     "end_time": "2025-08-05T15:43:13.931276",
     "exception": false,
     "start_time": "2025-08-05T15:43:13.850935",
     "status": "completed"
    },
    "tags": []
   },
   "outputs": [],
   "source": [
    "X_calib = siab_calib.iloc[:,4:164]\n",
    "y_calib = siab_calib.iloc[:, [3]]"
   ]
  },
  {
   "cell_type": "code",
   "execution_count": 17,
   "id": "c34be9c3-6bd6-476e-acd3-845840e303be",
   "metadata": {
    "execution": {
     "iopub.execute_input": "2025-08-05T15:43:13.984730Z",
     "iopub.status.busy": "2025-08-05T15:43:13.983944Z",
     "iopub.status.idle": "2025-08-05T15:43:14.058483Z",
     "shell.execute_reply": "2025-08-05T15:43:14.057144Z"
    },
    "papermill": {
     "duration": 0.103453,
     "end_time": "2025-08-05T15:43:14.060698",
     "exception": false,
     "start_time": "2025-08-05T15:43:13.957245",
     "status": "completed"
    },
    "tags": []
   },
   "outputs": [],
   "source": [
    "X_test = siab_test.iloc[:,4:164]\n",
    "y_true = siab_test.iloc[:, [3]]"
   ]
  },
  {
   "cell_type": "code",
   "execution_count": 18,
   "id": "e6c733c5",
   "metadata": {
    "execution": {
     "iopub.execute_input": "2025-08-05T15:43:14.101550Z",
     "iopub.status.busy": "2025-08-05T15:43:14.100583Z",
     "iopub.status.idle": "2025-08-05T15:43:14.197558Z",
     "shell.execute_reply": "2025-08-05T15:43:14.196447Z"
    },
    "papermill": {
     "duration": 0.119674,
     "end_time": "2025-08-05T15:43:14.199962",
     "exception": false,
     "start_time": "2025-08-05T15:43:14.080288",
     "status": "completed"
    },
    "tags": []
   },
   "outputs": [],
   "source": [
    "# Auxiliary data needed downstream in the pipeline\n",
    "\n",
    "org_train = X_train.copy()\n",
    "org_test = X_test.copy()\n",
    "org_calib = X_calib.copy()"
   ]
  },
  {
   "cell_type": "markdown",
   "id": "0a4a1b33",
   "metadata": {
    "papermill": {
     "duration": 0.020027,
     "end_time": "2025-08-05T15:43:14.244504",
     "exception": false,
     "start_time": "2025-08-05T15:43:14.224477",
     "status": "completed"
    },
    "tags": []
   },
   "source": [
    "# Preprocessing Data"
   ]
  },
  {
   "cell_type": "code",
   "execution_count": 19,
   "id": "ca879031",
   "metadata": {
    "execution": {
     "iopub.execute_input": "2025-08-05T15:43:14.286562Z",
     "iopub.status.busy": "2025-08-05T15:43:14.286032Z",
     "iopub.status.idle": "2025-08-05T15:43:14.292635Z",
     "shell.execute_reply": "2025-08-05T15:43:14.291477Z"
    },
    "papermill": {
     "duration": 0.027867,
     "end_time": "2025-08-05T15:43:14.294626",
     "exception": false,
     "start_time": "2025-08-05T15:43:14.266759",
     "status": "completed"
    },
    "tags": []
   },
   "outputs": [],
   "source": [
    "# EXCLUDE PROTECTED FEATURES\n",
    "# ----------------------\n",
    "# \"exclude_features\": \"none\", # \"nationality\", \"sex\", \"nationality-sex\"\n",
    "\n",
    "excluded_features = universe[\"exclude_features\"].split(\"-\") # split, e.g.: \"nationality-sex\" -> [\"nationality\", \"sex\"]\n",
    "excluded_features_dictionary = {\n",
    "    \"nationality\": [\"maxdeutsch1\", \"maxdeutsch.Missing.\"],\n",
    "    \"sex\": [\"frau1\"],\n",
    "    \"age\": [\"age\"],\n",
    "}"
   ]
  },
  {
   "cell_type": "code",
   "execution_count": 20,
   "id": "b745ac60",
   "metadata": {
    "execution": {
     "iopub.execute_input": "2025-08-05T15:43:14.330900Z",
     "iopub.status.busy": "2025-08-05T15:43:14.330306Z",
     "iopub.status.idle": "2025-08-05T15:43:14.336171Z",
     "shell.execute_reply": "2025-08-05T15:43:14.335167Z"
    },
    "papermill": {
     "duration": 0.026793,
     "end_time": "2025-08-05T15:43:14.337991",
     "exception": false,
     "start_time": "2025-08-05T15:43:14.311198",
     "status": "completed"
    },
    "tags": []
   },
   "outputs": [],
   "source": [
    "# Code nice names to column names\n",
    "\n",
    "excluded_features_columns = [\n",
    "    excluded_features_dictionary[f] for f in excluded_features if len(f) > 0 and f != \"none\"\n",
    "]"
   ]
  },
  {
   "cell_type": "code",
   "execution_count": 21,
   "id": "f84f73a2",
   "metadata": {
    "execution": {
     "iopub.execute_input": "2025-08-05T15:43:14.368042Z",
     "iopub.status.busy": "2025-08-05T15:43:14.367661Z",
     "iopub.status.idle": "2025-08-05T15:43:14.373221Z",
     "shell.execute_reply": "2025-08-05T15:43:14.372417Z"
    },
    "papermill": {
     "duration": 0.018864,
     "end_time": "2025-08-05T15:43:14.374579",
     "exception": false,
     "start_time": "2025-08-05T15:43:14.355715",
     "status": "completed"
    },
    "tags": []
   },
   "outputs": [],
   "source": [
    "from utils import flatten_once\n",
    "\n",
    "excluded_features_columns = flatten_once(excluded_features_columns)"
   ]
  },
  {
   "cell_type": "code",
   "execution_count": 22,
   "id": "884dea22",
   "metadata": {
    "execution": {
     "iopub.execute_input": "2025-08-05T15:43:14.394785Z",
     "iopub.status.busy": "2025-08-05T15:43:14.394286Z",
     "iopub.status.idle": "2025-08-05T15:43:14.403737Z",
     "shell.execute_reply": "2025-08-05T15:43:14.402399Z"
    },
    "papermill": {
     "duration": 0.021437,
     "end_time": "2025-08-05T15:43:14.405836",
     "exception": false,
     "start_time": "2025-08-05T15:43:14.384399",
     "status": "completed"
    },
    "tags": []
   },
   "outputs": [
    {
     "name": "stdout",
     "output_type": "stream",
     "text": [
      "Dropping features: ['age']\n"
     ]
    }
   ],
   "source": [
    "if len(excluded_features_columns) > 0:\n",
    "    print(f\"Dropping features: {excluded_features_columns}\")\n",
    "    X_train.drop(excluded_features_columns, axis=1, inplace=True)"
   ]
  },
  {
   "cell_type": "code",
   "execution_count": 23,
   "id": "95ab8b16",
   "metadata": {
    "execution": {
     "iopub.execute_input": "2025-08-05T15:43:14.457327Z",
     "iopub.status.busy": "2025-08-05T15:43:14.456337Z",
     "iopub.status.idle": "2025-08-05T15:43:14.513749Z",
     "shell.execute_reply": "2025-08-05T15:43:14.512643Z"
    },
    "papermill": {
     "duration": 0.085379,
     "end_time": "2025-08-05T15:43:14.516102",
     "exception": false,
     "start_time": "2025-08-05T15:43:14.430723",
     "status": "completed"
    },
    "tags": []
   },
   "outputs": [
    {
     "name": "stdout",
     "output_type": "stream",
     "text": [
      "Dropping features: ['age']\n"
     ]
    }
   ],
   "source": [
    "if len(excluded_features_columns) > 0:\n",
    "    print(f\"Dropping features: {excluded_features_columns}\")\n",
    "    X_test.drop(excluded_features_columns, axis=1, inplace=True)"
   ]
  },
  {
   "cell_type": "code",
   "execution_count": 24,
   "id": "1853aaf5-fb9f-46cb-a2b5-8ea4ae2237e4",
   "metadata": {
    "execution": {
     "iopub.execute_input": "2025-08-05T15:43:14.566838Z",
     "iopub.status.busy": "2025-08-05T15:43:14.565825Z",
     "iopub.status.idle": "2025-08-05T15:43:14.620195Z",
     "shell.execute_reply": "2025-08-05T15:43:14.619052Z"
    },
    "papermill": {
     "duration": 0.081944,
     "end_time": "2025-08-05T15:43:14.622441",
     "exception": false,
     "start_time": "2025-08-05T15:43:14.540497",
     "status": "completed"
    },
    "tags": []
   },
   "outputs": [
    {
     "name": "stdout",
     "output_type": "stream",
     "text": [
      "Dropping features: ['age']\n"
     ]
    }
   ],
   "source": [
    "if len(excluded_features_columns) > 0:\n",
    "    print(f\"Dropping features: {excluded_features_columns}\")\n",
    "    X_calib.drop(excluded_features_columns, axis=1, inplace=True)"
   ]
  },
  {
   "cell_type": "code",
   "execution_count": 25,
   "id": "76c4dc6d",
   "metadata": {
    "execution": {
     "iopub.execute_input": "2025-08-05T15:43:14.662985Z",
     "iopub.status.busy": "2025-08-05T15:43:14.662439Z",
     "iopub.status.idle": "2025-08-05T15:43:14.668325Z",
     "shell.execute_reply": "2025-08-05T15:43:14.667077Z"
    },
    "papermill": {
     "duration": 0.027923,
     "end_time": "2025-08-05T15:43:14.670136",
     "exception": false,
     "start_time": "2025-08-05T15:43:14.642213",
     "status": "completed"
    },
    "tags": []
   },
   "outputs": [],
   "source": [
    "# EXCLUDE CERTAIN SUBGROUPS\n",
    "# ----------------------\n",
    "\n",
    "mode = universe.get(\"exclude_subgroups\", \"keep-all\") \n",
    "# Fetches the exclude_subgroups setting from the universe dict.\n",
    "# Defaults to \"keep-all\" if the key is missing."
   ]
  },
  {
   "cell_type": "code",
   "execution_count": 26,
   "id": "21994072",
   "metadata": {
    "execution": {
     "iopub.execute_input": "2025-08-05T15:43:14.712630Z",
     "iopub.status.busy": "2025-08-05T15:43:14.712252Z",
     "iopub.status.idle": "2025-08-05T15:43:14.718890Z",
     "shell.execute_reply": "2025-08-05T15:43:14.717746Z"
    },
    "papermill": {
     "duration": 0.029094,
     "end_time": "2025-08-05T15:43:14.721208",
     "exception": false,
     "start_time": "2025-08-05T15:43:14.692114",
     "status": "completed"
    },
    "tags": []
   },
   "outputs": [],
   "source": [
    "if mode == \"keep-all\":\n",
    "    keep_mask = pd.Series(True, index=org_train.index)\n",
    "\n",
    "# org_train contains the original feature columns from features_org (in Simson)\n",
    "# features_org contains unprocessed features, for me X_train at beginning ???\n",
    "# For keep-all, creates a boolean Series (keep_mask) of all True, so no rows are removed.\n",
    "\n",
    "elif mode == \"drop-non-german\":\n",
    "    keep_mask = org_train[\"maxdeutsch1\"] == 1 # ??? what about missing values?\n",
    "\n",
    "else:\n",
    "    raise ValueError(f\"Unsupported mode for exclude_subgroups: {mode}\")"
   ]
  },
  {
   "cell_type": "code",
   "execution_count": 27,
   "id": "71651440",
   "metadata": {
    "execution": {
     "iopub.execute_input": "2025-08-05T15:43:14.767648Z",
     "iopub.status.busy": "2025-08-05T15:43:14.766873Z",
     "iopub.status.idle": "2025-08-05T15:43:14.774615Z",
     "shell.execute_reply": "2025-08-05T15:43:14.773723Z"
    },
    "papermill": {
     "duration": 0.032805,
     "end_time": "2025-08-05T15:43:14.776580",
     "exception": false,
     "start_time": "2025-08-05T15:43:14.743775",
     "status": "completed"
    },
    "tags": []
   },
   "outputs": [],
   "source": [
    "n_drop = (~keep_mask).sum() # Calculates how many rows are set to be dropped\n",
    "if n_drop > 0:\n",
    "    pct = n_drop / len(keep_mask) * 100\n",
    "    print(f\"Dropping {n_drop} rows ({pct:.2f}%) where mode='{mode}'\")"
   ]
  },
  {
   "cell_type": "code",
   "execution_count": 28,
   "id": "5fb8eee5",
   "metadata": {
    "execution": {
     "iopub.execute_input": "2025-08-05T15:43:14.822204Z",
     "iopub.status.busy": "2025-08-05T15:43:14.821681Z",
     "iopub.status.idle": "2025-08-05T15:43:14.830119Z",
     "shell.execute_reply": "2025-08-05T15:43:14.828882Z"
    },
    "papermill": {
     "duration": 0.033383,
     "end_time": "2025-08-05T15:43:14.832169",
     "exception": false,
     "start_time": "2025-08-05T15:43:14.798786",
     "status": "completed"
    },
    "tags": []
   },
   "outputs": [],
   "source": [
    "X_train = X_train[keep_mask]"
   ]
  },
  {
   "cell_type": "code",
   "execution_count": 29,
   "id": "b202bb3a",
   "metadata": {
    "execution": {
     "iopub.execute_input": "2025-08-05T15:43:14.878968Z",
     "iopub.status.busy": "2025-08-05T15:43:14.878434Z",
     "iopub.status.idle": "2025-08-05T15:43:14.884596Z",
     "shell.execute_reply": "2025-08-05T15:43:14.883573Z"
    },
    "papermill": {
     "duration": 0.032602,
     "end_time": "2025-08-05T15:43:14.886680",
     "exception": false,
     "start_time": "2025-08-05T15:43:14.854078",
     "status": "completed"
    },
    "tags": []
   },
   "outputs": [],
   "source": [
    "y_train = y_train[keep_mask]"
   ]
  },
  {
   "cell_type": "markdown",
   "id": "493e2ac3",
   "metadata": {
    "papermill": {
     "duration": 0.020669,
     "end_time": "2025-08-05T15:43:14.930406",
     "exception": false,
     "start_time": "2025-08-05T15:43:14.909737",
     "status": "completed"
    },
    "tags": []
   },
   "source": [
    "# Model Training"
   ]
  },
  {
   "cell_type": "code",
   "execution_count": 30,
   "id": "679e1268",
   "metadata": {
    "execution": {
     "iopub.execute_input": "2025-08-05T15:43:14.976466Z",
     "iopub.status.busy": "2025-08-05T15:43:14.975855Z",
     "iopub.status.idle": "2025-08-05T15:43:15.087256Z",
     "shell.execute_reply": "2025-08-05T15:43:15.086211Z"
    },
    "papermill": {
     "duration": 0.137143,
     "end_time": "2025-08-05T15:43:15.089325",
     "exception": false,
     "start_time": "2025-08-05T15:43:14.952182",
     "status": "completed"
    },
    "tags": []
   },
   "outputs": [],
   "source": [
    "from sklearn.linear_model import LogisticRegression\n",
    "from sklearn.ensemble import GradientBoostingClassifier, RandomForestClassifier\n",
    "\n",
    "if (universe[\"model\"] == \"logreg\"):\n",
    "    model = LogisticRegression() #penalty=\"none\", solver=\"newton-cg\", max_iter=1) # include random_state=19 ?\n",
    "elif (universe[\"model\"] == \"penalized_logreg\"):\n",
    "    model = LogisticRegression(penalty=\"l2\", C=0.1) #, solver=\"newton-cg\", max_iter=1)\n",
    "elif (universe[\"model\"] == \"rf\"):\n",
    "    model = RandomForestClassifier() # n_estimators=100, n_jobs=-1\n",
    "elif (universe[\"model\"] == \"gbm\"):\n",
    "    model = GradientBoostingClassifier()\n",
    "elif (universe[\"model\"] == \"elasticnet\"):\n",
    "    model = LogisticRegression(penalty = 'elasticnet', solver = 'saga', l1_ratio = 0.5) # max_iter=5000\n",
    "else:\n",
    "    raise \"Unsupported universe.model\""
   ]
  },
  {
   "cell_type": "code",
   "execution_count": 31,
   "id": "0cc8f744",
   "metadata": {
    "execution": {
     "iopub.execute_input": "2025-08-05T15:43:15.130796Z",
     "iopub.status.busy": "2025-08-05T15:43:15.129850Z",
     "iopub.status.idle": "2025-08-05T15:43:15.136464Z",
     "shell.execute_reply": "2025-08-05T15:43:15.135424Z"
    },
    "papermill": {
     "duration": 0.029729,
     "end_time": "2025-08-05T15:43:15.138595",
     "exception": false,
     "start_time": "2025-08-05T15:43:15.108866",
     "status": "completed"
    },
    "tags": []
   },
   "outputs": [],
   "source": [
    "import numpy as np\n",
    "from sklearn.pipeline import Pipeline\n",
    "from sklearn.preprocessing import StandardScaler\n",
    "\n",
    "model = Pipeline([\n",
    "    #(\"continuous_processor\", continuous_processor),\n",
    "    #(\"categorical_preprocessor\", categorical_preprocessor),\n",
    "    (\"scale\", StandardScaler() if universe[\"scale\"] == \"scale\" else None), \n",
    "    (\"model\", model),\n",
    "])"
   ]
  },
  {
   "cell_type": "code",
   "execution_count": 32,
   "id": "9442c04d",
   "metadata": {
    "execution": {
     "iopub.execute_input": "2025-08-05T15:43:15.177141Z",
     "iopub.status.busy": "2025-08-05T15:43:15.176709Z",
     "iopub.status.idle": "2025-08-05T15:43:15.330501Z",
     "shell.execute_reply": "2025-08-05T15:43:15.329552Z"
    },
    "papermill": {
     "duration": 0.176813,
     "end_time": "2025-08-05T15:43:15.332163",
     "exception": false,
     "start_time": "2025-08-05T15:43:15.155350",
     "status": "completed"
    },
    "tags": []
   },
   "outputs": [
    {
     "name": "stderr",
     "output_type": "stream",
     "text": [
      "/dss/dsshome1/0C/ra93lal2/.local/share/virtualenvs/CMA_Fairness_v2-3j10GkSs/lib/python3.10/site-packages/sklearn/linear_model/_logistic.py:444: ConvergenceWarning: lbfgs failed to converge (status=1):\n",
      "STOP: TOTAL NO. of ITERATIONS REACHED LIMIT.\n",
      "\n",
      "Increase the number of iterations (max_iter) or scale the data as shown in:\n",
      "    https://scikit-learn.org/stable/modules/preprocessing.html\n",
      "Please also refer to the documentation for alternative solver options:\n",
      "    https://scikit-learn.org/stable/modules/linear_model.html#logistic-regression\n",
      "  n_iter_i = _check_optimize_result(\n"
     ]
    },
    {
     "data": {
      "text/html": [
       "<style>#sk-container-id-1 {color: black;background-color: white;}#sk-container-id-1 pre{padding: 0;}#sk-container-id-1 div.sk-toggleable {background-color: white;}#sk-container-id-1 label.sk-toggleable__label {cursor: pointer;display: block;width: 100%;margin-bottom: 0;padding: 0.3em;box-sizing: border-box;text-align: center;}#sk-container-id-1 label.sk-toggleable__label-arrow:before {content: \"▸\";float: left;margin-right: 0.25em;color: #696969;}#sk-container-id-1 label.sk-toggleable__label-arrow:hover:before {color: black;}#sk-container-id-1 div.sk-estimator:hover label.sk-toggleable__label-arrow:before {color: black;}#sk-container-id-1 div.sk-toggleable__content {max-height: 0;max-width: 0;overflow: hidden;text-align: left;background-color: #f0f8ff;}#sk-container-id-1 div.sk-toggleable__content pre {margin: 0.2em;color: black;border-radius: 0.25em;background-color: #f0f8ff;}#sk-container-id-1 input.sk-toggleable__control:checked~div.sk-toggleable__content {max-height: 200px;max-width: 100%;overflow: auto;}#sk-container-id-1 input.sk-toggleable__control:checked~label.sk-toggleable__label-arrow:before {content: \"▾\";}#sk-container-id-1 div.sk-estimator input.sk-toggleable__control:checked~label.sk-toggleable__label {background-color: #d4ebff;}#sk-container-id-1 div.sk-label input.sk-toggleable__control:checked~label.sk-toggleable__label {background-color: #d4ebff;}#sk-container-id-1 input.sk-hidden--visually {border: 0;clip: rect(1px 1px 1px 1px);clip: rect(1px, 1px, 1px, 1px);height: 1px;margin: -1px;overflow: hidden;padding: 0;position: absolute;width: 1px;}#sk-container-id-1 div.sk-estimator {font-family: monospace;background-color: #f0f8ff;border: 1px dotted black;border-radius: 0.25em;box-sizing: border-box;margin-bottom: 0.5em;}#sk-container-id-1 div.sk-estimator:hover {background-color: #d4ebff;}#sk-container-id-1 div.sk-parallel-item::after {content: \"\";width: 100%;border-bottom: 1px solid gray;flex-grow: 1;}#sk-container-id-1 div.sk-label:hover label.sk-toggleable__label {background-color: #d4ebff;}#sk-container-id-1 div.sk-serial::before {content: \"\";position: absolute;border-left: 1px solid gray;box-sizing: border-box;top: 0;bottom: 0;left: 50%;z-index: 0;}#sk-container-id-1 div.sk-serial {display: flex;flex-direction: column;align-items: center;background-color: white;padding-right: 0.2em;padding-left: 0.2em;position: relative;}#sk-container-id-1 div.sk-item {position: relative;z-index: 1;}#sk-container-id-1 div.sk-parallel {display: flex;align-items: stretch;justify-content: center;background-color: white;position: relative;}#sk-container-id-1 div.sk-item::before, #sk-container-id-1 div.sk-parallel-item::before {content: \"\";position: absolute;border-left: 1px solid gray;box-sizing: border-box;top: 0;bottom: 0;left: 50%;z-index: -1;}#sk-container-id-1 div.sk-parallel-item {display: flex;flex-direction: column;z-index: 1;position: relative;background-color: white;}#sk-container-id-1 div.sk-parallel-item:first-child::after {align-self: flex-end;width: 50%;}#sk-container-id-1 div.sk-parallel-item:last-child::after {align-self: flex-start;width: 50%;}#sk-container-id-1 div.sk-parallel-item:only-child::after {width: 0;}#sk-container-id-1 div.sk-dashed-wrapped {border: 1px dashed gray;margin: 0 0.4em 0.5em 0.4em;box-sizing: border-box;padding-bottom: 0.4em;background-color: white;}#sk-container-id-1 div.sk-label label {font-family: monospace;font-weight: bold;display: inline-block;line-height: 1.2em;}#sk-container-id-1 div.sk-label-container {text-align: center;}#sk-container-id-1 div.sk-container {/* jupyter's `normalize.less` sets `[hidden] { display: none; }` but bootstrap.min.css set `[hidden] { display: none !important; }` so we also need the `!important` here to be able to override the default hidden behavior on the sphinx rendered scikit-learn.org. See: https://github.com/scikit-learn/scikit-learn/issues/21755 */display: inline-block !important;position: relative;}#sk-container-id-1 div.sk-text-repr-fallback {display: none;}</style><div id=\"sk-container-id-1\" class=\"sk-top-container\"><div class=\"sk-text-repr-fallback\"><pre>Pipeline(steps=[(&#x27;scale&#x27;, None), (&#x27;model&#x27;, LogisticRegression(C=0.1))])</pre><b>In a Jupyter environment, please rerun this cell to show the HTML representation or trust the notebook. <br />On GitHub, the HTML representation is unable to render, please try loading this page with nbviewer.org.</b></div><div class=\"sk-container\" hidden><div class=\"sk-item sk-dashed-wrapped\"><div class=\"sk-label-container\"><div class=\"sk-label sk-toggleable\"><input class=\"sk-toggleable__control sk-hidden--visually\" id=\"sk-estimator-id-1\" type=\"checkbox\" ><label for=\"sk-estimator-id-1\" class=\"sk-toggleable__label sk-toggleable__label-arrow\">Pipeline</label><div class=\"sk-toggleable__content\"><pre>Pipeline(steps=[(&#x27;scale&#x27;, None), (&#x27;model&#x27;, LogisticRegression(C=0.1))])</pre></div></div></div><div class=\"sk-serial\"><div class=\"sk-item\"><div class=\"sk-estimator sk-toggleable\"><input class=\"sk-toggleable__control sk-hidden--visually\" id=\"sk-estimator-id-2\" type=\"checkbox\" ><label for=\"sk-estimator-id-2\" class=\"sk-toggleable__label sk-toggleable__label-arrow\">None</label><div class=\"sk-toggleable__content\"><pre>None</pre></div></div></div><div class=\"sk-item\"><div class=\"sk-estimator sk-toggleable\"><input class=\"sk-toggleable__control sk-hidden--visually\" id=\"sk-estimator-id-3\" type=\"checkbox\" ><label for=\"sk-estimator-id-3\" class=\"sk-toggleable__label sk-toggleable__label-arrow\">LogisticRegression</label><div class=\"sk-toggleable__content\"><pre>LogisticRegression(C=0.1)</pre></div></div></div></div></div></div></div>"
      ],
      "text/plain": [
       "Pipeline(steps=[('scale', None), ('model', LogisticRegression(C=0.1))])"
      ]
     },
     "execution_count": 32,
     "metadata": {},
     "output_type": "execute_result"
    }
   ],
   "source": [
    "model.fit(X_train, y_train.values.ravel())"
   ]
  },
  {
   "cell_type": "code",
   "execution_count": 33,
   "id": "af59f8c0",
   "metadata": {
    "execution": {
     "iopub.execute_input": "2025-08-05T15:43:15.357257Z",
     "iopub.status.busy": "2025-08-05T15:43:15.356905Z",
     "iopub.status.idle": "2025-08-05T15:43:15.361391Z",
     "shell.execute_reply": "2025-08-05T15:43:15.360546Z"
    },
    "papermill": {
     "duration": 0.017611,
     "end_time": "2025-08-05T15:43:15.363258",
     "exception": false,
     "start_time": "2025-08-05T15:43:15.345647",
     "status": "completed"
    },
    "tags": []
   },
   "outputs": [],
   "source": [
    "from fairness_multiverse.universe import predict_w_threshold"
   ]
  },
  {
   "cell_type": "code",
   "execution_count": 34,
   "id": "a7cf2e16",
   "metadata": {
    "execution": {
     "iopub.execute_input": "2025-08-05T15:43:15.405958Z",
     "iopub.status.busy": "2025-08-05T15:43:15.405473Z",
     "iopub.status.idle": "2025-08-05T15:43:15.524203Z",
     "shell.execute_reply": "2025-08-05T15:43:15.523195Z"
    },
    "papermill": {
     "duration": 0.142554,
     "end_time": "2025-08-05T15:43:15.525892",
     "exception": false,
     "start_time": "2025-08-05T15:43:15.383338",
     "status": "completed"
    },
    "tags": []
   },
   "outputs": [
    {
     "data": {
      "text/plain": [
       "0.8614758666815294"
      ]
     },
     "execution_count": 34,
     "metadata": {},
     "output_type": "execute_result"
    }
   ],
   "source": [
    "probs_test = model.predict_proba(X_test)\n",
    "\n",
    "'''\n",
    "Below code returns a boolean array (or binary 0/1 array depending on how it’s used) where each element \n",
    "is True if the probability of class 1 is greater than or equal to the threshold, and False otherwise.\n",
    "'''\n",
    "y_pred_default = predict_w_threshold(probs_test, 0.5)\n",
    "\n",
    "from sklearn.metrics import accuracy_score\n",
    "\n",
    "# Naive prediction\n",
    "accuracy_score(y_true = y_true, y_pred = y_pred_default)"
   ]
  },
  {
   "cell_type": "code",
   "execution_count": 35,
   "id": "081964c3",
   "metadata": {
    "execution": {
     "iopub.execute_input": "2025-08-05T15:43:15.570722Z",
     "iopub.status.busy": "2025-08-05T15:43:15.570075Z",
     "iopub.status.idle": "2025-08-05T15:43:15.652126Z",
     "shell.execute_reply": "2025-08-05T15:43:15.651437Z"
    },
    "papermill": {
     "duration": 0.103735,
     "end_time": "2025-08-05T15:43:15.653383",
     "exception": false,
     "start_time": "2025-08-05T15:43:15.549648",
     "status": "completed"
    },
    "tags": []
   },
   "outputs": [
    {
     "data": {
      "text/plain": [
       "array([0, 0, 0, ..., 0, 0, 0])"
      ]
     },
     "execution_count": 35,
     "metadata": {},
     "output_type": "execute_result"
    }
   ],
   "source": [
    "model.predict(X_test)"
   ]
  },
  {
   "cell_type": "markdown",
   "id": "56c9705b",
   "metadata": {
    "papermill": {
     "duration": 0.010422,
     "end_time": "2025-08-05T15:43:15.678793",
     "exception": false,
     "start_time": "2025-08-05T15:43:15.668371",
     "status": "completed"
    },
    "tags": []
   },
   "source": [
    "# Conformal Prediction"
   ]
  },
  {
   "cell_type": "code",
   "execution_count": 36,
   "id": "160ec6ff",
   "metadata": {
    "execution": {
     "iopub.execute_input": "2025-08-05T15:43:15.711038Z",
     "iopub.status.busy": "2025-08-05T15:43:15.710251Z",
     "iopub.status.idle": "2025-08-05T15:43:15.715763Z",
     "shell.execute_reply": "2025-08-05T15:43:15.714680Z"
    },
    "papermill": {
     "duration": 0.028565,
     "end_time": "2025-08-05T15:43:15.717353",
     "exception": false,
     "start_time": "2025-08-05T15:43:15.688788",
     "status": "completed"
    },
    "tags": []
   },
   "outputs": [],
   "source": [
    "# Miscoverage level for conformal prediction (10% allowed error rate => 90% target coverage)\n",
    "alpha = 0.1"
   ]
  },
  {
   "cell_type": "code",
   "execution_count": 37,
   "id": "eadf4555-3dd3-440e-8e35-f82a4ad9f855",
   "metadata": {
    "execution": {
     "iopub.execute_input": "2025-08-05T15:43:15.758894Z",
     "iopub.status.busy": "2025-08-05T15:43:15.758447Z",
     "iopub.status.idle": "2025-08-05T15:43:15.842771Z",
     "shell.execute_reply": "2025-08-05T15:43:15.841729Z"
    },
    "papermill": {
     "duration": 0.10951,
     "end_time": "2025-08-05T15:43:15.844772",
     "exception": false,
     "start_time": "2025-08-05T15:43:15.735262",
     "status": "completed"
    },
    "tags": []
   },
   "outputs": [],
   "source": [
    "probs_calib = model.predict_proba(X_calib)"
   ]
  },
  {
   "cell_type": "code",
   "execution_count": 38,
   "id": "2ed93547-6d5d-4983-9b36-1ecb300da49a",
   "metadata": {
    "execution": {
     "iopub.execute_input": "2025-08-05T15:43:15.885987Z",
     "iopub.status.busy": "2025-08-05T15:43:15.885451Z",
     "iopub.status.idle": "2025-08-05T15:43:15.891443Z",
     "shell.execute_reply": "2025-08-05T15:43:15.890349Z"
    },
    "papermill": {
     "duration": 0.038491,
     "end_time": "2025-08-05T15:43:15.903621",
     "exception": false,
     "start_time": "2025-08-05T15:43:15.865130",
     "status": "completed"
    },
    "tags": []
   },
   "outputs": [],
   "source": [
    "y_calib = y_calib.values.ravel().astype(int)"
   ]
  },
  {
   "cell_type": "code",
   "execution_count": 39,
   "id": "65d1320d-f588-4b38-9072-62af1ae97f7d",
   "metadata": {
    "execution": {
     "iopub.execute_input": "2025-08-05T15:43:15.942917Z",
     "iopub.status.busy": "2025-08-05T15:43:15.942578Z",
     "iopub.status.idle": "2025-08-05T15:43:15.948631Z",
     "shell.execute_reply": "2025-08-05T15:43:15.947828Z"
    },
    "papermill": {
     "duration": 0.024528,
     "end_time": "2025-08-05T15:43:15.949913",
     "exception": false,
     "start_time": "2025-08-05T15:43:15.925385",
     "status": "completed"
    },
    "tags": []
   },
   "outputs": [],
   "source": [
    "from fairness_multiverse.conformal import compute_nc_scores\n",
    "\n",
    "# Compute nonconformity scores on calibration set (1 - probability of true class)\n",
    "nc_scores = compute_nc_scores(probs_calib, y_calib)"
   ]
  },
  {
   "cell_type": "code",
   "execution_count": 40,
   "id": "df3b8ca3-53b7-43d5-9667-7c85da7aeda2",
   "metadata": {
    "execution": {
     "iopub.execute_input": "2025-08-05T15:43:15.988537Z",
     "iopub.status.busy": "2025-08-05T15:43:15.988113Z",
     "iopub.status.idle": "2025-08-05T15:43:15.995190Z",
     "shell.execute_reply": "2025-08-05T15:43:15.994090Z"
    },
    "papermill": {
     "duration": 0.034587,
     "end_time": "2025-08-05T15:43:15.997105",
     "exception": false,
     "start_time": "2025-08-05T15:43:15.962518",
     "status": "completed"
    },
    "tags": []
   },
   "outputs": [],
   "source": [
    "from fairness_multiverse.conformal import find_threshold\n",
    "\n",
    "# Find conformal threshold q_hat for the given alpha (split conformal method)\n",
    "q_hat = find_threshold(nc_scores, alpha)"
   ]
  },
  {
   "cell_type": "code",
   "execution_count": 41,
   "id": "4d29e6c1-0ef6-4aa4-b8fe-4fe79b0d033a",
   "metadata": {
    "execution": {
     "iopub.execute_input": "2025-08-05T15:43:16.047589Z",
     "iopub.status.busy": "2025-08-05T15:43:16.046928Z",
     "iopub.status.idle": "2025-08-05T15:43:16.055112Z",
     "shell.execute_reply": "2025-08-05T15:43:16.053880Z"
    },
    "papermill": {
     "duration": 0.035154,
     "end_time": "2025-08-05T15:43:16.057018",
     "exception": false,
     "start_time": "2025-08-05T15:43:16.021864",
     "status": "completed"
    },
    "tags": []
   },
   "outputs": [
    {
     "data": {
      "text/plain": [
       "0.6673650604382231"
      ]
     },
     "execution_count": 41,
     "metadata": {},
     "output_type": "execute_result"
    }
   ],
   "source": [
    "q_hat"
   ]
  },
  {
   "cell_type": "code",
   "execution_count": 42,
   "id": "92460794-cdac-4be2-ba28-f28c0515a6fb",
   "metadata": {
    "execution": {
     "iopub.execute_input": "2025-08-05T15:43:16.100014Z",
     "iopub.status.busy": "2025-08-05T15:43:16.099598Z",
     "iopub.status.idle": "2025-08-05T15:43:16.786442Z",
     "shell.execute_reply": "2025-08-05T15:43:16.785471Z"
    },
    "papermill": {
     "duration": 0.706525,
     "end_time": "2025-08-05T15:43:16.787974",
     "exception": false,
     "start_time": "2025-08-05T15:43:16.081449",
     "status": "completed"
    },
    "tags": []
   },
   "outputs": [],
   "source": [
    "from fairness_multiverse.conformal import predict_conformal_sets\n",
    "\n",
    "# Generate prediction sets for each test example\n",
    "pred_sets = predict_conformal_sets(model, X_test, q_hat)"
   ]
  },
  {
   "cell_type": "code",
   "execution_count": 43,
   "id": "d90c9a65-e6db-4f5d-80cd-e68fb7e46829",
   "metadata": {
    "execution": {
     "iopub.execute_input": "2025-08-05T15:43:16.820570Z",
     "iopub.status.busy": "2025-08-05T15:43:16.820236Z",
     "iopub.status.idle": "2025-08-05T15:43:16.824841Z",
     "shell.execute_reply": "2025-08-05T15:43:16.823999Z"
    },
    "papermill": {
     "duration": 0.018929,
     "end_time": "2025-08-05T15:43:16.826279",
     "exception": false,
     "start_time": "2025-08-05T15:43:16.807350",
     "status": "completed"
    },
    "tags": []
   },
   "outputs": [],
   "source": [
    "y_true = y_true.squeeze()"
   ]
  },
  {
   "cell_type": "code",
   "execution_count": 44,
   "id": "3a58a54a-1e68-46b9-927a-df01f18aebc8",
   "metadata": {
    "execution": {
     "iopub.execute_input": "2025-08-05T15:43:16.849156Z",
     "iopub.status.busy": "2025-08-05T15:43:16.848551Z",
     "iopub.status.idle": "2025-08-05T15:43:17.787418Z",
     "shell.execute_reply": "2025-08-05T15:43:17.786435Z"
    },
    "papermill": {
     "duration": 0.952036,
     "end_time": "2025-08-05T15:43:17.789461",
     "exception": false,
     "start_time": "2025-08-05T15:43:16.837425",
     "status": "completed"
    },
    "tags": []
   },
   "outputs": [],
   "source": [
    "from fairness_multiverse.conformal import evaluate_sets\n",
    "\n",
    "# Evaluate coverage and average set size on test data\n",
    "metrics = evaluate_sets(pred_sets, y_true)"
   ]
  },
  {
   "cell_type": "markdown",
   "id": "2b569c12-9aaa-4c88-98c9-bbcd0cf3ebb8",
   "metadata": {
    "papermill": {
     "duration": 0.021382,
     "end_time": "2025-08-05T15:43:17.833421",
     "exception": false,
     "start_time": "2025-08-05T15:43:17.812039",
     "status": "completed"
    },
    "tags": []
   },
   "source": [
    "# CP Metrics"
   ]
  },
  {
   "cell_type": "code",
   "execution_count": 45,
   "id": "5ce0a5cb-201f-45a0-ade5-94c7f0bd6095",
   "metadata": {
    "execution": {
     "iopub.execute_input": "2025-08-05T15:43:17.878455Z",
     "iopub.status.busy": "2025-08-05T15:43:17.877450Z",
     "iopub.status.idle": "2025-08-05T15:43:17.885151Z",
     "shell.execute_reply": "2025-08-05T15:43:17.884075Z"
    },
    "papermill": {
     "duration": 0.032262,
     "end_time": "2025-08-05T15:43:17.887067",
     "exception": false,
     "start_time": "2025-08-05T15:43:17.854805",
     "status": "completed"
    },
    "tags": []
   },
   "outputs": [
    {
     "data": {
      "text/plain": [
       "{'coverage': 0.9123063203656225, 'avg_size': 1.2477761676513208}"
      ]
     },
     "execution_count": 45,
     "metadata": {},
     "output_type": "execute_result"
    }
   ],
   "source": [
    "metrics"
   ]
  },
  {
   "cell_type": "code",
   "execution_count": 46,
   "id": "9b9a838d-31c9-430b-ae14-12baee460d17",
   "metadata": {
    "execution": {
     "iopub.execute_input": "2025-08-05T15:43:17.931720Z",
     "iopub.status.busy": "2025-08-05T15:43:17.930968Z",
     "iopub.status.idle": "2025-08-05T15:43:17.938067Z",
     "shell.execute_reply": "2025-08-05T15:43:17.937042Z"
    },
    "papermill": {
     "duration": 0.030192,
     "end_time": "2025-08-05T15:43:17.939723",
     "exception": false,
     "start_time": "2025-08-05T15:43:17.909531",
     "status": "completed"
    },
    "tags": []
   },
   "outputs": [],
   "source": [
    "example_universe = universe.copy()\n",
    "universe_training_year = example_universe.get(\"training_year\")\n",
    "universe_training_size = example_universe.get(\"training_size\")\n",
    "universe_scale = example_universe.get(\"scale\")\n",
    "universe_model = example_universe.get(\"model\")\n",
    "universe_exclude_features = example_universe.get(\"exclude_features\")\n",
    "universe_exclude_subgroups = example_universe.get(\"exclude_subgroups\")"
   ]
  },
  {
   "cell_type": "code",
   "execution_count": 47,
   "id": "f4b6a8ac-9dc0-4245-8a91-5b3b5999c4f9",
   "metadata": {
    "execution": {
     "iopub.execute_input": "2025-08-05T15:43:17.982560Z",
     "iopub.status.busy": "2025-08-05T15:43:17.981730Z",
     "iopub.status.idle": "2025-08-05T15:43:17.988642Z",
     "shell.execute_reply": "2025-08-05T15:43:17.987622Z"
    },
    "papermill": {
     "duration": 0.031015,
     "end_time": "2025-08-05T15:43:17.990496",
     "exception": false,
     "start_time": "2025-08-05T15:43:17.959481",
     "status": "completed"
    },
    "tags": []
   },
   "outputs": [],
   "source": [
    "cp_metrics_dict = {\n",
    "    \"universe_id\": [universe_id],\n",
    "    \"universe_training_year\": [universe_training_year],\n",
    "    \"universe_training_size\": [universe_training_size],\n",
    "    \"universe_scale\": [universe_scale],\n",
    "    \"universe_model\": [universe_model],\n",
    "    \"universe_exclude_features\": [universe_exclude_features],\n",
    "    \"universe_exclude_subgroups\": [universe_exclude_subgroups],\n",
    "    \"q_hat\": [q_hat],\n",
    "    \"coverage\": [metrics[\"coverage\"]],\n",
    "    \"avg_size\": [metrics[\"avg_size\"]],\n",
    "}"
   ]
  },
  {
   "cell_type": "code",
   "execution_count": 48,
   "id": "908acbb1-0371-4915-85ca-3fa520d2efe2",
   "metadata": {
    "execution": {
     "iopub.execute_input": "2025-08-05T15:43:18.037224Z",
     "iopub.status.busy": "2025-08-05T15:43:18.036373Z",
     "iopub.status.idle": "2025-08-05T15:43:18.045798Z",
     "shell.execute_reply": "2025-08-05T15:43:18.043619Z"
    },
    "papermill": {
     "duration": 0.034613,
     "end_time": "2025-08-05T15:43:18.047569",
     "exception": false,
     "start_time": "2025-08-05T15:43:18.012956",
     "status": "completed"
    },
    "tags": []
   },
   "outputs": [
    {
     "data": {
      "text/plain": [
       "{'universe_id': ['346c04ceb92e7cd7c01293712a413e02'],\n",
       " 'universe_training_year': ['2012_14'],\n",
       " 'universe_training_size': ['5k'],\n",
       " 'universe_scale': ['do-not-scale'],\n",
       " 'universe_model': ['penalized_logreg'],\n",
       " 'universe_exclude_features': ['age'],\n",
       " 'universe_exclude_subgroups': ['keep-all'],\n",
       " 'q_hat': [0.6673650604382231],\n",
       " 'coverage': [0.9123063203656225],\n",
       " 'avg_size': [1.2477761676513208]}"
      ]
     },
     "execution_count": 48,
     "metadata": {},
     "output_type": "execute_result"
    }
   ],
   "source": [
    "cp_metrics_dict"
   ]
  },
  {
   "cell_type": "code",
   "execution_count": 49,
   "id": "33007efc-14e9-4ec6-97ac-56a455c82265",
   "metadata": {
    "execution": {
     "iopub.execute_input": "2025-08-05T15:43:18.072903Z",
     "iopub.status.busy": "2025-08-05T15:43:18.072204Z",
     "iopub.status.idle": "2025-08-05T15:43:18.077407Z",
     "shell.execute_reply": "2025-08-05T15:43:18.076668Z"
    },
    "papermill": {
     "duration": 0.019586,
     "end_time": "2025-08-05T15:43:18.078913",
     "exception": false,
     "start_time": "2025-08-05T15:43:18.059327",
     "status": "completed"
    },
    "tags": []
   },
   "outputs": [],
   "source": [
    "cp_metrics_df = pd.DataFrame(cp_metrics_dict)"
   ]
  },
  {
   "cell_type": "code",
   "execution_count": 50,
   "id": "db12611b-57b2-4910-b9d0-355adfd6e7bf",
   "metadata": {
    "execution": {
     "iopub.execute_input": "2025-08-05T15:43:18.107496Z",
     "iopub.status.busy": "2025-08-05T15:43:18.106905Z",
     "iopub.status.idle": "2025-08-05T15:43:18.121293Z",
     "shell.execute_reply": "2025-08-05T15:43:18.120550Z"
    },
    "papermill": {
     "duration": 0.032139,
     "end_time": "2025-08-05T15:43:18.122573",
     "exception": false,
     "start_time": "2025-08-05T15:43:18.090434",
     "status": "completed"
    },
    "tags": []
   },
   "outputs": [
    {
     "data": {
      "text/html": [
       "<div>\n",
       "<style scoped>\n",
       "    .dataframe tbody tr th:only-of-type {\n",
       "        vertical-align: middle;\n",
       "    }\n",
       "\n",
       "    .dataframe tbody tr th {\n",
       "        vertical-align: top;\n",
       "    }\n",
       "\n",
       "    .dataframe thead th {\n",
       "        text-align: right;\n",
       "    }\n",
       "</style>\n",
       "<table border=\"1\" class=\"dataframe\">\n",
       "  <thead>\n",
       "    <tr style=\"text-align: right;\">\n",
       "      <th></th>\n",
       "      <th>universe_id</th>\n",
       "      <th>universe_training_year</th>\n",
       "      <th>universe_training_size</th>\n",
       "      <th>universe_scale</th>\n",
       "      <th>universe_model</th>\n",
       "      <th>universe_exclude_features</th>\n",
       "      <th>universe_exclude_subgroups</th>\n",
       "      <th>q_hat</th>\n",
       "      <th>coverage</th>\n",
       "      <th>avg_size</th>\n",
       "    </tr>\n",
       "  </thead>\n",
       "  <tbody>\n",
       "    <tr>\n",
       "      <th>0</th>\n",
       "      <td>346c04ceb92e7cd7c01293712a413e02</td>\n",
       "      <td>2012_14</td>\n",
       "      <td>5k</td>\n",
       "      <td>do-not-scale</td>\n",
       "      <td>penalized_logreg</td>\n",
       "      <td>age</td>\n",
       "      <td>keep-all</td>\n",
       "      <td>0.667365</td>\n",
       "      <td>0.912306</td>\n",
       "      <td>1.247776</td>\n",
       "    </tr>\n",
       "  </tbody>\n",
       "</table>\n",
       "</div>"
      ],
      "text/plain": [
       "                        universe_id universe_training_year  \\\n",
       "0  346c04ceb92e7cd7c01293712a413e02                2012_14   \n",
       "\n",
       "  universe_training_size universe_scale    universe_model  \\\n",
       "0                     5k   do-not-scale  penalized_logreg   \n",
       "\n",
       "  universe_exclude_features universe_exclude_subgroups     q_hat  coverage  \\\n",
       "0                       age                   keep-all  0.667365  0.912306   \n",
       "\n",
       "   avg_size  \n",
       "0  1.247776  "
      ]
     },
     "execution_count": 50,
     "metadata": {},
     "output_type": "execute_result"
    }
   ],
   "source": [
    "cp_metrics_df"
   ]
  },
  {
   "cell_type": "code",
   "execution_count": 51,
   "id": "b7fbde55-a0a1-47e4-9af6-fe4a17fa8c61",
   "metadata": {
    "execution": {
     "iopub.execute_input": "2025-08-05T15:43:18.147489Z",
     "iopub.status.busy": "2025-08-05T15:43:18.147111Z",
     "iopub.status.idle": "2025-08-05T15:43:18.152883Z",
     "shell.execute_reply": "2025-08-05T15:43:18.152141Z"
    },
    "papermill": {
     "duration": 0.019802,
     "end_time": "2025-08-05T15:43:18.154207",
     "exception": false,
     "start_time": "2025-08-05T15:43:18.134405",
     "status": "completed"
    },
    "tags": []
   },
   "outputs": [],
   "source": [
    "# Conditional Coverage & looking at subgroups"
   ]
  },
  {
   "cell_type": "code",
   "execution_count": 52,
   "id": "027ae886-68dd-4141-96c7-805a5450e1ef",
   "metadata": {
    "execution": {
     "iopub.execute_input": "2025-08-05T15:43:18.179674Z",
     "iopub.status.busy": "2025-08-05T15:43:18.179036Z",
     "iopub.status.idle": "2025-08-05T15:43:18.375793Z",
     "shell.execute_reply": "2025-08-05T15:43:18.375051Z"
    },
    "papermill": {
     "duration": 0.21155,
     "end_time": "2025-08-05T15:43:18.377682",
     "exception": false,
     "start_time": "2025-08-05T15:43:18.166132",
     "status": "completed"
    },
    "tags": []
   },
   "outputs": [],
   "source": [
    "from fairness_multiverse.conformal import build_cp_groups\n",
    "\n",
    "cp_groups_df = build_cp_groups(pred_sets, y_true, X_test.index, org_test)\n",
    "#needs universe_id and setting"
   ]
  },
  {
   "cell_type": "code",
   "execution_count": 53,
   "id": "6cbdab96-b2b2-45af-ad54-d0516db2e28d",
   "metadata": {
    "execution": {
     "iopub.execute_input": "2025-08-05T15:43:18.424042Z",
     "iopub.status.busy": "2025-08-05T15:43:18.423628Z",
     "iopub.status.idle": "2025-08-05T15:43:20.139901Z",
     "shell.execute_reply": "2025-08-05T15:43:20.138967Z"
    },
    "papermill": {
     "duration": 1.741435,
     "end_time": "2025-08-05T15:43:20.141744",
     "exception": false,
     "start_time": "2025-08-05T15:43:18.400309",
     "status": "completed"
    },
    "tags": []
   },
   "outputs": [],
   "source": [
    "# Define covered = 1 if true_label is in the predicted set\n",
    "cp_groups_df['covered'] = cp_groups_df.apply(\n",
    "    lambda r: int(r['true_label'] in r['pred_set']),\n",
    "    axis=1\n",
    ")"
   ]
  },
  {
   "cell_type": "code",
   "execution_count": 54,
   "id": "338ff529-1a6b-4b87-a931-8e4788d52aad",
   "metadata": {
    "execution": {
     "iopub.execute_input": "2025-08-05T15:43:20.187698Z",
     "iopub.status.busy": "2025-08-05T15:43:20.186807Z",
     "iopub.status.idle": "2025-08-05T15:43:20.192427Z",
     "shell.execute_reply": "2025-08-05T15:43:20.191553Z"
    },
    "papermill": {
     "duration": 0.031434,
     "end_time": "2025-08-05T15:43:20.194111",
     "exception": false,
     "start_time": "2025-08-05T15:43:20.162677",
     "status": "completed"
    },
    "tags": []
   },
   "outputs": [],
   "source": [
    "#cp_groups_df"
   ]
  },
  {
   "cell_type": "code",
   "execution_count": 55,
   "id": "90032e27-66df-4540-9169-4e89cfbaa758",
   "metadata": {
    "execution": {
     "iopub.execute_input": "2025-08-05T15:43:20.238933Z",
     "iopub.status.busy": "2025-08-05T15:43:20.238288Z",
     "iopub.status.idle": "2025-08-05T15:43:20.250163Z",
     "shell.execute_reply": "2025-08-05T15:43:20.249215Z"
    },
    "papermill": {
     "duration": 0.03664,
     "end_time": "2025-08-05T15:43:20.251996",
     "exception": false,
     "start_time": "2025-08-05T15:43:20.215356",
     "status": "completed"
    },
    "tags": []
   },
   "outputs": [],
   "source": [
    "subgroups = ['frau1','nongerman','nongerman_male','nongerman_female']\n",
    "\n",
    "# Conditional coverage for subgroup==1\n",
    "cond_coverage = {\n",
    "    g: cp_groups_df.loc[cp_groups_df[g]==1, 'covered'].mean()\n",
    "    for g in subgroups\n",
    "}"
   ]
  },
  {
   "cell_type": "code",
   "execution_count": 56,
   "id": "1e348fb1-b9c3-45bc-ba23-f016827a7e0d",
   "metadata": {
    "execution": {
     "iopub.execute_input": "2025-08-05T15:43:20.299160Z",
     "iopub.status.busy": "2025-08-05T15:43:20.298494Z",
     "iopub.status.idle": "2025-08-05T15:43:20.305932Z",
     "shell.execute_reply": "2025-08-05T15:43:20.304913Z"
    },
    "papermill": {
     "duration": 0.032853,
     "end_time": "2025-08-05T15:43:20.307474",
     "exception": false,
     "start_time": "2025-08-05T15:43:20.274621",
     "status": "completed"
    },
    "tags": []
   },
   "outputs": [
    {
     "data": {
      "text/plain": [
       "{'frau1': 0.9096643752527295,\n",
       " 'nongerman': 0.9596362207376635,\n",
       " 'nongerman_male': 0.9665856074934702,\n",
       " 'nongerman_female': 0.9481371087928465}"
      ]
     },
     "execution_count": 56,
     "metadata": {},
     "output_type": "execute_result"
    }
   ],
   "source": [
    "cond_coverage"
   ]
  },
  {
   "cell_type": "code",
   "execution_count": 57,
   "id": "f5093324-c3dd-4d63-bc4c-8d945e5c8bbb",
   "metadata": {
    "execution": {
     "iopub.execute_input": "2025-08-05T15:43:20.354467Z",
     "iopub.status.busy": "2025-08-05T15:43:20.353783Z",
     "iopub.status.idle": "2025-08-05T15:43:20.361367Z",
     "shell.execute_reply": "2025-08-05T15:43:20.360284Z"
    },
    "papermill": {
     "duration": 0.033315,
     "end_time": "2025-08-05T15:43:20.362988",
     "exception": false,
     "start_time": "2025-08-05T15:43:20.329673",
     "status": "completed"
    },
    "tags": []
   },
   "outputs": [],
   "source": [
    "for subgroup, cov in cond_coverage.items():\n",
    "    cp_metrics_df[f\"cov_{subgroup}\"] = cov"
   ]
  },
  {
   "cell_type": "code",
   "execution_count": 58,
   "id": "6e872e10-dbe5-49e8-b554-5030c98ff75d",
   "metadata": {
    "execution": {
     "iopub.execute_input": "2025-08-05T15:43:20.407627Z",
     "iopub.status.busy": "2025-08-05T15:43:20.406664Z",
     "iopub.status.idle": "2025-08-05T15:43:20.425939Z",
     "shell.execute_reply": "2025-08-05T15:43:20.424772Z"
    },
    "papermill": {
     "duration": 0.042686,
     "end_time": "2025-08-05T15:43:20.427733",
     "exception": false,
     "start_time": "2025-08-05T15:43:20.385047",
     "status": "completed"
    },
    "tags": []
   },
   "outputs": [
    {
     "data": {
      "text/html": [
       "<div>\n",
       "<style scoped>\n",
       "    .dataframe tbody tr th:only-of-type {\n",
       "        vertical-align: middle;\n",
       "    }\n",
       "\n",
       "    .dataframe tbody tr th {\n",
       "        vertical-align: top;\n",
       "    }\n",
       "\n",
       "    .dataframe thead th {\n",
       "        text-align: right;\n",
       "    }\n",
       "</style>\n",
       "<table border=\"1\" class=\"dataframe\">\n",
       "  <thead>\n",
       "    <tr style=\"text-align: right;\">\n",
       "      <th></th>\n",
       "      <th>universe_id</th>\n",
       "      <th>universe_training_year</th>\n",
       "      <th>universe_training_size</th>\n",
       "      <th>universe_scale</th>\n",
       "      <th>universe_model</th>\n",
       "      <th>universe_exclude_features</th>\n",
       "      <th>universe_exclude_subgroups</th>\n",
       "      <th>q_hat</th>\n",
       "      <th>coverage</th>\n",
       "      <th>avg_size</th>\n",
       "      <th>cov_frau1</th>\n",
       "      <th>cov_nongerman</th>\n",
       "      <th>cov_nongerman_male</th>\n",
       "      <th>cov_nongerman_female</th>\n",
       "    </tr>\n",
       "  </thead>\n",
       "  <tbody>\n",
       "    <tr>\n",
       "      <th>0</th>\n",
       "      <td>346c04ceb92e7cd7c01293712a413e02</td>\n",
       "      <td>2012_14</td>\n",
       "      <td>5k</td>\n",
       "      <td>do-not-scale</td>\n",
       "      <td>penalized_logreg</td>\n",
       "      <td>age</td>\n",
       "      <td>keep-all</td>\n",
       "      <td>0.667365</td>\n",
       "      <td>0.912306</td>\n",
       "      <td>1.247776</td>\n",
       "      <td>0.909664</td>\n",
       "      <td>0.959636</td>\n",
       "      <td>0.966586</td>\n",
       "      <td>0.948137</td>\n",
       "    </tr>\n",
       "  </tbody>\n",
       "</table>\n",
       "</div>"
      ],
      "text/plain": [
       "                        universe_id universe_training_year  \\\n",
       "0  346c04ceb92e7cd7c01293712a413e02                2012_14   \n",
       "\n",
       "  universe_training_size universe_scale    universe_model  \\\n",
       "0                     5k   do-not-scale  penalized_logreg   \n",
       "\n",
       "  universe_exclude_features universe_exclude_subgroups     q_hat  coverage  \\\n",
       "0                       age                   keep-all  0.667365  0.912306   \n",
       "\n",
       "   avg_size  cov_frau1  cov_nongerman  cov_nongerman_male  \\\n",
       "0  1.247776   0.909664       0.959636            0.966586   \n",
       "\n",
       "   cov_nongerman_female  \n",
       "0              0.948137  "
      ]
     },
     "execution_count": 58,
     "metadata": {},
     "output_type": "execute_result"
    }
   ],
   "source": [
    "cp_metrics_df"
   ]
  },
  {
   "cell_type": "markdown",
   "id": "33774451",
   "metadata": {
    "papermill": {
     "duration": 0.022338,
     "end_time": "2025-08-05T15:43:20.473389",
     "exception": false,
     "start_time": "2025-08-05T15:43:20.451051",
     "status": "completed"
    },
    "tags": []
   },
   "source": [
    "# (Fairness) Metrics"
   ]
  },
  {
   "cell_type": "code",
   "execution_count": 59,
   "id": "debc5d62",
   "metadata": {
    "execution": {
     "iopub.execute_input": "2025-08-05T15:43:20.521592Z",
     "iopub.status.busy": "2025-08-05T15:43:20.520761Z",
     "iopub.status.idle": "2025-08-05T15:43:20.542535Z",
     "shell.execute_reply": "2025-08-05T15:43:20.541374Z"
    },
    "papermill": {
     "duration": 0.046523,
     "end_time": "2025-08-05T15:43:20.544662",
     "exception": false,
     "start_time": "2025-08-05T15:43:20.498139",
     "status": "completed"
    },
    "tags": []
   },
   "outputs": [],
   "source": [
    "# do I need to include maxdeutsch1.missing?\n",
    "\n",
    "import numpy as np\n",
    "\n",
    "colname_to_bin = \"maxdeutsch1\"\n",
    "majority_value = org_train[colname_to_bin].mode()[0]\n",
    "\n",
    "org_test[\"majmin\"] = np.where(org_test[colname_to_bin] == majority_value, \"majority\", \"minority\")"
   ]
  },
  {
   "cell_type": "code",
   "execution_count": 60,
   "id": "06a50de5",
   "metadata": {
    "execution": {
     "iopub.execute_input": "2025-08-05T15:43:20.592239Z",
     "iopub.status.busy": "2025-08-05T15:43:20.591770Z",
     "iopub.status.idle": "2025-08-05T15:43:23.446957Z",
     "shell.execute_reply": "2025-08-05T15:43:23.445860Z"
    },
    "papermill": {
     "duration": 2.880491,
     "end_time": "2025-08-05T15:43:23.449025",
     "exception": false,
     "start_time": "2025-08-05T15:43:20.568534",
     "status": "completed"
    },
    "tags": []
   },
   "outputs": [],
   "source": [
    "example_universe = universe.copy()\n",
    "example_universe[\"cutoff\"] = example_universe[\"cutoff\"][0]\n",
    "example_universe[\"eval_fairness_grouping\"] = example_universe[\"eval_fairness_grouping\"][0]\n",
    "fairness_dict, metric_frame = universe_analysis.compute_metrics(\n",
    "    example_universe,\n",
    "    y_pred_prob=probs_test,\n",
    "    y_test=y_true,\n",
    "    org_test=org_test,\n",
    ")"
   ]
  },
  {
   "cell_type": "markdown",
   "id": "f95d4e02",
   "metadata": {
    "papermill": {
     "duration": 0.026965,
     "end_time": "2025-08-05T15:43:23.502527",
     "exception": false,
     "start_time": "2025-08-05T15:43:23.475562",
     "status": "completed"
    },
    "tags": []
   },
   "source": [
    "# Overall"
   ]
  },
  {
   "cell_type": "markdown",
   "id": "bdee4871",
   "metadata": {
    "papermill": {
     "duration": 0.026156,
     "end_time": "2025-08-05T15:43:23.554832",
     "exception": false,
     "start_time": "2025-08-05T15:43:23.528676",
     "status": "completed"
    },
    "tags": []
   },
   "source": [
    "Fairness\n",
    "Main fairness target: Equalized Odds. Seems to be a better fit than equal opportunity, since we're not only interested in Y = 1. Seems to be a better fit than demographic parity, since we also care about accuracy, not just equal distribution of preds.\n",
    "\n",
    "Pick column for computation of fairness metrics\n",
    "\n",
    "Performance\n",
    "Overall performance measures, most interesting in relation to the measures split by group below"
   ]
  },
  {
   "cell_type": "code",
   "execution_count": 61,
   "id": "c4e067c6",
   "metadata": {
    "execution": {
     "iopub.execute_input": "2025-08-05T15:43:23.610306Z",
     "iopub.status.busy": "2025-08-05T15:43:23.609667Z",
     "iopub.status.idle": "2025-08-05T15:43:23.619758Z",
     "shell.execute_reply": "2025-08-05T15:43:23.618615Z"
    },
    "papermill": {
     "duration": 0.040181,
     "end_time": "2025-08-05T15:43:23.621657",
     "exception": false,
     "start_time": "2025-08-05T15:43:23.581476",
     "status": "completed"
    },
    "tags": []
   },
   "outputs": [
    {
     "data": {
      "text/plain": [
       "accuracy                   0.217467\n",
       "balanced accuracy          0.533185\n",
       "f1                         0.238989\n",
       "precision                  0.136526\n",
       "false positive rate        0.891486\n",
       "false negative rate        0.042145\n",
       "selection rate             0.900000\n",
       "count                  89710.000000\n",
       "dtype: float64"
      ]
     },
     "execution_count": 61,
     "metadata": {},
     "output_type": "execute_result"
    }
   ],
   "source": [
    "metric_frame.overall"
   ]
  },
  {
   "cell_type": "markdown",
   "id": "e968fe9d",
   "metadata": {
    "papermill": {
     "duration": 0.026463,
     "end_time": "2025-08-05T15:43:23.675659",
     "exception": false,
     "start_time": "2025-08-05T15:43:23.649196",
     "status": "completed"
    },
    "tags": []
   },
   "source": [
    "By Group"
   ]
  },
  {
   "cell_type": "code",
   "execution_count": 62,
   "id": "ec325bce",
   "metadata": {
    "execution": {
     "iopub.execute_input": "2025-08-05T15:43:23.729390Z",
     "iopub.status.busy": "2025-08-05T15:43:23.728839Z",
     "iopub.status.idle": "2025-08-05T15:43:23.746085Z",
     "shell.execute_reply": "2025-08-05T15:43:23.744887Z"
    },
    "papermill": {
     "duration": 0.046307,
     "end_time": "2025-08-05T15:43:23.747835",
     "exception": false,
     "start_time": "2025-08-05T15:43:23.701528",
     "status": "completed"
    },
    "tags": []
   },
   "outputs": [
    {
     "data": {
      "text/html": [
       "<div>\n",
       "<style scoped>\n",
       "    .dataframe tbody tr th:only-of-type {\n",
       "        vertical-align: middle;\n",
       "    }\n",
       "\n",
       "    .dataframe tbody tr th {\n",
       "        vertical-align: top;\n",
       "    }\n",
       "\n",
       "    .dataframe thead th {\n",
       "        text-align: right;\n",
       "    }\n",
       "</style>\n",
       "<table border=\"1\" class=\"dataframe\">\n",
       "  <thead>\n",
       "    <tr style=\"text-align: right;\">\n",
       "      <th></th>\n",
       "      <th>accuracy</th>\n",
       "      <th>balanced accuracy</th>\n",
       "      <th>f1</th>\n",
       "      <th>precision</th>\n",
       "      <th>false positive rate</th>\n",
       "      <th>false negative rate</th>\n",
       "      <th>selection rate</th>\n",
       "      <th>count</th>\n",
       "    </tr>\n",
       "    <tr>\n",
       "      <th>majmin</th>\n",
       "      <th></th>\n",
       "      <th></th>\n",
       "      <th></th>\n",
       "      <th></th>\n",
       "      <th></th>\n",
       "      <th></th>\n",
       "      <th></th>\n",
       "      <th></th>\n",
       "    </tr>\n",
       "  </thead>\n",
       "  <tbody>\n",
       "    <tr>\n",
       "      <th>majority</th>\n",
       "      <td>0.239598</td>\n",
       "      <td>0.541088</td>\n",
       "      <td>0.248389</td>\n",
       "      <td>0.142852</td>\n",
       "      <td>0.868699</td>\n",
       "      <td>0.049125</td>\n",
       "      <td>0.879558</td>\n",
       "      <td>69170.0</td>\n",
       "    </tr>\n",
       "    <tr>\n",
       "      <th>minority</th>\n",
       "      <td>0.142941</td>\n",
       "      <td>0.509018</td>\n",
       "      <td>0.209449</td>\n",
       "      <td>0.117186</td>\n",
       "      <td>0.966762</td>\n",
       "      <td>0.015203</td>\n",
       "      <td>0.968841</td>\n",
       "      <td>20540.0</td>\n",
       "    </tr>\n",
       "  </tbody>\n",
       "</table>\n",
       "</div>"
      ],
      "text/plain": [
       "          accuracy  balanced accuracy        f1  precision  \\\n",
       "majmin                                                       \n",
       "majority  0.239598           0.541088  0.248389   0.142852   \n",
       "minority  0.142941           0.509018  0.209449   0.117186   \n",
       "\n",
       "          false positive rate  false negative rate  selection rate    count  \n",
       "majmin                                                                       \n",
       "majority             0.868699             0.049125        0.879558  69170.0  \n",
       "minority             0.966762             0.015203        0.968841  20540.0  "
      ]
     },
     "execution_count": 62,
     "metadata": {},
     "output_type": "execute_result"
    }
   ],
   "source": [
    "metric_frame.by_group"
   ]
  },
  {
   "cell_type": "code",
   "execution_count": 63,
   "id": "a9ddbe63",
   "metadata": {
    "execution": {
     "iopub.execute_input": "2025-08-05T15:43:23.800339Z",
     "iopub.status.busy": "2025-08-05T15:43:23.799745Z",
     "iopub.status.idle": "2025-08-05T15:43:26.271449Z",
     "shell.execute_reply": "2025-08-05T15:43:26.270496Z"
    },
    "papermill": {
     "duration": 2.50002,
     "end_time": "2025-08-05T15:43:26.273136",
     "exception": false,
     "start_time": "2025-08-05T15:43:23.773116",
     "status": "completed"
    },
    "tags": []
   },
   "outputs": [
    {
     "data": {
      "text/plain": [
       "array([[<Axes: title={'center': 'accuracy'}, xlabel='majmin'>,\n",
       "        <Axes: title={'center': 'balanced accuracy'}, xlabel='majmin'>,\n",
       "        <Axes: title={'center': 'f1'}, xlabel='majmin'>],\n",
       "       [<Axes: title={'center': 'precision'}, xlabel='majmin'>,\n",
       "        <Axes: title={'center': 'false positive rate'}, xlabel='majmin'>,\n",
       "        <Axes: title={'center': 'false negative rate'}, xlabel='majmin'>],\n",
       "       [<Axes: title={'center': 'selection rate'}, xlabel='majmin'>,\n",
       "        <Axes: title={'center': 'count'}, xlabel='majmin'>,\n",
       "        <Axes: xlabel='majmin'>]], dtype=object)"
      ]
     },
     "execution_count": 63,
     "metadata": {},
     "output_type": "execute_result"
    },
    {
     "data": {
      "image/png": "[encoded data removed]",
      "text/plain": [
       "<Figure size 1200x800 with 9 Axes>"
      ]
     },
     "metadata": {},
     "output_type": "display_data"
    }
   ],
   "source": [
    "# In a graphic\n",
    "metric_frame.by_group.plot.bar(\n",
    "    subplots=True,\n",
    "    layout=[3, 3],\n",
    "    legend=False,\n",
    "    figsize=[12, 8],\n",
    "    title=\"Show all metrics\",\n",
    ")"
   ]
  },
  {
   "cell_type": "markdown",
   "id": "f57a0bac",
   "metadata": {
    "papermill": {
     "duration": 0.022289,
     "end_time": "2025-08-05T15:43:26.321505",
     "exception": false,
     "start_time": "2025-08-05T15:43:26.299216",
     "status": "completed"
    },
    "tags": []
   },
   "source": [
    "# Final Output"
   ]
  },
  {
   "cell_type": "code",
   "execution_count": 64,
   "id": "96d280a3",
   "metadata": {
    "execution": {
     "iopub.execute_input": "2025-08-05T15:43:26.368036Z",
     "iopub.status.busy": "2025-08-05T15:43:26.367386Z",
     "iopub.status.idle": "2025-08-05T15:43:26.375895Z",
     "shell.execute_reply": "2025-08-05T15:43:26.375056Z"
    },
    "papermill": {
     "duration": 0.033672,
     "end_time": "2025-08-05T15:43:26.377410",
     "exception": false,
     "start_time": "2025-08-05T15:43:26.343738",
     "status": "completed"
    },
    "tags": []
   },
   "outputs": [
    {
     "data": {
      "text/plain": [
       "4"
      ]
     },
     "execution_count": 64,
     "metadata": {},
     "output_type": "execute_result"
    }
   ],
   "source": [
    "sub_universes = universe_analysis.generate_sub_universes()\n",
    "len(sub_universes)"
   ]
  },
  {
   "cell_type": "code",
   "execution_count": 65,
   "id": "92adf7ba",
   "metadata": {
    "execution": {
     "iopub.execute_input": "2025-08-05T15:43:26.425697Z",
     "iopub.status.busy": "2025-08-05T15:43:26.424835Z",
     "iopub.status.idle": "2025-08-05T15:43:26.430933Z",
     "shell.execute_reply": "2025-08-05T15:43:26.430008Z"
    },
    "papermill": {
     "duration": 0.031868,
     "end_time": "2025-08-05T15:43:26.432584",
     "exception": false,
     "start_time": "2025-08-05T15:43:26.400716",
     "status": "completed"
    },
    "tags": []
   },
   "outputs": [],
   "source": [
    "def filter_sub_universe_data(sub_universe, org_test):\n",
    "    # Keep all rows — no filtering\n",
    "    keep_rows_mask = np.ones(org_test.shape[0], dtype=bool)\n",
    "\n",
    "    print(f\"[INFO] Keeping all rows: {keep_rows_mask.sum()} rows retained.\")\n",
    "    return keep_rows_mask"
   ]
  },
  {
   "cell_type": "code",
   "execution_count": 66,
   "id": "4a759155",
   "metadata": {
    "execution": {
     "iopub.execute_input": "2025-08-05T15:43:26.480477Z",
     "iopub.status.busy": "2025-08-05T15:43:26.479638Z",
     "iopub.status.idle": "2025-08-05T15:43:35.150586Z",
     "shell.execute_reply": "2025-08-05T15:43:35.149572Z"
    },
    "papermill": {
     "duration": 8.696162,
     "end_time": "2025-08-05T15:43:35.152221",
     "exception": false,
     "start_time": "2025-08-05T15:43:26.456059",
     "status": "completed"
    },
    "tags": []
   },
   "outputs": [
    {
     "name": "stdout",
     "output_type": "stream",
     "text": [
      "Stopping execution_time clock.\n",
      "[INFO] Keeping all rows: 89710 rows retained.\n"
     ]
    },
    {
     "name": "stdout",
     "output_type": "stream",
     "text": [
      "[INFO] Keeping all rows: 89710 rows retained.\n"
     ]
    },
    {
     "name": "stdout",
     "output_type": "stream",
     "text": [
      "[INFO] Keeping all rows: 89710 rows retained.\n"
     ]
    },
    {
     "name": "stdout",
     "output_type": "stream",
     "text": [
      "[INFO] Keeping all rows: 89710 rows retained.\n"
     ]
    },
    {
     "data": {
      "text/html": [
       "<div>\n",
       "<style scoped>\n",
       "    .dataframe tbody tr th:only-of-type {\n",
       "        vertical-align: middle;\n",
       "    }\n",
       "\n",
       "    .dataframe tbody tr th {\n",
       "        vertical-align: top;\n",
       "    }\n",
       "\n",
       "    .dataframe thead th {\n",
       "        text-align: right;\n",
       "    }\n",
       "</style>\n",
       "<table border=\"1\" class=\"dataframe\">\n",
       "  <thead>\n",
       "    <tr style=\"text-align: right;\">\n",
       "      <th></th>\n",
       "      <th>run_no</th>\n",
       "      <th>universe_id</th>\n",
       "      <th>universe_settings</th>\n",
       "      <th>execution_time</th>\n",
       "      <th>test_size_n</th>\n",
       "      <th>test_size_frac</th>\n",
       "      <th>fair_main_equalized_odds_difference</th>\n",
       "      <th>fair_main_equalized_odds_ratio</th>\n",
       "      <th>fair_main_demographic_parity_difference</th>\n",
       "      <th>fair_main_demographic_parity_ratio</th>\n",
       "      <th>...</th>\n",
       "      <th>perf_grp_precision_0</th>\n",
       "      <th>perf_grp_precision_1</th>\n",
       "      <th>perf_grp_false positive rate_0</th>\n",
       "      <th>perf_grp_false positive rate_1</th>\n",
       "      <th>perf_grp_false negative rate_0</th>\n",
       "      <th>perf_grp_false negative rate_1</th>\n",
       "      <th>perf_grp_selection rate_0</th>\n",
       "      <th>perf_grp_selection rate_1</th>\n",
       "      <th>perf_grp_count_0</th>\n",
       "      <th>perf_grp_count_1</th>\n",
       "    </tr>\n",
       "  </thead>\n",
       "  <tbody>\n",
       "    <tr>\n",
       "      <th>0</th>\n",
       "      <td>15</td>\n",
       "      <td>346c04ceb92e7cd7c01293712a413e02</td>\n",
       "      <td>{\"cutoff\": \"quantile_0.1\", \"eval_fairness_grou...</td>\n",
       "      <td>23.949572</td>\n",
       "      <td>89710</td>\n",
       "      <td>1.0</td>\n",
       "      <td>0.098063</td>\n",
       "      <td>0.898565</td>\n",
       "      <td>0.089284</td>\n",
       "      <td>0.907845</td>\n",
       "      <td>...</td>\n",
       "      <td>NaN</td>\n",
       "      <td>NaN</td>\n",
       "      <td>NaN</td>\n",
       "      <td>NaN</td>\n",
       "      <td>NaN</td>\n",
       "      <td>NaN</td>\n",
       "      <td>NaN</td>\n",
       "      <td>NaN</td>\n",
       "      <td>NaN</td>\n",
       "      <td>NaN</td>\n",
       "    </tr>\n",
       "    <tr>\n",
       "      <th>0</th>\n",
       "      <td>15</td>\n",
       "      <td>346c04ceb92e7cd7c01293712a413e02</td>\n",
       "      <td>{\"cutoff\": \"quantile_0.1\", \"eval_fairness_grou...</td>\n",
       "      <td>23.949572</td>\n",
       "      <td>89710</td>\n",
       "      <td>1.0</td>\n",
       "      <td>0.098063</td>\n",
       "      <td>0.898565</td>\n",
       "      <td>0.089284</td>\n",
       "      <td>0.907845</td>\n",
       "      <td>...</td>\n",
       "      <td>0.117186</td>\n",
       "      <td>0.142852</td>\n",
       "      <td>0.966762</td>\n",
       "      <td>0.868699</td>\n",
       "      <td>0.015203</td>\n",
       "      <td>0.049125</td>\n",
       "      <td>0.968841</td>\n",
       "      <td>0.879558</td>\n",
       "      <td>20540.0</td>\n",
       "      <td>69170.0</td>\n",
       "    </tr>\n",
       "    <tr>\n",
       "      <th>0</th>\n",
       "      <td>15</td>\n",
       "      <td>346c04ceb92e7cd7c01293712a413e02</td>\n",
       "      <td>{\"cutoff\": \"quantile_0.25\", \"eval_fairness_gro...</td>\n",
       "      <td>23.949572</td>\n",
       "      <td>89710</td>\n",
       "      <td>1.0</td>\n",
       "      <td>0.229666</td>\n",
       "      <td>0.747474</td>\n",
       "      <td>0.211977</td>\n",
       "      <td>0.767935</td>\n",
       "      <td>...</td>\n",
       "      <td>NaN</td>\n",
       "      <td>NaN</td>\n",
       "      <td>NaN</td>\n",
       "      <td>NaN</td>\n",
       "      <td>NaN</td>\n",
       "      <td>NaN</td>\n",
       "      <td>NaN</td>\n",
       "      <td>NaN</td>\n",
       "      <td>NaN</td>\n",
       "      <td>NaN</td>\n",
       "    </tr>\n",
       "    <tr>\n",
       "      <th>0</th>\n",
       "      <td>15</td>\n",
       "      <td>346c04ceb92e7cd7c01293712a413e02</td>\n",
       "      <td>{\"cutoff\": \"quantile_0.25\", \"eval_fairness_gro...</td>\n",
       "      <td>23.949572</td>\n",
       "      <td>89710</td>\n",
       "      <td>1.0</td>\n",
       "      <td>0.229666</td>\n",
       "      <td>0.747474</td>\n",
       "      <td>0.211977</td>\n",
       "      <td>0.767935</td>\n",
       "      <td>...</td>\n",
       "      <td>0.119124</td>\n",
       "      <td>0.158924</td>\n",
       "      <td>0.909476</td>\n",
       "      <td>0.679810</td>\n",
       "      <td>0.056166</td>\n",
       "      <td>0.156346</td>\n",
       "      <td>0.913437</td>\n",
       "      <td>0.701460</td>\n",
       "      <td>20540.0</td>\n",
       "      <td>69170.0</td>\n",
       "    </tr>\n",
       "  </tbody>\n",
       "</table>\n",
       "<p>4 rows × 50 columns</p>\n",
       "</div>"
      ],
      "text/plain": [
       "  run_no                       universe_id  \\\n",
       "0     15  346c04ceb92e7cd7c01293712a413e02   \n",
       "0     15  346c04ceb92e7cd7c01293712a413e02   \n",
       "0     15  346c04ceb92e7cd7c01293712a413e02   \n",
       "0     15  346c04ceb92e7cd7c01293712a413e02   \n",
       "\n",
       "                                   universe_settings  execution_time  \\\n",
       "0  {\"cutoff\": \"quantile_0.1\", \"eval_fairness_grou...       23.949572   \n",
       "0  {\"cutoff\": \"quantile_0.1\", \"eval_fairness_grou...       23.949572   \n",
       "0  {\"cutoff\": \"quantile_0.25\", \"eval_fairness_gro...       23.949572   \n",
       "0  {\"cutoff\": \"quantile_0.25\", \"eval_fairness_gro...       23.949572   \n",
       "\n",
       "   test_size_n  test_size_frac  fair_main_equalized_odds_difference  \\\n",
       "0        89710             1.0                             0.098063   \n",
       "0        89710             1.0                             0.098063   \n",
       "0        89710             1.0                             0.229666   \n",
       "0        89710             1.0                             0.229666   \n",
       "\n",
       "   fair_main_equalized_odds_ratio  fair_main_demographic_parity_difference  \\\n",
       "0                        0.898565                                 0.089284   \n",
       "0                        0.898565                                 0.089284   \n",
       "0                        0.747474                                 0.211977   \n",
       "0                        0.747474                                 0.211977   \n",
       "\n",
       "   fair_main_demographic_parity_ratio  ...  perf_grp_precision_0  \\\n",
       "0                            0.907845  ...                   NaN   \n",
       "0                            0.907845  ...              0.117186   \n",
       "0                            0.767935  ...                   NaN   \n",
       "0                            0.767935  ...              0.119124   \n",
       "\n",
       "   perf_grp_precision_1  perf_grp_false positive rate_0  \\\n",
       "0                   NaN                             NaN   \n",
       "0              0.142852                        0.966762   \n",
       "0                   NaN                             NaN   \n",
       "0              0.158924                        0.909476   \n",
       "\n",
       "   perf_grp_false positive rate_1  perf_grp_false negative rate_0  \\\n",
       "0                             NaN                             NaN   \n",
       "0                        0.868699                        0.015203   \n",
       "0                             NaN                             NaN   \n",
       "0                        0.679810                        0.056166   \n",
       "\n",
       "   perf_grp_false negative rate_1  perf_grp_selection rate_0  \\\n",
       "0                             NaN                        NaN   \n",
       "0                        0.049125                   0.968841   \n",
       "0                             NaN                        NaN   \n",
       "0                        0.156346                   0.913437   \n",
       "\n",
       "   perf_grp_selection rate_1  perf_grp_count_0  perf_grp_count_1  \n",
       "0                        NaN               NaN               NaN  \n",
       "0                   0.879558           20540.0           69170.0  \n",
       "0                        NaN               NaN               NaN  \n",
       "0                   0.701460           20540.0           69170.0  \n",
       "\n",
       "[4 rows x 50 columns]"
      ]
     },
     "execution_count": 66,
     "metadata": {},
     "output_type": "execute_result"
    }
   ],
   "source": [
    "final_output = universe_analysis.generate_final_output(\n",
    "    y_pred_prob=probs_test,\n",
    "    y_test=y_true,\n",
    "    org_test=org_test,\n",
    "    filter_data=filter_sub_universe_data,\n",
    "    cp_metrics_df=cp_metrics_df,\n",
    "    save=True,\n",
    ")\n",
    "final_output"
   ]
  }
 ],
 "metadata": {
  "celltoolbar": "Tags",
  "kernelspec": {
   "display_name": "Python (CMA Fairness)",
   "language": "python",
   "name": "cma_fair_env"
  },
  "language_info": {
   "codemirror_mode": {
    "name": "ipython",
    "version": 3
   },
   "file_extension": ".py",
   "mimetype": "text/x-python",
   "name": "python",
   "nbconvert_exporter": "python",
   "pygments_lexer": "ipython3",
   "version": "3.10.12"
  },
  "papermill": {
   "default_parameters": {},
   "duration": 36.775136,
   "end_time": "2025-08-05T15:43:36.003190",
   "environment_variables": {},
   "exception": null,
   "input_path": "universe_analysis.ipynb",
   "output_path": "output/runs/15/notebooks/m_15-346c04ceb92e7cd7c01293712a413e02.ipynb",
   "parameters": {
    "output_dir": "output",
    "run_no": "15",
    "seed": "2023",
    "universe": "{\"cutoff\": [\"quantile_0.1\", \"quantile_0.25\"], \"eval_fairness_grouping\": [\"majority-minority\", \"nationality-all\"], \"exclude_features\": \"age\", \"exclude_subgroups\": \"keep-all\", \"model\": \"penalized_logreg\", \"scale\": \"do-not-scale\", \"training_size\": \"5k\", \"training_year\": \"2012_14\"}",
    "universe_id": "346c04ceb92e7cd7c01293712a413e02"
   },
   "start_time": "2025-08-05T15:42:59.228054",
   "version": "2.6.0"
  }
 },
 "nbformat": 4,
 "nbformat_minor": 5
}