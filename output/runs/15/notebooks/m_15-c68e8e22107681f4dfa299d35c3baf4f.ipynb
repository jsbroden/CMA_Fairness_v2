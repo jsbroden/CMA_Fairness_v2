{
 "cells": [
  {
   "cell_type": "code",
   "execution_count": 1,
   "id": "f159f837-637b-42ba-96b5-ec9a68c44524",
   "metadata": {
    "execution": {
     "iopub.execute_input": "2025-08-05T14:41:54.661779Z",
     "iopub.status.busy": "2025-08-05T14:41:54.661296Z",
     "iopub.status.idle": "2025-08-05T14:41:54.674869Z",
     "shell.execute_reply": "2025-08-05T14:41:54.673922Z"
    },
    "papermill": {
     "duration": 0.03953,
     "end_time": "2025-08-05T14:41:54.676786",
     "exception": false,
     "start_time": "2025-08-05T14:41:54.637256",
     "status": "completed"
    },
    "tags": []
   },
   "outputs": [
    {
     "name": "stdout",
     "output_type": "stream",
     "text": [
      "/dss/dsshome1/0C/ra93lal2/cma/CMA_Fairness_v2\n"
     ]
    },
    {
     "name": "stderr",
     "output_type": "stream",
     "text": [
      "/dss/dsshome1/0C/ra93lal2/.local/share/virtualenvs/CMA_Fairness_v2-3j10GkSs/lib/python3.10/site-packages/IPython/core/magics/osm.py:393: UserWarning: This is now an optional IPython functionality, using bookmarks requires you to install the `pickleshare` library.\n",
      "  bkms = self.shell.db.get('bookmarks', {})\n",
      "/dss/dsshome1/0C/ra93lal2/.local/share/virtualenvs/CMA_Fairness_v2-3j10GkSs/lib/python3.10/site-packages/IPython/core/magics/osm.py:417: UserWarning: This is now an optional IPython functionality, setting dhist requires you to install the `pickleshare` library.\n",
      "  self.shell.db['dhist'] = compress_dhist(dhist)[-100:]\n"
     ]
    }
   ],
   "source": [
    "%cd ~/cma/CMA_Fairness_v2"
   ]
  },
  {
   "cell_type": "markdown",
   "id": "de2603b9",
   "metadata": {
    "papermill": {
     "duration": 0.022541,
     "end_time": "2025-08-05T14:41:54.722526",
     "exception": false,
     "start_time": "2025-08-05T14:41:54.699985",
     "status": "completed"
    },
    "tags": []
   },
   "source": [
    "The following cell holds the definition of our parameters, these values can be overriden by rendering the with e.g. the following command:\n",
    "\n",
    "papermill -p alpha 0.2 -p ratio 0.3 universe_analysis.ipynb output/test_run.ipynb"
   ]
  },
  {
   "cell_type": "code",
   "execution_count": 2,
   "id": "a80968a0-40bb-4fa9-85ef-2d5eefb01975",
   "metadata": {
    "execution": {
     "iopub.execute_input": "2025-08-05T14:41:54.769912Z",
     "iopub.status.busy": "2025-08-05T14:41:54.769378Z",
     "iopub.status.idle": "2025-08-05T14:41:54.774887Z",
     "shell.execute_reply": "2025-08-05T14:41:54.774020Z"
    },
    "papermill": {
     "duration": 0.031924,
     "end_time": "2025-08-05T14:41:54.777095",
     "exception": false,
     "start_time": "2025-08-05T14:41:54.745171",
     "status": "completed"
    },
    "tags": []
   },
   "outputs": [
    {
     "name": "stdout",
     "output_type": "stream",
     "text": [
      "Current working directory: /dss/dsshome1/0C/ra93lal2/cma/CMA_Fairness_v2\n"
     ]
    }
   ],
   "source": [
    "import os\n",
    "print(\"Current working directory:\", os.getcwd())"
   ]
  },
  {
   "cell_type": "code",
   "execution_count": 3,
   "id": "2dce4c03",
   "metadata": {
    "execution": {
     "iopub.execute_input": "2025-08-05T14:41:54.825761Z",
     "iopub.status.busy": "2025-08-05T14:41:54.824723Z",
     "iopub.status.idle": "2025-08-05T14:41:54.831019Z",
     "shell.execute_reply": "2025-08-05T14:41:54.829958Z"
    },
    "papermill": {
     "duration": 0.032673,
     "end_time": "2025-08-05T14:41:54.833360",
     "exception": false,
     "start_time": "2025-08-05T14:41:54.800687",
     "status": "completed"
    },
    "tags": [
     "parameters"
    ]
   },
   "outputs": [],
   "source": [
    "run_no = 0\n",
    "universe_id = \"test\"\n",
    "universe = {\n",
    "    \"training_size\": \"25k\", # \"25k\", \"5k\", \"1k\"\n",
    "    \"training_year\": \"2014\", # \"2014\", \"2012_14\", \"2010_14\"\n",
    "    \"scale\": \"scale\", # \"scale\", \"do-not-scale\",\n",
    "    \"model\": \"elasticnet\", # \"logreg\", \"penalized_logreg\", \"rf\", \"gbm\", \"elasticnet\"\n",
    "    \"cutoff\": [\"quantile_0.15\", \"quantile_0.30\"],\n",
    "    \"exclude_features\": \"age\", # \"none\", \"nationality\", \"sex\", \"nationality-sex\", \"age\"\n",
    "    \"exclude_subgroups\": \"keep-all\", # \"keep-all\", \"drop-non-german\"\n",
    "    \"eval_fairness_grouping\": [\"majority-minority\", \"nationality-all\"]\n",
    "}\n",
    "\n",
    "output_dir=\"./output\"\n",
    "seed=0"
   ]
  },
  {
   "cell_type": "code",
   "execution_count": 4,
   "id": "78a83e52",
   "metadata": {
    "execution": {
     "iopub.execute_input": "2025-08-05T14:41:54.881836Z",
     "iopub.status.busy": "2025-08-05T14:41:54.881453Z",
     "iopub.status.idle": "2025-08-05T14:41:54.886668Z",
     "shell.execute_reply": "2025-08-05T14:41:54.885499Z"
    },
    "papermill": {
     "duration": 0.032003,
     "end_time": "2025-08-05T14:41:54.888949",
     "exception": false,
     "start_time": "2025-08-05T14:41:54.856946",
     "status": "completed"
    },
    "tags": [
     "injected-parameters"
    ]
   },
   "outputs": [],
   "source": [
    "# Parameters\n",
    "universe_id = \"c68e8e22107681f4dfa299d35c3baf4f\"\n",
    "run_no = \"15\"\n",
    "universe = \"{\\\"cutoff\\\": [\\\"quantile_0.1\\\", \\\"quantile_0.25\\\"], \\\"eval_fairness_grouping\\\": [\\\"majority-minority\\\", \\\"nationality-all\\\"], \\\"exclude_features\\\": \\\"nationality-sex\\\", \\\"exclude_subgroups\\\": \\\"drop-non-german\\\", \\\"model\\\": \\\"penalized_logreg\\\", \\\"scale\\\": \\\"do-not-scale\\\", \\\"training_size\\\": \\\"25k\\\", \\\"training_year\\\": \\\"2014\\\"}\"\n",
    "output_dir = \"output\"\n",
    "seed = \"2023\"\n"
   ]
  },
  {
   "cell_type": "code",
   "execution_count": 5,
   "id": "1650acaf",
   "metadata": {
    "execution": {
     "iopub.execute_input": "2025-08-05T14:41:54.937897Z",
     "iopub.status.busy": "2025-08-05T14:41:54.937190Z",
     "iopub.status.idle": "2025-08-05T14:41:54.942620Z",
     "shell.execute_reply": "2025-08-05T14:41:54.941413Z"
    },
    "papermill": {
     "duration": 0.031787,
     "end_time": "2025-08-05T14:41:54.944717",
     "exception": false,
     "start_time": "2025-08-05T14:41:54.912930",
     "status": "completed"
    },
    "tags": []
   },
   "outputs": [],
   "source": [
    "import json\n",
    "if isinstance(universe, str):\n",
    "    universe = json.loads(universe)"
   ]
  },
  {
   "cell_type": "code",
   "execution_count": 6,
   "id": "16620c48",
   "metadata": {
    "execution": {
     "iopub.execute_input": "2025-08-05T14:41:54.993737Z",
     "iopub.status.busy": "2025-08-05T14:41:54.992968Z",
     "iopub.status.idle": "2025-08-05T14:41:55.038281Z",
     "shell.execute_reply": "2025-08-05T14:41:55.037153Z"
    },
    "papermill": {
     "duration": 0.071994,
     "end_time": "2025-08-05T14:41:55.040710",
     "exception": false,
     "start_time": "2025-08-05T14:41:54.968716",
     "status": "completed"
    },
    "tags": []
   },
   "outputs": [],
   "source": [
    "# Auto-reload the custom package\n",
    "%load_ext autoreload\n",
    "%autoreload 1\n",
    "%aimport fairness_multiverse"
   ]
  },
  {
   "cell_type": "code",
   "execution_count": 7,
   "id": "01c5c9f3",
   "metadata": {
    "execution": {
     "iopub.execute_input": "2025-08-05T14:41:55.089288Z",
     "iopub.status.busy": "2025-08-05T14:41:55.088734Z",
     "iopub.status.idle": "2025-08-05T14:41:57.033993Z",
     "shell.execute_reply": "2025-08-05T14:41:57.033167Z"
    },
    "papermill": {
     "duration": 1.973992,
     "end_time": "2025-08-05T14:41:57.038211",
     "exception": false,
     "start_time": "2025-08-05T14:41:55.064219",
     "status": "completed"
    },
    "tags": []
   },
   "outputs": [],
   "source": [
    "from fairness_multiverse.universe import UniverseAnalysis\n",
    "\n",
    "universe_analysis = UniverseAnalysis(\n",
    "    run_no = run_no,\n",
    "    universe_id = universe_id,\n",
    "    universe = universe,\n",
    "    output_dir=output_dir,\n",
    ")"
   ]
  },
  {
   "cell_type": "code",
   "execution_count": 8,
   "id": "106241f5",
   "metadata": {
    "execution": {
     "iopub.execute_input": "2025-08-05T14:41:57.058087Z",
     "iopub.status.busy": "2025-08-05T14:41:57.057287Z",
     "iopub.status.idle": "2025-08-05T14:41:57.063159Z",
     "shell.execute_reply": "2025-08-05T14:41:57.062219Z"
    },
    "papermill": {
     "duration": 0.017088,
     "end_time": "2025-08-05T14:41:57.064631",
     "exception": false,
     "start_time": "2025-08-05T14:41:57.047543",
     "status": "completed"
    },
    "tags": []
   },
   "outputs": [
    {
     "name": "stdout",
     "output_type": "stream",
     "text": [
      "Using Seed: 2023\n"
     ]
    }
   ],
   "source": [
    "import numpy as np\n",
    "parsed_seed = int(seed)\n",
    "np.random.seed(parsed_seed)\n",
    "print(f\"Using Seed: {parsed_seed}\")"
   ]
  },
  {
   "cell_type": "markdown",
   "id": "e0ebdc57",
   "metadata": {
    "papermill": {
     "duration": 0.008728,
     "end_time": "2025-08-05T14:41:57.083387",
     "exception": false,
     "start_time": "2025-08-05T14:41:57.074659",
     "status": "completed"
    },
    "tags": []
   },
   "source": [
    "# Loading Data"
   ]
  },
  {
   "cell_type": "markdown",
   "id": "681925a3",
   "metadata": {
    "papermill": {
     "duration": 0.008679,
     "end_time": "2025-08-05T14:41:57.101126",
     "exception": false,
     "start_time": "2025-08-05T14:41:57.092447",
     "status": "completed"
    },
    "tags": []
   },
   "source": [
    "Load siab_train, siab_test, siab_calib and/or \n",
    "load siab_train_features, siab_train_labels"
   ]
  },
  {
   "cell_type": "code",
   "execution_count": 9,
   "id": "f0496b8a",
   "metadata": {
    "execution": {
     "iopub.execute_input": "2025-08-05T14:41:57.123228Z",
     "iopub.status.busy": "2025-08-05T14:41:57.122615Z",
     "iopub.status.idle": "2025-08-05T14:42:08.737143Z",
     "shell.execute_reply": "2025-08-05T14:42:08.735957Z"
    },
    "papermill": {
     "duration": 11.628662,
     "end_time": "2025-08-05T14:42:08.738874",
     "exception": false,
     "start_time": "2025-08-05T14:41:57.110212",
     "status": "completed"
    },
    "tags": []
   },
   "outputs": [
    {
     "name": "stdout",
     "output_type": "stream",
     "text": [
      "Loading SIAB data from cache: data/siab_cached.csv.gz\n"
     ]
    },
    {
     "name": "stdout",
     "output_type": "stream",
     "text": [
      "(643690, 164)\n"
     ]
    }
   ],
   "source": [
    "from pathlib import Path\n",
    "import pandas as pd\n",
    "\n",
    "# File paths\n",
    "raw_file = Path(\"data/raw/siab.csv\")\n",
    "cache_file = Path(\"data/siab_cached.csv.gz\")\n",
    "\n",
    "# Ensure cache directory exists\n",
    "cache_file.parent.mkdir(parents=True, exist_ok=True)\n",
    "\n",
    "# Load with simple caching\n",
    "if cache_file.exists():\n",
    "    print(f\"Loading SIAB data from cache: {cache_file}\")\n",
    "    siab = pd.read_csv(cache_file, compression='gzip')\n",
    "else:\n",
    "    print(f\"Cache not found. Reading raw SIAB data: {raw_file}\")\n",
    "    siab = pd.read_csv(raw_file)\n",
    "    siab.to_csv(cache_file, index=False, compression='gzip')\n",
    "    print(f\"Cached SIAB data to: {cache_file}\")\n",
    "\n",
    "print(siab.shape)"
   ]
  },
  {
   "cell_type": "code",
   "execution_count": 10,
   "id": "db0ca512-5f53-4dba-abdb-a2888bca41ba",
   "metadata": {
    "execution": {
     "iopub.execute_input": "2025-08-05T14:42:08.781451Z",
     "iopub.status.busy": "2025-08-05T14:42:08.780415Z",
     "iopub.status.idle": "2025-08-05T14:42:08.789031Z",
     "shell.execute_reply": "2025-08-05T14:42:08.787824Z"
    },
    "papermill": {
     "duration": 0.031084,
     "end_time": "2025-08-05T14:42:08.791367",
     "exception": false,
     "start_time": "2025-08-05T14:42:08.760283",
     "status": "completed"
    },
    "tags": []
   },
   "outputs": [],
   "source": [
    "#siab"
   ]
  },
  {
   "cell_type": "markdown",
   "id": "997051c5-15bd-4b69-9786-c3001a3ce484",
   "metadata": {
    "papermill": {
     "duration": 0.020299,
     "end_time": "2025-08-05T14:42:08.832513",
     "exception": false,
     "start_time": "2025-08-05T14:42:08.812214",
     "status": "completed"
    },
    "tags": []
   },
   "source": [
    "# Splitting Data and Setting Training Data Size"
   ]
  },
  {
   "cell_type": "code",
   "execution_count": 11,
   "id": "aea9c6ef-6f46-42c8-85eb-5a62025c1508",
   "metadata": {
    "execution": {
     "iopub.execute_input": "2025-08-05T14:42:08.872313Z",
     "iopub.status.busy": "2025-08-05T14:42:08.871885Z",
     "iopub.status.idle": "2025-08-05T14:42:09.210626Z",
     "shell.execute_reply": "2025-08-05T14:42:09.209574Z"
    },
    "papermill": {
     "duration": 0.361401,
     "end_time": "2025-08-05T14:42:09.212673",
     "exception": false,
     "start_time": "2025-08-05T14:42:08.851272",
     "status": "completed"
    },
    "tags": []
   },
   "outputs": [],
   "source": [
    "from fairness_multiverse.universe import sample_by_year_size\n",
    "\n",
    "siab_train = sample_by_year_size(siab,\n",
    "                               training_year=universe[\"training_year\"],\n",
    "                               training_size=universe[\"training_size\"])"
   ]
  },
  {
   "cell_type": "code",
   "execution_count": 12,
   "id": "8d3afb32-789d-442c-8d5d-9f5aa8dd2eed",
   "metadata": {
    "execution": {
     "iopub.execute_input": "2025-08-05T14:42:09.253368Z",
     "iopub.status.busy": "2025-08-05T14:42:09.252747Z",
     "iopub.status.idle": "2025-08-05T14:42:09.258017Z",
     "shell.execute_reply": "2025-08-05T14:42:09.256826Z"
    },
    "papermill": {
     "duration": 0.026844,
     "end_time": "2025-08-05T14:42:09.259901",
     "exception": false,
     "start_time": "2025-08-05T14:42:09.233057",
     "status": "completed"
    },
    "tags": []
   },
   "outputs": [],
   "source": [
    "#siab_train.shape"
   ]
  },
  {
   "cell_type": "code",
   "execution_count": 13,
   "id": "d582db68-1a4c-47fb-84fc-08518dc1975a",
   "metadata": {
    "execution": {
     "iopub.execute_input": "2025-08-05T14:42:09.299400Z",
     "iopub.status.busy": "2025-08-05T14:42:09.299046Z",
     "iopub.status.idle": "2025-08-05T14:42:09.303764Z",
     "shell.execute_reply": "2025-08-05T14:42:09.302716Z"
    },
    "papermill": {
     "duration": 0.026914,
     "end_time": "2025-08-05T14:42:09.305718",
     "exception": false,
     "start_time": "2025-08-05T14:42:09.278804",
     "status": "completed"
    },
    "tags": []
   },
   "outputs": [],
   "source": [
    "#display(siab_train.groupby(\"year\").size())"
   ]
  },
  {
   "cell_type": "code",
   "execution_count": 14,
   "id": "a561edb4-d032-42cb-8256-22eac1111c64",
   "metadata": {
    "execution": {
     "iopub.execute_input": "2025-08-05T14:42:09.344945Z",
     "iopub.status.busy": "2025-08-05T14:42:09.344456Z",
     "iopub.status.idle": "2025-08-05T14:42:09.607009Z",
     "shell.execute_reply": "2025-08-05T14:42:09.605994Z"
    },
    "papermill": {
     "duration": 0.283792,
     "end_time": "2025-08-05T14:42:09.609052",
     "exception": false,
     "start_time": "2025-08-05T14:42:09.325260",
     "status": "completed"
    },
    "tags": []
   },
   "outputs": [],
   "source": [
    "#siab_train = siab_s[siab_s.year < 2015]\n",
    "siab_calib = siab[siab.year == 2015]\n",
    "siab_test = siab[siab.year == 2016]"
   ]
  },
  {
   "cell_type": "code",
   "execution_count": 15,
   "id": "472de16f-c3db-4916-846b-1f0de9cf1746",
   "metadata": {
    "execution": {
     "iopub.execute_input": "2025-08-05T14:42:09.650644Z",
     "iopub.status.busy": "2025-08-05T14:42:09.650021Z",
     "iopub.status.idle": "2025-08-05T14:42:09.665042Z",
     "shell.execute_reply": "2025-08-05T14:42:09.663992Z"
    },
    "papermill": {
     "duration": 0.038305,
     "end_time": "2025-08-05T14:42:09.667031",
     "exception": false,
     "start_time": "2025-08-05T14:42:09.628726",
     "status": "completed"
    },
    "tags": []
   },
   "outputs": [],
   "source": [
    "X_train = siab_train.iloc[:,4:164]\n",
    "y_train = siab_train.iloc[:, [3]]"
   ]
  },
  {
   "cell_type": "code",
   "execution_count": 16,
   "id": "828c96af-f43a-4ed6-ba47-8ac73a47d56c",
   "metadata": {
    "execution": {
     "iopub.execute_input": "2025-08-05T14:42:09.706017Z",
     "iopub.status.busy": "2025-08-05T14:42:09.705190Z",
     "iopub.status.idle": "2025-08-05T14:42:09.757794Z",
     "shell.execute_reply": "2025-08-05T14:42:09.756674Z"
    },
    "papermill": {
     "duration": 0.07436,
     "end_time": "2025-08-05T14:42:09.760051",
     "exception": false,
     "start_time": "2025-08-05T14:42:09.685691",
     "status": "completed"
    },
    "tags": []
   },
   "outputs": [],
   "source": [
    "X_calib = siab_calib.iloc[:,4:164]\n",
    "y_calib = siab_calib.iloc[:, [3]]"
   ]
  },
  {
   "cell_type": "code",
   "execution_count": 17,
   "id": "c34be9c3-6bd6-476e-acd3-845840e303be",
   "metadata": {
    "execution": {
     "iopub.execute_input": "2025-08-05T14:42:09.797653Z",
     "iopub.status.busy": "2025-08-05T14:42:09.797039Z",
     "iopub.status.idle": "2025-08-05T14:42:09.849091Z",
     "shell.execute_reply": "2025-08-05T14:42:09.848005Z"
    },
    "papermill": {
     "duration": 0.072367,
     "end_time": "2025-08-05T14:42:09.851394",
     "exception": false,
     "start_time": "2025-08-05T14:42:09.779027",
     "status": "completed"
    },
    "tags": []
   },
   "outputs": [],
   "source": [
    "X_test = siab_test.iloc[:,4:164]\n",
    "y_true = siab_test.iloc[:, [3]]"
   ]
  },
  {
   "cell_type": "code",
   "execution_count": 18,
   "id": "e6c733c5",
   "metadata": {
    "execution": {
     "iopub.execute_input": "2025-08-05T14:42:09.891181Z",
     "iopub.status.busy": "2025-08-05T14:42:09.890436Z",
     "iopub.status.idle": "2025-08-05T14:42:09.989387Z",
     "shell.execute_reply": "2025-08-05T14:42:09.988389Z"
    },
    "papermill": {
     "duration": 0.120288,
     "end_time": "2025-08-05T14:42:09.991413",
     "exception": false,
     "start_time": "2025-08-05T14:42:09.871125",
     "status": "completed"
    },
    "tags": []
   },
   "outputs": [],
   "source": [
    "# Auxiliary data needed downstream in the pipeline\n",
    "\n",
    "org_train = X_train.copy()\n",
    "org_test = X_test.copy()\n",
    "org_calib = X_calib.copy()"
   ]
  },
  {
   "cell_type": "markdown",
   "id": "0a4a1b33",
   "metadata": {
    "papermill": {
     "duration": 0.018554,
     "end_time": "2025-08-05T14:42:10.029448",
     "exception": false,
     "start_time": "2025-08-05T14:42:10.010894",
     "status": "completed"
    },
    "tags": []
   },
   "source": [
    "# Preprocessing Data"
   ]
  },
  {
   "cell_type": "code",
   "execution_count": 19,
   "id": "ca879031",
   "metadata": {
    "execution": {
     "iopub.execute_input": "2025-08-05T14:42:10.068818Z",
     "iopub.status.busy": "2025-08-05T14:42:10.067867Z",
     "iopub.status.idle": "2025-08-05T14:42:10.074203Z",
     "shell.execute_reply": "2025-08-05T14:42:10.073315Z"
    },
    "papermill": {
     "duration": 0.027732,
     "end_time": "2025-08-05T14:42:10.075694",
     "exception": false,
     "start_time": "2025-08-05T14:42:10.047962",
     "status": "completed"
    },
    "tags": []
   },
   "outputs": [],
   "source": [
    "# EXCLUDE PROTECTED FEATURES\n",
    "# ----------------------\n",
    "# \"exclude_features\": \"none\", # \"nationality\", \"sex\", \"nationality-sex\"\n",
    "\n",
    "excluded_features = universe[\"exclude_features\"].split(\"-\") # split, e.g.: \"nationality-sex\" -> [\"nationality\", \"sex\"]\n",
    "excluded_features_dictionary = {\n",
    "    \"nationality\": [\"maxdeutsch1\", \"maxdeutsch.Missing.\"],\n",
    "    \"sex\": [\"frau1\"],\n",
    "    \"age\": [\"age\"],\n",
    "}"
   ]
  },
  {
   "cell_type": "code",
   "execution_count": 20,
   "id": "b745ac60",
   "metadata": {
    "execution": {
     "iopub.execute_input": "2025-08-05T14:42:10.115493Z",
     "iopub.status.busy": "2025-08-05T14:42:10.114959Z",
     "iopub.status.idle": "2025-08-05T14:42:10.120319Z",
     "shell.execute_reply": "2025-08-05T14:42:10.119408Z"
    },
    "papermill": {
     "duration": 0.02651,
     "end_time": "2025-08-05T14:42:10.121965",
     "exception": false,
     "start_time": "2025-08-05T14:42:10.095455",
     "status": "completed"
    },
    "tags": []
   },
   "outputs": [],
   "source": [
    "# Code nice names to column names\n",
    "\n",
    "excluded_features_columns = [\n",
    "    excluded_features_dictionary[f] for f in excluded_features if len(f) > 0 and f != \"none\"\n",
    "]"
   ]
  },
  {
   "cell_type": "code",
   "execution_count": 21,
   "id": "f84f73a2",
   "metadata": {
    "execution": {
     "iopub.execute_input": "2025-08-05T14:42:10.161814Z",
     "iopub.status.busy": "2025-08-05T14:42:10.160930Z",
     "iopub.status.idle": "2025-08-05T14:42:10.167481Z",
     "shell.execute_reply": "2025-08-05T14:42:10.166537Z"
    },
    "papermill": {
     "duration": 0.027725,
     "end_time": "2025-08-05T14:42:10.169257",
     "exception": false,
     "start_time": "2025-08-05T14:42:10.141532",
     "status": "completed"
    },
    "tags": []
   },
   "outputs": [],
   "source": [
    "from utils import flatten_once\n",
    "\n",
    "excluded_features_columns = flatten_once(excluded_features_columns)"
   ]
  },
  {
   "cell_type": "code",
   "execution_count": 22,
   "id": "884dea22",
   "metadata": {
    "execution": {
     "iopub.execute_input": "2025-08-05T14:42:10.209070Z",
     "iopub.status.busy": "2025-08-05T14:42:10.208298Z",
     "iopub.status.idle": "2025-08-05T14:42:10.233161Z",
     "shell.execute_reply": "2025-08-05T14:42:10.232044Z"
    },
    "papermill": {
     "duration": 0.046623,
     "end_time": "2025-08-05T14:42:10.235170",
     "exception": false,
     "start_time": "2025-08-05T14:42:10.188547",
     "status": "completed"
    },
    "tags": []
   },
   "outputs": [
    {
     "name": "stdout",
     "output_type": "stream",
     "text": [
      "Dropping features: ['maxdeutsch1', 'maxdeutsch.Missing.', 'frau1']\n"
     ]
    }
   ],
   "source": [
    "if len(excluded_features_columns) > 0:\n",
    "    print(f\"Dropping features: {excluded_features_columns}\")\n",
    "    X_train.drop(excluded_features_columns, axis=1, inplace=True)"
   ]
  },
  {
   "cell_type": "code",
   "execution_count": 23,
   "id": "95ab8b16",
   "metadata": {
    "execution": {
     "iopub.execute_input": "2025-08-05T14:42:10.276033Z",
     "iopub.status.busy": "2025-08-05T14:42:10.275211Z",
     "iopub.status.idle": "2025-08-05T14:42:10.330671Z",
     "shell.execute_reply": "2025-08-05T14:42:10.329560Z"
    },
    "papermill": {
     "duration": 0.077406,
     "end_time": "2025-08-05T14:42:10.332790",
     "exception": false,
     "start_time": "2025-08-05T14:42:10.255384",
     "status": "completed"
    },
    "tags": []
   },
   "outputs": [
    {
     "name": "stdout",
     "output_type": "stream",
     "text": [
      "Dropping features: ['maxdeutsch1', 'maxdeutsch.Missing.', 'frau1']\n"
     ]
    }
   ],
   "source": [
    "if len(excluded_features_columns) > 0:\n",
    "    print(f\"Dropping features: {excluded_features_columns}\")\n",
    "    X_test.drop(excluded_features_columns, axis=1, inplace=True)"
   ]
  },
  {
   "cell_type": "code",
   "execution_count": 24,
   "id": "1853aaf5-fb9f-46cb-a2b5-8ea4ae2237e4",
   "metadata": {
    "execution": {
     "iopub.execute_input": "2025-08-05T14:42:10.371720Z",
     "iopub.status.busy": "2025-08-05T14:42:10.370908Z",
     "iopub.status.idle": "2025-08-05T14:42:10.425256Z",
     "shell.execute_reply": "2025-08-05T14:42:10.424178Z"
    },
    "papermill": {
     "duration": 0.074443,
     "end_time": "2025-08-05T14:42:10.427239",
     "exception": false,
     "start_time": "2025-08-05T14:42:10.352796",
     "status": "completed"
    },
    "tags": []
   },
   "outputs": [
    {
     "name": "stdout",
     "output_type": "stream",
     "text": [
      "Dropping features: ['maxdeutsch1', 'maxdeutsch.Missing.', 'frau1']\n"
     ]
    }
   ],
   "source": [
    "if len(excluded_features_columns) > 0:\n",
    "    print(f\"Dropping features: {excluded_features_columns}\")\n",
    "    X_calib.drop(excluded_features_columns, axis=1, inplace=True)"
   ]
  },
  {
   "cell_type": "code",
   "execution_count": 25,
   "id": "76c4dc6d",
   "metadata": {
    "execution": {
     "iopub.execute_input": "2025-08-05T14:42:10.464227Z",
     "iopub.status.busy": "2025-08-05T14:42:10.463536Z",
     "iopub.status.idle": "2025-08-05T14:42:10.469164Z",
     "shell.execute_reply": "2025-08-05T14:42:10.468238Z"
    },
    "papermill": {
     "duration": 0.028373,
     "end_time": "2025-08-05T14:42:10.475962",
     "exception": false,
     "start_time": "2025-08-05T14:42:10.447589",
     "status": "completed"
    },
    "tags": []
   },
   "outputs": [],
   "source": [
    "# EXCLUDE CERTAIN SUBGROUPS\n",
    "# ----------------------\n",
    "\n",
    "mode = universe.get(\"exclude_subgroups\", \"keep-all\") \n",
    "# Fetches the exclude_subgroups setting from the universe dict.\n",
    "# Defaults to \"keep-all\" if the key is missing."
   ]
  },
  {
   "cell_type": "code",
   "execution_count": 26,
   "id": "21994072",
   "metadata": {
    "execution": {
     "iopub.execute_input": "2025-08-05T14:42:10.498851Z",
     "iopub.status.busy": "2025-08-05T14:42:10.498575Z",
     "iopub.status.idle": "2025-08-05T14:42:10.503496Z",
     "shell.execute_reply": "2025-08-05T14:42:10.502741Z"
    },
    "papermill": {
     "duration": 0.016594,
     "end_time": "2025-08-05T14:42:10.504874",
     "exception": false,
     "start_time": "2025-08-05T14:42:10.488280",
     "status": "completed"
    },
    "tags": []
   },
   "outputs": [],
   "source": [
    "if mode == \"keep-all\":\n",
    "    keep_mask = pd.Series(True, index=org_train.index)\n",
    "\n",
    "# org_train contains the original feature columns from features_org (in Simson)\n",
    "# features_org contains unprocessed features, for me X_train at beginning ???\n",
    "# For keep-all, creates a boolean Series (keep_mask) of all True, so no rows are removed.\n",
    "\n",
    "elif mode == \"drop-non-german\":\n",
    "    keep_mask = org_train[\"maxdeutsch1\"] == 1 # ??? what about missing values?\n",
    "\n",
    "else:\n",
    "    raise ValueError(f\"Unsupported mode for exclude_subgroups: {mode}\")"
   ]
  },
  {
   "cell_type": "code",
   "execution_count": 27,
   "id": "71651440",
   "metadata": {
    "execution": {
     "iopub.execute_input": "2025-08-05T14:42:10.530737Z",
     "iopub.status.busy": "2025-08-05T14:42:10.530150Z",
     "iopub.status.idle": "2025-08-05T14:42:10.536287Z",
     "shell.execute_reply": "2025-08-05T14:42:10.535557Z"
    },
    "papermill": {
     "duration": 0.01814,
     "end_time": "2025-08-05T14:42:10.537678",
     "exception": false,
     "start_time": "2025-08-05T14:42:10.519538",
     "status": "completed"
    },
    "tags": []
   },
   "outputs": [
    {
     "name": "stdout",
     "output_type": "stream",
     "text": [
      "Dropping 3688 rows (14.75%) where mode='drop-non-german'\n"
     ]
    }
   ],
   "source": [
    "n_drop = (~keep_mask).sum() # Calculates how many rows are set to be dropped\n",
    "if n_drop > 0:\n",
    "    pct = n_drop / len(keep_mask) * 100\n",
    "    print(f\"Dropping {n_drop} rows ({pct:.2f}%) where mode='{mode}'\")"
   ]
  },
  {
   "cell_type": "code",
   "execution_count": 28,
   "id": "5fb8eee5",
   "metadata": {
    "execution": {
     "iopub.execute_input": "2025-08-05T14:42:10.558539Z",
     "iopub.status.busy": "2025-08-05T14:42:10.557759Z",
     "iopub.status.idle": "2025-08-05T14:42:10.570520Z",
     "shell.execute_reply": "2025-08-05T14:42:10.569593Z"
    },
    "papermill": {
     "duration": 0.024554,
     "end_time": "2025-08-05T14:42:10.572115",
     "exception": false,
     "start_time": "2025-08-05T14:42:10.547561",
     "status": "completed"
    },
    "tags": []
   },
   "outputs": [],
   "source": [
    "X_train = X_train[keep_mask]"
   ]
  },
  {
   "cell_type": "code",
   "execution_count": 29,
   "id": "b202bb3a",
   "metadata": {
    "execution": {
     "iopub.execute_input": "2025-08-05T14:42:10.594593Z",
     "iopub.status.busy": "2025-08-05T14:42:10.593988Z",
     "iopub.status.idle": "2025-08-05T14:42:10.599124Z",
     "shell.execute_reply": "2025-08-05T14:42:10.598333Z"
    },
    "papermill": {
     "duration": 0.017485,
     "end_time": "2025-08-05T14:42:10.600389",
     "exception": false,
     "start_time": "2025-08-05T14:42:10.582904",
     "status": "completed"
    },
    "tags": []
   },
   "outputs": [],
   "source": [
    "y_train = y_train[keep_mask]"
   ]
  },
  {
   "cell_type": "markdown",
   "id": "493e2ac3",
   "metadata": {
    "papermill": {
     "duration": 0.014665,
     "end_time": "2025-08-05T14:42:10.625035",
     "exception": false,
     "start_time": "2025-08-05T14:42:10.610370",
     "status": "completed"
    },
    "tags": []
   },
   "source": [
    "# Model Training"
   ]
  },
  {
   "cell_type": "code",
   "execution_count": 30,
   "id": "679e1268",
   "metadata": {
    "execution": {
     "iopub.execute_input": "2025-08-05T14:42:10.645840Z",
     "iopub.status.busy": "2025-08-05T14:42:10.645123Z",
     "iopub.status.idle": "2025-08-05T14:42:10.737650Z",
     "shell.execute_reply": "2025-08-05T14:42:10.736651Z"
    },
    "papermill": {
     "duration": 0.105021,
     "end_time": "2025-08-05T14:42:10.739788",
     "exception": false,
     "start_time": "2025-08-05T14:42:10.634767",
     "status": "completed"
    },
    "tags": []
   },
   "outputs": [],
   "source": [
    "from sklearn.linear_model import LogisticRegression\n",
    "from sklearn.ensemble import GradientBoostingClassifier, RandomForestClassifier\n",
    "\n",
    "if (universe[\"model\"] == \"logreg\"):\n",
    "    model = LogisticRegression() #penalty=\"none\", solver=\"newton-cg\", max_iter=1) # include random_state=19 ?\n",
    "elif (universe[\"model\"] == \"penalized_logreg\"):\n",
    "    model = LogisticRegression(penalty=\"l2\", C=0.1) #, solver=\"newton-cg\", max_iter=1)\n",
    "elif (universe[\"model\"] == \"rf\"):\n",
    "    model = RandomForestClassifier() # n_estimators=100, n_jobs=-1\n",
    "elif (universe[\"model\"] == \"gbm\"):\n",
    "    model = GradientBoostingClassifier()\n",
    "elif (universe[\"model\"] == \"elasticnet\"):\n",
    "    model = LogisticRegression(penalty = 'elasticnet', solver = 'saga', l1_ratio = 0.5) # max_iter=5000\n",
    "else:\n",
    "    raise \"Unsupported universe.model\""
   ]
  },
  {
   "cell_type": "code",
   "execution_count": 31,
   "id": "0cc8f744",
   "metadata": {
    "execution": {
     "iopub.execute_input": "2025-08-05T14:42:10.779947Z",
     "iopub.status.busy": "2025-08-05T14:42:10.779066Z",
     "iopub.status.idle": "2025-08-05T14:42:10.785373Z",
     "shell.execute_reply": "2025-08-05T14:42:10.784362Z"
    },
    "papermill": {
     "duration": 0.0285,
     "end_time": "2025-08-05T14:42:10.787276",
     "exception": false,
     "start_time": "2025-08-05T14:42:10.758776",
     "status": "completed"
    },
    "tags": []
   },
   "outputs": [],
   "source": [
    "import numpy as np\n",
    "from sklearn.pipeline import Pipeline\n",
    "from sklearn.preprocessing import StandardScaler\n",
    "\n",
    "model = Pipeline([\n",
    "    #(\"continuous_processor\", continuous_processor),\n",
    "    #(\"categorical_preprocessor\", categorical_preprocessor),\n",
    "    (\"scale\", StandardScaler() if universe[\"scale\"] == \"scale\" else None), \n",
    "    (\"model\", model),\n",
    "])"
   ]
  },
  {
   "cell_type": "code",
   "execution_count": 32,
   "id": "9442c04d",
   "metadata": {
    "execution": {
     "iopub.execute_input": "2025-08-05T14:42:10.821290Z",
     "iopub.status.busy": "2025-08-05T14:42:10.820879Z",
     "iopub.status.idle": "2025-08-05T14:42:11.196894Z",
     "shell.execute_reply": "2025-08-05T14:42:11.196197Z"
    },
    "papermill": {
     "duration": 0.390792,
     "end_time": "2025-08-05T14:42:11.198121",
     "exception": false,
     "start_time": "2025-08-05T14:42:10.807329",
     "status": "completed"
    },
    "tags": []
   },
   "outputs": [
    {
     "name": "stderr",
     "output_type": "stream",
     "text": [
      "/dss/dsshome1/0C/ra93lal2/.local/share/virtualenvs/CMA_Fairness_v2-3j10GkSs/lib/python3.10/site-packages/sklearn/linear_model/_logistic.py:444: ConvergenceWarning: lbfgs failed to converge (status=1):\n",
      "STOP: TOTAL NO. of ITERATIONS REACHED LIMIT.\n",
      "\n",
      "Increase the number of iterations (max_iter) or scale the data as shown in:\n",
      "    https://scikit-learn.org/stable/modules/preprocessing.html\n",
      "Please also refer to the documentation for alternative solver options:\n",
      "    https://scikit-learn.org/stable/modules/linear_model.html#logistic-regression\n",
      "  n_iter_i = _check_optimize_result(\n"
     ]
    },
    {
     "data": {
      "text/html": [
       "<style>#sk-container-id-1 {color: black;background-color: white;}#sk-container-id-1 pre{padding: 0;}#sk-container-id-1 div.sk-toggleable {background-color: white;}#sk-container-id-1 label.sk-toggleable__label {cursor: pointer;display: block;width: 100%;margin-bottom: 0;padding: 0.3em;box-sizing: border-box;text-align: center;}#sk-container-id-1 label.sk-toggleable__label-arrow:before {content: \"▸\";float: left;margin-right: 0.25em;color: #696969;}#sk-container-id-1 label.sk-toggleable__label-arrow:hover:before {color: black;}#sk-container-id-1 div.sk-estimator:hover label.sk-toggleable__label-arrow:before {color: black;}#sk-container-id-1 div.sk-toggleable__content {max-height: 0;max-width: 0;overflow: hidden;text-align: left;background-color: #f0f8ff;}#sk-container-id-1 div.sk-toggleable__content pre {margin: 0.2em;color: black;border-radius: 0.25em;background-color: #f0f8ff;}#sk-container-id-1 input.sk-toggleable__control:checked~div.sk-toggleable__content {max-height: 200px;max-width: 100%;overflow: auto;}#sk-container-id-1 input.sk-toggleable__control:checked~label.sk-toggleable__label-arrow:before {content: \"▾\";}#sk-container-id-1 div.sk-estimator input.sk-toggleable__control:checked~label.sk-toggleable__label {background-color: #d4ebff;}#sk-container-id-1 div.sk-label input.sk-toggleable__control:checked~label.sk-toggleable__label {background-color: #d4ebff;}#sk-container-id-1 input.sk-hidden--visually {border: 0;clip: rect(1px 1px 1px 1px);clip: rect(1px, 1px, 1px, 1px);height: 1px;margin: -1px;overflow: hidden;padding: 0;position: absolute;width: 1px;}#sk-container-id-1 div.sk-estimator {font-family: monospace;background-color: #f0f8ff;border: 1px dotted black;border-radius: 0.25em;box-sizing: border-box;margin-bottom: 0.5em;}#sk-container-id-1 div.sk-estimator:hover {background-color: #d4ebff;}#sk-container-id-1 div.sk-parallel-item::after {content: \"\";width: 100%;border-bottom: 1px solid gray;flex-grow: 1;}#sk-container-id-1 div.sk-label:hover label.sk-toggleable__label {background-color: #d4ebff;}#sk-container-id-1 div.sk-serial::before {content: \"\";position: absolute;border-left: 1px solid gray;box-sizing: border-box;top: 0;bottom: 0;left: 50%;z-index: 0;}#sk-container-id-1 div.sk-serial {display: flex;flex-direction: column;align-items: center;background-color: white;padding-right: 0.2em;padding-left: 0.2em;position: relative;}#sk-container-id-1 div.sk-item {position: relative;z-index: 1;}#sk-container-id-1 div.sk-parallel {display: flex;align-items: stretch;justify-content: center;background-color: white;position: relative;}#sk-container-id-1 div.sk-item::before, #sk-container-id-1 div.sk-parallel-item::before {content: \"\";position: absolute;border-left: 1px solid gray;box-sizing: border-box;top: 0;bottom: 0;left: 50%;z-index: -1;}#sk-container-id-1 div.sk-parallel-item {display: flex;flex-direction: column;z-index: 1;position: relative;background-color: white;}#sk-container-id-1 div.sk-parallel-item:first-child::after {align-self: flex-end;width: 50%;}#sk-container-id-1 div.sk-parallel-item:last-child::after {align-self: flex-start;width: 50%;}#sk-container-id-1 div.sk-parallel-item:only-child::after {width: 0;}#sk-container-id-1 div.sk-dashed-wrapped {border: 1px dashed gray;margin: 0 0.4em 0.5em 0.4em;box-sizing: border-box;padding-bottom: 0.4em;background-color: white;}#sk-container-id-1 div.sk-label label {font-family: monospace;font-weight: bold;display: inline-block;line-height: 1.2em;}#sk-container-id-1 div.sk-label-container {text-align: center;}#sk-container-id-1 div.sk-container {/* jupyter's `normalize.less` sets `[hidden] { display: none; }` but bootstrap.min.css set `[hidden] { display: none !important; }` so we also need the `!important` here to be able to override the default hidden behavior on the sphinx rendered scikit-learn.org. See: https://github.com/scikit-learn/scikit-learn/issues/21755 */display: inline-block !important;position: relative;}#sk-container-id-1 div.sk-text-repr-fallback {display: none;}</style><div id=\"sk-container-id-1\" class=\"sk-top-container\"><div class=\"sk-text-repr-fallback\"><pre>Pipeline(steps=[(&#x27;scale&#x27;, None), (&#x27;model&#x27;, LogisticRegression(C=0.1))])</pre><b>In a Jupyter environment, please rerun this cell to show the HTML representation or trust the notebook. <br />On GitHub, the HTML representation is unable to render, please try loading this page with nbviewer.org.</b></div><div class=\"sk-container\" hidden><div class=\"sk-item sk-dashed-wrapped\"><div class=\"sk-label-container\"><div class=\"sk-label sk-toggleable\"><input class=\"sk-toggleable__control sk-hidden--visually\" id=\"sk-estimator-id-1\" type=\"checkbox\" ><label for=\"sk-estimator-id-1\" class=\"sk-toggleable__label sk-toggleable__label-arrow\">Pipeline</label><div class=\"sk-toggleable__content\"><pre>Pipeline(steps=[(&#x27;scale&#x27;, None), (&#x27;model&#x27;, LogisticRegression(C=0.1))])</pre></div></div></div><div class=\"sk-serial\"><div class=\"sk-item\"><div class=\"sk-estimator sk-toggleable\"><input class=\"sk-toggleable__control sk-hidden--visually\" id=\"sk-estimator-id-2\" type=\"checkbox\" ><label for=\"sk-estimator-id-2\" class=\"sk-toggleable__label sk-toggleable__label-arrow\">None</label><div class=\"sk-toggleable__content\"><pre>None</pre></div></div></div><div class=\"sk-item\"><div class=\"sk-estimator sk-toggleable\"><input class=\"sk-toggleable__control sk-hidden--visually\" id=\"sk-estimator-id-3\" type=\"checkbox\" ><label for=\"sk-estimator-id-3\" class=\"sk-toggleable__label sk-toggleable__label-arrow\">LogisticRegression</label><div class=\"sk-toggleable__content\"><pre>LogisticRegression(C=0.1)</pre></div></div></div></div></div></div></div>"
      ],
      "text/plain": [
       "Pipeline(steps=[('scale', None), ('model', LogisticRegression(C=0.1))])"
      ]
     },
     "execution_count": 32,
     "metadata": {},
     "output_type": "execute_result"
    }
   ],
   "source": [
    "model.fit(X_train, y_train.values.ravel())"
   ]
  },
  {
   "cell_type": "code",
   "execution_count": 33,
   "id": "af59f8c0",
   "metadata": {
    "execution": {
     "iopub.execute_input": "2025-08-05T14:42:11.219478Z",
     "iopub.status.busy": "2025-08-05T14:42:11.219171Z",
     "iopub.status.idle": "2025-08-05T14:42:11.223310Z",
     "shell.execute_reply": "2025-08-05T14:42:11.222593Z"
    },
    "papermill": {
     "duration": 0.016064,
     "end_time": "2025-08-05T14:42:11.224665",
     "exception": false,
     "start_time": "2025-08-05T14:42:11.208601",
     "status": "completed"
    },
    "tags": []
   },
   "outputs": [],
   "source": [
    "from fairness_multiverse.universe import predict_w_threshold"
   ]
  },
  {
   "cell_type": "code",
   "execution_count": 34,
   "id": "a7cf2e16",
   "metadata": {
    "execution": {
     "iopub.execute_input": "2025-08-05T14:42:11.246363Z",
     "iopub.status.busy": "2025-08-05T14:42:11.245886Z",
     "iopub.status.idle": "2025-08-05T14:42:11.326122Z",
     "shell.execute_reply": "2025-08-05T14:42:11.325226Z"
    },
    "papermill": {
     "duration": 0.092098,
     "end_time": "2025-08-05T14:42:11.327436",
     "exception": false,
     "start_time": "2025-08-05T14:42:11.235338",
     "status": "completed"
    },
    "tags": []
   },
   "outputs": [
    {
     "data": {
      "text/plain": [
       "0.8644186824211347"
      ]
     },
     "execution_count": 34,
     "metadata": {},
     "output_type": "execute_result"
    }
   ],
   "source": [
    "probs_test = model.predict_proba(X_test)\n",
    "\n",
    "'''\n",
    "Below code returns a boolean array (or binary 0/1 array depending on how it’s used) where each element \n",
    "is True if the probability of class 1 is greater than or equal to the threshold, and False otherwise.\n",
    "'''\n",
    "y_pred_default = predict_w_threshold(probs_test, 0.5)\n",
    "\n",
    "from sklearn.metrics import accuracy_score\n",
    "\n",
    "# Naive prediction\n",
    "accuracy_score(y_true = y_true, y_pred = y_pred_default)"
   ]
  },
  {
   "cell_type": "code",
   "execution_count": 35,
   "id": "081964c3",
   "metadata": {
    "execution": {
     "iopub.execute_input": "2025-08-05T14:42:11.349731Z",
     "iopub.status.busy": "2025-08-05T14:42:11.348828Z",
     "iopub.status.idle": "2025-08-05T14:42:11.424463Z",
     "shell.execute_reply": "2025-08-05T14:42:11.423604Z"
    },
    "papermill": {
     "duration": 0.087586,
     "end_time": "2025-08-05T14:42:11.425812",
     "exception": false,
     "start_time": "2025-08-05T14:42:11.338226",
     "status": "completed"
    },
    "tags": []
   },
   "outputs": [
    {
     "data": {
      "text/plain": [
       "array([0, 0, 0, ..., 0, 0, 0])"
      ]
     },
     "execution_count": 35,
     "metadata": {},
     "output_type": "execute_result"
    }
   ],
   "source": [
    "model.predict(X_test)"
   ]
  },
  {
   "cell_type": "markdown",
   "id": "56c9705b",
   "metadata": {
    "papermill": {
     "duration": 0.009877,
     "end_time": "2025-08-05T14:42:11.447512",
     "exception": false,
     "start_time": "2025-08-05T14:42:11.437635",
     "status": "completed"
    },
    "tags": []
   },
   "source": [
    "# Conformal Prediction"
   ]
  },
  {
   "cell_type": "code",
   "execution_count": 36,
   "id": "160ec6ff",
   "metadata": {
    "execution": {
     "iopub.execute_input": "2025-08-05T14:42:11.468911Z",
     "iopub.status.busy": "2025-08-05T14:42:11.468220Z",
     "iopub.status.idle": "2025-08-05T14:42:11.472581Z",
     "shell.execute_reply": "2025-08-05T14:42:11.471864Z"
    },
    "papermill": {
     "duration": 0.016595,
     "end_time": "2025-08-05T14:42:11.474013",
     "exception": false,
     "start_time": "2025-08-05T14:42:11.457418",
     "status": "completed"
    },
    "tags": []
   },
   "outputs": [],
   "source": [
    "# Miscoverage level for conformal prediction (10% allowed error rate => 90% target coverage)\n",
    "alpha = 0.1"
   ]
  },
  {
   "cell_type": "code",
   "execution_count": 37,
   "id": "eadf4555-3dd3-440e-8e35-f82a4ad9f855",
   "metadata": {
    "execution": {
     "iopub.execute_input": "2025-08-05T14:42:11.496057Z",
     "iopub.status.busy": "2025-08-05T14:42:11.495576Z",
     "iopub.status.idle": "2025-08-05T14:42:11.566532Z",
     "shell.execute_reply": "2025-08-05T14:42:11.565801Z"
    },
    "papermill": {
     "duration": 0.083117,
     "end_time": "2025-08-05T14:42:11.568017",
     "exception": false,
     "start_time": "2025-08-05T14:42:11.484900",
     "status": "completed"
    },
    "tags": []
   },
   "outputs": [],
   "source": [
    "probs_calib = model.predict_proba(X_calib)"
   ]
  },
  {
   "cell_type": "code",
   "execution_count": 38,
   "id": "2ed93547-6d5d-4983-9b36-1ecb300da49a",
   "metadata": {
    "execution": {
     "iopub.execute_input": "2025-08-05T14:42:11.590370Z",
     "iopub.status.busy": "2025-08-05T14:42:11.589615Z",
     "iopub.status.idle": "2025-08-05T14:42:11.594277Z",
     "shell.execute_reply": "2025-08-05T14:42:11.593338Z"
    },
    "papermill": {
     "duration": 0.016817,
     "end_time": "2025-08-05T14:42:11.595719",
     "exception": false,
     "start_time": "2025-08-05T14:42:11.578902",
     "status": "completed"
    },
    "tags": []
   },
   "outputs": [],
   "source": [
    "y_calib = y_calib.values.ravel().astype(int)"
   ]
  },
  {
   "cell_type": "code",
   "execution_count": 39,
   "id": "65d1320d-f588-4b38-9072-62af1ae97f7d",
   "metadata": {
    "execution": {
     "iopub.execute_input": "2025-08-05T14:42:11.617592Z",
     "iopub.status.busy": "2025-08-05T14:42:11.617098Z",
     "iopub.status.idle": "2025-08-05T14:42:11.622644Z",
     "shell.execute_reply": "2025-08-05T14:42:11.621892Z"
    },
    "papermill": {
     "duration": 0.017541,
     "end_time": "2025-08-05T14:42:11.624042",
     "exception": false,
     "start_time": "2025-08-05T14:42:11.606501",
     "status": "completed"
    },
    "tags": []
   },
   "outputs": [],
   "source": [
    "from fairness_multiverse.conformal import compute_nc_scores\n",
    "\n",
    "# Compute nonconformity scores on calibration set (1 - probability of true class)\n",
    "nc_scores = compute_nc_scores(probs_calib, y_calib)"
   ]
  },
  {
   "cell_type": "code",
   "execution_count": 40,
   "id": "df3b8ca3-53b7-43d5-9667-7c85da7aeda2",
   "metadata": {
    "execution": {
     "iopub.execute_input": "2025-08-05T14:42:11.646135Z",
     "iopub.status.busy": "2025-08-05T14:42:11.645560Z",
     "iopub.status.idle": "2025-08-05T14:42:11.650726Z",
     "shell.execute_reply": "2025-08-05T14:42:11.649925Z"
    },
    "papermill": {
     "duration": 0.017419,
     "end_time": "2025-08-05T14:42:11.652125",
     "exception": false,
     "start_time": "2025-08-05T14:42:11.634706",
     "status": "completed"
    },
    "tags": []
   },
   "outputs": [],
   "source": [
    "from fairness_multiverse.conformal import find_threshold\n",
    "\n",
    "# Find conformal threshold q_hat for the given alpha (split conformal method)\n",
    "q_hat = find_threshold(nc_scores, alpha)"
   ]
  },
  {
   "cell_type": "code",
   "execution_count": 41,
   "id": "4d29e6c1-0ef6-4aa4-b8fe-4fe79b0d033a",
   "metadata": {
    "execution": {
     "iopub.execute_input": "2025-08-05T14:42:11.674413Z",
     "iopub.status.busy": "2025-08-05T14:42:11.673935Z",
     "iopub.status.idle": "2025-08-05T14:42:11.679838Z",
     "shell.execute_reply": "2025-08-05T14:42:11.679037Z"
    },
    "papermill": {
     "duration": 0.018104,
     "end_time": "2025-08-05T14:42:11.681174",
     "exception": false,
     "start_time": "2025-08-05T14:42:11.663070",
     "status": "completed"
    },
    "tags": []
   },
   "outputs": [
    {
     "data": {
      "text/plain": [
       "0.6659534639887259"
      ]
     },
     "execution_count": 41,
     "metadata": {},
     "output_type": "execute_result"
    }
   ],
   "source": [
    "q_hat"
   ]
  },
  {
   "cell_type": "code",
   "execution_count": 42,
   "id": "92460794-cdac-4be2-ba28-f28c0515a6fb",
   "metadata": {
    "execution": {
     "iopub.execute_input": "2025-08-05T14:42:11.703671Z",
     "iopub.status.busy": "2025-08-05T14:42:11.703100Z",
     "iopub.status.idle": "2025-08-05T14:42:12.193920Z",
     "shell.execute_reply": "2025-08-05T14:42:12.193149Z"
    },
    "papermill": {
     "duration": 0.503465,
     "end_time": "2025-08-05T14:42:12.195375",
     "exception": false,
     "start_time": "2025-08-05T14:42:11.691910",
     "status": "completed"
    },
    "tags": []
   },
   "outputs": [],
   "source": [
    "from fairness_multiverse.conformal import predict_conformal_sets\n",
    "\n",
    "# Generate prediction sets for each test example\n",
    "pred_sets = predict_conformal_sets(model, X_test, q_hat)"
   ]
  },
  {
   "cell_type": "code",
   "execution_count": 43,
   "id": "d90c9a65-e6db-4f5d-80cd-e68fb7e46829",
   "metadata": {
    "execution": {
     "iopub.execute_input": "2025-08-05T14:42:12.218630Z",
     "iopub.status.busy": "2025-08-05T14:42:12.218276Z",
     "iopub.status.idle": "2025-08-05T14:42:12.222939Z",
     "shell.execute_reply": "2025-08-05T14:42:12.222084Z"
    },
    "papermill": {
     "duration": 0.017769,
     "end_time": "2025-08-05T14:42:12.224304",
     "exception": false,
     "start_time": "2025-08-05T14:42:12.206535",
     "status": "completed"
    },
    "tags": []
   },
   "outputs": [],
   "source": [
    "y_true = y_true.squeeze()"
   ]
  },
  {
   "cell_type": "code",
   "execution_count": 44,
   "id": "3a58a54a-1e68-46b9-927a-df01f18aebc8",
   "metadata": {
    "execution": {
     "iopub.execute_input": "2025-08-05T14:42:12.248268Z",
     "iopub.status.busy": "2025-08-05T14:42:12.247776Z",
     "iopub.status.idle": "2025-08-05T14:42:12.724941Z",
     "shell.execute_reply": "2025-08-05T14:42:12.724169Z"
    },
    "papermill": {
     "duration": 0.490336,
     "end_time": "2025-08-05T14:42:12.726433",
     "exception": false,
     "start_time": "2025-08-05T14:42:12.236097",
     "status": "completed"
    },
    "tags": []
   },
   "outputs": [],
   "source": [
    "from fairness_multiverse.conformal import evaluate_sets\n",
    "\n",
    "# Evaluate coverage and average set size on test data\n",
    "metrics = evaluate_sets(pred_sets, y_true)"
   ]
  },
  {
   "cell_type": "markdown",
   "id": "2b569c12-9aaa-4c88-98c9-bbcd0cf3ebb8",
   "metadata": {
    "papermill": {
     "duration": 0.010529,
     "end_time": "2025-08-05T14:42:12.748171",
     "exception": false,
     "start_time": "2025-08-05T14:42:12.737642",
     "status": "completed"
    },
    "tags": []
   },
   "source": [
    "# CP Metrics"
   ]
  },
  {
   "cell_type": "code",
   "execution_count": 45,
   "id": "5ce0a5cb-201f-45a0-ade5-94c7f0bd6095",
   "metadata": {
    "execution": {
     "iopub.execute_input": "2025-08-05T14:42:12.771130Z",
     "iopub.status.busy": "2025-08-05T14:42:12.770622Z",
     "iopub.status.idle": "2025-08-05T14:42:12.777130Z",
     "shell.execute_reply": "2025-08-05T14:42:12.776352Z"
    },
    "papermill": {
     "duration": 0.01983,
     "end_time": "2025-08-05T14:42:12.778577",
     "exception": false,
     "start_time": "2025-08-05T14:42:12.758747",
     "status": "completed"
    },
    "tags": []
   },
   "outputs": [
    {
     "data": {
      "text/plain": [
       "{'coverage': 0.9126964663917067, 'avg_size': 1.2269089287704826}"
      ]
     },
     "execution_count": 45,
     "metadata": {},
     "output_type": "execute_result"
    }
   ],
   "source": [
    "metrics"
   ]
  },
  {
   "cell_type": "code",
   "execution_count": 46,
   "id": "9b9a838d-31c9-430b-ae14-12baee460d17",
   "metadata": {
    "execution": {
     "iopub.execute_input": "2025-08-05T14:42:12.802241Z",
     "iopub.status.busy": "2025-08-05T14:42:12.801686Z",
     "iopub.status.idle": "2025-08-05T14:42:12.806943Z",
     "shell.execute_reply": "2025-08-05T14:42:12.806197Z"
    },
    "papermill": {
     "duration": 0.018426,
     "end_time": "2025-08-05T14:42:12.808453",
     "exception": false,
     "start_time": "2025-08-05T14:42:12.790027",
     "status": "completed"
    },
    "tags": []
   },
   "outputs": [],
   "source": [
    "example_universe = universe.copy()\n",
    "universe_training_year = example_universe.get(\"training_year\")\n",
    "universe_training_size = example_universe.get(\"training_size\")\n",
    "universe_scale = example_universe.get(\"scale\")\n",
    "universe_model = example_universe.get(\"model\")\n",
    "universe_exclude_features = example_universe.get(\"exclude_features\")\n",
    "universe_exclude_subgroups = example_universe.get(\"exclude_subgroups\")"
   ]
  },
  {
   "cell_type": "code",
   "execution_count": 47,
   "id": "f4b6a8ac-9dc0-4245-8a91-5b3b5999c4f9",
   "metadata": {
    "execution": {
     "iopub.execute_input": "2025-08-05T14:42:12.832811Z",
     "iopub.status.busy": "2025-08-05T14:42:12.832111Z",
     "iopub.status.idle": "2025-08-05T14:42:12.837471Z",
     "shell.execute_reply": "2025-08-05T14:42:12.836754Z"
    },
    "papermill": {
     "duration": 0.018752,
     "end_time": "2025-08-05T14:42:12.839046",
     "exception": false,
     "start_time": "2025-08-05T14:42:12.820294",
     "status": "completed"
    },
    "tags": []
   },
   "outputs": [],
   "source": [
    "cp_metrics_dict = {\n",
    "    \"universe_id\": [universe_id],\n",
    "    \"universe_training_year\": [universe_training_year],\n",
    "    \"universe_training_size\": [universe_training_size],\n",
    "    \"universe_scale\": [universe_scale],\n",
    "    \"universe_model\": [universe_model],\n",
    "    \"universe_exclude_features\": [universe_exclude_features],\n",
    "    \"universe_exclude_subgroups\": [universe_exclude_subgroups],\n",
    "    \"q_hat\": [q_hat],\n",
    "    \"coverage\": [metrics[\"coverage\"]],\n",
    "    \"avg_size\": [metrics[\"avg_size\"]],\n",
    "}"
   ]
  },
  {
   "cell_type": "code",
   "execution_count": 48,
   "id": "908acbb1-0371-4915-85ca-3fa520d2efe2",
   "metadata": {
    "execution": {
     "iopub.execute_input": "2025-08-05T14:42:12.863875Z",
     "iopub.status.busy": "2025-08-05T14:42:12.863158Z",
     "iopub.status.idle": "2025-08-05T14:42:12.870174Z",
     "shell.execute_reply": "2025-08-05T14:42:12.868915Z"
    },
    "papermill": {
     "duration": 0.02112,
     "end_time": "2025-08-05T14:42:12.872374",
     "exception": false,
     "start_time": "2025-08-05T14:42:12.851254",
     "status": "completed"
    },
    "tags": []
   },
   "outputs": [
    {
     "data": {
      "text/plain": [
       "{'universe_id': ['c68e8e22107681f4dfa299d35c3baf4f'],\n",
       " 'universe_training_year': ['2014'],\n",
       " 'universe_training_size': ['25k'],\n",
       " 'universe_scale': ['do-not-scale'],\n",
       " 'universe_model': ['penalized_logreg'],\n",
       " 'universe_exclude_features': ['nationality-sex'],\n",
       " 'universe_exclude_subgroups': ['drop-non-german'],\n",
       " 'q_hat': [0.6659534639887259],\n",
       " 'coverage': [0.9126964663917067],\n",
       " 'avg_size': [1.2269089287704826]}"
      ]
     },
     "execution_count": 48,
     "metadata": {},
     "output_type": "execute_result"
    }
   ],
   "source": [
    "cp_metrics_dict"
   ]
  },
  {
   "cell_type": "code",
   "execution_count": 49,
   "id": "33007efc-14e9-4ec6-97ac-56a455c82265",
   "metadata": {
    "execution": {
     "iopub.execute_input": "2025-08-05T14:42:12.916161Z",
     "iopub.status.busy": "2025-08-05T14:42:12.915806Z",
     "iopub.status.idle": "2025-08-05T14:42:12.920993Z",
     "shell.execute_reply": "2025-08-05T14:42:12.920268Z"
    },
    "papermill": {
     "duration": 0.030566,
     "end_time": "2025-08-05T14:42:12.922398",
     "exception": false,
     "start_time": "2025-08-05T14:42:12.891832",
     "status": "completed"
    },
    "tags": []
   },
   "outputs": [],
   "source": [
    "cp_metrics_df = pd.DataFrame(cp_metrics_dict)"
   ]
  },
  {
   "cell_type": "code",
   "execution_count": 50,
   "id": "db12611b-57b2-4910-b9d0-355adfd6e7bf",
   "metadata": {
    "execution": {
     "iopub.execute_input": "2025-08-05T14:42:12.947366Z",
     "iopub.status.busy": "2025-08-05T14:42:12.947013Z",
     "iopub.status.idle": "2025-08-05T14:42:12.961025Z",
     "shell.execute_reply": "2025-08-05T14:42:12.960283Z"
    },
    "papermill": {
     "duration": 0.027753,
     "end_time": "2025-08-05T14:42:12.962404",
     "exception": false,
     "start_time": "2025-08-05T14:42:12.934651",
     "status": "completed"
    },
    "tags": []
   },
   "outputs": [
    {
     "data": {
      "text/html": [
       "<div>\n",
       "<style scoped>\n",
       "    .dataframe tbody tr th:only-of-type {\n",
       "        vertical-align: middle;\n",
       "    }\n",
       "\n",
       "    .dataframe tbody tr th {\n",
       "        vertical-align: top;\n",
       "    }\n",
       "\n",
       "    .dataframe thead th {\n",
       "        text-align: right;\n",
       "    }\n",
       "</style>\n",
       "<table border=\"1\" class=\"dataframe\">\n",
       "  <thead>\n",
       "    <tr style=\"text-align: right;\">\n",
       "      <th></th>\n",
       "      <th>universe_id</th>\n",
       "      <th>universe_training_year</th>\n",
       "      <th>universe_training_size</th>\n",
       "      <th>universe_scale</th>\n",
       "      <th>universe_model</th>\n",
       "      <th>universe_exclude_features</th>\n",
       "      <th>universe_exclude_subgroups</th>\n",
       "      <th>q_hat</th>\n",
       "      <th>coverage</th>\n",
       "      <th>avg_size</th>\n",
       "    </tr>\n",
       "  </thead>\n",
       "  <tbody>\n",
       "    <tr>\n",
       "      <th>0</th>\n",
       "      <td>c68e8e22107681f4dfa299d35c3baf4f</td>\n",
       "      <td>2014</td>\n",
       "      <td>25k</td>\n",
       "      <td>do-not-scale</td>\n",
       "      <td>penalized_logreg</td>\n",
       "      <td>nationality-sex</td>\n",
       "      <td>drop-non-german</td>\n",
       "      <td>0.665953</td>\n",
       "      <td>0.912696</td>\n",
       "      <td>1.226909</td>\n",
       "    </tr>\n",
       "  </tbody>\n",
       "</table>\n",
       "</div>"
      ],
      "text/plain": [
       "                        universe_id universe_training_year  \\\n",
       "0  c68e8e22107681f4dfa299d35c3baf4f                   2014   \n",
       "\n",
       "  universe_training_size universe_scale    universe_model  \\\n",
       "0                    25k   do-not-scale  penalized_logreg   \n",
       "\n",
       "  universe_exclude_features universe_exclude_subgroups     q_hat  coverage  \\\n",
       "0           nationality-sex            drop-non-german  0.665953  0.912696   \n",
       "\n",
       "   avg_size  \n",
       "0  1.226909  "
      ]
     },
     "execution_count": 50,
     "metadata": {},
     "output_type": "execute_result"
    }
   ],
   "source": [
    "cp_metrics_df"
   ]
  },
  {
   "cell_type": "code",
   "execution_count": 51,
   "id": "b7fbde55-a0a1-47e4-9af6-fe4a17fa8c61",
   "metadata": {
    "execution": {
     "iopub.execute_input": "2025-08-05T14:42:12.986855Z",
     "iopub.status.busy": "2025-08-05T14:42:12.986355Z",
     "iopub.status.idle": "2025-08-05T14:42:12.991151Z",
     "shell.execute_reply": "2025-08-05T14:42:12.990410Z"
    },
    "papermill": {
     "duration": 0.018269,
     "end_time": "2025-08-05T14:42:12.992573",
     "exception": false,
     "start_time": "2025-08-05T14:42:12.974304",
     "status": "completed"
    },
    "tags": []
   },
   "outputs": [],
   "source": [
    "# Conditional Coverage & looking at subgroups"
   ]
  },
  {
   "cell_type": "code",
   "execution_count": 52,
   "id": "027ae886-68dd-4141-96c7-805a5450e1ef",
   "metadata": {
    "execution": {
     "iopub.execute_input": "2025-08-05T14:42:13.019556Z",
     "iopub.status.busy": "2025-08-05T14:42:13.019056Z",
     "iopub.status.idle": "2025-08-05T14:42:13.244406Z",
     "shell.execute_reply": "2025-08-05T14:42:13.243650Z"
    },
    "papermill": {
     "duration": 0.240764,
     "end_time": "2025-08-05T14:42:13.245936",
     "exception": false,
     "start_time": "2025-08-05T14:42:13.005172",
     "status": "completed"
    },
    "tags": []
   },
   "outputs": [],
   "source": [
    "from fairness_multiverse.conformal import build_cp_groups\n",
    "\n",
    "cp_groups_df = build_cp_groups(pred_sets, y_true, X_test.index, org_test)\n",
    "#needs universe_id and setting"
   ]
  },
  {
   "cell_type": "code",
   "execution_count": 53,
   "id": "6cbdab96-b2b2-45af-ad54-d0516db2e28d",
   "metadata": {
    "execution": {
     "iopub.execute_input": "2025-08-05T14:42:13.271040Z",
     "iopub.status.busy": "2025-08-05T14:42:13.270537Z",
     "iopub.status.idle": "2025-08-05T14:42:14.797300Z",
     "shell.execute_reply": "2025-08-05T14:42:14.796161Z"
    },
    "papermill": {
     "duration": 1.541797,
     "end_time": "2025-08-05T14:42:14.799715",
     "exception": false,
     "start_time": "2025-08-05T14:42:13.257918",
     "status": "completed"
    },
    "tags": []
   },
   "outputs": [],
   "source": [
    "# Define covered = 1 if true_label is in the predicted set\n",
    "cp_groups_df['covered'] = cp_groups_df.apply(\n",
    "    lambda r: int(r['true_label'] in r['pred_set']),\n",
    "    axis=1\n",
    ")"
   ]
  },
  {
   "cell_type": "code",
   "execution_count": 54,
   "id": "338ff529-1a6b-4b87-a931-8e4788d52aad",
   "metadata": {
    "execution": {
     "iopub.execute_input": "2025-08-05T14:42:14.845671Z",
     "iopub.status.busy": "2025-08-05T14:42:14.844434Z",
     "iopub.status.idle": "2025-08-05T14:42:14.851850Z",
     "shell.execute_reply": "2025-08-05T14:42:14.850451Z"
    },
    "papermill": {
     "duration": 0.033497,
     "end_time": "2025-08-05T14:42:14.854205",
     "exception": false,
     "start_time": "2025-08-05T14:42:14.820708",
     "status": "completed"
    },
    "tags": []
   },
   "outputs": [],
   "source": [
    "#cp_groups_df"
   ]
  },
  {
   "cell_type": "code",
   "execution_count": 55,
   "id": "90032e27-66df-4540-9169-4e89cfbaa758",
   "metadata": {
    "execution": {
     "iopub.execute_input": "2025-08-05T14:42:14.898355Z",
     "iopub.status.busy": "2025-08-05T14:42:14.897665Z",
     "iopub.status.idle": "2025-08-05T14:42:14.909306Z",
     "shell.execute_reply": "2025-08-05T14:42:14.908299Z"
    },
    "papermill": {
     "duration": 0.035579,
     "end_time": "2025-08-05T14:42:14.911069",
     "exception": false,
     "start_time": "2025-08-05T14:42:14.875490",
     "status": "completed"
    },
    "tags": []
   },
   "outputs": [],
   "source": [
    "subgroups = ['frau1','nongerman','nongerman_male','nongerman_female']\n",
    "\n",
    "# Conditional coverage for subgroup==1\n",
    "cond_coverage = {\n",
    "    g: cp_groups_df.loc[cp_groups_df[g]==1, 'covered'].mean()\n",
    "    for g in subgroups\n",
    "}"
   ]
  },
  {
   "cell_type": "code",
   "execution_count": 56,
   "id": "1e348fb1-b9c3-45bc-ba23-f016827a7e0d",
   "metadata": {
    "execution": {
     "iopub.execute_input": "2025-08-05T14:42:14.957619Z",
     "iopub.status.busy": "2025-08-05T14:42:14.957176Z",
     "iopub.status.idle": "2025-08-05T14:42:14.965168Z",
     "shell.execute_reply": "2025-08-05T14:42:14.964097Z"
    },
    "papermill": {
     "duration": 0.03217,
     "end_time": "2025-08-05T14:42:14.966870",
     "exception": false,
     "start_time": "2025-08-05T14:42:14.934700",
     "status": "completed"
    },
    "tags": []
   },
   "outputs": [
    {
     "data": {
      "text/plain": [
       "{'frau1': 0.9107426876937592,\n",
       " 'nongerman': 0.9440857800482794,\n",
       " 'nongerman_male': 0.9541565342700171,\n",
       " 'nongerman_female': 0.9274217585692995}"
      ]
     },
     "execution_count": 56,
     "metadata": {},
     "output_type": "execute_result"
    }
   ],
   "source": [
    "cond_coverage"
   ]
  },
  {
   "cell_type": "code",
   "execution_count": 57,
   "id": "f5093324-c3dd-4d63-bc4c-8d945e5c8bbb",
   "metadata": {
    "execution": {
     "iopub.execute_input": "2025-08-05T14:42:15.017248Z",
     "iopub.status.busy": "2025-08-05T14:42:15.016266Z",
     "iopub.status.idle": "2025-08-05T14:42:15.023400Z",
     "shell.execute_reply": "2025-08-05T14:42:15.022443Z"
    },
    "papermill": {
     "duration": 0.033342,
     "end_time": "2025-08-05T14:42:15.025087",
     "exception": false,
     "start_time": "2025-08-05T14:42:14.991745",
     "status": "completed"
    },
    "tags": []
   },
   "outputs": [],
   "source": [
    "for subgroup, cov in cond_coverage.items():\n",
    "    cp_metrics_df[f\"cov_{subgroup}\"] = cov"
   ]
  },
  {
   "cell_type": "code",
   "execution_count": 58,
   "id": "6e872e10-dbe5-49e8-b554-5030c98ff75d",
   "metadata": {
    "execution": {
     "iopub.execute_input": "2025-08-05T14:42:15.088647Z",
     "iopub.status.busy": "2025-08-05T14:42:15.088166Z",
     "iopub.status.idle": "2025-08-05T14:42:15.106976Z",
     "shell.execute_reply": "2025-08-05T14:42:15.105870Z"
    },
    "papermill": {
     "duration": 0.059411,
     "end_time": "2025-08-05T14:42:15.108650",
     "exception": false,
     "start_time": "2025-08-05T14:42:15.049239",
     "status": "completed"
    },
    "tags": []
   },
   "outputs": [
    {
     "data": {
      "text/html": [
       "<div>\n",
       "<style scoped>\n",
       "    .dataframe tbody tr th:only-of-type {\n",
       "        vertical-align: middle;\n",
       "    }\n",
       "\n",
       "    .dataframe tbody tr th {\n",
       "        vertical-align: top;\n",
       "    }\n",
       "\n",
       "    .dataframe thead th {\n",
       "        text-align: right;\n",
       "    }\n",
       "</style>\n",
       "<table border=\"1\" class=\"dataframe\">\n",
       "  <thead>\n",
       "    <tr style=\"text-align: right;\">\n",
       "      <th></th>\n",
       "      <th>universe_id</th>\n",
       "      <th>universe_training_year</th>\n",
       "      <th>universe_training_size</th>\n",
       "      <th>universe_scale</th>\n",
       "      <th>universe_model</th>\n",
       "      <th>universe_exclude_features</th>\n",
       "      <th>universe_exclude_subgroups</th>\n",
       "      <th>q_hat</th>\n",
       "      <th>coverage</th>\n",
       "      <th>avg_size</th>\n",
       "      <th>cov_frau1</th>\n",
       "      <th>cov_nongerman</th>\n",
       "      <th>cov_nongerman_male</th>\n",
       "      <th>cov_nongerman_female</th>\n",
       "    </tr>\n",
       "  </thead>\n",
       "  <tbody>\n",
       "    <tr>\n",
       "      <th>0</th>\n",
       "      <td>c68e8e22107681f4dfa299d35c3baf4f</td>\n",
       "      <td>2014</td>\n",
       "      <td>25k</td>\n",
       "      <td>do-not-scale</td>\n",
       "      <td>penalized_logreg</td>\n",
       "      <td>nationality-sex</td>\n",
       "      <td>drop-non-german</td>\n",
       "      <td>0.665953</td>\n",
       "      <td>0.912696</td>\n",
       "      <td>1.226909</td>\n",
       "      <td>0.910743</td>\n",
       "      <td>0.944086</td>\n",
       "      <td>0.954157</td>\n",
       "      <td>0.927422</td>\n",
       "    </tr>\n",
       "  </tbody>\n",
       "</table>\n",
       "</div>"
      ],
      "text/plain": [
       "                        universe_id universe_training_year  \\\n",
       "0  c68e8e22107681f4dfa299d35c3baf4f                   2014   \n",
       "\n",
       "  universe_training_size universe_scale    universe_model  \\\n",
       "0                    25k   do-not-scale  penalized_logreg   \n",
       "\n",
       "  universe_exclude_features universe_exclude_subgroups     q_hat  coverage  \\\n",
       "0           nationality-sex            drop-non-german  0.665953  0.912696   \n",
       "\n",
       "   avg_size  cov_frau1  cov_nongerman  cov_nongerman_male  \\\n",
       "0  1.226909   0.910743       0.944086            0.954157   \n",
       "\n",
       "   cov_nongerman_female  \n",
       "0              0.927422  "
      ]
     },
     "execution_count": 58,
     "metadata": {},
     "output_type": "execute_result"
    }
   ],
   "source": [
    "cp_metrics_df"
   ]
  },
  {
   "cell_type": "markdown",
   "id": "33774451",
   "metadata": {
    "papermill": {
     "duration": 0.016706,
     "end_time": "2025-08-05T14:42:15.149866",
     "exception": false,
     "start_time": "2025-08-05T14:42:15.133160",
     "status": "completed"
    },
    "tags": []
   },
   "source": [
    "# (Fairness) Metrics"
   ]
  },
  {
   "cell_type": "code",
   "execution_count": 59,
   "id": "debc5d62",
   "metadata": {
    "execution": {
     "iopub.execute_input": "2025-08-05T14:42:15.184124Z",
     "iopub.status.busy": "2025-08-05T14:42:15.183680Z",
     "iopub.status.idle": "2025-08-05T14:42:15.205903Z",
     "shell.execute_reply": "2025-08-05T14:42:15.205085Z"
    },
    "papermill": {
     "duration": 0.045558,
     "end_time": "2025-08-05T14:42:15.207379",
     "exception": false,
     "start_time": "2025-08-05T14:42:15.161821",
     "status": "completed"
    },
    "tags": []
   },
   "outputs": [],
   "source": [
    "# do I need to include maxdeutsch1.missing?\n",
    "\n",
    "import numpy as np\n",
    "\n",
    "colname_to_bin = \"maxdeutsch1\"\n",
    "majority_value = org_train[colname_to_bin].mode()[0]\n",
    "\n",
    "org_test[\"majmin\"] = np.where(org_test[colname_to_bin] == majority_value, \"majority\", \"minority\")"
   ]
  },
  {
   "cell_type": "code",
   "execution_count": 60,
   "id": "06a50de5",
   "metadata": {
    "execution": {
     "iopub.execute_input": "2025-08-05T14:42:15.235140Z",
     "iopub.status.busy": "2025-08-05T14:42:15.234420Z",
     "iopub.status.idle": "2025-08-05T14:42:17.302615Z",
     "shell.execute_reply": "2025-08-05T14:42:17.300971Z"
    },
    "papermill": {
     "duration": 2.084405,
     "end_time": "2025-08-05T14:42:17.304571",
     "exception": false,
     "start_time": "2025-08-05T14:42:15.220166",
     "status": "completed"
    },
    "tags": []
   },
   "outputs": [],
   "source": [
    "example_universe = universe.copy()\n",
    "example_universe[\"cutoff\"] = example_universe[\"cutoff\"][0]\n",
    "example_universe[\"eval_fairness_grouping\"] = example_universe[\"eval_fairness_grouping\"][0]\n",
    "fairness_dict, metric_frame = universe_analysis.compute_metrics(\n",
    "    example_universe,\n",
    "    y_pred_prob=probs_test,\n",
    "    y_test=y_true,\n",
    "    org_test=org_test,\n",
    ")"
   ]
  },
  {
   "cell_type": "markdown",
   "id": "f95d4e02",
   "metadata": {
    "papermill": {
     "duration": 0.024051,
     "end_time": "2025-08-05T14:42:17.355664",
     "exception": false,
     "start_time": "2025-08-05T14:42:17.331613",
     "status": "completed"
    },
    "tags": []
   },
   "source": [
    "# Overall"
   ]
  },
  {
   "cell_type": "markdown",
   "id": "bdee4871",
   "metadata": {
    "papermill": {
     "duration": 0.013635,
     "end_time": "2025-08-05T14:42:17.392375",
     "exception": false,
     "start_time": "2025-08-05T14:42:17.378740",
     "status": "completed"
    },
    "tags": []
   },
   "source": [
    "Fairness\n",
    "Main fairness target: Equalized Odds. Seems to be a better fit than equal opportunity, since we're not only interested in Y = 1. Seems to be a better fit than demographic parity, since we also care about accuracy, not just equal distribution of preds.\n",
    "\n",
    "Pick column for computation of fairness metrics\n",
    "\n",
    "Performance\n",
    "Overall performance measures, most interesting in relation to the measures split by group below"
   ]
  },
  {
   "cell_type": "code",
   "execution_count": 61,
   "id": "c4e067c6",
   "metadata": {
    "execution": {
     "iopub.execute_input": "2025-08-05T14:42:17.418445Z",
     "iopub.status.busy": "2025-08-05T14:42:17.417954Z",
     "iopub.status.idle": "2025-08-05T14:42:17.426302Z",
     "shell.execute_reply": "2025-08-05T14:42:17.425557Z"
    },
    "papermill": {
     "duration": 0.023352,
     "end_time": "2025-08-05T14:42:17.427554",
     "exception": false,
     "start_time": "2025-08-05T14:42:17.404202",
     "status": "completed"
    },
    "tags": []
   },
   "outputs": [
    {
     "data": {
      "text/plain": [
       "accuracy                   0.217356\n",
       "balanced accuracy          0.532935\n",
       "f1                         0.238880\n",
       "precision                  0.136464\n",
       "false positive rate        0.891550\n",
       "false negative rate        0.042579\n",
       "selection rate             0.900000\n",
       "count                  89710.000000\n",
       "dtype: float64"
      ]
     },
     "execution_count": 61,
     "metadata": {},
     "output_type": "execute_result"
    }
   ],
   "source": [
    "metric_frame.overall"
   ]
  },
  {
   "cell_type": "markdown",
   "id": "e968fe9d",
   "metadata": {
    "papermill": {
     "duration": 0.013404,
     "end_time": "2025-08-05T14:42:17.453609",
     "exception": false,
     "start_time": "2025-08-05T14:42:17.440205",
     "status": "completed"
    },
    "tags": []
   },
   "source": [
    "By Group"
   ]
  },
  {
   "cell_type": "code",
   "execution_count": 62,
   "id": "ec325bce",
   "metadata": {
    "execution": {
     "iopub.execute_input": "2025-08-05T14:42:17.479480Z",
     "iopub.status.busy": "2025-08-05T14:42:17.478550Z",
     "iopub.status.idle": "2025-08-05T14:42:17.492836Z",
     "shell.execute_reply": "2025-08-05T14:42:17.492152Z"
    },
    "papermill": {
     "duration": 0.028576,
     "end_time": "2025-08-05T14:42:17.494034",
     "exception": false,
     "start_time": "2025-08-05T14:42:17.465458",
     "status": "completed"
    },
    "tags": []
   },
   "outputs": [
    {
     "data": {
      "text/html": [
       "<div>\n",
       "<style scoped>\n",
       "    .dataframe tbody tr th:only-of-type {\n",
       "        vertical-align: middle;\n",
       "    }\n",
       "\n",
       "    .dataframe tbody tr th {\n",
       "        vertical-align: top;\n",
       "    }\n",
       "\n",
       "    .dataframe thead th {\n",
       "        text-align: right;\n",
       "    }\n",
       "</style>\n",
       "<table border=\"1\" class=\"dataframe\">\n",
       "  <thead>\n",
       "    <tr style=\"text-align: right;\">\n",
       "      <th></th>\n",
       "      <th>accuracy</th>\n",
       "      <th>balanced accuracy</th>\n",
       "      <th>f1</th>\n",
       "      <th>precision</th>\n",
       "      <th>false positive rate</th>\n",
       "      <th>false negative rate</th>\n",
       "      <th>selection rate</th>\n",
       "      <th>count</th>\n",
       "    </tr>\n",
       "    <tr>\n",
       "      <th>majmin</th>\n",
       "      <th></th>\n",
       "      <th></th>\n",
       "      <th></th>\n",
       "      <th></th>\n",
       "      <th></th>\n",
       "      <th></th>\n",
       "      <th></th>\n",
       "      <th></th>\n",
       "    </tr>\n",
       "  </thead>\n",
       "  <tbody>\n",
       "    <tr>\n",
       "      <th>majority</th>\n",
       "      <td>0.239540</td>\n",
       "      <td>0.540637</td>\n",
       "      <td>0.248181</td>\n",
       "      <td>0.142737</td>\n",
       "      <td>0.868616</td>\n",
       "      <td>0.050109</td>\n",
       "      <td>0.879355</td>\n",
       "      <td>69170.0</td>\n",
       "    </tr>\n",
       "    <tr>\n",
       "      <th>minority</th>\n",
       "      <td>0.142648</td>\n",
       "      <td>0.509587</td>\n",
       "      <td>0.209676</td>\n",
       "      <td>0.117304</td>\n",
       "      <td>0.967312</td>\n",
       "      <td>0.013514</td>\n",
       "      <td>0.969523</td>\n",
       "      <td>20540.0</td>\n",
       "    </tr>\n",
       "  </tbody>\n",
       "</table>\n",
       "</div>"
      ],
      "text/plain": [
       "          accuracy  balanced accuracy        f1  precision  \\\n",
       "majmin                                                       \n",
       "majority  0.239540           0.540637  0.248181   0.142737   \n",
       "minority  0.142648           0.509587  0.209676   0.117304   \n",
       "\n",
       "          false positive rate  false negative rate  selection rate    count  \n",
       "majmin                                                                       \n",
       "majority             0.868616             0.050109        0.879355  69170.0  \n",
       "minority             0.967312             0.013514        0.969523  20540.0  "
      ]
     },
     "execution_count": 62,
     "metadata": {},
     "output_type": "execute_result"
    }
   ],
   "source": [
    "metric_frame.by_group"
   ]
  },
  {
   "cell_type": "code",
   "execution_count": 63,
   "id": "a9ddbe63",
   "metadata": {
    "execution": {
     "iopub.execute_input": "2025-08-05T14:42:17.519890Z",
     "iopub.status.busy": "2025-08-05T14:42:17.519414Z",
     "iopub.status.idle": "2025-08-05T14:42:19.732013Z",
     "shell.execute_reply": "2025-08-05T14:42:19.731070Z"
    },
    "papermill": {
     "duration": 2.226675,
     "end_time": "2025-08-05T14:42:19.733599",
     "exception": false,
     "start_time": "2025-08-05T14:42:17.506924",
     "status": "completed"
    },
    "tags": []
   },
   "outputs": [
    {
     "data": {
      "text/plain": [
       "array([[<Axes: title={'center': 'accuracy'}, xlabel='majmin'>,\n",
       "        <Axes: title={'center': 'balanced accuracy'}, xlabel='majmin'>,\n",
       "        <Axes: title={'center': 'f1'}, xlabel='majmin'>],\n",
       "       [<Axes: title={'center': 'precision'}, xlabel='majmin'>,\n",
       "        <Axes: title={'center': 'false positive rate'}, xlabel='majmin'>,\n",
       "        <Axes: title={'center': 'false negative rate'}, xlabel='majmin'>],\n",
       "       [<Axes: title={'center': 'selection rate'}, xlabel='majmin'>,\n",
       "        <Axes: title={'center': 'count'}, xlabel='majmin'>,\n",
       "        <Axes: xlabel='majmin'>]], dtype=object)"
      ]
     },
     "execution_count": 63,
     "metadata": {},
     "output_type": "execute_result"
    },
    {
     "data": {
      "image/png": "[encoded data removed]",
      "text/plain": [
       "<Figure size 1200x800 with 9 Axes>"
      ]
     },
     "metadata": {},
     "output_type": "display_data"
    }
   ],
   "source": [
    "# In a graphic\n",
    "metric_frame.by_group.plot.bar(\n",
    "    subplots=True,\n",
    "    layout=[3, 3],\n",
    "    legend=False,\n",
    "    figsize=[12, 8],\n",
    "    title=\"Show all metrics\",\n",
    ")"
   ]
  },
  {
   "cell_type": "markdown",
   "id": "f57a0bac",
   "metadata": {
    "papermill": {
     "duration": 0.025381,
     "end_time": "2025-08-05T14:42:19.784867",
     "exception": false,
     "start_time": "2025-08-05T14:42:19.759486",
     "status": "completed"
    },
    "tags": []
   },
   "source": [
    "# Final Output"
   ]
  },
  {
   "cell_type": "code",
   "execution_count": 64,
   "id": "96d280a3",
   "metadata": {
    "execution": {
     "iopub.execute_input": "2025-08-05T14:42:19.839265Z",
     "iopub.status.busy": "2025-08-05T14:42:19.837812Z",
     "iopub.status.idle": "2025-08-05T14:42:19.846269Z",
     "shell.execute_reply": "2025-08-05T14:42:19.845248Z"
    },
    "papermill": {
     "duration": 0.037167,
     "end_time": "2025-08-05T14:42:19.847837",
     "exception": false,
     "start_time": "2025-08-05T14:42:19.810670",
     "status": "completed"
    },
    "tags": []
   },
   "outputs": [
    {
     "data": {
      "text/plain": [
       "4"
      ]
     },
     "execution_count": 64,
     "metadata": {},
     "output_type": "execute_result"
    }
   ],
   "source": [
    "sub_universes = universe_analysis.generate_sub_universes()\n",
    "len(sub_universes)"
   ]
  },
  {
   "cell_type": "code",
   "execution_count": 65,
   "id": "92adf7ba",
   "metadata": {
    "execution": {
     "iopub.execute_input": "2025-08-05T14:42:19.899179Z",
     "iopub.status.busy": "2025-08-05T14:42:19.898806Z",
     "iopub.status.idle": "2025-08-05T14:42:19.903672Z",
     "shell.execute_reply": "2025-08-05T14:42:19.902909Z"
    },
    "papermill": {
     "duration": 0.043126,
     "end_time": "2025-08-05T14:42:19.915576",
     "exception": false,
     "start_time": "2025-08-05T14:42:19.872450",
     "status": "completed"
    },
    "tags": []
   },
   "outputs": [],
   "source": [
    "def filter_sub_universe_data(sub_universe, org_test):\n",
    "    # Keep all rows — no filtering\n",
    "    keep_rows_mask = np.ones(org_test.shape[0], dtype=bool)\n",
    "\n",
    "    print(f\"[INFO] Keeping all rows: {keep_rows_mask.sum()} rows retained.\")\n",
    "    return keep_rows_mask"
   ]
  },
  {
   "cell_type": "code",
   "execution_count": 66,
   "id": "4a759155",
   "metadata": {
    "execution": {
     "iopub.execute_input": "2025-08-05T14:42:19.962590Z",
     "iopub.status.busy": "2025-08-05T14:42:19.961802Z",
     "iopub.status.idle": "2025-08-05T14:42:28.816566Z",
     "shell.execute_reply": "2025-08-05T14:42:28.815414Z"
    },
    "papermill": {
     "duration": 8.876744,
     "end_time": "2025-08-05T14:42:28.817833",
     "exception": false,
     "start_time": "2025-08-05T14:42:19.941089",
     "status": "completed"
    },
    "tags": []
   },
   "outputs": [
    {
     "name": "stdout",
     "output_type": "stream",
     "text": [
      "Stopping execution_time clock.\n",
      "[INFO] Keeping all rows: 89710 rows retained.\n"
     ]
    },
    {
     "name": "stdout",
     "output_type": "stream",
     "text": [
      "[INFO] Keeping all rows: 89710 rows retained.\n"
     ]
    },
    {
     "name": "stdout",
     "output_type": "stream",
     "text": [
      "[INFO] Keeping all rows: 89710 rows retained.\n"
     ]
    },
    {
     "name": "stdout",
     "output_type": "stream",
     "text": [
      "[INFO] Keeping all rows: 89710 rows retained.\n"
     ]
    },
    {
     "data": {
      "text/html": [
       "<div>\n",
       "<style scoped>\n",
       "    .dataframe tbody tr th:only-of-type {\n",
       "        vertical-align: middle;\n",
       "    }\n",
       "\n",
       "    .dataframe tbody tr th {\n",
       "        vertical-align: top;\n",
       "    }\n",
       "\n",
       "    .dataframe thead th {\n",
       "        text-align: right;\n",
       "    }\n",
       "</style>\n",
       "<table border=\"1\" class=\"dataframe\">\n",
       "  <thead>\n",
       "    <tr style=\"text-align: right;\">\n",
       "      <th></th>\n",
       "      <th>run_no</th>\n",
       "      <th>universe_id</th>\n",
       "      <th>universe_settings</th>\n",
       "      <th>execution_time</th>\n",
       "      <th>test_size_n</th>\n",
       "      <th>test_size_frac</th>\n",
       "      <th>fair_main_equalized_odds_difference</th>\n",
       "      <th>fair_main_equalized_odds_ratio</th>\n",
       "      <th>fair_main_demographic_parity_difference</th>\n",
       "      <th>fair_main_demographic_parity_ratio</th>\n",
       "      <th>...</th>\n",
       "      <th>perf_grp_precision_0</th>\n",
       "      <th>perf_grp_precision_1</th>\n",
       "      <th>perf_grp_false positive rate_0</th>\n",
       "      <th>perf_grp_false positive rate_1</th>\n",
       "      <th>perf_grp_false negative rate_0</th>\n",
       "      <th>perf_grp_false negative rate_1</th>\n",
       "      <th>perf_grp_selection rate_0</th>\n",
       "      <th>perf_grp_selection rate_1</th>\n",
       "      <th>perf_grp_count_0</th>\n",
       "      <th>perf_grp_count_1</th>\n",
       "    </tr>\n",
       "  </thead>\n",
       "  <tbody>\n",
       "    <tr>\n",
       "      <th>0</th>\n",
       "      <td>15</td>\n",
       "      <td>c68e8e22107681f4dfa299d35c3baf4f</td>\n",
       "      <td>{\"cutoff\": \"quantile_0.1\", \"eval_fairness_grou...</td>\n",
       "      <td>22.979167</td>\n",
       "      <td>89710</td>\n",
       "      <td>1.0</td>\n",
       "      <td>0.098697</td>\n",
       "      <td>0.897968</td>\n",
       "      <td>0.090168</td>\n",
       "      <td>0.906998</td>\n",
       "      <td>...</td>\n",
       "      <td>NaN</td>\n",
       "      <td>NaN</td>\n",
       "      <td>NaN</td>\n",
       "      <td>NaN</td>\n",
       "      <td>NaN</td>\n",
       "      <td>NaN</td>\n",
       "      <td>NaN</td>\n",
       "      <td>NaN</td>\n",
       "      <td>NaN</td>\n",
       "      <td>NaN</td>\n",
       "    </tr>\n",
       "    <tr>\n",
       "      <th>0</th>\n",
       "      <td>15</td>\n",
       "      <td>c68e8e22107681f4dfa299d35c3baf4f</td>\n",
       "      <td>{\"cutoff\": \"quantile_0.1\", \"eval_fairness_grou...</td>\n",
       "      <td>22.979167</td>\n",
       "      <td>89710</td>\n",
       "      <td>1.0</td>\n",
       "      <td>0.098697</td>\n",
       "      <td>0.897968</td>\n",
       "      <td>0.090168</td>\n",
       "      <td>0.906998</td>\n",
       "      <td>...</td>\n",
       "      <td>0.117304</td>\n",
       "      <td>0.142737</td>\n",
       "      <td>0.967312</td>\n",
       "      <td>0.868616</td>\n",
       "      <td>0.013514</td>\n",
       "      <td>0.050109</td>\n",
       "      <td>0.969523</td>\n",
       "      <td>0.879355</td>\n",
       "      <td>20540.0</td>\n",
       "      <td>69170.0</td>\n",
       "    </tr>\n",
       "    <tr>\n",
       "      <th>0</th>\n",
       "      <td>15</td>\n",
       "      <td>c68e8e22107681f4dfa299d35c3baf4f</td>\n",
       "      <td>{\"cutoff\": \"quantile_0.25\", \"eval_fairness_gro...</td>\n",
       "      <td>22.979167</td>\n",
       "      <td>89710</td>\n",
       "      <td>1.0</td>\n",
       "      <td>0.222192</td>\n",
       "      <td>0.753545</td>\n",
       "      <td>0.204021</td>\n",
       "      <td>0.775135</td>\n",
       "      <td>...</td>\n",
       "      <td>NaN</td>\n",
       "      <td>NaN</td>\n",
       "      <td>NaN</td>\n",
       "      <td>NaN</td>\n",
       "      <td>NaN</td>\n",
       "      <td>NaN</td>\n",
       "      <td>NaN</td>\n",
       "      <td>NaN</td>\n",
       "      <td>NaN</td>\n",
       "      <td>NaN</td>\n",
       "    </tr>\n",
       "    <tr>\n",
       "      <th>0</th>\n",
       "      <td>15</td>\n",
       "      <td>c68e8e22107681f4dfa299d35c3baf4f</td>\n",
       "      <td>{\"cutoff\": \"quantile_0.25\", \"eval_fairness_gro...</td>\n",
       "      <td>22.979167</td>\n",
       "      <td>89710</td>\n",
       "      <td>1.0</td>\n",
       "      <td>0.222192</td>\n",
       "      <td>0.753545</td>\n",
       "      <td>0.204021</td>\n",
       "      <td>0.775135</td>\n",
       "      <td>...</td>\n",
       "      <td>0.120895</td>\n",
       "      <td>0.161658</td>\n",
       "      <td>0.901552</td>\n",
       "      <td>0.679360</td>\n",
       "      <td>0.048564</td>\n",
       "      <td>0.139606</td>\n",
       "      <td>0.907303</td>\n",
       "      <td>0.703282</td>\n",
       "      <td>20540.0</td>\n",
       "      <td>69170.0</td>\n",
       "    </tr>\n",
       "  </tbody>\n",
       "</table>\n",
       "<p>4 rows × 50 columns</p>\n",
       "</div>"
      ],
      "text/plain": [
       "  run_no                       universe_id  \\\n",
       "0     15  c68e8e22107681f4dfa299d35c3baf4f   \n",
       "0     15  c68e8e22107681f4dfa299d35c3baf4f   \n",
       "0     15  c68e8e22107681f4dfa299d35c3baf4f   \n",
       "0     15  c68e8e22107681f4dfa299d35c3baf4f   \n",
       "\n",
       "                                   universe_settings  execution_time  \\\n",
       "0  {\"cutoff\": \"quantile_0.1\", \"eval_fairness_grou...       22.979167   \n",
       "0  {\"cutoff\": \"quantile_0.1\", \"eval_fairness_grou...       22.979167   \n",
       "0  {\"cutoff\": \"quantile_0.25\", \"eval_fairness_gro...       22.979167   \n",
       "0  {\"cutoff\": \"quantile_0.25\", \"eval_fairness_gro...       22.979167   \n",
       "\n",
       "   test_size_n  test_size_frac  fair_main_equalized_odds_difference  \\\n",
       "0        89710             1.0                             0.098697   \n",
       "0        89710             1.0                             0.098697   \n",
       "0        89710             1.0                             0.222192   \n",
       "0        89710             1.0                             0.222192   \n",
       "\n",
       "   fair_main_equalized_odds_ratio  fair_main_demographic_parity_difference  \\\n",
       "0                        0.897968                                 0.090168   \n",
       "0                        0.897968                                 0.090168   \n",
       "0                        0.753545                                 0.204021   \n",
       "0                        0.753545                                 0.204021   \n",
       "\n",
       "   fair_main_demographic_parity_ratio  ...  perf_grp_precision_0  \\\n",
       "0                            0.906998  ...                   NaN   \n",
       "0                            0.906998  ...              0.117304   \n",
       "0                            0.775135  ...                   NaN   \n",
       "0                            0.775135  ...              0.120895   \n",
       "\n",
       "   perf_grp_precision_1  perf_grp_false positive rate_0  \\\n",
       "0                   NaN                             NaN   \n",
       "0              0.142737                        0.967312   \n",
       "0                   NaN                             NaN   \n",
       "0              0.161658                        0.901552   \n",
       "\n",
       "   perf_grp_false positive rate_1  perf_grp_false negative rate_0  \\\n",
       "0                             NaN                             NaN   \n",
       "0                        0.868616                        0.013514   \n",
       "0                             NaN                             NaN   \n",
       "0                        0.679360                        0.048564   \n",
       "\n",
       "   perf_grp_false negative rate_1  perf_grp_selection rate_0  \\\n",
       "0                             NaN                        NaN   \n",
       "0                        0.050109                   0.969523   \n",
       "0                             NaN                        NaN   \n",
       "0                        0.139606                   0.907303   \n",
       "\n",
       "   perf_grp_selection rate_1  perf_grp_count_0  perf_grp_count_1  \n",
       "0                        NaN               NaN               NaN  \n",
       "0                   0.879355           20540.0           69170.0  \n",
       "0                        NaN               NaN               NaN  \n",
       "0                   0.703282           20540.0           69170.0  \n",
       "\n",
       "[4 rows x 50 columns]"
      ]
     },
     "execution_count": 66,
     "metadata": {},
     "output_type": "execute_result"
    }
   ],
   "source": [
    "final_output = universe_analysis.generate_final_output(\n",
    "    y_pred_prob=probs_test,\n",
    "    y_test=y_true,\n",
    "    org_test=org_test,\n",
    "    filter_data=filter_sub_universe_data,\n",
    "    cp_metrics_df=cp_metrics_df,\n",
    "    save=True,\n",
    ")\n",
    "final_output"
   ]
  }
 ],
 "metadata": {
  "celltoolbar": "Tags",
  "kernelspec": {
   "display_name": "Python (CMA Fairness)",
   "language": "python",
   "name": "cma_fair_env"
  },
  "language_info": {
   "codemirror_mode": {
    "name": "ipython",
    "version": 3
   },
   "file_extension": ".py",
   "mimetype": "text/x-python",
   "name": "python",
   "nbconvert_exporter": "python",
   "pygments_lexer": "ipython3",
   "version": "3.10.12"
  },
  "papermill": {
   "default_parameters": {},
   "duration": 35.877875,
   "end_time": "2025-08-05T14:42:29.351292",
   "environment_variables": {},
   "exception": null,
   "input_path": "universe_analysis.ipynb",
   "output_path": "output/runs/15/notebooks/m_15-c68e8e22107681f4dfa299d35c3baf4f.ipynb",
   "parameters": {
    "output_dir": "output",
    "run_no": "15",
    "seed": "2023",
    "universe": "{\"cutoff\": [\"quantile_0.1\", \"quantile_0.25\"], \"eval_fairness_grouping\": [\"majority-minority\", \"nationality-all\"], \"exclude_features\": \"nationality-sex\", \"exclude_subgroups\": \"drop-non-german\", \"model\": \"penalized_logreg\", \"scale\": \"do-not-scale\", \"training_size\": \"25k\", \"training_year\": \"2014\"}",
    "universe_id": "c68e8e22107681f4dfa299d35c3baf4f"
   },
   "start_time": "2025-08-05T14:41:53.473417",
   "version": "2.6.0"
  }
 },
 "nbformat": 4,
 "nbformat_minor": 5
}