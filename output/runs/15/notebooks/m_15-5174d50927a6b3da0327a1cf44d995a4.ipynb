{
 "cells": [
  {
   "cell_type": "code",
   "execution_count": 1,
   "id": "f159f837-637b-42ba-96b5-ec9a68c44524",
   "metadata": {
    "execution": {
     "iopub.execute_input": "2025-08-05T14:49:45.390078Z",
     "iopub.status.busy": "2025-08-05T14:49:45.389431Z",
     "iopub.status.idle": "2025-08-05T14:49:45.405626Z",
     "shell.execute_reply": "2025-08-05T14:49:45.404556Z"
    },
    "papermill": {
     "duration": 0.029986,
     "end_time": "2025-08-05T14:49:45.407646",
     "exception": false,
     "start_time": "2025-08-05T14:49:45.377660",
     "status": "completed"
    },
    "tags": []
   },
   "outputs": [
    {
     "name": "stdout",
     "output_type": "stream",
     "text": [
      "/dss/dsshome1/0C/ra93lal2/cma/CMA_Fairness_v2\n"
     ]
    },
    {
     "name": "stderr",
     "output_type": "stream",
     "text": [
      "/dss/dsshome1/0C/ra93lal2/.local/share/virtualenvs/CMA_Fairness_v2-3j10GkSs/lib/python3.10/site-packages/IPython/core/magics/osm.py:393: UserWarning: This is now an optional IPython functionality, using bookmarks requires you to install the `pickleshare` library.\n",
      "  bkms = self.shell.db.get('bookmarks', {})\n",
      "/dss/dsshome1/0C/ra93lal2/.local/share/virtualenvs/CMA_Fairness_v2-3j10GkSs/lib/python3.10/site-packages/IPython/core/magics/osm.py:417: UserWarning: This is now an optional IPython functionality, setting dhist requires you to install the `pickleshare` library.\n",
      "  self.shell.db['dhist'] = compress_dhist(dhist)[-100:]\n"
     ]
    }
   ],
   "source": [
    "%cd ~/cma/CMA_Fairness_v2"
   ]
  },
  {
   "cell_type": "markdown",
   "id": "de2603b9",
   "metadata": {
    "papermill": {
     "duration": 0.009588,
     "end_time": "2025-08-05T14:49:45.437210",
     "exception": false,
     "start_time": "2025-08-05T14:49:45.427622",
     "status": "completed"
    },
    "tags": []
   },
   "source": [
    "The following cell holds the definition of our parameters, these values can be overriden by rendering the with e.g. the following command:\n",
    "\n",
    "papermill -p alpha 0.2 -p ratio 0.3 universe_analysis.ipynb output/test_run.ipynb"
   ]
  },
  {
   "cell_type": "code",
   "execution_count": 2,
   "id": "a80968a0-40bb-4fa9-85ef-2d5eefb01975",
   "metadata": {
    "execution": {
     "iopub.execute_input": "2025-08-05T14:49:45.456820Z",
     "iopub.status.busy": "2025-08-05T14:49:45.456374Z",
     "iopub.status.idle": "2025-08-05T14:49:45.461131Z",
     "shell.execute_reply": "2025-08-05T14:49:45.460450Z"
    },
    "papermill": {
     "duration": 0.016065,
     "end_time": "2025-08-05T14:49:45.462655",
     "exception": false,
     "start_time": "2025-08-05T14:49:45.446590",
     "status": "completed"
    },
    "tags": []
   },
   "outputs": [
    {
     "name": "stdout",
     "output_type": "stream",
     "text": [
      "Current working directory: /dss/dsshome1/0C/ra93lal2/cma/CMA_Fairness_v2\n"
     ]
    }
   ],
   "source": [
    "import os\n",
    "print(\"Current working directory:\", os.getcwd())"
   ]
  },
  {
   "cell_type": "code",
   "execution_count": 3,
   "id": "2dce4c03",
   "metadata": {
    "execution": {
     "iopub.execute_input": "2025-08-05T14:49:45.481116Z",
     "iopub.status.busy": "2025-08-05T14:49:45.480908Z",
     "iopub.status.idle": "2025-08-05T14:49:45.485636Z",
     "shell.execute_reply": "2025-08-05T14:49:45.484821Z"
    },
    "papermill": {
     "duration": 0.015241,
     "end_time": "2025-08-05T14:49:45.487108",
     "exception": false,
     "start_time": "2025-08-05T14:49:45.471867",
     "status": "completed"
    },
    "tags": [
     "parameters"
    ]
   },
   "outputs": [],
   "source": [
    "run_no = 0\n",
    "universe_id = \"test\"\n",
    "universe = {\n",
    "    \"training_size\": \"25k\", # \"25k\", \"5k\", \"1k\"\n",
    "    \"training_year\": \"2014\", # \"2014\", \"2012_14\", \"2010_14\"\n",
    "    \"scale\": \"scale\", # \"scale\", \"do-not-scale\",\n",
    "    \"model\": \"elasticnet\", # \"logreg\", \"penalized_logreg\", \"rf\", \"gbm\", \"elasticnet\"\n",
    "    \"cutoff\": [\"quantile_0.15\", \"quantile_0.30\"],\n",
    "    \"exclude_features\": \"age\", # \"none\", \"nationality\", \"sex\", \"nationality-sex\", \"age\"\n",
    "    \"exclude_subgroups\": \"keep-all\", # \"keep-all\", \"drop-non-german\"\n",
    "    \"eval_fairness_grouping\": [\"majority-minority\", \"nationality-all\"]\n",
    "}\n",
    "\n",
    "output_dir=\"./output\"\n",
    "seed=0"
   ]
  },
  {
   "cell_type": "code",
   "execution_count": 4,
   "id": "2ece60f9",
   "metadata": {
    "execution": {
     "iopub.execute_input": "2025-08-05T14:49:45.509139Z",
     "iopub.status.busy": "2025-08-05T14:49:45.508666Z",
     "iopub.status.idle": "2025-08-05T14:49:45.512743Z",
     "shell.execute_reply": "2025-08-05T14:49:45.511955Z"
    },
    "papermill": {
     "duration": 0.015501,
     "end_time": "2025-08-05T14:49:45.514087",
     "exception": false,
     "start_time": "2025-08-05T14:49:45.498586",
     "status": "completed"
    },
    "tags": [
     "injected-parameters"
    ]
   },
   "outputs": [],
   "source": [
    "# Parameters\n",
    "universe_id = \"5174d50927a6b3da0327a1cf44d995a4\"\n",
    "run_no = \"15\"\n",
    "universe = \"{\\\"cutoff\\\": [\\\"quantile_0.1\\\", \\\"quantile_0.25\\\"], \\\"eval_fairness_grouping\\\": [\\\"majority-minority\\\", \\\"nationality-all\\\"], \\\"exclude_features\\\": \\\"nationality-sex\\\", \\\"exclude_subgroups\\\": \\\"keep-all\\\", \\\"model\\\": \\\"penalized_logreg\\\", \\\"scale\\\": \\\"scale\\\", \\\"training_size\\\": \\\"25k\\\", \\\"training_year\\\": \\\"2012_14\\\"}\"\n",
    "output_dir = \"output\"\n",
    "seed = \"2023\"\n"
   ]
  },
  {
   "cell_type": "code",
   "execution_count": 5,
   "id": "1650acaf",
   "metadata": {
    "execution": {
     "iopub.execute_input": "2025-08-05T14:49:45.533325Z",
     "iopub.status.busy": "2025-08-05T14:49:45.532863Z",
     "iopub.status.idle": "2025-08-05T14:49:45.539054Z",
     "shell.execute_reply": "2025-08-05T14:49:45.538335Z"
    },
    "papermill": {
     "duration": 0.017499,
     "end_time": "2025-08-05T14:49:45.541110",
     "exception": false,
     "start_time": "2025-08-05T14:49:45.523611",
     "status": "completed"
    },
    "tags": []
   },
   "outputs": [],
   "source": [
    "import json\n",
    "if isinstance(universe, str):\n",
    "    universe = json.loads(universe)"
   ]
  },
  {
   "cell_type": "code",
   "execution_count": 6,
   "id": "16620c48",
   "metadata": {
    "execution": {
     "iopub.execute_input": "2025-08-05T14:49:45.560191Z",
     "iopub.status.busy": "2025-08-05T14:49:45.559649Z",
     "iopub.status.idle": "2025-08-05T14:49:45.588926Z",
     "shell.execute_reply": "2025-08-05T14:49:45.588178Z"
    },
    "papermill": {
     "duration": 0.040477,
     "end_time": "2025-08-05T14:49:45.590501",
     "exception": false,
     "start_time": "2025-08-05T14:49:45.550024",
     "status": "completed"
    },
    "tags": []
   },
   "outputs": [],
   "source": [
    "# Auto-reload the custom package\n",
    "%load_ext autoreload\n",
    "%autoreload 1\n",
    "%aimport fairness_multiverse"
   ]
  },
  {
   "cell_type": "code",
   "execution_count": 7,
   "id": "01c5c9f3",
   "metadata": {
    "execution": {
     "iopub.execute_input": "2025-08-05T14:49:45.611225Z",
     "iopub.status.busy": "2025-08-05T14:49:45.610888Z",
     "iopub.status.idle": "2025-08-05T14:49:47.380747Z",
     "shell.execute_reply": "2025-08-05T14:49:47.379600Z"
    },
    "papermill": {
     "duration": 1.78221,
     "end_time": "2025-08-05T14:49:47.383056",
     "exception": false,
     "start_time": "2025-08-05T14:49:45.600846",
     "status": "completed"
    },
    "tags": []
   },
   "outputs": [],
   "source": [
    "from fairness_multiverse.universe import UniverseAnalysis\n",
    "\n",
    "universe_analysis = UniverseAnalysis(\n",
    "    run_no = run_no,\n",
    "    universe_id = universe_id,\n",
    "    universe = universe,\n",
    "    output_dir=output_dir,\n",
    ")"
   ]
  },
  {
   "cell_type": "code",
   "execution_count": 8,
   "id": "106241f5",
   "metadata": {
    "execution": {
     "iopub.execute_input": "2025-08-05T14:49:47.422782Z",
     "iopub.status.busy": "2025-08-05T14:49:47.422301Z",
     "iopub.status.idle": "2025-08-05T14:49:47.429752Z",
     "shell.execute_reply": "2025-08-05T14:49:47.428519Z"
    },
    "papermill": {
     "duration": 0.029326,
     "end_time": "2025-08-05T14:49:47.431558",
     "exception": false,
     "start_time": "2025-08-05T14:49:47.402232",
     "status": "completed"
    },
    "tags": []
   },
   "outputs": [
    {
     "name": "stdout",
     "output_type": "stream",
     "text": [
      "Using Seed: 2023\n"
     ]
    }
   ],
   "source": [
    "import numpy as np\n",
    "parsed_seed = int(seed)\n",
    "np.random.seed(parsed_seed)\n",
    "print(f\"Using Seed: {parsed_seed}\")"
   ]
  },
  {
   "cell_type": "markdown",
   "id": "e0ebdc57",
   "metadata": {
    "papermill": {
     "duration": 0.016451,
     "end_time": "2025-08-05T14:49:47.464822",
     "exception": false,
     "start_time": "2025-08-05T14:49:47.448371",
     "status": "completed"
    },
    "tags": []
   },
   "source": [
    "# Loading Data"
   ]
  },
  {
   "cell_type": "code",
   "execution_count": 9,
   "id": "f0496b8a",
   "metadata": {
    "execution": {
     "iopub.execute_input": "2025-08-05T14:49:47.504717Z",
     "iopub.status.busy": "2025-08-05T14:49:47.504171Z",
     "iopub.status.idle": "2025-08-05T14:49:58.644016Z",
     "shell.execute_reply": "2025-08-05T14:49:58.643181Z"
    },
    "papermill": {
     "duration": 11.163212,
     "end_time": "2025-08-05T14:49:58.645370",
     "exception": false,
     "start_time": "2025-08-05T14:49:47.482158",
     "status": "completed"
    },
    "tags": []
   },
   "outputs": [
    {
     "name": "stdout",
     "output_type": "stream",
     "text": [
      "Loading SIAB data from cache: data/siab_cached.csv.gz\n"
     ]
    },
    {
     "name": "stdout",
     "output_type": "stream",
     "text": [
      "(643690, 164)\n"
     ]
    }
   ],
   "source": [
    "from pathlib import Path\n",
    "import pandas as pd\n",
    "\n",
    "# File paths\n",
    "raw_file = Path(\"data/raw/siab.csv\")\n",
    "cache_file = Path(\"data/siab_cached.csv.gz\")\n",
    "\n",
    "# Ensure cache directory exists\n",
    "cache_file.parent.mkdir(parents=True, exist_ok=True)\n",
    "\n",
    "# Load with simple caching\n",
    "if cache_file.exists():\n",
    "    print(f\"Loading SIAB data from cache: {cache_file}\")\n",
    "    siab = pd.read_csv(cache_file, compression='gzip')\n",
    "else:\n",
    "    print(f\"Cache not found. Reading raw SIAB data: {raw_file}\")\n",
    "    siab = pd.read_csv(raw_file)\n",
    "    siab.to_csv(cache_file, index=False, compression='gzip')\n",
    "    print(f\"Cached SIAB data to: {cache_file}\")\n",
    "\n",
    "print(siab.shape)"
   ]
  },
  {
   "cell_type": "code",
   "execution_count": 10,
   "id": "db0ca512-5f53-4dba-abdb-a2888bca41ba",
   "metadata": {
    "execution": {
     "iopub.execute_input": "2025-08-05T14:49:58.667176Z",
     "iopub.status.busy": "2025-08-05T14:49:58.666863Z",
     "iopub.status.idle": "2025-08-05T14:49:58.671318Z",
     "shell.execute_reply": "2025-08-05T14:49:58.670478Z"
    },
    "papermill": {
     "duration": 0.015417,
     "end_time": "2025-08-05T14:49:58.672628",
     "exception": false,
     "start_time": "2025-08-05T14:49:58.657211",
     "status": "completed"
    },
    "tags": []
   },
   "outputs": [],
   "source": [
    "#siab"
   ]
  },
  {
   "cell_type": "markdown",
   "id": "997051c5-15bd-4b69-9786-c3001a3ce484",
   "metadata": {
    "papermill": {
     "duration": 0.008703,
     "end_time": "2025-08-05T14:49:58.690877",
     "exception": false,
     "start_time": "2025-08-05T14:49:58.682174",
     "status": "completed"
    },
    "tags": []
   },
   "source": [
    "# Splitting Data and Setting Training Data Size"
   ]
  },
  {
   "cell_type": "code",
   "execution_count": 11,
   "id": "aea9c6ef-6f46-42c8-85eb-5a62025c1508",
   "metadata": {
    "execution": {
     "iopub.execute_input": "2025-08-05T14:49:58.709631Z",
     "iopub.status.busy": "2025-08-05T14:49:58.709382Z",
     "iopub.status.idle": "2025-08-05T14:49:59.315479Z",
     "shell.execute_reply": "2025-08-05T14:49:59.314459Z"
    },
    "papermill": {
     "duration": 0.617788,
     "end_time": "2025-08-05T14:49:59.317495",
     "exception": false,
     "start_time": "2025-08-05T14:49:58.699707",
     "status": "completed"
    },
    "tags": []
   },
   "outputs": [],
   "source": [
    "from fairness_multiverse.universe import sample_by_year_size\n",
    "\n",
    "siab_train = sample_by_year_size(siab,\n",
    "                               training_year=universe[\"training_year\"],\n",
    "                               training_size=universe[\"training_size\"])"
   ]
  },
  {
   "cell_type": "code",
   "execution_count": 12,
   "id": "8d3afb32-789d-442c-8d5d-9f5aa8dd2eed",
   "metadata": {
    "execution": {
     "iopub.execute_input": "2025-08-05T14:49:59.358097Z",
     "iopub.status.busy": "2025-08-05T14:49:59.357512Z",
     "iopub.status.idle": "2025-08-05T14:49:59.366623Z",
     "shell.execute_reply": "2025-08-05T14:49:59.365231Z"
    },
    "papermill": {
     "duration": 0.030973,
     "end_time": "2025-08-05T14:49:59.368485",
     "exception": false,
     "start_time": "2025-08-05T14:49:59.337512",
     "status": "completed"
    },
    "tags": []
   },
   "outputs": [],
   "source": [
    "#siab_train.shape"
   ]
  },
  {
   "cell_type": "code",
   "execution_count": 13,
   "id": "d582db68-1a4c-47fb-84fc-08518dc1975a",
   "metadata": {
    "execution": {
     "iopub.execute_input": "2025-08-05T14:49:59.407254Z",
     "iopub.status.busy": "2025-08-05T14:49:59.406536Z",
     "iopub.status.idle": "2025-08-05T14:49:59.411206Z",
     "shell.execute_reply": "2025-08-05T14:49:59.410402Z"
    },
    "papermill": {
     "duration": 0.025646,
     "end_time": "2025-08-05T14:49:59.412897",
     "exception": false,
     "start_time": "2025-08-05T14:49:59.387251",
     "status": "completed"
    },
    "tags": []
   },
   "outputs": [],
   "source": [
    "#display(siab_train.groupby(\"year\").size())"
   ]
  },
  {
   "cell_type": "code",
   "execution_count": 14,
   "id": "a561edb4-d032-42cb-8256-22eac1111c64",
   "metadata": {
    "execution": {
     "iopub.execute_input": "2025-08-05T14:49:59.448700Z",
     "iopub.status.busy": "2025-08-05T14:49:59.448360Z",
     "iopub.status.idle": "2025-08-05T14:49:59.703324Z",
     "shell.execute_reply": "2025-08-05T14:49:59.702499Z"
    },
    "papermill": {
     "duration": 0.277495,
     "end_time": "2025-08-05T14:49:59.705779",
     "exception": false,
     "start_time": "2025-08-05T14:49:59.428284",
     "status": "completed"
    },
    "tags": []
   },
   "outputs": [],
   "source": [
    "#siab_train = siab_s[siab_s.year < 2015]\n",
    "siab_calib = siab[siab.year == 2015]\n",
    "siab_test = siab[siab.year == 2016]"
   ]
  },
  {
   "cell_type": "code",
   "execution_count": 15,
   "id": "472de16f-c3db-4916-846b-1f0de9cf1746",
   "metadata": {
    "execution": {
     "iopub.execute_input": "2025-08-05T14:49:59.747563Z",
     "iopub.status.busy": "2025-08-05T14:49:59.747173Z",
     "iopub.status.idle": "2025-08-05T14:49:59.762732Z",
     "shell.execute_reply": "2025-08-05T14:49:59.761734Z"
    },
    "papermill": {
     "duration": 0.038071,
     "end_time": "2025-08-05T14:49:59.764311",
     "exception": false,
     "start_time": "2025-08-05T14:49:59.726240",
     "status": "completed"
    },
    "tags": []
   },
   "outputs": [],
   "source": [
    "X_train = siab_train.iloc[:,4:164]\n",
    "y_train = siab_train.iloc[:, [3]]"
   ]
  },
  {
   "cell_type": "code",
   "execution_count": 16,
   "id": "828c96af-f43a-4ed6-ba47-8ac73a47d56c",
   "metadata": {
    "execution": {
     "iopub.execute_input": "2025-08-05T14:49:59.803469Z",
     "iopub.status.busy": "2025-08-05T14:49:59.802601Z",
     "iopub.status.idle": "2025-08-05T14:49:59.854047Z",
     "shell.execute_reply": "2025-08-05T14:49:59.852947Z"
    },
    "papermill": {
     "duration": 0.072645,
     "end_time": "2025-08-05T14:49:59.856436",
     "exception": false,
     "start_time": "2025-08-05T14:49:59.783791",
     "status": "completed"
    },
    "tags": []
   },
   "outputs": [],
   "source": [
    "X_calib = siab_calib.iloc[:,4:164]\n",
    "y_calib = siab_calib.iloc[:, [3]]"
   ]
  },
  {
   "cell_type": "code",
   "execution_count": 17,
   "id": "c34be9c3-6bd6-476e-acd3-845840e303be",
   "metadata": {
    "execution": {
     "iopub.execute_input": "2025-08-05T14:49:59.894950Z",
     "iopub.status.busy": "2025-08-05T14:49:59.894471Z",
     "iopub.status.idle": "2025-08-05T14:49:59.947025Z",
     "shell.execute_reply": "2025-08-05T14:49:59.946217Z"
    },
    "papermill": {
     "duration": 0.073189,
     "end_time": "2025-08-05T14:49:59.948823",
     "exception": false,
     "start_time": "2025-08-05T14:49:59.875634",
     "status": "completed"
    },
    "tags": []
   },
   "outputs": [],
   "source": [
    "X_test = siab_test.iloc[:,4:164]\n",
    "y_true = siab_test.iloc[:, [3]]"
   ]
  },
  {
   "cell_type": "code",
   "execution_count": 18,
   "id": "e6c733c5",
   "metadata": {
    "execution": {
     "iopub.execute_input": "2025-08-05T14:49:59.987944Z",
     "iopub.status.busy": "2025-08-05T14:49:59.987502Z",
     "iopub.status.idle": "2025-08-05T14:50:00.086150Z",
     "shell.execute_reply": "2025-08-05T14:50:00.085065Z"
    },
    "papermill": {
     "duration": 0.11922,
     "end_time": "2025-08-05T14:50:00.088443",
     "exception": false,
     "start_time": "2025-08-05T14:49:59.969223",
     "status": "completed"
    },
    "tags": []
   },
   "outputs": [],
   "source": [
    "# Auxiliary data needed downstream in the pipeline\n",
    "\n",
    "org_train = X_train.copy()\n",
    "org_test = X_test.copy()\n",
    "org_calib = X_calib.copy()"
   ]
  },
  {
   "cell_type": "markdown",
   "id": "0a4a1b33",
   "metadata": {
    "papermill": {
     "duration": 0.017608,
     "end_time": "2025-08-05T14:50:00.125367",
     "exception": false,
     "start_time": "2025-08-05T14:50:00.107759",
     "status": "completed"
    },
    "tags": []
   },
   "source": [
    "# Preprocessing Data"
   ]
  },
  {
   "cell_type": "code",
   "execution_count": 19,
   "id": "ca879031",
   "metadata": {
    "execution": {
     "iopub.execute_input": "2025-08-05T14:50:00.161934Z",
     "iopub.status.busy": "2025-08-05T14:50:00.161207Z",
     "iopub.status.idle": "2025-08-05T14:50:00.167427Z",
     "shell.execute_reply": "2025-08-05T14:50:00.166416Z"
    },
    "papermill": {
     "duration": 0.026302,
     "end_time": "2025-08-05T14:50:00.169191",
     "exception": false,
     "start_time": "2025-08-05T14:50:00.142889",
     "status": "completed"
    },
    "tags": []
   },
   "outputs": [],
   "source": [
    "# EXCLUDE PROTECTED FEATURES\n",
    "# ----------------------\n",
    "# \"exclude_features\": \"none\", # \"nationality\", \"sex\", \"nationality-sex\"\n",
    "\n",
    "excluded_features = universe[\"exclude_features\"].split(\"-\") # split, e.g.: \"nationality-sex\" -> [\"nationality\", \"sex\"]\n",
    "excluded_features_dictionary = {\n",
    "    \"nationality\": [\"maxdeutsch1\", \"maxdeutsch.Missing.\"],\n",
    "    \"sex\": [\"frau1\"],\n",
    "    \"age\": [\"age\"],\n",
    "}"
   ]
  },
  {
   "cell_type": "code",
   "execution_count": 20,
   "id": "b745ac60",
   "metadata": {
    "execution": {
     "iopub.execute_input": "2025-08-05T14:50:00.206706Z",
     "iopub.status.busy": "2025-08-05T14:50:00.204995Z",
     "iopub.status.idle": "2025-08-05T14:50:00.211330Z",
     "shell.execute_reply": "2025-08-05T14:50:00.210245Z"
    },
    "papermill": {
     "duration": 0.026545,
     "end_time": "2025-08-05T14:50:00.213080",
     "exception": false,
     "start_time": "2025-08-05T14:50:00.186535",
     "status": "completed"
    },
    "tags": []
   },
   "outputs": [],
   "source": [
    "# Code nice names to column names\n",
    "\n",
    "excluded_features_columns = [\n",
    "    excluded_features_dictionary[f] for f in excluded_features if len(f) > 0 and f != \"none\"\n",
    "]"
   ]
  },
  {
   "cell_type": "code",
   "execution_count": 21,
   "id": "f84f73a2",
   "metadata": {
    "execution": {
     "iopub.execute_input": "2025-08-05T14:50:00.250975Z",
     "iopub.status.busy": "2025-08-05T14:50:00.250518Z",
     "iopub.status.idle": "2025-08-05T14:50:00.256442Z",
     "shell.execute_reply": "2025-08-05T14:50:00.255444Z"
    },
    "papermill": {
     "duration": 0.026396,
     "end_time": "2025-08-05T14:50:00.258106",
     "exception": false,
     "start_time": "2025-08-05T14:50:00.231710",
     "status": "completed"
    },
    "tags": []
   },
   "outputs": [],
   "source": [
    "from utils import flatten_once\n",
    "\n",
    "excluded_features_columns = flatten_once(excluded_features_columns)"
   ]
  },
  {
   "cell_type": "code",
   "execution_count": 22,
   "id": "884dea22",
   "metadata": {
    "execution": {
     "iopub.execute_input": "2025-08-05T14:50:00.297544Z",
     "iopub.status.busy": "2025-08-05T14:50:00.296886Z",
     "iopub.status.idle": "2025-08-05T14:50:00.312764Z",
     "shell.execute_reply": "2025-08-05T14:50:00.311598Z"
    },
    "papermill": {
     "duration": 0.038165,
     "end_time": "2025-08-05T14:50:00.314682",
     "exception": false,
     "start_time": "2025-08-05T14:50:00.276517",
     "status": "completed"
    },
    "tags": []
   },
   "outputs": [
    {
     "name": "stdout",
     "output_type": "stream",
     "text": [
      "Dropping features: ['maxdeutsch1', 'maxdeutsch.Missing.', 'frau1']\n"
     ]
    }
   ],
   "source": [
    "if len(excluded_features_columns) > 0:\n",
    "    print(f\"Dropping features: {excluded_features_columns}\")\n",
    "    X_train.drop(excluded_features_columns, axis=1, inplace=True)"
   ]
  },
  {
   "cell_type": "code",
   "execution_count": 23,
   "id": "95ab8b16",
   "metadata": {
    "execution": {
     "iopub.execute_input": "2025-08-05T14:50:00.355776Z",
     "iopub.status.busy": "2025-08-05T14:50:00.354898Z",
     "iopub.status.idle": "2025-08-05T14:50:00.406233Z",
     "shell.execute_reply": "2025-08-05T14:50:00.405043Z"
    },
    "papermill": {
     "duration": 0.07269,
     "end_time": "2025-08-05T14:50:00.408277",
     "exception": false,
     "start_time": "2025-08-05T14:50:00.335587",
     "status": "completed"
    },
    "tags": []
   },
   "outputs": [
    {
     "name": "stdout",
     "output_type": "stream",
     "text": [
      "Dropping features: ['maxdeutsch1', 'maxdeutsch.Missing.', 'frau1']\n"
     ]
    }
   ],
   "source": [
    "if len(excluded_features_columns) > 0:\n",
    "    print(f\"Dropping features: {excluded_features_columns}\")\n",
    "    X_test.drop(excluded_features_columns, axis=1, inplace=True)"
   ]
  },
  {
   "cell_type": "code",
   "execution_count": 24,
   "id": "1853aaf5-fb9f-46cb-a2b5-8ea4ae2237e4",
   "metadata": {
    "execution": {
     "iopub.execute_input": "2025-08-05T14:50:00.450322Z",
     "iopub.status.busy": "2025-08-05T14:50:00.449654Z",
     "iopub.status.idle": "2025-08-05T14:50:00.499302Z",
     "shell.execute_reply": "2025-08-05T14:50:00.498177Z"
    },
    "papermill": {
     "duration": 0.073396,
     "end_time": "2025-08-05T14:50:00.502531",
     "exception": false,
     "start_time": "2025-08-05T14:50:00.429135",
     "status": "completed"
    },
    "tags": []
   },
   "outputs": [
    {
     "name": "stdout",
     "output_type": "stream",
     "text": [
      "Dropping features: ['maxdeutsch1', 'maxdeutsch.Missing.', 'frau1']\n"
     ]
    }
   ],
   "source": [
    "if len(excluded_features_columns) > 0:\n",
    "    print(f\"Dropping features: {excluded_features_columns}\")\n",
    "    X_calib.drop(excluded_features_columns, axis=1, inplace=True)"
   ]
  },
  {
   "cell_type": "code",
   "execution_count": 25,
   "id": "76c4dc6d",
   "metadata": {
    "execution": {
     "iopub.execute_input": "2025-08-05T14:50:00.545236Z",
     "iopub.status.busy": "2025-08-05T14:50:00.544499Z",
     "iopub.status.idle": "2025-08-05T14:50:00.549831Z",
     "shell.execute_reply": "2025-08-05T14:50:00.548756Z"
    },
    "papermill": {
     "duration": 0.027933,
     "end_time": "2025-08-05T14:50:00.551647",
     "exception": false,
     "start_time": "2025-08-05T14:50:00.523714",
     "status": "completed"
    },
    "tags": []
   },
   "outputs": [],
   "source": [
    "# EXCLUDE CERTAIN SUBGROUPS\n",
    "# ----------------------\n",
    "\n",
    "mode = universe.get(\"exclude_subgroups\", \"keep-all\") \n",
    "# Fetches the exclude_subgroups setting from the universe dict.\n",
    "# Defaults to \"keep-all\" if the key is missing."
   ]
  },
  {
   "cell_type": "code",
   "execution_count": 26,
   "id": "21994072",
   "metadata": {
    "execution": {
     "iopub.execute_input": "2025-08-05T14:50:00.592981Z",
     "iopub.status.busy": "2025-08-05T14:50:00.592687Z",
     "iopub.status.idle": "2025-08-05T14:50:00.599254Z",
     "shell.execute_reply": "2025-08-05T14:50:00.598205Z"
    },
    "papermill": {
     "duration": 0.029627,
     "end_time": "2025-08-05T14:50:00.601356",
     "exception": false,
     "start_time": "2025-08-05T14:50:00.571729",
     "status": "completed"
    },
    "tags": []
   },
   "outputs": [],
   "source": [
    "if mode == \"keep-all\":\n",
    "    keep_mask = pd.Series(True, index=org_train.index)\n",
    "\n",
    "# org_train contains the original feature columns from features_org (in Simson)\n",
    "# features_org contains unprocessed features, for me X_train at beginning ???\n",
    "# For keep-all, creates a boolean Series (keep_mask) of all True, so no rows are removed.\n",
    "\n",
    "elif mode == \"drop-non-german\":\n",
    "    keep_mask = org_train[\"maxdeutsch1\"] == 1 # ??? what about missing values?\n",
    "\n",
    "else:\n",
    "    raise ValueError(f\"Unsupported mode for exclude_subgroups: {mode}\")"
   ]
  },
  {
   "cell_type": "code",
   "execution_count": 27,
   "id": "71651440",
   "metadata": {
    "execution": {
     "iopub.execute_input": "2025-08-05T14:50:00.642670Z",
     "iopub.status.busy": "2025-08-05T14:50:00.642361Z",
     "iopub.status.idle": "2025-08-05T14:50:00.648299Z",
     "shell.execute_reply": "2025-08-05T14:50:00.647271Z"
    },
    "papermill": {
     "duration": 0.028121,
     "end_time": "2025-08-05T14:50:00.650135",
     "exception": false,
     "start_time": "2025-08-05T14:50:00.622014",
     "status": "completed"
    },
    "tags": []
   },
   "outputs": [],
   "source": [
    "n_drop = (~keep_mask).sum() # Calculates how many rows are set to be dropped\n",
    "if n_drop > 0:\n",
    "    pct = n_drop / len(keep_mask) * 100\n",
    "    print(f\"Dropping {n_drop} rows ({pct:.2f}%) where mode='{mode}'\")"
   ]
  },
  {
   "cell_type": "code",
   "execution_count": 28,
   "id": "5fb8eee5",
   "metadata": {
    "execution": {
     "iopub.execute_input": "2025-08-05T14:50:00.691483Z",
     "iopub.status.busy": "2025-08-05T14:50:00.690728Z",
     "iopub.status.idle": "2025-08-05T14:50:00.706249Z",
     "shell.execute_reply": "2025-08-05T14:50:00.703820Z"
    },
    "papermill": {
     "duration": 0.038226,
     "end_time": "2025-08-05T14:50:00.708317",
     "exception": false,
     "start_time": "2025-08-05T14:50:00.670091",
     "status": "completed"
    },
    "tags": []
   },
   "outputs": [],
   "source": [
    "X_train = X_train[keep_mask]"
   ]
  },
  {
   "cell_type": "code",
   "execution_count": 29,
   "id": "b202bb3a",
   "metadata": {
    "execution": {
     "iopub.execute_input": "2025-08-05T14:50:00.750736Z",
     "iopub.status.busy": "2025-08-05T14:50:00.750117Z",
     "iopub.status.idle": "2025-08-05T14:50:00.756690Z",
     "shell.execute_reply": "2025-08-05T14:50:00.755659Z"
    },
    "papermill": {
     "duration": 0.029114,
     "end_time": "2025-08-05T14:50:00.758636",
     "exception": false,
     "start_time": "2025-08-05T14:50:00.729522",
     "status": "completed"
    },
    "tags": []
   },
   "outputs": [],
   "source": [
    "y_train = y_train[keep_mask]"
   ]
  },
  {
   "cell_type": "markdown",
   "id": "493e2ac3",
   "metadata": {
    "papermill": {
     "duration": 0.019657,
     "end_time": "2025-08-05T14:50:00.798353",
     "exception": false,
     "start_time": "2025-08-05T14:50:00.778696",
     "status": "completed"
    },
    "tags": []
   },
   "source": [
    "# Model Training"
   ]
  },
  {
   "cell_type": "code",
   "execution_count": 30,
   "id": "679e1268",
   "metadata": {
    "execution": {
     "iopub.execute_input": "2025-08-05T14:50:00.839149Z",
     "iopub.status.busy": "2025-08-05T14:50:00.838606Z",
     "iopub.status.idle": "2025-08-05T14:50:00.940111Z",
     "shell.execute_reply": "2025-08-05T14:50:00.939147Z"
    },
    "papermill": {
     "duration": 0.123939,
     "end_time": "2025-08-05T14:50:00.942026",
     "exception": false,
     "start_time": "2025-08-05T14:50:00.818087",
     "status": "completed"
    },
    "tags": []
   },
   "outputs": [],
   "source": [
    "from sklearn.linear_model import LogisticRegression\n",
    "from sklearn.ensemble import GradientBoostingClassifier, RandomForestClassifier\n",
    "\n",
    "if (universe[\"model\"] == \"logreg\"):\n",
    "    model = LogisticRegression() #penalty=\"none\", solver=\"newton-cg\", max_iter=1) # include random_state=19 ?\n",
    "elif (universe[\"model\"] == \"penalized_logreg\"):\n",
    "    model = LogisticRegression(penalty=\"l2\", C=0.1) #, solver=\"newton-cg\", max_iter=1)\n",
    "elif (universe[\"model\"] == \"rf\"):\n",
    "    model = RandomForestClassifier() # n_estimators=100, n_jobs=-1\n",
    "elif (universe[\"model\"] == \"gbm\"):\n",
    "    model = GradientBoostingClassifier()\n",
    "elif (universe[\"model\"] == \"elasticnet\"):\n",
    "    model = LogisticRegression(penalty = 'elasticnet', solver = 'saga', l1_ratio = 0.5) # max_iter=5000\n",
    "else:\n",
    "    raise \"Unsupported universe.model\""
   ]
  },
  {
   "cell_type": "code",
   "execution_count": 31,
   "id": "0cc8f744",
   "metadata": {
    "execution": {
     "iopub.execute_input": "2025-08-05T14:50:00.984021Z",
     "iopub.status.busy": "2025-08-05T14:50:00.983230Z",
     "iopub.status.idle": "2025-08-05T14:50:00.989467Z",
     "shell.execute_reply": "2025-08-05T14:50:00.988456Z"
    },
    "papermill": {
     "duration": 0.028646,
     "end_time": "2025-08-05T14:50:00.991285",
     "exception": false,
     "start_time": "2025-08-05T14:50:00.962639",
     "status": "completed"
    },
    "tags": []
   },
   "outputs": [],
   "source": [
    "import numpy as np\n",
    "from sklearn.pipeline import Pipeline\n",
    "from sklearn.preprocessing import StandardScaler\n",
    "\n",
    "model = Pipeline([\n",
    "    #(\"continuous_processor\", continuous_processor),\n",
    "    #(\"categorical_preprocessor\", categorical_preprocessor),\n",
    "    (\"scale\", StandardScaler() if universe[\"scale\"] == \"scale\" else None), \n",
    "    (\"model\", model),\n",
    "])"
   ]
  },
  {
   "cell_type": "code",
   "execution_count": 32,
   "id": "9442c04d",
   "metadata": {
    "execution": {
     "iopub.execute_input": "2025-08-05T14:50:01.033141Z",
     "iopub.status.busy": "2025-08-05T14:50:01.032488Z",
     "iopub.status.idle": "2025-08-05T14:50:01.567793Z",
     "shell.execute_reply": "2025-08-05T14:50:01.566815Z"
    },
    "papermill": {
     "duration": 0.559019,
     "end_time": "2025-08-05T14:50:01.569488",
     "exception": false,
     "start_time": "2025-08-05T14:50:01.010469",
     "status": "completed"
    },
    "tags": []
   },
   "outputs": [
    {
     "name": "stderr",
     "output_type": "stream",
     "text": [
      "/dss/dsshome1/0C/ra93lal2/.local/share/virtualenvs/CMA_Fairness_v2-3j10GkSs/lib/python3.10/site-packages/sklearn/linear_model/_logistic.py:444: ConvergenceWarning: lbfgs failed to converge (status=1):\n",
      "STOP: TOTAL NO. of ITERATIONS REACHED LIMIT.\n",
      "\n",
      "Increase the number of iterations (max_iter) or scale the data as shown in:\n",
      "    https://scikit-learn.org/stable/modules/preprocessing.html\n",
      "Please also refer to the documentation for alternative solver options:\n",
      "    https://scikit-learn.org/stable/modules/linear_model.html#logistic-regression\n",
      "  n_iter_i = _check_optimize_result(\n"
     ]
    },
    {
     "data": {
      "text/html": [
       "<style>#sk-container-id-1 {color: black;background-color: white;}#sk-container-id-1 pre{padding: 0;}#sk-container-id-1 div.sk-toggleable {background-color: white;}#sk-container-id-1 label.sk-toggleable__label {cursor: pointer;display: block;width: 100%;margin-bottom: 0;padding: 0.3em;box-sizing: border-box;text-align: center;}#sk-container-id-1 label.sk-toggleable__label-arrow:before {content: \"▸\";float: left;margin-right: 0.25em;color: #696969;}#sk-container-id-1 label.sk-toggleable__label-arrow:hover:before {color: black;}#sk-container-id-1 div.sk-estimator:hover label.sk-toggleable__label-arrow:before {color: black;}#sk-container-id-1 div.sk-toggleable__content {max-height: 0;max-width: 0;overflow: hidden;text-align: left;background-color: #f0f8ff;}#sk-container-id-1 div.sk-toggleable__content pre {margin: 0.2em;color: black;border-radius: 0.25em;background-color: #f0f8ff;}#sk-container-id-1 input.sk-toggleable__control:checked~div.sk-toggleable__content {max-height: 200px;max-width: 100%;overflow: auto;}#sk-container-id-1 input.sk-toggleable__control:checked~label.sk-toggleable__label-arrow:before {content: \"▾\";}#sk-container-id-1 div.sk-estimator input.sk-toggleable__control:checked~label.sk-toggleable__label {background-color: #d4ebff;}#sk-container-id-1 div.sk-label input.sk-toggleable__control:checked~label.sk-toggleable__label {background-color: #d4ebff;}#sk-container-id-1 input.sk-hidden--visually {border: 0;clip: rect(1px 1px 1px 1px);clip: rect(1px, 1px, 1px, 1px);height: 1px;margin: -1px;overflow: hidden;padding: 0;position: absolute;width: 1px;}#sk-container-id-1 div.sk-estimator {font-family: monospace;background-color: #f0f8ff;border: 1px dotted black;border-radius: 0.25em;box-sizing: border-box;margin-bottom: 0.5em;}#sk-container-id-1 div.sk-estimator:hover {background-color: #d4ebff;}#sk-container-id-1 div.sk-parallel-item::after {content: \"\";width: 100%;border-bottom: 1px solid gray;flex-grow: 1;}#sk-container-id-1 div.sk-label:hover label.sk-toggleable__label {background-color: #d4ebff;}#sk-container-id-1 div.sk-serial::before {content: \"\";position: absolute;border-left: 1px solid gray;box-sizing: border-box;top: 0;bottom: 0;left: 50%;z-index: 0;}#sk-container-id-1 div.sk-serial {display: flex;flex-direction: column;align-items: center;background-color: white;padding-right: 0.2em;padding-left: 0.2em;position: relative;}#sk-container-id-1 div.sk-item {position: relative;z-index: 1;}#sk-container-id-1 div.sk-parallel {display: flex;align-items: stretch;justify-content: center;background-color: white;position: relative;}#sk-container-id-1 div.sk-item::before, #sk-container-id-1 div.sk-parallel-item::before {content: \"\";position: absolute;border-left: 1px solid gray;box-sizing: border-box;top: 0;bottom: 0;left: 50%;z-index: -1;}#sk-container-id-1 div.sk-parallel-item {display: flex;flex-direction: column;z-index: 1;position: relative;background-color: white;}#sk-container-id-1 div.sk-parallel-item:first-child::after {align-self: flex-end;width: 50%;}#sk-container-id-1 div.sk-parallel-item:last-child::after {align-self: flex-start;width: 50%;}#sk-container-id-1 div.sk-parallel-item:only-child::after {width: 0;}#sk-container-id-1 div.sk-dashed-wrapped {border: 1px dashed gray;margin: 0 0.4em 0.5em 0.4em;box-sizing: border-box;padding-bottom: 0.4em;background-color: white;}#sk-container-id-1 div.sk-label label {font-family: monospace;font-weight: bold;display: inline-block;line-height: 1.2em;}#sk-container-id-1 div.sk-label-container {text-align: center;}#sk-container-id-1 div.sk-container {/* jupyter's `normalize.less` sets `[hidden] { display: none; }` but bootstrap.min.css set `[hidden] { display: none !important; }` so we also need the `!important` here to be able to override the default hidden behavior on the sphinx rendered scikit-learn.org. See: https://github.com/scikit-learn/scikit-learn/issues/21755 */display: inline-block !important;position: relative;}#sk-container-id-1 div.sk-text-repr-fallback {display: none;}</style><div id=\"sk-container-id-1\" class=\"sk-top-container\"><div class=\"sk-text-repr-fallback\"><pre>Pipeline(steps=[(&#x27;scale&#x27;, StandardScaler()),\n",
       "                (&#x27;model&#x27;, LogisticRegression(C=0.1))])</pre><b>In a Jupyter environment, please rerun this cell to show the HTML representation or trust the notebook. <br />On GitHub, the HTML representation is unable to render, please try loading this page with nbviewer.org.</b></div><div class=\"sk-container\" hidden><div class=\"sk-item sk-dashed-wrapped\"><div class=\"sk-label-container\"><div class=\"sk-label sk-toggleable\"><input class=\"sk-toggleable__control sk-hidden--visually\" id=\"sk-estimator-id-1\" type=\"checkbox\" ><label for=\"sk-estimator-id-1\" class=\"sk-toggleable__label sk-toggleable__label-arrow\">Pipeline</label><div class=\"sk-toggleable__content\"><pre>Pipeline(steps=[(&#x27;scale&#x27;, StandardScaler()),\n",
       "                (&#x27;model&#x27;, LogisticRegression(C=0.1))])</pre></div></div></div><div class=\"sk-serial\"><div class=\"sk-item\"><div class=\"sk-estimator sk-toggleable\"><input class=\"sk-toggleable__control sk-hidden--visually\" id=\"sk-estimator-id-2\" type=\"checkbox\" ><label for=\"sk-estimator-id-2\" class=\"sk-toggleable__label sk-toggleable__label-arrow\">StandardScaler</label><div class=\"sk-toggleable__content\"><pre>StandardScaler()</pre></div></div></div><div class=\"sk-item\"><div class=\"sk-estimator sk-toggleable\"><input class=\"sk-toggleable__control sk-hidden--visually\" id=\"sk-estimator-id-3\" type=\"checkbox\" ><label for=\"sk-estimator-id-3\" class=\"sk-toggleable__label sk-toggleable__label-arrow\">LogisticRegression</label><div class=\"sk-toggleable__content\"><pre>LogisticRegression(C=0.1)</pre></div></div></div></div></div></div></div>"
      ],
      "text/plain": [
       "Pipeline(steps=[('scale', StandardScaler()),\n",
       "                ('model', LogisticRegression(C=0.1))])"
      ]
     },
     "execution_count": 32,
     "metadata": {},
     "output_type": "execute_result"
    }
   ],
   "source": [
    "model.fit(X_train, y_train.values.ravel())"
   ]
  },
  {
   "cell_type": "code",
   "execution_count": 33,
   "id": "af59f8c0",
   "metadata": {
    "execution": {
     "iopub.execute_input": "2025-08-05T14:50:01.603995Z",
     "iopub.status.busy": "2025-08-05T14:50:01.603694Z",
     "iopub.status.idle": "2025-08-05T14:50:01.607899Z",
     "shell.execute_reply": "2025-08-05T14:50:01.607246Z"
    },
    "papermill": {
     "duration": 0.019199,
     "end_time": "2025-08-05T14:50:01.609146",
     "exception": false,
     "start_time": "2025-08-05T14:50:01.589947",
     "status": "completed"
    },
    "tags": []
   },
   "outputs": [],
   "source": [
    "from fairness_multiverse.universe import predict_w_threshold"
   ]
  },
  {
   "cell_type": "code",
   "execution_count": 34,
   "id": "a7cf2e16",
   "metadata": {
    "execution": {
     "iopub.execute_input": "2025-08-05T14:50:01.651858Z",
     "iopub.status.busy": "2025-08-05T14:50:01.651471Z",
     "iopub.status.idle": "2025-08-05T14:50:01.845462Z",
     "shell.execute_reply": "2025-08-05T14:50:01.844491Z"
    },
    "papermill": {
     "duration": 0.21635,
     "end_time": "2025-08-05T14:50:01.847196",
     "exception": false,
     "start_time": "2025-08-05T14:50:01.630846",
     "status": "completed"
    },
    "tags": []
   },
   "outputs": [
    {
     "data": {
      "text/plain": [
       "0.8623899230854977"
      ]
     },
     "execution_count": 34,
     "metadata": {},
     "output_type": "execute_result"
    }
   ],
   "source": [
    "probs_test = model.predict_proba(X_test)\n",
    "\n",
    "'''\n",
    "Below code returns a boolean array (or binary 0/1 array depending on how it’s used) where each element \n",
    "is True if the probability of class 1 is greater than or equal to the threshold, and False otherwise.\n",
    "'''\n",
    "y_pred_default = predict_w_threshold(probs_test, 0.5)\n",
    "\n",
    "from sklearn.metrics import accuracy_score\n",
    "\n",
    "# Naive prediction\n",
    "accuracy_score(y_true = y_true, y_pred = y_pred_default)"
   ]
  },
  {
   "cell_type": "code",
   "execution_count": 35,
   "id": "081964c3",
   "metadata": {
    "execution": {
     "iopub.execute_input": "2025-08-05T14:50:01.888091Z",
     "iopub.status.busy": "2025-08-05T14:50:01.887371Z",
     "iopub.status.idle": "2025-08-05T14:50:02.066534Z",
     "shell.execute_reply": "2025-08-05T14:50:02.065406Z"
    },
    "papermill": {
     "duration": 0.199326,
     "end_time": "2025-08-05T14:50:02.068256",
     "exception": false,
     "start_time": "2025-08-05T14:50:01.868930",
     "status": "completed"
    },
    "tags": []
   },
   "outputs": [
    {
     "data": {
      "text/plain": [
       "array([0, 0, 0, ..., 0, 0, 0])"
      ]
     },
     "execution_count": 35,
     "metadata": {},
     "output_type": "execute_result"
    }
   ],
   "source": [
    "model.predict(X_test)"
   ]
  },
  {
   "cell_type": "markdown",
   "id": "56c9705b",
   "metadata": {
    "papermill": {
     "duration": 0.011518,
     "end_time": "2025-08-05T14:50:02.092757",
     "exception": false,
     "start_time": "2025-08-05T14:50:02.081239",
     "status": "completed"
    },
    "tags": []
   },
   "source": [
    "# Conformal Prediction"
   ]
  },
  {
   "cell_type": "code",
   "execution_count": 36,
   "id": "160ec6ff",
   "metadata": {
    "execution": {
     "iopub.execute_input": "2025-08-05T14:50:02.114316Z",
     "iopub.status.busy": "2025-08-05T14:50:02.113644Z",
     "iopub.status.idle": "2025-08-05T14:50:02.118188Z",
     "shell.execute_reply": "2025-08-05T14:50:02.117384Z"
    },
    "papermill": {
     "duration": 0.016757,
     "end_time": "2025-08-05T14:50:02.119697",
     "exception": false,
     "start_time": "2025-08-05T14:50:02.102940",
     "status": "completed"
    },
    "tags": []
   },
   "outputs": [],
   "source": [
    "# Miscoverage level for conformal prediction (10% allowed error rate => 90% target coverage)\n",
    "alpha = 0.1"
   ]
  },
  {
   "cell_type": "code",
   "execution_count": 37,
   "id": "eadf4555-3dd3-440e-8e35-f82a4ad9f855",
   "metadata": {
    "execution": {
     "iopub.execute_input": "2025-08-05T14:50:02.146009Z",
     "iopub.status.busy": "2025-08-05T14:50:02.145766Z",
     "iopub.status.idle": "2025-08-05T14:50:02.305094Z",
     "shell.execute_reply": "2025-08-05T14:50:02.304304Z"
    },
    "papermill": {
     "duration": 0.173813,
     "end_time": "2025-08-05T14:50:02.306553",
     "exception": false,
     "start_time": "2025-08-05T14:50:02.132740",
     "status": "completed"
    },
    "tags": []
   },
   "outputs": [],
   "source": [
    "probs_calib = model.predict_proba(X_calib)"
   ]
  },
  {
   "cell_type": "code",
   "execution_count": 38,
   "id": "2ed93547-6d5d-4983-9b36-1ecb300da49a",
   "metadata": {
    "execution": {
     "iopub.execute_input": "2025-08-05T14:50:02.329355Z",
     "iopub.status.busy": "2025-08-05T14:50:02.328710Z",
     "iopub.status.idle": "2025-08-05T14:50:02.333690Z",
     "shell.execute_reply": "2025-08-05T14:50:02.332934Z"
    },
    "papermill": {
     "duration": 0.017547,
     "end_time": "2025-08-05T14:50:02.335277",
     "exception": false,
     "start_time": "2025-08-05T14:50:02.317730",
     "status": "completed"
    },
    "tags": []
   },
   "outputs": [],
   "source": [
    "y_calib = y_calib.values.ravel().astype(int)"
   ]
  },
  {
   "cell_type": "code",
   "execution_count": 39,
   "id": "65d1320d-f588-4b38-9072-62af1ae97f7d",
   "metadata": {
    "execution": {
     "iopub.execute_input": "2025-08-05T14:50:02.358914Z",
     "iopub.status.busy": "2025-08-05T14:50:02.358086Z",
     "iopub.status.idle": "2025-08-05T14:50:02.364478Z",
     "shell.execute_reply": "2025-08-05T14:50:02.363555Z"
    },
    "papermill": {
     "duration": 0.019369,
     "end_time": "2025-08-05T14:50:02.366140",
     "exception": false,
     "start_time": "2025-08-05T14:50:02.346771",
     "status": "completed"
    },
    "tags": []
   },
   "outputs": [],
   "source": [
    "from fairness_multiverse.conformal import compute_nc_scores\n",
    "\n",
    "# Compute nonconformity scores on calibration set (1 - probability of true class)\n",
    "nc_scores = compute_nc_scores(probs_calib, y_calib)"
   ]
  },
  {
   "cell_type": "code",
   "execution_count": 40,
   "id": "df3b8ca3-53b7-43d5-9667-7c85da7aeda2",
   "metadata": {
    "execution": {
     "iopub.execute_input": "2025-08-05T14:50:02.389457Z",
     "iopub.status.busy": "2025-08-05T14:50:02.388734Z",
     "iopub.status.idle": "2025-08-05T14:50:02.394570Z",
     "shell.execute_reply": "2025-08-05T14:50:02.393784Z"
    },
    "papermill": {
     "duration": 0.018474,
     "end_time": "2025-08-05T14:50:02.396070",
     "exception": false,
     "start_time": "2025-08-05T14:50:02.377596",
     "status": "completed"
    },
    "tags": []
   },
   "outputs": [],
   "source": [
    "from fairness_multiverse.conformal import find_threshold\n",
    "\n",
    "# Find conformal threshold q_hat for the given alpha (split conformal method)\n",
    "q_hat = find_threshold(nc_scores, alpha)"
   ]
  },
  {
   "cell_type": "code",
   "execution_count": 41,
   "id": "4d29e6c1-0ef6-4aa4-b8fe-4fe79b0d033a",
   "metadata": {
    "execution": {
     "iopub.execute_input": "2025-08-05T14:50:02.419941Z",
     "iopub.status.busy": "2025-08-05T14:50:02.419209Z",
     "iopub.status.idle": "2025-08-05T14:50:02.426016Z",
     "shell.execute_reply": "2025-08-05T14:50:02.425112Z"
    },
    "papermill": {
     "duration": 0.019806,
     "end_time": "2025-08-05T14:50:02.427493",
     "exception": false,
     "start_time": "2025-08-05T14:50:02.407687",
     "status": "completed"
    },
    "tags": []
   },
   "outputs": [
    {
     "data": {
      "text/plain": [
       "0.6650862964048381"
      ]
     },
     "execution_count": 41,
     "metadata": {},
     "output_type": "execute_result"
    }
   ],
   "source": [
    "q_hat"
   ]
  },
  {
   "cell_type": "code",
   "execution_count": 42,
   "id": "92460794-cdac-4be2-ba28-f28c0515a6fb",
   "metadata": {
    "execution": {
     "iopub.execute_input": "2025-08-05T14:50:02.450859Z",
     "iopub.status.busy": "2025-08-05T14:50:02.450380Z",
     "iopub.status.idle": "2025-08-05T14:50:03.160166Z",
     "shell.execute_reply": "2025-08-05T14:50:03.159405Z"
    },
    "papermill": {
     "duration": 0.722438,
     "end_time": "2025-08-05T14:50:03.161652",
     "exception": false,
     "start_time": "2025-08-05T14:50:02.439214",
     "status": "completed"
    },
    "tags": []
   },
   "outputs": [],
   "source": [
    "from fairness_multiverse.conformal import predict_conformal_sets\n",
    "\n",
    "# Generate prediction sets for each test example\n",
    "pred_sets = predict_conformal_sets(model, X_test, q_hat)"
   ]
  },
  {
   "cell_type": "code",
   "execution_count": 43,
   "id": "d90c9a65-e6db-4f5d-80cd-e68fb7e46829",
   "metadata": {
    "execution": {
     "iopub.execute_input": "2025-08-05T14:50:03.184800Z",
     "iopub.status.busy": "2025-08-05T14:50:03.184051Z",
     "iopub.status.idle": "2025-08-05T14:50:03.189300Z",
     "shell.execute_reply": "2025-08-05T14:50:03.188492Z"
    },
    "papermill": {
     "duration": 0.018037,
     "end_time": "2025-08-05T14:50:03.190806",
     "exception": false,
     "start_time": "2025-08-05T14:50:03.172769",
     "status": "completed"
    },
    "tags": []
   },
   "outputs": [],
   "source": [
    "y_true = y_true.squeeze()"
   ]
  },
  {
   "cell_type": "code",
   "execution_count": 44,
   "id": "3a58a54a-1e68-46b9-927a-df01f18aebc8",
   "metadata": {
    "execution": {
     "iopub.execute_input": "2025-08-05T14:50:03.214294Z",
     "iopub.status.busy": "2025-08-05T14:50:03.213606Z",
     "iopub.status.idle": "2025-08-05T14:50:03.729253Z",
     "shell.execute_reply": "2025-08-05T14:50:03.728477Z"
    },
    "papermill": {
     "duration": 0.528533,
     "end_time": "2025-08-05T14:50:03.730980",
     "exception": false,
     "start_time": "2025-08-05T14:50:03.202447",
     "status": "completed"
    },
    "tags": []
   },
   "outputs": [],
   "source": [
    "from fairness_multiverse.conformal import evaluate_sets\n",
    "\n",
    "# Evaluate coverage and average set size on test data\n",
    "metrics = evaluate_sets(pred_sets, y_true)"
   ]
  },
  {
   "cell_type": "markdown",
   "id": "2b569c12-9aaa-4c88-98c9-bbcd0cf3ebb8",
   "metadata": {
    "papermill": {
     "duration": 0.022976,
     "end_time": "2025-08-05T14:50:03.780399",
     "exception": false,
     "start_time": "2025-08-05T14:50:03.757423",
     "status": "completed"
    },
    "tags": []
   },
   "source": [
    "# CP Metrics"
   ]
  },
  {
   "cell_type": "code",
   "execution_count": 45,
   "id": "5ce0a5cb-201f-45a0-ade5-94c7f0bd6095",
   "metadata": {
    "execution": {
     "iopub.execute_input": "2025-08-05T14:50:03.828140Z",
     "iopub.status.busy": "2025-08-05T14:50:03.827731Z",
     "iopub.status.idle": "2025-08-05T14:50:03.835723Z",
     "shell.execute_reply": "2025-08-05T14:50:03.834512Z"
    },
    "papermill": {
     "duration": 0.03476,
     "end_time": "2025-08-05T14:50:03.837891",
     "exception": false,
     "start_time": "2025-08-05T14:50:03.803131",
     "status": "completed"
    },
    "tags": []
   },
   "outputs": [
    {
     "data": {
      "text/plain": [
       "{'coverage': 0.911793557017055, 'avg_size': 1.1250027867573291}"
      ]
     },
     "execution_count": 45,
     "metadata": {},
     "output_type": "execute_result"
    }
   ],
   "source": [
    "metrics"
   ]
  },
  {
   "cell_type": "code",
   "execution_count": 46,
   "id": "9b9a838d-31c9-430b-ae14-12baee460d17",
   "metadata": {
    "execution": {
     "iopub.execute_input": "2025-08-05T14:50:03.886371Z",
     "iopub.status.busy": "2025-08-05T14:50:03.886045Z",
     "iopub.status.idle": "2025-08-05T14:50:03.891974Z",
     "shell.execute_reply": "2025-08-05T14:50:03.891066Z"
    },
    "papermill": {
     "duration": 0.032341,
     "end_time": "2025-08-05T14:50:03.893827",
     "exception": false,
     "start_time": "2025-08-05T14:50:03.861486",
     "status": "completed"
    },
    "tags": []
   },
   "outputs": [],
   "source": [
    "example_universe = universe.copy()\n",
    "universe_training_year = example_universe.get(\"training_year\")\n",
    "universe_training_size = example_universe.get(\"training_size\")\n",
    "universe_scale = example_universe.get(\"scale\")\n",
    "universe_model = example_universe.get(\"model\")\n",
    "universe_exclude_features = example_universe.get(\"exclude_features\")\n",
    "universe_exclude_subgroups = example_universe.get(\"exclude_subgroups\")"
   ]
  },
  {
   "cell_type": "code",
   "execution_count": 47,
   "id": "f4b6a8ac-9dc0-4245-8a91-5b3b5999c4f9",
   "metadata": {
    "execution": {
     "iopub.execute_input": "2025-08-05T14:50:03.941415Z",
     "iopub.status.busy": "2025-08-05T14:50:03.941114Z",
     "iopub.status.idle": "2025-08-05T14:50:03.946854Z",
     "shell.execute_reply": "2025-08-05T14:50:03.945941Z"
    },
    "papermill": {
     "duration": 0.031506,
     "end_time": "2025-08-05T14:50:03.948720",
     "exception": false,
     "start_time": "2025-08-05T14:50:03.917214",
     "status": "completed"
    },
    "tags": []
   },
   "outputs": [],
   "source": [
    "cp_metrics_dict = {\n",
    "    \"universe_id\": [universe_id],\n",
    "    \"universe_training_year\": [universe_training_year],\n",
    "    \"universe_training_size\": [universe_training_size],\n",
    "    \"universe_scale\": [universe_scale],\n",
    "    \"universe_model\": [universe_model],\n",
    "    \"universe_exclude_features\": [universe_exclude_features],\n",
    "    \"universe_exclude_subgroups\": [universe_exclude_subgroups],\n",
    "    \"q_hat\": [q_hat],\n",
    "    \"coverage\": [metrics[\"coverage\"]],\n",
    "    \"avg_size\": [metrics[\"avg_size\"]],\n",
    "}"
   ]
  },
  {
   "cell_type": "code",
   "execution_count": 48,
   "id": "908acbb1-0371-4915-85ca-3fa520d2efe2",
   "metadata": {
    "execution": {
     "iopub.execute_input": "2025-08-05T14:50:03.995594Z",
     "iopub.status.busy": "2025-08-05T14:50:03.995303Z",
     "iopub.status.idle": "2025-08-05T14:50:04.002086Z",
     "shell.execute_reply": "2025-08-05T14:50:04.001016Z"
    },
    "papermill": {
     "duration": 0.031397,
     "end_time": "2025-08-05T14:50:04.003903",
     "exception": false,
     "start_time": "2025-08-05T14:50:03.972506",
     "status": "completed"
    },
    "tags": []
   },
   "outputs": [
    {
     "data": {
      "text/plain": [
       "{'universe_id': ['5174d50927a6b3da0327a1cf44d995a4'],\n",
       " 'universe_training_year': ['2012_14'],\n",
       " 'universe_training_size': ['25k'],\n",
       " 'universe_scale': ['scale'],\n",
       " 'universe_model': ['penalized_logreg'],\n",
       " 'universe_exclude_features': ['nationality-sex'],\n",
       " 'universe_exclude_subgroups': ['keep-all'],\n",
       " 'q_hat': [0.6650862964048381],\n",
       " 'coverage': [0.911793557017055],\n",
       " 'avg_size': [1.1250027867573291]}"
      ]
     },
     "execution_count": 48,
     "metadata": {},
     "output_type": "execute_result"
    }
   ],
   "source": [
    "cp_metrics_dict"
   ]
  },
  {
   "cell_type": "code",
   "execution_count": 49,
   "id": "33007efc-14e9-4ec6-97ac-56a455c82265",
   "metadata": {
    "execution": {
     "iopub.execute_input": "2025-08-05T14:50:04.052128Z",
     "iopub.status.busy": "2025-08-05T14:50:04.050681Z",
     "iopub.status.idle": "2025-08-05T14:50:04.057485Z",
     "shell.execute_reply": "2025-08-05T14:50:04.056524Z"
    },
    "papermill": {
     "duration": 0.03203,
     "end_time": "2025-08-05T14:50:04.059234",
     "exception": false,
     "start_time": "2025-08-05T14:50:04.027204",
     "status": "completed"
    },
    "tags": []
   },
   "outputs": [],
   "source": [
    "cp_metrics_df = pd.DataFrame(cp_metrics_dict)"
   ]
  },
  {
   "cell_type": "code",
   "execution_count": 50,
   "id": "db12611b-57b2-4910-b9d0-355adfd6e7bf",
   "metadata": {
    "execution": {
     "iopub.execute_input": "2025-08-05T14:50:04.099907Z",
     "iopub.status.busy": "2025-08-05T14:50:04.099320Z",
     "iopub.status.idle": "2025-08-05T14:50:04.118951Z",
     "shell.execute_reply": "2025-08-05T14:50:04.117981Z"
    },
    "papermill": {
     "duration": 0.041723,
     "end_time": "2025-08-05T14:50:04.120585",
     "exception": false,
     "start_time": "2025-08-05T14:50:04.078862",
     "status": "completed"
    },
    "tags": []
   },
   "outputs": [
    {
     "data": {
      "text/html": [
       "<div>\n",
       "<style scoped>\n",
       "    .dataframe tbody tr th:only-of-type {\n",
       "        vertical-align: middle;\n",
       "    }\n",
       "\n",
       "    .dataframe tbody tr th {\n",
       "        vertical-align: top;\n",
       "    }\n",
       "\n",
       "    .dataframe thead th {\n",
       "        text-align: right;\n",
       "    }\n",
       "</style>\n",
       "<table border=\"1\" class=\"dataframe\">\n",
       "  <thead>\n",
       "    <tr style=\"text-align: right;\">\n",
       "      <th></th>\n",
       "      <th>universe_id</th>\n",
       "      <th>universe_training_year</th>\n",
       "      <th>universe_training_size</th>\n",
       "      <th>universe_scale</th>\n",
       "      <th>universe_model</th>\n",
       "      <th>universe_exclude_features</th>\n",
       "      <th>universe_exclude_subgroups</th>\n",
       "      <th>q_hat</th>\n",
       "      <th>coverage</th>\n",
       "      <th>avg_size</th>\n",
       "    </tr>\n",
       "  </thead>\n",
       "  <tbody>\n",
       "    <tr>\n",
       "      <th>0</th>\n",
       "      <td>5174d50927a6b3da0327a1cf44d995a4</td>\n",
       "      <td>2012_14</td>\n",
       "      <td>25k</td>\n",
       "      <td>scale</td>\n",
       "      <td>penalized_logreg</td>\n",
       "      <td>nationality-sex</td>\n",
       "      <td>keep-all</td>\n",
       "      <td>0.665086</td>\n",
       "      <td>0.911794</td>\n",
       "      <td>1.125003</td>\n",
       "    </tr>\n",
       "  </tbody>\n",
       "</table>\n",
       "</div>"
      ],
      "text/plain": [
       "                        universe_id universe_training_year  \\\n",
       "0  5174d50927a6b3da0327a1cf44d995a4                2012_14   \n",
       "\n",
       "  universe_training_size universe_scale    universe_model  \\\n",
       "0                    25k          scale  penalized_logreg   \n",
       "\n",
       "  universe_exclude_features universe_exclude_subgroups     q_hat  coverage  \\\n",
       "0           nationality-sex                   keep-all  0.665086  0.911794   \n",
       "\n",
       "   avg_size  \n",
       "0  1.125003  "
      ]
     },
     "execution_count": 50,
     "metadata": {},
     "output_type": "execute_result"
    }
   ],
   "source": [
    "cp_metrics_df"
   ]
  },
  {
   "cell_type": "code",
   "execution_count": 51,
   "id": "b7fbde55-a0a1-47e4-9af6-fe4a17fa8c61",
   "metadata": {
    "execution": {
     "iopub.execute_input": "2025-08-05T14:50:04.169720Z",
     "iopub.status.busy": "2025-08-05T14:50:04.168972Z",
     "iopub.status.idle": "2025-08-05T14:50:04.175003Z",
     "shell.execute_reply": "2025-08-05T14:50:04.173898Z"
    },
    "papermill": {
     "duration": 0.032589,
     "end_time": "2025-08-05T14:50:04.177033",
     "exception": false,
     "start_time": "2025-08-05T14:50:04.144444",
     "status": "completed"
    },
    "tags": []
   },
   "outputs": [],
   "source": [
    "# Conditional Coverage & looking at subgroups"
   ]
  },
  {
   "cell_type": "code",
   "execution_count": 52,
   "id": "027ae886-68dd-4141-96c7-805a5450e1ef",
   "metadata": {
    "execution": {
     "iopub.execute_input": "2025-08-05T14:50:04.224981Z",
     "iopub.status.busy": "2025-08-05T14:50:04.224468Z",
     "iopub.status.idle": "2025-08-05T14:50:04.438922Z",
     "shell.execute_reply": "2025-08-05T14:50:04.438192Z"
    },
    "papermill": {
     "duration": 0.239477,
     "end_time": "2025-08-05T14:50:04.440291",
     "exception": false,
     "start_time": "2025-08-05T14:50:04.200814",
     "status": "completed"
    },
    "tags": []
   },
   "outputs": [],
   "source": [
    "from fairness_multiverse.conformal import build_cp_groups\n",
    "\n",
    "cp_groups_df = build_cp_groups(pred_sets, y_true, X_test.index, org_test)\n",
    "#needs universe_id and setting"
   ]
  },
  {
   "cell_type": "code",
   "execution_count": 53,
   "id": "6cbdab96-b2b2-45af-ad54-d0516db2e28d",
   "metadata": {
    "execution": {
     "iopub.execute_input": "2025-08-05T14:50:04.478826Z",
     "iopub.status.busy": "2025-08-05T14:50:04.478218Z",
     "iopub.status.idle": "2025-08-05T14:50:06.165679Z",
     "shell.execute_reply": "2025-08-05T14:50:06.164639Z"
    },
    "papermill": {
     "duration": 1.711143,
     "end_time": "2025-08-05T14:50:06.167570",
     "exception": false,
     "start_time": "2025-08-05T14:50:04.456427",
     "status": "completed"
    },
    "tags": []
   },
   "outputs": [],
   "source": [
    "# Define covered = 1 if true_label is in the predicted set\n",
    "cp_groups_df['covered'] = cp_groups_df.apply(\n",
    "    lambda r: int(r['true_label'] in r['pred_set']),\n",
    "    axis=1\n",
    ")"
   ]
  },
  {
   "cell_type": "code",
   "execution_count": 54,
   "id": "338ff529-1a6b-4b87-a931-8e4788d52aad",
   "metadata": {
    "execution": {
     "iopub.execute_input": "2025-08-05T14:50:06.212302Z",
     "iopub.status.busy": "2025-08-05T14:50:06.211727Z",
     "iopub.status.idle": "2025-08-05T14:50:06.216668Z",
     "shell.execute_reply": "2025-08-05T14:50:06.215591Z"
    },
    "papermill": {
     "duration": 0.027949,
     "end_time": "2025-08-05T14:50:06.218738",
     "exception": false,
     "start_time": "2025-08-05T14:50:06.190789",
     "status": "completed"
    },
    "tags": []
   },
   "outputs": [],
   "source": [
    "#cp_groups_df"
   ]
  },
  {
   "cell_type": "code",
   "execution_count": 55,
   "id": "90032e27-66df-4540-9169-4e89cfbaa758",
   "metadata": {
    "execution": {
     "iopub.execute_input": "2025-08-05T14:50:06.273399Z",
     "iopub.status.busy": "2025-08-05T14:50:06.272409Z",
     "iopub.status.idle": "2025-08-05T14:50:06.285034Z",
     "shell.execute_reply": "2025-08-05T14:50:06.283728Z"
    },
    "papermill": {
     "duration": 0.042888,
     "end_time": "2025-08-05T14:50:06.287422",
     "exception": false,
     "start_time": "2025-08-05T14:50:06.244534",
     "status": "completed"
    },
    "tags": []
   },
   "outputs": [],
   "source": [
    "subgroups = ['frau1','nongerman','nongerman_male','nongerman_female']\n",
    "\n",
    "# Conditional coverage for subgroup==1\n",
    "cond_coverage = {\n",
    "    g: cp_groups_df.loc[cp_groups_df[g]==1, 'covered'].mean()\n",
    "    for g in subgroups\n",
    "}"
   ]
  },
  {
   "cell_type": "code",
   "execution_count": 56,
   "id": "1e348fb1-b9c3-45bc-ba23-f016827a7e0d",
   "metadata": {
    "execution": {
     "iopub.execute_input": "2025-08-05T14:50:06.335289Z",
     "iopub.status.busy": "2025-08-05T14:50:06.334464Z",
     "iopub.status.idle": "2025-08-05T14:50:06.342486Z",
     "shell.execute_reply": "2025-08-05T14:50:06.341496Z"
    },
    "papermill": {
     "duration": 0.030687,
     "end_time": "2025-08-05T14:50:06.344135",
     "exception": false,
     "start_time": "2025-08-05T14:50:06.313448",
     "status": "completed"
    },
    "tags": []
   },
   "outputs": [
    {
     "data": {
      "text/plain": [
       "{'frau1': 0.9111470548591455,\n",
       " 'nongerman': 0.9103463762420704,\n",
       " 'nongerman_male': 0.9257858236512654,\n",
       " 'nongerman_female': 0.8847988077496274}"
      ]
     },
     "execution_count": 56,
     "metadata": {},
     "output_type": "execute_result"
    }
   ],
   "source": [
    "cond_coverage"
   ]
  },
  {
   "cell_type": "code",
   "execution_count": 57,
   "id": "f5093324-c3dd-4d63-bc4c-8d945e5c8bbb",
   "metadata": {
    "execution": {
     "iopub.execute_input": "2025-08-05T14:50:06.385460Z",
     "iopub.status.busy": "2025-08-05T14:50:06.384916Z",
     "iopub.status.idle": "2025-08-05T14:50:06.392209Z",
     "shell.execute_reply": "2025-08-05T14:50:06.391058Z"
    },
    "papermill": {
     "duration": 0.029467,
     "end_time": "2025-08-05T14:50:06.393869",
     "exception": false,
     "start_time": "2025-08-05T14:50:06.364402",
     "status": "completed"
    },
    "tags": []
   },
   "outputs": [],
   "source": [
    "for subgroup, cov in cond_coverage.items():\n",
    "    cp_metrics_df[f\"cov_{subgroup}\"] = cov"
   ]
  },
  {
   "cell_type": "code",
   "execution_count": 58,
   "id": "6e872e10-dbe5-49e8-b554-5030c98ff75d",
   "metadata": {
    "execution": {
     "iopub.execute_input": "2025-08-05T14:50:06.435812Z",
     "iopub.status.busy": "2025-08-05T14:50:06.435144Z",
     "iopub.status.idle": "2025-08-05T14:50:06.453397Z",
     "shell.execute_reply": "2025-08-05T14:50:06.452249Z"
    },
    "papermill": {
     "duration": 0.040276,
     "end_time": "2025-08-05T14:50:06.454964",
     "exception": false,
     "start_time": "2025-08-05T14:50:06.414688",
     "status": "completed"
    },
    "tags": []
   },
   "outputs": [
    {
     "data": {
      "text/html": [
       "<div>\n",
       "<style scoped>\n",
       "    .dataframe tbody tr th:only-of-type {\n",
       "        vertical-align: middle;\n",
       "    }\n",
       "\n",
       "    .dataframe tbody tr th {\n",
       "        vertical-align: top;\n",
       "    }\n",
       "\n",
       "    .dataframe thead th {\n",
       "        text-align: right;\n",
       "    }\n",
       "</style>\n",
       "<table border=\"1\" class=\"dataframe\">\n",
       "  <thead>\n",
       "    <tr style=\"text-align: right;\">\n",
       "      <th></th>\n",
       "      <th>universe_id</th>\n",
       "      <th>universe_training_year</th>\n",
       "      <th>universe_training_size</th>\n",
       "      <th>universe_scale</th>\n",
       "      <th>universe_model</th>\n",
       "      <th>universe_exclude_features</th>\n",
       "      <th>universe_exclude_subgroups</th>\n",
       "      <th>q_hat</th>\n",
       "      <th>coverage</th>\n",
       "      <th>avg_size</th>\n",
       "      <th>cov_frau1</th>\n",
       "      <th>cov_nongerman</th>\n",
       "      <th>cov_nongerman_male</th>\n",
       "      <th>cov_nongerman_female</th>\n",
       "    </tr>\n",
       "  </thead>\n",
       "  <tbody>\n",
       "    <tr>\n",
       "      <th>0</th>\n",
       "      <td>5174d50927a6b3da0327a1cf44d995a4</td>\n",
       "      <td>2012_14</td>\n",
       "      <td>25k</td>\n",
       "      <td>scale</td>\n",
       "      <td>penalized_logreg</td>\n",
       "      <td>nationality-sex</td>\n",
       "      <td>keep-all</td>\n",
       "      <td>0.665086</td>\n",
       "      <td>0.911794</td>\n",
       "      <td>1.125003</td>\n",
       "      <td>0.911147</td>\n",
       "      <td>0.910346</td>\n",
       "      <td>0.925786</td>\n",
       "      <td>0.884799</td>\n",
       "    </tr>\n",
       "  </tbody>\n",
       "</table>\n",
       "</div>"
      ],
      "text/plain": [
       "                        universe_id universe_training_year  \\\n",
       "0  5174d50927a6b3da0327a1cf44d995a4                2012_14   \n",
       "\n",
       "  universe_training_size universe_scale    universe_model  \\\n",
       "0                    25k          scale  penalized_logreg   \n",
       "\n",
       "  universe_exclude_features universe_exclude_subgroups     q_hat  coverage  \\\n",
       "0           nationality-sex                   keep-all  0.665086  0.911794   \n",
       "\n",
       "   avg_size  cov_frau1  cov_nongerman  cov_nongerman_male  \\\n",
       "0  1.125003   0.911147       0.910346            0.925786   \n",
       "\n",
       "   cov_nongerman_female  \n",
       "0              0.884799  "
      ]
     },
     "execution_count": 58,
     "metadata": {},
     "output_type": "execute_result"
    }
   ],
   "source": [
    "cp_metrics_df"
   ]
  },
  {
   "cell_type": "markdown",
   "id": "33774451",
   "metadata": {
    "papermill": {
     "duration": 0.020018,
     "end_time": "2025-08-05T14:50:06.494756",
     "exception": false,
     "start_time": "2025-08-05T14:50:06.474738",
     "status": "completed"
    },
    "tags": []
   },
   "source": [
    "# (Fairness) Metrics"
   ]
  },
  {
   "cell_type": "code",
   "execution_count": 59,
   "id": "debc5d62",
   "metadata": {
    "execution": {
     "iopub.execute_input": "2025-08-05T14:50:06.537477Z",
     "iopub.status.busy": "2025-08-05T14:50:06.536584Z",
     "iopub.status.idle": "2025-08-05T14:50:06.557349Z",
     "shell.execute_reply": "2025-08-05T14:50:06.556403Z"
    },
    "papermill": {
     "duration": 0.043242,
     "end_time": "2025-08-05T14:50:06.558838",
     "exception": false,
     "start_time": "2025-08-05T14:50:06.515596",
     "status": "completed"
    },
    "tags": []
   },
   "outputs": [],
   "source": [
    "# do I need to include maxdeutsch1.missing?\n",
    "\n",
    "import numpy as np\n",
    "\n",
    "colname_to_bin = \"maxdeutsch1\"\n",
    "majority_value = org_train[colname_to_bin].mode()[0]\n",
    "\n",
    "org_test[\"majmin\"] = np.where(org_test[colname_to_bin] == majority_value, \"majority\", \"minority\")"
   ]
  },
  {
   "cell_type": "code",
   "execution_count": 60,
   "id": "06a50de5",
   "metadata": {
    "execution": {
     "iopub.execute_input": "2025-08-05T14:50:06.602040Z",
     "iopub.status.busy": "2025-08-05T14:50:06.601398Z",
     "iopub.status.idle": "2025-08-05T14:50:09.218222Z",
     "shell.execute_reply": "2025-08-05T14:50:09.217328Z"
    },
    "papermill": {
     "duration": 2.639716,
     "end_time": "2025-08-05T14:50:09.220042",
     "exception": false,
     "start_time": "2025-08-05T14:50:06.580326",
     "status": "completed"
    },
    "tags": []
   },
   "outputs": [],
   "source": [
    "example_universe = universe.copy()\n",
    "example_universe[\"cutoff\"] = example_universe[\"cutoff\"][0]\n",
    "example_universe[\"eval_fairness_grouping\"] = example_universe[\"eval_fairness_grouping\"][0]\n",
    "fairness_dict, metric_frame = universe_analysis.compute_metrics(\n",
    "    example_universe,\n",
    "    y_pred_prob=probs_test,\n",
    "    y_test=y_true,\n",
    "    org_test=org_test,\n",
    ")"
   ]
  },
  {
   "cell_type": "markdown",
   "id": "f95d4e02",
   "metadata": {
    "papermill": {
     "duration": 0.020886,
     "end_time": "2025-08-05T14:50:09.262048",
     "exception": false,
     "start_time": "2025-08-05T14:50:09.241162",
     "status": "completed"
    },
    "tags": []
   },
   "source": [
    "# Overall"
   ]
  },
  {
   "cell_type": "markdown",
   "id": "bdee4871",
   "metadata": {
    "papermill": {
     "duration": 0.020693,
     "end_time": "2025-08-05T14:50:09.302968",
     "exception": false,
     "start_time": "2025-08-05T14:50:09.282275",
     "status": "completed"
    },
    "tags": []
   },
   "source": [
    "Fairness\n",
    "Main fairness target: Equalized Odds. Seems to be a better fit than equal opportunity, since we're not only interested in Y = 1. Seems to be a better fit than demographic parity, since we also care about accuracy, not just equal distribution of preds.\n",
    "\n",
    "Pick column for computation of fairness metrics\n",
    "\n",
    "Performance\n",
    "Overall performance measures, most interesting in relation to the measures split by group below"
   ]
  },
  {
   "cell_type": "code",
   "execution_count": 61,
   "id": "c4e067c6",
   "metadata": {
    "execution": {
     "iopub.execute_input": "2025-08-05T14:50:09.346001Z",
     "iopub.status.busy": "2025-08-05T14:50:09.345298Z",
     "iopub.status.idle": "2025-08-05T14:50:09.353776Z",
     "shell.execute_reply": "2025-08-05T14:50:09.352789Z"
    },
    "papermill": {
     "duration": 0.031811,
     "end_time": "2025-08-05T14:50:09.355615",
     "exception": false,
     "start_time": "2025-08-05T14:50:09.323804",
     "status": "completed"
    },
    "tags": []
   },
   "outputs": [
    {
     "data": {
      "text/plain": [
       "accuracy                   0.225426\n",
       "balanced accuracy          0.550978\n",
       "f1                         0.246729\n",
       "precision                  0.140948\n",
       "false positive rate        0.886921\n",
       "false negative rate        0.011123\n",
       "selection rate             0.900000\n",
       "count                  89710.000000\n",
       "dtype: float64"
      ]
     },
     "execution_count": 61,
     "metadata": {},
     "output_type": "execute_result"
    }
   ],
   "source": [
    "metric_frame.overall"
   ]
  },
  {
   "cell_type": "markdown",
   "id": "e968fe9d",
   "metadata": {
    "papermill": {
     "duration": 0.020099,
     "end_time": "2025-08-05T14:50:09.397609",
     "exception": false,
     "start_time": "2025-08-05T14:50:09.377510",
     "status": "completed"
    },
    "tags": []
   },
   "source": [
    "By Group"
   ]
  },
  {
   "cell_type": "code",
   "execution_count": 62,
   "id": "ec325bce",
   "metadata": {
    "execution": {
     "iopub.execute_input": "2025-08-05T14:50:09.440951Z",
     "iopub.status.busy": "2025-08-05T14:50:09.440239Z",
     "iopub.status.idle": "2025-08-05T14:50:09.456049Z",
     "shell.execute_reply": "2025-08-05T14:50:09.455037Z"
    },
    "papermill": {
     "duration": 0.03883,
     "end_time": "2025-08-05T14:50:09.457915",
     "exception": false,
     "start_time": "2025-08-05T14:50:09.419085",
     "status": "completed"
    },
    "tags": []
   },
   "outputs": [
    {
     "data": {
      "text/html": [
       "<div>\n",
       "<style scoped>\n",
       "    .dataframe tbody tr th:only-of-type {\n",
       "        vertical-align: middle;\n",
       "    }\n",
       "\n",
       "    .dataframe tbody tr th {\n",
       "        vertical-align: top;\n",
       "    }\n",
       "\n",
       "    .dataframe thead th {\n",
       "        text-align: right;\n",
       "    }\n",
       "</style>\n",
       "<table border=\"1\" class=\"dataframe\">\n",
       "  <thead>\n",
       "    <tr style=\"text-align: right;\">\n",
       "      <th></th>\n",
       "      <th>accuracy</th>\n",
       "      <th>balanced accuracy</th>\n",
       "      <th>f1</th>\n",
       "      <th>precision</th>\n",
       "      <th>false positive rate</th>\n",
       "      <th>false negative rate</th>\n",
       "      <th>selection rate</th>\n",
       "      <th>count</th>\n",
       "    </tr>\n",
       "    <tr>\n",
       "      <th>majmin</th>\n",
       "      <th></th>\n",
       "      <th></th>\n",
       "      <th></th>\n",
       "      <th></th>\n",
       "      <th></th>\n",
       "      <th></th>\n",
       "      <th></th>\n",
       "      <th></th>\n",
       "    </tr>\n",
       "  </thead>\n",
       "  <tbody>\n",
       "    <tr>\n",
       "      <th>majority</th>\n",
       "      <td>0.247362</td>\n",
       "      <td>0.561189</td>\n",
       "      <td>0.257516</td>\n",
       "      <td>0.148058</td>\n",
       "      <td>0.865367</td>\n",
       "      <td>0.012254</td>\n",
       "      <td>0.881538</td>\n",
       "      <td>69170.0</td>\n",
       "    </tr>\n",
       "    <tr>\n",
       "      <th>minority</th>\n",
       "      <td>0.151558</td>\n",
       "      <td>0.517560</td>\n",
       "      <td>0.212553</td>\n",
       "      <td>0.119010</td>\n",
       "      <td>0.958122</td>\n",
       "      <td>0.006757</td>\n",
       "      <td>0.962171</td>\n",
       "      <td>20540.0</td>\n",
       "    </tr>\n",
       "  </tbody>\n",
       "</table>\n",
       "</div>"
      ],
      "text/plain": [
       "          accuracy  balanced accuracy        f1  precision  \\\n",
       "majmin                                                       \n",
       "majority  0.247362           0.561189  0.257516   0.148058   \n",
       "minority  0.151558           0.517560  0.212553   0.119010   \n",
       "\n",
       "          false positive rate  false negative rate  selection rate    count  \n",
       "majmin                                                                       \n",
       "majority             0.865367             0.012254        0.881538  69170.0  \n",
       "minority             0.958122             0.006757        0.962171  20540.0  "
      ]
     },
     "execution_count": 62,
     "metadata": {},
     "output_type": "execute_result"
    }
   ],
   "source": [
    "metric_frame.by_group"
   ]
  },
  {
   "cell_type": "code",
   "execution_count": 63,
   "id": "a9ddbe63",
   "metadata": {
    "execution": {
     "iopub.execute_input": "2025-08-05T14:50:09.506689Z",
     "iopub.status.busy": "2025-08-05T14:50:09.506126Z",
     "iopub.status.idle": "2025-08-05T14:50:11.927359Z",
     "shell.execute_reply": "2025-08-05T14:50:11.926369Z"
    },
    "papermill": {
     "duration": 2.446699,
     "end_time": "2025-08-05T14:50:11.929029",
     "exception": false,
     "start_time": "2025-08-05T14:50:09.482330",
     "status": "completed"
    },
    "tags": []
   },
   "outputs": [
    {
     "data": {
      "text/plain": [
       "array([[<Axes: title={'center': 'accuracy'}, xlabel='majmin'>,\n",
       "        <Axes: title={'center': 'balanced accuracy'}, xlabel='majmin'>,\n",
       "        <Axes: title={'center': 'f1'}, xlabel='majmin'>],\n",
       "       [<Axes: title={'center': 'precision'}, xlabel='majmin'>,\n",
       "        <Axes: title={'center': 'false positive rate'}, xlabel='majmin'>,\n",
       "        <Axes: title={'center': 'false negative rate'}, xlabel='majmin'>],\n",
       "       [<Axes: title={'center': 'selection rate'}, xlabel='majmin'>,\n",
       "        <Axes: title={'center': 'count'}, xlabel='majmin'>,\n",
       "        <Axes: xlabel='majmin'>]], dtype=object)"
      ]
     },
     "execution_count": 63,
     "metadata": {},
     "output_type": "execute_result"
    },
    {
     "data": {
      "image/png": "[encoded data removed]",
      "text/plain": [
       "<Figure size 1200x800 with 9 Axes>"
      ]
     },
     "metadata": {},
     "output_type": "display_data"
    }
   ],
   "source": [
    "# In a graphic\n",
    "metric_frame.by_group.plot.bar(\n",
    "    subplots=True,\n",
    "    layout=[3, 3],\n",
    "    legend=False,\n",
    "    figsize=[12, 8],\n",
    "    title=\"Show all metrics\",\n",
    ")"
   ]
  },
  {
   "cell_type": "markdown",
   "id": "f57a0bac",
   "metadata": {
    "papermill": {
     "duration": 0.012949,
     "end_time": "2025-08-05T14:50:11.964468",
     "exception": false,
     "start_time": "2025-08-05T14:50:11.951519",
     "status": "completed"
    },
    "tags": []
   },
   "source": [
    "# Final Output"
   ]
  },
  {
   "cell_type": "code",
   "execution_count": 64,
   "id": "96d280a3",
   "metadata": {
    "execution": {
     "iopub.execute_input": "2025-08-05T14:50:11.991765Z",
     "iopub.status.busy": "2025-08-05T14:50:11.991134Z",
     "iopub.status.idle": "2025-08-05T14:50:11.998413Z",
     "shell.execute_reply": "2025-08-05T14:50:11.997657Z"
    },
    "papermill": {
     "duration": 0.022566,
     "end_time": "2025-08-05T14:50:11.999597",
     "exception": false,
     "start_time": "2025-08-05T14:50:11.977031",
     "status": "completed"
    },
    "tags": []
   },
   "outputs": [
    {
     "data": {
      "text/plain": [
       "4"
      ]
     },
     "execution_count": 64,
     "metadata": {},
     "output_type": "execute_result"
    }
   ],
   "source": [
    "sub_universes = universe_analysis.generate_sub_universes()\n",
    "len(sub_universes)"
   ]
  },
  {
   "cell_type": "code",
   "execution_count": 65,
   "id": "92adf7ba",
   "metadata": {
    "execution": {
     "iopub.execute_input": "2025-08-05T14:50:12.026895Z",
     "iopub.status.busy": "2025-08-05T14:50:12.026019Z",
     "iopub.status.idle": "2025-08-05T14:50:12.114531Z",
     "shell.execute_reply": "2025-08-05T14:50:12.113692Z"
    },
    "papermill": {
     "duration": 0.103876,
     "end_time": "2025-08-05T14:50:12.116454",
     "exception": false,
     "start_time": "2025-08-05T14:50:12.012578",
     "status": "completed"
    },
    "tags": []
   },
   "outputs": [],
   "source": [
    "def filter_sub_universe_data(sub_universe, org_test):\n",
    "    # Keep all rows — no filtering\n",
    "    keep_rows_mask = np.ones(org_test.shape[0], dtype=bool)\n",
    "\n",
    "    print(f\"[INFO] Keeping all rows: {keep_rows_mask.sum()} rows retained.\")\n",
    "    return keep_rows_mask"
   ]
  },
  {
   "cell_type": "code",
   "execution_count": 66,
   "id": "4a759155",
   "metadata": {
    "execution": {
     "iopub.execute_input": "2025-08-05T14:50:12.166168Z",
     "iopub.status.busy": "2025-08-05T14:50:12.165676Z",
     "iopub.status.idle": "2025-08-05T14:50:19.328117Z",
     "shell.execute_reply": "2025-08-05T14:50:19.327115Z"
    },
    "papermill": {
     "duration": 7.189843,
     "end_time": "2025-08-05T14:50:19.329936",
     "exception": false,
     "start_time": "2025-08-05T14:50:12.140093",
     "status": "completed"
    },
    "tags": []
   },
   "outputs": [
    {
     "name": "stdout",
     "output_type": "stream",
     "text": [
      "Stopping execution_time clock.\n",
      "[INFO] Keeping all rows: 89710 rows retained.\n"
     ]
    },
    {
     "name": "stdout",
     "output_type": "stream",
     "text": [
      "[INFO] Keeping all rows: 89710 rows retained.\n"
     ]
    },
    {
     "name": "stdout",
     "output_type": "stream",
     "text": [
      "[INFO] Keeping all rows: 89710 rows retained.\n"
     ]
    },
    {
     "name": "stdout",
     "output_type": "stream",
     "text": [
      "[INFO] Keeping all rows: 89710 rows retained.\n"
     ]
    },
    {
     "data": {
      "text/html": [
       "<div>\n",
       "<style scoped>\n",
       "    .dataframe tbody tr th:only-of-type {\n",
       "        vertical-align: middle;\n",
       "    }\n",
       "\n",
       "    .dataframe tbody tr th {\n",
       "        vertical-align: top;\n",
       "    }\n",
       "\n",
       "    .dataframe thead th {\n",
       "        text-align: right;\n",
       "    }\n",
       "</style>\n",
       "<table border=\"1\" class=\"dataframe\">\n",
       "  <thead>\n",
       "    <tr style=\"text-align: right;\">\n",
       "      <th></th>\n",
       "      <th>run_no</th>\n",
       "      <th>universe_id</th>\n",
       "      <th>universe_settings</th>\n",
       "      <th>execution_time</th>\n",
       "      <th>test_size_n</th>\n",
       "      <th>test_size_frac</th>\n",
       "      <th>fair_main_equalized_odds_difference</th>\n",
       "      <th>fair_main_equalized_odds_ratio</th>\n",
       "      <th>fair_main_demographic_parity_difference</th>\n",
       "      <th>fair_main_demographic_parity_ratio</th>\n",
       "      <th>...</th>\n",
       "      <th>perf_grp_precision_0</th>\n",
       "      <th>perf_grp_precision_1</th>\n",
       "      <th>perf_grp_false positive rate_0</th>\n",
       "      <th>perf_grp_false positive rate_1</th>\n",
       "      <th>perf_grp_false negative rate_0</th>\n",
       "      <th>perf_grp_false negative rate_1</th>\n",
       "      <th>perf_grp_selection rate_0</th>\n",
       "      <th>perf_grp_selection rate_1</th>\n",
       "      <th>perf_grp_count_0</th>\n",
       "      <th>perf_grp_count_1</th>\n",
       "    </tr>\n",
       "  </thead>\n",
       "  <tbody>\n",
       "    <tr>\n",
       "      <th>0</th>\n",
       "      <td>15</td>\n",
       "      <td>5174d50927a6b3da0327a1cf44d995a4</td>\n",
       "      <td>{\"cutoff\": \"quantile_0.1\", \"eval_fairness_grou...</td>\n",
       "      <td>24.855847</td>\n",
       "      <td>89710</td>\n",
       "      <td>1.0</td>\n",
       "      <td>0.092755</td>\n",
       "      <td>0.903191</td>\n",
       "      <td>0.080633</td>\n",
       "      <td>0.916197</td>\n",
       "      <td>...</td>\n",
       "      <td>NaN</td>\n",
       "      <td>NaN</td>\n",
       "      <td>NaN</td>\n",
       "      <td>NaN</td>\n",
       "      <td>NaN</td>\n",
       "      <td>NaN</td>\n",
       "      <td>NaN</td>\n",
       "      <td>NaN</td>\n",
       "      <td>NaN</td>\n",
       "      <td>NaN</td>\n",
       "    </tr>\n",
       "    <tr>\n",
       "      <th>0</th>\n",
       "      <td>15</td>\n",
       "      <td>5174d50927a6b3da0327a1cf44d995a4</td>\n",
       "      <td>{\"cutoff\": \"quantile_0.1\", \"eval_fairness_grou...</td>\n",
       "      <td>24.855847</td>\n",
       "      <td>89710</td>\n",
       "      <td>1.0</td>\n",
       "      <td>0.092755</td>\n",
       "      <td>0.903191</td>\n",
       "      <td>0.080633</td>\n",
       "      <td>0.916197</td>\n",
       "      <td>...</td>\n",
       "      <td>0.119010</td>\n",
       "      <td>0.148058</td>\n",
       "      <td>0.958122</td>\n",
       "      <td>0.865367</td>\n",
       "      <td>0.006757</td>\n",
       "      <td>0.012254</td>\n",
       "      <td>0.962171</td>\n",
       "      <td>0.881538</td>\n",
       "      <td>20540.0</td>\n",
       "      <td>69170.0</td>\n",
       "    </tr>\n",
       "    <tr>\n",
       "      <th>0</th>\n",
       "      <td>15</td>\n",
       "      <td>5174d50927a6b3da0327a1cf44d995a4</td>\n",
       "      <td>{\"cutoff\": \"quantile_0.25\", \"eval_fairness_gro...</td>\n",
       "      <td>24.855847</td>\n",
       "      <td>89710</td>\n",
       "      <td>1.0</td>\n",
       "      <td>0.155502</td>\n",
       "      <td>0.814800</td>\n",
       "      <td>0.134564</td>\n",
       "      <td>0.842384</td>\n",
       "      <td>...</td>\n",
       "      <td>NaN</td>\n",
       "      <td>NaN</td>\n",
       "      <td>NaN</td>\n",
       "      <td>NaN</td>\n",
       "      <td>NaN</td>\n",
       "      <td>NaN</td>\n",
       "      <td>NaN</td>\n",
       "      <td>NaN</td>\n",
       "      <td>NaN</td>\n",
       "      <td>NaN</td>\n",
       "    </tr>\n",
       "    <tr>\n",
       "      <th>0</th>\n",
       "      <td>15</td>\n",
       "      <td>5174d50927a6b3da0327a1cf44d995a4</td>\n",
       "      <td>{\"cutoff\": \"quantile_0.25\", \"eval_fairness_gro...</td>\n",
       "      <td>24.855847</td>\n",
       "      <td>89710</td>\n",
       "      <td>1.0</td>\n",
       "      <td>0.155502</td>\n",
       "      <td>0.814800</td>\n",
       "      <td>0.134564</td>\n",
       "      <td>0.842384</td>\n",
       "      <td>...</td>\n",
       "      <td>0.129904</td>\n",
       "      <td>0.174426</td>\n",
       "      <td>0.839643</td>\n",
       "      <td>0.684141</td>\n",
       "      <td>0.038007</td>\n",
       "      <td>0.050656</td>\n",
       "      <td>0.853749</td>\n",
       "      <td>0.719185</td>\n",
       "      <td>20540.0</td>\n",
       "      <td>69170.0</td>\n",
       "    </tr>\n",
       "  </tbody>\n",
       "</table>\n",
       "<p>4 rows × 50 columns</p>\n",
       "</div>"
      ],
      "text/plain": [
       "  run_no                       universe_id  \\\n",
       "0     15  5174d50927a6b3da0327a1cf44d995a4   \n",
       "0     15  5174d50927a6b3da0327a1cf44d995a4   \n",
       "0     15  5174d50927a6b3da0327a1cf44d995a4   \n",
       "0     15  5174d50927a6b3da0327a1cf44d995a4   \n",
       "\n",
       "                                   universe_settings  execution_time  \\\n",
       "0  {\"cutoff\": \"quantile_0.1\", \"eval_fairness_grou...       24.855847   \n",
       "0  {\"cutoff\": \"quantile_0.1\", \"eval_fairness_grou...       24.855847   \n",
       "0  {\"cutoff\": \"quantile_0.25\", \"eval_fairness_gro...       24.855847   \n",
       "0  {\"cutoff\": \"quantile_0.25\", \"eval_fairness_gro...       24.855847   \n",
       "\n",
       "   test_size_n  test_size_frac  fair_main_equalized_odds_difference  \\\n",
       "0        89710             1.0                             0.092755   \n",
       "0        89710             1.0                             0.092755   \n",
       "0        89710             1.0                             0.155502   \n",
       "0        89710             1.0                             0.155502   \n",
       "\n",
       "   fair_main_equalized_odds_ratio  fair_main_demographic_parity_difference  \\\n",
       "0                        0.903191                                 0.080633   \n",
       "0                        0.903191                                 0.080633   \n",
       "0                        0.814800                                 0.134564   \n",
       "0                        0.814800                                 0.134564   \n",
       "\n",
       "   fair_main_demographic_parity_ratio  ...  perf_grp_precision_0  \\\n",
       "0                            0.916197  ...                   NaN   \n",
       "0                            0.916197  ...              0.119010   \n",
       "0                            0.842384  ...                   NaN   \n",
       "0                            0.842384  ...              0.129904   \n",
       "\n",
       "   perf_grp_precision_1  perf_grp_false positive rate_0  \\\n",
       "0                   NaN                             NaN   \n",
       "0              0.148058                        0.958122   \n",
       "0                   NaN                             NaN   \n",
       "0              0.174426                        0.839643   \n",
       "\n",
       "   perf_grp_false positive rate_1  perf_grp_false negative rate_0  \\\n",
       "0                             NaN                             NaN   \n",
       "0                        0.865367                        0.006757   \n",
       "0                             NaN                             NaN   \n",
       "0                        0.684141                        0.038007   \n",
       "\n",
       "   perf_grp_false negative rate_1  perf_grp_selection rate_0  \\\n",
       "0                             NaN                        NaN   \n",
       "0                        0.012254                   0.962171   \n",
       "0                             NaN                        NaN   \n",
       "0                        0.050656                   0.853749   \n",
       "\n",
       "   perf_grp_selection rate_1  perf_grp_count_0  perf_grp_count_1  \n",
       "0                        NaN               NaN               NaN  \n",
       "0                   0.881538           20540.0           69170.0  \n",
       "0                        NaN               NaN               NaN  \n",
       "0                   0.719185           20540.0           69170.0  \n",
       "\n",
       "[4 rows x 50 columns]"
      ]
     },
     "execution_count": 66,
     "metadata": {},
     "output_type": "execute_result"
    }
   ],
   "source": [
    "final_output = universe_analysis.generate_final_output(\n",
    "    y_pred_prob=probs_test,\n",
    "    y_test=y_true,\n",
    "    org_test=org_test,\n",
    "    filter_data=filter_sub_universe_data,\n",
    "    cp_metrics_df=cp_metrics_df,\n",
    "    save=True,\n",
    ")\n",
    "final_output"
   ]
  }
 ],
 "metadata": {
  "celltoolbar": "Tags",
  "kernelspec": {
   "display_name": "Python (CMA Fairness)",
   "language": "python",
   "name": "cma_fair_env"
  },
  "language_info": {
   "codemirror_mode": {
    "name": "ipython",
    "version": 3
   },
   "file_extension": ".py",
   "mimetype": "text/x-python",
   "name": "python",
   "nbconvert_exporter": "python",
   "pygments_lexer": "ipython3",
   "version": "3.10.12"
  },
  "papermill": {
   "default_parameters": {},
   "duration": 35.655746,
   "end_time": "2025-08-05T14:50:20.082599",
   "environment_variables": {},
   "exception": null,
   "input_path": "universe_analysis.ipynb",
   "output_path": "output/runs/15/notebooks/m_15-5174d50927a6b3da0327a1cf44d995a4.ipynb",
   "parameters": {
    "output_dir": "output",
    "run_no": "15",
    "seed": "2023",
    "universe": "{\"cutoff\": [\"quantile_0.1\", \"quantile_0.25\"], \"eval_fairness_grouping\": [\"majority-minority\", \"nationality-all\"], \"exclude_features\": \"nationality-sex\", \"exclude_subgroups\": \"keep-all\", \"model\": \"penalized_logreg\", \"scale\": \"scale\", \"training_size\": \"25k\", \"training_year\": \"2012_14\"}",
    "universe_id": "5174d50927a6b3da0327a1cf44d995a4"
   },
   "start_time": "2025-08-05T14:49:44.426853",
   "version": "2.6.0"
  }
 },
 "nbformat": 4,
 "nbformat_minor": 5
}