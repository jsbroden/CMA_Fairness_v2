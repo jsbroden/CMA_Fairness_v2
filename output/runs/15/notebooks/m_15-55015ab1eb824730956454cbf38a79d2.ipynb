{
 "cells": [
  {
   "cell_type": "code",
   "execution_count": 1,
   "id": "f159f837-637b-42ba-96b5-ec9a68c44524",
   "metadata": {
    "execution": {
     "iopub.execute_input": "2025-08-05T14:48:04.961184Z",
     "iopub.status.busy": "2025-08-05T14:48:04.960604Z",
     "iopub.status.idle": "2025-08-05T14:48:04.974294Z",
     "shell.execute_reply": "2025-08-05T14:48:04.973161Z"
    },
    "papermill": {
     "duration": 0.035107,
     "end_time": "2025-08-05T14:48:04.976073",
     "exception": false,
     "start_time": "2025-08-05T14:48:04.940966",
     "status": "completed"
    },
    "tags": []
   },
   "outputs": [
    {
     "name": "stdout",
     "output_type": "stream",
     "text": [
      "/dss/dsshome1/0C/ra93lal2/cma/CMA_Fairness_v2\n"
     ]
    },
    {
     "name": "stderr",
     "output_type": "stream",
     "text": [
      "/dss/dsshome1/0C/ra93lal2/.local/share/virtualenvs/CMA_Fairness_v2-3j10GkSs/lib/python3.10/site-packages/IPython/core/magics/osm.py:393: UserWarning: This is now an optional IPython functionality, using bookmarks requires you to install the `pickleshare` library.\n",
      "  bkms = self.shell.db.get('bookmarks', {})\n",
      "/dss/dsshome1/0C/ra93lal2/.local/share/virtualenvs/CMA_Fairness_v2-3j10GkSs/lib/python3.10/site-packages/IPython/core/magics/osm.py:417: UserWarning: This is now an optional IPython functionality, setting dhist requires you to install the `pickleshare` library.\n",
      "  self.shell.db['dhist'] = compress_dhist(dhist)[-100:]\n"
     ]
    }
   ],
   "source": [
    "%cd ~/cma/CMA_Fairness_v2"
   ]
  },
  {
   "cell_type": "markdown",
   "id": "de2603b9",
   "metadata": {
    "papermill": {
     "duration": 0.009068,
     "end_time": "2025-08-05T14:48:05.002441",
     "exception": false,
     "start_time": "2025-08-05T14:48:04.993373",
     "status": "completed"
    },
    "tags": []
   },
   "source": [
    "The following cell holds the definition of our parameters, these values can be overriden by rendering the with e.g. the following command:\n",
    "\n",
    "papermill -p alpha 0.2 -p ratio 0.3 universe_analysis.ipynb output/test_run.ipynb"
   ]
  },
  {
   "cell_type": "code",
   "execution_count": 2,
   "id": "a80968a0-40bb-4fa9-85ef-2d5eefb01975",
   "metadata": {
    "execution": {
     "iopub.execute_input": "2025-08-05T14:48:05.020395Z",
     "iopub.status.busy": "2025-08-05T14:48:05.019970Z",
     "iopub.status.idle": "2025-08-05T14:48:05.025500Z",
     "shell.execute_reply": "2025-08-05T14:48:05.024752Z"
    },
    "papermill": {
     "duration": 0.016112,
     "end_time": "2025-08-05T14:48:05.026846",
     "exception": false,
     "start_time": "2025-08-05T14:48:05.010734",
     "status": "completed"
    },
    "tags": []
   },
   "outputs": [
    {
     "name": "stdout",
     "output_type": "stream",
     "text": [
      "Current working directory: /dss/dsshome1/0C/ra93lal2/cma/CMA_Fairness_v2\n"
     ]
    }
   ],
   "source": [
    "import os\n",
    "print(\"Current working directory:\", os.getcwd())"
   ]
  },
  {
   "cell_type": "code",
   "execution_count": 3,
   "id": "2dce4c03",
   "metadata": {
    "execution": {
     "iopub.execute_input": "2025-08-05T14:48:05.044819Z",
     "iopub.status.busy": "2025-08-05T14:48:05.044455Z",
     "iopub.status.idle": "2025-08-05T14:48:05.049057Z",
     "shell.execute_reply": "2025-08-05T14:48:05.048130Z"
    },
    "papermill": {
     "duration": 0.014971,
     "end_time": "2025-08-05T14:48:05.050737",
     "exception": false,
     "start_time": "2025-08-05T14:48:05.035766",
     "status": "completed"
    },
    "tags": [
     "parameters"
    ]
   },
   "outputs": [],
   "source": [
    "run_no = 0\n",
    "universe_id = \"test\"\n",
    "universe = {\n",
    "    \"training_size\": \"25k\", # \"25k\", \"5k\", \"1k\"\n",
    "    \"training_year\": \"2014\", # \"2014\", \"2012_14\", \"2010_14\"\n",
    "    \"scale\": \"scale\", # \"scale\", \"do-not-scale\",\n",
    "    \"model\": \"elasticnet\", # \"logreg\", \"penalized_logreg\", \"rf\", \"gbm\", \"elasticnet\"\n",
    "    \"cutoff\": [\"quantile_0.15\", \"quantile_0.30\"],\n",
    "    \"exclude_features\": \"age\", # \"none\", \"nationality\", \"sex\", \"nationality-sex\", \"age\"\n",
    "    \"exclude_subgroups\": \"keep-all\", # \"keep-all\", \"drop-non-german\"\n",
    "    \"eval_fairness_grouping\": [\"majority-minority\", \"nationality-all\"]\n",
    "}\n",
    "\n",
    "output_dir=\"./output\"\n",
    "seed=0"
   ]
  },
  {
   "cell_type": "code",
   "execution_count": 4,
   "id": "45733167",
   "metadata": {
    "execution": {
     "iopub.execute_input": "2025-08-05T14:48:05.084230Z",
     "iopub.status.busy": "2025-08-05T14:48:05.083605Z",
     "iopub.status.idle": "2025-08-05T14:48:05.088721Z",
     "shell.execute_reply": "2025-08-05T14:48:05.087794Z"
    },
    "papermill": {
     "duration": 0.023589,
     "end_time": "2025-08-05T14:48:05.090580",
     "exception": false,
     "start_time": "2025-08-05T14:48:05.066991",
     "status": "completed"
    },
    "tags": [
     "injected-parameters"
    ]
   },
   "outputs": [],
   "source": [
    "# Parameters\n",
    "universe_id = \"55015ab1eb824730956454cbf38a79d2\"\n",
    "run_no = \"15\"\n",
    "universe = \"{\\\"cutoff\\\": [\\\"quantile_0.1\\\", \\\"quantile_0.25\\\"], \\\"eval_fairness_grouping\\\": [\\\"majority-minority\\\", \\\"nationality-all\\\"], \\\"exclude_features\\\": \\\"nationality\\\", \\\"exclude_subgroups\\\": \\\"keep-all\\\", \\\"model\\\": \\\"logreg\\\", \\\"scale\\\": \\\"scale\\\", \\\"training_size\\\": \\\"25k\\\", \\\"training_year\\\": \\\"2012_14\\\"}\"\n",
    "output_dir = \"output\"\n",
    "seed = \"2023\"\n"
   ]
  },
  {
   "cell_type": "code",
   "execution_count": 5,
   "id": "1650acaf",
   "metadata": {
    "execution": {
     "iopub.execute_input": "2025-08-05T14:48:05.126618Z",
     "iopub.status.busy": "2025-08-05T14:48:05.125985Z",
     "iopub.status.idle": "2025-08-05T14:48:05.130705Z",
     "shell.execute_reply": "2025-08-05T14:48:05.129763Z"
    },
    "papermill": {
     "duration": 0.023816,
     "end_time": "2025-08-05T14:48:05.132361",
     "exception": false,
     "start_time": "2025-08-05T14:48:05.108545",
     "status": "completed"
    },
    "tags": []
   },
   "outputs": [],
   "source": [
    "import json\n",
    "if isinstance(universe, str):\n",
    "    universe = json.loads(universe)"
   ]
  },
  {
   "cell_type": "code",
   "execution_count": 6,
   "id": "16620c48",
   "metadata": {
    "execution": {
     "iopub.execute_input": "2025-08-05T14:48:05.167640Z",
     "iopub.status.busy": "2025-08-05T14:48:05.167019Z",
     "iopub.status.idle": "2025-08-05T14:48:05.210478Z",
     "shell.execute_reply": "2025-08-05T14:48:05.209566Z"
    },
    "papermill": {
     "duration": 0.062476,
     "end_time": "2025-08-05T14:48:05.212197",
     "exception": false,
     "start_time": "2025-08-05T14:48:05.149721",
     "status": "completed"
    },
    "tags": []
   },
   "outputs": [],
   "source": [
    "# Auto-reload the custom package\n",
    "%load_ext autoreload\n",
    "%autoreload 1\n",
    "%aimport fairness_multiverse"
   ]
  },
  {
   "cell_type": "code",
   "execution_count": 7,
   "id": "01c5c9f3",
   "metadata": {
    "execution": {
     "iopub.execute_input": "2025-08-05T14:48:05.246757Z",
     "iopub.status.busy": "2025-08-05T14:48:05.246225Z",
     "iopub.status.idle": "2025-08-05T14:48:06.912859Z",
     "shell.execute_reply": "2025-08-05T14:48:06.912080Z"
    },
    "papermill": {
     "duration": 1.685405,
     "end_time": "2025-08-05T14:48:06.914258",
     "exception": false,
     "start_time": "2025-08-05T14:48:05.228853",
     "status": "completed"
    },
    "tags": []
   },
   "outputs": [],
   "source": [
    "from fairness_multiverse.universe import UniverseAnalysis\n",
    "\n",
    "universe_analysis = UniverseAnalysis(\n",
    "    run_no = run_no,\n",
    "    universe_id = universe_id,\n",
    "    universe = universe,\n",
    "    output_dir=output_dir,\n",
    ")"
   ]
  },
  {
   "cell_type": "code",
   "execution_count": 8,
   "id": "106241f5",
   "metadata": {
    "execution": {
     "iopub.execute_input": "2025-08-05T14:48:06.949373Z",
     "iopub.status.busy": "2025-08-05T14:48:06.948889Z",
     "iopub.status.idle": "2025-08-05T14:48:06.955689Z",
     "shell.execute_reply": "2025-08-05T14:48:06.954833Z"
    },
    "papermill": {
     "duration": 0.044232,
     "end_time": "2025-08-05T14:48:06.969416",
     "exception": false,
     "start_time": "2025-08-05T14:48:06.925184",
     "status": "completed"
    },
    "tags": []
   },
   "outputs": [
    {
     "name": "stdout",
     "output_type": "stream",
     "text": [
      "Using Seed: 2023\n"
     ]
    }
   ],
   "source": [
    "import numpy as np\n",
    "parsed_seed = int(seed)\n",
    "np.random.seed(parsed_seed)\n",
    "print(f\"Using Seed: {parsed_seed}\")"
   ]
  },
  {
   "cell_type": "markdown",
   "id": "e0ebdc57",
   "metadata": {
    "papermill": {
     "duration": 0.017826,
     "end_time": "2025-08-05T14:48:07.010266",
     "exception": false,
     "start_time": "2025-08-05T14:48:06.992440",
     "status": "completed"
    },
    "tags": []
   },
   "source": [
    "# Loading Data"
   ]
  },
  {
   "cell_type": "code",
   "execution_count": 9,
   "id": "f0496b8a",
   "metadata": {
    "execution": {
     "iopub.execute_input": "2025-08-05T14:48:07.043740Z",
     "iopub.status.busy": "2025-08-05T14:48:07.043228Z",
     "iopub.status.idle": "2025-08-05T14:48:18.026160Z",
     "shell.execute_reply": "2025-08-05T14:48:18.025149Z"
    },
    "papermill": {
     "duration": 11.001133,
     "end_time": "2025-08-05T14:48:18.027579",
     "exception": false,
     "start_time": "2025-08-05T14:48:07.026446",
     "status": "completed"
    },
    "tags": []
   },
   "outputs": [
    {
     "name": "stdout",
     "output_type": "stream",
     "text": [
      "Loading SIAB data from cache: data/siab_cached.csv.gz\n"
     ]
    },
    {
     "name": "stdout",
     "output_type": "stream",
     "text": [
      "(643690, 164)\n"
     ]
    }
   ],
   "source": [
    "from pathlib import Path\n",
    "import pandas as pd\n",
    "\n",
    "# File paths\n",
    "raw_file = Path(\"data/raw/siab.csv\")\n",
    "cache_file = Path(\"data/siab_cached.csv.gz\")\n",
    "\n",
    "# Ensure cache directory exists\n",
    "cache_file.parent.mkdir(parents=True, exist_ok=True)\n",
    "\n",
    "# Load with simple caching\n",
    "if cache_file.exists():\n",
    "    print(f\"Loading SIAB data from cache: {cache_file}\")\n",
    "    siab = pd.read_csv(cache_file, compression='gzip')\n",
    "else:\n",
    "    print(f\"Cache not found. Reading raw SIAB data: {raw_file}\")\n",
    "    siab = pd.read_csv(raw_file)\n",
    "    siab.to_csv(cache_file, index=False, compression='gzip')\n",
    "    print(f\"Cached SIAB data to: {cache_file}\")\n",
    "\n",
    "print(siab.shape)"
   ]
  },
  {
   "cell_type": "code",
   "execution_count": 10,
   "id": "db0ca512-5f53-4dba-abdb-a2888bca41ba",
   "metadata": {
    "execution": {
     "iopub.execute_input": "2025-08-05T14:48:18.052502Z",
     "iopub.status.busy": "2025-08-05T14:48:18.051948Z",
     "iopub.status.idle": "2025-08-05T14:48:18.058472Z",
     "shell.execute_reply": "2025-08-05T14:48:18.057377Z"
    },
    "papermill": {
     "duration": 0.02043,
     "end_time": "2025-08-05T14:48:18.060396",
     "exception": false,
     "start_time": "2025-08-05T14:48:18.039966",
     "status": "completed"
    },
    "tags": []
   },
   "outputs": [],
   "source": [
    "#siab"
   ]
  },
  {
   "cell_type": "markdown",
   "id": "997051c5-15bd-4b69-9786-c3001a3ce484",
   "metadata": {
    "papermill": {
     "duration": 0.018266,
     "end_time": "2025-08-05T14:48:18.099030",
     "exception": false,
     "start_time": "2025-08-05T14:48:18.080764",
     "status": "completed"
    },
    "tags": []
   },
   "source": [
    "# Splitting Data and Setting Training Data Size"
   ]
  },
  {
   "cell_type": "code",
   "execution_count": 11,
   "id": "aea9c6ef-6f46-42c8-85eb-5a62025c1508",
   "metadata": {
    "execution": {
     "iopub.execute_input": "2025-08-05T14:48:18.138167Z",
     "iopub.status.busy": "2025-08-05T14:48:18.137478Z",
     "iopub.status.idle": "2025-08-05T14:48:18.794629Z",
     "shell.execute_reply": "2025-08-05T14:48:18.793791Z"
    },
    "papermill": {
     "duration": 0.679513,
     "end_time": "2025-08-05T14:48:18.796049",
     "exception": false,
     "start_time": "2025-08-05T14:48:18.116536",
     "status": "completed"
    },
    "tags": []
   },
   "outputs": [],
   "source": [
    "from fairness_multiverse.universe import sample_by_year_size\n",
    "\n",
    "siab_train = sample_by_year_size(siab,\n",
    "                               training_year=universe[\"training_year\"],\n",
    "                               training_size=universe[\"training_size\"])"
   ]
  },
  {
   "cell_type": "code",
   "execution_count": 12,
   "id": "8d3afb32-789d-442c-8d5d-9f5aa8dd2eed",
   "metadata": {
    "execution": {
     "iopub.execute_input": "2025-08-05T14:48:18.819043Z",
     "iopub.status.busy": "2025-08-05T14:48:18.818645Z",
     "iopub.status.idle": "2025-08-05T14:48:18.823734Z",
     "shell.execute_reply": "2025-08-05T14:48:18.822282Z"
    },
    "papermill": {
     "duration": 0.020539,
     "end_time": "2025-08-05T14:48:18.826185",
     "exception": false,
     "start_time": "2025-08-05T14:48:18.805646",
     "status": "completed"
    },
    "tags": []
   },
   "outputs": [],
   "source": [
    "#siab_train.shape"
   ]
  },
  {
   "cell_type": "code",
   "execution_count": 13,
   "id": "d582db68-1a4c-47fb-84fc-08518dc1975a",
   "metadata": {
    "execution": {
     "iopub.execute_input": "2025-08-05T14:48:18.847258Z",
     "iopub.status.busy": "2025-08-05T14:48:18.846429Z",
     "iopub.status.idle": "2025-08-05T14:48:18.850725Z",
     "shell.execute_reply": "2025-08-05T14:48:18.849908Z"
    },
    "papermill": {
     "duration": 0.015779,
     "end_time": "2025-08-05T14:48:18.852171",
     "exception": false,
     "start_time": "2025-08-05T14:48:18.836392",
     "status": "completed"
    },
    "tags": []
   },
   "outputs": [],
   "source": [
    "#display(siab_train.groupby(\"year\").size())"
   ]
  },
  {
   "cell_type": "code",
   "execution_count": 14,
   "id": "a561edb4-d032-42cb-8256-22eac1111c64",
   "metadata": {
    "execution": {
     "iopub.execute_input": "2025-08-05T14:48:18.871637Z",
     "iopub.status.busy": "2025-08-05T14:48:18.871359Z",
     "iopub.status.idle": "2025-08-05T14:48:19.048846Z",
     "shell.execute_reply": "2025-08-05T14:48:19.048056Z"
    },
    "papermill": {
     "duration": 0.188451,
     "end_time": "2025-08-05T14:48:19.050349",
     "exception": false,
     "start_time": "2025-08-05T14:48:18.861898",
     "status": "completed"
    },
    "tags": []
   },
   "outputs": [],
   "source": [
    "#siab_train = siab_s[siab_s.year < 2015]\n",
    "siab_calib = siab[siab.year == 2015]\n",
    "siab_test = siab[siab.year == 2016]"
   ]
  },
  {
   "cell_type": "code",
   "execution_count": 15,
   "id": "472de16f-c3db-4916-846b-1f0de9cf1746",
   "metadata": {
    "execution": {
     "iopub.execute_input": "2025-08-05T14:48:19.069642Z",
     "iopub.status.busy": "2025-08-05T14:48:19.069340Z",
     "iopub.status.idle": "2025-08-05T14:48:19.081939Z",
     "shell.execute_reply": "2025-08-05T14:48:19.080812Z"
    },
    "papermill": {
     "duration": 0.023847,
     "end_time": "2025-08-05T14:48:19.083744",
     "exception": false,
     "start_time": "2025-08-05T14:48:19.059897",
     "status": "completed"
    },
    "tags": []
   },
   "outputs": [],
   "source": [
    "X_train = siab_train.iloc[:,4:164]\n",
    "y_train = siab_train.iloc[:, [3]]"
   ]
  },
  {
   "cell_type": "code",
   "execution_count": 16,
   "id": "828c96af-f43a-4ed6-ba47-8ac73a47d56c",
   "metadata": {
    "execution": {
     "iopub.execute_input": "2025-08-05T14:48:19.104415Z",
     "iopub.status.busy": "2025-08-05T14:48:19.103701Z",
     "iopub.status.idle": "2025-08-05T14:48:19.133411Z",
     "shell.execute_reply": "2025-08-05T14:48:19.132544Z"
    },
    "papermill": {
     "duration": 0.040826,
     "end_time": "2025-08-05T14:48:19.134976",
     "exception": false,
     "start_time": "2025-08-05T14:48:19.094150",
     "status": "completed"
    },
    "tags": []
   },
   "outputs": [],
   "source": [
    "X_calib = siab_calib.iloc[:,4:164]\n",
    "y_calib = siab_calib.iloc[:, [3]]"
   ]
  },
  {
   "cell_type": "code",
   "execution_count": 17,
   "id": "c34be9c3-6bd6-476e-acd3-845840e303be",
   "metadata": {
    "execution": {
     "iopub.execute_input": "2025-08-05T14:48:19.155651Z",
     "iopub.status.busy": "2025-08-05T14:48:19.154981Z",
     "iopub.status.idle": "2025-08-05T14:48:19.203442Z",
     "shell.execute_reply": "2025-08-05T14:48:19.202538Z"
    },
    "papermill": {
     "duration": 0.05942,
     "end_time": "2025-08-05T14:48:19.204890",
     "exception": false,
     "start_time": "2025-08-05T14:48:19.145470",
     "status": "completed"
    },
    "tags": []
   },
   "outputs": [],
   "source": [
    "X_test = siab_test.iloc[:,4:164]\n",
    "y_true = siab_test.iloc[:, [3]]"
   ]
  },
  {
   "cell_type": "code",
   "execution_count": 18,
   "id": "e6c733c5",
   "metadata": {
    "execution": {
     "iopub.execute_input": "2025-08-05T14:48:19.230868Z",
     "iopub.status.busy": "2025-08-05T14:48:19.230490Z",
     "iopub.status.idle": "2025-08-05T14:48:19.327669Z",
     "shell.execute_reply": "2025-08-05T14:48:19.326884Z"
    },
    "papermill": {
     "duration": 0.114045,
     "end_time": "2025-08-05T14:48:19.329226",
     "exception": false,
     "start_time": "2025-08-05T14:48:19.215181",
     "status": "completed"
    },
    "tags": []
   },
   "outputs": [],
   "source": [
    "# Auxiliary data needed downstream in the pipeline\n",
    "\n",
    "org_train = X_train.copy()\n",
    "org_test = X_test.copy()\n",
    "org_calib = X_calib.copy()"
   ]
  },
  {
   "cell_type": "markdown",
   "id": "0a4a1b33",
   "metadata": {
    "papermill": {
     "duration": 0.008851,
     "end_time": "2025-08-05T14:48:19.347829",
     "exception": false,
     "start_time": "2025-08-05T14:48:19.338978",
     "status": "completed"
    },
    "tags": []
   },
   "source": [
    "# Preprocessing Data"
   ]
  },
  {
   "cell_type": "code",
   "execution_count": 19,
   "id": "ca879031",
   "metadata": {
    "execution": {
     "iopub.execute_input": "2025-08-05T14:48:19.379831Z",
     "iopub.status.busy": "2025-08-05T14:48:19.379554Z",
     "iopub.status.idle": "2025-08-05T14:48:19.385258Z",
     "shell.execute_reply": "2025-08-05T14:48:19.384141Z"
    },
    "papermill": {
     "duration": 0.029173,
     "end_time": "2025-08-05T14:48:19.387666",
     "exception": false,
     "start_time": "2025-08-05T14:48:19.358493",
     "status": "completed"
    },
    "tags": []
   },
   "outputs": [],
   "source": [
    "# EXCLUDE PROTECTED FEATURES\n",
    "# ----------------------\n",
    "# \"exclude_features\": \"none\", # \"nationality\", \"sex\", \"nationality-sex\"\n",
    "\n",
    "excluded_features = universe[\"exclude_features\"].split(\"-\") # split, e.g.: \"nationality-sex\" -> [\"nationality\", \"sex\"]\n",
    "excluded_features_dictionary = {\n",
    "    \"nationality\": [\"maxdeutsch1\", \"maxdeutsch.Missing.\"],\n",
    "    \"sex\": [\"frau1\"],\n",
    "    \"age\": [\"age\"],\n",
    "}"
   ]
  },
  {
   "cell_type": "code",
   "execution_count": 20,
   "id": "b745ac60",
   "metadata": {
    "execution": {
     "iopub.execute_input": "2025-08-05T14:48:19.418688Z",
     "iopub.status.busy": "2025-08-05T14:48:19.418275Z",
     "iopub.status.idle": "2025-08-05T14:48:19.422784Z",
     "shell.execute_reply": "2025-08-05T14:48:19.421951Z"
    },
    "papermill": {
     "duration": 0.01572,
     "end_time": "2025-08-05T14:48:19.424258",
     "exception": false,
     "start_time": "2025-08-05T14:48:19.408538",
     "status": "completed"
    },
    "tags": []
   },
   "outputs": [],
   "source": [
    "# Code nice names to column names\n",
    "\n",
    "excluded_features_columns = [\n",
    "    excluded_features_dictionary[f] for f in excluded_features if len(f) > 0 and f != \"none\"\n",
    "]"
   ]
  },
  {
   "cell_type": "code",
   "execution_count": 21,
   "id": "f84f73a2",
   "metadata": {
    "execution": {
     "iopub.execute_input": "2025-08-05T14:48:19.444109Z",
     "iopub.status.busy": "2025-08-05T14:48:19.443764Z",
     "iopub.status.idle": "2025-08-05T14:48:19.449106Z",
     "shell.execute_reply": "2025-08-05T14:48:19.448280Z"
    },
    "papermill": {
     "duration": 0.016508,
     "end_time": "2025-08-05T14:48:19.450644",
     "exception": false,
     "start_time": "2025-08-05T14:48:19.434136",
     "status": "completed"
    },
    "tags": []
   },
   "outputs": [],
   "source": [
    "from utils import flatten_once\n",
    "\n",
    "excluded_features_columns = flatten_once(excluded_features_columns)"
   ]
  },
  {
   "cell_type": "code",
   "execution_count": 22,
   "id": "884dea22",
   "metadata": {
    "execution": {
     "iopub.execute_input": "2025-08-05T14:48:19.470880Z",
     "iopub.status.busy": "2025-08-05T14:48:19.470376Z",
     "iopub.status.idle": "2025-08-05T14:48:19.484109Z",
     "shell.execute_reply": "2025-08-05T14:48:19.482959Z"
    },
    "papermill": {
     "duration": 0.025431,
     "end_time": "2025-08-05T14:48:19.486046",
     "exception": false,
     "start_time": "2025-08-05T14:48:19.460615",
     "status": "completed"
    },
    "tags": []
   },
   "outputs": [
    {
     "name": "stdout",
     "output_type": "stream",
     "text": [
      "Dropping features: ['maxdeutsch1', 'maxdeutsch.Missing.']\n"
     ]
    }
   ],
   "source": [
    "if len(excluded_features_columns) > 0:\n",
    "    print(f\"Dropping features: {excluded_features_columns}\")\n",
    "    X_train.drop(excluded_features_columns, axis=1, inplace=True)"
   ]
  },
  {
   "cell_type": "code",
   "execution_count": 23,
   "id": "95ab8b16",
   "metadata": {
    "execution": {
     "iopub.execute_input": "2025-08-05T14:48:19.528110Z",
     "iopub.status.busy": "2025-08-05T14:48:19.527263Z",
     "iopub.status.idle": "2025-08-05T14:48:19.582038Z",
     "shell.execute_reply": "2025-08-05T14:48:19.580862Z"
    },
    "papermill": {
     "duration": 0.075276,
     "end_time": "2025-08-05T14:48:19.584036",
     "exception": false,
     "start_time": "2025-08-05T14:48:19.508760",
     "status": "completed"
    },
    "tags": []
   },
   "outputs": [
    {
     "name": "stdout",
     "output_type": "stream",
     "text": [
      "Dropping features: ['maxdeutsch1', 'maxdeutsch.Missing.']\n"
     ]
    }
   ],
   "source": [
    "if len(excluded_features_columns) > 0:\n",
    "    print(f\"Dropping features: {excluded_features_columns}\")\n",
    "    X_test.drop(excluded_features_columns, axis=1, inplace=True)"
   ]
  },
  {
   "cell_type": "code",
   "execution_count": 24,
   "id": "1853aaf5-fb9f-46cb-a2b5-8ea4ae2237e4",
   "metadata": {
    "execution": {
     "iopub.execute_input": "2025-08-05T14:48:19.627629Z",
     "iopub.status.busy": "2025-08-05T14:48:19.626718Z",
     "iopub.status.idle": "2025-08-05T14:48:19.681457Z",
     "shell.execute_reply": "2025-08-05T14:48:19.680420Z"
    },
    "papermill": {
     "duration": 0.078336,
     "end_time": "2025-08-05T14:48:19.683382",
     "exception": false,
     "start_time": "2025-08-05T14:48:19.605046",
     "status": "completed"
    },
    "tags": []
   },
   "outputs": [
    {
     "name": "stdout",
     "output_type": "stream",
     "text": [
      "Dropping features: ['maxdeutsch1', 'maxdeutsch.Missing.']\n"
     ]
    }
   ],
   "source": [
    "if len(excluded_features_columns) > 0:\n",
    "    print(f\"Dropping features: {excluded_features_columns}\")\n",
    "    X_calib.drop(excluded_features_columns, axis=1, inplace=True)"
   ]
  },
  {
   "cell_type": "code",
   "execution_count": 25,
   "id": "76c4dc6d",
   "metadata": {
    "execution": {
     "iopub.execute_input": "2025-08-05T14:48:19.719788Z",
     "iopub.status.busy": "2025-08-05T14:48:19.719289Z",
     "iopub.status.idle": "2025-08-05T14:48:19.725854Z",
     "shell.execute_reply": "2025-08-05T14:48:19.724680Z"
    },
    "papermill": {
     "duration": 0.026416,
     "end_time": "2025-08-05T14:48:19.727608",
     "exception": false,
     "start_time": "2025-08-05T14:48:19.701192",
     "status": "completed"
    },
    "tags": []
   },
   "outputs": [],
   "source": [
    "# EXCLUDE CERTAIN SUBGROUPS\n",
    "# ----------------------\n",
    "\n",
    "mode = universe.get(\"exclude_subgroups\", \"keep-all\") \n",
    "# Fetches the exclude_subgroups setting from the universe dict.\n",
    "# Defaults to \"keep-all\" if the key is missing."
   ]
  },
  {
   "cell_type": "code",
   "execution_count": 26,
   "id": "21994072",
   "metadata": {
    "execution": {
     "iopub.execute_input": "2025-08-05T14:48:19.764267Z",
     "iopub.status.busy": "2025-08-05T14:48:19.763757Z",
     "iopub.status.idle": "2025-08-05T14:48:19.770955Z",
     "shell.execute_reply": "2025-08-05T14:48:19.769882Z"
    },
    "papermill": {
     "duration": 0.027335,
     "end_time": "2025-08-05T14:48:19.772747",
     "exception": false,
     "start_time": "2025-08-05T14:48:19.745412",
     "status": "completed"
    },
    "tags": []
   },
   "outputs": [],
   "source": [
    "if mode == \"keep-all\":\n",
    "    keep_mask = pd.Series(True, index=org_train.index)\n",
    "\n",
    "# org_train contains the original feature columns from features_org (in Simson)\n",
    "# features_org contains unprocessed features, for me X_train at beginning ???\n",
    "# For keep-all, creates a boolean Series (keep_mask) of all True, so no rows are removed.\n",
    "\n",
    "elif mode == \"drop-non-german\":\n",
    "    keep_mask = org_train[\"maxdeutsch1\"] == 1 # ??? what about missing values?\n",
    "\n",
    "else:\n",
    "    raise ValueError(f\"Unsupported mode for exclude_subgroups: {mode}\")"
   ]
  },
  {
   "cell_type": "code",
   "execution_count": 27,
   "id": "71651440",
   "metadata": {
    "execution": {
     "iopub.execute_input": "2025-08-05T14:48:19.814404Z",
     "iopub.status.busy": "2025-08-05T14:48:19.813939Z",
     "iopub.status.idle": "2025-08-05T14:48:19.820277Z",
     "shell.execute_reply": "2025-08-05T14:48:19.819343Z"
    },
    "papermill": {
     "duration": 0.028346,
     "end_time": "2025-08-05T14:48:19.822081",
     "exception": false,
     "start_time": "2025-08-05T14:48:19.793735",
     "status": "completed"
    },
    "tags": []
   },
   "outputs": [],
   "source": [
    "n_drop = (~keep_mask).sum() # Calculates how many rows are set to be dropped\n",
    "if n_drop > 0:\n",
    "    pct = n_drop / len(keep_mask) * 100\n",
    "    print(f\"Dropping {n_drop} rows ({pct:.2f}%) where mode='{mode}'\")"
   ]
  },
  {
   "cell_type": "code",
   "execution_count": 28,
   "id": "5fb8eee5",
   "metadata": {
    "execution": {
     "iopub.execute_input": "2025-08-05T14:48:19.863327Z",
     "iopub.status.busy": "2025-08-05T14:48:19.861689Z",
     "iopub.status.idle": "2025-08-05T14:48:19.877246Z",
     "shell.execute_reply": "2025-08-05T14:48:19.876219Z"
    },
    "papermill": {
     "duration": 0.037481,
     "end_time": "2025-08-05T14:48:19.879442",
     "exception": false,
     "start_time": "2025-08-05T14:48:19.841961",
     "status": "completed"
    },
    "tags": []
   },
   "outputs": [],
   "source": [
    "X_train = X_train[keep_mask]"
   ]
  },
  {
   "cell_type": "code",
   "execution_count": 29,
   "id": "b202bb3a",
   "metadata": {
    "execution": {
     "iopub.execute_input": "2025-08-05T14:48:19.918608Z",
     "iopub.status.busy": "2025-08-05T14:48:19.917833Z",
     "iopub.status.idle": "2025-08-05T14:48:19.924097Z",
     "shell.execute_reply": "2025-08-05T14:48:19.923117Z"
    },
    "papermill": {
     "duration": 0.027841,
     "end_time": "2025-08-05T14:48:19.925719",
     "exception": false,
     "start_time": "2025-08-05T14:48:19.897878",
     "status": "completed"
    },
    "tags": []
   },
   "outputs": [],
   "source": [
    "y_train = y_train[keep_mask]"
   ]
  },
  {
   "cell_type": "markdown",
   "id": "493e2ac3",
   "metadata": {
    "papermill": {
     "duration": 0.019436,
     "end_time": "2025-08-05T14:48:19.963899",
     "exception": false,
     "start_time": "2025-08-05T14:48:19.944463",
     "status": "completed"
    },
    "tags": []
   },
   "source": [
    "# Model Training"
   ]
  },
  {
   "cell_type": "code",
   "execution_count": 30,
   "id": "679e1268",
   "metadata": {
    "execution": {
     "iopub.execute_input": "2025-08-05T14:48:20.001981Z",
     "iopub.status.busy": "2025-08-05T14:48:20.001461Z",
     "iopub.status.idle": "2025-08-05T14:48:20.105040Z",
     "shell.execute_reply": "2025-08-05T14:48:20.104033Z"
    },
    "papermill": {
     "duration": 0.124323,
     "end_time": "2025-08-05T14:48:20.106832",
     "exception": false,
     "start_time": "2025-08-05T14:48:19.982509",
     "status": "completed"
    },
    "tags": []
   },
   "outputs": [],
   "source": [
    "from sklearn.linear_model import LogisticRegression\n",
    "from sklearn.ensemble import GradientBoostingClassifier, RandomForestClassifier\n",
    "\n",
    "if (universe[\"model\"] == \"logreg\"):\n",
    "    model = LogisticRegression() #penalty=\"none\", solver=\"newton-cg\", max_iter=1) # include random_state=19 ?\n",
    "elif (universe[\"model\"] == \"penalized_logreg\"):\n",
    "    model = LogisticRegression(penalty=\"l2\", C=0.1) #, solver=\"newton-cg\", max_iter=1)\n",
    "elif (universe[\"model\"] == \"rf\"):\n",
    "    model = RandomForestClassifier() # n_estimators=100, n_jobs=-1\n",
    "elif (universe[\"model\"] == \"gbm\"):\n",
    "    model = GradientBoostingClassifier()\n",
    "elif (universe[\"model\"] == \"elasticnet\"):\n",
    "    model = LogisticRegression(penalty = 'elasticnet', solver = 'saga', l1_ratio = 0.5) # max_iter=5000\n",
    "else:\n",
    "    raise \"Unsupported universe.model\""
   ]
  },
  {
   "cell_type": "code",
   "execution_count": 31,
   "id": "0cc8f744",
   "metadata": {
    "execution": {
     "iopub.execute_input": "2025-08-05T14:48:20.143512Z",
     "iopub.status.busy": "2025-08-05T14:48:20.142768Z",
     "iopub.status.idle": "2025-08-05T14:48:20.149352Z",
     "shell.execute_reply": "2025-08-05T14:48:20.148441Z"
    },
    "papermill": {
     "duration": 0.025714,
     "end_time": "2025-08-05T14:48:20.151006",
     "exception": false,
     "start_time": "2025-08-05T14:48:20.125292",
     "status": "completed"
    },
    "tags": []
   },
   "outputs": [],
   "source": [
    "import numpy as np\n",
    "from sklearn.pipeline import Pipeline\n",
    "from sklearn.preprocessing import StandardScaler\n",
    "\n",
    "model = Pipeline([\n",
    "    #(\"continuous_processor\", continuous_processor),\n",
    "    #(\"categorical_preprocessor\", categorical_preprocessor),\n",
    "    (\"scale\", StandardScaler() if universe[\"scale\"] == \"scale\" else None), \n",
    "    (\"model\", model),\n",
    "])"
   ]
  },
  {
   "cell_type": "code",
   "execution_count": 32,
   "id": "9442c04d",
   "metadata": {
    "execution": {
     "iopub.execute_input": "2025-08-05T14:48:20.188150Z",
     "iopub.status.busy": "2025-08-05T14:48:20.187791Z",
     "iopub.status.idle": "2025-08-05T14:48:20.946348Z",
     "shell.execute_reply": "2025-08-05T14:48:20.945411Z"
    },
    "papermill": {
     "duration": 0.778669,
     "end_time": "2025-08-05T14:48:20.948041",
     "exception": false,
     "start_time": "2025-08-05T14:48:20.169372",
     "status": "completed"
    },
    "tags": []
   },
   "outputs": [
    {
     "name": "stderr",
     "output_type": "stream",
     "text": [
      "/dss/dsshome1/0C/ra93lal2/.local/share/virtualenvs/CMA_Fairness_v2-3j10GkSs/lib/python3.10/site-packages/sklearn/linear_model/_logistic.py:444: ConvergenceWarning: lbfgs failed to converge (status=1):\n",
      "STOP: TOTAL NO. of ITERATIONS REACHED LIMIT.\n",
      "\n",
      "Increase the number of iterations (max_iter) or scale the data as shown in:\n",
      "    https://scikit-learn.org/stable/modules/preprocessing.html\n",
      "Please also refer to the documentation for alternative solver options:\n",
      "    https://scikit-learn.org/stable/modules/linear_model.html#logistic-regression\n",
      "  n_iter_i = _check_optimize_result(\n"
     ]
    },
    {
     "data": {
      "text/html": [
       "<style>#sk-container-id-1 {color: black;background-color: white;}#sk-container-id-1 pre{padding: 0;}#sk-container-id-1 div.sk-toggleable {background-color: white;}#sk-container-id-1 label.sk-toggleable__label {cursor: pointer;display: block;width: 100%;margin-bottom: 0;padding: 0.3em;box-sizing: border-box;text-align: center;}#sk-container-id-1 label.sk-toggleable__label-arrow:before {content: \"▸\";float: left;margin-right: 0.25em;color: #696969;}#sk-container-id-1 label.sk-toggleable__label-arrow:hover:before {color: black;}#sk-container-id-1 div.sk-estimator:hover label.sk-toggleable__label-arrow:before {color: black;}#sk-container-id-1 div.sk-toggleable__content {max-height: 0;max-width: 0;overflow: hidden;text-align: left;background-color: #f0f8ff;}#sk-container-id-1 div.sk-toggleable__content pre {margin: 0.2em;color: black;border-radius: 0.25em;background-color: #f0f8ff;}#sk-container-id-1 input.sk-toggleable__control:checked~div.sk-toggleable__content {max-height: 200px;max-width: 100%;overflow: auto;}#sk-container-id-1 input.sk-toggleable__control:checked~label.sk-toggleable__label-arrow:before {content: \"▾\";}#sk-container-id-1 div.sk-estimator input.sk-toggleable__control:checked~label.sk-toggleable__label {background-color: #d4ebff;}#sk-container-id-1 div.sk-label input.sk-toggleable__control:checked~label.sk-toggleable__label {background-color: #d4ebff;}#sk-container-id-1 input.sk-hidden--visually {border: 0;clip: rect(1px 1px 1px 1px);clip: rect(1px, 1px, 1px, 1px);height: 1px;margin: -1px;overflow: hidden;padding: 0;position: absolute;width: 1px;}#sk-container-id-1 div.sk-estimator {font-family: monospace;background-color: #f0f8ff;border: 1px dotted black;border-radius: 0.25em;box-sizing: border-box;margin-bottom: 0.5em;}#sk-container-id-1 div.sk-estimator:hover {background-color: #d4ebff;}#sk-container-id-1 div.sk-parallel-item::after {content: \"\";width: 100%;border-bottom: 1px solid gray;flex-grow: 1;}#sk-container-id-1 div.sk-label:hover label.sk-toggleable__label {background-color: #d4ebff;}#sk-container-id-1 div.sk-serial::before {content: \"\";position: absolute;border-left: 1px solid gray;box-sizing: border-box;top: 0;bottom: 0;left: 50%;z-index: 0;}#sk-container-id-1 div.sk-serial {display: flex;flex-direction: column;align-items: center;background-color: white;padding-right: 0.2em;padding-left: 0.2em;position: relative;}#sk-container-id-1 div.sk-item {position: relative;z-index: 1;}#sk-container-id-1 div.sk-parallel {display: flex;align-items: stretch;justify-content: center;background-color: white;position: relative;}#sk-container-id-1 div.sk-item::before, #sk-container-id-1 div.sk-parallel-item::before {content: \"\";position: absolute;border-left: 1px solid gray;box-sizing: border-box;top: 0;bottom: 0;left: 50%;z-index: -1;}#sk-container-id-1 div.sk-parallel-item {display: flex;flex-direction: column;z-index: 1;position: relative;background-color: white;}#sk-container-id-1 div.sk-parallel-item:first-child::after {align-self: flex-end;width: 50%;}#sk-container-id-1 div.sk-parallel-item:last-child::after {align-self: flex-start;width: 50%;}#sk-container-id-1 div.sk-parallel-item:only-child::after {width: 0;}#sk-container-id-1 div.sk-dashed-wrapped {border: 1px dashed gray;margin: 0 0.4em 0.5em 0.4em;box-sizing: border-box;padding-bottom: 0.4em;background-color: white;}#sk-container-id-1 div.sk-label label {font-family: monospace;font-weight: bold;display: inline-block;line-height: 1.2em;}#sk-container-id-1 div.sk-label-container {text-align: center;}#sk-container-id-1 div.sk-container {/* jupyter's `normalize.less` sets `[hidden] { display: none; }` but bootstrap.min.css set `[hidden] { display: none !important; }` so we also need the `!important` here to be able to override the default hidden behavior on the sphinx rendered scikit-learn.org. See: https://github.com/scikit-learn/scikit-learn/issues/21755 */display: inline-block !important;position: relative;}#sk-container-id-1 div.sk-text-repr-fallback {display: none;}</style><div id=\"sk-container-id-1\" class=\"sk-top-container\"><div class=\"sk-text-repr-fallback\"><pre>Pipeline(steps=[(&#x27;scale&#x27;, StandardScaler()), (&#x27;model&#x27;, LogisticRegression())])</pre><b>In a Jupyter environment, please rerun this cell to show the HTML representation or trust the notebook. <br />On GitHub, the HTML representation is unable to render, please try loading this page with nbviewer.org.</b></div><div class=\"sk-container\" hidden><div class=\"sk-item sk-dashed-wrapped\"><div class=\"sk-label-container\"><div class=\"sk-label sk-toggleable\"><input class=\"sk-toggleable__control sk-hidden--visually\" id=\"sk-estimator-id-1\" type=\"checkbox\" ><label for=\"sk-estimator-id-1\" class=\"sk-toggleable__label sk-toggleable__label-arrow\">Pipeline</label><div class=\"sk-toggleable__content\"><pre>Pipeline(steps=[(&#x27;scale&#x27;, StandardScaler()), (&#x27;model&#x27;, LogisticRegression())])</pre></div></div></div><div class=\"sk-serial\"><div class=\"sk-item\"><div class=\"sk-estimator sk-toggleable\"><input class=\"sk-toggleable__control sk-hidden--visually\" id=\"sk-estimator-id-2\" type=\"checkbox\" ><label for=\"sk-estimator-id-2\" class=\"sk-toggleable__label sk-toggleable__label-arrow\">StandardScaler</label><div class=\"sk-toggleable__content\"><pre>StandardScaler()</pre></div></div></div><div class=\"sk-item\"><div class=\"sk-estimator sk-toggleable\"><input class=\"sk-toggleable__control sk-hidden--visually\" id=\"sk-estimator-id-3\" type=\"checkbox\" ><label for=\"sk-estimator-id-3\" class=\"sk-toggleable__label sk-toggleable__label-arrow\">LogisticRegression</label><div class=\"sk-toggleable__content\"><pre>LogisticRegression()</pre></div></div></div></div></div></div></div>"
      ],
      "text/plain": [
       "Pipeline(steps=[('scale', StandardScaler()), ('model', LogisticRegression())])"
      ]
     },
     "execution_count": 32,
     "metadata": {},
     "output_type": "execute_result"
    }
   ],
   "source": [
    "model.fit(X_train, y_train.values.ravel())"
   ]
  },
  {
   "cell_type": "code",
   "execution_count": 33,
   "id": "af59f8c0",
   "metadata": {
    "execution": {
     "iopub.execute_input": "2025-08-05T14:48:20.990465Z",
     "iopub.status.busy": "2025-08-05T14:48:20.989979Z",
     "iopub.status.idle": "2025-08-05T14:48:20.995919Z",
     "shell.execute_reply": "2025-08-05T14:48:20.994896Z"
    },
    "papermill": {
     "duration": 0.028581,
     "end_time": "2025-08-05T14:48:20.997641",
     "exception": false,
     "start_time": "2025-08-05T14:48:20.969060",
     "status": "completed"
    },
    "tags": []
   },
   "outputs": [],
   "source": [
    "from fairness_multiverse.universe import predict_w_threshold"
   ]
  },
  {
   "cell_type": "code",
   "execution_count": 34,
   "id": "a7cf2e16",
   "metadata": {
    "execution": {
     "iopub.execute_input": "2025-08-05T14:48:21.036842Z",
     "iopub.status.busy": "2025-08-05T14:48:21.036247Z",
     "iopub.status.idle": "2025-08-05T14:48:21.223068Z",
     "shell.execute_reply": "2025-08-05T14:48:21.222284Z"
    },
    "papermill": {
     "duration": 0.207476,
     "end_time": "2025-08-05T14:48:21.224291",
     "exception": false,
     "start_time": "2025-08-05T14:48:21.016815",
     "status": "completed"
    },
    "tags": []
   },
   "outputs": [
    {
     "data": {
      "text/plain": [
       "0.8620332181473638"
      ]
     },
     "execution_count": 34,
     "metadata": {},
     "output_type": "execute_result"
    }
   ],
   "source": [
    "probs_test = model.predict_proba(X_test)\n",
    "\n",
    "'''\n",
    "Below code returns a boolean array (or binary 0/1 array depending on how it’s used) where each element \n",
    "is True if the probability of class 1 is greater than or equal to the threshold, and False otherwise.\n",
    "'''\n",
    "y_pred_default = predict_w_threshold(probs_test, 0.5)\n",
    "\n",
    "from sklearn.metrics import accuracy_score\n",
    "\n",
    "# Naive prediction\n",
    "accuracy_score(y_true = y_true, y_pred = y_pred_default)"
   ]
  },
  {
   "cell_type": "code",
   "execution_count": 35,
   "id": "081964c3",
   "metadata": {
    "execution": {
     "iopub.execute_input": "2025-08-05T14:48:21.245961Z",
     "iopub.status.busy": "2025-08-05T14:48:21.245666Z",
     "iopub.status.idle": "2025-08-05T14:48:21.413102Z",
     "shell.execute_reply": "2025-08-05T14:48:21.412352Z"
    },
    "papermill": {
     "duration": 0.179387,
     "end_time": "2025-08-05T14:48:21.414366",
     "exception": false,
     "start_time": "2025-08-05T14:48:21.234979",
     "status": "completed"
    },
    "tags": []
   },
   "outputs": [
    {
     "data": {
      "text/plain": [
       "array([0, 0, 0, ..., 0, 0, 0])"
      ]
     },
     "execution_count": 35,
     "metadata": {},
     "output_type": "execute_result"
    }
   ],
   "source": [
    "model.predict(X_test)"
   ]
  },
  {
   "cell_type": "markdown",
   "id": "56c9705b",
   "metadata": {
    "papermill": {
     "duration": 0.009897,
     "end_time": "2025-08-05T14:48:21.434987",
     "exception": false,
     "start_time": "2025-08-05T14:48:21.425090",
     "status": "completed"
    },
    "tags": []
   },
   "source": [
    "# Conformal Prediction"
   ]
  },
  {
   "cell_type": "code",
   "execution_count": 36,
   "id": "160ec6ff",
   "metadata": {
    "execution": {
     "iopub.execute_input": "2025-08-05T14:48:21.461011Z",
     "iopub.status.busy": "2025-08-05T14:48:21.460694Z",
     "iopub.status.idle": "2025-08-05T14:48:21.465223Z",
     "shell.execute_reply": "2025-08-05T14:48:21.464442Z"
    },
    "papermill": {
     "duration": 0.017865,
     "end_time": "2025-08-05T14:48:21.467352",
     "exception": false,
     "start_time": "2025-08-05T14:48:21.449487",
     "status": "completed"
    },
    "tags": []
   },
   "outputs": [],
   "source": [
    "# Miscoverage level for conformal prediction (10% allowed error rate => 90% target coverage)\n",
    "alpha = 0.1"
   ]
  },
  {
   "cell_type": "code",
   "execution_count": 37,
   "id": "eadf4555-3dd3-440e-8e35-f82a4ad9f855",
   "metadata": {
    "execution": {
     "iopub.execute_input": "2025-08-05T14:48:21.489042Z",
     "iopub.status.busy": "2025-08-05T14:48:21.488738Z",
     "iopub.status.idle": "2025-08-05T14:48:21.655390Z",
     "shell.execute_reply": "2025-08-05T14:48:21.654381Z"
    },
    "papermill": {
     "duration": 0.178949,
     "end_time": "2025-08-05T14:48:21.656980",
     "exception": false,
     "start_time": "2025-08-05T14:48:21.478031",
     "status": "completed"
    },
    "tags": []
   },
   "outputs": [],
   "source": [
    "probs_calib = model.predict_proba(X_calib)"
   ]
  },
  {
   "cell_type": "code",
   "execution_count": 38,
   "id": "2ed93547-6d5d-4983-9b36-1ecb300da49a",
   "metadata": {
    "execution": {
     "iopub.execute_input": "2025-08-05T14:48:21.701041Z",
     "iopub.status.busy": "2025-08-05T14:48:21.700585Z",
     "iopub.status.idle": "2025-08-05T14:48:21.706526Z",
     "shell.execute_reply": "2025-08-05T14:48:21.705424Z"
    },
    "papermill": {
     "duration": 0.030588,
     "end_time": "2025-08-05T14:48:21.708419",
     "exception": false,
     "start_time": "2025-08-05T14:48:21.677831",
     "status": "completed"
    },
    "tags": []
   },
   "outputs": [],
   "source": [
    "y_calib = y_calib.values.ravel().astype(int)"
   ]
  },
  {
   "cell_type": "code",
   "execution_count": 39,
   "id": "65d1320d-f588-4b38-9072-62af1ae97f7d",
   "metadata": {
    "execution": {
     "iopub.execute_input": "2025-08-05T14:48:21.736012Z",
     "iopub.status.busy": "2025-08-05T14:48:21.735633Z",
     "iopub.status.idle": "2025-08-05T14:48:21.741886Z",
     "shell.execute_reply": "2025-08-05T14:48:21.741082Z"
    },
    "papermill": {
     "duration": 0.019133,
     "end_time": "2025-08-05T14:48:21.743295",
     "exception": false,
     "start_time": "2025-08-05T14:48:21.724162",
     "status": "completed"
    },
    "tags": []
   },
   "outputs": [],
   "source": [
    "from fairness_multiverse.conformal import compute_nc_scores\n",
    "\n",
    "# Compute nonconformity scores on calibration set (1 - probability of true class)\n",
    "nc_scores = compute_nc_scores(probs_calib, y_calib)"
   ]
  },
  {
   "cell_type": "code",
   "execution_count": 40,
   "id": "df3b8ca3-53b7-43d5-9667-7c85da7aeda2",
   "metadata": {
    "execution": {
     "iopub.execute_input": "2025-08-05T14:48:21.767901Z",
     "iopub.status.busy": "2025-08-05T14:48:21.767368Z",
     "iopub.status.idle": "2025-08-05T14:48:21.773930Z",
     "shell.execute_reply": "2025-08-05T14:48:21.772736Z"
    },
    "papermill": {
     "duration": 0.021713,
     "end_time": "2025-08-05T14:48:21.775720",
     "exception": false,
     "start_time": "2025-08-05T14:48:21.754007",
     "status": "completed"
    },
    "tags": []
   },
   "outputs": [],
   "source": [
    "from fairness_multiverse.conformal import find_threshold\n",
    "\n",
    "# Find conformal threshold q_hat for the given alpha (split conformal method)\n",
    "q_hat = find_threshold(nc_scores, alpha)"
   ]
  },
  {
   "cell_type": "code",
   "execution_count": 41,
   "id": "4d29e6c1-0ef6-4aa4-b8fe-4fe79b0d033a",
   "metadata": {
    "execution": {
     "iopub.execute_input": "2025-08-05T14:48:21.818280Z",
     "iopub.status.busy": "2025-08-05T14:48:21.817814Z",
     "iopub.status.idle": "2025-08-05T14:48:21.824676Z",
     "shell.execute_reply": "2025-08-05T14:48:21.823697Z"
    },
    "papermill": {
     "duration": 0.028219,
     "end_time": "2025-08-05T14:48:21.826293",
     "exception": false,
     "start_time": "2025-08-05T14:48:21.798074",
     "status": "completed"
    },
    "tags": []
   },
   "outputs": [
    {
     "data": {
      "text/plain": [
       "0.6637809138721817"
      ]
     },
     "execution_count": 41,
     "metadata": {},
     "output_type": "execute_result"
    }
   ],
   "source": [
    "q_hat"
   ]
  },
  {
   "cell_type": "code",
   "execution_count": 42,
   "id": "92460794-cdac-4be2-ba28-f28c0515a6fb",
   "metadata": {
    "execution": {
     "iopub.execute_input": "2025-08-05T14:48:21.873366Z",
     "iopub.status.busy": "2025-08-05T14:48:21.872959Z",
     "iopub.status.idle": "2025-08-05T14:48:22.698753Z",
     "shell.execute_reply": "2025-08-05T14:48:22.697714Z"
    },
    "papermill": {
     "duration": 0.851462,
     "end_time": "2025-08-05T14:48:22.700857",
     "exception": false,
     "start_time": "2025-08-05T14:48:21.849395",
     "status": "completed"
    },
    "tags": []
   },
   "outputs": [],
   "source": [
    "from fairness_multiverse.conformal import predict_conformal_sets\n",
    "\n",
    "# Generate prediction sets for each test example\n",
    "pred_sets = predict_conformal_sets(model, X_test, q_hat)"
   ]
  },
  {
   "cell_type": "code",
   "execution_count": 43,
   "id": "d90c9a65-e6db-4f5d-80cd-e68fb7e46829",
   "metadata": {
    "execution": {
     "iopub.execute_input": "2025-08-05T14:48:22.748712Z",
     "iopub.status.busy": "2025-08-05T14:48:22.748228Z",
     "iopub.status.idle": "2025-08-05T14:48:22.754372Z",
     "shell.execute_reply": "2025-08-05T14:48:22.753351Z"
    },
    "papermill": {
     "duration": 0.031257,
     "end_time": "2025-08-05T14:48:22.756301",
     "exception": false,
     "start_time": "2025-08-05T14:48:22.725044",
     "status": "completed"
    },
    "tags": []
   },
   "outputs": [],
   "source": [
    "y_true = y_true.squeeze()"
   ]
  },
  {
   "cell_type": "code",
   "execution_count": 44,
   "id": "3a58a54a-1e68-46b9-927a-df01f18aebc8",
   "metadata": {
    "execution": {
     "iopub.execute_input": "2025-08-05T14:48:22.805083Z",
     "iopub.status.busy": "2025-08-05T14:48:22.804595Z",
     "iopub.status.idle": "2025-08-05T14:48:23.714422Z",
     "shell.execute_reply": "2025-08-05T14:48:23.713360Z"
    },
    "papermill": {
     "duration": 0.935862,
     "end_time": "2025-08-05T14:48:23.716330",
     "exception": false,
     "start_time": "2025-08-05T14:48:22.780468",
     "status": "completed"
    },
    "tags": []
   },
   "outputs": [],
   "source": [
    "from fairness_multiverse.conformal import evaluate_sets\n",
    "\n",
    "# Evaluate coverage and average set size on test data\n",
    "metrics = evaluate_sets(pred_sets, y_true)"
   ]
  },
  {
   "cell_type": "markdown",
   "id": "2b569c12-9aaa-4c88-98c9-bbcd0cf3ebb8",
   "metadata": {
    "papermill": {
     "duration": 0.024632,
     "end_time": "2025-08-05T14:48:23.763549",
     "exception": false,
     "start_time": "2025-08-05T14:48:23.738917",
     "status": "completed"
    },
    "tags": []
   },
   "source": [
    "# CP Metrics"
   ]
  },
  {
   "cell_type": "code",
   "execution_count": 45,
   "id": "5ce0a5cb-201f-45a0-ade5-94c7f0bd6095",
   "metadata": {
    "execution": {
     "iopub.execute_input": "2025-08-05T14:48:23.809906Z",
     "iopub.status.busy": "2025-08-05T14:48:23.809174Z",
     "iopub.status.idle": "2025-08-05T14:48:23.817034Z",
     "shell.execute_reply": "2025-08-05T14:48:23.815942Z"
    },
    "papermill": {
     "duration": 0.032957,
     "end_time": "2025-08-05T14:48:23.819116",
     "exception": false,
     "start_time": "2025-08-05T14:48:23.786159",
     "status": "completed"
    },
    "tags": []
   },
   "outputs": [
    {
     "data": {
      "text/plain": [
       "{'coverage': 0.9115929104893545, 'avg_size': 1.1250139337866458}"
      ]
     },
     "execution_count": 45,
     "metadata": {},
     "output_type": "execute_result"
    }
   ],
   "source": [
    "metrics"
   ]
  },
  {
   "cell_type": "code",
   "execution_count": 46,
   "id": "9b9a838d-31c9-430b-ae14-12baee460d17",
   "metadata": {
    "execution": {
     "iopub.execute_input": "2025-08-05T14:48:23.866957Z",
     "iopub.status.busy": "2025-08-05T14:48:23.866489Z",
     "iopub.status.idle": "2025-08-05T14:48:23.873052Z",
     "shell.execute_reply": "2025-08-05T14:48:23.872022Z"
    },
    "papermill": {
     "duration": 0.031993,
     "end_time": "2025-08-05T14:48:23.875194",
     "exception": false,
     "start_time": "2025-08-05T14:48:23.843201",
     "status": "completed"
    },
    "tags": []
   },
   "outputs": [],
   "source": [
    "example_universe = universe.copy()\n",
    "universe_training_year = example_universe.get(\"training_year\")\n",
    "universe_training_size = example_universe.get(\"training_size\")\n",
    "universe_scale = example_universe.get(\"scale\")\n",
    "universe_model = example_universe.get(\"model\")\n",
    "universe_exclude_features = example_universe.get(\"exclude_features\")\n",
    "universe_exclude_subgroups = example_universe.get(\"exclude_subgroups\")"
   ]
  },
  {
   "cell_type": "code",
   "execution_count": 47,
   "id": "f4b6a8ac-9dc0-4245-8a91-5b3b5999c4f9",
   "metadata": {
    "execution": {
     "iopub.execute_input": "2025-08-05T14:48:23.924958Z",
     "iopub.status.busy": "2025-08-05T14:48:23.924186Z",
     "iopub.status.idle": "2025-08-05T14:48:23.931252Z",
     "shell.execute_reply": "2025-08-05T14:48:23.930182Z"
    },
    "papermill": {
     "duration": 0.033202,
     "end_time": "2025-08-05T14:48:23.932967",
     "exception": false,
     "start_time": "2025-08-05T14:48:23.899765",
     "status": "completed"
    },
    "tags": []
   },
   "outputs": [],
   "source": [
    "cp_metrics_dict = {\n",
    "    \"universe_id\": [universe_id],\n",
    "    \"universe_training_year\": [universe_training_year],\n",
    "    \"universe_training_size\": [universe_training_size],\n",
    "    \"universe_scale\": [universe_scale],\n",
    "    \"universe_model\": [universe_model],\n",
    "    \"universe_exclude_features\": [universe_exclude_features],\n",
    "    \"universe_exclude_subgroups\": [universe_exclude_subgroups],\n",
    "    \"q_hat\": [q_hat],\n",
    "    \"coverage\": [metrics[\"coverage\"]],\n",
    "    \"avg_size\": [metrics[\"avg_size\"]],\n",
    "}"
   ]
  },
  {
   "cell_type": "code",
   "execution_count": 48,
   "id": "908acbb1-0371-4915-85ca-3fa520d2efe2",
   "metadata": {
    "execution": {
     "iopub.execute_input": "2025-08-05T14:48:23.975787Z",
     "iopub.status.busy": "2025-08-05T14:48:23.975290Z",
     "iopub.status.idle": "2025-08-05T14:48:23.983829Z",
     "shell.execute_reply": "2025-08-05T14:48:23.982763Z"
    },
    "papermill": {
     "duration": 0.031129,
     "end_time": "2025-08-05T14:48:23.985630",
     "exception": false,
     "start_time": "2025-08-05T14:48:23.954501",
     "status": "completed"
    },
    "tags": []
   },
   "outputs": [
    {
     "data": {
      "text/plain": [
       "{'universe_id': ['55015ab1eb824730956454cbf38a79d2'],\n",
       " 'universe_training_year': ['2012_14'],\n",
       " 'universe_training_size': ['25k'],\n",
       " 'universe_scale': ['scale'],\n",
       " 'universe_model': ['logreg'],\n",
       " 'universe_exclude_features': ['nationality'],\n",
       " 'universe_exclude_subgroups': ['keep-all'],\n",
       " 'q_hat': [0.6637809138721817],\n",
       " 'coverage': [0.9115929104893545],\n",
       " 'avg_size': [1.1250139337866458]}"
      ]
     },
     "execution_count": 48,
     "metadata": {},
     "output_type": "execute_result"
    }
   ],
   "source": [
    "cp_metrics_dict"
   ]
  },
  {
   "cell_type": "code",
   "execution_count": 49,
   "id": "33007efc-14e9-4ec6-97ac-56a455c82265",
   "metadata": {
    "execution": {
     "iopub.execute_input": "2025-08-05T14:48:24.029511Z",
     "iopub.status.busy": "2025-08-05T14:48:24.028711Z",
     "iopub.status.idle": "2025-08-05T14:48:24.035745Z",
     "shell.execute_reply": "2025-08-05T14:48:24.034729Z"
    },
    "papermill": {
     "duration": 0.030147,
     "end_time": "2025-08-05T14:48:24.037545",
     "exception": false,
     "start_time": "2025-08-05T14:48:24.007398",
     "status": "completed"
    },
    "tags": []
   },
   "outputs": [],
   "source": [
    "cp_metrics_df = pd.DataFrame(cp_metrics_dict)"
   ]
  },
  {
   "cell_type": "code",
   "execution_count": 50,
   "id": "db12611b-57b2-4910-b9d0-355adfd6e7bf",
   "metadata": {
    "execution": {
     "iopub.execute_input": "2025-08-05T14:48:24.081970Z",
     "iopub.status.busy": "2025-08-05T14:48:24.081358Z",
     "iopub.status.idle": "2025-08-05T14:48:24.101542Z",
     "shell.execute_reply": "2025-08-05T14:48:24.100610Z"
    },
    "papermill": {
     "duration": 0.043656,
     "end_time": "2025-08-05T14:48:24.103281",
     "exception": false,
     "start_time": "2025-08-05T14:48:24.059625",
     "status": "completed"
    },
    "tags": []
   },
   "outputs": [
    {
     "data": {
      "text/html": [
       "<div>\n",
       "<style scoped>\n",
       "    .dataframe tbody tr th:only-of-type {\n",
       "        vertical-align: middle;\n",
       "    }\n",
       "\n",
       "    .dataframe tbody tr th {\n",
       "        vertical-align: top;\n",
       "    }\n",
       "\n",
       "    .dataframe thead th {\n",
       "        text-align: right;\n",
       "    }\n",
       "</style>\n",
       "<table border=\"1\" class=\"dataframe\">\n",
       "  <thead>\n",
       "    <tr style=\"text-align: right;\">\n",
       "      <th></th>\n",
       "      <th>universe_id</th>\n",
       "      <th>universe_training_year</th>\n",
       "      <th>universe_training_size</th>\n",
       "      <th>universe_scale</th>\n",
       "      <th>universe_model</th>\n",
       "      <th>universe_exclude_features</th>\n",
       "      <th>universe_exclude_subgroups</th>\n",
       "      <th>q_hat</th>\n",
       "      <th>coverage</th>\n",
       "      <th>avg_size</th>\n",
       "    </tr>\n",
       "  </thead>\n",
       "  <tbody>\n",
       "    <tr>\n",
       "      <th>0</th>\n",
       "      <td>55015ab1eb824730956454cbf38a79d2</td>\n",
       "      <td>2012_14</td>\n",
       "      <td>25k</td>\n",
       "      <td>scale</td>\n",
       "      <td>logreg</td>\n",
       "      <td>nationality</td>\n",
       "      <td>keep-all</td>\n",
       "      <td>0.663781</td>\n",
       "      <td>0.911593</td>\n",
       "      <td>1.125014</td>\n",
       "    </tr>\n",
       "  </tbody>\n",
       "</table>\n",
       "</div>"
      ],
      "text/plain": [
       "                        universe_id universe_training_year  \\\n",
       "0  55015ab1eb824730956454cbf38a79d2                2012_14   \n",
       "\n",
       "  universe_training_size universe_scale universe_model  \\\n",
       "0                    25k          scale         logreg   \n",
       "\n",
       "  universe_exclude_features universe_exclude_subgroups     q_hat  coverage  \\\n",
       "0               nationality                   keep-all  0.663781  0.911593   \n",
       "\n",
       "   avg_size  \n",
       "0  1.125014  "
      ]
     },
     "execution_count": 50,
     "metadata": {},
     "output_type": "execute_result"
    }
   ],
   "source": [
    "cp_metrics_df"
   ]
  },
  {
   "cell_type": "code",
   "execution_count": 51,
   "id": "b7fbde55-a0a1-47e4-9af6-fe4a17fa8c61",
   "metadata": {
    "execution": {
     "iopub.execute_input": "2025-08-05T14:48:24.148673Z",
     "iopub.status.busy": "2025-08-05T14:48:24.147764Z",
     "iopub.status.idle": "2025-08-05T14:48:24.152929Z",
     "shell.execute_reply": "2025-08-05T14:48:24.151914Z"
    },
    "papermill": {
     "duration": 0.029231,
     "end_time": "2025-08-05T14:48:24.154811",
     "exception": false,
     "start_time": "2025-08-05T14:48:24.125580",
     "status": "completed"
    },
    "tags": []
   },
   "outputs": [],
   "source": [
    "# Conditional Coverage & looking at subgroups"
   ]
  },
  {
   "cell_type": "code",
   "execution_count": 52,
   "id": "027ae886-68dd-4141-96c7-805a5450e1ef",
   "metadata": {
    "execution": {
     "iopub.execute_input": "2025-08-05T14:48:24.205830Z",
     "iopub.status.busy": "2025-08-05T14:48:24.205003Z",
     "iopub.status.idle": "2025-08-05T14:48:24.465341Z",
     "shell.execute_reply": "2025-08-05T14:48:24.464351Z"
    },
    "papermill": {
     "duration": 0.287787,
     "end_time": "2025-08-05T14:48:24.467354",
     "exception": false,
     "start_time": "2025-08-05T14:48:24.179567",
     "status": "completed"
    },
    "tags": []
   },
   "outputs": [],
   "source": [
    "from fairness_multiverse.conformal import build_cp_groups\n",
    "\n",
    "cp_groups_df = build_cp_groups(pred_sets, y_true, X_test.index, org_test)\n",
    "#needs universe_id and setting"
   ]
  },
  {
   "cell_type": "code",
   "execution_count": 53,
   "id": "6cbdab96-b2b2-45af-ad54-d0516db2e28d",
   "metadata": {
    "execution": {
     "iopub.execute_input": "2025-08-05T14:48:24.517754Z",
     "iopub.status.busy": "2025-08-05T14:48:24.516763Z",
     "iopub.status.idle": "2025-08-05T14:48:26.176398Z",
     "shell.execute_reply": "2025-08-05T14:48:26.175347Z"
    },
    "papermill": {
     "duration": 1.687402,
     "end_time": "2025-08-05T14:48:26.178397",
     "exception": false,
     "start_time": "2025-08-05T14:48:24.490995",
     "status": "completed"
    },
    "tags": []
   },
   "outputs": [],
   "source": [
    "# Define covered = 1 if true_label is in the predicted set\n",
    "cp_groups_df['covered'] = cp_groups_df.apply(\n",
    "    lambda r: int(r['true_label'] in r['pred_set']),\n",
    "    axis=1\n",
    ")"
   ]
  },
  {
   "cell_type": "code",
   "execution_count": 54,
   "id": "338ff529-1a6b-4b87-a931-8e4788d52aad",
   "metadata": {
    "execution": {
     "iopub.execute_input": "2025-08-05T14:48:26.234378Z",
     "iopub.status.busy": "2025-08-05T14:48:26.233879Z",
     "iopub.status.idle": "2025-08-05T14:48:26.239468Z",
     "shell.execute_reply": "2025-08-05T14:48:26.238334Z"
    },
    "papermill": {
     "duration": 0.034809,
     "end_time": "2025-08-05T14:48:26.241223",
     "exception": false,
     "start_time": "2025-08-05T14:48:26.206414",
     "status": "completed"
    },
    "tags": []
   },
   "outputs": [],
   "source": [
    "#cp_groups_df"
   ]
  },
  {
   "cell_type": "code",
   "execution_count": 55,
   "id": "90032e27-66df-4540-9169-4e89cfbaa758",
   "metadata": {
    "execution": {
     "iopub.execute_input": "2025-08-05T14:48:26.295756Z",
     "iopub.status.busy": "2025-08-05T14:48:26.294789Z",
     "iopub.status.idle": "2025-08-05T14:48:26.306737Z",
     "shell.execute_reply": "2025-08-05T14:48:26.305640Z"
    },
    "papermill": {
     "duration": 0.043823,
     "end_time": "2025-08-05T14:48:26.310971",
     "exception": false,
     "start_time": "2025-08-05T14:48:26.267148",
     "status": "completed"
    },
    "tags": []
   },
   "outputs": [],
   "source": [
    "subgroups = ['frau1','nongerman','nongerman_male','nongerman_female']\n",
    "\n",
    "# Conditional coverage for subgroup==1\n",
    "cond_coverage = {\n",
    "    g: cp_groups_df.loc[cp_groups_df[g]==1, 'covered'].mean()\n",
    "    for g in subgroups\n",
    "}"
   ]
  },
  {
   "cell_type": "code",
   "execution_count": 56,
   "id": "1e348fb1-b9c3-45bc-ba23-f016827a7e0d",
   "metadata": {
    "execution": {
     "iopub.execute_input": "2025-08-05T14:48:26.364026Z",
     "iopub.status.busy": "2025-08-05T14:48:26.363492Z",
     "iopub.status.idle": "2025-08-05T14:48:26.370921Z",
     "shell.execute_reply": "2025-08-05T14:48:26.369942Z"
    },
    "papermill": {
     "duration": 0.036555,
     "end_time": "2025-08-05T14:48:26.372700",
     "exception": false,
     "start_time": "2025-08-05T14:48:26.336145",
     "status": "completed"
    },
    "tags": []
   },
   "outputs": [
    {
     "data": {
      "text/plain": [
       "{'frau1': 0.9096374174417038,\n",
       " 'nongerman': 0.910683208892382,\n",
       " 'nongerman_male': 0.927136809871206,\n",
       " 'nongerman_female': 0.8834575260804769}"
      ]
     },
     "execution_count": 56,
     "metadata": {},
     "output_type": "execute_result"
    }
   ],
   "source": [
    "cond_coverage"
   ]
  },
  {
   "cell_type": "code",
   "execution_count": 57,
   "id": "f5093324-c3dd-4d63-bc4c-8d945e5c8bbb",
   "metadata": {
    "execution": {
     "iopub.execute_input": "2025-08-05T14:48:26.426384Z",
     "iopub.status.busy": "2025-08-05T14:48:26.425891Z",
     "iopub.status.idle": "2025-08-05T14:48:26.433900Z",
     "shell.execute_reply": "2025-08-05T14:48:26.432752Z"
    },
    "papermill": {
     "duration": 0.03769,
     "end_time": "2025-08-05T14:48:26.436112",
     "exception": false,
     "start_time": "2025-08-05T14:48:26.398422",
     "status": "completed"
    },
    "tags": []
   },
   "outputs": [],
   "source": [
    "for subgroup, cov in cond_coverage.items():\n",
    "    cp_metrics_df[f\"cov_{subgroup}\"] = cov"
   ]
  },
  {
   "cell_type": "code",
   "execution_count": 58,
   "id": "6e872e10-dbe5-49e8-b554-5030c98ff75d",
   "metadata": {
    "execution": {
     "iopub.execute_input": "2025-08-05T14:48:26.489952Z",
     "iopub.status.busy": "2025-08-05T14:48:26.489360Z",
     "iopub.status.idle": "2025-08-05T14:48:26.509441Z",
     "shell.execute_reply": "2025-08-05T14:48:26.508452Z"
    },
    "papermill": {
     "duration": 0.049294,
     "end_time": "2025-08-05T14:48:26.511340",
     "exception": false,
     "start_time": "2025-08-05T14:48:26.462046",
     "status": "completed"
    },
    "tags": []
   },
   "outputs": [
    {
     "data": {
      "text/html": [
       "<div>\n",
       "<style scoped>\n",
       "    .dataframe tbody tr th:only-of-type {\n",
       "        vertical-align: middle;\n",
       "    }\n",
       "\n",
       "    .dataframe tbody tr th {\n",
       "        vertical-align: top;\n",
       "    }\n",
       "\n",
       "    .dataframe thead th {\n",
       "        text-align: right;\n",
       "    }\n",
       "</style>\n",
       "<table border=\"1\" class=\"dataframe\">\n",
       "  <thead>\n",
       "    <tr style=\"text-align: right;\">\n",
       "      <th></th>\n",
       "      <th>universe_id</th>\n",
       "      <th>universe_training_year</th>\n",
       "      <th>universe_training_size</th>\n",
       "      <th>universe_scale</th>\n",
       "      <th>universe_model</th>\n",
       "      <th>universe_exclude_features</th>\n",
       "      <th>universe_exclude_subgroups</th>\n",
       "      <th>q_hat</th>\n",
       "      <th>coverage</th>\n",
       "      <th>avg_size</th>\n",
       "      <th>cov_frau1</th>\n",
       "      <th>cov_nongerman</th>\n",
       "      <th>cov_nongerman_male</th>\n",
       "      <th>cov_nongerman_female</th>\n",
       "    </tr>\n",
       "  </thead>\n",
       "  <tbody>\n",
       "    <tr>\n",
       "      <th>0</th>\n",
       "      <td>55015ab1eb824730956454cbf38a79d2</td>\n",
       "      <td>2012_14</td>\n",
       "      <td>25k</td>\n",
       "      <td>scale</td>\n",
       "      <td>logreg</td>\n",
       "      <td>nationality</td>\n",
       "      <td>keep-all</td>\n",
       "      <td>0.663781</td>\n",
       "      <td>0.911593</td>\n",
       "      <td>1.125014</td>\n",
       "      <td>0.909637</td>\n",
       "      <td>0.910683</td>\n",
       "      <td>0.927137</td>\n",
       "      <td>0.883458</td>\n",
       "    </tr>\n",
       "  </tbody>\n",
       "</table>\n",
       "</div>"
      ],
      "text/plain": [
       "                        universe_id universe_training_year  \\\n",
       "0  55015ab1eb824730956454cbf38a79d2                2012_14   \n",
       "\n",
       "  universe_training_size universe_scale universe_model  \\\n",
       "0                    25k          scale         logreg   \n",
       "\n",
       "  universe_exclude_features universe_exclude_subgroups     q_hat  coverage  \\\n",
       "0               nationality                   keep-all  0.663781  0.911593   \n",
       "\n",
       "   avg_size  cov_frau1  cov_nongerman  cov_nongerman_male  \\\n",
       "0  1.125014   0.909637       0.910683            0.927137   \n",
       "\n",
       "   cov_nongerman_female  \n",
       "0              0.883458  "
      ]
     },
     "execution_count": 58,
     "metadata": {},
     "output_type": "execute_result"
    }
   ],
   "source": [
    "cp_metrics_df"
   ]
  },
  {
   "cell_type": "markdown",
   "id": "33774451",
   "metadata": {
    "papermill": {
     "duration": 0.023523,
     "end_time": "2025-08-05T14:48:26.558218",
     "exception": false,
     "start_time": "2025-08-05T14:48:26.534695",
     "status": "completed"
    },
    "tags": []
   },
   "source": [
    "# (Fairness) Metrics"
   ]
  },
  {
   "cell_type": "code",
   "execution_count": 59,
   "id": "debc5d62",
   "metadata": {
    "execution": {
     "iopub.execute_input": "2025-08-05T14:48:26.605420Z",
     "iopub.status.busy": "2025-08-05T14:48:26.604580Z",
     "iopub.status.idle": "2025-08-05T14:48:26.626723Z",
     "shell.execute_reply": "2025-08-05T14:48:26.625692Z"
    },
    "papermill": {
     "duration": 0.047541,
     "end_time": "2025-08-05T14:48:26.628658",
     "exception": false,
     "start_time": "2025-08-05T14:48:26.581117",
     "status": "completed"
    },
    "tags": []
   },
   "outputs": [],
   "source": [
    "# do I need to include maxdeutsch1.missing?\n",
    "\n",
    "import numpy as np\n",
    "\n",
    "colname_to_bin = \"maxdeutsch1\"\n",
    "majority_value = org_train[colname_to_bin].mode()[0]\n",
    "\n",
    "org_test[\"majmin\"] = np.where(org_test[colname_to_bin] == majority_value, \"majority\", \"minority\")"
   ]
  },
  {
   "cell_type": "code",
   "execution_count": 60,
   "id": "06a50de5",
   "metadata": {
    "execution": {
     "iopub.execute_input": "2025-08-05T14:48:26.677487Z",
     "iopub.status.busy": "2025-08-05T14:48:26.676960Z",
     "iopub.status.idle": "2025-08-05T14:48:29.537614Z",
     "shell.execute_reply": "2025-08-05T14:48:29.536508Z"
    },
    "papermill": {
     "duration": 2.886659,
     "end_time": "2025-08-05T14:48:29.539566",
     "exception": false,
     "start_time": "2025-08-05T14:48:26.652907",
     "status": "completed"
    },
    "tags": []
   },
   "outputs": [],
   "source": [
    "example_universe = universe.copy()\n",
    "example_universe[\"cutoff\"] = example_universe[\"cutoff\"][0]\n",
    "example_universe[\"eval_fairness_grouping\"] = example_universe[\"eval_fairness_grouping\"][0]\n",
    "fairness_dict, metric_frame = universe_analysis.compute_metrics(\n",
    "    example_universe,\n",
    "    y_pred_prob=probs_test,\n",
    "    y_test=y_true,\n",
    "    org_test=org_test,\n",
    ")"
   ]
  },
  {
   "cell_type": "markdown",
   "id": "f95d4e02",
   "metadata": {
    "papermill": {
     "duration": 0.024729,
     "end_time": "2025-08-05T14:48:29.589074",
     "exception": false,
     "start_time": "2025-08-05T14:48:29.564345",
     "status": "completed"
    },
    "tags": []
   },
   "source": [
    "# Overall"
   ]
  },
  {
   "cell_type": "markdown",
   "id": "bdee4871",
   "metadata": {
    "papermill": {
     "duration": 0.024051,
     "end_time": "2025-08-05T14:48:29.637631",
     "exception": false,
     "start_time": "2025-08-05T14:48:29.613580",
     "status": "completed"
    },
    "tags": []
   },
   "source": [
    "Fairness\n",
    "Main fairness target: Equalized Odds. Seems to be a better fit than equal opportunity, since we're not only interested in Y = 1. Seems to be a better fit than demographic parity, since we also care about accuracy, not just equal distribution of preds.\n",
    "\n",
    "Pick column for computation of fairness metrics\n",
    "\n",
    "Performance\n",
    "Overall performance measures, most interesting in relation to the measures split by group below"
   ]
  },
  {
   "cell_type": "code",
   "execution_count": 61,
   "id": "c4e067c6",
   "metadata": {
    "execution": {
     "iopub.execute_input": "2025-08-05T14:48:29.686506Z",
     "iopub.status.busy": "2025-08-05T14:48:29.685782Z",
     "iopub.status.idle": "2025-08-05T14:48:29.694830Z",
     "shell.execute_reply": "2025-08-05T14:48:29.693813Z"
    },
    "papermill": {
     "duration": 0.035565,
     "end_time": "2025-08-05T14:48:29.696691",
     "exception": false,
     "start_time": "2025-08-05T14:48:29.661126",
     "status": "completed"
    },
    "tags": []
   },
   "outputs": [
    {
     "data": {
      "text/plain": [
       "accuracy                   0.225382\n",
       "balanced accuracy          0.550878\n",
       "f1                         0.246686\n",
       "precision                  0.140923\n",
       "false positive rate        0.886947\n",
       "false negative rate        0.011296\n",
       "selection rate             0.900000\n",
       "count                  89710.000000\n",
       "dtype: float64"
      ]
     },
     "execution_count": 61,
     "metadata": {},
     "output_type": "execute_result"
    }
   ],
   "source": [
    "metric_frame.overall"
   ]
  },
  {
   "cell_type": "markdown",
   "id": "e968fe9d",
   "metadata": {
    "papermill": {
     "duration": 0.022341,
     "end_time": "2025-08-05T14:48:29.742725",
     "exception": false,
     "start_time": "2025-08-05T14:48:29.720384",
     "status": "completed"
    },
    "tags": []
   },
   "source": [
    "By Group"
   ]
  },
  {
   "cell_type": "code",
   "execution_count": 62,
   "id": "ec325bce",
   "metadata": {
    "execution": {
     "iopub.execute_input": "2025-08-05T14:48:29.791106Z",
     "iopub.status.busy": "2025-08-05T14:48:29.790574Z",
     "iopub.status.idle": "2025-08-05T14:48:29.809590Z",
     "shell.execute_reply": "2025-08-05T14:48:29.808318Z"
    },
    "papermill": {
     "duration": 0.044691,
     "end_time": "2025-08-05T14:48:29.810987",
     "exception": false,
     "start_time": "2025-08-05T14:48:29.766296",
     "status": "completed"
    },
    "tags": []
   },
   "outputs": [
    {
     "data": {
      "text/html": [
       "<div>\n",
       "<style scoped>\n",
       "    .dataframe tbody tr th:only-of-type {\n",
       "        vertical-align: middle;\n",
       "    }\n",
       "\n",
       "    .dataframe tbody tr th {\n",
       "        vertical-align: top;\n",
       "    }\n",
       "\n",
       "    .dataframe thead th {\n",
       "        text-align: right;\n",
       "    }\n",
       "</style>\n",
       "<table border=\"1\" class=\"dataframe\">\n",
       "  <thead>\n",
       "    <tr style=\"text-align: right;\">\n",
       "      <th></th>\n",
       "      <th>accuracy</th>\n",
       "      <th>balanced accuracy</th>\n",
       "      <th>f1</th>\n",
       "      <th>precision</th>\n",
       "      <th>false positive rate</th>\n",
       "      <th>false negative rate</th>\n",
       "      <th>selection rate</th>\n",
       "      <th>count</th>\n",
       "    </tr>\n",
       "    <tr>\n",
       "      <th>majmin</th>\n",
       "      <th></th>\n",
       "      <th></th>\n",
       "      <th></th>\n",
       "      <th></th>\n",
       "      <th></th>\n",
       "      <th></th>\n",
       "      <th></th>\n",
       "      <th></th>\n",
       "    </tr>\n",
       "  </thead>\n",
       "  <tbody>\n",
       "    <tr>\n",
       "      <th>majority</th>\n",
       "      <td>0.247564</td>\n",
       "      <td>0.561167</td>\n",
       "      <td>0.257504</td>\n",
       "      <td>0.148058</td>\n",
       "      <td>0.865084</td>\n",
       "      <td>0.012582</td>\n",
       "      <td>0.881249</td>\n",
       "      <td>69170.0</td>\n",
       "    </tr>\n",
       "    <tr>\n",
       "      <th>minority</th>\n",
       "      <td>0.150682</td>\n",
       "      <td>0.517249</td>\n",
       "      <td>0.212451</td>\n",
       "      <td>0.118941</td>\n",
       "      <td>0.959168</td>\n",
       "      <td>0.006334</td>\n",
       "      <td>0.963145</td>\n",
       "      <td>20540.0</td>\n",
       "    </tr>\n",
       "  </tbody>\n",
       "</table>\n",
       "</div>"
      ],
      "text/plain": [
       "          accuracy  balanced accuracy        f1  precision  \\\n",
       "majmin                                                       \n",
       "majority  0.247564           0.561167  0.257504   0.148058   \n",
       "minority  0.150682           0.517249  0.212451   0.118941   \n",
       "\n",
       "          false positive rate  false negative rate  selection rate    count  \n",
       "majmin                                                                       \n",
       "majority             0.865084             0.012582        0.881249  69170.0  \n",
       "minority             0.959168             0.006334        0.963145  20540.0  "
      ]
     },
     "execution_count": 62,
     "metadata": {},
     "output_type": "execute_result"
    }
   ],
   "source": [
    "metric_frame.by_group"
   ]
  },
  {
   "cell_type": "code",
   "execution_count": 63,
   "id": "a9ddbe63",
   "metadata": {
    "execution": {
     "iopub.execute_input": "2025-08-05T14:48:29.857319Z",
     "iopub.status.busy": "2025-08-05T14:48:29.856981Z",
     "iopub.status.idle": "2025-08-05T14:48:32.304349Z",
     "shell.execute_reply": "2025-08-05T14:48:32.303400Z"
    },
    "papermill": {
     "duration": 2.471971,
     "end_time": "2025-08-05T14:48:32.306228",
     "exception": false,
     "start_time": "2025-08-05T14:48:29.834257",
     "status": "completed"
    },
    "tags": []
   },
   "outputs": [
    {
     "data": {
      "text/plain": [
       "array([[<Axes: title={'center': 'accuracy'}, xlabel='majmin'>,\n",
       "        <Axes: title={'center': 'balanced accuracy'}, xlabel='majmin'>,\n",
       "        <Axes: title={'center': 'f1'}, xlabel='majmin'>],\n",
       "       [<Axes: title={'center': 'precision'}, xlabel='majmin'>,\n",
       "        <Axes: title={'center': 'false positive rate'}, xlabel='majmin'>,\n",
       "        <Axes: title={'center': 'false negative rate'}, xlabel='majmin'>],\n",
       "       [<Axes: title={'center': 'selection rate'}, xlabel='majmin'>,\n",
       "        <Axes: title={'center': 'count'}, xlabel='majmin'>,\n",
       "        <Axes: xlabel='majmin'>]], dtype=object)"
      ]
     },
     "execution_count": 63,
     "metadata": {},
     "output_type": "execute_result"
    },
    {
     "data": {
      "image/png": "[encoded data removed]",
      "text/plain": [
       "<Figure size 1200x800 with 9 Axes>"
      ]
     },
     "metadata": {},
     "output_type": "display_data"
    }
   ],
   "source": [
    "# In a graphic\n",
    "metric_frame.by_group.plot.bar(\n",
    "    subplots=True,\n",
    "    layout=[3, 3],\n",
    "    legend=False,\n",
    "    figsize=[12, 8],\n",
    "    title=\"Show all metrics\",\n",
    ")"
   ]
  },
  {
   "cell_type": "markdown",
   "id": "f57a0bac",
   "metadata": {
    "papermill": {
     "duration": 0.026803,
     "end_time": "2025-08-05T14:48:32.360836",
     "exception": false,
     "start_time": "2025-08-05T14:48:32.334033",
     "status": "completed"
    },
    "tags": []
   },
   "source": [
    "# Final Output"
   ]
  },
  {
   "cell_type": "code",
   "execution_count": 64,
   "id": "96d280a3",
   "metadata": {
    "execution": {
     "iopub.execute_input": "2025-08-05T14:48:32.413469Z",
     "iopub.status.busy": "2025-08-05T14:48:32.412950Z",
     "iopub.status.idle": "2025-08-05T14:48:32.429580Z",
     "shell.execute_reply": "2025-08-05T14:48:32.428478Z"
    },
    "papermill": {
     "duration": 0.045475,
     "end_time": "2025-08-05T14:48:32.431346",
     "exception": false,
     "start_time": "2025-08-05T14:48:32.385871",
     "status": "completed"
    },
    "tags": []
   },
   "outputs": [
    {
     "data": {
      "text/plain": [
       "4"
      ]
     },
     "execution_count": 64,
     "metadata": {},
     "output_type": "execute_result"
    }
   ],
   "source": [
    "sub_universes = universe_analysis.generate_sub_universes()\n",
    "len(sub_universes)"
   ]
  },
  {
   "cell_type": "code",
   "execution_count": 65,
   "id": "92adf7ba",
   "metadata": {
    "execution": {
     "iopub.execute_input": "2025-08-05T14:48:32.484257Z",
     "iopub.status.busy": "2025-08-05T14:48:32.483777Z",
     "iopub.status.idle": "2025-08-05T14:48:32.499676Z",
     "shell.execute_reply": "2025-08-05T14:48:32.498310Z"
    },
    "papermill": {
     "duration": 0.044288,
     "end_time": "2025-08-05T14:48:32.502388",
     "exception": false,
     "start_time": "2025-08-05T14:48:32.458100",
     "status": "completed"
    },
    "tags": []
   },
   "outputs": [],
   "source": [
    "def filter_sub_universe_data(sub_universe, org_test):\n",
    "    # Keep all rows — no filtering\n",
    "    keep_rows_mask = np.ones(org_test.shape[0], dtype=bool)\n",
    "\n",
    "    print(f\"[INFO] Keeping all rows: {keep_rows_mask.sum()} rows retained.\")\n",
    "    return keep_rows_mask"
   ]
  },
  {
   "cell_type": "code",
   "execution_count": 66,
   "id": "4a759155",
   "metadata": {
    "execution": {
     "iopub.execute_input": "2025-08-05T14:48:32.585443Z",
     "iopub.status.busy": "2025-08-05T14:48:32.584411Z",
     "iopub.status.idle": "2025-08-05T14:48:41.642477Z",
     "shell.execute_reply": "2025-08-05T14:48:41.641461Z"
    },
    "papermill": {
     "duration": 9.10077,
     "end_time": "2025-08-05T14:48:41.644201",
     "exception": false,
     "start_time": "2025-08-05T14:48:32.543431",
     "status": "completed"
    },
    "tags": []
   },
   "outputs": [
    {
     "name": "stdout",
     "output_type": "stream",
     "text": [
      "Stopping execution_time clock.\n",
      "[INFO] Keeping all rows: 89710 rows retained.\n"
     ]
    },
    {
     "name": "stdout",
     "output_type": "stream",
     "text": [
      "[INFO] Keeping all rows: 89710 rows retained.\n"
     ]
    },
    {
     "name": "stdout",
     "output_type": "stream",
     "text": [
      "[INFO] Keeping all rows: 89710 rows retained.\n"
     ]
    },
    {
     "name": "stdout",
     "output_type": "stream",
     "text": [
      "[INFO] Keeping all rows: 89710 rows retained.\n"
     ]
    },
    {
     "data": {
      "text/html": [
       "<div>\n",
       "<style scoped>\n",
       "    .dataframe tbody tr th:only-of-type {\n",
       "        vertical-align: middle;\n",
       "    }\n",
       "\n",
       "    .dataframe tbody tr th {\n",
       "        vertical-align: top;\n",
       "    }\n",
       "\n",
       "    .dataframe thead th {\n",
       "        text-align: right;\n",
       "    }\n",
       "</style>\n",
       "<table border=\"1\" class=\"dataframe\">\n",
       "  <thead>\n",
       "    <tr style=\"text-align: right;\">\n",
       "      <th></th>\n",
       "      <th>run_no</th>\n",
       "      <th>universe_id</th>\n",
       "      <th>universe_settings</th>\n",
       "      <th>execution_time</th>\n",
       "      <th>test_size_n</th>\n",
       "      <th>test_size_frac</th>\n",
       "      <th>fair_main_equalized_odds_difference</th>\n",
       "      <th>fair_main_equalized_odds_ratio</th>\n",
       "      <th>fair_main_demographic_parity_difference</th>\n",
       "      <th>fair_main_demographic_parity_ratio</th>\n",
       "      <th>...</th>\n",
       "      <th>perf_grp_precision_0</th>\n",
       "      <th>perf_grp_precision_1</th>\n",
       "      <th>perf_grp_false positive rate_0</th>\n",
       "      <th>perf_grp_false positive rate_1</th>\n",
       "      <th>perf_grp_false negative rate_0</th>\n",
       "      <th>perf_grp_false negative rate_1</th>\n",
       "      <th>perf_grp_selection rate_0</th>\n",
       "      <th>perf_grp_selection rate_1</th>\n",
       "      <th>perf_grp_count_0</th>\n",
       "      <th>perf_grp_count_1</th>\n",
       "    </tr>\n",
       "  </thead>\n",
       "  <tbody>\n",
       "    <tr>\n",
       "      <th>0</th>\n",
       "      <td>15</td>\n",
       "      <td>55015ab1eb824730956454cbf38a79d2</td>\n",
       "      <td>{\"cutoff\": \"quantile_0.1\", \"eval_fairness_grou...</td>\n",
       "      <td>25.718034</td>\n",
       "      <td>89710</td>\n",
       "      <td>1.0</td>\n",
       "      <td>0.094084</td>\n",
       "      <td>0.901911</td>\n",
       "      <td>0.081896</td>\n",
       "      <td>0.914970</td>\n",
       "      <td>...</td>\n",
       "      <td>NaN</td>\n",
       "      <td>NaN</td>\n",
       "      <td>NaN</td>\n",
       "      <td>NaN</td>\n",
       "      <td>NaN</td>\n",
       "      <td>NaN</td>\n",
       "      <td>NaN</td>\n",
       "      <td>NaN</td>\n",
       "      <td>NaN</td>\n",
       "      <td>NaN</td>\n",
       "    </tr>\n",
       "    <tr>\n",
       "      <th>0</th>\n",
       "      <td>15</td>\n",
       "      <td>55015ab1eb824730956454cbf38a79d2</td>\n",
       "      <td>{\"cutoff\": \"quantile_0.1\", \"eval_fairness_grou...</td>\n",
       "      <td>25.718034</td>\n",
       "      <td>89710</td>\n",
       "      <td>1.0</td>\n",
       "      <td>0.094084</td>\n",
       "      <td>0.901911</td>\n",
       "      <td>0.081896</td>\n",
       "      <td>0.914970</td>\n",
       "      <td>...</td>\n",
       "      <td>0.118941</td>\n",
       "      <td>0.148058</td>\n",
       "      <td>0.959168</td>\n",
       "      <td>0.865084</td>\n",
       "      <td>0.006334</td>\n",
       "      <td>0.012582</td>\n",
       "      <td>0.963145</td>\n",
       "      <td>0.881249</td>\n",
       "      <td>20540.0</td>\n",
       "      <td>69170.0</td>\n",
       "    </tr>\n",
       "    <tr>\n",
       "      <th>0</th>\n",
       "      <td>15</td>\n",
       "      <td>55015ab1eb824730956454cbf38a79d2</td>\n",
       "      <td>{\"cutoff\": \"quantile_0.25\", \"eval_fairness_gro...</td>\n",
       "      <td>25.718034</td>\n",
       "      <td>89710</td>\n",
       "      <td>1.0</td>\n",
       "      <td>0.165989</td>\n",
       "      <td>0.804235</td>\n",
       "      <td>0.144162</td>\n",
       "      <td>0.832594</td>\n",
       "      <td>...</td>\n",
       "      <td>NaN</td>\n",
       "      <td>NaN</td>\n",
       "      <td>NaN</td>\n",
       "      <td>NaN</td>\n",
       "      <td>NaN</td>\n",
       "      <td>NaN</td>\n",
       "      <td>NaN</td>\n",
       "      <td>NaN</td>\n",
       "      <td>NaN</td>\n",
       "      <td>NaN</td>\n",
       "    </tr>\n",
       "    <tr>\n",
       "      <th>0</th>\n",
       "      <td>15</td>\n",
       "      <td>55015ab1eb824730956454cbf38a79d2</td>\n",
       "      <td>{\"cutoff\": \"quantile_0.25\", \"eval_fairness_gro...</td>\n",
       "      <td>25.718034</td>\n",
       "      <td>89710</td>\n",
       "      <td>1.0</td>\n",
       "      <td>0.165989</td>\n",
       "      <td>0.804235</td>\n",
       "      <td>0.144162</td>\n",
       "      <td>0.832594</td>\n",
       "      <td>...</td>\n",
       "      <td>0.128901</td>\n",
       "      <td>0.174598</td>\n",
       "      <td>0.847898</td>\n",
       "      <td>0.681909</td>\n",
       "      <td>0.037162</td>\n",
       "      <td>0.052626</td>\n",
       "      <td>0.861149</td>\n",
       "      <td>0.716987</td>\n",
       "      <td>20540.0</td>\n",
       "      <td>69170.0</td>\n",
       "    </tr>\n",
       "  </tbody>\n",
       "</table>\n",
       "<p>4 rows × 50 columns</p>\n",
       "</div>"
      ],
      "text/plain": [
       "  run_no                       universe_id  \\\n",
       "0     15  55015ab1eb824730956454cbf38a79d2   \n",
       "0     15  55015ab1eb824730956454cbf38a79d2   \n",
       "0     15  55015ab1eb824730956454cbf38a79d2   \n",
       "0     15  55015ab1eb824730956454cbf38a79d2   \n",
       "\n",
       "                                   universe_settings  execution_time  \\\n",
       "0  {\"cutoff\": \"quantile_0.1\", \"eval_fairness_grou...       25.718034   \n",
       "0  {\"cutoff\": \"quantile_0.1\", \"eval_fairness_grou...       25.718034   \n",
       "0  {\"cutoff\": \"quantile_0.25\", \"eval_fairness_gro...       25.718034   \n",
       "0  {\"cutoff\": \"quantile_0.25\", \"eval_fairness_gro...       25.718034   \n",
       "\n",
       "   test_size_n  test_size_frac  fair_main_equalized_odds_difference  \\\n",
       "0        89710             1.0                             0.094084   \n",
       "0        89710             1.0                             0.094084   \n",
       "0        89710             1.0                             0.165989   \n",
       "0        89710             1.0                             0.165989   \n",
       "\n",
       "   fair_main_equalized_odds_ratio  fair_main_demographic_parity_difference  \\\n",
       "0                        0.901911                                 0.081896   \n",
       "0                        0.901911                                 0.081896   \n",
       "0                        0.804235                                 0.144162   \n",
       "0                        0.804235                                 0.144162   \n",
       "\n",
       "   fair_main_demographic_parity_ratio  ...  perf_grp_precision_0  \\\n",
       "0                            0.914970  ...                   NaN   \n",
       "0                            0.914970  ...              0.118941   \n",
       "0                            0.832594  ...                   NaN   \n",
       "0                            0.832594  ...              0.128901   \n",
       "\n",
       "   perf_grp_precision_1  perf_grp_false positive rate_0  \\\n",
       "0                   NaN                             NaN   \n",
       "0              0.148058                        0.959168   \n",
       "0                   NaN                             NaN   \n",
       "0              0.174598                        0.847898   \n",
       "\n",
       "   perf_grp_false positive rate_1  perf_grp_false negative rate_0  \\\n",
       "0                             NaN                             NaN   \n",
       "0                        0.865084                        0.006334   \n",
       "0                             NaN                             NaN   \n",
       "0                        0.681909                        0.037162   \n",
       "\n",
       "   perf_grp_false negative rate_1  perf_grp_selection rate_0  \\\n",
       "0                             NaN                        NaN   \n",
       "0                        0.012582                   0.963145   \n",
       "0                             NaN                        NaN   \n",
       "0                        0.052626                   0.861149   \n",
       "\n",
       "   perf_grp_selection rate_1  perf_grp_count_0  perf_grp_count_1  \n",
       "0                        NaN               NaN               NaN  \n",
       "0                   0.881249           20540.0           69170.0  \n",
       "0                        NaN               NaN               NaN  \n",
       "0                   0.716987           20540.0           69170.0  \n",
       "\n",
       "[4 rows x 50 columns]"
      ]
     },
     "execution_count": 66,
     "metadata": {},
     "output_type": "execute_result"
    }
   ],
   "source": [
    "final_output = universe_analysis.generate_final_output(\n",
    "    y_pred_prob=probs_test,\n",
    "    y_test=y_true,\n",
    "    org_test=org_test,\n",
    "    filter_data=filter_sub_universe_data,\n",
    "    cp_metrics_df=cp_metrics_df,\n",
    "    save=True,\n",
    ")\n",
    "final_output"
   ]
  }
 ],
 "metadata": {
  "celltoolbar": "Tags",
  "kernelspec": {
   "display_name": "Python (CMA Fairness)",
   "language": "python",
   "name": "cma_fair_env"
  },
  "language_info": {
   "codemirror_mode": {
    "name": "ipython",
    "version": 3
   },
   "file_extension": ".py",
   "mimetype": "text/x-python",
   "name": "python",
   "nbconvert_exporter": "python",
   "pygments_lexer": "ipython3",
   "version": "3.10.12"
  },
  "papermill": {
   "default_parameters": {},
   "duration": 38.630565,
   "end_time": "2025-08-05T14:48:42.495163",
   "environment_variables": {},
   "exception": null,
   "input_path": "universe_analysis.ipynb",
   "output_path": "output/runs/15/notebooks/m_15-55015ab1eb824730956454cbf38a79d2.ipynb",
   "parameters": {
    "output_dir": "output",
    "run_no": "15",
    "seed": "2023",
    "universe": "{\"cutoff\": [\"quantile_0.1\", \"quantile_0.25\"], \"eval_fairness_grouping\": [\"majority-minority\", \"nationality-all\"], \"exclude_features\": \"nationality\", \"exclude_subgroups\": \"keep-all\", \"model\": \"logreg\", \"scale\": \"scale\", \"training_size\": \"25k\", \"training_year\": \"2012_14\"}",
    "universe_id": "55015ab1eb824730956454cbf38a79d2"
   },
   "start_time": "2025-08-05T14:48:03.864598",
   "version": "2.6.0"
  }
 },
 "nbformat": 4,
 "nbformat_minor": 5
}