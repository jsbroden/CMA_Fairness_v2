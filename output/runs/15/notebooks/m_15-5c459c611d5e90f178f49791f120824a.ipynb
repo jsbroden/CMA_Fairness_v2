{
 "cells": [
  {
   "cell_type": "code",
   "execution_count": 1,
   "id": "f159f837-637b-42ba-96b5-ec9a68c44524",
   "metadata": {
    "execution": {
     "iopub.execute_input": "2025-08-05T15:36:22.415473Z",
     "iopub.status.busy": "2025-08-05T15:36:22.414800Z",
     "iopub.status.idle": "2025-08-05T15:36:22.430407Z",
     "shell.execute_reply": "2025-08-05T15:36:22.429348Z"
    },
    "papermill": {
     "duration": 0.040916,
     "end_time": "2025-08-05T15:36:22.432285",
     "exception": false,
     "start_time": "2025-08-05T15:36:22.391369",
     "status": "completed"
    },
    "tags": []
   },
   "outputs": [
    {
     "name": "stdout",
     "output_type": "stream",
     "text": [
      "/dss/dsshome1/0C/ra93lal2/cma/CMA_Fairness_v2\n"
     ]
    },
    {
     "name": "stderr",
     "output_type": "stream",
     "text": [
      "/dss/dsshome1/0C/ra93lal2/.local/share/virtualenvs/CMA_Fairness_v2-3j10GkSs/lib/python3.10/site-packages/IPython/core/magics/osm.py:393: UserWarning: This is now an optional IPython functionality, using bookmarks requires you to install the `pickleshare` library.\n",
      "  bkms = self.shell.db.get('bookmarks', {})\n",
      "/dss/dsshome1/0C/ra93lal2/.local/share/virtualenvs/CMA_Fairness_v2-3j10GkSs/lib/python3.10/site-packages/IPython/core/magics/osm.py:417: UserWarning: This is now an optional IPython functionality, setting dhist requires you to install the `pickleshare` library.\n",
      "  self.shell.db['dhist'] = compress_dhist(dhist)[-100:]\n"
     ]
    }
   ],
   "source": [
    "%cd ~/cma/CMA_Fairness_v2"
   ]
  },
  {
   "cell_type": "markdown",
   "id": "de2603b9",
   "metadata": {
    "papermill": {
     "duration": 0.015383,
     "end_time": "2025-08-05T15:36:22.464096",
     "exception": false,
     "start_time": "2025-08-05T15:36:22.448713",
     "status": "completed"
    },
    "tags": []
   },
   "source": [
    "The following cell holds the definition of our parameters, these values can be overriden by rendering the with e.g. the following command:\n",
    "\n",
    "papermill -p alpha 0.2 -p ratio 0.3 universe_analysis.ipynb output/test_run.ipynb"
   ]
  },
  {
   "cell_type": "code",
   "execution_count": 2,
   "id": "a80968a0-40bb-4fa9-85ef-2d5eefb01975",
   "metadata": {
    "execution": {
     "iopub.execute_input": "2025-08-05T15:36:22.499788Z",
     "iopub.status.busy": "2025-08-05T15:36:22.498977Z",
     "iopub.status.idle": "2025-08-05T15:36:22.505062Z",
     "shell.execute_reply": "2025-08-05T15:36:22.504099Z"
    },
    "papermill": {
     "duration": 0.026263,
     "end_time": "2025-08-05T15:36:22.506922",
     "exception": false,
     "start_time": "2025-08-05T15:36:22.480659",
     "status": "completed"
    },
    "tags": []
   },
   "outputs": [
    {
     "name": "stdout",
     "output_type": "stream",
     "text": [
      "Current working directory: /dss/dsshome1/0C/ra93lal2/cma/CMA_Fairness_v2\n"
     ]
    }
   ],
   "source": [
    "import os\n",
    "print(\"Current working directory:\", os.getcwd())"
   ]
  },
  {
   "cell_type": "code",
   "execution_count": 3,
   "id": "2dce4c03",
   "metadata": {
    "execution": {
     "iopub.execute_input": "2025-08-05T15:36:22.540556Z",
     "iopub.status.busy": "2025-08-05T15:36:22.539861Z",
     "iopub.status.idle": "2025-08-05T15:36:22.546302Z",
     "shell.execute_reply": "2025-08-05T15:36:22.545187Z"
    },
    "papermill": {
     "duration": 0.0251,
     "end_time": "2025-08-05T15:36:22.548259",
     "exception": false,
     "start_time": "2025-08-05T15:36:22.523159",
     "status": "completed"
    },
    "tags": [
     "parameters"
    ]
   },
   "outputs": [],
   "source": [
    "run_no = 0\n",
    "universe_id = \"test\"\n",
    "universe = {\n",
    "    \"training_size\": \"25k\", # \"25k\", \"5k\", \"1k\"\n",
    "    \"training_year\": \"2014\", # \"2014\", \"2012_14\", \"2010_14\"\n",
    "    \"scale\": \"scale\", # \"scale\", \"do-not-scale\",\n",
    "    \"model\": \"elasticnet\", # \"logreg\", \"penalized_logreg\", \"rf\", \"gbm\", \"elasticnet\"\n",
    "    \"cutoff\": [\"quantile_0.15\", \"quantile_0.30\"],\n",
    "    \"exclude_features\": \"age\", # \"none\", \"nationality\", \"sex\", \"nationality-sex\", \"age\"\n",
    "    \"exclude_subgroups\": \"keep-all\", # \"keep-all\", \"drop-non-german\"\n",
    "    \"eval_fairness_grouping\": [\"majority-minority\", \"nationality-all\"]\n",
    "}\n",
    "\n",
    "output_dir=\"./output\"\n",
    "seed=0"
   ]
  },
  {
   "cell_type": "code",
   "execution_count": 4,
   "id": "e8503a64",
   "metadata": {
    "execution": {
     "iopub.execute_input": "2025-08-05T15:36:22.583903Z",
     "iopub.status.busy": "2025-08-05T15:36:22.583287Z",
     "iopub.status.idle": "2025-08-05T15:36:22.588769Z",
     "shell.execute_reply": "2025-08-05T15:36:22.587778Z"
    },
    "papermill": {
     "duration": 0.024169,
     "end_time": "2025-08-05T15:36:22.590681",
     "exception": false,
     "start_time": "2025-08-05T15:36:22.566512",
     "status": "completed"
    },
    "tags": [
     "injected-parameters"
    ]
   },
   "outputs": [],
   "source": [
    "# Parameters\n",
    "universe_id = \"5c459c611d5e90f178f49791f120824a\"\n",
    "run_no = \"15\"\n",
    "universe = \"{\\\"cutoff\\\": [\\\"quantile_0.1\\\", \\\"quantile_0.25\\\"], \\\"eval_fairness_grouping\\\": [\\\"majority-minority\\\", \\\"nationality-all\\\"], \\\"exclude_features\\\": \\\"none\\\", \\\"exclude_subgroups\\\": \\\"drop-non-german\\\", \\\"model\\\": \\\"rf\\\", \\\"scale\\\": \\\"scale\\\", \\\"training_size\\\": \\\"5k\\\", \\\"training_year\\\": \\\"2012_14\\\"}\"\n",
    "output_dir = \"output\"\n",
    "seed = \"2023\"\n"
   ]
  },
  {
   "cell_type": "code",
   "execution_count": 5,
   "id": "1650acaf",
   "metadata": {
    "execution": {
     "iopub.execute_input": "2025-08-05T15:36:22.627295Z",
     "iopub.status.busy": "2025-08-05T15:36:22.626559Z",
     "iopub.status.idle": "2025-08-05T15:36:22.632974Z",
     "shell.execute_reply": "2025-08-05T15:36:22.631682Z"
    },
    "papermill": {
     "duration": 0.027014,
     "end_time": "2025-08-05T15:36:22.634897",
     "exception": false,
     "start_time": "2025-08-05T15:36:22.607883",
     "status": "completed"
    },
    "tags": []
   },
   "outputs": [],
   "source": [
    "import json\n",
    "if isinstance(universe, str):\n",
    "    universe = json.loads(universe)"
   ]
  },
  {
   "cell_type": "code",
   "execution_count": 6,
   "id": "16620c48",
   "metadata": {
    "execution": {
     "iopub.execute_input": "2025-08-05T15:36:22.668706Z",
     "iopub.status.busy": "2025-08-05T15:36:22.668022Z",
     "iopub.status.idle": "2025-08-05T15:36:22.712933Z",
     "shell.execute_reply": "2025-08-05T15:36:22.711971Z"
    },
    "papermill": {
     "duration": 0.063135,
     "end_time": "2025-08-05T15:36:22.714596",
     "exception": false,
     "start_time": "2025-08-05T15:36:22.651461",
     "status": "completed"
    },
    "tags": []
   },
   "outputs": [],
   "source": [
    "# Auto-reload the custom package\n",
    "%load_ext autoreload\n",
    "%autoreload 1\n",
    "%aimport fairness_multiverse"
   ]
  },
  {
   "cell_type": "code",
   "execution_count": 7,
   "id": "01c5c9f3",
   "metadata": {
    "execution": {
     "iopub.execute_input": "2025-08-05T15:36:22.750185Z",
     "iopub.status.busy": "2025-08-05T15:36:22.749407Z",
     "iopub.status.idle": "2025-08-05T15:36:24.669724Z",
     "shell.execute_reply": "2025-08-05T15:36:24.668609Z"
    },
    "papermill": {
     "duration": 1.940326,
     "end_time": "2025-08-05T15:36:24.671610",
     "exception": false,
     "start_time": "2025-08-05T15:36:22.731284",
     "status": "completed"
    },
    "tags": []
   },
   "outputs": [],
   "source": [
    "from fairness_multiverse.universe import UniverseAnalysis\n",
    "\n",
    "universe_analysis = UniverseAnalysis(\n",
    "    run_no = run_no,\n",
    "    universe_id = universe_id,\n",
    "    universe = universe,\n",
    "    output_dir=output_dir,\n",
    ")"
   ]
  },
  {
   "cell_type": "code",
   "execution_count": 8,
   "id": "106241f5",
   "metadata": {
    "execution": {
     "iopub.execute_input": "2025-08-05T15:36:24.707792Z",
     "iopub.status.busy": "2025-08-05T15:36:24.707121Z",
     "iopub.status.idle": "2025-08-05T15:36:24.714083Z",
     "shell.execute_reply": "2025-08-05T15:36:24.713011Z"
    },
    "papermill": {
     "duration": 0.027005,
     "end_time": "2025-08-05T15:36:24.715952",
     "exception": false,
     "start_time": "2025-08-05T15:36:24.688947",
     "status": "completed"
    },
    "tags": []
   },
   "outputs": [
    {
     "name": "stdout",
     "output_type": "stream",
     "text": [
      "Using Seed: 2023\n"
     ]
    }
   ],
   "source": [
    "import numpy as np\n",
    "parsed_seed = int(seed)\n",
    "np.random.seed(parsed_seed)\n",
    "print(f\"Using Seed: {parsed_seed}\")"
   ]
  },
  {
   "cell_type": "markdown",
   "id": "e0ebdc57",
   "metadata": {
    "papermill": {
     "duration": 0.017164,
     "end_time": "2025-08-05T15:36:24.750538",
     "exception": false,
     "start_time": "2025-08-05T15:36:24.733374",
     "status": "completed"
    },
    "tags": []
   },
   "source": [
    "# Loading Data"
   ]
  },
  {
   "cell_type": "code",
   "execution_count": 9,
   "id": "f0496b8a",
   "metadata": {
    "execution": {
     "iopub.execute_input": "2025-08-05T15:36:24.787066Z",
     "iopub.status.busy": "2025-08-05T15:36:24.786168Z",
     "iopub.status.idle": "2025-08-05T15:36:36.924881Z",
     "shell.execute_reply": "2025-08-05T15:36:36.923642Z"
    },
    "papermill": {
     "duration": 12.159222,
     "end_time": "2025-08-05T15:36:36.926795",
     "exception": false,
     "start_time": "2025-08-05T15:36:24.767573",
     "status": "completed"
    },
    "tags": []
   },
   "outputs": [
    {
     "name": "stdout",
     "output_type": "stream",
     "text": [
      "Loading SIAB data from cache: data/siab_cached.csv.gz\n"
     ]
    },
    {
     "name": "stdout",
     "output_type": "stream",
     "text": [
      "(643690, 164)\n"
     ]
    }
   ],
   "source": [
    "from pathlib import Path\n",
    "import pandas as pd\n",
    "\n",
    "# File paths\n",
    "raw_file = Path(\"data/raw/siab.csv\")\n",
    "cache_file = Path(\"data/siab_cached.csv.gz\")\n",
    "\n",
    "# Ensure cache directory exists\n",
    "cache_file.parent.mkdir(parents=True, exist_ok=True)\n",
    "\n",
    "# Load with simple caching\n",
    "if cache_file.exists():\n",
    "    print(f\"Loading SIAB data from cache: {cache_file}\")\n",
    "    siab = pd.read_csv(cache_file, compression='gzip')\n",
    "else:\n",
    "    print(f\"Cache not found. Reading raw SIAB data: {raw_file}\")\n",
    "    siab = pd.read_csv(raw_file)\n",
    "    siab.to_csv(cache_file, index=False, compression='gzip')\n",
    "    print(f\"Cached SIAB data to: {cache_file}\")\n",
    "\n",
    "print(siab.shape)"
   ]
  },
  {
   "cell_type": "code",
   "execution_count": 10,
   "id": "db0ca512-5f53-4dba-abdb-a2888bca41ba",
   "metadata": {
    "execution": {
     "iopub.execute_input": "2025-08-05T15:36:36.967809Z",
     "iopub.status.busy": "2025-08-05T15:36:36.967281Z",
     "iopub.status.idle": "2025-08-05T15:36:36.974019Z",
     "shell.execute_reply": "2025-08-05T15:36:36.971903Z"
    },
    "papermill": {
     "duration": 0.028373,
     "end_time": "2025-08-05T15:36:36.975912",
     "exception": false,
     "start_time": "2025-08-05T15:36:36.947539",
     "status": "completed"
    },
    "tags": []
   },
   "outputs": [],
   "source": [
    "#siab"
   ]
  },
  {
   "cell_type": "markdown",
   "id": "997051c5-15bd-4b69-9786-c3001a3ce484",
   "metadata": {
    "papermill": {
     "duration": 0.017886,
     "end_time": "2025-08-05T15:36:37.013579",
     "exception": false,
     "start_time": "2025-08-05T15:36:36.995693",
     "status": "completed"
    },
    "tags": []
   },
   "source": [
    "# Splitting Data and Setting Training Data Size"
   ]
  },
  {
   "cell_type": "code",
   "execution_count": 11,
   "id": "aea9c6ef-6f46-42c8-85eb-5a62025c1508",
   "metadata": {
    "execution": {
     "iopub.execute_input": "2025-08-05T15:36:37.050914Z",
     "iopub.status.busy": "2025-08-05T15:36:37.050404Z",
     "iopub.status.idle": "2025-08-05T15:36:37.699072Z",
     "shell.execute_reply": "2025-08-05T15:36:37.697996Z"
    },
    "papermill": {
     "duration": 0.669466,
     "end_time": "2025-08-05T15:36:37.701536",
     "exception": false,
     "start_time": "2025-08-05T15:36:37.032070",
     "status": "completed"
    },
    "tags": []
   },
   "outputs": [],
   "source": [
    "from fairness_multiverse.universe import sample_by_year_size\n",
    "\n",
    "siab_train = sample_by_year_size(siab,\n",
    "                               training_year=universe[\"training_year\"],\n",
    "                               training_size=universe[\"training_size\"])"
   ]
  },
  {
   "cell_type": "code",
   "execution_count": 12,
   "id": "8d3afb32-789d-442c-8d5d-9f5aa8dd2eed",
   "metadata": {
    "execution": {
     "iopub.execute_input": "2025-08-05T15:36:37.755855Z",
     "iopub.status.busy": "2025-08-05T15:36:37.755123Z",
     "iopub.status.idle": "2025-08-05T15:36:37.760761Z",
     "shell.execute_reply": "2025-08-05T15:36:37.759607Z"
    },
    "papermill": {
     "duration": 0.035304,
     "end_time": "2025-08-05T15:36:37.763034",
     "exception": false,
     "start_time": "2025-08-05T15:36:37.727730",
     "status": "completed"
    },
    "tags": []
   },
   "outputs": [],
   "source": [
    "#siab_train.shape"
   ]
  },
  {
   "cell_type": "code",
   "execution_count": 13,
   "id": "d582db68-1a4c-47fb-84fc-08518dc1975a",
   "metadata": {
    "execution": {
     "iopub.execute_input": "2025-08-05T15:36:37.819145Z",
     "iopub.status.busy": "2025-08-05T15:36:37.818765Z",
     "iopub.status.idle": "2025-08-05T15:36:37.824294Z",
     "shell.execute_reply": "2025-08-05T15:36:37.823012Z"
    },
    "papermill": {
     "duration": 0.037034,
     "end_time": "2025-08-05T15:36:37.826787",
     "exception": false,
     "start_time": "2025-08-05T15:36:37.789753",
     "status": "completed"
    },
    "tags": []
   },
   "outputs": [],
   "source": [
    "#display(siab_train.groupby(\"year\").size())"
   ]
  },
  {
   "cell_type": "code",
   "execution_count": 14,
   "id": "a561edb4-d032-42cb-8256-22eac1111c64",
   "metadata": {
    "execution": {
     "iopub.execute_input": "2025-08-05T15:36:37.885046Z",
     "iopub.status.busy": "2025-08-05T15:36:37.884656Z",
     "iopub.status.idle": "2025-08-05T15:36:38.124743Z",
     "shell.execute_reply": "2025-08-05T15:36:38.123674Z"
    },
    "papermill": {
     "duration": 0.271607,
     "end_time": "2025-08-05T15:36:38.126910",
     "exception": false,
     "start_time": "2025-08-05T15:36:37.855303",
     "status": "completed"
    },
    "tags": []
   },
   "outputs": [],
   "source": [
    "#siab_train = siab_s[siab_s.year < 2015]\n",
    "siab_calib = siab[siab.year == 2015]\n",
    "siab_test = siab[siab.year == 2016]"
   ]
  },
  {
   "cell_type": "code",
   "execution_count": 15,
   "id": "472de16f-c3db-4916-846b-1f0de9cf1746",
   "metadata": {
    "execution": {
     "iopub.execute_input": "2025-08-05T15:36:38.156115Z",
     "iopub.status.busy": "2025-08-05T15:36:38.155712Z",
     "iopub.status.idle": "2025-08-05T15:36:38.164107Z",
     "shell.execute_reply": "2025-08-05T15:36:38.163111Z"
    },
    "papermill": {
     "duration": 0.02039,
     "end_time": "2025-08-05T15:36:38.166215",
     "exception": false,
     "start_time": "2025-08-05T15:36:38.145825",
     "status": "completed"
    },
    "tags": []
   },
   "outputs": [],
   "source": [
    "X_train = siab_train.iloc[:,4:164]\n",
    "y_train = siab_train.iloc[:, [3]]"
   ]
  },
  {
   "cell_type": "code",
   "execution_count": 16,
   "id": "828c96af-f43a-4ed6-ba47-8ac73a47d56c",
   "metadata": {
    "execution": {
     "iopub.execute_input": "2025-08-05T15:36:38.207599Z",
     "iopub.status.busy": "2025-08-05T15:36:38.206750Z",
     "iopub.status.idle": "2025-08-05T15:36:38.260737Z",
     "shell.execute_reply": "2025-08-05T15:36:38.259717Z"
    },
    "papermill": {
     "duration": 0.077679,
     "end_time": "2025-08-05T15:36:38.263487",
     "exception": false,
     "start_time": "2025-08-05T15:36:38.185808",
     "status": "completed"
    },
    "tags": []
   },
   "outputs": [],
   "source": [
    "X_calib = siab_calib.iloc[:,4:164]\n",
    "y_calib = siab_calib.iloc[:, [3]]"
   ]
  },
  {
   "cell_type": "code",
   "execution_count": 17,
   "id": "c34be9c3-6bd6-476e-acd3-845840e303be",
   "metadata": {
    "execution": {
     "iopub.execute_input": "2025-08-05T15:36:38.301808Z",
     "iopub.status.busy": "2025-08-05T15:36:38.300594Z",
     "iopub.status.idle": "2025-08-05T15:36:38.365284Z",
     "shell.execute_reply": "2025-08-05T15:36:38.363960Z"
    },
    "papermill": {
     "duration": 0.086844,
     "end_time": "2025-08-05T15:36:38.367949",
     "exception": false,
     "start_time": "2025-08-05T15:36:38.281105",
     "status": "completed"
    },
    "tags": []
   },
   "outputs": [],
   "source": [
    "X_test = siab_test.iloc[:,4:164]\n",
    "y_true = siab_test.iloc[:, [3]]"
   ]
  },
  {
   "cell_type": "code",
   "execution_count": 18,
   "id": "e6c733c5",
   "metadata": {
    "execution": {
     "iopub.execute_input": "2025-08-05T15:36:38.421650Z",
     "iopub.status.busy": "2025-08-05T15:36:38.420920Z",
     "iopub.status.idle": "2025-08-05T15:36:38.514359Z",
     "shell.execute_reply": "2025-08-05T15:36:38.513132Z"
    },
    "papermill": {
     "duration": 0.121505,
     "end_time": "2025-08-05T15:36:38.516041",
     "exception": false,
     "start_time": "2025-08-05T15:36:38.394536",
     "status": "completed"
    },
    "tags": []
   },
   "outputs": [],
   "source": [
    "# Auxiliary data needed downstream in the pipeline\n",
    "\n",
    "org_train = X_train.copy()\n",
    "org_test = X_test.copy()\n",
    "org_calib = X_calib.copy()"
   ]
  },
  {
   "cell_type": "markdown",
   "id": "0a4a1b33",
   "metadata": {
    "papermill": {
     "duration": 0.019379,
     "end_time": "2025-08-05T15:36:38.555744",
     "exception": false,
     "start_time": "2025-08-05T15:36:38.536365",
     "status": "completed"
    },
    "tags": []
   },
   "source": [
    "# Preprocessing Data"
   ]
  },
  {
   "cell_type": "code",
   "execution_count": 19,
   "id": "ca879031",
   "metadata": {
    "execution": {
     "iopub.execute_input": "2025-08-05T15:36:38.591085Z",
     "iopub.status.busy": "2025-08-05T15:36:38.590279Z",
     "iopub.status.idle": "2025-08-05T15:36:38.596573Z",
     "shell.execute_reply": "2025-08-05T15:36:38.595650Z"
    },
    "papermill": {
     "duration": 0.029143,
     "end_time": "2025-08-05T15:36:38.598298",
     "exception": false,
     "start_time": "2025-08-05T15:36:38.569155",
     "status": "completed"
    },
    "tags": []
   },
   "outputs": [],
   "source": [
    "# EXCLUDE PROTECTED FEATURES\n",
    "# ----------------------\n",
    "# \"exclude_features\": \"none\", # \"nationality\", \"sex\", \"nationality-sex\"\n",
    "\n",
    "excluded_features = universe[\"exclude_features\"].split(\"-\") # split, e.g.: \"nationality-sex\" -> [\"nationality\", \"sex\"]\n",
    "excluded_features_dictionary = {\n",
    "    \"nationality\": [\"maxdeutsch1\", \"maxdeutsch.Missing.\"],\n",
    "    \"sex\": [\"frau1\"],\n",
    "    \"age\": [\"age\"],\n",
    "}"
   ]
  },
  {
   "cell_type": "code",
   "execution_count": 20,
   "id": "b745ac60",
   "metadata": {
    "execution": {
     "iopub.execute_input": "2025-08-05T15:36:38.635053Z",
     "iopub.status.busy": "2025-08-05T15:36:38.633815Z",
     "iopub.status.idle": "2025-08-05T15:36:38.641944Z",
     "shell.execute_reply": "2025-08-05T15:36:38.640436Z"
    },
    "papermill": {
     "duration": 0.028513,
     "end_time": "2025-08-05T15:36:38.643771",
     "exception": false,
     "start_time": "2025-08-05T15:36:38.615258",
     "status": "completed"
    },
    "tags": []
   },
   "outputs": [],
   "source": [
    "# Code nice names to column names\n",
    "\n",
    "excluded_features_columns = [\n",
    "    excluded_features_dictionary[f] for f in excluded_features if len(f) > 0 and f != \"none\"\n",
    "]"
   ]
  },
  {
   "cell_type": "code",
   "execution_count": 21,
   "id": "f84f73a2",
   "metadata": {
    "execution": {
     "iopub.execute_input": "2025-08-05T15:36:38.680642Z",
     "iopub.status.busy": "2025-08-05T15:36:38.679845Z",
     "iopub.status.idle": "2025-08-05T15:36:38.687613Z",
     "shell.execute_reply": "2025-08-05T15:36:38.686449Z"
    },
    "papermill": {
     "duration": 0.027414,
     "end_time": "2025-08-05T15:36:38.689512",
     "exception": false,
     "start_time": "2025-08-05T15:36:38.662098",
     "status": "completed"
    },
    "tags": []
   },
   "outputs": [],
   "source": [
    "from utils import flatten_once\n",
    "\n",
    "excluded_features_columns = flatten_once(excluded_features_columns)"
   ]
  },
  {
   "cell_type": "code",
   "execution_count": 22,
   "id": "884dea22",
   "metadata": {
    "execution": {
     "iopub.execute_input": "2025-08-05T15:36:38.726848Z",
     "iopub.status.busy": "2025-08-05T15:36:38.726218Z",
     "iopub.status.idle": "2025-08-05T15:36:38.732354Z",
     "shell.execute_reply": "2025-08-05T15:36:38.731463Z"
    },
    "papermill": {
     "duration": 0.025773,
     "end_time": "2025-08-05T15:36:38.733942",
     "exception": false,
     "start_time": "2025-08-05T15:36:38.708169",
     "status": "completed"
    },
    "tags": []
   },
   "outputs": [],
   "source": [
    "if len(excluded_features_columns) > 0:\n",
    "    print(f\"Dropping features: {excluded_features_columns}\")\n",
    "    X_train.drop(excluded_features_columns, axis=1, inplace=True)"
   ]
  },
  {
   "cell_type": "code",
   "execution_count": 23,
   "id": "95ab8b16",
   "metadata": {
    "execution": {
     "iopub.execute_input": "2025-08-05T15:36:38.772282Z",
     "iopub.status.busy": "2025-08-05T15:36:38.771659Z",
     "iopub.status.idle": "2025-08-05T15:36:38.778861Z",
     "shell.execute_reply": "2025-08-05T15:36:38.777571Z"
    },
    "papermill": {
     "duration": 0.028583,
     "end_time": "2025-08-05T15:36:38.780725",
     "exception": false,
     "start_time": "2025-08-05T15:36:38.752142",
     "status": "completed"
    },
    "tags": []
   },
   "outputs": [],
   "source": [
    "if len(excluded_features_columns) > 0:\n",
    "    print(f\"Dropping features: {excluded_features_columns}\")\n",
    "    X_test.drop(excluded_features_columns, axis=1, inplace=True)"
   ]
  },
  {
   "cell_type": "code",
   "execution_count": 24,
   "id": "1853aaf5-fb9f-46cb-a2b5-8ea4ae2237e4",
   "metadata": {
    "execution": {
     "iopub.execute_input": "2025-08-05T15:36:38.816875Z",
     "iopub.status.busy": "2025-08-05T15:36:38.816158Z",
     "iopub.status.idle": "2025-08-05T15:36:38.823900Z",
     "shell.execute_reply": "2025-08-05T15:36:38.822734Z"
    },
    "papermill": {
     "duration": 0.027896,
     "end_time": "2025-08-05T15:36:38.825992",
     "exception": false,
     "start_time": "2025-08-05T15:36:38.798096",
     "status": "completed"
    },
    "tags": []
   },
   "outputs": [],
   "source": [
    "if len(excluded_features_columns) > 0:\n",
    "    print(f\"Dropping features: {excluded_features_columns}\")\n",
    "    X_calib.drop(excluded_features_columns, axis=1, inplace=True)"
   ]
  },
  {
   "cell_type": "code",
   "execution_count": 25,
   "id": "76c4dc6d",
   "metadata": {
    "execution": {
     "iopub.execute_input": "2025-08-05T15:36:38.863132Z",
     "iopub.status.busy": "2025-08-05T15:36:38.862240Z",
     "iopub.status.idle": "2025-08-05T15:36:38.867925Z",
     "shell.execute_reply": "2025-08-05T15:36:38.866970Z"
    },
    "papermill": {
     "duration": 0.024797,
     "end_time": "2025-08-05T15:36:38.869653",
     "exception": false,
     "start_time": "2025-08-05T15:36:38.844856",
     "status": "completed"
    },
    "tags": []
   },
   "outputs": [],
   "source": [
    "# EXCLUDE CERTAIN SUBGROUPS\n",
    "# ----------------------\n",
    "\n",
    "mode = universe.get(\"exclude_subgroups\", \"keep-all\") \n",
    "# Fetches the exclude_subgroups setting from the universe dict.\n",
    "# Defaults to \"keep-all\" if the key is missing."
   ]
  },
  {
   "cell_type": "code",
   "execution_count": 26,
   "id": "21994072",
   "metadata": {
    "execution": {
     "iopub.execute_input": "2025-08-05T15:36:38.906148Z",
     "iopub.status.busy": "2025-08-05T15:36:38.905325Z",
     "iopub.status.idle": "2025-08-05T15:36:38.912601Z",
     "shell.execute_reply": "2025-08-05T15:36:38.911479Z"
    },
    "papermill": {
     "duration": 0.027428,
     "end_time": "2025-08-05T15:36:38.914179",
     "exception": false,
     "start_time": "2025-08-05T15:36:38.886751",
     "status": "completed"
    },
    "tags": []
   },
   "outputs": [],
   "source": [
    "if mode == \"keep-all\":\n",
    "    keep_mask = pd.Series(True, index=org_train.index)\n",
    "\n",
    "# org_train contains the original feature columns from features_org (in Simson)\n",
    "# features_org contains unprocessed features, for me X_train at beginning ???\n",
    "# For keep-all, creates a boolean Series (keep_mask) of all True, so no rows are removed.\n",
    "\n",
    "elif mode == \"drop-non-german\":\n",
    "    keep_mask = org_train[\"maxdeutsch1\"] == 1 # ??? what about missing values?\n",
    "\n",
    "else:\n",
    "    raise ValueError(f\"Unsupported mode for exclude_subgroups: {mode}\")"
   ]
  },
  {
   "cell_type": "code",
   "execution_count": 27,
   "id": "71651440",
   "metadata": {
    "execution": {
     "iopub.execute_input": "2025-08-05T15:36:38.950556Z",
     "iopub.status.busy": "2025-08-05T15:36:38.949751Z",
     "iopub.status.idle": "2025-08-05T15:36:38.957258Z",
     "shell.execute_reply": "2025-08-05T15:36:38.956283Z"
    },
    "papermill": {
     "duration": 0.02728,
     "end_time": "2025-08-05T15:36:38.958785",
     "exception": false,
     "start_time": "2025-08-05T15:36:38.931505",
     "status": "completed"
    },
    "tags": []
   },
   "outputs": [
    {
     "name": "stdout",
     "output_type": "stream",
     "text": [
      "Dropping 665 rows (13.30%) where mode='drop-non-german'\n"
     ]
    }
   ],
   "source": [
    "n_drop = (~keep_mask).sum() # Calculates how many rows are set to be dropped\n",
    "if n_drop > 0:\n",
    "    pct = n_drop / len(keep_mask) * 100\n",
    "    print(f\"Dropping {n_drop} rows ({pct:.2f}%) where mode='{mode}'\")"
   ]
  },
  {
   "cell_type": "code",
   "execution_count": 28,
   "id": "5fb8eee5",
   "metadata": {
    "execution": {
     "iopub.execute_input": "2025-08-05T15:36:38.996265Z",
     "iopub.status.busy": "2025-08-05T15:36:38.995707Z",
     "iopub.status.idle": "2025-08-05T15:36:39.003788Z",
     "shell.execute_reply": "2025-08-05T15:36:39.002634Z"
    },
    "papermill": {
     "duration": 0.028126,
     "end_time": "2025-08-05T15:36:39.005448",
     "exception": false,
     "start_time": "2025-08-05T15:36:38.977322",
     "status": "completed"
    },
    "tags": []
   },
   "outputs": [],
   "source": [
    "X_train = X_train[keep_mask]"
   ]
  },
  {
   "cell_type": "code",
   "execution_count": 29,
   "id": "b202bb3a",
   "metadata": {
    "execution": {
     "iopub.execute_input": "2025-08-05T15:36:39.043487Z",
     "iopub.status.busy": "2025-08-05T15:36:39.042599Z",
     "iopub.status.idle": "2025-08-05T15:36:39.049339Z",
     "shell.execute_reply": "2025-08-05T15:36:39.048337Z"
    },
    "papermill": {
     "duration": 0.027187,
     "end_time": "2025-08-05T15:36:39.051136",
     "exception": false,
     "start_time": "2025-08-05T15:36:39.023949",
     "status": "completed"
    },
    "tags": []
   },
   "outputs": [],
   "source": [
    "y_train = y_train[keep_mask]"
   ]
  },
  {
   "cell_type": "markdown",
   "id": "493e2ac3",
   "metadata": {
    "papermill": {
     "duration": 0.017369,
     "end_time": "2025-08-05T15:36:39.087911",
     "exception": false,
     "start_time": "2025-08-05T15:36:39.070542",
     "status": "completed"
    },
    "tags": []
   },
   "source": [
    "# Model Training"
   ]
  },
  {
   "cell_type": "code",
   "execution_count": 30,
   "id": "679e1268",
   "metadata": {
    "execution": {
     "iopub.execute_input": "2025-08-05T15:36:39.125627Z",
     "iopub.status.busy": "2025-08-05T15:36:39.124979Z",
     "iopub.status.idle": "2025-08-05T15:36:39.213981Z",
     "shell.execute_reply": "2025-08-05T15:36:39.212843Z"
    },
    "papermill": {
     "duration": 0.109441,
     "end_time": "2025-08-05T15:36:39.215694",
     "exception": false,
     "start_time": "2025-08-05T15:36:39.106253",
     "status": "completed"
    },
    "tags": []
   },
   "outputs": [],
   "source": [
    "from sklearn.linear_model import LogisticRegression\n",
    "from sklearn.ensemble import GradientBoostingClassifier, RandomForestClassifier\n",
    "\n",
    "if (universe[\"model\"] == \"logreg\"):\n",
    "    model = LogisticRegression() #penalty=\"none\", solver=\"newton-cg\", max_iter=1) # include random_state=19 ?\n",
    "elif (universe[\"model\"] == \"penalized_logreg\"):\n",
    "    model = LogisticRegression(penalty=\"l2\", C=0.1) #, solver=\"newton-cg\", max_iter=1)\n",
    "elif (universe[\"model\"] == \"rf\"):\n",
    "    model = RandomForestClassifier() # n_estimators=100, n_jobs=-1\n",
    "elif (universe[\"model\"] == \"gbm\"):\n",
    "    model = GradientBoostingClassifier()\n",
    "elif (universe[\"model\"] == \"elasticnet\"):\n",
    "    model = LogisticRegression(penalty = 'elasticnet', solver = 'saga', l1_ratio = 0.5) # max_iter=5000\n",
    "else:\n",
    "    raise \"Unsupported universe.model\""
   ]
  },
  {
   "cell_type": "code",
   "execution_count": 31,
   "id": "0cc8f744",
   "metadata": {
    "execution": {
     "iopub.execute_input": "2025-08-05T15:36:39.255395Z",
     "iopub.status.busy": "2025-08-05T15:36:39.254653Z",
     "iopub.status.idle": "2025-08-05T15:36:39.262475Z",
     "shell.execute_reply": "2025-08-05T15:36:39.261144Z"
    },
    "papermill": {
     "duration": 0.028609,
     "end_time": "2025-08-05T15:36:39.264299",
     "exception": false,
     "start_time": "2025-08-05T15:36:39.235690",
     "status": "completed"
    },
    "tags": []
   },
   "outputs": [],
   "source": [
    "import numpy as np\n",
    "from sklearn.pipeline import Pipeline\n",
    "from sklearn.preprocessing import StandardScaler\n",
    "\n",
    "model = Pipeline([\n",
    "    #(\"continuous_processor\", continuous_processor),\n",
    "    #(\"categorical_preprocessor\", categorical_preprocessor),\n",
    "    (\"scale\", StandardScaler() if universe[\"scale\"] == \"scale\" else None), \n",
    "    (\"model\", model),\n",
    "])"
   ]
  },
  {
   "cell_type": "code",
   "execution_count": 32,
   "id": "9442c04d",
   "metadata": {
    "execution": {
     "iopub.execute_input": "2025-08-05T15:36:39.305097Z",
     "iopub.status.busy": "2025-08-05T15:36:39.304608Z",
     "iopub.status.idle": "2025-08-05T15:36:40.575379Z",
     "shell.execute_reply": "2025-08-05T15:36:40.574435Z"
    },
    "papermill": {
     "duration": 1.290461,
     "end_time": "2025-08-05T15:36:40.576942",
     "exception": false,
     "start_time": "2025-08-05T15:36:39.286481",
     "status": "completed"
    },
    "tags": []
   },
   "outputs": [
    {
     "data": {
      "text/html": [
       "<style>#sk-container-id-1 {color: black;background-color: white;}#sk-container-id-1 pre{padding: 0;}#sk-container-id-1 div.sk-toggleable {background-color: white;}#sk-container-id-1 label.sk-toggleable__label {cursor: pointer;display: block;width: 100%;margin-bottom: 0;padding: 0.3em;box-sizing: border-box;text-align: center;}#sk-container-id-1 label.sk-toggleable__label-arrow:before {content: \"▸\";float: left;margin-right: 0.25em;color: #696969;}#sk-container-id-1 label.sk-toggleable__label-arrow:hover:before {color: black;}#sk-container-id-1 div.sk-estimator:hover label.sk-toggleable__label-arrow:before {color: black;}#sk-container-id-1 div.sk-toggleable__content {max-height: 0;max-width: 0;overflow: hidden;text-align: left;background-color: #f0f8ff;}#sk-container-id-1 div.sk-toggleable__content pre {margin: 0.2em;color: black;border-radius: 0.25em;background-color: #f0f8ff;}#sk-container-id-1 input.sk-toggleable__control:checked~div.sk-toggleable__content {max-height: 200px;max-width: 100%;overflow: auto;}#sk-container-id-1 input.sk-toggleable__control:checked~label.sk-toggleable__label-arrow:before {content: \"▾\";}#sk-container-id-1 div.sk-estimator input.sk-toggleable__control:checked~label.sk-toggleable__label {background-color: #d4ebff;}#sk-container-id-1 div.sk-label input.sk-toggleable__control:checked~label.sk-toggleable__label {background-color: #d4ebff;}#sk-container-id-1 input.sk-hidden--visually {border: 0;clip: rect(1px 1px 1px 1px);clip: rect(1px, 1px, 1px, 1px);height: 1px;margin: -1px;overflow: hidden;padding: 0;position: absolute;width: 1px;}#sk-container-id-1 div.sk-estimator {font-family: monospace;background-color: #f0f8ff;border: 1px dotted black;border-radius: 0.25em;box-sizing: border-box;margin-bottom: 0.5em;}#sk-container-id-1 div.sk-estimator:hover {background-color: #d4ebff;}#sk-container-id-1 div.sk-parallel-item::after {content: \"\";width: 100%;border-bottom: 1px solid gray;flex-grow: 1;}#sk-container-id-1 div.sk-label:hover label.sk-toggleable__label {background-color: #d4ebff;}#sk-container-id-1 div.sk-serial::before {content: \"\";position: absolute;border-left: 1px solid gray;box-sizing: border-box;top: 0;bottom: 0;left: 50%;z-index: 0;}#sk-container-id-1 div.sk-serial {display: flex;flex-direction: column;align-items: center;background-color: white;padding-right: 0.2em;padding-left: 0.2em;position: relative;}#sk-container-id-1 div.sk-item {position: relative;z-index: 1;}#sk-container-id-1 div.sk-parallel {display: flex;align-items: stretch;justify-content: center;background-color: white;position: relative;}#sk-container-id-1 div.sk-item::before, #sk-container-id-1 div.sk-parallel-item::before {content: \"\";position: absolute;border-left: 1px solid gray;box-sizing: border-box;top: 0;bottom: 0;left: 50%;z-index: -1;}#sk-container-id-1 div.sk-parallel-item {display: flex;flex-direction: column;z-index: 1;position: relative;background-color: white;}#sk-container-id-1 div.sk-parallel-item:first-child::after {align-self: flex-end;width: 50%;}#sk-container-id-1 div.sk-parallel-item:last-child::after {align-self: flex-start;width: 50%;}#sk-container-id-1 div.sk-parallel-item:only-child::after {width: 0;}#sk-container-id-1 div.sk-dashed-wrapped {border: 1px dashed gray;margin: 0 0.4em 0.5em 0.4em;box-sizing: border-box;padding-bottom: 0.4em;background-color: white;}#sk-container-id-1 div.sk-label label {font-family: monospace;font-weight: bold;display: inline-block;line-height: 1.2em;}#sk-container-id-1 div.sk-label-container {text-align: center;}#sk-container-id-1 div.sk-container {/* jupyter's `normalize.less` sets `[hidden] { display: none; }` but bootstrap.min.css set `[hidden] { display: none !important; }` so we also need the `!important` here to be able to override the default hidden behavior on the sphinx rendered scikit-learn.org. See: https://github.com/scikit-learn/scikit-learn/issues/21755 */display: inline-block !important;position: relative;}#sk-container-id-1 div.sk-text-repr-fallback {display: none;}</style><div id=\"sk-container-id-1\" class=\"sk-top-container\"><div class=\"sk-text-repr-fallback\"><pre>Pipeline(steps=[(&#x27;scale&#x27;, StandardScaler()),\n",
       "                (&#x27;model&#x27;, RandomForestClassifier())])</pre><b>In a Jupyter environment, please rerun this cell to show the HTML representation or trust the notebook. <br />On GitHub, the HTML representation is unable to render, please try loading this page with nbviewer.org.</b></div><div class=\"sk-container\" hidden><div class=\"sk-item sk-dashed-wrapped\"><div class=\"sk-label-container\"><div class=\"sk-label sk-toggleable\"><input class=\"sk-toggleable__control sk-hidden--visually\" id=\"sk-estimator-id-1\" type=\"checkbox\" ><label for=\"sk-estimator-id-1\" class=\"sk-toggleable__label sk-toggleable__label-arrow\">Pipeline</label><div class=\"sk-toggleable__content\"><pre>Pipeline(steps=[(&#x27;scale&#x27;, StandardScaler()),\n",
       "                (&#x27;model&#x27;, RandomForestClassifier())])</pre></div></div></div><div class=\"sk-serial\"><div class=\"sk-item\"><div class=\"sk-estimator sk-toggleable\"><input class=\"sk-toggleable__control sk-hidden--visually\" id=\"sk-estimator-id-2\" type=\"checkbox\" ><label for=\"sk-estimator-id-2\" class=\"sk-toggleable__label sk-toggleable__label-arrow\">StandardScaler</label><div class=\"sk-toggleable__content\"><pre>StandardScaler()</pre></div></div></div><div class=\"sk-item\"><div class=\"sk-estimator sk-toggleable\"><input class=\"sk-toggleable__control sk-hidden--visually\" id=\"sk-estimator-id-3\" type=\"checkbox\" ><label for=\"sk-estimator-id-3\" class=\"sk-toggleable__label sk-toggleable__label-arrow\">RandomForestClassifier</label><div class=\"sk-toggleable__content\"><pre>RandomForestClassifier()</pre></div></div></div></div></div></div></div>"
      ],
      "text/plain": [
       "Pipeline(steps=[('scale', StandardScaler()),\n",
       "                ('model', RandomForestClassifier())])"
      ]
     },
     "execution_count": 32,
     "metadata": {},
     "output_type": "execute_result"
    }
   ],
   "source": [
    "model.fit(X_train, y_train.values.ravel())"
   ]
  },
  {
   "cell_type": "code",
   "execution_count": 33,
   "id": "af59f8c0",
   "metadata": {
    "execution": {
     "iopub.execute_input": "2025-08-05T15:36:40.617242Z",
     "iopub.status.busy": "2025-08-05T15:36:40.616575Z",
     "iopub.status.idle": "2025-08-05T15:36:40.622056Z",
     "shell.execute_reply": "2025-08-05T15:36:40.620956Z"
    },
    "papermill": {
     "duration": 0.027699,
     "end_time": "2025-08-05T15:36:40.623860",
     "exception": false,
     "start_time": "2025-08-05T15:36:40.596161",
     "status": "completed"
    },
    "tags": []
   },
   "outputs": [],
   "source": [
    "from fairness_multiverse.universe import predict_w_threshold"
   ]
  },
  {
   "cell_type": "code",
   "execution_count": 34,
   "id": "a7cf2e16",
   "metadata": {
    "execution": {
     "iopub.execute_input": "2025-08-05T15:36:40.663652Z",
     "iopub.status.busy": "2025-08-05T15:36:40.662743Z",
     "iopub.status.idle": "2025-08-05T15:36:42.610927Z",
     "shell.execute_reply": "2025-08-05T15:36:42.610215Z"
    },
    "papermill": {
     "duration": 1.968641,
     "end_time": "2025-08-05T15:36:42.612149",
     "exception": false,
     "start_time": "2025-08-05T15:36:40.643508",
     "status": "completed"
    },
    "tags": []
   },
   "outputs": [
    {
     "data": {
      "text/plain": [
       "0.8635938022516999"
      ]
     },
     "execution_count": 34,
     "metadata": {},
     "output_type": "execute_result"
    }
   ],
   "source": [
    "probs_test = model.predict_proba(X_test)\n",
    "\n",
    "'''\n",
    "Below code returns a boolean array (or binary 0/1 array depending on how it’s used) where each element \n",
    "is True if the probability of class 1 is greater than or equal to the threshold, and False otherwise.\n",
    "'''\n",
    "y_pred_default = predict_w_threshold(probs_test, 0.5)\n",
    "\n",
    "from sklearn.metrics import accuracy_score\n",
    "\n",
    "# Naive prediction\n",
    "accuracy_score(y_true = y_true, y_pred = y_pred_default)"
   ]
  },
  {
   "cell_type": "code",
   "execution_count": 35,
   "id": "081964c3",
   "metadata": {
    "execution": {
     "iopub.execute_input": "2025-08-05T15:36:42.636828Z",
     "iopub.status.busy": "2025-08-05T15:36:42.636072Z",
     "iopub.status.idle": "2025-08-05T15:36:44.328875Z",
     "shell.execute_reply": "2025-08-05T15:36:44.328183Z"
    },
    "papermill": {
     "duration": 1.706862,
     "end_time": "2025-08-05T15:36:44.330162",
     "exception": false,
     "start_time": "2025-08-05T15:36:42.623300",
     "status": "completed"
    },
    "tags": []
   },
   "outputs": [
    {
     "data": {
      "text/plain": [
       "array([0, 0, 0, ..., 0, 0, 0])"
      ]
     },
     "execution_count": 35,
     "metadata": {},
     "output_type": "execute_result"
    }
   ],
   "source": [
    "model.predict(X_test)"
   ]
  },
  {
   "cell_type": "markdown",
   "id": "56c9705b",
   "metadata": {
    "papermill": {
     "duration": 0.010034,
     "end_time": "2025-08-05T15:36:44.350880",
     "exception": false,
     "start_time": "2025-08-05T15:36:44.340846",
     "status": "completed"
    },
    "tags": []
   },
   "source": [
    "# Conformal Prediction"
   ]
  },
  {
   "cell_type": "code",
   "execution_count": 36,
   "id": "160ec6ff",
   "metadata": {
    "execution": {
     "iopub.execute_input": "2025-08-05T15:36:44.372465Z",
     "iopub.status.busy": "2025-08-05T15:36:44.372097Z",
     "iopub.status.idle": "2025-08-05T15:36:44.376925Z",
     "shell.execute_reply": "2025-08-05T15:36:44.376230Z"
    },
    "papermill": {
     "duration": 0.017002,
     "end_time": "2025-08-05T15:36:44.378370",
     "exception": false,
     "start_time": "2025-08-05T15:36:44.361368",
     "status": "completed"
    },
    "tags": []
   },
   "outputs": [],
   "source": [
    "# Miscoverage level for conformal prediction (10% allowed error rate => 90% target coverage)\n",
    "alpha = 0.1"
   ]
  },
  {
   "cell_type": "code",
   "execution_count": 37,
   "id": "eadf4555-3dd3-440e-8e35-f82a4ad9f855",
   "metadata": {
    "execution": {
     "iopub.execute_input": "2025-08-05T15:36:44.400216Z",
     "iopub.status.busy": "2025-08-05T15:36:44.399740Z",
     "iopub.status.idle": "2025-08-05T15:36:45.912903Z",
     "shell.execute_reply": "2025-08-05T15:36:45.912149Z"
    },
    "papermill": {
     "duration": 1.525275,
     "end_time": "2025-08-05T15:36:45.914360",
     "exception": false,
     "start_time": "2025-08-05T15:36:44.389085",
     "status": "completed"
    },
    "tags": []
   },
   "outputs": [],
   "source": [
    "probs_calib = model.predict_proba(X_calib)"
   ]
  },
  {
   "cell_type": "code",
   "execution_count": 38,
   "id": "2ed93547-6d5d-4983-9b36-1ecb300da49a",
   "metadata": {
    "execution": {
     "iopub.execute_input": "2025-08-05T15:36:45.938349Z",
     "iopub.status.busy": "2025-08-05T15:36:45.938015Z",
     "iopub.status.idle": "2025-08-05T15:36:45.942672Z",
     "shell.execute_reply": "2025-08-05T15:36:45.941930Z"
    },
    "papermill": {
     "duration": 0.016646,
     "end_time": "2025-08-05T15:36:45.943957",
     "exception": false,
     "start_time": "2025-08-05T15:36:45.927311",
     "status": "completed"
    },
    "tags": []
   },
   "outputs": [],
   "source": [
    "y_calib = y_calib.values.ravel().astype(int)"
   ]
  },
  {
   "cell_type": "code",
   "execution_count": 39,
   "id": "65d1320d-f588-4b38-9072-62af1ae97f7d",
   "metadata": {
    "execution": {
     "iopub.execute_input": "2025-08-05T15:36:45.965768Z",
     "iopub.status.busy": "2025-08-05T15:36:45.965262Z",
     "iopub.status.idle": "2025-08-05T15:36:45.971134Z",
     "shell.execute_reply": "2025-08-05T15:36:45.970402Z"
    },
    "papermill": {
     "duration": 0.017809,
     "end_time": "2025-08-05T15:36:45.972555",
     "exception": false,
     "start_time": "2025-08-05T15:36:45.954746",
     "status": "completed"
    },
    "tags": []
   },
   "outputs": [],
   "source": [
    "from fairness_multiverse.conformal import compute_nc_scores\n",
    "\n",
    "# Compute nonconformity scores on calibration set (1 - probability of true class)\n",
    "nc_scores = compute_nc_scores(probs_calib, y_calib)"
   ]
  },
  {
   "cell_type": "code",
   "execution_count": 40,
   "id": "df3b8ca3-53b7-43d5-9667-7c85da7aeda2",
   "metadata": {
    "execution": {
     "iopub.execute_input": "2025-08-05T15:36:45.994169Z",
     "iopub.status.busy": "2025-08-05T15:36:45.993669Z",
     "iopub.status.idle": "2025-08-05T15:36:45.999153Z",
     "shell.execute_reply": "2025-08-05T15:36:45.998368Z"
    },
    "papermill": {
     "duration": 0.017399,
     "end_time": "2025-08-05T15:36:46.000463",
     "exception": false,
     "start_time": "2025-08-05T15:36:45.983064",
     "status": "completed"
    },
    "tags": []
   },
   "outputs": [],
   "source": [
    "from fairness_multiverse.conformal import find_threshold\n",
    "\n",
    "# Find conformal threshold q_hat for the given alpha (split conformal method)\n",
    "q_hat = find_threshold(nc_scores, alpha)"
   ]
  },
  {
   "cell_type": "code",
   "execution_count": 41,
   "id": "4d29e6c1-0ef6-4aa4-b8fe-4fe79b0d033a",
   "metadata": {
    "execution": {
     "iopub.execute_input": "2025-08-05T15:36:46.022361Z",
     "iopub.status.busy": "2025-08-05T15:36:46.021698Z",
     "iopub.status.idle": "2025-08-05T15:36:46.027658Z",
     "shell.execute_reply": "2025-08-05T15:36:46.026910Z"
    },
    "papermill": {
     "duration": 0.018024,
     "end_time": "2025-08-05T15:36:46.029028",
     "exception": false,
     "start_time": "2025-08-05T15:36:46.011004",
     "status": "completed"
    },
    "tags": []
   },
   "outputs": [
    {
     "data": {
      "text/plain": [
       "0.6799999999999999"
      ]
     },
     "execution_count": 41,
     "metadata": {},
     "output_type": "execute_result"
    }
   ],
   "source": [
    "q_hat"
   ]
  },
  {
   "cell_type": "code",
   "execution_count": 42,
   "id": "92460794-cdac-4be2-ba28-f28c0515a6fb",
   "metadata": {
    "execution": {
     "iopub.execute_input": "2025-08-05T15:36:46.051056Z",
     "iopub.status.busy": "2025-08-05T15:36:46.050472Z",
     "iopub.status.idle": "2025-08-05T15:36:48.213288Z",
     "shell.execute_reply": "2025-08-05T15:36:48.212539Z"
    },
    "papermill": {
     "duration": 2.175041,
     "end_time": "2025-08-05T15:36:48.214753",
     "exception": false,
     "start_time": "2025-08-05T15:36:46.039712",
     "status": "completed"
    },
    "tags": []
   },
   "outputs": [],
   "source": [
    "from fairness_multiverse.conformal import predict_conformal_sets\n",
    "\n",
    "# Generate prediction sets for each test example\n",
    "pred_sets = predict_conformal_sets(model, X_test, q_hat)"
   ]
  },
  {
   "cell_type": "code",
   "execution_count": 43,
   "id": "d90c9a65-e6db-4f5d-80cd-e68fb7e46829",
   "metadata": {
    "execution": {
     "iopub.execute_input": "2025-08-05T15:36:48.236946Z",
     "iopub.status.busy": "2025-08-05T15:36:48.236603Z",
     "iopub.status.idle": "2025-08-05T15:36:48.241021Z",
     "shell.execute_reply": "2025-08-05T15:36:48.240212Z"
    },
    "papermill": {
     "duration": 0.016945,
     "end_time": "2025-08-05T15:36:48.242554",
     "exception": false,
     "start_time": "2025-08-05T15:36:48.225609",
     "status": "completed"
    },
    "tags": []
   },
   "outputs": [],
   "source": [
    "y_true = y_true.squeeze()"
   ]
  },
  {
   "cell_type": "code",
   "execution_count": 44,
   "id": "3a58a54a-1e68-46b9-927a-df01f18aebc8",
   "metadata": {
    "execution": {
     "iopub.execute_input": "2025-08-05T15:36:48.265264Z",
     "iopub.status.busy": "2025-08-05T15:36:48.264686Z",
     "iopub.status.idle": "2025-08-05T15:36:48.725488Z",
     "shell.execute_reply": "2025-08-05T15:36:48.724753Z"
    },
    "papermill": {
     "duration": 0.473206,
     "end_time": "2025-08-05T15:36:48.726926",
     "exception": false,
     "start_time": "2025-08-05T15:36:48.253720",
     "status": "completed"
    },
    "tags": []
   },
   "outputs": [],
   "source": [
    "from fairness_multiverse.conformal import evaluate_sets\n",
    "\n",
    "# Evaluate coverage and average set size on test data\n",
    "metrics = evaluate_sets(pred_sets, y_true)"
   ]
  },
  {
   "cell_type": "markdown",
   "id": "2b569c12-9aaa-4c88-98c9-bbcd0cf3ebb8",
   "metadata": {
    "papermill": {
     "duration": 0.010139,
     "end_time": "2025-08-05T15:36:48.747983",
     "exception": false,
     "start_time": "2025-08-05T15:36:48.737844",
     "status": "completed"
    },
    "tags": []
   },
   "source": [
    "# CP Metrics"
   ]
  },
  {
   "cell_type": "code",
   "execution_count": 45,
   "id": "5ce0a5cb-201f-45a0-ade5-94c7f0bd6095",
   "metadata": {
    "execution": {
     "iopub.execute_input": "2025-08-05T15:36:48.770056Z",
     "iopub.status.busy": "2025-08-05T15:36:48.769314Z",
     "iopub.status.idle": "2025-08-05T15:36:48.776082Z",
     "shell.execute_reply": "2025-08-05T15:36:48.775432Z"
    },
    "papermill": {
     "duration": 0.019113,
     "end_time": "2025-08-05T15:36:48.777273",
     "exception": false,
     "start_time": "2025-08-05T15:36:48.758160",
     "status": "completed"
    },
    "tags": []
   },
   "outputs": [
    {
     "data": {
      "text/plain": [
       "{'coverage': 0.9134098762679745, 'avg_size': 1.147386021625237}"
      ]
     },
     "execution_count": 45,
     "metadata": {},
     "output_type": "execute_result"
    }
   ],
   "source": [
    "metrics"
   ]
  },
  {
   "cell_type": "code",
   "execution_count": 46,
   "id": "9b9a838d-31c9-430b-ae14-12baee460d17",
   "metadata": {
    "execution": {
     "iopub.execute_input": "2025-08-05T15:36:48.800597Z",
     "iopub.status.busy": "2025-08-05T15:36:48.799918Z",
     "iopub.status.idle": "2025-08-05T15:36:48.805125Z",
     "shell.execute_reply": "2025-08-05T15:36:48.804440Z"
    },
    "papermill": {
     "duration": 0.017803,
     "end_time": "2025-08-05T15:36:48.806514",
     "exception": false,
     "start_time": "2025-08-05T15:36:48.788711",
     "status": "completed"
    },
    "tags": []
   },
   "outputs": [],
   "source": [
    "example_universe = universe.copy()\n",
    "universe_training_year = example_universe.get(\"training_year\")\n",
    "universe_training_size = example_universe.get(\"training_size\")\n",
    "universe_scale = example_universe.get(\"scale\")\n",
    "universe_model = example_universe.get(\"model\")\n",
    "universe_exclude_features = example_universe.get(\"exclude_features\")\n",
    "universe_exclude_subgroups = example_universe.get(\"exclude_subgroups\")"
   ]
  },
  {
   "cell_type": "code",
   "execution_count": 47,
   "id": "f4b6a8ac-9dc0-4245-8a91-5b3b5999c4f9",
   "metadata": {
    "execution": {
     "iopub.execute_input": "2025-08-05T15:36:48.829731Z",
     "iopub.status.busy": "2025-08-05T15:36:48.828912Z",
     "iopub.status.idle": "2025-08-05T15:36:48.834183Z",
     "shell.execute_reply": "2025-08-05T15:36:48.833482Z"
    },
    "papermill": {
     "duration": 0.017891,
     "end_time": "2025-08-05T15:36:48.835714",
     "exception": false,
     "start_time": "2025-08-05T15:36:48.817823",
     "status": "completed"
    },
    "tags": []
   },
   "outputs": [],
   "source": [
    "cp_metrics_dict = {\n",
    "    \"universe_id\": [universe_id],\n",
    "    \"universe_training_year\": [universe_training_year],\n",
    "    \"universe_training_size\": [universe_training_size],\n",
    "    \"universe_scale\": [universe_scale],\n",
    "    \"universe_model\": [universe_model],\n",
    "    \"universe_exclude_features\": [universe_exclude_features],\n",
    "    \"universe_exclude_subgroups\": [universe_exclude_subgroups],\n",
    "    \"q_hat\": [q_hat],\n",
    "    \"coverage\": [metrics[\"coverage\"]],\n",
    "    \"avg_size\": [metrics[\"avg_size\"]],\n",
    "}"
   ]
  },
  {
   "cell_type": "code",
   "execution_count": 48,
   "id": "908acbb1-0371-4915-85ca-3fa520d2efe2",
   "metadata": {
    "execution": {
     "iopub.execute_input": "2025-08-05T15:36:48.858717Z",
     "iopub.status.busy": "2025-08-05T15:36:48.858036Z",
     "iopub.status.idle": "2025-08-05T15:36:48.864760Z",
     "shell.execute_reply": "2025-08-05T15:36:48.864104Z"
    },
    "papermill": {
     "duration": 0.0191,
     "end_time": "2025-08-05T15:36:48.865997",
     "exception": false,
     "start_time": "2025-08-05T15:36:48.846897",
     "status": "completed"
    },
    "tags": []
   },
   "outputs": [
    {
     "data": {
      "text/plain": [
       "{'universe_id': ['5c459c611d5e90f178f49791f120824a'],\n",
       " 'universe_training_year': ['2012_14'],\n",
       " 'universe_training_size': ['5k'],\n",
       " 'universe_scale': ['scale'],\n",
       " 'universe_model': ['rf'],\n",
       " 'universe_exclude_features': ['none'],\n",
       " 'universe_exclude_subgroups': ['drop-non-german'],\n",
       " 'q_hat': [0.6799999999999999],\n",
       " 'coverage': [0.9134098762679745],\n",
       " 'avg_size': [1.147386021625237]}"
      ]
     },
     "execution_count": 48,
     "metadata": {},
     "output_type": "execute_result"
    }
   ],
   "source": [
    "cp_metrics_dict"
   ]
  },
  {
   "cell_type": "code",
   "execution_count": 49,
   "id": "33007efc-14e9-4ec6-97ac-56a455c82265",
   "metadata": {
    "execution": {
     "iopub.execute_input": "2025-08-05T15:36:48.889560Z",
     "iopub.status.busy": "2025-08-05T15:36:48.888883Z",
     "iopub.status.idle": "2025-08-05T15:36:48.894051Z",
     "shell.execute_reply": "2025-08-05T15:36:48.893345Z"
    },
    "papermill": {
     "duration": 0.017906,
     "end_time": "2025-08-05T15:36:48.895529",
     "exception": false,
     "start_time": "2025-08-05T15:36:48.877623",
     "status": "completed"
    },
    "tags": []
   },
   "outputs": [],
   "source": [
    "cp_metrics_df = pd.DataFrame(cp_metrics_dict)"
   ]
  },
  {
   "cell_type": "code",
   "execution_count": 50,
   "id": "db12611b-57b2-4910-b9d0-355adfd6e7bf",
   "metadata": {
    "execution": {
     "iopub.execute_input": "2025-08-05T15:36:48.919344Z",
     "iopub.status.busy": "2025-08-05T15:36:48.918532Z",
     "iopub.status.idle": "2025-08-05T15:36:48.932435Z",
     "shell.execute_reply": "2025-08-05T15:36:48.931695Z"
    },
    "papermill": {
     "duration": 0.026829,
     "end_time": "2025-08-05T15:36:48.933765",
     "exception": false,
     "start_time": "2025-08-05T15:36:48.906936",
     "status": "completed"
    },
    "tags": []
   },
   "outputs": [
    {
     "data": {
      "text/html": [
       "<div>\n",
       "<style scoped>\n",
       "    .dataframe tbody tr th:only-of-type {\n",
       "        vertical-align: middle;\n",
       "    }\n",
       "\n",
       "    .dataframe tbody tr th {\n",
       "        vertical-align: top;\n",
       "    }\n",
       "\n",
       "    .dataframe thead th {\n",
       "        text-align: right;\n",
       "    }\n",
       "</style>\n",
       "<table border=\"1\" class=\"dataframe\">\n",
       "  <thead>\n",
       "    <tr style=\"text-align: right;\">\n",
       "      <th></th>\n",
       "      <th>universe_id</th>\n",
       "      <th>universe_training_year</th>\n",
       "      <th>universe_training_size</th>\n",
       "      <th>universe_scale</th>\n",
       "      <th>universe_model</th>\n",
       "      <th>universe_exclude_features</th>\n",
       "      <th>universe_exclude_subgroups</th>\n",
       "      <th>q_hat</th>\n",
       "      <th>coverage</th>\n",
       "      <th>avg_size</th>\n",
       "    </tr>\n",
       "  </thead>\n",
       "  <tbody>\n",
       "    <tr>\n",
       "      <th>0</th>\n",
       "      <td>5c459c611d5e90f178f49791f120824a</td>\n",
       "      <td>2012_14</td>\n",
       "      <td>5k</td>\n",
       "      <td>scale</td>\n",
       "      <td>rf</td>\n",
       "      <td>none</td>\n",
       "      <td>drop-non-german</td>\n",
       "      <td>0.68</td>\n",
       "      <td>0.91341</td>\n",
       "      <td>1.147386</td>\n",
       "    </tr>\n",
       "  </tbody>\n",
       "</table>\n",
       "</div>"
      ],
      "text/plain": [
       "                        universe_id universe_training_year  \\\n",
       "0  5c459c611d5e90f178f49791f120824a                2012_14   \n",
       "\n",
       "  universe_training_size universe_scale universe_model  \\\n",
       "0                     5k          scale             rf   \n",
       "\n",
       "  universe_exclude_features universe_exclude_subgroups  q_hat  coverage  \\\n",
       "0                      none            drop-non-german   0.68   0.91341   \n",
       "\n",
       "   avg_size  \n",
       "0  1.147386  "
      ]
     },
     "execution_count": 50,
     "metadata": {},
     "output_type": "execute_result"
    }
   ],
   "source": [
    "cp_metrics_df"
   ]
  },
  {
   "cell_type": "code",
   "execution_count": 51,
   "id": "b7fbde55-a0a1-47e4-9af6-fe4a17fa8c61",
   "metadata": {
    "execution": {
     "iopub.execute_input": "2025-08-05T15:36:48.957496Z",
     "iopub.status.busy": "2025-08-05T15:36:48.956700Z",
     "iopub.status.idle": "2025-08-05T15:36:48.961094Z",
     "shell.execute_reply": "2025-08-05T15:36:48.960363Z"
    },
    "papermill": {
     "duration": 0.017305,
     "end_time": "2025-08-05T15:36:48.962519",
     "exception": false,
     "start_time": "2025-08-05T15:36:48.945214",
     "status": "completed"
    },
    "tags": []
   },
   "outputs": [],
   "source": [
    "# Conditional Coverage & looking at subgroups"
   ]
  },
  {
   "cell_type": "code",
   "execution_count": 52,
   "id": "027ae886-68dd-4141-96c7-805a5450e1ef",
   "metadata": {
    "execution": {
     "iopub.execute_input": "2025-08-05T15:36:48.986846Z",
     "iopub.status.busy": "2025-08-05T15:36:48.986175Z",
     "iopub.status.idle": "2025-08-05T15:36:49.165017Z",
     "shell.execute_reply": "2025-08-05T15:36:49.164275Z"
    },
    "papermill": {
     "duration": 0.192355,
     "end_time": "2025-08-05T15:36:49.166491",
     "exception": false,
     "start_time": "2025-08-05T15:36:48.974136",
     "status": "completed"
    },
    "tags": []
   },
   "outputs": [],
   "source": [
    "from fairness_multiverse.conformal import build_cp_groups\n",
    "\n",
    "cp_groups_df = build_cp_groups(pred_sets, y_true, X_test.index, org_test)\n",
    "#needs universe_id and setting"
   ]
  },
  {
   "cell_type": "code",
   "execution_count": 53,
   "id": "6cbdab96-b2b2-45af-ad54-d0516db2e28d",
   "metadata": {
    "execution": {
     "iopub.execute_input": "2025-08-05T15:36:49.190257Z",
     "iopub.status.busy": "2025-08-05T15:36:49.189917Z",
     "iopub.status.idle": "2025-08-05T15:36:50.677307Z",
     "shell.execute_reply": "2025-08-05T15:36:50.676536Z"
    },
    "papermill": {
     "duration": 1.500647,
     "end_time": "2025-08-05T15:36:50.678746",
     "exception": false,
     "start_time": "2025-08-05T15:36:49.178099",
     "status": "completed"
    },
    "tags": []
   },
   "outputs": [],
   "source": [
    "# Define covered = 1 if true_label is in the predicted set\n",
    "cp_groups_df['covered'] = cp_groups_df.apply(\n",
    "    lambda r: int(r['true_label'] in r['pred_set']),\n",
    "    axis=1\n",
    ")"
   ]
  },
  {
   "cell_type": "code",
   "execution_count": 54,
   "id": "338ff529-1a6b-4b87-a931-8e4788d52aad",
   "metadata": {
    "execution": {
     "iopub.execute_input": "2025-08-05T15:36:50.703221Z",
     "iopub.status.busy": "2025-08-05T15:36:50.702479Z",
     "iopub.status.idle": "2025-08-05T15:36:50.707022Z",
     "shell.execute_reply": "2025-08-05T15:36:50.706352Z"
    },
    "papermill": {
     "duration": 0.018122,
     "end_time": "2025-08-05T15:36:50.708467",
     "exception": false,
     "start_time": "2025-08-05T15:36:50.690345",
     "status": "completed"
    },
    "tags": []
   },
   "outputs": [],
   "source": [
    "#cp_groups_df"
   ]
  },
  {
   "cell_type": "code",
   "execution_count": 55,
   "id": "90032e27-66df-4540-9169-4e89cfbaa758",
   "metadata": {
    "execution": {
     "iopub.execute_input": "2025-08-05T15:36:50.733628Z",
     "iopub.status.busy": "2025-08-05T15:36:50.732818Z",
     "iopub.status.idle": "2025-08-05T15:36:50.744728Z",
     "shell.execute_reply": "2025-08-05T15:36:50.743787Z"
    },
    "papermill": {
     "duration": 0.02668,
     "end_time": "2025-08-05T15:36:50.746927",
     "exception": false,
     "start_time": "2025-08-05T15:36:50.720247",
     "status": "completed"
    },
    "tags": []
   },
   "outputs": [],
   "source": [
    "subgroups = ['frau1','nongerman','nongerman_male','nongerman_female']\n",
    "\n",
    "# Conditional coverage for subgroup==1\n",
    "cond_coverage = {\n",
    "    g: cp_groups_df.loc[cp_groups_df[g]==1, 'covered'].mean()\n",
    "    for g in subgroups\n",
    "}"
   ]
  },
  {
   "cell_type": "code",
   "execution_count": 56,
   "id": "1e348fb1-b9c3-45bc-ba23-f016827a7e0d",
   "metadata": {
    "execution": {
     "iopub.execute_input": "2025-08-05T15:36:50.790431Z",
     "iopub.status.busy": "2025-08-05T15:36:50.790025Z",
     "iopub.status.idle": "2025-08-05T15:36:50.797485Z",
     "shell.execute_reply": "2025-08-05T15:36:50.796414Z"
    },
    "papermill": {
     "duration": 0.032426,
     "end_time": "2025-08-05T15:36:50.799223",
     "exception": false,
     "start_time": "2025-08-05T15:36:50.766797",
     "status": "completed"
    },
    "tags": []
   },
   "outputs": [
    {
     "data": {
      "text/plain": [
       "{'frau1': 0.9073999191265669,\n",
       " 'nongerman': 0.9096727109414473,\n",
       " 'nongerman_male': 0.9306493740430515,\n",
       " 'nongerman_female': 0.8749627421758569}"
      ]
     },
     "execution_count": 56,
     "metadata": {},
     "output_type": "execute_result"
    }
   ],
   "source": [
    "cond_coverage"
   ]
  },
  {
   "cell_type": "code",
   "execution_count": 57,
   "id": "f5093324-c3dd-4d63-bc4c-8d945e5c8bbb",
   "metadata": {
    "execution": {
     "iopub.execute_input": "2025-08-05T15:36:50.850000Z",
     "iopub.status.busy": "2025-08-05T15:36:50.849360Z",
     "iopub.status.idle": "2025-08-05T15:36:50.857182Z",
     "shell.execute_reply": "2025-08-05T15:36:50.856159Z"
    },
    "papermill": {
     "duration": 0.033012,
     "end_time": "2025-08-05T15:36:50.859005",
     "exception": false,
     "start_time": "2025-08-05T15:36:50.825993",
     "status": "completed"
    },
    "tags": []
   },
   "outputs": [],
   "source": [
    "for subgroup, cov in cond_coverage.items():\n",
    "    cp_metrics_df[f\"cov_{subgroup}\"] = cov"
   ]
  },
  {
   "cell_type": "code",
   "execution_count": 58,
   "id": "6e872e10-dbe5-49e8-b554-5030c98ff75d",
   "metadata": {
    "execution": {
     "iopub.execute_input": "2025-08-05T15:36:50.908626Z",
     "iopub.status.busy": "2025-08-05T15:36:50.907719Z",
     "iopub.status.idle": "2025-08-05T15:36:50.928058Z",
     "shell.execute_reply": "2025-08-05T15:36:50.927014Z"
    },
    "papermill": {
     "duration": 0.04626,
     "end_time": "2025-08-05T15:36:50.929661",
     "exception": false,
     "start_time": "2025-08-05T15:36:50.883401",
     "status": "completed"
    },
    "tags": []
   },
   "outputs": [
    {
     "data": {
      "text/html": [
       "<div>\n",
       "<style scoped>\n",
       "    .dataframe tbody tr th:only-of-type {\n",
       "        vertical-align: middle;\n",
       "    }\n",
       "\n",
       "    .dataframe tbody tr th {\n",
       "        vertical-align: top;\n",
       "    }\n",
       "\n",
       "    .dataframe thead th {\n",
       "        text-align: right;\n",
       "    }\n",
       "</style>\n",
       "<table border=\"1\" class=\"dataframe\">\n",
       "  <thead>\n",
       "    <tr style=\"text-align: right;\">\n",
       "      <th></th>\n",
       "      <th>universe_id</th>\n",
       "      <th>universe_training_year</th>\n",
       "      <th>universe_training_size</th>\n",
       "      <th>universe_scale</th>\n",
       "      <th>universe_model</th>\n",
       "      <th>universe_exclude_features</th>\n",
       "      <th>universe_exclude_subgroups</th>\n",
       "      <th>q_hat</th>\n",
       "      <th>coverage</th>\n",
       "      <th>avg_size</th>\n",
       "      <th>cov_frau1</th>\n",
       "      <th>cov_nongerman</th>\n",
       "      <th>cov_nongerman_male</th>\n",
       "      <th>cov_nongerman_female</th>\n",
       "    </tr>\n",
       "  </thead>\n",
       "  <tbody>\n",
       "    <tr>\n",
       "      <th>0</th>\n",
       "      <td>5c459c611d5e90f178f49791f120824a</td>\n",
       "      <td>2012_14</td>\n",
       "      <td>5k</td>\n",
       "      <td>scale</td>\n",
       "      <td>rf</td>\n",
       "      <td>none</td>\n",
       "      <td>drop-non-german</td>\n",
       "      <td>0.68</td>\n",
       "      <td>0.91341</td>\n",
       "      <td>1.147386</td>\n",
       "      <td>0.9074</td>\n",
       "      <td>0.909673</td>\n",
       "      <td>0.930649</td>\n",
       "      <td>0.874963</td>\n",
       "    </tr>\n",
       "  </tbody>\n",
       "</table>\n",
       "</div>"
      ],
      "text/plain": [
       "                        universe_id universe_training_year  \\\n",
       "0  5c459c611d5e90f178f49791f120824a                2012_14   \n",
       "\n",
       "  universe_training_size universe_scale universe_model  \\\n",
       "0                     5k          scale             rf   \n",
       "\n",
       "  universe_exclude_features universe_exclude_subgroups  q_hat  coverage  \\\n",
       "0                      none            drop-non-german   0.68   0.91341   \n",
       "\n",
       "   avg_size  cov_frau1  cov_nongerman  cov_nongerman_male  \\\n",
       "0  1.147386     0.9074       0.909673            0.930649   \n",
       "\n",
       "   cov_nongerman_female  \n",
       "0              0.874963  "
      ]
     },
     "execution_count": 58,
     "metadata": {},
     "output_type": "execute_result"
    }
   ],
   "source": [
    "cp_metrics_df"
   ]
  },
  {
   "cell_type": "markdown",
   "id": "33774451",
   "metadata": {
    "papermill": {
     "duration": 0.023075,
     "end_time": "2025-08-05T15:36:50.977163",
     "exception": false,
     "start_time": "2025-08-05T15:36:50.954088",
     "status": "completed"
    },
    "tags": []
   },
   "source": [
    "# (Fairness) Metrics"
   ]
  },
  {
   "cell_type": "code",
   "execution_count": 59,
   "id": "debc5d62",
   "metadata": {
    "execution": {
     "iopub.execute_input": "2025-08-05T15:36:51.026849Z",
     "iopub.status.busy": "2025-08-05T15:36:51.026214Z",
     "iopub.status.idle": "2025-08-05T15:36:51.050521Z",
     "shell.execute_reply": "2025-08-05T15:36:51.049402Z"
    },
    "papermill": {
     "duration": 0.052729,
     "end_time": "2025-08-05T15:36:51.053477",
     "exception": false,
     "start_time": "2025-08-05T15:36:51.000748",
     "status": "completed"
    },
    "tags": []
   },
   "outputs": [],
   "source": [
    "# do I need to include maxdeutsch1.missing?\n",
    "\n",
    "import numpy as np\n",
    "\n",
    "colname_to_bin = \"maxdeutsch1\"\n",
    "majority_value = org_train[colname_to_bin].mode()[0]\n",
    "\n",
    "org_test[\"majmin\"] = np.where(org_test[colname_to_bin] == majority_value, \"majority\", \"minority\")"
   ]
  },
  {
   "cell_type": "code",
   "execution_count": 60,
   "id": "06a50de5",
   "metadata": {
    "execution": {
     "iopub.execute_input": "2025-08-05T15:36:51.079681Z",
     "iopub.status.busy": "2025-08-05T15:36:51.079318Z",
     "iopub.status.idle": "2025-08-05T15:36:53.309110Z",
     "shell.execute_reply": "2025-08-05T15:36:53.308320Z"
    },
    "papermill": {
     "duration": 2.243436,
     "end_time": "2025-08-05T15:36:53.310730",
     "exception": false,
     "start_time": "2025-08-05T15:36:51.067294",
     "status": "completed"
    },
    "tags": []
   },
   "outputs": [],
   "source": [
    "example_universe = universe.copy()\n",
    "example_universe[\"cutoff\"] = example_universe[\"cutoff\"][0]\n",
    "example_universe[\"eval_fairness_grouping\"] = example_universe[\"eval_fairness_grouping\"][0]\n",
    "fairness_dict, metric_frame = universe_analysis.compute_metrics(\n",
    "    example_universe,\n",
    "    y_pred_prob=probs_test,\n",
    "    y_test=y_true,\n",
    "    org_test=org_test,\n",
    ")"
   ]
  },
  {
   "cell_type": "markdown",
   "id": "f95d4e02",
   "metadata": {
    "papermill": {
     "duration": 0.011846,
     "end_time": "2025-08-05T15:36:53.334766",
     "exception": false,
     "start_time": "2025-08-05T15:36:53.322920",
     "status": "completed"
    },
    "tags": []
   },
   "source": [
    "# Overall"
   ]
  },
  {
   "cell_type": "markdown",
   "id": "bdee4871",
   "metadata": {
    "papermill": {
     "duration": 0.012486,
     "end_time": "2025-08-05T15:36:53.360016",
     "exception": false,
     "start_time": "2025-08-05T15:36:53.347530",
     "status": "completed"
    },
    "tags": []
   },
   "source": [
    "Fairness\n",
    "Main fairness target: Equalized Odds. Seems to be a better fit than equal opportunity, since we're not only interested in Y = 1. Seems to be a better fit than demographic parity, since we also care about accuracy, not just equal distribution of preds.\n",
    "\n",
    "Pick column for computation of fairness metrics\n",
    "\n",
    "Performance\n",
    "Overall performance measures, most interesting in relation to the measures split by group below"
   ]
  },
  {
   "cell_type": "code",
   "execution_count": 61,
   "id": "c4e067c6",
   "metadata": {
    "execution": {
     "iopub.execute_input": "2025-08-05T15:36:53.384338Z",
     "iopub.status.busy": "2025-08-05T15:36:53.383982Z",
     "iopub.status.idle": "2025-08-05T15:36:53.391378Z",
     "shell.execute_reply": "2025-08-05T15:36:53.390467Z"
    },
    "papermill": {
     "duration": 0.021058,
     "end_time": "2025-08-05T15:36:53.392803",
     "exception": false,
     "start_time": "2025-08-05T15:36:53.371745",
     "status": "completed"
    },
    "tags": []
   },
   "outputs": [
    {
     "data": {
      "text/plain": [
       "accuracy                   0.196589\n",
       "balanced accuracy          0.533289\n",
       "f1                         0.239501\n",
       "precision                  0.136301\n",
       "false positive rate        0.919606\n",
       "false negative rate        0.013816\n",
       "selection rate             0.928146\n",
       "count                  89710.000000\n",
       "dtype: float64"
      ]
     },
     "execution_count": 61,
     "metadata": {},
     "output_type": "execute_result"
    }
   ],
   "source": [
    "metric_frame.overall"
   ]
  },
  {
   "cell_type": "markdown",
   "id": "e968fe9d",
   "metadata": {
    "papermill": {
     "duration": 0.011329,
     "end_time": "2025-08-05T15:36:53.419806",
     "exception": false,
     "start_time": "2025-08-05T15:36:53.408477",
     "status": "completed"
    },
    "tags": []
   },
   "source": [
    "By Group"
   ]
  },
  {
   "cell_type": "code",
   "execution_count": 62,
   "id": "ec325bce",
   "metadata": {
    "execution": {
     "iopub.execute_input": "2025-08-05T15:36:53.444374Z",
     "iopub.status.busy": "2025-08-05T15:36:53.443763Z",
     "iopub.status.idle": "2025-08-05T15:36:53.455542Z",
     "shell.execute_reply": "2025-08-05T15:36:53.454717Z"
    },
    "papermill": {
     "duration": 0.025402,
     "end_time": "2025-08-05T15:36:53.456950",
     "exception": false,
     "start_time": "2025-08-05T15:36:53.431548",
     "status": "completed"
    },
    "tags": []
   },
   "outputs": [
    {
     "data": {
      "text/html": [
       "<div>\n",
       "<style scoped>\n",
       "    .dataframe tbody tr th:only-of-type {\n",
       "        vertical-align: middle;\n",
       "    }\n",
       "\n",
       "    .dataframe tbody tr th {\n",
       "        vertical-align: top;\n",
       "    }\n",
       "\n",
       "    .dataframe thead th {\n",
       "        text-align: right;\n",
       "    }\n",
       "</style>\n",
       "<table border=\"1\" class=\"dataframe\">\n",
       "  <thead>\n",
       "    <tr style=\"text-align: right;\">\n",
       "      <th></th>\n",
       "      <th>accuracy</th>\n",
       "      <th>balanced accuracy</th>\n",
       "      <th>f1</th>\n",
       "      <th>precision</th>\n",
       "      <th>false positive rate</th>\n",
       "      <th>false negative rate</th>\n",
       "      <th>selection rate</th>\n",
       "      <th>count</th>\n",
       "    </tr>\n",
       "    <tr>\n",
       "      <th>majmin</th>\n",
       "      <th></th>\n",
       "      <th></th>\n",
       "      <th></th>\n",
       "      <th></th>\n",
       "      <th></th>\n",
       "      <th></th>\n",
       "      <th></th>\n",
       "      <th></th>\n",
       "    </tr>\n",
       "  </thead>\n",
       "  <tbody>\n",
       "    <tr>\n",
       "      <th>majority</th>\n",
       "      <td>0.203513</td>\n",
       "      <td>0.535788</td>\n",
       "      <td>0.246777</td>\n",
       "      <td>0.141009</td>\n",
       "      <td>0.915842</td>\n",
       "      <td>0.012582</td>\n",
       "      <td>0.925300</td>\n",
       "      <td>69170.0</td>\n",
       "    </tr>\n",
       "    <tr>\n",
       "      <th>minority</th>\n",
       "      <td>0.173272</td>\n",
       "      <td>0.524690</td>\n",
       "      <td>0.214897</td>\n",
       "      <td>0.120658</td>\n",
       "      <td>0.932038</td>\n",
       "      <td>0.018581</td>\n",
       "      <td>0.937731</td>\n",
       "      <td>20540.0</td>\n",
       "    </tr>\n",
       "  </tbody>\n",
       "</table>\n",
       "</div>"
      ],
      "text/plain": [
       "          accuracy  balanced accuracy        f1  precision  \\\n",
       "majmin                                                       \n",
       "majority  0.203513           0.535788  0.246777   0.141009   \n",
       "minority  0.173272           0.524690  0.214897   0.120658   \n",
       "\n",
       "          false positive rate  false negative rate  selection rate    count  \n",
       "majmin                                                                       \n",
       "majority             0.915842             0.012582        0.925300  69170.0  \n",
       "minority             0.932038             0.018581        0.937731  20540.0  "
      ]
     },
     "execution_count": 62,
     "metadata": {},
     "output_type": "execute_result"
    }
   ],
   "source": [
    "metric_frame.by_group"
   ]
  },
  {
   "cell_type": "code",
   "execution_count": 63,
   "id": "a9ddbe63",
   "metadata": {
    "execution": {
     "iopub.execute_input": "2025-08-05T15:36:53.482016Z",
     "iopub.status.busy": "2025-08-05T15:36:53.481454Z",
     "iopub.status.idle": "2025-08-05T15:36:56.095549Z",
     "shell.execute_reply": "2025-08-05T15:36:56.094453Z"
    },
    "papermill": {
     "duration": 2.62856,
     "end_time": "2025-08-05T15:36:56.097359",
     "exception": false,
     "start_time": "2025-08-05T15:36:53.468799",
     "status": "completed"
    },
    "tags": []
   },
   "outputs": [
    {
     "data": {
      "text/plain": [
       "array([[<Axes: title={'center': 'accuracy'}, xlabel='majmin'>,\n",
       "        <Axes: title={'center': 'balanced accuracy'}, xlabel='majmin'>,\n",
       "        <Axes: title={'center': 'f1'}, xlabel='majmin'>],\n",
       "       [<Axes: title={'center': 'precision'}, xlabel='majmin'>,\n",
       "        <Axes: title={'center': 'false positive rate'}, xlabel='majmin'>,\n",
       "        <Axes: title={'center': 'false negative rate'}, xlabel='majmin'>],\n",
       "       [<Axes: title={'center': 'selection rate'}, xlabel='majmin'>,\n",
       "        <Axes: title={'center': 'count'}, xlabel='majmin'>,\n",
       "        <Axes: xlabel='majmin'>]], dtype=object)"
      ]
     },
     "execution_count": 63,
     "metadata": {},
     "output_type": "execute_result"
    },
    {
     "data": {
      "image/png": "[encoded data removed]",
      "text/plain": [
       "<Figure size 1200x800 with 9 Axes>"
      ]
     },
     "metadata": {},
     "output_type": "display_data"
    }
   ],
   "source": [
    "# In a graphic\n",
    "metric_frame.by_group.plot.bar(\n",
    "    subplots=True,\n",
    "    layout=[3, 3],\n",
    "    legend=False,\n",
    "    figsize=[12, 8],\n",
    "    title=\"Show all metrics\",\n",
    ")"
   ]
  },
  {
   "cell_type": "markdown",
   "id": "f57a0bac",
   "metadata": {
    "papermill": {
     "duration": 0.026218,
     "end_time": "2025-08-05T15:36:56.155142",
     "exception": false,
     "start_time": "2025-08-05T15:36:56.128924",
     "status": "completed"
    },
    "tags": []
   },
   "source": [
    "# Final Output"
   ]
  },
  {
   "cell_type": "code",
   "execution_count": 64,
   "id": "96d280a3",
   "metadata": {
    "execution": {
     "iopub.execute_input": "2025-08-05T15:36:56.212590Z",
     "iopub.status.busy": "2025-08-05T15:36:56.211772Z",
     "iopub.status.idle": "2025-08-05T15:36:56.222271Z",
     "shell.execute_reply": "2025-08-05T15:36:56.221375Z"
    },
    "papermill": {
     "duration": 0.04067,
     "end_time": "2025-08-05T15:36:56.223771",
     "exception": false,
     "start_time": "2025-08-05T15:36:56.183101",
     "status": "completed"
    },
    "tags": []
   },
   "outputs": [
    {
     "data": {
      "text/plain": [
       "4"
      ]
     },
     "execution_count": 64,
     "metadata": {},
     "output_type": "execute_result"
    }
   ],
   "source": [
    "sub_universes = universe_analysis.generate_sub_universes()\n",
    "len(sub_universes)"
   ]
  },
  {
   "cell_type": "code",
   "execution_count": 65,
   "id": "92adf7ba",
   "metadata": {
    "execution": {
     "iopub.execute_input": "2025-08-05T15:36:56.272686Z",
     "iopub.status.busy": "2025-08-05T15:36:56.271875Z",
     "iopub.status.idle": "2025-08-05T15:36:56.278127Z",
     "shell.execute_reply": "2025-08-05T15:36:56.277175Z"
    },
    "papermill": {
     "duration": 0.032814,
     "end_time": "2025-08-05T15:36:56.279579",
     "exception": false,
     "start_time": "2025-08-05T15:36:56.246765",
     "status": "completed"
    },
    "tags": []
   },
   "outputs": [],
   "source": [
    "def filter_sub_universe_data(sub_universe, org_test):\n",
    "    # Keep all rows — no filtering\n",
    "    keep_rows_mask = np.ones(org_test.shape[0], dtype=bool)\n",
    "\n",
    "    print(f\"[INFO] Keeping all rows: {keep_rows_mask.sum()} rows retained.\")\n",
    "    return keep_rows_mask"
   ]
  },
  {
   "cell_type": "code",
   "execution_count": 66,
   "id": "4a759155",
   "metadata": {
    "execution": {
     "iopub.execute_input": "2025-08-05T15:36:56.328843Z",
     "iopub.status.busy": "2025-08-05T15:36:56.328388Z",
     "iopub.status.idle": "2025-08-05T15:37:03.669794Z",
     "shell.execute_reply": "2025-08-05T15:37:03.668865Z"
    },
    "papermill": {
     "duration": 7.367952,
     "end_time": "2025-08-05T15:37:03.671714",
     "exception": false,
     "start_time": "2025-08-05T15:36:56.303762",
     "status": "completed"
    },
    "tags": []
   },
   "outputs": [
    {
     "name": "stdout",
     "output_type": "stream",
     "text": [
      "Stopping execution_time clock.\n",
      "[INFO] Keeping all rows: 89710 rows retained.\n"
     ]
    },
    {
     "name": "stdout",
     "output_type": "stream",
     "text": [
      "[INFO] Keeping all rows: 89710 rows retained.\n"
     ]
    },
    {
     "name": "stdout",
     "output_type": "stream",
     "text": [
      "[INFO] Keeping all rows: 89710 rows retained.\n"
     ]
    },
    {
     "name": "stdout",
     "output_type": "stream",
     "text": [
      "[INFO] Keeping all rows: 89710 rows retained.\n"
     ]
    },
    {
     "data": {
      "text/html": [
       "<div>\n",
       "<style scoped>\n",
       "    .dataframe tbody tr th:only-of-type {\n",
       "        vertical-align: middle;\n",
       "    }\n",
       "\n",
       "    .dataframe tbody tr th {\n",
       "        vertical-align: top;\n",
       "    }\n",
       "\n",
       "    .dataframe thead th {\n",
       "        text-align: right;\n",
       "    }\n",
       "</style>\n",
       "<table border=\"1\" class=\"dataframe\">\n",
       "  <thead>\n",
       "    <tr style=\"text-align: right;\">\n",
       "      <th></th>\n",
       "      <th>run_no</th>\n",
       "      <th>universe_id</th>\n",
       "      <th>universe_settings</th>\n",
       "      <th>execution_time</th>\n",
       "      <th>test_size_n</th>\n",
       "      <th>test_size_frac</th>\n",
       "      <th>fair_main_equalized_odds_difference</th>\n",
       "      <th>fair_main_equalized_odds_ratio</th>\n",
       "      <th>fair_main_demographic_parity_difference</th>\n",
       "      <th>fair_main_demographic_parity_ratio</th>\n",
       "      <th>...</th>\n",
       "      <th>perf_grp_precision_0</th>\n",
       "      <th>perf_grp_precision_1</th>\n",
       "      <th>perf_grp_false positive rate_0</th>\n",
       "      <th>perf_grp_false positive rate_1</th>\n",
       "      <th>perf_grp_false negative rate_0</th>\n",
       "      <th>perf_grp_false negative rate_1</th>\n",
       "      <th>perf_grp_selection rate_0</th>\n",
       "      <th>perf_grp_selection rate_1</th>\n",
       "      <th>perf_grp_count_0</th>\n",
       "      <th>perf_grp_count_1</th>\n",
       "    </tr>\n",
       "  </thead>\n",
       "  <tbody>\n",
       "    <tr>\n",
       "      <th>0</th>\n",
       "      <td>15</td>\n",
       "      <td>5c459c611d5e90f178f49791f120824a</td>\n",
       "      <td>{\"cutoff\": \"quantile_0.1\", \"eval_fairness_grou...</td>\n",
       "      <td>31.719861</td>\n",
       "      <td>89710</td>\n",
       "      <td>1.0</td>\n",
       "      <td>0.016196</td>\n",
       "      <td>0.982623</td>\n",
       "      <td>0.012431</td>\n",
       "      <td>0.986743</td>\n",
       "      <td>...</td>\n",
       "      <td>NaN</td>\n",
       "      <td>NaN</td>\n",
       "      <td>NaN</td>\n",
       "      <td>NaN</td>\n",
       "      <td>NaN</td>\n",
       "      <td>NaN</td>\n",
       "      <td>NaN</td>\n",
       "      <td>NaN</td>\n",
       "      <td>NaN</td>\n",
       "      <td>NaN</td>\n",
       "    </tr>\n",
       "    <tr>\n",
       "      <th>0</th>\n",
       "      <td>15</td>\n",
       "      <td>5c459c611d5e90f178f49791f120824a</td>\n",
       "      <td>{\"cutoff\": \"quantile_0.1\", \"eval_fairness_grou...</td>\n",
       "      <td>31.719861</td>\n",
       "      <td>89710</td>\n",
       "      <td>1.0</td>\n",
       "      <td>0.016196</td>\n",
       "      <td>0.982623</td>\n",
       "      <td>0.012431</td>\n",
       "      <td>0.986743</td>\n",
       "      <td>...</td>\n",
       "      <td>0.120658</td>\n",
       "      <td>0.141009</td>\n",
       "      <td>0.932038</td>\n",
       "      <td>0.915842</td>\n",
       "      <td>0.018581</td>\n",
       "      <td>0.012582</td>\n",
       "      <td>0.937731</td>\n",
       "      <td>0.925300</td>\n",
       "      <td>20540.0</td>\n",
       "      <td>69170.0</td>\n",
       "    </tr>\n",
       "    <tr>\n",
       "      <th>0</th>\n",
       "      <td>15</td>\n",
       "      <td>5c459c611d5e90f178f49791f120824a</td>\n",
       "      <td>{\"cutoff\": \"quantile_0.25\", \"eval_fairness_gro...</td>\n",
       "      <td>31.719861</td>\n",
       "      <td>89710</td>\n",
       "      <td>1.0</td>\n",
       "      <td>0.041940</td>\n",
       "      <td>0.948888</td>\n",
       "      <td>0.026465</td>\n",
       "      <td>0.966336</td>\n",
       "      <td>...</td>\n",
       "      <td>NaN</td>\n",
       "      <td>NaN</td>\n",
       "      <td>NaN</td>\n",
       "      <td>NaN</td>\n",
       "      <td>NaN</td>\n",
       "      <td>NaN</td>\n",
       "      <td>NaN</td>\n",
       "      <td>NaN</td>\n",
       "      <td>NaN</td>\n",
       "      <td>NaN</td>\n",
       "    </tr>\n",
       "    <tr>\n",
       "      <th>0</th>\n",
       "      <td>15</td>\n",
       "      <td>5c459c611d5e90f178f49791f120824a</td>\n",
       "      <td>{\"cutoff\": \"quantile_0.25\", \"eval_fairness_gro...</td>\n",
       "      <td>31.719861</td>\n",
       "      <td>89710</td>\n",
       "      <td>1.0</td>\n",
       "      <td>0.041940</td>\n",
       "      <td>0.948888</td>\n",
       "      <td>0.026465</td>\n",
       "      <td>0.966336</td>\n",
       "      <td>...</td>\n",
       "      <td>0.132215</td>\n",
       "      <td>0.164113</td>\n",
       "      <td>0.771131</td>\n",
       "      <td>0.731717</td>\n",
       "      <td>0.098395</td>\n",
       "      <td>0.056455</td>\n",
       "      <td>0.786173</td>\n",
       "      <td>0.759708</td>\n",
       "      <td>20540.0</td>\n",
       "      <td>69170.0</td>\n",
       "    </tr>\n",
       "  </tbody>\n",
       "</table>\n",
       "<p>4 rows × 50 columns</p>\n",
       "</div>"
      ],
      "text/plain": [
       "  run_no                       universe_id  \\\n",
       "0     15  5c459c611d5e90f178f49791f120824a   \n",
       "0     15  5c459c611d5e90f178f49791f120824a   \n",
       "0     15  5c459c611d5e90f178f49791f120824a   \n",
       "0     15  5c459c611d5e90f178f49791f120824a   \n",
       "\n",
       "                                   universe_settings  execution_time  \\\n",
       "0  {\"cutoff\": \"quantile_0.1\", \"eval_fairness_grou...       31.719861   \n",
       "0  {\"cutoff\": \"quantile_0.1\", \"eval_fairness_grou...       31.719861   \n",
       "0  {\"cutoff\": \"quantile_0.25\", \"eval_fairness_gro...       31.719861   \n",
       "0  {\"cutoff\": \"quantile_0.25\", \"eval_fairness_gro...       31.719861   \n",
       "\n",
       "   test_size_n  test_size_frac  fair_main_equalized_odds_difference  \\\n",
       "0        89710             1.0                             0.016196   \n",
       "0        89710             1.0                             0.016196   \n",
       "0        89710             1.0                             0.041940   \n",
       "0        89710             1.0                             0.041940   \n",
       "\n",
       "   fair_main_equalized_odds_ratio  fair_main_demographic_parity_difference  \\\n",
       "0                        0.982623                                 0.012431   \n",
       "0                        0.982623                                 0.012431   \n",
       "0                        0.948888                                 0.026465   \n",
       "0                        0.948888                                 0.026465   \n",
       "\n",
       "   fair_main_demographic_parity_ratio  ...  perf_grp_precision_0  \\\n",
       "0                            0.986743  ...                   NaN   \n",
       "0                            0.986743  ...              0.120658   \n",
       "0                            0.966336  ...                   NaN   \n",
       "0                            0.966336  ...              0.132215   \n",
       "\n",
       "   perf_grp_precision_1  perf_grp_false positive rate_0  \\\n",
       "0                   NaN                             NaN   \n",
       "0              0.141009                        0.932038   \n",
       "0                   NaN                             NaN   \n",
       "0              0.164113                        0.771131   \n",
       "\n",
       "   perf_grp_false positive rate_1  perf_grp_false negative rate_0  \\\n",
       "0                             NaN                             NaN   \n",
       "0                        0.915842                        0.018581   \n",
       "0                             NaN                             NaN   \n",
       "0                        0.731717                        0.098395   \n",
       "\n",
       "   perf_grp_false negative rate_1  perf_grp_selection rate_0  \\\n",
       "0                             NaN                        NaN   \n",
       "0                        0.012582                   0.937731   \n",
       "0                             NaN                        NaN   \n",
       "0                        0.056455                   0.786173   \n",
       "\n",
       "   perf_grp_selection rate_1  perf_grp_count_0  perf_grp_count_1  \n",
       "0                        NaN               NaN               NaN  \n",
       "0                   0.925300           20540.0           69170.0  \n",
       "0                        NaN               NaN               NaN  \n",
       "0                   0.759708           20540.0           69170.0  \n",
       "\n",
       "[4 rows x 50 columns]"
      ]
     },
     "execution_count": 66,
     "metadata": {},
     "output_type": "execute_result"
    }
   ],
   "source": [
    "final_output = universe_analysis.generate_final_output(\n",
    "    y_pred_prob=probs_test,\n",
    "    y_test=y_true,\n",
    "    org_test=org_test,\n",
    "    filter_data=filter_sub_universe_data,\n",
    "    cp_metrics_df=cp_metrics_df,\n",
    "    save=True,\n",
    ")\n",
    "final_output"
   ]
  }
 ],
 "metadata": {
  "celltoolbar": "Tags",
  "kernelspec": {
   "display_name": "Python (CMA Fairness)",
   "language": "python",
   "name": "cma_fair_env"
  },
  "language_info": {
   "codemirror_mode": {
    "name": "ipython",
    "version": 3
   },
   "file_extension": ".py",
   "mimetype": "text/x-python",
   "name": "python",
   "nbconvert_exporter": "python",
   "pygments_lexer": "ipython3",
   "version": "3.10.12"
  },
  "papermill": {
   "default_parameters": {},
   "duration": 42.900253,
   "end_time": "2025-08-05T15:37:04.425546",
   "environment_variables": {},
   "exception": null,
   "input_path": "universe_analysis.ipynb",
   "output_path": "output/runs/15/notebooks/m_15-5c459c611d5e90f178f49791f120824a.ipynb",
   "parameters": {
    "output_dir": "output",
    "run_no": "15",
    "seed": "2023",
    "universe": "{\"cutoff\": [\"quantile_0.1\", \"quantile_0.25\"], \"eval_fairness_grouping\": [\"majority-minority\", \"nationality-all\"], \"exclude_features\": \"none\", \"exclude_subgroups\": \"drop-non-german\", \"model\": \"rf\", \"scale\": \"scale\", \"training_size\": \"5k\", \"training_year\": \"2012_14\"}",
    "universe_id": "5c459c611d5e90f178f49791f120824a"
   },
   "start_time": "2025-08-05T15:36:21.525293",
   "version": "2.6.0"
  }
 },
 "nbformat": 4,
 "nbformat_minor": 5
}