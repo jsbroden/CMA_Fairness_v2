{
 "cells": [
  {
   "cell_type": "code",
   "execution_count": 1,
   "id": "f159f837-637b-42ba-96b5-ec9a68c44524",
   "metadata": {
    "execution": {
     "iopub.execute_input": "2025-08-05T16:15:37.001135Z",
     "iopub.status.busy": "2025-08-05T16:15:37.000437Z",
     "iopub.status.idle": "2025-08-05T16:15:37.018232Z",
     "shell.execute_reply": "2025-08-05T16:15:37.017436Z"
    },
    "papermill": {
     "duration": 0.043641,
     "end_time": "2025-08-05T16:15:37.020039",
     "exception": false,
     "start_time": "2025-08-05T16:15:36.976398",
     "status": "completed"
    },
    "tags": []
   },
   "outputs": [
    {
     "name": "stdout",
     "output_type": "stream",
     "text": [
      "/dss/dsshome1/0C/ra93lal2/cma/CMA_Fairness_v2\n"
     ]
    },
    {
     "name": "stderr",
     "output_type": "stream",
     "text": [
      "/dss/dsshome1/0C/ra93lal2/.local/share/virtualenvs/CMA_Fairness_v2-3j10GkSs/lib/python3.10/site-packages/IPython/core/magics/osm.py:393: UserWarning: This is now an optional IPython functionality, using bookmarks requires you to install the `pickleshare` library.\n",
      "  bkms = self.shell.db.get('bookmarks', {})\n",
      "/dss/dsshome1/0C/ra93lal2/.local/share/virtualenvs/CMA_Fairness_v2-3j10GkSs/lib/python3.10/site-packages/IPython/core/magics/osm.py:417: UserWarning: This is now an optional IPython functionality, setting dhist requires you to install the `pickleshare` library.\n",
      "  self.shell.db['dhist'] = compress_dhist(dhist)[-100:]\n"
     ]
    }
   ],
   "source": [
    "%cd ~/cma/CMA_Fairness_v2"
   ]
  },
  {
   "cell_type": "markdown",
   "id": "de2603b9",
   "metadata": {
    "papermill": {
     "duration": 0.019714,
     "end_time": "2025-08-05T16:15:37.060724",
     "exception": false,
     "start_time": "2025-08-05T16:15:37.041010",
     "status": "completed"
    },
    "tags": []
   },
   "source": [
    "The following cell holds the definition of our parameters, these values can be overriden by rendering the with e.g. the following command:\n",
    "\n",
    "papermill -p alpha 0.2 -p ratio 0.3 universe_analysis.ipynb output/test_run.ipynb"
   ]
  },
  {
   "cell_type": "code",
   "execution_count": 2,
   "id": "a80968a0-40bb-4fa9-85ef-2d5eefb01975",
   "metadata": {
    "execution": {
     "iopub.execute_input": "2025-08-05T16:15:37.104455Z",
     "iopub.status.busy": "2025-08-05T16:15:37.103466Z",
     "iopub.status.idle": "2025-08-05T16:15:37.111596Z",
     "shell.execute_reply": "2025-08-05T16:15:37.110034Z"
    },
    "papermill": {
     "duration": 0.031937,
     "end_time": "2025-08-05T16:15:37.113610",
     "exception": false,
     "start_time": "2025-08-05T16:15:37.081673",
     "status": "completed"
    },
    "tags": []
   },
   "outputs": [
    {
     "name": "stdout",
     "output_type": "stream",
     "text": [
      "Current working directory: /dss/dsshome1/0C/ra93lal2/cma/CMA_Fairness_v2\n"
     ]
    }
   ],
   "source": [
    "import os\n",
    "print(\"Current working directory:\", os.getcwd())"
   ]
  },
  {
   "cell_type": "code",
   "execution_count": 3,
   "id": "2dce4c03",
   "metadata": {
    "execution": {
     "iopub.execute_input": "2025-08-05T16:15:37.211250Z",
     "iopub.status.busy": "2025-08-05T16:15:37.210639Z",
     "iopub.status.idle": "2025-08-05T16:15:37.218073Z",
     "shell.execute_reply": "2025-08-05T16:15:37.217130Z"
    },
    "papermill": {
     "duration": 0.029326,
     "end_time": "2025-08-05T16:15:37.219465",
     "exception": false,
     "start_time": "2025-08-05T16:15:37.190139",
     "status": "completed"
    },
    "tags": [
     "parameters"
    ]
   },
   "outputs": [],
   "source": [
    "run_no = 0\n",
    "universe_id = \"test\"\n",
    "universe = {\n",
    "    \"training_size\": \"25k\", # \"25k\", \"5k\", \"1k\"\n",
    "    \"training_year\": \"2014\", # \"2014\", \"2012_14\", \"2010_14\"\n",
    "    \"scale\": \"scale\", # \"scale\", \"do-not-scale\",\n",
    "    \"model\": \"elasticnet\", # \"logreg\", \"penalized_logreg\", \"rf\", \"gbm\", \"elasticnet\"\n",
    "    \"cutoff\": [\"quantile_0.15\", \"quantile_0.30\"],\n",
    "    \"exclude_features\": \"age\", # \"none\", \"nationality\", \"sex\", \"nationality-sex\", \"age\"\n",
    "    \"exclude_subgroups\": \"keep-all\", # \"keep-all\", \"drop-non-german\"\n",
    "    \"eval_fairness_grouping\": [\"majority-minority\", \"nationality-all\"]\n",
    "}\n",
    "\n",
    "output_dir=\"./output\"\n",
    "seed=0"
   ]
  },
  {
   "cell_type": "code",
   "execution_count": 4,
   "id": "64708c9e",
   "metadata": {
    "execution": {
     "iopub.execute_input": "2025-08-05T16:15:37.242865Z",
     "iopub.status.busy": "2025-08-05T16:15:37.242060Z",
     "iopub.status.idle": "2025-08-05T16:15:37.247327Z",
     "shell.execute_reply": "2025-08-05T16:15:37.246472Z"
    },
    "papermill": {
     "duration": 0.01828,
     "end_time": "2025-08-05T16:15:37.248855",
     "exception": false,
     "start_time": "2025-08-05T16:15:37.230575",
     "status": "completed"
    },
    "tags": [
     "injected-parameters"
    ]
   },
   "outputs": [],
   "source": [
    "# Parameters\n",
    "universe_id = \"67d4a4c071a48d40ebd59558fbd9e576\"\n",
    "run_no = \"15\"\n",
    "universe = \"{\\\"cutoff\\\": [\\\"quantile_0.1\\\", \\\"quantile_0.25\\\"], \\\"eval_fairness_grouping\\\": [\\\"majority-minority\\\", \\\"nationality-all\\\"], \\\"exclude_features\\\": \\\"nationality\\\", \\\"exclude_subgroups\\\": \\\"drop-non-german\\\", \\\"model\\\": \\\"logreg\\\", \\\"scale\\\": \\\"scale\\\", \\\"training_size\\\": \\\"1k\\\", \\\"training_year\\\": \\\"2012_14\\\"}\"\n",
    "output_dir = \"output\"\n",
    "seed = \"2023\"\n"
   ]
  },
  {
   "cell_type": "code",
   "execution_count": 5,
   "id": "1650acaf",
   "metadata": {
    "execution": {
     "iopub.execute_input": "2025-08-05T16:15:37.290609Z",
     "iopub.status.busy": "2025-08-05T16:15:37.289817Z",
     "iopub.status.idle": "2025-08-05T16:15:37.295931Z",
     "shell.execute_reply": "2025-08-05T16:15:37.294738Z"
    },
    "papermill": {
     "duration": 0.028927,
     "end_time": "2025-08-05T16:15:37.297888",
     "exception": false,
     "start_time": "2025-08-05T16:15:37.268961",
     "status": "completed"
    },
    "tags": []
   },
   "outputs": [],
   "source": [
    "import json\n",
    "if isinstance(universe, str):\n",
    "    universe = json.loads(universe)"
   ]
  },
  {
   "cell_type": "code",
   "execution_count": 6,
   "id": "16620c48",
   "metadata": {
    "execution": {
     "iopub.execute_input": "2025-08-05T16:15:37.338384Z",
     "iopub.status.busy": "2025-08-05T16:15:37.337846Z",
     "iopub.status.idle": "2025-08-05T16:15:37.391302Z",
     "shell.execute_reply": "2025-08-05T16:15:37.389651Z"
    },
    "papermill": {
     "duration": 0.076845,
     "end_time": "2025-08-05T16:15:37.393950",
     "exception": false,
     "start_time": "2025-08-05T16:15:37.317105",
     "status": "completed"
    },
    "tags": []
   },
   "outputs": [],
   "source": [
    "# Auto-reload the custom package\n",
    "%load_ext autoreload\n",
    "%autoreload 1\n",
    "%aimport fairness_multiverse"
   ]
  },
  {
   "cell_type": "code",
   "execution_count": 7,
   "id": "01c5c9f3",
   "metadata": {
    "execution": {
     "iopub.execute_input": "2025-08-05T16:15:37.418744Z",
     "iopub.status.busy": "2025-08-05T16:15:37.417902Z",
     "iopub.status.idle": "2025-08-05T16:15:39.845728Z",
     "shell.execute_reply": "2025-08-05T16:15:39.844637Z"
    },
    "papermill": {
     "duration": 2.441854,
     "end_time": "2025-08-05T16:15:39.847907",
     "exception": false,
     "start_time": "2025-08-05T16:15:37.406053",
     "status": "completed"
    },
    "tags": []
   },
   "outputs": [],
   "source": [
    "from fairness_multiverse.universe import UniverseAnalysis\n",
    "\n",
    "universe_analysis = UniverseAnalysis(\n",
    "    run_no = run_no,\n",
    "    universe_id = universe_id,\n",
    "    universe = universe,\n",
    "    output_dir=output_dir,\n",
    ")"
   ]
  },
  {
   "cell_type": "code",
   "execution_count": 8,
   "id": "106241f5",
   "metadata": {
    "execution": {
     "iopub.execute_input": "2025-08-05T16:15:39.904184Z",
     "iopub.status.busy": "2025-08-05T16:15:39.903488Z",
     "iopub.status.idle": "2025-08-05T16:15:39.912602Z",
     "shell.execute_reply": "2025-08-05T16:15:39.911271Z"
    },
    "papermill": {
     "duration": 0.049091,
     "end_time": "2025-08-05T16:15:39.916955",
     "exception": false,
     "start_time": "2025-08-05T16:15:39.867864",
     "status": "completed"
    },
    "tags": []
   },
   "outputs": [
    {
     "name": "stdout",
     "output_type": "stream",
     "text": [
      "Using Seed: 2023\n"
     ]
    }
   ],
   "source": [
    "import numpy as np\n",
    "parsed_seed = int(seed)\n",
    "np.random.seed(parsed_seed)\n",
    "print(f\"Using Seed: {parsed_seed}\")"
   ]
  },
  {
   "cell_type": "markdown",
   "id": "e0ebdc57",
   "metadata": {
    "papermill": {
     "duration": 0.030493,
     "end_time": "2025-08-05T16:15:39.979208",
     "exception": false,
     "start_time": "2025-08-05T16:15:39.948715",
     "status": "completed"
    },
    "tags": []
   },
   "source": [
    "# Loading Data"
   ]
  },
  {
   "cell_type": "code",
   "execution_count": 9,
   "id": "f0496b8a",
   "metadata": {
    "execution": {
     "iopub.execute_input": "2025-08-05T16:15:40.043727Z",
     "iopub.status.busy": "2025-08-05T16:15:40.043188Z",
     "iopub.status.idle": "2025-08-05T16:15:53.788070Z",
     "shell.execute_reply": "2025-08-05T16:15:53.786479Z"
    },
    "papermill": {
     "duration": 13.780135,
     "end_time": "2025-08-05T16:15:53.790249",
     "exception": false,
     "start_time": "2025-08-05T16:15:40.010114",
     "status": "completed"
    },
    "tags": []
   },
   "outputs": [
    {
     "name": "stdout",
     "output_type": "stream",
     "text": [
      "Loading SIAB data from cache: data/siab_cached.csv.gz\n"
     ]
    },
    {
     "name": "stdout",
     "output_type": "stream",
     "text": [
      "(643690, 164)\n"
     ]
    }
   ],
   "source": [
    "from pathlib import Path\n",
    "import pandas as pd\n",
    "\n",
    "# File paths\n",
    "raw_file = Path(\"data/raw/siab.csv\")\n",
    "cache_file = Path(\"data/siab_cached.csv.gz\")\n",
    "\n",
    "# Ensure cache directory exists\n",
    "cache_file.parent.mkdir(parents=True, exist_ok=True)\n",
    "\n",
    "# Load with simple caching\n",
    "if cache_file.exists():\n",
    "    print(f\"Loading SIAB data from cache: {cache_file}\")\n",
    "    siab = pd.read_csv(cache_file, compression='gzip')\n",
    "else:\n",
    "    print(f\"Cache not found. Reading raw SIAB data: {raw_file}\")\n",
    "    siab = pd.read_csv(raw_file)\n",
    "    siab.to_csv(cache_file, index=False, compression='gzip')\n",
    "    print(f\"Cached SIAB data to: {cache_file}\")\n",
    "\n",
    "print(siab.shape)"
   ]
  },
  {
   "cell_type": "code",
   "execution_count": 10,
   "id": "db0ca512-5f53-4dba-abdb-a2888bca41ba",
   "metadata": {
    "execution": {
     "iopub.execute_input": "2025-08-05T16:15:53.835126Z",
     "iopub.status.busy": "2025-08-05T16:15:53.834351Z",
     "iopub.status.idle": "2025-08-05T16:15:53.841540Z",
     "shell.execute_reply": "2025-08-05T16:15:53.840652Z"
    },
    "papermill": {
     "duration": 0.02952,
     "end_time": "2025-08-05T16:15:53.843167",
     "exception": false,
     "start_time": "2025-08-05T16:15:53.813647",
     "status": "completed"
    },
    "tags": []
   },
   "outputs": [],
   "source": [
    "#siab"
   ]
  },
  {
   "cell_type": "markdown",
   "id": "997051c5-15bd-4b69-9786-c3001a3ce484",
   "metadata": {
    "papermill": {
     "duration": 0.011784,
     "end_time": "2025-08-05T16:15:53.866798",
     "exception": false,
     "start_time": "2025-08-05T16:15:53.855014",
     "status": "completed"
    },
    "tags": []
   },
   "source": [
    "# Splitting Data and Setting Training Data Size"
   ]
  },
  {
   "cell_type": "code",
   "execution_count": 11,
   "id": "aea9c6ef-6f46-42c8-85eb-5a62025c1508",
   "metadata": {
    "execution": {
     "iopub.execute_input": "2025-08-05T16:15:53.890160Z",
     "iopub.status.busy": "2025-08-05T16:15:53.889704Z",
     "iopub.status.idle": "2025-08-05T16:15:54.527853Z",
     "shell.execute_reply": "2025-08-05T16:15:54.526714Z"
    },
    "papermill": {
     "duration": 0.652506,
     "end_time": "2025-08-05T16:15:54.529775",
     "exception": false,
     "start_time": "2025-08-05T16:15:53.877269",
     "status": "completed"
    },
    "tags": []
   },
   "outputs": [],
   "source": [
    "from fairness_multiverse.universe import sample_by_year_size\n",
    "\n",
    "siab_train = sample_by_year_size(siab,\n",
    "                               training_year=universe[\"training_year\"],\n",
    "                               training_size=universe[\"training_size\"])"
   ]
  },
  {
   "cell_type": "code",
   "execution_count": 12,
   "id": "8d3afb32-789d-442c-8d5d-9f5aa8dd2eed",
   "metadata": {
    "execution": {
     "iopub.execute_input": "2025-08-05T16:15:54.571760Z",
     "iopub.status.busy": "2025-08-05T16:15:54.571253Z",
     "iopub.status.idle": "2025-08-05T16:15:54.577049Z",
     "shell.execute_reply": "2025-08-05T16:15:54.575975Z"
    },
    "papermill": {
     "duration": 0.029381,
     "end_time": "2025-08-05T16:15:54.579456",
     "exception": false,
     "start_time": "2025-08-05T16:15:54.550075",
     "status": "completed"
    },
    "tags": []
   },
   "outputs": [],
   "source": [
    "#siab_train.shape"
   ]
  },
  {
   "cell_type": "code",
   "execution_count": 13,
   "id": "d582db68-1a4c-47fb-84fc-08518dc1975a",
   "metadata": {
    "execution": {
     "iopub.execute_input": "2025-08-05T16:15:54.624652Z",
     "iopub.status.busy": "2025-08-05T16:15:54.623910Z",
     "iopub.status.idle": "2025-08-05T16:15:54.629976Z",
     "shell.execute_reply": "2025-08-05T16:15:54.628835Z"
    },
    "papermill": {
     "duration": 0.03116,
     "end_time": "2025-08-05T16:15:54.631806",
     "exception": false,
     "start_time": "2025-08-05T16:15:54.600646",
     "status": "completed"
    },
    "tags": []
   },
   "outputs": [],
   "source": [
    "#display(siab_train.groupby(\"year\").size())"
   ]
  },
  {
   "cell_type": "code",
   "execution_count": 14,
   "id": "a561edb4-d032-42cb-8256-22eac1111c64",
   "metadata": {
    "execution": {
     "iopub.execute_input": "2025-08-05T16:15:54.680127Z",
     "iopub.status.busy": "2025-08-05T16:15:54.679772Z",
     "iopub.status.idle": "2025-08-05T16:15:54.938213Z",
     "shell.execute_reply": "2025-08-05T16:15:54.937061Z"
    },
    "papermill": {
     "duration": 0.287741,
     "end_time": "2025-08-05T16:15:54.943231",
     "exception": false,
     "start_time": "2025-08-05T16:15:54.655490",
     "status": "completed"
    },
    "tags": []
   },
   "outputs": [],
   "source": [
    "#siab_train = siab_s[siab_s.year < 2015]\n",
    "siab_calib = siab[siab.year == 2015]\n",
    "siab_test = siab[siab.year == 2016]"
   ]
  },
  {
   "cell_type": "code",
   "execution_count": 15,
   "id": "472de16f-c3db-4916-846b-1f0de9cf1746",
   "metadata": {
    "execution": {
     "iopub.execute_input": "2025-08-05T16:15:54.986594Z",
     "iopub.status.busy": "2025-08-05T16:15:54.986188Z",
     "iopub.status.idle": "2025-08-05T16:15:54.995428Z",
     "shell.execute_reply": "2025-08-05T16:15:54.994165Z"
    },
    "papermill": {
     "duration": 0.032891,
     "end_time": "2025-08-05T16:15:54.997824",
     "exception": false,
     "start_time": "2025-08-05T16:15:54.964933",
     "status": "completed"
    },
    "tags": []
   },
   "outputs": [],
   "source": [
    "X_train = siab_train.iloc[:,4:164]\n",
    "y_train = siab_train.iloc[:, [3]]"
   ]
  },
  {
   "cell_type": "code",
   "execution_count": 16,
   "id": "828c96af-f43a-4ed6-ba47-8ac73a47d56c",
   "metadata": {
    "execution": {
     "iopub.execute_input": "2025-08-05T16:15:55.040535Z",
     "iopub.status.busy": "2025-08-05T16:15:55.039739Z",
     "iopub.status.idle": "2025-08-05T16:15:55.099900Z",
     "shell.execute_reply": "2025-08-05T16:15:55.098753Z"
    },
    "papermill": {
     "duration": 0.083485,
     "end_time": "2025-08-05T16:15:55.102058",
     "exception": false,
     "start_time": "2025-08-05T16:15:55.018573",
     "status": "completed"
    },
    "tags": []
   },
   "outputs": [],
   "source": [
    "X_calib = siab_calib.iloc[:,4:164]\n",
    "y_calib = siab_calib.iloc[:, [3]]"
   ]
  },
  {
   "cell_type": "code",
   "execution_count": 17,
   "id": "c34be9c3-6bd6-476e-acd3-845840e303be",
   "metadata": {
    "execution": {
     "iopub.execute_input": "2025-08-05T16:15:55.151110Z",
     "iopub.status.busy": "2025-08-05T16:15:55.150448Z",
     "iopub.status.idle": "2025-08-05T16:15:55.205216Z",
     "shell.execute_reply": "2025-08-05T16:15:55.204216Z"
    },
    "papermill": {
     "duration": 0.080734,
     "end_time": "2025-08-05T16:15:55.207227",
     "exception": false,
     "start_time": "2025-08-05T16:15:55.126493",
     "status": "completed"
    },
    "tags": []
   },
   "outputs": [],
   "source": [
    "X_test = siab_test.iloc[:,4:164]\n",
    "y_true = siab_test.iloc[:, [3]]"
   ]
  },
  {
   "cell_type": "code",
   "execution_count": 18,
   "id": "e6c733c5",
   "metadata": {
    "execution": {
     "iopub.execute_input": "2025-08-05T16:15:55.252235Z",
     "iopub.status.busy": "2025-08-05T16:15:55.251408Z",
     "iopub.status.idle": "2025-08-05T16:15:55.362435Z",
     "shell.execute_reply": "2025-08-05T16:15:55.361338Z"
    },
    "papermill": {
     "duration": 0.134483,
     "end_time": "2025-08-05T16:15:55.364536",
     "exception": false,
     "start_time": "2025-08-05T16:15:55.230053",
     "status": "completed"
    },
    "tags": []
   },
   "outputs": [],
   "source": [
    "# Auxiliary data needed downstream in the pipeline\n",
    "\n",
    "org_train = X_train.copy()\n",
    "org_test = X_test.copy()\n",
    "org_calib = X_calib.copy()"
   ]
  },
  {
   "cell_type": "markdown",
   "id": "0a4a1b33",
   "metadata": {
    "papermill": {
     "duration": 0.020281,
     "end_time": "2025-08-05T16:15:55.406301",
     "exception": false,
     "start_time": "2025-08-05T16:15:55.386020",
     "status": "completed"
    },
    "tags": []
   },
   "source": [
    "# Preprocessing Data"
   ]
  },
  {
   "cell_type": "code",
   "execution_count": 19,
   "id": "ca879031",
   "metadata": {
    "execution": {
     "iopub.execute_input": "2025-08-05T16:15:55.448664Z",
     "iopub.status.busy": "2025-08-05T16:15:55.448130Z",
     "iopub.status.idle": "2025-08-05T16:15:55.454925Z",
     "shell.execute_reply": "2025-08-05T16:15:55.453862Z"
    },
    "papermill": {
     "duration": 0.030358,
     "end_time": "2025-08-05T16:15:55.456680",
     "exception": false,
     "start_time": "2025-08-05T16:15:55.426322",
     "status": "completed"
    },
    "tags": []
   },
   "outputs": [],
   "source": [
    "# EXCLUDE PROTECTED FEATURES\n",
    "# ----------------------\n",
    "# \"exclude_features\": \"none\", # \"nationality\", \"sex\", \"nationality-sex\"\n",
    "\n",
    "excluded_features = universe[\"exclude_features\"].split(\"-\") # split, e.g.: \"nationality-sex\" -> [\"nationality\", \"sex\"]\n",
    "excluded_features_dictionary = {\n",
    "    \"nationality\": [\"maxdeutsch1\", \"maxdeutsch.Missing.\"],\n",
    "    \"sex\": [\"frau1\"],\n",
    "    \"age\": [\"age\"],\n",
    "}"
   ]
  },
  {
   "cell_type": "code",
   "execution_count": 20,
   "id": "b745ac60",
   "metadata": {
    "execution": {
     "iopub.execute_input": "2025-08-05T16:15:55.500625Z",
     "iopub.status.busy": "2025-08-05T16:15:55.499027Z",
     "iopub.status.idle": "2025-08-05T16:15:55.505706Z",
     "shell.execute_reply": "2025-08-05T16:15:55.504612Z"
    },
    "papermill": {
     "duration": 0.030585,
     "end_time": "2025-08-05T16:15:55.507436",
     "exception": false,
     "start_time": "2025-08-05T16:15:55.476851",
     "status": "completed"
    },
    "tags": []
   },
   "outputs": [],
   "source": [
    "# Code nice names to column names\n",
    "\n",
    "excluded_features_columns = [\n",
    "    excluded_features_dictionary[f] for f in excluded_features if len(f) > 0 and f != \"none\"\n",
    "]"
   ]
  },
  {
   "cell_type": "code",
   "execution_count": 21,
   "id": "f84f73a2",
   "metadata": {
    "execution": {
     "iopub.execute_input": "2025-08-05T16:15:55.549540Z",
     "iopub.status.busy": "2025-08-05T16:15:55.548555Z",
     "iopub.status.idle": "2025-08-05T16:15:55.555859Z",
     "shell.execute_reply": "2025-08-05T16:15:55.554771Z"
    },
    "papermill": {
     "duration": 0.030116,
     "end_time": "2025-08-05T16:15:55.557773",
     "exception": false,
     "start_time": "2025-08-05T16:15:55.527657",
     "status": "completed"
    },
    "tags": []
   },
   "outputs": [],
   "source": [
    "from utils import flatten_once\n",
    "\n",
    "excluded_features_columns = flatten_once(excluded_features_columns)"
   ]
  },
  {
   "cell_type": "code",
   "execution_count": 22,
   "id": "884dea22",
   "metadata": {
    "execution": {
     "iopub.execute_input": "2025-08-05T16:15:55.604539Z",
     "iopub.status.busy": "2025-08-05T16:15:55.603439Z",
     "iopub.status.idle": "2025-08-05T16:15:55.613174Z",
     "shell.execute_reply": "2025-08-05T16:15:55.612073Z"
    },
    "papermill": {
     "duration": 0.035294,
     "end_time": "2025-08-05T16:15:55.615254",
     "exception": false,
     "start_time": "2025-08-05T16:15:55.579960",
     "status": "completed"
    },
    "tags": []
   },
   "outputs": [
    {
     "name": "stdout",
     "output_type": "stream",
     "text": [
      "Dropping features: ['maxdeutsch1', 'maxdeutsch.Missing.']\n"
     ]
    }
   ],
   "source": [
    "if len(excluded_features_columns) > 0:\n",
    "    print(f\"Dropping features: {excluded_features_columns}\")\n",
    "    X_train.drop(excluded_features_columns, axis=1, inplace=True)"
   ]
  },
  {
   "cell_type": "code",
   "execution_count": 23,
   "id": "95ab8b16",
   "metadata": {
    "execution": {
     "iopub.execute_input": "2025-08-05T16:15:55.664980Z",
     "iopub.status.busy": "2025-08-05T16:15:55.664296Z",
     "iopub.status.idle": "2025-08-05T16:15:55.727564Z",
     "shell.execute_reply": "2025-08-05T16:15:55.726374Z"
    },
    "papermill": {
     "duration": 0.091319,
     "end_time": "2025-08-05T16:15:55.730995",
     "exception": false,
     "start_time": "2025-08-05T16:15:55.639676",
     "status": "completed"
    },
    "tags": []
   },
   "outputs": [
    {
     "name": "stdout",
     "output_type": "stream",
     "text": [
      "Dropping features: ['maxdeutsch1', 'maxdeutsch.Missing.']\n"
     ]
    }
   ],
   "source": [
    "if len(excluded_features_columns) > 0:\n",
    "    print(f\"Dropping features: {excluded_features_columns}\")\n",
    "    X_test.drop(excluded_features_columns, axis=1, inplace=True)"
   ]
  },
  {
   "cell_type": "code",
   "execution_count": 24,
   "id": "1853aaf5-fb9f-46cb-a2b5-8ea4ae2237e4",
   "metadata": {
    "execution": {
     "iopub.execute_input": "2025-08-05T16:15:55.782233Z",
     "iopub.status.busy": "2025-08-05T16:15:55.781223Z",
     "iopub.status.idle": "2025-08-05T16:15:55.839678Z",
     "shell.execute_reply": "2025-08-05T16:15:55.838618Z"
    },
    "papermill": {
     "duration": 0.08605,
     "end_time": "2025-08-05T16:15:55.841998",
     "exception": false,
     "start_time": "2025-08-05T16:15:55.755948",
     "status": "completed"
    },
    "tags": []
   },
   "outputs": [
    {
     "name": "stdout",
     "output_type": "stream",
     "text": [
      "Dropping features: ['maxdeutsch1', 'maxdeutsch.Missing.']\n"
     ]
    }
   ],
   "source": [
    "if len(excluded_features_columns) > 0:\n",
    "    print(f\"Dropping features: {excluded_features_columns}\")\n",
    "    X_calib.drop(excluded_features_columns, axis=1, inplace=True)"
   ]
  },
  {
   "cell_type": "code",
   "execution_count": 25,
   "id": "76c4dc6d",
   "metadata": {
    "execution": {
     "iopub.execute_input": "2025-08-05T16:15:55.888143Z",
     "iopub.status.busy": "2025-08-05T16:15:55.887530Z",
     "iopub.status.idle": "2025-08-05T16:15:55.893939Z",
     "shell.execute_reply": "2025-08-05T16:15:55.892696Z"
    },
    "papermill": {
     "duration": 0.031423,
     "end_time": "2025-08-05T16:15:55.895805",
     "exception": false,
     "start_time": "2025-08-05T16:15:55.864382",
     "status": "completed"
    },
    "tags": []
   },
   "outputs": [],
   "source": [
    "# EXCLUDE CERTAIN SUBGROUPS\n",
    "# ----------------------\n",
    "\n",
    "mode = universe.get(\"exclude_subgroups\", \"keep-all\") \n",
    "# Fetches the exclude_subgroups setting from the universe dict.\n",
    "# Defaults to \"keep-all\" if the key is missing."
   ]
  },
  {
   "cell_type": "code",
   "execution_count": 26,
   "id": "21994072",
   "metadata": {
    "execution": {
     "iopub.execute_input": "2025-08-05T16:15:55.940769Z",
     "iopub.status.busy": "2025-08-05T16:15:55.940213Z",
     "iopub.status.idle": "2025-08-05T16:15:55.947736Z",
     "shell.execute_reply": "2025-08-05T16:15:55.946695Z"
    },
    "papermill": {
     "duration": 0.031831,
     "end_time": "2025-08-05T16:15:55.949449",
     "exception": false,
     "start_time": "2025-08-05T16:15:55.917618",
     "status": "completed"
    },
    "tags": []
   },
   "outputs": [],
   "source": [
    "if mode == \"keep-all\":\n",
    "    keep_mask = pd.Series(True, index=org_train.index)\n",
    "\n",
    "# org_train contains the original feature columns from features_org (in Simson)\n",
    "# features_org contains unprocessed features, for me X_train at beginning ???\n",
    "# For keep-all, creates a boolean Series (keep_mask) of all True, so no rows are removed.\n",
    "\n",
    "elif mode == \"drop-non-german\":\n",
    "    keep_mask = org_train[\"maxdeutsch1\"] == 1 # ??? what about missing values?\n",
    "\n",
    "else:\n",
    "    raise ValueError(f\"Unsupported mode for exclude_subgroups: {mode}\")"
   ]
  },
  {
   "cell_type": "code",
   "execution_count": 27,
   "id": "71651440",
   "metadata": {
    "execution": {
     "iopub.execute_input": "2025-08-05T16:15:55.994128Z",
     "iopub.status.busy": "2025-08-05T16:15:55.993443Z",
     "iopub.status.idle": "2025-08-05T16:15:56.000807Z",
     "shell.execute_reply": "2025-08-05T16:15:55.999881Z"
    },
    "papermill": {
     "duration": 0.031531,
     "end_time": "2025-08-05T16:15:56.002668",
     "exception": false,
     "start_time": "2025-08-05T16:15:55.971137",
     "status": "completed"
    },
    "tags": []
   },
   "outputs": [
    {
     "name": "stdout",
     "output_type": "stream",
     "text": [
      "Dropping 147 rows (14.70%) where mode='drop-non-german'\n"
     ]
    }
   ],
   "source": [
    "n_drop = (~keep_mask).sum() # Calculates how many rows are set to be dropped\n",
    "if n_drop > 0:\n",
    "    pct = n_drop / len(keep_mask) * 100\n",
    "    print(f\"Dropping {n_drop} rows ({pct:.2f}%) where mode='{mode}'\")"
   ]
  },
  {
   "cell_type": "code",
   "execution_count": 28,
   "id": "5fb8eee5",
   "metadata": {
    "execution": {
     "iopub.execute_input": "2025-08-05T16:15:56.047132Z",
     "iopub.status.busy": "2025-08-05T16:15:56.046332Z",
     "iopub.status.idle": "2025-08-05T16:15:56.052997Z",
     "shell.execute_reply": "2025-08-05T16:15:56.051944Z"
    },
    "papermill": {
     "duration": 0.030801,
     "end_time": "2025-08-05T16:15:56.054834",
     "exception": false,
     "start_time": "2025-08-05T16:15:56.024033",
     "status": "completed"
    },
    "tags": []
   },
   "outputs": [],
   "source": [
    "X_train = X_train[keep_mask]"
   ]
  },
  {
   "cell_type": "code",
   "execution_count": 29,
   "id": "b202bb3a",
   "metadata": {
    "execution": {
     "iopub.execute_input": "2025-08-05T16:15:56.099479Z",
     "iopub.status.busy": "2025-08-05T16:15:56.098742Z",
     "iopub.status.idle": "2025-08-05T16:15:56.105007Z",
     "shell.execute_reply": "2025-08-05T16:15:56.103870Z"
    },
    "papermill": {
     "duration": 0.030686,
     "end_time": "2025-08-05T16:15:56.106887",
     "exception": false,
     "start_time": "2025-08-05T16:15:56.076201",
     "status": "completed"
    },
    "tags": []
   },
   "outputs": [],
   "source": [
    "y_train = y_train[keep_mask]"
   ]
  },
  {
   "cell_type": "markdown",
   "id": "493e2ac3",
   "metadata": {
    "papermill": {
     "duration": 0.021508,
     "end_time": "2025-08-05T16:15:56.150786",
     "exception": false,
     "start_time": "2025-08-05T16:15:56.129278",
     "status": "completed"
    },
    "tags": []
   },
   "source": [
    "# Model Training"
   ]
  },
  {
   "cell_type": "code",
   "execution_count": 30,
   "id": "679e1268",
   "metadata": {
    "execution": {
     "iopub.execute_input": "2025-08-05T16:15:56.200228Z",
     "iopub.status.busy": "2025-08-05T16:15:56.199368Z",
     "iopub.status.idle": "2025-08-05T16:15:56.323804Z",
     "shell.execute_reply": "2025-08-05T16:15:56.322625Z"
    },
    "papermill": {
     "duration": 0.150817,
     "end_time": "2025-08-05T16:15:56.326245",
     "exception": false,
     "start_time": "2025-08-05T16:15:56.175428",
     "status": "completed"
    },
    "tags": []
   },
   "outputs": [],
   "source": [
    "from sklearn.linear_model import LogisticRegression\n",
    "from sklearn.ensemble import GradientBoostingClassifier, RandomForestClassifier\n",
    "\n",
    "if (universe[\"model\"] == \"logreg\"):\n",
    "    model = LogisticRegression() #penalty=\"none\", solver=\"newton-cg\", max_iter=1) # include random_state=19 ?\n",
    "elif (universe[\"model\"] == \"penalized_logreg\"):\n",
    "    model = LogisticRegression(penalty=\"l2\", C=0.1) #, solver=\"newton-cg\", max_iter=1)\n",
    "elif (universe[\"model\"] == \"rf\"):\n",
    "    model = RandomForestClassifier() # n_estimators=100, n_jobs=-1\n",
    "elif (universe[\"model\"] == \"gbm\"):\n",
    "    model = GradientBoostingClassifier()\n",
    "elif (universe[\"model\"] == \"elasticnet\"):\n",
    "    model = LogisticRegression(penalty = 'elasticnet', solver = 'saga', l1_ratio = 0.5) # max_iter=5000\n",
    "else:\n",
    "    raise \"Unsupported universe.model\""
   ]
  },
  {
   "cell_type": "code",
   "execution_count": 31,
   "id": "0cc8f744",
   "metadata": {
    "execution": {
     "iopub.execute_input": "2025-08-05T16:15:56.379949Z",
     "iopub.status.busy": "2025-08-05T16:15:56.379375Z",
     "iopub.status.idle": "2025-08-05T16:15:56.387034Z",
     "shell.execute_reply": "2025-08-05T16:15:56.385898Z"
    },
    "papermill": {
     "duration": 0.037401,
     "end_time": "2025-08-05T16:15:56.390036",
     "exception": false,
     "start_time": "2025-08-05T16:15:56.352635",
     "status": "completed"
    },
    "tags": []
   },
   "outputs": [],
   "source": [
    "import numpy as np\n",
    "from sklearn.pipeline import Pipeline\n",
    "from sklearn.preprocessing import StandardScaler\n",
    "\n",
    "model = Pipeline([\n",
    "    #(\"continuous_processor\", continuous_processor),\n",
    "    #(\"categorical_preprocessor\", categorical_preprocessor),\n",
    "    (\"scale\", StandardScaler() if universe[\"scale\"] == \"scale\" else None), \n",
    "    (\"model\", model),\n",
    "])"
   ]
  },
  {
   "cell_type": "code",
   "execution_count": 32,
   "id": "9442c04d",
   "metadata": {
    "execution": {
     "iopub.execute_input": "2025-08-05T16:15:56.442105Z",
     "iopub.status.busy": "2025-08-05T16:15:56.441536Z",
     "iopub.status.idle": "2025-08-05T16:15:56.519200Z",
     "shell.execute_reply": "2025-08-05T16:15:56.518371Z"
    },
    "papermill": {
     "duration": 0.105257,
     "end_time": "2025-08-05T16:15:56.520724",
     "exception": false,
     "start_time": "2025-08-05T16:15:56.415467",
     "status": "completed"
    },
    "tags": []
   },
   "outputs": [
    {
     "name": "stderr",
     "output_type": "stream",
     "text": [
      "/dss/dsshome1/0C/ra93lal2/.local/share/virtualenvs/CMA_Fairness_v2-3j10GkSs/lib/python3.10/site-packages/sklearn/linear_model/_logistic.py:444: ConvergenceWarning: lbfgs failed to converge (status=1):\n",
      "STOP: TOTAL NO. of ITERATIONS REACHED LIMIT.\n",
      "\n",
      "Increase the number of iterations (max_iter) or scale the data as shown in:\n",
      "    https://scikit-learn.org/stable/modules/preprocessing.html\n",
      "Please also refer to the documentation for alternative solver options:\n",
      "    https://scikit-learn.org/stable/modules/linear_model.html#logistic-regression\n",
      "  n_iter_i = _check_optimize_result(\n"
     ]
    },
    {
     "data": {
      "text/html": [
       "<style>#sk-container-id-1 {color: black;background-color: white;}#sk-container-id-1 pre{padding: 0;}#sk-container-id-1 div.sk-toggleable {background-color: white;}#sk-container-id-1 label.sk-toggleable__label {cursor: pointer;display: block;width: 100%;margin-bottom: 0;padding: 0.3em;box-sizing: border-box;text-align: center;}#sk-container-id-1 label.sk-toggleable__label-arrow:before {content: \"▸\";float: left;margin-right: 0.25em;color: #696969;}#sk-container-id-1 label.sk-toggleable__label-arrow:hover:before {color: black;}#sk-container-id-1 div.sk-estimator:hover label.sk-toggleable__label-arrow:before {color: black;}#sk-container-id-1 div.sk-toggleable__content {max-height: 0;max-width: 0;overflow: hidden;text-align: left;background-color: #f0f8ff;}#sk-container-id-1 div.sk-toggleable__content pre {margin: 0.2em;color: black;border-radius: 0.25em;background-color: #f0f8ff;}#sk-container-id-1 input.sk-toggleable__control:checked~div.sk-toggleable__content {max-height: 200px;max-width: 100%;overflow: auto;}#sk-container-id-1 input.sk-toggleable__control:checked~label.sk-toggleable__label-arrow:before {content: \"▾\";}#sk-container-id-1 div.sk-estimator input.sk-toggleable__control:checked~label.sk-toggleable__label {background-color: #d4ebff;}#sk-container-id-1 div.sk-label input.sk-toggleable__control:checked~label.sk-toggleable__label {background-color: #d4ebff;}#sk-container-id-1 input.sk-hidden--visually {border: 0;clip: rect(1px 1px 1px 1px);clip: rect(1px, 1px, 1px, 1px);height: 1px;margin: -1px;overflow: hidden;padding: 0;position: absolute;width: 1px;}#sk-container-id-1 div.sk-estimator {font-family: monospace;background-color: #f0f8ff;border: 1px dotted black;border-radius: 0.25em;box-sizing: border-box;margin-bottom: 0.5em;}#sk-container-id-1 div.sk-estimator:hover {background-color: #d4ebff;}#sk-container-id-1 div.sk-parallel-item::after {content: \"\";width: 100%;border-bottom: 1px solid gray;flex-grow: 1;}#sk-container-id-1 div.sk-label:hover label.sk-toggleable__label {background-color: #d4ebff;}#sk-container-id-1 div.sk-serial::before {content: \"\";position: absolute;border-left: 1px solid gray;box-sizing: border-box;top: 0;bottom: 0;left: 50%;z-index: 0;}#sk-container-id-1 div.sk-serial {display: flex;flex-direction: column;align-items: center;background-color: white;padding-right: 0.2em;padding-left: 0.2em;position: relative;}#sk-container-id-1 div.sk-item {position: relative;z-index: 1;}#sk-container-id-1 div.sk-parallel {display: flex;align-items: stretch;justify-content: center;background-color: white;position: relative;}#sk-container-id-1 div.sk-item::before, #sk-container-id-1 div.sk-parallel-item::before {content: \"\";position: absolute;border-left: 1px solid gray;box-sizing: border-box;top: 0;bottom: 0;left: 50%;z-index: -1;}#sk-container-id-1 div.sk-parallel-item {display: flex;flex-direction: column;z-index: 1;position: relative;background-color: white;}#sk-container-id-1 div.sk-parallel-item:first-child::after {align-self: flex-end;width: 50%;}#sk-container-id-1 div.sk-parallel-item:last-child::after {align-self: flex-start;width: 50%;}#sk-container-id-1 div.sk-parallel-item:only-child::after {width: 0;}#sk-container-id-1 div.sk-dashed-wrapped {border: 1px dashed gray;margin: 0 0.4em 0.5em 0.4em;box-sizing: border-box;padding-bottom: 0.4em;background-color: white;}#sk-container-id-1 div.sk-label label {font-family: monospace;font-weight: bold;display: inline-block;line-height: 1.2em;}#sk-container-id-1 div.sk-label-container {text-align: center;}#sk-container-id-1 div.sk-container {/* jupyter's `normalize.less` sets `[hidden] { display: none; }` but bootstrap.min.css set `[hidden] { display: none !important; }` so we also need the `!important` here to be able to override the default hidden behavior on the sphinx rendered scikit-learn.org. See: https://github.com/scikit-learn/scikit-learn/issues/21755 */display: inline-block !important;position: relative;}#sk-container-id-1 div.sk-text-repr-fallback {display: none;}</style><div id=\"sk-container-id-1\" class=\"sk-top-container\"><div class=\"sk-text-repr-fallback\"><pre>Pipeline(steps=[(&#x27;scale&#x27;, StandardScaler()), (&#x27;model&#x27;, LogisticRegression())])</pre><b>In a Jupyter environment, please rerun this cell to show the HTML representation or trust the notebook. <br />On GitHub, the HTML representation is unable to render, please try loading this page with nbviewer.org.</b></div><div class=\"sk-container\" hidden><div class=\"sk-item sk-dashed-wrapped\"><div class=\"sk-label-container\"><div class=\"sk-label sk-toggleable\"><input class=\"sk-toggleable__control sk-hidden--visually\" id=\"sk-estimator-id-1\" type=\"checkbox\" ><label for=\"sk-estimator-id-1\" class=\"sk-toggleable__label sk-toggleable__label-arrow\">Pipeline</label><div class=\"sk-toggleable__content\"><pre>Pipeline(steps=[(&#x27;scale&#x27;, StandardScaler()), (&#x27;model&#x27;, LogisticRegression())])</pre></div></div></div><div class=\"sk-serial\"><div class=\"sk-item\"><div class=\"sk-estimator sk-toggleable\"><input class=\"sk-toggleable__control sk-hidden--visually\" id=\"sk-estimator-id-2\" type=\"checkbox\" ><label for=\"sk-estimator-id-2\" class=\"sk-toggleable__label sk-toggleable__label-arrow\">StandardScaler</label><div class=\"sk-toggleable__content\"><pre>StandardScaler()</pre></div></div></div><div class=\"sk-item\"><div class=\"sk-estimator sk-toggleable\"><input class=\"sk-toggleable__control sk-hidden--visually\" id=\"sk-estimator-id-3\" type=\"checkbox\" ><label for=\"sk-estimator-id-3\" class=\"sk-toggleable__label sk-toggleable__label-arrow\">LogisticRegression</label><div class=\"sk-toggleable__content\"><pre>LogisticRegression()</pre></div></div></div></div></div></div></div>"
      ],
      "text/plain": [
       "Pipeline(steps=[('scale', StandardScaler()), ('model', LogisticRegression())])"
      ]
     },
     "execution_count": 32,
     "metadata": {},
     "output_type": "execute_result"
    }
   ],
   "source": [
    "model.fit(X_train, y_train.values.ravel())"
   ]
  },
  {
   "cell_type": "code",
   "execution_count": 33,
   "id": "af59f8c0",
   "metadata": {
    "execution": {
     "iopub.execute_input": "2025-08-05T16:15:56.548839Z",
     "iopub.status.busy": "2025-08-05T16:15:56.548466Z",
     "iopub.status.idle": "2025-08-05T16:15:56.553129Z",
     "shell.execute_reply": "2025-08-05T16:15:56.552257Z"
    },
    "papermill": {
     "duration": 0.020486,
     "end_time": "2025-08-05T16:15:56.554655",
     "exception": false,
     "start_time": "2025-08-05T16:15:56.534169",
     "status": "completed"
    },
    "tags": []
   },
   "outputs": [],
   "source": [
    "from fairness_multiverse.universe import predict_w_threshold"
   ]
  },
  {
   "cell_type": "code",
   "execution_count": 34,
   "id": "a7cf2e16",
   "metadata": {
    "execution": {
     "iopub.execute_input": "2025-08-05T16:15:56.581244Z",
     "iopub.status.busy": "2025-08-05T16:15:56.580803Z",
     "iopub.status.idle": "2025-08-05T16:15:56.798409Z",
     "shell.execute_reply": "2025-08-05T16:15:56.797289Z"
    },
    "papermill": {
     "duration": 0.23331,
     "end_time": "2025-08-05T16:15:56.800519",
     "exception": false,
     "start_time": "2025-08-05T16:15:56.567209",
     "status": "completed"
    },
    "tags": []
   },
   "outputs": [
    {
     "data": {
      "text/plain": [
       "0.8166648088284472"
      ]
     },
     "execution_count": 34,
     "metadata": {},
     "output_type": "execute_result"
    }
   ],
   "source": [
    "probs_test = model.predict_proba(X_test)\n",
    "\n",
    "'''\n",
    "Below code returns a boolean array (or binary 0/1 array depending on how it’s used) where each element \n",
    "is True if the probability of class 1 is greater than or equal to the threshold, and False otherwise.\n",
    "'''\n",
    "y_pred_default = predict_w_threshold(probs_test, 0.5)\n",
    "\n",
    "from sklearn.metrics import accuracy_score\n",
    "\n",
    "# Naive prediction\n",
    "accuracy_score(y_true = y_true, y_pred = y_pred_default)"
   ]
  },
  {
   "cell_type": "code",
   "execution_count": 35,
   "id": "081964c3",
   "metadata": {
    "execution": {
     "iopub.execute_input": "2025-08-05T16:15:56.857907Z",
     "iopub.status.busy": "2025-08-05T16:15:56.856789Z",
     "iopub.status.idle": "2025-08-05T16:15:57.069762Z",
     "shell.execute_reply": "2025-08-05T16:15:57.068627Z"
    },
    "papermill": {
     "duration": 0.244027,
     "end_time": "2025-08-05T16:15:57.072304",
     "exception": false,
     "start_time": "2025-08-05T16:15:56.828277",
     "status": "completed"
    },
    "tags": []
   },
   "outputs": [
    {
     "data": {
      "text/plain": [
       "array([0, 0, 1, ..., 0, 0, 0])"
      ]
     },
     "execution_count": 35,
     "metadata": {},
     "output_type": "execute_result"
    }
   ],
   "source": [
    "model.predict(X_test)"
   ]
  },
  {
   "cell_type": "markdown",
   "id": "56c9705b",
   "metadata": {
    "papermill": {
     "duration": 0.027006,
     "end_time": "2025-08-05T16:15:57.127101",
     "exception": false,
     "start_time": "2025-08-05T16:15:57.100095",
     "status": "completed"
    },
    "tags": []
   },
   "source": [
    "# Conformal Prediction"
   ]
  },
  {
   "cell_type": "code",
   "execution_count": 36,
   "id": "160ec6ff",
   "metadata": {
    "execution": {
     "iopub.execute_input": "2025-08-05T16:15:57.183631Z",
     "iopub.status.busy": "2025-08-05T16:15:57.183090Z",
     "iopub.status.idle": "2025-08-05T16:15:57.189008Z",
     "shell.execute_reply": "2025-08-05T16:15:57.187927Z"
    },
    "papermill": {
     "duration": 0.036531,
     "end_time": "2025-08-05T16:15:57.190994",
     "exception": false,
     "start_time": "2025-08-05T16:15:57.154463",
     "status": "completed"
    },
    "tags": []
   },
   "outputs": [],
   "source": [
    "# Miscoverage level for conformal prediction (10% allowed error rate => 90% target coverage)\n",
    "alpha = 0.1"
   ]
  },
  {
   "cell_type": "code",
   "execution_count": 37,
   "id": "eadf4555-3dd3-440e-8e35-f82a4ad9f855",
   "metadata": {
    "execution": {
     "iopub.execute_input": "2025-08-05T16:15:57.246052Z",
     "iopub.status.busy": "2025-08-05T16:15:57.245584Z",
     "iopub.status.idle": "2025-08-05T16:15:57.446138Z",
     "shell.execute_reply": "2025-08-05T16:15:57.444902Z"
    },
    "papermill": {
     "duration": 0.230727,
     "end_time": "2025-08-05T16:15:57.448589",
     "exception": false,
     "start_time": "2025-08-05T16:15:57.217862",
     "status": "completed"
    },
    "tags": []
   },
   "outputs": [],
   "source": [
    "probs_calib = model.predict_proba(X_calib)"
   ]
  },
  {
   "cell_type": "code",
   "execution_count": 38,
   "id": "2ed93547-6d5d-4983-9b36-1ecb300da49a",
   "metadata": {
    "execution": {
     "iopub.execute_input": "2025-08-05T16:15:57.502112Z",
     "iopub.status.busy": "2025-08-05T16:15:57.501264Z",
     "iopub.status.idle": "2025-08-05T16:15:57.508218Z",
     "shell.execute_reply": "2025-08-05T16:15:57.507061Z"
    },
    "papermill": {
     "duration": 0.034923,
     "end_time": "2025-08-05T16:15:57.510114",
     "exception": false,
     "start_time": "2025-08-05T16:15:57.475191",
     "status": "completed"
    },
    "tags": []
   },
   "outputs": [],
   "source": [
    "y_calib = y_calib.values.ravel().astype(int)"
   ]
  },
  {
   "cell_type": "code",
   "execution_count": 39,
   "id": "65d1320d-f588-4b38-9072-62af1ae97f7d",
   "metadata": {
    "execution": {
     "iopub.execute_input": "2025-08-05T16:15:57.565820Z",
     "iopub.status.busy": "2025-08-05T16:15:57.565053Z",
     "iopub.status.idle": "2025-08-05T16:15:57.573264Z",
     "shell.execute_reply": "2025-08-05T16:15:57.572185Z"
    },
    "papermill": {
     "duration": 0.037943,
     "end_time": "2025-08-05T16:15:57.575141",
     "exception": false,
     "start_time": "2025-08-05T16:15:57.537198",
     "status": "completed"
    },
    "tags": []
   },
   "outputs": [],
   "source": [
    "from fairness_multiverse.conformal import compute_nc_scores\n",
    "\n",
    "# Compute nonconformity scores on calibration set (1 - probability of true class)\n",
    "nc_scores = compute_nc_scores(probs_calib, y_calib)"
   ]
  },
  {
   "cell_type": "code",
   "execution_count": 40,
   "id": "df3b8ca3-53b7-43d5-9667-7c85da7aeda2",
   "metadata": {
    "execution": {
     "iopub.execute_input": "2025-08-05T16:15:57.630795Z",
     "iopub.status.busy": "2025-08-05T16:15:57.629861Z",
     "iopub.status.idle": "2025-08-05T16:15:57.637447Z",
     "shell.execute_reply": "2025-08-05T16:15:57.636387Z"
    },
    "papermill": {
     "duration": 0.037653,
     "end_time": "2025-08-05T16:15:57.639495",
     "exception": false,
     "start_time": "2025-08-05T16:15:57.601842",
     "status": "completed"
    },
    "tags": []
   },
   "outputs": [],
   "source": [
    "from fairness_multiverse.conformal import find_threshold\n",
    "\n",
    "# Find conformal threshold q_hat for the given alpha (split conformal method)\n",
    "q_hat = find_threshold(nc_scores, alpha)"
   ]
  },
  {
   "cell_type": "code",
   "execution_count": 41,
   "id": "4d29e6c1-0ef6-4aa4-b8fe-4fe79b0d033a",
   "metadata": {
    "execution": {
     "iopub.execute_input": "2025-08-05T16:15:57.695594Z",
     "iopub.status.busy": "2025-08-05T16:15:57.694804Z",
     "iopub.status.idle": "2025-08-05T16:15:57.703251Z",
     "shell.execute_reply": "2025-08-05T16:15:57.702093Z"
    },
    "papermill": {
     "duration": 0.038348,
     "end_time": "2025-08-05T16:15:57.705179",
     "exception": false,
     "start_time": "2025-08-05T16:15:57.666831",
     "status": "completed"
    },
    "tags": []
   },
   "outputs": [
    {
     "data": {
      "text/plain": [
       "0.8245883955967998"
      ]
     },
     "execution_count": 41,
     "metadata": {},
     "output_type": "execute_result"
    }
   ],
   "source": [
    "q_hat"
   ]
  },
  {
   "cell_type": "code",
   "execution_count": 42,
   "id": "92460794-cdac-4be2-ba28-f28c0515a6fb",
   "metadata": {
    "execution": {
     "iopub.execute_input": "2025-08-05T16:15:57.761794Z",
     "iopub.status.busy": "2025-08-05T16:15:57.760807Z",
     "iopub.status.idle": "2025-08-05T16:15:58.686557Z",
     "shell.execute_reply": "2025-08-05T16:15:58.685712Z"
    },
    "papermill": {
     "duration": 0.95595,
     "end_time": "2025-08-05T16:15:58.688497",
     "exception": false,
     "start_time": "2025-08-05T16:15:57.732547",
     "status": "completed"
    },
    "tags": []
   },
   "outputs": [],
   "source": [
    "from fairness_multiverse.conformal import predict_conformal_sets\n",
    "\n",
    "# Generate prediction sets for each test example\n",
    "pred_sets = predict_conformal_sets(model, X_test, q_hat)"
   ]
  },
  {
   "cell_type": "code",
   "execution_count": 43,
   "id": "d90c9a65-e6db-4f5d-80cd-e68fb7e46829",
   "metadata": {
    "execution": {
     "iopub.execute_input": "2025-08-05T16:15:58.740207Z",
     "iopub.status.busy": "2025-08-05T16:15:58.739828Z",
     "iopub.status.idle": "2025-08-05T16:15:58.745988Z",
     "shell.execute_reply": "2025-08-05T16:15:58.744929Z"
    },
    "papermill": {
     "duration": 0.033857,
     "end_time": "2025-08-05T16:15:58.747945",
     "exception": false,
     "start_time": "2025-08-05T16:15:58.714088",
     "status": "completed"
    },
    "tags": []
   },
   "outputs": [],
   "source": [
    "y_true = y_true.squeeze()"
   ]
  },
  {
   "cell_type": "code",
   "execution_count": 44,
   "id": "3a58a54a-1e68-46b9-927a-df01f18aebc8",
   "metadata": {
    "execution": {
     "iopub.execute_input": "2025-08-05T16:15:58.802940Z",
     "iopub.status.busy": "2025-08-05T16:15:58.802473Z",
     "iopub.status.idle": "2025-08-05T16:15:59.990350Z",
     "shell.execute_reply": "2025-08-05T16:15:59.989007Z"
    },
    "papermill": {
     "duration": 1.217554,
     "end_time": "2025-08-05T16:15:59.992517",
     "exception": false,
     "start_time": "2025-08-05T16:15:58.774963",
     "status": "completed"
    },
    "tags": []
   },
   "outputs": [],
   "source": [
    "from fairness_multiverse.conformal import evaluate_sets\n",
    "\n",
    "# Evaluate coverage and average set size on test data\n",
    "metrics = evaluate_sets(pred_sets, y_true)"
   ]
  },
  {
   "cell_type": "markdown",
   "id": "2b569c12-9aaa-4c88-98c9-bbcd0cf3ebb8",
   "metadata": {
    "papermill": {
     "duration": 0.026587,
     "end_time": "2025-08-05T16:16:00.048754",
     "exception": false,
     "start_time": "2025-08-05T16:16:00.022167",
     "status": "completed"
    },
    "tags": []
   },
   "source": [
    "# CP Metrics"
   ]
  },
  {
   "cell_type": "code",
   "execution_count": 45,
   "id": "5ce0a5cb-201f-45a0-ade5-94c7f0bd6095",
   "metadata": {
    "execution": {
     "iopub.execute_input": "2025-08-05T16:16:00.103918Z",
     "iopub.status.busy": "2025-08-05T16:16:00.103377Z",
     "iopub.status.idle": "2025-08-05T16:16:00.111938Z",
     "shell.execute_reply": "2025-08-05T16:16:00.110795Z"
    },
    "papermill": {
     "duration": 0.03917,
     "end_time": "2025-08-05T16:16:00.113853",
     "exception": false,
     "start_time": "2025-08-05T16:16:00.074683",
     "status": "completed"
    },
    "tags": []
   },
   "outputs": [
    {
     "data": {
      "text/plain": [
       "{'coverage': 0.9099320031211682, 'avg_size': 1.2758332404414223}"
      ]
     },
     "execution_count": 45,
     "metadata": {},
     "output_type": "execute_result"
    }
   ],
   "source": [
    "metrics"
   ]
  },
  {
   "cell_type": "code",
   "execution_count": 46,
   "id": "9b9a838d-31c9-430b-ae14-12baee460d17",
   "metadata": {
    "execution": {
     "iopub.execute_input": "2025-08-05T16:16:00.163294Z",
     "iopub.status.busy": "2025-08-05T16:16:00.162689Z",
     "iopub.status.idle": "2025-08-05T16:16:00.170345Z",
     "shell.execute_reply": "2025-08-05T16:16:00.169287Z"
    },
    "papermill": {
     "duration": 0.034268,
     "end_time": "2025-08-05T16:16:00.172076",
     "exception": false,
     "start_time": "2025-08-05T16:16:00.137808",
     "status": "completed"
    },
    "tags": []
   },
   "outputs": [],
   "source": [
    "example_universe = universe.copy()\n",
    "universe_training_year = example_universe.get(\"training_year\")\n",
    "universe_training_size = example_universe.get(\"training_size\")\n",
    "universe_scale = example_universe.get(\"scale\")\n",
    "universe_model = example_universe.get(\"model\")\n",
    "universe_exclude_features = example_universe.get(\"exclude_features\")\n",
    "universe_exclude_subgroups = example_universe.get(\"exclude_subgroups\")"
   ]
  },
  {
   "cell_type": "code",
   "execution_count": 47,
   "id": "f4b6a8ac-9dc0-4245-8a91-5b3b5999c4f9",
   "metadata": {
    "execution": {
     "iopub.execute_input": "2025-08-05T16:16:00.221863Z",
     "iopub.status.busy": "2025-08-05T16:16:00.221315Z",
     "iopub.status.idle": "2025-08-05T16:16:00.228601Z",
     "shell.execute_reply": "2025-08-05T16:16:00.227594Z"
    },
    "papermill": {
     "duration": 0.033819,
     "end_time": "2025-08-05T16:16:00.230309",
     "exception": false,
     "start_time": "2025-08-05T16:16:00.196490",
     "status": "completed"
    },
    "tags": []
   },
   "outputs": [],
   "source": [
    "cp_metrics_dict = {\n",
    "    \"universe_id\": [universe_id],\n",
    "    \"universe_training_year\": [universe_training_year],\n",
    "    \"universe_training_size\": [universe_training_size],\n",
    "    \"universe_scale\": [universe_scale],\n",
    "    \"universe_model\": [universe_model],\n",
    "    \"universe_exclude_features\": [universe_exclude_features],\n",
    "    \"universe_exclude_subgroups\": [universe_exclude_subgroups],\n",
    "    \"q_hat\": [q_hat],\n",
    "    \"coverage\": [metrics[\"coverage\"]],\n",
    "    \"avg_size\": [metrics[\"avg_size\"]],\n",
    "}"
   ]
  },
  {
   "cell_type": "code",
   "execution_count": 48,
   "id": "908acbb1-0371-4915-85ca-3fa520d2efe2",
   "metadata": {
    "execution": {
     "iopub.execute_input": "2025-08-05T16:16:00.281629Z",
     "iopub.status.busy": "2025-08-05T16:16:00.280865Z",
     "iopub.status.idle": "2025-08-05T16:16:00.289186Z",
     "shell.execute_reply": "2025-08-05T16:16:00.288172Z"
    },
    "papermill": {
     "duration": 0.035783,
     "end_time": "2025-08-05T16:16:00.291005",
     "exception": false,
     "start_time": "2025-08-05T16:16:00.255222",
     "status": "completed"
    },
    "tags": []
   },
   "outputs": [
    {
     "data": {
      "text/plain": [
       "{'universe_id': ['67d4a4c071a48d40ebd59558fbd9e576'],\n",
       " 'universe_training_year': ['2012_14'],\n",
       " 'universe_training_size': ['1k'],\n",
       " 'universe_scale': ['scale'],\n",
       " 'universe_model': ['logreg'],\n",
       " 'universe_exclude_features': ['nationality'],\n",
       " 'universe_exclude_subgroups': ['drop-non-german'],\n",
       " 'q_hat': [0.8245883955967998],\n",
       " 'coverage': [0.9099320031211682],\n",
       " 'avg_size': [1.2758332404414223]}"
      ]
     },
     "execution_count": 48,
     "metadata": {},
     "output_type": "execute_result"
    }
   ],
   "source": [
    "cp_metrics_dict"
   ]
  },
  {
   "cell_type": "code",
   "execution_count": 49,
   "id": "33007efc-14e9-4ec6-97ac-56a455c82265",
   "metadata": {
    "execution": {
     "iopub.execute_input": "2025-08-05T16:16:00.342258Z",
     "iopub.status.busy": "2025-08-05T16:16:00.341498Z",
     "iopub.status.idle": "2025-08-05T16:16:00.348330Z",
     "shell.execute_reply": "2025-08-05T16:16:00.347293Z"
    },
    "papermill": {
     "duration": 0.035034,
     "end_time": "2025-08-05T16:16:00.350123",
     "exception": false,
     "start_time": "2025-08-05T16:16:00.315089",
     "status": "completed"
    },
    "tags": []
   },
   "outputs": [],
   "source": [
    "cp_metrics_df = pd.DataFrame(cp_metrics_dict)"
   ]
  },
  {
   "cell_type": "code",
   "execution_count": 50,
   "id": "db12611b-57b2-4910-b9d0-355adfd6e7bf",
   "metadata": {
    "execution": {
     "iopub.execute_input": "2025-08-05T16:16:00.400819Z",
     "iopub.status.busy": "2025-08-05T16:16:00.400035Z",
     "iopub.status.idle": "2025-08-05T16:16:00.422180Z",
     "shell.execute_reply": "2025-08-05T16:16:00.421116Z"
    },
    "papermill": {
     "duration": 0.049114,
     "end_time": "2025-08-05T16:16:00.423973",
     "exception": false,
     "start_time": "2025-08-05T16:16:00.374859",
     "status": "completed"
    },
    "tags": []
   },
   "outputs": [
    {
     "data": {
      "text/html": [
       "<div>\n",
       "<style scoped>\n",
       "    .dataframe tbody tr th:only-of-type {\n",
       "        vertical-align: middle;\n",
       "    }\n",
       "\n",
       "    .dataframe tbody tr th {\n",
       "        vertical-align: top;\n",
       "    }\n",
       "\n",
       "    .dataframe thead th {\n",
       "        text-align: right;\n",
       "    }\n",
       "</style>\n",
       "<table border=\"1\" class=\"dataframe\">\n",
       "  <thead>\n",
       "    <tr style=\"text-align: right;\">\n",
       "      <th></th>\n",
       "      <th>universe_id</th>\n",
       "      <th>universe_training_year</th>\n",
       "      <th>universe_training_size</th>\n",
       "      <th>universe_scale</th>\n",
       "      <th>universe_model</th>\n",
       "      <th>universe_exclude_features</th>\n",
       "      <th>universe_exclude_subgroups</th>\n",
       "      <th>q_hat</th>\n",
       "      <th>coverage</th>\n",
       "      <th>avg_size</th>\n",
       "    </tr>\n",
       "  </thead>\n",
       "  <tbody>\n",
       "    <tr>\n",
       "      <th>0</th>\n",
       "      <td>67d4a4c071a48d40ebd59558fbd9e576</td>\n",
       "      <td>2012_14</td>\n",
       "      <td>1k</td>\n",
       "      <td>scale</td>\n",
       "      <td>logreg</td>\n",
       "      <td>nationality</td>\n",
       "      <td>drop-non-german</td>\n",
       "      <td>0.824588</td>\n",
       "      <td>0.909932</td>\n",
       "      <td>1.275833</td>\n",
       "    </tr>\n",
       "  </tbody>\n",
       "</table>\n",
       "</div>"
      ],
      "text/plain": [
       "                        universe_id universe_training_year  \\\n",
       "0  67d4a4c071a48d40ebd59558fbd9e576                2012_14   \n",
       "\n",
       "  universe_training_size universe_scale universe_model  \\\n",
       "0                     1k          scale         logreg   \n",
       "\n",
       "  universe_exclude_features universe_exclude_subgroups     q_hat  coverage  \\\n",
       "0               nationality            drop-non-german  0.824588  0.909932   \n",
       "\n",
       "   avg_size  \n",
       "0  1.275833  "
      ]
     },
     "execution_count": 50,
     "metadata": {},
     "output_type": "execute_result"
    }
   ],
   "source": [
    "cp_metrics_df"
   ]
  },
  {
   "cell_type": "code",
   "execution_count": 51,
   "id": "b7fbde55-a0a1-47e4-9af6-fe4a17fa8c61",
   "metadata": {
    "execution": {
     "iopub.execute_input": "2025-08-05T16:16:00.477596Z",
     "iopub.status.busy": "2025-08-05T16:16:00.477035Z",
     "iopub.status.idle": "2025-08-05T16:16:00.483056Z",
     "shell.execute_reply": "2025-08-05T16:16:00.482080Z"
    },
    "papermill": {
     "duration": 0.034866,
     "end_time": "2025-08-05T16:16:00.484835",
     "exception": false,
     "start_time": "2025-08-05T16:16:00.449969",
     "status": "completed"
    },
    "tags": []
   },
   "outputs": [],
   "source": [
    "# Conditional Coverage & looking at subgroups"
   ]
  },
  {
   "cell_type": "code",
   "execution_count": 52,
   "id": "027ae886-68dd-4141-96c7-805a5450e1ef",
   "metadata": {
    "execution": {
     "iopub.execute_input": "2025-08-05T16:16:00.536369Z",
     "iopub.status.busy": "2025-08-05T16:16:00.535589Z",
     "iopub.status.idle": "2025-08-05T16:16:00.819999Z",
     "shell.execute_reply": "2025-08-05T16:16:00.818777Z"
    },
    "papermill": {
     "duration": 0.312486,
     "end_time": "2025-08-05T16:16:00.822132",
     "exception": false,
     "start_time": "2025-08-05T16:16:00.509646",
     "status": "completed"
    },
    "tags": []
   },
   "outputs": [],
   "source": [
    "from fairness_multiverse.conformal import build_cp_groups\n",
    "\n",
    "cp_groups_df = build_cp_groups(pred_sets, y_true, X_test.index, org_test)\n",
    "#needs universe_id and setting"
   ]
  },
  {
   "cell_type": "code",
   "execution_count": 53,
   "id": "6cbdab96-b2b2-45af-ad54-d0516db2e28d",
   "metadata": {
    "execution": {
     "iopub.execute_input": "2025-08-05T16:16:00.878005Z",
     "iopub.status.busy": "2025-08-05T16:16:00.877615Z",
     "iopub.status.idle": "2025-08-05T16:16:02.116994Z",
     "shell.execute_reply": "2025-08-05T16:16:02.116089Z"
    },
    "papermill": {
     "duration": 1.270086,
     "end_time": "2025-08-05T16:16:02.118763",
     "exception": false,
     "start_time": "2025-08-05T16:16:00.848677",
     "status": "completed"
    },
    "tags": []
   },
   "outputs": [],
   "source": [
    "# Define covered = 1 if true_label is in the predicted set\n",
    "cp_groups_df['covered'] = cp_groups_df.apply(\n",
    "    lambda r: int(r['true_label'] in r['pred_set']),\n",
    "    axis=1\n",
    ")"
   ]
  },
  {
   "cell_type": "code",
   "execution_count": 54,
   "id": "338ff529-1a6b-4b87-a931-8e4788d52aad",
   "metadata": {
    "execution": {
     "iopub.execute_input": "2025-08-05T16:16:02.149894Z",
     "iopub.status.busy": "2025-08-05T16:16:02.149215Z",
     "iopub.status.idle": "2025-08-05T16:16:02.153999Z",
     "shell.execute_reply": "2025-08-05T16:16:02.153061Z"
    },
    "papermill": {
     "duration": 0.021523,
     "end_time": "2025-08-05T16:16:02.155464",
     "exception": false,
     "start_time": "2025-08-05T16:16:02.133941",
     "status": "completed"
    },
    "tags": []
   },
   "outputs": [],
   "source": [
    "#cp_groups_df"
   ]
  },
  {
   "cell_type": "code",
   "execution_count": 55,
   "id": "90032e27-66df-4540-9169-4e89cfbaa758",
   "metadata": {
    "execution": {
     "iopub.execute_input": "2025-08-05T16:16:02.186081Z",
     "iopub.status.busy": "2025-08-05T16:16:02.185655Z",
     "iopub.status.idle": "2025-08-05T16:16:02.196454Z",
     "shell.execute_reply": "2025-08-05T16:16:02.195648Z"
    },
    "papermill": {
     "duration": 0.027663,
     "end_time": "2025-08-05T16:16:02.198005",
     "exception": false,
     "start_time": "2025-08-05T16:16:02.170342",
     "status": "completed"
    },
    "tags": []
   },
   "outputs": [],
   "source": [
    "subgroups = ['frau1','nongerman','nongerman_male','nongerman_female']\n",
    "\n",
    "# Conditional coverage for subgroup==1\n",
    "cond_coverage = {\n",
    "    g: cp_groups_df.loc[cp_groups_df[g]==1, 'covered'].mean()\n",
    "    for g in subgroups\n",
    "}"
   ]
  },
  {
   "cell_type": "code",
   "execution_count": 56,
   "id": "1e348fb1-b9c3-45bc-ba23-f016827a7e0d",
   "metadata": {
    "execution": {
     "iopub.execute_input": "2025-08-05T16:16:02.228515Z",
     "iopub.status.busy": "2025-08-05T16:16:02.227918Z",
     "iopub.status.idle": "2025-08-05T16:16:02.236023Z",
     "shell.execute_reply": "2025-08-05T16:16:02.234849Z"
    },
    "papermill": {
     "duration": 0.025049,
     "end_time": "2025-08-05T16:16:02.237986",
     "exception": false,
     "start_time": "2025-08-05T16:16:02.212937",
     "status": "completed"
    },
    "tags": []
   },
   "outputs": [
    {
     "data": {
      "text/plain": [
       "{'frau1': 0.9006065507480793,\n",
       " 'nongerman': 0.921630270027508,\n",
       " 'nongerman_male': 0.9400162118346392,\n",
       " 'nongerman_female': 0.8912071535022354}"
      ]
     },
     "execution_count": 56,
     "metadata": {},
     "output_type": "execute_result"
    }
   ],
   "source": [
    "cond_coverage"
   ]
  },
  {
   "cell_type": "code",
   "execution_count": 57,
   "id": "f5093324-c3dd-4d63-bc4c-8d945e5c8bbb",
   "metadata": {
    "execution": {
     "iopub.execute_input": "2025-08-05T16:16:02.294937Z",
     "iopub.status.busy": "2025-08-05T16:16:02.294114Z",
     "iopub.status.idle": "2025-08-05T16:16:02.302981Z",
     "shell.execute_reply": "2025-08-05T16:16:02.301756Z"
    },
    "papermill": {
     "duration": 0.038841,
     "end_time": "2025-08-05T16:16:02.304863",
     "exception": false,
     "start_time": "2025-08-05T16:16:02.266022",
     "status": "completed"
    },
    "tags": []
   },
   "outputs": [],
   "source": [
    "for subgroup, cov in cond_coverage.items():\n",
    "    cp_metrics_df[f\"cov_{subgroup}\"] = cov"
   ]
  },
  {
   "cell_type": "code",
   "execution_count": 58,
   "id": "6e872e10-dbe5-49e8-b554-5030c98ff75d",
   "metadata": {
    "execution": {
     "iopub.execute_input": "2025-08-05T16:16:02.361979Z",
     "iopub.status.busy": "2025-08-05T16:16:02.361319Z",
     "iopub.status.idle": "2025-08-05T16:16:02.383590Z",
     "shell.execute_reply": "2025-08-05T16:16:02.382525Z"
    },
    "papermill": {
     "duration": 0.053319,
     "end_time": "2025-08-05T16:16:02.385552",
     "exception": false,
     "start_time": "2025-08-05T16:16:02.332233",
     "status": "completed"
    },
    "tags": []
   },
   "outputs": [
    {
     "data": {
      "text/html": [
       "<div>\n",
       "<style scoped>\n",
       "    .dataframe tbody tr th:only-of-type {\n",
       "        vertical-align: middle;\n",
       "    }\n",
       "\n",
       "    .dataframe tbody tr th {\n",
       "        vertical-align: top;\n",
       "    }\n",
       "\n",
       "    .dataframe thead th {\n",
       "        text-align: right;\n",
       "    }\n",
       "</style>\n",
       "<table border=\"1\" class=\"dataframe\">\n",
       "  <thead>\n",
       "    <tr style=\"text-align: right;\">\n",
       "      <th></th>\n",
       "      <th>universe_id</th>\n",
       "      <th>universe_training_year</th>\n",
       "      <th>universe_training_size</th>\n",
       "      <th>universe_scale</th>\n",
       "      <th>universe_model</th>\n",
       "      <th>universe_exclude_features</th>\n",
       "      <th>universe_exclude_subgroups</th>\n",
       "      <th>q_hat</th>\n",
       "      <th>coverage</th>\n",
       "      <th>avg_size</th>\n",
       "      <th>cov_frau1</th>\n",
       "      <th>cov_nongerman</th>\n",
       "      <th>cov_nongerman_male</th>\n",
       "      <th>cov_nongerman_female</th>\n",
       "    </tr>\n",
       "  </thead>\n",
       "  <tbody>\n",
       "    <tr>\n",
       "      <th>0</th>\n",
       "      <td>67d4a4c071a48d40ebd59558fbd9e576</td>\n",
       "      <td>2012_14</td>\n",
       "      <td>1k</td>\n",
       "      <td>scale</td>\n",
       "      <td>logreg</td>\n",
       "      <td>nationality</td>\n",
       "      <td>drop-non-german</td>\n",
       "      <td>0.824588</td>\n",
       "      <td>0.909932</td>\n",
       "      <td>1.275833</td>\n",
       "      <td>0.900607</td>\n",
       "      <td>0.92163</td>\n",
       "      <td>0.940016</td>\n",
       "      <td>0.891207</td>\n",
       "    </tr>\n",
       "  </tbody>\n",
       "</table>\n",
       "</div>"
      ],
      "text/plain": [
       "                        universe_id universe_training_year  \\\n",
       "0  67d4a4c071a48d40ebd59558fbd9e576                2012_14   \n",
       "\n",
       "  universe_training_size universe_scale universe_model  \\\n",
       "0                     1k          scale         logreg   \n",
       "\n",
       "  universe_exclude_features universe_exclude_subgroups     q_hat  coverage  \\\n",
       "0               nationality            drop-non-german  0.824588  0.909932   \n",
       "\n",
       "   avg_size  cov_frau1  cov_nongerman  cov_nongerman_male  \\\n",
       "0  1.275833   0.900607        0.92163            0.940016   \n",
       "\n",
       "   cov_nongerman_female  \n",
       "0              0.891207  "
      ]
     },
     "execution_count": 58,
     "metadata": {},
     "output_type": "execute_result"
    }
   ],
   "source": [
    "cp_metrics_df"
   ]
  },
  {
   "cell_type": "markdown",
   "id": "33774451",
   "metadata": {
    "papermill": {
     "duration": 0.02387,
     "end_time": "2025-08-05T16:16:02.438091",
     "exception": false,
     "start_time": "2025-08-05T16:16:02.414221",
     "status": "completed"
    },
    "tags": []
   },
   "source": [
    "# (Fairness) Metrics"
   ]
  },
  {
   "cell_type": "code",
   "execution_count": 59,
   "id": "debc5d62",
   "metadata": {
    "execution": {
     "iopub.execute_input": "2025-08-05T16:16:02.497687Z",
     "iopub.status.busy": "2025-08-05T16:16:02.496782Z",
     "iopub.status.idle": "2025-08-05T16:16:02.521534Z",
     "shell.execute_reply": "2025-08-05T16:16:02.520376Z"
    },
    "papermill": {
     "duration": 0.05669,
     "end_time": "2025-08-05T16:16:02.523562",
     "exception": false,
     "start_time": "2025-08-05T16:16:02.466872",
     "status": "completed"
    },
    "tags": []
   },
   "outputs": [],
   "source": [
    "# do I need to include maxdeutsch1.missing?\n",
    "\n",
    "import numpy as np\n",
    "\n",
    "colname_to_bin = \"maxdeutsch1\"\n",
    "majority_value = org_train[colname_to_bin].mode()[0]\n",
    "\n",
    "org_test[\"majmin\"] = np.where(org_test[colname_to_bin] == majority_value, \"majority\", \"minority\")"
   ]
  },
  {
   "cell_type": "code",
   "execution_count": 60,
   "id": "06a50de5",
   "metadata": {
    "execution": {
     "iopub.execute_input": "2025-08-05T16:16:02.583773Z",
     "iopub.status.busy": "2025-08-05T16:16:02.582800Z",
     "iopub.status.idle": "2025-08-05T16:16:04.996203Z",
     "shell.execute_reply": "2025-08-05T16:16:04.995337Z"
    },
    "papermill": {
     "duration": 2.444561,
     "end_time": "2025-08-05T16:16:04.997923",
     "exception": false,
     "start_time": "2025-08-05T16:16:02.553362",
     "status": "completed"
    },
    "tags": []
   },
   "outputs": [],
   "source": [
    "example_universe = universe.copy()\n",
    "example_universe[\"cutoff\"] = example_universe[\"cutoff\"][0]\n",
    "example_universe[\"eval_fairness_grouping\"] = example_universe[\"eval_fairness_grouping\"][0]\n",
    "fairness_dict, metric_frame = universe_analysis.compute_metrics(\n",
    "    example_universe,\n",
    "    y_pred_prob=probs_test,\n",
    "    y_test=y_true,\n",
    "    org_test=org_test,\n",
    ")"
   ]
  },
  {
   "cell_type": "markdown",
   "id": "f95d4e02",
   "metadata": {
    "papermill": {
     "duration": 0.014264,
     "end_time": "2025-08-05T16:16:05.027479",
     "exception": false,
     "start_time": "2025-08-05T16:16:05.013215",
     "status": "completed"
    },
    "tags": []
   },
   "source": [
    "# Overall"
   ]
  },
  {
   "cell_type": "markdown",
   "id": "bdee4871",
   "metadata": {
    "papermill": {
     "duration": 0.014373,
     "end_time": "2025-08-05T16:16:05.056206",
     "exception": false,
     "start_time": "2025-08-05T16:16:05.041833",
     "status": "completed"
    },
    "tags": []
   },
   "source": [
    "Fairness\n",
    "Main fairness target: Equalized Odds. Seems to be a better fit than equal opportunity, since we're not only interested in Y = 1. Seems to be a better fit than demographic parity, since we also care about accuracy, not just equal distribution of preds.\n",
    "\n",
    "Pick column for computation of fairness metrics\n",
    "\n",
    "Performance\n",
    "Overall performance measures, most interesting in relation to the measures split by group below"
   ]
  },
  {
   "cell_type": "code",
   "execution_count": 61,
   "id": "c4e067c6",
   "metadata": {
    "execution": {
     "iopub.execute_input": "2025-08-05T16:16:05.087368Z",
     "iopub.status.busy": "2025-08-05T16:16:05.086417Z",
     "iopub.status.idle": "2025-08-05T16:16:05.094770Z",
     "shell.execute_reply": "2025-08-05T16:16:05.093792Z"
    },
    "papermill": {
     "duration": 0.025512,
     "end_time": "2025-08-05T16:16:05.096298",
     "exception": false,
     "start_time": "2025-08-05T16:16:05.070786",
     "status": "completed"
    },
    "tags": []
   },
   "outputs": [
    {
     "data": {
      "text/plain": [
       "accuracy                   0.216776\n",
       "balanced accuracy          0.531640\n",
       "f1                         0.238317\n",
       "precision                  0.136142\n",
       "false positive rate        0.891883\n",
       "false negative rate        0.044838\n",
       "selection rate             0.900000\n",
       "count                  89710.000000\n",
       "dtype: float64"
      ]
     },
     "execution_count": 61,
     "metadata": {},
     "output_type": "execute_result"
    }
   ],
   "source": [
    "metric_frame.overall"
   ]
  },
  {
   "cell_type": "markdown",
   "id": "e968fe9d",
   "metadata": {
    "papermill": {
     "duration": 0.014709,
     "end_time": "2025-08-05T16:16:05.125784",
     "exception": false,
     "start_time": "2025-08-05T16:16:05.111075",
     "status": "completed"
    },
    "tags": []
   },
   "source": [
    "By Group"
   ]
  },
  {
   "cell_type": "code",
   "execution_count": 62,
   "id": "ec325bce",
   "metadata": {
    "execution": {
     "iopub.execute_input": "2025-08-05T16:16:05.156013Z",
     "iopub.status.busy": "2025-08-05T16:16:05.155571Z",
     "iopub.status.idle": "2025-08-05T16:16:05.170025Z",
     "shell.execute_reply": "2025-08-05T16:16:05.169106Z"
    },
    "papermill": {
     "duration": 0.031489,
     "end_time": "2025-08-05T16:16:05.171611",
     "exception": false,
     "start_time": "2025-08-05T16:16:05.140122",
     "status": "completed"
    },
    "tags": []
   },
   "outputs": [
    {
     "data": {
      "text/html": [
       "<div>\n",
       "<style scoped>\n",
       "    .dataframe tbody tr th:only-of-type {\n",
       "        vertical-align: middle;\n",
       "    }\n",
       "\n",
       "    .dataframe tbody tr th {\n",
       "        vertical-align: top;\n",
       "    }\n",
       "\n",
       "    .dataframe thead th {\n",
       "        text-align: right;\n",
       "    }\n",
       "</style>\n",
       "<table border=\"1\" class=\"dataframe\">\n",
       "  <thead>\n",
       "    <tr style=\"text-align: right;\">\n",
       "      <th></th>\n",
       "      <th>accuracy</th>\n",
       "      <th>balanced accuracy</th>\n",
       "      <th>f1</th>\n",
       "      <th>precision</th>\n",
       "      <th>false positive rate</th>\n",
       "      <th>false negative rate</th>\n",
       "      <th>selection rate</th>\n",
       "      <th>count</th>\n",
       "    </tr>\n",
       "    <tr>\n",
       "      <th>majmin</th>\n",
       "      <th></th>\n",
       "      <th></th>\n",
       "      <th></th>\n",
       "      <th></th>\n",
       "      <th></th>\n",
       "      <th></th>\n",
       "      <th></th>\n",
       "      <th></th>\n",
       "    </tr>\n",
       "  </thead>\n",
       "  <tbody>\n",
       "    <tr>\n",
       "      <th>majority</th>\n",
       "      <td>0.232095</td>\n",
       "      <td>0.536580</td>\n",
       "      <td>0.246475</td>\n",
       "      <td>0.141597</td>\n",
       "      <td>0.877278</td>\n",
       "      <td>0.049562</td>\n",
       "      <td>0.886945</td>\n",
       "      <td>69170.0</td>\n",
       "    </tr>\n",
       "    <tr>\n",
       "      <th>minority</th>\n",
       "      <td>0.165190</td>\n",
       "      <td>0.516634</td>\n",
       "      <td>0.211886</td>\n",
       "      <td>0.118882</td>\n",
       "      <td>0.940128</td>\n",
       "      <td>0.026605</td>\n",
       "      <td>0.943963</td>\n",
       "      <td>20540.0</td>\n",
       "    </tr>\n",
       "  </tbody>\n",
       "</table>\n",
       "</div>"
      ],
      "text/plain": [
       "          accuracy  balanced accuracy        f1  precision  \\\n",
       "majmin                                                       \n",
       "majority  0.232095           0.536580  0.246475   0.141597   \n",
       "minority  0.165190           0.516634  0.211886   0.118882   \n",
       "\n",
       "          false positive rate  false negative rate  selection rate    count  \n",
       "majmin                                                                       \n",
       "majority             0.877278             0.049562        0.886945  69170.0  \n",
       "minority             0.940128             0.026605        0.943963  20540.0  "
      ]
     },
     "execution_count": 62,
     "metadata": {},
     "output_type": "execute_result"
    }
   ],
   "source": [
    "metric_frame.by_group"
   ]
  },
  {
   "cell_type": "code",
   "execution_count": 63,
   "id": "a9ddbe63",
   "metadata": {
    "execution": {
     "iopub.execute_input": "2025-08-05T16:16:05.202890Z",
     "iopub.status.busy": "2025-08-05T16:16:05.202286Z",
     "iopub.status.idle": "2025-08-05T16:16:07.156967Z",
     "shell.execute_reply": "2025-08-05T16:16:07.156099Z"
    },
    "papermill": {
     "duration": 1.971751,
     "end_time": "2025-08-05T16:16:07.158514",
     "exception": false,
     "start_time": "2025-08-05T16:16:05.186763",
     "status": "completed"
    },
    "tags": []
   },
   "outputs": [
    {
     "data": {
      "text/plain": [
       "array([[<Axes: title={'center': 'accuracy'}, xlabel='majmin'>,\n",
       "        <Axes: title={'center': 'balanced accuracy'}, xlabel='majmin'>,\n",
       "        <Axes: title={'center': 'f1'}, xlabel='majmin'>],\n",
       "       [<Axes: title={'center': 'precision'}, xlabel='majmin'>,\n",
       "        <Axes: title={'center': 'false positive rate'}, xlabel='majmin'>,\n",
       "        <Axes: title={'center': 'false negative rate'}, xlabel='majmin'>],\n",
       "       [<Axes: title={'center': 'selection rate'}, xlabel='majmin'>,\n",
       "        <Axes: title={'center': 'count'}, xlabel='majmin'>,\n",
       "        <Axes: xlabel='majmin'>]], dtype=object)"
      ]
     },
     "execution_count": 63,
     "metadata": {},
     "output_type": "execute_result"
    },
    {
     "data": {
      "image/png": "[encoded data removed]",
      "text/plain": [
       "<Figure size 1200x800 with 9 Axes>"
      ]
     },
     "metadata": {},
     "output_type": "display_data"
    }
   ],
   "source": [
    "# In a graphic\n",
    "metric_frame.by_group.plot.bar(\n",
    "    subplots=True,\n",
    "    layout=[3, 3],\n",
    "    legend=False,\n",
    "    figsize=[12, 8],\n",
    "    title=\"Show all metrics\",\n",
    ")"
   ]
  },
  {
   "cell_type": "markdown",
   "id": "f57a0bac",
   "metadata": {
    "papermill": {
     "duration": 0.016115,
     "end_time": "2025-08-05T16:16:07.191940",
     "exception": false,
     "start_time": "2025-08-05T16:16:07.175825",
     "status": "completed"
    },
    "tags": []
   },
   "source": [
    "# Final Output"
   ]
  },
  {
   "cell_type": "code",
   "execution_count": 64,
   "id": "96d280a3",
   "metadata": {
    "execution": {
     "iopub.execute_input": "2025-08-05T16:16:07.225069Z",
     "iopub.status.busy": "2025-08-05T16:16:07.224546Z",
     "iopub.status.idle": "2025-08-05T16:16:07.233047Z",
     "shell.execute_reply": "2025-08-05T16:16:07.232289Z"
    },
    "papermill": {
     "duration": 0.026681,
     "end_time": "2025-08-05T16:16:07.234436",
     "exception": false,
     "start_time": "2025-08-05T16:16:07.207755",
     "status": "completed"
    },
    "tags": []
   },
   "outputs": [
    {
     "data": {
      "text/plain": [
       "4"
      ]
     },
     "execution_count": 64,
     "metadata": {},
     "output_type": "execute_result"
    }
   ],
   "source": [
    "sub_universes = universe_analysis.generate_sub_universes()\n",
    "len(sub_universes)"
   ]
  },
  {
   "cell_type": "code",
   "execution_count": 65,
   "id": "92adf7ba",
   "metadata": {
    "execution": {
     "iopub.execute_input": "2025-08-05T16:16:07.267855Z",
     "iopub.status.busy": "2025-08-05T16:16:07.266811Z",
     "iopub.status.idle": "2025-08-05T16:16:07.274701Z",
     "shell.execute_reply": "2025-08-05T16:16:07.273854Z"
    },
    "papermill": {
     "duration": 0.026407,
     "end_time": "2025-08-05T16:16:07.276392",
     "exception": false,
     "start_time": "2025-08-05T16:16:07.249985",
     "status": "completed"
    },
    "tags": []
   },
   "outputs": [],
   "source": [
    "def filter_sub_universe_data(sub_universe, org_test):\n",
    "    # Keep all rows — no filtering\n",
    "    keep_rows_mask = np.ones(org_test.shape[0], dtype=bool)\n",
    "\n",
    "    print(f\"[INFO] Keeping all rows: {keep_rows_mask.sum()} rows retained.\")\n",
    "    return keep_rows_mask"
   ]
  },
  {
   "cell_type": "code",
   "execution_count": 66,
   "id": "4a759155",
   "metadata": {
    "execution": {
     "iopub.execute_input": "2025-08-05T16:16:07.313405Z",
     "iopub.status.busy": "2025-08-05T16:16:07.312617Z",
     "iopub.status.idle": "2025-08-05T16:16:14.209677Z",
     "shell.execute_reply": "2025-08-05T16:16:14.208799Z"
    },
    "papermill": {
     "duration": 6.91841,
     "end_time": "2025-08-05T16:16:14.211148",
     "exception": false,
     "start_time": "2025-08-05T16:16:07.292738",
     "status": "completed"
    },
    "tags": []
   },
   "outputs": [
    {
     "name": "stdout",
     "output_type": "stream",
     "text": [
      "Stopping execution_time clock.\n",
      "[INFO] Keeping all rows: 89710 rows retained.\n"
     ]
    },
    {
     "name": "stdout",
     "output_type": "stream",
     "text": [
      "[INFO] Keeping all rows: 89710 rows retained.\n"
     ]
    },
    {
     "name": "stdout",
     "output_type": "stream",
     "text": [
      "[INFO] Keeping all rows: 89710 rows retained.\n"
     ]
    },
    {
     "name": "stdout",
     "output_type": "stream",
     "text": [
      "[INFO] Keeping all rows: 89710 rows retained.\n"
     ]
    },
    {
     "data": {
      "text/html": [
       "<div>\n",
       "<style scoped>\n",
       "    .dataframe tbody tr th:only-of-type {\n",
       "        vertical-align: middle;\n",
       "    }\n",
       "\n",
       "    .dataframe tbody tr th {\n",
       "        vertical-align: top;\n",
       "    }\n",
       "\n",
       "    .dataframe thead th {\n",
       "        text-align: right;\n",
       "    }\n",
       "</style>\n",
       "<table border=\"1\" class=\"dataframe\">\n",
       "  <thead>\n",
       "    <tr style=\"text-align: right;\">\n",
       "      <th></th>\n",
       "      <th>run_no</th>\n",
       "      <th>universe_id</th>\n",
       "      <th>universe_settings</th>\n",
       "      <th>execution_time</th>\n",
       "      <th>test_size_n</th>\n",
       "      <th>test_size_frac</th>\n",
       "      <th>fair_main_equalized_odds_difference</th>\n",
       "      <th>fair_main_equalized_odds_ratio</th>\n",
       "      <th>fair_main_demographic_parity_difference</th>\n",
       "      <th>fair_main_demographic_parity_ratio</th>\n",
       "      <th>...</th>\n",
       "      <th>perf_grp_precision_0</th>\n",
       "      <th>perf_grp_precision_1</th>\n",
       "      <th>perf_grp_false positive rate_0</th>\n",
       "      <th>perf_grp_false positive rate_1</th>\n",
       "      <th>perf_grp_false negative rate_0</th>\n",
       "      <th>perf_grp_false negative rate_1</th>\n",
       "      <th>perf_grp_selection rate_0</th>\n",
       "      <th>perf_grp_selection rate_1</th>\n",
       "      <th>perf_grp_count_0</th>\n",
       "      <th>perf_grp_count_1</th>\n",
       "    </tr>\n",
       "  </thead>\n",
       "  <tbody>\n",
       "    <tr>\n",
       "      <th>0</th>\n",
       "      <td>15</td>\n",
       "      <td>67d4a4c071a48d40ebd59558fbd9e576</td>\n",
       "      <td>{\"cutoff\": \"quantile_0.1\", \"eval_fairness_grou...</td>\n",
       "      <td>27.5419</td>\n",
       "      <td>89710</td>\n",
       "      <td>1.0</td>\n",
       "      <td>0.062850</td>\n",
       "      <td>0.933148</td>\n",
       "      <td>0.057018</td>\n",
       "      <td>0.939597</td>\n",
       "      <td>...</td>\n",
       "      <td>NaN</td>\n",
       "      <td>NaN</td>\n",
       "      <td>NaN</td>\n",
       "      <td>NaN</td>\n",
       "      <td>NaN</td>\n",
       "      <td>NaN</td>\n",
       "      <td>NaN</td>\n",
       "      <td>NaN</td>\n",
       "      <td>NaN</td>\n",
       "      <td>NaN</td>\n",
       "    </tr>\n",
       "    <tr>\n",
       "      <th>0</th>\n",
       "      <td>15</td>\n",
       "      <td>67d4a4c071a48d40ebd59558fbd9e576</td>\n",
       "      <td>{\"cutoff\": \"quantile_0.1\", \"eval_fairness_grou...</td>\n",
       "      <td>27.5419</td>\n",
       "      <td>89710</td>\n",
       "      <td>1.0</td>\n",
       "      <td>0.062850</td>\n",
       "      <td>0.933148</td>\n",
       "      <td>0.057018</td>\n",
       "      <td>0.939597</td>\n",
       "      <td>...</td>\n",
       "      <td>0.118882</td>\n",
       "      <td>0.141597</td>\n",
       "      <td>0.940128</td>\n",
       "      <td>0.877278</td>\n",
       "      <td>0.026605</td>\n",
       "      <td>0.049562</td>\n",
       "      <td>0.943963</td>\n",
       "      <td>0.886945</td>\n",
       "      <td>20540.0</td>\n",
       "      <td>69170.0</td>\n",
       "    </tr>\n",
       "    <tr>\n",
       "      <th>0</th>\n",
       "      <td>15</td>\n",
       "      <td>67d4a4c071a48d40ebd59558fbd9e576</td>\n",
       "      <td>{\"cutoff\": \"quantile_0.25\", \"eval_fairness_gro...</td>\n",
       "      <td>27.5419</td>\n",
       "      <td>89710</td>\n",
       "      <td>1.0</td>\n",
       "      <td>0.143725</td>\n",
       "      <td>0.829307</td>\n",
       "      <td>0.131660</td>\n",
       "      <td>0.845381</td>\n",
       "      <td>...</td>\n",
       "      <td>NaN</td>\n",
       "      <td>NaN</td>\n",
       "      <td>NaN</td>\n",
       "      <td>NaN</td>\n",
       "      <td>NaN</td>\n",
       "      <td>NaN</td>\n",
       "      <td>NaN</td>\n",
       "      <td>NaN</td>\n",
       "      <td>NaN</td>\n",
       "      <td>NaN</td>\n",
       "    </tr>\n",
       "    <tr>\n",
       "      <th>0</th>\n",
       "      <td>15</td>\n",
       "      <td>67d4a4c071a48d40ebd59558fbd9e576</td>\n",
       "      <td>{\"cutoff\": \"quantile_0.25\", \"eval_fairness_gro...</td>\n",
       "      <td>27.5419</td>\n",
       "      <td>89710</td>\n",
       "      <td>1.0</td>\n",
       "      <td>0.143725</td>\n",
       "      <td>0.829307</td>\n",
       "      <td>0.131660</td>\n",
       "      <td>0.845381</td>\n",
       "      <td>...</td>\n",
       "      <td>0.125157</td>\n",
       "      <td>0.158138</td>\n",
       "      <td>0.842010</td>\n",
       "      <td>0.698284</td>\n",
       "      <td>0.075591</td>\n",
       "      <td>0.138512</td>\n",
       "      <td>0.851509</td>\n",
       "      <td>0.719850</td>\n",
       "      <td>20540.0</td>\n",
       "      <td>69170.0</td>\n",
       "    </tr>\n",
       "  </tbody>\n",
       "</table>\n",
       "<p>4 rows × 50 columns</p>\n",
       "</div>"
      ],
      "text/plain": [
       "  run_no                       universe_id  \\\n",
       "0     15  67d4a4c071a48d40ebd59558fbd9e576   \n",
       "0     15  67d4a4c071a48d40ebd59558fbd9e576   \n",
       "0     15  67d4a4c071a48d40ebd59558fbd9e576   \n",
       "0     15  67d4a4c071a48d40ebd59558fbd9e576   \n",
       "\n",
       "                                   universe_settings  execution_time  \\\n",
       "0  {\"cutoff\": \"quantile_0.1\", \"eval_fairness_grou...         27.5419   \n",
       "0  {\"cutoff\": \"quantile_0.1\", \"eval_fairness_grou...         27.5419   \n",
       "0  {\"cutoff\": \"quantile_0.25\", \"eval_fairness_gro...         27.5419   \n",
       "0  {\"cutoff\": \"quantile_0.25\", \"eval_fairness_gro...         27.5419   \n",
       "\n",
       "   test_size_n  test_size_frac  fair_main_equalized_odds_difference  \\\n",
       "0        89710             1.0                             0.062850   \n",
       "0        89710             1.0                             0.062850   \n",
       "0        89710             1.0                             0.143725   \n",
       "0        89710             1.0                             0.143725   \n",
       "\n",
       "   fair_main_equalized_odds_ratio  fair_main_demographic_parity_difference  \\\n",
       "0                        0.933148                                 0.057018   \n",
       "0                        0.933148                                 0.057018   \n",
       "0                        0.829307                                 0.131660   \n",
       "0                        0.829307                                 0.131660   \n",
       "\n",
       "   fair_main_demographic_parity_ratio  ...  perf_grp_precision_0  \\\n",
       "0                            0.939597  ...                   NaN   \n",
       "0                            0.939597  ...              0.118882   \n",
       "0                            0.845381  ...                   NaN   \n",
       "0                            0.845381  ...              0.125157   \n",
       "\n",
       "   perf_grp_precision_1  perf_grp_false positive rate_0  \\\n",
       "0                   NaN                             NaN   \n",
       "0              0.141597                        0.940128   \n",
       "0                   NaN                             NaN   \n",
       "0              0.158138                        0.842010   \n",
       "\n",
       "   perf_grp_false positive rate_1  perf_grp_false negative rate_0  \\\n",
       "0                             NaN                             NaN   \n",
       "0                        0.877278                        0.026605   \n",
       "0                             NaN                             NaN   \n",
       "0                        0.698284                        0.075591   \n",
       "\n",
       "   perf_grp_false negative rate_1  perf_grp_selection rate_0  \\\n",
       "0                             NaN                        NaN   \n",
       "0                        0.049562                   0.943963   \n",
       "0                             NaN                        NaN   \n",
       "0                        0.138512                   0.851509   \n",
       "\n",
       "   perf_grp_selection rate_1  perf_grp_count_0  perf_grp_count_1  \n",
       "0                        NaN               NaN               NaN  \n",
       "0                   0.886945           20540.0           69170.0  \n",
       "0                        NaN               NaN               NaN  \n",
       "0                   0.719850           20540.0           69170.0  \n",
       "\n",
       "[4 rows x 50 columns]"
      ]
     },
     "execution_count": 66,
     "metadata": {},
     "output_type": "execute_result"
    }
   ],
   "source": [
    "final_output = universe_analysis.generate_final_output(\n",
    "    y_pred_prob=probs_test,\n",
    "    y_test=y_true,\n",
    "    org_test=org_test,\n",
    "    filter_data=filter_sub_universe_data,\n",
    "    cp_metrics_df=cp_metrics_df,\n",
    "    save=True,\n",
    ")\n",
    "final_output"
   ]
  }
 ],
 "metadata": {
  "celltoolbar": "Tags",
  "kernelspec": {
   "display_name": "Python (CMA Fairness)",
   "language": "python",
   "name": "cma_fair_env"
  },
  "language_info": {
   "codemirror_mode": {
    "name": "ipython",
    "version": 3
   },
   "file_extension": ".py",
   "mimetype": "text/x-python",
   "name": "python",
   "nbconvert_exporter": "python",
   "pygments_lexer": "ipython3",
   "version": "3.10.12"
  },
  "papermill": {
   "default_parameters": {},
   "duration": 39.045894,
   "end_time": "2025-08-05T16:16:14.951344",
   "environment_variables": {},
   "exception": null,
   "input_path": "universe_analysis.ipynb",
   "output_path": "output/runs/15/notebooks/m_15-67d4a4c071a48d40ebd59558fbd9e576.ipynb",
   "parameters": {
    "output_dir": "output",
    "run_no": "15",
    "seed": "2023",
    "universe": "{\"cutoff\": [\"quantile_0.1\", \"quantile_0.25\"], \"eval_fairness_grouping\": [\"majority-minority\", \"nationality-all\"], \"exclude_features\": \"nationality\", \"exclude_subgroups\": \"drop-non-german\", \"model\": \"logreg\", \"scale\": \"scale\", \"training_size\": \"1k\", \"training_year\": \"2012_14\"}",
    "universe_id": "67d4a4c071a48d40ebd59558fbd9e576"
   },
   "start_time": "2025-08-05T16:15:35.905450",
   "version": "2.6.0"
  }
 },
 "nbformat": 4,
 "nbformat_minor": 5
}