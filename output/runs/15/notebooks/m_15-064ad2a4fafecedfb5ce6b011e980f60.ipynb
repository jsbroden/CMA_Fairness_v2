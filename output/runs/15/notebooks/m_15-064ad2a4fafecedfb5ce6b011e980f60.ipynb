{
 "cells": [
  {
   "cell_type": "code",
   "execution_count": 1,
   "id": "f159f837-637b-42ba-96b5-ec9a68c44524",
   "metadata": {
    "execution": {
     "iopub.execute_input": "2025-08-05T15:54:26.323654Z",
     "iopub.status.busy": "2025-08-05T15:54:26.322689Z",
     "iopub.status.idle": "2025-08-05T15:54:26.336424Z",
     "shell.execute_reply": "2025-08-05T15:54:26.335475Z"
    },
    "papermill": {
     "duration": 0.034277,
     "end_time": "2025-08-05T15:54:26.338172",
     "exception": false,
     "start_time": "2025-08-05T15:54:26.303895",
     "status": "completed"
    },
    "tags": []
   },
   "outputs": [
    {
     "name": "stdout",
     "output_type": "stream",
     "text": [
      "/dss/dsshome1/0C/ra93lal2/cma/CMA_Fairness_v2\n"
     ]
    },
    {
     "name": "stderr",
     "output_type": "stream",
     "text": [
      "/dss/dsshome1/0C/ra93lal2/.local/share/virtualenvs/CMA_Fairness_v2-3j10GkSs/lib/python3.10/site-packages/IPython/core/magics/osm.py:393: UserWarning: This is now an optional IPython functionality, using bookmarks requires you to install the `pickleshare` library.\n",
      "  bkms = self.shell.db.get('bookmarks', {})\n",
      "/dss/dsshome1/0C/ra93lal2/.local/share/virtualenvs/CMA_Fairness_v2-3j10GkSs/lib/python3.10/site-packages/IPython/core/magics/osm.py:417: UserWarning: This is now an optional IPython functionality, setting dhist requires you to install the `pickleshare` library.\n",
      "  self.shell.db['dhist'] = compress_dhist(dhist)[-100:]\n"
     ]
    }
   ],
   "source": [
    "%cd ~/cma/CMA_Fairness_v2"
   ]
  },
  {
   "cell_type": "markdown",
   "id": "de2603b9",
   "metadata": {
    "papermill": {
     "duration": 0.016687,
     "end_time": "2025-08-05T15:54:26.371639",
     "exception": false,
     "start_time": "2025-08-05T15:54:26.354952",
     "status": "completed"
    },
    "tags": []
   },
   "source": [
    "The following cell holds the definition of our parameters, these values can be overriden by rendering the with e.g. the following command:\n",
    "\n",
    "papermill -p alpha 0.2 -p ratio 0.3 universe_analysis.ipynb output/test_run.ipynb"
   ]
  },
  {
   "cell_type": "code",
   "execution_count": 2,
   "id": "a80968a0-40bb-4fa9-85ef-2d5eefb01975",
   "metadata": {
    "execution": {
     "iopub.execute_input": "2025-08-05T15:54:26.406037Z",
     "iopub.status.busy": "2025-08-05T15:54:26.405125Z",
     "iopub.status.idle": "2025-08-05T15:54:26.411560Z",
     "shell.execute_reply": "2025-08-05T15:54:26.410495Z"
    },
    "papermill": {
     "duration": 0.025556,
     "end_time": "2025-08-05T15:54:26.413189",
     "exception": false,
     "start_time": "2025-08-05T15:54:26.387633",
     "status": "completed"
    },
    "tags": []
   },
   "outputs": [
    {
     "name": "stdout",
     "output_type": "stream",
     "text": [
      "Current working directory: /dss/dsshome1/0C/ra93lal2/cma/CMA_Fairness_v2\n"
     ]
    }
   ],
   "source": [
    "import os\n",
    "print(\"Current working directory:\", os.getcwd())"
   ]
  },
  {
   "cell_type": "code",
   "execution_count": 3,
   "id": "2dce4c03",
   "metadata": {
    "execution": {
     "iopub.execute_input": "2025-08-05T15:54:26.449312Z",
     "iopub.status.busy": "2025-08-05T15:54:26.448662Z",
     "iopub.status.idle": "2025-08-05T15:54:26.455389Z",
     "shell.execute_reply": "2025-08-05T15:54:26.454229Z"
    },
    "papermill": {
     "duration": 0.027021,
     "end_time": "2025-08-05T15:54:26.457263",
     "exception": false,
     "start_time": "2025-08-05T15:54:26.430242",
     "status": "completed"
    },
    "tags": [
     "parameters"
    ]
   },
   "outputs": [],
   "source": [
    "run_no = 0\n",
    "universe_id = \"test\"\n",
    "universe = {\n",
    "    \"training_size\": \"25k\", # \"25k\", \"5k\", \"1k\"\n",
    "    \"training_year\": \"2014\", # \"2014\", \"2012_14\", \"2010_14\"\n",
    "    \"scale\": \"scale\", # \"scale\", \"do-not-scale\",\n",
    "    \"model\": \"elasticnet\", # \"logreg\", \"penalized_logreg\", \"rf\", \"gbm\", \"elasticnet\"\n",
    "    \"cutoff\": [\"quantile_0.15\", \"quantile_0.30\"],\n",
    "    \"exclude_features\": \"age\", # \"none\", \"nationality\", \"sex\", \"nationality-sex\", \"age\"\n",
    "    \"exclude_subgroups\": \"keep-all\", # \"keep-all\", \"drop-non-german\"\n",
    "    \"eval_fairness_grouping\": [\"majority-minority\", \"nationality-all\"]\n",
    "}\n",
    "\n",
    "output_dir=\"./output\"\n",
    "seed=0"
   ]
  },
  {
   "cell_type": "code",
   "execution_count": 4,
   "id": "20afca55",
   "metadata": {
    "execution": {
     "iopub.execute_input": "2025-08-05T15:54:26.496387Z",
     "iopub.status.busy": "2025-08-05T15:54:26.495162Z",
     "iopub.status.idle": "2025-08-05T15:54:26.501855Z",
     "shell.execute_reply": "2025-08-05T15:54:26.500799Z"
    },
    "papermill": {
     "duration": 0.029322,
     "end_time": "2025-08-05T15:54:26.504349",
     "exception": false,
     "start_time": "2025-08-05T15:54:26.475027",
     "status": "completed"
    },
    "tags": [
     "injected-parameters"
    ]
   },
   "outputs": [],
   "source": [
    "# Parameters\n",
    "universe_id = \"064ad2a4fafecedfb5ce6b011e980f60\"\n",
    "run_no = \"15\"\n",
    "universe = \"{\\\"cutoff\\\": [\\\"quantile_0.1\\\", \\\"quantile_0.25\\\"], \\\"eval_fairness_grouping\\\": [\\\"majority-minority\\\", \\\"nationality-all\\\"], \\\"exclude_features\\\": \\\"age\\\", \\\"exclude_subgroups\\\": \\\"drop-non-german\\\", \\\"model\\\": \\\"elasticnet\\\", \\\"scale\\\": \\\"scale\\\", \\\"training_size\\\": \\\"5k\\\", \\\"training_year\\\": \\\"2010_14\\\"}\"\n",
    "output_dir = \"output\"\n",
    "seed = \"2023\"\n"
   ]
  },
  {
   "cell_type": "code",
   "execution_count": 5,
   "id": "1650acaf",
   "metadata": {
    "execution": {
     "iopub.execute_input": "2025-08-05T15:54:26.550848Z",
     "iopub.status.busy": "2025-08-05T15:54:26.550350Z",
     "iopub.status.idle": "2025-08-05T15:54:26.555641Z",
     "shell.execute_reply": "2025-08-05T15:54:26.554479Z"
    },
    "papermill": {
     "duration": 0.03331,
     "end_time": "2025-08-05T15:54:26.558059",
     "exception": false,
     "start_time": "2025-08-05T15:54:26.524749",
     "status": "completed"
    },
    "tags": []
   },
   "outputs": [],
   "source": [
    "import json\n",
    "if isinstance(universe, str):\n",
    "    universe = json.loads(universe)"
   ]
  },
  {
   "cell_type": "code",
   "execution_count": 6,
   "id": "16620c48",
   "metadata": {
    "execution": {
     "iopub.execute_input": "2025-08-05T15:54:26.600746Z",
     "iopub.status.busy": "2025-08-05T15:54:26.599929Z",
     "iopub.status.idle": "2025-08-05T15:54:26.649144Z",
     "shell.execute_reply": "2025-08-05T15:54:26.648276Z"
    },
    "papermill": {
     "duration": 0.06927,
     "end_time": "2025-08-05T15:54:26.651063",
     "exception": false,
     "start_time": "2025-08-05T15:54:26.581793",
     "status": "completed"
    },
    "tags": []
   },
   "outputs": [],
   "source": [
    "# Auto-reload the custom package\n",
    "%load_ext autoreload\n",
    "%autoreload 1\n",
    "%aimport fairness_multiverse"
   ]
  },
  {
   "cell_type": "code",
   "execution_count": 7,
   "id": "01c5c9f3",
   "metadata": {
    "execution": {
     "iopub.execute_input": "2025-08-05T15:54:26.686897Z",
     "iopub.status.busy": "2025-08-05T15:54:26.686243Z",
     "iopub.status.idle": "2025-08-05T15:54:29.685407Z",
     "shell.execute_reply": "2025-08-05T15:54:29.684360Z"
    },
    "papermill": {
     "duration": 3.019453,
     "end_time": "2025-08-05T15:54:29.687522",
     "exception": false,
     "start_time": "2025-08-05T15:54:26.668069",
     "status": "completed"
    },
    "tags": []
   },
   "outputs": [],
   "source": [
    "from fairness_multiverse.universe import UniverseAnalysis\n",
    "\n",
    "universe_analysis = UniverseAnalysis(\n",
    "    run_no = run_no,\n",
    "    universe_id = universe_id,\n",
    "    universe = universe,\n",
    "    output_dir=output_dir,\n",
    ")"
   ]
  },
  {
   "cell_type": "code",
   "execution_count": 8,
   "id": "106241f5",
   "metadata": {
    "execution": {
     "iopub.execute_input": "2025-08-05T15:54:29.725209Z",
     "iopub.status.busy": "2025-08-05T15:54:29.724660Z",
     "iopub.status.idle": "2025-08-05T15:54:29.731515Z",
     "shell.execute_reply": "2025-08-05T15:54:29.730396Z"
    },
    "papermill": {
     "duration": 0.028203,
     "end_time": "2025-08-05T15:54:29.733336",
     "exception": false,
     "start_time": "2025-08-05T15:54:29.705133",
     "status": "completed"
    },
    "tags": []
   },
   "outputs": [
    {
     "name": "stdout",
     "output_type": "stream",
     "text": [
      "Using Seed: 2023\n"
     ]
    }
   ],
   "source": [
    "import numpy as np\n",
    "parsed_seed = int(seed)\n",
    "np.random.seed(parsed_seed)\n",
    "print(f\"Using Seed: {parsed_seed}\")"
   ]
  },
  {
   "cell_type": "markdown",
   "id": "e0ebdc57",
   "metadata": {
    "papermill": {
     "duration": 0.017172,
     "end_time": "2025-08-05T15:54:29.768593",
     "exception": false,
     "start_time": "2025-08-05T15:54:29.751421",
     "status": "completed"
    },
    "tags": []
   },
   "source": [
    "# Loading Data"
   ]
  },
  {
   "cell_type": "code",
   "execution_count": 9,
   "id": "f0496b8a",
   "metadata": {
    "execution": {
     "iopub.execute_input": "2025-08-05T15:54:29.805438Z",
     "iopub.status.busy": "2025-08-05T15:54:29.804537Z",
     "iopub.status.idle": "2025-08-05T15:54:40.405783Z",
     "shell.execute_reply": "2025-08-05T15:54:40.404301Z"
    },
    "papermill": {
     "duration": 10.62228,
     "end_time": "2025-08-05T15:54:40.407684",
     "exception": false,
     "start_time": "2025-08-05T15:54:29.785404",
     "status": "completed"
    },
    "tags": []
   },
   "outputs": [
    {
     "name": "stdout",
     "output_type": "stream",
     "text": [
      "Loading SIAB data from cache: data/siab_cached.csv.gz\n"
     ]
    },
    {
     "name": "stdout",
     "output_type": "stream",
     "text": [
      "(643690, 164)\n"
     ]
    }
   ],
   "source": [
    "from pathlib import Path\n",
    "import pandas as pd\n",
    "\n",
    "# File paths\n",
    "raw_file = Path(\"data/raw/siab.csv\")\n",
    "cache_file = Path(\"data/siab_cached.csv.gz\")\n",
    "\n",
    "# Ensure cache directory exists\n",
    "cache_file.parent.mkdir(parents=True, exist_ok=True)\n",
    "\n",
    "# Load with simple caching\n",
    "if cache_file.exists():\n",
    "    print(f\"Loading SIAB data from cache: {cache_file}\")\n",
    "    siab = pd.read_csv(cache_file, compression='gzip')\n",
    "else:\n",
    "    print(f\"Cache not found. Reading raw SIAB data: {raw_file}\")\n",
    "    siab = pd.read_csv(raw_file)\n",
    "    siab.to_csv(cache_file, index=False, compression='gzip')\n",
    "    print(f\"Cached SIAB data to: {cache_file}\")\n",
    "\n",
    "print(siab.shape)"
   ]
  },
  {
   "cell_type": "code",
   "execution_count": 10,
   "id": "db0ca512-5f53-4dba-abdb-a2888bca41ba",
   "metadata": {
    "execution": {
     "iopub.execute_input": "2025-08-05T15:54:40.453427Z",
     "iopub.status.busy": "2025-08-05T15:54:40.452813Z",
     "iopub.status.idle": "2025-08-05T15:54:40.460604Z",
     "shell.execute_reply": "2025-08-05T15:54:40.459379Z"
    },
    "papermill": {
     "duration": 0.032154,
     "end_time": "2025-08-05T15:54:40.462908",
     "exception": false,
     "start_time": "2025-08-05T15:54:40.430754",
     "status": "completed"
    },
    "tags": []
   },
   "outputs": [],
   "source": [
    "#siab"
   ]
  },
  {
   "cell_type": "markdown",
   "id": "997051c5-15bd-4b69-9786-c3001a3ce484",
   "metadata": {
    "papermill": {
     "duration": 0.018867,
     "end_time": "2025-08-05T15:54:40.503425",
     "exception": false,
     "start_time": "2025-08-05T15:54:40.484558",
     "status": "completed"
    },
    "tags": []
   },
   "source": [
    "# Splitting Data and Setting Training Data Size"
   ]
  },
  {
   "cell_type": "code",
   "execution_count": 11,
   "id": "aea9c6ef-6f46-42c8-85eb-5a62025c1508",
   "metadata": {
    "execution": {
     "iopub.execute_input": "2025-08-05T15:54:40.544407Z",
     "iopub.status.busy": "2025-08-05T15:54:40.543885Z",
     "iopub.status.idle": "2025-08-05T15:54:41.481618Z",
     "shell.execute_reply": "2025-08-05T15:54:41.480823Z"
    },
    "papermill": {
     "duration": 0.958902,
     "end_time": "2025-08-05T15:54:41.483080",
     "exception": false,
     "start_time": "2025-08-05T15:54:40.524178",
     "status": "completed"
    },
    "tags": []
   },
   "outputs": [],
   "source": [
    "from fairness_multiverse.universe import sample_by_year_size\n",
    "\n",
    "siab_train = sample_by_year_size(siab,\n",
    "                               training_year=universe[\"training_year\"],\n",
    "                               training_size=universe[\"training_size\"])"
   ]
  },
  {
   "cell_type": "code",
   "execution_count": 12,
   "id": "8d3afb32-789d-442c-8d5d-9f5aa8dd2eed",
   "metadata": {
    "execution": {
     "iopub.execute_input": "2025-08-05T15:54:41.503511Z",
     "iopub.status.busy": "2025-08-05T15:54:41.503168Z",
     "iopub.status.idle": "2025-08-05T15:54:41.507421Z",
     "shell.execute_reply": "2025-08-05T15:54:41.506441Z"
    },
    "papermill": {
     "duration": 0.015779,
     "end_time": "2025-08-05T15:54:41.508850",
     "exception": false,
     "start_time": "2025-08-05T15:54:41.493071",
     "status": "completed"
    },
    "tags": []
   },
   "outputs": [],
   "source": [
    "#siab_train.shape"
   ]
  },
  {
   "cell_type": "code",
   "execution_count": 13,
   "id": "d582db68-1a4c-47fb-84fc-08518dc1975a",
   "metadata": {
    "execution": {
     "iopub.execute_input": "2025-08-05T15:54:41.532427Z",
     "iopub.status.busy": "2025-08-05T15:54:41.531928Z",
     "iopub.status.idle": "2025-08-05T15:54:41.536334Z",
     "shell.execute_reply": "2025-08-05T15:54:41.535556Z"
    },
    "papermill": {
     "duration": 0.017525,
     "end_time": "2025-08-05T15:54:41.537852",
     "exception": false,
     "start_time": "2025-08-05T15:54:41.520327",
     "status": "completed"
    },
    "tags": []
   },
   "outputs": [],
   "source": [
    "#display(siab_train.groupby(\"year\").size())"
   ]
  },
  {
   "cell_type": "code",
   "execution_count": 14,
   "id": "a561edb4-d032-42cb-8256-22eac1111c64",
   "metadata": {
    "execution": {
     "iopub.execute_input": "2025-08-05T15:54:41.558637Z",
     "iopub.status.busy": "2025-08-05T15:54:41.558148Z",
     "iopub.status.idle": "2025-08-05T15:54:41.764254Z",
     "shell.execute_reply": "2025-08-05T15:54:41.763411Z"
    },
    "papermill": {
     "duration": 0.217781,
     "end_time": "2025-08-05T15:54:41.765765",
     "exception": false,
     "start_time": "2025-08-05T15:54:41.547984",
     "status": "completed"
    },
    "tags": []
   },
   "outputs": [],
   "source": [
    "#siab_train = siab_s[siab_s.year < 2015]\n",
    "siab_calib = siab[siab.year == 2015]\n",
    "siab_test = siab[siab.year == 2016]"
   ]
  },
  {
   "cell_type": "code",
   "execution_count": 15,
   "id": "472de16f-c3db-4916-846b-1f0de9cf1746",
   "metadata": {
    "execution": {
     "iopub.execute_input": "2025-08-05T15:54:41.785448Z",
     "iopub.status.busy": "2025-08-05T15:54:41.785156Z",
     "iopub.status.idle": "2025-08-05T15:54:41.798691Z",
     "shell.execute_reply": "2025-08-05T15:54:41.797586Z"
    },
    "papermill": {
     "duration": 0.025248,
     "end_time": "2025-08-05T15:54:41.800766",
     "exception": false,
     "start_time": "2025-08-05T15:54:41.775518",
     "status": "completed"
    },
    "tags": []
   },
   "outputs": [],
   "source": [
    "X_train = siab_train.iloc[:,4:164]\n",
    "y_train = siab_train.iloc[:, [3]]"
   ]
  },
  {
   "cell_type": "code",
   "execution_count": 16,
   "id": "828c96af-f43a-4ed6-ba47-8ac73a47d56c",
   "metadata": {
    "execution": {
     "iopub.execute_input": "2025-08-05T15:54:41.839756Z",
     "iopub.status.busy": "2025-08-05T15:54:41.838848Z",
     "iopub.status.idle": "2025-08-05T15:54:41.893627Z",
     "shell.execute_reply": "2025-08-05T15:54:41.892318Z"
    },
    "papermill": {
     "duration": 0.076321,
     "end_time": "2025-08-05T15:54:41.896109",
     "exception": false,
     "start_time": "2025-08-05T15:54:41.819788",
     "status": "completed"
    },
    "tags": []
   },
   "outputs": [],
   "source": [
    "X_calib = siab_calib.iloc[:,4:164]\n",
    "y_calib = siab_calib.iloc[:, [3]]"
   ]
  },
  {
   "cell_type": "code",
   "execution_count": 17,
   "id": "c34be9c3-6bd6-476e-acd3-845840e303be",
   "metadata": {
    "execution": {
     "iopub.execute_input": "2025-08-05T15:54:41.934822Z",
     "iopub.status.busy": "2025-08-05T15:54:41.933957Z",
     "iopub.status.idle": "2025-08-05T15:54:41.987259Z",
     "shell.execute_reply": "2025-08-05T15:54:41.986255Z"
    },
    "papermill": {
     "duration": 0.073913,
     "end_time": "2025-08-05T15:54:41.989108",
     "exception": false,
     "start_time": "2025-08-05T15:54:41.915195",
     "status": "completed"
    },
    "tags": []
   },
   "outputs": [],
   "source": [
    "X_test = siab_test.iloc[:,4:164]\n",
    "y_true = siab_test.iloc[:, [3]]"
   ]
  },
  {
   "cell_type": "code",
   "execution_count": 18,
   "id": "e6c733c5",
   "metadata": {
    "execution": {
     "iopub.execute_input": "2025-08-05T15:54:42.030397Z",
     "iopub.status.busy": "2025-08-05T15:54:42.029711Z",
     "iopub.status.idle": "2025-08-05T15:54:42.129914Z",
     "shell.execute_reply": "2025-08-05T15:54:42.129018Z"
    },
    "papermill": {
     "duration": 0.121566,
     "end_time": "2025-08-05T15:54:42.131343",
     "exception": false,
     "start_time": "2025-08-05T15:54:42.009777",
     "status": "completed"
    },
    "tags": []
   },
   "outputs": [],
   "source": [
    "# Auxiliary data needed downstream in the pipeline\n",
    "\n",
    "org_train = X_train.copy()\n",
    "org_test = X_test.copy()\n",
    "org_calib = X_calib.copy()"
   ]
  },
  {
   "cell_type": "markdown",
   "id": "0a4a1b33",
   "metadata": {
    "papermill": {
     "duration": 0.01763,
     "end_time": "2025-08-05T15:54:42.165288",
     "exception": false,
     "start_time": "2025-08-05T15:54:42.147658",
     "status": "completed"
    },
    "tags": []
   },
   "source": [
    "# Preprocessing Data"
   ]
  },
  {
   "cell_type": "code",
   "execution_count": 19,
   "id": "ca879031",
   "metadata": {
    "execution": {
     "iopub.execute_input": "2025-08-05T15:54:42.192852Z",
     "iopub.status.busy": "2025-08-05T15:54:42.192419Z",
     "iopub.status.idle": "2025-08-05T15:54:42.198305Z",
     "shell.execute_reply": "2025-08-05T15:54:42.197545Z"
    },
    "papermill": {
     "duration": 0.017922,
     "end_time": "2025-08-05T15:54:42.199676",
     "exception": false,
     "start_time": "2025-08-05T15:54:42.181754",
     "status": "completed"
    },
    "tags": []
   },
   "outputs": [],
   "source": [
    "# EXCLUDE PROTECTED FEATURES\n",
    "# ----------------------\n",
    "# \"exclude_features\": \"none\", # \"nationality\", \"sex\", \"nationality-sex\"\n",
    "\n",
    "excluded_features = universe[\"exclude_features\"].split(\"-\") # split, e.g.: \"nationality-sex\" -> [\"nationality\", \"sex\"]\n",
    "excluded_features_dictionary = {\n",
    "    \"nationality\": [\"maxdeutsch1\", \"maxdeutsch.Missing.\"],\n",
    "    \"sex\": [\"frau1\"],\n",
    "    \"age\": [\"age\"],\n",
    "}"
   ]
  },
  {
   "cell_type": "code",
   "execution_count": 20,
   "id": "b745ac60",
   "metadata": {
    "execution": {
     "iopub.execute_input": "2025-08-05T15:54:42.221524Z",
     "iopub.status.busy": "2025-08-05T15:54:42.220789Z",
     "iopub.status.idle": "2025-08-05T15:54:42.225915Z",
     "shell.execute_reply": "2025-08-05T15:54:42.225091Z"
    },
    "papermill": {
     "duration": 0.016865,
     "end_time": "2025-08-05T15:54:42.227326",
     "exception": false,
     "start_time": "2025-08-05T15:54:42.210461",
     "status": "completed"
    },
    "tags": []
   },
   "outputs": [],
   "source": [
    "# Code nice names to column names\n",
    "\n",
    "excluded_features_columns = [\n",
    "    excluded_features_dictionary[f] for f in excluded_features if len(f) > 0 and f != \"none\"\n",
    "]"
   ]
  },
  {
   "cell_type": "code",
   "execution_count": 21,
   "id": "f84f73a2",
   "metadata": {
    "execution": {
     "iopub.execute_input": "2025-08-05T15:54:42.258598Z",
     "iopub.status.busy": "2025-08-05T15:54:42.257592Z",
     "iopub.status.idle": "2025-08-05T15:54:42.264261Z",
     "shell.execute_reply": "2025-08-05T15:54:42.263095Z"
    },
    "papermill": {
     "duration": 0.02713,
     "end_time": "2025-08-05T15:54:42.265949",
     "exception": false,
     "start_time": "2025-08-05T15:54:42.238819",
     "status": "completed"
    },
    "tags": []
   },
   "outputs": [],
   "source": [
    "from utils import flatten_once\n",
    "\n",
    "excluded_features_columns = flatten_once(excluded_features_columns)"
   ]
  },
  {
   "cell_type": "code",
   "execution_count": 22,
   "id": "884dea22",
   "metadata": {
    "execution": {
     "iopub.execute_input": "2025-08-05T15:54:42.303904Z",
     "iopub.status.busy": "2025-08-05T15:54:42.303329Z",
     "iopub.status.idle": "2025-08-05T15:54:42.322863Z",
     "shell.execute_reply": "2025-08-05T15:54:42.321595Z"
    },
    "papermill": {
     "duration": 0.039085,
     "end_time": "2025-08-05T15:54:42.324751",
     "exception": false,
     "start_time": "2025-08-05T15:54:42.285666",
     "status": "completed"
    },
    "tags": []
   },
   "outputs": [
    {
     "name": "stdout",
     "output_type": "stream",
     "text": [
      "Dropping features: ['age']\n"
     ]
    }
   ],
   "source": [
    "if len(excluded_features_columns) > 0:\n",
    "    print(f\"Dropping features: {excluded_features_columns}\")\n",
    "    X_train.drop(excluded_features_columns, axis=1, inplace=True)"
   ]
  },
  {
   "cell_type": "code",
   "execution_count": 23,
   "id": "95ab8b16",
   "metadata": {
    "execution": {
     "iopub.execute_input": "2025-08-05T15:54:42.361257Z",
     "iopub.status.busy": "2025-08-05T15:54:42.360733Z",
     "iopub.status.idle": "2025-08-05T15:54:42.415555Z",
     "shell.execute_reply": "2025-08-05T15:54:42.414486Z"
    },
    "papermill": {
     "duration": 0.079838,
     "end_time": "2025-08-05T15:54:42.417789",
     "exception": false,
     "start_time": "2025-08-05T15:54:42.337951",
     "status": "completed"
    },
    "tags": []
   },
   "outputs": [
    {
     "name": "stdout",
     "output_type": "stream",
     "text": [
      "Dropping features: ['age']\n"
     ]
    }
   ],
   "source": [
    "if len(excluded_features_columns) > 0:\n",
    "    print(f\"Dropping features: {excluded_features_columns}\")\n",
    "    X_test.drop(excluded_features_columns, axis=1, inplace=True)"
   ]
  },
  {
   "cell_type": "code",
   "execution_count": 24,
   "id": "1853aaf5-fb9f-46cb-a2b5-8ea4ae2237e4",
   "metadata": {
    "execution": {
     "iopub.execute_input": "2025-08-05T15:54:42.463083Z",
     "iopub.status.busy": "2025-08-05T15:54:42.462115Z",
     "iopub.status.idle": "2025-08-05T15:54:42.522339Z",
     "shell.execute_reply": "2025-08-05T15:54:42.520953Z"
    },
    "papermill": {
     "duration": 0.084276,
     "end_time": "2025-08-05T15:54:42.524381",
     "exception": false,
     "start_time": "2025-08-05T15:54:42.440105",
     "status": "completed"
    },
    "tags": []
   },
   "outputs": [
    {
     "name": "stdout",
     "output_type": "stream",
     "text": [
      "Dropping features: ['age']\n"
     ]
    }
   ],
   "source": [
    "if len(excluded_features_columns) > 0:\n",
    "    print(f\"Dropping features: {excluded_features_columns}\")\n",
    "    X_calib.drop(excluded_features_columns, axis=1, inplace=True)"
   ]
  },
  {
   "cell_type": "code",
   "execution_count": 25,
   "id": "76c4dc6d",
   "metadata": {
    "execution": {
     "iopub.execute_input": "2025-08-05T15:54:42.568080Z",
     "iopub.status.busy": "2025-08-05T15:54:42.567180Z",
     "iopub.status.idle": "2025-08-05T15:54:42.573245Z",
     "shell.execute_reply": "2025-08-05T15:54:42.572064Z"
    },
    "papermill": {
     "duration": 0.029345,
     "end_time": "2025-08-05T15:54:42.575403",
     "exception": false,
     "start_time": "2025-08-05T15:54:42.546058",
     "status": "completed"
    },
    "tags": []
   },
   "outputs": [],
   "source": [
    "# EXCLUDE CERTAIN SUBGROUPS\n",
    "# ----------------------\n",
    "\n",
    "mode = universe.get(\"exclude_subgroups\", \"keep-all\") \n",
    "# Fetches the exclude_subgroups setting from the universe dict.\n",
    "# Defaults to \"keep-all\" if the key is missing."
   ]
  },
  {
   "cell_type": "code",
   "execution_count": 26,
   "id": "21994072",
   "metadata": {
    "execution": {
     "iopub.execute_input": "2025-08-05T15:54:42.620202Z",
     "iopub.status.busy": "2025-08-05T15:54:42.619160Z",
     "iopub.status.idle": "2025-08-05T15:54:42.626966Z",
     "shell.execute_reply": "2025-08-05T15:54:42.625858Z"
    },
    "papermill": {
     "duration": 0.031116,
     "end_time": "2025-08-05T15:54:42.628947",
     "exception": false,
     "start_time": "2025-08-05T15:54:42.597831",
     "status": "completed"
    },
    "tags": []
   },
   "outputs": [],
   "source": [
    "if mode == \"keep-all\":\n",
    "    keep_mask = pd.Series(True, index=org_train.index)\n",
    "\n",
    "# org_train contains the original feature columns from features_org (in Simson)\n",
    "# features_org contains unprocessed features, for me X_train at beginning ???\n",
    "# For keep-all, creates a boolean Series (keep_mask) of all True, so no rows are removed.\n",
    "\n",
    "elif mode == \"drop-non-german\":\n",
    "    keep_mask = org_train[\"maxdeutsch1\"] == 1 # ??? what about missing values?\n",
    "\n",
    "else:\n",
    "    raise ValueError(f\"Unsupported mode for exclude_subgroups: {mode}\")"
   ]
  },
  {
   "cell_type": "code",
   "execution_count": 27,
   "id": "71651440",
   "metadata": {
    "execution": {
     "iopub.execute_input": "2025-08-05T15:54:42.672604Z",
     "iopub.status.busy": "2025-08-05T15:54:42.671707Z",
     "iopub.status.idle": "2025-08-05T15:54:42.679737Z",
     "shell.execute_reply": "2025-08-05T15:54:42.678519Z"
    },
    "papermill": {
     "duration": 0.030942,
     "end_time": "2025-08-05T15:54:42.681591",
     "exception": false,
     "start_time": "2025-08-05T15:54:42.650649",
     "status": "completed"
    },
    "tags": []
   },
   "outputs": [
    {
     "name": "stdout",
     "output_type": "stream",
     "text": [
      "Dropping 657 rows (13.14%) where mode='drop-non-german'\n"
     ]
    }
   ],
   "source": [
    "n_drop = (~keep_mask).sum() # Calculates how many rows are set to be dropped\n",
    "if n_drop > 0:\n",
    "    pct = n_drop / len(keep_mask) * 100\n",
    "    print(f\"Dropping {n_drop} rows ({pct:.2f}%) where mode='{mode}'\")"
   ]
  },
  {
   "cell_type": "code",
   "execution_count": 28,
   "id": "5fb8eee5",
   "metadata": {
    "execution": {
     "iopub.execute_input": "2025-08-05T15:54:42.725336Z",
     "iopub.status.busy": "2025-08-05T15:54:42.724244Z",
     "iopub.status.idle": "2025-08-05T15:54:42.734472Z",
     "shell.execute_reply": "2025-08-05T15:54:42.733262Z"
    },
    "papermill": {
     "duration": 0.034013,
     "end_time": "2025-08-05T15:54:42.736453",
     "exception": false,
     "start_time": "2025-08-05T15:54:42.702440",
     "status": "completed"
    },
    "tags": []
   },
   "outputs": [],
   "source": [
    "X_train = X_train[keep_mask]"
   ]
  },
  {
   "cell_type": "code",
   "execution_count": 29,
   "id": "b202bb3a",
   "metadata": {
    "execution": {
     "iopub.execute_input": "2025-08-05T15:54:42.781375Z",
     "iopub.status.busy": "2025-08-05T15:54:42.780863Z",
     "iopub.status.idle": "2025-08-05T15:54:42.787700Z",
     "shell.execute_reply": "2025-08-05T15:54:42.786534Z"
    },
    "papermill": {
     "duration": 0.032074,
     "end_time": "2025-08-05T15:54:42.789923",
     "exception": false,
     "start_time": "2025-08-05T15:54:42.757849",
     "status": "completed"
    },
    "tags": []
   },
   "outputs": [],
   "source": [
    "y_train = y_train[keep_mask]"
   ]
  },
  {
   "cell_type": "markdown",
   "id": "493e2ac3",
   "metadata": {
    "papermill": {
     "duration": 0.021737,
     "end_time": "2025-08-05T15:54:42.833922",
     "exception": false,
     "start_time": "2025-08-05T15:54:42.812185",
     "status": "completed"
    },
    "tags": []
   },
   "source": [
    "# Model Training"
   ]
  },
  {
   "cell_type": "code",
   "execution_count": 30,
   "id": "679e1268",
   "metadata": {
    "execution": {
     "iopub.execute_input": "2025-08-05T15:54:42.879923Z",
     "iopub.status.busy": "2025-08-05T15:54:42.879023Z",
     "iopub.status.idle": "2025-08-05T15:54:42.989964Z",
     "shell.execute_reply": "2025-08-05T15:54:42.988905Z"
    },
    "papermill": {
     "duration": 0.136506,
     "end_time": "2025-08-05T15:54:42.992139",
     "exception": false,
     "start_time": "2025-08-05T15:54:42.855633",
     "status": "completed"
    },
    "tags": []
   },
   "outputs": [],
   "source": [
    "from sklearn.linear_model import LogisticRegression\n",
    "from sklearn.ensemble import GradientBoostingClassifier, RandomForestClassifier\n",
    "\n",
    "if (universe[\"model\"] == \"logreg\"):\n",
    "    model = LogisticRegression() #penalty=\"none\", solver=\"newton-cg\", max_iter=1) # include random_state=19 ?\n",
    "elif (universe[\"model\"] == \"penalized_logreg\"):\n",
    "    model = LogisticRegression(penalty=\"l2\", C=0.1) #, solver=\"newton-cg\", max_iter=1)\n",
    "elif (universe[\"model\"] == \"rf\"):\n",
    "    model = RandomForestClassifier() # n_estimators=100, n_jobs=-1\n",
    "elif (universe[\"model\"] == \"gbm\"):\n",
    "    model = GradientBoostingClassifier()\n",
    "elif (universe[\"model\"] == \"elasticnet\"):\n",
    "    model = LogisticRegression(penalty = 'elasticnet', solver = 'saga', l1_ratio = 0.5) # max_iter=5000\n",
    "else:\n",
    "    raise \"Unsupported universe.model\""
   ]
  },
  {
   "cell_type": "code",
   "execution_count": 31,
   "id": "0cc8f744",
   "metadata": {
    "execution": {
     "iopub.execute_input": "2025-08-05T15:54:43.039101Z",
     "iopub.status.busy": "2025-08-05T15:54:43.038638Z",
     "iopub.status.idle": "2025-08-05T15:54:43.044126Z",
     "shell.execute_reply": "2025-08-05T15:54:43.043294Z"
    },
    "papermill": {
     "duration": 0.030293,
     "end_time": "2025-08-05T15:54:43.045611",
     "exception": false,
     "start_time": "2025-08-05T15:54:43.015318",
     "status": "completed"
    },
    "tags": []
   },
   "outputs": [],
   "source": [
    "import numpy as np\n",
    "from sklearn.pipeline import Pipeline\n",
    "from sklearn.preprocessing import StandardScaler\n",
    "\n",
    "model = Pipeline([\n",
    "    #(\"continuous_processor\", continuous_processor),\n",
    "    #(\"categorical_preprocessor\", categorical_preprocessor),\n",
    "    (\"scale\", StandardScaler() if universe[\"scale\"] == \"scale\" else None), \n",
    "    (\"model\", model),\n",
    "])"
   ]
  },
  {
   "cell_type": "code",
   "execution_count": 32,
   "id": "9442c04d",
   "metadata": {
    "execution": {
     "iopub.execute_input": "2025-08-05T15:54:43.067941Z",
     "iopub.status.busy": "2025-08-05T15:54:43.067614Z",
     "iopub.status.idle": "2025-08-05T15:54:44.175242Z",
     "shell.execute_reply": "2025-08-05T15:54:44.174535Z"
    },
    "papermill": {
     "duration": 1.119605,
     "end_time": "2025-08-05T15:54:44.176446",
     "exception": false,
     "start_time": "2025-08-05T15:54:43.056841",
     "status": "completed"
    },
    "tags": []
   },
   "outputs": [
    {
     "name": "stderr",
     "output_type": "stream",
     "text": [
      "/dss/dsshome1/0C/ra93lal2/.local/share/virtualenvs/CMA_Fairness_v2-3j10GkSs/lib/python3.10/site-packages/sklearn/linear_model/_sag.py:350: ConvergenceWarning: The max_iter was reached which means the coef_ did not converge\n",
      "  warnings.warn(\n"
     ]
    },
    {
     "data": {
      "text/html": [
       "<style>#sk-container-id-1 {color: black;background-color: white;}#sk-container-id-1 pre{padding: 0;}#sk-container-id-1 div.sk-toggleable {background-color: white;}#sk-container-id-1 label.sk-toggleable__label {cursor: pointer;display: block;width: 100%;margin-bottom: 0;padding: 0.3em;box-sizing: border-box;text-align: center;}#sk-container-id-1 label.sk-toggleable__label-arrow:before {content: \"▸\";float: left;margin-right: 0.25em;color: #696969;}#sk-container-id-1 label.sk-toggleable__label-arrow:hover:before {color: black;}#sk-container-id-1 div.sk-estimator:hover label.sk-toggleable__label-arrow:before {color: black;}#sk-container-id-1 div.sk-toggleable__content {max-height: 0;max-width: 0;overflow: hidden;text-align: left;background-color: #f0f8ff;}#sk-container-id-1 div.sk-toggleable__content pre {margin: 0.2em;color: black;border-radius: 0.25em;background-color: #f0f8ff;}#sk-container-id-1 input.sk-toggleable__control:checked~div.sk-toggleable__content {max-height: 200px;max-width: 100%;overflow: auto;}#sk-container-id-1 input.sk-toggleable__control:checked~label.sk-toggleable__label-arrow:before {content: \"▾\";}#sk-container-id-1 div.sk-estimator input.sk-toggleable__control:checked~label.sk-toggleable__label {background-color: #d4ebff;}#sk-container-id-1 div.sk-label input.sk-toggleable__control:checked~label.sk-toggleable__label {background-color: #d4ebff;}#sk-container-id-1 input.sk-hidden--visually {border: 0;clip: rect(1px 1px 1px 1px);clip: rect(1px, 1px, 1px, 1px);height: 1px;margin: -1px;overflow: hidden;padding: 0;position: absolute;width: 1px;}#sk-container-id-1 div.sk-estimator {font-family: monospace;background-color: #f0f8ff;border: 1px dotted black;border-radius: 0.25em;box-sizing: border-box;margin-bottom: 0.5em;}#sk-container-id-1 div.sk-estimator:hover {background-color: #d4ebff;}#sk-container-id-1 div.sk-parallel-item::after {content: \"\";width: 100%;border-bottom: 1px solid gray;flex-grow: 1;}#sk-container-id-1 div.sk-label:hover label.sk-toggleable__label {background-color: #d4ebff;}#sk-container-id-1 div.sk-serial::before {content: \"\";position: absolute;border-left: 1px solid gray;box-sizing: border-box;top: 0;bottom: 0;left: 50%;z-index: 0;}#sk-container-id-1 div.sk-serial {display: flex;flex-direction: column;align-items: center;background-color: white;padding-right: 0.2em;padding-left: 0.2em;position: relative;}#sk-container-id-1 div.sk-item {position: relative;z-index: 1;}#sk-container-id-1 div.sk-parallel {display: flex;align-items: stretch;justify-content: center;background-color: white;position: relative;}#sk-container-id-1 div.sk-item::before, #sk-container-id-1 div.sk-parallel-item::before {content: \"\";position: absolute;border-left: 1px solid gray;box-sizing: border-box;top: 0;bottom: 0;left: 50%;z-index: -1;}#sk-container-id-1 div.sk-parallel-item {display: flex;flex-direction: column;z-index: 1;position: relative;background-color: white;}#sk-container-id-1 div.sk-parallel-item:first-child::after {align-self: flex-end;width: 50%;}#sk-container-id-1 div.sk-parallel-item:last-child::after {align-self: flex-start;width: 50%;}#sk-container-id-1 div.sk-parallel-item:only-child::after {width: 0;}#sk-container-id-1 div.sk-dashed-wrapped {border: 1px dashed gray;margin: 0 0.4em 0.5em 0.4em;box-sizing: border-box;padding-bottom: 0.4em;background-color: white;}#sk-container-id-1 div.sk-label label {font-family: monospace;font-weight: bold;display: inline-block;line-height: 1.2em;}#sk-container-id-1 div.sk-label-container {text-align: center;}#sk-container-id-1 div.sk-container {/* jupyter's `normalize.less` sets `[hidden] { display: none; }` but bootstrap.min.css set `[hidden] { display: none !important; }` so we also need the `!important` here to be able to override the default hidden behavior on the sphinx rendered scikit-learn.org. See: https://github.com/scikit-learn/scikit-learn/issues/21755 */display: inline-block !important;position: relative;}#sk-container-id-1 div.sk-text-repr-fallback {display: none;}</style><div id=\"sk-container-id-1\" class=\"sk-top-container\"><div class=\"sk-text-repr-fallback\"><pre>Pipeline(steps=[(&#x27;scale&#x27;, StandardScaler()),\n",
       "                (&#x27;model&#x27;,\n",
       "                 LogisticRegression(l1_ratio=0.5, penalty=&#x27;elasticnet&#x27;,\n",
       "                                    solver=&#x27;saga&#x27;))])</pre><b>In a Jupyter environment, please rerun this cell to show the HTML representation or trust the notebook. <br />On GitHub, the HTML representation is unable to render, please try loading this page with nbviewer.org.</b></div><div class=\"sk-container\" hidden><div class=\"sk-item sk-dashed-wrapped\"><div class=\"sk-label-container\"><div class=\"sk-label sk-toggleable\"><input class=\"sk-toggleable__control sk-hidden--visually\" id=\"sk-estimator-id-1\" type=\"checkbox\" ><label for=\"sk-estimator-id-1\" class=\"sk-toggleable__label sk-toggleable__label-arrow\">Pipeline</label><div class=\"sk-toggleable__content\"><pre>Pipeline(steps=[(&#x27;scale&#x27;, StandardScaler()),\n",
       "                (&#x27;model&#x27;,\n",
       "                 LogisticRegression(l1_ratio=0.5, penalty=&#x27;elasticnet&#x27;,\n",
       "                                    solver=&#x27;saga&#x27;))])</pre></div></div></div><div class=\"sk-serial\"><div class=\"sk-item\"><div class=\"sk-estimator sk-toggleable\"><input class=\"sk-toggleable__control sk-hidden--visually\" id=\"sk-estimator-id-2\" type=\"checkbox\" ><label for=\"sk-estimator-id-2\" class=\"sk-toggleable__label sk-toggleable__label-arrow\">StandardScaler</label><div class=\"sk-toggleable__content\"><pre>StandardScaler()</pre></div></div></div><div class=\"sk-item\"><div class=\"sk-estimator sk-toggleable\"><input class=\"sk-toggleable__control sk-hidden--visually\" id=\"sk-estimator-id-3\" type=\"checkbox\" ><label for=\"sk-estimator-id-3\" class=\"sk-toggleable__label sk-toggleable__label-arrow\">LogisticRegression</label><div class=\"sk-toggleable__content\"><pre>LogisticRegression(l1_ratio=0.5, penalty=&#x27;elasticnet&#x27;, solver=&#x27;saga&#x27;)</pre></div></div></div></div></div></div></div>"
      ],
      "text/plain": [
       "Pipeline(steps=[('scale', StandardScaler()),\n",
       "                ('model',\n",
       "                 LogisticRegression(l1_ratio=0.5, penalty='elasticnet',\n",
       "                                    solver='saga'))])"
      ]
     },
     "execution_count": 32,
     "metadata": {},
     "output_type": "execute_result"
    }
   ],
   "source": [
    "model.fit(X_train, y_train.values.ravel())"
   ]
  },
  {
   "cell_type": "code",
   "execution_count": 33,
   "id": "af59f8c0",
   "metadata": {
    "execution": {
     "iopub.execute_input": "2025-08-05T15:54:44.199265Z",
     "iopub.status.busy": "2025-08-05T15:54:44.198759Z",
     "iopub.status.idle": "2025-08-05T15:54:44.203618Z",
     "shell.execute_reply": "2025-08-05T15:54:44.202746Z"
    },
    "papermill": {
     "duration": 0.017712,
     "end_time": "2025-08-05T15:54:44.205177",
     "exception": false,
     "start_time": "2025-08-05T15:54:44.187465",
     "status": "completed"
    },
    "tags": []
   },
   "outputs": [],
   "source": [
    "from fairness_multiverse.universe import predict_w_threshold"
   ]
  },
  {
   "cell_type": "code",
   "execution_count": 34,
   "id": "a7cf2e16",
   "metadata": {
    "execution": {
     "iopub.execute_input": "2025-08-05T15:54:44.229131Z",
     "iopub.status.busy": "2025-08-05T15:54:44.228357Z",
     "iopub.status.idle": "2025-08-05T15:54:44.404069Z",
     "shell.execute_reply": "2025-08-05T15:54:44.403284Z"
    },
    "papermill": {
     "duration": 0.188651,
     "end_time": "2025-08-05T15:54:44.405443",
     "exception": false,
     "start_time": "2025-08-05T15:54:44.216792",
     "status": "completed"
    },
    "tags": []
   },
   "outputs": [
    {
     "data": {
      "text/plain": [
       "0.8514435402965109"
      ]
     },
     "execution_count": 34,
     "metadata": {},
     "output_type": "execute_result"
    }
   ],
   "source": [
    "probs_test = model.predict_proba(X_test)\n",
    "\n",
    "'''\n",
    "Below code returns a boolean array (or binary 0/1 array depending on how it’s used) where each element \n",
    "is True if the probability of class 1 is greater than or equal to the threshold, and False otherwise.\n",
    "'''\n",
    "y_pred_default = predict_w_threshold(probs_test, 0.5)\n",
    "\n",
    "from sklearn.metrics import accuracy_score\n",
    "\n",
    "# Naive prediction\n",
    "accuracy_score(y_true = y_true, y_pred = y_pred_default)"
   ]
  },
  {
   "cell_type": "code",
   "execution_count": 35,
   "id": "081964c3",
   "metadata": {
    "execution": {
     "iopub.execute_input": "2025-08-05T15:54:44.427931Z",
     "iopub.status.busy": "2025-08-05T15:54:44.427583Z",
     "iopub.status.idle": "2025-08-05T15:54:44.594737Z",
     "shell.execute_reply": "2025-08-05T15:54:44.593834Z"
    },
    "papermill": {
     "duration": 0.179839,
     "end_time": "2025-08-05T15:54:44.596332",
     "exception": false,
     "start_time": "2025-08-05T15:54:44.416493",
     "status": "completed"
    },
    "tags": []
   },
   "outputs": [
    {
     "data": {
      "text/plain": [
       "array([0, 0, 0, ..., 0, 0, 0])"
      ]
     },
     "execution_count": 35,
     "metadata": {},
     "output_type": "execute_result"
    }
   ],
   "source": [
    "model.predict(X_test)"
   ]
  },
  {
   "cell_type": "markdown",
   "id": "56c9705b",
   "metadata": {
    "papermill": {
     "duration": 0.020277,
     "end_time": "2025-08-05T15:54:44.628438",
     "exception": false,
     "start_time": "2025-08-05T15:54:44.608161",
     "status": "completed"
    },
    "tags": []
   },
   "source": [
    "# Conformal Prediction"
   ]
  },
  {
   "cell_type": "code",
   "execution_count": 36,
   "id": "160ec6ff",
   "metadata": {
    "execution": {
     "iopub.execute_input": "2025-08-05T15:54:44.673569Z",
     "iopub.status.busy": "2025-08-05T15:54:44.673023Z",
     "iopub.status.idle": "2025-08-05T15:54:44.679454Z",
     "shell.execute_reply": "2025-08-05T15:54:44.678279Z"
    },
    "papermill": {
     "duration": 0.03119,
     "end_time": "2025-08-05T15:54:44.681555",
     "exception": false,
     "start_time": "2025-08-05T15:54:44.650365",
     "status": "completed"
    },
    "tags": []
   },
   "outputs": [],
   "source": [
    "# Miscoverage level for conformal prediction (10% allowed error rate => 90% target coverage)\n",
    "alpha = 0.1"
   ]
  },
  {
   "cell_type": "code",
   "execution_count": 37,
   "id": "eadf4555-3dd3-440e-8e35-f82a4ad9f855",
   "metadata": {
    "execution": {
     "iopub.execute_input": "2025-08-05T15:54:44.730707Z",
     "iopub.status.busy": "2025-08-05T15:54:44.729790Z",
     "iopub.status.idle": "2025-08-05T15:54:44.972275Z",
     "shell.execute_reply": "2025-08-05T15:54:44.971230Z"
    },
    "papermill": {
     "duration": 0.26966,
     "end_time": "2025-08-05T15:54:44.974003",
     "exception": false,
     "start_time": "2025-08-05T15:54:44.704343",
     "status": "completed"
    },
    "tags": []
   },
   "outputs": [],
   "source": [
    "probs_calib = model.predict_proba(X_calib)"
   ]
  },
  {
   "cell_type": "code",
   "execution_count": 38,
   "id": "2ed93547-6d5d-4983-9b36-1ecb300da49a",
   "metadata": {
    "execution": {
     "iopub.execute_input": "2025-08-05T15:54:45.015963Z",
     "iopub.status.busy": "2025-08-05T15:54:45.015032Z",
     "iopub.status.idle": "2025-08-05T15:54:45.022177Z",
     "shell.execute_reply": "2025-08-05T15:54:45.020527Z"
    },
    "papermill": {
     "duration": 0.031099,
     "end_time": "2025-08-05T15:54:45.024499",
     "exception": false,
     "start_time": "2025-08-05T15:54:44.993400",
     "status": "completed"
    },
    "tags": []
   },
   "outputs": [],
   "source": [
    "y_calib = y_calib.values.ravel().astype(int)"
   ]
  },
  {
   "cell_type": "code",
   "execution_count": 39,
   "id": "65d1320d-f588-4b38-9072-62af1ae97f7d",
   "metadata": {
    "execution": {
     "iopub.execute_input": "2025-08-05T15:54:45.079273Z",
     "iopub.status.busy": "2025-08-05T15:54:45.078437Z",
     "iopub.status.idle": "2025-08-05T15:54:45.088759Z",
     "shell.execute_reply": "2025-08-05T15:54:45.087717Z"
    },
    "papermill": {
     "duration": 0.040058,
     "end_time": "2025-08-05T15:54:45.091081",
     "exception": false,
     "start_time": "2025-08-05T15:54:45.051023",
     "status": "completed"
    },
    "tags": []
   },
   "outputs": [],
   "source": [
    "from fairness_multiverse.conformal import compute_nc_scores\n",
    "\n",
    "# Compute nonconformity scores on calibration set (1 - probability of true class)\n",
    "nc_scores = compute_nc_scores(probs_calib, y_calib)"
   ]
  },
  {
   "cell_type": "code",
   "execution_count": 40,
   "id": "df3b8ca3-53b7-43d5-9667-7c85da7aeda2",
   "metadata": {
    "execution": {
     "iopub.execute_input": "2025-08-05T15:54:45.145631Z",
     "iopub.status.busy": "2025-08-05T15:54:45.144866Z",
     "iopub.status.idle": "2025-08-05T15:54:45.152490Z",
     "shell.execute_reply": "2025-08-05T15:54:45.151388Z"
    },
    "papermill": {
     "duration": 0.037216,
     "end_time": "2025-08-05T15:54:45.154582",
     "exception": false,
     "start_time": "2025-08-05T15:54:45.117366",
     "status": "completed"
    },
    "tags": []
   },
   "outputs": [],
   "source": [
    "from fairness_multiverse.conformal import find_threshold\n",
    "\n",
    "# Find conformal threshold q_hat for the given alpha (split conformal method)\n",
    "q_hat = find_threshold(nc_scores, alpha)"
   ]
  },
  {
   "cell_type": "code",
   "execution_count": 41,
   "id": "4d29e6c1-0ef6-4aa4-b8fe-4fe79b0d033a",
   "metadata": {
    "execution": {
     "iopub.execute_input": "2025-08-05T15:54:45.212359Z",
     "iopub.status.busy": "2025-08-05T15:54:45.211631Z",
     "iopub.status.idle": "2025-08-05T15:54:45.220400Z",
     "shell.execute_reply": "2025-08-05T15:54:45.219147Z"
    },
    "papermill": {
     "duration": 0.039825,
     "end_time": "2025-08-05T15:54:45.222613",
     "exception": false,
     "start_time": "2025-08-05T15:54:45.182788",
     "status": "completed"
    },
    "tags": []
   },
   "outputs": [
    {
     "data": {
      "text/plain": [
       "0.6923700822381602"
      ]
     },
     "execution_count": 41,
     "metadata": {},
     "output_type": "execute_result"
    }
   ],
   "source": [
    "q_hat"
   ]
  },
  {
   "cell_type": "code",
   "execution_count": 42,
   "id": "92460794-cdac-4be2-ba28-f28c0515a6fb",
   "metadata": {
    "execution": {
     "iopub.execute_input": "2025-08-05T15:54:45.286027Z",
     "iopub.status.busy": "2025-08-05T15:54:45.285097Z",
     "iopub.status.idle": "2025-08-05T15:54:46.617673Z",
     "shell.execute_reply": "2025-08-05T15:54:46.616869Z"
    },
    "papermill": {
     "duration": 1.365791,
     "end_time": "2025-08-05T15:54:46.619193",
     "exception": false,
     "start_time": "2025-08-05T15:54:45.253402",
     "status": "completed"
    },
    "tags": []
   },
   "outputs": [],
   "source": [
    "from fairness_multiverse.conformal import predict_conformal_sets\n",
    "\n",
    "# Generate prediction sets for each test example\n",
    "pred_sets = predict_conformal_sets(model, X_test, q_hat)"
   ]
  },
  {
   "cell_type": "code",
   "execution_count": 43,
   "id": "d90c9a65-e6db-4f5d-80cd-e68fb7e46829",
   "metadata": {
    "execution": {
     "iopub.execute_input": "2025-08-05T15:54:46.647405Z",
     "iopub.status.busy": "2025-08-05T15:54:46.646753Z",
     "iopub.status.idle": "2025-08-05T15:54:46.651992Z",
     "shell.execute_reply": "2025-08-05T15:54:46.651137Z"
    },
    "papermill": {
     "duration": 0.020314,
     "end_time": "2025-08-05T15:54:46.653509",
     "exception": false,
     "start_time": "2025-08-05T15:54:46.633195",
     "status": "completed"
    },
    "tags": []
   },
   "outputs": [],
   "source": [
    "y_true = y_true.squeeze()"
   ]
  },
  {
   "cell_type": "code",
   "execution_count": 44,
   "id": "3a58a54a-1e68-46b9-927a-df01f18aebc8",
   "metadata": {
    "execution": {
     "iopub.execute_input": "2025-08-05T15:54:46.679525Z",
     "iopub.status.busy": "2025-08-05T15:54:46.679007Z",
     "iopub.status.idle": "2025-08-05T15:54:47.671291Z",
     "shell.execute_reply": "2025-08-05T15:54:47.670541Z"
    },
    "papermill": {
     "duration": 1.006432,
     "end_time": "2025-08-05T15:54:47.672651",
     "exception": false,
     "start_time": "2025-08-05T15:54:46.666219",
     "status": "completed"
    },
    "tags": []
   },
   "outputs": [],
   "source": [
    "from fairness_multiverse.conformal import evaluate_sets\n",
    "\n",
    "# Evaluate coverage and average set size on test data\n",
    "metrics = evaluate_sets(pred_sets, y_true)"
   ]
  },
  {
   "cell_type": "markdown",
   "id": "2b569c12-9aaa-4c88-98c9-bbcd0cf3ebb8",
   "metadata": {
    "papermill": {
     "duration": 0.020019,
     "end_time": "2025-08-05T15:54:47.704500",
     "exception": false,
     "start_time": "2025-08-05T15:54:47.684481",
     "status": "completed"
    },
    "tags": []
   },
   "source": [
    "# CP Metrics"
   ]
  },
  {
   "cell_type": "code",
   "execution_count": 45,
   "id": "5ce0a5cb-201f-45a0-ade5-94c7f0bd6095",
   "metadata": {
    "execution": {
     "iopub.execute_input": "2025-08-05T15:54:47.769470Z",
     "iopub.status.busy": "2025-08-05T15:54:47.768783Z",
     "iopub.status.idle": "2025-08-05T15:54:47.779250Z",
     "shell.execute_reply": "2025-08-05T15:54:47.777854Z"
    },
    "papermill": {
     "duration": 0.046169,
     "end_time": "2025-08-05T15:54:47.781182",
     "exception": false,
     "start_time": "2025-08-05T15:54:47.735013",
     "status": "completed"
    },
    "tags": []
   },
   "outputs": [
    {
     "data": {
      "text/plain": [
       "{'coverage': 0.9102441199420355, 'avg_size': 1.1482889309998885}"
      ]
     },
     "execution_count": 45,
     "metadata": {},
     "output_type": "execute_result"
    }
   ],
   "source": [
    "metrics"
   ]
  },
  {
   "cell_type": "code",
   "execution_count": 46,
   "id": "9b9a838d-31c9-430b-ae14-12baee460d17",
   "metadata": {
    "execution": {
     "iopub.execute_input": "2025-08-05T15:54:47.831847Z",
     "iopub.status.busy": "2025-08-05T15:54:47.830919Z",
     "iopub.status.idle": "2025-08-05T15:54:47.838259Z",
     "shell.execute_reply": "2025-08-05T15:54:47.837021Z"
    },
    "papermill": {
     "duration": 0.034063,
     "end_time": "2025-08-05T15:54:47.840543",
     "exception": false,
     "start_time": "2025-08-05T15:54:47.806480",
     "status": "completed"
    },
    "tags": []
   },
   "outputs": [],
   "source": [
    "example_universe = universe.copy()\n",
    "universe_training_year = example_universe.get(\"training_year\")\n",
    "universe_training_size = example_universe.get(\"training_size\")\n",
    "universe_scale = example_universe.get(\"scale\")\n",
    "universe_model = example_universe.get(\"model\")\n",
    "universe_exclude_features = example_universe.get(\"exclude_features\")\n",
    "universe_exclude_subgroups = example_universe.get(\"exclude_subgroups\")"
   ]
  },
  {
   "cell_type": "code",
   "execution_count": 47,
   "id": "f4b6a8ac-9dc0-4245-8a91-5b3b5999c4f9",
   "metadata": {
    "execution": {
     "iopub.execute_input": "2025-08-05T15:54:47.901583Z",
     "iopub.status.busy": "2025-08-05T15:54:47.900791Z",
     "iopub.status.idle": "2025-08-05T15:54:47.908271Z",
     "shell.execute_reply": "2025-08-05T15:54:47.907062Z"
    },
    "papermill": {
     "duration": 0.041008,
     "end_time": "2025-08-05T15:54:47.910483",
     "exception": false,
     "start_time": "2025-08-05T15:54:47.869475",
     "status": "completed"
    },
    "tags": []
   },
   "outputs": [],
   "source": [
    "cp_metrics_dict = {\n",
    "    \"universe_id\": [universe_id],\n",
    "    \"universe_training_year\": [universe_training_year],\n",
    "    \"universe_training_size\": [universe_training_size],\n",
    "    \"universe_scale\": [universe_scale],\n",
    "    \"universe_model\": [universe_model],\n",
    "    \"universe_exclude_features\": [universe_exclude_features],\n",
    "    \"universe_exclude_subgroups\": [universe_exclude_subgroups],\n",
    "    \"q_hat\": [q_hat],\n",
    "    \"coverage\": [metrics[\"coverage\"]],\n",
    "    \"avg_size\": [metrics[\"avg_size\"]],\n",
    "}"
   ]
  },
  {
   "cell_type": "code",
   "execution_count": 48,
   "id": "908acbb1-0371-4915-85ca-3fa520d2efe2",
   "metadata": {
    "execution": {
     "iopub.execute_input": "2025-08-05T15:54:47.959900Z",
     "iopub.status.busy": "2025-08-05T15:54:47.959237Z",
     "iopub.status.idle": "2025-08-05T15:54:47.966982Z",
     "shell.execute_reply": "2025-08-05T15:54:47.965986Z"
    },
    "papermill": {
     "duration": 0.033518,
     "end_time": "2025-08-05T15:54:47.969423",
     "exception": false,
     "start_time": "2025-08-05T15:54:47.935905",
     "status": "completed"
    },
    "tags": []
   },
   "outputs": [
    {
     "data": {
      "text/plain": [
       "{'universe_id': ['064ad2a4fafecedfb5ce6b011e980f60'],\n",
       " 'universe_training_year': ['2010_14'],\n",
       " 'universe_training_size': ['5k'],\n",
       " 'universe_scale': ['scale'],\n",
       " 'universe_model': ['elasticnet'],\n",
       " 'universe_exclude_features': ['age'],\n",
       " 'universe_exclude_subgroups': ['drop-non-german'],\n",
       " 'q_hat': [0.6923700822381602],\n",
       " 'coverage': [0.9102441199420355],\n",
       " 'avg_size': [1.1482889309998885]}"
      ]
     },
     "execution_count": 48,
     "metadata": {},
     "output_type": "execute_result"
    }
   ],
   "source": [
    "cp_metrics_dict"
   ]
  },
  {
   "cell_type": "code",
   "execution_count": 49,
   "id": "33007efc-14e9-4ec6-97ac-56a455c82265",
   "metadata": {
    "execution": {
     "iopub.execute_input": "2025-08-05T15:54:48.013936Z",
     "iopub.status.busy": "2025-08-05T15:54:48.013325Z",
     "iopub.status.idle": "2025-08-05T15:54:48.020057Z",
     "shell.execute_reply": "2025-08-05T15:54:48.018762Z"
    },
    "papermill": {
     "duration": 0.030224,
     "end_time": "2025-08-05T15:54:48.021711",
     "exception": false,
     "start_time": "2025-08-05T15:54:47.991487",
     "status": "completed"
    },
    "tags": []
   },
   "outputs": [],
   "source": [
    "cp_metrics_df = pd.DataFrame(cp_metrics_dict)"
   ]
  },
  {
   "cell_type": "code",
   "execution_count": 50,
   "id": "db12611b-57b2-4910-b9d0-355adfd6e7bf",
   "metadata": {
    "execution": {
     "iopub.execute_input": "2025-08-05T15:54:48.048776Z",
     "iopub.status.busy": "2025-08-05T15:54:48.048366Z",
     "iopub.status.idle": "2025-08-05T15:54:48.081212Z",
     "shell.execute_reply": "2025-08-05T15:54:48.079921Z"
    },
    "papermill": {
     "duration": 0.047466,
     "end_time": "2025-08-05T15:54:48.083109",
     "exception": false,
     "start_time": "2025-08-05T15:54:48.035643",
     "status": "completed"
    },
    "tags": []
   },
   "outputs": [
    {
     "data": {
      "text/html": [
       "<div>\n",
       "<style scoped>\n",
       "    .dataframe tbody tr th:only-of-type {\n",
       "        vertical-align: middle;\n",
       "    }\n",
       "\n",
       "    .dataframe tbody tr th {\n",
       "        vertical-align: top;\n",
       "    }\n",
       "\n",
       "    .dataframe thead th {\n",
       "        text-align: right;\n",
       "    }\n",
       "</style>\n",
       "<table border=\"1\" class=\"dataframe\">\n",
       "  <thead>\n",
       "    <tr style=\"text-align: right;\">\n",
       "      <th></th>\n",
       "      <th>universe_id</th>\n",
       "      <th>universe_training_year</th>\n",
       "      <th>universe_training_size</th>\n",
       "      <th>universe_scale</th>\n",
       "      <th>universe_model</th>\n",
       "      <th>universe_exclude_features</th>\n",
       "      <th>universe_exclude_subgroups</th>\n",
       "      <th>q_hat</th>\n",
       "      <th>coverage</th>\n",
       "      <th>avg_size</th>\n",
       "    </tr>\n",
       "  </thead>\n",
       "  <tbody>\n",
       "    <tr>\n",
       "      <th>0</th>\n",
       "      <td>064ad2a4fafecedfb5ce6b011e980f60</td>\n",
       "      <td>2010_14</td>\n",
       "      <td>5k</td>\n",
       "      <td>scale</td>\n",
       "      <td>elasticnet</td>\n",
       "      <td>age</td>\n",
       "      <td>drop-non-german</td>\n",
       "      <td>0.69237</td>\n",
       "      <td>0.910244</td>\n",
       "      <td>1.148289</td>\n",
       "    </tr>\n",
       "  </tbody>\n",
       "</table>\n",
       "</div>"
      ],
      "text/plain": [
       "                        universe_id universe_training_year  \\\n",
       "0  064ad2a4fafecedfb5ce6b011e980f60                2010_14   \n",
       "\n",
       "  universe_training_size universe_scale universe_model  \\\n",
       "0                     5k          scale     elasticnet   \n",
       "\n",
       "  universe_exclude_features universe_exclude_subgroups    q_hat  coverage  \\\n",
       "0                       age            drop-non-german  0.69237  0.910244   \n",
       "\n",
       "   avg_size  \n",
       "0  1.148289  "
      ]
     },
     "execution_count": 50,
     "metadata": {},
     "output_type": "execute_result"
    }
   ],
   "source": [
    "cp_metrics_df"
   ]
  },
  {
   "cell_type": "code",
   "execution_count": 51,
   "id": "b7fbde55-a0a1-47e4-9af6-fe4a17fa8c61",
   "metadata": {
    "execution": {
     "iopub.execute_input": "2025-08-05T15:54:48.135424Z",
     "iopub.status.busy": "2025-08-05T15:54:48.134942Z",
     "iopub.status.idle": "2025-08-05T15:54:48.140030Z",
     "shell.execute_reply": "2025-08-05T15:54:48.139031Z"
    },
    "papermill": {
     "duration": 0.030653,
     "end_time": "2025-08-05T15:54:48.141883",
     "exception": false,
     "start_time": "2025-08-05T15:54:48.111230",
     "status": "completed"
    },
    "tags": []
   },
   "outputs": [],
   "source": [
    "# Conditional Coverage & looking at subgroups"
   ]
  },
  {
   "cell_type": "code",
   "execution_count": 52,
   "id": "027ae886-68dd-4141-96c7-805a5450e1ef",
   "metadata": {
    "execution": {
     "iopub.execute_input": "2025-08-05T15:54:48.176396Z",
     "iopub.status.busy": "2025-08-05T15:54:48.175965Z",
     "iopub.status.idle": "2025-08-05T15:54:48.450552Z",
     "shell.execute_reply": "2025-08-05T15:54:48.449505Z"
    },
    "papermill": {
     "duration": 0.289891,
     "end_time": "2025-08-05T15:54:48.452581",
     "exception": false,
     "start_time": "2025-08-05T15:54:48.162690",
     "status": "completed"
    },
    "tags": []
   },
   "outputs": [],
   "source": [
    "from fairness_multiverse.conformal import build_cp_groups\n",
    "\n",
    "cp_groups_df = build_cp_groups(pred_sets, y_true, X_test.index, org_test)\n",
    "#needs universe_id and setting"
   ]
  },
  {
   "cell_type": "code",
   "execution_count": 53,
   "id": "6cbdab96-b2b2-45af-ad54-d0516db2e28d",
   "metadata": {
    "execution": {
     "iopub.execute_input": "2025-08-05T15:54:48.501492Z",
     "iopub.status.busy": "2025-08-05T15:54:48.501007Z",
     "iopub.status.idle": "2025-08-05T15:54:50.445108Z",
     "shell.execute_reply": "2025-08-05T15:54:50.444027Z"
    },
    "papermill": {
     "duration": 1.971991,
     "end_time": "2025-08-05T15:54:50.447258",
     "exception": false,
     "start_time": "2025-08-05T15:54:48.475267",
     "status": "completed"
    },
    "tags": []
   },
   "outputs": [],
   "source": [
    "# Define covered = 1 if true_label is in the predicted set\n",
    "cp_groups_df['covered'] = cp_groups_df.apply(\n",
    "    lambda r: int(r['true_label'] in r['pred_set']),\n",
    "    axis=1\n",
    ")"
   ]
  },
  {
   "cell_type": "code",
   "execution_count": 54,
   "id": "338ff529-1a6b-4b87-a931-8e4788d52aad",
   "metadata": {
    "execution": {
     "iopub.execute_input": "2025-08-05T15:54:50.501369Z",
     "iopub.status.busy": "2025-08-05T15:54:50.500864Z",
     "iopub.status.idle": "2025-08-05T15:54:50.506712Z",
     "shell.execute_reply": "2025-08-05T15:54:50.505597Z"
    },
    "papermill": {
     "duration": 0.032951,
     "end_time": "2025-08-05T15:54:50.508607",
     "exception": false,
     "start_time": "2025-08-05T15:54:50.475656",
     "status": "completed"
    },
    "tags": []
   },
   "outputs": [],
   "source": [
    "#cp_groups_df"
   ]
  },
  {
   "cell_type": "code",
   "execution_count": 55,
   "id": "90032e27-66df-4540-9169-4e89cfbaa758",
   "metadata": {
    "execution": {
     "iopub.execute_input": "2025-08-05T15:54:50.560979Z",
     "iopub.status.busy": "2025-08-05T15:54:50.560180Z",
     "iopub.status.idle": "2025-08-05T15:54:50.572432Z",
     "shell.execute_reply": "2025-08-05T15:54:50.571369Z"
    },
    "papermill": {
     "duration": 0.039901,
     "end_time": "2025-08-05T15:54:50.574355",
     "exception": false,
     "start_time": "2025-08-05T15:54:50.534454",
     "status": "completed"
    },
    "tags": []
   },
   "outputs": [],
   "source": [
    "subgroups = ['frau1','nongerman','nongerman_male','nongerman_female']\n",
    "\n",
    "# Conditional coverage for subgroup==1\n",
    "cond_coverage = {\n",
    "    g: cp_groups_df.loc[cp_groups_df[g]==1, 'covered'].mean()\n",
    "    for g in subgroups\n",
    "}"
   ]
  },
  {
   "cell_type": "code",
   "execution_count": 56,
   "id": "1e348fb1-b9c3-45bc-ba23-f016827a7e0d",
   "metadata": {
    "execution": {
     "iopub.execute_input": "2025-08-05T15:54:50.629119Z",
     "iopub.status.busy": "2025-08-05T15:54:50.628425Z",
     "iopub.status.idle": "2025-08-05T15:54:50.637102Z",
     "shell.execute_reply": "2025-08-05T15:54:50.635995Z"
    },
    "papermill": {
     "duration": 0.037922,
     "end_time": "2025-08-05T15:54:50.639044",
     "exception": false,
     "start_time": "2025-08-05T15:54:50.601122",
     "status": "completed"
    },
    "tags": []
   },
   "outputs": [
    {
     "data": {
      "text/plain": [
       "{'frau1': 0.9073729613155411,\n",
       " 'nongerman': 0.9079885476898895,\n",
       " 'nongerman_male': 0.924795100423309,\n",
       " 'nongerman_female': 0.8801788375558868}"
      ]
     },
     "execution_count": 56,
     "metadata": {},
     "output_type": "execute_result"
    }
   ],
   "source": [
    "cond_coverage"
   ]
  },
  {
   "cell_type": "code",
   "execution_count": 57,
   "id": "f5093324-c3dd-4d63-bc4c-8d945e5c8bbb",
   "metadata": {
    "execution": {
     "iopub.execute_input": "2025-08-05T15:54:50.695596Z",
     "iopub.status.busy": "2025-08-05T15:54:50.694565Z",
     "iopub.status.idle": "2025-08-05T15:54:50.702674Z",
     "shell.execute_reply": "2025-08-05T15:54:50.701467Z"
    },
    "papermill": {
     "duration": 0.03784,
     "end_time": "2025-08-05T15:54:50.704742",
     "exception": false,
     "start_time": "2025-08-05T15:54:50.666902",
     "status": "completed"
    },
    "tags": []
   },
   "outputs": [],
   "source": [
    "for subgroup, cov in cond_coverage.items():\n",
    "    cp_metrics_df[f\"cov_{subgroup}\"] = cov"
   ]
  },
  {
   "cell_type": "code",
   "execution_count": 58,
   "id": "6e872e10-dbe5-49e8-b554-5030c98ff75d",
   "metadata": {
    "execution": {
     "iopub.execute_input": "2025-08-05T15:54:50.761150Z",
     "iopub.status.busy": "2025-08-05T15:54:50.760412Z",
     "iopub.status.idle": "2025-08-05T15:54:50.781896Z",
     "shell.execute_reply": "2025-08-05T15:54:50.780787Z"
    },
    "papermill": {
     "duration": 0.052297,
     "end_time": "2025-08-05T15:54:50.783794",
     "exception": false,
     "start_time": "2025-08-05T15:54:50.731497",
     "status": "completed"
    },
    "tags": []
   },
   "outputs": [
    {
     "data": {
      "text/html": [
       "<div>\n",
       "<style scoped>\n",
       "    .dataframe tbody tr th:only-of-type {\n",
       "        vertical-align: middle;\n",
       "    }\n",
       "\n",
       "    .dataframe tbody tr th {\n",
       "        vertical-align: top;\n",
       "    }\n",
       "\n",
       "    .dataframe thead th {\n",
       "        text-align: right;\n",
       "    }\n",
       "</style>\n",
       "<table border=\"1\" class=\"dataframe\">\n",
       "  <thead>\n",
       "    <tr style=\"text-align: right;\">\n",
       "      <th></th>\n",
       "      <th>universe_id</th>\n",
       "      <th>universe_training_year</th>\n",
       "      <th>universe_training_size</th>\n",
       "      <th>universe_scale</th>\n",
       "      <th>universe_model</th>\n",
       "      <th>universe_exclude_features</th>\n",
       "      <th>universe_exclude_subgroups</th>\n",
       "      <th>q_hat</th>\n",
       "      <th>coverage</th>\n",
       "      <th>avg_size</th>\n",
       "      <th>cov_frau1</th>\n",
       "      <th>cov_nongerman</th>\n",
       "      <th>cov_nongerman_male</th>\n",
       "      <th>cov_nongerman_female</th>\n",
       "    </tr>\n",
       "  </thead>\n",
       "  <tbody>\n",
       "    <tr>\n",
       "      <th>0</th>\n",
       "      <td>064ad2a4fafecedfb5ce6b011e980f60</td>\n",
       "      <td>2010_14</td>\n",
       "      <td>5k</td>\n",
       "      <td>scale</td>\n",
       "      <td>elasticnet</td>\n",
       "      <td>age</td>\n",
       "      <td>drop-non-german</td>\n",
       "      <td>0.69237</td>\n",
       "      <td>0.910244</td>\n",
       "      <td>1.148289</td>\n",
       "      <td>0.907373</td>\n",
       "      <td>0.907989</td>\n",
       "      <td>0.924795</td>\n",
       "      <td>0.880179</td>\n",
       "    </tr>\n",
       "  </tbody>\n",
       "</table>\n",
       "</div>"
      ],
      "text/plain": [
       "                        universe_id universe_training_year  \\\n",
       "0  064ad2a4fafecedfb5ce6b011e980f60                2010_14   \n",
       "\n",
       "  universe_training_size universe_scale universe_model  \\\n",
       "0                     5k          scale     elasticnet   \n",
       "\n",
       "  universe_exclude_features universe_exclude_subgroups    q_hat  coverage  \\\n",
       "0                       age            drop-non-german  0.69237  0.910244   \n",
       "\n",
       "   avg_size  cov_frau1  cov_nongerman  cov_nongerman_male  \\\n",
       "0  1.148289   0.907373       0.907989            0.924795   \n",
       "\n",
       "   cov_nongerman_female  \n",
       "0              0.880179  "
      ]
     },
     "execution_count": 58,
     "metadata": {},
     "output_type": "execute_result"
    }
   ],
   "source": [
    "cp_metrics_df"
   ]
  },
  {
   "cell_type": "markdown",
   "id": "33774451",
   "metadata": {
    "papermill": {
     "duration": 0.026132,
     "end_time": "2025-08-05T15:54:50.837925",
     "exception": false,
     "start_time": "2025-08-05T15:54:50.811793",
     "status": "completed"
    },
    "tags": []
   },
   "source": [
    "# (Fairness) Metrics"
   ]
  },
  {
   "cell_type": "code",
   "execution_count": 59,
   "id": "debc5d62",
   "metadata": {
    "execution": {
     "iopub.execute_input": "2025-08-05T15:54:50.895414Z",
     "iopub.status.busy": "2025-08-05T15:54:50.894913Z",
     "iopub.status.idle": "2025-08-05T15:54:50.916880Z",
     "shell.execute_reply": "2025-08-05T15:54:50.915729Z"
    },
    "papermill": {
     "duration": 0.054514,
     "end_time": "2025-08-05T15:54:50.919978",
     "exception": false,
     "start_time": "2025-08-05T15:54:50.865464",
     "status": "completed"
    },
    "tags": []
   },
   "outputs": [],
   "source": [
    "# do I need to include maxdeutsch1.missing?\n",
    "\n",
    "import numpy as np\n",
    "\n",
    "colname_to_bin = \"maxdeutsch1\"\n",
    "majority_value = org_train[colname_to_bin].mode()[0]\n",
    "\n",
    "org_test[\"majmin\"] = np.where(org_test[colname_to_bin] == majority_value, \"majority\", \"minority\")"
   ]
  },
  {
   "cell_type": "code",
   "execution_count": 60,
   "id": "06a50de5",
   "metadata": {
    "execution": {
     "iopub.execute_input": "2025-08-05T15:54:50.976722Z",
     "iopub.status.busy": "2025-08-05T15:54:50.976307Z",
     "iopub.status.idle": "2025-08-05T15:54:53.810820Z",
     "shell.execute_reply": "2025-08-05T15:54:53.809685Z"
    },
    "papermill": {
     "duration": 2.865102,
     "end_time": "2025-08-05T15:54:53.812934",
     "exception": false,
     "start_time": "2025-08-05T15:54:50.947832",
     "status": "completed"
    },
    "tags": []
   },
   "outputs": [],
   "source": [
    "example_universe = universe.copy()\n",
    "example_universe[\"cutoff\"] = example_universe[\"cutoff\"][0]\n",
    "example_universe[\"eval_fairness_grouping\"] = example_universe[\"eval_fairness_grouping\"][0]\n",
    "fairness_dict, metric_frame = universe_analysis.compute_metrics(\n",
    "    example_universe,\n",
    "    y_pred_prob=probs_test,\n",
    "    y_test=y_true,\n",
    "    org_test=org_test,\n",
    ")"
   ]
  },
  {
   "cell_type": "markdown",
   "id": "f95d4e02",
   "metadata": {
    "papermill": {
     "duration": 0.025017,
     "end_time": "2025-08-05T15:54:53.865595",
     "exception": false,
     "start_time": "2025-08-05T15:54:53.840578",
     "status": "completed"
    },
    "tags": []
   },
   "source": [
    "# Overall"
   ]
  },
  {
   "cell_type": "markdown",
   "id": "bdee4871",
   "metadata": {
    "papermill": {
     "duration": 0.024011,
     "end_time": "2025-08-05T15:54:53.913651",
     "exception": false,
     "start_time": "2025-08-05T15:54:53.889640",
     "status": "completed"
    },
    "tags": []
   },
   "source": [
    "Fairness\n",
    "Main fairness target: Equalized Odds. Seems to be a better fit than equal opportunity, since we're not only interested in Y = 1. Seems to be a better fit than demographic parity, since we also care about accuracy, not just equal distribution of preds.\n",
    "\n",
    "Pick column for computation of fairness metrics\n",
    "\n",
    "Performance\n",
    "Overall performance measures, most interesting in relation to the measures split by group below"
   ]
  },
  {
   "cell_type": "code",
   "execution_count": 61,
   "id": "c4e067c6",
   "metadata": {
    "execution": {
     "iopub.execute_input": "2025-08-05T15:54:53.966050Z",
     "iopub.status.busy": "2025-08-05T15:54:53.965375Z",
     "iopub.status.idle": "2025-08-05T15:54:53.974039Z",
     "shell.execute_reply": "2025-08-05T15:54:53.972854Z"
    },
    "papermill": {
     "duration": 0.03685,
     "end_time": "2025-08-05T15:54:53.975888",
     "exception": false,
     "start_time": "2025-08-05T15:54:53.939038",
     "status": "completed"
    },
    "tags": []
   },
   "outputs": [
    {
     "data": {
      "text/plain": [
       "accuracy                   0.222974\n",
       "balanced accuracy          0.545496\n",
       "f1                         0.244344\n",
       "precision                  0.139586\n",
       "false positive rate        0.888328\n",
       "false negative rate        0.020681\n",
       "selection rate             0.900000\n",
       "count                  89710.000000\n",
       "dtype: float64"
      ]
     },
     "execution_count": 61,
     "metadata": {},
     "output_type": "execute_result"
    }
   ],
   "source": [
    "metric_frame.overall"
   ]
  },
  {
   "cell_type": "markdown",
   "id": "e968fe9d",
   "metadata": {
    "papermill": {
     "duration": 0.024651,
     "end_time": "2025-08-05T15:54:54.025596",
     "exception": false,
     "start_time": "2025-08-05T15:54:54.000945",
     "status": "completed"
    },
    "tags": []
   },
   "source": [
    "By Group"
   ]
  },
  {
   "cell_type": "code",
   "execution_count": 62,
   "id": "ec325bce",
   "metadata": {
    "execution": {
     "iopub.execute_input": "2025-08-05T15:54:54.080388Z",
     "iopub.status.busy": "2025-08-05T15:54:54.079724Z",
     "iopub.status.idle": "2025-08-05T15:54:54.098082Z",
     "shell.execute_reply": "2025-08-05T15:54:54.096784Z"
    },
    "papermill": {
     "duration": 0.045481,
     "end_time": "2025-08-05T15:54:54.099665",
     "exception": false,
     "start_time": "2025-08-05T15:54:54.054184",
     "status": "completed"
    },
    "tags": []
   },
   "outputs": [
    {
     "data": {
      "text/html": [
       "<div>\n",
       "<style scoped>\n",
       "    .dataframe tbody tr th:only-of-type {\n",
       "        vertical-align: middle;\n",
       "    }\n",
       "\n",
       "    .dataframe tbody tr th {\n",
       "        vertical-align: top;\n",
       "    }\n",
       "\n",
       "    .dataframe thead th {\n",
       "        text-align: right;\n",
       "    }\n",
       "</style>\n",
       "<table border=\"1\" class=\"dataframe\">\n",
       "  <thead>\n",
       "    <tr style=\"text-align: right;\">\n",
       "      <th></th>\n",
       "      <th>accuracy</th>\n",
       "      <th>balanced accuracy</th>\n",
       "      <th>f1</th>\n",
       "      <th>precision</th>\n",
       "      <th>false positive rate</th>\n",
       "      <th>false negative rate</th>\n",
       "      <th>selection rate</th>\n",
       "      <th>count</th>\n",
       "    </tr>\n",
       "    <tr>\n",
       "      <th>majmin</th>\n",
       "      <th></th>\n",
       "      <th></th>\n",
       "      <th></th>\n",
       "      <th></th>\n",
       "      <th></th>\n",
       "      <th></th>\n",
       "      <th></th>\n",
       "      <th></th>\n",
       "    </tr>\n",
       "  </thead>\n",
       "  <tbody>\n",
       "    <tr>\n",
       "      <th>majority</th>\n",
       "      <td>0.242070</td>\n",
       "      <td>0.553782</td>\n",
       "      <td>0.254190</td>\n",
       "      <td>0.146090</td>\n",
       "      <td>0.869898</td>\n",
       "      <td>0.022538</td>\n",
       "      <td>0.884112</td>\n",
       "      <td>69170.0</td>\n",
       "    </tr>\n",
       "    <tr>\n",
       "      <th>minority</th>\n",
       "      <td>0.158666</td>\n",
       "      <td>0.518639</td>\n",
       "      <td>0.212818</td>\n",
       "      <td>0.119275</td>\n",
       "      <td>0.949208</td>\n",
       "      <td>0.013514</td>\n",
       "      <td>0.953505</td>\n",
       "      <td>20540.0</td>\n",
       "    </tr>\n",
       "  </tbody>\n",
       "</table>\n",
       "</div>"
      ],
      "text/plain": [
       "          accuracy  balanced accuracy        f1  precision  \\\n",
       "majmin                                                       \n",
       "majority  0.242070           0.553782  0.254190   0.146090   \n",
       "minority  0.158666           0.518639  0.212818   0.119275   \n",
       "\n",
       "          false positive rate  false negative rate  selection rate    count  \n",
       "majmin                                                                       \n",
       "majority             0.869898             0.022538        0.884112  69170.0  \n",
       "minority             0.949208             0.013514        0.953505  20540.0  "
      ]
     },
     "execution_count": 62,
     "metadata": {},
     "output_type": "execute_result"
    }
   ],
   "source": [
    "metric_frame.by_group"
   ]
  },
  {
   "cell_type": "code",
   "execution_count": 63,
   "id": "a9ddbe63",
   "metadata": {
    "execution": {
     "iopub.execute_input": "2025-08-05T15:54:54.147641Z",
     "iopub.status.busy": "2025-08-05T15:54:54.146985Z",
     "iopub.status.idle": "2025-08-05T15:54:56.367521Z",
     "shell.execute_reply": "2025-08-05T15:54:56.366469Z"
    },
    "papermill": {
     "duration": 2.246077,
     "end_time": "2025-08-05T15:54:56.369291",
     "exception": false,
     "start_time": "2025-08-05T15:54:54.123214",
     "status": "completed"
    },
    "tags": []
   },
   "outputs": [
    {
     "data": {
      "text/plain": [
       "array([[<Axes: title={'center': 'accuracy'}, xlabel='majmin'>,\n",
       "        <Axes: title={'center': 'balanced accuracy'}, xlabel='majmin'>,\n",
       "        <Axes: title={'center': 'f1'}, xlabel='majmin'>],\n",
       "       [<Axes: title={'center': 'precision'}, xlabel='majmin'>,\n",
       "        <Axes: title={'center': 'false positive rate'}, xlabel='majmin'>,\n",
       "        <Axes: title={'center': 'false negative rate'}, xlabel='majmin'>],\n",
       "       [<Axes: title={'center': 'selection rate'}, xlabel='majmin'>,\n",
       "        <Axes: title={'center': 'count'}, xlabel='majmin'>,\n",
       "        <Axes: xlabel='majmin'>]], dtype=object)"
      ]
     },
     "execution_count": 63,
     "metadata": {},
     "output_type": "execute_result"
    },
    {
     "data": {
      "image/png": "[encoded data removed]",
      "text/plain": [
       "<Figure size 1200x800 with 9 Axes>"
      ]
     },
     "metadata": {},
     "output_type": "display_data"
    }
   ],
   "source": [
    "# In a graphic\n",
    "metric_frame.by_group.plot.bar(\n",
    "    subplots=True,\n",
    "    layout=[3, 3],\n",
    "    legend=False,\n",
    "    figsize=[12, 8],\n",
    "    title=\"Show all metrics\",\n",
    ")"
   ]
  },
  {
   "cell_type": "markdown",
   "id": "f57a0bac",
   "metadata": {
    "papermill": {
     "duration": 0.023921,
     "end_time": "2025-08-05T15:54:56.417511",
     "exception": false,
     "start_time": "2025-08-05T15:54:56.393590",
     "status": "completed"
    },
    "tags": []
   },
   "source": [
    "# Final Output"
   ]
  },
  {
   "cell_type": "code",
   "execution_count": 64,
   "id": "96d280a3",
   "metadata": {
    "execution": {
     "iopub.execute_input": "2025-08-05T15:54:56.470389Z",
     "iopub.status.busy": "2025-08-05T15:54:56.469223Z",
     "iopub.status.idle": "2025-08-05T15:54:56.478287Z",
     "shell.execute_reply": "2025-08-05T15:54:56.477171Z"
    },
    "papermill": {
     "duration": 0.037618,
     "end_time": "2025-08-05T15:54:56.479815",
     "exception": false,
     "start_time": "2025-08-05T15:54:56.442197",
     "status": "completed"
    },
    "tags": []
   },
   "outputs": [
    {
     "data": {
      "text/plain": [
       "4"
      ]
     },
     "execution_count": 64,
     "metadata": {},
     "output_type": "execute_result"
    }
   ],
   "source": [
    "sub_universes = universe_analysis.generate_sub_universes()\n",
    "len(sub_universes)"
   ]
  },
  {
   "cell_type": "code",
   "execution_count": 65,
   "id": "92adf7ba",
   "metadata": {
    "execution": {
     "iopub.execute_input": "2025-08-05T15:54:56.541939Z",
     "iopub.status.busy": "2025-08-05T15:54:56.540809Z",
     "iopub.status.idle": "2025-08-05T15:54:56.548234Z",
     "shell.execute_reply": "2025-08-05T15:54:56.547057Z"
    },
    "papermill": {
     "duration": 0.042384,
     "end_time": "2025-08-05T15:54:56.550232",
     "exception": false,
     "start_time": "2025-08-05T15:54:56.507848",
     "status": "completed"
    },
    "tags": []
   },
   "outputs": [],
   "source": [
    "def filter_sub_universe_data(sub_universe, org_test):\n",
    "    # Keep all rows — no filtering\n",
    "    keep_rows_mask = np.ones(org_test.shape[0], dtype=bool)\n",
    "\n",
    "    print(f\"[INFO] Keeping all rows: {keep_rows_mask.sum()} rows retained.\")\n",
    "    return keep_rows_mask"
   ]
  },
  {
   "cell_type": "code",
   "execution_count": 66,
   "id": "4a759155",
   "metadata": {
    "execution": {
     "iopub.execute_input": "2025-08-05T15:54:56.615744Z",
     "iopub.status.busy": "2025-08-05T15:54:56.615015Z",
     "iopub.status.idle": "2025-08-05T15:55:03.422749Z",
     "shell.execute_reply": "2025-08-05T15:55:03.421980Z"
    },
    "papermill": {
     "duration": 6.839497,
     "end_time": "2025-08-05T15:55:03.423900",
     "exception": false,
     "start_time": "2025-08-05T15:54:56.584403",
     "status": "completed"
    },
    "tags": []
   },
   "outputs": [
    {
     "name": "stdout",
     "output_type": "stream",
     "text": [
      "Stopping execution_time clock.\n",
      "[INFO] Keeping all rows: 89710 rows retained.\n"
     ]
    },
    {
     "name": "stdout",
     "output_type": "stream",
     "text": [
      "[INFO] Keeping all rows: 89710 rows retained.\n"
     ]
    },
    {
     "name": "stdout",
     "output_type": "stream",
     "text": [
      "[INFO] Keeping all rows: 89710 rows retained.\n"
     ]
    },
    {
     "name": "stdout",
     "output_type": "stream",
     "text": [
      "[INFO] Keeping all rows: 89710 rows retained.\n"
     ]
    },
    {
     "data": {
      "text/html": [
       "<div>\n",
       "<style scoped>\n",
       "    .dataframe tbody tr th:only-of-type {\n",
       "        vertical-align: middle;\n",
       "    }\n",
       "\n",
       "    .dataframe tbody tr th {\n",
       "        vertical-align: top;\n",
       "    }\n",
       "\n",
       "    .dataframe thead th {\n",
       "        text-align: right;\n",
       "    }\n",
       "</style>\n",
       "<table border=\"1\" class=\"dataframe\">\n",
       "  <thead>\n",
       "    <tr style=\"text-align: right;\">\n",
       "      <th></th>\n",
       "      <th>run_no</th>\n",
       "      <th>universe_id</th>\n",
       "      <th>universe_settings</th>\n",
       "      <th>execution_time</th>\n",
       "      <th>test_size_n</th>\n",
       "      <th>test_size_frac</th>\n",
       "      <th>fair_main_equalized_odds_difference</th>\n",
       "      <th>fair_main_equalized_odds_ratio</th>\n",
       "      <th>fair_main_demographic_parity_difference</th>\n",
       "      <th>fair_main_demographic_parity_ratio</th>\n",
       "      <th>...</th>\n",
       "      <th>perf_grp_precision_0</th>\n",
       "      <th>perf_grp_precision_1</th>\n",
       "      <th>perf_grp_false positive rate_0</th>\n",
       "      <th>perf_grp_false positive rate_1</th>\n",
       "      <th>perf_grp_false negative rate_0</th>\n",
       "      <th>perf_grp_false negative rate_1</th>\n",
       "      <th>perf_grp_selection rate_0</th>\n",
       "      <th>perf_grp_selection rate_1</th>\n",
       "      <th>perf_grp_count_0</th>\n",
       "      <th>perf_grp_count_1</th>\n",
       "    </tr>\n",
       "  </thead>\n",
       "  <tbody>\n",
       "    <tr>\n",
       "      <th>0</th>\n",
       "      <td>15</td>\n",
       "      <td>064ad2a4fafecedfb5ce6b011e980f60</td>\n",
       "      <td>{\"cutoff\": \"quantile_0.1\", \"eval_fairness_grou...</td>\n",
       "      <td>26.987755</td>\n",
       "      <td>89710</td>\n",
       "      <td>1.0</td>\n",
       "      <td>0.079309</td>\n",
       "      <td>0.916447</td>\n",
       "      <td>0.069394</td>\n",
       "      <td>0.927222</td>\n",
       "      <td>...</td>\n",
       "      <td>NaN</td>\n",
       "      <td>NaN</td>\n",
       "      <td>NaN</td>\n",
       "      <td>NaN</td>\n",
       "      <td>NaN</td>\n",
       "      <td>NaN</td>\n",
       "      <td>NaN</td>\n",
       "      <td>NaN</td>\n",
       "      <td>NaN</td>\n",
       "      <td>NaN</td>\n",
       "    </tr>\n",
       "    <tr>\n",
       "      <th>0</th>\n",
       "      <td>15</td>\n",
       "      <td>064ad2a4fafecedfb5ce6b011e980f60</td>\n",
       "      <td>{\"cutoff\": \"quantile_0.1\", \"eval_fairness_grou...</td>\n",
       "      <td>26.987755</td>\n",
       "      <td>89710</td>\n",
       "      <td>1.0</td>\n",
       "      <td>0.079309</td>\n",
       "      <td>0.916447</td>\n",
       "      <td>0.069394</td>\n",
       "      <td>0.927222</td>\n",
       "      <td>...</td>\n",
       "      <td>0.119275</td>\n",
       "      <td>0.146090</td>\n",
       "      <td>0.949208</td>\n",
       "      <td>0.869898</td>\n",
       "      <td>0.013514</td>\n",
       "      <td>0.022538</td>\n",
       "      <td>0.953505</td>\n",
       "      <td>0.884112</td>\n",
       "      <td>20540.0</td>\n",
       "      <td>69170.0</td>\n",
       "    </tr>\n",
       "    <tr>\n",
       "      <th>0</th>\n",
       "      <td>15</td>\n",
       "      <td>064ad2a4fafecedfb5ce6b011e980f60</td>\n",
       "      <td>{\"cutoff\": \"quantile_0.25\", \"eval_fairness_gro...</td>\n",
       "      <td>26.987755</td>\n",
       "      <td>89710</td>\n",
       "      <td>1.0</td>\n",
       "      <td>0.171872</td>\n",
       "      <td>0.799108</td>\n",
       "      <td>0.150413</td>\n",
       "      <td>0.826307</td>\n",
       "      <td>...</td>\n",
       "      <td>NaN</td>\n",
       "      <td>NaN</td>\n",
       "      <td>NaN</td>\n",
       "      <td>NaN</td>\n",
       "      <td>NaN</td>\n",
       "      <td>NaN</td>\n",
       "      <td>NaN</td>\n",
       "      <td>NaN</td>\n",
       "      <td>NaN</td>\n",
       "      <td>NaN</td>\n",
       "    </tr>\n",
       "    <tr>\n",
       "      <th>0</th>\n",
       "      <td>15</td>\n",
       "      <td>064ad2a4fafecedfb5ce6b011e980f60</td>\n",
       "      <td>{\"cutoff\": \"quantile_0.25\", \"eval_fairness_gro...</td>\n",
       "      <td>26.987755</td>\n",
       "      <td>89710</td>\n",
       "      <td>1.0</td>\n",
       "      <td>0.171872</td>\n",
       "      <td>0.799108</td>\n",
       "      <td>0.150413</td>\n",
       "      <td>0.826307</td>\n",
       "      <td>...</td>\n",
       "      <td>0.125935</td>\n",
       "      <td>0.170805</td>\n",
       "      <td>0.855547</td>\n",
       "      <td>0.683675</td>\n",
       "      <td>0.054054</td>\n",
       "      <td>0.075055</td>\n",
       "      <td>0.865969</td>\n",
       "      <td>0.715556</td>\n",
       "      <td>20540.0</td>\n",
       "      <td>69170.0</td>\n",
       "    </tr>\n",
       "  </tbody>\n",
       "</table>\n",
       "<p>4 rows × 50 columns</p>\n",
       "</div>"
      ],
      "text/plain": [
       "  run_no                       universe_id  \\\n",
       "0     15  064ad2a4fafecedfb5ce6b011e980f60   \n",
       "0     15  064ad2a4fafecedfb5ce6b011e980f60   \n",
       "0     15  064ad2a4fafecedfb5ce6b011e980f60   \n",
       "0     15  064ad2a4fafecedfb5ce6b011e980f60   \n",
       "\n",
       "                                   universe_settings  execution_time  \\\n",
       "0  {\"cutoff\": \"quantile_0.1\", \"eval_fairness_grou...       26.987755   \n",
       "0  {\"cutoff\": \"quantile_0.1\", \"eval_fairness_grou...       26.987755   \n",
       "0  {\"cutoff\": \"quantile_0.25\", \"eval_fairness_gro...       26.987755   \n",
       "0  {\"cutoff\": \"quantile_0.25\", \"eval_fairness_gro...       26.987755   \n",
       "\n",
       "   test_size_n  test_size_frac  fair_main_equalized_odds_difference  \\\n",
       "0        89710             1.0                             0.079309   \n",
       "0        89710             1.0                             0.079309   \n",
       "0        89710             1.0                             0.171872   \n",
       "0        89710             1.0                             0.171872   \n",
       "\n",
       "   fair_main_equalized_odds_ratio  fair_main_demographic_parity_difference  \\\n",
       "0                        0.916447                                 0.069394   \n",
       "0                        0.916447                                 0.069394   \n",
       "0                        0.799108                                 0.150413   \n",
       "0                        0.799108                                 0.150413   \n",
       "\n",
       "   fair_main_demographic_parity_ratio  ...  perf_grp_precision_0  \\\n",
       "0                            0.927222  ...                   NaN   \n",
       "0                            0.927222  ...              0.119275   \n",
       "0                            0.826307  ...                   NaN   \n",
       "0                            0.826307  ...              0.125935   \n",
       "\n",
       "   perf_grp_precision_1  perf_grp_false positive rate_0  \\\n",
       "0                   NaN                             NaN   \n",
       "0              0.146090                        0.949208   \n",
       "0                   NaN                             NaN   \n",
       "0              0.170805                        0.855547   \n",
       "\n",
       "   perf_grp_false positive rate_1  perf_grp_false negative rate_0  \\\n",
       "0                             NaN                             NaN   \n",
       "0                        0.869898                        0.013514   \n",
       "0                             NaN                             NaN   \n",
       "0                        0.683675                        0.054054   \n",
       "\n",
       "   perf_grp_false negative rate_1  perf_grp_selection rate_0  \\\n",
       "0                             NaN                        NaN   \n",
       "0                        0.022538                   0.953505   \n",
       "0                             NaN                        NaN   \n",
       "0                        0.075055                   0.865969   \n",
       "\n",
       "   perf_grp_selection rate_1  perf_grp_count_0  perf_grp_count_1  \n",
       "0                        NaN               NaN               NaN  \n",
       "0                   0.884112           20540.0           69170.0  \n",
       "0                        NaN               NaN               NaN  \n",
       "0                   0.715556           20540.0           69170.0  \n",
       "\n",
       "[4 rows x 50 columns]"
      ]
     },
     "execution_count": 66,
     "metadata": {},
     "output_type": "execute_result"
    }
   ],
   "source": [
    "final_output = universe_analysis.generate_final_output(\n",
    "    y_pred_prob=probs_test,\n",
    "    y_test=y_true,\n",
    "    org_test=org_test,\n",
    "    filter_data=filter_sub_universe_data,\n",
    "    cp_metrics_df=cp_metrics_df,\n",
    "    save=True,\n",
    ")\n",
    "final_output"
   ]
  }
 ],
 "metadata": {
  "celltoolbar": "Tags",
  "kernelspec": {
   "display_name": "Python (CMA Fairness)",
   "language": "python",
   "name": "cma_fair_env"
  },
  "language_info": {
   "codemirror_mode": {
    "name": "ipython",
    "version": 3
   },
   "file_extension": ".py",
   "mimetype": "text/x-python",
   "name": "python",
   "nbconvert_exporter": "python",
   "pygments_lexer": "ipython3",
   "version": "3.10.12"
  },
  "papermill": {
   "default_parameters": {},
   "duration": 39.461025,
   "end_time": "2025-08-05T15:55:04.158530",
   "environment_variables": {},
   "exception": null,
   "input_path": "universe_analysis.ipynb",
   "output_path": "output/runs/15/notebooks/m_15-064ad2a4fafecedfb5ce6b011e980f60.ipynb",
   "parameters": {
    "output_dir": "output",
    "run_no": "15",
    "seed": "2023",
    "universe": "{\"cutoff\": [\"quantile_0.1\", \"quantile_0.25\"], \"eval_fairness_grouping\": [\"majority-minority\", \"nationality-all\"], \"exclude_features\": \"age\", \"exclude_subgroups\": \"drop-non-german\", \"model\": \"elasticnet\", \"scale\": \"scale\", \"training_size\": \"5k\", \"training_year\": \"2010_14\"}",
    "universe_id": "064ad2a4fafecedfb5ce6b011e980f60"
   },
   "start_time": "2025-08-05T15:54:24.697505",
   "version": "2.6.0"
  }
 },
 "nbformat": 4,
 "nbformat_minor": 5
}