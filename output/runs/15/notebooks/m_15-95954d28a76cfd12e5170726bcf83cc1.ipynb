{
 "cells": [
  {
   "cell_type": "code",
   "execution_count": 1,
   "id": "f159f837-637b-42ba-96b5-ec9a68c44524",
   "metadata": {
    "execution": {
     "iopub.execute_input": "2025-08-05T14:41:21.460822Z",
     "iopub.status.busy": "2025-08-05T14:41:21.459912Z",
     "iopub.status.idle": "2025-08-05T14:41:21.473294Z",
     "shell.execute_reply": "2025-08-05T14:41:21.472226Z"
    },
    "papermill": {
     "duration": 0.035088,
     "end_time": "2025-08-05T14:41:21.475188",
     "exception": false,
     "start_time": "2025-08-05T14:41:21.440100",
     "status": "completed"
    },
    "tags": []
   },
   "outputs": [
    {
     "name": "stdout",
     "output_type": "stream",
     "text": [
      "/dss/dsshome1/0C/ra93lal2/cma/CMA_Fairness_v2\n"
     ]
    },
    {
     "name": "stderr",
     "output_type": "stream",
     "text": [
      "/dss/dsshome1/0C/ra93lal2/.local/share/virtualenvs/CMA_Fairness_v2-3j10GkSs/lib/python3.10/site-packages/IPython/core/magics/osm.py:393: UserWarning: This is now an optional IPython functionality, using bookmarks requires you to install the `pickleshare` library.\n",
      "  bkms = self.shell.db.get('bookmarks', {})\n",
      "/dss/dsshome1/0C/ra93lal2/.local/share/virtualenvs/CMA_Fairness_v2-3j10GkSs/lib/python3.10/site-packages/IPython/core/magics/osm.py:417: UserWarning: This is now an optional IPython functionality, setting dhist requires you to install the `pickleshare` library.\n",
      "  self.shell.db['dhist'] = compress_dhist(dhist)[-100:]\n"
     ]
    }
   ],
   "source": [
    "%cd ~/cma/CMA_Fairness_v2"
   ]
  },
  {
   "cell_type": "markdown",
   "id": "de2603b9",
   "metadata": {
    "papermill": {
     "duration": 0.018408,
     "end_time": "2025-08-05T14:41:21.512862",
     "exception": false,
     "start_time": "2025-08-05T14:41:21.494454",
     "status": "completed"
    },
    "tags": []
   },
   "source": [
    "The following cell holds the definition of our parameters, these values can be overriden by rendering the with e.g. the following command:\n",
    "\n",
    "papermill -p alpha 0.2 -p ratio 0.3 universe_analysis.ipynb output/test_run.ipynb"
   ]
  },
  {
   "cell_type": "code",
   "execution_count": 2,
   "id": "a80968a0-40bb-4fa9-85ef-2d5eefb01975",
   "metadata": {
    "execution": {
     "iopub.execute_input": "2025-08-05T14:41:21.549965Z",
     "iopub.status.busy": "2025-08-05T14:41:21.549478Z",
     "iopub.status.idle": "2025-08-05T14:41:21.555140Z",
     "shell.execute_reply": "2025-08-05T14:41:21.554104Z"
    },
    "papermill": {
     "duration": 0.025271,
     "end_time": "2025-08-05T14:41:21.557094",
     "exception": false,
     "start_time": "2025-08-05T14:41:21.531823",
     "status": "completed"
    },
    "tags": []
   },
   "outputs": [
    {
     "name": "stdout",
     "output_type": "stream",
     "text": [
      "Current working directory: /dss/dsshome1/0C/ra93lal2/cma/CMA_Fairness_v2\n"
     ]
    }
   ],
   "source": [
    "import os\n",
    "print(\"Current working directory:\", os.getcwd())"
   ]
  },
  {
   "cell_type": "code",
   "execution_count": 3,
   "id": "2dce4c03",
   "metadata": {
    "execution": {
     "iopub.execute_input": "2025-08-05T14:41:21.595896Z",
     "iopub.status.busy": "2025-08-05T14:41:21.595238Z",
     "iopub.status.idle": "2025-08-05T14:41:21.601470Z",
     "shell.execute_reply": "2025-08-05T14:41:21.600435Z"
    },
    "papermill": {
     "duration": 0.027628,
     "end_time": "2025-08-05T14:41:21.603436",
     "exception": false,
     "start_time": "2025-08-05T14:41:21.575808",
     "status": "completed"
    },
    "tags": [
     "parameters"
    ]
   },
   "outputs": [],
   "source": [
    "run_no = 0\n",
    "universe_id = \"test\"\n",
    "universe = {\n",
    "    \"training_size\": \"25k\", # \"25k\", \"5k\", \"1k\"\n",
    "    \"training_year\": \"2014\", # \"2014\", \"2012_14\", \"2010_14\"\n",
    "    \"scale\": \"scale\", # \"scale\", \"do-not-scale\",\n",
    "    \"model\": \"elasticnet\", # \"logreg\", \"penalized_logreg\", \"rf\", \"gbm\", \"elasticnet\"\n",
    "    \"cutoff\": [\"quantile_0.15\", \"quantile_0.30\"],\n",
    "    \"exclude_features\": \"age\", # \"none\", \"nationality\", \"sex\", \"nationality-sex\", \"age\"\n",
    "    \"exclude_subgroups\": \"keep-all\", # \"keep-all\", \"drop-non-german\"\n",
    "    \"eval_fairness_grouping\": [\"majority-minority\", \"nationality-all\"]\n",
    "}\n",
    "\n",
    "output_dir=\"./output\"\n",
    "seed=0"
   ]
  },
  {
   "cell_type": "code",
   "execution_count": 4,
   "id": "53240b20",
   "metadata": {
    "execution": {
     "iopub.execute_input": "2025-08-05T14:41:21.643306Z",
     "iopub.status.busy": "2025-08-05T14:41:21.642600Z",
     "iopub.status.idle": "2025-08-05T14:41:21.647814Z",
     "shell.execute_reply": "2025-08-05T14:41:21.646827Z"
    },
    "papermill": {
     "duration": 0.026862,
     "end_time": "2025-08-05T14:41:21.649675",
     "exception": false,
     "start_time": "2025-08-05T14:41:21.622813",
     "status": "completed"
    },
    "tags": [
     "injected-parameters"
    ]
   },
   "outputs": [],
   "source": [
    "# Parameters\n",
    "universe_id = \"95954d28a76cfd12e5170726bcf83cc1\"\n",
    "run_no = \"15\"\n",
    "universe = \"{\\\"cutoff\\\": [\\\"quantile_0.1\\\", \\\"quantile_0.25\\\"], \\\"eval_fairness_grouping\\\": [\\\"majority-minority\\\", \\\"nationality-all\\\"], \\\"exclude_features\\\": \\\"sex\\\", \\\"exclude_subgroups\\\": \\\"keep-all\\\", \\\"model\\\": \\\"penalized_logreg\\\", \\\"scale\\\": \\\"do-not-scale\\\", \\\"training_size\\\": \\\"25k\\\", \\\"training_year\\\": \\\"2014\\\"}\"\n",
    "output_dir = \"output\"\n",
    "seed = \"2023\"\n"
   ]
  },
  {
   "cell_type": "code",
   "execution_count": 5,
   "id": "1650acaf",
   "metadata": {
    "execution": {
     "iopub.execute_input": "2025-08-05T14:41:21.688272Z",
     "iopub.status.busy": "2025-08-05T14:41:21.687575Z",
     "iopub.status.idle": "2025-08-05T14:41:21.692366Z",
     "shell.execute_reply": "2025-08-05T14:41:21.691402Z"
    },
    "papermill": {
     "duration": 0.026154,
     "end_time": "2025-08-05T14:41:21.694440",
     "exception": false,
     "start_time": "2025-08-05T14:41:21.668286",
     "status": "completed"
    },
    "tags": []
   },
   "outputs": [],
   "source": [
    "import json\n",
    "if isinstance(universe, str):\n",
    "    universe = json.loads(universe)"
   ]
  },
  {
   "cell_type": "code",
   "execution_count": 6,
   "id": "16620c48",
   "metadata": {
    "execution": {
     "iopub.execute_input": "2025-08-05T14:41:21.733220Z",
     "iopub.status.busy": "2025-08-05T14:41:21.732662Z",
     "iopub.status.idle": "2025-08-05T14:41:21.780413Z",
     "shell.execute_reply": "2025-08-05T14:41:21.779468Z"
    },
    "papermill": {
     "duration": 0.068764,
     "end_time": "2025-08-05T14:41:21.782249",
     "exception": false,
     "start_time": "2025-08-05T14:41:21.713485",
     "status": "completed"
    },
    "tags": []
   },
   "outputs": [],
   "source": [
    "# Auto-reload the custom package\n",
    "%load_ext autoreload\n",
    "%autoreload 1\n",
    "%aimport fairness_multiverse"
   ]
  },
  {
   "cell_type": "code",
   "execution_count": 7,
   "id": "01c5c9f3",
   "metadata": {
    "execution": {
     "iopub.execute_input": "2025-08-05T14:41:21.821033Z",
     "iopub.status.busy": "2025-08-05T14:41:21.820348Z",
     "iopub.status.idle": "2025-08-05T14:41:23.662313Z",
     "shell.execute_reply": "2025-08-05T14:41:23.661379Z"
    },
    "papermill": {
     "duration": 1.863123,
     "end_time": "2025-08-05T14:41:23.664254",
     "exception": false,
     "start_time": "2025-08-05T14:41:21.801131",
     "status": "completed"
    },
    "tags": []
   },
   "outputs": [],
   "source": [
    "from fairness_multiverse.universe import UniverseAnalysis\n",
    "\n",
    "universe_analysis = UniverseAnalysis(\n",
    "    run_no = run_no,\n",
    "    universe_id = universe_id,\n",
    "    universe = universe,\n",
    "    output_dir=output_dir,\n",
    ")"
   ]
  },
  {
   "cell_type": "code",
   "execution_count": 8,
   "id": "106241f5",
   "metadata": {
    "execution": {
     "iopub.execute_input": "2025-08-05T14:41:23.701198Z",
     "iopub.status.busy": "2025-08-05T14:41:23.700190Z",
     "iopub.status.idle": "2025-08-05T14:41:23.706614Z",
     "shell.execute_reply": "2025-08-05T14:41:23.705744Z"
    },
    "papermill": {
     "duration": 0.026374,
     "end_time": "2025-08-05T14:41:23.708521",
     "exception": false,
     "start_time": "2025-08-05T14:41:23.682147",
     "status": "completed"
    },
    "tags": []
   },
   "outputs": [
    {
     "name": "stdout",
     "output_type": "stream",
     "text": [
      "Using Seed: 2023\n"
     ]
    }
   ],
   "source": [
    "import numpy as np\n",
    "parsed_seed = int(seed)\n",
    "np.random.seed(parsed_seed)\n",
    "print(f\"Using Seed: {parsed_seed}\")"
   ]
  },
  {
   "cell_type": "markdown",
   "id": "e0ebdc57",
   "metadata": {
    "papermill": {
     "duration": 0.016411,
     "end_time": "2025-08-05T14:41:23.742079",
     "exception": false,
     "start_time": "2025-08-05T14:41:23.725668",
     "status": "completed"
    },
    "tags": []
   },
   "source": [
    "# Loading Data"
   ]
  },
  {
   "cell_type": "markdown",
   "id": "681925a3",
   "metadata": {
    "papermill": {
     "duration": 0.016693,
     "end_time": "2025-08-05T14:41:23.775944",
     "exception": false,
     "start_time": "2025-08-05T14:41:23.759251",
     "status": "completed"
    },
    "tags": []
   },
   "source": [
    "Load siab_train, siab_test, siab_calib and/or \n",
    "load siab_train_features, siab_train_labels"
   ]
  },
  {
   "cell_type": "code",
   "execution_count": 9,
   "id": "f0496b8a",
   "metadata": {
    "execution": {
     "iopub.execute_input": "2025-08-05T14:41:23.810838Z",
     "iopub.status.busy": "2025-08-05T14:41:23.809990Z",
     "iopub.status.idle": "2025-08-05T14:41:36.545173Z",
     "shell.execute_reply": "2025-08-05T14:41:36.544016Z"
    },
    "papermill": {
     "duration": 12.754753,
     "end_time": "2025-08-05T14:41:36.546818",
     "exception": false,
     "start_time": "2025-08-05T14:41:23.792065",
     "status": "completed"
    },
    "tags": []
   },
   "outputs": [
    {
     "name": "stdout",
     "output_type": "stream",
     "text": [
      "Loading SIAB data from cache: data/siab_cached.csv.gz\n"
     ]
    },
    {
     "name": "stdout",
     "output_type": "stream",
     "text": [
      "(643690, 164)\n"
     ]
    }
   ],
   "source": [
    "from pathlib import Path\n",
    "import pandas as pd\n",
    "\n",
    "# File paths\n",
    "raw_file = Path(\"data/raw/siab.csv\")\n",
    "cache_file = Path(\"data/siab_cached.csv.gz\")\n",
    "\n",
    "# Ensure cache directory exists\n",
    "cache_file.parent.mkdir(parents=True, exist_ok=True)\n",
    "\n",
    "# Load with simple caching\n",
    "if cache_file.exists():\n",
    "    print(f\"Loading SIAB data from cache: {cache_file}\")\n",
    "    siab = pd.read_csv(cache_file, compression='gzip')\n",
    "else:\n",
    "    print(f\"Cache not found. Reading raw SIAB data: {raw_file}\")\n",
    "    siab = pd.read_csv(raw_file)\n",
    "    siab.to_csv(cache_file, index=False, compression='gzip')\n",
    "    print(f\"Cached SIAB data to: {cache_file}\")\n",
    "\n",
    "print(siab.shape)"
   ]
  },
  {
   "cell_type": "code",
   "execution_count": 10,
   "id": "db0ca512-5f53-4dba-abdb-a2888bca41ba",
   "metadata": {
    "execution": {
     "iopub.execute_input": "2025-08-05T14:41:36.592718Z",
     "iopub.status.busy": "2025-08-05T14:41:36.592154Z",
     "iopub.status.idle": "2025-08-05T14:41:36.598118Z",
     "shell.execute_reply": "2025-08-05T14:41:36.597124Z"
    },
    "papermill": {
     "duration": 0.025815,
     "end_time": "2025-08-05T14:41:36.599788",
     "exception": false,
     "start_time": "2025-08-05T14:41:36.573973",
     "status": "completed"
    },
    "tags": []
   },
   "outputs": [],
   "source": [
    "#siab"
   ]
  },
  {
   "cell_type": "markdown",
   "id": "997051c5-15bd-4b69-9786-c3001a3ce484",
   "metadata": {
    "papermill": {
     "duration": 0.017917,
     "end_time": "2025-08-05T14:41:36.635995",
     "exception": false,
     "start_time": "2025-08-05T14:41:36.618078",
     "status": "completed"
    },
    "tags": []
   },
   "source": [
    "# Splitting Data and Setting Training Data Size"
   ]
  },
  {
   "cell_type": "code",
   "execution_count": 11,
   "id": "aea9c6ef-6f46-42c8-85eb-5a62025c1508",
   "metadata": {
    "execution": {
     "iopub.execute_input": "2025-08-05T14:41:36.674143Z",
     "iopub.status.busy": "2025-08-05T14:41:36.673268Z",
     "iopub.status.idle": "2025-08-05T14:41:37.014015Z",
     "shell.execute_reply": "2025-08-05T14:41:37.013004Z"
    },
    "papermill": {
     "duration": 0.362418,
     "end_time": "2025-08-05T14:41:37.016109",
     "exception": false,
     "start_time": "2025-08-05T14:41:36.653691",
     "status": "completed"
    },
    "tags": []
   },
   "outputs": [],
   "source": [
    "from fairness_multiverse.universe import sample_by_year_size\n",
    "\n",
    "siab_train = sample_by_year_size(siab,\n",
    "                               training_year=universe[\"training_year\"],\n",
    "                               training_size=universe[\"training_size\"])"
   ]
  },
  {
   "cell_type": "code",
   "execution_count": 12,
   "id": "8d3afb32-789d-442c-8d5d-9f5aa8dd2eed",
   "metadata": {
    "execution": {
     "iopub.execute_input": "2025-08-05T14:41:37.056397Z",
     "iopub.status.busy": "2025-08-05T14:41:37.055541Z",
     "iopub.status.idle": "2025-08-05T14:41:37.060839Z",
     "shell.execute_reply": "2025-08-05T14:41:37.059924Z"
    },
    "papermill": {
     "duration": 0.026986,
     "end_time": "2025-08-05T14:41:37.062679",
     "exception": false,
     "start_time": "2025-08-05T14:41:37.035693",
     "status": "completed"
    },
    "tags": []
   },
   "outputs": [],
   "source": [
    "#siab_train.shape"
   ]
  },
  {
   "cell_type": "code",
   "execution_count": 13,
   "id": "d582db68-1a4c-47fb-84fc-08518dc1975a",
   "metadata": {
    "execution": {
     "iopub.execute_input": "2025-08-05T14:41:37.099548Z",
     "iopub.status.busy": "2025-08-05T14:41:37.099086Z",
     "iopub.status.idle": "2025-08-05T14:41:37.103550Z",
     "shell.execute_reply": "2025-08-05T14:41:37.102573Z"
    },
    "papermill": {
     "duration": 0.024469,
     "end_time": "2025-08-05T14:41:37.105278",
     "exception": false,
     "start_time": "2025-08-05T14:41:37.080809",
     "status": "completed"
    },
    "tags": []
   },
   "outputs": [],
   "source": [
    "#display(siab_train.groupby(\"year\").size())"
   ]
  },
  {
   "cell_type": "code",
   "execution_count": 14,
   "id": "a561edb4-d032-42cb-8256-22eac1111c64",
   "metadata": {
    "execution": {
     "iopub.execute_input": "2025-08-05T14:41:37.142841Z",
     "iopub.status.busy": "2025-08-05T14:41:37.142050Z",
     "iopub.status.idle": "2025-08-05T14:41:37.366546Z",
     "shell.execute_reply": "2025-08-05T14:41:37.365572Z"
    },
    "papermill": {
     "duration": 0.245186,
     "end_time": "2025-08-05T14:41:37.368439",
     "exception": false,
     "start_time": "2025-08-05T14:41:37.123253",
     "status": "completed"
    },
    "tags": []
   },
   "outputs": [],
   "source": [
    "#siab_train = siab_s[siab_s.year < 2015]\n",
    "siab_calib = siab[siab.year == 2015]\n",
    "siab_test = siab[siab.year == 2016]"
   ]
  },
  {
   "cell_type": "code",
   "execution_count": 15,
   "id": "472de16f-c3db-4916-846b-1f0de9cf1746",
   "metadata": {
    "execution": {
     "iopub.execute_input": "2025-08-05T14:41:37.407294Z",
     "iopub.status.busy": "2025-08-05T14:41:37.406608Z",
     "iopub.status.idle": "2025-08-05T14:41:37.421748Z",
     "shell.execute_reply": "2025-08-05T14:41:37.420568Z"
    },
    "papermill": {
     "duration": 0.036133,
     "end_time": "2025-08-05T14:41:37.423798",
     "exception": false,
     "start_time": "2025-08-05T14:41:37.387665",
     "status": "completed"
    },
    "tags": []
   },
   "outputs": [],
   "source": [
    "X_train = siab_train.iloc[:,4:164]\n",
    "y_train = siab_train.iloc[:, [3]]"
   ]
  },
  {
   "cell_type": "code",
   "execution_count": 16,
   "id": "828c96af-f43a-4ed6-ba47-8ac73a47d56c",
   "metadata": {
    "execution": {
     "iopub.execute_input": "2025-08-05T14:41:37.461821Z",
     "iopub.status.busy": "2025-08-05T14:41:37.461233Z",
     "iopub.status.idle": "2025-08-05T14:41:37.512332Z",
     "shell.execute_reply": "2025-08-05T14:41:37.511200Z"
    },
    "papermill": {
     "duration": 0.071606,
     "end_time": "2025-08-05T14:41:37.514394",
     "exception": false,
     "start_time": "2025-08-05T14:41:37.442788",
     "status": "completed"
    },
    "tags": []
   },
   "outputs": [],
   "source": [
    "X_calib = siab_calib.iloc[:,4:164]\n",
    "y_calib = siab_calib.iloc[:, [3]]"
   ]
  },
  {
   "cell_type": "code",
   "execution_count": 17,
   "id": "c34be9c3-6bd6-476e-acd3-845840e303be",
   "metadata": {
    "execution": {
     "iopub.execute_input": "2025-08-05T14:41:37.552411Z",
     "iopub.status.busy": "2025-08-05T14:41:37.551809Z",
     "iopub.status.idle": "2025-08-05T14:41:37.603739Z",
     "shell.execute_reply": "2025-08-05T14:41:37.602557Z"
    },
    "papermill": {
     "duration": 0.072367,
     "end_time": "2025-08-05T14:41:37.605569",
     "exception": false,
     "start_time": "2025-08-05T14:41:37.533202",
     "status": "completed"
    },
    "tags": []
   },
   "outputs": [],
   "source": [
    "X_test = siab_test.iloc[:,4:164]\n",
    "y_true = siab_test.iloc[:, [3]]"
   ]
  },
  {
   "cell_type": "code",
   "execution_count": 18,
   "id": "e6c733c5",
   "metadata": {
    "execution": {
     "iopub.execute_input": "2025-08-05T14:41:37.645229Z",
     "iopub.status.busy": "2025-08-05T14:41:37.644543Z",
     "iopub.status.idle": "2025-08-05T14:41:37.743090Z",
     "shell.execute_reply": "2025-08-05T14:41:37.741972Z"
    },
    "papermill": {
     "duration": 0.119967,
     "end_time": "2025-08-05T14:41:37.744988",
     "exception": false,
     "start_time": "2025-08-05T14:41:37.625021",
     "status": "completed"
    },
    "tags": []
   },
   "outputs": [],
   "source": [
    "# Auxiliary data needed downstream in the pipeline\n",
    "\n",
    "org_train = X_train.copy()\n",
    "org_test = X_test.copy()\n",
    "org_calib = X_calib.copy()"
   ]
  },
  {
   "cell_type": "markdown",
   "id": "0a4a1b33",
   "metadata": {
    "papermill": {
     "duration": 0.01831,
     "end_time": "2025-08-05T14:41:37.782537",
     "exception": false,
     "start_time": "2025-08-05T14:41:37.764227",
     "status": "completed"
    },
    "tags": []
   },
   "source": [
    "# Preprocessing Data"
   ]
  },
  {
   "cell_type": "code",
   "execution_count": 19,
   "id": "ca879031",
   "metadata": {
    "execution": {
     "iopub.execute_input": "2025-08-05T14:41:37.821775Z",
     "iopub.status.busy": "2025-08-05T14:41:37.820993Z",
     "iopub.status.idle": "2025-08-05T14:41:37.826942Z",
     "shell.execute_reply": "2025-08-05T14:41:37.825944Z"
    },
    "papermill": {
     "duration": 0.02698,
     "end_time": "2025-08-05T14:41:37.828719",
     "exception": false,
     "start_time": "2025-08-05T14:41:37.801739",
     "status": "completed"
    },
    "tags": []
   },
   "outputs": [],
   "source": [
    "# EXCLUDE PROTECTED FEATURES\n",
    "# ----------------------\n",
    "# \"exclude_features\": \"none\", # \"nationality\", \"sex\", \"nationality-sex\"\n",
    "\n",
    "excluded_features = universe[\"exclude_features\"].split(\"-\") # split, e.g.: \"nationality-sex\" -> [\"nationality\", \"sex\"]\n",
    "excluded_features_dictionary = {\n",
    "    \"nationality\": [\"maxdeutsch1\", \"maxdeutsch.Missing.\"],\n",
    "    \"sex\": [\"frau1\"],\n",
    "    \"age\": [\"age\"],\n",
    "}"
   ]
  },
  {
   "cell_type": "code",
   "execution_count": 20,
   "id": "b745ac60",
   "metadata": {
    "execution": {
     "iopub.execute_input": "2025-08-05T14:41:37.867444Z",
     "iopub.status.busy": "2025-08-05T14:41:37.866977Z",
     "iopub.status.idle": "2025-08-05T14:41:37.872407Z",
     "shell.execute_reply": "2025-08-05T14:41:37.871430Z"
    },
    "papermill": {
     "duration": 0.026178,
     "end_time": "2025-08-05T14:41:37.873960",
     "exception": false,
     "start_time": "2025-08-05T14:41:37.847782",
     "status": "completed"
    },
    "tags": []
   },
   "outputs": [],
   "source": [
    "# Code nice names to column names\n",
    "\n",
    "excluded_features_columns = [\n",
    "    excluded_features_dictionary[f] for f in excluded_features if len(f) > 0 and f != \"none\"\n",
    "]"
   ]
  },
  {
   "cell_type": "code",
   "execution_count": 21,
   "id": "f84f73a2",
   "metadata": {
    "execution": {
     "iopub.execute_input": "2025-08-05T14:41:37.913394Z",
     "iopub.status.busy": "2025-08-05T14:41:37.912938Z",
     "iopub.status.idle": "2025-08-05T14:41:37.918694Z",
     "shell.execute_reply": "2025-08-05T14:41:37.917738Z"
    },
    "papermill": {
     "duration": 0.026664,
     "end_time": "2025-08-05T14:41:37.920363",
     "exception": false,
     "start_time": "2025-08-05T14:41:37.893699",
     "status": "completed"
    },
    "tags": []
   },
   "outputs": [],
   "source": [
    "from utils import flatten_once\n",
    "\n",
    "excluded_features_columns = flatten_once(excluded_features_columns)"
   ]
  },
  {
   "cell_type": "code",
   "execution_count": 22,
   "id": "884dea22",
   "metadata": {
    "execution": {
     "iopub.execute_input": "2025-08-05T14:41:37.959026Z",
     "iopub.status.busy": "2025-08-05T14:41:37.958736Z",
     "iopub.status.idle": "2025-08-05T14:41:37.982301Z",
     "shell.execute_reply": "2025-08-05T14:41:37.981160Z"
    },
    "papermill": {
     "duration": 0.045033,
     "end_time": "2025-08-05T14:41:37.984200",
     "exception": false,
     "start_time": "2025-08-05T14:41:37.939167",
     "status": "completed"
    },
    "tags": []
   },
   "outputs": [
    {
     "name": "stdout",
     "output_type": "stream",
     "text": [
      "Dropping features: ['frau1']\n"
     ]
    }
   ],
   "source": [
    "if len(excluded_features_columns) > 0:\n",
    "    print(f\"Dropping features: {excluded_features_columns}\")\n",
    "    X_train.drop(excluded_features_columns, axis=1, inplace=True)"
   ]
  },
  {
   "cell_type": "code",
   "execution_count": 23,
   "id": "95ab8b16",
   "metadata": {
    "execution": {
     "iopub.execute_input": "2025-08-05T14:41:38.024327Z",
     "iopub.status.busy": "2025-08-05T14:41:38.023899Z",
     "iopub.status.idle": "2025-08-05T14:41:38.085307Z",
     "shell.execute_reply": "2025-08-05T14:41:38.084320Z"
    },
    "papermill": {
     "duration": 0.082879,
     "end_time": "2025-08-05T14:41:38.087067",
     "exception": false,
     "start_time": "2025-08-05T14:41:38.004188",
     "status": "completed"
    },
    "tags": []
   },
   "outputs": [
    {
     "name": "stdout",
     "output_type": "stream",
     "text": [
      "Dropping features: ['frau1']\n"
     ]
    }
   ],
   "source": [
    "if len(excluded_features_columns) > 0:\n",
    "    print(f\"Dropping features: {excluded_features_columns}\")\n",
    "    X_test.drop(excluded_features_columns, axis=1, inplace=True)"
   ]
  },
  {
   "cell_type": "code",
   "execution_count": 24,
   "id": "1853aaf5-fb9f-46cb-a2b5-8ea4ae2237e4",
   "metadata": {
    "execution": {
     "iopub.execute_input": "2025-08-05T14:41:38.128756Z",
     "iopub.status.busy": "2025-08-05T14:41:38.128032Z",
     "iopub.status.idle": "2025-08-05T14:41:38.181143Z",
     "shell.execute_reply": "2025-08-05T14:41:38.179940Z"
    },
    "papermill": {
     "duration": 0.075153,
     "end_time": "2025-08-05T14:41:38.182994",
     "exception": false,
     "start_time": "2025-08-05T14:41:38.107841",
     "status": "completed"
    },
    "tags": []
   },
   "outputs": [
    {
     "name": "stdout",
     "output_type": "stream",
     "text": [
      "Dropping features: ['frau1']\n"
     ]
    }
   ],
   "source": [
    "if len(excluded_features_columns) > 0:\n",
    "    print(f\"Dropping features: {excluded_features_columns}\")\n",
    "    X_calib.drop(excluded_features_columns, axis=1, inplace=True)"
   ]
  },
  {
   "cell_type": "code",
   "execution_count": 25,
   "id": "76c4dc6d",
   "metadata": {
    "execution": {
     "iopub.execute_input": "2025-08-05T14:41:38.226503Z",
     "iopub.status.busy": "2025-08-05T14:41:38.226113Z",
     "iopub.status.idle": "2025-08-05T14:41:38.231313Z",
     "shell.execute_reply": "2025-08-05T14:41:38.230313Z"
    },
    "papermill": {
     "duration": 0.029357,
     "end_time": "2025-08-05T14:41:38.233504",
     "exception": false,
     "start_time": "2025-08-05T14:41:38.204147",
     "status": "completed"
    },
    "tags": []
   },
   "outputs": [],
   "source": [
    "# EXCLUDE CERTAIN SUBGROUPS\n",
    "# ----------------------\n",
    "\n",
    "mode = universe.get(\"exclude_subgroups\", \"keep-all\") \n",
    "# Fetches the exclude_subgroups setting from the universe dict.\n",
    "# Defaults to \"keep-all\" if the key is missing."
   ]
  },
  {
   "cell_type": "code",
   "execution_count": 26,
   "id": "21994072",
   "metadata": {
    "execution": {
     "iopub.execute_input": "2025-08-05T14:41:38.259179Z",
     "iopub.status.busy": "2025-08-05T14:41:38.258799Z",
     "iopub.status.idle": "2025-08-05T14:41:38.263713Z",
     "shell.execute_reply": "2025-08-05T14:41:38.263025Z"
    },
    "papermill": {
     "duration": 0.016719,
     "end_time": "2025-08-05T14:41:38.265045",
     "exception": false,
     "start_time": "2025-08-05T14:41:38.248326",
     "status": "completed"
    },
    "tags": []
   },
   "outputs": [],
   "source": [
    "if mode == \"keep-all\":\n",
    "    keep_mask = pd.Series(True, index=org_train.index)\n",
    "\n",
    "# org_train contains the original feature columns from features_org (in Simson)\n",
    "# features_org contains unprocessed features, for me X_train at beginning ???\n",
    "# For keep-all, creates a boolean Series (keep_mask) of all True, so no rows are removed.\n",
    "\n",
    "elif mode == \"drop-non-german\":\n",
    "    keep_mask = org_train[\"maxdeutsch1\"] == 1 # ??? what about missing values?\n",
    "\n",
    "else:\n",
    "    raise ValueError(f\"Unsupported mode for exclude_subgroups: {mode}\")"
   ]
  },
  {
   "cell_type": "code",
   "execution_count": 27,
   "id": "71651440",
   "metadata": {
    "execution": {
     "iopub.execute_input": "2025-08-05T14:41:38.285274Z",
     "iopub.status.busy": "2025-08-05T14:41:38.284934Z",
     "iopub.status.idle": "2025-08-05T14:41:38.291151Z",
     "shell.execute_reply": "2025-08-05T14:41:38.290257Z"
    },
    "papermill": {
     "duration": 0.017612,
     "end_time": "2025-08-05T14:41:38.292686",
     "exception": false,
     "start_time": "2025-08-05T14:41:38.275074",
     "status": "completed"
    },
    "tags": []
   },
   "outputs": [],
   "source": [
    "n_drop = (~keep_mask).sum() # Calculates how many rows are set to be dropped\n",
    "if n_drop > 0:\n",
    "    pct = n_drop / len(keep_mask) * 100\n",
    "    print(f\"Dropping {n_drop} rows ({pct:.2f}%) where mode='{mode}'\")"
   ]
  },
  {
   "cell_type": "code",
   "execution_count": 28,
   "id": "5fb8eee5",
   "metadata": {
    "execution": {
     "iopub.execute_input": "2025-08-05T14:41:38.333745Z",
     "iopub.status.busy": "2025-08-05T14:41:38.332883Z",
     "iopub.status.idle": "2025-08-05T14:41:38.349758Z",
     "shell.execute_reply": "2025-08-05T14:41:38.348883Z"
    },
    "papermill": {
     "duration": 0.038737,
     "end_time": "2025-08-05T14:41:38.351255",
     "exception": false,
     "start_time": "2025-08-05T14:41:38.312518",
     "status": "completed"
    },
    "tags": []
   },
   "outputs": [],
   "source": [
    "X_train = X_train[keep_mask]"
   ]
  },
  {
   "cell_type": "code",
   "execution_count": 29,
   "id": "b202bb3a",
   "metadata": {
    "execution": {
     "iopub.execute_input": "2025-08-05T14:41:38.389529Z",
     "iopub.status.busy": "2025-08-05T14:41:38.389090Z",
     "iopub.status.idle": "2025-08-05T14:41:38.395033Z",
     "shell.execute_reply": "2025-08-05T14:41:38.393920Z"
    },
    "papermill": {
     "duration": 0.028354,
     "end_time": "2025-08-05T14:41:38.396918",
     "exception": false,
     "start_time": "2025-08-05T14:41:38.368564",
     "status": "completed"
    },
    "tags": []
   },
   "outputs": [],
   "source": [
    "y_train = y_train[keep_mask]"
   ]
  },
  {
   "cell_type": "markdown",
   "id": "493e2ac3",
   "metadata": {
    "papermill": {
     "duration": 0.019822,
     "end_time": "2025-08-05T14:41:38.437404",
     "exception": false,
     "start_time": "2025-08-05T14:41:38.417582",
     "status": "completed"
    },
    "tags": []
   },
   "source": [
    "# Model Training"
   ]
  },
  {
   "cell_type": "code",
   "execution_count": 30,
   "id": "679e1268",
   "metadata": {
    "execution": {
     "iopub.execute_input": "2025-08-05T14:41:38.475743Z",
     "iopub.status.busy": "2025-08-05T14:41:38.475402Z",
     "iopub.status.idle": "2025-08-05T14:41:38.549940Z",
     "shell.execute_reply": "2025-08-05T14:41:38.549279Z"
    },
    "papermill": {
     "duration": 0.095703,
     "end_time": "2025-08-05T14:41:38.551363",
     "exception": false,
     "start_time": "2025-08-05T14:41:38.455660",
     "status": "completed"
    },
    "tags": []
   },
   "outputs": [],
   "source": [
    "from sklearn.linear_model import LogisticRegression\n",
    "from sklearn.ensemble import GradientBoostingClassifier, RandomForestClassifier\n",
    "\n",
    "if (universe[\"model\"] == \"logreg\"):\n",
    "    model = LogisticRegression() #penalty=\"none\", solver=\"newton-cg\", max_iter=1) # include random_state=19 ?\n",
    "elif (universe[\"model\"] == \"penalized_logreg\"):\n",
    "    model = LogisticRegression(penalty=\"l2\", C=0.1) #, solver=\"newton-cg\", max_iter=1)\n",
    "elif (universe[\"model\"] == \"rf\"):\n",
    "    model = RandomForestClassifier() # n_estimators=100, n_jobs=-1\n",
    "elif (universe[\"model\"] == \"gbm\"):\n",
    "    model = GradientBoostingClassifier()\n",
    "elif (universe[\"model\"] == \"elasticnet\"):\n",
    "    model = LogisticRegression(penalty = 'elasticnet', solver = 'saga', l1_ratio = 0.5) # max_iter=5000\n",
    "else:\n",
    "    raise \"Unsupported universe.model\""
   ]
  },
  {
   "cell_type": "code",
   "execution_count": 31,
   "id": "0cc8f744",
   "metadata": {
    "execution": {
     "iopub.execute_input": "2025-08-05T14:41:38.578502Z",
     "iopub.status.busy": "2025-08-05T14:41:38.578063Z",
     "iopub.status.idle": "2025-08-05T14:41:38.584306Z",
     "shell.execute_reply": "2025-08-05T14:41:38.583335Z"
    },
    "papermill": {
     "duration": 0.025842,
     "end_time": "2025-08-05T14:41:38.586868",
     "exception": false,
     "start_time": "2025-08-05T14:41:38.561026",
     "status": "completed"
    },
    "tags": []
   },
   "outputs": [],
   "source": [
    "import numpy as np\n",
    "from sklearn.pipeline import Pipeline\n",
    "from sklearn.preprocessing import StandardScaler\n",
    "\n",
    "model = Pipeline([\n",
    "    #(\"continuous_processor\", continuous_processor),\n",
    "    #(\"categorical_preprocessor\", categorical_preprocessor),\n",
    "    (\"scale\", StandardScaler() if universe[\"scale\"] == \"scale\" else None), \n",
    "    (\"model\", model),\n",
    "])"
   ]
  },
  {
   "cell_type": "code",
   "execution_count": 32,
   "id": "9442c04d",
   "metadata": {
    "execution": {
     "iopub.execute_input": "2025-08-05T14:41:38.628294Z",
     "iopub.status.busy": "2025-08-05T14:41:38.627565Z",
     "iopub.status.idle": "2025-08-05T14:41:39.274056Z",
     "shell.execute_reply": "2025-08-05T14:41:39.273201Z"
    },
    "papermill": {
     "duration": 0.669354,
     "end_time": "2025-08-05T14:41:39.275752",
     "exception": false,
     "start_time": "2025-08-05T14:41:38.606398",
     "status": "completed"
    },
    "tags": []
   },
   "outputs": [
    {
     "name": "stderr",
     "output_type": "stream",
     "text": [
      "/dss/dsshome1/0C/ra93lal2/.local/share/virtualenvs/CMA_Fairness_v2-3j10GkSs/lib/python3.10/site-packages/sklearn/linear_model/_logistic.py:444: ConvergenceWarning: lbfgs failed to converge (status=1):\n",
      "STOP: TOTAL NO. of ITERATIONS REACHED LIMIT.\n",
      "\n",
      "Increase the number of iterations (max_iter) or scale the data as shown in:\n",
      "    https://scikit-learn.org/stable/modules/preprocessing.html\n",
      "Please also refer to the documentation for alternative solver options:\n",
      "    https://scikit-learn.org/stable/modules/linear_model.html#logistic-regression\n",
      "  n_iter_i = _check_optimize_result(\n"
     ]
    },
    {
     "data": {
      "text/html": [
       "<style>#sk-container-id-1 {color: black;background-color: white;}#sk-container-id-1 pre{padding: 0;}#sk-container-id-1 div.sk-toggleable {background-color: white;}#sk-container-id-1 label.sk-toggleable__label {cursor: pointer;display: block;width: 100%;margin-bottom: 0;padding: 0.3em;box-sizing: border-box;text-align: center;}#sk-container-id-1 label.sk-toggleable__label-arrow:before {content: \"▸\";float: left;margin-right: 0.25em;color: #696969;}#sk-container-id-1 label.sk-toggleable__label-arrow:hover:before {color: black;}#sk-container-id-1 div.sk-estimator:hover label.sk-toggleable__label-arrow:before {color: black;}#sk-container-id-1 div.sk-toggleable__content {max-height: 0;max-width: 0;overflow: hidden;text-align: left;background-color: #f0f8ff;}#sk-container-id-1 div.sk-toggleable__content pre {margin: 0.2em;color: black;border-radius: 0.25em;background-color: #f0f8ff;}#sk-container-id-1 input.sk-toggleable__control:checked~div.sk-toggleable__content {max-height: 200px;max-width: 100%;overflow: auto;}#sk-container-id-1 input.sk-toggleable__control:checked~label.sk-toggleable__label-arrow:before {content: \"▾\";}#sk-container-id-1 div.sk-estimator input.sk-toggleable__control:checked~label.sk-toggleable__label {background-color: #d4ebff;}#sk-container-id-1 div.sk-label input.sk-toggleable__control:checked~label.sk-toggleable__label {background-color: #d4ebff;}#sk-container-id-1 input.sk-hidden--visually {border: 0;clip: rect(1px 1px 1px 1px);clip: rect(1px, 1px, 1px, 1px);height: 1px;margin: -1px;overflow: hidden;padding: 0;position: absolute;width: 1px;}#sk-container-id-1 div.sk-estimator {font-family: monospace;background-color: #f0f8ff;border: 1px dotted black;border-radius: 0.25em;box-sizing: border-box;margin-bottom: 0.5em;}#sk-container-id-1 div.sk-estimator:hover {background-color: #d4ebff;}#sk-container-id-1 div.sk-parallel-item::after {content: \"\";width: 100%;border-bottom: 1px solid gray;flex-grow: 1;}#sk-container-id-1 div.sk-label:hover label.sk-toggleable__label {background-color: #d4ebff;}#sk-container-id-1 div.sk-serial::before {content: \"\";position: absolute;border-left: 1px solid gray;box-sizing: border-box;top: 0;bottom: 0;left: 50%;z-index: 0;}#sk-container-id-1 div.sk-serial {display: flex;flex-direction: column;align-items: center;background-color: white;padding-right: 0.2em;padding-left: 0.2em;position: relative;}#sk-container-id-1 div.sk-item {position: relative;z-index: 1;}#sk-container-id-1 div.sk-parallel {display: flex;align-items: stretch;justify-content: center;background-color: white;position: relative;}#sk-container-id-1 div.sk-item::before, #sk-container-id-1 div.sk-parallel-item::before {content: \"\";position: absolute;border-left: 1px solid gray;box-sizing: border-box;top: 0;bottom: 0;left: 50%;z-index: -1;}#sk-container-id-1 div.sk-parallel-item {display: flex;flex-direction: column;z-index: 1;position: relative;background-color: white;}#sk-container-id-1 div.sk-parallel-item:first-child::after {align-self: flex-end;width: 50%;}#sk-container-id-1 div.sk-parallel-item:last-child::after {align-self: flex-start;width: 50%;}#sk-container-id-1 div.sk-parallel-item:only-child::after {width: 0;}#sk-container-id-1 div.sk-dashed-wrapped {border: 1px dashed gray;margin: 0 0.4em 0.5em 0.4em;box-sizing: border-box;padding-bottom: 0.4em;background-color: white;}#sk-container-id-1 div.sk-label label {font-family: monospace;font-weight: bold;display: inline-block;line-height: 1.2em;}#sk-container-id-1 div.sk-label-container {text-align: center;}#sk-container-id-1 div.sk-container {/* jupyter's `normalize.less` sets `[hidden] { display: none; }` but bootstrap.min.css set `[hidden] { display: none !important; }` so we also need the `!important` here to be able to override the default hidden behavior on the sphinx rendered scikit-learn.org. See: https://github.com/scikit-learn/scikit-learn/issues/21755 */display: inline-block !important;position: relative;}#sk-container-id-1 div.sk-text-repr-fallback {display: none;}</style><div id=\"sk-container-id-1\" class=\"sk-top-container\"><div class=\"sk-text-repr-fallback\"><pre>Pipeline(steps=[(&#x27;scale&#x27;, None), (&#x27;model&#x27;, LogisticRegression(C=0.1))])</pre><b>In a Jupyter environment, please rerun this cell to show the HTML representation or trust the notebook. <br />On GitHub, the HTML representation is unable to render, please try loading this page with nbviewer.org.</b></div><div class=\"sk-container\" hidden><div class=\"sk-item sk-dashed-wrapped\"><div class=\"sk-label-container\"><div class=\"sk-label sk-toggleable\"><input class=\"sk-toggleable__control sk-hidden--visually\" id=\"sk-estimator-id-1\" type=\"checkbox\" ><label for=\"sk-estimator-id-1\" class=\"sk-toggleable__label sk-toggleable__label-arrow\">Pipeline</label><div class=\"sk-toggleable__content\"><pre>Pipeline(steps=[(&#x27;scale&#x27;, None), (&#x27;model&#x27;, LogisticRegression(C=0.1))])</pre></div></div></div><div class=\"sk-serial\"><div class=\"sk-item\"><div class=\"sk-estimator sk-toggleable\"><input class=\"sk-toggleable__control sk-hidden--visually\" id=\"sk-estimator-id-2\" type=\"checkbox\" ><label for=\"sk-estimator-id-2\" class=\"sk-toggleable__label sk-toggleable__label-arrow\">None</label><div class=\"sk-toggleable__content\"><pre>None</pre></div></div></div><div class=\"sk-item\"><div class=\"sk-estimator sk-toggleable\"><input class=\"sk-toggleable__control sk-hidden--visually\" id=\"sk-estimator-id-3\" type=\"checkbox\" ><label for=\"sk-estimator-id-3\" class=\"sk-toggleable__label sk-toggleable__label-arrow\">LogisticRegression</label><div class=\"sk-toggleable__content\"><pre>LogisticRegression(C=0.1)</pre></div></div></div></div></div></div></div>"
      ],
      "text/plain": [
       "Pipeline(steps=[('scale', None), ('model', LogisticRegression(C=0.1))])"
      ]
     },
     "execution_count": 32,
     "metadata": {},
     "output_type": "execute_result"
    }
   ],
   "source": [
    "model.fit(X_train, y_train.values.ravel())"
   ]
  },
  {
   "cell_type": "code",
   "execution_count": 33,
   "id": "af59f8c0",
   "metadata": {
    "execution": {
     "iopub.execute_input": "2025-08-05T14:41:39.320210Z",
     "iopub.status.busy": "2025-08-05T14:41:39.319785Z",
     "iopub.status.idle": "2025-08-05T14:41:39.324843Z",
     "shell.execute_reply": "2025-08-05T14:41:39.323911Z"
    },
    "papermill": {
     "duration": 0.028763,
     "end_time": "2025-08-05T14:41:39.326914",
     "exception": false,
     "start_time": "2025-08-05T14:41:39.298151",
     "status": "completed"
    },
    "tags": []
   },
   "outputs": [],
   "source": [
    "from fairness_multiverse.universe import predict_w_threshold"
   ]
  },
  {
   "cell_type": "code",
   "execution_count": 34,
   "id": "a7cf2e16",
   "metadata": {
    "execution": {
     "iopub.execute_input": "2025-08-05T14:41:39.370735Z",
     "iopub.status.busy": "2025-08-05T14:41:39.370355Z",
     "iopub.status.idle": "2025-08-05T14:41:39.469476Z",
     "shell.execute_reply": "2025-08-05T14:41:39.468589Z"
    },
    "papermill": {
     "duration": 0.122625,
     "end_time": "2025-08-05T14:41:39.471070",
     "exception": false,
     "start_time": "2025-08-05T14:41:39.348445",
     "status": "completed"
    },
    "tags": []
   },
   "outputs": [
    {
     "data": {
      "text/plain": [
       "0.8639950953071006"
      ]
     },
     "execution_count": 34,
     "metadata": {},
     "output_type": "execute_result"
    }
   ],
   "source": [
    "probs_test = model.predict_proba(X_test)\n",
    "\n",
    "'''\n",
    "Below code returns a boolean array (or binary 0/1 array depending on how it’s used) where each element \n",
    "is True if the probability of class 1 is greater than or equal to the threshold, and False otherwise.\n",
    "'''\n",
    "y_pred_default = predict_w_threshold(probs_test, 0.5)\n",
    "\n",
    "from sklearn.metrics import accuracy_score\n",
    "\n",
    "# Naive prediction\n",
    "accuracy_score(y_true = y_true, y_pred = y_pred_default)"
   ]
  },
  {
   "cell_type": "code",
   "execution_count": 35,
   "id": "081964c3",
   "metadata": {
    "execution": {
     "iopub.execute_input": "2025-08-05T14:41:39.510217Z",
     "iopub.status.busy": "2025-08-05T14:41:39.509366Z",
     "iopub.status.idle": "2025-08-05T14:41:39.591888Z",
     "shell.execute_reply": "2025-08-05T14:41:39.590992Z"
    },
    "papermill": {
     "duration": 0.103261,
     "end_time": "2025-08-05T14:41:39.593640",
     "exception": false,
     "start_time": "2025-08-05T14:41:39.490379",
     "status": "completed"
    },
    "tags": []
   },
   "outputs": [
    {
     "data": {
      "text/plain": [
       "array([0, 0, 0, ..., 0, 0, 0])"
      ]
     },
     "execution_count": 35,
     "metadata": {},
     "output_type": "execute_result"
    }
   ],
   "source": [
    "model.predict(X_test)"
   ]
  },
  {
   "cell_type": "markdown",
   "id": "56c9705b",
   "metadata": {
    "papermill": {
     "duration": 0.021699,
     "end_time": "2025-08-05T14:41:39.637686",
     "exception": false,
     "start_time": "2025-08-05T14:41:39.615987",
     "status": "completed"
    },
    "tags": []
   },
   "source": [
    "# Conformal Prediction"
   ]
  },
  {
   "cell_type": "code",
   "execution_count": 36,
   "id": "160ec6ff",
   "metadata": {
    "execution": {
     "iopub.execute_input": "2025-08-05T14:41:39.681685Z",
     "iopub.status.busy": "2025-08-05T14:41:39.681193Z",
     "iopub.status.idle": "2025-08-05T14:41:39.686418Z",
     "shell.execute_reply": "2025-08-05T14:41:39.685406Z"
    },
    "papermill": {
     "duration": 0.029287,
     "end_time": "2025-08-05T14:41:39.688212",
     "exception": false,
     "start_time": "2025-08-05T14:41:39.658925",
     "status": "completed"
    },
    "tags": []
   },
   "outputs": [],
   "source": [
    "# Miscoverage level for conformal prediction (10% allowed error rate => 90% target coverage)\n",
    "alpha = 0.1"
   ]
  },
  {
   "cell_type": "code",
   "execution_count": 37,
   "id": "eadf4555-3dd3-440e-8e35-f82a4ad9f855",
   "metadata": {
    "execution": {
     "iopub.execute_input": "2025-08-05T14:41:39.733661Z",
     "iopub.status.busy": "2025-08-05T14:41:39.733173Z",
     "iopub.status.idle": "2025-08-05T14:41:39.811806Z",
     "shell.execute_reply": "2025-08-05T14:41:39.810853Z"
    },
    "papermill": {
     "duration": 0.103762,
     "end_time": "2025-08-05T14:41:39.813855",
     "exception": false,
     "start_time": "2025-08-05T14:41:39.710093",
     "status": "completed"
    },
    "tags": []
   },
   "outputs": [],
   "source": [
    "probs_calib = model.predict_proba(X_calib)"
   ]
  },
  {
   "cell_type": "code",
   "execution_count": 38,
   "id": "2ed93547-6d5d-4983-9b36-1ecb300da49a",
   "metadata": {
    "execution": {
     "iopub.execute_input": "2025-08-05T14:41:39.859012Z",
     "iopub.status.busy": "2025-08-05T14:41:39.858469Z",
     "iopub.status.idle": "2025-08-05T14:41:39.863808Z",
     "shell.execute_reply": "2025-08-05T14:41:39.862896Z"
    },
    "papermill": {
     "duration": 0.029295,
     "end_time": "2025-08-05T14:41:39.865585",
     "exception": false,
     "start_time": "2025-08-05T14:41:39.836290",
     "status": "completed"
    },
    "tags": []
   },
   "outputs": [],
   "source": [
    "y_calib = y_calib.values.ravel().astype(int)"
   ]
  },
  {
   "cell_type": "code",
   "execution_count": 39,
   "id": "65d1320d-f588-4b38-9072-62af1ae97f7d",
   "metadata": {
    "execution": {
     "iopub.execute_input": "2025-08-05T14:41:39.910574Z",
     "iopub.status.busy": "2025-08-05T14:41:39.910284Z",
     "iopub.status.idle": "2025-08-05T14:41:39.916977Z",
     "shell.execute_reply": "2025-08-05T14:41:39.915999Z"
    },
    "papermill": {
     "duration": 0.031282,
     "end_time": "2025-08-05T14:41:39.918492",
     "exception": false,
     "start_time": "2025-08-05T14:41:39.887210",
     "status": "completed"
    },
    "tags": []
   },
   "outputs": [],
   "source": [
    "from fairness_multiverse.conformal import compute_nc_scores\n",
    "\n",
    "# Compute nonconformity scores on calibration set (1 - probability of true class)\n",
    "nc_scores = compute_nc_scores(probs_calib, y_calib)"
   ]
  },
  {
   "cell_type": "code",
   "execution_count": 40,
   "id": "df3b8ca3-53b7-43d5-9667-7c85da7aeda2",
   "metadata": {
    "execution": {
     "iopub.execute_input": "2025-08-05T14:41:39.962723Z",
     "iopub.status.busy": "2025-08-05T14:41:39.962431Z",
     "iopub.status.idle": "2025-08-05T14:41:39.968136Z",
     "shell.execute_reply": "2025-08-05T14:41:39.967220Z"
    },
    "papermill": {
     "duration": 0.029731,
     "end_time": "2025-08-05T14:41:39.969855",
     "exception": false,
     "start_time": "2025-08-05T14:41:39.940124",
     "status": "completed"
    },
    "tags": []
   },
   "outputs": [],
   "source": [
    "from fairness_multiverse.conformal import find_threshold\n",
    "\n",
    "# Find conformal threshold q_hat for the given alpha (split conformal method)\n",
    "q_hat = find_threshold(nc_scores, alpha)"
   ]
  },
  {
   "cell_type": "code",
   "execution_count": 41,
   "id": "4d29e6c1-0ef6-4aa4-b8fe-4fe79b0d033a",
   "metadata": {
    "execution": {
     "iopub.execute_input": "2025-08-05T14:41:40.014320Z",
     "iopub.status.busy": "2025-08-05T14:41:40.013712Z",
     "iopub.status.idle": "2025-08-05T14:41:40.020345Z",
     "shell.execute_reply": "2025-08-05T14:41:40.019261Z"
    },
    "papermill": {
     "duration": 0.030401,
     "end_time": "2025-08-05T14:41:40.022144",
     "exception": false,
     "start_time": "2025-08-05T14:41:39.991743",
     "status": "completed"
    },
    "tags": []
   },
   "outputs": [
    {
     "data": {
      "text/plain": [
       "0.6847515656689096"
      ]
     },
     "execution_count": 41,
     "metadata": {},
     "output_type": "execute_result"
    }
   ],
   "source": [
    "q_hat"
   ]
  },
  {
   "cell_type": "code",
   "execution_count": 42,
   "id": "92460794-cdac-4be2-ba28-f28c0515a6fb",
   "metadata": {
    "execution": {
     "iopub.execute_input": "2025-08-05T14:41:40.066838Z",
     "iopub.status.busy": "2025-08-05T14:41:40.066548Z",
     "iopub.status.idle": "2025-08-05T14:41:40.725783Z",
     "shell.execute_reply": "2025-08-05T14:41:40.724877Z"
    },
    "papermill": {
     "duration": 0.683537,
     "end_time": "2025-08-05T14:41:40.727588",
     "exception": false,
     "start_time": "2025-08-05T14:41:40.044051",
     "status": "completed"
    },
    "tags": []
   },
   "outputs": [],
   "source": [
    "from fairness_multiverse.conformal import predict_conformal_sets\n",
    "\n",
    "# Generate prediction sets for each test example\n",
    "pred_sets = predict_conformal_sets(model, X_test, q_hat)"
   ]
  },
  {
   "cell_type": "code",
   "execution_count": 43,
   "id": "d90c9a65-e6db-4f5d-80cd-e68fb7e46829",
   "metadata": {
    "execution": {
     "iopub.execute_input": "2025-08-05T14:41:40.767766Z",
     "iopub.status.busy": "2025-08-05T14:41:40.767255Z",
     "iopub.status.idle": "2025-08-05T14:41:40.773492Z",
     "shell.execute_reply": "2025-08-05T14:41:40.772351Z"
    },
    "papermill": {
     "duration": 0.028031,
     "end_time": "2025-08-05T14:41:40.775567",
     "exception": false,
     "start_time": "2025-08-05T14:41:40.747536",
     "status": "completed"
    },
    "tags": []
   },
   "outputs": [],
   "source": [
    "y_true = y_true.squeeze()"
   ]
  },
  {
   "cell_type": "code",
   "execution_count": 44,
   "id": "3a58a54a-1e68-46b9-927a-df01f18aebc8",
   "metadata": {
    "execution": {
     "iopub.execute_input": "2025-08-05T14:41:40.825869Z",
     "iopub.status.busy": "2025-08-05T14:41:40.825314Z",
     "iopub.status.idle": "2025-08-05T14:41:41.661662Z",
     "shell.execute_reply": "2025-08-05T14:41:41.660529Z"
    },
    "papermill": {
     "duration": 0.863412,
     "end_time": "2025-08-05T14:41:41.663824",
     "exception": false,
     "start_time": "2025-08-05T14:41:40.800412",
     "status": "completed"
    },
    "tags": []
   },
   "outputs": [],
   "source": [
    "from fairness_multiverse.conformal import evaluate_sets\n",
    "\n",
    "# Evaluate coverage and average set size on test data\n",
    "metrics = evaluate_sets(pred_sets, y_true)"
   ]
  },
  {
   "cell_type": "markdown",
   "id": "2b569c12-9aaa-4c88-98c9-bbcd0cf3ebb8",
   "metadata": {
    "papermill": {
     "duration": 0.023356,
     "end_time": "2025-08-05T14:41:41.712929",
     "exception": false,
     "start_time": "2025-08-05T14:41:41.689573",
     "status": "completed"
    },
    "tags": []
   },
   "source": [
    "# CP Metrics"
   ]
  },
  {
   "cell_type": "code",
   "execution_count": 45,
   "id": "5ce0a5cb-201f-45a0-ade5-94c7f0bd6095",
   "metadata": {
    "execution": {
     "iopub.execute_input": "2025-08-05T14:41:41.761523Z",
     "iopub.status.busy": "2025-08-05T14:41:41.761055Z",
     "iopub.status.idle": "2025-08-05T14:41:41.768017Z",
     "shell.execute_reply": "2025-08-05T14:41:41.766951Z"
    },
    "papermill": {
     "duration": 0.033617,
     "end_time": "2025-08-05T14:41:41.770065",
     "exception": false,
     "start_time": "2025-08-05T14:41:41.736448",
     "status": "completed"
    },
    "tags": []
   },
   "outputs": [
    {
     "data": {
      "text/plain": [
       "{'coverage': 0.911826998105005, 'avg_size': 1.1988407089510646}"
      ]
     },
     "execution_count": 45,
     "metadata": {},
     "output_type": "execute_result"
    }
   ],
   "source": [
    "metrics"
   ]
  },
  {
   "cell_type": "code",
   "execution_count": 46,
   "id": "9b9a838d-31c9-430b-ae14-12baee460d17",
   "metadata": {
    "execution": {
     "iopub.execute_input": "2025-08-05T14:41:41.818084Z",
     "iopub.status.busy": "2025-08-05T14:41:41.817219Z",
     "iopub.status.idle": "2025-08-05T14:41:41.822477Z",
     "shell.execute_reply": "2025-08-05T14:41:41.821734Z"
    },
    "papermill": {
     "duration": 0.030811,
     "end_time": "2025-08-05T14:41:41.823944",
     "exception": false,
     "start_time": "2025-08-05T14:41:41.793133",
     "status": "completed"
    },
    "tags": []
   },
   "outputs": [],
   "source": [
    "example_universe = universe.copy()\n",
    "universe_training_year = example_universe.get(\"training_year\")\n",
    "universe_training_size = example_universe.get(\"training_size\")\n",
    "universe_scale = example_universe.get(\"scale\")\n",
    "universe_model = example_universe.get(\"model\")\n",
    "universe_exclude_features = example_universe.get(\"exclude_features\")\n",
    "universe_exclude_subgroups = example_universe.get(\"exclude_subgroups\")"
   ]
  },
  {
   "cell_type": "code",
   "execution_count": 47,
   "id": "f4b6a8ac-9dc0-4245-8a91-5b3b5999c4f9",
   "metadata": {
    "execution": {
     "iopub.execute_input": "2025-08-05T14:41:41.847220Z",
     "iopub.status.busy": "2025-08-05T14:41:41.846835Z",
     "iopub.status.idle": "2025-08-05T14:41:41.852124Z",
     "shell.execute_reply": "2025-08-05T14:41:41.851142Z"
    },
    "papermill": {
     "duration": 0.018279,
     "end_time": "2025-08-05T14:41:41.854034",
     "exception": false,
     "start_time": "2025-08-05T14:41:41.835755",
     "status": "completed"
    },
    "tags": []
   },
   "outputs": [],
   "source": [
    "cp_metrics_dict = {\n",
    "    \"universe_id\": [universe_id],\n",
    "    \"universe_training_year\": [universe_training_year],\n",
    "    \"universe_training_size\": [universe_training_size],\n",
    "    \"universe_scale\": [universe_scale],\n",
    "    \"universe_model\": [universe_model],\n",
    "    \"universe_exclude_features\": [universe_exclude_features],\n",
    "    \"universe_exclude_subgroups\": [universe_exclude_subgroups],\n",
    "    \"q_hat\": [q_hat],\n",
    "    \"coverage\": [metrics[\"coverage\"]],\n",
    "    \"avg_size\": [metrics[\"avg_size\"]],\n",
    "}"
   ]
  },
  {
   "cell_type": "code",
   "execution_count": 48,
   "id": "908acbb1-0371-4915-85ca-3fa520d2efe2",
   "metadata": {
    "execution": {
     "iopub.execute_input": "2025-08-05T14:41:41.895492Z",
     "iopub.status.busy": "2025-08-05T14:41:41.894865Z",
     "iopub.status.idle": "2025-08-05T14:41:41.902838Z",
     "shell.execute_reply": "2025-08-05T14:41:41.901625Z"
    },
    "papermill": {
     "duration": 0.029494,
     "end_time": "2025-08-05T14:41:41.904651",
     "exception": false,
     "start_time": "2025-08-05T14:41:41.875157",
     "status": "completed"
    },
    "tags": []
   },
   "outputs": [
    {
     "data": {
      "text/plain": [
       "{'universe_id': ['95954d28a76cfd12e5170726bcf83cc1'],\n",
       " 'universe_training_year': ['2014'],\n",
       " 'universe_training_size': ['25k'],\n",
       " 'universe_scale': ['do-not-scale'],\n",
       " 'universe_model': ['penalized_logreg'],\n",
       " 'universe_exclude_features': ['sex'],\n",
       " 'universe_exclude_subgroups': ['keep-all'],\n",
       " 'q_hat': [0.6847515656689096],\n",
       " 'coverage': [0.911826998105005],\n",
       " 'avg_size': [1.1988407089510646]}"
      ]
     },
     "execution_count": 48,
     "metadata": {},
     "output_type": "execute_result"
    }
   ],
   "source": [
    "cp_metrics_dict"
   ]
  },
  {
   "cell_type": "code",
   "execution_count": 49,
   "id": "33007efc-14e9-4ec6-97ac-56a455c82265",
   "metadata": {
    "execution": {
     "iopub.execute_input": "2025-08-05T14:41:41.945623Z",
     "iopub.status.busy": "2025-08-05T14:41:41.945262Z",
     "iopub.status.idle": "2025-08-05T14:41:41.949973Z",
     "shell.execute_reply": "2025-08-05T14:41:41.949144Z"
    },
    "papermill": {
     "duration": 0.026088,
     "end_time": "2025-08-05T14:41:41.951463",
     "exception": false,
     "start_time": "2025-08-05T14:41:41.925375",
     "status": "completed"
    },
    "tags": []
   },
   "outputs": [],
   "source": [
    "cp_metrics_df = pd.DataFrame(cp_metrics_dict)"
   ]
  },
  {
   "cell_type": "code",
   "execution_count": 50,
   "id": "db12611b-57b2-4910-b9d0-355adfd6e7bf",
   "metadata": {
    "execution": {
     "iopub.execute_input": "2025-08-05T14:41:41.974414Z",
     "iopub.status.busy": "2025-08-05T14:41:41.974040Z",
     "iopub.status.idle": "2025-08-05T14:41:41.990935Z",
     "shell.execute_reply": "2025-08-05T14:41:41.990160Z"
    },
    "papermill": {
     "duration": 0.029588,
     "end_time": "2025-08-05T14:41:41.992397",
     "exception": false,
     "start_time": "2025-08-05T14:41:41.962809",
     "status": "completed"
    },
    "tags": []
   },
   "outputs": [
    {
     "data": {
      "text/html": [
       "<div>\n",
       "<style scoped>\n",
       "    .dataframe tbody tr th:only-of-type {\n",
       "        vertical-align: middle;\n",
       "    }\n",
       "\n",
       "    .dataframe tbody tr th {\n",
       "        vertical-align: top;\n",
       "    }\n",
       "\n",
       "    .dataframe thead th {\n",
       "        text-align: right;\n",
       "    }\n",
       "</style>\n",
       "<table border=\"1\" class=\"dataframe\">\n",
       "  <thead>\n",
       "    <tr style=\"text-align: right;\">\n",
       "      <th></th>\n",
       "      <th>universe_id</th>\n",
       "      <th>universe_training_year</th>\n",
       "      <th>universe_training_size</th>\n",
       "      <th>universe_scale</th>\n",
       "      <th>universe_model</th>\n",
       "      <th>universe_exclude_features</th>\n",
       "      <th>universe_exclude_subgroups</th>\n",
       "      <th>q_hat</th>\n",
       "      <th>coverage</th>\n",
       "      <th>avg_size</th>\n",
       "    </tr>\n",
       "  </thead>\n",
       "  <tbody>\n",
       "    <tr>\n",
       "      <th>0</th>\n",
       "      <td>95954d28a76cfd12e5170726bcf83cc1</td>\n",
       "      <td>2014</td>\n",
       "      <td>25k</td>\n",
       "      <td>do-not-scale</td>\n",
       "      <td>penalized_logreg</td>\n",
       "      <td>sex</td>\n",
       "      <td>keep-all</td>\n",
       "      <td>0.684752</td>\n",
       "      <td>0.911827</td>\n",
       "      <td>1.198841</td>\n",
       "    </tr>\n",
       "  </tbody>\n",
       "</table>\n",
       "</div>"
      ],
      "text/plain": [
       "                        universe_id universe_training_year  \\\n",
       "0  95954d28a76cfd12e5170726bcf83cc1                   2014   \n",
       "\n",
       "  universe_training_size universe_scale    universe_model  \\\n",
       "0                    25k   do-not-scale  penalized_logreg   \n",
       "\n",
       "  universe_exclude_features universe_exclude_subgroups     q_hat  coverage  \\\n",
       "0                       sex                   keep-all  0.684752  0.911827   \n",
       "\n",
       "   avg_size  \n",
       "0  1.198841  "
      ]
     },
     "execution_count": 50,
     "metadata": {},
     "output_type": "execute_result"
    }
   ],
   "source": [
    "cp_metrics_df"
   ]
  },
  {
   "cell_type": "code",
   "execution_count": 51,
   "id": "b7fbde55-a0a1-47e4-9af6-fe4a17fa8c61",
   "metadata": {
    "execution": {
     "iopub.execute_input": "2025-08-05T14:41:42.037967Z",
     "iopub.status.busy": "2025-08-05T14:41:42.037573Z",
     "iopub.status.idle": "2025-08-05T14:41:42.042383Z",
     "shell.execute_reply": "2025-08-05T14:41:42.041238Z"
    },
    "papermill": {
     "duration": 0.027278,
     "end_time": "2025-08-05T14:41:42.044076",
     "exception": false,
     "start_time": "2025-08-05T14:41:42.016798",
     "status": "completed"
    },
    "tags": []
   },
   "outputs": [],
   "source": [
    "# Conditional Coverage & looking at subgroups"
   ]
  },
  {
   "cell_type": "code",
   "execution_count": 52,
   "id": "027ae886-68dd-4141-96c7-805a5450e1ef",
   "metadata": {
    "execution": {
     "iopub.execute_input": "2025-08-05T14:41:42.084948Z",
     "iopub.status.busy": "2025-08-05T14:41:42.084449Z",
     "iopub.status.idle": "2025-08-05T14:41:42.346156Z",
     "shell.execute_reply": "2025-08-05T14:41:42.345087Z"
    },
    "papermill": {
     "duration": 0.283718,
     "end_time": "2025-08-05T14:41:42.347953",
     "exception": false,
     "start_time": "2025-08-05T14:41:42.064235",
     "status": "completed"
    },
    "tags": []
   },
   "outputs": [],
   "source": [
    "from fairness_multiverse.conformal import build_cp_groups\n",
    "\n",
    "cp_groups_df = build_cp_groups(pred_sets, y_true, X_test.index, org_test)\n",
    "#needs universe_id and setting"
   ]
  },
  {
   "cell_type": "code",
   "execution_count": 53,
   "id": "6cbdab96-b2b2-45af-ad54-d0516db2e28d",
   "metadata": {
    "execution": {
     "iopub.execute_input": "2025-08-05T14:41:42.390432Z",
     "iopub.status.busy": "2025-08-05T14:41:42.389711Z",
     "iopub.status.idle": "2025-08-05T14:41:43.886100Z",
     "shell.execute_reply": "2025-08-05T14:41:43.885097Z"
    },
    "papermill": {
     "duration": 1.520174,
     "end_time": "2025-08-05T14:41:43.888168",
     "exception": false,
     "start_time": "2025-08-05T14:41:42.367994",
     "status": "completed"
    },
    "tags": []
   },
   "outputs": [],
   "source": [
    "# Define covered = 1 if true_label is in the predicted set\n",
    "cp_groups_df['covered'] = cp_groups_df.apply(\n",
    "    lambda r: int(r['true_label'] in r['pred_set']),\n",
    "    axis=1\n",
    ")"
   ]
  },
  {
   "cell_type": "code",
   "execution_count": 54,
   "id": "338ff529-1a6b-4b87-a931-8e4788d52aad",
   "metadata": {
    "execution": {
     "iopub.execute_input": "2025-08-05T14:41:43.929989Z",
     "iopub.status.busy": "2025-08-05T14:41:43.929278Z",
     "iopub.status.idle": "2025-08-05T14:41:43.934685Z",
     "shell.execute_reply": "2025-08-05T14:41:43.933671Z"
    },
    "papermill": {
     "duration": 0.027841,
     "end_time": "2025-08-05T14:41:43.936200",
     "exception": false,
     "start_time": "2025-08-05T14:41:43.908359",
     "status": "completed"
    },
    "tags": []
   },
   "outputs": [],
   "source": [
    "#cp_groups_df"
   ]
  },
  {
   "cell_type": "code",
   "execution_count": 55,
   "id": "90032e27-66df-4540-9169-4e89cfbaa758",
   "metadata": {
    "execution": {
     "iopub.execute_input": "2025-08-05T14:41:43.982187Z",
     "iopub.status.busy": "2025-08-05T14:41:43.981528Z",
     "iopub.status.idle": "2025-08-05T14:41:43.992381Z",
     "shell.execute_reply": "2025-08-05T14:41:43.991459Z"
    },
    "papermill": {
     "duration": 0.036596,
     "end_time": "2025-08-05T14:41:43.994296",
     "exception": false,
     "start_time": "2025-08-05T14:41:43.957700",
     "status": "completed"
    },
    "tags": []
   },
   "outputs": [],
   "source": [
    "subgroups = ['frau1','nongerman','nongerman_male','nongerman_female']\n",
    "\n",
    "# Conditional coverage for subgroup==1\n",
    "cond_coverage = {\n",
    "    g: cp_groups_df.loc[cp_groups_df[g]==1, 'covered'].mean()\n",
    "    for g in subgroups\n",
    "}"
   ]
  },
  {
   "cell_type": "code",
   "execution_count": 56,
   "id": "1e348fb1-b9c3-45bc-ba23-f016827a7e0d",
   "metadata": {
    "execution": {
     "iopub.execute_input": "2025-08-05T14:41:44.036336Z",
     "iopub.status.busy": "2025-08-05T14:41:44.035823Z",
     "iopub.status.idle": "2025-08-05T14:41:44.042416Z",
     "shell.execute_reply": "2025-08-05T14:41:44.041388Z"
    },
    "papermill": {
     "duration": 0.02981,
     "end_time": "2025-08-05T14:41:44.044067",
     "exception": false,
     "start_time": "2025-08-05T14:41:44.014257",
     "status": "completed"
    },
    "tags": []
   },
   "outputs": [
    {
     "data": {
      "text/plain": [
       "{'frau1': 0.9101496158511929,\n",
       " 'nongerman': 0.9285353393588952,\n",
       " 'nongerman_male': 0.9426281185265244,\n",
       " 'nongerman_female': 0.9052160953800298}"
      ]
     },
     "execution_count": 56,
     "metadata": {},
     "output_type": "execute_result"
    }
   ],
   "source": [
    "cond_coverage"
   ]
  },
  {
   "cell_type": "code",
   "execution_count": 57,
   "id": "f5093324-c3dd-4d63-bc4c-8d945e5c8bbb",
   "metadata": {
    "execution": {
     "iopub.execute_input": "2025-08-05T14:41:44.085690Z",
     "iopub.status.busy": "2025-08-05T14:41:44.085343Z",
     "iopub.status.idle": "2025-08-05T14:41:44.094502Z",
     "shell.execute_reply": "2025-08-05T14:41:44.093562Z"
    },
    "papermill": {
     "duration": 0.031746,
     "end_time": "2025-08-05T14:41:44.096032",
     "exception": false,
     "start_time": "2025-08-05T14:41:44.064286",
     "status": "completed"
    },
    "tags": []
   },
   "outputs": [],
   "source": [
    "for subgroup, cov in cond_coverage.items():\n",
    "    cp_metrics_df[f\"cov_{subgroup}\"] = cov"
   ]
  },
  {
   "cell_type": "code",
   "execution_count": 58,
   "id": "6e872e10-dbe5-49e8-b554-5030c98ff75d",
   "metadata": {
    "execution": {
     "iopub.execute_input": "2025-08-05T14:41:44.139175Z",
     "iopub.status.busy": "2025-08-05T14:41:44.138657Z",
     "iopub.status.idle": "2025-08-05T14:41:44.157345Z",
     "shell.execute_reply": "2025-08-05T14:41:44.156207Z"
    },
    "papermill": {
     "duration": 0.042054,
     "end_time": "2025-08-05T14:41:44.159016",
     "exception": false,
     "start_time": "2025-08-05T14:41:44.116962",
     "status": "completed"
    },
    "tags": []
   },
   "outputs": [
    {
     "data": {
      "text/html": [
       "<div>\n",
       "<style scoped>\n",
       "    .dataframe tbody tr th:only-of-type {\n",
       "        vertical-align: middle;\n",
       "    }\n",
       "\n",
       "    .dataframe tbody tr th {\n",
       "        vertical-align: top;\n",
       "    }\n",
       "\n",
       "    .dataframe thead th {\n",
       "        text-align: right;\n",
       "    }\n",
       "</style>\n",
       "<table border=\"1\" class=\"dataframe\">\n",
       "  <thead>\n",
       "    <tr style=\"text-align: right;\">\n",
       "      <th></th>\n",
       "      <th>universe_id</th>\n",
       "      <th>universe_training_year</th>\n",
       "      <th>universe_training_size</th>\n",
       "      <th>universe_scale</th>\n",
       "      <th>universe_model</th>\n",
       "      <th>universe_exclude_features</th>\n",
       "      <th>universe_exclude_subgroups</th>\n",
       "      <th>q_hat</th>\n",
       "      <th>coverage</th>\n",
       "      <th>avg_size</th>\n",
       "      <th>cov_frau1</th>\n",
       "      <th>cov_nongerman</th>\n",
       "      <th>cov_nongerman_male</th>\n",
       "      <th>cov_nongerman_female</th>\n",
       "    </tr>\n",
       "  </thead>\n",
       "  <tbody>\n",
       "    <tr>\n",
       "      <th>0</th>\n",
       "      <td>95954d28a76cfd12e5170726bcf83cc1</td>\n",
       "      <td>2014</td>\n",
       "      <td>25k</td>\n",
       "      <td>do-not-scale</td>\n",
       "      <td>penalized_logreg</td>\n",
       "      <td>sex</td>\n",
       "      <td>keep-all</td>\n",
       "      <td>0.684752</td>\n",
       "      <td>0.911827</td>\n",
       "      <td>1.198841</td>\n",
       "      <td>0.91015</td>\n",
       "      <td>0.928535</td>\n",
       "      <td>0.942628</td>\n",
       "      <td>0.905216</td>\n",
       "    </tr>\n",
       "  </tbody>\n",
       "</table>\n",
       "</div>"
      ],
      "text/plain": [
       "                        universe_id universe_training_year  \\\n",
       "0  95954d28a76cfd12e5170726bcf83cc1                   2014   \n",
       "\n",
       "  universe_training_size universe_scale    universe_model  \\\n",
       "0                    25k   do-not-scale  penalized_logreg   \n",
       "\n",
       "  universe_exclude_features universe_exclude_subgroups     q_hat  coverage  \\\n",
       "0                       sex                   keep-all  0.684752  0.911827   \n",
       "\n",
       "   avg_size  cov_frau1  cov_nongerman  cov_nongerman_male  \\\n",
       "0  1.198841    0.91015       0.928535            0.942628   \n",
       "\n",
       "   cov_nongerman_female  \n",
       "0              0.905216  "
      ]
     },
     "execution_count": 58,
     "metadata": {},
     "output_type": "execute_result"
    }
   ],
   "source": [
    "cp_metrics_df"
   ]
  },
  {
   "cell_type": "markdown",
   "id": "33774451",
   "metadata": {
    "papermill": {
     "duration": 0.022875,
     "end_time": "2025-08-05T14:41:44.204334",
     "exception": false,
     "start_time": "2025-08-05T14:41:44.181459",
     "status": "completed"
    },
    "tags": []
   },
   "source": [
    "# (Fairness) Metrics"
   ]
  },
  {
   "cell_type": "code",
   "execution_count": 59,
   "id": "debc5d62",
   "metadata": {
    "execution": {
     "iopub.execute_input": "2025-08-05T14:41:44.250893Z",
     "iopub.status.busy": "2025-08-05T14:41:44.250202Z",
     "iopub.status.idle": "2025-08-05T14:41:44.272259Z",
     "shell.execute_reply": "2025-08-05T14:41:44.271269Z"
    },
    "papermill": {
     "duration": 0.047168,
     "end_time": "2025-08-05T14:41:44.274129",
     "exception": false,
     "start_time": "2025-08-05T14:41:44.226961",
     "status": "completed"
    },
    "tags": []
   },
   "outputs": [],
   "source": [
    "# do I need to include maxdeutsch1.missing?\n",
    "\n",
    "import numpy as np\n",
    "\n",
    "colname_to_bin = \"maxdeutsch1\"\n",
    "majority_value = org_train[colname_to_bin].mode()[0]\n",
    "\n",
    "org_test[\"majmin\"] = np.where(org_test[colname_to_bin] == majority_value, \"majority\", \"minority\")"
   ]
  },
  {
   "cell_type": "code",
   "execution_count": 60,
   "id": "06a50de5",
   "metadata": {
    "execution": {
     "iopub.execute_input": "2025-08-05T14:41:44.317587Z",
     "iopub.status.busy": "2025-08-05T14:41:44.316767Z",
     "iopub.status.idle": "2025-08-05T14:41:47.099617Z",
     "shell.execute_reply": "2025-08-05T14:41:47.098698Z"
    },
    "papermill": {
     "duration": 2.8062,
     "end_time": "2025-08-05T14:41:47.101523",
     "exception": false,
     "start_time": "2025-08-05T14:41:44.295323",
     "status": "completed"
    },
    "tags": []
   },
   "outputs": [],
   "source": [
    "example_universe = universe.copy()\n",
    "example_universe[\"cutoff\"] = example_universe[\"cutoff\"][0]\n",
    "example_universe[\"eval_fairness_grouping\"] = example_universe[\"eval_fairness_grouping\"][0]\n",
    "fairness_dict, metric_frame = universe_analysis.compute_metrics(\n",
    "    example_universe,\n",
    "    y_pred_prob=probs_test,\n",
    "    y_test=y_true,\n",
    "    org_test=org_test,\n",
    ")"
   ]
  },
  {
   "cell_type": "markdown",
   "id": "f95d4e02",
   "metadata": {
    "papermill": {
     "duration": 0.022167,
     "end_time": "2025-08-05T14:41:47.146650",
     "exception": false,
     "start_time": "2025-08-05T14:41:47.124483",
     "status": "completed"
    },
    "tags": []
   },
   "source": [
    "# Overall"
   ]
  },
  {
   "cell_type": "markdown",
   "id": "bdee4871",
   "metadata": {
    "papermill": {
     "duration": 0.023187,
     "end_time": "2025-08-05T14:41:47.192260",
     "exception": false,
     "start_time": "2025-08-05T14:41:47.169073",
     "status": "completed"
    },
    "tags": []
   },
   "source": [
    "Fairness\n",
    "Main fairness target: Equalized Odds. Seems to be a better fit than equal opportunity, since we're not only interested in Y = 1. Seems to be a better fit than demographic parity, since we also care about accuracy, not just equal distribution of preds.\n",
    "\n",
    "Pick column for computation of fairness metrics\n",
    "\n",
    "Performance\n",
    "Overall performance measures, most interesting in relation to the measures split by group below"
   ]
  },
  {
   "cell_type": "code",
   "execution_count": 61,
   "id": "c4e067c6",
   "metadata": {
    "execution": {
     "iopub.execute_input": "2025-08-05T14:41:47.240529Z",
     "iopub.status.busy": "2025-08-05T14:41:47.239856Z",
     "iopub.status.idle": "2025-08-05T14:41:47.249033Z",
     "shell.execute_reply": "2025-08-05T14:41:47.248004Z"
    },
    "papermill": {
     "duration": 0.0368,
     "end_time": "2025-08-05T14:41:47.250788",
     "exception": false,
     "start_time": "2025-08-05T14:41:47.213988",
     "status": "completed"
    },
    "tags": []
   },
   "outputs": [
    {
     "data": {
      "text/plain": [
       "accuracy                   0.217311\n",
       "balanced accuracy          0.532836\n",
       "f1                         0.238837\n",
       "precision                  0.136440\n",
       "false positive rate        0.891576\n",
       "false negative rate        0.042753\n",
       "selection rate             0.900000\n",
       "count                  89710.000000\n",
       "dtype: float64"
      ]
     },
     "execution_count": 61,
     "metadata": {},
     "output_type": "execute_result"
    }
   ],
   "source": [
    "metric_frame.overall"
   ]
  },
  {
   "cell_type": "markdown",
   "id": "e968fe9d",
   "metadata": {
    "papermill": {
     "duration": 0.020165,
     "end_time": "2025-08-05T14:41:47.292600",
     "exception": false,
     "start_time": "2025-08-05T14:41:47.272435",
     "status": "completed"
    },
    "tags": []
   },
   "source": [
    "By Group"
   ]
  },
  {
   "cell_type": "code",
   "execution_count": 62,
   "id": "ec325bce",
   "metadata": {
    "execution": {
     "iopub.execute_input": "2025-08-05T14:41:47.336529Z",
     "iopub.status.busy": "2025-08-05T14:41:47.335878Z",
     "iopub.status.idle": "2025-08-05T14:41:47.352021Z",
     "shell.execute_reply": "2025-08-05T14:41:47.350991Z"
    },
    "papermill": {
     "duration": 0.040142,
     "end_time": "2025-08-05T14:41:47.353627",
     "exception": false,
     "start_time": "2025-08-05T14:41:47.313485",
     "status": "completed"
    },
    "tags": []
   },
   "outputs": [
    {
     "data": {
      "text/html": [
       "<div>\n",
       "<style scoped>\n",
       "    .dataframe tbody tr th:only-of-type {\n",
       "        vertical-align: middle;\n",
       "    }\n",
       "\n",
       "    .dataframe tbody tr th {\n",
       "        vertical-align: top;\n",
       "    }\n",
       "\n",
       "    .dataframe thead th {\n",
       "        text-align: right;\n",
       "    }\n",
       "</style>\n",
       "<table border=\"1\" class=\"dataframe\">\n",
       "  <thead>\n",
       "    <tr style=\"text-align: right;\">\n",
       "      <th></th>\n",
       "      <th>accuracy</th>\n",
       "      <th>balanced accuracy</th>\n",
       "      <th>f1</th>\n",
       "      <th>precision</th>\n",
       "      <th>false positive rate</th>\n",
       "      <th>false negative rate</th>\n",
       "      <th>selection rate</th>\n",
       "      <th>count</th>\n",
       "    </tr>\n",
       "    <tr>\n",
       "      <th>majmin</th>\n",
       "      <th></th>\n",
       "      <th></th>\n",
       "      <th></th>\n",
       "      <th></th>\n",
       "      <th></th>\n",
       "      <th></th>\n",
       "      <th></th>\n",
       "      <th></th>\n",
       "    </tr>\n",
       "  </thead>\n",
       "  <tbody>\n",
       "    <tr>\n",
       "      <th>majority</th>\n",
       "      <td>0.238875</td>\n",
       "      <td>0.540115</td>\n",
       "      <td>0.247954</td>\n",
       "      <td>0.142594</td>\n",
       "      <td>0.869332</td>\n",
       "      <td>0.050438</td>\n",
       "      <td>0.879933</td>\n",
       "      <td>69170.0</td>\n",
       "    </tr>\n",
       "    <tr>\n",
       "      <th>minority</th>\n",
       "      <td>0.144693</td>\n",
       "      <td>0.510926</td>\n",
       "      <td>0.210143</td>\n",
       "      <td>0.117591</td>\n",
       "      <td>0.965056</td>\n",
       "      <td>0.013091</td>\n",
       "      <td>0.967575</td>\n",
       "      <td>20540.0</td>\n",
       "    </tr>\n",
       "  </tbody>\n",
       "</table>\n",
       "</div>"
      ],
      "text/plain": [
       "          accuracy  balanced accuracy        f1  precision  \\\n",
       "majmin                                                       \n",
       "majority  0.238875           0.540115  0.247954   0.142594   \n",
       "minority  0.144693           0.510926  0.210143   0.117591   \n",
       "\n",
       "          false positive rate  false negative rate  selection rate    count  \n",
       "majmin                                                                       \n",
       "majority             0.869332             0.050438        0.879933  69170.0  \n",
       "minority             0.965056             0.013091        0.967575  20540.0  "
      ]
     },
     "execution_count": 62,
     "metadata": {},
     "output_type": "execute_result"
    }
   ],
   "source": [
    "metric_frame.by_group"
   ]
  },
  {
   "cell_type": "code",
   "execution_count": 63,
   "id": "a9ddbe63",
   "metadata": {
    "execution": {
     "iopub.execute_input": "2025-08-05T14:41:47.398677Z",
     "iopub.status.busy": "2025-08-05T14:41:47.397897Z",
     "iopub.status.idle": "2025-08-05T14:41:49.863131Z",
     "shell.execute_reply": "2025-08-05T14:41:49.862253Z"
    },
    "papermill": {
     "duration": 2.488483,
     "end_time": "2025-08-05T14:41:49.864699",
     "exception": false,
     "start_time": "2025-08-05T14:41:47.376216",
     "status": "completed"
    },
    "tags": []
   },
   "outputs": [
    {
     "data": {
      "text/plain": [
       "array([[<Axes: title={'center': 'accuracy'}, xlabel='majmin'>,\n",
       "        <Axes: title={'center': 'balanced accuracy'}, xlabel='majmin'>,\n",
       "        <Axes: title={'center': 'f1'}, xlabel='majmin'>],\n",
       "       [<Axes: title={'center': 'precision'}, xlabel='majmin'>,\n",
       "        <Axes: title={'center': 'false positive rate'}, xlabel='majmin'>,\n",
       "        <Axes: title={'center': 'false negative rate'}, xlabel='majmin'>],\n",
       "       [<Axes: title={'center': 'selection rate'}, xlabel='majmin'>,\n",
       "        <Axes: title={'center': 'count'}, xlabel='majmin'>,\n",
       "        <Axes: xlabel='majmin'>]], dtype=object)"
      ]
     },
     "execution_count": 63,
     "metadata": {},
     "output_type": "execute_result"
    },
    {
     "data": {
      "image/png": "[encoded data removed]",
      "text/plain": [
       "<Figure size 1200x800 with 9 Axes>"
      ]
     },
     "metadata": {},
     "output_type": "display_data"
    }
   ],
   "source": [
    "# In a graphic\n",
    "metric_frame.by_group.plot.bar(\n",
    "    subplots=True,\n",
    "    layout=[3, 3],\n",
    "    legend=False,\n",
    "    figsize=[12, 8],\n",
    "    title=\"Show all metrics\",\n",
    ")"
   ]
  },
  {
   "cell_type": "markdown",
   "id": "f57a0bac",
   "metadata": {
    "papermill": {
     "duration": 0.022164,
     "end_time": "2025-08-05T14:41:49.910141",
     "exception": false,
     "start_time": "2025-08-05T14:41:49.887977",
     "status": "completed"
    },
    "tags": []
   },
   "source": [
    "# Final Output"
   ]
  },
  {
   "cell_type": "code",
   "execution_count": 64,
   "id": "96d280a3",
   "metadata": {
    "execution": {
     "iopub.execute_input": "2025-08-05T14:41:49.956849Z",
     "iopub.status.busy": "2025-08-05T14:41:49.956146Z",
     "iopub.status.idle": "2025-08-05T14:41:49.964597Z",
     "shell.execute_reply": "2025-08-05T14:41:49.963719Z"
    },
    "papermill": {
     "duration": 0.033719,
     "end_time": "2025-08-05T14:41:49.966082",
     "exception": false,
     "start_time": "2025-08-05T14:41:49.932363",
     "status": "completed"
    },
    "tags": []
   },
   "outputs": [
    {
     "data": {
      "text/plain": [
       "4"
      ]
     },
     "execution_count": 64,
     "metadata": {},
     "output_type": "execute_result"
    }
   ],
   "source": [
    "sub_universes = universe_analysis.generate_sub_universes()\n",
    "len(sub_universes)"
   ]
  },
  {
   "cell_type": "code",
   "execution_count": 65,
   "id": "92adf7ba",
   "metadata": {
    "execution": {
     "iopub.execute_input": "2025-08-05T14:41:50.013125Z",
     "iopub.status.busy": "2025-08-05T14:41:50.012292Z",
     "iopub.status.idle": "2025-08-05T14:41:50.018219Z",
     "shell.execute_reply": "2025-08-05T14:41:50.017290Z"
    },
    "papermill": {
     "duration": 0.031897,
     "end_time": "2025-08-05T14:41:50.020076",
     "exception": false,
     "start_time": "2025-08-05T14:41:49.988179",
     "status": "completed"
    },
    "tags": []
   },
   "outputs": [],
   "source": [
    "def filter_sub_universe_data(sub_universe, org_test):\n",
    "    # Keep all rows — no filtering\n",
    "    keep_rows_mask = np.ones(org_test.shape[0], dtype=bool)\n",
    "\n",
    "    print(f\"[INFO] Keeping all rows: {keep_rows_mask.sum()} rows retained.\")\n",
    "    return keep_rows_mask"
   ]
  },
  {
   "cell_type": "code",
   "execution_count": 66,
   "id": "4a759155",
   "metadata": {
    "execution": {
     "iopub.execute_input": "2025-08-05T14:41:50.067751Z",
     "iopub.status.busy": "2025-08-05T14:41:50.067008Z",
     "iopub.status.idle": "2025-08-05T14:41:58.230074Z",
     "shell.execute_reply": "2025-08-05T14:41:58.228994Z"
    },
    "papermill": {
     "duration": 8.187814,
     "end_time": "2025-08-05T14:41:58.231381",
     "exception": false,
     "start_time": "2025-08-05T14:41:50.043567",
     "status": "completed"
    },
    "tags": []
   },
   "outputs": [
    {
     "name": "stdout",
     "output_type": "stream",
     "text": [
      "Stopping execution_time clock.\n",
      "[INFO] Keeping all rows: 89710 rows retained.\n"
     ]
    },
    {
     "name": "stdout",
     "output_type": "stream",
     "text": [
      "[INFO] Keeping all rows: 89710 rows retained.\n"
     ]
    },
    {
     "name": "stdout",
     "output_type": "stream",
     "text": [
      "[INFO] Keeping all rows: 89710 rows retained.\n"
     ]
    },
    {
     "name": "stdout",
     "output_type": "stream",
     "text": [
      "[INFO] Keeping all rows: 89710 rows retained.\n"
     ]
    },
    {
     "data": {
      "text/html": [
       "<div>\n",
       "<style scoped>\n",
       "    .dataframe tbody tr th:only-of-type {\n",
       "        vertical-align: middle;\n",
       "    }\n",
       "\n",
       "    .dataframe tbody tr th {\n",
       "        vertical-align: top;\n",
       "    }\n",
       "\n",
       "    .dataframe thead th {\n",
       "        text-align: right;\n",
       "    }\n",
       "</style>\n",
       "<table border=\"1\" class=\"dataframe\">\n",
       "  <thead>\n",
       "    <tr style=\"text-align: right;\">\n",
       "      <th></th>\n",
       "      <th>run_no</th>\n",
       "      <th>universe_id</th>\n",
       "      <th>universe_settings</th>\n",
       "      <th>execution_time</th>\n",
       "      <th>test_size_n</th>\n",
       "      <th>test_size_frac</th>\n",
       "      <th>fair_main_equalized_odds_difference</th>\n",
       "      <th>fair_main_equalized_odds_ratio</th>\n",
       "      <th>fair_main_demographic_parity_difference</th>\n",
       "      <th>fair_main_demographic_parity_ratio</th>\n",
       "      <th>...</th>\n",
       "      <th>perf_grp_precision_0</th>\n",
       "      <th>perf_grp_precision_1</th>\n",
       "      <th>perf_grp_false positive rate_0</th>\n",
       "      <th>perf_grp_false positive rate_1</th>\n",
       "      <th>perf_grp_false negative rate_0</th>\n",
       "      <th>perf_grp_false negative rate_1</th>\n",
       "      <th>perf_grp_selection rate_0</th>\n",
       "      <th>perf_grp_selection rate_1</th>\n",
       "      <th>perf_grp_count_0</th>\n",
       "      <th>perf_grp_count_1</th>\n",
       "    </tr>\n",
       "  </thead>\n",
       "  <tbody>\n",
       "    <tr>\n",
       "      <th>0</th>\n",
       "      <td>15</td>\n",
       "      <td>95954d28a76cfd12e5170726bcf83cc1</td>\n",
       "      <td>{\"cutoff\": \"quantile_0.1\", \"eval_fairness_grou...</td>\n",
       "      <td>26.465665</td>\n",
       "      <td>89710</td>\n",
       "      <td>1.0</td>\n",
       "      <td>0.095724</td>\n",
       "      <td>0.900810</td>\n",
       "      <td>0.087642</td>\n",
       "      <td>0.909421</td>\n",
       "      <td>...</td>\n",
       "      <td>NaN</td>\n",
       "      <td>NaN</td>\n",
       "      <td>NaN</td>\n",
       "      <td>NaN</td>\n",
       "      <td>NaN</td>\n",
       "      <td>NaN</td>\n",
       "      <td>NaN</td>\n",
       "      <td>NaN</td>\n",
       "      <td>NaN</td>\n",
       "      <td>NaN</td>\n",
       "    </tr>\n",
       "    <tr>\n",
       "      <th>0</th>\n",
       "      <td>15</td>\n",
       "      <td>95954d28a76cfd12e5170726bcf83cc1</td>\n",
       "      <td>{\"cutoff\": \"quantile_0.1\", \"eval_fairness_grou...</td>\n",
       "      <td>26.465665</td>\n",
       "      <td>89710</td>\n",
       "      <td>1.0</td>\n",
       "      <td>0.095724</td>\n",
       "      <td>0.900810</td>\n",
       "      <td>0.087642</td>\n",
       "      <td>0.909421</td>\n",
       "      <td>...</td>\n",
       "      <td>0.117591</td>\n",
       "      <td>0.142594</td>\n",
       "      <td>0.965056</td>\n",
       "      <td>0.869332</td>\n",
       "      <td>0.013091</td>\n",
       "      <td>0.050438</td>\n",
       "      <td>0.967575</td>\n",
       "      <td>0.879933</td>\n",
       "      <td>20540.0</td>\n",
       "      <td>69170.0</td>\n",
       "    </tr>\n",
       "    <tr>\n",
       "      <th>0</th>\n",
       "      <td>15</td>\n",
       "      <td>95954d28a76cfd12e5170726bcf83cc1</td>\n",
       "      <td>{\"cutoff\": \"quantile_0.25\", \"eval_fairness_gro...</td>\n",
       "      <td>26.465665</td>\n",
       "      <td>89710</td>\n",
       "      <td>1.0</td>\n",
       "      <td>0.211107</td>\n",
       "      <td>0.763298</td>\n",
       "      <td>0.193034</td>\n",
       "      <td>0.785239</td>\n",
       "      <td>...</td>\n",
       "      <td>NaN</td>\n",
       "      <td>NaN</td>\n",
       "      <td>NaN</td>\n",
       "      <td>NaN</td>\n",
       "      <td>NaN</td>\n",
       "      <td>NaN</td>\n",
       "      <td>NaN</td>\n",
       "      <td>NaN</td>\n",
       "      <td>NaN</td>\n",
       "      <td>NaN</td>\n",
       "    </tr>\n",
       "    <tr>\n",
       "      <th>0</th>\n",
       "      <td>15</td>\n",
       "      <td>95954d28a76cfd12e5170726bcf83cc1</td>\n",
       "      <td>{\"cutoff\": \"quantile_0.25\", \"eval_fairness_gro...</td>\n",
       "      <td>26.465665</td>\n",
       "      <td>89710</td>\n",
       "      <td>1.0</td>\n",
       "      <td>0.211107</td>\n",
       "      <td>0.763298</td>\n",
       "      <td>0.193034</td>\n",
       "      <td>0.785239</td>\n",
       "      <td>...</td>\n",
       "      <td>0.122143</td>\n",
       "      <td>0.162925</td>\n",
       "      <td>0.891867</td>\n",
       "      <td>0.680760</td>\n",
       "      <td>0.047720</td>\n",
       "      <td>0.129759</td>\n",
       "      <td>0.898832</td>\n",
       "      <td>0.705797</td>\n",
       "      <td>20540.0</td>\n",
       "      <td>69170.0</td>\n",
       "    </tr>\n",
       "  </tbody>\n",
       "</table>\n",
       "<p>4 rows × 50 columns</p>\n",
       "</div>"
      ],
      "text/plain": [
       "  run_no                       universe_id  \\\n",
       "0     15  95954d28a76cfd12e5170726bcf83cc1   \n",
       "0     15  95954d28a76cfd12e5170726bcf83cc1   \n",
       "0     15  95954d28a76cfd12e5170726bcf83cc1   \n",
       "0     15  95954d28a76cfd12e5170726bcf83cc1   \n",
       "\n",
       "                                   universe_settings  execution_time  \\\n",
       "0  {\"cutoff\": \"quantile_0.1\", \"eval_fairness_grou...       26.465665   \n",
       "0  {\"cutoff\": \"quantile_0.1\", \"eval_fairness_grou...       26.465665   \n",
       "0  {\"cutoff\": \"quantile_0.25\", \"eval_fairness_gro...       26.465665   \n",
       "0  {\"cutoff\": \"quantile_0.25\", \"eval_fairness_gro...       26.465665   \n",
       "\n",
       "   test_size_n  test_size_frac  fair_main_equalized_odds_difference  \\\n",
       "0        89710             1.0                             0.095724   \n",
       "0        89710             1.0                             0.095724   \n",
       "0        89710             1.0                             0.211107   \n",
       "0        89710             1.0                             0.211107   \n",
       "\n",
       "   fair_main_equalized_odds_ratio  fair_main_demographic_parity_difference  \\\n",
       "0                        0.900810                                 0.087642   \n",
       "0                        0.900810                                 0.087642   \n",
       "0                        0.763298                                 0.193034   \n",
       "0                        0.763298                                 0.193034   \n",
       "\n",
       "   fair_main_demographic_parity_ratio  ...  perf_grp_precision_0  \\\n",
       "0                            0.909421  ...                   NaN   \n",
       "0                            0.909421  ...              0.117591   \n",
       "0                            0.785239  ...                   NaN   \n",
       "0                            0.785239  ...              0.122143   \n",
       "\n",
       "   perf_grp_precision_1  perf_grp_false positive rate_0  \\\n",
       "0                   NaN                             NaN   \n",
       "0              0.142594                        0.965056   \n",
       "0                   NaN                             NaN   \n",
       "0              0.162925                        0.891867   \n",
       "\n",
       "   perf_grp_false positive rate_1  perf_grp_false negative rate_0  \\\n",
       "0                             NaN                             NaN   \n",
       "0                        0.869332                        0.013091   \n",
       "0                             NaN                             NaN   \n",
       "0                        0.680760                        0.047720   \n",
       "\n",
       "   perf_grp_false negative rate_1  perf_grp_selection rate_0  \\\n",
       "0                             NaN                        NaN   \n",
       "0                        0.050438                   0.967575   \n",
       "0                             NaN                        NaN   \n",
       "0                        0.129759                   0.898832   \n",
       "\n",
       "   perf_grp_selection rate_1  perf_grp_count_0  perf_grp_count_1  \n",
       "0                        NaN               NaN               NaN  \n",
       "0                   0.879933           20540.0           69170.0  \n",
       "0                        NaN               NaN               NaN  \n",
       "0                   0.705797           20540.0           69170.0  \n",
       "\n",
       "[4 rows x 50 columns]"
      ]
     },
     "execution_count": 66,
     "metadata": {},
     "output_type": "execute_result"
    }
   ],
   "source": [
    "final_output = universe_analysis.generate_final_output(\n",
    "    y_pred_prob=probs_test,\n",
    "    y_test=y_true,\n",
    "    org_test=org_test,\n",
    "    filter_data=filter_sub_universe_data,\n",
    "    cp_metrics_df=cp_metrics_df,\n",
    "    save=True,\n",
    ")\n",
    "final_output"
   ]
  }
 ],
 "metadata": {
  "celltoolbar": "Tags",
  "kernelspec": {
   "display_name": "Python (CMA Fairness)",
   "language": "python",
   "name": "cma_fair_env"
  },
  "language_info": {
   "codemirror_mode": {
    "name": "ipython",
    "version": 3
   },
   "file_extension": ".py",
   "mimetype": "text/x-python",
   "name": "python",
   "nbconvert_exporter": "python",
   "pygments_lexer": "ipython3",
   "version": "3.10.12"
  },
  "papermill": {
   "default_parameters": {},
   "duration": 38.474345,
   "end_time": "2025-08-05T14:41:58.966197",
   "environment_variables": {},
   "exception": null,
   "input_path": "universe_analysis.ipynb",
   "output_path": "output/runs/15/notebooks/m_15-95954d28a76cfd12e5170726bcf83cc1.ipynb",
   "parameters": {
    "output_dir": "output",
    "run_no": "15",
    "seed": "2023",
    "universe": "{\"cutoff\": [\"quantile_0.1\", \"quantile_0.25\"], \"eval_fairness_grouping\": [\"majority-minority\", \"nationality-all\"], \"exclude_features\": \"sex\", \"exclude_subgroups\": \"keep-all\", \"model\": \"penalized_logreg\", \"scale\": \"do-not-scale\", \"training_size\": \"25k\", \"training_year\": \"2014\"}",
    "universe_id": "95954d28a76cfd12e5170726bcf83cc1"
   },
   "start_time": "2025-08-05T14:41:20.491852",
   "version": "2.6.0"
  }
 },
 "nbformat": 4,
 "nbformat_minor": 5
}