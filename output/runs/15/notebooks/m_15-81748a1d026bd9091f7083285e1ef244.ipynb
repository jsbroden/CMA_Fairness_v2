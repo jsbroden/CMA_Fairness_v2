{
 "cells": [
  {
   "cell_type": "code",
   "execution_count": 1,
   "id": "f159f837-637b-42ba-96b5-ec9a68c44524",
   "metadata": {
    "execution": {
     "iopub.execute_input": "2025-08-05T16:25:01.339301Z",
     "iopub.status.busy": "2025-08-05T16:25:01.338712Z",
     "iopub.status.idle": "2025-08-05T16:25:01.354709Z",
     "shell.execute_reply": "2025-08-05T16:25:01.353469Z"
    },
    "papermill": {
     "duration": 0.04045,
     "end_time": "2025-08-05T16:25:01.356848",
     "exception": false,
     "start_time": "2025-08-05T16:25:01.316398",
     "status": "completed"
    },
    "tags": []
   },
   "outputs": [
    {
     "name": "stdout",
     "output_type": "stream",
     "text": [
      "/dss/dsshome1/0C/ra93lal2/cma/CMA_Fairness_v2\n"
     ]
    },
    {
     "name": "stderr",
     "output_type": "stream",
     "text": [
      "/dss/dsshome1/0C/ra93lal2/.local/share/virtualenvs/CMA_Fairness_v2-3j10GkSs/lib/python3.10/site-packages/IPython/core/magics/osm.py:393: UserWarning: This is now an optional IPython functionality, using bookmarks requires you to install the `pickleshare` library.\n",
      "  bkms = self.shell.db.get('bookmarks', {})\n",
      "/dss/dsshome1/0C/ra93lal2/.local/share/virtualenvs/CMA_Fairness_v2-3j10GkSs/lib/python3.10/site-packages/IPython/core/magics/osm.py:417: UserWarning: This is now an optional IPython functionality, setting dhist requires you to install the `pickleshare` library.\n",
      "  self.shell.db['dhist'] = compress_dhist(dhist)[-100:]\n"
     ]
    }
   ],
   "source": [
    "%cd ~/cma/CMA_Fairness_v2"
   ]
  },
  {
   "cell_type": "markdown",
   "id": "de2603b9",
   "metadata": {
    "papermill": {
     "duration": 0.019642,
     "end_time": "2025-08-05T16:25:01.396740",
     "exception": false,
     "start_time": "2025-08-05T16:25:01.377098",
     "status": "completed"
    },
    "tags": []
   },
   "source": [
    "The following cell holds the definition of our parameters, these values can be overriden by rendering the with e.g. the following command:\n",
    "\n",
    "papermill -p alpha 0.2 -p ratio 0.3 universe_analysis.ipynb output/test_run.ipynb"
   ]
  },
  {
   "cell_type": "code",
   "execution_count": 2,
   "id": "a80968a0-40bb-4fa9-85ef-2d5eefb01975",
   "metadata": {
    "execution": {
     "iopub.execute_input": "2025-08-05T16:25:01.438486Z",
     "iopub.status.busy": "2025-08-05T16:25:01.437440Z",
     "iopub.status.idle": "2025-08-05T16:25:01.444199Z",
     "shell.execute_reply": "2025-08-05T16:25:01.443095Z"
    },
    "papermill": {
     "duration": 0.02943,
     "end_time": "2025-08-05T16:25:01.446095",
     "exception": false,
     "start_time": "2025-08-05T16:25:01.416665",
     "status": "completed"
    },
    "tags": []
   },
   "outputs": [
    {
     "name": "stdout",
     "output_type": "stream",
     "text": [
      "Current working directory: /dss/dsshome1/0C/ra93lal2/cma/CMA_Fairness_v2\n"
     ]
    }
   ],
   "source": [
    "import os\n",
    "print(\"Current working directory:\", os.getcwd())"
   ]
  },
  {
   "cell_type": "code",
   "execution_count": 3,
   "id": "2dce4c03",
   "metadata": {
    "execution": {
     "iopub.execute_input": "2025-08-05T16:25:01.488436Z",
     "iopub.status.busy": "2025-08-05T16:25:01.487776Z",
     "iopub.status.idle": "2025-08-05T16:25:01.495034Z",
     "shell.execute_reply": "2025-08-05T16:25:01.493898Z"
    },
    "papermill": {
     "duration": 0.030972,
     "end_time": "2025-08-05T16:25:01.496963",
     "exception": false,
     "start_time": "2025-08-05T16:25:01.465991",
     "status": "completed"
    },
    "tags": [
     "parameters"
    ]
   },
   "outputs": [],
   "source": [
    "run_no = 0\n",
    "universe_id = \"test\"\n",
    "universe = {\n",
    "    \"training_size\": \"25k\", # \"25k\", \"5k\", \"1k\"\n",
    "    \"training_year\": \"2014\", # \"2014\", \"2012_14\", \"2010_14\"\n",
    "    \"scale\": \"scale\", # \"scale\", \"do-not-scale\",\n",
    "    \"model\": \"elasticnet\", # \"logreg\", \"penalized_logreg\", \"rf\", \"gbm\", \"elasticnet\"\n",
    "    \"cutoff\": [\"quantile_0.15\", \"quantile_0.30\"],\n",
    "    \"exclude_features\": \"age\", # \"none\", \"nationality\", \"sex\", \"nationality-sex\", \"age\"\n",
    "    \"exclude_subgroups\": \"keep-all\", # \"keep-all\", \"drop-non-german\"\n",
    "    \"eval_fairness_grouping\": [\"majority-minority\", \"nationality-all\"]\n",
    "}\n",
    "\n",
    "output_dir=\"./output\"\n",
    "seed=0"
   ]
  },
  {
   "cell_type": "code",
   "execution_count": 4,
   "id": "815828c8",
   "metadata": {
    "execution": {
     "iopub.execute_input": "2025-08-05T16:25:01.540435Z",
     "iopub.status.busy": "2025-08-05T16:25:01.539570Z",
     "iopub.status.idle": "2025-08-05T16:25:01.546327Z",
     "shell.execute_reply": "2025-08-05T16:25:01.545237Z"
    },
    "papermill": {
     "duration": 0.030808,
     "end_time": "2025-08-05T16:25:01.548191",
     "exception": false,
     "start_time": "2025-08-05T16:25:01.517383",
     "status": "completed"
    },
    "tags": [
     "injected-parameters"
    ]
   },
   "outputs": [],
   "source": [
    "# Parameters\n",
    "universe_id = \"81748a1d026bd9091f7083285e1ef244\"\n",
    "run_no = \"15\"\n",
    "universe = \"{\\\"cutoff\\\": [\\\"quantile_0.1\\\", \\\"quantile_0.25\\\"], \\\"eval_fairness_grouping\\\": [\\\"majority-minority\\\", \\\"nationality-all\\\"], \\\"exclude_features\\\": \\\"nationality\\\", \\\"exclude_subgroups\\\": \\\"drop-non-german\\\", \\\"model\\\": \\\"penalized_logreg\\\", \\\"scale\\\": \\\"do-not-scale\\\", \\\"training_size\\\": \\\"1k\\\", \\\"training_year\\\": \\\"2012_14\\\"}\"\n",
    "output_dir = \"output\"\n",
    "seed = \"2023\"\n"
   ]
  },
  {
   "cell_type": "code",
   "execution_count": 5,
   "id": "1650acaf",
   "metadata": {
    "execution": {
     "iopub.execute_input": "2025-08-05T16:25:01.592588Z",
     "iopub.status.busy": "2025-08-05T16:25:01.591712Z",
     "iopub.status.idle": "2025-08-05T16:25:01.597987Z",
     "shell.execute_reply": "2025-08-05T16:25:01.596748Z"
    },
    "papermill": {
     "duration": 0.030532,
     "end_time": "2025-08-05T16:25:01.599948",
     "exception": false,
     "start_time": "2025-08-05T16:25:01.569416",
     "status": "completed"
    },
    "tags": []
   },
   "outputs": [],
   "source": [
    "import json\n",
    "if isinstance(universe, str):\n",
    "    universe = json.loads(universe)"
   ]
  },
  {
   "cell_type": "code",
   "execution_count": 6,
   "id": "16620c48",
   "metadata": {
    "execution": {
     "iopub.execute_input": "2025-08-05T16:25:01.644293Z",
     "iopub.status.busy": "2025-08-05T16:25:01.643346Z",
     "iopub.status.idle": "2025-08-05T16:25:01.697213Z",
     "shell.execute_reply": "2025-08-05T16:25:01.696083Z"
    },
    "papermill": {
     "duration": 0.078488,
     "end_time": "2025-08-05T16:25:01.699592",
     "exception": false,
     "start_time": "2025-08-05T16:25:01.621104",
     "status": "completed"
    },
    "tags": []
   },
   "outputs": [],
   "source": [
    "# Auto-reload the custom package\n",
    "%load_ext autoreload\n",
    "%autoreload 1\n",
    "%aimport fairness_multiverse"
   ]
  },
  {
   "cell_type": "code",
   "execution_count": 7,
   "id": "01c5c9f3",
   "metadata": {
    "execution": {
     "iopub.execute_input": "2025-08-05T16:25:01.748018Z",
     "iopub.status.busy": "2025-08-05T16:25:01.747447Z",
     "iopub.status.idle": "2025-08-05T16:25:03.557366Z",
     "shell.execute_reply": "2025-08-05T16:25:03.556435Z"
    },
    "papermill": {
     "duration": 1.835855,
     "end_time": "2025-08-05T16:25:03.559239",
     "exception": false,
     "start_time": "2025-08-05T16:25:01.723384",
     "status": "completed"
    },
    "tags": []
   },
   "outputs": [],
   "source": [
    "from fairness_multiverse.universe import UniverseAnalysis\n",
    "\n",
    "universe_analysis = UniverseAnalysis(\n",
    "    run_no = run_no,\n",
    "    universe_id = universe_id,\n",
    "    universe = universe,\n",
    "    output_dir=output_dir,\n",
    ")"
   ]
  },
  {
   "cell_type": "code",
   "execution_count": 8,
   "id": "106241f5",
   "metadata": {
    "execution": {
     "iopub.execute_input": "2025-08-05T16:25:03.583071Z",
     "iopub.status.busy": "2025-08-05T16:25:03.582471Z",
     "iopub.status.idle": "2025-08-05T16:25:03.588838Z",
     "shell.execute_reply": "2025-08-05T16:25:03.587853Z"
    },
    "papermill": {
     "duration": 0.019437,
     "end_time": "2025-08-05T16:25:03.590348",
     "exception": false,
     "start_time": "2025-08-05T16:25:03.570911",
     "status": "completed"
    },
    "tags": []
   },
   "outputs": [
    {
     "name": "stdout",
     "output_type": "stream",
     "text": [
      "Using Seed: 2023\n"
     ]
    }
   ],
   "source": [
    "import numpy as np\n",
    "parsed_seed = int(seed)\n",
    "np.random.seed(parsed_seed)\n",
    "print(f\"Using Seed: {parsed_seed}\")"
   ]
  },
  {
   "cell_type": "markdown",
   "id": "e0ebdc57",
   "metadata": {
    "papermill": {
     "duration": 0.010501,
     "end_time": "2025-08-05T16:25:03.612008",
     "exception": false,
     "start_time": "2025-08-05T16:25:03.601507",
     "status": "completed"
    },
    "tags": []
   },
   "source": [
    "# Loading Data"
   ]
  },
  {
   "cell_type": "code",
   "execution_count": 9,
   "id": "f0496b8a",
   "metadata": {
    "execution": {
     "iopub.execute_input": "2025-08-05T16:25:03.634966Z",
     "iopub.status.busy": "2025-08-05T16:25:03.634301Z",
     "iopub.status.idle": "2025-08-05T16:25:15.666341Z",
     "shell.execute_reply": "2025-08-05T16:25:15.664907Z"
    },
    "papermill": {
     "duration": 12.045784,
     "end_time": "2025-08-05T16:25:15.668419",
     "exception": false,
     "start_time": "2025-08-05T16:25:03.622635",
     "status": "completed"
    },
    "tags": []
   },
   "outputs": [
    {
     "name": "stdout",
     "output_type": "stream",
     "text": [
      "Loading SIAB data from cache: data/siab_cached.csv.gz\n"
     ]
    },
    {
     "name": "stdout",
     "output_type": "stream",
     "text": [
      "(643690, 164)\n"
     ]
    }
   ],
   "source": [
    "from pathlib import Path\n",
    "import pandas as pd\n",
    "\n",
    "# File paths\n",
    "raw_file = Path(\"data/raw/siab.csv\")\n",
    "cache_file = Path(\"data/siab_cached.csv.gz\")\n",
    "\n",
    "# Ensure cache directory exists\n",
    "cache_file.parent.mkdir(parents=True, exist_ok=True)\n",
    "\n",
    "# Load with simple caching\n",
    "if cache_file.exists():\n",
    "    print(f\"Loading SIAB data from cache: {cache_file}\")\n",
    "    siab = pd.read_csv(cache_file, compression='gzip')\n",
    "else:\n",
    "    print(f\"Cache not found. Reading raw SIAB data: {raw_file}\")\n",
    "    siab = pd.read_csv(raw_file)\n",
    "    siab.to_csv(cache_file, index=False, compression='gzip')\n",
    "    print(f\"Cached SIAB data to: {cache_file}\")\n",
    "\n",
    "print(siab.shape)"
   ]
  },
  {
   "cell_type": "code",
   "execution_count": 10,
   "id": "db0ca512-5f53-4dba-abdb-a2888bca41ba",
   "metadata": {
    "execution": {
     "iopub.execute_input": "2025-08-05T16:25:15.715889Z",
     "iopub.status.busy": "2025-08-05T16:25:15.715252Z",
     "iopub.status.idle": "2025-08-05T16:25:15.722669Z",
     "shell.execute_reply": "2025-08-05T16:25:15.721454Z"
    },
    "papermill": {
     "duration": 0.032826,
     "end_time": "2025-08-05T16:25:15.724786",
     "exception": false,
     "start_time": "2025-08-05T16:25:15.691960",
     "status": "completed"
    },
    "tags": []
   },
   "outputs": [],
   "source": [
    "#siab"
   ]
  },
  {
   "cell_type": "markdown",
   "id": "997051c5-15bd-4b69-9786-c3001a3ce484",
   "metadata": {
    "papermill": {
     "duration": 0.021091,
     "end_time": "2025-08-05T16:25:15.767771",
     "exception": false,
     "start_time": "2025-08-05T16:25:15.746680",
     "status": "completed"
    },
    "tags": []
   },
   "source": [
    "# Splitting Data and Setting Training Data Size"
   ]
  },
  {
   "cell_type": "code",
   "execution_count": 11,
   "id": "aea9c6ef-6f46-42c8-85eb-5a62025c1508",
   "metadata": {
    "execution": {
     "iopub.execute_input": "2025-08-05T16:25:15.813840Z",
     "iopub.status.busy": "2025-08-05T16:25:15.812749Z",
     "iopub.status.idle": "2025-08-05T16:25:16.473933Z",
     "shell.execute_reply": "2025-08-05T16:25:16.472726Z"
    },
    "papermill": {
     "duration": 0.686989,
     "end_time": "2025-08-05T16:25:16.476269",
     "exception": false,
     "start_time": "2025-08-05T16:25:15.789280",
     "status": "completed"
    },
    "tags": []
   },
   "outputs": [],
   "source": [
    "from fairness_multiverse.universe import sample_by_year_size\n",
    "\n",
    "siab_train = sample_by_year_size(siab,\n",
    "                               training_year=universe[\"training_year\"],\n",
    "                               training_size=universe[\"training_size\"])"
   ]
  },
  {
   "cell_type": "code",
   "execution_count": 12,
   "id": "8d3afb32-789d-442c-8d5d-9f5aa8dd2eed",
   "metadata": {
    "execution": {
     "iopub.execute_input": "2025-08-05T16:25:16.525084Z",
     "iopub.status.busy": "2025-08-05T16:25:16.523996Z",
     "iopub.status.idle": "2025-08-05T16:25:16.530265Z",
     "shell.execute_reply": "2025-08-05T16:25:16.529187Z"
    },
    "papermill": {
     "duration": 0.032631,
     "end_time": "2025-08-05T16:25:16.532393",
     "exception": false,
     "start_time": "2025-08-05T16:25:16.499762",
     "status": "completed"
    },
    "tags": []
   },
   "outputs": [],
   "source": [
    "#siab_train.shape"
   ]
  },
  {
   "cell_type": "code",
   "execution_count": 13,
   "id": "d582db68-1a4c-47fb-84fc-08518dc1975a",
   "metadata": {
    "execution": {
     "iopub.execute_input": "2025-08-05T16:25:16.577618Z",
     "iopub.status.busy": "2025-08-05T16:25:16.576497Z",
     "iopub.status.idle": "2025-08-05T16:25:16.582673Z",
     "shell.execute_reply": "2025-08-05T16:25:16.581509Z"
    },
    "papermill": {
     "duration": 0.030242,
     "end_time": "2025-08-05T16:25:16.584712",
     "exception": false,
     "start_time": "2025-08-05T16:25:16.554470",
     "status": "completed"
    },
    "tags": []
   },
   "outputs": [],
   "source": [
    "#display(siab_train.groupby(\"year\").size())"
   ]
  },
  {
   "cell_type": "code",
   "execution_count": 14,
   "id": "a561edb4-d032-42cb-8256-22eac1111c64",
   "metadata": {
    "execution": {
     "iopub.execute_input": "2025-08-05T16:25:16.630608Z",
     "iopub.status.busy": "2025-08-05T16:25:16.629392Z",
     "iopub.status.idle": "2025-08-05T16:25:16.925472Z",
     "shell.execute_reply": "2025-08-05T16:25:16.924275Z"
    },
    "papermill": {
     "duration": 0.321137,
     "end_time": "2025-08-05T16:25:16.927635",
     "exception": false,
     "start_time": "2025-08-05T16:25:16.606498",
     "status": "completed"
    },
    "tags": []
   },
   "outputs": [],
   "source": [
    "#siab_train = siab_s[siab_s.year < 2015]\n",
    "siab_calib = siab[siab.year == 2015]\n",
    "siab_test = siab[siab.year == 2016]"
   ]
  },
  {
   "cell_type": "code",
   "execution_count": 15,
   "id": "472de16f-c3db-4916-846b-1f0de9cf1746",
   "metadata": {
    "execution": {
     "iopub.execute_input": "2025-08-05T16:25:16.973943Z",
     "iopub.status.busy": "2025-08-05T16:25:16.973014Z",
     "iopub.status.idle": "2025-08-05T16:25:16.981473Z",
     "shell.execute_reply": "2025-08-05T16:25:16.980393Z"
    },
    "papermill": {
     "duration": 0.033493,
     "end_time": "2025-08-05T16:25:16.983409",
     "exception": false,
     "start_time": "2025-08-05T16:25:16.949916",
     "status": "completed"
    },
    "tags": []
   },
   "outputs": [],
   "source": [
    "X_train = siab_train.iloc[:,4:164]\n",
    "y_train = siab_train.iloc[:, [3]]"
   ]
  },
  {
   "cell_type": "code",
   "execution_count": 16,
   "id": "828c96af-f43a-4ed6-ba47-8ac73a47d56c",
   "metadata": {
    "execution": {
     "iopub.execute_input": "2025-08-05T16:25:17.028551Z",
     "iopub.status.busy": "2025-08-05T16:25:17.027427Z",
     "iopub.status.idle": "2025-08-05T16:25:17.084772Z",
     "shell.execute_reply": "2025-08-05T16:25:17.083446Z"
    },
    "papermill": {
     "duration": 0.082224,
     "end_time": "2025-08-05T16:25:17.087126",
     "exception": false,
     "start_time": "2025-08-05T16:25:17.004902",
     "status": "completed"
    },
    "tags": []
   },
   "outputs": [],
   "source": [
    "X_calib = siab_calib.iloc[:,4:164]\n",
    "y_calib = siab_calib.iloc[:, [3]]"
   ]
  },
  {
   "cell_type": "code",
   "execution_count": 17,
   "id": "c34be9c3-6bd6-476e-acd3-845840e303be",
   "metadata": {
    "execution": {
     "iopub.execute_input": "2025-08-05T16:25:17.133294Z",
     "iopub.status.busy": "2025-08-05T16:25:17.132169Z",
     "iopub.status.idle": "2025-08-05T16:25:17.191679Z",
     "shell.execute_reply": "2025-08-05T16:25:17.190230Z"
    },
    "papermill": {
     "duration": 0.084287,
     "end_time": "2025-08-05T16:25:17.193884",
     "exception": false,
     "start_time": "2025-08-05T16:25:17.109597",
     "status": "completed"
    },
    "tags": []
   },
   "outputs": [],
   "source": [
    "X_test = siab_test.iloc[:,4:164]\n",
    "y_true = siab_test.iloc[:, [3]]"
   ]
  },
  {
   "cell_type": "code",
   "execution_count": 18,
   "id": "e6c733c5",
   "metadata": {
    "execution": {
     "iopub.execute_input": "2025-08-05T16:25:17.243092Z",
     "iopub.status.busy": "2025-08-05T16:25:17.242496Z",
     "iopub.status.idle": "2025-08-05T16:25:17.353898Z",
     "shell.execute_reply": "2025-08-05T16:25:17.352711Z"
    },
    "papermill": {
     "duration": 0.140189,
     "end_time": "2025-08-05T16:25:17.356060",
     "exception": false,
     "start_time": "2025-08-05T16:25:17.215871",
     "status": "completed"
    },
    "tags": []
   },
   "outputs": [],
   "source": [
    "# Auxiliary data needed downstream in the pipeline\n",
    "\n",
    "org_train = X_train.copy()\n",
    "org_test = X_test.copy()\n",
    "org_calib = X_calib.copy()"
   ]
  },
  {
   "cell_type": "markdown",
   "id": "0a4a1b33",
   "metadata": {
    "papermill": {
     "duration": 0.021489,
     "end_time": "2025-08-05T16:25:17.399233",
     "exception": false,
     "start_time": "2025-08-05T16:25:17.377744",
     "status": "completed"
    },
    "tags": []
   },
   "source": [
    "# Preprocessing Data"
   ]
  },
  {
   "cell_type": "code",
   "execution_count": 19,
   "id": "ca879031",
   "metadata": {
    "execution": {
     "iopub.execute_input": "2025-08-05T16:25:17.445001Z",
     "iopub.status.busy": "2025-08-05T16:25:17.444379Z",
     "iopub.status.idle": "2025-08-05T16:25:17.452100Z",
     "shell.execute_reply": "2025-08-05T16:25:17.450937Z"
    },
    "papermill": {
     "duration": 0.032763,
     "end_time": "2025-08-05T16:25:17.454051",
     "exception": false,
     "start_time": "2025-08-05T16:25:17.421288",
     "status": "completed"
    },
    "tags": []
   },
   "outputs": [],
   "source": [
    "# EXCLUDE PROTECTED FEATURES\n",
    "# ----------------------\n",
    "# \"exclude_features\": \"none\", # \"nationality\", \"sex\", \"nationality-sex\"\n",
    "\n",
    "excluded_features = universe[\"exclude_features\"].split(\"-\") # split, e.g.: \"nationality-sex\" -> [\"nationality\", \"sex\"]\n",
    "excluded_features_dictionary = {\n",
    "    \"nationality\": [\"maxdeutsch1\", \"maxdeutsch.Missing.\"],\n",
    "    \"sex\": [\"frau1\"],\n",
    "    \"age\": [\"age\"],\n",
    "}"
   ]
  },
  {
   "cell_type": "code",
   "execution_count": 20,
   "id": "b745ac60",
   "metadata": {
    "execution": {
     "iopub.execute_input": "2025-08-05T16:25:17.500124Z",
     "iopub.status.busy": "2025-08-05T16:25:17.499314Z",
     "iopub.status.idle": "2025-08-05T16:25:17.506005Z",
     "shell.execute_reply": "2025-08-05T16:25:17.504951Z"
    },
    "papermill": {
     "duration": 0.042895,
     "end_time": "2025-08-05T16:25:17.518734",
     "exception": false,
     "start_time": "2025-08-05T16:25:17.475839",
     "status": "completed"
    },
    "tags": []
   },
   "outputs": [],
   "source": [
    "# Code nice names to column names\n",
    "\n",
    "excluded_features_columns = [\n",
    "    excluded_features_dictionary[f] for f in excluded_features if len(f) > 0 and f != \"none\"\n",
    "]"
   ]
  },
  {
   "cell_type": "code",
   "execution_count": 21,
   "id": "f84f73a2",
   "metadata": {
    "execution": {
     "iopub.execute_input": "2025-08-05T16:25:17.564292Z",
     "iopub.status.busy": "2025-08-05T16:25:17.563580Z",
     "iopub.status.idle": "2025-08-05T16:25:17.571013Z",
     "shell.execute_reply": "2025-08-05T16:25:17.569903Z"
    },
    "papermill": {
     "duration": 0.032241,
     "end_time": "2025-08-05T16:25:17.572992",
     "exception": false,
     "start_time": "2025-08-05T16:25:17.540751",
     "status": "completed"
    },
    "tags": []
   },
   "outputs": [],
   "source": [
    "from utils import flatten_once\n",
    "\n",
    "excluded_features_columns = flatten_once(excluded_features_columns)"
   ]
  },
  {
   "cell_type": "code",
   "execution_count": 22,
   "id": "884dea22",
   "metadata": {
    "execution": {
     "iopub.execute_input": "2025-08-05T16:25:17.619745Z",
     "iopub.status.busy": "2025-08-05T16:25:17.619156Z",
     "iopub.status.idle": "2025-08-05T16:25:17.628583Z",
     "shell.execute_reply": "2025-08-05T16:25:17.627409Z"
    },
    "papermill": {
     "duration": 0.034589,
     "end_time": "2025-08-05T16:25:17.630413",
     "exception": false,
     "start_time": "2025-08-05T16:25:17.595824",
     "status": "completed"
    },
    "tags": []
   },
   "outputs": [
    {
     "name": "stdout",
     "output_type": "stream",
     "text": [
      "Dropping features: ['maxdeutsch1', 'maxdeutsch.Missing.']\n"
     ]
    }
   ],
   "source": [
    "if len(excluded_features_columns) > 0:\n",
    "    print(f\"Dropping features: {excluded_features_columns}\")\n",
    "    X_train.drop(excluded_features_columns, axis=1, inplace=True)"
   ]
  },
  {
   "cell_type": "code",
   "execution_count": 23,
   "id": "95ab8b16",
   "metadata": {
    "execution": {
     "iopub.execute_input": "2025-08-05T16:25:17.678954Z",
     "iopub.status.busy": "2025-08-05T16:25:17.677939Z",
     "iopub.status.idle": "2025-08-05T16:25:17.739002Z",
     "shell.execute_reply": "2025-08-05T16:25:17.737707Z"
    },
    "papermill": {
     "duration": 0.087879,
     "end_time": "2025-08-05T16:25:17.741293",
     "exception": false,
     "start_time": "2025-08-05T16:25:17.653414",
     "status": "completed"
    },
    "tags": []
   },
   "outputs": [
    {
     "name": "stdout",
     "output_type": "stream",
     "text": [
      "Dropping features: ['maxdeutsch1', 'maxdeutsch.Missing.']\n"
     ]
    }
   ],
   "source": [
    "if len(excluded_features_columns) > 0:\n",
    "    print(f\"Dropping features: {excluded_features_columns}\")\n",
    "    X_test.drop(excluded_features_columns, axis=1, inplace=True)"
   ]
  },
  {
   "cell_type": "code",
   "execution_count": 24,
   "id": "1853aaf5-fb9f-46cb-a2b5-8ea4ae2237e4",
   "metadata": {
    "execution": {
     "iopub.execute_input": "2025-08-05T16:25:17.791050Z",
     "iopub.status.busy": "2025-08-05T16:25:17.789797Z",
     "iopub.status.idle": "2025-08-05T16:25:17.848463Z",
     "shell.execute_reply": "2025-08-05T16:25:17.847229Z"
    },
    "papermill": {
     "duration": 0.099113,
     "end_time": "2025-08-05T16:25:17.864283",
     "exception": false,
     "start_time": "2025-08-05T16:25:17.765170",
     "status": "completed"
    },
    "tags": []
   },
   "outputs": [
    {
     "name": "stdout",
     "output_type": "stream",
     "text": [
      "Dropping features: ['maxdeutsch1', 'maxdeutsch.Missing.']\n"
     ]
    }
   ],
   "source": [
    "if len(excluded_features_columns) > 0:\n",
    "    print(f\"Dropping features: {excluded_features_columns}\")\n",
    "    X_calib.drop(excluded_features_columns, axis=1, inplace=True)"
   ]
  },
  {
   "cell_type": "code",
   "execution_count": 25,
   "id": "76c4dc6d",
   "metadata": {
    "execution": {
     "iopub.execute_input": "2025-08-05T16:25:17.915427Z",
     "iopub.status.busy": "2025-08-05T16:25:17.914942Z",
     "iopub.status.idle": "2025-08-05T16:25:17.921430Z",
     "shell.execute_reply": "2025-08-05T16:25:17.920264Z"
    },
    "papermill": {
     "duration": 0.031432,
     "end_time": "2025-08-05T16:25:17.923254",
     "exception": false,
     "start_time": "2025-08-05T16:25:17.891822",
     "status": "completed"
    },
    "tags": []
   },
   "outputs": [],
   "source": [
    "# EXCLUDE CERTAIN SUBGROUPS\n",
    "# ----------------------\n",
    "\n",
    "mode = universe.get(\"exclude_subgroups\", \"keep-all\") \n",
    "# Fetches the exclude_subgroups setting from the universe dict.\n",
    "# Defaults to \"keep-all\" if the key is missing."
   ]
  },
  {
   "cell_type": "code",
   "execution_count": 26,
   "id": "21994072",
   "metadata": {
    "execution": {
     "iopub.execute_input": "2025-08-05T16:25:17.970996Z",
     "iopub.status.busy": "2025-08-05T16:25:17.970367Z",
     "iopub.status.idle": "2025-08-05T16:25:17.978360Z",
     "shell.execute_reply": "2025-08-05T16:25:17.977394Z"
    },
    "papermill": {
     "duration": 0.034295,
     "end_time": "2025-08-05T16:25:17.980574",
     "exception": false,
     "start_time": "2025-08-05T16:25:17.946279",
     "status": "completed"
    },
    "tags": []
   },
   "outputs": [],
   "source": [
    "if mode == \"keep-all\":\n",
    "    keep_mask = pd.Series(True, index=org_train.index)\n",
    "\n",
    "# org_train contains the original feature columns from features_org (in Simson)\n",
    "# features_org contains unprocessed features, for me X_train at beginning ???\n",
    "# For keep-all, creates a boolean Series (keep_mask) of all True, so no rows are removed.\n",
    "\n",
    "elif mode == \"drop-non-german\":\n",
    "    keep_mask = org_train[\"maxdeutsch1\"] == 1 # ??? what about missing values?\n",
    "\n",
    "else:\n",
    "    raise ValueError(f\"Unsupported mode for exclude_subgroups: {mode}\")"
   ]
  },
  {
   "cell_type": "code",
   "execution_count": 27,
   "id": "71651440",
   "metadata": {
    "execution": {
     "iopub.execute_input": "2025-08-05T16:25:18.028372Z",
     "iopub.status.busy": "2025-08-05T16:25:18.027671Z",
     "iopub.status.idle": "2025-08-05T16:25:18.038081Z",
     "shell.execute_reply": "2025-08-05T16:25:18.036795Z"
    },
    "papermill": {
     "duration": 0.036863,
     "end_time": "2025-08-05T16:25:18.040167",
     "exception": false,
     "start_time": "2025-08-05T16:25:18.003304",
     "status": "completed"
    },
    "tags": []
   },
   "outputs": [
    {
     "name": "stdout",
     "output_type": "stream",
     "text": [
      "Dropping 147 rows (14.70%) where mode='drop-non-german'\n"
     ]
    }
   ],
   "source": [
    "n_drop = (~keep_mask).sum() # Calculates how many rows are set to be dropped\n",
    "if n_drop > 0:\n",
    "    pct = n_drop / len(keep_mask) * 100\n",
    "    print(f\"Dropping {n_drop} rows ({pct:.2f}%) where mode='{mode}'\")"
   ]
  },
  {
   "cell_type": "code",
   "execution_count": 28,
   "id": "5fb8eee5",
   "metadata": {
    "execution": {
     "iopub.execute_input": "2025-08-05T16:25:18.089536Z",
     "iopub.status.busy": "2025-08-05T16:25:18.088389Z",
     "iopub.status.idle": "2025-08-05T16:25:18.096875Z",
     "shell.execute_reply": "2025-08-05T16:25:18.095624Z"
    },
    "papermill": {
     "duration": 0.034856,
     "end_time": "2025-08-05T16:25:18.098978",
     "exception": false,
     "start_time": "2025-08-05T16:25:18.064122",
     "status": "completed"
    },
    "tags": []
   },
   "outputs": [],
   "source": [
    "X_train = X_train[keep_mask]"
   ]
  },
  {
   "cell_type": "code",
   "execution_count": 29,
   "id": "b202bb3a",
   "metadata": {
    "execution": {
     "iopub.execute_input": "2025-08-05T16:25:18.149816Z",
     "iopub.status.busy": "2025-08-05T16:25:18.148672Z",
     "iopub.status.idle": "2025-08-05T16:25:18.156714Z",
     "shell.execute_reply": "2025-08-05T16:25:18.155380Z"
    },
    "papermill": {
     "duration": 0.035494,
     "end_time": "2025-08-05T16:25:18.158685",
     "exception": false,
     "start_time": "2025-08-05T16:25:18.123191",
     "status": "completed"
    },
    "tags": []
   },
   "outputs": [],
   "source": [
    "y_train = y_train[keep_mask]"
   ]
  },
  {
   "cell_type": "markdown",
   "id": "493e2ac3",
   "metadata": {
    "papermill": {
     "duration": 0.024322,
     "end_time": "2025-08-05T16:25:18.206197",
     "exception": false,
     "start_time": "2025-08-05T16:25:18.181875",
     "status": "completed"
    },
    "tags": []
   },
   "source": [
    "# Model Training"
   ]
  },
  {
   "cell_type": "code",
   "execution_count": 30,
   "id": "679e1268",
   "metadata": {
    "execution": {
     "iopub.execute_input": "2025-08-05T16:25:18.254889Z",
     "iopub.status.busy": "2025-08-05T16:25:18.253810Z",
     "iopub.status.idle": "2025-08-05T16:25:18.400864Z",
     "shell.execute_reply": "2025-08-05T16:25:18.399560Z"
    },
    "papermill": {
     "duration": 0.173452,
     "end_time": "2025-08-05T16:25:18.403119",
     "exception": false,
     "start_time": "2025-08-05T16:25:18.229667",
     "status": "completed"
    },
    "tags": []
   },
   "outputs": [],
   "source": [
    "from sklearn.linear_model import LogisticRegression\n",
    "from sklearn.ensemble import GradientBoostingClassifier, RandomForestClassifier\n",
    "\n",
    "if (universe[\"model\"] == \"logreg\"):\n",
    "    model = LogisticRegression() #penalty=\"none\", solver=\"newton-cg\", max_iter=1) # include random_state=19 ?\n",
    "elif (universe[\"model\"] == \"penalized_logreg\"):\n",
    "    model = LogisticRegression(penalty=\"l2\", C=0.1) #, solver=\"newton-cg\", max_iter=1)\n",
    "elif (universe[\"model\"] == \"rf\"):\n",
    "    model = RandomForestClassifier() # n_estimators=100, n_jobs=-1\n",
    "elif (universe[\"model\"] == \"gbm\"):\n",
    "    model = GradientBoostingClassifier()\n",
    "elif (universe[\"model\"] == \"elasticnet\"):\n",
    "    model = LogisticRegression(penalty = 'elasticnet', solver = 'saga', l1_ratio = 0.5) # max_iter=5000\n",
    "else:\n",
    "    raise \"Unsupported universe.model\""
   ]
  },
  {
   "cell_type": "code",
   "execution_count": 31,
   "id": "0cc8f744",
   "metadata": {
    "execution": {
     "iopub.execute_input": "2025-08-05T16:25:18.453165Z",
     "iopub.status.busy": "2025-08-05T16:25:18.452431Z",
     "iopub.status.idle": "2025-08-05T16:25:18.461467Z",
     "shell.execute_reply": "2025-08-05T16:25:18.460144Z"
    },
    "papermill": {
     "duration": 0.037201,
     "end_time": "2025-08-05T16:25:18.463703",
     "exception": false,
     "start_time": "2025-08-05T16:25:18.426502",
     "status": "completed"
    },
    "tags": []
   },
   "outputs": [],
   "source": [
    "import numpy as np\n",
    "from sklearn.pipeline import Pipeline\n",
    "from sklearn.preprocessing import StandardScaler\n",
    "\n",
    "model = Pipeline([\n",
    "    #(\"continuous_processor\", continuous_processor),\n",
    "    #(\"categorical_preprocessor\", categorical_preprocessor),\n",
    "    (\"scale\", StandardScaler() if universe[\"scale\"] == \"scale\" else None), \n",
    "    (\"model\", model),\n",
    "])"
   ]
  },
  {
   "cell_type": "code",
   "execution_count": 32,
   "id": "9442c04d",
   "metadata": {
    "execution": {
     "iopub.execute_input": "2025-08-05T16:25:18.513793Z",
     "iopub.status.busy": "2025-08-05T16:25:18.512932Z",
     "iopub.status.idle": "2025-08-05T16:25:18.602072Z",
     "shell.execute_reply": "2025-08-05T16:25:18.601171Z"
    },
    "papermill": {
     "duration": 0.12026,
     "end_time": "2025-08-05T16:25:18.608312",
     "exception": false,
     "start_time": "2025-08-05T16:25:18.488052",
     "status": "completed"
    },
    "tags": []
   },
   "outputs": [
    {
     "name": "stderr",
     "output_type": "stream",
     "text": [
      "/dss/dsshome1/0C/ra93lal2/.local/share/virtualenvs/CMA_Fairness_v2-3j10GkSs/lib/python3.10/site-packages/sklearn/linear_model/_logistic.py:444: ConvergenceWarning: lbfgs failed to converge (status=1):\n",
      "STOP: TOTAL NO. of ITERATIONS REACHED LIMIT.\n",
      "\n",
      "Increase the number of iterations (max_iter) or scale the data as shown in:\n",
      "    https://scikit-learn.org/stable/modules/preprocessing.html\n",
      "Please also refer to the documentation for alternative solver options:\n",
      "    https://scikit-learn.org/stable/modules/linear_model.html#logistic-regression\n",
      "  n_iter_i = _check_optimize_result(\n"
     ]
    },
    {
     "data": {
      "text/html": [
       "<style>#sk-container-id-1 {color: black;background-color: white;}#sk-container-id-1 pre{padding: 0;}#sk-container-id-1 div.sk-toggleable {background-color: white;}#sk-container-id-1 label.sk-toggleable__label {cursor: pointer;display: block;width: 100%;margin-bottom: 0;padding: 0.3em;box-sizing: border-box;text-align: center;}#sk-container-id-1 label.sk-toggleable__label-arrow:before {content: \"▸\";float: left;margin-right: 0.25em;color: #696969;}#sk-container-id-1 label.sk-toggleable__label-arrow:hover:before {color: black;}#sk-container-id-1 div.sk-estimator:hover label.sk-toggleable__label-arrow:before {color: black;}#sk-container-id-1 div.sk-toggleable__content {max-height: 0;max-width: 0;overflow: hidden;text-align: left;background-color: #f0f8ff;}#sk-container-id-1 div.sk-toggleable__content pre {margin: 0.2em;color: black;border-radius: 0.25em;background-color: #f0f8ff;}#sk-container-id-1 input.sk-toggleable__control:checked~div.sk-toggleable__content {max-height: 200px;max-width: 100%;overflow: auto;}#sk-container-id-1 input.sk-toggleable__control:checked~label.sk-toggleable__label-arrow:before {content: \"▾\";}#sk-container-id-1 div.sk-estimator input.sk-toggleable__control:checked~label.sk-toggleable__label {background-color: #d4ebff;}#sk-container-id-1 div.sk-label input.sk-toggleable__control:checked~label.sk-toggleable__label {background-color: #d4ebff;}#sk-container-id-1 input.sk-hidden--visually {border: 0;clip: rect(1px 1px 1px 1px);clip: rect(1px, 1px, 1px, 1px);height: 1px;margin: -1px;overflow: hidden;padding: 0;position: absolute;width: 1px;}#sk-container-id-1 div.sk-estimator {font-family: monospace;background-color: #f0f8ff;border: 1px dotted black;border-radius: 0.25em;box-sizing: border-box;margin-bottom: 0.5em;}#sk-container-id-1 div.sk-estimator:hover {background-color: #d4ebff;}#sk-container-id-1 div.sk-parallel-item::after {content: \"\";width: 100%;border-bottom: 1px solid gray;flex-grow: 1;}#sk-container-id-1 div.sk-label:hover label.sk-toggleable__label {background-color: #d4ebff;}#sk-container-id-1 div.sk-serial::before {content: \"\";position: absolute;border-left: 1px solid gray;box-sizing: border-box;top: 0;bottom: 0;left: 50%;z-index: 0;}#sk-container-id-1 div.sk-serial {display: flex;flex-direction: column;align-items: center;background-color: white;padding-right: 0.2em;padding-left: 0.2em;position: relative;}#sk-container-id-1 div.sk-item {position: relative;z-index: 1;}#sk-container-id-1 div.sk-parallel {display: flex;align-items: stretch;justify-content: center;background-color: white;position: relative;}#sk-container-id-1 div.sk-item::before, #sk-container-id-1 div.sk-parallel-item::before {content: \"\";position: absolute;border-left: 1px solid gray;box-sizing: border-box;top: 0;bottom: 0;left: 50%;z-index: -1;}#sk-container-id-1 div.sk-parallel-item {display: flex;flex-direction: column;z-index: 1;position: relative;background-color: white;}#sk-container-id-1 div.sk-parallel-item:first-child::after {align-self: flex-end;width: 50%;}#sk-container-id-1 div.sk-parallel-item:last-child::after {align-self: flex-start;width: 50%;}#sk-container-id-1 div.sk-parallel-item:only-child::after {width: 0;}#sk-container-id-1 div.sk-dashed-wrapped {border: 1px dashed gray;margin: 0 0.4em 0.5em 0.4em;box-sizing: border-box;padding-bottom: 0.4em;background-color: white;}#sk-container-id-1 div.sk-label label {font-family: monospace;font-weight: bold;display: inline-block;line-height: 1.2em;}#sk-container-id-1 div.sk-label-container {text-align: center;}#sk-container-id-1 div.sk-container {/* jupyter's `normalize.less` sets `[hidden] { display: none; }` but bootstrap.min.css set `[hidden] { display: none !important; }` so we also need the `!important` here to be able to override the default hidden behavior on the sphinx rendered scikit-learn.org. See: https://github.com/scikit-learn/scikit-learn/issues/21755 */display: inline-block !important;position: relative;}#sk-container-id-1 div.sk-text-repr-fallback {display: none;}</style><div id=\"sk-container-id-1\" class=\"sk-top-container\"><div class=\"sk-text-repr-fallback\"><pre>Pipeline(steps=[(&#x27;scale&#x27;, None), (&#x27;model&#x27;, LogisticRegression(C=0.1))])</pre><b>In a Jupyter environment, please rerun this cell to show the HTML representation or trust the notebook. <br />On GitHub, the HTML representation is unable to render, please try loading this page with nbviewer.org.</b></div><div class=\"sk-container\" hidden><div class=\"sk-item sk-dashed-wrapped\"><div class=\"sk-label-container\"><div class=\"sk-label sk-toggleable\"><input class=\"sk-toggleable__control sk-hidden--visually\" id=\"sk-estimator-id-1\" type=\"checkbox\" ><label for=\"sk-estimator-id-1\" class=\"sk-toggleable__label sk-toggleable__label-arrow\">Pipeline</label><div class=\"sk-toggleable__content\"><pre>Pipeline(steps=[(&#x27;scale&#x27;, None), (&#x27;model&#x27;, LogisticRegression(C=0.1))])</pre></div></div></div><div class=\"sk-serial\"><div class=\"sk-item\"><div class=\"sk-estimator sk-toggleable\"><input class=\"sk-toggleable__control sk-hidden--visually\" id=\"sk-estimator-id-2\" type=\"checkbox\" ><label for=\"sk-estimator-id-2\" class=\"sk-toggleable__label sk-toggleable__label-arrow\">None</label><div class=\"sk-toggleable__content\"><pre>None</pre></div></div></div><div class=\"sk-item\"><div class=\"sk-estimator sk-toggleable\"><input class=\"sk-toggleable__control sk-hidden--visually\" id=\"sk-estimator-id-3\" type=\"checkbox\" ><label for=\"sk-estimator-id-3\" class=\"sk-toggleable__label sk-toggleable__label-arrow\">LogisticRegression</label><div class=\"sk-toggleable__content\"><pre>LogisticRegression(C=0.1)</pre></div></div></div></div></div></div></div>"
      ],
      "text/plain": [
       "Pipeline(steps=[('scale', None), ('model', LogisticRegression(C=0.1))])"
      ]
     },
     "execution_count": 32,
     "metadata": {},
     "output_type": "execute_result"
    }
   ],
   "source": [
    "model.fit(X_train, y_train.values.ravel())"
   ]
  },
  {
   "cell_type": "code",
   "execution_count": 33,
   "id": "af59f8c0",
   "metadata": {
    "execution": {
     "iopub.execute_input": "2025-08-05T16:25:18.639065Z",
     "iopub.status.busy": "2025-08-05T16:25:18.638429Z",
     "iopub.status.idle": "2025-08-05T16:25:18.643475Z",
     "shell.execute_reply": "2025-08-05T16:25:18.642530Z"
    },
    "papermill": {
     "duration": 0.022899,
     "end_time": "2025-08-05T16:25:18.644984",
     "exception": false,
     "start_time": "2025-08-05T16:25:18.622085",
     "status": "completed"
    },
    "tags": []
   },
   "outputs": [],
   "source": [
    "from fairness_multiverse.universe import predict_w_threshold"
   ]
  },
  {
   "cell_type": "code",
   "execution_count": 34,
   "id": "a7cf2e16",
   "metadata": {
    "execution": {
     "iopub.execute_input": "2025-08-05T16:25:18.671391Z",
     "iopub.status.busy": "2025-08-05T16:25:18.670815Z",
     "iopub.status.idle": "2025-08-05T16:25:18.788146Z",
     "shell.execute_reply": "2025-08-05T16:25:18.786879Z"
    },
    "papermill": {
     "duration": 0.132577,
     "end_time": "2025-08-05T16:25:18.790315",
     "exception": false,
     "start_time": "2025-08-05T16:25:18.657738",
     "status": "completed"
    },
    "tags": []
   },
   "outputs": [
    {
     "data": {
      "text/plain": [
       "0.8598038122840264"
      ]
     },
     "execution_count": 34,
     "metadata": {},
     "output_type": "execute_result"
    }
   ],
   "source": [
    "probs_test = model.predict_proba(X_test)\n",
    "\n",
    "'''\n",
    "Below code returns a boolean array (or binary 0/1 array depending on how it’s used) where each element \n",
    "is True if the probability of class 1 is greater than or equal to the threshold, and False otherwise.\n",
    "'''\n",
    "y_pred_default = predict_w_threshold(probs_test, 0.5)\n",
    "\n",
    "from sklearn.metrics import accuracy_score\n",
    "\n",
    "# Naive prediction\n",
    "accuracy_score(y_true = y_true, y_pred = y_pred_default)"
   ]
  },
  {
   "cell_type": "code",
   "execution_count": 35,
   "id": "081964c3",
   "metadata": {
    "execution": {
     "iopub.execute_input": "2025-08-05T16:25:18.843218Z",
     "iopub.status.busy": "2025-08-05T16:25:18.842456Z",
     "iopub.status.idle": "2025-08-05T16:25:18.966160Z",
     "shell.execute_reply": "2025-08-05T16:25:18.964818Z"
    },
    "papermill": {
     "duration": 0.152175,
     "end_time": "2025-08-05T16:25:18.968432",
     "exception": false,
     "start_time": "2025-08-05T16:25:18.816257",
     "status": "completed"
    },
    "tags": []
   },
   "outputs": [
    {
     "data": {
      "text/plain": [
       "array([0, 0, 0, ..., 0, 0, 0])"
      ]
     },
     "execution_count": 35,
     "metadata": {},
     "output_type": "execute_result"
    }
   ],
   "source": [
    "model.predict(X_test)"
   ]
  },
  {
   "cell_type": "markdown",
   "id": "56c9705b",
   "metadata": {
    "papermill": {
     "duration": 0.024941,
     "end_time": "2025-08-05T16:25:19.019353",
     "exception": false,
     "start_time": "2025-08-05T16:25:18.994412",
     "status": "completed"
    },
    "tags": []
   },
   "source": [
    "# Conformal Prediction"
   ]
  },
  {
   "cell_type": "code",
   "execution_count": 36,
   "id": "160ec6ff",
   "metadata": {
    "execution": {
     "iopub.execute_input": "2025-08-05T16:25:19.069558Z",
     "iopub.status.busy": "2025-08-05T16:25:19.068956Z",
     "iopub.status.idle": "2025-08-05T16:25:19.075010Z",
     "shell.execute_reply": "2025-08-05T16:25:19.073783Z"
    },
    "papermill": {
     "duration": 0.034466,
     "end_time": "2025-08-05T16:25:19.077283",
     "exception": false,
     "start_time": "2025-08-05T16:25:19.042817",
     "status": "completed"
    },
    "tags": []
   },
   "outputs": [],
   "source": [
    "# Miscoverage level for conformal prediction (10% allowed error rate => 90% target coverage)\n",
    "alpha = 0.1"
   ]
  },
  {
   "cell_type": "code",
   "execution_count": 37,
   "id": "eadf4555-3dd3-440e-8e35-f82a4ad9f855",
   "metadata": {
    "execution": {
     "iopub.execute_input": "2025-08-05T16:25:19.128551Z",
     "iopub.status.busy": "2025-08-05T16:25:19.127752Z",
     "iopub.status.idle": "2025-08-05T16:25:19.216836Z",
     "shell.execute_reply": "2025-08-05T16:25:19.215937Z"
    },
    "papermill": {
     "duration": 0.117026,
     "end_time": "2025-08-05T16:25:19.219092",
     "exception": false,
     "start_time": "2025-08-05T16:25:19.102066",
     "status": "completed"
    },
    "tags": []
   },
   "outputs": [],
   "source": [
    "probs_calib = model.predict_proba(X_calib)"
   ]
  },
  {
   "cell_type": "code",
   "execution_count": 38,
   "id": "2ed93547-6d5d-4983-9b36-1ecb300da49a",
   "metadata": {
    "execution": {
     "iopub.execute_input": "2025-08-05T16:25:19.284485Z",
     "iopub.status.busy": "2025-08-05T16:25:19.283519Z",
     "iopub.status.idle": "2025-08-05T16:25:19.291915Z",
     "shell.execute_reply": "2025-08-05T16:25:19.290685Z"
    },
    "papermill": {
     "duration": 0.05187,
     "end_time": "2025-08-05T16:25:19.296120",
     "exception": false,
     "start_time": "2025-08-05T16:25:19.244250",
     "status": "completed"
    },
    "tags": []
   },
   "outputs": [],
   "source": [
    "y_calib = y_calib.values.ravel().astype(int)"
   ]
  },
  {
   "cell_type": "code",
   "execution_count": 39,
   "id": "65d1320d-f588-4b38-9072-62af1ae97f7d",
   "metadata": {
    "execution": {
     "iopub.execute_input": "2025-08-05T16:25:19.367509Z",
     "iopub.status.busy": "2025-08-05T16:25:19.366916Z",
     "iopub.status.idle": "2025-08-05T16:25:19.376306Z",
     "shell.execute_reply": "2025-08-05T16:25:19.375117Z"
    },
    "papermill": {
     "duration": 0.048016,
     "end_time": "2025-08-05T16:25:19.378834",
     "exception": false,
     "start_time": "2025-08-05T16:25:19.330818",
     "status": "completed"
    },
    "tags": []
   },
   "outputs": [],
   "source": [
    "from fairness_multiverse.conformal import compute_nc_scores\n",
    "\n",
    "# Compute nonconformity scores on calibration set (1 - probability of true class)\n",
    "nc_scores = compute_nc_scores(probs_calib, y_calib)"
   ]
  },
  {
   "cell_type": "code",
   "execution_count": 40,
   "id": "df3b8ca3-53b7-43d5-9667-7c85da7aeda2",
   "metadata": {
    "execution": {
     "iopub.execute_input": "2025-08-05T16:25:19.412833Z",
     "iopub.status.busy": "2025-08-05T16:25:19.412347Z",
     "iopub.status.idle": "2025-08-05T16:25:19.419269Z",
     "shell.execute_reply": "2025-08-05T16:25:19.418023Z"
    },
    "papermill": {
     "duration": 0.024371,
     "end_time": "2025-08-05T16:25:19.422892",
     "exception": false,
     "start_time": "2025-08-05T16:25:19.398521",
     "status": "completed"
    },
    "tags": []
   },
   "outputs": [],
   "source": [
    "from fairness_multiverse.conformal import find_threshold\n",
    "\n",
    "# Find conformal threshold q_hat for the given alpha (split conformal method)\n",
    "q_hat = find_threshold(nc_scores, alpha)"
   ]
  },
  {
   "cell_type": "code",
   "execution_count": 41,
   "id": "4d29e6c1-0ef6-4aa4-b8fe-4fe79b0d033a",
   "metadata": {
    "execution": {
     "iopub.execute_input": "2025-08-05T16:25:19.476226Z",
     "iopub.status.busy": "2025-08-05T16:25:19.475728Z",
     "iopub.status.idle": "2025-08-05T16:25:19.484137Z",
     "shell.execute_reply": "2025-08-05T16:25:19.482927Z"
    },
    "papermill": {
     "duration": 0.038562,
     "end_time": "2025-08-05T16:25:19.487363",
     "exception": false,
     "start_time": "2025-08-05T16:25:19.448801",
     "status": "completed"
    },
    "tags": []
   },
   "outputs": [
    {
     "data": {
      "text/plain": [
       "0.6901053842316429"
      ]
     },
     "execution_count": 41,
     "metadata": {},
     "output_type": "execute_result"
    }
   ],
   "source": [
    "q_hat"
   ]
  },
  {
   "cell_type": "code",
   "execution_count": 42,
   "id": "92460794-cdac-4be2-ba28-f28c0515a6fb",
   "metadata": {
    "execution": {
     "iopub.execute_input": "2025-08-05T16:25:19.539965Z",
     "iopub.status.busy": "2025-08-05T16:25:19.539499Z",
     "iopub.status.idle": "2025-08-05T16:25:20.342736Z",
     "shell.execute_reply": "2025-08-05T16:25:20.341384Z"
    },
    "papermill": {
     "duration": 0.832112,
     "end_time": "2025-08-05T16:25:20.345242",
     "exception": false,
     "start_time": "2025-08-05T16:25:19.513130",
     "status": "completed"
    },
    "tags": []
   },
   "outputs": [],
   "source": [
    "from fairness_multiverse.conformal import predict_conformal_sets\n",
    "\n",
    "# Generate prediction sets for each test example\n",
    "pred_sets = predict_conformal_sets(model, X_test, q_hat)"
   ]
  },
  {
   "cell_type": "code",
   "execution_count": 43,
   "id": "d90c9a65-e6db-4f5d-80cd-e68fb7e46829",
   "metadata": {
    "execution": {
     "iopub.execute_input": "2025-08-05T16:25:20.400200Z",
     "iopub.status.busy": "2025-08-05T16:25:20.399314Z",
     "iopub.status.idle": "2025-08-05T16:25:20.409051Z",
     "shell.execute_reply": "2025-08-05T16:25:20.407832Z"
    },
    "papermill": {
     "duration": 0.039938,
     "end_time": "2025-08-05T16:25:20.411443",
     "exception": false,
     "start_time": "2025-08-05T16:25:20.371505",
     "status": "completed"
    },
    "tags": []
   },
   "outputs": [],
   "source": [
    "y_true = y_true.squeeze()"
   ]
  },
  {
   "cell_type": "code",
   "execution_count": 44,
   "id": "3a58a54a-1e68-46b9-927a-df01f18aebc8",
   "metadata": {
    "execution": {
     "iopub.execute_input": "2025-08-05T16:25:20.475683Z",
     "iopub.status.busy": "2025-08-05T16:25:20.475058Z",
     "iopub.status.idle": "2025-08-05T16:25:21.545686Z",
     "shell.execute_reply": "2025-08-05T16:25:21.544437Z"
    },
    "papermill": {
     "duration": 1.105441,
     "end_time": "2025-08-05T16:25:21.548437",
     "exception": false,
     "start_time": "2025-08-05T16:25:20.442996",
     "status": "completed"
    },
    "tags": []
   },
   "outputs": [],
   "source": [
    "from fairness_multiverse.conformal import evaluate_sets\n",
    "\n",
    "# Evaluate coverage and average set size on test data\n",
    "metrics = evaluate_sets(pred_sets, y_true)"
   ]
  },
  {
   "cell_type": "markdown",
   "id": "2b569c12-9aaa-4c88-98c9-bbcd0cf3ebb8",
   "metadata": {
    "papermill": {
     "duration": 0.034938,
     "end_time": "2025-08-05T16:25:21.619844",
     "exception": false,
     "start_time": "2025-08-05T16:25:21.584906",
     "status": "completed"
    },
    "tags": []
   },
   "source": [
    "# CP Metrics"
   ]
  },
  {
   "cell_type": "code",
   "execution_count": 45,
   "id": "5ce0a5cb-201f-45a0-ade5-94c7f0bd6095",
   "metadata": {
    "execution": {
     "iopub.execute_input": "2025-08-05T16:25:21.691759Z",
     "iopub.status.busy": "2025-08-05T16:25:21.690868Z",
     "iopub.status.idle": "2025-08-05T16:25:21.700572Z",
     "shell.execute_reply": "2025-08-05T16:25:21.699445Z"
    },
    "papermill": {
     "duration": 0.048192,
     "end_time": "2025-08-05T16:25:21.703026",
     "exception": false,
     "start_time": "2025-08-05T16:25:21.654834",
     "status": "completed"
    },
    "tags": []
   },
   "outputs": [
    {
     "data": {
      "text/plain": [
       "{'coverage': 0.912573849069223, 'avg_size': 1.2266191060082487}"
      ]
     },
     "execution_count": 45,
     "metadata": {},
     "output_type": "execute_result"
    }
   ],
   "source": [
    "metrics"
   ]
  },
  {
   "cell_type": "code",
   "execution_count": 46,
   "id": "9b9a838d-31c9-430b-ae14-12baee460d17",
   "metadata": {
    "execution": {
     "iopub.execute_input": "2025-08-05T16:25:21.775523Z",
     "iopub.status.busy": "2025-08-05T16:25:21.774927Z",
     "iopub.status.idle": "2025-08-05T16:25:21.783192Z",
     "shell.execute_reply": "2025-08-05T16:25:21.781890Z"
    },
    "papermill": {
     "duration": 0.047379,
     "end_time": "2025-08-05T16:25:21.785707",
     "exception": false,
     "start_time": "2025-08-05T16:25:21.738328",
     "status": "completed"
    },
    "tags": []
   },
   "outputs": [],
   "source": [
    "example_universe = universe.copy()\n",
    "universe_training_year = example_universe.get(\"training_year\")\n",
    "universe_training_size = example_universe.get(\"training_size\")\n",
    "universe_scale = example_universe.get(\"scale\")\n",
    "universe_model = example_universe.get(\"model\")\n",
    "universe_exclude_features = example_universe.get(\"exclude_features\")\n",
    "universe_exclude_subgroups = example_universe.get(\"exclude_subgroups\")"
   ]
  },
  {
   "cell_type": "code",
   "execution_count": 47,
   "id": "f4b6a8ac-9dc0-4245-8a91-5b3b5999c4f9",
   "metadata": {
    "execution": {
     "iopub.execute_input": "2025-08-05T16:25:21.860105Z",
     "iopub.status.busy": "2025-08-05T16:25:21.859275Z",
     "iopub.status.idle": "2025-08-05T16:25:21.868068Z",
     "shell.execute_reply": "2025-08-05T16:25:21.866762Z"
    },
    "papermill": {
     "duration": 0.049007,
     "end_time": "2025-08-05T16:25:21.870561",
     "exception": false,
     "start_time": "2025-08-05T16:25:21.821554",
     "status": "completed"
    },
    "tags": []
   },
   "outputs": [],
   "source": [
    "cp_metrics_dict = {\n",
    "    \"universe_id\": [universe_id],\n",
    "    \"universe_training_year\": [universe_training_year],\n",
    "    \"universe_training_size\": [universe_training_size],\n",
    "    \"universe_scale\": [universe_scale],\n",
    "    \"universe_model\": [universe_model],\n",
    "    \"universe_exclude_features\": [universe_exclude_features],\n",
    "    \"universe_exclude_subgroups\": [universe_exclude_subgroups],\n",
    "    \"q_hat\": [q_hat],\n",
    "    \"coverage\": [metrics[\"coverage\"]],\n",
    "    \"avg_size\": [metrics[\"avg_size\"]],\n",
    "}"
   ]
  },
  {
   "cell_type": "code",
   "execution_count": 48,
   "id": "908acbb1-0371-4915-85ca-3fa520d2efe2",
   "metadata": {
    "execution": {
     "iopub.execute_input": "2025-08-05T16:25:21.944519Z",
     "iopub.status.busy": "2025-08-05T16:25:21.943741Z",
     "iopub.status.idle": "2025-08-05T16:25:21.952853Z",
     "shell.execute_reply": "2025-08-05T16:25:21.951772Z"
    },
    "papermill": {
     "duration": 0.055896,
     "end_time": "2025-08-05T16:25:21.954767",
     "exception": false,
     "start_time": "2025-08-05T16:25:21.898871",
     "status": "completed"
    },
    "tags": []
   },
   "outputs": [
    {
     "data": {
      "text/plain": [
       "{'universe_id': ['81748a1d026bd9091f7083285e1ef244'],\n",
       " 'universe_training_year': ['2012_14'],\n",
       " 'universe_training_size': ['1k'],\n",
       " 'universe_scale': ['do-not-scale'],\n",
       " 'universe_model': ['penalized_logreg'],\n",
       " 'universe_exclude_features': ['nationality'],\n",
       " 'universe_exclude_subgroups': ['drop-non-german'],\n",
       " 'q_hat': [0.6901053842316429],\n",
       " 'coverage': [0.912573849069223],\n",
       " 'avg_size': [1.2266191060082487]}"
      ]
     },
     "execution_count": 48,
     "metadata": {},
     "output_type": "execute_result"
    }
   ],
   "source": [
    "cp_metrics_dict"
   ]
  },
  {
   "cell_type": "code",
   "execution_count": 49,
   "id": "33007efc-14e9-4ec6-97ac-56a455c82265",
   "metadata": {
    "execution": {
     "iopub.execute_input": "2025-08-05T16:25:22.010135Z",
     "iopub.status.busy": "2025-08-05T16:25:22.009393Z",
     "iopub.status.idle": "2025-08-05T16:25:22.016619Z",
     "shell.execute_reply": "2025-08-05T16:25:22.015526Z"
    },
    "papermill": {
     "duration": 0.037083,
     "end_time": "2025-08-05T16:25:22.018573",
     "exception": false,
     "start_time": "2025-08-05T16:25:21.981490",
     "status": "completed"
    },
    "tags": []
   },
   "outputs": [],
   "source": [
    "cp_metrics_df = pd.DataFrame(cp_metrics_dict)"
   ]
  },
  {
   "cell_type": "code",
   "execution_count": 50,
   "id": "db12611b-57b2-4910-b9d0-355adfd6e7bf",
   "metadata": {
    "execution": {
     "iopub.execute_input": "2025-08-05T16:25:22.082883Z",
     "iopub.status.busy": "2025-08-05T16:25:22.082388Z",
     "iopub.status.idle": "2025-08-05T16:25:22.099241Z",
     "shell.execute_reply": "2025-08-05T16:25:22.098331Z"
    },
    "papermill": {
     "duration": 0.05506,
     "end_time": "2025-08-05T16:25:22.100851",
     "exception": false,
     "start_time": "2025-08-05T16:25:22.045791",
     "status": "completed"
    },
    "tags": []
   },
   "outputs": [
    {
     "data": {
      "text/html": [
       "<div>\n",
       "<style scoped>\n",
       "    .dataframe tbody tr th:only-of-type {\n",
       "        vertical-align: middle;\n",
       "    }\n",
       "\n",
       "    .dataframe tbody tr th {\n",
       "        vertical-align: top;\n",
       "    }\n",
       "\n",
       "    .dataframe thead th {\n",
       "        text-align: right;\n",
       "    }\n",
       "</style>\n",
       "<table border=\"1\" class=\"dataframe\">\n",
       "  <thead>\n",
       "    <tr style=\"text-align: right;\">\n",
       "      <th></th>\n",
       "      <th>universe_id</th>\n",
       "      <th>universe_training_year</th>\n",
       "      <th>universe_training_size</th>\n",
       "      <th>universe_scale</th>\n",
       "      <th>universe_model</th>\n",
       "      <th>universe_exclude_features</th>\n",
       "      <th>universe_exclude_subgroups</th>\n",
       "      <th>q_hat</th>\n",
       "      <th>coverage</th>\n",
       "      <th>avg_size</th>\n",
       "    </tr>\n",
       "  </thead>\n",
       "  <tbody>\n",
       "    <tr>\n",
       "      <th>0</th>\n",
       "      <td>81748a1d026bd9091f7083285e1ef244</td>\n",
       "      <td>2012_14</td>\n",
       "      <td>1k</td>\n",
       "      <td>do-not-scale</td>\n",
       "      <td>penalized_logreg</td>\n",
       "      <td>nationality</td>\n",
       "      <td>drop-non-german</td>\n",
       "      <td>0.690105</td>\n",
       "      <td>0.912574</td>\n",
       "      <td>1.226619</td>\n",
       "    </tr>\n",
       "  </tbody>\n",
       "</table>\n",
       "</div>"
      ],
      "text/plain": [
       "                        universe_id universe_training_year  \\\n",
       "0  81748a1d026bd9091f7083285e1ef244                2012_14   \n",
       "\n",
       "  universe_training_size universe_scale    universe_model  \\\n",
       "0                     1k   do-not-scale  penalized_logreg   \n",
       "\n",
       "  universe_exclude_features universe_exclude_subgroups     q_hat  coverage  \\\n",
       "0               nationality            drop-non-german  0.690105  0.912574   \n",
       "\n",
       "   avg_size  \n",
       "0  1.226619  "
      ]
     },
     "execution_count": 50,
     "metadata": {},
     "output_type": "execute_result"
    }
   ],
   "source": [
    "cp_metrics_df"
   ]
  },
  {
   "cell_type": "code",
   "execution_count": 51,
   "id": "b7fbde55-a0a1-47e4-9af6-fe4a17fa8c61",
   "metadata": {
    "execution": {
     "iopub.execute_input": "2025-08-05T16:25:22.131415Z",
     "iopub.status.busy": "2025-08-05T16:25:22.130583Z",
     "iopub.status.idle": "2025-08-05T16:25:22.135716Z",
     "shell.execute_reply": "2025-08-05T16:25:22.134888Z"
    },
    "papermill": {
     "duration": 0.021775,
     "end_time": "2025-08-05T16:25:22.137212",
     "exception": false,
     "start_time": "2025-08-05T16:25:22.115437",
     "status": "completed"
    },
    "tags": []
   },
   "outputs": [],
   "source": [
    "# Conditional Coverage & looking at subgroups"
   ]
  },
  {
   "cell_type": "code",
   "execution_count": 52,
   "id": "027ae886-68dd-4141-96c7-805a5450e1ef",
   "metadata": {
    "execution": {
     "iopub.execute_input": "2025-08-05T16:25:22.168209Z",
     "iopub.status.busy": "2025-08-05T16:25:22.167387Z",
     "iopub.status.idle": "2025-08-05T16:25:22.378613Z",
     "shell.execute_reply": "2025-08-05T16:25:22.377720Z"
    },
    "papermill": {
     "duration": 0.228179,
     "end_time": "2025-08-05T16:25:22.380332",
     "exception": false,
     "start_time": "2025-08-05T16:25:22.152153",
     "status": "completed"
    },
    "tags": []
   },
   "outputs": [],
   "source": [
    "from fairness_multiverse.conformal import build_cp_groups\n",
    "\n",
    "cp_groups_df = build_cp_groups(pred_sets, y_true, X_test.index, org_test)\n",
    "#needs universe_id and setting"
   ]
  },
  {
   "cell_type": "code",
   "execution_count": 53,
   "id": "6cbdab96-b2b2-45af-ad54-d0516db2e28d",
   "metadata": {
    "execution": {
     "iopub.execute_input": "2025-08-05T16:25:22.410791Z",
     "iopub.status.busy": "2025-08-05T16:25:22.409932Z",
     "iopub.status.idle": "2025-08-05T16:25:23.858533Z",
     "shell.execute_reply": "2025-08-05T16:25:23.857264Z"
    },
    "papermill": {
     "duration": 1.466002,
     "end_time": "2025-08-05T16:25:23.860830",
     "exception": false,
     "start_time": "2025-08-05T16:25:22.394828",
     "status": "completed"
    },
    "tags": []
   },
   "outputs": [],
   "source": [
    "# Define covered = 1 if true_label is in the predicted set\n",
    "cp_groups_df['covered'] = cp_groups_df.apply(\n",
    "    lambda r: int(r['true_label'] in r['pred_set']),\n",
    "    axis=1\n",
    ")"
   ]
  },
  {
   "cell_type": "code",
   "execution_count": 54,
   "id": "338ff529-1a6b-4b87-a931-8e4788d52aad",
   "metadata": {
    "execution": {
     "iopub.execute_input": "2025-08-05T16:25:23.893493Z",
     "iopub.status.busy": "2025-08-05T16:25:23.893196Z",
     "iopub.status.idle": "2025-08-05T16:25:23.897472Z",
     "shell.execute_reply": "2025-08-05T16:25:23.896551Z"
    },
    "papermill": {
     "duration": 0.020485,
     "end_time": "2025-08-05T16:25:23.899007",
     "exception": false,
     "start_time": "2025-08-05T16:25:23.878522",
     "status": "completed"
    },
    "tags": []
   },
   "outputs": [],
   "source": [
    "#cp_groups_df"
   ]
  },
  {
   "cell_type": "code",
   "execution_count": 55,
   "id": "90032e27-66df-4540-9169-4e89cfbaa758",
   "metadata": {
    "execution": {
     "iopub.execute_input": "2025-08-05T16:25:23.953851Z",
     "iopub.status.busy": "2025-08-05T16:25:23.953317Z",
     "iopub.status.idle": "2025-08-05T16:25:23.966829Z",
     "shell.execute_reply": "2025-08-05T16:25:23.965637Z"
    },
    "papermill": {
     "duration": 0.045262,
     "end_time": "2025-08-05T16:25:23.968959",
     "exception": false,
     "start_time": "2025-08-05T16:25:23.923697",
     "status": "completed"
    },
    "tags": []
   },
   "outputs": [],
   "source": [
    "subgroups = ['frau1','nongerman','nongerman_male','nongerman_female']\n",
    "\n",
    "# Conditional coverage for subgroup==1\n",
    "cond_coverage = {\n",
    "    g: cp_groups_df.loc[cp_groups_df[g]==1, 'covered'].mean()\n",
    "    for g in subgroups\n",
    "}"
   ]
  },
  {
   "cell_type": "code",
   "execution_count": 56,
   "id": "1e348fb1-b9c3-45bc-ba23-f016827a7e0d",
   "metadata": {
    "execution": {
     "iopub.execute_input": "2025-08-05T16:25:24.027405Z",
     "iopub.status.busy": "2025-08-05T16:25:24.026729Z",
     "iopub.status.idle": "2025-08-05T16:25:24.036483Z",
     "shell.execute_reply": "2025-08-05T16:25:24.035309Z"
    },
    "papermill": {
     "duration": 0.041352,
     "end_time": "2025-08-05T16:25:24.039019",
     "exception": false,
     "start_time": "2025-08-05T16:25:23.997667",
     "status": "completed"
    },
    "tags": []
   },
   "outputs": [
    {
     "data": {
      "text/plain": [
       "{'frau1': 0.911200970481197,\n",
       " 'nongerman': 0.9395946780441251,\n",
       " 'nongerman_male': 0.9498333783662073,\n",
       " 'nongerman_female': 0.9226527570789866}"
      ]
     },
     "execution_count": 56,
     "metadata": {},
     "output_type": "execute_result"
    }
   ],
   "source": [
    "cond_coverage"
   ]
  },
  {
   "cell_type": "code",
   "execution_count": 57,
   "id": "f5093324-c3dd-4d63-bc4c-8d945e5c8bbb",
   "metadata": {
    "execution": {
     "iopub.execute_input": "2025-08-05T16:25:24.103374Z",
     "iopub.status.busy": "2025-08-05T16:25:24.102235Z",
     "iopub.status.idle": "2025-08-05T16:25:24.111094Z",
     "shell.execute_reply": "2025-08-05T16:25:24.109956Z"
    },
    "papermill": {
     "duration": 0.04439,
     "end_time": "2025-08-05T16:25:24.113357",
     "exception": false,
     "start_time": "2025-08-05T16:25:24.068967",
     "status": "completed"
    },
    "tags": []
   },
   "outputs": [],
   "source": [
    "for subgroup, cov in cond_coverage.items():\n",
    "    cp_metrics_df[f\"cov_{subgroup}\"] = cov"
   ]
  },
  {
   "cell_type": "code",
   "execution_count": 58,
   "id": "6e872e10-dbe5-49e8-b554-5030c98ff75d",
   "metadata": {
    "execution": {
     "iopub.execute_input": "2025-08-05T16:25:24.179099Z",
     "iopub.status.busy": "2025-08-05T16:25:24.178597Z",
     "iopub.status.idle": "2025-08-05T16:25:24.202120Z",
     "shell.execute_reply": "2025-08-05T16:25:24.200947Z"
    },
    "papermill": {
     "duration": 0.06095,
     "end_time": "2025-08-05T16:25:24.204112",
     "exception": false,
     "start_time": "2025-08-05T16:25:24.143162",
     "status": "completed"
    },
    "tags": []
   },
   "outputs": [
    {
     "data": {
      "text/html": [
       "<div>\n",
       "<style scoped>\n",
       "    .dataframe tbody tr th:only-of-type {\n",
       "        vertical-align: middle;\n",
       "    }\n",
       "\n",
       "    .dataframe tbody tr th {\n",
       "        vertical-align: top;\n",
       "    }\n",
       "\n",
       "    .dataframe thead th {\n",
       "        text-align: right;\n",
       "    }\n",
       "</style>\n",
       "<table border=\"1\" class=\"dataframe\">\n",
       "  <thead>\n",
       "    <tr style=\"text-align: right;\">\n",
       "      <th></th>\n",
       "      <th>universe_id</th>\n",
       "      <th>universe_training_year</th>\n",
       "      <th>universe_training_size</th>\n",
       "      <th>universe_scale</th>\n",
       "      <th>universe_model</th>\n",
       "      <th>universe_exclude_features</th>\n",
       "      <th>universe_exclude_subgroups</th>\n",
       "      <th>q_hat</th>\n",
       "      <th>coverage</th>\n",
       "      <th>avg_size</th>\n",
       "      <th>cov_frau1</th>\n",
       "      <th>cov_nongerman</th>\n",
       "      <th>cov_nongerman_male</th>\n",
       "      <th>cov_nongerman_female</th>\n",
       "    </tr>\n",
       "  </thead>\n",
       "  <tbody>\n",
       "    <tr>\n",
       "      <th>0</th>\n",
       "      <td>81748a1d026bd9091f7083285e1ef244</td>\n",
       "      <td>2012_14</td>\n",
       "      <td>1k</td>\n",
       "      <td>do-not-scale</td>\n",
       "      <td>penalized_logreg</td>\n",
       "      <td>nationality</td>\n",
       "      <td>drop-non-german</td>\n",
       "      <td>0.690105</td>\n",
       "      <td>0.912574</td>\n",
       "      <td>1.226619</td>\n",
       "      <td>0.911201</td>\n",
       "      <td>0.939595</td>\n",
       "      <td>0.949833</td>\n",
       "      <td>0.922653</td>\n",
       "    </tr>\n",
       "  </tbody>\n",
       "</table>\n",
       "</div>"
      ],
      "text/plain": [
       "                        universe_id universe_training_year  \\\n",
       "0  81748a1d026bd9091f7083285e1ef244                2012_14   \n",
       "\n",
       "  universe_training_size universe_scale    universe_model  \\\n",
       "0                     1k   do-not-scale  penalized_logreg   \n",
       "\n",
       "  universe_exclude_features universe_exclude_subgroups     q_hat  coverage  \\\n",
       "0               nationality            drop-non-german  0.690105  0.912574   \n",
       "\n",
       "   avg_size  cov_frau1  cov_nongerman  cov_nongerman_male  \\\n",
       "0  1.226619   0.911201       0.939595            0.949833   \n",
       "\n",
       "   cov_nongerman_female  \n",
       "0              0.922653  "
      ]
     },
     "execution_count": 58,
     "metadata": {},
     "output_type": "execute_result"
    }
   ],
   "source": [
    "cp_metrics_df"
   ]
  },
  {
   "cell_type": "markdown",
   "id": "33774451",
   "metadata": {
    "papermill": {
     "duration": 0.024201,
     "end_time": "2025-08-05T16:25:24.257939",
     "exception": false,
     "start_time": "2025-08-05T16:25:24.233738",
     "status": "completed"
    },
    "tags": []
   },
   "source": [
    "# (Fairness) Metrics"
   ]
  },
  {
   "cell_type": "code",
   "execution_count": 59,
   "id": "debc5d62",
   "metadata": {
    "execution": {
     "iopub.execute_input": "2025-08-05T16:25:24.311167Z",
     "iopub.status.busy": "2025-08-05T16:25:24.310674Z",
     "iopub.status.idle": "2025-08-05T16:25:24.332426Z",
     "shell.execute_reply": "2025-08-05T16:25:24.331226Z"
    },
    "papermill": {
     "duration": 0.047649,
     "end_time": "2025-08-05T16:25:24.334443",
     "exception": false,
     "start_time": "2025-08-05T16:25:24.286794",
     "status": "completed"
    },
    "tags": []
   },
   "outputs": [],
   "source": [
    "# do I need to include maxdeutsch1.missing?\n",
    "\n",
    "import numpy as np\n",
    "\n",
    "colname_to_bin = \"maxdeutsch1\"\n",
    "majority_value = org_train[colname_to_bin].mode()[0]\n",
    "\n",
    "org_test[\"majmin\"] = np.where(org_test[colname_to_bin] == majority_value, \"majority\", \"minority\")"
   ]
  },
  {
   "cell_type": "code",
   "execution_count": 60,
   "id": "06a50de5",
   "metadata": {
    "execution": {
     "iopub.execute_input": "2025-08-05T16:25:24.395057Z",
     "iopub.status.busy": "2025-08-05T16:25:24.394526Z",
     "iopub.status.idle": "2025-08-05T16:25:27.687866Z",
     "shell.execute_reply": "2025-08-05T16:25:27.686506Z"
    },
    "papermill": {
     "duration": 3.326709,
     "end_time": "2025-08-05T16:25:27.691070",
     "exception": false,
     "start_time": "2025-08-05T16:25:24.364361",
     "status": "completed"
    },
    "tags": []
   },
   "outputs": [],
   "source": [
    "example_universe = universe.copy()\n",
    "example_universe[\"cutoff\"] = example_universe[\"cutoff\"][0]\n",
    "example_universe[\"eval_fairness_grouping\"] = example_universe[\"eval_fairness_grouping\"][0]\n",
    "fairness_dict, metric_frame = universe_analysis.compute_metrics(\n",
    "    example_universe,\n",
    "    y_pred_prob=probs_test,\n",
    "    y_test=y_true,\n",
    "    org_test=org_test,\n",
    ")"
   ]
  },
  {
   "cell_type": "markdown",
   "id": "f95d4e02",
   "metadata": {
    "papermill": {
     "duration": 0.025913,
     "end_time": "2025-08-05T16:25:27.759493",
     "exception": false,
     "start_time": "2025-08-05T16:25:27.733580",
     "status": "completed"
    },
    "tags": []
   },
   "source": [
    "# Overall"
   ]
  },
  {
   "cell_type": "markdown",
   "id": "bdee4871",
   "metadata": {
    "papermill": {
     "duration": 0.025891,
     "end_time": "2025-08-05T16:25:27.812297",
     "exception": false,
     "start_time": "2025-08-05T16:25:27.786406",
     "status": "completed"
    },
    "tags": []
   },
   "source": [
    "Fairness\n",
    "Main fairness target: Equalized Odds. Seems to be a better fit than equal opportunity, since we're not only interested in Y = 1. Seems to be a better fit than demographic parity, since we also care about accuracy, not just equal distribution of preds.\n",
    "\n",
    "Pick column for computation of fairness metrics\n",
    "\n",
    "Performance\n",
    "Overall performance measures, most interesting in relation to the measures split by group below"
   ]
  },
  {
   "cell_type": "code",
   "execution_count": 61,
   "id": "c4e067c6",
   "metadata": {
    "execution": {
     "iopub.execute_input": "2025-08-05T16:25:27.868704Z",
     "iopub.status.busy": "2025-08-05T16:25:27.867299Z",
     "iopub.status.idle": "2025-08-05T16:25:27.881205Z",
     "shell.execute_reply": "2025-08-05T16:25:27.879756Z"
    },
    "papermill": {
     "duration": 0.044362,
     "end_time": "2025-08-05T16:25:27.883588",
     "exception": false,
     "start_time": "2025-08-05T16:25:27.839226",
     "status": "completed"
    },
    "tags": []
   },
   "outputs": [
    {
     "data": {
      "text/plain": [
       "accuracy                   0.212206\n",
       "balanced accuracy          0.521422\n",
       "f1                         0.233872\n",
       "precision                  0.133603\n",
       "false positive rate        0.894504\n",
       "false negative rate        0.062652\n",
       "selection rate             0.900000\n",
       "count                  89710.000000\n",
       "dtype: float64"
      ]
     },
     "execution_count": 61,
     "metadata": {},
     "output_type": "execute_result"
    }
   ],
   "source": [
    "metric_frame.overall"
   ]
  },
  {
   "cell_type": "markdown",
   "id": "e968fe9d",
   "metadata": {
    "papermill": {
     "duration": 0.025996,
     "end_time": "2025-08-05T16:25:27.939784",
     "exception": false,
     "start_time": "2025-08-05T16:25:27.913788",
     "status": "completed"
    },
    "tags": []
   },
   "source": [
    "By Group"
   ]
  },
  {
   "cell_type": "code",
   "execution_count": 62,
   "id": "ec325bce",
   "metadata": {
    "execution": {
     "iopub.execute_input": "2025-08-05T16:25:27.994074Z",
     "iopub.status.busy": "2025-08-05T16:25:27.993052Z",
     "iopub.status.idle": "2025-08-05T16:25:28.011657Z",
     "shell.execute_reply": "2025-08-05T16:25:28.010553Z"
    },
    "papermill": {
     "duration": 0.047603,
     "end_time": "2025-08-05T16:25:28.013462",
     "exception": false,
     "start_time": "2025-08-05T16:25:27.965859",
     "status": "completed"
    },
    "tags": []
   },
   "outputs": [
    {
     "data": {
      "text/html": [
       "<div>\n",
       "<style scoped>\n",
       "    .dataframe tbody tr th:only-of-type {\n",
       "        vertical-align: middle;\n",
       "    }\n",
       "\n",
       "    .dataframe tbody tr th {\n",
       "        vertical-align: top;\n",
       "    }\n",
       "\n",
       "    .dataframe thead th {\n",
       "        text-align: right;\n",
       "    }\n",
       "</style>\n",
       "<table border=\"1\" class=\"dataframe\">\n",
       "  <thead>\n",
       "    <tr style=\"text-align: right;\">\n",
       "      <th></th>\n",
       "      <th>accuracy</th>\n",
       "      <th>balanced accuracy</th>\n",
       "      <th>f1</th>\n",
       "      <th>precision</th>\n",
       "      <th>false positive rate</th>\n",
       "      <th>false negative rate</th>\n",
       "      <th>selection rate</th>\n",
       "      <th>count</th>\n",
       "    </tr>\n",
       "    <tr>\n",
       "      <th>majmin</th>\n",
       "      <th></th>\n",
       "      <th></th>\n",
       "      <th></th>\n",
       "      <th></th>\n",
       "      <th></th>\n",
       "      <th></th>\n",
       "      <th></th>\n",
       "      <th></th>\n",
       "    </tr>\n",
       "  </thead>\n",
       "  <tbody>\n",
       "    <tr>\n",
       "      <th>majority</th>\n",
       "      <td>0.230678</td>\n",
       "      <td>0.525978</td>\n",
       "      <td>0.241598</td>\n",
       "      <td>0.138892</td>\n",
       "      <td>0.875396</td>\n",
       "      <td>0.072648</td>\n",
       "      <td>0.882261</td>\n",
       "      <td>69170.0</td>\n",
       "    </tr>\n",
       "    <tr>\n",
       "      <th>minority</th>\n",
       "      <td>0.150000</td>\n",
       "      <td>0.509151</td>\n",
       "      <td>0.209320</td>\n",
       "      <td>0.117232</td>\n",
       "      <td>0.957627</td>\n",
       "      <td>0.024071</td>\n",
       "      <td>0.959737</td>\n",
       "      <td>20540.0</td>\n",
       "    </tr>\n",
       "  </tbody>\n",
       "</table>\n",
       "</div>"
      ],
      "text/plain": [
       "          accuracy  balanced accuracy        f1  precision  \\\n",
       "majmin                                                       \n",
       "majority  0.230678           0.525978  0.241598   0.138892   \n",
       "minority  0.150000           0.509151  0.209320   0.117232   \n",
       "\n",
       "          false positive rate  false negative rate  selection rate    count  \n",
       "majmin                                                                       \n",
       "majority             0.875396             0.072648        0.882261  69170.0  \n",
       "minority             0.957627             0.024071        0.959737  20540.0  "
      ]
     },
     "execution_count": 62,
     "metadata": {},
     "output_type": "execute_result"
    }
   ],
   "source": [
    "metric_frame.by_group"
   ]
  },
  {
   "cell_type": "code",
   "execution_count": 63,
   "id": "a9ddbe63",
   "metadata": {
    "execution": {
     "iopub.execute_input": "2025-08-05T16:25:28.069182Z",
     "iopub.status.busy": "2025-08-05T16:25:28.068602Z",
     "iopub.status.idle": "2025-08-05T16:25:30.905102Z",
     "shell.execute_reply": "2025-08-05T16:25:30.904045Z"
    },
    "papermill": {
     "duration": 2.866175,
     "end_time": "2025-08-05T16:25:30.907292",
     "exception": false,
     "start_time": "2025-08-05T16:25:28.041117",
     "status": "completed"
    },
    "tags": []
   },
   "outputs": [
    {
     "data": {
      "text/plain": [
       "array([[<Axes: title={'center': 'accuracy'}, xlabel='majmin'>,\n",
       "        <Axes: title={'center': 'balanced accuracy'}, xlabel='majmin'>,\n",
       "        <Axes: title={'center': 'f1'}, xlabel='majmin'>],\n",
       "       [<Axes: title={'center': 'precision'}, xlabel='majmin'>,\n",
       "        <Axes: title={'center': 'false positive rate'}, xlabel='majmin'>,\n",
       "        <Axes: title={'center': 'false negative rate'}, xlabel='majmin'>],\n",
       "       [<Axes: title={'center': 'selection rate'}, xlabel='majmin'>,\n",
       "        <Axes: title={'center': 'count'}, xlabel='majmin'>,\n",
       "        <Axes: xlabel='majmin'>]], dtype=object)"
      ]
     },
     "execution_count": 63,
     "metadata": {},
     "output_type": "execute_result"
    },
    {
     "data": {
      "image/png": "[encoded data removed]",
      "text/plain": [
       "<Figure size 1200x800 with 9 Axes>"
      ]
     },
     "metadata": {},
     "output_type": "display_data"
    }
   ],
   "source": [
    "# In a graphic\n",
    "metric_frame.by_group.plot.bar(\n",
    "    subplots=True,\n",
    "    layout=[3, 3],\n",
    "    legend=False,\n",
    "    figsize=[12, 8],\n",
    "    title=\"Show all metrics\",\n",
    ")"
   ]
  },
  {
   "cell_type": "markdown",
   "id": "f57a0bac",
   "metadata": {
    "papermill": {
     "duration": 0.024796,
     "end_time": "2025-08-05T16:25:30.965181",
     "exception": false,
     "start_time": "2025-08-05T16:25:30.940385",
     "status": "completed"
    },
    "tags": []
   },
   "source": [
    "# Final Output"
   ]
  },
  {
   "cell_type": "code",
   "execution_count": 64,
   "id": "96d280a3",
   "metadata": {
    "execution": {
     "iopub.execute_input": "2025-08-05T16:25:31.022776Z",
     "iopub.status.busy": "2025-08-05T16:25:31.021323Z",
     "iopub.status.idle": "2025-08-05T16:25:31.044405Z",
     "shell.execute_reply": "2025-08-05T16:25:31.043474Z"
    },
    "papermill": {
     "duration": 0.05905,
     "end_time": "2025-08-05T16:25:31.046393",
     "exception": false,
     "start_time": "2025-08-05T16:25:30.987343",
     "status": "completed"
    },
    "tags": []
   },
   "outputs": [
    {
     "data": {
      "text/plain": [
       "4"
      ]
     },
     "execution_count": 64,
     "metadata": {},
     "output_type": "execute_result"
    }
   ],
   "source": [
    "sub_universes = universe_analysis.generate_sub_universes()\n",
    "len(sub_universes)"
   ]
  },
  {
   "cell_type": "code",
   "execution_count": 65,
   "id": "92adf7ba",
   "metadata": {
    "execution": {
     "iopub.execute_input": "2025-08-05T16:25:31.081852Z",
     "iopub.status.busy": "2025-08-05T16:25:31.081424Z",
     "iopub.status.idle": "2025-08-05T16:25:31.089786Z",
     "shell.execute_reply": "2025-08-05T16:25:31.088278Z"
    },
    "papermill": {
     "duration": 0.027788,
     "end_time": "2025-08-05T16:25:31.091850",
     "exception": false,
     "start_time": "2025-08-05T16:25:31.064062",
     "status": "completed"
    },
    "tags": []
   },
   "outputs": [],
   "source": [
    "def filter_sub_universe_data(sub_universe, org_test):\n",
    "    # Keep all rows — no filtering\n",
    "    keep_rows_mask = np.ones(org_test.shape[0], dtype=bool)\n",
    "\n",
    "    print(f\"[INFO] Keeping all rows: {keep_rows_mask.sum()} rows retained.\")\n",
    "    return keep_rows_mask"
   ]
  },
  {
   "cell_type": "code",
   "execution_count": 66,
   "id": "4a759155",
   "metadata": {
    "execution": {
     "iopub.execute_input": "2025-08-05T16:25:31.151911Z",
     "iopub.status.busy": "2025-08-05T16:25:31.151506Z",
     "iopub.status.idle": "2025-08-05T16:25:42.919434Z",
     "shell.execute_reply": "2025-08-05T16:25:42.918485Z"
    },
    "papermill": {
     "duration": 11.797327,
     "end_time": "2025-08-05T16:25:42.921030",
     "exception": false,
     "start_time": "2025-08-05T16:25:31.123703",
     "status": "completed"
    },
    "tags": []
   },
   "outputs": [
    {
     "name": "stdout",
     "output_type": "stream",
     "text": [
      "Stopping execution_time clock.\n",
      "[INFO] Keeping all rows: 89710 rows retained.\n"
     ]
    },
    {
     "name": "stdout",
     "output_type": "stream",
     "text": [
      "[INFO] Keeping all rows: 89710 rows retained.\n"
     ]
    },
    {
     "name": "stdout",
     "output_type": "stream",
     "text": [
      "[INFO] Keeping all rows: 89710 rows retained.\n"
     ]
    },
    {
     "name": "stdout",
     "output_type": "stream",
     "text": [
      "[INFO] Keeping all rows: 89710 rows retained.\n"
     ]
    },
    {
     "data": {
      "text/html": [
       "<div>\n",
       "<style scoped>\n",
       "    .dataframe tbody tr th:only-of-type {\n",
       "        vertical-align: middle;\n",
       "    }\n",
       "\n",
       "    .dataframe tbody tr th {\n",
       "        vertical-align: top;\n",
       "    }\n",
       "\n",
       "    .dataframe thead th {\n",
       "        text-align: right;\n",
       "    }\n",
       "</style>\n",
       "<table border=\"1\" class=\"dataframe\">\n",
       "  <thead>\n",
       "    <tr style=\"text-align: right;\">\n",
       "      <th></th>\n",
       "      <th>run_no</th>\n",
       "      <th>universe_id</th>\n",
       "      <th>universe_settings</th>\n",
       "      <th>execution_time</th>\n",
       "      <th>test_size_n</th>\n",
       "      <th>test_size_frac</th>\n",
       "      <th>fair_main_equalized_odds_difference</th>\n",
       "      <th>fair_main_equalized_odds_ratio</th>\n",
       "      <th>fair_main_demographic_parity_difference</th>\n",
       "      <th>fair_main_demographic_parity_ratio</th>\n",
       "      <th>...</th>\n",
       "      <th>perf_grp_precision_0</th>\n",
       "      <th>perf_grp_precision_1</th>\n",
       "      <th>perf_grp_false positive rate_0</th>\n",
       "      <th>perf_grp_false positive rate_1</th>\n",
       "      <th>perf_grp_false negative rate_0</th>\n",
       "      <th>perf_grp_false negative rate_1</th>\n",
       "      <th>perf_grp_selection rate_0</th>\n",
       "      <th>perf_grp_selection rate_1</th>\n",
       "      <th>perf_grp_count_0</th>\n",
       "      <th>perf_grp_count_1</th>\n",
       "    </tr>\n",
       "  </thead>\n",
       "  <tbody>\n",
       "    <tr>\n",
       "      <th>0</th>\n",
       "      <td>15</td>\n",
       "      <td>81748a1d026bd9091f7083285e1ef244</td>\n",
       "      <td>{\"cutoff\": \"quantile_0.1\", \"eval_fairness_grou...</td>\n",
       "      <td>27.64042</td>\n",
       "      <td>89710</td>\n",
       "      <td>1.0</td>\n",
       "      <td>0.082231</td>\n",
       "      <td>0.914130</td>\n",
       "      <td>0.077476</td>\n",
       "      <td>0.919274</td>\n",
       "      <td>...</td>\n",
       "      <td>NaN</td>\n",
       "      <td>NaN</td>\n",
       "      <td>NaN</td>\n",
       "      <td>NaN</td>\n",
       "      <td>NaN</td>\n",
       "      <td>NaN</td>\n",
       "      <td>NaN</td>\n",
       "      <td>NaN</td>\n",
       "      <td>NaN</td>\n",
       "      <td>NaN</td>\n",
       "    </tr>\n",
       "    <tr>\n",
       "      <th>0</th>\n",
       "      <td>15</td>\n",
       "      <td>81748a1d026bd9091f7083285e1ef244</td>\n",
       "      <td>{\"cutoff\": \"quantile_0.1\", \"eval_fairness_grou...</td>\n",
       "      <td>27.64042</td>\n",
       "      <td>89710</td>\n",
       "      <td>1.0</td>\n",
       "      <td>0.082231</td>\n",
       "      <td>0.914130</td>\n",
       "      <td>0.077476</td>\n",
       "      <td>0.919274</td>\n",
       "      <td>...</td>\n",
       "      <td>0.117232</td>\n",
       "      <td>0.138892</td>\n",
       "      <td>0.957627</td>\n",
       "      <td>0.875396</td>\n",
       "      <td>0.024071</td>\n",
       "      <td>0.072648</td>\n",
       "      <td>0.959737</td>\n",
       "      <td>0.882261</td>\n",
       "      <td>20540.0</td>\n",
       "      <td>69170.0</td>\n",
       "    </tr>\n",
       "    <tr>\n",
       "      <th>0</th>\n",
       "      <td>15</td>\n",
       "      <td>81748a1d026bd9091f7083285e1ef244</td>\n",
       "      <td>{\"cutoff\": \"quantile_0.25\", \"eval_fairness_gro...</td>\n",
       "      <td>27.64042</td>\n",
       "      <td>89710</td>\n",
       "      <td>1.0</td>\n",
       "      <td>0.208410</td>\n",
       "      <td>0.767084</td>\n",
       "      <td>0.194108</td>\n",
       "      <td>0.784243</td>\n",
       "      <td>...</td>\n",
       "      <td>NaN</td>\n",
       "      <td>NaN</td>\n",
       "      <td>NaN</td>\n",
       "      <td>NaN</td>\n",
       "      <td>NaN</td>\n",
       "      <td>NaN</td>\n",
       "      <td>NaN</td>\n",
       "      <td>NaN</td>\n",
       "      <td>NaN</td>\n",
       "      <td>NaN</td>\n",
       "    </tr>\n",
       "    <tr>\n",
       "      <th>0</th>\n",
       "      <td>15</td>\n",
       "      <td>81748a1d026bd9091f7083285e1ef244</td>\n",
       "      <td>{\"cutoff\": \"quantile_0.25\", \"eval_fairness_gro...</td>\n",
       "      <td>27.64042</td>\n",
       "      <td>89710</td>\n",
       "      <td>1.0</td>\n",
       "      <td>0.208410</td>\n",
       "      <td>0.767084</td>\n",
       "      <td>0.194108</td>\n",
       "      <td>0.784243</td>\n",
       "      <td>...</td>\n",
       "      <td>0.120082</td>\n",
       "      <td>0.155728</td>\n",
       "      <td>0.894783</td>\n",
       "      <td>0.686373</td>\n",
       "      <td>0.062922</td>\n",
       "      <td>0.168490</td>\n",
       "      <td>0.899659</td>\n",
       "      <td>0.705552</td>\n",
       "      <td>20540.0</td>\n",
       "      <td>69170.0</td>\n",
       "    </tr>\n",
       "  </tbody>\n",
       "</table>\n",
       "<p>4 rows × 50 columns</p>\n",
       "</div>"
      ],
      "text/plain": [
       "  run_no                       universe_id  \\\n",
       "0     15  81748a1d026bd9091f7083285e1ef244   \n",
       "0     15  81748a1d026bd9091f7083285e1ef244   \n",
       "0     15  81748a1d026bd9091f7083285e1ef244   \n",
       "0     15  81748a1d026bd9091f7083285e1ef244   \n",
       "\n",
       "                                   universe_settings  execution_time  \\\n",
       "0  {\"cutoff\": \"quantile_0.1\", \"eval_fairness_grou...        27.64042   \n",
       "0  {\"cutoff\": \"quantile_0.1\", \"eval_fairness_grou...        27.64042   \n",
       "0  {\"cutoff\": \"quantile_0.25\", \"eval_fairness_gro...        27.64042   \n",
       "0  {\"cutoff\": \"quantile_0.25\", \"eval_fairness_gro...        27.64042   \n",
       "\n",
       "   test_size_n  test_size_frac  fair_main_equalized_odds_difference  \\\n",
       "0        89710             1.0                             0.082231   \n",
       "0        89710             1.0                             0.082231   \n",
       "0        89710             1.0                             0.208410   \n",
       "0        89710             1.0                             0.208410   \n",
       "\n",
       "   fair_main_equalized_odds_ratio  fair_main_demographic_parity_difference  \\\n",
       "0                        0.914130                                 0.077476   \n",
       "0                        0.914130                                 0.077476   \n",
       "0                        0.767084                                 0.194108   \n",
       "0                        0.767084                                 0.194108   \n",
       "\n",
       "   fair_main_demographic_parity_ratio  ...  perf_grp_precision_0  \\\n",
       "0                            0.919274  ...                   NaN   \n",
       "0                            0.919274  ...              0.117232   \n",
       "0                            0.784243  ...                   NaN   \n",
       "0                            0.784243  ...              0.120082   \n",
       "\n",
       "   perf_grp_precision_1  perf_grp_false positive rate_0  \\\n",
       "0                   NaN                             NaN   \n",
       "0              0.138892                        0.957627   \n",
       "0                   NaN                             NaN   \n",
       "0              0.155728                        0.894783   \n",
       "\n",
       "   perf_grp_false positive rate_1  perf_grp_false negative rate_0  \\\n",
       "0                             NaN                             NaN   \n",
       "0                        0.875396                        0.024071   \n",
       "0                             NaN                             NaN   \n",
       "0                        0.686373                        0.062922   \n",
       "\n",
       "   perf_grp_false negative rate_1  perf_grp_selection rate_0  \\\n",
       "0                             NaN                        NaN   \n",
       "0                        0.072648                   0.959737   \n",
       "0                             NaN                        NaN   \n",
       "0                        0.168490                   0.899659   \n",
       "\n",
       "   perf_grp_selection rate_1  perf_grp_count_0  perf_grp_count_1  \n",
       "0                        NaN               NaN               NaN  \n",
       "0                   0.882261           20540.0           69170.0  \n",
       "0                        NaN               NaN               NaN  \n",
       "0                   0.705552           20540.0           69170.0  \n",
       "\n",
       "[4 rows x 50 columns]"
      ]
     },
     "execution_count": 66,
     "metadata": {},
     "output_type": "execute_result"
    }
   ],
   "source": [
    "final_output = universe_analysis.generate_final_output(\n",
    "    y_pred_prob=probs_test,\n",
    "    y_test=y_true,\n",
    "    org_test=org_test,\n",
    "    filter_data=filter_sub_universe_data,\n",
    "    cp_metrics_df=cp_metrics_df,\n",
    "    save=True,\n",
    ")\n",
    "final_output"
   ]
  }
 ],
 "metadata": {
  "celltoolbar": "Tags",
  "kernelspec": {
   "display_name": "Python (CMA Fairness)",
   "language": "python",
   "name": "cma_fair_env"
  },
  "language_info": {
   "codemirror_mode": {
    "name": "ipython",
    "version": 3
   },
   "file_extension": ".py",
   "mimetype": "text/x-python",
   "name": "python",
   "nbconvert_exporter": "python",
   "pygments_lexer": "ipython3",
   "version": "3.10.12"
  },
  "papermill": {
   "default_parameters": {},
   "duration": 43.442979,
   "end_time": "2025-08-05T16:25:43.558840",
   "environment_variables": {},
   "exception": null,
   "input_path": "universe_analysis.ipynb",
   "output_path": "output/runs/15/notebooks/m_15-81748a1d026bd9091f7083285e1ef244.ipynb",
   "parameters": {
    "output_dir": "output",
    "run_no": "15",
    "seed": "2023",
    "universe": "{\"cutoff\": [\"quantile_0.1\", \"quantile_0.25\"], \"eval_fairness_grouping\": [\"majority-minority\", \"nationality-all\"], \"exclude_features\": \"nationality\", \"exclude_subgroups\": \"drop-non-german\", \"model\": \"penalized_logreg\", \"scale\": \"do-not-scale\", \"training_size\": \"1k\", \"training_year\": \"2012_14\"}",
    "universe_id": "81748a1d026bd9091f7083285e1ef244"
   },
   "start_time": "2025-08-05T16:25:00.115861",
   "version": "2.6.0"
  }
 },
 "nbformat": 4,
 "nbformat_minor": 5
}